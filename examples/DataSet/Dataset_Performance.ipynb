{
 "cells": [
  {
   "cell_type": "markdown",
   "metadata": {},
   "source": [
    "# DataSet Performance\n",
    "\n",
    "This notebook shows the trade-off between inserting data into a database row-by-row and as binary blobs. Inserting the data row-by-row means that we have direct access to all the data and may perform queries directly on the values of the data. On the other hand, as we shall see, this is much slower than inserting the data directly as binary blobs."
   ]
  },
  {
   "cell_type": "markdown",
   "metadata": {},
   "source": [
    "First, we choose a new location for the database to ensure that we don't add a bunch of benchmarking data to the default one."
   ]
  },
  {
   "cell_type": "code",
   "execution_count": 1,
   "metadata": {
    "execution": {
     "iopub.execute_input": "2021-02-12T07:56:00.581282Z",
     "iopub.status.busy": "2021-02-12T07:56:00.580666Z",
     "iopub.status.idle": "2021-02-12T07:56:01.686236Z",
     "shell.execute_reply": "2021-02-12T07:56:01.686738Z"
    }
   },
   "outputs": [
    {
     "name": "stdout",
     "output_type": "stream",
     "text": [
      "Logging hadn't been started.\n",
      "Activating auto-logging. Current session state plus future input saved.\n",
      "Filename       : /home/vsts/.qcodes/logs/command_history.log\n",
      "Mode           : append\n",
      "Output logging : True\n",
      "Raw input log  : False\n",
      "Timestamping   : True\n",
      "State          : active\n"
     ]
    },
    {
     "name": "stdout",
     "output_type": "stream",
     "text": [
      "Qcodes Logfile : /home/vsts/.qcodes/logs/210212-7021-qcodes.log\n"
     ]
    }
   ],
   "source": [
    "import os\n",
    "cwd = os.getcwd()\n",
    "import qcodes as qc\n",
    "qc.config[\"core\"][\"db_location\"] = os.path.join(cwd, 'testing.db')\n"
   ]
  },
  {
   "cell_type": "code",
   "execution_count": 2,
   "metadata": {
    "execution": {
     "iopub.execute_input": "2021-02-12T07:56:01.695690Z",
     "iopub.status.busy": "2021-02-12T07:56:01.692908Z",
     "iopub.status.idle": "2021-02-12T07:56:01.890581Z",
     "shell.execute_reply": "2021-02-12T07:56:01.889702Z"
    }
   },
   "outputs": [],
   "source": [
    "%matplotlib inline\n",
    "import time\n",
    "import matplotlib.pyplot as plt\n",
    "import numpy as np\n",
    "\n",
    "import qcodes as qc\n",
    "from qcodes.instrument.parameter import ManualParameter\n",
    "from qcodes.dataset.experiment_container import (Experiment,\n",
    "                                                 load_last_experiment,\n",
    "                                                 new_experiment)\n",
    "from qcodes.dataset.sqlite.database import initialise_database\n",
    "from qcodes import load_or_create_experiment\n",
    "from qcodes.dataset.measurements import Measurement"
   ]
  },
  {
   "cell_type": "code",
   "execution_count": 3,
   "metadata": {
    "execution": {
     "iopub.execute_input": "2021-02-12T07:56:01.894741Z",
     "iopub.status.busy": "2021-02-12T07:56:01.894112Z",
     "iopub.status.idle": "2021-02-12T07:56:02.027506Z",
     "shell.execute_reply": "2021-02-12T07:56:02.028089Z"
    }
   },
   "outputs": [
    {
     "name": "stdout",
     "output_type": "stream",
     "text": [
      "\r",
      "0it [00:00, ?it/s]"
     ]
    },
    {
     "name": "stdout",
     "output_type": "stream",
     "text": [
      "\r",
      "Upgrading database; v0 -> v1: : 0it [00:00, ?it/s]"
     ]
    },
    {
     "name": "stdout",
     "output_type": "stream",
     "text": [
      "\r",
      "Upgrading database; v0 -> v1: : 0it [00:00, ?it/s]"
     ]
    },
    {
     "name": "stdout",
     "output_type": "stream",
     "text": [
      "\n",
      "\r",
      "  0%|          | 0/1 [00:00<?, ?it/s]"
     ]
    },
    {
     "name": "stdout",
     "output_type": "stream",
     "text": [
      "\r",
      "Upgrading database; v1 -> v2:   0%|          | 0/1 [00:00<?, ?it/s]"
     ]
    },
    {
     "name": "stdout",
     "output_type": "stream",
     "text": [
      "\r",
      "Upgrading database; v1 -> v2: 100%|██████████| 1/1 [00:00<00:00, 421.24it/s]"
     ]
    },
    {
     "name": "stdout",
     "output_type": "stream",
     "text": [
      "\n",
      "\r",
      "0it [00:00, ?it/s]"
     ]
    },
    {
     "name": "stdout",
     "output_type": "stream",
     "text": [
      "\r",
      "Upgrading database; v2 -> v3: : 0it [00:00, ?it/s]"
     ]
    },
    {
     "name": "stdout",
     "output_type": "stream",
     "text": [
      "\r",
      "Upgrading database; v2 -> v3: : 0it [00:00, ?it/s]"
     ]
    },
    {
     "name": "stdout",
     "output_type": "stream",
     "text": [
      "\n",
      "\r",
      "0it [00:00, ?it/s]"
     ]
    },
    {
     "name": "stdout",
     "output_type": "stream",
     "text": [
      "\r",
      "Upgrading database; v3 -> v4: : 0it [00:00, ?it/s]"
     ]
    },
    {
     "name": "stdout",
     "output_type": "stream",
     "text": [
      "\r",
      "Upgrading database; v3 -> v4: : 0it [00:00, ?it/s]"
     ]
    },
    {
     "name": "stdout",
     "output_type": "stream",
     "text": [
      "\n",
      "\r",
      "  0%|          | 0/1 [00:00<?, ?it/s]"
     ]
    },
    {
     "name": "stdout",
     "output_type": "stream",
     "text": [
      "\r",
      "Upgrading database; v4 -> v5:   0%|          | 0/1 [00:00<?, ?it/s]"
     ]
    },
    {
     "name": "stdout",
     "output_type": "stream",
     "text": [
      "\r",
      "Upgrading database; v4 -> v5: 100%|██████████| 1/1 [00:00<00:00, 331.02it/s]"
     ]
    },
    {
     "name": "stdout",
     "output_type": "stream",
     "text": [
      "\n",
      "\r",
      "0it [00:00, ?it/s]"
     ]
    },
    {
     "name": "stdout",
     "output_type": "stream",
     "text": [
      "\r",
      "Upgrading database; v5 -> v6: : 0it [00:00, ?it/s]"
     ]
    },
    {
     "name": "stdout",
     "output_type": "stream",
     "text": [
      "\r",
      "Upgrading database; v5 -> v6: : 0it [00:00, ?it/s]"
     ]
    },
    {
     "name": "stdout",
     "output_type": "stream",
     "text": [
      "\n",
      "\r",
      "  0%|          | 0/1 [00:00<?, ?it/s]"
     ]
    },
    {
     "name": "stdout",
     "output_type": "stream",
     "text": [
      "\r",
      "Upgrading database; v6 -> v7:   0%|          | 0/1 [00:00<?, ?it/s]"
     ]
    },
    {
     "name": "stdout",
     "output_type": "stream",
     "text": [
      "\r",
      "Upgrading database; v6 -> v7: 100%|██████████| 1/1 [00:00<00:00, 225.35it/s]"
     ]
    },
    {
     "name": "stdout",
     "output_type": "stream",
     "text": [
      "\n",
      "\r",
      "  0%|          | 0/1 [00:00<?, ?it/s]"
     ]
    },
    {
     "name": "stdout",
     "output_type": "stream",
     "text": [
      "\r",
      "Upgrading database; v7 -> v8:   0%|          | 0/1 [00:00<?, ?it/s]"
     ]
    },
    {
     "name": "stdout",
     "output_type": "stream",
     "text": [
      "\r",
      "Upgrading database; v7 -> v8: 100%|██████████| 1/1 [00:00<00:00, 308.43it/s]"
     ]
    },
    {
     "name": "stdout",
     "output_type": "stream",
     "text": [
      "\n",
      "\r",
      "  0%|          | 0/1 [00:00<?, ?it/s]"
     ]
    },
    {
     "name": "stdout",
     "output_type": "stream",
     "text": [
      "\r",
      "Upgrading database; v8 -> v9:   0%|          | 0/1 [00:00<?, ?it/s]"
     ]
    },
    {
     "name": "stdout",
     "output_type": "stream",
     "text": [
      "\r",
      "Upgrading database; v8 -> v9: 100%|██████████| 1/1 [00:00<00:00, 490.33it/s]"
     ]
    },
    {
     "name": "stdout",
     "output_type": "stream",
     "text": [
      "\n"
     ]
    }
   ],
   "source": [
    "initialise_database()\n",
    "exp = load_or_create_experiment(experiment_name='tutorial_exp', sample_name=\"no sample\")"
   ]
  },
  {
   "cell_type": "markdown",
   "metadata": {},
   "source": [
    "Here, we define a simple function to benchmark the time it takes to insert n points with either numeric or array data type.\n",
    "We will compare both the time used to call ``add_result`` and the time used for the full measurement."
   ]
  },
  {
   "cell_type": "code",
   "execution_count": 4,
   "metadata": {
    "execution": {
     "iopub.execute_input": "2021-02-12T07:56:02.037176Z",
     "iopub.status.busy": "2021-02-12T07:56:02.036496Z",
     "iopub.status.idle": "2021-02-12T07:56:02.040300Z",
     "shell.execute_reply": "2021-02-12T07:56:02.040827Z"
    }
   },
   "outputs": [],
   "source": [
    "def insert_data(paramtype, npoints, nreps=1):\n",
    "\n",
    "    meas = Measurement(exp=exp)\n",
    "\n",
    "    x1 = ManualParameter('x1')\n",
    "    x2 = ManualParameter('x2')\n",
    "    x3 = ManualParameter('x3')\n",
    "    y1 = ManualParameter('y1')\n",
    "    y2 = ManualParameter('y2')\n",
    "\n",
    "    meas.register_parameter(x1, paramtype=paramtype)\n",
    "    meas.register_parameter(x2, paramtype=paramtype)\n",
    "    meas.register_parameter(x3, paramtype=paramtype)\n",
    "    meas.register_parameter(y1, setpoints=[x1, x2, x3],\n",
    "                            paramtype=paramtype)\n",
    "    meas.register_parameter(y2, setpoints=[x1, x2, x3],\n",
    "                            paramtype=paramtype)\n",
    "    start = time.perf_counter()\n",
    "    with meas.run() as datasaver:\n",
    "        start_adding = time.perf_counter()\n",
    "        for i in range(nreps):\n",
    "            datasaver.add_result((x1, np.random.rand(npoints)),\n",
    "                                 (x2, np.random.rand(npoints)),\n",
    "                                 (x3, np.random.rand(npoints)),\n",
    "                                 (y1, np.random.rand(npoints)),\n",
    "                                 (y2, np.random.rand(npoints)))\n",
    "        stop_adding = time.perf_counter()\n",
    "        run_id = datasaver.run_id\n",
    "    stop = time.perf_counter()\n",
    "    tot_time = stop - start\n",
    "    add_time = stop_adding - start_adding\n",
    "    return tot_time, add_time, run_id"
   ]
  },
  {
   "cell_type": "markdown",
   "metadata": {},
   "source": [
    "## Comparison between numeric/array data and binary blob"
   ]
  },
  {
   "cell_type": "markdown",
   "metadata": {},
   "source": [
    "### Case1: Short experiment time"
   ]
  },
  {
   "cell_type": "code",
   "execution_count": 5,
   "metadata": {
    "execution": {
     "iopub.execute_input": "2021-02-12T07:56:02.047725Z",
     "iopub.status.busy": "2021-02-12T07:56:02.046992Z",
     "iopub.status.idle": "2021-02-12T07:56:02.920701Z",
     "shell.execute_reply": "2021-02-12T07:56:02.920227Z"
    }
   },
   "outputs": [
    {
     "name": "stdout",
     "output_type": "stream",
     "text": [
      "Starting experimental run with id: 1. \n",
      "Starting experimental run with id: 2. \n",
      "Starting experimental run with id: 3. \n"
     ]
    },
    {
     "name": "stdout",
     "output_type": "stream",
     "text": [
      "Starting experimental run with id: 4. "
     ]
    },
    {
     "name": "stdout",
     "output_type": "stream",
     "text": [
      "\n"
     ]
    },
    {
     "name": "stdout",
     "output_type": "stream",
     "text": [
      "Starting experimental run with id: 5. \n"
     ]
    },
    {
     "name": "stdout",
     "output_type": "stream",
     "text": [
      "Starting experimental run with id: 6. \n",
      "Starting experimental run with id: 7. \n"
     ]
    },
    {
     "name": "stdout",
     "output_type": "stream",
     "text": [
      "Starting experimental run with id: 8. \n"
     ]
    },
    {
     "name": "stdout",
     "output_type": "stream",
     "text": [
      "Starting experimental run with id: 9. \n"
     ]
    },
    {
     "name": "stdout",
     "output_type": "stream",
     "text": [
      "Starting experimental run with id: 10. \n",
      "Starting experimental run with id: 11. \n"
     ]
    },
    {
     "name": "stdout",
     "output_type": "stream",
     "text": [
      "Starting experimental run with id: 12. \n",
      "Starting experimental run with id: 13. \n"
     ]
    },
    {
     "name": "stdout",
     "output_type": "stream",
     "text": [
      "Starting experimental run with id: 14. \n"
     ]
    }
   ],
   "source": [
    "sizes = [1,500,1000,2000,3000,4000,5000]\n",
    "t_numeric = []\n",
    "t_numeric_add = []\n",
    "t_array = []\n",
    "t_array_add = []\n",
    "for size in sizes:\n",
    "    tn, tna, run_id_n =  insert_data('numeric', size)\n",
    "    t_numeric.append(tn)\n",
    "    t_numeric_add.append(tna)\n",
    "\n",
    "    ta, taa, run_id_a =  insert_data('array', size)\n",
    "    t_array.append(ta)\n",
    "    t_array_add.append(taa)"
   ]
  },
  {
   "cell_type": "code",
   "execution_count": 6,
   "metadata": {
    "execution": {
     "iopub.execute_input": "2021-02-12T07:56:02.943635Z",
     "iopub.status.busy": "2021-02-12T07:56:02.941126Z",
     "iopub.status.idle": "2021-02-12T07:56:03.165667Z",
     "shell.execute_reply": "2021-02-12T07:56:03.165157Z"
    }
   },
   "outputs": [
    {
     "data": {
      "image/png": "[encoded data removed]",
      "text/plain": [
       "<Figure size 432x288 with 1 Axes>"
      ]
     },
     "metadata": {
      "needs_background": "light"
     },
     "output_type": "display_data"
    }
   ],
   "source": [
    "fig, ax = plt.subplots(1,1)\n",
    "ax.plot(sizes, t_numeric, 'o-', label='Inserting row-by-row')\n",
    "ax.plot(sizes, t_numeric_add, 'o-', label='Inserting row-by-row: add_result only')\n",
    "ax.plot(sizes, t_array, 'd-', label='Inserting as binary blob')\n",
    "ax.plot(sizes, t_array_add, 'd-', label='Inserting as binary blob: add_result only')\n",
    "ax.legend()\n",
    "ax.set_xlabel('Array length')\n",
    "ax.set_ylabel('Time (s)')\n",
    "fig.tight_layout()"
   ]
  },
  {
   "cell_type": "markdown",
   "metadata": {},
   "source": [
    "As shown in the latter figure, the time to setup and and close the experiment is approximately 0.4 sec. In case of small array sizes, the difference between inserting values of data as arrays and inserting them row-by-row is relatively unimportant. At larger array sizes, i.e. above 10000 points, the cost of writing data as individual datapoints starts to become important.\n"
   ]
  },
  {
   "cell_type": "markdown",
   "metadata": {},
   "source": [
    "### Case2: Long experiment time "
   ]
  },
  {
   "cell_type": "code",
   "execution_count": 7,
   "metadata": {
    "execution": {
     "iopub.execute_input": "2021-02-12T07:56:03.173618Z",
     "iopub.status.busy": "2021-02-12T07:56:03.172989Z",
     "iopub.status.idle": "2021-02-12T07:57:01.060842Z",
     "shell.execute_reply": "2021-02-12T07:57:01.059895Z"
    }
   },
   "outputs": [
    {
     "name": "stdout",
     "output_type": "stream",
     "text": [
      "Starting experimental run with id: 15. \n",
      "Starting experimental run with id: 16. \n"
     ]
    },
    {
     "name": "stdout",
     "output_type": "stream",
     "text": [
      "Starting experimental run with id: 17. \n"
     ]
    },
    {
     "name": "stdout",
     "output_type": "stream",
     "text": [
      "Starting experimental run with id: 18. \n"
     ]
    },
    {
     "name": "stdout",
     "output_type": "stream",
     "text": [
      "Starting experimental run with id: 19. \n"
     ]
    },
    {
     "name": "stdout",
     "output_type": "stream",
     "text": [
      "Starting experimental run with id: 20. \n"
     ]
    },
    {
     "name": "stdout",
     "output_type": "stream",
     "text": [
      "Starting experimental run with id: 21. \n"
     ]
    },
    {
     "name": "stdout",
     "output_type": "stream",
     "text": [
      "Starting experimental run with id: 22. \n"
     ]
    },
    {
     "name": "stdout",
     "output_type": "stream",
     "text": [
      "Starting experimental run with id: 23. \n"
     ]
    },
    {
     "name": "stdout",
     "output_type": "stream",
     "text": [
      "Starting experimental run with id: 24. \n"
     ]
    },
    {
     "name": "stdout",
     "output_type": "stream",
     "text": [
      "Starting experimental run with id: 25. \n"
     ]
    },
    {
     "name": "stdout",
     "output_type": "stream",
     "text": [
      "Starting experimental run with id: 26. \n"
     ]
    },
    {
     "name": "stdout",
     "output_type": "stream",
     "text": [
      "Starting experimental run with id: 27. \n"
     ]
    },
    {
     "name": "stdout",
     "output_type": "stream",
     "text": [
      "Starting experimental run with id: 28. \n"
     ]
    }
   ],
   "source": [
    "sizes = [1,500,1000,2000,3000,4000,5000]\n",
    "nreps = 100\n",
    "t_numeric = []\n",
    "t_numeric_add = []\n",
    "t_numeric_run_ids = []\n",
    "t_array = []\n",
    "t_array_add = []\n",
    "t_array_run_ids = []\n",
    "for size in sizes:\n",
    "    tn, tna, run_id_n =  insert_data('numeric', size, nreps=nreps)\n",
    "    t_numeric.append(tn)\n",
    "    t_numeric_add.append(tna)\n",
    "    t_numeric_run_ids.append(run_id_n)\n",
    "\n",
    "    ta, taa, run_id_a =  insert_data('array', size, nreps=nreps)\n",
    "    t_array.append(ta)\n",
    "    t_array_add.append(taa)\n",
    "    t_array_run_ids.append(run_id_a)"
   ]
  },
  {
   "cell_type": "code",
   "execution_count": 8,
   "metadata": {
    "execution": {
     "iopub.execute_input": "2021-02-12T07:57:01.096444Z",
     "iopub.status.busy": "2021-02-12T07:57:01.088366Z",
     "iopub.status.idle": "2021-02-12T07:57:01.310093Z",
     "shell.execute_reply": "2021-02-12T07:57:01.309447Z"
    },
    "scrolled": true
   },
   "outputs": [
    {
     "data": {
      "image/png": "[encoded data removed]",
      "text/plain": [
       "<Figure size 432x288 with 1 Axes>"
      ]
     },
     "metadata": {
      "needs_background": "light"
     },
     "output_type": "display_data"
    }
   ],
   "source": [
    "fig, ax = plt.subplots(1,1)\n",
    "ax.plot(sizes, t_numeric, 'o-', label='Inserting row-by-row')\n",
    "ax.plot(sizes, t_numeric_add, 'o-', label='Inserting row-by-row: add_result only')\n",
    "ax.plot(sizes, t_array, 'd-', label='Inserting as binary blob')\n",
    "ax.plot(sizes, t_array_add, 'd-', label='Inserting as binary blob: add_result only')\n",
    "ax.legend()\n",
    "ax.set_xlabel('Array length')\n",
    "ax.set_ylabel('Time (s)')\n",
    "fig.tight_layout()"
   ]
  },
  {
   "cell_type": "markdown",
   "metadata": {},
   "source": [
    "However, as we increase the length of the experiment, as seen here by repeating the insertion 100 times, we see a big difference between inserting values of the data row-by-row and inserting it as a binary blob."
   ]
  },
  {
   "cell_type": "markdown",
   "metadata": {},
   "source": [
    "## Loading the data "
   ]
  },
  {
   "cell_type": "code",
   "execution_count": 9,
   "metadata": {
    "execution": {
     "iopub.execute_input": "2021-02-12T07:57:01.315360Z",
     "iopub.status.busy": "2021-02-12T07:57:01.314727Z",
     "iopub.status.idle": "2021-02-12T07:57:01.319842Z",
     "shell.execute_reply": "2021-02-12T07:57:01.319047Z"
    }
   },
   "outputs": [],
   "source": [
    "from qcodes.dataset.data_set import load_by_id\n",
    "from qcodes.dataset.data_export import get_data_by_id"
   ]
  },
  {
   "cell_type": "markdown",
   "metadata": {},
   "source": [
    "As usual you can load the data by using the ``load_by_id`` function but you will notice that the different storage methods\n",
    "are reflected in shape of the data as it is retrieved. "
   ]
  },
  {
   "cell_type": "code",
   "execution_count": 10,
   "metadata": {
    "execution": {
     "iopub.execute_input": "2021-02-12T07:57:01.323797Z",
     "iopub.status.busy": "2021-02-12T07:57:01.323202Z",
     "iopub.status.idle": "2021-02-12T07:57:01.326955Z",
     "shell.execute_reply": "2021-02-12T07:57:01.327493Z"
    }
   },
   "outputs": [],
   "source": [
    "run_id_n = t_numeric_run_ids[0]\n",
    "run_id_a = t_array_run_ids[0]"
   ]
  },
  {
   "cell_type": "code",
   "execution_count": 11,
   "metadata": {
    "execution": {
     "iopub.execute_input": "2021-02-12T07:57:01.332161Z",
     "iopub.status.busy": "2021-02-12T07:57:01.331416Z",
     "iopub.status.idle": "2021-02-12T07:57:01.344745Z",
     "shell.execute_reply": "2021-02-12T07:57:01.345226Z"
    },
    "scrolled": true
   },
   "outputs": [
    {
     "data": {
      "text/plain": [
       "{'x1': {'x1': array([3.75748362e-01, 3.75748362e-01, 1.49639126e-02, 1.49639126e-02,\n",
       "         5.90857305e-01, 5.90857305e-01, 5.37303098e-01, 5.37303098e-01,\n",
       "         8.75361702e-01, 8.75361702e-01, 3.85764673e-01, 3.85764673e-01,\n",
       "         3.68207233e-01, 3.68207233e-01, 6.82554553e-01, 6.82554553e-01,\n",
       "         9.79929402e-01, 9.79929402e-01, 4.97315466e-01, 4.97315466e-01,\n",
       "         6.36484814e-01, 6.36484814e-01, 7.17739497e-01, 7.17739497e-01,\n",
       "         2.45061810e-01, 2.45061810e-01, 5.57424807e-01, 5.57424807e-01,\n",
       "         7.89243972e-01, 7.89243972e-01, 9.64607226e-01, 9.64607226e-01,\n",
       "         3.78233532e-01, 3.78233532e-01, 9.18301263e-02, 9.18301263e-02,\n",
       "         2.15437599e-01, 2.15437599e-01, 3.67751429e-01, 3.67751429e-01,\n",
       "         4.48368974e-01, 4.48368974e-01, 9.96098470e-01, 9.96098470e-01,\n",
       "         3.33614114e-01, 3.33614114e-01, 5.88524637e-01, 5.88524637e-01,\n",
       "         9.26278063e-03, 9.26278063e-03, 3.54911789e-01, 3.54911789e-01,\n",
       "         1.59205628e-01, 1.59205628e-01, 9.08361354e-02, 9.08361354e-02,\n",
       "         9.14953051e-01, 9.14953051e-01, 5.58157517e-01, 5.58157517e-01,\n",
       "         7.74444323e-01, 7.74444323e-01, 9.96030158e-01, 9.96030158e-01,\n",
       "         7.06355657e-01, 7.06355657e-01, 3.66395895e-01, 3.66395895e-01,\n",
       "         9.22457877e-01, 9.22457877e-01, 4.84777675e-01, 4.84777675e-01,\n",
       "         6.77819860e-02, 6.77819860e-02, 1.03566823e-01, 1.03566823e-01,\n",
       "         7.75342355e-01, 7.75342355e-01, 2.85096846e-01, 2.85096846e-01,\n",
       "         7.58449171e-02, 7.58449171e-02, 1.23010115e-01, 1.23010115e-01,\n",
       "         1.68438559e-01, 1.68438559e-01, 7.85015623e-01, 7.85015623e-01,\n",
       "         2.55532789e-01, 2.55532789e-01, 2.41819486e-02, 2.41819486e-02,\n",
       "         7.85460745e-01, 7.85460745e-01, 2.42063936e-02, 2.42063936e-02,\n",
       "         9.08932022e-01, 9.08932022e-01, 4.50887143e-01, 4.50887143e-01,\n",
       "         6.75027998e-01, 6.75027998e-01, 1.15532436e-01, 1.15532436e-01,\n",
       "         7.98186180e-01, 7.98186180e-01, 1.45836578e-01, 1.45836578e-01,\n",
       "         6.63806360e-01, 6.63806360e-01, 5.50251832e-01, 5.50251832e-01,\n",
       "         3.95424462e-01, 3.95424462e-01, 8.66311713e-01, 8.66311713e-01,\n",
       "         8.41254237e-04, 8.41254237e-04, 6.58022430e-01, 6.58022430e-01,\n",
       "         2.19250889e-01, 2.19250889e-01, 2.06486609e-01, 2.06486609e-01,\n",
       "         7.67081111e-01, 7.67081111e-01, 9.64651863e-02, 9.64651863e-02,\n",
       "         8.95750893e-01, 8.95750893e-01, 1.79271938e-01, 1.79271938e-01,\n",
       "         4.14678744e-01, 4.14678744e-01, 8.76973495e-01, 8.76973495e-01,\n",
       "         6.48170145e-02, 6.48170145e-02, 2.62199631e-01, 2.62199631e-01,\n",
       "         9.14023032e-01, 9.14023032e-01, 8.27640379e-01, 8.27640379e-01,\n",
       "         5.90356705e-01, 5.90356705e-01, 5.99921856e-01, 5.99921856e-01,\n",
       "         8.28428234e-02, 8.28428234e-02, 7.75244653e-01, 7.75244653e-01,\n",
       "         5.79624639e-01, 5.79624639e-01, 3.07130617e-01, 3.07130617e-01,\n",
       "         2.28839619e-01, 2.28839619e-01, 2.64325324e-01, 2.64325324e-01,\n",
       "         6.83211774e-01, 6.83211774e-01, 4.40464353e-01, 4.40464353e-01,\n",
       "         4.37285736e-01, 4.37285736e-01, 1.83600807e-01, 1.83600807e-01,\n",
       "         5.32525727e-02, 5.32525727e-02, 5.79389753e-01, 5.79389753e-01,\n",
       "         8.57700389e-01, 8.57700389e-01, 7.68456154e-01, 7.68456154e-01,\n",
       "         3.47216156e-01, 3.47216156e-01, 7.14968604e-01, 7.14968604e-01,\n",
       "         6.49254514e-01, 6.49254514e-01, 2.71434560e-01, 2.71434560e-01,\n",
       "         5.80189688e-01, 5.80189688e-01, 4.65426632e-01, 4.65426632e-01,\n",
       "         9.90049949e-01, 9.90049949e-01, 7.85149778e-01, 7.85149778e-01,\n",
       "         5.59126553e-01, 5.59126553e-01, 1.89504479e-01, 1.89504479e-01,\n",
       "         9.42803575e-01, 9.42803575e-01, 2.62195305e-01, 2.62195305e-01])}}"
      ]
     },
     "execution_count": 1,
     "metadata": {},
     "output_type": "execute_result"
    }
   ],
   "source": [
    "ds = load_by_id(run_id_n)\n",
    "ds.get_parameter_data('x1')"
   ]
  },
  {
   "cell_type": "markdown",
   "metadata": {},
   "source": [
    "And a dataset stored as binary arrays"
   ]
  },
  {
   "cell_type": "code",
   "execution_count": 12,
   "metadata": {
    "execution": {
     "iopub.execute_input": "2021-02-12T07:57:01.349728Z",
     "iopub.status.busy": "2021-02-12T07:57:01.349152Z",
     "iopub.status.idle": "2021-02-12T07:57:01.416013Z",
     "shell.execute_reply": "2021-02-12T07:57:01.416667Z"
    },
    "scrolled": true
   },
   "outputs": [
    {
     "data": {
      "text/plain": [
       "{'x1': {'x1': array([[0.02134456],\n",
       "         [0.02134456],\n",
       "         [0.79858712],\n",
       "         [0.79858712],\n",
       "         [0.60066793],\n",
       "         [0.60066793],\n",
       "         [0.43611289],\n",
       "         [0.43611289],\n",
       "         [0.28584499],\n",
       "         [0.28584499],\n",
       "         [0.35059829],\n",
       "         [0.35059829],\n",
       "         [0.81306391],\n",
       "         [0.81306391],\n",
       "         [0.49241615],\n",
       "         [0.49241615],\n",
       "         [0.70696493],\n",
       "         [0.70696493],\n",
       "         [0.8299989 ],\n",
       "         [0.8299989 ],\n",
       "         [0.73632876],\n",
       "         [0.73632876],\n",
       "         [0.19744737],\n",
       "         [0.19744737],\n",
       "         [0.97264128],\n",
       "         [0.97264128],\n",
       "         [0.12300546],\n",
       "         [0.12300546],\n",
       "         [0.29671736],\n",
       "         [0.29671736],\n",
       "         [0.16964894],\n",
       "         [0.16964894],\n",
       "         [0.19105042],\n",
       "         [0.19105042],\n",
       "         [0.39233242],\n",
       "         [0.39233242],\n",
       "         [0.5157494 ],\n",
       "         [0.5157494 ],\n",
       "         [0.95960574],\n",
       "         [0.95960574],\n",
       "         [0.91482322],\n",
       "         [0.91482322],\n",
       "         [0.54162768],\n",
       "         [0.54162768],\n",
       "         [0.31427553],\n",
       "         [0.31427553],\n",
       "         [0.88068439],\n",
       "         [0.88068439],\n",
       "         [0.65586816],\n",
       "         [0.65586816],\n",
       "         [0.57406195],\n",
       "         [0.57406195],\n",
       "         [0.97935754],\n",
       "         [0.97935754],\n",
       "         [0.84818908],\n",
       "         [0.84818908],\n",
       "         [0.71586604],\n",
       "         [0.71586604],\n",
       "         [0.73884334],\n",
       "         [0.73884334],\n",
       "         [0.63400808],\n",
       "         [0.63400808],\n",
       "         [0.81742749],\n",
       "         [0.81742749],\n",
       "         [0.80267126],\n",
       "         [0.80267126],\n",
       "         [0.92988686],\n",
       "         [0.92988686],\n",
       "         [0.69920477],\n",
       "         [0.69920477],\n",
       "         [0.37640762],\n",
       "         [0.37640762],\n",
       "         [0.05161822],\n",
       "         [0.05161822],\n",
       "         [0.18862333],\n",
       "         [0.18862333],\n",
       "         [0.61563497],\n",
       "         [0.61563497],\n",
       "         [0.2379381 ],\n",
       "         [0.2379381 ],\n",
       "         [0.78524227],\n",
       "         [0.78524227],\n",
       "         [0.12383191],\n",
       "         [0.12383191],\n",
       "         [0.49345688],\n",
       "         [0.49345688],\n",
       "         [0.17207708],\n",
       "         [0.17207708],\n",
       "         [0.34262361],\n",
       "         [0.34262361],\n",
       "         [0.41844558],\n",
       "         [0.41844558],\n",
       "         [0.07945305],\n",
       "         [0.07945305],\n",
       "         [0.74543188],\n",
       "         [0.74543188],\n",
       "         [0.54195668],\n",
       "         [0.54195668],\n",
       "         [0.2143141 ],\n",
       "         [0.2143141 ],\n",
       "         [0.63669674],\n",
       "         [0.63669674],\n",
       "         [0.18715191],\n",
       "         [0.18715191],\n",
       "         [0.5938833 ],\n",
       "         [0.5938833 ],\n",
       "         [0.78549013],\n",
       "         [0.78549013],\n",
       "         [0.29879964],\n",
       "         [0.29879964],\n",
       "         [0.21431318],\n",
       "         [0.21431318],\n",
       "         [0.58991259],\n",
       "         [0.58991259],\n",
       "         [0.40847632],\n",
       "         [0.40847632],\n",
       "         [0.28504032],\n",
       "         [0.28504032],\n",
       "         [0.65011738],\n",
       "         [0.65011738],\n",
       "         [0.33546411],\n",
       "         [0.33546411],\n",
       "         [0.14419917],\n",
       "         [0.14419917],\n",
       "         [0.15496844],\n",
       "         [0.15496844],\n",
       "         [0.29248803],\n",
       "         [0.29248803],\n",
       "         [0.97407585],\n",
       "         [0.97407585],\n",
       "         [0.27319274],\n",
       "         [0.27319274],\n",
       "         [0.9430038 ],\n",
       "         [0.9430038 ],\n",
       "         [0.08622701],\n",
       "         [0.08622701],\n",
       "         [0.51204577],\n",
       "         [0.51204577],\n",
       "         [0.76402385],\n",
       "         [0.76402385],\n",
       "         [0.05198635],\n",
       "         [0.05198635],\n",
       "         [0.88119354],\n",
       "         [0.88119354],\n",
       "         [0.68736571],\n",
       "         [0.68736571],\n",
       "         [0.25500067],\n",
       "         [0.25500067],\n",
       "         [0.39146437],\n",
       "         [0.39146437],\n",
       "         [0.13599396],\n",
       "         [0.13599396],\n",
       "         [0.00850111],\n",
       "         [0.00850111],\n",
       "         [0.24326122],\n",
       "         [0.24326122],\n",
       "         [0.02882994],\n",
       "         [0.02882994],\n",
       "         [0.82143046],\n",
       "         [0.82143046],\n",
       "         [0.05104259],\n",
       "         [0.05104259],\n",
       "         [0.91646864],\n",
       "         [0.91646864],\n",
       "         [0.54192263],\n",
       "         [0.54192263],\n",
       "         [0.13266985],\n",
       "         [0.13266985],\n",
       "         [0.21721169],\n",
       "         [0.21721169],\n",
       "         [0.44885138],\n",
       "         [0.44885138],\n",
       "         [0.41546296],\n",
       "         [0.41546296],\n",
       "         [0.62895242],\n",
       "         [0.62895242],\n",
       "         [0.44537369],\n",
       "         [0.44537369],\n",
       "         [0.53283129],\n",
       "         [0.53283129],\n",
       "         [0.3219514 ],\n",
       "         [0.3219514 ],\n",
       "         [0.61313363],\n",
       "         [0.61313363],\n",
       "         [0.5020215 ],\n",
       "         [0.5020215 ],\n",
       "         [0.5380723 ],\n",
       "         [0.5380723 ],\n",
       "         [0.20237694],\n",
       "         [0.20237694],\n",
       "         [0.93783465],\n",
       "         [0.93783465],\n",
       "         [0.58001644],\n",
       "         [0.58001644],\n",
       "         [0.88141747],\n",
       "         [0.88141747],\n",
       "         [0.05950187],\n",
       "         [0.05950187],\n",
       "         [0.04588816],\n",
       "         [0.04588816]])}}"
      ]
     },
     "execution_count": 1,
     "metadata": {},
     "output_type": "execute_result"
    }
   ],
   "source": [
    "ds = load_by_id(run_id_a)\n",
    "ds.get_parameter_data('x1')"
   ]
  },
  {
   "cell_type": "code",
   "execution_count": null,
   "metadata": {},
   "outputs": [],
   "source": []
  }
 ],
 "metadata": {
  "kernelspec": {
   "display_name": "Python 3",
   "language": "python",
   "name": "python3"
  },
  "language_info": {
   "codemirror_mode": {
    "name": "ipython",
    "version": 3
   },
   "file_extension": ".py",
   "mimetype": "text/x-python",
   "name": "python",
   "nbconvert_exporter": "python",
   "pygments_lexer": "ipython3",
   "version": "3.7.9"
  },
  "nbsphinx": {
   "timeout": 600
  },
  "toc": {
   "base_numbering": 1,
   "nav_menu": {},
   "number_sections": true,
   "sideBar": true,
   "skip_h1_title": false,
   "title_cell": "Table of Contents",
   "title_sidebar": "Contents",
   "toc_cell": false,
   "toc_position": {},
   "toc_section_display": true,
   "toc_window_display": false
  },
  "varInspector": {
   "cols": {
    "lenName": 16,
    "lenType": 16,
    "lenVar": 40
   },
   "kernels_config": {
    "python": {
     "delete_cmd_postfix": "",
     "delete_cmd_prefix": "del ",
     "library": "var_list.py",
     "varRefreshCmd": "print(var_dic_list())"
    },
    "r": {
     "delete_cmd_postfix": ") ",
     "delete_cmd_prefix": "rm(",
     "library": "var_list.r",
     "varRefreshCmd": "cat(var_dic_list()) "
    }
   },
   "types_to_exclude": [
    "module",
    "function",
    "builtin_function_or_method",
    "instance",
    "_Feature"
   ],
   "window_display": false
  }
 },
 "nbformat": 4,
 "nbformat_minor": 2
}
