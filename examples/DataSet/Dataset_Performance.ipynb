{
 "cells": [
  {
   "cell_type": "markdown",
   "metadata": {},
   "source": [
    "# DataSet Performance\n",
    "\n",
    "This notebook shows the trade-off between inserting data into a database row-by-row and as binary blobs. Inserting the data row-by-row means that we have direct access to all the data and may perform queries directly on the values of the data. On the other hand, as we shall see, this is much slower than inserting the data directly as binary blobs."
   ]
  },
  {
   "cell_type": "markdown",
   "metadata": {},
   "source": [
    "First, we choose a new location for the database to ensure that we don't add a bunch of benchmarking data to the default one."
   ]
  },
  {
   "cell_type": "code",
   "execution_count": 1,
   "metadata": {
    "execution": {
     "iopub.execute_input": "2020-09-24T06:49:13.782863Z",
     "iopub.status.busy": "2020-09-24T06:49:13.782010Z",
     "iopub.status.idle": "2020-09-24T06:49:14.711757Z",
     "shell.execute_reply": "2020-09-24T06:49:14.711220Z"
    }
   },
   "outputs": [
    {
     "name": "stdout",
     "output_type": "stream",
     "text": [
      "Logging hadn't been started.\n",
      "Activating auto-logging. Current session state plus future input saved.\n",
      "Filename       : /home/vsts/.qcodes/logs/command_history.log\n",
      "Mode           : append\n",
      "Output logging : True\n",
      "Raw input log  : False\n",
      "Timestamping   : True\n",
      "State          : active\n"
     ]
    },
    {
     "name": "stdout",
     "output_type": "stream",
     "text": [
      "Qcodes Logfile : /home/vsts/.qcodes/logs/200924-18780-qcodes.log\n"
     ]
    }
   ],
   "source": [
    "import os\n",
    "cwd = os.getcwd()\n",
    "import qcodes as qc\n",
    "qc.config[\"core\"][\"db_location\"] = os.path.join(cwd, 'testing.db')\n"
   ]
  },
  {
   "cell_type": "code",
   "execution_count": 2,
   "metadata": {
    "execution": {
     "iopub.execute_input": "2020-09-24T06:49:14.718468Z",
     "iopub.status.busy": "2020-09-24T06:49:14.716694Z",
     "iopub.status.idle": "2020-09-24T06:49:14.878534Z",
     "shell.execute_reply": "2020-09-24T06:49:14.877549Z"
    }
   },
   "outputs": [],
   "source": [
    "%matplotlib inline\n",
    "import time\n",
    "import matplotlib.pyplot as plt\n",
    "import numpy as np\n",
    "\n",
    "import qcodes as qc\n",
    "from qcodes.instrument.parameter import ManualParameter\n",
    "from qcodes.dataset.experiment_container import (Experiment,\n",
    "                                                 load_last_experiment,\n",
    "                                                 new_experiment)\n",
    "from qcodes.dataset.sqlite.database import initialise_database\n",
    "from qcodes import load_or_create_experiment\n",
    "from qcodes.dataset.measurements import Measurement"
   ]
  },
  {
   "cell_type": "code",
   "execution_count": 3,
   "metadata": {
    "execution": {
     "iopub.execute_input": "2020-09-24T06:49:14.882266Z",
     "iopub.status.busy": "2020-09-24T06:49:14.881376Z",
     "iopub.status.idle": "2020-09-24T06:49:14.988745Z",
     "shell.execute_reply": "2020-09-24T06:49:14.988019Z"
    }
   },
   "outputs": [
    {
     "name": "stdout",
     "output_type": "stream",
     "text": [
      "\r",
      "0it [00:00, ?it/s]"
     ]
    },
    {
     "name": "stdout",
     "output_type": "stream",
     "text": [
      "\r",
      "Upgrading database; v0 -> v1: : 0it [00:00, ?it/s]"
     ]
    },
    {
     "name": "stdout",
     "output_type": "stream",
     "text": [
      "\r",
      "Upgrading database; v0 -> v1: : 0it [00:00, ?it/s]"
     ]
    },
    {
     "name": "stdout",
     "output_type": "stream",
     "text": [
      "\n",
      "\r",
      "  0%|          | 0/1 [00:00<?, ?it/s]"
     ]
    },
    {
     "name": "stdout",
     "output_type": "stream",
     "text": [
      "\r",
      "Upgrading database; v1 -> v2:   0%|          | 0/1 [00:00<?, ?it/s]"
     ]
    },
    {
     "name": "stdout",
     "output_type": "stream",
     "text": [
      "\r",
      "Upgrading database; v1 -> v2: 100%|██████████| 1/1 [00:00<00:00, 487.77it/s]"
     ]
    },
    {
     "name": "stdout",
     "output_type": "stream",
     "text": [
      "\n",
      "\r",
      "0it [00:00, ?it/s]"
     ]
    },
    {
     "name": "stdout",
     "output_type": "stream",
     "text": [
      "\r",
      "Upgrading database; v2 -> v3: : 0it [00:00, ?it/s]"
     ]
    },
    {
     "name": "stdout",
     "output_type": "stream",
     "text": [
      "\r",
      "Upgrading database; v2 -> v3: : 0it [00:00, ?it/s]"
     ]
    },
    {
     "name": "stdout",
     "output_type": "stream",
     "text": [
      "\n",
      "\r",
      "0it [00:00, ?it/s]"
     ]
    },
    {
     "name": "stdout",
     "output_type": "stream",
     "text": [
      "\r",
      "Upgrading database; v3 -> v4: : 0it [00:00, ?it/s]"
     ]
    },
    {
     "name": "stdout",
     "output_type": "stream",
     "text": [
      "\r",
      "Upgrading database; v3 -> v4: : 0it [00:00, ?it/s]"
     ]
    },
    {
     "name": "stdout",
     "output_type": "stream",
     "text": [
      "\n",
      "\r",
      "  0%|          | 0/1 [00:00<?, ?it/s]"
     ]
    },
    {
     "name": "stdout",
     "output_type": "stream",
     "text": [
      "\r",
      "Upgrading database; v4 -> v5:   0%|          | 0/1 [00:00<?, ?it/s]"
     ]
    },
    {
     "name": "stdout",
     "output_type": "stream",
     "text": [
      "\r",
      "Upgrading database; v4 -> v5: 100%|██████████| 1/1 [00:00<00:00, 527.25it/s]"
     ]
    },
    {
     "name": "stdout",
     "output_type": "stream",
     "text": [
      "\n",
      "\r",
      "0it [00:00, ?it/s]"
     ]
    },
    {
     "name": "stdout",
     "output_type": "stream",
     "text": [
      "\r",
      "Upgrading database; v5 -> v6: : 0it [00:00, ?it/s]"
     ]
    },
    {
     "name": "stdout",
     "output_type": "stream",
     "text": [
      "\r",
      "Upgrading database; v5 -> v6: : 0it [00:00, ?it/s]"
     ]
    },
    {
     "name": "stdout",
     "output_type": "stream",
     "text": [
      "\n",
      "\r",
      "  0%|          | 0/1 [00:00<?, ?it/s]"
     ]
    },
    {
     "name": "stdout",
     "output_type": "stream",
     "text": [
      "\r",
      "Upgrading database; v6 -> v7:   0%|          | 0/1 [00:00<?, ?it/s]"
     ]
    },
    {
     "name": "stdout",
     "output_type": "stream",
     "text": [
      "\r",
      "Upgrading database; v6 -> v7: 100%|██████████| 1/1 [00:00<00:00, 372.73it/s]"
     ]
    },
    {
     "name": "stdout",
     "output_type": "stream",
     "text": [
      "\n",
      "\r",
      "  0%|          | 0/1 [00:00<?, ?it/s]"
     ]
    },
    {
     "name": "stdout",
     "output_type": "stream",
     "text": [
      "\r",
      "Upgrading database; v7 -> v8:   0%|          | 0/1 [00:00<?, ?it/s]"
     ]
    },
    {
     "name": "stdout",
     "output_type": "stream",
     "text": [
      "\r",
      "Upgrading database; v7 -> v8: 100%|██████████| 1/1 [00:00<00:00, 518.78it/s]"
     ]
    },
    {
     "name": "stdout",
     "output_type": "stream",
     "text": [
      "\n",
      "\r",
      "  0%|          | 0/1 [00:00<?, ?it/s]"
     ]
    },
    {
     "name": "stdout",
     "output_type": "stream",
     "text": [
      "\r",
      "Upgrading database; v8 -> v9:   0%|          | 0/1 [00:00<?, ?it/s]"
     ]
    },
    {
     "name": "stdout",
     "output_type": "stream",
     "text": [
      "\r",
      "Upgrading database; v8 -> v9: 100%|██████████| 1/1 [00:00<00:00, 654.34it/s]"
     ]
    },
    {
     "name": "stdout",
     "output_type": "stream",
     "text": [
      "\n"
     ]
    }
   ],
   "source": [
    "initialise_database()\n",
    "exp = load_or_create_experiment(experiment_name='tutorial_exp', sample_name=\"no sample\")"
   ]
  },
  {
   "cell_type": "markdown",
   "metadata": {},
   "source": [
    "Here, we define a simple function to benchmark the time it takes to insert n points with either numeric or array data type.\n",
    "We will compare both the time used to call ``add_result`` and the time used for the full measurement."
   ]
  },
  {
   "cell_type": "code",
   "execution_count": 4,
   "metadata": {
    "execution": {
     "iopub.execute_input": "2020-09-24T06:49:14.997293Z",
     "iopub.status.busy": "2020-09-24T06:49:14.996767Z",
     "iopub.status.idle": "2020-09-24T06:49:15.000156Z",
     "shell.execute_reply": "2020-09-24T06:49:14.999610Z"
    }
   },
   "outputs": [],
   "source": [
    "def insert_data(paramtype, npoints, nreps=1):\n",
    "\n",
    "    meas = Measurement(exp=exp)\n",
    "\n",
    "    x1 = ManualParameter('x1')\n",
    "    x2 = ManualParameter('x2')\n",
    "    x3 = ManualParameter('x3')\n",
    "    y1 = ManualParameter('y1')\n",
    "    y2 = ManualParameter('y2')\n",
    "\n",
    "    meas.register_parameter(x1, paramtype=paramtype)\n",
    "    meas.register_parameter(x2, paramtype=paramtype)\n",
    "    meas.register_parameter(x3, paramtype=paramtype)\n",
    "    meas.register_parameter(y1, setpoints=[x1, x2, x3],\n",
    "                            paramtype=paramtype)\n",
    "    meas.register_parameter(y2, setpoints=[x1, x2, x3],\n",
    "                            paramtype=paramtype)\n",
    "    start = time.perf_counter()\n",
    "    with meas.run() as datasaver:\n",
    "        start_adding = time.perf_counter()\n",
    "        for i in range(nreps):\n",
    "            datasaver.add_result((x1, np.random.rand(npoints)),\n",
    "                                 (x2, np.random.rand(npoints)),\n",
    "                                 (x3, np.random.rand(npoints)),\n",
    "                                 (y1, np.random.rand(npoints)),\n",
    "                                 (y2, np.random.rand(npoints)))\n",
    "        stop_adding = time.perf_counter()\n",
    "        run_id = datasaver.run_id\n",
    "    stop = time.perf_counter()\n",
    "    tot_time = stop - start\n",
    "    add_time = stop_adding - start_adding\n",
    "    return tot_time, add_time, run_id"
   ]
  },
  {
   "cell_type": "markdown",
   "metadata": {},
   "source": [
    "## Comparison between numeric/array data and binary blob"
   ]
  },
  {
   "cell_type": "markdown",
   "metadata": {},
   "source": [
    "### Case1: Short experiment time"
   ]
  },
  {
   "cell_type": "code",
   "execution_count": 5,
   "metadata": {
    "execution": {
     "iopub.execute_input": "2020-09-24T06:49:15.006538Z",
     "iopub.status.busy": "2020-09-24T06:49:15.006011Z",
     "iopub.status.idle": "2020-09-24T06:49:15.807108Z",
     "shell.execute_reply": "2020-09-24T06:49:15.807555Z"
    }
   },
   "outputs": [
    {
     "name": "stdout",
     "output_type": "stream",
     "text": [
      "Starting experimental run with id: 1. \n",
      "Starting experimental run with id: 2. \n",
      "Starting experimental run with id: 3. \n",
      "Starting experimental run with id: 4. \n",
      "Starting experimental run with id: 5. \n"
     ]
    },
    {
     "name": "stdout",
     "output_type": "stream",
     "text": [
      "Starting experimental run with id: 6. \n"
     ]
    },
    {
     "name": "stdout",
     "output_type": "stream",
     "text": [
      "Starting experimental run with id: 7. \n"
     ]
    },
    {
     "name": "stdout",
     "output_type": "stream",
     "text": [
      "Starting experimental run with id: 8. \n",
      "Starting experimental run with id: 9. \n"
     ]
    },
    {
     "name": "stdout",
     "output_type": "stream",
     "text": [
      "Starting experimental run with id: 10. \n",
      "Starting experimental run with id: 11. \n"
     ]
    },
    {
     "name": "stdout",
     "output_type": "stream",
     "text": [
      "Starting experimental run with id: 12. \n",
      "Starting experimental run with id: 13. \n"
     ]
    },
    {
     "name": "stdout",
     "output_type": "stream",
     "text": [
      "Starting experimental run with id: 14. \n"
     ]
    }
   ],
   "source": [
    "sizes = [1,500,1000,2000,3000,4000,5000]\n",
    "t_numeric = []\n",
    "t_numeric_add = []\n",
    "t_array = []\n",
    "t_array_add = []\n",
    "for size in sizes:\n",
    "    tn, tna, run_id_n =  insert_data('numeric', size)\n",
    "    t_numeric.append(tn)\n",
    "    t_numeric_add.append(tna)\n",
    "\n",
    "    ta, taa, run_id_a =  insert_data('array', size)\n",
    "    t_array.append(ta)\n",
    "    t_array_add.append(taa)"
   ]
  },
  {
   "cell_type": "code",
   "execution_count": 6,
   "metadata": {
    "execution": {
     "iopub.execute_input": "2020-09-24T06:49:15.823871Z",
     "iopub.status.busy": "2020-09-24T06:49:15.823133Z",
     "iopub.status.idle": "2020-09-24T06:49:15.979747Z",
     "shell.execute_reply": "2020-09-24T06:49:15.979269Z"
    }
   },
   "outputs": [
    {
     "data": {
      "image/png": "[encoded data removed]",
      "text/plain": [
       "<Figure size 432x288 with 1 Axes>"
      ]
     },
     "metadata": {
      "needs_background": "light"
     },
     "output_type": "display_data"
    }
   ],
   "source": [
    "fig, ax = plt.subplots(1,1)\n",
    "ax.plot(sizes, t_numeric, 'o-', label='Inserting row-by-row')\n",
    "ax.plot(sizes, t_numeric_add, 'o-', label='Inserting row-by-row: add_result only')\n",
    "ax.plot(sizes, t_array, 'd-', label='Inserting as binary blob')\n",
    "ax.plot(sizes, t_array_add, 'd-', label='Inserting as binary blob: add_result only')\n",
    "ax.legend()\n",
    "ax.set_xlabel('Array length')\n",
    "ax.set_ylabel('Time (s)')\n",
    "fig.tight_layout()"
   ]
  },
  {
   "cell_type": "markdown",
   "metadata": {},
   "source": [
    "As shown in the latter figure, the time to setup and and close the experiment is approximately 0.4 sec. In case of small array sizes, the difference between inserting values of data as arrays and inserting them row-by-row is relatively unimportant. At larger array sizes, i.e. above 10000 points, the cost of writing data as individual datapoints starts to become important.\n"
   ]
  },
  {
   "cell_type": "markdown",
   "metadata": {},
   "source": [
    "### Case2: Long experiment time "
   ]
  },
  {
   "cell_type": "code",
   "execution_count": 7,
   "metadata": {
    "execution": {
     "iopub.execute_input": "2020-09-24T06:49:15.987120Z",
     "iopub.status.busy": "2020-09-24T06:49:15.986340Z",
     "iopub.status.idle": "2020-09-24T06:50:11.407359Z",
     "shell.execute_reply": "2020-09-24T06:50:11.406333Z"
    }
   },
   "outputs": [
    {
     "name": "stdout",
     "output_type": "stream",
     "text": [
      "Starting experimental run with id: 15. \n",
      "Starting experimental run with id: 16. \n",
      "Starting experimental run with id: 17. \n"
     ]
    },
    {
     "name": "stdout",
     "output_type": "stream",
     "text": [
      "Starting experimental run with id: 18. \n",
      "Starting experimental run with id: 19. \n"
     ]
    },
    {
     "name": "stdout",
     "output_type": "stream",
     "text": [
      "Starting experimental run with id: 20. \n"
     ]
    },
    {
     "name": "stdout",
     "output_type": "stream",
     "text": [
      "Starting experimental run with id: 21. \n"
     ]
    },
    {
     "name": "stdout",
     "output_type": "stream",
     "text": [
      "Starting experimental run with id: 22. \n"
     ]
    },
    {
     "name": "stdout",
     "output_type": "stream",
     "text": [
      "Starting experimental run with id: 23. \n"
     ]
    },
    {
     "name": "stdout",
     "output_type": "stream",
     "text": [
      "Starting experimental run with id: 24. \n"
     ]
    },
    {
     "name": "stdout",
     "output_type": "stream",
     "text": [
      "Starting experimental run with id: 25. \n"
     ]
    },
    {
     "name": "stdout",
     "output_type": "stream",
     "text": [
      "Starting experimental run with id: 26. \n"
     ]
    },
    {
     "name": "stdout",
     "output_type": "stream",
     "text": [
      "Starting experimental run with id: 27. \n"
     ]
    },
    {
     "name": "stdout",
     "output_type": "stream",
     "text": [
      "Starting experimental run with id: 28. \n"
     ]
    }
   ],
   "source": [
    "sizes = [1,500,1000,2000,3000,4000,5000]\n",
    "nreps = 100\n",
    "t_numeric = []\n",
    "t_numeric_add = []\n",
    "t_numeric_run_ids = []\n",
    "t_array = []\n",
    "t_array_add = []\n",
    "t_array_run_ids = []\n",
    "for size in sizes:\n",
    "    tn, tna, run_id_n =  insert_data('numeric', size, nreps=nreps)\n",
    "    t_numeric.append(tn)\n",
    "    t_numeric_add.append(tna)\n",
    "    t_numeric_run_ids.append(run_id_n)\n",
    "\n",
    "    ta, taa, run_id_a =  insert_data('array', size, nreps=nreps)\n",
    "    t_array.append(ta)\n",
    "    t_array_add.append(taa)\n",
    "    t_array_run_ids.append(run_id_a)"
   ]
  },
  {
   "cell_type": "code",
   "execution_count": 8,
   "metadata": {
    "execution": {
     "iopub.execute_input": "2020-09-24T06:50:11.426671Z",
     "iopub.status.busy": "2020-09-24T06:50:11.424708Z",
     "iopub.status.idle": "2020-09-24T06:50:11.589969Z",
     "shell.execute_reply": "2020-09-24T06:50:11.589489Z"
    },
    "scrolled": true
   },
   "outputs": [
    {
     "data": {
      "image/png": "[encoded data removed]",
      "text/plain": [
       "<Figure size 432x288 with 1 Axes>"
      ]
     },
     "metadata": {
      "needs_background": "light"
     },
     "output_type": "display_data"
    }
   ],
   "source": [
    "fig, ax = plt.subplots(1,1)\n",
    "ax.plot(sizes, t_numeric, 'o-', label='Inserting row-by-row')\n",
    "ax.plot(sizes, t_numeric_add, 'o-', label='Inserting row-by-row: add_result only')\n",
    "ax.plot(sizes, t_array, 'd-', label='Inserting as binary blob')\n",
    "ax.plot(sizes, t_array_add, 'd-', label='Inserting as binary blob: add_result only')\n",
    "ax.legend()\n",
    "ax.set_xlabel('Array length')\n",
    "ax.set_ylabel('Time (s)')\n",
    "fig.tight_layout()"
   ]
  },
  {
   "cell_type": "markdown",
   "metadata": {},
   "source": [
    "However, as we increase the length of the experiment, as seen here by repeating the insertion 100 times, we see a big difference between inserting values of the data row-by-row and inserting it as a binary blob."
   ]
  },
  {
   "cell_type": "markdown",
   "metadata": {},
   "source": [
    "## Loading the data "
   ]
  },
  {
   "cell_type": "code",
   "execution_count": 9,
   "metadata": {
    "execution": {
     "iopub.execute_input": "2020-09-24T06:50:11.594184Z",
     "iopub.status.busy": "2020-09-24T06:50:11.593132Z",
     "iopub.status.idle": "2020-09-24T06:50:11.597172Z",
     "shell.execute_reply": "2020-09-24T06:50:11.596632Z"
    }
   },
   "outputs": [],
   "source": [
    "from qcodes.dataset.data_set import load_by_id\n",
    "from qcodes.dataset.data_export import get_data_by_id"
   ]
  },
  {
   "cell_type": "markdown",
   "metadata": {},
   "source": [
    "As usual you can load the data by using the ``load_by_id`` function but you will notice that the different storage methods\n",
    "are reflected in shape of the data as it is retrieved. "
   ]
  },
  {
   "cell_type": "code",
   "execution_count": 10,
   "metadata": {
    "execution": {
     "iopub.execute_input": "2020-09-24T06:50:11.600509Z",
     "iopub.status.busy": "2020-09-24T06:50:11.599827Z",
     "iopub.status.idle": "2020-09-24T06:50:11.603394Z",
     "shell.execute_reply": "2020-09-24T06:50:11.603027Z"
    }
   },
   "outputs": [],
   "source": [
    "run_id_n = t_numeric_run_ids[0]\n",
    "run_id_a = t_array_run_ids[0]"
   ]
  },
  {
   "cell_type": "code",
   "execution_count": 11,
   "metadata": {
    "execution": {
     "iopub.execute_input": "2020-09-24T06:50:11.606286Z",
     "iopub.status.busy": "2020-09-24T06:50:11.605620Z",
     "iopub.status.idle": "2020-09-24T06:50:11.614298Z",
     "shell.execute_reply": "2020-09-24T06:50:11.613920Z"
    },
    "scrolled": true
   },
   "outputs": [
    {
     "data": {
      "text/plain": [
       "{'x1': {'x1': array([0.88160355, 0.88160355, 0.34161809, 0.34161809, 0.78084996,\n",
       "         0.78084996, 0.60878217, 0.60878217, 0.29680879, 0.29680879,\n",
       "         0.31494106, 0.31494106, 0.98239744, 0.98239744, 0.14261418,\n",
       "         0.14261418, 0.24337571, 0.24337571, 0.79898702, 0.79898702,\n",
       "         0.23182863, 0.23182863, 0.87945207, 0.87945207, 0.75824087,\n",
       "         0.75824087, 0.74651461, 0.74651461, 0.28113549, 0.28113549,\n",
       "         0.52894435, 0.52894435, 0.20556689, 0.20556689, 0.46550423,\n",
       "         0.46550423, 0.07253891, 0.07253891, 0.00950272, 0.00950272,\n",
       "         0.77789585, 0.77789585, 0.33576373, 0.33576373, 0.96425856,\n",
       "         0.96425856, 0.35299202, 0.35299202, 0.6289603 , 0.6289603 ,\n",
       "         0.63811029, 0.63811029, 0.16097251, 0.16097251, 0.14419661,\n",
       "         0.14419661, 0.83455236, 0.83455236, 0.47445593, 0.47445593,\n",
       "         0.23939671, 0.23939671, 0.60515501, 0.60515501, 0.34180524,\n",
       "         0.34180524, 0.35400393, 0.35400393, 0.34807997, 0.34807997,\n",
       "         0.2815292 , 0.2815292 , 0.29961141, 0.29961141, 0.62780816,\n",
       "         0.62780816, 0.03329357, 0.03329357, 0.67284372, 0.67284372,\n",
       "         0.47445223, 0.47445223, 0.36985883, 0.36985883, 0.19909016,\n",
       "         0.19909016, 0.1445686 , 0.1445686 , 0.15562897, 0.15562897,\n",
       "         0.85642151, 0.85642151, 0.4688027 , 0.4688027 , 0.61356384,\n",
       "         0.61356384, 0.50354942, 0.50354942, 0.75001162, 0.75001162,\n",
       "         0.3128485 , 0.3128485 , 0.48712557, 0.48712557, 0.63581484,\n",
       "         0.63581484, 0.10635006, 0.10635006, 0.40328164, 0.40328164,\n",
       "         0.80294936, 0.80294936, 0.95698248, 0.95698248, 0.40871425,\n",
       "         0.40871425, 0.71352083, 0.71352083, 0.75070921, 0.75070921,\n",
       "         0.13773665, 0.13773665, 0.46315303, 0.46315303, 0.49028705,\n",
       "         0.49028705, 0.57684882, 0.57684882, 0.3568872 , 0.3568872 ,\n",
       "         0.40003204, 0.40003204, 0.45494684, 0.45494684, 0.7740947 ,\n",
       "         0.7740947 , 0.56747744, 0.56747744, 0.96987697, 0.96987697,\n",
       "         0.83595022, 0.83595022, 0.20468967, 0.20468967, 0.82945   ,\n",
       "         0.82945   , 0.68659794, 0.68659794, 0.92114873, 0.92114873,\n",
       "         0.88310783, 0.88310783, 0.18163615, 0.18163615, 0.12976861,\n",
       "         0.12976861, 0.07054846, 0.07054846, 0.96681864, 0.96681864,\n",
       "         0.24017951, 0.24017951, 0.27763148, 0.27763148, 0.0444603 ,\n",
       "         0.0444603 , 0.63514511, 0.63514511, 0.60235808, 0.60235808,\n",
       "         0.57610682, 0.57610682, 0.62185327, 0.62185327, 0.48756957,\n",
       "         0.48756957, 0.14524079, 0.14524079, 0.49873654, 0.49873654,\n",
       "         0.14022968, 0.14022968, 0.08351422, 0.08351422, 0.42922345,\n",
       "         0.42922345, 0.51356481, 0.51356481, 0.64398707, 0.64398707,\n",
       "         0.65583151, 0.65583151, 0.43659982, 0.43659982, 0.53958087,\n",
       "         0.53958087, 0.46029357, 0.46029357, 0.66970426, 0.66970426])}}"
      ]
     },
     "execution_count": 1,
     "metadata": {},
     "output_type": "execute_result"
    }
   ],
   "source": [
    "ds = load_by_id(run_id_n)\n",
    "ds.get_parameter_data('x1')"
   ]
  },
  {
   "cell_type": "markdown",
   "metadata": {},
   "source": [
    "And a dataset stored as binary arrays"
   ]
  },
  {
   "cell_type": "code",
   "execution_count": 12,
   "metadata": {
    "execution": {
     "iopub.execute_input": "2020-09-24T06:50:11.617480Z",
     "iopub.status.busy": "2020-09-24T06:50:11.616969Z",
     "iopub.status.idle": "2020-09-24T06:50:11.668914Z",
     "shell.execute_reply": "2020-09-24T06:50:11.669370Z"
    },
    "scrolled": true
   },
   "outputs": [
    {
     "data": {
      "text/plain": [
       "{'x1': {'x1': array([[0.04450406],\n",
       "         [0.04450406],\n",
       "         [0.8759884 ],\n",
       "         [0.8759884 ],\n",
       "         [0.43040489],\n",
       "         [0.43040489],\n",
       "         [0.23156912],\n",
       "         [0.23156912],\n",
       "         [0.31939096],\n",
       "         [0.31939096],\n",
       "         [0.65774414],\n",
       "         [0.65774414],\n",
       "         [0.63877349],\n",
       "         [0.63877349],\n",
       "         [0.04781693],\n",
       "         [0.04781693],\n",
       "         [0.84304983],\n",
       "         [0.84304983],\n",
       "         [0.45212405],\n",
       "         [0.45212405],\n",
       "         [0.14360706],\n",
       "         [0.14360706],\n",
       "         [0.15546425],\n",
       "         [0.15546425],\n",
       "         [0.44148028],\n",
       "         [0.44148028],\n",
       "         [0.07393193],\n",
       "         [0.07393193],\n",
       "         [0.45996957],\n",
       "         [0.45996957],\n",
       "         [0.15284365],\n",
       "         [0.15284365],\n",
       "         [0.2015594 ],\n",
       "         [0.2015594 ],\n",
       "         [0.17987808],\n",
       "         [0.17987808],\n",
       "         [0.57635789],\n",
       "         [0.57635789],\n",
       "         [0.14972333],\n",
       "         [0.14972333],\n",
       "         [0.32663169],\n",
       "         [0.32663169],\n",
       "         [0.86522143],\n",
       "         [0.86522143],\n",
       "         [0.94840404],\n",
       "         [0.94840404],\n",
       "         [0.23637261],\n",
       "         [0.23637261],\n",
       "         [0.61449522],\n",
       "         [0.61449522],\n",
       "         [0.63972904],\n",
       "         [0.63972904],\n",
       "         [0.19778766],\n",
       "         [0.19778766],\n",
       "         [0.59572589],\n",
       "         [0.59572589],\n",
       "         [0.85528506],\n",
       "         [0.85528506],\n",
       "         [0.1310574 ],\n",
       "         [0.1310574 ],\n",
       "         [0.99741921],\n",
       "         [0.99741921],\n",
       "         [0.1691061 ],\n",
       "         [0.1691061 ],\n",
       "         [0.52242865],\n",
       "         [0.52242865],\n",
       "         [0.99235603],\n",
       "         [0.99235603],\n",
       "         [0.27091418],\n",
       "         [0.27091418],\n",
       "         [0.35452031],\n",
       "         [0.35452031],\n",
       "         [0.01902969],\n",
       "         [0.01902969],\n",
       "         [0.14183554],\n",
       "         [0.14183554],\n",
       "         [0.57913628],\n",
       "         [0.57913628],\n",
       "         [0.24913657],\n",
       "         [0.24913657],\n",
       "         [0.37483541],\n",
       "         [0.37483541],\n",
       "         [0.07962515],\n",
       "         [0.07962515],\n",
       "         [0.1369757 ],\n",
       "         [0.1369757 ],\n",
       "         [0.8922911 ],\n",
       "         [0.8922911 ],\n",
       "         [0.58078643],\n",
       "         [0.58078643],\n",
       "         [0.73040657],\n",
       "         [0.73040657],\n",
       "         [0.12678355],\n",
       "         [0.12678355],\n",
       "         [0.54091659],\n",
       "         [0.54091659],\n",
       "         [0.06139719],\n",
       "         [0.06139719],\n",
       "         [0.8779238 ],\n",
       "         [0.8779238 ],\n",
       "         [0.91021481],\n",
       "         [0.91021481],\n",
       "         [0.62991407],\n",
       "         [0.62991407],\n",
       "         [0.15230935],\n",
       "         [0.15230935],\n",
       "         [0.58014579],\n",
       "         [0.58014579],\n",
       "         [0.88222694],\n",
       "         [0.88222694],\n",
       "         [0.73175626],\n",
       "         [0.73175626],\n",
       "         [0.97924971],\n",
       "         [0.97924971],\n",
       "         [0.86196366],\n",
       "         [0.86196366],\n",
       "         [0.90730122],\n",
       "         [0.90730122],\n",
       "         [0.2975142 ],\n",
       "         [0.2975142 ],\n",
       "         [0.34478322],\n",
       "         [0.34478322],\n",
       "         [0.21518768],\n",
       "         [0.21518768],\n",
       "         [0.96271334],\n",
       "         [0.96271334],\n",
       "         [0.01262495],\n",
       "         [0.01262495],\n",
       "         [0.26260098],\n",
       "         [0.26260098],\n",
       "         [0.61223679],\n",
       "         [0.61223679],\n",
       "         [0.70766403],\n",
       "         [0.70766403],\n",
       "         [0.95285555],\n",
       "         [0.95285555],\n",
       "         [0.62331156],\n",
       "         [0.62331156],\n",
       "         [0.39289643],\n",
       "         [0.39289643],\n",
       "         [0.18065589],\n",
       "         [0.18065589],\n",
       "         [0.53929992],\n",
       "         [0.53929992],\n",
       "         [0.82548869],\n",
       "         [0.82548869],\n",
       "         [0.10986682],\n",
       "         [0.10986682],\n",
       "         [0.56762717],\n",
       "         [0.56762717],\n",
       "         [0.42747012],\n",
       "         [0.42747012],\n",
       "         [0.15558913],\n",
       "         [0.15558913],\n",
       "         [0.65909157],\n",
       "         [0.65909157],\n",
       "         [0.41185309],\n",
       "         [0.41185309],\n",
       "         [0.89530582],\n",
       "         [0.89530582],\n",
       "         [0.08651688],\n",
       "         [0.08651688],\n",
       "         [0.90989434],\n",
       "         [0.90989434],\n",
       "         [0.98049295],\n",
       "         [0.98049295],\n",
       "         [0.47606991],\n",
       "         [0.47606991],\n",
       "         [0.04883377],\n",
       "         [0.04883377],\n",
       "         [0.82110423],\n",
       "         [0.82110423],\n",
       "         [0.23896539],\n",
       "         [0.23896539],\n",
       "         [0.82317833],\n",
       "         [0.82317833],\n",
       "         [0.92793541],\n",
       "         [0.92793541],\n",
       "         [0.40615708],\n",
       "         [0.40615708],\n",
       "         [0.17145897],\n",
       "         [0.17145897],\n",
       "         [0.84157934],\n",
       "         [0.84157934],\n",
       "         [0.43195924],\n",
       "         [0.43195924],\n",
       "         [0.33561446],\n",
       "         [0.33561446],\n",
       "         [0.16336255],\n",
       "         [0.16336255],\n",
       "         [0.35467167],\n",
       "         [0.35467167],\n",
       "         [0.44160169],\n",
       "         [0.44160169],\n",
       "         [0.54371615],\n",
       "         [0.54371615],\n",
       "         [0.99767367],\n",
       "         [0.99767367],\n",
       "         [0.50546048],\n",
       "         [0.50546048]])}}"
      ]
     },
     "execution_count": 1,
     "metadata": {},
     "output_type": "execute_result"
    }
   ],
   "source": [
    "ds = load_by_id(run_id_a)\n",
    "ds.get_parameter_data('x1')"
   ]
  },
  {
   "cell_type": "code",
   "execution_count": null,
   "metadata": {},
   "outputs": [],
   "source": []
  }
 ],
 "metadata": {
  "kernelspec": {
   "display_name": "Python 3",
   "language": "python",
   "name": "python3"
  },
  "language_info": {
   "codemirror_mode": {
    "name": "ipython",
    "version": 3
   },
   "file_extension": ".py",
   "mimetype": "text/x-python",
   "name": "python",
   "nbconvert_exporter": "python",
   "pygments_lexer": "ipython3",
   "version": "3.7.7"
  },
  "nbsphinx": {
   "timeout": 600
  },
  "toc": {
   "base_numbering": 1,
   "nav_menu": {},
   "number_sections": true,
   "sideBar": true,
   "skip_h1_title": false,
   "title_cell": "Table of Contents",
   "title_sidebar": "Contents",
   "toc_cell": false,
   "toc_position": {},
   "toc_section_display": true,
   "toc_window_display": false
  },
  "varInspector": {
   "cols": {
    "lenName": 16,
    "lenType": 16,
    "lenVar": 40
   },
   "kernels_config": {
    "python": {
     "delete_cmd_postfix": "",
     "delete_cmd_prefix": "del ",
     "library": "var_list.py",
     "varRefreshCmd": "print(var_dic_list())"
    },
    "r": {
     "delete_cmd_postfix": ") ",
     "delete_cmd_prefix": "rm(",
     "library": "var_list.r",
     "varRefreshCmd": "cat(var_dic_list()) "
    }
   },
   "types_to_exclude": [
    "module",
    "function",
    "builtin_function_or_method",
    "instance",
    "_Feature"
   ],
   "window_display": false
  }
 },
 "nbformat": 4,
 "nbformat_minor": 2
}
