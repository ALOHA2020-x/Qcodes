{
 "cells": [
  {
   "cell_type": "markdown",
   "metadata": {},
   "source": [
    "# DataSet Performance\n",
    "\n",
    "This notebook shows the trade-off between inserting data into a database row-by-row and as binary blobs. Inserting the data row-by-row means that we have direct access to all the data and may perform queries directly on the values of the data. On the other hand, as we shall see, this is much slower than inserting the data directly as binary blobs."
   ]
  },
  {
   "cell_type": "markdown",
   "metadata": {},
   "source": [
    "First, we choose a new location for the database to ensure that we don't add a bunch of benchmarking data to the default one."
   ]
  },
  {
   "cell_type": "code",
   "execution_count": 1,
   "metadata": {
    "execution": {
     "iopub.execute_input": "2020-10-22T10:59:22.905300Z",
     "iopub.status.busy": "2020-10-22T10:59:22.904486Z",
     "iopub.status.idle": "2020-10-22T10:59:23.943983Z",
     "shell.execute_reply": "2020-10-22T10:59:23.944568Z"
    }
   },
   "outputs": [
    {
     "name": "stdout",
     "output_type": "stream",
     "text": [
      "Logging hadn't been started.\n",
      "Activating auto-logging. Current session state plus future input saved.\n",
      "Filename       : /home/vsts/.qcodes/logs/command_history.log\n",
      "Mode           : append\n",
      "Output logging : True\n",
      "Raw input log  : False\n",
      "Timestamping   : True\n",
      "State          : active\n"
     ]
    },
    {
     "name": "stdout",
     "output_type": "stream",
     "text": [
      "Qcodes Logfile : /home/vsts/.qcodes/logs/201022-15079-qcodes.log\n"
     ]
    }
   ],
   "source": [
    "import os\n",
    "cwd = os.getcwd()\n",
    "import qcodes as qc\n",
    "qc.config[\"core\"][\"db_location\"] = os.path.join(cwd, 'testing.db')\n"
   ]
  },
  {
   "cell_type": "code",
   "execution_count": 2,
   "metadata": {
    "execution": {
     "iopub.execute_input": "2020-10-22T10:59:23.951565Z",
     "iopub.status.busy": "2020-10-22T10:59:23.950873Z",
     "iopub.status.idle": "2020-10-22T10:59:24.136746Z",
     "shell.execute_reply": "2020-10-22T10:59:24.136173Z"
    }
   },
   "outputs": [],
   "source": [
    "%matplotlib inline\n",
    "import time\n",
    "import matplotlib.pyplot as plt\n",
    "import numpy as np\n",
    "\n",
    "import qcodes as qc\n",
    "from qcodes.instrument.parameter import ManualParameter\n",
    "from qcodes.dataset.experiment_container import (Experiment,\n",
    "                                                 load_last_experiment,\n",
    "                                                 new_experiment)\n",
    "from qcodes.dataset.sqlite.database import initialise_database\n",
    "from qcodes import load_or_create_experiment\n",
    "from qcodes.dataset.measurements import Measurement"
   ]
  },
  {
   "cell_type": "code",
   "execution_count": 3,
   "metadata": {
    "execution": {
     "iopub.execute_input": "2020-10-22T10:59:24.142105Z",
     "iopub.status.busy": "2020-10-22T10:59:24.141169Z",
     "iopub.status.idle": "2020-10-22T10:59:24.263516Z",
     "shell.execute_reply": "2020-10-22T10:59:24.262826Z"
    }
   },
   "outputs": [
    {
     "name": "stdout",
     "output_type": "stream",
     "text": [
      "\r",
      "0it [00:00, ?it/s]"
     ]
    },
    {
     "name": "stdout",
     "output_type": "stream",
     "text": [
      "\r",
      "Upgrading database; v0 -> v1: : 0it [00:00, ?it/s]"
     ]
    },
    {
     "name": "stdout",
     "output_type": "stream",
     "text": [
      "\r",
      "Upgrading database; v0 -> v1: : 0it [00:00, ?it/s]"
     ]
    },
    {
     "name": "stdout",
     "output_type": "stream",
     "text": [
      "\n",
      "\r",
      "  0%|          | 0/1 [00:00<?, ?it/s]"
     ]
    },
    {
     "name": "stdout",
     "output_type": "stream",
     "text": [
      "\r",
      "Upgrading database; v1 -> v2:   0%|          | 0/1 [00:00<?, ?it/s]"
     ]
    },
    {
     "name": "stdout",
     "output_type": "stream",
     "text": [
      "\r",
      "Upgrading database; v1 -> v2: 100%|██████████| 1/1 [00:00<00:00, 573.23it/s]"
     ]
    },
    {
     "name": "stdout",
     "output_type": "stream",
     "text": [
      "\n",
      "\r",
      "0it [00:00, ?it/s]"
     ]
    },
    {
     "name": "stdout",
     "output_type": "stream",
     "text": [
      "\r",
      "Upgrading database; v2 -> v3: : 0it [00:00, ?it/s]"
     ]
    },
    {
     "name": "stdout",
     "output_type": "stream",
     "text": [
      "\r",
      "Upgrading database; v2 -> v3: : 0it [00:00, ?it/s]"
     ]
    },
    {
     "name": "stdout",
     "output_type": "stream",
     "text": [
      "\n",
      "\r",
      "0it [00:00, ?it/s]"
     ]
    },
    {
     "name": "stdout",
     "output_type": "stream",
     "text": [
      "\r",
      "Upgrading database; v3 -> v4: : 0it [00:00, ?it/s]"
     ]
    },
    {
     "name": "stdout",
     "output_type": "stream",
     "text": [
      "\r",
      "Upgrading database; v3 -> v4: : 0it [00:00, ?it/s]"
     ]
    },
    {
     "name": "stdout",
     "output_type": "stream",
     "text": [
      "\n",
      "\r",
      "  0%|          | 0/1 [00:00<?, ?it/s]"
     ]
    },
    {
     "name": "stdout",
     "output_type": "stream",
     "text": [
      "\r",
      "Upgrading database; v4 -> v5:   0%|          | 0/1 [00:00<?, ?it/s]"
     ]
    },
    {
     "name": "stdout",
     "output_type": "stream",
     "text": [
      "\r",
      "Upgrading database; v4 -> v5: 100%|██████████| 1/1 [00:00<00:00, 486.35it/s]"
     ]
    },
    {
     "name": "stdout",
     "output_type": "stream",
     "text": [
      "\n",
      "\r",
      "0it [00:00, ?it/s]"
     ]
    },
    {
     "name": "stdout",
     "output_type": "stream",
     "text": [
      "\r",
      "Upgrading database; v5 -> v6: : 0it [00:00, ?it/s]"
     ]
    },
    {
     "name": "stdout",
     "output_type": "stream",
     "text": [
      "\r",
      "Upgrading database; v5 -> v6: : 0it [00:00, ?it/s]"
     ]
    },
    {
     "name": "stdout",
     "output_type": "stream",
     "text": [
      "\n",
      "\r",
      "  0%|          | 0/1 [00:00<?, ?it/s]"
     ]
    },
    {
     "name": "stdout",
     "output_type": "stream",
     "text": [
      "\r",
      "Upgrading database; v6 -> v7:   0%|          | 0/1 [00:00<?, ?it/s]"
     ]
    },
    {
     "name": "stdout",
     "output_type": "stream",
     "text": [
      "\r",
      "Upgrading database; v6 -> v7: 100%|██████████| 1/1 [00:00<00:00, 192.20it/s]"
     ]
    },
    {
     "name": "stdout",
     "output_type": "stream",
     "text": [
      "\n",
      "\r",
      "  0%|          | 0/1 [00:00<?, ?it/s]"
     ]
    },
    {
     "name": "stdout",
     "output_type": "stream",
     "text": [
      "\r",
      "Upgrading database; v7 -> v8:   0%|          | 0/1 [00:00<?, ?it/s]"
     ]
    },
    {
     "name": "stdout",
     "output_type": "stream",
     "text": [
      "\r",
      "Upgrading database; v7 -> v8: 100%|██████████| 1/1 [00:00<00:00, 459.85it/s]"
     ]
    },
    {
     "name": "stdout",
     "output_type": "stream",
     "text": [
      "\n",
      "\r",
      "  0%|          | 0/1 [00:00<?, ?it/s]"
     ]
    },
    {
     "name": "stdout",
     "output_type": "stream",
     "text": [
      "\r",
      "Upgrading database; v8 -> v9:   0%|          | 0/1 [00:00<?, ?it/s]"
     ]
    },
    {
     "name": "stdout",
     "output_type": "stream",
     "text": [
      "\r",
      "Upgrading database; v8 -> v9: 100%|██████████| 1/1 [00:00<00:00, 379.54it/s]"
     ]
    },
    {
     "name": "stdout",
     "output_type": "stream",
     "text": [
      "\n"
     ]
    }
   ],
   "source": [
    "initialise_database()\n",
    "exp = load_or_create_experiment(experiment_name='tutorial_exp', sample_name=\"no sample\")"
   ]
  },
  {
   "cell_type": "markdown",
   "metadata": {},
   "source": [
    "Here, we define a simple function to benchmark the time it takes to insert n points with either numeric or array data type.\n",
    "We will compare both the time used to call ``add_result`` and the time used for the full measurement."
   ]
  },
  {
   "cell_type": "code",
   "execution_count": 4,
   "metadata": {
    "execution": {
     "iopub.execute_input": "2020-10-22T10:59:24.273147Z",
     "iopub.status.busy": "2020-10-22T10:59:24.272479Z",
     "iopub.status.idle": "2020-10-22T10:59:24.276621Z",
     "shell.execute_reply": "2020-10-22T10:59:24.275820Z"
    }
   },
   "outputs": [],
   "source": [
    "def insert_data(paramtype, npoints, nreps=1):\n",
    "\n",
    "    meas = Measurement(exp=exp)\n",
    "\n",
    "    x1 = ManualParameter('x1')\n",
    "    x2 = ManualParameter('x2')\n",
    "    x3 = ManualParameter('x3')\n",
    "    y1 = ManualParameter('y1')\n",
    "    y2 = ManualParameter('y2')\n",
    "\n",
    "    meas.register_parameter(x1, paramtype=paramtype)\n",
    "    meas.register_parameter(x2, paramtype=paramtype)\n",
    "    meas.register_parameter(x3, paramtype=paramtype)\n",
    "    meas.register_parameter(y1, setpoints=[x1, x2, x3],\n",
    "                            paramtype=paramtype)\n",
    "    meas.register_parameter(y2, setpoints=[x1, x2, x3],\n",
    "                            paramtype=paramtype)\n",
    "    start = time.perf_counter()\n",
    "    with meas.run() as datasaver:\n",
    "        start_adding = time.perf_counter()\n",
    "        for i in range(nreps):\n",
    "            datasaver.add_result((x1, np.random.rand(npoints)),\n",
    "                                 (x2, np.random.rand(npoints)),\n",
    "                                 (x3, np.random.rand(npoints)),\n",
    "                                 (y1, np.random.rand(npoints)),\n",
    "                                 (y2, np.random.rand(npoints)))\n",
    "        stop_adding = time.perf_counter()\n",
    "        run_id = datasaver.run_id\n",
    "    stop = time.perf_counter()\n",
    "    tot_time = stop - start\n",
    "    add_time = stop_adding - start_adding\n",
    "    return tot_time, add_time, run_id"
   ]
  },
  {
   "cell_type": "markdown",
   "metadata": {},
   "source": [
    "## Comparison between numeric/array data and binary blob"
   ]
  },
  {
   "cell_type": "markdown",
   "metadata": {},
   "source": [
    "### Case1: Short experiment time"
   ]
  },
  {
   "cell_type": "code",
   "execution_count": 5,
   "metadata": {
    "execution": {
     "iopub.execute_input": "2020-10-22T10:59:24.283793Z",
     "iopub.status.busy": "2020-10-22T10:59:24.282714Z",
     "iopub.status.idle": "2020-10-22T10:59:25.143797Z",
     "shell.execute_reply": "2020-10-22T10:59:25.143023Z"
    }
   },
   "outputs": [
    {
     "name": "stdout",
     "output_type": "stream",
     "text": [
      "Starting experimental run with id: 1. \n",
      "Starting experimental run with id: 2. \n",
      "Starting experimental run with id: 3. \n",
      "Starting experimental run with id: 4. \n"
     ]
    },
    {
     "name": "stdout",
     "output_type": "stream",
     "text": [
      "Starting experimental run with id: 5. \n"
     ]
    },
    {
     "name": "stdout",
     "output_type": "stream",
     "text": [
      "Starting experimental run with id: 6. \n",
      "Starting experimental run with id: 7. \n"
     ]
    },
    {
     "name": "stdout",
     "output_type": "stream",
     "text": [
      "Starting experimental run with id: 8. \n",
      "Starting experimental run with id: 9. \n"
     ]
    },
    {
     "name": "stdout",
     "output_type": "stream",
     "text": [
      "Starting experimental run with id: 10. \n",
      "Starting experimental run with id: 11. \n"
     ]
    },
    {
     "name": "stdout",
     "output_type": "stream",
     "text": [
      "Starting experimental run with id: 12. \n",
      "Starting experimental run with id: 13. \n"
     ]
    },
    {
     "name": "stdout",
     "output_type": "stream",
     "text": [
      "Starting experimental run with id: 14. \n"
     ]
    }
   ],
   "source": [
    "sizes = [1,500,1000,2000,3000,4000,5000]\n",
    "t_numeric = []\n",
    "t_numeric_add = []\n",
    "t_array = []\n",
    "t_array_add = []\n",
    "for size in sizes:\n",
    "    tn, tna, run_id_n =  insert_data('numeric', size)\n",
    "    t_numeric.append(tn)\n",
    "    t_numeric_add.append(tna)\n",
    "\n",
    "    ta, taa, run_id_a =  insert_data('array', size)\n",
    "    t_array.append(ta)\n",
    "    t_array_add.append(taa)"
   ]
  },
  {
   "cell_type": "code",
   "execution_count": 6,
   "metadata": {
    "execution": {
     "iopub.execute_input": "2020-10-22T10:59:25.163854Z",
     "iopub.status.busy": "2020-10-22T10:59:25.163145Z",
     "iopub.status.idle": "2020-10-22T10:59:25.389370Z",
     "shell.execute_reply": "2020-10-22T10:59:25.388719Z"
    }
   },
   "outputs": [
    {
     "data": {
      "image/png": "[encoded data removed]",
      "text/plain": [
       "<Figure size 432x288 with 1 Axes>"
      ]
     },
     "metadata": {
      "needs_background": "light"
     },
     "output_type": "display_data"
    }
   ],
   "source": [
    "fig, ax = plt.subplots(1,1)\n",
    "ax.plot(sizes, t_numeric, 'o-', label='Inserting row-by-row')\n",
    "ax.plot(sizes, t_numeric_add, 'o-', label='Inserting row-by-row: add_result only')\n",
    "ax.plot(sizes, t_array, 'd-', label='Inserting as binary blob')\n",
    "ax.plot(sizes, t_array_add, 'd-', label='Inserting as binary blob: add_result only')\n",
    "ax.legend()\n",
    "ax.set_xlabel('Array length')\n",
    "ax.set_ylabel('Time (s)')\n",
    "fig.tight_layout()"
   ]
  },
  {
   "cell_type": "markdown",
   "metadata": {},
   "source": [
    "As shown in the latter figure, the time to setup and and close the experiment is approximately 0.4 sec. In case of small array sizes, the difference between inserting values of data as arrays and inserting them row-by-row is relatively unimportant. At larger array sizes, i.e. above 10000 points, the cost of writing data as individual datapoints starts to become important.\n"
   ]
  },
  {
   "cell_type": "markdown",
   "metadata": {},
   "source": [
    "### Case2: Long experiment time "
   ]
  },
  {
   "cell_type": "code",
   "execution_count": 7,
   "metadata": {
    "execution": {
     "iopub.execute_input": "2020-10-22T10:59:25.397149Z",
     "iopub.status.busy": "2020-10-22T10:59:25.396354Z",
     "iopub.status.idle": "2020-10-22T11:00:23.704027Z",
     "shell.execute_reply": "2020-10-22T11:00:23.703439Z"
    }
   },
   "outputs": [
    {
     "name": "stdout",
     "output_type": "stream",
     "text": [
      "Starting experimental run with id: 15. \n",
      "Starting experimental run with id: 16. \n",
      "Starting experimental run with id: 17. \n"
     ]
    },
    {
     "name": "stdout",
     "output_type": "stream",
     "text": [
      "Starting experimental run with id: 18. \n",
      "Starting experimental run with id: 19. \n"
     ]
    },
    {
     "name": "stdout",
     "output_type": "stream",
     "text": [
      "Starting experimental run with id: 20. \n"
     ]
    },
    {
     "name": "stdout",
     "output_type": "stream",
     "text": [
      "Starting experimental run with id: 21. \n"
     ]
    },
    {
     "name": "stdout",
     "output_type": "stream",
     "text": [
      "Starting experimental run with id: 22. \n"
     ]
    },
    {
     "name": "stdout",
     "output_type": "stream",
     "text": [
      "Starting experimental run with id: 23. \n"
     ]
    },
    {
     "name": "stdout",
     "output_type": "stream",
     "text": [
      "Starting experimental run with id: 24. \n"
     ]
    },
    {
     "name": "stdout",
     "output_type": "stream",
     "text": [
      "Starting experimental run with id: 25. \n"
     ]
    },
    {
     "name": "stdout",
     "output_type": "stream",
     "text": [
      "Starting experimental run with id: 26. \n"
     ]
    },
    {
     "name": "stdout",
     "output_type": "stream",
     "text": [
      "Starting experimental run with id: 27. \n"
     ]
    },
    {
     "name": "stdout",
     "output_type": "stream",
     "text": [
      "Starting experimental run with id: 28. \n"
     ]
    }
   ],
   "source": [
    "sizes = [1,500,1000,2000,3000,4000,5000]\n",
    "nreps = 100\n",
    "t_numeric = []\n",
    "t_numeric_add = []\n",
    "t_numeric_run_ids = []\n",
    "t_array = []\n",
    "t_array_add = []\n",
    "t_array_run_ids = []\n",
    "for size in sizes:\n",
    "    tn, tna, run_id_n =  insert_data('numeric', size, nreps=nreps)\n",
    "    t_numeric.append(tn)\n",
    "    t_numeric_add.append(tna)\n",
    "    t_numeric_run_ids.append(run_id_n)\n",
    "\n",
    "    ta, taa, run_id_a =  insert_data('array', size, nreps=nreps)\n",
    "    t_array.append(ta)\n",
    "    t_array_add.append(taa)\n",
    "    t_array_run_ids.append(run_id_a)"
   ]
  },
  {
   "cell_type": "code",
   "execution_count": 8,
   "metadata": {
    "execution": {
     "iopub.execute_input": "2020-10-22T11:00:23.730669Z",
     "iopub.status.busy": "2020-10-22T11:00:23.724672Z",
     "iopub.status.idle": "2020-10-22T11:00:23.936772Z",
     "shell.execute_reply": "2020-10-22T11:00:23.936024Z"
    },
    "scrolled": true
   },
   "outputs": [
    {
     "data": {
      "image/png": "[encoded data removed]",
      "text/plain": [
       "<Figure size 432x288 with 1 Axes>"
      ]
     },
     "metadata": {
      "needs_background": "light"
     },
     "output_type": "display_data"
    }
   ],
   "source": [
    "fig, ax = plt.subplots(1,1)\n",
    "ax.plot(sizes, t_numeric, 'o-', label='Inserting row-by-row')\n",
    "ax.plot(sizes, t_numeric_add, 'o-', label='Inserting row-by-row: add_result only')\n",
    "ax.plot(sizes, t_array, 'd-', label='Inserting as binary blob')\n",
    "ax.plot(sizes, t_array_add, 'd-', label='Inserting as binary blob: add_result only')\n",
    "ax.legend()\n",
    "ax.set_xlabel('Array length')\n",
    "ax.set_ylabel('Time (s)')\n",
    "fig.tight_layout()"
   ]
  },
  {
   "cell_type": "markdown",
   "metadata": {},
   "source": [
    "However, as we increase the length of the experiment, as seen here by repeating the insertion 100 times, we see a big difference between inserting values of the data row-by-row and inserting it as a binary blob."
   ]
  },
  {
   "cell_type": "markdown",
   "metadata": {},
   "source": [
    "## Loading the data "
   ]
  },
  {
   "cell_type": "code",
   "execution_count": 9,
   "metadata": {
    "execution": {
     "iopub.execute_input": "2020-10-22T11:00:23.941109Z",
     "iopub.status.busy": "2020-10-22T11:00:23.939981Z",
     "iopub.status.idle": "2020-10-22T11:00:23.944809Z",
     "shell.execute_reply": "2020-10-22T11:00:23.944225Z"
    }
   },
   "outputs": [],
   "source": [
    "from qcodes.dataset.data_set import load_by_id\n",
    "from qcodes.dataset.data_export import get_data_by_id"
   ]
  },
  {
   "cell_type": "markdown",
   "metadata": {},
   "source": [
    "As usual you can load the data by using the ``load_by_id`` function but you will notice that the different storage methods\n",
    "are reflected in shape of the data as it is retrieved. "
   ]
  },
  {
   "cell_type": "code",
   "execution_count": 10,
   "metadata": {
    "execution": {
     "iopub.execute_input": "2020-10-22T11:00:23.948989Z",
     "iopub.status.busy": "2020-10-22T11:00:23.948370Z",
     "iopub.status.idle": "2020-10-22T11:00:23.952068Z",
     "shell.execute_reply": "2020-10-22T11:00:23.951462Z"
    }
   },
   "outputs": [],
   "source": [
    "run_id_n = t_numeric_run_ids[0]\n",
    "run_id_a = t_array_run_ids[0]"
   ]
  },
  {
   "cell_type": "code",
   "execution_count": 11,
   "metadata": {
    "execution": {
     "iopub.execute_input": "2020-10-22T11:00:23.955377Z",
     "iopub.status.busy": "2020-10-22T11:00:23.954797Z",
     "iopub.status.idle": "2020-10-22T11:00:23.965100Z",
     "shell.execute_reply": "2020-10-22T11:00:23.964687Z"
    },
    "scrolled": true
   },
   "outputs": [
    {
     "data": {
      "text/plain": [
       "{'x1': {'x1': array([0.67446493, 0.67446493, 0.72231269, 0.72231269, 0.47124838,\n",
       "         0.47124838, 0.79630823, 0.79630823, 0.14356001, 0.14356001,\n",
       "         0.08161108, 0.08161108, 0.13926951, 0.13926951, 0.29812068,\n",
       "         0.29812068, 0.72562438, 0.72562438, 0.18726803, 0.18726803,\n",
       "         0.64035905, 0.64035905, 0.84256003, 0.84256003, 0.04877626,\n",
       "         0.04877626, 0.15987059, 0.15987059, 0.65195505, 0.65195505,\n",
       "         0.97717558, 0.97717558, 0.20615491, 0.20615491, 0.67473597,\n",
       "         0.67473597, 0.63656882, 0.63656882, 0.23767538, 0.23767538,\n",
       "         0.33496939, 0.33496939, 0.43135793, 0.43135793, 0.44414541,\n",
       "         0.44414541, 0.08965011, 0.08965011, 0.50763844, 0.50763844,\n",
       "         0.02579332, 0.02579332, 0.00929218, 0.00929218, 0.59610565,\n",
       "         0.59610565, 0.19688314, 0.19688314, 0.50495627, 0.50495627,\n",
       "         0.65453574, 0.65453574, 0.65648251, 0.65648251, 0.08656768,\n",
       "         0.08656768, 0.11687959, 0.11687959, 0.29617336, 0.29617336,\n",
       "         0.4229097 , 0.4229097 , 0.83554906, 0.83554906, 0.01040125,\n",
       "         0.01040125, 0.43237986, 0.43237986, 0.97177038, 0.97177038,\n",
       "         0.81518596, 0.81518596, 0.36712624, 0.36712624, 0.9452158 ,\n",
       "         0.9452158 , 0.68629137, 0.68629137, 0.72038033, 0.72038033,\n",
       "         0.87754772, 0.87754772, 0.99756826, 0.99756826, 0.54284651,\n",
       "         0.54284651, 0.33444919, 0.33444919, 0.1654479 , 0.1654479 ,\n",
       "         0.68300294, 0.68300294, 0.15317156, 0.15317156, 0.43698967,\n",
       "         0.43698967, 0.88695856, 0.88695856, 0.35130495, 0.35130495,\n",
       "         0.90053283, 0.90053283, 0.52046598, 0.52046598, 0.48354919,\n",
       "         0.48354919, 0.70378894, 0.70378894, 0.21245524, 0.21245524,\n",
       "         0.35619902, 0.35619902, 0.73429978, 0.73429978, 0.87978612,\n",
       "         0.87978612, 0.78600013, 0.78600013, 0.34450254, 0.34450254,\n",
       "         0.57203136, 0.57203136, 0.77635977, 0.77635977, 0.09514494,\n",
       "         0.09514494, 0.08793971, 0.08793971, 0.10063169, 0.10063169,\n",
       "         0.08438942, 0.08438942, 0.07221435, 0.07221435, 0.65185844,\n",
       "         0.65185844, 0.96839339, 0.96839339, 0.70977839, 0.70977839,\n",
       "         0.73643073, 0.73643073, 0.21402311, 0.21402311, 0.98837252,\n",
       "         0.98837252, 0.48331463, 0.48331463, 0.86346213, 0.86346213,\n",
       "         0.81525936, 0.81525936, 0.8209164 , 0.8209164 , 0.29359347,\n",
       "         0.29359347, 0.65272905, 0.65272905, 0.85360602, 0.85360602,\n",
       "         0.48363956, 0.48363956, 0.81091087, 0.81091087, 0.17710902,\n",
       "         0.17710902, 0.03113973, 0.03113973, 0.15472674, 0.15472674,\n",
       "         0.59989876, 0.59989876, 0.53651959, 0.53651959, 0.57994238,\n",
       "         0.57994238, 0.79022501, 0.79022501, 0.17459559, 0.17459559,\n",
       "         0.99254515, 0.99254515, 0.48399226, 0.48399226, 0.21008457,\n",
       "         0.21008457, 0.94604031, 0.94604031, 0.84377311, 0.84377311])}}"
      ]
     },
     "execution_count": 1,
     "metadata": {},
     "output_type": "execute_result"
    }
   ],
   "source": [
    "ds = load_by_id(run_id_n)\n",
    "ds.get_parameter_data('x1')"
   ]
  },
  {
   "cell_type": "markdown",
   "metadata": {},
   "source": [
    "And a dataset stored as binary arrays"
   ]
  },
  {
   "cell_type": "code",
   "execution_count": 12,
   "metadata": {
    "execution": {
     "iopub.execute_input": "2020-10-22T11:00:23.968089Z",
     "iopub.status.busy": "2020-10-22T11:00:23.967569Z",
     "iopub.status.idle": "2020-10-22T11:00:24.024652Z",
     "shell.execute_reply": "2020-10-22T11:00:24.025289Z"
    },
    "scrolled": true
   },
   "outputs": [
    {
     "data": {
      "text/plain": [
       "{'x1': {'x1': array([[0.7609661 ],\n",
       "         [0.7609661 ],\n",
       "         [0.29259583],\n",
       "         [0.29259583],\n",
       "         [0.05306874],\n",
       "         [0.05306874],\n",
       "         [0.74874319],\n",
       "         [0.74874319],\n",
       "         [0.83087993],\n",
       "         [0.83087993],\n",
       "         [0.10761559],\n",
       "         [0.10761559],\n",
       "         [0.50717822],\n",
       "         [0.50717822],\n",
       "         [0.2525909 ],\n",
       "         [0.2525909 ],\n",
       "         [0.16793101],\n",
       "         [0.16793101],\n",
       "         [0.13997902],\n",
       "         [0.13997902],\n",
       "         [0.20293421],\n",
       "         [0.20293421],\n",
       "         [0.50527258],\n",
       "         [0.50527258],\n",
       "         [0.27690605],\n",
       "         [0.27690605],\n",
       "         [0.99711212],\n",
       "         [0.99711212],\n",
       "         [0.70178747],\n",
       "         [0.70178747],\n",
       "         [0.76719151],\n",
       "         [0.76719151],\n",
       "         [0.56550857],\n",
       "         [0.56550857],\n",
       "         [0.97955678],\n",
       "         [0.97955678],\n",
       "         [0.68813922],\n",
       "         [0.68813922],\n",
       "         [0.58829394],\n",
       "         [0.58829394],\n",
       "         [0.13559362],\n",
       "         [0.13559362],\n",
       "         [0.02603593],\n",
       "         [0.02603593],\n",
       "         [0.41517027],\n",
       "         [0.41517027],\n",
       "         [0.39566312],\n",
       "         [0.39566312],\n",
       "         [0.46647204],\n",
       "         [0.46647204],\n",
       "         [0.37951887],\n",
       "         [0.37951887],\n",
       "         [0.93307965],\n",
       "         [0.93307965],\n",
       "         [0.05707293],\n",
       "         [0.05707293],\n",
       "         [0.32883296],\n",
       "         [0.32883296],\n",
       "         [0.06855723],\n",
       "         [0.06855723],\n",
       "         [0.40771142],\n",
       "         [0.40771142],\n",
       "         [0.71547808],\n",
       "         [0.71547808],\n",
       "         [0.27405163],\n",
       "         [0.27405163],\n",
       "         [0.10992885],\n",
       "         [0.10992885],\n",
       "         [0.56143509],\n",
       "         [0.56143509],\n",
       "         [0.3338427 ],\n",
       "         [0.3338427 ],\n",
       "         [0.84489766],\n",
       "         [0.84489766],\n",
       "         [0.59034641],\n",
       "         [0.59034641],\n",
       "         [0.90883324],\n",
       "         [0.90883324],\n",
       "         [0.10191351],\n",
       "         [0.10191351],\n",
       "         [0.07318162],\n",
       "         [0.07318162],\n",
       "         [0.37542236],\n",
       "         [0.37542236],\n",
       "         [0.74280649],\n",
       "         [0.74280649],\n",
       "         [0.26705204],\n",
       "         [0.26705204],\n",
       "         [0.00130035],\n",
       "         [0.00130035],\n",
       "         [0.40155458],\n",
       "         [0.40155458],\n",
       "         [0.89144888],\n",
       "         [0.89144888],\n",
       "         [0.81410616],\n",
       "         [0.81410616],\n",
       "         [0.40479432],\n",
       "         [0.40479432],\n",
       "         [0.46691744],\n",
       "         [0.46691744],\n",
       "         [0.18717633],\n",
       "         [0.18717633],\n",
       "         [0.88988965],\n",
       "         [0.88988965],\n",
       "         [0.58966236],\n",
       "         [0.58966236],\n",
       "         [0.21540378],\n",
       "         [0.21540378],\n",
       "         [0.79206234],\n",
       "         [0.79206234],\n",
       "         [0.39646737],\n",
       "         [0.39646737],\n",
       "         [0.24847699],\n",
       "         [0.24847699],\n",
       "         [0.1228801 ],\n",
       "         [0.1228801 ],\n",
       "         [0.66995449],\n",
       "         [0.66995449],\n",
       "         [0.34725712],\n",
       "         [0.34725712],\n",
       "         [0.53191746],\n",
       "         [0.53191746],\n",
       "         [0.05441159],\n",
       "         [0.05441159],\n",
       "         [0.50219842],\n",
       "         [0.50219842],\n",
       "         [0.60274154],\n",
       "         [0.60274154],\n",
       "         [0.23108137],\n",
       "         [0.23108137],\n",
       "         [0.19092431],\n",
       "         [0.19092431],\n",
       "         [0.76307026],\n",
       "         [0.76307026],\n",
       "         [0.67117164],\n",
       "         [0.67117164],\n",
       "         [0.53878547],\n",
       "         [0.53878547],\n",
       "         [0.59794215],\n",
       "         [0.59794215],\n",
       "         [0.04367431],\n",
       "         [0.04367431],\n",
       "         [0.65655433],\n",
       "         [0.65655433],\n",
       "         [0.60329262],\n",
       "         [0.60329262],\n",
       "         [0.33969176],\n",
       "         [0.33969176],\n",
       "         [0.56482852],\n",
       "         [0.56482852],\n",
       "         [0.2248231 ],\n",
       "         [0.2248231 ],\n",
       "         [0.41538317],\n",
       "         [0.41538317],\n",
       "         [0.18071535],\n",
       "         [0.18071535],\n",
       "         [0.55877611],\n",
       "         [0.55877611],\n",
       "         [0.48158134],\n",
       "         [0.48158134],\n",
       "         [0.94366755],\n",
       "         [0.94366755],\n",
       "         [0.13455733],\n",
       "         [0.13455733],\n",
       "         [0.46541409],\n",
       "         [0.46541409],\n",
       "         [0.6344578 ],\n",
       "         [0.6344578 ],\n",
       "         [0.604955  ],\n",
       "         [0.604955  ],\n",
       "         [0.80364146],\n",
       "         [0.80364146],\n",
       "         [0.80564058],\n",
       "         [0.80564058],\n",
       "         [0.27088467],\n",
       "         [0.27088467],\n",
       "         [0.37721965],\n",
       "         [0.37721965],\n",
       "         [0.25324146],\n",
       "         [0.25324146],\n",
       "         [0.20177655],\n",
       "         [0.20177655],\n",
       "         [0.82616992],\n",
       "         [0.82616992],\n",
       "         [0.22994263],\n",
       "         [0.22994263],\n",
       "         [0.95704553],\n",
       "         [0.95704553],\n",
       "         [0.30589597],\n",
       "         [0.30589597],\n",
       "         [0.24053717],\n",
       "         [0.24053717],\n",
       "         [0.57617004],\n",
       "         [0.57617004],\n",
       "         [0.82785893],\n",
       "         [0.82785893],\n",
       "         [0.82259004],\n",
       "         [0.82259004],\n",
       "         [0.18160707],\n",
       "         [0.18160707]])}}"
      ]
     },
     "execution_count": 1,
     "metadata": {},
     "output_type": "execute_result"
    }
   ],
   "source": [
    "ds = load_by_id(run_id_a)\n",
    "ds.get_parameter_data('x1')"
   ]
  },
  {
   "cell_type": "code",
   "execution_count": null,
   "metadata": {},
   "outputs": [],
   "source": []
  }
 ],
 "metadata": {
  "kernelspec": {
   "display_name": "Python 3",
   "language": "python",
   "name": "python3"
  },
  "language_info": {
   "codemirror_mode": {
    "name": "ipython",
    "version": 3
   },
   "file_extension": ".py",
   "mimetype": "text/x-python",
   "name": "python",
   "nbconvert_exporter": "python",
   "pygments_lexer": "ipython3",
   "version": "3.7.7"
  },
  "nbsphinx": {
   "timeout": 600
  },
  "toc": {
   "base_numbering": 1,
   "nav_menu": {},
   "number_sections": true,
   "sideBar": true,
   "skip_h1_title": false,
   "title_cell": "Table of Contents",
   "title_sidebar": "Contents",
   "toc_cell": false,
   "toc_position": {},
   "toc_section_display": true,
   "toc_window_display": false
  },
  "varInspector": {
   "cols": {
    "lenName": 16,
    "lenType": 16,
    "lenVar": 40
   },
   "kernels_config": {
    "python": {
     "delete_cmd_postfix": "",
     "delete_cmd_prefix": "del ",
     "library": "var_list.py",
     "varRefreshCmd": "print(var_dic_list())"
    },
    "r": {
     "delete_cmd_postfix": ") ",
     "delete_cmd_prefix": "rm(",
     "library": "var_list.r",
     "varRefreshCmd": "cat(var_dic_list()) "
    }
   },
   "types_to_exclude": [
    "module",
    "function",
    "builtin_function_or_method",
    "instance",
    "_Feature"
   ],
   "window_display": false
  }
 },
 "nbformat": 4,
 "nbformat_minor": 2
}
