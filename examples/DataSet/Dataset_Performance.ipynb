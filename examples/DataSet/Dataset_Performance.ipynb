{
 "cells": [
  {
   "cell_type": "markdown",
   "metadata": {},
   "source": [
    "# DataSet Performance\n",
    "\n",
    "This notebook shows the trade-off between inserting data into a database row-by-row and as binary blobs. Inserting the data row-by-row means that we have direct access to all the data and may perform queries directly on the values of the data. On the other hand, as we shall see, this is much slower than inserting the data directly as binary blobs."
   ]
  },
  {
   "cell_type": "markdown",
   "metadata": {},
   "source": [
    "First, we choose a new location for the database to ensure that we don't add a bunch of benchmarking data to the default one."
   ]
  },
  {
   "cell_type": "code",
   "execution_count": 1,
   "metadata": {
    "execution": {
     "iopub.execute_input": "2020-12-14T11:33:07.114019Z",
     "iopub.status.busy": "2020-12-14T11:33:07.113273Z",
     "iopub.status.idle": "2020-12-14T11:33:08.163512Z",
     "shell.execute_reply": "2020-12-14T11:33:08.162161Z"
    }
   },
   "outputs": [
    {
     "name": "stdout",
     "output_type": "stream",
     "text": [
      "Logging hadn't been started.\n",
      "Activating auto-logging. Current session state plus future input saved.\n",
      "Filename       : /home/vsts/.qcodes/logs/command_history.log\n",
      "Mode           : append\n",
      "Output logging : True\n",
      "Raw input log  : False\n",
      "Timestamping   : True\n",
      "State          : active\n"
     ]
    },
    {
     "name": "stdout",
     "output_type": "stream",
     "text": [
      "Qcodes Logfile : /home/vsts/.qcodes/logs/201214-14041-qcodes.log\n"
     ]
    }
   ],
   "source": [
    "import os\n",
    "cwd = os.getcwd()\n",
    "import qcodes as qc\n",
    "qc.config[\"core\"][\"db_location\"] = os.path.join(cwd, 'testing.db')\n"
   ]
  },
  {
   "cell_type": "code",
   "execution_count": 2,
   "metadata": {
    "execution": {
     "iopub.execute_input": "2020-12-14T11:33:08.169582Z",
     "iopub.status.busy": "2020-12-14T11:33:08.169049Z",
     "iopub.status.idle": "2020-12-14T11:33:08.343865Z",
     "shell.execute_reply": "2020-12-14T11:33:08.342912Z"
    }
   },
   "outputs": [],
   "source": [
    "%matplotlib inline\n",
    "import time\n",
    "import matplotlib.pyplot as plt\n",
    "import numpy as np\n",
    "\n",
    "import qcodes as qc\n",
    "from qcodes.instrument.parameter import ManualParameter\n",
    "from qcodes.dataset.experiment_container import (Experiment,\n",
    "                                                 load_last_experiment,\n",
    "                                                 new_experiment)\n",
    "from qcodes.dataset.sqlite.database import initialise_database\n",
    "from qcodes import load_or_create_experiment\n",
    "from qcodes.dataset.measurements import Measurement"
   ]
  },
  {
   "cell_type": "code",
   "execution_count": 3,
   "metadata": {
    "execution": {
     "iopub.execute_input": "2020-12-14T11:33:08.347046Z",
     "iopub.status.busy": "2020-12-14T11:33:08.346529Z",
     "iopub.status.idle": "2020-12-14T11:33:08.487942Z",
     "shell.execute_reply": "2020-12-14T11:33:08.487393Z"
    }
   },
   "outputs": [
    {
     "name": "stdout",
     "output_type": "stream",
     "text": [
      "\r",
      "0it [00:00, ?it/s]"
     ]
    },
    {
     "name": "stdout",
     "output_type": "stream",
     "text": [
      "\r",
      "Upgrading database; v0 -> v1: : 0it [00:00, ?it/s]"
     ]
    },
    {
     "name": "stdout",
     "output_type": "stream",
     "text": [
      "\r",
      "Upgrading database; v0 -> v1: : 0it [00:00, ?it/s]"
     ]
    },
    {
     "name": "stdout",
     "output_type": "stream",
     "text": [
      "\n",
      "\r",
      "  0%|          | 0/1 [00:00<?, ?it/s]"
     ]
    },
    {
     "name": "stdout",
     "output_type": "stream",
     "text": [
      "\r",
      "Upgrading database; v1 -> v2:   0%|          | 0/1 [00:00<?, ?it/s]"
     ]
    },
    {
     "name": "stdout",
     "output_type": "stream",
     "text": [
      "\r",
      "Upgrading database; v1 -> v2: 100%|██████████| 1/1 [00:00<00:00, 591.58it/s]"
     ]
    },
    {
     "name": "stdout",
     "output_type": "stream",
     "text": [
      "\n",
      "\r",
      "0it [00:00, ?it/s]"
     ]
    },
    {
     "name": "stdout",
     "output_type": "stream",
     "text": [
      "\r",
      "Upgrading database; v2 -> v3: : 0it [00:00, ?it/s]"
     ]
    },
    {
     "name": "stdout",
     "output_type": "stream",
     "text": [
      "\r",
      "Upgrading database; v2 -> v3: : 0it [00:00, ?it/s]"
     ]
    },
    {
     "name": "stdout",
     "output_type": "stream",
     "text": [
      "\n",
      "\r",
      "0it [00:00, ?it/s]"
     ]
    },
    {
     "name": "stdout",
     "output_type": "stream",
     "text": [
      "\r",
      "Upgrading database; v3 -> v4: : 0it [00:00, ?it/s]"
     ]
    },
    {
     "name": "stdout",
     "output_type": "stream",
     "text": [
      "\r",
      "Upgrading database; v3 -> v4: : 0it [00:00, ?it/s]"
     ]
    },
    {
     "name": "stdout",
     "output_type": "stream",
     "text": [
      "\n",
      "\r",
      "  0%|          | 0/1 [00:00<?, ?it/s]"
     ]
    },
    {
     "name": "stdout",
     "output_type": "stream",
     "text": [
      "\r",
      "Upgrading database; v4 -> v5:   0%|          | 0/1 [00:00<?, ?it/s]"
     ]
    },
    {
     "name": "stdout",
     "output_type": "stream",
     "text": [
      "\r",
      "Upgrading database; v4 -> v5: 100%|██████████| 1/1 [00:00<00:00, 1158.97it/s]"
     ]
    },
    {
     "name": "stdout",
     "output_type": "stream",
     "text": [
      "\n",
      "\r",
      "0it [00:00, ?it/s]"
     ]
    },
    {
     "name": "stdout",
     "output_type": "stream",
     "text": [
      "\r",
      "Upgrading database; v5 -> v6: : 0it [00:00, ?it/s]"
     ]
    },
    {
     "name": "stdout",
     "output_type": "stream",
     "text": [
      "\r",
      "Upgrading database; v5 -> v6: : 0it [00:00, ?it/s]"
     ]
    },
    {
     "name": "stdout",
     "output_type": "stream",
     "text": [
      "\n",
      "\r",
      "  0%|          | 0/1 [00:00<?, ?it/s]"
     ]
    },
    {
     "name": "stdout",
     "output_type": "stream",
     "text": [
      "\r",
      "Upgrading database; v6 -> v7:   0%|          | 0/1 [00:00<?, ?it/s]"
     ]
    },
    {
     "name": "stdout",
     "output_type": "stream",
     "text": [
      "\r",
      "Upgrading database; v6 -> v7: 100%|██████████| 1/1 [00:00<00:00, 157.67it/s]"
     ]
    },
    {
     "name": "stdout",
     "output_type": "stream",
     "text": [
      "\n",
      "\r",
      "  0%|          | 0/1 [00:00<?, ?it/s]"
     ]
    },
    {
     "name": "stdout",
     "output_type": "stream",
     "text": [
      "\r",
      "Upgrading database; v7 -> v8:   0%|          | 0/1 [00:00<?, ?it/s]"
     ]
    },
    {
     "name": "stdout",
     "output_type": "stream",
     "text": [
      "\r",
      "Upgrading database; v7 -> v8: 100%|██████████| 1/1 [00:00<00:00, 477.66it/s]"
     ]
    },
    {
     "name": "stdout",
     "output_type": "stream",
     "text": [
      "\n",
      "\r",
      "  0%|          | 0/1 [00:00<?, ?it/s]"
     ]
    },
    {
     "name": "stdout",
     "output_type": "stream",
     "text": [
      "\r",
      "Upgrading database; v8 -> v9:   0%|          | 0/1 [00:00<?, ?it/s]"
     ]
    },
    {
     "name": "stdout",
     "output_type": "stream",
     "text": [
      "\r",
      "Upgrading database; v8 -> v9: 100%|██████████| 1/1 [00:00<00:00, 1328.15it/s]"
     ]
    },
    {
     "name": "stdout",
     "output_type": "stream",
     "text": [
      "\n"
     ]
    }
   ],
   "source": [
    "initialise_database()\n",
    "exp = load_or_create_experiment(experiment_name='tutorial_exp', sample_name=\"no sample\")"
   ]
  },
  {
   "cell_type": "markdown",
   "metadata": {},
   "source": [
    "Here, we define a simple function to benchmark the time it takes to insert n points with either numeric or array data type.\n",
    "We will compare both the time used to call ``add_result`` and the time used for the full measurement."
   ]
  },
  {
   "cell_type": "code",
   "execution_count": 4,
   "metadata": {
    "execution": {
     "iopub.execute_input": "2020-12-14T11:33:08.495799Z",
     "iopub.status.busy": "2020-12-14T11:33:08.495299Z",
     "iopub.status.idle": "2020-12-14T11:33:08.498640Z",
     "shell.execute_reply": "2020-12-14T11:33:08.498134Z"
    }
   },
   "outputs": [],
   "source": [
    "def insert_data(paramtype, npoints, nreps=1):\n",
    "\n",
    "    meas = Measurement(exp=exp)\n",
    "\n",
    "    x1 = ManualParameter('x1')\n",
    "    x2 = ManualParameter('x2')\n",
    "    x3 = ManualParameter('x3')\n",
    "    y1 = ManualParameter('y1')\n",
    "    y2 = ManualParameter('y2')\n",
    "\n",
    "    meas.register_parameter(x1, paramtype=paramtype)\n",
    "    meas.register_parameter(x2, paramtype=paramtype)\n",
    "    meas.register_parameter(x3, paramtype=paramtype)\n",
    "    meas.register_parameter(y1, setpoints=[x1, x2, x3],\n",
    "                            paramtype=paramtype)\n",
    "    meas.register_parameter(y2, setpoints=[x1, x2, x3],\n",
    "                            paramtype=paramtype)\n",
    "    start = time.perf_counter()\n",
    "    with meas.run() as datasaver:\n",
    "        start_adding = time.perf_counter()\n",
    "        for i in range(nreps):\n",
    "            datasaver.add_result((x1, np.random.rand(npoints)),\n",
    "                                 (x2, np.random.rand(npoints)),\n",
    "                                 (x3, np.random.rand(npoints)),\n",
    "                                 (y1, np.random.rand(npoints)),\n",
    "                                 (y2, np.random.rand(npoints)))\n",
    "        stop_adding = time.perf_counter()\n",
    "        run_id = datasaver.run_id\n",
    "    stop = time.perf_counter()\n",
    "    tot_time = stop - start\n",
    "    add_time = stop_adding - start_adding\n",
    "    return tot_time, add_time, run_id"
   ]
  },
  {
   "cell_type": "markdown",
   "metadata": {},
   "source": [
    "## Comparison between numeric/array data and binary blob"
   ]
  },
  {
   "cell_type": "markdown",
   "metadata": {},
   "source": [
    "### Case1: Short experiment time"
   ]
  },
  {
   "cell_type": "code",
   "execution_count": 5,
   "metadata": {
    "execution": {
     "iopub.execute_input": "2020-12-14T11:33:08.505011Z",
     "iopub.status.busy": "2020-12-14T11:33:08.504171Z",
     "iopub.status.idle": "2020-12-14T11:33:09.405253Z",
     "shell.execute_reply": "2020-12-14T11:33:09.404779Z"
    }
   },
   "outputs": [
    {
     "name": "stdout",
     "output_type": "stream",
     "text": [
      "Starting experimental run with id: 1. \n",
      "Starting experimental run with id: 2. \n",
      "Starting experimental run with id: 3. \n"
     ]
    },
    {
     "name": "stdout",
     "output_type": "stream",
     "text": [
      "Starting experimental run with id: 4. \n"
     ]
    },
    {
     "name": "stdout",
     "output_type": "stream",
     "text": [
      "Starting experimental run with id: 5. \n"
     ]
    },
    {
     "name": "stdout",
     "output_type": "stream",
     "text": [
      "Starting experimental run with id: 6. \n",
      "Starting experimental run with id: 7. \n"
     ]
    },
    {
     "name": "stdout",
     "output_type": "stream",
     "text": [
      "Starting experimental run with id: 8. \n"
     ]
    },
    {
     "name": "stdout",
     "output_type": "stream",
     "text": [
      "Starting experimental run with id: 9. \n"
     ]
    },
    {
     "name": "stdout",
     "output_type": "stream",
     "text": [
      "Starting experimental run with id: 10. \n",
      "Starting experimental run with id: 11. \n"
     ]
    },
    {
     "name": "stdout",
     "output_type": "stream",
     "text": [
      "Starting experimental run with id: 12. \n"
     ]
    },
    {
     "name": "stdout",
     "output_type": "stream",
     "text": [
      "Starting experimental run with id: 13. \n"
     ]
    },
    {
     "name": "stdout",
     "output_type": "stream",
     "text": [
      "Starting experimental run with id: 14. \n"
     ]
    }
   ],
   "source": [
    "sizes = [1,500,1000,2000,3000,4000,5000]\n",
    "t_numeric = []\n",
    "t_numeric_add = []\n",
    "t_array = []\n",
    "t_array_add = []\n",
    "for size in sizes:\n",
    "    tn, tna, run_id_n =  insert_data('numeric', size)\n",
    "    t_numeric.append(tn)\n",
    "    t_numeric_add.append(tna)\n",
    "\n",
    "    ta, taa, run_id_a =  insert_data('array', size)\n",
    "    t_array.append(ta)\n",
    "    t_array_add.append(taa)"
   ]
  },
  {
   "cell_type": "code",
   "execution_count": 6,
   "metadata": {
    "execution": {
     "iopub.execute_input": "2020-12-14T11:33:09.422135Z",
     "iopub.status.busy": "2020-12-14T11:33:09.421643Z",
     "iopub.status.idle": "2020-12-14T11:33:09.589602Z",
     "shell.execute_reply": "2020-12-14T11:33:09.590097Z"
    }
   },
   "outputs": [
    {
     "data": {
      "image/png": "[encoded data removed]",
      "text/plain": [
       "<Figure size 432x288 with 1 Axes>"
      ]
     },
     "metadata": {
      "needs_background": "light"
     },
     "output_type": "display_data"
    }
   ],
   "source": [
    "fig, ax = plt.subplots(1,1)\n",
    "ax.plot(sizes, t_numeric, 'o-', label='Inserting row-by-row')\n",
    "ax.plot(sizes, t_numeric_add, 'o-', label='Inserting row-by-row: add_result only')\n",
    "ax.plot(sizes, t_array, 'd-', label='Inserting as binary blob')\n",
    "ax.plot(sizes, t_array_add, 'd-', label='Inserting as binary blob: add_result only')\n",
    "ax.legend()\n",
    "ax.set_xlabel('Array length')\n",
    "ax.set_ylabel('Time (s)')\n",
    "fig.tight_layout()"
   ]
  },
  {
   "cell_type": "markdown",
   "metadata": {},
   "source": [
    "As shown in the latter figure, the time to setup and and close the experiment is approximately 0.4 sec. In case of small array sizes, the difference between inserting values of data as arrays and inserting them row-by-row is relatively unimportant. At larger array sizes, i.e. above 10000 points, the cost of writing data as individual datapoints starts to become important.\n"
   ]
  },
  {
   "cell_type": "markdown",
   "metadata": {},
   "source": [
    "### Case2: Long experiment time "
   ]
  },
  {
   "cell_type": "code",
   "execution_count": 7,
   "metadata": {
    "execution": {
     "iopub.execute_input": "2020-12-14T11:33:09.592525Z",
     "iopub.status.busy": "2020-12-14T11:33:09.592012Z",
     "iopub.status.idle": "2020-12-14T11:34:07.033952Z",
     "shell.execute_reply": "2020-12-14T11:34:07.033311Z"
    }
   },
   "outputs": [
    {
     "name": "stdout",
     "output_type": "stream",
     "text": [
      "Starting experimental run with id: 15. \n",
      "Starting experimental run with id: 16. \n",
      "Starting experimental run with id: 17. \n"
     ]
    },
    {
     "name": "stdout",
     "output_type": "stream",
     "text": [
      "Starting experimental run with id: 18. \n",
      "Starting experimental run with id: 19. \n"
     ]
    },
    {
     "name": "stdout",
     "output_type": "stream",
     "text": [
      "Starting experimental run with id: 20. \n"
     ]
    },
    {
     "name": "stdout",
     "output_type": "stream",
     "text": [
      "Starting experimental run with id: 21. \n"
     ]
    },
    {
     "name": "stdout",
     "output_type": "stream",
     "text": [
      "Starting experimental run with id: 22. \n"
     ]
    },
    {
     "name": "stdout",
     "output_type": "stream",
     "text": [
      "Starting experimental run with id: 23. \n"
     ]
    },
    {
     "name": "stdout",
     "output_type": "stream",
     "text": [
      "Starting experimental run with id: 24. \n"
     ]
    },
    {
     "name": "stdout",
     "output_type": "stream",
     "text": [
      "Starting experimental run with id: 25. \n"
     ]
    },
    {
     "name": "stdout",
     "output_type": "stream",
     "text": [
      "Starting experimental run with id: 26. \n"
     ]
    },
    {
     "name": "stdout",
     "output_type": "stream",
     "text": [
      "Starting experimental run with id: 27. \n"
     ]
    },
    {
     "name": "stdout",
     "output_type": "stream",
     "text": [
      "Starting experimental run with id: 28. \n"
     ]
    }
   ],
   "source": [
    "sizes = [1,500,1000,2000,3000,4000,5000]\n",
    "nreps = 100\n",
    "t_numeric = []\n",
    "t_numeric_add = []\n",
    "t_numeric_run_ids = []\n",
    "t_array = []\n",
    "t_array_add = []\n",
    "t_array_run_ids = []\n",
    "for size in sizes:\n",
    "    tn, tna, run_id_n =  insert_data('numeric', size, nreps=nreps)\n",
    "    t_numeric.append(tn)\n",
    "    t_numeric_add.append(tna)\n",
    "    t_numeric_run_ids.append(run_id_n)\n",
    "\n",
    "    ta, taa, run_id_a =  insert_data('array', size, nreps=nreps)\n",
    "    t_array.append(ta)\n",
    "    t_array_add.append(taa)\n",
    "    t_array_run_ids.append(run_id_a)"
   ]
  },
  {
   "cell_type": "code",
   "execution_count": 8,
   "metadata": {
    "execution": {
     "iopub.execute_input": "2020-12-14T11:34:07.072888Z",
     "iopub.status.busy": "2020-12-14T11:34:07.063038Z",
     "iopub.status.idle": "2020-12-14T11:34:07.226215Z",
     "shell.execute_reply": "2020-12-14T11:34:07.226787Z"
    },
    "scrolled": true
   },
   "outputs": [
    {
     "data": {
      "image/png": "[encoded data removed]",
      "text/plain": [
       "<Figure size 432x288 with 1 Axes>"
      ]
     },
     "metadata": {
      "needs_background": "light"
     },
     "output_type": "display_data"
    }
   ],
   "source": [
    "fig, ax = plt.subplots(1,1)\n",
    "ax.plot(sizes, t_numeric, 'o-', label='Inserting row-by-row')\n",
    "ax.plot(sizes, t_numeric_add, 'o-', label='Inserting row-by-row: add_result only')\n",
    "ax.plot(sizes, t_array, 'd-', label='Inserting as binary blob')\n",
    "ax.plot(sizes, t_array_add, 'd-', label='Inserting as binary blob: add_result only')\n",
    "ax.legend()\n",
    "ax.set_xlabel('Array length')\n",
    "ax.set_ylabel('Time (s)')\n",
    "fig.tight_layout()"
   ]
  },
  {
   "cell_type": "markdown",
   "metadata": {},
   "source": [
    "However, as we increase the length of the experiment, as seen here by repeating the insertion 100 times, we see a big difference between inserting values of the data row-by-row and inserting it as a binary blob."
   ]
  },
  {
   "cell_type": "markdown",
   "metadata": {},
   "source": [
    "## Loading the data "
   ]
  },
  {
   "cell_type": "code",
   "execution_count": 9,
   "metadata": {
    "execution": {
     "iopub.execute_input": "2020-12-14T11:34:07.229255Z",
     "iopub.status.busy": "2020-12-14T11:34:07.228789Z",
     "iopub.status.idle": "2020-12-14T11:34:07.231960Z",
     "shell.execute_reply": "2020-12-14T11:34:07.232441Z"
    }
   },
   "outputs": [],
   "source": [
    "from qcodes.dataset.data_set import load_by_id\n",
    "from qcodes.dataset.data_export import get_data_by_id"
   ]
  },
  {
   "cell_type": "markdown",
   "metadata": {},
   "source": [
    "As usual you can load the data by using the ``load_by_id`` function but you will notice that the different storage methods\n",
    "are reflected in shape of the data as it is retrieved. "
   ]
  },
  {
   "cell_type": "code",
   "execution_count": 10,
   "metadata": {
    "execution": {
     "iopub.execute_input": "2020-12-14T11:34:07.234562Z",
     "iopub.status.busy": "2020-12-14T11:34:07.234100Z",
     "iopub.status.idle": "2020-12-14T11:34:07.237498Z",
     "shell.execute_reply": "2020-12-14T11:34:07.237079Z"
    }
   },
   "outputs": [],
   "source": [
    "run_id_n = t_numeric_run_ids[0]\n",
    "run_id_a = t_array_run_ids[0]"
   ]
  },
  {
   "cell_type": "code",
   "execution_count": 11,
   "metadata": {
    "execution": {
     "iopub.execute_input": "2020-12-14T11:34:07.240404Z",
     "iopub.status.busy": "2020-12-14T11:34:07.239864Z",
     "iopub.status.idle": "2020-12-14T11:34:07.249132Z",
     "shell.execute_reply": "2020-12-14T11:34:07.248682Z"
    },
    "scrolled": true
   },
   "outputs": [
    {
     "data": {
      "text/plain": [
       "{'x1': {'x1': array([0.0306018 , 0.0306018 , 0.31881574, 0.31881574, 0.40040226,\n",
       "         0.40040226, 0.5596718 , 0.5596718 , 0.11774538, 0.11774538,\n",
       "         0.266041  , 0.266041  , 0.57632329, 0.57632329, 0.76945618,\n",
       "         0.76945618, 0.24505907, 0.24505907, 0.36071133, 0.36071133,\n",
       "         0.78111163, 0.78111163, 0.1144163 , 0.1144163 , 0.01232529,\n",
       "         0.01232529, 0.72767558, 0.72767558, 0.55104397, 0.55104397,\n",
       "         0.10457193, 0.10457193, 0.96663661, 0.96663661, 0.55420293,\n",
       "         0.55420293, 0.51824135, 0.51824135, 0.72930775, 0.72930775,\n",
       "         0.45155242, 0.45155242, 0.29071133, 0.29071133, 0.94394357,\n",
       "         0.94394357, 0.77345742, 0.77345742, 0.29313282, 0.29313282,\n",
       "         0.16431122, 0.16431122, 0.04366211, 0.04366211, 0.11246954,\n",
       "         0.11246954, 0.18251677, 0.18251677, 0.25030376, 0.25030376,\n",
       "         0.53960583, 0.53960583, 0.06187174, 0.06187174, 0.54881414,\n",
       "         0.54881414, 0.04458723, 0.04458723, 0.71941728, 0.71941728,\n",
       "         0.0801007 , 0.0801007 , 0.72484112, 0.72484112, 0.32279062,\n",
       "         0.32279062, 0.89964034, 0.89964034, 0.23342123, 0.23342123,\n",
       "         0.97785114, 0.97785114, 0.81928457, 0.81928457, 0.27545781,\n",
       "         0.27545781, 0.64868031, 0.64868031, 0.17898632, 0.17898632,\n",
       "         0.92408596, 0.92408596, 0.44401464, 0.44401464, 0.98373229,\n",
       "         0.98373229, 0.99817502, 0.99817502, 0.65411267, 0.65411267,\n",
       "         0.65906059, 0.65906059, 0.11045026, 0.11045026, 0.76628864,\n",
       "         0.76628864, 0.21491917, 0.21491917, 0.43941869, 0.43941869,\n",
       "         0.49034839, 0.49034839, 0.23901414, 0.23901414, 0.13650104,\n",
       "         0.13650104, 0.86946875, 0.86946875, 0.51015517, 0.51015517,\n",
       "         0.958581  , 0.958581  , 0.54141397, 0.54141397, 0.94739143,\n",
       "         0.94739143, 0.90176011, 0.90176011, 0.60683037, 0.60683037,\n",
       "         0.02817575, 0.02817575, 0.45474201, 0.45474201, 0.49442365,\n",
       "         0.49442365, 0.12547272, 0.12547272, 0.58876423, 0.58876423,\n",
       "         0.865107  , 0.865107  , 0.37272305, 0.37272305, 0.63184453,\n",
       "         0.63184453, 0.89848584, 0.89848584, 0.50987612, 0.50987612,\n",
       "         0.35776621, 0.35776621, 0.27442526, 0.27442526, 0.83290389,\n",
       "         0.83290389, 0.08202051, 0.08202051, 0.95464297, 0.95464297,\n",
       "         0.52704969, 0.52704969, 0.87665931, 0.87665931, 0.96119013,\n",
       "         0.96119013, 0.78201665, 0.78201665, 0.07604391, 0.07604391,\n",
       "         0.36247295, 0.36247295, 0.88685732, 0.88685732, 0.28435509,\n",
       "         0.28435509, 0.19546611, 0.19546611, 0.73503978, 0.73503978,\n",
       "         0.24516996, 0.24516996, 0.30877256, 0.30877256, 0.96972475,\n",
       "         0.96972475, 0.82068503, 0.82068503, 0.38527374, 0.38527374,\n",
       "         0.66243207, 0.66243207, 0.25620715, 0.25620715, 0.51894608,\n",
       "         0.51894608, 0.35535789, 0.35535789, 0.33607694, 0.33607694])}}"
      ]
     },
     "execution_count": 1,
     "metadata": {},
     "output_type": "execute_result"
    }
   ],
   "source": [
    "ds = load_by_id(run_id_n)\n",
    "ds.get_parameter_data('x1')"
   ]
  },
  {
   "cell_type": "markdown",
   "metadata": {},
   "source": [
    "And a dataset stored as binary arrays"
   ]
  },
  {
   "cell_type": "code",
   "execution_count": 12,
   "metadata": {
    "execution": {
     "iopub.execute_input": "2020-12-14T11:34:07.252228Z",
     "iopub.status.busy": "2020-12-14T11:34:07.251722Z",
     "iopub.status.idle": "2020-12-14T11:34:07.304600Z",
     "shell.execute_reply": "2020-12-14T11:34:07.305169Z"
    },
    "scrolled": true
   },
   "outputs": [
    {
     "data": {
      "text/plain": [
       "{'x1': {'x1': array([[0.27761356],\n",
       "         [0.27761356],\n",
       "         [0.8821363 ],\n",
       "         [0.8821363 ],\n",
       "         [0.65146147],\n",
       "         [0.65146147],\n",
       "         [0.26146492],\n",
       "         [0.26146492],\n",
       "         [0.02799084],\n",
       "         [0.02799084],\n",
       "         [0.02685646],\n",
       "         [0.02685646],\n",
       "         [0.63475693],\n",
       "         [0.63475693],\n",
       "         [0.2101924 ],\n",
       "         [0.2101924 ],\n",
       "         [0.75122318],\n",
       "         [0.75122318],\n",
       "         [0.50532638],\n",
       "         [0.50532638],\n",
       "         [0.05719608],\n",
       "         [0.05719608],\n",
       "         [0.17728229],\n",
       "         [0.17728229],\n",
       "         [0.19145183],\n",
       "         [0.19145183],\n",
       "         [0.26246964],\n",
       "         [0.26246964],\n",
       "         [0.85055205],\n",
       "         [0.85055205],\n",
       "         [0.95064384],\n",
       "         [0.95064384],\n",
       "         [0.97413082],\n",
       "         [0.97413082],\n",
       "         [0.13745024],\n",
       "         [0.13745024],\n",
       "         [0.78289396],\n",
       "         [0.78289396],\n",
       "         [0.13660561],\n",
       "         [0.13660561],\n",
       "         [0.27279149],\n",
       "         [0.27279149],\n",
       "         [0.44509408],\n",
       "         [0.44509408],\n",
       "         [0.77685808],\n",
       "         [0.77685808],\n",
       "         [0.31393443],\n",
       "         [0.31393443],\n",
       "         [0.20937787],\n",
       "         [0.20937787],\n",
       "         [0.80005495],\n",
       "         [0.80005495],\n",
       "         [0.69302108],\n",
       "         [0.69302108],\n",
       "         [0.34824009],\n",
       "         [0.34824009],\n",
       "         [0.91268879],\n",
       "         [0.91268879],\n",
       "         [0.77090357],\n",
       "         [0.77090357],\n",
       "         [0.73138975],\n",
       "         [0.73138975],\n",
       "         [0.68939957],\n",
       "         [0.68939957],\n",
       "         [0.17435532],\n",
       "         [0.17435532],\n",
       "         [0.87590609],\n",
       "         [0.87590609],\n",
       "         [0.91381264],\n",
       "         [0.91381264],\n",
       "         [0.21495   ],\n",
       "         [0.21495   ],\n",
       "         [0.35363832],\n",
       "         [0.35363832],\n",
       "         [0.59454027],\n",
       "         [0.59454027],\n",
       "         [0.36463392],\n",
       "         [0.36463392],\n",
       "         [0.47861706],\n",
       "         [0.47861706],\n",
       "         [0.00491917],\n",
       "         [0.00491917],\n",
       "         [0.70652055],\n",
       "         [0.70652055],\n",
       "         [0.67744934],\n",
       "         [0.67744934],\n",
       "         [0.9940928 ],\n",
       "         [0.9940928 ],\n",
       "         [0.90513041],\n",
       "         [0.90513041],\n",
       "         [0.13068616],\n",
       "         [0.13068616],\n",
       "         [0.85954794],\n",
       "         [0.85954794],\n",
       "         [0.21896974],\n",
       "         [0.21896974],\n",
       "         [0.2992265 ],\n",
       "         [0.2992265 ],\n",
       "         [0.26274109],\n",
       "         [0.26274109],\n",
       "         [0.04084907],\n",
       "         [0.04084907],\n",
       "         [0.25227084],\n",
       "         [0.25227084],\n",
       "         [0.12000626],\n",
       "         [0.12000626],\n",
       "         [0.76425435],\n",
       "         [0.76425435],\n",
       "         [0.4066279 ],\n",
       "         [0.4066279 ],\n",
       "         [0.9018189 ],\n",
       "         [0.9018189 ],\n",
       "         [0.51065938],\n",
       "         [0.51065938],\n",
       "         [0.28230318],\n",
       "         [0.28230318],\n",
       "         [0.61608409],\n",
       "         [0.61608409],\n",
       "         [0.33010915],\n",
       "         [0.33010915],\n",
       "         [0.55629011],\n",
       "         [0.55629011],\n",
       "         [0.95718617],\n",
       "         [0.95718617],\n",
       "         [0.44446099],\n",
       "         [0.44446099],\n",
       "         [0.12243131],\n",
       "         [0.12243131],\n",
       "         [0.12310817],\n",
       "         [0.12310817],\n",
       "         [0.97033883],\n",
       "         [0.97033883],\n",
       "         [0.20284854],\n",
       "         [0.20284854],\n",
       "         [0.59760862],\n",
       "         [0.59760862],\n",
       "         [0.10455092],\n",
       "         [0.10455092],\n",
       "         [0.70925914],\n",
       "         [0.70925914],\n",
       "         [0.57883342],\n",
       "         [0.57883342],\n",
       "         [0.48305624],\n",
       "         [0.48305624],\n",
       "         [0.10090199],\n",
       "         [0.10090199],\n",
       "         [0.70611705],\n",
       "         [0.70611705],\n",
       "         [0.05728429],\n",
       "         [0.05728429],\n",
       "         [0.74597758],\n",
       "         [0.74597758],\n",
       "         [0.65495827],\n",
       "         [0.65495827],\n",
       "         [0.14152205],\n",
       "         [0.14152205],\n",
       "         [0.36390869],\n",
       "         [0.36390869],\n",
       "         [0.18161877],\n",
       "         [0.18161877],\n",
       "         [0.80996266],\n",
       "         [0.80996266],\n",
       "         [0.05967858],\n",
       "         [0.05967858],\n",
       "         [0.4925637 ],\n",
       "         [0.4925637 ],\n",
       "         [0.69301948],\n",
       "         [0.69301948],\n",
       "         [0.77586491],\n",
       "         [0.77586491],\n",
       "         [0.26991402],\n",
       "         [0.26991402],\n",
       "         [0.56429238],\n",
       "         [0.56429238],\n",
       "         [0.09128497],\n",
       "         [0.09128497],\n",
       "         [0.65815716],\n",
       "         [0.65815716],\n",
       "         [0.42646898],\n",
       "         [0.42646898],\n",
       "         [0.93332462],\n",
       "         [0.93332462],\n",
       "         [0.24553913],\n",
       "         [0.24553913],\n",
       "         [0.22211978],\n",
       "         [0.22211978],\n",
       "         [0.55291424],\n",
       "         [0.55291424],\n",
       "         [0.70481654],\n",
       "         [0.70481654],\n",
       "         [0.1271271 ],\n",
       "         [0.1271271 ],\n",
       "         [0.39658769],\n",
       "         [0.39658769],\n",
       "         [0.91065546],\n",
       "         [0.91065546],\n",
       "         [0.00957524],\n",
       "         [0.00957524],\n",
       "         [0.7019093 ],\n",
       "         [0.7019093 ]])}}"
      ]
     },
     "execution_count": 1,
     "metadata": {},
     "output_type": "execute_result"
    }
   ],
   "source": [
    "ds = load_by_id(run_id_a)\n",
    "ds.get_parameter_data('x1')"
   ]
  },
  {
   "cell_type": "code",
   "execution_count": null,
   "metadata": {},
   "outputs": [],
   "source": []
  }
 ],
 "metadata": {
  "kernelspec": {
   "display_name": "Python 3",
   "language": "python",
   "name": "python3"
  },
  "language_info": {
   "codemirror_mode": {
    "name": "ipython",
    "version": 3
   },
   "file_extension": ".py",
   "mimetype": "text/x-python",
   "name": "python",
   "nbconvert_exporter": "python",
   "pygments_lexer": "ipython3",
   "version": "3.7.9"
  },
  "nbsphinx": {
   "timeout": 600
  },
  "toc": {
   "base_numbering": 1,
   "nav_menu": {},
   "number_sections": true,
   "sideBar": true,
   "skip_h1_title": false,
   "title_cell": "Table of Contents",
   "title_sidebar": "Contents",
   "toc_cell": false,
   "toc_position": {},
   "toc_section_display": true,
   "toc_window_display": false
  },
  "varInspector": {
   "cols": {
    "lenName": 16,
    "lenType": 16,
    "lenVar": 40
   },
   "kernels_config": {
    "python": {
     "delete_cmd_postfix": "",
     "delete_cmd_prefix": "del ",
     "library": "var_list.py",
     "varRefreshCmd": "print(var_dic_list())"
    },
    "r": {
     "delete_cmd_postfix": ") ",
     "delete_cmd_prefix": "rm(",
     "library": "var_list.r",
     "varRefreshCmd": "cat(var_dic_list()) "
    }
   },
   "types_to_exclude": [
    "module",
    "function",
    "builtin_function_or_method",
    "instance",
    "_Feature"
   ],
   "window_display": false
  }
 },
 "nbformat": 4,
 "nbformat_minor": 2
}
