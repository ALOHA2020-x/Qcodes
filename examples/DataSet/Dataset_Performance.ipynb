{
 "cells": [
  {
   "cell_type": "markdown",
   "metadata": {},
   "source": [
    "# DataSet Performance\n",
    "\n",
    "This notebook shows the trade-off between inserting data into a database row-by-row and as binary blobs. Inserting the data row-by-row means that we have direct access to all the data and may perform queries directly on the values of the data. On the other hand, as we shall see, this is much slower than inserting the data directly as binary blobs."
   ]
  },
  {
   "cell_type": "markdown",
   "metadata": {},
   "source": [
    "First, we choose a new location for the database to ensure that we don't add a bunch of benchmarking data to the default one."
   ]
  },
  {
   "cell_type": "code",
   "execution_count": 1,
   "metadata": {
    "execution": {
     "iopub.execute_input": "2020-09-21T09:41:27.045974Z",
     "iopub.status.busy": "2020-09-21T09:41:27.045278Z",
     "iopub.status.idle": "2020-09-21T09:41:28.317581Z",
     "shell.execute_reply": "2020-09-21T09:41:28.316807Z"
    }
   },
   "outputs": [
    {
     "name": "stdout",
     "output_type": "stream",
     "text": [
      "Logging hadn't been started.\n",
      "Activating auto-logging. Current session state plus future input saved.\n",
      "Filename       : /home/vsts/.qcodes/logs/command_history.log\n",
      "Mode           : append\n",
      "Output logging : True\n",
      "Raw input log  : False\n",
      "Timestamping   : True\n",
      "State          : active\n"
     ]
    },
    {
     "name": "stdout",
     "output_type": "stream",
     "text": [
      "Qcodes Logfile : /home/vsts/.qcodes/logs/200921-18809-qcodes.log\n"
     ]
    }
   ],
   "source": [
    "import os\n",
    "cwd = os.getcwd()\n",
    "import qcodes as qc\n",
    "qc.config[\"core\"][\"db_location\"] = os.path.join(cwd, 'testing.db')\n"
   ]
  },
  {
   "cell_type": "code",
   "execution_count": 2,
   "metadata": {
    "execution": {
     "iopub.execute_input": "2020-09-21T09:41:28.326554Z",
     "iopub.status.busy": "2020-09-21T09:41:28.324306Z",
     "iopub.status.idle": "2020-09-21T09:41:28.552364Z",
     "shell.execute_reply": "2020-09-21T09:41:28.551455Z"
    }
   },
   "outputs": [],
   "source": [
    "%matplotlib inline\n",
    "import time\n",
    "import matplotlib.pyplot as plt\n",
    "import numpy as np\n",
    "\n",
    "import qcodes as qc\n",
    "from qcodes.instrument.parameter import ManualParameter\n",
    "from qcodes.dataset.experiment_container import (Experiment,\n",
    "                                                 load_last_experiment,\n",
    "                                                 new_experiment)\n",
    "from qcodes.dataset.sqlite.database import initialise_database\n",
    "from qcodes import load_or_create_experiment\n",
    "from qcodes.dataset.measurements import Measurement"
   ]
  },
  {
   "cell_type": "code",
   "execution_count": 3,
   "metadata": {
    "execution": {
     "iopub.execute_input": "2020-09-21T09:41:28.557474Z",
     "iopub.status.busy": "2020-09-21T09:41:28.556544Z",
     "iopub.status.idle": "2020-09-21T09:41:28.707330Z",
     "shell.execute_reply": "2020-09-21T09:41:28.706646Z"
    }
   },
   "outputs": [
    {
     "name": "stdout",
     "output_type": "stream",
     "text": [
      "\r",
      "0it [00:00, ?it/s]"
     ]
    },
    {
     "name": "stdout",
     "output_type": "stream",
     "text": [
      "\r",
      "Upgrading database; v0 -> v1: : 0it [00:00, ?it/s]"
     ]
    },
    {
     "name": "stdout",
     "output_type": "stream",
     "text": [
      "\r",
      "Upgrading database; v0 -> v1: : 0it [00:00, ?it/s]"
     ]
    },
    {
     "name": "stdout",
     "output_type": "stream",
     "text": [
      "\n",
      "\r",
      "  0%|          | 0/1 [00:00<?, ?it/s]"
     ]
    },
    {
     "name": "stdout",
     "output_type": "stream",
     "text": [
      "\r",
      "Upgrading database; v1 -> v2:   0%|          | 0/1 [00:00<?, ?it/s]"
     ]
    },
    {
     "name": "stdout",
     "output_type": "stream",
     "text": [
      "\r",
      "Upgrading database; v1 -> v2: 100%|██████████| 1/1 [00:00<00:00, 309.00it/s]"
     ]
    },
    {
     "name": "stdout",
     "output_type": "stream",
     "text": [
      "\n",
      "\r",
      "0it [00:00, ?it/s]"
     ]
    },
    {
     "name": "stdout",
     "output_type": "stream",
     "text": [
      "\r",
      "Upgrading database; v2 -> v3: : 0it [00:00, ?it/s]"
     ]
    },
    {
     "name": "stdout",
     "output_type": "stream",
     "text": [
      "\r",
      "Upgrading database; v2 -> v3: : 0it [00:00, ?it/s]"
     ]
    },
    {
     "name": "stdout",
     "output_type": "stream",
     "text": [
      "\n",
      "\r",
      "0it [00:00, ?it/s]"
     ]
    },
    {
     "name": "stdout",
     "output_type": "stream",
     "text": [
      "\r",
      "Upgrading database; v3 -> v4: : 0it [00:00, ?it/s]"
     ]
    },
    {
     "name": "stdout",
     "output_type": "stream",
     "text": [
      "\r",
      "Upgrading database; v3 -> v4: : 0it [00:00, ?it/s]"
     ]
    },
    {
     "name": "stdout",
     "output_type": "stream",
     "text": [
      "\n",
      "\r",
      "  0%|          | 0/1 [00:00<?, ?it/s]"
     ]
    },
    {
     "name": "stdout",
     "output_type": "stream",
     "text": [
      "\r",
      "Upgrading database; v4 -> v5:   0%|          | 0/1 [00:00<?, ?it/s]"
     ]
    },
    {
     "name": "stdout",
     "output_type": "stream",
     "text": [
      "\r",
      "Upgrading database; v4 -> v5: 100%|██████████| 1/1 [00:00<00:00, 291.07it/s]"
     ]
    },
    {
     "name": "stdout",
     "output_type": "stream",
     "text": [
      "\n",
      "\r",
      "0it [00:00, ?it/s]"
     ]
    },
    {
     "name": "stdout",
     "output_type": "stream",
     "text": [
      "\r",
      "Upgrading database; v5 -> v6: : 0it [00:00, ?it/s]"
     ]
    },
    {
     "name": "stdout",
     "output_type": "stream",
     "text": [
      "\r",
      "Upgrading database; v5 -> v6: : 0it [00:00, ?it/s]"
     ]
    },
    {
     "name": "stdout",
     "output_type": "stream",
     "text": [
      "\n",
      "\r",
      "  0%|          | 0/1 [00:00<?, ?it/s]"
     ]
    },
    {
     "name": "stdout",
     "output_type": "stream",
     "text": [
      "\r",
      "Upgrading database; v6 -> v7:   0%|          | 0/1 [00:00<?, ?it/s]"
     ]
    },
    {
     "name": "stdout",
     "output_type": "stream",
     "text": [
      "\r",
      "Upgrading database; v6 -> v7: 100%|██████████| 1/1 [00:00<00:00, 293.82it/s]"
     ]
    },
    {
     "name": "stdout",
     "output_type": "stream",
     "text": [
      "\n",
      "\r",
      "  0%|          | 0/1 [00:00<?, ?it/s]"
     ]
    },
    {
     "name": "stdout",
     "output_type": "stream",
     "text": [
      "\r",
      "Upgrading database; v7 -> v8:   0%|          | 0/1 [00:00<?, ?it/s]"
     ]
    },
    {
     "name": "stdout",
     "output_type": "stream",
     "text": [
      "\r",
      "Upgrading database; v7 -> v8: 100%|██████████| 1/1 [00:00<00:00, 305.22it/s]"
     ]
    },
    {
     "name": "stdout",
     "output_type": "stream",
     "text": [
      "\n",
      "\r",
      "  0%|          | 0/1 [00:00<?, ?it/s]"
     ]
    },
    {
     "name": "stdout",
     "output_type": "stream",
     "text": [
      "\r",
      "Upgrading database; v8 -> v9:   0%|          | 0/1 [00:00<?, ?it/s]"
     ]
    },
    {
     "name": "stdout",
     "output_type": "stream",
     "text": [
      "\r",
      "Upgrading database; v8 -> v9: 100%|██████████| 1/1 [00:00<00:00, 439.38it/s]"
     ]
    },
    {
     "name": "stdout",
     "output_type": "stream",
     "text": [
      "\n"
     ]
    }
   ],
   "source": [
    "initialise_database()\n",
    "exp = load_or_create_experiment(experiment_name='tutorial_exp', sample_name=\"no sample\")"
   ]
  },
  {
   "cell_type": "markdown",
   "metadata": {},
   "source": [
    "Here, we define a simple function to benchmark the time it takes to insert n points with either numeric or array data type.\n",
    "We will compare both the time used to call ``add_result`` and the time used for the full measurement."
   ]
  },
  {
   "cell_type": "code",
   "execution_count": 4,
   "metadata": {
    "execution": {
     "iopub.execute_input": "2020-09-21T09:41:28.717275Z",
     "iopub.status.busy": "2020-09-21T09:41:28.715920Z",
     "iopub.status.idle": "2020-09-21T09:41:28.721302Z",
     "shell.execute_reply": "2020-09-21T09:41:28.720569Z"
    }
   },
   "outputs": [],
   "source": [
    "def insert_data(paramtype, npoints, nreps=1):\n",
    "\n",
    "    meas = Measurement(exp=exp)\n",
    "\n",
    "    x1 = ManualParameter('x1')\n",
    "    x2 = ManualParameter('x2')\n",
    "    x3 = ManualParameter('x3')\n",
    "    y1 = ManualParameter('y1')\n",
    "    y2 = ManualParameter('y2')\n",
    "\n",
    "    meas.register_parameter(x1, paramtype=paramtype)\n",
    "    meas.register_parameter(x2, paramtype=paramtype)\n",
    "    meas.register_parameter(x3, paramtype=paramtype)\n",
    "    meas.register_parameter(y1, setpoints=[x1, x2, x3],\n",
    "                            paramtype=paramtype)\n",
    "    meas.register_parameter(y2, setpoints=[x1, x2, x3],\n",
    "                            paramtype=paramtype)\n",
    "    start = time.perf_counter()\n",
    "    with meas.run() as datasaver:\n",
    "        start_adding = time.perf_counter()\n",
    "        for i in range(nreps):\n",
    "            datasaver.add_result((x1, np.random.rand(npoints)),\n",
    "                                 (x2, np.random.rand(npoints)),\n",
    "                                 (x3, np.random.rand(npoints)),\n",
    "                                 (y1, np.random.rand(npoints)),\n",
    "                                 (y2, np.random.rand(npoints)))\n",
    "        stop_adding = time.perf_counter()\n",
    "        run_id = datasaver.run_id\n",
    "    stop = time.perf_counter()\n",
    "    tot_time = stop - start\n",
    "    add_time = stop_adding - start_adding\n",
    "    return tot_time, add_time, run_id"
   ]
  },
  {
   "cell_type": "markdown",
   "metadata": {},
   "source": [
    "## Comparison between numeric/array data and binary blob"
   ]
  },
  {
   "cell_type": "markdown",
   "metadata": {},
   "source": [
    "### Case1: Short experiment time"
   ]
  },
  {
   "cell_type": "code",
   "execution_count": 5,
   "metadata": {
    "execution": {
     "iopub.execute_input": "2020-09-21T09:41:28.730940Z",
     "iopub.status.busy": "2020-09-21T09:41:28.729851Z",
     "iopub.status.idle": "2020-09-21T09:41:29.714009Z",
     "shell.execute_reply": "2020-09-21T09:41:29.713003Z"
    }
   },
   "outputs": [
    {
     "name": "stdout",
     "output_type": "stream",
     "text": [
      "Starting experimental run with id: 1. \n",
      "Starting experimental run with id: 2. \n",
      "Starting experimental run with id: 3. \n"
     ]
    },
    {
     "name": "stdout",
     "output_type": "stream",
     "text": [
      "Starting experimental run with id: 4. \n"
     ]
    },
    {
     "name": "stdout",
     "output_type": "stream",
     "text": [
      "Starting experimental run with id: 5. \n"
     ]
    },
    {
     "name": "stdout",
     "output_type": "stream",
     "text": [
      "Starting experimental run with id: 6. \n",
      "Starting experimental run with id: 7. \n"
     ]
    },
    {
     "name": "stdout",
     "output_type": "stream",
     "text": [
      "Starting experimental run with id: 8. \n"
     ]
    },
    {
     "name": "stdout",
     "output_type": "stream",
     "text": [
      "Starting experimental run with id: 9. \n"
     ]
    },
    {
     "name": "stdout",
     "output_type": "stream",
     "text": [
      "Starting experimental run with id: 10. \n",
      "Starting experimental run with id: 11. \n"
     ]
    },
    {
     "name": "stdout",
     "output_type": "stream",
     "text": [
      "Starting experimental run with id: 12. \n"
     ]
    },
    {
     "name": "stdout",
     "output_type": "stream",
     "text": [
      "Starting experimental run with id: 13. \n"
     ]
    },
    {
     "name": "stdout",
     "output_type": "stream",
     "text": [
      "Starting experimental run with id: 14. \n"
     ]
    }
   ],
   "source": [
    "sizes = [1,500,1000,2000,3000,4000,5000]\n",
    "t_numeric = []\n",
    "t_numeric_add = []\n",
    "t_array = []\n",
    "t_array_add = []\n",
    "for size in sizes:\n",
    "    tn, tna, run_id_n =  insert_data('numeric', size)\n",
    "    t_numeric.append(tn)\n",
    "    t_numeric_add.append(tna)\n",
    "\n",
    "    ta, taa, run_id_a =  insert_data('array', size)\n",
    "    t_array.append(ta)\n",
    "    t_array_add.append(taa)"
   ]
  },
  {
   "cell_type": "code",
   "execution_count": 6,
   "metadata": {
    "execution": {
     "iopub.execute_input": "2020-09-21T09:41:29.736060Z",
     "iopub.status.busy": "2020-09-21T09:41:29.728477Z",
     "iopub.status.idle": "2020-09-21T09:41:29.991864Z",
     "shell.execute_reply": "2020-09-21T09:41:29.991134Z"
    }
   },
   "outputs": [
    {
     "data": {
      "image/png": "[encoded data removed]",
      "text/plain": [
       "<Figure size 432x288 with 1 Axes>"
      ]
     },
     "metadata": {
      "needs_background": "light"
     },
     "output_type": "display_data"
    }
   ],
   "source": [
    "fig, ax = plt.subplots(1,1)\n",
    "ax.plot(sizes, t_numeric, 'o-', label='Inserting row-by-row')\n",
    "ax.plot(sizes, t_numeric_add, 'o-', label='Inserting row-by-row: add_result only')\n",
    "ax.plot(sizes, t_array, 'd-', label='Inserting as binary blob')\n",
    "ax.plot(sizes, t_array_add, 'd-', label='Inserting as binary blob: add_result only')\n",
    "ax.legend()\n",
    "ax.set_xlabel('Array length')\n",
    "ax.set_ylabel('Time (s)')\n",
    "fig.tight_layout()"
   ]
  },
  {
   "cell_type": "markdown",
   "metadata": {},
   "source": [
    "As shown in the latter figure, the time to setup and and close the experiment is approximately 0.4 sec. In case of small array sizes, the difference between inserting values of data as arrays and inserting them row-by-row is relatively unimportant. At larger array sizes, i.e. above 10000 points, the cost of writing data as individual datapoints starts to become important.\n"
   ]
  },
  {
   "cell_type": "markdown",
   "metadata": {},
   "source": [
    "### Case2: Long experiment time "
   ]
  },
  {
   "cell_type": "code",
   "execution_count": 7,
   "metadata": {
    "execution": {
     "iopub.execute_input": "2020-09-21T09:41:30.000116Z",
     "iopub.status.busy": "2020-09-21T09:41:29.999154Z",
     "iopub.status.idle": "2020-09-21T09:42:34.959574Z",
     "shell.execute_reply": "2020-09-21T09:42:34.960078Z"
    }
   },
   "outputs": [
    {
     "name": "stdout",
     "output_type": "stream",
     "text": [
      "Starting experimental run with id: 15. \n",
      "Starting experimental run with id: 16. \n",
      "Starting experimental run with id: 17. \n"
     ]
    },
    {
     "name": "stdout",
     "output_type": "stream",
     "text": [
      "Starting experimental run with id: 18. \n",
      "Starting experimental run with id: 19. \n"
     ]
    },
    {
     "name": "stdout",
     "output_type": "stream",
     "text": [
      "Starting experimental run with id: 20. \n"
     ]
    },
    {
     "name": "stdout",
     "output_type": "stream",
     "text": [
      "Starting experimental run with id: 21. \n"
     ]
    },
    {
     "name": "stdout",
     "output_type": "stream",
     "text": [
      "Starting experimental run with id: 22. \n"
     ]
    },
    {
     "name": "stdout",
     "output_type": "stream",
     "text": [
      "Starting experimental run with id: 23. \n"
     ]
    },
    {
     "name": "stdout",
     "output_type": "stream",
     "text": [
      "Starting experimental run with id: 24. \n"
     ]
    },
    {
     "name": "stdout",
     "output_type": "stream",
     "text": [
      "Starting experimental run with id: 25. \n"
     ]
    },
    {
     "name": "stdout",
     "output_type": "stream",
     "text": [
      "Starting experimental run with id: 26. \n"
     ]
    },
    {
     "name": "stdout",
     "output_type": "stream",
     "text": [
      "Starting experimental run with id: 27. \n"
     ]
    },
    {
     "name": "stdout",
     "output_type": "stream",
     "text": [
      "Starting experimental run with id: 28. \n"
     ]
    }
   ],
   "source": [
    "sizes = [1,500,1000,2000,3000,4000,5000]\n",
    "nreps = 100\n",
    "t_numeric = []\n",
    "t_numeric_add = []\n",
    "t_numeric_run_ids = []\n",
    "t_array = []\n",
    "t_array_add = []\n",
    "t_array_run_ids = []\n",
    "for size in sizes:\n",
    "    tn, tna, run_id_n =  insert_data('numeric', size, nreps=nreps)\n",
    "    t_numeric.append(tn)\n",
    "    t_numeric_add.append(tna)\n",
    "    t_numeric_run_ids.append(run_id_n)\n",
    "\n",
    "    ta, taa, run_id_a =  insert_data('array', size, nreps=nreps)\n",
    "    t_array.append(ta)\n",
    "    t_array_add.append(taa)\n",
    "    t_array_run_ids.append(run_id_a)"
   ]
  },
  {
   "cell_type": "code",
   "execution_count": 8,
   "metadata": {
    "execution": {
     "iopub.execute_input": "2020-09-21T09:42:34.984401Z",
     "iopub.status.busy": "2020-09-21T09:42:34.981944Z",
     "iopub.status.idle": "2020-09-21T09:42:35.225062Z",
     "shell.execute_reply": "2020-09-21T09:42:35.224526Z"
    },
    "scrolled": true
   },
   "outputs": [
    {
     "data": {
      "image/png": "[encoded data removed]",
      "text/plain": [
       "<Figure size 432x288 with 1 Axes>"
      ]
     },
     "metadata": {
      "needs_background": "light"
     },
     "output_type": "display_data"
    }
   ],
   "source": [
    "fig, ax = plt.subplots(1,1)\n",
    "ax.plot(sizes, t_numeric, 'o-', label='Inserting row-by-row')\n",
    "ax.plot(sizes, t_numeric_add, 'o-', label='Inserting row-by-row: add_result only')\n",
    "ax.plot(sizes, t_array, 'd-', label='Inserting as binary blob')\n",
    "ax.plot(sizes, t_array_add, 'd-', label='Inserting as binary blob: add_result only')\n",
    "ax.legend()\n",
    "ax.set_xlabel('Array length')\n",
    "ax.set_ylabel('Time (s)')\n",
    "fig.tight_layout()"
   ]
  },
  {
   "cell_type": "markdown",
   "metadata": {},
   "source": [
    "However, as we increase the length of the experiment, as seen here by repeating the insertion 100 times, we see a big difference between inserting values of the data row-by-row and inserting it as a binary blob."
   ]
  },
  {
   "cell_type": "markdown",
   "metadata": {},
   "source": [
    "## Loading the data "
   ]
  },
  {
   "cell_type": "code",
   "execution_count": 9,
   "metadata": {
    "execution": {
     "iopub.execute_input": "2020-09-21T09:42:35.230536Z",
     "iopub.status.busy": "2020-09-21T09:42:35.229929Z",
     "iopub.status.idle": "2020-09-21T09:42:35.234175Z",
     "shell.execute_reply": "2020-09-21T09:42:35.233628Z"
    }
   },
   "outputs": [],
   "source": [
    "from qcodes.dataset.data_set import load_by_id\n",
    "from qcodes.dataset.data_export import get_data_by_id"
   ]
  },
  {
   "cell_type": "markdown",
   "metadata": {},
   "source": [
    "As usual you can load the data by using the ``load_by_id`` function but you will notice that the different storage methods\n",
    "are reflected in shape of the data as it is retrieved. "
   ]
  },
  {
   "cell_type": "code",
   "execution_count": 10,
   "metadata": {
    "execution": {
     "iopub.execute_input": "2020-09-21T09:42:35.240227Z",
     "iopub.status.busy": "2020-09-21T09:42:35.238862Z",
     "iopub.status.idle": "2020-09-21T09:42:35.240800Z",
     "shell.execute_reply": "2020-09-21T09:42:35.241440Z"
    }
   },
   "outputs": [],
   "source": [
    "run_id_n = t_numeric_run_ids[0]\n",
    "run_id_a = t_array_run_ids[0]"
   ]
  },
  {
   "cell_type": "code",
   "execution_count": 11,
   "metadata": {
    "execution": {
     "iopub.execute_input": "2020-09-21T09:42:35.245533Z",
     "iopub.status.busy": "2020-09-21T09:42:35.244901Z",
     "iopub.status.idle": "2020-09-21T09:42:35.258356Z",
     "shell.execute_reply": "2020-09-21T09:42:35.259006Z"
    },
    "scrolled": true
   },
   "outputs": [
    {
     "data": {
      "text/plain": [
       "{'x1': {'x1': array([0.6554124 , 0.6554124 , 0.62396609, 0.62396609, 0.21924117,\n",
       "         0.21924117, 0.69233432, 0.69233432, 0.71189176, 0.71189176,\n",
       "         0.524692  , 0.524692  , 0.65948922, 0.65948922, 0.84593891,\n",
       "         0.84593891, 0.64788871, 0.64788871, 0.17057016, 0.17057016,\n",
       "         0.50129781, 0.50129781, 0.97408267, 0.97408267, 0.44565844,\n",
       "         0.44565844, 0.38056824, 0.38056824, 0.18662951, 0.18662951,\n",
       "         0.61265497, 0.61265497, 0.71748893, 0.71748893, 0.43078894,\n",
       "         0.43078894, 0.10689511, 0.10689511, 0.25975026, 0.25975026,\n",
       "         0.47930813, 0.47930813, 0.65133368, 0.65133368, 0.72132543,\n",
       "         0.72132543, 0.66743144, 0.66743144, 0.79627903, 0.79627903,\n",
       "         0.36539897, 0.36539897, 0.12119024, 0.12119024, 0.21037236,\n",
       "         0.21037236, 0.21628335, 0.21628335, 0.54117196, 0.54117196,\n",
       "         0.00933091, 0.00933091, 0.79737904, 0.79737904, 0.78243527,\n",
       "         0.78243527, 0.2801313 , 0.2801313 , 0.34955197, 0.34955197,\n",
       "         0.34700036, 0.34700036, 0.97366062, 0.97366062, 0.75223752,\n",
       "         0.75223752, 0.87633811, 0.87633811, 0.04272843, 0.04272843,\n",
       "         0.77529362, 0.77529362, 0.32645249, 0.32645249, 0.71045878,\n",
       "         0.71045878, 0.69013839, 0.69013839, 0.74494641, 0.74494641,\n",
       "         0.91648883, 0.91648883, 0.15071856, 0.15071856, 0.08679459,\n",
       "         0.08679459, 0.30275068, 0.30275068, 0.64646696, 0.64646696,\n",
       "         0.70277959, 0.70277959, 0.88636875, 0.88636875, 0.34319228,\n",
       "         0.34319228, 0.05990375, 0.05990375, 0.81719096, 0.81719096,\n",
       "         0.18865275, 0.18865275, 0.26412066, 0.26412066, 0.31748015,\n",
       "         0.31748015, 0.09221978, 0.09221978, 0.39611902, 0.39611902,\n",
       "         0.03424924, 0.03424924, 0.24841998, 0.24841998, 0.7953026 ,\n",
       "         0.7953026 , 0.33052411, 0.33052411, 0.70635258, 0.70635258,\n",
       "         0.40725235, 0.40725235, 0.65013286, 0.65013286, 0.21479948,\n",
       "         0.21479948, 0.62869961, 0.62869961, 0.884523  , 0.884523  ,\n",
       "         0.4237352 , 0.4237352 , 0.72857313, 0.72857313, 0.07345787,\n",
       "         0.07345787, 0.85915802, 0.85915802, 0.57827514, 0.57827514,\n",
       "         0.27266279, 0.27266279, 0.94282533, 0.94282533, 0.29989299,\n",
       "         0.29989299, 0.81217112, 0.81217112, 0.13132749, 0.13132749,\n",
       "         0.20485593, 0.20485593, 0.35135309, 0.35135309, 0.01972725,\n",
       "         0.01972725, 0.57252593, 0.57252593, 0.10360918, 0.10360918,\n",
       "         0.50173912, 0.50173912, 0.70677603, 0.70677603, 0.19556264,\n",
       "         0.19556264, 0.21076593, 0.21076593, 0.05323227, 0.05323227,\n",
       "         0.28584043, 0.28584043, 0.27043061, 0.27043061, 0.66731588,\n",
       "         0.66731588, 0.99678361, 0.99678361, 0.15794285, 0.15794285,\n",
       "         0.73606981, 0.73606981, 0.94494306, 0.94494306, 0.61247748,\n",
       "         0.61247748, 0.78239189, 0.78239189, 0.4198746 , 0.4198746 ])}}"
      ]
     },
     "execution_count": 1,
     "metadata": {},
     "output_type": "execute_result"
    }
   ],
   "source": [
    "ds = load_by_id(run_id_n)\n",
    "ds.get_parameter_data('x1')"
   ]
  },
  {
   "cell_type": "markdown",
   "metadata": {},
   "source": [
    "And a dataset stored as binary arrays"
   ]
  },
  {
   "cell_type": "code",
   "execution_count": 12,
   "metadata": {
    "execution": {
     "iopub.execute_input": "2020-09-21T09:42:35.263486Z",
     "iopub.status.busy": "2020-09-21T09:42:35.262872Z",
     "iopub.status.idle": "2020-09-21T09:42:35.331151Z",
     "shell.execute_reply": "2020-09-21T09:42:35.331789Z"
    },
    "scrolled": true
   },
   "outputs": [
    {
     "data": {
      "text/plain": [
       "{'x1': {'x1': array([[0.54606677],\n",
       "         [0.54606677],\n",
       "         [0.12341209],\n",
       "         [0.12341209],\n",
       "         [0.69760337],\n",
       "         [0.69760337],\n",
       "         [0.60367351],\n",
       "         [0.60367351],\n",
       "         [0.87224899],\n",
       "         [0.87224899],\n",
       "         [0.44821631],\n",
       "         [0.44821631],\n",
       "         [0.39986093],\n",
       "         [0.39986093],\n",
       "         [0.38867817],\n",
       "         [0.38867817],\n",
       "         [0.34300832],\n",
       "         [0.34300832],\n",
       "         [0.96328148],\n",
       "         [0.96328148],\n",
       "         [0.63054765],\n",
       "         [0.63054765],\n",
       "         [0.05793707],\n",
       "         [0.05793707],\n",
       "         [0.72664345],\n",
       "         [0.72664345],\n",
       "         [0.69211936],\n",
       "         [0.69211936],\n",
       "         [0.73733991],\n",
       "         [0.73733991],\n",
       "         [0.24426706],\n",
       "         [0.24426706],\n",
       "         [0.47926535],\n",
       "         [0.47926535],\n",
       "         [0.5632898 ],\n",
       "         [0.5632898 ],\n",
       "         [0.45409432],\n",
       "         [0.45409432],\n",
       "         [0.41137476],\n",
       "         [0.41137476],\n",
       "         [0.35088175],\n",
       "         [0.35088175],\n",
       "         [0.86981281],\n",
       "         [0.86981281],\n",
       "         [0.4264774 ],\n",
       "         [0.4264774 ],\n",
       "         [0.0013013 ],\n",
       "         [0.0013013 ],\n",
       "         [0.89421682],\n",
       "         [0.89421682],\n",
       "         [0.79386924],\n",
       "         [0.79386924],\n",
       "         [0.939738  ],\n",
       "         [0.939738  ],\n",
       "         [0.40875603],\n",
       "         [0.40875603],\n",
       "         [0.31749063],\n",
       "         [0.31749063],\n",
       "         [0.53618009],\n",
       "         [0.53618009],\n",
       "         [0.3058795 ],\n",
       "         [0.3058795 ],\n",
       "         [0.41786496],\n",
       "         [0.41786496],\n",
       "         [0.14725254],\n",
       "         [0.14725254],\n",
       "         [0.64844892],\n",
       "         [0.64844892],\n",
       "         [0.45982614],\n",
       "         [0.45982614],\n",
       "         [0.79716895],\n",
       "         [0.79716895],\n",
       "         [0.93215795],\n",
       "         [0.93215795],\n",
       "         [0.82183755],\n",
       "         [0.82183755],\n",
       "         [0.79008115],\n",
       "         [0.79008115],\n",
       "         [0.03126955],\n",
       "         [0.03126955],\n",
       "         [0.79088867],\n",
       "         [0.79088867],\n",
       "         [0.54280652],\n",
       "         [0.54280652],\n",
       "         [0.67539329],\n",
       "         [0.67539329],\n",
       "         [0.25595328],\n",
       "         [0.25595328],\n",
       "         [0.47563918],\n",
       "         [0.47563918],\n",
       "         [0.07008061],\n",
       "         [0.07008061],\n",
       "         [0.1036439 ],\n",
       "         [0.1036439 ],\n",
       "         [0.7298086 ],\n",
       "         [0.7298086 ],\n",
       "         [0.92820442],\n",
       "         [0.92820442],\n",
       "         [0.1412085 ],\n",
       "         [0.1412085 ],\n",
       "         [0.72671993],\n",
       "         [0.72671993],\n",
       "         [0.17455876],\n",
       "         [0.17455876],\n",
       "         [0.55896359],\n",
       "         [0.55896359],\n",
       "         [0.56925079],\n",
       "         [0.56925079],\n",
       "         [0.39574066],\n",
       "         [0.39574066],\n",
       "         [0.74163673],\n",
       "         [0.74163673],\n",
       "         [0.08005542],\n",
       "         [0.08005542],\n",
       "         [0.58456736],\n",
       "         [0.58456736],\n",
       "         [0.41222515],\n",
       "         [0.41222515],\n",
       "         [0.2945125 ],\n",
       "         [0.2945125 ],\n",
       "         [0.85561245],\n",
       "         [0.85561245],\n",
       "         [0.59314794],\n",
       "         [0.59314794],\n",
       "         [0.1767414 ],\n",
       "         [0.1767414 ],\n",
       "         [0.15382994],\n",
       "         [0.15382994],\n",
       "         [0.69863554],\n",
       "         [0.69863554],\n",
       "         [0.27496815],\n",
       "         [0.27496815],\n",
       "         [0.03322957],\n",
       "         [0.03322957],\n",
       "         [0.09256003],\n",
       "         [0.09256003],\n",
       "         [0.86480819],\n",
       "         [0.86480819],\n",
       "         [0.79675024],\n",
       "         [0.79675024],\n",
       "         [0.67630883],\n",
       "         [0.67630883],\n",
       "         [0.06271707],\n",
       "         [0.06271707],\n",
       "         [0.25922501],\n",
       "         [0.25922501],\n",
       "         [0.65767349],\n",
       "         [0.65767349],\n",
       "         [0.37059338],\n",
       "         [0.37059338],\n",
       "         [0.94682629],\n",
       "         [0.94682629],\n",
       "         [0.0925838 ],\n",
       "         [0.0925838 ],\n",
       "         [0.5517281 ],\n",
       "         [0.5517281 ],\n",
       "         [0.45712573],\n",
       "         [0.45712573],\n",
       "         [0.81836242],\n",
       "         [0.81836242],\n",
       "         [0.4184641 ],\n",
       "         [0.4184641 ],\n",
       "         [0.32363101],\n",
       "         [0.32363101],\n",
       "         [0.78876365],\n",
       "         [0.78876365],\n",
       "         [0.38845719],\n",
       "         [0.38845719],\n",
       "         [0.09631316],\n",
       "         [0.09631316],\n",
       "         [0.56738271],\n",
       "         [0.56738271],\n",
       "         [0.73711932],\n",
       "         [0.73711932],\n",
       "         [0.99330649],\n",
       "         [0.99330649],\n",
       "         [0.04295369],\n",
       "         [0.04295369],\n",
       "         [0.59727319],\n",
       "         [0.59727319],\n",
       "         [0.75551835],\n",
       "         [0.75551835],\n",
       "         [0.57933614],\n",
       "         [0.57933614],\n",
       "         [0.10514078],\n",
       "         [0.10514078],\n",
       "         [0.42011004],\n",
       "         [0.42011004],\n",
       "         [0.85984162],\n",
       "         [0.85984162],\n",
       "         [0.03184004],\n",
       "         [0.03184004],\n",
       "         [0.07155086],\n",
       "         [0.07155086],\n",
       "         [0.22689885],\n",
       "         [0.22689885],\n",
       "         [0.81147582],\n",
       "         [0.81147582],\n",
       "         [0.66124962],\n",
       "         [0.66124962]])}}"
      ]
     },
     "execution_count": 1,
     "metadata": {},
     "output_type": "execute_result"
    }
   ],
   "source": [
    "ds = load_by_id(run_id_a)\n",
    "ds.get_parameter_data('x1')"
   ]
  },
  {
   "cell_type": "code",
   "execution_count": null,
   "metadata": {},
   "outputs": [],
   "source": []
  }
 ],
 "metadata": {
  "kernelspec": {
   "display_name": "Python 3",
   "language": "python",
   "name": "python3"
  },
  "language_info": {
   "codemirror_mode": {
    "name": "ipython",
    "version": 3
   },
   "file_extension": ".py",
   "mimetype": "text/x-python",
   "name": "python",
   "nbconvert_exporter": "python",
   "pygments_lexer": "ipython3",
   "version": "3.7.7"
  },
  "nbsphinx": {
   "timeout": 600
  },
  "toc": {
   "base_numbering": 1,
   "nav_menu": {},
   "number_sections": true,
   "sideBar": true,
   "skip_h1_title": false,
   "title_cell": "Table of Contents",
   "title_sidebar": "Contents",
   "toc_cell": false,
   "toc_position": {},
   "toc_section_display": true,
   "toc_window_display": false
  },
  "varInspector": {
   "cols": {
    "lenName": 16,
    "lenType": 16,
    "lenVar": 40
   },
   "kernels_config": {
    "python": {
     "delete_cmd_postfix": "",
     "delete_cmd_prefix": "del ",
     "library": "var_list.py",
     "varRefreshCmd": "print(var_dic_list())"
    },
    "r": {
     "delete_cmd_postfix": ") ",
     "delete_cmd_prefix": "rm(",
     "library": "var_list.r",
     "varRefreshCmd": "cat(var_dic_list()) "
    }
   },
   "types_to_exclude": [
    "module",
    "function",
    "builtin_function_or_method",
    "instance",
    "_Feature"
   ],
   "window_display": false
  }
 },
 "nbformat": 4,
 "nbformat_minor": 2
}
