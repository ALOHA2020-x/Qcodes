{
 "cells": [
  {
   "cell_type": "markdown",
   "metadata": {},
   "source": [
    "# DataSet Performance\n",
    "\n",
    "This notebook shows the trade-off between inserting data into a database row-by-row and as binary blobs. Inserting the data row-by-row means that we have direct access to all the data and may perform queries directly on the values of the data. On the other hand, as we shall see, this is much slower than inserting the data directly as binary blobs."
   ]
  },
  {
   "cell_type": "markdown",
   "metadata": {},
   "source": [
    "First, we choose a new location for the database to ensure that we don't add a bunch of benchmarking data to the default one."
   ]
  },
  {
   "cell_type": "code",
   "execution_count": 1,
   "metadata": {
    "execution": {
     "iopub.execute_input": "2021-02-20T13:12:20.247610Z",
     "iopub.status.busy": "2021-02-20T13:12:20.246993Z",
     "iopub.status.idle": "2021-02-20T13:12:21.158874Z",
     "shell.execute_reply": "2021-02-20T13:12:21.158208Z"
    }
   },
   "outputs": [
    {
     "name": "stdout",
     "output_type": "stream",
     "text": [
      "Logging hadn't been started.\n",
      "Activating auto-logging. Current session state plus future input saved.\n",
      "Filename       : /home/runner/.qcodes/logs/command_history.log\n",
      "Mode           : append\n",
      "Output logging : True\n",
      "Raw input log  : False\n",
      "Timestamping   : True\n",
      "State          : active\n"
     ]
    },
    {
     "name": "stdout",
     "output_type": "stream",
     "text": [
      "Qcodes Logfile : /home/runner/.qcodes/logs/210220-4227-qcodes.log\n"
     ]
    }
   ],
   "source": [
    "import os\n",
    "cwd = os.getcwd()\n",
    "import qcodes as qc\n",
    "qc.config[\"core\"][\"db_location\"] = os.path.join(cwd, 'testing.db')\n"
   ]
  },
  {
   "cell_type": "code",
   "execution_count": 2,
   "metadata": {
    "execution": {
     "iopub.execute_input": "2021-02-20T13:12:21.167015Z",
     "iopub.status.busy": "2021-02-20T13:12:21.165454Z",
     "iopub.status.idle": "2021-02-20T13:12:21.362595Z",
     "shell.execute_reply": "2021-02-20T13:12:21.363097Z"
    }
   },
   "outputs": [],
   "source": [
    "%matplotlib inline\n",
    "import time\n",
    "import matplotlib.pyplot as plt\n",
    "import numpy as np\n",
    "\n",
    "import qcodes as qc\n",
    "from qcodes.instrument.parameter import ManualParameter\n",
    "from qcodes.dataset.experiment_container import (Experiment,\n",
    "                                                 load_last_experiment,\n",
    "                                                 new_experiment)\n",
    "from qcodes.dataset.sqlite.database import initialise_database\n",
    "from qcodes import load_or_create_experiment\n",
    "from qcodes.dataset.measurements import Measurement"
   ]
  },
  {
   "cell_type": "code",
   "execution_count": 3,
   "metadata": {
    "execution": {
     "iopub.execute_input": "2021-02-20T13:12:21.367675Z",
     "iopub.status.busy": "2021-02-20T13:12:21.366843Z",
     "iopub.status.idle": "2021-02-20T13:12:21.870855Z",
     "shell.execute_reply": "2021-02-20T13:12:21.871405Z"
    }
   },
   "outputs": [
    {
     "name": "stdout",
     "output_type": "stream",
     "text": [
      "\r",
      "0it [00:00, ?it/s]"
     ]
    },
    {
     "name": "stdout",
     "output_type": "stream",
     "text": [
      "\r",
      "Upgrading database; v0 -> v1: : 0it [00:00, ?it/s]"
     ]
    },
    {
     "name": "stdout",
     "output_type": "stream",
     "text": [
      "\r",
      "Upgrading database; v0 -> v1: : 0it [00:00, ?it/s]"
     ]
    },
    {
     "name": "stdout",
     "output_type": "stream",
     "text": [
      "\n",
      "\r",
      "  0%|          | 0/1 [00:00<?, ?it/s]"
     ]
    },
    {
     "name": "stdout",
     "output_type": "stream",
     "text": [
      "\r",
      "Upgrading database; v1 -> v2:   0%|          | 0/1 [00:00<?, ?it/s]"
     ]
    },
    {
     "name": "stdout",
     "output_type": "stream",
     "text": [
      "\r",
      "Upgrading database; v1 -> v2: 100%|██████████| 1/1 [00:00<00:00, 846.48it/s]"
     ]
    },
    {
     "name": "stdout",
     "output_type": "stream",
     "text": [
      "\n",
      "\r",
      "0it [00:00, ?it/s]"
     ]
    },
    {
     "name": "stdout",
     "output_type": "stream",
     "text": [
      "\r",
      "Upgrading database; v2 -> v3: : 0it [00:00, ?it/s]"
     ]
    },
    {
     "name": "stdout",
     "output_type": "stream",
     "text": [
      "\r",
      "Upgrading database; v2 -> v3: : 0it [00:00, ?it/s]"
     ]
    },
    {
     "name": "stdout",
     "output_type": "stream",
     "text": [
      "\n",
      "\r",
      "0it [00:00, ?it/s]"
     ]
    },
    {
     "name": "stdout",
     "output_type": "stream",
     "text": [
      "\r",
      "Upgrading database; v3 -> v4: : 0it [00:00, ?it/s]"
     ]
    },
    {
     "name": "stdout",
     "output_type": "stream",
     "text": [
      "\r",
      "Upgrading database; v3 -> v4: : 0it [00:00, ?it/s]"
     ]
    },
    {
     "name": "stdout",
     "output_type": "stream",
     "text": [
      "\n",
      "\r",
      "  0%|          | 0/1 [00:00<?, ?it/s]"
     ]
    },
    {
     "name": "stdout",
     "output_type": "stream",
     "text": [
      "\r",
      "Upgrading database; v4 -> v5:   0%|          | 0/1 [00:00<?, ?it/s]"
     ]
    },
    {
     "name": "stdout",
     "output_type": "stream",
     "text": [
      "\r",
      "Upgrading database; v4 -> v5: 100%|██████████| 1/1 [00:00<00:00, 339.24it/s]"
     ]
    },
    {
     "name": "stdout",
     "output_type": "stream",
     "text": [
      "\n"
     ]
    },
    {
     "name": "stdout",
     "output_type": "stream",
     "text": [
      "\r",
      "0it [00:00, ?it/s]"
     ]
    },
    {
     "name": "stdout",
     "output_type": "stream",
     "text": [
      "\r",
      "Upgrading database; v5 -> v6: : 0it [00:00, ?it/s]"
     ]
    },
    {
     "name": "stdout",
     "output_type": "stream",
     "text": [
      "\r",
      "Upgrading database; v5 -> v6: : 0it [00:00, ?it/s]"
     ]
    },
    {
     "name": "stdout",
     "output_type": "stream",
     "text": [
      "\n"
     ]
    },
    {
     "name": "stdout",
     "output_type": "stream",
     "text": [
      "\r",
      "  0%|          | 0/1 [00:00<?, ?it/s]"
     ]
    },
    {
     "name": "stdout",
     "output_type": "stream",
     "text": [
      "\r",
      "Upgrading database; v6 -> v7:   0%|          | 0/1 [00:00<?, ?it/s]"
     ]
    },
    {
     "name": "stdout",
     "output_type": "stream",
     "text": [
      "\r",
      "Upgrading database; v6 -> v7: 100%|██████████| 1/1 [00:00<00:00, 64.69it/s]"
     ]
    },
    {
     "name": "stdout",
     "output_type": "stream",
     "text": [
      "\n",
      "\r",
      "  0%|          | 0/1 [00:00<?, ?it/s]"
     ]
    },
    {
     "name": "stdout",
     "output_type": "stream",
     "text": [
      "\r",
      "Upgrading database; v7 -> v8:   0%|          | 0/1 [00:00<?, ?it/s]"
     ]
    },
    {
     "name": "stdout",
     "output_type": "stream",
     "text": [
      "\r",
      "Upgrading database; v7 -> v8: 100%|██████████| 1/1 [00:00<00:00, 520.64it/s]"
     ]
    },
    {
     "name": "stdout",
     "output_type": "stream",
     "text": [
      "\n",
      "\r",
      "  0%|          | 0/1 [00:00<?, ?it/s]"
     ]
    },
    {
     "name": "stdout",
     "output_type": "stream",
     "text": [
      "\r",
      "Upgrading database; v8 -> v9:   0%|          | 0/1 [00:00<?, ?it/s]"
     ]
    },
    {
     "name": "stdout",
     "output_type": "stream",
     "text": [
      "\r",
      "Upgrading database; v8 -> v9: 100%|██████████| 1/1 [00:00<00:00, 893.93it/s]"
     ]
    },
    {
     "name": "stdout",
     "output_type": "stream",
     "text": [
      "\n"
     ]
    }
   ],
   "source": [
    "initialise_database()\n",
    "exp = load_or_create_experiment(experiment_name='tutorial_exp', sample_name=\"no sample\")"
   ]
  },
  {
   "cell_type": "markdown",
   "metadata": {},
   "source": [
    "Here, we define a simple function to benchmark the time it takes to insert n points with either numeric or array data type.\n",
    "We will compare both the time used to call ``add_result`` and the time used for the full measurement."
   ]
  },
  {
   "cell_type": "code",
   "execution_count": 4,
   "metadata": {
    "execution": {
     "iopub.execute_input": "2021-02-20T13:12:21.880839Z",
     "iopub.status.busy": "2021-02-20T13:12:21.879755Z",
     "iopub.status.idle": "2021-02-20T13:12:21.886094Z",
     "shell.execute_reply": "2021-02-20T13:12:21.885600Z"
    }
   },
   "outputs": [],
   "source": [
    "def insert_data(paramtype, npoints, nreps=1):\n",
    "\n",
    "    meas = Measurement(exp=exp)\n",
    "\n",
    "    x1 = ManualParameter('x1')\n",
    "    x2 = ManualParameter('x2')\n",
    "    x3 = ManualParameter('x3')\n",
    "    y1 = ManualParameter('y1')\n",
    "    y2 = ManualParameter('y2')\n",
    "\n",
    "    meas.register_parameter(x1, paramtype=paramtype)\n",
    "    meas.register_parameter(x2, paramtype=paramtype)\n",
    "    meas.register_parameter(x3, paramtype=paramtype)\n",
    "    meas.register_parameter(y1, setpoints=[x1, x2, x3],\n",
    "                            paramtype=paramtype)\n",
    "    meas.register_parameter(y2, setpoints=[x1, x2, x3],\n",
    "                            paramtype=paramtype)\n",
    "    start = time.perf_counter()\n",
    "    with meas.run() as datasaver:\n",
    "        start_adding = time.perf_counter()\n",
    "        for i in range(nreps):\n",
    "            datasaver.add_result((x1, np.random.rand(npoints)),\n",
    "                                 (x2, np.random.rand(npoints)),\n",
    "                                 (x3, np.random.rand(npoints)),\n",
    "                                 (y1, np.random.rand(npoints)),\n",
    "                                 (y2, np.random.rand(npoints)))\n",
    "        stop_adding = time.perf_counter()\n",
    "        run_id = datasaver.run_id\n",
    "    stop = time.perf_counter()\n",
    "    tot_time = stop - start\n",
    "    add_time = stop_adding - start_adding\n",
    "    return tot_time, add_time, run_id"
   ]
  },
  {
   "cell_type": "markdown",
   "metadata": {},
   "source": [
    "## Comparison between numeric/array data and binary blob"
   ]
  },
  {
   "cell_type": "markdown",
   "metadata": {},
   "source": [
    "### Case1: Short experiment time"
   ]
  },
  {
   "cell_type": "code",
   "execution_count": 5,
   "metadata": {
    "execution": {
     "iopub.execute_input": "2021-02-20T13:12:21.892953Z",
     "iopub.status.busy": "2021-02-20T13:12:21.892221Z",
     "iopub.status.idle": "2021-02-20T13:12:23.219836Z",
     "shell.execute_reply": "2021-02-20T13:12:23.219064Z"
    }
   },
   "outputs": [
    {
     "name": "stdout",
     "output_type": "stream",
     "text": [
      "Starting experimental run with id: 1. \n"
     ]
    },
    {
     "name": "stdout",
     "output_type": "stream",
     "text": [
      "Starting experimental run with id: 2. \n"
     ]
    },
    {
     "name": "stdout",
     "output_type": "stream",
     "text": [
      "Starting experimental run with id: 3. \n",
      "Starting experimental run with id: 4. \n"
     ]
    },
    {
     "name": "stdout",
     "output_type": "stream",
     "text": [
      "Starting experimental run with id: 5. \n"
     ]
    },
    {
     "name": "stdout",
     "output_type": "stream",
     "text": [
      "Starting experimental run with id: 6. \n",
      "Starting experimental run with id: 7. \n"
     ]
    },
    {
     "name": "stdout",
     "output_type": "stream",
     "text": [
      "Starting experimental run with id: 8. \n"
     ]
    },
    {
     "name": "stdout",
     "output_type": "stream",
     "text": [
      "Starting experimental run with id: 9. \n"
     ]
    },
    {
     "name": "stdout",
     "output_type": "stream",
     "text": [
      "Starting experimental run with id: 10. \n"
     ]
    },
    {
     "name": "stdout",
     "output_type": "stream",
     "text": [
      "Starting experimental run with id: 11. \n"
     ]
    },
    {
     "name": "stdout",
     "output_type": "stream",
     "text": [
      "Starting experimental run with id: 12. \n"
     ]
    },
    {
     "name": "stdout",
     "output_type": "stream",
     "text": [
      "Starting experimental run with id: 13. \n"
     ]
    },
    {
     "name": "stdout",
     "output_type": "stream",
     "text": [
      "Starting experimental run with id: 14. \n"
     ]
    }
   ],
   "source": [
    "sizes = [1,500,1000,2000,3000,4000,5000]\n",
    "t_numeric = []\n",
    "t_numeric_add = []\n",
    "t_array = []\n",
    "t_array_add = []\n",
    "for size in sizes:\n",
    "    tn, tna, run_id_n =  insert_data('numeric', size)\n",
    "    t_numeric.append(tn)\n",
    "    t_numeric_add.append(tna)\n",
    "\n",
    "    ta, taa, run_id_a =  insert_data('array', size)\n",
    "    t_array.append(ta)\n",
    "    t_array_add.append(taa)"
   ]
  },
  {
   "cell_type": "code",
   "execution_count": 6,
   "metadata": {
    "execution": {
     "iopub.execute_input": "2021-02-20T13:12:23.239331Z",
     "iopub.status.busy": "2021-02-20T13:12:23.238742Z",
     "iopub.status.idle": "2021-02-20T13:12:23.451581Z",
     "shell.execute_reply": "2021-02-20T13:12:23.451068Z"
    }
   },
   "outputs": [
    {
     "data": {
      "image/png": "[encoded data removed]",
      "text/plain": [
       "<Figure size 432x288 with 1 Axes>"
      ]
     },
     "metadata": {
      "needs_background": "light"
     },
     "output_type": "display_data"
    }
   ],
   "source": [
    "fig, ax = plt.subplots(1,1)\n",
    "ax.plot(sizes, t_numeric, 'o-', label='Inserting row-by-row')\n",
    "ax.plot(sizes, t_numeric_add, 'o-', label='Inserting row-by-row: add_result only')\n",
    "ax.plot(sizes, t_array, 'd-', label='Inserting as binary blob')\n",
    "ax.plot(sizes, t_array_add, 'd-', label='Inserting as binary blob: add_result only')\n",
    "ax.legend()\n",
    "ax.set_xlabel('Array length')\n",
    "ax.set_ylabel('Time (s)')\n",
    "fig.tight_layout()"
   ]
  },
  {
   "cell_type": "markdown",
   "metadata": {},
   "source": [
    "As shown in the latter figure, the time to setup and and close the experiment is approximately 0.4 sec. In case of small array sizes, the difference between inserting values of data as arrays and inserting them row-by-row is relatively unimportant. At larger array sizes, i.e. above 10000 points, the cost of writing data as individual datapoints starts to become important.\n"
   ]
  },
  {
   "cell_type": "markdown",
   "metadata": {},
   "source": [
    "### Case2: Long experiment time "
   ]
  },
  {
   "cell_type": "code",
   "execution_count": 7,
   "metadata": {
    "execution": {
     "iopub.execute_input": "2021-02-20T13:12:23.462169Z",
     "iopub.status.busy": "2021-02-20T13:12:23.457638Z",
     "iopub.status.idle": "2021-02-20T13:13:27.790014Z",
     "shell.execute_reply": "2021-02-20T13:13:27.788986Z"
    }
   },
   "outputs": [
    {
     "name": "stdout",
     "output_type": "stream",
     "text": [
      "Starting experimental run with id: 15. \n",
      "Starting experimental run with id: 16. \n"
     ]
    },
    {
     "name": "stdout",
     "output_type": "stream",
     "text": [
      "Starting experimental run with id: 17. \n"
     ]
    },
    {
     "name": "stdout",
     "output_type": "stream",
     "text": [
      "Starting experimental run with id: 18. \n"
     ]
    },
    {
     "name": "stdout",
     "output_type": "stream",
     "text": [
      "Starting experimental run with id: 19. \n"
     ]
    },
    {
     "name": "stdout",
     "output_type": "stream",
     "text": [
      "Starting experimental run with id: 20. \n"
     ]
    },
    {
     "name": "stdout",
     "output_type": "stream",
     "text": [
      "Starting experimental run with id: 21. \n"
     ]
    },
    {
     "name": "stdout",
     "output_type": "stream",
     "text": [
      "Starting experimental run with id: 22. \n"
     ]
    },
    {
     "name": "stdout",
     "output_type": "stream",
     "text": [
      "Starting experimental run with id: 23. \n"
     ]
    },
    {
     "name": "stdout",
     "output_type": "stream",
     "text": [
      "Starting experimental run with id: 24. \n"
     ]
    },
    {
     "name": "stdout",
     "output_type": "stream",
     "text": [
      "Starting experimental run with id: 25. \n"
     ]
    },
    {
     "name": "stdout",
     "output_type": "stream",
     "text": [
      "Starting experimental run with id: 26. \n"
     ]
    },
    {
     "name": "stdout",
     "output_type": "stream",
     "text": [
      "Starting experimental run with id: 27. \n"
     ]
    },
    {
     "name": "stdout",
     "output_type": "stream",
     "text": [
      "Starting experimental run with id: 28. \n"
     ]
    }
   ],
   "source": [
    "sizes = [1,500,1000,2000,3000,4000,5000]\n",
    "nreps = 100\n",
    "t_numeric = []\n",
    "t_numeric_add = []\n",
    "t_numeric_run_ids = []\n",
    "t_array = []\n",
    "t_array_add = []\n",
    "t_array_run_ids = []\n",
    "for size in sizes:\n",
    "    tn, tna, run_id_n =  insert_data('numeric', size, nreps=nreps)\n",
    "    t_numeric.append(tn)\n",
    "    t_numeric_add.append(tna)\n",
    "    t_numeric_run_ids.append(run_id_n)\n",
    "\n",
    "    ta, taa, run_id_a =  insert_data('array', size, nreps=nreps)\n",
    "    t_array.append(ta)\n",
    "    t_array_add.append(taa)\n",
    "    t_array_run_ids.append(run_id_a)"
   ]
  },
  {
   "cell_type": "code",
   "execution_count": 8,
   "metadata": {
    "execution": {
     "iopub.execute_input": "2021-02-20T13:13:27.814124Z",
     "iopub.status.busy": "2021-02-20T13:13:27.809078Z",
     "iopub.status.idle": "2021-02-20T13:13:28.030164Z",
     "shell.execute_reply": "2021-02-20T13:13:28.029606Z"
    },
    "scrolled": true
   },
   "outputs": [
    {
     "data": {
      "image/png": "[encoded data removed]",
      "text/plain": [
       "<Figure size 432x288 with 1 Axes>"
      ]
     },
     "metadata": {
      "needs_background": "light"
     },
     "output_type": "display_data"
    }
   ],
   "source": [
    "fig, ax = plt.subplots(1,1)\n",
    "ax.plot(sizes, t_numeric, 'o-', label='Inserting row-by-row')\n",
    "ax.plot(sizes, t_numeric_add, 'o-', label='Inserting row-by-row: add_result only')\n",
    "ax.plot(sizes, t_array, 'd-', label='Inserting as binary blob')\n",
    "ax.plot(sizes, t_array_add, 'd-', label='Inserting as binary blob: add_result only')\n",
    "ax.legend()\n",
    "ax.set_xlabel('Array length')\n",
    "ax.set_ylabel('Time (s)')\n",
    "fig.tight_layout()"
   ]
  },
  {
   "cell_type": "markdown",
   "metadata": {},
   "source": [
    "However, as we increase the length of the experiment, as seen here by repeating the insertion 100 times, we see a big difference between inserting values of the data row-by-row and inserting it as a binary blob."
   ]
  },
  {
   "cell_type": "markdown",
   "metadata": {},
   "source": [
    "## Loading the data "
   ]
  },
  {
   "cell_type": "code",
   "execution_count": 9,
   "metadata": {
    "execution": {
     "iopub.execute_input": "2021-02-20T13:13:28.035281Z",
     "iopub.status.busy": "2021-02-20T13:13:28.033927Z",
     "iopub.status.idle": "2021-02-20T13:13:28.038828Z",
     "shell.execute_reply": "2021-02-20T13:13:28.039462Z"
    }
   },
   "outputs": [],
   "source": [
    "from qcodes.dataset.data_set import load_by_id\n",
    "from qcodes.dataset.data_export import get_data_by_id"
   ]
  },
  {
   "cell_type": "markdown",
   "metadata": {},
   "source": [
    "As usual you can load the data by using the ``load_by_id`` function but you will notice that the different storage methods\n",
    "are reflected in shape of the data as it is retrieved. "
   ]
  },
  {
   "cell_type": "code",
   "execution_count": 10,
   "metadata": {
    "execution": {
     "iopub.execute_input": "2021-02-20T13:13:28.043751Z",
     "iopub.status.busy": "2021-02-20T13:13:28.043164Z",
     "iopub.status.idle": "2021-02-20T13:13:28.047084Z",
     "shell.execute_reply": "2021-02-20T13:13:28.046544Z"
    }
   },
   "outputs": [],
   "source": [
    "run_id_n = t_numeric_run_ids[0]\n",
    "run_id_a = t_array_run_ids[0]"
   ]
  },
  {
   "cell_type": "code",
   "execution_count": 11,
   "metadata": {
    "execution": {
     "iopub.execute_input": "2021-02-20T13:13:28.050912Z",
     "iopub.status.busy": "2021-02-20T13:13:28.050328Z",
     "iopub.status.idle": "2021-02-20T13:13:28.066500Z",
     "shell.execute_reply": "2021-02-20T13:13:28.067347Z"
    },
    "scrolled": true
   },
   "outputs": [
    {
     "data": {
      "text/plain": [
       "{'x1': {'x1': array([0.41903641, 0.41903641, 0.00103213, 0.00103213, 0.49551817,\n",
       "         0.49551817, 0.80363151, 0.80363151, 0.38256657, 0.38256657,\n",
       "         0.0726227 , 0.0726227 , 0.08356308, 0.08356308, 0.55197228,\n",
       "         0.55197228, 0.38374701, 0.38374701, 0.77409279, 0.77409279,\n",
       "         0.57838541, 0.57838541, 0.66990071, 0.66990071, 0.75791907,\n",
       "         0.75791907, 0.68147357, 0.68147357, 0.81523815, 0.81523815,\n",
       "         0.27824531, 0.27824531, 0.96668371, 0.96668371, 0.92671384,\n",
       "         0.92671384, 0.54109652, 0.54109652, 0.53993317, 0.53993317,\n",
       "         0.95837794, 0.95837794, 0.2287051 , 0.2287051 , 0.80408312,\n",
       "         0.80408312, 0.70853033, 0.70853033, 0.94918933, 0.94918933,\n",
       "         0.12688413, 0.12688413, 0.75694324, 0.75694324, 0.87846772,\n",
       "         0.87846772, 0.54483947, 0.54483947, 0.93139744, 0.93139744,\n",
       "         0.67173102, 0.67173102, 0.14326446, 0.14326446, 0.89798406,\n",
       "         0.89798406, 0.13710547, 0.13710547, 0.0029651 , 0.0029651 ,\n",
       "         0.52618061, 0.52618061, 0.72295042, 0.72295042, 0.83648956,\n",
       "         0.83648956, 0.21997019, 0.21997019, 0.93600573, 0.93600573,\n",
       "         0.1317884 , 0.1317884 , 0.15052329, 0.15052329, 0.72816738,\n",
       "         0.72816738, 0.7409234 , 0.7409234 , 0.66522433, 0.66522433,\n",
       "         0.07219079, 0.07219079, 0.12499702, 0.12499702, 0.62290872,\n",
       "         0.62290872, 0.5585123 , 0.5585123 , 0.48233354, 0.48233354,\n",
       "         0.11080827, 0.11080827, 0.34960454, 0.34960454, 0.2140991 ,\n",
       "         0.2140991 , 0.6739799 , 0.6739799 , 0.2822698 , 0.2822698 ,\n",
       "         0.37096542, 0.37096542, 0.66008691, 0.66008691, 0.22846244,\n",
       "         0.22846244, 0.32702002, 0.32702002, 0.55158666, 0.55158666,\n",
       "         0.59694412, 0.59694412, 0.1770035 , 0.1770035 , 0.2390557 ,\n",
       "         0.2390557 , 0.00694928, 0.00694928, 0.32715983, 0.32715983,\n",
       "         0.05370169, 0.05370169, 0.38855789, 0.38855789, 0.05532617,\n",
       "         0.05532617, 0.81433188, 0.81433188, 0.37962047, 0.37962047,\n",
       "         0.56676112, 0.56676112, 0.99414332, 0.99414332, 0.26070597,\n",
       "         0.26070597, 0.67929473, 0.67929473, 0.52255005, 0.52255005,\n",
       "         0.80597422, 0.80597422, 0.91256692, 0.91256692, 0.98704882,\n",
       "         0.98704882, 0.87618751, 0.87618751, 0.65637113, 0.65637113,\n",
       "         0.08259458, 0.08259458, 0.49044104, 0.49044104, 0.08730377,\n",
       "         0.08730377, 0.92389227, 0.92389227, 0.613061  , 0.613061  ,\n",
       "         0.02578732, 0.02578732, 0.74127495, 0.74127495, 0.26672013,\n",
       "         0.26672013, 0.60739243, 0.60739243, 0.44833414, 0.44833414,\n",
       "         0.40401202, 0.40401202, 0.80986501, 0.80986501, 0.31053785,\n",
       "         0.31053785, 0.01681138, 0.01681138, 0.21492462, 0.21492462,\n",
       "         0.66293632, 0.66293632, 0.82593504, 0.82593504, 0.80629709,\n",
       "         0.80629709, 0.14609142, 0.14609142, 0.04397874, 0.04397874])}}"
      ]
     },
     "execution_count": 1,
     "metadata": {},
     "output_type": "execute_result"
    }
   ],
   "source": [
    "ds = load_by_id(run_id_n)\n",
    "ds.get_parameter_data('x1')"
   ]
  },
  {
   "cell_type": "markdown",
   "metadata": {},
   "source": [
    "And a dataset stored as binary arrays"
   ]
  },
  {
   "cell_type": "code",
   "execution_count": 12,
   "metadata": {
    "execution": {
     "iopub.execute_input": "2021-02-20T13:13:28.071913Z",
     "iopub.status.busy": "2021-02-20T13:13:28.071249Z",
     "iopub.status.idle": "2021-02-20T13:13:28.138342Z",
     "shell.execute_reply": "2021-02-20T13:13:28.137800Z"
    },
    "scrolled": true
   },
   "outputs": [
    {
     "data": {
      "text/plain": [
       "{'x1': {'x1': array([[0.2571928 ],\n",
       "         [0.2571928 ],\n",
       "         [0.37372598],\n",
       "         [0.37372598],\n",
       "         [0.14804778],\n",
       "         [0.14804778],\n",
       "         [0.05567905],\n",
       "         [0.05567905],\n",
       "         [0.47588488],\n",
       "         [0.47588488],\n",
       "         [0.10327624],\n",
       "         [0.10327624],\n",
       "         [0.26978823],\n",
       "         [0.26978823],\n",
       "         [0.74040402],\n",
       "         [0.74040402],\n",
       "         [0.81036908],\n",
       "         [0.81036908],\n",
       "         [0.4470606 ],\n",
       "         [0.4470606 ],\n",
       "         [0.26873833],\n",
       "         [0.26873833],\n",
       "         [0.97885948],\n",
       "         [0.97885948],\n",
       "         [0.11286603],\n",
       "         [0.11286603],\n",
       "         [0.02779414],\n",
       "         [0.02779414],\n",
       "         [0.22001395],\n",
       "         [0.22001395],\n",
       "         [0.25316825],\n",
       "         [0.25316825],\n",
       "         [0.35249465],\n",
       "         [0.35249465],\n",
       "         [0.74365618],\n",
       "         [0.74365618],\n",
       "         [0.34250424],\n",
       "         [0.34250424],\n",
       "         [0.92425599],\n",
       "         [0.92425599],\n",
       "         [0.25604473],\n",
       "         [0.25604473],\n",
       "         [0.25000951],\n",
       "         [0.25000951],\n",
       "         [0.09129537],\n",
       "         [0.09129537],\n",
       "         [0.55986224],\n",
       "         [0.55986224],\n",
       "         [0.43243221],\n",
       "         [0.43243221],\n",
       "         [0.55043502],\n",
       "         [0.55043502],\n",
       "         [0.63912485],\n",
       "         [0.63912485],\n",
       "         [0.76338129],\n",
       "         [0.76338129],\n",
       "         [0.50904832],\n",
       "         [0.50904832],\n",
       "         [0.53745383],\n",
       "         [0.53745383],\n",
       "         [0.21362188],\n",
       "         [0.21362188],\n",
       "         [0.96127563],\n",
       "         [0.96127563],\n",
       "         [0.84942555],\n",
       "         [0.84942555],\n",
       "         [0.03259526],\n",
       "         [0.03259526],\n",
       "         [0.67202319],\n",
       "         [0.67202319],\n",
       "         [0.6002237 ],\n",
       "         [0.6002237 ],\n",
       "         [0.51796464],\n",
       "         [0.51796464],\n",
       "         [0.67172383],\n",
       "         [0.67172383],\n",
       "         [0.77333624],\n",
       "         [0.77333624],\n",
       "         [0.42182718],\n",
       "         [0.42182718],\n",
       "         [0.61550791],\n",
       "         [0.61550791],\n",
       "         [0.65267026],\n",
       "         [0.65267026],\n",
       "         [0.516747  ],\n",
       "         [0.516747  ],\n",
       "         [0.8253779 ],\n",
       "         [0.8253779 ],\n",
       "         [0.58872574],\n",
       "         [0.58872574],\n",
       "         [0.63765274],\n",
       "         [0.63765274],\n",
       "         [0.73846864],\n",
       "         [0.73846864],\n",
       "         [0.86399146],\n",
       "         [0.86399146],\n",
       "         [0.32439881],\n",
       "         [0.32439881],\n",
       "         [0.14272028],\n",
       "         [0.14272028],\n",
       "         [0.9001677 ],\n",
       "         [0.9001677 ],\n",
       "         [0.60650485],\n",
       "         [0.60650485],\n",
       "         [0.18751752],\n",
       "         [0.18751752],\n",
       "         [0.12384053],\n",
       "         [0.12384053],\n",
       "         [0.08885268],\n",
       "         [0.08885268],\n",
       "         [0.01163115],\n",
       "         [0.01163115],\n",
       "         [0.22283156],\n",
       "         [0.22283156],\n",
       "         [0.20879646],\n",
       "         [0.20879646],\n",
       "         [0.93810801],\n",
       "         [0.93810801],\n",
       "         [0.73957875],\n",
       "         [0.73957875],\n",
       "         [0.17087366],\n",
       "         [0.17087366],\n",
       "         [0.89632764],\n",
       "         [0.89632764],\n",
       "         [0.11915998],\n",
       "         [0.11915998],\n",
       "         [0.36214517],\n",
       "         [0.36214517],\n",
       "         [0.60146896],\n",
       "         [0.60146896],\n",
       "         [0.76596946],\n",
       "         [0.76596946],\n",
       "         [0.46735904],\n",
       "         [0.46735904],\n",
       "         [0.59411715],\n",
       "         [0.59411715],\n",
       "         [0.74622884],\n",
       "         [0.74622884],\n",
       "         [0.80932914],\n",
       "         [0.80932914],\n",
       "         [0.89827955],\n",
       "         [0.89827955],\n",
       "         [0.50522186],\n",
       "         [0.50522186],\n",
       "         [0.86630778],\n",
       "         [0.86630778],\n",
       "         [0.96492413],\n",
       "         [0.96492413],\n",
       "         [0.28830919],\n",
       "         [0.28830919],\n",
       "         [0.71706354],\n",
       "         [0.71706354],\n",
       "         [0.08591265],\n",
       "         [0.08591265],\n",
       "         [0.9972583 ],\n",
       "         [0.9972583 ],\n",
       "         [0.98521749],\n",
       "         [0.98521749],\n",
       "         [0.56191326],\n",
       "         [0.56191326],\n",
       "         [0.00997078],\n",
       "         [0.00997078],\n",
       "         [0.53750537],\n",
       "         [0.53750537],\n",
       "         [0.2449056 ],\n",
       "         [0.2449056 ],\n",
       "         [0.75935287],\n",
       "         [0.75935287],\n",
       "         [0.02856017],\n",
       "         [0.02856017],\n",
       "         [0.16958128],\n",
       "         [0.16958128],\n",
       "         [0.93346403],\n",
       "         [0.93346403],\n",
       "         [0.9149477 ],\n",
       "         [0.9149477 ],\n",
       "         [0.30099052],\n",
       "         [0.30099052],\n",
       "         [0.14320046],\n",
       "         [0.14320046],\n",
       "         [0.51251367],\n",
       "         [0.51251367],\n",
       "         [0.33767631],\n",
       "         [0.33767631],\n",
       "         [0.88179476],\n",
       "         [0.88179476],\n",
       "         [0.43127361],\n",
       "         [0.43127361],\n",
       "         [0.78087201],\n",
       "         [0.78087201],\n",
       "         [0.38635933],\n",
       "         [0.38635933],\n",
       "         [0.47218245],\n",
       "         [0.47218245],\n",
       "         [0.96090969],\n",
       "         [0.96090969],\n",
       "         [0.3938108 ],\n",
       "         [0.3938108 ],\n",
       "         [0.7447647 ],\n",
       "         [0.7447647 ]])}}"
      ]
     },
     "execution_count": 1,
     "metadata": {},
     "output_type": "execute_result"
    }
   ],
   "source": [
    "ds = load_by_id(run_id_a)\n",
    "ds.get_parameter_data('x1')"
   ]
  },
  {
   "cell_type": "code",
   "execution_count": null,
   "metadata": {},
   "outputs": [],
   "source": []
  }
 ],
 "metadata": {
  "kernelspec": {
   "display_name": "Python 3",
   "language": "python",
   "name": "python3"
  },
  "language_info": {
   "codemirror_mode": {
    "name": "ipython",
    "version": 3
   },
   "file_extension": ".py",
   "mimetype": "text/x-python",
   "name": "python",
   "nbconvert_exporter": "python",
   "pygments_lexer": "ipython3",
   "version": "3.7.9"
  },
  "nbsphinx": {
   "timeout": 600
  },
  "toc": {
   "base_numbering": 1,
   "nav_menu": {},
   "number_sections": true,
   "sideBar": true,
   "skip_h1_title": false,
   "title_cell": "Table of Contents",
   "title_sidebar": "Contents",
   "toc_cell": false,
   "toc_position": {},
   "toc_section_display": true,
   "toc_window_display": false
  },
  "varInspector": {
   "cols": {
    "lenName": 16,
    "lenType": 16,
    "lenVar": 40
   },
   "kernels_config": {
    "python": {
     "delete_cmd_postfix": "",
     "delete_cmd_prefix": "del ",
     "library": "var_list.py",
     "varRefreshCmd": "print(var_dic_list())"
    },
    "r": {
     "delete_cmd_postfix": ") ",
     "delete_cmd_prefix": "rm(",
     "library": "var_list.r",
     "varRefreshCmd": "cat(var_dic_list()) "
    }
   },
   "types_to_exclude": [
    "module",
    "function",
    "builtin_function_or_method",
    "instance",
    "_Feature"
   ],
   "window_display": false
  }
 },
 "nbformat": 4,
 "nbformat_minor": 2
}
