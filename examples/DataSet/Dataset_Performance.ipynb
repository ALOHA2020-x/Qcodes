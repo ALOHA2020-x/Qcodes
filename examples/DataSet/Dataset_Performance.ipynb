{
 "cells": [
  {
   "cell_type": "markdown",
   "metadata": {},
   "source": [
    "# DataSet Performance\n",
    "\n",
    "This notebook shows the trade-off between inserting data into a database row-by-row and as binary blobs. Inserting the data row-by-row means that we have direct access to all the data and may perform queries directly on the values of the data. On the other hand, as we shall see, this is much slower than inserting the data directly as binary blobs."
   ]
  },
  {
   "cell_type": "markdown",
   "metadata": {},
   "source": [
    "First, we choose a new location for the database to ensure that we don't add a bunch of benchmarking data to the default one."
   ]
  },
  {
   "cell_type": "code",
   "execution_count": 1,
   "metadata": {
    "execution": {
     "iopub.execute_input": "2020-10-29T08:50:22.314157Z",
     "iopub.status.busy": "2020-10-29T08:50:22.313494Z",
     "iopub.status.idle": "2020-10-29T08:50:23.501945Z",
     "shell.execute_reply": "2020-10-29T08:50:23.501280Z"
    }
   },
   "outputs": [
    {
     "name": "stdout",
     "output_type": "stream",
     "text": [
      "Logging hadn't been started.\n",
      "Activating auto-logging. Current session state plus future input saved.\n",
      "Filename       : /home/vsts/.qcodes/logs/command_history.log\n",
      "Mode           : append\n",
      "Output logging : True\n",
      "Raw input log  : False\n",
      "Timestamping   : True\n",
      "State          : active\n"
     ]
    },
    {
     "name": "stdout",
     "output_type": "stream",
     "text": [
      "Qcodes Logfile : /home/vsts/.qcodes/logs/201029-14928-qcodes.log\n"
     ]
    }
   ],
   "source": [
    "import os\n",
    "cwd = os.getcwd()\n",
    "import qcodes as qc\n",
    "qc.config[\"core\"][\"db_location\"] = os.path.join(cwd, 'testing.db')\n"
   ]
  },
  {
   "cell_type": "code",
   "execution_count": 2,
   "metadata": {
    "execution": {
     "iopub.execute_input": "2020-10-29T08:50:23.509346Z",
     "iopub.status.busy": "2020-10-29T08:50:23.508445Z",
     "iopub.status.idle": "2020-10-29T08:50:23.723012Z",
     "shell.execute_reply": "2020-10-29T08:50:23.722332Z"
    }
   },
   "outputs": [],
   "source": [
    "%matplotlib inline\n",
    "import time\n",
    "import matplotlib.pyplot as plt\n",
    "import numpy as np\n",
    "\n",
    "import qcodes as qc\n",
    "from qcodes.instrument.parameter import ManualParameter\n",
    "from qcodes.dataset.experiment_container import (Experiment,\n",
    "                                                 load_last_experiment,\n",
    "                                                 new_experiment)\n",
    "from qcodes.dataset.sqlite.database import initialise_database\n",
    "from qcodes import load_or_create_experiment\n",
    "from qcodes.dataset.measurements import Measurement"
   ]
  },
  {
   "cell_type": "code",
   "execution_count": 3,
   "metadata": {
    "execution": {
     "iopub.execute_input": "2020-10-29T08:50:23.727680Z",
     "iopub.status.busy": "2020-10-29T08:50:23.726878Z",
     "iopub.status.idle": "2020-10-29T08:50:23.858403Z",
     "shell.execute_reply": "2020-10-29T08:50:23.858977Z"
    }
   },
   "outputs": [
    {
     "name": "stdout",
     "output_type": "stream",
     "text": [
      "\r",
      "0it [00:00, ?it/s]"
     ]
    },
    {
     "name": "stdout",
     "output_type": "stream",
     "text": [
      "\r",
      "Upgrading database; v0 -> v1: : 0it [00:00, ?it/s]"
     ]
    },
    {
     "name": "stdout",
     "output_type": "stream",
     "text": [
      "\r",
      "Upgrading database; v0 -> v1: : 0it [00:00, ?it/s]"
     ]
    },
    {
     "name": "stdout",
     "output_type": "stream",
     "text": [
      "\n",
      "\r",
      "  0%|          | 0/1 [00:00<?, ?it/s]"
     ]
    },
    {
     "name": "stdout",
     "output_type": "stream",
     "text": [
      "\r",
      "Upgrading database; v1 -> v2:   0%|          | 0/1 [00:00<?, ?it/s]"
     ]
    },
    {
     "name": "stdout",
     "output_type": "stream",
     "text": [
      "\r",
      "Upgrading database; v1 -> v2: 100%|██████████| 1/1 [00:00<00:00, 389.08it/s]"
     ]
    },
    {
     "name": "stdout",
     "output_type": "stream",
     "text": [
      "\n",
      "\r",
      "0it [00:00, ?it/s]"
     ]
    },
    {
     "name": "stdout",
     "output_type": "stream",
     "text": [
      "\r",
      "Upgrading database; v2 -> v3: : 0it [00:00, ?it/s]"
     ]
    },
    {
     "name": "stdout",
     "output_type": "stream",
     "text": [
      "\r",
      "Upgrading database; v2 -> v3: : 0it [00:00, ?it/s]"
     ]
    },
    {
     "name": "stdout",
     "output_type": "stream",
     "text": [
      "\n",
      "\r",
      "0it [00:00, ?it/s]"
     ]
    },
    {
     "name": "stdout",
     "output_type": "stream",
     "text": [
      "\r",
      "Upgrading database; v3 -> v4: : 0it [00:00, ?it/s]"
     ]
    },
    {
     "name": "stdout",
     "output_type": "stream",
     "text": [
      "\r",
      "Upgrading database; v3 -> v4: : 0it [00:00, ?it/s]"
     ]
    },
    {
     "name": "stdout",
     "output_type": "stream",
     "text": [
      "\n",
      "\r",
      "  0%|          | 0/1 [00:00<?, ?it/s]"
     ]
    },
    {
     "name": "stdout",
     "output_type": "stream",
     "text": [
      "\r",
      "Upgrading database; v4 -> v5:   0%|          | 0/1 [00:00<?, ?it/s]"
     ]
    },
    {
     "name": "stdout",
     "output_type": "stream",
     "text": [
      "\r",
      "Upgrading database; v4 -> v5: 100%|██████████| 1/1 [00:00<00:00, 502.91it/s]"
     ]
    },
    {
     "name": "stdout",
     "output_type": "stream",
     "text": [
      "\n",
      "\r",
      "0it [00:00, ?it/s]"
     ]
    },
    {
     "name": "stdout",
     "output_type": "stream",
     "text": [
      "\r",
      "Upgrading database; v5 -> v6: : 0it [00:00, ?it/s]"
     ]
    },
    {
     "name": "stdout",
     "output_type": "stream",
     "text": [
      "\r",
      "Upgrading database; v5 -> v6: : 0it [00:00, ?it/s]"
     ]
    },
    {
     "name": "stdout",
     "output_type": "stream",
     "text": [
      "\n",
      "\r",
      "  0%|          | 0/1 [00:00<?, ?it/s]"
     ]
    },
    {
     "name": "stdout",
     "output_type": "stream",
     "text": [
      "\r",
      "Upgrading database; v6 -> v7:   0%|          | 0/1 [00:00<?, ?it/s]"
     ]
    },
    {
     "name": "stdout",
     "output_type": "stream",
     "text": [
      "\r",
      "Upgrading database; v6 -> v7: 100%|██████████| 1/1 [00:00<00:00, 281.36it/s]"
     ]
    },
    {
     "name": "stdout",
     "output_type": "stream",
     "text": [
      "\n",
      "\r",
      "  0%|          | 0/1 [00:00<?, ?it/s]"
     ]
    },
    {
     "name": "stdout",
     "output_type": "stream",
     "text": [
      "\r",
      "Upgrading database; v7 -> v8:   0%|          | 0/1 [00:00<?, ?it/s]"
     ]
    },
    {
     "name": "stdout",
     "output_type": "stream",
     "text": [
      "\r",
      "Upgrading database; v7 -> v8: 100%|██████████| 1/1 [00:00<00:00, 811.12it/s]"
     ]
    },
    {
     "name": "stdout",
     "output_type": "stream",
     "text": [
      "\n",
      "\r",
      "  0%|          | 0/1 [00:00<?, ?it/s]"
     ]
    },
    {
     "name": "stdout",
     "output_type": "stream",
     "text": [
      "\r",
      "Upgrading database; v8 -> v9:   0%|          | 0/1 [00:00<?, ?it/s]"
     ]
    },
    {
     "name": "stdout",
     "output_type": "stream",
     "text": [
      "\r",
      "Upgrading database; v8 -> v9: 100%|██████████| 1/1 [00:00<00:00, 1016.80it/s]"
     ]
    },
    {
     "name": "stdout",
     "output_type": "stream",
     "text": [
      "\n"
     ]
    }
   ],
   "source": [
    "initialise_database()\n",
    "exp = load_or_create_experiment(experiment_name='tutorial_exp', sample_name=\"no sample\")"
   ]
  },
  {
   "cell_type": "markdown",
   "metadata": {},
   "source": [
    "Here, we define a simple function to benchmark the time it takes to insert n points with either numeric or array data type.\n",
    "We will compare both the time used to call ``add_result`` and the time used for the full measurement."
   ]
  },
  {
   "cell_type": "code",
   "execution_count": 4,
   "metadata": {
    "execution": {
     "iopub.execute_input": "2020-10-29T08:50:23.870535Z",
     "iopub.status.busy": "2020-10-29T08:50:23.868012Z",
     "iopub.status.idle": "2020-10-29T08:50:23.871324Z",
     "shell.execute_reply": "2020-10-29T08:50:23.871916Z"
    }
   },
   "outputs": [],
   "source": [
    "def insert_data(paramtype, npoints, nreps=1):\n",
    "\n",
    "    meas = Measurement(exp=exp)\n",
    "\n",
    "    x1 = ManualParameter('x1')\n",
    "    x2 = ManualParameter('x2')\n",
    "    x3 = ManualParameter('x3')\n",
    "    y1 = ManualParameter('y1')\n",
    "    y2 = ManualParameter('y2')\n",
    "\n",
    "    meas.register_parameter(x1, paramtype=paramtype)\n",
    "    meas.register_parameter(x2, paramtype=paramtype)\n",
    "    meas.register_parameter(x3, paramtype=paramtype)\n",
    "    meas.register_parameter(y1, setpoints=[x1, x2, x3],\n",
    "                            paramtype=paramtype)\n",
    "    meas.register_parameter(y2, setpoints=[x1, x2, x3],\n",
    "                            paramtype=paramtype)\n",
    "    start = time.perf_counter()\n",
    "    with meas.run() as datasaver:\n",
    "        start_adding = time.perf_counter()\n",
    "        for i in range(nreps):\n",
    "            datasaver.add_result((x1, np.random.rand(npoints)),\n",
    "                                 (x2, np.random.rand(npoints)),\n",
    "                                 (x3, np.random.rand(npoints)),\n",
    "                                 (y1, np.random.rand(npoints)),\n",
    "                                 (y2, np.random.rand(npoints)))\n",
    "        stop_adding = time.perf_counter()\n",
    "        run_id = datasaver.run_id\n",
    "    stop = time.perf_counter()\n",
    "    tot_time = stop - start\n",
    "    add_time = stop_adding - start_adding\n",
    "    return tot_time, add_time, run_id"
   ]
  },
  {
   "cell_type": "markdown",
   "metadata": {},
   "source": [
    "## Comparison between numeric/array data and binary blob"
   ]
  },
  {
   "cell_type": "markdown",
   "metadata": {},
   "source": [
    "### Case1: Short experiment time"
   ]
  },
  {
   "cell_type": "code",
   "execution_count": 5,
   "metadata": {
    "execution": {
     "iopub.execute_input": "2020-10-29T08:50:23.879764Z",
     "iopub.status.busy": "2020-10-29T08:50:23.879093Z",
     "iopub.status.idle": "2020-10-29T08:50:24.812567Z",
     "shell.execute_reply": "2020-10-29T08:50:24.811633Z"
    }
   },
   "outputs": [
    {
     "name": "stdout",
     "output_type": "stream",
     "text": [
      "Starting experimental run with id: 1. \n",
      "Starting experimental run with id: 2. \n",
      "Starting experimental run with id: 3. \n"
     ]
    },
    {
     "name": "stdout",
     "output_type": "stream",
     "text": [
      "Starting experimental run with id: 4. \n"
     ]
    },
    {
     "name": "stdout",
     "output_type": "stream",
     "text": [
      "Starting experimental run with id: 5. \n"
     ]
    },
    {
     "name": "stdout",
     "output_type": "stream",
     "text": [
      "Starting experimental run with id: 6. \n"
     ]
    },
    {
     "name": "stdout",
     "output_type": "stream",
     "text": [
      "Starting experimental run with id: 7. \n",
      "Starting experimental run with id: 8. \n"
     ]
    },
    {
     "name": "stdout",
     "output_type": "stream",
     "text": [
      "Starting experimental run with id: 9. \n"
     ]
    },
    {
     "name": "stdout",
     "output_type": "stream",
     "text": [
      "Starting experimental run with id: 10. \n",
      "Starting experimental run with id: 11. \n"
     ]
    },
    {
     "name": "stdout",
     "output_type": "stream",
     "text": [
      "Starting experimental run with id: 12. \n"
     ]
    },
    {
     "name": "stdout",
     "output_type": "stream",
     "text": [
      "Starting experimental run with id: 13. \n"
     ]
    },
    {
     "name": "stdout",
     "output_type": "stream",
     "text": [
      "Starting experimental run with id: 14. \n"
     ]
    }
   ],
   "source": [
    "sizes = [1,500,1000,2000,3000,4000,5000]\n",
    "t_numeric = []\n",
    "t_numeric_add = []\n",
    "t_array = []\n",
    "t_array_add = []\n",
    "for size in sizes:\n",
    "    tn, tna, run_id_n =  insert_data('numeric', size)\n",
    "    t_numeric.append(tn)\n",
    "    t_numeric_add.append(tna)\n",
    "\n",
    "    ta, taa, run_id_a =  insert_data('array', size)\n",
    "    t_array.append(ta)\n",
    "    t_array_add.append(taa)"
   ]
  },
  {
   "cell_type": "code",
   "execution_count": 6,
   "metadata": {
    "execution": {
     "iopub.execute_input": "2020-10-29T08:50:24.833443Z",
     "iopub.status.busy": "2020-10-29T08:50:24.817376Z",
     "iopub.status.idle": "2020-10-29T08:50:25.056954Z",
     "shell.execute_reply": "2020-10-29T08:50:25.055808Z"
    }
   },
   "outputs": [
    {
     "data": {
      "image/png": "[encoded data removed]",
      "text/plain": [
       "<Figure size 432x288 with 1 Axes>"
      ]
     },
     "metadata": {
      "needs_background": "light"
     },
     "output_type": "display_data"
    }
   ],
   "source": [
    "fig, ax = plt.subplots(1,1)\n",
    "ax.plot(sizes, t_numeric, 'o-', label='Inserting row-by-row')\n",
    "ax.plot(sizes, t_numeric_add, 'o-', label='Inserting row-by-row: add_result only')\n",
    "ax.plot(sizes, t_array, 'd-', label='Inserting as binary blob')\n",
    "ax.plot(sizes, t_array_add, 'd-', label='Inserting as binary blob: add_result only')\n",
    "ax.legend()\n",
    "ax.set_xlabel('Array length')\n",
    "ax.set_ylabel('Time (s)')\n",
    "fig.tight_layout()"
   ]
  },
  {
   "cell_type": "markdown",
   "metadata": {},
   "source": [
    "As shown in the latter figure, the time to setup and and close the experiment is approximately 0.4 sec. In case of small array sizes, the difference between inserting values of data as arrays and inserting them row-by-row is relatively unimportant. At larger array sizes, i.e. above 10000 points, the cost of writing data as individual datapoints starts to become important.\n"
   ]
  },
  {
   "cell_type": "markdown",
   "metadata": {},
   "source": [
    "### Case2: Long experiment time "
   ]
  },
  {
   "cell_type": "code",
   "execution_count": 7,
   "metadata": {
    "execution": {
     "iopub.execute_input": "2020-10-29T08:50:25.064895Z",
     "iopub.status.busy": "2020-10-29T08:50:25.064201Z",
     "iopub.status.idle": "2020-10-29T08:51:24.892173Z",
     "shell.execute_reply": "2020-10-29T08:51:24.891547Z"
    }
   },
   "outputs": [
    {
     "name": "stdout",
     "output_type": "stream",
     "text": [
      "Starting experimental run with id: 15. \n",
      "Starting experimental run with id: 16. \n",
      "Starting experimental run with id: 17. \n"
     ]
    },
    {
     "name": "stdout",
     "output_type": "stream",
     "text": [
      "Starting experimental run with id: 18. \n"
     ]
    },
    {
     "name": "stdout",
     "output_type": "stream",
     "text": [
      "Starting experimental run with id: 19. \n"
     ]
    },
    {
     "name": "stdout",
     "output_type": "stream",
     "text": [
      "Starting experimental run with id: 20. \n"
     ]
    },
    {
     "name": "stdout",
     "output_type": "stream",
     "text": [
      "Starting experimental run with id: 21. \n"
     ]
    },
    {
     "name": "stdout",
     "output_type": "stream",
     "text": [
      "Starting experimental run with id: 22. \n"
     ]
    },
    {
     "name": "stdout",
     "output_type": "stream",
     "text": [
      "Starting experimental run with id: 23. \n"
     ]
    },
    {
     "name": "stdout",
     "output_type": "stream",
     "text": [
      "Starting experimental run with id: 24. \n"
     ]
    },
    {
     "name": "stdout",
     "output_type": "stream",
     "text": [
      "Starting experimental run with id: 25. \n"
     ]
    },
    {
     "name": "stdout",
     "output_type": "stream",
     "text": [
      "Starting experimental run with id: 26. \n"
     ]
    },
    {
     "name": "stdout",
     "output_type": "stream",
     "text": [
      "Starting experimental run with id: 27. \n"
     ]
    },
    {
     "name": "stdout",
     "output_type": "stream",
     "text": [
      "Starting experimental run with id: 28. \n"
     ]
    }
   ],
   "source": [
    "sizes = [1,500,1000,2000,3000,4000,5000]\n",
    "nreps = 100\n",
    "t_numeric = []\n",
    "t_numeric_add = []\n",
    "t_numeric_run_ids = []\n",
    "t_array = []\n",
    "t_array_add = []\n",
    "t_array_run_ids = []\n",
    "for size in sizes:\n",
    "    tn, tna, run_id_n =  insert_data('numeric', size, nreps=nreps)\n",
    "    t_numeric.append(tn)\n",
    "    t_numeric_add.append(tna)\n",
    "    t_numeric_run_ids.append(run_id_n)\n",
    "\n",
    "    ta, taa, run_id_a =  insert_data('array', size, nreps=nreps)\n",
    "    t_array.append(ta)\n",
    "    t_array_add.append(taa)\n",
    "    t_array_run_ids.append(run_id_a)"
   ]
  },
  {
   "cell_type": "code",
   "execution_count": 8,
   "metadata": {
    "execution": {
     "iopub.execute_input": "2020-10-29T08:51:24.922983Z",
     "iopub.status.busy": "2020-10-29T08:51:24.918679Z",
     "iopub.status.idle": "2020-10-29T08:51:25.131901Z",
     "shell.execute_reply": "2020-10-29T08:51:25.130949Z"
    },
    "scrolled": true
   },
   "outputs": [
    {
     "data": {
      "image/png": "[encoded data removed]",
      "text/plain": [
       "<Figure size 432x288 with 1 Axes>"
      ]
     },
     "metadata": {
      "needs_background": "light"
     },
     "output_type": "display_data"
    }
   ],
   "source": [
    "fig, ax = plt.subplots(1,1)\n",
    "ax.plot(sizes, t_numeric, 'o-', label='Inserting row-by-row')\n",
    "ax.plot(sizes, t_numeric_add, 'o-', label='Inserting row-by-row: add_result only')\n",
    "ax.plot(sizes, t_array, 'd-', label='Inserting as binary blob')\n",
    "ax.plot(sizes, t_array_add, 'd-', label='Inserting as binary blob: add_result only')\n",
    "ax.legend()\n",
    "ax.set_xlabel('Array length')\n",
    "ax.set_ylabel('Time (s)')\n",
    "fig.tight_layout()"
   ]
  },
  {
   "cell_type": "markdown",
   "metadata": {},
   "source": [
    "However, as we increase the length of the experiment, as seen here by repeating the insertion 100 times, we see a big difference between inserting values of the data row-by-row and inserting it as a binary blob."
   ]
  },
  {
   "cell_type": "markdown",
   "metadata": {},
   "source": [
    "## Loading the data "
   ]
  },
  {
   "cell_type": "code",
   "execution_count": 9,
   "metadata": {
    "execution": {
     "iopub.execute_input": "2020-10-29T08:51:25.137471Z",
     "iopub.status.busy": "2020-10-29T08:51:25.136671Z",
     "iopub.status.idle": "2020-10-29T08:51:25.140321Z",
     "shell.execute_reply": "2020-10-29T08:51:25.141142Z"
    }
   },
   "outputs": [],
   "source": [
    "from qcodes.dataset.data_set import load_by_id\n",
    "from qcodes.dataset.data_export import get_data_by_id"
   ]
  },
  {
   "cell_type": "markdown",
   "metadata": {},
   "source": [
    "As usual you can load the data by using the ``load_by_id`` function but you will notice that the different storage methods\n",
    "are reflected in shape of the data as it is retrieved. "
   ]
  },
  {
   "cell_type": "code",
   "execution_count": 10,
   "metadata": {
    "execution": {
     "iopub.execute_input": "2020-10-29T08:51:25.145689Z",
     "iopub.status.busy": "2020-10-29T08:51:25.145024Z",
     "iopub.status.idle": "2020-10-29T08:51:25.148700Z",
     "shell.execute_reply": "2020-10-29T08:51:25.149214Z"
    }
   },
   "outputs": [],
   "source": [
    "run_id_n = t_numeric_run_ids[0]\n",
    "run_id_a = t_array_run_ids[0]"
   ]
  },
  {
   "cell_type": "code",
   "execution_count": 11,
   "metadata": {
    "execution": {
     "iopub.execute_input": "2020-10-29T08:51:25.153757Z",
     "iopub.status.busy": "2020-10-29T08:51:25.153090Z",
     "iopub.status.idle": "2020-10-29T08:51:25.162681Z",
     "shell.execute_reply": "2020-10-29T08:51:25.163274Z"
    },
    "scrolled": true
   },
   "outputs": [
    {
     "data": {
      "text/plain": [
       "{'x1': {'x1': array([0.66193784, 0.66193784, 0.71669176, 0.71669176, 0.81706441,\n",
       "         0.81706441, 0.09613738, 0.09613738, 0.97728104, 0.97728104,\n",
       "         0.37327869, 0.37327869, 0.00424223, 0.00424223, 0.02028766,\n",
       "         0.02028766, 0.33404163, 0.33404163, 0.3723212 , 0.3723212 ,\n",
       "         0.18358682, 0.18358682, 0.23471014, 0.23471014, 0.83467914,\n",
       "         0.83467914, 0.81506477, 0.81506477, 0.72158645, 0.72158645,\n",
       "         0.81370099, 0.81370099, 0.76250493, 0.76250493, 0.57888575,\n",
       "         0.57888575, 0.08186777, 0.08186777, 0.35618661, 0.35618661,\n",
       "         0.95694137, 0.95694137, 0.89038478, 0.89038478, 0.75500303,\n",
       "         0.75500303, 0.60500917, 0.60500917, 0.07752021, 0.07752021,\n",
       "         0.58823328, 0.58823328, 0.4378569 , 0.4378569 , 0.41550695,\n",
       "         0.41550695, 0.21365153, 0.21365153, 0.97583591, 0.97583591,\n",
       "         0.26516992, 0.26516992, 0.14210562, 0.14210562, 0.72144791,\n",
       "         0.72144791, 0.71756305, 0.71756305, 0.29281048, 0.29281048,\n",
       "         0.25975679, 0.25975679, 0.87757211, 0.87757211, 0.5467029 ,\n",
       "         0.5467029 , 0.70649308, 0.70649308, 0.86286349, 0.86286349,\n",
       "         0.79303805, 0.79303805, 0.25798476, 0.25798476, 0.50786833,\n",
       "         0.50786833, 0.71739851, 0.71739851, 0.85844413, 0.85844413,\n",
       "         0.69546053, 0.69546053, 0.19191361, 0.19191361, 0.46571233,\n",
       "         0.46571233, 0.15327074, 0.15327074, 0.83057512, 0.83057512,\n",
       "         0.44007831, 0.44007831, 0.44256943, 0.44256943, 0.28055356,\n",
       "         0.28055356, 0.36612432, 0.36612432, 0.76419284, 0.76419284,\n",
       "         0.94592507, 0.94592507, 0.77482702, 0.77482702, 0.42855374,\n",
       "         0.42855374, 0.2864956 , 0.2864956 , 0.55522665, 0.55522665,\n",
       "         0.49100622, 0.49100622, 0.33320295, 0.33320295, 0.58184189,\n",
       "         0.58184189, 0.62612855, 0.62612855, 0.83592808, 0.83592808,\n",
       "         0.75706021, 0.75706021, 0.26033098, 0.26033098, 0.51908217,\n",
       "         0.51908217, 0.00916419, 0.00916419, 0.35812266, 0.35812266,\n",
       "         0.06109437, 0.06109437, 0.37692015, 0.37692015, 0.56479853,\n",
       "         0.56479853, 0.20791829, 0.20791829, 0.94022474, 0.94022474,\n",
       "         0.22007302, 0.22007302, 0.94089732, 0.94089732, 0.26432996,\n",
       "         0.26432996, 0.50122984, 0.50122984, 0.59253394, 0.59253394,\n",
       "         0.60481186, 0.60481186, 0.59191182, 0.59191182, 0.13267207,\n",
       "         0.13267207, 0.08247317, 0.08247317, 0.49129364, 0.49129364,\n",
       "         0.24005083, 0.24005083, 0.49639878, 0.49639878, 0.83820555,\n",
       "         0.83820555, 0.46590724, 0.46590724, 0.54934485, 0.54934485,\n",
       "         0.31651546, 0.31651546, 0.52948367, 0.52948367, 0.14631517,\n",
       "         0.14631517, 0.85715841, 0.85715841, 0.36250708, 0.36250708,\n",
       "         0.7469091 , 0.7469091 , 0.51717421, 0.51717421, 0.3386262 ,\n",
       "         0.3386262 , 0.03147536, 0.03147536, 0.71204818, 0.71204818])}}"
      ]
     },
     "execution_count": 1,
     "metadata": {},
     "output_type": "execute_result"
    }
   ],
   "source": [
    "ds = load_by_id(run_id_n)\n",
    "ds.get_parameter_data('x1')"
   ]
  },
  {
   "cell_type": "markdown",
   "metadata": {},
   "source": [
    "And a dataset stored as binary arrays"
   ]
  },
  {
   "cell_type": "code",
   "execution_count": 12,
   "metadata": {
    "execution": {
     "iopub.execute_input": "2020-10-29T08:51:25.169721Z",
     "iopub.status.busy": "2020-10-29T08:51:25.169050Z",
     "iopub.status.idle": "2020-10-29T08:51:25.236671Z",
     "shell.execute_reply": "2020-10-29T08:51:25.237267Z"
    },
    "scrolled": true
   },
   "outputs": [
    {
     "data": {
      "text/plain": [
       "{'x1': {'x1': array([[0.32107755],\n",
       "         [0.32107755],\n",
       "         [0.21042341],\n",
       "         [0.21042341],\n",
       "         [0.83792542],\n",
       "         [0.83792542],\n",
       "         [0.22245381],\n",
       "         [0.22245381],\n",
       "         [0.34666758],\n",
       "         [0.34666758],\n",
       "         [0.945933  ],\n",
       "         [0.945933  ],\n",
       "         [0.21362732],\n",
       "         [0.21362732],\n",
       "         [0.38557721],\n",
       "         [0.38557721],\n",
       "         [0.13566523],\n",
       "         [0.13566523],\n",
       "         [0.9049756 ],\n",
       "         [0.9049756 ],\n",
       "         [0.44780294],\n",
       "         [0.44780294],\n",
       "         [0.74562718],\n",
       "         [0.74562718],\n",
       "         [0.84475107],\n",
       "         [0.84475107],\n",
       "         [0.35407979],\n",
       "         [0.35407979],\n",
       "         [0.60284081],\n",
       "         [0.60284081],\n",
       "         [0.29724105],\n",
       "         [0.29724105],\n",
       "         [0.4857999 ],\n",
       "         [0.4857999 ],\n",
       "         [0.71765137],\n",
       "         [0.71765137],\n",
       "         [0.7905337 ],\n",
       "         [0.7905337 ],\n",
       "         [0.93765529],\n",
       "         [0.93765529],\n",
       "         [0.11299965],\n",
       "         [0.11299965],\n",
       "         [0.3421133 ],\n",
       "         [0.3421133 ],\n",
       "         [0.61605202],\n",
       "         [0.61605202],\n",
       "         [0.87118136],\n",
       "         [0.87118136],\n",
       "         [0.15713781],\n",
       "         [0.15713781],\n",
       "         [0.14722455],\n",
       "         [0.14722455],\n",
       "         [0.64965551],\n",
       "         [0.64965551],\n",
       "         [0.05832454],\n",
       "         [0.05832454],\n",
       "         [0.02029141],\n",
       "         [0.02029141],\n",
       "         [0.92406996],\n",
       "         [0.92406996],\n",
       "         [0.6214799 ],\n",
       "         [0.6214799 ],\n",
       "         [0.70750491],\n",
       "         [0.70750491],\n",
       "         [0.0733096 ],\n",
       "         [0.0733096 ],\n",
       "         [0.57374522],\n",
       "         [0.57374522],\n",
       "         [0.40783965],\n",
       "         [0.40783965],\n",
       "         [0.99533641],\n",
       "         [0.99533641],\n",
       "         [0.6359521 ],\n",
       "         [0.6359521 ],\n",
       "         [0.27198974],\n",
       "         [0.27198974],\n",
       "         [0.37298914],\n",
       "         [0.37298914],\n",
       "         [0.1997832 ],\n",
       "         [0.1997832 ],\n",
       "         [0.29526123],\n",
       "         [0.29526123],\n",
       "         [0.94771024],\n",
       "         [0.94771024],\n",
       "         [0.27068817],\n",
       "         [0.27068817],\n",
       "         [0.32882024],\n",
       "         [0.32882024],\n",
       "         [0.5482334 ],\n",
       "         [0.5482334 ],\n",
       "         [0.10910712],\n",
       "         [0.10910712],\n",
       "         [0.37197513],\n",
       "         [0.37197513],\n",
       "         [0.09540209],\n",
       "         [0.09540209],\n",
       "         [0.09306879],\n",
       "         [0.09306879],\n",
       "         [0.8610427 ],\n",
       "         [0.8610427 ],\n",
       "         [0.03057177],\n",
       "         [0.03057177],\n",
       "         [0.78356153],\n",
       "         [0.78356153],\n",
       "         [0.49445665],\n",
       "         [0.49445665],\n",
       "         [0.47312643],\n",
       "         [0.47312643],\n",
       "         [0.62734488],\n",
       "         [0.62734488],\n",
       "         [0.04277489],\n",
       "         [0.04277489],\n",
       "         [0.69916162],\n",
       "         [0.69916162],\n",
       "         [0.31713545],\n",
       "         [0.31713545],\n",
       "         [0.26477308],\n",
       "         [0.26477308],\n",
       "         [0.55430966],\n",
       "         [0.55430966],\n",
       "         [0.52248232],\n",
       "         [0.52248232],\n",
       "         [0.16075459],\n",
       "         [0.16075459],\n",
       "         [0.16617238],\n",
       "         [0.16617238],\n",
       "         [0.45848382],\n",
       "         [0.45848382],\n",
       "         [0.1952631 ],\n",
       "         [0.1952631 ],\n",
       "         [0.61929847],\n",
       "         [0.61929847],\n",
       "         [0.01017281],\n",
       "         [0.01017281],\n",
       "         [0.52305219],\n",
       "         [0.52305219],\n",
       "         [0.01049844],\n",
       "         [0.01049844],\n",
       "         [0.7098284 ],\n",
       "         [0.7098284 ],\n",
       "         [0.3296707 ],\n",
       "         [0.3296707 ],\n",
       "         [0.15760573],\n",
       "         [0.15760573],\n",
       "         [0.95189514],\n",
       "         [0.95189514],\n",
       "         [0.93657689],\n",
       "         [0.93657689],\n",
       "         [0.66010082],\n",
       "         [0.66010082],\n",
       "         [0.38205599],\n",
       "         [0.38205599],\n",
       "         [0.31433874],\n",
       "         [0.31433874],\n",
       "         [0.11151311],\n",
       "         [0.11151311],\n",
       "         [0.48020489],\n",
       "         [0.48020489],\n",
       "         [0.80943149],\n",
       "         [0.80943149],\n",
       "         [0.88760205],\n",
       "         [0.88760205],\n",
       "         [0.3849645 ],\n",
       "         [0.3849645 ],\n",
       "         [0.63443465],\n",
       "         [0.63443465],\n",
       "         [0.1830923 ],\n",
       "         [0.1830923 ],\n",
       "         [0.14598178],\n",
       "         [0.14598178],\n",
       "         [0.80260152],\n",
       "         [0.80260152],\n",
       "         [0.9722706 ],\n",
       "         [0.9722706 ],\n",
       "         [0.11115024],\n",
       "         [0.11115024],\n",
       "         [0.4157968 ],\n",
       "         [0.4157968 ],\n",
       "         [0.55453498],\n",
       "         [0.55453498],\n",
       "         [0.11925761],\n",
       "         [0.11925761],\n",
       "         [0.16175301],\n",
       "         [0.16175301],\n",
       "         [0.24918316],\n",
       "         [0.24918316],\n",
       "         [0.79071445],\n",
       "         [0.79071445],\n",
       "         [0.49224706],\n",
       "         [0.49224706],\n",
       "         [0.1518461 ],\n",
       "         [0.1518461 ],\n",
       "         [0.67219354],\n",
       "         [0.67219354],\n",
       "         [0.87277416],\n",
       "         [0.87277416],\n",
       "         [0.19364748],\n",
       "         [0.19364748],\n",
       "         [0.43578784],\n",
       "         [0.43578784]])}}"
      ]
     },
     "execution_count": 1,
     "metadata": {},
     "output_type": "execute_result"
    }
   ],
   "source": [
    "ds = load_by_id(run_id_a)\n",
    "ds.get_parameter_data('x1')"
   ]
  },
  {
   "cell_type": "code",
   "execution_count": null,
   "metadata": {},
   "outputs": [],
   "source": []
  }
 ],
 "metadata": {
  "kernelspec": {
   "display_name": "Python 3",
   "language": "python",
   "name": "python3"
  },
  "language_info": {
   "codemirror_mode": {
    "name": "ipython",
    "version": 3
   },
   "file_extension": ".py",
   "mimetype": "text/x-python",
   "name": "python",
   "nbconvert_exporter": "python",
   "pygments_lexer": "ipython3",
   "version": "3.7.9"
  },
  "nbsphinx": {
   "timeout": 600
  },
  "toc": {
   "base_numbering": 1,
   "nav_menu": {},
   "number_sections": true,
   "sideBar": true,
   "skip_h1_title": false,
   "title_cell": "Table of Contents",
   "title_sidebar": "Contents",
   "toc_cell": false,
   "toc_position": {},
   "toc_section_display": true,
   "toc_window_display": false
  },
  "varInspector": {
   "cols": {
    "lenName": 16,
    "lenType": 16,
    "lenVar": 40
   },
   "kernels_config": {
    "python": {
     "delete_cmd_postfix": "",
     "delete_cmd_prefix": "del ",
     "library": "var_list.py",
     "varRefreshCmd": "print(var_dic_list())"
    },
    "r": {
     "delete_cmd_postfix": ") ",
     "delete_cmd_prefix": "rm(",
     "library": "var_list.r",
     "varRefreshCmd": "cat(var_dic_list()) "
    }
   },
   "types_to_exclude": [
    "module",
    "function",
    "builtin_function_or_method",
    "instance",
    "_Feature"
   ],
   "window_display": false
  }
 },
 "nbformat": 4,
 "nbformat_minor": 2
}
