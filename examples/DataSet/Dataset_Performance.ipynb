{
 "cells": [
  {
   "cell_type": "markdown",
   "metadata": {},
   "source": [
    "# DataSet Performance\n",
    "\n",
    "This notebook shows the trade-off between inserting data into a database row-by-row and as binary blobs. Inserting the data row-by-row means that we have direct access to all the data and may perform queries directly on the values of the data. On the other hand, as we shall see, this is much slower than inserting the data directly as binary blobs."
   ]
  },
  {
   "cell_type": "markdown",
   "metadata": {},
   "source": [
    "First, we choose a new location for the database to ensure that we don't add a bunch of benchmarking data to the default one."
   ]
  },
  {
   "cell_type": "code",
   "execution_count": 1,
   "metadata": {
    "execution": {
     "iopub.execute_input": "2020-11-24T12:54:58.232606Z",
     "iopub.status.busy": "2020-11-24T12:54:58.231989Z",
     "iopub.status.idle": "2020-11-24T12:54:59.235027Z",
     "shell.execute_reply": "2020-11-24T12:54:59.235478Z"
    }
   },
   "outputs": [
    {
     "name": "stdout",
     "output_type": "stream",
     "text": [
      "Logging hadn't been started.\n",
      "Activating auto-logging. Current session state plus future input saved.\n",
      "Filename       : /home/vsts/.qcodes/logs/command_history.log\n",
      "Mode           : append\n",
      "Output logging : True\n",
      "Raw input log  : False\n",
      "Timestamping   : True\n",
      "State          : active\n"
     ]
    },
    {
     "name": "stdout",
     "output_type": "stream",
     "text": [
      "Qcodes Logfile : /home/vsts/.qcodes/logs/201124-14360-qcodes.log\n"
     ]
    }
   ],
   "source": [
    "import os\n",
    "cwd = os.getcwd()\n",
    "import qcodes as qc\n",
    "qc.config[\"core\"][\"db_location\"] = os.path.join(cwd, 'testing.db')\n"
   ]
  },
  {
   "cell_type": "code",
   "execution_count": 2,
   "metadata": {
    "execution": {
     "iopub.execute_input": "2020-11-24T12:54:59.242164Z",
     "iopub.status.busy": "2020-11-24T12:54:59.241069Z",
     "iopub.status.idle": "2020-11-24T12:54:59.415433Z",
     "shell.execute_reply": "2020-11-24T12:54:59.414887Z"
    }
   },
   "outputs": [],
   "source": [
    "%matplotlib inline\n",
    "import time\n",
    "import matplotlib.pyplot as plt\n",
    "import numpy as np\n",
    "\n",
    "import qcodes as qc\n",
    "from qcodes.instrument.parameter import ManualParameter\n",
    "from qcodes.dataset.experiment_container import (Experiment,\n",
    "                                                 load_last_experiment,\n",
    "                                                 new_experiment)\n",
    "from qcodes.dataset.sqlite.database import initialise_database\n",
    "from qcodes import load_or_create_experiment\n",
    "from qcodes.dataset.measurements import Measurement"
   ]
  },
  {
   "cell_type": "code",
   "execution_count": 3,
   "metadata": {
    "execution": {
     "iopub.execute_input": "2020-11-24T12:54:59.419423Z",
     "iopub.status.busy": "2020-11-24T12:54:59.418749Z",
     "iopub.status.idle": "2020-11-24T12:54:59.520192Z",
     "shell.execute_reply": "2020-11-24T12:54:59.520809Z"
    }
   },
   "outputs": [
    {
     "name": "stdout",
     "output_type": "stream",
     "text": [
      "\r",
      "0it [00:00, ?it/s]"
     ]
    },
    {
     "name": "stdout",
     "output_type": "stream",
     "text": [
      "\r",
      "Upgrading database; v0 -> v1: : 0it [00:00, ?it/s]"
     ]
    },
    {
     "name": "stdout",
     "output_type": "stream",
     "text": [
      "\r",
      "Upgrading database; v0 -> v1: : 0it [00:00, ?it/s]"
     ]
    },
    {
     "name": "stdout",
     "output_type": "stream",
     "text": [
      "\n",
      "\r",
      "  0%|          | 0/1 [00:00<?, ?it/s]"
     ]
    },
    {
     "name": "stdout",
     "output_type": "stream",
     "text": [
      "\r",
      "Upgrading database; v1 -> v2:   0%|          | 0/1 [00:00<?, ?it/s]"
     ]
    },
    {
     "name": "stdout",
     "output_type": "stream",
     "text": [
      "\r",
      "Upgrading database; v1 -> v2: 100%|██████████| 1/1 [00:00<00:00, 556.42it/s]"
     ]
    },
    {
     "name": "stdout",
     "output_type": "stream",
     "text": [
      "\n",
      "\r",
      "0it [00:00, ?it/s]"
     ]
    },
    {
     "name": "stdout",
     "output_type": "stream",
     "text": [
      "\r",
      "Upgrading database; v2 -> v3: : 0it [00:00, ?it/s]"
     ]
    },
    {
     "name": "stdout",
     "output_type": "stream",
     "text": [
      "\r",
      "Upgrading database; v2 -> v3: : 0it [00:00, ?it/s]"
     ]
    },
    {
     "name": "stdout",
     "output_type": "stream",
     "text": [
      "\n",
      "\r",
      "0it [00:00, ?it/s]"
     ]
    },
    {
     "name": "stdout",
     "output_type": "stream",
     "text": [
      "\r",
      "Upgrading database; v3 -> v4: : 0it [00:00, ?it/s]"
     ]
    },
    {
     "name": "stdout",
     "output_type": "stream",
     "text": [
      "\r",
      "Upgrading database; v3 -> v4: : 0it [00:00, ?it/s]"
     ]
    },
    {
     "name": "stdout",
     "output_type": "stream",
     "text": [
      "\n",
      "\r",
      "  0%|          | 0/1 [00:00<?, ?it/s]"
     ]
    },
    {
     "name": "stdout",
     "output_type": "stream",
     "text": [
      "\r",
      "Upgrading database; v4 -> v5:   0%|          | 0/1 [00:00<?, ?it/s]"
     ]
    },
    {
     "name": "stdout",
     "output_type": "stream",
     "text": [
      "\r",
      "Upgrading database; v4 -> v5: 100%|██████████| 1/1 [00:00<00:00, 538.70it/s]"
     ]
    },
    {
     "name": "stdout",
     "output_type": "stream",
     "text": [
      "\n",
      "\r",
      "0it [00:00, ?it/s]"
     ]
    },
    {
     "name": "stdout",
     "output_type": "stream",
     "text": [
      "\r",
      "Upgrading database; v5 -> v6: : 0it [00:00, ?it/s]"
     ]
    },
    {
     "name": "stdout",
     "output_type": "stream",
     "text": [
      "\r",
      "Upgrading database; v5 -> v6: : 0it [00:00, ?it/s]"
     ]
    },
    {
     "name": "stdout",
     "output_type": "stream",
     "text": [
      "\n",
      "\r",
      "  0%|          | 0/1 [00:00<?, ?it/s]"
     ]
    },
    {
     "name": "stdout",
     "output_type": "stream",
     "text": [
      "\r",
      "Upgrading database; v6 -> v7:   0%|          | 0/1 [00:00<?, ?it/s]"
     ]
    },
    {
     "name": "stdout",
     "output_type": "stream",
     "text": [
      "\r",
      "Upgrading database; v6 -> v7: 100%|██████████| 1/1 [00:00<00:00, 428.12it/s]"
     ]
    },
    {
     "name": "stdout",
     "output_type": "stream",
     "text": [
      "\n",
      "\r",
      "  0%|          | 0/1 [00:00<?, ?it/s]"
     ]
    },
    {
     "name": "stdout",
     "output_type": "stream",
     "text": [
      "\r",
      "Upgrading database; v7 -> v8:   0%|          | 0/1 [00:00<?, ?it/s]"
     ]
    },
    {
     "name": "stdout",
     "output_type": "stream",
     "text": [
      "\r",
      "Upgrading database; v7 -> v8: 100%|██████████| 1/1 [00:00<00:00, 1035.63it/s]"
     ]
    },
    {
     "name": "stdout",
     "output_type": "stream",
     "text": [
      "\n",
      "\r",
      "  0%|          | 0/1 [00:00<?, ?it/s]"
     ]
    },
    {
     "name": "stdout",
     "output_type": "stream",
     "text": [
      "\r",
      "Upgrading database; v8 -> v9:   0%|          | 0/1 [00:00<?, ?it/s]"
     ]
    },
    {
     "name": "stdout",
     "output_type": "stream",
     "text": [
      "\r",
      "Upgrading database; v8 -> v9: 100%|██████████| 1/1 [00:00<00:00, 1354.31it/s]"
     ]
    },
    {
     "name": "stdout",
     "output_type": "stream",
     "text": [
      "\n"
     ]
    }
   ],
   "source": [
    "initialise_database()\n",
    "exp = load_or_create_experiment(experiment_name='tutorial_exp', sample_name=\"no sample\")"
   ]
  },
  {
   "cell_type": "markdown",
   "metadata": {},
   "source": [
    "Here, we define a simple function to benchmark the time it takes to insert n points with either numeric or array data type.\n",
    "We will compare both the time used to call ``add_result`` and the time used for the full measurement."
   ]
  },
  {
   "cell_type": "code",
   "execution_count": 4,
   "metadata": {
    "execution": {
     "iopub.execute_input": "2020-11-24T12:54:59.528558Z",
     "iopub.status.busy": "2020-11-24T12:54:59.527969Z",
     "iopub.status.idle": "2020-11-24T12:54:59.531922Z",
     "shell.execute_reply": "2020-11-24T12:54:59.531335Z"
    }
   },
   "outputs": [],
   "source": [
    "def insert_data(paramtype, npoints, nreps=1):\n",
    "\n",
    "    meas = Measurement(exp=exp)\n",
    "\n",
    "    x1 = ManualParameter('x1')\n",
    "    x2 = ManualParameter('x2')\n",
    "    x3 = ManualParameter('x3')\n",
    "    y1 = ManualParameter('y1')\n",
    "    y2 = ManualParameter('y2')\n",
    "\n",
    "    meas.register_parameter(x1, paramtype=paramtype)\n",
    "    meas.register_parameter(x2, paramtype=paramtype)\n",
    "    meas.register_parameter(x3, paramtype=paramtype)\n",
    "    meas.register_parameter(y1, setpoints=[x1, x2, x3],\n",
    "                            paramtype=paramtype)\n",
    "    meas.register_parameter(y2, setpoints=[x1, x2, x3],\n",
    "                            paramtype=paramtype)\n",
    "    start = time.perf_counter()\n",
    "    with meas.run() as datasaver:\n",
    "        start_adding = time.perf_counter()\n",
    "        for i in range(nreps):\n",
    "            datasaver.add_result((x1, np.random.rand(npoints)),\n",
    "                                 (x2, np.random.rand(npoints)),\n",
    "                                 (x3, np.random.rand(npoints)),\n",
    "                                 (y1, np.random.rand(npoints)),\n",
    "                                 (y2, np.random.rand(npoints)))\n",
    "        stop_adding = time.perf_counter()\n",
    "        run_id = datasaver.run_id\n",
    "    stop = time.perf_counter()\n",
    "    tot_time = stop - start\n",
    "    add_time = stop_adding - start_adding\n",
    "    return tot_time, add_time, run_id"
   ]
  },
  {
   "cell_type": "markdown",
   "metadata": {},
   "source": [
    "## Comparison between numeric/array data and binary blob"
   ]
  },
  {
   "cell_type": "markdown",
   "metadata": {},
   "source": [
    "### Case1: Short experiment time"
   ]
  },
  {
   "cell_type": "code",
   "execution_count": 5,
   "metadata": {
    "execution": {
     "iopub.execute_input": "2020-11-24T12:54:59.538055Z",
     "iopub.status.busy": "2020-11-24T12:54:59.536984Z",
     "iopub.status.idle": "2020-11-24T12:55:00.319516Z",
     "shell.execute_reply": "2020-11-24T12:55:00.320377Z"
    }
   },
   "outputs": [
    {
     "name": "stdout",
     "output_type": "stream",
     "text": [
      "Starting experimental run with id: 1. \n",
      "Starting experimental run with id: 2. \n",
      "Starting experimental run with id: 3. \n",
      "Starting experimental run with id: 4. \n",
      "Starting experimental run with id: 5. \n"
     ]
    },
    {
     "name": "stdout",
     "output_type": "stream",
     "text": [
      "Starting experimental run with id: 6. \n"
     ]
    },
    {
     "name": "stdout",
     "output_type": "stream",
     "text": [
      "Starting experimental run with id: 7. \n"
     ]
    },
    {
     "name": "stdout",
     "output_type": "stream",
     "text": [
      "Starting experimental run with id: 8. \n",
      "Starting experimental run with id: 9. \n"
     ]
    },
    {
     "name": "stdout",
     "output_type": "stream",
     "text": [
      "Starting experimental run with id: 10. \n",
      "Starting experimental run with id: 11. \n"
     ]
    },
    {
     "name": "stdout",
     "output_type": "stream",
     "text": [
      "Starting experimental run with id: 12. \n",
      "Starting experimental run with id: 13. \n"
     ]
    },
    {
     "name": "stdout",
     "output_type": "stream",
     "text": [
      "Starting experimental run with id: 14. \n"
     ]
    }
   ],
   "source": [
    "sizes = [1,500,1000,2000,3000,4000,5000]\n",
    "t_numeric = []\n",
    "t_numeric_add = []\n",
    "t_array = []\n",
    "t_array_add = []\n",
    "for size in sizes:\n",
    "    tn, tna, run_id_n =  insert_data('numeric', size)\n",
    "    t_numeric.append(tn)\n",
    "    t_numeric_add.append(tna)\n",
    "\n",
    "    ta, taa, run_id_a =  insert_data('array', size)\n",
    "    t_array.append(ta)\n",
    "    t_array_add.append(taa)"
   ]
  },
  {
   "cell_type": "code",
   "execution_count": 6,
   "metadata": {
    "execution": {
     "iopub.execute_input": "2020-11-24T12:55:00.351532Z",
     "iopub.status.busy": "2020-11-24T12:55:00.343521Z",
     "iopub.status.idle": "2020-11-24T12:55:00.558216Z",
     "shell.execute_reply": "2020-11-24T12:55:00.558646Z"
    }
   },
   "outputs": [
    {
     "data": {
      "image/png": "[encoded data removed]",
      "text/plain": [
       "<Figure size 432x288 with 1 Axes>"
      ]
     },
     "metadata": {
      "needs_background": "light"
     },
     "output_type": "display_data"
    }
   ],
   "source": [
    "fig, ax = plt.subplots(1,1)\n",
    "ax.plot(sizes, t_numeric, 'o-', label='Inserting row-by-row')\n",
    "ax.plot(sizes, t_numeric_add, 'o-', label='Inserting row-by-row: add_result only')\n",
    "ax.plot(sizes, t_array, 'd-', label='Inserting as binary blob')\n",
    "ax.plot(sizes, t_array_add, 'd-', label='Inserting as binary blob: add_result only')\n",
    "ax.legend()\n",
    "ax.set_xlabel('Array length')\n",
    "ax.set_ylabel('Time (s)')\n",
    "fig.tight_layout()"
   ]
  },
  {
   "cell_type": "markdown",
   "metadata": {},
   "source": [
    "As shown in the latter figure, the time to setup and and close the experiment is approximately 0.4 sec. In case of small array sizes, the difference between inserting values of data as arrays and inserting them row-by-row is relatively unimportant. At larger array sizes, i.e. above 10000 points, the cost of writing data as individual datapoints starts to become important.\n"
   ]
  },
  {
   "cell_type": "markdown",
   "metadata": {},
   "source": [
    "### Case2: Long experiment time "
   ]
  },
  {
   "cell_type": "code",
   "execution_count": 7,
   "metadata": {
    "execution": {
     "iopub.execute_input": "2020-11-24T12:55:00.565207Z",
     "iopub.status.busy": "2020-11-24T12:55:00.564046Z",
     "iopub.status.idle": "2020-11-24T12:55:57.183229Z",
     "shell.execute_reply": "2020-11-24T12:55:57.183705Z"
    }
   },
   "outputs": [
    {
     "name": "stdout",
     "output_type": "stream",
     "text": [
      "Starting experimental run with id: 15. \n",
      "Starting experimental run with id: 16. \n",
      "Starting experimental run with id: 17. \n"
     ]
    },
    {
     "name": "stdout",
     "output_type": "stream",
     "text": [
      "Starting experimental run with id: 18. \n",
      "Starting experimental run with id: 19. \n"
     ]
    },
    {
     "name": "stdout",
     "output_type": "stream",
     "text": [
      "Starting experimental run with id: 20. \n"
     ]
    },
    {
     "name": "stdout",
     "output_type": "stream",
     "text": [
      "Starting experimental run with id: 21. \n"
     ]
    },
    {
     "name": "stdout",
     "output_type": "stream",
     "text": [
      "Starting experimental run with id: 22. \n"
     ]
    },
    {
     "name": "stdout",
     "output_type": "stream",
     "text": [
      "Starting experimental run with id: 23. \n"
     ]
    },
    {
     "name": "stdout",
     "output_type": "stream",
     "text": [
      "Starting experimental run with id: 24. \n"
     ]
    },
    {
     "name": "stdout",
     "output_type": "stream",
     "text": [
      "Starting experimental run with id: 25. \n"
     ]
    },
    {
     "name": "stdout",
     "output_type": "stream",
     "text": [
      "Starting experimental run with id: 26. \n"
     ]
    },
    {
     "name": "stdout",
     "output_type": "stream",
     "text": [
      "Starting experimental run with id: 27. \n"
     ]
    },
    {
     "name": "stdout",
     "output_type": "stream",
     "text": [
      "Starting experimental run with id: 28. \n"
     ]
    }
   ],
   "source": [
    "sizes = [1,500,1000,2000,3000,4000,5000]\n",
    "nreps = 100\n",
    "t_numeric = []\n",
    "t_numeric_add = []\n",
    "t_numeric_run_ids = []\n",
    "t_array = []\n",
    "t_array_add = []\n",
    "t_array_run_ids = []\n",
    "for size in sizes:\n",
    "    tn, tna, run_id_n =  insert_data('numeric', size, nreps=nreps)\n",
    "    t_numeric.append(tn)\n",
    "    t_numeric_add.append(tna)\n",
    "    t_numeric_run_ids.append(run_id_n)\n",
    "\n",
    "    ta, taa, run_id_a =  insert_data('array', size, nreps=nreps)\n",
    "    t_array.append(ta)\n",
    "    t_array_add.append(taa)\n",
    "    t_array_run_ids.append(run_id_a)"
   ]
  },
  {
   "cell_type": "code",
   "execution_count": 8,
   "metadata": {
    "execution": {
     "iopub.execute_input": "2020-11-24T12:55:57.208961Z",
     "iopub.status.busy": "2020-11-24T12:55:57.202173Z",
     "iopub.status.idle": "2020-11-24T12:55:57.398982Z",
     "shell.execute_reply": "2020-11-24T12:55:57.399418Z"
    },
    "scrolled": true
   },
   "outputs": [
    {
     "data": {
      "image/png": "[encoded data removed]",
      "text/plain": [
       "<Figure size 432x288 with 1 Axes>"
      ]
     },
     "metadata": {
      "needs_background": "light"
     },
     "output_type": "display_data"
    }
   ],
   "source": [
    "fig, ax = plt.subplots(1,1)\n",
    "ax.plot(sizes, t_numeric, 'o-', label='Inserting row-by-row')\n",
    "ax.plot(sizes, t_numeric_add, 'o-', label='Inserting row-by-row: add_result only')\n",
    "ax.plot(sizes, t_array, 'd-', label='Inserting as binary blob')\n",
    "ax.plot(sizes, t_array_add, 'd-', label='Inserting as binary blob: add_result only')\n",
    "ax.legend()\n",
    "ax.set_xlabel('Array length')\n",
    "ax.set_ylabel('Time (s)')\n",
    "fig.tight_layout()"
   ]
  },
  {
   "cell_type": "markdown",
   "metadata": {},
   "source": [
    "However, as we increase the length of the experiment, as seen here by repeating the insertion 100 times, we see a big difference between inserting values of the data row-by-row and inserting it as a binary blob."
   ]
  },
  {
   "cell_type": "markdown",
   "metadata": {},
   "source": [
    "## Loading the data "
   ]
  },
  {
   "cell_type": "code",
   "execution_count": 9,
   "metadata": {
    "execution": {
     "iopub.execute_input": "2020-11-24T12:55:57.403282Z",
     "iopub.status.busy": "2020-11-24T12:55:57.402011Z",
     "iopub.status.idle": "2020-11-24T12:55:57.405146Z",
     "shell.execute_reply": "2020-11-24T12:55:57.405591Z"
    }
   },
   "outputs": [],
   "source": [
    "from qcodes.dataset.data_set import load_by_id\n",
    "from qcodes.dataset.data_export import get_data_by_id"
   ]
  },
  {
   "cell_type": "markdown",
   "metadata": {},
   "source": [
    "As usual you can load the data by using the ``load_by_id`` function but you will notice that the different storage methods\n",
    "are reflected in shape of the data as it is retrieved. "
   ]
  },
  {
   "cell_type": "code",
   "execution_count": 10,
   "metadata": {
    "execution": {
     "iopub.execute_input": "2020-11-24T12:55:57.409954Z",
     "iopub.status.busy": "2020-11-24T12:55:57.408724Z",
     "iopub.status.idle": "2020-11-24T12:55:57.410482Z",
     "shell.execute_reply": "2020-11-24T12:55:57.411076Z"
    }
   },
   "outputs": [],
   "source": [
    "run_id_n = t_numeric_run_ids[0]\n",
    "run_id_a = t_array_run_ids[0]"
   ]
  },
  {
   "cell_type": "code",
   "execution_count": 11,
   "metadata": {
    "execution": {
     "iopub.execute_input": "2020-11-24T12:55:57.414760Z",
     "iopub.status.busy": "2020-11-24T12:55:57.414165Z",
     "iopub.status.idle": "2020-11-24T12:55:57.422873Z",
     "shell.execute_reply": "2020-11-24T12:55:57.423300Z"
    },
    "scrolled": true
   },
   "outputs": [
    {
     "data": {
      "text/plain": [
       "{'x1': {'x1': array([0.27549089, 0.27549089, 0.67870105, 0.67870105, 0.77513752,\n",
       "         0.77513752, 0.53772939, 0.53772939, 0.91068451, 0.91068451,\n",
       "         0.02502392, 0.02502392, 0.6344534 , 0.6344534 , 0.92390167,\n",
       "         0.92390167, 0.60214076, 0.60214076, 0.32460654, 0.32460654,\n",
       "         0.99686716, 0.99686716, 0.4973071 , 0.4973071 , 0.03449741,\n",
       "         0.03449741, 0.65060808, 0.65060808, 0.0218714 , 0.0218714 ,\n",
       "         0.90509578, 0.90509578, 0.53286302, 0.53286302, 0.37708427,\n",
       "         0.37708427, 0.17897969, 0.17897969, 0.46723451, 0.46723451,\n",
       "         0.89566504, 0.89566504, 0.83496232, 0.83496232, 0.23684485,\n",
       "         0.23684485, 0.87764135, 0.87764135, 0.81494038, 0.81494038,\n",
       "         0.40548683, 0.40548683, 0.67300923, 0.67300923, 0.18630794,\n",
       "         0.18630794, 0.41868628, 0.41868628, 0.72323742, 0.72323742,\n",
       "         0.48422065, 0.48422065, 0.99671728, 0.99671728, 0.51816176,\n",
       "         0.51816176, 0.0069355 , 0.0069355 , 0.42471509, 0.42471509,\n",
       "         0.56851106, 0.56851106, 0.96602637, 0.96602637, 0.8543438 ,\n",
       "         0.8543438 , 0.61035621, 0.61035621, 0.79559308, 0.79559308,\n",
       "         0.77098557, 0.77098557, 0.84808356, 0.84808356, 0.15429016,\n",
       "         0.15429016, 0.30765367, 0.30765367, 0.15158082, 0.15158082,\n",
       "         0.14204748, 0.14204748, 0.23708853, 0.23708853, 0.68694714,\n",
       "         0.68694714, 0.87855895, 0.87855895, 0.6539495 , 0.6539495 ,\n",
       "         0.74011444, 0.74011444, 0.07090442, 0.07090442, 0.95063493,\n",
       "         0.95063493, 0.51081421, 0.51081421, 0.22062274, 0.22062274,\n",
       "         0.15591745, 0.15591745, 0.64926126, 0.64926126, 0.08298373,\n",
       "         0.08298373, 0.31482109, 0.31482109, 0.94004525, 0.94004525,\n",
       "         0.92139163, 0.92139163, 0.83184941, 0.83184941, 0.36338523,\n",
       "         0.36338523, 0.03190175, 0.03190175, 0.57565993, 0.57565993,\n",
       "         0.47968118, 0.47968118, 0.80914453, 0.80914453, 0.0291939 ,\n",
       "         0.0291939 , 0.52587384, 0.52587384, 0.8672228 , 0.8672228 ,\n",
       "         0.72483367, 0.72483367, 0.86224878, 0.86224878, 0.62908351,\n",
       "         0.62908351, 0.71580488, 0.71580488, 0.78666817, 0.78666817,\n",
       "         0.69878444, 0.69878444, 0.30591404, 0.30591404, 0.22927847,\n",
       "         0.22927847, 0.23291326, 0.23291326, 0.5283443 , 0.5283443 ,\n",
       "         0.1094063 , 0.1094063 , 0.52512865, 0.52512865, 0.97962027,\n",
       "         0.97962027, 0.69880632, 0.69880632, 0.26093506, 0.26093506,\n",
       "         0.30268449, 0.30268449, 0.60550208, 0.60550208, 0.9050964 ,\n",
       "         0.9050964 , 0.62773851, 0.62773851, 0.73100455, 0.73100455,\n",
       "         0.54641075, 0.54641075, 0.16619252, 0.16619252, 0.08903349,\n",
       "         0.08903349, 0.51125052, 0.51125052, 0.18191966, 0.18191966,\n",
       "         0.04929089, 0.04929089, 0.45556663, 0.45556663, 0.71726414,\n",
       "         0.71726414, 0.61018867, 0.61018867, 0.66671821, 0.66671821])}}"
      ]
     },
     "execution_count": 1,
     "metadata": {},
     "output_type": "execute_result"
    }
   ],
   "source": [
    "ds = load_by_id(run_id_n)\n",
    "ds.get_parameter_data('x1')"
   ]
  },
  {
   "cell_type": "markdown",
   "metadata": {},
   "source": [
    "And a dataset stored as binary arrays"
   ]
  },
  {
   "cell_type": "code",
   "execution_count": 12,
   "metadata": {
    "execution": {
     "iopub.execute_input": "2020-11-24T12:55:57.426552Z",
     "iopub.status.busy": "2020-11-24T12:55:57.426032Z",
     "iopub.status.idle": "2020-11-24T12:55:57.484631Z",
     "shell.execute_reply": "2020-11-24T12:55:57.484171Z"
    },
    "scrolled": true
   },
   "outputs": [
    {
     "data": {
      "text/plain": [
       "{'x1': {'x1': array([[3.98556392e-01],\n",
       "         [3.98556392e-01],\n",
       "         [2.81924753e-01],\n",
       "         [2.81924753e-01],\n",
       "         [2.00217721e-02],\n",
       "         [2.00217721e-02],\n",
       "         [1.89858045e-01],\n",
       "         [1.89858045e-01],\n",
       "         [7.27398940e-01],\n",
       "         [7.27398940e-01],\n",
       "         [4.22775783e-01],\n",
       "         [4.22775783e-01],\n",
       "         [2.09804117e-01],\n",
       "         [2.09804117e-01],\n",
       "         [3.31779580e-01],\n",
       "         [3.31779580e-01],\n",
       "         [7.54295440e-01],\n",
       "         [7.54295440e-01],\n",
       "         [2.44018341e-01],\n",
       "         [2.44018341e-01],\n",
       "         [3.20542329e-02],\n",
       "         [3.20542329e-02],\n",
       "         [9.32828064e-01],\n",
       "         [9.32828064e-01],\n",
       "         [4.57161588e-01],\n",
       "         [4.57161588e-01],\n",
       "         [2.76703498e-01],\n",
       "         [2.76703498e-01],\n",
       "         [4.20643899e-01],\n",
       "         [4.20643899e-01],\n",
       "         [7.13217171e-02],\n",
       "         [7.13217171e-02],\n",
       "         [2.21176735e-01],\n",
       "         [2.21176735e-01],\n",
       "         [4.84146483e-01],\n",
       "         [4.84146483e-01],\n",
       "         [6.78662352e-02],\n",
       "         [6.78662352e-02],\n",
       "         [2.11161566e-01],\n",
       "         [2.11161566e-01],\n",
       "         [6.82384620e-01],\n",
       "         [6.82384620e-01],\n",
       "         [3.92344343e-01],\n",
       "         [3.92344343e-01],\n",
       "         [6.72654926e-02],\n",
       "         [6.72654926e-02],\n",
       "         [9.60578342e-01],\n",
       "         [9.60578342e-01],\n",
       "         [7.98885573e-01],\n",
       "         [7.98885573e-01],\n",
       "         [3.67471524e-01],\n",
       "         [3.67471524e-01],\n",
       "         [2.16528165e-01],\n",
       "         [2.16528165e-01],\n",
       "         [9.61186364e-01],\n",
       "         [9.61186364e-01],\n",
       "         [7.68815065e-01],\n",
       "         [7.68815065e-01],\n",
       "         [1.85543502e-01],\n",
       "         [1.85543502e-01],\n",
       "         [8.39195108e-01],\n",
       "         [8.39195108e-01],\n",
       "         [9.42897505e-01],\n",
       "         [9.42897505e-01],\n",
       "         [4.83991205e-01],\n",
       "         [4.83991205e-01],\n",
       "         [5.09374482e-02],\n",
       "         [5.09374482e-02],\n",
       "         [6.74819478e-01],\n",
       "         [6.74819478e-01],\n",
       "         [1.13743787e-01],\n",
       "         [1.13743787e-01],\n",
       "         [7.25461557e-01],\n",
       "         [7.25461557e-01],\n",
       "         [4.55531055e-01],\n",
       "         [4.55531055e-01],\n",
       "         [4.66124798e-01],\n",
       "         [4.66124798e-01],\n",
       "         [5.16469504e-01],\n",
       "         [5.16469504e-01],\n",
       "         [4.34185570e-01],\n",
       "         [4.34185570e-01],\n",
       "         [4.51708251e-03],\n",
       "         [4.51708251e-03],\n",
       "         [7.06126319e-01],\n",
       "         [7.06126319e-01],\n",
       "         [2.01768005e-01],\n",
       "         [2.01768005e-01],\n",
       "         [4.12941508e-03],\n",
       "         [4.12941508e-03],\n",
       "         [8.59658822e-01],\n",
       "         [8.59658822e-01],\n",
       "         [9.83548175e-01],\n",
       "         [9.83548175e-01],\n",
       "         [1.03235785e-01],\n",
       "         [1.03235785e-01],\n",
       "         [5.42070796e-01],\n",
       "         [5.42070796e-01],\n",
       "         [3.59233101e-01],\n",
       "         [3.59233101e-01],\n",
       "         [7.28461068e-02],\n",
       "         [7.28461068e-02],\n",
       "         [3.73029095e-01],\n",
       "         [3.73029095e-01],\n",
       "         [4.04405004e-01],\n",
       "         [4.04405004e-01],\n",
       "         [9.19220045e-01],\n",
       "         [9.19220045e-01],\n",
       "         [6.67498373e-02],\n",
       "         [6.67498373e-02],\n",
       "         [4.68575377e-01],\n",
       "         [4.68575377e-01],\n",
       "         [4.65086204e-01],\n",
       "         [4.65086204e-01],\n",
       "         [1.61918184e-01],\n",
       "         [1.61918184e-01],\n",
       "         [6.02704442e-02],\n",
       "         [6.02704442e-02],\n",
       "         [7.85346916e-01],\n",
       "         [7.85346916e-01],\n",
       "         [2.43343680e-01],\n",
       "         [2.43343680e-01],\n",
       "         [4.78752155e-01],\n",
       "         [4.78752155e-01],\n",
       "         [5.35767112e-02],\n",
       "         [5.35767112e-02],\n",
       "         [5.41384908e-01],\n",
       "         [5.41384908e-01],\n",
       "         [6.12849651e-01],\n",
       "         [6.12849651e-01],\n",
       "         [4.13827803e-01],\n",
       "         [4.13827803e-01],\n",
       "         [8.58273154e-01],\n",
       "         [8.58273154e-01],\n",
       "         [3.87249419e-01],\n",
       "         [3.87249419e-01],\n",
       "         [1.08675243e-01],\n",
       "         [1.08675243e-01],\n",
       "         [2.69465173e-01],\n",
       "         [2.69465173e-01],\n",
       "         [5.96502999e-01],\n",
       "         [5.96502999e-01],\n",
       "         [1.65648289e-01],\n",
       "         [1.65648289e-01],\n",
       "         [7.21171932e-01],\n",
       "         [7.21171932e-01],\n",
       "         [6.87248492e-01],\n",
       "         [6.87248492e-01],\n",
       "         [7.87294207e-01],\n",
       "         [7.87294207e-01],\n",
       "         [5.61545314e-01],\n",
       "         [5.61545314e-01],\n",
       "         [9.64875793e-01],\n",
       "         [9.64875793e-01],\n",
       "         [4.90301271e-02],\n",
       "         [4.90301271e-02],\n",
       "         [9.99939495e-01],\n",
       "         [9.99939495e-01],\n",
       "         [5.55725275e-01],\n",
       "         [5.55725275e-01],\n",
       "         [5.36503445e-04],\n",
       "         [5.36503445e-04],\n",
       "         [5.08074576e-02],\n",
       "         [5.08074576e-02],\n",
       "         [8.19203870e-01],\n",
       "         [8.19203870e-01],\n",
       "         [3.34217905e-02],\n",
       "         [3.34217905e-02],\n",
       "         [2.00600576e-01],\n",
       "         [2.00600576e-01],\n",
       "         [8.10114503e-01],\n",
       "         [8.10114503e-01],\n",
       "         [4.31349160e-01],\n",
       "         [4.31349160e-01],\n",
       "         [9.05809472e-01],\n",
       "         [9.05809472e-01],\n",
       "         [6.26896727e-01],\n",
       "         [6.26896727e-01],\n",
       "         [8.00847493e-01],\n",
       "         [8.00847493e-01],\n",
       "         [9.14123749e-01],\n",
       "         [9.14123749e-01],\n",
       "         [7.69701688e-01],\n",
       "         [7.69701688e-01],\n",
       "         [3.72031947e-01],\n",
       "         [3.72031947e-01],\n",
       "         [5.31039646e-01],\n",
       "         [5.31039646e-01],\n",
       "         [5.48931846e-01],\n",
       "         [5.48931846e-01],\n",
       "         [6.73672739e-01],\n",
       "         [6.73672739e-01],\n",
       "         [2.43643410e-01],\n",
       "         [2.43643410e-01],\n",
       "         [2.16627719e-01],\n",
       "         [2.16627719e-01],\n",
       "         [1.28334303e-01],\n",
       "         [1.28334303e-01],\n",
       "         [5.24691550e-01],\n",
       "         [5.24691550e-01]])}}"
      ]
     },
     "execution_count": 1,
     "metadata": {},
     "output_type": "execute_result"
    }
   ],
   "source": [
    "ds = load_by_id(run_id_a)\n",
    "ds.get_parameter_data('x1')"
   ]
  },
  {
   "cell_type": "code",
   "execution_count": null,
   "metadata": {},
   "outputs": [],
   "source": []
  }
 ],
 "metadata": {
  "kernelspec": {
   "display_name": "Python 3",
   "language": "python",
   "name": "python3"
  },
  "language_info": {
   "codemirror_mode": {
    "name": "ipython",
    "version": 3
   },
   "file_extension": ".py",
   "mimetype": "text/x-python",
   "name": "python",
   "nbconvert_exporter": "python",
   "pygments_lexer": "ipython3",
   "version": "3.7.9"
  },
  "nbsphinx": {
   "timeout": 600
  },
  "toc": {
   "base_numbering": 1,
   "nav_menu": {},
   "number_sections": true,
   "sideBar": true,
   "skip_h1_title": false,
   "title_cell": "Table of Contents",
   "title_sidebar": "Contents",
   "toc_cell": false,
   "toc_position": {},
   "toc_section_display": true,
   "toc_window_display": false
  },
  "varInspector": {
   "cols": {
    "lenName": 16,
    "lenType": 16,
    "lenVar": 40
   },
   "kernels_config": {
    "python": {
     "delete_cmd_postfix": "",
     "delete_cmd_prefix": "del ",
     "library": "var_list.py",
     "varRefreshCmd": "print(var_dic_list())"
    },
    "r": {
     "delete_cmd_postfix": ") ",
     "delete_cmd_prefix": "rm(",
     "library": "var_list.r",
     "varRefreshCmd": "cat(var_dic_list()) "
    }
   },
   "types_to_exclude": [
    "module",
    "function",
    "builtin_function_or_method",
    "instance",
    "_Feature"
   ],
   "window_display": false
  }
 },
 "nbformat": 4,
 "nbformat_minor": 2
}
