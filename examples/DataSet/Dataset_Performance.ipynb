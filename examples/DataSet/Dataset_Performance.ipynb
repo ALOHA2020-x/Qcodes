{
 "cells": [
  {
   "cell_type": "markdown",
   "metadata": {},
   "source": [
    "# DataSet Performance\n",
    "\n",
    "This notebook shows the trade-off between inserting data into a database row-by-row and as binary blobs. Inserting the data row-by-row means that we have direct access to all the data and may perform queries directly on the values of the data. On the other hand, as we shall see, this is much slower than inserting the data directly as binary blobs."
   ]
  },
  {
   "cell_type": "markdown",
   "metadata": {},
   "source": [
    "First, we choose a new location for the database to ensure that we don't add a bunch of benchmarking data to the default one."
   ]
  },
  {
   "cell_type": "code",
   "execution_count": 1,
   "metadata": {
    "execution": {
     "iopub.execute_input": "2021-05-21T07:25:00.499088Z",
     "iopub.status.busy": "2021-05-21T07:25:00.498490Z",
     "iopub.status.idle": "2021-05-21T07:25:01.937911Z",
     "shell.execute_reply": "2021-05-21T07:25:01.938594Z"
    }
   },
   "outputs": [
    {
     "name": "stdout",
     "output_type": "stream",
     "text": [
      "Logging hadn't been started.\n",
      "Activating auto-logging. Current session state plus future input saved.\n",
      "Filename       : /home/runner/.qcodes/logs/command_history.log\n",
      "Mode           : append\n",
      "Output logging : True\n",
      "Raw input log  : False\n",
      "Timestamping   : True\n",
      "State          : active\n"
     ]
    },
    {
     "name": "stdout",
     "output_type": "stream",
     "text": [
      "Qcodes Logfile : /home/runner/.qcodes/logs/210521-4476-qcodes.log\n"
     ]
    }
   ],
   "source": [
    "import os\n",
    "cwd = os.getcwd()\n",
    "import qcodes as qc\n",
    "qc.config[\"core\"][\"db_location\"] = os.path.join(cwd, 'testing.db')\n"
   ]
  },
  {
   "cell_type": "code",
   "execution_count": 2,
   "metadata": {
    "execution": {
     "iopub.execute_input": "2021-05-21T07:25:01.949144Z",
     "iopub.status.busy": "2021-05-21T07:25:01.947671Z",
     "iopub.status.idle": "2021-05-21T07:25:02.206875Z",
     "shell.execute_reply": "2021-05-21T07:25:02.206204Z"
    }
   },
   "outputs": [],
   "source": [
    "%matplotlib inline\n",
    "import time\n",
    "import matplotlib.pyplot as plt\n",
    "import numpy as np\n",
    "\n",
    "import qcodes as qc\n",
    "from qcodes.instrument.parameter import ManualParameter\n",
    "from qcodes.dataset.experiment_container import (Experiment,\n",
    "                                                 load_last_experiment,\n",
    "                                                 new_experiment)\n",
    "from qcodes.dataset.sqlite.database import initialise_database\n",
    "from qcodes import load_or_create_experiment\n",
    "from qcodes.dataset.measurements import Measurement"
   ]
  },
  {
   "cell_type": "code",
   "execution_count": 3,
   "metadata": {
    "execution": {
     "iopub.execute_input": "2021-05-21T07:25:02.211928Z",
     "iopub.status.busy": "2021-05-21T07:25:02.211336Z",
     "iopub.status.idle": "2021-05-21T07:25:02.294202Z",
     "shell.execute_reply": "2021-05-21T07:25:02.293616Z"
    }
   },
   "outputs": [
    {
     "name": "stdout",
     "output_type": "stream",
     "text": [
      "\r",
      "0it [00:00, ?it/s]"
     ]
    },
    {
     "name": "stdout",
     "output_type": "stream",
     "text": [
      "\r",
      "Upgrading database; v0 -> v1: : 0it [00:00, ?it/s]"
     ]
    },
    {
     "name": "stdout",
     "output_type": "stream",
     "text": [
      "\r",
      "Upgrading database; v0 -> v1: : 0it [00:00, ?it/s]"
     ]
    },
    {
     "name": "stdout",
     "output_type": "stream",
     "text": [
      "\n",
      "\r",
      "  0%|          | 0/1 [00:00<?, ?it/s]"
     ]
    },
    {
     "name": "stdout",
     "output_type": "stream",
     "text": [
      "\r",
      "Upgrading database; v1 -> v2:   0%|          | 0/1 [00:00<?, ?it/s]"
     ]
    },
    {
     "name": "stdout",
     "output_type": "stream",
     "text": [
      "\r",
      "Upgrading database; v1 -> v2: 100%|██████████| 1/1 [00:00<00:00, 444.50it/s]"
     ]
    },
    {
     "name": "stdout",
     "output_type": "stream",
     "text": [
      "\n",
      "\r",
      "0it [00:00, ?it/s]"
     ]
    },
    {
     "name": "stdout",
     "output_type": "stream",
     "text": [
      "\r",
      "Upgrading database; v2 -> v3: : 0it [00:00, ?it/s]"
     ]
    },
    {
     "name": "stdout",
     "output_type": "stream",
     "text": [
      "\r",
      "Upgrading database; v2 -> v3: : 0it [00:00, ?it/s]"
     ]
    },
    {
     "name": "stdout",
     "output_type": "stream",
     "text": [
      "\n",
      "\r",
      "0it [00:00, ?it/s]"
     ]
    },
    {
     "name": "stdout",
     "output_type": "stream",
     "text": [
      "\r",
      "Upgrading database; v3 -> v4: : 0it [00:00, ?it/s]"
     ]
    },
    {
     "name": "stdout",
     "output_type": "stream",
     "text": [
      "\r",
      "Upgrading database; v3 -> v4: : 0it [00:00, ?it/s]"
     ]
    },
    {
     "name": "stdout",
     "output_type": "stream",
     "text": [
      "\n",
      "\r",
      "  0%|          | 0/1 [00:00<?, ?it/s]"
     ]
    },
    {
     "name": "stdout",
     "output_type": "stream",
     "text": [
      "\r",
      "Upgrading database; v4 -> v5:   0%|          | 0/1 [00:00<?, ?it/s]"
     ]
    },
    {
     "name": "stdout",
     "output_type": "stream",
     "text": [
      "\r",
      "Upgrading database; v4 -> v5: 100%|██████████| 1/1 [00:00<00:00, 436.36it/s]"
     ]
    },
    {
     "name": "stdout",
     "output_type": "stream",
     "text": [
      "\n",
      "\r",
      "0it [00:00, ?it/s]"
     ]
    },
    {
     "name": "stdout",
     "output_type": "stream",
     "text": [
      "\r",
      "Upgrading database; v5 -> v6: : 0it [00:00, ?it/s]"
     ]
    },
    {
     "name": "stdout",
     "output_type": "stream",
     "text": [
      "\r",
      "Upgrading database; v5 -> v6: : 0it [00:00, ?it/s]"
     ]
    },
    {
     "name": "stdout",
     "output_type": "stream",
     "text": [
      "\n",
      "\r",
      "  0%|          | 0/1 [00:00<?, ?it/s]"
     ]
    },
    {
     "name": "stdout",
     "output_type": "stream",
     "text": [
      "\r",
      "Upgrading database; v6 -> v7:   0%|          | 0/1 [00:00<?, ?it/s]"
     ]
    },
    {
     "name": "stdout",
     "output_type": "stream",
     "text": [
      "\r",
      "Upgrading database; v6 -> v7: 100%|██████████| 1/1 [00:00<00:00, 282.08it/s]"
     ]
    },
    {
     "name": "stdout",
     "output_type": "stream",
     "text": [
      "\n",
      "\r",
      "  0%|          | 0/1 [00:00<?, ?it/s]"
     ]
    },
    {
     "name": "stdout",
     "output_type": "stream",
     "text": [
      "\r",
      "Upgrading database; v7 -> v8:   0%|          | 0/1 [00:00<?, ?it/s]"
     ]
    },
    {
     "name": "stdout",
     "output_type": "stream",
     "text": [
      "\r",
      "Upgrading database; v7 -> v8: 100%|██████████| 1/1 [00:00<00:00, 770.59it/s]"
     ]
    },
    {
     "name": "stdout",
     "output_type": "stream",
     "text": [
      "\n",
      "\r",
      "  0%|          | 0/1 [00:00<?, ?it/s]"
     ]
    },
    {
     "name": "stdout",
     "output_type": "stream",
     "text": [
      "\r",
      "Upgrading database; v8 -> v9:   0%|          | 0/1 [00:00<?, ?it/s]"
     ]
    },
    {
     "name": "stdout",
     "output_type": "stream",
     "text": [
      "\r",
      "Upgrading database; v8 -> v9: 100%|██████████| 1/1 [00:00<00:00, 260.14it/s]"
     ]
    },
    {
     "name": "stdout",
     "output_type": "stream",
     "text": [
      "\n"
     ]
    }
   ],
   "source": [
    "initialise_database()\n",
    "exp = load_or_create_experiment(experiment_name='tutorial_exp', sample_name=\"no sample\")"
   ]
  },
  {
   "cell_type": "markdown",
   "metadata": {},
   "source": [
    "Here, we define a simple function to benchmark the time it takes to insert n points with either numeric or array data type.\n",
    "We will compare both the time used to call ``add_result`` and the time used for the full measurement."
   ]
  },
  {
   "cell_type": "code",
   "execution_count": 4,
   "metadata": {
    "execution": {
     "iopub.execute_input": "2021-05-21T07:25:02.304220Z",
     "iopub.status.busy": "2021-05-21T07:25:02.303549Z",
     "iopub.status.idle": "2021-05-21T07:25:02.310811Z",
     "shell.execute_reply": "2021-05-21T07:25:02.309681Z"
    }
   },
   "outputs": [],
   "source": [
    "def insert_data(paramtype, npoints, nreps=1):\n",
    "\n",
    "    meas = Measurement(exp=exp)\n",
    "\n",
    "    x1 = ManualParameter('x1')\n",
    "    x2 = ManualParameter('x2')\n",
    "    x3 = ManualParameter('x3')\n",
    "    y1 = ManualParameter('y1')\n",
    "    y2 = ManualParameter('y2')\n",
    "\n",
    "    meas.register_parameter(x1, paramtype=paramtype)\n",
    "    meas.register_parameter(x2, paramtype=paramtype)\n",
    "    meas.register_parameter(x3, paramtype=paramtype)\n",
    "    meas.register_parameter(y1, setpoints=[x1, x2, x3],\n",
    "                            paramtype=paramtype)\n",
    "    meas.register_parameter(y2, setpoints=[x1, x2, x3],\n",
    "                            paramtype=paramtype)\n",
    "    start = time.perf_counter()\n",
    "    with meas.run() as datasaver:\n",
    "        start_adding = time.perf_counter()\n",
    "        for i in range(nreps):\n",
    "            datasaver.add_result((x1, np.random.rand(npoints)),\n",
    "                                 (x2, np.random.rand(npoints)),\n",
    "                                 (x3, np.random.rand(npoints)),\n",
    "                                 (y1, np.random.rand(npoints)),\n",
    "                                 (y2, np.random.rand(npoints)))\n",
    "        stop_adding = time.perf_counter()\n",
    "        run_id = datasaver.run_id\n",
    "    stop = time.perf_counter()\n",
    "    tot_time = stop - start\n",
    "    add_time = stop_adding - start_adding\n",
    "    return tot_time, add_time, run_id"
   ]
  },
  {
   "cell_type": "markdown",
   "metadata": {},
   "source": [
    "## Comparison between numeric/array data and binary blob"
   ]
  },
  {
   "cell_type": "markdown",
   "metadata": {},
   "source": [
    "### Case1: Short experiment time"
   ]
  },
  {
   "cell_type": "code",
   "execution_count": 5,
   "metadata": {
    "execution": {
     "iopub.execute_input": "2021-05-21T07:25:02.318621Z",
     "iopub.status.busy": "2021-05-21T07:25:02.317347Z",
     "iopub.status.idle": "2021-05-21T07:25:03.411807Z",
     "shell.execute_reply": "2021-05-21T07:25:03.411099Z"
    }
   },
   "outputs": [
    {
     "name": "stdout",
     "output_type": "stream",
     "text": [
      "Starting experimental run with id: 1. \n",
      "Starting experimental run with id: 2. \n",
      "Starting experimental run with id: 3. \n"
     ]
    },
    {
     "name": "stdout",
     "output_type": "stream",
     "text": [
      "Starting experimental run with id: 4. \n",
      "Starting experimental run with id: 5. \n"
     ]
    },
    {
     "name": "stdout",
     "output_type": "stream",
     "text": [
      "Starting experimental run with id: 6. \n",
      "Starting experimental run with id: 7. \n"
     ]
    },
    {
     "name": "stdout",
     "output_type": "stream",
     "text": [
      "Starting experimental run with id: 8. \n",
      "Starting experimental run with id: 9. \n"
     ]
    },
    {
     "name": "stdout",
     "output_type": "stream",
     "text": [
      "Starting experimental run with id: 10. \n"
     ]
    },
    {
     "name": "stdout",
     "output_type": "stream",
     "text": [
      "Starting experimental run with id: 11. \n"
     ]
    },
    {
     "name": "stdout",
     "output_type": "stream",
     "text": [
      "Starting experimental run with id: 12. \n"
     ]
    },
    {
     "name": "stdout",
     "output_type": "stream",
     "text": [
      "Starting experimental run with id: 13. \n"
     ]
    },
    {
     "name": "stdout",
     "output_type": "stream",
     "text": [
      "Starting experimental run with id: 14. \n"
     ]
    }
   ],
   "source": [
    "sizes = [1,500,1000,2000,3000,4000,5000]\n",
    "t_numeric = []\n",
    "t_numeric_add = []\n",
    "t_array = []\n",
    "t_array_add = []\n",
    "for size in sizes:\n",
    "    tn, tna, run_id_n =  insert_data('numeric', size)\n",
    "    t_numeric.append(tn)\n",
    "    t_numeric_add.append(tna)\n",
    "\n",
    "    ta, taa, run_id_a =  insert_data('array', size)\n",
    "    t_array.append(ta)\n",
    "    t_array_add.append(taa)"
   ]
  },
  {
   "cell_type": "code",
   "execution_count": 6,
   "metadata": {
    "execution": {
     "iopub.execute_input": "2021-05-21T07:25:03.436053Z",
     "iopub.status.busy": "2021-05-21T07:25:03.416891Z",
     "iopub.status.idle": "2021-05-21T07:25:03.732295Z",
     "shell.execute_reply": "2021-05-21T07:25:03.731738Z"
    }
   },
   "outputs": [
    {
     "data": {
      "image/png": "[encoded data removed]",
      "text/plain": [
       "<Figure size 432x288 with 1 Axes>"
      ]
     },
     "metadata": {
      "needs_background": "light"
     },
     "output_type": "display_data"
    }
   ],
   "source": [
    "fig, ax = plt.subplots(1,1)\n",
    "ax.plot(sizes, t_numeric, 'o-', label='Inserting row-by-row')\n",
    "ax.plot(sizes, t_numeric_add, 'o-', label='Inserting row-by-row: add_result only')\n",
    "ax.plot(sizes, t_array, 'd-', label='Inserting as binary blob')\n",
    "ax.plot(sizes, t_array_add, 'd-', label='Inserting as binary blob: add_result only')\n",
    "ax.legend()\n",
    "ax.set_xlabel('Array length')\n",
    "ax.set_ylabel('Time (s)')\n",
    "fig.tight_layout()"
   ]
  },
  {
   "cell_type": "markdown",
   "metadata": {},
   "source": [
    "As shown in the latter figure, the time to setup and and close the experiment is approximately 0.4 sec. In case of small array sizes, the difference between inserting values of data as arrays and inserting them row-by-row is relatively unimportant. At larger array sizes, i.e. above 10000 points, the cost of writing data as individual datapoints starts to become important.\n"
   ]
  },
  {
   "cell_type": "markdown",
   "metadata": {},
   "source": [
    "### Case2: Long experiment time "
   ]
  },
  {
   "cell_type": "code",
   "execution_count": 7,
   "metadata": {
    "execution": {
     "iopub.execute_input": "2021-05-21T07:25:03.741166Z",
     "iopub.status.busy": "2021-05-21T07:25:03.739673Z",
     "iopub.status.idle": "2021-05-21T07:26:09.770765Z",
     "shell.execute_reply": "2021-05-21T07:26:09.769319Z"
    }
   },
   "outputs": [
    {
     "name": "stdout",
     "output_type": "stream",
     "text": [
      "Starting experimental run with id: 15. \n",
      "Starting experimental run with id: 16. \n"
     ]
    },
    {
     "name": "stdout",
     "output_type": "stream",
     "text": [
      "Starting experimental run with id: 17. \n"
     ]
    },
    {
     "name": "stdout",
     "output_type": "stream",
     "text": [
      "Starting experimental run with id: 18. \n"
     ]
    },
    {
     "name": "stdout",
     "output_type": "stream",
     "text": [
      "Starting experimental run with id: 19. \n"
     ]
    },
    {
     "name": "stdout",
     "output_type": "stream",
     "text": [
      "Starting experimental run with id: 20. \n"
     ]
    },
    {
     "name": "stdout",
     "output_type": "stream",
     "text": [
      "Starting experimental run with id: 21. \n"
     ]
    },
    {
     "name": "stdout",
     "output_type": "stream",
     "text": [
      "Starting experimental run with id: 22. \n"
     ]
    },
    {
     "name": "stdout",
     "output_type": "stream",
     "text": [
      "Starting experimental run with id: 23. \n"
     ]
    },
    {
     "name": "stdout",
     "output_type": "stream",
     "text": [
      "Starting experimental run with id: 24. \n"
     ]
    },
    {
     "name": "stdout",
     "output_type": "stream",
     "text": [
      "Starting experimental run with id: 25. \n"
     ]
    },
    {
     "name": "stdout",
     "output_type": "stream",
     "text": [
      "Starting experimental run with id: 26. \n"
     ]
    },
    {
     "name": "stdout",
     "output_type": "stream",
     "text": [
      "Starting experimental run with id: 27. \n"
     ]
    },
    {
     "name": "stdout",
     "output_type": "stream",
     "text": [
      "Starting experimental run with id: 28. \n"
     ]
    }
   ],
   "source": [
    "sizes = [1,500,1000,2000,3000,4000,5000]\n",
    "nreps = 100\n",
    "t_numeric = []\n",
    "t_numeric_add = []\n",
    "t_numeric_run_ids = []\n",
    "t_array = []\n",
    "t_array_add = []\n",
    "t_array_run_ids = []\n",
    "for size in sizes:\n",
    "    tn, tna, run_id_n =  insert_data('numeric', size, nreps=nreps)\n",
    "    t_numeric.append(tn)\n",
    "    t_numeric_add.append(tna)\n",
    "    t_numeric_run_ids.append(run_id_n)\n",
    "\n",
    "    ta, taa, run_id_a =  insert_data('array', size, nreps=nreps)\n",
    "    t_array.append(ta)\n",
    "    t_array_add.append(taa)\n",
    "    t_array_run_ids.append(run_id_a)"
   ]
  },
  {
   "cell_type": "code",
   "execution_count": 8,
   "metadata": {
    "execution": {
     "iopub.execute_input": "2021-05-21T07:26:09.812050Z",
     "iopub.status.busy": "2021-05-21T07:26:09.796655Z",
     "iopub.status.idle": "2021-05-21T07:26:10.077838Z",
     "shell.execute_reply": "2021-05-21T07:26:10.078302Z"
    },
    "scrolled": true
   },
   "outputs": [
    {
     "data": {
      "image/png": "[encoded data removed]",
      "text/plain": [
       "<Figure size 432x288 with 1 Axes>"
      ]
     },
     "metadata": {
      "needs_background": "light"
     },
     "output_type": "display_data"
    }
   ],
   "source": [
    "fig, ax = plt.subplots(1,1)\n",
    "ax.plot(sizes, t_numeric, 'o-', label='Inserting row-by-row')\n",
    "ax.plot(sizes, t_numeric_add, 'o-', label='Inserting row-by-row: add_result only')\n",
    "ax.plot(sizes, t_array, 'd-', label='Inserting as binary blob')\n",
    "ax.plot(sizes, t_array_add, 'd-', label='Inserting as binary blob: add_result only')\n",
    "ax.legend()\n",
    "ax.set_xlabel('Array length')\n",
    "ax.set_ylabel('Time (s)')\n",
    "fig.tight_layout()"
   ]
  },
  {
   "cell_type": "markdown",
   "metadata": {},
   "source": [
    "However, as we increase the length of the experiment, as seen here by repeating the insertion 100 times, we see a big difference between inserting values of the data row-by-row and inserting it as a binary blob."
   ]
  },
  {
   "cell_type": "markdown",
   "metadata": {},
   "source": [
    "## Loading the data "
   ]
  },
  {
   "cell_type": "code",
   "execution_count": 9,
   "metadata": {
    "execution": {
     "iopub.execute_input": "2021-05-21T07:26:10.086438Z",
     "iopub.status.busy": "2021-05-21T07:26:10.084267Z",
     "iopub.status.idle": "2021-05-21T07:26:10.091070Z",
     "shell.execute_reply": "2021-05-21T07:26:10.089752Z"
    }
   },
   "outputs": [],
   "source": [
    "from qcodes.dataset.data_set import load_by_id"
   ]
  },
  {
   "cell_type": "markdown",
   "metadata": {},
   "source": [
    "As usual you can load the data by using the ``load_by_id`` function but you will notice that the different storage methods\n",
    "are reflected in shape of the data as it is retrieved. "
   ]
  },
  {
   "cell_type": "code",
   "execution_count": 10,
   "metadata": {
    "execution": {
     "iopub.execute_input": "2021-05-21T07:26:10.096864Z",
     "iopub.status.busy": "2021-05-21T07:26:10.095940Z",
     "iopub.status.idle": "2021-05-21T07:26:10.098855Z",
     "shell.execute_reply": "2021-05-21T07:26:10.099366Z"
    }
   },
   "outputs": [],
   "source": [
    "run_id_n = t_numeric_run_ids[0]\n",
    "run_id_a = t_array_run_ids[0]"
   ]
  },
  {
   "cell_type": "code",
   "execution_count": 11,
   "metadata": {
    "execution": {
     "iopub.execute_input": "2021-05-21T07:26:10.103152Z",
     "iopub.status.busy": "2021-05-21T07:26:10.102515Z",
     "iopub.status.idle": "2021-05-21T07:26:10.114131Z",
     "shell.execute_reply": "2021-05-21T07:26:10.114700Z"
    },
    "scrolled": true
   },
   "outputs": [
    {
     "data": {
      "text/plain": [
       "{'x1': {'x1': array([9.32495684e-01, 9.32495684e-01, 1.50943355e-01, 1.50943355e-01,\n",
       "         2.27901340e-01, 2.27901340e-01, 3.73343178e-01, 3.73343178e-01,\n",
       "         2.32334492e-01, 2.32334492e-01, 8.39832706e-01, 8.39832706e-01,\n",
       "         1.31124341e-01, 1.31124341e-01, 1.81178458e-01, 1.81178458e-01,\n",
       "         6.24642846e-01, 6.24642846e-01, 6.03646456e-01, 6.03646456e-01,\n",
       "         4.22089455e-01, 4.22089455e-01, 2.67756342e-01, 2.67756342e-01,\n",
       "         4.66150203e-01, 4.66150203e-01, 2.55803178e-01, 2.55803178e-01,\n",
       "         3.17348109e-01, 3.17348109e-01, 2.83284676e-01, 2.83284676e-01,\n",
       "         9.81112076e-01, 9.81112076e-01, 9.95810004e-01, 9.95810004e-01,\n",
       "         4.12321674e-01, 4.12321674e-01, 5.67494804e-01, 5.67494804e-01,\n",
       "         4.52807067e-01, 4.52807067e-01, 7.38281553e-01, 7.38281553e-01,\n",
       "         9.48003511e-01, 9.48003511e-01, 8.92431727e-01, 8.92431727e-01,\n",
       "         2.46079433e-01, 2.46079433e-01, 8.39952456e-01, 8.39952456e-01,\n",
       "         9.08705032e-01, 9.08705032e-01, 1.43448199e-01, 1.43448199e-01,\n",
       "         7.15117615e-01, 7.15117615e-01, 9.83477523e-01, 9.83477523e-01,\n",
       "         1.48882568e-01, 1.48882568e-01, 4.17236220e-01, 4.17236220e-01,\n",
       "         3.11361983e-01, 3.11361983e-01, 6.19727843e-01, 6.19727843e-01,\n",
       "         6.83505306e-01, 6.83505306e-01, 3.93034638e-01, 3.93034638e-01,\n",
       "         7.80811905e-01, 7.80811905e-01, 8.17224871e-01, 8.17224871e-01,\n",
       "         2.96728361e-01, 2.96728361e-01, 9.58641924e-01, 9.58641924e-01,\n",
       "         3.33339658e-01, 3.33339658e-01, 8.18074398e-01, 8.18074398e-01,\n",
       "         9.87590934e-01, 9.87590934e-01, 8.49368170e-02, 8.49368170e-02,\n",
       "         4.20141679e-01, 4.20141679e-01, 3.45034300e-01, 3.45034300e-01,\n",
       "         2.75187963e-01, 2.75187963e-01, 7.78134026e-01, 7.78134026e-01,\n",
       "         7.25660956e-01, 7.25660956e-01, 5.34680976e-01, 5.34680976e-01,\n",
       "         4.12870508e-01, 4.12870508e-01, 3.39430335e-01, 3.39430335e-01,\n",
       "         1.16900160e-01, 1.16900160e-01, 3.63023161e-01, 3.63023161e-01,\n",
       "         9.95143105e-01, 9.95143105e-01, 4.60079737e-01, 4.60079737e-01,\n",
       "         9.35994911e-01, 9.35994911e-01, 7.24986902e-01, 7.24986902e-01,\n",
       "         7.04566885e-01, 7.04566885e-01, 9.57480595e-01, 9.57480595e-01,\n",
       "         4.86454406e-01, 4.86454406e-01, 2.74096944e-01, 2.74096944e-01,\n",
       "         3.52708158e-01, 3.52708158e-01, 4.54825996e-01, 4.54825996e-01,\n",
       "         9.35390360e-01, 9.35390360e-01, 8.32218769e-01, 8.32218769e-01,\n",
       "         4.55016225e-01, 4.55016225e-01, 3.04336377e-01, 3.04336377e-01,\n",
       "         1.62757623e-01, 1.62757623e-01, 7.79810597e-01, 7.79810597e-01,\n",
       "         9.04988573e-01, 9.04988573e-01, 9.80348380e-01, 9.80348380e-01,\n",
       "         7.35264486e-01, 7.35264486e-01, 3.30551795e-01, 3.30551795e-01,\n",
       "         7.48414899e-01, 7.48414899e-01, 2.73623995e-01, 2.73623995e-01,\n",
       "         2.81824323e-01, 2.81824323e-01, 9.08076428e-01, 9.08076428e-01,\n",
       "         8.41917127e-01, 8.41917127e-01, 4.68421449e-01, 4.68421449e-01,\n",
       "         9.37842062e-01, 9.37842062e-01, 4.51670365e-01, 4.51670365e-01,\n",
       "         6.87915077e-04, 6.87915077e-04, 4.87957533e-01, 4.87957533e-01,\n",
       "         1.62389463e-01, 1.62389463e-01, 3.74934071e-01, 3.74934071e-01,\n",
       "         2.04509499e-03, 2.04509499e-03, 1.79668008e-01, 1.79668008e-01,\n",
       "         2.85087320e-01, 2.85087320e-01, 7.59446980e-01, 7.59446980e-01,\n",
       "         3.96518885e-01, 3.96518885e-01, 6.79325669e-01, 6.79325669e-01,\n",
       "         1.09768952e-01, 1.09768952e-01, 3.85494115e-01, 3.85494115e-01,\n",
       "         3.15068771e-02, 3.15068771e-02, 5.84380280e-01, 5.84380280e-01,\n",
       "         8.11219369e-01, 8.11219369e-01, 7.28475550e-01, 7.28475550e-01,\n",
       "         2.64253708e-01, 2.64253708e-01, 9.99967085e-02, 9.99967085e-02])}}"
      ]
     },
     "execution_count": 1,
     "metadata": {},
     "output_type": "execute_result"
    }
   ],
   "source": [
    "ds = load_by_id(run_id_n)\n",
    "ds.get_parameter_data('x1')"
   ]
  },
  {
   "cell_type": "markdown",
   "metadata": {},
   "source": [
    "And a dataset stored as binary arrays"
   ]
  },
  {
   "cell_type": "code",
   "execution_count": 12,
   "metadata": {
    "execution": {
     "iopub.execute_input": "2021-05-21T07:26:10.118866Z",
     "iopub.status.busy": "2021-05-21T07:26:10.118220Z",
     "iopub.status.idle": "2021-05-21T07:26:10.189569Z",
     "shell.execute_reply": "2021-05-21T07:26:10.190307Z"
    },
    "scrolled": true
   },
   "outputs": [
    {
     "data": {
      "text/plain": [
       "{'x1': {'x1': array([[0.04451662],\n",
       "         [0.04451662],\n",
       "         [0.42667913],\n",
       "         [0.42667913],\n",
       "         [0.31708731],\n",
       "         [0.31708731],\n",
       "         [0.72733982],\n",
       "         [0.72733982],\n",
       "         [0.65624791],\n",
       "         [0.65624791],\n",
       "         [0.56288036],\n",
       "         [0.56288036],\n",
       "         [0.93706659],\n",
       "         [0.93706659],\n",
       "         [0.93553912],\n",
       "         [0.93553912],\n",
       "         [0.74407225],\n",
       "         [0.74407225],\n",
       "         [0.59380735],\n",
       "         [0.59380735],\n",
       "         [0.12026635],\n",
       "         [0.12026635],\n",
       "         [0.52084721],\n",
       "         [0.52084721],\n",
       "         [0.61266896],\n",
       "         [0.61266896],\n",
       "         [0.2439487 ],\n",
       "         [0.2439487 ],\n",
       "         [0.47677923],\n",
       "         [0.47677923],\n",
       "         [0.96897592],\n",
       "         [0.96897592],\n",
       "         [0.14143146],\n",
       "         [0.14143146],\n",
       "         [0.72907628],\n",
       "         [0.72907628],\n",
       "         [0.50019692],\n",
       "         [0.50019692],\n",
       "         [0.04770101],\n",
       "         [0.04770101],\n",
       "         [0.42613233],\n",
       "         [0.42613233],\n",
       "         [0.62822193],\n",
       "         [0.62822193],\n",
       "         [0.96356144],\n",
       "         [0.96356144],\n",
       "         [0.13977461],\n",
       "         [0.13977461],\n",
       "         [0.31836049],\n",
       "         [0.31836049],\n",
       "         [0.84063863],\n",
       "         [0.84063863],\n",
       "         [0.78353604],\n",
       "         [0.78353604],\n",
       "         [0.66756271],\n",
       "         [0.66756271],\n",
       "         [0.89754297],\n",
       "         [0.89754297],\n",
       "         [0.81484068],\n",
       "         [0.81484068],\n",
       "         [0.37213039],\n",
       "         [0.37213039],\n",
       "         [0.00783127],\n",
       "         [0.00783127],\n",
       "         [0.84996642],\n",
       "         [0.84996642],\n",
       "         [0.68547046],\n",
       "         [0.68547046],\n",
       "         [0.97222408],\n",
       "         [0.97222408],\n",
       "         [0.09740951],\n",
       "         [0.09740951],\n",
       "         [0.44724566],\n",
       "         [0.44724566],\n",
       "         [0.04494912],\n",
       "         [0.04494912],\n",
       "         [0.15947124],\n",
       "         [0.15947124],\n",
       "         [0.64656615],\n",
       "         [0.64656615],\n",
       "         [0.22733425],\n",
       "         [0.22733425],\n",
       "         [0.08368815],\n",
       "         [0.08368815],\n",
       "         [0.47549032],\n",
       "         [0.47549032],\n",
       "         [0.2827096 ],\n",
       "         [0.2827096 ],\n",
       "         [0.19330847],\n",
       "         [0.19330847],\n",
       "         [0.0066353 ],\n",
       "         [0.0066353 ],\n",
       "         [0.44922807],\n",
       "         [0.44922807],\n",
       "         [0.18339925],\n",
       "         [0.18339925],\n",
       "         [0.95070022],\n",
       "         [0.95070022],\n",
       "         [0.93483639],\n",
       "         [0.93483639],\n",
       "         [0.70913705],\n",
       "         [0.70913705],\n",
       "         [0.97287489],\n",
       "         [0.97287489],\n",
       "         [0.98514299],\n",
       "         [0.98514299],\n",
       "         [0.05323107],\n",
       "         [0.05323107],\n",
       "         [0.50328557],\n",
       "         [0.50328557],\n",
       "         [0.90007146],\n",
       "         [0.90007146],\n",
       "         [0.47847787],\n",
       "         [0.47847787],\n",
       "         [0.2063694 ],\n",
       "         [0.2063694 ],\n",
       "         [0.21405127],\n",
       "         [0.21405127],\n",
       "         [0.82362729],\n",
       "         [0.82362729],\n",
       "         [0.50635416],\n",
       "         [0.50635416],\n",
       "         [0.07006992],\n",
       "         [0.07006992],\n",
       "         [0.82073778],\n",
       "         [0.82073778],\n",
       "         [0.89957744],\n",
       "         [0.89957744],\n",
       "         [0.09549836],\n",
       "         [0.09549836],\n",
       "         [0.70515913],\n",
       "         [0.70515913],\n",
       "         [0.61252865],\n",
       "         [0.61252865],\n",
       "         [0.75827635],\n",
       "         [0.75827635],\n",
       "         [0.03080331],\n",
       "         [0.03080331],\n",
       "         [0.67179707],\n",
       "         [0.67179707],\n",
       "         [0.94244805],\n",
       "         [0.94244805],\n",
       "         [0.79589283],\n",
       "         [0.79589283],\n",
       "         [0.51829598],\n",
       "         [0.51829598],\n",
       "         [0.8384494 ],\n",
       "         [0.8384494 ],\n",
       "         [0.22191698],\n",
       "         [0.22191698],\n",
       "         [0.74382854],\n",
       "         [0.74382854],\n",
       "         [0.43790358],\n",
       "         [0.43790358],\n",
       "         [0.84948852],\n",
       "         [0.84948852],\n",
       "         [0.56934324],\n",
       "         [0.56934324],\n",
       "         [0.46465224],\n",
       "         [0.46465224],\n",
       "         [0.2965686 ],\n",
       "         [0.2965686 ],\n",
       "         [0.37746247],\n",
       "         [0.37746247],\n",
       "         [0.68865045],\n",
       "         [0.68865045],\n",
       "         [0.03692216],\n",
       "         [0.03692216],\n",
       "         [0.86691256],\n",
       "         [0.86691256],\n",
       "         [0.56491931],\n",
       "         [0.56491931],\n",
       "         [0.5136447 ],\n",
       "         [0.5136447 ],\n",
       "         [0.2165944 ],\n",
       "         [0.2165944 ],\n",
       "         [0.74287907],\n",
       "         [0.74287907],\n",
       "         [0.92358321],\n",
       "         [0.92358321],\n",
       "         [0.09953715],\n",
       "         [0.09953715],\n",
       "         [0.66088098],\n",
       "         [0.66088098],\n",
       "         [0.07530162],\n",
       "         [0.07530162],\n",
       "         [0.89504128],\n",
       "         [0.89504128],\n",
       "         [0.12983528],\n",
       "         [0.12983528],\n",
       "         [0.4349791 ],\n",
       "         [0.4349791 ],\n",
       "         [0.82761409],\n",
       "         [0.82761409],\n",
       "         [0.04653399],\n",
       "         [0.04653399],\n",
       "         [0.65647773],\n",
       "         [0.65647773],\n",
       "         [0.41192895],\n",
       "         [0.41192895]])}}"
      ]
     },
     "execution_count": 1,
     "metadata": {},
     "output_type": "execute_result"
    }
   ],
   "source": [
    "ds = load_by_id(run_id_a)\n",
    "ds.get_parameter_data('x1')"
   ]
  },
  {
   "cell_type": "code",
   "execution_count": null,
   "metadata": {},
   "outputs": [],
   "source": []
  }
 ],
 "metadata": {
  "kernelspec": {
   "display_name": "Python 3",
   "language": "python",
   "name": "python3"
  },
  "language_info": {
   "codemirror_mode": {
    "name": "ipython",
    "version": 3
   },
   "file_extension": ".py",
   "mimetype": "text/x-python",
   "name": "python",
   "nbconvert_exporter": "python",
   "pygments_lexer": "ipython3",
   "version": "3.7.10"
  },
  "nbsphinx": {
   "timeout": 600
  },
  "toc": {
   "base_numbering": 1,
   "nav_menu": {},
   "number_sections": true,
   "sideBar": true,
   "skip_h1_title": false,
   "title_cell": "Table of Contents",
   "title_sidebar": "Contents",
   "toc_cell": false,
   "toc_position": {},
   "toc_section_display": true,
   "toc_window_display": false
  },
  "varInspector": {
   "cols": {
    "lenName": 16,
    "lenType": 16,
    "lenVar": 40
   },
   "kernels_config": {
    "python": {
     "delete_cmd_postfix": "",
     "delete_cmd_prefix": "del ",
     "library": "var_list.py",
     "varRefreshCmd": "print(var_dic_list())"
    },
    "r": {
     "delete_cmd_postfix": ") ",
     "delete_cmd_prefix": "rm(",
     "library": "var_list.r",
     "varRefreshCmd": "cat(var_dic_list()) "
    }
   },
   "types_to_exclude": [
    "module",
    "function",
    "builtin_function_or_method",
    "instance",
    "_Feature"
   ],
   "window_display": false
  }
 },
 "nbformat": 4,
 "nbformat_minor": 4
}
