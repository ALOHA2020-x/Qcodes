{
 "cells": [
  {
   "cell_type": "markdown",
   "metadata": {},
   "source": [
    "# DataSet Performance\n",
    "\n",
    "This notebook shows the trade-off between inserting data into a database row-by-row and as binary blobs. Inserting the data row-by-row means that we have direct access to all the data and may perform queries directly on the values of the data. On the other hand, as we shall see, this is much slower than inserting the data directly as binary blobs."
   ]
  },
  {
   "cell_type": "markdown",
   "metadata": {},
   "source": [
    "First, we choose a new location for the database to ensure that we don't add a bunch of benchmarking data to the default one."
   ]
  },
  {
   "cell_type": "code",
   "execution_count": 1,
   "metadata": {
    "execution": {
     "iopub.execute_input": "2021-02-01T10:26:01.678297Z",
     "iopub.status.busy": "2021-02-01T10:26:01.677713Z",
     "iopub.status.idle": "2021-02-01T10:26:02.749428Z",
     "shell.execute_reply": "2021-02-01T10:26:02.748875Z"
    }
   },
   "outputs": [
    {
     "name": "stdout",
     "output_type": "stream",
     "text": [
      "Logging hadn't been started.\n",
      "Activating auto-logging. Current session state plus future input saved.\n",
      "Filename       : /home/vsts/.qcodes/logs/command_history.log\n",
      "Mode           : append\n",
      "Output logging : True\n",
      "Raw input log  : False\n",
      "Timestamping   : True\n",
      "State          : active\n"
     ]
    },
    {
     "name": "stdout",
     "output_type": "stream",
     "text": [
      "Qcodes Logfile : /home/vsts/.qcodes/logs/210201-13596-qcodes.log\n"
     ]
    }
   ],
   "source": [
    "import os\n",
    "cwd = os.getcwd()\n",
    "import qcodes as qc\n",
    "qc.config[\"core\"][\"db_location\"] = os.path.join(cwd, 'testing.db')\n"
   ]
  },
  {
   "cell_type": "code",
   "execution_count": 2,
   "metadata": {
    "execution": {
     "iopub.execute_input": "2021-02-01T10:26:02.756756Z",
     "iopub.status.busy": "2021-02-01T10:26:02.756082Z",
     "iopub.status.idle": "2021-02-01T10:26:02.943171Z",
     "shell.execute_reply": "2021-02-01T10:26:02.942673Z"
    }
   },
   "outputs": [],
   "source": [
    "%matplotlib inline\n",
    "import time\n",
    "import matplotlib.pyplot as plt\n",
    "import numpy as np\n",
    "\n",
    "import qcodes as qc\n",
    "from qcodes.instrument.parameter import ManualParameter\n",
    "from qcodes.dataset.experiment_container import (Experiment,\n",
    "                                                 load_last_experiment,\n",
    "                                                 new_experiment)\n",
    "from qcodes.dataset.sqlite.database import initialise_database\n",
    "from qcodes import load_or_create_experiment\n",
    "from qcodes.dataset.measurements import Measurement"
   ]
  },
  {
   "cell_type": "code",
   "execution_count": 3,
   "metadata": {
    "execution": {
     "iopub.execute_input": "2021-02-01T10:26:02.947585Z",
     "iopub.status.busy": "2021-02-01T10:26:02.946573Z",
     "iopub.status.idle": "2021-02-01T10:26:03.059141Z",
     "shell.execute_reply": "2021-02-01T10:26:03.058584Z"
    }
   },
   "outputs": [
    {
     "name": "stdout",
     "output_type": "stream",
     "text": [
      "\r",
      "0it [00:00, ?it/s]"
     ]
    },
    {
     "name": "stdout",
     "output_type": "stream",
     "text": [
      "\r",
      "Upgrading database; v0 -> v1: : 0it [00:00, ?it/s]"
     ]
    },
    {
     "name": "stdout",
     "output_type": "stream",
     "text": [
      "\r",
      "Upgrading database; v0 -> v1: : 0it [00:00, ?it/s]"
     ]
    },
    {
     "name": "stdout",
     "output_type": "stream",
     "text": [
      "\n",
      "\r",
      "  0%|          | 0/1 [00:00<?, ?it/s]"
     ]
    },
    {
     "name": "stdout",
     "output_type": "stream",
     "text": [
      "\r",
      "Upgrading database; v1 -> v2:   0%|          | 0/1 [00:00<?, ?it/s]"
     ]
    },
    {
     "name": "stdout",
     "output_type": "stream",
     "text": [
      "\r",
      "Upgrading database; v1 -> v2: 100%|██████████| 1/1 [00:00<00:00, 317.53it/s]"
     ]
    },
    {
     "name": "stdout",
     "output_type": "stream",
     "text": [
      "\n",
      "\r",
      "0it [00:00, ?it/s]"
     ]
    },
    {
     "name": "stdout",
     "output_type": "stream",
     "text": [
      "\r",
      "Upgrading database; v2 -> v3: : 0it [00:00, ?it/s]"
     ]
    },
    {
     "name": "stdout",
     "output_type": "stream",
     "text": [
      "\r",
      "Upgrading database; v2 -> v3: : 0it [00:00, ?it/s]"
     ]
    },
    {
     "name": "stdout",
     "output_type": "stream",
     "text": [
      "\n",
      "\r",
      "0it [00:00, ?it/s]"
     ]
    },
    {
     "name": "stdout",
     "output_type": "stream",
     "text": [
      "\r",
      "Upgrading database; v3 -> v4: : 0it [00:00, ?it/s]"
     ]
    },
    {
     "name": "stdout",
     "output_type": "stream",
     "text": [
      "\r",
      "Upgrading database; v3 -> v4: : 0it [00:00, ?it/s]"
     ]
    },
    {
     "name": "stdout",
     "output_type": "stream",
     "text": [
      "\n",
      "\r",
      "  0%|          | 0/1 [00:00<?, ?it/s]"
     ]
    },
    {
     "name": "stdout",
     "output_type": "stream",
     "text": [
      "\r",
      "Upgrading database; v4 -> v5:   0%|          | 0/1 [00:00<?, ?it/s]"
     ]
    },
    {
     "name": "stdout",
     "output_type": "stream",
     "text": [
      "\r",
      "Upgrading database; v4 -> v5: 100%|██████████| 1/1 [00:00<00:00, 405.95it/s]"
     ]
    },
    {
     "name": "stdout",
     "output_type": "stream",
     "text": [
      "\n",
      "\r",
      "0it [00:00, ?it/s]"
     ]
    },
    {
     "name": "stdout",
     "output_type": "stream",
     "text": [
      "\r",
      "Upgrading database; v5 -> v6: : 0it [00:00, ?it/s]"
     ]
    },
    {
     "name": "stdout",
     "output_type": "stream",
     "text": [
      "\r",
      "Upgrading database; v5 -> v6: : 0it [00:00, ?it/s]"
     ]
    },
    {
     "name": "stdout",
     "output_type": "stream",
     "text": [
      "\n",
      "\r",
      "  0%|          | 0/1 [00:00<?, ?it/s]"
     ]
    },
    {
     "name": "stdout",
     "output_type": "stream",
     "text": [
      "\r",
      "Upgrading database; v6 -> v7:   0%|          | 0/1 [00:00<?, ?it/s]"
     ]
    },
    {
     "name": "stdout",
     "output_type": "stream",
     "text": [
      "\r",
      "Upgrading database; v6 -> v7: 100%|██████████| 1/1 [00:00<00:00, 321.97it/s]"
     ]
    },
    {
     "name": "stdout",
     "output_type": "stream",
     "text": [
      "\n",
      "\r",
      "  0%|          | 0/1 [00:00<?, ?it/s]"
     ]
    },
    {
     "name": "stdout",
     "output_type": "stream",
     "text": [
      "\r",
      "Upgrading database; v7 -> v8:   0%|          | 0/1 [00:00<?, ?it/s]"
     ]
    },
    {
     "name": "stdout",
     "output_type": "stream",
     "text": [
      "\r",
      "Upgrading database; v7 -> v8: 100%|██████████| 1/1 [00:00<00:00, 550.22it/s]"
     ]
    },
    {
     "name": "stdout",
     "output_type": "stream",
     "text": [
      "\n",
      "\r",
      "  0%|          | 0/1 [00:00<?, ?it/s]"
     ]
    },
    {
     "name": "stdout",
     "output_type": "stream",
     "text": [
      "\r",
      "Upgrading database; v8 -> v9:   0%|          | 0/1 [00:00<?, ?it/s]"
     ]
    },
    {
     "name": "stdout",
     "output_type": "stream",
     "text": [
      "\r",
      "Upgrading database; v8 -> v9: 100%|██████████| 1/1 [00:00<00:00, 771.72it/s]"
     ]
    },
    {
     "name": "stdout",
     "output_type": "stream",
     "text": [
      "\n"
     ]
    }
   ],
   "source": [
    "initialise_database()\n",
    "exp = load_or_create_experiment(experiment_name='tutorial_exp', sample_name=\"no sample\")"
   ]
  },
  {
   "cell_type": "markdown",
   "metadata": {},
   "source": [
    "Here, we define a simple function to benchmark the time it takes to insert n points with either numeric or array data type.\n",
    "We will compare both the time used to call ``add_result`` and the time used for the full measurement."
   ]
  },
  {
   "cell_type": "code",
   "execution_count": 4,
   "metadata": {
    "execution": {
     "iopub.execute_input": "2021-02-01T10:26:03.071724Z",
     "iopub.status.busy": "2021-02-01T10:26:03.070224Z",
     "iopub.status.idle": "2021-02-01T10:26:03.072377Z",
     "shell.execute_reply": "2021-02-01T10:26:03.072919Z"
    }
   },
   "outputs": [],
   "source": [
    "def insert_data(paramtype, npoints, nreps=1):\n",
    "\n",
    "    meas = Measurement(exp=exp)\n",
    "\n",
    "    x1 = ManualParameter('x1')\n",
    "    x2 = ManualParameter('x2')\n",
    "    x3 = ManualParameter('x3')\n",
    "    y1 = ManualParameter('y1')\n",
    "    y2 = ManualParameter('y2')\n",
    "\n",
    "    meas.register_parameter(x1, paramtype=paramtype)\n",
    "    meas.register_parameter(x2, paramtype=paramtype)\n",
    "    meas.register_parameter(x3, paramtype=paramtype)\n",
    "    meas.register_parameter(y1, setpoints=[x1, x2, x3],\n",
    "                            paramtype=paramtype)\n",
    "    meas.register_parameter(y2, setpoints=[x1, x2, x3],\n",
    "                            paramtype=paramtype)\n",
    "    start = time.perf_counter()\n",
    "    with meas.run() as datasaver:\n",
    "        start_adding = time.perf_counter()\n",
    "        for i in range(nreps):\n",
    "            datasaver.add_result((x1, np.random.rand(npoints)),\n",
    "                                 (x2, np.random.rand(npoints)),\n",
    "                                 (x3, np.random.rand(npoints)),\n",
    "                                 (y1, np.random.rand(npoints)),\n",
    "                                 (y2, np.random.rand(npoints)))\n",
    "        stop_adding = time.perf_counter()\n",
    "        run_id = datasaver.run_id\n",
    "    stop = time.perf_counter()\n",
    "    tot_time = stop - start\n",
    "    add_time = stop_adding - start_adding\n",
    "    return tot_time, add_time, run_id"
   ]
  },
  {
   "cell_type": "markdown",
   "metadata": {},
   "source": [
    "## Comparison between numeric/array data and binary blob"
   ]
  },
  {
   "cell_type": "markdown",
   "metadata": {},
   "source": [
    "### Case1: Short experiment time"
   ]
  },
  {
   "cell_type": "code",
   "execution_count": 5,
   "metadata": {
    "execution": {
     "iopub.execute_input": "2021-02-01T10:26:03.077926Z",
     "iopub.status.busy": "2021-02-01T10:26:03.077329Z",
     "iopub.status.idle": "2021-02-01T10:26:03.867662Z",
     "shell.execute_reply": "2021-02-01T10:26:03.867003Z"
    }
   },
   "outputs": [
    {
     "name": "stdout",
     "output_type": "stream",
     "text": [
      "Starting experimental run with id: 1. \n",
      "Starting experimental run with id: 2. \n",
      "Starting experimental run with id: 3. \n",
      "Starting experimental run with id: 4. \n",
      "Starting experimental run with id: 5. \n"
     ]
    },
    {
     "name": "stdout",
     "output_type": "stream",
     "text": [
      "Starting experimental run with id: 6. \n"
     ]
    },
    {
     "name": "stdout",
     "output_type": "stream",
     "text": [
      "Starting experimental run with id: 7. \n"
     ]
    },
    {
     "name": "stdout",
     "output_type": "stream",
     "text": [
      "Starting experimental run with id: 8. \n",
      "Starting experimental run with id: 9. \n"
     ]
    },
    {
     "name": "stdout",
     "output_type": "stream",
     "text": [
      "Starting experimental run with id: 10. \n",
      "Starting experimental run with id: 11. \n"
     ]
    },
    {
     "name": "stdout",
     "output_type": "stream",
     "text": [
      "Starting experimental run with id: 12. \n",
      "Starting experimental run with id: 13. \n"
     ]
    },
    {
     "name": "stdout",
     "output_type": "stream",
     "text": [
      "Starting experimental run with id: 14. \n"
     ]
    }
   ],
   "source": [
    "sizes = [1,500,1000,2000,3000,4000,5000]\n",
    "t_numeric = []\n",
    "t_numeric_add = []\n",
    "t_array = []\n",
    "t_array_add = []\n",
    "for size in sizes:\n",
    "    tn, tna, run_id_n =  insert_data('numeric', size)\n",
    "    t_numeric.append(tn)\n",
    "    t_numeric_add.append(tna)\n",
    "\n",
    "    ta, taa, run_id_a =  insert_data('array', size)\n",
    "    t_array.append(ta)\n",
    "    t_array_add.append(taa)"
   ]
  },
  {
   "cell_type": "code",
   "execution_count": 6,
   "metadata": {
    "execution": {
     "iopub.execute_input": "2021-02-01T10:26:03.887033Z",
     "iopub.status.busy": "2021-02-01T10:26:03.886383Z",
     "iopub.status.idle": "2021-02-01T10:26:04.129574Z",
     "shell.execute_reply": "2021-02-01T10:26:04.130271Z"
    }
   },
   "outputs": [
    {
     "data": {
      "image/png": "[encoded data removed]",
      "text/plain": [
       "<Figure size 432x288 with 1 Axes>"
      ]
     },
     "metadata": {
      "needs_background": "light"
     },
     "output_type": "display_data"
    }
   ],
   "source": [
    "fig, ax = plt.subplots(1,1)\n",
    "ax.plot(sizes, t_numeric, 'o-', label='Inserting row-by-row')\n",
    "ax.plot(sizes, t_numeric_add, 'o-', label='Inserting row-by-row: add_result only')\n",
    "ax.plot(sizes, t_array, 'd-', label='Inserting as binary blob')\n",
    "ax.plot(sizes, t_array_add, 'd-', label='Inserting as binary blob: add_result only')\n",
    "ax.legend()\n",
    "ax.set_xlabel('Array length')\n",
    "ax.set_ylabel('Time (s)')\n",
    "fig.tight_layout()"
   ]
  },
  {
   "cell_type": "markdown",
   "metadata": {},
   "source": [
    "As shown in the latter figure, the time to setup and and close the experiment is approximately 0.4 sec. In case of small array sizes, the difference between inserting values of data as arrays and inserting them row-by-row is relatively unimportant. At larger array sizes, i.e. above 10000 points, the cost of writing data as individual datapoints starts to become important.\n"
   ]
  },
  {
   "cell_type": "markdown",
   "metadata": {},
   "source": [
    "### Case2: Long experiment time "
   ]
  },
  {
   "cell_type": "code",
   "execution_count": 7,
   "metadata": {
    "execution": {
     "iopub.execute_input": "2021-02-01T10:26:04.138339Z",
     "iopub.status.busy": "2021-02-01T10:26:04.137558Z",
     "iopub.status.idle": "2021-02-01T10:26:59.117942Z",
     "shell.execute_reply": "2021-02-01T10:26:59.118498Z"
    }
   },
   "outputs": [
    {
     "name": "stdout",
     "output_type": "stream",
     "text": [
      "Starting experimental run with id: 15. \n",
      "Starting experimental run with id: 16. \n",
      "Starting experimental run with id: 17. \n"
     ]
    },
    {
     "name": "stdout",
     "output_type": "stream",
     "text": [
      "Starting experimental run with id: 18. \n",
      "Starting experimental run with id: 19. \n"
     ]
    },
    {
     "name": "stdout",
     "output_type": "stream",
     "text": [
      "Starting experimental run with id: 20. \n"
     ]
    },
    {
     "name": "stdout",
     "output_type": "stream",
     "text": [
      "Starting experimental run with id: 21. \n"
     ]
    },
    {
     "name": "stdout",
     "output_type": "stream",
     "text": [
      "Starting experimental run with id: 22. \n"
     ]
    },
    {
     "name": "stdout",
     "output_type": "stream",
     "text": [
      "Starting experimental run with id: 23. \n"
     ]
    },
    {
     "name": "stdout",
     "output_type": "stream",
     "text": [
      "Starting experimental run with id: 24. \n"
     ]
    },
    {
     "name": "stdout",
     "output_type": "stream",
     "text": [
      "Starting experimental run with id: 25. \n"
     ]
    },
    {
     "name": "stdout",
     "output_type": "stream",
     "text": [
      "Starting experimental run with id: 26. \n"
     ]
    },
    {
     "name": "stdout",
     "output_type": "stream",
     "text": [
      "Starting experimental run with id: 27. \n"
     ]
    },
    {
     "name": "stdout",
     "output_type": "stream",
     "text": [
      "Starting experimental run with id: 28. \n"
     ]
    }
   ],
   "source": [
    "sizes = [1,500,1000,2000,3000,4000,5000]\n",
    "nreps = 100\n",
    "t_numeric = []\n",
    "t_numeric_add = []\n",
    "t_numeric_run_ids = []\n",
    "t_array = []\n",
    "t_array_add = []\n",
    "t_array_run_ids = []\n",
    "for size in sizes:\n",
    "    tn, tna, run_id_n =  insert_data('numeric', size, nreps=nreps)\n",
    "    t_numeric.append(tn)\n",
    "    t_numeric_add.append(tna)\n",
    "    t_numeric_run_ids.append(run_id_n)\n",
    "\n",
    "    ta, taa, run_id_a =  insert_data('array', size, nreps=nreps)\n",
    "    t_array.append(ta)\n",
    "    t_array_add.append(taa)\n",
    "    t_array_run_ids.append(run_id_a)"
   ]
  },
  {
   "cell_type": "code",
   "execution_count": 8,
   "metadata": {
    "execution": {
     "iopub.execute_input": "2021-02-01T10:26:59.139093Z",
     "iopub.status.busy": "2021-02-01T10:26:59.137346Z",
     "iopub.status.idle": "2021-02-01T10:26:59.362613Z",
     "shell.execute_reply": "2021-02-01T10:26:59.362061Z"
    },
    "scrolled": true
   },
   "outputs": [
    {
     "data": {
      "image/png": "[encoded data removed]",
      "text/plain": [
       "<Figure size 432x288 with 1 Axes>"
      ]
     },
     "metadata": {
      "needs_background": "light"
     },
     "output_type": "display_data"
    }
   ],
   "source": [
    "fig, ax = plt.subplots(1,1)\n",
    "ax.plot(sizes, t_numeric, 'o-', label='Inserting row-by-row')\n",
    "ax.plot(sizes, t_numeric_add, 'o-', label='Inserting row-by-row: add_result only')\n",
    "ax.plot(sizes, t_array, 'd-', label='Inserting as binary blob')\n",
    "ax.plot(sizes, t_array_add, 'd-', label='Inserting as binary blob: add_result only')\n",
    "ax.legend()\n",
    "ax.set_xlabel('Array length')\n",
    "ax.set_ylabel('Time (s)')\n",
    "fig.tight_layout()"
   ]
  },
  {
   "cell_type": "markdown",
   "metadata": {},
   "source": [
    "However, as we increase the length of the experiment, as seen here by repeating the insertion 100 times, we see a big difference between inserting values of the data row-by-row and inserting it as a binary blob."
   ]
  },
  {
   "cell_type": "markdown",
   "metadata": {},
   "source": [
    "## Loading the data "
   ]
  },
  {
   "cell_type": "code",
   "execution_count": 9,
   "metadata": {
    "execution": {
     "iopub.execute_input": "2021-02-01T10:26:59.367943Z",
     "iopub.status.busy": "2021-02-01T10:26:59.366870Z",
     "iopub.status.idle": "2021-02-01T10:26:59.370326Z",
     "shell.execute_reply": "2021-02-01T10:26:59.369882Z"
    }
   },
   "outputs": [],
   "source": [
    "from qcodes.dataset.data_set import load_by_id\n",
    "from qcodes.dataset.data_export import get_data_by_id"
   ]
  },
  {
   "cell_type": "markdown",
   "metadata": {},
   "source": [
    "As usual you can load the data by using the ``load_by_id`` function but you will notice that the different storage methods\n",
    "are reflected in shape of the data as it is retrieved. "
   ]
  },
  {
   "cell_type": "code",
   "execution_count": 10,
   "metadata": {
    "execution": {
     "iopub.execute_input": "2021-02-01T10:26:59.374947Z",
     "iopub.status.busy": "2021-02-01T10:26:59.373598Z",
     "iopub.status.idle": "2021-02-01T10:26:59.375579Z",
     "shell.execute_reply": "2021-02-01T10:26:59.376021Z"
    }
   },
   "outputs": [],
   "source": [
    "run_id_n = t_numeric_run_ids[0]\n",
    "run_id_a = t_array_run_ids[0]"
   ]
  },
  {
   "cell_type": "code",
   "execution_count": 11,
   "metadata": {
    "execution": {
     "iopub.execute_input": "2021-02-01T10:26:59.379581Z",
     "iopub.status.busy": "2021-02-01T10:26:59.378881Z",
     "iopub.status.idle": "2021-02-01T10:26:59.388117Z",
     "shell.execute_reply": "2021-02-01T10:26:59.388571Z"
    },
    "scrolled": true
   },
   "outputs": [
    {
     "data": {
      "text/plain": [
       "{'x1': {'x1': array([0.78013538, 0.78013538, 0.28580573, 0.28580573, 0.87612564,\n",
       "         0.87612564, 0.06230095, 0.06230095, 0.63691423, 0.63691423,\n",
       "         0.44131379, 0.44131379, 0.41171649, 0.41171649, 0.61919716,\n",
       "         0.61919716, 0.00284439, 0.00284439, 0.80386831, 0.80386831,\n",
       "         0.83344481, 0.83344481, 0.22267456, 0.22267456, 0.30679622,\n",
       "         0.30679622, 0.15223876, 0.15223876, 0.43402284, 0.43402284,\n",
       "         0.23993956, 0.23993956, 0.65151203, 0.65151203, 0.50918855,\n",
       "         0.50918855, 0.87057557, 0.87057557, 0.85659865, 0.85659865,\n",
       "         0.48872327, 0.48872327, 0.24284957, 0.24284957, 0.64069038,\n",
       "         0.64069038, 0.60233602, 0.60233602, 0.03224817, 0.03224817,\n",
       "         0.38948472, 0.38948472, 0.23364075, 0.23364075, 0.09444672,\n",
       "         0.09444672, 0.83200113, 0.83200113, 0.06588155, 0.06588155,\n",
       "         0.31408714, 0.31408714, 0.89763942, 0.89763942, 0.8842635 ,\n",
       "         0.8842635 , 0.14826298, 0.14826298, 0.90815241, 0.90815241,\n",
       "         0.73979973, 0.73979973, 0.24493819, 0.24493819, 0.19217112,\n",
       "         0.19217112, 0.51562082, 0.51562082, 0.58595749, 0.58595749,\n",
       "         0.15910799, 0.15910799, 0.0749763 , 0.0749763 , 0.40232599,\n",
       "         0.40232599, 0.05890615, 0.05890615, 0.14503976, 0.14503976,\n",
       "         0.07864476, 0.07864476, 0.08012837, 0.08012837, 0.55915323,\n",
       "         0.55915323, 0.82697968, 0.82697968, 0.20333604, 0.20333604,\n",
       "         0.06910277, 0.06910277, 0.17514506, 0.17514506, 0.97213525,\n",
       "         0.97213525, 0.36216006, 0.36216006, 0.49304154, 0.49304154,\n",
       "         0.70831299, 0.70831299, 0.34150472, 0.34150472, 0.86906678,\n",
       "         0.86906678, 0.16582072, 0.16582072, 0.21036906, 0.21036906,\n",
       "         0.00536083, 0.00536083, 0.97801552, 0.97801552, 0.75978572,\n",
       "         0.75978572, 0.87419923, 0.87419923, 0.85852945, 0.85852945,\n",
       "         0.66031282, 0.66031282, 0.79108291, 0.79108291, 0.33435698,\n",
       "         0.33435698, 0.01519341, 0.01519341, 0.86959227, 0.86959227,\n",
       "         0.56757338, 0.56757338, 0.83142428, 0.83142428, 0.35398719,\n",
       "         0.35398719, 0.2891316 , 0.2891316 , 0.81228547, 0.81228547,\n",
       "         0.31670787, 0.31670787, 0.17446625, 0.17446625, 0.29034958,\n",
       "         0.29034958, 0.5920713 , 0.5920713 , 0.31109558, 0.31109558,\n",
       "         0.3053651 , 0.3053651 , 0.12610921, 0.12610921, 0.99615069,\n",
       "         0.99615069, 0.13735107, 0.13735107, 0.76081169, 0.76081169,\n",
       "         0.03835269, 0.03835269, 0.42072849, 0.42072849, 0.39915869,\n",
       "         0.39915869, 0.89408645, 0.89408645, 0.41267926, 0.41267926,\n",
       "         0.37065621, 0.37065621, 0.63622105, 0.63622105, 0.89628097,\n",
       "         0.89628097, 0.52093174, 0.52093174, 0.35390099, 0.35390099,\n",
       "         0.30144492, 0.30144492, 0.68504477, 0.68504477, 0.27838091,\n",
       "         0.27838091, 0.18092301, 0.18092301, 0.47736813, 0.47736813])}}"
      ]
     },
     "execution_count": 1,
     "metadata": {},
     "output_type": "execute_result"
    }
   ],
   "source": [
    "ds = load_by_id(run_id_n)\n",
    "ds.get_parameter_data('x1')"
   ]
  },
  {
   "cell_type": "markdown",
   "metadata": {},
   "source": [
    "And a dataset stored as binary arrays"
   ]
  },
  {
   "cell_type": "code",
   "execution_count": 12,
   "metadata": {
    "execution": {
     "iopub.execute_input": "2021-02-01T10:26:59.393224Z",
     "iopub.status.busy": "2021-02-01T10:26:59.391555Z",
     "iopub.status.idle": "2021-02-01T10:26:59.455829Z",
     "shell.execute_reply": "2021-02-01T10:26:59.456268Z"
    },
    "scrolled": true
   },
   "outputs": [
    {
     "data": {
      "text/plain": [
       "{'x1': {'x1': array([[0.71331583],\n",
       "         [0.71331583],\n",
       "         [0.18686241],\n",
       "         [0.18686241],\n",
       "         [0.23924133],\n",
       "         [0.23924133],\n",
       "         [0.65198101],\n",
       "         [0.65198101],\n",
       "         [0.84484304],\n",
       "         [0.84484304],\n",
       "         [0.58059262],\n",
       "         [0.58059262],\n",
       "         [0.72286381],\n",
       "         [0.72286381],\n",
       "         [0.62526912],\n",
       "         [0.62526912],\n",
       "         [0.42449646],\n",
       "         [0.42449646],\n",
       "         [0.2518538 ],\n",
       "         [0.2518538 ],\n",
       "         [0.03106449],\n",
       "         [0.03106449],\n",
       "         [0.61096281],\n",
       "         [0.61096281],\n",
       "         [0.64726019],\n",
       "         [0.64726019],\n",
       "         [0.32148217],\n",
       "         [0.32148217],\n",
       "         [0.68174227],\n",
       "         [0.68174227],\n",
       "         [0.08285968],\n",
       "         [0.08285968],\n",
       "         [0.63258351],\n",
       "         [0.63258351],\n",
       "         [0.38527631],\n",
       "         [0.38527631],\n",
       "         [0.6877131 ],\n",
       "         [0.6877131 ],\n",
       "         [0.73764934],\n",
       "         [0.73764934],\n",
       "         [0.60200724],\n",
       "         [0.60200724],\n",
       "         [0.15316944],\n",
       "         [0.15316944],\n",
       "         [0.17429604],\n",
       "         [0.17429604],\n",
       "         [0.12650037],\n",
       "         [0.12650037],\n",
       "         [0.09205221],\n",
       "         [0.09205221],\n",
       "         [0.03412277],\n",
       "         [0.03412277],\n",
       "         [0.15660034],\n",
       "         [0.15660034],\n",
       "         [0.59824852],\n",
       "         [0.59824852],\n",
       "         [0.83345786],\n",
       "         [0.83345786],\n",
       "         [0.11415494],\n",
       "         [0.11415494],\n",
       "         [0.53530798],\n",
       "         [0.53530798],\n",
       "         [0.13920753],\n",
       "         [0.13920753],\n",
       "         [0.03963607],\n",
       "         [0.03963607],\n",
       "         [0.77026997],\n",
       "         [0.77026997],\n",
       "         [0.92420151],\n",
       "         [0.92420151],\n",
       "         [0.6270321 ],\n",
       "         [0.6270321 ],\n",
       "         [0.60302745],\n",
       "         [0.60302745],\n",
       "         [0.57637495],\n",
       "         [0.57637495],\n",
       "         [0.59631179],\n",
       "         [0.59631179],\n",
       "         [0.27728029],\n",
       "         [0.27728029],\n",
       "         [0.03204634],\n",
       "         [0.03204634],\n",
       "         [0.43623467],\n",
       "         [0.43623467],\n",
       "         [0.606807  ],\n",
       "         [0.606807  ],\n",
       "         [0.3798239 ],\n",
       "         [0.3798239 ],\n",
       "         [0.46084147],\n",
       "         [0.46084147],\n",
       "         [0.9123026 ],\n",
       "         [0.9123026 ],\n",
       "         [0.49008995],\n",
       "         [0.49008995],\n",
       "         [0.03477018],\n",
       "         [0.03477018],\n",
       "         [0.59786314],\n",
       "         [0.59786314],\n",
       "         [0.8493491 ],\n",
       "         [0.8493491 ],\n",
       "         [0.48335155],\n",
       "         [0.48335155],\n",
       "         [0.60096265],\n",
       "         [0.60096265],\n",
       "         [0.31728811],\n",
       "         [0.31728811],\n",
       "         [0.39695547],\n",
       "         [0.39695547],\n",
       "         [0.01316793],\n",
       "         [0.01316793],\n",
       "         [0.99079327],\n",
       "         [0.99079327],\n",
       "         [0.22759296],\n",
       "         [0.22759296],\n",
       "         [0.89437833],\n",
       "         [0.89437833],\n",
       "         [0.793784  ],\n",
       "         [0.793784  ],\n",
       "         [0.55681677],\n",
       "         [0.55681677],\n",
       "         [0.48659791],\n",
       "         [0.48659791],\n",
       "         [0.13844111],\n",
       "         [0.13844111],\n",
       "         [0.88756723],\n",
       "         [0.88756723],\n",
       "         [0.76877656],\n",
       "         [0.76877656],\n",
       "         [0.48969777],\n",
       "         [0.48969777],\n",
       "         [0.48426649],\n",
       "         [0.48426649],\n",
       "         [0.99747668],\n",
       "         [0.99747668],\n",
       "         [0.32006914],\n",
       "         [0.32006914],\n",
       "         [0.08989511],\n",
       "         [0.08989511],\n",
       "         [0.63559007],\n",
       "         [0.63559007],\n",
       "         [0.95458285],\n",
       "         [0.95458285],\n",
       "         [0.42613672],\n",
       "         [0.42613672],\n",
       "         [0.21434245],\n",
       "         [0.21434245],\n",
       "         [0.2542243 ],\n",
       "         [0.2542243 ],\n",
       "         [0.96577717],\n",
       "         [0.96577717],\n",
       "         [0.17763915],\n",
       "         [0.17763915],\n",
       "         [0.25207414],\n",
       "         [0.25207414],\n",
       "         [0.09727595],\n",
       "         [0.09727595],\n",
       "         [0.03564473],\n",
       "         [0.03564473],\n",
       "         [0.56524854],\n",
       "         [0.56524854],\n",
       "         [0.15720018],\n",
       "         [0.15720018],\n",
       "         [0.28553539],\n",
       "         [0.28553539],\n",
       "         [0.64440046],\n",
       "         [0.64440046],\n",
       "         [0.47157409],\n",
       "         [0.47157409],\n",
       "         [0.06492143],\n",
       "         [0.06492143],\n",
       "         [0.12395677],\n",
       "         [0.12395677],\n",
       "         [0.83001712],\n",
       "         [0.83001712],\n",
       "         [0.02417555],\n",
       "         [0.02417555],\n",
       "         [0.70069733],\n",
       "         [0.70069733],\n",
       "         [0.88335322],\n",
       "         [0.88335322],\n",
       "         [0.14038326],\n",
       "         [0.14038326],\n",
       "         [0.01833888],\n",
       "         [0.01833888],\n",
       "         [0.01075146],\n",
       "         [0.01075146],\n",
       "         [0.00691355],\n",
       "         [0.00691355],\n",
       "         [0.77636189],\n",
       "         [0.77636189],\n",
       "         [0.24485282],\n",
       "         [0.24485282],\n",
       "         [0.2981085 ],\n",
       "         [0.2981085 ],\n",
       "         [0.49174516],\n",
       "         [0.49174516],\n",
       "         [0.35103086],\n",
       "         [0.35103086],\n",
       "         [0.60120237],\n",
       "         [0.60120237]])}}"
      ]
     },
     "execution_count": 1,
     "metadata": {},
     "output_type": "execute_result"
    }
   ],
   "source": [
    "ds = load_by_id(run_id_a)\n",
    "ds.get_parameter_data('x1')"
   ]
  },
  {
   "cell_type": "code",
   "execution_count": null,
   "metadata": {},
   "outputs": [],
   "source": []
  }
 ],
 "metadata": {
  "kernelspec": {
   "display_name": "Python 3",
   "language": "python",
   "name": "python3"
  },
  "language_info": {
   "codemirror_mode": {
    "name": "ipython",
    "version": 3
   },
   "file_extension": ".py",
   "mimetype": "text/x-python",
   "name": "python",
   "nbconvert_exporter": "python",
   "pygments_lexer": "ipython3",
   "version": "3.7.9"
  },
  "nbsphinx": {
   "timeout": 600
  },
  "toc": {
   "base_numbering": 1,
   "nav_menu": {},
   "number_sections": true,
   "sideBar": true,
   "skip_h1_title": false,
   "title_cell": "Table of Contents",
   "title_sidebar": "Contents",
   "toc_cell": false,
   "toc_position": {},
   "toc_section_display": true,
   "toc_window_display": false
  },
  "varInspector": {
   "cols": {
    "lenName": 16,
    "lenType": 16,
    "lenVar": 40
   },
   "kernels_config": {
    "python": {
     "delete_cmd_postfix": "",
     "delete_cmd_prefix": "del ",
     "library": "var_list.py",
     "varRefreshCmd": "print(var_dic_list())"
    },
    "r": {
     "delete_cmd_postfix": ") ",
     "delete_cmd_prefix": "rm(",
     "library": "var_list.r",
     "varRefreshCmd": "cat(var_dic_list()) "
    }
   },
   "types_to_exclude": [
    "module",
    "function",
    "builtin_function_or_method",
    "instance",
    "_Feature"
   ],
   "window_display": false
  }
 },
 "nbformat": 4,
 "nbformat_minor": 2
}
