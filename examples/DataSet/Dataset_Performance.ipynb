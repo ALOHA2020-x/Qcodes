{
 "cells": [
  {
   "cell_type": "markdown",
   "metadata": {},
   "source": [
    "# DataSet Performance\n",
    "\n",
    "This notebook shows the trade-off between inserting data into a database row-by-row and as binary blobs. Inserting the data row-by-row means that we have direct access to all the data and may perform queries directly on the values of the data. On the other hand, as we shall see, this is much slower than inserting the data directly as binary blobs."
   ]
  },
  {
   "cell_type": "markdown",
   "metadata": {},
   "source": [
    "First, we choose a new location for the database to ensure that we don't add a bunch of benchmarking data to the default one."
   ]
  },
  {
   "cell_type": "code",
   "execution_count": 1,
   "metadata": {
    "execution": {
     "iopub.execute_input": "2020-10-27T12:36:59.710237Z",
     "iopub.status.busy": "2020-10-27T12:36:59.709636Z",
     "iopub.status.idle": "2020-10-27T12:37:00.857555Z",
     "shell.execute_reply": "2020-10-27T12:37:00.856960Z"
    }
   },
   "outputs": [
    {
     "name": "stdout",
     "output_type": "stream",
     "text": [
      "Logging hadn't been started.\n",
      "Activating auto-logging. Current session state plus future input saved.\n",
      "Filename       : /home/vsts/.qcodes/logs/command_history.log\n",
      "Mode           : append\n",
      "Output logging : True\n",
      "Raw input log  : False\n",
      "Timestamping   : True\n",
      "State          : active\n"
     ]
    },
    {
     "name": "stdout",
     "output_type": "stream",
     "text": [
      "Qcodes Logfile : /home/vsts/.qcodes/logs/201027-14565-qcodes.log\n"
     ]
    }
   ],
   "source": [
    "import os\n",
    "cwd = os.getcwd()\n",
    "import qcodes as qc\n",
    "qc.config[\"core\"][\"db_location\"] = os.path.join(cwd, 'testing.db')\n"
   ]
  },
  {
   "cell_type": "code",
   "execution_count": 2,
   "metadata": {
    "execution": {
     "iopub.execute_input": "2020-10-27T12:37:00.864936Z",
     "iopub.status.busy": "2020-10-27T12:37:00.863089Z",
     "iopub.status.idle": "2020-10-27T12:37:01.059807Z",
     "shell.execute_reply": "2020-10-27T12:37:01.059015Z"
    }
   },
   "outputs": [],
   "source": [
    "%matplotlib inline\n",
    "import time\n",
    "import matplotlib.pyplot as plt\n",
    "import numpy as np\n",
    "\n",
    "import qcodes as qc\n",
    "from qcodes.instrument.parameter import ManualParameter\n",
    "from qcodes.dataset.experiment_container import (Experiment,\n",
    "                                                 load_last_experiment,\n",
    "                                                 new_experiment)\n",
    "from qcodes.dataset.sqlite.database import initialise_database\n",
    "from qcodes import load_or_create_experiment\n",
    "from qcodes.dataset.measurements import Measurement"
   ]
  },
  {
   "cell_type": "code",
   "execution_count": 3,
   "metadata": {
    "execution": {
     "iopub.execute_input": "2020-10-27T12:37:01.064664Z",
     "iopub.status.busy": "2020-10-27T12:37:01.063994Z",
     "iopub.status.idle": "2020-10-27T12:37:01.178662Z",
     "shell.execute_reply": "2020-10-27T12:37:01.179172Z"
    }
   },
   "outputs": [
    {
     "name": "stdout",
     "output_type": "stream",
     "text": [
      "\r",
      "0it [00:00, ?it/s]"
     ]
    },
    {
     "name": "stdout",
     "output_type": "stream",
     "text": [
      "\r",
      "Upgrading database; v0 -> v1: : 0it [00:00, ?it/s]"
     ]
    },
    {
     "name": "stdout",
     "output_type": "stream",
     "text": [
      "\r",
      "Upgrading database; v0 -> v1: : 0it [00:00, ?it/s]"
     ]
    },
    {
     "name": "stdout",
     "output_type": "stream",
     "text": [
      "\n",
      "\r",
      "  0%|          | 0/1 [00:00<?, ?it/s]"
     ]
    },
    {
     "name": "stdout",
     "output_type": "stream",
     "text": [
      "\r",
      "Upgrading database; v1 -> v2:   0%|          | 0/1 [00:00<?, ?it/s]"
     ]
    },
    {
     "name": "stdout",
     "output_type": "stream",
     "text": [
      "\r",
      "Upgrading database; v1 -> v2: 100%|██████████| 1/1 [00:00<00:00, 419.51it/s]"
     ]
    },
    {
     "name": "stdout",
     "output_type": "stream",
     "text": [
      "\n",
      "\r",
      "0it [00:00, ?it/s]"
     ]
    },
    {
     "name": "stdout",
     "output_type": "stream",
     "text": [
      "\r",
      "Upgrading database; v2 -> v3: : 0it [00:00, ?it/s]"
     ]
    },
    {
     "name": "stdout",
     "output_type": "stream",
     "text": [
      "\r",
      "Upgrading database; v2 -> v3: : 0it [00:00, ?it/s]"
     ]
    },
    {
     "name": "stdout",
     "output_type": "stream",
     "text": [
      "\n",
      "\r",
      "0it [00:00, ?it/s]"
     ]
    },
    {
     "name": "stdout",
     "output_type": "stream",
     "text": [
      "\r",
      "Upgrading database; v3 -> v4: : 0it [00:00, ?it/s]"
     ]
    },
    {
     "name": "stdout",
     "output_type": "stream",
     "text": [
      "\r",
      "Upgrading database; v3 -> v4: : 0it [00:00, ?it/s]"
     ]
    },
    {
     "name": "stdout",
     "output_type": "stream",
     "text": [
      "\n",
      "\r",
      "  0%|          | 0/1 [00:00<?, ?it/s]"
     ]
    },
    {
     "name": "stdout",
     "output_type": "stream",
     "text": [
      "\r",
      "Upgrading database; v4 -> v5:   0%|          | 0/1 [00:00<?, ?it/s]"
     ]
    },
    {
     "name": "stdout",
     "output_type": "stream",
     "text": [
      "\r",
      "Upgrading database; v4 -> v5: 100%|██████████| 1/1 [00:00<00:00, 488.22it/s]"
     ]
    },
    {
     "name": "stdout",
     "output_type": "stream",
     "text": [
      "\n",
      "\r",
      "0it [00:00, ?it/s]"
     ]
    },
    {
     "name": "stdout",
     "output_type": "stream",
     "text": [
      "\r",
      "Upgrading database; v5 -> v6: : 0it [00:00, ?it/s]"
     ]
    },
    {
     "name": "stdout",
     "output_type": "stream",
     "text": [
      "\r",
      "Upgrading database; v5 -> v6: : 0it [00:00, ?it/s]"
     ]
    },
    {
     "name": "stdout",
     "output_type": "stream",
     "text": [
      "\n",
      "\r",
      "  0%|          | 0/1 [00:00<?, ?it/s]"
     ]
    },
    {
     "name": "stdout",
     "output_type": "stream",
     "text": [
      "\r",
      "Upgrading database; v6 -> v7:   0%|          | 0/1 [00:00<?, ?it/s]"
     ]
    },
    {
     "name": "stdout",
     "output_type": "stream",
     "text": [
      "\r",
      "Upgrading database; v6 -> v7: 100%|██████████| 1/1 [00:00<00:00, 357.51it/s]"
     ]
    },
    {
     "name": "stdout",
     "output_type": "stream",
     "text": [
      "\n",
      "\r",
      "  0%|          | 0/1 [00:00<?, ?it/s]"
     ]
    },
    {
     "name": "stdout",
     "output_type": "stream",
     "text": [
      "\r",
      "Upgrading database; v7 -> v8:   0%|          | 0/1 [00:00<?, ?it/s]"
     ]
    },
    {
     "name": "stdout",
     "output_type": "stream",
     "text": [
      "\r",
      "Upgrading database; v7 -> v8: 100%|██████████| 1/1 [00:00<00:00, 744.46it/s]"
     ]
    },
    {
     "name": "stdout",
     "output_type": "stream",
     "text": [
      "\n",
      "\r",
      "  0%|          | 0/1 [00:00<?, ?it/s]"
     ]
    },
    {
     "name": "stdout",
     "output_type": "stream",
     "text": [
      "\r",
      "Upgrading database; v8 -> v9:   0%|          | 0/1 [00:00<?, ?it/s]"
     ]
    },
    {
     "name": "stdout",
     "output_type": "stream",
     "text": [
      "\r",
      "Upgrading database; v8 -> v9: 100%|██████████| 1/1 [00:00<00:00, 654.95it/s]"
     ]
    },
    {
     "name": "stdout",
     "output_type": "stream",
     "text": [
      "\n"
     ]
    }
   ],
   "source": [
    "initialise_database()\n",
    "exp = load_or_create_experiment(experiment_name='tutorial_exp', sample_name=\"no sample\")"
   ]
  },
  {
   "cell_type": "markdown",
   "metadata": {},
   "source": [
    "Here, we define a simple function to benchmark the time it takes to insert n points with either numeric or array data type.\n",
    "We will compare both the time used to call ``add_result`` and the time used for the full measurement."
   ]
  },
  {
   "cell_type": "code",
   "execution_count": 4,
   "metadata": {
    "execution": {
     "iopub.execute_input": "2020-10-27T12:37:01.188380Z",
     "iopub.status.busy": "2020-10-27T12:37:01.187168Z",
     "iopub.status.idle": "2020-10-27T12:37:01.189154Z",
     "shell.execute_reply": "2020-10-27T12:37:01.189697Z"
    }
   },
   "outputs": [],
   "source": [
    "def insert_data(paramtype, npoints, nreps=1):\n",
    "\n",
    "    meas = Measurement(exp=exp)\n",
    "\n",
    "    x1 = ManualParameter('x1')\n",
    "    x2 = ManualParameter('x2')\n",
    "    x3 = ManualParameter('x3')\n",
    "    y1 = ManualParameter('y1')\n",
    "    y2 = ManualParameter('y2')\n",
    "\n",
    "    meas.register_parameter(x1, paramtype=paramtype)\n",
    "    meas.register_parameter(x2, paramtype=paramtype)\n",
    "    meas.register_parameter(x3, paramtype=paramtype)\n",
    "    meas.register_parameter(y1, setpoints=[x1, x2, x3],\n",
    "                            paramtype=paramtype)\n",
    "    meas.register_parameter(y2, setpoints=[x1, x2, x3],\n",
    "                            paramtype=paramtype)\n",
    "    start = time.perf_counter()\n",
    "    with meas.run() as datasaver:\n",
    "        start_adding = time.perf_counter()\n",
    "        for i in range(nreps):\n",
    "            datasaver.add_result((x1, np.random.rand(npoints)),\n",
    "                                 (x2, np.random.rand(npoints)),\n",
    "                                 (x3, np.random.rand(npoints)),\n",
    "                                 (y1, np.random.rand(npoints)),\n",
    "                                 (y2, np.random.rand(npoints)))\n",
    "        stop_adding = time.perf_counter()\n",
    "        run_id = datasaver.run_id\n",
    "    stop = time.perf_counter()\n",
    "    tot_time = stop - start\n",
    "    add_time = stop_adding - start_adding\n",
    "    return tot_time, add_time, run_id"
   ]
  },
  {
   "cell_type": "markdown",
   "metadata": {},
   "source": [
    "## Comparison between numeric/array data and binary blob"
   ]
  },
  {
   "cell_type": "markdown",
   "metadata": {},
   "source": [
    "### Case1: Short experiment time"
   ]
  },
  {
   "cell_type": "code",
   "execution_count": 5,
   "metadata": {
    "execution": {
     "iopub.execute_input": "2020-10-27T12:37:01.195908Z",
     "iopub.status.busy": "2020-10-27T12:37:01.195266Z",
     "iopub.status.idle": "2020-10-27T12:37:02.044214Z",
     "shell.execute_reply": "2020-10-27T12:37:02.044716Z"
    }
   },
   "outputs": [
    {
     "name": "stdout",
     "output_type": "stream",
     "text": [
      "Starting experimental run with id: 1. \n",
      "Starting experimental run with id: 2. \n",
      "Starting experimental run with id: 3. \n",
      "Starting experimental run with id: 4. \n",
      "Starting experimental run with id: 5. \n"
     ]
    },
    {
     "name": "stdout",
     "output_type": "stream",
     "text": [
      "Starting experimental run with id: 6. \n"
     ]
    },
    {
     "name": "stdout",
     "output_type": "stream",
     "text": [
      "Starting experimental run with id: 7. \n"
     ]
    },
    {
     "name": "stdout",
     "output_type": "stream",
     "text": [
      "Starting experimental run with id: 8. \n",
      "Starting experimental run with id: 9. \n"
     ]
    },
    {
     "name": "stdout",
     "output_type": "stream",
     "text": [
      "Starting experimental run with id: 10. \n",
      "Starting experimental run with id: 11. \n"
     ]
    },
    {
     "name": "stdout",
     "output_type": "stream",
     "text": [
      "Starting experimental run with id: 12. \n",
      "Starting experimental run with id: 13. \n"
     ]
    },
    {
     "name": "stdout",
     "output_type": "stream",
     "text": [
      "Starting experimental run with id: 14. \n"
     ]
    }
   ],
   "source": [
    "sizes = [1,500,1000,2000,3000,4000,5000]\n",
    "t_numeric = []\n",
    "t_numeric_add = []\n",
    "t_array = []\n",
    "t_array_add = []\n",
    "for size in sizes:\n",
    "    tn, tna, run_id_n =  insert_data('numeric', size)\n",
    "    t_numeric.append(tn)\n",
    "    t_numeric_add.append(tna)\n",
    "\n",
    "    ta, taa, run_id_a =  insert_data('array', size)\n",
    "    t_array.append(ta)\n",
    "    t_array_add.append(taa)"
   ]
  },
  {
   "cell_type": "code",
   "execution_count": 6,
   "metadata": {
    "execution": {
     "iopub.execute_input": "2020-10-27T12:37:02.065175Z",
     "iopub.status.busy": "2020-10-27T12:37:02.064537Z",
     "iopub.status.idle": "2020-10-27T12:37:02.285573Z",
     "shell.execute_reply": "2020-10-27T12:37:02.285035Z"
    }
   },
   "outputs": [
    {
     "data": {
      "image/png": "[encoded data removed]",
      "text/plain": [
       "<Figure size 432x288 with 1 Axes>"
      ]
     },
     "metadata": {
      "needs_background": "light"
     },
     "output_type": "display_data"
    }
   ],
   "source": [
    "fig, ax = plt.subplots(1,1)\n",
    "ax.plot(sizes, t_numeric, 'o-', label='Inserting row-by-row')\n",
    "ax.plot(sizes, t_numeric_add, 'o-', label='Inserting row-by-row: add_result only')\n",
    "ax.plot(sizes, t_array, 'd-', label='Inserting as binary blob')\n",
    "ax.plot(sizes, t_array_add, 'd-', label='Inserting as binary blob: add_result only')\n",
    "ax.legend()\n",
    "ax.set_xlabel('Array length')\n",
    "ax.set_ylabel('Time (s)')\n",
    "fig.tight_layout()"
   ]
  },
  {
   "cell_type": "markdown",
   "metadata": {},
   "source": [
    "As shown in the latter figure, the time to setup and and close the experiment is approximately 0.4 sec. In case of small array sizes, the difference between inserting values of data as arrays and inserting them row-by-row is relatively unimportant. At larger array sizes, i.e. above 10000 points, the cost of writing data as individual datapoints starts to become important.\n"
   ]
  },
  {
   "cell_type": "markdown",
   "metadata": {},
   "source": [
    "### Case2: Long experiment time "
   ]
  },
  {
   "cell_type": "code",
   "execution_count": 7,
   "metadata": {
    "execution": {
     "iopub.execute_input": "2020-10-27T12:37:02.296663Z",
     "iopub.status.busy": "2020-10-27T12:37:02.295567Z",
     "iopub.status.idle": "2020-10-27T12:38:02.579594Z",
     "shell.execute_reply": "2020-10-27T12:38:02.579114Z"
    }
   },
   "outputs": [
    {
     "name": "stdout",
     "output_type": "stream",
     "text": [
      "Starting experimental run with id: 15. \n",
      "Starting experimental run with id: 16. \n",
      "Starting experimental run with id: 17. \n"
     ]
    },
    {
     "name": "stdout",
     "output_type": "stream",
     "text": [
      "Starting experimental run with id: 18. \n",
      "Starting experimental run with id: 19. \n"
     ]
    },
    {
     "name": "stdout",
     "output_type": "stream",
     "text": [
      "Starting experimental run with id: 20. \n"
     ]
    },
    {
     "name": "stdout",
     "output_type": "stream",
     "text": [
      "Starting experimental run with id: 21. \n"
     ]
    },
    {
     "name": "stdout",
     "output_type": "stream",
     "text": [
      "Starting experimental run with id: 22. \n"
     ]
    },
    {
     "name": "stdout",
     "output_type": "stream",
     "text": [
      "Starting experimental run with id: 23. \n"
     ]
    },
    {
     "name": "stdout",
     "output_type": "stream",
     "text": [
      "Starting experimental run with id: 24. \n"
     ]
    },
    {
     "name": "stdout",
     "output_type": "stream",
     "text": [
      "Starting experimental run with id: 25. \n"
     ]
    },
    {
     "name": "stdout",
     "output_type": "stream",
     "text": [
      "Starting experimental run with id: 26. \n"
     ]
    },
    {
     "name": "stdout",
     "output_type": "stream",
     "text": [
      "Starting experimental run with id: 27. \n"
     ]
    },
    {
     "name": "stdout",
     "output_type": "stream",
     "text": [
      "Starting experimental run with id: 28. \n"
     ]
    }
   ],
   "source": [
    "sizes = [1,500,1000,2000,3000,4000,5000]\n",
    "nreps = 100\n",
    "t_numeric = []\n",
    "t_numeric_add = []\n",
    "t_numeric_run_ids = []\n",
    "t_array = []\n",
    "t_array_add = []\n",
    "t_array_run_ids = []\n",
    "for size in sizes:\n",
    "    tn, tna, run_id_n =  insert_data('numeric', size, nreps=nreps)\n",
    "    t_numeric.append(tn)\n",
    "    t_numeric_add.append(tna)\n",
    "    t_numeric_run_ids.append(run_id_n)\n",
    "\n",
    "    ta, taa, run_id_a =  insert_data('array', size, nreps=nreps)\n",
    "    t_array.append(ta)\n",
    "    t_array_add.append(taa)\n",
    "    t_array_run_ids.append(run_id_a)"
   ]
  },
  {
   "cell_type": "code",
   "execution_count": 8,
   "metadata": {
    "execution": {
     "iopub.execute_input": "2020-10-27T12:38:02.601253Z",
     "iopub.status.busy": "2020-10-27T12:38:02.600595Z",
     "iopub.status.idle": "2020-10-27T12:38:02.819137Z",
     "shell.execute_reply": "2020-10-27T12:38:02.818609Z"
    },
    "scrolled": true
   },
   "outputs": [
    {
     "data": {
      "image/png": "[encoded data removed]",
      "text/plain": [
       "<Figure size 432x288 with 1 Axes>"
      ]
     },
     "metadata": {
      "needs_background": "light"
     },
     "output_type": "display_data"
    }
   ],
   "source": [
    "fig, ax = plt.subplots(1,1)\n",
    "ax.plot(sizes, t_numeric, 'o-', label='Inserting row-by-row')\n",
    "ax.plot(sizes, t_numeric_add, 'o-', label='Inserting row-by-row: add_result only')\n",
    "ax.plot(sizes, t_array, 'd-', label='Inserting as binary blob')\n",
    "ax.plot(sizes, t_array_add, 'd-', label='Inserting as binary blob: add_result only')\n",
    "ax.legend()\n",
    "ax.set_xlabel('Array length')\n",
    "ax.set_ylabel('Time (s)')\n",
    "fig.tight_layout()"
   ]
  },
  {
   "cell_type": "markdown",
   "metadata": {},
   "source": [
    "However, as we increase the length of the experiment, as seen here by repeating the insertion 100 times, we see a big difference between inserting values of the data row-by-row and inserting it as a binary blob."
   ]
  },
  {
   "cell_type": "markdown",
   "metadata": {},
   "source": [
    "## Loading the data "
   ]
  },
  {
   "cell_type": "code",
   "execution_count": 9,
   "metadata": {
    "execution": {
     "iopub.execute_input": "2020-10-27T12:38:02.823977Z",
     "iopub.status.busy": "2020-10-27T12:38:02.823345Z",
     "iopub.status.idle": "2020-10-27T12:38:02.826337Z",
     "shell.execute_reply": "2020-10-27T12:38:02.825663Z"
    }
   },
   "outputs": [],
   "source": [
    "from qcodes.dataset.data_set import load_by_id\n",
    "from qcodes.dataset.data_export import get_data_by_id"
   ]
  },
  {
   "cell_type": "markdown",
   "metadata": {},
   "source": [
    "As usual you can load the data by using the ``load_by_id`` function but you will notice that the different storage methods\n",
    "are reflected in shape of the data as it is retrieved. "
   ]
  },
  {
   "cell_type": "code",
   "execution_count": 10,
   "metadata": {
    "execution": {
     "iopub.execute_input": "2020-10-27T12:38:02.831129Z",
     "iopub.status.busy": "2020-10-27T12:38:02.829807Z",
     "iopub.status.idle": "2020-10-27T12:38:02.831815Z",
     "shell.execute_reply": "2020-10-27T12:38:02.832356Z"
    }
   },
   "outputs": [],
   "source": [
    "run_id_n = t_numeric_run_ids[0]\n",
    "run_id_a = t_array_run_ids[0]"
   ]
  },
  {
   "cell_type": "code",
   "execution_count": 11,
   "metadata": {
    "execution": {
     "iopub.execute_input": "2020-10-27T12:38:02.835845Z",
     "iopub.status.busy": "2020-10-27T12:38:02.835153Z",
     "iopub.status.idle": "2020-10-27T12:38:02.845804Z",
     "shell.execute_reply": "2020-10-27T12:38:02.845302Z"
    },
    "scrolled": true
   },
   "outputs": [
    {
     "data": {
      "text/plain": [
       "{'x1': {'x1': array([0.13228084, 0.13228084, 0.86024838, 0.86024838, 0.28512358,\n",
       "         0.28512358, 0.36521876, 0.36521876, 0.08833796, 0.08833796,\n",
       "         0.76169444, 0.76169444, 0.41466322, 0.41466322, 0.17594048,\n",
       "         0.17594048, 0.47620834, 0.47620834, 0.14364364, 0.14364364,\n",
       "         0.75905163, 0.75905163, 0.94390325, 0.94390325, 0.64545009,\n",
       "         0.64545009, 0.40367972, 0.40367972, 0.21399651, 0.21399651,\n",
       "         0.72605631, 0.72605631, 0.99157492, 0.99157492, 0.4363635 ,\n",
       "         0.4363635 , 0.27371263, 0.27371263, 0.98074688, 0.98074688,\n",
       "         0.65749002, 0.65749002, 0.20114186, 0.20114186, 0.45139446,\n",
       "         0.45139446, 0.06020995, 0.06020995, 0.94121925, 0.94121925,\n",
       "         0.11056451, 0.11056451, 0.82183542, 0.82183542, 0.40503187,\n",
       "         0.40503187, 0.45339965, 0.45339965, 0.83409856, 0.83409856,\n",
       "         0.63255408, 0.63255408, 0.90489178, 0.90489178, 0.38766141,\n",
       "         0.38766141, 0.06058608, 0.06058608, 0.89073174, 0.89073174,\n",
       "         0.74040955, 0.74040955, 0.44145323, 0.44145323, 0.02655633,\n",
       "         0.02655633, 0.36972007, 0.36972007, 0.83684686, 0.83684686,\n",
       "         0.49030903, 0.49030903, 0.01750961, 0.01750961, 0.60783731,\n",
       "         0.60783731, 0.16929637, 0.16929637, 0.47310191, 0.47310191,\n",
       "         0.2000394 , 0.2000394 , 0.15989228, 0.15989228, 0.92110663,\n",
       "         0.92110663, 0.02758216, 0.02758216, 0.20121782, 0.20121782,\n",
       "         0.0466153 , 0.0466153 , 0.83586147, 0.83586147, 0.22905437,\n",
       "         0.22905437, 0.43845967, 0.43845967, 0.92349087, 0.92349087,\n",
       "         0.45483459, 0.45483459, 0.91728623, 0.91728623, 0.39486537,\n",
       "         0.39486537, 0.21387648, 0.21387648, 0.08767226, 0.08767226,\n",
       "         0.08180854, 0.08180854, 0.65235258, 0.65235258, 0.97998245,\n",
       "         0.97998245, 0.91843825, 0.91843825, 0.71529525, 0.71529525,\n",
       "         0.49064495, 0.49064495, 0.29341452, 0.29341452, 0.91525774,\n",
       "         0.91525774, 0.05641342, 0.05641342, 0.63798306, 0.63798306,\n",
       "         0.21452402, 0.21452402, 0.00313484, 0.00313484, 0.09108831,\n",
       "         0.09108831, 0.41881494, 0.41881494, 0.44713138, 0.44713138,\n",
       "         0.72355329, 0.72355329, 0.29518569, 0.29518569, 0.10038688,\n",
       "         0.10038688, 0.90241554, 0.90241554, 0.60099899, 0.60099899,\n",
       "         0.66741886, 0.66741886, 0.20097636, 0.20097636, 0.48339507,\n",
       "         0.48339507, 0.65203515, 0.65203515, 0.68667361, 0.68667361,\n",
       "         0.3348239 , 0.3348239 , 0.3524039 , 0.3524039 , 0.49617884,\n",
       "         0.49617884, 0.82870305, 0.82870305, 0.66188279, 0.66188279,\n",
       "         0.45111805, 0.45111805, 0.77779914, 0.77779914, 0.4737583 ,\n",
       "         0.4737583 , 0.97701893, 0.97701893, 0.11192748, 0.11192748,\n",
       "         0.77702813, 0.77702813, 0.42418574, 0.42418574, 0.13658248,\n",
       "         0.13658248, 0.86195463, 0.86195463, 0.76566018, 0.76566018])}}"
      ]
     },
     "execution_count": 1,
     "metadata": {},
     "output_type": "execute_result"
    }
   ],
   "source": [
    "ds = load_by_id(run_id_n)\n",
    "ds.get_parameter_data('x1')"
   ]
  },
  {
   "cell_type": "markdown",
   "metadata": {},
   "source": [
    "And a dataset stored as binary arrays"
   ]
  },
  {
   "cell_type": "code",
   "execution_count": 12,
   "metadata": {
    "execution": {
     "iopub.execute_input": "2020-10-27T12:38:02.849473Z",
     "iopub.status.busy": "2020-10-27T12:38:02.848878Z",
     "iopub.status.idle": "2020-10-27T12:38:02.912297Z",
     "shell.execute_reply": "2020-10-27T12:38:02.912959Z"
    },
    "scrolled": true
   },
   "outputs": [
    {
     "data": {
      "text/plain": [
       "{'x1': {'x1': array([[0.5983858 ],\n",
       "         [0.5983858 ],\n",
       "         [0.24380331],\n",
       "         [0.24380331],\n",
       "         [0.98188251],\n",
       "         [0.98188251],\n",
       "         [0.86137108],\n",
       "         [0.86137108],\n",
       "         [0.69990264],\n",
       "         [0.69990264],\n",
       "         [0.95353218],\n",
       "         [0.95353218],\n",
       "         [0.67363955],\n",
       "         [0.67363955],\n",
       "         [0.82449202],\n",
       "         [0.82449202],\n",
       "         [0.91471539],\n",
       "         [0.91471539],\n",
       "         [0.37991167],\n",
       "         [0.37991167],\n",
       "         [0.37110544],\n",
       "         [0.37110544],\n",
       "         [0.98914169],\n",
       "         [0.98914169],\n",
       "         [0.73912242],\n",
       "         [0.73912242],\n",
       "         [0.76604094],\n",
       "         [0.76604094],\n",
       "         [0.1571233 ],\n",
       "         [0.1571233 ],\n",
       "         [0.68300949],\n",
       "         [0.68300949],\n",
       "         [0.75256667],\n",
       "         [0.75256667],\n",
       "         [0.41200929],\n",
       "         [0.41200929],\n",
       "         [0.78833444],\n",
       "         [0.78833444],\n",
       "         [0.91975417],\n",
       "         [0.91975417],\n",
       "         [0.97041329],\n",
       "         [0.97041329],\n",
       "         [0.56990453],\n",
       "         [0.56990453],\n",
       "         [0.82372182],\n",
       "         [0.82372182],\n",
       "         [0.61674307],\n",
       "         [0.61674307],\n",
       "         [0.65986462],\n",
       "         [0.65986462],\n",
       "         [0.08972134],\n",
       "         [0.08972134],\n",
       "         [0.33816587],\n",
       "         [0.33816587],\n",
       "         [0.54315246],\n",
       "         [0.54315246],\n",
       "         [0.72161747],\n",
       "         [0.72161747],\n",
       "         [0.38915274],\n",
       "         [0.38915274],\n",
       "         [0.93845835],\n",
       "         [0.93845835],\n",
       "         [0.69032325],\n",
       "         [0.69032325],\n",
       "         [0.302355  ],\n",
       "         [0.302355  ],\n",
       "         [0.35683141],\n",
       "         [0.35683141],\n",
       "         [0.92188859],\n",
       "         [0.92188859],\n",
       "         [0.05662744],\n",
       "         [0.05662744],\n",
       "         [0.9962797 ],\n",
       "         [0.9962797 ],\n",
       "         [0.35232137],\n",
       "         [0.35232137],\n",
       "         [0.00798508],\n",
       "         [0.00798508],\n",
       "         [0.28411603],\n",
       "         [0.28411603],\n",
       "         [0.84463295],\n",
       "         [0.84463295],\n",
       "         [0.26251436],\n",
       "         [0.26251436],\n",
       "         [0.41357977],\n",
       "         [0.41357977],\n",
       "         [0.81536583],\n",
       "         [0.81536583],\n",
       "         [0.26487694],\n",
       "         [0.26487694],\n",
       "         [0.63360614],\n",
       "         [0.63360614],\n",
       "         [0.3651441 ],\n",
       "         [0.3651441 ],\n",
       "         [0.43573164],\n",
       "         [0.43573164],\n",
       "         [0.61481757],\n",
       "         [0.61481757],\n",
       "         [0.27303141],\n",
       "         [0.27303141],\n",
       "         [0.93638146],\n",
       "         [0.93638146],\n",
       "         [0.16261914],\n",
       "         [0.16261914],\n",
       "         [0.25764515],\n",
       "         [0.25764515],\n",
       "         [0.94573044],\n",
       "         [0.94573044],\n",
       "         [0.46362694],\n",
       "         [0.46362694],\n",
       "         [0.04147656],\n",
       "         [0.04147656],\n",
       "         [0.25729099],\n",
       "         [0.25729099],\n",
       "         [0.84276411],\n",
       "         [0.84276411],\n",
       "         [0.77488195],\n",
       "         [0.77488195],\n",
       "         [0.18813357],\n",
       "         [0.18813357],\n",
       "         [0.41639014],\n",
       "         [0.41639014],\n",
       "         [0.16980021],\n",
       "         [0.16980021],\n",
       "         [0.81310221],\n",
       "         [0.81310221],\n",
       "         [0.4765095 ],\n",
       "         [0.4765095 ],\n",
       "         [0.64556618],\n",
       "         [0.64556618],\n",
       "         [0.1747356 ],\n",
       "         [0.1747356 ],\n",
       "         [0.96759616],\n",
       "         [0.96759616],\n",
       "         [0.18204945],\n",
       "         [0.18204945],\n",
       "         [0.68103783],\n",
       "         [0.68103783],\n",
       "         [0.26206529],\n",
       "         [0.26206529],\n",
       "         [0.58465455],\n",
       "         [0.58465455],\n",
       "         [0.24146768],\n",
       "         [0.24146768],\n",
       "         [0.07725256],\n",
       "         [0.07725256],\n",
       "         [0.97135329],\n",
       "         [0.97135329],\n",
       "         [0.05383657],\n",
       "         [0.05383657],\n",
       "         [0.2317254 ],\n",
       "         [0.2317254 ],\n",
       "         [0.3374249 ],\n",
       "         [0.3374249 ],\n",
       "         [0.29316432],\n",
       "         [0.29316432],\n",
       "         [0.49095385],\n",
       "         [0.49095385],\n",
       "         [0.31210806],\n",
       "         [0.31210806],\n",
       "         [0.29648654],\n",
       "         [0.29648654],\n",
       "         [0.88626863],\n",
       "         [0.88626863],\n",
       "         [0.75829136],\n",
       "         [0.75829136],\n",
       "         [0.84308144],\n",
       "         [0.84308144],\n",
       "         [0.02759405],\n",
       "         [0.02759405],\n",
       "         [0.22100275],\n",
       "         [0.22100275],\n",
       "         [0.52506787],\n",
       "         [0.52506787],\n",
       "         [0.44668349],\n",
       "         [0.44668349],\n",
       "         [0.3398235 ],\n",
       "         [0.3398235 ],\n",
       "         [0.01777961],\n",
       "         [0.01777961],\n",
       "         [0.04548494],\n",
       "         [0.04548494],\n",
       "         [0.95209795],\n",
       "         [0.95209795],\n",
       "         [0.76335134],\n",
       "         [0.76335134],\n",
       "         [0.90877345],\n",
       "         [0.90877345],\n",
       "         [0.39414343],\n",
       "         [0.39414343],\n",
       "         [0.67475174],\n",
       "         [0.67475174],\n",
       "         [0.20968306],\n",
       "         [0.20968306],\n",
       "         [0.17708383],\n",
       "         [0.17708383],\n",
       "         [0.84183209],\n",
       "         [0.84183209],\n",
       "         [0.82413031],\n",
       "         [0.82413031]])}}"
      ]
     },
     "execution_count": 1,
     "metadata": {},
     "output_type": "execute_result"
    }
   ],
   "source": [
    "ds = load_by_id(run_id_a)\n",
    "ds.get_parameter_data('x1')"
   ]
  },
  {
   "cell_type": "code",
   "execution_count": null,
   "metadata": {},
   "outputs": [],
   "source": []
  }
 ],
 "metadata": {
  "kernelspec": {
   "display_name": "Python 3",
   "language": "python",
   "name": "python3"
  },
  "language_info": {
   "codemirror_mode": {
    "name": "ipython",
    "version": 3
   },
   "file_extension": ".py",
   "mimetype": "text/x-python",
   "name": "python",
   "nbconvert_exporter": "python",
   "pygments_lexer": "ipython3",
   "version": "3.7.7"
  },
  "nbsphinx": {
   "timeout": 600
  },
  "toc": {
   "base_numbering": 1,
   "nav_menu": {},
   "number_sections": true,
   "sideBar": true,
   "skip_h1_title": false,
   "title_cell": "Table of Contents",
   "title_sidebar": "Contents",
   "toc_cell": false,
   "toc_position": {},
   "toc_section_display": true,
   "toc_window_display": false
  },
  "varInspector": {
   "cols": {
    "lenName": 16,
    "lenType": 16,
    "lenVar": 40
   },
   "kernels_config": {
    "python": {
     "delete_cmd_postfix": "",
     "delete_cmd_prefix": "del ",
     "library": "var_list.py",
     "varRefreshCmd": "print(var_dic_list())"
    },
    "r": {
     "delete_cmd_postfix": ") ",
     "delete_cmd_prefix": "rm(",
     "library": "var_list.r",
     "varRefreshCmd": "cat(var_dic_list()) "
    }
   },
   "types_to_exclude": [
    "module",
    "function",
    "builtin_function_or_method",
    "instance",
    "_Feature"
   ],
   "window_display": false
  }
 },
 "nbformat": 4,
 "nbformat_minor": 2
}
