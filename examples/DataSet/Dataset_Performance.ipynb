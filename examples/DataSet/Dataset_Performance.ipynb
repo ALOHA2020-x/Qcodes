{
 "cells": [
  {
   "cell_type": "markdown",
   "metadata": {},
   "source": [
    "# DataSet Performance\n",
    "\n",
    "This notebook shows the trade-off between inserting data into a database row-by-row and as binary blobs. Inserting the data row-by-row means that we have direct access to all the data and may perform queries directly on the values of the data. On the other hand, as we shall see, this is much slower than inserting the data directly as binary blobs."
   ]
  },
  {
   "cell_type": "markdown",
   "metadata": {},
   "source": [
    "First, we choose a new location for the database to ensure that we don't add a bunch of benchmarking data to the default one."
   ]
  },
  {
   "cell_type": "code",
   "execution_count": 1,
   "metadata": {
    "execution": {
     "iopub.execute_input": "2021-02-17T00:49:25.297868Z",
     "iopub.status.busy": "2021-02-17T00:49:25.297179Z",
     "iopub.status.idle": "2021-02-17T00:49:26.238220Z",
     "shell.execute_reply": "2021-02-17T00:49:26.238730Z"
    }
   },
   "outputs": [
    {
     "name": "stdout",
     "output_type": "stream",
     "text": [
      "Logging hadn't been started.\n",
      "Activating auto-logging. Current session state plus future input saved.\n",
      "Filename       : /home/runner/.qcodes/logs/command_history.log\n",
      "Mode           : append\n",
      "Output logging : True\n",
      "Raw input log  : False\n",
      "Timestamping   : True\n",
      "State          : active\n"
     ]
    },
    {
     "name": "stdout",
     "output_type": "stream",
     "text": [
      "Qcodes Logfile : /home/runner/.qcodes/logs/210217-3760-qcodes.log\n"
     ]
    }
   ],
   "source": [
    "import os\n",
    "cwd = os.getcwd()\n",
    "import qcodes as qc\n",
    "qc.config[\"core\"][\"db_location\"] = os.path.join(cwd, 'testing.db')\n"
   ]
  },
  {
   "cell_type": "code",
   "execution_count": 2,
   "metadata": {
    "execution": {
     "iopub.execute_input": "2021-02-17T00:49:26.245594Z",
     "iopub.status.busy": "2021-02-17T00:49:26.244534Z",
     "iopub.status.idle": "2021-02-17T00:49:26.444100Z",
     "shell.execute_reply": "2021-02-17T00:49:26.443502Z"
    }
   },
   "outputs": [],
   "source": [
    "%matplotlib inline\n",
    "import time\n",
    "import matplotlib.pyplot as plt\n",
    "import numpy as np\n",
    "\n",
    "import qcodes as qc\n",
    "from qcodes.instrument.parameter import ManualParameter\n",
    "from qcodes.dataset.experiment_container import (Experiment,\n",
    "                                                 load_last_experiment,\n",
    "                                                 new_experiment)\n",
    "from qcodes.dataset.sqlite.database import initialise_database\n",
    "from qcodes import load_or_create_experiment\n",
    "from qcodes.dataset.measurements import Measurement"
   ]
  },
  {
   "cell_type": "code",
   "execution_count": 3,
   "metadata": {
    "execution": {
     "iopub.execute_input": "2021-02-17T00:49:26.448269Z",
     "iopub.status.busy": "2021-02-17T00:49:26.447610Z",
     "iopub.status.idle": "2021-02-17T00:49:26.558713Z",
     "shell.execute_reply": "2021-02-17T00:49:26.559264Z"
    }
   },
   "outputs": [
    {
     "name": "stdout",
     "output_type": "stream",
     "text": [
      "\r",
      "0it [00:00, ?it/s]"
     ]
    },
    {
     "name": "stdout",
     "output_type": "stream",
     "text": [
      "\r",
      "Upgrading database; v0 -> v1: : 0it [00:00, ?it/s]"
     ]
    },
    {
     "name": "stdout",
     "output_type": "stream",
     "text": [
      "\r",
      "Upgrading database; v0 -> v1: : 0it [00:00, ?it/s]"
     ]
    },
    {
     "name": "stdout",
     "output_type": "stream",
     "text": [
      "\n",
      "\r",
      "  0%|          | 0/1 [00:00<?, ?it/s]"
     ]
    },
    {
     "name": "stdout",
     "output_type": "stream",
     "text": [
      "\r",
      "Upgrading database; v1 -> v2:   0%|          | 0/1 [00:00<?, ?it/s]"
     ]
    },
    {
     "name": "stdout",
     "output_type": "stream",
     "text": [
      "\r",
      "Upgrading database; v1 -> v2: 100%|██████████| 1/1 [00:00<00:00, 366.12it/s]"
     ]
    },
    {
     "name": "stdout",
     "output_type": "stream",
     "text": [
      "\n",
      "\r",
      "0it [00:00, ?it/s]"
     ]
    },
    {
     "name": "stdout",
     "output_type": "stream",
     "text": [
      "\r",
      "Upgrading database; v2 -> v3: : 0it [00:00, ?it/s]"
     ]
    },
    {
     "name": "stdout",
     "output_type": "stream",
     "text": [
      "\r",
      "Upgrading database; v2 -> v3: : 0it [00:00, ?it/s]"
     ]
    },
    {
     "name": "stdout",
     "output_type": "stream",
     "text": [
      "\n",
      "\r",
      "0it [00:00, ?it/s]"
     ]
    },
    {
     "name": "stdout",
     "output_type": "stream",
     "text": [
      "\r",
      "Upgrading database; v3 -> v4: : 0it [00:00, ?it/s]"
     ]
    },
    {
     "name": "stdout",
     "output_type": "stream",
     "text": [
      "\r",
      "Upgrading database; v3 -> v4: : 0it [00:00, ?it/s]"
     ]
    },
    {
     "name": "stdout",
     "output_type": "stream",
     "text": [
      "\n",
      "\r",
      "  0%|          | 0/1 [00:00<?, ?it/s]"
     ]
    },
    {
     "name": "stdout",
     "output_type": "stream",
     "text": [
      "\r",
      "Upgrading database; v4 -> v5:   0%|          | 0/1 [00:00<?, ?it/s]"
     ]
    },
    {
     "name": "stdout",
     "output_type": "stream",
     "text": [
      "\r",
      "Upgrading database; v4 -> v5: 100%|██████████| 1/1 [00:00<00:00, 435.86it/s]"
     ]
    },
    {
     "name": "stdout",
     "output_type": "stream",
     "text": [
      "\n",
      "\r",
      "0it [00:00, ?it/s]"
     ]
    },
    {
     "name": "stdout",
     "output_type": "stream",
     "text": [
      "\r",
      "Upgrading database; v5 -> v6: : 0it [00:00, ?it/s]"
     ]
    },
    {
     "name": "stdout",
     "output_type": "stream",
     "text": [
      "\r",
      "Upgrading database; v5 -> v6: : 0it [00:00, ?it/s]"
     ]
    },
    {
     "name": "stdout",
     "output_type": "stream",
     "text": [
      "\n",
      "\r",
      "  0%|          | 0/1 [00:00<?, ?it/s]"
     ]
    },
    {
     "name": "stdout",
     "output_type": "stream",
     "text": [
      "\r",
      "Upgrading database; v6 -> v7:   0%|          | 0/1 [00:00<?, ?it/s]"
     ]
    },
    {
     "name": "stdout",
     "output_type": "stream",
     "text": [
      "\r",
      "Upgrading database; v6 -> v7: 100%|██████████| 1/1 [00:00<00:00, 268.32it/s]"
     ]
    },
    {
     "name": "stdout",
     "output_type": "stream",
     "text": [
      "\n",
      "\r",
      "  0%|          | 0/1 [00:00<?, ?it/s]"
     ]
    },
    {
     "name": "stdout",
     "output_type": "stream",
     "text": [
      "\r",
      "Upgrading database; v7 -> v8:   0%|          | 0/1 [00:00<?, ?it/s]"
     ]
    },
    {
     "name": "stdout",
     "output_type": "stream",
     "text": [
      "\r",
      "Upgrading database; v7 -> v8: 100%|██████████| 1/1 [00:00<00:00, 546.35it/s]"
     ]
    },
    {
     "name": "stdout",
     "output_type": "stream",
     "text": [
      "\n",
      "\r",
      "  0%|          | 0/1 [00:00<?, ?it/s]"
     ]
    },
    {
     "name": "stdout",
     "output_type": "stream",
     "text": [
      "\r",
      "Upgrading database; v8 -> v9:   0%|          | 0/1 [00:00<?, ?it/s]"
     ]
    },
    {
     "name": "stdout",
     "output_type": "stream",
     "text": [
      "\r",
      "Upgrading database; v8 -> v9: 100%|██████████| 1/1 [00:00<00:00, 890.89it/s]"
     ]
    },
    {
     "name": "stdout",
     "output_type": "stream",
     "text": [
      "\n"
     ]
    }
   ],
   "source": [
    "initialise_database()\n",
    "exp = load_or_create_experiment(experiment_name='tutorial_exp', sample_name=\"no sample\")"
   ]
  },
  {
   "cell_type": "markdown",
   "metadata": {},
   "source": [
    "Here, we define a simple function to benchmark the time it takes to insert n points with either numeric or array data type.\n",
    "We will compare both the time used to call ``add_result`` and the time used for the full measurement."
   ]
  },
  {
   "cell_type": "code",
   "execution_count": 4,
   "metadata": {
    "execution": {
     "iopub.execute_input": "2021-02-17T00:49:26.568234Z",
     "iopub.status.busy": "2021-02-17T00:49:26.566773Z",
     "iopub.status.idle": "2021-02-17T00:49:26.571768Z",
     "shell.execute_reply": "2021-02-17T00:49:26.571201Z"
    }
   },
   "outputs": [],
   "source": [
    "def insert_data(paramtype, npoints, nreps=1):\n",
    "\n",
    "    meas = Measurement(exp=exp)\n",
    "\n",
    "    x1 = ManualParameter('x1')\n",
    "    x2 = ManualParameter('x2')\n",
    "    x3 = ManualParameter('x3')\n",
    "    y1 = ManualParameter('y1')\n",
    "    y2 = ManualParameter('y2')\n",
    "\n",
    "    meas.register_parameter(x1, paramtype=paramtype)\n",
    "    meas.register_parameter(x2, paramtype=paramtype)\n",
    "    meas.register_parameter(x3, paramtype=paramtype)\n",
    "    meas.register_parameter(y1, setpoints=[x1, x2, x3],\n",
    "                            paramtype=paramtype)\n",
    "    meas.register_parameter(y2, setpoints=[x1, x2, x3],\n",
    "                            paramtype=paramtype)\n",
    "    start = time.perf_counter()\n",
    "    with meas.run() as datasaver:\n",
    "        start_adding = time.perf_counter()\n",
    "        for i in range(nreps):\n",
    "            datasaver.add_result((x1, np.random.rand(npoints)),\n",
    "                                 (x2, np.random.rand(npoints)),\n",
    "                                 (x3, np.random.rand(npoints)),\n",
    "                                 (y1, np.random.rand(npoints)),\n",
    "                                 (y2, np.random.rand(npoints)))\n",
    "        stop_adding = time.perf_counter()\n",
    "        run_id = datasaver.run_id\n",
    "    stop = time.perf_counter()\n",
    "    tot_time = stop - start\n",
    "    add_time = stop_adding - start_adding\n",
    "    return tot_time, add_time, run_id"
   ]
  },
  {
   "cell_type": "markdown",
   "metadata": {},
   "source": [
    "## Comparison between numeric/array data and binary blob"
   ]
  },
  {
   "cell_type": "markdown",
   "metadata": {},
   "source": [
    "### Case1: Short experiment time"
   ]
  },
  {
   "cell_type": "code",
   "execution_count": 5,
   "metadata": {
    "execution": {
     "iopub.execute_input": "2021-02-17T00:49:26.578742Z",
     "iopub.status.busy": "2021-02-17T00:49:26.577501Z",
     "iopub.status.idle": "2021-02-17T00:49:27.429089Z",
     "shell.execute_reply": "2021-02-17T00:49:27.428513Z"
    }
   },
   "outputs": [
    {
     "name": "stdout",
     "output_type": "stream",
     "text": [
      "Starting experimental run with id: 1. \n",
      "Starting experimental run with id: 2. \n",
      "Starting experimental run with id: 3. \n",
      "Starting experimental run with id: 4. \n",
      "Starting experimental run with id: 5. \n"
     ]
    },
    {
     "name": "stdout",
     "output_type": "stream",
     "text": [
      "Starting experimental run with id: 6. \n"
     ]
    },
    {
     "name": "stdout",
     "output_type": "stream",
     "text": [
      "Starting experimental run with id: 7. \n"
     ]
    },
    {
     "name": "stdout",
     "output_type": "stream",
     "text": [
      "Starting experimental run with id: 8. \n",
      "Starting experimental run with id: 9. \n"
     ]
    },
    {
     "name": "stdout",
     "output_type": "stream",
     "text": [
      "Starting experimental run with id: 10. \n",
      "Starting experimental run with id: 11. \n"
     ]
    },
    {
     "name": "stdout",
     "output_type": "stream",
     "text": [
      "Starting experimental run with id: 12. \n"
     ]
    },
    {
     "name": "stdout",
     "output_type": "stream",
     "text": [
      "Starting experimental run with id: 13. \n"
     ]
    },
    {
     "name": "stdout",
     "output_type": "stream",
     "text": [
      "Starting experimental run with id: 14. \n"
     ]
    }
   ],
   "source": [
    "sizes = [1,500,1000,2000,3000,4000,5000]\n",
    "t_numeric = []\n",
    "t_numeric_add = []\n",
    "t_array = []\n",
    "t_array_add = []\n",
    "for size in sizes:\n",
    "    tn, tna, run_id_n =  insert_data('numeric', size)\n",
    "    t_numeric.append(tn)\n",
    "    t_numeric_add.append(tna)\n",
    "\n",
    "    ta, taa, run_id_a =  insert_data('array', size)\n",
    "    t_array.append(ta)\n",
    "    t_array_add.append(taa)"
   ]
  },
  {
   "cell_type": "code",
   "execution_count": 6,
   "metadata": {
    "execution": {
     "iopub.execute_input": "2021-02-17T00:49:27.448441Z",
     "iopub.status.busy": "2021-02-17T00:49:27.433847Z",
     "iopub.status.idle": "2021-02-17T00:49:27.664709Z",
     "shell.execute_reply": "2021-02-17T00:49:27.665207Z"
    }
   },
   "outputs": [
    {
     "data": {
      "image/png": "[encoded data removed]",
      "text/plain": [
       "<Figure size 432x288 with 1 Axes>"
      ]
     },
     "metadata": {
      "needs_background": "light"
     },
     "output_type": "display_data"
    }
   ],
   "source": [
    "fig, ax = plt.subplots(1,1)\n",
    "ax.plot(sizes, t_numeric, 'o-', label='Inserting row-by-row')\n",
    "ax.plot(sizes, t_numeric_add, 'o-', label='Inserting row-by-row: add_result only')\n",
    "ax.plot(sizes, t_array, 'd-', label='Inserting as binary blob')\n",
    "ax.plot(sizes, t_array_add, 'd-', label='Inserting as binary blob: add_result only')\n",
    "ax.legend()\n",
    "ax.set_xlabel('Array length')\n",
    "ax.set_ylabel('Time (s)')\n",
    "fig.tight_layout()"
   ]
  },
  {
   "cell_type": "markdown",
   "metadata": {},
   "source": [
    "As shown in the latter figure, the time to setup and and close the experiment is approximately 0.4 sec. In case of small array sizes, the difference between inserting values of data as arrays and inserting them row-by-row is relatively unimportant. At larger array sizes, i.e. above 10000 points, the cost of writing data as individual datapoints starts to become important.\n"
   ]
  },
  {
   "cell_type": "markdown",
   "metadata": {},
   "source": [
    "### Case2: Long experiment time "
   ]
  },
  {
   "cell_type": "code",
   "execution_count": 7,
   "metadata": {
    "execution": {
     "iopub.execute_input": "2021-02-17T00:49:27.672954Z",
     "iopub.status.busy": "2021-02-17T00:49:27.671378Z",
     "iopub.status.idle": "2021-02-17T00:50:32.131975Z",
     "shell.execute_reply": "2021-02-17T00:50:32.131348Z"
    }
   },
   "outputs": [
    {
     "name": "stdout",
     "output_type": "stream",
     "text": [
      "Starting experimental run with id: 15. \n",
      "Starting experimental run with id: 16. \n"
     ]
    },
    {
     "name": "stdout",
     "output_type": "stream",
     "text": [
      "Starting experimental run with id: 17. \n"
     ]
    },
    {
     "name": "stdout",
     "output_type": "stream",
     "text": [
      "Starting experimental run with id: 18. \n"
     ]
    },
    {
     "name": "stdout",
     "output_type": "stream",
     "text": [
      "Starting experimental run with id: 19. \n"
     ]
    },
    {
     "name": "stdout",
     "output_type": "stream",
     "text": [
      "Starting experimental run with id: 20. \n"
     ]
    },
    {
     "name": "stdout",
     "output_type": "stream",
     "text": [
      "Starting experimental run with id: 21. \n"
     ]
    },
    {
     "name": "stdout",
     "output_type": "stream",
     "text": [
      "Starting experimental run with id: 22. \n"
     ]
    },
    {
     "name": "stdout",
     "output_type": "stream",
     "text": [
      "Starting experimental run with id: 23. \n"
     ]
    },
    {
     "name": "stdout",
     "output_type": "stream",
     "text": [
      "Starting experimental run with id: 24. \n"
     ]
    },
    {
     "name": "stdout",
     "output_type": "stream",
     "text": [
      "Starting experimental run with id: 25. \n"
     ]
    },
    {
     "name": "stdout",
     "output_type": "stream",
     "text": [
      "Starting experimental run with id: 26. \n"
     ]
    },
    {
     "name": "stdout",
     "output_type": "stream",
     "text": [
      "Starting experimental run with id: 27. \n"
     ]
    },
    {
     "name": "stdout",
     "output_type": "stream",
     "text": [
      "Starting experimental run with id: 28. \n"
     ]
    }
   ],
   "source": [
    "sizes = [1,500,1000,2000,3000,4000,5000]\n",
    "nreps = 100\n",
    "t_numeric = []\n",
    "t_numeric_add = []\n",
    "t_numeric_run_ids = []\n",
    "t_array = []\n",
    "t_array_add = []\n",
    "t_array_run_ids = []\n",
    "for size in sizes:\n",
    "    tn, tna, run_id_n =  insert_data('numeric', size, nreps=nreps)\n",
    "    t_numeric.append(tn)\n",
    "    t_numeric_add.append(tna)\n",
    "    t_numeric_run_ids.append(run_id_n)\n",
    "\n",
    "    ta, taa, run_id_a =  insert_data('array', size, nreps=nreps)\n",
    "    t_array.append(ta)\n",
    "    t_array_add.append(taa)\n",
    "    t_array_run_ids.append(run_id_a)"
   ]
  },
  {
   "cell_type": "code",
   "execution_count": 8,
   "metadata": {
    "execution": {
     "iopub.execute_input": "2021-02-17T00:50:32.178195Z",
     "iopub.status.busy": "2021-02-17T00:50:32.163342Z",
     "iopub.status.idle": "2021-02-17T00:50:32.381271Z",
     "shell.execute_reply": "2021-02-17T00:50:32.381913Z"
    },
    "scrolled": true
   },
   "outputs": [
    {
     "data": {
      "image/png": "[encoded data removed]",
      "text/plain": [
       "<Figure size 432x288 with 1 Axes>"
      ]
     },
     "metadata": {
      "needs_background": "light"
     },
     "output_type": "display_data"
    }
   ],
   "source": [
    "fig, ax = plt.subplots(1,1)\n",
    "ax.plot(sizes, t_numeric, 'o-', label='Inserting row-by-row')\n",
    "ax.plot(sizes, t_numeric_add, 'o-', label='Inserting row-by-row: add_result only')\n",
    "ax.plot(sizes, t_array, 'd-', label='Inserting as binary blob')\n",
    "ax.plot(sizes, t_array_add, 'd-', label='Inserting as binary blob: add_result only')\n",
    "ax.legend()\n",
    "ax.set_xlabel('Array length')\n",
    "ax.set_ylabel('Time (s)')\n",
    "fig.tight_layout()"
   ]
  },
  {
   "cell_type": "markdown",
   "metadata": {},
   "source": [
    "However, as we increase the length of the experiment, as seen here by repeating the insertion 100 times, we see a big difference between inserting values of the data row-by-row and inserting it as a binary blob."
   ]
  },
  {
   "cell_type": "markdown",
   "metadata": {},
   "source": [
    "## Loading the data "
   ]
  },
  {
   "cell_type": "code",
   "execution_count": 9,
   "metadata": {
    "execution": {
     "iopub.execute_input": "2021-02-17T00:50:32.386251Z",
     "iopub.status.busy": "2021-02-17T00:50:32.385617Z",
     "iopub.status.idle": "2021-02-17T00:50:32.391383Z",
     "shell.execute_reply": "2021-02-17T00:50:32.390156Z"
    }
   },
   "outputs": [],
   "source": [
    "from qcodes.dataset.data_set import load_by_id\n",
    "from qcodes.dataset.data_export import get_data_by_id"
   ]
  },
  {
   "cell_type": "markdown",
   "metadata": {},
   "source": [
    "As usual you can load the data by using the ``load_by_id`` function but you will notice that the different storage methods\n",
    "are reflected in shape of the data as it is retrieved. "
   ]
  },
  {
   "cell_type": "code",
   "execution_count": 10,
   "metadata": {
    "execution": {
     "iopub.execute_input": "2021-02-17T00:50:32.395389Z",
     "iopub.status.busy": "2021-02-17T00:50:32.394760Z",
     "iopub.status.idle": "2021-02-17T00:50:32.398926Z",
     "shell.execute_reply": "2021-02-17T00:50:32.398374Z"
    }
   },
   "outputs": [],
   "source": [
    "run_id_n = t_numeric_run_ids[0]\n",
    "run_id_a = t_array_run_ids[0]"
   ]
  },
  {
   "cell_type": "code",
   "execution_count": 11,
   "metadata": {
    "execution": {
     "iopub.execute_input": "2021-02-17T00:50:32.403119Z",
     "iopub.status.busy": "2021-02-17T00:50:32.401978Z",
     "iopub.status.idle": "2021-02-17T00:50:32.414591Z",
     "shell.execute_reply": "2021-02-17T00:50:32.414029Z"
    },
    "scrolled": true
   },
   "outputs": [
    {
     "data": {
      "text/plain": [
       "{'x1': {'x1': array([0.2511676 , 0.2511676 , 0.95848264, 0.95848264, 0.39925437,\n",
       "         0.39925437, 0.81139129, 0.81139129, 0.36924079, 0.36924079,\n",
       "         0.75263458, 0.75263458, 0.17826202, 0.17826202, 0.30551685,\n",
       "         0.30551685, 0.28828186, 0.28828186, 0.028436  , 0.028436  ,\n",
       "         0.91236073, 0.91236073, 0.05692984, 0.05692984, 0.74500368,\n",
       "         0.74500368, 0.10265033, 0.10265033, 0.58843629, 0.58843629,\n",
       "         0.72840136, 0.72840136, 0.15554968, 0.15554968, 0.79916771,\n",
       "         0.79916771, 0.79537554, 0.79537554, 0.76799005, 0.76799005,\n",
       "         0.95867515, 0.95867515, 0.3045883 , 0.3045883 , 0.24589701,\n",
       "         0.24589701, 0.222683  , 0.222683  , 0.03226769, 0.03226769,\n",
       "         0.77399594, 0.77399594, 0.99561052, 0.99561052, 0.52062662,\n",
       "         0.52062662, 0.26772996, 0.26772996, 0.35393896, 0.35393896,\n",
       "         0.85793324, 0.85793324, 0.08394392, 0.08394392, 0.74761025,\n",
       "         0.74761025, 0.32757262, 0.32757262, 0.34581793, 0.34581793,\n",
       "         0.34419953, 0.34419953, 0.78930395, 0.78930395, 0.73705904,\n",
       "         0.73705904, 0.605102  , 0.605102  , 0.13085045, 0.13085045,\n",
       "         0.68187125, 0.68187125, 0.76749181, 0.76749181, 0.2279802 ,\n",
       "         0.2279802 , 0.41581631, 0.41581631, 0.6157404 , 0.6157404 ,\n",
       "         0.08055863, 0.08055863, 0.38199016, 0.38199016, 0.33495442,\n",
       "         0.33495442, 0.5697124 , 0.5697124 , 0.9070653 , 0.9070653 ,\n",
       "         0.84291288, 0.84291288, 0.01336859, 0.01336859, 0.1084943 ,\n",
       "         0.1084943 , 0.20458352, 0.20458352, 0.03551734, 0.03551734,\n",
       "         0.79533761, 0.79533761, 0.70905862, 0.70905862, 0.0973192 ,\n",
       "         0.0973192 , 0.27617233, 0.27617233, 0.89021254, 0.89021254,\n",
       "         0.35941008, 0.35941008, 0.82888762, 0.82888762, 0.9190162 ,\n",
       "         0.9190162 , 0.08303006, 0.08303006, 0.0367414 , 0.0367414 ,\n",
       "         0.62016848, 0.62016848, 0.50401149, 0.50401149, 0.77448718,\n",
       "         0.77448718, 0.74290096, 0.74290096, 0.49472912, 0.49472912,\n",
       "         0.03513667, 0.03513667, 0.34262354, 0.34262354, 0.1256919 ,\n",
       "         0.1256919 , 0.34889396, 0.34889396, 0.98441028, 0.98441028,\n",
       "         0.96302429, 0.96302429, 0.13529945, 0.13529945, 0.04309223,\n",
       "         0.04309223, 0.34837081, 0.34837081, 0.8814617 , 0.8814617 ,\n",
       "         0.99862136, 0.99862136, 0.39303339, 0.39303339, 0.61311306,\n",
       "         0.61311306, 0.54777933, 0.54777933, 0.98671137, 0.98671137,\n",
       "         0.5057713 , 0.5057713 , 0.11787694, 0.11787694, 0.73404579,\n",
       "         0.73404579, 0.03682131, 0.03682131, 0.67314458, 0.67314458,\n",
       "         0.11010913, 0.11010913, 0.0885509 , 0.0885509 , 0.53929613,\n",
       "         0.53929613, 0.55949211, 0.55949211, 0.3910875 , 0.3910875 ,\n",
       "         0.09549866, 0.09549866, 0.80436414, 0.80436414, 0.666573  ,\n",
       "         0.666573  , 0.9456661 , 0.9456661 , 0.2819939 , 0.2819939 ])}}"
      ]
     },
     "execution_count": 1,
     "metadata": {},
     "output_type": "execute_result"
    }
   ],
   "source": [
    "ds = load_by_id(run_id_n)\n",
    "ds.get_parameter_data('x1')"
   ]
  },
  {
   "cell_type": "markdown",
   "metadata": {},
   "source": [
    "And a dataset stored as binary arrays"
   ]
  },
  {
   "cell_type": "code",
   "execution_count": 12,
   "metadata": {
    "execution": {
     "iopub.execute_input": "2021-02-17T00:50:32.418279Z",
     "iopub.status.busy": "2021-02-17T00:50:32.417655Z",
     "iopub.status.idle": "2021-02-17T00:50:32.487669Z",
     "shell.execute_reply": "2021-02-17T00:50:32.487080Z"
    },
    "scrolled": true
   },
   "outputs": [
    {
     "data": {
      "text/plain": [
       "{'x1': {'x1': array([[0.17029149],\n",
       "         [0.17029149],\n",
       "         [0.83659865],\n",
       "         [0.83659865],\n",
       "         [0.12782018],\n",
       "         [0.12782018],\n",
       "         [0.18371225],\n",
       "         [0.18371225],\n",
       "         [0.11018967],\n",
       "         [0.11018967],\n",
       "         [0.27376423],\n",
       "         [0.27376423],\n",
       "         [0.64785171],\n",
       "         [0.64785171],\n",
       "         [0.54653668],\n",
       "         [0.54653668],\n",
       "         [0.7574104 ],\n",
       "         [0.7574104 ],\n",
       "         [0.40882345],\n",
       "         [0.40882345],\n",
       "         [0.52721694],\n",
       "         [0.52721694],\n",
       "         [0.29157457],\n",
       "         [0.29157457],\n",
       "         [0.30363696],\n",
       "         [0.30363696],\n",
       "         [0.59496221],\n",
       "         [0.59496221],\n",
       "         [0.87051971],\n",
       "         [0.87051971],\n",
       "         [0.01506901],\n",
       "         [0.01506901],\n",
       "         [0.93199322],\n",
       "         [0.93199322],\n",
       "         [0.37010008],\n",
       "         [0.37010008],\n",
       "         [0.66772539],\n",
       "         [0.66772539],\n",
       "         [0.04237208],\n",
       "         [0.04237208],\n",
       "         [0.18575824],\n",
       "         [0.18575824],\n",
       "         [0.86904416],\n",
       "         [0.86904416],\n",
       "         [0.68326069],\n",
       "         [0.68326069],\n",
       "         [0.70028979],\n",
       "         [0.70028979],\n",
       "         [0.20304617],\n",
       "         [0.20304617],\n",
       "         [0.17776232],\n",
       "         [0.17776232],\n",
       "         [0.20927302],\n",
       "         [0.20927302],\n",
       "         [0.35976651],\n",
       "         [0.35976651],\n",
       "         [0.70866073],\n",
       "         [0.70866073],\n",
       "         [0.37798417],\n",
       "         [0.37798417],\n",
       "         [0.65112448],\n",
       "         [0.65112448],\n",
       "         [0.37733129],\n",
       "         [0.37733129],\n",
       "         [0.57453245],\n",
       "         [0.57453245],\n",
       "         [0.93546833],\n",
       "         [0.93546833],\n",
       "         [0.56965367],\n",
       "         [0.56965367],\n",
       "         [0.42294004],\n",
       "         [0.42294004],\n",
       "         [0.93686193],\n",
       "         [0.93686193],\n",
       "         [0.03908656],\n",
       "         [0.03908656],\n",
       "         [0.77659487],\n",
       "         [0.77659487],\n",
       "         [0.42805072],\n",
       "         [0.42805072],\n",
       "         [0.56571452],\n",
       "         [0.56571452],\n",
       "         [0.3080461 ],\n",
       "         [0.3080461 ],\n",
       "         [0.09446228],\n",
       "         [0.09446228],\n",
       "         [0.42682967],\n",
       "         [0.42682967],\n",
       "         [0.19861318],\n",
       "         [0.19861318],\n",
       "         [0.65865029],\n",
       "         [0.65865029],\n",
       "         [0.09250733],\n",
       "         [0.09250733],\n",
       "         [0.86924442],\n",
       "         [0.86924442],\n",
       "         [0.42154135],\n",
       "         [0.42154135],\n",
       "         [0.93987932],\n",
       "         [0.93987932],\n",
       "         [0.85374327],\n",
       "         [0.85374327],\n",
       "         [0.41332139],\n",
       "         [0.41332139],\n",
       "         [0.12524598],\n",
       "         [0.12524598],\n",
       "         [0.94690188],\n",
       "         [0.94690188],\n",
       "         [0.61887108],\n",
       "         [0.61887108],\n",
       "         [0.02669607],\n",
       "         [0.02669607],\n",
       "         [0.97868406],\n",
       "         [0.97868406],\n",
       "         [0.44414189],\n",
       "         [0.44414189],\n",
       "         [0.3365328 ],\n",
       "         [0.3365328 ],\n",
       "         [0.16275001],\n",
       "         [0.16275001],\n",
       "         [0.82540767],\n",
       "         [0.82540767],\n",
       "         [0.21661483],\n",
       "         [0.21661483],\n",
       "         [0.32195379],\n",
       "         [0.32195379],\n",
       "         [0.33239681],\n",
       "         [0.33239681],\n",
       "         [0.78901367],\n",
       "         [0.78901367],\n",
       "         [0.38944194],\n",
       "         [0.38944194],\n",
       "         [0.7269843 ],\n",
       "         [0.7269843 ],\n",
       "         [0.02643314],\n",
       "         [0.02643314],\n",
       "         [0.37013177],\n",
       "         [0.37013177],\n",
       "         [0.71799398],\n",
       "         [0.71799398],\n",
       "         [0.33299736],\n",
       "         [0.33299736],\n",
       "         [0.9539397 ],\n",
       "         [0.9539397 ],\n",
       "         [0.04454638],\n",
       "         [0.04454638],\n",
       "         [0.41776032],\n",
       "         [0.41776032],\n",
       "         [0.61624086],\n",
       "         [0.61624086],\n",
       "         [0.93135964],\n",
       "         [0.93135964],\n",
       "         [0.67454796],\n",
       "         [0.67454796],\n",
       "         [0.60889079],\n",
       "         [0.60889079],\n",
       "         [0.86461716],\n",
       "         [0.86461716],\n",
       "         [0.46796534],\n",
       "         [0.46796534],\n",
       "         [0.87704414],\n",
       "         [0.87704414],\n",
       "         [0.35157832],\n",
       "         [0.35157832],\n",
       "         [0.04696689],\n",
       "         [0.04696689],\n",
       "         [0.14159824],\n",
       "         [0.14159824],\n",
       "         [0.62616638],\n",
       "         [0.62616638],\n",
       "         [0.01747897],\n",
       "         [0.01747897],\n",
       "         [0.71185629],\n",
       "         [0.71185629],\n",
       "         [0.96224639],\n",
       "         [0.96224639],\n",
       "         [0.71674531],\n",
       "         [0.71674531],\n",
       "         [0.03872921],\n",
       "         [0.03872921],\n",
       "         [0.80158959],\n",
       "         [0.80158959],\n",
       "         [0.66643132],\n",
       "         [0.66643132],\n",
       "         [0.15153318],\n",
       "         [0.15153318],\n",
       "         [0.64960686],\n",
       "         [0.64960686],\n",
       "         [0.67938542],\n",
       "         [0.67938542],\n",
       "         [0.14108173],\n",
       "         [0.14108173],\n",
       "         [0.43375518],\n",
       "         [0.43375518],\n",
       "         [0.54667761],\n",
       "         [0.54667761],\n",
       "         [0.98497404],\n",
       "         [0.98497404],\n",
       "         [0.54375093],\n",
       "         [0.54375093]])}}"
      ]
     },
     "execution_count": 1,
     "metadata": {},
     "output_type": "execute_result"
    }
   ],
   "source": [
    "ds = load_by_id(run_id_a)\n",
    "ds.get_parameter_data('x1')"
   ]
  },
  {
   "cell_type": "code",
   "execution_count": null,
   "metadata": {},
   "outputs": [],
   "source": []
  }
 ],
 "metadata": {
  "kernelspec": {
   "display_name": "Python 3",
   "language": "python",
   "name": "python3"
  },
  "language_info": {
   "codemirror_mode": {
    "name": "ipython",
    "version": 3
   },
   "file_extension": ".py",
   "mimetype": "text/x-python",
   "name": "python",
   "nbconvert_exporter": "python",
   "pygments_lexer": "ipython3",
   "version": "3.7.9"
  },
  "nbsphinx": {
   "timeout": 600
  },
  "toc": {
   "base_numbering": 1,
   "nav_menu": {},
   "number_sections": true,
   "sideBar": true,
   "skip_h1_title": false,
   "title_cell": "Table of Contents",
   "title_sidebar": "Contents",
   "toc_cell": false,
   "toc_position": {},
   "toc_section_display": true,
   "toc_window_display": false
  },
  "varInspector": {
   "cols": {
    "lenName": 16,
    "lenType": 16,
    "lenVar": 40
   },
   "kernels_config": {
    "python": {
     "delete_cmd_postfix": "",
     "delete_cmd_prefix": "del ",
     "library": "var_list.py",
     "varRefreshCmd": "print(var_dic_list())"
    },
    "r": {
     "delete_cmd_postfix": ") ",
     "delete_cmd_prefix": "rm(",
     "library": "var_list.r",
     "varRefreshCmd": "cat(var_dic_list()) "
    }
   },
   "types_to_exclude": [
    "module",
    "function",
    "builtin_function_or_method",
    "instance",
    "_Feature"
   ],
   "window_display": false
  }
 },
 "nbformat": 4,
 "nbformat_minor": 2
}
