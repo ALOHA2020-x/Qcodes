{
 "cells": [
  {
   "cell_type": "markdown",
   "metadata": {},
   "source": [
    "# DataSet Performance\n",
    "\n",
    "This notebook shows the trade-off between inserting data into a database row-by-row and as binary blobs. Inserting the data row-by-row means that we have direct access to all the data and may perform queries directly on the values of the data. On the other hand, as we shall see, this is much slower than inserting the data directly as binary blobs."
   ]
  },
  {
   "cell_type": "markdown",
   "metadata": {},
   "source": [
    "First, we choose a new location for the database to ensure that we don't add a bunch of benchmarking data to the default one."
   ]
  },
  {
   "cell_type": "code",
   "execution_count": 1,
   "metadata": {
    "execution": {
     "iopub.execute_input": "2020-09-24T16:34:09.397918Z",
     "iopub.status.busy": "2020-09-24T16:34:09.397425Z",
     "iopub.status.idle": "2020-09-24T16:34:10.356568Z",
     "shell.execute_reply": "2020-09-24T16:34:10.357032Z"
    }
   },
   "outputs": [
    {
     "name": "stdout",
     "output_type": "stream",
     "text": [
      "Logging hadn't been started.\n",
      "Activating auto-logging. Current session state plus future input saved.\n",
      "Filename       : /home/vsts/.qcodes/logs/command_history.log\n",
      "Mode           : append\n",
      "Output logging : True\n",
      "Raw input log  : False\n",
      "Timestamping   : True\n",
      "State          : active\n"
     ]
    },
    {
     "name": "stdout",
     "output_type": "stream",
     "text": [
      "Qcodes Logfile : /home/vsts/.qcodes/logs/200924-18592-qcodes.log\n"
     ]
    }
   ],
   "source": [
    "import os\n",
    "cwd = os.getcwd()\n",
    "import qcodes as qc\n",
    "qc.config[\"core\"][\"db_location\"] = os.path.join(cwd, 'testing.db')\n"
   ]
  },
  {
   "cell_type": "code",
   "execution_count": 2,
   "metadata": {
    "execution": {
     "iopub.execute_input": "2020-09-24T16:34:10.363736Z",
     "iopub.status.busy": "2020-09-24T16:34:10.362889Z",
     "iopub.status.idle": "2020-09-24T16:34:10.540136Z",
     "shell.execute_reply": "2020-09-24T16:34:10.540572Z"
    }
   },
   "outputs": [],
   "source": [
    "%matplotlib inline\n",
    "import time\n",
    "import matplotlib.pyplot as plt\n",
    "import numpy as np\n",
    "\n",
    "import qcodes as qc\n",
    "from qcodes.instrument.parameter import ManualParameter\n",
    "from qcodes.dataset.experiment_container import (Experiment,\n",
    "                                                 load_last_experiment,\n",
    "                                                 new_experiment)\n",
    "from qcodes.dataset.sqlite.database import initialise_database\n",
    "from qcodes import load_or_create_experiment\n",
    "from qcodes.dataset.measurements import Measurement"
   ]
  },
  {
   "cell_type": "code",
   "execution_count": 3,
   "metadata": {
    "execution": {
     "iopub.execute_input": "2020-09-24T16:34:10.544374Z",
     "iopub.status.busy": "2020-09-24T16:34:10.543862Z",
     "iopub.status.idle": "2020-09-24T16:34:10.656980Z",
     "shell.execute_reply": "2020-09-24T16:34:10.656439Z"
    }
   },
   "outputs": [
    {
     "name": "stdout",
     "output_type": "stream",
     "text": [
      "\r",
      "0it [00:00, ?it/s]"
     ]
    },
    {
     "name": "stdout",
     "output_type": "stream",
     "text": [
      "\r",
      "Upgrading database; v0 -> v1: : 0it [00:00, ?it/s]"
     ]
    },
    {
     "name": "stdout",
     "output_type": "stream",
     "text": [
      "\r",
      "Upgrading database; v0 -> v1: : 0it [00:00, ?it/s]"
     ]
    },
    {
     "name": "stdout",
     "output_type": "stream",
     "text": [
      "\n",
      "\r",
      "  0%|          | 0/1 [00:00<?, ?it/s]"
     ]
    },
    {
     "name": "stdout",
     "output_type": "stream",
     "text": [
      "\r",
      "Upgrading database; v1 -> v2:   0%|          | 0/1 [00:00<?, ?it/s]"
     ]
    },
    {
     "name": "stdout",
     "output_type": "stream",
     "text": [
      "\r",
      "Upgrading database; v1 -> v2: 100%|██████████| 1/1 [00:00<00:00, 462.90it/s]"
     ]
    },
    {
     "name": "stdout",
     "output_type": "stream",
     "text": [
      "\n",
      "\r",
      "0it [00:00, ?it/s]"
     ]
    },
    {
     "name": "stdout",
     "output_type": "stream",
     "text": [
      "\r",
      "Upgrading database; v2 -> v3: : 0it [00:00, ?it/s]"
     ]
    },
    {
     "name": "stdout",
     "output_type": "stream",
     "text": [
      "\r",
      "Upgrading database; v2 -> v3: : 0it [00:00, ?it/s]"
     ]
    },
    {
     "name": "stdout",
     "output_type": "stream",
     "text": [
      "\n",
      "\r",
      "0it [00:00, ?it/s]"
     ]
    },
    {
     "name": "stdout",
     "output_type": "stream",
     "text": [
      "\r",
      "Upgrading database; v3 -> v4: : 0it [00:00, ?it/s]"
     ]
    },
    {
     "name": "stdout",
     "output_type": "stream",
     "text": [
      "\r",
      "Upgrading database; v3 -> v4: : 0it [00:00, ?it/s]"
     ]
    },
    {
     "name": "stdout",
     "output_type": "stream",
     "text": [
      "\n",
      "\r",
      "  0%|          | 0/1 [00:00<?, ?it/s]"
     ]
    },
    {
     "name": "stdout",
     "output_type": "stream",
     "text": [
      "\r",
      "Upgrading database; v4 -> v5:   0%|          | 0/1 [00:00<?, ?it/s]"
     ]
    },
    {
     "name": "stdout",
     "output_type": "stream",
     "text": [
      "\r",
      "Upgrading database; v4 -> v5: 100%|██████████| 1/1 [00:00<00:00, 370.16it/s]"
     ]
    },
    {
     "name": "stdout",
     "output_type": "stream",
     "text": [
      "\n",
      "\r",
      "0it [00:00, ?it/s]"
     ]
    },
    {
     "name": "stdout",
     "output_type": "stream",
     "text": [
      "\r",
      "Upgrading database; v5 -> v6: : 0it [00:00, ?it/s]"
     ]
    },
    {
     "name": "stdout",
     "output_type": "stream",
     "text": [
      "\r",
      "Upgrading database; v5 -> v6: : 0it [00:00, ?it/s]"
     ]
    },
    {
     "name": "stdout",
     "output_type": "stream",
     "text": [
      "\n",
      "\r",
      "  0%|          | 0/1 [00:00<?, ?it/s]"
     ]
    },
    {
     "name": "stdout",
     "output_type": "stream",
     "text": [
      "\r",
      "Upgrading database; v6 -> v7:   0%|          | 0/1 [00:00<?, ?it/s]"
     ]
    },
    {
     "name": "stdout",
     "output_type": "stream",
     "text": [
      "\r",
      "Upgrading database; v6 -> v7: 100%|██████████| 1/1 [00:00<00:00, 271.44it/s]"
     ]
    },
    {
     "name": "stdout",
     "output_type": "stream",
     "text": [
      "\n",
      "\r",
      "  0%|          | 0/1 [00:00<?, ?it/s]"
     ]
    },
    {
     "name": "stdout",
     "output_type": "stream",
     "text": [
      "\r",
      "Upgrading database; v7 -> v8:   0%|          | 0/1 [00:00<?, ?it/s]"
     ]
    },
    {
     "name": "stdout",
     "output_type": "stream",
     "text": [
      "\r",
      "Upgrading database; v7 -> v8: 100%|██████████| 1/1 [00:00<00:00, 514.45it/s]"
     ]
    },
    {
     "name": "stdout",
     "output_type": "stream",
     "text": [
      "\n",
      "\r",
      "  0%|          | 0/1 [00:00<?, ?it/s]"
     ]
    },
    {
     "name": "stdout",
     "output_type": "stream",
     "text": [
      "\r",
      "Upgrading database; v8 -> v9:   0%|          | 0/1 [00:00<?, ?it/s]"
     ]
    },
    {
     "name": "stdout",
     "output_type": "stream",
     "text": [
      "\r",
      "Upgrading database; v8 -> v9: 100%|██████████| 1/1 [00:00<00:00, 387.57it/s]"
     ]
    },
    {
     "name": "stdout",
     "output_type": "stream",
     "text": [
      "\n"
     ]
    }
   ],
   "source": [
    "initialise_database()\n",
    "exp = load_or_create_experiment(experiment_name='tutorial_exp', sample_name=\"no sample\")"
   ]
  },
  {
   "cell_type": "markdown",
   "metadata": {},
   "source": [
    "Here, we define a simple function to benchmark the time it takes to insert n points with either numeric or array data type.\n",
    "We will compare both the time used to call ``add_result`` and the time used for the full measurement."
   ]
  },
  {
   "cell_type": "code",
   "execution_count": 4,
   "metadata": {
    "execution": {
     "iopub.execute_input": "2020-09-24T16:34:10.666223Z",
     "iopub.status.busy": "2020-09-24T16:34:10.665659Z",
     "iopub.status.idle": "2020-09-24T16:34:10.668827Z",
     "shell.execute_reply": "2020-09-24T16:34:10.669212Z"
    }
   },
   "outputs": [],
   "source": [
    "def insert_data(paramtype, npoints, nreps=1):\n",
    "\n",
    "    meas = Measurement(exp=exp)\n",
    "\n",
    "    x1 = ManualParameter('x1')\n",
    "    x2 = ManualParameter('x2')\n",
    "    x3 = ManualParameter('x3')\n",
    "    y1 = ManualParameter('y1')\n",
    "    y2 = ManualParameter('y2')\n",
    "\n",
    "    meas.register_parameter(x1, paramtype=paramtype)\n",
    "    meas.register_parameter(x2, paramtype=paramtype)\n",
    "    meas.register_parameter(x3, paramtype=paramtype)\n",
    "    meas.register_parameter(y1, setpoints=[x1, x2, x3],\n",
    "                            paramtype=paramtype)\n",
    "    meas.register_parameter(y2, setpoints=[x1, x2, x3],\n",
    "                            paramtype=paramtype)\n",
    "    start = time.perf_counter()\n",
    "    with meas.run() as datasaver:\n",
    "        start_adding = time.perf_counter()\n",
    "        for i in range(nreps):\n",
    "            datasaver.add_result((x1, np.random.rand(npoints)),\n",
    "                                 (x2, np.random.rand(npoints)),\n",
    "                                 (x3, np.random.rand(npoints)),\n",
    "                                 (y1, np.random.rand(npoints)),\n",
    "                                 (y2, np.random.rand(npoints)))\n",
    "        stop_adding = time.perf_counter()\n",
    "        run_id = datasaver.run_id\n",
    "    stop = time.perf_counter()\n",
    "    tot_time = stop - start\n",
    "    add_time = stop_adding - start_adding\n",
    "    return tot_time, add_time, run_id"
   ]
  },
  {
   "cell_type": "markdown",
   "metadata": {},
   "source": [
    "## Comparison between numeric/array data and binary blob"
   ]
  },
  {
   "cell_type": "markdown",
   "metadata": {},
   "source": [
    "### Case1: Short experiment time"
   ]
  },
  {
   "cell_type": "code",
   "execution_count": 5,
   "metadata": {
    "execution": {
     "iopub.execute_input": "2020-09-24T16:34:10.674658Z",
     "iopub.status.busy": "2020-09-24T16:34:10.674133Z",
     "iopub.status.idle": "2020-09-24T16:34:11.429558Z",
     "shell.execute_reply": "2020-09-24T16:34:11.429051Z"
    }
   },
   "outputs": [
    {
     "name": "stdout",
     "output_type": "stream",
     "text": [
      "Starting experimental run with id: 1. \n",
      "Starting experimental run with id: 2. \n",
      "Starting experimental run with id: 3. \n",
      "Starting experimental run with id: 4. \n",
      "Starting experimental run with id: 5. \n"
     ]
    },
    {
     "name": "stdout",
     "output_type": "stream",
     "text": [
      "Starting experimental run with id: 6. \n"
     ]
    },
    {
     "name": "stdout",
     "output_type": "stream",
     "text": [
      "Starting experimental run with id: 7. \n"
     ]
    },
    {
     "name": "stdout",
     "output_type": "stream",
     "text": [
      "Starting experimental run with id: 8. \n",
      "Starting experimental run with id: 9. \n"
     ]
    },
    {
     "name": "stdout",
     "output_type": "stream",
     "text": [
      "Starting experimental run with id: 10. \n"
     ]
    },
    {
     "name": "stdout",
     "output_type": "stream",
     "text": [
      "Starting experimental run with id: 11. \n"
     ]
    },
    {
     "name": "stdout",
     "output_type": "stream",
     "text": [
      "Starting experimental run with id: 12. \n",
      "Starting experimental run with id: 13. \n"
     ]
    },
    {
     "name": "stdout",
     "output_type": "stream",
     "text": [
      "Starting experimental run with id: 14. \n"
     ]
    }
   ],
   "source": [
    "sizes = [1,500,1000,2000,3000,4000,5000]\n",
    "t_numeric = []\n",
    "t_numeric_add = []\n",
    "t_array = []\n",
    "t_array_add = []\n",
    "for size in sizes:\n",
    "    tn, tna, run_id_n =  insert_data('numeric', size)\n",
    "    t_numeric.append(tn)\n",
    "    t_numeric_add.append(tna)\n",
    "\n",
    "    ta, taa, run_id_a =  insert_data('array', size)\n",
    "    t_array.append(ta)\n",
    "    t_array_add.append(taa)"
   ]
  },
  {
   "cell_type": "code",
   "execution_count": 6,
   "metadata": {
    "execution": {
     "iopub.execute_input": "2020-09-24T16:34:11.447524Z",
     "iopub.status.busy": "2020-09-24T16:34:11.446997Z",
     "iopub.status.idle": "2020-09-24T16:34:11.676101Z",
     "shell.execute_reply": "2020-09-24T16:34:11.675395Z"
    }
   },
   "outputs": [
    {
     "data": {
      "image/png": "[encoded data removed]",
      "text/plain": [
       "<Figure size 432x288 with 1 Axes>"
      ]
     },
     "metadata": {
      "needs_background": "light"
     },
     "output_type": "display_data"
    }
   ],
   "source": [
    "fig, ax = plt.subplots(1,1)\n",
    "ax.plot(sizes, t_numeric, 'o-', label='Inserting row-by-row')\n",
    "ax.plot(sizes, t_numeric_add, 'o-', label='Inserting row-by-row: add_result only')\n",
    "ax.plot(sizes, t_array, 'd-', label='Inserting as binary blob')\n",
    "ax.plot(sizes, t_array_add, 'd-', label='Inserting as binary blob: add_result only')\n",
    "ax.legend()\n",
    "ax.set_xlabel('Array length')\n",
    "ax.set_ylabel('Time (s)')\n",
    "fig.tight_layout()"
   ]
  },
  {
   "cell_type": "markdown",
   "metadata": {},
   "source": [
    "As shown in the latter figure, the time to setup and and close the experiment is approximately 0.4 sec. In case of small array sizes, the difference between inserting values of data as arrays and inserting them row-by-row is relatively unimportant. At larger array sizes, i.e. above 10000 points, the cost of writing data as individual datapoints starts to become important.\n"
   ]
  },
  {
   "cell_type": "markdown",
   "metadata": {},
   "source": [
    "### Case2: Long experiment time "
   ]
  },
  {
   "cell_type": "code",
   "execution_count": 7,
   "metadata": {
    "execution": {
     "iopub.execute_input": "2020-09-24T16:34:11.682553Z",
     "iopub.status.busy": "2020-09-24T16:34:11.681464Z",
     "iopub.status.idle": "2020-09-24T16:35:05.430165Z",
     "shell.execute_reply": "2020-09-24T16:35:05.430645Z"
    }
   },
   "outputs": [
    {
     "name": "stdout",
     "output_type": "stream",
     "text": [
      "Starting experimental run with id: 15. \n",
      "Starting experimental run with id: 16. \n",
      "Starting experimental run with id: 17. \n"
     ]
    },
    {
     "name": "stdout",
     "output_type": "stream",
     "text": [
      "Starting experimental run with id: 18. \n",
      "Starting experimental run with id: 19. \n"
     ]
    },
    {
     "name": "stdout",
     "output_type": "stream",
     "text": [
      "Starting experimental run with id: 20. \n"
     ]
    },
    {
     "name": "stdout",
     "output_type": "stream",
     "text": [
      "Starting experimental run with id: 21. \n"
     ]
    },
    {
     "name": "stdout",
     "output_type": "stream",
     "text": [
      "Starting experimental run with id: 22. \n"
     ]
    },
    {
     "name": "stdout",
     "output_type": "stream",
     "text": [
      "Starting experimental run with id: 23. \n"
     ]
    },
    {
     "name": "stdout",
     "output_type": "stream",
     "text": [
      "Starting experimental run with id: 24. \n"
     ]
    },
    {
     "name": "stdout",
     "output_type": "stream",
     "text": [
      "Starting experimental run with id: 25. \n"
     ]
    },
    {
     "name": "stdout",
     "output_type": "stream",
     "text": [
      "Starting experimental run with id: 26. \n"
     ]
    },
    {
     "name": "stdout",
     "output_type": "stream",
     "text": [
      "Starting experimental run with id: 27. \n"
     ]
    },
    {
     "name": "stdout",
     "output_type": "stream",
     "text": [
      "Starting experimental run with id: 28. \n"
     ]
    }
   ],
   "source": [
    "sizes = [1,500,1000,2000,3000,4000,5000]\n",
    "nreps = 100\n",
    "t_numeric = []\n",
    "t_numeric_add = []\n",
    "t_numeric_run_ids = []\n",
    "t_array = []\n",
    "t_array_add = []\n",
    "t_array_run_ids = []\n",
    "for size in sizes:\n",
    "    tn, tna, run_id_n =  insert_data('numeric', size, nreps=nreps)\n",
    "    t_numeric.append(tn)\n",
    "    t_numeric_add.append(tna)\n",
    "    t_numeric_run_ids.append(run_id_n)\n",
    "\n",
    "    ta, taa, run_id_a =  insert_data('array', size, nreps=nreps)\n",
    "    t_array.append(ta)\n",
    "    t_array_add.append(taa)\n",
    "    t_array_run_ids.append(run_id_a)"
   ]
  },
  {
   "cell_type": "code",
   "execution_count": 8,
   "metadata": {
    "execution": {
     "iopub.execute_input": "2020-09-24T16:35:05.451931Z",
     "iopub.status.busy": "2020-09-24T16:35:05.449302Z",
     "iopub.status.idle": "2020-09-24T16:35:05.688225Z",
     "shell.execute_reply": "2020-09-24T16:35:05.688804Z"
    },
    "scrolled": true
   },
   "outputs": [
    {
     "data": {
      "image/png": "[encoded data removed]",
      "text/plain": [
       "<Figure size 432x288 with 1 Axes>"
      ]
     },
     "metadata": {
      "needs_background": "light"
     },
     "output_type": "display_data"
    }
   ],
   "source": [
    "fig, ax = plt.subplots(1,1)\n",
    "ax.plot(sizes, t_numeric, 'o-', label='Inserting row-by-row')\n",
    "ax.plot(sizes, t_numeric_add, 'o-', label='Inserting row-by-row: add_result only')\n",
    "ax.plot(sizes, t_array, 'd-', label='Inserting as binary blob')\n",
    "ax.plot(sizes, t_array_add, 'd-', label='Inserting as binary blob: add_result only')\n",
    "ax.legend()\n",
    "ax.set_xlabel('Array length')\n",
    "ax.set_ylabel('Time (s)')\n",
    "fig.tight_layout()"
   ]
  },
  {
   "cell_type": "markdown",
   "metadata": {},
   "source": [
    "However, as we increase the length of the experiment, as seen here by repeating the insertion 100 times, we see a big difference between inserting values of the data row-by-row and inserting it as a binary blob."
   ]
  },
  {
   "cell_type": "markdown",
   "metadata": {},
   "source": [
    "## Loading the data "
   ]
  },
  {
   "cell_type": "code",
   "execution_count": 9,
   "metadata": {
    "execution": {
     "iopub.execute_input": "2020-09-24T16:35:05.694092Z",
     "iopub.status.busy": "2020-09-24T16:35:05.693453Z",
     "iopub.status.idle": "2020-09-24T16:35:05.697654Z",
     "shell.execute_reply": "2020-09-24T16:35:05.697111Z"
    }
   },
   "outputs": [],
   "source": [
    "from qcodes.dataset.data_set import load_by_id\n",
    "from qcodes.dataset.data_export import get_data_by_id"
   ]
  },
  {
   "cell_type": "markdown",
   "metadata": {},
   "source": [
    "As usual you can load the data by using the ``load_by_id`` function but you will notice that the different storage methods\n",
    "are reflected in shape of the data as it is retrieved. "
   ]
  },
  {
   "cell_type": "code",
   "execution_count": 10,
   "metadata": {
    "execution": {
     "iopub.execute_input": "2020-09-24T16:35:05.702578Z",
     "iopub.status.busy": "2020-09-24T16:35:05.701227Z",
     "iopub.status.idle": "2020-09-24T16:35:05.703382Z",
     "shell.execute_reply": "2020-09-24T16:35:05.703926Z"
    }
   },
   "outputs": [],
   "source": [
    "run_id_n = t_numeric_run_ids[0]\n",
    "run_id_a = t_array_run_ids[0]"
   ]
  },
  {
   "cell_type": "code",
   "execution_count": 11,
   "metadata": {
    "execution": {
     "iopub.execute_input": "2020-09-24T16:35:05.707701Z",
     "iopub.status.busy": "2020-09-24T16:35:05.707108Z",
     "iopub.status.idle": "2020-09-24T16:35:05.716977Z",
     "shell.execute_reply": "2020-09-24T16:35:05.716437Z"
    },
    "scrolled": true
   },
   "outputs": [
    {
     "data": {
      "text/plain": [
       "{'x1': {'x1': array([0.43931761, 0.43931761, 0.88161481, 0.88161481, 0.5733971 ,\n",
       "         0.5733971 , 0.69096898, 0.69096898, 0.9364131 , 0.9364131 ,\n",
       "         0.70301981, 0.70301981, 0.28315805, 0.28315805, 0.93019966,\n",
       "         0.93019966, 0.11547231, 0.11547231, 0.07192315, 0.07192315,\n",
       "         0.03804189, 0.03804189, 0.71832241, 0.71832241, 0.78840704,\n",
       "         0.78840704, 0.32942364, 0.32942364, 0.26573485, 0.26573485,\n",
       "         0.96499053, 0.96499053, 0.52580712, 0.52580712, 0.8523978 ,\n",
       "         0.8523978 , 0.63460724, 0.63460724, 0.20290738, 0.20290738,\n",
       "         0.0751783 , 0.0751783 , 0.86671853, 0.86671853, 0.85384579,\n",
       "         0.85384579, 0.67826064, 0.67826064, 0.32192738, 0.32192738,\n",
       "         0.96136741, 0.96136741, 0.96008809, 0.96008809, 0.18611889,\n",
       "         0.18611889, 0.58060172, 0.58060172, 0.83776271, 0.83776271,\n",
       "         0.09732004, 0.09732004, 0.98013396, 0.98013396, 0.95095355,\n",
       "         0.95095355, 0.83110627, 0.83110627, 0.64194208, 0.64194208,\n",
       "         0.7452241 , 0.7452241 , 0.59321192, 0.59321192, 0.32277579,\n",
       "         0.32277579, 0.94883338, 0.94883338, 0.2734001 , 0.2734001 ,\n",
       "         0.15480458, 0.15480458, 0.26795259, 0.26795259, 0.11805265,\n",
       "         0.11805265, 0.18760635, 0.18760635, 0.63757995, 0.63757995,\n",
       "         0.68858284, 0.68858284, 0.37915122, 0.37915122, 0.22391187,\n",
       "         0.22391187, 0.5909872 , 0.5909872 , 0.45415067, 0.45415067,\n",
       "         0.72586082, 0.72586082, 0.86624225, 0.86624225, 0.39999317,\n",
       "         0.39999317, 0.18611601, 0.18611601, 0.01750445, 0.01750445,\n",
       "         0.72600632, 0.72600632, 0.69765014, 0.69765014, 0.8402626 ,\n",
       "         0.8402626 , 0.18668524, 0.18668524, 0.42206139, 0.42206139,\n",
       "         0.35465259, 0.35465259, 0.97384899, 0.97384899, 0.4060193 ,\n",
       "         0.4060193 , 0.90301297, 0.90301297, 0.66950195, 0.66950195,\n",
       "         0.64105002, 0.64105002, 0.84218122, 0.84218122, 0.09092471,\n",
       "         0.09092471, 0.87251728, 0.87251728, 0.6560297 , 0.6560297 ,\n",
       "         0.92748263, 0.92748263, 0.23884542, 0.23884542, 0.8122722 ,\n",
       "         0.8122722 , 0.9611222 , 0.9611222 , 0.06240989, 0.06240989,\n",
       "         0.17706135, 0.17706135, 0.7865074 , 0.7865074 , 0.29686536,\n",
       "         0.29686536, 0.45549046, 0.45549046, 0.97698863, 0.97698863,\n",
       "         0.82330517, 0.82330517, 0.99274488, 0.99274488, 0.68718753,\n",
       "         0.68718753, 0.47523588, 0.47523588, 0.38546768, 0.38546768,\n",
       "         0.56386545, 0.56386545, 0.97217208, 0.97217208, 0.64308545,\n",
       "         0.64308545, 0.16798492, 0.16798492, 0.17000031, 0.17000031,\n",
       "         0.44766688, 0.44766688, 0.98821849, 0.98821849, 0.08292905,\n",
       "         0.08292905, 0.94920547, 0.94920547, 0.71191742, 0.71191742,\n",
       "         0.59258011, 0.59258011, 0.91276409, 0.91276409, 0.48230969,\n",
       "         0.48230969, 0.11420387, 0.11420387, 0.6291245 , 0.6291245 ])}}"
      ]
     },
     "execution_count": 1,
     "metadata": {},
     "output_type": "execute_result"
    }
   ],
   "source": [
    "ds = load_by_id(run_id_n)\n",
    "ds.get_parameter_data('x1')"
   ]
  },
  {
   "cell_type": "markdown",
   "metadata": {},
   "source": [
    "And a dataset stored as binary arrays"
   ]
  },
  {
   "cell_type": "code",
   "execution_count": 12,
   "metadata": {
    "execution": {
     "iopub.execute_input": "2020-09-24T16:35:05.720667Z",
     "iopub.status.busy": "2020-09-24T16:35:05.720033Z",
     "iopub.status.idle": "2020-09-24T16:35:05.781393Z",
     "shell.execute_reply": "2020-09-24T16:35:05.781953Z"
    },
    "scrolled": true
   },
   "outputs": [
    {
     "data": {
      "text/plain": [
       "{'x1': {'x1': array([[0.28863431],\n",
       "         [0.28863431],\n",
       "         [0.28367828],\n",
       "         [0.28367828],\n",
       "         [0.48357866],\n",
       "         [0.48357866],\n",
       "         [0.41892775],\n",
       "         [0.41892775],\n",
       "         [0.17270855],\n",
       "         [0.17270855],\n",
       "         [0.98049525],\n",
       "         [0.98049525],\n",
       "         [0.76864971],\n",
       "         [0.76864971],\n",
       "         [0.98843876],\n",
       "         [0.98843876],\n",
       "         [0.16074384],\n",
       "         [0.16074384],\n",
       "         [0.51496746],\n",
       "         [0.51496746],\n",
       "         [0.19370511],\n",
       "         [0.19370511],\n",
       "         [0.93675271],\n",
       "         [0.93675271],\n",
       "         [0.33692595],\n",
       "         [0.33692595],\n",
       "         [0.82187576],\n",
       "         [0.82187576],\n",
       "         [0.64560274],\n",
       "         [0.64560274],\n",
       "         [0.39707866],\n",
       "         [0.39707866],\n",
       "         [0.25074912],\n",
       "         [0.25074912],\n",
       "         [0.75965197],\n",
       "         [0.75965197],\n",
       "         [0.33860829],\n",
       "         [0.33860829],\n",
       "         [0.82479247],\n",
       "         [0.82479247],\n",
       "         [0.54158228],\n",
       "         [0.54158228],\n",
       "         [0.3054673 ],\n",
       "         [0.3054673 ],\n",
       "         [0.63551133],\n",
       "         [0.63551133],\n",
       "         [0.09551487],\n",
       "         [0.09551487],\n",
       "         [0.17236338],\n",
       "         [0.17236338],\n",
       "         [0.25884657],\n",
       "         [0.25884657],\n",
       "         [0.16227049],\n",
       "         [0.16227049],\n",
       "         [0.42304971],\n",
       "         [0.42304971],\n",
       "         [0.4904486 ],\n",
       "         [0.4904486 ],\n",
       "         [0.56103259],\n",
       "         [0.56103259],\n",
       "         [0.56822717],\n",
       "         [0.56822717],\n",
       "         [0.04792528],\n",
       "         [0.04792528],\n",
       "         [0.83453809],\n",
       "         [0.83453809],\n",
       "         [0.09085211],\n",
       "         [0.09085211],\n",
       "         [0.27688567],\n",
       "         [0.27688567],\n",
       "         [0.16506409],\n",
       "         [0.16506409],\n",
       "         [0.81800589],\n",
       "         [0.81800589],\n",
       "         [0.85161056],\n",
       "         [0.85161056],\n",
       "         [0.26465607],\n",
       "         [0.26465607],\n",
       "         [0.48819855],\n",
       "         [0.48819855],\n",
       "         [0.93354079],\n",
       "         [0.93354079],\n",
       "         [0.98408539],\n",
       "         [0.98408539],\n",
       "         [0.9673738 ],\n",
       "         [0.9673738 ],\n",
       "         [0.35727463],\n",
       "         [0.35727463],\n",
       "         [0.81970108],\n",
       "         [0.81970108],\n",
       "         [0.72963526],\n",
       "         [0.72963526],\n",
       "         [0.26377809],\n",
       "         [0.26377809],\n",
       "         [0.07721082],\n",
       "         [0.07721082],\n",
       "         [0.00565693],\n",
       "         [0.00565693],\n",
       "         [0.56920382],\n",
       "         [0.56920382],\n",
       "         [0.57140388],\n",
       "         [0.57140388],\n",
       "         [0.72549855],\n",
       "         [0.72549855],\n",
       "         [0.43170499],\n",
       "         [0.43170499],\n",
       "         [0.90909042],\n",
       "         [0.90909042],\n",
       "         [0.99495351],\n",
       "         [0.99495351],\n",
       "         [0.44154431],\n",
       "         [0.44154431],\n",
       "         [0.1722708 ],\n",
       "         [0.1722708 ],\n",
       "         [0.25839379],\n",
       "         [0.25839379],\n",
       "         [0.4112284 ],\n",
       "         [0.4112284 ],\n",
       "         [0.38716589],\n",
       "         [0.38716589],\n",
       "         [0.57928788],\n",
       "         [0.57928788],\n",
       "         [0.71349549],\n",
       "         [0.71349549],\n",
       "         [0.96557988],\n",
       "         [0.96557988],\n",
       "         [0.16192771],\n",
       "         [0.16192771],\n",
       "         [0.72327315],\n",
       "         [0.72327315],\n",
       "         [0.10812866],\n",
       "         [0.10812866],\n",
       "         [0.34976169],\n",
       "         [0.34976169],\n",
       "         [0.79661858],\n",
       "         [0.79661858],\n",
       "         [0.31552466],\n",
       "         [0.31552466],\n",
       "         [0.70736467],\n",
       "         [0.70736467],\n",
       "         [0.37646608],\n",
       "         [0.37646608],\n",
       "         [0.84380998],\n",
       "         [0.84380998],\n",
       "         [0.69021277],\n",
       "         [0.69021277],\n",
       "         [0.12528736],\n",
       "         [0.12528736],\n",
       "         [0.99366457],\n",
       "         [0.99366457],\n",
       "         [0.32818472],\n",
       "         [0.32818472],\n",
       "         [0.25103544],\n",
       "         [0.25103544],\n",
       "         [0.43972064],\n",
       "         [0.43972064],\n",
       "         [0.22396913],\n",
       "         [0.22396913],\n",
       "         [0.00590868],\n",
       "         [0.00590868],\n",
       "         [0.43770669],\n",
       "         [0.43770669],\n",
       "         [0.88662429],\n",
       "         [0.88662429],\n",
       "         [0.11907881],\n",
       "         [0.11907881],\n",
       "         [0.84404024],\n",
       "         [0.84404024],\n",
       "         [0.75819932],\n",
       "         [0.75819932],\n",
       "         [0.25257943],\n",
       "         [0.25257943],\n",
       "         [0.01433157],\n",
       "         [0.01433157],\n",
       "         [0.49949835],\n",
       "         [0.49949835],\n",
       "         [0.74721207],\n",
       "         [0.74721207],\n",
       "         [0.89488052],\n",
       "         [0.89488052],\n",
       "         [0.23034149],\n",
       "         [0.23034149],\n",
       "         [0.56112037],\n",
       "         [0.56112037],\n",
       "         [0.87898916],\n",
       "         [0.87898916],\n",
       "         [0.61339167],\n",
       "         [0.61339167],\n",
       "         [0.52476542],\n",
       "         [0.52476542],\n",
       "         [0.55316957],\n",
       "         [0.55316957],\n",
       "         [0.29917149],\n",
       "         [0.29917149],\n",
       "         [0.78588277],\n",
       "         [0.78588277],\n",
       "         [0.1734396 ],\n",
       "         [0.1734396 ],\n",
       "         [0.45723495],\n",
       "         [0.45723495]])}}"
      ]
     },
     "execution_count": 1,
     "metadata": {},
     "output_type": "execute_result"
    }
   ],
   "source": [
    "ds = load_by_id(run_id_a)\n",
    "ds.get_parameter_data('x1')"
   ]
  },
  {
   "cell_type": "code",
   "execution_count": null,
   "metadata": {},
   "outputs": [],
   "source": []
  }
 ],
 "metadata": {
  "kernelspec": {
   "display_name": "Python 3",
   "language": "python",
   "name": "python3"
  },
  "language_info": {
   "codemirror_mode": {
    "name": "ipython",
    "version": 3
   },
   "file_extension": ".py",
   "mimetype": "text/x-python",
   "name": "python",
   "nbconvert_exporter": "python",
   "pygments_lexer": "ipython3",
   "version": "3.7.7"
  },
  "nbsphinx": {
   "timeout": 600
  },
  "toc": {
   "base_numbering": 1,
   "nav_menu": {},
   "number_sections": true,
   "sideBar": true,
   "skip_h1_title": false,
   "title_cell": "Table of Contents",
   "title_sidebar": "Contents",
   "toc_cell": false,
   "toc_position": {},
   "toc_section_display": true,
   "toc_window_display": false
  },
  "varInspector": {
   "cols": {
    "lenName": 16,
    "lenType": 16,
    "lenVar": 40
   },
   "kernels_config": {
    "python": {
     "delete_cmd_postfix": "",
     "delete_cmd_prefix": "del ",
     "library": "var_list.py",
     "varRefreshCmd": "print(var_dic_list())"
    },
    "r": {
     "delete_cmd_postfix": ") ",
     "delete_cmd_prefix": "rm(",
     "library": "var_list.r",
     "varRefreshCmd": "cat(var_dic_list()) "
    }
   },
   "types_to_exclude": [
    "module",
    "function",
    "builtin_function_or_method",
    "instance",
    "_Feature"
   ],
   "window_display": false
  }
 },
 "nbformat": 4,
 "nbformat_minor": 2
}
