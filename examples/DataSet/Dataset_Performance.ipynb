{
 "cells": [
  {
   "cell_type": "markdown",
   "metadata": {},
   "source": [
    "# DataSet Performance\n",
    "\n",
    "This notebook shows the trade-off between inserting data into a database row-by-row and as binary blobs. Inserting the data row-by-row means that we have direct access to all the data and may perform queries directly on the values of the data. On the other hand, as we shall see, this is much slower than inserting the data directly as binary blobs."
   ]
  },
  {
   "cell_type": "markdown",
   "metadata": {},
   "source": [
    "First, we choose a new location for the database to ensure that we don't add a bunch of benchmarking data to the default one."
   ]
  },
  {
   "cell_type": "code",
   "execution_count": 1,
   "metadata": {},
   "outputs": [
    {
     "name": "stdout",
     "output_type": "stream",
     "text": [
      "Logging hadn't been started.\n",
      "Activating auto-logging. Current session state plus future input saved.\n",
      "Filename       : /home/vsts/.qcodes/logs/command_history.log\n",
      "Mode           : append\n",
      "Output logging : True\n",
      "Raw input log  : False\n",
      "Timestamping   : True\n",
      "State          : active\n"
     ]
    },
    {
     "name": "stdout",
     "output_type": "stream",
     "text": [
      "Qcodes Logfile : /home/vsts/.qcodes/logs/200327-18473-qcodes.log\n"
     ]
    }
   ],
   "source": [
    "import os\n",
    "cwd = os.getcwd()\n",
    "import qcodes as qc\n",
    "qc.config[\"core\"][\"db_location\"] = os.path.join(cwd, 'testing.db')\n"
   ]
  },
  {
   "cell_type": "code",
   "execution_count": 2,
   "metadata": {},
   "outputs": [],
   "source": [
    "%matplotlib inline\n",
    "import time\n",
    "import matplotlib.pyplot as plt\n",
    "import numpy as np\n",
    "\n",
    "import qcodes as qc\n",
    "from qcodes.instrument.parameter import ManualParameter\n",
    "from qcodes.dataset.experiment_container import (Experiment,\n",
    "                                                 load_last_experiment,\n",
    "                                                 new_experiment)\n",
    "from qcodes.dataset.sqlite.database import initialise_database\n",
    "from qcodes import load_or_create_experiment\n",
    "from qcodes.dataset.measurements import Measurement"
   ]
  },
  {
   "cell_type": "code",
   "execution_count": 3,
   "metadata": {},
   "outputs": [
    {
     "name": "stdout",
     "output_type": "stream",
     "text": [
      "\r",
      "0it [00:00, ?it/s]"
     ]
    },
    {
     "name": "stdout",
     "output_type": "stream",
     "text": [
      "\r",
      "Upgrading database; v0 -> v1: : 0it [00:00, ?it/s]"
     ]
    },
    {
     "name": "stdout",
     "output_type": "stream",
     "text": [
      "\r",
      "Upgrading database; v0 -> v1: : 0it [00:00, ?it/s]"
     ]
    },
    {
     "name": "stdout",
     "output_type": "stream",
     "text": [
      "\n",
      "\r",
      "  0%|          | 0/1 [00:00<?, ?it/s]"
     ]
    },
    {
     "name": "stdout",
     "output_type": "stream",
     "text": [
      "\r",
      "Upgrading database; v1 -> v2:   0%|          | 0/1 [00:00<?, ?it/s]"
     ]
    },
    {
     "name": "stdout",
     "output_type": "stream",
     "text": [
      "\r",
      "Upgrading database; v1 -> v2: 100%|██████████| 1/1 [00:00<00:00, 1257.66it/s]"
     ]
    },
    {
     "name": "stdout",
     "output_type": "stream",
     "text": [
      "\n",
      "\r",
      "0it [00:00, ?it/s]"
     ]
    },
    {
     "name": "stdout",
     "output_type": "stream",
     "text": [
      "\r",
      "Upgrading database; v2 -> v3: : 0it [00:00, ?it/s]"
     ]
    },
    {
     "name": "stdout",
     "output_type": "stream",
     "text": [
      "\r",
      "Upgrading database; v2 -> v3: : 0it [00:00, ?it/s]"
     ]
    },
    {
     "name": "stdout",
     "output_type": "stream",
     "text": [
      "\n",
      "\r",
      "0it [00:00, ?it/s]"
     ]
    },
    {
     "name": "stdout",
     "output_type": "stream",
     "text": [
      "\r",
      "Upgrading database; v3 -> v4: : 0it [00:00, ?it/s]"
     ]
    },
    {
     "name": "stdout",
     "output_type": "stream",
     "text": [
      "\r",
      "Upgrading database; v3 -> v4: : 0it [00:00, ?it/s]"
     ]
    },
    {
     "name": "stdout",
     "output_type": "stream",
     "text": [
      "\n",
      "\r",
      "  0%|          | 0/1 [00:00<?, ?it/s]"
     ]
    },
    {
     "name": "stdout",
     "output_type": "stream",
     "text": [
      "\r",
      "Upgrading database; v4 -> v5:   0%|          | 0/1 [00:00<?, ?it/s]"
     ]
    },
    {
     "name": "stdout",
     "output_type": "stream",
     "text": [
      "\r",
      "Upgrading database; v4 -> v5: 100%|██████████| 1/1 [00:00<00:00, 937.07it/s]"
     ]
    },
    {
     "name": "stdout",
     "output_type": "stream",
     "text": [
      "\n",
      "\r",
      "0it [00:00, ?it/s]"
     ]
    },
    {
     "name": "stdout",
     "output_type": "stream",
     "text": [
      "\r",
      "Upgrading database; v5 -> v6: : 0it [00:00, ?it/s]"
     ]
    },
    {
     "name": "stdout",
     "output_type": "stream",
     "text": [
      "\r",
      "Upgrading database; v5 -> v6: : 0it [00:00, ?it/s]"
     ]
    },
    {
     "name": "stdout",
     "output_type": "stream",
     "text": [
      "\n",
      "\r",
      "  0%|          | 0/1 [00:00<?, ?it/s]"
     ]
    },
    {
     "name": "stdout",
     "output_type": "stream",
     "text": [
      "\r",
      "Upgrading database; v6 -> v7:   0%|          | 0/1 [00:00<?, ?it/s]"
     ]
    },
    {
     "name": "stdout",
     "output_type": "stream",
     "text": [
      "\r",
      "Upgrading database; v6 -> v7: 100%|██████████| 1/1 [00:00<00:00, 456.95it/s]"
     ]
    },
    {
     "name": "stdout",
     "output_type": "stream",
     "text": [
      "\n",
      "\r",
      "  0%|          | 0/1 [00:00<?, ?it/s]"
     ]
    },
    {
     "name": "stdout",
     "output_type": "stream",
     "text": [
      "\r",
      "Upgrading database; v7 -> v8:   0%|          | 0/1 [00:00<?, ?it/s]"
     ]
    },
    {
     "name": "stdout",
     "output_type": "stream",
     "text": [
      "\r",
      "Upgrading database; v7 -> v8: 100%|██████████| 1/1 [00:00<00:00, 812.53it/s]"
     ]
    },
    {
     "name": "stdout",
     "output_type": "stream",
     "text": [
      "\n",
      "\r",
      "  0%|          | 0/1 [00:00<?, ?it/s]"
     ]
    },
    {
     "name": "stdout",
     "output_type": "stream",
     "text": [
      "\r",
      "Upgrading database; v8 -> v9:   0%|          | 0/1 [00:00<?, ?it/s]"
     ]
    },
    {
     "name": "stdout",
     "output_type": "stream",
     "text": [
      "\r",
      "Upgrading database; v8 -> v9: 100%|██████████| 1/1 [00:00<00:00, 1038.71it/s]"
     ]
    },
    {
     "name": "stdout",
     "output_type": "stream",
     "text": [
      "\n"
     ]
    }
   ],
   "source": [
    "initialise_database()\n",
    "exp = load_or_create_experiment(experiment_name='tutorial_exp', sample_name=\"no sample\")"
   ]
  },
  {
   "cell_type": "markdown",
   "metadata": {},
   "source": [
    "Here, we define a simple function to benchmark the time it takes to insert n points with either numeric or array data type.\n",
    "We will compare both the time used to call ``add_result`` and the time used for the full measurement."
   ]
  },
  {
   "cell_type": "code",
   "execution_count": 4,
   "metadata": {},
   "outputs": [],
   "source": [
    "def insert_data(paramtype, npoints, nreps=1):\n",
    "\n",
    "    meas = Measurement(exp=exp)\n",
    "\n",
    "    x1 = ManualParameter('x1')\n",
    "    x2 = ManualParameter('x2')\n",
    "    x3 = ManualParameter('x3')\n",
    "    y1 = ManualParameter('y1')\n",
    "    y2 = ManualParameter('y2')\n",
    "\n",
    "    meas.register_parameter(x1, paramtype=paramtype)\n",
    "    meas.register_parameter(x2, paramtype=paramtype)\n",
    "    meas.register_parameter(x3, paramtype=paramtype)\n",
    "    meas.register_parameter(y1, setpoints=[x1, x2, x3],\n",
    "                            paramtype=paramtype)\n",
    "    meas.register_parameter(y2, setpoints=[x1, x2, x3],\n",
    "                            paramtype=paramtype)\n",
    "    start = time.perf_counter()\n",
    "    with meas.run() as datasaver:\n",
    "        start_adding = time.perf_counter()\n",
    "        for i in range(nreps):\n",
    "            datasaver.add_result((x1, np.random.rand(npoints)),\n",
    "                                 (x2, np.random.rand(npoints)),\n",
    "                                 (x3, np.random.rand(npoints)),\n",
    "                                 (y1, np.random.rand(npoints)),\n",
    "                                 (y2, np.random.rand(npoints)))\n",
    "        stop_adding = time.perf_counter()\n",
    "        run_id = datasaver.run_id\n",
    "    stop = time.perf_counter()\n",
    "    tot_time = stop - start\n",
    "    add_time = stop_adding - start_adding\n",
    "    return tot_time, add_time, run_id"
   ]
  },
  {
   "cell_type": "markdown",
   "metadata": {},
   "source": [
    "## Comparison between numeric/array data and binary blob"
   ]
  },
  {
   "cell_type": "markdown",
   "metadata": {},
   "source": [
    "### Case1: Short experiment time"
   ]
  },
  {
   "cell_type": "code",
   "execution_count": 5,
   "metadata": {},
   "outputs": [
    {
     "name": "stdout",
     "output_type": "stream",
     "text": [
      "Starting experimental run with id: 1. \n",
      "Starting experimental run with id: 2. \n",
      "Starting experimental run with id: 3. \n",
      "Starting experimental run with id: 4. \n"
     ]
    },
    {
     "name": "stdout",
     "output_type": "stream",
     "text": [
      "Starting experimental run with id: 5. \n"
     ]
    },
    {
     "name": "stdout",
     "output_type": "stream",
     "text": [
      "Starting experimental run with id: 6. \n",
      "Starting experimental run with id: 7. \n"
     ]
    },
    {
     "name": "stdout",
     "output_type": "stream",
     "text": [
      "Starting experimental run with id: 8. \n"
     ]
    },
    {
     "name": "stdout",
     "output_type": "stream",
     "text": [
      "Starting experimental run with id: 9. \n"
     ]
    },
    {
     "name": "stdout",
     "output_type": "stream",
     "text": [
      "Starting experimental run with id: 10. \n",
      "Starting experimental run with id: 11. \n"
     ]
    },
    {
     "name": "stdout",
     "output_type": "stream",
     "text": [
      "Starting experimental run with id: 12. \n",
      "Starting experimental run with id: 13. \n"
     ]
    },
    {
     "name": "stdout",
     "output_type": "stream",
     "text": [
      "Starting experimental run with id: 14. \n"
     ]
    }
   ],
   "source": [
    "sizes = [1,500,1000,2000,3000,4000,5000]\n",
    "t_numeric = []\n",
    "t_numeric_add = []\n",
    "t_array = []\n",
    "t_array_add = []\n",
    "for size in sizes:\n",
    "    tn, tna, run_id_n =  insert_data('numeric', size)\n",
    "    t_numeric.append(tn)\n",
    "    t_numeric_add.append(tna)\n",
    "\n",
    "    ta, taa, run_id_a =  insert_data('array', size)\n",
    "    t_array.append(ta)\n",
    "    t_array_add.append(taa)"
   ]
  },
  {
   "cell_type": "code",
   "execution_count": 6,
   "metadata": {},
   "outputs": [
    {
     "data": {
      "image/png": "[encoded data removed]",
      "text/plain": [
       "<Figure size 432x288 with 1 Axes>"
      ]
     },
     "metadata": {
      "needs_background": "light"
     },
     "output_type": "display_data"
    }
   ],
   "source": [
    "fig, ax = plt.subplots(1,1)\n",
    "ax.plot(sizes, t_numeric, 'o-', label='Inserting row-by-row')\n",
    "ax.plot(sizes, t_numeric_add, 'o-', label='Inserting row-by-row: add_result only')\n",
    "ax.plot(sizes, t_array, 'd-', label='Inserting as binary blob')\n",
    "ax.plot(sizes, t_array_add, 'd-', label='Inserting as binary blob: add_result only')\n",
    "ax.legend()\n",
    "ax.set_xlabel('Array length')\n",
    "ax.set_ylabel('Time (s)')\n",
    "fig.tight_layout()"
   ]
  },
  {
   "cell_type": "markdown",
   "metadata": {},
   "source": [
    "As shown in the latter figure, the time to setup and and close the experiment is approximately 0.4 sec. In case of small array sizes, the difference between inserting values of data as arrays and inserting them row-by-row is relatively unimportant. At larger array sizes, i.e. above 10000 points, the cost of writing data as individual datapoints starts to become important.\n"
   ]
  },
  {
   "cell_type": "markdown",
   "metadata": {},
   "source": [
    "### Case2: Long experiment time "
   ]
  },
  {
   "cell_type": "code",
   "execution_count": 7,
   "metadata": {},
   "outputs": [
    {
     "name": "stdout",
     "output_type": "stream",
     "text": [
      "Starting experimental run with id: 15. \n",
      "Starting experimental run with id: 16. \n",
      "Starting experimental run with id: 17. \n"
     ]
    },
    {
     "name": "stdout",
     "output_type": "stream",
     "text": [
      "Starting experimental run with id: 18. \n",
      "Starting experimental run with id: 19. \n"
     ]
    },
    {
     "name": "stdout",
     "output_type": "stream",
     "text": [
      "Starting experimental run with id: 20. \n"
     ]
    },
    {
     "name": "stdout",
     "output_type": "stream",
     "text": [
      "Starting experimental run with id: 21. \n"
     ]
    },
    {
     "name": "stdout",
     "output_type": "stream",
     "text": [
      "Starting experimental run with id: 22. \n"
     ]
    },
    {
     "name": "stdout",
     "output_type": "stream",
     "text": [
      "Starting experimental run with id: 23. \n"
     ]
    },
    {
     "name": "stdout",
     "output_type": "stream",
     "text": [
      "Starting experimental run with id: 24. \n"
     ]
    },
    {
     "name": "stdout",
     "output_type": "stream",
     "text": [
      "Starting experimental run with id: 25. \n"
     ]
    },
    {
     "name": "stdout",
     "output_type": "stream",
     "text": [
      "Starting experimental run with id: 26. \n"
     ]
    },
    {
     "name": "stdout",
     "output_type": "stream",
     "text": [
      "Starting experimental run with id: 27. \n"
     ]
    },
    {
     "name": "stdout",
     "output_type": "stream",
     "text": [
      "Starting experimental run with id: 28. \n"
     ]
    }
   ],
   "source": [
    "sizes = [1,500,1000,2000,3000,4000,5000]\n",
    "nreps = 100\n",
    "t_numeric = []\n",
    "t_numeric_add = []\n",
    "t_numeric_run_ids = []\n",
    "t_array = []\n",
    "t_array_add = []\n",
    "t_array_run_ids = []\n",
    "for size in sizes:\n",
    "    tn, tna, run_id_n =  insert_data('numeric', size, nreps=nreps)\n",
    "    t_numeric.append(tn)\n",
    "    t_numeric_add.append(tna)\n",
    "    t_numeric_run_ids.append(run_id_n)\n",
    "\n",
    "    ta, taa, run_id_a =  insert_data('array', size, nreps=nreps)\n",
    "    t_array.append(ta)\n",
    "    t_array_add.append(taa)\n",
    "    t_array_run_ids.append(run_id_a)"
   ]
  },
  {
   "cell_type": "code",
   "execution_count": 8,
   "metadata": {
    "scrolled": true
   },
   "outputs": [
    {
     "data": {
      "image/png": "[encoded data removed]",
      "text/plain": [
       "<Figure size 432x288 with 1 Axes>"
      ]
     },
     "metadata": {
      "needs_background": "light"
     },
     "output_type": "display_data"
    }
   ],
   "source": [
    "fig, ax = plt.subplots(1,1)\n",
    "ax.plot(sizes, t_numeric, 'o-', label='Inserting row-by-row')\n",
    "ax.plot(sizes, t_numeric_add, 'o-', label='Inserting row-by-row: add_result only')\n",
    "ax.plot(sizes, t_array, 'd-', label='Inserting as binary blob')\n",
    "ax.plot(sizes, t_array_add, 'd-', label='Inserting as binary blob: add_result only')\n",
    "ax.legend()\n",
    "ax.set_xlabel('Array length')\n",
    "ax.set_ylabel('Time (s)')\n",
    "fig.tight_layout()"
   ]
  },
  {
   "cell_type": "markdown",
   "metadata": {},
   "source": [
    "However, as we increase the length of the experiment, as seen here by repeating the insertion 100 times, we see a big difference between inserting values of the data row-by-row and inserting it as a binary blob."
   ]
  },
  {
   "cell_type": "markdown",
   "metadata": {},
   "source": [
    "## Loading the data "
   ]
  },
  {
   "cell_type": "code",
   "execution_count": 9,
   "metadata": {},
   "outputs": [],
   "source": [
    "from qcodes.dataset.data_set import load_by_id\n",
    "from qcodes.dataset.data_export import get_data_by_id"
   ]
  },
  {
   "cell_type": "markdown",
   "metadata": {},
   "source": [
    "As usual you can load the data by using the ``load_by_id`` function but you will notice that the different storage methods\n",
    "are reflected in shape of the data as it is retrieved. "
   ]
  },
  {
   "cell_type": "code",
   "execution_count": 10,
   "metadata": {},
   "outputs": [],
   "source": [
    "run_id_n = t_numeric_run_ids[0]\n",
    "run_id_a = t_array_run_ids[0]"
   ]
  },
  {
   "cell_type": "code",
   "execution_count": 11,
   "metadata": {
    "scrolled": true
   },
   "outputs": [
    {
     "data": {
      "text/plain": [
       "{'x1': {'x1': array([0.83249346, 0.83249346, 0.67624167, 0.67624167, 0.87682592,\n",
       "         0.87682592, 0.46501721, 0.46501721, 0.08456749, 0.08456749,\n",
       "         0.30991283, 0.30991283, 0.9505521 , 0.9505521 , 0.85906789,\n",
       "         0.85906789, 0.37539545, 0.37539545, 0.6973597 , 0.6973597 ,\n",
       "         0.98653874, 0.98653874, 0.07224277, 0.07224277, 0.97076787,\n",
       "         0.97076787, 0.20406744, 0.20406744, 0.16370832, 0.16370832,\n",
       "         0.02097445, 0.02097445, 0.39452347, 0.39452347, 0.95946569,\n",
       "         0.95946569, 0.37568133, 0.37568133, 0.64003949, 0.64003949,\n",
       "         0.72782496, 0.72782496, 0.43302   , 0.43302   , 0.81842426,\n",
       "         0.81842426, 0.78978837, 0.78978837, 0.84665086, 0.84665086,\n",
       "         0.13065112, 0.13065112, 0.78358546, 0.78358546, 0.22828305,\n",
       "         0.22828305, 0.04106395, 0.04106395, 0.3698287 , 0.3698287 ,\n",
       "         0.83255463, 0.83255463, 0.4400505 , 0.4400505 , 0.97107603,\n",
       "         0.97107603, 0.25638106, 0.25638106, 0.78548375, 0.78548375,\n",
       "         0.53915801, 0.53915801, 0.34127578, 0.34127578, 0.24855944,\n",
       "         0.24855944, 0.49421791, 0.49421791, 0.33125176, 0.33125176,\n",
       "         0.18701848, 0.18701848, 0.38126917, 0.38126917, 0.69728148,\n",
       "         0.69728148, 0.23269363, 0.23269363, 0.64725078, 0.64725078,\n",
       "         0.73192203, 0.73192203, 0.72044796, 0.72044796, 0.97733888,\n",
       "         0.97733888, 0.13446883, 0.13446883, 0.46964158, 0.46964158,\n",
       "         0.32170643, 0.32170643, 0.71253399, 0.71253399, 0.90783224,\n",
       "         0.90783224, 0.27658171, 0.27658171, 0.20446911, 0.20446911,\n",
       "         0.16502128, 0.16502128, 0.31998878, 0.31998878, 0.05888097,\n",
       "         0.05888097, 0.56050194, 0.56050194, 0.25512799, 0.25512799,\n",
       "         0.2163276 , 0.2163276 , 0.55364591, 0.55364591, 0.55367478,\n",
       "         0.55367478, 0.19536298, 0.19536298, 0.26109831, 0.26109831,\n",
       "         0.59424609, 0.59424609, 0.70165946, 0.70165946, 0.81212888,\n",
       "         0.81212888, 0.59855654, 0.59855654, 0.35719709, 0.35719709,\n",
       "         0.24700298, 0.24700298, 0.60975954, 0.60975954, 0.31548003,\n",
       "         0.31548003, 0.81518973, 0.81518973, 0.991286  , 0.991286  ,\n",
       "         0.8664677 , 0.8664677 , 0.26517542, 0.26517542, 0.95579619,\n",
       "         0.95579619, 0.79743673, 0.79743673, 0.19412836, 0.19412836,\n",
       "         0.64205353, 0.64205353, 0.57400566, 0.57400566, 0.94097052,\n",
       "         0.94097052, 0.07477918, 0.07477918, 0.40776985, 0.40776985,\n",
       "         0.84958841, 0.84958841, 0.80715335, 0.80715335, 0.55237471,\n",
       "         0.55237471, 0.00783787, 0.00783787, 0.63281659, 0.63281659,\n",
       "         0.37289435, 0.37289435, 0.05296279, 0.05296279, 0.56720729,\n",
       "         0.56720729, 0.87248459, 0.87248459, 0.24901056, 0.24901056,\n",
       "         0.87985164, 0.87985164, 0.05470097, 0.05470097, 0.60873262,\n",
       "         0.60873262, 0.16458275, 0.16458275, 0.09572092, 0.09572092])}}"
      ]
     },
     "execution_count": 11,
     "metadata": {},
     "output_type": "execute_result"
    }
   ],
   "source": [
    "ds = load_by_id(run_id_n)\n",
    "ds.get_parameter_data('x1')"
   ]
  },
  {
   "cell_type": "markdown",
   "metadata": {},
   "source": [
    "And a dataset stored as binary arrays"
   ]
  },
  {
   "cell_type": "code",
   "execution_count": 12,
   "metadata": {
    "scrolled": true
   },
   "outputs": [
    {
     "data": {
      "text/plain": [
       "{'x1': {'x1': array([[0.46084037],\n",
       "         [0.46084037],\n",
       "         [0.8997396 ],\n",
       "         [0.8997396 ],\n",
       "         [0.89770477],\n",
       "         [0.89770477],\n",
       "         [0.31872005],\n",
       "         [0.31872005],\n",
       "         [0.63212513],\n",
       "         [0.63212513],\n",
       "         [0.90746175],\n",
       "         [0.90746175],\n",
       "         [0.1451898 ],\n",
       "         [0.1451898 ],\n",
       "         [0.77037831],\n",
       "         [0.77037831],\n",
       "         [0.97763679],\n",
       "         [0.97763679],\n",
       "         [0.91853958],\n",
       "         [0.91853958],\n",
       "         [0.43324235],\n",
       "         [0.43324235],\n",
       "         [0.72464268],\n",
       "         [0.72464268],\n",
       "         [0.81158184],\n",
       "         [0.81158184],\n",
       "         [0.19835879],\n",
       "         [0.19835879],\n",
       "         [0.79371383],\n",
       "         [0.79371383],\n",
       "         [0.31109375],\n",
       "         [0.31109375],\n",
       "         [0.95807305],\n",
       "         [0.95807305],\n",
       "         [0.52561843],\n",
       "         [0.52561843],\n",
       "         [0.24793347],\n",
       "         [0.24793347],\n",
       "         [0.89143724],\n",
       "         [0.89143724],\n",
       "         [0.94598672],\n",
       "         [0.94598672],\n",
       "         [0.58961615],\n",
       "         [0.58961615],\n",
       "         [0.50710064],\n",
       "         [0.50710064],\n",
       "         [0.40066983],\n",
       "         [0.40066983],\n",
       "         [0.21355292],\n",
       "         [0.21355292],\n",
       "         [0.59922315],\n",
       "         [0.59922315],\n",
       "         [0.31667361],\n",
       "         [0.31667361],\n",
       "         [0.28257079],\n",
       "         [0.28257079],\n",
       "         [0.31726726],\n",
       "         [0.31726726],\n",
       "         [0.22224131],\n",
       "         [0.22224131],\n",
       "         [0.24712089],\n",
       "         [0.24712089],\n",
       "         [0.76775473],\n",
       "         [0.76775473],\n",
       "         [0.57902042],\n",
       "         [0.57902042],\n",
       "         [0.83452628],\n",
       "         [0.83452628],\n",
       "         [0.90501966],\n",
       "         [0.90501966],\n",
       "         [0.71043795],\n",
       "         [0.71043795],\n",
       "         [0.5026726 ],\n",
       "         [0.5026726 ],\n",
       "         [0.00575403],\n",
       "         [0.00575403],\n",
       "         [0.80556641],\n",
       "         [0.80556641],\n",
       "         [0.41928292],\n",
       "         [0.41928292],\n",
       "         [0.65740655],\n",
       "         [0.65740655],\n",
       "         [0.46940103],\n",
       "         [0.46940103],\n",
       "         [0.7619675 ],\n",
       "         [0.7619675 ],\n",
       "         [0.8188642 ],\n",
       "         [0.8188642 ],\n",
       "         [0.82787596],\n",
       "         [0.82787596],\n",
       "         [0.49069683],\n",
       "         [0.49069683],\n",
       "         [0.01650493],\n",
       "         [0.01650493],\n",
       "         [0.99261329],\n",
       "         [0.99261329],\n",
       "         [0.49748417],\n",
       "         [0.49748417],\n",
       "         [0.16682862],\n",
       "         [0.16682862],\n",
       "         [0.91832171],\n",
       "         [0.91832171],\n",
       "         [0.56838196],\n",
       "         [0.56838196],\n",
       "         [0.29744699],\n",
       "         [0.29744699],\n",
       "         [0.12104373],\n",
       "         [0.12104373],\n",
       "         [0.56986855],\n",
       "         [0.56986855],\n",
       "         [0.17760704],\n",
       "         [0.17760704],\n",
       "         [0.30610584],\n",
       "         [0.30610584],\n",
       "         [0.11104099],\n",
       "         [0.11104099],\n",
       "         [0.81798874],\n",
       "         [0.81798874],\n",
       "         [0.78449362],\n",
       "         [0.78449362],\n",
       "         [0.75483901],\n",
       "         [0.75483901],\n",
       "         [0.28533838],\n",
       "         [0.28533838],\n",
       "         [0.65638601],\n",
       "         [0.65638601],\n",
       "         [0.78173985],\n",
       "         [0.78173985],\n",
       "         [0.46813324],\n",
       "         [0.46813324],\n",
       "         [0.66171436],\n",
       "         [0.66171436],\n",
       "         [0.81656002],\n",
       "         [0.81656002],\n",
       "         [0.22432689],\n",
       "         [0.22432689],\n",
       "         [0.30456494],\n",
       "         [0.30456494],\n",
       "         [0.69873199],\n",
       "         [0.69873199],\n",
       "         [0.56980645],\n",
       "         [0.56980645],\n",
       "         [0.9131383 ],\n",
       "         [0.9131383 ],\n",
       "         [0.37501194],\n",
       "         [0.37501194],\n",
       "         [0.76716231],\n",
       "         [0.76716231],\n",
       "         [0.83145329],\n",
       "         [0.83145329],\n",
       "         [0.24935348],\n",
       "         [0.24935348],\n",
       "         [0.58764521],\n",
       "         [0.58764521],\n",
       "         [0.89900961],\n",
       "         [0.89900961],\n",
       "         [0.29582407],\n",
       "         [0.29582407],\n",
       "         [0.68989843],\n",
       "         [0.68989843],\n",
       "         [0.2273971 ],\n",
       "         [0.2273971 ],\n",
       "         [0.30062195],\n",
       "         [0.30062195],\n",
       "         [0.14183676],\n",
       "         [0.14183676],\n",
       "         [0.83307794],\n",
       "         [0.83307794],\n",
       "         [0.00581186],\n",
       "         [0.00581186],\n",
       "         [0.03350314],\n",
       "         [0.03350314],\n",
       "         [0.2810951 ],\n",
       "         [0.2810951 ],\n",
       "         [0.39890259],\n",
       "         [0.39890259],\n",
       "         [0.63271561],\n",
       "         [0.63271561],\n",
       "         [0.18471655],\n",
       "         [0.18471655],\n",
       "         [0.10344447],\n",
       "         [0.10344447],\n",
       "         [0.99258277],\n",
       "         [0.99258277],\n",
       "         [0.93978817],\n",
       "         [0.93978817],\n",
       "         [0.60929232],\n",
       "         [0.60929232],\n",
       "         [0.15583827],\n",
       "         [0.15583827],\n",
       "         [0.44336088],\n",
       "         [0.44336088],\n",
       "         [0.75342613],\n",
       "         [0.75342613],\n",
       "         [0.47218101],\n",
       "         [0.47218101],\n",
       "         [0.28159119],\n",
       "         [0.28159119],\n",
       "         [0.7566021 ],\n",
       "         [0.7566021 ]])}}"
      ]
     },
     "execution_count": 12,
     "metadata": {},
     "output_type": "execute_result"
    }
   ],
   "source": [
    "ds = load_by_id(run_id_a)\n",
    "ds.get_parameter_data('x1')"
   ]
  },
  {
   "cell_type": "code",
   "execution_count": null,
   "metadata": {},
   "outputs": [],
   "source": []
  }
 ],
 "metadata": {
  "kernelspec": {
   "display_name": "Python 3",
   "language": "python",
   "name": "python3"
  },
  "language_info": {
   "codemirror_mode": {
    "name": "ipython",
    "version": 3
   },
   "file_extension": ".py",
   "mimetype": "text/x-python",
   "name": "python",
   "nbconvert_exporter": "python",
   "pygments_lexer": "ipython3",
   "version": "3.7.7"
  },
  "nbsphinx": {
   "timeout": 600
  },
  "toc": {
   "base_numbering": 1,
   "nav_menu": {},
   "number_sections": true,
   "sideBar": true,
   "skip_h1_title": false,
   "title_cell": "Table of Contents",
   "title_sidebar": "Contents",
   "toc_cell": false,
   "toc_position": {},
   "toc_section_display": true,
   "toc_window_display": false
  },
  "varInspector": {
   "cols": {
    "lenName": 16,
    "lenType": 16,
    "lenVar": 40
   },
   "kernels_config": {
    "python": {
     "delete_cmd_postfix": "",
     "delete_cmd_prefix": "del ",
     "library": "var_list.py",
     "varRefreshCmd": "print(var_dic_list())"
    },
    "r": {
     "delete_cmd_postfix": ") ",
     "delete_cmd_prefix": "rm(",
     "library": "var_list.r",
     "varRefreshCmd": "cat(var_dic_list()) "
    }
   },
   "types_to_exclude": [
    "module",
    "function",
    "builtin_function_or_method",
    "instance",
    "_Feature"
   ],
   "window_display": false
  }
 },
 "nbformat": 4,
 "nbformat_minor": 2
}
