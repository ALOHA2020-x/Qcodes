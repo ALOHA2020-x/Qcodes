{
 "cells": [
  {
   "cell_type": "markdown",
   "metadata": {},
   "source": [
    "# DataSet Performance\n",
    "\n",
    "This notebook shows the trade-off between inserting data into a database row-by-row and as binary blobs. Inserting the data row-by-row means that we have direct access to all the data and may perform queries directly on the values of the data. On the other hand, as we shall see, this is much slower than inserting the data directly as binary blobs."
   ]
  },
  {
   "cell_type": "markdown",
   "metadata": {},
   "source": [
    "First, we choose a new location for the database to ensure that we don't add a bunch of benchmarking data to the default one."
   ]
  },
  {
   "cell_type": "code",
   "execution_count": 1,
   "metadata": {
    "execution": {
     "iopub.execute_input": "2021-03-05T11:26:00.322090Z",
     "iopub.status.busy": "2021-03-05T11:26:00.321461Z",
     "iopub.status.idle": "2021-03-05T11:26:01.144464Z",
     "shell.execute_reply": "2021-03-05T11:26:01.143879Z"
    }
   },
   "outputs": [
    {
     "name": "stdout",
     "output_type": "stream",
     "text": [
      "Logging hadn't been started.\n",
      "Activating auto-logging. Current session state plus future input saved.\n",
      "Filename       : /home/runner/.qcodes/logs/command_history.log\n",
      "Mode           : append\n",
      "Output logging : True\n",
      "Raw input log  : False\n",
      "Timestamping   : True\n",
      "State          : active\n"
     ]
    },
    {
     "name": "stdout",
     "output_type": "stream",
     "text": [
      "Qcodes Logfile : /home/runner/.qcodes/logs/210305-4049-qcodes.log\n"
     ]
    }
   ],
   "source": [
    "import os\n",
    "cwd = os.getcwd()\n",
    "import qcodes as qc\n",
    "qc.config[\"core\"][\"db_location\"] = os.path.join(cwd, 'testing.db')\n"
   ]
  },
  {
   "cell_type": "code",
   "execution_count": 2,
   "metadata": {
    "execution": {
     "iopub.execute_input": "2021-03-05T11:26:01.150524Z",
     "iopub.status.busy": "2021-03-05T11:26:01.149645Z",
     "iopub.status.idle": "2021-03-05T11:26:01.335693Z",
     "shell.execute_reply": "2021-03-05T11:26:01.335163Z"
    }
   },
   "outputs": [],
   "source": [
    "%matplotlib inline\n",
    "import time\n",
    "import matplotlib.pyplot as plt\n",
    "import numpy as np\n",
    "\n",
    "import qcodes as qc\n",
    "from qcodes.instrument.parameter import ManualParameter\n",
    "from qcodes.dataset.experiment_container import (Experiment,\n",
    "                                                 load_last_experiment,\n",
    "                                                 new_experiment)\n",
    "from qcodes.dataset.sqlite.database import initialise_database\n",
    "from qcodes import load_or_create_experiment\n",
    "from qcodes.dataset.measurements import Measurement"
   ]
  },
  {
   "cell_type": "code",
   "execution_count": 3,
   "metadata": {
    "execution": {
     "iopub.execute_input": "2021-03-05T11:26:01.339844Z",
     "iopub.status.busy": "2021-03-05T11:26:01.339119Z",
     "iopub.status.idle": "2021-03-05T11:26:01.650335Z",
     "shell.execute_reply": "2021-03-05T11:26:01.651093Z"
    }
   },
   "outputs": [
    {
     "name": "stdout",
     "output_type": "stream",
     "text": [
      "\r",
      "0it [00:00, ?it/s]"
     ]
    },
    {
     "name": "stdout",
     "output_type": "stream",
     "text": [
      "\r",
      "Upgrading database; v0 -> v1: : 0it [00:00, ?it/s]"
     ]
    },
    {
     "name": "stdout",
     "output_type": "stream",
     "text": [
      "\r",
      "Upgrading database; v0 -> v1: : 0it [00:00, ?it/s]"
     ]
    },
    {
     "name": "stdout",
     "output_type": "stream",
     "text": [
      "\n",
      "\r",
      "  0%|          | 0/1 [00:00<?, ?it/s]"
     ]
    },
    {
     "name": "stdout",
     "output_type": "stream",
     "text": [
      "\r",
      "Upgrading database; v1 -> v2:   0%|          | 0/1 [00:00<?, ?it/s]"
     ]
    },
    {
     "name": "stdout",
     "output_type": "stream",
     "text": [
      "\r",
      "Upgrading database; v1 -> v2: 100%|██████████| 1/1 [00:00<00:00, 771.86it/s]"
     ]
    },
    {
     "name": "stdout",
     "output_type": "stream",
     "text": [
      "\n",
      "\r",
      "0it [00:00, ?it/s]"
     ]
    },
    {
     "name": "stdout",
     "output_type": "stream",
     "text": [
      "\r",
      "Upgrading database; v2 -> v3: : 0it [00:00, ?it/s]"
     ]
    },
    {
     "name": "stdout",
     "output_type": "stream",
     "text": [
      "\r",
      "Upgrading database; v2 -> v3: : 0it [00:00, ?it/s]"
     ]
    },
    {
     "name": "stdout",
     "output_type": "stream",
     "text": [
      "\n",
      "\r",
      "0it [00:00, ?it/s]"
     ]
    },
    {
     "name": "stdout",
     "output_type": "stream",
     "text": [
      "\r",
      "Upgrading database; v3 -> v4: : 0it [00:00, ?it/s]"
     ]
    },
    {
     "name": "stdout",
     "output_type": "stream",
     "text": [
      "\r",
      "Upgrading database; v3 -> v4: : 0it [00:00, ?it/s]"
     ]
    },
    {
     "name": "stdout",
     "output_type": "stream",
     "text": [
      "\n",
      "\r",
      "  0%|          | 0/1 [00:00<?, ?it/s]"
     ]
    },
    {
     "name": "stdout",
     "output_type": "stream",
     "text": [
      "\r",
      "Upgrading database; v4 -> v5:   0%|          | 0/1 [00:00<?, ?it/s]"
     ]
    },
    {
     "name": "stdout",
     "output_type": "stream",
     "text": [
      "\r",
      "Upgrading database; v4 -> v5: 100%|██████████| 1/1 [00:00<00:00, 597.14it/s]"
     ]
    },
    {
     "name": "stdout",
     "output_type": "stream",
     "text": [
      "\n",
      "\r",
      "0it [00:00, ?it/s]"
     ]
    },
    {
     "name": "stdout",
     "output_type": "stream",
     "text": [
      "\r",
      "Upgrading database; v5 -> v6: : 0it [00:00, ?it/s]"
     ]
    },
    {
     "name": "stdout",
     "output_type": "stream",
     "text": [
      "\r",
      "Upgrading database; v5 -> v6: : 0it [00:00, ?it/s]"
     ]
    },
    {
     "name": "stdout",
     "output_type": "stream",
     "text": [
      "\n",
      "\r",
      "  0%|          | 0/1 [00:00<?, ?it/s]"
     ]
    },
    {
     "name": "stdout",
     "output_type": "stream",
     "text": [
      "\r",
      "Upgrading database; v6 -> v7:   0%|          | 0/1 [00:00<?, ?it/s]"
     ]
    },
    {
     "name": "stdout",
     "output_type": "stream",
     "text": [
      "\r",
      "Upgrading database; v6 -> v7: 100%|██████████| 1/1 [00:00<00:00, 58.26it/s]"
     ]
    },
    {
     "name": "stdout",
     "output_type": "stream",
     "text": [
      "\n",
      "\r",
      "  0%|          | 0/1 [00:00<?, ?it/s]"
     ]
    },
    {
     "name": "stdout",
     "output_type": "stream",
     "text": [
      "\r",
      "Upgrading database; v7 -> v8:   0%|          | 0/1 [00:00<?, ?it/s]"
     ]
    },
    {
     "name": "stdout",
     "output_type": "stream",
     "text": [
      "\r",
      "Upgrading database; v7 -> v8: 100%|██████████| 1/1 [00:00<00:00, 851.64it/s]"
     ]
    },
    {
     "name": "stdout",
     "output_type": "stream",
     "text": [
      "\n",
      "\r",
      "  0%|          | 0/1 [00:00<?, ?it/s]"
     ]
    },
    {
     "name": "stdout",
     "output_type": "stream",
     "text": [
      "\r",
      "Upgrading database; v8 -> v9:   0%|          | 0/1 [00:00<?, ?it/s]"
     ]
    },
    {
     "name": "stdout",
     "output_type": "stream",
     "text": [
      "\r",
      "Upgrading database; v8 -> v9: 100%|██████████| 1/1 [00:00<00:00, 1046.22it/s]"
     ]
    },
    {
     "name": "stdout",
     "output_type": "stream",
     "text": [
      "\n"
     ]
    }
   ],
   "source": [
    "initialise_database()\n",
    "exp = load_or_create_experiment(experiment_name='tutorial_exp', sample_name=\"no sample\")"
   ]
  },
  {
   "cell_type": "markdown",
   "metadata": {},
   "source": [
    "Here, we define a simple function to benchmark the time it takes to insert n points with either numeric or array data type.\n",
    "We will compare both the time used to call ``add_result`` and the time used for the full measurement."
   ]
  },
  {
   "cell_type": "code",
   "execution_count": 4,
   "metadata": {
    "execution": {
     "iopub.execute_input": "2021-03-05T11:26:01.658924Z",
     "iopub.status.busy": "2021-03-05T11:26:01.658324Z",
     "iopub.status.idle": "2021-03-05T11:26:01.662372Z",
     "shell.execute_reply": "2021-03-05T11:26:01.661634Z"
    }
   },
   "outputs": [],
   "source": [
    "def insert_data(paramtype, npoints, nreps=1):\n",
    "\n",
    "    meas = Measurement(exp=exp)\n",
    "\n",
    "    x1 = ManualParameter('x1')\n",
    "    x2 = ManualParameter('x2')\n",
    "    x3 = ManualParameter('x3')\n",
    "    y1 = ManualParameter('y1')\n",
    "    y2 = ManualParameter('y2')\n",
    "\n",
    "    meas.register_parameter(x1, paramtype=paramtype)\n",
    "    meas.register_parameter(x2, paramtype=paramtype)\n",
    "    meas.register_parameter(x3, paramtype=paramtype)\n",
    "    meas.register_parameter(y1, setpoints=[x1, x2, x3],\n",
    "                            paramtype=paramtype)\n",
    "    meas.register_parameter(y2, setpoints=[x1, x2, x3],\n",
    "                            paramtype=paramtype)\n",
    "    start = time.perf_counter()\n",
    "    with meas.run() as datasaver:\n",
    "        start_adding = time.perf_counter()\n",
    "        for i in range(nreps):\n",
    "            datasaver.add_result((x1, np.random.rand(npoints)),\n",
    "                                 (x2, np.random.rand(npoints)),\n",
    "                                 (x3, np.random.rand(npoints)),\n",
    "                                 (y1, np.random.rand(npoints)),\n",
    "                                 (y2, np.random.rand(npoints)))\n",
    "        stop_adding = time.perf_counter()\n",
    "        run_id = datasaver.run_id\n",
    "    stop = time.perf_counter()\n",
    "    tot_time = stop - start\n",
    "    add_time = stop_adding - start_adding\n",
    "    return tot_time, add_time, run_id"
   ]
  },
  {
   "cell_type": "markdown",
   "metadata": {},
   "source": [
    "## Comparison between numeric/array data and binary blob"
   ]
  },
  {
   "cell_type": "markdown",
   "metadata": {},
   "source": [
    "### Case1: Short experiment time"
   ]
  },
  {
   "cell_type": "code",
   "execution_count": 5,
   "metadata": {
    "execution": {
     "iopub.execute_input": "2021-03-05T11:26:01.668365Z",
     "iopub.status.busy": "2021-03-05T11:26:01.667546Z",
     "iopub.status.idle": "2021-03-05T11:26:03.049498Z",
     "shell.execute_reply": "2021-03-05T11:26:03.048974Z"
    }
   },
   "outputs": [
    {
     "name": "stdout",
     "output_type": "stream",
     "text": [
      "Starting experimental run with id: 1. \n"
     ]
    },
    {
     "name": "stdout",
     "output_type": "stream",
     "text": [
      "Starting experimental run with id: 2. \n"
     ]
    },
    {
     "name": "stdout",
     "output_type": "stream",
     "text": [
      "Starting experimental run with id: 3. \n",
      "Starting experimental run with id: 4. \n"
     ]
    },
    {
     "name": "stdout",
     "output_type": "stream",
     "text": [
      "Starting experimental run with id: 5. \n"
     ]
    },
    {
     "name": "stdout",
     "output_type": "stream",
     "text": [
      "Starting experimental run with id: 6. \n",
      "Starting experimental run with id: 7. \n"
     ]
    },
    {
     "name": "stdout",
     "output_type": "stream",
     "text": [
      "Starting experimental run with id: 8. \n"
     ]
    },
    {
     "name": "stdout",
     "output_type": "stream",
     "text": [
      "Starting experimental run with id: 9. \n"
     ]
    },
    {
     "name": "stdout",
     "output_type": "stream",
     "text": [
      "Starting experimental run with id: 10. \n"
     ]
    },
    {
     "name": "stdout",
     "output_type": "stream",
     "text": [
      "Starting experimental run with id: 11. \n"
     ]
    },
    {
     "name": "stdout",
     "output_type": "stream",
     "text": [
      "Starting experimental run with id: 12. \n"
     ]
    },
    {
     "name": "stdout",
     "output_type": "stream",
     "text": [
      "Starting experimental run with id: 13. \n"
     ]
    },
    {
     "name": "stdout",
     "output_type": "stream",
     "text": [
      "Starting experimental run with id: 14. \n"
     ]
    }
   ],
   "source": [
    "sizes = [1,500,1000,2000,3000,4000,5000]\n",
    "t_numeric = []\n",
    "t_numeric_add = []\n",
    "t_array = []\n",
    "t_array_add = []\n",
    "for size in sizes:\n",
    "    tn, tna, run_id_n =  insert_data('numeric', size)\n",
    "    t_numeric.append(tn)\n",
    "    t_numeric_add.append(tna)\n",
    "\n",
    "    ta, taa, run_id_a =  insert_data('array', size)\n",
    "    t_array.append(ta)\n",
    "    t_array_add.append(taa)"
   ]
  },
  {
   "cell_type": "code",
   "execution_count": 6,
   "metadata": {
    "execution": {
     "iopub.execute_input": "2021-03-05T11:26:03.068906Z",
     "iopub.status.busy": "2021-03-05T11:26:03.068261Z",
     "iopub.status.idle": "2021-03-05T11:26:03.279245Z",
     "shell.execute_reply": "2021-03-05T11:26:03.278666Z"
    }
   },
   "outputs": [
    {
     "data": {
      "image/png": "[encoded data removed]",
      "text/plain": [
       "<Figure size 432x288 with 1 Axes>"
      ]
     },
     "metadata": {
      "needs_background": "light"
     },
     "output_type": "display_data"
    }
   ],
   "source": [
    "fig, ax = plt.subplots(1,1)\n",
    "ax.plot(sizes, t_numeric, 'o-', label='Inserting row-by-row')\n",
    "ax.plot(sizes, t_numeric_add, 'o-', label='Inserting row-by-row: add_result only')\n",
    "ax.plot(sizes, t_array, 'd-', label='Inserting as binary blob')\n",
    "ax.plot(sizes, t_array_add, 'd-', label='Inserting as binary blob: add_result only')\n",
    "ax.legend()\n",
    "ax.set_xlabel('Array length')\n",
    "ax.set_ylabel('Time (s)')\n",
    "fig.tight_layout()"
   ]
  },
  {
   "cell_type": "markdown",
   "metadata": {},
   "source": [
    "As shown in the latter figure, the time to setup and and close the experiment is approximately 0.4 sec. In case of small array sizes, the difference between inserting values of data as arrays and inserting them row-by-row is relatively unimportant. At larger array sizes, i.e. above 10000 points, the cost of writing data as individual datapoints starts to become important.\n"
   ]
  },
  {
   "cell_type": "markdown",
   "metadata": {},
   "source": [
    "### Case2: Long experiment time "
   ]
  },
  {
   "cell_type": "code",
   "execution_count": 7,
   "metadata": {
    "execution": {
     "iopub.execute_input": "2021-03-05T11:26:03.287626Z",
     "iopub.status.busy": "2021-03-05T11:26:03.286387Z",
     "iopub.status.idle": "2021-03-05T11:27:02.165919Z",
     "shell.execute_reply": "2021-03-05T11:27:02.165431Z"
    }
   },
   "outputs": [
    {
     "name": "stdout",
     "output_type": "stream",
     "text": [
      "Starting experimental run with id: 15. \n",
      "Starting experimental run with id: 16. \n"
     ]
    },
    {
     "name": "stdout",
     "output_type": "stream",
     "text": [
      "Starting experimental run with id: 17. \n"
     ]
    },
    {
     "name": "stdout",
     "output_type": "stream",
     "text": [
      "Starting experimental run with id: 18. \n"
     ]
    },
    {
     "name": "stdout",
     "output_type": "stream",
     "text": [
      "Starting experimental run with id: 19. \n"
     ]
    },
    {
     "name": "stdout",
     "output_type": "stream",
     "text": [
      "Starting experimental run with id: 20. \n"
     ]
    },
    {
     "name": "stdout",
     "output_type": "stream",
     "text": [
      "Starting experimental run with id: 21. \n"
     ]
    },
    {
     "name": "stdout",
     "output_type": "stream",
     "text": [
      "Starting experimental run with id: 22. \n"
     ]
    },
    {
     "name": "stdout",
     "output_type": "stream",
     "text": [
      "Starting experimental run with id: 23. \n"
     ]
    },
    {
     "name": "stdout",
     "output_type": "stream",
     "text": [
      "Starting experimental run with id: 24. \n"
     ]
    },
    {
     "name": "stdout",
     "output_type": "stream",
     "text": [
      "Starting experimental run with id: 25. \n"
     ]
    },
    {
     "name": "stdout",
     "output_type": "stream",
     "text": [
      "Starting experimental run with id: 26. \n"
     ]
    },
    {
     "name": "stdout",
     "output_type": "stream",
     "text": [
      "Starting experimental run with id: 27. \n"
     ]
    },
    {
     "name": "stdout",
     "output_type": "stream",
     "text": [
      "Starting experimental run with id: 28. \n"
     ]
    }
   ],
   "source": [
    "sizes = [1,500,1000,2000,3000,4000,5000]\n",
    "nreps = 100\n",
    "t_numeric = []\n",
    "t_numeric_add = []\n",
    "t_numeric_run_ids = []\n",
    "t_array = []\n",
    "t_array_add = []\n",
    "t_array_run_ids = []\n",
    "for size in sizes:\n",
    "    tn, tna, run_id_n =  insert_data('numeric', size, nreps=nreps)\n",
    "    t_numeric.append(tn)\n",
    "    t_numeric_add.append(tna)\n",
    "    t_numeric_run_ids.append(run_id_n)\n",
    "\n",
    "    ta, taa, run_id_a =  insert_data('array', size, nreps=nreps)\n",
    "    t_array.append(ta)\n",
    "    t_array_add.append(taa)\n",
    "    t_array_run_ids.append(run_id_a)"
   ]
  },
  {
   "cell_type": "code",
   "execution_count": 8,
   "metadata": {
    "execution": {
     "iopub.execute_input": "2021-03-05T11:27:02.185013Z",
     "iopub.status.busy": "2021-03-05T11:27:02.184431Z",
     "iopub.status.idle": "2021-03-05T11:27:02.388093Z",
     "shell.execute_reply": "2021-03-05T11:27:02.387529Z"
    },
    "scrolled": true
   },
   "outputs": [
    {
     "data": {
      "image/png": "[encoded data removed]",
      "text/plain": [
       "<Figure size 432x288 with 1 Axes>"
      ]
     },
     "metadata": {
      "needs_background": "light"
     },
     "output_type": "display_data"
    }
   ],
   "source": [
    "fig, ax = plt.subplots(1,1)\n",
    "ax.plot(sizes, t_numeric, 'o-', label='Inserting row-by-row')\n",
    "ax.plot(sizes, t_numeric_add, 'o-', label='Inserting row-by-row: add_result only')\n",
    "ax.plot(sizes, t_array, 'd-', label='Inserting as binary blob')\n",
    "ax.plot(sizes, t_array_add, 'd-', label='Inserting as binary blob: add_result only')\n",
    "ax.legend()\n",
    "ax.set_xlabel('Array length')\n",
    "ax.set_ylabel('Time (s)')\n",
    "fig.tight_layout()"
   ]
  },
  {
   "cell_type": "markdown",
   "metadata": {},
   "source": [
    "However, as we increase the length of the experiment, as seen here by repeating the insertion 100 times, we see a big difference between inserting values of the data row-by-row and inserting it as a binary blob."
   ]
  },
  {
   "cell_type": "markdown",
   "metadata": {},
   "source": [
    "## Loading the data "
   ]
  },
  {
   "cell_type": "code",
   "execution_count": 9,
   "metadata": {
    "execution": {
     "iopub.execute_input": "2021-03-05T11:27:02.392745Z",
     "iopub.status.busy": "2021-03-05T11:27:02.392143Z",
     "iopub.status.idle": "2021-03-05T11:27:02.394905Z",
     "shell.execute_reply": "2021-03-05T11:27:02.394406Z"
    }
   },
   "outputs": [],
   "source": [
    "from qcodes.dataset.data_set import load_by_id\n",
    "from qcodes.dataset.data_export import get_data_by_id"
   ]
  },
  {
   "cell_type": "markdown",
   "metadata": {},
   "source": [
    "As usual you can load the data by using the ``load_by_id`` function but you will notice that the different storage methods\n",
    "are reflected in shape of the data as it is retrieved. "
   ]
  },
  {
   "cell_type": "code",
   "execution_count": 10,
   "metadata": {
    "execution": {
     "iopub.execute_input": "2021-03-05T11:27:02.399713Z",
     "iopub.status.busy": "2021-03-05T11:27:02.398290Z",
     "iopub.status.idle": "2021-03-05T11:27:02.400345Z",
     "shell.execute_reply": "2021-03-05T11:27:02.400823Z"
    }
   },
   "outputs": [],
   "source": [
    "run_id_n = t_numeric_run_ids[0]\n",
    "run_id_a = t_array_run_ids[0]"
   ]
  },
  {
   "cell_type": "code",
   "execution_count": 11,
   "metadata": {
    "execution": {
     "iopub.execute_input": "2021-03-05T11:27:02.404200Z",
     "iopub.status.busy": "2021-03-05T11:27:02.403636Z",
     "iopub.status.idle": "2021-03-05T11:27:02.412456Z",
     "shell.execute_reply": "2021-03-05T11:27:02.412906Z"
    },
    "scrolled": true
   },
   "outputs": [
    {
     "data": {
      "text/plain": [
       "{'x1': {'x1': array([0.60594487, 0.60594487, 0.12713631, 0.12713631, 0.05412082,\n",
       "         0.05412082, 0.51500536, 0.51500536, 0.13835623, 0.13835623,\n",
       "         0.95253429, 0.95253429, 0.21742506, 0.21742506, 0.70737406,\n",
       "         0.70737406, 0.9292476 , 0.9292476 , 0.06291102, 0.06291102,\n",
       "         0.9067181 , 0.9067181 , 0.50987675, 0.50987675, 0.81035656,\n",
       "         0.81035656, 0.49663758, 0.49663758, 0.47390606, 0.47390606,\n",
       "         0.80936035, 0.80936035, 0.33858476, 0.33858476, 0.88213995,\n",
       "         0.88213995, 0.88006748, 0.88006748, 0.78044199, 0.78044199,\n",
       "         0.49306202, 0.49306202, 0.64654151, 0.64654151, 0.12268382,\n",
       "         0.12268382, 0.53822825, 0.53822825, 0.0546338 , 0.0546338 ,\n",
       "         0.32420547, 0.32420547, 0.20826899, 0.20826899, 0.18520827,\n",
       "         0.18520827, 0.38973959, 0.38973959, 0.79549838, 0.79549838,\n",
       "         0.5127813 , 0.5127813 , 0.37546076, 0.37546076, 0.52362945,\n",
       "         0.52362945, 0.91078177, 0.91078177, 0.58444383, 0.58444383,\n",
       "         0.76460068, 0.76460068, 0.1583171 , 0.1583171 , 0.69720513,\n",
       "         0.69720513, 0.21419596, 0.21419596, 0.97886875, 0.97886875,\n",
       "         0.91758389, 0.91758389, 0.17728156, 0.17728156, 0.18737126,\n",
       "         0.18737126, 0.90123478, 0.90123478, 0.40214454, 0.40214454,\n",
       "         0.80780832, 0.80780832, 0.78296417, 0.78296417, 0.65951836,\n",
       "         0.65951836, 0.19347787, 0.19347787, 0.71430772, 0.71430772,\n",
       "         0.56263957, 0.56263957, 0.29514303, 0.29514303, 0.71278972,\n",
       "         0.71278972, 0.78225903, 0.78225903, 0.67795752, 0.67795752,\n",
       "         0.65248258, 0.65248258, 0.51918934, 0.51918934, 0.76209906,\n",
       "         0.76209906, 0.41745804, 0.41745804, 0.23070242, 0.23070242,\n",
       "         0.8534078 , 0.8534078 , 0.82040072, 0.82040072, 0.45163605,\n",
       "         0.45163605, 0.5329461 , 0.5329461 , 0.6813427 , 0.6813427 ,\n",
       "         0.8986599 , 0.8986599 , 0.32036558, 0.32036558, 0.47284902,\n",
       "         0.47284902, 0.63121153, 0.63121153, 0.85605044, 0.85605044,\n",
       "         0.57186314, 0.57186314, 0.18306107, 0.18306107, 0.25639901,\n",
       "         0.25639901, 0.9315252 , 0.9315252 , 0.19318483, 0.19318483,\n",
       "         0.27173359, 0.27173359, 0.26749702, 0.26749702, 0.79883873,\n",
       "         0.79883873, 0.88717492, 0.88717492, 0.93004516, 0.93004516,\n",
       "         0.50539332, 0.50539332, 0.99550139, 0.99550139, 0.91721799,\n",
       "         0.91721799, 0.12491429, 0.12491429, 0.50440098, 0.50440098,\n",
       "         0.13550506, 0.13550506, 0.32475371, 0.32475371, 0.68291837,\n",
       "         0.68291837, 0.70045476, 0.70045476, 0.8728745 , 0.8728745 ,\n",
       "         0.99086078, 0.99086078, 0.39022429, 0.39022429, 0.77165006,\n",
       "         0.77165006, 0.27243669, 0.27243669, 0.01023798, 0.01023798,\n",
       "         0.04003723, 0.04003723, 0.66592327, 0.66592327, 0.4684302 ,\n",
       "         0.4684302 , 0.01022411, 0.01022411, 0.67461722, 0.67461722])}}"
      ]
     },
     "execution_count": 1,
     "metadata": {},
     "output_type": "execute_result"
    }
   ],
   "source": [
    "ds = load_by_id(run_id_n)\n",
    "ds.get_parameter_data('x1')"
   ]
  },
  {
   "cell_type": "markdown",
   "metadata": {},
   "source": [
    "And a dataset stored as binary arrays"
   ]
  },
  {
   "cell_type": "code",
   "execution_count": 12,
   "metadata": {
    "execution": {
     "iopub.execute_input": "2021-03-05T11:27:02.416311Z",
     "iopub.status.busy": "2021-03-05T11:27:02.415746Z",
     "iopub.status.idle": "2021-03-05T11:27:02.475379Z",
     "shell.execute_reply": "2021-03-05T11:27:02.475805Z"
    },
    "scrolled": true
   },
   "outputs": [
    {
     "data": {
      "text/plain": [
       "{'x1': {'x1': array([[0.60940364],\n",
       "         [0.60940364],\n",
       "         [0.7112691 ],\n",
       "         [0.7112691 ],\n",
       "         [0.55699884],\n",
       "         [0.55699884],\n",
       "         [0.88812547],\n",
       "         [0.88812547],\n",
       "         [0.07957697],\n",
       "         [0.07957697],\n",
       "         [0.6154892 ],\n",
       "         [0.6154892 ],\n",
       "         [0.17657317],\n",
       "         [0.17657317],\n",
       "         [0.48184606],\n",
       "         [0.48184606],\n",
       "         [0.66914197],\n",
       "         [0.66914197],\n",
       "         [0.70690328],\n",
       "         [0.70690328],\n",
       "         [0.29782501],\n",
       "         [0.29782501],\n",
       "         [0.63596755],\n",
       "         [0.63596755],\n",
       "         [0.66474234],\n",
       "         [0.66474234],\n",
       "         [0.42258569],\n",
       "         [0.42258569],\n",
       "         [0.64375213],\n",
       "         [0.64375213],\n",
       "         [0.68443814],\n",
       "         [0.68443814],\n",
       "         [0.63117842],\n",
       "         [0.63117842],\n",
       "         [0.27718223],\n",
       "         [0.27718223],\n",
       "         [0.43366786],\n",
       "         [0.43366786],\n",
       "         [0.28689379],\n",
       "         [0.28689379],\n",
       "         [0.34799595],\n",
       "         [0.34799595],\n",
       "         [0.11030378],\n",
       "         [0.11030378],\n",
       "         [0.5718377 ],\n",
       "         [0.5718377 ],\n",
       "         [0.97615935],\n",
       "         [0.97615935],\n",
       "         [0.51474059],\n",
       "         [0.51474059],\n",
       "         [0.8041984 ],\n",
       "         [0.8041984 ],\n",
       "         [0.67395303],\n",
       "         [0.67395303],\n",
       "         [0.78565572],\n",
       "         [0.78565572],\n",
       "         [0.94615022],\n",
       "         [0.94615022],\n",
       "         [0.56994998],\n",
       "         [0.56994998],\n",
       "         [0.4941575 ],\n",
       "         [0.4941575 ],\n",
       "         [0.24553676],\n",
       "         [0.24553676],\n",
       "         [0.14726723],\n",
       "         [0.14726723],\n",
       "         [0.86742889],\n",
       "         [0.86742889],\n",
       "         [0.73478609],\n",
       "         [0.73478609],\n",
       "         [0.41566595],\n",
       "         [0.41566595],\n",
       "         [0.52978395],\n",
       "         [0.52978395],\n",
       "         [0.11652347],\n",
       "         [0.11652347],\n",
       "         [0.95765314],\n",
       "         [0.95765314],\n",
       "         [0.25045642],\n",
       "         [0.25045642],\n",
       "         [0.17502367],\n",
       "         [0.17502367],\n",
       "         [0.92264563],\n",
       "         [0.92264563],\n",
       "         [0.15273044],\n",
       "         [0.15273044],\n",
       "         [0.00205699],\n",
       "         [0.00205699],\n",
       "         [0.3993844 ],\n",
       "         [0.3993844 ],\n",
       "         [0.6632633 ],\n",
       "         [0.6632633 ],\n",
       "         [0.95899058],\n",
       "         [0.95899058],\n",
       "         [0.68800653],\n",
       "         [0.68800653],\n",
       "         [0.80963983],\n",
       "         [0.80963983],\n",
       "         [0.68808985],\n",
       "         [0.68808985],\n",
       "         [0.80359154],\n",
       "         [0.80359154],\n",
       "         [0.45879537],\n",
       "         [0.45879537],\n",
       "         [0.29098397],\n",
       "         [0.29098397],\n",
       "         [0.12956114],\n",
       "         [0.12956114],\n",
       "         [0.08454526],\n",
       "         [0.08454526],\n",
       "         [0.16151701],\n",
       "         [0.16151701],\n",
       "         [0.86829241],\n",
       "         [0.86829241],\n",
       "         [0.73871528],\n",
       "         [0.73871528],\n",
       "         [0.72054269],\n",
       "         [0.72054269],\n",
       "         [0.35069479],\n",
       "         [0.35069479],\n",
       "         [0.66814933],\n",
       "         [0.66814933],\n",
       "         [0.31287114],\n",
       "         [0.31287114],\n",
       "         [0.32409175],\n",
       "         [0.32409175],\n",
       "         [0.81606951],\n",
       "         [0.81606951],\n",
       "         [0.17759622],\n",
       "         [0.17759622],\n",
       "         [0.42159967],\n",
       "         [0.42159967],\n",
       "         [0.431561  ],\n",
       "         [0.431561  ],\n",
       "         [0.12631022],\n",
       "         [0.12631022],\n",
       "         [0.49999807],\n",
       "         [0.49999807],\n",
       "         [0.48237024],\n",
       "         [0.48237024],\n",
       "         [0.75716225],\n",
       "         [0.75716225],\n",
       "         [0.52766411],\n",
       "         [0.52766411],\n",
       "         [0.93946107],\n",
       "         [0.93946107],\n",
       "         [0.71091159],\n",
       "         [0.71091159],\n",
       "         [0.09853697],\n",
       "         [0.09853697],\n",
       "         [0.48284316],\n",
       "         [0.48284316],\n",
       "         [0.9153537 ],\n",
       "         [0.9153537 ],\n",
       "         [0.96563151],\n",
       "         [0.96563151],\n",
       "         [0.06566581],\n",
       "         [0.06566581],\n",
       "         [0.22793194],\n",
       "         [0.22793194],\n",
       "         [0.66553471],\n",
       "         [0.66553471],\n",
       "         [0.73608239],\n",
       "         [0.73608239],\n",
       "         [0.20133273],\n",
       "         [0.20133273],\n",
       "         [0.56675267],\n",
       "         [0.56675267],\n",
       "         [0.09546741],\n",
       "         [0.09546741],\n",
       "         [0.84782157],\n",
       "         [0.84782157],\n",
       "         [0.55194129],\n",
       "         [0.55194129],\n",
       "         [0.01699793],\n",
       "         [0.01699793],\n",
       "         [0.57223453],\n",
       "         [0.57223453],\n",
       "         [0.92971122],\n",
       "         [0.92971122],\n",
       "         [0.49165143],\n",
       "         [0.49165143],\n",
       "         [0.6424119 ],\n",
       "         [0.6424119 ],\n",
       "         [0.73091425],\n",
       "         [0.73091425],\n",
       "         [0.85287578],\n",
       "         [0.85287578],\n",
       "         [0.46602577],\n",
       "         [0.46602577],\n",
       "         [0.76013657],\n",
       "         [0.76013657],\n",
       "         [0.67659718],\n",
       "         [0.67659718],\n",
       "         [0.46378945],\n",
       "         [0.46378945],\n",
       "         [0.5179349 ],\n",
       "         [0.5179349 ],\n",
       "         [0.68005452],\n",
       "         [0.68005452]])}}"
      ]
     },
     "execution_count": 1,
     "metadata": {},
     "output_type": "execute_result"
    }
   ],
   "source": [
    "ds = load_by_id(run_id_a)\n",
    "ds.get_parameter_data('x1')"
   ]
  },
  {
   "cell_type": "code",
   "execution_count": null,
   "metadata": {},
   "outputs": [],
   "source": []
  }
 ],
 "metadata": {
  "kernelspec": {
   "display_name": "Python 3",
   "language": "python",
   "name": "python3"
  },
  "language_info": {
   "codemirror_mode": {
    "name": "ipython",
    "version": 3
   },
   "file_extension": ".py",
   "mimetype": "text/x-python",
   "name": "python",
   "nbconvert_exporter": "python",
   "pygments_lexer": "ipython3",
   "version": "3.7.10"
  },
  "nbsphinx": {
   "timeout": 600
  },
  "toc": {
   "base_numbering": 1,
   "nav_menu": {},
   "number_sections": true,
   "sideBar": true,
   "skip_h1_title": false,
   "title_cell": "Table of Contents",
   "title_sidebar": "Contents",
   "toc_cell": false,
   "toc_position": {},
   "toc_section_display": true,
   "toc_window_display": false
  },
  "varInspector": {
   "cols": {
    "lenName": 16,
    "lenType": 16,
    "lenVar": 40
   },
   "kernels_config": {
    "python": {
     "delete_cmd_postfix": "",
     "delete_cmd_prefix": "del ",
     "library": "var_list.py",
     "varRefreshCmd": "print(var_dic_list())"
    },
    "r": {
     "delete_cmd_postfix": ") ",
     "delete_cmd_prefix": "rm(",
     "library": "var_list.r",
     "varRefreshCmd": "cat(var_dic_list()) "
    }
   },
   "types_to_exclude": [
    "module",
    "function",
    "builtin_function_or_method",
    "instance",
    "_Feature"
   ],
   "window_display": false
  }
 },
 "nbformat": 4,
 "nbformat_minor": 2
}
