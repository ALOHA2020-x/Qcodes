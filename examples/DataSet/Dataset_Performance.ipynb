{
 "cells": [
  {
   "cell_type": "markdown",
   "metadata": {},
   "source": [
    "# DataSet Performance\n",
    "\n",
    "This notebook shows the trade-off between inserting data into a database row-by-row and as binary blobs. Inserting the data row-by-row means that we have direct access to all the data and may perform queries directly on the values of the data. On the other hand, as we shall see, this is much slower than inserting the data directly as binary blobs."
   ]
  },
  {
   "cell_type": "markdown",
   "metadata": {},
   "source": [
    "First, we choose a new location for the database to ensure that we don't add a bunch of benchmarking data to the default one."
   ]
  },
  {
   "cell_type": "code",
   "execution_count": 1,
   "metadata": {
    "execution": {
     "iopub.execute_input": "2021-03-12T08:41:31.309340Z",
     "iopub.status.busy": "2021-03-12T08:41:31.308585Z",
     "iopub.status.idle": "2021-03-12T08:41:32.174550Z",
     "shell.execute_reply": "2021-03-12T08:41:32.175013Z"
    }
   },
   "outputs": [
    {
     "name": "stdout",
     "output_type": "stream",
     "text": [
      "Logging hadn't been started.\n",
      "Activating auto-logging. Current session state plus future input saved.\n",
      "Filename       : /home/runner/.qcodes/logs/command_history.log\n",
      "Mode           : append\n",
      "Output logging : True\n",
      "Raw input log  : False\n",
      "Timestamping   : True\n",
      "State          : active\n"
     ]
    },
    {
     "name": "stdout",
     "output_type": "stream",
     "text": [
      "Qcodes Logfile : /home/runner/.qcodes/logs/210312-4341-qcodes.log\n"
     ]
    }
   ],
   "source": [
    "import os\n",
    "cwd = os.getcwd()\n",
    "import qcodes as qc\n",
    "qc.config[\"core\"][\"db_location\"] = os.path.join(cwd, 'testing.db')\n"
   ]
  },
  {
   "cell_type": "code",
   "execution_count": 2,
   "metadata": {
    "execution": {
     "iopub.execute_input": "2021-03-12T08:41:32.180965Z",
     "iopub.status.busy": "2021-03-12T08:41:32.179887Z",
     "iopub.status.idle": "2021-03-12T08:41:32.371456Z",
     "shell.execute_reply": "2021-03-12T08:41:32.370772Z"
    }
   },
   "outputs": [],
   "source": [
    "%matplotlib inline\n",
    "import time\n",
    "import matplotlib.pyplot as plt\n",
    "import numpy as np\n",
    "\n",
    "import qcodes as qc\n",
    "from qcodes.instrument.parameter import ManualParameter\n",
    "from qcodes.dataset.experiment_container import (Experiment,\n",
    "                                                 load_last_experiment,\n",
    "                                                 new_experiment)\n",
    "from qcodes.dataset.sqlite.database import initialise_database\n",
    "from qcodes import load_or_create_experiment\n",
    "from qcodes.dataset.measurements import Measurement"
   ]
  },
  {
   "cell_type": "code",
   "execution_count": 3,
   "metadata": {
    "execution": {
     "iopub.execute_input": "2021-03-12T08:41:32.376734Z",
     "iopub.status.busy": "2021-03-12T08:41:32.375575Z",
     "iopub.status.idle": "2021-03-12T08:41:32.484124Z",
     "shell.execute_reply": "2021-03-12T08:41:32.483331Z"
    }
   },
   "outputs": [
    {
     "name": "stdout",
     "output_type": "stream",
     "text": [
      "\r",
      "0it [00:00, ?it/s]"
     ]
    },
    {
     "name": "stdout",
     "output_type": "stream",
     "text": [
      "\r",
      "Upgrading database; v0 -> v1: : 0it [00:00, ?it/s]"
     ]
    },
    {
     "name": "stdout",
     "output_type": "stream",
     "text": [
      "\r",
      "Upgrading database; v0 -> v1: : 0it [00:00, ?it/s]"
     ]
    },
    {
     "name": "stdout",
     "output_type": "stream",
     "text": [
      "\n",
      "\r",
      "  0%|          | 0/1 [00:00<?, ?it/s]"
     ]
    },
    {
     "name": "stdout",
     "output_type": "stream",
     "text": [
      "\r",
      "Upgrading database; v1 -> v2:   0%|          | 0/1 [00:00<?, ?it/s]"
     ]
    },
    {
     "name": "stdout",
     "output_type": "stream",
     "text": [
      "\r",
      "Upgrading database; v1 -> v2: 100%|██████████| 1/1 [00:00<00:00, 423.37it/s]"
     ]
    },
    {
     "name": "stdout",
     "output_type": "stream",
     "text": [
      "\n",
      "\r",
      "0it [00:00, ?it/s]"
     ]
    },
    {
     "name": "stdout",
     "output_type": "stream",
     "text": [
      "\r",
      "Upgrading database; v2 -> v3: : 0it [00:00, ?it/s]"
     ]
    },
    {
     "name": "stdout",
     "output_type": "stream",
     "text": [
      "\r",
      "Upgrading database; v2 -> v3: : 0it [00:00, ?it/s]"
     ]
    },
    {
     "name": "stdout",
     "output_type": "stream",
     "text": [
      "\n",
      "\r",
      "0it [00:00, ?it/s]"
     ]
    },
    {
     "name": "stdout",
     "output_type": "stream",
     "text": [
      "\r",
      "Upgrading database; v3 -> v4: : 0it [00:00, ?it/s]"
     ]
    },
    {
     "name": "stdout",
     "output_type": "stream",
     "text": [
      "\r",
      "Upgrading database; v3 -> v4: : 0it [00:00, ?it/s]"
     ]
    },
    {
     "name": "stdout",
     "output_type": "stream",
     "text": [
      "\n",
      "\r",
      "  0%|          | 0/1 [00:00<?, ?it/s]"
     ]
    },
    {
     "name": "stdout",
     "output_type": "stream",
     "text": [
      "\r",
      "Upgrading database; v4 -> v5:   0%|          | 0/1 [00:00<?, ?it/s]"
     ]
    },
    {
     "name": "stdout",
     "output_type": "stream",
     "text": [
      "\r",
      "Upgrading database; v4 -> v5: 100%|██████████| 1/1 [00:00<00:00, 640.84it/s]"
     ]
    },
    {
     "name": "stdout",
     "output_type": "stream",
     "text": [
      "\n",
      "\r",
      "0it [00:00, ?it/s]"
     ]
    },
    {
     "name": "stdout",
     "output_type": "stream",
     "text": [
      "\r",
      "Upgrading database; v5 -> v6: : 0it [00:00, ?it/s]"
     ]
    },
    {
     "name": "stdout",
     "output_type": "stream",
     "text": [
      "\r",
      "Upgrading database; v5 -> v6: : 0it [00:00, ?it/s]"
     ]
    },
    {
     "name": "stdout",
     "output_type": "stream",
     "text": [
      "\n",
      "\r",
      "  0%|          | 0/1 [00:00<?, ?it/s]"
     ]
    },
    {
     "name": "stdout",
     "output_type": "stream",
     "text": [
      "\r",
      "Upgrading database; v6 -> v7:   0%|          | 0/1 [00:00<?, ?it/s]"
     ]
    },
    {
     "name": "stdout",
     "output_type": "stream",
     "text": [
      "\r",
      "Upgrading database; v6 -> v7: 100%|██████████| 1/1 [00:00<00:00, 247.74it/s]"
     ]
    },
    {
     "name": "stdout",
     "output_type": "stream",
     "text": [
      "\n",
      "\r",
      "  0%|          | 0/1 [00:00<?, ?it/s]"
     ]
    },
    {
     "name": "stdout",
     "output_type": "stream",
     "text": [
      "\r",
      "Upgrading database; v7 -> v8:   0%|          | 0/1 [00:00<?, ?it/s]"
     ]
    },
    {
     "name": "stdout",
     "output_type": "stream",
     "text": [
      "\r",
      "Upgrading database; v7 -> v8: 100%|██████████| 1/1 [00:00<00:00, 365.58it/s]"
     ]
    },
    {
     "name": "stdout",
     "output_type": "stream",
     "text": [
      "\n",
      "\r",
      "  0%|          | 0/1 [00:00<?, ?it/s]"
     ]
    },
    {
     "name": "stdout",
     "output_type": "stream",
     "text": [
      "\r",
      "Upgrading database; v8 -> v9:   0%|          | 0/1 [00:00<?, ?it/s]"
     ]
    },
    {
     "name": "stdout",
     "output_type": "stream",
     "text": [
      "\r",
      "Upgrading database; v8 -> v9: 100%|██████████| 1/1 [00:00<00:00, 545.14it/s]"
     ]
    },
    {
     "name": "stdout",
     "output_type": "stream",
     "text": [
      "\n"
     ]
    }
   ],
   "source": [
    "initialise_database()\n",
    "exp = load_or_create_experiment(experiment_name='tutorial_exp', sample_name=\"no sample\")"
   ]
  },
  {
   "cell_type": "markdown",
   "metadata": {},
   "source": [
    "Here, we define a simple function to benchmark the time it takes to insert n points with either numeric or array data type.\n",
    "We will compare both the time used to call ``add_result`` and the time used for the full measurement."
   ]
  },
  {
   "cell_type": "code",
   "execution_count": 4,
   "metadata": {
    "execution": {
     "iopub.execute_input": "2021-03-12T08:41:32.493429Z",
     "iopub.status.busy": "2021-03-12T08:41:32.492191Z",
     "iopub.status.idle": "2021-03-12T08:41:32.494016Z",
     "shell.execute_reply": "2021-03-12T08:41:32.494457Z"
    }
   },
   "outputs": [],
   "source": [
    "def insert_data(paramtype, npoints, nreps=1):\n",
    "\n",
    "    meas = Measurement(exp=exp)\n",
    "\n",
    "    x1 = ManualParameter('x1')\n",
    "    x2 = ManualParameter('x2')\n",
    "    x3 = ManualParameter('x3')\n",
    "    y1 = ManualParameter('y1')\n",
    "    y2 = ManualParameter('y2')\n",
    "\n",
    "    meas.register_parameter(x1, paramtype=paramtype)\n",
    "    meas.register_parameter(x2, paramtype=paramtype)\n",
    "    meas.register_parameter(x3, paramtype=paramtype)\n",
    "    meas.register_parameter(y1, setpoints=[x1, x2, x3],\n",
    "                            paramtype=paramtype)\n",
    "    meas.register_parameter(y2, setpoints=[x1, x2, x3],\n",
    "                            paramtype=paramtype)\n",
    "    start = time.perf_counter()\n",
    "    with meas.run() as datasaver:\n",
    "        start_adding = time.perf_counter()\n",
    "        for i in range(nreps):\n",
    "            datasaver.add_result((x1, np.random.rand(npoints)),\n",
    "                                 (x2, np.random.rand(npoints)),\n",
    "                                 (x3, np.random.rand(npoints)),\n",
    "                                 (y1, np.random.rand(npoints)),\n",
    "                                 (y2, np.random.rand(npoints)))\n",
    "        stop_adding = time.perf_counter()\n",
    "        run_id = datasaver.run_id\n",
    "    stop = time.perf_counter()\n",
    "    tot_time = stop - start\n",
    "    add_time = stop_adding - start_adding\n",
    "    return tot_time, add_time, run_id"
   ]
  },
  {
   "cell_type": "markdown",
   "metadata": {},
   "source": [
    "## Comparison between numeric/array data and binary blob"
   ]
  },
  {
   "cell_type": "markdown",
   "metadata": {},
   "source": [
    "### Case1: Short experiment time"
   ]
  },
  {
   "cell_type": "code",
   "execution_count": 5,
   "metadata": {
    "execution": {
     "iopub.execute_input": "2021-03-12T08:41:32.502949Z",
     "iopub.status.busy": "2021-03-12T08:41:32.502313Z",
     "iopub.status.idle": "2021-03-12T08:41:33.298294Z",
     "shell.execute_reply": "2021-03-12T08:41:33.298757Z"
    }
   },
   "outputs": [
    {
     "name": "stdout",
     "output_type": "stream",
     "text": [
      "Starting experimental run with id: 1. \n",
      "Starting experimental run with id: 2. \n",
      "Starting experimental run with id: 3. \n",
      "Starting experimental run with id: 4. \n",
      "Starting experimental run with id: 5. \n"
     ]
    },
    {
     "name": "stdout",
     "output_type": "stream",
     "text": [
      "Starting experimental run with id: 6. "
     ]
    },
    {
     "name": "stdout",
     "output_type": "stream",
     "text": [
      "\n"
     ]
    },
    {
     "name": "stdout",
     "output_type": "stream",
     "text": [
      "Starting experimental run with id: 7. \n"
     ]
    },
    {
     "name": "stdout",
     "output_type": "stream",
     "text": [
      "Starting experimental run with id: 8. \n",
      "Starting experimental run with id: 9. \n"
     ]
    },
    {
     "name": "stdout",
     "output_type": "stream",
     "text": [
      "Starting experimental run with id: 10. \n",
      "Starting experimental run with id: 11. \n"
     ]
    },
    {
     "name": "stdout",
     "output_type": "stream",
     "text": [
      "Starting experimental run with id: 12. \n",
      "Starting experimental run with id: 13. \n"
     ]
    },
    {
     "name": "stdout",
     "output_type": "stream",
     "text": [
      "Starting experimental run with id: 14. \n"
     ]
    }
   ],
   "source": [
    "sizes = [1,500,1000,2000,3000,4000,5000]\n",
    "t_numeric = []\n",
    "t_numeric_add = []\n",
    "t_array = []\n",
    "t_array_add = []\n",
    "for size in sizes:\n",
    "    tn, tna, run_id_n =  insert_data('numeric', size)\n",
    "    t_numeric.append(tn)\n",
    "    t_numeric_add.append(tna)\n",
    "\n",
    "    ta, taa, run_id_a =  insert_data('array', size)\n",
    "    t_array.append(ta)\n",
    "    t_array_add.append(taa)"
   ]
  },
  {
   "cell_type": "code",
   "execution_count": 6,
   "metadata": {
    "execution": {
     "iopub.execute_input": "2021-03-12T08:41:33.329699Z",
     "iopub.status.busy": "2021-03-12T08:41:33.318943Z",
     "iopub.status.idle": "2021-03-12T08:41:33.552302Z",
     "shell.execute_reply": "2021-03-12T08:41:33.553011Z"
    }
   },
   "outputs": [
    {
     "data": {
      "image/png": "[encoded data removed]",
      "text/plain": [
       "<Figure size 432x288 with 1 Axes>"
      ]
     },
     "metadata": {
      "needs_background": "light"
     },
     "output_type": "display_data"
    }
   ],
   "source": [
    "fig, ax = plt.subplots(1,1)\n",
    "ax.plot(sizes, t_numeric, 'o-', label='Inserting row-by-row')\n",
    "ax.plot(sizes, t_numeric_add, 'o-', label='Inserting row-by-row: add_result only')\n",
    "ax.plot(sizes, t_array, 'd-', label='Inserting as binary blob')\n",
    "ax.plot(sizes, t_array_add, 'd-', label='Inserting as binary blob: add_result only')\n",
    "ax.legend()\n",
    "ax.set_xlabel('Array length')\n",
    "ax.set_ylabel('Time (s)')\n",
    "fig.tight_layout()"
   ]
  },
  {
   "cell_type": "markdown",
   "metadata": {},
   "source": [
    "As shown in the latter figure, the time to setup and and close the experiment is approximately 0.4 sec. In case of small array sizes, the difference between inserting values of data as arrays and inserting them row-by-row is relatively unimportant. At larger array sizes, i.e. above 10000 points, the cost of writing data as individual datapoints starts to become important.\n"
   ]
  },
  {
   "cell_type": "markdown",
   "metadata": {},
   "source": [
    "### Case2: Long experiment time "
   ]
  },
  {
   "cell_type": "code",
   "execution_count": 7,
   "metadata": {
    "execution": {
     "iopub.execute_input": "2021-03-12T08:41:33.559928Z",
     "iopub.status.busy": "2021-03-12T08:41:33.558952Z",
     "iopub.status.idle": "2021-03-12T08:42:28.664426Z",
     "shell.execute_reply": "2021-03-12T08:42:28.663915Z"
    }
   },
   "outputs": [
    {
     "name": "stdout",
     "output_type": "stream",
     "text": [
      "Starting experimental run with id: 15. \n",
      "Starting experimental run with id: 16. \n",
      "Starting experimental run with id: 17. \n"
     ]
    },
    {
     "name": "stdout",
     "output_type": "stream",
     "text": [
      "Starting experimental run with id: 18. \n"
     ]
    },
    {
     "name": "stdout",
     "output_type": "stream",
     "text": [
      "Starting experimental run with id: 19. \n"
     ]
    },
    {
     "name": "stdout",
     "output_type": "stream",
     "text": [
      "Starting experimental run with id: 20. \n"
     ]
    },
    {
     "name": "stdout",
     "output_type": "stream",
     "text": [
      "Starting experimental run with id: 21. \n"
     ]
    },
    {
     "name": "stdout",
     "output_type": "stream",
     "text": [
      "Starting experimental run with id: 22. \n"
     ]
    },
    {
     "name": "stdout",
     "output_type": "stream",
     "text": [
      "Starting experimental run with id: 23. \n"
     ]
    },
    {
     "name": "stdout",
     "output_type": "stream",
     "text": [
      "Starting experimental run with id: 24. \n"
     ]
    },
    {
     "name": "stdout",
     "output_type": "stream",
     "text": [
      "Starting experimental run with id: 25. \n"
     ]
    },
    {
     "name": "stdout",
     "output_type": "stream",
     "text": [
      "Starting experimental run with id: 26. \n"
     ]
    },
    {
     "name": "stdout",
     "output_type": "stream",
     "text": [
      "Starting experimental run with id: 27. \n"
     ]
    },
    {
     "name": "stdout",
     "output_type": "stream",
     "text": [
      "Starting experimental run with id: 28. \n"
     ]
    }
   ],
   "source": [
    "sizes = [1,500,1000,2000,3000,4000,5000]\n",
    "nreps = 100\n",
    "t_numeric = []\n",
    "t_numeric_add = []\n",
    "t_numeric_run_ids = []\n",
    "t_array = []\n",
    "t_array_add = []\n",
    "t_array_run_ids = []\n",
    "for size in sizes:\n",
    "    tn, tna, run_id_n =  insert_data('numeric', size, nreps=nreps)\n",
    "    t_numeric.append(tn)\n",
    "    t_numeric_add.append(tna)\n",
    "    t_numeric_run_ids.append(run_id_n)\n",
    "\n",
    "    ta, taa, run_id_a =  insert_data('array', size, nreps=nreps)\n",
    "    t_array.append(ta)\n",
    "    t_array_add.append(taa)\n",
    "    t_array_run_ids.append(run_id_a)"
   ]
  },
  {
   "cell_type": "code",
   "execution_count": 8,
   "metadata": {
    "execution": {
     "iopub.execute_input": "2021-03-12T08:42:28.685802Z",
     "iopub.status.busy": "2021-03-12T08:42:28.682576Z",
     "iopub.status.idle": "2021-03-12T08:42:28.920854Z",
     "shell.execute_reply": "2021-03-12T08:42:28.920325Z"
    },
    "scrolled": true
   },
   "outputs": [
    {
     "data": {
      "image/png": "[encoded data removed]",
      "text/plain": [
       "<Figure size 432x288 with 1 Axes>"
      ]
     },
     "metadata": {
      "needs_background": "light"
     },
     "output_type": "display_data"
    }
   ],
   "source": [
    "fig, ax = plt.subplots(1,1)\n",
    "ax.plot(sizes, t_numeric, 'o-', label='Inserting row-by-row')\n",
    "ax.plot(sizes, t_numeric_add, 'o-', label='Inserting row-by-row: add_result only')\n",
    "ax.plot(sizes, t_array, 'd-', label='Inserting as binary blob')\n",
    "ax.plot(sizes, t_array_add, 'd-', label='Inserting as binary blob: add_result only')\n",
    "ax.legend()\n",
    "ax.set_xlabel('Array length')\n",
    "ax.set_ylabel('Time (s)')\n",
    "fig.tight_layout()"
   ]
  },
  {
   "cell_type": "markdown",
   "metadata": {},
   "source": [
    "However, as we increase the length of the experiment, as seen here by repeating the insertion 100 times, we see a big difference between inserting values of the data row-by-row and inserting it as a binary blob."
   ]
  },
  {
   "cell_type": "markdown",
   "metadata": {},
   "source": [
    "## Loading the data "
   ]
  },
  {
   "cell_type": "code",
   "execution_count": 9,
   "metadata": {
    "execution": {
     "iopub.execute_input": "2021-03-12T08:42:28.926296Z",
     "iopub.status.busy": "2021-03-12T08:42:28.925134Z",
     "iopub.status.idle": "2021-03-12T08:42:28.928570Z",
     "shell.execute_reply": "2021-03-12T08:42:28.928067Z"
    }
   },
   "outputs": [],
   "source": [
    "from qcodes.dataset.data_set import load_by_id\n",
    "from qcodes.dataset.data_export import get_data_by_id"
   ]
  },
  {
   "cell_type": "markdown",
   "metadata": {},
   "source": [
    "As usual you can load the data by using the ``load_by_id`` function but you will notice that the different storage methods\n",
    "are reflected in shape of the data as it is retrieved. "
   ]
  },
  {
   "cell_type": "code",
   "execution_count": 10,
   "metadata": {
    "execution": {
     "iopub.execute_input": "2021-03-12T08:42:28.933093Z",
     "iopub.status.busy": "2021-03-12T08:42:28.931817Z",
     "iopub.status.idle": "2021-03-12T08:42:28.933709Z",
     "shell.execute_reply": "2021-03-12T08:42:28.934160Z"
    }
   },
   "outputs": [],
   "source": [
    "run_id_n = t_numeric_run_ids[0]\n",
    "run_id_a = t_array_run_ids[0]"
   ]
  },
  {
   "cell_type": "code",
   "execution_count": 11,
   "metadata": {
    "execution": {
     "iopub.execute_input": "2021-03-12T08:42:28.937684Z",
     "iopub.status.busy": "2021-03-12T08:42:28.936929Z",
     "iopub.status.idle": "2021-03-12T08:42:28.946769Z",
     "shell.execute_reply": "2021-03-12T08:42:28.947213Z"
    },
    "scrolled": true
   },
   "outputs": [
    {
     "data": {
      "text/plain": [
       "{'x1': {'x1': array([0.79022593, 0.79022593, 0.65106757, 0.65106757, 0.15462427,\n",
       "         0.15462427, 0.98442643, 0.98442643, 0.69414704, 0.69414704,\n",
       "         0.19425998, 0.19425998, 0.35551612, 0.35551612, 0.55018485,\n",
       "         0.55018485, 0.44891014, 0.44891014, 0.14252499, 0.14252499,\n",
       "         0.01226343, 0.01226343, 0.76009321, 0.76009321, 0.62712102,\n",
       "         0.62712102, 0.23007787, 0.23007787, 0.73562971, 0.73562971,\n",
       "         0.16935521, 0.16935521, 0.71770105, 0.71770105, 0.59388571,\n",
       "         0.59388571, 0.61862013, 0.61862013, 0.18803441, 0.18803441,\n",
       "         0.16393592, 0.16393592, 0.62418424, 0.62418424, 0.92595745,\n",
       "         0.92595745, 0.41345886, 0.41345886, 0.32027144, 0.32027144,\n",
       "         0.71191829, 0.71191829, 0.9980237 , 0.9980237 , 0.64174132,\n",
       "         0.64174132, 0.35726546, 0.35726546, 0.88407972, 0.88407972,\n",
       "         0.53727668, 0.53727668, 0.6749209 , 0.6749209 , 0.22522074,\n",
       "         0.22522074, 0.51397083, 0.51397083, 0.16248548, 0.16248548,\n",
       "         0.45928322, 0.45928322, 0.40091523, 0.40091523, 0.48381135,\n",
       "         0.48381135, 0.79209547, 0.79209547, 0.53573401, 0.53573401,\n",
       "         0.16126274, 0.16126274, 0.72436539, 0.72436539, 0.34881039,\n",
       "         0.34881039, 0.31161225, 0.31161225, 0.87856262, 0.87856262,\n",
       "         0.60837573, 0.60837573, 0.14425639, 0.14425639, 0.03441094,\n",
       "         0.03441094, 0.27226402, 0.27226402, 0.61253967, 0.61253967,\n",
       "         0.97223604, 0.97223604, 0.03566763, 0.03566763, 0.58275521,\n",
       "         0.58275521, 0.53661455, 0.53661455, 0.56371532, 0.56371532,\n",
       "         0.54004227, 0.54004227, 0.93957689, 0.93957689, 0.78860114,\n",
       "         0.78860114, 0.76343564, 0.76343564, 0.39071244, 0.39071244,\n",
       "         0.05107953, 0.05107953, 0.29601334, 0.29601334, 0.83667307,\n",
       "         0.83667307, 0.39504387, 0.39504387, 0.51436014, 0.51436014,\n",
       "         0.67816272, 0.67816272, 0.9711827 , 0.9711827 , 0.01099544,\n",
       "         0.01099544, 0.35658352, 0.35658352, 0.46275586, 0.46275586,\n",
       "         0.01133625, 0.01133625, 0.32257609, 0.32257609, 0.91538764,\n",
       "         0.91538764, 0.30594596, 0.30594596, 0.6330135 , 0.6330135 ,\n",
       "         0.33535521, 0.33535521, 0.08644658, 0.08644658, 0.80012023,\n",
       "         0.80012023, 0.48264924, 0.48264924, 0.04259803, 0.04259803,\n",
       "         0.87233884, 0.87233884, 0.61762641, 0.61762641, 0.73971686,\n",
       "         0.73971686, 0.17021009, 0.17021009, 0.2768336 , 0.2768336 ,\n",
       "         0.12179788, 0.12179788, 0.98038523, 0.98038523, 0.22659488,\n",
       "         0.22659488, 0.36443681, 0.36443681, 0.64520398, 0.64520398,\n",
       "         0.19761565, 0.19761565, 0.98786618, 0.98786618, 0.15162527,\n",
       "         0.15162527, 0.92934253, 0.92934253, 0.65651746, 0.65651746,\n",
       "         0.90167204, 0.90167204, 0.95401231, 0.95401231, 0.0049534 ,\n",
       "         0.0049534 , 0.92128154, 0.92128154, 0.9626658 , 0.9626658 ])}}"
      ]
     },
     "execution_count": 1,
     "metadata": {},
     "output_type": "execute_result"
    }
   ],
   "source": [
    "ds = load_by_id(run_id_n)\n",
    "ds.get_parameter_data('x1')"
   ]
  },
  {
   "cell_type": "markdown",
   "metadata": {},
   "source": [
    "And a dataset stored as binary arrays"
   ]
  },
  {
   "cell_type": "code",
   "execution_count": 12,
   "metadata": {
    "execution": {
     "iopub.execute_input": "2021-03-12T08:42:28.950512Z",
     "iopub.status.busy": "2021-03-12T08:42:28.949996Z",
     "iopub.status.idle": "2021-03-12T08:42:29.007216Z",
     "shell.execute_reply": "2021-03-12T08:42:29.007654Z"
    },
    "scrolled": true
   },
   "outputs": [
    {
     "data": {
      "text/plain": [
       "{'x1': {'x1': array([[0.57553143],\n",
       "         [0.57553143],\n",
       "         [0.71261309],\n",
       "         [0.71261309],\n",
       "         [0.25987709],\n",
       "         [0.25987709],\n",
       "         [0.42473566],\n",
       "         [0.42473566],\n",
       "         [0.0380285 ],\n",
       "         [0.0380285 ],\n",
       "         [0.72246898],\n",
       "         [0.72246898],\n",
       "         [0.68270963],\n",
       "         [0.68270963],\n",
       "         [0.44908001],\n",
       "         [0.44908001],\n",
       "         [0.00564188],\n",
       "         [0.00564188],\n",
       "         [0.49262541],\n",
       "         [0.49262541],\n",
       "         [0.84587567],\n",
       "         [0.84587567],\n",
       "         [0.8237223 ],\n",
       "         [0.8237223 ],\n",
       "         [0.9072983 ],\n",
       "         [0.9072983 ],\n",
       "         [0.48960655],\n",
       "         [0.48960655],\n",
       "         [0.6576773 ],\n",
       "         [0.6576773 ],\n",
       "         [0.7189017 ],\n",
       "         [0.7189017 ],\n",
       "         [0.44043049],\n",
       "         [0.44043049],\n",
       "         [0.18123825],\n",
       "         [0.18123825],\n",
       "         [0.59650199],\n",
       "         [0.59650199],\n",
       "         [0.30346718],\n",
       "         [0.30346718],\n",
       "         [0.00330002],\n",
       "         [0.00330002],\n",
       "         [0.51916182],\n",
       "         [0.51916182],\n",
       "         [0.04538463],\n",
       "         [0.04538463],\n",
       "         [0.48618714],\n",
       "         [0.48618714],\n",
       "         [0.96172786],\n",
       "         [0.96172786],\n",
       "         [0.96255604],\n",
       "         [0.96255604],\n",
       "         [0.60199535],\n",
       "         [0.60199535],\n",
       "         [0.90362316],\n",
       "         [0.90362316],\n",
       "         [0.21075564],\n",
       "         [0.21075564],\n",
       "         [0.11929095],\n",
       "         [0.11929095],\n",
       "         [0.51194364],\n",
       "         [0.51194364],\n",
       "         [0.97703599],\n",
       "         [0.97703599],\n",
       "         [0.95972698],\n",
       "         [0.95972698],\n",
       "         [0.62740064],\n",
       "         [0.62740064],\n",
       "         [0.57077585],\n",
       "         [0.57077585],\n",
       "         [0.45015251],\n",
       "         [0.45015251],\n",
       "         [0.21838276],\n",
       "         [0.21838276],\n",
       "         [0.35668037],\n",
       "         [0.35668037],\n",
       "         [0.89290258],\n",
       "         [0.89290258],\n",
       "         [0.40390265],\n",
       "         [0.40390265],\n",
       "         [0.69321887],\n",
       "         [0.69321887],\n",
       "         [0.28018379],\n",
       "         [0.28018379],\n",
       "         [0.06853971],\n",
       "         [0.06853971],\n",
       "         [0.34396389],\n",
       "         [0.34396389],\n",
       "         [0.10742599],\n",
       "         [0.10742599],\n",
       "         [0.77281953],\n",
       "         [0.77281953],\n",
       "         [0.95695969],\n",
       "         [0.95695969],\n",
       "         [0.94172204],\n",
       "         [0.94172204],\n",
       "         [0.47636448],\n",
       "         [0.47636448],\n",
       "         [0.84509036],\n",
       "         [0.84509036],\n",
       "         [0.5635565 ],\n",
       "         [0.5635565 ],\n",
       "         [0.11212607],\n",
       "         [0.11212607],\n",
       "         [0.96715834],\n",
       "         [0.96715834],\n",
       "         [0.50649846],\n",
       "         [0.50649846],\n",
       "         [0.44112799],\n",
       "         [0.44112799],\n",
       "         [0.79403763],\n",
       "         [0.79403763],\n",
       "         [0.4881104 ],\n",
       "         [0.4881104 ],\n",
       "         [0.0171989 ],\n",
       "         [0.0171989 ],\n",
       "         [0.72707657],\n",
       "         [0.72707657],\n",
       "         [0.41859962],\n",
       "         [0.41859962],\n",
       "         [0.76313689],\n",
       "         [0.76313689],\n",
       "         [0.8995756 ],\n",
       "         [0.8995756 ],\n",
       "         [0.57629062],\n",
       "         [0.57629062],\n",
       "         [0.95452585],\n",
       "         [0.95452585],\n",
       "         [0.09883832],\n",
       "         [0.09883832],\n",
       "         [0.98049575],\n",
       "         [0.98049575],\n",
       "         [0.92149484],\n",
       "         [0.92149484],\n",
       "         [0.67010248],\n",
       "         [0.67010248],\n",
       "         [0.63770636],\n",
       "         [0.63770636],\n",
       "         [0.952933  ],\n",
       "         [0.952933  ],\n",
       "         [0.16539276],\n",
       "         [0.16539276],\n",
       "         [0.66619323],\n",
       "         [0.66619323],\n",
       "         [0.51299791],\n",
       "         [0.51299791],\n",
       "         [0.65683412],\n",
       "         [0.65683412],\n",
       "         [0.9587386 ],\n",
       "         [0.9587386 ],\n",
       "         [0.06900273],\n",
       "         [0.06900273],\n",
       "         [0.09093293],\n",
       "         [0.09093293],\n",
       "         [0.89861369],\n",
       "         [0.89861369],\n",
       "         [0.90697355],\n",
       "         [0.90697355],\n",
       "         [0.31991   ],\n",
       "         [0.31991   ],\n",
       "         [0.97106809],\n",
       "         [0.97106809],\n",
       "         [0.36961438],\n",
       "         [0.36961438],\n",
       "         [0.17570084],\n",
       "         [0.17570084],\n",
       "         [0.02606336],\n",
       "         [0.02606336],\n",
       "         [0.66033094],\n",
       "         [0.66033094],\n",
       "         [0.1316866 ],\n",
       "         [0.1316866 ],\n",
       "         [0.53344491],\n",
       "         [0.53344491],\n",
       "         [0.3634514 ],\n",
       "         [0.3634514 ],\n",
       "         [0.89081929],\n",
       "         [0.89081929],\n",
       "         [0.93289004],\n",
       "         [0.93289004],\n",
       "         [0.69898839],\n",
       "         [0.69898839],\n",
       "         [0.39640767],\n",
       "         [0.39640767],\n",
       "         [0.27180331],\n",
       "         [0.27180331],\n",
       "         [0.84562378],\n",
       "         [0.84562378],\n",
       "         [0.04020781],\n",
       "         [0.04020781],\n",
       "         [0.43907826],\n",
       "         [0.43907826],\n",
       "         [0.42090101],\n",
       "         [0.42090101],\n",
       "         [0.62630237],\n",
       "         [0.62630237],\n",
       "         [0.71729075],\n",
       "         [0.71729075],\n",
       "         [0.11269777],\n",
       "         [0.11269777]])}}"
      ]
     },
     "execution_count": 1,
     "metadata": {},
     "output_type": "execute_result"
    }
   ],
   "source": [
    "ds = load_by_id(run_id_a)\n",
    "ds.get_parameter_data('x1')"
   ]
  },
  {
   "cell_type": "code",
   "execution_count": null,
   "metadata": {},
   "outputs": [],
   "source": []
  }
 ],
 "metadata": {
  "kernelspec": {
   "display_name": "Python 3",
   "language": "python",
   "name": "python3"
  },
  "language_info": {
   "codemirror_mode": {
    "name": "ipython",
    "version": 3
   },
   "file_extension": ".py",
   "mimetype": "text/x-python",
   "name": "python",
   "nbconvert_exporter": "python",
   "pygments_lexer": "ipython3",
   "version": "3.7.10"
  },
  "nbsphinx": {
   "timeout": 600
  },
  "toc": {
   "base_numbering": 1,
   "nav_menu": {},
   "number_sections": true,
   "sideBar": true,
   "skip_h1_title": false,
   "title_cell": "Table of Contents",
   "title_sidebar": "Contents",
   "toc_cell": false,
   "toc_position": {},
   "toc_section_display": true,
   "toc_window_display": false
  },
  "varInspector": {
   "cols": {
    "lenName": 16,
    "lenType": 16,
    "lenVar": 40
   },
   "kernels_config": {
    "python": {
     "delete_cmd_postfix": "",
     "delete_cmd_prefix": "del ",
     "library": "var_list.py",
     "varRefreshCmd": "print(var_dic_list())"
    },
    "r": {
     "delete_cmd_postfix": ") ",
     "delete_cmd_prefix": "rm(",
     "library": "var_list.r",
     "varRefreshCmd": "cat(var_dic_list()) "
    }
   },
   "types_to_exclude": [
    "module",
    "function",
    "builtin_function_or_method",
    "instance",
    "_Feature"
   ],
   "window_display": false
  }
 },
 "nbformat": 4,
 "nbformat_minor": 2
}
