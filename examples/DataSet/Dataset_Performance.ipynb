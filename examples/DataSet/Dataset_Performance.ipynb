{
 "cells": [
  {
   "cell_type": "markdown",
   "metadata": {},
   "source": [
    "# DataSet Performance\n",
    "\n",
    "This notebook shows the trade-off between inserting data into a database row-by-row and as binary blobs. Inserting the data row-by-row means that we have direct access to all the data and may perform queries directly on the values of the data. On the other hand, as we shall see, this is much slower than inserting the data directly as binary blobs."
   ]
  },
  {
   "cell_type": "markdown",
   "metadata": {},
   "source": [
    "First, we choose a new location for the database to ensure that we don't add a bunch of benchmarking data to the default one."
   ]
  },
  {
   "cell_type": "code",
   "execution_count": 1,
   "metadata": {
    "execution": {
     "iopub.execute_input": "2021-05-25T02:44:11.101869Z",
     "iopub.status.busy": "2021-05-25T02:44:11.101222Z",
     "iopub.status.idle": "2021-05-25T02:44:12.487314Z",
     "shell.execute_reply": "2021-05-25T02:44:12.486550Z"
    }
   },
   "outputs": [
    {
     "name": "stdout",
     "output_type": "stream",
     "text": [
      "Logging hadn't been started.\n",
      "Activating auto-logging. Current session state plus future input saved.\n",
      "Filename       : /home/runner/.qcodes/logs/command_history.log\n",
      "Mode           : append\n",
      "Output logging : True\n",
      "Raw input log  : False\n",
      "Timestamping   : True\n",
      "State          : active\n"
     ]
    },
    {
     "name": "stdout",
     "output_type": "stream",
     "text": [
      "Qcodes Logfile : /home/runner/.qcodes/logs/210525-4531-qcodes.log\n"
     ]
    }
   ],
   "source": [
    "import os\n",
    "cwd = os.getcwd()\n",
    "import qcodes as qc\n",
    "qc.config[\"core\"][\"db_location\"] = os.path.join(cwd, 'testing.db')\n"
   ]
  },
  {
   "cell_type": "code",
   "execution_count": 2,
   "metadata": {
    "execution": {
     "iopub.execute_input": "2021-05-25T02:44:12.495792Z",
     "iopub.status.busy": "2021-05-25T02:44:12.495050Z",
     "iopub.status.idle": "2021-05-25T02:44:12.727920Z",
     "shell.execute_reply": "2021-05-25T02:44:12.728489Z"
    }
   },
   "outputs": [],
   "source": [
    "%matplotlib inline\n",
    "import time\n",
    "import matplotlib.pyplot as plt\n",
    "import numpy as np\n",
    "\n",
    "import qcodes as qc\n",
    "from qcodes.instrument.parameter import ManualParameter\n",
    "from qcodes.dataset.experiment_container import (Experiment,\n",
    "                                                 load_last_experiment,\n",
    "                                                 new_experiment)\n",
    "from qcodes.dataset.sqlite.database import initialise_database\n",
    "from qcodes import load_or_create_experiment\n",
    "from qcodes.dataset.measurements import Measurement"
   ]
  },
  {
   "cell_type": "code",
   "execution_count": 3,
   "metadata": {
    "execution": {
     "iopub.execute_input": "2021-05-25T02:44:12.732977Z",
     "iopub.status.busy": "2021-05-25T02:44:12.732157Z",
     "iopub.status.idle": "2021-05-25T02:44:12.812476Z",
     "shell.execute_reply": "2021-05-25T02:44:12.811654Z"
    }
   },
   "outputs": [
    {
     "name": "stdout",
     "output_type": "stream",
     "text": [
      "\r",
      "0it [00:00, ?it/s]"
     ]
    },
    {
     "name": "stdout",
     "output_type": "stream",
     "text": [
      "\r",
      "Upgrading database; v0 -> v1: : 0it [00:00, ?it/s]"
     ]
    },
    {
     "name": "stdout",
     "output_type": "stream",
     "text": [
      "\r",
      "Upgrading database; v0 -> v1: : 0it [00:00, ?it/s]"
     ]
    },
    {
     "name": "stdout",
     "output_type": "stream",
     "text": [
      "\n",
      "\r",
      "  0%|          | 0/1 [00:00<?, ?it/s]"
     ]
    },
    {
     "name": "stdout",
     "output_type": "stream",
     "text": [
      "\r",
      "Upgrading database; v1 -> v2:   0%|          | 0/1 [00:00<?, ?it/s]"
     ]
    },
    {
     "name": "stdout",
     "output_type": "stream",
     "text": [
      "\r",
      "Upgrading database; v1 -> v2: 100%|██████████| 1/1 [00:00<00:00, 560.96it/s]"
     ]
    },
    {
     "name": "stdout",
     "output_type": "stream",
     "text": [
      "\n",
      "\r",
      "0it [00:00, ?it/s]"
     ]
    },
    {
     "name": "stdout",
     "output_type": "stream",
     "text": [
      "\r",
      "Upgrading database; v2 -> v3: : 0it [00:00, ?it/s]"
     ]
    },
    {
     "name": "stdout",
     "output_type": "stream",
     "text": [
      "\r",
      "Upgrading database; v2 -> v3: : 0it [00:00, ?it/s]"
     ]
    },
    {
     "name": "stdout",
     "output_type": "stream",
     "text": [
      "\n",
      "\r",
      "0it [00:00, ?it/s]"
     ]
    },
    {
     "name": "stdout",
     "output_type": "stream",
     "text": [
      "\r",
      "Upgrading database; v3 -> v4: : 0it [00:00, ?it/s]"
     ]
    },
    {
     "name": "stdout",
     "output_type": "stream",
     "text": [
      "\r",
      "Upgrading database; v3 -> v4: : 0it [00:00, ?it/s]"
     ]
    },
    {
     "name": "stdout",
     "output_type": "stream",
     "text": [
      "\n",
      "\r",
      "  0%|          | 0/1 [00:00<?, ?it/s]"
     ]
    },
    {
     "name": "stdout",
     "output_type": "stream",
     "text": [
      "\r",
      "Upgrading database; v4 -> v5:   0%|          | 0/1 [00:00<?, ?it/s]"
     ]
    },
    {
     "name": "stdout",
     "output_type": "stream",
     "text": [
      "\r",
      "Upgrading database; v4 -> v5: 100%|██████████| 1/1 [00:00<00:00, 536.08it/s]"
     ]
    },
    {
     "name": "stdout",
     "output_type": "stream",
     "text": [
      "\n",
      "\r",
      "0it [00:00, ?it/s]"
     ]
    },
    {
     "name": "stdout",
     "output_type": "stream",
     "text": [
      "\r",
      "Upgrading database; v5 -> v6: : 0it [00:00, ?it/s]"
     ]
    },
    {
     "name": "stdout",
     "output_type": "stream",
     "text": [
      "\r",
      "Upgrading database; v5 -> v6: : 0it [00:00, ?it/s]"
     ]
    },
    {
     "name": "stdout",
     "output_type": "stream",
     "text": [
      "\n",
      "\r",
      "  0%|          | 0/1 [00:00<?, ?it/s]"
     ]
    },
    {
     "name": "stdout",
     "output_type": "stream",
     "text": [
      "\r",
      "Upgrading database; v6 -> v7:   0%|          | 0/1 [00:00<?, ?it/s]"
     ]
    },
    {
     "name": "stdout",
     "output_type": "stream",
     "text": [
      "\r",
      "Upgrading database; v6 -> v7: 100%|██████████| 1/1 [00:00<00:00, 368.31it/s]"
     ]
    },
    {
     "name": "stdout",
     "output_type": "stream",
     "text": [
      "\n",
      "\r",
      "  0%|          | 0/1 [00:00<?, ?it/s]"
     ]
    },
    {
     "name": "stdout",
     "output_type": "stream",
     "text": [
      "\r",
      "Upgrading database; v7 -> v8:   0%|          | 0/1 [00:00<?, ?it/s]"
     ]
    },
    {
     "name": "stdout",
     "output_type": "stream",
     "text": [
      "\r",
      "Upgrading database; v7 -> v8: 100%|██████████| 1/1 [00:00<00:00, 714.65it/s]"
     ]
    },
    {
     "name": "stdout",
     "output_type": "stream",
     "text": [
      "\n",
      "\r",
      "  0%|          | 0/1 [00:00<?, ?it/s]"
     ]
    },
    {
     "name": "stdout",
     "output_type": "stream",
     "text": [
      "\r",
      "Upgrading database; v8 -> v9:   0%|          | 0/1 [00:00<?, ?it/s]"
     ]
    },
    {
     "name": "stdout",
     "output_type": "stream",
     "text": [
      "\r",
      "Upgrading database; v8 -> v9: 100%|██████████| 1/1 [00:00<00:00, 381.27it/s]"
     ]
    },
    {
     "name": "stdout",
     "output_type": "stream",
     "text": [
      "\n"
     ]
    }
   ],
   "source": [
    "initialise_database()\n",
    "exp = load_or_create_experiment(experiment_name='tutorial_exp', sample_name=\"no sample\")"
   ]
  },
  {
   "cell_type": "markdown",
   "metadata": {},
   "source": [
    "Here, we define a simple function to benchmark the time it takes to insert n points with either numeric or array data type.\n",
    "We will compare both the time used to call ``add_result`` and the time used for the full measurement."
   ]
  },
  {
   "cell_type": "code",
   "execution_count": 4,
   "metadata": {
    "execution": {
     "iopub.execute_input": "2021-05-25T02:44:12.824247Z",
     "iopub.status.busy": "2021-05-25T02:44:12.822769Z",
     "iopub.status.idle": "2021-05-25T02:44:12.824926Z",
     "shell.execute_reply": "2021-05-25T02:44:12.825567Z"
    }
   },
   "outputs": [],
   "source": [
    "def insert_data(paramtype, npoints, nreps=1):\n",
    "\n",
    "    meas = Measurement(exp=exp)\n",
    "\n",
    "    x1 = ManualParameter('x1')\n",
    "    x2 = ManualParameter('x2')\n",
    "    x3 = ManualParameter('x3')\n",
    "    y1 = ManualParameter('y1')\n",
    "    y2 = ManualParameter('y2')\n",
    "\n",
    "    meas.register_parameter(x1, paramtype=paramtype)\n",
    "    meas.register_parameter(x2, paramtype=paramtype)\n",
    "    meas.register_parameter(x3, paramtype=paramtype)\n",
    "    meas.register_parameter(y1, setpoints=[x1, x2, x3],\n",
    "                            paramtype=paramtype)\n",
    "    meas.register_parameter(y2, setpoints=[x1, x2, x3],\n",
    "                            paramtype=paramtype)\n",
    "    start = time.perf_counter()\n",
    "    with meas.run() as datasaver:\n",
    "        start_adding = time.perf_counter()\n",
    "        for i in range(nreps):\n",
    "            datasaver.add_result((x1, np.random.rand(npoints)),\n",
    "                                 (x2, np.random.rand(npoints)),\n",
    "                                 (x3, np.random.rand(npoints)),\n",
    "                                 (y1, np.random.rand(npoints)),\n",
    "                                 (y2, np.random.rand(npoints)))\n",
    "        stop_adding = time.perf_counter()\n",
    "        run_id = datasaver.run_id\n",
    "    stop = time.perf_counter()\n",
    "    tot_time = stop - start\n",
    "    add_time = stop_adding - start_adding\n",
    "    return tot_time, add_time, run_id"
   ]
  },
  {
   "cell_type": "markdown",
   "metadata": {},
   "source": [
    "## Comparison between numeric/array data and binary blob"
   ]
  },
  {
   "cell_type": "markdown",
   "metadata": {},
   "source": [
    "### Case1: Short experiment time"
   ]
  },
  {
   "cell_type": "code",
   "execution_count": 5,
   "metadata": {
    "execution": {
     "iopub.execute_input": "2021-05-25T02:44:12.831954Z",
     "iopub.status.busy": "2021-05-25T02:44:12.831150Z",
     "iopub.status.idle": "2021-05-25T02:44:13.811581Z",
     "shell.execute_reply": "2021-05-25T02:44:13.812167Z"
    }
   },
   "outputs": [
    {
     "name": "stdout",
     "output_type": "stream",
     "text": [
      "Starting experimental run with id: 1. \n",
      "Starting experimental run with id: 2. \n",
      "Starting experimental run with id: 3. \n"
     ]
    },
    {
     "name": "stdout",
     "output_type": "stream",
     "text": [
      "Starting experimental run with id: 4. \n",
      "Starting experimental run with id: 5. \n"
     ]
    },
    {
     "name": "stdout",
     "output_type": "stream",
     "text": [
      "Starting experimental run with id: 6. \n",
      "Starting experimental run with id: 7. \n",
      "Starting experimental run with id: 8. \n"
     ]
    },
    {
     "name": "stdout",
     "output_type": "stream",
     "text": [
      "Starting experimental run with id: 9. \n"
     ]
    },
    {
     "name": "stdout",
     "output_type": "stream",
     "text": [
      "Starting experimental run with id: 10. \n",
      "Starting experimental run with id: 11. \n"
     ]
    },
    {
     "name": "stdout",
     "output_type": "stream",
     "text": [
      "Starting experimental run with id: 12. \n",
      "Starting experimental run with id: 13. \n"
     ]
    },
    {
     "name": "stdout",
     "output_type": "stream",
     "text": [
      "Starting experimental run with id: 14. \n"
     ]
    }
   ],
   "source": [
    "sizes = [1,500,1000,2000,3000,4000,5000]\n",
    "t_numeric = []\n",
    "t_numeric_add = []\n",
    "t_array = []\n",
    "t_array_add = []\n",
    "for size in sizes:\n",
    "    tn, tna, run_id_n =  insert_data('numeric', size)\n",
    "    t_numeric.append(tn)\n",
    "    t_numeric_add.append(tna)\n",
    "\n",
    "    ta, taa, run_id_a =  insert_data('array', size)\n",
    "    t_array.append(ta)\n",
    "    t_array_add.append(taa)"
   ]
  },
  {
   "cell_type": "code",
   "execution_count": 6,
   "metadata": {
    "execution": {
     "iopub.execute_input": "2021-05-25T02:44:13.835638Z",
     "iopub.status.busy": "2021-05-25T02:44:13.827041Z",
     "iopub.status.idle": "2021-05-25T02:44:14.142711Z",
     "shell.execute_reply": "2021-05-25T02:44:14.142194Z"
    }
   },
   "outputs": [
    {
     "data": {
      "image/png": "[encoded data removed]",
      "text/plain": [
       "<Figure size 432x288 with 1 Axes>"
      ]
     },
     "metadata": {
      "needs_background": "light"
     },
     "output_type": "display_data"
    }
   ],
   "source": [
    "fig, ax = plt.subplots(1,1)\n",
    "ax.plot(sizes, t_numeric, 'o-', label='Inserting row-by-row')\n",
    "ax.plot(sizes, t_numeric_add, 'o-', label='Inserting row-by-row: add_result only')\n",
    "ax.plot(sizes, t_array, 'd-', label='Inserting as binary blob')\n",
    "ax.plot(sizes, t_array_add, 'd-', label='Inserting as binary blob: add_result only')\n",
    "ax.legend()\n",
    "ax.set_xlabel('Array length')\n",
    "ax.set_ylabel('Time (s)')\n",
    "fig.tight_layout()"
   ]
  },
  {
   "cell_type": "markdown",
   "metadata": {},
   "source": [
    "As shown in the latter figure, the time to setup and and close the experiment is approximately 0.4 sec. In case of small array sizes, the difference between inserting values of data as arrays and inserting them row-by-row is relatively unimportant. At larger array sizes, i.e. above 10000 points, the cost of writing data as individual datapoints starts to become important.\n"
   ]
  },
  {
   "cell_type": "markdown",
   "metadata": {},
   "source": [
    "### Case2: Long experiment time "
   ]
  },
  {
   "cell_type": "code",
   "execution_count": 7,
   "metadata": {
    "execution": {
     "iopub.execute_input": "2021-05-25T02:44:14.207581Z",
     "iopub.status.busy": "2021-05-25T02:44:14.150607Z",
     "iopub.status.idle": "2021-05-25T02:45:14.113963Z",
     "shell.execute_reply": "2021-05-25T02:45:14.114448Z"
    }
   },
   "outputs": [
    {
     "name": "stdout",
     "output_type": "stream",
     "text": [
      "Starting experimental run with id: 15. \n",
      "Starting experimental run with id: 16. \n"
     ]
    },
    {
     "name": "stdout",
     "output_type": "stream",
     "text": [
      "Starting experimental run with id: 17. \n"
     ]
    },
    {
     "name": "stdout",
     "output_type": "stream",
     "text": [
      "Starting experimental run with id: 18. \n"
     ]
    },
    {
     "name": "stdout",
     "output_type": "stream",
     "text": [
      "Starting experimental run with id: 19. \n"
     ]
    },
    {
     "name": "stdout",
     "output_type": "stream",
     "text": [
      "Starting experimental run with id: 20. \n"
     ]
    },
    {
     "name": "stdout",
     "output_type": "stream",
     "text": [
      "Starting experimental run with id: 21. \n"
     ]
    },
    {
     "name": "stdout",
     "output_type": "stream",
     "text": [
      "Starting experimental run with id: 22. \n"
     ]
    },
    {
     "name": "stdout",
     "output_type": "stream",
     "text": [
      "Starting experimental run with id: 23. \n"
     ]
    },
    {
     "name": "stdout",
     "output_type": "stream",
     "text": [
      "Starting experimental run with id: 24. \n"
     ]
    },
    {
     "name": "stdout",
     "output_type": "stream",
     "text": [
      "Starting experimental run with id: 25. \n"
     ]
    },
    {
     "name": "stdout",
     "output_type": "stream",
     "text": [
      "Starting experimental run with id: 26. \n"
     ]
    },
    {
     "name": "stdout",
     "output_type": "stream",
     "text": [
      "Starting experimental run with id: 27. \n"
     ]
    },
    {
     "name": "stdout",
     "output_type": "stream",
     "text": [
      "Starting experimental run with id: 28. \n"
     ]
    }
   ],
   "source": [
    "sizes = [1,500,1000,2000,3000,4000,5000]\n",
    "nreps = 100\n",
    "t_numeric = []\n",
    "t_numeric_add = []\n",
    "t_numeric_run_ids = []\n",
    "t_array = []\n",
    "t_array_add = []\n",
    "t_array_run_ids = []\n",
    "for size in sizes:\n",
    "    tn, tna, run_id_n =  insert_data('numeric', size, nreps=nreps)\n",
    "    t_numeric.append(tn)\n",
    "    t_numeric_add.append(tna)\n",
    "    t_numeric_run_ids.append(run_id_n)\n",
    "\n",
    "    ta, taa, run_id_a =  insert_data('array', size, nreps=nreps)\n",
    "    t_array.append(ta)\n",
    "    t_array_add.append(taa)\n",
    "    t_array_run_ids.append(run_id_a)"
   ]
  },
  {
   "cell_type": "code",
   "execution_count": 8,
   "metadata": {
    "execution": {
     "iopub.execute_input": "2021-05-25T02:45:14.119904Z",
     "iopub.status.busy": "2021-05-25T02:45:14.119316Z",
     "iopub.status.idle": "2021-05-25T02:45:14.409304Z",
     "shell.execute_reply": "2021-05-25T02:45:14.407581Z"
    },
    "scrolled": true
   },
   "outputs": [
    {
     "data": {
      "image/png": "[encoded data removed]",
      "text/plain": [
       "<Figure size 432x288 with 1 Axes>"
      ]
     },
     "metadata": {
      "needs_background": "light"
     },
     "output_type": "display_data"
    }
   ],
   "source": [
    "fig, ax = plt.subplots(1,1)\n",
    "ax.plot(sizes, t_numeric, 'o-', label='Inserting row-by-row')\n",
    "ax.plot(sizes, t_numeric_add, 'o-', label='Inserting row-by-row: add_result only')\n",
    "ax.plot(sizes, t_array, 'd-', label='Inserting as binary blob')\n",
    "ax.plot(sizes, t_array_add, 'd-', label='Inserting as binary blob: add_result only')\n",
    "ax.legend()\n",
    "ax.set_xlabel('Array length')\n",
    "ax.set_ylabel('Time (s)')\n",
    "fig.tight_layout()"
   ]
  },
  {
   "cell_type": "markdown",
   "metadata": {},
   "source": [
    "However, as we increase the length of the experiment, as seen here by repeating the insertion 100 times, we see a big difference between inserting values of the data row-by-row and inserting it as a binary blob."
   ]
  },
  {
   "cell_type": "markdown",
   "metadata": {},
   "source": [
    "## Loading the data "
   ]
  },
  {
   "cell_type": "code",
   "execution_count": 9,
   "metadata": {
    "execution": {
     "iopub.execute_input": "2021-05-25T02:45:14.414136Z",
     "iopub.status.busy": "2021-05-25T02:45:14.413563Z",
     "iopub.status.idle": "2021-05-25T02:45:14.416651Z",
     "shell.execute_reply": "2021-05-25T02:45:14.417244Z"
    }
   },
   "outputs": [],
   "source": [
    "from qcodes.dataset.data_set import load_by_id"
   ]
  },
  {
   "cell_type": "markdown",
   "metadata": {},
   "source": [
    "As usual you can load the data by using the ``load_by_id`` function but you will notice that the different storage methods\n",
    "are reflected in shape of the data as it is retrieved. "
   ]
  },
  {
   "cell_type": "code",
   "execution_count": 10,
   "metadata": {
    "execution": {
     "iopub.execute_input": "2021-05-25T02:45:14.421083Z",
     "iopub.status.busy": "2021-05-25T02:45:14.420551Z",
     "iopub.status.idle": "2021-05-25T02:45:14.424074Z",
     "shell.execute_reply": "2021-05-25T02:45:14.423598Z"
    }
   },
   "outputs": [],
   "source": [
    "run_id_n = t_numeric_run_ids[0]\n",
    "run_id_a = t_array_run_ids[0]"
   ]
  },
  {
   "cell_type": "code",
   "execution_count": 11,
   "metadata": {
    "execution": {
     "iopub.execute_input": "2021-05-25T02:45:14.427621Z",
     "iopub.status.busy": "2021-05-25T02:45:14.426862Z",
     "iopub.status.idle": "2021-05-25T02:45:14.436574Z",
     "shell.execute_reply": "2021-05-25T02:45:14.437153Z"
    },
    "scrolled": true
   },
   "outputs": [
    {
     "data": {
      "text/plain": [
       "{'x1': {'x1': array([0.45034686, 0.45034686, 0.058435  , 0.058435  , 0.59600567,\n",
       "         0.59600567, 0.92807915, 0.92807915, 0.50511206, 0.50511206,\n",
       "         0.15626671, 0.15626671, 0.06032774, 0.06032774, 0.99369799,\n",
       "         0.99369799, 0.61099909, 0.61099909, 0.69520025, 0.69520025,\n",
       "         0.53320257, 0.53320257, 0.36022354, 0.36022354, 0.55822373,\n",
       "         0.55822373, 0.30470016, 0.30470016, 0.10056964, 0.10056964,\n",
       "         0.24219712, 0.24219712, 0.7358584 , 0.7358584 , 0.4767678 ,\n",
       "         0.4767678 , 0.38898483, 0.38898483, 0.17821498, 0.17821498,\n",
       "         0.89387099, 0.89387099, 0.15931607, 0.15931607, 0.81360686,\n",
       "         0.81360686, 0.18484455, 0.18484455, 0.27255713, 0.27255713,\n",
       "         0.39735598, 0.39735598, 0.40586398, 0.40586398, 0.23365912,\n",
       "         0.23365912, 0.27922114, 0.27922114, 0.50825986, 0.50825986,\n",
       "         0.50174446, 0.50174446, 0.90941324, 0.90941324, 0.28870165,\n",
       "         0.28870165, 0.43808479, 0.43808479, 0.5717458 , 0.5717458 ,\n",
       "         0.42741502, 0.42741502, 0.30752238, 0.30752238, 0.86049481,\n",
       "         0.86049481, 0.92843958, 0.92843958, 0.29376388, 0.29376388,\n",
       "         0.01098165, 0.01098165, 0.07993785, 0.07993785, 0.82765835,\n",
       "         0.82765835, 0.22905129, 0.22905129, 0.15975098, 0.15975098,\n",
       "         0.46442426, 0.46442426, 0.10723609, 0.10723609, 0.30168239,\n",
       "         0.30168239, 0.48158479, 0.48158479, 0.50343313, 0.50343313,\n",
       "         0.36891105, 0.36891105, 0.27560994, 0.27560994, 0.3591999 ,\n",
       "         0.3591999 , 0.21828389, 0.21828389, 0.36239893, 0.36239893,\n",
       "         0.62890394, 0.62890394, 0.62710576, 0.62710576, 0.25875873,\n",
       "         0.25875873, 0.82362448, 0.82362448, 0.95518527, 0.95518527,\n",
       "         0.64790865, 0.64790865, 0.10665635, 0.10665635, 0.77082592,\n",
       "         0.77082592, 0.90054097, 0.90054097, 0.71353789, 0.71353789,\n",
       "         0.57243447, 0.57243447, 0.81863892, 0.81863892, 0.72652856,\n",
       "         0.72652856, 0.7113986 , 0.7113986 , 0.38772741, 0.38772741,\n",
       "         0.75720966, 0.75720966, 0.97491634, 0.97491634, 0.05939809,\n",
       "         0.05939809, 0.66214169, 0.66214169, 0.6307378 , 0.6307378 ,\n",
       "         0.563564  , 0.563564  , 0.82381724, 0.82381724, 0.17050988,\n",
       "         0.17050988, 0.59131398, 0.59131398, 0.93383534, 0.93383534,\n",
       "         0.67928141, 0.67928141, 0.76318996, 0.76318996, 0.92909366,\n",
       "         0.92909366, 0.54628339, 0.54628339, 0.41167869, 0.41167869,\n",
       "         0.8960828 , 0.8960828 , 0.26535951, 0.26535951, 0.65665312,\n",
       "         0.65665312, 0.33479497, 0.33479497, 0.11447386, 0.11447386,\n",
       "         0.9740768 , 0.9740768 , 0.30728548, 0.30728548, 0.66286944,\n",
       "         0.66286944, 0.76579342, 0.76579342, 0.74571888, 0.74571888,\n",
       "         0.31184585, 0.31184585, 0.4086361 , 0.4086361 , 0.29319868,\n",
       "         0.29319868, 0.91700283, 0.91700283, 0.8066189 , 0.8066189 ])}}"
      ]
     },
     "execution_count": 1,
     "metadata": {},
     "output_type": "execute_result"
    }
   ],
   "source": [
    "ds = load_by_id(run_id_n)\n",
    "ds.get_parameter_data('x1')"
   ]
  },
  {
   "cell_type": "markdown",
   "metadata": {},
   "source": [
    "And a dataset stored as binary arrays"
   ]
  },
  {
   "cell_type": "code",
   "execution_count": 12,
   "metadata": {
    "execution": {
     "iopub.execute_input": "2021-05-25T02:45:14.440954Z",
     "iopub.status.busy": "2021-05-25T02:45:14.440409Z",
     "iopub.status.idle": "2021-05-25T02:45:14.511904Z",
     "shell.execute_reply": "2021-05-25T02:45:14.512459Z"
    },
    "scrolled": true
   },
   "outputs": [
    {
     "data": {
      "text/plain": [
       "{'x1': {'x1': array([[0.4483095 ],\n",
       "         [0.4483095 ],\n",
       "         [0.28386896],\n",
       "         [0.28386896],\n",
       "         [0.21439097],\n",
       "         [0.21439097],\n",
       "         [0.52040732],\n",
       "         [0.52040732],\n",
       "         [0.91710914],\n",
       "         [0.91710914],\n",
       "         [0.09391875],\n",
       "         [0.09391875],\n",
       "         [0.29603773],\n",
       "         [0.29603773],\n",
       "         [0.06745431],\n",
       "         [0.06745431],\n",
       "         [0.92956455],\n",
       "         [0.92956455],\n",
       "         [0.84610044],\n",
       "         [0.84610044],\n",
       "         [0.15025716],\n",
       "         [0.15025716],\n",
       "         [0.22740532],\n",
       "         [0.22740532],\n",
       "         [0.15036304],\n",
       "         [0.15036304],\n",
       "         [0.8476239 ],\n",
       "         [0.8476239 ],\n",
       "         [0.27354315],\n",
       "         [0.27354315],\n",
       "         [0.83788491],\n",
       "         [0.83788491],\n",
       "         [0.49348616],\n",
       "         [0.49348616],\n",
       "         [0.27254902],\n",
       "         [0.27254902],\n",
       "         [0.54576271],\n",
       "         [0.54576271],\n",
       "         [0.1027827 ],\n",
       "         [0.1027827 ],\n",
       "         [0.00877039],\n",
       "         [0.00877039],\n",
       "         [0.88602661],\n",
       "         [0.88602661],\n",
       "         [0.51445747],\n",
       "         [0.51445747],\n",
       "         [0.00387977],\n",
       "         [0.00387977],\n",
       "         [0.31482716],\n",
       "         [0.31482716],\n",
       "         [0.56907946],\n",
       "         [0.56907946],\n",
       "         [0.5229648 ],\n",
       "         [0.5229648 ],\n",
       "         [0.59669513],\n",
       "         [0.59669513],\n",
       "         [0.62843961],\n",
       "         [0.62843961],\n",
       "         [0.55639906],\n",
       "         [0.55639906],\n",
       "         [0.64985162],\n",
       "         [0.64985162],\n",
       "         [0.37802812],\n",
       "         [0.37802812],\n",
       "         [0.63985602],\n",
       "         [0.63985602],\n",
       "         [0.90322871],\n",
       "         [0.90322871],\n",
       "         [0.1262608 ],\n",
       "         [0.1262608 ],\n",
       "         [0.72572451],\n",
       "         [0.72572451],\n",
       "         [0.36305343],\n",
       "         [0.36305343],\n",
       "         [0.40250242],\n",
       "         [0.40250242],\n",
       "         [0.54005333],\n",
       "         [0.54005333],\n",
       "         [0.02310498],\n",
       "         [0.02310498],\n",
       "         [0.55035535],\n",
       "         [0.55035535],\n",
       "         [0.44799253],\n",
       "         [0.44799253],\n",
       "         [0.7780934 ],\n",
       "         [0.7780934 ],\n",
       "         [0.10692433],\n",
       "         [0.10692433],\n",
       "         [0.58452756],\n",
       "         [0.58452756],\n",
       "         [0.32732713],\n",
       "         [0.32732713],\n",
       "         [0.47276788],\n",
       "         [0.47276788],\n",
       "         [0.39559211],\n",
       "         [0.39559211],\n",
       "         [0.03776811],\n",
       "         [0.03776811],\n",
       "         [0.75181978],\n",
       "         [0.75181978],\n",
       "         [0.92749873],\n",
       "         [0.92749873],\n",
       "         [0.1720584 ],\n",
       "         [0.1720584 ],\n",
       "         [0.35165901],\n",
       "         [0.35165901],\n",
       "         [0.42414363],\n",
       "         [0.42414363],\n",
       "         [0.78677335],\n",
       "         [0.78677335],\n",
       "         [0.12975322],\n",
       "         [0.12975322],\n",
       "         [0.95631899],\n",
       "         [0.95631899],\n",
       "         [0.44394719],\n",
       "         [0.44394719],\n",
       "         [0.46619758],\n",
       "         [0.46619758],\n",
       "         [0.42717936],\n",
       "         [0.42717936],\n",
       "         [0.16011124],\n",
       "         [0.16011124],\n",
       "         [0.04862249],\n",
       "         [0.04862249],\n",
       "         [0.76443925],\n",
       "         [0.76443925],\n",
       "         [0.24384653],\n",
       "         [0.24384653],\n",
       "         [0.50621279],\n",
       "         [0.50621279],\n",
       "         [0.44230863],\n",
       "         [0.44230863],\n",
       "         [0.03101897],\n",
       "         [0.03101897],\n",
       "         [0.83940055],\n",
       "         [0.83940055],\n",
       "         [0.52967293],\n",
       "         [0.52967293],\n",
       "         [0.0434282 ],\n",
       "         [0.0434282 ],\n",
       "         [0.41163485],\n",
       "         [0.41163485],\n",
       "         [0.25205194],\n",
       "         [0.25205194],\n",
       "         [0.78643518],\n",
       "         [0.78643518],\n",
       "         [0.39694031],\n",
       "         [0.39694031],\n",
       "         [0.92181279],\n",
       "         [0.92181279],\n",
       "         [0.84572528],\n",
       "         [0.84572528],\n",
       "         [0.06678994],\n",
       "         [0.06678994],\n",
       "         [0.91663958],\n",
       "         [0.91663958],\n",
       "         [0.15570901],\n",
       "         [0.15570901],\n",
       "         [0.58798179],\n",
       "         [0.58798179],\n",
       "         [0.58305544],\n",
       "         [0.58305544],\n",
       "         [0.19368837],\n",
       "         [0.19368837],\n",
       "         [0.39191444],\n",
       "         [0.39191444],\n",
       "         [0.46501229],\n",
       "         [0.46501229],\n",
       "         [0.52953086],\n",
       "         [0.52953086],\n",
       "         [0.53639667],\n",
       "         [0.53639667],\n",
       "         [0.76552864],\n",
       "         [0.76552864],\n",
       "         [0.99795174],\n",
       "         [0.99795174],\n",
       "         [0.19736274],\n",
       "         [0.19736274],\n",
       "         [0.52550469],\n",
       "         [0.52550469],\n",
       "         [0.27837095],\n",
       "         [0.27837095],\n",
       "         [0.65667377],\n",
       "         [0.65667377],\n",
       "         [0.42320081],\n",
       "         [0.42320081],\n",
       "         [0.33017212],\n",
       "         [0.33017212],\n",
       "         [0.13828232],\n",
       "         [0.13828232],\n",
       "         [0.6061257 ],\n",
       "         [0.6061257 ],\n",
       "         [0.82606275],\n",
       "         [0.82606275],\n",
       "         [0.60056723],\n",
       "         [0.60056723],\n",
       "         [0.38746086],\n",
       "         [0.38746086],\n",
       "         [0.58473588],\n",
       "         [0.58473588]])}}"
      ]
     },
     "execution_count": 1,
     "metadata": {},
     "output_type": "execute_result"
    }
   ],
   "source": [
    "ds = load_by_id(run_id_a)\n",
    "ds.get_parameter_data('x1')"
   ]
  },
  {
   "cell_type": "code",
   "execution_count": null,
   "metadata": {},
   "outputs": [],
   "source": []
  }
 ],
 "metadata": {
  "kernelspec": {
   "display_name": "Python 3",
   "language": "python",
   "name": "python3"
  },
  "language_info": {
   "codemirror_mode": {
    "name": "ipython",
    "version": 3
   },
   "file_extension": ".py",
   "mimetype": "text/x-python",
   "name": "python",
   "nbconvert_exporter": "python",
   "pygments_lexer": "ipython3",
   "version": "3.7.10"
  },
  "nbsphinx": {
   "timeout": 600
  },
  "toc": {
   "base_numbering": 1,
   "nav_menu": {},
   "number_sections": true,
   "sideBar": true,
   "skip_h1_title": false,
   "title_cell": "Table of Contents",
   "title_sidebar": "Contents",
   "toc_cell": false,
   "toc_position": {},
   "toc_section_display": true,
   "toc_window_display": false
  },
  "varInspector": {
   "cols": {
    "lenName": 16,
    "lenType": 16,
    "lenVar": 40
   },
   "kernels_config": {
    "python": {
     "delete_cmd_postfix": "",
     "delete_cmd_prefix": "del ",
     "library": "var_list.py",
     "varRefreshCmd": "print(var_dic_list())"
    },
    "r": {
     "delete_cmd_postfix": ") ",
     "delete_cmd_prefix": "rm(",
     "library": "var_list.r",
     "varRefreshCmd": "cat(var_dic_list()) "
    }
   },
   "types_to_exclude": [
    "module",
    "function",
    "builtin_function_or_method",
    "instance",
    "_Feature"
   ],
   "window_display": false
  }
 },
 "nbformat": 4,
 "nbformat_minor": 4
}
