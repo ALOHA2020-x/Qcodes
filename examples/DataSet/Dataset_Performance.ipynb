{
 "cells": [
  {
   "cell_type": "markdown",
   "metadata": {},
   "source": [
    "# DataSet Performance\n",
    "\n",
    "This notebook shows the trade-off between inserting data into a database row-by-row and as binary blobs. Inserting the data row-by-row means that we have direct access to all the data and may perform queries directly on the values of the data. On the other hand, as we shall see, this is much slower than inserting the data directly as binary blobs."
   ]
  },
  {
   "cell_type": "markdown",
   "metadata": {},
   "source": [
    "First, we choose a new location for the database to ensure that we don't add a bunch of benchmarking data to the default one."
   ]
  },
  {
   "cell_type": "code",
   "execution_count": 1,
   "metadata": {
    "execution": {
     "iopub.execute_input": "2020-10-15T10:53:58.520417Z",
     "iopub.status.busy": "2020-10-15T10:53:58.519804Z",
     "iopub.status.idle": "2020-10-15T10:53:59.634388Z",
     "shell.execute_reply": "2020-10-15T10:53:59.633422Z"
    }
   },
   "outputs": [
    {
     "name": "stdout",
     "output_type": "stream",
     "text": [
      "Logging hadn't been started.\n",
      "Activating auto-logging. Current session state plus future input saved.\n",
      "Filename       : /home/vsts/.qcodes/logs/command_history.log\n",
      "Mode           : append\n",
      "Output logging : True\n",
      "Raw input log  : False\n",
      "Timestamping   : True\n",
      "State          : active\n"
     ]
    },
    {
     "name": "stdout",
     "output_type": "stream",
     "text": [
      "Qcodes Logfile : /home/vsts/.qcodes/logs/201015-15235-qcodes.log\n"
     ]
    }
   ],
   "source": [
    "import os\n",
    "cwd = os.getcwd()\n",
    "import qcodes as qc\n",
    "qc.config[\"core\"][\"db_location\"] = os.path.join(cwd, 'testing.db')\n"
   ]
  },
  {
   "cell_type": "code",
   "execution_count": 2,
   "metadata": {
    "execution": {
     "iopub.execute_input": "2020-10-15T10:53:59.641536Z",
     "iopub.status.busy": "2020-10-15T10:53:59.640489Z",
     "iopub.status.idle": "2020-10-15T10:53:59.847280Z",
     "shell.execute_reply": "2020-10-15T10:53:59.846519Z"
    }
   },
   "outputs": [],
   "source": [
    "%matplotlib inline\n",
    "import time\n",
    "import matplotlib.pyplot as plt\n",
    "import numpy as np\n",
    "\n",
    "import qcodes as qc\n",
    "from qcodes.instrument.parameter import ManualParameter\n",
    "from qcodes.dataset.experiment_container import (Experiment,\n",
    "                                                 load_last_experiment,\n",
    "                                                 new_experiment)\n",
    "from qcodes.dataset.sqlite.database import initialise_database\n",
    "from qcodes import load_or_create_experiment\n",
    "from qcodes.dataset.measurements import Measurement"
   ]
  },
  {
   "cell_type": "code",
   "execution_count": 3,
   "metadata": {
    "execution": {
     "iopub.execute_input": "2020-10-15T10:53:59.851402Z",
     "iopub.status.busy": "2020-10-15T10:53:59.850654Z",
     "iopub.status.idle": "2020-10-15T10:53:59.965822Z",
     "shell.execute_reply": "2020-10-15T10:53:59.964950Z"
    }
   },
   "outputs": [
    {
     "name": "stdout",
     "output_type": "stream",
     "text": [
      "\r",
      "0it [00:00, ?it/s]"
     ]
    },
    {
     "name": "stdout",
     "output_type": "stream",
     "text": [
      "\r",
      "Upgrading database; v0 -> v1: : 0it [00:00, ?it/s]"
     ]
    },
    {
     "name": "stdout",
     "output_type": "stream",
     "text": [
      "\r",
      "Upgrading database; v0 -> v1: : 0it [00:00, ?it/s]"
     ]
    },
    {
     "name": "stdout",
     "output_type": "stream",
     "text": [
      "\n",
      "\r",
      "  0%|          | 0/1 [00:00<?, ?it/s]"
     ]
    },
    {
     "name": "stdout",
     "output_type": "stream",
     "text": [
      "\r",
      "Upgrading database; v1 -> v2:   0%|          | 0/1 [00:00<?, ?it/s]"
     ]
    },
    {
     "name": "stdout",
     "output_type": "stream",
     "text": [
      "\r",
      "Upgrading database; v1 -> v2: 100%|██████████| 1/1 [00:00<00:00, 556.86it/s]"
     ]
    },
    {
     "name": "stdout",
     "output_type": "stream",
     "text": [
      "\n",
      "\r",
      "0it [00:00, ?it/s]"
     ]
    },
    {
     "name": "stdout",
     "output_type": "stream",
     "text": [
      "\r",
      "Upgrading database; v2 -> v3: : 0it [00:00, ?it/s]"
     ]
    },
    {
     "name": "stdout",
     "output_type": "stream",
     "text": [
      "\r",
      "Upgrading database; v2 -> v3: : 0it [00:00, ?it/s]"
     ]
    },
    {
     "name": "stdout",
     "output_type": "stream",
     "text": [
      "\n",
      "\r",
      "0it [00:00, ?it/s]"
     ]
    },
    {
     "name": "stdout",
     "output_type": "stream",
     "text": [
      "\r",
      "Upgrading database; v3 -> v4: : 0it [00:00, ?it/s]"
     ]
    },
    {
     "name": "stdout",
     "output_type": "stream",
     "text": [
      "\r",
      "Upgrading database; v3 -> v4: : 0it [00:00, ?it/s]"
     ]
    },
    {
     "name": "stdout",
     "output_type": "stream",
     "text": [
      "\n",
      "\r",
      "  0%|          | 0/1 [00:00<?, ?it/s]"
     ]
    },
    {
     "name": "stdout",
     "output_type": "stream",
     "text": [
      "\r",
      "Upgrading database; v4 -> v5:   0%|          | 0/1 [00:00<?, ?it/s]"
     ]
    },
    {
     "name": "stdout",
     "output_type": "stream",
     "text": [
      "\r",
      "Upgrading database; v4 -> v5: 100%|██████████| 1/1 [00:00<00:00, 517.94it/s]"
     ]
    },
    {
     "name": "stdout",
     "output_type": "stream",
     "text": [
      "\n",
      "\r",
      "0it [00:00, ?it/s]"
     ]
    },
    {
     "name": "stdout",
     "output_type": "stream",
     "text": [
      "\r",
      "Upgrading database; v5 -> v6: : 0it [00:00, ?it/s]"
     ]
    },
    {
     "name": "stdout",
     "output_type": "stream",
     "text": [
      "\r",
      "Upgrading database; v5 -> v6: : 0it [00:00, ?it/s]"
     ]
    },
    {
     "name": "stdout",
     "output_type": "stream",
     "text": [
      "\n",
      "\r",
      "  0%|          | 0/1 [00:00<?, ?it/s]"
     ]
    },
    {
     "name": "stdout",
     "output_type": "stream",
     "text": [
      "\r",
      "Upgrading database; v6 -> v7:   0%|          | 0/1 [00:00<?, ?it/s]"
     ]
    },
    {
     "name": "stdout",
     "output_type": "stream",
     "text": [
      "\r",
      "Upgrading database; v6 -> v7: 100%|██████████| 1/1 [00:00<00:00, 338.77it/s]"
     ]
    },
    {
     "name": "stdout",
     "output_type": "stream",
     "text": [
      "\n",
      "\r",
      "  0%|          | 0/1 [00:00<?, ?it/s]"
     ]
    },
    {
     "name": "stdout",
     "output_type": "stream",
     "text": [
      "\r",
      "Upgrading database; v7 -> v8:   0%|          | 0/1 [00:00<?, ?it/s]"
     ]
    },
    {
     "name": "stdout",
     "output_type": "stream",
     "text": [
      "\r",
      "Upgrading database; v7 -> v8: 100%|██████████| 1/1 [00:00<00:00, 398.21it/s]"
     ]
    },
    {
     "name": "stdout",
     "output_type": "stream",
     "text": [
      "\n",
      "\r",
      "  0%|          | 0/1 [00:00<?, ?it/s]"
     ]
    },
    {
     "name": "stdout",
     "output_type": "stream",
     "text": [
      "\r",
      "Upgrading database; v8 -> v9:   0%|          | 0/1 [00:00<?, ?it/s]"
     ]
    },
    {
     "name": "stdout",
     "output_type": "stream",
     "text": [
      "\r",
      "Upgrading database; v8 -> v9: 100%|██████████| 1/1 [00:00<00:00, 432.94it/s]"
     ]
    },
    {
     "name": "stdout",
     "output_type": "stream",
     "text": [
      "\n"
     ]
    }
   ],
   "source": [
    "initialise_database()\n",
    "exp = load_or_create_experiment(experiment_name='tutorial_exp', sample_name=\"no sample\")"
   ]
  },
  {
   "cell_type": "markdown",
   "metadata": {},
   "source": [
    "Here, we define a simple function to benchmark the time it takes to insert n points with either numeric or array data type.\n",
    "We will compare both the time used to call ``add_result`` and the time used for the full measurement."
   ]
  },
  {
   "cell_type": "code",
   "execution_count": 4,
   "metadata": {
    "execution": {
     "iopub.execute_input": "2020-10-15T10:53:59.974199Z",
     "iopub.status.busy": "2020-10-15T10:53:59.972788Z",
     "iopub.status.idle": "2020-10-15T10:53:59.977466Z",
     "shell.execute_reply": "2020-10-15T10:53:59.976973Z"
    }
   },
   "outputs": [],
   "source": [
    "def insert_data(paramtype, npoints, nreps=1):\n",
    "\n",
    "    meas = Measurement(exp=exp)\n",
    "\n",
    "    x1 = ManualParameter('x1')\n",
    "    x2 = ManualParameter('x2')\n",
    "    x3 = ManualParameter('x3')\n",
    "    y1 = ManualParameter('y1')\n",
    "    y2 = ManualParameter('y2')\n",
    "\n",
    "    meas.register_parameter(x1, paramtype=paramtype)\n",
    "    meas.register_parameter(x2, paramtype=paramtype)\n",
    "    meas.register_parameter(x3, paramtype=paramtype)\n",
    "    meas.register_parameter(y1, setpoints=[x1, x2, x3],\n",
    "                            paramtype=paramtype)\n",
    "    meas.register_parameter(y2, setpoints=[x1, x2, x3],\n",
    "                            paramtype=paramtype)\n",
    "    start = time.perf_counter()\n",
    "    with meas.run() as datasaver:\n",
    "        start_adding = time.perf_counter()\n",
    "        for i in range(nreps):\n",
    "            datasaver.add_result((x1, np.random.rand(npoints)),\n",
    "                                 (x2, np.random.rand(npoints)),\n",
    "                                 (x3, np.random.rand(npoints)),\n",
    "                                 (y1, np.random.rand(npoints)),\n",
    "                                 (y2, np.random.rand(npoints)))\n",
    "        stop_adding = time.perf_counter()\n",
    "        run_id = datasaver.run_id\n",
    "    stop = time.perf_counter()\n",
    "    tot_time = stop - start\n",
    "    add_time = stop_adding - start_adding\n",
    "    return tot_time, add_time, run_id"
   ]
  },
  {
   "cell_type": "markdown",
   "metadata": {},
   "source": [
    "## Comparison between numeric/array data and binary blob"
   ]
  },
  {
   "cell_type": "markdown",
   "metadata": {},
   "source": [
    "### Case1: Short experiment time"
   ]
  },
  {
   "cell_type": "code",
   "execution_count": 5,
   "metadata": {
    "execution": {
     "iopub.execute_input": "2020-10-15T10:53:59.984548Z",
     "iopub.status.busy": "2020-10-15T10:53:59.983179Z",
     "iopub.status.idle": "2020-10-15T10:54:00.877236Z",
     "shell.execute_reply": "2020-10-15T10:54:00.876423Z"
    }
   },
   "outputs": [
    {
     "name": "stdout",
     "output_type": "stream",
     "text": [
      "Starting experimental run with id: 1. \n",
      "Starting experimental run with id: 2. \n",
      "Starting experimental run with id: 3. \n",
      "Starting experimental run with id: 4. \n",
      "Starting experimental run with id: 5. \n"
     ]
    },
    {
     "name": "stdout",
     "output_type": "stream",
     "text": [
      "Starting experimental run with id: 6. \n"
     ]
    },
    {
     "name": "stdout",
     "output_type": "stream",
     "text": [
      "Starting experimental run with id: 7. \n"
     ]
    },
    {
     "name": "stdout",
     "output_type": "stream",
     "text": [
      "Starting experimental run with id: 8. \n",
      "Starting experimental run with id: 9. \n"
     ]
    },
    {
     "name": "stdout",
     "output_type": "stream",
     "text": [
      "Starting experimental run with id: 10. \n",
      "Starting experimental run with id: 11. \n"
     ]
    },
    {
     "name": "stdout",
     "output_type": "stream",
     "text": [
      "Starting experimental run with id: 12. \n",
      "Starting experimental run with id: 13. \n"
     ]
    },
    {
     "name": "stdout",
     "output_type": "stream",
     "text": [
      "Starting experimental run with id: 14. \n"
     ]
    }
   ],
   "source": [
    "sizes = [1,500,1000,2000,3000,4000,5000]\n",
    "t_numeric = []\n",
    "t_numeric_add = []\n",
    "t_array = []\n",
    "t_array_add = []\n",
    "for size in sizes:\n",
    "    tn, tna, run_id_n =  insert_data('numeric', size)\n",
    "    t_numeric.append(tn)\n",
    "    t_numeric_add.append(tna)\n",
    "\n",
    "    ta, taa, run_id_a =  insert_data('array', size)\n",
    "    t_array.append(ta)\n",
    "    t_array_add.append(taa)"
   ]
  },
  {
   "cell_type": "code",
   "execution_count": 6,
   "metadata": {
    "execution": {
     "iopub.execute_input": "2020-10-15T10:54:00.900873Z",
     "iopub.status.busy": "2020-10-15T10:54:00.896196Z",
     "iopub.status.idle": "2020-10-15T10:54:01.124057Z",
     "shell.execute_reply": "2020-10-15T10:54:01.123505Z"
    }
   },
   "outputs": [
    {
     "data": {
      "image/png": "[encoded data removed]",
      "text/plain": [
       "<Figure size 432x288 with 1 Axes>"
      ]
     },
     "metadata": {
      "needs_background": "light"
     },
     "output_type": "display_data"
    }
   ],
   "source": [
    "fig, ax = plt.subplots(1,1)\n",
    "ax.plot(sizes, t_numeric, 'o-', label='Inserting row-by-row')\n",
    "ax.plot(sizes, t_numeric_add, 'o-', label='Inserting row-by-row: add_result only')\n",
    "ax.plot(sizes, t_array, 'd-', label='Inserting as binary blob')\n",
    "ax.plot(sizes, t_array_add, 'd-', label='Inserting as binary blob: add_result only')\n",
    "ax.legend()\n",
    "ax.set_xlabel('Array length')\n",
    "ax.set_ylabel('Time (s)')\n",
    "fig.tight_layout()"
   ]
  },
  {
   "cell_type": "markdown",
   "metadata": {},
   "source": [
    "As shown in the latter figure, the time to setup and and close the experiment is approximately 0.4 sec. In case of small array sizes, the difference between inserting values of data as arrays and inserting them row-by-row is relatively unimportant. At larger array sizes, i.e. above 10000 points, the cost of writing data as individual datapoints starts to become important.\n"
   ]
  },
  {
   "cell_type": "markdown",
   "metadata": {},
   "source": [
    "### Case2: Long experiment time "
   ]
  },
  {
   "cell_type": "code",
   "execution_count": 7,
   "metadata": {
    "execution": {
     "iopub.execute_input": "2020-10-15T10:54:01.131705Z",
     "iopub.status.busy": "2020-10-15T10:54:01.130322Z",
     "iopub.status.idle": "2020-10-15T10:55:03.330578Z",
     "shell.execute_reply": "2020-10-15T10:55:03.329895Z"
    }
   },
   "outputs": [
    {
     "name": "stdout",
     "output_type": "stream",
     "text": [
      "Starting experimental run with id: 15. \n",
      "Starting experimental run with id: 16. \n",
      "Starting experimental run with id: 17. \n"
     ]
    },
    {
     "name": "stdout",
     "output_type": "stream",
     "text": [
      "Starting experimental run with id: 18. \n",
      "Starting experimental run with id: 19. \n"
     ]
    },
    {
     "name": "stdout",
     "output_type": "stream",
     "text": [
      "Starting experimental run with id: 20. \n"
     ]
    },
    {
     "name": "stdout",
     "output_type": "stream",
     "text": [
      "Starting experimental run with id: 21. \n"
     ]
    },
    {
     "name": "stdout",
     "output_type": "stream",
     "text": [
      "Starting experimental run with id: 22. \n"
     ]
    },
    {
     "name": "stdout",
     "output_type": "stream",
     "text": [
      "Starting experimental run with id: 23. \n"
     ]
    },
    {
     "name": "stdout",
     "output_type": "stream",
     "text": [
      "Starting experimental run with id: 24. \n"
     ]
    },
    {
     "name": "stdout",
     "output_type": "stream",
     "text": [
      "Starting experimental run with id: 25. \n"
     ]
    },
    {
     "name": "stdout",
     "output_type": "stream",
     "text": [
      "Starting experimental run with id: 26. \n"
     ]
    },
    {
     "name": "stdout",
     "output_type": "stream",
     "text": [
      "Starting experimental run with id: 27. \n"
     ]
    },
    {
     "name": "stdout",
     "output_type": "stream",
     "text": [
      "Starting experimental run with id: 28. \n"
     ]
    }
   ],
   "source": [
    "sizes = [1,500,1000,2000,3000,4000,5000]\n",
    "nreps = 100\n",
    "t_numeric = []\n",
    "t_numeric_add = []\n",
    "t_numeric_run_ids = []\n",
    "t_array = []\n",
    "t_array_add = []\n",
    "t_array_run_ids = []\n",
    "for size in sizes:\n",
    "    tn, tna, run_id_n =  insert_data('numeric', size, nreps=nreps)\n",
    "    t_numeric.append(tn)\n",
    "    t_numeric_add.append(tna)\n",
    "    t_numeric_run_ids.append(run_id_n)\n",
    "\n",
    "    ta, taa, run_id_a =  insert_data('array', size, nreps=nreps)\n",
    "    t_array.append(ta)\n",
    "    t_array_add.append(taa)\n",
    "    t_array_run_ids.append(run_id_a)"
   ]
  },
  {
   "cell_type": "code",
   "execution_count": 8,
   "metadata": {
    "execution": {
     "iopub.execute_input": "2020-10-15T10:55:03.358775Z",
     "iopub.status.busy": "2020-10-15T10:55:03.352793Z",
     "iopub.status.idle": "2020-10-15T10:55:03.577627Z",
     "shell.execute_reply": "2020-10-15T10:55:03.578134Z"
    },
    "scrolled": true
   },
   "outputs": [
    {
     "data": {
      "image/png": "[encoded data removed]",
      "text/plain": [
       "<Figure size 432x288 with 1 Axes>"
      ]
     },
     "metadata": {
      "needs_background": "light"
     },
     "output_type": "display_data"
    }
   ],
   "source": [
    "fig, ax = plt.subplots(1,1)\n",
    "ax.plot(sizes, t_numeric, 'o-', label='Inserting row-by-row')\n",
    "ax.plot(sizes, t_numeric_add, 'o-', label='Inserting row-by-row: add_result only')\n",
    "ax.plot(sizes, t_array, 'd-', label='Inserting as binary blob')\n",
    "ax.plot(sizes, t_array_add, 'd-', label='Inserting as binary blob: add_result only')\n",
    "ax.legend()\n",
    "ax.set_xlabel('Array length')\n",
    "ax.set_ylabel('Time (s)')\n",
    "fig.tight_layout()"
   ]
  },
  {
   "cell_type": "markdown",
   "metadata": {},
   "source": [
    "However, as we increase the length of the experiment, as seen here by repeating the insertion 100 times, we see a big difference between inserting values of the data row-by-row and inserting it as a binary blob."
   ]
  },
  {
   "cell_type": "markdown",
   "metadata": {},
   "source": [
    "## Loading the data "
   ]
  },
  {
   "cell_type": "code",
   "execution_count": 9,
   "metadata": {
    "execution": {
     "iopub.execute_input": "2020-10-15T10:55:03.582749Z",
     "iopub.status.busy": "2020-10-15T10:55:03.581600Z",
     "iopub.status.idle": "2020-10-15T10:55:03.585231Z",
     "shell.execute_reply": "2020-10-15T10:55:03.585901Z"
    }
   },
   "outputs": [],
   "source": [
    "from qcodes.dataset.data_set import load_by_id\n",
    "from qcodes.dataset.data_export import get_data_by_id"
   ]
  },
  {
   "cell_type": "markdown",
   "metadata": {},
   "source": [
    "As usual you can load the data by using the ``load_by_id`` function but you will notice that the different storage methods\n",
    "are reflected in shape of the data as it is retrieved. "
   ]
  },
  {
   "cell_type": "code",
   "execution_count": 10,
   "metadata": {
    "execution": {
     "iopub.execute_input": "2020-10-15T10:55:03.591930Z",
     "iopub.status.busy": "2020-10-15T10:55:03.590841Z",
     "iopub.status.idle": "2020-10-15T10:55:03.593736Z",
     "shell.execute_reply": "2020-10-15T10:55:03.593103Z"
    }
   },
   "outputs": [],
   "source": [
    "run_id_n = t_numeric_run_ids[0]\n",
    "run_id_a = t_array_run_ids[0]"
   ]
  },
  {
   "cell_type": "code",
   "execution_count": 11,
   "metadata": {
    "execution": {
     "iopub.execute_input": "2020-10-15T10:55:03.597944Z",
     "iopub.status.busy": "2020-10-15T10:55:03.597364Z",
     "iopub.status.idle": "2020-10-15T10:55:03.609634Z",
     "shell.execute_reply": "2020-10-15T10:55:03.610253Z"
    },
    "scrolled": true
   },
   "outputs": [
    {
     "data": {
      "text/plain": [
       "{'x1': {'x1': array([0.92024717, 0.92024717, 0.82033775, 0.82033775, 0.2551919 ,\n",
       "         0.2551919 , 0.70770771, 0.70770771, 0.50981515, 0.50981515,\n",
       "         0.58771114, 0.58771114, 0.94743397, 0.94743397, 0.38612236,\n",
       "         0.38612236, 0.02964577, 0.02964577, 0.26563669, 0.26563669,\n",
       "         0.10165352, 0.10165352, 0.43097934, 0.43097934, 0.47576065,\n",
       "         0.47576065, 0.27635419, 0.27635419, 0.43607354, 0.43607354,\n",
       "         0.6743909 , 0.6743909 , 0.74991501, 0.74991501, 0.21564934,\n",
       "         0.21564934, 0.00197503, 0.00197503, 0.49930529, 0.49930529,\n",
       "         0.1123046 , 0.1123046 , 0.96978067, 0.96978067, 0.9672521 ,\n",
       "         0.9672521 , 0.76277075, 0.76277075, 0.75655119, 0.75655119,\n",
       "         0.28498429, 0.28498429, 0.0977611 , 0.0977611 , 0.77577245,\n",
       "         0.77577245, 0.25545405, 0.25545405, 0.24439391, 0.24439391,\n",
       "         0.53885025, 0.53885025, 0.72144229, 0.72144229, 0.48210984,\n",
       "         0.48210984, 0.9963764 , 0.9963764 , 0.99356486, 0.99356486,\n",
       "         0.0841879 , 0.0841879 , 0.32359619, 0.32359619, 0.83963284,\n",
       "         0.83963284, 0.81510519, 0.81510519, 0.35819273, 0.35819273,\n",
       "         0.32153986, 0.32153986, 0.07367143, 0.07367143, 0.72344877,\n",
       "         0.72344877, 0.29913674, 0.29913674, 0.01869755, 0.01869755,\n",
       "         0.31680354, 0.31680354, 0.50500392, 0.50500392, 0.82823016,\n",
       "         0.82823016, 0.52357853, 0.52357853, 0.94148977, 0.94148977,\n",
       "         0.99456848, 0.99456848, 0.95800312, 0.95800312, 0.36740935,\n",
       "         0.36740935, 0.66926565, 0.66926565, 0.01438173, 0.01438173,\n",
       "         0.61156421, 0.61156421, 0.65084947, 0.65084947, 0.07050967,\n",
       "         0.07050967, 0.71633725, 0.71633725, 0.54745907, 0.54745907,\n",
       "         0.76499594, 0.76499594, 0.77359992, 0.77359992, 0.24600373,\n",
       "         0.24600373, 0.89098106, 0.89098106, 0.79660561, 0.79660561,\n",
       "         0.45940287, 0.45940287, 0.70236035, 0.70236035, 0.58394851,\n",
       "         0.58394851, 0.20896715, 0.20896715, 0.48938177, 0.48938177,\n",
       "         0.86264664, 0.86264664, 0.37774162, 0.37774162, 0.60008159,\n",
       "         0.60008159, 0.18959771, 0.18959771, 0.05531843, 0.05531843,\n",
       "         0.6585212 , 0.6585212 , 0.44324159, 0.44324159, 0.32877711,\n",
       "         0.32877711, 0.27157959, 0.27157959, 0.48041196, 0.48041196,\n",
       "         0.88054898, 0.88054898, 0.59206167, 0.59206167, 0.05662286,\n",
       "         0.05662286, 0.06166579, 0.06166579, 0.79454004, 0.79454004,\n",
       "         0.50636134, 0.50636134, 0.63340046, 0.63340046, 0.73632491,\n",
       "         0.73632491, 0.55561481, 0.55561481, 0.37265849, 0.37265849,\n",
       "         0.67799204, 0.67799204, 0.65452813, 0.65452813, 0.66790542,\n",
       "         0.66790542, 0.14767156, 0.14767156, 0.5662215 , 0.5662215 ,\n",
       "         0.81263063, 0.81263063, 0.57417188, 0.57417188, 0.77998784,\n",
       "         0.77998784, 0.20538612, 0.20538612, 0.72938228, 0.72938228])}}"
      ]
     },
     "execution_count": 1,
     "metadata": {},
     "output_type": "execute_result"
    }
   ],
   "source": [
    "ds = load_by_id(run_id_n)\n",
    "ds.get_parameter_data('x1')"
   ]
  },
  {
   "cell_type": "markdown",
   "metadata": {},
   "source": [
    "And a dataset stored as binary arrays"
   ]
  },
  {
   "cell_type": "code",
   "execution_count": 12,
   "metadata": {
    "execution": {
     "iopub.execute_input": "2020-10-15T10:55:03.614275Z",
     "iopub.status.busy": "2020-10-15T10:55:03.613660Z",
     "iopub.status.idle": "2020-10-15T10:55:03.678178Z",
     "shell.execute_reply": "2020-10-15T10:55:03.678789Z"
    },
    "scrolled": true
   },
   "outputs": [
    {
     "data": {
      "text/plain": [
       "{'x1': {'x1': array([[0.53615856],\n",
       "         [0.53615856],\n",
       "         [0.63010877],\n",
       "         [0.63010877],\n",
       "         [0.43715715],\n",
       "         [0.43715715],\n",
       "         [0.95518495],\n",
       "         [0.95518495],\n",
       "         [0.40607161],\n",
       "         [0.40607161],\n",
       "         [0.3637776 ],\n",
       "         [0.3637776 ],\n",
       "         [0.00336206],\n",
       "         [0.00336206],\n",
       "         [0.92175344],\n",
       "         [0.92175344],\n",
       "         [0.7033067 ],\n",
       "         [0.7033067 ],\n",
       "         [0.92448742],\n",
       "         [0.92448742],\n",
       "         [0.95662192],\n",
       "         [0.95662192],\n",
       "         [0.63156837],\n",
       "         [0.63156837],\n",
       "         [0.68830787],\n",
       "         [0.68830787],\n",
       "         [0.57941188],\n",
       "         [0.57941188],\n",
       "         [0.04237724],\n",
       "         [0.04237724],\n",
       "         [0.7144184 ],\n",
       "         [0.7144184 ],\n",
       "         [0.8572749 ],\n",
       "         [0.8572749 ],\n",
       "         [0.14107112],\n",
       "         [0.14107112],\n",
       "         [0.77180012],\n",
       "         [0.77180012],\n",
       "         [0.32272453],\n",
       "         [0.32272453],\n",
       "         [0.93056671],\n",
       "         [0.93056671],\n",
       "         [0.11226638],\n",
       "         [0.11226638],\n",
       "         [0.77874717],\n",
       "         [0.77874717],\n",
       "         [0.13844706],\n",
       "         [0.13844706],\n",
       "         [0.06830885],\n",
       "         [0.06830885],\n",
       "         [0.2597909 ],\n",
       "         [0.2597909 ],\n",
       "         [0.22254083],\n",
       "         [0.22254083],\n",
       "         [0.83480399],\n",
       "         [0.83480399],\n",
       "         [0.96187003],\n",
       "         [0.96187003],\n",
       "         [0.45988594],\n",
       "         [0.45988594],\n",
       "         [0.72363969],\n",
       "         [0.72363969],\n",
       "         [0.24930319],\n",
       "         [0.24930319],\n",
       "         [0.69521204],\n",
       "         [0.69521204],\n",
       "         [0.85060297],\n",
       "         [0.85060297],\n",
       "         [0.61102229],\n",
       "         [0.61102229],\n",
       "         [0.26942469],\n",
       "         [0.26942469],\n",
       "         [0.35797655],\n",
       "         [0.35797655],\n",
       "         [0.19703861],\n",
       "         [0.19703861],\n",
       "         [0.77890633],\n",
       "         [0.77890633],\n",
       "         [0.84617837],\n",
       "         [0.84617837],\n",
       "         [0.6894687 ],\n",
       "         [0.6894687 ],\n",
       "         [0.63384161],\n",
       "         [0.63384161],\n",
       "         [0.97065958],\n",
       "         [0.97065958],\n",
       "         [0.55223841],\n",
       "         [0.55223841],\n",
       "         [0.9543338 ],\n",
       "         [0.9543338 ],\n",
       "         [0.41332029],\n",
       "         [0.41332029],\n",
       "         [0.46652678],\n",
       "         [0.46652678],\n",
       "         [0.26895522],\n",
       "         [0.26895522],\n",
       "         [0.016195  ],\n",
       "         [0.016195  ],\n",
       "         [0.7295615 ],\n",
       "         [0.7295615 ],\n",
       "         [0.91119733],\n",
       "         [0.91119733],\n",
       "         [0.23925278],\n",
       "         [0.23925278],\n",
       "         [0.57244885],\n",
       "         [0.57244885],\n",
       "         [0.23225897],\n",
       "         [0.23225897],\n",
       "         [0.36972155],\n",
       "         [0.36972155],\n",
       "         [0.42289359],\n",
       "         [0.42289359],\n",
       "         [0.69296061],\n",
       "         [0.69296061],\n",
       "         [0.01552426],\n",
       "         [0.01552426],\n",
       "         [0.1217968 ],\n",
       "         [0.1217968 ],\n",
       "         [0.92831531],\n",
       "         [0.92831531],\n",
       "         [0.77667289],\n",
       "         [0.77667289],\n",
       "         [0.27011555],\n",
       "         [0.27011555],\n",
       "         [0.81710542],\n",
       "         [0.81710542],\n",
       "         [0.4740373 ],\n",
       "         [0.4740373 ],\n",
       "         [0.04957337],\n",
       "         [0.04957337],\n",
       "         [0.19665387],\n",
       "         [0.19665387],\n",
       "         [0.71061249],\n",
       "         [0.71061249],\n",
       "         [0.30830095],\n",
       "         [0.30830095],\n",
       "         [0.33211638],\n",
       "         [0.33211638],\n",
       "         [0.87070165],\n",
       "         [0.87070165],\n",
       "         [0.48010048],\n",
       "         [0.48010048],\n",
       "         [0.12524074],\n",
       "         [0.12524074],\n",
       "         [0.56716916],\n",
       "         [0.56716916],\n",
       "         [0.86821047],\n",
       "         [0.86821047],\n",
       "         [0.05668939],\n",
       "         [0.05668939],\n",
       "         [0.48397365],\n",
       "         [0.48397365],\n",
       "         [0.63898471],\n",
       "         [0.63898471],\n",
       "         [0.99990328],\n",
       "         [0.99990328],\n",
       "         [0.66027102],\n",
       "         [0.66027102],\n",
       "         [0.86953461],\n",
       "         [0.86953461],\n",
       "         [0.99298956],\n",
       "         [0.99298956],\n",
       "         [0.6298869 ],\n",
       "         [0.6298869 ],\n",
       "         [0.24645051],\n",
       "         [0.24645051],\n",
       "         [0.78259062],\n",
       "         [0.78259062],\n",
       "         [0.50643816],\n",
       "         [0.50643816],\n",
       "         [0.78781013],\n",
       "         [0.78781013],\n",
       "         [0.63113521],\n",
       "         [0.63113521],\n",
       "         [0.27836857],\n",
       "         [0.27836857],\n",
       "         [0.47090031],\n",
       "         [0.47090031],\n",
       "         [0.71419553],\n",
       "         [0.71419553],\n",
       "         [0.12940932],\n",
       "         [0.12940932],\n",
       "         [0.09277969],\n",
       "         [0.09277969],\n",
       "         [0.71161043],\n",
       "         [0.71161043],\n",
       "         [0.81632454],\n",
       "         [0.81632454],\n",
       "         [0.89895653],\n",
       "         [0.89895653],\n",
       "         [0.20484268],\n",
       "         [0.20484268],\n",
       "         [0.00230965],\n",
       "         [0.00230965],\n",
       "         [0.47768042],\n",
       "         [0.47768042],\n",
       "         [0.31219818],\n",
       "         [0.31219818],\n",
       "         [0.24291153],\n",
       "         [0.24291153]])}}"
      ]
     },
     "execution_count": 1,
     "metadata": {},
     "output_type": "execute_result"
    }
   ],
   "source": [
    "ds = load_by_id(run_id_a)\n",
    "ds.get_parameter_data('x1')"
   ]
  },
  {
   "cell_type": "code",
   "execution_count": null,
   "metadata": {},
   "outputs": [],
   "source": []
  }
 ],
 "metadata": {
  "kernelspec": {
   "display_name": "Python 3",
   "language": "python",
   "name": "python3"
  },
  "language_info": {
   "codemirror_mode": {
    "name": "ipython",
    "version": 3
   },
   "file_extension": ".py",
   "mimetype": "text/x-python",
   "name": "python",
   "nbconvert_exporter": "python",
   "pygments_lexer": "ipython3",
   "version": "3.7.7"
  },
  "nbsphinx": {
   "timeout": 600
  },
  "toc": {
   "base_numbering": 1,
   "nav_menu": {},
   "number_sections": true,
   "sideBar": true,
   "skip_h1_title": false,
   "title_cell": "Table of Contents",
   "title_sidebar": "Contents",
   "toc_cell": false,
   "toc_position": {},
   "toc_section_display": true,
   "toc_window_display": false
  },
  "varInspector": {
   "cols": {
    "lenName": 16,
    "lenType": 16,
    "lenVar": 40
   },
   "kernels_config": {
    "python": {
     "delete_cmd_postfix": "",
     "delete_cmd_prefix": "del ",
     "library": "var_list.py",
     "varRefreshCmd": "print(var_dic_list())"
    },
    "r": {
     "delete_cmd_postfix": ") ",
     "delete_cmd_prefix": "rm(",
     "library": "var_list.r",
     "varRefreshCmd": "cat(var_dic_list()) "
    }
   },
   "types_to_exclude": [
    "module",
    "function",
    "builtin_function_or_method",
    "instance",
    "_Feature"
   ],
   "window_display": false
  }
 },
 "nbformat": 4,
 "nbformat_minor": 2
}
