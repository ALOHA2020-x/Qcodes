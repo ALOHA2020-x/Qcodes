{
 "cells": [
  {
   "cell_type": "markdown",
   "metadata": {},
   "source": [
    "# DataSet Performance\n",
    "\n",
    "This notebook shows the trade-off between inserting data into a database row-by-row and as binary blobs. Inserting the data row-by-row means that we have direct access to all the data and may perform queries directly on the values of the data. On the other hand, as we shall see, this is much slower than inserting the data directly as binary blobs."
   ]
  },
  {
   "cell_type": "markdown",
   "metadata": {},
   "source": [
    "First, we choose a new location for the database to ensure that we don't add a bunch of benchmarking data to the default one."
   ]
  },
  {
   "cell_type": "code",
   "execution_count": 1,
   "metadata": {
    "execution": {
     "iopub.execute_input": "2020-10-16T14:18:37.215524Z",
     "iopub.status.busy": "2020-10-16T14:18:37.214785Z",
     "iopub.status.idle": "2020-10-16T14:18:38.300510Z",
     "shell.execute_reply": "2020-10-16T14:18:38.299664Z"
    }
   },
   "outputs": [
    {
     "name": "stdout",
     "output_type": "stream",
     "text": [
      "Logging hadn't been started.\n",
      "Activating auto-logging. Current session state plus future input saved.\n",
      "Filename       : /home/vsts/.qcodes/logs/command_history.log\n",
      "Mode           : append\n",
      "Output logging : True\n",
      "Raw input log  : False\n",
      "Timestamping   : True\n",
      "State          : active\n"
     ]
    },
    {
     "name": "stdout",
     "output_type": "stream",
     "text": [
      "Qcodes Logfile : /home/vsts/.qcodes/logs/201016-14982-qcodes.log\n"
     ]
    }
   ],
   "source": [
    "import os\n",
    "cwd = os.getcwd()\n",
    "import qcodes as qc\n",
    "qc.config[\"core\"][\"db_location\"] = os.path.join(cwd, 'testing.db')\n"
   ]
  },
  {
   "cell_type": "code",
   "execution_count": 2,
   "metadata": {
    "execution": {
     "iopub.execute_input": "2020-10-16T14:18:38.309907Z",
     "iopub.status.busy": "2020-10-16T14:18:38.306696Z",
     "iopub.status.idle": "2020-10-16T14:18:38.498574Z",
     "shell.execute_reply": "2020-10-16T14:18:38.499086Z"
    }
   },
   "outputs": [],
   "source": [
    "%matplotlib inline\n",
    "import time\n",
    "import matplotlib.pyplot as plt\n",
    "import numpy as np\n",
    "\n",
    "import qcodes as qc\n",
    "from qcodes.instrument.parameter import ManualParameter\n",
    "from qcodes.dataset.experiment_container import (Experiment,\n",
    "                                                 load_last_experiment,\n",
    "                                                 new_experiment)\n",
    "from qcodes.dataset.sqlite.database import initialise_database\n",
    "from qcodes import load_or_create_experiment\n",
    "from qcodes.dataset.measurements import Measurement"
   ]
  },
  {
   "cell_type": "code",
   "execution_count": 3,
   "metadata": {
    "execution": {
     "iopub.execute_input": "2020-10-16T14:18:38.503350Z",
     "iopub.status.busy": "2020-10-16T14:18:38.502545Z",
     "iopub.status.idle": "2020-10-16T14:18:38.630345Z",
     "shell.execute_reply": "2020-10-16T14:18:38.629754Z"
    }
   },
   "outputs": [
    {
     "name": "stdout",
     "output_type": "stream",
     "text": [
      "\r",
      "0it [00:00, ?it/s]"
     ]
    },
    {
     "name": "stdout",
     "output_type": "stream",
     "text": [
      "\r",
      "Upgrading database; v0 -> v1: : 0it [00:00, ?it/s]"
     ]
    },
    {
     "name": "stdout",
     "output_type": "stream",
     "text": [
      "\r",
      "Upgrading database; v0 -> v1: : 0it [00:00, ?it/s]"
     ]
    },
    {
     "name": "stdout",
     "output_type": "stream",
     "text": [
      "\n",
      "\r",
      "  0%|          | 0/1 [00:00<?, ?it/s]"
     ]
    },
    {
     "name": "stdout",
     "output_type": "stream",
     "text": [
      "\r",
      "Upgrading database; v1 -> v2:   0%|          | 0/1 [00:00<?, ?it/s]"
     ]
    },
    {
     "name": "stdout",
     "output_type": "stream",
     "text": [
      "\r",
      "Upgrading database; v1 -> v2: 100%|██████████| 1/1 [00:00<00:00, 875.64it/s]"
     ]
    },
    {
     "name": "stdout",
     "output_type": "stream",
     "text": [
      "\n",
      "\r",
      "0it [00:00, ?it/s]"
     ]
    },
    {
     "name": "stdout",
     "output_type": "stream",
     "text": [
      "\r",
      "Upgrading database; v2 -> v3: : 0it [00:00, ?it/s]"
     ]
    },
    {
     "name": "stdout",
     "output_type": "stream",
     "text": [
      "\r",
      "Upgrading database; v2 -> v3: : 0it [00:00, ?it/s]"
     ]
    },
    {
     "name": "stdout",
     "output_type": "stream",
     "text": [
      "\n",
      "\r",
      "0it [00:00, ?it/s]"
     ]
    },
    {
     "name": "stdout",
     "output_type": "stream",
     "text": [
      "\r",
      "Upgrading database; v3 -> v4: : 0it [00:00, ?it/s]"
     ]
    },
    {
     "name": "stdout",
     "output_type": "stream",
     "text": [
      "\r",
      "Upgrading database; v3 -> v4: : 0it [00:00, ?it/s]"
     ]
    },
    {
     "name": "stdout",
     "output_type": "stream",
     "text": [
      "\n",
      "\r",
      "  0%|          | 0/1 [00:00<?, ?it/s]"
     ]
    },
    {
     "name": "stdout",
     "output_type": "stream",
     "text": [
      "\r",
      "Upgrading database; v4 -> v5:   0%|          | 0/1 [00:00<?, ?it/s]"
     ]
    },
    {
     "name": "stdout",
     "output_type": "stream",
     "text": [
      "\r",
      "Upgrading database; v4 -> v5: 100%|██████████| 1/1 [00:00<00:00, 460.66it/s]"
     ]
    },
    {
     "name": "stdout",
     "output_type": "stream",
     "text": [
      "\n",
      "\r",
      "0it [00:00, ?it/s]"
     ]
    },
    {
     "name": "stdout",
     "output_type": "stream",
     "text": [
      "\r",
      "Upgrading database; v5 -> v6: : 0it [00:00, ?it/s]"
     ]
    },
    {
     "name": "stdout",
     "output_type": "stream",
     "text": [
      "\r",
      "Upgrading database; v5 -> v6: : 0it [00:00, ?it/s]"
     ]
    },
    {
     "name": "stdout",
     "output_type": "stream",
     "text": [
      "\n",
      "\r",
      "  0%|          | 0/1 [00:00<?, ?it/s]"
     ]
    },
    {
     "name": "stdout",
     "output_type": "stream",
     "text": [
      "\r",
      "Upgrading database; v6 -> v7:   0%|          | 0/1 [00:00<?, ?it/s]"
     ]
    },
    {
     "name": "stdout",
     "output_type": "stream",
     "text": [
      "\r",
      "Upgrading database; v6 -> v7: 100%|██████████| 1/1 [00:00<00:00, 414.17it/s]"
     ]
    },
    {
     "name": "stdout",
     "output_type": "stream",
     "text": [
      "\n",
      "\r",
      "  0%|          | 0/1 [00:00<?, ?it/s]"
     ]
    },
    {
     "name": "stdout",
     "output_type": "stream",
     "text": [
      "\r",
      "Upgrading database; v7 -> v8:   0%|          | 0/1 [00:00<?, ?it/s]"
     ]
    },
    {
     "name": "stdout",
     "output_type": "stream",
     "text": [
      "\r",
      "Upgrading database; v7 -> v8: 100%|██████████| 1/1 [00:00<00:00, 428.56it/s]"
     ]
    },
    {
     "name": "stdout",
     "output_type": "stream",
     "text": [
      "\n",
      "\r",
      "  0%|          | 0/1 [00:00<?, ?it/s]"
     ]
    },
    {
     "name": "stdout",
     "output_type": "stream",
     "text": [
      "\r",
      "Upgrading database; v8 -> v9:   0%|          | 0/1 [00:00<?, ?it/s]"
     ]
    },
    {
     "name": "stdout",
     "output_type": "stream",
     "text": [
      "\r",
      "Upgrading database; v8 -> v9: 100%|██████████| 1/1 [00:00<00:00, 756.00it/s]"
     ]
    },
    {
     "name": "stdout",
     "output_type": "stream",
     "text": [
      "\n"
     ]
    }
   ],
   "source": [
    "initialise_database()\n",
    "exp = load_or_create_experiment(experiment_name='tutorial_exp', sample_name=\"no sample\")"
   ]
  },
  {
   "cell_type": "markdown",
   "metadata": {},
   "source": [
    "Here, we define a simple function to benchmark the time it takes to insert n points with either numeric or array data type.\n",
    "We will compare both the time used to call ``add_result`` and the time used for the full measurement."
   ]
  },
  {
   "cell_type": "code",
   "execution_count": 4,
   "metadata": {
    "execution": {
     "iopub.execute_input": "2020-10-16T14:18:38.639287Z",
     "iopub.status.busy": "2020-10-16T14:18:38.638697Z",
     "iopub.status.idle": "2020-10-16T14:18:38.642522Z",
     "shell.execute_reply": "2020-10-16T14:18:38.641964Z"
    }
   },
   "outputs": [],
   "source": [
    "def insert_data(paramtype, npoints, nreps=1):\n",
    "\n",
    "    meas = Measurement(exp=exp)\n",
    "\n",
    "    x1 = ManualParameter('x1')\n",
    "    x2 = ManualParameter('x2')\n",
    "    x3 = ManualParameter('x3')\n",
    "    y1 = ManualParameter('y1')\n",
    "    y2 = ManualParameter('y2')\n",
    "\n",
    "    meas.register_parameter(x1, paramtype=paramtype)\n",
    "    meas.register_parameter(x2, paramtype=paramtype)\n",
    "    meas.register_parameter(x3, paramtype=paramtype)\n",
    "    meas.register_parameter(y1, setpoints=[x1, x2, x3],\n",
    "                            paramtype=paramtype)\n",
    "    meas.register_parameter(y2, setpoints=[x1, x2, x3],\n",
    "                            paramtype=paramtype)\n",
    "    start = time.perf_counter()\n",
    "    with meas.run() as datasaver:\n",
    "        start_adding = time.perf_counter()\n",
    "        for i in range(nreps):\n",
    "            datasaver.add_result((x1, np.random.rand(npoints)),\n",
    "                                 (x2, np.random.rand(npoints)),\n",
    "                                 (x3, np.random.rand(npoints)),\n",
    "                                 (y1, np.random.rand(npoints)),\n",
    "                                 (y2, np.random.rand(npoints)))\n",
    "        stop_adding = time.perf_counter()\n",
    "        run_id = datasaver.run_id\n",
    "    stop = time.perf_counter()\n",
    "    tot_time = stop - start\n",
    "    add_time = stop_adding - start_adding\n",
    "    return tot_time, add_time, run_id"
   ]
  },
  {
   "cell_type": "markdown",
   "metadata": {},
   "source": [
    "## Comparison between numeric/array data and binary blob"
   ]
  },
  {
   "cell_type": "markdown",
   "metadata": {},
   "source": [
    "### Case1: Short experiment time"
   ]
  },
  {
   "cell_type": "code",
   "execution_count": 5,
   "metadata": {
    "execution": {
     "iopub.execute_input": "2020-10-16T14:18:38.648095Z",
     "iopub.status.busy": "2020-10-16T14:18:38.647074Z",
     "iopub.status.idle": "2020-10-16T14:18:39.574544Z",
     "shell.execute_reply": "2020-10-16T14:18:39.574059Z"
    }
   },
   "outputs": [
    {
     "name": "stdout",
     "output_type": "stream",
     "text": [
      "Starting experimental run with id: 1. \n",
      "Starting experimental run with id: 2. \n",
      "Starting experimental run with id: 3. \n",
      "Starting experimental run with id: 4. \n"
     ]
    },
    {
     "name": "stdout",
     "output_type": "stream",
     "text": [
      "Starting experimental run with id: 5. \n"
     ]
    },
    {
     "name": "stdout",
     "output_type": "stream",
     "text": [
      "Starting experimental run with id: 6. \n",
      "Starting experimental run with id: 7. \n"
     ]
    },
    {
     "name": "stdout",
     "output_type": "stream",
     "text": [
      "Starting experimental run with id: 8. \n",
      "Starting experimental run with id: 9. \n"
     ]
    },
    {
     "name": "stdout",
     "output_type": "stream",
     "text": [
      "Starting experimental run with id: 10. \n",
      "Starting experimental run with id: 11. \n"
     ]
    },
    {
     "name": "stdout",
     "output_type": "stream",
     "text": [
      "Starting experimental run with id: 12. \n"
     ]
    },
    {
     "name": "stdout",
     "output_type": "stream",
     "text": [
      "Starting experimental run with id: 13. \n"
     ]
    },
    {
     "name": "stdout",
     "output_type": "stream",
     "text": [
      "Starting experimental run with id: 14. \n"
     ]
    }
   ],
   "source": [
    "sizes = [1,500,1000,2000,3000,4000,5000]\n",
    "t_numeric = []\n",
    "t_numeric_add = []\n",
    "t_array = []\n",
    "t_array_add = []\n",
    "for size in sizes:\n",
    "    tn, tna, run_id_n =  insert_data('numeric', size)\n",
    "    t_numeric.append(tn)\n",
    "    t_numeric_add.append(tna)\n",
    "\n",
    "    ta, taa, run_id_a =  insert_data('array', size)\n",
    "    t_array.append(ta)\n",
    "    t_array_add.append(taa)"
   ]
  },
  {
   "cell_type": "code",
   "execution_count": 6,
   "metadata": {
    "execution": {
     "iopub.execute_input": "2020-10-16T14:18:39.592029Z",
     "iopub.status.busy": "2020-10-16T14:18:39.585183Z",
     "iopub.status.idle": "2020-10-16T14:18:39.787244Z",
     "shell.execute_reply": "2020-10-16T14:18:39.786755Z"
    }
   },
   "outputs": [
    {
     "data": {
      "image/png": "[encoded data removed]",
      "text/plain": [
       "<Figure size 432x288 with 1 Axes>"
      ]
     },
     "metadata": {
      "needs_background": "light"
     },
     "output_type": "display_data"
    }
   ],
   "source": [
    "fig, ax = plt.subplots(1,1)\n",
    "ax.plot(sizes, t_numeric, 'o-', label='Inserting row-by-row')\n",
    "ax.plot(sizes, t_numeric_add, 'o-', label='Inserting row-by-row: add_result only')\n",
    "ax.plot(sizes, t_array, 'd-', label='Inserting as binary blob')\n",
    "ax.plot(sizes, t_array_add, 'd-', label='Inserting as binary blob: add_result only')\n",
    "ax.legend()\n",
    "ax.set_xlabel('Array length')\n",
    "ax.set_ylabel('Time (s)')\n",
    "fig.tight_layout()"
   ]
  },
  {
   "cell_type": "markdown",
   "metadata": {},
   "source": [
    "As shown in the latter figure, the time to setup and and close the experiment is approximately 0.4 sec. In case of small array sizes, the difference between inserting values of data as arrays and inserting them row-by-row is relatively unimportant. At larger array sizes, i.e. above 10000 points, the cost of writing data as individual datapoints starts to become important.\n"
   ]
  },
  {
   "cell_type": "markdown",
   "metadata": {},
   "source": [
    "### Case2: Long experiment time "
   ]
  },
  {
   "cell_type": "code",
   "execution_count": 7,
   "metadata": {
    "execution": {
     "iopub.execute_input": "2020-10-16T14:18:39.795354Z",
     "iopub.status.busy": "2020-10-16T14:18:39.794614Z",
     "iopub.status.idle": "2020-10-16T14:19:41.876211Z",
     "shell.execute_reply": "2020-10-16T14:19:41.875207Z"
    }
   },
   "outputs": [
    {
     "name": "stdout",
     "output_type": "stream",
     "text": [
      "Starting experimental run with id: 15. \n",
      "Starting experimental run with id: 16. \n",
      "Starting experimental run with id: 17. \n"
     ]
    },
    {
     "name": "stdout",
     "output_type": "stream",
     "text": [
      "Starting experimental run with id: 18. \n",
      "Starting experimental run with id: 19. \n"
     ]
    },
    {
     "name": "stdout",
     "output_type": "stream",
     "text": [
      "Starting experimental run with id: 20. \n"
     ]
    },
    {
     "name": "stdout",
     "output_type": "stream",
     "text": [
      "Starting experimental run with id: 21. \n"
     ]
    },
    {
     "name": "stdout",
     "output_type": "stream",
     "text": [
      "Starting experimental run with id: 22. \n"
     ]
    },
    {
     "name": "stdout",
     "output_type": "stream",
     "text": [
      "Starting experimental run with id: 23. \n"
     ]
    },
    {
     "name": "stdout",
     "output_type": "stream",
     "text": [
      "Starting experimental run with id: 24. \n"
     ]
    },
    {
     "name": "stdout",
     "output_type": "stream",
     "text": [
      "Starting experimental run with id: 25. \n"
     ]
    },
    {
     "name": "stdout",
     "output_type": "stream",
     "text": [
      "Starting experimental run with id: 26. \n"
     ]
    },
    {
     "name": "stdout",
     "output_type": "stream",
     "text": [
      "Starting experimental run with id: 27. \n"
     ]
    },
    {
     "name": "stdout",
     "output_type": "stream",
     "text": [
      "Starting experimental run with id: 28. \n"
     ]
    }
   ],
   "source": [
    "sizes = [1,500,1000,2000,3000,4000,5000]\n",
    "nreps = 100\n",
    "t_numeric = []\n",
    "t_numeric_add = []\n",
    "t_numeric_run_ids = []\n",
    "t_array = []\n",
    "t_array_add = []\n",
    "t_array_run_ids = []\n",
    "for size in sizes:\n",
    "    tn, tna, run_id_n =  insert_data('numeric', size, nreps=nreps)\n",
    "    t_numeric.append(tn)\n",
    "    t_numeric_add.append(tna)\n",
    "    t_numeric_run_ids.append(run_id_n)\n",
    "\n",
    "    ta, taa, run_id_a =  insert_data('array', size, nreps=nreps)\n",
    "    t_array.append(ta)\n",
    "    t_array_add.append(taa)\n",
    "    t_array_run_ids.append(run_id_a)"
   ]
  },
  {
   "cell_type": "code",
   "execution_count": 8,
   "metadata": {
    "execution": {
     "iopub.execute_input": "2020-10-16T14:19:41.881774Z",
     "iopub.status.busy": "2020-10-16T14:19:41.880769Z",
     "iopub.status.idle": "2020-10-16T14:19:42.092365Z",
     "shell.execute_reply": "2020-10-16T14:19:42.091488Z"
    },
    "scrolled": true
   },
   "outputs": [
    {
     "data": {
      "image/png": "[encoded data removed]",
      "text/plain": [
       "<Figure size 432x288 with 1 Axes>"
      ]
     },
     "metadata": {
      "needs_background": "light"
     },
     "output_type": "display_data"
    }
   ],
   "source": [
    "fig, ax = plt.subplots(1,1)\n",
    "ax.plot(sizes, t_numeric, 'o-', label='Inserting row-by-row')\n",
    "ax.plot(sizes, t_numeric_add, 'o-', label='Inserting row-by-row: add_result only')\n",
    "ax.plot(sizes, t_array, 'd-', label='Inserting as binary blob')\n",
    "ax.plot(sizes, t_array_add, 'd-', label='Inserting as binary blob: add_result only')\n",
    "ax.legend()\n",
    "ax.set_xlabel('Array length')\n",
    "ax.set_ylabel('Time (s)')\n",
    "fig.tight_layout()"
   ]
  },
  {
   "cell_type": "markdown",
   "metadata": {},
   "source": [
    "However, as we increase the length of the experiment, as seen here by repeating the insertion 100 times, we see a big difference between inserting values of the data row-by-row and inserting it as a binary blob."
   ]
  },
  {
   "cell_type": "markdown",
   "metadata": {},
   "source": [
    "## Loading the data "
   ]
  },
  {
   "cell_type": "code",
   "execution_count": 9,
   "metadata": {
    "execution": {
     "iopub.execute_input": "2020-10-16T14:19:42.096870Z",
     "iopub.status.busy": "2020-10-16T14:19:42.095512Z",
     "iopub.status.idle": "2020-10-16T14:19:42.101302Z",
     "shell.execute_reply": "2020-10-16T14:19:42.100700Z"
    }
   },
   "outputs": [],
   "source": [
    "from qcodes.dataset.data_set import load_by_id\n",
    "from qcodes.dataset.data_export import get_data_by_id"
   ]
  },
  {
   "cell_type": "markdown",
   "metadata": {},
   "source": [
    "As usual you can load the data by using the ``load_by_id`` function but you will notice that the different storage methods\n",
    "are reflected in shape of the data as it is retrieved. "
   ]
  },
  {
   "cell_type": "code",
   "execution_count": 10,
   "metadata": {
    "execution": {
     "iopub.execute_input": "2020-10-16T14:19:42.106104Z",
     "iopub.status.busy": "2020-10-16T14:19:42.104951Z",
     "iopub.status.idle": "2020-10-16T14:19:42.106657Z",
     "shell.execute_reply": "2020-10-16T14:19:42.107196Z"
    }
   },
   "outputs": [],
   "source": [
    "run_id_n = t_numeric_run_ids[0]\n",
    "run_id_a = t_array_run_ids[0]"
   ]
  },
  {
   "cell_type": "code",
   "execution_count": 11,
   "metadata": {
    "execution": {
     "iopub.execute_input": "2020-10-16T14:19:42.110360Z",
     "iopub.status.busy": "2020-10-16T14:19:42.109818Z",
     "iopub.status.idle": "2020-10-16T14:19:42.119784Z",
     "shell.execute_reply": "2020-10-16T14:19:42.120207Z"
    },
    "scrolled": true
   },
   "outputs": [
    {
     "data": {
      "text/plain": [
       "{'x1': {'x1': array([0.09768726, 0.09768726, 0.99282425, 0.99282425, 0.49754122,\n",
       "         0.49754122, 0.68222616, 0.68222616, 0.23113824, 0.23113824,\n",
       "         0.21884844, 0.21884844, 0.14722956, 0.14722956, 0.37405831,\n",
       "         0.37405831, 0.82043581, 0.82043581, 0.34754156, 0.34754156,\n",
       "         0.76778457, 0.76778457, 0.2506193 , 0.2506193 , 0.46554765,\n",
       "         0.46554765, 0.60728496, 0.60728496, 0.55649048, 0.55649048,\n",
       "         0.12463355, 0.12463355, 0.32444331, 0.32444331, 0.7681124 ,\n",
       "         0.7681124 , 0.96652847, 0.96652847, 0.87923502, 0.87923502,\n",
       "         0.40686976, 0.40686976, 0.70980817, 0.70980817, 0.55528962,\n",
       "         0.55528962, 0.48331853, 0.48331853, 0.30038459, 0.30038459,\n",
       "         0.50128494, 0.50128494, 0.08540211, 0.08540211, 0.1085432 ,\n",
       "         0.1085432 , 0.08340372, 0.08340372, 0.68784404, 0.68784404,\n",
       "         0.40549883, 0.40549883, 0.38652881, 0.38652881, 0.14489547,\n",
       "         0.14489547, 0.966416  , 0.966416  , 0.71314891, 0.71314891,\n",
       "         0.91836402, 0.91836402, 0.6935308 , 0.6935308 , 0.67410969,\n",
       "         0.67410969, 0.6268682 , 0.6268682 , 0.78368762, 0.78368762,\n",
       "         0.50216811, 0.50216811, 0.99578051, 0.99578051, 0.20956638,\n",
       "         0.20956638, 0.09016353, 0.09016353, 0.37122942, 0.37122942,\n",
       "         0.95791864, 0.95791864, 0.1819484 , 0.1819484 , 0.21771562,\n",
       "         0.21771562, 0.24259382, 0.24259382, 0.27120702, 0.27120702,\n",
       "         0.08968795, 0.08968795, 0.68485116, 0.68485116, 0.43525853,\n",
       "         0.43525853, 0.64109421, 0.64109421, 0.22399191, 0.22399191,\n",
       "         0.06556122, 0.06556122, 0.28524712, 0.28524712, 0.09515327,\n",
       "         0.09515327, 0.75277244, 0.75277244, 0.72209107, 0.72209107,\n",
       "         0.74021957, 0.74021957, 0.36360057, 0.36360057, 0.32061729,\n",
       "         0.32061729, 0.42781809, 0.42781809, 0.98503882, 0.98503882,\n",
       "         0.64118395, 0.64118395, 0.7988054 , 0.7988054 , 0.49453135,\n",
       "         0.49453135, 0.01676431, 0.01676431, 0.33663609, 0.33663609,\n",
       "         0.76959289, 0.76959289, 0.10342089, 0.10342089, 0.94414346,\n",
       "         0.94414346, 0.60724669, 0.60724669, 0.03109671, 0.03109671,\n",
       "         0.39903909, 0.39903909, 0.48601607, 0.48601607, 0.62435079,\n",
       "         0.62435079, 0.60501056, 0.60501056, 0.69990776, 0.69990776,\n",
       "         0.5846352 , 0.5846352 , 0.36489683, 0.36489683, 0.6883703 ,\n",
       "         0.6883703 , 0.66127359, 0.66127359, 0.16808681, 0.16808681,\n",
       "         0.68427579, 0.68427579, 0.77947238, 0.77947238, 0.87972868,\n",
       "         0.87972868, 0.14400341, 0.14400341, 0.12542335, 0.12542335,\n",
       "         0.44587528, 0.44587528, 0.86407118, 0.86407118, 0.27445467,\n",
       "         0.27445467, 0.92987159, 0.92987159, 0.59503605, 0.59503605,\n",
       "         0.4250233 , 0.4250233 , 0.44098483, 0.44098483, 0.28860414,\n",
       "         0.28860414, 0.60484907, 0.60484907, 0.46478006, 0.46478006])}}"
      ]
     },
     "execution_count": 1,
     "metadata": {},
     "output_type": "execute_result"
    }
   ],
   "source": [
    "ds = load_by_id(run_id_n)\n",
    "ds.get_parameter_data('x1')"
   ]
  },
  {
   "cell_type": "markdown",
   "metadata": {},
   "source": [
    "And a dataset stored as binary arrays"
   ]
  },
  {
   "cell_type": "code",
   "execution_count": 12,
   "metadata": {
    "execution": {
     "iopub.execute_input": "2020-10-16T14:19:42.123539Z",
     "iopub.status.busy": "2020-10-16T14:19:42.123040Z",
     "iopub.status.idle": "2020-10-16T14:19:42.178795Z",
     "shell.execute_reply": "2020-10-16T14:19:42.179358Z"
    },
    "scrolled": true
   },
   "outputs": [
    {
     "data": {
      "text/plain": [
       "{'x1': {'x1': array([[0.89275277],\n",
       "         [0.89275277],\n",
       "         [0.06958224],\n",
       "         [0.06958224],\n",
       "         [0.10254513],\n",
       "         [0.10254513],\n",
       "         [0.6701492 ],\n",
       "         [0.6701492 ],\n",
       "         [0.03284564],\n",
       "         [0.03284564],\n",
       "         [0.0013661 ],\n",
       "         [0.0013661 ],\n",
       "         [0.21988142],\n",
       "         [0.21988142],\n",
       "         [0.85100838],\n",
       "         [0.85100838],\n",
       "         [0.85890283],\n",
       "         [0.85890283],\n",
       "         [0.22466073],\n",
       "         [0.22466073],\n",
       "         [0.4886274 ],\n",
       "         [0.4886274 ],\n",
       "         [0.92260838],\n",
       "         [0.92260838],\n",
       "         [0.42182985],\n",
       "         [0.42182985],\n",
       "         [0.49932735],\n",
       "         [0.49932735],\n",
       "         [0.05876432],\n",
       "         [0.05876432],\n",
       "         [0.22799975],\n",
       "         [0.22799975],\n",
       "         [0.94243169],\n",
       "         [0.94243169],\n",
       "         [0.75372167],\n",
       "         [0.75372167],\n",
       "         [0.56082924],\n",
       "         [0.56082924],\n",
       "         [0.05441863],\n",
       "         [0.05441863],\n",
       "         [0.55471741],\n",
       "         [0.55471741],\n",
       "         [0.3576431 ],\n",
       "         [0.3576431 ],\n",
       "         [0.39220271],\n",
       "         [0.39220271],\n",
       "         [0.80511158],\n",
       "         [0.80511158],\n",
       "         [0.94478824],\n",
       "         [0.94478824],\n",
       "         [0.4308042 ],\n",
       "         [0.4308042 ],\n",
       "         [0.29781754],\n",
       "         [0.29781754],\n",
       "         [0.09868562],\n",
       "         [0.09868562],\n",
       "         [0.75702895],\n",
       "         [0.75702895],\n",
       "         [0.02136158],\n",
       "         [0.02136158],\n",
       "         [0.44640123],\n",
       "         [0.44640123],\n",
       "         [0.26331496],\n",
       "         [0.26331496],\n",
       "         [0.63116878],\n",
       "         [0.63116878],\n",
       "         [0.67908028],\n",
       "         [0.67908028],\n",
       "         [0.28845373],\n",
       "         [0.28845373],\n",
       "         [0.1233087 ],\n",
       "         [0.1233087 ],\n",
       "         [0.21214586],\n",
       "         [0.21214586],\n",
       "         [0.67541576],\n",
       "         [0.67541576],\n",
       "         [0.70801744],\n",
       "         [0.70801744],\n",
       "         [0.10329173],\n",
       "         [0.10329173],\n",
       "         [0.26139269],\n",
       "         [0.26139269],\n",
       "         [0.54686043],\n",
       "         [0.54686043],\n",
       "         [0.55502858],\n",
       "         [0.55502858],\n",
       "         [0.87428067],\n",
       "         [0.87428067],\n",
       "         [0.44151847],\n",
       "         [0.44151847],\n",
       "         [0.94576921],\n",
       "         [0.94576921],\n",
       "         [0.90006487],\n",
       "         [0.90006487],\n",
       "         [0.11138014],\n",
       "         [0.11138014],\n",
       "         [0.89091827],\n",
       "         [0.89091827],\n",
       "         [0.3857848 ],\n",
       "         [0.3857848 ],\n",
       "         [0.35067262],\n",
       "         [0.35067262],\n",
       "         [0.19334638],\n",
       "         [0.19334638],\n",
       "         [0.85646308],\n",
       "         [0.85646308],\n",
       "         [0.56380507],\n",
       "         [0.56380507],\n",
       "         [0.48929705],\n",
       "         [0.48929705],\n",
       "         [0.96682591],\n",
       "         [0.96682591],\n",
       "         [0.396921  ],\n",
       "         [0.396921  ],\n",
       "         [0.41065634],\n",
       "         [0.41065634],\n",
       "         [0.82307733],\n",
       "         [0.82307733],\n",
       "         [0.69231717],\n",
       "         [0.69231717],\n",
       "         [0.73519172],\n",
       "         [0.73519172],\n",
       "         [0.58380261],\n",
       "         [0.58380261],\n",
       "         [0.39684361],\n",
       "         [0.39684361],\n",
       "         [0.72347437],\n",
       "         [0.72347437],\n",
       "         [0.62591817],\n",
       "         [0.62591817],\n",
       "         [0.08755448],\n",
       "         [0.08755448],\n",
       "         [0.78269522],\n",
       "         [0.78269522],\n",
       "         [0.85255095],\n",
       "         [0.85255095],\n",
       "         [0.36236812],\n",
       "         [0.36236812],\n",
       "         [0.72347635],\n",
       "         [0.72347635],\n",
       "         [0.39693059],\n",
       "         [0.39693059],\n",
       "         [0.13730133],\n",
       "         [0.13730133],\n",
       "         [0.66089368],\n",
       "         [0.66089368],\n",
       "         [0.04271132],\n",
       "         [0.04271132],\n",
       "         [0.93707217],\n",
       "         [0.93707217],\n",
       "         [0.78488774],\n",
       "         [0.78488774],\n",
       "         [0.89181861],\n",
       "         [0.89181861],\n",
       "         [0.89268778],\n",
       "         [0.89268778],\n",
       "         [0.59821679],\n",
       "         [0.59821679],\n",
       "         [0.89875405],\n",
       "         [0.89875405],\n",
       "         [0.07276057],\n",
       "         [0.07276057],\n",
       "         [0.36098743],\n",
       "         [0.36098743],\n",
       "         [0.91400113],\n",
       "         [0.91400113],\n",
       "         [0.83870387],\n",
       "         [0.83870387],\n",
       "         [0.36379975],\n",
       "         [0.36379975],\n",
       "         [0.28088622],\n",
       "         [0.28088622],\n",
       "         [0.26952368],\n",
       "         [0.26952368],\n",
       "         [0.02045866],\n",
       "         [0.02045866],\n",
       "         [0.16775976],\n",
       "         [0.16775976],\n",
       "         [0.60762107],\n",
       "         [0.60762107],\n",
       "         [0.47521784],\n",
       "         [0.47521784],\n",
       "         [0.36546451],\n",
       "         [0.36546451],\n",
       "         [0.66390895],\n",
       "         [0.66390895],\n",
       "         [0.10113184],\n",
       "         [0.10113184],\n",
       "         [0.72962642],\n",
       "         [0.72962642],\n",
       "         [0.7960829 ],\n",
       "         [0.7960829 ],\n",
       "         [0.84529394],\n",
       "         [0.84529394],\n",
       "         [0.57274329],\n",
       "         [0.57274329],\n",
       "         [0.23825343],\n",
       "         [0.23825343],\n",
       "         [0.83826244],\n",
       "         [0.83826244]])}}"
      ]
     },
     "execution_count": 1,
     "metadata": {},
     "output_type": "execute_result"
    }
   ],
   "source": [
    "ds = load_by_id(run_id_a)\n",
    "ds.get_parameter_data('x1')"
   ]
  },
  {
   "cell_type": "code",
   "execution_count": null,
   "metadata": {},
   "outputs": [],
   "source": []
  }
 ],
 "metadata": {
  "kernelspec": {
   "display_name": "Python 3",
   "language": "python",
   "name": "python3"
  },
  "language_info": {
   "codemirror_mode": {
    "name": "ipython",
    "version": 3
   },
   "file_extension": ".py",
   "mimetype": "text/x-python",
   "name": "python",
   "nbconvert_exporter": "python",
   "pygments_lexer": "ipython3",
   "version": "3.7.7"
  },
  "nbsphinx": {
   "timeout": 600
  },
  "toc": {
   "base_numbering": 1,
   "nav_menu": {},
   "number_sections": true,
   "sideBar": true,
   "skip_h1_title": false,
   "title_cell": "Table of Contents",
   "title_sidebar": "Contents",
   "toc_cell": false,
   "toc_position": {},
   "toc_section_display": true,
   "toc_window_display": false
  },
  "varInspector": {
   "cols": {
    "lenName": 16,
    "lenType": 16,
    "lenVar": 40
   },
   "kernels_config": {
    "python": {
     "delete_cmd_postfix": "",
     "delete_cmd_prefix": "del ",
     "library": "var_list.py",
     "varRefreshCmd": "print(var_dic_list())"
    },
    "r": {
     "delete_cmd_postfix": ") ",
     "delete_cmd_prefix": "rm(",
     "library": "var_list.r",
     "varRefreshCmd": "cat(var_dic_list()) "
    }
   },
   "types_to_exclude": [
    "module",
    "function",
    "builtin_function_or_method",
    "instance",
    "_Feature"
   ],
   "window_display": false
  }
 },
 "nbformat": 4,
 "nbformat_minor": 2
}
