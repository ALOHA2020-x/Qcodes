{
 "cells": [
  {
   "cell_type": "markdown",
   "metadata": {},
   "source": [
    "# DataSet Performance\n",
    "\n",
    "This notebook shows the trade-off between inserting data into a database row-by-row and as binary blobs. Inserting the data row-by-row means that we have direct access to all the data and may perform queries directly on the values of the data. On the other hand, as we shall see, this is much slower than inserting the data directly as binary blobs."
   ]
  },
  {
   "cell_type": "markdown",
   "metadata": {},
   "source": [
    "First, we choose a new location for the database to ensure that we don't add a bunch of benchmarking data to the default one."
   ]
  },
  {
   "cell_type": "code",
   "execution_count": 1,
   "metadata": {
    "execution": {
     "iopub.execute_input": "2021-05-06T11:39:10.540730Z",
     "iopub.status.busy": "2021-05-06T11:39:10.540174Z",
     "iopub.status.idle": "2021-05-06T11:39:11.758526Z",
     "shell.execute_reply": "2021-05-06T11:39:11.757001Z"
    }
   },
   "outputs": [
    {
     "name": "stdout",
     "output_type": "stream",
     "text": [
      "Logging hadn't been started.\n",
      "Activating auto-logging. Current session state plus future input saved.\n",
      "Filename       : /home/runner/.qcodes/logs/command_history.log\n",
      "Mode           : append\n",
      "Output logging : True\n",
      "Raw input log  : False\n",
      "Timestamping   : True\n",
      "State          : active\n"
     ]
    },
    {
     "name": "stdout",
     "output_type": "stream",
     "text": [
      "Qcodes Logfile : /home/runner/.qcodes/logs/210506-4554-qcodes.log\n"
     ]
    }
   ],
   "source": [
    "import os\n",
    "cwd = os.getcwd()\n",
    "import qcodes as qc\n",
    "qc.config[\"core\"][\"db_location\"] = os.path.join(cwd, 'testing.db')\n"
   ]
  },
  {
   "cell_type": "code",
   "execution_count": 2,
   "metadata": {
    "execution": {
     "iopub.execute_input": "2021-05-06T11:39:11.765444Z",
     "iopub.status.busy": "2021-05-06T11:39:11.764860Z",
     "iopub.status.idle": "2021-05-06T11:39:11.973986Z",
     "shell.execute_reply": "2021-05-06T11:39:11.973022Z"
    }
   },
   "outputs": [],
   "source": [
    "%matplotlib inline\n",
    "import time\n",
    "import matplotlib.pyplot as plt\n",
    "import numpy as np\n",
    "\n",
    "import qcodes as qc\n",
    "from qcodes.instrument.parameter import ManualParameter\n",
    "from qcodes.dataset.experiment_container import (Experiment,\n",
    "                                                 load_last_experiment,\n",
    "                                                 new_experiment)\n",
    "from qcodes.dataset.sqlite.database import initialise_database\n",
    "from qcodes import load_or_create_experiment\n",
    "from qcodes.dataset.measurements import Measurement"
   ]
  },
  {
   "cell_type": "code",
   "execution_count": 3,
   "metadata": {
    "execution": {
     "iopub.execute_input": "2021-05-06T11:39:11.978204Z",
     "iopub.status.busy": "2021-05-06T11:39:11.977607Z",
     "iopub.status.idle": "2021-05-06T11:39:12.049197Z",
     "shell.execute_reply": "2021-05-06T11:39:12.048678Z"
    }
   },
   "outputs": [
    {
     "name": "stdout",
     "output_type": "stream",
     "text": [
      "\r",
      "0it [00:00, ?it/s]"
     ]
    },
    {
     "name": "stdout",
     "output_type": "stream",
     "text": [
      "\r",
      "Upgrading database; v0 -> v1: : 0it [00:00, ?it/s]"
     ]
    },
    {
     "name": "stdout",
     "output_type": "stream",
     "text": [
      "\r",
      "Upgrading database; v0 -> v1: : 0it [00:00, ?it/s]"
     ]
    },
    {
     "name": "stdout",
     "output_type": "stream",
     "text": [
      "\n",
      "\r",
      "  0%|          | 0/1 [00:00<?, ?it/s]"
     ]
    },
    {
     "name": "stdout",
     "output_type": "stream",
     "text": [
      "\r",
      "Upgrading database; v1 -> v2:   0%|          | 0/1 [00:00<?, ?it/s]"
     ]
    },
    {
     "name": "stdout",
     "output_type": "stream",
     "text": [
      "\r",
      "Upgrading database; v1 -> v2: 100%|██████████| 1/1 [00:00<00:00, 639.08it/s]"
     ]
    },
    {
     "name": "stdout",
     "output_type": "stream",
     "text": [
      "\n",
      "\r",
      "0it [00:00, ?it/s]"
     ]
    },
    {
     "name": "stdout",
     "output_type": "stream",
     "text": [
      "\r",
      "Upgrading database; v2 -> v3: : 0it [00:00, ?it/s]"
     ]
    },
    {
     "name": "stdout",
     "output_type": "stream",
     "text": [
      "\r",
      "Upgrading database; v2 -> v3: : 0it [00:00, ?it/s]"
     ]
    },
    {
     "name": "stdout",
     "output_type": "stream",
     "text": [
      "\n",
      "\r",
      "0it [00:00, ?it/s]"
     ]
    },
    {
     "name": "stdout",
     "output_type": "stream",
     "text": [
      "\r",
      "Upgrading database; v3 -> v4: : 0it [00:00, ?it/s]"
     ]
    },
    {
     "name": "stdout",
     "output_type": "stream",
     "text": [
      "\r",
      "Upgrading database; v3 -> v4: : 0it [00:00, ?it/s]"
     ]
    },
    {
     "name": "stdout",
     "output_type": "stream",
     "text": [
      "\n",
      "\r",
      "  0%|          | 0/1 [00:00<?, ?it/s]"
     ]
    },
    {
     "name": "stdout",
     "output_type": "stream",
     "text": [
      "\r",
      "Upgrading database; v4 -> v5:   0%|          | 0/1 [00:00<?, ?it/s]"
     ]
    },
    {
     "name": "stdout",
     "output_type": "stream",
     "text": [
      "\r",
      "Upgrading database; v4 -> v5: 100%|██████████| 1/1 [00:00<00:00, 413.35it/s]"
     ]
    },
    {
     "name": "stdout",
     "output_type": "stream",
     "text": [
      "\n",
      "\r",
      "0it [00:00, ?it/s]"
     ]
    },
    {
     "name": "stdout",
     "output_type": "stream",
     "text": [
      "\r",
      "Upgrading database; v5 -> v6: : 0it [00:00, ?it/s]"
     ]
    },
    {
     "name": "stdout",
     "output_type": "stream",
     "text": [
      "\r",
      "Upgrading database; v5 -> v6: : 0it [00:00, ?it/s]"
     ]
    },
    {
     "name": "stdout",
     "output_type": "stream",
     "text": [
      "\n",
      "\r",
      "  0%|          | 0/1 [00:00<?, ?it/s]"
     ]
    },
    {
     "name": "stdout",
     "output_type": "stream",
     "text": [
      "\r",
      "Upgrading database; v6 -> v7:   0%|          | 0/1 [00:00<?, ?it/s]"
     ]
    },
    {
     "name": "stdout",
     "output_type": "stream",
     "text": [
      "\r",
      "Upgrading database; v6 -> v7: 100%|██████████| 1/1 [00:00<00:00, 302.25it/s]"
     ]
    },
    {
     "name": "stdout",
     "output_type": "stream",
     "text": [
      "\n",
      "\r",
      "  0%|          | 0/1 [00:00<?, ?it/s]"
     ]
    },
    {
     "name": "stdout",
     "output_type": "stream",
     "text": [
      "\r",
      "Upgrading database; v7 -> v8:   0%|          | 0/1 [00:00<?, ?it/s]"
     ]
    },
    {
     "name": "stdout",
     "output_type": "stream",
     "text": [
      "\r",
      "Upgrading database; v7 -> v8: 100%|██████████| 1/1 [00:00<00:00, 687.37it/s]"
     ]
    },
    {
     "name": "stdout",
     "output_type": "stream",
     "text": [
      "\n",
      "\r",
      "  0%|          | 0/1 [00:00<?, ?it/s]"
     ]
    },
    {
     "name": "stdout",
     "output_type": "stream",
     "text": [
      "\r",
      "Upgrading database; v8 -> v9:   0%|          | 0/1 [00:00<?, ?it/s]"
     ]
    },
    {
     "name": "stdout",
     "output_type": "stream",
     "text": [
      "\r",
      "Upgrading database; v8 -> v9: 100%|██████████| 1/1 [00:00<00:00, 450.47it/s]"
     ]
    },
    {
     "name": "stdout",
     "output_type": "stream",
     "text": [
      "\n"
     ]
    }
   ],
   "source": [
    "initialise_database()\n",
    "exp = load_or_create_experiment(experiment_name='tutorial_exp', sample_name=\"no sample\")"
   ]
  },
  {
   "cell_type": "markdown",
   "metadata": {},
   "source": [
    "Here, we define a simple function to benchmark the time it takes to insert n points with either numeric or array data type.\n",
    "We will compare both the time used to call ``add_result`` and the time used for the full measurement."
   ]
  },
  {
   "cell_type": "code",
   "execution_count": 4,
   "metadata": {
    "execution": {
     "iopub.execute_input": "2021-05-06T11:39:12.058246Z",
     "iopub.status.busy": "2021-05-06T11:39:12.057653Z",
     "iopub.status.idle": "2021-05-06T11:39:12.061382Z",
     "shell.execute_reply": "2021-05-06T11:39:12.060867Z"
    }
   },
   "outputs": [],
   "source": [
    "def insert_data(paramtype, npoints, nreps=1):\n",
    "\n",
    "    meas = Measurement(exp=exp)\n",
    "\n",
    "    x1 = ManualParameter('x1')\n",
    "    x2 = ManualParameter('x2')\n",
    "    x3 = ManualParameter('x3')\n",
    "    y1 = ManualParameter('y1')\n",
    "    y2 = ManualParameter('y2')\n",
    "\n",
    "    meas.register_parameter(x1, paramtype=paramtype)\n",
    "    meas.register_parameter(x2, paramtype=paramtype)\n",
    "    meas.register_parameter(x3, paramtype=paramtype)\n",
    "    meas.register_parameter(y1, setpoints=[x1, x2, x3],\n",
    "                            paramtype=paramtype)\n",
    "    meas.register_parameter(y2, setpoints=[x1, x2, x3],\n",
    "                            paramtype=paramtype)\n",
    "    start = time.perf_counter()\n",
    "    with meas.run() as datasaver:\n",
    "        start_adding = time.perf_counter()\n",
    "        for i in range(nreps):\n",
    "            datasaver.add_result((x1, np.random.rand(npoints)),\n",
    "                                 (x2, np.random.rand(npoints)),\n",
    "                                 (x3, np.random.rand(npoints)),\n",
    "                                 (y1, np.random.rand(npoints)),\n",
    "                                 (y2, np.random.rand(npoints)))\n",
    "        stop_adding = time.perf_counter()\n",
    "        run_id = datasaver.run_id\n",
    "    stop = time.perf_counter()\n",
    "    tot_time = stop - start\n",
    "    add_time = stop_adding - start_adding\n",
    "    return tot_time, add_time, run_id"
   ]
  },
  {
   "cell_type": "markdown",
   "metadata": {},
   "source": [
    "## Comparison between numeric/array data and binary blob"
   ]
  },
  {
   "cell_type": "markdown",
   "metadata": {},
   "source": [
    "### Case1: Short experiment time"
   ]
  },
  {
   "cell_type": "code",
   "execution_count": 5,
   "metadata": {
    "execution": {
     "iopub.execute_input": "2021-05-06T11:39:12.068718Z",
     "iopub.status.busy": "2021-05-06T11:39:12.068106Z",
     "iopub.status.idle": "2021-05-06T11:39:12.873839Z",
     "shell.execute_reply": "2021-05-06T11:39:12.873322Z"
    }
   },
   "outputs": [
    {
     "name": "stdout",
     "output_type": "stream",
     "text": [
      "Starting experimental run with id: 1. \n",
      "Starting experimental run with id: 2. \n",
      "Starting experimental run with id: 3. \n"
     ]
    },
    {
     "name": "stdout",
     "output_type": "stream",
     "text": [
      "Starting experimental run with id: 4. \n"
     ]
    },
    {
     "name": "stdout",
     "output_type": "stream",
     "text": [
      "Starting experimental run with id: 5. \n"
     ]
    },
    {
     "name": "stdout",
     "output_type": "stream",
     "text": [
      "Starting experimental run with id: 6. \n",
      "Starting experimental run with id: 7. \n"
     ]
    },
    {
     "name": "stdout",
     "output_type": "stream",
     "text": [
      "Starting experimental run with id: 8. \n",
      "Starting experimental run with id: 9. \n"
     ]
    },
    {
     "name": "stdout",
     "output_type": "stream",
     "text": [
      "Starting experimental run with id: 10. \n",
      "Starting experimental run with id: 11. \n"
     ]
    },
    {
     "name": "stdout",
     "output_type": "stream",
     "text": [
      "Starting experimental run with id: 12. \n",
      "Starting experimental run with id: 13. \n"
     ]
    },
    {
     "name": "stdout",
     "output_type": "stream",
     "text": [
      "Starting experimental run with id: 14. \n"
     ]
    }
   ],
   "source": [
    "sizes = [1,500,1000,2000,3000,4000,5000]\n",
    "t_numeric = []\n",
    "t_numeric_add = []\n",
    "t_array = []\n",
    "t_array_add = []\n",
    "for size in sizes:\n",
    "    tn, tna, run_id_n =  insert_data('numeric', size)\n",
    "    t_numeric.append(tn)\n",
    "    t_numeric_add.append(tna)\n",
    "\n",
    "    ta, taa, run_id_a =  insert_data('array', size)\n",
    "    t_array.append(ta)\n",
    "    t_array_add.append(taa)"
   ]
  },
  {
   "cell_type": "code",
   "execution_count": 6,
   "metadata": {
    "execution": {
     "iopub.execute_input": "2021-05-06T11:39:12.896619Z",
     "iopub.status.busy": "2021-05-06T11:39:12.892216Z",
     "iopub.status.idle": "2021-05-06T11:39:13.125508Z",
     "shell.execute_reply": "2021-05-06T11:39:13.124968Z"
    }
   },
   "outputs": [
    {
     "data": {
      "image/png": "[encoded data removed]",
      "text/plain": [
       "<Figure size 640x480 with 1 Axes>"
      ]
     },
     "metadata": {},
     "output_type": "display_data"
    }
   ],
   "source": [
    "fig, ax = plt.subplots(1,1)\n",
    "ax.plot(sizes, t_numeric, 'o-', label='Inserting row-by-row')\n",
    "ax.plot(sizes, t_numeric_add, 'o-', label='Inserting row-by-row: add_result only')\n",
    "ax.plot(sizes, t_array, 'd-', label='Inserting as binary blob')\n",
    "ax.plot(sizes, t_array_add, 'd-', label='Inserting as binary blob: add_result only')\n",
    "ax.legend()\n",
    "ax.set_xlabel('Array length')\n",
    "ax.set_ylabel('Time (s)')\n",
    "fig.tight_layout()"
   ]
  },
  {
   "cell_type": "markdown",
   "metadata": {},
   "source": [
    "As shown in the latter figure, the time to setup and and close the experiment is approximately 0.4 sec. In case of small array sizes, the difference between inserting values of data as arrays and inserting them row-by-row is relatively unimportant. At larger array sizes, i.e. above 10000 points, the cost of writing data as individual datapoints starts to become important.\n"
   ]
  },
  {
   "cell_type": "markdown",
   "metadata": {},
   "source": [
    "### Case2: Long experiment time "
   ]
  },
  {
   "cell_type": "code",
   "execution_count": 7,
   "metadata": {
    "execution": {
     "iopub.execute_input": "2021-05-06T11:39:13.134648Z",
     "iopub.status.busy": "2021-05-06T11:39:13.133389Z",
     "iopub.status.idle": "2021-05-06T11:40:08.963881Z",
     "shell.execute_reply": "2021-05-06T11:40:08.962220Z"
    }
   },
   "outputs": [
    {
     "name": "stdout",
     "output_type": "stream",
     "text": [
      "Starting experimental run with id: 15. \n",
      "Starting experimental run with id: 16. \n",
      "Starting experimental run with id: 17. \n"
     ]
    },
    {
     "name": "stdout",
     "output_type": "stream",
     "text": [
      "Starting experimental run with id: 18. \n",
      "Starting experimental run with id: 19. \n"
     ]
    },
    {
     "name": "stdout",
     "output_type": "stream",
     "text": [
      "Starting experimental run with id: 20. \n"
     ]
    },
    {
     "name": "stdout",
     "output_type": "stream",
     "text": [
      "Starting experimental run with id: 21. \n"
     ]
    },
    {
     "name": "stdout",
     "output_type": "stream",
     "text": [
      "Starting experimental run with id: 22. \n"
     ]
    },
    {
     "name": "stdout",
     "output_type": "stream",
     "text": [
      "Starting experimental run with id: 23. \n"
     ]
    },
    {
     "name": "stdout",
     "output_type": "stream",
     "text": [
      "Starting experimental run with id: 24. \n"
     ]
    },
    {
     "name": "stdout",
     "output_type": "stream",
     "text": [
      "Starting experimental run with id: 25. \n"
     ]
    },
    {
     "name": "stdout",
     "output_type": "stream",
     "text": [
      "Starting experimental run with id: 26. \n"
     ]
    },
    {
     "name": "stdout",
     "output_type": "stream",
     "text": [
      "Starting experimental run with id: 27. \n"
     ]
    },
    {
     "name": "stdout",
     "output_type": "stream",
     "text": [
      "Starting experimental run with id: 28. \n"
     ]
    }
   ],
   "source": [
    "sizes = [1,500,1000,2000,3000,4000,5000]\n",
    "nreps = 100\n",
    "t_numeric = []\n",
    "t_numeric_add = []\n",
    "t_numeric_run_ids = []\n",
    "t_array = []\n",
    "t_array_add = []\n",
    "t_array_run_ids = []\n",
    "for size in sizes:\n",
    "    tn, tna, run_id_n =  insert_data('numeric', size, nreps=nreps)\n",
    "    t_numeric.append(tn)\n",
    "    t_numeric_add.append(tna)\n",
    "    t_numeric_run_ids.append(run_id_n)\n",
    "\n",
    "    ta, taa, run_id_a =  insert_data('array', size, nreps=nreps)\n",
    "    t_array.append(ta)\n",
    "    t_array_add.append(taa)\n",
    "    t_array_run_ids.append(run_id_a)"
   ]
  },
  {
   "cell_type": "code",
   "execution_count": 8,
   "metadata": {
    "execution": {
     "iopub.execute_input": "2021-05-06T11:40:08.994209Z",
     "iopub.status.busy": "2021-05-06T11:40:08.974859Z",
     "iopub.status.idle": "2021-05-06T11:40:09.201626Z",
     "shell.execute_reply": "2021-05-06T11:40:09.201104Z"
    },
    "scrolled": true
   },
   "outputs": [
    {
     "data": {
      "image/png": "[encoded data removed]",
      "text/plain": [
       "<Figure size 640x480 with 1 Axes>"
      ]
     },
     "metadata": {},
     "output_type": "display_data"
    }
   ],
   "source": [
    "fig, ax = plt.subplots(1,1)\n",
    "ax.plot(sizes, t_numeric, 'o-', label='Inserting row-by-row')\n",
    "ax.plot(sizes, t_numeric_add, 'o-', label='Inserting row-by-row: add_result only')\n",
    "ax.plot(sizes, t_array, 'd-', label='Inserting as binary blob')\n",
    "ax.plot(sizes, t_array_add, 'd-', label='Inserting as binary blob: add_result only')\n",
    "ax.legend()\n",
    "ax.set_xlabel('Array length')\n",
    "ax.set_ylabel('Time (s)')\n",
    "fig.tight_layout()"
   ]
  },
  {
   "cell_type": "markdown",
   "metadata": {},
   "source": [
    "However, as we increase the length of the experiment, as seen here by repeating the insertion 100 times, we see a big difference between inserting values of the data row-by-row and inserting it as a binary blob."
   ]
  },
  {
   "cell_type": "markdown",
   "metadata": {},
   "source": [
    "## Loading the data "
   ]
  },
  {
   "cell_type": "code",
   "execution_count": 9,
   "metadata": {
    "execution": {
     "iopub.execute_input": "2021-05-06T11:40:09.206305Z",
     "iopub.status.busy": "2021-05-06T11:40:09.205787Z",
     "iopub.status.idle": "2021-05-06T11:40:09.208816Z",
     "shell.execute_reply": "2021-05-06T11:40:09.209505Z"
    }
   },
   "outputs": [],
   "source": [
    "from qcodes.dataset.data_set import load_by_id"
   ]
  },
  {
   "cell_type": "markdown",
   "metadata": {},
   "source": [
    "As usual you can load the data by using the ``load_by_id`` function but you will notice that the different storage methods\n",
    "are reflected in shape of the data as it is retrieved. "
   ]
  },
  {
   "cell_type": "code",
   "execution_count": 10,
   "metadata": {
    "execution": {
     "iopub.execute_input": "2021-05-06T11:40:09.213695Z",
     "iopub.status.busy": "2021-05-06T11:40:09.213147Z",
     "iopub.status.idle": "2021-05-06T11:40:09.216222Z",
     "shell.execute_reply": "2021-05-06T11:40:09.216692Z"
    }
   },
   "outputs": [],
   "source": [
    "run_id_n = t_numeric_run_ids[0]\n",
    "run_id_a = t_array_run_ids[0]"
   ]
  },
  {
   "cell_type": "code",
   "execution_count": 11,
   "metadata": {
    "execution": {
     "iopub.execute_input": "2021-05-06T11:40:09.221104Z",
     "iopub.status.busy": "2021-05-06T11:40:09.220209Z",
     "iopub.status.idle": "2021-05-06T11:40:09.232496Z",
     "shell.execute_reply": "2021-05-06T11:40:09.231976Z"
    },
    "scrolled": true
   },
   "outputs": [
    {
     "data": {
      "text/plain": [
       "{'x1': {'x1': array([0.91935446, 0.91935446, 0.47262491, 0.47262491, 0.62957742,\n",
       "         0.62957742, 0.93434201, 0.93434201, 0.75778371, 0.75778371,\n",
       "         0.36777639, 0.36777639, 0.76786484, 0.76786484, 0.60602693,\n",
       "         0.60602693, 0.8886271 , 0.8886271 , 0.35139172, 0.35139172,\n",
       "         0.17390979, 0.17390979, 0.47891349, 0.47891349, 0.67878412,\n",
       "         0.67878412, 0.32255398, 0.32255398, 0.24127298, 0.24127298,\n",
       "         0.25258984, 0.25258984, 0.03892284, 0.03892284, 0.8033828 ,\n",
       "         0.8033828 , 0.17292086, 0.17292086, 0.23890326, 0.23890326,\n",
       "         0.75499408, 0.75499408, 0.42043157, 0.42043157, 0.88975725,\n",
       "         0.88975725, 0.98202507, 0.98202507, 0.79736216, 0.79736216,\n",
       "         0.38409391, 0.38409391, 0.84537216, 0.84537216, 0.3456822 ,\n",
       "         0.3456822 , 0.30787014, 0.30787014, 0.97906745, 0.97906745,\n",
       "         0.42495888, 0.42495888, 0.59478231, 0.59478231, 0.73124966,\n",
       "         0.73124966, 0.66269341, 0.66269341, 0.89835155, 0.89835155,\n",
       "         0.17641144, 0.17641144, 0.31678217, 0.31678217, 0.55057747,\n",
       "         0.55057747, 0.185952  , 0.185952  , 0.02741683, 0.02741683,\n",
       "         0.51218528, 0.51218528, 0.95254099, 0.95254099, 0.26979908,\n",
       "         0.26979908, 0.50001382, 0.50001382, 0.95375266, 0.95375266,\n",
       "         0.11621503, 0.11621503, 0.73411163, 0.73411163, 0.22332114,\n",
       "         0.22332114, 0.86110236, 0.86110236, 0.11380253, 0.11380253,\n",
       "         0.14919359, 0.14919359, 0.29790624, 0.29790624, 0.66941541,\n",
       "         0.66941541, 0.7241944 , 0.7241944 , 0.8919494 , 0.8919494 ,\n",
       "         0.59654698, 0.59654698, 0.23998811, 0.23998811, 0.38232961,\n",
       "         0.38232961, 0.96671858, 0.96671858, 0.95335803, 0.95335803,\n",
       "         0.01747367, 0.01747367, 0.68526927, 0.68526927, 0.99967758,\n",
       "         0.99967758, 0.36866585, 0.36866585, 0.53425276, 0.53425276,\n",
       "         0.02261737, 0.02261737, 0.04288193, 0.04288193, 0.77394291,\n",
       "         0.77394291, 0.9594758 , 0.9594758 , 0.96484189, 0.96484189,\n",
       "         0.73118628, 0.73118628, 0.86972933, 0.86972933, 0.69807732,\n",
       "         0.69807732, 0.04295095, 0.04295095, 0.20278554, 0.20278554,\n",
       "         0.59257245, 0.59257245, 0.65108166, 0.65108166, 0.06937318,\n",
       "         0.06937318, 0.35843682, 0.35843682, 0.08019597, 0.08019597,\n",
       "         0.45160973, 0.45160973, 0.19355569, 0.19355569, 0.69812044,\n",
       "         0.69812044, 0.13490696, 0.13490696, 0.94898267, 0.94898267,\n",
       "         0.53762436, 0.53762436, 0.1427488 , 0.1427488 , 0.24868898,\n",
       "         0.24868898, 0.72797544, 0.72797544, 0.25116326, 0.25116326,\n",
       "         0.49044619, 0.49044619, 0.59019405, 0.59019405, 0.58310239,\n",
       "         0.58310239, 0.33393571, 0.33393571, 0.40604183, 0.40604183,\n",
       "         0.20587466, 0.20587466, 0.80197093, 0.80197093, 0.26184035,\n",
       "         0.26184035, 0.83076909, 0.83076909, 0.1884942 , 0.1884942 ])}}"
      ]
     },
     "execution_count": 1,
     "metadata": {},
     "output_type": "execute_result"
    }
   ],
   "source": [
    "ds = load_by_id(run_id_n)\n",
    "ds.get_parameter_data('x1')"
   ]
  },
  {
   "cell_type": "markdown",
   "metadata": {},
   "source": [
    "And a dataset stored as binary arrays"
   ]
  },
  {
   "cell_type": "code",
   "execution_count": 12,
   "metadata": {
    "execution": {
     "iopub.execute_input": "2021-05-06T11:40:09.236555Z",
     "iopub.status.busy": "2021-05-06T11:40:09.235994Z",
     "iopub.status.idle": "2021-05-06T11:40:09.297412Z",
     "shell.execute_reply": "2021-05-06T11:40:09.296897Z"
    },
    "scrolled": true
   },
   "outputs": [
    {
     "data": {
      "text/plain": [
       "{'x1': {'x1': array([[0.21689172],\n",
       "         [0.21689172],\n",
       "         [0.56183213],\n",
       "         [0.56183213],\n",
       "         [0.46257102],\n",
       "         [0.46257102],\n",
       "         [0.02183089],\n",
       "         [0.02183089],\n",
       "         [0.28042792],\n",
       "         [0.28042792],\n",
       "         [0.07568203],\n",
       "         [0.07568203],\n",
       "         [0.23116661],\n",
       "         [0.23116661],\n",
       "         [0.1160891 ],\n",
       "         [0.1160891 ],\n",
       "         [0.90009571],\n",
       "         [0.90009571],\n",
       "         [0.50798519],\n",
       "         [0.50798519],\n",
       "         [0.20800949],\n",
       "         [0.20800949],\n",
       "         [0.07978333],\n",
       "         [0.07978333],\n",
       "         [0.46166024],\n",
       "         [0.46166024],\n",
       "         [0.62920472],\n",
       "         [0.62920472],\n",
       "         [0.06991911],\n",
       "         [0.06991911],\n",
       "         [0.25592224],\n",
       "         [0.25592224],\n",
       "         [0.73711388],\n",
       "         [0.73711388],\n",
       "         [0.88638234],\n",
       "         [0.88638234],\n",
       "         [0.7674607 ],\n",
       "         [0.7674607 ],\n",
       "         [0.91731062],\n",
       "         [0.91731062],\n",
       "         [0.92229464],\n",
       "         [0.92229464],\n",
       "         [0.59227298],\n",
       "         [0.59227298],\n",
       "         [0.08114301],\n",
       "         [0.08114301],\n",
       "         [0.96769015],\n",
       "         [0.96769015],\n",
       "         [0.85857441],\n",
       "         [0.85857441],\n",
       "         [0.37588278],\n",
       "         [0.37588278],\n",
       "         [0.38819368],\n",
       "         [0.38819368],\n",
       "         [0.98948079],\n",
       "         [0.98948079],\n",
       "         [0.78504766],\n",
       "         [0.78504766],\n",
       "         [0.90564711],\n",
       "         [0.90564711],\n",
       "         [0.35462896],\n",
       "         [0.35462896],\n",
       "         [0.67825068],\n",
       "         [0.67825068],\n",
       "         [0.14722868],\n",
       "         [0.14722868],\n",
       "         [0.11487343],\n",
       "         [0.11487343],\n",
       "         [0.18634018],\n",
       "         [0.18634018],\n",
       "         [0.48910181],\n",
       "         [0.48910181],\n",
       "         [0.01705393],\n",
       "         [0.01705393],\n",
       "         [0.21004297],\n",
       "         [0.21004297],\n",
       "         [0.13786865],\n",
       "         [0.13786865],\n",
       "         [0.96828657],\n",
       "         [0.96828657],\n",
       "         [0.10890353],\n",
       "         [0.10890353],\n",
       "         [0.40742028],\n",
       "         [0.40742028],\n",
       "         [0.87100063],\n",
       "         [0.87100063],\n",
       "         [0.38231289],\n",
       "         [0.38231289],\n",
       "         [0.35306381],\n",
       "         [0.35306381],\n",
       "         [0.94751782],\n",
       "         [0.94751782],\n",
       "         [0.85191649],\n",
       "         [0.85191649],\n",
       "         [0.84055984],\n",
       "         [0.84055984],\n",
       "         [0.16236765],\n",
       "         [0.16236765],\n",
       "         [0.15814971],\n",
       "         [0.15814971],\n",
       "         [0.22263278],\n",
       "         [0.22263278],\n",
       "         [0.77221428],\n",
       "         [0.77221428],\n",
       "         [0.93918241],\n",
       "         [0.93918241],\n",
       "         [0.41013502],\n",
       "         [0.41013502],\n",
       "         [0.80540042],\n",
       "         [0.80540042],\n",
       "         [0.87931135],\n",
       "         [0.87931135],\n",
       "         [0.11794351],\n",
       "         [0.11794351],\n",
       "         [0.26560031],\n",
       "         [0.26560031],\n",
       "         [0.33590162],\n",
       "         [0.33590162],\n",
       "         [0.37754571],\n",
       "         [0.37754571],\n",
       "         [0.93967108],\n",
       "         [0.93967108],\n",
       "         [0.72947857],\n",
       "         [0.72947857],\n",
       "         [0.22256349],\n",
       "         [0.22256349],\n",
       "         [0.49537598],\n",
       "         [0.49537598],\n",
       "         [0.57501053],\n",
       "         [0.57501053],\n",
       "         [0.45117757],\n",
       "         [0.45117757],\n",
       "         [0.59510445],\n",
       "         [0.59510445],\n",
       "         [0.7731162 ],\n",
       "         [0.7731162 ],\n",
       "         [0.06945434],\n",
       "         [0.06945434],\n",
       "         [0.9300333 ],\n",
       "         [0.9300333 ],\n",
       "         [0.33983611],\n",
       "         [0.33983611],\n",
       "         [0.44671217],\n",
       "         [0.44671217],\n",
       "         [0.11480939],\n",
       "         [0.11480939],\n",
       "         [0.6547973 ],\n",
       "         [0.6547973 ],\n",
       "         [0.76524905],\n",
       "         [0.76524905],\n",
       "         [0.38858239],\n",
       "         [0.38858239],\n",
       "         [0.36340833],\n",
       "         [0.36340833],\n",
       "         [0.93790312],\n",
       "         [0.93790312],\n",
       "         [0.78234896],\n",
       "         [0.78234896],\n",
       "         [0.40526   ],\n",
       "         [0.40526   ],\n",
       "         [0.29660794],\n",
       "         [0.29660794],\n",
       "         [0.77087813],\n",
       "         [0.77087813],\n",
       "         [0.59161259],\n",
       "         [0.59161259],\n",
       "         [0.09960239],\n",
       "         [0.09960239],\n",
       "         [0.75464637],\n",
       "         [0.75464637],\n",
       "         [0.69898432],\n",
       "         [0.69898432],\n",
       "         [0.96232949],\n",
       "         [0.96232949],\n",
       "         [0.19391087],\n",
       "         [0.19391087],\n",
       "         [0.09732416],\n",
       "         [0.09732416],\n",
       "         [0.19596746],\n",
       "         [0.19596746],\n",
       "         [0.0418498 ],\n",
       "         [0.0418498 ],\n",
       "         [0.96326858],\n",
       "         [0.96326858],\n",
       "         [0.07241133],\n",
       "         [0.07241133],\n",
       "         [0.76682075],\n",
       "         [0.76682075],\n",
       "         [0.33902355],\n",
       "         [0.33902355],\n",
       "         [0.32010837],\n",
       "         [0.32010837],\n",
       "         [0.3667345 ],\n",
       "         [0.3667345 ],\n",
       "         [0.95859027],\n",
       "         [0.95859027],\n",
       "         [0.06511075],\n",
       "         [0.06511075],\n",
       "         [0.78088222],\n",
       "         [0.78088222]])}}"
      ]
     },
     "execution_count": 1,
     "metadata": {},
     "output_type": "execute_result"
    }
   ],
   "source": [
    "ds = load_by_id(run_id_a)\n",
    "ds.get_parameter_data('x1')"
   ]
  },
  {
   "cell_type": "code",
   "execution_count": null,
   "metadata": {},
   "outputs": [],
   "source": []
  }
 ],
 "metadata": {
  "kernelspec": {
   "display_name": "Python 3",
   "language": "python",
   "name": "python3"
  },
  "language_info": {
   "codemirror_mode": {
    "name": "ipython",
    "version": 3
   },
   "file_extension": ".py",
   "mimetype": "text/x-python",
   "name": "python",
   "nbconvert_exporter": "python",
   "pygments_lexer": "ipython3",
   "version": "3.7.10"
  },
  "nbsphinx": {
   "timeout": 600
  },
  "toc": {
   "base_numbering": 1,
   "nav_menu": {},
   "number_sections": true,
   "sideBar": true,
   "skip_h1_title": false,
   "title_cell": "Table of Contents",
   "title_sidebar": "Contents",
   "toc_cell": false,
   "toc_position": {},
   "toc_section_display": true,
   "toc_window_display": false
  },
  "varInspector": {
   "cols": {
    "lenName": 16,
    "lenType": 16,
    "lenVar": 40
   },
   "kernels_config": {
    "python": {
     "delete_cmd_postfix": "",
     "delete_cmd_prefix": "del ",
     "library": "var_list.py",
     "varRefreshCmd": "print(var_dic_list())"
    },
    "r": {
     "delete_cmd_postfix": ") ",
     "delete_cmd_prefix": "rm(",
     "library": "var_list.r",
     "varRefreshCmd": "cat(var_dic_list()) "
    }
   },
   "types_to_exclude": [
    "module",
    "function",
    "builtin_function_or_method",
    "instance",
    "_Feature"
   ],
   "window_display": false
  }
 },
 "nbformat": 4,
 "nbformat_minor": 4
}
