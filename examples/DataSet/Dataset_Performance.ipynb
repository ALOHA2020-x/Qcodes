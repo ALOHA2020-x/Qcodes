{
 "cells": [
  {
   "cell_type": "markdown",
   "metadata": {},
   "source": [
    "# DataSet Performance\n",
    "\n",
    "This notebook shows the trade-off between inserting data into a database row-by-row and as binary blobs. Inserting the data row-by-row means that we have direct access to all the data and may perform queries directly on the values of the data. On the other hand, as we shall see, this is much slower than inserting the data directly as binary blobs."
   ]
  },
  {
   "cell_type": "markdown",
   "metadata": {},
   "source": [
    "First, we choose a new location for the database to ensure that we don't add a bunch of benchmarking data to the default one."
   ]
  },
  {
   "cell_type": "code",
   "execution_count": 1,
   "metadata": {
    "execution": {
     "iopub.execute_input": "2021-03-12T08:41:38.939840Z",
     "iopub.status.busy": "2021-03-12T08:41:38.939252Z",
     "iopub.status.idle": "2021-03-12T08:41:39.865024Z",
     "shell.execute_reply": "2021-03-12T08:41:39.865459Z"
    }
   },
   "outputs": [
    {
     "name": "stdout",
     "output_type": "stream",
     "text": [
      "Logging hadn't been started.\n",
      "Activating auto-logging. Current session state plus future input saved.\n",
      "Filename       : /home/runner/.qcodes/logs/command_history.log\n",
      "Mode           : append\n",
      "Output logging : True\n",
      "Raw input log  : False\n",
      "Timestamping   : True\n",
      "State          : active\n"
     ]
    },
    {
     "name": "stdout",
     "output_type": "stream",
     "text": [
      "Qcodes Logfile : /home/runner/.qcodes/logs/210312-4271-qcodes.log\n"
     ]
    }
   ],
   "source": [
    "import os\n",
    "cwd = os.getcwd()\n",
    "import qcodes as qc\n",
    "qc.config[\"core\"][\"db_location\"] = os.path.join(cwd, 'testing.db')\n"
   ]
  },
  {
   "cell_type": "code",
   "execution_count": 2,
   "metadata": {
    "execution": {
     "iopub.execute_input": "2021-03-12T08:41:39.871935Z",
     "iopub.status.busy": "2021-03-12T08:41:39.871020Z",
     "iopub.status.idle": "2021-03-12T08:41:40.056184Z",
     "shell.execute_reply": "2021-03-12T08:41:40.055245Z"
    }
   },
   "outputs": [],
   "source": [
    "%matplotlib inline\n",
    "import time\n",
    "import matplotlib.pyplot as plt\n",
    "import numpy as np\n",
    "\n",
    "import qcodes as qc\n",
    "from qcodes.instrument.parameter import ManualParameter\n",
    "from qcodes.dataset.experiment_container import (Experiment,\n",
    "                                                 load_last_experiment,\n",
    "                                                 new_experiment)\n",
    "from qcodes.dataset.sqlite.database import initialise_database\n",
    "from qcodes import load_or_create_experiment\n",
    "from qcodes.dataset.measurements import Measurement"
   ]
  },
  {
   "cell_type": "code",
   "execution_count": 3,
   "metadata": {
    "execution": {
     "iopub.execute_input": "2021-03-12T08:41:40.061152Z",
     "iopub.status.busy": "2021-03-12T08:41:40.059635Z",
     "iopub.status.idle": "2021-03-12T08:41:40.186922Z",
     "shell.execute_reply": "2021-03-12T08:41:40.187410Z"
    }
   },
   "outputs": [
    {
     "name": "stdout",
     "output_type": "stream",
     "text": [
      "\r",
      "0it [00:00, ?it/s]"
     ]
    },
    {
     "name": "stdout",
     "output_type": "stream",
     "text": [
      "\r",
      "Upgrading database; v0 -> v1: : 0it [00:00, ?it/s]"
     ]
    },
    {
     "name": "stdout",
     "output_type": "stream",
     "text": [
      "\r",
      "Upgrading database; v0 -> v1: : 0it [00:00, ?it/s]"
     ]
    },
    {
     "name": "stdout",
     "output_type": "stream",
     "text": [
      "\n",
      "\r",
      "  0%|          | 0/1 [00:00<?, ?it/s]"
     ]
    },
    {
     "name": "stdout",
     "output_type": "stream",
     "text": [
      "\r",
      "Upgrading database; v1 -> v2:   0%|          | 0/1 [00:00<?, ?it/s]"
     ]
    },
    {
     "name": "stdout",
     "output_type": "stream",
     "text": [
      "\r",
      "Upgrading database; v1 -> v2: 100%|██████████| 1/1 [00:00<00:00, 378.75it/s]"
     ]
    },
    {
     "name": "stdout",
     "output_type": "stream",
     "text": [
      "\n",
      "\r",
      "0it [00:00, ?it/s]"
     ]
    },
    {
     "name": "stdout",
     "output_type": "stream",
     "text": [
      "\r",
      "Upgrading database; v2 -> v3: : 0it [00:00, ?it/s]"
     ]
    },
    {
     "name": "stdout",
     "output_type": "stream",
     "text": [
      "\r",
      "Upgrading database; v2 -> v3: : 0it [00:00, ?it/s]"
     ]
    },
    {
     "name": "stdout",
     "output_type": "stream",
     "text": [
      "\n",
      "\r",
      "0it [00:00, ?it/s]"
     ]
    },
    {
     "name": "stdout",
     "output_type": "stream",
     "text": [
      "\r",
      "Upgrading database; v3 -> v4: : 0it [00:00, ?it/s]"
     ]
    },
    {
     "name": "stdout",
     "output_type": "stream",
     "text": [
      "\r",
      "Upgrading database; v3 -> v4: : 0it [00:00, ?it/s]"
     ]
    },
    {
     "name": "stdout",
     "output_type": "stream",
     "text": [
      "\n",
      "\r",
      "  0%|          | 0/1 [00:00<?, ?it/s]"
     ]
    },
    {
     "name": "stdout",
     "output_type": "stream",
     "text": [
      "\r",
      "Upgrading database; v4 -> v5:   0%|          | 0/1 [00:00<?, ?it/s]"
     ]
    },
    {
     "name": "stdout",
     "output_type": "stream",
     "text": [
      "\r",
      "Upgrading database; v4 -> v5: 100%|██████████| 1/1 [00:00<00:00, 482.94it/s]"
     ]
    },
    {
     "name": "stdout",
     "output_type": "stream",
     "text": [
      "\n",
      "\r",
      "0it [00:00, ?it/s]"
     ]
    },
    {
     "name": "stdout",
     "output_type": "stream",
     "text": [
      "\r",
      "Upgrading database; v5 -> v6: : 0it [00:00, ?it/s]"
     ]
    },
    {
     "name": "stdout",
     "output_type": "stream",
     "text": [
      "\r",
      "Upgrading database; v5 -> v6: : 0it [00:00, ?it/s]"
     ]
    },
    {
     "name": "stdout",
     "output_type": "stream",
     "text": [
      "\n",
      "\r",
      "  0%|          | 0/1 [00:00<?, ?it/s]"
     ]
    },
    {
     "name": "stdout",
     "output_type": "stream",
     "text": [
      "\r",
      "Upgrading database; v6 -> v7:   0%|          | 0/1 [00:00<?, ?it/s]"
     ]
    },
    {
     "name": "stdout",
     "output_type": "stream",
     "text": [
      "\r",
      "Upgrading database; v6 -> v7: 100%|██████████| 1/1 [00:00<00:00, 245.91it/s]"
     ]
    },
    {
     "name": "stdout",
     "output_type": "stream",
     "text": [
      "\n",
      "\r",
      "  0%|          | 0/1 [00:00<?, ?it/s]"
     ]
    },
    {
     "name": "stdout",
     "output_type": "stream",
     "text": [
      "\r",
      "Upgrading database; v7 -> v8:   0%|          | 0/1 [00:00<?, ?it/s]"
     ]
    },
    {
     "name": "stdout",
     "output_type": "stream",
     "text": [
      "\r",
      "Upgrading database; v7 -> v8: 100%|██████████| 1/1 [00:00<00:00, 413.27it/s]"
     ]
    },
    {
     "name": "stdout",
     "output_type": "stream",
     "text": [
      "\n",
      "\r",
      "  0%|          | 0/1 [00:00<?, ?it/s]"
     ]
    },
    {
     "name": "stdout",
     "output_type": "stream",
     "text": [
      "\r",
      "Upgrading database; v8 -> v9:   0%|          | 0/1 [00:00<?, ?it/s]"
     ]
    },
    {
     "name": "stdout",
     "output_type": "stream",
     "text": [
      "\r",
      "Upgrading database; v8 -> v9: 100%|██████████| 1/1 [00:00<00:00, 494.26it/s]"
     ]
    },
    {
     "name": "stdout",
     "output_type": "stream",
     "text": [
      "\n"
     ]
    }
   ],
   "source": [
    "initialise_database()\n",
    "exp = load_or_create_experiment(experiment_name='tutorial_exp', sample_name=\"no sample\")"
   ]
  },
  {
   "cell_type": "markdown",
   "metadata": {},
   "source": [
    "Here, we define a simple function to benchmark the time it takes to insert n points with either numeric or array data type.\n",
    "We will compare both the time used to call ``add_result`` and the time used for the full measurement."
   ]
  },
  {
   "cell_type": "code",
   "execution_count": 4,
   "metadata": {
    "execution": {
     "iopub.execute_input": "2021-03-12T08:41:40.195929Z",
     "iopub.status.busy": "2021-03-12T08:41:40.195245Z",
     "iopub.status.idle": "2021-03-12T08:41:40.197895Z",
     "shell.execute_reply": "2021-03-12T08:41:40.197406Z"
    }
   },
   "outputs": [],
   "source": [
    "def insert_data(paramtype, npoints, nreps=1):\n",
    "\n",
    "    meas = Measurement(exp=exp)\n",
    "\n",
    "    x1 = ManualParameter('x1')\n",
    "    x2 = ManualParameter('x2')\n",
    "    x3 = ManualParameter('x3')\n",
    "    y1 = ManualParameter('y1')\n",
    "    y2 = ManualParameter('y2')\n",
    "\n",
    "    meas.register_parameter(x1, paramtype=paramtype)\n",
    "    meas.register_parameter(x2, paramtype=paramtype)\n",
    "    meas.register_parameter(x3, paramtype=paramtype)\n",
    "    meas.register_parameter(y1, setpoints=[x1, x2, x3],\n",
    "                            paramtype=paramtype)\n",
    "    meas.register_parameter(y2, setpoints=[x1, x2, x3],\n",
    "                            paramtype=paramtype)\n",
    "    start = time.perf_counter()\n",
    "    with meas.run() as datasaver:\n",
    "        start_adding = time.perf_counter()\n",
    "        for i in range(nreps):\n",
    "            datasaver.add_result((x1, np.random.rand(npoints)),\n",
    "                                 (x2, np.random.rand(npoints)),\n",
    "                                 (x3, np.random.rand(npoints)),\n",
    "                                 (y1, np.random.rand(npoints)),\n",
    "                                 (y2, np.random.rand(npoints)))\n",
    "        stop_adding = time.perf_counter()\n",
    "        run_id = datasaver.run_id\n",
    "    stop = time.perf_counter()\n",
    "    tot_time = stop - start\n",
    "    add_time = stop_adding - start_adding\n",
    "    return tot_time, add_time, run_id"
   ]
  },
  {
   "cell_type": "markdown",
   "metadata": {},
   "source": [
    "## Comparison between numeric/array data and binary blob"
   ]
  },
  {
   "cell_type": "markdown",
   "metadata": {},
   "source": [
    "### Case1: Short experiment time"
   ]
  },
  {
   "cell_type": "code",
   "execution_count": 5,
   "metadata": {
    "execution": {
     "iopub.execute_input": "2021-03-12T08:41:40.205647Z",
     "iopub.status.busy": "2021-03-12T08:41:40.200718Z",
     "iopub.status.idle": "2021-03-12T08:41:41.082616Z",
     "shell.execute_reply": "2021-03-12T08:41:41.083218Z"
    }
   },
   "outputs": [
    {
     "name": "stdout",
     "output_type": "stream",
     "text": [
      "Starting experimental run with id: 1. \n",
      "Starting experimental run with id: 2. \n",
      "Starting experimental run with id: 3. \n",
      "Starting experimental run with id: 4. \n"
     ]
    },
    {
     "name": "stdout",
     "output_type": "stream",
     "text": [
      "Starting experimental run with id: 5. \n"
     ]
    },
    {
     "name": "stdout",
     "output_type": "stream",
     "text": [
      "Starting experimental run with id: 6. \n",
      "Starting experimental run with id: 7. \n"
     ]
    },
    {
     "name": "stdout",
     "output_type": "stream",
     "text": [
      "Starting experimental run with id: 8. \n",
      "Starting experimental run with id: 9. \n"
     ]
    },
    {
     "name": "stdout",
     "output_type": "stream",
     "text": [
      "Starting experimental run with id: 10. \n",
      "Starting experimental run with id: 11. \n"
     ]
    },
    {
     "name": "stdout",
     "output_type": "stream",
     "text": [
      "Starting experimental run with id: 12. \n"
     ]
    },
    {
     "name": "stdout",
     "output_type": "stream",
     "text": [
      "Starting experimental run with id: 13. \n"
     ]
    },
    {
     "name": "stdout",
     "output_type": "stream",
     "text": [
      "Starting experimental run with id: 14. \n"
     ]
    }
   ],
   "source": [
    "sizes = [1,500,1000,2000,3000,4000,5000]\n",
    "t_numeric = []\n",
    "t_numeric_add = []\n",
    "t_array = []\n",
    "t_array_add = []\n",
    "for size in sizes:\n",
    "    tn, tna, run_id_n =  insert_data('numeric', size)\n",
    "    t_numeric.append(tn)\n",
    "    t_numeric_add.append(tna)\n",
    "\n",
    "    ta, taa, run_id_a =  insert_data('array', size)\n",
    "    t_array.append(ta)\n",
    "    t_array_add.append(taa)"
   ]
  },
  {
   "cell_type": "code",
   "execution_count": 6,
   "metadata": {
    "execution": {
     "iopub.execute_input": "2021-03-12T08:41:41.110992Z",
     "iopub.status.busy": "2021-03-12T08:41:41.101486Z",
     "iopub.status.idle": "2021-03-12T08:41:41.330024Z",
     "shell.execute_reply": "2021-03-12T08:41:41.330801Z"
    }
   },
   "outputs": [
    {
     "data": {
      "image/png": "[encoded data removed]",
      "text/plain": [
       "<Figure size 432x288 with 1 Axes>"
      ]
     },
     "metadata": {
      "needs_background": "light"
     },
     "output_type": "display_data"
    }
   ],
   "source": [
    "fig, ax = plt.subplots(1,1)\n",
    "ax.plot(sizes, t_numeric, 'o-', label='Inserting row-by-row')\n",
    "ax.plot(sizes, t_numeric_add, 'o-', label='Inserting row-by-row: add_result only')\n",
    "ax.plot(sizes, t_array, 'd-', label='Inserting as binary blob')\n",
    "ax.plot(sizes, t_array_add, 'd-', label='Inserting as binary blob: add_result only')\n",
    "ax.legend()\n",
    "ax.set_xlabel('Array length')\n",
    "ax.set_ylabel('Time (s)')\n",
    "fig.tight_layout()"
   ]
  },
  {
   "cell_type": "markdown",
   "metadata": {},
   "source": [
    "As shown in the latter figure, the time to setup and and close the experiment is approximately 0.4 sec. In case of small array sizes, the difference between inserting values of data as arrays and inserting them row-by-row is relatively unimportant. At larger array sizes, i.e. above 10000 points, the cost of writing data as individual datapoints starts to become important.\n"
   ]
  },
  {
   "cell_type": "markdown",
   "metadata": {},
   "source": [
    "### Case2: Long experiment time "
   ]
  },
  {
   "cell_type": "code",
   "execution_count": 7,
   "metadata": {
    "execution": {
     "iopub.execute_input": "2021-03-12T08:41:41.337810Z",
     "iopub.status.busy": "2021-03-12T08:41:41.336624Z",
     "iopub.status.idle": "2021-03-12T08:42:40.786692Z",
     "shell.execute_reply": "2021-03-12T08:42:40.787115Z"
    }
   },
   "outputs": [
    {
     "name": "stdout",
     "output_type": "stream",
     "text": [
      "Starting experimental run with id: 15. \n",
      "Starting experimental run with id: 16. \n"
     ]
    },
    {
     "name": "stdout",
     "output_type": "stream",
     "text": [
      "Starting experimental run with id: 17. \n"
     ]
    },
    {
     "name": "stdout",
     "output_type": "stream",
     "text": [
      "Starting experimental run with id: 18. \n"
     ]
    },
    {
     "name": "stdout",
     "output_type": "stream",
     "text": [
      "Starting experimental run with id: 19. \n"
     ]
    },
    {
     "name": "stdout",
     "output_type": "stream",
     "text": [
      "Starting experimental run with id: 20. \n"
     ]
    },
    {
     "name": "stdout",
     "output_type": "stream",
     "text": [
      "Starting experimental run with id: 21. \n"
     ]
    },
    {
     "name": "stdout",
     "output_type": "stream",
     "text": [
      "Starting experimental run with id: 22. \n"
     ]
    },
    {
     "name": "stdout",
     "output_type": "stream",
     "text": [
      "Starting experimental run with id: 23. \n"
     ]
    },
    {
     "name": "stdout",
     "output_type": "stream",
     "text": [
      "Starting experimental run with id: 24. \n"
     ]
    },
    {
     "name": "stdout",
     "output_type": "stream",
     "text": [
      "Starting experimental run with id: 25. \n"
     ]
    },
    {
     "name": "stdout",
     "output_type": "stream",
     "text": [
      "Starting experimental run with id: 26. \n"
     ]
    },
    {
     "name": "stdout",
     "output_type": "stream",
     "text": [
      "Starting experimental run with id: 27. \n"
     ]
    },
    {
     "name": "stdout",
     "output_type": "stream",
     "text": [
      "Starting experimental run with id: 28. \n"
     ]
    }
   ],
   "source": [
    "sizes = [1,500,1000,2000,3000,4000,5000]\n",
    "nreps = 100\n",
    "t_numeric = []\n",
    "t_numeric_add = []\n",
    "t_numeric_run_ids = []\n",
    "t_array = []\n",
    "t_array_add = []\n",
    "t_array_run_ids = []\n",
    "for size in sizes:\n",
    "    tn, tna, run_id_n =  insert_data('numeric', size, nreps=nreps)\n",
    "    t_numeric.append(tn)\n",
    "    t_numeric_add.append(tna)\n",
    "    t_numeric_run_ids.append(run_id_n)\n",
    "\n",
    "    ta, taa, run_id_a =  insert_data('array', size, nreps=nreps)\n",
    "    t_array.append(ta)\n",
    "    t_array_add.append(taa)\n",
    "    t_array_run_ids.append(run_id_a)"
   ]
  },
  {
   "cell_type": "code",
   "execution_count": 8,
   "metadata": {
    "execution": {
     "iopub.execute_input": "2021-03-12T08:42:40.815348Z",
     "iopub.status.busy": "2021-03-12T08:42:40.808079Z",
     "iopub.status.idle": "2021-03-12T08:42:41.046248Z",
     "shell.execute_reply": "2021-03-12T08:42:41.046648Z"
    },
    "scrolled": true
   },
   "outputs": [
    {
     "data": {
      "image/png": "[encoded data removed]",
      "text/plain": [
       "<Figure size 432x288 with 1 Axes>"
      ]
     },
     "metadata": {
      "needs_background": "light"
     },
     "output_type": "display_data"
    }
   ],
   "source": [
    "fig, ax = plt.subplots(1,1)\n",
    "ax.plot(sizes, t_numeric, 'o-', label='Inserting row-by-row')\n",
    "ax.plot(sizes, t_numeric_add, 'o-', label='Inserting row-by-row: add_result only')\n",
    "ax.plot(sizes, t_array, 'd-', label='Inserting as binary blob')\n",
    "ax.plot(sizes, t_array_add, 'd-', label='Inserting as binary blob: add_result only')\n",
    "ax.legend()\n",
    "ax.set_xlabel('Array length')\n",
    "ax.set_ylabel('Time (s)')\n",
    "fig.tight_layout()"
   ]
  },
  {
   "cell_type": "markdown",
   "metadata": {},
   "source": [
    "However, as we increase the length of the experiment, as seen here by repeating the insertion 100 times, we see a big difference between inserting values of the data row-by-row and inserting it as a binary blob."
   ]
  },
  {
   "cell_type": "markdown",
   "metadata": {},
   "source": [
    "## Loading the data "
   ]
  },
  {
   "cell_type": "code",
   "execution_count": 9,
   "metadata": {
    "execution": {
     "iopub.execute_input": "2021-03-12T08:42:41.051048Z",
     "iopub.status.busy": "2021-03-12T08:42:41.049914Z",
     "iopub.status.idle": "2021-03-12T08:42:41.054200Z",
     "shell.execute_reply": "2021-03-12T08:42:41.054737Z"
    }
   },
   "outputs": [],
   "source": [
    "from qcodes.dataset.data_set import load_by_id\n",
    "from qcodes.dataset.data_export import get_data_by_id"
   ]
  },
  {
   "cell_type": "markdown",
   "metadata": {},
   "source": [
    "As usual you can load the data by using the ``load_by_id`` function but you will notice that the different storage methods\n",
    "are reflected in shape of the data as it is retrieved. "
   ]
  },
  {
   "cell_type": "code",
   "execution_count": 10,
   "metadata": {
    "execution": {
     "iopub.execute_input": "2021-03-12T08:42:41.058833Z",
     "iopub.status.busy": "2021-03-12T08:42:41.057741Z",
     "iopub.status.idle": "2021-03-12T08:42:41.059614Z",
     "shell.execute_reply": "2021-03-12T08:42:41.061609Z"
    }
   },
   "outputs": [],
   "source": [
    "run_id_n = t_numeric_run_ids[0]\n",
    "run_id_a = t_array_run_ids[0]"
   ]
  },
  {
   "cell_type": "code",
   "execution_count": 11,
   "metadata": {
    "execution": {
     "iopub.execute_input": "2021-03-12T08:42:41.065249Z",
     "iopub.status.busy": "2021-03-12T08:42:41.064567Z",
     "iopub.status.idle": "2021-03-12T08:42:41.074536Z",
     "shell.execute_reply": "2021-03-12T08:42:41.073947Z"
    },
    "scrolled": true
   },
   "outputs": [
    {
     "data": {
      "text/plain": [
       "{'x1': {'x1': array([0.92027312, 0.92027312, 0.12233383, 0.12233383, 0.58674109,\n",
       "         0.58674109, 0.26669029, 0.26669029, 0.09319043, 0.09319043,\n",
       "         0.84455243, 0.84455243, 0.10546414, 0.10546414, 0.77810182,\n",
       "         0.77810182, 0.28044612, 0.28044612, 0.88919878, 0.88919878,\n",
       "         0.45442782, 0.45442782, 0.21783872, 0.21783872, 0.79811   ,\n",
       "         0.79811   , 0.30753523, 0.30753523, 0.93439615, 0.93439615,\n",
       "         0.90476561, 0.90476561, 0.60315372, 0.60315372, 0.56319342,\n",
       "         0.56319342, 0.54932133, 0.54932133, 0.08907206, 0.08907206,\n",
       "         0.24637765, 0.24637765, 0.66261065, 0.66261065, 0.66962262,\n",
       "         0.66962262, 0.90929375, 0.90929375, 0.27132744, 0.27132744,\n",
       "         0.25925659, 0.25925659, 0.85858693, 0.85858693, 0.17330401,\n",
       "         0.17330401, 0.50416792, 0.50416792, 0.23770129, 0.23770129,\n",
       "         0.15200591, 0.15200591, 0.30732204, 0.30732204, 0.58261205,\n",
       "         0.58261205, 0.83785854, 0.83785854, 0.98911564, 0.98911564,\n",
       "         0.44653472, 0.44653472, 0.06965438, 0.06965438, 0.2964485 ,\n",
       "         0.2964485 , 0.41335511, 0.41335511, 0.3667583 , 0.3667583 ,\n",
       "         0.1586823 , 0.1586823 , 0.30971388, 0.30971388, 0.45981834,\n",
       "         0.45981834, 0.87552949, 0.87552949, 0.48646295, 0.48646295,\n",
       "         0.15845627, 0.15845627, 0.29879273, 0.29879273, 0.82559106,\n",
       "         0.82559106, 0.03826081, 0.03826081, 0.23792922, 0.23792922,\n",
       "         0.98767424, 0.98767424, 0.39547315, 0.39547315, 0.68498192,\n",
       "         0.68498192, 0.84611116, 0.84611116, 0.82093844, 0.82093844,\n",
       "         0.54774712, 0.54774712, 0.81809634, 0.81809634, 0.74823356,\n",
       "         0.74823356, 0.21017119, 0.21017119, 0.41772524, 0.41772524,\n",
       "         0.71456197, 0.71456197, 0.35857433, 0.35857433, 0.83955629,\n",
       "         0.83955629, 0.7285452 , 0.7285452 , 0.50407291, 0.50407291,\n",
       "         0.07013923, 0.07013923, 0.95053201, 0.95053201, 0.89536556,\n",
       "         0.89536556, 0.89484248, 0.89484248, 0.34471702, 0.34471702,\n",
       "         0.14580375, 0.14580375, 0.9272552 , 0.9272552 , 0.07768809,\n",
       "         0.07768809, 0.36423294, 0.36423294, 0.4051825 , 0.4051825 ,\n",
       "         0.40242404, 0.40242404, 0.84015863, 0.84015863, 0.41860099,\n",
       "         0.41860099, 0.72513842, 0.72513842, 0.67255804, 0.67255804,\n",
       "         0.07379119, 0.07379119, 0.18989398, 0.18989398, 0.76878733,\n",
       "         0.76878733, 0.40893107, 0.40893107, 0.0613356 , 0.0613356 ,\n",
       "         0.6320986 , 0.6320986 , 0.6475135 , 0.6475135 , 0.28232552,\n",
       "         0.28232552, 0.1976655 , 0.1976655 , 0.82782223, 0.82782223,\n",
       "         0.66661897, 0.66661897, 0.79922403, 0.79922403, 0.78922912,\n",
       "         0.78922912, 0.48939602, 0.48939602, 0.1741963 , 0.1741963 ,\n",
       "         0.18594043, 0.18594043, 0.15015559, 0.15015559, 0.33958439,\n",
       "         0.33958439, 0.43032642, 0.43032642, 0.8628935 , 0.8628935 ])}}"
      ]
     },
     "execution_count": 1,
     "metadata": {},
     "output_type": "execute_result"
    }
   ],
   "source": [
    "ds = load_by_id(run_id_n)\n",
    "ds.get_parameter_data('x1')"
   ]
  },
  {
   "cell_type": "markdown",
   "metadata": {},
   "source": [
    "And a dataset stored as binary arrays"
   ]
  },
  {
   "cell_type": "code",
   "execution_count": 12,
   "metadata": {
    "execution": {
     "iopub.execute_input": "2021-03-12T08:42:41.077921Z",
     "iopub.status.busy": "2021-03-12T08:42:41.077424Z",
     "iopub.status.idle": "2021-03-12T08:42:41.136234Z",
     "shell.execute_reply": "2021-03-12T08:42:41.136630Z"
    },
    "scrolled": true
   },
   "outputs": [
    {
     "data": {
      "text/plain": [
       "{'x1': {'x1': array([[0.54611048],\n",
       "         [0.54611048],\n",
       "         [0.36062562],\n",
       "         [0.36062562],\n",
       "         [0.06621649],\n",
       "         [0.06621649],\n",
       "         [0.8060066 ],\n",
       "         [0.8060066 ],\n",
       "         [0.89068404],\n",
       "         [0.89068404],\n",
       "         [0.72427438],\n",
       "         [0.72427438],\n",
       "         [0.33351614],\n",
       "         [0.33351614],\n",
       "         [0.57076785],\n",
       "         [0.57076785],\n",
       "         [0.78905781],\n",
       "         [0.78905781],\n",
       "         [0.34143576],\n",
       "         [0.34143576],\n",
       "         [0.10548043],\n",
       "         [0.10548043],\n",
       "         [0.36330003],\n",
       "         [0.36330003],\n",
       "         [0.80062891],\n",
       "         [0.80062891],\n",
       "         [0.85946571],\n",
       "         [0.85946571],\n",
       "         [0.02267758],\n",
       "         [0.02267758],\n",
       "         [0.10500493],\n",
       "         [0.10500493],\n",
       "         [0.09375199],\n",
       "         [0.09375199],\n",
       "         [0.44651315],\n",
       "         [0.44651315],\n",
       "         [0.57974776],\n",
       "         [0.57974776],\n",
       "         [0.316412  ],\n",
       "         [0.316412  ],\n",
       "         [0.44743215],\n",
       "         [0.44743215],\n",
       "         [0.44828873],\n",
       "         [0.44828873],\n",
       "         [0.18061113],\n",
       "         [0.18061113],\n",
       "         [0.47951573],\n",
       "         [0.47951573],\n",
       "         [0.2809844 ],\n",
       "         [0.2809844 ],\n",
       "         [0.14289257],\n",
       "         [0.14289257],\n",
       "         [0.26800822],\n",
       "         [0.26800822],\n",
       "         [0.0030624 ],\n",
       "         [0.0030624 ],\n",
       "         [0.55776602],\n",
       "         [0.55776602],\n",
       "         [0.63722365],\n",
       "         [0.63722365],\n",
       "         [0.85698716],\n",
       "         [0.85698716],\n",
       "         [0.78091275],\n",
       "         [0.78091275],\n",
       "         [0.60305836],\n",
       "         [0.60305836],\n",
       "         [0.68956329],\n",
       "         [0.68956329],\n",
       "         [0.59226066],\n",
       "         [0.59226066],\n",
       "         [0.79697417],\n",
       "         [0.79697417],\n",
       "         [0.93503389],\n",
       "         [0.93503389],\n",
       "         [0.32097637],\n",
       "         [0.32097637],\n",
       "         [0.82849216],\n",
       "         [0.82849216],\n",
       "         [0.32350321],\n",
       "         [0.32350321],\n",
       "         [0.05633882],\n",
       "         [0.05633882],\n",
       "         [0.22660375],\n",
       "         [0.22660375],\n",
       "         [0.21617618],\n",
       "         [0.21617618],\n",
       "         [0.27288317],\n",
       "         [0.27288317],\n",
       "         [0.3370043 ],\n",
       "         [0.3370043 ],\n",
       "         [0.79404803],\n",
       "         [0.79404803],\n",
       "         [0.17365699],\n",
       "         [0.17365699],\n",
       "         [0.30447071],\n",
       "         [0.30447071],\n",
       "         [0.01549447],\n",
       "         [0.01549447],\n",
       "         [0.58557895],\n",
       "         [0.58557895],\n",
       "         [0.42630867],\n",
       "         [0.42630867],\n",
       "         [0.86968233],\n",
       "         [0.86968233],\n",
       "         [0.4377908 ],\n",
       "         [0.4377908 ],\n",
       "         [0.92895345],\n",
       "         [0.92895345],\n",
       "         [0.86760904],\n",
       "         [0.86760904],\n",
       "         [0.44410678],\n",
       "         [0.44410678],\n",
       "         [0.91997392],\n",
       "         [0.91997392],\n",
       "         [0.26001064],\n",
       "         [0.26001064],\n",
       "         [0.38675948],\n",
       "         [0.38675948],\n",
       "         [0.84627763],\n",
       "         [0.84627763],\n",
       "         [0.55435685],\n",
       "         [0.55435685],\n",
       "         [0.60480059],\n",
       "         [0.60480059],\n",
       "         [0.99582413],\n",
       "         [0.99582413],\n",
       "         [0.26957321],\n",
       "         [0.26957321],\n",
       "         [0.19579699],\n",
       "         [0.19579699],\n",
       "         [0.15500835],\n",
       "         [0.15500835],\n",
       "         [0.2614318 ],\n",
       "         [0.2614318 ],\n",
       "         [0.26974125],\n",
       "         [0.26974125],\n",
       "         [0.57652953],\n",
       "         [0.57652953],\n",
       "         [0.62009269],\n",
       "         [0.62009269],\n",
       "         [0.89452617],\n",
       "         [0.89452617],\n",
       "         [0.96515258],\n",
       "         [0.96515258],\n",
       "         [0.08397351],\n",
       "         [0.08397351],\n",
       "         [0.47314806],\n",
       "         [0.47314806],\n",
       "         [0.99203129],\n",
       "         [0.99203129],\n",
       "         [0.02018473],\n",
       "         [0.02018473],\n",
       "         [0.16982468],\n",
       "         [0.16982468],\n",
       "         [0.35513259],\n",
       "         [0.35513259],\n",
       "         [0.1075554 ],\n",
       "         [0.1075554 ],\n",
       "         [0.67628312],\n",
       "         [0.67628312],\n",
       "         [0.76188479],\n",
       "         [0.76188479],\n",
       "         [0.80621997],\n",
       "         [0.80621997],\n",
       "         [0.03615497],\n",
       "         [0.03615497],\n",
       "         [0.3039443 ],\n",
       "         [0.3039443 ],\n",
       "         [0.09458217],\n",
       "         [0.09458217],\n",
       "         [0.0785359 ],\n",
       "         [0.0785359 ],\n",
       "         [0.14709832],\n",
       "         [0.14709832],\n",
       "         [0.13455237],\n",
       "         [0.13455237],\n",
       "         [0.3111869 ],\n",
       "         [0.3111869 ],\n",
       "         [0.59446809],\n",
       "         [0.59446809],\n",
       "         [0.39693739],\n",
       "         [0.39693739],\n",
       "         [0.38865668],\n",
       "         [0.38865668],\n",
       "         [0.89473154],\n",
       "         [0.89473154],\n",
       "         [0.24840467],\n",
       "         [0.24840467],\n",
       "         [0.17138218],\n",
       "         [0.17138218],\n",
       "         [0.45046624],\n",
       "         [0.45046624],\n",
       "         [0.0489341 ],\n",
       "         [0.0489341 ],\n",
       "         [0.8724867 ],\n",
       "         [0.8724867 ],\n",
       "         [0.16607081],\n",
       "         [0.16607081],\n",
       "         [0.72362122],\n",
       "         [0.72362122]])}}"
      ]
     },
     "execution_count": 1,
     "metadata": {},
     "output_type": "execute_result"
    }
   ],
   "source": [
    "ds = load_by_id(run_id_a)\n",
    "ds.get_parameter_data('x1')"
   ]
  },
  {
   "cell_type": "code",
   "execution_count": null,
   "metadata": {},
   "outputs": [],
   "source": []
  }
 ],
 "metadata": {
  "kernelspec": {
   "display_name": "Python 3",
   "language": "python",
   "name": "python3"
  },
  "language_info": {
   "codemirror_mode": {
    "name": "ipython",
    "version": 3
   },
   "file_extension": ".py",
   "mimetype": "text/x-python",
   "name": "python",
   "nbconvert_exporter": "python",
   "pygments_lexer": "ipython3",
   "version": "3.7.10"
  },
  "nbsphinx": {
   "timeout": 600
  },
  "toc": {
   "base_numbering": 1,
   "nav_menu": {},
   "number_sections": true,
   "sideBar": true,
   "skip_h1_title": false,
   "title_cell": "Table of Contents",
   "title_sidebar": "Contents",
   "toc_cell": false,
   "toc_position": {},
   "toc_section_display": true,
   "toc_window_display": false
  },
  "varInspector": {
   "cols": {
    "lenName": 16,
    "lenType": 16,
    "lenVar": 40
   },
   "kernels_config": {
    "python": {
     "delete_cmd_postfix": "",
     "delete_cmd_prefix": "del ",
     "library": "var_list.py",
     "varRefreshCmd": "print(var_dic_list())"
    },
    "r": {
     "delete_cmd_postfix": ") ",
     "delete_cmd_prefix": "rm(",
     "library": "var_list.r",
     "varRefreshCmd": "cat(var_dic_list()) "
    }
   },
   "types_to_exclude": [
    "module",
    "function",
    "builtin_function_or_method",
    "instance",
    "_Feature"
   ],
   "window_display": false
  }
 },
 "nbformat": 4,
 "nbformat_minor": 2
}
