{
 "cells": [
  {
   "cell_type": "markdown",
   "metadata": {},
   "source": [
    "# DataSet Performance\n",
    "\n",
    "This notebook shows the trade-off between inserting data into a database row-by-row and as binary blobs. Inserting the data row-by-row means that we have direct access to all the data and may perform queries directly on the values of the data. On the other hand, as we shall see, this is much slower than inserting the data directly as binary blobs."
   ]
  },
  {
   "cell_type": "markdown",
   "metadata": {},
   "source": [
    "First, we choose a new location for the database to ensure that we don't add a bunch of benchmarking data to the default one."
   ]
  },
  {
   "cell_type": "code",
   "execution_count": 1,
   "metadata": {
    "execution": {
     "iopub.execute_input": "2021-04-09T06:18:53.004579Z",
     "iopub.status.busy": "2021-04-09T06:18:53.004034Z",
     "iopub.status.idle": "2021-04-09T06:18:53.825739Z",
     "shell.execute_reply": "2021-04-09T06:18:53.826201Z"
    }
   },
   "outputs": [
    {
     "name": "stdout",
     "output_type": "stream",
     "text": [
      "Logging hadn't been started.\n",
      "Activating auto-logging. Current session state plus future input saved.\n",
      "Filename       : /home/runner/.qcodes/logs/command_history.log\n",
      "Mode           : append\n",
      "Output logging : True\n",
      "Raw input log  : False\n",
      "Timestamping   : True\n",
      "State          : active\n"
     ]
    },
    {
     "name": "stdout",
     "output_type": "stream",
     "text": [
      "Qcodes Logfile : /home/runner/.qcodes/logs/210409-4564-qcodes.log\n"
     ]
    }
   ],
   "source": [
    "import os\n",
    "cwd = os.getcwd()\n",
    "import qcodes as qc\n",
    "qc.config[\"core\"][\"db_location\"] = os.path.join(cwd, 'testing.db')\n"
   ]
  },
  {
   "cell_type": "code",
   "execution_count": 2,
   "metadata": {
    "execution": {
     "iopub.execute_input": "2021-04-09T06:18:53.832777Z",
     "iopub.status.busy": "2021-04-09T06:18:53.831234Z",
     "iopub.status.idle": "2021-04-09T06:18:54.035613Z",
     "shell.execute_reply": "2021-04-09T06:18:54.036082Z"
    }
   },
   "outputs": [],
   "source": [
    "%matplotlib inline\n",
    "import time\n",
    "import matplotlib.pyplot as plt\n",
    "import numpy as np\n",
    "\n",
    "import qcodes as qc\n",
    "from qcodes.instrument.parameter import ManualParameter\n",
    "from qcodes.dataset.experiment_container import (Experiment,\n",
    "                                                 load_last_experiment,\n",
    "                                                 new_experiment)\n",
    "from qcodes.dataset.sqlite.database import initialise_database\n",
    "from qcodes import load_or_create_experiment\n",
    "from qcodes.dataset.measurements import Measurement"
   ]
  },
  {
   "cell_type": "code",
   "execution_count": 3,
   "metadata": {
    "execution": {
     "iopub.execute_input": "2021-04-09T06:18:54.040118Z",
     "iopub.status.busy": "2021-04-09T06:18:54.039404Z",
     "iopub.status.idle": "2021-04-09T06:18:54.092747Z",
     "shell.execute_reply": "2021-04-09T06:18:54.093092Z"
    }
   },
   "outputs": [
    {
     "name": "stdout",
     "output_type": "stream",
     "text": [
      "\r",
      "0it [00:00, ?it/s]"
     ]
    },
    {
     "name": "stdout",
     "output_type": "stream",
     "text": [
      "\r",
      "Upgrading database; v0 -> v1: : 0it [00:00, ?it/s]"
     ]
    },
    {
     "name": "stdout",
     "output_type": "stream",
     "text": [
      "\r",
      "Upgrading database; v0 -> v1: : 0it [00:00, ?it/s]"
     ]
    },
    {
     "name": "stdout",
     "output_type": "stream",
     "text": [
      "\n",
      "\r",
      "  0%|          | 0/1 [00:00<?, ?it/s]"
     ]
    },
    {
     "name": "stdout",
     "output_type": "stream",
     "text": [
      "\r",
      "Upgrading database; v1 -> v2:   0%|          | 0/1 [00:00<?, ?it/s]"
     ]
    },
    {
     "name": "stdout",
     "output_type": "stream",
     "text": [
      "\r",
      "Upgrading database; v1 -> v2: 100%|██████████| 1/1 [00:00<00:00, 848.53it/s]"
     ]
    },
    {
     "name": "stdout",
     "output_type": "stream",
     "text": [
      "\n",
      "\r",
      "0it [00:00, ?it/s]"
     ]
    },
    {
     "name": "stdout",
     "output_type": "stream",
     "text": [
      "\r",
      "Upgrading database; v2 -> v3: : 0it [00:00, ?it/s]"
     ]
    },
    {
     "name": "stdout",
     "output_type": "stream",
     "text": [
      "\r",
      "Upgrading database; v2 -> v3: : 0it [00:00, ?it/s]"
     ]
    },
    {
     "name": "stdout",
     "output_type": "stream",
     "text": [
      "\n",
      "\r",
      "0it [00:00, ?it/s]"
     ]
    },
    {
     "name": "stdout",
     "output_type": "stream",
     "text": [
      "\r",
      "Upgrading database; v3 -> v4: : 0it [00:00, ?it/s]"
     ]
    },
    {
     "name": "stdout",
     "output_type": "stream",
     "text": [
      "\r",
      "Upgrading database; v3 -> v4: : 0it [00:00, ?it/s]"
     ]
    },
    {
     "name": "stdout",
     "output_type": "stream",
     "text": [
      "\n",
      "\r",
      "  0%|          | 0/1 [00:00<?, ?it/s]"
     ]
    },
    {
     "name": "stdout",
     "output_type": "stream",
     "text": [
      "\r",
      "Upgrading database; v4 -> v5:   0%|          | 0/1 [00:00<?, ?it/s]"
     ]
    },
    {
     "name": "stdout",
     "output_type": "stream",
     "text": [
      "\r",
      "Upgrading database; v4 -> v5: 100%|██████████| 1/1 [00:00<00:00, 569.49it/s]"
     ]
    },
    {
     "name": "stdout",
     "output_type": "stream",
     "text": [
      "\n",
      "\r",
      "0it [00:00, ?it/s]"
     ]
    },
    {
     "name": "stdout",
     "output_type": "stream",
     "text": [
      "\r",
      "Upgrading database; v5 -> v6: : 0it [00:00, ?it/s]"
     ]
    },
    {
     "name": "stdout",
     "output_type": "stream",
     "text": [
      "\r",
      "Upgrading database; v5 -> v6: : 0it [00:00, ?it/s]"
     ]
    },
    {
     "name": "stdout",
     "output_type": "stream",
     "text": [
      "\n",
      "\r",
      "  0%|          | 0/1 [00:00<?, ?it/s]"
     ]
    },
    {
     "name": "stdout",
     "output_type": "stream",
     "text": [
      "\r",
      "Upgrading database; v6 -> v7:   0%|          | 0/1 [00:00<?, ?it/s]"
     ]
    },
    {
     "name": "stdout",
     "output_type": "stream",
     "text": [
      "\r",
      "Upgrading database; v6 -> v7: 100%|██████████| 1/1 [00:00<00:00, 494.09it/s]"
     ]
    },
    {
     "name": "stdout",
     "output_type": "stream",
     "text": [
      "\n",
      "\r",
      "  0%|          | 0/1 [00:00<?, ?it/s]"
     ]
    },
    {
     "name": "stdout",
     "output_type": "stream",
     "text": [
      "\r",
      "Upgrading database; v7 -> v8:   0%|          | 0/1 [00:00<?, ?it/s]"
     ]
    },
    {
     "name": "stdout",
     "output_type": "stream",
     "text": [
      "\r",
      "Upgrading database; v7 -> v8: 100%|██████████| 1/1 [00:00<00:00, 626.86it/s]"
     ]
    },
    {
     "name": "stdout",
     "output_type": "stream",
     "text": [
      "\n",
      "\r",
      "  0%|          | 0/1 [00:00<?, ?it/s]"
     ]
    },
    {
     "name": "stdout",
     "output_type": "stream",
     "text": [
      "\r",
      "Upgrading database; v8 -> v9:   0%|          | 0/1 [00:00<?, ?it/s]"
     ]
    },
    {
     "name": "stdout",
     "output_type": "stream",
     "text": [
      "\r",
      "Upgrading database; v8 -> v9: 100%|██████████| 1/1 [00:00<00:00, 551.01it/s]"
     ]
    },
    {
     "name": "stdout",
     "output_type": "stream",
     "text": [
      "\n"
     ]
    }
   ],
   "source": [
    "initialise_database()\n",
    "exp = load_or_create_experiment(experiment_name='tutorial_exp', sample_name=\"no sample\")"
   ]
  },
  {
   "cell_type": "markdown",
   "metadata": {},
   "source": [
    "Here, we define a simple function to benchmark the time it takes to insert n points with either numeric or array data type.\n",
    "We will compare both the time used to call ``add_result`` and the time used for the full measurement."
   ]
  },
  {
   "cell_type": "code",
   "execution_count": 4,
   "metadata": {
    "execution": {
     "iopub.execute_input": "2021-04-09T06:18:54.099779Z",
     "iopub.status.busy": "2021-04-09T06:18:54.098691Z",
     "iopub.status.idle": "2021-04-09T06:18:54.101990Z",
     "shell.execute_reply": "2021-04-09T06:18:54.102341Z"
    }
   },
   "outputs": [],
   "source": [
    "def insert_data(paramtype, npoints, nreps=1):\n",
    "\n",
    "    meas = Measurement(exp=exp)\n",
    "\n",
    "    x1 = ManualParameter('x1')\n",
    "    x2 = ManualParameter('x2')\n",
    "    x3 = ManualParameter('x3')\n",
    "    y1 = ManualParameter('y1')\n",
    "    y2 = ManualParameter('y2')\n",
    "\n",
    "    meas.register_parameter(x1, paramtype=paramtype)\n",
    "    meas.register_parameter(x2, paramtype=paramtype)\n",
    "    meas.register_parameter(x3, paramtype=paramtype)\n",
    "    meas.register_parameter(y1, setpoints=[x1, x2, x3],\n",
    "                            paramtype=paramtype)\n",
    "    meas.register_parameter(y2, setpoints=[x1, x2, x3],\n",
    "                            paramtype=paramtype)\n",
    "    start = time.perf_counter()\n",
    "    with meas.run() as datasaver:\n",
    "        start_adding = time.perf_counter()\n",
    "        for i in range(nreps):\n",
    "            datasaver.add_result((x1, np.random.rand(npoints)),\n",
    "                                 (x2, np.random.rand(npoints)),\n",
    "                                 (x3, np.random.rand(npoints)),\n",
    "                                 (y1, np.random.rand(npoints)),\n",
    "                                 (y2, np.random.rand(npoints)))\n",
    "        stop_adding = time.perf_counter()\n",
    "        run_id = datasaver.run_id\n",
    "    stop = time.perf_counter()\n",
    "    tot_time = stop - start\n",
    "    add_time = stop_adding - start_adding\n",
    "    return tot_time, add_time, run_id"
   ]
  },
  {
   "cell_type": "markdown",
   "metadata": {},
   "source": [
    "## Comparison between numeric/array data and binary blob"
   ]
  },
  {
   "cell_type": "markdown",
   "metadata": {},
   "source": [
    "### Case1: Short experiment time"
   ]
  },
  {
   "cell_type": "code",
   "execution_count": 5,
   "metadata": {
    "execution": {
     "iopub.execute_input": "2021-04-09T06:18:54.107427Z",
     "iopub.status.busy": "2021-04-09T06:18:54.105522Z",
     "iopub.status.idle": "2021-04-09T06:18:54.732426Z",
     "shell.execute_reply": "2021-04-09T06:18:54.732773Z"
    }
   },
   "outputs": [
    {
     "name": "stdout",
     "output_type": "stream",
     "text": [
      "Starting experimental run with id: 1. \n",
      "Starting experimental run with id: 2. \n",
      "Starting experimental run with id: 3. \n",
      "Starting experimental run with id: 4. \n",
      "Starting experimental run with id: 5. \n",
      "Starting experimental run with id: 6. \n",
      "Starting experimental run with id: 7. \n"
     ]
    },
    {
     "name": "stdout",
     "output_type": "stream",
     "text": [
      "Starting experimental run with id: 8. \n"
     ]
    },
    {
     "name": "stdout",
     "output_type": "stream",
     "text": [
      "Starting experimental run with id: 9. \n"
     ]
    },
    {
     "name": "stdout",
     "output_type": "stream",
     "text": [
      "Starting experimental run with id: 10. \n",
      "Starting experimental run with id: 11. \n"
     ]
    },
    {
     "name": "stdout",
     "output_type": "stream",
     "text": [
      "Starting experimental run with id: 12. \n",
      "Starting experimental run with id: 13. \n"
     ]
    },
    {
     "name": "stdout",
     "output_type": "stream",
     "text": [
      "Starting experimental run with id: 14. \n"
     ]
    }
   ],
   "source": [
    "sizes = [1,500,1000,2000,3000,4000,5000]\n",
    "t_numeric = []\n",
    "t_numeric_add = []\n",
    "t_array = []\n",
    "t_array_add = []\n",
    "for size in sizes:\n",
    "    tn, tna, run_id_n =  insert_data('numeric', size)\n",
    "    t_numeric.append(tn)\n",
    "    t_numeric_add.append(tna)\n",
    "\n",
    "    ta, taa, run_id_a =  insert_data('array', size)\n",
    "    t_array.append(ta)\n",
    "    t_array_add.append(taa)"
   ]
  },
  {
   "cell_type": "code",
   "execution_count": 6,
   "metadata": {
    "execution": {
     "iopub.execute_input": "2021-04-09T06:18:54.747553Z",
     "iopub.status.busy": "2021-04-09T06:18:54.742822Z",
     "iopub.status.idle": "2021-04-09T06:18:54.902312Z",
     "shell.execute_reply": "2021-04-09T06:18:54.902707Z"
    }
   },
   "outputs": [
    {
     "data": {
      "image/png": "[encoded data removed]",
      "text/plain": [
       "<Figure size 432x288 with 1 Axes>"
      ]
     },
     "metadata": {
      "needs_background": "light"
     },
     "output_type": "display_data"
    }
   ],
   "source": [
    "fig, ax = plt.subplots(1,1)\n",
    "ax.plot(sizes, t_numeric, 'o-', label='Inserting row-by-row')\n",
    "ax.plot(sizes, t_numeric_add, 'o-', label='Inserting row-by-row: add_result only')\n",
    "ax.plot(sizes, t_array, 'd-', label='Inserting as binary blob')\n",
    "ax.plot(sizes, t_array_add, 'd-', label='Inserting as binary blob: add_result only')\n",
    "ax.legend()\n",
    "ax.set_xlabel('Array length')\n",
    "ax.set_ylabel('Time (s)')\n",
    "fig.tight_layout()"
   ]
  },
  {
   "cell_type": "markdown",
   "metadata": {},
   "source": [
    "As shown in the latter figure, the time to setup and and close the experiment is approximately 0.4 sec. In case of small array sizes, the difference between inserting values of data as arrays and inserting them row-by-row is relatively unimportant. At larger array sizes, i.e. above 10000 points, the cost of writing data as individual datapoints starts to become important.\n"
   ]
  },
  {
   "cell_type": "markdown",
   "metadata": {},
   "source": [
    "### Case2: Long experiment time "
   ]
  },
  {
   "cell_type": "code",
   "execution_count": 7,
   "metadata": {
    "execution": {
     "iopub.execute_input": "2021-04-09T06:18:54.909228Z",
     "iopub.status.busy": "2021-04-09T06:18:54.907356Z",
     "iopub.status.idle": "2021-04-09T06:19:40.170026Z",
     "shell.execute_reply": "2021-04-09T06:19:40.170544Z"
    }
   },
   "outputs": [
    {
     "name": "stdout",
     "output_type": "stream",
     "text": [
      "Starting experimental run with id: 15. \n"
     ]
    },
    {
     "name": "stdout",
     "output_type": "stream",
     "text": [
      "Starting experimental run with id: 16. \n",
      "Starting experimental run with id: 17. \n"
     ]
    },
    {
     "name": "stdout",
     "output_type": "stream",
     "text": [
      "Starting experimental run with id: 18. \n",
      "Starting experimental run with id: 19. \n"
     ]
    },
    {
     "name": "stdout",
     "output_type": "stream",
     "text": [
      "Starting experimental run with id: 20. \n"
     ]
    },
    {
     "name": "stdout",
     "output_type": "stream",
     "text": [
      "Starting experimental run with id: 21. \n"
     ]
    },
    {
     "name": "stdout",
     "output_type": "stream",
     "text": [
      "Starting experimental run with id: 22. \n"
     ]
    },
    {
     "name": "stdout",
     "output_type": "stream",
     "text": [
      "Starting experimental run with id: 23. \n"
     ]
    },
    {
     "name": "stdout",
     "output_type": "stream",
     "text": [
      "Starting experimental run with id: 24. \n"
     ]
    },
    {
     "name": "stdout",
     "output_type": "stream",
     "text": [
      "Starting experimental run with id: 25. \n"
     ]
    },
    {
     "name": "stdout",
     "output_type": "stream",
     "text": [
      "Starting experimental run with id: 26. \n"
     ]
    },
    {
     "name": "stdout",
     "output_type": "stream",
     "text": [
      "Starting experimental run with id: 27. \n"
     ]
    },
    {
     "name": "stdout",
     "output_type": "stream",
     "text": [
      "Starting experimental run with id: 28. \n"
     ]
    }
   ],
   "source": [
    "sizes = [1,500,1000,2000,3000,4000,5000]\n",
    "nreps = 100\n",
    "t_numeric = []\n",
    "t_numeric_add = []\n",
    "t_numeric_run_ids = []\n",
    "t_array = []\n",
    "t_array_add = []\n",
    "t_array_run_ids = []\n",
    "for size in sizes:\n",
    "    tn, tna, run_id_n =  insert_data('numeric', size, nreps=nreps)\n",
    "    t_numeric.append(tn)\n",
    "    t_numeric_add.append(tna)\n",
    "    t_numeric_run_ids.append(run_id_n)\n",
    "\n",
    "    ta, taa, run_id_a =  insert_data('array', size, nreps=nreps)\n",
    "    t_array.append(ta)\n",
    "    t_array_add.append(taa)\n",
    "    t_array_run_ids.append(run_id_a)"
   ]
  },
  {
   "cell_type": "code",
   "execution_count": 8,
   "metadata": {
    "execution": {
     "iopub.execute_input": "2021-04-09T06:19:40.205267Z",
     "iopub.status.busy": "2021-04-09T06:19:40.195537Z",
     "iopub.status.idle": "2021-04-09T06:19:40.314383Z",
     "shell.execute_reply": "2021-04-09T06:19:40.314978Z"
    },
    "scrolled": true
   },
   "outputs": [
    {
     "data": {
      "image/png": "[encoded data removed]",
      "text/plain": [
       "<Figure size 432x288 with 1 Axes>"
      ]
     },
     "metadata": {
      "needs_background": "light"
     },
     "output_type": "display_data"
    }
   ],
   "source": [
    "fig, ax = plt.subplots(1,1)\n",
    "ax.plot(sizes, t_numeric, 'o-', label='Inserting row-by-row')\n",
    "ax.plot(sizes, t_numeric_add, 'o-', label='Inserting row-by-row: add_result only')\n",
    "ax.plot(sizes, t_array, 'd-', label='Inserting as binary blob')\n",
    "ax.plot(sizes, t_array_add, 'd-', label='Inserting as binary blob: add_result only')\n",
    "ax.legend()\n",
    "ax.set_xlabel('Array length')\n",
    "ax.set_ylabel('Time (s)')\n",
    "fig.tight_layout()"
   ]
  },
  {
   "cell_type": "markdown",
   "metadata": {},
   "source": [
    "However, as we increase the length of the experiment, as seen here by repeating the insertion 100 times, we see a big difference between inserting values of the data row-by-row and inserting it as a binary blob."
   ]
  },
  {
   "cell_type": "markdown",
   "metadata": {},
   "source": [
    "## Loading the data "
   ]
  },
  {
   "cell_type": "code",
   "execution_count": 9,
   "metadata": {
    "execution": {
     "iopub.execute_input": "2021-04-09T06:19:40.317715Z",
     "iopub.status.busy": "2021-04-09T06:19:40.316850Z",
     "iopub.status.idle": "2021-04-09T06:19:40.320848Z",
     "shell.execute_reply": "2021-04-09T06:19:40.321457Z"
    }
   },
   "outputs": [],
   "source": [
    "from qcodes.dataset.data_set import load_by_id\n",
    "from qcodes.dataset.data_export import get_data_by_id"
   ]
  },
  {
   "cell_type": "markdown",
   "metadata": {},
   "source": [
    "As usual you can load the data by using the ``load_by_id`` function but you will notice that the different storage methods\n",
    "are reflected in shape of the data as it is retrieved. "
   ]
  },
  {
   "cell_type": "code",
   "execution_count": 10,
   "metadata": {
    "execution": {
     "iopub.execute_input": "2021-04-09T06:19:40.324057Z",
     "iopub.status.busy": "2021-04-09T06:19:40.323265Z",
     "iopub.status.idle": "2021-04-09T06:19:40.326615Z",
     "shell.execute_reply": "2021-04-09T06:19:40.327176Z"
    }
   },
   "outputs": [],
   "source": [
    "run_id_n = t_numeric_run_ids[0]\n",
    "run_id_a = t_array_run_ids[0]"
   ]
  },
  {
   "cell_type": "code",
   "execution_count": 11,
   "metadata": {
    "execution": {
     "iopub.execute_input": "2021-04-09T06:19:40.330040Z",
     "iopub.status.busy": "2021-04-09T06:19:40.329187Z",
     "iopub.status.idle": "2021-04-09T06:19:40.339675Z",
     "shell.execute_reply": "2021-04-09T06:19:40.339297Z"
    },
    "scrolled": true
   },
   "outputs": [
    {
     "data": {
      "text/plain": [
       "{'x1': {'x1': array([0.19002558, 0.19002558, 0.88478939, 0.88478939, 0.9169392 ,\n",
       "         0.9169392 , 0.41848722, 0.41848722, 0.46214328, 0.46214328,\n",
       "         0.10404239, 0.10404239, 0.36117896, 0.36117896, 0.52406693,\n",
       "         0.52406693, 0.82440707, 0.82440707, 0.88125509, 0.88125509,\n",
       "         0.43765056, 0.43765056, 0.45425778, 0.45425778, 0.8035218 ,\n",
       "         0.8035218 , 0.1318852 , 0.1318852 , 0.58049062, 0.58049062,\n",
       "         0.05334405, 0.05334405, 0.19712758, 0.19712758, 0.58456781,\n",
       "         0.58456781, 0.08217244, 0.08217244, 0.36521013, 0.36521013,\n",
       "         0.20380562, 0.20380562, 0.33132656, 0.33132656, 0.32219834,\n",
       "         0.32219834, 0.25664243, 0.25664243, 0.15505526, 0.15505526,\n",
       "         0.35925769, 0.35925769, 0.06167352, 0.06167352, 0.99231295,\n",
       "         0.99231295, 0.79123777, 0.79123777, 0.84508186, 0.84508186,\n",
       "         0.05315313, 0.05315313, 0.7097408 , 0.7097408 , 0.70829329,\n",
       "         0.70829329, 0.77068854, 0.77068854, 0.25535647, 0.25535647,\n",
       "         0.5849271 , 0.5849271 , 0.82328057, 0.82328057, 0.02632399,\n",
       "         0.02632399, 0.67040631, 0.67040631, 0.96496519, 0.96496519,\n",
       "         0.31691338, 0.31691338, 0.63004691, 0.63004691, 0.91633197,\n",
       "         0.91633197, 0.16435269, 0.16435269, 0.484597  , 0.484597  ,\n",
       "         0.81149624, 0.81149624, 0.10301609, 0.10301609, 0.34932623,\n",
       "         0.34932623, 0.06390056, 0.06390056, 0.59858951, 0.59858951,\n",
       "         0.62734757, 0.62734757, 0.58244466, 0.58244466, 0.63750105,\n",
       "         0.63750105, 0.70795705, 0.70795705, 0.23215033, 0.23215033,\n",
       "         0.7321068 , 0.7321068 , 0.72778069, 0.72778069, 0.53220964,\n",
       "         0.53220964, 0.3359526 , 0.3359526 , 0.76107402, 0.76107402,\n",
       "         0.77358894, 0.77358894, 0.72565712, 0.72565712, 0.35322774,\n",
       "         0.35322774, 0.76222093, 0.76222093, 0.21483302, 0.21483302,\n",
       "         0.50041885, 0.50041885, 0.36304243, 0.36304243, 0.86113228,\n",
       "         0.86113228, 0.93432769, 0.93432769, 0.16700592, 0.16700592,\n",
       "         0.14278285, 0.14278285, 0.26223311, 0.26223311, 0.05980374,\n",
       "         0.05980374, 0.87566016, 0.87566016, 0.45406425, 0.45406425,\n",
       "         0.73228249, 0.73228249, 0.35446096, 0.35446096, 0.01626777,\n",
       "         0.01626777, 0.41167559, 0.41167559, 0.45570144, 0.45570144,\n",
       "         0.18214954, 0.18214954, 0.63123359, 0.63123359, 0.579357  ,\n",
       "         0.579357  , 0.5682496 , 0.5682496 , 0.2018071 , 0.2018071 ,\n",
       "         0.39768556, 0.39768556, 0.95101755, 0.95101755, 0.00113291,\n",
       "         0.00113291, 0.40018958, 0.40018958, 0.0383379 , 0.0383379 ,\n",
       "         0.56327957, 0.56327957, 0.1952246 , 0.1952246 , 0.60206408,\n",
       "         0.60206408, 0.61216328, 0.61216328, 0.98166859, 0.98166859,\n",
       "         0.81153995, 0.81153995, 0.07937275, 0.07937275, 0.8904222 ,\n",
       "         0.8904222 , 0.74202874, 0.74202874, 0.08267433, 0.08267433])}}"
      ]
     },
     "execution_count": 1,
     "metadata": {},
     "output_type": "execute_result"
    }
   ],
   "source": [
    "ds = load_by_id(run_id_n)\n",
    "ds.get_parameter_data('x1')"
   ]
  },
  {
   "cell_type": "markdown",
   "metadata": {},
   "source": [
    "And a dataset stored as binary arrays"
   ]
  },
  {
   "cell_type": "code",
   "execution_count": 12,
   "metadata": {
    "execution": {
     "iopub.execute_input": "2021-04-09T06:19:40.342684Z",
     "iopub.status.busy": "2021-04-09T06:19:40.341886Z",
     "iopub.status.idle": "2021-04-09T06:19:40.386334Z",
     "shell.execute_reply": "2021-04-09T06:19:40.385946Z"
    },
    "scrolled": true
   },
   "outputs": [
    {
     "data": {
      "text/plain": [
       "{'x1': {'x1': array([[0.83596234],\n",
       "         [0.83596234],\n",
       "         [0.0867196 ],\n",
       "         [0.0867196 ],\n",
       "         [0.49833733],\n",
       "         [0.49833733],\n",
       "         [0.85594551],\n",
       "         [0.85594551],\n",
       "         [0.94193248],\n",
       "         [0.94193248],\n",
       "         [0.99616555],\n",
       "         [0.99616555],\n",
       "         [0.11747085],\n",
       "         [0.11747085],\n",
       "         [0.40311349],\n",
       "         [0.40311349],\n",
       "         [0.51176069],\n",
       "         [0.51176069],\n",
       "         [0.76111123],\n",
       "         [0.76111123],\n",
       "         [0.92086623],\n",
       "         [0.92086623],\n",
       "         [0.18795127],\n",
       "         [0.18795127],\n",
       "         [0.56409939],\n",
       "         [0.56409939],\n",
       "         [0.48140066],\n",
       "         [0.48140066],\n",
       "         [0.62563325],\n",
       "         [0.62563325],\n",
       "         [0.44359257],\n",
       "         [0.44359257],\n",
       "         [0.88682163],\n",
       "         [0.88682163],\n",
       "         [0.99878175],\n",
       "         [0.99878175],\n",
       "         [0.21464594],\n",
       "         [0.21464594],\n",
       "         [0.77385624],\n",
       "         [0.77385624],\n",
       "         [0.60749044],\n",
       "         [0.60749044],\n",
       "         [0.83480973],\n",
       "         [0.83480973],\n",
       "         [0.76330631],\n",
       "         [0.76330631],\n",
       "         [0.36566368],\n",
       "         [0.36566368],\n",
       "         [0.71956007],\n",
       "         [0.71956007],\n",
       "         [0.94151694],\n",
       "         [0.94151694],\n",
       "         [0.62158706],\n",
       "         [0.62158706],\n",
       "         [0.14755834],\n",
       "         [0.14755834],\n",
       "         [0.23975276],\n",
       "         [0.23975276],\n",
       "         [0.60942725],\n",
       "         [0.60942725],\n",
       "         [0.80593113],\n",
       "         [0.80593113],\n",
       "         [0.72753616],\n",
       "         [0.72753616],\n",
       "         [0.97095883],\n",
       "         [0.97095883],\n",
       "         [0.28746876],\n",
       "         [0.28746876],\n",
       "         [0.32408574],\n",
       "         [0.32408574],\n",
       "         [0.31527005],\n",
       "         [0.31527005],\n",
       "         [0.70973352],\n",
       "         [0.70973352],\n",
       "         [0.33934906],\n",
       "         [0.33934906],\n",
       "         [0.72002708],\n",
       "         [0.72002708],\n",
       "         [0.10401603],\n",
       "         [0.10401603],\n",
       "         [0.5692317 ],\n",
       "         [0.5692317 ],\n",
       "         [0.97631563],\n",
       "         [0.97631563],\n",
       "         [0.80903846],\n",
       "         [0.80903846],\n",
       "         [0.6799827 ],\n",
       "         [0.6799827 ],\n",
       "         [0.90703508],\n",
       "         [0.90703508],\n",
       "         [0.15631789],\n",
       "         [0.15631789],\n",
       "         [0.72076206],\n",
       "         [0.72076206],\n",
       "         [0.23299987],\n",
       "         [0.23299987],\n",
       "         [0.25938528],\n",
       "         [0.25938528],\n",
       "         [0.18827174],\n",
       "         [0.18827174],\n",
       "         [0.01080851],\n",
       "         [0.01080851],\n",
       "         [0.79286369],\n",
       "         [0.79286369],\n",
       "         [0.77722023],\n",
       "         [0.77722023],\n",
       "         [0.67359553],\n",
       "         [0.67359553],\n",
       "         [0.4559369 ],\n",
       "         [0.4559369 ],\n",
       "         [0.77641543],\n",
       "         [0.77641543],\n",
       "         [0.06332278],\n",
       "         [0.06332278],\n",
       "         [0.30254788],\n",
       "         [0.30254788],\n",
       "         [0.68673924],\n",
       "         [0.68673924],\n",
       "         [0.68607448],\n",
       "         [0.68607448],\n",
       "         [0.33186489],\n",
       "         [0.33186489],\n",
       "         [0.43180243],\n",
       "         [0.43180243],\n",
       "         [0.73501375],\n",
       "         [0.73501375],\n",
       "         [0.67094834],\n",
       "         [0.67094834],\n",
       "         [0.34719262],\n",
       "         [0.34719262],\n",
       "         [0.59191565],\n",
       "         [0.59191565],\n",
       "         [0.86027714],\n",
       "         [0.86027714],\n",
       "         [0.70741744],\n",
       "         [0.70741744],\n",
       "         [0.19579929],\n",
       "         [0.19579929],\n",
       "         [0.50034947],\n",
       "         [0.50034947],\n",
       "         [0.32269096],\n",
       "         [0.32269096],\n",
       "         [0.79709461],\n",
       "         [0.79709461],\n",
       "         [0.97019997],\n",
       "         [0.97019997],\n",
       "         [0.63103942],\n",
       "         [0.63103942],\n",
       "         [0.27590635],\n",
       "         [0.27590635],\n",
       "         [0.71165149],\n",
       "         [0.71165149],\n",
       "         [0.71371907],\n",
       "         [0.71371907],\n",
       "         [0.68989074],\n",
       "         [0.68989074],\n",
       "         [0.55969367],\n",
       "         [0.55969367],\n",
       "         [0.07876721],\n",
       "         [0.07876721],\n",
       "         [0.99837205],\n",
       "         [0.99837205],\n",
       "         [0.23752292],\n",
       "         [0.23752292],\n",
       "         [0.26180167],\n",
       "         [0.26180167],\n",
       "         [0.85265727],\n",
       "         [0.85265727],\n",
       "         [0.81920187],\n",
       "         [0.81920187],\n",
       "         [0.23287076],\n",
       "         [0.23287076],\n",
       "         [0.47981129],\n",
       "         [0.47981129],\n",
       "         [0.97225755],\n",
       "         [0.97225755],\n",
       "         [0.56910764],\n",
       "         [0.56910764],\n",
       "         [0.82652397],\n",
       "         [0.82652397],\n",
       "         [0.0496562 ],\n",
       "         [0.0496562 ],\n",
       "         [0.88915851],\n",
       "         [0.88915851],\n",
       "         [0.41641841],\n",
       "         [0.41641841],\n",
       "         [0.97899165],\n",
       "         [0.97899165],\n",
       "         [0.80483804],\n",
       "         [0.80483804],\n",
       "         [0.95722717],\n",
       "         [0.95722717],\n",
       "         [0.12440596],\n",
       "         [0.12440596],\n",
       "         [0.63050475],\n",
       "         [0.63050475],\n",
       "         [0.44144294],\n",
       "         [0.44144294],\n",
       "         [0.59682738],\n",
       "         [0.59682738]])}}"
      ]
     },
     "execution_count": 1,
     "metadata": {},
     "output_type": "execute_result"
    }
   ],
   "source": [
    "ds = load_by_id(run_id_a)\n",
    "ds.get_parameter_data('x1')"
   ]
  },
  {
   "cell_type": "code",
   "execution_count": null,
   "metadata": {},
   "outputs": [],
   "source": []
  }
 ],
 "metadata": {
  "kernelspec": {
   "display_name": "Python 3",
   "language": "python",
   "name": "python3"
  },
  "language_info": {
   "codemirror_mode": {
    "name": "ipython",
    "version": 3
   },
   "file_extension": ".py",
   "mimetype": "text/x-python",
   "name": "python",
   "nbconvert_exporter": "python",
   "pygments_lexer": "ipython3",
   "version": "3.7.10"
  },
  "nbsphinx": {
   "timeout": 600
  },
  "toc": {
   "base_numbering": 1,
   "nav_menu": {},
   "number_sections": true,
   "sideBar": true,
   "skip_h1_title": false,
   "title_cell": "Table of Contents",
   "title_sidebar": "Contents",
   "toc_cell": false,
   "toc_position": {},
   "toc_section_display": true,
   "toc_window_display": false
  },
  "varInspector": {
   "cols": {
    "lenName": 16,
    "lenType": 16,
    "lenVar": 40
   },
   "kernels_config": {
    "python": {
     "delete_cmd_postfix": "",
     "delete_cmd_prefix": "del ",
     "library": "var_list.py",
     "varRefreshCmd": "print(var_dic_list())"
    },
    "r": {
     "delete_cmd_postfix": ") ",
     "delete_cmd_prefix": "rm(",
     "library": "var_list.r",
     "varRefreshCmd": "cat(var_dic_list()) "
    }
   },
   "types_to_exclude": [
    "module",
    "function",
    "builtin_function_or_method",
    "instance",
    "_Feature"
   ],
   "window_display": false
  }
 },
 "nbformat": 4,
 "nbformat_minor": 2
}
