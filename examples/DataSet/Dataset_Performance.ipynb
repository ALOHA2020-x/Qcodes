{
 "cells": [
  {
   "cell_type": "markdown",
   "metadata": {},
   "source": [
    "# DataSet Performance\n",
    "\n",
    "This notebook shows the trade-off between inserting data into a database row-by-row and as binary blobs. Inserting the data row-by-row means that we have direct access to all the data and may perform queries directly on the values of the data. On the other hand, as we shall see, this is much slower than inserting the data directly as binary blobs."
   ]
  },
  {
   "cell_type": "markdown",
   "metadata": {},
   "source": [
    "First, we choose a new location for the database to ensure that we don't add a bunch of benchmarking data to the default one."
   ]
  },
  {
   "cell_type": "code",
   "execution_count": 1,
   "metadata": {
    "execution": {
     "iopub.execute_input": "2021-05-21T06:15:49.428599Z",
     "iopub.status.busy": "2021-05-21T06:15:49.427918Z",
     "iopub.status.idle": "2021-05-21T06:15:50.709997Z",
     "shell.execute_reply": "2021-05-21T06:15:50.709396Z"
    }
   },
   "outputs": [
    {
     "name": "stdout",
     "output_type": "stream",
     "text": [
      "Logging hadn't been started.\n",
      "Activating auto-logging. Current session state plus future input saved.\n",
      "Filename       : /home/runner/.qcodes/logs/command_history.log\n",
      "Mode           : append\n",
      "Output logging : True\n",
      "Raw input log  : False\n",
      "Timestamping   : True\n",
      "State          : active\n"
     ]
    },
    {
     "name": "stdout",
     "output_type": "stream",
     "text": [
      "Qcodes Logfile : /home/runner/.qcodes/logs/210521-4534-qcodes.log\n"
     ]
    }
   ],
   "source": [
    "import os\n",
    "cwd = os.getcwd()\n",
    "import qcodes as qc\n",
    "qc.config[\"core\"][\"db_location\"] = os.path.join(cwd, 'testing.db')\n"
   ]
  },
  {
   "cell_type": "code",
   "execution_count": 2,
   "metadata": {
    "execution": {
     "iopub.execute_input": "2021-05-21T06:15:50.717390Z",
     "iopub.status.busy": "2021-05-21T06:15:50.716710Z",
     "iopub.status.idle": "2021-05-21T06:15:50.931814Z",
     "shell.execute_reply": "2021-05-21T06:15:50.932303Z"
    }
   },
   "outputs": [],
   "source": [
    "%matplotlib inline\n",
    "import time\n",
    "import matplotlib.pyplot as plt\n",
    "import numpy as np\n",
    "\n",
    "import qcodes as qc\n",
    "from qcodes.instrument.parameter import ManualParameter\n",
    "from qcodes.dataset.experiment_container import (Experiment,\n",
    "                                                 load_last_experiment,\n",
    "                                                 new_experiment)\n",
    "from qcodes.dataset.sqlite.database import initialise_database\n",
    "from qcodes import load_or_create_experiment\n",
    "from qcodes.dataset.measurements import Measurement"
   ]
  },
  {
   "cell_type": "code",
   "execution_count": 3,
   "metadata": {
    "execution": {
     "iopub.execute_input": "2021-05-21T06:15:50.937037Z",
     "iopub.status.busy": "2021-05-21T06:15:50.936400Z",
     "iopub.status.idle": "2021-05-21T06:15:51.007144Z",
     "shell.execute_reply": "2021-05-21T06:15:51.007820Z"
    }
   },
   "outputs": [
    {
     "name": "stdout",
     "output_type": "stream",
     "text": [
      "\r",
      "0it [00:00, ?it/s]"
     ]
    },
    {
     "name": "stdout",
     "output_type": "stream",
     "text": [
      "\r",
      "Upgrading database; v0 -> v1: : 0it [00:00, ?it/s]"
     ]
    },
    {
     "name": "stdout",
     "output_type": "stream",
     "text": [
      "\r",
      "Upgrading database; v0 -> v1: : 0it [00:00, ?it/s]"
     ]
    },
    {
     "name": "stdout",
     "output_type": "stream",
     "text": [
      "\n",
      "\r",
      "  0%|          | 0/1 [00:00<?, ?it/s]"
     ]
    },
    {
     "name": "stdout",
     "output_type": "stream",
     "text": [
      "\r",
      "Upgrading database; v1 -> v2:   0%|          | 0/1 [00:00<?, ?it/s]"
     ]
    },
    {
     "name": "stdout",
     "output_type": "stream",
     "text": [
      "\r",
      "Upgrading database; v1 -> v2: 100%|██████████| 1/1 [00:00<00:00, 839.36it/s]"
     ]
    },
    {
     "name": "stdout",
     "output_type": "stream",
     "text": [
      "\n",
      "\r",
      "0it [00:00, ?it/s]"
     ]
    },
    {
     "name": "stdout",
     "output_type": "stream",
     "text": [
      "\r",
      "Upgrading database; v2 -> v3: : 0it [00:00, ?it/s]"
     ]
    },
    {
     "name": "stdout",
     "output_type": "stream",
     "text": [
      "\r",
      "Upgrading database; v2 -> v3: : 0it [00:00, ?it/s]"
     ]
    },
    {
     "name": "stdout",
     "output_type": "stream",
     "text": [
      "\n",
      "\r",
      "0it [00:00, ?it/s]"
     ]
    },
    {
     "name": "stdout",
     "output_type": "stream",
     "text": [
      "\r",
      "Upgrading database; v3 -> v4: : 0it [00:00, ?it/s]"
     ]
    },
    {
     "name": "stdout",
     "output_type": "stream",
     "text": [
      "\r",
      "Upgrading database; v3 -> v4: : 0it [00:00, ?it/s]"
     ]
    },
    {
     "name": "stdout",
     "output_type": "stream",
     "text": [
      "\n",
      "\r",
      "  0%|          | 0/1 [00:00<?, ?it/s]"
     ]
    },
    {
     "name": "stdout",
     "output_type": "stream",
     "text": [
      "\r",
      "Upgrading database; v4 -> v5:   0%|          | 0/1 [00:00<?, ?it/s]"
     ]
    },
    {
     "name": "stdout",
     "output_type": "stream",
     "text": [
      "\r",
      "Upgrading database; v4 -> v5: 100%|██████████| 1/1 [00:00<00:00, 714.29it/s]"
     ]
    },
    {
     "name": "stdout",
     "output_type": "stream",
     "text": [
      "\n",
      "\r",
      "0it [00:00, ?it/s]"
     ]
    },
    {
     "name": "stdout",
     "output_type": "stream",
     "text": [
      "\r",
      "Upgrading database; v5 -> v6: : 0it [00:00, ?it/s]"
     ]
    },
    {
     "name": "stdout",
     "output_type": "stream",
     "text": [
      "\r",
      "Upgrading database; v5 -> v6: : 0it [00:00, ?it/s]"
     ]
    },
    {
     "name": "stdout",
     "output_type": "stream",
     "text": [
      "\n",
      "\r",
      "  0%|          | 0/1 [00:00<?, ?it/s]"
     ]
    },
    {
     "name": "stdout",
     "output_type": "stream",
     "text": [
      "\r",
      "Upgrading database; v6 -> v7:   0%|          | 0/1 [00:00<?, ?it/s]"
     ]
    },
    {
     "name": "stdout",
     "output_type": "stream",
     "text": [
      "\r",
      "Upgrading database; v6 -> v7: 100%|██████████| 1/1 [00:00<00:00, 350.64it/s]"
     ]
    },
    {
     "name": "stdout",
     "output_type": "stream",
     "text": [
      "\n",
      "\r",
      "  0%|          | 0/1 [00:00<?, ?it/s]"
     ]
    },
    {
     "name": "stdout",
     "output_type": "stream",
     "text": [
      "\r",
      "Upgrading database; v7 -> v8:   0%|          | 0/1 [00:00<?, ?it/s]"
     ]
    },
    {
     "name": "stdout",
     "output_type": "stream",
     "text": [
      "\r",
      "Upgrading database; v7 -> v8: 100%|██████████| 1/1 [00:00<00:00, 641.43it/s]"
     ]
    },
    {
     "name": "stdout",
     "output_type": "stream",
     "text": [
      "\n",
      "\r",
      "  0%|          | 0/1 [00:00<?, ?it/s]"
     ]
    },
    {
     "name": "stdout",
     "output_type": "stream",
     "text": [
      "\r",
      "Upgrading database; v8 -> v9:   0%|          | 0/1 [00:00<?, ?it/s]"
     ]
    },
    {
     "name": "stdout",
     "output_type": "stream",
     "text": [
      "\r",
      "Upgrading database; v8 -> v9: 100%|██████████| 1/1 [00:00<00:00, 955.86it/s]"
     ]
    },
    {
     "name": "stdout",
     "output_type": "stream",
     "text": [
      "\n"
     ]
    }
   ],
   "source": [
    "initialise_database()\n",
    "exp = load_or_create_experiment(experiment_name='tutorial_exp', sample_name=\"no sample\")"
   ]
  },
  {
   "cell_type": "markdown",
   "metadata": {},
   "source": [
    "Here, we define a simple function to benchmark the time it takes to insert n points with either numeric or array data type.\n",
    "We will compare both the time used to call ``add_result`` and the time used for the full measurement."
   ]
  },
  {
   "cell_type": "code",
   "execution_count": 4,
   "metadata": {
    "execution": {
     "iopub.execute_input": "2021-05-21T06:15:51.017561Z",
     "iopub.status.busy": "2021-05-21T06:15:51.015886Z",
     "iopub.status.idle": "2021-05-21T06:15:51.019591Z",
     "shell.execute_reply": "2021-05-21T06:15:51.020076Z"
    }
   },
   "outputs": [],
   "source": [
    "def insert_data(paramtype, npoints, nreps=1):\n",
    "\n",
    "    meas = Measurement(exp=exp)\n",
    "\n",
    "    x1 = ManualParameter('x1')\n",
    "    x2 = ManualParameter('x2')\n",
    "    x3 = ManualParameter('x3')\n",
    "    y1 = ManualParameter('y1')\n",
    "    y2 = ManualParameter('y2')\n",
    "\n",
    "    meas.register_parameter(x1, paramtype=paramtype)\n",
    "    meas.register_parameter(x2, paramtype=paramtype)\n",
    "    meas.register_parameter(x3, paramtype=paramtype)\n",
    "    meas.register_parameter(y1, setpoints=[x1, x2, x3],\n",
    "                            paramtype=paramtype)\n",
    "    meas.register_parameter(y2, setpoints=[x1, x2, x3],\n",
    "                            paramtype=paramtype)\n",
    "    start = time.perf_counter()\n",
    "    with meas.run() as datasaver:\n",
    "        start_adding = time.perf_counter()\n",
    "        for i in range(nreps):\n",
    "            datasaver.add_result((x1, np.random.rand(npoints)),\n",
    "                                 (x2, np.random.rand(npoints)),\n",
    "                                 (x3, np.random.rand(npoints)),\n",
    "                                 (y1, np.random.rand(npoints)),\n",
    "                                 (y2, np.random.rand(npoints)))\n",
    "        stop_adding = time.perf_counter()\n",
    "        run_id = datasaver.run_id\n",
    "    stop = time.perf_counter()\n",
    "    tot_time = stop - start\n",
    "    add_time = stop_adding - start_adding\n",
    "    return tot_time, add_time, run_id"
   ]
  },
  {
   "cell_type": "markdown",
   "metadata": {},
   "source": [
    "## Comparison between numeric/array data and binary blob"
   ]
  },
  {
   "cell_type": "markdown",
   "metadata": {},
   "source": [
    "### Case1: Short experiment time"
   ]
  },
  {
   "cell_type": "code",
   "execution_count": 5,
   "metadata": {
    "execution": {
     "iopub.execute_input": "2021-05-21T06:15:51.027032Z",
     "iopub.status.busy": "2021-05-21T06:15:51.025778Z",
     "iopub.status.idle": "2021-05-21T06:15:51.871594Z",
     "shell.execute_reply": "2021-05-21T06:15:51.871038Z"
    }
   },
   "outputs": [
    {
     "name": "stdout",
     "output_type": "stream",
     "text": [
      "Starting experimental run with id: 1. \n",
      "Starting experimental run with id: 2. \n",
      "Starting experimental run with id: 3. \n"
     ]
    },
    {
     "name": "stdout",
     "output_type": "stream",
     "text": [
      "Starting experimental run with id: 4. \n"
     ]
    },
    {
     "name": "stdout",
     "output_type": "stream",
     "text": [
      "Starting experimental run with id: 5. \n"
     ]
    },
    {
     "name": "stdout",
     "output_type": "stream",
     "text": [
      "Starting experimental run with id: 6. \n",
      "Starting experimental run with id: 7. \n",
      "Starting experimental run with id: 8. \n"
     ]
    },
    {
     "name": "stdout",
     "output_type": "stream",
     "text": [
      "Starting experimental run with id: 9. \n"
     ]
    },
    {
     "name": "stdout",
     "output_type": "stream",
     "text": [
      "Starting experimental run with id: 10. \n",
      "Starting experimental run with id: 11. \n"
     ]
    },
    {
     "name": "stdout",
     "output_type": "stream",
     "text": [
      "Starting experimental run with id: 12. \n",
      "Starting experimental run with id: 13. \n"
     ]
    },
    {
     "name": "stdout",
     "output_type": "stream",
     "text": [
      "Starting experimental run with id: 14. \n"
     ]
    }
   ],
   "source": [
    "sizes = [1,500,1000,2000,3000,4000,5000]\n",
    "t_numeric = []\n",
    "t_numeric_add = []\n",
    "t_array = []\n",
    "t_array_add = []\n",
    "for size in sizes:\n",
    "    tn, tna, run_id_n =  insert_data('numeric', size)\n",
    "    t_numeric.append(tn)\n",
    "    t_numeric_add.append(tna)\n",
    "\n",
    "    ta, taa, run_id_a =  insert_data('array', size)\n",
    "    t_array.append(ta)\n",
    "    t_array_add.append(taa)"
   ]
  },
  {
   "cell_type": "code",
   "execution_count": 6,
   "metadata": {
    "execution": {
     "iopub.execute_input": "2021-05-21T06:15:51.894222Z",
     "iopub.status.busy": "2021-05-21T06:15:51.882541Z",
     "iopub.status.idle": "2021-05-21T06:15:52.154054Z",
     "shell.execute_reply": "2021-05-21T06:15:52.154524Z"
    }
   },
   "outputs": [
    {
     "data": {
      "image/png": "[encoded data removed]",
      "text/plain": [
       "<Figure size 432x288 with 1 Axes>"
      ]
     },
     "metadata": {
      "needs_background": "light"
     },
     "output_type": "display_data"
    }
   ],
   "source": [
    "fig, ax = plt.subplots(1,1)\n",
    "ax.plot(sizes, t_numeric, 'o-', label='Inserting row-by-row')\n",
    "ax.plot(sizes, t_numeric_add, 'o-', label='Inserting row-by-row: add_result only')\n",
    "ax.plot(sizes, t_array, 'd-', label='Inserting as binary blob')\n",
    "ax.plot(sizes, t_array_add, 'd-', label='Inserting as binary blob: add_result only')\n",
    "ax.legend()\n",
    "ax.set_xlabel('Array length')\n",
    "ax.set_ylabel('Time (s)')\n",
    "fig.tight_layout()"
   ]
  },
  {
   "cell_type": "markdown",
   "metadata": {},
   "source": [
    "As shown in the latter figure, the time to setup and and close the experiment is approximately 0.4 sec. In case of small array sizes, the difference between inserting values of data as arrays and inserting them row-by-row is relatively unimportant. At larger array sizes, i.e. above 10000 points, the cost of writing data as individual datapoints starts to become important.\n"
   ]
  },
  {
   "cell_type": "markdown",
   "metadata": {},
   "source": [
    "### Case2: Long experiment time "
   ]
  },
  {
   "cell_type": "code",
   "execution_count": 7,
   "metadata": {
    "execution": {
     "iopub.execute_input": "2021-05-21T06:15:52.161785Z",
     "iopub.status.busy": "2021-05-21T06:15:52.161221Z",
     "iopub.status.idle": "2021-05-21T06:16:49.952182Z",
     "shell.execute_reply": "2021-05-21T06:16:49.952757Z"
    }
   },
   "outputs": [
    {
     "name": "stdout",
     "output_type": "stream",
     "text": [
      "Starting experimental run with id: 15. \n",
      "Starting experimental run with id: 16. \n"
     ]
    },
    {
     "name": "stdout",
     "output_type": "stream",
     "text": [
      "Starting experimental run with id: 17. \n"
     ]
    },
    {
     "name": "stdout",
     "output_type": "stream",
     "text": [
      "Starting experimental run with id: 18. \n"
     ]
    },
    {
     "name": "stdout",
     "output_type": "stream",
     "text": [
      "Starting experimental run with id: 19. \n"
     ]
    },
    {
     "name": "stdout",
     "output_type": "stream",
     "text": [
      "Starting experimental run with id: 20. \n"
     ]
    },
    {
     "name": "stdout",
     "output_type": "stream",
     "text": [
      "Starting experimental run with id: 21. \n"
     ]
    },
    {
     "name": "stdout",
     "output_type": "stream",
     "text": [
      "Starting experimental run with id: 22. \n"
     ]
    },
    {
     "name": "stdout",
     "output_type": "stream",
     "text": [
      "Starting experimental run with id: 23. \n"
     ]
    },
    {
     "name": "stdout",
     "output_type": "stream",
     "text": [
      "Starting experimental run with id: 24. \n"
     ]
    },
    {
     "name": "stdout",
     "output_type": "stream",
     "text": [
      "Starting experimental run with id: 25. \n"
     ]
    },
    {
     "name": "stdout",
     "output_type": "stream",
     "text": [
      "Starting experimental run with id: 26. \n"
     ]
    },
    {
     "name": "stdout",
     "output_type": "stream",
     "text": [
      "Starting experimental run with id: 27. \n"
     ]
    },
    {
     "name": "stdout",
     "output_type": "stream",
     "text": [
      "Starting experimental run with id: 28. \n"
     ]
    }
   ],
   "source": [
    "sizes = [1,500,1000,2000,3000,4000,5000]\n",
    "nreps = 100\n",
    "t_numeric = []\n",
    "t_numeric_add = []\n",
    "t_numeric_run_ids = []\n",
    "t_array = []\n",
    "t_array_add = []\n",
    "t_array_run_ids = []\n",
    "for size in sizes:\n",
    "    tn, tna, run_id_n =  insert_data('numeric', size, nreps=nreps)\n",
    "    t_numeric.append(tn)\n",
    "    t_numeric_add.append(tna)\n",
    "    t_numeric_run_ids.append(run_id_n)\n",
    "\n",
    "    ta, taa, run_id_a =  insert_data('array', size, nreps=nreps)\n",
    "    t_array.append(ta)\n",
    "    t_array_add.append(taa)\n",
    "    t_array_run_ids.append(run_id_a)"
   ]
  },
  {
   "cell_type": "code",
   "execution_count": 8,
   "metadata": {
    "execution": {
     "iopub.execute_input": "2021-05-21T06:16:49.958234Z",
     "iopub.status.busy": "2021-05-21T06:16:49.957549Z",
     "iopub.status.idle": "2021-05-21T06:16:50.210997Z",
     "shell.execute_reply": "2021-05-21T06:16:50.212009Z"
    },
    "scrolled": true
   },
   "outputs": [
    {
     "data": {
      "image/png": "[encoded data removed]",
      "text/plain": [
       "<Figure size 432x288 with 1 Axes>"
      ]
     },
     "metadata": {
      "needs_background": "light"
     },
     "output_type": "display_data"
    }
   ],
   "source": [
    "fig, ax = plt.subplots(1,1)\n",
    "ax.plot(sizes, t_numeric, 'o-', label='Inserting row-by-row')\n",
    "ax.plot(sizes, t_numeric_add, 'o-', label='Inserting row-by-row: add_result only')\n",
    "ax.plot(sizes, t_array, 'd-', label='Inserting as binary blob')\n",
    "ax.plot(sizes, t_array_add, 'd-', label='Inserting as binary blob: add_result only')\n",
    "ax.legend()\n",
    "ax.set_xlabel('Array length')\n",
    "ax.set_ylabel('Time (s)')\n",
    "fig.tight_layout()"
   ]
  },
  {
   "cell_type": "markdown",
   "metadata": {},
   "source": [
    "However, as we increase the length of the experiment, as seen here by repeating the insertion 100 times, we see a big difference between inserting values of the data row-by-row and inserting it as a binary blob."
   ]
  },
  {
   "cell_type": "markdown",
   "metadata": {},
   "source": [
    "## Loading the data "
   ]
  },
  {
   "cell_type": "code",
   "execution_count": 9,
   "metadata": {
    "execution": {
     "iopub.execute_input": "2021-05-21T06:16:50.216645Z",
     "iopub.status.busy": "2021-05-21T06:16:50.216033Z",
     "iopub.status.idle": "2021-05-21T06:16:50.218290Z",
     "shell.execute_reply": "2021-05-21T06:16:50.218819Z"
    }
   },
   "outputs": [],
   "source": [
    "from qcodes.dataset.data_set import load_by_id"
   ]
  },
  {
   "cell_type": "markdown",
   "metadata": {},
   "source": [
    "As usual you can load the data by using the ``load_by_id`` function but you will notice that the different storage methods\n",
    "are reflected in shape of the data as it is retrieved. "
   ]
  },
  {
   "cell_type": "code",
   "execution_count": 10,
   "metadata": {
    "execution": {
     "iopub.execute_input": "2021-05-21T06:16:50.222704Z",
     "iopub.status.busy": "2021-05-21T06:16:50.222142Z",
     "iopub.status.idle": "2021-05-21T06:16:50.224968Z",
     "shell.execute_reply": "2021-05-21T06:16:50.224330Z"
    }
   },
   "outputs": [],
   "source": [
    "run_id_n = t_numeric_run_ids[0]\n",
    "run_id_a = t_array_run_ids[0]"
   ]
  },
  {
   "cell_type": "code",
   "execution_count": 11,
   "metadata": {
    "execution": {
     "iopub.execute_input": "2021-05-21T06:16:50.228405Z",
     "iopub.status.busy": "2021-05-21T06:16:50.227821Z",
     "iopub.status.idle": "2021-05-21T06:16:50.239432Z",
     "shell.execute_reply": "2021-05-21T06:16:50.238617Z"
    },
    "scrolled": true
   },
   "outputs": [
    {
     "data": {
      "text/plain": [
       "{'x1': {'x1': array([7.16226157e-01, 7.16226157e-01, 1.06744838e-01, 1.06744838e-01,\n",
       "         9.08891569e-01, 9.08891569e-01, 8.15435615e-01, 8.15435615e-01,\n",
       "         6.89422180e-01, 6.89422180e-01, 1.21678108e-01, 1.21678108e-01,\n",
       "         9.41213836e-01, 9.41213836e-01, 4.59744408e-01, 4.59744408e-01,\n",
       "         1.14117770e-01, 1.14117770e-01, 1.64884101e-01, 1.64884101e-01,\n",
       "         9.84435252e-04, 9.84435252e-04, 8.59875125e-02, 8.59875125e-02,\n",
       "         3.88034973e-01, 3.88034973e-01, 5.17072332e-01, 5.17072332e-01,\n",
       "         7.63063783e-01, 7.63063783e-01, 7.60287463e-01, 7.60287463e-01,\n",
       "         7.84126446e-01, 7.84126446e-01, 4.43666900e-01, 4.43666900e-01,\n",
       "         5.56538099e-01, 5.56538099e-01, 8.19631423e-01, 8.19631423e-01,\n",
       "         5.79241395e-01, 5.79241395e-01, 1.22384095e-01, 1.22384095e-01,\n",
       "         6.01002178e-01, 6.01002178e-01, 1.24337948e-01, 1.24337948e-01,\n",
       "         1.77544528e-01, 1.77544528e-01, 6.37836632e-01, 6.37836632e-01,\n",
       "         7.74000833e-01, 7.74000833e-01, 4.24839370e-02, 4.24839370e-02,\n",
       "         7.07638187e-01, 7.07638187e-01, 7.12920408e-01, 7.12920408e-01,\n",
       "         1.43761102e-01, 1.43761102e-01, 3.85402013e-01, 3.85402013e-01,\n",
       "         3.22400704e-01, 3.22400704e-01, 2.28605951e-01, 2.28605951e-01,\n",
       "         5.62128305e-01, 5.62128305e-01, 7.60322324e-01, 7.60322324e-01,\n",
       "         2.02509493e-01, 2.02509493e-01, 2.63814689e-01, 2.63814689e-01,\n",
       "         6.55039086e-01, 6.55039086e-01, 9.04324531e-01, 9.04324531e-01,\n",
       "         1.39272235e-01, 1.39272235e-01, 3.66944648e-01, 3.66944648e-01,\n",
       "         5.97398365e-01, 5.97398365e-01, 8.72360095e-01, 8.72360095e-01,\n",
       "         2.13649243e-01, 2.13649243e-01, 3.22543659e-02, 3.22543659e-02,\n",
       "         4.64841545e-01, 4.64841545e-01, 4.87936614e-01, 4.87936614e-01,\n",
       "         4.43714207e-01, 4.43714207e-01, 1.73633618e-01, 1.73633618e-01,\n",
       "         4.76581998e-01, 4.76581998e-01, 2.03013002e-01, 2.03013002e-01,\n",
       "         7.50457873e-01, 7.50457873e-01, 9.94597741e-01, 9.94597741e-01,\n",
       "         7.69375548e-01, 7.69375548e-01, 9.51925205e-01, 9.51925205e-01,\n",
       "         4.60741835e-01, 4.60741835e-01, 6.70268743e-01, 6.70268743e-01,\n",
       "         1.82557764e-01, 1.82557764e-01, 3.01917230e-01, 3.01917230e-01,\n",
       "         9.94341473e-01, 9.94341473e-01, 5.73324250e-01, 5.73324250e-01,\n",
       "         2.39588573e-01, 2.39588573e-01, 8.56181591e-01, 8.56181591e-01,\n",
       "         5.90827438e-01, 5.90827438e-01, 6.74952413e-01, 6.74952413e-01,\n",
       "         1.81411780e-01, 1.81411780e-01, 5.35097843e-02, 5.35097843e-02,\n",
       "         9.22006272e-01, 9.22006272e-01, 7.90696460e-01, 7.90696460e-01,\n",
       "         2.66454913e-01, 2.66454913e-01, 5.49132293e-01, 5.49132293e-01,\n",
       "         8.18353824e-01, 8.18353824e-01, 6.25715889e-01, 6.25715889e-01,\n",
       "         1.70638824e-01, 1.70638824e-01, 1.97867630e-01, 1.97867630e-01,\n",
       "         3.89316020e-01, 3.89316020e-01, 5.77052196e-01, 5.77052196e-01,\n",
       "         9.26789022e-01, 9.26789022e-01, 3.31159780e-01, 3.31159780e-01,\n",
       "         9.11326874e-01, 9.11326874e-01, 4.07381718e-01, 4.07381718e-01,\n",
       "         5.21877398e-01, 5.21877398e-01, 7.37740238e-01, 7.37740238e-01,\n",
       "         6.12995466e-01, 6.12995466e-01, 3.35047834e-01, 3.35047834e-01,\n",
       "         9.83550077e-01, 9.83550077e-01, 1.73532884e-02, 1.73532884e-02,\n",
       "         7.60925321e-01, 7.60925321e-01, 3.75301124e-01, 3.75301124e-01,\n",
       "         5.68603447e-01, 5.68603447e-01, 1.67403478e-01, 1.67403478e-01,\n",
       "         7.32452585e-01, 7.32452585e-01, 4.01447000e-02, 4.01447000e-02,\n",
       "         3.55092348e-01, 3.55092348e-01, 2.99364395e-01, 2.99364395e-01,\n",
       "         9.14914186e-01, 9.14914186e-01, 6.82053066e-01, 6.82053066e-01,\n",
       "         1.15336547e-01, 1.15336547e-01, 8.55567301e-01, 8.55567301e-01])}}"
      ]
     },
     "execution_count": 1,
     "metadata": {},
     "output_type": "execute_result"
    }
   ],
   "source": [
    "ds = load_by_id(run_id_n)\n",
    "ds.get_parameter_data('x1')"
   ]
  },
  {
   "cell_type": "markdown",
   "metadata": {},
   "source": [
    "And a dataset stored as binary arrays"
   ]
  },
  {
   "cell_type": "code",
   "execution_count": 12,
   "metadata": {
    "execution": {
     "iopub.execute_input": "2021-05-21T06:16:50.243126Z",
     "iopub.status.busy": "2021-05-21T06:16:50.242555Z",
     "iopub.status.idle": "2021-05-21T06:16:50.311909Z",
     "shell.execute_reply": "2021-05-21T06:16:50.312512Z"
    },
    "scrolled": true
   },
   "outputs": [
    {
     "data": {
      "text/plain": [
       "{'x1': {'x1': array([[0.73672502],\n",
       "         [0.73672502],\n",
       "         [0.33761508],\n",
       "         [0.33761508],\n",
       "         [0.5635049 ],\n",
       "         [0.5635049 ],\n",
       "         [0.33746919],\n",
       "         [0.33746919],\n",
       "         [0.05839384],\n",
       "         [0.05839384],\n",
       "         [0.65579737],\n",
       "         [0.65579737],\n",
       "         [0.01611734],\n",
       "         [0.01611734],\n",
       "         [0.45884218],\n",
       "         [0.45884218],\n",
       "         [0.59821444],\n",
       "         [0.59821444],\n",
       "         [0.74483272],\n",
       "         [0.74483272],\n",
       "         [0.47038356],\n",
       "         [0.47038356],\n",
       "         [0.80181334],\n",
       "         [0.80181334],\n",
       "         [0.7135628 ],\n",
       "         [0.7135628 ],\n",
       "         [0.3390119 ],\n",
       "         [0.3390119 ],\n",
       "         [0.82505121],\n",
       "         [0.82505121],\n",
       "         [0.84526354],\n",
       "         [0.84526354],\n",
       "         [0.48686783],\n",
       "         [0.48686783],\n",
       "         [0.46862013],\n",
       "         [0.46862013],\n",
       "         [0.08492691],\n",
       "         [0.08492691],\n",
       "         [0.80631781],\n",
       "         [0.80631781],\n",
       "         [0.10401321],\n",
       "         [0.10401321],\n",
       "         [0.78758735],\n",
       "         [0.78758735],\n",
       "         [0.59146189],\n",
       "         [0.59146189],\n",
       "         [0.5525228 ],\n",
       "         [0.5525228 ],\n",
       "         [0.21589555],\n",
       "         [0.21589555],\n",
       "         [0.01632084],\n",
       "         [0.01632084],\n",
       "         [0.17937062],\n",
       "         [0.17937062],\n",
       "         [0.424852  ],\n",
       "         [0.424852  ],\n",
       "         [0.33618996],\n",
       "         [0.33618996],\n",
       "         [0.23945859],\n",
       "         [0.23945859],\n",
       "         [0.09959268],\n",
       "         [0.09959268],\n",
       "         [0.10554509],\n",
       "         [0.10554509],\n",
       "         [0.68901143],\n",
       "         [0.68901143],\n",
       "         [0.53181237],\n",
       "         [0.53181237],\n",
       "         [0.07070708],\n",
       "         [0.07070708],\n",
       "         [0.78442917],\n",
       "         [0.78442917],\n",
       "         [0.69239525],\n",
       "         [0.69239525],\n",
       "         [0.20775097],\n",
       "         [0.20775097],\n",
       "         [0.90030309],\n",
       "         [0.90030309],\n",
       "         [0.35770792],\n",
       "         [0.35770792],\n",
       "         [0.06336954],\n",
       "         [0.06336954],\n",
       "         [0.63492246],\n",
       "         [0.63492246],\n",
       "         [0.20550902],\n",
       "         [0.20550902],\n",
       "         [0.46130481],\n",
       "         [0.46130481],\n",
       "         [0.47894186],\n",
       "         [0.47894186],\n",
       "         [0.91670215],\n",
       "         [0.91670215],\n",
       "         [0.48940483],\n",
       "         [0.48940483],\n",
       "         [0.0433279 ],\n",
       "         [0.0433279 ],\n",
       "         [0.73847785],\n",
       "         [0.73847785],\n",
       "         [0.68569851],\n",
       "         [0.68569851],\n",
       "         [0.20643912],\n",
       "         [0.20643912],\n",
       "         [0.88581059],\n",
       "         [0.88581059],\n",
       "         [0.78276416],\n",
       "         [0.78276416],\n",
       "         [0.55378943],\n",
       "         [0.55378943],\n",
       "         [0.65287696],\n",
       "         [0.65287696],\n",
       "         [0.78500347],\n",
       "         [0.78500347],\n",
       "         [0.85989576],\n",
       "         [0.85989576],\n",
       "         [0.02627954],\n",
       "         [0.02627954],\n",
       "         [0.13824776],\n",
       "         [0.13824776],\n",
       "         [0.25171287],\n",
       "         [0.25171287],\n",
       "         [0.05690764],\n",
       "         [0.05690764],\n",
       "         [0.31474282],\n",
       "         [0.31474282],\n",
       "         [0.14662082],\n",
       "         [0.14662082],\n",
       "         [0.09476782],\n",
       "         [0.09476782],\n",
       "         [0.55593354],\n",
       "         [0.55593354],\n",
       "         [0.79605639],\n",
       "         [0.79605639],\n",
       "         [0.31455196],\n",
       "         [0.31455196],\n",
       "         [0.21803732],\n",
       "         [0.21803732],\n",
       "         [0.29111768],\n",
       "         [0.29111768],\n",
       "         [0.66724716],\n",
       "         [0.66724716],\n",
       "         [0.384084  ],\n",
       "         [0.384084  ],\n",
       "         [0.28896278],\n",
       "         [0.28896278],\n",
       "         [0.00477948],\n",
       "         [0.00477948],\n",
       "         [0.82473446],\n",
       "         [0.82473446],\n",
       "         [0.40125913],\n",
       "         [0.40125913],\n",
       "         [0.31765414],\n",
       "         [0.31765414],\n",
       "         [0.04202703],\n",
       "         [0.04202703],\n",
       "         [0.50976698],\n",
       "         [0.50976698],\n",
       "         [0.07548463],\n",
       "         [0.07548463],\n",
       "         [0.03885299],\n",
       "         [0.03885299],\n",
       "         [0.13180168],\n",
       "         [0.13180168],\n",
       "         [0.91704226],\n",
       "         [0.91704226],\n",
       "         [0.74695731],\n",
       "         [0.74695731],\n",
       "         [0.24370726],\n",
       "         [0.24370726],\n",
       "         [0.86366565],\n",
       "         [0.86366565],\n",
       "         [0.80191099],\n",
       "         [0.80191099],\n",
       "         [0.46200622],\n",
       "         [0.46200622],\n",
       "         [0.47754197],\n",
       "         [0.47754197],\n",
       "         [0.83883796],\n",
       "         [0.83883796],\n",
       "         [0.88313583],\n",
       "         [0.88313583],\n",
       "         [0.33525396],\n",
       "         [0.33525396],\n",
       "         [0.83069307],\n",
       "         [0.83069307],\n",
       "         [0.85932338],\n",
       "         [0.85932338],\n",
       "         [0.82130751],\n",
       "         [0.82130751],\n",
       "         [0.23557375],\n",
       "         [0.23557375],\n",
       "         [0.50364598],\n",
       "         [0.50364598],\n",
       "         [0.96496653],\n",
       "         [0.96496653],\n",
       "         [0.76158432],\n",
       "         [0.76158432],\n",
       "         [0.74730144],\n",
       "         [0.74730144],\n",
       "         [0.39236146],\n",
       "         [0.39236146]])}}"
      ]
     },
     "execution_count": 1,
     "metadata": {},
     "output_type": "execute_result"
    }
   ],
   "source": [
    "ds = load_by_id(run_id_a)\n",
    "ds.get_parameter_data('x1')"
   ]
  },
  {
   "cell_type": "code",
   "execution_count": null,
   "metadata": {},
   "outputs": [],
   "source": []
  }
 ],
 "metadata": {
  "kernelspec": {
   "display_name": "Python 3",
   "language": "python",
   "name": "python3"
  },
  "language_info": {
   "codemirror_mode": {
    "name": "ipython",
    "version": 3
   },
   "file_extension": ".py",
   "mimetype": "text/x-python",
   "name": "python",
   "nbconvert_exporter": "python",
   "pygments_lexer": "ipython3",
   "version": "3.7.10"
  },
  "nbsphinx": {
   "timeout": 600
  },
  "toc": {
   "base_numbering": 1,
   "nav_menu": {},
   "number_sections": true,
   "sideBar": true,
   "skip_h1_title": false,
   "title_cell": "Table of Contents",
   "title_sidebar": "Contents",
   "toc_cell": false,
   "toc_position": {},
   "toc_section_display": true,
   "toc_window_display": false
  },
  "varInspector": {
   "cols": {
    "lenName": 16,
    "lenType": 16,
    "lenVar": 40
   },
   "kernels_config": {
    "python": {
     "delete_cmd_postfix": "",
     "delete_cmd_prefix": "del ",
     "library": "var_list.py",
     "varRefreshCmd": "print(var_dic_list())"
    },
    "r": {
     "delete_cmd_postfix": ") ",
     "delete_cmd_prefix": "rm(",
     "library": "var_list.r",
     "varRefreshCmd": "cat(var_dic_list()) "
    }
   },
   "types_to_exclude": [
    "module",
    "function",
    "builtin_function_or_method",
    "instance",
    "_Feature"
   ],
   "window_display": false
  }
 },
 "nbformat": 4,
 "nbformat_minor": 4
}
