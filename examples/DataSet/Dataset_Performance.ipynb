{
 "cells": [
  {
   "cell_type": "markdown",
   "metadata": {},
   "source": [
    "# DataSet Performance\n",
    "\n",
    "This notebook shows the trade-off between inserting data into a database row-by-row and as binary blobs. Inserting the data row-by-row means that we have direct access to all the data and may perform queries directly on the values of the data. On the other hand, as we shall see, this is much slower than inserting the data directly as binary blobs."
   ]
  },
  {
   "cell_type": "markdown",
   "metadata": {},
   "source": [
    "First, we choose a new location for the database to ensure that we don't add a bunch of benchmarking data to the default one."
   ]
  },
  {
   "cell_type": "code",
   "execution_count": 1,
   "metadata": {
    "execution": {
     "iopub.execute_input": "2020-11-13T13:30:08.345727Z",
     "iopub.status.busy": "2020-11-13T13:30:08.345074Z",
     "iopub.status.idle": "2020-11-13T13:30:09.485543Z",
     "shell.execute_reply": "2020-11-13T13:30:09.486397Z"
    }
   },
   "outputs": [
    {
     "name": "stdout",
     "output_type": "stream",
     "text": [
      "Logging hadn't been started.\n",
      "Activating auto-logging. Current session state plus future input saved.\n",
      "Filename       : /home/vsts/.qcodes/logs/command_history.log\n",
      "Mode           : append\n",
      "Output logging : True\n",
      "Raw input log  : False\n",
      "Timestamping   : True\n",
      "State          : active\n"
     ]
    },
    {
     "name": "stdout",
     "output_type": "stream",
     "text": [
      "Qcodes Logfile : /home/vsts/.qcodes/logs/201113-14491-qcodes.log\n"
     ]
    }
   ],
   "source": [
    "import os\n",
    "cwd = os.getcwd()\n",
    "import qcodes as qc\n",
    "qc.config[\"core\"][\"db_location\"] = os.path.join(cwd, 'testing.db')\n"
   ]
  },
  {
   "cell_type": "code",
   "execution_count": 2,
   "metadata": {
    "execution": {
     "iopub.execute_input": "2020-11-13T13:30:09.489632Z",
     "iopub.status.busy": "2020-11-13T13:30:09.489001Z",
     "iopub.status.idle": "2020-11-13T13:30:09.698634Z",
     "shell.execute_reply": "2020-11-13T13:30:09.698063Z"
    }
   },
   "outputs": [],
   "source": [
    "%matplotlib inline\n",
    "import time\n",
    "import matplotlib.pyplot as plt\n",
    "import numpy as np\n",
    "\n",
    "import qcodes as qc\n",
    "from qcodes.instrument.parameter import ManualParameter\n",
    "from qcodes.dataset.experiment_container import (Experiment,\n",
    "                                                 load_last_experiment,\n",
    "                                                 new_experiment)\n",
    "from qcodes.dataset.sqlite.database import initialise_database\n",
    "from qcodes import load_or_create_experiment\n",
    "from qcodes.dataset.measurements import Measurement"
   ]
  },
  {
   "cell_type": "code",
   "execution_count": 3,
   "metadata": {
    "execution": {
     "iopub.execute_input": "2020-11-13T13:30:09.702692Z",
     "iopub.status.busy": "2020-11-13T13:30:09.701910Z",
     "iopub.status.idle": "2020-11-13T13:30:09.822805Z",
     "shell.execute_reply": "2020-11-13T13:30:09.822179Z"
    }
   },
   "outputs": [
    {
     "name": "stdout",
     "output_type": "stream",
     "text": [
      "\r",
      "0it [00:00, ?it/s]"
     ]
    },
    {
     "name": "stdout",
     "output_type": "stream",
     "text": [
      "\r",
      "Upgrading database; v0 -> v1: : 0it [00:00, ?it/s]"
     ]
    },
    {
     "name": "stdout",
     "output_type": "stream",
     "text": [
      "\r",
      "Upgrading database; v0 -> v1: : 0it [00:00, ?it/s]"
     ]
    },
    {
     "name": "stdout",
     "output_type": "stream",
     "text": [
      "\n",
      "\r",
      "  0%|          | 0/1 [00:00<?, ?it/s]"
     ]
    },
    {
     "name": "stdout",
     "output_type": "stream",
     "text": [
      "\r",
      "Upgrading database; v1 -> v2:   0%|          | 0/1 [00:00<?, ?it/s]"
     ]
    },
    {
     "name": "stdout",
     "output_type": "stream",
     "text": [
      "\r",
      "Upgrading database; v1 -> v2: 100%|██████████| 1/1 [00:00<00:00, 413.93it/s]"
     ]
    },
    {
     "name": "stdout",
     "output_type": "stream",
     "text": [
      "\n",
      "\r",
      "0it [00:00, ?it/s]"
     ]
    },
    {
     "name": "stdout",
     "output_type": "stream",
     "text": [
      "\r",
      "Upgrading database; v2 -> v3: : 0it [00:00, ?it/s]"
     ]
    },
    {
     "name": "stdout",
     "output_type": "stream",
     "text": [
      "\r",
      "Upgrading database; v2 -> v3: : 0it [00:00, ?it/s]"
     ]
    },
    {
     "name": "stdout",
     "output_type": "stream",
     "text": [
      "\n",
      "\r",
      "0it [00:00, ?it/s]"
     ]
    },
    {
     "name": "stdout",
     "output_type": "stream",
     "text": [
      "\r",
      "Upgrading database; v3 -> v4: : 0it [00:00, ?it/s]"
     ]
    },
    {
     "name": "stdout",
     "output_type": "stream",
     "text": [
      "\r",
      "Upgrading database; v3 -> v4: : 0it [00:00, ?it/s]"
     ]
    },
    {
     "name": "stdout",
     "output_type": "stream",
     "text": [
      "\n",
      "\r",
      "  0%|          | 0/1 [00:00<?, ?it/s]"
     ]
    },
    {
     "name": "stdout",
     "output_type": "stream",
     "text": [
      "\r",
      "Upgrading database; v4 -> v5:   0%|          | 0/1 [00:00<?, ?it/s]"
     ]
    },
    {
     "name": "stdout",
     "output_type": "stream",
     "text": [
      "\r",
      "Upgrading database; v4 -> v5: 100%|██████████| 1/1 [00:00<00:00, 1007.04it/s]"
     ]
    },
    {
     "name": "stdout",
     "output_type": "stream",
     "text": [
      "\n",
      "\r",
      "0it [00:00, ?it/s]"
     ]
    },
    {
     "name": "stdout",
     "output_type": "stream",
     "text": [
      "\r",
      "Upgrading database; v5 -> v6: : 0it [00:00, ?it/s]"
     ]
    },
    {
     "name": "stdout",
     "output_type": "stream",
     "text": [
      "\r",
      "Upgrading database; v5 -> v6: : 0it [00:00, ?it/s]"
     ]
    },
    {
     "name": "stdout",
     "output_type": "stream",
     "text": [
      "\n",
      "\r",
      "  0%|          | 0/1 [00:00<?, ?it/s]"
     ]
    },
    {
     "name": "stdout",
     "output_type": "stream",
     "text": [
      "\r",
      "Upgrading database; v6 -> v7:   0%|          | 0/1 [00:00<?, ?it/s]"
     ]
    },
    {
     "name": "stdout",
     "output_type": "stream",
     "text": [
      "\r",
      "Upgrading database; v6 -> v7: 100%|██████████| 1/1 [00:00<00:00, 281.04it/s]"
     ]
    },
    {
     "name": "stdout",
     "output_type": "stream",
     "text": [
      "\n",
      "\r",
      "  0%|          | 0/1 [00:00<?, ?it/s]"
     ]
    },
    {
     "name": "stdout",
     "output_type": "stream",
     "text": [
      "\r",
      "Upgrading database; v7 -> v8:   0%|          | 0/1 [00:00<?, ?it/s]"
     ]
    },
    {
     "name": "stdout",
     "output_type": "stream",
     "text": [
      "\r",
      "Upgrading database; v7 -> v8: 100%|██████████| 1/1 [00:00<00:00, 557.98it/s]"
     ]
    },
    {
     "name": "stdout",
     "output_type": "stream",
     "text": [
      "\n",
      "\r",
      "  0%|          | 0/1 [00:00<?, ?it/s]"
     ]
    },
    {
     "name": "stdout",
     "output_type": "stream",
     "text": [
      "\r",
      "Upgrading database; v8 -> v9:   0%|          | 0/1 [00:00<?, ?it/s]"
     ]
    },
    {
     "name": "stdout",
     "output_type": "stream",
     "text": [
      "\r",
      "Upgrading database; v8 -> v9: 100%|██████████| 1/1 [00:00<00:00, 1041.80it/s]"
     ]
    },
    {
     "name": "stdout",
     "output_type": "stream",
     "text": [
      "\n"
     ]
    }
   ],
   "source": [
    "initialise_database()\n",
    "exp = load_or_create_experiment(experiment_name='tutorial_exp', sample_name=\"no sample\")"
   ]
  },
  {
   "cell_type": "markdown",
   "metadata": {},
   "source": [
    "Here, we define a simple function to benchmark the time it takes to insert n points with either numeric or array data type.\n",
    "We will compare both the time used to call ``add_result`` and the time used for the full measurement."
   ]
  },
  {
   "cell_type": "code",
   "execution_count": 4,
   "metadata": {
    "execution": {
     "iopub.execute_input": "2020-11-13T13:30:09.832051Z",
     "iopub.status.busy": "2020-11-13T13:30:09.831202Z",
     "iopub.status.idle": "2020-11-13T13:30:09.834936Z",
     "shell.execute_reply": "2020-11-13T13:30:09.835494Z"
    }
   },
   "outputs": [],
   "source": [
    "def insert_data(paramtype, npoints, nreps=1):\n",
    "\n",
    "    meas = Measurement(exp=exp)\n",
    "\n",
    "    x1 = ManualParameter('x1')\n",
    "    x2 = ManualParameter('x2')\n",
    "    x3 = ManualParameter('x3')\n",
    "    y1 = ManualParameter('y1')\n",
    "    y2 = ManualParameter('y2')\n",
    "\n",
    "    meas.register_parameter(x1, paramtype=paramtype)\n",
    "    meas.register_parameter(x2, paramtype=paramtype)\n",
    "    meas.register_parameter(x3, paramtype=paramtype)\n",
    "    meas.register_parameter(y1, setpoints=[x1, x2, x3],\n",
    "                            paramtype=paramtype)\n",
    "    meas.register_parameter(y2, setpoints=[x1, x2, x3],\n",
    "                            paramtype=paramtype)\n",
    "    start = time.perf_counter()\n",
    "    with meas.run() as datasaver:\n",
    "        start_adding = time.perf_counter()\n",
    "        for i in range(nreps):\n",
    "            datasaver.add_result((x1, np.random.rand(npoints)),\n",
    "                                 (x2, np.random.rand(npoints)),\n",
    "                                 (x3, np.random.rand(npoints)),\n",
    "                                 (y1, np.random.rand(npoints)),\n",
    "                                 (y2, np.random.rand(npoints)))\n",
    "        stop_adding = time.perf_counter()\n",
    "        run_id = datasaver.run_id\n",
    "    stop = time.perf_counter()\n",
    "    tot_time = stop - start\n",
    "    add_time = stop_adding - start_adding\n",
    "    return tot_time, add_time, run_id"
   ]
  },
  {
   "cell_type": "markdown",
   "metadata": {},
   "source": [
    "## Comparison between numeric/array data and binary blob"
   ]
  },
  {
   "cell_type": "markdown",
   "metadata": {},
   "source": [
    "### Case1: Short experiment time"
   ]
  },
  {
   "cell_type": "code",
   "execution_count": 5,
   "metadata": {
    "execution": {
     "iopub.execute_input": "2020-11-13T13:30:09.843298Z",
     "iopub.status.busy": "2020-11-13T13:30:09.842207Z",
     "iopub.status.idle": "2020-11-13T13:30:10.748983Z",
     "shell.execute_reply": "2020-11-13T13:30:10.749639Z"
    }
   },
   "outputs": [
    {
     "name": "stdout",
     "output_type": "stream",
     "text": [
      "Starting experimental run with id: 1. \n",
      "Starting experimental run with id: 2. \n",
      "Starting experimental run with id: 3. \n",
      "Starting experimental run with id: 4. \n",
      "Starting experimental run with id: 5. \n"
     ]
    },
    {
     "name": "stdout",
     "output_type": "stream",
     "text": [
      "Starting experimental run with id: 6. \n"
     ]
    },
    {
     "name": "stdout",
     "output_type": "stream",
     "text": [
      "Starting experimental run with id: 7. \n"
     ]
    },
    {
     "name": "stdout",
     "output_type": "stream",
     "text": [
      "Starting experimental run with id: 8. \n",
      "Starting experimental run with id: 9. \n"
     ]
    },
    {
     "name": "stdout",
     "output_type": "stream",
     "text": [
      "Starting experimental run with id: 10. \n",
      "Starting experimental run with id: 11. \n"
     ]
    },
    {
     "name": "stdout",
     "output_type": "stream",
     "text": [
      "Starting experimental run with id: 12. \n"
     ]
    },
    {
     "name": "stdout",
     "output_type": "stream",
     "text": [
      "Starting experimental run with id: 13. \n"
     ]
    },
    {
     "name": "stdout",
     "output_type": "stream",
     "text": [
      "Starting experimental run with id: 14. \n"
     ]
    }
   ],
   "source": [
    "sizes = [1,500,1000,2000,3000,4000,5000]\n",
    "t_numeric = []\n",
    "t_numeric_add = []\n",
    "t_array = []\n",
    "t_array_add = []\n",
    "for size in sizes:\n",
    "    tn, tna, run_id_n =  insert_data('numeric', size)\n",
    "    t_numeric.append(tn)\n",
    "    t_numeric_add.append(tna)\n",
    "\n",
    "    ta, taa, run_id_a =  insert_data('array', size)\n",
    "    t_array.append(ta)\n",
    "    t_array_add.append(taa)"
   ]
  },
  {
   "cell_type": "code",
   "execution_count": 6,
   "metadata": {
    "execution": {
     "iopub.execute_input": "2020-11-13T13:30:10.770151Z",
     "iopub.status.busy": "2020-11-13T13:30:10.769502Z",
     "iopub.status.idle": "2020-11-13T13:30:10.979223Z",
     "shell.execute_reply": "2020-11-13T13:30:10.980384Z"
    }
   },
   "outputs": [
    {
     "data": {
      "image/png": "[encoded data removed]",
      "text/plain": [
       "<Figure size 432x288 with 1 Axes>"
      ]
     },
     "metadata": {
      "needs_background": "light"
     },
     "output_type": "display_data"
    }
   ],
   "source": [
    "fig, ax = plt.subplots(1,1)\n",
    "ax.plot(sizes, t_numeric, 'o-', label='Inserting row-by-row')\n",
    "ax.plot(sizes, t_numeric_add, 'o-', label='Inserting row-by-row: add_result only')\n",
    "ax.plot(sizes, t_array, 'd-', label='Inserting as binary blob')\n",
    "ax.plot(sizes, t_array_add, 'd-', label='Inserting as binary blob: add_result only')\n",
    "ax.legend()\n",
    "ax.set_xlabel('Array length')\n",
    "ax.set_ylabel('Time (s)')\n",
    "fig.tight_layout()"
   ]
  },
  {
   "cell_type": "markdown",
   "metadata": {},
   "source": [
    "As shown in the latter figure, the time to setup and and close the experiment is approximately 0.4 sec. In case of small array sizes, the difference between inserting values of data as arrays and inserting them row-by-row is relatively unimportant. At larger array sizes, i.e. above 10000 points, the cost of writing data as individual datapoints starts to become important.\n"
   ]
  },
  {
   "cell_type": "markdown",
   "metadata": {},
   "source": [
    "### Case2: Long experiment time "
   ]
  },
  {
   "cell_type": "code",
   "execution_count": 7,
   "metadata": {
    "execution": {
     "iopub.execute_input": "2020-11-13T13:30:10.987660Z",
     "iopub.status.busy": "2020-11-13T13:30:10.986439Z",
     "iopub.status.idle": "2020-11-13T13:31:15.144728Z",
     "shell.execute_reply": "2020-11-13T13:31:15.145287Z"
    }
   },
   "outputs": [
    {
     "name": "stdout",
     "output_type": "stream",
     "text": [
      "Starting experimental run with id: 15. \n",
      "Starting experimental run with id: 16. \n",
      "Starting experimental run with id: 17. \n"
     ]
    },
    {
     "name": "stdout",
     "output_type": "stream",
     "text": [
      "Starting experimental run with id: 18. \n",
      "Starting experimental run with id: 19. \n"
     ]
    },
    {
     "name": "stdout",
     "output_type": "stream",
     "text": [
      "Starting experimental run with id: 20. \n"
     ]
    },
    {
     "name": "stdout",
     "output_type": "stream",
     "text": [
      "Starting experimental run with id: 21. \n"
     ]
    },
    {
     "name": "stdout",
     "output_type": "stream",
     "text": [
      "Starting experimental run with id: 22. \n"
     ]
    },
    {
     "name": "stdout",
     "output_type": "stream",
     "text": [
      "Starting experimental run with id: 23. \n"
     ]
    },
    {
     "name": "stdout",
     "output_type": "stream",
     "text": [
      "Starting experimental run with id: 24. \n"
     ]
    },
    {
     "name": "stdout",
     "output_type": "stream",
     "text": [
      "Starting experimental run with id: 25. \n"
     ]
    },
    {
     "name": "stdout",
     "output_type": "stream",
     "text": [
      "Starting experimental run with id: 26. \n"
     ]
    },
    {
     "name": "stdout",
     "output_type": "stream",
     "text": [
      "Starting experimental run with id: 27. \n"
     ]
    },
    {
     "name": "stdout",
     "output_type": "stream",
     "text": [
      "Starting experimental run with id: 28. \n"
     ]
    }
   ],
   "source": [
    "sizes = [1,500,1000,2000,3000,4000,5000]\n",
    "nreps = 100\n",
    "t_numeric = []\n",
    "t_numeric_add = []\n",
    "t_numeric_run_ids = []\n",
    "t_array = []\n",
    "t_array_add = []\n",
    "t_array_run_ids = []\n",
    "for size in sizes:\n",
    "    tn, tna, run_id_n =  insert_data('numeric', size, nreps=nreps)\n",
    "    t_numeric.append(tn)\n",
    "    t_numeric_add.append(tna)\n",
    "    t_numeric_run_ids.append(run_id_n)\n",
    "\n",
    "    ta, taa, run_id_a =  insert_data('array', size, nreps=nreps)\n",
    "    t_array.append(ta)\n",
    "    t_array_add.append(taa)\n",
    "    t_array_run_ids.append(run_id_a)"
   ]
  },
  {
   "cell_type": "code",
   "execution_count": 8,
   "metadata": {
    "execution": {
     "iopub.execute_input": "2020-11-13T13:31:15.171629Z",
     "iopub.status.busy": "2020-11-13T13:31:15.168049Z",
     "iopub.status.idle": "2020-11-13T13:31:15.388125Z",
     "shell.execute_reply": "2020-11-13T13:31:15.387588Z"
    },
    "scrolled": true
   },
   "outputs": [
    {
     "data": {
      "image/png": "[encoded data removed]",
      "text/plain": [
       "<Figure size 432x288 with 1 Axes>"
      ]
     },
     "metadata": {
      "needs_background": "light"
     },
     "output_type": "display_data"
    }
   ],
   "source": [
    "fig, ax = plt.subplots(1,1)\n",
    "ax.plot(sizes, t_numeric, 'o-', label='Inserting row-by-row')\n",
    "ax.plot(sizes, t_numeric_add, 'o-', label='Inserting row-by-row: add_result only')\n",
    "ax.plot(sizes, t_array, 'd-', label='Inserting as binary blob')\n",
    "ax.plot(sizes, t_array_add, 'd-', label='Inserting as binary blob: add_result only')\n",
    "ax.legend()\n",
    "ax.set_xlabel('Array length')\n",
    "ax.set_ylabel('Time (s)')\n",
    "fig.tight_layout()"
   ]
  },
  {
   "cell_type": "markdown",
   "metadata": {},
   "source": [
    "However, as we increase the length of the experiment, as seen here by repeating the insertion 100 times, we see a big difference between inserting values of the data row-by-row and inserting it as a binary blob."
   ]
  },
  {
   "cell_type": "markdown",
   "metadata": {},
   "source": [
    "## Loading the data "
   ]
  },
  {
   "cell_type": "code",
   "execution_count": 9,
   "metadata": {
    "execution": {
     "iopub.execute_input": "2020-11-13T13:31:15.393228Z",
     "iopub.status.busy": "2020-11-13T13:31:15.392569Z",
     "iopub.status.idle": "2020-11-13T13:31:15.395656Z",
     "shell.execute_reply": "2020-11-13T13:31:15.395111Z"
    }
   },
   "outputs": [],
   "source": [
    "from qcodes.dataset.data_set import load_by_id\n",
    "from qcodes.dataset.data_export import get_data_by_id"
   ]
  },
  {
   "cell_type": "markdown",
   "metadata": {},
   "source": [
    "As usual you can load the data by using the ``load_by_id`` function but you will notice that the different storage methods\n",
    "are reflected in shape of the data as it is retrieved. "
   ]
  },
  {
   "cell_type": "code",
   "execution_count": 10,
   "metadata": {
    "execution": {
     "iopub.execute_input": "2020-11-13T13:31:15.400509Z",
     "iopub.status.busy": "2020-11-13T13:31:15.399183Z",
     "iopub.status.idle": "2020-11-13T13:31:15.401194Z",
     "shell.execute_reply": "2020-11-13T13:31:15.401711Z"
    }
   },
   "outputs": [],
   "source": [
    "run_id_n = t_numeric_run_ids[0]\n",
    "run_id_a = t_array_run_ids[0]"
   ]
  },
  {
   "cell_type": "code",
   "execution_count": 11,
   "metadata": {
    "execution": {
     "iopub.execute_input": "2020-11-13T13:31:15.405677Z",
     "iopub.status.busy": "2020-11-13T13:31:15.405064Z",
     "iopub.status.idle": "2020-11-13T13:31:15.414703Z",
     "shell.execute_reply": "2020-11-13T13:31:15.415273Z"
    },
    "scrolled": true
   },
   "outputs": [
    {
     "data": {
      "text/plain": [
       "{'x1': {'x1': array([0.15870899, 0.15870899, 0.77929437, 0.77929437, 0.56405328,\n",
       "         0.56405328, 0.96968327, 0.96968327, 0.03146934, 0.03146934,\n",
       "         0.77118241, 0.77118241, 0.71125994, 0.71125994, 0.64108841,\n",
       "         0.64108841, 0.97259475, 0.97259475, 0.23748993, 0.23748993,\n",
       "         0.4118742 , 0.4118742 , 0.09883312, 0.09883312, 0.47303163,\n",
       "         0.47303163, 0.79473865, 0.79473865, 0.11274117, 0.11274117,\n",
       "         0.1264105 , 0.1264105 , 0.97112258, 0.97112258, 0.19230091,\n",
       "         0.19230091, 0.22284147, 0.22284147, 0.4925034 , 0.4925034 ,\n",
       "         0.63344883, 0.63344883, 0.40733369, 0.40733369, 0.48639631,\n",
       "         0.48639631, 0.83308234, 0.83308234, 0.14677267, 0.14677267,\n",
       "         0.74756427, 0.74756427, 0.3028519 , 0.3028519 , 0.62658444,\n",
       "         0.62658444, 0.77266713, 0.77266713, 0.51766383, 0.51766383,\n",
       "         0.12804072, 0.12804072, 0.56481013, 0.56481013, 0.64163541,\n",
       "         0.64163541, 0.52724936, 0.52724936, 0.67477252, 0.67477252,\n",
       "         0.95284189, 0.95284189, 0.72206953, 0.72206953, 0.28671739,\n",
       "         0.28671739, 0.37874731, 0.37874731, 0.86412312, 0.86412312,\n",
       "         0.7439321 , 0.7439321 , 0.71405351, 0.71405351, 0.90628975,\n",
       "         0.90628975, 0.35295309, 0.35295309, 0.06112572, 0.06112572,\n",
       "         0.9449235 , 0.9449235 , 0.25716147, 0.25716147, 0.60202425,\n",
       "         0.60202425, 0.37098507, 0.37098507, 0.02903385, 0.02903385,\n",
       "         0.90153963, 0.90153963, 0.70694582, 0.70694582, 0.57753477,\n",
       "         0.57753477, 0.36600491, 0.36600491, 0.48137503, 0.48137503,\n",
       "         0.6644838 , 0.6644838 , 0.56736983, 0.56736983, 0.53146462,\n",
       "         0.53146462, 0.81988932, 0.81988932, 0.82686104, 0.82686104,\n",
       "         0.77230092, 0.77230092, 0.83447312, 0.83447312, 0.91633374,\n",
       "         0.91633374, 0.19368469, 0.19368469, 0.90914958, 0.90914958,\n",
       "         0.79889364, 0.79889364, 0.48729557, 0.48729557, 0.6577533 ,\n",
       "         0.6577533 , 0.81786363, 0.81786363, 0.77781401, 0.77781401,\n",
       "         0.29612865, 0.29612865, 0.9722715 , 0.9722715 , 0.46801193,\n",
       "         0.46801193, 0.82194435, 0.82194435, 0.3489306 , 0.3489306 ,\n",
       "         0.94275383, 0.94275383, 0.76936647, 0.76936647, 0.5498575 ,\n",
       "         0.5498575 , 0.69618247, 0.69618247, 0.8629724 , 0.8629724 ,\n",
       "         0.34113851, 0.34113851, 0.71608539, 0.71608539, 0.08970762,\n",
       "         0.08970762, 0.83317826, 0.83317826, 0.90782303, 0.90782303,\n",
       "         0.68548832, 0.68548832, 0.54014023, 0.54014023, 0.53506161,\n",
       "         0.53506161, 0.00440579, 0.00440579, 0.17124451, 0.17124451,\n",
       "         0.0516225 , 0.0516225 , 0.1494463 , 0.1494463 , 0.35596977,\n",
       "         0.35596977, 0.98013016, 0.98013016, 0.18277067, 0.18277067,\n",
       "         0.7114987 , 0.7114987 , 0.73473009, 0.73473009, 0.5932602 ,\n",
       "         0.5932602 , 0.49695688, 0.49695688, 0.61201756, 0.61201756])}}"
      ]
     },
     "execution_count": 1,
     "metadata": {},
     "output_type": "execute_result"
    }
   ],
   "source": [
    "ds = load_by_id(run_id_n)\n",
    "ds.get_parameter_data('x1')"
   ]
  },
  {
   "cell_type": "markdown",
   "metadata": {},
   "source": [
    "And a dataset stored as binary arrays"
   ]
  },
  {
   "cell_type": "code",
   "execution_count": 12,
   "metadata": {
    "execution": {
     "iopub.execute_input": "2020-11-13T13:31:15.419183Z",
     "iopub.status.busy": "2020-11-13T13:31:15.418572Z",
     "iopub.status.idle": "2020-11-13T13:31:15.484348Z",
     "shell.execute_reply": "2020-11-13T13:31:15.484873Z"
    },
    "scrolled": true
   },
   "outputs": [
    {
     "data": {
      "text/plain": [
       "{'x1': {'x1': array([[0.40127249],\n",
       "         [0.40127249],\n",
       "         [0.31326816],\n",
       "         [0.31326816],\n",
       "         [0.83010316],\n",
       "         [0.83010316],\n",
       "         [0.33875778],\n",
       "         [0.33875778],\n",
       "         [0.15833011],\n",
       "         [0.15833011],\n",
       "         [0.51488025],\n",
       "         [0.51488025],\n",
       "         [0.69565067],\n",
       "         [0.69565067],\n",
       "         [0.29627577],\n",
       "         [0.29627577],\n",
       "         [0.22457036],\n",
       "         [0.22457036],\n",
       "         [0.75140612],\n",
       "         [0.75140612],\n",
       "         [0.70898904],\n",
       "         [0.70898904],\n",
       "         [0.10524175],\n",
       "         [0.10524175],\n",
       "         [0.2121724 ],\n",
       "         [0.2121724 ],\n",
       "         [0.10564936],\n",
       "         [0.10564936],\n",
       "         [0.8043774 ],\n",
       "         [0.8043774 ],\n",
       "         [0.10368147],\n",
       "         [0.10368147],\n",
       "         [0.57044489],\n",
       "         [0.57044489],\n",
       "         [0.0393983 ],\n",
       "         [0.0393983 ],\n",
       "         [0.27947321],\n",
       "         [0.27947321],\n",
       "         [0.86322098],\n",
       "         [0.86322098],\n",
       "         [0.70761943],\n",
       "         [0.70761943],\n",
       "         [0.42333499],\n",
       "         [0.42333499],\n",
       "         [0.87619988],\n",
       "         [0.87619988],\n",
       "         [0.2861099 ],\n",
       "         [0.2861099 ],\n",
       "         [0.46010162],\n",
       "         [0.46010162],\n",
       "         [0.40601759],\n",
       "         [0.40601759],\n",
       "         [0.64507321],\n",
       "         [0.64507321],\n",
       "         [0.15294275],\n",
       "         [0.15294275],\n",
       "         [0.66170243],\n",
       "         [0.66170243],\n",
       "         [0.73667749],\n",
       "         [0.73667749],\n",
       "         [0.92679147],\n",
       "         [0.92679147],\n",
       "         [0.52681388],\n",
       "         [0.52681388],\n",
       "         [0.03327647],\n",
       "         [0.03327647],\n",
       "         [0.0223913 ],\n",
       "         [0.0223913 ],\n",
       "         [0.25571268],\n",
       "         [0.25571268],\n",
       "         [0.16195111],\n",
       "         [0.16195111],\n",
       "         [0.5248715 ],\n",
       "         [0.5248715 ],\n",
       "         [0.49837893],\n",
       "         [0.49837893],\n",
       "         [0.38671213],\n",
       "         [0.38671213],\n",
       "         [0.94850615],\n",
       "         [0.94850615],\n",
       "         [0.56419725],\n",
       "         [0.56419725],\n",
       "         [0.63893789],\n",
       "         [0.63893789],\n",
       "         [0.29361286],\n",
       "         [0.29361286],\n",
       "         [0.74438216],\n",
       "         [0.74438216],\n",
       "         [0.01747127],\n",
       "         [0.01747127],\n",
       "         [0.01672211],\n",
       "         [0.01672211],\n",
       "         [0.95038822],\n",
       "         [0.95038822],\n",
       "         [0.50443807],\n",
       "         [0.50443807],\n",
       "         [0.83175593],\n",
       "         [0.83175593],\n",
       "         [0.30328179],\n",
       "         [0.30328179],\n",
       "         [0.14817302],\n",
       "         [0.14817302],\n",
       "         [0.52727021],\n",
       "         [0.52727021],\n",
       "         [0.26533806],\n",
       "         [0.26533806],\n",
       "         [0.85534504],\n",
       "         [0.85534504],\n",
       "         [0.95682563],\n",
       "         [0.95682563],\n",
       "         [0.54870466],\n",
       "         [0.54870466],\n",
       "         [0.50334063],\n",
       "         [0.50334063],\n",
       "         [0.16351058],\n",
       "         [0.16351058],\n",
       "         [0.13201635],\n",
       "         [0.13201635],\n",
       "         [0.92532345],\n",
       "         [0.92532345],\n",
       "         [0.30393501],\n",
       "         [0.30393501],\n",
       "         [0.27607948],\n",
       "         [0.27607948],\n",
       "         [0.73783026],\n",
       "         [0.73783026],\n",
       "         [0.17049914],\n",
       "         [0.17049914],\n",
       "         [0.75181759],\n",
       "         [0.75181759],\n",
       "         [0.71883293],\n",
       "         [0.71883293],\n",
       "         [0.32908592],\n",
       "         [0.32908592],\n",
       "         [0.13031128],\n",
       "         [0.13031128],\n",
       "         [0.36455696],\n",
       "         [0.36455696],\n",
       "         [0.70689868],\n",
       "         [0.70689868],\n",
       "         [0.84510099],\n",
       "         [0.84510099],\n",
       "         [0.48061891],\n",
       "         [0.48061891],\n",
       "         [0.15771112],\n",
       "         [0.15771112],\n",
       "         [0.53910778],\n",
       "         [0.53910778],\n",
       "         [0.03896798],\n",
       "         [0.03896798],\n",
       "         [0.49929925],\n",
       "         [0.49929925],\n",
       "         [0.51515957],\n",
       "         [0.51515957],\n",
       "         [0.35644596],\n",
       "         [0.35644596],\n",
       "         [0.35182362],\n",
       "         [0.35182362],\n",
       "         [0.74769327],\n",
       "         [0.74769327],\n",
       "         [0.72709932],\n",
       "         [0.72709932],\n",
       "         [0.09241136],\n",
       "         [0.09241136],\n",
       "         [0.63725913],\n",
       "         [0.63725913],\n",
       "         [0.18244608],\n",
       "         [0.18244608],\n",
       "         [0.47010053],\n",
       "         [0.47010053],\n",
       "         [0.07448039],\n",
       "         [0.07448039],\n",
       "         [0.58709914],\n",
       "         [0.58709914],\n",
       "         [0.72109849],\n",
       "         [0.72109849],\n",
       "         [0.21395562],\n",
       "         [0.21395562],\n",
       "         [0.10988072],\n",
       "         [0.10988072],\n",
       "         [0.96523697],\n",
       "         [0.96523697],\n",
       "         [0.89210876],\n",
       "         [0.89210876],\n",
       "         [0.65089141],\n",
       "         [0.65089141],\n",
       "         [0.28797702],\n",
       "         [0.28797702],\n",
       "         [0.23945177],\n",
       "         [0.23945177],\n",
       "         [0.29182817],\n",
       "         [0.29182817],\n",
       "         [0.00860824],\n",
       "         [0.00860824],\n",
       "         [0.49670655],\n",
       "         [0.49670655],\n",
       "         [0.23263005],\n",
       "         [0.23263005],\n",
       "         [0.68712158],\n",
       "         [0.68712158]])}}"
      ]
     },
     "execution_count": 1,
     "metadata": {},
     "output_type": "execute_result"
    }
   ],
   "source": [
    "ds = load_by_id(run_id_a)\n",
    "ds.get_parameter_data('x1')"
   ]
  },
  {
   "cell_type": "code",
   "execution_count": null,
   "metadata": {},
   "outputs": [],
   "source": []
  }
 ],
 "metadata": {
  "kernelspec": {
   "display_name": "Python 3",
   "language": "python",
   "name": "python3"
  },
  "language_info": {
   "codemirror_mode": {
    "name": "ipython",
    "version": 3
   },
   "file_extension": ".py",
   "mimetype": "text/x-python",
   "name": "python",
   "nbconvert_exporter": "python",
   "pygments_lexer": "ipython3",
   "version": "3.7.9"
  },
  "nbsphinx": {
   "timeout": 600
  },
  "toc": {
   "base_numbering": 1,
   "nav_menu": {},
   "number_sections": true,
   "sideBar": true,
   "skip_h1_title": false,
   "title_cell": "Table of Contents",
   "title_sidebar": "Contents",
   "toc_cell": false,
   "toc_position": {},
   "toc_section_display": true,
   "toc_window_display": false
  },
  "varInspector": {
   "cols": {
    "lenName": 16,
    "lenType": 16,
    "lenVar": 40
   },
   "kernels_config": {
    "python": {
     "delete_cmd_postfix": "",
     "delete_cmd_prefix": "del ",
     "library": "var_list.py",
     "varRefreshCmd": "print(var_dic_list())"
    },
    "r": {
     "delete_cmd_postfix": ") ",
     "delete_cmd_prefix": "rm(",
     "library": "var_list.r",
     "varRefreshCmd": "cat(var_dic_list()) "
    }
   },
   "types_to_exclude": [
    "module",
    "function",
    "builtin_function_or_method",
    "instance",
    "_Feature"
   ],
   "window_display": false
  }
 },
 "nbformat": 4,
 "nbformat_minor": 2
}
