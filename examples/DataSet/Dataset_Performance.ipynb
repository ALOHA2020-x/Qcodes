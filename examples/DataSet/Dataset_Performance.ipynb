{
 "cells": [
  {
   "cell_type": "markdown",
   "metadata": {},
   "source": [
    "# DataSet Performance\n",
    "\n",
    "This notebook shows the trade-off between inserting data into a database row-by-row and as binary blobs. Inserting the data row-by-row means that we have direct access to all the data and may perform queries directly on the values of the data. On the other hand, as we shall see, this is much slower than inserting the data directly as binary blobs."
   ]
  },
  {
   "cell_type": "markdown",
   "metadata": {},
   "source": [
    "First, we choose a new location for the database to ensure that we don't add a bunch of benchmarking data to the default one."
   ]
  },
  {
   "cell_type": "code",
   "execution_count": 1,
   "metadata": {
    "execution": {
     "iopub.execute_input": "2020-09-26T12:37:36.231652Z",
     "iopub.status.busy": "2020-09-26T12:37:36.231035Z",
     "iopub.status.idle": "2020-09-26T12:37:37.234320Z",
     "shell.execute_reply": "2020-09-26T12:37:37.233755Z"
    }
   },
   "outputs": [
    {
     "name": "stdout",
     "output_type": "stream",
     "text": [
      "Logging hadn't been started.\n",
      "Activating auto-logging. Current session state plus future input saved.\n",
      "Filename       : /home/vsts/.qcodes/logs/command_history.log\n",
      "Mode           : append\n",
      "Output logging : True\n",
      "Raw input log  : False\n",
      "Timestamping   : True\n",
      "State          : active\n"
     ]
    },
    {
     "name": "stdout",
     "output_type": "stream",
     "text": [
      "Qcodes Logfile : /home/vsts/.qcodes/logs/200926-18915-qcodes.log\n"
     ]
    }
   ],
   "source": [
    "import os\n",
    "cwd = os.getcwd()\n",
    "import qcodes as qc\n",
    "qc.config[\"core\"][\"db_location\"] = os.path.join(cwd, 'testing.db')\n"
   ]
  },
  {
   "cell_type": "code",
   "execution_count": 2,
   "metadata": {
    "execution": {
     "iopub.execute_input": "2020-09-26T12:37:37.240818Z",
     "iopub.status.busy": "2020-09-26T12:37:37.239664Z",
     "iopub.status.idle": "2020-09-26T12:37:37.424218Z",
     "shell.execute_reply": "2020-09-26T12:37:37.424648Z"
    }
   },
   "outputs": [],
   "source": [
    "%matplotlib inline\n",
    "import time\n",
    "import matplotlib.pyplot as plt\n",
    "import numpy as np\n",
    "\n",
    "import qcodes as qc\n",
    "from qcodes.instrument.parameter import ManualParameter\n",
    "from qcodes.dataset.experiment_container import (Experiment,\n",
    "                                                 load_last_experiment,\n",
    "                                                 new_experiment)\n",
    "from qcodes.dataset.sqlite.database import initialise_database\n",
    "from qcodes import load_or_create_experiment\n",
    "from qcodes.dataset.measurements import Measurement"
   ]
  },
  {
   "cell_type": "code",
   "execution_count": 3,
   "metadata": {
    "execution": {
     "iopub.execute_input": "2020-09-26T12:37:37.428444Z",
     "iopub.status.busy": "2020-09-26T12:37:37.427801Z",
     "iopub.status.idle": "2020-09-26T12:37:37.534120Z",
     "shell.execute_reply": "2020-09-26T12:37:37.533638Z"
    }
   },
   "outputs": [
    {
     "name": "stdout",
     "output_type": "stream",
     "text": [
      "\r",
      "0it [00:00, ?it/s]"
     ]
    },
    {
     "name": "stdout",
     "output_type": "stream",
     "text": [
      "\r",
      "Upgrading database; v0 -> v1: : 0it [00:00, ?it/s]"
     ]
    },
    {
     "name": "stdout",
     "output_type": "stream",
     "text": [
      "\r",
      "Upgrading database; v0 -> v1: : 0it [00:00, ?it/s]"
     ]
    },
    {
     "name": "stdout",
     "output_type": "stream",
     "text": [
      "\n",
      "\r",
      "  0%|          | 0/1 [00:00<?, ?it/s]"
     ]
    },
    {
     "name": "stdout",
     "output_type": "stream",
     "text": [
      "\r",
      "Upgrading database; v1 -> v2:   0%|          | 0/1 [00:00<?, ?it/s]"
     ]
    },
    {
     "name": "stdout",
     "output_type": "stream",
     "text": [
      "\r",
      "Upgrading database; v1 -> v2: 100%|██████████| 1/1 [00:00<00:00, 361.80it/s]"
     ]
    },
    {
     "name": "stdout",
     "output_type": "stream",
     "text": [
      "\n",
      "\r",
      "0it [00:00, ?it/s]"
     ]
    },
    {
     "name": "stdout",
     "output_type": "stream",
     "text": [
      "\r",
      "Upgrading database; v2 -> v3: : 0it [00:00, ?it/s]"
     ]
    },
    {
     "name": "stdout",
     "output_type": "stream",
     "text": [
      "\r",
      "Upgrading database; v2 -> v3: : 0it [00:00, ?it/s]"
     ]
    },
    {
     "name": "stdout",
     "output_type": "stream",
     "text": [
      "\n",
      "\r",
      "0it [00:00, ?it/s]"
     ]
    },
    {
     "name": "stdout",
     "output_type": "stream",
     "text": [
      "\r",
      "Upgrading database; v3 -> v4: : 0it [00:00, ?it/s]"
     ]
    },
    {
     "name": "stdout",
     "output_type": "stream",
     "text": [
      "\r",
      "Upgrading database; v3 -> v4: : 0it [00:00, ?it/s]"
     ]
    },
    {
     "name": "stdout",
     "output_type": "stream",
     "text": [
      "\n",
      "\r",
      "  0%|          | 0/1 [00:00<?, ?it/s]"
     ]
    },
    {
     "name": "stdout",
     "output_type": "stream",
     "text": [
      "\r",
      "Upgrading database; v4 -> v5:   0%|          | 0/1 [00:00<?, ?it/s]"
     ]
    },
    {
     "name": "stdout",
     "output_type": "stream",
     "text": [
      "\r",
      "Upgrading database; v4 -> v5: 100%|██████████| 1/1 [00:00<00:00, 350.46it/s]"
     ]
    },
    {
     "name": "stdout",
     "output_type": "stream",
     "text": [
      "\n",
      "\r",
      "0it [00:00, ?it/s]"
     ]
    },
    {
     "name": "stdout",
     "output_type": "stream",
     "text": [
      "\r",
      "Upgrading database; v5 -> v6: : 0it [00:00, ?it/s]"
     ]
    },
    {
     "name": "stdout",
     "output_type": "stream",
     "text": [
      "\r",
      "Upgrading database; v5 -> v6: : 0it [00:00, ?it/s]"
     ]
    },
    {
     "name": "stdout",
     "output_type": "stream",
     "text": [
      "\n",
      "\r",
      "  0%|          | 0/1 [00:00<?, ?it/s]"
     ]
    },
    {
     "name": "stdout",
     "output_type": "stream",
     "text": [
      "\r",
      "Upgrading database; v6 -> v7:   0%|          | 0/1 [00:00<?, ?it/s]"
     ]
    },
    {
     "name": "stdout",
     "output_type": "stream",
     "text": [
      "\r",
      "Upgrading database; v6 -> v7: 100%|██████████| 1/1 [00:00<00:00, 317.03it/s]"
     ]
    },
    {
     "name": "stdout",
     "output_type": "stream",
     "text": [
      "\n",
      "\r",
      "  0%|          | 0/1 [00:00<?, ?it/s]"
     ]
    },
    {
     "name": "stdout",
     "output_type": "stream",
     "text": [
      "\r",
      "Upgrading database; v7 -> v8:   0%|          | 0/1 [00:00<?, ?it/s]"
     ]
    },
    {
     "name": "stdout",
     "output_type": "stream",
     "text": [
      "\r",
      "Upgrading database; v7 -> v8: 100%|██████████| 1/1 [00:00<00:00, 374.12it/s]"
     ]
    },
    {
     "name": "stdout",
     "output_type": "stream",
     "text": [
      "\n",
      "\r",
      "  0%|          | 0/1 [00:00<?, ?it/s]"
     ]
    },
    {
     "name": "stdout",
     "output_type": "stream",
     "text": [
      "\r",
      "Upgrading database; v8 -> v9:   0%|          | 0/1 [00:00<?, ?it/s]"
     ]
    },
    {
     "name": "stdout",
     "output_type": "stream",
     "text": [
      "\r",
      "Upgrading database; v8 -> v9: 100%|██████████| 1/1 [00:00<00:00, 485.11it/s]"
     ]
    },
    {
     "name": "stdout",
     "output_type": "stream",
     "text": [
      "\n"
     ]
    }
   ],
   "source": [
    "initialise_database()\n",
    "exp = load_or_create_experiment(experiment_name='tutorial_exp', sample_name=\"no sample\")"
   ]
  },
  {
   "cell_type": "markdown",
   "metadata": {},
   "source": [
    "Here, we define a simple function to benchmark the time it takes to insert n points with either numeric or array data type.\n",
    "We will compare both the time used to call ``add_result`` and the time used for the full measurement."
   ]
  },
  {
   "cell_type": "code",
   "execution_count": 4,
   "metadata": {
    "execution": {
     "iopub.execute_input": "2020-09-26T12:37:37.542826Z",
     "iopub.status.busy": "2020-09-26T12:37:37.542297Z",
     "iopub.status.idle": "2020-09-26T12:37:37.545964Z",
     "shell.execute_reply": "2020-09-26T12:37:37.545285Z"
    }
   },
   "outputs": [],
   "source": [
    "def insert_data(paramtype, npoints, nreps=1):\n",
    "\n",
    "    meas = Measurement(exp=exp)\n",
    "\n",
    "    x1 = ManualParameter('x1')\n",
    "    x2 = ManualParameter('x2')\n",
    "    x3 = ManualParameter('x3')\n",
    "    y1 = ManualParameter('y1')\n",
    "    y2 = ManualParameter('y2')\n",
    "\n",
    "    meas.register_parameter(x1, paramtype=paramtype)\n",
    "    meas.register_parameter(x2, paramtype=paramtype)\n",
    "    meas.register_parameter(x3, paramtype=paramtype)\n",
    "    meas.register_parameter(y1, setpoints=[x1, x2, x3],\n",
    "                            paramtype=paramtype)\n",
    "    meas.register_parameter(y2, setpoints=[x1, x2, x3],\n",
    "                            paramtype=paramtype)\n",
    "    start = time.perf_counter()\n",
    "    with meas.run() as datasaver:\n",
    "        start_adding = time.perf_counter()\n",
    "        for i in range(nreps):\n",
    "            datasaver.add_result((x1, np.random.rand(npoints)),\n",
    "                                 (x2, np.random.rand(npoints)),\n",
    "                                 (x3, np.random.rand(npoints)),\n",
    "                                 (y1, np.random.rand(npoints)),\n",
    "                                 (y2, np.random.rand(npoints)))\n",
    "        stop_adding = time.perf_counter()\n",
    "        run_id = datasaver.run_id\n",
    "    stop = time.perf_counter()\n",
    "    tot_time = stop - start\n",
    "    add_time = stop_adding - start_adding\n",
    "    return tot_time, add_time, run_id"
   ]
  },
  {
   "cell_type": "markdown",
   "metadata": {},
   "source": [
    "## Comparison between numeric/array data and binary blob"
   ]
  },
  {
   "cell_type": "markdown",
   "metadata": {},
   "source": [
    "### Case1: Short experiment time"
   ]
  },
  {
   "cell_type": "code",
   "execution_count": 5,
   "metadata": {
    "execution": {
     "iopub.execute_input": "2020-09-26T12:37:37.551914Z",
     "iopub.status.busy": "2020-09-26T12:37:37.551068Z",
     "iopub.status.idle": "2020-09-26T12:37:38.341369Z",
     "shell.execute_reply": "2020-09-26T12:37:38.340424Z"
    }
   },
   "outputs": [
    {
     "name": "stdout",
     "output_type": "stream",
     "text": [
      "Starting experimental run with id: 1. \n",
      "Starting experimental run with id: 2. \n",
      "Starting experimental run with id: 3. \n",
      "Starting experimental run with id: 4. \n",
      "Starting experimental run with id: 5. \n"
     ]
    },
    {
     "name": "stdout",
     "output_type": "stream",
     "text": [
      "Starting experimental run with id: 6. \n"
     ]
    },
    {
     "name": "stdout",
     "output_type": "stream",
     "text": [
      "Starting experimental run with id: 7. \n"
     ]
    },
    {
     "name": "stdout",
     "output_type": "stream",
     "text": [
      "Starting experimental run with id: 8. \n",
      "Starting experimental run with id: 9. \n"
     ]
    },
    {
     "name": "stdout",
     "output_type": "stream",
     "text": [
      "Starting experimental run with id: 10. \n",
      "Starting experimental run with id: 11. \n"
     ]
    },
    {
     "name": "stdout",
     "output_type": "stream",
     "text": [
      "Starting experimental run with id: 12. \n",
      "Starting experimental run with id: 13. \n"
     ]
    },
    {
     "name": "stdout",
     "output_type": "stream",
     "text": [
      "Starting experimental run with id: 14. \n"
     ]
    }
   ],
   "source": [
    "sizes = [1,500,1000,2000,3000,4000,5000]\n",
    "t_numeric = []\n",
    "t_numeric_add = []\n",
    "t_array = []\n",
    "t_array_add = []\n",
    "for size in sizes:\n",
    "    tn, tna, run_id_n =  insert_data('numeric', size)\n",
    "    t_numeric.append(tn)\n",
    "    t_numeric_add.append(tna)\n",
    "\n",
    "    ta, taa, run_id_a =  insert_data('array', size)\n",
    "    t_array.append(ta)\n",
    "    t_array_add.append(taa)"
   ]
  },
  {
   "cell_type": "code",
   "execution_count": 6,
   "metadata": {
    "execution": {
     "iopub.execute_input": "2020-09-26T12:37:38.361326Z",
     "iopub.status.busy": "2020-09-26T12:37:38.360370Z",
     "iopub.status.idle": "2020-09-26T12:37:38.554108Z",
     "shell.execute_reply": "2020-09-26T12:37:38.553290Z"
    }
   },
   "outputs": [
    {
     "data": {
      "image/png": "[encoded data removed]",
      "text/plain": [
       "<Figure size 432x288 with 1 Axes>"
      ]
     },
     "metadata": {
      "needs_background": "light"
     },
     "output_type": "display_data"
    }
   ],
   "source": [
    "fig, ax = plt.subplots(1,1)\n",
    "ax.plot(sizes, t_numeric, 'o-', label='Inserting row-by-row')\n",
    "ax.plot(sizes, t_numeric_add, 'o-', label='Inserting row-by-row: add_result only')\n",
    "ax.plot(sizes, t_array, 'd-', label='Inserting as binary blob')\n",
    "ax.plot(sizes, t_array_add, 'd-', label='Inserting as binary blob: add_result only')\n",
    "ax.legend()\n",
    "ax.set_xlabel('Array length')\n",
    "ax.set_ylabel('Time (s)')\n",
    "fig.tight_layout()"
   ]
  },
  {
   "cell_type": "markdown",
   "metadata": {},
   "source": [
    "As shown in the latter figure, the time to setup and and close the experiment is approximately 0.4 sec. In case of small array sizes, the difference between inserting values of data as arrays and inserting them row-by-row is relatively unimportant. At larger array sizes, i.e. above 10000 points, the cost of writing data as individual datapoints starts to become important.\n"
   ]
  },
  {
   "cell_type": "markdown",
   "metadata": {},
   "source": [
    "### Case2: Long experiment time "
   ]
  },
  {
   "cell_type": "code",
   "execution_count": 7,
   "metadata": {
    "execution": {
     "iopub.execute_input": "2020-09-26T12:37:38.561396Z",
     "iopub.status.busy": "2020-09-26T12:37:38.560464Z",
     "iopub.status.idle": "2020-09-26T12:38:37.453661Z",
     "shell.execute_reply": "2020-09-26T12:38:37.454098Z"
    }
   },
   "outputs": [
    {
     "name": "stdout",
     "output_type": "stream",
     "text": [
      "Starting experimental run with id: 15. \n",
      "Starting experimental run with id: 16. \n",
      "Starting experimental run with id: 17. \n"
     ]
    },
    {
     "name": "stdout",
     "output_type": "stream",
     "text": [
      "Starting experimental run with id: 18. \n",
      "Starting experimental run with id: 19. \n"
     ]
    },
    {
     "name": "stdout",
     "output_type": "stream",
     "text": [
      "Starting experimental run with id: 20. \n"
     ]
    },
    {
     "name": "stdout",
     "output_type": "stream",
     "text": [
      "Starting experimental run with id: 21. \n"
     ]
    },
    {
     "name": "stdout",
     "output_type": "stream",
     "text": [
      "Starting experimental run with id: 22. \n"
     ]
    },
    {
     "name": "stdout",
     "output_type": "stream",
     "text": [
      "Starting experimental run with id: 23. \n"
     ]
    },
    {
     "name": "stdout",
     "output_type": "stream",
     "text": [
      "Starting experimental run with id: 24. \n"
     ]
    },
    {
     "name": "stdout",
     "output_type": "stream",
     "text": [
      "Starting experimental run with id: 25. \n"
     ]
    },
    {
     "name": "stdout",
     "output_type": "stream",
     "text": [
      "Starting experimental run with id: 26. \n"
     ]
    },
    {
     "name": "stdout",
     "output_type": "stream",
     "text": [
      "Starting experimental run with id: 27. \n"
     ]
    },
    {
     "name": "stdout",
     "output_type": "stream",
     "text": [
      "Starting experimental run with id: 28. \n"
     ]
    }
   ],
   "source": [
    "sizes = [1,500,1000,2000,3000,4000,5000]\n",
    "nreps = 100\n",
    "t_numeric = []\n",
    "t_numeric_add = []\n",
    "t_numeric_run_ids = []\n",
    "t_array = []\n",
    "t_array_add = []\n",
    "t_array_run_ids = []\n",
    "for size in sizes:\n",
    "    tn, tna, run_id_n =  insert_data('numeric', size, nreps=nreps)\n",
    "    t_numeric.append(tn)\n",
    "    t_numeric_add.append(tna)\n",
    "    t_numeric_run_ids.append(run_id_n)\n",
    "\n",
    "    ta, taa, run_id_a =  insert_data('array', size, nreps=nreps)\n",
    "    t_array.append(ta)\n",
    "    t_array_add.append(taa)\n",
    "    t_array_run_ids.append(run_id_a)"
   ]
  },
  {
   "cell_type": "code",
   "execution_count": 8,
   "metadata": {
    "execution": {
     "iopub.execute_input": "2020-09-26T12:38:37.473915Z",
     "iopub.status.busy": "2020-09-26T12:38:37.470376Z",
     "iopub.status.idle": "2020-09-26T12:38:37.654056Z",
     "shell.execute_reply": "2020-09-26T12:38:37.654511Z"
    },
    "scrolled": true
   },
   "outputs": [
    {
     "data": {
      "image/png": "[encoded data removed]",
      "text/plain": [
       "<Figure size 432x288 with 1 Axes>"
      ]
     },
     "metadata": {
      "needs_background": "light"
     },
     "output_type": "display_data"
    }
   ],
   "source": [
    "fig, ax = plt.subplots(1,1)\n",
    "ax.plot(sizes, t_numeric, 'o-', label='Inserting row-by-row')\n",
    "ax.plot(sizes, t_numeric_add, 'o-', label='Inserting row-by-row: add_result only')\n",
    "ax.plot(sizes, t_array, 'd-', label='Inserting as binary blob')\n",
    "ax.plot(sizes, t_array_add, 'd-', label='Inserting as binary blob: add_result only')\n",
    "ax.legend()\n",
    "ax.set_xlabel('Array length')\n",
    "ax.set_ylabel('Time (s)')\n",
    "fig.tight_layout()"
   ]
  },
  {
   "cell_type": "markdown",
   "metadata": {},
   "source": [
    "However, as we increase the length of the experiment, as seen here by repeating the insertion 100 times, we see a big difference between inserting values of the data row-by-row and inserting it as a binary blob."
   ]
  },
  {
   "cell_type": "markdown",
   "metadata": {},
   "source": [
    "## Loading the data "
   ]
  },
  {
   "cell_type": "code",
   "execution_count": 9,
   "metadata": {
    "execution": {
     "iopub.execute_input": "2020-09-26T12:38:37.658568Z",
     "iopub.status.busy": "2020-09-26T12:38:37.657979Z",
     "iopub.status.idle": "2020-09-26T12:38:37.661191Z",
     "shell.execute_reply": "2020-09-26T12:38:37.661686Z"
    }
   },
   "outputs": [],
   "source": [
    "from qcodes.dataset.data_set import load_by_id\n",
    "from qcodes.dataset.data_export import get_data_by_id"
   ]
  },
  {
   "cell_type": "markdown",
   "metadata": {},
   "source": [
    "As usual you can load the data by using the ``load_by_id`` function but you will notice that the different storage methods\n",
    "are reflected in shape of the data as it is retrieved. "
   ]
  },
  {
   "cell_type": "code",
   "execution_count": 10,
   "metadata": {
    "execution": {
     "iopub.execute_input": "2020-09-26T12:38:37.665490Z",
     "iopub.status.busy": "2020-09-26T12:38:37.664925Z",
     "iopub.status.idle": "2020-09-26T12:38:37.668864Z",
     "shell.execute_reply": "2020-09-26T12:38:37.668391Z"
    }
   },
   "outputs": [],
   "source": [
    "run_id_n = t_numeric_run_ids[0]\n",
    "run_id_a = t_array_run_ids[0]"
   ]
  },
  {
   "cell_type": "code",
   "execution_count": 11,
   "metadata": {
    "execution": {
     "iopub.execute_input": "2020-09-26T12:38:37.672217Z",
     "iopub.status.busy": "2020-09-26T12:38:37.671426Z",
     "iopub.status.idle": "2020-09-26T12:38:37.681803Z",
     "shell.execute_reply": "2020-09-26T12:38:37.681068Z"
    },
    "scrolled": true
   },
   "outputs": [
    {
     "data": {
      "text/plain": [
       "{'x1': {'x1': array([0.3733129 , 0.3733129 , 0.29901295, 0.29901295, 0.06678851,\n",
       "         0.06678851, 0.88584001, 0.88584001, 0.54892113, 0.54892113,\n",
       "         0.88662537, 0.88662537, 0.03260223, 0.03260223, 0.1724154 ,\n",
       "         0.1724154 , 0.20397196, 0.20397196, 0.47454952, 0.47454952,\n",
       "         0.86117478, 0.86117478, 0.80562796, 0.80562796, 0.61010811,\n",
       "         0.61010811, 0.2937873 , 0.2937873 , 0.2435279 , 0.2435279 ,\n",
       "         0.18403099, 0.18403099, 0.16632015, 0.16632015, 0.49280967,\n",
       "         0.49280967, 0.14509919, 0.14509919, 0.60496724, 0.60496724,\n",
       "         0.64143556, 0.64143556, 0.72414928, 0.72414928, 0.3957603 ,\n",
       "         0.3957603 , 0.57515857, 0.57515857, 0.19779439, 0.19779439,\n",
       "         0.34846847, 0.34846847, 0.62442921, 0.62442921, 0.97000631,\n",
       "         0.97000631, 0.99537672, 0.99537672, 0.84067345, 0.84067345,\n",
       "         0.59684454, 0.59684454, 0.5552378 , 0.5552378 , 0.08592036,\n",
       "         0.08592036, 0.37284036, 0.37284036, 0.21008646, 0.21008646,\n",
       "         0.02038453, 0.02038453, 0.11937395, 0.11937395, 0.01558465,\n",
       "         0.01558465, 0.50571686, 0.50571686, 0.31971967, 0.31971967,\n",
       "         0.73459118, 0.73459118, 0.87708556, 0.87708556, 0.25560626,\n",
       "         0.25560626, 0.51884099, 0.51884099, 0.58018669, 0.58018669,\n",
       "         0.59738379, 0.59738379, 0.10345465, 0.10345465, 0.22969651,\n",
       "         0.22969651, 0.52571113, 0.52571113, 0.45077162, 0.45077162,\n",
       "         0.59432462, 0.59432462, 0.32996188, 0.32996188, 0.15089636,\n",
       "         0.15089636, 0.31153109, 0.31153109, 0.23636233, 0.23636233,\n",
       "         0.48015833, 0.48015833, 0.72740693, 0.72740693, 0.84565409,\n",
       "         0.84565409, 0.88416143, 0.88416143, 0.91046272, 0.91046272,\n",
       "         0.31908106, 0.31908106, 0.83358781, 0.83358781, 0.46431766,\n",
       "         0.46431766, 0.78871682, 0.78871682, 0.39743392, 0.39743392,\n",
       "         0.77683356, 0.77683356, 0.39070732, 0.39070732, 0.33475974,\n",
       "         0.33475974, 0.40017656, 0.40017656, 0.69178275, 0.69178275,\n",
       "         0.43966226, 0.43966226, 0.14668541, 0.14668541, 0.41523271,\n",
       "         0.41523271, 0.78179917, 0.78179917, 0.49727167, 0.49727167,\n",
       "         0.22002574, 0.22002574, 0.22744486, 0.22744486, 0.54623309,\n",
       "         0.54623309, 0.11069818, 0.11069818, 0.84942807, 0.84942807,\n",
       "         0.14207202, 0.14207202, 0.72403956, 0.72403956, 0.14466899,\n",
       "         0.14466899, 0.11158565, 0.11158565, 0.50831601, 0.50831601,\n",
       "         0.39370062, 0.39370062, 0.60030995, 0.60030995, 0.26600087,\n",
       "         0.26600087, 0.44883153, 0.44883153, 0.77036188, 0.77036188,\n",
       "         0.8177535 , 0.8177535 , 0.0625236 , 0.0625236 , 0.95252712,\n",
       "         0.95252712, 0.80485816, 0.80485816, 0.46565498, 0.46565498,\n",
       "         0.94343244, 0.94343244, 0.82373908, 0.82373908, 0.26964327,\n",
       "         0.26964327, 0.73865524, 0.73865524, 0.20742917, 0.20742917])}}"
      ]
     },
     "execution_count": 1,
     "metadata": {},
     "output_type": "execute_result"
    }
   ],
   "source": [
    "ds = load_by_id(run_id_n)\n",
    "ds.get_parameter_data('x1')"
   ]
  },
  {
   "cell_type": "markdown",
   "metadata": {},
   "source": [
    "And a dataset stored as binary arrays"
   ]
  },
  {
   "cell_type": "code",
   "execution_count": 12,
   "metadata": {
    "execution": {
     "iopub.execute_input": "2020-09-26T12:38:37.685189Z",
     "iopub.status.busy": "2020-09-26T12:38:37.684665Z",
     "iopub.status.idle": "2020-09-26T12:38:37.742397Z",
     "shell.execute_reply": "2020-09-26T12:38:37.741715Z"
    },
    "scrolled": true
   },
   "outputs": [
    {
     "data": {
      "text/plain": [
       "{'x1': {'x1': array([[0.43581046],\n",
       "         [0.43581046],\n",
       "         [0.87854051],\n",
       "         [0.87854051],\n",
       "         [0.54711578],\n",
       "         [0.54711578],\n",
       "         [0.71523634],\n",
       "         [0.71523634],\n",
       "         [0.85149172],\n",
       "         [0.85149172],\n",
       "         [0.06286192],\n",
       "         [0.06286192],\n",
       "         [0.19429621],\n",
       "         [0.19429621],\n",
       "         [0.22659097],\n",
       "         [0.22659097],\n",
       "         [0.41747208],\n",
       "         [0.41747208],\n",
       "         [0.93975403],\n",
       "         [0.93975403],\n",
       "         [0.75449691],\n",
       "         [0.75449691],\n",
       "         [0.11870148],\n",
       "         [0.11870148],\n",
       "         [0.68356413],\n",
       "         [0.68356413],\n",
       "         [0.29801704],\n",
       "         [0.29801704],\n",
       "         [0.32197704],\n",
       "         [0.32197704],\n",
       "         [0.83723887],\n",
       "         [0.83723887],\n",
       "         [0.83383814],\n",
       "         [0.83383814],\n",
       "         [0.33782839],\n",
       "         [0.33782839],\n",
       "         [0.59769089],\n",
       "         [0.59769089],\n",
       "         [0.19721258],\n",
       "         [0.19721258],\n",
       "         [0.29938879],\n",
       "         [0.29938879],\n",
       "         [0.99568894],\n",
       "         [0.99568894],\n",
       "         [0.39535343],\n",
       "         [0.39535343],\n",
       "         [0.50044706],\n",
       "         [0.50044706],\n",
       "         [0.90738983],\n",
       "         [0.90738983],\n",
       "         [0.59249928],\n",
       "         [0.59249928],\n",
       "         [0.41325098],\n",
       "         [0.41325098],\n",
       "         [0.60461513],\n",
       "         [0.60461513],\n",
       "         [0.78521742],\n",
       "         [0.78521742],\n",
       "         [0.30877574],\n",
       "         [0.30877574],\n",
       "         [0.48340107],\n",
       "         [0.48340107],\n",
       "         [0.76518774],\n",
       "         [0.76518774],\n",
       "         [0.21602422],\n",
       "         [0.21602422],\n",
       "         [0.02770461],\n",
       "         [0.02770461],\n",
       "         [0.73659925],\n",
       "         [0.73659925],\n",
       "         [0.05653184],\n",
       "         [0.05653184],\n",
       "         [0.44845467],\n",
       "         [0.44845467],\n",
       "         [0.94453855],\n",
       "         [0.94453855],\n",
       "         [0.66708046],\n",
       "         [0.66708046],\n",
       "         [0.1354177 ],\n",
       "         [0.1354177 ],\n",
       "         [0.24663164],\n",
       "         [0.24663164],\n",
       "         [0.34014659],\n",
       "         [0.34014659],\n",
       "         [0.97049572],\n",
       "         [0.97049572],\n",
       "         [0.9098507 ],\n",
       "         [0.9098507 ],\n",
       "         [0.20323884],\n",
       "         [0.20323884],\n",
       "         [0.99692211],\n",
       "         [0.99692211],\n",
       "         [0.93942232],\n",
       "         [0.93942232],\n",
       "         [0.76508316],\n",
       "         [0.76508316],\n",
       "         [0.48474486],\n",
       "         [0.48474486],\n",
       "         [0.37668771],\n",
       "         [0.37668771],\n",
       "         [0.98441813],\n",
       "         [0.98441813],\n",
       "         [0.34893688],\n",
       "         [0.34893688],\n",
       "         [0.12421227],\n",
       "         [0.12421227],\n",
       "         [0.73300268],\n",
       "         [0.73300268],\n",
       "         [0.91927883],\n",
       "         [0.91927883],\n",
       "         [0.47769572],\n",
       "         [0.47769572],\n",
       "         [0.35091458],\n",
       "         [0.35091458],\n",
       "         [0.39750988],\n",
       "         [0.39750988],\n",
       "         [0.34740367],\n",
       "         [0.34740367],\n",
       "         [0.88183196],\n",
       "         [0.88183196],\n",
       "         [0.61244668],\n",
       "         [0.61244668],\n",
       "         [0.59496386],\n",
       "         [0.59496386],\n",
       "         [0.60925374],\n",
       "         [0.60925374],\n",
       "         [0.86583236],\n",
       "         [0.86583236],\n",
       "         [0.69385565],\n",
       "         [0.69385565],\n",
       "         [0.37935557],\n",
       "         [0.37935557],\n",
       "         [0.5628769 ],\n",
       "         [0.5628769 ],\n",
       "         [0.43970711],\n",
       "         [0.43970711],\n",
       "         [0.62877202],\n",
       "         [0.62877202],\n",
       "         [0.47444615],\n",
       "         [0.47444615],\n",
       "         [0.30213708],\n",
       "         [0.30213708],\n",
       "         [0.39348322],\n",
       "         [0.39348322],\n",
       "         [0.23637957],\n",
       "         [0.23637957],\n",
       "         [0.07302646],\n",
       "         [0.07302646],\n",
       "         [0.92002448],\n",
       "         [0.92002448],\n",
       "         [0.95534587],\n",
       "         [0.95534587],\n",
       "         [0.33372392],\n",
       "         [0.33372392],\n",
       "         [0.77084798],\n",
       "         [0.77084798],\n",
       "         [0.12365117],\n",
       "         [0.12365117],\n",
       "         [0.76075328],\n",
       "         [0.76075328],\n",
       "         [0.43072912],\n",
       "         [0.43072912],\n",
       "         [0.81646345],\n",
       "         [0.81646345],\n",
       "         [0.43087253],\n",
       "         [0.43087253],\n",
       "         [0.11456144],\n",
       "         [0.11456144],\n",
       "         [0.7263452 ],\n",
       "         [0.7263452 ],\n",
       "         [0.21417006],\n",
       "         [0.21417006],\n",
       "         [0.0176592 ],\n",
       "         [0.0176592 ],\n",
       "         [0.39256426],\n",
       "         [0.39256426],\n",
       "         [0.42336707],\n",
       "         [0.42336707],\n",
       "         [0.60959168],\n",
       "         [0.60959168],\n",
       "         [0.67660661],\n",
       "         [0.67660661],\n",
       "         [0.33679393],\n",
       "         [0.33679393],\n",
       "         [0.33416784],\n",
       "         [0.33416784],\n",
       "         [0.58018676],\n",
       "         [0.58018676],\n",
       "         [0.65693652],\n",
       "         [0.65693652],\n",
       "         [0.09958402],\n",
       "         [0.09958402],\n",
       "         [0.38649635],\n",
       "         [0.38649635],\n",
       "         [0.57978672],\n",
       "         [0.57978672],\n",
       "         [0.50819516],\n",
       "         [0.50819516],\n",
       "         [0.52543329],\n",
       "         [0.52543329]])}}"
      ]
     },
     "execution_count": 1,
     "metadata": {},
     "output_type": "execute_result"
    }
   ],
   "source": [
    "ds = load_by_id(run_id_a)\n",
    "ds.get_parameter_data('x1')"
   ]
  },
  {
   "cell_type": "code",
   "execution_count": null,
   "metadata": {},
   "outputs": [],
   "source": []
  }
 ],
 "metadata": {
  "kernelspec": {
   "display_name": "Python 3",
   "language": "python",
   "name": "python3"
  },
  "language_info": {
   "codemirror_mode": {
    "name": "ipython",
    "version": 3
   },
   "file_extension": ".py",
   "mimetype": "text/x-python",
   "name": "python",
   "nbconvert_exporter": "python",
   "pygments_lexer": "ipython3",
   "version": "3.7.7"
  },
  "nbsphinx": {
   "timeout": 600
  },
  "toc": {
   "base_numbering": 1,
   "nav_menu": {},
   "number_sections": true,
   "sideBar": true,
   "skip_h1_title": false,
   "title_cell": "Table of Contents",
   "title_sidebar": "Contents",
   "toc_cell": false,
   "toc_position": {},
   "toc_section_display": true,
   "toc_window_display": false
  },
  "varInspector": {
   "cols": {
    "lenName": 16,
    "lenType": 16,
    "lenVar": 40
   },
   "kernels_config": {
    "python": {
     "delete_cmd_postfix": "",
     "delete_cmd_prefix": "del ",
     "library": "var_list.py",
     "varRefreshCmd": "print(var_dic_list())"
    },
    "r": {
     "delete_cmd_postfix": ") ",
     "delete_cmd_prefix": "rm(",
     "library": "var_list.r",
     "varRefreshCmd": "cat(var_dic_list()) "
    }
   },
   "types_to_exclude": [
    "module",
    "function",
    "builtin_function_or_method",
    "instance",
    "_Feature"
   ],
   "window_display": false
  }
 },
 "nbformat": 4,
 "nbformat_minor": 2
}
