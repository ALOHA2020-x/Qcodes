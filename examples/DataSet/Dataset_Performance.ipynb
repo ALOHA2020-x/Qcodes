{
 "cells": [
  {
   "cell_type": "markdown",
   "metadata": {},
   "source": [
    "# DataSet Performance\n",
    "\n",
    "This notebook shows the trade-off between inserting data into a database row-by-row and as binary blobs. Inserting the data row-by-row means that we have direct access to all the data and may perform queries directly on the values of the data. On the other hand, as we shall see, this is much slower than inserting the data directly as binary blobs."
   ]
  },
  {
   "cell_type": "markdown",
   "metadata": {},
   "source": [
    "First, we choose a new location for the database to ensure that we don't add a bunch of benchmarking data to the default one."
   ]
  },
  {
   "cell_type": "code",
   "execution_count": 1,
   "metadata": {
    "execution": {
     "iopub.execute_input": "2020-10-28T09:38:20.594469Z",
     "iopub.status.busy": "2020-10-28T09:38:20.593638Z",
     "iopub.status.idle": "2020-10-28T09:38:21.613663Z",
     "shell.execute_reply": "2020-10-28T09:38:21.614112Z"
    }
   },
   "outputs": [
    {
     "name": "stdout",
     "output_type": "stream",
     "text": [
      "Logging hadn't been started.\n",
      "Activating auto-logging. Current session state plus future input saved.\n",
      "Filename       : /home/vsts/.qcodes/logs/command_history.log\n",
      "Mode           : append\n",
      "Output logging : True\n",
      "Raw input log  : False\n",
      "Timestamping   : True\n",
      "State          : active\n"
     ]
    },
    {
     "name": "stdout",
     "output_type": "stream",
     "text": [
      "Qcodes Logfile : /home/vsts/.qcodes/logs/201028-14409-qcodes.log\n"
     ]
    }
   ],
   "source": [
    "import os\n",
    "cwd = os.getcwd()\n",
    "import qcodes as qc\n",
    "qc.config[\"core\"][\"db_location\"] = os.path.join(cwd, 'testing.db')\n"
   ]
  },
  {
   "cell_type": "code",
   "execution_count": 2,
   "metadata": {
    "execution": {
     "iopub.execute_input": "2020-10-28T09:38:21.621177Z",
     "iopub.status.busy": "2020-10-28T09:38:21.619408Z",
     "iopub.status.idle": "2020-10-28T09:38:21.796359Z",
     "shell.execute_reply": "2020-10-28T09:38:21.795361Z"
    }
   },
   "outputs": [],
   "source": [
    "%matplotlib inline\n",
    "import time\n",
    "import matplotlib.pyplot as plt\n",
    "import numpy as np\n",
    "\n",
    "import qcodes as qc\n",
    "from qcodes.instrument.parameter import ManualParameter\n",
    "from qcodes.dataset.experiment_container import (Experiment,\n",
    "                                                 load_last_experiment,\n",
    "                                                 new_experiment)\n",
    "from qcodes.dataset.sqlite.database import initialise_database\n",
    "from qcodes import load_or_create_experiment\n",
    "from qcodes.dataset.measurements import Measurement"
   ]
  },
  {
   "cell_type": "code",
   "execution_count": 3,
   "metadata": {
    "execution": {
     "iopub.execute_input": "2020-10-28T09:38:21.800090Z",
     "iopub.status.busy": "2020-10-28T09:38:21.799332Z",
     "iopub.status.idle": "2020-10-28T09:38:21.915175Z",
     "shell.execute_reply": "2020-10-28T09:38:21.914617Z"
    }
   },
   "outputs": [
    {
     "name": "stdout",
     "output_type": "stream",
     "text": [
      "\r",
      "0it [00:00, ?it/s]"
     ]
    },
    {
     "name": "stdout",
     "output_type": "stream",
     "text": [
      "\r",
      "Upgrading database; v0 -> v1: : 0it [00:00, ?it/s]"
     ]
    },
    {
     "name": "stdout",
     "output_type": "stream",
     "text": [
      "\r",
      "Upgrading database; v0 -> v1: : 0it [00:00, ?it/s]"
     ]
    },
    {
     "name": "stdout",
     "output_type": "stream",
     "text": [
      "\n",
      "\r",
      "  0%|          | 0/1 [00:00<?, ?it/s]"
     ]
    },
    {
     "name": "stdout",
     "output_type": "stream",
     "text": [
      "\r",
      "Upgrading database; v1 -> v2:   0%|          | 0/1 [00:00<?, ?it/s]"
     ]
    },
    {
     "name": "stdout",
     "output_type": "stream",
     "text": [
      "\r",
      "Upgrading database; v1 -> v2: 100%|██████████| 1/1 [00:00<00:00, 605.24it/s]"
     ]
    },
    {
     "name": "stdout",
     "output_type": "stream",
     "text": [
      "\n",
      "\r",
      "0it [00:00, ?it/s]"
     ]
    },
    {
     "name": "stdout",
     "output_type": "stream",
     "text": [
      "\r",
      "Upgrading database; v2 -> v3: : 0it [00:00, ?it/s]"
     ]
    },
    {
     "name": "stdout",
     "output_type": "stream",
     "text": [
      "\r",
      "Upgrading database; v2 -> v3: : 0it [00:00, ?it/s]"
     ]
    },
    {
     "name": "stdout",
     "output_type": "stream",
     "text": [
      "\n",
      "\r",
      "0it [00:00, ?it/s]"
     ]
    },
    {
     "name": "stdout",
     "output_type": "stream",
     "text": [
      "\r",
      "Upgrading database; v3 -> v4: : 0it [00:00, ?it/s]"
     ]
    },
    {
     "name": "stdout",
     "output_type": "stream",
     "text": [
      "\r",
      "Upgrading database; v3 -> v4: : 0it [00:00, ?it/s]"
     ]
    },
    {
     "name": "stdout",
     "output_type": "stream",
     "text": [
      "\n",
      "\r",
      "  0%|          | 0/1 [00:00<?, ?it/s]"
     ]
    },
    {
     "name": "stdout",
     "output_type": "stream",
     "text": [
      "\r",
      "Upgrading database; v4 -> v5:   0%|          | 0/1 [00:00<?, ?it/s]"
     ]
    },
    {
     "name": "stdout",
     "output_type": "stream",
     "text": [
      "\r",
      "Upgrading database; v4 -> v5: 100%|██████████| 1/1 [00:00<00:00, 1148.81it/s]"
     ]
    },
    {
     "name": "stdout",
     "output_type": "stream",
     "text": [
      "\n",
      "\r",
      "0it [00:00, ?it/s]"
     ]
    },
    {
     "name": "stdout",
     "output_type": "stream",
     "text": [
      "\r",
      "Upgrading database; v5 -> v6: : 0it [00:00, ?it/s]"
     ]
    },
    {
     "name": "stdout",
     "output_type": "stream",
     "text": [
      "\r",
      "Upgrading database; v5 -> v6: : 0it [00:00, ?it/s]"
     ]
    },
    {
     "name": "stdout",
     "output_type": "stream",
     "text": [
      "\n",
      "\r",
      "  0%|          | 0/1 [00:00<?, ?it/s]"
     ]
    },
    {
     "name": "stdout",
     "output_type": "stream",
     "text": [
      "\r",
      "Upgrading database; v6 -> v7:   0%|          | 0/1 [00:00<?, ?it/s]"
     ]
    },
    {
     "name": "stdout",
     "output_type": "stream",
     "text": [
      "\r",
      "Upgrading database; v6 -> v7: 100%|██████████| 1/1 [00:00<00:00, 294.71it/s]"
     ]
    },
    {
     "name": "stdout",
     "output_type": "stream",
     "text": [
      "\n",
      "\r",
      "  0%|          | 0/1 [00:00<?, ?it/s]"
     ]
    },
    {
     "name": "stdout",
     "output_type": "stream",
     "text": [
      "\r",
      "Upgrading database; v7 -> v8:   0%|          | 0/1 [00:00<?, ?it/s]"
     ]
    },
    {
     "name": "stdout",
     "output_type": "stream",
     "text": [
      "\r",
      "Upgrading database; v7 -> v8: 100%|██████████| 1/1 [00:00<00:00, 405.48it/s]"
     ]
    },
    {
     "name": "stdout",
     "output_type": "stream",
     "text": [
      "\n",
      "\r",
      "  0%|          | 0/1 [00:00<?, ?it/s]"
     ]
    },
    {
     "name": "stdout",
     "output_type": "stream",
     "text": [
      "\r",
      "Upgrading database; v8 -> v9:   0%|          | 0/1 [00:00<?, ?it/s]"
     ]
    },
    {
     "name": "stdout",
     "output_type": "stream",
     "text": [
      "\r",
      "Upgrading database; v8 -> v9: 100%|██████████| 1/1 [00:00<00:00, 937.48it/s]"
     ]
    },
    {
     "name": "stdout",
     "output_type": "stream",
     "text": [
      "\n"
     ]
    }
   ],
   "source": [
    "initialise_database()\n",
    "exp = load_or_create_experiment(experiment_name='tutorial_exp', sample_name=\"no sample\")"
   ]
  },
  {
   "cell_type": "markdown",
   "metadata": {},
   "source": [
    "Here, we define a simple function to benchmark the time it takes to insert n points with either numeric or array data type.\n",
    "We will compare both the time used to call ``add_result`` and the time used for the full measurement."
   ]
  },
  {
   "cell_type": "code",
   "execution_count": 4,
   "metadata": {
    "execution": {
     "iopub.execute_input": "2020-10-28T09:38:21.923549Z",
     "iopub.status.busy": "2020-10-28T09:38:21.923017Z",
     "iopub.status.idle": "2020-10-28T09:38:21.926079Z",
     "shell.execute_reply": "2020-10-28T09:38:21.926497Z"
    }
   },
   "outputs": [],
   "source": [
    "def insert_data(paramtype, npoints, nreps=1):\n",
    "\n",
    "    meas = Measurement(exp=exp)\n",
    "\n",
    "    x1 = ManualParameter('x1')\n",
    "    x2 = ManualParameter('x2')\n",
    "    x3 = ManualParameter('x3')\n",
    "    y1 = ManualParameter('y1')\n",
    "    y2 = ManualParameter('y2')\n",
    "\n",
    "    meas.register_parameter(x1, paramtype=paramtype)\n",
    "    meas.register_parameter(x2, paramtype=paramtype)\n",
    "    meas.register_parameter(x3, paramtype=paramtype)\n",
    "    meas.register_parameter(y1, setpoints=[x1, x2, x3],\n",
    "                            paramtype=paramtype)\n",
    "    meas.register_parameter(y2, setpoints=[x1, x2, x3],\n",
    "                            paramtype=paramtype)\n",
    "    start = time.perf_counter()\n",
    "    with meas.run() as datasaver:\n",
    "        start_adding = time.perf_counter()\n",
    "        for i in range(nreps):\n",
    "            datasaver.add_result((x1, np.random.rand(npoints)),\n",
    "                                 (x2, np.random.rand(npoints)),\n",
    "                                 (x3, np.random.rand(npoints)),\n",
    "                                 (y1, np.random.rand(npoints)),\n",
    "                                 (y2, np.random.rand(npoints)))\n",
    "        stop_adding = time.perf_counter()\n",
    "        run_id = datasaver.run_id\n",
    "    stop = time.perf_counter()\n",
    "    tot_time = stop - start\n",
    "    add_time = stop_adding - start_adding\n",
    "    return tot_time, add_time, run_id"
   ]
  },
  {
   "cell_type": "markdown",
   "metadata": {},
   "source": [
    "## Comparison between numeric/array data and binary blob"
   ]
  },
  {
   "cell_type": "markdown",
   "metadata": {},
   "source": [
    "### Case1: Short experiment time"
   ]
  },
  {
   "cell_type": "code",
   "execution_count": 5,
   "metadata": {
    "execution": {
     "iopub.execute_input": "2020-10-28T09:38:21.932143Z",
     "iopub.status.busy": "2020-10-28T09:38:21.931233Z",
     "iopub.status.idle": "2020-10-28T09:38:22.761946Z",
     "shell.execute_reply": "2020-10-28T09:38:22.761234Z"
    }
   },
   "outputs": [
    {
     "name": "stdout",
     "output_type": "stream",
     "text": [
      "Starting experimental run with id: 1. \n",
      "Starting experimental run with id: 2. \n",
      "Starting experimental run with id: 3. \n",
      "Starting experimental run with id: 4. \n"
     ]
    },
    {
     "name": "stdout",
     "output_type": "stream",
     "text": [
      "Starting experimental run with id: 5. \n"
     ]
    },
    {
     "name": "stdout",
     "output_type": "stream",
     "text": [
      "Starting experimental run with id: 6. \n"
     ]
    },
    {
     "name": "stdout",
     "output_type": "stream",
     "text": [
      "Starting experimental run with id: 7. \n"
     ]
    },
    {
     "name": "stdout",
     "output_type": "stream",
     "text": [
      "Starting experimental run with id: 8. \n",
      "Starting experimental run with id: 9. \n"
     ]
    },
    {
     "name": "stdout",
     "output_type": "stream",
     "text": [
      "Starting experimental run with id: 10. \n",
      "Starting experimental run with id: 11. \n"
     ]
    },
    {
     "name": "stdout",
     "output_type": "stream",
     "text": [
      "Starting experimental run with id: 12. \n",
      "Starting experimental run with id: 13. \n"
     ]
    },
    {
     "name": "stdout",
     "output_type": "stream",
     "text": [
      "Starting experimental run with id: 14. \n"
     ]
    }
   ],
   "source": [
    "sizes = [1,500,1000,2000,3000,4000,5000]\n",
    "t_numeric = []\n",
    "t_numeric_add = []\n",
    "t_array = []\n",
    "t_array_add = []\n",
    "for size in sizes:\n",
    "    tn, tna, run_id_n =  insert_data('numeric', size)\n",
    "    t_numeric.append(tn)\n",
    "    t_numeric_add.append(tna)\n",
    "\n",
    "    ta, taa, run_id_a =  insert_data('array', size)\n",
    "    t_array.append(ta)\n",
    "    t_array_add.append(taa)"
   ]
  },
  {
   "cell_type": "code",
   "execution_count": 6,
   "metadata": {
    "execution": {
     "iopub.execute_input": "2020-10-28T09:38:22.780145Z",
     "iopub.status.busy": "2020-10-28T09:38:22.767768Z",
     "iopub.status.idle": "2020-10-28T09:38:22.986877Z",
     "shell.execute_reply": "2020-10-28T09:38:22.986086Z"
    }
   },
   "outputs": [
    {
     "data": {
      "image/png": "[encoded data removed]",
      "text/plain": [
       "<Figure size 432x288 with 1 Axes>"
      ]
     },
     "metadata": {
      "needs_background": "light"
     },
     "output_type": "display_data"
    }
   ],
   "source": [
    "fig, ax = plt.subplots(1,1)\n",
    "ax.plot(sizes, t_numeric, 'o-', label='Inserting row-by-row')\n",
    "ax.plot(sizes, t_numeric_add, 'o-', label='Inserting row-by-row: add_result only')\n",
    "ax.plot(sizes, t_array, 'd-', label='Inserting as binary blob')\n",
    "ax.plot(sizes, t_array_add, 'd-', label='Inserting as binary blob: add_result only')\n",
    "ax.legend()\n",
    "ax.set_xlabel('Array length')\n",
    "ax.set_ylabel('Time (s)')\n",
    "fig.tight_layout()"
   ]
  },
  {
   "cell_type": "markdown",
   "metadata": {},
   "source": [
    "As shown in the latter figure, the time to setup and and close the experiment is approximately 0.4 sec. In case of small array sizes, the difference between inserting values of data as arrays and inserting them row-by-row is relatively unimportant. At larger array sizes, i.e. above 10000 points, the cost of writing data as individual datapoints starts to become important.\n"
   ]
  },
  {
   "cell_type": "markdown",
   "metadata": {},
   "source": [
    "### Case2: Long experiment time "
   ]
  },
  {
   "cell_type": "code",
   "execution_count": 7,
   "metadata": {
    "execution": {
     "iopub.execute_input": "2020-10-28T09:38:22.993031Z",
     "iopub.status.busy": "2020-10-28T09:38:22.991663Z",
     "iopub.status.idle": "2020-10-28T09:39:18.055033Z",
     "shell.execute_reply": "2020-10-28T09:39:18.054564Z"
    }
   },
   "outputs": [
    {
     "name": "stdout",
     "output_type": "stream",
     "text": [
      "Starting experimental run with id: 15. \n",
      "Starting experimental run with id: 16. \n",
      "Starting experimental run with id: 17. \n"
     ]
    },
    {
     "name": "stdout",
     "output_type": "stream",
     "text": [
      "Starting experimental run with id: 18. \n",
      "Starting experimental run with id: 19. \n"
     ]
    },
    {
     "name": "stdout",
     "output_type": "stream",
     "text": [
      "Starting experimental run with id: 20. \n"
     ]
    },
    {
     "name": "stdout",
     "output_type": "stream",
     "text": [
      "Starting experimental run with id: 21. \n"
     ]
    },
    {
     "name": "stdout",
     "output_type": "stream",
     "text": [
      "Starting experimental run with id: 22. \n"
     ]
    },
    {
     "name": "stdout",
     "output_type": "stream",
     "text": [
      "Starting experimental run with id: 23. \n"
     ]
    },
    {
     "name": "stdout",
     "output_type": "stream",
     "text": [
      "Starting experimental run with id: 24. \n"
     ]
    },
    {
     "name": "stdout",
     "output_type": "stream",
     "text": [
      "Starting experimental run with id: 25. \n"
     ]
    },
    {
     "name": "stdout",
     "output_type": "stream",
     "text": [
      "Starting experimental run with id: 26. \n"
     ]
    },
    {
     "name": "stdout",
     "output_type": "stream",
     "text": [
      "Starting experimental run with id: 27. \n"
     ]
    },
    {
     "name": "stdout",
     "output_type": "stream",
     "text": [
      "Starting experimental run with id: 28. \n"
     ]
    }
   ],
   "source": [
    "sizes = [1,500,1000,2000,3000,4000,5000]\n",
    "nreps = 100\n",
    "t_numeric = []\n",
    "t_numeric_add = []\n",
    "t_numeric_run_ids = []\n",
    "t_array = []\n",
    "t_array_add = []\n",
    "t_array_run_ids = []\n",
    "for size in sizes:\n",
    "    tn, tna, run_id_n =  insert_data('numeric', size, nreps=nreps)\n",
    "    t_numeric.append(tn)\n",
    "    t_numeric_add.append(tna)\n",
    "    t_numeric_run_ids.append(run_id_n)\n",
    "\n",
    "    ta, taa, run_id_a =  insert_data('array', size, nreps=nreps)\n",
    "    t_array.append(ta)\n",
    "    t_array_add.append(taa)\n",
    "    t_array_run_ids.append(run_id_a)"
   ]
  },
  {
   "cell_type": "code",
   "execution_count": 8,
   "metadata": {
    "execution": {
     "iopub.execute_input": "2020-10-28T09:39:18.075770Z",
     "iopub.status.busy": "2020-10-28T09:39:18.073232Z",
     "iopub.status.idle": "2020-10-28T09:39:18.288080Z",
     "shell.execute_reply": "2020-10-28T09:39:18.287539Z"
    },
    "scrolled": true
   },
   "outputs": [
    {
     "data": {
      "image/png": "[encoded data removed]",
      "text/plain": [
       "<Figure size 432x288 with 1 Axes>"
      ]
     },
     "metadata": {
      "needs_background": "light"
     },
     "output_type": "display_data"
    }
   ],
   "source": [
    "fig, ax = plt.subplots(1,1)\n",
    "ax.plot(sizes, t_numeric, 'o-', label='Inserting row-by-row')\n",
    "ax.plot(sizes, t_numeric_add, 'o-', label='Inserting row-by-row: add_result only')\n",
    "ax.plot(sizes, t_array, 'd-', label='Inserting as binary blob')\n",
    "ax.plot(sizes, t_array_add, 'd-', label='Inserting as binary blob: add_result only')\n",
    "ax.legend()\n",
    "ax.set_xlabel('Array length')\n",
    "ax.set_ylabel('Time (s)')\n",
    "fig.tight_layout()"
   ]
  },
  {
   "cell_type": "markdown",
   "metadata": {},
   "source": [
    "However, as we increase the length of the experiment, as seen here by repeating the insertion 100 times, we see a big difference between inserting values of the data row-by-row and inserting it as a binary blob."
   ]
  },
  {
   "cell_type": "markdown",
   "metadata": {},
   "source": [
    "## Loading the data "
   ]
  },
  {
   "cell_type": "code",
   "execution_count": 9,
   "metadata": {
    "execution": {
     "iopub.execute_input": "2020-10-28T09:39:18.292356Z",
     "iopub.status.busy": "2020-10-28T09:39:18.291210Z",
     "iopub.status.idle": "2020-10-28T09:39:18.295832Z",
     "shell.execute_reply": "2020-10-28T09:39:18.295261Z"
    }
   },
   "outputs": [],
   "source": [
    "from qcodes.dataset.data_set import load_by_id\n",
    "from qcodes.dataset.data_export import get_data_by_id"
   ]
  },
  {
   "cell_type": "markdown",
   "metadata": {},
   "source": [
    "As usual you can load the data by using the ``load_by_id`` function but you will notice that the different storage methods\n",
    "are reflected in shape of the data as it is retrieved. "
   ]
  },
  {
   "cell_type": "code",
   "execution_count": 10,
   "metadata": {
    "execution": {
     "iopub.execute_input": "2020-10-28T09:39:18.300414Z",
     "iopub.status.busy": "2020-10-28T09:39:18.299194Z",
     "iopub.status.idle": "2020-10-28T09:39:18.301092Z",
     "shell.execute_reply": "2020-10-28T09:39:18.301611Z"
    }
   },
   "outputs": [],
   "source": [
    "run_id_n = t_numeric_run_ids[0]\n",
    "run_id_a = t_array_run_ids[0]"
   ]
  },
  {
   "cell_type": "code",
   "execution_count": 11,
   "metadata": {
    "execution": {
     "iopub.execute_input": "2020-10-28T09:39:18.304902Z",
     "iopub.status.busy": "2020-10-28T09:39:18.304348Z",
     "iopub.status.idle": "2020-10-28T09:39:18.313113Z",
     "shell.execute_reply": "2020-10-28T09:39:18.313752Z"
    },
    "scrolled": true
   },
   "outputs": [
    {
     "data": {
      "text/plain": [
       "{'x1': {'x1': array([0.86946868, 0.86946868, 0.86053219, 0.86053219, 0.1248991 ,\n",
       "         0.1248991 , 0.59395656, 0.59395656, 0.57698587, 0.57698587,\n",
       "         0.48217112, 0.48217112, 0.09150209, 0.09150209, 0.8041099 ,\n",
       "         0.8041099 , 0.58267816, 0.58267816, 0.81700571, 0.81700571,\n",
       "         0.59886574, 0.59886574, 0.29364878, 0.29364878, 0.54899692,\n",
       "         0.54899692, 0.98696918, 0.98696918, 0.51113394, 0.51113394,\n",
       "         0.44549046, 0.44549046, 0.34374713, 0.34374713, 0.92675026,\n",
       "         0.92675026, 0.39090308, 0.39090308, 0.06305239, 0.06305239,\n",
       "         0.01657803, 0.01657803, 0.09543798, 0.09543798, 0.6063706 ,\n",
       "         0.6063706 , 0.8367538 , 0.8367538 , 0.03198798, 0.03198798,\n",
       "         0.17132157, 0.17132157, 0.29673856, 0.29673856, 0.26418848,\n",
       "         0.26418848, 0.19933043, 0.19933043, 0.89461281, 0.89461281,\n",
       "         0.86918467, 0.86918467, 0.50090882, 0.50090882, 0.87123624,\n",
       "         0.87123624, 0.17488967, 0.17488967, 0.52926257, 0.52926257,\n",
       "         0.6246748 , 0.6246748 , 0.33018725, 0.33018725, 0.2433469 ,\n",
       "         0.2433469 , 0.44842014, 0.44842014, 0.04436815, 0.04436815,\n",
       "         0.84423385, 0.84423385, 0.36194472, 0.36194472, 0.38764286,\n",
       "         0.38764286, 0.4540009 , 0.4540009 , 0.34593036, 0.34593036,\n",
       "         0.20579933, 0.20579933, 0.3421578 , 0.3421578 , 0.19823955,\n",
       "         0.19823955, 0.11487124, 0.11487124, 0.89393409, 0.89393409,\n",
       "         0.76582556, 0.76582556, 0.55206333, 0.55206333, 0.11702715,\n",
       "         0.11702715, 0.1841249 , 0.1841249 , 0.65304838, 0.65304838,\n",
       "         0.77415125, 0.77415125, 0.64375905, 0.64375905, 0.83491641,\n",
       "         0.83491641, 0.41533703, 0.41533703, 0.43381564, 0.43381564,\n",
       "         0.18233043, 0.18233043, 0.63981046, 0.63981046, 0.43930518,\n",
       "         0.43930518, 0.56686526, 0.56686526, 0.44667364, 0.44667364,\n",
       "         0.85038988, 0.85038988, 0.40449828, 0.40449828, 0.19788012,\n",
       "         0.19788012, 0.46377546, 0.46377546, 0.80458595, 0.80458595,\n",
       "         0.42342102, 0.42342102, 0.36264361, 0.36264361, 0.16612721,\n",
       "         0.16612721, 0.481782  , 0.481782  , 0.04460533, 0.04460533,\n",
       "         0.73330786, 0.73330786, 0.21279785, 0.21279785, 0.99778686,\n",
       "         0.99778686, 0.1830954 , 0.1830954 , 0.82455894, 0.82455894,\n",
       "         0.44948935, 0.44948935, 0.17520649, 0.17520649, 0.0833393 ,\n",
       "         0.0833393 , 0.30595912, 0.30595912, 0.27782509, 0.27782509,\n",
       "         0.11570269, 0.11570269, 0.98611262, 0.98611262, 0.17457325,\n",
       "         0.17457325, 0.0204831 , 0.0204831 , 0.72887518, 0.72887518,\n",
       "         0.09569751, 0.09569751, 0.80812899, 0.80812899, 0.93125944,\n",
       "         0.93125944, 0.34413174, 0.34413174, 0.01157477, 0.01157477,\n",
       "         0.61623965, 0.61623965, 0.60017638, 0.60017638, 0.01184525,\n",
       "         0.01184525, 0.0155191 , 0.0155191 , 0.70279057, 0.70279057])}}"
      ]
     },
     "execution_count": 1,
     "metadata": {},
     "output_type": "execute_result"
    }
   ],
   "source": [
    "ds = load_by_id(run_id_n)\n",
    "ds.get_parameter_data('x1')"
   ]
  },
  {
   "cell_type": "markdown",
   "metadata": {},
   "source": [
    "And a dataset stored as binary arrays"
   ]
  },
  {
   "cell_type": "code",
   "execution_count": 12,
   "metadata": {
    "execution": {
     "iopub.execute_input": "2020-10-28T09:39:18.317745Z",
     "iopub.status.busy": "2020-10-28T09:39:18.316876Z",
     "iopub.status.idle": "2020-10-28T09:39:18.376455Z",
     "shell.execute_reply": "2020-10-28T09:39:18.376927Z"
    },
    "scrolled": true
   },
   "outputs": [
    {
     "data": {
      "text/plain": [
       "{'x1': {'x1': array([[0.89218722],\n",
       "         [0.89218722],\n",
       "         [0.02611691],\n",
       "         [0.02611691],\n",
       "         [0.76872103],\n",
       "         [0.76872103],\n",
       "         [0.49253056],\n",
       "         [0.49253056],\n",
       "         [0.45710454],\n",
       "         [0.45710454],\n",
       "         [0.24218299],\n",
       "         [0.24218299],\n",
       "         [0.85186534],\n",
       "         [0.85186534],\n",
       "         [0.09783763],\n",
       "         [0.09783763],\n",
       "         [0.45462224],\n",
       "         [0.45462224],\n",
       "         [0.74504719],\n",
       "         [0.74504719],\n",
       "         [0.20878174],\n",
       "         [0.20878174],\n",
       "         [0.09408102],\n",
       "         [0.09408102],\n",
       "         [0.97077133],\n",
       "         [0.97077133],\n",
       "         [0.96970404],\n",
       "         [0.96970404],\n",
       "         [0.74017083],\n",
       "         [0.74017083],\n",
       "         [0.37121589],\n",
       "         [0.37121589],\n",
       "         [0.64500561],\n",
       "         [0.64500561],\n",
       "         [0.79520403],\n",
       "         [0.79520403],\n",
       "         [0.1372932 ],\n",
       "         [0.1372932 ],\n",
       "         [0.65671043],\n",
       "         [0.65671043],\n",
       "         [0.09757858],\n",
       "         [0.09757858],\n",
       "         [0.97964095],\n",
       "         [0.97964095],\n",
       "         [0.7537773 ],\n",
       "         [0.7537773 ],\n",
       "         [0.01428799],\n",
       "         [0.01428799],\n",
       "         [0.32529735],\n",
       "         [0.32529735],\n",
       "         [0.27511768],\n",
       "         [0.27511768],\n",
       "         [0.16460238],\n",
       "         [0.16460238],\n",
       "         [0.33811531],\n",
       "         [0.33811531],\n",
       "         [0.05714109],\n",
       "         [0.05714109],\n",
       "         [0.44947685],\n",
       "         [0.44947685],\n",
       "         [0.66568311],\n",
       "         [0.66568311],\n",
       "         [0.88519819],\n",
       "         [0.88519819],\n",
       "         [0.22903473],\n",
       "         [0.22903473],\n",
       "         [0.07901876],\n",
       "         [0.07901876],\n",
       "         [0.58085244],\n",
       "         [0.58085244],\n",
       "         [0.77559348],\n",
       "         [0.77559348],\n",
       "         [0.8181528 ],\n",
       "         [0.8181528 ],\n",
       "         [0.9167078 ],\n",
       "         [0.9167078 ],\n",
       "         [0.75841141],\n",
       "         [0.75841141],\n",
       "         [0.72272898],\n",
       "         [0.72272898],\n",
       "         [0.17253881],\n",
       "         [0.17253881],\n",
       "         [0.48652772],\n",
       "         [0.48652772],\n",
       "         [0.6982904 ],\n",
       "         [0.6982904 ],\n",
       "         [0.64777976],\n",
       "         [0.64777976],\n",
       "         [0.06095896],\n",
       "         [0.06095896],\n",
       "         [0.60226486],\n",
       "         [0.60226486],\n",
       "         [0.63077042],\n",
       "         [0.63077042],\n",
       "         [0.75218602],\n",
       "         [0.75218602],\n",
       "         [0.93093262],\n",
       "         [0.93093262],\n",
       "         [0.62668667],\n",
       "         [0.62668667],\n",
       "         [0.52304748],\n",
       "         [0.52304748],\n",
       "         [0.55590413],\n",
       "         [0.55590413],\n",
       "         [0.00803193],\n",
       "         [0.00803193],\n",
       "         [0.00397236],\n",
       "         [0.00397236],\n",
       "         [0.9838811 ],\n",
       "         [0.9838811 ],\n",
       "         [0.13375248],\n",
       "         [0.13375248],\n",
       "         [0.05859063],\n",
       "         [0.05859063],\n",
       "         [0.57040435],\n",
       "         [0.57040435],\n",
       "         [0.15974924],\n",
       "         [0.15974924],\n",
       "         [0.40614761],\n",
       "         [0.40614761],\n",
       "         [0.79433032],\n",
       "         [0.79433032],\n",
       "         [0.9189752 ],\n",
       "         [0.9189752 ],\n",
       "         [0.62402989],\n",
       "         [0.62402989],\n",
       "         [0.07730851],\n",
       "         [0.07730851],\n",
       "         [0.37849792],\n",
       "         [0.37849792],\n",
       "         [0.67941528],\n",
       "         [0.67941528],\n",
       "         [0.40671495],\n",
       "         [0.40671495],\n",
       "         [0.07501477],\n",
       "         [0.07501477],\n",
       "         [0.08467259],\n",
       "         [0.08467259],\n",
       "         [0.70627545],\n",
       "         [0.70627545],\n",
       "         [0.50691595],\n",
       "         [0.50691595],\n",
       "         [0.3482319 ],\n",
       "         [0.3482319 ],\n",
       "         [0.79943231],\n",
       "         [0.79943231],\n",
       "         [0.96570064],\n",
       "         [0.96570064],\n",
       "         [0.73898226],\n",
       "         [0.73898226],\n",
       "         [0.011719  ],\n",
       "         [0.011719  ],\n",
       "         [0.0787074 ],\n",
       "         [0.0787074 ],\n",
       "         [0.34705928],\n",
       "         [0.34705928],\n",
       "         [0.22348258],\n",
       "         [0.22348258],\n",
       "         [0.51624744],\n",
       "         [0.51624744],\n",
       "         [0.5173555 ],\n",
       "         [0.5173555 ],\n",
       "         [0.07799774],\n",
       "         [0.07799774],\n",
       "         [0.73304655],\n",
       "         [0.73304655],\n",
       "         [0.62065862],\n",
       "         [0.62065862],\n",
       "         [0.79879426],\n",
       "         [0.79879426],\n",
       "         [0.29242737],\n",
       "         [0.29242737],\n",
       "         [0.48665927],\n",
       "         [0.48665927],\n",
       "         [0.99877789],\n",
       "         [0.99877789],\n",
       "         [0.69762521],\n",
       "         [0.69762521],\n",
       "         [0.59306643],\n",
       "         [0.59306643],\n",
       "         [0.57124109],\n",
       "         [0.57124109],\n",
       "         [0.23384498],\n",
       "         [0.23384498],\n",
       "         [0.00764148],\n",
       "         [0.00764148],\n",
       "         [0.78231541],\n",
       "         [0.78231541],\n",
       "         [0.77646424],\n",
       "         [0.77646424],\n",
       "         [0.07347561],\n",
       "         [0.07347561],\n",
       "         [0.9549568 ],\n",
       "         [0.9549568 ],\n",
       "         [0.11465599],\n",
       "         [0.11465599],\n",
       "         [0.09969406],\n",
       "         [0.09969406],\n",
       "         [0.95688761],\n",
       "         [0.95688761]])}}"
      ]
     },
     "execution_count": 1,
     "metadata": {},
     "output_type": "execute_result"
    }
   ],
   "source": [
    "ds = load_by_id(run_id_a)\n",
    "ds.get_parameter_data('x1')"
   ]
  },
  {
   "cell_type": "code",
   "execution_count": null,
   "metadata": {},
   "outputs": [],
   "source": []
  }
 ],
 "metadata": {
  "kernelspec": {
   "display_name": "Python 3",
   "language": "python",
   "name": "python3"
  },
  "language_info": {
   "codemirror_mode": {
    "name": "ipython",
    "version": 3
   },
   "file_extension": ".py",
   "mimetype": "text/x-python",
   "name": "python",
   "nbconvert_exporter": "python",
   "pygments_lexer": "ipython3",
   "version": "3.7.7"
  },
  "nbsphinx": {
   "timeout": 600
  },
  "toc": {
   "base_numbering": 1,
   "nav_menu": {},
   "number_sections": true,
   "sideBar": true,
   "skip_h1_title": false,
   "title_cell": "Table of Contents",
   "title_sidebar": "Contents",
   "toc_cell": false,
   "toc_position": {},
   "toc_section_display": true,
   "toc_window_display": false
  },
  "varInspector": {
   "cols": {
    "lenName": 16,
    "lenType": 16,
    "lenVar": 40
   },
   "kernels_config": {
    "python": {
     "delete_cmd_postfix": "",
     "delete_cmd_prefix": "del ",
     "library": "var_list.py",
     "varRefreshCmd": "print(var_dic_list())"
    },
    "r": {
     "delete_cmd_postfix": ") ",
     "delete_cmd_prefix": "rm(",
     "library": "var_list.r",
     "varRefreshCmd": "cat(var_dic_list()) "
    }
   },
   "types_to_exclude": [
    "module",
    "function",
    "builtin_function_or_method",
    "instance",
    "_Feature"
   ],
   "window_display": false
  }
 },
 "nbformat": 4,
 "nbformat_minor": 2
}
