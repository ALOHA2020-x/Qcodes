{
 "cells": [
  {
   "cell_type": "markdown",
   "metadata": {},
   "source": [
    "# DataSet Performance\n",
    "\n",
    "This notebook shows the trade-off between inserting data into a database row-by-row and as binary blobs. Inserting the data row-by-row means that we have direct access to all the data and may perform queries directly on the values of the data. On the other hand, as we shall see, this is much slower than inserting the data directly as binary blobs."
   ]
  },
  {
   "cell_type": "markdown",
   "metadata": {},
   "source": [
    "First, we choose a new location for the database to ensure that we don't add a bunch of benchmarking data to the default one."
   ]
  },
  {
   "cell_type": "code",
   "execution_count": 1,
   "metadata": {
    "execution": {
     "iopub.execute_input": "2021-02-26T07:35:15.278375Z",
     "iopub.status.busy": "2021-02-26T07:35:15.277769Z",
     "iopub.status.idle": "2021-02-26T07:35:16.226324Z",
     "shell.execute_reply": "2021-02-26T07:35:16.226784Z"
    }
   },
   "outputs": [
    {
     "name": "stdout",
     "output_type": "stream",
     "text": [
      "Logging hadn't been started.\n",
      "Activating auto-logging. Current session state plus future input saved.\n",
      "Filename       : /home/runner/.qcodes/logs/command_history.log\n",
      "Mode           : append\n",
      "Output logging : True\n",
      "Raw input log  : False\n",
      "Timestamping   : True\n",
      "State          : active\n"
     ]
    },
    {
     "name": "stdout",
     "output_type": "stream",
     "text": [
      "Qcodes Logfile : /home/runner/.qcodes/logs/210226-4164-qcodes.log\n"
     ]
    }
   ],
   "source": [
    "import os\n",
    "cwd = os.getcwd()\n",
    "import qcodes as qc\n",
    "qc.config[\"core\"][\"db_location\"] = os.path.join(cwd, 'testing.db')\n"
   ]
  },
  {
   "cell_type": "code",
   "execution_count": 2,
   "metadata": {
    "execution": {
     "iopub.execute_input": "2021-02-26T07:35:16.232912Z",
     "iopub.status.busy": "2021-02-26T07:35:16.232026Z",
     "iopub.status.idle": "2021-02-26T07:35:16.443664Z",
     "shell.execute_reply": "2021-02-26T07:35:16.442259Z"
    }
   },
   "outputs": [],
   "source": [
    "%matplotlib inline\n",
    "import time\n",
    "import matplotlib.pyplot as plt\n",
    "import numpy as np\n",
    "\n",
    "import qcodes as qc\n",
    "from qcodes.instrument.parameter import ManualParameter\n",
    "from qcodes.dataset.experiment_container import (Experiment,\n",
    "                                                 load_last_experiment,\n",
    "                                                 new_experiment)\n",
    "from qcodes.dataset.sqlite.database import initialise_database\n",
    "from qcodes import load_or_create_experiment\n",
    "from qcodes.dataset.measurements import Measurement"
   ]
  },
  {
   "cell_type": "code",
   "execution_count": 3,
   "metadata": {
    "execution": {
     "iopub.execute_input": "2021-02-26T07:35:16.448921Z",
     "iopub.status.busy": "2021-02-26T07:35:16.448140Z",
     "iopub.status.idle": "2021-02-26T07:35:16.565350Z",
     "shell.execute_reply": "2021-02-26T07:35:16.565851Z"
    }
   },
   "outputs": [
    {
     "name": "stdout",
     "output_type": "stream",
     "text": [
      "\r",
      "0it [00:00, ?it/s]"
     ]
    },
    {
     "name": "stdout",
     "output_type": "stream",
     "text": [
      "\r",
      "Upgrading database; v0 -> v1: : 0it [00:00, ?it/s]"
     ]
    },
    {
     "name": "stdout",
     "output_type": "stream",
     "text": [
      "\r",
      "Upgrading database; v0 -> v1: : 0it [00:00, ?it/s]"
     ]
    },
    {
     "name": "stdout",
     "output_type": "stream",
     "text": [
      "\n",
      "\r",
      "  0%|          | 0/1 [00:00<?, ?it/s]"
     ]
    },
    {
     "name": "stdout",
     "output_type": "stream",
     "text": [
      "\r",
      "Upgrading database; v1 -> v2:   0%|          | 0/1 [00:00<?, ?it/s]"
     ]
    },
    {
     "name": "stdout",
     "output_type": "stream",
     "text": [
      "\r",
      "Upgrading database; v1 -> v2: 100%|██████████| 1/1 [00:00<00:00, 558.12it/s]"
     ]
    },
    {
     "name": "stdout",
     "output_type": "stream",
     "text": [
      "\n",
      "\r",
      "0it [00:00, ?it/s]"
     ]
    },
    {
     "name": "stdout",
     "output_type": "stream",
     "text": [
      "\r",
      "Upgrading database; v2 -> v3: : 0it [00:00, ?it/s]"
     ]
    },
    {
     "name": "stdout",
     "output_type": "stream",
     "text": [
      "\r",
      "Upgrading database; v2 -> v3: : 0it [00:00, ?it/s]"
     ]
    },
    {
     "name": "stdout",
     "output_type": "stream",
     "text": [
      "\n",
      "\r",
      "0it [00:00, ?it/s]"
     ]
    },
    {
     "name": "stdout",
     "output_type": "stream",
     "text": [
      "\r",
      "Upgrading database; v3 -> v4: : 0it [00:00, ?it/s]"
     ]
    },
    {
     "name": "stdout",
     "output_type": "stream",
     "text": [
      "\r",
      "Upgrading database; v3 -> v4: : 0it [00:00, ?it/s]"
     ]
    },
    {
     "name": "stdout",
     "output_type": "stream",
     "text": [
      "\n",
      "\r",
      "  0%|          | 0/1 [00:00<?, ?it/s]"
     ]
    },
    {
     "name": "stdout",
     "output_type": "stream",
     "text": [
      "\r",
      "Upgrading database; v4 -> v5:   0%|          | 0/1 [00:00<?, ?it/s]"
     ]
    },
    {
     "name": "stdout",
     "output_type": "stream",
     "text": [
      "\r",
      "Upgrading database; v4 -> v5: 100%|██████████| 1/1 [00:00<00:00, 720.79it/s]"
     ]
    },
    {
     "name": "stdout",
     "output_type": "stream",
     "text": [
      "\n",
      "\r",
      "0it [00:00, ?it/s]"
     ]
    },
    {
     "name": "stdout",
     "output_type": "stream",
     "text": [
      "\r",
      "Upgrading database; v5 -> v6: : 0it [00:00, ?it/s]"
     ]
    },
    {
     "name": "stdout",
     "output_type": "stream",
     "text": [
      "\r",
      "Upgrading database; v5 -> v6: : 0it [00:00, ?it/s]"
     ]
    },
    {
     "name": "stdout",
     "output_type": "stream",
     "text": [
      "\n",
      "\r",
      "  0%|          | 0/1 [00:00<?, ?it/s]"
     ]
    },
    {
     "name": "stdout",
     "output_type": "stream",
     "text": [
      "\r",
      "Upgrading database; v6 -> v7:   0%|          | 0/1 [00:00<?, ?it/s]"
     ]
    },
    {
     "name": "stdout",
     "output_type": "stream",
     "text": [
      "\r",
      "Upgrading database; v6 -> v7: 100%|██████████| 1/1 [00:00<00:00, 326.89it/s]"
     ]
    },
    {
     "name": "stdout",
     "output_type": "stream",
     "text": [
      "\n",
      "\r",
      "  0%|          | 0/1 [00:00<?, ?it/s]"
     ]
    },
    {
     "name": "stdout",
     "output_type": "stream",
     "text": [
      "\r",
      "Upgrading database; v7 -> v8:   0%|          | 0/1 [00:00<?, ?it/s]"
     ]
    },
    {
     "name": "stdout",
     "output_type": "stream",
     "text": [
      "\r",
      "Upgrading database; v7 -> v8: 100%|██████████| 1/1 [00:00<00:00, 766.78it/s]"
     ]
    },
    {
     "name": "stdout",
     "output_type": "stream",
     "text": [
      "\n",
      "\r",
      "  0%|          | 0/1 [00:00<?, ?it/s]"
     ]
    },
    {
     "name": "stdout",
     "output_type": "stream",
     "text": [
      "\r",
      "Upgrading database; v8 -> v9:   0%|          | 0/1 [00:00<?, ?it/s]"
     ]
    },
    {
     "name": "stdout",
     "output_type": "stream",
     "text": [
      "\r",
      "Upgrading database; v8 -> v9: 100%|██████████| 1/1 [00:00<00:00, 461.01it/s]"
     ]
    },
    {
     "name": "stdout",
     "output_type": "stream",
     "text": [
      "\n"
     ]
    }
   ],
   "source": [
    "initialise_database()\n",
    "exp = load_or_create_experiment(experiment_name='tutorial_exp', sample_name=\"no sample\")"
   ]
  },
  {
   "cell_type": "markdown",
   "metadata": {},
   "source": [
    "Here, we define a simple function to benchmark the time it takes to insert n points with either numeric or array data type.\n",
    "We will compare both the time used to call ``add_result`` and the time used for the full measurement."
   ]
  },
  {
   "cell_type": "code",
   "execution_count": 4,
   "metadata": {
    "execution": {
     "iopub.execute_input": "2021-02-26T07:35:16.574552Z",
     "iopub.status.busy": "2021-02-26T07:35:16.573238Z",
     "iopub.status.idle": "2021-02-26T07:35:16.577230Z",
     "shell.execute_reply": "2021-02-26T07:35:16.577714Z"
    }
   },
   "outputs": [],
   "source": [
    "def insert_data(paramtype, npoints, nreps=1):\n",
    "\n",
    "    meas = Measurement(exp=exp)\n",
    "\n",
    "    x1 = ManualParameter('x1')\n",
    "    x2 = ManualParameter('x2')\n",
    "    x3 = ManualParameter('x3')\n",
    "    y1 = ManualParameter('y1')\n",
    "    y2 = ManualParameter('y2')\n",
    "\n",
    "    meas.register_parameter(x1, paramtype=paramtype)\n",
    "    meas.register_parameter(x2, paramtype=paramtype)\n",
    "    meas.register_parameter(x3, paramtype=paramtype)\n",
    "    meas.register_parameter(y1, setpoints=[x1, x2, x3],\n",
    "                            paramtype=paramtype)\n",
    "    meas.register_parameter(y2, setpoints=[x1, x2, x3],\n",
    "                            paramtype=paramtype)\n",
    "    start = time.perf_counter()\n",
    "    with meas.run() as datasaver:\n",
    "        start_adding = time.perf_counter()\n",
    "        for i in range(nreps):\n",
    "            datasaver.add_result((x1, np.random.rand(npoints)),\n",
    "                                 (x2, np.random.rand(npoints)),\n",
    "                                 (x3, np.random.rand(npoints)),\n",
    "                                 (y1, np.random.rand(npoints)),\n",
    "                                 (y2, np.random.rand(npoints)))\n",
    "        stop_adding = time.perf_counter()\n",
    "        run_id = datasaver.run_id\n",
    "    stop = time.perf_counter()\n",
    "    tot_time = stop - start\n",
    "    add_time = stop_adding - start_adding\n",
    "    return tot_time, add_time, run_id"
   ]
  },
  {
   "cell_type": "markdown",
   "metadata": {},
   "source": [
    "## Comparison between numeric/array data and binary blob"
   ]
  },
  {
   "cell_type": "markdown",
   "metadata": {},
   "source": [
    "### Case1: Short experiment time"
   ]
  },
  {
   "cell_type": "code",
   "execution_count": 5,
   "metadata": {
    "execution": {
     "iopub.execute_input": "2021-02-26T07:35:16.585183Z",
     "iopub.status.busy": "2021-02-26T07:35:16.584222Z",
     "iopub.status.idle": "2021-02-26T07:35:17.468115Z",
     "shell.execute_reply": "2021-02-26T07:35:17.467619Z"
    }
   },
   "outputs": [
    {
     "name": "stdout",
     "output_type": "stream",
     "text": [
      "Starting experimental run with id: 1. \n",
      "Starting experimental run with id: 2. \n",
      "Starting experimental run with id: 3. \n",
      "Starting experimental run with id: 4. \n",
      "Starting experimental run with id: 5. \n"
     ]
    },
    {
     "name": "stdout",
     "output_type": "stream",
     "text": [
      "Starting experimental run with id: 6. \n"
     ]
    },
    {
     "name": "stdout",
     "output_type": "stream",
     "text": [
      "Starting experimental run with id: 7. \n"
     ]
    },
    {
     "name": "stdout",
     "output_type": "stream",
     "text": [
      "Starting experimental run with id: 8. \n",
      "Starting experimental run with id: 9. \n"
     ]
    },
    {
     "name": "stdout",
     "output_type": "stream",
     "text": [
      "Starting experimental run with id: 10. \n",
      "Starting experimental run with id: 11. \n"
     ]
    },
    {
     "name": "stdout",
     "output_type": "stream",
     "text": [
      "Starting experimental run with id: 12. \n",
      "Starting experimental run with id: 13. \n"
     ]
    },
    {
     "name": "stdout",
     "output_type": "stream",
     "text": [
      "Starting experimental run with id: 14. \n"
     ]
    }
   ],
   "source": [
    "sizes = [1,500,1000,2000,3000,4000,5000]\n",
    "t_numeric = []\n",
    "t_numeric_add = []\n",
    "t_array = []\n",
    "t_array_add = []\n",
    "for size in sizes:\n",
    "    tn, tna, run_id_n =  insert_data('numeric', size)\n",
    "    t_numeric.append(tn)\n",
    "    t_numeric_add.append(tna)\n",
    "\n",
    "    ta, taa, run_id_a =  insert_data('array', size)\n",
    "    t_array.append(ta)\n",
    "    t_array_add.append(taa)"
   ]
  },
  {
   "cell_type": "code",
   "execution_count": 6,
   "metadata": {
    "execution": {
     "iopub.execute_input": "2021-02-26T07:35:17.514073Z",
     "iopub.status.busy": "2021-02-26T07:35:17.513099Z",
     "iopub.status.idle": "2021-02-26T07:35:17.685336Z",
     "shell.execute_reply": "2021-02-26T07:35:17.684724Z"
    }
   },
   "outputs": [
    {
     "data": {
      "image/png": "[encoded data removed]",
      "text/plain": [
       "<Figure size 432x288 with 1 Axes>"
      ]
     },
     "metadata": {
      "needs_background": "light"
     },
     "output_type": "display_data"
    }
   ],
   "source": [
    "fig, ax = plt.subplots(1,1)\n",
    "ax.plot(sizes, t_numeric, 'o-', label='Inserting row-by-row')\n",
    "ax.plot(sizes, t_numeric_add, 'o-', label='Inserting row-by-row: add_result only')\n",
    "ax.plot(sizes, t_array, 'd-', label='Inserting as binary blob')\n",
    "ax.plot(sizes, t_array_add, 'd-', label='Inserting as binary blob: add_result only')\n",
    "ax.legend()\n",
    "ax.set_xlabel('Array length')\n",
    "ax.set_ylabel('Time (s)')\n",
    "fig.tight_layout()"
   ]
  },
  {
   "cell_type": "markdown",
   "metadata": {},
   "source": [
    "As shown in the latter figure, the time to setup and and close the experiment is approximately 0.4 sec. In case of small array sizes, the difference between inserting values of data as arrays and inserting them row-by-row is relatively unimportant. At larger array sizes, i.e. above 10000 points, the cost of writing data as individual datapoints starts to become important.\n"
   ]
  },
  {
   "cell_type": "markdown",
   "metadata": {},
   "source": [
    "### Case2: Long experiment time "
   ]
  },
  {
   "cell_type": "code",
   "execution_count": 7,
   "metadata": {
    "execution": {
     "iopub.execute_input": "2021-02-26T07:35:17.691627Z",
     "iopub.status.busy": "2021-02-26T07:35:17.690073Z",
     "iopub.status.idle": "2021-02-26T07:36:18.820323Z",
     "shell.execute_reply": "2021-02-26T07:36:18.819449Z"
    }
   },
   "outputs": [
    {
     "name": "stdout",
     "output_type": "stream",
     "text": [
      "Starting experimental run with id: 15. \n",
      "Starting experimental run with id: 16. \n",
      "Starting experimental run with id: 17. \n"
     ]
    },
    {
     "name": "stdout",
     "output_type": "stream",
     "text": [
      "Starting experimental run with id: 18. \n"
     ]
    },
    {
     "name": "stdout",
     "output_type": "stream",
     "text": [
      "Starting experimental run with id: 19. \n"
     ]
    },
    {
     "name": "stdout",
     "output_type": "stream",
     "text": [
      "Starting experimental run with id: 20. \n"
     ]
    },
    {
     "name": "stdout",
     "output_type": "stream",
     "text": [
      "Starting experimental run with id: 21. \n"
     ]
    },
    {
     "name": "stdout",
     "output_type": "stream",
     "text": [
      "Starting experimental run with id: 22. \n"
     ]
    },
    {
     "name": "stdout",
     "output_type": "stream",
     "text": [
      "Starting experimental run with id: 23. \n"
     ]
    },
    {
     "name": "stdout",
     "output_type": "stream",
     "text": [
      "Starting experimental run with id: 24. \n"
     ]
    },
    {
     "name": "stdout",
     "output_type": "stream",
     "text": [
      "Starting experimental run with id: 25. \n"
     ]
    },
    {
     "name": "stdout",
     "output_type": "stream",
     "text": [
      "Starting experimental run with id: 26. \n"
     ]
    },
    {
     "name": "stdout",
     "output_type": "stream",
     "text": [
      "Starting experimental run with id: 27. \n"
     ]
    },
    {
     "name": "stdout",
     "output_type": "stream",
     "text": [
      "Starting experimental run with id: 28. \n"
     ]
    }
   ],
   "source": [
    "sizes = [1,500,1000,2000,3000,4000,5000]\n",
    "nreps = 100\n",
    "t_numeric = []\n",
    "t_numeric_add = []\n",
    "t_numeric_run_ids = []\n",
    "t_array = []\n",
    "t_array_add = []\n",
    "t_array_run_ids = []\n",
    "for size in sizes:\n",
    "    tn, tna, run_id_n =  insert_data('numeric', size, nreps=nreps)\n",
    "    t_numeric.append(tn)\n",
    "    t_numeric_add.append(tna)\n",
    "    t_numeric_run_ids.append(run_id_n)\n",
    "\n",
    "    ta, taa, run_id_a =  insert_data('array', size, nreps=nreps)\n",
    "    t_array.append(ta)\n",
    "    t_array_add.append(taa)\n",
    "    t_array_run_ids.append(run_id_a)"
   ]
  },
  {
   "cell_type": "code",
   "execution_count": 8,
   "metadata": {
    "execution": {
     "iopub.execute_input": "2021-02-26T07:36:18.864038Z",
     "iopub.status.busy": "2021-02-26T07:36:18.863114Z",
     "iopub.status.idle": "2021-02-26T07:36:19.036524Z",
     "shell.execute_reply": "2021-02-26T07:36:19.036026Z"
    },
    "scrolled": true
   },
   "outputs": [
    {
     "data": {
      "image/png": "[encoded data removed]",
      "text/plain": [
       "<Figure size 432x288 with 1 Axes>"
      ]
     },
     "metadata": {
      "needs_background": "light"
     },
     "output_type": "display_data"
    }
   ],
   "source": [
    "fig, ax = plt.subplots(1,1)\n",
    "ax.plot(sizes, t_numeric, 'o-', label='Inserting row-by-row')\n",
    "ax.plot(sizes, t_numeric_add, 'o-', label='Inserting row-by-row: add_result only')\n",
    "ax.plot(sizes, t_array, 'd-', label='Inserting as binary blob')\n",
    "ax.plot(sizes, t_array_add, 'd-', label='Inserting as binary blob: add_result only')\n",
    "ax.legend()\n",
    "ax.set_xlabel('Array length')\n",
    "ax.set_ylabel('Time (s)')\n",
    "fig.tight_layout()"
   ]
  },
  {
   "cell_type": "markdown",
   "metadata": {},
   "source": [
    "However, as we increase the length of the experiment, as seen here by repeating the insertion 100 times, we see a big difference between inserting values of the data row-by-row and inserting it as a binary blob."
   ]
  },
  {
   "cell_type": "markdown",
   "metadata": {},
   "source": [
    "## Loading the data "
   ]
  },
  {
   "cell_type": "code",
   "execution_count": 9,
   "metadata": {
    "execution": {
     "iopub.execute_input": "2021-02-26T07:36:19.041165Z",
     "iopub.status.busy": "2021-02-26T07:36:19.040138Z",
     "iopub.status.idle": "2021-02-26T07:36:19.043370Z",
     "shell.execute_reply": "2021-02-26T07:36:19.042860Z"
    }
   },
   "outputs": [],
   "source": [
    "from qcodes.dataset.data_set import load_by_id\n",
    "from qcodes.dataset.data_export import get_data_by_id"
   ]
  },
  {
   "cell_type": "markdown",
   "metadata": {},
   "source": [
    "As usual you can load the data by using the ``load_by_id`` function but you will notice that the different storage methods\n",
    "are reflected in shape of the data as it is retrieved. "
   ]
  },
  {
   "cell_type": "code",
   "execution_count": 10,
   "metadata": {
    "execution": {
     "iopub.execute_input": "2021-02-26T07:36:19.048593Z",
     "iopub.status.busy": "2021-02-26T07:36:19.047739Z",
     "iopub.status.idle": "2021-02-26T07:36:19.049235Z",
     "shell.execute_reply": "2021-02-26T07:36:19.049678Z"
    }
   },
   "outputs": [],
   "source": [
    "run_id_n = t_numeric_run_ids[0]\n",
    "run_id_a = t_array_run_ids[0]"
   ]
  },
  {
   "cell_type": "code",
   "execution_count": 11,
   "metadata": {
    "execution": {
     "iopub.execute_input": "2021-02-26T07:36:19.053278Z",
     "iopub.status.busy": "2021-02-26T07:36:19.052678Z",
     "iopub.status.idle": "2021-02-26T07:36:19.062602Z",
     "shell.execute_reply": "2021-02-26T07:36:19.063080Z"
    },
    "scrolled": true
   },
   "outputs": [
    {
     "data": {
      "text/plain": [
       "{'x1': {'x1': array([0.45707526, 0.45707526, 0.87051568, 0.87051568, 0.64988272,\n",
       "         0.64988272, 0.41076385, 0.41076385, 0.99162673, 0.99162673,\n",
       "         0.73253963, 0.73253963, 0.56907469, 0.56907469, 0.52564816,\n",
       "         0.52564816, 0.1185166 , 0.1185166 , 0.91129464, 0.91129464,\n",
       "         0.44500466, 0.44500466, 0.71271031, 0.71271031, 0.99246506,\n",
       "         0.99246506, 0.35434999, 0.35434999, 0.51285552, 0.51285552,\n",
       "         0.98457373, 0.98457373, 0.66112047, 0.66112047, 0.30235629,\n",
       "         0.30235629, 0.10748731, 0.10748731, 0.41649682, 0.41649682,\n",
       "         0.66882736, 0.66882736, 0.71122326, 0.71122326, 0.86414668,\n",
       "         0.86414668, 0.74799014, 0.74799014, 0.78328979, 0.78328979,\n",
       "         0.76715779, 0.76715779, 0.97299483, 0.97299483, 0.90218134,\n",
       "         0.90218134, 0.79363769, 0.79363769, 0.19232385, 0.19232385,\n",
       "         0.51709058, 0.51709058, 0.16321286, 0.16321286, 0.83989085,\n",
       "         0.83989085, 0.3673351 , 0.3673351 , 0.0490182 , 0.0490182 ,\n",
       "         0.52901552, 0.52901552, 0.1783042 , 0.1783042 , 0.26955366,\n",
       "         0.26955366, 0.91075792, 0.91075792, 0.54093965, 0.54093965,\n",
       "         0.56709294, 0.56709294, 0.11281064, 0.11281064, 0.17901126,\n",
       "         0.17901126, 0.08447857, 0.08447857, 0.28083529, 0.28083529,\n",
       "         0.19864269, 0.19864269, 0.87545381, 0.87545381, 0.85453951,\n",
       "         0.85453951, 0.02853201, 0.02853201, 0.06933118, 0.06933118,\n",
       "         0.79119877, 0.79119877, 0.1701262 , 0.1701262 , 0.31417627,\n",
       "         0.31417627, 0.99525699, 0.99525699, 0.19270621, 0.19270621,\n",
       "         0.00984486, 0.00984486, 0.85362107, 0.85362107, 0.59365659,\n",
       "         0.59365659, 0.98479557, 0.98479557, 0.53474696, 0.53474696,\n",
       "         0.14832696, 0.14832696, 0.69433776, 0.69433776, 0.05330203,\n",
       "         0.05330203, 0.86792589, 0.86792589, 0.04725193, 0.04725193,\n",
       "         0.52017623, 0.52017623, 0.12356588, 0.12356588, 0.03264717,\n",
       "         0.03264717, 0.99928575, 0.99928575, 0.11372064, 0.11372064,\n",
       "         0.77742667, 0.77742667, 0.03779527, 0.03779527, 0.2546391 ,\n",
       "         0.2546391 , 0.06610245, 0.06610245, 0.90831243, 0.90831243,\n",
       "         0.52850664, 0.52850664, 0.78494184, 0.78494184, 0.66458218,\n",
       "         0.66458218, 0.87422249, 0.87422249, 0.74668681, 0.74668681,\n",
       "         0.24576519, 0.24576519, 0.67356184, 0.67356184, 0.61210367,\n",
       "         0.61210367, 0.73082785, 0.73082785, 0.15147282, 0.15147282,\n",
       "         0.67623845, 0.67623845, 0.25840364, 0.25840364, 0.02835967,\n",
       "         0.02835967, 0.71627866, 0.71627866, 0.18591114, 0.18591114,\n",
       "         0.52993659, 0.52993659, 0.53060133, 0.53060133, 0.42474857,\n",
       "         0.42474857, 0.22609682, 0.22609682, 0.97898875, 0.97898875,\n",
       "         0.92449142, 0.92449142, 0.39719535, 0.39719535, 0.23764622,\n",
       "         0.23764622, 0.94376344, 0.94376344, 0.36605549, 0.36605549])}}"
      ]
     },
     "execution_count": 1,
     "metadata": {},
     "output_type": "execute_result"
    }
   ],
   "source": [
    "ds = load_by_id(run_id_n)\n",
    "ds.get_parameter_data('x1')"
   ]
  },
  {
   "cell_type": "markdown",
   "metadata": {},
   "source": [
    "And a dataset stored as binary arrays"
   ]
  },
  {
   "cell_type": "code",
   "execution_count": 12,
   "metadata": {
    "execution": {
     "iopub.execute_input": "2021-02-26T07:36:19.066771Z",
     "iopub.status.busy": "2021-02-26T07:36:19.066205Z",
     "iopub.status.idle": "2021-02-26T07:36:19.125744Z",
     "shell.execute_reply": "2021-02-26T07:36:19.126607Z"
    },
    "scrolled": true
   },
   "outputs": [
    {
     "data": {
      "text/plain": [
       "{'x1': {'x1': array([[0.44878338],\n",
       "         [0.44878338],\n",
       "         [0.97447883],\n",
       "         [0.97447883],\n",
       "         [0.18738021],\n",
       "         [0.18738021],\n",
       "         [0.46348621],\n",
       "         [0.46348621],\n",
       "         [0.29354175],\n",
       "         [0.29354175],\n",
       "         [0.98358846],\n",
       "         [0.98358846],\n",
       "         [0.49542042],\n",
       "         [0.49542042],\n",
       "         [0.05689091],\n",
       "         [0.05689091],\n",
       "         [0.65184662],\n",
       "         [0.65184662],\n",
       "         [0.62491353],\n",
       "         [0.62491353],\n",
       "         [0.64912641],\n",
       "         [0.64912641],\n",
       "         [0.80864464],\n",
       "         [0.80864464],\n",
       "         [0.36957712],\n",
       "         [0.36957712],\n",
       "         [0.84903024],\n",
       "         [0.84903024],\n",
       "         [0.8042066 ],\n",
       "         [0.8042066 ],\n",
       "         [0.41009466],\n",
       "         [0.41009466],\n",
       "         [0.66931476],\n",
       "         [0.66931476],\n",
       "         [0.45862202],\n",
       "         [0.45862202],\n",
       "         [0.07283408],\n",
       "         [0.07283408],\n",
       "         [0.61861052],\n",
       "         [0.61861052],\n",
       "         [0.50093167],\n",
       "         [0.50093167],\n",
       "         [0.2868713 ],\n",
       "         [0.2868713 ],\n",
       "         [0.64672237],\n",
       "         [0.64672237],\n",
       "         [0.20085613],\n",
       "         [0.20085613],\n",
       "         [0.63123964],\n",
       "         [0.63123964],\n",
       "         [0.31873564],\n",
       "         [0.31873564],\n",
       "         [0.90065341],\n",
       "         [0.90065341],\n",
       "         [0.08811609],\n",
       "         [0.08811609],\n",
       "         [0.47442706],\n",
       "         [0.47442706],\n",
       "         [0.02770272],\n",
       "         [0.02770272],\n",
       "         [0.53319678],\n",
       "         [0.53319678],\n",
       "         [0.05454843],\n",
       "         [0.05454843],\n",
       "         [0.52257907],\n",
       "         [0.52257907],\n",
       "         [0.37125513],\n",
       "         [0.37125513],\n",
       "         [0.61189117],\n",
       "         [0.61189117],\n",
       "         [0.59603334],\n",
       "         [0.59603334],\n",
       "         [0.50982426],\n",
       "         [0.50982426],\n",
       "         [0.47786836],\n",
       "         [0.47786836],\n",
       "         [0.62646792],\n",
       "         [0.62646792],\n",
       "         [0.74098154],\n",
       "         [0.74098154],\n",
       "         [0.95302262],\n",
       "         [0.95302262],\n",
       "         [0.12950059],\n",
       "         [0.12950059],\n",
       "         [0.27752363],\n",
       "         [0.27752363],\n",
       "         [0.80228626],\n",
       "         [0.80228626],\n",
       "         [0.06103162],\n",
       "         [0.06103162],\n",
       "         [0.61491415],\n",
       "         [0.61491415],\n",
       "         [0.79680511],\n",
       "         [0.79680511],\n",
       "         [0.67813114],\n",
       "         [0.67813114],\n",
       "         [0.36006005],\n",
       "         [0.36006005],\n",
       "         [0.66667075],\n",
       "         [0.66667075],\n",
       "         [0.38731613],\n",
       "         [0.38731613],\n",
       "         [0.89403568],\n",
       "         [0.89403568],\n",
       "         [0.8743254 ],\n",
       "         [0.8743254 ],\n",
       "         [0.7182926 ],\n",
       "         [0.7182926 ],\n",
       "         [0.33888005],\n",
       "         [0.33888005],\n",
       "         [0.80577056],\n",
       "         [0.80577056],\n",
       "         [0.7878692 ],\n",
       "         [0.7878692 ],\n",
       "         [0.06840614],\n",
       "         [0.06840614],\n",
       "         [0.35807974],\n",
       "         [0.35807974],\n",
       "         [0.95476848],\n",
       "         [0.95476848],\n",
       "         [0.31742848],\n",
       "         [0.31742848],\n",
       "         [0.3244836 ],\n",
       "         [0.3244836 ],\n",
       "         [0.60612707],\n",
       "         [0.60612707],\n",
       "         [0.3760897 ],\n",
       "         [0.3760897 ],\n",
       "         [0.71679334],\n",
       "         [0.71679334],\n",
       "         [0.4039503 ],\n",
       "         [0.4039503 ],\n",
       "         [0.65567889],\n",
       "         [0.65567889],\n",
       "         [0.9298207 ],\n",
       "         [0.9298207 ],\n",
       "         [0.12107403],\n",
       "         [0.12107403],\n",
       "         [0.35197577],\n",
       "         [0.35197577],\n",
       "         [0.54766443],\n",
       "         [0.54766443],\n",
       "         [0.59266443],\n",
       "         [0.59266443],\n",
       "         [0.71030911],\n",
       "         [0.71030911],\n",
       "         [0.20709134],\n",
       "         [0.20709134],\n",
       "         [0.33113625],\n",
       "         [0.33113625],\n",
       "         [0.10408555],\n",
       "         [0.10408555],\n",
       "         [0.83030683],\n",
       "         [0.83030683],\n",
       "         [0.11823351],\n",
       "         [0.11823351],\n",
       "         [0.84031638],\n",
       "         [0.84031638],\n",
       "         [0.80962488],\n",
       "         [0.80962488],\n",
       "         [0.73003554],\n",
       "         [0.73003554],\n",
       "         [0.11784405],\n",
       "         [0.11784405],\n",
       "         [0.21309449],\n",
       "         [0.21309449],\n",
       "         [0.33354098],\n",
       "         [0.33354098],\n",
       "         [0.53750961],\n",
       "         [0.53750961],\n",
       "         [0.65382334],\n",
       "         [0.65382334],\n",
       "         [0.05877925],\n",
       "         [0.05877925],\n",
       "         [0.18297738],\n",
       "         [0.18297738],\n",
       "         [0.64322577],\n",
       "         [0.64322577],\n",
       "         [0.5613989 ],\n",
       "         [0.5613989 ],\n",
       "         [0.04750046],\n",
       "         [0.04750046],\n",
       "         [0.55201602],\n",
       "         [0.55201602],\n",
       "         [0.8408393 ],\n",
       "         [0.8408393 ],\n",
       "         [0.95067973],\n",
       "         [0.95067973],\n",
       "         [0.38927538],\n",
       "         [0.38927538],\n",
       "         [0.09168633],\n",
       "         [0.09168633],\n",
       "         [0.42141827],\n",
       "         [0.42141827],\n",
       "         [0.86480184],\n",
       "         [0.86480184],\n",
       "         [0.05268064],\n",
       "         [0.05268064],\n",
       "         [0.31604363],\n",
       "         [0.31604363]])}}"
      ]
     },
     "execution_count": 1,
     "metadata": {},
     "output_type": "execute_result"
    }
   ],
   "source": [
    "ds = load_by_id(run_id_a)\n",
    "ds.get_parameter_data('x1')"
   ]
  },
  {
   "cell_type": "code",
   "execution_count": null,
   "metadata": {},
   "outputs": [],
   "source": []
  }
 ],
 "metadata": {
  "kernelspec": {
   "display_name": "Python 3",
   "language": "python",
   "name": "python3"
  },
  "language_info": {
   "codemirror_mode": {
    "name": "ipython",
    "version": 3
   },
   "file_extension": ".py",
   "mimetype": "text/x-python",
   "name": "python",
   "nbconvert_exporter": "python",
   "pygments_lexer": "ipython3",
   "version": "3.7.10"
  },
  "nbsphinx": {
   "timeout": 600
  },
  "toc": {
   "base_numbering": 1,
   "nav_menu": {},
   "number_sections": true,
   "sideBar": true,
   "skip_h1_title": false,
   "title_cell": "Table of Contents",
   "title_sidebar": "Contents",
   "toc_cell": false,
   "toc_position": {},
   "toc_section_display": true,
   "toc_window_display": false
  },
  "varInspector": {
   "cols": {
    "lenName": 16,
    "lenType": 16,
    "lenVar": 40
   },
   "kernels_config": {
    "python": {
     "delete_cmd_postfix": "",
     "delete_cmd_prefix": "del ",
     "library": "var_list.py",
     "varRefreshCmd": "print(var_dic_list())"
    },
    "r": {
     "delete_cmd_postfix": ") ",
     "delete_cmd_prefix": "rm(",
     "library": "var_list.r",
     "varRefreshCmd": "cat(var_dic_list()) "
    }
   },
   "types_to_exclude": [
    "module",
    "function",
    "builtin_function_or_method",
    "instance",
    "_Feature"
   ],
   "window_display": false
  }
 },
 "nbformat": 4,
 "nbformat_minor": 2
}
