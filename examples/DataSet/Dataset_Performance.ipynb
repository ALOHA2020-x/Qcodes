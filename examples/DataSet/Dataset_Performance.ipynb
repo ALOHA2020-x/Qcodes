{
 "cells": [
  {
   "cell_type": "markdown",
   "metadata": {},
   "source": [
    "# DataSet Performance\n",
    "\n",
    "This notebook shows the trade-off between inserting data into a database row-by-row and as binary blobs. Inserting the data row-by-row means that we have direct access to all the data and may perform queries directly on the values of the data. On the other hand, as we shall see, this is much slower than inserting the data directly as binary blobs."
   ]
  },
  {
   "cell_type": "markdown",
   "metadata": {},
   "source": [
    "First, we choose a new location for the database to ensure that we don't add a bunch of benchmarking data to the default one."
   ]
  },
  {
   "cell_type": "code",
   "execution_count": 1,
   "metadata": {
    "execution": {
     "iopub.execute_input": "2020-12-10T08:20:07.597119Z",
     "iopub.status.busy": "2020-12-10T08:20:07.596609Z",
     "iopub.status.idle": "2020-12-10T08:20:08.479774Z",
     "shell.execute_reply": "2020-12-10T08:20:08.480213Z"
    }
   },
   "outputs": [
    {
     "name": "stdout",
     "output_type": "stream",
     "text": [
      "Logging hadn't been started.\n",
      "Activating auto-logging. Current session state plus future input saved.\n",
      "Filename       : /home/vsts/.qcodes/logs/command_history.log\n",
      "Mode           : append\n",
      "Output logging : True\n",
      "Raw input log  : False\n",
      "Timestamping   : True\n",
      "State          : active\n"
     ]
    },
    {
     "name": "stdout",
     "output_type": "stream",
     "text": [
      "Qcodes Logfile : /home/vsts/.qcodes/logs/201210-14184-qcodes.log\n"
     ]
    }
   ],
   "source": [
    "import os\n",
    "cwd = os.getcwd()\n",
    "import qcodes as qc\n",
    "qc.config[\"core\"][\"db_location\"] = os.path.join(cwd, 'testing.db')\n"
   ]
  },
  {
   "cell_type": "code",
   "execution_count": 2,
   "metadata": {
    "execution": {
     "iopub.execute_input": "2020-12-10T08:20:08.486113Z",
     "iopub.status.busy": "2020-12-10T08:20:08.485594Z",
     "iopub.status.idle": "2020-12-10T08:20:08.644042Z",
     "shell.execute_reply": "2020-12-10T08:20:08.643514Z"
    }
   },
   "outputs": [],
   "source": [
    "%matplotlib inline\n",
    "import time\n",
    "import matplotlib.pyplot as plt\n",
    "import numpy as np\n",
    "\n",
    "import qcodes as qc\n",
    "from qcodes.instrument.parameter import ManualParameter\n",
    "from qcodes.dataset.experiment_container import (Experiment,\n",
    "                                                 load_last_experiment,\n",
    "                                                 new_experiment)\n",
    "from qcodes.dataset.sqlite.database import initialise_database\n",
    "from qcodes import load_or_create_experiment\n",
    "from qcodes.dataset.measurements import Measurement"
   ]
  },
  {
   "cell_type": "code",
   "execution_count": 3,
   "metadata": {
    "execution": {
     "iopub.execute_input": "2020-12-10T08:20:08.647557Z",
     "iopub.status.busy": "2020-12-10T08:20:08.646908Z",
     "iopub.status.idle": "2020-12-10T08:20:08.736704Z",
     "shell.execute_reply": "2020-12-10T08:20:08.736302Z"
    }
   },
   "outputs": [
    {
     "name": "stdout",
     "output_type": "stream",
     "text": [
      "\r",
      "0it [00:00, ?it/s]"
     ]
    },
    {
     "name": "stdout",
     "output_type": "stream",
     "text": [
      "\r",
      "Upgrading database; v0 -> v1: : 0it [00:00, ?it/s]"
     ]
    },
    {
     "name": "stdout",
     "output_type": "stream",
     "text": [
      "\r",
      "Upgrading database; v0 -> v1: : 0it [00:00, ?it/s]"
     ]
    },
    {
     "name": "stdout",
     "output_type": "stream",
     "text": [
      "\n",
      "\r",
      "  0%|          | 0/1 [00:00<?, ?it/s]"
     ]
    },
    {
     "name": "stdout",
     "output_type": "stream",
     "text": [
      "\r",
      "Upgrading database; v1 -> v2:   0%|          | 0/1 [00:00<?, ?it/s]"
     ]
    },
    {
     "name": "stdout",
     "output_type": "stream",
     "text": [
      "\r",
      "Upgrading database; v1 -> v2: 100%|██████████| 1/1 [00:00<00:00, 1416.04it/s]"
     ]
    },
    {
     "name": "stdout",
     "output_type": "stream",
     "text": [
      "\n",
      "\r",
      "0it [00:00, ?it/s]"
     ]
    },
    {
     "name": "stdout",
     "output_type": "stream",
     "text": [
      "\r",
      "Upgrading database; v2 -> v3: : 0it [00:00, ?it/s]"
     ]
    },
    {
     "name": "stdout",
     "output_type": "stream",
     "text": [
      "\r",
      "Upgrading database; v2 -> v3: : 0it [00:00, ?it/s]"
     ]
    },
    {
     "name": "stdout",
     "output_type": "stream",
     "text": [
      "\n",
      "\r",
      "0it [00:00, ?it/s]"
     ]
    },
    {
     "name": "stdout",
     "output_type": "stream",
     "text": [
      "\r",
      "Upgrading database; v3 -> v4: : 0it [00:00, ?it/s]"
     ]
    },
    {
     "name": "stdout",
     "output_type": "stream",
     "text": [
      "\r",
      "Upgrading database; v3 -> v4: : 0it [00:00, ?it/s]"
     ]
    },
    {
     "name": "stdout",
     "output_type": "stream",
     "text": [
      "\n",
      "\r",
      "  0%|          | 0/1 [00:00<?, ?it/s]"
     ]
    },
    {
     "name": "stdout",
     "output_type": "stream",
     "text": [
      "\r",
      "Upgrading database; v4 -> v5:   0%|          | 0/1 [00:00<?, ?it/s]"
     ]
    },
    {
     "name": "stdout",
     "output_type": "stream",
     "text": [
      "\r",
      "Upgrading database; v4 -> v5: 100%|██████████| 1/1 [00:00<00:00, 991.33it/s]"
     ]
    },
    {
     "name": "stdout",
     "output_type": "stream",
     "text": [
      "\n",
      "\r",
      "0it [00:00, ?it/s]"
     ]
    },
    {
     "name": "stdout",
     "output_type": "stream",
     "text": [
      "\r",
      "Upgrading database; v5 -> v6: : 0it [00:00, ?it/s]"
     ]
    },
    {
     "name": "stdout",
     "output_type": "stream",
     "text": [
      "\r",
      "Upgrading database; v5 -> v6: : 0it [00:00, ?it/s]"
     ]
    },
    {
     "name": "stdout",
     "output_type": "stream",
     "text": [
      "\n",
      "\r",
      "  0%|          | 0/1 [00:00<?, ?it/s]"
     ]
    },
    {
     "name": "stdout",
     "output_type": "stream",
     "text": [
      "\r",
      "Upgrading database; v6 -> v7:   0%|          | 0/1 [00:00<?, ?it/s]"
     ]
    },
    {
     "name": "stdout",
     "output_type": "stream",
     "text": [
      "\r",
      "Upgrading database; v6 -> v7: 100%|██████████| 1/1 [00:00<00:00, 355.81it/s]"
     ]
    },
    {
     "name": "stdout",
     "output_type": "stream",
     "text": [
      "\n",
      "\r",
      "  0%|          | 0/1 [00:00<?, ?it/s]"
     ]
    },
    {
     "name": "stdout",
     "output_type": "stream",
     "text": [
      "\r",
      "Upgrading database; v7 -> v8:   0%|          | 0/1 [00:00<?, ?it/s]"
     ]
    },
    {
     "name": "stdout",
     "output_type": "stream",
     "text": [
      "\r",
      "Upgrading database; v7 -> v8: 100%|██████████| 1/1 [00:00<00:00, 1037.94it/s]"
     ]
    },
    {
     "name": "stdout",
     "output_type": "stream",
     "text": [
      "\n",
      "\r",
      "  0%|          | 0/1 [00:00<?, ?it/s]"
     ]
    },
    {
     "name": "stdout",
     "output_type": "stream",
     "text": [
      "\r",
      "Upgrading database; v8 -> v9:   0%|          | 0/1 [00:00<?, ?it/s]"
     ]
    },
    {
     "name": "stdout",
     "output_type": "stream",
     "text": [
      "\r",
      "Upgrading database; v8 -> v9: 100%|██████████| 1/1 [00:00<00:00, 693.73it/s]"
     ]
    },
    {
     "name": "stdout",
     "output_type": "stream",
     "text": [
      "\n"
     ]
    }
   ],
   "source": [
    "initialise_database()\n",
    "exp = load_or_create_experiment(experiment_name='tutorial_exp', sample_name=\"no sample\")"
   ]
  },
  {
   "cell_type": "markdown",
   "metadata": {},
   "source": [
    "Here, we define a simple function to benchmark the time it takes to insert n points with either numeric or array data type.\n",
    "We will compare both the time used to call ``add_result`` and the time used for the full measurement."
   ]
  },
  {
   "cell_type": "code",
   "execution_count": 4,
   "metadata": {
    "execution": {
     "iopub.execute_input": "2020-12-10T08:20:08.743911Z",
     "iopub.status.busy": "2020-12-10T08:20:08.743199Z",
     "iopub.status.idle": "2020-12-10T08:20:08.745535Z",
     "shell.execute_reply": "2020-12-10T08:20:08.745992Z"
    }
   },
   "outputs": [],
   "source": [
    "def insert_data(paramtype, npoints, nreps=1):\n",
    "\n",
    "    meas = Measurement(exp=exp)\n",
    "\n",
    "    x1 = ManualParameter('x1')\n",
    "    x2 = ManualParameter('x2')\n",
    "    x3 = ManualParameter('x3')\n",
    "    y1 = ManualParameter('y1')\n",
    "    y2 = ManualParameter('y2')\n",
    "\n",
    "    meas.register_parameter(x1, paramtype=paramtype)\n",
    "    meas.register_parameter(x2, paramtype=paramtype)\n",
    "    meas.register_parameter(x3, paramtype=paramtype)\n",
    "    meas.register_parameter(y1, setpoints=[x1, x2, x3],\n",
    "                            paramtype=paramtype)\n",
    "    meas.register_parameter(y2, setpoints=[x1, x2, x3],\n",
    "                            paramtype=paramtype)\n",
    "    start = time.perf_counter()\n",
    "    with meas.run() as datasaver:\n",
    "        start_adding = time.perf_counter()\n",
    "        for i in range(nreps):\n",
    "            datasaver.add_result((x1, np.random.rand(npoints)),\n",
    "                                 (x2, np.random.rand(npoints)),\n",
    "                                 (x3, np.random.rand(npoints)),\n",
    "                                 (y1, np.random.rand(npoints)),\n",
    "                                 (y2, np.random.rand(npoints)))\n",
    "        stop_adding = time.perf_counter()\n",
    "        run_id = datasaver.run_id\n",
    "    stop = time.perf_counter()\n",
    "    tot_time = stop - start\n",
    "    add_time = stop_adding - start_adding\n",
    "    return tot_time, add_time, run_id"
   ]
  },
  {
   "cell_type": "markdown",
   "metadata": {},
   "source": [
    "## Comparison between numeric/array data and binary blob"
   ]
  },
  {
   "cell_type": "markdown",
   "metadata": {},
   "source": [
    "### Case1: Short experiment time"
   ]
  },
  {
   "cell_type": "code",
   "execution_count": 5,
   "metadata": {
    "execution": {
     "iopub.execute_input": "2020-12-10T08:20:08.750944Z",
     "iopub.status.busy": "2020-12-10T08:20:08.749964Z",
     "iopub.status.idle": "2020-12-10T08:20:09.437043Z",
     "shell.execute_reply": "2020-12-10T08:20:09.437416Z"
    }
   },
   "outputs": [
    {
     "name": "stdout",
     "output_type": "stream",
     "text": [
      "Starting experimental run with id: 1. \n",
      "Starting experimental run with id: 2. \n",
      "Starting experimental run with id: 3. \n",
      "Starting experimental run with id: 4. \n",
      "Starting experimental run with id: 5. \n",
      "Starting experimental run with id: 6. \n",
      "Starting experimental run with id: 7. \n"
     ]
    },
    {
     "name": "stdout",
     "output_type": "stream",
     "text": [
      "Starting experimental run with id: 8. \n",
      "Starting experimental run with id: 9. \n"
     ]
    },
    {
     "name": "stdout",
     "output_type": "stream",
     "text": [
      "Starting experimental run with id: 10. \n",
      "Starting experimental run with id: 11. \n"
     ]
    },
    {
     "name": "stdout",
     "output_type": "stream",
     "text": [
      "Starting experimental run with id: 12. \n",
      "Starting experimental run with id: 13. \n"
     ]
    },
    {
     "name": "stdout",
     "output_type": "stream",
     "text": [
      "Starting experimental run with id: 14. \n"
     ]
    }
   ],
   "source": [
    "sizes = [1,500,1000,2000,3000,4000,5000]\n",
    "t_numeric = []\n",
    "t_numeric_add = []\n",
    "t_array = []\n",
    "t_array_add = []\n",
    "for size in sizes:\n",
    "    tn, tna, run_id_n =  insert_data('numeric', size)\n",
    "    t_numeric.append(tn)\n",
    "    t_numeric_add.append(tna)\n",
    "\n",
    "    ta, taa, run_id_a =  insert_data('array', size)\n",
    "    t_array.append(ta)\n",
    "    t_array_add.append(taa)"
   ]
  },
  {
   "cell_type": "code",
   "execution_count": 6,
   "metadata": {
    "execution": {
     "iopub.execute_input": "2020-12-10T08:20:09.452794Z",
     "iopub.status.busy": "2020-12-10T08:20:09.452332Z",
     "iopub.status.idle": "2020-12-10T08:20:09.621410Z",
     "shell.execute_reply": "2020-12-10T08:20:09.620992Z"
    }
   },
   "outputs": [
    {
     "data": {
      "image/png": "[encoded data removed]",
      "text/plain": [
       "<Figure size 432x288 with 1 Axes>"
      ]
     },
     "metadata": {
      "needs_background": "light"
     },
     "output_type": "display_data"
    }
   ],
   "source": [
    "fig, ax = plt.subplots(1,1)\n",
    "ax.plot(sizes, t_numeric, 'o-', label='Inserting row-by-row')\n",
    "ax.plot(sizes, t_numeric_add, 'o-', label='Inserting row-by-row: add_result only')\n",
    "ax.plot(sizes, t_array, 'd-', label='Inserting as binary blob')\n",
    "ax.plot(sizes, t_array_add, 'd-', label='Inserting as binary blob: add_result only')\n",
    "ax.legend()\n",
    "ax.set_xlabel('Array length')\n",
    "ax.set_ylabel('Time (s)')\n",
    "fig.tight_layout()"
   ]
  },
  {
   "cell_type": "markdown",
   "metadata": {},
   "source": [
    "As shown in the latter figure, the time to setup and and close the experiment is approximately 0.4 sec. In case of small array sizes, the difference between inserting values of data as arrays and inserting them row-by-row is relatively unimportant. At larger array sizes, i.e. above 10000 points, the cost of writing data as individual datapoints starts to become important.\n"
   ]
  },
  {
   "cell_type": "markdown",
   "metadata": {},
   "source": [
    "### Case2: Long experiment time "
   ]
  },
  {
   "cell_type": "code",
   "execution_count": 7,
   "metadata": {
    "execution": {
     "iopub.execute_input": "2020-12-10T08:20:09.627109Z",
     "iopub.status.busy": "2020-12-10T08:20:09.626160Z",
     "iopub.status.idle": "2020-12-10T08:21:02.438643Z",
     "shell.execute_reply": "2020-12-10T08:21:02.439046Z"
    }
   },
   "outputs": [
    {
     "name": "stdout",
     "output_type": "stream",
     "text": [
      "Starting experimental run with id: 15. \n",
      "Starting experimental run with id: 16. \n",
      "Starting experimental run with id: 17. \n"
     ]
    },
    {
     "name": "stdout",
     "output_type": "stream",
     "text": [
      "Starting experimental run with id: 18. \n",
      "Starting experimental run with id: 19. \n"
     ]
    },
    {
     "name": "stdout",
     "output_type": "stream",
     "text": [
      "Starting experimental run with id: 20. \n"
     ]
    },
    {
     "name": "stdout",
     "output_type": "stream",
     "text": [
      "Starting experimental run with id: 21. \n"
     ]
    },
    {
     "name": "stdout",
     "output_type": "stream",
     "text": [
      "Starting experimental run with id: 22. \n"
     ]
    },
    {
     "name": "stdout",
     "output_type": "stream",
     "text": [
      "Starting experimental run with id: 23. \n"
     ]
    },
    {
     "name": "stdout",
     "output_type": "stream",
     "text": [
      "Starting experimental run with id: 24. \n"
     ]
    },
    {
     "name": "stdout",
     "output_type": "stream",
     "text": [
      "Starting experimental run with id: 25. \n"
     ]
    },
    {
     "name": "stdout",
     "output_type": "stream",
     "text": [
      "Starting experimental run with id: 26. \n"
     ]
    },
    {
     "name": "stdout",
     "output_type": "stream",
     "text": [
      "Starting experimental run with id: 27. \n"
     ]
    },
    {
     "name": "stdout",
     "output_type": "stream",
     "text": [
      "Starting experimental run with id: 28. \n"
     ]
    }
   ],
   "source": [
    "sizes = [1,500,1000,2000,3000,4000,5000]\n",
    "nreps = 100\n",
    "t_numeric = []\n",
    "t_numeric_add = []\n",
    "t_numeric_run_ids = []\n",
    "t_array = []\n",
    "t_array_add = []\n",
    "t_array_run_ids = []\n",
    "for size in sizes:\n",
    "    tn, tna, run_id_n =  insert_data('numeric', size, nreps=nreps)\n",
    "    t_numeric.append(tn)\n",
    "    t_numeric_add.append(tna)\n",
    "    t_numeric_run_ids.append(run_id_n)\n",
    "\n",
    "    ta, taa, run_id_a =  insert_data('array', size, nreps=nreps)\n",
    "    t_array.append(ta)\n",
    "    t_array_add.append(taa)\n",
    "    t_array_run_ids.append(run_id_a)"
   ]
  },
  {
   "cell_type": "code",
   "execution_count": 8,
   "metadata": {
    "execution": {
     "iopub.execute_input": "2020-12-10T08:21:02.463548Z",
     "iopub.status.busy": "2020-12-10T08:21:02.452732Z",
     "iopub.status.idle": "2020-12-10T08:21:02.613635Z",
     "shell.execute_reply": "2020-12-10T08:21:02.612955Z"
    },
    "scrolled": true
   },
   "outputs": [
    {
     "data": {
      "image/png": "[encoded data removed]",
      "text/plain": [
       "<Figure size 432x288 with 1 Axes>"
      ]
     },
     "metadata": {
      "needs_background": "light"
     },
     "output_type": "display_data"
    }
   ],
   "source": [
    "fig, ax = plt.subplots(1,1)\n",
    "ax.plot(sizes, t_numeric, 'o-', label='Inserting row-by-row')\n",
    "ax.plot(sizes, t_numeric_add, 'o-', label='Inserting row-by-row: add_result only')\n",
    "ax.plot(sizes, t_array, 'd-', label='Inserting as binary blob')\n",
    "ax.plot(sizes, t_array_add, 'd-', label='Inserting as binary blob: add_result only')\n",
    "ax.legend()\n",
    "ax.set_xlabel('Array length')\n",
    "ax.set_ylabel('Time (s)')\n",
    "fig.tight_layout()"
   ]
  },
  {
   "cell_type": "markdown",
   "metadata": {},
   "source": [
    "However, as we increase the length of the experiment, as seen here by repeating the insertion 100 times, we see a big difference between inserting values of the data row-by-row and inserting it as a binary blob."
   ]
  },
  {
   "cell_type": "markdown",
   "metadata": {},
   "source": [
    "## Loading the data "
   ]
  },
  {
   "cell_type": "code",
   "execution_count": 9,
   "metadata": {
    "execution": {
     "iopub.execute_input": "2020-12-10T08:21:02.616838Z",
     "iopub.status.busy": "2020-12-10T08:21:02.616222Z",
     "iopub.status.idle": "2020-12-10T08:21:02.620163Z",
     "shell.execute_reply": "2020-12-10T08:21:02.619451Z"
    }
   },
   "outputs": [],
   "source": [
    "from qcodes.dataset.data_set import load_by_id\n",
    "from qcodes.dataset.data_export import get_data_by_id"
   ]
  },
  {
   "cell_type": "markdown",
   "metadata": {},
   "source": [
    "As usual you can load the data by using the ``load_by_id`` function but you will notice that the different storage methods\n",
    "are reflected in shape of the data as it is retrieved. "
   ]
  },
  {
   "cell_type": "code",
   "execution_count": 10,
   "metadata": {
    "execution": {
     "iopub.execute_input": "2020-12-10T08:21:02.623235Z",
     "iopub.status.busy": "2020-12-10T08:21:02.622317Z",
     "iopub.status.idle": "2020-12-10T08:21:02.625190Z",
     "shell.execute_reply": "2020-12-10T08:21:02.625587Z"
    }
   },
   "outputs": [],
   "source": [
    "run_id_n = t_numeric_run_ids[0]\n",
    "run_id_a = t_array_run_ids[0]"
   ]
  },
  {
   "cell_type": "code",
   "execution_count": 11,
   "metadata": {
    "execution": {
     "iopub.execute_input": "2020-12-10T08:21:02.628340Z",
     "iopub.status.busy": "2020-12-10T08:21:02.627947Z",
     "iopub.status.idle": "2020-12-10T08:21:02.636251Z",
     "shell.execute_reply": "2020-12-10T08:21:02.635916Z"
    },
    "scrolled": true
   },
   "outputs": [
    {
     "data": {
      "text/plain": [
       "{'x1': {'x1': array([0.94100873, 0.94100873, 0.79353552, 0.79353552, 0.15526327,\n",
       "         0.15526327, 0.87150267, 0.87150267, 0.01274655, 0.01274655,\n",
       "         0.07307763, 0.07307763, 0.59851575, 0.59851575, 0.91153904,\n",
       "         0.91153904, 0.38544804, 0.38544804, 0.25490134, 0.25490134,\n",
       "         0.13412003, 0.13412003, 0.93016216, 0.93016216, 0.18341275,\n",
       "         0.18341275, 0.56456658, 0.56456658, 0.87038549, 0.87038549,\n",
       "         0.00712014, 0.00712014, 0.58815297, 0.58815297, 0.0699451 ,\n",
       "         0.0699451 , 0.81513788, 0.81513788, 0.90964598, 0.90964598,\n",
       "         0.31792041, 0.31792041, 0.82818297, 0.82818297, 0.41659573,\n",
       "         0.41659573, 0.22636797, 0.22636797, 0.8789862 , 0.8789862 ,\n",
       "         0.68738162, 0.68738162, 0.17203976, 0.17203976, 0.68815512,\n",
       "         0.68815512, 0.61578872, 0.61578872, 0.77629396, 0.77629396,\n",
       "         0.78449307, 0.78449307, 0.36790991, 0.36790991, 0.30362009,\n",
       "         0.30362009, 0.9111506 , 0.9111506 , 0.4924389 , 0.4924389 ,\n",
       "         0.13419637, 0.13419637, 0.91439424, 0.91439424, 0.76368925,\n",
       "         0.76368925, 0.72115597, 0.72115597, 0.7996252 , 0.7996252 ,\n",
       "         0.31866294, 0.31866294, 0.1468496 , 0.1468496 , 0.85828644,\n",
       "         0.85828644, 0.77203828, 0.77203828, 0.13619437, 0.13619437,\n",
       "         0.43677766, 0.43677766, 0.33555189, 0.33555189, 0.12302635,\n",
       "         0.12302635, 0.85176479, 0.85176479, 0.26339492, 0.26339492,\n",
       "         0.21761257, 0.21761257, 0.34394948, 0.34394948, 0.01699279,\n",
       "         0.01699279, 0.78735491, 0.78735491, 0.27587104, 0.27587104,\n",
       "         0.56732291, 0.56732291, 0.69235255, 0.69235255, 0.60678078,\n",
       "         0.60678078, 0.40681826, 0.40681826, 0.99391281, 0.99391281,\n",
       "         0.24482467, 0.24482467, 0.0878637 , 0.0878637 , 0.16512325,\n",
       "         0.16512325, 0.975087  , 0.975087  , 0.59761459, 0.59761459,\n",
       "         0.18998449, 0.18998449, 0.54692346, 0.54692346, 0.4978462 ,\n",
       "         0.4978462 , 0.71160959, 0.71160959, 0.63237086, 0.63237086,\n",
       "         0.43510257, 0.43510257, 0.71437989, 0.71437989, 0.76534232,\n",
       "         0.76534232, 0.44791693, 0.44791693, 0.0812505 , 0.0812505 ,\n",
       "         0.13235293, 0.13235293, 0.34905386, 0.34905386, 0.24972217,\n",
       "         0.24972217, 0.62191485, 0.62191485, 0.86182151, 0.86182151,\n",
       "         0.77765454, 0.77765454, 0.97889532, 0.97889532, 0.07653541,\n",
       "         0.07653541, 0.13554104, 0.13554104, 0.43317748, 0.43317748,\n",
       "         0.89512326, 0.89512326, 0.88880486, 0.88880486, 0.2551169 ,\n",
       "         0.2551169 , 0.39153226, 0.39153226, 0.782877  , 0.782877  ,\n",
       "         0.9033273 , 0.9033273 , 0.81789573, 0.81789573, 0.94980554,\n",
       "         0.94980554, 0.50498834, 0.50498834, 0.86521974, 0.86521974,\n",
       "         0.77122994, 0.77122994, 0.16298957, 0.16298957, 0.91026863,\n",
       "         0.91026863, 0.86493909, 0.86493909, 0.93038974, 0.93038974])}}"
      ]
     },
     "execution_count": 1,
     "metadata": {},
     "output_type": "execute_result"
    }
   ],
   "source": [
    "ds = load_by_id(run_id_n)\n",
    "ds.get_parameter_data('x1')"
   ]
  },
  {
   "cell_type": "markdown",
   "metadata": {},
   "source": [
    "And a dataset stored as binary arrays"
   ]
  },
  {
   "cell_type": "code",
   "execution_count": 12,
   "metadata": {
    "execution": {
     "iopub.execute_input": "2020-12-10T08:21:02.638764Z",
     "iopub.status.busy": "2020-12-10T08:21:02.638378Z",
     "iopub.status.idle": "2020-12-10T08:21:02.683932Z",
     "shell.execute_reply": "2020-12-10T08:21:02.684353Z"
    },
    "scrolled": true
   },
   "outputs": [
    {
     "data": {
      "text/plain": [
       "{'x1': {'x1': array([[0.79290587],\n",
       "         [0.79290587],\n",
       "         [0.08046407],\n",
       "         [0.08046407],\n",
       "         [0.21040769],\n",
       "         [0.21040769],\n",
       "         [0.03975967],\n",
       "         [0.03975967],\n",
       "         [0.65477069],\n",
       "         [0.65477069],\n",
       "         [0.49450307],\n",
       "         [0.49450307],\n",
       "         [0.82365538],\n",
       "         [0.82365538],\n",
       "         [0.97367293],\n",
       "         [0.97367293],\n",
       "         [0.61046198],\n",
       "         [0.61046198],\n",
       "         [0.08259198],\n",
       "         [0.08259198],\n",
       "         [0.53844638],\n",
       "         [0.53844638],\n",
       "         [0.48852243],\n",
       "         [0.48852243],\n",
       "         [0.36984045],\n",
       "         [0.36984045],\n",
       "         [0.34635717],\n",
       "         [0.34635717],\n",
       "         [0.22144846],\n",
       "         [0.22144846],\n",
       "         [0.50487384],\n",
       "         [0.50487384],\n",
       "         [0.47584525],\n",
       "         [0.47584525],\n",
       "         [0.19655955],\n",
       "         [0.19655955],\n",
       "         [0.31212637],\n",
       "         [0.31212637],\n",
       "         [0.93831024],\n",
       "         [0.93831024],\n",
       "         [0.17683881],\n",
       "         [0.17683881],\n",
       "         [0.78809879],\n",
       "         [0.78809879],\n",
       "         [0.71016667],\n",
       "         [0.71016667],\n",
       "         [0.13888863],\n",
       "         [0.13888863],\n",
       "         [0.90208186],\n",
       "         [0.90208186],\n",
       "         [0.10428124],\n",
       "         [0.10428124],\n",
       "         [0.63163517],\n",
       "         [0.63163517],\n",
       "         [0.78251026],\n",
       "         [0.78251026],\n",
       "         [0.25719249],\n",
       "         [0.25719249],\n",
       "         [0.40668354],\n",
       "         [0.40668354],\n",
       "         [0.59982668],\n",
       "         [0.59982668],\n",
       "         [0.5898139 ],\n",
       "         [0.5898139 ],\n",
       "         [0.88810157],\n",
       "         [0.88810157],\n",
       "         [0.79215194],\n",
       "         [0.79215194],\n",
       "         [0.79645141],\n",
       "         [0.79645141],\n",
       "         [0.03668517],\n",
       "         [0.03668517],\n",
       "         [0.89317169],\n",
       "         [0.89317169],\n",
       "         [0.39721551],\n",
       "         [0.39721551],\n",
       "         [0.74186248],\n",
       "         [0.74186248],\n",
       "         [0.91127028],\n",
       "         [0.91127028],\n",
       "         [0.58951775],\n",
       "         [0.58951775],\n",
       "         [0.88988829],\n",
       "         [0.88988829],\n",
       "         [0.5604901 ],\n",
       "         [0.5604901 ],\n",
       "         [0.30544325],\n",
       "         [0.30544325],\n",
       "         [0.88083844],\n",
       "         [0.88083844],\n",
       "         [0.93958106],\n",
       "         [0.93958106],\n",
       "         [0.84076758],\n",
       "         [0.84076758],\n",
       "         [0.44059721],\n",
       "         [0.44059721],\n",
       "         [0.62147515],\n",
       "         [0.62147515],\n",
       "         [0.84394984],\n",
       "         [0.84394984],\n",
       "         [0.64297358],\n",
       "         [0.64297358],\n",
       "         [0.08005801],\n",
       "         [0.08005801],\n",
       "         [0.51924346],\n",
       "         [0.51924346],\n",
       "         [0.74847956],\n",
       "         [0.74847956],\n",
       "         [0.97391205],\n",
       "         [0.97391205],\n",
       "         [0.25803874],\n",
       "         [0.25803874],\n",
       "         [0.25960863],\n",
       "         [0.25960863],\n",
       "         [0.59122763],\n",
       "         [0.59122763],\n",
       "         [0.08684365],\n",
       "         [0.08684365],\n",
       "         [0.78049241],\n",
       "         [0.78049241],\n",
       "         [0.11351471],\n",
       "         [0.11351471],\n",
       "         [0.35883156],\n",
       "         [0.35883156],\n",
       "         [0.2556577 ],\n",
       "         [0.2556577 ],\n",
       "         [0.04981953],\n",
       "         [0.04981953],\n",
       "         [0.89125523],\n",
       "         [0.89125523],\n",
       "         [0.59547542],\n",
       "         [0.59547542],\n",
       "         [0.71948745],\n",
       "         [0.71948745],\n",
       "         [0.87261574],\n",
       "         [0.87261574],\n",
       "         [0.93026537],\n",
       "         [0.93026537],\n",
       "         [0.01613155],\n",
       "         [0.01613155],\n",
       "         [0.23184328],\n",
       "         [0.23184328],\n",
       "         [0.60015886],\n",
       "         [0.60015886],\n",
       "         [0.08944972],\n",
       "         [0.08944972],\n",
       "         [0.92443996],\n",
       "         [0.92443996],\n",
       "         [0.05089671],\n",
       "         [0.05089671],\n",
       "         [0.3642853 ],\n",
       "         [0.3642853 ],\n",
       "         [0.27753297],\n",
       "         [0.27753297],\n",
       "         [0.61298977],\n",
       "         [0.61298977],\n",
       "         [0.26145177],\n",
       "         [0.26145177],\n",
       "         [0.50772987],\n",
       "         [0.50772987],\n",
       "         [0.60601677],\n",
       "         [0.60601677],\n",
       "         [0.57040984],\n",
       "         [0.57040984],\n",
       "         [0.37579121],\n",
       "         [0.37579121],\n",
       "         [0.17031198],\n",
       "         [0.17031198],\n",
       "         [0.96607859],\n",
       "         [0.96607859],\n",
       "         [0.24263469],\n",
       "         [0.24263469],\n",
       "         [0.65971002],\n",
       "         [0.65971002],\n",
       "         [0.96134784],\n",
       "         [0.96134784],\n",
       "         [0.09419833],\n",
       "         [0.09419833],\n",
       "         [0.23226438],\n",
       "         [0.23226438],\n",
       "         [0.62568211],\n",
       "         [0.62568211],\n",
       "         [0.39996588],\n",
       "         [0.39996588],\n",
       "         [0.92470239],\n",
       "         [0.92470239],\n",
       "         [0.35125461],\n",
       "         [0.35125461],\n",
       "         [0.91035628],\n",
       "         [0.91035628],\n",
       "         [0.56825724],\n",
       "         [0.56825724],\n",
       "         [0.7033881 ],\n",
       "         [0.7033881 ],\n",
       "         [0.03699318],\n",
       "         [0.03699318],\n",
       "         [0.10132651],\n",
       "         [0.10132651],\n",
       "         [0.03989195],\n",
       "         [0.03989195]])}}"
      ]
     },
     "execution_count": 1,
     "metadata": {},
     "output_type": "execute_result"
    }
   ],
   "source": [
    "ds = load_by_id(run_id_a)\n",
    "ds.get_parameter_data('x1')"
   ]
  },
  {
   "cell_type": "code",
   "execution_count": null,
   "metadata": {},
   "outputs": [],
   "source": []
  }
 ],
 "metadata": {
  "kernelspec": {
   "display_name": "Python 3",
   "language": "python",
   "name": "python3"
  },
  "language_info": {
   "codemirror_mode": {
    "name": "ipython",
    "version": 3
   },
   "file_extension": ".py",
   "mimetype": "text/x-python",
   "name": "python",
   "nbconvert_exporter": "python",
   "pygments_lexer": "ipython3",
   "version": "3.7.9"
  },
  "nbsphinx": {
   "timeout": 600
  },
  "toc": {
   "base_numbering": 1,
   "nav_menu": {},
   "number_sections": true,
   "sideBar": true,
   "skip_h1_title": false,
   "title_cell": "Table of Contents",
   "title_sidebar": "Contents",
   "toc_cell": false,
   "toc_position": {},
   "toc_section_display": true,
   "toc_window_display": false
  },
  "varInspector": {
   "cols": {
    "lenName": 16,
    "lenType": 16,
    "lenVar": 40
   },
   "kernels_config": {
    "python": {
     "delete_cmd_postfix": "",
     "delete_cmd_prefix": "del ",
     "library": "var_list.py",
     "varRefreshCmd": "print(var_dic_list())"
    },
    "r": {
     "delete_cmd_postfix": ") ",
     "delete_cmd_prefix": "rm(",
     "library": "var_list.r",
     "varRefreshCmd": "cat(var_dic_list()) "
    }
   },
   "types_to_exclude": [
    "module",
    "function",
    "builtin_function_or_method",
    "instance",
    "_Feature"
   ],
   "window_display": false
  }
 },
 "nbformat": 4,
 "nbformat_minor": 2
}
