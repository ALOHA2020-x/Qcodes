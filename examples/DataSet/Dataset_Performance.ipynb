{
 "cells": [
  {
   "cell_type": "markdown",
   "metadata": {},
   "source": [
    "# DataSet Performance\n",
    "\n",
    "This notebook shows the trade-off between inserting data into a database row-by-row and as binary blobs. Inserting the data row-by-row means that we have direct access to all the data and may perform queries directly on the values of the data. On the other hand, as we shall see, this is much slower than inserting the data directly as binary blobs."
   ]
  },
  {
   "cell_type": "markdown",
   "metadata": {},
   "source": [
    "First, we choose a new location for the database to ensure that we don't add a bunch of benchmarking data to the default one."
   ]
  },
  {
   "cell_type": "code",
   "execution_count": 1,
   "metadata": {
    "execution": {
     "iopub.execute_input": "2021-02-19T06:28:05.620185Z",
     "iopub.status.busy": "2021-02-19T06:28:05.619409Z",
     "iopub.status.idle": "2021-02-19T06:28:06.417383Z",
     "shell.execute_reply": "2021-02-19T06:28:06.416691Z"
    }
   },
   "outputs": [
    {
     "name": "stdout",
     "output_type": "stream",
     "text": [
      "Logging hadn't been started.\n",
      "Activating auto-logging. Current session state plus future input saved.\n",
      "Filename       : /home/runner/.qcodes/logs/command_history.log\n",
      "Mode           : append\n",
      "Output logging : True\n",
      "Raw input log  : False\n",
      "Timestamping   : True\n",
      "State          : active\n"
     ]
    },
    {
     "name": "stdout",
     "output_type": "stream",
     "text": [
      "Qcodes Logfile : /home/runner/.qcodes/logs/210219-4311-qcodes.log\n"
     ]
    }
   ],
   "source": [
    "import os\n",
    "cwd = os.getcwd()\n",
    "import qcodes as qc\n",
    "qc.config[\"core\"][\"db_location\"] = os.path.join(cwd, 'testing.db')\n"
   ]
  },
  {
   "cell_type": "code",
   "execution_count": 2,
   "metadata": {
    "execution": {
     "iopub.execute_input": "2021-02-19T06:28:06.424623Z",
     "iopub.status.busy": "2021-02-19T06:28:06.423726Z",
     "iopub.status.idle": "2021-02-19T06:28:06.620094Z",
     "shell.execute_reply": "2021-02-19T06:28:06.619169Z"
    }
   },
   "outputs": [],
   "source": [
    "%matplotlib inline\n",
    "import time\n",
    "import matplotlib.pyplot as plt\n",
    "import numpy as np\n",
    "\n",
    "import qcodes as qc\n",
    "from qcodes.instrument.parameter import ManualParameter\n",
    "from qcodes.dataset.experiment_container import (Experiment,\n",
    "                                                 load_last_experiment,\n",
    "                                                 new_experiment)\n",
    "from qcodes.dataset.sqlite.database import initialise_database\n",
    "from qcodes import load_or_create_experiment\n",
    "from qcodes.dataset.measurements import Measurement"
   ]
  },
  {
   "cell_type": "code",
   "execution_count": 3,
   "metadata": {
    "execution": {
     "iopub.execute_input": "2021-02-19T06:28:06.624481Z",
     "iopub.status.busy": "2021-02-19T06:28:06.623611Z",
     "iopub.status.idle": "2021-02-19T06:28:08.442477Z",
     "shell.execute_reply": "2021-02-19T06:28:08.442929Z"
    }
   },
   "outputs": [
    {
     "name": "stdout",
     "output_type": "stream",
     "text": [
      "\r",
      "0it [00:00, ?it/s]"
     ]
    },
    {
     "name": "stdout",
     "output_type": "stream",
     "text": [
      "\r",
      "Upgrading database; v0 -> v1: : 0it [00:00, ?it/s]"
     ]
    },
    {
     "name": "stdout",
     "output_type": "stream",
     "text": [
      "\r",
      "Upgrading database; v0 -> v1: : 0it [00:00, ?it/s]"
     ]
    },
    {
     "name": "stdout",
     "output_type": "stream",
     "text": [
      "\n",
      "\r",
      "  0%|          | 0/1 [00:00<?, ?it/s]"
     ]
    },
    {
     "name": "stdout",
     "output_type": "stream",
     "text": [
      "\r",
      "Upgrading database; v1 -> v2:   0%|          | 0/1 [00:00<?, ?it/s]"
     ]
    },
    {
     "name": "stdout",
     "output_type": "stream",
     "text": [
      "\r",
      "Upgrading database; v1 -> v2: 100%|██████████| 1/1 [00:00<00:00, 459.90it/s]"
     ]
    },
    {
     "name": "stdout",
     "output_type": "stream",
     "text": [
      "\n"
     ]
    },
    {
     "name": "stdout",
     "output_type": "stream",
     "text": [
      "\r",
      "0it [00:00, ?it/s]"
     ]
    },
    {
     "name": "stdout",
     "output_type": "stream",
     "text": [
      "\r",
      "Upgrading database; v2 -> v3: : 0it [00:00, ?it/s]"
     ]
    },
    {
     "name": "stdout",
     "output_type": "stream",
     "text": [
      "\r",
      "Upgrading database; v2 -> v3: : 0it [00:00, ?it/s]"
     ]
    },
    {
     "name": "stdout",
     "output_type": "stream",
     "text": [
      "\n",
      "\r",
      "0it [00:00, ?it/s]"
     ]
    },
    {
     "name": "stdout",
     "output_type": "stream",
     "text": [
      "\r",
      "Upgrading database; v3 -> v4: : 0it [00:00, ?it/s]"
     ]
    },
    {
     "name": "stdout",
     "output_type": "stream",
     "text": [
      "\r",
      "Upgrading database; v3 -> v4: : 0it [00:00, ?it/s]"
     ]
    },
    {
     "name": "stdout",
     "output_type": "stream",
     "text": [
      "\n"
     ]
    },
    {
     "name": "stdout",
     "output_type": "stream",
     "text": [
      "\r",
      "  0%|          | 0/1 [00:00<?, ?it/s]"
     ]
    },
    {
     "name": "stdout",
     "output_type": "stream",
     "text": [
      "\r",
      "Upgrading database; v4 -> v5:   0%|          | 0/1 [00:00<?, ?it/s]"
     ]
    },
    {
     "name": "stdout",
     "output_type": "stream",
     "text": [
      "\r",
      "Upgrading database; v4 -> v5: 100%|██████████| 1/1 [00:00<00:00, 292.59it/s]"
     ]
    },
    {
     "name": "stdout",
     "output_type": "stream",
     "text": [
      "\n"
     ]
    },
    {
     "name": "stdout",
     "output_type": "stream",
     "text": [
      "\r",
      "0it [00:00, ?it/s]"
     ]
    },
    {
     "name": "stdout",
     "output_type": "stream",
     "text": [
      "\r",
      "Upgrading database; v5 -> v6: : 0it [00:00, ?it/s]"
     ]
    },
    {
     "name": "stdout",
     "output_type": "stream",
     "text": [
      "\r",
      "Upgrading database; v5 -> v6: : 0it [00:00, ?it/s]"
     ]
    },
    {
     "name": "stdout",
     "output_type": "stream",
     "text": [
      "\n"
     ]
    },
    {
     "name": "stdout",
     "output_type": "stream",
     "text": [
      "\r",
      "  0%|          | 0/1 [00:00<?, ?it/s]"
     ]
    },
    {
     "name": "stdout",
     "output_type": "stream",
     "text": [
      "\r",
      "Upgrading database; v6 -> v7:   0%|          | 0/1 [00:00<?, ?it/s]"
     ]
    },
    {
     "name": "stdout",
     "output_type": "stream",
     "text": [
      "\r",
      "Upgrading database; v6 -> v7: 100%|██████████| 1/1 [00:00<00:00, 12.05it/s]"
     ]
    },
    {
     "name": "stdout",
     "output_type": "stream",
     "text": [
      "\n"
     ]
    },
    {
     "name": "stdout",
     "output_type": "stream",
     "text": [
      "\r",
      "  0%|          | 0/1 [00:00<?, ?it/s]"
     ]
    },
    {
     "name": "stdout",
     "output_type": "stream",
     "text": [
      "\r",
      "Upgrading database; v7 -> v8:   0%|          | 0/1 [00:00<?, ?it/s]"
     ]
    },
    {
     "name": "stdout",
     "output_type": "stream",
     "text": [
      "\r",
      "Upgrading database; v7 -> v8: 100%|██████████| 1/1 [00:00<00:00, 183.17it/s]"
     ]
    },
    {
     "name": "stdout",
     "output_type": "stream",
     "text": [
      "\n"
     ]
    },
    {
     "name": "stdout",
     "output_type": "stream",
     "text": [
      "\r",
      "  0%|          | 0/1 [00:00<?, ?it/s]"
     ]
    },
    {
     "name": "stdout",
     "output_type": "stream",
     "text": [
      "\r",
      "Upgrading database; v8 -> v9:   0%|          | 0/1 [00:00<?, ?it/s]"
     ]
    },
    {
     "name": "stdout",
     "output_type": "stream",
     "text": [
      "\r",
      "Upgrading database; v8 -> v9: 100%|██████████| 1/1 [00:00<00:00, 575.19it/s]"
     ]
    },
    {
     "name": "stdout",
     "output_type": "stream",
     "text": [
      "\n"
     ]
    }
   ],
   "source": [
    "initialise_database()\n",
    "exp = load_or_create_experiment(experiment_name='tutorial_exp', sample_name=\"no sample\")"
   ]
  },
  {
   "cell_type": "markdown",
   "metadata": {},
   "source": [
    "Here, we define a simple function to benchmark the time it takes to insert n points with either numeric or array data type.\n",
    "We will compare both the time used to call ``add_result`` and the time used for the full measurement."
   ]
  },
  {
   "cell_type": "code",
   "execution_count": 4,
   "metadata": {
    "execution": {
     "iopub.execute_input": "2021-02-19T06:28:08.453662Z",
     "iopub.status.busy": "2021-02-19T06:28:08.452332Z",
     "iopub.status.idle": "2021-02-19T06:28:08.454311Z",
     "shell.execute_reply": "2021-02-19T06:28:08.454849Z"
    }
   },
   "outputs": [],
   "source": [
    "def insert_data(paramtype, npoints, nreps=1):\n",
    "\n",
    "    meas = Measurement(exp=exp)\n",
    "\n",
    "    x1 = ManualParameter('x1')\n",
    "    x2 = ManualParameter('x2')\n",
    "    x3 = ManualParameter('x3')\n",
    "    y1 = ManualParameter('y1')\n",
    "    y2 = ManualParameter('y2')\n",
    "\n",
    "    meas.register_parameter(x1, paramtype=paramtype)\n",
    "    meas.register_parameter(x2, paramtype=paramtype)\n",
    "    meas.register_parameter(x3, paramtype=paramtype)\n",
    "    meas.register_parameter(y1, setpoints=[x1, x2, x3],\n",
    "                            paramtype=paramtype)\n",
    "    meas.register_parameter(y2, setpoints=[x1, x2, x3],\n",
    "                            paramtype=paramtype)\n",
    "    start = time.perf_counter()\n",
    "    with meas.run() as datasaver:\n",
    "        start_adding = time.perf_counter()\n",
    "        for i in range(nreps):\n",
    "            datasaver.add_result((x1, np.random.rand(npoints)),\n",
    "                                 (x2, np.random.rand(npoints)),\n",
    "                                 (x3, np.random.rand(npoints)),\n",
    "                                 (y1, np.random.rand(npoints)),\n",
    "                                 (y2, np.random.rand(npoints)))\n",
    "        stop_adding = time.perf_counter()\n",
    "        run_id = datasaver.run_id\n",
    "    stop = time.perf_counter()\n",
    "    tot_time = stop - start\n",
    "    add_time = stop_adding - start_adding\n",
    "    return tot_time, add_time, run_id"
   ]
  },
  {
   "cell_type": "markdown",
   "metadata": {},
   "source": [
    "## Comparison between numeric/array data and binary blob"
   ]
  },
  {
   "cell_type": "markdown",
   "metadata": {},
   "source": [
    "### Case1: Short experiment time"
   ]
  },
  {
   "cell_type": "code",
   "execution_count": 5,
   "metadata": {
    "execution": {
     "iopub.execute_input": "2021-02-19T06:28:08.462358Z",
     "iopub.status.busy": "2021-02-19T06:28:08.461468Z",
     "iopub.status.idle": "2021-02-19T06:28:14.818038Z",
     "shell.execute_reply": "2021-02-19T06:28:14.817264Z"
    }
   },
   "outputs": [
    {
     "name": "stdout",
     "output_type": "stream",
     "text": [
      "Starting experimental run with id: 1. \n"
     ]
    },
    {
     "name": "stdout",
     "output_type": "stream",
     "text": [
      "Starting experimental run with id: 2. \n"
     ]
    },
    {
     "name": "stdout",
     "output_type": "stream",
     "text": [
      "Starting experimental run with id: 3. \n"
     ]
    },
    {
     "name": "stdout",
     "output_type": "stream",
     "text": [
      "Starting experimental run with id: 4. \n"
     ]
    },
    {
     "name": "stdout",
     "output_type": "stream",
     "text": [
      "Starting experimental run with id: 5. \n"
     ]
    },
    {
     "name": "stdout",
     "output_type": "stream",
     "text": [
      "Starting experimental run with id: 6. \n"
     ]
    },
    {
     "name": "stdout",
     "output_type": "stream",
     "text": [
      "Starting experimental run with id: 7. \n"
     ]
    },
    {
     "name": "stdout",
     "output_type": "stream",
     "text": [
      "Starting experimental run with id: 8. \n"
     ]
    },
    {
     "name": "stdout",
     "output_type": "stream",
     "text": [
      "Starting experimental run with id: 9. \n"
     ]
    },
    {
     "name": "stdout",
     "output_type": "stream",
     "text": [
      "Starting experimental run with id: 10. \n"
     ]
    },
    {
     "name": "stdout",
     "output_type": "stream",
     "text": [
      "Starting experimental run with id: 11. \n"
     ]
    },
    {
     "name": "stdout",
     "output_type": "stream",
     "text": [
      "Starting experimental run with id: 12. \n"
     ]
    },
    {
     "name": "stdout",
     "output_type": "stream",
     "text": [
      "Starting experimental run with id: 13. \n"
     ]
    },
    {
     "name": "stdout",
     "output_type": "stream",
     "text": [
      "Starting experimental run with id: 14. \n"
     ]
    }
   ],
   "source": [
    "sizes = [1,500,1000,2000,3000,4000,5000]\n",
    "t_numeric = []\n",
    "t_numeric_add = []\n",
    "t_array = []\n",
    "t_array_add = []\n",
    "for size in sizes:\n",
    "    tn, tna, run_id_n =  insert_data('numeric', size)\n",
    "    t_numeric.append(tn)\n",
    "    t_numeric_add.append(tna)\n",
    "\n",
    "    ta, taa, run_id_a =  insert_data('array', size)\n",
    "    t_array.append(ta)\n",
    "    t_array_add.append(taa)"
   ]
  },
  {
   "cell_type": "code",
   "execution_count": 6,
   "metadata": {
    "execution": {
     "iopub.execute_input": "2021-02-19T06:28:14.836970Z",
     "iopub.status.busy": "2021-02-19T06:28:14.822691Z",
     "iopub.status.idle": "2021-02-19T06:28:15.025850Z",
     "shell.execute_reply": "2021-02-19T06:28:15.026273Z"
    }
   },
   "outputs": [
    {
     "data": {
      "image/png": "[encoded data removed]",
      "text/plain": [
       "<Figure size 432x288 with 1 Axes>"
      ]
     },
     "metadata": {
      "needs_background": "light"
     },
     "output_type": "display_data"
    }
   ],
   "source": [
    "fig, ax = plt.subplots(1,1)\n",
    "ax.plot(sizes, t_numeric, 'o-', label='Inserting row-by-row')\n",
    "ax.plot(sizes, t_numeric_add, 'o-', label='Inserting row-by-row: add_result only')\n",
    "ax.plot(sizes, t_array, 'd-', label='Inserting as binary blob')\n",
    "ax.plot(sizes, t_array_add, 'd-', label='Inserting as binary blob: add_result only')\n",
    "ax.legend()\n",
    "ax.set_xlabel('Array length')\n",
    "ax.set_ylabel('Time (s)')\n",
    "fig.tight_layout()"
   ]
  },
  {
   "cell_type": "markdown",
   "metadata": {},
   "source": [
    "As shown in the latter figure, the time to setup and and close the experiment is approximately 0.4 sec. In case of small array sizes, the difference between inserting values of data as arrays and inserting them row-by-row is relatively unimportant. At larger array sizes, i.e. above 10000 points, the cost of writing data as individual datapoints starts to become important.\n"
   ]
  },
  {
   "cell_type": "markdown",
   "metadata": {},
   "source": [
    "### Case2: Long experiment time "
   ]
  },
  {
   "cell_type": "code",
   "execution_count": 7,
   "metadata": {
    "execution": {
     "iopub.execute_input": "2021-02-19T06:28:15.034283Z",
     "iopub.status.busy": "2021-02-19T06:28:15.033237Z",
     "iopub.status.idle": "2021-02-19T06:29:18.156269Z",
     "shell.execute_reply": "2021-02-19T06:29:18.154990Z"
    }
   },
   "outputs": [
    {
     "name": "stdout",
     "output_type": "stream",
     "text": [
      "Starting experimental run with id: 15. \n"
     ]
    },
    {
     "name": "stdout",
     "output_type": "stream",
     "text": [
      "Starting experimental run with id: 16. \n"
     ]
    },
    {
     "name": "stdout",
     "output_type": "stream",
     "text": [
      "Starting experimental run with id: 17. \n"
     ]
    },
    {
     "name": "stdout",
     "output_type": "stream",
     "text": [
      "Starting experimental run with id: 18. \n"
     ]
    },
    {
     "name": "stdout",
     "output_type": "stream",
     "text": [
      "Starting experimental run with id: 19. \n"
     ]
    },
    {
     "name": "stdout",
     "output_type": "stream",
     "text": [
      "Starting experimental run with id: 20. \n"
     ]
    },
    {
     "name": "stdout",
     "output_type": "stream",
     "text": [
      "Starting experimental run with id: 21. \n"
     ]
    },
    {
     "name": "stdout",
     "output_type": "stream",
     "text": [
      "Starting experimental run with id: 22. \n"
     ]
    },
    {
     "name": "stdout",
     "output_type": "stream",
     "text": [
      "Starting experimental run with id: 23. \n"
     ]
    },
    {
     "name": "stdout",
     "output_type": "stream",
     "text": [
      "Starting experimental run with id: 24. \n"
     ]
    },
    {
     "name": "stdout",
     "output_type": "stream",
     "text": [
      "Starting experimental run with id: 25. \n"
     ]
    },
    {
     "name": "stdout",
     "output_type": "stream",
     "text": [
      "Starting experimental run with id: 26. \n"
     ]
    },
    {
     "name": "stdout",
     "output_type": "stream",
     "text": [
      "Starting experimental run with id: 27. \n"
     ]
    },
    {
     "name": "stdout",
     "output_type": "stream",
     "text": [
      "Starting experimental run with id: 28. \n"
     ]
    }
   ],
   "source": [
    "sizes = [1,500,1000,2000,3000,4000,5000]\n",
    "nreps = 100\n",
    "t_numeric = []\n",
    "t_numeric_add = []\n",
    "t_numeric_run_ids = []\n",
    "t_array = []\n",
    "t_array_add = []\n",
    "t_array_run_ids = []\n",
    "for size in sizes:\n",
    "    tn, tna, run_id_n =  insert_data('numeric', size, nreps=nreps)\n",
    "    t_numeric.append(tn)\n",
    "    t_numeric_add.append(tna)\n",
    "    t_numeric_run_ids.append(run_id_n)\n",
    "\n",
    "    ta, taa, run_id_a =  insert_data('array', size, nreps=nreps)\n",
    "    t_array.append(ta)\n",
    "    t_array_add.append(taa)\n",
    "    t_array_run_ids.append(run_id_a)"
   ]
  },
  {
   "cell_type": "code",
   "execution_count": 8,
   "metadata": {
    "execution": {
     "iopub.execute_input": "2021-02-19T06:29:18.185618Z",
     "iopub.status.busy": "2021-02-19T06:29:18.162080Z",
     "iopub.status.idle": "2021-02-19T06:29:18.359933Z",
     "shell.execute_reply": "2021-02-19T06:29:18.360696Z"
    },
    "scrolled": true
   },
   "outputs": [
    {
     "data": {
      "image/png": "[encoded data removed]",
      "text/plain": [
       "<Figure size 432x288 with 1 Axes>"
      ]
     },
     "metadata": {
      "needs_background": "light"
     },
     "output_type": "display_data"
    }
   ],
   "source": [
    "fig, ax = plt.subplots(1,1)\n",
    "ax.plot(sizes, t_numeric, 'o-', label='Inserting row-by-row')\n",
    "ax.plot(sizes, t_numeric_add, 'o-', label='Inserting row-by-row: add_result only')\n",
    "ax.plot(sizes, t_array, 'd-', label='Inserting as binary blob')\n",
    "ax.plot(sizes, t_array_add, 'd-', label='Inserting as binary blob: add_result only')\n",
    "ax.legend()\n",
    "ax.set_xlabel('Array length')\n",
    "ax.set_ylabel('Time (s)')\n",
    "fig.tight_layout()"
   ]
  },
  {
   "cell_type": "markdown",
   "metadata": {},
   "source": [
    "However, as we increase the length of the experiment, as seen here by repeating the insertion 100 times, we see a big difference between inserting values of the data row-by-row and inserting it as a binary blob."
   ]
  },
  {
   "cell_type": "markdown",
   "metadata": {},
   "source": [
    "## Loading the data "
   ]
  },
  {
   "cell_type": "code",
   "execution_count": 9,
   "metadata": {
    "execution": {
     "iopub.execute_input": "2021-02-19T06:29:18.365063Z",
     "iopub.status.busy": "2021-02-19T06:29:18.364266Z",
     "iopub.status.idle": "2021-02-19T06:29:18.369267Z",
     "shell.execute_reply": "2021-02-19T06:29:18.368733Z"
    }
   },
   "outputs": [],
   "source": [
    "from qcodes.dataset.data_set import load_by_id\n",
    "from qcodes.dataset.data_export import get_data_by_id"
   ]
  },
  {
   "cell_type": "markdown",
   "metadata": {},
   "source": [
    "As usual you can load the data by using the ``load_by_id`` function but you will notice that the different storage methods\n",
    "are reflected in shape of the data as it is retrieved. "
   ]
  },
  {
   "cell_type": "code",
   "execution_count": 10,
   "metadata": {
    "execution": {
     "iopub.execute_input": "2021-02-19T06:29:18.374157Z",
     "iopub.status.busy": "2021-02-19T06:29:18.372982Z",
     "iopub.status.idle": "2021-02-19T06:29:18.374766Z",
     "shell.execute_reply": "2021-02-19T06:29:18.375203Z"
    }
   },
   "outputs": [],
   "source": [
    "run_id_n = t_numeric_run_ids[0]\n",
    "run_id_a = t_array_run_ids[0]"
   ]
  },
  {
   "cell_type": "code",
   "execution_count": 11,
   "metadata": {
    "execution": {
     "iopub.execute_input": "2021-02-19T06:29:18.378421Z",
     "iopub.status.busy": "2021-02-19T06:29:18.377943Z",
     "iopub.status.idle": "2021-02-19T06:29:18.386545Z",
     "shell.execute_reply": "2021-02-19T06:29:18.387064Z"
    },
    "scrolled": true
   },
   "outputs": [
    {
     "data": {
      "text/plain": [
       "{'x1': {'x1': array([0.33078613, 0.33078613, 0.37966248, 0.37966248, 0.59785082,\n",
       "         0.59785082, 0.57783673, 0.57783673, 0.25338434, 0.25338434,\n",
       "         0.28541017, 0.28541017, 0.36586856, 0.36586856, 0.59193192,\n",
       "         0.59193192, 0.52386405, 0.52386405, 0.9246327 , 0.9246327 ,\n",
       "         0.47226381, 0.47226381, 0.56836459, 0.56836459, 0.55276121,\n",
       "         0.55276121, 0.31817401, 0.31817401, 0.58830483, 0.58830483,\n",
       "         0.17229004, 0.17229004, 0.30920834, 0.30920834, 0.1574214 ,\n",
       "         0.1574214 , 0.1981752 , 0.1981752 , 0.44081899, 0.44081899,\n",
       "         0.05679553, 0.05679553, 0.2619692 , 0.2619692 , 0.14151352,\n",
       "         0.14151352, 0.81522587, 0.81522587, 0.26560522, 0.26560522,\n",
       "         0.03570025, 0.03570025, 0.85383374, 0.85383374, 0.56718744,\n",
       "         0.56718744, 0.58272691, 0.58272691, 0.65881632, 0.65881632,\n",
       "         0.79008497, 0.79008497, 0.0770588 , 0.0770588 , 0.98755462,\n",
       "         0.98755462, 0.17461224, 0.17461224, 0.29244647, 0.29244647,\n",
       "         0.40462235, 0.40462235, 0.31999577, 0.31999577, 0.03662954,\n",
       "         0.03662954, 0.46958838, 0.46958838, 0.13125128, 0.13125128,\n",
       "         0.11855199, 0.11855199, 0.05758977, 0.05758977, 0.91045005,\n",
       "         0.91045005, 0.24991218, 0.24991218, 0.51705477, 0.51705477,\n",
       "         0.18181067, 0.18181067, 0.52495325, 0.52495325, 0.59450649,\n",
       "         0.59450649, 0.84657289, 0.84657289, 0.13145143, 0.13145143,\n",
       "         0.06079433, 0.06079433, 0.28820689, 0.28820689, 0.25872254,\n",
       "         0.25872254, 0.79198175, 0.79198175, 0.1164655 , 0.1164655 ,\n",
       "         0.69871597, 0.69871597, 0.91853136, 0.91853136, 0.10934031,\n",
       "         0.10934031, 0.70998787, 0.70998787, 0.89519699, 0.89519699,\n",
       "         0.18402809, 0.18402809, 0.7426106 , 0.7426106 , 0.43366754,\n",
       "         0.43366754, 0.15888682, 0.15888682, 0.14282946, 0.14282946,\n",
       "         0.76312005, 0.76312005, 0.51312733, 0.51312733, 0.25759048,\n",
       "         0.25759048, 0.18735274, 0.18735274, 0.49609735, 0.49609735,\n",
       "         0.68861573, 0.68861573, 0.23088119, 0.23088119, 0.53287254,\n",
       "         0.53287254, 0.76288137, 0.76288137, 0.59855856, 0.59855856,\n",
       "         0.6744161 , 0.6744161 , 0.50604455, 0.50604455, 0.23720239,\n",
       "         0.23720239, 0.11098722, 0.11098722, 0.23083092, 0.23083092,\n",
       "         0.91952017, 0.91952017, 0.3585361 , 0.3585361 , 0.15607216,\n",
       "         0.15607216, 0.14994151, 0.14994151, 0.56510551, 0.56510551,\n",
       "         0.55753911, 0.55753911, 0.7478399 , 0.7478399 , 0.07228599,\n",
       "         0.07228599, 0.21955705, 0.21955705, 0.61187702, 0.61187702,\n",
       "         0.11361444, 0.11361444, 0.66908615, 0.66908615, 0.59578001,\n",
       "         0.59578001, 0.6452391 , 0.6452391 , 0.34613848, 0.34613848,\n",
       "         0.2414749 , 0.2414749 , 0.59879898, 0.59879898, 0.93803916,\n",
       "         0.93803916, 0.83113809, 0.83113809, 0.86124412, 0.86124412])}}"
      ]
     },
     "execution_count": 1,
     "metadata": {},
     "output_type": "execute_result"
    }
   ],
   "source": [
    "ds = load_by_id(run_id_n)\n",
    "ds.get_parameter_data('x1')"
   ]
  },
  {
   "cell_type": "markdown",
   "metadata": {},
   "source": [
    "And a dataset stored as binary arrays"
   ]
  },
  {
   "cell_type": "code",
   "execution_count": 12,
   "metadata": {
    "execution": {
     "iopub.execute_input": "2021-02-19T06:29:18.390314Z",
     "iopub.status.busy": "2021-02-19T06:29:18.389759Z",
     "iopub.status.idle": "2021-02-19T06:29:18.442964Z",
     "shell.execute_reply": "2021-02-19T06:29:18.443408Z"
    },
    "scrolled": true
   },
   "outputs": [
    {
     "data": {
      "text/plain": [
       "{'x1': {'x1': array([[0.51164087],\n",
       "         [0.51164087],\n",
       "         [0.56557604],\n",
       "         [0.56557604],\n",
       "         [0.33427132],\n",
       "         [0.33427132],\n",
       "         [0.1430299 ],\n",
       "         [0.1430299 ],\n",
       "         [0.6048716 ],\n",
       "         [0.6048716 ],\n",
       "         [0.39414591],\n",
       "         [0.39414591],\n",
       "         [0.54198512],\n",
       "         [0.54198512],\n",
       "         [0.92497617],\n",
       "         [0.92497617],\n",
       "         [0.13545762],\n",
       "         [0.13545762],\n",
       "         [0.32126164],\n",
       "         [0.32126164],\n",
       "         [0.47199589],\n",
       "         [0.47199589],\n",
       "         [0.01769162],\n",
       "         [0.01769162],\n",
       "         [0.90629105],\n",
       "         [0.90629105],\n",
       "         [0.26281092],\n",
       "         [0.26281092],\n",
       "         [0.83749443],\n",
       "         [0.83749443],\n",
       "         [0.43240988],\n",
       "         [0.43240988],\n",
       "         [0.61119468],\n",
       "         [0.61119468],\n",
       "         [0.43274933],\n",
       "         [0.43274933],\n",
       "         [0.95209643],\n",
       "         [0.95209643],\n",
       "         [0.96092956],\n",
       "         [0.96092956],\n",
       "         [0.65699158],\n",
       "         [0.65699158],\n",
       "         [0.14660194],\n",
       "         [0.14660194],\n",
       "         [0.5915685 ],\n",
       "         [0.5915685 ],\n",
       "         [0.49669532],\n",
       "         [0.49669532],\n",
       "         [0.63504438],\n",
       "         [0.63504438],\n",
       "         [0.243579  ],\n",
       "         [0.243579  ],\n",
       "         [0.75235122],\n",
       "         [0.75235122],\n",
       "         [0.51527081],\n",
       "         [0.51527081],\n",
       "         [0.95012304],\n",
       "         [0.95012304],\n",
       "         [0.6820836 ],\n",
       "         [0.6820836 ],\n",
       "         [0.53206185],\n",
       "         [0.53206185],\n",
       "         [0.73317062],\n",
       "         [0.73317062],\n",
       "         [0.2181333 ],\n",
       "         [0.2181333 ],\n",
       "         [0.37725358],\n",
       "         [0.37725358],\n",
       "         [0.97182994],\n",
       "         [0.97182994],\n",
       "         [0.84148923],\n",
       "         [0.84148923],\n",
       "         [0.11372653],\n",
       "         [0.11372653],\n",
       "         [0.72784076],\n",
       "         [0.72784076],\n",
       "         [0.70449698],\n",
       "         [0.70449698],\n",
       "         [0.88941929],\n",
       "         [0.88941929],\n",
       "         [0.91177607],\n",
       "         [0.91177607],\n",
       "         [0.03846928],\n",
       "         [0.03846928],\n",
       "         [0.85619372],\n",
       "         [0.85619372],\n",
       "         [0.29863704],\n",
       "         [0.29863704],\n",
       "         [0.47428919],\n",
       "         [0.47428919],\n",
       "         [0.35002149],\n",
       "         [0.35002149],\n",
       "         [0.30273409],\n",
       "         [0.30273409],\n",
       "         [0.78884835],\n",
       "         [0.78884835],\n",
       "         [0.11856925],\n",
       "         [0.11856925],\n",
       "         [0.71809507],\n",
       "         [0.71809507],\n",
       "         [0.25956621],\n",
       "         [0.25956621],\n",
       "         [0.22551924],\n",
       "         [0.22551924],\n",
       "         [0.53285782],\n",
       "         [0.53285782],\n",
       "         [0.6790555 ],\n",
       "         [0.6790555 ],\n",
       "         [0.67089679],\n",
       "         [0.67089679],\n",
       "         [0.57838286],\n",
       "         [0.57838286],\n",
       "         [0.50993893],\n",
       "         [0.50993893],\n",
       "         [0.06765427],\n",
       "         [0.06765427],\n",
       "         [0.36926785],\n",
       "         [0.36926785],\n",
       "         [0.81498605],\n",
       "         [0.81498605],\n",
       "         [0.48841683],\n",
       "         [0.48841683],\n",
       "         [0.11111918],\n",
       "         [0.11111918],\n",
       "         [0.43947138],\n",
       "         [0.43947138],\n",
       "         [0.82700735],\n",
       "         [0.82700735],\n",
       "         [0.10695755],\n",
       "         [0.10695755],\n",
       "         [0.08780851],\n",
       "         [0.08780851],\n",
       "         [0.21914497],\n",
       "         [0.21914497],\n",
       "         [0.42246953],\n",
       "         [0.42246953],\n",
       "         [0.91464177],\n",
       "         [0.91464177],\n",
       "         [0.63269163],\n",
       "         [0.63269163],\n",
       "         [0.93958588],\n",
       "         [0.93958588],\n",
       "         [0.11984338],\n",
       "         [0.11984338],\n",
       "         [0.48743658],\n",
       "         [0.48743658],\n",
       "         [0.49229439],\n",
       "         [0.49229439],\n",
       "         [0.59369344],\n",
       "         [0.59369344],\n",
       "         [0.46073841],\n",
       "         [0.46073841],\n",
       "         [0.69055088],\n",
       "         [0.69055088],\n",
       "         [0.97343765],\n",
       "         [0.97343765],\n",
       "         [0.6085461 ],\n",
       "         [0.6085461 ],\n",
       "         [0.05251865],\n",
       "         [0.05251865],\n",
       "         [0.86538089],\n",
       "         [0.86538089],\n",
       "         [0.208139  ],\n",
       "         [0.208139  ],\n",
       "         [0.79289654],\n",
       "         [0.79289654],\n",
       "         [0.56261187],\n",
       "         [0.56261187],\n",
       "         [0.70305004],\n",
       "         [0.70305004],\n",
       "         [0.02460756],\n",
       "         [0.02460756],\n",
       "         [0.376078  ],\n",
       "         [0.376078  ],\n",
       "         [0.74908916],\n",
       "         [0.74908916],\n",
       "         [0.64055837],\n",
       "         [0.64055837],\n",
       "         [0.22061098],\n",
       "         [0.22061098],\n",
       "         [0.05244329],\n",
       "         [0.05244329],\n",
       "         [0.55780608],\n",
       "         [0.55780608],\n",
       "         [0.72757776],\n",
       "         [0.72757776],\n",
       "         [0.57163073],\n",
       "         [0.57163073],\n",
       "         [0.19665816],\n",
       "         [0.19665816],\n",
       "         [0.25527883],\n",
       "         [0.25527883],\n",
       "         [0.35159704],\n",
       "         [0.35159704],\n",
       "         [0.94519118],\n",
       "         [0.94519118],\n",
       "         [0.84464585],\n",
       "         [0.84464585],\n",
       "         [0.69077019],\n",
       "         [0.69077019]])}}"
      ]
     },
     "execution_count": 1,
     "metadata": {},
     "output_type": "execute_result"
    }
   ],
   "source": [
    "ds = load_by_id(run_id_a)\n",
    "ds.get_parameter_data('x1')"
   ]
  },
  {
   "cell_type": "code",
   "execution_count": null,
   "metadata": {},
   "outputs": [],
   "source": []
  }
 ],
 "metadata": {
  "kernelspec": {
   "display_name": "Python 3",
   "language": "python",
   "name": "python3"
  },
  "language_info": {
   "codemirror_mode": {
    "name": "ipython",
    "version": 3
   },
   "file_extension": ".py",
   "mimetype": "text/x-python",
   "name": "python",
   "nbconvert_exporter": "python",
   "pygments_lexer": "ipython3",
   "version": "3.7.9"
  },
  "nbsphinx": {
   "timeout": 600
  },
  "toc": {
   "base_numbering": 1,
   "nav_menu": {},
   "number_sections": true,
   "sideBar": true,
   "skip_h1_title": false,
   "title_cell": "Table of Contents",
   "title_sidebar": "Contents",
   "toc_cell": false,
   "toc_position": {},
   "toc_section_display": true,
   "toc_window_display": false
  },
  "varInspector": {
   "cols": {
    "lenName": 16,
    "lenType": 16,
    "lenVar": 40
   },
   "kernels_config": {
    "python": {
     "delete_cmd_postfix": "",
     "delete_cmd_prefix": "del ",
     "library": "var_list.py",
     "varRefreshCmd": "print(var_dic_list())"
    },
    "r": {
     "delete_cmd_postfix": ") ",
     "delete_cmd_prefix": "rm(",
     "library": "var_list.r",
     "varRefreshCmd": "cat(var_dic_list()) "
    }
   },
   "types_to_exclude": [
    "module",
    "function",
    "builtin_function_or_method",
    "instance",
    "_Feature"
   ],
   "window_display": false
  }
 },
 "nbformat": 4,
 "nbformat_minor": 2
}
