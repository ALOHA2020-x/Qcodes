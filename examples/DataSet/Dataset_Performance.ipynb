{
 "cells": [
  {
   "cell_type": "markdown",
   "metadata": {},
   "source": [
    "# DataSet Performance\n",
    "\n",
    "This notebook shows the trade-off between inserting data into a database row-by-row and as binary blobs. Inserting the data row-by-row means that we have direct access to all the data and may perform queries directly on the values of the data. On the other hand, as we shall see, this is much slower than inserting the data directly as binary blobs."
   ]
  },
  {
   "cell_type": "markdown",
   "metadata": {},
   "source": [
    "First, we choose a new location for the database to ensure that we don't add a bunch of benchmarking data to the default one."
   ]
  },
  {
   "cell_type": "code",
   "execution_count": 1,
   "metadata": {
    "execution": {
     "iopub.execute_input": "2021-05-12T07:20:21.014943Z",
     "iopub.status.busy": "2021-05-12T07:20:21.014389Z",
     "iopub.status.idle": "2021-05-12T07:20:22.204806Z",
     "shell.execute_reply": "2021-05-12T07:20:22.203712Z"
    }
   },
   "outputs": [
    {
     "name": "stdout",
     "output_type": "stream",
     "text": [
      "Logging hadn't been started.\n",
      "Activating auto-logging. Current session state plus future input saved.\n",
      "Filename       : /home/runner/.qcodes/logs/command_history.log\n",
      "Mode           : append\n",
      "Output logging : True\n",
      "Raw input log  : False\n",
      "Timestamping   : True\n",
      "State          : active\n"
     ]
    },
    {
     "name": "stdout",
     "output_type": "stream",
     "text": [
      "Qcodes Logfile : /home/runner/.qcodes/logs/210512-4750-qcodes.log\n"
     ]
    }
   ],
   "source": [
    "import os\n",
    "cwd = os.getcwd()\n",
    "import qcodes as qc\n",
    "qc.config[\"core\"][\"db_location\"] = os.path.join(cwd, 'testing.db')\n"
   ]
  },
  {
   "cell_type": "code",
   "execution_count": 2,
   "metadata": {
    "execution": {
     "iopub.execute_input": "2021-05-12T07:20:22.212126Z",
     "iopub.status.busy": "2021-05-12T07:20:22.211504Z",
     "iopub.status.idle": "2021-05-12T07:20:22.398093Z",
     "shell.execute_reply": "2021-05-12T07:20:22.397622Z"
    }
   },
   "outputs": [],
   "source": [
    "%matplotlib inline\n",
    "import time\n",
    "import matplotlib.pyplot as plt\n",
    "import numpy as np\n",
    "\n",
    "import qcodes as qc\n",
    "from qcodes.instrument.parameter import ManualParameter\n",
    "from qcodes.dataset.experiment_container import (Experiment,\n",
    "                                                 load_last_experiment,\n",
    "                                                 new_experiment)\n",
    "from qcodes.dataset.sqlite.database import initialise_database\n",
    "from qcodes import load_or_create_experiment\n",
    "from qcodes.dataset.measurements import Measurement"
   ]
  },
  {
   "cell_type": "code",
   "execution_count": 3,
   "metadata": {
    "execution": {
     "iopub.execute_input": "2021-05-12T07:20:22.402058Z",
     "iopub.status.busy": "2021-05-12T07:20:22.401228Z",
     "iopub.status.idle": "2021-05-12T07:20:22.479740Z",
     "shell.execute_reply": "2021-05-12T07:20:22.479139Z"
    }
   },
   "outputs": [
    {
     "name": "stdout",
     "output_type": "stream",
     "text": [
      "\r",
      "0it [00:00, ?it/s]"
     ]
    },
    {
     "name": "stdout",
     "output_type": "stream",
     "text": [
      "\r",
      "Upgrading database; v0 -> v1: : 0it [00:00, ?it/s]"
     ]
    },
    {
     "name": "stdout",
     "output_type": "stream",
     "text": [
      "\r",
      "Upgrading database; v0 -> v1: : 0it [00:00, ?it/s]"
     ]
    },
    {
     "name": "stdout",
     "output_type": "stream",
     "text": [
      "\n",
      "\r",
      "  0%|          | 0/1 [00:00<?, ?it/s]"
     ]
    },
    {
     "name": "stdout",
     "output_type": "stream",
     "text": [
      "\r",
      "Upgrading database; v1 -> v2:   0%|          | 0/1 [00:00<?, ?it/s]"
     ]
    },
    {
     "name": "stdout",
     "output_type": "stream",
     "text": [
      "\r",
      "Upgrading database; v1 -> v2: 100%|██████████| 1/1 [00:00<00:00, 448.40it/s]"
     ]
    },
    {
     "name": "stdout",
     "output_type": "stream",
     "text": [
      "\n",
      "\r",
      "0it [00:00, ?it/s]"
     ]
    },
    {
     "name": "stdout",
     "output_type": "stream",
     "text": [
      "\r",
      "Upgrading database; v2 -> v3: : 0it [00:00, ?it/s]"
     ]
    },
    {
     "name": "stdout",
     "output_type": "stream",
     "text": [
      "\r",
      "Upgrading database; v2 -> v3: : 0it [00:00, ?it/s]"
     ]
    },
    {
     "name": "stdout",
     "output_type": "stream",
     "text": [
      "\n",
      "\r",
      "0it [00:00, ?it/s]"
     ]
    },
    {
     "name": "stdout",
     "output_type": "stream",
     "text": [
      "\r",
      "Upgrading database; v3 -> v4: : 0it [00:00, ?it/s]"
     ]
    },
    {
     "name": "stdout",
     "output_type": "stream",
     "text": [
      "\r",
      "Upgrading database; v3 -> v4: : 0it [00:00, ?it/s]"
     ]
    },
    {
     "name": "stdout",
     "output_type": "stream",
     "text": [
      "\n",
      "\r",
      "  0%|          | 0/1 [00:00<?, ?it/s]"
     ]
    },
    {
     "name": "stdout",
     "output_type": "stream",
     "text": [
      "\r",
      "Upgrading database; v4 -> v5:   0%|          | 0/1 [00:00<?, ?it/s]"
     ]
    },
    {
     "name": "stdout",
     "output_type": "stream",
     "text": [
      "\r",
      "Upgrading database; v4 -> v5: 100%|██████████| 1/1 [00:00<00:00, 432.27it/s]"
     ]
    },
    {
     "name": "stdout",
     "output_type": "stream",
     "text": [
      "\n",
      "\r",
      "0it [00:00, ?it/s]"
     ]
    },
    {
     "name": "stdout",
     "output_type": "stream",
     "text": [
      "\r",
      "Upgrading database; v5 -> v6: : 0it [00:00, ?it/s]"
     ]
    },
    {
     "name": "stdout",
     "output_type": "stream",
     "text": [
      "\r",
      "Upgrading database; v5 -> v6: : 0it [00:00, ?it/s]"
     ]
    },
    {
     "name": "stdout",
     "output_type": "stream",
     "text": [
      "\n",
      "\r",
      "  0%|          | 0/1 [00:00<?, ?it/s]"
     ]
    },
    {
     "name": "stdout",
     "output_type": "stream",
     "text": [
      "\r",
      "Upgrading database; v6 -> v7:   0%|          | 0/1 [00:00<?, ?it/s]"
     ]
    },
    {
     "name": "stdout",
     "output_type": "stream",
     "text": [
      "\r",
      "Upgrading database; v6 -> v7: 100%|██████████| 1/1 [00:00<00:00, 315.69it/s]"
     ]
    },
    {
     "name": "stdout",
     "output_type": "stream",
     "text": [
      "\n",
      "\r",
      "  0%|          | 0/1 [00:00<?, ?it/s]"
     ]
    },
    {
     "name": "stdout",
     "output_type": "stream",
     "text": [
      "\r",
      "Upgrading database; v7 -> v8:   0%|          | 0/1 [00:00<?, ?it/s]"
     ]
    },
    {
     "name": "stdout",
     "output_type": "stream",
     "text": [
      "\r",
      "Upgrading database; v7 -> v8: 100%|██████████| 1/1 [00:00<00:00, 461.22it/s]"
     ]
    },
    {
     "name": "stdout",
     "output_type": "stream",
     "text": [
      "\n",
      "\r",
      "  0%|          | 0/1 [00:00<?, ?it/s]"
     ]
    },
    {
     "name": "stdout",
     "output_type": "stream",
     "text": [
      "\r",
      "Upgrading database; v8 -> v9:   0%|          | 0/1 [00:00<?, ?it/s]"
     ]
    },
    {
     "name": "stdout",
     "output_type": "stream",
     "text": [
      "\r",
      "Upgrading database; v8 -> v9: 100%|██████████| 1/1 [00:00<00:00, 982.27it/s]"
     ]
    },
    {
     "name": "stdout",
     "output_type": "stream",
     "text": [
      "\n"
     ]
    }
   ],
   "source": [
    "initialise_database()\n",
    "exp = load_or_create_experiment(experiment_name='tutorial_exp', sample_name=\"no sample\")"
   ]
  },
  {
   "cell_type": "markdown",
   "metadata": {},
   "source": [
    "Here, we define a simple function to benchmark the time it takes to insert n points with either numeric or array data type.\n",
    "We will compare both the time used to call ``add_result`` and the time used for the full measurement."
   ]
  },
  {
   "cell_type": "code",
   "execution_count": 4,
   "metadata": {
    "execution": {
     "iopub.execute_input": "2021-05-12T07:20:22.489787Z",
     "iopub.status.busy": "2021-05-12T07:20:22.488444Z",
     "iopub.status.idle": "2021-05-12T07:20:22.490394Z",
     "shell.execute_reply": "2021-05-12T07:20:22.490874Z"
    }
   },
   "outputs": [],
   "source": [
    "def insert_data(paramtype, npoints, nreps=1):\n",
    "\n",
    "    meas = Measurement(exp=exp)\n",
    "\n",
    "    x1 = ManualParameter('x1')\n",
    "    x2 = ManualParameter('x2')\n",
    "    x3 = ManualParameter('x3')\n",
    "    y1 = ManualParameter('y1')\n",
    "    y2 = ManualParameter('y2')\n",
    "\n",
    "    meas.register_parameter(x1, paramtype=paramtype)\n",
    "    meas.register_parameter(x2, paramtype=paramtype)\n",
    "    meas.register_parameter(x3, paramtype=paramtype)\n",
    "    meas.register_parameter(y1, setpoints=[x1, x2, x3],\n",
    "                            paramtype=paramtype)\n",
    "    meas.register_parameter(y2, setpoints=[x1, x2, x3],\n",
    "                            paramtype=paramtype)\n",
    "    start = time.perf_counter()\n",
    "    with meas.run() as datasaver:\n",
    "        start_adding = time.perf_counter()\n",
    "        for i in range(nreps):\n",
    "            datasaver.add_result((x1, np.random.rand(npoints)),\n",
    "                                 (x2, np.random.rand(npoints)),\n",
    "                                 (x3, np.random.rand(npoints)),\n",
    "                                 (y1, np.random.rand(npoints)),\n",
    "                                 (y2, np.random.rand(npoints)))\n",
    "        stop_adding = time.perf_counter()\n",
    "        run_id = datasaver.run_id\n",
    "    stop = time.perf_counter()\n",
    "    tot_time = stop - start\n",
    "    add_time = stop_adding - start_adding\n",
    "    return tot_time, add_time, run_id"
   ]
  },
  {
   "cell_type": "markdown",
   "metadata": {},
   "source": [
    "## Comparison between numeric/array data and binary blob"
   ]
  },
  {
   "cell_type": "markdown",
   "metadata": {},
   "source": [
    "### Case1: Short experiment time"
   ]
  },
  {
   "cell_type": "code",
   "execution_count": 5,
   "metadata": {
    "execution": {
     "iopub.execute_input": "2021-05-12T07:20:22.497823Z",
     "iopub.status.busy": "2021-05-12T07:20:22.496154Z",
     "iopub.status.idle": "2021-05-12T07:20:23.338799Z",
     "shell.execute_reply": "2021-05-12T07:20:23.339723Z"
    }
   },
   "outputs": [
    {
     "name": "stdout",
     "output_type": "stream",
     "text": [
      "Starting experimental run with id: 1. \n",
      "Starting experimental run with id: 2. \n",
      "Starting experimental run with id: 3. \n"
     ]
    },
    {
     "name": "stdout",
     "output_type": "stream",
     "text": [
      "Starting experimental run with id: 4. \n"
     ]
    },
    {
     "name": "stdout",
     "output_type": "stream",
     "text": [
      "Starting experimental run with id: 5. \n"
     ]
    },
    {
     "name": "stdout",
     "output_type": "stream",
     "text": [
      "Starting experimental run with id: 6. \n"
     ]
    },
    {
     "name": "stdout",
     "output_type": "stream",
     "text": [
      "Starting experimental run with id: 7. \n",
      "Starting experimental run with id: 8. \n",
      "Starting experimental run with id: 9. \n"
     ]
    },
    {
     "name": "stdout",
     "output_type": "stream",
     "text": [
      "Starting experimental run with id: 10. \n",
      "Starting experimental run with id: 11. \n"
     ]
    },
    {
     "name": "stdout",
     "output_type": "stream",
     "text": [
      "Starting experimental run with id: 12. \n",
      "Starting experimental run with id: 13. \n",
      "Starting experimental run with id: 14. \n"
     ]
    }
   ],
   "source": [
    "sizes = [1,500,1000,2000,3000,4000,5000]\n",
    "t_numeric = []\n",
    "t_numeric_add = []\n",
    "t_array = []\n",
    "t_array_add = []\n",
    "for size in sizes:\n",
    "    tn, tna, run_id_n =  insert_data('numeric', size)\n",
    "    t_numeric.append(tn)\n",
    "    t_numeric_add.append(tna)\n",
    "\n",
    "    ta, taa, run_id_a =  insert_data('array', size)\n",
    "    t_array.append(ta)\n",
    "    t_array_add.append(taa)"
   ]
  },
  {
   "cell_type": "code",
   "execution_count": 6,
   "metadata": {
    "execution": {
     "iopub.execute_input": "2021-05-12T07:20:23.358710Z",
     "iopub.status.busy": "2021-05-12T07:20:23.344081Z",
     "iopub.status.idle": "2021-05-12T07:20:23.637322Z",
     "shell.execute_reply": "2021-05-12T07:20:23.638154Z"
    }
   },
   "outputs": [
    {
     "data": {
      "image/png": "[encoded data removed]",
      "text/plain": [
       "<Figure size 432x288 with 1 Axes>"
      ]
     },
     "metadata": {
      "needs_background": "light"
     },
     "output_type": "display_data"
    }
   ],
   "source": [
    "fig, ax = plt.subplots(1,1)\n",
    "ax.plot(sizes, t_numeric, 'o-', label='Inserting row-by-row')\n",
    "ax.plot(sizes, t_numeric_add, 'o-', label='Inserting row-by-row: add_result only')\n",
    "ax.plot(sizes, t_array, 'd-', label='Inserting as binary blob')\n",
    "ax.plot(sizes, t_array_add, 'd-', label='Inserting as binary blob: add_result only')\n",
    "ax.legend()\n",
    "ax.set_xlabel('Array length')\n",
    "ax.set_ylabel('Time (s)')\n",
    "fig.tight_layout()"
   ]
  },
  {
   "cell_type": "markdown",
   "metadata": {},
   "source": [
    "As shown in the latter figure, the time to setup and and close the experiment is approximately 0.4 sec. In case of small array sizes, the difference between inserting values of data as arrays and inserting them row-by-row is relatively unimportant. At larger array sizes, i.e. above 10000 points, the cost of writing data as individual datapoints starts to become important.\n"
   ]
  },
  {
   "cell_type": "markdown",
   "metadata": {},
   "source": [
    "### Case2: Long experiment time "
   ]
  },
  {
   "cell_type": "code",
   "execution_count": 7,
   "metadata": {
    "execution": {
     "iopub.execute_input": "2021-05-12T07:20:23.644835Z",
     "iopub.status.busy": "2021-05-12T07:20:23.643750Z",
     "iopub.status.idle": "2021-05-12T07:21:17.992462Z",
     "shell.execute_reply": "2021-05-12T07:21:17.991603Z"
    }
   },
   "outputs": [
    {
     "name": "stdout",
     "output_type": "stream",
     "text": [
      "Starting experimental run with id: 15. \n",
      "Starting experimental run with id: 16. \n",
      "Starting experimental run with id: 17. \n"
     ]
    },
    {
     "name": "stdout",
     "output_type": "stream",
     "text": [
      "Starting experimental run with id: 18. \n"
     ]
    },
    {
     "name": "stdout",
     "output_type": "stream",
     "text": [
      "Starting experimental run with id: 19. \n"
     ]
    },
    {
     "name": "stdout",
     "output_type": "stream",
     "text": [
      "Starting experimental run with id: 20. \n"
     ]
    },
    {
     "name": "stdout",
     "output_type": "stream",
     "text": [
      "Starting experimental run with id: 21. \n"
     ]
    },
    {
     "name": "stdout",
     "output_type": "stream",
     "text": [
      "Starting experimental run with id: 22. \n"
     ]
    },
    {
     "name": "stdout",
     "output_type": "stream",
     "text": [
      "Starting experimental run with id: 23. \n"
     ]
    },
    {
     "name": "stdout",
     "output_type": "stream",
     "text": [
      "Starting experimental run with id: 24. \n"
     ]
    },
    {
     "name": "stdout",
     "output_type": "stream",
     "text": [
      "Starting experimental run with id: 25. \n"
     ]
    },
    {
     "name": "stdout",
     "output_type": "stream",
     "text": [
      "Starting experimental run with id: 26. \n"
     ]
    },
    {
     "name": "stdout",
     "output_type": "stream",
     "text": [
      "Starting experimental run with id: 27. \n"
     ]
    },
    {
     "name": "stdout",
     "output_type": "stream",
     "text": [
      "Starting experimental run with id: 28. \n"
     ]
    }
   ],
   "source": [
    "sizes = [1,500,1000,2000,3000,4000,5000]\n",
    "nreps = 100\n",
    "t_numeric = []\n",
    "t_numeric_add = []\n",
    "t_numeric_run_ids = []\n",
    "t_array = []\n",
    "t_array_add = []\n",
    "t_array_run_ids = []\n",
    "for size in sizes:\n",
    "    tn, tna, run_id_n =  insert_data('numeric', size, nreps=nreps)\n",
    "    t_numeric.append(tn)\n",
    "    t_numeric_add.append(tna)\n",
    "    t_numeric_run_ids.append(run_id_n)\n",
    "\n",
    "    ta, taa, run_id_a =  insert_data('array', size, nreps=nreps)\n",
    "    t_array.append(ta)\n",
    "    t_array_add.append(taa)\n",
    "    t_array_run_ids.append(run_id_a)"
   ]
  },
  {
   "cell_type": "code",
   "execution_count": 8,
   "metadata": {
    "execution": {
     "iopub.execute_input": "2021-05-12T07:21:18.026902Z",
     "iopub.status.busy": "2021-05-12T07:21:18.012031Z",
     "iopub.status.idle": "2021-05-12T07:21:18.265428Z",
     "shell.execute_reply": "2021-05-12T07:21:18.264923Z"
    },
    "scrolled": true
   },
   "outputs": [
    {
     "data": {
      "image/png": "[encoded data removed]",
      "text/plain": [
       "<Figure size 432x288 with 1 Axes>"
      ]
     },
     "metadata": {
      "needs_background": "light"
     },
     "output_type": "display_data"
    }
   ],
   "source": [
    "fig, ax = plt.subplots(1,1)\n",
    "ax.plot(sizes, t_numeric, 'o-', label='Inserting row-by-row')\n",
    "ax.plot(sizes, t_numeric_add, 'o-', label='Inserting row-by-row: add_result only')\n",
    "ax.plot(sizes, t_array, 'd-', label='Inserting as binary blob')\n",
    "ax.plot(sizes, t_array_add, 'd-', label='Inserting as binary blob: add_result only')\n",
    "ax.legend()\n",
    "ax.set_xlabel('Array length')\n",
    "ax.set_ylabel('Time (s)')\n",
    "fig.tight_layout()"
   ]
  },
  {
   "cell_type": "markdown",
   "metadata": {},
   "source": [
    "However, as we increase the length of the experiment, as seen here by repeating the insertion 100 times, we see a big difference between inserting values of the data row-by-row and inserting it as a binary blob."
   ]
  },
  {
   "cell_type": "markdown",
   "metadata": {},
   "source": [
    "## Loading the data "
   ]
  },
  {
   "cell_type": "code",
   "execution_count": 9,
   "metadata": {
    "execution": {
     "iopub.execute_input": "2021-05-12T07:21:18.270421Z",
     "iopub.status.busy": "2021-05-12T07:21:18.269839Z",
     "iopub.status.idle": "2021-05-12T07:21:18.273969Z",
     "shell.execute_reply": "2021-05-12T07:21:18.273133Z"
    }
   },
   "outputs": [],
   "source": [
    "from qcodes.dataset.data_set import load_by_id"
   ]
  },
  {
   "cell_type": "markdown",
   "metadata": {},
   "source": [
    "As usual you can load the data by using the ``load_by_id`` function but you will notice that the different storage methods\n",
    "are reflected in shape of the data as it is retrieved. "
   ]
  },
  {
   "cell_type": "code",
   "execution_count": 10,
   "metadata": {
    "execution": {
     "iopub.execute_input": "2021-05-12T07:21:18.278545Z",
     "iopub.status.busy": "2021-05-12T07:21:18.277155Z",
     "iopub.status.idle": "2021-05-12T07:21:18.281448Z",
     "shell.execute_reply": "2021-05-12T07:21:18.282284Z"
    }
   },
   "outputs": [],
   "source": [
    "run_id_n = t_numeric_run_ids[0]\n",
    "run_id_a = t_array_run_ids[0]"
   ]
  },
  {
   "cell_type": "code",
   "execution_count": 11,
   "metadata": {
    "execution": {
     "iopub.execute_input": "2021-05-12T07:21:18.286010Z",
     "iopub.status.busy": "2021-05-12T07:21:18.285423Z",
     "iopub.status.idle": "2021-05-12T07:21:18.295579Z",
     "shell.execute_reply": "2021-05-12T07:21:18.296081Z"
    },
    "scrolled": true
   },
   "outputs": [
    {
     "data": {
      "text/plain": [
       "{'x1': {'x1': array([0.54882521, 0.54882521, 0.21726281, 0.21726281, 0.73919408,\n",
       "         0.73919408, 0.4660034 , 0.4660034 , 0.96167473, 0.96167473,\n",
       "         0.295271  , 0.295271  , 0.598302  , 0.598302  , 0.00305237,\n",
       "         0.00305237, 0.32459882, 0.32459882, 0.45820081, 0.45820081,\n",
       "         0.36137889, 0.36137889, 0.63265405, 0.63265405, 0.87494107,\n",
       "         0.87494107, 0.37455449, 0.37455449, 0.32336744, 0.32336744,\n",
       "         0.75462509, 0.75462509, 0.49961807, 0.49961807, 0.64951924,\n",
       "         0.64951924, 0.13521461, 0.13521461, 0.08300892, 0.08300892,\n",
       "         0.99639502, 0.99639502, 0.07075669, 0.07075669, 0.01613336,\n",
       "         0.01613336, 0.45264781, 0.45264781, 0.86242039, 0.86242039,\n",
       "         0.72933124, 0.72933124, 0.93770974, 0.93770974, 0.24652811,\n",
       "         0.24652811, 0.5461333 , 0.5461333 , 0.90501011, 0.90501011,\n",
       "         0.39329199, 0.39329199, 0.95321947, 0.95321947, 0.12395206,\n",
       "         0.12395206, 0.09919274, 0.09919274, 0.52027266, 0.52027266,\n",
       "         0.78229379, 0.78229379, 0.39662051, 0.39662051, 0.56929175,\n",
       "         0.56929175, 0.32765613, 0.32765613, 0.83322776, 0.83322776,\n",
       "         0.24317231, 0.24317231, 0.52990936, 0.52990936, 0.46219375,\n",
       "         0.46219375, 0.21926841, 0.21926841, 0.10116555, 0.10116555,\n",
       "         0.34903793, 0.34903793, 0.30367151, 0.30367151, 0.1493189 ,\n",
       "         0.1493189 , 0.30347964, 0.30347964, 0.09708391, 0.09708391,\n",
       "         0.01594841, 0.01594841, 0.35746392, 0.35746392, 0.49850056,\n",
       "         0.49850056, 0.9228693 , 0.9228693 , 0.29378073, 0.29378073,\n",
       "         0.18752934, 0.18752934, 0.91797526, 0.91797526, 0.17002798,\n",
       "         0.17002798, 0.19451133, 0.19451133, 0.28872457, 0.28872457,\n",
       "         0.33234477, 0.33234477, 0.06010399, 0.06010399, 0.4280372 ,\n",
       "         0.4280372 , 0.92037953, 0.92037953, 0.1458182 , 0.1458182 ,\n",
       "         0.00260279, 0.00260279, 0.61286096, 0.61286096, 0.78236452,\n",
       "         0.78236452, 0.26922082, 0.26922082, 0.55802379, 0.55802379,\n",
       "         0.74120444, 0.74120444, 0.38447298, 0.38447298, 0.47622542,\n",
       "         0.47622542, 0.3725461 , 0.3725461 , 0.12187548, 0.12187548,\n",
       "         0.58339396, 0.58339396, 0.36057964, 0.36057964, 0.11393938,\n",
       "         0.11393938, 0.40423448, 0.40423448, 0.90878677, 0.90878677,\n",
       "         0.38637511, 0.38637511, 0.62136016, 0.62136016, 0.59495614,\n",
       "         0.59495614, 0.06437715, 0.06437715, 0.52561751, 0.52561751,\n",
       "         0.83974958, 0.83974958, 0.81906928, 0.81906928, 0.10672503,\n",
       "         0.10672503, 0.98145466, 0.98145466, 0.59229467, 0.59229467,\n",
       "         0.52706653, 0.52706653, 0.23918597, 0.23918597, 0.82715963,\n",
       "         0.82715963, 0.96368759, 0.96368759, 0.05885018, 0.05885018,\n",
       "         0.75622321, 0.75622321, 0.49367034, 0.49367034, 0.161166  ,\n",
       "         0.161166  , 0.29625535, 0.29625535, 0.60541629, 0.60541629])}}"
      ]
     },
     "execution_count": 1,
     "metadata": {},
     "output_type": "execute_result"
    }
   ],
   "source": [
    "ds = load_by_id(run_id_n)\n",
    "ds.get_parameter_data('x1')"
   ]
  },
  {
   "cell_type": "markdown",
   "metadata": {},
   "source": [
    "And a dataset stored as binary arrays"
   ]
  },
  {
   "cell_type": "code",
   "execution_count": 12,
   "metadata": {
    "execution": {
     "iopub.execute_input": "2021-05-12T07:21:18.299445Z",
     "iopub.status.busy": "2021-05-12T07:21:18.298568Z",
     "iopub.status.idle": "2021-05-12T07:21:18.363231Z",
     "shell.execute_reply": "2021-05-12T07:21:18.362648Z"
    },
    "scrolled": true
   },
   "outputs": [
    {
     "data": {
      "text/plain": [
       "{'x1': {'x1': array([[0.88095086],\n",
       "         [0.88095086],\n",
       "         [0.500642  ],\n",
       "         [0.500642  ],\n",
       "         [0.80818541],\n",
       "         [0.80818541],\n",
       "         [0.42090045],\n",
       "         [0.42090045],\n",
       "         [0.74652981],\n",
       "         [0.74652981],\n",
       "         [0.9557344 ],\n",
       "         [0.9557344 ],\n",
       "         [0.43143488],\n",
       "         [0.43143488],\n",
       "         [0.95084436],\n",
       "         [0.95084436],\n",
       "         [0.34099636],\n",
       "         [0.34099636],\n",
       "         [0.42584499],\n",
       "         [0.42584499],\n",
       "         [0.19745529],\n",
       "         [0.19745529],\n",
       "         [0.62469261],\n",
       "         [0.62469261],\n",
       "         [0.67324365],\n",
       "         [0.67324365],\n",
       "         [0.63930376],\n",
       "         [0.63930376],\n",
       "         [0.19973528],\n",
       "         [0.19973528],\n",
       "         [0.48531501],\n",
       "         [0.48531501],\n",
       "         [0.65232508],\n",
       "         [0.65232508],\n",
       "         [0.56578447],\n",
       "         [0.56578447],\n",
       "         [0.91249083],\n",
       "         [0.91249083],\n",
       "         [0.95501204],\n",
       "         [0.95501204],\n",
       "         [0.04594197],\n",
       "         [0.04594197],\n",
       "         [0.25968565],\n",
       "         [0.25968565],\n",
       "         [0.60590946],\n",
       "         [0.60590946],\n",
       "         [0.52391616],\n",
       "         [0.52391616],\n",
       "         [0.23368802],\n",
       "         [0.23368802],\n",
       "         [0.99563408],\n",
       "         [0.99563408],\n",
       "         [0.51244117],\n",
       "         [0.51244117],\n",
       "         [0.23575833],\n",
       "         [0.23575833],\n",
       "         [0.3152007 ],\n",
       "         [0.3152007 ],\n",
       "         [0.89629264],\n",
       "         [0.89629264],\n",
       "         [0.84288778],\n",
       "         [0.84288778],\n",
       "         [0.89130723],\n",
       "         [0.89130723],\n",
       "         [0.02852269],\n",
       "         [0.02852269],\n",
       "         [0.18558553],\n",
       "         [0.18558553],\n",
       "         [0.97518968],\n",
       "         [0.97518968],\n",
       "         [0.969796  ],\n",
       "         [0.969796  ],\n",
       "         [0.48624144],\n",
       "         [0.48624144],\n",
       "         [0.46609759],\n",
       "         [0.46609759],\n",
       "         [0.59288894],\n",
       "         [0.59288894],\n",
       "         [0.63259876],\n",
       "         [0.63259876],\n",
       "         [0.51526027],\n",
       "         [0.51526027],\n",
       "         [0.82868249],\n",
       "         [0.82868249],\n",
       "         [0.16579399],\n",
       "         [0.16579399],\n",
       "         [0.35069018],\n",
       "         [0.35069018],\n",
       "         [0.79111334],\n",
       "         [0.79111334],\n",
       "         [0.4851225 ],\n",
       "         [0.4851225 ],\n",
       "         [0.34707226],\n",
       "         [0.34707226],\n",
       "         [0.28537215],\n",
       "         [0.28537215],\n",
       "         [0.36591048],\n",
       "         [0.36591048],\n",
       "         [0.28821334],\n",
       "         [0.28821334],\n",
       "         [0.96173449],\n",
       "         [0.96173449],\n",
       "         [0.04584545],\n",
       "         [0.04584545],\n",
       "         [0.79420762],\n",
       "         [0.79420762],\n",
       "         [0.02386865],\n",
       "         [0.02386865],\n",
       "         [0.91984216],\n",
       "         [0.91984216],\n",
       "         [0.01231809],\n",
       "         [0.01231809],\n",
       "         [0.88868225],\n",
       "         [0.88868225],\n",
       "         [0.17882512],\n",
       "         [0.17882512],\n",
       "         [0.78623548],\n",
       "         [0.78623548],\n",
       "         [0.48961351],\n",
       "         [0.48961351],\n",
       "         [0.87434035],\n",
       "         [0.87434035],\n",
       "         [0.14754373],\n",
       "         [0.14754373],\n",
       "         [0.54215323],\n",
       "         [0.54215323],\n",
       "         [0.19641307],\n",
       "         [0.19641307],\n",
       "         [0.62176084],\n",
       "         [0.62176084],\n",
       "         [0.58570706],\n",
       "         [0.58570706],\n",
       "         [0.78512926],\n",
       "         [0.78512926],\n",
       "         [0.69650087],\n",
       "         [0.69650087],\n",
       "         [0.45822845],\n",
       "         [0.45822845],\n",
       "         [0.85892285],\n",
       "         [0.85892285],\n",
       "         [0.27574831],\n",
       "         [0.27574831],\n",
       "         [0.75247674],\n",
       "         [0.75247674],\n",
       "         [0.93084117],\n",
       "         [0.93084117],\n",
       "         [0.81672091],\n",
       "         [0.81672091],\n",
       "         [0.50057623],\n",
       "         [0.50057623],\n",
       "         [0.7894242 ],\n",
       "         [0.7894242 ],\n",
       "         [0.29599154],\n",
       "         [0.29599154],\n",
       "         [0.19245739],\n",
       "         [0.19245739],\n",
       "         [0.03311328],\n",
       "         [0.03311328],\n",
       "         [0.33945628],\n",
       "         [0.33945628],\n",
       "         [0.94543491],\n",
       "         [0.94543491],\n",
       "         [0.89938117],\n",
       "         [0.89938117],\n",
       "         [0.21342266],\n",
       "         [0.21342266],\n",
       "         [0.89359251],\n",
       "         [0.89359251],\n",
       "         [0.64506269],\n",
       "         [0.64506269],\n",
       "         [0.53405398],\n",
       "         [0.53405398],\n",
       "         [0.88739057],\n",
       "         [0.88739057],\n",
       "         [0.49703152],\n",
       "         [0.49703152],\n",
       "         [0.96137963],\n",
       "         [0.96137963],\n",
       "         [0.83538353],\n",
       "         [0.83538353],\n",
       "         [0.11015631],\n",
       "         [0.11015631],\n",
       "         [0.12119484],\n",
       "         [0.12119484],\n",
       "         [0.53966841],\n",
       "         [0.53966841],\n",
       "         [0.47559363],\n",
       "         [0.47559363],\n",
       "         [0.87371064],\n",
       "         [0.87371064],\n",
       "         [0.93908214],\n",
       "         [0.93908214],\n",
       "         [0.57928749],\n",
       "         [0.57928749],\n",
       "         [0.30745535],\n",
       "         [0.30745535],\n",
       "         [0.51638188],\n",
       "         [0.51638188],\n",
       "         [0.37067804],\n",
       "         [0.37067804]])}}"
      ]
     },
     "execution_count": 1,
     "metadata": {},
     "output_type": "execute_result"
    }
   ],
   "source": [
    "ds = load_by_id(run_id_a)\n",
    "ds.get_parameter_data('x1')"
   ]
  },
  {
   "cell_type": "code",
   "execution_count": null,
   "metadata": {},
   "outputs": [],
   "source": []
  }
 ],
 "metadata": {
  "kernelspec": {
   "display_name": "Python 3",
   "language": "python",
   "name": "python3"
  },
  "language_info": {
   "codemirror_mode": {
    "name": "ipython",
    "version": 3
   },
   "file_extension": ".py",
   "mimetype": "text/x-python",
   "name": "python",
   "nbconvert_exporter": "python",
   "pygments_lexer": "ipython3",
   "version": "3.7.10"
  },
  "nbsphinx": {
   "timeout": 600
  },
  "toc": {
   "base_numbering": 1,
   "nav_menu": {},
   "number_sections": true,
   "sideBar": true,
   "skip_h1_title": false,
   "title_cell": "Table of Contents",
   "title_sidebar": "Contents",
   "toc_cell": false,
   "toc_position": {},
   "toc_section_display": true,
   "toc_window_display": false
  },
  "varInspector": {
   "cols": {
    "lenName": 16,
    "lenType": 16,
    "lenVar": 40
   },
   "kernels_config": {
    "python": {
     "delete_cmd_postfix": "",
     "delete_cmd_prefix": "del ",
     "library": "var_list.py",
     "varRefreshCmd": "print(var_dic_list())"
    },
    "r": {
     "delete_cmd_postfix": ") ",
     "delete_cmd_prefix": "rm(",
     "library": "var_list.r",
     "varRefreshCmd": "cat(var_dic_list()) "
    }
   },
   "types_to_exclude": [
    "module",
    "function",
    "builtin_function_or_method",
    "instance",
    "_Feature"
   ],
   "window_display": false
  }
 },
 "nbformat": 4,
 "nbformat_minor": 4
}
