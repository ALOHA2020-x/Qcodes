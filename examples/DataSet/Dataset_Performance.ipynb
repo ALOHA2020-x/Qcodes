{
 "cells": [
  {
   "cell_type": "markdown",
   "metadata": {},
   "source": [
    "# DataSet Performance\n",
    "\n",
    "This notebook shows the trade-off between inserting data into a database row-by-row and as binary blobs. Inserting the data row-by-row means that we have direct access to all the data and may perform queries directly on the values of the data. On the other hand, as we shall see, this is much slower than inserting the data directly as binary blobs."
   ]
  },
  {
   "cell_type": "markdown",
   "metadata": {},
   "source": [
    "First, we choose a new location for the database to ensure that we don't add a bunch of benchmarking data to the default one."
   ]
  },
  {
   "cell_type": "code",
   "execution_count": 1,
   "metadata": {
    "execution": {
     "iopub.execute_input": "2020-09-18T18:38:03.258765Z",
     "iopub.status.busy": "2020-09-18T18:38:03.258183Z",
     "iopub.status.idle": "2020-09-18T18:38:04.395762Z",
     "shell.execute_reply": "2020-09-18T18:38:04.394399Z"
    }
   },
   "outputs": [
    {
     "name": "stdout",
     "output_type": "stream",
     "text": [
      "Logging hadn't been started.\n",
      "Activating auto-logging. Current session state plus future input saved.\n",
      "Filename       : /home/vsts/.qcodes/logs/command_history.log\n",
      "Mode           : append\n",
      "Output logging : True\n",
      "Raw input log  : False\n",
      "Timestamping   : True\n",
      "State          : active\n"
     ]
    },
    {
     "name": "stdout",
     "output_type": "stream",
     "text": [
      "Qcodes Logfile : /home/vsts/.qcodes/logs/200918-18347-qcodes.log\n"
     ]
    }
   ],
   "source": [
    "import os\n",
    "cwd = os.getcwd()\n",
    "import qcodes as qc\n",
    "qc.config[\"core\"][\"db_location\"] = os.path.join(cwd, 'testing.db')\n"
   ]
  },
  {
   "cell_type": "code",
   "execution_count": 2,
   "metadata": {
    "execution": {
     "iopub.execute_input": "2020-09-18T18:38:04.403174Z",
     "iopub.status.busy": "2020-09-18T18:38:04.401905Z",
     "iopub.status.idle": "2020-09-18T18:38:04.616191Z",
     "shell.execute_reply": "2020-09-18T18:38:04.616721Z"
    }
   },
   "outputs": [],
   "source": [
    "%matplotlib inline\n",
    "import time\n",
    "import matplotlib.pyplot as plt\n",
    "import numpy as np\n",
    "\n",
    "import qcodes as qc\n",
    "from qcodes.instrument.parameter import ManualParameter\n",
    "from qcodes.dataset.experiment_container import (Experiment,\n",
    "                                                 load_last_experiment,\n",
    "                                                 new_experiment)\n",
    "from qcodes.dataset.sqlite.database import initialise_database\n",
    "from qcodes import load_or_create_experiment\n",
    "from qcodes.dataset.measurements import Measurement"
   ]
  },
  {
   "cell_type": "code",
   "execution_count": 3,
   "metadata": {
    "execution": {
     "iopub.execute_input": "2020-09-18T18:38:04.621197Z",
     "iopub.status.busy": "2020-09-18T18:38:04.620435Z",
     "iopub.status.idle": "2020-09-18T18:38:04.750431Z",
     "shell.execute_reply": "2020-09-18T18:38:04.750910Z"
    }
   },
   "outputs": [
    {
     "name": "stdout",
     "output_type": "stream",
     "text": [
      "\r",
      "0it [00:00, ?it/s]"
     ]
    },
    {
     "name": "stdout",
     "output_type": "stream",
     "text": [
      "\r",
      "Upgrading database; v0 -> v1: : 0it [00:00, ?it/s]"
     ]
    },
    {
     "name": "stdout",
     "output_type": "stream",
     "text": [
      "\r",
      "Upgrading database; v0 -> v1: : 0it [00:00, ?it/s]"
     ]
    },
    {
     "name": "stdout",
     "output_type": "stream",
     "text": [
      "\n",
      "\r",
      "  0%|          | 0/1 [00:00<?, ?it/s]"
     ]
    },
    {
     "name": "stdout",
     "output_type": "stream",
     "text": [
      "\r",
      "Upgrading database; v1 -> v2:   0%|          | 0/1 [00:00<?, ?it/s]"
     ]
    },
    {
     "name": "stdout",
     "output_type": "stream",
     "text": [
      "\r",
      "Upgrading database; v1 -> v2: 100%|██████████| 1/1 [00:00<00:00, 373.59it/s]"
     ]
    },
    {
     "name": "stdout",
     "output_type": "stream",
     "text": [
      "\n",
      "\r",
      "0it [00:00, ?it/s]"
     ]
    },
    {
     "name": "stdout",
     "output_type": "stream",
     "text": [
      "\r",
      "Upgrading database; v2 -> v3: : 0it [00:00, ?it/s]"
     ]
    },
    {
     "name": "stdout",
     "output_type": "stream",
     "text": [
      "\r",
      "Upgrading database; v2 -> v3: : 0it [00:00, ?it/s]"
     ]
    },
    {
     "name": "stdout",
     "output_type": "stream",
     "text": [
      "\n",
      "\r",
      "0it [00:00, ?it/s]"
     ]
    },
    {
     "name": "stdout",
     "output_type": "stream",
     "text": [
      "\r",
      "Upgrading database; v3 -> v4: : 0it [00:00, ?it/s]"
     ]
    },
    {
     "name": "stdout",
     "output_type": "stream",
     "text": [
      "\r",
      "Upgrading database; v3 -> v4: : 0it [00:00, ?it/s]"
     ]
    },
    {
     "name": "stdout",
     "output_type": "stream",
     "text": [
      "\n",
      "\r",
      "  0%|          | 0/1 [00:00<?, ?it/s]"
     ]
    },
    {
     "name": "stdout",
     "output_type": "stream",
     "text": [
      "\r",
      "Upgrading database; v4 -> v5:   0%|          | 0/1 [00:00<?, ?it/s]"
     ]
    },
    {
     "name": "stdout",
     "output_type": "stream",
     "text": [
      "\r",
      "Upgrading database; v4 -> v5: 100%|██████████| 1/1 [00:00<00:00, 345.44it/s]"
     ]
    },
    {
     "name": "stdout",
     "output_type": "stream",
     "text": [
      "\n",
      "\r",
      "0it [00:00, ?it/s]"
     ]
    },
    {
     "name": "stdout",
     "output_type": "stream",
     "text": [
      "\r",
      "Upgrading database; v5 -> v6: : 0it [00:00, ?it/s]"
     ]
    },
    {
     "name": "stdout",
     "output_type": "stream",
     "text": [
      "\r",
      "Upgrading database; v5 -> v6: : 0it [00:00, ?it/s]"
     ]
    },
    {
     "name": "stdout",
     "output_type": "stream",
     "text": [
      "\n",
      "\r",
      "  0%|          | 0/1 [00:00<?, ?it/s]"
     ]
    },
    {
     "name": "stdout",
     "output_type": "stream",
     "text": [
      "\r",
      "Upgrading database; v6 -> v7:   0%|          | 0/1 [00:00<?, ?it/s]"
     ]
    },
    {
     "name": "stdout",
     "output_type": "stream",
     "text": [
      "\r",
      "Upgrading database; v6 -> v7: 100%|██████████| 1/1 [00:00<00:00, 366.25it/s]"
     ]
    },
    {
     "name": "stdout",
     "output_type": "stream",
     "text": [
      "\n",
      "\r",
      "  0%|          | 0/1 [00:00<?, ?it/s]"
     ]
    },
    {
     "name": "stdout",
     "output_type": "stream",
     "text": [
      "\r",
      "Upgrading database; v7 -> v8:   0%|          | 0/1 [00:00<?, ?it/s]"
     ]
    },
    {
     "name": "stdout",
     "output_type": "stream",
     "text": [
      "\r",
      "Upgrading database; v7 -> v8: 100%|██████████| 1/1 [00:00<00:00, 359.47it/s]"
     ]
    },
    {
     "name": "stdout",
     "output_type": "stream",
     "text": [
      "\n",
      "\r",
      "  0%|          | 0/1 [00:00<?, ?it/s]"
     ]
    },
    {
     "name": "stdout",
     "output_type": "stream",
     "text": [
      "\r",
      "Upgrading database; v8 -> v9:   0%|          | 0/1 [00:00<?, ?it/s]"
     ]
    },
    {
     "name": "stdout",
     "output_type": "stream",
     "text": [
      "\r",
      "Upgrading database; v8 -> v9: 100%|██████████| 1/1 [00:00<00:00, 381.93it/s]"
     ]
    },
    {
     "name": "stdout",
     "output_type": "stream",
     "text": [
      "\n"
     ]
    }
   ],
   "source": [
    "initialise_database()\n",
    "exp = load_or_create_experiment(experiment_name='tutorial_exp', sample_name=\"no sample\")"
   ]
  },
  {
   "cell_type": "markdown",
   "metadata": {},
   "source": [
    "Here, we define a simple function to benchmark the time it takes to insert n points with either numeric or array data type.\n",
    "We will compare both the time used to call ``add_result`` and the time used for the full measurement."
   ]
  },
  {
   "cell_type": "code",
   "execution_count": 4,
   "metadata": {
    "execution": {
     "iopub.execute_input": "2020-09-18T18:38:04.758869Z",
     "iopub.status.busy": "2020-09-18T18:38:04.758278Z",
     "iopub.status.idle": "2020-09-18T18:38:04.761662Z",
     "shell.execute_reply": "2020-09-18T18:38:04.762242Z"
    }
   },
   "outputs": [],
   "source": [
    "def insert_data(paramtype, npoints, nreps=1):\n",
    "\n",
    "    meas = Measurement(exp=exp)\n",
    "\n",
    "    x1 = ManualParameter('x1')\n",
    "    x2 = ManualParameter('x2')\n",
    "    x3 = ManualParameter('x3')\n",
    "    y1 = ManualParameter('y1')\n",
    "    y2 = ManualParameter('y2')\n",
    "\n",
    "    meas.register_parameter(x1, paramtype=paramtype)\n",
    "    meas.register_parameter(x2, paramtype=paramtype)\n",
    "    meas.register_parameter(x3, paramtype=paramtype)\n",
    "    meas.register_parameter(y1, setpoints=[x1, x2, x3],\n",
    "                            paramtype=paramtype)\n",
    "    meas.register_parameter(y2, setpoints=[x1, x2, x3],\n",
    "                            paramtype=paramtype)\n",
    "    start = time.perf_counter()\n",
    "    with meas.run() as datasaver:\n",
    "        start_adding = time.perf_counter()\n",
    "        for i in range(nreps):\n",
    "            datasaver.add_result((x1, np.random.rand(npoints)),\n",
    "                                 (x2, np.random.rand(npoints)),\n",
    "                                 (x3, np.random.rand(npoints)),\n",
    "                                 (y1, np.random.rand(npoints)),\n",
    "                                 (y2, np.random.rand(npoints)))\n",
    "        stop_adding = time.perf_counter()\n",
    "        run_id = datasaver.run_id\n",
    "    stop = time.perf_counter()\n",
    "    tot_time = stop - start\n",
    "    add_time = stop_adding - start_adding\n",
    "    return tot_time, add_time, run_id"
   ]
  },
  {
   "cell_type": "markdown",
   "metadata": {},
   "source": [
    "## Comparison between numeric/array data and binary blob"
   ]
  },
  {
   "cell_type": "markdown",
   "metadata": {},
   "source": [
    "### Case1: Short experiment time"
   ]
  },
  {
   "cell_type": "code",
   "execution_count": 5,
   "metadata": {
    "execution": {
     "iopub.execute_input": "2020-09-18T18:38:04.768710Z",
     "iopub.status.busy": "2020-09-18T18:38:04.768120Z",
     "iopub.status.idle": "2020-09-18T18:38:05.647012Z",
     "shell.execute_reply": "2020-09-18T18:38:05.647514Z"
    }
   },
   "outputs": [
    {
     "name": "stdout",
     "output_type": "stream",
     "text": [
      "Starting experimental run with id: 1. \n",
      "Starting experimental run with id: 2. \n",
      "Starting experimental run with id: 3. \n",
      "Starting experimental run with id: 4. \n"
     ]
    },
    {
     "name": "stdout",
     "output_type": "stream",
     "text": [
      "Starting experimental run with id: 5. \n"
     ]
    },
    {
     "name": "stdout",
     "output_type": "stream",
     "text": [
      "Starting experimental run with id: 6. \n"
     ]
    },
    {
     "name": "stdout",
     "output_type": "stream",
     "text": [
      "Starting experimental run with id: 7. \n"
     ]
    },
    {
     "name": "stdout",
     "output_type": "stream",
     "text": [
      "Starting experimental run with id: 8. \n",
      "Starting experimental run with id: 9. \n"
     ]
    },
    {
     "name": "stdout",
     "output_type": "stream",
     "text": [
      "Starting experimental run with id: 10. \n",
      "Starting experimental run with id: 11. \n"
     ]
    },
    {
     "name": "stdout",
     "output_type": "stream",
     "text": [
      "Starting experimental run with id: 12. \n",
      "Starting experimental run with id: 13. \n"
     ]
    },
    {
     "name": "stdout",
     "output_type": "stream",
     "text": [
      "Starting experimental run with id: 14. \n"
     ]
    }
   ],
   "source": [
    "sizes = [1,500,1000,2000,3000,4000,5000]\n",
    "t_numeric = []\n",
    "t_numeric_add = []\n",
    "t_array = []\n",
    "t_array_add = []\n",
    "for size in sizes:\n",
    "    tn, tna, run_id_n =  insert_data('numeric', size)\n",
    "    t_numeric.append(tn)\n",
    "    t_numeric_add.append(tna)\n",
    "\n",
    "    ta, taa, run_id_a =  insert_data('array', size)\n",
    "    t_array.append(ta)\n",
    "    t_array_add.append(taa)"
   ]
  },
  {
   "cell_type": "code",
   "execution_count": 6,
   "metadata": {
    "execution": {
     "iopub.execute_input": "2020-09-18T18:38:05.668991Z",
     "iopub.status.busy": "2020-09-18T18:38:05.668363Z",
     "iopub.status.idle": "2020-09-18T18:38:05.927851Z",
     "shell.execute_reply": "2020-09-18T18:38:05.927085Z"
    }
   },
   "outputs": [
    {
     "data": {
      "image/png": "[encoded data removed]",
      "text/plain": [
       "<Figure size 432x288 with 1 Axes>"
      ]
     },
     "metadata": {
      "needs_background": "light"
     },
     "output_type": "display_data"
    }
   ],
   "source": [
    "fig, ax = plt.subplots(1,1)\n",
    "ax.plot(sizes, t_numeric, 'o-', label='Inserting row-by-row')\n",
    "ax.plot(sizes, t_numeric_add, 'o-', label='Inserting row-by-row: add_result only')\n",
    "ax.plot(sizes, t_array, 'd-', label='Inserting as binary blob')\n",
    "ax.plot(sizes, t_array_add, 'd-', label='Inserting as binary blob: add_result only')\n",
    "ax.legend()\n",
    "ax.set_xlabel('Array length')\n",
    "ax.set_ylabel('Time (s)')\n",
    "fig.tight_layout()"
   ]
  },
  {
   "cell_type": "markdown",
   "metadata": {},
   "source": [
    "As shown in the latter figure, the time to setup and and close the experiment is approximately 0.4 sec. In case of small array sizes, the difference between inserting values of data as arrays and inserting them row-by-row is relatively unimportant. At larger array sizes, i.e. above 10000 points, the cost of writing data as individual datapoints starts to become important.\n"
   ]
  },
  {
   "cell_type": "markdown",
   "metadata": {},
   "source": [
    "### Case2: Long experiment time "
   ]
  },
  {
   "cell_type": "code",
   "execution_count": 7,
   "metadata": {
    "execution": {
     "iopub.execute_input": "2020-09-18T18:38:05.935851Z",
     "iopub.status.busy": "2020-09-18T18:38:05.934736Z",
     "iopub.status.idle": "2020-09-18T18:39:06.890639Z",
     "shell.execute_reply": "2020-09-18T18:39:06.891325Z"
    }
   },
   "outputs": [
    {
     "name": "stdout",
     "output_type": "stream",
     "text": [
      "Starting experimental run with id: 15. \n",
      "Starting experimental run with id: 16. \n"
     ]
    },
    {
     "name": "stdout",
     "output_type": "stream",
     "text": [
      "Starting experimental run with id: 17. \n"
     ]
    },
    {
     "name": "stdout",
     "output_type": "stream",
     "text": [
      "Starting experimental run with id: 18. \n",
      "Starting experimental run with id: 19. \n"
     ]
    },
    {
     "name": "stdout",
     "output_type": "stream",
     "text": [
      "Starting experimental run with id: 20. \n"
     ]
    },
    {
     "name": "stdout",
     "output_type": "stream",
     "text": [
      "Starting experimental run with id: 21. \n"
     ]
    },
    {
     "name": "stdout",
     "output_type": "stream",
     "text": [
      "Starting experimental run with id: 22. \n"
     ]
    },
    {
     "name": "stdout",
     "output_type": "stream",
     "text": [
      "Starting experimental run with id: 23. \n"
     ]
    },
    {
     "name": "stdout",
     "output_type": "stream",
     "text": [
      "Starting experimental run with id: 24. \n"
     ]
    },
    {
     "name": "stdout",
     "output_type": "stream",
     "text": [
      "Starting experimental run with id: 25. \n"
     ]
    },
    {
     "name": "stdout",
     "output_type": "stream",
     "text": [
      "Starting experimental run with id: 26. \n"
     ]
    },
    {
     "name": "stdout",
     "output_type": "stream",
     "text": [
      "Starting experimental run with id: 27. \n"
     ]
    },
    {
     "name": "stdout",
     "output_type": "stream",
     "text": [
      "Starting experimental run with id: 28. \n"
     ]
    }
   ],
   "source": [
    "sizes = [1,500,1000,2000,3000,4000,5000]\n",
    "nreps = 100\n",
    "t_numeric = []\n",
    "t_numeric_add = []\n",
    "t_numeric_run_ids = []\n",
    "t_array = []\n",
    "t_array_add = []\n",
    "t_array_run_ids = []\n",
    "for size in sizes:\n",
    "    tn, tna, run_id_n =  insert_data('numeric', size, nreps=nreps)\n",
    "    t_numeric.append(tn)\n",
    "    t_numeric_add.append(tna)\n",
    "    t_numeric_run_ids.append(run_id_n)\n",
    "\n",
    "    ta, taa, run_id_a =  insert_data('array', size, nreps=nreps)\n",
    "    t_array.append(ta)\n",
    "    t_array_add.append(taa)\n",
    "    t_array_run_ids.append(run_id_a)"
   ]
  },
  {
   "cell_type": "code",
   "execution_count": 8,
   "metadata": {
    "execution": {
     "iopub.execute_input": "2020-09-18T18:39:06.913557Z",
     "iopub.status.busy": "2020-09-18T18:39:06.911308Z",
     "iopub.status.idle": "2020-09-18T18:39:07.118557Z",
     "shell.execute_reply": "2020-09-18T18:39:07.117989Z"
    },
    "scrolled": true
   },
   "outputs": [
    {
     "data": {
      "image/png": "[encoded data removed]",
      "text/plain": [
       "<Figure size 432x288 with 1 Axes>"
      ]
     },
     "metadata": {
      "needs_background": "light"
     },
     "output_type": "display_data"
    }
   ],
   "source": [
    "fig, ax = plt.subplots(1,1)\n",
    "ax.plot(sizes, t_numeric, 'o-', label='Inserting row-by-row')\n",
    "ax.plot(sizes, t_numeric_add, 'o-', label='Inserting row-by-row: add_result only')\n",
    "ax.plot(sizes, t_array, 'd-', label='Inserting as binary blob')\n",
    "ax.plot(sizes, t_array_add, 'd-', label='Inserting as binary blob: add_result only')\n",
    "ax.legend()\n",
    "ax.set_xlabel('Array length')\n",
    "ax.set_ylabel('Time (s)')\n",
    "fig.tight_layout()"
   ]
  },
  {
   "cell_type": "markdown",
   "metadata": {},
   "source": [
    "However, as we increase the length of the experiment, as seen here by repeating the insertion 100 times, we see a big difference between inserting values of the data row-by-row and inserting it as a binary blob."
   ]
  },
  {
   "cell_type": "markdown",
   "metadata": {},
   "source": [
    "## Loading the data "
   ]
  },
  {
   "cell_type": "code",
   "execution_count": 9,
   "metadata": {
    "execution": {
     "iopub.execute_input": "2020-09-18T18:39:07.123015Z",
     "iopub.status.busy": "2020-09-18T18:39:07.122075Z",
     "iopub.status.idle": "2020-09-18T18:39:07.126535Z",
     "shell.execute_reply": "2020-09-18T18:39:07.125955Z"
    }
   },
   "outputs": [],
   "source": [
    "from qcodes.dataset.data_set import load_by_id\n",
    "from qcodes.dataset.data_export import get_data_by_id"
   ]
  },
  {
   "cell_type": "markdown",
   "metadata": {},
   "source": [
    "As usual you can load the data by using the ``load_by_id`` function but you will notice that the different storage methods\n",
    "are reflected in shape of the data as it is retrieved. "
   ]
  },
  {
   "cell_type": "code",
   "execution_count": 10,
   "metadata": {
    "execution": {
     "iopub.execute_input": "2020-09-18T18:39:07.131176Z",
     "iopub.status.busy": "2020-09-18T18:39:07.129842Z",
     "iopub.status.idle": "2020-09-18T18:39:07.131766Z",
     "shell.execute_reply": "2020-09-18T18:39:07.132392Z"
    }
   },
   "outputs": [],
   "source": [
    "run_id_n = t_numeric_run_ids[0]\n",
    "run_id_a = t_array_run_ids[0]"
   ]
  },
  {
   "cell_type": "code",
   "execution_count": 11,
   "metadata": {
    "execution": {
     "iopub.execute_input": "2020-09-18T18:39:07.135977Z",
     "iopub.status.busy": "2020-09-18T18:39:07.135407Z",
     "iopub.status.idle": "2020-09-18T18:39:07.144976Z",
     "shell.execute_reply": "2020-09-18T18:39:07.144510Z"
    },
    "scrolled": true
   },
   "outputs": [
    {
     "data": {
      "text/plain": [
       "{'x1': {'x1': array([0.57829098, 0.57829098, 0.53527468, 0.53527468, 0.2578312 ,\n",
       "         0.2578312 , 0.83329074, 0.83329074, 0.74054248, 0.74054248,\n",
       "         0.13915229, 0.13915229, 0.77944298, 0.77944298, 0.23977854,\n",
       "         0.23977854, 0.15414372, 0.15414372, 0.73588473, 0.73588473,\n",
       "         0.26184497, 0.26184497, 0.20885449, 0.20885449, 0.8065654 ,\n",
       "         0.8065654 , 0.56378283, 0.56378283, 0.66632231, 0.66632231,\n",
       "         0.96511449, 0.96511449, 0.96718443, 0.96718443, 0.60496397,\n",
       "         0.60496397, 0.51920442, 0.51920442, 0.90206346, 0.90206346,\n",
       "         0.14335207, 0.14335207, 0.31763278, 0.31763278, 0.97767188,\n",
       "         0.97767188, 0.35711865, 0.35711865, 0.58419567, 0.58419567,\n",
       "         0.18859988, 0.18859988, 0.9878628 , 0.9878628 , 0.9373536 ,\n",
       "         0.9373536 , 0.64488847, 0.64488847, 0.80483336, 0.80483336,\n",
       "         0.18540107, 0.18540107, 0.13342929, 0.13342929, 0.73915252,\n",
       "         0.73915252, 0.37624339, 0.37624339, 0.27929966, 0.27929966,\n",
       "         0.65053593, 0.65053593, 0.35591799, 0.35591799, 0.30601411,\n",
       "         0.30601411, 0.28849679, 0.28849679, 0.32847457, 0.32847457,\n",
       "         0.95600406, 0.95600406, 0.74280562, 0.74280562, 0.47316433,\n",
       "         0.47316433, 0.51688914, 0.51688914, 0.97690828, 0.97690828,\n",
       "         0.40091485, 0.40091485, 0.71091231, 0.71091231, 0.23708323,\n",
       "         0.23708323, 0.26305375, 0.26305375, 0.73012554, 0.73012554,\n",
       "         0.79169961, 0.79169961, 0.36185609, 0.36185609, 0.28961516,\n",
       "         0.28961516, 0.02841199, 0.02841199, 0.43829166, 0.43829166,\n",
       "         0.99116684, 0.99116684, 0.37792499, 0.37792499, 0.04027784,\n",
       "         0.04027784, 0.20084359, 0.20084359, 0.25865137, 0.25865137,\n",
       "         0.30518663, 0.30518663, 0.04149035, 0.04149035, 0.18826274,\n",
       "         0.18826274, 0.46008091, 0.46008091, 0.61989319, 0.61989319,\n",
       "         0.26297629, 0.26297629, 0.09884488, 0.09884488, 0.25192052,\n",
       "         0.25192052, 0.07465246, 0.07465246, 0.225163  , 0.225163  ,\n",
       "         0.2948969 , 0.2948969 , 0.74432194, 0.74432194, 0.60718516,\n",
       "         0.60718516, 0.8062629 , 0.8062629 , 0.95536026, 0.95536026,\n",
       "         0.47731235, 0.47731235, 0.99037955, 0.99037955, 0.6721998 ,\n",
       "         0.6721998 , 0.31431428, 0.31431428, 0.08178416, 0.08178416,\n",
       "         0.18440184, 0.18440184, 0.82510216, 0.82510216, 0.40754318,\n",
       "         0.40754318, 0.93443713, 0.93443713, 0.38381251, 0.38381251,\n",
       "         0.8484713 , 0.8484713 , 0.83723376, 0.83723376, 0.31288219,\n",
       "         0.31288219, 0.38412467, 0.38412467, 0.01678909, 0.01678909,\n",
       "         0.15352211, 0.15352211, 0.93617632, 0.93617632, 0.36727822,\n",
       "         0.36727822, 0.83858498, 0.83858498, 0.33855516, 0.33855516,\n",
       "         0.6075325 , 0.6075325 , 0.27637658, 0.27637658, 0.7261985 ,\n",
       "         0.7261985 , 0.06807909, 0.06807909, 0.47380526, 0.47380526])}}"
      ]
     },
     "execution_count": 1,
     "metadata": {},
     "output_type": "execute_result"
    }
   ],
   "source": [
    "ds = load_by_id(run_id_n)\n",
    "ds.get_parameter_data('x1')"
   ]
  },
  {
   "cell_type": "markdown",
   "metadata": {},
   "source": [
    "And a dataset stored as binary arrays"
   ]
  },
  {
   "cell_type": "code",
   "execution_count": 12,
   "metadata": {
    "execution": {
     "iopub.execute_input": "2020-09-18T18:39:07.148420Z",
     "iopub.status.busy": "2020-09-18T18:39:07.147872Z",
     "iopub.status.idle": "2020-09-18T18:39:07.211791Z",
     "shell.execute_reply": "2020-09-18T18:39:07.212473Z"
    },
    "scrolled": true
   },
   "outputs": [
    {
     "data": {
      "text/plain": [
       "{'x1': {'x1': array([[0.91783607],\n",
       "         [0.91783607],\n",
       "         [0.14654895],\n",
       "         [0.14654895],\n",
       "         [0.21870123],\n",
       "         [0.21870123],\n",
       "         [0.44996008],\n",
       "         [0.44996008],\n",
       "         [0.49270557],\n",
       "         [0.49270557],\n",
       "         [0.97149811],\n",
       "         [0.97149811],\n",
       "         [0.10900755],\n",
       "         [0.10900755],\n",
       "         [0.63338577],\n",
       "         [0.63338577],\n",
       "         [0.73004298],\n",
       "         [0.73004298],\n",
       "         [0.58473004],\n",
       "         [0.58473004],\n",
       "         [0.36479491],\n",
       "         [0.36479491],\n",
       "         [0.15770208],\n",
       "         [0.15770208],\n",
       "         [0.66794844],\n",
       "         [0.66794844],\n",
       "         [0.48867292],\n",
       "         [0.48867292],\n",
       "         [0.7521221 ],\n",
       "         [0.7521221 ],\n",
       "         [0.35102537],\n",
       "         [0.35102537],\n",
       "         [0.59983747],\n",
       "         [0.59983747],\n",
       "         [0.58764411],\n",
       "         [0.58764411],\n",
       "         [0.05531715],\n",
       "         [0.05531715],\n",
       "         [0.54879977],\n",
       "         [0.54879977],\n",
       "         [0.66856711],\n",
       "         [0.66856711],\n",
       "         [0.69685925],\n",
       "         [0.69685925],\n",
       "         [0.74699072],\n",
       "         [0.74699072],\n",
       "         [0.52472283],\n",
       "         [0.52472283],\n",
       "         [0.95328708],\n",
       "         [0.95328708],\n",
       "         [0.31169278],\n",
       "         [0.31169278],\n",
       "         [0.24838628],\n",
       "         [0.24838628],\n",
       "         [0.17185422],\n",
       "         [0.17185422],\n",
       "         [0.72073268],\n",
       "         [0.72073268],\n",
       "         [0.22677344],\n",
       "         [0.22677344],\n",
       "         [0.29686813],\n",
       "         [0.29686813],\n",
       "         [0.663935  ],\n",
       "         [0.663935  ],\n",
       "         [0.28739191],\n",
       "         [0.28739191],\n",
       "         [0.97279358],\n",
       "         [0.97279358],\n",
       "         [0.83785599],\n",
       "         [0.83785599],\n",
       "         [0.88762282],\n",
       "         [0.88762282],\n",
       "         [0.15199634],\n",
       "         [0.15199634],\n",
       "         [0.11137444],\n",
       "         [0.11137444],\n",
       "         [0.09494232],\n",
       "         [0.09494232],\n",
       "         [0.85422882],\n",
       "         [0.85422882],\n",
       "         [0.59109257],\n",
       "         [0.59109257],\n",
       "         [0.19773727],\n",
       "         [0.19773727],\n",
       "         [0.66950486],\n",
       "         [0.66950486],\n",
       "         [0.54993412],\n",
       "         [0.54993412],\n",
       "         [0.49056026],\n",
       "         [0.49056026],\n",
       "         [0.91426303],\n",
       "         [0.91426303],\n",
       "         [0.3888741 ],\n",
       "         [0.3888741 ],\n",
       "         [0.88478788],\n",
       "         [0.88478788],\n",
       "         [0.94942712],\n",
       "         [0.94942712],\n",
       "         [0.44795104],\n",
       "         [0.44795104],\n",
       "         [0.27956679],\n",
       "         [0.27956679],\n",
       "         [0.14395305],\n",
       "         [0.14395305],\n",
       "         [0.5326473 ],\n",
       "         [0.5326473 ],\n",
       "         [0.91385462],\n",
       "         [0.91385462],\n",
       "         [0.77821367],\n",
       "         [0.77821367],\n",
       "         [0.24433026],\n",
       "         [0.24433026],\n",
       "         [0.65317792],\n",
       "         [0.65317792],\n",
       "         [0.53104216],\n",
       "         [0.53104216],\n",
       "         [0.68404058],\n",
       "         [0.68404058],\n",
       "         [0.33088355],\n",
       "         [0.33088355],\n",
       "         [0.10845326],\n",
       "         [0.10845326],\n",
       "         [0.72541546],\n",
       "         [0.72541546],\n",
       "         [0.546706  ],\n",
       "         [0.546706  ],\n",
       "         [0.37477652],\n",
       "         [0.37477652],\n",
       "         [0.36883589],\n",
       "         [0.36883589],\n",
       "         [0.57396798],\n",
       "         [0.57396798],\n",
       "         [0.16971639],\n",
       "         [0.16971639],\n",
       "         [0.29966621],\n",
       "         [0.29966621],\n",
       "         [0.89042204],\n",
       "         [0.89042204],\n",
       "         [0.506163  ],\n",
       "         [0.506163  ],\n",
       "         [0.86631998],\n",
       "         [0.86631998],\n",
       "         [0.76320915],\n",
       "         [0.76320915],\n",
       "         [0.25091767],\n",
       "         [0.25091767],\n",
       "         [0.38146514],\n",
       "         [0.38146514],\n",
       "         [0.14815824],\n",
       "         [0.14815824],\n",
       "         [0.39135907],\n",
       "         [0.39135907],\n",
       "         [0.00979107],\n",
       "         [0.00979107],\n",
       "         [0.87807507],\n",
       "         [0.87807507],\n",
       "         [0.5288115 ],\n",
       "         [0.5288115 ],\n",
       "         [0.33336468],\n",
       "         [0.33336468],\n",
       "         [0.17688528],\n",
       "         [0.17688528],\n",
       "         [0.01658636],\n",
       "         [0.01658636],\n",
       "         [0.461947  ],\n",
       "         [0.461947  ],\n",
       "         [0.25701197],\n",
       "         [0.25701197],\n",
       "         [0.97065581],\n",
       "         [0.97065581],\n",
       "         [0.51147636],\n",
       "         [0.51147636],\n",
       "         [0.9322144 ],\n",
       "         [0.9322144 ],\n",
       "         [0.99409767],\n",
       "         [0.99409767],\n",
       "         [0.99129872],\n",
       "         [0.99129872],\n",
       "         [0.4950093 ],\n",
       "         [0.4950093 ],\n",
       "         [0.63428349],\n",
       "         [0.63428349],\n",
       "         [0.14438831],\n",
       "         [0.14438831],\n",
       "         [0.3467726 ],\n",
       "         [0.3467726 ],\n",
       "         [0.58414612],\n",
       "         [0.58414612],\n",
       "         [0.51380045],\n",
       "         [0.51380045],\n",
       "         [0.06737237],\n",
       "         [0.06737237],\n",
       "         [0.08207668],\n",
       "         [0.08207668],\n",
       "         [0.06422615],\n",
       "         [0.06422615],\n",
       "         [0.04936223],\n",
       "         [0.04936223],\n",
       "         [0.6072987 ],\n",
       "         [0.6072987 ]])}}"
      ]
     },
     "execution_count": 1,
     "metadata": {},
     "output_type": "execute_result"
    }
   ],
   "source": [
    "ds = load_by_id(run_id_a)\n",
    "ds.get_parameter_data('x1')"
   ]
  },
  {
   "cell_type": "code",
   "execution_count": null,
   "metadata": {},
   "outputs": [],
   "source": []
  }
 ],
 "metadata": {
  "kernelspec": {
   "display_name": "Python 3",
   "language": "python",
   "name": "python3"
  },
  "language_info": {
   "codemirror_mode": {
    "name": "ipython",
    "version": 3
   },
   "file_extension": ".py",
   "mimetype": "text/x-python",
   "name": "python",
   "nbconvert_exporter": "python",
   "pygments_lexer": "ipython3",
   "version": "3.7.7"
  },
  "nbsphinx": {
   "timeout": 600
  },
  "toc": {
   "base_numbering": 1,
   "nav_menu": {},
   "number_sections": true,
   "sideBar": true,
   "skip_h1_title": false,
   "title_cell": "Table of Contents",
   "title_sidebar": "Contents",
   "toc_cell": false,
   "toc_position": {},
   "toc_section_display": true,
   "toc_window_display": false
  },
  "varInspector": {
   "cols": {
    "lenName": 16,
    "lenType": 16,
    "lenVar": 40
   },
   "kernels_config": {
    "python": {
     "delete_cmd_postfix": "",
     "delete_cmd_prefix": "del ",
     "library": "var_list.py",
     "varRefreshCmd": "print(var_dic_list())"
    },
    "r": {
     "delete_cmd_postfix": ") ",
     "delete_cmd_prefix": "rm(",
     "library": "var_list.r",
     "varRefreshCmd": "cat(var_dic_list()) "
    }
   },
   "types_to_exclude": [
    "module",
    "function",
    "builtin_function_or_method",
    "instance",
    "_Feature"
   ],
   "window_display": false
  }
 },
 "nbformat": 4,
 "nbformat_minor": 2
}
