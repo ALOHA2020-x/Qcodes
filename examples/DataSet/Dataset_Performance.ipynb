{
 "cells": [
  {
   "cell_type": "markdown",
   "metadata": {},
   "source": [
    "# DataSet Performance\n",
    "\n",
    "This notebook shows the trade-off between inserting data into a database row-by-row and as binary blobs. Inserting the data row-by-row means that we have direct access to all the data and may perform queries directly on the values of the data. On the other hand, as we shall see, this is much slower than inserting the data directly as binary blobs."
   ]
  },
  {
   "cell_type": "markdown",
   "metadata": {},
   "source": [
    "First, we choose a new location for the database to ensure that we don't add a bunch of benchmarking data to the default one."
   ]
  },
  {
   "cell_type": "code",
   "execution_count": 1,
   "metadata": {},
   "outputs": [
    {
     "name": "stdout",
     "output_type": "stream",
     "text": [
      "Logging hadn't been started.\n",
      "Activating auto-logging. Current session state plus future input saved.\n",
      "Filename       : /home/vsts/.qcodes/logs/command_history.log\n",
      "Mode           : append\n",
      "Output logging : True\n",
      "Raw input log  : False\n",
      "Timestamping   : True\n",
      "State          : active\n"
     ]
    },
    {
     "name": "stdout",
     "output_type": "stream",
     "text": [
      "Qcodes Logfile : /home/vsts/.qcodes/logs/200704-19503-qcodes.log\n"
     ]
    }
   ],
   "source": [
    "import os\n",
    "cwd = os.getcwd()\n",
    "import qcodes as qc\n",
    "qc.config[\"core\"][\"db_location\"] = os.path.join(cwd, 'testing.db')\n"
   ]
  },
  {
   "cell_type": "code",
   "execution_count": 2,
   "metadata": {},
   "outputs": [],
   "source": [
    "%matplotlib inline\n",
    "import time\n",
    "import matplotlib.pyplot as plt\n",
    "import numpy as np\n",
    "\n",
    "import qcodes as qc\n",
    "from qcodes.instrument.parameter import ManualParameter\n",
    "from qcodes.dataset.experiment_container import (Experiment,\n",
    "                                                 load_last_experiment,\n",
    "                                                 new_experiment)\n",
    "from qcodes.dataset.sqlite.database import initialise_database\n",
    "from qcodes import load_or_create_experiment\n",
    "from qcodes.dataset.measurements import Measurement"
   ]
  },
  {
   "cell_type": "code",
   "execution_count": 3,
   "metadata": {},
   "outputs": [
    {
     "name": "stdout",
     "output_type": "stream",
     "text": [
      "\r",
      "0it [00:00, ?it/s]"
     ]
    },
    {
     "name": "stdout",
     "output_type": "stream",
     "text": [
      "\r",
      "Upgrading database; v0 -> v1: : 0it [00:00, ?it/s]"
     ]
    },
    {
     "name": "stdout",
     "output_type": "stream",
     "text": [
      "\r",
      "Upgrading database; v0 -> v1: : 0it [00:00, ?it/s]"
     ]
    },
    {
     "name": "stdout",
     "output_type": "stream",
     "text": [
      "\n",
      "\r",
      "  0%|          | 0/1 [00:00<?, ?it/s]"
     ]
    },
    {
     "name": "stdout",
     "output_type": "stream",
     "text": [
      "\r",
      "Upgrading database; v1 -> v2:   0%|          | 0/1 [00:00<?, ?it/s]"
     ]
    },
    {
     "name": "stdout",
     "output_type": "stream",
     "text": [
      "\r",
      "Upgrading database; v1 -> v2: 100%|██████████| 1/1 [00:00<00:00, 925.08it/s]"
     ]
    },
    {
     "name": "stdout",
     "output_type": "stream",
     "text": [
      "\n",
      "\r",
      "0it [00:00, ?it/s]"
     ]
    },
    {
     "name": "stdout",
     "output_type": "stream",
     "text": [
      "\r",
      "Upgrading database; v2 -> v3: : 0it [00:00, ?it/s]"
     ]
    },
    {
     "name": "stdout",
     "output_type": "stream",
     "text": [
      "\r",
      "Upgrading database; v2 -> v3: : 0it [00:00, ?it/s]"
     ]
    },
    {
     "name": "stdout",
     "output_type": "stream",
     "text": [
      "\n",
      "\r",
      "0it [00:00, ?it/s]"
     ]
    },
    {
     "name": "stdout",
     "output_type": "stream",
     "text": [
      "\r",
      "Upgrading database; v3 -> v4: : 0it [00:00, ?it/s]"
     ]
    },
    {
     "name": "stdout",
     "output_type": "stream",
     "text": [
      "\r",
      "Upgrading database; v3 -> v4: : 0it [00:00, ?it/s]"
     ]
    },
    {
     "name": "stdout",
     "output_type": "stream",
     "text": [
      "\n",
      "\r",
      "  0%|          | 0/1 [00:00<?, ?it/s]"
     ]
    },
    {
     "name": "stdout",
     "output_type": "stream",
     "text": [
      "\r",
      "Upgrading database; v4 -> v5:   0%|          | 0/1 [00:00<?, ?it/s]"
     ]
    },
    {
     "name": "stdout",
     "output_type": "stream",
     "text": [
      "\r",
      "Upgrading database; v4 -> v5: 100%|██████████| 1/1 [00:00<00:00, 835.02it/s]"
     ]
    },
    {
     "name": "stdout",
     "output_type": "stream",
     "text": [
      "\n",
      "\r",
      "0it [00:00, ?it/s]"
     ]
    },
    {
     "name": "stdout",
     "output_type": "stream",
     "text": [
      "\r",
      "Upgrading database; v5 -> v6: : 0it [00:00, ?it/s]"
     ]
    },
    {
     "name": "stdout",
     "output_type": "stream",
     "text": [
      "\r",
      "Upgrading database; v5 -> v6: : 0it [00:00, ?it/s]"
     ]
    },
    {
     "name": "stdout",
     "output_type": "stream",
     "text": [
      "\n",
      "\r",
      "  0%|          | 0/1 [00:00<?, ?it/s]"
     ]
    },
    {
     "name": "stdout",
     "output_type": "stream",
     "text": [
      "\r",
      "Upgrading database; v6 -> v7:   0%|          | 0/1 [00:00<?, ?it/s]"
     ]
    },
    {
     "name": "stdout",
     "output_type": "stream",
     "text": [
      "\r",
      "Upgrading database; v6 -> v7: 100%|██████████| 1/1 [00:00<00:00, 490.85it/s]"
     ]
    },
    {
     "name": "stdout",
     "output_type": "stream",
     "text": [
      "\n",
      "\r",
      "  0%|          | 0/1 [00:00<?, ?it/s]"
     ]
    },
    {
     "name": "stdout",
     "output_type": "stream",
     "text": [
      "\r",
      "Upgrading database; v7 -> v8:   0%|          | 0/1 [00:00<?, ?it/s]"
     ]
    },
    {
     "name": "stdout",
     "output_type": "stream",
     "text": [
      "\r",
      "Upgrading database; v7 -> v8: 100%|██████████| 1/1 [00:00<00:00, 735.84it/s]"
     ]
    },
    {
     "name": "stdout",
     "output_type": "stream",
     "text": [
      "\n",
      "\r",
      "  0%|          | 0/1 [00:00<?, ?it/s]"
     ]
    },
    {
     "name": "stdout",
     "output_type": "stream",
     "text": [
      "\r",
      "Upgrading database; v8 -> v9:   0%|          | 0/1 [00:00<?, ?it/s]"
     ]
    },
    {
     "name": "stdout",
     "output_type": "stream",
     "text": [
      "\r",
      "Upgrading database; v8 -> v9: 100%|██████████| 1/1 [00:00<00:00, 868.93it/s]"
     ]
    },
    {
     "name": "stdout",
     "output_type": "stream",
     "text": [
      "\n"
     ]
    }
   ],
   "source": [
    "initialise_database()\n",
    "exp = load_or_create_experiment(experiment_name='tutorial_exp', sample_name=\"no sample\")"
   ]
  },
  {
   "cell_type": "markdown",
   "metadata": {},
   "source": [
    "Here, we define a simple function to benchmark the time it takes to insert n points with either numeric or array data type.\n",
    "We will compare both the time used to call ``add_result`` and the time used for the full measurement."
   ]
  },
  {
   "cell_type": "code",
   "execution_count": 4,
   "metadata": {},
   "outputs": [],
   "source": [
    "def insert_data(paramtype, npoints, nreps=1):\n",
    "\n",
    "    meas = Measurement(exp=exp)\n",
    "\n",
    "    x1 = ManualParameter('x1')\n",
    "    x2 = ManualParameter('x2')\n",
    "    x3 = ManualParameter('x3')\n",
    "    y1 = ManualParameter('y1')\n",
    "    y2 = ManualParameter('y2')\n",
    "\n",
    "    meas.register_parameter(x1, paramtype=paramtype)\n",
    "    meas.register_parameter(x2, paramtype=paramtype)\n",
    "    meas.register_parameter(x3, paramtype=paramtype)\n",
    "    meas.register_parameter(y1, setpoints=[x1, x2, x3],\n",
    "                            paramtype=paramtype)\n",
    "    meas.register_parameter(y2, setpoints=[x1, x2, x3],\n",
    "                            paramtype=paramtype)\n",
    "    start = time.perf_counter()\n",
    "    with meas.run() as datasaver:\n",
    "        start_adding = time.perf_counter()\n",
    "        for i in range(nreps):\n",
    "            datasaver.add_result((x1, np.random.rand(npoints)),\n",
    "                                 (x2, np.random.rand(npoints)),\n",
    "                                 (x3, np.random.rand(npoints)),\n",
    "                                 (y1, np.random.rand(npoints)),\n",
    "                                 (y2, np.random.rand(npoints)))\n",
    "        stop_adding = time.perf_counter()\n",
    "        run_id = datasaver.run_id\n",
    "    stop = time.perf_counter()\n",
    "    tot_time = stop - start\n",
    "    add_time = stop_adding - start_adding\n",
    "    return tot_time, add_time, run_id"
   ]
  },
  {
   "cell_type": "markdown",
   "metadata": {},
   "source": [
    "## Comparison between numeric/array data and binary blob"
   ]
  },
  {
   "cell_type": "markdown",
   "metadata": {},
   "source": [
    "### Case1: Short experiment time"
   ]
  },
  {
   "cell_type": "code",
   "execution_count": 5,
   "metadata": {},
   "outputs": [
    {
     "name": "stdout",
     "output_type": "stream",
     "text": [
      "Starting experimental run with id: 1. \n",
      "Starting experimental run with id: 2. \n",
      "Starting experimental run with id: 3. \n",
      "Starting experimental run with id: 4. \n"
     ]
    },
    {
     "name": "stdout",
     "output_type": "stream",
     "text": [
      "Starting experimental run with id: 5. \n"
     ]
    },
    {
     "name": "stdout",
     "output_type": "stream",
     "text": [
      "Starting experimental run with id: 6. \n",
      "Starting experimental run with id: 7. \n"
     ]
    },
    {
     "name": "stdout",
     "output_type": "stream",
     "text": [
      "Starting experimental run with id: 8. \n",
      "Starting experimental run with id: 9. \n"
     ]
    },
    {
     "name": "stdout",
     "output_type": "stream",
     "text": [
      "Starting experimental run with id: 10. \n",
      "Starting experimental run with id: 11. \n"
     ]
    },
    {
     "name": "stdout",
     "output_type": "stream",
     "text": [
      "Starting experimental run with id: 12. \n",
      "Starting experimental run with id: 13. \n"
     ]
    },
    {
     "name": "stdout",
     "output_type": "stream",
     "text": [
      "Starting experimental run with id: 14. \n"
     ]
    }
   ],
   "source": [
    "sizes = [1,500,1000,2000,3000,4000,5000]\n",
    "t_numeric = []\n",
    "t_numeric_add = []\n",
    "t_array = []\n",
    "t_array_add = []\n",
    "for size in sizes:\n",
    "    tn, tna, run_id_n =  insert_data('numeric', size)\n",
    "    t_numeric.append(tn)\n",
    "    t_numeric_add.append(tna)\n",
    "\n",
    "    ta, taa, run_id_a =  insert_data('array', size)\n",
    "    t_array.append(ta)\n",
    "    t_array_add.append(taa)"
   ]
  },
  {
   "cell_type": "code",
   "execution_count": 6,
   "metadata": {},
   "outputs": [
    {
     "data": {
      "image/png": "[encoded data removed]",
      "text/plain": [
       "<Figure size 432x288 with 1 Axes>"
      ]
     },
     "metadata": {
      "needs_background": "light"
     },
     "output_type": "display_data"
    }
   ],
   "source": [
    "fig, ax = plt.subplots(1,1)\n",
    "ax.plot(sizes, t_numeric, 'o-', label='Inserting row-by-row')\n",
    "ax.plot(sizes, t_numeric_add, 'o-', label='Inserting row-by-row: add_result only')\n",
    "ax.plot(sizes, t_array, 'd-', label='Inserting as binary blob')\n",
    "ax.plot(sizes, t_array_add, 'd-', label='Inserting as binary blob: add_result only')\n",
    "ax.legend()\n",
    "ax.set_xlabel('Array length')\n",
    "ax.set_ylabel('Time (s)')\n",
    "fig.tight_layout()"
   ]
  },
  {
   "cell_type": "markdown",
   "metadata": {},
   "source": [
    "As shown in the latter figure, the time to setup and and close the experiment is approximately 0.4 sec. In case of small array sizes, the difference between inserting values of data as arrays and inserting them row-by-row is relatively unimportant. At larger array sizes, i.e. above 10000 points, the cost of writing data as individual datapoints starts to become important.\n"
   ]
  },
  {
   "cell_type": "markdown",
   "metadata": {},
   "source": [
    "### Case2: Long experiment time "
   ]
  },
  {
   "cell_type": "code",
   "execution_count": 7,
   "metadata": {},
   "outputs": [
    {
     "name": "stdout",
     "output_type": "stream",
     "text": [
      "Starting experimental run with id: 15. \n",
      "Starting experimental run with id: 16. \n",
      "Starting experimental run with id: 17. \n"
     ]
    },
    {
     "name": "stdout",
     "output_type": "stream",
     "text": [
      "Starting experimental run with id: 18. \n",
      "Starting experimental run with id: 19. \n"
     ]
    },
    {
     "name": "stdout",
     "output_type": "stream",
     "text": [
      "Starting experimental run with id: 20. \n"
     ]
    },
    {
     "name": "stdout",
     "output_type": "stream",
     "text": [
      "Starting experimental run with id: 21. \n"
     ]
    },
    {
     "name": "stdout",
     "output_type": "stream",
     "text": [
      "Starting experimental run with id: 22. \n"
     ]
    },
    {
     "name": "stdout",
     "output_type": "stream",
     "text": [
      "Starting experimental run with id: 23. \n"
     ]
    },
    {
     "name": "stdout",
     "output_type": "stream",
     "text": [
      "Starting experimental run with id: 24. \n"
     ]
    },
    {
     "name": "stdout",
     "output_type": "stream",
     "text": [
      "Starting experimental run with id: 25. \n"
     ]
    },
    {
     "name": "stdout",
     "output_type": "stream",
     "text": [
      "Starting experimental run with id: 26. \n"
     ]
    },
    {
     "name": "stdout",
     "output_type": "stream",
     "text": [
      "Starting experimental run with id: 27. \n"
     ]
    },
    {
     "name": "stdout",
     "output_type": "stream",
     "text": [
      "Starting experimental run with id: 28. \n"
     ]
    }
   ],
   "source": [
    "sizes = [1,500,1000,2000,3000,4000,5000]\n",
    "nreps = 100\n",
    "t_numeric = []\n",
    "t_numeric_add = []\n",
    "t_numeric_run_ids = []\n",
    "t_array = []\n",
    "t_array_add = []\n",
    "t_array_run_ids = []\n",
    "for size in sizes:\n",
    "    tn, tna, run_id_n =  insert_data('numeric', size, nreps=nreps)\n",
    "    t_numeric.append(tn)\n",
    "    t_numeric_add.append(tna)\n",
    "    t_numeric_run_ids.append(run_id_n)\n",
    "\n",
    "    ta, taa, run_id_a =  insert_data('array', size, nreps=nreps)\n",
    "    t_array.append(ta)\n",
    "    t_array_add.append(taa)\n",
    "    t_array_run_ids.append(run_id_a)"
   ]
  },
  {
   "cell_type": "code",
   "execution_count": 8,
   "metadata": {
    "scrolled": true
   },
   "outputs": [
    {
     "data": {
      "image/png": "[encoded data removed]",
      "text/plain": [
       "<Figure size 432x288 with 1 Axes>"
      ]
     },
     "metadata": {
      "needs_background": "light"
     },
     "output_type": "display_data"
    }
   ],
   "source": [
    "fig, ax = plt.subplots(1,1)\n",
    "ax.plot(sizes, t_numeric, 'o-', label='Inserting row-by-row')\n",
    "ax.plot(sizes, t_numeric_add, 'o-', label='Inserting row-by-row: add_result only')\n",
    "ax.plot(sizes, t_array, 'd-', label='Inserting as binary blob')\n",
    "ax.plot(sizes, t_array_add, 'd-', label='Inserting as binary blob: add_result only')\n",
    "ax.legend()\n",
    "ax.set_xlabel('Array length')\n",
    "ax.set_ylabel('Time (s)')\n",
    "fig.tight_layout()"
   ]
  },
  {
   "cell_type": "markdown",
   "metadata": {},
   "source": [
    "However, as we increase the length of the experiment, as seen here by repeating the insertion 100 times, we see a big difference between inserting values of the data row-by-row and inserting it as a binary blob."
   ]
  },
  {
   "cell_type": "markdown",
   "metadata": {},
   "source": [
    "## Loading the data "
   ]
  },
  {
   "cell_type": "code",
   "execution_count": 9,
   "metadata": {},
   "outputs": [],
   "source": [
    "from qcodes.dataset.data_set import load_by_id\n",
    "from qcodes.dataset.data_export import get_data_by_id"
   ]
  },
  {
   "cell_type": "markdown",
   "metadata": {},
   "source": [
    "As usual you can load the data by using the ``load_by_id`` function but you will notice that the different storage methods\n",
    "are reflected in shape of the data as it is retrieved. "
   ]
  },
  {
   "cell_type": "code",
   "execution_count": 10,
   "metadata": {},
   "outputs": [],
   "source": [
    "run_id_n = t_numeric_run_ids[0]\n",
    "run_id_a = t_array_run_ids[0]"
   ]
  },
  {
   "cell_type": "code",
   "execution_count": 11,
   "metadata": {
    "scrolled": true
   },
   "outputs": [
    {
     "data": {
      "text/plain": [
       "{'x1': {'x1': array([0.61794454, 0.61794454, 0.8424455 , 0.8424455 , 0.67171867,\n",
       "         0.67171867, 0.59797665, 0.59797665, 0.55304404, 0.55304404,\n",
       "         0.59309808, 0.59309808, 0.85622615, 0.85622615, 0.92060534,\n",
       "         0.92060534, 0.97637913, 0.97637913, 0.77923452, 0.77923452,\n",
       "         0.19665061, 0.19665061, 0.73848706, 0.73848706, 0.90033567,\n",
       "         0.90033567, 0.60583169, 0.60583169, 0.08915227, 0.08915227,\n",
       "         0.83588094, 0.83588094, 0.38867325, 0.38867325, 0.73010336,\n",
       "         0.73010336, 0.01989619, 0.01989619, 0.41659425, 0.41659425,\n",
       "         0.45231194, 0.45231194, 0.64898919, 0.64898919, 0.69364742,\n",
       "         0.69364742, 0.18237033, 0.18237033, 0.65607812, 0.65607812,\n",
       "         0.42813413, 0.42813413, 0.84087629, 0.84087629, 0.42874647,\n",
       "         0.42874647, 0.51303358, 0.51303358, 0.70567583, 0.70567583,\n",
       "         0.46528682, 0.46528682, 0.75483363, 0.75483363, 0.10532215,\n",
       "         0.10532215, 0.30669875, 0.30669875, 0.11230899, 0.11230899,\n",
       "         0.5967093 , 0.5967093 , 0.48979334, 0.48979334, 0.62671085,\n",
       "         0.62671085, 0.32867289, 0.32867289, 0.74833553, 0.74833553,\n",
       "         0.69159042, 0.69159042, 0.53337294, 0.53337294, 0.06796899,\n",
       "         0.06796899, 0.89809022, 0.89809022, 0.12659935, 0.12659935,\n",
       "         0.40944746, 0.40944746, 0.2949456 , 0.2949456 , 0.5016973 ,\n",
       "         0.5016973 , 0.63525082, 0.63525082, 0.01613944, 0.01613944,\n",
       "         0.89776644, 0.89776644, 0.47725148, 0.47725148, 0.02972143,\n",
       "         0.02972143, 0.20096261, 0.20096261, 0.18297592, 0.18297592,\n",
       "         0.4875603 , 0.4875603 , 0.21963063, 0.21963063, 0.02068574,\n",
       "         0.02068574, 0.47033163, 0.47033163, 0.51153431, 0.51153431,\n",
       "         0.24173585, 0.24173585, 0.26497602, 0.26497602, 0.93175618,\n",
       "         0.93175618, 0.25009082, 0.25009082, 0.86486108, 0.86486108,\n",
       "         0.00965093, 0.00965093, 0.25777393, 0.25777393, 0.89361642,\n",
       "         0.89361642, 0.69168541, 0.69168541, 0.5305386 , 0.5305386 ,\n",
       "         0.23969363, 0.23969363, 0.76025431, 0.76025431, 0.45113233,\n",
       "         0.45113233, 0.9007649 , 0.9007649 , 0.25873142, 0.25873142,\n",
       "         0.83497995, 0.83497995, 0.35593402, 0.35593402, 0.50816295,\n",
       "         0.50816295, 0.13241648, 0.13241648, 0.41434136, 0.41434136,\n",
       "         0.64398944, 0.64398944, 0.7563772 , 0.7563772 , 0.50225276,\n",
       "         0.50225276, 0.23458263, 0.23458263, 0.90126983, 0.90126983,\n",
       "         0.05219601, 0.05219601, 0.35406867, 0.35406867, 0.91488606,\n",
       "         0.91488606, 0.49336621, 0.49336621, 0.46438954, 0.46438954,\n",
       "         0.41451657, 0.41451657, 0.54361585, 0.54361585, 0.47596618,\n",
       "         0.47596618, 0.66013529, 0.66013529, 0.08052516, 0.08052516,\n",
       "         0.03922652, 0.03922652, 0.92759142, 0.92759142, 0.16139242,\n",
       "         0.16139242, 0.36149795, 0.36149795, 0.50182652, 0.50182652])}}"
      ]
     },
     "execution_count": 11,
     "metadata": {},
     "output_type": "execute_result"
    }
   ],
   "source": [
    "ds = load_by_id(run_id_n)\n",
    "ds.get_parameter_data('x1')"
   ]
  },
  {
   "cell_type": "markdown",
   "metadata": {},
   "source": [
    "And a dataset stored as binary arrays"
   ]
  },
  {
   "cell_type": "code",
   "execution_count": 12,
   "metadata": {
    "scrolled": true
   },
   "outputs": [
    {
     "data": {
      "text/plain": [
       "{'x1': {'x1': array([[0.44977434],\n",
       "         [0.44977434],\n",
       "         [0.11979661],\n",
       "         [0.11979661],\n",
       "         [0.90252611],\n",
       "         [0.90252611],\n",
       "         [0.22278753],\n",
       "         [0.22278753],\n",
       "         [0.88267744],\n",
       "         [0.88267744],\n",
       "         [0.89497941],\n",
       "         [0.89497941],\n",
       "         [0.44895063],\n",
       "         [0.44895063],\n",
       "         [0.54472358],\n",
       "         [0.54472358],\n",
       "         [0.08290613],\n",
       "         [0.08290613],\n",
       "         [0.76832183],\n",
       "         [0.76832183],\n",
       "         [0.72023236],\n",
       "         [0.72023236],\n",
       "         [0.23209184],\n",
       "         [0.23209184],\n",
       "         [0.89752539],\n",
       "         [0.89752539],\n",
       "         [0.5445406 ],\n",
       "         [0.5445406 ],\n",
       "         [0.42586882],\n",
       "         [0.42586882],\n",
       "         [0.37541361],\n",
       "         [0.37541361],\n",
       "         [0.82717045],\n",
       "         [0.82717045],\n",
       "         [0.26004817],\n",
       "         [0.26004817],\n",
       "         [0.95752831],\n",
       "         [0.95752831],\n",
       "         [0.13610683],\n",
       "         [0.13610683],\n",
       "         [0.1372145 ],\n",
       "         [0.1372145 ],\n",
       "         [0.56895547],\n",
       "         [0.56895547],\n",
       "         [0.48532227],\n",
       "         [0.48532227],\n",
       "         [0.95193633],\n",
       "         [0.95193633],\n",
       "         [0.6553768 ],\n",
       "         [0.6553768 ],\n",
       "         [0.28505468],\n",
       "         [0.28505468],\n",
       "         [0.742994  ],\n",
       "         [0.742994  ],\n",
       "         [0.4478625 ],\n",
       "         [0.4478625 ],\n",
       "         [0.42402171],\n",
       "         [0.42402171],\n",
       "         [0.29272778],\n",
       "         [0.29272778],\n",
       "         [0.7922806 ],\n",
       "         [0.7922806 ],\n",
       "         [0.55067703],\n",
       "         [0.55067703],\n",
       "         [0.27408286],\n",
       "         [0.27408286],\n",
       "         [0.87748785],\n",
       "         [0.87748785],\n",
       "         [0.31334555],\n",
       "         [0.31334555],\n",
       "         [0.15383965],\n",
       "         [0.15383965],\n",
       "         [0.56929129],\n",
       "         [0.56929129],\n",
       "         [0.29943849],\n",
       "         [0.29943849],\n",
       "         [0.3832014 ],\n",
       "         [0.3832014 ],\n",
       "         [0.47650856],\n",
       "         [0.47650856],\n",
       "         [0.36494224],\n",
       "         [0.36494224],\n",
       "         [0.73041684],\n",
       "         [0.73041684],\n",
       "         [0.18551292],\n",
       "         [0.18551292],\n",
       "         [0.50089326],\n",
       "         [0.50089326],\n",
       "         [0.14808916],\n",
       "         [0.14808916],\n",
       "         [0.14374825],\n",
       "         [0.14374825],\n",
       "         [0.59791231],\n",
       "         [0.59791231],\n",
       "         [0.59886364],\n",
       "         [0.59886364],\n",
       "         [0.1378685 ],\n",
       "         [0.1378685 ],\n",
       "         [0.93654835],\n",
       "         [0.93654835],\n",
       "         [0.89270755],\n",
       "         [0.89270755],\n",
       "         [0.79758871],\n",
       "         [0.79758871],\n",
       "         [0.04755131],\n",
       "         [0.04755131],\n",
       "         [0.22823933],\n",
       "         [0.22823933],\n",
       "         [0.72720294],\n",
       "         [0.72720294],\n",
       "         [0.03424373],\n",
       "         [0.03424373],\n",
       "         [0.6715742 ],\n",
       "         [0.6715742 ],\n",
       "         [0.82934941],\n",
       "         [0.82934941],\n",
       "         [0.14794356],\n",
       "         [0.14794356],\n",
       "         [0.55281479],\n",
       "         [0.55281479],\n",
       "         [0.8496596 ],\n",
       "         [0.8496596 ],\n",
       "         [0.05328895],\n",
       "         [0.05328895],\n",
       "         [0.7021493 ],\n",
       "         [0.7021493 ],\n",
       "         [0.3100791 ],\n",
       "         [0.3100791 ],\n",
       "         [0.28588466],\n",
       "         [0.28588466],\n",
       "         [0.71225981],\n",
       "         [0.71225981],\n",
       "         [0.5901079 ],\n",
       "         [0.5901079 ],\n",
       "         [0.5896499 ],\n",
       "         [0.5896499 ],\n",
       "         [0.1858071 ],\n",
       "         [0.1858071 ],\n",
       "         [0.82411623],\n",
       "         [0.82411623],\n",
       "         [0.70202739],\n",
       "         [0.70202739],\n",
       "         [0.44010562],\n",
       "         [0.44010562],\n",
       "         [0.11785877],\n",
       "         [0.11785877],\n",
       "         [0.46158064],\n",
       "         [0.46158064],\n",
       "         [0.26982116],\n",
       "         [0.26982116],\n",
       "         [0.95299718],\n",
       "         [0.95299718],\n",
       "         [0.67119809],\n",
       "         [0.67119809],\n",
       "         [0.06272597],\n",
       "         [0.06272597],\n",
       "         [0.04440931],\n",
       "         [0.04440931],\n",
       "         [0.33128608],\n",
       "         [0.33128608],\n",
       "         [0.17700498],\n",
       "         [0.17700498],\n",
       "         [0.73607485],\n",
       "         [0.73607485],\n",
       "         [0.33173992],\n",
       "         [0.33173992],\n",
       "         [0.48971794],\n",
       "         [0.48971794],\n",
       "         [0.38719011],\n",
       "         [0.38719011],\n",
       "         [0.50078746],\n",
       "         [0.50078746],\n",
       "         [0.66401862],\n",
       "         [0.66401862],\n",
       "         [0.83709951],\n",
       "         [0.83709951],\n",
       "         [0.89355266],\n",
       "         [0.89355266],\n",
       "         [0.43822868],\n",
       "         [0.43822868],\n",
       "         [0.21559483],\n",
       "         [0.21559483],\n",
       "         [0.16494363],\n",
       "         [0.16494363],\n",
       "         [0.70374778],\n",
       "         [0.70374778],\n",
       "         [0.23098565],\n",
       "         [0.23098565],\n",
       "         [0.11076998],\n",
       "         [0.11076998],\n",
       "         [0.47486483],\n",
       "         [0.47486483],\n",
       "         [0.505678  ],\n",
       "         [0.505678  ],\n",
       "         [0.86451918],\n",
       "         [0.86451918],\n",
       "         [0.94485716],\n",
       "         [0.94485716],\n",
       "         [0.75877389],\n",
       "         [0.75877389]])}}"
      ]
     },
     "execution_count": 12,
     "metadata": {},
     "output_type": "execute_result"
    }
   ],
   "source": [
    "ds = load_by_id(run_id_a)\n",
    "ds.get_parameter_data('x1')"
   ]
  },
  {
   "cell_type": "code",
   "execution_count": null,
   "metadata": {},
   "outputs": [],
   "source": []
  }
 ],
 "metadata": {
  "kernelspec": {
   "display_name": "Python 3",
   "language": "python",
   "name": "python3"
  },
  "language_info": {
   "codemirror_mode": {
    "name": "ipython",
    "version": 3
   },
   "file_extension": ".py",
   "mimetype": "text/x-python",
   "name": "python",
   "nbconvert_exporter": "python",
   "pygments_lexer": "ipython3",
   "version": "3.7.7"
  },
  "nbsphinx": {
   "timeout": 600
  },
  "toc": {
   "base_numbering": 1,
   "nav_menu": {},
   "number_sections": true,
   "sideBar": true,
   "skip_h1_title": false,
   "title_cell": "Table of Contents",
   "title_sidebar": "Contents",
   "toc_cell": false,
   "toc_position": {},
   "toc_section_display": true,
   "toc_window_display": false
  },
  "varInspector": {
   "cols": {
    "lenName": 16,
    "lenType": 16,
    "lenVar": 40
   },
   "kernels_config": {
    "python": {
     "delete_cmd_postfix": "",
     "delete_cmd_prefix": "del ",
     "library": "var_list.py",
     "varRefreshCmd": "print(var_dic_list())"
    },
    "r": {
     "delete_cmd_postfix": ") ",
     "delete_cmd_prefix": "rm(",
     "library": "var_list.r",
     "varRefreshCmd": "cat(var_dic_list()) "
    }
   },
   "types_to_exclude": [
    "module",
    "function",
    "builtin_function_or_method",
    "instance",
    "_Feature"
   ],
   "window_display": false
  }
 },
 "nbformat": 4,
 "nbformat_minor": 2
}
