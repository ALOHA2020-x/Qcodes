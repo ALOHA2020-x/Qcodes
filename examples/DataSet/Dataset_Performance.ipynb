{
 "cells": [
  {
   "cell_type": "markdown",
   "metadata": {},
   "source": [
    "# DataSet Performance\n",
    "\n",
    "This notebook shows the trade-off between inserting data into a database row-by-row and as binary blobs. Inserting the data row-by-row means that we have direct access to all the data and may perform queries directly on the values of the data. On the other hand, as we shall see, this is much slower than inserting the data directly as binary blobs."
   ]
  },
  {
   "cell_type": "markdown",
   "metadata": {},
   "source": [
    "First, we choose a new location for the database to ensure that we don't add a bunch of benchmarking data to the default one."
   ]
  },
  {
   "cell_type": "code",
   "execution_count": 1,
   "metadata": {
    "execution": {
     "iopub.execute_input": "2021-01-25T11:04:14.395756Z",
     "iopub.status.busy": "2021-01-25T11:04:14.393813Z",
     "iopub.status.idle": "2021-01-25T11:04:15.459056Z",
     "shell.execute_reply": "2021-01-25T11:04:15.458460Z"
    }
   },
   "outputs": [
    {
     "name": "stdout",
     "output_type": "stream",
     "text": [
      "Logging hadn't been started.\n",
      "Activating auto-logging. Current session state plus future input saved.\n",
      "Filename       : /home/vsts/.qcodes/logs/command_history.log\n",
      "Mode           : append\n",
      "Output logging : True\n",
      "Raw input log  : False\n",
      "Timestamping   : True\n",
      "State          : active\n"
     ]
    },
    {
     "name": "stdout",
     "output_type": "stream",
     "text": [
      "Qcodes Logfile : /home/vsts/.qcodes/logs/210125-13685-qcodes.log\n"
     ]
    }
   ],
   "source": [
    "import os\n",
    "cwd = os.getcwd()\n",
    "import qcodes as qc\n",
    "qc.config[\"core\"][\"db_location\"] = os.path.join(cwd, 'testing.db')\n"
   ]
  },
  {
   "cell_type": "code",
   "execution_count": 2,
   "metadata": {
    "execution": {
     "iopub.execute_input": "2021-01-25T11:04:15.465523Z",
     "iopub.status.busy": "2021-01-25T11:04:15.464572Z",
     "iopub.status.idle": "2021-01-25T11:04:15.649961Z",
     "shell.execute_reply": "2021-01-25T11:04:15.648975Z"
    }
   },
   "outputs": [],
   "source": [
    "%matplotlib inline\n",
    "import time\n",
    "import matplotlib.pyplot as plt\n",
    "import numpy as np\n",
    "\n",
    "import qcodes as qc\n",
    "from qcodes.instrument.parameter import ManualParameter\n",
    "from qcodes.dataset.experiment_container import (Experiment,\n",
    "                                                 load_last_experiment,\n",
    "                                                 new_experiment)\n",
    "from qcodes.dataset.sqlite.database import initialise_database\n",
    "from qcodes import load_or_create_experiment\n",
    "from qcodes.dataset.measurements import Measurement"
   ]
  },
  {
   "cell_type": "code",
   "execution_count": 3,
   "metadata": {
    "execution": {
     "iopub.execute_input": "2021-01-25T11:04:15.653635Z",
     "iopub.status.busy": "2021-01-25T11:04:15.653108Z",
     "iopub.status.idle": "2021-01-25T11:04:15.788068Z",
     "shell.execute_reply": "2021-01-25T11:04:15.787491Z"
    }
   },
   "outputs": [
    {
     "name": "stdout",
     "output_type": "stream",
     "text": [
      "\r",
      "0it [00:00, ?it/s]"
     ]
    },
    {
     "name": "stdout",
     "output_type": "stream",
     "text": [
      "\r",
      "Upgrading database; v0 -> v1: : 0it [00:00, ?it/s]"
     ]
    },
    {
     "name": "stdout",
     "output_type": "stream",
     "text": [
      "\r",
      "Upgrading database; v0 -> v1: : 0it [00:00, ?it/s]"
     ]
    },
    {
     "name": "stdout",
     "output_type": "stream",
     "text": [
      "\n",
      "\r",
      "  0%|          | 0/1 [00:00<?, ?it/s]"
     ]
    },
    {
     "name": "stdout",
     "output_type": "stream",
     "text": [
      "\r",
      "Upgrading database; v1 -> v2:   0%|          | 0/1 [00:00<?, ?it/s]"
     ]
    },
    {
     "name": "stdout",
     "output_type": "stream",
     "text": [
      "\r",
      "Upgrading database; v1 -> v2: 100%|██████████| 1/1 [00:00<00:00, 542.60it/s]"
     ]
    },
    {
     "name": "stdout",
     "output_type": "stream",
     "text": [
      "\n",
      "\r",
      "0it [00:00, ?it/s]"
     ]
    },
    {
     "name": "stdout",
     "output_type": "stream",
     "text": [
      "\r",
      "Upgrading database; v2 -> v3: : 0it [00:00, ?it/s]"
     ]
    },
    {
     "name": "stdout",
     "output_type": "stream",
     "text": [
      "\r",
      "Upgrading database; v2 -> v3: : 0it [00:00, ?it/s]"
     ]
    },
    {
     "name": "stdout",
     "output_type": "stream",
     "text": [
      "\n",
      "\r",
      "0it [00:00, ?it/s]"
     ]
    },
    {
     "name": "stdout",
     "output_type": "stream",
     "text": [
      "\r",
      "Upgrading database; v3 -> v4: : 0it [00:00, ?it/s]"
     ]
    },
    {
     "name": "stdout",
     "output_type": "stream",
     "text": [
      "\r",
      "Upgrading database; v3 -> v4: : 0it [00:00, ?it/s]"
     ]
    },
    {
     "name": "stdout",
     "output_type": "stream",
     "text": [
      "\n",
      "\r",
      "  0%|          | 0/1 [00:00<?, ?it/s]"
     ]
    },
    {
     "name": "stdout",
     "output_type": "stream",
     "text": [
      "\r",
      "Upgrading database; v4 -> v5:   0%|          | 0/1 [00:00<?, ?it/s]"
     ]
    },
    {
     "name": "stdout",
     "output_type": "stream",
     "text": [
      "\r",
      "Upgrading database; v4 -> v5: 100%|██████████| 1/1 [00:00<00:00, 1003.18it/s]"
     ]
    },
    {
     "name": "stdout",
     "output_type": "stream",
     "text": [
      "\n",
      "\r",
      "0it [00:00, ?it/s]"
     ]
    },
    {
     "name": "stdout",
     "output_type": "stream",
     "text": [
      "\r",
      "Upgrading database; v5 -> v6: : 0it [00:00, ?it/s]"
     ]
    },
    {
     "name": "stdout",
     "output_type": "stream",
     "text": [
      "\r",
      "Upgrading database; v5 -> v6: : 0it [00:00, ?it/s]"
     ]
    },
    {
     "name": "stdout",
     "output_type": "stream",
     "text": [
      "\n",
      "\r",
      "  0%|          | 0/1 [00:00<?, ?it/s]"
     ]
    },
    {
     "name": "stdout",
     "output_type": "stream",
     "text": [
      "\r",
      "Upgrading database; v6 -> v7:   0%|          | 0/1 [00:00<?, ?it/s]"
     ]
    },
    {
     "name": "stdout",
     "output_type": "stream",
     "text": [
      "\r",
      "Upgrading database; v6 -> v7: 100%|██████████| 1/1 [00:00<00:00, 263.05it/s]"
     ]
    },
    {
     "name": "stdout",
     "output_type": "stream",
     "text": [
      "\n",
      "\r",
      "  0%|          | 0/1 [00:00<?, ?it/s]"
     ]
    },
    {
     "name": "stdout",
     "output_type": "stream",
     "text": [
      "\r",
      "Upgrading database; v7 -> v8:   0%|          | 0/1 [00:00<?, ?it/s]"
     ]
    },
    {
     "name": "stdout",
     "output_type": "stream",
     "text": [
      "\r",
      "Upgrading database; v7 -> v8: 100%|██████████| 1/1 [00:00<00:00, 456.50it/s]"
     ]
    },
    {
     "name": "stdout",
     "output_type": "stream",
     "text": [
      "\n",
      "\r",
      "  0%|          | 0/1 [00:00<?, ?it/s]"
     ]
    },
    {
     "name": "stdout",
     "output_type": "stream",
     "text": [
      "\r",
      "Upgrading database; v8 -> v9:   0%|          | 0/1 [00:00<?, ?it/s]"
     ]
    },
    {
     "name": "stdout",
     "output_type": "stream",
     "text": [
      "\r",
      "Upgrading database; v8 -> v9: 100%|██████████| 1/1 [00:00<00:00, 457.00it/s]"
     ]
    },
    {
     "name": "stdout",
     "output_type": "stream",
     "text": [
      "\n"
     ]
    }
   ],
   "source": [
    "initialise_database()\n",
    "exp = load_or_create_experiment(experiment_name='tutorial_exp', sample_name=\"no sample\")"
   ]
  },
  {
   "cell_type": "markdown",
   "metadata": {},
   "source": [
    "Here, we define a simple function to benchmark the time it takes to insert n points with either numeric or array data type.\n",
    "We will compare both the time used to call ``add_result`` and the time used for the full measurement."
   ]
  },
  {
   "cell_type": "code",
   "execution_count": 4,
   "metadata": {
    "execution": {
     "iopub.execute_input": "2021-01-25T11:04:15.796577Z",
     "iopub.status.busy": "2021-01-25T11:04:15.796076Z",
     "iopub.status.idle": "2021-01-25T11:04:15.799564Z",
     "shell.execute_reply": "2021-01-25T11:04:15.799006Z"
    }
   },
   "outputs": [],
   "source": [
    "def insert_data(paramtype, npoints, nreps=1):\n",
    "\n",
    "    meas = Measurement(exp=exp)\n",
    "\n",
    "    x1 = ManualParameter('x1')\n",
    "    x2 = ManualParameter('x2')\n",
    "    x3 = ManualParameter('x3')\n",
    "    y1 = ManualParameter('y1')\n",
    "    y2 = ManualParameter('y2')\n",
    "\n",
    "    meas.register_parameter(x1, paramtype=paramtype)\n",
    "    meas.register_parameter(x2, paramtype=paramtype)\n",
    "    meas.register_parameter(x3, paramtype=paramtype)\n",
    "    meas.register_parameter(y1, setpoints=[x1, x2, x3],\n",
    "                            paramtype=paramtype)\n",
    "    meas.register_parameter(y2, setpoints=[x1, x2, x3],\n",
    "                            paramtype=paramtype)\n",
    "    start = time.perf_counter()\n",
    "    with meas.run() as datasaver:\n",
    "        start_adding = time.perf_counter()\n",
    "        for i in range(nreps):\n",
    "            datasaver.add_result((x1, np.random.rand(npoints)),\n",
    "                                 (x2, np.random.rand(npoints)),\n",
    "                                 (x3, np.random.rand(npoints)),\n",
    "                                 (y1, np.random.rand(npoints)),\n",
    "                                 (y2, np.random.rand(npoints)))\n",
    "        stop_adding = time.perf_counter()\n",
    "        run_id = datasaver.run_id\n",
    "    stop = time.perf_counter()\n",
    "    tot_time = stop - start\n",
    "    add_time = stop_adding - start_adding\n",
    "    return tot_time, add_time, run_id"
   ]
  },
  {
   "cell_type": "markdown",
   "metadata": {},
   "source": [
    "## Comparison between numeric/array data and binary blob"
   ]
  },
  {
   "cell_type": "markdown",
   "metadata": {},
   "source": [
    "### Case1: Short experiment time"
   ]
  },
  {
   "cell_type": "code",
   "execution_count": 5,
   "metadata": {
    "execution": {
     "iopub.execute_input": "2021-01-25T11:04:15.806410Z",
     "iopub.status.busy": "2021-01-25T11:04:15.805524Z",
     "iopub.status.idle": "2021-01-25T11:04:16.707252Z",
     "shell.execute_reply": "2021-01-25T11:04:16.706740Z"
    }
   },
   "outputs": [
    {
     "name": "stdout",
     "output_type": "stream",
     "text": [
      "Starting experimental run with id: 1. \n",
      "Starting experimental run with id: 2. \n",
      "Starting experimental run with id: 3. \n",
      "Starting experimental run with id: 4. \n"
     ]
    },
    {
     "name": "stdout",
     "output_type": "stream",
     "text": [
      "Starting experimental run with id: 5. \n"
     ]
    },
    {
     "name": "stdout",
     "output_type": "stream",
     "text": [
      "Starting experimental run with id: 6. \n",
      "Starting experimental run with id: 7. \n"
     ]
    },
    {
     "name": "stdout",
     "output_type": "stream",
     "text": [
      "Starting experimental run with id: 8. \n",
      "Starting experimental run with id: 9. \n"
     ]
    },
    {
     "name": "stdout",
     "output_type": "stream",
     "text": [
      "Starting experimental run with id: 10. \n",
      "Starting experimental run with id: 11. \n"
     ]
    },
    {
     "name": "stdout",
     "output_type": "stream",
     "text": [
      "Starting experimental run with id: 12. \n"
     ]
    },
    {
     "name": "stdout",
     "output_type": "stream",
     "text": [
      "Starting experimental run with id: 13. \n"
     ]
    },
    {
     "name": "stdout",
     "output_type": "stream",
     "text": [
      "Starting experimental run with id: 14. \n"
     ]
    }
   ],
   "source": [
    "sizes = [1,500,1000,2000,3000,4000,5000]\n",
    "t_numeric = []\n",
    "t_numeric_add = []\n",
    "t_array = []\n",
    "t_array_add = []\n",
    "for size in sizes:\n",
    "    tn, tna, run_id_n =  insert_data('numeric', size)\n",
    "    t_numeric.append(tn)\n",
    "    t_numeric_add.append(tna)\n",
    "\n",
    "    ta, taa, run_id_a =  insert_data('array', size)\n",
    "    t_array.append(ta)\n",
    "    t_array_add.append(taa)"
   ]
  },
  {
   "cell_type": "code",
   "execution_count": 6,
   "metadata": {
    "execution": {
     "iopub.execute_input": "2021-01-25T11:04:16.724473Z",
     "iopub.status.busy": "2021-01-25T11:04:16.712992Z",
     "iopub.status.idle": "2021-01-25T11:04:16.903967Z",
     "shell.execute_reply": "2021-01-25T11:04:16.904516Z"
    }
   },
   "outputs": [
    {
     "data": {
      "image/png": "[encoded data removed]",
      "text/plain": [
       "<Figure size 432x288 with 1 Axes>"
      ]
     },
     "metadata": {
      "needs_background": "light"
     },
     "output_type": "display_data"
    }
   ],
   "source": [
    "fig, ax = plt.subplots(1,1)\n",
    "ax.plot(sizes, t_numeric, 'o-', label='Inserting row-by-row')\n",
    "ax.plot(sizes, t_numeric_add, 'o-', label='Inserting row-by-row: add_result only')\n",
    "ax.plot(sizes, t_array, 'd-', label='Inserting as binary blob')\n",
    "ax.plot(sizes, t_array_add, 'd-', label='Inserting as binary blob: add_result only')\n",
    "ax.legend()\n",
    "ax.set_xlabel('Array length')\n",
    "ax.set_ylabel('Time (s)')\n",
    "fig.tight_layout()"
   ]
  },
  {
   "cell_type": "markdown",
   "metadata": {},
   "source": [
    "As shown in the latter figure, the time to setup and and close the experiment is approximately 0.4 sec. In case of small array sizes, the difference between inserting values of data as arrays and inserting them row-by-row is relatively unimportant. At larger array sizes, i.e. above 10000 points, the cost of writing data as individual datapoints starts to become important.\n"
   ]
  },
  {
   "cell_type": "markdown",
   "metadata": {},
   "source": [
    "### Case2: Long experiment time "
   ]
  },
  {
   "cell_type": "code",
   "execution_count": 7,
   "metadata": {
    "execution": {
     "iopub.execute_input": "2021-01-25T11:04:16.907099Z",
     "iopub.status.busy": "2021-01-25T11:04:16.906576Z",
     "iopub.status.idle": "2021-01-25T11:05:15.815082Z",
     "shell.execute_reply": "2021-01-25T11:05:15.814162Z"
    }
   },
   "outputs": [
    {
     "name": "stdout",
     "output_type": "stream",
     "text": [
      "Starting experimental run with id: 15. \n",
      "Starting experimental run with id: 16. \n",
      "Starting experimental run with id: 17. \n"
     ]
    },
    {
     "name": "stdout",
     "output_type": "stream",
     "text": [
      "Starting experimental run with id: 18. \n",
      "Starting experimental run with id: 19. \n"
     ]
    },
    {
     "name": "stdout",
     "output_type": "stream",
     "text": [
      "Starting experimental run with id: 20. \n"
     ]
    },
    {
     "name": "stdout",
     "output_type": "stream",
     "text": [
      "Starting experimental run with id: 21. \n"
     ]
    },
    {
     "name": "stdout",
     "output_type": "stream",
     "text": [
      "Starting experimental run with id: 22. \n"
     ]
    },
    {
     "name": "stdout",
     "output_type": "stream",
     "text": [
      "Starting experimental run with id: 23. \n"
     ]
    },
    {
     "name": "stdout",
     "output_type": "stream",
     "text": [
      "Starting experimental run with id: 24. \n"
     ]
    },
    {
     "name": "stdout",
     "output_type": "stream",
     "text": [
      "Starting experimental run with id: 25. \n"
     ]
    },
    {
     "name": "stdout",
     "output_type": "stream",
     "text": [
      "Starting experimental run with id: 26. \n"
     ]
    },
    {
     "name": "stdout",
     "output_type": "stream",
     "text": [
      "Starting experimental run with id: 27. \n"
     ]
    },
    {
     "name": "stdout",
     "output_type": "stream",
     "text": [
      "Starting experimental run with id: 28. \n"
     ]
    }
   ],
   "source": [
    "sizes = [1,500,1000,2000,3000,4000,5000]\n",
    "nreps = 100\n",
    "t_numeric = []\n",
    "t_numeric_add = []\n",
    "t_numeric_run_ids = []\n",
    "t_array = []\n",
    "t_array_add = []\n",
    "t_array_run_ids = []\n",
    "for size in sizes:\n",
    "    tn, tna, run_id_n =  insert_data('numeric', size, nreps=nreps)\n",
    "    t_numeric.append(tn)\n",
    "    t_numeric_add.append(tna)\n",
    "    t_numeric_run_ids.append(run_id_n)\n",
    "\n",
    "    ta, taa, run_id_a =  insert_data('array', size, nreps=nreps)\n",
    "    t_array.append(ta)\n",
    "    t_array_add.append(taa)\n",
    "    t_array_run_ids.append(run_id_a)"
   ]
  },
  {
   "cell_type": "code",
   "execution_count": 8,
   "metadata": {
    "execution": {
     "iopub.execute_input": "2021-01-25T11:05:15.855007Z",
     "iopub.status.busy": "2021-01-25T11:05:15.844960Z",
     "iopub.status.idle": "2021-01-25T11:05:16.017594Z",
     "shell.execute_reply": "2021-01-25T11:05:16.017137Z"
    },
    "scrolled": true
   },
   "outputs": [
    {
     "data": {
      "image/png": "[encoded data removed]",
      "text/plain": [
       "<Figure size 432x288 with 1 Axes>"
      ]
     },
     "metadata": {
      "needs_background": "light"
     },
     "output_type": "display_data"
    }
   ],
   "source": [
    "fig, ax = plt.subplots(1,1)\n",
    "ax.plot(sizes, t_numeric, 'o-', label='Inserting row-by-row')\n",
    "ax.plot(sizes, t_numeric_add, 'o-', label='Inserting row-by-row: add_result only')\n",
    "ax.plot(sizes, t_array, 'd-', label='Inserting as binary blob')\n",
    "ax.plot(sizes, t_array_add, 'd-', label='Inserting as binary blob: add_result only')\n",
    "ax.legend()\n",
    "ax.set_xlabel('Array length')\n",
    "ax.set_ylabel('Time (s)')\n",
    "fig.tight_layout()"
   ]
  },
  {
   "cell_type": "markdown",
   "metadata": {},
   "source": [
    "However, as we increase the length of the experiment, as seen here by repeating the insertion 100 times, we see a big difference between inserting values of the data row-by-row and inserting it as a binary blob."
   ]
  },
  {
   "cell_type": "markdown",
   "metadata": {},
   "source": [
    "## Loading the data "
   ]
  },
  {
   "cell_type": "code",
   "execution_count": 9,
   "metadata": {
    "execution": {
     "iopub.execute_input": "2021-01-25T11:05:16.021628Z",
     "iopub.status.busy": "2021-01-25T11:05:16.021093Z",
     "iopub.status.idle": "2021-01-25T11:05:16.024211Z",
     "shell.execute_reply": "2021-01-25T11:05:16.023755Z"
    }
   },
   "outputs": [],
   "source": [
    "from qcodes.dataset.data_set import load_by_id\n",
    "from qcodes.dataset.data_export import get_data_by_id"
   ]
  },
  {
   "cell_type": "markdown",
   "metadata": {},
   "source": [
    "As usual you can load the data by using the ``load_by_id`` function but you will notice that the different storage methods\n",
    "are reflected in shape of the data as it is retrieved. "
   ]
  },
  {
   "cell_type": "code",
   "execution_count": 10,
   "metadata": {
    "execution": {
     "iopub.execute_input": "2021-01-25T11:05:16.028575Z",
     "iopub.status.busy": "2021-01-25T11:05:16.027503Z",
     "iopub.status.idle": "2021-01-25T11:05:16.029182Z",
     "shell.execute_reply": "2021-01-25T11:05:16.029706Z"
    }
   },
   "outputs": [],
   "source": [
    "run_id_n = t_numeric_run_ids[0]\n",
    "run_id_a = t_array_run_ids[0]"
   ]
  },
  {
   "cell_type": "code",
   "execution_count": 11,
   "metadata": {
    "execution": {
     "iopub.execute_input": "2021-01-25T11:05:16.032921Z",
     "iopub.status.busy": "2021-01-25T11:05:16.032416Z",
     "iopub.status.idle": "2021-01-25T11:05:16.041844Z",
     "shell.execute_reply": "2021-01-25T11:05:16.041276Z"
    },
    "scrolled": true
   },
   "outputs": [
    {
     "data": {
      "text/plain": [
       "{'x1': {'x1': array([0.8394719 , 0.8394719 , 0.82578766, 0.82578766, 0.19898465,\n",
       "         0.19898465, 0.32135051, 0.32135051, 0.27689565, 0.27689565,\n",
       "         0.82767972, 0.82767972, 0.63552882, 0.63552882, 0.22950199,\n",
       "         0.22950199, 0.17386509, 0.17386509, 0.2813603 , 0.2813603 ,\n",
       "         0.29237632, 0.29237632, 0.91400774, 0.91400774, 0.0168245 ,\n",
       "         0.0168245 , 0.09233362, 0.09233362, 0.5550163 , 0.5550163 ,\n",
       "         0.46532418, 0.46532418, 0.17446373, 0.17446373, 0.79372005,\n",
       "         0.79372005, 0.42283145, 0.42283145, 0.39005128, 0.39005128,\n",
       "         0.66470179, 0.66470179, 0.1447163 , 0.1447163 , 0.7950469 ,\n",
       "         0.7950469 , 0.97726882, 0.97726882, 0.38345354, 0.38345354,\n",
       "         0.36366286, 0.36366286, 0.85184912, 0.85184912, 0.30025291,\n",
       "         0.30025291, 0.47070667, 0.47070667, 0.98575108, 0.98575108,\n",
       "         0.48832645, 0.48832645, 0.22219939, 0.22219939, 0.46039874,\n",
       "         0.46039874, 0.6351899 , 0.6351899 , 0.33461433, 0.33461433,\n",
       "         0.81352515, 0.81352515, 0.35042726, 0.35042726, 0.28562552,\n",
       "         0.28562552, 0.44488335, 0.44488335, 0.59539615, 0.59539615,\n",
       "         0.65989364, 0.65989364, 0.26524799, 0.26524799, 0.86775806,\n",
       "         0.86775806, 0.95564934, 0.95564934, 0.66458608, 0.66458608,\n",
       "         0.19546405, 0.19546405, 0.44530678, 0.44530678, 0.24884603,\n",
       "         0.24884603, 0.43390291, 0.43390291, 0.71907716, 0.71907716,\n",
       "         0.57143007, 0.57143007, 0.45009363, 0.45009363, 0.67249651,\n",
       "         0.67249651, 0.10860065, 0.10860065, 0.97227604, 0.97227604,\n",
       "         0.7478289 , 0.7478289 , 0.37542817, 0.37542817, 0.85358689,\n",
       "         0.85358689, 0.58559454, 0.58559454, 0.61434978, 0.61434978,\n",
       "         0.22085936, 0.22085936, 0.20893718, 0.20893718, 0.5947765 ,\n",
       "         0.5947765 , 0.02450882, 0.02450882, 0.15794844, 0.15794844,\n",
       "         0.34142605, 0.34142605, 0.9527789 , 0.9527789 , 0.50174221,\n",
       "         0.50174221, 0.251142  , 0.251142  , 0.96357128, 0.96357128,\n",
       "         0.02964319, 0.02964319, 0.06475376, 0.06475376, 0.99094427,\n",
       "         0.99094427, 0.81365023, 0.81365023, 0.02581355, 0.02581355,\n",
       "         0.20540373, 0.20540373, 0.99651043, 0.99651043, 0.87071572,\n",
       "         0.87071572, 0.89169526, 0.89169526, 0.07826723, 0.07826723,\n",
       "         0.02819789, 0.02819789, 0.53278097, 0.53278097, 0.59266634,\n",
       "         0.59266634, 0.12859437, 0.12859437, 0.84407437, 0.84407437,\n",
       "         0.58919961, 0.58919961, 0.2017238 , 0.2017238 , 0.31615033,\n",
       "         0.31615033, 0.83918701, 0.83918701, 0.46112992, 0.46112992,\n",
       "         0.87984202, 0.87984202, 0.63548311, 0.63548311, 0.67978319,\n",
       "         0.67978319, 0.34923393, 0.34923393, 0.45193258, 0.45193258,\n",
       "         0.51135038, 0.51135038, 0.66475354, 0.66475354, 0.57374321,\n",
       "         0.57374321, 0.29276326, 0.29276326, 0.61545685, 0.61545685])}}"
      ]
     },
     "execution_count": 1,
     "metadata": {},
     "output_type": "execute_result"
    }
   ],
   "source": [
    "ds = load_by_id(run_id_n)\n",
    "ds.get_parameter_data('x1')"
   ]
  },
  {
   "cell_type": "markdown",
   "metadata": {},
   "source": [
    "And a dataset stored as binary arrays"
   ]
  },
  {
   "cell_type": "code",
   "execution_count": 12,
   "metadata": {
    "execution": {
     "iopub.execute_input": "2021-01-25T11:05:16.045105Z",
     "iopub.status.busy": "2021-01-25T11:05:16.044589Z",
     "iopub.status.idle": "2021-01-25T11:05:16.098079Z",
     "shell.execute_reply": "2021-01-25T11:05:16.099052Z"
    },
    "scrolled": true
   },
   "outputs": [
    {
     "data": {
      "text/plain": [
       "{'x1': {'x1': array([[0.89777541],\n",
       "         [0.89777541],\n",
       "         [0.12744836],\n",
       "         [0.12744836],\n",
       "         [0.96442076],\n",
       "         [0.96442076],\n",
       "         [0.24443922],\n",
       "         [0.24443922],\n",
       "         [0.97222619],\n",
       "         [0.97222619],\n",
       "         [0.02066416],\n",
       "         [0.02066416],\n",
       "         [0.43208292],\n",
       "         [0.43208292],\n",
       "         [0.93752504],\n",
       "         [0.93752504],\n",
       "         [0.40179654],\n",
       "         [0.40179654],\n",
       "         [0.89424583],\n",
       "         [0.89424583],\n",
       "         [0.66466023],\n",
       "         [0.66466023],\n",
       "         [0.01331503],\n",
       "         [0.01331503],\n",
       "         [0.62609935],\n",
       "         [0.62609935],\n",
       "         [0.53883727],\n",
       "         [0.53883727],\n",
       "         [0.236289  ],\n",
       "         [0.236289  ],\n",
       "         [0.50172045],\n",
       "         [0.50172045],\n",
       "         [0.73190197],\n",
       "         [0.73190197],\n",
       "         [0.84573886],\n",
       "         [0.84573886],\n",
       "         [0.5929042 ],\n",
       "         [0.5929042 ],\n",
       "         [0.34016068],\n",
       "         [0.34016068],\n",
       "         [0.98596961],\n",
       "         [0.98596961],\n",
       "         [0.55848356],\n",
       "         [0.55848356],\n",
       "         [0.08939339],\n",
       "         [0.08939339],\n",
       "         [0.13876297],\n",
       "         [0.13876297],\n",
       "         [0.28774661],\n",
       "         [0.28774661],\n",
       "         [0.95145839],\n",
       "         [0.95145839],\n",
       "         [0.29789781],\n",
       "         [0.29789781],\n",
       "         [0.16195634],\n",
       "         [0.16195634],\n",
       "         [0.74280484],\n",
       "         [0.74280484],\n",
       "         [0.61245457],\n",
       "         [0.61245457],\n",
       "         [0.27690344],\n",
       "         [0.27690344],\n",
       "         [0.25901805],\n",
       "         [0.25901805],\n",
       "         [0.68051559],\n",
       "         [0.68051559],\n",
       "         [0.95649288],\n",
       "         [0.95649288],\n",
       "         [0.63678603],\n",
       "         [0.63678603],\n",
       "         [0.24023167],\n",
       "         [0.24023167],\n",
       "         [0.84494104],\n",
       "         [0.84494104],\n",
       "         [0.43754397],\n",
       "         [0.43754397],\n",
       "         [0.21268717],\n",
       "         [0.21268717],\n",
       "         [0.51432972],\n",
       "         [0.51432972],\n",
       "         [0.62719367],\n",
       "         [0.62719367],\n",
       "         [0.99471429],\n",
       "         [0.99471429],\n",
       "         [0.99517152],\n",
       "         [0.99517152],\n",
       "         [0.76440629],\n",
       "         [0.76440629],\n",
       "         [0.85929334],\n",
       "         [0.85929334],\n",
       "         [0.60575038],\n",
       "         [0.60575038],\n",
       "         [0.08756699],\n",
       "         [0.08756699],\n",
       "         [0.11560506],\n",
       "         [0.11560506],\n",
       "         [0.36058869],\n",
       "         [0.36058869],\n",
       "         [0.6052473 ],\n",
       "         [0.6052473 ],\n",
       "         [0.81532424],\n",
       "         [0.81532424],\n",
       "         [0.05631715],\n",
       "         [0.05631715],\n",
       "         [0.05599722],\n",
       "         [0.05599722],\n",
       "         [0.29014367],\n",
       "         [0.29014367],\n",
       "         [0.50218688],\n",
       "         [0.50218688],\n",
       "         [0.15881707],\n",
       "         [0.15881707],\n",
       "         [0.87874708],\n",
       "         [0.87874708],\n",
       "         [0.66157601],\n",
       "         [0.66157601],\n",
       "         [0.18610525],\n",
       "         [0.18610525],\n",
       "         [0.49282175],\n",
       "         [0.49282175],\n",
       "         [0.38793108],\n",
       "         [0.38793108],\n",
       "         [0.80904046],\n",
       "         [0.80904046],\n",
       "         [0.76789453],\n",
       "         [0.76789453],\n",
       "         [0.96192755],\n",
       "         [0.96192755],\n",
       "         [0.22406784],\n",
       "         [0.22406784],\n",
       "         [0.5870262 ],\n",
       "         [0.5870262 ],\n",
       "         [0.89242859],\n",
       "         [0.89242859],\n",
       "         [0.28967025],\n",
       "         [0.28967025],\n",
       "         [0.99943278],\n",
       "         [0.99943278],\n",
       "         [0.44756222],\n",
       "         [0.44756222],\n",
       "         [0.34410504],\n",
       "         [0.34410504],\n",
       "         [0.48776601],\n",
       "         [0.48776601],\n",
       "         [0.33964057],\n",
       "         [0.33964057],\n",
       "         [0.54421889],\n",
       "         [0.54421889],\n",
       "         [0.78047283],\n",
       "         [0.78047283],\n",
       "         [0.50361689],\n",
       "         [0.50361689],\n",
       "         [0.39893583],\n",
       "         [0.39893583],\n",
       "         [0.60749846],\n",
       "         [0.60749846],\n",
       "         [0.92501875],\n",
       "         [0.92501875],\n",
       "         [0.17148957],\n",
       "         [0.17148957],\n",
       "         [0.16747295],\n",
       "         [0.16747295],\n",
       "         [0.95344797],\n",
       "         [0.95344797],\n",
       "         [0.87920101],\n",
       "         [0.87920101],\n",
       "         [0.5132734 ],\n",
       "         [0.5132734 ],\n",
       "         [0.45938837],\n",
       "         [0.45938837],\n",
       "         [0.53788238],\n",
       "         [0.53788238],\n",
       "         [0.28541533],\n",
       "         [0.28541533],\n",
       "         [0.96536058],\n",
       "         [0.96536058],\n",
       "         [0.52948564],\n",
       "         [0.52948564],\n",
       "         [0.82261052],\n",
       "         [0.82261052],\n",
       "         [0.73029087],\n",
       "         [0.73029087],\n",
       "         [0.75715354],\n",
       "         [0.75715354],\n",
       "         [0.81929997],\n",
       "         [0.81929997],\n",
       "         [0.62234536],\n",
       "         [0.62234536],\n",
       "         [0.16424891],\n",
       "         [0.16424891],\n",
       "         [0.98462433],\n",
       "         [0.98462433],\n",
       "         [0.17624764],\n",
       "         [0.17624764],\n",
       "         [0.09219535],\n",
       "         [0.09219535],\n",
       "         [0.21057025],\n",
       "         [0.21057025],\n",
       "         [0.30387654],\n",
       "         [0.30387654]])}}"
      ]
     },
     "execution_count": 1,
     "metadata": {},
     "output_type": "execute_result"
    }
   ],
   "source": [
    "ds = load_by_id(run_id_a)\n",
    "ds.get_parameter_data('x1')"
   ]
  },
  {
   "cell_type": "code",
   "execution_count": null,
   "metadata": {},
   "outputs": [],
   "source": []
  }
 ],
 "metadata": {
  "kernelspec": {
   "display_name": "Python 3",
   "language": "python",
   "name": "python3"
  },
  "language_info": {
   "codemirror_mode": {
    "name": "ipython",
    "version": 3
   },
   "file_extension": ".py",
   "mimetype": "text/x-python",
   "name": "python",
   "nbconvert_exporter": "python",
   "pygments_lexer": "ipython3",
   "version": "3.7.9"
  },
  "nbsphinx": {
   "timeout": 600
  },
  "toc": {
   "base_numbering": 1,
   "nav_menu": {},
   "number_sections": true,
   "sideBar": true,
   "skip_h1_title": false,
   "title_cell": "Table of Contents",
   "title_sidebar": "Contents",
   "toc_cell": false,
   "toc_position": {},
   "toc_section_display": true,
   "toc_window_display": false
  },
  "varInspector": {
   "cols": {
    "lenName": 16,
    "lenType": 16,
    "lenVar": 40
   },
   "kernels_config": {
    "python": {
     "delete_cmd_postfix": "",
     "delete_cmd_prefix": "del ",
     "library": "var_list.py",
     "varRefreshCmd": "print(var_dic_list())"
    },
    "r": {
     "delete_cmd_postfix": ") ",
     "delete_cmd_prefix": "rm(",
     "library": "var_list.r",
     "varRefreshCmd": "cat(var_dic_list()) "
    }
   },
   "types_to_exclude": [
    "module",
    "function",
    "builtin_function_or_method",
    "instance",
    "_Feature"
   ],
   "window_display": false
  }
 },
 "nbformat": 4,
 "nbformat_minor": 2
}
