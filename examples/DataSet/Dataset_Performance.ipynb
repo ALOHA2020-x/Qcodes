{
 "cells": [
  {
   "cell_type": "markdown",
   "metadata": {},
   "source": [
    "# DataSet Performance\n",
    "\n",
    "This notebook shows the trade-off between inserting data into a database row-by-row and as binary blobs. Inserting the data row-by-row means that we have direct access to all the data and may perform queries directly on the values of the data. On the other hand, as we shall see, this is much slower than inserting the data directly as binary blobs."
   ]
  },
  {
   "cell_type": "markdown",
   "metadata": {},
   "source": [
    "First, we choose a new location for the database to ensure that we don't add a bunch of benchmarking data to the default one."
   ]
  },
  {
   "cell_type": "code",
   "execution_count": 1,
   "metadata": {
    "execution": {
     "iopub.execute_input": "2021-01-11T11:49:32.607824Z",
     "iopub.status.busy": "2021-01-11T11:49:32.607306Z",
     "iopub.status.idle": "2021-01-11T11:49:33.749561Z",
     "shell.execute_reply": "2021-01-11T11:49:33.750031Z"
    }
   },
   "outputs": [
    {
     "name": "stdout",
     "output_type": "stream",
     "text": [
      "Logging hadn't been started.\n",
      "Activating auto-logging. Current session state plus future input saved.\n",
      "Filename       : /home/vsts/.qcodes/logs/command_history.log\n",
      "Mode           : append\n",
      "Output logging : True\n",
      "Raw input log  : False\n",
      "Timestamping   : True\n",
      "State          : active\n"
     ]
    },
    {
     "name": "stdout",
     "output_type": "stream",
     "text": [
      "Qcodes Logfile : /home/vsts/.qcodes/logs/210111-13831-qcodes.log\n"
     ]
    }
   ],
   "source": [
    "import os\n",
    "cwd = os.getcwd()\n",
    "import qcodes as qc\n",
    "qc.config[\"core\"][\"db_location\"] = os.path.join(cwd, 'testing.db')\n"
   ]
  },
  {
   "cell_type": "code",
   "execution_count": 2,
   "metadata": {
    "execution": {
     "iopub.execute_input": "2021-01-11T11:49:33.756708Z",
     "iopub.status.busy": "2021-01-11T11:49:33.756170Z",
     "iopub.status.idle": "2021-01-11T11:49:33.955197Z",
     "shell.execute_reply": "2021-01-11T11:49:33.954475Z"
    }
   },
   "outputs": [],
   "source": [
    "%matplotlib inline\n",
    "import time\n",
    "import matplotlib.pyplot as plt\n",
    "import numpy as np\n",
    "\n",
    "import qcodes as qc\n",
    "from qcodes.instrument.parameter import ManualParameter\n",
    "from qcodes.dataset.experiment_container import (Experiment,\n",
    "                                                 load_last_experiment,\n",
    "                                                 new_experiment)\n",
    "from qcodes.dataset.sqlite.database import initialise_database\n",
    "from qcodes import load_or_create_experiment\n",
    "from qcodes.dataset.measurements import Measurement"
   ]
  },
  {
   "cell_type": "code",
   "execution_count": 3,
   "metadata": {
    "execution": {
     "iopub.execute_input": "2021-01-11T11:49:33.959710Z",
     "iopub.status.busy": "2021-01-11T11:49:33.958861Z",
     "iopub.status.idle": "2021-01-11T11:49:34.100293Z",
     "shell.execute_reply": "2021-01-11T11:49:34.100866Z"
    }
   },
   "outputs": [
    {
     "name": "stdout",
     "output_type": "stream",
     "text": [
      "\r",
      "0it [00:00, ?it/s]"
     ]
    },
    {
     "name": "stdout",
     "output_type": "stream",
     "text": [
      "\r",
      "Upgrading database; v0 -> v1: : 0it [00:00, ?it/s]"
     ]
    },
    {
     "name": "stdout",
     "output_type": "stream",
     "text": [
      "\r",
      "Upgrading database; v0 -> v1: : 0it [00:00, ?it/s]"
     ]
    },
    {
     "name": "stdout",
     "output_type": "stream",
     "text": [
      "\n",
      "\r",
      "  0%|          | 0/1 [00:00<?, ?it/s]"
     ]
    },
    {
     "name": "stdout",
     "output_type": "stream",
     "text": [
      "\r",
      "Upgrading database; v1 -> v2:   0%|          | 0/1 [00:00<?, ?it/s]"
     ]
    },
    {
     "name": "stdout",
     "output_type": "stream",
     "text": [
      "\r",
      "Upgrading database; v1 -> v2: 100%|██████████| 1/1 [00:00<00:00, 849.91it/s]"
     ]
    },
    {
     "name": "stdout",
     "output_type": "stream",
     "text": [
      "\n",
      "\r",
      "0it [00:00, ?it/s]"
     ]
    },
    {
     "name": "stdout",
     "output_type": "stream",
     "text": [
      "\r",
      "Upgrading database; v2 -> v3: : 0it [00:00, ?it/s]"
     ]
    },
    {
     "name": "stdout",
     "output_type": "stream",
     "text": [
      "\r",
      "Upgrading database; v2 -> v3: : 0it [00:00, ?it/s]"
     ]
    },
    {
     "name": "stdout",
     "output_type": "stream",
     "text": [
      "\n",
      "\r",
      "0it [00:00, ?it/s]"
     ]
    },
    {
     "name": "stdout",
     "output_type": "stream",
     "text": [
      "\r",
      "Upgrading database; v3 -> v4: : 0it [00:00, ?it/s]"
     ]
    },
    {
     "name": "stdout",
     "output_type": "stream",
     "text": [
      "\r",
      "Upgrading database; v3 -> v4: : 0it [00:00, ?it/s]"
     ]
    },
    {
     "name": "stdout",
     "output_type": "stream",
     "text": [
      "\n",
      "\r",
      "  0%|          | 0/1 [00:00<?, ?it/s]"
     ]
    },
    {
     "name": "stdout",
     "output_type": "stream",
     "text": [
      "\r",
      "Upgrading database; v4 -> v5:   0%|          | 0/1 [00:00<?, ?it/s]"
     ]
    },
    {
     "name": "stdout",
     "output_type": "stream",
     "text": [
      "\r",
      "Upgrading database; v4 -> v5: 100%|██████████| 1/1 [00:00<00:00, 848.88it/s]"
     ]
    },
    {
     "name": "stdout",
     "output_type": "stream",
     "text": [
      "\n",
      "\r",
      "0it [00:00, ?it/s]"
     ]
    },
    {
     "name": "stdout",
     "output_type": "stream",
     "text": [
      "\r",
      "Upgrading database; v5 -> v6: : 0it [00:00, ?it/s]"
     ]
    },
    {
     "name": "stdout",
     "output_type": "stream",
     "text": [
      "\r",
      "Upgrading database; v5 -> v6: : 0it [00:00, ?it/s]"
     ]
    },
    {
     "name": "stdout",
     "output_type": "stream",
     "text": [
      "\n",
      "\r",
      "  0%|          | 0/1 [00:00<?, ?it/s]"
     ]
    },
    {
     "name": "stdout",
     "output_type": "stream",
     "text": [
      "\r",
      "Upgrading database; v6 -> v7:   0%|          | 0/1 [00:00<?, ?it/s]"
     ]
    },
    {
     "name": "stdout",
     "output_type": "stream",
     "text": [
      "\r",
      "Upgrading database; v6 -> v7: 100%|██████████| 1/1 [00:00<00:00, 266.75it/s]"
     ]
    },
    {
     "name": "stdout",
     "output_type": "stream",
     "text": [
      "\n",
      "\r",
      "  0%|          | 0/1 [00:00<?, ?it/s]"
     ]
    },
    {
     "name": "stdout",
     "output_type": "stream",
     "text": [
      "\r",
      "Upgrading database; v7 -> v8:   0%|          | 0/1 [00:00<?, ?it/s]"
     ]
    },
    {
     "name": "stdout",
     "output_type": "stream",
     "text": [
      "\r",
      "Upgrading database; v7 -> v8: 100%|██████████| 1/1 [00:00<00:00, 648.47it/s]"
     ]
    },
    {
     "name": "stdout",
     "output_type": "stream",
     "text": [
      "\n",
      "\r",
      "  0%|          | 0/1 [00:00<?, ?it/s]"
     ]
    },
    {
     "name": "stdout",
     "output_type": "stream",
     "text": [
      "\r",
      "Upgrading database; v8 -> v9:   0%|          | 0/1 [00:00<?, ?it/s]"
     ]
    },
    {
     "name": "stdout",
     "output_type": "stream",
     "text": [
      "\r",
      "Upgrading database; v8 -> v9: 100%|██████████| 1/1 [00:00<00:00, 629.87it/s]"
     ]
    },
    {
     "name": "stdout",
     "output_type": "stream",
     "text": [
      "\n"
     ]
    }
   ],
   "source": [
    "initialise_database()\n",
    "exp = load_or_create_experiment(experiment_name='tutorial_exp', sample_name=\"no sample\")"
   ]
  },
  {
   "cell_type": "markdown",
   "metadata": {},
   "source": [
    "Here, we define a simple function to benchmark the time it takes to insert n points with either numeric or array data type.\n",
    "We will compare both the time used to call ``add_result`` and the time used for the full measurement."
   ]
  },
  {
   "cell_type": "code",
   "execution_count": 4,
   "metadata": {
    "execution": {
     "iopub.execute_input": "2021-01-11T11:49:34.110707Z",
     "iopub.status.busy": "2021-01-11T11:49:34.109460Z",
     "iopub.status.idle": "2021-01-11T11:49:34.111525Z",
     "shell.execute_reply": "2021-01-11T11:49:34.112106Z"
    }
   },
   "outputs": [],
   "source": [
    "def insert_data(paramtype, npoints, nreps=1):\n",
    "\n",
    "    meas = Measurement(exp=exp)\n",
    "\n",
    "    x1 = ManualParameter('x1')\n",
    "    x2 = ManualParameter('x2')\n",
    "    x3 = ManualParameter('x3')\n",
    "    y1 = ManualParameter('y1')\n",
    "    y2 = ManualParameter('y2')\n",
    "\n",
    "    meas.register_parameter(x1, paramtype=paramtype)\n",
    "    meas.register_parameter(x2, paramtype=paramtype)\n",
    "    meas.register_parameter(x3, paramtype=paramtype)\n",
    "    meas.register_parameter(y1, setpoints=[x1, x2, x3],\n",
    "                            paramtype=paramtype)\n",
    "    meas.register_parameter(y2, setpoints=[x1, x2, x3],\n",
    "                            paramtype=paramtype)\n",
    "    start = time.perf_counter()\n",
    "    with meas.run() as datasaver:\n",
    "        start_adding = time.perf_counter()\n",
    "        for i in range(nreps):\n",
    "            datasaver.add_result((x1, np.random.rand(npoints)),\n",
    "                                 (x2, np.random.rand(npoints)),\n",
    "                                 (x3, np.random.rand(npoints)),\n",
    "                                 (y1, np.random.rand(npoints)),\n",
    "                                 (y2, np.random.rand(npoints)))\n",
    "        stop_adding = time.perf_counter()\n",
    "        run_id = datasaver.run_id\n",
    "    stop = time.perf_counter()\n",
    "    tot_time = stop - start\n",
    "    add_time = stop_adding - start_adding\n",
    "    return tot_time, add_time, run_id"
   ]
  },
  {
   "cell_type": "markdown",
   "metadata": {},
   "source": [
    "## Comparison between numeric/array data and binary blob"
   ]
  },
  {
   "cell_type": "markdown",
   "metadata": {},
   "source": [
    "### Case1: Short experiment time"
   ]
  },
  {
   "cell_type": "code",
   "execution_count": 5,
   "metadata": {
    "execution": {
     "iopub.execute_input": "2021-01-11T11:49:34.119370Z",
     "iopub.status.busy": "2021-01-11T11:49:34.118806Z",
     "iopub.status.idle": "2021-01-11T11:49:35.257353Z",
     "shell.execute_reply": "2021-01-11T11:49:35.257801Z"
    }
   },
   "outputs": [
    {
     "name": "stdout",
     "output_type": "stream",
     "text": [
      "Starting experimental run with id: 1. \n",
      "Starting experimental run with id: 2. \n",
      "Starting experimental run with id: 3. \n"
     ]
    },
    {
     "name": "stdout",
     "output_type": "stream",
     "text": [
      "Starting experimental run with id: 4. \n"
     ]
    },
    {
     "name": "stdout",
     "output_type": "stream",
     "text": [
      "Starting experimental run with id: 5. \n"
     ]
    },
    {
     "name": "stdout",
     "output_type": "stream",
     "text": [
      "Starting experimental run with id: 6. \n",
      "Starting experimental run with id: 7. \n"
     ]
    },
    {
     "name": "stdout",
     "output_type": "stream",
     "text": [
      "Starting experimental run with id: 8. \n"
     ]
    },
    {
     "name": "stdout",
     "output_type": "stream",
     "text": [
      "Starting experimental run with id: 9. \n",
      "Starting experimental run with id: 10. \n"
     ]
    },
    {
     "name": "stdout",
     "output_type": "stream",
     "text": [
      "Starting experimental run with id: 11. \n"
     ]
    },
    {
     "name": "stdout",
     "output_type": "stream",
     "text": [
      "Starting experimental run with id: 12. \n"
     ]
    },
    {
     "name": "stdout",
     "output_type": "stream",
     "text": [
      "Starting experimental run with id: 13. \n"
     ]
    },
    {
     "name": "stdout",
     "output_type": "stream",
     "text": [
      "Starting experimental run with id: 14. \n"
     ]
    }
   ],
   "source": [
    "sizes = [1,500,1000,2000,3000,4000,5000]\n",
    "t_numeric = []\n",
    "t_numeric_add = []\n",
    "t_array = []\n",
    "t_array_add = []\n",
    "for size in sizes:\n",
    "    tn, tna, run_id_n =  insert_data('numeric', size)\n",
    "    t_numeric.append(tn)\n",
    "    t_numeric_add.append(tna)\n",
    "\n",
    "    ta, taa, run_id_a =  insert_data('array', size)\n",
    "    t_array.append(ta)\n",
    "    t_array_add.append(taa)"
   ]
  },
  {
   "cell_type": "code",
   "execution_count": 6,
   "metadata": {
    "execution": {
     "iopub.execute_input": "2021-01-11T11:49:35.304445Z",
     "iopub.status.busy": "2021-01-11T11:49:35.303414Z",
     "iopub.status.idle": "2021-01-11T11:49:35.473330Z",
     "shell.execute_reply": "2021-01-11T11:49:35.472811Z"
    }
   },
   "outputs": [
    {
     "data": {
      "image/png": "[encoded data removed]",
      "text/plain": [
       "<Figure size 432x288 with 1 Axes>"
      ]
     },
     "metadata": {
      "needs_background": "light"
     },
     "output_type": "display_data"
    }
   ],
   "source": [
    "fig, ax = plt.subplots(1,1)\n",
    "ax.plot(sizes, t_numeric, 'o-', label='Inserting row-by-row')\n",
    "ax.plot(sizes, t_numeric_add, 'o-', label='Inserting row-by-row: add_result only')\n",
    "ax.plot(sizes, t_array, 'd-', label='Inserting as binary blob')\n",
    "ax.plot(sizes, t_array_add, 'd-', label='Inserting as binary blob: add_result only')\n",
    "ax.legend()\n",
    "ax.set_xlabel('Array length')\n",
    "ax.set_ylabel('Time (s)')\n",
    "fig.tight_layout()"
   ]
  },
  {
   "cell_type": "markdown",
   "metadata": {},
   "source": [
    "As shown in the latter figure, the time to setup and and close the experiment is approximately 0.4 sec. In case of small array sizes, the difference between inserting values of data as arrays and inserting them row-by-row is relatively unimportant. At larger array sizes, i.e. above 10000 points, the cost of writing data as individual datapoints starts to become important.\n"
   ]
  },
  {
   "cell_type": "markdown",
   "metadata": {},
   "source": [
    "### Case2: Long experiment time "
   ]
  },
  {
   "cell_type": "code",
   "execution_count": 7,
   "metadata": {
    "execution": {
     "iopub.execute_input": "2021-01-11T11:49:35.480302Z",
     "iopub.status.busy": "2021-01-11T11:49:35.479137Z",
     "iopub.status.idle": "2021-01-11T11:50:36.468975Z",
     "shell.execute_reply": "2021-01-11T11:50:36.469480Z"
    }
   },
   "outputs": [
    {
     "name": "stdout",
     "output_type": "stream",
     "text": [
      "Starting experimental run with id: 15. \n",
      "Starting experimental run with id: 16. \n",
      "Starting experimental run with id: 17. \n"
     ]
    },
    {
     "name": "stdout",
     "output_type": "stream",
     "text": [
      "Starting experimental run with id: 18. \n",
      "Starting experimental run with id: 19. \n"
     ]
    },
    {
     "name": "stdout",
     "output_type": "stream",
     "text": [
      "Starting experimental run with id: 20. \n"
     ]
    },
    {
     "name": "stdout",
     "output_type": "stream",
     "text": [
      "Starting experimental run with id: 21. \n"
     ]
    },
    {
     "name": "stdout",
     "output_type": "stream",
     "text": [
      "Starting experimental run with id: 22. \n"
     ]
    },
    {
     "name": "stdout",
     "output_type": "stream",
     "text": [
      "Starting experimental run with id: 23. \n"
     ]
    },
    {
     "name": "stdout",
     "output_type": "stream",
     "text": [
      "Starting experimental run with id: 24. \n"
     ]
    },
    {
     "name": "stdout",
     "output_type": "stream",
     "text": [
      "Starting experimental run with id: 25. \n"
     ]
    },
    {
     "name": "stdout",
     "output_type": "stream",
     "text": [
      "Starting experimental run with id: 26. \n"
     ]
    },
    {
     "name": "stdout",
     "output_type": "stream",
     "text": [
      "Starting experimental run with id: 27. \n"
     ]
    },
    {
     "name": "stdout",
     "output_type": "stream",
     "text": [
      "Starting experimental run with id: 28. \n"
     ]
    }
   ],
   "source": [
    "sizes = [1,500,1000,2000,3000,4000,5000]\n",
    "nreps = 100\n",
    "t_numeric = []\n",
    "t_numeric_add = []\n",
    "t_numeric_run_ids = []\n",
    "t_array = []\n",
    "t_array_add = []\n",
    "t_array_run_ids = []\n",
    "for size in sizes:\n",
    "    tn, tna, run_id_n =  insert_data('numeric', size, nreps=nreps)\n",
    "    t_numeric.append(tn)\n",
    "    t_numeric_add.append(tna)\n",
    "    t_numeric_run_ids.append(run_id_n)\n",
    "\n",
    "    ta, taa, run_id_a =  insert_data('array', size, nreps=nreps)\n",
    "    t_array.append(ta)\n",
    "    t_array_add.append(taa)\n",
    "    t_array_run_ids.append(run_id_a)"
   ]
  },
  {
   "cell_type": "code",
   "execution_count": 8,
   "metadata": {
    "execution": {
     "iopub.execute_input": "2021-01-11T11:50:36.474505Z",
     "iopub.status.busy": "2021-01-11T11:50:36.473963Z",
     "iopub.status.idle": "2021-01-11T11:50:36.679201Z",
     "shell.execute_reply": "2021-01-11T11:50:36.678610Z"
    },
    "scrolled": true
   },
   "outputs": [
    {
     "data": {
      "image/png": "[encoded data removed]",
      "text/plain": [
       "<Figure size 432x288 with 1 Axes>"
      ]
     },
     "metadata": {
      "needs_background": "light"
     },
     "output_type": "display_data"
    }
   ],
   "source": [
    "fig, ax = plt.subplots(1,1)\n",
    "ax.plot(sizes, t_numeric, 'o-', label='Inserting row-by-row')\n",
    "ax.plot(sizes, t_numeric_add, 'o-', label='Inserting row-by-row: add_result only')\n",
    "ax.plot(sizes, t_array, 'd-', label='Inserting as binary blob')\n",
    "ax.plot(sizes, t_array_add, 'd-', label='Inserting as binary blob: add_result only')\n",
    "ax.legend()\n",
    "ax.set_xlabel('Array length')\n",
    "ax.set_ylabel('Time (s)')\n",
    "fig.tight_layout()"
   ]
  },
  {
   "cell_type": "markdown",
   "metadata": {},
   "source": [
    "However, as we increase the length of the experiment, as seen here by repeating the insertion 100 times, we see a big difference between inserting values of the data row-by-row and inserting it as a binary blob."
   ]
  },
  {
   "cell_type": "markdown",
   "metadata": {},
   "source": [
    "## Loading the data "
   ]
  },
  {
   "cell_type": "code",
   "execution_count": 9,
   "metadata": {
    "execution": {
     "iopub.execute_input": "2021-01-11T11:50:36.683258Z",
     "iopub.status.busy": "2021-01-11T11:50:36.682301Z",
     "iopub.status.idle": "2021-01-11T11:50:36.685777Z",
     "shell.execute_reply": "2021-01-11T11:50:36.685314Z"
    }
   },
   "outputs": [],
   "source": [
    "from qcodes.dataset.data_set import load_by_id\n",
    "from qcodes.dataset.data_export import get_data_by_id"
   ]
  },
  {
   "cell_type": "markdown",
   "metadata": {},
   "source": [
    "As usual you can load the data by using the ``load_by_id`` function but you will notice that the different storage methods\n",
    "are reflected in shape of the data as it is retrieved. "
   ]
  },
  {
   "cell_type": "code",
   "execution_count": 10,
   "metadata": {
    "execution": {
     "iopub.execute_input": "2021-01-11T11:50:36.690314Z",
     "iopub.status.busy": "2021-01-11T11:50:36.689160Z",
     "iopub.status.idle": "2021-01-11T11:50:36.691093Z",
     "shell.execute_reply": "2021-01-11T11:50:36.691642Z"
    }
   },
   "outputs": [],
   "source": [
    "run_id_n = t_numeric_run_ids[0]\n",
    "run_id_a = t_array_run_ids[0]"
   ]
  },
  {
   "cell_type": "code",
   "execution_count": 11,
   "metadata": {
    "execution": {
     "iopub.execute_input": "2021-01-11T11:50:36.695152Z",
     "iopub.status.busy": "2021-01-11T11:50:36.694607Z",
     "iopub.status.idle": "2021-01-11T11:50:36.704262Z",
     "shell.execute_reply": "2021-01-11T11:50:36.703783Z"
    },
    "scrolled": true
   },
   "outputs": [
    {
     "data": {
      "text/plain": [
       "{'x1': {'x1': array([0.44041167, 0.44041167, 0.89198902, 0.89198902, 0.78602901,\n",
       "         0.78602901, 0.55306326, 0.55306326, 0.03064346, 0.03064346,\n",
       "         0.57048267, 0.57048267, 0.02688768, 0.02688768, 0.11556426,\n",
       "         0.11556426, 0.62278278, 0.62278278, 0.9594438 , 0.9594438 ,\n",
       "         0.10028681, 0.10028681, 0.8188155 , 0.8188155 , 0.45183152,\n",
       "         0.45183152, 0.84211837, 0.84211837, 0.17847511, 0.17847511,\n",
       "         0.99794871, 0.99794871, 0.91145842, 0.91145842, 0.5770204 ,\n",
       "         0.5770204 , 0.5740841 , 0.5740841 , 0.20886958, 0.20886958,\n",
       "         0.17201337, 0.17201337, 0.07795909, 0.07795909, 0.20173623,\n",
       "         0.20173623, 0.5035711 , 0.5035711 , 0.04703183, 0.04703183,\n",
       "         0.50210988, 0.50210988, 0.8426045 , 0.8426045 , 0.34886   ,\n",
       "         0.34886   , 0.52117617, 0.52117617, 0.99909899, 0.99909899,\n",
       "         0.80888041, 0.80888041, 0.56504434, 0.56504434, 0.97002529,\n",
       "         0.97002529, 0.08439674, 0.08439674, 0.90748229, 0.90748229,\n",
       "         0.00824451, 0.00824451, 0.33888158, 0.33888158, 0.84576629,\n",
       "         0.84576629, 0.3854749 , 0.3854749 , 0.2621108 , 0.2621108 ,\n",
       "         0.68141304, 0.68141304, 0.29464175, 0.29464175, 0.35419953,\n",
       "         0.35419953, 0.40703443, 0.40703443, 0.3213929 , 0.3213929 ,\n",
       "         0.33338546, 0.33338546, 0.54674159, 0.54674159, 0.00101989,\n",
       "         0.00101989, 0.36199396, 0.36199396, 0.20284568, 0.20284568,\n",
       "         0.23225377, 0.23225377, 0.41726501, 0.41726501, 0.85935208,\n",
       "         0.85935208, 0.36419219, 0.36419219, 0.3992066 , 0.3992066 ,\n",
       "         0.67993139, 0.67993139, 0.3830886 , 0.3830886 , 0.07727693,\n",
       "         0.07727693, 0.72818915, 0.72818915, 0.34149488, 0.34149488,\n",
       "         0.50558245, 0.50558245, 0.56957214, 0.56957214, 0.43304532,\n",
       "         0.43304532, 0.19156725, 0.19156725, 0.13153199, 0.13153199,\n",
       "         0.97005127, 0.97005127, 0.41528863, 0.41528863, 0.10979434,\n",
       "         0.10979434, 0.83356642, 0.83356642, 0.55555127, 0.55555127,\n",
       "         0.59572044, 0.59572044, 0.78180048, 0.78180048, 0.13518777,\n",
       "         0.13518777, 0.69247846, 0.69247846, 0.89776331, 0.89776331,\n",
       "         0.73255672, 0.73255672, 0.12322418, 0.12322418, 0.53295911,\n",
       "         0.53295911, 0.50805266, 0.50805266, 0.31822574, 0.31822574,\n",
       "         0.03709555, 0.03709555, 0.20196306, 0.20196306, 0.94409446,\n",
       "         0.94409446, 0.09123778, 0.09123778, 0.30696187, 0.30696187,\n",
       "         0.73450985, 0.73450985, 0.87027724, 0.87027724, 0.97357988,\n",
       "         0.97357988, 0.74557351, 0.74557351, 0.89239246, 0.89239246,\n",
       "         0.0437937 , 0.0437937 , 0.80012898, 0.80012898, 0.05433349,\n",
       "         0.05433349, 0.89161023, 0.89161023, 0.85498284, 0.85498284,\n",
       "         0.65654226, 0.65654226, 0.64408564, 0.64408564, 0.15785274,\n",
       "         0.15785274, 0.6621087 , 0.6621087 , 0.42449183, 0.42449183])}}"
      ]
     },
     "execution_count": 1,
     "metadata": {},
     "output_type": "execute_result"
    }
   ],
   "source": [
    "ds = load_by_id(run_id_n)\n",
    "ds.get_parameter_data('x1')"
   ]
  },
  {
   "cell_type": "markdown",
   "metadata": {},
   "source": [
    "And a dataset stored as binary arrays"
   ]
  },
  {
   "cell_type": "code",
   "execution_count": 12,
   "metadata": {
    "execution": {
     "iopub.execute_input": "2021-01-11T11:50:36.707751Z",
     "iopub.status.busy": "2021-01-11T11:50:36.707233Z",
     "iopub.status.idle": "2021-01-11T11:50:36.763615Z",
     "shell.execute_reply": "2021-01-11T11:50:36.764217Z"
    },
    "scrolled": true
   },
   "outputs": [
    {
     "data": {
      "text/plain": [
       "{'x1': {'x1': array([[0.71313529],\n",
       "         [0.71313529],\n",
       "         [0.55171332],\n",
       "         [0.55171332],\n",
       "         [0.70497277],\n",
       "         [0.70497277],\n",
       "         [0.23675625],\n",
       "         [0.23675625],\n",
       "         [0.28249764],\n",
       "         [0.28249764],\n",
       "         [0.70621511],\n",
       "         [0.70621511],\n",
       "         [0.21025242],\n",
       "         [0.21025242],\n",
       "         [0.5154297 ],\n",
       "         [0.5154297 ],\n",
       "         [0.23644177],\n",
       "         [0.23644177],\n",
       "         [0.06524007],\n",
       "         [0.06524007],\n",
       "         [0.26777453],\n",
       "         [0.26777453],\n",
       "         [0.82673204],\n",
       "         [0.82673204],\n",
       "         [0.58850014],\n",
       "         [0.58850014],\n",
       "         [0.84006558],\n",
       "         [0.84006558],\n",
       "         [0.660587  ],\n",
       "         [0.660587  ],\n",
       "         [0.32968963],\n",
       "         [0.32968963],\n",
       "         [0.87587335],\n",
       "         [0.87587335],\n",
       "         [0.16368028],\n",
       "         [0.16368028],\n",
       "         [0.5420785 ],\n",
       "         [0.5420785 ],\n",
       "         [0.82189642],\n",
       "         [0.82189642],\n",
       "         [0.30765015],\n",
       "         [0.30765015],\n",
       "         [0.93914868],\n",
       "         [0.93914868],\n",
       "         [0.2347008 ],\n",
       "         [0.2347008 ],\n",
       "         [0.60822748],\n",
       "         [0.60822748],\n",
       "         [0.38388434],\n",
       "         [0.38388434],\n",
       "         [0.78719598],\n",
       "         [0.78719598],\n",
       "         [0.36535908],\n",
       "         [0.36535908],\n",
       "         [0.44109443],\n",
       "         [0.44109443],\n",
       "         [0.97365109],\n",
       "         [0.97365109],\n",
       "         [0.85554086],\n",
       "         [0.85554086],\n",
       "         [0.73112402],\n",
       "         [0.73112402],\n",
       "         [0.93385575],\n",
       "         [0.93385575],\n",
       "         [0.67702381],\n",
       "         [0.67702381],\n",
       "         [0.65005305],\n",
       "         [0.65005305],\n",
       "         [0.50909365],\n",
       "         [0.50909365],\n",
       "         [0.99294487],\n",
       "         [0.99294487],\n",
       "         [0.21879072],\n",
       "         [0.21879072],\n",
       "         [0.9950718 ],\n",
       "         [0.9950718 ],\n",
       "         [0.66317504],\n",
       "         [0.66317504],\n",
       "         [0.79229148],\n",
       "         [0.79229148],\n",
       "         [0.48850164],\n",
       "         [0.48850164],\n",
       "         [0.69477923],\n",
       "         [0.69477923],\n",
       "         [0.28989675],\n",
       "         [0.28989675],\n",
       "         [0.58847059],\n",
       "         [0.58847059],\n",
       "         [0.64517094],\n",
       "         [0.64517094],\n",
       "         [0.48064363],\n",
       "         [0.48064363],\n",
       "         [0.19930377],\n",
       "         [0.19930377],\n",
       "         [0.20856487],\n",
       "         [0.20856487],\n",
       "         [0.30010593],\n",
       "         [0.30010593],\n",
       "         [0.72377438],\n",
       "         [0.72377438],\n",
       "         [0.37383478],\n",
       "         [0.37383478],\n",
       "         [0.28636253],\n",
       "         [0.28636253],\n",
       "         [0.26127569],\n",
       "         [0.26127569],\n",
       "         [0.67316312],\n",
       "         [0.67316312],\n",
       "         [0.26810096],\n",
       "         [0.26810096],\n",
       "         [0.87275546],\n",
       "         [0.87275546],\n",
       "         [0.54605688],\n",
       "         [0.54605688],\n",
       "         [0.40784098],\n",
       "         [0.40784098],\n",
       "         [0.88080234],\n",
       "         [0.88080234],\n",
       "         [0.68321475],\n",
       "         [0.68321475],\n",
       "         [0.82990532],\n",
       "         [0.82990532],\n",
       "         [0.68485697],\n",
       "         [0.68485697],\n",
       "         [0.4007492 ],\n",
       "         [0.4007492 ],\n",
       "         [0.58423202],\n",
       "         [0.58423202],\n",
       "         [0.57086388],\n",
       "         [0.57086388],\n",
       "         [0.12863422],\n",
       "         [0.12863422],\n",
       "         [0.87643263],\n",
       "         [0.87643263],\n",
       "         [0.35642119],\n",
       "         [0.35642119],\n",
       "         [0.09385915],\n",
       "         [0.09385915],\n",
       "         [0.27774368],\n",
       "         [0.27774368],\n",
       "         [0.61212801],\n",
       "         [0.61212801],\n",
       "         [0.65148935],\n",
       "         [0.65148935],\n",
       "         [0.83211884],\n",
       "         [0.83211884],\n",
       "         [0.75180672],\n",
       "         [0.75180672],\n",
       "         [0.64772258],\n",
       "         [0.64772258],\n",
       "         [0.8128548 ],\n",
       "         [0.8128548 ],\n",
       "         [0.33200286],\n",
       "         [0.33200286],\n",
       "         [0.66819329],\n",
       "         [0.66819329],\n",
       "         [0.83988858],\n",
       "         [0.83988858],\n",
       "         [0.82541823],\n",
       "         [0.82541823],\n",
       "         [0.28808469],\n",
       "         [0.28808469],\n",
       "         [0.59724822],\n",
       "         [0.59724822],\n",
       "         [0.99399284],\n",
       "         [0.99399284],\n",
       "         [0.42107337],\n",
       "         [0.42107337],\n",
       "         [0.75877162],\n",
       "         [0.75877162],\n",
       "         [0.86474743],\n",
       "         [0.86474743],\n",
       "         [0.0491649 ],\n",
       "         [0.0491649 ],\n",
       "         [0.04276029],\n",
       "         [0.04276029],\n",
       "         [0.54289985],\n",
       "         [0.54289985],\n",
       "         [0.29689758],\n",
       "         [0.29689758],\n",
       "         [0.25775021],\n",
       "         [0.25775021],\n",
       "         [0.78035903],\n",
       "         [0.78035903],\n",
       "         [0.68838296],\n",
       "         [0.68838296],\n",
       "         [0.08528875],\n",
       "         [0.08528875],\n",
       "         [0.1282771 ],\n",
       "         [0.1282771 ],\n",
       "         [0.98645663],\n",
       "         [0.98645663],\n",
       "         [0.26994039],\n",
       "         [0.26994039],\n",
       "         [0.10927975],\n",
       "         [0.10927975],\n",
       "         [0.12589745],\n",
       "         [0.12589745],\n",
       "         [0.12681403],\n",
       "         [0.12681403]])}}"
      ]
     },
     "execution_count": 1,
     "metadata": {},
     "output_type": "execute_result"
    }
   ],
   "source": [
    "ds = load_by_id(run_id_a)\n",
    "ds.get_parameter_data('x1')"
   ]
  },
  {
   "cell_type": "code",
   "execution_count": null,
   "metadata": {},
   "outputs": [],
   "source": []
  }
 ],
 "metadata": {
  "kernelspec": {
   "display_name": "Python 3",
   "language": "python",
   "name": "python3"
  },
  "language_info": {
   "codemirror_mode": {
    "name": "ipython",
    "version": 3
   },
   "file_extension": ".py",
   "mimetype": "text/x-python",
   "name": "python",
   "nbconvert_exporter": "python",
   "pygments_lexer": "ipython3",
   "version": "3.7.9"
  },
  "nbsphinx": {
   "timeout": 600
  },
  "toc": {
   "base_numbering": 1,
   "nav_menu": {},
   "number_sections": true,
   "sideBar": true,
   "skip_h1_title": false,
   "title_cell": "Table of Contents",
   "title_sidebar": "Contents",
   "toc_cell": false,
   "toc_position": {},
   "toc_section_display": true,
   "toc_window_display": false
  },
  "varInspector": {
   "cols": {
    "lenName": 16,
    "lenType": 16,
    "lenVar": 40
   },
   "kernels_config": {
    "python": {
     "delete_cmd_postfix": "",
     "delete_cmd_prefix": "del ",
     "library": "var_list.py",
     "varRefreshCmd": "print(var_dic_list())"
    },
    "r": {
     "delete_cmd_postfix": ") ",
     "delete_cmd_prefix": "rm(",
     "library": "var_list.r",
     "varRefreshCmd": "cat(var_dic_list()) "
    }
   },
   "types_to_exclude": [
    "module",
    "function",
    "builtin_function_or_method",
    "instance",
    "_Feature"
   ],
   "window_display": false
  }
 },
 "nbformat": 4,
 "nbformat_minor": 2
}
