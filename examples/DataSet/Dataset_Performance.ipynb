{
 "cells": [
  {
   "cell_type": "markdown",
   "metadata": {},
   "source": [
    "# DataSet Performance\n",
    "\n",
    "This notebook shows the trade-off between inserting data into a database row-by-row and as binary blobs. Inserting the data row-by-row means that we have direct access to all the data and may perform queries directly on the values of the data. On the other hand, as we shall see, this is much slower than inserting the data directly as binary blobs."
   ]
  },
  {
   "cell_type": "markdown",
   "metadata": {},
   "source": [
    "First, we choose a new location for the database to ensure that we don't add a bunch of benchmarking data to the default one."
   ]
  },
  {
   "cell_type": "code",
   "execution_count": 1,
   "metadata": {
    "execution": {
     "iopub.execute_input": "2021-03-01T12:59:56.439563Z",
     "iopub.status.busy": "2021-03-01T12:59:56.438641Z",
     "iopub.status.idle": "2021-03-01T12:59:57.344067Z",
     "shell.execute_reply": "2021-03-01T12:59:57.344557Z"
    }
   },
   "outputs": [
    {
     "name": "stdout",
     "output_type": "stream",
     "text": [
      "Logging hadn't been started.\n",
      "Activating auto-logging. Current session state plus future input saved.\n",
      "Filename       : /home/runner/.qcodes/logs/command_history.log\n",
      "Mode           : append\n",
      "Output logging : True\n",
      "Raw input log  : False\n",
      "Timestamping   : True\n",
      "State          : active\n"
     ]
    },
    {
     "name": "stdout",
     "output_type": "stream",
     "text": [
      "Qcodes Logfile : /home/runner/.qcodes/logs/210301-4025-qcodes.log\n"
     ]
    }
   ],
   "source": [
    "import os\n",
    "cwd = os.getcwd()\n",
    "import qcodes as qc\n",
    "qc.config[\"core\"][\"db_location\"] = os.path.join(cwd, 'testing.db')\n"
   ]
  },
  {
   "cell_type": "code",
   "execution_count": 2,
   "metadata": {
    "execution": {
     "iopub.execute_input": "2021-03-01T12:59:57.352151Z",
     "iopub.status.busy": "2021-03-01T12:59:57.350452Z",
     "iopub.status.idle": "2021-03-01T12:59:57.541618Z",
     "shell.execute_reply": "2021-03-01T12:59:57.540993Z"
    }
   },
   "outputs": [],
   "source": [
    "%matplotlib inline\n",
    "import time\n",
    "import matplotlib.pyplot as plt\n",
    "import numpy as np\n",
    "\n",
    "import qcodes as qc\n",
    "from qcodes.instrument.parameter import ManualParameter\n",
    "from qcodes.dataset.experiment_container import (Experiment,\n",
    "                                                 load_last_experiment,\n",
    "                                                 new_experiment)\n",
    "from qcodes.dataset.sqlite.database import initialise_database\n",
    "from qcodes import load_or_create_experiment\n",
    "from qcodes.dataset.measurements import Measurement"
   ]
  },
  {
   "cell_type": "code",
   "execution_count": 3,
   "metadata": {
    "execution": {
     "iopub.execute_input": "2021-03-01T12:59:57.548359Z",
     "iopub.status.busy": "2021-03-01T12:59:57.547413Z",
     "iopub.status.idle": "2021-03-01T12:59:57.680056Z",
     "shell.execute_reply": "2021-03-01T12:59:57.679505Z"
    }
   },
   "outputs": [
    {
     "name": "stdout",
     "output_type": "stream",
     "text": [
      "\r",
      "0it [00:00, ?it/s]"
     ]
    },
    {
     "name": "stdout",
     "output_type": "stream",
     "text": [
      "\r",
      "Upgrading database; v0 -> v1: : 0it [00:00, ?it/s]"
     ]
    },
    {
     "name": "stdout",
     "output_type": "stream",
     "text": [
      "\r",
      "Upgrading database; v0 -> v1: : 0it [00:00, ?it/s]"
     ]
    },
    {
     "name": "stdout",
     "output_type": "stream",
     "text": [
      "\n",
      "\r",
      "  0%|          | 0/1 [00:00<?, ?it/s]"
     ]
    },
    {
     "name": "stdout",
     "output_type": "stream",
     "text": [
      "\r",
      "Upgrading database; v1 -> v2:   0%|          | 0/1 [00:00<?, ?it/s]"
     ]
    },
    {
     "name": "stdout",
     "output_type": "stream",
     "text": [
      "\r",
      "Upgrading database; v1 -> v2: 100%|██████████| 1/1 [00:00<00:00, 683.56it/s]"
     ]
    },
    {
     "name": "stdout",
     "output_type": "stream",
     "text": [
      "\n",
      "\r",
      "0it [00:00, ?it/s]"
     ]
    },
    {
     "name": "stdout",
     "output_type": "stream",
     "text": [
      "\r",
      "Upgrading database; v2 -> v3: : 0it [00:00, ?it/s]"
     ]
    },
    {
     "name": "stdout",
     "output_type": "stream",
     "text": [
      "\r",
      "Upgrading database; v2 -> v3: : 0it [00:00, ?it/s]"
     ]
    },
    {
     "name": "stdout",
     "output_type": "stream",
     "text": [
      "\n",
      "\r",
      "0it [00:00, ?it/s]"
     ]
    },
    {
     "name": "stdout",
     "output_type": "stream",
     "text": [
      "\r",
      "Upgrading database; v3 -> v4: : 0it [00:00, ?it/s]"
     ]
    },
    {
     "name": "stdout",
     "output_type": "stream",
     "text": [
      "\r",
      "Upgrading database; v3 -> v4: : 0it [00:00, ?it/s]"
     ]
    },
    {
     "name": "stdout",
     "output_type": "stream",
     "text": [
      "\n",
      "\r",
      "  0%|          | 0/1 [00:00<?, ?it/s]"
     ]
    },
    {
     "name": "stdout",
     "output_type": "stream",
     "text": [
      "\r",
      "Upgrading database; v4 -> v5:   0%|          | 0/1 [00:00<?, ?it/s]"
     ]
    },
    {
     "name": "stdout",
     "output_type": "stream",
     "text": [
      "\r",
      "Upgrading database; v4 -> v5: 100%|██████████| 1/1 [00:00<00:00, 563.30it/s]"
     ]
    },
    {
     "name": "stdout",
     "output_type": "stream",
     "text": [
      "\n",
      "\r",
      "0it [00:00, ?it/s]"
     ]
    },
    {
     "name": "stdout",
     "output_type": "stream",
     "text": [
      "\r",
      "Upgrading database; v5 -> v6: : 0it [00:00, ?it/s]"
     ]
    },
    {
     "name": "stdout",
     "output_type": "stream",
     "text": [
      "\r",
      "Upgrading database; v5 -> v6: : 0it [00:00, ?it/s]"
     ]
    },
    {
     "name": "stdout",
     "output_type": "stream",
     "text": [
      "\n",
      "\r",
      "  0%|          | 0/1 [00:00<?, ?it/s]"
     ]
    },
    {
     "name": "stdout",
     "output_type": "stream",
     "text": [
      "\r",
      "Upgrading database; v6 -> v7:   0%|          | 0/1 [00:00<?, ?it/s]"
     ]
    },
    {
     "name": "stdout",
     "output_type": "stream",
     "text": [
      "\r",
      "Upgrading database; v6 -> v7: 100%|██████████| 1/1 [00:00<00:00, 309.04it/s]"
     ]
    },
    {
     "name": "stdout",
     "output_type": "stream",
     "text": [
      "\n",
      "\r",
      "  0%|          | 0/1 [00:00<?, ?it/s]"
     ]
    },
    {
     "name": "stdout",
     "output_type": "stream",
     "text": [
      "\r",
      "Upgrading database; v7 -> v8:   0%|          | 0/1 [00:00<?, ?it/s]"
     ]
    },
    {
     "name": "stdout",
     "output_type": "stream",
     "text": [
      "\r",
      "Upgrading database; v7 -> v8: 100%|██████████| 1/1 [00:00<00:00, 463.10it/s]"
     ]
    },
    {
     "name": "stdout",
     "output_type": "stream",
     "text": [
      "\n",
      "\r",
      "  0%|          | 0/1 [00:00<?, ?it/s]"
     ]
    },
    {
     "name": "stdout",
     "output_type": "stream",
     "text": [
      "\r",
      "Upgrading database; v8 -> v9:   0%|          | 0/1 [00:00<?, ?it/s]"
     ]
    },
    {
     "name": "stdout",
     "output_type": "stream",
     "text": [
      "\r",
      "Upgrading database; v8 -> v9: 100%|██████████| 1/1 [00:00<00:00, 509.33it/s]"
     ]
    },
    {
     "name": "stdout",
     "output_type": "stream",
     "text": [
      "\n"
     ]
    }
   ],
   "source": [
    "initialise_database()\n",
    "exp = load_or_create_experiment(experiment_name='tutorial_exp', sample_name=\"no sample\")"
   ]
  },
  {
   "cell_type": "markdown",
   "metadata": {},
   "source": [
    "Here, we define a simple function to benchmark the time it takes to insert n points with either numeric or array data type.\n",
    "We will compare both the time used to call ``add_result`` and the time used for the full measurement."
   ]
  },
  {
   "cell_type": "code",
   "execution_count": 4,
   "metadata": {
    "execution": {
     "iopub.execute_input": "2021-03-01T12:59:57.694424Z",
     "iopub.status.busy": "2021-03-01T12:59:57.693724Z",
     "iopub.status.idle": "2021-03-01T12:59:57.720037Z",
     "shell.execute_reply": "2021-03-01T12:59:57.724341Z"
    }
   },
   "outputs": [],
   "source": [
    "def insert_data(paramtype, npoints, nreps=1):\n",
    "\n",
    "    meas = Measurement(exp=exp)\n",
    "\n",
    "    x1 = ManualParameter('x1')\n",
    "    x2 = ManualParameter('x2')\n",
    "    x3 = ManualParameter('x3')\n",
    "    y1 = ManualParameter('y1')\n",
    "    y2 = ManualParameter('y2')\n",
    "\n",
    "    meas.register_parameter(x1, paramtype=paramtype)\n",
    "    meas.register_parameter(x2, paramtype=paramtype)\n",
    "    meas.register_parameter(x3, paramtype=paramtype)\n",
    "    meas.register_parameter(y1, setpoints=[x1, x2, x3],\n",
    "                            paramtype=paramtype)\n",
    "    meas.register_parameter(y2, setpoints=[x1, x2, x3],\n",
    "                            paramtype=paramtype)\n",
    "    start = time.perf_counter()\n",
    "    with meas.run() as datasaver:\n",
    "        start_adding = time.perf_counter()\n",
    "        for i in range(nreps):\n",
    "            datasaver.add_result((x1, np.random.rand(npoints)),\n",
    "                                 (x2, np.random.rand(npoints)),\n",
    "                                 (x3, np.random.rand(npoints)),\n",
    "                                 (y1, np.random.rand(npoints)),\n",
    "                                 (y2, np.random.rand(npoints)))\n",
    "        stop_adding = time.perf_counter()\n",
    "        run_id = datasaver.run_id\n",
    "    stop = time.perf_counter()\n",
    "    tot_time = stop - start\n",
    "    add_time = stop_adding - start_adding\n",
    "    return tot_time, add_time, run_id"
   ]
  },
  {
   "cell_type": "markdown",
   "metadata": {},
   "source": [
    "## Comparison between numeric/array data and binary blob"
   ]
  },
  {
   "cell_type": "markdown",
   "metadata": {},
   "source": [
    "### Case1: Short experiment time"
   ]
  },
  {
   "cell_type": "code",
   "execution_count": 5,
   "metadata": {
    "execution": {
     "iopub.execute_input": "2021-03-01T12:59:57.731487Z",
     "iopub.status.busy": "2021-03-01T12:59:57.730457Z",
     "iopub.status.idle": "2021-03-01T12:59:58.550978Z",
     "shell.execute_reply": "2021-03-01T12:59:58.551780Z"
    }
   },
   "outputs": [
    {
     "name": "stdout",
     "output_type": "stream",
     "text": [
      "Starting experimental run with id: 1. \n",
      "Starting experimental run with id: 2. \n",
      "Starting experimental run with id: 3. \n"
     ]
    },
    {
     "name": "stdout",
     "output_type": "stream",
     "text": [
      "Starting experimental run with id: 4. \n"
     ]
    },
    {
     "name": "stdout",
     "output_type": "stream",
     "text": [
      "Starting experimental run with id: 5. "
     ]
    },
    {
     "name": "stdout",
     "output_type": "stream",
     "text": [
      "\n"
     ]
    },
    {
     "name": "stdout",
     "output_type": "stream",
     "text": [
      "Starting experimental run with id: 6. \n",
      "Starting experimental run with id: 7. \n"
     ]
    },
    {
     "name": "stdout",
     "output_type": "stream",
     "text": [
      "Starting experimental run with id: 8. \n",
      "Starting experimental run with id: 9. \n"
     ]
    },
    {
     "name": "stdout",
     "output_type": "stream",
     "text": [
      "Starting experimental run with id: 10. \n",
      "Starting experimental run with id: 11. \n"
     ]
    },
    {
     "name": "stdout",
     "output_type": "stream",
     "text": [
      "Starting experimental run with id: 12. \n",
      "Starting experimental run with id: 13. \n"
     ]
    },
    {
     "name": "stdout",
     "output_type": "stream",
     "text": [
      "Starting experimental run with id: 14. \n"
     ]
    }
   ],
   "source": [
    "sizes = [1,500,1000,2000,3000,4000,5000]\n",
    "t_numeric = []\n",
    "t_numeric_add = []\n",
    "t_array = []\n",
    "t_array_add = []\n",
    "for size in sizes:\n",
    "    tn, tna, run_id_n =  insert_data('numeric', size)\n",
    "    t_numeric.append(tn)\n",
    "    t_numeric_add.append(tna)\n",
    "\n",
    "    ta, taa, run_id_a =  insert_data('array', size)\n",
    "    t_array.append(ta)\n",
    "    t_array_add.append(taa)"
   ]
  },
  {
   "cell_type": "code",
   "execution_count": 6,
   "metadata": {
    "execution": {
     "iopub.execute_input": "2021-03-01T12:59:58.580602Z",
     "iopub.status.busy": "2021-03-01T12:59:58.573258Z",
     "iopub.status.idle": "2021-03-01T12:59:58.792281Z",
     "shell.execute_reply": "2021-03-01T12:59:58.793130Z"
    }
   },
   "outputs": [
    {
     "data": {
      "image/png": "[encoded data removed]",
      "text/plain": [
       "<Figure size 432x288 with 1 Axes>"
      ]
     },
     "metadata": {
      "needs_background": "light"
     },
     "output_type": "display_data"
    }
   ],
   "source": [
    "fig, ax = plt.subplots(1,1)\n",
    "ax.plot(sizes, t_numeric, 'o-', label='Inserting row-by-row')\n",
    "ax.plot(sizes, t_numeric_add, 'o-', label='Inserting row-by-row: add_result only')\n",
    "ax.plot(sizes, t_array, 'd-', label='Inserting as binary blob')\n",
    "ax.plot(sizes, t_array_add, 'd-', label='Inserting as binary blob: add_result only')\n",
    "ax.legend()\n",
    "ax.set_xlabel('Array length')\n",
    "ax.set_ylabel('Time (s)')\n",
    "fig.tight_layout()"
   ]
  },
  {
   "cell_type": "markdown",
   "metadata": {},
   "source": [
    "As shown in the latter figure, the time to setup and and close the experiment is approximately 0.4 sec. In case of small array sizes, the difference between inserting values of data as arrays and inserting them row-by-row is relatively unimportant. At larger array sizes, i.e. above 10000 points, the cost of writing data as individual datapoints starts to become important.\n"
   ]
  },
  {
   "cell_type": "markdown",
   "metadata": {},
   "source": [
    "### Case2: Long experiment time "
   ]
  },
  {
   "cell_type": "code",
   "execution_count": 7,
   "metadata": {
    "execution": {
     "iopub.execute_input": "2021-03-01T12:59:58.801781Z",
     "iopub.status.busy": "2021-03-01T12:59:58.800351Z",
     "iopub.status.idle": "2021-03-01T13:00:58.443105Z",
     "shell.execute_reply": "2021-03-01T13:00:58.442592Z"
    }
   },
   "outputs": [
    {
     "name": "stdout",
     "output_type": "stream",
     "text": [
      "Starting experimental run with id: 15. \n",
      "Starting experimental run with id: 16. \n"
     ]
    },
    {
     "name": "stdout",
     "output_type": "stream",
     "text": [
      "Starting experimental run with id: 17. \n"
     ]
    },
    {
     "name": "stdout",
     "output_type": "stream",
     "text": [
      "Starting experimental run with id: 18. \n"
     ]
    },
    {
     "name": "stdout",
     "output_type": "stream",
     "text": [
      "Starting experimental run with id: 19. \n"
     ]
    },
    {
     "name": "stdout",
     "output_type": "stream",
     "text": [
      "Starting experimental run with id: 20. \n"
     ]
    },
    {
     "name": "stdout",
     "output_type": "stream",
     "text": [
      "Starting experimental run with id: 21. \n"
     ]
    },
    {
     "name": "stdout",
     "output_type": "stream",
     "text": [
      "Starting experimental run with id: 22. \n"
     ]
    },
    {
     "name": "stdout",
     "output_type": "stream",
     "text": [
      "Starting experimental run with id: 23. \n"
     ]
    },
    {
     "name": "stdout",
     "output_type": "stream",
     "text": [
      "Starting experimental run with id: 24. \n"
     ]
    },
    {
     "name": "stdout",
     "output_type": "stream",
     "text": [
      "Starting experimental run with id: 25. \n"
     ]
    },
    {
     "name": "stdout",
     "output_type": "stream",
     "text": [
      "Starting experimental run with id: 26. \n"
     ]
    },
    {
     "name": "stdout",
     "output_type": "stream",
     "text": [
      "Starting experimental run with id: 27. \n"
     ]
    },
    {
     "name": "stdout",
     "output_type": "stream",
     "text": [
      "Starting experimental run with id: 28. \n"
     ]
    }
   ],
   "source": [
    "sizes = [1,500,1000,2000,3000,4000,5000]\n",
    "nreps = 100\n",
    "t_numeric = []\n",
    "t_numeric_add = []\n",
    "t_numeric_run_ids = []\n",
    "t_array = []\n",
    "t_array_add = []\n",
    "t_array_run_ids = []\n",
    "for size in sizes:\n",
    "    tn, tna, run_id_n =  insert_data('numeric', size, nreps=nreps)\n",
    "    t_numeric.append(tn)\n",
    "    t_numeric_add.append(tna)\n",
    "    t_numeric_run_ids.append(run_id_n)\n",
    "\n",
    "    ta, taa, run_id_a =  insert_data('array', size, nreps=nreps)\n",
    "    t_array.append(ta)\n",
    "    t_array_add.append(taa)\n",
    "    t_array_run_ids.append(run_id_a)"
   ]
  },
  {
   "cell_type": "code",
   "execution_count": 8,
   "metadata": {
    "execution": {
     "iopub.execute_input": "2021-03-01T13:00:58.462002Z",
     "iopub.status.busy": "2021-03-01T13:00:58.459817Z",
     "iopub.status.idle": "2021-03-01T13:00:58.676568Z",
     "shell.execute_reply": "2021-03-01T13:00:58.677031Z"
    },
    "scrolled": true
   },
   "outputs": [
    {
     "data": {
      "image/png": "[encoded data removed]",
      "text/plain": [
       "<Figure size 432x288 with 1 Axes>"
      ]
     },
     "metadata": {
      "needs_background": "light"
     },
     "output_type": "display_data"
    }
   ],
   "source": [
    "fig, ax = plt.subplots(1,1)\n",
    "ax.plot(sizes, t_numeric, 'o-', label='Inserting row-by-row')\n",
    "ax.plot(sizes, t_numeric_add, 'o-', label='Inserting row-by-row: add_result only')\n",
    "ax.plot(sizes, t_array, 'd-', label='Inserting as binary blob')\n",
    "ax.plot(sizes, t_array_add, 'd-', label='Inserting as binary blob: add_result only')\n",
    "ax.legend()\n",
    "ax.set_xlabel('Array length')\n",
    "ax.set_ylabel('Time (s)')\n",
    "fig.tight_layout()"
   ]
  },
  {
   "cell_type": "markdown",
   "metadata": {},
   "source": [
    "However, as we increase the length of the experiment, as seen here by repeating the insertion 100 times, we see a big difference between inserting values of the data row-by-row and inserting it as a binary blob."
   ]
  },
  {
   "cell_type": "markdown",
   "metadata": {},
   "source": [
    "## Loading the data "
   ]
  },
  {
   "cell_type": "code",
   "execution_count": 9,
   "metadata": {
    "execution": {
     "iopub.execute_input": "2021-03-01T13:00:58.681853Z",
     "iopub.status.busy": "2021-03-01T13:00:58.681204Z",
     "iopub.status.idle": "2021-03-01T13:00:58.683655Z",
     "shell.execute_reply": "2021-03-01T13:00:58.684149Z"
    }
   },
   "outputs": [],
   "source": [
    "from qcodes.dataset.data_set import load_by_id\n",
    "from qcodes.dataset.data_export import get_data_by_id"
   ]
  },
  {
   "cell_type": "markdown",
   "metadata": {},
   "source": [
    "As usual you can load the data by using the ``load_by_id`` function but you will notice that the different storage methods\n",
    "are reflected in shape of the data as it is retrieved. "
   ]
  },
  {
   "cell_type": "code",
   "execution_count": 10,
   "metadata": {
    "execution": {
     "iopub.execute_input": "2021-03-01T13:00:58.689085Z",
     "iopub.status.busy": "2021-03-01T13:00:58.687778Z",
     "iopub.status.idle": "2021-03-01T13:00:58.689770Z",
     "shell.execute_reply": "2021-03-01T13:00:58.690287Z"
    }
   },
   "outputs": [],
   "source": [
    "run_id_n = t_numeric_run_ids[0]\n",
    "run_id_a = t_array_run_ids[0]"
   ]
  },
  {
   "cell_type": "code",
   "execution_count": 11,
   "metadata": {
    "execution": {
     "iopub.execute_input": "2021-03-01T13:00:58.693805Z",
     "iopub.status.busy": "2021-03-01T13:00:58.693163Z",
     "iopub.status.idle": "2021-03-01T13:00:58.702768Z",
     "shell.execute_reply": "2021-03-01T13:00:58.703221Z"
    },
    "scrolled": true
   },
   "outputs": [
    {
     "data": {
      "text/plain": [
       "{'x1': {'x1': array([0.22260852, 0.22260852, 0.41144601, 0.41144601, 0.70327659,\n",
       "         0.70327659, 0.651355  , 0.651355  , 0.60452741, 0.60452741,\n",
       "         0.861679  , 0.861679  , 0.76324688, 0.76324688, 0.66661997,\n",
       "         0.66661997, 0.34419281, 0.34419281, 0.24277571, 0.24277571,\n",
       "         0.37881901, 0.37881901, 0.19276527, 0.19276527, 0.25734885,\n",
       "         0.25734885, 0.68640847, 0.68640847, 0.65005152, 0.65005152,\n",
       "         0.90563143, 0.90563143, 0.3581721 , 0.3581721 , 0.98048348,\n",
       "         0.98048348, 0.03209063, 0.03209063, 0.48644336, 0.48644336,\n",
       "         0.57193842, 0.57193842, 0.75868638, 0.75868638, 0.19201185,\n",
       "         0.19201185, 0.97480097, 0.97480097, 0.99646091, 0.99646091,\n",
       "         0.46267399, 0.46267399, 0.82240787, 0.82240787, 0.72025833,\n",
       "         0.72025833, 0.29004729, 0.29004729, 0.63701977, 0.63701977,\n",
       "         0.07320975, 0.07320975, 0.51717235, 0.51717235, 0.78209979,\n",
       "         0.78209979, 0.74929485, 0.74929485, 0.4547626 , 0.4547626 ,\n",
       "         0.57432695, 0.57432695, 0.38200816, 0.38200816, 0.45361349,\n",
       "         0.45361349, 0.51069701, 0.51069701, 0.54255206, 0.54255206,\n",
       "         0.80400539, 0.80400539, 0.19371779, 0.19371779, 0.28680807,\n",
       "         0.28680807, 0.98623813, 0.98623813, 0.46995816, 0.46995816,\n",
       "         0.34651697, 0.34651697, 0.73452035, 0.73452035, 0.00726789,\n",
       "         0.00726789, 0.66721211, 0.66721211, 0.33425447, 0.33425447,\n",
       "         0.40344071, 0.40344071, 0.74460827, 0.74460827, 0.67018639,\n",
       "         0.67018639, 0.69287805, 0.69287805, 0.54558254, 0.54558254,\n",
       "         0.81507757, 0.81507757, 0.92378656, 0.92378656, 0.98910498,\n",
       "         0.98910498, 0.74190558, 0.74190558, 0.76550919, 0.76550919,\n",
       "         0.41713311, 0.41713311, 0.68316185, 0.68316185, 0.52398221,\n",
       "         0.52398221, 0.05719537, 0.05719537, 0.19347963, 0.19347963,\n",
       "         0.71140085, 0.71140085, 0.77939478, 0.77939478, 0.29102532,\n",
       "         0.29102532, 0.13828125, 0.13828125, 0.93834212, 0.93834212,\n",
       "         0.87898683, 0.87898683, 0.2513464 , 0.2513464 , 0.46822857,\n",
       "         0.46822857, 0.38794654, 0.38794654, 0.85295281, 0.85295281,\n",
       "         0.01845006, 0.01845006, 0.83275173, 0.83275173, 0.60785459,\n",
       "         0.60785459, 0.09860014, 0.09860014, 0.90834992, 0.90834992,\n",
       "         0.20945598, 0.20945598, 0.27919047, 0.27919047, 0.94250333,\n",
       "         0.94250333, 0.84987955, 0.84987955, 0.91096834, 0.91096834,\n",
       "         0.63840491, 0.63840491, 0.70683651, 0.70683651, 0.21677575,\n",
       "         0.21677575, 0.90271319, 0.90271319, 0.76875905, 0.76875905,\n",
       "         0.14732201, 0.14732201, 0.19179438, 0.19179438, 0.41057224,\n",
       "         0.41057224, 0.55356196, 0.55356196, 0.0249968 , 0.0249968 ,\n",
       "         0.72709473, 0.72709473, 0.49946756, 0.49946756, 0.2492985 ,\n",
       "         0.2492985 , 0.0337504 , 0.0337504 , 0.19591035, 0.19591035])}}"
      ]
     },
     "execution_count": 1,
     "metadata": {},
     "output_type": "execute_result"
    }
   ],
   "source": [
    "ds = load_by_id(run_id_n)\n",
    "ds.get_parameter_data('x1')"
   ]
  },
  {
   "cell_type": "markdown",
   "metadata": {},
   "source": [
    "And a dataset stored as binary arrays"
   ]
  },
  {
   "cell_type": "code",
   "execution_count": 12,
   "metadata": {
    "execution": {
     "iopub.execute_input": "2021-03-01T13:00:58.706927Z",
     "iopub.status.busy": "2021-03-01T13:00:58.706329Z",
     "iopub.status.idle": "2021-03-01T13:00:58.770090Z",
     "shell.execute_reply": "2021-03-01T13:00:58.770635Z"
    },
    "scrolled": true
   },
   "outputs": [
    {
     "data": {
      "text/plain": [
       "{'x1': {'x1': array([[0.52010791],\n",
       "         [0.52010791],\n",
       "         [0.65624705],\n",
       "         [0.65624705],\n",
       "         [0.33257027],\n",
       "         [0.33257027],\n",
       "         [0.58926857],\n",
       "         [0.58926857],\n",
       "         [0.99006178],\n",
       "         [0.99006178],\n",
       "         [0.15663061],\n",
       "         [0.15663061],\n",
       "         [0.06956594],\n",
       "         [0.06956594],\n",
       "         [0.37520385],\n",
       "         [0.37520385],\n",
       "         [0.42134517],\n",
       "         [0.42134517],\n",
       "         [0.71186512],\n",
       "         [0.71186512],\n",
       "         [0.98773902],\n",
       "         [0.98773902],\n",
       "         [0.04931032],\n",
       "         [0.04931032],\n",
       "         [0.04530827],\n",
       "         [0.04530827],\n",
       "         [0.28107565],\n",
       "         [0.28107565],\n",
       "         [0.01089107],\n",
       "         [0.01089107],\n",
       "         [0.24375635],\n",
       "         [0.24375635],\n",
       "         [0.69724849],\n",
       "         [0.69724849],\n",
       "         [0.17165768],\n",
       "         [0.17165768],\n",
       "         [0.16782812],\n",
       "         [0.16782812],\n",
       "         [0.01763318],\n",
       "         [0.01763318],\n",
       "         [0.13718384],\n",
       "         [0.13718384],\n",
       "         [0.26344112],\n",
       "         [0.26344112],\n",
       "         [0.32308421],\n",
       "         [0.32308421],\n",
       "         [0.53623399],\n",
       "         [0.53623399],\n",
       "         [0.59747816],\n",
       "         [0.59747816],\n",
       "         [0.30399025],\n",
       "         [0.30399025],\n",
       "         [0.94133069],\n",
       "         [0.94133069],\n",
       "         [0.18015548],\n",
       "         [0.18015548],\n",
       "         [0.19482668],\n",
       "         [0.19482668],\n",
       "         [0.70380551],\n",
       "         [0.70380551],\n",
       "         [0.38780656],\n",
       "         [0.38780656],\n",
       "         [0.19407717],\n",
       "         [0.19407717],\n",
       "         [0.44276044],\n",
       "         [0.44276044],\n",
       "         [0.13965818],\n",
       "         [0.13965818],\n",
       "         [0.28837121],\n",
       "         [0.28837121],\n",
       "         [0.21650733],\n",
       "         [0.21650733],\n",
       "         [0.94768008],\n",
       "         [0.94768008],\n",
       "         [0.38966339],\n",
       "         [0.38966339],\n",
       "         [0.85377163],\n",
       "         [0.85377163],\n",
       "         [0.29206853],\n",
       "         [0.29206853],\n",
       "         [0.25186118],\n",
       "         [0.25186118],\n",
       "         [0.03135335],\n",
       "         [0.03135335],\n",
       "         [0.89299546],\n",
       "         [0.89299546],\n",
       "         [0.90585231],\n",
       "         [0.90585231],\n",
       "         [0.47724924],\n",
       "         [0.47724924],\n",
       "         [0.62834054],\n",
       "         [0.62834054],\n",
       "         [0.94215963],\n",
       "         [0.94215963],\n",
       "         [0.19259855],\n",
       "         [0.19259855],\n",
       "         [0.29659119],\n",
       "         [0.29659119],\n",
       "         [0.54467754],\n",
       "         [0.54467754],\n",
       "         [0.07675909],\n",
       "         [0.07675909],\n",
       "         [0.52753945],\n",
       "         [0.52753945],\n",
       "         [0.08215507],\n",
       "         [0.08215507],\n",
       "         [0.94594873],\n",
       "         [0.94594873],\n",
       "         [0.12139216],\n",
       "         [0.12139216],\n",
       "         [0.86574436],\n",
       "         [0.86574436],\n",
       "         [0.54527105],\n",
       "         [0.54527105],\n",
       "         [0.05496133],\n",
       "         [0.05496133],\n",
       "         [0.86055401],\n",
       "         [0.86055401],\n",
       "         [0.32476912],\n",
       "         [0.32476912],\n",
       "         [0.11886623],\n",
       "         [0.11886623],\n",
       "         [0.4713713 ],\n",
       "         [0.4713713 ],\n",
       "         [0.30908098],\n",
       "         [0.30908098],\n",
       "         [0.10633789],\n",
       "         [0.10633789],\n",
       "         [0.76766775],\n",
       "         [0.76766775],\n",
       "         [0.94889849],\n",
       "         [0.94889849],\n",
       "         [0.72556992],\n",
       "         [0.72556992],\n",
       "         [0.07552834],\n",
       "         [0.07552834],\n",
       "         [0.8057202 ],\n",
       "         [0.8057202 ],\n",
       "         [0.23367418],\n",
       "         [0.23367418],\n",
       "         [0.06757403],\n",
       "         [0.06757403],\n",
       "         [0.7556529 ],\n",
       "         [0.7556529 ],\n",
       "         [0.71112513],\n",
       "         [0.71112513],\n",
       "         [0.37590786],\n",
       "         [0.37590786],\n",
       "         [0.16045024],\n",
       "         [0.16045024],\n",
       "         [0.66591641],\n",
       "         [0.66591641],\n",
       "         [0.97062408],\n",
       "         [0.97062408],\n",
       "         [0.43554675],\n",
       "         [0.43554675],\n",
       "         [0.0522706 ],\n",
       "         [0.0522706 ],\n",
       "         [0.27209303],\n",
       "         [0.27209303],\n",
       "         [0.9954282 ],\n",
       "         [0.9954282 ],\n",
       "         [0.05143489],\n",
       "         [0.05143489],\n",
       "         [0.25975896],\n",
       "         [0.25975896],\n",
       "         [0.15581545],\n",
       "         [0.15581545],\n",
       "         [0.02555922],\n",
       "         [0.02555922],\n",
       "         [0.4924719 ],\n",
       "         [0.4924719 ],\n",
       "         [0.32248059],\n",
       "         [0.32248059],\n",
       "         [0.59525887],\n",
       "         [0.59525887],\n",
       "         [0.17615036],\n",
       "         [0.17615036],\n",
       "         [0.59633089],\n",
       "         [0.59633089],\n",
       "         [0.81388296],\n",
       "         [0.81388296],\n",
       "         [0.21033256],\n",
       "         [0.21033256],\n",
       "         [0.5131368 ],\n",
       "         [0.5131368 ],\n",
       "         [0.87534897],\n",
       "         [0.87534897],\n",
       "         [0.50335699],\n",
       "         [0.50335699],\n",
       "         [0.57832283],\n",
       "         [0.57832283],\n",
       "         [0.38582318],\n",
       "         [0.38582318],\n",
       "         [0.75550017],\n",
       "         [0.75550017],\n",
       "         [0.04889847],\n",
       "         [0.04889847],\n",
       "         [0.45442446],\n",
       "         [0.45442446]])}}"
      ]
     },
     "execution_count": 1,
     "metadata": {},
     "output_type": "execute_result"
    }
   ],
   "source": [
    "ds = load_by_id(run_id_a)\n",
    "ds.get_parameter_data('x1')"
   ]
  },
  {
   "cell_type": "code",
   "execution_count": null,
   "metadata": {},
   "outputs": [],
   "source": []
  }
 ],
 "metadata": {
  "kernelspec": {
   "display_name": "Python 3",
   "language": "python",
   "name": "python3"
  },
  "language_info": {
   "codemirror_mode": {
    "name": "ipython",
    "version": 3
   },
   "file_extension": ".py",
   "mimetype": "text/x-python",
   "name": "python",
   "nbconvert_exporter": "python",
   "pygments_lexer": "ipython3",
   "version": "3.7.10"
  },
  "nbsphinx": {
   "timeout": 600
  },
  "toc": {
   "base_numbering": 1,
   "nav_menu": {},
   "number_sections": true,
   "sideBar": true,
   "skip_h1_title": false,
   "title_cell": "Table of Contents",
   "title_sidebar": "Contents",
   "toc_cell": false,
   "toc_position": {},
   "toc_section_display": true,
   "toc_window_display": false
  },
  "varInspector": {
   "cols": {
    "lenName": 16,
    "lenType": 16,
    "lenVar": 40
   },
   "kernels_config": {
    "python": {
     "delete_cmd_postfix": "",
     "delete_cmd_prefix": "del ",
     "library": "var_list.py",
     "varRefreshCmd": "print(var_dic_list())"
    },
    "r": {
     "delete_cmd_postfix": ") ",
     "delete_cmd_prefix": "rm(",
     "library": "var_list.r",
     "varRefreshCmd": "cat(var_dic_list()) "
    }
   },
   "types_to_exclude": [
    "module",
    "function",
    "builtin_function_or_method",
    "instance",
    "_Feature"
   ],
   "window_display": false
  }
 },
 "nbformat": 4,
 "nbformat_minor": 2
}
