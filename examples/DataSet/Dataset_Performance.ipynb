{
 "cells": [
  {
   "cell_type": "markdown",
   "metadata": {},
   "source": [
    "# DataSet Performance\n",
    "\n",
    "This notebook shows the trade-off between inserting data into a database row-by-row and as binary blobs. Inserting the data row-by-row means that we have direct access to all the data and may perform queries directly on the values of the data. On the other hand, as we shall see, this is much slower than inserting the data directly as binary blobs."
   ]
  },
  {
   "cell_type": "markdown",
   "metadata": {},
   "source": [
    "First, we choose a new location for the database to ensure that we don't add a bunch of benchmarking data to the default one."
   ]
  },
  {
   "cell_type": "code",
   "execution_count": 1,
   "metadata": {
    "execution": {
     "iopub.execute_input": "2020-10-05T13:08:09.726902Z",
     "iopub.status.busy": "2020-10-05T13:08:09.726047Z",
     "iopub.status.idle": "2020-10-05T13:08:10.635704Z",
     "shell.execute_reply": "2020-10-05T13:08:10.636117Z"
    }
   },
   "outputs": [
    {
     "name": "stdout",
     "output_type": "stream",
     "text": [
      "Logging hadn't been started.\n",
      "Activating auto-logging. Current session state plus future input saved.\n",
      "Filename       : /home/vsts/.qcodes/logs/command_history.log\n",
      "Mode           : append\n",
      "Output logging : True\n",
      "Raw input log  : False\n",
      "Timestamping   : True\n",
      "State          : active\n"
     ]
    },
    {
     "name": "stdout",
     "output_type": "stream",
     "text": [
      "Qcodes Logfile : /home/vsts/.qcodes/logs/201005-19019-qcodes.log\n"
     ]
    }
   ],
   "source": [
    "import os\n",
    "cwd = os.getcwd()\n",
    "import qcodes as qc\n",
    "qc.config[\"core\"][\"db_location\"] = os.path.join(cwd, 'testing.db')\n"
   ]
  },
  {
   "cell_type": "code",
   "execution_count": 2,
   "metadata": {
    "execution": {
     "iopub.execute_input": "2020-10-05T13:08:10.642648Z",
     "iopub.status.busy": "2020-10-05T13:08:10.641277Z",
     "iopub.status.idle": "2020-10-05T13:08:10.805423Z",
     "shell.execute_reply": "2020-10-05T13:08:10.804878Z"
    }
   },
   "outputs": [],
   "source": [
    "%matplotlib inline\n",
    "import time\n",
    "import matplotlib.pyplot as plt\n",
    "import numpy as np\n",
    "\n",
    "import qcodes as qc\n",
    "from qcodes.instrument.parameter import ManualParameter\n",
    "from qcodes.dataset.experiment_container import (Experiment,\n",
    "                                                 load_last_experiment,\n",
    "                                                 new_experiment)\n",
    "from qcodes.dataset.sqlite.database import initialise_database\n",
    "from qcodes import load_or_create_experiment\n",
    "from qcodes.dataset.measurements import Measurement"
   ]
  },
  {
   "cell_type": "code",
   "execution_count": 3,
   "metadata": {
    "execution": {
     "iopub.execute_input": "2020-10-05T13:08:10.809496Z",
     "iopub.status.busy": "2020-10-05T13:08:10.808819Z",
     "iopub.status.idle": "2020-10-05T13:08:10.913692Z",
     "shell.execute_reply": "2020-10-05T13:08:10.912993Z"
    }
   },
   "outputs": [
    {
     "name": "stdout",
     "output_type": "stream",
     "text": [
      "\r",
      "0it [00:00, ?it/s]"
     ]
    },
    {
     "name": "stdout",
     "output_type": "stream",
     "text": [
      "\r",
      "Upgrading database; v0 -> v1: : 0it [00:00, ?it/s]"
     ]
    },
    {
     "name": "stdout",
     "output_type": "stream",
     "text": [
      "\r",
      "Upgrading database; v0 -> v1: : 0it [00:00, ?it/s]"
     ]
    },
    {
     "name": "stdout",
     "output_type": "stream",
     "text": [
      "\n",
      "\r",
      "  0%|          | 0/1 [00:00<?, ?it/s]"
     ]
    },
    {
     "name": "stdout",
     "output_type": "stream",
     "text": [
      "\r",
      "Upgrading database; v1 -> v2:   0%|          | 0/1 [00:00<?, ?it/s]"
     ]
    },
    {
     "name": "stdout",
     "output_type": "stream",
     "text": [
      "\r",
      "Upgrading database; v1 -> v2: 100%|██████████| 1/1 [00:00<00:00, 389.95it/s]"
     ]
    },
    {
     "name": "stdout",
     "output_type": "stream",
     "text": [
      "\n",
      "\r",
      "0it [00:00, ?it/s]"
     ]
    },
    {
     "name": "stdout",
     "output_type": "stream",
     "text": [
      "\r",
      "Upgrading database; v2 -> v3: : 0it [00:00, ?it/s]"
     ]
    },
    {
     "name": "stdout",
     "output_type": "stream",
     "text": [
      "\r",
      "Upgrading database; v2 -> v3: : 0it [00:00, ?it/s]"
     ]
    },
    {
     "name": "stdout",
     "output_type": "stream",
     "text": [
      "\n",
      "\r",
      "0it [00:00, ?it/s]"
     ]
    },
    {
     "name": "stdout",
     "output_type": "stream",
     "text": [
      "\r",
      "Upgrading database; v3 -> v4: : 0it [00:00, ?it/s]"
     ]
    },
    {
     "name": "stdout",
     "output_type": "stream",
     "text": [
      "\r",
      "Upgrading database; v3 -> v4: : 0it [00:00, ?it/s]"
     ]
    },
    {
     "name": "stdout",
     "output_type": "stream",
     "text": [
      "\n",
      "\r",
      "  0%|          | 0/1 [00:00<?, ?it/s]"
     ]
    },
    {
     "name": "stdout",
     "output_type": "stream",
     "text": [
      "\r",
      "Upgrading database; v4 -> v5:   0%|          | 0/1 [00:00<?, ?it/s]"
     ]
    },
    {
     "name": "stdout",
     "output_type": "stream",
     "text": [
      "\r",
      "Upgrading database; v4 -> v5: 100%|██████████| 1/1 [00:00<00:00, 633.29it/s]"
     ]
    },
    {
     "name": "stdout",
     "output_type": "stream",
     "text": [
      "\n",
      "\r",
      "0it [00:00, ?it/s]"
     ]
    },
    {
     "name": "stdout",
     "output_type": "stream",
     "text": [
      "\r",
      "Upgrading database; v5 -> v6: : 0it [00:00, ?it/s]"
     ]
    },
    {
     "name": "stdout",
     "output_type": "stream",
     "text": [
      "\r",
      "Upgrading database; v5 -> v6: : 0it [00:00, ?it/s]"
     ]
    },
    {
     "name": "stdout",
     "output_type": "stream",
     "text": [
      "\n",
      "\r",
      "  0%|          | 0/1 [00:00<?, ?it/s]"
     ]
    },
    {
     "name": "stdout",
     "output_type": "stream",
     "text": [
      "\r",
      "Upgrading database; v6 -> v7:   0%|          | 0/1 [00:00<?, ?it/s]"
     ]
    },
    {
     "name": "stdout",
     "output_type": "stream",
     "text": [
      "\r",
      "Upgrading database; v6 -> v7: 100%|██████████| 1/1 [00:00<00:00, 167.18it/s]"
     ]
    },
    {
     "name": "stdout",
     "output_type": "stream",
     "text": [
      "\n",
      "\r",
      "  0%|          | 0/1 [00:00<?, ?it/s]"
     ]
    },
    {
     "name": "stdout",
     "output_type": "stream",
     "text": [
      "\r",
      "Upgrading database; v7 -> v8:   0%|          | 0/1 [00:00<?, ?it/s]"
     ]
    },
    {
     "name": "stdout",
     "output_type": "stream",
     "text": [
      "\r",
      "Upgrading database; v7 -> v8: 100%|██████████| 1/1 [00:00<00:00, 422.90it/s]"
     ]
    },
    {
     "name": "stdout",
     "output_type": "stream",
     "text": [
      "\n",
      "\r",
      "  0%|          | 0/1 [00:00<?, ?it/s]"
     ]
    },
    {
     "name": "stdout",
     "output_type": "stream",
     "text": [
      "\r",
      "Upgrading database; v8 -> v9:   0%|          | 0/1 [00:00<?, ?it/s]"
     ]
    },
    {
     "name": "stdout",
     "output_type": "stream",
     "text": [
      "\r",
      "Upgrading database; v8 -> v9: 100%|██████████| 1/1 [00:00<00:00, 412.05it/s]"
     ]
    },
    {
     "name": "stdout",
     "output_type": "stream",
     "text": [
      "\n"
     ]
    }
   ],
   "source": [
    "initialise_database()\n",
    "exp = load_or_create_experiment(experiment_name='tutorial_exp', sample_name=\"no sample\")"
   ]
  },
  {
   "cell_type": "markdown",
   "metadata": {},
   "source": [
    "Here, we define a simple function to benchmark the time it takes to insert n points with either numeric or array data type.\n",
    "We will compare both the time used to call ``add_result`` and the time used for the full measurement."
   ]
  },
  {
   "cell_type": "code",
   "execution_count": 4,
   "metadata": {
    "execution": {
     "iopub.execute_input": "2020-10-05T13:08:10.920231Z",
     "iopub.status.busy": "2020-10-05T13:08:10.919705Z",
     "iopub.status.idle": "2020-10-05T13:08:10.923620Z",
     "shell.execute_reply": "2020-10-05T13:08:10.924081Z"
    }
   },
   "outputs": [],
   "source": [
    "def insert_data(paramtype, npoints, nreps=1):\n",
    "\n",
    "    meas = Measurement(exp=exp)\n",
    "\n",
    "    x1 = ManualParameter('x1')\n",
    "    x2 = ManualParameter('x2')\n",
    "    x3 = ManualParameter('x3')\n",
    "    y1 = ManualParameter('y1')\n",
    "    y2 = ManualParameter('y2')\n",
    "\n",
    "    meas.register_parameter(x1, paramtype=paramtype)\n",
    "    meas.register_parameter(x2, paramtype=paramtype)\n",
    "    meas.register_parameter(x3, paramtype=paramtype)\n",
    "    meas.register_parameter(y1, setpoints=[x1, x2, x3],\n",
    "                            paramtype=paramtype)\n",
    "    meas.register_parameter(y2, setpoints=[x1, x2, x3],\n",
    "                            paramtype=paramtype)\n",
    "    start = time.perf_counter()\n",
    "    with meas.run() as datasaver:\n",
    "        start_adding = time.perf_counter()\n",
    "        for i in range(nreps):\n",
    "            datasaver.add_result((x1, np.random.rand(npoints)),\n",
    "                                 (x2, np.random.rand(npoints)),\n",
    "                                 (x3, np.random.rand(npoints)),\n",
    "                                 (y1, np.random.rand(npoints)),\n",
    "                                 (y2, np.random.rand(npoints)))\n",
    "        stop_adding = time.perf_counter()\n",
    "        run_id = datasaver.run_id\n",
    "    stop = time.perf_counter()\n",
    "    tot_time = stop - start\n",
    "    add_time = stop_adding - start_adding\n",
    "    return tot_time, add_time, run_id"
   ]
  },
  {
   "cell_type": "markdown",
   "metadata": {},
   "source": [
    "## Comparison between numeric/array data and binary blob"
   ]
  },
  {
   "cell_type": "markdown",
   "metadata": {},
   "source": [
    "### Case1: Short experiment time"
   ]
  },
  {
   "cell_type": "code",
   "execution_count": 5,
   "metadata": {
    "execution": {
     "iopub.execute_input": "2020-10-05T13:08:10.929572Z",
     "iopub.status.busy": "2020-10-05T13:08:10.927653Z",
     "iopub.status.idle": "2020-10-05T13:08:11.637211Z",
     "shell.execute_reply": "2020-10-05T13:08:11.636709Z"
    }
   },
   "outputs": [
    {
     "name": "stdout",
     "output_type": "stream",
     "text": [
      "Starting experimental run with id: 1. \n",
      "Starting experimental run with id: 2. \n",
      "Starting experimental run with id: 3. \n",
      "Starting experimental run with id: 4. \n",
      "Starting experimental run with id: 5. \n"
     ]
    },
    {
     "name": "stdout",
     "output_type": "stream",
     "text": [
      "Starting experimental run with id: 6. \n"
     ]
    },
    {
     "name": "stdout",
     "output_type": "stream",
     "text": [
      "Starting experimental run with id: 7. \n"
     ]
    },
    {
     "name": "stdout",
     "output_type": "stream",
     "text": [
      "Starting experimental run with id: 8. \n",
      "Starting experimental run with id: 9. \n"
     ]
    },
    {
     "name": "stdout",
     "output_type": "stream",
     "text": [
      "Starting experimental run with id: 10. \n"
     ]
    },
    {
     "name": "stdout",
     "output_type": "stream",
     "text": [
      "Starting experimental run with id: 11. \n"
     ]
    },
    {
     "name": "stdout",
     "output_type": "stream",
     "text": [
      "Starting experimental run with id: 12. \n",
      "Starting experimental run with id: 13. \n"
     ]
    },
    {
     "name": "stdout",
     "output_type": "stream",
     "text": [
      "Starting experimental run with id: 14. \n"
     ]
    }
   ],
   "source": [
    "sizes = [1,500,1000,2000,3000,4000,5000]\n",
    "t_numeric = []\n",
    "t_numeric_add = []\n",
    "t_array = []\n",
    "t_array_add = []\n",
    "for size in sizes:\n",
    "    tn, tna, run_id_n =  insert_data('numeric', size)\n",
    "    t_numeric.append(tn)\n",
    "    t_numeric_add.append(tna)\n",
    "\n",
    "    ta, taa, run_id_a =  insert_data('array', size)\n",
    "    t_array.append(ta)\n",
    "    t_array_add.append(taa)"
   ]
  },
  {
   "cell_type": "code",
   "execution_count": 6,
   "metadata": {
    "execution": {
     "iopub.execute_input": "2020-10-05T13:08:11.654717Z",
     "iopub.status.busy": "2020-10-05T13:08:11.653960Z",
     "iopub.status.idle": "2020-10-05T13:08:11.871786Z",
     "shell.execute_reply": "2020-10-05T13:08:11.871302Z"
    }
   },
   "outputs": [
    {
     "data": {
      "image/png": "[encoded data removed]",
      "text/plain": [
       "<Figure size 432x288 with 1 Axes>"
      ]
     },
     "metadata": {
      "needs_background": "light"
     },
     "output_type": "display_data"
    }
   ],
   "source": [
    "fig, ax = plt.subplots(1,1)\n",
    "ax.plot(sizes, t_numeric, 'o-', label='Inserting row-by-row')\n",
    "ax.plot(sizes, t_numeric_add, 'o-', label='Inserting row-by-row: add_result only')\n",
    "ax.plot(sizes, t_array, 'd-', label='Inserting as binary blob')\n",
    "ax.plot(sizes, t_array_add, 'd-', label='Inserting as binary blob: add_result only')\n",
    "ax.legend()\n",
    "ax.set_xlabel('Array length')\n",
    "ax.set_ylabel('Time (s)')\n",
    "fig.tight_layout()"
   ]
  },
  {
   "cell_type": "markdown",
   "metadata": {},
   "source": [
    "As shown in the latter figure, the time to setup and and close the experiment is approximately 0.4 sec. In case of small array sizes, the difference between inserting values of data as arrays and inserting them row-by-row is relatively unimportant. At larger array sizes, i.e. above 10000 points, the cost of writing data as individual datapoints starts to become important.\n"
   ]
  },
  {
   "cell_type": "markdown",
   "metadata": {},
   "source": [
    "### Case2: Long experiment time "
   ]
  },
  {
   "cell_type": "code",
   "execution_count": 7,
   "metadata": {
    "execution": {
     "iopub.execute_input": "2020-10-05T13:08:11.877885Z",
     "iopub.status.busy": "2020-10-05T13:08:11.877409Z",
     "iopub.status.idle": "2020-10-05T13:09:02.436355Z",
     "shell.execute_reply": "2020-10-05T13:09:02.437217Z"
    }
   },
   "outputs": [
    {
     "name": "stdout",
     "output_type": "stream",
     "text": [
      "Starting experimental run with id: 15. \n",
      "Starting experimental run with id: 16. \n",
      "Starting experimental run with id: 17. \n"
     ]
    },
    {
     "name": "stdout",
     "output_type": "stream",
     "text": [
      "Starting experimental run with id: 18. \n",
      "Starting experimental run with id: 19. \n"
     ]
    },
    {
     "name": "stdout",
     "output_type": "stream",
     "text": [
      "Starting experimental run with id: 20. \n"
     ]
    },
    {
     "name": "stdout",
     "output_type": "stream",
     "text": [
      "Starting experimental run with id: 21. \n"
     ]
    },
    {
     "name": "stdout",
     "output_type": "stream",
     "text": [
      "Starting experimental run with id: 22. \n"
     ]
    },
    {
     "name": "stdout",
     "output_type": "stream",
     "text": [
      "Starting experimental run with id: 23. \n"
     ]
    },
    {
     "name": "stdout",
     "output_type": "stream",
     "text": [
      "Starting experimental run with id: 24. \n"
     ]
    },
    {
     "name": "stdout",
     "output_type": "stream",
     "text": [
      "Starting experimental run with id: 25. \n"
     ]
    },
    {
     "name": "stdout",
     "output_type": "stream",
     "text": [
      "Starting experimental run with id: 26. \n"
     ]
    },
    {
     "name": "stdout",
     "output_type": "stream",
     "text": [
      "Starting experimental run with id: 27. \n"
     ]
    },
    {
     "name": "stdout",
     "output_type": "stream",
     "text": [
      "Starting experimental run with id: 28. \n"
     ]
    }
   ],
   "source": [
    "sizes = [1,500,1000,2000,3000,4000,5000]\n",
    "nreps = 100\n",
    "t_numeric = []\n",
    "t_numeric_add = []\n",
    "t_numeric_run_ids = []\n",
    "t_array = []\n",
    "t_array_add = []\n",
    "t_array_run_ids = []\n",
    "for size in sizes:\n",
    "    tn, tna, run_id_n =  insert_data('numeric', size, nreps=nreps)\n",
    "    t_numeric.append(tn)\n",
    "    t_numeric_add.append(tna)\n",
    "    t_numeric_run_ids.append(run_id_n)\n",
    "\n",
    "    ta, taa, run_id_a =  insert_data('array', size, nreps=nreps)\n",
    "    t_array.append(ta)\n",
    "    t_array_add.append(taa)\n",
    "    t_array_run_ids.append(run_id_a)"
   ]
  },
  {
   "cell_type": "code",
   "execution_count": 8,
   "metadata": {
    "execution": {
     "iopub.execute_input": "2020-10-05T13:09:02.468989Z",
     "iopub.status.busy": "2020-10-05T13:09:02.459205Z",
     "iopub.status.idle": "2020-10-05T13:09:02.695644Z",
     "shell.execute_reply": "2020-10-05T13:09:02.696804Z"
    },
    "scrolled": true
   },
   "outputs": [
    {
     "data": {
      "image/png": "[encoded data removed]",
      "text/plain": [
       "<Figure size 432x288 with 1 Axes>"
      ]
     },
     "metadata": {
      "needs_background": "light"
     },
     "output_type": "display_data"
    }
   ],
   "source": [
    "fig, ax = plt.subplots(1,1)\n",
    "ax.plot(sizes, t_numeric, 'o-', label='Inserting row-by-row')\n",
    "ax.plot(sizes, t_numeric_add, 'o-', label='Inserting row-by-row: add_result only')\n",
    "ax.plot(sizes, t_array, 'd-', label='Inserting as binary blob')\n",
    "ax.plot(sizes, t_array_add, 'd-', label='Inserting as binary blob: add_result only')\n",
    "ax.legend()\n",
    "ax.set_xlabel('Array length')\n",
    "ax.set_ylabel('Time (s)')\n",
    "fig.tight_layout()"
   ]
  },
  {
   "cell_type": "markdown",
   "metadata": {},
   "source": [
    "However, as we increase the length of the experiment, as seen here by repeating the insertion 100 times, we see a big difference between inserting values of the data row-by-row and inserting it as a binary blob."
   ]
  },
  {
   "cell_type": "markdown",
   "metadata": {},
   "source": [
    "## Loading the data "
   ]
  },
  {
   "cell_type": "code",
   "execution_count": 9,
   "metadata": {
    "execution": {
     "iopub.execute_input": "2020-10-05T13:09:02.706054Z",
     "iopub.status.busy": "2020-10-05T13:09:02.705464Z",
     "iopub.status.idle": "2020-10-05T13:09:02.708686Z",
     "shell.execute_reply": "2020-10-05T13:09:02.709125Z"
    }
   },
   "outputs": [],
   "source": [
    "from qcodes.dataset.data_set import load_by_id\n",
    "from qcodes.dataset.data_export import get_data_by_id"
   ]
  },
  {
   "cell_type": "markdown",
   "metadata": {},
   "source": [
    "As usual you can load the data by using the ``load_by_id`` function but you will notice that the different storage methods\n",
    "are reflected in shape of the data as it is retrieved. "
   ]
  },
  {
   "cell_type": "code",
   "execution_count": 10,
   "metadata": {
    "execution": {
     "iopub.execute_input": "2020-10-05T13:09:02.713248Z",
     "iopub.status.busy": "2020-10-05T13:09:02.712507Z",
     "iopub.status.idle": "2020-10-05T13:09:02.714936Z",
     "shell.execute_reply": "2020-10-05T13:09:02.715332Z"
    }
   },
   "outputs": [],
   "source": [
    "run_id_n = t_numeric_run_ids[0]\n",
    "run_id_a = t_array_run_ids[0]"
   ]
  },
  {
   "cell_type": "code",
   "execution_count": 11,
   "metadata": {
    "execution": {
     "iopub.execute_input": "2020-10-05T13:09:02.723988Z",
     "iopub.status.busy": "2020-10-05T13:09:02.723487Z",
     "iopub.status.idle": "2020-10-05T13:09:02.728785Z",
     "shell.execute_reply": "2020-10-05T13:09:02.729233Z"
    },
    "scrolled": true
   },
   "outputs": [
    {
     "data": {
      "text/plain": [
       "{'x1': {'x1': array([0.5052181 , 0.5052181 , 0.33040371, 0.33040371, 0.20131028,\n",
       "         0.20131028, 0.27272101, 0.27272101, 0.4229357 , 0.4229357 ,\n",
       "         0.23743199, 0.23743199, 0.6989038 , 0.6989038 , 0.85407965,\n",
       "         0.85407965, 0.16590263, 0.16590263, 0.82372396, 0.82372396,\n",
       "         0.86989722, 0.86989722, 0.19583206, 0.19583206, 0.49405391,\n",
       "         0.49405391, 0.88226221, 0.88226221, 0.12355443, 0.12355443,\n",
       "         0.312566  , 0.312566  , 0.48672957, 0.48672957, 0.94165882,\n",
       "         0.94165882, 0.83331882, 0.83331882, 0.3138714 , 0.3138714 ,\n",
       "         0.22254875, 0.22254875, 0.2185973 , 0.2185973 , 0.15705428,\n",
       "         0.15705428, 0.40189445, 0.40189445, 0.18606107, 0.18606107,\n",
       "         0.86228103, 0.86228103, 0.99736408, 0.99736408, 0.82525907,\n",
       "         0.82525907, 0.9459391 , 0.9459391 , 0.84266183, 0.84266183,\n",
       "         0.86434402, 0.86434402, 0.00536288, 0.00536288, 0.68134178,\n",
       "         0.68134178, 0.32792835, 0.32792835, 0.25280769, 0.25280769,\n",
       "         0.53315408, 0.53315408, 0.21520542, 0.21520542, 0.80252175,\n",
       "         0.80252175, 0.8518873 , 0.8518873 , 0.71615285, 0.71615285,\n",
       "         0.03067467, 0.03067467, 0.71976687, 0.71976687, 0.88647029,\n",
       "         0.88647029, 0.35743963, 0.35743963, 0.88828893, 0.88828893,\n",
       "         0.59807567, 0.59807567, 0.02633041, 0.02633041, 0.96342075,\n",
       "         0.96342075, 0.52522401, 0.52522401, 0.12262747, 0.12262747,\n",
       "         0.505446  , 0.505446  , 0.1900367 , 0.1900367 , 0.43518882,\n",
       "         0.43518882, 0.94179069, 0.94179069, 0.43454476, 0.43454476,\n",
       "         0.65689248, 0.65689248, 0.15514116, 0.15514116, 0.5635324 ,\n",
       "         0.5635324 , 0.10386904, 0.10386904, 0.80763405, 0.80763405,\n",
       "         0.05626018, 0.05626018, 0.89386994, 0.89386994, 0.90657977,\n",
       "         0.90657977, 0.90248732, 0.90248732, 0.64961006, 0.64961006,\n",
       "         0.59528943, 0.59528943, 0.83660535, 0.83660535, 0.56329294,\n",
       "         0.56329294, 0.56533258, 0.56533258, 0.88929246, 0.88929246,\n",
       "         0.29436799, 0.29436799, 0.67093786, 0.67093786, 0.89876769,\n",
       "         0.89876769, 0.15784853, 0.15784853, 0.07694298, 0.07694298,\n",
       "         0.70241072, 0.70241072, 0.04133599, 0.04133599, 0.19682155,\n",
       "         0.19682155, 0.83030571, 0.83030571, 0.84836561, 0.84836561,\n",
       "         0.20141071, 0.20141071, 0.77716737, 0.77716737, 0.37721123,\n",
       "         0.37721123, 0.66356859, 0.66356859, 0.25221874, 0.25221874,\n",
       "         0.16199437, 0.16199437, 0.70642565, 0.70642565, 0.05903148,\n",
       "         0.05903148, 0.08451696, 0.08451696, 0.61143465, 0.61143465,\n",
       "         0.73832082, 0.73832082, 0.09052146, 0.09052146, 0.86414338,\n",
       "         0.86414338, 0.02534976, 0.02534976, 0.20906003, 0.20906003,\n",
       "         0.53689606, 0.53689606, 0.60228744, 0.60228744, 0.38891822,\n",
       "         0.38891822, 0.58778781, 0.58778781, 0.52763235, 0.52763235])}}"
      ]
     },
     "execution_count": 1,
     "metadata": {},
     "output_type": "execute_result"
    }
   ],
   "source": [
    "ds = load_by_id(run_id_n)\n",
    "ds.get_parameter_data('x1')"
   ]
  },
  {
   "cell_type": "markdown",
   "metadata": {},
   "source": [
    "And a dataset stored as binary arrays"
   ]
  },
  {
   "cell_type": "code",
   "execution_count": 12,
   "metadata": {
    "execution": {
     "iopub.execute_input": "2020-10-05T13:09:02.732516Z",
     "iopub.status.busy": "2020-10-05T13:09:02.731586Z",
     "iopub.status.idle": "2020-10-05T13:09:02.790554Z",
     "shell.execute_reply": "2020-10-05T13:09:02.791214Z"
    },
    "scrolled": true
   },
   "outputs": [
    {
     "data": {
      "text/plain": [
       "{'x1': {'x1': array([[0.35932313],\n",
       "         [0.35932313],\n",
       "         [0.68294303],\n",
       "         [0.68294303],\n",
       "         [0.93791526],\n",
       "         [0.93791526],\n",
       "         [0.96471509],\n",
       "         [0.96471509],\n",
       "         [0.89886909],\n",
       "         [0.89886909],\n",
       "         [0.12394826],\n",
       "         [0.12394826],\n",
       "         [0.07267491],\n",
       "         [0.07267491],\n",
       "         [0.52807923],\n",
       "         [0.52807923],\n",
       "         [0.12016572],\n",
       "         [0.12016572],\n",
       "         [0.26104425],\n",
       "         [0.26104425],\n",
       "         [0.0426093 ],\n",
       "         [0.0426093 ],\n",
       "         [0.27485706],\n",
       "         [0.27485706],\n",
       "         [0.99119164],\n",
       "         [0.99119164],\n",
       "         [0.01567533],\n",
       "         [0.01567533],\n",
       "         [0.87164508],\n",
       "         [0.87164508],\n",
       "         [0.57409368],\n",
       "         [0.57409368],\n",
       "         [0.53626884],\n",
       "         [0.53626884],\n",
       "         [0.66112503],\n",
       "         [0.66112503],\n",
       "         [0.93105684],\n",
       "         [0.93105684],\n",
       "         [0.53672718],\n",
       "         [0.53672718],\n",
       "         [0.92032235],\n",
       "         [0.92032235],\n",
       "         [0.01323424],\n",
       "         [0.01323424],\n",
       "         [0.28719056],\n",
       "         [0.28719056],\n",
       "         [0.11898353],\n",
       "         [0.11898353],\n",
       "         [0.69444205],\n",
       "         [0.69444205],\n",
       "         [0.84742271],\n",
       "         [0.84742271],\n",
       "         [0.76732063],\n",
       "         [0.76732063],\n",
       "         [0.40624705],\n",
       "         [0.40624705],\n",
       "         [0.78402192],\n",
       "         [0.78402192],\n",
       "         [0.52859584],\n",
       "         [0.52859584],\n",
       "         [0.53863696],\n",
       "         [0.53863696],\n",
       "         [0.72121324],\n",
       "         [0.72121324],\n",
       "         [0.47580651],\n",
       "         [0.47580651],\n",
       "         [0.95613593],\n",
       "         [0.95613593],\n",
       "         [0.49197146],\n",
       "         [0.49197146],\n",
       "         [0.90502731],\n",
       "         [0.90502731],\n",
       "         [0.03186769],\n",
       "         [0.03186769],\n",
       "         [0.32092827],\n",
       "         [0.32092827],\n",
       "         [0.1753876 ],\n",
       "         [0.1753876 ],\n",
       "         [0.97409668],\n",
       "         [0.97409668],\n",
       "         [0.3804342 ],\n",
       "         [0.3804342 ],\n",
       "         [0.04075541],\n",
       "         [0.04075541],\n",
       "         [0.79780898],\n",
       "         [0.79780898],\n",
       "         [0.68945594],\n",
       "         [0.68945594],\n",
       "         [0.42538842],\n",
       "         [0.42538842],\n",
       "         [0.92455351],\n",
       "         [0.92455351],\n",
       "         [0.61636043],\n",
       "         [0.61636043],\n",
       "         [0.81345355],\n",
       "         [0.81345355],\n",
       "         [0.23819257],\n",
       "         [0.23819257],\n",
       "         [0.44060498],\n",
       "         [0.44060498],\n",
       "         [0.93159916],\n",
       "         [0.93159916],\n",
       "         [0.33507671],\n",
       "         [0.33507671],\n",
       "         [0.80325337],\n",
       "         [0.80325337],\n",
       "         [0.56354852],\n",
       "         [0.56354852],\n",
       "         [0.76458573],\n",
       "         [0.76458573],\n",
       "         [0.08247781],\n",
       "         [0.08247781],\n",
       "         [0.28834712],\n",
       "         [0.28834712],\n",
       "         [0.66434154],\n",
       "         [0.66434154],\n",
       "         [0.8535243 ],\n",
       "         [0.8535243 ],\n",
       "         [0.71801088],\n",
       "         [0.71801088],\n",
       "         [0.74306077],\n",
       "         [0.74306077],\n",
       "         [0.55633271],\n",
       "         [0.55633271],\n",
       "         [0.06737051],\n",
       "         [0.06737051],\n",
       "         [0.41859654],\n",
       "         [0.41859654],\n",
       "         [0.74652692],\n",
       "         [0.74652692],\n",
       "         [0.82304362],\n",
       "         [0.82304362],\n",
       "         [0.51011372],\n",
       "         [0.51011372],\n",
       "         [0.40892006],\n",
       "         [0.40892006],\n",
       "         [0.49691234],\n",
       "         [0.49691234],\n",
       "         [0.67173846],\n",
       "         [0.67173846],\n",
       "         [0.32027929],\n",
       "         [0.32027929],\n",
       "         [0.18902747],\n",
       "         [0.18902747],\n",
       "         [0.58976494],\n",
       "         [0.58976494],\n",
       "         [0.8019162 ],\n",
       "         [0.8019162 ],\n",
       "         [0.67180269],\n",
       "         [0.67180269],\n",
       "         [0.29559818],\n",
       "         [0.29559818],\n",
       "         [0.40068256],\n",
       "         [0.40068256],\n",
       "         [0.26948675],\n",
       "         [0.26948675],\n",
       "         [0.00305838],\n",
       "         [0.00305838],\n",
       "         [0.62924163],\n",
       "         [0.62924163],\n",
       "         [0.78860765],\n",
       "         [0.78860765],\n",
       "         [0.22190942],\n",
       "         [0.22190942],\n",
       "         [0.39197778],\n",
       "         [0.39197778],\n",
       "         [0.12177617],\n",
       "         [0.12177617],\n",
       "         [0.53667537],\n",
       "         [0.53667537],\n",
       "         [0.41586397],\n",
       "         [0.41586397],\n",
       "         [0.39909396],\n",
       "         [0.39909396],\n",
       "         [0.10834347],\n",
       "         [0.10834347],\n",
       "         [0.91936204],\n",
       "         [0.91936204],\n",
       "         [0.2317783 ],\n",
       "         [0.2317783 ],\n",
       "         [0.99113298],\n",
       "         [0.99113298],\n",
       "         [0.70186344],\n",
       "         [0.70186344],\n",
       "         [0.23155702],\n",
       "         [0.23155702],\n",
       "         [0.22438101],\n",
       "         [0.22438101],\n",
       "         [0.00520867],\n",
       "         [0.00520867],\n",
       "         [0.09757228],\n",
       "         [0.09757228],\n",
       "         [0.0359839 ],\n",
       "         [0.0359839 ],\n",
       "         [0.73761927],\n",
       "         [0.73761927],\n",
       "         [0.95280948],\n",
       "         [0.95280948],\n",
       "         [0.04406202],\n",
       "         [0.04406202]])}}"
      ]
     },
     "execution_count": 1,
     "metadata": {},
     "output_type": "execute_result"
    }
   ],
   "source": [
    "ds = load_by_id(run_id_a)\n",
    "ds.get_parameter_data('x1')"
   ]
  },
  {
   "cell_type": "code",
   "execution_count": null,
   "metadata": {},
   "outputs": [],
   "source": []
  }
 ],
 "metadata": {
  "kernelspec": {
   "display_name": "Python 3",
   "language": "python",
   "name": "python3"
  },
  "language_info": {
   "codemirror_mode": {
    "name": "ipython",
    "version": 3
   },
   "file_extension": ".py",
   "mimetype": "text/x-python",
   "name": "python",
   "nbconvert_exporter": "python",
   "pygments_lexer": "ipython3",
   "version": "3.7.7"
  },
  "nbsphinx": {
   "timeout": 600
  },
  "toc": {
   "base_numbering": 1,
   "nav_menu": {},
   "number_sections": true,
   "sideBar": true,
   "skip_h1_title": false,
   "title_cell": "Table of Contents",
   "title_sidebar": "Contents",
   "toc_cell": false,
   "toc_position": {},
   "toc_section_display": true,
   "toc_window_display": false
  },
  "varInspector": {
   "cols": {
    "lenName": 16,
    "lenType": 16,
    "lenVar": 40
   },
   "kernels_config": {
    "python": {
     "delete_cmd_postfix": "",
     "delete_cmd_prefix": "del ",
     "library": "var_list.py",
     "varRefreshCmd": "print(var_dic_list())"
    },
    "r": {
     "delete_cmd_postfix": ") ",
     "delete_cmd_prefix": "rm(",
     "library": "var_list.r",
     "varRefreshCmd": "cat(var_dic_list()) "
    }
   },
   "types_to_exclude": [
    "module",
    "function",
    "builtin_function_or_method",
    "instance",
    "_Feature"
   ],
   "window_display": false
  }
 },
 "nbformat": 4,
 "nbformat_minor": 2
}
