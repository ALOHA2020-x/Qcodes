{
 "cells": [
  {
   "cell_type": "markdown",
   "metadata": {},
   "source": [
    "# DataSet Performance\n",
    "\n",
    "This notebook shows the trade-off between inserting data into a database row-by-row and as binary blobs. Inserting the data row-by-row means that we have direct access to all the data and may perform queries directly on the values of the data. On the other hand, as we shall see, this is much slower than inserting the data directly as binary blobs."
   ]
  },
  {
   "cell_type": "markdown",
   "metadata": {},
   "source": [
    "First, we choose a new location for the database to ensure that we don't add a bunch of benchmarking data to the default one."
   ]
  },
  {
   "cell_type": "code",
   "execution_count": 1,
   "metadata": {
    "execution": {
     "iopub.execute_input": "2020-10-23T06:40:43.244635Z",
     "iopub.status.busy": "2020-10-23T06:40:43.243814Z",
     "iopub.status.idle": "2020-10-23T06:40:44.205268Z",
     "shell.execute_reply": "2020-10-23T06:40:44.204580Z"
    }
   },
   "outputs": [
    {
     "name": "stdout",
     "output_type": "stream",
     "text": [
      "Logging hadn't been started.\n",
      "Activating auto-logging. Current session state plus future input saved.\n",
      "Filename       : /home/vsts/.qcodes/logs/command_history.log\n",
      "Mode           : append\n",
      "Output logging : True\n",
      "Raw input log  : False\n",
      "Timestamping   : True\n",
      "State          : active\n"
     ]
    },
    {
     "name": "stdout",
     "output_type": "stream",
     "text": [
      "Qcodes Logfile : /home/vsts/.qcodes/logs/201023-15201-qcodes.log\n"
     ]
    }
   ],
   "source": [
    "import os\n",
    "cwd = os.getcwd()\n",
    "import qcodes as qc\n",
    "qc.config[\"core\"][\"db_location\"] = os.path.join(cwd, 'testing.db')\n"
   ]
  },
  {
   "cell_type": "code",
   "execution_count": 2,
   "metadata": {
    "execution": {
     "iopub.execute_input": "2020-10-23T06:40:44.210580Z",
     "iopub.status.busy": "2020-10-23T06:40:44.209808Z",
     "iopub.status.idle": "2020-10-23T06:40:44.380009Z",
     "shell.execute_reply": "2020-10-23T06:40:44.379297Z"
    }
   },
   "outputs": [],
   "source": [
    "%matplotlib inline\n",
    "import time\n",
    "import matplotlib.pyplot as plt\n",
    "import numpy as np\n",
    "\n",
    "import qcodes as qc\n",
    "from qcodes.instrument.parameter import ManualParameter\n",
    "from qcodes.dataset.experiment_container import (Experiment,\n",
    "                                                 load_last_experiment,\n",
    "                                                 new_experiment)\n",
    "from qcodes.dataset.sqlite.database import initialise_database\n",
    "from qcodes import load_or_create_experiment\n",
    "from qcodes.dataset.measurements import Measurement"
   ]
  },
  {
   "cell_type": "code",
   "execution_count": 3,
   "metadata": {
    "execution": {
     "iopub.execute_input": "2020-10-23T06:40:44.383371Z",
     "iopub.status.busy": "2020-10-23T06:40:44.382804Z",
     "iopub.status.idle": "2020-10-23T06:40:44.472943Z",
     "shell.execute_reply": "2020-10-23T06:40:44.472371Z"
    }
   },
   "outputs": [
    {
     "name": "stdout",
     "output_type": "stream",
     "text": [
      "\r",
      "0it [00:00, ?it/s]"
     ]
    },
    {
     "name": "stdout",
     "output_type": "stream",
     "text": [
      "\r",
      "Upgrading database; v0 -> v1: : 0it [00:00, ?it/s]"
     ]
    },
    {
     "name": "stdout",
     "output_type": "stream",
     "text": [
      "\r",
      "Upgrading database; v0 -> v1: : 0it [00:00, ?it/s]"
     ]
    },
    {
     "name": "stdout",
     "output_type": "stream",
     "text": [
      "\n",
      "\r",
      "  0%|          | 0/1 [00:00<?, ?it/s]"
     ]
    },
    {
     "name": "stdout",
     "output_type": "stream",
     "text": [
      "\r",
      "Upgrading database; v1 -> v2:   0%|          | 0/1 [00:00<?, ?it/s]"
     ]
    },
    {
     "name": "stdout",
     "output_type": "stream",
     "text": [
      "\r",
      "Upgrading database; v1 -> v2: 100%|██████████| 1/1 [00:00<00:00, 585.14it/s]"
     ]
    },
    {
     "name": "stdout",
     "output_type": "stream",
     "text": [
      "\n",
      "\r",
      "0it [00:00, ?it/s]"
     ]
    },
    {
     "name": "stdout",
     "output_type": "stream",
     "text": [
      "\r",
      "Upgrading database; v2 -> v3: : 0it [00:00, ?it/s]"
     ]
    },
    {
     "name": "stdout",
     "output_type": "stream",
     "text": [
      "\r",
      "Upgrading database; v2 -> v3: : 0it [00:00, ?it/s]"
     ]
    },
    {
     "name": "stdout",
     "output_type": "stream",
     "text": [
      "\n",
      "\r",
      "0it [00:00, ?it/s]"
     ]
    },
    {
     "name": "stdout",
     "output_type": "stream",
     "text": [
      "\r",
      "Upgrading database; v3 -> v4: : 0it [00:00, ?it/s]"
     ]
    },
    {
     "name": "stdout",
     "output_type": "stream",
     "text": [
      "\r",
      "Upgrading database; v3 -> v4: : 0it [00:00, ?it/s]"
     ]
    },
    {
     "name": "stdout",
     "output_type": "stream",
     "text": [
      "\n",
      "\r",
      "  0%|          | 0/1 [00:00<?, ?it/s]"
     ]
    },
    {
     "name": "stdout",
     "output_type": "stream",
     "text": [
      "\r",
      "Upgrading database; v4 -> v5:   0%|          | 0/1 [00:00<?, ?it/s]"
     ]
    },
    {
     "name": "stdout",
     "output_type": "stream",
     "text": [
      "\r",
      "Upgrading database; v4 -> v5: 100%|██████████| 1/1 [00:00<00:00, 894.50it/s]"
     ]
    },
    {
     "name": "stdout",
     "output_type": "stream",
     "text": [
      "\n",
      "\r",
      "0it [00:00, ?it/s]"
     ]
    },
    {
     "name": "stdout",
     "output_type": "stream",
     "text": [
      "\r",
      "Upgrading database; v5 -> v6: : 0it [00:00, ?it/s]"
     ]
    },
    {
     "name": "stdout",
     "output_type": "stream",
     "text": [
      "\r",
      "Upgrading database; v5 -> v6: : 0it [00:00, ?it/s]"
     ]
    },
    {
     "name": "stdout",
     "output_type": "stream",
     "text": [
      "\n",
      "\r",
      "  0%|          | 0/1 [00:00<?, ?it/s]"
     ]
    },
    {
     "name": "stdout",
     "output_type": "stream",
     "text": [
      "\r",
      "Upgrading database; v6 -> v7:   0%|          | 0/1 [00:00<?, ?it/s]"
     ]
    },
    {
     "name": "stdout",
     "output_type": "stream",
     "text": [
      "\r",
      "Upgrading database; v6 -> v7: 100%|██████████| 1/1 [00:00<00:00, 419.18it/s]"
     ]
    },
    {
     "name": "stdout",
     "output_type": "stream",
     "text": [
      "\n",
      "\r",
      "  0%|          | 0/1 [00:00<?, ?it/s]"
     ]
    },
    {
     "name": "stdout",
     "output_type": "stream",
     "text": [
      "\r",
      "Upgrading database; v7 -> v8:   0%|          | 0/1 [00:00<?, ?it/s]"
     ]
    },
    {
     "name": "stdout",
     "output_type": "stream",
     "text": [
      "\r",
      "Upgrading database; v7 -> v8: 100%|██████████| 1/1 [00:00<00:00, 473.08it/s]"
     ]
    },
    {
     "name": "stdout",
     "output_type": "stream",
     "text": [
      "\n",
      "\r",
      "  0%|          | 0/1 [00:00<?, ?it/s]"
     ]
    },
    {
     "name": "stdout",
     "output_type": "stream",
     "text": [
      "\r",
      "Upgrading database; v8 -> v9:   0%|          | 0/1 [00:00<?, ?it/s]"
     ]
    },
    {
     "name": "stdout",
     "output_type": "stream",
     "text": [
      "\r",
      "Upgrading database; v8 -> v9: 100%|██████████| 1/1 [00:00<00:00, 505.34it/s]"
     ]
    },
    {
     "name": "stdout",
     "output_type": "stream",
     "text": [
      "\n"
     ]
    }
   ],
   "source": [
    "initialise_database()\n",
    "exp = load_or_create_experiment(experiment_name='tutorial_exp', sample_name=\"no sample\")"
   ]
  },
  {
   "cell_type": "markdown",
   "metadata": {},
   "source": [
    "Here, we define a simple function to benchmark the time it takes to insert n points with either numeric or array data type.\n",
    "We will compare both the time used to call ``add_result`` and the time used for the full measurement."
   ]
  },
  {
   "cell_type": "code",
   "execution_count": 4,
   "metadata": {
    "execution": {
     "iopub.execute_input": "2020-10-23T06:40:44.481399Z",
     "iopub.status.busy": "2020-10-23T06:40:44.480202Z",
     "iopub.status.idle": "2020-10-23T06:40:44.481903Z",
     "shell.execute_reply": "2020-10-23T06:40:44.482415Z"
    }
   },
   "outputs": [],
   "source": [
    "def insert_data(paramtype, npoints, nreps=1):\n",
    "\n",
    "    meas = Measurement(exp=exp)\n",
    "\n",
    "    x1 = ManualParameter('x1')\n",
    "    x2 = ManualParameter('x2')\n",
    "    x3 = ManualParameter('x3')\n",
    "    y1 = ManualParameter('y1')\n",
    "    y2 = ManualParameter('y2')\n",
    "\n",
    "    meas.register_parameter(x1, paramtype=paramtype)\n",
    "    meas.register_parameter(x2, paramtype=paramtype)\n",
    "    meas.register_parameter(x3, paramtype=paramtype)\n",
    "    meas.register_parameter(y1, setpoints=[x1, x2, x3],\n",
    "                            paramtype=paramtype)\n",
    "    meas.register_parameter(y2, setpoints=[x1, x2, x3],\n",
    "                            paramtype=paramtype)\n",
    "    start = time.perf_counter()\n",
    "    with meas.run() as datasaver:\n",
    "        start_adding = time.perf_counter()\n",
    "        for i in range(nreps):\n",
    "            datasaver.add_result((x1, np.random.rand(npoints)),\n",
    "                                 (x2, np.random.rand(npoints)),\n",
    "                                 (x3, np.random.rand(npoints)),\n",
    "                                 (y1, np.random.rand(npoints)),\n",
    "                                 (y2, np.random.rand(npoints)))\n",
    "        stop_adding = time.perf_counter()\n",
    "        run_id = datasaver.run_id\n",
    "    stop = time.perf_counter()\n",
    "    tot_time = stop - start\n",
    "    add_time = stop_adding - start_adding\n",
    "    return tot_time, add_time, run_id"
   ]
  },
  {
   "cell_type": "markdown",
   "metadata": {},
   "source": [
    "## Comparison between numeric/array data and binary blob"
   ]
  },
  {
   "cell_type": "markdown",
   "metadata": {},
   "source": [
    "### Case1: Short experiment time"
   ]
  },
  {
   "cell_type": "code",
   "execution_count": 5,
   "metadata": {
    "execution": {
     "iopub.execute_input": "2020-10-23T06:40:44.487520Z",
     "iopub.status.busy": "2020-10-23T06:40:44.486970Z",
     "iopub.status.idle": "2020-10-23T06:40:45.286073Z",
     "shell.execute_reply": "2020-10-23T06:40:45.285608Z"
    }
   },
   "outputs": [
    {
     "name": "stdout",
     "output_type": "stream",
     "text": [
      "Starting experimental run with id: 1. \n",
      "Starting experimental run with id: 2. \n",
      "Starting experimental run with id: 3. \n",
      "Starting experimental run with id: 4. \n",
      "Starting experimental run with id: 5. \n"
     ]
    },
    {
     "name": "stdout",
     "output_type": "stream",
     "text": [
      "Starting experimental run with id: 6. \n"
     ]
    },
    {
     "name": "stdout",
     "output_type": "stream",
     "text": [
      "Starting experimental run with id: 7. \n"
     ]
    },
    {
     "name": "stdout",
     "output_type": "stream",
     "text": [
      "Starting experimental run with id: 8. \n",
      "Starting experimental run with id: 9. \n"
     ]
    },
    {
     "name": "stdout",
     "output_type": "stream",
     "text": [
      "Starting experimental run with id: 10. \n",
      "Starting experimental run with id: 11. \n"
     ]
    },
    {
     "name": "stdout",
     "output_type": "stream",
     "text": [
      "Starting experimental run with id: 12. \n",
      "Starting experimental run with id: 13. \n"
     ]
    },
    {
     "name": "stdout",
     "output_type": "stream",
     "text": [
      "Starting experimental run with id: 14. \n"
     ]
    }
   ],
   "source": [
    "sizes = [1,500,1000,2000,3000,4000,5000]\n",
    "t_numeric = []\n",
    "t_numeric_add = []\n",
    "t_array = []\n",
    "t_array_add = []\n",
    "for size in sizes:\n",
    "    tn, tna, run_id_n =  insert_data('numeric', size)\n",
    "    t_numeric.append(tn)\n",
    "    t_numeric_add.append(tna)\n",
    "\n",
    "    ta, taa, run_id_a =  insert_data('array', size)\n",
    "    t_array.append(ta)\n",
    "    t_array_add.append(taa)"
   ]
  },
  {
   "cell_type": "code",
   "execution_count": 6,
   "metadata": {
    "execution": {
     "iopub.execute_input": "2020-10-23T06:40:45.297735Z",
     "iopub.status.busy": "2020-10-23T06:40:45.297217Z",
     "iopub.status.idle": "2020-10-23T06:40:45.499097Z",
     "shell.execute_reply": "2020-10-23T06:40:45.498485Z"
    }
   },
   "outputs": [
    {
     "data": {
      "image/png": "[encoded data removed]",
      "text/plain": [
       "<Figure size 432x288 with 1 Axes>"
      ]
     },
     "metadata": {
      "needs_background": "light"
     },
     "output_type": "display_data"
    }
   ],
   "source": [
    "fig, ax = plt.subplots(1,1)\n",
    "ax.plot(sizes, t_numeric, 'o-', label='Inserting row-by-row')\n",
    "ax.plot(sizes, t_numeric_add, 'o-', label='Inserting row-by-row: add_result only')\n",
    "ax.plot(sizes, t_array, 'd-', label='Inserting as binary blob')\n",
    "ax.plot(sizes, t_array_add, 'd-', label='Inserting as binary blob: add_result only')\n",
    "ax.legend()\n",
    "ax.set_xlabel('Array length')\n",
    "ax.set_ylabel('Time (s)')\n",
    "fig.tight_layout()"
   ]
  },
  {
   "cell_type": "markdown",
   "metadata": {},
   "source": [
    "As shown in the latter figure, the time to setup and and close the experiment is approximately 0.4 sec. In case of small array sizes, the difference between inserting values of data as arrays and inserting them row-by-row is relatively unimportant. At larger array sizes, i.e. above 10000 points, the cost of writing data as individual datapoints starts to become important.\n"
   ]
  },
  {
   "cell_type": "markdown",
   "metadata": {},
   "source": [
    "### Case2: Long experiment time "
   ]
  },
  {
   "cell_type": "code",
   "execution_count": 7,
   "metadata": {
    "execution": {
     "iopub.execute_input": "2020-10-23T06:40:45.505088Z",
     "iopub.status.busy": "2020-10-23T06:40:45.503976Z",
     "iopub.status.idle": "2020-10-23T06:41:42.536725Z",
     "shell.execute_reply": "2020-10-23T06:41:42.536146Z"
    }
   },
   "outputs": [
    {
     "name": "stdout",
     "output_type": "stream",
     "text": [
      "Starting experimental run with id: 15. \n",
      "Starting experimental run with id: 16. \n",
      "Starting experimental run with id: 17. \n"
     ]
    },
    {
     "name": "stdout",
     "output_type": "stream",
     "text": [
      "Starting experimental run with id: 18. \n",
      "Starting experimental run with id: 19. \n"
     ]
    },
    {
     "name": "stdout",
     "output_type": "stream",
     "text": [
      "Starting experimental run with id: 20. \n"
     ]
    },
    {
     "name": "stdout",
     "output_type": "stream",
     "text": [
      "Starting experimental run with id: 21. \n"
     ]
    },
    {
     "name": "stdout",
     "output_type": "stream",
     "text": [
      "Starting experimental run with id: 22. \n"
     ]
    },
    {
     "name": "stdout",
     "output_type": "stream",
     "text": [
      "Starting experimental run with id: 23. \n"
     ]
    },
    {
     "name": "stdout",
     "output_type": "stream",
     "text": [
      "Starting experimental run with id: 24. \n"
     ]
    },
    {
     "name": "stdout",
     "output_type": "stream",
     "text": [
      "Starting experimental run with id: 25. \n"
     ]
    },
    {
     "name": "stdout",
     "output_type": "stream",
     "text": [
      "Starting experimental run with id: 26. \n"
     ]
    },
    {
     "name": "stdout",
     "output_type": "stream",
     "text": [
      "Starting experimental run with id: 27. \n"
     ]
    },
    {
     "name": "stdout",
     "output_type": "stream",
     "text": [
      "Starting experimental run with id: 28. \n"
     ]
    }
   ],
   "source": [
    "sizes = [1,500,1000,2000,3000,4000,5000]\n",
    "nreps = 100\n",
    "t_numeric = []\n",
    "t_numeric_add = []\n",
    "t_numeric_run_ids = []\n",
    "t_array = []\n",
    "t_array_add = []\n",
    "t_array_run_ids = []\n",
    "for size in sizes:\n",
    "    tn, tna, run_id_n =  insert_data('numeric', size, nreps=nreps)\n",
    "    t_numeric.append(tn)\n",
    "    t_numeric_add.append(tna)\n",
    "    t_numeric_run_ids.append(run_id_n)\n",
    "\n",
    "    ta, taa, run_id_a =  insert_data('array', size, nreps=nreps)\n",
    "    t_array.append(ta)\n",
    "    t_array_add.append(taa)\n",
    "    t_array_run_ids.append(run_id_a)"
   ]
  },
  {
   "cell_type": "code",
   "execution_count": 8,
   "metadata": {
    "execution": {
     "iopub.execute_input": "2020-10-23T06:41:42.555792Z",
     "iopub.status.busy": "2020-10-23T06:41:42.553761Z",
     "iopub.status.idle": "2020-10-23T06:41:42.745241Z",
     "shell.execute_reply": "2020-10-23T06:41:42.744493Z"
    },
    "scrolled": true
   },
   "outputs": [
    {
     "data": {
      "image/png": "[encoded data removed]",
      "text/plain": [
       "<Figure size 432x288 with 1 Axes>"
      ]
     },
     "metadata": {
      "needs_background": "light"
     },
     "output_type": "display_data"
    }
   ],
   "source": [
    "fig, ax = plt.subplots(1,1)\n",
    "ax.plot(sizes, t_numeric, 'o-', label='Inserting row-by-row')\n",
    "ax.plot(sizes, t_numeric_add, 'o-', label='Inserting row-by-row: add_result only')\n",
    "ax.plot(sizes, t_array, 'd-', label='Inserting as binary blob')\n",
    "ax.plot(sizes, t_array_add, 'd-', label='Inserting as binary blob: add_result only')\n",
    "ax.legend()\n",
    "ax.set_xlabel('Array length')\n",
    "ax.set_ylabel('Time (s)')\n",
    "fig.tight_layout()"
   ]
  },
  {
   "cell_type": "markdown",
   "metadata": {},
   "source": [
    "However, as we increase the length of the experiment, as seen here by repeating the insertion 100 times, we see a big difference between inserting values of the data row-by-row and inserting it as a binary blob."
   ]
  },
  {
   "cell_type": "markdown",
   "metadata": {},
   "source": [
    "## Loading the data "
   ]
  },
  {
   "cell_type": "code",
   "execution_count": 9,
   "metadata": {
    "execution": {
     "iopub.execute_input": "2020-10-23T06:41:42.749552Z",
     "iopub.status.busy": "2020-10-23T06:41:42.748264Z",
     "iopub.status.idle": "2020-10-23T06:41:42.752449Z",
     "shell.execute_reply": "2020-10-23T06:41:42.751955Z"
    }
   },
   "outputs": [],
   "source": [
    "from qcodes.dataset.data_set import load_by_id\n",
    "from qcodes.dataset.data_export import get_data_by_id"
   ]
  },
  {
   "cell_type": "markdown",
   "metadata": {},
   "source": [
    "As usual you can load the data by using the ``load_by_id`` function but you will notice that the different storage methods\n",
    "are reflected in shape of the data as it is retrieved. "
   ]
  },
  {
   "cell_type": "code",
   "execution_count": 10,
   "metadata": {
    "execution": {
     "iopub.execute_input": "2020-10-23T06:41:42.755921Z",
     "iopub.status.busy": "2020-10-23T06:41:42.755386Z",
     "iopub.status.idle": "2020-10-23T06:41:42.758840Z",
     "shell.execute_reply": "2020-10-23T06:41:42.758375Z"
    }
   },
   "outputs": [],
   "source": [
    "run_id_n = t_numeric_run_ids[0]\n",
    "run_id_a = t_array_run_ids[0]"
   ]
  },
  {
   "cell_type": "code",
   "execution_count": 11,
   "metadata": {
    "execution": {
     "iopub.execute_input": "2020-10-23T06:41:42.761912Z",
     "iopub.status.busy": "2020-10-23T06:41:42.761375Z",
     "iopub.status.idle": "2020-10-23T06:41:42.770691Z",
     "shell.execute_reply": "2020-10-23T06:41:42.770240Z"
    },
    "scrolled": true
   },
   "outputs": [
    {
     "data": {
      "text/plain": [
       "{'x1': {'x1': array([0.29853791, 0.29853791, 0.34643943, 0.34643943, 0.00489994,\n",
       "         0.00489994, 0.79578808, 0.79578808, 0.21523153, 0.21523153,\n",
       "         0.81600578, 0.81600578, 0.41811743, 0.41811743, 0.41196225,\n",
       "         0.41196225, 0.76458135, 0.76458135, 0.38616593, 0.38616593,\n",
       "         0.1272959 , 0.1272959 , 0.00988154, 0.00988154, 0.88563722,\n",
       "         0.88563722, 0.97129171, 0.97129171, 0.45155599, 0.45155599,\n",
       "         0.57994085, 0.57994085, 0.75938911, 0.75938911, 0.63816022,\n",
       "         0.63816022, 0.59115546, 0.59115546, 0.61314498, 0.61314498,\n",
       "         0.69601366, 0.69601366, 0.62095021, 0.62095021, 0.02971707,\n",
       "         0.02971707, 0.45166323, 0.45166323, 0.19831451, 0.19831451,\n",
       "         0.13826222, 0.13826222, 0.7858763 , 0.7858763 , 0.26890877,\n",
       "         0.26890877, 0.77783705, 0.77783705, 0.38057203, 0.38057203,\n",
       "         0.92637838, 0.92637838, 0.00293463, 0.00293463, 0.65016329,\n",
       "         0.65016329, 0.9172652 , 0.9172652 , 0.56290043, 0.56290043,\n",
       "         0.62422595, 0.62422595, 0.97376622, 0.97376622, 0.95282064,\n",
       "         0.95282064, 0.375532  , 0.375532  , 0.36960101, 0.36960101,\n",
       "         0.06969089, 0.06969089, 0.95507594, 0.95507594, 0.45024821,\n",
       "         0.45024821, 0.76535696, 0.76535696, 0.35605982, 0.35605982,\n",
       "         0.91504441, 0.91504441, 0.10596276, 0.10596276, 0.62278714,\n",
       "         0.62278714, 0.18130877, 0.18130877, 0.19807278, 0.19807278,\n",
       "         0.83102201, 0.83102201, 0.78578204, 0.78578204, 0.6843238 ,\n",
       "         0.6843238 , 0.97182663, 0.97182663, 0.96224568, 0.96224568,\n",
       "         0.03540716, 0.03540716, 0.58931432, 0.58931432, 0.89294108,\n",
       "         0.89294108, 0.44673028, 0.44673028, 0.15852586, 0.15852586,\n",
       "         0.11909741, 0.11909741, 0.27579139, 0.27579139, 0.26479782,\n",
       "         0.26479782, 0.21918113, 0.21918113, 0.24754646, 0.24754646,\n",
       "         0.08281306, 0.08281306, 0.80038105, 0.80038105, 0.52120821,\n",
       "         0.52120821, 0.58399774, 0.58399774, 0.40847592, 0.40847592,\n",
       "         0.1065566 , 0.1065566 , 0.51963332, 0.51963332, 0.86459225,\n",
       "         0.86459225, 0.68443162, 0.68443162, 0.75410675, 0.75410675,\n",
       "         0.78793757, 0.78793757, 0.16671071, 0.16671071, 0.41940874,\n",
       "         0.41940874, 0.51208377, 0.51208377, 0.15500617, 0.15500617,\n",
       "         0.65136279, 0.65136279, 0.317461  , 0.317461  , 0.37393282,\n",
       "         0.37393282, 0.9741485 , 0.9741485 , 0.70975863, 0.70975863,\n",
       "         0.36340533, 0.36340533, 0.12331094, 0.12331094, 0.1078655 ,\n",
       "         0.1078655 , 0.72411946, 0.72411946, 0.96913389, 0.96913389,\n",
       "         0.95526477, 0.95526477, 0.27080458, 0.27080458, 0.16853188,\n",
       "         0.16853188, 0.74597523, 0.74597523, 0.78554752, 0.78554752,\n",
       "         0.08682395, 0.08682395, 0.06884419, 0.06884419, 0.06937214,\n",
       "         0.06937214, 0.64237715, 0.64237715, 0.37132957, 0.37132957])}}"
      ]
     },
     "execution_count": 1,
     "metadata": {},
     "output_type": "execute_result"
    }
   ],
   "source": [
    "ds = load_by_id(run_id_n)\n",
    "ds.get_parameter_data('x1')"
   ]
  },
  {
   "cell_type": "markdown",
   "metadata": {},
   "source": [
    "And a dataset stored as binary arrays"
   ]
  },
  {
   "cell_type": "code",
   "execution_count": 12,
   "metadata": {
    "execution": {
     "iopub.execute_input": "2020-10-23T06:41:42.773677Z",
     "iopub.status.busy": "2020-10-23T06:41:42.773169Z",
     "iopub.status.idle": "2020-10-23T06:41:42.828732Z",
     "shell.execute_reply": "2020-10-23T06:41:42.829178Z"
    },
    "scrolled": true
   },
   "outputs": [
    {
     "data": {
      "text/plain": [
       "{'x1': {'x1': array([[3.38619455e-01],\n",
       "         [3.38619455e-01],\n",
       "         [4.42938074e-01],\n",
       "         [4.42938074e-01],\n",
       "         [7.49364084e-01],\n",
       "         [7.49364084e-01],\n",
       "         [4.39802847e-01],\n",
       "         [4.39802847e-01],\n",
       "         [3.53704326e-01],\n",
       "         [3.53704326e-01],\n",
       "         [8.99527674e-01],\n",
       "         [8.99527674e-01],\n",
       "         [6.26879411e-01],\n",
       "         [6.26879411e-01],\n",
       "         [2.45024928e-01],\n",
       "         [2.45024928e-01],\n",
       "         [3.54099651e-01],\n",
       "         [3.54099651e-01],\n",
       "         [9.61111232e-01],\n",
       "         [9.61111232e-01],\n",
       "         [2.73376368e-01],\n",
       "         [2.73376368e-01],\n",
       "         [9.61817789e-01],\n",
       "         [9.61817789e-01],\n",
       "         [4.75036825e-01],\n",
       "         [4.75036825e-01],\n",
       "         [6.16755733e-01],\n",
       "         [6.16755733e-01],\n",
       "         [4.87494349e-01],\n",
       "         [4.87494349e-01],\n",
       "         [6.44319326e-02],\n",
       "         [6.44319326e-02],\n",
       "         [8.65011845e-01],\n",
       "         [8.65011845e-01],\n",
       "         [3.25835700e-01],\n",
       "         [3.25835700e-01],\n",
       "         [4.43152132e-01],\n",
       "         [4.43152132e-01],\n",
       "         [1.17210408e-02],\n",
       "         [1.17210408e-02],\n",
       "         [2.05925391e-02],\n",
       "         [2.05925391e-02],\n",
       "         [1.53931200e-01],\n",
       "         [1.53931200e-01],\n",
       "         [2.31161926e-01],\n",
       "         [2.31161926e-01],\n",
       "         [5.07951148e-01],\n",
       "         [5.07951148e-01],\n",
       "         [5.34834608e-01],\n",
       "         [5.34834608e-01],\n",
       "         [7.63457825e-01],\n",
       "         [7.63457825e-01],\n",
       "         [6.14200495e-01],\n",
       "         [6.14200495e-01],\n",
       "         [5.29071074e-01],\n",
       "         [5.29071074e-01],\n",
       "         [9.13050143e-01],\n",
       "         [9.13050143e-01],\n",
       "         [4.09336204e-01],\n",
       "         [4.09336204e-01],\n",
       "         [5.04915968e-01],\n",
       "         [5.04915968e-01],\n",
       "         [6.91079900e-01],\n",
       "         [6.91079900e-01],\n",
       "         [1.17760425e-01],\n",
       "         [1.17760425e-01],\n",
       "         [9.67204159e-01],\n",
       "         [9.67204159e-01],\n",
       "         [7.29651868e-01],\n",
       "         [7.29651868e-01],\n",
       "         [7.76885518e-02],\n",
       "         [7.76885518e-02],\n",
       "         [1.35185675e-01],\n",
       "         [1.35185675e-01],\n",
       "         [6.33349184e-01],\n",
       "         [6.33349184e-01],\n",
       "         [3.53012287e-01],\n",
       "         [3.53012287e-01],\n",
       "         [4.94648428e-01],\n",
       "         [4.94648428e-01],\n",
       "         [6.90728481e-01],\n",
       "         [6.90728481e-01],\n",
       "         [3.24485025e-01],\n",
       "         [3.24485025e-01],\n",
       "         [5.04243241e-02],\n",
       "         [5.04243241e-02],\n",
       "         [9.08225750e-02],\n",
       "         [9.08225750e-02],\n",
       "         [1.54119743e-01],\n",
       "         [1.54119743e-01],\n",
       "         [4.47945692e-01],\n",
       "         [4.47945692e-01],\n",
       "         [9.04077346e-05],\n",
       "         [9.04077346e-05],\n",
       "         [7.32673198e-01],\n",
       "         [7.32673198e-01],\n",
       "         [2.71823715e-02],\n",
       "         [2.71823715e-02],\n",
       "         [5.83003295e-01],\n",
       "         [5.83003295e-01],\n",
       "         [2.83700415e-01],\n",
       "         [2.83700415e-01],\n",
       "         [1.36118222e-01],\n",
       "         [1.36118222e-01],\n",
       "         [9.56132277e-01],\n",
       "         [9.56132277e-01],\n",
       "         [7.23816332e-02],\n",
       "         [7.23816332e-02],\n",
       "         [5.37614686e-01],\n",
       "         [5.37614686e-01],\n",
       "         [1.47191324e-01],\n",
       "         [1.47191324e-01],\n",
       "         [8.74659510e-01],\n",
       "         [8.74659510e-01],\n",
       "         [9.15635794e-01],\n",
       "         [9.15635794e-01],\n",
       "         [8.04502389e-01],\n",
       "         [8.04502389e-01],\n",
       "         [9.75843310e-01],\n",
       "         [9.75843310e-01],\n",
       "         [2.47701137e-01],\n",
       "         [2.47701137e-01],\n",
       "         [7.68568958e-01],\n",
       "         [7.68568958e-01],\n",
       "         [6.09580485e-01],\n",
       "         [6.09580485e-01],\n",
       "         [2.56568530e-01],\n",
       "         [2.56568530e-01],\n",
       "         [7.51074705e-01],\n",
       "         [7.51074705e-01],\n",
       "         [6.49405964e-01],\n",
       "         [6.49405964e-01],\n",
       "         [2.29352044e-01],\n",
       "         [2.29352044e-01],\n",
       "         [4.14326786e-01],\n",
       "         [4.14326786e-01],\n",
       "         [3.27442528e-01],\n",
       "         [3.27442528e-01],\n",
       "         [1.30057113e-01],\n",
       "         [1.30057113e-01],\n",
       "         [2.63392161e-02],\n",
       "         [2.63392161e-02],\n",
       "         [1.69382920e-01],\n",
       "         [1.69382920e-01],\n",
       "         [3.56953351e-01],\n",
       "         [3.56953351e-01],\n",
       "         [3.00746452e-01],\n",
       "         [3.00746452e-01],\n",
       "         [9.27852932e-01],\n",
       "         [9.27852932e-01],\n",
       "         [5.63331061e-01],\n",
       "         [5.63331061e-01],\n",
       "         [3.77105328e-01],\n",
       "         [3.77105328e-01],\n",
       "         [2.83256513e-01],\n",
       "         [2.83256513e-01],\n",
       "         [7.99915847e-01],\n",
       "         [7.99915847e-01],\n",
       "         [7.32934347e-01],\n",
       "         [7.32934347e-01],\n",
       "         [9.19758861e-01],\n",
       "         [9.19758861e-01],\n",
       "         [7.42299893e-01],\n",
       "         [7.42299893e-01],\n",
       "         [7.15178945e-01],\n",
       "         [7.15178945e-01],\n",
       "         [5.03228199e-01],\n",
       "         [5.03228199e-01],\n",
       "         [1.32426469e-01],\n",
       "         [1.32426469e-01],\n",
       "         [1.59933953e-01],\n",
       "         [1.59933953e-01],\n",
       "         [6.48927445e-02],\n",
       "         [6.48927445e-02],\n",
       "         [2.69242461e-01],\n",
       "         [2.69242461e-01],\n",
       "         [7.87823140e-01],\n",
       "         [7.87823140e-01],\n",
       "         [7.67311948e-01],\n",
       "         [7.67311948e-01],\n",
       "         [1.92432739e-01],\n",
       "         [1.92432739e-01],\n",
       "         [1.74146840e-01],\n",
       "         [1.74146840e-01],\n",
       "         [5.24793082e-01],\n",
       "         [5.24793082e-01],\n",
       "         [4.35218221e-01],\n",
       "         [4.35218221e-01],\n",
       "         [3.34095526e-01],\n",
       "         [3.34095526e-01],\n",
       "         [2.83528151e-01],\n",
       "         [2.83528151e-01],\n",
       "         [4.89965220e-01],\n",
       "         [4.89965220e-01],\n",
       "         [6.17612643e-01],\n",
       "         [6.17612643e-01],\n",
       "         [1.87836680e-01],\n",
       "         [1.87836680e-01],\n",
       "         [8.40729013e-01],\n",
       "         [8.40729013e-01]])}}"
      ]
     },
     "execution_count": 1,
     "metadata": {},
     "output_type": "execute_result"
    }
   ],
   "source": [
    "ds = load_by_id(run_id_a)\n",
    "ds.get_parameter_data('x1')"
   ]
  },
  {
   "cell_type": "code",
   "execution_count": null,
   "metadata": {},
   "outputs": [],
   "source": []
  }
 ],
 "metadata": {
  "kernelspec": {
   "display_name": "Python 3",
   "language": "python",
   "name": "python3"
  },
  "language_info": {
   "codemirror_mode": {
    "name": "ipython",
    "version": 3
   },
   "file_extension": ".py",
   "mimetype": "text/x-python",
   "name": "python",
   "nbconvert_exporter": "python",
   "pygments_lexer": "ipython3",
   "version": "3.7.7"
  },
  "nbsphinx": {
   "timeout": 600
  },
  "toc": {
   "base_numbering": 1,
   "nav_menu": {},
   "number_sections": true,
   "sideBar": true,
   "skip_h1_title": false,
   "title_cell": "Table of Contents",
   "title_sidebar": "Contents",
   "toc_cell": false,
   "toc_position": {},
   "toc_section_display": true,
   "toc_window_display": false
  },
  "varInspector": {
   "cols": {
    "lenName": 16,
    "lenType": 16,
    "lenVar": 40
   },
   "kernels_config": {
    "python": {
     "delete_cmd_postfix": "",
     "delete_cmd_prefix": "del ",
     "library": "var_list.py",
     "varRefreshCmd": "print(var_dic_list())"
    },
    "r": {
     "delete_cmd_postfix": ") ",
     "delete_cmd_prefix": "rm(",
     "library": "var_list.r",
     "varRefreshCmd": "cat(var_dic_list()) "
    }
   },
   "types_to_exclude": [
    "module",
    "function",
    "builtin_function_or_method",
    "instance",
    "_Feature"
   ],
   "window_display": false
  }
 },
 "nbformat": 4,
 "nbformat_minor": 2
}
