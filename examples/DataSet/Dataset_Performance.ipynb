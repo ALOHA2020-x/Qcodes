{
 "cells": [
  {
   "cell_type": "markdown",
   "metadata": {},
   "source": [
    "# DataSet Performance\n",
    "\n",
    "This notebook shows the trade-off between inserting data into a database row-by-row and as binary blobs. Inserting the data row-by-row means that we have direct access to all the data and may perform queries directly on the values of the data. On the other hand, as we shall see, this is much slower than inserting the data directly as binary blobs."
   ]
  },
  {
   "cell_type": "markdown",
   "metadata": {},
   "source": [
    "First, we choose a new location for the database to ensure that we don't add a bunch of benchmarking data to the default one."
   ]
  },
  {
   "cell_type": "code",
   "execution_count": 1,
   "metadata": {
    "execution": {
     "iopub.execute_input": "2021-01-03T11:46:21.748425Z",
     "iopub.status.busy": "2021-01-03T11:46:21.747864Z",
     "iopub.status.idle": "2021-01-03T11:46:22.794409Z",
     "shell.execute_reply": "2021-01-03T11:46:22.793465Z"
    }
   },
   "outputs": [
    {
     "name": "stdout",
     "output_type": "stream",
     "text": [
      "Logging hadn't been started.\n",
      "Activating auto-logging. Current session state plus future input saved.\n",
      "Filename       : /home/vsts/.qcodes/logs/command_history.log\n",
      "Mode           : append\n",
      "Output logging : True\n",
      "Raw input log  : False\n",
      "Timestamping   : True\n",
      "State          : active\n"
     ]
    },
    {
     "name": "stdout",
     "output_type": "stream",
     "text": [
      "Qcodes Logfile : /home/vsts/.qcodes/logs/210103-14132-qcodes.log\n"
     ]
    }
   ],
   "source": [
    "import os\n",
    "cwd = os.getcwd()\n",
    "import qcodes as qc\n",
    "qc.config[\"core\"][\"db_location\"] = os.path.join(cwd, 'testing.db')\n"
   ]
  },
  {
   "cell_type": "code",
   "execution_count": 2,
   "metadata": {
    "execution": {
     "iopub.execute_input": "2021-01-03T11:46:22.801708Z",
     "iopub.status.busy": "2021-01-03T11:46:22.801140Z",
     "iopub.status.idle": "2021-01-03T11:46:22.991192Z",
     "shell.execute_reply": "2021-01-03T11:46:22.990207Z"
    }
   },
   "outputs": [],
   "source": [
    "%matplotlib inline\n",
    "import time\n",
    "import matplotlib.pyplot as plt\n",
    "import numpy as np\n",
    "\n",
    "import qcodes as qc\n",
    "from qcodes.instrument.parameter import ManualParameter\n",
    "from qcodes.dataset.experiment_container import (Experiment,\n",
    "                                                 load_last_experiment,\n",
    "                                                 new_experiment)\n",
    "from qcodes.dataset.sqlite.database import initialise_database\n",
    "from qcodes import load_or_create_experiment\n",
    "from qcodes.dataset.measurements import Measurement"
   ]
  },
  {
   "cell_type": "code",
   "execution_count": 3,
   "metadata": {
    "execution": {
     "iopub.execute_input": "2021-01-03T11:46:22.994948Z",
     "iopub.status.busy": "2021-01-03T11:46:22.994423Z",
     "iopub.status.idle": "2021-01-03T11:46:23.117189Z",
     "shell.execute_reply": "2021-01-03T11:46:23.116690Z"
    }
   },
   "outputs": [
    {
     "name": "stdout",
     "output_type": "stream",
     "text": [
      "\r",
      "0it [00:00, ?it/s]"
     ]
    },
    {
     "name": "stdout",
     "output_type": "stream",
     "text": [
      "\r",
      "Upgrading database; v0 -> v1: : 0it [00:00, ?it/s]"
     ]
    },
    {
     "name": "stdout",
     "output_type": "stream",
     "text": [
      "\r",
      "Upgrading database; v0 -> v1: : 0it [00:00, ?it/s]"
     ]
    },
    {
     "name": "stdout",
     "output_type": "stream",
     "text": [
      "\n",
      "\r",
      "  0%|          | 0/1 [00:00<?, ?it/s]"
     ]
    },
    {
     "name": "stdout",
     "output_type": "stream",
     "text": [
      "\r",
      "Upgrading database; v1 -> v2:   0%|          | 0/1 [00:00<?, ?it/s]"
     ]
    },
    {
     "name": "stdout",
     "output_type": "stream",
     "text": [
      "\r",
      "Upgrading database; v1 -> v2: 100%|██████████| 1/1 [00:00<00:00, 445.87it/s]"
     ]
    },
    {
     "name": "stdout",
     "output_type": "stream",
     "text": [
      "\n",
      "\r",
      "0it [00:00, ?it/s]"
     ]
    },
    {
     "name": "stdout",
     "output_type": "stream",
     "text": [
      "\r",
      "Upgrading database; v2 -> v3: : 0it [00:00, ?it/s]"
     ]
    },
    {
     "name": "stdout",
     "output_type": "stream",
     "text": [
      "\r",
      "Upgrading database; v2 -> v3: : 0it [00:00, ?it/s]"
     ]
    },
    {
     "name": "stdout",
     "output_type": "stream",
     "text": [
      "\n",
      "\r",
      "0it [00:00, ?it/s]"
     ]
    },
    {
     "name": "stdout",
     "output_type": "stream",
     "text": [
      "\r",
      "Upgrading database; v3 -> v4: : 0it [00:00, ?it/s]"
     ]
    },
    {
     "name": "stdout",
     "output_type": "stream",
     "text": [
      "\r",
      "Upgrading database; v3 -> v4: : 0it [00:00, ?it/s]"
     ]
    },
    {
     "name": "stdout",
     "output_type": "stream",
     "text": [
      "\n",
      "\r",
      "  0%|          | 0/1 [00:00<?, ?it/s]"
     ]
    },
    {
     "name": "stdout",
     "output_type": "stream",
     "text": [
      "\r",
      "Upgrading database; v4 -> v5:   0%|          | 0/1 [00:00<?, ?it/s]"
     ]
    },
    {
     "name": "stdout",
     "output_type": "stream",
     "text": [
      "\r",
      "Upgrading database; v4 -> v5: 100%|██████████| 1/1 [00:00<00:00, 437.09it/s]"
     ]
    },
    {
     "name": "stdout",
     "output_type": "stream",
     "text": [
      "\n",
      "\r",
      "0it [00:00, ?it/s]"
     ]
    },
    {
     "name": "stdout",
     "output_type": "stream",
     "text": [
      "\r",
      "Upgrading database; v5 -> v6: : 0it [00:00, ?it/s]"
     ]
    },
    {
     "name": "stdout",
     "output_type": "stream",
     "text": [
      "\r",
      "Upgrading database; v5 -> v6: : 0it [00:00, ?it/s]"
     ]
    },
    {
     "name": "stdout",
     "output_type": "stream",
     "text": [
      "\n",
      "\r",
      "  0%|          | 0/1 [00:00<?, ?it/s]"
     ]
    },
    {
     "name": "stdout",
     "output_type": "stream",
     "text": [
      "\r",
      "Upgrading database; v6 -> v7:   0%|          | 0/1 [00:00<?, ?it/s]"
     ]
    },
    {
     "name": "stdout",
     "output_type": "stream",
     "text": [
      "\r",
      "Upgrading database; v6 -> v7: 100%|██████████| 1/1 [00:00<00:00, 320.71it/s]"
     ]
    },
    {
     "name": "stdout",
     "output_type": "stream",
     "text": [
      "\n",
      "\r",
      "  0%|          | 0/1 [00:00<?, ?it/s]"
     ]
    },
    {
     "name": "stdout",
     "output_type": "stream",
     "text": [
      "\r",
      "Upgrading database; v7 -> v8:   0%|          | 0/1 [00:00<?, ?it/s]"
     ]
    },
    {
     "name": "stdout",
     "output_type": "stream",
     "text": [
      "\r",
      "Upgrading database; v7 -> v8: 100%|██████████| 1/1 [00:00<00:00, 562.84it/s]"
     ]
    },
    {
     "name": "stdout",
     "output_type": "stream",
     "text": [
      "\n",
      "\r",
      "  0%|          | 0/1 [00:00<?, ?it/s]"
     ]
    },
    {
     "name": "stdout",
     "output_type": "stream",
     "text": [
      "\r",
      "Upgrading database; v8 -> v9:   0%|          | 0/1 [00:00<?, ?it/s]"
     ]
    },
    {
     "name": "stdout",
     "output_type": "stream",
     "text": [
      "\r",
      "Upgrading database; v8 -> v9: 100%|██████████| 1/1 [00:00<00:00, 962.00it/s]"
     ]
    },
    {
     "name": "stdout",
     "output_type": "stream",
     "text": [
      "\n"
     ]
    }
   ],
   "source": [
    "initialise_database()\n",
    "exp = load_or_create_experiment(experiment_name='tutorial_exp', sample_name=\"no sample\")"
   ]
  },
  {
   "cell_type": "markdown",
   "metadata": {},
   "source": [
    "Here, we define a simple function to benchmark the time it takes to insert n points with either numeric or array data type.\n",
    "We will compare both the time used to call ``add_result`` and the time used for the full measurement."
   ]
  },
  {
   "cell_type": "code",
   "execution_count": 4,
   "metadata": {
    "execution": {
     "iopub.execute_input": "2021-01-03T11:46:23.125583Z",
     "iopub.status.busy": "2021-01-03T11:46:23.125027Z",
     "iopub.status.idle": "2021-01-03T11:46:23.128476Z",
     "shell.execute_reply": "2021-01-03T11:46:23.127930Z"
    }
   },
   "outputs": [],
   "source": [
    "def insert_data(paramtype, npoints, nreps=1):\n",
    "\n",
    "    meas = Measurement(exp=exp)\n",
    "\n",
    "    x1 = ManualParameter('x1')\n",
    "    x2 = ManualParameter('x2')\n",
    "    x3 = ManualParameter('x3')\n",
    "    y1 = ManualParameter('y1')\n",
    "    y2 = ManualParameter('y2')\n",
    "\n",
    "    meas.register_parameter(x1, paramtype=paramtype)\n",
    "    meas.register_parameter(x2, paramtype=paramtype)\n",
    "    meas.register_parameter(x3, paramtype=paramtype)\n",
    "    meas.register_parameter(y1, setpoints=[x1, x2, x3],\n",
    "                            paramtype=paramtype)\n",
    "    meas.register_parameter(y2, setpoints=[x1, x2, x3],\n",
    "                            paramtype=paramtype)\n",
    "    start = time.perf_counter()\n",
    "    with meas.run() as datasaver:\n",
    "        start_adding = time.perf_counter()\n",
    "        for i in range(nreps):\n",
    "            datasaver.add_result((x1, np.random.rand(npoints)),\n",
    "                                 (x2, np.random.rand(npoints)),\n",
    "                                 (x3, np.random.rand(npoints)),\n",
    "                                 (y1, np.random.rand(npoints)),\n",
    "                                 (y2, np.random.rand(npoints)))\n",
    "        stop_adding = time.perf_counter()\n",
    "        run_id = datasaver.run_id\n",
    "    stop = time.perf_counter()\n",
    "    tot_time = stop - start\n",
    "    add_time = stop_adding - start_adding\n",
    "    return tot_time, add_time, run_id"
   ]
  },
  {
   "cell_type": "markdown",
   "metadata": {},
   "source": [
    "## Comparison between numeric/array data and binary blob"
   ]
  },
  {
   "cell_type": "markdown",
   "metadata": {},
   "source": [
    "### Case1: Short experiment time"
   ]
  },
  {
   "cell_type": "code",
   "execution_count": 5,
   "metadata": {
    "execution": {
     "iopub.execute_input": "2021-01-03T11:46:23.132883Z",
     "iopub.status.busy": "2021-01-03T11:46:23.132364Z",
     "iopub.status.idle": "2021-01-03T11:46:23.930720Z",
     "shell.execute_reply": "2021-01-03T11:46:23.930233Z"
    }
   },
   "outputs": [
    {
     "name": "stdout",
     "output_type": "stream",
     "text": [
      "Starting experimental run with id: 1. \n",
      "Starting experimental run with id: 2. \n",
      "Starting experimental run with id: 3. \n",
      "Starting experimental run with id: 4. \n",
      "Starting experimental run with id: 5. \n"
     ]
    },
    {
     "name": "stdout",
     "output_type": "stream",
     "text": [
      "Starting experimental run with id: 6. \n"
     ]
    },
    {
     "name": "stdout",
     "output_type": "stream",
     "text": [
      "Starting experimental run with id: 7. "
     ]
    },
    {
     "name": "stdout",
     "output_type": "stream",
     "text": [
      "\n"
     ]
    },
    {
     "name": "stdout",
     "output_type": "stream",
     "text": [
      "Starting experimental run with id: 8. \n",
      "Starting experimental run with id: 9. \n"
     ]
    },
    {
     "name": "stdout",
     "output_type": "stream",
     "text": [
      "Starting experimental run with id: 10. \n",
      "Starting experimental run with id: 11. \n"
     ]
    },
    {
     "name": "stdout",
     "output_type": "stream",
     "text": [
      "Starting experimental run with id: 12. \n",
      "Starting experimental run with id: 13. \n"
     ]
    },
    {
     "name": "stdout",
     "output_type": "stream",
     "text": [
      "Starting experimental run with id: 14. \n"
     ]
    }
   ],
   "source": [
    "sizes = [1,500,1000,2000,3000,4000,5000]\n",
    "t_numeric = []\n",
    "t_numeric_add = []\n",
    "t_array = []\n",
    "t_array_add = []\n",
    "for size in sizes:\n",
    "    tn, tna, run_id_n =  insert_data('numeric', size)\n",
    "    t_numeric.append(tn)\n",
    "    t_numeric_add.append(tna)\n",
    "\n",
    "    ta, taa, run_id_a =  insert_data('array', size)\n",
    "    t_array.append(ta)\n",
    "    t_array_add.append(taa)"
   ]
  },
  {
   "cell_type": "code",
   "execution_count": 6,
   "metadata": {
    "execution": {
     "iopub.execute_input": "2021-01-03T11:46:23.973685Z",
     "iopub.status.busy": "2021-01-03T11:46:23.956805Z",
     "iopub.status.idle": "2021-01-03T11:46:24.128204Z",
     "shell.execute_reply": "2021-01-03T11:46:24.128964Z"
    }
   },
   "outputs": [
    {
     "data": {
      "image/png": "[encoded data removed]",
      "text/plain": [
       "<Figure size 432x288 with 1 Axes>"
      ]
     },
     "metadata": {
      "needs_background": "light"
     },
     "output_type": "display_data"
    }
   ],
   "source": [
    "fig, ax = plt.subplots(1,1)\n",
    "ax.plot(sizes, t_numeric, 'o-', label='Inserting row-by-row')\n",
    "ax.plot(sizes, t_numeric_add, 'o-', label='Inserting row-by-row: add_result only')\n",
    "ax.plot(sizes, t_array, 'd-', label='Inserting as binary blob')\n",
    "ax.plot(sizes, t_array_add, 'd-', label='Inserting as binary blob: add_result only')\n",
    "ax.legend()\n",
    "ax.set_xlabel('Array length')\n",
    "ax.set_ylabel('Time (s)')\n",
    "fig.tight_layout()"
   ]
  },
  {
   "cell_type": "markdown",
   "metadata": {},
   "source": [
    "As shown in the latter figure, the time to setup and and close the experiment is approximately 0.4 sec. In case of small array sizes, the difference between inserting values of data as arrays and inserting them row-by-row is relatively unimportant. At larger array sizes, i.e. above 10000 points, the cost of writing data as individual datapoints starts to become important.\n"
   ]
  },
  {
   "cell_type": "markdown",
   "metadata": {},
   "source": [
    "### Case2: Long experiment time "
   ]
  },
  {
   "cell_type": "code",
   "execution_count": 7,
   "metadata": {
    "execution": {
     "iopub.execute_input": "2021-01-03T11:46:24.132342Z",
     "iopub.status.busy": "2021-01-03T11:46:24.131307Z",
     "iopub.status.idle": "2021-01-03T11:47:23.654369Z",
     "shell.execute_reply": "2021-01-03T11:47:23.653703Z"
    }
   },
   "outputs": [
    {
     "name": "stdout",
     "output_type": "stream",
     "text": [
      "Starting experimental run with id: 15. \n",
      "Starting experimental run with id: 16. \n",
      "Starting experimental run with id: 17. \n"
     ]
    },
    {
     "name": "stdout",
     "output_type": "stream",
     "text": [
      "Starting experimental run with id: 18. \n",
      "Starting experimental run with id: 19. \n"
     ]
    },
    {
     "name": "stdout",
     "output_type": "stream",
     "text": [
      "Starting experimental run with id: 20. \n"
     ]
    },
    {
     "name": "stdout",
     "output_type": "stream",
     "text": [
      "Starting experimental run with id: 21. \n"
     ]
    },
    {
     "name": "stdout",
     "output_type": "stream",
     "text": [
      "Starting experimental run with id: 22. \n"
     ]
    },
    {
     "name": "stdout",
     "output_type": "stream",
     "text": [
      "Starting experimental run with id: 23. \n"
     ]
    },
    {
     "name": "stdout",
     "output_type": "stream",
     "text": [
      "Starting experimental run with id: 24. \n"
     ]
    },
    {
     "name": "stdout",
     "output_type": "stream",
     "text": [
      "Starting experimental run with id: 25. \n"
     ]
    },
    {
     "name": "stdout",
     "output_type": "stream",
     "text": [
      "Starting experimental run with id: 26. \n"
     ]
    },
    {
     "name": "stdout",
     "output_type": "stream",
     "text": [
      "Starting experimental run with id: 27. \n"
     ]
    },
    {
     "name": "stdout",
     "output_type": "stream",
     "text": [
      "Starting experimental run with id: 28. \n"
     ]
    }
   ],
   "source": [
    "sizes = [1,500,1000,2000,3000,4000,5000]\n",
    "nreps = 100\n",
    "t_numeric = []\n",
    "t_numeric_add = []\n",
    "t_numeric_run_ids = []\n",
    "t_array = []\n",
    "t_array_add = []\n",
    "t_array_run_ids = []\n",
    "for size in sizes:\n",
    "    tn, tna, run_id_n =  insert_data('numeric', size, nreps=nreps)\n",
    "    t_numeric.append(tn)\n",
    "    t_numeric_add.append(tna)\n",
    "    t_numeric_run_ids.append(run_id_n)\n",
    "\n",
    "    ta, taa, run_id_a =  insert_data('array', size, nreps=nreps)\n",
    "    t_array.append(ta)\n",
    "    t_array_add.append(taa)\n",
    "    t_array_run_ids.append(run_id_a)"
   ]
  },
  {
   "cell_type": "code",
   "execution_count": 8,
   "metadata": {
    "execution": {
     "iopub.execute_input": "2021-01-03T11:47:23.683314Z",
     "iopub.status.busy": "2021-01-03T11:47:23.681003Z",
     "iopub.status.idle": "2021-01-03T11:47:23.855738Z",
     "shell.execute_reply": "2021-01-03T11:47:23.856471Z"
    },
    "scrolled": true
   },
   "outputs": [
    {
     "data": {
      "image/png": "[encoded data removed]",
      "text/plain": [
       "<Figure size 432x288 with 1 Axes>"
      ]
     },
     "metadata": {
      "needs_background": "light"
     },
     "output_type": "display_data"
    }
   ],
   "source": [
    "fig, ax = plt.subplots(1,1)\n",
    "ax.plot(sizes, t_numeric, 'o-', label='Inserting row-by-row')\n",
    "ax.plot(sizes, t_numeric_add, 'o-', label='Inserting row-by-row: add_result only')\n",
    "ax.plot(sizes, t_array, 'd-', label='Inserting as binary blob')\n",
    "ax.plot(sizes, t_array_add, 'd-', label='Inserting as binary blob: add_result only')\n",
    "ax.legend()\n",
    "ax.set_xlabel('Array length')\n",
    "ax.set_ylabel('Time (s)')\n",
    "fig.tight_layout()"
   ]
  },
  {
   "cell_type": "markdown",
   "metadata": {},
   "source": [
    "However, as we increase the length of the experiment, as seen here by repeating the insertion 100 times, we see a big difference between inserting values of the data row-by-row and inserting it as a binary blob."
   ]
  },
  {
   "cell_type": "markdown",
   "metadata": {},
   "source": [
    "## Loading the data "
   ]
  },
  {
   "cell_type": "code",
   "execution_count": 9,
   "metadata": {
    "execution": {
     "iopub.execute_input": "2021-01-03T11:47:23.860879Z",
     "iopub.status.busy": "2021-01-03T11:47:23.859675Z",
     "iopub.status.idle": "2021-01-03T11:47:23.863026Z",
     "shell.execute_reply": "2021-01-03T11:47:23.862580Z"
    }
   },
   "outputs": [],
   "source": [
    "from qcodes.dataset.data_set import load_by_id\n",
    "from qcodes.dataset.data_export import get_data_by_id"
   ]
  },
  {
   "cell_type": "markdown",
   "metadata": {},
   "source": [
    "As usual you can load the data by using the ``load_by_id`` function but you will notice that the different storage methods\n",
    "are reflected in shape of the data as it is retrieved. "
   ]
  },
  {
   "cell_type": "code",
   "execution_count": 10,
   "metadata": {
    "execution": {
     "iopub.execute_input": "2021-01-03T11:47:23.866314Z",
     "iopub.status.busy": "2021-01-03T11:47:23.865801Z",
     "iopub.status.idle": "2021-01-03T11:47:23.867963Z",
     "shell.execute_reply": "2021-01-03T11:47:23.868490Z"
    }
   },
   "outputs": [],
   "source": [
    "run_id_n = t_numeric_run_ids[0]\n",
    "run_id_a = t_array_run_ids[0]"
   ]
  },
  {
   "cell_type": "code",
   "execution_count": 11,
   "metadata": {
    "execution": {
     "iopub.execute_input": "2021-01-03T11:47:23.871751Z",
     "iopub.status.busy": "2021-01-03T11:47:23.871232Z",
     "iopub.status.idle": "2021-01-03T11:47:23.880608Z",
     "shell.execute_reply": "2021-01-03T11:47:23.880056Z"
    },
    "scrolled": true
   },
   "outputs": [
    {
     "data": {
      "text/plain": [
       "{'x1': {'x1': array([0.1588084 , 0.1588084 , 0.63861765, 0.63861765, 0.36682229,\n",
       "         0.36682229, 0.47116242, 0.47116242, 0.95118654, 0.95118654,\n",
       "         0.46100782, 0.46100782, 0.23412665, 0.23412665, 0.94551334,\n",
       "         0.94551334, 0.97667203, 0.97667203, 0.39961924, 0.39961924,\n",
       "         0.27603421, 0.27603421, 0.01513471, 0.01513471, 0.23797529,\n",
       "         0.23797529, 0.00441239, 0.00441239, 0.67201329, 0.67201329,\n",
       "         0.34918254, 0.34918254, 0.33155097, 0.33155097, 0.45471566,\n",
       "         0.45471566, 0.84623663, 0.84623663, 0.32401158, 0.32401158,\n",
       "         0.62296137, 0.62296137, 0.37927495, 0.37927495, 0.66651549,\n",
       "         0.66651549, 0.84541639, 0.84541639, 0.67535778, 0.67535778,\n",
       "         0.89356613, 0.89356613, 0.45186159, 0.45186159, 0.71215659,\n",
       "         0.71215659, 0.69710371, 0.69710371, 0.74229445, 0.74229445,\n",
       "         0.27384245, 0.27384245, 0.20173047, 0.20173047, 0.25922714,\n",
       "         0.25922714, 0.60652123, 0.60652123, 0.23926022, 0.23926022,\n",
       "         0.78642441, 0.78642441, 0.72614198, 0.72614198, 0.2713689 ,\n",
       "         0.2713689 , 0.61031805, 0.61031805, 0.2183459 , 0.2183459 ,\n",
       "         0.21925109, 0.21925109, 0.16467371, 0.16467371, 0.81939402,\n",
       "         0.81939402, 0.72285453, 0.72285453, 0.0884267 , 0.0884267 ,\n",
       "         0.40720999, 0.40720999, 0.95328473, 0.95328473, 0.97895719,\n",
       "         0.97895719, 0.02838562, 0.02838562, 0.94570955, 0.94570955,\n",
       "         0.38969447, 0.38969447, 0.2306191 , 0.2306191 , 0.32094475,\n",
       "         0.32094475, 0.93326968, 0.93326968, 0.70365805, 0.70365805,\n",
       "         0.85148831, 0.85148831, 0.5452453 , 0.5452453 , 0.73333749,\n",
       "         0.73333749, 0.56370509, 0.56370509, 0.17935854, 0.17935854,\n",
       "         0.13483929, 0.13483929, 0.21727324, 0.21727324, 0.31203137,\n",
       "         0.31203137, 0.99812395, 0.99812395, 0.54804652, 0.54804652,\n",
       "         0.15706758, 0.15706758, 0.70242281, 0.70242281, 0.55601943,\n",
       "         0.55601943, 0.49147394, 0.49147394, 0.37886106, 0.37886106,\n",
       "         0.955159  , 0.955159  , 0.56731993, 0.56731993, 0.16728557,\n",
       "         0.16728557, 0.36929403, 0.36929403, 0.26104346, 0.26104346,\n",
       "         0.33429772, 0.33429772, 0.63567138, 0.63567138, 0.50400574,\n",
       "         0.50400574, 0.18423465, 0.18423465, 0.45530082, 0.45530082,\n",
       "         0.80830421, 0.80830421, 0.37387245, 0.37387245, 0.99526845,\n",
       "         0.99526845, 0.64013668, 0.64013668, 0.79227101, 0.79227101,\n",
       "         0.53340616, 0.53340616, 0.51317703, 0.51317703, 0.30156795,\n",
       "         0.30156795, 0.41337496, 0.41337496, 0.97457244, 0.97457244,\n",
       "         0.63808725, 0.63808725, 0.04720928, 0.04720928, 0.99230705,\n",
       "         0.99230705, 0.59945056, 0.59945056, 0.11815215, 0.11815215,\n",
       "         0.08209302, 0.08209302, 0.42681965, 0.42681965, 0.87910566,\n",
       "         0.87910566, 0.38434339, 0.38434339, 0.76215057, 0.76215057])}}"
      ]
     },
     "execution_count": 1,
     "metadata": {},
     "output_type": "execute_result"
    }
   ],
   "source": [
    "ds = load_by_id(run_id_n)\n",
    "ds.get_parameter_data('x1')"
   ]
  },
  {
   "cell_type": "markdown",
   "metadata": {},
   "source": [
    "And a dataset stored as binary arrays"
   ]
  },
  {
   "cell_type": "code",
   "execution_count": 12,
   "metadata": {
    "execution": {
     "iopub.execute_input": "2021-01-03T11:47:23.883894Z",
     "iopub.status.busy": "2021-01-03T11:47:23.883387Z",
     "iopub.status.idle": "2021-01-03T11:47:23.939032Z",
     "shell.execute_reply": "2021-01-03T11:47:23.939585Z"
    },
    "scrolled": true
   },
   "outputs": [
    {
     "data": {
      "text/plain": [
       "{'x1': {'x1': array([[0.06487284],\n",
       "         [0.06487284],\n",
       "         [0.43128576],\n",
       "         [0.43128576],\n",
       "         [0.01211359],\n",
       "         [0.01211359],\n",
       "         [0.99906873],\n",
       "         [0.99906873],\n",
       "         [0.80772915],\n",
       "         [0.80772915],\n",
       "         [0.42757336],\n",
       "         [0.42757336],\n",
       "         [0.39123328],\n",
       "         [0.39123328],\n",
       "         [0.0747612 ],\n",
       "         [0.0747612 ],\n",
       "         [0.03193695],\n",
       "         [0.03193695],\n",
       "         [0.41301991],\n",
       "         [0.41301991],\n",
       "         [0.04019642],\n",
       "         [0.04019642],\n",
       "         [0.58536485],\n",
       "         [0.58536485],\n",
       "         [0.36251927],\n",
       "         [0.36251927],\n",
       "         [0.30819451],\n",
       "         [0.30819451],\n",
       "         [0.79325299],\n",
       "         [0.79325299],\n",
       "         [0.9740051 ],\n",
       "         [0.9740051 ],\n",
       "         [0.98383539],\n",
       "         [0.98383539],\n",
       "         [0.64427013],\n",
       "         [0.64427013],\n",
       "         [0.78926026],\n",
       "         [0.78926026],\n",
       "         [0.92606528],\n",
       "         [0.92606528],\n",
       "         [0.85231346],\n",
       "         [0.85231346],\n",
       "         [0.21337022],\n",
       "         [0.21337022],\n",
       "         [0.4667954 ],\n",
       "         [0.4667954 ],\n",
       "         [0.19154767],\n",
       "         [0.19154767],\n",
       "         [0.69585259],\n",
       "         [0.69585259],\n",
       "         [0.9653176 ],\n",
       "         [0.9653176 ],\n",
       "         [0.4423397 ],\n",
       "         [0.4423397 ],\n",
       "         [0.97371912],\n",
       "         [0.97371912],\n",
       "         [0.74533278],\n",
       "         [0.74533278],\n",
       "         [0.63444907],\n",
       "         [0.63444907],\n",
       "         [0.8090658 ],\n",
       "         [0.8090658 ],\n",
       "         [0.47096326],\n",
       "         [0.47096326],\n",
       "         [0.02656227],\n",
       "         [0.02656227],\n",
       "         [0.95964981],\n",
       "         [0.95964981],\n",
       "         [0.57501572],\n",
       "         [0.57501572],\n",
       "         [0.68690786],\n",
       "         [0.68690786],\n",
       "         [0.42373425],\n",
       "         [0.42373425],\n",
       "         [0.00955088],\n",
       "         [0.00955088],\n",
       "         [0.53709714],\n",
       "         [0.53709714],\n",
       "         [0.82528644],\n",
       "         [0.82528644],\n",
       "         [0.12631285],\n",
       "         [0.12631285],\n",
       "         [0.72658131],\n",
       "         [0.72658131],\n",
       "         [0.4819886 ],\n",
       "         [0.4819886 ],\n",
       "         [0.78340923],\n",
       "         [0.78340923],\n",
       "         [0.43997465],\n",
       "         [0.43997465],\n",
       "         [0.12542019],\n",
       "         [0.12542019],\n",
       "         [0.30132307],\n",
       "         [0.30132307],\n",
       "         [0.34510589],\n",
       "         [0.34510589],\n",
       "         [0.3578127 ],\n",
       "         [0.3578127 ],\n",
       "         [0.18347958],\n",
       "         [0.18347958],\n",
       "         [0.99340746],\n",
       "         [0.99340746],\n",
       "         [0.57061281],\n",
       "         [0.57061281],\n",
       "         [0.32529433],\n",
       "         [0.32529433],\n",
       "         [0.91825552],\n",
       "         [0.91825552],\n",
       "         [0.85343764],\n",
       "         [0.85343764],\n",
       "         [0.95194139],\n",
       "         [0.95194139],\n",
       "         [0.561654  ],\n",
       "         [0.561654  ],\n",
       "         [0.03582089],\n",
       "         [0.03582089],\n",
       "         [0.70241541],\n",
       "         [0.70241541],\n",
       "         [0.22933324],\n",
       "         [0.22933324],\n",
       "         [0.0332747 ],\n",
       "         [0.0332747 ],\n",
       "         [0.02506954],\n",
       "         [0.02506954],\n",
       "         [0.60314171],\n",
       "         [0.60314171],\n",
       "         [0.30004328],\n",
       "         [0.30004328],\n",
       "         [0.86842456],\n",
       "         [0.86842456],\n",
       "         [0.28115689],\n",
       "         [0.28115689],\n",
       "         [0.12887879],\n",
       "         [0.12887879],\n",
       "         [0.90071216],\n",
       "         [0.90071216],\n",
       "         [0.97418444],\n",
       "         [0.97418444],\n",
       "         [0.43333106],\n",
       "         [0.43333106],\n",
       "         [0.87000574],\n",
       "         [0.87000574],\n",
       "         [0.53431466],\n",
       "         [0.53431466],\n",
       "         [0.03398815],\n",
       "         [0.03398815],\n",
       "         [0.97208259],\n",
       "         [0.97208259],\n",
       "         [0.28879767],\n",
       "         [0.28879767],\n",
       "         [0.78169615],\n",
       "         [0.78169615],\n",
       "         [0.05927287],\n",
       "         [0.05927287],\n",
       "         [0.43329576],\n",
       "         [0.43329576],\n",
       "         [0.52076845],\n",
       "         [0.52076845],\n",
       "         [0.82214236],\n",
       "         [0.82214236],\n",
       "         [0.53486033],\n",
       "         [0.53486033],\n",
       "         [0.59876203],\n",
       "         [0.59876203],\n",
       "         [0.27706051],\n",
       "         [0.27706051],\n",
       "         [0.21745588],\n",
       "         [0.21745588],\n",
       "         [0.67618627],\n",
       "         [0.67618627],\n",
       "         [0.3379585 ],\n",
       "         [0.3379585 ],\n",
       "         [0.05133407],\n",
       "         [0.05133407],\n",
       "         [0.06131044],\n",
       "         [0.06131044],\n",
       "         [0.2542286 ],\n",
       "         [0.2542286 ],\n",
       "         [0.44180853],\n",
       "         [0.44180853],\n",
       "         [0.66789136],\n",
       "         [0.66789136],\n",
       "         [0.89018093],\n",
       "         [0.89018093],\n",
       "         [0.44981761],\n",
       "         [0.44981761],\n",
       "         [0.87091106],\n",
       "         [0.87091106],\n",
       "         [0.80479323],\n",
       "         [0.80479323],\n",
       "         [0.80848518],\n",
       "         [0.80848518],\n",
       "         [0.75236864],\n",
       "         [0.75236864],\n",
       "         [0.00629919],\n",
       "         [0.00629919],\n",
       "         [0.53725275],\n",
       "         [0.53725275],\n",
       "         [0.76327112],\n",
       "         [0.76327112]])}}"
      ]
     },
     "execution_count": 1,
     "metadata": {},
     "output_type": "execute_result"
    }
   ],
   "source": [
    "ds = load_by_id(run_id_a)\n",
    "ds.get_parameter_data('x1')"
   ]
  },
  {
   "cell_type": "code",
   "execution_count": null,
   "metadata": {},
   "outputs": [],
   "source": []
  }
 ],
 "metadata": {
  "kernelspec": {
   "display_name": "Python 3",
   "language": "python",
   "name": "python3"
  },
  "language_info": {
   "codemirror_mode": {
    "name": "ipython",
    "version": 3
   },
   "file_extension": ".py",
   "mimetype": "text/x-python",
   "name": "python",
   "nbconvert_exporter": "python",
   "pygments_lexer": "ipython3",
   "version": "3.7.9"
  },
  "nbsphinx": {
   "timeout": 600
  },
  "toc": {
   "base_numbering": 1,
   "nav_menu": {},
   "number_sections": true,
   "sideBar": true,
   "skip_h1_title": false,
   "title_cell": "Table of Contents",
   "title_sidebar": "Contents",
   "toc_cell": false,
   "toc_position": {},
   "toc_section_display": true,
   "toc_window_display": false
  },
  "varInspector": {
   "cols": {
    "lenName": 16,
    "lenType": 16,
    "lenVar": 40
   },
   "kernels_config": {
    "python": {
     "delete_cmd_postfix": "",
     "delete_cmd_prefix": "del ",
     "library": "var_list.py",
     "varRefreshCmd": "print(var_dic_list())"
    },
    "r": {
     "delete_cmd_postfix": ") ",
     "delete_cmd_prefix": "rm(",
     "library": "var_list.r",
     "varRefreshCmd": "cat(var_dic_list()) "
    }
   },
   "types_to_exclude": [
    "module",
    "function",
    "builtin_function_or_method",
    "instance",
    "_Feature"
   ],
   "window_display": false
  }
 },
 "nbformat": 4,
 "nbformat_minor": 2
}
