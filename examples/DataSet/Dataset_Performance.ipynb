{
 "cells": [
  {
   "cell_type": "markdown",
   "metadata": {},
   "source": [
    "# DataSet Performance\n",
    "\n",
    "This notebook shows the trade-off between inserting data into a database row-by-row and as binary blobs. Inserting the data row-by-row means that we have direct access to all the data and may perform queries directly on the values of the data. On the other hand, as we shall see, this is much slower than inserting the data directly as binary blobs."
   ]
  },
  {
   "cell_type": "markdown",
   "metadata": {},
   "source": [
    "First, we choose a new location for the database to ensure that we don't add a bunch of benchmarking data to the default one."
   ]
  },
  {
   "cell_type": "code",
   "execution_count": 1,
   "metadata": {
    "execution": {
     "iopub.execute_input": "2021-01-26T18:04:31.327957Z",
     "iopub.status.busy": "2021-01-26T18:04:31.326851Z",
     "iopub.status.idle": "2021-01-26T18:04:32.393919Z",
     "shell.execute_reply": "2021-01-26T18:04:32.393071Z"
    }
   },
   "outputs": [
    {
     "name": "stdout",
     "output_type": "stream",
     "text": [
      "Logging hadn't been started.\n",
      "Activating auto-logging. Current session state plus future input saved.\n",
      "Filename       : /home/vsts/.qcodes/logs/command_history.log\n",
      "Mode           : append\n",
      "Output logging : True\n",
      "Raw input log  : False\n",
      "Timestamping   : True\n",
      "State          : active\n"
     ]
    },
    {
     "name": "stdout",
     "output_type": "stream",
     "text": [
      "Qcodes Logfile : /home/vsts/.qcodes/logs/210126-13253-qcodes.log\n"
     ]
    }
   ],
   "source": [
    "import os\n",
    "cwd = os.getcwd()\n",
    "import qcodes as qc\n",
    "qc.config[\"core\"][\"db_location\"] = os.path.join(cwd, 'testing.db')\n"
   ]
  },
  {
   "cell_type": "code",
   "execution_count": 2,
   "metadata": {
    "execution": {
     "iopub.execute_input": "2021-01-26T18:04:32.399626Z",
     "iopub.status.busy": "2021-01-26T18:04:32.398713Z",
     "iopub.status.idle": "2021-01-26T18:04:32.592233Z",
     "shell.execute_reply": "2021-01-26T18:04:32.591696Z"
    }
   },
   "outputs": [],
   "source": [
    "%matplotlib inline\n",
    "import time\n",
    "import matplotlib.pyplot as plt\n",
    "import numpy as np\n",
    "\n",
    "import qcodes as qc\n",
    "from qcodes.instrument.parameter import ManualParameter\n",
    "from qcodes.dataset.experiment_container import (Experiment,\n",
    "                                                 load_last_experiment,\n",
    "                                                 new_experiment)\n",
    "from qcodes.dataset.sqlite.database import initialise_database\n",
    "from qcodes import load_or_create_experiment\n",
    "from qcodes.dataset.measurements import Measurement"
   ]
  },
  {
   "cell_type": "code",
   "execution_count": 3,
   "metadata": {
    "execution": {
     "iopub.execute_input": "2021-01-26T18:04:32.596301Z",
     "iopub.status.busy": "2021-01-26T18:04:32.595398Z",
     "iopub.status.idle": "2021-01-26T18:04:32.715994Z",
     "shell.execute_reply": "2021-01-26T18:04:32.715374Z"
    }
   },
   "outputs": [
    {
     "name": "stdout",
     "output_type": "stream",
     "text": [
      "\r",
      "0it [00:00, ?it/s]"
     ]
    },
    {
     "name": "stdout",
     "output_type": "stream",
     "text": [
      "\r",
      "Upgrading database; v0 -> v1: : 0it [00:00, ?it/s]"
     ]
    },
    {
     "name": "stdout",
     "output_type": "stream",
     "text": [
      "\r",
      "Upgrading database; v0 -> v1: : 0it [00:00, ?it/s]"
     ]
    },
    {
     "name": "stdout",
     "output_type": "stream",
     "text": [
      "\n",
      "\r",
      "  0%|          | 0/1 [00:00<?, ?it/s]"
     ]
    },
    {
     "name": "stdout",
     "output_type": "stream",
     "text": [
      "\r",
      "Upgrading database; v1 -> v2:   0%|          | 0/1 [00:00<?, ?it/s]"
     ]
    },
    {
     "name": "stdout",
     "output_type": "stream",
     "text": [
      "\r",
      "Upgrading database; v1 -> v2: 100%|██████████| 1/1 [00:00<00:00, 610.08it/s]"
     ]
    },
    {
     "name": "stdout",
     "output_type": "stream",
     "text": [
      "\n",
      "\r",
      "0it [00:00, ?it/s]"
     ]
    },
    {
     "name": "stdout",
     "output_type": "stream",
     "text": [
      "\r",
      "Upgrading database; v2 -> v3: : 0it [00:00, ?it/s]"
     ]
    },
    {
     "name": "stdout",
     "output_type": "stream",
     "text": [
      "\r",
      "Upgrading database; v2 -> v3: : 0it [00:00, ?it/s]"
     ]
    },
    {
     "name": "stdout",
     "output_type": "stream",
     "text": [
      "\n",
      "\r",
      "0it [00:00, ?it/s]"
     ]
    },
    {
     "name": "stdout",
     "output_type": "stream",
     "text": [
      "\r",
      "Upgrading database; v3 -> v4: : 0it [00:00, ?it/s]"
     ]
    },
    {
     "name": "stdout",
     "output_type": "stream",
     "text": [
      "\r",
      "Upgrading database; v3 -> v4: : 0it [00:00, ?it/s]"
     ]
    },
    {
     "name": "stdout",
     "output_type": "stream",
     "text": [
      "\n",
      "\r",
      "  0%|          | 0/1 [00:00<?, ?it/s]"
     ]
    },
    {
     "name": "stdout",
     "output_type": "stream",
     "text": [
      "\r",
      "Upgrading database; v4 -> v5:   0%|          | 0/1 [00:00<?, ?it/s]"
     ]
    },
    {
     "name": "stdout",
     "output_type": "stream",
     "text": [
      "\r",
      "Upgrading database; v4 -> v5: 100%|██████████| 1/1 [00:00<00:00, 417.51it/s]"
     ]
    },
    {
     "name": "stdout",
     "output_type": "stream",
     "text": [
      "\n",
      "\r",
      "0it [00:00, ?it/s]"
     ]
    },
    {
     "name": "stdout",
     "output_type": "stream",
     "text": [
      "\r",
      "Upgrading database; v5 -> v6: : 0it [00:00, ?it/s]"
     ]
    },
    {
     "name": "stdout",
     "output_type": "stream",
     "text": [
      "\r",
      "Upgrading database; v5 -> v6: : 0it [00:00, ?it/s]"
     ]
    },
    {
     "name": "stdout",
     "output_type": "stream",
     "text": [
      "\n",
      "\r",
      "  0%|          | 0/1 [00:00<?, ?it/s]"
     ]
    },
    {
     "name": "stdout",
     "output_type": "stream",
     "text": [
      "\r",
      "Upgrading database; v6 -> v7:   0%|          | 0/1 [00:00<?, ?it/s]"
     ]
    },
    {
     "name": "stdout",
     "output_type": "stream",
     "text": [
      "\r",
      "Upgrading database; v6 -> v7: 100%|██████████| 1/1 [00:00<00:00, 386.75it/s]"
     ]
    },
    {
     "name": "stdout",
     "output_type": "stream",
     "text": [
      "\n",
      "\r",
      "  0%|          | 0/1 [00:00<?, ?it/s]"
     ]
    },
    {
     "name": "stdout",
     "output_type": "stream",
     "text": [
      "\r",
      "Upgrading database; v7 -> v8:   0%|          | 0/1 [00:00<?, ?it/s]"
     ]
    },
    {
     "name": "stdout",
     "output_type": "stream",
     "text": [
      "\r",
      "Upgrading database; v7 -> v8: 100%|██████████| 1/1 [00:00<00:00, 996.75it/s]"
     ]
    },
    {
     "name": "stdout",
     "output_type": "stream",
     "text": [
      "\n",
      "\r",
      "  0%|          | 0/1 [00:00<?, ?it/s]"
     ]
    },
    {
     "name": "stdout",
     "output_type": "stream",
     "text": [
      "\r",
      "Upgrading database; v8 -> v9:   0%|          | 0/1 [00:00<?, ?it/s]"
     ]
    },
    {
     "name": "stdout",
     "output_type": "stream",
     "text": [
      "\r",
      "Upgrading database; v8 -> v9: 100%|██████████| 1/1 [00:00<00:00, 460.36it/s]"
     ]
    },
    {
     "name": "stdout",
     "output_type": "stream",
     "text": [
      "\n"
     ]
    }
   ],
   "source": [
    "initialise_database()\n",
    "exp = load_or_create_experiment(experiment_name='tutorial_exp', sample_name=\"no sample\")"
   ]
  },
  {
   "cell_type": "markdown",
   "metadata": {},
   "source": [
    "Here, we define a simple function to benchmark the time it takes to insert n points with either numeric or array data type.\n",
    "We will compare both the time used to call ``add_result`` and the time used for the full measurement."
   ]
  },
  {
   "cell_type": "code",
   "execution_count": 4,
   "metadata": {
    "execution": {
     "iopub.execute_input": "2021-01-26T18:04:32.729758Z",
     "iopub.status.busy": "2021-01-26T18:04:32.724473Z",
     "iopub.status.idle": "2021-01-26T18:04:32.732337Z",
     "shell.execute_reply": "2021-01-26T18:04:32.731691Z"
    }
   },
   "outputs": [],
   "source": [
    "def insert_data(paramtype, npoints, nreps=1):\n",
    "\n",
    "    meas = Measurement(exp=exp)\n",
    "\n",
    "    x1 = ManualParameter('x1')\n",
    "    x2 = ManualParameter('x2')\n",
    "    x3 = ManualParameter('x3')\n",
    "    y1 = ManualParameter('y1')\n",
    "    y2 = ManualParameter('y2')\n",
    "\n",
    "    meas.register_parameter(x1, paramtype=paramtype)\n",
    "    meas.register_parameter(x2, paramtype=paramtype)\n",
    "    meas.register_parameter(x3, paramtype=paramtype)\n",
    "    meas.register_parameter(y1, setpoints=[x1, x2, x3],\n",
    "                            paramtype=paramtype)\n",
    "    meas.register_parameter(y2, setpoints=[x1, x2, x3],\n",
    "                            paramtype=paramtype)\n",
    "    start = time.perf_counter()\n",
    "    with meas.run() as datasaver:\n",
    "        start_adding = time.perf_counter()\n",
    "        for i in range(nreps):\n",
    "            datasaver.add_result((x1, np.random.rand(npoints)),\n",
    "                                 (x2, np.random.rand(npoints)),\n",
    "                                 (x3, np.random.rand(npoints)),\n",
    "                                 (y1, np.random.rand(npoints)),\n",
    "                                 (y2, np.random.rand(npoints)))\n",
    "        stop_adding = time.perf_counter()\n",
    "        run_id = datasaver.run_id\n",
    "    stop = time.perf_counter()\n",
    "    tot_time = stop - start\n",
    "    add_time = stop_adding - start_adding\n",
    "    return tot_time, add_time, run_id"
   ]
  },
  {
   "cell_type": "markdown",
   "metadata": {},
   "source": [
    "## Comparison between numeric/array data and binary blob"
   ]
  },
  {
   "cell_type": "markdown",
   "metadata": {},
   "source": [
    "### Case1: Short experiment time"
   ]
  },
  {
   "cell_type": "code",
   "execution_count": 5,
   "metadata": {
    "execution": {
     "iopub.execute_input": "2021-01-26T18:04:32.738708Z",
     "iopub.status.busy": "2021-01-26T18:04:32.737723Z",
     "iopub.status.idle": "2021-01-26T18:04:33.625679Z",
     "shell.execute_reply": "2021-01-26T18:04:33.624744Z"
    }
   },
   "outputs": [
    {
     "name": "stdout",
     "output_type": "stream",
     "text": [
      "Starting experimental run with id: 1. \n",
      "Starting experimental run with id: 2. \n",
      "Starting experimental run with id: 3. \n",
      "Starting experimental run with id: 4. \n"
     ]
    },
    {
     "name": "stdout",
     "output_type": "stream",
     "text": [
      "Starting experimental run with id: 5. \n"
     ]
    },
    {
     "name": "stdout",
     "output_type": "stream",
     "text": [
      "Starting experimental run with id: 6. \n",
      "Starting experimental run with id: 7. \n"
     ]
    },
    {
     "name": "stdout",
     "output_type": "stream",
     "text": [
      "Starting experimental run with id: 8. \n"
     ]
    },
    {
     "name": "stdout",
     "output_type": "stream",
     "text": [
      "Starting experimental run with id: 9. \n"
     ]
    },
    {
     "name": "stdout",
     "output_type": "stream",
     "text": [
      "Starting experimental run with id: 10. \n",
      "Starting experimental run with id: 11. \n"
     ]
    },
    {
     "name": "stdout",
     "output_type": "stream",
     "text": [
      "Starting experimental run with id: 12. \n"
     ]
    },
    {
     "name": "stdout",
     "output_type": "stream",
     "text": [
      "Starting experimental run with id: 13. \n"
     ]
    },
    {
     "name": "stdout",
     "output_type": "stream",
     "text": [
      "Starting experimental run with id: 14. \n"
     ]
    }
   ],
   "source": [
    "sizes = [1,500,1000,2000,3000,4000,5000]\n",
    "t_numeric = []\n",
    "t_numeric_add = []\n",
    "t_array = []\n",
    "t_array_add = []\n",
    "for size in sizes:\n",
    "    tn, tna, run_id_n =  insert_data('numeric', size)\n",
    "    t_numeric.append(tn)\n",
    "    t_numeric_add.append(tna)\n",
    "\n",
    "    ta, taa, run_id_a =  insert_data('array', size)\n",
    "    t_array.append(ta)\n",
    "    t_array_add.append(taa)"
   ]
  },
  {
   "cell_type": "code",
   "execution_count": 6,
   "metadata": {
    "execution": {
     "iopub.execute_input": "2021-01-26T18:04:33.649070Z",
     "iopub.status.busy": "2021-01-26T18:04:33.648384Z",
     "iopub.status.idle": "2021-01-26T18:04:33.884937Z",
     "shell.execute_reply": "2021-01-26T18:04:33.884437Z"
    }
   },
   "outputs": [
    {
     "data": {
      "image/png": "[encoded data removed]",
      "text/plain": [
       "<Figure size 432x288 with 1 Axes>"
      ]
     },
     "metadata": {
      "needs_background": "light"
     },
     "output_type": "display_data"
    }
   ],
   "source": [
    "fig, ax = plt.subplots(1,1)\n",
    "ax.plot(sizes, t_numeric, 'o-', label='Inserting row-by-row')\n",
    "ax.plot(sizes, t_numeric_add, 'o-', label='Inserting row-by-row: add_result only')\n",
    "ax.plot(sizes, t_array, 'd-', label='Inserting as binary blob')\n",
    "ax.plot(sizes, t_array_add, 'd-', label='Inserting as binary blob: add_result only')\n",
    "ax.legend()\n",
    "ax.set_xlabel('Array length')\n",
    "ax.set_ylabel('Time (s)')\n",
    "fig.tight_layout()"
   ]
  },
  {
   "cell_type": "markdown",
   "metadata": {},
   "source": [
    "As shown in the latter figure, the time to setup and and close the experiment is approximately 0.4 sec. In case of small array sizes, the difference between inserting values of data as arrays and inserting them row-by-row is relatively unimportant. At larger array sizes, i.e. above 10000 points, the cost of writing data as individual datapoints starts to become important.\n"
   ]
  },
  {
   "cell_type": "markdown",
   "metadata": {},
   "source": [
    "### Case2: Long experiment time "
   ]
  },
  {
   "cell_type": "code",
   "execution_count": 7,
   "metadata": {
    "execution": {
     "iopub.execute_input": "2021-01-26T18:04:33.892253Z",
     "iopub.status.busy": "2021-01-26T18:04:33.891179Z",
     "iopub.status.idle": "2021-01-26T18:05:33.367461Z",
     "shell.execute_reply": "2021-01-26T18:05:33.367916Z"
    }
   },
   "outputs": [
    {
     "name": "stdout",
     "output_type": "stream",
     "text": [
      "Starting experimental run with id: 15. \n",
      "Starting experimental run with id: 16. \n",
      "Starting experimental run with id: 17. \n"
     ]
    },
    {
     "name": "stdout",
     "output_type": "stream",
     "text": [
      "Starting experimental run with id: 18. \n",
      "Starting experimental run with id: 19. \n"
     ]
    },
    {
     "name": "stdout",
     "output_type": "stream",
     "text": [
      "Starting experimental run with id: 20. \n"
     ]
    },
    {
     "name": "stdout",
     "output_type": "stream",
     "text": [
      "Starting experimental run with id: 21. \n"
     ]
    },
    {
     "name": "stdout",
     "output_type": "stream",
     "text": [
      "Starting experimental run with id: 22. \n"
     ]
    },
    {
     "name": "stdout",
     "output_type": "stream",
     "text": [
      "Starting experimental run with id: 23. \n"
     ]
    },
    {
     "name": "stdout",
     "output_type": "stream",
     "text": [
      "Starting experimental run with id: 24. \n"
     ]
    },
    {
     "name": "stdout",
     "output_type": "stream",
     "text": [
      "Starting experimental run with id: 25. \n"
     ]
    },
    {
     "name": "stdout",
     "output_type": "stream",
     "text": [
      "Starting experimental run with id: 26. \n"
     ]
    },
    {
     "name": "stdout",
     "output_type": "stream",
     "text": [
      "Starting experimental run with id: 27. \n"
     ]
    },
    {
     "name": "stdout",
     "output_type": "stream",
     "text": [
      "Starting experimental run with id: 28. \n"
     ]
    }
   ],
   "source": [
    "sizes = [1,500,1000,2000,3000,4000,5000]\n",
    "nreps = 100\n",
    "t_numeric = []\n",
    "t_numeric_add = []\n",
    "t_numeric_run_ids = []\n",
    "t_array = []\n",
    "t_array_add = []\n",
    "t_array_run_ids = []\n",
    "for size in sizes:\n",
    "    tn, tna, run_id_n =  insert_data('numeric', size, nreps=nreps)\n",
    "    t_numeric.append(tn)\n",
    "    t_numeric_add.append(tna)\n",
    "    t_numeric_run_ids.append(run_id_n)\n",
    "\n",
    "    ta, taa, run_id_a =  insert_data('array', size, nreps=nreps)\n",
    "    t_array.append(ta)\n",
    "    t_array_add.append(taa)\n",
    "    t_array_run_ids.append(run_id_a)"
   ]
  },
  {
   "cell_type": "code",
   "execution_count": 8,
   "metadata": {
    "execution": {
     "iopub.execute_input": "2021-01-26T18:05:33.395345Z",
     "iopub.status.busy": "2021-01-26T18:05:33.388245Z",
     "iopub.status.idle": "2021-01-26T18:05:33.620926Z",
     "shell.execute_reply": "2021-01-26T18:05:33.620277Z"
    },
    "scrolled": true
   },
   "outputs": [
    {
     "data": {
      "image/png": "[encoded data removed]",
      "text/plain": [
       "<Figure size 432x288 with 1 Axes>"
      ]
     },
     "metadata": {
      "needs_background": "light"
     },
     "output_type": "display_data"
    }
   ],
   "source": [
    "fig, ax = plt.subplots(1,1)\n",
    "ax.plot(sizes, t_numeric, 'o-', label='Inserting row-by-row')\n",
    "ax.plot(sizes, t_numeric_add, 'o-', label='Inserting row-by-row: add_result only')\n",
    "ax.plot(sizes, t_array, 'd-', label='Inserting as binary blob')\n",
    "ax.plot(sizes, t_array_add, 'd-', label='Inserting as binary blob: add_result only')\n",
    "ax.legend()\n",
    "ax.set_xlabel('Array length')\n",
    "ax.set_ylabel('Time (s)')\n",
    "fig.tight_layout()"
   ]
  },
  {
   "cell_type": "markdown",
   "metadata": {},
   "source": [
    "However, as we increase the length of the experiment, as seen here by repeating the insertion 100 times, we see a big difference between inserting values of the data row-by-row and inserting it as a binary blob."
   ]
  },
  {
   "cell_type": "markdown",
   "metadata": {},
   "source": [
    "## Loading the data "
   ]
  },
  {
   "cell_type": "code",
   "execution_count": 9,
   "metadata": {
    "execution": {
     "iopub.execute_input": "2021-01-26T18:05:33.626657Z",
     "iopub.status.busy": "2021-01-26T18:05:33.626029Z",
     "iopub.status.idle": "2021-01-26T18:05:33.629787Z",
     "shell.execute_reply": "2021-01-26T18:05:33.630271Z"
    }
   },
   "outputs": [],
   "source": [
    "from qcodes.dataset.data_set import load_by_id\n",
    "from qcodes.dataset.data_export import get_data_by_id"
   ]
  },
  {
   "cell_type": "markdown",
   "metadata": {},
   "source": [
    "As usual you can load the data by using the ``load_by_id`` function but you will notice that the different storage methods\n",
    "are reflected in shape of the data as it is retrieved. "
   ]
  },
  {
   "cell_type": "code",
   "execution_count": 10,
   "metadata": {
    "execution": {
     "iopub.execute_input": "2021-01-26T18:05:33.634184Z",
     "iopub.status.busy": "2021-01-26T18:05:33.633354Z",
     "iopub.status.idle": "2021-01-26T18:05:33.636934Z",
     "shell.execute_reply": "2021-01-26T18:05:33.637549Z"
    }
   },
   "outputs": [],
   "source": [
    "run_id_n = t_numeric_run_ids[0]\n",
    "run_id_a = t_array_run_ids[0]"
   ]
  },
  {
   "cell_type": "code",
   "execution_count": 11,
   "metadata": {
    "execution": {
     "iopub.execute_input": "2021-01-26T18:05:33.641169Z",
     "iopub.status.busy": "2021-01-26T18:05:33.640603Z",
     "iopub.status.idle": "2021-01-26T18:05:33.652164Z",
     "shell.execute_reply": "2021-01-26T18:05:33.651662Z"
    },
    "scrolled": true
   },
   "outputs": [
    {
     "data": {
      "text/plain": [
       "{'x1': {'x1': array([0.90205105, 0.90205105, 0.49281798, 0.49281798, 0.40684454,\n",
       "         0.40684454, 0.20393257, 0.20393257, 0.82235384, 0.82235384,\n",
       "         0.49112806, 0.49112806, 0.91804434, 0.91804434, 0.11620628,\n",
       "         0.11620628, 0.92403968, 0.92403968, 0.79900857, 0.79900857,\n",
       "         0.33737939, 0.33737939, 0.26068438, 0.26068438, 0.32743628,\n",
       "         0.32743628, 0.88901024, 0.88901024, 0.44703537, 0.44703537,\n",
       "         0.87527565, 0.87527565, 0.48402506, 0.48402506, 0.12792607,\n",
       "         0.12792607, 0.09408648, 0.09408648, 0.77948848, 0.77948848,\n",
       "         0.0962788 , 0.0962788 , 0.30180297, 0.30180297, 0.31529695,\n",
       "         0.31529695, 0.39604409, 0.39604409, 0.01461599, 0.01461599,\n",
       "         0.26358781, 0.26358781, 0.70388998, 0.70388998, 0.81673124,\n",
       "         0.81673124, 0.53322464, 0.53322464, 0.49375946, 0.49375946,\n",
       "         0.12428601, 0.12428601, 0.60730713, 0.60730713, 0.41247811,\n",
       "         0.41247811, 0.45834621, 0.45834621, 0.80816803, 0.80816803,\n",
       "         0.13349093, 0.13349093, 0.0237182 , 0.0237182 , 0.50883698,\n",
       "         0.50883698, 0.71708863, 0.71708863, 0.92410915, 0.92410915,\n",
       "         0.08654416, 0.08654416, 0.00888461, 0.00888461, 0.57881499,\n",
       "         0.57881499, 0.05494555, 0.05494555, 0.81209393, 0.81209393,\n",
       "         0.40818229, 0.40818229, 0.51820288, 0.51820288, 0.64149599,\n",
       "         0.64149599, 0.00826037, 0.00826037, 0.87818183, 0.87818183,\n",
       "         0.497434  , 0.497434  , 0.46957471, 0.46957471, 0.78703546,\n",
       "         0.78703546, 0.60236121, 0.60236121, 0.46932719, 0.46932719,\n",
       "         0.46717181, 0.46717181, 0.87598251, 0.87598251, 0.61670672,\n",
       "         0.61670672, 0.88091363, 0.88091363, 0.83665555, 0.83665555,\n",
       "         0.43792936, 0.43792936, 0.67642053, 0.67642053, 0.04951764,\n",
       "         0.04951764, 0.26577448, 0.26577448, 0.19258363, 0.19258363,\n",
       "         0.72530621, 0.72530621, 0.66375851, 0.66375851, 0.79207046,\n",
       "         0.79207046, 0.18380689, 0.18380689, 0.7865235 , 0.7865235 ,\n",
       "         0.66418494, 0.66418494, 0.70615225, 0.70615225, 0.49811672,\n",
       "         0.49811672, 0.5191484 , 0.5191484 , 0.72386233, 0.72386233,\n",
       "         0.59551561, 0.59551561, 0.63677827, 0.63677827, 0.85854021,\n",
       "         0.85854021, 0.04928778, 0.04928778, 0.08412672, 0.08412672,\n",
       "         0.83259745, 0.83259745, 0.43120941, 0.43120941, 0.09773113,\n",
       "         0.09773113, 0.90315262, 0.90315262, 0.29861784, 0.29861784,\n",
       "         0.1409152 , 0.1409152 , 0.63690247, 0.63690247, 0.11431141,\n",
       "         0.11431141, 0.48531368, 0.48531368, 0.81705001, 0.81705001,\n",
       "         0.35085151, 0.35085151, 0.74837222, 0.74837222, 0.50408773,\n",
       "         0.50408773, 0.60793977, 0.60793977, 0.06978667, 0.06978667,\n",
       "         0.16150011, 0.16150011, 0.3133417 , 0.3133417 , 0.1685746 ,\n",
       "         0.1685746 , 0.86697892, 0.86697892, 0.87084033, 0.87084033])}}"
      ]
     },
     "execution_count": 1,
     "metadata": {},
     "output_type": "execute_result"
    }
   ],
   "source": [
    "ds = load_by_id(run_id_n)\n",
    "ds.get_parameter_data('x1')"
   ]
  },
  {
   "cell_type": "markdown",
   "metadata": {},
   "source": [
    "And a dataset stored as binary arrays"
   ]
  },
  {
   "cell_type": "code",
   "execution_count": 12,
   "metadata": {
    "execution": {
     "iopub.execute_input": "2021-01-26T18:05:33.656977Z",
     "iopub.status.busy": "2021-01-26T18:05:33.656395Z",
     "iopub.status.idle": "2021-01-26T18:05:33.734626Z",
     "shell.execute_reply": "2021-01-26T18:05:33.734049Z"
    },
    "scrolled": true
   },
   "outputs": [
    {
     "data": {
      "text/plain": [
       "{'x1': {'x1': array([[0.32579536],\n",
       "         [0.32579536],\n",
       "         [0.38264228],\n",
       "         [0.38264228],\n",
       "         [0.33398691],\n",
       "         [0.33398691],\n",
       "         [0.89690898],\n",
       "         [0.89690898],\n",
       "         [0.15973112],\n",
       "         [0.15973112],\n",
       "         [0.5768342 ],\n",
       "         [0.5768342 ],\n",
       "         [0.35547286],\n",
       "         [0.35547286],\n",
       "         [0.08356037],\n",
       "         [0.08356037],\n",
       "         [0.62264003],\n",
       "         [0.62264003],\n",
       "         [0.71960898],\n",
       "         [0.71960898],\n",
       "         [0.16708315],\n",
       "         [0.16708315],\n",
       "         [0.98285145],\n",
       "         [0.98285145],\n",
       "         [0.59007869],\n",
       "         [0.59007869],\n",
       "         [0.18961132],\n",
       "         [0.18961132],\n",
       "         [0.53068361],\n",
       "         [0.53068361],\n",
       "         [0.83058843],\n",
       "         [0.83058843],\n",
       "         [0.91238582],\n",
       "         [0.91238582],\n",
       "         [0.96309632],\n",
       "         [0.96309632],\n",
       "         [0.65891037],\n",
       "         [0.65891037],\n",
       "         [0.10715156],\n",
       "         [0.10715156],\n",
       "         [0.99546207],\n",
       "         [0.99546207],\n",
       "         [0.21654132],\n",
       "         [0.21654132],\n",
       "         [0.72120586],\n",
       "         [0.72120586],\n",
       "         [0.103962  ],\n",
       "         [0.103962  ],\n",
       "         [0.50562855],\n",
       "         [0.50562855],\n",
       "         [0.66081651],\n",
       "         [0.66081651],\n",
       "         [0.72462096],\n",
       "         [0.72462096],\n",
       "         [0.9394383 ],\n",
       "         [0.9394383 ],\n",
       "         [0.32838966],\n",
       "         [0.32838966],\n",
       "         [0.1516165 ],\n",
       "         [0.1516165 ],\n",
       "         [0.85418571],\n",
       "         [0.85418571],\n",
       "         [0.86548478],\n",
       "         [0.86548478],\n",
       "         [0.1522162 ],\n",
       "         [0.1522162 ],\n",
       "         [0.69681685],\n",
       "         [0.69681685],\n",
       "         [0.04194664],\n",
       "         [0.04194664],\n",
       "         [0.55353972],\n",
       "         [0.55353972],\n",
       "         [0.41818434],\n",
       "         [0.41818434],\n",
       "         [0.0715524 ],\n",
       "         [0.0715524 ],\n",
       "         [0.71520315],\n",
       "         [0.71520315],\n",
       "         [0.21224706],\n",
       "         [0.21224706],\n",
       "         [0.54130005],\n",
       "         [0.54130005],\n",
       "         [0.57440961],\n",
       "         [0.57440961],\n",
       "         [0.90400972],\n",
       "         [0.90400972],\n",
       "         [0.64412632],\n",
       "         [0.64412632],\n",
       "         [0.08925463],\n",
       "         [0.08925463],\n",
       "         [0.94136737],\n",
       "         [0.94136737],\n",
       "         [0.38050943],\n",
       "         [0.38050943],\n",
       "         [0.48320108],\n",
       "         [0.48320108],\n",
       "         [0.16977031],\n",
       "         [0.16977031],\n",
       "         [0.33209684],\n",
       "         [0.33209684],\n",
       "         [0.55083794],\n",
       "         [0.55083794],\n",
       "         [0.7267939 ],\n",
       "         [0.7267939 ],\n",
       "         [0.07300979],\n",
       "         [0.07300979],\n",
       "         [0.34971452],\n",
       "         [0.34971452],\n",
       "         [0.89716409],\n",
       "         [0.89716409],\n",
       "         [0.99088322],\n",
       "         [0.99088322],\n",
       "         [0.70787563],\n",
       "         [0.70787563],\n",
       "         [0.59926268],\n",
       "         [0.59926268],\n",
       "         [0.24186171],\n",
       "         [0.24186171],\n",
       "         [0.82922157],\n",
       "         [0.82922157],\n",
       "         [0.27130387],\n",
       "         [0.27130387],\n",
       "         [0.11615842],\n",
       "         [0.11615842],\n",
       "         [0.83663155],\n",
       "         [0.83663155],\n",
       "         [0.35467269],\n",
       "         [0.35467269],\n",
       "         [0.31510031],\n",
       "         [0.31510031],\n",
       "         [0.06717398],\n",
       "         [0.06717398],\n",
       "         [0.85198851],\n",
       "         [0.85198851],\n",
       "         [0.02531229],\n",
       "         [0.02531229],\n",
       "         [0.68417507],\n",
       "         [0.68417507],\n",
       "         [0.09134272],\n",
       "         [0.09134272],\n",
       "         [0.25651563],\n",
       "         [0.25651563],\n",
       "         [0.61965571],\n",
       "         [0.61965571],\n",
       "         [0.5386884 ],\n",
       "         [0.5386884 ],\n",
       "         [0.96804874],\n",
       "         [0.96804874],\n",
       "         [0.19928042],\n",
       "         [0.19928042],\n",
       "         [0.25616073],\n",
       "         [0.25616073],\n",
       "         [0.87619535],\n",
       "         [0.87619535],\n",
       "         [0.26240341],\n",
       "         [0.26240341],\n",
       "         [0.62513308],\n",
       "         [0.62513308],\n",
       "         [0.38341158],\n",
       "         [0.38341158],\n",
       "         [0.62162154],\n",
       "         [0.62162154],\n",
       "         [0.50924824],\n",
       "         [0.50924824],\n",
       "         [0.37254294],\n",
       "         [0.37254294],\n",
       "         [0.77512852],\n",
       "         [0.77512852],\n",
       "         [0.13053118],\n",
       "         [0.13053118],\n",
       "         [0.66927077],\n",
       "         [0.66927077],\n",
       "         [0.92990167],\n",
       "         [0.92990167],\n",
       "         [0.36280371],\n",
       "         [0.36280371],\n",
       "         [0.78396942],\n",
       "         [0.78396942],\n",
       "         [0.7669474 ],\n",
       "         [0.7669474 ],\n",
       "         [0.28415896],\n",
       "         [0.28415896],\n",
       "         [0.22056484],\n",
       "         [0.22056484],\n",
       "         [0.28103813],\n",
       "         [0.28103813],\n",
       "         [0.77050488],\n",
       "         [0.77050488],\n",
       "         [0.43496581],\n",
       "         [0.43496581],\n",
       "         [0.26830216],\n",
       "         [0.26830216],\n",
       "         [0.81478348],\n",
       "         [0.81478348],\n",
       "         [0.24621533],\n",
       "         [0.24621533],\n",
       "         [0.82812427],\n",
       "         [0.82812427],\n",
       "         [0.34076795],\n",
       "         [0.34076795]])}}"
      ]
     },
     "execution_count": 1,
     "metadata": {},
     "output_type": "execute_result"
    }
   ],
   "source": [
    "ds = load_by_id(run_id_a)\n",
    "ds.get_parameter_data('x1')"
   ]
  },
  {
   "cell_type": "code",
   "execution_count": null,
   "metadata": {},
   "outputs": [],
   "source": []
  }
 ],
 "metadata": {
  "kernelspec": {
   "display_name": "Python 3",
   "language": "python",
   "name": "python3"
  },
  "language_info": {
   "codemirror_mode": {
    "name": "ipython",
    "version": 3
   },
   "file_extension": ".py",
   "mimetype": "text/x-python",
   "name": "python",
   "nbconvert_exporter": "python",
   "pygments_lexer": "ipython3",
   "version": "3.7.9"
  },
  "nbsphinx": {
   "timeout": 600
  },
  "toc": {
   "base_numbering": 1,
   "nav_menu": {},
   "number_sections": true,
   "sideBar": true,
   "skip_h1_title": false,
   "title_cell": "Table of Contents",
   "title_sidebar": "Contents",
   "toc_cell": false,
   "toc_position": {},
   "toc_section_display": true,
   "toc_window_display": false
  },
  "varInspector": {
   "cols": {
    "lenName": 16,
    "lenType": 16,
    "lenVar": 40
   },
   "kernels_config": {
    "python": {
     "delete_cmd_postfix": "",
     "delete_cmd_prefix": "del ",
     "library": "var_list.py",
     "varRefreshCmd": "print(var_dic_list())"
    },
    "r": {
     "delete_cmd_postfix": ") ",
     "delete_cmd_prefix": "rm(",
     "library": "var_list.r",
     "varRefreshCmd": "cat(var_dic_list()) "
    }
   },
   "types_to_exclude": [
    "module",
    "function",
    "builtin_function_or_method",
    "instance",
    "_Feature"
   ],
   "window_display": false
  }
 },
 "nbformat": 4,
 "nbformat_minor": 2
}
