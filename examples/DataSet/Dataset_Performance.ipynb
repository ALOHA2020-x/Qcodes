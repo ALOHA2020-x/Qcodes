{
 "cells": [
  {
   "cell_type": "markdown",
   "metadata": {},
   "source": [
    "# DataSet Performance\n",
    "\n",
    "This notebook shows the trade-off between inserting data into a database row-by-row and as binary blobs. Inserting the data row-by-row means that we have direct access to all the data and may perform queries directly on the values of the data. On the other hand, as we shall see, this is much slower than inserting the data directly as binary blobs."
   ]
  },
  {
   "cell_type": "markdown",
   "metadata": {},
   "source": [
    "First, we choose a new location for the database to ensure that we don't add a bunch of benchmarking data to the default one."
   ]
  },
  {
   "cell_type": "code",
   "execution_count": 1,
   "metadata": {
    "execution": {
     "iopub.execute_input": "2021-04-09T13:40:11.777781Z",
     "iopub.status.busy": "2021-04-09T13:40:11.777130Z",
     "iopub.status.idle": "2021-04-09T13:40:12.958197Z",
     "shell.execute_reply": "2021-04-09T13:40:12.957475Z"
    }
   },
   "outputs": [
    {
     "name": "stdout",
     "output_type": "stream",
     "text": [
      "Logging hadn't been started.\n",
      "Activating auto-logging. Current session state plus future input saved.\n",
      "Filename       : /home/runner/.qcodes/logs/command_history.log\n",
      "Mode           : append\n",
      "Output logging : True\n",
      "Raw input log  : False\n",
      "Timestamping   : True\n",
      "State          : active\n"
     ]
    },
    {
     "name": "stdout",
     "output_type": "stream",
     "text": [
      "Qcodes Logfile : /home/runner/.qcodes/logs/210409-4561-qcodes.log\n"
     ]
    }
   ],
   "source": [
    "import os\n",
    "cwd = os.getcwd()\n",
    "import qcodes as qc\n",
    "qc.config[\"core\"][\"db_location\"] = os.path.join(cwd, 'testing.db')\n"
   ]
  },
  {
   "cell_type": "code",
   "execution_count": 2,
   "metadata": {
    "execution": {
     "iopub.execute_input": "2021-04-09T13:40:12.967544Z",
     "iopub.status.busy": "2021-04-09T13:40:12.965179Z",
     "iopub.status.idle": "2021-04-09T13:40:13.230609Z",
     "shell.execute_reply": "2021-04-09T13:40:13.229534Z"
    }
   },
   "outputs": [],
   "source": [
    "%matplotlib inline\n",
    "import time\n",
    "import matplotlib.pyplot as plt\n",
    "import numpy as np\n",
    "\n",
    "import qcodes as qc\n",
    "from qcodes.instrument.parameter import ManualParameter\n",
    "from qcodes.dataset.experiment_container import (Experiment,\n",
    "                                                 load_last_experiment,\n",
    "                                                 new_experiment)\n",
    "from qcodes.dataset.sqlite.database import initialise_database\n",
    "from qcodes import load_or_create_experiment\n",
    "from qcodes.dataset.measurements import Measurement"
   ]
  },
  {
   "cell_type": "code",
   "execution_count": 3,
   "metadata": {
    "execution": {
     "iopub.execute_input": "2021-04-09T13:40:13.235123Z",
     "iopub.status.busy": "2021-04-09T13:40:13.234362Z",
     "iopub.status.idle": "2021-04-09T13:40:13.333759Z",
     "shell.execute_reply": "2021-04-09T13:40:13.333076Z"
    }
   },
   "outputs": [
    {
     "name": "stdout",
     "output_type": "stream",
     "text": [
      "\r",
      "0it [00:00, ?it/s]"
     ]
    },
    {
     "name": "stdout",
     "output_type": "stream",
     "text": [
      "\r",
      "Upgrading database; v0 -> v1: : 0it [00:00, ?it/s]"
     ]
    },
    {
     "name": "stdout",
     "output_type": "stream",
     "text": [
      "\r",
      "Upgrading database; v0 -> v1: : 0it [00:00, ?it/s]"
     ]
    },
    {
     "name": "stdout",
     "output_type": "stream",
     "text": [
      "\n",
      "\r",
      "  0%|          | 0/1 [00:00<?, ?it/s]"
     ]
    },
    {
     "name": "stdout",
     "output_type": "stream",
     "text": [
      "\r",
      "Upgrading database; v1 -> v2:   0%|          | 0/1 [00:00<?, ?it/s]"
     ]
    },
    {
     "name": "stdout",
     "output_type": "stream",
     "text": [
      "\r",
      "Upgrading database; v1 -> v2: 100%|██████████| 1/1 [00:00<00:00, 422.22it/s]"
     ]
    },
    {
     "name": "stdout",
     "output_type": "stream",
     "text": [
      "\n",
      "\r",
      "0it [00:00, ?it/s]"
     ]
    },
    {
     "name": "stdout",
     "output_type": "stream",
     "text": [
      "\r",
      "Upgrading database; v2 -> v3: : 0it [00:00, ?it/s]"
     ]
    },
    {
     "name": "stdout",
     "output_type": "stream",
     "text": [
      "\r",
      "Upgrading database; v2 -> v3: : 0it [00:00, ?it/s]"
     ]
    },
    {
     "name": "stdout",
     "output_type": "stream",
     "text": [
      "\n",
      "\r",
      "0it [00:00, ?it/s]"
     ]
    },
    {
     "name": "stdout",
     "output_type": "stream",
     "text": [
      "\r",
      "Upgrading database; v3 -> v4: : 0it [00:00, ?it/s]"
     ]
    },
    {
     "name": "stdout",
     "output_type": "stream",
     "text": [
      "\r",
      "Upgrading database; v3 -> v4: : 0it [00:00, ?it/s]"
     ]
    },
    {
     "name": "stdout",
     "output_type": "stream",
     "text": [
      "\n",
      "\r",
      "  0%|          | 0/1 [00:00<?, ?it/s]"
     ]
    },
    {
     "name": "stdout",
     "output_type": "stream",
     "text": [
      "\r",
      "Upgrading database; v4 -> v5:   0%|          | 0/1 [00:00<?, ?it/s]"
     ]
    },
    {
     "name": "stdout",
     "output_type": "stream",
     "text": [
      "\r",
      "Upgrading database; v4 -> v5: 100%|██████████| 1/1 [00:00<00:00, 261.25it/s]"
     ]
    },
    {
     "name": "stdout",
     "output_type": "stream",
     "text": [
      "\n",
      "\r",
      "0it [00:00, ?it/s]"
     ]
    },
    {
     "name": "stdout",
     "output_type": "stream",
     "text": [
      "\r",
      "Upgrading database; v5 -> v6: : 0it [00:00, ?it/s]"
     ]
    },
    {
     "name": "stdout",
     "output_type": "stream",
     "text": [
      "\r",
      "Upgrading database; v5 -> v6: : 0it [00:00, ?it/s]"
     ]
    },
    {
     "name": "stdout",
     "output_type": "stream",
     "text": [
      "\n",
      "\r",
      "  0%|          | 0/1 [00:00<?, ?it/s]"
     ]
    },
    {
     "name": "stdout",
     "output_type": "stream",
     "text": [
      "\r",
      "Upgrading database; v6 -> v7:   0%|          | 0/1 [00:00<?, ?it/s]"
     ]
    },
    {
     "name": "stdout",
     "output_type": "stream",
     "text": [
      "\r",
      "Upgrading database; v6 -> v7: 100%|██████████| 1/1 [00:00<00:00, 181.83it/s]"
     ]
    },
    {
     "name": "stdout",
     "output_type": "stream",
     "text": [
      "\n",
      "\r",
      "  0%|          | 0/1 [00:00<?, ?it/s]"
     ]
    },
    {
     "name": "stdout",
     "output_type": "stream",
     "text": [
      "\r",
      "Upgrading database; v7 -> v8:   0%|          | 0/1 [00:00<?, ?it/s]"
     ]
    },
    {
     "name": "stdout",
     "output_type": "stream",
     "text": [
      "\r",
      "Upgrading database; v7 -> v8: 100%|██████████| 1/1 [00:00<00:00, 430.67it/s]"
     ]
    },
    {
     "name": "stdout",
     "output_type": "stream",
     "text": [
      "\n",
      "\r",
      "  0%|          | 0/1 [00:00<?, ?it/s]"
     ]
    },
    {
     "name": "stdout",
     "output_type": "stream",
     "text": [
      "\r",
      "Upgrading database; v8 -> v9:   0%|          | 0/1 [00:00<?, ?it/s]"
     ]
    },
    {
     "name": "stdout",
     "output_type": "stream",
     "text": [
      "\r",
      "Upgrading database; v8 -> v9: 100%|██████████| 1/1 [00:00<00:00, 334.15it/s]"
     ]
    },
    {
     "name": "stdout",
     "output_type": "stream",
     "text": [
      "\n"
     ]
    }
   ],
   "source": [
    "initialise_database()\n",
    "exp = load_or_create_experiment(experiment_name='tutorial_exp', sample_name=\"no sample\")"
   ]
  },
  {
   "cell_type": "markdown",
   "metadata": {},
   "source": [
    "Here, we define a simple function to benchmark the time it takes to insert n points with either numeric or array data type.\n",
    "We will compare both the time used to call ``add_result`` and the time used for the full measurement."
   ]
  },
  {
   "cell_type": "code",
   "execution_count": 4,
   "metadata": {
    "execution": {
     "iopub.execute_input": "2021-04-09T13:40:13.343791Z",
     "iopub.status.busy": "2021-04-09T13:40:13.342883Z",
     "iopub.status.idle": "2021-04-09T13:40:13.347623Z",
     "shell.execute_reply": "2021-04-09T13:40:13.346961Z"
    }
   },
   "outputs": [],
   "source": [
    "def insert_data(paramtype, npoints, nreps=1):\n",
    "\n",
    "    meas = Measurement(exp=exp)\n",
    "\n",
    "    x1 = ManualParameter('x1')\n",
    "    x2 = ManualParameter('x2')\n",
    "    x3 = ManualParameter('x3')\n",
    "    y1 = ManualParameter('y1')\n",
    "    y2 = ManualParameter('y2')\n",
    "\n",
    "    meas.register_parameter(x1, paramtype=paramtype)\n",
    "    meas.register_parameter(x2, paramtype=paramtype)\n",
    "    meas.register_parameter(x3, paramtype=paramtype)\n",
    "    meas.register_parameter(y1, setpoints=[x1, x2, x3],\n",
    "                            paramtype=paramtype)\n",
    "    meas.register_parameter(y2, setpoints=[x1, x2, x3],\n",
    "                            paramtype=paramtype)\n",
    "    start = time.perf_counter()\n",
    "    with meas.run() as datasaver:\n",
    "        start_adding = time.perf_counter()\n",
    "        for i in range(nreps):\n",
    "            datasaver.add_result((x1, np.random.rand(npoints)),\n",
    "                                 (x2, np.random.rand(npoints)),\n",
    "                                 (x3, np.random.rand(npoints)),\n",
    "                                 (y1, np.random.rand(npoints)),\n",
    "                                 (y2, np.random.rand(npoints)))\n",
    "        stop_adding = time.perf_counter()\n",
    "        run_id = datasaver.run_id\n",
    "    stop = time.perf_counter()\n",
    "    tot_time = stop - start\n",
    "    add_time = stop_adding - start_adding\n",
    "    return tot_time, add_time, run_id"
   ]
  },
  {
   "cell_type": "markdown",
   "metadata": {},
   "source": [
    "## Comparison between numeric/array data and binary blob"
   ]
  },
  {
   "cell_type": "markdown",
   "metadata": {},
   "source": [
    "### Case1: Short experiment time"
   ]
  },
  {
   "cell_type": "code",
   "execution_count": 5,
   "metadata": {
    "execution": {
     "iopub.execute_input": "2021-04-09T13:40:13.355347Z",
     "iopub.status.busy": "2021-04-09T13:40:13.354540Z",
     "iopub.status.idle": "2021-04-09T13:40:14.279323Z",
     "shell.execute_reply": "2021-04-09T13:40:14.280355Z"
    }
   },
   "outputs": [
    {
     "name": "stdout",
     "output_type": "stream",
     "text": [
      "Starting experimental run with id: 1. \n",
      "Starting experimental run with id: 2. \n",
      "Starting experimental run with id: 3. \n",
      "Starting experimental run with id: 4. \n"
     ]
    },
    {
     "name": "stdout",
     "output_type": "stream",
     "text": [
      "Starting experimental run with id: 5. \n"
     ]
    },
    {
     "name": "stdout",
     "output_type": "stream",
     "text": [
      "Starting experimental run with id: 6. \n"
     ]
    },
    {
     "name": "stdout",
     "output_type": "stream",
     "text": [
      "Starting experimental run with id: 7. \n"
     ]
    },
    {
     "name": "stdout",
     "output_type": "stream",
     "text": [
      "Starting experimental run with id: 8. \n",
      "Starting experimental run with id: 9. \n"
     ]
    },
    {
     "name": "stdout",
     "output_type": "stream",
     "text": [
      "Starting experimental run with id: 10. \n",
      "Starting experimental run with id: 11. \n"
     ]
    },
    {
     "name": "stdout",
     "output_type": "stream",
     "text": [
      "Starting experimental run with id: 12. \n",
      "Starting experimental run with id: 13. \n"
     ]
    },
    {
     "name": "stdout",
     "output_type": "stream",
     "text": [
      "Starting experimental run with id: 14. \n"
     ]
    }
   ],
   "source": [
    "sizes = [1,500,1000,2000,3000,4000,5000]\n",
    "t_numeric = []\n",
    "t_numeric_add = []\n",
    "t_array = []\n",
    "t_array_add = []\n",
    "for size in sizes:\n",
    "    tn, tna, run_id_n =  insert_data('numeric', size)\n",
    "    t_numeric.append(tn)\n",
    "    t_numeric_add.append(tna)\n",
    "\n",
    "    ta, taa, run_id_a =  insert_data('array', size)\n",
    "    t_array.append(ta)\n",
    "    t_array_add.append(taa)"
   ]
  },
  {
   "cell_type": "code",
   "execution_count": 6,
   "metadata": {
    "execution": {
     "iopub.execute_input": "2021-04-09T13:40:14.318601Z",
     "iopub.status.busy": "2021-04-09T13:40:14.304015Z",
     "iopub.status.idle": "2021-04-09T13:40:14.541692Z",
     "shell.execute_reply": "2021-04-09T13:40:14.542488Z"
    }
   },
   "outputs": [
    {
     "data": {
      "image/png": "[encoded data removed]",
      "text/plain": [
       "<Figure size 432x288 with 1 Axes>"
      ]
     },
     "metadata": {
      "needs_background": "light"
     },
     "output_type": "display_data"
    }
   ],
   "source": [
    "fig, ax = plt.subplots(1,1)\n",
    "ax.plot(sizes, t_numeric, 'o-', label='Inserting row-by-row')\n",
    "ax.plot(sizes, t_numeric_add, 'o-', label='Inserting row-by-row: add_result only')\n",
    "ax.plot(sizes, t_array, 'd-', label='Inserting as binary blob')\n",
    "ax.plot(sizes, t_array_add, 'd-', label='Inserting as binary blob: add_result only')\n",
    "ax.legend()\n",
    "ax.set_xlabel('Array length')\n",
    "ax.set_ylabel('Time (s)')\n",
    "fig.tight_layout()"
   ]
  },
  {
   "cell_type": "markdown",
   "metadata": {},
   "source": [
    "As shown in the latter figure, the time to setup and and close the experiment is approximately 0.4 sec. In case of small array sizes, the difference between inserting values of data as arrays and inserting them row-by-row is relatively unimportant. At larger array sizes, i.e. above 10000 points, the cost of writing data as individual datapoints starts to become important.\n"
   ]
  },
  {
   "cell_type": "markdown",
   "metadata": {},
   "source": [
    "### Case2: Long experiment time "
   ]
  },
  {
   "cell_type": "code",
   "execution_count": 7,
   "metadata": {
    "execution": {
     "iopub.execute_input": "2021-04-09T13:40:14.549865Z",
     "iopub.status.busy": "2021-04-09T13:40:14.548128Z",
     "iopub.status.idle": "2021-04-09T13:41:14.237739Z",
     "shell.execute_reply": "2021-04-09T13:41:14.236516Z"
    }
   },
   "outputs": [
    {
     "name": "stdout",
     "output_type": "stream",
     "text": [
      "Starting experimental run with id: 15. \n",
      "Starting experimental run with id: 16. \n"
     ]
    },
    {
     "name": "stdout",
     "output_type": "stream",
     "text": [
      "Starting experimental run with id: 17. \n"
     ]
    },
    {
     "name": "stdout",
     "output_type": "stream",
     "text": [
      "Starting experimental run with id: 18. \n"
     ]
    },
    {
     "name": "stdout",
     "output_type": "stream",
     "text": [
      "Starting experimental run with id: 19. \n"
     ]
    },
    {
     "name": "stdout",
     "output_type": "stream",
     "text": [
      "Starting experimental run with id: 20. \n"
     ]
    },
    {
     "name": "stdout",
     "output_type": "stream",
     "text": [
      "Starting experimental run with id: 21. \n"
     ]
    },
    {
     "name": "stdout",
     "output_type": "stream",
     "text": [
      "Starting experimental run with id: 22. \n"
     ]
    },
    {
     "name": "stdout",
     "output_type": "stream",
     "text": [
      "Starting experimental run with id: 23. \n"
     ]
    },
    {
     "name": "stdout",
     "output_type": "stream",
     "text": [
      "Starting experimental run with id: 24. \n"
     ]
    },
    {
     "name": "stdout",
     "output_type": "stream",
     "text": [
      "Starting experimental run with id: 25. \n"
     ]
    },
    {
     "name": "stdout",
     "output_type": "stream",
     "text": [
      "Starting experimental run with id: 26. \n"
     ]
    },
    {
     "name": "stdout",
     "output_type": "stream",
     "text": [
      "Starting experimental run with id: 27. \n"
     ]
    },
    {
     "name": "stdout",
     "output_type": "stream",
     "text": [
      "Starting experimental run with id: 28. \n"
     ]
    }
   ],
   "source": [
    "sizes = [1,500,1000,2000,3000,4000,5000]\n",
    "nreps = 100\n",
    "t_numeric = []\n",
    "t_numeric_add = []\n",
    "t_numeric_run_ids = []\n",
    "t_array = []\n",
    "t_array_add = []\n",
    "t_array_run_ids = []\n",
    "for size in sizes:\n",
    "    tn, tna, run_id_n =  insert_data('numeric', size, nreps=nreps)\n",
    "    t_numeric.append(tn)\n",
    "    t_numeric_add.append(tna)\n",
    "    t_numeric_run_ids.append(run_id_n)\n",
    "\n",
    "    ta, taa, run_id_a =  insert_data('array', size, nreps=nreps)\n",
    "    t_array.append(ta)\n",
    "    t_array_add.append(taa)\n",
    "    t_array_run_ids.append(run_id_a)"
   ]
  },
  {
   "cell_type": "code",
   "execution_count": 8,
   "metadata": {
    "execution": {
     "iopub.execute_input": "2021-04-09T13:41:14.290026Z",
     "iopub.status.busy": "2021-04-09T13:41:14.257699Z",
     "iopub.status.idle": "2021-04-09T13:41:14.474688Z",
     "shell.execute_reply": "2021-04-09T13:41:14.475413Z"
    },
    "scrolled": true
   },
   "outputs": [
    {
     "data": {
      "image/png": "[encoded data removed]",
      "text/plain": [
       "<Figure size 432x288 with 1 Axes>"
      ]
     },
     "metadata": {
      "needs_background": "light"
     },
     "output_type": "display_data"
    }
   ],
   "source": [
    "fig, ax = plt.subplots(1,1)\n",
    "ax.plot(sizes, t_numeric, 'o-', label='Inserting row-by-row')\n",
    "ax.plot(sizes, t_numeric_add, 'o-', label='Inserting row-by-row: add_result only')\n",
    "ax.plot(sizes, t_array, 'd-', label='Inserting as binary blob')\n",
    "ax.plot(sizes, t_array_add, 'd-', label='Inserting as binary blob: add_result only')\n",
    "ax.legend()\n",
    "ax.set_xlabel('Array length')\n",
    "ax.set_ylabel('Time (s)')\n",
    "fig.tight_layout()"
   ]
  },
  {
   "cell_type": "markdown",
   "metadata": {},
   "source": [
    "However, as we increase the length of the experiment, as seen here by repeating the insertion 100 times, we see a big difference between inserting values of the data row-by-row and inserting it as a binary blob."
   ]
  },
  {
   "cell_type": "markdown",
   "metadata": {},
   "source": [
    "## Loading the data "
   ]
  },
  {
   "cell_type": "code",
   "execution_count": 9,
   "metadata": {
    "execution": {
     "iopub.execute_input": "2021-04-09T13:41:14.480323Z",
     "iopub.status.busy": "2021-04-09T13:41:14.479132Z",
     "iopub.status.idle": "2021-04-09T13:41:14.482329Z",
     "shell.execute_reply": "2021-04-09T13:41:14.482818Z"
    }
   },
   "outputs": [],
   "source": [
    "from qcodes.dataset.data_set import load_by_id\n",
    "from qcodes.dataset.data_export import get_data_by_id"
   ]
  },
  {
   "cell_type": "markdown",
   "metadata": {},
   "source": [
    "As usual you can load the data by using the ``load_by_id`` function but you will notice that the different storage methods\n",
    "are reflected in shape of the data as it is retrieved. "
   ]
  },
  {
   "cell_type": "code",
   "execution_count": 10,
   "metadata": {
    "execution": {
     "iopub.execute_input": "2021-04-09T13:41:14.487800Z",
     "iopub.status.busy": "2021-04-09T13:41:14.486342Z",
     "iopub.status.idle": "2021-04-09T13:41:14.488681Z",
     "shell.execute_reply": "2021-04-09T13:41:14.489335Z"
    }
   },
   "outputs": [],
   "source": [
    "run_id_n = t_numeric_run_ids[0]\n",
    "run_id_a = t_array_run_ids[0]"
   ]
  },
  {
   "cell_type": "code",
   "execution_count": 11,
   "metadata": {
    "execution": {
     "iopub.execute_input": "2021-04-09T13:41:14.492642Z",
     "iopub.status.busy": "2021-04-09T13:41:14.492040Z",
     "iopub.status.idle": "2021-04-09T13:41:14.501450Z",
     "shell.execute_reply": "2021-04-09T13:41:14.501978Z"
    },
    "scrolled": true
   },
   "outputs": [
    {
     "data": {
      "text/plain": [
       "{'x1': {'x1': array([6.86071239e-01, 6.86071239e-01, 5.95543579e-01, 5.95543579e-01,\n",
       "         6.35257425e-01, 6.35257425e-01, 2.70218041e-01, 2.70218041e-01,\n",
       "         2.15090629e-01, 2.15090629e-01, 1.33237727e-01, 1.33237727e-01,\n",
       "         8.68135782e-01, 8.68135782e-01, 2.05267148e-01, 2.05267148e-01,\n",
       "         2.20367425e-01, 2.20367425e-01, 7.62322615e-01, 7.62322615e-01,\n",
       "         2.98187121e-01, 2.98187121e-01, 3.35412205e-01, 3.35412205e-01,\n",
       "         6.41117779e-01, 6.41117779e-01, 1.96979876e-01, 1.96979876e-01,\n",
       "         9.23484712e-01, 9.23484712e-01, 2.48768574e-01, 2.48768574e-01,\n",
       "         7.40025194e-01, 7.40025194e-01, 1.32864924e-01, 1.32864924e-01,\n",
       "         6.74575452e-01, 6.74575452e-01, 7.43379588e-02, 7.43379588e-02,\n",
       "         5.72575405e-01, 5.72575405e-01, 9.02663770e-01, 9.02663770e-01,\n",
       "         9.49716339e-01, 9.49716339e-01, 4.07238735e-01, 4.07238735e-01,\n",
       "         7.18824394e-01, 7.18824394e-01, 4.61678688e-01, 4.61678688e-01,\n",
       "         2.18902786e-01, 2.18902786e-01, 7.37517014e-01, 7.37517014e-01,\n",
       "         5.54850558e-01, 5.54850558e-01, 9.93632340e-01, 9.93632340e-01,\n",
       "         9.44124645e-01, 9.44124645e-01, 7.14511438e-01, 7.14511438e-01,\n",
       "         3.14234472e-01, 3.14234472e-01, 4.45516747e-01, 4.45516747e-01,\n",
       "         5.28884508e-01, 5.28884508e-01, 1.91007500e-01, 1.91007500e-01,\n",
       "         1.29917228e-01, 1.29917228e-01, 8.25200063e-01, 8.25200063e-01,\n",
       "         2.93904051e-01, 2.93904051e-01, 4.48051765e-01, 4.48051765e-01,\n",
       "         9.89236661e-01, 9.89236661e-01, 7.08787912e-01, 7.08787912e-01,\n",
       "         5.40721311e-01, 5.40721311e-01, 9.11069910e-01, 9.11069910e-01,\n",
       "         6.97114885e-01, 6.97114885e-01, 9.29073156e-01, 9.29073156e-01,\n",
       "         2.06978651e-01, 2.06978651e-01, 3.66114443e-01, 3.66114443e-01,\n",
       "         2.43509692e-01, 2.43509692e-01, 4.00958136e-01, 4.00958136e-01,\n",
       "         4.14691298e-01, 4.14691298e-01, 1.80757725e-02, 1.80757725e-02,\n",
       "         4.66355466e-01, 4.66355466e-01, 8.88240338e-01, 8.88240338e-01,\n",
       "         8.37245934e-01, 8.37245934e-01, 1.66088369e-01, 1.66088369e-01,\n",
       "         2.87941540e-01, 2.87941540e-01, 9.73843032e-02, 9.73843032e-02,\n",
       "         2.24264280e-01, 2.24264280e-01, 7.70707085e-01, 7.70707085e-01,\n",
       "         3.28199325e-01, 3.28199325e-01, 9.49899210e-01, 9.49899210e-01,\n",
       "         3.00902624e-01, 3.00902624e-01, 5.38410804e-01, 5.38410804e-01,\n",
       "         1.26526888e-01, 1.26526888e-01, 8.04517079e-01, 8.04517079e-01,\n",
       "         4.09518619e-01, 4.09518619e-01, 9.41003193e-01, 9.41003193e-01,\n",
       "         2.95275200e-01, 2.95275200e-01, 1.49944465e-01, 1.49944465e-01,\n",
       "         6.51813146e-01, 6.51813146e-01, 1.45943940e-01, 1.45943940e-01,\n",
       "         1.87332033e-02, 1.87332033e-02, 3.99591077e-02, 3.99591077e-02,\n",
       "         9.64685301e-01, 9.64685301e-01, 1.31349069e-01, 1.31349069e-01,\n",
       "         7.51098399e-01, 7.51098399e-01, 2.20364278e-01, 2.20364278e-01,\n",
       "         3.81149718e-01, 3.81149718e-01, 5.60865370e-01, 5.60865370e-01,\n",
       "         5.11007115e-01, 5.11007115e-01, 6.36109048e-01, 6.36109048e-01,\n",
       "         8.69579705e-01, 8.69579705e-01, 9.49161365e-01, 9.49161365e-01,\n",
       "         9.04643713e-01, 9.04643713e-01, 3.37915024e-01, 3.37915024e-01,\n",
       "         4.42185374e-01, 4.42185374e-01, 1.18135569e-01, 1.18135569e-01,\n",
       "         5.84697492e-01, 5.84697492e-01, 5.15170243e-01, 5.15170243e-01,\n",
       "         4.90974449e-01, 4.90974449e-01, 8.69177668e-02, 8.69177668e-02,\n",
       "         4.31271206e-01, 4.31271206e-01, 2.35534179e-01, 2.35534179e-01,\n",
       "         9.57269954e-02, 9.57269954e-02, 3.49285599e-04, 3.49285599e-04,\n",
       "         2.04867943e-01, 2.04867943e-01, 6.64175007e-01, 6.64175007e-01,\n",
       "         7.65295731e-01, 7.65295731e-01, 1.12873704e-01, 1.12873704e-01])}}"
      ]
     },
     "execution_count": 1,
     "metadata": {},
     "output_type": "execute_result"
    }
   ],
   "source": [
    "ds = load_by_id(run_id_n)\n",
    "ds.get_parameter_data('x1')"
   ]
  },
  {
   "cell_type": "markdown",
   "metadata": {},
   "source": [
    "And a dataset stored as binary arrays"
   ]
  },
  {
   "cell_type": "code",
   "execution_count": 12,
   "metadata": {
    "execution": {
     "iopub.execute_input": "2021-04-09T13:41:14.505996Z",
     "iopub.status.busy": "2021-04-09T13:41:14.505285Z",
     "iopub.status.idle": "2021-04-09T13:41:14.578927Z",
     "shell.execute_reply": "2021-04-09T13:41:14.579421Z"
    },
    "scrolled": true
   },
   "outputs": [
    {
     "data": {
      "text/plain": [
       "{'x1': {'x1': array([[0.74806032],\n",
       "         [0.74806032],\n",
       "         [0.02702   ],\n",
       "         [0.02702   ],\n",
       "         [0.99713127],\n",
       "         [0.99713127],\n",
       "         [0.15322327],\n",
       "         [0.15322327],\n",
       "         [0.67408813],\n",
       "         [0.67408813],\n",
       "         [0.70024769],\n",
       "         [0.70024769],\n",
       "         [0.24620641],\n",
       "         [0.24620641],\n",
       "         [0.08348574],\n",
       "         [0.08348574],\n",
       "         [0.07313783],\n",
       "         [0.07313783],\n",
       "         [0.1934692 ],\n",
       "         [0.1934692 ],\n",
       "         [0.27957716],\n",
       "         [0.27957716],\n",
       "         [0.60757272],\n",
       "         [0.60757272],\n",
       "         [0.88281871],\n",
       "         [0.88281871],\n",
       "         [0.34133304],\n",
       "         [0.34133304],\n",
       "         [0.56566292],\n",
       "         [0.56566292],\n",
       "         [0.47045925],\n",
       "         [0.47045925],\n",
       "         [0.80965076],\n",
       "         [0.80965076],\n",
       "         [0.83297989],\n",
       "         [0.83297989],\n",
       "         [0.01370529],\n",
       "         [0.01370529],\n",
       "         [0.94788333],\n",
       "         [0.94788333],\n",
       "         [0.6752876 ],\n",
       "         [0.6752876 ],\n",
       "         [0.73087577],\n",
       "         [0.73087577],\n",
       "         [0.34117428],\n",
       "         [0.34117428],\n",
       "         [0.66478243],\n",
       "         [0.66478243],\n",
       "         [0.88016915],\n",
       "         [0.88016915],\n",
       "         [0.15413811],\n",
       "         [0.15413811],\n",
       "         [0.60524485],\n",
       "         [0.60524485],\n",
       "         [0.25129556],\n",
       "         [0.25129556],\n",
       "         [0.07431782],\n",
       "         [0.07431782],\n",
       "         [0.25124355],\n",
       "         [0.25124355],\n",
       "         [0.93509104],\n",
       "         [0.93509104],\n",
       "         [0.85653522],\n",
       "         [0.85653522],\n",
       "         [0.49037889],\n",
       "         [0.49037889],\n",
       "         [0.75460335],\n",
       "         [0.75460335],\n",
       "         [0.06631853],\n",
       "         [0.06631853],\n",
       "         [0.48103873],\n",
       "         [0.48103873],\n",
       "         [0.50718788],\n",
       "         [0.50718788],\n",
       "         [0.61978346],\n",
       "         [0.61978346],\n",
       "         [0.53206703],\n",
       "         [0.53206703],\n",
       "         [0.92713255],\n",
       "         [0.92713255],\n",
       "         [0.08663415],\n",
       "         [0.08663415],\n",
       "         [0.82821223],\n",
       "         [0.82821223],\n",
       "         [0.65879737],\n",
       "         [0.65879737],\n",
       "         [0.92501688],\n",
       "         [0.92501688],\n",
       "         [0.54705832],\n",
       "         [0.54705832],\n",
       "         [0.60367682],\n",
       "         [0.60367682],\n",
       "         [0.01784095],\n",
       "         [0.01784095],\n",
       "         [0.31432067],\n",
       "         [0.31432067],\n",
       "         [0.21038941],\n",
       "         [0.21038941],\n",
       "         [0.8643666 ],\n",
       "         [0.8643666 ],\n",
       "         [0.49819452],\n",
       "         [0.49819452],\n",
       "         [0.40693602],\n",
       "         [0.40693602],\n",
       "         [0.61182645],\n",
       "         [0.61182645],\n",
       "         [0.66000284],\n",
       "         [0.66000284],\n",
       "         [0.58502507],\n",
       "         [0.58502507],\n",
       "         [0.05406056],\n",
       "         [0.05406056],\n",
       "         [0.79557542],\n",
       "         [0.79557542],\n",
       "         [0.36629165],\n",
       "         [0.36629165],\n",
       "         [0.76247065],\n",
       "         [0.76247065],\n",
       "         [0.67622099],\n",
       "         [0.67622099],\n",
       "         [0.17387326],\n",
       "         [0.17387326],\n",
       "         [0.03793441],\n",
       "         [0.03793441],\n",
       "         [0.58837354],\n",
       "         [0.58837354],\n",
       "         [0.0739185 ],\n",
       "         [0.0739185 ],\n",
       "         [0.74839425],\n",
       "         [0.74839425],\n",
       "         [0.56470163],\n",
       "         [0.56470163],\n",
       "         [0.08535252],\n",
       "         [0.08535252],\n",
       "         [0.3894908 ],\n",
       "         [0.3894908 ],\n",
       "         [0.8059265 ],\n",
       "         [0.8059265 ],\n",
       "         [0.30241445],\n",
       "         [0.30241445],\n",
       "         [0.75204637],\n",
       "         [0.75204637],\n",
       "         [0.78183275],\n",
       "         [0.78183275],\n",
       "         [0.90336453],\n",
       "         [0.90336453],\n",
       "         [0.65239909],\n",
       "         [0.65239909],\n",
       "         [0.75652793],\n",
       "         [0.75652793],\n",
       "         [0.73394718],\n",
       "         [0.73394718],\n",
       "         [0.41683209],\n",
       "         [0.41683209],\n",
       "         [0.11658037],\n",
       "         [0.11658037],\n",
       "         [0.52084087],\n",
       "         [0.52084087],\n",
       "         [0.83727865],\n",
       "         [0.83727865],\n",
       "         [0.65447022],\n",
       "         [0.65447022],\n",
       "         [0.6158733 ],\n",
       "         [0.6158733 ],\n",
       "         [0.26830655],\n",
       "         [0.26830655],\n",
       "         [0.63561755],\n",
       "         [0.63561755],\n",
       "         [0.51285522],\n",
       "         [0.51285522],\n",
       "         [0.14022114],\n",
       "         [0.14022114],\n",
       "         [0.87917644],\n",
       "         [0.87917644],\n",
       "         [0.15640661],\n",
       "         [0.15640661],\n",
       "         [0.84836388],\n",
       "         [0.84836388],\n",
       "         [0.48878985],\n",
       "         [0.48878985],\n",
       "         [0.03722851],\n",
       "         [0.03722851],\n",
       "         [0.26076474],\n",
       "         [0.26076474],\n",
       "         [0.10489875],\n",
       "         [0.10489875],\n",
       "         [0.98303916],\n",
       "         [0.98303916],\n",
       "         [0.49759632],\n",
       "         [0.49759632],\n",
       "         [0.21910117],\n",
       "         [0.21910117],\n",
       "         [0.7278795 ],\n",
       "         [0.7278795 ],\n",
       "         [0.36686267],\n",
       "         [0.36686267],\n",
       "         [0.30883546],\n",
       "         [0.30883546],\n",
       "         [0.63648842],\n",
       "         [0.63648842]])}}"
      ]
     },
     "execution_count": 1,
     "metadata": {},
     "output_type": "execute_result"
    }
   ],
   "source": [
    "ds = load_by_id(run_id_a)\n",
    "ds.get_parameter_data('x1')"
   ]
  },
  {
   "cell_type": "code",
   "execution_count": null,
   "metadata": {},
   "outputs": [],
   "source": []
  }
 ],
 "metadata": {
  "kernelspec": {
   "display_name": "Python 3",
   "language": "python",
   "name": "python3"
  },
  "language_info": {
   "codemirror_mode": {
    "name": "ipython",
    "version": 3
   },
   "file_extension": ".py",
   "mimetype": "text/x-python",
   "name": "python",
   "nbconvert_exporter": "python",
   "pygments_lexer": "ipython3",
   "version": "3.7.10"
  },
  "nbsphinx": {
   "timeout": 600
  },
  "toc": {
   "base_numbering": 1,
   "nav_menu": {},
   "number_sections": true,
   "sideBar": true,
   "skip_h1_title": false,
   "title_cell": "Table of Contents",
   "title_sidebar": "Contents",
   "toc_cell": false,
   "toc_position": {},
   "toc_section_display": true,
   "toc_window_display": false
  },
  "varInspector": {
   "cols": {
    "lenName": 16,
    "lenType": 16,
    "lenVar": 40
   },
   "kernels_config": {
    "python": {
     "delete_cmd_postfix": "",
     "delete_cmd_prefix": "del ",
     "library": "var_list.py",
     "varRefreshCmd": "print(var_dic_list())"
    },
    "r": {
     "delete_cmd_postfix": ") ",
     "delete_cmd_prefix": "rm(",
     "library": "var_list.r",
     "varRefreshCmd": "cat(var_dic_list()) "
    }
   },
   "types_to_exclude": [
    "module",
    "function",
    "builtin_function_or_method",
    "instance",
    "_Feature"
   ],
   "window_display": false
  }
 },
 "nbformat": 4,
 "nbformat_minor": 2
}
