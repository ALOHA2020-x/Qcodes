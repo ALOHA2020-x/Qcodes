{
 "cells": [
  {
   "cell_type": "markdown",
   "metadata": {},
   "source": [
    "# DataSet Performance\n",
    "\n",
    "This notebook shows the trade-off between inserting data into a database row-by-row and as binary blobs. Inserting the data row-by-row means that we have direct access to all the data and may perform queries directly on the values of the data. On the other hand, as we shall see, this is much slower than inserting the data directly as binary blobs."
   ]
  },
  {
   "cell_type": "markdown",
   "metadata": {},
   "source": [
    "First, we choose a new location for the database to ensure that we don't add a bunch of benchmarking data to the default one."
   ]
  },
  {
   "cell_type": "code",
   "execution_count": 1,
   "metadata": {
    "execution": {
     "iopub.execute_input": "2020-10-20T12:36:59.687212Z",
     "iopub.status.busy": "2020-10-20T12:36:59.686298Z",
     "iopub.status.idle": "2020-10-20T12:37:00.720482Z",
     "shell.execute_reply": "2020-10-20T12:37:00.719925Z"
    }
   },
   "outputs": [
    {
     "name": "stdout",
     "output_type": "stream",
     "text": [
      "Logging hadn't been started.\n",
      "Activating auto-logging. Current session state plus future input saved.\n",
      "Filename       : /home/vsts/.qcodes/logs/command_history.log\n",
      "Mode           : append\n",
      "Output logging : True\n",
      "Raw input log  : False\n",
      "Timestamping   : True\n",
      "State          : active\n"
     ]
    },
    {
     "name": "stdout",
     "output_type": "stream",
     "text": [
      "Qcodes Logfile : /home/vsts/.qcodes/logs/201020-14896-qcodes.log\n"
     ]
    }
   ],
   "source": [
    "import os\n",
    "cwd = os.getcwd()\n",
    "import qcodes as qc\n",
    "qc.config[\"core\"][\"db_location\"] = os.path.join(cwd, 'testing.db')\n"
   ]
  },
  {
   "cell_type": "code",
   "execution_count": 2,
   "metadata": {
    "execution": {
     "iopub.execute_input": "2020-10-20T12:37:00.727019Z",
     "iopub.status.busy": "2020-10-20T12:37:00.725450Z",
     "iopub.status.idle": "2020-10-20T12:37:00.922114Z",
     "shell.execute_reply": "2020-10-20T12:37:00.922791Z"
    }
   },
   "outputs": [],
   "source": [
    "%matplotlib inline\n",
    "import time\n",
    "import matplotlib.pyplot as plt\n",
    "import numpy as np\n",
    "\n",
    "import qcodes as qc\n",
    "from qcodes.instrument.parameter import ManualParameter\n",
    "from qcodes.dataset.experiment_container import (Experiment,\n",
    "                                                 load_last_experiment,\n",
    "                                                 new_experiment)\n",
    "from qcodes.dataset.sqlite.database import initialise_database\n",
    "from qcodes import load_or_create_experiment\n",
    "from qcodes.dataset.measurements import Measurement"
   ]
  },
  {
   "cell_type": "code",
   "execution_count": 3,
   "metadata": {
    "execution": {
     "iopub.execute_input": "2020-10-20T12:37:00.927384Z",
     "iopub.status.busy": "2020-10-20T12:37:00.926619Z",
     "iopub.status.idle": "2020-10-20T12:37:01.060997Z",
     "shell.execute_reply": "2020-10-20T12:37:01.060360Z"
    }
   },
   "outputs": [
    {
     "name": "stdout",
     "output_type": "stream",
     "text": [
      "\r",
      "0it [00:00, ?it/s]"
     ]
    },
    {
     "name": "stdout",
     "output_type": "stream",
     "text": [
      "\r",
      "Upgrading database; v0 -> v1: : 0it [00:00, ?it/s]"
     ]
    },
    {
     "name": "stdout",
     "output_type": "stream",
     "text": [
      "\r",
      "Upgrading database; v0 -> v1: : 0it [00:00, ?it/s]"
     ]
    },
    {
     "name": "stdout",
     "output_type": "stream",
     "text": [
      "\n",
      "\r",
      "  0%|          | 0/1 [00:00<?, ?it/s]"
     ]
    },
    {
     "name": "stdout",
     "output_type": "stream",
     "text": [
      "\r",
      "Upgrading database; v1 -> v2:   0%|          | 0/1 [00:00<?, ?it/s]"
     ]
    },
    {
     "name": "stdout",
     "output_type": "stream",
     "text": [
      "\r",
      "Upgrading database; v1 -> v2: 100%|██████████| 1/1 [00:00<00:00, 517.62it/s]"
     ]
    },
    {
     "name": "stdout",
     "output_type": "stream",
     "text": [
      "\n",
      "\r",
      "0it [00:00, ?it/s]"
     ]
    },
    {
     "name": "stdout",
     "output_type": "stream",
     "text": [
      "\r",
      "Upgrading database; v2 -> v3: : 0it [00:00, ?it/s]"
     ]
    },
    {
     "name": "stdout",
     "output_type": "stream",
     "text": [
      "\r",
      "Upgrading database; v2 -> v3: : 0it [00:00, ?it/s]"
     ]
    },
    {
     "name": "stdout",
     "output_type": "stream",
     "text": [
      "\n",
      "\r",
      "0it [00:00, ?it/s]"
     ]
    },
    {
     "name": "stdout",
     "output_type": "stream",
     "text": [
      "\r",
      "Upgrading database; v3 -> v4: : 0it [00:00, ?it/s]"
     ]
    },
    {
     "name": "stdout",
     "output_type": "stream",
     "text": [
      "\r",
      "Upgrading database; v3 -> v4: : 0it [00:00, ?it/s]"
     ]
    },
    {
     "name": "stdout",
     "output_type": "stream",
     "text": [
      "\n",
      "\r",
      "  0%|          | 0/1 [00:00<?, ?it/s]"
     ]
    },
    {
     "name": "stdout",
     "output_type": "stream",
     "text": [
      "\r",
      "Upgrading database; v4 -> v5:   0%|          | 0/1 [00:00<?, ?it/s]"
     ]
    },
    {
     "name": "stdout",
     "output_type": "stream",
     "text": [
      "\r",
      "Upgrading database; v4 -> v5: 100%|██████████| 1/1 [00:00<00:00, 401.10it/s]"
     ]
    },
    {
     "name": "stdout",
     "output_type": "stream",
     "text": [
      "\n",
      "\r",
      "0it [00:00, ?it/s]"
     ]
    },
    {
     "name": "stdout",
     "output_type": "stream",
     "text": [
      "\r",
      "Upgrading database; v5 -> v6: : 0it [00:00, ?it/s]"
     ]
    },
    {
     "name": "stdout",
     "output_type": "stream",
     "text": [
      "\r",
      "Upgrading database; v5 -> v6: : 0it [00:00, ?it/s]"
     ]
    },
    {
     "name": "stdout",
     "output_type": "stream",
     "text": [
      "\n",
      "\r",
      "  0%|          | 0/1 [00:00<?, ?it/s]"
     ]
    },
    {
     "name": "stdout",
     "output_type": "stream",
     "text": [
      "\r",
      "Upgrading database; v6 -> v7:   0%|          | 0/1 [00:00<?, ?it/s]"
     ]
    },
    {
     "name": "stdout",
     "output_type": "stream",
     "text": [
      "\r",
      "Upgrading database; v6 -> v7: 100%|██████████| 1/1 [00:00<00:00, 237.31it/s]"
     ]
    },
    {
     "name": "stdout",
     "output_type": "stream",
     "text": [
      "\n",
      "\r",
      "  0%|          | 0/1 [00:00<?, ?it/s]"
     ]
    },
    {
     "name": "stdout",
     "output_type": "stream",
     "text": [
      "\r",
      "Upgrading database; v7 -> v8:   0%|          | 0/1 [00:00<?, ?it/s]"
     ]
    },
    {
     "name": "stdout",
     "output_type": "stream",
     "text": [
      "\r",
      "Upgrading database; v7 -> v8: 100%|██████████| 1/1 [00:00<00:00, 386.68it/s]"
     ]
    },
    {
     "name": "stdout",
     "output_type": "stream",
     "text": [
      "\n",
      "\r",
      "  0%|          | 0/1 [00:00<?, ?it/s]"
     ]
    },
    {
     "name": "stdout",
     "output_type": "stream",
     "text": [
      "\r",
      "Upgrading database; v8 -> v9:   0%|          | 0/1 [00:00<?, ?it/s]"
     ]
    },
    {
     "name": "stdout",
     "output_type": "stream",
     "text": [
      "\r",
      "Upgrading database; v8 -> v9: 100%|██████████| 1/1 [00:00<00:00, 568.64it/s]"
     ]
    },
    {
     "name": "stdout",
     "output_type": "stream",
     "text": [
      "\n"
     ]
    }
   ],
   "source": [
    "initialise_database()\n",
    "exp = load_or_create_experiment(experiment_name='tutorial_exp', sample_name=\"no sample\")"
   ]
  },
  {
   "cell_type": "markdown",
   "metadata": {},
   "source": [
    "Here, we define a simple function to benchmark the time it takes to insert n points with either numeric or array data type.\n",
    "We will compare both the time used to call ``add_result`` and the time used for the full measurement."
   ]
  },
  {
   "cell_type": "code",
   "execution_count": 4,
   "metadata": {
    "execution": {
     "iopub.execute_input": "2020-10-20T12:37:01.068658Z",
     "iopub.status.busy": "2020-10-20T12:37:01.064743Z",
     "iopub.status.idle": "2020-10-20T12:37:01.072172Z",
     "shell.execute_reply": "2020-10-20T12:37:01.072671Z"
    }
   },
   "outputs": [],
   "source": [
    "def insert_data(paramtype, npoints, nreps=1):\n",
    "\n",
    "    meas = Measurement(exp=exp)\n",
    "\n",
    "    x1 = ManualParameter('x1')\n",
    "    x2 = ManualParameter('x2')\n",
    "    x3 = ManualParameter('x3')\n",
    "    y1 = ManualParameter('y1')\n",
    "    y2 = ManualParameter('y2')\n",
    "\n",
    "    meas.register_parameter(x1, paramtype=paramtype)\n",
    "    meas.register_parameter(x2, paramtype=paramtype)\n",
    "    meas.register_parameter(x3, paramtype=paramtype)\n",
    "    meas.register_parameter(y1, setpoints=[x1, x2, x3],\n",
    "                            paramtype=paramtype)\n",
    "    meas.register_parameter(y2, setpoints=[x1, x2, x3],\n",
    "                            paramtype=paramtype)\n",
    "    start = time.perf_counter()\n",
    "    with meas.run() as datasaver:\n",
    "        start_adding = time.perf_counter()\n",
    "        for i in range(nreps):\n",
    "            datasaver.add_result((x1, np.random.rand(npoints)),\n",
    "                                 (x2, np.random.rand(npoints)),\n",
    "                                 (x3, np.random.rand(npoints)),\n",
    "                                 (y1, np.random.rand(npoints)),\n",
    "                                 (y2, np.random.rand(npoints)))\n",
    "        stop_adding = time.perf_counter()\n",
    "        run_id = datasaver.run_id\n",
    "    stop = time.perf_counter()\n",
    "    tot_time = stop - start\n",
    "    add_time = stop_adding - start_adding\n",
    "    return tot_time, add_time, run_id"
   ]
  },
  {
   "cell_type": "markdown",
   "metadata": {},
   "source": [
    "## Comparison between numeric/array data and binary blob"
   ]
  },
  {
   "cell_type": "markdown",
   "metadata": {},
   "source": [
    "### Case1: Short experiment time"
   ]
  },
  {
   "cell_type": "code",
   "execution_count": 5,
   "metadata": {
    "execution": {
     "iopub.execute_input": "2020-10-20T12:37:01.079829Z",
     "iopub.status.busy": "2020-10-20T12:37:01.078343Z",
     "iopub.status.idle": "2020-10-20T12:37:01.994468Z",
     "shell.execute_reply": "2020-10-20T12:37:01.993788Z"
    }
   },
   "outputs": [
    {
     "name": "stdout",
     "output_type": "stream",
     "text": [
      "Starting experimental run with id: 1. \n",
      "Starting experimental run with id: 2. \n",
      "Starting experimental run with id: 3. \n",
      "Starting experimental run with id: 4. \n",
      "Starting experimental run with id: 5. \n"
     ]
    },
    {
     "name": "stdout",
     "output_type": "stream",
     "text": [
      "Starting experimental run with id: 6. \n"
     ]
    },
    {
     "name": "stdout",
     "output_type": "stream",
     "text": [
      "Starting experimental run with id: 7. \n"
     ]
    },
    {
     "name": "stdout",
     "output_type": "stream",
     "text": [
      "Starting experimental run with id: 8. \n",
      "Starting experimental run with id: 9. \n"
     ]
    },
    {
     "name": "stdout",
     "output_type": "stream",
     "text": [
      "Starting experimental run with id: 10. \n",
      "Starting experimental run with id: 11. \n"
     ]
    },
    {
     "name": "stdout",
     "output_type": "stream",
     "text": [
      "Starting experimental run with id: 12. \n"
     ]
    },
    {
     "name": "stdout",
     "output_type": "stream",
     "text": [
      "Starting experimental run with id: 13. \n"
     ]
    },
    {
     "name": "stdout",
     "output_type": "stream",
     "text": [
      "Starting experimental run with id: 14. \n"
     ]
    }
   ],
   "source": [
    "sizes = [1,500,1000,2000,3000,4000,5000]\n",
    "t_numeric = []\n",
    "t_numeric_add = []\n",
    "t_array = []\n",
    "t_array_add = []\n",
    "for size in sizes:\n",
    "    tn, tna, run_id_n =  insert_data('numeric', size)\n",
    "    t_numeric.append(tn)\n",
    "    t_numeric_add.append(tna)\n",
    "\n",
    "    ta, taa, run_id_a =  insert_data('array', size)\n",
    "    t_array.append(ta)\n",
    "    t_array_add.append(taa)"
   ]
  },
  {
   "cell_type": "code",
   "execution_count": 6,
   "metadata": {
    "execution": {
     "iopub.execute_input": "2020-10-20T12:37:02.013992Z",
     "iopub.status.busy": "2020-10-20T12:37:02.000840Z",
     "iopub.status.idle": "2020-10-20T12:37:02.235492Z",
     "shell.execute_reply": "2020-10-20T12:37:02.236251Z"
    }
   },
   "outputs": [
    {
     "data": {
      "image/png": "[encoded data removed]",
      "text/plain": [
       "<Figure size 432x288 with 1 Axes>"
      ]
     },
     "metadata": {
      "needs_background": "light"
     },
     "output_type": "display_data"
    }
   ],
   "source": [
    "fig, ax = plt.subplots(1,1)\n",
    "ax.plot(sizes, t_numeric, 'o-', label='Inserting row-by-row')\n",
    "ax.plot(sizes, t_numeric_add, 'o-', label='Inserting row-by-row: add_result only')\n",
    "ax.plot(sizes, t_array, 'd-', label='Inserting as binary blob')\n",
    "ax.plot(sizes, t_array_add, 'd-', label='Inserting as binary blob: add_result only')\n",
    "ax.legend()\n",
    "ax.set_xlabel('Array length')\n",
    "ax.set_ylabel('Time (s)')\n",
    "fig.tight_layout()"
   ]
  },
  {
   "cell_type": "markdown",
   "metadata": {},
   "source": [
    "As shown in the latter figure, the time to setup and and close the experiment is approximately 0.4 sec. In case of small array sizes, the difference between inserting values of data as arrays and inserting them row-by-row is relatively unimportant. At larger array sizes, i.e. above 10000 points, the cost of writing data as individual datapoints starts to become important.\n"
   ]
  },
  {
   "cell_type": "markdown",
   "metadata": {},
   "source": [
    "### Case2: Long experiment time "
   ]
  },
  {
   "cell_type": "code",
   "execution_count": 7,
   "metadata": {
    "execution": {
     "iopub.execute_input": "2020-10-20T12:37:02.246303Z",
     "iopub.status.busy": "2020-10-20T12:37:02.241719Z",
     "iopub.status.idle": "2020-10-20T12:38:03.164254Z",
     "shell.execute_reply": "2020-10-20T12:38:03.163401Z"
    }
   },
   "outputs": [
    {
     "name": "stdout",
     "output_type": "stream",
     "text": [
      "Starting experimental run with id: 15. \n",
      "Starting experimental run with id: 16. \n",
      "Starting experimental run with id: 17. \n"
     ]
    },
    {
     "name": "stdout",
     "output_type": "stream",
     "text": [
      "Starting experimental run with id: 18. \n",
      "Starting experimental run with id: 19. \n"
     ]
    },
    {
     "name": "stdout",
     "output_type": "stream",
     "text": [
      "Starting experimental run with id: 20. \n"
     ]
    },
    {
     "name": "stdout",
     "output_type": "stream",
     "text": [
      "Starting experimental run with id: 21. \n"
     ]
    },
    {
     "name": "stdout",
     "output_type": "stream",
     "text": [
      "Starting experimental run with id: 22. \n"
     ]
    },
    {
     "name": "stdout",
     "output_type": "stream",
     "text": [
      "Starting experimental run with id: 23. \n"
     ]
    },
    {
     "name": "stdout",
     "output_type": "stream",
     "text": [
      "Starting experimental run with id: 24. \n"
     ]
    },
    {
     "name": "stdout",
     "output_type": "stream",
     "text": [
      "Starting experimental run with id: 25. \n"
     ]
    },
    {
     "name": "stdout",
     "output_type": "stream",
     "text": [
      "Starting experimental run with id: 26. \n"
     ]
    },
    {
     "name": "stdout",
     "output_type": "stream",
     "text": [
      "Starting experimental run with id: 27. \n"
     ]
    },
    {
     "name": "stdout",
     "output_type": "stream",
     "text": [
      "Starting experimental run with id: 28. \n"
     ]
    }
   ],
   "source": [
    "sizes = [1,500,1000,2000,3000,4000,5000]\n",
    "nreps = 100\n",
    "t_numeric = []\n",
    "t_numeric_add = []\n",
    "t_numeric_run_ids = []\n",
    "t_array = []\n",
    "t_array_add = []\n",
    "t_array_run_ids = []\n",
    "for size in sizes:\n",
    "    tn, tna, run_id_n =  insert_data('numeric', size, nreps=nreps)\n",
    "    t_numeric.append(tn)\n",
    "    t_numeric_add.append(tna)\n",
    "    t_numeric_run_ids.append(run_id_n)\n",
    "\n",
    "    ta, taa, run_id_a =  insert_data('array', size, nreps=nreps)\n",
    "    t_array.append(ta)\n",
    "    t_array_add.append(taa)\n",
    "    t_array_run_ids.append(run_id_a)"
   ]
  },
  {
   "cell_type": "code",
   "execution_count": 8,
   "metadata": {
    "execution": {
     "iopub.execute_input": "2020-10-20T12:38:03.182265Z",
     "iopub.status.busy": "2020-10-20T12:38:03.169477Z",
     "iopub.status.idle": "2020-10-20T12:38:03.381545Z",
     "shell.execute_reply": "2020-10-20T12:38:03.380933Z"
    },
    "scrolled": true
   },
   "outputs": [
    {
     "data": {
      "image/png": "[encoded data removed]",
      "text/plain": [
       "<Figure size 432x288 with 1 Axes>"
      ]
     },
     "metadata": {
      "needs_background": "light"
     },
     "output_type": "display_data"
    }
   ],
   "source": [
    "fig, ax = plt.subplots(1,1)\n",
    "ax.plot(sizes, t_numeric, 'o-', label='Inserting row-by-row')\n",
    "ax.plot(sizes, t_numeric_add, 'o-', label='Inserting row-by-row: add_result only')\n",
    "ax.plot(sizes, t_array, 'd-', label='Inserting as binary blob')\n",
    "ax.plot(sizes, t_array_add, 'd-', label='Inserting as binary blob: add_result only')\n",
    "ax.legend()\n",
    "ax.set_xlabel('Array length')\n",
    "ax.set_ylabel('Time (s)')\n",
    "fig.tight_layout()"
   ]
  },
  {
   "cell_type": "markdown",
   "metadata": {},
   "source": [
    "However, as we increase the length of the experiment, as seen here by repeating the insertion 100 times, we see a big difference between inserting values of the data row-by-row and inserting it as a binary blob."
   ]
  },
  {
   "cell_type": "markdown",
   "metadata": {},
   "source": [
    "## Loading the data "
   ]
  },
  {
   "cell_type": "code",
   "execution_count": 9,
   "metadata": {
    "execution": {
     "iopub.execute_input": "2020-10-20T12:38:03.386510Z",
     "iopub.status.busy": "2020-10-20T12:38:03.385550Z",
     "iopub.status.idle": "2020-10-20T12:38:03.389577Z",
     "shell.execute_reply": "2020-10-20T12:38:03.388972Z"
    }
   },
   "outputs": [],
   "source": [
    "from qcodes.dataset.data_set import load_by_id\n",
    "from qcodes.dataset.data_export import get_data_by_id"
   ]
  },
  {
   "cell_type": "markdown",
   "metadata": {},
   "source": [
    "As usual you can load the data by using the ``load_by_id`` function but you will notice that the different storage methods\n",
    "are reflected in shape of the data as it is retrieved. "
   ]
  },
  {
   "cell_type": "code",
   "execution_count": 10,
   "metadata": {
    "execution": {
     "iopub.execute_input": "2020-10-20T12:38:03.394438Z",
     "iopub.status.busy": "2020-10-20T12:38:03.393034Z",
     "iopub.status.idle": "2020-10-20T12:38:03.394985Z",
     "shell.execute_reply": "2020-10-20T12:38:03.395537Z"
    }
   },
   "outputs": [],
   "source": [
    "run_id_n = t_numeric_run_ids[0]\n",
    "run_id_a = t_array_run_ids[0]"
   ]
  },
  {
   "cell_type": "code",
   "execution_count": 11,
   "metadata": {
    "execution": {
     "iopub.execute_input": "2020-10-20T12:38:03.398833Z",
     "iopub.status.busy": "2020-10-20T12:38:03.398256Z",
     "iopub.status.idle": "2020-10-20T12:38:03.407109Z",
     "shell.execute_reply": "2020-10-20T12:38:03.406637Z"
    },
    "scrolled": true
   },
   "outputs": [
    {
     "data": {
      "text/plain": [
       "{'x1': {'x1': array([0.68217313, 0.68217313, 0.63129311, 0.63129311, 0.77815843,\n",
       "         0.77815843, 0.12012035, 0.12012035, 0.30772593, 0.30772593,\n",
       "         0.26256331, 0.26256331, 0.13438312, 0.13438312, 0.3304394 ,\n",
       "         0.3304394 , 0.85227199, 0.85227199, 0.77969628, 0.77969628,\n",
       "         0.12080902, 0.12080902, 0.56423706, 0.56423706, 0.62284434,\n",
       "         0.62284434, 0.05424298, 0.05424298, 0.13624801, 0.13624801,\n",
       "         0.81534181, 0.81534181, 0.13784138, 0.13784138, 0.74836681,\n",
       "         0.74836681, 0.68701447, 0.68701447, 0.71771634, 0.71771634,\n",
       "         0.29689218, 0.29689218, 0.99683333, 0.99683333, 0.48973268,\n",
       "         0.48973268, 0.17634746, 0.17634746, 0.93542065, 0.93542065,\n",
       "         0.36854486, 0.36854486, 0.64033429, 0.64033429, 0.84465982,\n",
       "         0.84465982, 0.70313215, 0.70313215, 0.13234024, 0.13234024,\n",
       "         0.60967811, 0.60967811, 0.51451585, 0.51451585, 0.82301909,\n",
       "         0.82301909, 0.43963848, 0.43963848, 0.81239438, 0.81239438,\n",
       "         0.31142721, 0.31142721, 0.14541555, 0.14541555, 0.89830455,\n",
       "         0.89830455, 0.46362582, 0.46362582, 0.09839885, 0.09839885,\n",
       "         0.74153139, 0.74153139, 0.32629632, 0.32629632, 0.60169277,\n",
       "         0.60169277, 0.19639391, 0.19639391, 0.15343107, 0.15343107,\n",
       "         0.61401746, 0.61401746, 0.0052745 , 0.0052745 , 0.24872657,\n",
       "         0.24872657, 0.30043087, 0.30043087, 0.7061323 , 0.7061323 ,\n",
       "         0.45112418, 0.45112418, 0.83009585, 0.83009585, 0.93206694,\n",
       "         0.93206694, 0.65188902, 0.65188902, 0.62512386, 0.62512386,\n",
       "         0.454548  , 0.454548  , 0.50806534, 0.50806534, 0.0925973 ,\n",
       "         0.0925973 , 0.89567588, 0.89567588, 0.21693255, 0.21693255,\n",
       "         0.17364708, 0.17364708, 0.7451482 , 0.7451482 , 0.04529665,\n",
       "         0.04529665, 0.18498186, 0.18498186, 0.86275176, 0.86275176,\n",
       "         0.18017918, 0.18017918, 0.73621388, 0.73621388, 0.95303227,\n",
       "         0.95303227, 0.83095163, 0.83095163, 0.02782347, 0.02782347,\n",
       "         0.69134399, 0.69134399, 0.16393249, 0.16393249, 0.4546363 ,\n",
       "         0.4546363 , 0.54403667, 0.54403667, 0.76016304, 0.76016304,\n",
       "         0.52719505, 0.52719505, 0.07060533, 0.07060533, 0.40388397,\n",
       "         0.40388397, 0.06615765, 0.06615765, 0.01034428, 0.01034428,\n",
       "         0.33452798, 0.33452798, 0.60996282, 0.60996282, 0.02813975,\n",
       "         0.02813975, 0.75402781, 0.75402781, 0.28461864, 0.28461864,\n",
       "         0.36233246, 0.36233246, 0.27834888, 0.27834888, 0.64661224,\n",
       "         0.64661224, 0.98082269, 0.98082269, 0.87349486, 0.87349486,\n",
       "         0.08955116, 0.08955116, 0.76648266, 0.76648266, 0.96536755,\n",
       "         0.96536755, 0.5527048 , 0.5527048 , 0.60468302, 0.60468302,\n",
       "         0.52598252, 0.52598252, 0.67428774, 0.67428774, 0.79030573,\n",
       "         0.79030573, 0.74857771, 0.74857771, 0.58762269, 0.58762269])}}"
      ]
     },
     "execution_count": 1,
     "metadata": {},
     "output_type": "execute_result"
    }
   ],
   "source": [
    "ds = load_by_id(run_id_n)\n",
    "ds.get_parameter_data('x1')"
   ]
  },
  {
   "cell_type": "markdown",
   "metadata": {},
   "source": [
    "And a dataset stored as binary arrays"
   ]
  },
  {
   "cell_type": "code",
   "execution_count": 12,
   "metadata": {
    "execution": {
     "iopub.execute_input": "2020-10-20T12:38:03.410324Z",
     "iopub.status.busy": "2020-10-20T12:38:03.409808Z",
     "iopub.status.idle": "2020-10-20T12:38:03.465953Z",
     "shell.execute_reply": "2020-10-20T12:38:03.465417Z"
    },
    "scrolled": true
   },
   "outputs": [
    {
     "data": {
      "text/plain": [
       "{'x1': {'x1': array([[0.28731461],\n",
       "         [0.28731461],\n",
       "         [0.61993934],\n",
       "         [0.61993934],\n",
       "         [0.50515042],\n",
       "         [0.50515042],\n",
       "         [0.05500768],\n",
       "         [0.05500768],\n",
       "         [0.31433041],\n",
       "         [0.31433041],\n",
       "         [0.14776021],\n",
       "         [0.14776021],\n",
       "         [0.9613212 ],\n",
       "         [0.9613212 ],\n",
       "         [0.59796447],\n",
       "         [0.59796447],\n",
       "         [0.38231862],\n",
       "         [0.38231862],\n",
       "         [0.41225861],\n",
       "         [0.41225861],\n",
       "         [0.0722487 ],\n",
       "         [0.0722487 ],\n",
       "         [0.98993473],\n",
       "         [0.98993473],\n",
       "         [0.87953554],\n",
       "         [0.87953554],\n",
       "         [0.37026225],\n",
       "         [0.37026225],\n",
       "         [0.38233282],\n",
       "         [0.38233282],\n",
       "         [0.73726025],\n",
       "         [0.73726025],\n",
       "         [0.55042766],\n",
       "         [0.55042766],\n",
       "         [0.10233146],\n",
       "         [0.10233146],\n",
       "         [0.32915465],\n",
       "         [0.32915465],\n",
       "         [0.80375599],\n",
       "         [0.80375599],\n",
       "         [0.04542112],\n",
       "         [0.04542112],\n",
       "         [0.90300778],\n",
       "         [0.90300778],\n",
       "         [0.01312028],\n",
       "         [0.01312028],\n",
       "         [0.7267039 ],\n",
       "         [0.7267039 ],\n",
       "         [0.75160444],\n",
       "         [0.75160444],\n",
       "         [0.8427981 ],\n",
       "         [0.8427981 ],\n",
       "         [0.65853262],\n",
       "         [0.65853262],\n",
       "         [0.09330961],\n",
       "         [0.09330961],\n",
       "         [0.28943463],\n",
       "         [0.28943463],\n",
       "         [0.70149045],\n",
       "         [0.70149045],\n",
       "         [0.49420183],\n",
       "         [0.49420183],\n",
       "         [0.91299217],\n",
       "         [0.91299217],\n",
       "         [0.18810907],\n",
       "         [0.18810907],\n",
       "         [0.92124189],\n",
       "         [0.92124189],\n",
       "         [0.29730065],\n",
       "         [0.29730065],\n",
       "         [0.76812279],\n",
       "         [0.76812279],\n",
       "         [0.01195483],\n",
       "         [0.01195483],\n",
       "         [0.69404706],\n",
       "         [0.69404706],\n",
       "         [0.16500811],\n",
       "         [0.16500811],\n",
       "         [0.9137441 ],\n",
       "         [0.9137441 ],\n",
       "         [0.5650286 ],\n",
       "         [0.5650286 ],\n",
       "         [0.86991488],\n",
       "         [0.86991488],\n",
       "         [0.4110349 ],\n",
       "         [0.4110349 ],\n",
       "         [0.49885591],\n",
       "         [0.49885591],\n",
       "         [0.10041779],\n",
       "         [0.10041779],\n",
       "         [0.18456905],\n",
       "         [0.18456905],\n",
       "         [0.06307775],\n",
       "         [0.06307775],\n",
       "         [0.16504646],\n",
       "         [0.16504646],\n",
       "         [0.68889107],\n",
       "         [0.68889107],\n",
       "         [0.42469641],\n",
       "         [0.42469641],\n",
       "         [0.46636659],\n",
       "         [0.46636659],\n",
       "         [0.98677142],\n",
       "         [0.98677142],\n",
       "         [0.34521188],\n",
       "         [0.34521188],\n",
       "         [0.93255202],\n",
       "         [0.93255202],\n",
       "         [0.09545277],\n",
       "         [0.09545277],\n",
       "         [0.49912221],\n",
       "         [0.49912221],\n",
       "         [0.0230303 ],\n",
       "         [0.0230303 ],\n",
       "         [0.10375385],\n",
       "         [0.10375385],\n",
       "         [0.81553397],\n",
       "         [0.81553397],\n",
       "         [0.32744564],\n",
       "         [0.32744564],\n",
       "         [0.06194466],\n",
       "         [0.06194466],\n",
       "         [0.16693324],\n",
       "         [0.16693324],\n",
       "         [0.27024836],\n",
       "         [0.27024836],\n",
       "         [0.15928258],\n",
       "         [0.15928258],\n",
       "         [0.04562379],\n",
       "         [0.04562379],\n",
       "         [0.51890488],\n",
       "         [0.51890488],\n",
       "         [0.35468411],\n",
       "         [0.35468411],\n",
       "         [0.96383375],\n",
       "         [0.96383375],\n",
       "         [0.99460704],\n",
       "         [0.99460704],\n",
       "         [0.29412683],\n",
       "         [0.29412683],\n",
       "         [0.84806906],\n",
       "         [0.84806906],\n",
       "         [0.36162071],\n",
       "         [0.36162071],\n",
       "         [0.67455155],\n",
       "         [0.67455155],\n",
       "         [0.27621736],\n",
       "         [0.27621736],\n",
       "         [0.57379969],\n",
       "         [0.57379969],\n",
       "         [0.45025669],\n",
       "         [0.45025669],\n",
       "         [0.19957501],\n",
       "         [0.19957501],\n",
       "         [0.34974128],\n",
       "         [0.34974128],\n",
       "         [0.55446992],\n",
       "         [0.55446992],\n",
       "         [0.15590585],\n",
       "         [0.15590585],\n",
       "         [0.77671267],\n",
       "         [0.77671267],\n",
       "         [0.51999864],\n",
       "         [0.51999864],\n",
       "         [0.47780982],\n",
       "         [0.47780982],\n",
       "         [0.55472109],\n",
       "         [0.55472109],\n",
       "         [0.09290798],\n",
       "         [0.09290798],\n",
       "         [0.59583941],\n",
       "         [0.59583941],\n",
       "         [0.55330143],\n",
       "         [0.55330143],\n",
       "         [0.88498402],\n",
       "         [0.88498402],\n",
       "         [0.07108627],\n",
       "         [0.07108627],\n",
       "         [0.39400035],\n",
       "         [0.39400035],\n",
       "         [0.76863547],\n",
       "         [0.76863547],\n",
       "         [0.82753327],\n",
       "         [0.82753327],\n",
       "         [0.35447347],\n",
       "         [0.35447347],\n",
       "         [0.3162863 ],\n",
       "         [0.3162863 ],\n",
       "         [0.1109204 ],\n",
       "         [0.1109204 ],\n",
       "         [0.93970033],\n",
       "         [0.93970033],\n",
       "         [0.76410088],\n",
       "         [0.76410088],\n",
       "         [0.50402188],\n",
       "         [0.50402188],\n",
       "         [0.03444816],\n",
       "         [0.03444816],\n",
       "         [0.77374418],\n",
       "         [0.77374418]])}}"
      ]
     },
     "execution_count": 1,
     "metadata": {},
     "output_type": "execute_result"
    }
   ],
   "source": [
    "ds = load_by_id(run_id_a)\n",
    "ds.get_parameter_data('x1')"
   ]
  },
  {
   "cell_type": "code",
   "execution_count": null,
   "metadata": {},
   "outputs": [],
   "source": []
  }
 ],
 "metadata": {
  "kernelspec": {
   "display_name": "Python 3",
   "language": "python",
   "name": "python3"
  },
  "language_info": {
   "codemirror_mode": {
    "name": "ipython",
    "version": 3
   },
   "file_extension": ".py",
   "mimetype": "text/x-python",
   "name": "python",
   "nbconvert_exporter": "python",
   "pygments_lexer": "ipython3",
   "version": "3.7.7"
  },
  "nbsphinx": {
   "timeout": 600
  },
  "toc": {
   "base_numbering": 1,
   "nav_menu": {},
   "number_sections": true,
   "sideBar": true,
   "skip_h1_title": false,
   "title_cell": "Table of Contents",
   "title_sidebar": "Contents",
   "toc_cell": false,
   "toc_position": {},
   "toc_section_display": true,
   "toc_window_display": false
  },
  "varInspector": {
   "cols": {
    "lenName": 16,
    "lenType": 16,
    "lenVar": 40
   },
   "kernels_config": {
    "python": {
     "delete_cmd_postfix": "",
     "delete_cmd_prefix": "del ",
     "library": "var_list.py",
     "varRefreshCmd": "print(var_dic_list())"
    },
    "r": {
     "delete_cmd_postfix": ") ",
     "delete_cmd_prefix": "rm(",
     "library": "var_list.r",
     "varRefreshCmd": "cat(var_dic_list()) "
    }
   },
   "types_to_exclude": [
    "module",
    "function",
    "builtin_function_or_method",
    "instance",
    "_Feature"
   ],
   "window_display": false
  }
 },
 "nbformat": 4,
 "nbformat_minor": 2
}
