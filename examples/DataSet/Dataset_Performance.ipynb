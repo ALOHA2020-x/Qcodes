{
 "cells": [
  {
   "cell_type": "markdown",
   "metadata": {},
   "source": [
    "# DataSet Performance\n",
    "\n",
    "This notebook shows the trade-off between inserting data into a database row-by-row and as binary blobs. Inserting the data row-by-row means that we have direct access to all the data and may perform queries directly on the values of the data. On the other hand, as we shall see, this is much slower than inserting the data directly as binary blobs."
   ]
  },
  {
   "cell_type": "markdown",
   "metadata": {},
   "source": [
    "First, we choose a new location for the database to ensure that we don't add a bunch of benchmarking data to the default one."
   ]
  },
  {
   "cell_type": "code",
   "execution_count": 1,
   "metadata": {
    "execution": {
     "iopub.execute_input": "2020-12-14T16:20:09.991339Z",
     "iopub.status.busy": "2020-12-14T16:20:09.990779Z",
     "iopub.status.idle": "2020-12-14T16:20:10.995030Z",
     "shell.execute_reply": "2020-12-14T16:20:10.995475Z"
    }
   },
   "outputs": [
    {
     "name": "stdout",
     "output_type": "stream",
     "text": [
      "Logging hadn't been started.\n",
      "Activating auto-logging. Current session state plus future input saved.\n",
      "Filename       : /home/vsts/.qcodes/logs/command_history.log\n",
      "Mode           : append\n",
      "Output logging : True\n",
      "Raw input log  : False\n",
      "Timestamping   : True\n",
      "State          : active\n"
     ]
    },
    {
     "name": "stdout",
     "output_type": "stream",
     "text": [
      "Qcodes Logfile : /home/vsts/.qcodes/logs/201214-14328-qcodes.log\n"
     ]
    }
   ],
   "source": [
    "import os\n",
    "cwd = os.getcwd()\n",
    "import qcodes as qc\n",
    "qc.config[\"core\"][\"db_location\"] = os.path.join(cwd, 'testing.db')\n"
   ]
  },
  {
   "cell_type": "code",
   "execution_count": 2,
   "metadata": {
    "execution": {
     "iopub.execute_input": "2020-12-14T16:20:11.002640Z",
     "iopub.status.busy": "2020-12-14T16:20:11.001277Z",
     "iopub.status.idle": "2020-12-14T16:20:11.175814Z",
     "shell.execute_reply": "2020-12-14T16:20:11.175285Z"
    }
   },
   "outputs": [],
   "source": [
    "%matplotlib inline\n",
    "import time\n",
    "import matplotlib.pyplot as plt\n",
    "import numpy as np\n",
    "\n",
    "import qcodes as qc\n",
    "from qcodes.instrument.parameter import ManualParameter\n",
    "from qcodes.dataset.experiment_container import (Experiment,\n",
    "                                                 load_last_experiment,\n",
    "                                                 new_experiment)\n",
    "from qcodes.dataset.sqlite.database import initialise_database\n",
    "from qcodes import load_or_create_experiment\n",
    "from qcodes.dataset.measurements import Measurement"
   ]
  },
  {
   "cell_type": "code",
   "execution_count": 3,
   "metadata": {
    "execution": {
     "iopub.execute_input": "2020-12-14T16:20:11.179802Z",
     "iopub.status.busy": "2020-12-14T16:20:11.179126Z",
     "iopub.status.idle": "2020-12-14T16:20:11.298600Z",
     "shell.execute_reply": "2020-12-14T16:20:11.299130Z"
    }
   },
   "outputs": [
    {
     "name": "stdout",
     "output_type": "stream",
     "text": [
      "\r",
      "0it [00:00, ?it/s]"
     ]
    },
    {
     "name": "stdout",
     "output_type": "stream",
     "text": [
      "\r",
      "Upgrading database; v0 -> v1: : 0it [00:00, ?it/s]"
     ]
    },
    {
     "name": "stdout",
     "output_type": "stream",
     "text": [
      "\r",
      "Upgrading database; v0 -> v1: : 0it [00:00, ?it/s]"
     ]
    },
    {
     "name": "stdout",
     "output_type": "stream",
     "text": [
      "\n",
      "\r",
      "  0%|          | 0/1 [00:00<?, ?it/s]"
     ]
    },
    {
     "name": "stdout",
     "output_type": "stream",
     "text": [
      "\r",
      "Upgrading database; v1 -> v2:   0%|          | 0/1 [00:00<?, ?it/s]"
     ]
    },
    {
     "name": "stdout",
     "output_type": "stream",
     "text": [
      "\r",
      "Upgrading database; v1 -> v2: 100%|██████████| 1/1 [00:00<00:00, 548.78it/s]"
     ]
    },
    {
     "name": "stdout",
     "output_type": "stream",
     "text": [
      "\n",
      "\r",
      "0it [00:00, ?it/s]"
     ]
    },
    {
     "name": "stdout",
     "output_type": "stream",
     "text": [
      "\r",
      "Upgrading database; v2 -> v3: : 0it [00:00, ?it/s]"
     ]
    },
    {
     "name": "stdout",
     "output_type": "stream",
     "text": [
      "\r",
      "Upgrading database; v2 -> v3: : 0it [00:00, ?it/s]"
     ]
    },
    {
     "name": "stdout",
     "output_type": "stream",
     "text": [
      "\n",
      "\r",
      "0it [00:00, ?it/s]"
     ]
    },
    {
     "name": "stdout",
     "output_type": "stream",
     "text": [
      "\r",
      "Upgrading database; v3 -> v4: : 0it [00:00, ?it/s]"
     ]
    },
    {
     "name": "stdout",
     "output_type": "stream",
     "text": [
      "\r",
      "Upgrading database; v3 -> v4: : 0it [00:00, ?it/s]"
     ]
    },
    {
     "name": "stdout",
     "output_type": "stream",
     "text": [
      "\n",
      "\r",
      "  0%|          | 0/1 [00:00<?, ?it/s]"
     ]
    },
    {
     "name": "stdout",
     "output_type": "stream",
     "text": [
      "\r",
      "Upgrading database; v4 -> v5:   0%|          | 0/1 [00:00<?, ?it/s]"
     ]
    },
    {
     "name": "stdout",
     "output_type": "stream",
     "text": [
      "\r",
      "Upgrading database; v4 -> v5: 100%|██████████| 1/1 [00:00<00:00, 961.56it/s]"
     ]
    },
    {
     "name": "stdout",
     "output_type": "stream",
     "text": [
      "\n",
      "\r",
      "0it [00:00, ?it/s]"
     ]
    },
    {
     "name": "stdout",
     "output_type": "stream",
     "text": [
      "\r",
      "Upgrading database; v5 -> v6: : 0it [00:00, ?it/s]"
     ]
    },
    {
     "name": "stdout",
     "output_type": "stream",
     "text": [
      "\r",
      "Upgrading database; v5 -> v6: : 0it [00:00, ?it/s]"
     ]
    },
    {
     "name": "stdout",
     "output_type": "stream",
     "text": [
      "\n",
      "\r",
      "  0%|          | 0/1 [00:00<?, ?it/s]"
     ]
    },
    {
     "name": "stdout",
     "output_type": "stream",
     "text": [
      "\r",
      "Upgrading database; v6 -> v7:   0%|          | 0/1 [00:00<?, ?it/s]"
     ]
    },
    {
     "name": "stdout",
     "output_type": "stream",
     "text": [
      "\r",
      "Upgrading database; v6 -> v7: 100%|██████████| 1/1 [00:00<00:00, 458.59it/s]"
     ]
    },
    {
     "name": "stdout",
     "output_type": "stream",
     "text": [
      "\n",
      "\r",
      "  0%|          | 0/1 [00:00<?, ?it/s]"
     ]
    },
    {
     "name": "stdout",
     "output_type": "stream",
     "text": [
      "\r",
      "Upgrading database; v7 -> v8:   0%|          | 0/1 [00:00<?, ?it/s]"
     ]
    },
    {
     "name": "stdout",
     "output_type": "stream",
     "text": [
      "\r",
      "Upgrading database; v7 -> v8: 100%|██████████| 1/1 [00:00<00:00, 478.42it/s]"
     ]
    },
    {
     "name": "stdout",
     "output_type": "stream",
     "text": [
      "\n",
      "\r",
      "  0%|          | 0/1 [00:00<?, ?it/s]"
     ]
    },
    {
     "name": "stdout",
     "output_type": "stream",
     "text": [
      "\r",
      "Upgrading database; v8 -> v9:   0%|          | 0/1 [00:00<?, ?it/s]"
     ]
    },
    {
     "name": "stdout",
     "output_type": "stream",
     "text": [
      "\r",
      "Upgrading database; v8 -> v9: 100%|██████████| 1/1 [00:00<00:00, 1023.50it/s]"
     ]
    },
    {
     "name": "stdout",
     "output_type": "stream",
     "text": [
      "\n"
     ]
    }
   ],
   "source": [
    "initialise_database()\n",
    "exp = load_or_create_experiment(experiment_name='tutorial_exp', sample_name=\"no sample\")"
   ]
  },
  {
   "cell_type": "markdown",
   "metadata": {},
   "source": [
    "Here, we define a simple function to benchmark the time it takes to insert n points with either numeric or array data type.\n",
    "We will compare both the time used to call ``add_result`` and the time used for the full measurement."
   ]
  },
  {
   "cell_type": "code",
   "execution_count": 4,
   "metadata": {
    "execution": {
     "iopub.execute_input": "2020-12-14T16:20:11.306917Z",
     "iopub.status.busy": "2020-12-14T16:20:11.306384Z",
     "iopub.status.idle": "2020-12-14T16:20:11.309574Z",
     "shell.execute_reply": "2020-12-14T16:20:11.309083Z"
    }
   },
   "outputs": [],
   "source": [
    "def insert_data(paramtype, npoints, nreps=1):\n",
    "\n",
    "    meas = Measurement(exp=exp)\n",
    "\n",
    "    x1 = ManualParameter('x1')\n",
    "    x2 = ManualParameter('x2')\n",
    "    x3 = ManualParameter('x3')\n",
    "    y1 = ManualParameter('y1')\n",
    "    y2 = ManualParameter('y2')\n",
    "\n",
    "    meas.register_parameter(x1, paramtype=paramtype)\n",
    "    meas.register_parameter(x2, paramtype=paramtype)\n",
    "    meas.register_parameter(x3, paramtype=paramtype)\n",
    "    meas.register_parameter(y1, setpoints=[x1, x2, x3],\n",
    "                            paramtype=paramtype)\n",
    "    meas.register_parameter(y2, setpoints=[x1, x2, x3],\n",
    "                            paramtype=paramtype)\n",
    "    start = time.perf_counter()\n",
    "    with meas.run() as datasaver:\n",
    "        start_adding = time.perf_counter()\n",
    "        for i in range(nreps):\n",
    "            datasaver.add_result((x1, np.random.rand(npoints)),\n",
    "                                 (x2, np.random.rand(npoints)),\n",
    "                                 (x3, np.random.rand(npoints)),\n",
    "                                 (y1, np.random.rand(npoints)),\n",
    "                                 (y2, np.random.rand(npoints)))\n",
    "        stop_adding = time.perf_counter()\n",
    "        run_id = datasaver.run_id\n",
    "    stop = time.perf_counter()\n",
    "    tot_time = stop - start\n",
    "    add_time = stop_adding - start_adding\n",
    "    return tot_time, add_time, run_id"
   ]
  },
  {
   "cell_type": "markdown",
   "metadata": {},
   "source": [
    "## Comparison between numeric/array data and binary blob"
   ]
  },
  {
   "cell_type": "markdown",
   "metadata": {},
   "source": [
    "### Case1: Short experiment time"
   ]
  },
  {
   "cell_type": "code",
   "execution_count": 5,
   "metadata": {
    "execution": {
     "iopub.execute_input": "2020-12-14T16:20:11.316247Z",
     "iopub.status.busy": "2020-12-14T16:20:11.315341Z",
     "iopub.status.idle": "2020-12-14T16:20:12.066592Z",
     "shell.execute_reply": "2020-12-14T16:20:12.066063Z"
    }
   },
   "outputs": [
    {
     "name": "stdout",
     "output_type": "stream",
     "text": [
      "Starting experimental run with id: 1. \n",
      "Starting experimental run with id: 2. \n",
      "Starting experimental run with id: 3. \n",
      "Starting experimental run with id: 4. \n",
      "Starting experimental run with id: 5. \n",
      "Starting experimental run with id: 6. \n"
     ]
    },
    {
     "name": "stdout",
     "output_type": "stream",
     "text": [
      "Starting experimental run with id: 7. \n"
     ]
    },
    {
     "name": "stdout",
     "output_type": "stream",
     "text": [
      "Starting experimental run with id: 8. \n",
      "Starting experimental run with id: 9. \n",
      "Starting experimental run with id: 10. \n"
     ]
    },
    {
     "name": "stdout",
     "output_type": "stream",
     "text": [
      "Starting experimental run with id: 11. \n"
     ]
    },
    {
     "name": "stdout",
     "output_type": "stream",
     "text": [
      "Starting experimental run with id: 12. \n",
      "Starting experimental run with id: 13. \n"
     ]
    },
    {
     "name": "stdout",
     "output_type": "stream",
     "text": [
      "Starting experimental run with id: 14. \n"
     ]
    }
   ],
   "source": [
    "sizes = [1,500,1000,2000,3000,4000,5000]\n",
    "t_numeric = []\n",
    "t_numeric_add = []\n",
    "t_array = []\n",
    "t_array_add = []\n",
    "for size in sizes:\n",
    "    tn, tna, run_id_n =  insert_data('numeric', size)\n",
    "    t_numeric.append(tn)\n",
    "    t_numeric_add.append(tna)\n",
    "\n",
    "    ta, taa, run_id_a =  insert_data('array', size)\n",
    "    t_array.append(ta)\n",
    "    t_array_add.append(taa)"
   ]
  },
  {
   "cell_type": "code",
   "execution_count": 6,
   "metadata": {
    "execution": {
     "iopub.execute_input": "2020-12-14T16:20:12.104979Z",
     "iopub.status.busy": "2020-12-14T16:20:12.094339Z",
     "iopub.status.idle": "2020-12-14T16:20:12.247173Z",
     "shell.execute_reply": "2020-12-14T16:20:12.246695Z"
    }
   },
   "outputs": [
    {
     "data": {
      "image/png": "[encoded data removed]",
      "text/plain": [
       "<Figure size 432x288 with 1 Axes>"
      ]
     },
     "metadata": {
      "needs_background": "light"
     },
     "output_type": "display_data"
    }
   ],
   "source": [
    "fig, ax = plt.subplots(1,1)\n",
    "ax.plot(sizes, t_numeric, 'o-', label='Inserting row-by-row')\n",
    "ax.plot(sizes, t_numeric_add, 'o-', label='Inserting row-by-row: add_result only')\n",
    "ax.plot(sizes, t_array, 'd-', label='Inserting as binary blob')\n",
    "ax.plot(sizes, t_array_add, 'd-', label='Inserting as binary blob: add_result only')\n",
    "ax.legend()\n",
    "ax.set_xlabel('Array length')\n",
    "ax.set_ylabel('Time (s)')\n",
    "fig.tight_layout()"
   ]
  },
  {
   "cell_type": "markdown",
   "metadata": {},
   "source": [
    "As shown in the latter figure, the time to setup and and close the experiment is approximately 0.4 sec. In case of small array sizes, the difference between inserting values of data as arrays and inserting them row-by-row is relatively unimportant. At larger array sizes, i.e. above 10000 points, the cost of writing data as individual datapoints starts to become important.\n"
   ]
  },
  {
   "cell_type": "markdown",
   "metadata": {},
   "source": [
    "### Case2: Long experiment time "
   ]
  },
  {
   "cell_type": "code",
   "execution_count": 7,
   "metadata": {
    "execution": {
     "iopub.execute_input": "2020-12-14T16:20:12.253184Z",
     "iopub.status.busy": "2020-12-14T16:20:12.252720Z",
     "iopub.status.idle": "2020-12-14T16:21:05.661538Z",
     "shell.execute_reply": "2020-12-14T16:21:05.661025Z"
    }
   },
   "outputs": [
    {
     "name": "stdout",
     "output_type": "stream",
     "text": [
      "Starting experimental run with id: 15. \n",
      "Starting experimental run with id: 16. \n",
      "Starting experimental run with id: 17. \n"
     ]
    },
    {
     "name": "stdout",
     "output_type": "stream",
     "text": [
      "Starting experimental run with id: 18. \n",
      "Starting experimental run with id: 19. \n"
     ]
    },
    {
     "name": "stdout",
     "output_type": "stream",
     "text": [
      "Starting experimental run with id: 20. \n"
     ]
    },
    {
     "name": "stdout",
     "output_type": "stream",
     "text": [
      "Starting experimental run with id: 21. \n"
     ]
    },
    {
     "name": "stdout",
     "output_type": "stream",
     "text": [
      "Starting experimental run with id: 22. \n"
     ]
    },
    {
     "name": "stdout",
     "output_type": "stream",
     "text": [
      "Starting experimental run with id: 23. \n"
     ]
    },
    {
     "name": "stdout",
     "output_type": "stream",
     "text": [
      "Starting experimental run with id: 24. \n"
     ]
    },
    {
     "name": "stdout",
     "output_type": "stream",
     "text": [
      "Starting experimental run with id: 25. \n"
     ]
    },
    {
     "name": "stdout",
     "output_type": "stream",
     "text": [
      "Starting experimental run with id: 26. \n"
     ]
    },
    {
     "name": "stdout",
     "output_type": "stream",
     "text": [
      "Starting experimental run with id: 27. \n"
     ]
    },
    {
     "name": "stdout",
     "output_type": "stream",
     "text": [
      "Starting experimental run with id: 28. \n"
     ]
    }
   ],
   "source": [
    "sizes = [1,500,1000,2000,3000,4000,5000]\n",
    "nreps = 100\n",
    "t_numeric = []\n",
    "t_numeric_add = []\n",
    "t_numeric_run_ids = []\n",
    "t_array = []\n",
    "t_array_add = []\n",
    "t_array_run_ids = []\n",
    "for size in sizes:\n",
    "    tn, tna, run_id_n =  insert_data('numeric', size, nreps=nreps)\n",
    "    t_numeric.append(tn)\n",
    "    t_numeric_add.append(tna)\n",
    "    t_numeric_run_ids.append(run_id_n)\n",
    "\n",
    "    ta, taa, run_id_a =  insert_data('array', size, nreps=nreps)\n",
    "    t_array.append(ta)\n",
    "    t_array_add.append(taa)\n",
    "    t_array_run_ids.append(run_id_a)"
   ]
  },
  {
   "cell_type": "code",
   "execution_count": 8,
   "metadata": {
    "execution": {
     "iopub.execute_input": "2020-12-14T16:21:05.697701Z",
     "iopub.status.busy": "2020-12-14T16:21:05.667139Z",
     "iopub.status.idle": "2020-12-14T16:21:05.849207Z",
     "shell.execute_reply": "2020-12-14T16:21:05.849590Z"
    },
    "scrolled": true
   },
   "outputs": [
    {
     "data": {
      "image/png": "[encoded data removed]",
      "text/plain": [
       "<Figure size 432x288 with 1 Axes>"
      ]
     },
     "metadata": {
      "needs_background": "light"
     },
     "output_type": "display_data"
    }
   ],
   "source": [
    "fig, ax = plt.subplots(1,1)\n",
    "ax.plot(sizes, t_numeric, 'o-', label='Inserting row-by-row')\n",
    "ax.plot(sizes, t_numeric_add, 'o-', label='Inserting row-by-row: add_result only')\n",
    "ax.plot(sizes, t_array, 'd-', label='Inserting as binary blob')\n",
    "ax.plot(sizes, t_array_add, 'd-', label='Inserting as binary blob: add_result only')\n",
    "ax.legend()\n",
    "ax.set_xlabel('Array length')\n",
    "ax.set_ylabel('Time (s)')\n",
    "fig.tight_layout()"
   ]
  },
  {
   "cell_type": "markdown",
   "metadata": {},
   "source": [
    "However, as we increase the length of the experiment, as seen here by repeating the insertion 100 times, we see a big difference between inserting values of the data row-by-row and inserting it as a binary blob."
   ]
  },
  {
   "cell_type": "markdown",
   "metadata": {},
   "source": [
    "## Loading the data "
   ]
  },
  {
   "cell_type": "code",
   "execution_count": 9,
   "metadata": {
    "execution": {
     "iopub.execute_input": "2020-12-14T16:21:05.853736Z",
     "iopub.status.busy": "2020-12-14T16:21:05.852681Z",
     "iopub.status.idle": "2020-12-14T16:21:05.855367Z",
     "shell.execute_reply": "2020-12-14T16:21:05.855737Z"
    }
   },
   "outputs": [],
   "source": [
    "from qcodes.dataset.data_set import load_by_id\n",
    "from qcodes.dataset.data_export import get_data_by_id"
   ]
  },
  {
   "cell_type": "markdown",
   "metadata": {},
   "source": [
    "As usual you can load the data by using the ``load_by_id`` function but you will notice that the different storage methods\n",
    "are reflected in shape of the data as it is retrieved. "
   ]
  },
  {
   "cell_type": "code",
   "execution_count": 10,
   "metadata": {
    "execution": {
     "iopub.execute_input": "2020-12-14T16:21:05.859194Z",
     "iopub.status.busy": "2020-12-14T16:21:05.858682Z",
     "iopub.status.idle": "2020-12-14T16:21:05.861078Z",
     "shell.execute_reply": "2020-12-14T16:21:05.860588Z"
    }
   },
   "outputs": [],
   "source": [
    "run_id_n = t_numeric_run_ids[0]\n",
    "run_id_a = t_array_run_ids[0]"
   ]
  },
  {
   "cell_type": "code",
   "execution_count": 11,
   "metadata": {
    "execution": {
     "iopub.execute_input": "2020-12-14T16:21:05.864123Z",
     "iopub.status.busy": "2020-12-14T16:21:05.863673Z",
     "iopub.status.idle": "2020-12-14T16:21:05.872529Z",
     "shell.execute_reply": "2020-12-14T16:21:05.872895Z"
    },
    "scrolled": true
   },
   "outputs": [
    {
     "data": {
      "text/plain": [
       "{'x1': {'x1': array([0.81140501, 0.81140501, 0.41931101, 0.41931101, 0.01183785,\n",
       "         0.01183785, 0.69109983, 0.69109983, 0.16319731, 0.16319731,\n",
       "         0.83964681, 0.83964681, 0.89395154, 0.89395154, 0.91646292,\n",
       "         0.91646292, 0.89653071, 0.89653071, 0.95371915, 0.95371915,\n",
       "         0.63996115, 0.63996115, 0.6046901 , 0.6046901 , 0.92453533,\n",
       "         0.92453533, 0.69849934, 0.69849934, 0.06393136, 0.06393136,\n",
       "         0.18468481, 0.18468481, 0.82885284, 0.82885284, 0.2652334 ,\n",
       "         0.2652334 , 0.7599139 , 0.7599139 , 0.14210542, 0.14210542,\n",
       "         0.27287294, 0.27287294, 0.83076766, 0.83076766, 0.26331793,\n",
       "         0.26331793, 0.86376407, 0.86376407, 0.34273916, 0.34273916,\n",
       "         0.0094227 , 0.0094227 , 0.2093461 , 0.2093461 , 0.87373584,\n",
       "         0.87373584, 0.05739168, 0.05739168, 0.65850957, 0.65850957,\n",
       "         0.63786418, 0.63786418, 0.85074339, 0.85074339, 0.26464452,\n",
       "         0.26464452, 0.77736362, 0.77736362, 0.88333347, 0.88333347,\n",
       "         0.9667718 , 0.9667718 , 0.30614424, 0.30614424, 0.57998839,\n",
       "         0.57998839, 0.43209264, 0.43209264, 0.79949982, 0.79949982,\n",
       "         0.30552772, 0.30552772, 0.08941571, 0.08941571, 0.82729725,\n",
       "         0.82729725, 0.9993796 , 0.9993796 , 0.89157694, 0.89157694,\n",
       "         0.33218754, 0.33218754, 0.76507093, 0.76507093, 0.19499586,\n",
       "         0.19499586, 0.38263383, 0.38263383, 0.56657688, 0.56657688,\n",
       "         0.13141597, 0.13141597, 0.9090142 , 0.9090142 , 0.59235773,\n",
       "         0.59235773, 0.09958449, 0.09958449, 0.01475572, 0.01475572,\n",
       "         0.69558921, 0.69558921, 0.74453496, 0.74453496, 0.12596625,\n",
       "         0.12596625, 0.6180604 , 0.6180604 , 0.64234319, 0.64234319,\n",
       "         0.27456191, 0.27456191, 0.79622741, 0.79622741, 0.99405307,\n",
       "         0.99405307, 0.7531865 , 0.7531865 , 0.4426816 , 0.4426816 ,\n",
       "         0.45792939, 0.45792939, 0.79045167, 0.79045167, 0.95664271,\n",
       "         0.95664271, 0.56295699, 0.56295699, 0.8797686 , 0.8797686 ,\n",
       "         0.45775708, 0.45775708, 0.40547818, 0.40547818, 0.86926417,\n",
       "         0.86926417, 0.68690219, 0.68690219, 0.8485351 , 0.8485351 ,\n",
       "         0.4570539 , 0.4570539 , 0.24406522, 0.24406522, 0.07673476,\n",
       "         0.07673476, 0.01376403, 0.01376403, 0.27264988, 0.27264988,\n",
       "         0.78856356, 0.78856356, 0.66557661, 0.66557661, 0.39932401,\n",
       "         0.39932401, 0.45734907, 0.45734907, 0.74041194, 0.74041194,\n",
       "         0.76360507, 0.76360507, 0.03217758, 0.03217758, 0.46554832,\n",
       "         0.46554832, 0.74052214, 0.74052214, 0.05054651, 0.05054651,\n",
       "         0.82248986, 0.82248986, 0.9926851 , 0.9926851 , 0.72028398,\n",
       "         0.72028398, 0.28688296, 0.28688296, 0.24743748, 0.24743748,\n",
       "         0.26238602, 0.26238602, 0.88838358, 0.88838358, 0.49626577,\n",
       "         0.49626577, 0.29228994, 0.29228994, 0.97014398, 0.97014398])}}"
      ]
     },
     "execution_count": 1,
     "metadata": {},
     "output_type": "execute_result"
    }
   ],
   "source": [
    "ds = load_by_id(run_id_n)\n",
    "ds.get_parameter_data('x1')"
   ]
  },
  {
   "cell_type": "markdown",
   "metadata": {},
   "source": [
    "And a dataset stored as binary arrays"
   ]
  },
  {
   "cell_type": "code",
   "execution_count": 12,
   "metadata": {
    "execution": {
     "iopub.execute_input": "2020-12-14T16:21:05.876151Z",
     "iopub.status.busy": "2020-12-14T16:21:05.875688Z",
     "iopub.status.idle": "2020-12-14T16:21:05.923404Z",
     "shell.execute_reply": "2020-12-14T16:21:05.923975Z"
    },
    "scrolled": true
   },
   "outputs": [
    {
     "data": {
      "text/plain": [
       "{'x1': {'x1': array([[0.7605298 ],\n",
       "         [0.7605298 ],\n",
       "         [0.22531087],\n",
       "         [0.22531087],\n",
       "         [0.63463625],\n",
       "         [0.63463625],\n",
       "         [0.21304466],\n",
       "         [0.21304466],\n",
       "         [0.06367079],\n",
       "         [0.06367079],\n",
       "         [0.59028641],\n",
       "         [0.59028641],\n",
       "         [0.87738911],\n",
       "         [0.87738911],\n",
       "         [0.91744152],\n",
       "         [0.91744152],\n",
       "         [0.03885026],\n",
       "         [0.03885026],\n",
       "         [0.45499376],\n",
       "         [0.45499376],\n",
       "         [0.60273705],\n",
       "         [0.60273705],\n",
       "         [0.62284769],\n",
       "         [0.62284769],\n",
       "         [0.28664906],\n",
       "         [0.28664906],\n",
       "         [0.12546053],\n",
       "         [0.12546053],\n",
       "         [0.62547067],\n",
       "         [0.62547067],\n",
       "         [0.73416862],\n",
       "         [0.73416862],\n",
       "         [0.50797659],\n",
       "         [0.50797659],\n",
       "         [0.67774515],\n",
       "         [0.67774515],\n",
       "         [0.3345514 ],\n",
       "         [0.3345514 ],\n",
       "         [0.99752867],\n",
       "         [0.99752867],\n",
       "         [0.67278116],\n",
       "         [0.67278116],\n",
       "         [0.83704431],\n",
       "         [0.83704431],\n",
       "         [0.350708  ],\n",
       "         [0.350708  ],\n",
       "         [0.83345083],\n",
       "         [0.83345083],\n",
       "         [0.62538388],\n",
       "         [0.62538388],\n",
       "         [0.01137788],\n",
       "         [0.01137788],\n",
       "         [0.17757843],\n",
       "         [0.17757843],\n",
       "         [0.59115263],\n",
       "         [0.59115263],\n",
       "         [0.23417623],\n",
       "         [0.23417623],\n",
       "         [0.60217018],\n",
       "         [0.60217018],\n",
       "         [0.02518071],\n",
       "         [0.02518071],\n",
       "         [0.2270243 ],\n",
       "         [0.2270243 ],\n",
       "         [0.0843553 ],\n",
       "         [0.0843553 ],\n",
       "         [0.60213552],\n",
       "         [0.60213552],\n",
       "         [0.1544864 ],\n",
       "         [0.1544864 ],\n",
       "         [0.98359574],\n",
       "         [0.98359574],\n",
       "         [0.41646181],\n",
       "         [0.41646181],\n",
       "         [0.28490481],\n",
       "         [0.28490481],\n",
       "         [0.36281205],\n",
       "         [0.36281205],\n",
       "         [0.19113486],\n",
       "         [0.19113486],\n",
       "         [0.19954335],\n",
       "         [0.19954335],\n",
       "         [0.68845371],\n",
       "         [0.68845371],\n",
       "         [0.33666216],\n",
       "         [0.33666216],\n",
       "         [0.96912143],\n",
       "         [0.96912143],\n",
       "         [0.82745902],\n",
       "         [0.82745902],\n",
       "         [0.36530253],\n",
       "         [0.36530253],\n",
       "         [0.50493712],\n",
       "         [0.50493712],\n",
       "         [0.44575167],\n",
       "         [0.44575167],\n",
       "         [0.05709767],\n",
       "         [0.05709767],\n",
       "         [0.40690559],\n",
       "         [0.40690559],\n",
       "         [0.51011445],\n",
       "         [0.51011445],\n",
       "         [0.18840853],\n",
       "         [0.18840853],\n",
       "         [0.89980951],\n",
       "         [0.89980951],\n",
       "         [0.44270683],\n",
       "         [0.44270683],\n",
       "         [0.60155222],\n",
       "         [0.60155222],\n",
       "         [0.69992128],\n",
       "         [0.69992128],\n",
       "         [0.90255322],\n",
       "         [0.90255322],\n",
       "         [0.39592615],\n",
       "         [0.39592615],\n",
       "         [0.31305006],\n",
       "         [0.31305006],\n",
       "         [0.77231056],\n",
       "         [0.77231056],\n",
       "         [0.7031624 ],\n",
       "         [0.7031624 ],\n",
       "         [0.23239642],\n",
       "         [0.23239642],\n",
       "         [0.12052937],\n",
       "         [0.12052937],\n",
       "         [0.82678631],\n",
       "         [0.82678631],\n",
       "         [0.13905993],\n",
       "         [0.13905993],\n",
       "         [0.18372792],\n",
       "         [0.18372792],\n",
       "         [0.76249135],\n",
       "         [0.76249135],\n",
       "         [0.18741392],\n",
       "         [0.18741392],\n",
       "         [0.45187991],\n",
       "         [0.45187991],\n",
       "         [0.93332782],\n",
       "         [0.93332782],\n",
       "         [0.15959625],\n",
       "         [0.15959625],\n",
       "         [0.39031905],\n",
       "         [0.39031905],\n",
       "         [0.47739081],\n",
       "         [0.47739081],\n",
       "         [0.44345435],\n",
       "         [0.44345435],\n",
       "         [0.32553797],\n",
       "         [0.32553797],\n",
       "         [0.72836166],\n",
       "         [0.72836166],\n",
       "         [0.49871824],\n",
       "         [0.49871824],\n",
       "         [0.73445332],\n",
       "         [0.73445332],\n",
       "         [0.54969375],\n",
       "         [0.54969375],\n",
       "         [0.4015283 ],\n",
       "         [0.4015283 ],\n",
       "         [0.92129887],\n",
       "         [0.92129887],\n",
       "         [0.37908337],\n",
       "         [0.37908337],\n",
       "         [0.66984444],\n",
       "         [0.66984444],\n",
       "         [0.46841571],\n",
       "         [0.46841571],\n",
       "         [0.87391846],\n",
       "         [0.87391846],\n",
       "         [0.78271546],\n",
       "         [0.78271546],\n",
       "         [0.0122415 ],\n",
       "         [0.0122415 ],\n",
       "         [0.62615118],\n",
       "         [0.62615118],\n",
       "         [0.0254887 ],\n",
       "         [0.0254887 ],\n",
       "         [0.89763367],\n",
       "         [0.89763367],\n",
       "         [0.95978758],\n",
       "         [0.95978758],\n",
       "         [0.16137753],\n",
       "         [0.16137753],\n",
       "         [0.22155188],\n",
       "         [0.22155188],\n",
       "         [0.60144389],\n",
       "         [0.60144389],\n",
       "         [0.89427023],\n",
       "         [0.89427023],\n",
       "         [0.57866564],\n",
       "         [0.57866564],\n",
       "         [0.37547366],\n",
       "         [0.37547366],\n",
       "         [0.66107937],\n",
       "         [0.66107937],\n",
       "         [0.97528823],\n",
       "         [0.97528823],\n",
       "         [0.66113676],\n",
       "         [0.66113676]])}}"
      ]
     },
     "execution_count": 1,
     "metadata": {},
     "output_type": "execute_result"
    }
   ],
   "source": [
    "ds = load_by_id(run_id_a)\n",
    "ds.get_parameter_data('x1')"
   ]
  },
  {
   "cell_type": "code",
   "execution_count": null,
   "metadata": {},
   "outputs": [],
   "source": []
  }
 ],
 "metadata": {
  "kernelspec": {
   "display_name": "Python 3",
   "language": "python",
   "name": "python3"
  },
  "language_info": {
   "codemirror_mode": {
    "name": "ipython",
    "version": 3
   },
   "file_extension": ".py",
   "mimetype": "text/x-python",
   "name": "python",
   "nbconvert_exporter": "python",
   "pygments_lexer": "ipython3",
   "version": "3.7.9"
  },
  "nbsphinx": {
   "timeout": 600
  },
  "toc": {
   "base_numbering": 1,
   "nav_menu": {},
   "number_sections": true,
   "sideBar": true,
   "skip_h1_title": false,
   "title_cell": "Table of Contents",
   "title_sidebar": "Contents",
   "toc_cell": false,
   "toc_position": {},
   "toc_section_display": true,
   "toc_window_display": false
  },
  "varInspector": {
   "cols": {
    "lenName": 16,
    "lenType": 16,
    "lenVar": 40
   },
   "kernels_config": {
    "python": {
     "delete_cmd_postfix": "",
     "delete_cmd_prefix": "del ",
     "library": "var_list.py",
     "varRefreshCmd": "print(var_dic_list())"
    },
    "r": {
     "delete_cmd_postfix": ") ",
     "delete_cmd_prefix": "rm(",
     "library": "var_list.r",
     "varRefreshCmd": "cat(var_dic_list()) "
    }
   },
   "types_to_exclude": [
    "module",
    "function",
    "builtin_function_or_method",
    "instance",
    "_Feature"
   ],
   "window_display": false
  }
 },
 "nbformat": 4,
 "nbformat_minor": 2
}
