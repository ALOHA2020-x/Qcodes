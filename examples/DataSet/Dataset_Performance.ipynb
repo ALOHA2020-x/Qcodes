{
 "cells": [
  {
   "cell_type": "markdown",
   "metadata": {},
   "source": [
    "# DataSet Performance\n",
    "\n",
    "This notebook shows the trade-off between inserting data into a database row-by-row and as binary blobs. Inserting the data row-by-row means that we have direct access to all the data and may perform queries directly on the values of the data. On the other hand, as we shall see, this is much slower than inserting the data directly as binary blobs."
   ]
  },
  {
   "cell_type": "markdown",
   "metadata": {},
   "source": [
    "First, we choose a new location for the database to ensure that we don't add a bunch of benchmarking data to the default one."
   ]
  },
  {
   "cell_type": "code",
   "execution_count": 1,
   "metadata": {
    "execution": {
     "iopub.execute_input": "2021-03-05T11:27:04.184949Z",
     "iopub.status.busy": "2021-03-05T11:27:04.184373Z",
     "iopub.status.idle": "2021-03-05T11:27:05.049532Z",
     "shell.execute_reply": "2021-03-05T11:27:05.048482Z"
    }
   },
   "outputs": [
    {
     "name": "stdout",
     "output_type": "stream",
     "text": [
      "Logging hadn't been started.\n",
      "Activating auto-logging. Current session state plus future input saved.\n",
      "Filename       : /home/runner/.qcodes/logs/command_history.log\n",
      "Mode           : append\n",
      "Output logging : True\n",
      "Raw input log  : False\n",
      "Timestamping   : True\n",
      "State          : active\n"
     ]
    },
    {
     "name": "stdout",
     "output_type": "stream",
     "text": [
      "Qcodes Logfile : /home/runner/.qcodes/logs/210305-4053-qcodes.log\n"
     ]
    }
   ],
   "source": [
    "import os\n",
    "cwd = os.getcwd()\n",
    "import qcodes as qc\n",
    "qc.config[\"core\"][\"db_location\"] = os.path.join(cwd, 'testing.db')\n"
   ]
  },
  {
   "cell_type": "code",
   "execution_count": 2,
   "metadata": {
    "execution": {
     "iopub.execute_input": "2021-03-05T11:27:05.056750Z",
     "iopub.status.busy": "2021-03-05T11:27:05.055744Z",
     "iopub.status.idle": "2021-03-05T11:27:05.251303Z",
     "shell.execute_reply": "2021-03-05T11:27:05.252100Z"
    }
   },
   "outputs": [],
   "source": [
    "%matplotlib inline\n",
    "import time\n",
    "import matplotlib.pyplot as plt\n",
    "import numpy as np\n",
    "\n",
    "import qcodes as qc\n",
    "from qcodes.instrument.parameter import ManualParameter\n",
    "from qcodes.dataset.experiment_container import (Experiment,\n",
    "                                                 load_last_experiment,\n",
    "                                                 new_experiment)\n",
    "from qcodes.dataset.sqlite.database import initialise_database\n",
    "from qcodes import load_or_create_experiment\n",
    "from qcodes.dataset.measurements import Measurement"
   ]
  },
  {
   "cell_type": "code",
   "execution_count": 3,
   "metadata": {
    "execution": {
     "iopub.execute_input": "2021-03-05T11:27:05.256741Z",
     "iopub.status.busy": "2021-03-05T11:27:05.256073Z",
     "iopub.status.idle": "2021-03-05T11:27:05.676352Z",
     "shell.execute_reply": "2021-03-05T11:27:05.675868Z"
    }
   },
   "outputs": [
    {
     "name": "stdout",
     "output_type": "stream",
     "text": [
      "\r",
      "0it [00:00, ?it/s]"
     ]
    },
    {
     "name": "stdout",
     "output_type": "stream",
     "text": [
      "\r",
      "Upgrading database; v0 -> v1: : 0it [00:00, ?it/s]"
     ]
    },
    {
     "name": "stdout",
     "output_type": "stream",
     "text": [
      "\r",
      "Upgrading database; v0 -> v1: : 0it [00:00, ?it/s]"
     ]
    },
    {
     "name": "stdout",
     "output_type": "stream",
     "text": [
      "\n",
      "\r",
      "  0%|          | 0/1 [00:00<?, ?it/s]"
     ]
    },
    {
     "name": "stdout",
     "output_type": "stream",
     "text": [
      "\r",
      "Upgrading database; v1 -> v2:   0%|          | 0/1 [00:00<?, ?it/s]"
     ]
    },
    {
     "name": "stdout",
     "output_type": "stream",
     "text": [
      "\r",
      "Upgrading database; v1 -> v2: 100%|██████████| 1/1 [00:00<00:00, 911.61it/s]"
     ]
    },
    {
     "name": "stdout",
     "output_type": "stream",
     "text": [
      "\n",
      "\r",
      "0it [00:00, ?it/s]"
     ]
    },
    {
     "name": "stdout",
     "output_type": "stream",
     "text": [
      "\r",
      "Upgrading database; v2 -> v3: : 0it [00:00, ?it/s]"
     ]
    },
    {
     "name": "stdout",
     "output_type": "stream",
     "text": [
      "\r",
      "Upgrading database; v2 -> v3: : 0it [00:00, ?it/s]"
     ]
    },
    {
     "name": "stdout",
     "output_type": "stream",
     "text": [
      "\n",
      "\r",
      "0it [00:00, ?it/s]"
     ]
    },
    {
     "name": "stdout",
     "output_type": "stream",
     "text": [
      "\r",
      "Upgrading database; v3 -> v4: : 0it [00:00, ?it/s]"
     ]
    },
    {
     "name": "stdout",
     "output_type": "stream",
     "text": [
      "\r",
      "Upgrading database; v3 -> v4: : 0it [00:00, ?it/s]"
     ]
    },
    {
     "name": "stdout",
     "output_type": "stream",
     "text": [
      "\n",
      "\r",
      "  0%|          | 0/1 [00:00<?, ?it/s]"
     ]
    },
    {
     "name": "stdout",
     "output_type": "stream",
     "text": [
      "\r",
      "Upgrading database; v4 -> v5:   0%|          | 0/1 [00:00<?, ?it/s]"
     ]
    },
    {
     "name": "stdout",
     "output_type": "stream",
     "text": [
      "\r",
      "Upgrading database; v4 -> v5: 100%|██████████| 1/1 [00:00<00:00, 855.11it/s]"
     ]
    },
    {
     "name": "stdout",
     "output_type": "stream",
     "text": [
      "\n",
      "\r",
      "0it [00:00, ?it/s]"
     ]
    },
    {
     "name": "stdout",
     "output_type": "stream",
     "text": [
      "\r",
      "Upgrading database; v5 -> v6: : 0it [00:00, ?it/s]"
     ]
    },
    {
     "name": "stdout",
     "output_type": "stream",
     "text": [
      "\r",
      "Upgrading database; v5 -> v6: : 0it [00:00, ?it/s]"
     ]
    },
    {
     "name": "stdout",
     "output_type": "stream",
     "text": [
      "\n",
      "\r",
      "  0%|          | 0/1 [00:00<?, ?it/s]"
     ]
    },
    {
     "name": "stdout",
     "output_type": "stream",
     "text": [
      "\r",
      "Upgrading database; v6 -> v7:   0%|          | 0/1 [00:00<?, ?it/s]"
     ]
    },
    {
     "name": "stdout",
     "output_type": "stream",
     "text": [
      "\r",
      "Upgrading database; v6 -> v7: 100%|██████████| 1/1 [00:00<00:00, 67.97it/s]"
     ]
    },
    {
     "name": "stdout",
     "output_type": "stream",
     "text": [
      "\n"
     ]
    },
    {
     "name": "stdout",
     "output_type": "stream",
     "text": [
      "\r",
      "  0%|          | 0/1 [00:00<?, ?it/s]"
     ]
    },
    {
     "name": "stdout",
     "output_type": "stream",
     "text": [
      "\r",
      "Upgrading database; v7 -> v8:   0%|          | 0/1 [00:00<?, ?it/s]"
     ]
    },
    {
     "name": "stdout",
     "output_type": "stream",
     "text": [
      "\r",
      "Upgrading database; v7 -> v8: 100%|██████████| 1/1 [00:00<00:00, 958.26it/s]"
     ]
    },
    {
     "name": "stdout",
     "output_type": "stream",
     "text": [
      "\n",
      "\r",
      "  0%|          | 0/1 [00:00<?, ?it/s]"
     ]
    },
    {
     "name": "stdout",
     "output_type": "stream",
     "text": [
      "\r",
      "Upgrading database; v8 -> v9:   0%|          | 0/1 [00:00<?, ?it/s]"
     ]
    },
    {
     "name": "stdout",
     "output_type": "stream",
     "text": [
      "\r",
      "Upgrading database; v8 -> v9: 100%|██████████| 1/1 [00:00<00:00, 1084.92it/s]"
     ]
    },
    {
     "name": "stdout",
     "output_type": "stream",
     "text": [
      "\n"
     ]
    }
   ],
   "source": [
    "initialise_database()\n",
    "exp = load_or_create_experiment(experiment_name='tutorial_exp', sample_name=\"no sample\")"
   ]
  },
  {
   "cell_type": "markdown",
   "metadata": {},
   "source": [
    "Here, we define a simple function to benchmark the time it takes to insert n points with either numeric or array data type.\n",
    "We will compare both the time used to call ``add_result`` and the time used for the full measurement."
   ]
  },
  {
   "cell_type": "code",
   "execution_count": 4,
   "metadata": {
    "execution": {
     "iopub.execute_input": "2021-03-05T11:27:05.686029Z",
     "iopub.status.busy": "2021-03-05T11:27:05.684901Z",
     "iopub.status.idle": "2021-03-05T11:27:05.688847Z",
     "shell.execute_reply": "2021-03-05T11:27:05.688411Z"
    }
   },
   "outputs": [],
   "source": [
    "def insert_data(paramtype, npoints, nreps=1):\n",
    "\n",
    "    meas = Measurement(exp=exp)\n",
    "\n",
    "    x1 = ManualParameter('x1')\n",
    "    x2 = ManualParameter('x2')\n",
    "    x3 = ManualParameter('x3')\n",
    "    y1 = ManualParameter('y1')\n",
    "    y2 = ManualParameter('y2')\n",
    "\n",
    "    meas.register_parameter(x1, paramtype=paramtype)\n",
    "    meas.register_parameter(x2, paramtype=paramtype)\n",
    "    meas.register_parameter(x3, paramtype=paramtype)\n",
    "    meas.register_parameter(y1, setpoints=[x1, x2, x3],\n",
    "                            paramtype=paramtype)\n",
    "    meas.register_parameter(y2, setpoints=[x1, x2, x3],\n",
    "                            paramtype=paramtype)\n",
    "    start = time.perf_counter()\n",
    "    with meas.run() as datasaver:\n",
    "        start_adding = time.perf_counter()\n",
    "        for i in range(nreps):\n",
    "            datasaver.add_result((x1, np.random.rand(npoints)),\n",
    "                                 (x2, np.random.rand(npoints)),\n",
    "                                 (x3, np.random.rand(npoints)),\n",
    "                                 (y1, np.random.rand(npoints)),\n",
    "                                 (y2, np.random.rand(npoints)))\n",
    "        stop_adding = time.perf_counter()\n",
    "        run_id = datasaver.run_id\n",
    "    stop = time.perf_counter()\n",
    "    tot_time = stop - start\n",
    "    add_time = stop_adding - start_adding\n",
    "    return tot_time, add_time, run_id"
   ]
  },
  {
   "cell_type": "markdown",
   "metadata": {},
   "source": [
    "## Comparison between numeric/array data and binary blob"
   ]
  },
  {
   "cell_type": "markdown",
   "metadata": {},
   "source": [
    "### Case1: Short experiment time"
   ]
  },
  {
   "cell_type": "code",
   "execution_count": 5,
   "metadata": {
    "execution": {
     "iopub.execute_input": "2021-03-05T11:27:05.695380Z",
     "iopub.status.busy": "2021-03-05T11:27:05.694827Z",
     "iopub.status.idle": "2021-03-05T11:27:07.423884Z",
     "shell.execute_reply": "2021-03-05T11:27:07.423026Z"
    }
   },
   "outputs": [
    {
     "name": "stdout",
     "output_type": "stream",
     "text": [
      "Starting experimental run with id: 1. \n"
     ]
    },
    {
     "name": "stdout",
     "output_type": "stream",
     "text": [
      "Starting experimental run with id: 2. \n",
      "Starting experimental run with id: 3. \n"
     ]
    },
    {
     "name": "stdout",
     "output_type": "stream",
     "text": [
      "Starting experimental run with id: 4. \n"
     ]
    },
    {
     "name": "stdout",
     "output_type": "stream",
     "text": [
      "Starting experimental run with id: 5. \n",
      "Starting experimental run with id: 6. \n"
     ]
    },
    {
     "name": "stdout",
     "output_type": "stream",
     "text": [
      "Starting experimental run with id: 7. \n",
      "Starting experimental run with id: 8. \n"
     ]
    },
    {
     "name": "stdout",
     "output_type": "stream",
     "text": [
      "Starting experimental run with id: 9. \n",
      "Starting experimental run with id: 10. \n"
     ]
    },
    {
     "name": "stdout",
     "output_type": "stream",
     "text": [
      "Starting experimental run with id: 11. \n"
     ]
    },
    {
     "name": "stdout",
     "output_type": "stream",
     "text": [
      "Starting experimental run with id: 12. \n",
      "Starting experimental run with id: 13. \n"
     ]
    },
    {
     "name": "stdout",
     "output_type": "stream",
     "text": [
      "Starting experimental run with id: 14. \n"
     ]
    }
   ],
   "source": [
    "sizes = [1,500,1000,2000,3000,4000,5000]\n",
    "t_numeric = []\n",
    "t_numeric_add = []\n",
    "t_array = []\n",
    "t_array_add = []\n",
    "for size in sizes:\n",
    "    tn, tna, run_id_n =  insert_data('numeric', size)\n",
    "    t_numeric.append(tn)\n",
    "    t_numeric_add.append(tna)\n",
    "\n",
    "    ta, taa, run_id_a =  insert_data('array', size)\n",
    "    t_array.append(ta)\n",
    "    t_array_add.append(taa)"
   ]
  },
  {
   "cell_type": "code",
   "execution_count": 6,
   "metadata": {
    "execution": {
     "iopub.execute_input": "2021-03-05T11:27:07.467464Z",
     "iopub.status.busy": "2021-03-05T11:27:07.440777Z",
     "iopub.status.idle": "2021-03-05T11:27:07.629218Z",
     "shell.execute_reply": "2021-03-05T11:27:07.630063Z"
    }
   },
   "outputs": [
    {
     "data": {
      "image/png": "[encoded data removed]",
      "text/plain": [
       "<Figure size 432x288 with 1 Axes>"
      ]
     },
     "metadata": {
      "needs_background": "light"
     },
     "output_type": "display_data"
    }
   ],
   "source": [
    "fig, ax = plt.subplots(1,1)\n",
    "ax.plot(sizes, t_numeric, 'o-', label='Inserting row-by-row')\n",
    "ax.plot(sizes, t_numeric_add, 'o-', label='Inserting row-by-row: add_result only')\n",
    "ax.plot(sizes, t_array, 'd-', label='Inserting as binary blob')\n",
    "ax.plot(sizes, t_array_add, 'd-', label='Inserting as binary blob: add_result only')\n",
    "ax.legend()\n",
    "ax.set_xlabel('Array length')\n",
    "ax.set_ylabel('Time (s)')\n",
    "fig.tight_layout()"
   ]
  },
  {
   "cell_type": "markdown",
   "metadata": {},
   "source": [
    "As shown in the latter figure, the time to setup and and close the experiment is approximately 0.4 sec. In case of small array sizes, the difference between inserting values of data as arrays and inserting them row-by-row is relatively unimportant. At larger array sizes, i.e. above 10000 points, the cost of writing data as individual datapoints starts to become important.\n"
   ]
  },
  {
   "cell_type": "markdown",
   "metadata": {},
   "source": [
    "### Case2: Long experiment time "
   ]
  },
  {
   "cell_type": "code",
   "execution_count": 7,
   "metadata": {
    "execution": {
     "iopub.execute_input": "2021-03-05T11:27:07.637486Z",
     "iopub.status.busy": "2021-03-05T11:27:07.636898Z",
     "iopub.status.idle": "2021-03-05T11:28:09.374443Z",
     "shell.execute_reply": "2021-03-05T11:28:09.373342Z"
    }
   },
   "outputs": [
    {
     "name": "stdout",
     "output_type": "stream",
     "text": [
      "Starting experimental run with id: 15. \n",
      "Starting experimental run with id: 16. \n"
     ]
    },
    {
     "name": "stdout",
     "output_type": "stream",
     "text": [
      "Starting experimental run with id: 17. \n"
     ]
    },
    {
     "name": "stdout",
     "output_type": "stream",
     "text": [
      "Starting experimental run with id: 18. \n"
     ]
    },
    {
     "name": "stdout",
     "output_type": "stream",
     "text": [
      "Starting experimental run with id: 19. \n"
     ]
    },
    {
     "name": "stdout",
     "output_type": "stream",
     "text": [
      "Starting experimental run with id: 20. \n"
     ]
    },
    {
     "name": "stdout",
     "output_type": "stream",
     "text": [
      "Starting experimental run with id: 21. \n"
     ]
    },
    {
     "name": "stdout",
     "output_type": "stream",
     "text": [
      "Starting experimental run with id: 22. \n"
     ]
    },
    {
     "name": "stdout",
     "output_type": "stream",
     "text": [
      "Starting experimental run with id: 23. \n"
     ]
    },
    {
     "name": "stdout",
     "output_type": "stream",
     "text": [
      "Starting experimental run with id: 24. \n"
     ]
    },
    {
     "name": "stdout",
     "output_type": "stream",
     "text": [
      "Starting experimental run with id: 25. \n"
     ]
    },
    {
     "name": "stdout",
     "output_type": "stream",
     "text": [
      "Starting experimental run with id: 26. \n"
     ]
    },
    {
     "name": "stdout",
     "output_type": "stream",
     "text": [
      "Starting experimental run with id: 27. \n"
     ]
    },
    {
     "name": "stdout",
     "output_type": "stream",
     "text": [
      "Starting experimental run with id: 28. \n"
     ]
    }
   ],
   "source": [
    "sizes = [1,500,1000,2000,3000,4000,5000]\n",
    "nreps = 100\n",
    "t_numeric = []\n",
    "t_numeric_add = []\n",
    "t_numeric_run_ids = []\n",
    "t_array = []\n",
    "t_array_add = []\n",
    "t_array_run_ids = []\n",
    "for size in sizes:\n",
    "    tn, tna, run_id_n =  insert_data('numeric', size, nreps=nreps)\n",
    "    t_numeric.append(tn)\n",
    "    t_numeric_add.append(tna)\n",
    "    t_numeric_run_ids.append(run_id_n)\n",
    "\n",
    "    ta, taa, run_id_a =  insert_data('array', size, nreps=nreps)\n",
    "    t_array.append(ta)\n",
    "    t_array_add.append(taa)\n",
    "    t_array_run_ids.append(run_id_a)"
   ]
  },
  {
   "cell_type": "code",
   "execution_count": 8,
   "metadata": {
    "execution": {
     "iopub.execute_input": "2021-03-05T11:28:09.414989Z",
     "iopub.status.busy": "2021-03-05T11:28:09.390916Z",
     "iopub.status.idle": "2021-03-05T11:28:09.576961Z",
     "shell.execute_reply": "2021-03-05T11:28:09.576432Z"
    },
    "scrolled": true
   },
   "outputs": [
    {
     "data": {
      "image/png": "[encoded data removed]",
      "text/plain": [
       "<Figure size 432x288 with 1 Axes>"
      ]
     },
     "metadata": {
      "needs_background": "light"
     },
     "output_type": "display_data"
    }
   ],
   "source": [
    "fig, ax = plt.subplots(1,1)\n",
    "ax.plot(sizes, t_numeric, 'o-', label='Inserting row-by-row')\n",
    "ax.plot(sizes, t_numeric_add, 'o-', label='Inserting row-by-row: add_result only')\n",
    "ax.plot(sizes, t_array, 'd-', label='Inserting as binary blob')\n",
    "ax.plot(sizes, t_array_add, 'd-', label='Inserting as binary blob: add_result only')\n",
    "ax.legend()\n",
    "ax.set_xlabel('Array length')\n",
    "ax.set_ylabel('Time (s)')\n",
    "fig.tight_layout()"
   ]
  },
  {
   "cell_type": "markdown",
   "metadata": {},
   "source": [
    "However, as we increase the length of the experiment, as seen here by repeating the insertion 100 times, we see a big difference between inserting values of the data row-by-row and inserting it as a binary blob."
   ]
  },
  {
   "cell_type": "markdown",
   "metadata": {},
   "source": [
    "## Loading the data "
   ]
  },
  {
   "cell_type": "code",
   "execution_count": 9,
   "metadata": {
    "execution": {
     "iopub.execute_input": "2021-03-05T11:28:09.581396Z",
     "iopub.status.busy": "2021-03-05T11:28:09.580681Z",
     "iopub.status.idle": "2021-03-05T11:28:09.584570Z",
     "shell.execute_reply": "2021-03-05T11:28:09.584076Z"
    }
   },
   "outputs": [],
   "source": [
    "from qcodes.dataset.data_set import load_by_id\n",
    "from qcodes.dataset.data_export import get_data_by_id"
   ]
  },
  {
   "cell_type": "markdown",
   "metadata": {},
   "source": [
    "As usual you can load the data by using the ``load_by_id`` function but you will notice that the different storage methods\n",
    "are reflected in shape of the data as it is retrieved. "
   ]
  },
  {
   "cell_type": "code",
   "execution_count": 10,
   "metadata": {
    "execution": {
     "iopub.execute_input": "2021-03-05T11:28:09.589796Z",
     "iopub.status.busy": "2021-03-05T11:28:09.588523Z",
     "iopub.status.idle": "2021-03-05T11:28:09.590437Z",
     "shell.execute_reply": "2021-03-05T11:28:09.590899Z"
    }
   },
   "outputs": [],
   "source": [
    "run_id_n = t_numeric_run_ids[0]\n",
    "run_id_a = t_array_run_ids[0]"
   ]
  },
  {
   "cell_type": "code",
   "execution_count": 11,
   "metadata": {
    "execution": {
     "iopub.execute_input": "2021-03-05T11:28:09.594367Z",
     "iopub.status.busy": "2021-03-05T11:28:09.593815Z",
     "iopub.status.idle": "2021-03-05T11:28:09.603570Z",
     "shell.execute_reply": "2021-03-05T11:28:09.603081Z"
    },
    "scrolled": true
   },
   "outputs": [
    {
     "data": {
      "text/plain": [
       "{'x1': {'x1': array([0.77879467, 0.77879467, 0.88017205, 0.88017205, 0.50206904,\n",
       "         0.50206904, 0.84721507, 0.84721507, 0.48656258, 0.48656258,\n",
       "         0.64107778, 0.64107778, 0.52960318, 0.52960318, 0.25895863,\n",
       "         0.25895863, 0.54969263, 0.54969263, 0.84975309, 0.84975309,\n",
       "         0.96894174, 0.96894174, 0.99893169, 0.99893169, 0.83929904,\n",
       "         0.83929904, 0.89914583, 0.89914583, 0.08592617, 0.08592617,\n",
       "         0.83128332, 0.83128332, 0.97463648, 0.97463648, 0.36263782,\n",
       "         0.36263782, 0.32742415, 0.32742415, 0.90492421, 0.90492421,\n",
       "         0.34676955, 0.34676955, 0.04788204, 0.04788204, 0.27615064,\n",
       "         0.27615064, 0.91915043, 0.91915043, 0.20646881, 0.20646881,\n",
       "         0.15857106, 0.15857106, 0.07322853, 0.07322853, 0.83720575,\n",
       "         0.83720575, 0.266931  , 0.266931  , 0.97774259, 0.97774259,\n",
       "         0.46629044, 0.46629044, 0.53603549, 0.53603549, 0.66298711,\n",
       "         0.66298711, 0.61920352, 0.61920352, 0.3262901 , 0.3262901 ,\n",
       "         0.12779838, 0.12779838, 0.18739309, 0.18739309, 0.42488575,\n",
       "         0.42488575, 0.90082099, 0.90082099, 0.54689646, 0.54689646,\n",
       "         0.87661821, 0.87661821, 0.38866636, 0.38866636, 0.94660345,\n",
       "         0.94660345, 0.42500532, 0.42500532, 0.97572208, 0.97572208,\n",
       "         0.69280285, 0.69280285, 0.96288623, 0.96288623, 0.60141016,\n",
       "         0.60141016, 0.45924339, 0.45924339, 0.21818441, 0.21818441,\n",
       "         0.91008609, 0.91008609, 0.90536503, 0.90536503, 0.30639347,\n",
       "         0.30639347, 0.51820459, 0.51820459, 0.85955181, 0.85955181,\n",
       "         0.1070759 , 0.1070759 , 0.70026532, 0.70026532, 0.23271859,\n",
       "         0.23271859, 0.69692203, 0.69692203, 0.76564789, 0.76564789,\n",
       "         0.36457312, 0.36457312, 0.11778593, 0.11778593, 0.54548985,\n",
       "         0.54548985, 0.87266416, 0.87266416, 0.05757529, 0.05757529,\n",
       "         0.91063836, 0.91063836, 0.42419276, 0.42419276, 0.5258156 ,\n",
       "         0.5258156 , 0.28075383, 0.28075383, 0.5105065 , 0.5105065 ,\n",
       "         0.76780203, 0.76780203, 0.86607368, 0.86607368, 0.03102021,\n",
       "         0.03102021, 0.68354173, 0.68354173, 0.45538606, 0.45538606,\n",
       "         0.21041901, 0.21041901, 0.47547383, 0.47547383, 0.74742737,\n",
       "         0.74742737, 0.60292417, 0.60292417, 0.24421759, 0.24421759,\n",
       "         0.39910428, 0.39910428, 0.54571172, 0.54571172, 0.95684272,\n",
       "         0.95684272, 0.94532842, 0.94532842, 0.59402124, 0.59402124,\n",
       "         0.05382364, 0.05382364, 0.34832858, 0.34832858, 0.24768626,\n",
       "         0.24768626, 0.30659296, 0.30659296, 0.43967151, 0.43967151,\n",
       "         0.55005305, 0.55005305, 0.75774823, 0.75774823, 0.23975882,\n",
       "         0.23975882, 0.51127128, 0.51127128, 0.24608235, 0.24608235,\n",
       "         0.53696927, 0.53696927, 0.50706217, 0.50706217, 0.46267001,\n",
       "         0.46267001, 0.91053244, 0.91053244, 0.70082962, 0.70082962])}}"
      ]
     },
     "execution_count": 1,
     "metadata": {},
     "output_type": "execute_result"
    }
   ],
   "source": [
    "ds = load_by_id(run_id_n)\n",
    "ds.get_parameter_data('x1')"
   ]
  },
  {
   "cell_type": "markdown",
   "metadata": {},
   "source": [
    "And a dataset stored as binary arrays"
   ]
  },
  {
   "cell_type": "code",
   "execution_count": 12,
   "metadata": {
    "execution": {
     "iopub.execute_input": "2021-03-05T11:28:09.607000Z",
     "iopub.status.busy": "2021-03-05T11:28:09.606489Z",
     "iopub.status.idle": "2021-03-05T11:28:09.663868Z",
     "shell.execute_reply": "2021-03-05T11:28:09.666020Z"
    },
    "scrolled": true
   },
   "outputs": [
    {
     "data": {
      "text/plain": [
       "{'x1': {'x1': array([[0.00515117],\n",
       "         [0.00515117],\n",
       "         [0.74191169],\n",
       "         [0.74191169],\n",
       "         [0.87710633],\n",
       "         [0.87710633],\n",
       "         [0.16383502],\n",
       "         [0.16383502],\n",
       "         [0.26731613],\n",
       "         [0.26731613],\n",
       "         [0.45715386],\n",
       "         [0.45715386],\n",
       "         [0.27899835],\n",
       "         [0.27899835],\n",
       "         [0.85998552],\n",
       "         [0.85998552],\n",
       "         [0.69831224],\n",
       "         [0.69831224],\n",
       "         [0.18629313],\n",
       "         [0.18629313],\n",
       "         [0.45549549],\n",
       "         [0.45549549],\n",
       "         [0.5791273 ],\n",
       "         [0.5791273 ],\n",
       "         [0.59958431],\n",
       "         [0.59958431],\n",
       "         [0.20449663],\n",
       "         [0.20449663],\n",
       "         [0.09656659],\n",
       "         [0.09656659],\n",
       "         [0.46820464],\n",
       "         [0.46820464],\n",
       "         [0.21689172],\n",
       "         [0.21689172],\n",
       "         [0.75099941],\n",
       "         [0.75099941],\n",
       "         [0.73283679],\n",
       "         [0.73283679],\n",
       "         [0.81246908],\n",
       "         [0.81246908],\n",
       "         [0.45599882],\n",
       "         [0.45599882],\n",
       "         [0.95114135],\n",
       "         [0.95114135],\n",
       "         [0.15329403],\n",
       "         [0.15329403],\n",
       "         [0.36068884],\n",
       "         [0.36068884],\n",
       "         [0.33206071],\n",
       "         [0.33206071],\n",
       "         [0.37302239],\n",
       "         [0.37302239],\n",
       "         [0.88550338],\n",
       "         [0.88550338],\n",
       "         [0.61506331],\n",
       "         [0.61506331],\n",
       "         [0.04630182],\n",
       "         [0.04630182],\n",
       "         [0.22424436],\n",
       "         [0.22424436],\n",
       "         [0.41055263],\n",
       "         [0.41055263],\n",
       "         [0.59623431],\n",
       "         [0.59623431],\n",
       "         [0.65389253],\n",
       "         [0.65389253],\n",
       "         [0.35334549],\n",
       "         [0.35334549],\n",
       "         [0.76029418],\n",
       "         [0.76029418],\n",
       "         [0.66621719],\n",
       "         [0.66621719],\n",
       "         [0.76853705],\n",
       "         [0.76853705],\n",
       "         [0.95451235],\n",
       "         [0.95451235],\n",
       "         [0.1929586 ],\n",
       "         [0.1929586 ],\n",
       "         [0.45213507],\n",
       "         [0.45213507],\n",
       "         [0.66427051],\n",
       "         [0.66427051],\n",
       "         [0.2005061 ],\n",
       "         [0.2005061 ],\n",
       "         [0.04699894],\n",
       "         [0.04699894],\n",
       "         [0.11958681],\n",
       "         [0.11958681],\n",
       "         [0.91118232],\n",
       "         [0.91118232],\n",
       "         [0.30556827],\n",
       "         [0.30556827],\n",
       "         [0.54918558],\n",
       "         [0.54918558],\n",
       "         [0.18161561],\n",
       "         [0.18161561],\n",
       "         [0.18877515],\n",
       "         [0.18877515],\n",
       "         [0.94088206],\n",
       "         [0.94088206],\n",
       "         [0.28986318],\n",
       "         [0.28986318],\n",
       "         [0.63855046],\n",
       "         [0.63855046],\n",
       "         [0.94116779],\n",
       "         [0.94116779],\n",
       "         [0.61576607],\n",
       "         [0.61576607],\n",
       "         [0.92628808],\n",
       "         [0.92628808],\n",
       "         [0.08758401],\n",
       "         [0.08758401],\n",
       "         [0.38806092],\n",
       "         [0.38806092],\n",
       "         [0.61385129],\n",
       "         [0.61385129],\n",
       "         [0.43147187],\n",
       "         [0.43147187],\n",
       "         [0.33750022],\n",
       "         [0.33750022],\n",
       "         [0.13986248],\n",
       "         [0.13986248],\n",
       "         [0.00510095],\n",
       "         [0.00510095],\n",
       "         [0.20504659],\n",
       "         [0.20504659],\n",
       "         [0.74288556],\n",
       "         [0.74288556],\n",
       "         [0.67934231],\n",
       "         [0.67934231],\n",
       "         [0.4536412 ],\n",
       "         [0.4536412 ],\n",
       "         [0.62326316],\n",
       "         [0.62326316],\n",
       "         [0.96010484],\n",
       "         [0.96010484],\n",
       "         [0.21686029],\n",
       "         [0.21686029],\n",
       "         [0.11254665],\n",
       "         [0.11254665],\n",
       "         [0.12812017],\n",
       "         [0.12812017],\n",
       "         [0.52324906],\n",
       "         [0.52324906],\n",
       "         [0.55286771],\n",
       "         [0.55286771],\n",
       "         [0.44253375],\n",
       "         [0.44253375],\n",
       "         [0.9598713 ],\n",
       "         [0.9598713 ],\n",
       "         [0.34596453],\n",
       "         [0.34596453],\n",
       "         [0.4852345 ],\n",
       "         [0.4852345 ],\n",
       "         [0.28624168],\n",
       "         [0.28624168],\n",
       "         [0.19577071],\n",
       "         [0.19577071],\n",
       "         [0.32574434],\n",
       "         [0.32574434],\n",
       "         [0.60051429],\n",
       "         [0.60051429],\n",
       "         [0.24939771],\n",
       "         [0.24939771],\n",
       "         [0.37159607],\n",
       "         [0.37159607],\n",
       "         [0.43278604],\n",
       "         [0.43278604],\n",
       "         [0.03965718],\n",
       "         [0.03965718],\n",
       "         [0.3725517 ],\n",
       "         [0.3725517 ],\n",
       "         [0.1464517 ],\n",
       "         [0.1464517 ],\n",
       "         [0.85984469],\n",
       "         [0.85984469],\n",
       "         [0.35068928],\n",
       "         [0.35068928],\n",
       "         [0.80925511],\n",
       "         [0.80925511],\n",
       "         [0.37795947],\n",
       "         [0.37795947],\n",
       "         [0.57137121],\n",
       "         [0.57137121],\n",
       "         [0.22152878],\n",
       "         [0.22152878],\n",
       "         [0.82120207],\n",
       "         [0.82120207],\n",
       "         [0.40291532],\n",
       "         [0.40291532],\n",
       "         [0.22700952],\n",
       "         [0.22700952],\n",
       "         [0.48509496],\n",
       "         [0.48509496],\n",
       "         [0.95486212],\n",
       "         [0.95486212],\n",
       "         [0.75790019],\n",
       "         [0.75790019],\n",
       "         [0.22763954],\n",
       "         [0.22763954]])}}"
      ]
     },
     "execution_count": 1,
     "metadata": {},
     "output_type": "execute_result"
    }
   ],
   "source": [
    "ds = load_by_id(run_id_a)\n",
    "ds.get_parameter_data('x1')"
   ]
  },
  {
   "cell_type": "code",
   "execution_count": null,
   "metadata": {},
   "outputs": [],
   "source": []
  }
 ],
 "metadata": {
  "kernelspec": {
   "display_name": "Python 3",
   "language": "python",
   "name": "python3"
  },
  "language_info": {
   "codemirror_mode": {
    "name": "ipython",
    "version": 3
   },
   "file_extension": ".py",
   "mimetype": "text/x-python",
   "name": "python",
   "nbconvert_exporter": "python",
   "pygments_lexer": "ipython3",
   "version": "3.7.10"
  },
  "nbsphinx": {
   "timeout": 600
  },
  "toc": {
   "base_numbering": 1,
   "nav_menu": {},
   "number_sections": true,
   "sideBar": true,
   "skip_h1_title": false,
   "title_cell": "Table of Contents",
   "title_sidebar": "Contents",
   "toc_cell": false,
   "toc_position": {},
   "toc_section_display": true,
   "toc_window_display": false
  },
  "varInspector": {
   "cols": {
    "lenName": 16,
    "lenType": 16,
    "lenVar": 40
   },
   "kernels_config": {
    "python": {
     "delete_cmd_postfix": "",
     "delete_cmd_prefix": "del ",
     "library": "var_list.py",
     "varRefreshCmd": "print(var_dic_list())"
    },
    "r": {
     "delete_cmd_postfix": ") ",
     "delete_cmd_prefix": "rm(",
     "library": "var_list.r",
     "varRefreshCmd": "cat(var_dic_list()) "
    }
   },
   "types_to_exclude": [
    "module",
    "function",
    "builtin_function_or_method",
    "instance",
    "_Feature"
   ],
   "window_display": false
  }
 },
 "nbformat": 4,
 "nbformat_minor": 2
}
