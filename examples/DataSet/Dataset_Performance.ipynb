{
 "cells": [
  {
   "cell_type": "markdown",
   "metadata": {},
   "source": [
    "# DataSet Performance\n",
    "\n",
    "This notebook shows the trade-off between inserting data into a database row-by-row and as binary blobs. Inserting the data row-by-row means that we have direct access to all the data and may perform queries directly on the values of the data. On the other hand, as we shall see, this is much slower than inserting the data directly as binary blobs."
   ]
  },
  {
   "cell_type": "markdown",
   "metadata": {},
   "source": [
    "First, we choose a new location for the database to ensure that we don't add a bunch of benchmarking data to the default one."
   ]
  },
  {
   "cell_type": "code",
   "execution_count": 1,
   "metadata": {
    "execution": {
     "iopub.execute_input": "2020-12-15T08:01:13.306859Z",
     "iopub.status.busy": "2020-12-15T08:01:13.306368Z",
     "iopub.status.idle": "2020-12-15T08:01:14.314901Z",
     "shell.execute_reply": "2020-12-15T08:01:14.314265Z"
    }
   },
   "outputs": [
    {
     "name": "stdout",
     "output_type": "stream",
     "text": [
      "Logging hadn't been started.\n",
      "Activating auto-logging. Current session state plus future input saved.\n",
      "Filename       : /home/vsts/.qcodes/logs/command_history.log\n",
      "Mode           : append\n",
      "Output logging : True\n",
      "Raw input log  : False\n",
      "Timestamping   : True\n",
      "State          : active\n"
     ]
    },
    {
     "name": "stdout",
     "output_type": "stream",
     "text": [
      "Qcodes Logfile : /home/vsts/.qcodes/logs/201215-14401-qcodes.log\n"
     ]
    }
   ],
   "source": [
    "import os\n",
    "cwd = os.getcwd()\n",
    "import qcodes as qc\n",
    "qc.config[\"core\"][\"db_location\"] = os.path.join(cwd, 'testing.db')\n"
   ]
  },
  {
   "cell_type": "code",
   "execution_count": 2,
   "metadata": {
    "execution": {
     "iopub.execute_input": "2020-12-15T08:01:14.320892Z",
     "iopub.status.busy": "2020-12-15T08:01:14.320075Z",
     "iopub.status.idle": "2020-12-15T08:01:14.495705Z",
     "shell.execute_reply": "2020-12-15T08:01:14.494637Z"
    }
   },
   "outputs": [],
   "source": [
    "%matplotlib inline\n",
    "import time\n",
    "import matplotlib.pyplot as plt\n",
    "import numpy as np\n",
    "\n",
    "import qcodes as qc\n",
    "from qcodes.instrument.parameter import ManualParameter\n",
    "from qcodes.dataset.experiment_container import (Experiment,\n",
    "                                                 load_last_experiment,\n",
    "                                                 new_experiment)\n",
    "from qcodes.dataset.sqlite.database import initialise_database\n",
    "from qcodes import load_or_create_experiment\n",
    "from qcodes.dataset.measurements import Measurement"
   ]
  },
  {
   "cell_type": "code",
   "execution_count": 3,
   "metadata": {
    "execution": {
     "iopub.execute_input": "2020-12-15T08:01:14.499217Z",
     "iopub.status.busy": "2020-12-15T08:01:14.498686Z",
     "iopub.status.idle": "2020-12-15T08:01:14.590251Z",
     "shell.execute_reply": "2020-12-15T08:01:14.589696Z"
    }
   },
   "outputs": [
    {
     "name": "stdout",
     "output_type": "stream",
     "text": [
      "\r",
      "0it [00:00, ?it/s]"
     ]
    },
    {
     "name": "stdout",
     "output_type": "stream",
     "text": [
      "\r",
      "Upgrading database; v0 -> v1: : 0it [00:00, ?it/s]"
     ]
    },
    {
     "name": "stdout",
     "output_type": "stream",
     "text": [
      "\r",
      "Upgrading database; v0 -> v1: : 0it [00:00, ?it/s]"
     ]
    },
    {
     "name": "stdout",
     "output_type": "stream",
     "text": [
      "\n",
      "\r",
      "  0%|          | 0/1 [00:00<?, ?it/s]"
     ]
    },
    {
     "name": "stdout",
     "output_type": "stream",
     "text": [
      "\r",
      "Upgrading database; v1 -> v2:   0%|          | 0/1 [00:00<?, ?it/s]"
     ]
    },
    {
     "name": "stdout",
     "output_type": "stream",
     "text": [
      "\r",
      "Upgrading database; v1 -> v2: 100%|██████████| 1/1 [00:00<00:00, 872.54it/s]"
     ]
    },
    {
     "name": "stdout",
     "output_type": "stream",
     "text": [
      "\n",
      "\r",
      "0it [00:00, ?it/s]"
     ]
    },
    {
     "name": "stdout",
     "output_type": "stream",
     "text": [
      "\r",
      "Upgrading database; v2 -> v3: : 0it [00:00, ?it/s]"
     ]
    },
    {
     "name": "stdout",
     "output_type": "stream",
     "text": [
      "\r",
      "Upgrading database; v2 -> v3: : 0it [00:00, ?it/s]"
     ]
    },
    {
     "name": "stdout",
     "output_type": "stream",
     "text": [
      "\n",
      "\r",
      "0it [00:00, ?it/s]"
     ]
    },
    {
     "name": "stdout",
     "output_type": "stream",
     "text": [
      "\r",
      "Upgrading database; v3 -> v4: : 0it [00:00, ?it/s]"
     ]
    },
    {
     "name": "stdout",
     "output_type": "stream",
     "text": [
      "\r",
      "Upgrading database; v3 -> v4: : 0it [00:00, ?it/s]"
     ]
    },
    {
     "name": "stdout",
     "output_type": "stream",
     "text": [
      "\n",
      "\r",
      "  0%|          | 0/1 [00:00<?, ?it/s]"
     ]
    },
    {
     "name": "stdout",
     "output_type": "stream",
     "text": [
      "\r",
      "Upgrading database; v4 -> v5:   0%|          | 0/1 [00:00<?, ?it/s]"
     ]
    },
    {
     "name": "stdout",
     "output_type": "stream",
     "text": [
      "\r",
      "Upgrading database; v4 -> v5: 100%|██████████| 1/1 [00:00<00:00, 486.69it/s]"
     ]
    },
    {
     "name": "stdout",
     "output_type": "stream",
     "text": [
      "\n",
      "\r",
      "0it [00:00, ?it/s]"
     ]
    },
    {
     "name": "stdout",
     "output_type": "stream",
     "text": [
      "\r",
      "Upgrading database; v5 -> v6: : 0it [00:00, ?it/s]"
     ]
    },
    {
     "name": "stdout",
     "output_type": "stream",
     "text": [
      "\r",
      "Upgrading database; v5 -> v6: : 0it [00:00, ?it/s]"
     ]
    },
    {
     "name": "stdout",
     "output_type": "stream",
     "text": [
      "\n",
      "\r",
      "  0%|          | 0/1 [00:00<?, ?it/s]"
     ]
    },
    {
     "name": "stdout",
     "output_type": "stream",
     "text": [
      "\r",
      "Upgrading database; v6 -> v7:   0%|          | 0/1 [00:00<?, ?it/s]"
     ]
    },
    {
     "name": "stdout",
     "output_type": "stream",
     "text": [
      "\r",
      "Upgrading database; v6 -> v7: 100%|██████████| 1/1 [00:00<00:00, 529.58it/s]"
     ]
    },
    {
     "name": "stdout",
     "output_type": "stream",
     "text": [
      "\n",
      "\r",
      "  0%|          | 0/1 [00:00<?, ?it/s]"
     ]
    },
    {
     "name": "stdout",
     "output_type": "stream",
     "text": [
      "\r",
      "Upgrading database; v7 -> v8:   0%|          | 0/1 [00:00<?, ?it/s]"
     ]
    },
    {
     "name": "stdout",
     "output_type": "stream",
     "text": [
      "\r",
      "Upgrading database; v7 -> v8: 100%|██████████| 1/1 [00:00<00:00, 1211.53it/s]"
     ]
    },
    {
     "name": "stdout",
     "output_type": "stream",
     "text": [
      "\n",
      "\r",
      "  0%|          | 0/1 [00:00<?, ?it/s]"
     ]
    },
    {
     "name": "stdout",
     "output_type": "stream",
     "text": [
      "\r",
      "Upgrading database; v8 -> v9:   0%|          | 0/1 [00:00<?, ?it/s]"
     ]
    },
    {
     "name": "stdout",
     "output_type": "stream",
     "text": [
      "\r",
      "Upgrading database; v8 -> v9: 100%|██████████| 1/1 [00:00<00:00, 689.97it/s]"
     ]
    },
    {
     "name": "stdout",
     "output_type": "stream",
     "text": [
      "\n"
     ]
    }
   ],
   "source": [
    "initialise_database()\n",
    "exp = load_or_create_experiment(experiment_name='tutorial_exp', sample_name=\"no sample\")"
   ]
  },
  {
   "cell_type": "markdown",
   "metadata": {},
   "source": [
    "Here, we define a simple function to benchmark the time it takes to insert n points with either numeric or array data type.\n",
    "We will compare both the time used to call ``add_result`` and the time used for the full measurement."
   ]
  },
  {
   "cell_type": "code",
   "execution_count": 4,
   "metadata": {
    "execution": {
     "iopub.execute_input": "2020-12-15T08:01:14.598736Z",
     "iopub.status.busy": "2020-12-15T08:01:14.597724Z",
     "iopub.status.idle": "2020-12-15T08:01:14.599305Z",
     "shell.execute_reply": "2020-12-15T08:01:14.599801Z"
    }
   },
   "outputs": [],
   "source": [
    "def insert_data(paramtype, npoints, nreps=1):\n",
    "\n",
    "    meas = Measurement(exp=exp)\n",
    "\n",
    "    x1 = ManualParameter('x1')\n",
    "    x2 = ManualParameter('x2')\n",
    "    x3 = ManualParameter('x3')\n",
    "    y1 = ManualParameter('y1')\n",
    "    y2 = ManualParameter('y2')\n",
    "\n",
    "    meas.register_parameter(x1, paramtype=paramtype)\n",
    "    meas.register_parameter(x2, paramtype=paramtype)\n",
    "    meas.register_parameter(x3, paramtype=paramtype)\n",
    "    meas.register_parameter(y1, setpoints=[x1, x2, x3],\n",
    "                            paramtype=paramtype)\n",
    "    meas.register_parameter(y2, setpoints=[x1, x2, x3],\n",
    "                            paramtype=paramtype)\n",
    "    start = time.perf_counter()\n",
    "    with meas.run() as datasaver:\n",
    "        start_adding = time.perf_counter()\n",
    "        for i in range(nreps):\n",
    "            datasaver.add_result((x1, np.random.rand(npoints)),\n",
    "                                 (x2, np.random.rand(npoints)),\n",
    "                                 (x3, np.random.rand(npoints)),\n",
    "                                 (y1, np.random.rand(npoints)),\n",
    "                                 (y2, np.random.rand(npoints)))\n",
    "        stop_adding = time.perf_counter()\n",
    "        run_id = datasaver.run_id\n",
    "    stop = time.perf_counter()\n",
    "    tot_time = stop - start\n",
    "    add_time = stop_adding - start_adding\n",
    "    return tot_time, add_time, run_id"
   ]
  },
  {
   "cell_type": "markdown",
   "metadata": {},
   "source": [
    "## Comparison between numeric/array data and binary blob"
   ]
  },
  {
   "cell_type": "markdown",
   "metadata": {},
   "source": [
    "### Case1: Short experiment time"
   ]
  },
  {
   "cell_type": "code",
   "execution_count": 5,
   "metadata": {
    "execution": {
     "iopub.execute_input": "2020-12-15T08:01:14.605371Z",
     "iopub.status.busy": "2020-12-15T08:01:14.604215Z",
     "iopub.status.idle": "2020-12-15T08:01:15.345533Z",
     "shell.execute_reply": "2020-12-15T08:01:15.345046Z"
    }
   },
   "outputs": [
    {
     "name": "stdout",
     "output_type": "stream",
     "text": [
      "Starting experimental run with id: 1. \n",
      "Starting experimental run with id: 2. \n",
      "Starting experimental run with id: 3. \n",
      "Starting experimental run with id: 4. \n",
      "Starting experimental run with id: 5. \n",
      "Starting experimental run with id: 6. \n"
     ]
    },
    {
     "name": "stdout",
     "output_type": "stream",
     "text": [
      "Starting experimental run with id: 7. \n"
     ]
    },
    {
     "name": "stdout",
     "output_type": "stream",
     "text": [
      "Starting experimental run with id: 8. \n",
      "Starting experimental run with id: 9. \n"
     ]
    },
    {
     "name": "stdout",
     "output_type": "stream",
     "text": [
      "Starting experimental run with id: 10. \n",
      "Starting experimental run with id: 11. \n"
     ]
    },
    {
     "name": "stdout",
     "output_type": "stream",
     "text": [
      "Starting experimental run with id: 12. \n",
      "Starting experimental run with id: 13. \n"
     ]
    },
    {
     "name": "stdout",
     "output_type": "stream",
     "text": [
      "Starting experimental run with id: 14. \n"
     ]
    }
   ],
   "source": [
    "sizes = [1,500,1000,2000,3000,4000,5000]\n",
    "t_numeric = []\n",
    "t_numeric_add = []\n",
    "t_array = []\n",
    "t_array_add = []\n",
    "for size in sizes:\n",
    "    tn, tna, run_id_n =  insert_data('numeric', size)\n",
    "    t_numeric.append(tn)\n",
    "    t_numeric_add.append(tna)\n",
    "\n",
    "    ta, taa, run_id_a =  insert_data('array', size)\n",
    "    t_array.append(ta)\n",
    "    t_array_add.append(taa)"
   ]
  },
  {
   "cell_type": "code",
   "execution_count": 6,
   "metadata": {
    "execution": {
     "iopub.execute_input": "2020-12-15T08:01:15.370398Z",
     "iopub.status.busy": "2020-12-15T08:01:15.369840Z",
     "iopub.status.idle": "2020-12-15T08:01:15.532645Z",
     "shell.execute_reply": "2020-12-15T08:01:15.533210Z"
    }
   },
   "outputs": [
    {
     "data": {
      "image/png": "[encoded data removed]",
      "text/plain": [
       "<Figure size 432x288 with 1 Axes>"
      ]
     },
     "metadata": {
      "needs_background": "light"
     },
     "output_type": "display_data"
    }
   ],
   "source": [
    "fig, ax = plt.subplots(1,1)\n",
    "ax.plot(sizes, t_numeric, 'o-', label='Inserting row-by-row')\n",
    "ax.plot(sizes, t_numeric_add, 'o-', label='Inserting row-by-row: add_result only')\n",
    "ax.plot(sizes, t_array, 'd-', label='Inserting as binary blob')\n",
    "ax.plot(sizes, t_array_add, 'd-', label='Inserting as binary blob: add_result only')\n",
    "ax.legend()\n",
    "ax.set_xlabel('Array length')\n",
    "ax.set_ylabel('Time (s)')\n",
    "fig.tight_layout()"
   ]
  },
  {
   "cell_type": "markdown",
   "metadata": {},
   "source": [
    "As shown in the latter figure, the time to setup and and close the experiment is approximately 0.4 sec. In case of small array sizes, the difference between inserting values of data as arrays and inserting them row-by-row is relatively unimportant. At larger array sizes, i.e. above 10000 points, the cost of writing data as individual datapoints starts to become important.\n"
   ]
  },
  {
   "cell_type": "markdown",
   "metadata": {},
   "source": [
    "### Case2: Long experiment time "
   ]
  },
  {
   "cell_type": "code",
   "execution_count": 7,
   "metadata": {
    "execution": {
     "iopub.execute_input": "2020-12-15T08:01:15.539801Z",
     "iopub.status.busy": "2020-12-15T08:01:15.539271Z",
     "iopub.status.idle": "2020-12-15T08:02:12.875757Z",
     "shell.execute_reply": "2020-12-15T08:02:12.876371Z"
    }
   },
   "outputs": [
    {
     "name": "stdout",
     "output_type": "stream",
     "text": [
      "Starting experimental run with id: 15. \n",
      "Starting experimental run with id: 16. \n",
      "Starting experimental run with id: 17. \n"
     ]
    },
    {
     "name": "stdout",
     "output_type": "stream",
     "text": [
      "Starting experimental run with id: 18. \n",
      "Starting experimental run with id: 19. \n"
     ]
    },
    {
     "name": "stdout",
     "output_type": "stream",
     "text": [
      "Starting experimental run with id: 20. \n"
     ]
    },
    {
     "name": "stdout",
     "output_type": "stream",
     "text": [
      "Starting experimental run with id: 21. \n"
     ]
    },
    {
     "name": "stdout",
     "output_type": "stream",
     "text": [
      "Starting experimental run with id: 22. \n"
     ]
    },
    {
     "name": "stdout",
     "output_type": "stream",
     "text": [
      "Starting experimental run with id: 23. \n"
     ]
    },
    {
     "name": "stdout",
     "output_type": "stream",
     "text": [
      "Starting experimental run with id: 24. \n"
     ]
    },
    {
     "name": "stdout",
     "output_type": "stream",
     "text": [
      "Starting experimental run with id: 25. \n"
     ]
    },
    {
     "name": "stdout",
     "output_type": "stream",
     "text": [
      "Starting experimental run with id: 26. \n"
     ]
    },
    {
     "name": "stdout",
     "output_type": "stream",
     "text": [
      "Starting experimental run with id: 27. \n"
     ]
    },
    {
     "name": "stdout",
     "output_type": "stream",
     "text": [
      "Starting experimental run with id: 28. \n"
     ]
    }
   ],
   "source": [
    "sizes = [1,500,1000,2000,3000,4000,5000]\n",
    "nreps = 100\n",
    "t_numeric = []\n",
    "t_numeric_add = []\n",
    "t_numeric_run_ids = []\n",
    "t_array = []\n",
    "t_array_add = []\n",
    "t_array_run_ids = []\n",
    "for size in sizes:\n",
    "    tn, tna, run_id_n =  insert_data('numeric', size, nreps=nreps)\n",
    "    t_numeric.append(tn)\n",
    "    t_numeric_add.append(tna)\n",
    "    t_numeric_run_ids.append(run_id_n)\n",
    "\n",
    "    ta, taa, run_id_a =  insert_data('array', size, nreps=nreps)\n",
    "    t_array.append(ta)\n",
    "    t_array_add.append(taa)\n",
    "    t_array_run_ids.append(run_id_a)"
   ]
  },
  {
   "cell_type": "code",
   "execution_count": 8,
   "metadata": {
    "execution": {
     "iopub.execute_input": "2020-12-15T08:02:12.903563Z",
     "iopub.status.busy": "2020-12-15T08:02:12.891472Z",
     "iopub.status.idle": "2020-12-15T08:02:13.062306Z",
     "shell.execute_reply": "2020-12-15T08:02:13.062814Z"
    },
    "scrolled": true
   },
   "outputs": [
    {
     "data": {
      "image/png": "[encoded data removed]",
      "text/plain": [
       "<Figure size 432x288 with 1 Axes>"
      ]
     },
     "metadata": {
      "needs_background": "light"
     },
     "output_type": "display_data"
    }
   ],
   "source": [
    "fig, ax = plt.subplots(1,1)\n",
    "ax.plot(sizes, t_numeric, 'o-', label='Inserting row-by-row')\n",
    "ax.plot(sizes, t_numeric_add, 'o-', label='Inserting row-by-row: add_result only')\n",
    "ax.plot(sizes, t_array, 'd-', label='Inserting as binary blob')\n",
    "ax.plot(sizes, t_array_add, 'd-', label='Inserting as binary blob: add_result only')\n",
    "ax.legend()\n",
    "ax.set_xlabel('Array length')\n",
    "ax.set_ylabel('Time (s)')\n",
    "fig.tight_layout()"
   ]
  },
  {
   "cell_type": "markdown",
   "metadata": {},
   "source": [
    "However, as we increase the length of the experiment, as seen here by repeating the insertion 100 times, we see a big difference between inserting values of the data row-by-row and inserting it as a binary blob."
   ]
  },
  {
   "cell_type": "markdown",
   "metadata": {},
   "source": [
    "## Loading the data "
   ]
  },
  {
   "cell_type": "code",
   "execution_count": 9,
   "metadata": {
    "execution": {
     "iopub.execute_input": "2020-12-15T08:02:13.065407Z",
     "iopub.status.busy": "2020-12-15T08:02:13.064648Z",
     "iopub.status.idle": "2020-12-15T08:02:13.067749Z",
     "shell.execute_reply": "2020-12-15T08:02:13.068244Z"
    }
   },
   "outputs": [],
   "source": [
    "from qcodes.dataset.data_set import load_by_id\n",
    "from qcodes.dataset.data_export import get_data_by_id"
   ]
  },
  {
   "cell_type": "markdown",
   "metadata": {},
   "source": [
    "As usual you can load the data by using the ``load_by_id`` function but you will notice that the different storage methods\n",
    "are reflected in shape of the data as it is retrieved. "
   ]
  },
  {
   "cell_type": "code",
   "execution_count": 10,
   "metadata": {
    "execution": {
     "iopub.execute_input": "2020-12-15T08:02:13.070410Z",
     "iopub.status.busy": "2020-12-15T08:02:13.069936Z",
     "iopub.status.idle": "2020-12-15T08:02:13.072474Z",
     "shell.execute_reply": "2020-12-15T08:02:13.073011Z"
    }
   },
   "outputs": [],
   "source": [
    "run_id_n = t_numeric_run_ids[0]\n",
    "run_id_a = t_array_run_ids[0]"
   ]
  },
  {
   "cell_type": "code",
   "execution_count": 11,
   "metadata": {
    "execution": {
     "iopub.execute_input": "2020-12-15T08:02:13.075981Z",
     "iopub.status.busy": "2020-12-15T08:02:13.075505Z",
     "iopub.status.idle": "2020-12-15T08:02:13.084037Z",
     "shell.execute_reply": "2020-12-15T08:02:13.083612Z"
    },
    "scrolled": true
   },
   "outputs": [
    {
     "data": {
      "text/plain": [
       "{'x1': {'x1': array([0.2393774 , 0.2393774 , 0.56701104, 0.56701104, 0.59342264,\n",
       "         0.59342264, 0.87922582, 0.87922582, 0.32158906, 0.32158906,\n",
       "         0.48978932, 0.48978932, 0.70194926, 0.70194926, 0.31957151,\n",
       "         0.31957151, 0.17723141, 0.17723141, 0.83263715, 0.83263715,\n",
       "         0.24748571, 0.24748571, 0.34557573, 0.34557573, 0.51656501,\n",
       "         0.51656501, 0.41396819, 0.41396819, 0.6209615 , 0.6209615 ,\n",
       "         0.72810864, 0.72810864, 0.98810347, 0.98810347, 0.0711318 ,\n",
       "         0.0711318 , 0.33001353, 0.33001353, 0.80790208, 0.80790208,\n",
       "         0.89436918, 0.89436918, 0.11587623, 0.11587623, 0.81384208,\n",
       "         0.81384208, 0.00623732, 0.00623732, 0.26155018, 0.26155018,\n",
       "         0.4303847 , 0.4303847 , 0.8387648 , 0.8387648 , 0.54519242,\n",
       "         0.54519242, 0.25823333, 0.25823333, 0.83307991, 0.83307991,\n",
       "         0.40836145, 0.40836145, 0.95349445, 0.95349445, 0.97008976,\n",
       "         0.97008976, 0.19766736, 0.19766736, 0.36992769, 0.36992769,\n",
       "         0.03420997, 0.03420997, 0.05238563, 0.05238563, 0.97591715,\n",
       "         0.97591715, 0.11134716, 0.11134716, 0.79321416, 0.79321416,\n",
       "         0.58657905, 0.58657905, 0.34827828, 0.34827828, 0.04210126,\n",
       "         0.04210126, 0.86079542, 0.86079542, 0.52820319, 0.52820319,\n",
       "         0.74967766, 0.74967766, 0.27521799, 0.27521799, 0.50064425,\n",
       "         0.50064425, 0.710168  , 0.710168  , 0.419718  , 0.419718  ,\n",
       "         0.21156496, 0.21156496, 0.76227043, 0.76227043, 0.63633024,\n",
       "         0.63633024, 0.25224983, 0.25224983, 0.34637083, 0.34637083,\n",
       "         0.43458284, 0.43458284, 0.60452126, 0.60452126, 0.56277387,\n",
       "         0.56277387, 0.96558007, 0.96558007, 0.94178717, 0.94178717,\n",
       "         0.12569426, 0.12569426, 0.2643799 , 0.2643799 , 0.98414012,\n",
       "         0.98414012, 0.88055666, 0.88055666, 0.74016461, 0.74016461,\n",
       "         0.72154009, 0.72154009, 0.29016894, 0.29016894, 0.29612617,\n",
       "         0.29612617, 0.30226113, 0.30226113, 0.26086158, 0.26086158,\n",
       "         0.14846573, 0.14846573, 0.57419989, 0.57419989, 0.07308845,\n",
       "         0.07308845, 0.13993212, 0.13993212, 0.83095886, 0.83095886,\n",
       "         0.15802485, 0.15802485, 0.15338011, 0.15338011, 0.52119328,\n",
       "         0.52119328, 0.92398513, 0.92398513, 0.47374796, 0.47374796,\n",
       "         0.57343722, 0.57343722, 0.9953863 , 0.9953863 , 0.32539459,\n",
       "         0.32539459, 0.60513106, 0.60513106, 0.92765045, 0.92765045,\n",
       "         0.36055054, 0.36055054, 0.45400881, 0.45400881, 0.83613664,\n",
       "         0.83613664, 0.9115499 , 0.9115499 , 0.43871834, 0.43871834,\n",
       "         0.92552297, 0.92552297, 0.13549937, 0.13549937, 0.48090585,\n",
       "         0.48090585, 0.94812888, 0.94812888, 0.09445451, 0.09445451,\n",
       "         0.63207411, 0.63207411, 0.15532892, 0.15532892, 0.61683014,\n",
       "         0.61683014, 0.87502439, 0.87502439, 0.01199754, 0.01199754])}}"
      ]
     },
     "execution_count": 1,
     "metadata": {},
     "output_type": "execute_result"
    }
   ],
   "source": [
    "ds = load_by_id(run_id_n)\n",
    "ds.get_parameter_data('x1')"
   ]
  },
  {
   "cell_type": "markdown",
   "metadata": {},
   "source": [
    "And a dataset stored as binary arrays"
   ]
  },
  {
   "cell_type": "code",
   "execution_count": 12,
   "metadata": {
    "execution": {
     "iopub.execute_input": "2020-12-15T08:02:13.086935Z",
     "iopub.status.busy": "2020-12-15T08:02:13.086451Z",
     "iopub.status.idle": "2020-12-15T08:02:13.137438Z",
     "shell.execute_reply": "2020-12-15T08:02:13.137932Z"
    },
    "scrolled": true
   },
   "outputs": [
    {
     "data": {
      "text/plain": [
       "{'x1': {'x1': array([[0.22626914],\n",
       "         [0.22626914],\n",
       "         [0.94530837],\n",
       "         [0.94530837],\n",
       "         [0.71900587],\n",
       "         [0.71900587],\n",
       "         [0.46899299],\n",
       "         [0.46899299],\n",
       "         [0.27822977],\n",
       "         [0.27822977],\n",
       "         [0.20154136],\n",
       "         [0.20154136],\n",
       "         [0.94929697],\n",
       "         [0.94929697],\n",
       "         [0.26158143],\n",
       "         [0.26158143],\n",
       "         [0.42633847],\n",
       "         [0.42633847],\n",
       "         [0.29138988],\n",
       "         [0.29138988],\n",
       "         [0.74830825],\n",
       "         [0.74830825],\n",
       "         [0.67416908],\n",
       "         [0.67416908],\n",
       "         [0.26553834],\n",
       "         [0.26553834],\n",
       "         [0.63905207],\n",
       "         [0.63905207],\n",
       "         [0.88039192],\n",
       "         [0.88039192],\n",
       "         [0.0747176 ],\n",
       "         [0.0747176 ],\n",
       "         [0.25208711],\n",
       "         [0.25208711],\n",
       "         [0.79314784],\n",
       "         [0.79314784],\n",
       "         [0.02040589],\n",
       "         [0.02040589],\n",
       "         [0.47071844],\n",
       "         [0.47071844],\n",
       "         [0.32795807],\n",
       "         [0.32795807],\n",
       "         [0.55102681],\n",
       "         [0.55102681],\n",
       "         [0.2590576 ],\n",
       "         [0.2590576 ],\n",
       "         [0.19510474],\n",
       "         [0.19510474],\n",
       "         [0.36582553],\n",
       "         [0.36582553],\n",
       "         [0.46142934],\n",
       "         [0.46142934],\n",
       "         [0.91957456],\n",
       "         [0.91957456],\n",
       "         [0.67618572],\n",
       "         [0.67618572],\n",
       "         [0.6962081 ],\n",
       "         [0.6962081 ],\n",
       "         [0.25487449],\n",
       "         [0.25487449],\n",
       "         [0.05010289],\n",
       "         [0.05010289],\n",
       "         [0.71402971],\n",
       "         [0.71402971],\n",
       "         [0.01685946],\n",
       "         [0.01685946],\n",
       "         [0.81834994],\n",
       "         [0.81834994],\n",
       "         [0.34301903],\n",
       "         [0.34301903],\n",
       "         [0.14450161],\n",
       "         [0.14450161],\n",
       "         [0.09755309],\n",
       "         [0.09755309],\n",
       "         [0.34139445],\n",
       "         [0.34139445],\n",
       "         [0.5179698 ],\n",
       "         [0.5179698 ],\n",
       "         [0.51483202],\n",
       "         [0.51483202],\n",
       "         [0.46810363],\n",
       "         [0.46810363],\n",
       "         [0.08837966],\n",
       "         [0.08837966],\n",
       "         [0.91294377],\n",
       "         [0.91294377],\n",
       "         [0.53233528],\n",
       "         [0.53233528],\n",
       "         [0.51205737],\n",
       "         [0.51205737],\n",
       "         [0.89374659],\n",
       "         [0.89374659],\n",
       "         [0.06875436],\n",
       "         [0.06875436],\n",
       "         [0.74029107],\n",
       "         [0.74029107],\n",
       "         [0.35586759],\n",
       "         [0.35586759],\n",
       "         [0.10669182],\n",
       "         [0.10669182],\n",
       "         [0.12093646],\n",
       "         [0.12093646],\n",
       "         [0.47924476],\n",
       "         [0.47924476],\n",
       "         [0.62973982],\n",
       "         [0.62973982],\n",
       "         [0.48495006],\n",
       "         [0.48495006],\n",
       "         [0.42674931],\n",
       "         [0.42674931],\n",
       "         [0.00445321],\n",
       "         [0.00445321],\n",
       "         [0.13999829],\n",
       "         [0.13999829],\n",
       "         [0.7323947 ],\n",
       "         [0.7323947 ],\n",
       "         [0.67311627],\n",
       "         [0.67311627],\n",
       "         [0.61538287],\n",
       "         [0.61538287],\n",
       "         [0.52520625],\n",
       "         [0.52520625],\n",
       "         [0.17696106],\n",
       "         [0.17696106],\n",
       "         [0.80393998],\n",
       "         [0.80393998],\n",
       "         [0.57616855],\n",
       "         [0.57616855],\n",
       "         [0.66560455],\n",
       "         [0.66560455],\n",
       "         [0.82288028],\n",
       "         [0.82288028],\n",
       "         [0.10303899],\n",
       "         [0.10303899],\n",
       "         [0.72694484],\n",
       "         [0.72694484],\n",
       "         [0.7292638 ],\n",
       "         [0.7292638 ],\n",
       "         [0.764069  ],\n",
       "         [0.764069  ],\n",
       "         [0.47479702],\n",
       "         [0.47479702],\n",
       "         [0.39680964],\n",
       "         [0.39680964],\n",
       "         [0.32723388],\n",
       "         [0.32723388],\n",
       "         [0.33410692],\n",
       "         [0.33410692],\n",
       "         [0.71831858],\n",
       "         [0.71831858],\n",
       "         [0.32526706],\n",
       "         [0.32526706],\n",
       "         [0.03054815],\n",
       "         [0.03054815],\n",
       "         [0.36474503],\n",
       "         [0.36474503],\n",
       "         [0.96013583],\n",
       "         [0.96013583],\n",
       "         [0.52830324],\n",
       "         [0.52830324],\n",
       "         [0.87955403],\n",
       "         [0.87955403],\n",
       "         [0.11679572],\n",
       "         [0.11679572],\n",
       "         [0.08953757],\n",
       "         [0.08953757],\n",
       "         [0.44286119],\n",
       "         [0.44286119],\n",
       "         [0.71331212],\n",
       "         [0.71331212],\n",
       "         [0.74913009],\n",
       "         [0.74913009],\n",
       "         [0.62153957],\n",
       "         [0.62153957],\n",
       "         [0.34392991],\n",
       "         [0.34392991],\n",
       "         [0.85954189],\n",
       "         [0.85954189],\n",
       "         [0.89231724],\n",
       "         [0.89231724],\n",
       "         [0.20284052],\n",
       "         [0.20284052],\n",
       "         [0.45807716],\n",
       "         [0.45807716],\n",
       "         [0.38262559],\n",
       "         [0.38262559],\n",
       "         [0.81018105],\n",
       "         [0.81018105],\n",
       "         [0.39003142],\n",
       "         [0.39003142],\n",
       "         [0.69470616],\n",
       "         [0.69470616],\n",
       "         [0.02045239],\n",
       "         [0.02045239],\n",
       "         [0.00398307],\n",
       "         [0.00398307],\n",
       "         [0.15343676],\n",
       "         [0.15343676],\n",
       "         [0.7537485 ],\n",
       "         [0.7537485 ]])}}"
      ]
     },
     "execution_count": 1,
     "metadata": {},
     "output_type": "execute_result"
    }
   ],
   "source": [
    "ds = load_by_id(run_id_a)\n",
    "ds.get_parameter_data('x1')"
   ]
  },
  {
   "cell_type": "code",
   "execution_count": null,
   "metadata": {},
   "outputs": [],
   "source": []
  }
 ],
 "metadata": {
  "kernelspec": {
   "display_name": "Python 3",
   "language": "python",
   "name": "python3"
  },
  "language_info": {
   "codemirror_mode": {
    "name": "ipython",
    "version": 3
   },
   "file_extension": ".py",
   "mimetype": "text/x-python",
   "name": "python",
   "nbconvert_exporter": "python",
   "pygments_lexer": "ipython3",
   "version": "3.7.9"
  },
  "nbsphinx": {
   "timeout": 600
  },
  "toc": {
   "base_numbering": 1,
   "nav_menu": {},
   "number_sections": true,
   "sideBar": true,
   "skip_h1_title": false,
   "title_cell": "Table of Contents",
   "title_sidebar": "Contents",
   "toc_cell": false,
   "toc_position": {},
   "toc_section_display": true,
   "toc_window_display": false
  },
  "varInspector": {
   "cols": {
    "lenName": 16,
    "lenType": 16,
    "lenVar": 40
   },
   "kernels_config": {
    "python": {
     "delete_cmd_postfix": "",
     "delete_cmd_prefix": "del ",
     "library": "var_list.py",
     "varRefreshCmd": "print(var_dic_list())"
    },
    "r": {
     "delete_cmd_postfix": ") ",
     "delete_cmd_prefix": "rm(",
     "library": "var_list.r",
     "varRefreshCmd": "cat(var_dic_list()) "
    }
   },
   "types_to_exclude": [
    "module",
    "function",
    "builtin_function_or_method",
    "instance",
    "_Feature"
   ],
   "window_display": false
  }
 },
 "nbformat": 4,
 "nbformat_minor": 2
}
