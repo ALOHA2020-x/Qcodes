{
 "cells": [
  {
   "cell_type": "markdown",
   "metadata": {},
   "source": [
    "# DataSet Performance\n",
    "\n",
    "This notebook shows the trade-off between inserting data into a database row-by-row and as binary blobs. Inserting the data row-by-row means that we have direct access to all the data and may perform queries directly on the values of the data. On the other hand, as we shall see, this is much slower than inserting the data directly as binary blobs."
   ]
  },
  {
   "cell_type": "markdown",
   "metadata": {},
   "source": [
    "First, we choose a new location for the database to ensure that we don't add a bunch of benchmarking data to the default one."
   ]
  },
  {
   "cell_type": "code",
   "execution_count": 1,
   "metadata": {},
   "outputs": [
    {
     "name": "stdout",
     "output_type": "stream",
     "text": [
      "Logging hadn't been started.\n",
      "Activating auto-logging. Current session state plus future input saved.\n",
      "Filename       : /home/vsts/.qcodes/logs/command_history.log\n",
      "Mode           : append\n",
      "Output logging : True\n",
      "Raw input log  : False\n",
      "Timestamping   : True\n",
      "State          : active\n"
     ]
    },
    {
     "name": "stdout",
     "output_type": "stream",
     "text": [
      "Qcodes Logfile : /home/vsts/.qcodes/logs/200420-18391-qcodes.log\n"
     ]
    }
   ],
   "source": [
    "import os\n",
    "cwd = os.getcwd()\n",
    "import qcodes as qc\n",
    "qc.config[\"core\"][\"db_location\"] = os.path.join(cwd, 'testing.db')\n"
   ]
  },
  {
   "cell_type": "code",
   "execution_count": 2,
   "metadata": {},
   "outputs": [],
   "source": [
    "%matplotlib inline\n",
    "import time\n",
    "import matplotlib.pyplot as plt\n",
    "import numpy as np\n",
    "\n",
    "import qcodes as qc\n",
    "from qcodes.instrument.parameter import ManualParameter\n",
    "from qcodes.dataset.experiment_container import (Experiment,\n",
    "                                                 load_last_experiment,\n",
    "                                                 new_experiment)\n",
    "from qcodes.dataset.sqlite.database import initialise_database\n",
    "from qcodes import load_or_create_experiment\n",
    "from qcodes.dataset.measurements import Measurement"
   ]
  },
  {
   "cell_type": "code",
   "execution_count": 3,
   "metadata": {},
   "outputs": [
    {
     "name": "stdout",
     "output_type": "stream",
     "text": [
      "\r",
      "0it [00:00, ?it/s]"
     ]
    },
    {
     "name": "stdout",
     "output_type": "stream",
     "text": [
      "\r",
      "Upgrading database; v0 -> v1: : 0it [00:00, ?it/s]"
     ]
    },
    {
     "name": "stdout",
     "output_type": "stream",
     "text": [
      "\r",
      "Upgrading database; v0 -> v1: : 0it [00:00, ?it/s]"
     ]
    },
    {
     "name": "stdout",
     "output_type": "stream",
     "text": [
      "\n",
      "\r",
      "  0%|          | 0/1 [00:00<?, ?it/s]"
     ]
    },
    {
     "name": "stdout",
     "output_type": "stream",
     "text": [
      "\r",
      "Upgrading database; v1 -> v2:   0%|          | 0/1 [00:00<?, ?it/s]"
     ]
    },
    {
     "name": "stdout",
     "output_type": "stream",
     "text": [
      "\r",
      "Upgrading database; v1 -> v2: 100%|██████████| 1/1 [00:00<00:00, 1013.85it/s]"
     ]
    },
    {
     "name": "stdout",
     "output_type": "stream",
     "text": [
      "\n",
      "\r",
      "0it [00:00, ?it/s]"
     ]
    },
    {
     "name": "stdout",
     "output_type": "stream",
     "text": [
      "\r",
      "Upgrading database; v2 -> v3: : 0it [00:00, ?it/s]"
     ]
    },
    {
     "name": "stdout",
     "output_type": "stream",
     "text": [
      "\r",
      "Upgrading database; v2 -> v3: : 0it [00:00, ?it/s]"
     ]
    },
    {
     "name": "stdout",
     "output_type": "stream",
     "text": [
      "\n",
      "\r",
      "0it [00:00, ?it/s]"
     ]
    },
    {
     "name": "stdout",
     "output_type": "stream",
     "text": [
      "\r",
      "Upgrading database; v3 -> v4: : 0it [00:00, ?it/s]"
     ]
    },
    {
     "name": "stdout",
     "output_type": "stream",
     "text": [
      "\r",
      "Upgrading database; v3 -> v4: : 0it [00:00, ?it/s]"
     ]
    },
    {
     "name": "stdout",
     "output_type": "stream",
     "text": [
      "\n",
      "\r",
      "  0%|          | 0/1 [00:00<?, ?it/s]"
     ]
    },
    {
     "name": "stdout",
     "output_type": "stream",
     "text": [
      "\r",
      "Upgrading database; v4 -> v5:   0%|          | 0/1 [00:00<?, ?it/s]"
     ]
    },
    {
     "name": "stdout",
     "output_type": "stream",
     "text": [
      "\r",
      "Upgrading database; v4 -> v5: 100%|██████████| 1/1 [00:00<00:00, 1046.74it/s]"
     ]
    },
    {
     "name": "stdout",
     "output_type": "stream",
     "text": [
      "\n",
      "\r",
      "0it [00:00, ?it/s]"
     ]
    },
    {
     "name": "stdout",
     "output_type": "stream",
     "text": [
      "\r",
      "Upgrading database; v5 -> v6: : 0it [00:00, ?it/s]"
     ]
    },
    {
     "name": "stdout",
     "output_type": "stream",
     "text": [
      "\r",
      "Upgrading database; v5 -> v6: : 0it [00:00, ?it/s]"
     ]
    },
    {
     "name": "stdout",
     "output_type": "stream",
     "text": [
      "\n",
      "\r",
      "  0%|          | 0/1 [00:00<?, ?it/s]"
     ]
    },
    {
     "name": "stdout",
     "output_type": "stream",
     "text": [
      "\r",
      "Upgrading database; v6 -> v7:   0%|          | 0/1 [00:00<?, ?it/s]"
     ]
    },
    {
     "name": "stdout",
     "output_type": "stream",
     "text": [
      "\r",
      "Upgrading database; v6 -> v7: 100%|██████████| 1/1 [00:00<00:00, 299.38it/s]"
     ]
    },
    {
     "name": "stdout",
     "output_type": "stream",
     "text": [
      "\n",
      "\r",
      "  0%|          | 0/1 [00:00<?, ?it/s]"
     ]
    },
    {
     "name": "stdout",
     "output_type": "stream",
     "text": [
      "\r",
      "Upgrading database; v7 -> v8:   0%|          | 0/1 [00:00<?, ?it/s]"
     ]
    },
    {
     "name": "stdout",
     "output_type": "stream",
     "text": [
      "\r",
      "Upgrading database; v7 -> v8: 100%|██████████| 1/1 [00:00<00:00, 1021.75it/s]"
     ]
    },
    {
     "name": "stdout",
     "output_type": "stream",
     "text": [
      "\n",
      "\r",
      "  0%|          | 0/1 [00:00<?, ?it/s]"
     ]
    },
    {
     "name": "stdout",
     "output_type": "stream",
     "text": [
      "\r",
      "Upgrading database; v8 -> v9:   0%|          | 0/1 [00:00<?, ?it/s]"
     ]
    },
    {
     "name": "stdout",
     "output_type": "stream",
     "text": [
      "\r",
      "Upgrading database; v8 -> v9: 100%|██████████| 1/1 [00:00<00:00, 1145.67it/s]"
     ]
    },
    {
     "name": "stdout",
     "output_type": "stream",
     "text": [
      "\n"
     ]
    }
   ],
   "source": [
    "initialise_database()\n",
    "exp = load_or_create_experiment(experiment_name='tutorial_exp', sample_name=\"no sample\")"
   ]
  },
  {
   "cell_type": "markdown",
   "metadata": {},
   "source": [
    "Here, we define a simple function to benchmark the time it takes to insert n points with either numeric or array data type.\n",
    "We will compare both the time used to call ``add_result`` and the time used for the full measurement."
   ]
  },
  {
   "cell_type": "code",
   "execution_count": 4,
   "metadata": {},
   "outputs": [],
   "source": [
    "def insert_data(paramtype, npoints, nreps=1):\n",
    "\n",
    "    meas = Measurement(exp=exp)\n",
    "\n",
    "    x1 = ManualParameter('x1')\n",
    "    x2 = ManualParameter('x2')\n",
    "    x3 = ManualParameter('x3')\n",
    "    y1 = ManualParameter('y1')\n",
    "    y2 = ManualParameter('y2')\n",
    "\n",
    "    meas.register_parameter(x1, paramtype=paramtype)\n",
    "    meas.register_parameter(x2, paramtype=paramtype)\n",
    "    meas.register_parameter(x3, paramtype=paramtype)\n",
    "    meas.register_parameter(y1, setpoints=[x1, x2, x3],\n",
    "                            paramtype=paramtype)\n",
    "    meas.register_parameter(y2, setpoints=[x1, x2, x3],\n",
    "                            paramtype=paramtype)\n",
    "    start = time.perf_counter()\n",
    "    with meas.run() as datasaver:\n",
    "        start_adding = time.perf_counter()\n",
    "        for i in range(nreps):\n",
    "            datasaver.add_result((x1, np.random.rand(npoints)),\n",
    "                                 (x2, np.random.rand(npoints)),\n",
    "                                 (x3, np.random.rand(npoints)),\n",
    "                                 (y1, np.random.rand(npoints)),\n",
    "                                 (y2, np.random.rand(npoints)))\n",
    "        stop_adding = time.perf_counter()\n",
    "        run_id = datasaver.run_id\n",
    "    stop = time.perf_counter()\n",
    "    tot_time = stop - start\n",
    "    add_time = stop_adding - start_adding\n",
    "    return tot_time, add_time, run_id"
   ]
  },
  {
   "cell_type": "markdown",
   "metadata": {},
   "source": [
    "## Comparison between numeric/array data and binary blob"
   ]
  },
  {
   "cell_type": "markdown",
   "metadata": {},
   "source": [
    "### Case1: Short experiment time"
   ]
  },
  {
   "cell_type": "code",
   "execution_count": 5,
   "metadata": {},
   "outputs": [
    {
     "name": "stdout",
     "output_type": "stream",
     "text": [
      "Starting experimental run with id: 1. \n",
      "Starting experimental run with id: 2. \n",
      "Starting experimental run with id: 3. \n"
     ]
    },
    {
     "name": "stdout",
     "output_type": "stream",
     "text": [
      "Starting experimental run with id: 4. \n"
     ]
    },
    {
     "name": "stdout",
     "output_type": "stream",
     "text": [
      "Starting experimental run with id: 5. \n"
     ]
    },
    {
     "name": "stdout",
     "output_type": "stream",
     "text": [
      "Starting experimental run with id: 6. \n"
     ]
    },
    {
     "name": "stdout",
     "output_type": "stream",
     "text": [
      "Starting experimental run with id: 7. \n"
     ]
    },
    {
     "name": "stdout",
     "output_type": "stream",
     "text": [
      "Starting experimental run with id: 8. \n",
      "Starting experimental run with id: 9. \n"
     ]
    },
    {
     "name": "stdout",
     "output_type": "stream",
     "text": [
      "Starting experimental run with id: 10. \n",
      "Starting experimental run with id: 11. \n"
     ]
    },
    {
     "name": "stdout",
     "output_type": "stream",
     "text": [
      "Starting experimental run with id: 12. \n"
     ]
    },
    {
     "name": "stdout",
     "output_type": "stream",
     "text": [
      "Starting experimental run with id: 13. \n"
     ]
    },
    {
     "name": "stdout",
     "output_type": "stream",
     "text": [
      "Starting experimental run with id: 14. \n"
     ]
    }
   ],
   "source": [
    "sizes = [1,500,1000,2000,3000,4000,5000]\n",
    "t_numeric = []\n",
    "t_numeric_add = []\n",
    "t_array = []\n",
    "t_array_add = []\n",
    "for size in sizes:\n",
    "    tn, tna, run_id_n =  insert_data('numeric', size)\n",
    "    t_numeric.append(tn)\n",
    "    t_numeric_add.append(tna)\n",
    "\n",
    "    ta, taa, run_id_a =  insert_data('array', size)\n",
    "    t_array.append(ta)\n",
    "    t_array_add.append(taa)"
   ]
  },
  {
   "cell_type": "code",
   "execution_count": 6,
   "metadata": {},
   "outputs": [
    {
     "data": {
      "image/png": "[encoded data removed]",
      "text/plain": [
       "<Figure size 432x288 with 1 Axes>"
      ]
     },
     "metadata": {
      "needs_background": "light"
     },
     "output_type": "display_data"
    }
   ],
   "source": [
    "fig, ax = plt.subplots(1,1)\n",
    "ax.plot(sizes, t_numeric, 'o-', label='Inserting row-by-row')\n",
    "ax.plot(sizes, t_numeric_add, 'o-', label='Inserting row-by-row: add_result only')\n",
    "ax.plot(sizes, t_array, 'd-', label='Inserting as binary blob')\n",
    "ax.plot(sizes, t_array_add, 'd-', label='Inserting as binary blob: add_result only')\n",
    "ax.legend()\n",
    "ax.set_xlabel('Array length')\n",
    "ax.set_ylabel('Time (s)')\n",
    "fig.tight_layout()"
   ]
  },
  {
   "cell_type": "markdown",
   "metadata": {},
   "source": [
    "As shown in the latter figure, the time to setup and and close the experiment is approximately 0.4 sec. In case of small array sizes, the difference between inserting values of data as arrays and inserting them row-by-row is relatively unimportant. At larger array sizes, i.e. above 10000 points, the cost of writing data as individual datapoints starts to become important.\n"
   ]
  },
  {
   "cell_type": "markdown",
   "metadata": {},
   "source": [
    "### Case2: Long experiment time "
   ]
  },
  {
   "cell_type": "code",
   "execution_count": 7,
   "metadata": {},
   "outputs": [
    {
     "name": "stdout",
     "output_type": "stream",
     "text": [
      "Starting experimental run with id: 15. \n",
      "Starting experimental run with id: 16. \n",
      "Starting experimental run with id: 17. \n"
     ]
    },
    {
     "name": "stdout",
     "output_type": "stream",
     "text": [
      "Starting experimental run with id: 18. \n",
      "Starting experimental run with id: 19. \n"
     ]
    },
    {
     "name": "stdout",
     "output_type": "stream",
     "text": [
      "Starting experimental run with id: 20. \n"
     ]
    },
    {
     "name": "stdout",
     "output_type": "stream",
     "text": [
      "Starting experimental run with id: 21. \n"
     ]
    },
    {
     "name": "stdout",
     "output_type": "stream",
     "text": [
      "Starting experimental run with id: 22. \n"
     ]
    },
    {
     "name": "stdout",
     "output_type": "stream",
     "text": [
      "Starting experimental run with id: 23. \n"
     ]
    },
    {
     "name": "stdout",
     "output_type": "stream",
     "text": [
      "Starting experimental run with id: 24. \n"
     ]
    },
    {
     "name": "stdout",
     "output_type": "stream",
     "text": [
      "Starting experimental run with id: 25. \n"
     ]
    },
    {
     "name": "stdout",
     "output_type": "stream",
     "text": [
      "Starting experimental run with id: 26. \n"
     ]
    },
    {
     "name": "stdout",
     "output_type": "stream",
     "text": [
      "Starting experimental run with id: 27. \n"
     ]
    },
    {
     "name": "stdout",
     "output_type": "stream",
     "text": [
      "Starting experimental run with id: 28. \n"
     ]
    }
   ],
   "source": [
    "sizes = [1,500,1000,2000,3000,4000,5000]\n",
    "nreps = 100\n",
    "t_numeric = []\n",
    "t_numeric_add = []\n",
    "t_numeric_run_ids = []\n",
    "t_array = []\n",
    "t_array_add = []\n",
    "t_array_run_ids = []\n",
    "for size in sizes:\n",
    "    tn, tna, run_id_n =  insert_data('numeric', size, nreps=nreps)\n",
    "    t_numeric.append(tn)\n",
    "    t_numeric_add.append(tna)\n",
    "    t_numeric_run_ids.append(run_id_n)\n",
    "\n",
    "    ta, taa, run_id_a =  insert_data('array', size, nreps=nreps)\n",
    "    t_array.append(ta)\n",
    "    t_array_add.append(taa)\n",
    "    t_array_run_ids.append(run_id_a)"
   ]
  },
  {
   "cell_type": "code",
   "execution_count": 8,
   "metadata": {
    "scrolled": true
   },
   "outputs": [
    {
     "data": {
      "image/png": "[encoded data removed]",
      "text/plain": [
       "<Figure size 432x288 with 1 Axes>"
      ]
     },
     "metadata": {
      "needs_background": "light"
     },
     "output_type": "display_data"
    }
   ],
   "source": [
    "fig, ax = plt.subplots(1,1)\n",
    "ax.plot(sizes, t_numeric, 'o-', label='Inserting row-by-row')\n",
    "ax.plot(sizes, t_numeric_add, 'o-', label='Inserting row-by-row: add_result only')\n",
    "ax.plot(sizes, t_array, 'd-', label='Inserting as binary blob')\n",
    "ax.plot(sizes, t_array_add, 'd-', label='Inserting as binary blob: add_result only')\n",
    "ax.legend()\n",
    "ax.set_xlabel('Array length')\n",
    "ax.set_ylabel('Time (s)')\n",
    "fig.tight_layout()"
   ]
  },
  {
   "cell_type": "markdown",
   "metadata": {},
   "source": [
    "However, as we increase the length of the experiment, as seen here by repeating the insertion 100 times, we see a big difference between inserting values of the data row-by-row and inserting it as a binary blob."
   ]
  },
  {
   "cell_type": "markdown",
   "metadata": {},
   "source": [
    "## Loading the data "
   ]
  },
  {
   "cell_type": "code",
   "execution_count": 9,
   "metadata": {},
   "outputs": [],
   "source": [
    "from qcodes.dataset.data_set import load_by_id\n",
    "from qcodes.dataset.data_export import get_data_by_id"
   ]
  },
  {
   "cell_type": "markdown",
   "metadata": {},
   "source": [
    "As usual you can load the data by using the ``load_by_id`` function but you will notice that the different storage methods\n",
    "are reflected in shape of the data as it is retrieved. "
   ]
  },
  {
   "cell_type": "code",
   "execution_count": 10,
   "metadata": {},
   "outputs": [],
   "source": [
    "run_id_n = t_numeric_run_ids[0]\n",
    "run_id_a = t_array_run_ids[0]"
   ]
  },
  {
   "cell_type": "code",
   "execution_count": 11,
   "metadata": {
    "scrolled": true
   },
   "outputs": [
    {
     "data": {
      "text/plain": [
       "{'x1': {'x1': array([0.2459224 , 0.2459224 , 0.20974043, 0.20974043, 0.94612195,\n",
       "         0.94612195, 0.34299536, 0.34299536, 0.59590427, 0.59590427,\n",
       "         0.26298271, 0.26298271, 0.75300505, 0.75300505, 0.62849353,\n",
       "         0.62849353, 0.93426505, 0.93426505, 0.1984392 , 0.1984392 ,\n",
       "         0.26351084, 0.26351084, 0.45816458, 0.45816458, 0.04064383,\n",
       "         0.04064383, 0.46769199, 0.46769199, 0.95136085, 0.95136085,\n",
       "         0.28266925, 0.28266925, 0.94952762, 0.94952762, 0.8030998 ,\n",
       "         0.8030998 , 0.52480607, 0.52480607, 0.30162871, 0.30162871,\n",
       "         0.86893389, 0.86893389, 0.1158    , 0.1158    , 0.9378807 ,\n",
       "         0.9378807 , 0.01501413, 0.01501413, 0.85719162, 0.85719162,\n",
       "         0.18646067, 0.18646067, 0.95682714, 0.95682714, 0.38941032,\n",
       "         0.38941032, 0.97820587, 0.97820587, 0.73234129, 0.73234129,\n",
       "         0.39972016, 0.39972016, 0.98103442, 0.98103442, 0.54915891,\n",
       "         0.54915891, 0.36819457, 0.36819457, 0.69065478, 0.69065478,\n",
       "         0.80785624, 0.80785624, 0.51880982, 0.51880982, 0.92320873,\n",
       "         0.92320873, 0.71408125, 0.71408125, 0.674521  , 0.674521  ,\n",
       "         0.48514852, 0.48514852, 0.76253407, 0.76253407, 0.75263889,\n",
       "         0.75263889, 0.79565847, 0.79565847, 0.97876163, 0.97876163,\n",
       "         0.48159923, 0.48159923, 0.15295958, 0.15295958, 0.28755245,\n",
       "         0.28755245, 0.31401007, 0.31401007, 0.11905314, 0.11905314,\n",
       "         0.97897957, 0.97897957, 0.75336383, 0.75336383, 0.16864632,\n",
       "         0.16864632, 0.14579003, 0.14579003, 0.61360917, 0.61360917,\n",
       "         0.32778162, 0.32778162, 0.09644856, 0.09644856, 0.83675651,\n",
       "         0.83675651, 0.89869248, 0.89869248, 0.76922847, 0.76922847,\n",
       "         0.69397202, 0.69397202, 0.29991392, 0.29991392, 0.34863987,\n",
       "         0.34863987, 0.57701332, 0.57701332, 0.27733044, 0.27733044,\n",
       "         0.97448896, 0.97448896, 0.08811427, 0.08811427, 0.96624492,\n",
       "         0.96624492, 0.93599422, 0.93599422, 0.72287921, 0.72287921,\n",
       "         0.8709938 , 0.8709938 , 0.8966572 , 0.8966572 , 0.80150167,\n",
       "         0.80150167, 0.13294164, 0.13294164, 0.10151965, 0.10151965,\n",
       "         0.11150437, 0.11150437, 0.18385262, 0.18385262, 0.90366456,\n",
       "         0.90366456, 0.59920969, 0.59920969, 0.25433061, 0.25433061,\n",
       "         0.26071041, 0.26071041, 0.52804092, 0.52804092, 0.34742957,\n",
       "         0.34742957, 0.21538101, 0.21538101, 0.70987566, 0.70987566,\n",
       "         0.64045392, 0.64045392, 0.45060034, 0.45060034, 0.38189565,\n",
       "         0.38189565, 0.69289942, 0.69289942, 0.24039694, 0.24039694,\n",
       "         0.89940131, 0.89940131, 0.5740647 , 0.5740647 , 0.23909233,\n",
       "         0.23909233, 0.75144429, 0.75144429, 0.5865791 , 0.5865791 ,\n",
       "         0.43791071, 0.43791071, 0.97412419, 0.97412419, 0.91646897,\n",
       "         0.91646897, 0.53211555, 0.53211555, 0.49336066, 0.49336066])}}"
      ]
     },
     "execution_count": 11,
     "metadata": {},
     "output_type": "execute_result"
    }
   ],
   "source": [
    "ds = load_by_id(run_id_n)\n",
    "ds.get_parameter_data('x1')"
   ]
  },
  {
   "cell_type": "markdown",
   "metadata": {},
   "source": [
    "And a dataset stored as binary arrays"
   ]
  },
  {
   "cell_type": "code",
   "execution_count": 12,
   "metadata": {
    "scrolled": true
   },
   "outputs": [
    {
     "data": {
      "text/plain": [
       "{'x1': {'x1': array([[7.08655098e-02],\n",
       "         [7.08655098e-02],\n",
       "         [7.42028648e-03],\n",
       "         [7.42028648e-03],\n",
       "         [4.52422280e-01],\n",
       "         [4.52422280e-01],\n",
       "         [1.95733337e-01],\n",
       "         [1.95733337e-01],\n",
       "         [3.84266812e-01],\n",
       "         [3.84266812e-01],\n",
       "         [6.63699447e-01],\n",
       "         [6.63699447e-01],\n",
       "         [1.34923083e-01],\n",
       "         [1.34923083e-01],\n",
       "         [3.18443422e-01],\n",
       "         [3.18443422e-01],\n",
       "         [5.88553196e-01],\n",
       "         [5.88553196e-01],\n",
       "         [9.14015720e-01],\n",
       "         [9.14015720e-01],\n",
       "         [2.17674073e-02],\n",
       "         [2.17674073e-02],\n",
       "         [6.23227514e-01],\n",
       "         [6.23227514e-01],\n",
       "         [4.24904622e-01],\n",
       "         [4.24904622e-01],\n",
       "         [6.15262821e-01],\n",
       "         [6.15262821e-01],\n",
       "         [7.39268023e-01],\n",
       "         [7.39268023e-01],\n",
       "         [1.71029245e-02],\n",
       "         [1.71029245e-02],\n",
       "         [8.27571787e-01],\n",
       "         [8.27571787e-01],\n",
       "         [4.56204908e-01],\n",
       "         [4.56204908e-01],\n",
       "         [8.62269890e-01],\n",
       "         [8.62269890e-01],\n",
       "         [5.23073343e-03],\n",
       "         [5.23073343e-03],\n",
       "         [2.09835776e-01],\n",
       "         [2.09835776e-01],\n",
       "         [8.85265463e-01],\n",
       "         [8.85265463e-01],\n",
       "         [1.25553429e-01],\n",
       "         [1.25553429e-01],\n",
       "         [1.29277958e-01],\n",
       "         [1.29277958e-01],\n",
       "         [5.78731634e-01],\n",
       "         [5.78731634e-01],\n",
       "         [9.88891193e-01],\n",
       "         [9.88891193e-01],\n",
       "         [7.63962881e-01],\n",
       "         [7.63962881e-01],\n",
       "         [7.74221249e-01],\n",
       "         [7.74221249e-01],\n",
       "         [6.07134788e-01],\n",
       "         [6.07134788e-01],\n",
       "         [1.83564444e-01],\n",
       "         [1.83564444e-01],\n",
       "         [4.20602658e-01],\n",
       "         [4.20602658e-01],\n",
       "         [6.26982476e-01],\n",
       "         [6.26982476e-01],\n",
       "         [8.38726367e-01],\n",
       "         [8.38726367e-01],\n",
       "         [4.39463144e-01],\n",
       "         [4.39463144e-01],\n",
       "         [1.70034624e-01],\n",
       "         [1.70034624e-01],\n",
       "         [7.81673579e-01],\n",
       "         [7.81673579e-01],\n",
       "         [9.11472599e-01],\n",
       "         [9.11472599e-01],\n",
       "         [8.19171032e-01],\n",
       "         [8.19171032e-01],\n",
       "         [4.97637834e-02],\n",
       "         [4.97637834e-02],\n",
       "         [8.43526435e-02],\n",
       "         [8.43526435e-02],\n",
       "         [7.63846830e-01],\n",
       "         [7.63846830e-01],\n",
       "         [2.58539775e-01],\n",
       "         [2.58539775e-01],\n",
       "         [3.57749816e-01],\n",
       "         [3.57749816e-01],\n",
       "         [1.78338348e-01],\n",
       "         [1.78338348e-01],\n",
       "         [6.49389150e-01],\n",
       "         [6.49389150e-01],\n",
       "         [7.02764748e-01],\n",
       "         [7.02764748e-01],\n",
       "         [7.74742894e-01],\n",
       "         [7.74742894e-01],\n",
       "         [5.74330942e-01],\n",
       "         [5.74330942e-01],\n",
       "         [4.34514708e-01],\n",
       "         [4.34514708e-01],\n",
       "         [5.27989044e-01],\n",
       "         [5.27989044e-01],\n",
       "         [8.37022934e-01],\n",
       "         [8.37022934e-01],\n",
       "         [4.73445959e-02],\n",
       "         [4.73445959e-02],\n",
       "         [4.13475861e-01],\n",
       "         [4.13475861e-01],\n",
       "         [2.09884134e-01],\n",
       "         [2.09884134e-01],\n",
       "         [9.05973953e-01],\n",
       "         [9.05973953e-01],\n",
       "         [8.18744667e-01],\n",
       "         [8.18744667e-01],\n",
       "         [7.23327228e-02],\n",
       "         [7.23327228e-02],\n",
       "         [3.85438086e-02],\n",
       "         [3.85438086e-02],\n",
       "         [1.77804016e-01],\n",
       "         [1.77804016e-01],\n",
       "         [9.90971549e-01],\n",
       "         [9.90971549e-01],\n",
       "         [5.89384973e-01],\n",
       "         [5.89384973e-01],\n",
       "         [3.99261834e-01],\n",
       "         [3.99261834e-01],\n",
       "         [6.84722200e-01],\n",
       "         [6.84722200e-01],\n",
       "         [1.99607872e-02],\n",
       "         [1.99607872e-02],\n",
       "         [6.65963943e-01],\n",
       "         [6.65963943e-01],\n",
       "         [9.51666967e-02],\n",
       "         [9.51666967e-02],\n",
       "         [2.83550843e-01],\n",
       "         [2.83550843e-01],\n",
       "         [7.49541223e-02],\n",
       "         [7.49541223e-02],\n",
       "         [1.19567839e-01],\n",
       "         [1.19567839e-01],\n",
       "         [2.97947821e-01],\n",
       "         [2.97947821e-01],\n",
       "         [9.96921370e-01],\n",
       "         [9.96921370e-01],\n",
       "         [7.71081494e-01],\n",
       "         [7.71081494e-01],\n",
       "         [9.62274383e-01],\n",
       "         [9.62274383e-01],\n",
       "         [9.40191933e-01],\n",
       "         [9.40191933e-01],\n",
       "         [7.81184978e-02],\n",
       "         [7.81184978e-02],\n",
       "         [1.49824464e-01],\n",
       "         [1.49824464e-01],\n",
       "         [9.53682216e-01],\n",
       "         [9.53682216e-01],\n",
       "         [7.48301665e-01],\n",
       "         [7.48301665e-01],\n",
       "         [3.30805267e-01],\n",
       "         [3.30805267e-01],\n",
       "         [2.59499266e-01],\n",
       "         [2.59499266e-01],\n",
       "         [1.20895751e-01],\n",
       "         [1.20895751e-01],\n",
       "         [5.81192491e-01],\n",
       "         [5.81192491e-01],\n",
       "         [5.28798689e-01],\n",
       "         [5.28798689e-01],\n",
       "         [2.48422349e-01],\n",
       "         [2.48422349e-01],\n",
       "         [6.83615280e-01],\n",
       "         [6.83615280e-01],\n",
       "         [8.01037246e-01],\n",
       "         [8.01037246e-01],\n",
       "         [2.48314300e-01],\n",
       "         [2.48314300e-01],\n",
       "         [1.81604037e-01],\n",
       "         [1.81604037e-01],\n",
       "         [4.26178547e-01],\n",
       "         [4.26178547e-01],\n",
       "         [1.95655147e-01],\n",
       "         [1.95655147e-01],\n",
       "         [5.39825452e-01],\n",
       "         [5.39825452e-01],\n",
       "         [7.39239262e-01],\n",
       "         [7.39239262e-01],\n",
       "         [6.54568522e-02],\n",
       "         [6.54568522e-02],\n",
       "         [2.44020506e-01],\n",
       "         [2.44020506e-01],\n",
       "         [6.15156994e-01],\n",
       "         [6.15156994e-01],\n",
       "         [1.46897401e-01],\n",
       "         [1.46897401e-01],\n",
       "         [3.19236917e-04],\n",
       "         [3.19236917e-04],\n",
       "         [4.67775572e-01],\n",
       "         [4.67775572e-01],\n",
       "         [8.05590895e-01],\n",
       "         [8.05590895e-01],\n",
       "         [5.10030754e-01],\n",
       "         [5.10030754e-01]])}}"
      ]
     },
     "execution_count": 12,
     "metadata": {},
     "output_type": "execute_result"
    }
   ],
   "source": [
    "ds = load_by_id(run_id_a)\n",
    "ds.get_parameter_data('x1')"
   ]
  },
  {
   "cell_type": "code",
   "execution_count": null,
   "metadata": {},
   "outputs": [],
   "source": []
  }
 ],
 "metadata": {
  "kernelspec": {
   "display_name": "Python 3",
   "language": "python",
   "name": "python3"
  },
  "language_info": {
   "codemirror_mode": {
    "name": "ipython",
    "version": 3
   },
   "file_extension": ".py",
   "mimetype": "text/x-python",
   "name": "python",
   "nbconvert_exporter": "python",
   "pygments_lexer": "ipython3",
   "version": "3.7.7"
  },
  "nbsphinx": {
   "timeout": 600
  },
  "toc": {
   "base_numbering": 1,
   "nav_menu": {},
   "number_sections": true,
   "sideBar": true,
   "skip_h1_title": false,
   "title_cell": "Table of Contents",
   "title_sidebar": "Contents",
   "toc_cell": false,
   "toc_position": {},
   "toc_section_display": true,
   "toc_window_display": false
  },
  "varInspector": {
   "cols": {
    "lenName": 16,
    "lenType": 16,
    "lenVar": 40
   },
   "kernels_config": {
    "python": {
     "delete_cmd_postfix": "",
     "delete_cmd_prefix": "del ",
     "library": "var_list.py",
     "varRefreshCmd": "print(var_dic_list())"
    },
    "r": {
     "delete_cmd_postfix": ") ",
     "delete_cmd_prefix": "rm(",
     "library": "var_list.r",
     "varRefreshCmd": "cat(var_dic_list()) "
    }
   },
   "types_to_exclude": [
    "module",
    "function",
    "builtin_function_or_method",
    "instance",
    "_Feature"
   ],
   "window_display": false
  }
 },
 "nbformat": 4,
 "nbformat_minor": 2
}
