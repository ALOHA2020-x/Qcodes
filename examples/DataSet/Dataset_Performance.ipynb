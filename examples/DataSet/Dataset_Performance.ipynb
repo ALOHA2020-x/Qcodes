{
 "cells": [
  {
   "cell_type": "markdown",
   "metadata": {},
   "source": [
    "# DataSet Performance\n",
    "\n",
    "This notebook shows the trade-off between inserting data into a database row-by-row and as binary blobs. Inserting the data row-by-row means that we have direct access to all the data and may perform queries directly on the values of the data. On the other hand, as we shall see, this is much slower than inserting the data directly as binary blobs."
   ]
  },
  {
   "cell_type": "markdown",
   "metadata": {},
   "source": [
    "First, we choose a new location for the database to ensure that we don't add a bunch of benchmarking data to the default one."
   ]
  },
  {
   "cell_type": "code",
   "execution_count": 1,
   "metadata": {},
   "outputs": [
    {
     "name": "stdout",
     "output_type": "stream",
     "text": [
      "Logging hadn't been started.\n",
      "Activating auto-logging. Current session state plus future input saved.\n",
      "Filename       : /home/vsts/.qcodes/logs/command_history.log\n",
      "Mode           : append\n",
      "Output logging : True\n",
      "Raw input log  : False\n",
      "Timestamping   : True\n",
      "State          : active\n"
     ]
    },
    {
     "name": "stdout",
     "output_type": "stream",
     "text": [
      "Qcodes Logfile : /home/vsts/.qcodes/logs/200713-18517-qcodes.log\n"
     ]
    }
   ],
   "source": [
    "import os\n",
    "cwd = os.getcwd()\n",
    "import qcodes as qc\n",
    "qc.config[\"core\"][\"db_location\"] = os.path.join(cwd, 'testing.db')\n"
   ]
  },
  {
   "cell_type": "code",
   "execution_count": 2,
   "metadata": {},
   "outputs": [],
   "source": [
    "%matplotlib inline\n",
    "import time\n",
    "import matplotlib.pyplot as plt\n",
    "import numpy as np\n",
    "\n",
    "import qcodes as qc\n",
    "from qcodes.instrument.parameter import ManualParameter\n",
    "from qcodes.dataset.experiment_container import (Experiment,\n",
    "                                                 load_last_experiment,\n",
    "                                                 new_experiment)\n",
    "from qcodes.dataset.sqlite.database import initialise_database\n",
    "from qcodes import load_or_create_experiment\n",
    "from qcodes.dataset.measurements import Measurement"
   ]
  },
  {
   "cell_type": "code",
   "execution_count": 3,
   "metadata": {},
   "outputs": [
    {
     "name": "stdout",
     "output_type": "stream",
     "text": [
      "\r",
      "0it [00:00, ?it/s]"
     ]
    },
    {
     "name": "stdout",
     "output_type": "stream",
     "text": [
      "\r",
      "Upgrading database; v0 -> v1: : 0it [00:00, ?it/s]"
     ]
    },
    {
     "name": "stdout",
     "output_type": "stream",
     "text": [
      "\r",
      "Upgrading database; v0 -> v1: : 0it [00:00, ?it/s]"
     ]
    },
    {
     "name": "stdout",
     "output_type": "stream",
     "text": [
      "\n",
      "\r",
      "  0%|          | 0/1 [00:00<?, ?it/s]"
     ]
    },
    {
     "name": "stdout",
     "output_type": "stream",
     "text": [
      "\r",
      "Upgrading database; v1 -> v2:   0%|          | 0/1 [00:00<?, ?it/s]"
     ]
    },
    {
     "name": "stdout",
     "output_type": "stream",
     "text": [
      "\r",
      "Upgrading database; v1 -> v2: 100%|██████████| 1/1 [00:00<00:00, 884.87it/s]"
     ]
    },
    {
     "name": "stdout",
     "output_type": "stream",
     "text": [
      "\n",
      "\r",
      "0it [00:00, ?it/s]"
     ]
    },
    {
     "name": "stdout",
     "output_type": "stream",
     "text": [
      "\r",
      "Upgrading database; v2 -> v3: : 0it [00:00, ?it/s]"
     ]
    },
    {
     "name": "stdout",
     "output_type": "stream",
     "text": [
      "\r",
      "Upgrading database; v2 -> v3: : 0it [00:00, ?it/s]"
     ]
    },
    {
     "name": "stdout",
     "output_type": "stream",
     "text": [
      "\n",
      "\r",
      "0it [00:00, ?it/s]"
     ]
    },
    {
     "name": "stdout",
     "output_type": "stream",
     "text": [
      "\r",
      "Upgrading database; v3 -> v4: : 0it [00:00, ?it/s]"
     ]
    },
    {
     "name": "stdout",
     "output_type": "stream",
     "text": [
      "\r",
      "Upgrading database; v3 -> v4: : 0it [00:00, ?it/s]"
     ]
    },
    {
     "name": "stdout",
     "output_type": "stream",
     "text": [
      "\n",
      "\r",
      "  0%|          | 0/1 [00:00<?, ?it/s]"
     ]
    },
    {
     "name": "stdout",
     "output_type": "stream",
     "text": [
      "\r",
      "Upgrading database; v4 -> v5:   0%|          | 0/1 [00:00<?, ?it/s]"
     ]
    },
    {
     "name": "stdout",
     "output_type": "stream",
     "text": [
      "\r",
      "Upgrading database; v4 -> v5: 100%|██████████| 1/1 [00:00<00:00, 809.24it/s]"
     ]
    },
    {
     "name": "stdout",
     "output_type": "stream",
     "text": [
      "\n",
      "\r",
      "0it [00:00, ?it/s]"
     ]
    },
    {
     "name": "stdout",
     "output_type": "stream",
     "text": [
      "\r",
      "Upgrading database; v5 -> v6: : 0it [00:00, ?it/s]"
     ]
    },
    {
     "name": "stdout",
     "output_type": "stream",
     "text": [
      "\r",
      "Upgrading database; v5 -> v6: : 0it [00:00, ?it/s]"
     ]
    },
    {
     "name": "stdout",
     "output_type": "stream",
     "text": [
      "\n",
      "\r",
      "  0%|          | 0/1 [00:00<?, ?it/s]"
     ]
    },
    {
     "name": "stdout",
     "output_type": "stream",
     "text": [
      "\r",
      "Upgrading database; v6 -> v7:   0%|          | 0/1 [00:00<?, ?it/s]"
     ]
    },
    {
     "name": "stdout",
     "output_type": "stream",
     "text": [
      "\r",
      "Upgrading database; v6 -> v7: 100%|██████████| 1/1 [00:00<00:00, 379.61it/s]"
     ]
    },
    {
     "name": "stdout",
     "output_type": "stream",
     "text": [
      "\n",
      "\r",
      "  0%|          | 0/1 [00:00<?, ?it/s]"
     ]
    },
    {
     "name": "stdout",
     "output_type": "stream",
     "text": [
      "\r",
      "Upgrading database; v7 -> v8:   0%|          | 0/1 [00:00<?, ?it/s]"
     ]
    },
    {
     "name": "stdout",
     "output_type": "stream",
     "text": [
      "\r",
      "Upgrading database; v7 -> v8: 100%|██████████| 1/1 [00:00<00:00, 809.40it/s]"
     ]
    },
    {
     "name": "stdout",
     "output_type": "stream",
     "text": [
      "\n",
      "\r",
      "  0%|          | 0/1 [00:00<?, ?it/s]"
     ]
    },
    {
     "name": "stdout",
     "output_type": "stream",
     "text": [
      "\r",
      "Upgrading database; v8 -> v9:   0%|          | 0/1 [00:00<?, ?it/s]"
     ]
    },
    {
     "name": "stdout",
     "output_type": "stream",
     "text": [
      "\r",
      "Upgrading database; v8 -> v9: 100%|██████████| 1/1 [00:00<00:00, 1330.26it/s]"
     ]
    },
    {
     "name": "stdout",
     "output_type": "stream",
     "text": [
      "\n"
     ]
    }
   ],
   "source": [
    "initialise_database()\n",
    "exp = load_or_create_experiment(experiment_name='tutorial_exp', sample_name=\"no sample\")"
   ]
  },
  {
   "cell_type": "markdown",
   "metadata": {},
   "source": [
    "Here, we define a simple function to benchmark the time it takes to insert n points with either numeric or array data type.\n",
    "We will compare both the time used to call ``add_result`` and the time used for the full measurement."
   ]
  },
  {
   "cell_type": "code",
   "execution_count": 4,
   "metadata": {},
   "outputs": [],
   "source": [
    "def insert_data(paramtype, npoints, nreps=1):\n",
    "\n",
    "    meas = Measurement(exp=exp)\n",
    "\n",
    "    x1 = ManualParameter('x1')\n",
    "    x2 = ManualParameter('x2')\n",
    "    x3 = ManualParameter('x3')\n",
    "    y1 = ManualParameter('y1')\n",
    "    y2 = ManualParameter('y2')\n",
    "\n",
    "    meas.register_parameter(x1, paramtype=paramtype)\n",
    "    meas.register_parameter(x2, paramtype=paramtype)\n",
    "    meas.register_parameter(x3, paramtype=paramtype)\n",
    "    meas.register_parameter(y1, setpoints=[x1, x2, x3],\n",
    "                            paramtype=paramtype)\n",
    "    meas.register_parameter(y2, setpoints=[x1, x2, x3],\n",
    "                            paramtype=paramtype)\n",
    "    start = time.perf_counter()\n",
    "    with meas.run() as datasaver:\n",
    "        start_adding = time.perf_counter()\n",
    "        for i in range(nreps):\n",
    "            datasaver.add_result((x1, np.random.rand(npoints)),\n",
    "                                 (x2, np.random.rand(npoints)),\n",
    "                                 (x3, np.random.rand(npoints)),\n",
    "                                 (y1, np.random.rand(npoints)),\n",
    "                                 (y2, np.random.rand(npoints)))\n",
    "        stop_adding = time.perf_counter()\n",
    "        run_id = datasaver.run_id\n",
    "    stop = time.perf_counter()\n",
    "    tot_time = stop - start\n",
    "    add_time = stop_adding - start_adding\n",
    "    return tot_time, add_time, run_id"
   ]
  },
  {
   "cell_type": "markdown",
   "metadata": {},
   "source": [
    "## Comparison between numeric/array data and binary blob"
   ]
  },
  {
   "cell_type": "markdown",
   "metadata": {},
   "source": [
    "### Case1: Short experiment time"
   ]
  },
  {
   "cell_type": "code",
   "execution_count": 5,
   "metadata": {},
   "outputs": [
    {
     "name": "stdout",
     "output_type": "stream",
     "text": [
      "Starting experimental run with id: 1. \n",
      "Starting experimental run with id: 2. \n",
      "Starting experimental run with id: 3. \n"
     ]
    },
    {
     "name": "stdout",
     "output_type": "stream",
     "text": [
      "Starting experimental run with id: 4. \n"
     ]
    },
    {
     "name": "stdout",
     "output_type": "stream",
     "text": [
      "Starting experimental run with id: 5. \n"
     ]
    },
    {
     "name": "stdout",
     "output_type": "stream",
     "text": [
      "Starting experimental run with id: 6. \n",
      "Starting experimental run with id: 7. \n"
     ]
    },
    {
     "name": "stdout",
     "output_type": "stream",
     "text": [
      "Starting experimental run with id: 8. \n",
      "Starting experimental run with id: 9. \n"
     ]
    },
    {
     "name": "stdout",
     "output_type": "stream",
     "text": [
      "Starting experimental run with id: 10. \n",
      "Starting experimental run with id: 11. \n"
     ]
    },
    {
     "name": "stdout",
     "output_type": "stream",
     "text": [
      "Starting experimental run with id: 12. \n",
      "Starting experimental run with id: 13. \n"
     ]
    },
    {
     "name": "stdout",
     "output_type": "stream",
     "text": [
      "Starting experimental run with id: 14. \n"
     ]
    }
   ],
   "source": [
    "sizes = [1,500,1000,2000,3000,4000,5000]\n",
    "t_numeric = []\n",
    "t_numeric_add = []\n",
    "t_array = []\n",
    "t_array_add = []\n",
    "for size in sizes:\n",
    "    tn, tna, run_id_n =  insert_data('numeric', size)\n",
    "    t_numeric.append(tn)\n",
    "    t_numeric_add.append(tna)\n",
    "\n",
    "    ta, taa, run_id_a =  insert_data('array', size)\n",
    "    t_array.append(ta)\n",
    "    t_array_add.append(taa)"
   ]
  },
  {
   "cell_type": "code",
   "execution_count": 6,
   "metadata": {},
   "outputs": [
    {
     "data": {
      "image/png": "[encoded data removed]",
      "text/plain": [
       "<Figure size 432x288 with 1 Axes>"
      ]
     },
     "metadata": {
      "needs_background": "light"
     },
     "output_type": "display_data"
    }
   ],
   "source": [
    "fig, ax = plt.subplots(1,1)\n",
    "ax.plot(sizes, t_numeric, 'o-', label='Inserting row-by-row')\n",
    "ax.plot(sizes, t_numeric_add, 'o-', label='Inserting row-by-row: add_result only')\n",
    "ax.plot(sizes, t_array, 'd-', label='Inserting as binary blob')\n",
    "ax.plot(sizes, t_array_add, 'd-', label='Inserting as binary blob: add_result only')\n",
    "ax.legend()\n",
    "ax.set_xlabel('Array length')\n",
    "ax.set_ylabel('Time (s)')\n",
    "fig.tight_layout()"
   ]
  },
  {
   "cell_type": "markdown",
   "metadata": {},
   "source": [
    "As shown in the latter figure, the time to setup and and close the experiment is approximately 0.4 sec. In case of small array sizes, the difference between inserting values of data as arrays and inserting them row-by-row is relatively unimportant. At larger array sizes, i.e. above 10000 points, the cost of writing data as individual datapoints starts to become important.\n"
   ]
  },
  {
   "cell_type": "markdown",
   "metadata": {},
   "source": [
    "### Case2: Long experiment time "
   ]
  },
  {
   "cell_type": "code",
   "execution_count": 7,
   "metadata": {},
   "outputs": [
    {
     "name": "stdout",
     "output_type": "stream",
     "text": [
      "Starting experimental run with id: 15. \n",
      "Starting experimental run with id: 16. \n",
      "Starting experimental run with id: 17. \n"
     ]
    },
    {
     "name": "stdout",
     "output_type": "stream",
     "text": [
      "Starting experimental run with id: 18. \n",
      "Starting experimental run with id: 19. \n"
     ]
    },
    {
     "name": "stdout",
     "output_type": "stream",
     "text": [
      "Starting experimental run with id: 20. \n"
     ]
    },
    {
     "name": "stdout",
     "output_type": "stream",
     "text": [
      "Starting experimental run with id: 21. \n"
     ]
    },
    {
     "name": "stdout",
     "output_type": "stream",
     "text": [
      "Starting experimental run with id: 22. \n"
     ]
    },
    {
     "name": "stdout",
     "output_type": "stream",
     "text": [
      "Starting experimental run with id: 23. \n"
     ]
    },
    {
     "name": "stdout",
     "output_type": "stream",
     "text": [
      "Starting experimental run with id: 24. \n"
     ]
    },
    {
     "name": "stdout",
     "output_type": "stream",
     "text": [
      "Starting experimental run with id: 25. \n"
     ]
    },
    {
     "name": "stdout",
     "output_type": "stream",
     "text": [
      "Starting experimental run with id: 26. \n"
     ]
    },
    {
     "name": "stdout",
     "output_type": "stream",
     "text": [
      "Starting experimental run with id: 27. \n"
     ]
    },
    {
     "name": "stdout",
     "output_type": "stream",
     "text": [
      "Starting experimental run with id: 28. \n"
     ]
    }
   ],
   "source": [
    "sizes = [1,500,1000,2000,3000,4000,5000]\n",
    "nreps = 100\n",
    "t_numeric = []\n",
    "t_numeric_add = []\n",
    "t_numeric_run_ids = []\n",
    "t_array = []\n",
    "t_array_add = []\n",
    "t_array_run_ids = []\n",
    "for size in sizes:\n",
    "    tn, tna, run_id_n =  insert_data('numeric', size, nreps=nreps)\n",
    "    t_numeric.append(tn)\n",
    "    t_numeric_add.append(tna)\n",
    "    t_numeric_run_ids.append(run_id_n)\n",
    "\n",
    "    ta, taa, run_id_a =  insert_data('array', size, nreps=nreps)\n",
    "    t_array.append(ta)\n",
    "    t_array_add.append(taa)\n",
    "    t_array_run_ids.append(run_id_a)"
   ]
  },
  {
   "cell_type": "code",
   "execution_count": 8,
   "metadata": {
    "scrolled": true
   },
   "outputs": [
    {
     "data": {
      "image/png": "[encoded data removed]",
      "text/plain": [
       "<Figure size 432x288 with 1 Axes>"
      ]
     },
     "metadata": {
      "needs_background": "light"
     },
     "output_type": "display_data"
    }
   ],
   "source": [
    "fig, ax = plt.subplots(1,1)\n",
    "ax.plot(sizes, t_numeric, 'o-', label='Inserting row-by-row')\n",
    "ax.plot(sizes, t_numeric_add, 'o-', label='Inserting row-by-row: add_result only')\n",
    "ax.plot(sizes, t_array, 'd-', label='Inserting as binary blob')\n",
    "ax.plot(sizes, t_array_add, 'd-', label='Inserting as binary blob: add_result only')\n",
    "ax.legend()\n",
    "ax.set_xlabel('Array length')\n",
    "ax.set_ylabel('Time (s)')\n",
    "fig.tight_layout()"
   ]
  },
  {
   "cell_type": "markdown",
   "metadata": {},
   "source": [
    "However, as we increase the length of the experiment, as seen here by repeating the insertion 100 times, we see a big difference between inserting values of the data row-by-row and inserting it as a binary blob."
   ]
  },
  {
   "cell_type": "markdown",
   "metadata": {},
   "source": [
    "## Loading the data "
   ]
  },
  {
   "cell_type": "code",
   "execution_count": 9,
   "metadata": {},
   "outputs": [],
   "source": [
    "from qcodes.dataset.data_set import load_by_id\n",
    "from qcodes.dataset.data_export import get_data_by_id"
   ]
  },
  {
   "cell_type": "markdown",
   "metadata": {},
   "source": [
    "As usual you can load the data by using the ``load_by_id`` function but you will notice that the different storage methods\n",
    "are reflected in shape of the data as it is retrieved. "
   ]
  },
  {
   "cell_type": "code",
   "execution_count": 10,
   "metadata": {},
   "outputs": [],
   "source": [
    "run_id_n = t_numeric_run_ids[0]\n",
    "run_id_a = t_array_run_ids[0]"
   ]
  },
  {
   "cell_type": "code",
   "execution_count": 11,
   "metadata": {
    "scrolled": true
   },
   "outputs": [
    {
     "data": {
      "text/plain": [
       "{'x1': {'x1': array([0.42640251, 0.42640251, 0.22661394, 0.22661394, 0.90448243,\n",
       "         0.90448243, 0.4861354 , 0.4861354 , 0.42311769, 0.42311769,\n",
       "         0.20433613, 0.20433613, 0.79732649, 0.79732649, 0.31418509,\n",
       "         0.31418509, 0.66580629, 0.66580629, 0.9137914 , 0.9137914 ,\n",
       "         0.05419083, 0.05419083, 0.84703093, 0.84703093, 0.53458648,\n",
       "         0.53458648, 0.20644278, 0.20644278, 0.40302468, 0.40302468,\n",
       "         0.90093433, 0.90093433, 0.89343138, 0.89343138, 0.75130836,\n",
       "         0.75130836, 0.72590394, 0.72590394, 0.64859947, 0.64859947,\n",
       "         0.79073411, 0.79073411, 0.84942887, 0.84942887, 0.03757111,\n",
       "         0.03757111, 0.72369371, 0.72369371, 0.03083536, 0.03083536,\n",
       "         0.75912428, 0.75912428, 0.10786816, 0.10786816, 0.99486492,\n",
       "         0.99486492, 0.05576573, 0.05576573, 0.53978513, 0.53978513,\n",
       "         0.06034911, 0.06034911, 0.35531866, 0.35531866, 0.99851907,\n",
       "         0.99851907, 0.34118704, 0.34118704, 0.06175998, 0.06175998,\n",
       "         0.63396154, 0.63396154, 0.22709065, 0.22709065, 0.43824897,\n",
       "         0.43824897, 0.79376483, 0.79376483, 0.63392315, 0.63392315,\n",
       "         0.10357006, 0.10357006, 0.75286847, 0.75286847, 0.3335669 ,\n",
       "         0.3335669 , 0.42107686, 0.42107686, 0.75201703, 0.75201703,\n",
       "         0.34572845, 0.34572845, 0.72758236, 0.72758236, 0.41330187,\n",
       "         0.41330187, 0.83232941, 0.83232941, 0.94244778, 0.94244778,\n",
       "         0.46947338, 0.46947338, 0.93726484, 0.93726484, 0.82351042,\n",
       "         0.82351042, 0.17163899, 0.17163899, 0.66169467, 0.66169467,\n",
       "         0.47311328, 0.47311328, 0.73868383, 0.73868383, 0.12074565,\n",
       "         0.12074565, 0.6563243 , 0.6563243 , 0.46627023, 0.46627023,\n",
       "         0.79347744, 0.79347744, 0.9080439 , 0.9080439 , 0.15846206,\n",
       "         0.15846206, 0.22772781, 0.22772781, 0.56983102, 0.56983102,\n",
       "         0.57029201, 0.57029201, 0.46288948, 0.46288948, 0.67948389,\n",
       "         0.67948389, 0.34030413, 0.34030413, 0.29335314, 0.29335314,\n",
       "         0.0432763 , 0.0432763 , 0.64184683, 0.64184683, 0.35352549,\n",
       "         0.35352549, 0.03347043, 0.03347043, 0.44436465, 0.44436465,\n",
       "         0.4437005 , 0.4437005 , 0.98347925, 0.98347925, 0.95723376,\n",
       "         0.95723376, 0.44686803, 0.44686803, 0.95951598, 0.95951598,\n",
       "         0.49812742, 0.49812742, 0.72384482, 0.72384482, 0.27172677,\n",
       "         0.27172677, 0.96539561, 0.96539561, 0.14049098, 0.14049098,\n",
       "         0.50138088, 0.50138088, 0.75241536, 0.75241536, 0.46767036,\n",
       "         0.46767036, 0.06955952, 0.06955952, 0.58441796, 0.58441796,\n",
       "         0.67404428, 0.67404428, 0.37665129, 0.37665129, 0.70995455,\n",
       "         0.70995455, 0.41782898, 0.41782898, 0.54825626, 0.54825626,\n",
       "         0.9659808 , 0.9659808 , 0.21013753, 0.21013753, 0.73234088,\n",
       "         0.73234088, 0.36378917, 0.36378917, 0.69314637, 0.69314637])}}"
      ]
     },
     "execution_count": 11,
     "metadata": {},
     "output_type": "execute_result"
    }
   ],
   "source": [
    "ds = load_by_id(run_id_n)\n",
    "ds.get_parameter_data('x1')"
   ]
  },
  {
   "cell_type": "markdown",
   "metadata": {},
   "source": [
    "And a dataset stored as binary arrays"
   ]
  },
  {
   "cell_type": "code",
   "execution_count": 12,
   "metadata": {
    "scrolled": true
   },
   "outputs": [
    {
     "data": {
      "text/plain": [
       "{'x1': {'x1': array([[0.7101606 ],\n",
       "         [0.7101606 ],\n",
       "         [0.08482614],\n",
       "         [0.08482614],\n",
       "         [0.58779635],\n",
       "         [0.58779635],\n",
       "         [0.91165703],\n",
       "         [0.91165703],\n",
       "         [0.57217136],\n",
       "         [0.57217136],\n",
       "         [0.85155701],\n",
       "         [0.85155701],\n",
       "         [0.39279084],\n",
       "         [0.39279084],\n",
       "         [0.63228067],\n",
       "         [0.63228067],\n",
       "         [0.58712644],\n",
       "         [0.58712644],\n",
       "         [0.43130295],\n",
       "         [0.43130295],\n",
       "         [0.80475158],\n",
       "         [0.80475158],\n",
       "         [0.99462364],\n",
       "         [0.99462364],\n",
       "         [0.37461493],\n",
       "         [0.37461493],\n",
       "         [0.82499173],\n",
       "         [0.82499173],\n",
       "         [0.10189914],\n",
       "         [0.10189914],\n",
       "         [0.89029078],\n",
       "         [0.89029078],\n",
       "         [0.44786421],\n",
       "         [0.44786421],\n",
       "         [0.26995655],\n",
       "         [0.26995655],\n",
       "         [0.93487169],\n",
       "         [0.93487169],\n",
       "         [0.32461998],\n",
       "         [0.32461998],\n",
       "         [0.70573895],\n",
       "         [0.70573895],\n",
       "         [0.35453206],\n",
       "         [0.35453206],\n",
       "         [0.65931238],\n",
       "         [0.65931238],\n",
       "         [0.90332275],\n",
       "         [0.90332275],\n",
       "         [0.64916924],\n",
       "         [0.64916924],\n",
       "         [0.42536081],\n",
       "         [0.42536081],\n",
       "         [0.33471808],\n",
       "         [0.33471808],\n",
       "         [0.61743262],\n",
       "         [0.61743262],\n",
       "         [0.20562681],\n",
       "         [0.20562681],\n",
       "         [0.23443888],\n",
       "         [0.23443888],\n",
       "         [0.05746337],\n",
       "         [0.05746337],\n",
       "         [0.80199425],\n",
       "         [0.80199425],\n",
       "         [0.58426426],\n",
       "         [0.58426426],\n",
       "         [0.89103184],\n",
       "         [0.89103184],\n",
       "         [0.10176129],\n",
       "         [0.10176129],\n",
       "         [0.08930267],\n",
       "         [0.08930267],\n",
       "         [0.05744191],\n",
       "         [0.05744191],\n",
       "         [0.69801922],\n",
       "         [0.69801922],\n",
       "         [0.45575173],\n",
       "         [0.45575173],\n",
       "         [0.35426855],\n",
       "         [0.35426855],\n",
       "         [0.10271709],\n",
       "         [0.10271709],\n",
       "         [0.96616656],\n",
       "         [0.96616656],\n",
       "         [0.91865805],\n",
       "         [0.91865805],\n",
       "         [0.77514473],\n",
       "         [0.77514473],\n",
       "         [0.0461559 ],\n",
       "         [0.0461559 ],\n",
       "         [0.43400103],\n",
       "         [0.43400103],\n",
       "         [0.05258877],\n",
       "         [0.05258877],\n",
       "         [0.45563295],\n",
       "         [0.45563295],\n",
       "         [0.82958976],\n",
       "         [0.82958976],\n",
       "         [0.06975136],\n",
       "         [0.06975136],\n",
       "         [0.48834446],\n",
       "         [0.48834446],\n",
       "         [0.65710889],\n",
       "         [0.65710889],\n",
       "         [0.11519666],\n",
       "         [0.11519666],\n",
       "         [0.03640391],\n",
       "         [0.03640391],\n",
       "         [0.51394665],\n",
       "         [0.51394665],\n",
       "         [0.48551853],\n",
       "         [0.48551853],\n",
       "         [0.71646096],\n",
       "         [0.71646096],\n",
       "         [0.46579324],\n",
       "         [0.46579324],\n",
       "         [0.26449656],\n",
       "         [0.26449656],\n",
       "         [0.16647904],\n",
       "         [0.16647904],\n",
       "         [0.22951261],\n",
       "         [0.22951261],\n",
       "         [0.5158517 ],\n",
       "         [0.5158517 ],\n",
       "         [0.17159527],\n",
       "         [0.17159527],\n",
       "         [0.48226248],\n",
       "         [0.48226248],\n",
       "         [0.63935129],\n",
       "         [0.63935129],\n",
       "         [0.72279944],\n",
       "         [0.72279944],\n",
       "         [0.26683309],\n",
       "         [0.26683309],\n",
       "         [0.47704473],\n",
       "         [0.47704473],\n",
       "         [0.96143661],\n",
       "         [0.96143661],\n",
       "         [0.84132754],\n",
       "         [0.84132754],\n",
       "         [0.64855632],\n",
       "         [0.64855632],\n",
       "         [0.89980577],\n",
       "         [0.89980577],\n",
       "         [0.40565929],\n",
       "         [0.40565929],\n",
       "         [0.49982345],\n",
       "         [0.49982345],\n",
       "         [0.50802232],\n",
       "         [0.50802232],\n",
       "         [0.97585186],\n",
       "         [0.97585186],\n",
       "         [0.96289305],\n",
       "         [0.96289305],\n",
       "         [0.54537484],\n",
       "         [0.54537484],\n",
       "         [0.0708587 ],\n",
       "         [0.0708587 ],\n",
       "         [0.0373422 ],\n",
       "         [0.0373422 ],\n",
       "         [0.56859359],\n",
       "         [0.56859359],\n",
       "         [0.89207844],\n",
       "         [0.89207844],\n",
       "         [0.86217954],\n",
       "         [0.86217954],\n",
       "         [0.58169988],\n",
       "         [0.58169988],\n",
       "         [0.12337689],\n",
       "         [0.12337689],\n",
       "         [0.72271385],\n",
       "         [0.72271385],\n",
       "         [0.70930952],\n",
       "         [0.70930952],\n",
       "         [0.19717449],\n",
       "         [0.19717449],\n",
       "         [0.78225472],\n",
       "         [0.78225472],\n",
       "         [0.5075913 ],\n",
       "         [0.5075913 ],\n",
       "         [0.06416431],\n",
       "         [0.06416431],\n",
       "         [0.96001977],\n",
       "         [0.96001977],\n",
       "         [0.42860942],\n",
       "         [0.42860942],\n",
       "         [0.5953991 ],\n",
       "         [0.5953991 ],\n",
       "         [0.60522125],\n",
       "         [0.60522125],\n",
       "         [0.97489517],\n",
       "         [0.97489517],\n",
       "         [0.63042239],\n",
       "         [0.63042239],\n",
       "         [0.55771835],\n",
       "         [0.55771835],\n",
       "         [0.99059415],\n",
       "         [0.99059415],\n",
       "         [0.09033083],\n",
       "         [0.09033083]])}}"
      ]
     },
     "execution_count": 12,
     "metadata": {},
     "output_type": "execute_result"
    }
   ],
   "source": [
    "ds = load_by_id(run_id_a)\n",
    "ds.get_parameter_data('x1')"
   ]
  },
  {
   "cell_type": "code",
   "execution_count": null,
   "metadata": {},
   "outputs": [],
   "source": []
  }
 ],
 "metadata": {
  "kernelspec": {
   "display_name": "Python 3",
   "language": "python",
   "name": "python3"
  },
  "language_info": {
   "codemirror_mode": {
    "name": "ipython",
    "version": 3
   },
   "file_extension": ".py",
   "mimetype": "text/x-python",
   "name": "python",
   "nbconvert_exporter": "python",
   "pygments_lexer": "ipython3",
   "version": "3.7.7"
  },
  "nbsphinx": {
   "timeout": 600
  },
  "toc": {
   "base_numbering": 1,
   "nav_menu": {},
   "number_sections": true,
   "sideBar": true,
   "skip_h1_title": false,
   "title_cell": "Table of Contents",
   "title_sidebar": "Contents",
   "toc_cell": false,
   "toc_position": {},
   "toc_section_display": true,
   "toc_window_display": false
  },
  "varInspector": {
   "cols": {
    "lenName": 16,
    "lenType": 16,
    "lenVar": 40
   },
   "kernels_config": {
    "python": {
     "delete_cmd_postfix": "",
     "delete_cmd_prefix": "del ",
     "library": "var_list.py",
     "varRefreshCmd": "print(var_dic_list())"
    },
    "r": {
     "delete_cmd_postfix": ") ",
     "delete_cmd_prefix": "rm(",
     "library": "var_list.r",
     "varRefreshCmd": "cat(var_dic_list()) "
    }
   },
   "types_to_exclude": [
    "module",
    "function",
    "builtin_function_or_method",
    "instance",
    "_Feature"
   ],
   "window_display": false
  }
 },
 "nbformat": 4,
 "nbformat_minor": 2
}
