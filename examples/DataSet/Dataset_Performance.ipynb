{
 "cells": [
  {
   "cell_type": "markdown",
   "metadata": {},
   "source": [
    "# DataSet Performance\n",
    "\n",
    "This notebook shows the trade-off between inserting data into a database row-by-row and as binary blobs. Inserting the data row-by-row means that we have direct access to all the data and may perform queries directly on the values of the data. On the other hand, as we shall see, this is much slower than inserting the data directly as binary blobs."
   ]
  },
  {
   "cell_type": "markdown",
   "metadata": {},
   "source": [
    "First, we choose a new location for the database to ensure that we don't add a bunch of benchmarking data to the default one."
   ]
  },
  {
   "cell_type": "code",
   "execution_count": 1,
   "metadata": {},
   "outputs": [
    {
     "name": "stdout",
     "output_type": "stream",
     "text": [
      "Logging hadn't been started.\n",
      "Activating auto-logging. Current session state plus future input saved.\n",
      "Filename       : /home/vsts/.qcodes/logs/command_history.log\n",
      "Mode           : append\n",
      "Output logging : True\n",
      "Raw input log  : False\n",
      "Timestamping   : True\n",
      "State          : active\n"
     ]
    },
    {
     "name": "stdout",
     "output_type": "stream",
     "text": [
      "Qcodes Logfile : /home/vsts/.qcodes/logs/200323-18288-qcodes.log\n"
     ]
    }
   ],
   "source": [
    "import os\n",
    "cwd = os.getcwd()\n",
    "import qcodes as qc\n",
    "qc.config[\"core\"][\"db_location\"] = os.path.join(cwd, 'testing.db')\n"
   ]
  },
  {
   "cell_type": "code",
   "execution_count": 2,
   "metadata": {},
   "outputs": [],
   "source": [
    "%matplotlib inline\n",
    "import time\n",
    "import matplotlib.pyplot as plt\n",
    "import numpy as np\n",
    "\n",
    "import qcodes as qc\n",
    "from qcodes.instrument.parameter import ManualParameter\n",
    "from qcodes.dataset.experiment_container import (Experiment,\n",
    "                                                 load_last_experiment,\n",
    "                                                 new_experiment)\n",
    "from qcodes.dataset.sqlite.database import initialise_database\n",
    "from qcodes import load_or_create_experiment\n",
    "from qcodes.dataset.measurements import Measurement"
   ]
  },
  {
   "cell_type": "code",
   "execution_count": 3,
   "metadata": {},
   "outputs": [
    {
     "name": "stdout",
     "output_type": "stream",
     "text": [
      "\r",
      "0it [00:00, ?it/s]"
     ]
    },
    {
     "name": "stdout",
     "output_type": "stream",
     "text": [
      "\r",
      "Upgrading database; v0 -> v1: : 0it [00:00, ?it/s]"
     ]
    },
    {
     "name": "stdout",
     "output_type": "stream",
     "text": [
      "\r",
      "Upgrading database; v0 -> v1: : 0it [00:00, ?it/s]"
     ]
    },
    {
     "name": "stdout",
     "output_type": "stream",
     "text": [
      "\n",
      "\r",
      "  0%|          | 0/1 [00:00<?, ?it/s]"
     ]
    },
    {
     "name": "stdout",
     "output_type": "stream",
     "text": [
      "\r",
      "Upgrading database; v1 -> v2:   0%|          | 0/1 [00:00<?, ?it/s]"
     ]
    },
    {
     "name": "stdout",
     "output_type": "stream",
     "text": [
      "\r",
      "Upgrading database; v1 -> v2: 100%|██████████| 1/1 [00:00<00:00, 1122.37it/s]"
     ]
    },
    {
     "name": "stdout",
     "output_type": "stream",
     "text": [
      "\n",
      "\r",
      "0it [00:00, ?it/s]"
     ]
    },
    {
     "name": "stdout",
     "output_type": "stream",
     "text": [
      "\r",
      "Upgrading database; v2 -> v3: : 0it [00:00, ?it/s]"
     ]
    },
    {
     "name": "stdout",
     "output_type": "stream",
     "text": [
      "\r",
      "Upgrading database; v2 -> v3: : 0it [00:00, ?it/s]"
     ]
    },
    {
     "name": "stdout",
     "output_type": "stream",
     "text": [
      "\n",
      "\r",
      "0it [00:00, ?it/s]"
     ]
    },
    {
     "name": "stdout",
     "output_type": "stream",
     "text": [
      "\r",
      "Upgrading database; v3 -> v4: : 0it [00:00, ?it/s]"
     ]
    },
    {
     "name": "stdout",
     "output_type": "stream",
     "text": [
      "\r",
      "Upgrading database; v3 -> v4: : 0it [00:00, ?it/s]"
     ]
    },
    {
     "name": "stdout",
     "output_type": "stream",
     "text": [
      "\n",
      "\r",
      "  0%|          | 0/1 [00:00<?, ?it/s]"
     ]
    },
    {
     "name": "stdout",
     "output_type": "stream",
     "text": [
      "\r",
      "Upgrading database; v4 -> v5:   0%|          | 0/1 [00:00<?, ?it/s]"
     ]
    },
    {
     "name": "stdout",
     "output_type": "stream",
     "text": [
      "\r",
      "Upgrading database; v4 -> v5: 100%|██████████| 1/1 [00:00<00:00, 831.21it/s]"
     ]
    },
    {
     "name": "stdout",
     "output_type": "stream",
     "text": [
      "\n",
      "\r",
      "0it [00:00, ?it/s]"
     ]
    },
    {
     "name": "stdout",
     "output_type": "stream",
     "text": [
      "\r",
      "Upgrading database; v5 -> v6: : 0it [00:00, ?it/s]"
     ]
    },
    {
     "name": "stdout",
     "output_type": "stream",
     "text": [
      "\r",
      "Upgrading database; v5 -> v6: : 0it [00:00, ?it/s]"
     ]
    },
    {
     "name": "stdout",
     "output_type": "stream",
     "text": [
      "\n",
      "\r",
      "  0%|          | 0/1 [00:00<?, ?it/s]"
     ]
    },
    {
     "name": "stdout",
     "output_type": "stream",
     "text": [
      "\r",
      "Upgrading database; v6 -> v7:   0%|          | 0/1 [00:00<?, ?it/s]"
     ]
    },
    {
     "name": "stdout",
     "output_type": "stream",
     "text": [
      "\r",
      "Upgrading database; v6 -> v7: 100%|██████████| 1/1 [00:00<00:00, 368.79it/s]"
     ]
    },
    {
     "name": "stdout",
     "output_type": "stream",
     "text": [
      "\n",
      "\r",
      "  0%|          | 0/1 [00:00<?, ?it/s]"
     ]
    },
    {
     "name": "stdout",
     "output_type": "stream",
     "text": [
      "\r",
      "Upgrading database; v7 -> v8:   0%|          | 0/1 [00:00<?, ?it/s]"
     ]
    },
    {
     "name": "stdout",
     "output_type": "stream",
     "text": [
      "\r",
      "Upgrading database; v7 -> v8: 100%|██████████| 1/1 [00:00<00:00, 799.83it/s]"
     ]
    },
    {
     "name": "stdout",
     "output_type": "stream",
     "text": [
      "\n",
      "\r",
      "  0%|          | 0/1 [00:00<?, ?it/s]"
     ]
    },
    {
     "name": "stdout",
     "output_type": "stream",
     "text": [
      "\r",
      "Upgrading database; v8 -> v9:   0%|          | 0/1 [00:00<?, ?it/s]"
     ]
    },
    {
     "name": "stdout",
     "output_type": "stream",
     "text": [
      "\r",
      "Upgrading database; v8 -> v9: 100%|██████████| 1/1 [00:00<00:00, 991.09it/s]"
     ]
    },
    {
     "name": "stdout",
     "output_type": "stream",
     "text": [
      "\n"
     ]
    }
   ],
   "source": [
    "initialise_database()\n",
    "exp = load_or_create_experiment(experiment_name='tutorial_exp', sample_name=\"no sample\")"
   ]
  },
  {
   "cell_type": "markdown",
   "metadata": {},
   "source": [
    "Here, we define a simple function to benchmark the time it takes to insert n points with either numeric or array data type.\n",
    "We will compare both the time used to call ``add_result`` and the time used for the full measurement."
   ]
  },
  {
   "cell_type": "code",
   "execution_count": 4,
   "metadata": {},
   "outputs": [],
   "source": [
    "def insert_data(paramtype, npoints, nreps=1):\n",
    "\n",
    "    meas = Measurement(exp=exp)\n",
    "\n",
    "    x1 = ManualParameter('x1')\n",
    "    x2 = ManualParameter('x2')\n",
    "    x3 = ManualParameter('x3')\n",
    "    y1 = ManualParameter('y1')\n",
    "    y2 = ManualParameter('y2')\n",
    "\n",
    "    meas.register_parameter(x1, paramtype=paramtype)\n",
    "    meas.register_parameter(x2, paramtype=paramtype)\n",
    "    meas.register_parameter(x3, paramtype=paramtype)\n",
    "    meas.register_parameter(y1, setpoints=[x1, x2, x3],\n",
    "                            paramtype=paramtype)\n",
    "    meas.register_parameter(y2, setpoints=[x1, x2, x3],\n",
    "                            paramtype=paramtype)\n",
    "    start = time.perf_counter()\n",
    "    with meas.run() as datasaver:\n",
    "        start_adding = time.perf_counter()\n",
    "        for i in range(nreps):\n",
    "            datasaver.add_result((x1, np.random.rand(npoints)),\n",
    "                                 (x2, np.random.rand(npoints)),\n",
    "                                 (x3, np.random.rand(npoints)),\n",
    "                                 (y1, np.random.rand(npoints)),\n",
    "                                 (y2, np.random.rand(npoints)))\n",
    "        stop_adding = time.perf_counter()\n",
    "        run_id = datasaver.run_id\n",
    "    stop = time.perf_counter()\n",
    "    tot_time = stop - start\n",
    "    add_time = stop_adding - start_adding\n",
    "    return tot_time, add_time, run_id"
   ]
  },
  {
   "cell_type": "markdown",
   "metadata": {},
   "source": [
    "## Comparison between numeric/array data and binary blob"
   ]
  },
  {
   "cell_type": "markdown",
   "metadata": {},
   "source": [
    "### Case1: Short experiment time"
   ]
  },
  {
   "cell_type": "code",
   "execution_count": 5,
   "metadata": {},
   "outputs": [
    {
     "name": "stdout",
     "output_type": "stream",
     "text": [
      "Starting experimental run with id: 1. \n",
      "Starting experimental run with id: 2. \n",
      "Starting experimental run with id: 3. \n",
      "Starting experimental run with id: 4. \n"
     ]
    },
    {
     "name": "stdout",
     "output_type": "stream",
     "text": [
      "Starting experimental run with id: 5. \n"
     ]
    },
    {
     "name": "stdout",
     "output_type": "stream",
     "text": [
      "Starting experimental run with id: 6. \n",
      "Starting experimental run with id: 7. \n"
     ]
    },
    {
     "name": "stdout",
     "output_type": "stream",
     "text": [
      "Starting experimental run with id: 8. \n",
      "Starting experimental run with id: 9. \n"
     ]
    },
    {
     "name": "stdout",
     "output_type": "stream",
     "text": [
      "Starting experimental run with id: 10. \n",
      "Starting experimental run with id: 11. \n"
     ]
    },
    {
     "name": "stdout",
     "output_type": "stream",
     "text": [
      "Starting experimental run with id: 12. \n",
      "Starting experimental run with id: 13. \n"
     ]
    },
    {
     "name": "stdout",
     "output_type": "stream",
     "text": [
      "Starting experimental run with id: 14. \n"
     ]
    }
   ],
   "source": [
    "sizes = [1,500,1000,2000,3000,4000,5000]\n",
    "t_numeric = []\n",
    "t_numeric_add = []\n",
    "t_array = []\n",
    "t_array_add = []\n",
    "for size in sizes:\n",
    "    tn, tna, run_id_n =  insert_data('numeric', size)\n",
    "    t_numeric.append(tn)\n",
    "    t_numeric_add.append(tna)\n",
    "\n",
    "    ta, taa, run_id_a =  insert_data('array', size)\n",
    "    t_array.append(ta)\n",
    "    t_array_add.append(taa)"
   ]
  },
  {
   "cell_type": "code",
   "execution_count": 6,
   "metadata": {},
   "outputs": [
    {
     "data": {
      "image/png": "[encoded data removed]",
      "text/plain": [
       "<Figure size 432x288 with 1 Axes>"
      ]
     },
     "metadata": {
      "needs_background": "light"
     },
     "output_type": "display_data"
    }
   ],
   "source": [
    "fig, ax = plt.subplots(1,1)\n",
    "ax.plot(sizes, t_numeric, 'o-', label='Inserting row-by-row')\n",
    "ax.plot(sizes, t_numeric_add, 'o-', label='Inserting row-by-row: add_result only')\n",
    "ax.plot(sizes, t_array, 'd-', label='Inserting as binary blob')\n",
    "ax.plot(sizes, t_array_add, 'd-', label='Inserting as binary blob: add_result only')\n",
    "ax.legend()\n",
    "ax.set_xlabel('Array length')\n",
    "ax.set_ylabel('Time (s)')\n",
    "fig.tight_layout()"
   ]
  },
  {
   "cell_type": "markdown",
   "metadata": {},
   "source": [
    "As shown in the latter figure, the time to setup and and close the experiment is approximately 0.4 sec. In case of small array sizes, the difference between inserting values of data as arrays and inserting them row-by-row is relatively unimportant. At larger array sizes, i.e. above 10000 points, the cost of writing data as individual datapoints starts to become important.\n"
   ]
  },
  {
   "cell_type": "markdown",
   "metadata": {},
   "source": [
    "### Case2: Long experiment time "
   ]
  },
  {
   "cell_type": "code",
   "execution_count": 7,
   "metadata": {},
   "outputs": [
    {
     "name": "stdout",
     "output_type": "stream",
     "text": [
      "Starting experimental run with id: 15. \n",
      "Starting experimental run with id: 16. \n",
      "Starting experimental run with id: 17. \n"
     ]
    },
    {
     "name": "stdout",
     "output_type": "stream",
     "text": [
      "Starting experimental run with id: 18. \n",
      "Starting experimental run with id: 19. \n"
     ]
    },
    {
     "name": "stdout",
     "output_type": "stream",
     "text": [
      "Starting experimental run with id: 20. \n"
     ]
    },
    {
     "name": "stdout",
     "output_type": "stream",
     "text": [
      "Starting experimental run with id: 21. \n"
     ]
    },
    {
     "name": "stdout",
     "output_type": "stream",
     "text": [
      "Starting experimental run with id: 22. \n"
     ]
    },
    {
     "name": "stdout",
     "output_type": "stream",
     "text": [
      "Starting experimental run with id: 23. \n"
     ]
    },
    {
     "name": "stdout",
     "output_type": "stream",
     "text": [
      "Starting experimental run with id: 24. \n"
     ]
    },
    {
     "name": "stdout",
     "output_type": "stream",
     "text": [
      "Starting experimental run with id: 25. \n"
     ]
    },
    {
     "name": "stdout",
     "output_type": "stream",
     "text": [
      "Starting experimental run with id: 26. \n"
     ]
    },
    {
     "name": "stdout",
     "output_type": "stream",
     "text": [
      "Starting experimental run with id: 27. \n"
     ]
    },
    {
     "name": "stdout",
     "output_type": "stream",
     "text": [
      "Starting experimental run with id: 28. \n"
     ]
    }
   ],
   "source": [
    "sizes = [1,500,1000,2000,3000,4000,5000]\n",
    "nreps = 100\n",
    "t_numeric = []\n",
    "t_numeric_add = []\n",
    "t_numeric_run_ids = []\n",
    "t_array = []\n",
    "t_array_add = []\n",
    "t_array_run_ids = []\n",
    "for size in sizes:\n",
    "    tn, tna, run_id_n =  insert_data('numeric', size, nreps=nreps)\n",
    "    t_numeric.append(tn)\n",
    "    t_numeric_add.append(tna)\n",
    "    t_numeric_run_ids.append(run_id_n)\n",
    "\n",
    "    ta, taa, run_id_a =  insert_data('array', size, nreps=nreps)\n",
    "    t_array.append(ta)\n",
    "    t_array_add.append(taa)\n",
    "    t_array_run_ids.append(run_id_a)"
   ]
  },
  {
   "cell_type": "code",
   "execution_count": 8,
   "metadata": {
    "scrolled": true
   },
   "outputs": [
    {
     "data": {
      "image/png": "[encoded data removed]",
      "text/plain": [
       "<Figure size 432x288 with 1 Axes>"
      ]
     },
     "metadata": {
      "needs_background": "light"
     },
     "output_type": "display_data"
    }
   ],
   "source": [
    "fig, ax = plt.subplots(1,1)\n",
    "ax.plot(sizes, t_numeric, 'o-', label='Inserting row-by-row')\n",
    "ax.plot(sizes, t_numeric_add, 'o-', label='Inserting row-by-row: add_result only')\n",
    "ax.plot(sizes, t_array, 'd-', label='Inserting as binary blob')\n",
    "ax.plot(sizes, t_array_add, 'd-', label='Inserting as binary blob: add_result only')\n",
    "ax.legend()\n",
    "ax.set_xlabel('Array length')\n",
    "ax.set_ylabel('Time (s)')\n",
    "fig.tight_layout()"
   ]
  },
  {
   "cell_type": "markdown",
   "metadata": {},
   "source": [
    "However, as we increase the length of the experiment, as seen here by repeating the insertion 100 times, we see a big difference between inserting values of the data row-by-row and inserting it as a binary blob."
   ]
  },
  {
   "cell_type": "markdown",
   "metadata": {},
   "source": [
    "## Loading the data "
   ]
  },
  {
   "cell_type": "code",
   "execution_count": 9,
   "metadata": {},
   "outputs": [],
   "source": [
    "from qcodes.dataset.data_set import load_by_id\n",
    "from qcodes.dataset.data_export import get_data_by_id"
   ]
  },
  {
   "cell_type": "markdown",
   "metadata": {},
   "source": [
    "As usual you can load the data by using the ``load_by_id`` function but you will notice that the different storage methods\n",
    "are reflected in shape of the data as it is retrieved. "
   ]
  },
  {
   "cell_type": "code",
   "execution_count": 10,
   "metadata": {},
   "outputs": [],
   "source": [
    "run_id_n = t_numeric_run_ids[0]\n",
    "run_id_a = t_array_run_ids[0]"
   ]
  },
  {
   "cell_type": "code",
   "execution_count": 11,
   "metadata": {
    "scrolled": true
   },
   "outputs": [
    {
     "data": {
      "text/plain": [
       "{'x1': {'x1': array([8.56721908e-01, 8.56721908e-01, 6.68467521e-01, 6.68467521e-01,\n",
       "         1.70023083e-01, 1.70023083e-01, 1.02987405e-01, 1.02987405e-01,\n",
       "         7.22492973e-01, 7.22492973e-01, 8.94790343e-01, 8.94790343e-01,\n",
       "         1.55847152e-01, 1.55847152e-01, 9.15716592e-01, 9.15716592e-01,\n",
       "         3.97930153e-01, 3.97930153e-01, 9.55779259e-01, 9.55779259e-01,\n",
       "         9.46447953e-01, 9.46447953e-01, 8.49983761e-01, 8.49983761e-01,\n",
       "         1.09901184e-01, 1.09901184e-01, 4.64985584e-01, 4.64985584e-01,\n",
       "         8.03317879e-03, 8.03317879e-03, 7.66708817e-01, 7.66708817e-01,\n",
       "         4.05668467e-01, 4.05668467e-01, 6.32651350e-01, 6.32651350e-01,\n",
       "         2.38239489e-01, 2.38239489e-01, 6.92076823e-01, 6.92076823e-01,\n",
       "         6.69190533e-01, 6.69190533e-01, 6.64872786e-01, 6.64872786e-01,\n",
       "         6.34383625e-01, 6.34383625e-01, 5.01821712e-01, 5.01821712e-01,\n",
       "         2.06429056e-01, 2.06429056e-01, 1.35862568e-01, 1.35862568e-01,\n",
       "         7.33737940e-01, 7.33737940e-01, 9.28235201e-01, 9.28235201e-01,\n",
       "         6.93019494e-01, 6.93019494e-01, 8.11534024e-01, 8.11534024e-01,\n",
       "         8.19974509e-02, 8.19974509e-02, 8.91692445e-01, 8.91692445e-01,\n",
       "         5.45678262e-01, 5.45678262e-01, 8.21702445e-01, 8.21702445e-01,\n",
       "         4.97961553e-01, 4.97961553e-01, 8.44305474e-01, 8.44305474e-01,\n",
       "         4.93956571e-01, 4.93956571e-01, 8.46015650e-01, 8.46015650e-01,\n",
       "         4.11817991e-01, 4.11817991e-01, 6.70257173e-01, 6.70257173e-01,\n",
       "         6.98951933e-01, 6.98951933e-01, 4.15751211e-01, 4.15751211e-01,\n",
       "         7.56394970e-01, 7.56394970e-01, 3.47228757e-01, 3.47228757e-01,\n",
       "         7.06652100e-01, 7.06652100e-01, 1.19346895e-01, 1.19346895e-01,\n",
       "         1.20171064e-01, 1.20171064e-01, 4.51411598e-01, 4.51411598e-01,\n",
       "         6.77594432e-01, 6.77594432e-01, 2.57407169e-01, 2.57407169e-01,\n",
       "         5.33452371e-01, 5.33452371e-01, 3.79436427e-01, 3.79436427e-01,\n",
       "         9.98485323e-02, 9.98485323e-02, 9.91590160e-02, 9.91590160e-02,\n",
       "         8.86533714e-01, 8.86533714e-01, 2.31865349e-02, 2.31865349e-02,\n",
       "         7.06934297e-04, 7.06934297e-04, 7.09042156e-01, 7.09042156e-01,\n",
       "         2.33487457e-01, 2.33487457e-01, 5.96377252e-01, 5.96377252e-01,\n",
       "         4.42878892e-01, 4.42878892e-01, 9.12963485e-01, 9.12963485e-01,\n",
       "         3.77732017e-01, 3.77732017e-01, 9.98757648e-01, 9.98757648e-01,\n",
       "         7.13076830e-01, 7.13076830e-01, 7.66806049e-01, 7.66806049e-01,\n",
       "         4.08965987e-01, 4.08965987e-01, 2.76651525e-01, 2.76651525e-01,\n",
       "         7.52949390e-01, 7.52949390e-01, 9.09309072e-01, 9.09309072e-01,\n",
       "         3.32876533e-01, 3.32876533e-01, 6.77822611e-01, 6.77822611e-01,\n",
       "         3.16716359e-01, 3.16716359e-01, 9.49034815e-01, 9.49034815e-01,\n",
       "         7.75302925e-01, 7.75302925e-01, 1.80166580e-01, 1.80166580e-01,\n",
       "         2.93938740e-01, 2.93938740e-01, 3.39312883e-01, 3.39312883e-01,\n",
       "         2.76977406e-01, 2.76977406e-01, 6.68687459e-01, 6.68687459e-01,\n",
       "         4.45581687e-01, 4.45581687e-01, 3.66743692e-01, 3.66743692e-01,\n",
       "         9.84741312e-01, 9.84741312e-01, 5.34675657e-01, 5.34675657e-01,\n",
       "         9.69058848e-01, 9.69058848e-01, 5.00069404e-01, 5.00069404e-01,\n",
       "         3.69724772e-01, 3.69724772e-01, 6.94872628e-01, 6.94872628e-01,\n",
       "         1.53599468e-01, 1.53599468e-01, 8.06484167e-01, 8.06484167e-01,\n",
       "         1.64168072e-01, 1.64168072e-01, 7.42826535e-01, 7.42826535e-01,\n",
       "         1.64399923e-01, 1.64399923e-01, 3.43599682e-01, 3.43599682e-01,\n",
       "         8.97728305e-02, 8.97728305e-02, 9.43647434e-01, 9.43647434e-01,\n",
       "         9.08986068e-01, 9.08986068e-01, 4.39458700e-01, 4.39458700e-01,\n",
       "         4.32820028e-03, 4.32820028e-03, 5.21083426e-01, 5.21083426e-01])}}"
      ]
     },
     "execution_count": 11,
     "metadata": {},
     "output_type": "execute_result"
    }
   ],
   "source": [
    "ds = load_by_id(run_id_n)\n",
    "ds.get_parameter_data('x1')"
   ]
  },
  {
   "cell_type": "markdown",
   "metadata": {},
   "source": [
    "And a dataset stored as binary arrays"
   ]
  },
  {
   "cell_type": "code",
   "execution_count": 12,
   "metadata": {
    "scrolled": true
   },
   "outputs": [
    {
     "data": {
      "text/plain": [
       "{'x1': {'x1': array([[0.28103301],\n",
       "         [0.28103301],\n",
       "         [0.76898774],\n",
       "         [0.76898774],\n",
       "         [0.48910185],\n",
       "         [0.48910185],\n",
       "         [0.61335186],\n",
       "         [0.61335186],\n",
       "         [0.24723196],\n",
       "         [0.24723196],\n",
       "         [0.96440117],\n",
       "         [0.96440117],\n",
       "         [0.33780374],\n",
       "         [0.33780374],\n",
       "         [0.81676521],\n",
       "         [0.81676521],\n",
       "         [0.2772596 ],\n",
       "         [0.2772596 ],\n",
       "         [0.45058037],\n",
       "         [0.45058037],\n",
       "         [0.38026742],\n",
       "         [0.38026742],\n",
       "         [0.67217925],\n",
       "         [0.67217925],\n",
       "         [0.43316957],\n",
       "         [0.43316957],\n",
       "         [0.87362592],\n",
       "         [0.87362592],\n",
       "         [0.17354126],\n",
       "         [0.17354126],\n",
       "         [0.07877373],\n",
       "         [0.07877373],\n",
       "         [0.33463875],\n",
       "         [0.33463875],\n",
       "         [0.61272716],\n",
       "         [0.61272716],\n",
       "         [0.77168927],\n",
       "         [0.77168927],\n",
       "         [0.51424141],\n",
       "         [0.51424141],\n",
       "         [0.56408433],\n",
       "         [0.56408433],\n",
       "         [0.09496726],\n",
       "         [0.09496726],\n",
       "         [0.25175256],\n",
       "         [0.25175256],\n",
       "         [0.40285826],\n",
       "         [0.40285826],\n",
       "         [0.56106093],\n",
       "         [0.56106093],\n",
       "         [0.97445284],\n",
       "         [0.97445284],\n",
       "         [0.64624104],\n",
       "         [0.64624104],\n",
       "         [0.0577523 ],\n",
       "         [0.0577523 ],\n",
       "         [0.04394207],\n",
       "         [0.04394207],\n",
       "         [0.27478553],\n",
       "         [0.27478553],\n",
       "         [0.27458045],\n",
       "         [0.27458045],\n",
       "         [0.03438222],\n",
       "         [0.03438222],\n",
       "         [0.53710667],\n",
       "         [0.53710667],\n",
       "         [0.9686345 ],\n",
       "         [0.9686345 ],\n",
       "         [0.35016732],\n",
       "         [0.35016732],\n",
       "         [0.93596372],\n",
       "         [0.93596372],\n",
       "         [0.84764284],\n",
       "         [0.84764284],\n",
       "         [0.66142918],\n",
       "         [0.66142918],\n",
       "         [0.67273506],\n",
       "         [0.67273506],\n",
       "         [0.01383836],\n",
       "         [0.01383836],\n",
       "         [0.46371355],\n",
       "         [0.46371355],\n",
       "         [0.44268703],\n",
       "         [0.44268703],\n",
       "         [0.07613695],\n",
       "         [0.07613695],\n",
       "         [0.36846266],\n",
       "         [0.36846266],\n",
       "         [0.4644519 ],\n",
       "         [0.4644519 ],\n",
       "         [0.43437363],\n",
       "         [0.43437363],\n",
       "         [0.61417189],\n",
       "         [0.61417189],\n",
       "         [0.10225145],\n",
       "         [0.10225145],\n",
       "         [0.81504758],\n",
       "         [0.81504758],\n",
       "         [0.03148691],\n",
       "         [0.03148691],\n",
       "         [0.58340773],\n",
       "         [0.58340773],\n",
       "         [0.46093371],\n",
       "         [0.46093371],\n",
       "         [0.35186204],\n",
       "         [0.35186204],\n",
       "         [0.69284993],\n",
       "         [0.69284993],\n",
       "         [0.33888584],\n",
       "         [0.33888584],\n",
       "         [0.36970152],\n",
       "         [0.36970152],\n",
       "         [0.27611493],\n",
       "         [0.27611493],\n",
       "         [0.23043833],\n",
       "         [0.23043833],\n",
       "         [0.42373961],\n",
       "         [0.42373961],\n",
       "         [0.68981417],\n",
       "         [0.68981417],\n",
       "         [0.5116218 ],\n",
       "         [0.5116218 ],\n",
       "         [0.139969  ],\n",
       "         [0.139969  ],\n",
       "         [0.39460738],\n",
       "         [0.39460738],\n",
       "         [0.55335547],\n",
       "         [0.55335547],\n",
       "         [0.20093318],\n",
       "         [0.20093318],\n",
       "         [0.02858252],\n",
       "         [0.02858252],\n",
       "         [0.60779606],\n",
       "         [0.60779606],\n",
       "         [0.26975032],\n",
       "         [0.26975032],\n",
       "         [0.17299677],\n",
       "         [0.17299677],\n",
       "         [0.74339525],\n",
       "         [0.74339525],\n",
       "         [0.54646972],\n",
       "         [0.54646972],\n",
       "         [0.58521911],\n",
       "         [0.58521911],\n",
       "         [0.16810335],\n",
       "         [0.16810335],\n",
       "         [0.57718186],\n",
       "         [0.57718186],\n",
       "         [0.85828848],\n",
       "         [0.85828848],\n",
       "         [0.78058089],\n",
       "         [0.78058089],\n",
       "         [0.90038708],\n",
       "         [0.90038708],\n",
       "         [0.03161871],\n",
       "         [0.03161871],\n",
       "         [0.16187731],\n",
       "         [0.16187731],\n",
       "         [0.26332347],\n",
       "         [0.26332347],\n",
       "         [0.57888547],\n",
       "         [0.57888547],\n",
       "         [0.75272099],\n",
       "         [0.75272099],\n",
       "         [0.86193575],\n",
       "         [0.86193575],\n",
       "         [0.77349972],\n",
       "         [0.77349972],\n",
       "         [0.30689833],\n",
       "         [0.30689833],\n",
       "         [0.52415357],\n",
       "         [0.52415357],\n",
       "         [0.68921019],\n",
       "         [0.68921019],\n",
       "         [0.90778238],\n",
       "         [0.90778238],\n",
       "         [0.34191186],\n",
       "         [0.34191186],\n",
       "         [0.83230909],\n",
       "         [0.83230909],\n",
       "         [0.10686132],\n",
       "         [0.10686132],\n",
       "         [0.33557149],\n",
       "         [0.33557149],\n",
       "         [0.02983324],\n",
       "         [0.02983324],\n",
       "         [0.13172623],\n",
       "         [0.13172623],\n",
       "         [0.58919662],\n",
       "         [0.58919662],\n",
       "         [0.23061867],\n",
       "         [0.23061867],\n",
       "         [0.98339276],\n",
       "         [0.98339276],\n",
       "         [0.32121851],\n",
       "         [0.32121851],\n",
       "         [0.63453157],\n",
       "         [0.63453157],\n",
       "         [0.52069074],\n",
       "         [0.52069074]])}}"
      ]
     },
     "execution_count": 12,
     "metadata": {},
     "output_type": "execute_result"
    }
   ],
   "source": [
    "ds = load_by_id(run_id_a)\n",
    "ds.get_parameter_data('x1')"
   ]
  },
  {
   "cell_type": "code",
   "execution_count": null,
   "metadata": {},
   "outputs": [],
   "source": []
  }
 ],
 "metadata": {
  "kernelspec": {
   "display_name": "Python 3",
   "language": "python",
   "name": "python3"
  },
  "language_info": {
   "codemirror_mode": {
    "name": "ipython",
    "version": 3
   },
   "file_extension": ".py",
   "mimetype": "text/x-python",
   "name": "python",
   "nbconvert_exporter": "python",
   "pygments_lexer": "ipython3",
   "version": "3.7.5"
  },
  "nbsphinx": {
   "timeout": 600
  },
  "toc": {
   "base_numbering": 1,
   "nav_menu": {},
   "number_sections": true,
   "sideBar": true,
   "skip_h1_title": false,
   "title_cell": "Table of Contents",
   "title_sidebar": "Contents",
   "toc_cell": false,
   "toc_position": {},
   "toc_section_display": true,
   "toc_window_display": false
  },
  "varInspector": {
   "cols": {
    "lenName": 16,
    "lenType": 16,
    "lenVar": 40
   },
   "kernels_config": {
    "python": {
     "delete_cmd_postfix": "",
     "delete_cmd_prefix": "del ",
     "library": "var_list.py",
     "varRefreshCmd": "print(var_dic_list())"
    },
    "r": {
     "delete_cmd_postfix": ") ",
     "delete_cmd_prefix": "rm(",
     "library": "var_list.r",
     "varRefreshCmd": "cat(var_dic_list()) "
    }
   },
   "types_to_exclude": [
    "module",
    "function",
    "builtin_function_or_method",
    "instance",
    "_Feature"
   ],
   "window_display": false
  }
 },
 "nbformat": 4,
 "nbformat_minor": 2
}
