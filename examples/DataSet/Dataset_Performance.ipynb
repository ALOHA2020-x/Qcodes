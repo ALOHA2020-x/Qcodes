{
 "cells": [
  {
   "cell_type": "markdown",
   "metadata": {},
   "source": [
    "# DataSet Performance\n",
    "\n",
    "This notebook shows the trade-off between inserting data into a database row-by-row and as binary blobs. Inserting the data row-by-row means that we have direct access to all the data and may perform queries directly on the values of the data. On the other hand, as we shall see, this is much slower than inserting the data directly as binary blobs."
   ]
  },
  {
   "cell_type": "markdown",
   "metadata": {},
   "source": [
    "First, we choose a new location for the database to ensure that we don't add a bunch of benchmarking data to the default one."
   ]
  },
  {
   "cell_type": "code",
   "execution_count": 1,
   "metadata": {},
   "outputs": [
    {
     "name": "stdout",
     "output_type": "stream",
     "text": [
      "Logging hadn't been started.\n",
      "Activating auto-logging. Current session state plus future input saved.\n",
      "Filename       : /home/vsts/.qcodes/logs/command_history.log\n",
      "Mode           : append\n",
      "Output logging : True\n",
      "Raw input log  : False\n",
      "Timestamping   : True\n",
      "State          : active\n"
     ]
    },
    {
     "name": "stdout",
     "output_type": "stream",
     "text": [
      "Qcodes Logfile : /home/vsts/.qcodes/logs/200512-18856-qcodes.log\n"
     ]
    }
   ],
   "source": [
    "import os\n",
    "cwd = os.getcwd()\n",
    "import qcodes as qc\n",
    "qc.config[\"core\"][\"db_location\"] = os.path.join(cwd, 'testing.db')\n"
   ]
  },
  {
   "cell_type": "code",
   "execution_count": 2,
   "metadata": {},
   "outputs": [],
   "source": [
    "%matplotlib inline\n",
    "import time\n",
    "import matplotlib.pyplot as plt\n",
    "import numpy as np\n",
    "\n",
    "import qcodes as qc\n",
    "from qcodes.instrument.parameter import ManualParameter\n",
    "from qcodes.dataset.experiment_container import (Experiment,\n",
    "                                                 load_last_experiment,\n",
    "                                                 new_experiment)\n",
    "from qcodes.dataset.sqlite.database import initialise_database\n",
    "from qcodes import load_or_create_experiment\n",
    "from qcodes.dataset.measurements import Measurement"
   ]
  },
  {
   "cell_type": "code",
   "execution_count": 3,
   "metadata": {},
   "outputs": [
    {
     "name": "stdout",
     "output_type": "stream",
     "text": [
      "\r",
      "0it [00:00, ?it/s]"
     ]
    },
    {
     "name": "stdout",
     "output_type": "stream",
     "text": [
      "\r",
      "Upgrading database; v0 -> v1: : 0it [00:00, ?it/s]"
     ]
    },
    {
     "name": "stdout",
     "output_type": "stream",
     "text": [
      "\r",
      "Upgrading database; v0 -> v1: : 0it [00:00, ?it/s]"
     ]
    },
    {
     "name": "stdout",
     "output_type": "stream",
     "text": [
      "\n",
      "\r",
      "  0%|          | 0/1 [00:00<?, ?it/s]"
     ]
    },
    {
     "name": "stdout",
     "output_type": "stream",
     "text": [
      "\r",
      "Upgrading database; v1 -> v2:   0%|          | 0/1 [00:00<?, ?it/s]"
     ]
    },
    {
     "name": "stdout",
     "output_type": "stream",
     "text": [
      "\r",
      "Upgrading database; v1 -> v2: 100%|██████████| 1/1 [00:00<00:00, 597.39it/s]"
     ]
    },
    {
     "name": "stdout",
     "output_type": "stream",
     "text": [
      "\n",
      "\r",
      "0it [00:00, ?it/s]"
     ]
    },
    {
     "name": "stdout",
     "output_type": "stream",
     "text": [
      "\r",
      "Upgrading database; v2 -> v3: : 0it [00:00, ?it/s]"
     ]
    },
    {
     "name": "stdout",
     "output_type": "stream",
     "text": [
      "\r",
      "Upgrading database; v2 -> v3: : 0it [00:00, ?it/s]"
     ]
    },
    {
     "name": "stdout",
     "output_type": "stream",
     "text": [
      "\n",
      "\r",
      "0it [00:00, ?it/s]"
     ]
    },
    {
     "name": "stdout",
     "output_type": "stream",
     "text": [
      "\r",
      "Upgrading database; v3 -> v4: : 0it [00:00, ?it/s]"
     ]
    },
    {
     "name": "stdout",
     "output_type": "stream",
     "text": [
      "\r",
      "Upgrading database; v3 -> v4: : 0it [00:00, ?it/s]"
     ]
    },
    {
     "name": "stdout",
     "output_type": "stream",
     "text": [
      "\n",
      "\r",
      "  0%|          | 0/1 [00:00<?, ?it/s]"
     ]
    },
    {
     "name": "stdout",
     "output_type": "stream",
     "text": [
      "\r",
      "Upgrading database; v4 -> v5:   0%|          | 0/1 [00:00<?, ?it/s]"
     ]
    },
    {
     "name": "stdout",
     "output_type": "stream",
     "text": [
      "\r",
      "Upgrading database; v4 -> v5: 100%|██████████| 1/1 [00:00<00:00, 728.43it/s]"
     ]
    },
    {
     "name": "stdout",
     "output_type": "stream",
     "text": [
      "\n",
      "\r",
      "0it [00:00, ?it/s]"
     ]
    },
    {
     "name": "stdout",
     "output_type": "stream",
     "text": [
      "\r",
      "Upgrading database; v5 -> v6: : 0it [00:00, ?it/s]"
     ]
    },
    {
     "name": "stdout",
     "output_type": "stream",
     "text": [
      "\r",
      "Upgrading database; v5 -> v6: : 0it [00:00, ?it/s]"
     ]
    },
    {
     "name": "stdout",
     "output_type": "stream",
     "text": [
      "\n",
      "\r",
      "  0%|          | 0/1 [00:00<?, ?it/s]"
     ]
    },
    {
     "name": "stdout",
     "output_type": "stream",
     "text": [
      "\r",
      "Upgrading database; v6 -> v7:   0%|          | 0/1 [00:00<?, ?it/s]"
     ]
    },
    {
     "name": "stdout",
     "output_type": "stream",
     "text": [
      "\r",
      "Upgrading database; v6 -> v7: 100%|██████████| 1/1 [00:00<00:00, 410.88it/s]"
     ]
    },
    {
     "name": "stdout",
     "output_type": "stream",
     "text": [
      "\n",
      "\r",
      "  0%|          | 0/1 [00:00<?, ?it/s]"
     ]
    },
    {
     "name": "stdout",
     "output_type": "stream",
     "text": [
      "\r",
      "Upgrading database; v7 -> v8:   0%|          | 0/1 [00:00<?, ?it/s]"
     ]
    },
    {
     "name": "stdout",
     "output_type": "stream",
     "text": [
      "\r",
      "Upgrading database; v7 -> v8: 100%|██████████| 1/1 [00:00<00:00, 922.64it/s]"
     ]
    },
    {
     "name": "stdout",
     "output_type": "stream",
     "text": [
      "\n",
      "\r",
      "  0%|          | 0/1 [00:00<?, ?it/s]"
     ]
    },
    {
     "name": "stdout",
     "output_type": "stream",
     "text": [
      "\r",
      "Upgrading database; v8 -> v9:   0%|          | 0/1 [00:00<?, ?it/s]"
     ]
    },
    {
     "name": "stdout",
     "output_type": "stream",
     "text": [
      "\r",
      "Upgrading database; v8 -> v9: 100%|██████████| 1/1 [00:00<00:00, 1071.89it/s]"
     ]
    },
    {
     "name": "stdout",
     "output_type": "stream",
     "text": [
      "\n"
     ]
    }
   ],
   "source": [
    "initialise_database()\n",
    "exp = load_or_create_experiment(experiment_name='tutorial_exp', sample_name=\"no sample\")"
   ]
  },
  {
   "cell_type": "markdown",
   "metadata": {},
   "source": [
    "Here, we define a simple function to benchmark the time it takes to insert n points with either numeric or array data type.\n",
    "We will compare both the time used to call ``add_result`` and the time used for the full measurement."
   ]
  },
  {
   "cell_type": "code",
   "execution_count": 4,
   "metadata": {},
   "outputs": [],
   "source": [
    "def insert_data(paramtype, npoints, nreps=1):\n",
    "\n",
    "    meas = Measurement(exp=exp)\n",
    "\n",
    "    x1 = ManualParameter('x1')\n",
    "    x2 = ManualParameter('x2')\n",
    "    x3 = ManualParameter('x3')\n",
    "    y1 = ManualParameter('y1')\n",
    "    y2 = ManualParameter('y2')\n",
    "\n",
    "    meas.register_parameter(x1, paramtype=paramtype)\n",
    "    meas.register_parameter(x2, paramtype=paramtype)\n",
    "    meas.register_parameter(x3, paramtype=paramtype)\n",
    "    meas.register_parameter(y1, setpoints=[x1, x2, x3],\n",
    "                            paramtype=paramtype)\n",
    "    meas.register_parameter(y2, setpoints=[x1, x2, x3],\n",
    "                            paramtype=paramtype)\n",
    "    start = time.perf_counter()\n",
    "    with meas.run() as datasaver:\n",
    "        start_adding = time.perf_counter()\n",
    "        for i in range(nreps):\n",
    "            datasaver.add_result((x1, np.random.rand(npoints)),\n",
    "                                 (x2, np.random.rand(npoints)),\n",
    "                                 (x3, np.random.rand(npoints)),\n",
    "                                 (y1, np.random.rand(npoints)),\n",
    "                                 (y2, np.random.rand(npoints)))\n",
    "        stop_adding = time.perf_counter()\n",
    "        run_id = datasaver.run_id\n",
    "    stop = time.perf_counter()\n",
    "    tot_time = stop - start\n",
    "    add_time = stop_adding - start_adding\n",
    "    return tot_time, add_time, run_id"
   ]
  },
  {
   "cell_type": "markdown",
   "metadata": {},
   "source": [
    "## Comparison between numeric/array data and binary blob"
   ]
  },
  {
   "cell_type": "markdown",
   "metadata": {},
   "source": [
    "### Case1: Short experiment time"
   ]
  },
  {
   "cell_type": "code",
   "execution_count": 5,
   "metadata": {},
   "outputs": [
    {
     "name": "stdout",
     "output_type": "stream",
     "text": [
      "Starting experimental run with id: 1. \n",
      "Starting experimental run with id: 2. \n",
      "Starting experimental run with id: 3. \n"
     ]
    },
    {
     "name": "stdout",
     "output_type": "stream",
     "text": [
      "Starting experimental run with id: 4. \n"
     ]
    },
    {
     "name": "stdout",
     "output_type": "stream",
     "text": [
      "Starting experimental run with id: 5. \n"
     ]
    },
    {
     "name": "stdout",
     "output_type": "stream",
     "text": [
      "Starting experimental run with id: 6. \n"
     ]
    },
    {
     "name": "stdout",
     "output_type": "stream",
     "text": [
      "Starting experimental run with id: 7. \n"
     ]
    },
    {
     "name": "stdout",
     "output_type": "stream",
     "text": [
      "Starting experimental run with id: 8. \n"
     ]
    },
    {
     "name": "stdout",
     "output_type": "stream",
     "text": [
      "Starting experimental run with id: 9. \n"
     ]
    },
    {
     "name": "stdout",
     "output_type": "stream",
     "text": [
      "Starting experimental run with id: 10. \n",
      "Starting experimental run with id: 11. \n"
     ]
    },
    {
     "name": "stdout",
     "output_type": "stream",
     "text": [
      "Starting experimental run with id: 12. \n"
     ]
    },
    {
     "name": "stdout",
     "output_type": "stream",
     "text": [
      "Starting experimental run with id: 13. \n"
     ]
    },
    {
     "name": "stdout",
     "output_type": "stream",
     "text": [
      "Starting experimental run with id: 14. \n"
     ]
    }
   ],
   "source": [
    "sizes = [1,500,1000,2000,3000,4000,5000]\n",
    "t_numeric = []\n",
    "t_numeric_add = []\n",
    "t_array = []\n",
    "t_array_add = []\n",
    "for size in sizes:\n",
    "    tn, tna, run_id_n =  insert_data('numeric', size)\n",
    "    t_numeric.append(tn)\n",
    "    t_numeric_add.append(tna)\n",
    "\n",
    "    ta, taa, run_id_a =  insert_data('array', size)\n",
    "    t_array.append(ta)\n",
    "    t_array_add.append(taa)"
   ]
  },
  {
   "cell_type": "code",
   "execution_count": 6,
   "metadata": {},
   "outputs": [
    {
     "data": {
      "image/png": "[encoded data removed]",
      "text/plain": [
       "<Figure size 432x288 with 1 Axes>"
      ]
     },
     "metadata": {
      "needs_background": "light"
     },
     "output_type": "display_data"
    }
   ],
   "source": [
    "fig, ax = plt.subplots(1,1)\n",
    "ax.plot(sizes, t_numeric, 'o-', label='Inserting row-by-row')\n",
    "ax.plot(sizes, t_numeric_add, 'o-', label='Inserting row-by-row: add_result only')\n",
    "ax.plot(sizes, t_array, 'd-', label='Inserting as binary blob')\n",
    "ax.plot(sizes, t_array_add, 'd-', label='Inserting as binary blob: add_result only')\n",
    "ax.legend()\n",
    "ax.set_xlabel('Array length')\n",
    "ax.set_ylabel('Time (s)')\n",
    "fig.tight_layout()"
   ]
  },
  {
   "cell_type": "markdown",
   "metadata": {},
   "source": [
    "As shown in the latter figure, the time to setup and and close the experiment is approximately 0.4 sec. In case of small array sizes, the difference between inserting values of data as arrays and inserting them row-by-row is relatively unimportant. At larger array sizes, i.e. above 10000 points, the cost of writing data as individual datapoints starts to become important.\n"
   ]
  },
  {
   "cell_type": "markdown",
   "metadata": {},
   "source": [
    "### Case2: Long experiment time "
   ]
  },
  {
   "cell_type": "code",
   "execution_count": 7,
   "metadata": {},
   "outputs": [
    {
     "name": "stdout",
     "output_type": "stream",
     "text": [
      "Starting experimental run with id: 15. \n",
      "Starting experimental run with id: 16. \n",
      "Starting experimental run with id: 17. \n"
     ]
    },
    {
     "name": "stdout",
     "output_type": "stream",
     "text": [
      "Starting experimental run with id: 18. \n",
      "Starting experimental run with id: 19. \n"
     ]
    },
    {
     "name": "stdout",
     "output_type": "stream",
     "text": [
      "Starting experimental run with id: 20. \n"
     ]
    },
    {
     "name": "stdout",
     "output_type": "stream",
     "text": [
      "Starting experimental run with id: 21. \n"
     ]
    },
    {
     "name": "stdout",
     "output_type": "stream",
     "text": [
      "Starting experimental run with id: 22. \n"
     ]
    },
    {
     "name": "stdout",
     "output_type": "stream",
     "text": [
      "Starting experimental run with id: 23. \n"
     ]
    },
    {
     "name": "stdout",
     "output_type": "stream",
     "text": [
      "Starting experimental run with id: 24. \n"
     ]
    },
    {
     "name": "stdout",
     "output_type": "stream",
     "text": [
      "Starting experimental run with id: 25. \n"
     ]
    },
    {
     "name": "stdout",
     "output_type": "stream",
     "text": [
      "Starting experimental run with id: 26. \n"
     ]
    },
    {
     "name": "stdout",
     "output_type": "stream",
     "text": [
      "Starting experimental run with id: 27. \n"
     ]
    },
    {
     "name": "stdout",
     "output_type": "stream",
     "text": [
      "Starting experimental run with id: 28. \n"
     ]
    }
   ],
   "source": [
    "sizes = [1,500,1000,2000,3000,4000,5000]\n",
    "nreps = 100\n",
    "t_numeric = []\n",
    "t_numeric_add = []\n",
    "t_numeric_run_ids = []\n",
    "t_array = []\n",
    "t_array_add = []\n",
    "t_array_run_ids = []\n",
    "for size in sizes:\n",
    "    tn, tna, run_id_n =  insert_data('numeric', size, nreps=nreps)\n",
    "    t_numeric.append(tn)\n",
    "    t_numeric_add.append(tna)\n",
    "    t_numeric_run_ids.append(run_id_n)\n",
    "\n",
    "    ta, taa, run_id_a =  insert_data('array', size, nreps=nreps)\n",
    "    t_array.append(ta)\n",
    "    t_array_add.append(taa)\n",
    "    t_array_run_ids.append(run_id_a)"
   ]
  },
  {
   "cell_type": "code",
   "execution_count": 8,
   "metadata": {
    "scrolled": true
   },
   "outputs": [
    {
     "data": {
      "image/png": "[encoded data removed]",
      "text/plain": [
       "<Figure size 432x288 with 1 Axes>"
      ]
     },
     "metadata": {
      "needs_background": "light"
     },
     "output_type": "display_data"
    }
   ],
   "source": [
    "fig, ax = plt.subplots(1,1)\n",
    "ax.plot(sizes, t_numeric, 'o-', label='Inserting row-by-row')\n",
    "ax.plot(sizes, t_numeric_add, 'o-', label='Inserting row-by-row: add_result only')\n",
    "ax.plot(sizes, t_array, 'd-', label='Inserting as binary blob')\n",
    "ax.plot(sizes, t_array_add, 'd-', label='Inserting as binary blob: add_result only')\n",
    "ax.legend()\n",
    "ax.set_xlabel('Array length')\n",
    "ax.set_ylabel('Time (s)')\n",
    "fig.tight_layout()"
   ]
  },
  {
   "cell_type": "markdown",
   "metadata": {},
   "source": [
    "However, as we increase the length of the experiment, as seen here by repeating the insertion 100 times, we see a big difference between inserting values of the data row-by-row and inserting it as a binary blob."
   ]
  },
  {
   "cell_type": "markdown",
   "metadata": {},
   "source": [
    "## Loading the data "
   ]
  },
  {
   "cell_type": "code",
   "execution_count": 9,
   "metadata": {},
   "outputs": [],
   "source": [
    "from qcodes.dataset.data_set import load_by_id\n",
    "from qcodes.dataset.data_export import get_data_by_id"
   ]
  },
  {
   "cell_type": "markdown",
   "metadata": {},
   "source": [
    "As usual you can load the data by using the ``load_by_id`` function but you will notice that the different storage methods\n",
    "are reflected in shape of the data as it is retrieved. "
   ]
  },
  {
   "cell_type": "code",
   "execution_count": 10,
   "metadata": {},
   "outputs": [],
   "source": [
    "run_id_n = t_numeric_run_ids[0]\n",
    "run_id_a = t_array_run_ids[0]"
   ]
  },
  {
   "cell_type": "code",
   "execution_count": 11,
   "metadata": {
    "scrolled": true
   },
   "outputs": [
    {
     "data": {
      "text/plain": [
       "{'x1': {'x1': array([5.39305348e-01, 5.39305348e-01, 5.90877472e-02, 5.90877472e-02,\n",
       "         7.83951301e-01, 7.83951301e-01, 8.09541053e-01, 8.09541053e-01,\n",
       "         9.76456730e-01, 9.76456730e-01, 3.37981209e-01, 3.37981209e-01,\n",
       "         2.93766289e-01, 2.93766289e-01, 2.94339652e-01, 2.94339652e-01,\n",
       "         3.81858319e-01, 3.81858319e-01, 7.47807849e-01, 7.47807849e-01,\n",
       "         1.01142020e-01, 1.01142020e-01, 7.93021417e-01, 7.93021417e-01,\n",
       "         6.41165375e-01, 6.41165375e-01, 3.93624364e-01, 3.93624364e-01,\n",
       "         9.50840453e-01, 9.50840453e-01, 2.19041567e-01, 2.19041567e-01,\n",
       "         5.40376940e-01, 5.40376940e-01, 1.87597301e-01, 1.87597301e-01,\n",
       "         7.99600538e-01, 7.99600538e-01, 7.22928642e-04, 7.22928642e-04,\n",
       "         8.95387856e-01, 8.95387856e-01, 3.52004517e-02, 3.52004517e-02,\n",
       "         3.87031561e-01, 3.87031561e-01, 7.10009621e-01, 7.10009621e-01,\n",
       "         3.05006026e-01, 3.05006026e-01, 9.96766291e-01, 9.96766291e-01,\n",
       "         7.21197511e-01, 7.21197511e-01, 2.84907329e-01, 2.84907329e-01,\n",
       "         6.45152371e-01, 6.45152371e-01, 6.54930940e-01, 6.54930940e-01,\n",
       "         6.28611990e-01, 6.28611990e-01, 9.07016666e-01, 9.07016666e-01,\n",
       "         5.21000105e-01, 5.21000105e-01, 6.93476037e-01, 6.93476037e-01,\n",
       "         9.93670969e-01, 9.93670969e-01, 8.93169007e-02, 8.93169007e-02,\n",
       "         5.90061188e-01, 5.90061188e-01, 7.68859682e-01, 7.68859682e-01,\n",
       "         6.83689575e-01, 6.83689575e-01, 4.47827701e-01, 4.47827701e-01,\n",
       "         7.58968791e-01, 7.58968791e-01, 7.48350998e-01, 7.48350998e-01,\n",
       "         9.87769130e-01, 9.87769130e-01, 5.58390693e-01, 5.58390693e-01,\n",
       "         5.13213923e-01, 5.13213923e-01, 8.63667715e-01, 8.63667715e-01,\n",
       "         5.56960965e-01, 5.56960965e-01, 9.38182438e-03, 9.38182438e-03,\n",
       "         9.75043222e-01, 9.75043222e-01, 2.07905406e-01, 2.07905406e-01,\n",
       "         6.07888732e-01, 6.07888732e-01, 9.60135235e-02, 9.60135235e-02,\n",
       "         1.76322782e-01, 1.76322782e-01, 4.22268886e-01, 4.22268886e-01,\n",
       "         2.68630310e-02, 2.68630310e-02, 7.19293977e-01, 7.19293977e-01,\n",
       "         2.40673684e-01, 2.40673684e-01, 5.65839092e-01, 5.65839092e-01,\n",
       "         9.20959721e-01, 9.20959721e-01, 1.27805719e-01, 1.27805719e-01,\n",
       "         7.29604563e-01, 7.29604563e-01, 3.24709205e-01, 3.24709205e-01,\n",
       "         9.14481342e-01, 9.14481342e-01, 9.69939453e-01, 9.69939453e-01,\n",
       "         4.89622391e-01, 4.89622391e-01, 9.33934521e-01, 9.33934521e-01,\n",
       "         7.31109891e-01, 7.31109891e-01, 9.28402412e-01, 9.28402412e-01,\n",
       "         1.41641864e-01, 1.41641864e-01, 7.34171405e-01, 7.34171405e-01,\n",
       "         5.80755490e-01, 5.80755490e-01, 2.57683254e-01, 2.57683254e-01,\n",
       "         7.67255218e-01, 7.67255218e-01, 9.54497901e-01, 9.54497901e-01,\n",
       "         7.52365200e-01, 7.52365200e-01, 5.54750971e-01, 5.54750971e-01,\n",
       "         9.01206288e-01, 9.01206288e-01, 8.78626787e-01, 8.78626787e-01,\n",
       "         2.83151245e-01, 2.83151245e-01, 1.16236024e-02, 1.16236024e-02,\n",
       "         9.65792989e-01, 9.65792989e-01, 8.10441610e-01, 8.10441610e-01,\n",
       "         2.93704372e-02, 2.93704372e-02, 1.75654390e-01, 1.75654390e-01,\n",
       "         3.25045638e-01, 3.25045638e-01, 4.83810634e-02, 4.83810634e-02,\n",
       "         1.14409179e-01, 1.14409179e-01, 3.64139835e-01, 3.64139835e-01,\n",
       "         4.64638408e-02, 4.64638408e-02, 3.11415439e-01, 3.11415439e-01,\n",
       "         6.19729662e-01, 6.19729662e-01, 6.19458802e-01, 6.19458802e-01,\n",
       "         7.34578280e-01, 7.34578280e-01, 3.46672982e-01, 3.46672982e-01,\n",
       "         9.89387853e-01, 9.89387853e-01, 1.97304442e-01, 1.97304442e-01,\n",
       "         2.19286118e-01, 2.19286118e-01, 6.79969056e-01, 6.79969056e-01,\n",
       "         4.17394227e-01, 4.17394227e-01, 7.76615594e-01, 7.76615594e-01])}}"
      ]
     },
     "execution_count": 11,
     "metadata": {},
     "output_type": "execute_result"
    }
   ],
   "source": [
    "ds = load_by_id(run_id_n)\n",
    "ds.get_parameter_data('x1')"
   ]
  },
  {
   "cell_type": "markdown",
   "metadata": {},
   "source": [
    "And a dataset stored as binary arrays"
   ]
  },
  {
   "cell_type": "code",
   "execution_count": 12,
   "metadata": {
    "scrolled": true
   },
   "outputs": [
    {
     "data": {
      "text/plain": [
       "{'x1': {'x1': array([[0.47944328],\n",
       "         [0.47944328],\n",
       "         [0.63377283],\n",
       "         [0.63377283],\n",
       "         [0.64815262],\n",
       "         [0.64815262],\n",
       "         [0.2698393 ],\n",
       "         [0.2698393 ],\n",
       "         [0.74446474],\n",
       "         [0.74446474],\n",
       "         [0.1639527 ],\n",
       "         [0.1639527 ],\n",
       "         [0.43575148],\n",
       "         [0.43575148],\n",
       "         [0.6942178 ],\n",
       "         [0.6942178 ],\n",
       "         [0.59423433],\n",
       "         [0.59423433],\n",
       "         [0.78898032],\n",
       "         [0.78898032],\n",
       "         [0.02896927],\n",
       "         [0.02896927],\n",
       "         [0.95870629],\n",
       "         [0.95870629],\n",
       "         [0.69603015],\n",
       "         [0.69603015],\n",
       "         [0.20658523],\n",
       "         [0.20658523],\n",
       "         [0.76405428],\n",
       "         [0.76405428],\n",
       "         [0.15812262],\n",
       "         [0.15812262],\n",
       "         [0.68717018],\n",
       "         [0.68717018],\n",
       "         [0.50610676],\n",
       "         [0.50610676],\n",
       "         [0.94285036],\n",
       "         [0.94285036],\n",
       "         [0.70048299],\n",
       "         [0.70048299],\n",
       "         [0.84778859],\n",
       "         [0.84778859],\n",
       "         [0.89489945],\n",
       "         [0.89489945],\n",
       "         [0.88144445],\n",
       "         [0.88144445],\n",
       "         [0.1972916 ],\n",
       "         [0.1972916 ],\n",
       "         [0.99343982],\n",
       "         [0.99343982],\n",
       "         [0.52002011],\n",
       "         [0.52002011],\n",
       "         [0.20639017],\n",
       "         [0.20639017],\n",
       "         [0.97547779],\n",
       "         [0.97547779],\n",
       "         [0.44336827],\n",
       "         [0.44336827],\n",
       "         [0.23006676],\n",
       "         [0.23006676],\n",
       "         [0.8749524 ],\n",
       "         [0.8749524 ],\n",
       "         [0.98756491],\n",
       "         [0.98756491],\n",
       "         [0.73340059],\n",
       "         [0.73340059],\n",
       "         [0.03870832],\n",
       "         [0.03870832],\n",
       "         [0.71093147],\n",
       "         [0.71093147],\n",
       "         [0.50499236],\n",
       "         [0.50499236],\n",
       "         [0.21776004],\n",
       "         [0.21776004],\n",
       "         [0.89814213],\n",
       "         [0.89814213],\n",
       "         [0.1863188 ],\n",
       "         [0.1863188 ],\n",
       "         [0.31741554],\n",
       "         [0.31741554],\n",
       "         [0.73282222],\n",
       "         [0.73282222],\n",
       "         [0.18115391],\n",
       "         [0.18115391],\n",
       "         [0.40369702],\n",
       "         [0.40369702],\n",
       "         [0.9856804 ],\n",
       "         [0.9856804 ],\n",
       "         [0.14232974],\n",
       "         [0.14232974],\n",
       "         [0.80394302],\n",
       "         [0.80394302],\n",
       "         [0.24057376],\n",
       "         [0.24057376],\n",
       "         [0.79854756],\n",
       "         [0.79854756],\n",
       "         [0.80581309],\n",
       "         [0.80581309],\n",
       "         [0.1804616 ],\n",
       "         [0.1804616 ],\n",
       "         [0.01455915],\n",
       "         [0.01455915],\n",
       "         [0.36702046],\n",
       "         [0.36702046],\n",
       "         [0.55792681],\n",
       "         [0.55792681],\n",
       "         [0.90493757],\n",
       "         [0.90493757],\n",
       "         [0.55417994],\n",
       "         [0.55417994],\n",
       "         [0.38864224],\n",
       "         [0.38864224],\n",
       "         [0.17150213],\n",
       "         [0.17150213],\n",
       "         [0.67540498],\n",
       "         [0.67540498],\n",
       "         [0.37976418],\n",
       "         [0.37976418],\n",
       "         [0.18358979],\n",
       "         [0.18358979],\n",
       "         [0.06904594],\n",
       "         [0.06904594],\n",
       "         [0.94069136],\n",
       "         [0.94069136],\n",
       "         [0.41813667],\n",
       "         [0.41813667],\n",
       "         [0.07723372],\n",
       "         [0.07723372],\n",
       "         [0.42932269],\n",
       "         [0.42932269],\n",
       "         [0.43164034],\n",
       "         [0.43164034],\n",
       "         [0.85883812],\n",
       "         [0.85883812],\n",
       "         [0.83459191],\n",
       "         [0.83459191],\n",
       "         [0.05401903],\n",
       "         [0.05401903],\n",
       "         [0.40205346],\n",
       "         [0.40205346],\n",
       "         [0.64368093],\n",
       "         [0.64368093],\n",
       "         [0.51182994],\n",
       "         [0.51182994],\n",
       "         [0.33794102],\n",
       "         [0.33794102],\n",
       "         [0.40048368],\n",
       "         [0.40048368],\n",
       "         [0.42893157],\n",
       "         [0.42893157],\n",
       "         [0.98369063],\n",
       "         [0.98369063],\n",
       "         [0.22758025],\n",
       "         [0.22758025],\n",
       "         [0.94760476],\n",
       "         [0.94760476],\n",
       "         [0.312146  ],\n",
       "         [0.312146  ],\n",
       "         [0.42322922],\n",
       "         [0.42322922],\n",
       "         [0.22930493],\n",
       "         [0.22930493],\n",
       "         [0.86084678],\n",
       "         [0.86084678],\n",
       "         [0.98208768],\n",
       "         [0.98208768],\n",
       "         [0.18076557],\n",
       "         [0.18076557],\n",
       "         [0.26653595],\n",
       "         [0.26653595],\n",
       "         [0.98042443],\n",
       "         [0.98042443],\n",
       "         [0.84249699],\n",
       "         [0.84249699],\n",
       "         [0.82276962],\n",
       "         [0.82276962],\n",
       "         [0.19993493],\n",
       "         [0.19993493],\n",
       "         [0.58221102],\n",
       "         [0.58221102],\n",
       "         [0.86672052],\n",
       "         [0.86672052],\n",
       "         [0.19820521],\n",
       "         [0.19820521],\n",
       "         [0.27938621],\n",
       "         [0.27938621],\n",
       "         [0.55432811],\n",
       "         [0.55432811],\n",
       "         [0.82088845],\n",
       "         [0.82088845],\n",
       "         [0.58616245],\n",
       "         [0.58616245],\n",
       "         [0.07715269],\n",
       "         [0.07715269],\n",
       "         [0.9369551 ],\n",
       "         [0.9369551 ],\n",
       "         [0.04247438],\n",
       "         [0.04247438],\n",
       "         [0.12356783],\n",
       "         [0.12356783]])}}"
      ]
     },
     "execution_count": 12,
     "metadata": {},
     "output_type": "execute_result"
    }
   ],
   "source": [
    "ds = load_by_id(run_id_a)\n",
    "ds.get_parameter_data('x1')"
   ]
  },
  {
   "cell_type": "code",
   "execution_count": null,
   "metadata": {},
   "outputs": [],
   "source": []
  }
 ],
 "metadata": {
  "kernelspec": {
   "display_name": "Python 3",
   "language": "python",
   "name": "python3"
  },
  "language_info": {
   "codemirror_mode": {
    "name": "ipython",
    "version": 3
   },
   "file_extension": ".py",
   "mimetype": "text/x-python",
   "name": "python",
   "nbconvert_exporter": "python",
   "pygments_lexer": "ipython3",
   "version": "3.7.7"
  },
  "nbsphinx": {
   "timeout": 600
  },
  "toc": {
   "base_numbering": 1,
   "nav_menu": {},
   "number_sections": true,
   "sideBar": true,
   "skip_h1_title": false,
   "title_cell": "Table of Contents",
   "title_sidebar": "Contents",
   "toc_cell": false,
   "toc_position": {},
   "toc_section_display": true,
   "toc_window_display": false
  },
  "varInspector": {
   "cols": {
    "lenName": 16,
    "lenType": 16,
    "lenVar": 40
   },
   "kernels_config": {
    "python": {
     "delete_cmd_postfix": "",
     "delete_cmd_prefix": "del ",
     "library": "var_list.py",
     "varRefreshCmd": "print(var_dic_list())"
    },
    "r": {
     "delete_cmd_postfix": ") ",
     "delete_cmd_prefix": "rm(",
     "library": "var_list.r",
     "varRefreshCmd": "cat(var_dic_list()) "
    }
   },
   "types_to_exclude": [
    "module",
    "function",
    "builtin_function_or_method",
    "instance",
    "_Feature"
   ],
   "window_display": false
  }
 },
 "nbformat": 4,
 "nbformat_minor": 2
}
