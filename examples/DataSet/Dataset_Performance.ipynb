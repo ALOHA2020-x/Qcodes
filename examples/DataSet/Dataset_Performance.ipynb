{
 "cells": [
  {
   "cell_type": "markdown",
   "metadata": {},
   "source": [
    "# DataSet Performance\n",
    "\n",
    "This notebook shows the trade-off between inserting data into a database row-by-row and as binary blobs. Inserting the data row-by-row means that we have direct access to all the data and may perform queries directly on the values of the data. On the other hand, as we shall see, this is much slower than inserting the data directly as binary blobs."
   ]
  },
  {
   "cell_type": "markdown",
   "metadata": {},
   "source": [
    "First, we choose a new location for the database to ensure that we don't add a bunch of benchmarking data to the default one."
   ]
  },
  {
   "cell_type": "code",
   "execution_count": 1,
   "metadata": {
    "execution": {
     "iopub.execute_input": "2021-04-28T07:52:20.574953Z",
     "iopub.status.busy": "2021-04-28T07:52:20.574038Z",
     "iopub.status.idle": "2021-04-28T07:52:21.711024Z",
     "shell.execute_reply": "2021-04-28T07:52:21.710060Z"
    }
   },
   "outputs": [
    {
     "name": "stdout",
     "output_type": "stream",
     "text": [
      "Logging hadn't been started.\n",
      "Activating auto-logging. Current session state plus future input saved.\n",
      "Filename       : /home/runner/.qcodes/logs/command_history.log\n",
      "Mode           : append\n",
      "Output logging : True\n",
      "Raw input log  : False\n",
      "Timestamping   : True\n",
      "State          : active\n"
     ]
    },
    {
     "name": "stdout",
     "output_type": "stream",
     "text": [
      "Qcodes Logfile : /home/runner/.qcodes/logs/210428-4522-qcodes.log\n"
     ]
    }
   ],
   "source": [
    "import os\n",
    "cwd = os.getcwd()\n",
    "import qcodes as qc\n",
    "qc.config[\"core\"][\"db_location\"] = os.path.join(cwd, 'testing.db')\n"
   ]
  },
  {
   "cell_type": "code",
   "execution_count": 2,
   "metadata": {
    "execution": {
     "iopub.execute_input": "2021-04-28T07:52:21.717275Z",
     "iopub.status.busy": "2021-04-28T07:52:21.716477Z",
     "iopub.status.idle": "2021-04-28T07:52:21.911253Z",
     "shell.execute_reply": "2021-04-28T07:52:21.910338Z"
    }
   },
   "outputs": [],
   "source": [
    "%matplotlib inline\n",
    "import time\n",
    "import matplotlib.pyplot as plt\n",
    "import numpy as np\n",
    "\n",
    "import qcodes as qc\n",
    "from qcodes.instrument.parameter import ManualParameter\n",
    "from qcodes.dataset.experiment_container import (Experiment,\n",
    "                                                 load_last_experiment,\n",
    "                                                 new_experiment)\n",
    "from qcodes.dataset.sqlite.database import initialise_database\n",
    "from qcodes import load_or_create_experiment\n",
    "from qcodes.dataset.measurements import Measurement"
   ]
  },
  {
   "cell_type": "code",
   "execution_count": 3,
   "metadata": {
    "execution": {
     "iopub.execute_input": "2021-04-28T07:52:21.915768Z",
     "iopub.status.busy": "2021-04-28T07:52:21.915078Z",
     "iopub.status.idle": "2021-04-28T07:52:22.031497Z",
     "shell.execute_reply": "2021-04-28T07:52:22.031936Z"
    }
   },
   "outputs": [
    {
     "name": "stdout",
     "output_type": "stream",
     "text": [
      "\r",
      "0it [00:00, ?it/s]"
     ]
    },
    {
     "name": "stdout",
     "output_type": "stream",
     "text": [
      "\r",
      "Upgrading database; v0 -> v1: : 0it [00:00, ?it/s]"
     ]
    },
    {
     "name": "stdout",
     "output_type": "stream",
     "text": [
      "\r",
      "Upgrading database; v0 -> v1: : 0it [00:00, ?it/s]"
     ]
    },
    {
     "name": "stdout",
     "output_type": "stream",
     "text": [
      "\n",
      "\r",
      "  0%|          | 0/1 [00:00<?, ?it/s]"
     ]
    },
    {
     "name": "stdout",
     "output_type": "stream",
     "text": [
      "\r",
      "Upgrading database; v1 -> v2:   0%|          | 0/1 [00:00<?, ?it/s]"
     ]
    },
    {
     "name": "stdout",
     "output_type": "stream",
     "text": [
      "\r",
      "Upgrading database; v1 -> v2: 100%|██████████| 1/1 [00:00<00:00, 464.33it/s]"
     ]
    },
    {
     "name": "stdout",
     "output_type": "stream",
     "text": [
      "\n",
      "\r",
      "0it [00:00, ?it/s]"
     ]
    },
    {
     "name": "stdout",
     "output_type": "stream",
     "text": [
      "\r",
      "Upgrading database; v2 -> v3: : 0it [00:00, ?it/s]"
     ]
    },
    {
     "name": "stdout",
     "output_type": "stream",
     "text": [
      "\r",
      "Upgrading database; v2 -> v3: : 0it [00:00, ?it/s]"
     ]
    },
    {
     "name": "stdout",
     "output_type": "stream",
     "text": [
      "\n",
      "\r",
      "0it [00:00, ?it/s]"
     ]
    },
    {
     "name": "stdout",
     "output_type": "stream",
     "text": [
      "\r",
      "Upgrading database; v3 -> v4: : 0it [00:00, ?it/s]"
     ]
    },
    {
     "name": "stdout",
     "output_type": "stream",
     "text": [
      "\r",
      "Upgrading database; v3 -> v4: : 0it [00:00, ?it/s]"
     ]
    },
    {
     "name": "stdout",
     "output_type": "stream",
     "text": [
      "\n",
      "\r",
      "  0%|          | 0/1 [00:00<?, ?it/s]"
     ]
    },
    {
     "name": "stdout",
     "output_type": "stream",
     "text": [
      "\r",
      "Upgrading database; v4 -> v5:   0%|          | 0/1 [00:00<?, ?it/s]"
     ]
    },
    {
     "name": "stdout",
     "output_type": "stream",
     "text": [
      "\r",
      "Upgrading database; v4 -> v5: 100%|██████████| 1/1 [00:00<00:00, 455.90it/s]"
     ]
    },
    {
     "name": "stdout",
     "output_type": "stream",
     "text": [
      "\n",
      "\r",
      "0it [00:00, ?it/s]"
     ]
    },
    {
     "name": "stdout",
     "output_type": "stream",
     "text": [
      "\r",
      "Upgrading database; v5 -> v6: : 0it [00:00, ?it/s]"
     ]
    },
    {
     "name": "stdout",
     "output_type": "stream",
     "text": [
      "\r",
      "Upgrading database; v5 -> v6: : 0it [00:00, ?it/s]"
     ]
    },
    {
     "name": "stdout",
     "output_type": "stream",
     "text": [
      "\n",
      "\r",
      "  0%|          | 0/1 [00:00<?, ?it/s]"
     ]
    },
    {
     "name": "stdout",
     "output_type": "stream",
     "text": [
      "\r",
      "Upgrading database; v6 -> v7:   0%|          | 0/1 [00:00<?, ?it/s]"
     ]
    },
    {
     "name": "stdout",
     "output_type": "stream",
     "text": [
      "\r",
      "Upgrading database; v6 -> v7: 100%|██████████| 1/1 [00:00<00:00, 417.14it/s]"
     ]
    },
    {
     "name": "stdout",
     "output_type": "stream",
     "text": [
      "\n",
      "\r",
      "  0%|          | 0/1 [00:00<?, ?it/s]"
     ]
    },
    {
     "name": "stdout",
     "output_type": "stream",
     "text": [
      "\r",
      "Upgrading database; v7 -> v8:   0%|          | 0/1 [00:00<?, ?it/s]"
     ]
    },
    {
     "name": "stdout",
     "output_type": "stream",
     "text": [
      "\r",
      "Upgrading database; v7 -> v8: 100%|██████████| 1/1 [00:00<00:00, 1096.26it/s]"
     ]
    },
    {
     "name": "stdout",
     "output_type": "stream",
     "text": [
      "\n",
      "\r",
      "  0%|          | 0/1 [00:00<?, ?it/s]"
     ]
    },
    {
     "name": "stdout",
     "output_type": "stream",
     "text": [
      "\r",
      "Upgrading database; v8 -> v9:   0%|          | 0/1 [00:00<?, ?it/s]"
     ]
    },
    {
     "name": "stdout",
     "output_type": "stream",
     "text": [
      "\r",
      "Upgrading database; v8 -> v9: 100%|██████████| 1/1 [00:00<00:00, 457.89it/s]"
     ]
    },
    {
     "name": "stdout",
     "output_type": "stream",
     "text": [
      "\n"
     ]
    }
   ],
   "source": [
    "initialise_database()\n",
    "exp = load_or_create_experiment(experiment_name='tutorial_exp', sample_name=\"no sample\")"
   ]
  },
  {
   "cell_type": "markdown",
   "metadata": {},
   "source": [
    "Here, we define a simple function to benchmark the time it takes to insert n points with either numeric or array data type.\n",
    "We will compare both the time used to call ``add_result`` and the time used for the full measurement."
   ]
  },
  {
   "cell_type": "code",
   "execution_count": 4,
   "metadata": {
    "execution": {
     "iopub.execute_input": "2021-04-28T07:52:22.041918Z",
     "iopub.status.busy": "2021-04-28T07:52:22.040655Z",
     "iopub.status.idle": "2021-04-28T07:52:22.042588Z",
     "shell.execute_reply": "2021-04-28T07:52:22.043054Z"
    }
   },
   "outputs": [],
   "source": [
    "def insert_data(paramtype, npoints, nreps=1):\n",
    "\n",
    "    meas = Measurement(exp=exp)\n",
    "\n",
    "    x1 = ManualParameter('x1')\n",
    "    x2 = ManualParameter('x2')\n",
    "    x3 = ManualParameter('x3')\n",
    "    y1 = ManualParameter('y1')\n",
    "    y2 = ManualParameter('y2')\n",
    "\n",
    "    meas.register_parameter(x1, paramtype=paramtype)\n",
    "    meas.register_parameter(x2, paramtype=paramtype)\n",
    "    meas.register_parameter(x3, paramtype=paramtype)\n",
    "    meas.register_parameter(y1, setpoints=[x1, x2, x3],\n",
    "                            paramtype=paramtype)\n",
    "    meas.register_parameter(y2, setpoints=[x1, x2, x3],\n",
    "                            paramtype=paramtype)\n",
    "    start = time.perf_counter()\n",
    "    with meas.run() as datasaver:\n",
    "        start_adding = time.perf_counter()\n",
    "        for i in range(nreps):\n",
    "            datasaver.add_result((x1, np.random.rand(npoints)),\n",
    "                                 (x2, np.random.rand(npoints)),\n",
    "                                 (x3, np.random.rand(npoints)),\n",
    "                                 (y1, np.random.rand(npoints)),\n",
    "                                 (y2, np.random.rand(npoints)))\n",
    "        stop_adding = time.perf_counter()\n",
    "        run_id = datasaver.run_id\n",
    "    stop = time.perf_counter()\n",
    "    tot_time = stop - start\n",
    "    add_time = stop_adding - start_adding\n",
    "    return tot_time, add_time, run_id"
   ]
  },
  {
   "cell_type": "markdown",
   "metadata": {},
   "source": [
    "## Comparison between numeric/array data and binary blob"
   ]
  },
  {
   "cell_type": "markdown",
   "metadata": {},
   "source": [
    "### Case1: Short experiment time"
   ]
  },
  {
   "cell_type": "code",
   "execution_count": 5,
   "metadata": {
    "execution": {
     "iopub.execute_input": "2021-04-28T07:52:22.050416Z",
     "iopub.status.busy": "2021-04-28T07:52:22.049710Z",
     "iopub.status.idle": "2021-04-28T07:52:22.790696Z",
     "shell.execute_reply": "2021-04-28T07:52:22.791164Z"
    }
   },
   "outputs": [
    {
     "name": "stdout",
     "output_type": "stream",
     "text": [
      "Starting experimental run with id: 1. \n",
      "Starting experimental run with id: 2. \n",
      "Starting experimental run with id: 3. \n",
      "Starting experimental run with id: 4. \n",
      "Starting experimental run with id: 5. \n"
     ]
    },
    {
     "name": "stdout",
     "output_type": "stream",
     "text": [
      "Starting experimental run with id: 6. \n"
     ]
    },
    {
     "name": "stdout",
     "output_type": "stream",
     "text": [
      "Starting experimental run with id: 7. \n"
     ]
    },
    {
     "name": "stdout",
     "output_type": "stream",
     "text": [
      "Starting experimental run with id: 8. \n",
      "Starting experimental run with id: 9. \n"
     ]
    },
    {
     "name": "stdout",
     "output_type": "stream",
     "text": [
      "Starting experimental run with id: 10. \n",
      "Starting experimental run with id: 11. \n"
     ]
    },
    {
     "name": "stdout",
     "output_type": "stream",
     "text": [
      "Starting experimental run with id: 12. \n",
      "Starting experimental run with id: 13. \n"
     ]
    },
    {
     "name": "stdout",
     "output_type": "stream",
     "text": [
      "Starting experimental run with id: 14. \n"
     ]
    }
   ],
   "source": [
    "sizes = [1,500,1000,2000,3000,4000,5000]\n",
    "t_numeric = []\n",
    "t_numeric_add = []\n",
    "t_array = []\n",
    "t_array_add = []\n",
    "for size in sizes:\n",
    "    tn, tna, run_id_n =  insert_data('numeric', size)\n",
    "    t_numeric.append(tn)\n",
    "    t_numeric_add.append(tna)\n",
    "\n",
    "    ta, taa, run_id_a =  insert_data('array', size)\n",
    "    t_array.append(ta)\n",
    "    t_array_add.append(taa)"
   ]
  },
  {
   "cell_type": "code",
   "execution_count": 6,
   "metadata": {
    "execution": {
     "iopub.execute_input": "2021-04-28T07:52:22.812253Z",
     "iopub.status.busy": "2021-04-28T07:52:22.808602Z",
     "iopub.status.idle": "2021-04-28T07:52:22.985276Z",
     "shell.execute_reply": "2021-04-28T07:52:22.985713Z"
    }
   },
   "outputs": [
    {
     "data": {
      "image/png": "[encoded data removed]",
      "text/plain": [
       "<Figure size 432x288 with 1 Axes>"
      ]
     },
     "metadata": {
      "needs_background": "light"
     },
     "output_type": "display_data"
    }
   ],
   "source": [
    "fig, ax = plt.subplots(1,1)\n",
    "ax.plot(sizes, t_numeric, 'o-', label='Inserting row-by-row')\n",
    "ax.plot(sizes, t_numeric_add, 'o-', label='Inserting row-by-row: add_result only')\n",
    "ax.plot(sizes, t_array, 'd-', label='Inserting as binary blob')\n",
    "ax.plot(sizes, t_array_add, 'd-', label='Inserting as binary blob: add_result only')\n",
    "ax.legend()\n",
    "ax.set_xlabel('Array length')\n",
    "ax.set_ylabel('Time (s)')\n",
    "fig.tight_layout()"
   ]
  },
  {
   "cell_type": "markdown",
   "metadata": {},
   "source": [
    "As shown in the latter figure, the time to setup and and close the experiment is approximately 0.4 sec. In case of small array sizes, the difference between inserting values of data as arrays and inserting them row-by-row is relatively unimportant. At larger array sizes, i.e. above 10000 points, the cost of writing data as individual datapoints starts to become important.\n"
   ]
  },
  {
   "cell_type": "markdown",
   "metadata": {},
   "source": [
    "### Case2: Long experiment time "
   ]
  },
  {
   "cell_type": "code",
   "execution_count": 7,
   "metadata": {
    "execution": {
     "iopub.execute_input": "2021-04-28T07:52:22.988563Z",
     "iopub.status.busy": "2021-04-28T07:52:22.988054Z",
     "iopub.status.idle": "2021-04-28T07:53:16.959588Z",
     "shell.execute_reply": "2021-04-28T07:53:16.958945Z"
    }
   },
   "outputs": [
    {
     "name": "stdout",
     "output_type": "stream",
     "text": [
      "Starting experimental run with id: 15. \n",
      "Starting experimental run with id: 16. \n",
      "Starting experimental run with id: 17. \n"
     ]
    },
    {
     "name": "stdout",
     "output_type": "stream",
     "text": [
      "Starting experimental run with id: 18. \n",
      "Starting experimental run with id: 19. \n"
     ]
    },
    {
     "name": "stdout",
     "output_type": "stream",
     "text": [
      "Starting experimental run with id: 20. \n"
     ]
    },
    {
     "name": "stdout",
     "output_type": "stream",
     "text": [
      "Starting experimental run with id: 21. \n"
     ]
    },
    {
     "name": "stdout",
     "output_type": "stream",
     "text": [
      "Starting experimental run with id: 22. \n"
     ]
    },
    {
     "name": "stdout",
     "output_type": "stream",
     "text": [
      "Starting experimental run with id: 23. \n"
     ]
    },
    {
     "name": "stdout",
     "output_type": "stream",
     "text": [
      "Starting experimental run with id: 24. \n"
     ]
    },
    {
     "name": "stdout",
     "output_type": "stream",
     "text": [
      "Starting experimental run with id: 25. \n"
     ]
    },
    {
     "name": "stdout",
     "output_type": "stream",
     "text": [
      "Starting experimental run with id: 26. \n"
     ]
    },
    {
     "name": "stdout",
     "output_type": "stream",
     "text": [
      "Starting experimental run with id: 27. \n"
     ]
    },
    {
     "name": "stdout",
     "output_type": "stream",
     "text": [
      "Starting experimental run with id: 28. \n"
     ]
    }
   ],
   "source": [
    "sizes = [1,500,1000,2000,3000,4000,5000]\n",
    "nreps = 100\n",
    "t_numeric = []\n",
    "t_numeric_add = []\n",
    "t_numeric_run_ids = []\n",
    "t_array = []\n",
    "t_array_add = []\n",
    "t_array_run_ids = []\n",
    "for size in sizes:\n",
    "    tn, tna, run_id_n =  insert_data('numeric', size, nreps=nreps)\n",
    "    t_numeric.append(tn)\n",
    "    t_numeric_add.append(tna)\n",
    "    t_numeric_run_ids.append(run_id_n)\n",
    "\n",
    "    ta, taa, run_id_a =  insert_data('array', size, nreps=nreps)\n",
    "    t_array.append(ta)\n",
    "    t_array_add.append(taa)\n",
    "    t_array_run_ids.append(run_id_a)"
   ]
  },
  {
   "cell_type": "code",
   "execution_count": 8,
   "metadata": {
    "execution": {
     "iopub.execute_input": "2021-04-28T07:53:16.979584Z",
     "iopub.status.busy": "2021-04-28T07:53:16.977285Z",
     "iopub.status.idle": "2021-04-28T07:53:17.134507Z",
     "shell.execute_reply": "2021-04-28T07:53:17.134993Z"
    },
    "scrolled": true
   },
   "outputs": [
    {
     "data": {
      "image/png": "[encoded data removed]",
      "text/plain": [
       "<Figure size 432x288 with 1 Axes>"
      ]
     },
     "metadata": {
      "needs_background": "light"
     },
     "output_type": "display_data"
    }
   ],
   "source": [
    "fig, ax = plt.subplots(1,1)\n",
    "ax.plot(sizes, t_numeric, 'o-', label='Inserting row-by-row')\n",
    "ax.plot(sizes, t_numeric_add, 'o-', label='Inserting row-by-row: add_result only')\n",
    "ax.plot(sizes, t_array, 'd-', label='Inserting as binary blob')\n",
    "ax.plot(sizes, t_array_add, 'd-', label='Inserting as binary blob: add_result only')\n",
    "ax.legend()\n",
    "ax.set_xlabel('Array length')\n",
    "ax.set_ylabel('Time (s)')\n",
    "fig.tight_layout()"
   ]
  },
  {
   "cell_type": "markdown",
   "metadata": {},
   "source": [
    "However, as we increase the length of the experiment, as seen here by repeating the insertion 100 times, we see a big difference between inserting values of the data row-by-row and inserting it as a binary blob."
   ]
  },
  {
   "cell_type": "markdown",
   "metadata": {},
   "source": [
    "## Loading the data "
   ]
  },
  {
   "cell_type": "code",
   "execution_count": 9,
   "metadata": {
    "execution": {
     "iopub.execute_input": "2021-04-28T07:53:17.139283Z",
     "iopub.status.busy": "2021-04-28T07:53:17.138727Z",
     "iopub.status.idle": "2021-04-28T07:53:17.140343Z",
     "shell.execute_reply": "2021-04-28T07:53:17.140807Z"
    }
   },
   "outputs": [],
   "source": [
    "from qcodes.dataset.data_set import load_by_id"
   ]
  },
  {
   "cell_type": "markdown",
   "metadata": {},
   "source": [
    "As usual you can load the data by using the ``load_by_id`` function but you will notice that the different storage methods\n",
    "are reflected in shape of the data as it is retrieved. "
   ]
  },
  {
   "cell_type": "code",
   "execution_count": 10,
   "metadata": {
    "execution": {
     "iopub.execute_input": "2021-04-28T07:53:17.143336Z",
     "iopub.status.busy": "2021-04-28T07:53:17.142784Z",
     "iopub.status.idle": "2021-04-28T07:53:17.145617Z",
     "shell.execute_reply": "2021-04-28T07:53:17.146153Z"
    }
   },
   "outputs": [],
   "source": [
    "run_id_n = t_numeric_run_ids[0]\n",
    "run_id_a = t_array_run_ids[0]"
   ]
  },
  {
   "cell_type": "code",
   "execution_count": 11,
   "metadata": {
    "execution": {
     "iopub.execute_input": "2021-04-28T07:53:17.149573Z",
     "iopub.status.busy": "2021-04-28T07:53:17.149024Z",
     "iopub.status.idle": "2021-04-28T07:53:17.159831Z",
     "shell.execute_reply": "2021-04-28T07:53:17.159345Z"
    },
    "scrolled": true
   },
   "outputs": [
    {
     "data": {
      "text/plain": [
       "{'x1': {'x1': array([8.34738813e-01, 8.34738813e-01, 9.65258675e-01, 9.65258675e-01,\n",
       "         9.12338482e-01, 9.12338482e-01, 7.38935663e-01, 7.38935663e-01,\n",
       "         3.57963483e-01, 3.57963483e-01, 4.34957377e-01, 4.34957377e-01,\n",
       "         5.08669156e-01, 5.08669156e-01, 7.72905713e-01, 7.72905713e-01,\n",
       "         3.10458412e-01, 3.10458412e-01, 1.20944144e-01, 1.20944144e-01,\n",
       "         1.93770025e-01, 1.93770025e-01, 5.82658054e-01, 5.82658054e-01,\n",
       "         7.96482455e-01, 7.96482455e-01, 7.07700167e-01, 7.07700167e-01,\n",
       "         6.35270498e-01, 6.35270498e-01, 2.94319431e-01, 2.94319431e-01,\n",
       "         2.42046203e-01, 2.42046203e-01, 3.18869677e-01, 3.18869677e-01,\n",
       "         4.64222626e-01, 4.64222626e-01, 8.67743656e-01, 8.67743656e-01,\n",
       "         9.82196332e-01, 9.82196332e-01, 2.37367816e-02, 2.37367816e-02,\n",
       "         4.31684024e-01, 4.31684024e-01, 7.31562499e-01, 7.31562499e-01,\n",
       "         9.96715811e-01, 9.96715811e-01, 2.07746801e-02, 2.07746801e-02,\n",
       "         4.43454231e-01, 4.43454231e-01, 9.94527602e-01, 9.94527602e-01,\n",
       "         4.20813262e-01, 4.20813262e-01, 4.36291211e-01, 4.36291211e-01,\n",
       "         5.70943713e-01, 5.70943713e-01, 6.04326543e-01, 6.04326543e-01,\n",
       "         5.59897279e-01, 5.59897279e-01, 6.49820601e-01, 6.49820601e-01,\n",
       "         7.86364676e-01, 7.86364676e-01, 1.19372761e-02, 1.19372761e-02,\n",
       "         7.70890314e-01, 7.70890314e-01, 1.64081310e-01, 1.64081310e-01,\n",
       "         9.42674717e-01, 9.42674717e-01, 3.77820687e-01, 3.77820687e-01,\n",
       "         8.34363193e-01, 8.34363193e-01, 7.78904230e-01, 7.78904230e-01,\n",
       "         7.86308234e-01, 7.86308234e-01, 8.64507677e-01, 8.64507677e-01,\n",
       "         2.15079440e-01, 2.15079440e-01, 2.19631786e-01, 2.19631786e-01,\n",
       "         4.98401569e-01, 4.98401569e-01, 3.76315723e-01, 3.76315723e-01,\n",
       "         9.82211006e-02, 9.82211006e-02, 3.57830866e-01, 3.57830866e-01,\n",
       "         5.92822048e-01, 5.92822048e-01, 9.21462002e-01, 9.21462002e-01,\n",
       "         3.71217042e-01, 3.71217042e-01, 7.50337153e-01, 7.50337153e-01,\n",
       "         9.91149969e-01, 9.91149969e-01, 5.14009222e-01, 5.14009222e-01,\n",
       "         6.97705384e-01, 6.97705384e-01, 8.84598485e-01, 8.84598485e-01,\n",
       "         4.93823882e-01, 4.93823882e-01, 2.86001231e-01, 2.86001231e-01,\n",
       "         5.93890089e-01, 5.93890089e-01, 5.75832518e-01, 5.75832518e-01,\n",
       "         4.90494852e-01, 4.90494852e-01, 6.46149014e-01, 6.46149014e-01,\n",
       "         9.37122995e-01, 9.37122995e-01, 4.31873221e-04, 4.31873221e-04,\n",
       "         1.91107342e-01, 1.91107342e-01, 4.91283478e-01, 4.91283478e-01,\n",
       "         2.29791703e-01, 2.29791703e-01, 5.71946409e-02, 5.71946409e-02,\n",
       "         1.96589988e-01, 1.96589988e-01, 6.71532953e-01, 6.71532953e-01,\n",
       "         9.54329110e-01, 9.54329110e-01, 7.53218232e-01, 7.53218232e-01,\n",
       "         6.71999583e-01, 6.71999583e-01, 8.94820602e-01, 8.94820602e-01,\n",
       "         7.80417556e-01, 7.80417556e-01, 3.14460826e-01, 3.14460826e-01,\n",
       "         2.05571646e-01, 2.05571646e-01, 3.10500270e-01, 3.10500270e-01,\n",
       "         3.63868472e-01, 3.63868472e-01, 9.17182342e-02, 9.17182342e-02,\n",
       "         5.78214502e-02, 5.78214502e-02, 7.05727754e-01, 7.05727754e-01,\n",
       "         6.49966166e-01, 6.49966166e-01, 7.61452329e-02, 7.61452329e-02,\n",
       "         9.03289089e-01, 9.03289089e-01, 1.27263132e-01, 1.27263132e-01,\n",
       "         7.36692439e-01, 7.36692439e-01, 6.25188777e-01, 6.25188777e-01,\n",
       "         9.64487861e-01, 9.64487861e-01, 6.47735351e-01, 6.47735351e-01,\n",
       "         5.52375089e-01, 5.52375089e-01, 9.55649202e-01, 9.55649202e-01,\n",
       "         8.75385297e-01, 8.75385297e-01, 4.44797977e-01, 4.44797977e-01,\n",
       "         6.54105540e-01, 6.54105540e-01, 4.08144835e-01, 4.08144835e-01,\n",
       "         2.94314615e-01, 2.94314615e-01, 2.72649333e-03, 2.72649333e-03])}}"
      ]
     },
     "execution_count": 1,
     "metadata": {},
     "output_type": "execute_result"
    }
   ],
   "source": [
    "ds = load_by_id(run_id_n)\n",
    "ds.get_parameter_data('x1')"
   ]
  },
  {
   "cell_type": "markdown",
   "metadata": {},
   "source": [
    "And a dataset stored as binary arrays"
   ]
  },
  {
   "cell_type": "code",
   "execution_count": 12,
   "metadata": {
    "execution": {
     "iopub.execute_input": "2021-04-28T07:53:17.163250Z",
     "iopub.status.busy": "2021-04-28T07:53:17.162698Z",
     "iopub.status.idle": "2021-04-28T07:53:17.218285Z",
     "shell.execute_reply": "2021-04-28T07:53:17.219148Z"
    },
    "scrolled": true
   },
   "outputs": [
    {
     "data": {
      "text/plain": [
       "{'x1': {'x1': array([[0.12152728],\n",
       "         [0.12152728],\n",
       "         [0.58949146],\n",
       "         [0.58949146],\n",
       "         [0.79525227],\n",
       "         [0.79525227],\n",
       "         [0.19303607],\n",
       "         [0.19303607],\n",
       "         [0.57767259],\n",
       "         [0.57767259],\n",
       "         [0.58811413],\n",
       "         [0.58811413],\n",
       "         [0.7364094 ],\n",
       "         [0.7364094 ],\n",
       "         [0.77853292],\n",
       "         [0.77853292],\n",
       "         [0.7552463 ],\n",
       "         [0.7552463 ],\n",
       "         [0.6439737 ],\n",
       "         [0.6439737 ],\n",
       "         [0.6803063 ],\n",
       "         [0.6803063 ],\n",
       "         [0.88421164],\n",
       "         [0.88421164],\n",
       "         [0.24183354],\n",
       "         [0.24183354],\n",
       "         [0.03021699],\n",
       "         [0.03021699],\n",
       "         [0.66783977],\n",
       "         [0.66783977],\n",
       "         [0.64618644],\n",
       "         [0.64618644],\n",
       "         [0.99853248],\n",
       "         [0.99853248],\n",
       "         [0.9954398 ],\n",
       "         [0.9954398 ],\n",
       "         [0.02223406],\n",
       "         [0.02223406],\n",
       "         [0.5518379 ],\n",
       "         [0.5518379 ],\n",
       "         [0.27071822],\n",
       "         [0.27071822],\n",
       "         [0.65733734],\n",
       "         [0.65733734],\n",
       "         [0.22474941],\n",
       "         [0.22474941],\n",
       "         [0.6599238 ],\n",
       "         [0.6599238 ],\n",
       "         [0.33896016],\n",
       "         [0.33896016],\n",
       "         [0.69217923],\n",
       "         [0.69217923],\n",
       "         [0.07110466],\n",
       "         [0.07110466],\n",
       "         [0.7894539 ],\n",
       "         [0.7894539 ],\n",
       "         [0.5080556 ],\n",
       "         [0.5080556 ],\n",
       "         [0.44483927],\n",
       "         [0.44483927],\n",
       "         [0.43587098],\n",
       "         [0.43587098],\n",
       "         [0.83206609],\n",
       "         [0.83206609],\n",
       "         [0.53575968],\n",
       "         [0.53575968],\n",
       "         [0.85029794],\n",
       "         [0.85029794],\n",
       "         [0.59701265],\n",
       "         [0.59701265],\n",
       "         [0.81598827],\n",
       "         [0.81598827],\n",
       "         [0.97821678],\n",
       "         [0.97821678],\n",
       "         [0.63495677],\n",
       "         [0.63495677],\n",
       "         [0.41471034],\n",
       "         [0.41471034],\n",
       "         [0.07174636],\n",
       "         [0.07174636],\n",
       "         [0.8084698 ],\n",
       "         [0.8084698 ],\n",
       "         [0.89265643],\n",
       "         [0.89265643],\n",
       "         [0.8035798 ],\n",
       "         [0.8035798 ],\n",
       "         [0.65759622],\n",
       "         [0.65759622],\n",
       "         [0.67311938],\n",
       "         [0.67311938],\n",
       "         [0.72407565],\n",
       "         [0.72407565],\n",
       "         [0.96959525],\n",
       "         [0.96959525],\n",
       "         [0.99943285],\n",
       "         [0.99943285],\n",
       "         [0.54470099],\n",
       "         [0.54470099],\n",
       "         [0.05083511],\n",
       "         [0.05083511],\n",
       "         [0.95769368],\n",
       "         [0.95769368],\n",
       "         [0.93822986],\n",
       "         [0.93822986],\n",
       "         [0.89009547],\n",
       "         [0.89009547],\n",
       "         [0.70466703],\n",
       "         [0.70466703],\n",
       "         [0.02484699],\n",
       "         [0.02484699],\n",
       "         [0.17114212],\n",
       "         [0.17114212],\n",
       "         [0.07304657],\n",
       "         [0.07304657],\n",
       "         [0.62306225],\n",
       "         [0.62306225],\n",
       "         [0.75226473],\n",
       "         [0.75226473],\n",
       "         [0.06539193],\n",
       "         [0.06539193],\n",
       "         [0.52189147],\n",
       "         [0.52189147],\n",
       "         [0.47302857],\n",
       "         [0.47302857],\n",
       "         [0.99493992],\n",
       "         [0.99493992],\n",
       "         [0.11116659],\n",
       "         [0.11116659],\n",
       "         [0.12277563],\n",
       "         [0.12277563],\n",
       "         [0.02159173],\n",
       "         [0.02159173],\n",
       "         [0.56807705],\n",
       "         [0.56807705],\n",
       "         [0.50239969],\n",
       "         [0.50239969],\n",
       "         [0.82028599],\n",
       "         [0.82028599],\n",
       "         [0.09042835],\n",
       "         [0.09042835],\n",
       "         [0.95462716],\n",
       "         [0.95462716],\n",
       "         [0.61710796],\n",
       "         [0.61710796],\n",
       "         [0.07882154],\n",
       "         [0.07882154],\n",
       "         [0.59611189],\n",
       "         [0.59611189],\n",
       "         [0.62248076],\n",
       "         [0.62248076],\n",
       "         [0.30457133],\n",
       "         [0.30457133],\n",
       "         [0.30571552],\n",
       "         [0.30571552],\n",
       "         [0.82103227],\n",
       "         [0.82103227],\n",
       "         [0.59408302],\n",
       "         [0.59408302],\n",
       "         [0.0392868 ],\n",
       "         [0.0392868 ],\n",
       "         [0.32315788],\n",
       "         [0.32315788],\n",
       "         [0.79967291],\n",
       "         [0.79967291],\n",
       "         [0.3736384 ],\n",
       "         [0.3736384 ],\n",
       "         [0.63069145],\n",
       "         [0.63069145],\n",
       "         [0.10078645],\n",
       "         [0.10078645],\n",
       "         [0.59338226],\n",
       "         [0.59338226],\n",
       "         [0.0147286 ],\n",
       "         [0.0147286 ],\n",
       "         [0.55900693],\n",
       "         [0.55900693],\n",
       "         [0.53661894],\n",
       "         [0.53661894],\n",
       "         [0.15060378],\n",
       "         [0.15060378],\n",
       "         [0.6298084 ],\n",
       "         [0.6298084 ],\n",
       "         [0.73408368],\n",
       "         [0.73408368],\n",
       "         [0.67431064],\n",
       "         [0.67431064],\n",
       "         [0.91193881],\n",
       "         [0.91193881],\n",
       "         [0.02893401],\n",
       "         [0.02893401],\n",
       "         [0.6462111 ],\n",
       "         [0.6462111 ],\n",
       "         [0.62283667],\n",
       "         [0.62283667],\n",
       "         [0.62165997],\n",
       "         [0.62165997],\n",
       "         [0.21497678],\n",
       "         [0.21497678],\n",
       "         [0.57425598],\n",
       "         [0.57425598]])}}"
      ]
     },
     "execution_count": 1,
     "metadata": {},
     "output_type": "execute_result"
    }
   ],
   "source": [
    "ds = load_by_id(run_id_a)\n",
    "ds.get_parameter_data('x1')"
   ]
  },
  {
   "cell_type": "code",
   "execution_count": null,
   "metadata": {},
   "outputs": [],
   "source": []
  }
 ],
 "metadata": {
  "kernelspec": {
   "display_name": "Python 3",
   "language": "python",
   "name": "python3"
  },
  "language_info": {
   "codemirror_mode": {
    "name": "ipython",
    "version": 3
   },
   "file_extension": ".py",
   "mimetype": "text/x-python",
   "name": "python",
   "nbconvert_exporter": "python",
   "pygments_lexer": "ipython3",
   "version": "3.7.10"
  },
  "nbsphinx": {
   "timeout": 600
  },
  "toc": {
   "base_numbering": 1,
   "nav_menu": {},
   "number_sections": true,
   "sideBar": true,
   "skip_h1_title": false,
   "title_cell": "Table of Contents",
   "title_sidebar": "Contents",
   "toc_cell": false,
   "toc_position": {},
   "toc_section_display": true,
   "toc_window_display": false
  },
  "varInspector": {
   "cols": {
    "lenName": 16,
    "lenType": 16,
    "lenVar": 40
   },
   "kernels_config": {
    "python": {
     "delete_cmd_postfix": "",
     "delete_cmd_prefix": "del ",
     "library": "var_list.py",
     "varRefreshCmd": "print(var_dic_list())"
    },
    "r": {
     "delete_cmd_postfix": ") ",
     "delete_cmd_prefix": "rm(",
     "library": "var_list.r",
     "varRefreshCmd": "cat(var_dic_list()) "
    }
   },
   "types_to_exclude": [
    "module",
    "function",
    "builtin_function_or_method",
    "instance",
    "_Feature"
   ],
   "window_display": false
  }
 },
 "nbformat": 4,
 "nbformat_minor": 4
}
