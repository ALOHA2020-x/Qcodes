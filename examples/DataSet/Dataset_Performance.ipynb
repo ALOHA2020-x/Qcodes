{
 "cells": [
  {
   "cell_type": "markdown",
   "metadata": {},
   "source": [
    "# DataSet Performance\n",
    "\n",
    "This notebook shows the trade-off between inserting data into a database row-by-row and as binary blobs. Inserting the data row-by-row means that we have direct access to all the data and may perform queries directly on the values of the data. On the other hand, as we shall see, this is much slower than inserting the data directly as binary blobs."
   ]
  },
  {
   "cell_type": "markdown",
   "metadata": {},
   "source": [
    "First, we choose a new location for the database to ensure that we don't add a bunch of benchmarking data to the default one."
   ]
  },
  {
   "cell_type": "code",
   "execution_count": 1,
   "metadata": {
    "execution": {
     "iopub.execute_input": "2021-05-25T07:10:49.615074Z",
     "iopub.status.busy": "2021-05-25T07:10:49.614530Z",
     "iopub.status.idle": "2021-05-25T07:10:50.652291Z",
     "shell.execute_reply": "2021-05-25T07:10:50.652761Z"
    }
   },
   "outputs": [
    {
     "name": "stdout",
     "output_type": "stream",
     "text": [
      "Logging hadn't been started.\n",
      "Activating auto-logging. Current session state plus future input saved.\n",
      "Filename       : /home/runner/.qcodes/logs/command_history.log\n",
      "Mode           : append\n",
      "Output logging : True\n",
      "Raw input log  : False\n",
      "Timestamping   : True\n",
      "State          : active\n"
     ]
    },
    {
     "name": "stdout",
     "output_type": "stream",
     "text": [
      "Qcodes Logfile : /home/runner/.qcodes/logs/210525-4497-qcodes.log\n"
     ]
    }
   ],
   "source": [
    "import os\n",
    "cwd = os.getcwd()\n",
    "import qcodes as qc\n",
    "qc.config[\"core\"][\"db_location\"] = os.path.join(cwd, 'testing.db')\n"
   ]
  },
  {
   "cell_type": "code",
   "execution_count": 2,
   "metadata": {
    "execution": {
     "iopub.execute_input": "2021-05-25T07:10:50.659035Z",
     "iopub.status.busy": "2021-05-25T07:10:50.658195Z",
     "iopub.status.idle": "2021-05-25T07:10:50.837165Z",
     "shell.execute_reply": "2021-05-25T07:10:50.836602Z"
    }
   },
   "outputs": [],
   "source": [
    "%matplotlib inline\n",
    "import time\n",
    "import matplotlib.pyplot as plt\n",
    "import numpy as np\n",
    "\n",
    "import qcodes as qc\n",
    "from qcodes.instrument.parameter import ManualParameter\n",
    "from qcodes.dataset.experiment_container import (Experiment,\n",
    "                                                 load_last_experiment,\n",
    "                                                 new_experiment)\n",
    "from qcodes.dataset.sqlite.database import initialise_database\n",
    "from qcodes import load_or_create_experiment\n",
    "from qcodes.dataset.measurements import Measurement"
   ]
  },
  {
   "cell_type": "code",
   "execution_count": 3,
   "metadata": {
    "execution": {
     "iopub.execute_input": "2021-05-25T07:10:50.840698Z",
     "iopub.status.busy": "2021-05-25T07:10:50.840215Z",
     "iopub.status.idle": "2021-05-25T07:10:50.889155Z",
     "shell.execute_reply": "2021-05-25T07:10:50.889563Z"
    }
   },
   "outputs": [
    {
     "name": "stdout",
     "output_type": "stream",
     "text": [
      "\r",
      "0it [00:00, ?it/s]"
     ]
    },
    {
     "name": "stdout",
     "output_type": "stream",
     "text": [
      "\r",
      "Upgrading database; v0 -> v1: : 0it [00:00, ?it/s]"
     ]
    },
    {
     "name": "stdout",
     "output_type": "stream",
     "text": [
      "\r",
      "Upgrading database; v0 -> v1: : 0it [00:00, ?it/s]"
     ]
    },
    {
     "name": "stdout",
     "output_type": "stream",
     "text": [
      "\n",
      "\r",
      "  0%|          | 0/1 [00:00<?, ?it/s]"
     ]
    },
    {
     "name": "stdout",
     "output_type": "stream",
     "text": [
      "\r",
      "Upgrading database; v1 -> v2:   0%|          | 0/1 [00:00<?, ?it/s]"
     ]
    },
    {
     "name": "stdout",
     "output_type": "stream",
     "text": [
      "\r",
      "Upgrading database; v1 -> v2: 100%|██████████| 1/1 [00:00<00:00, 1047.79it/s]"
     ]
    },
    {
     "name": "stdout",
     "output_type": "stream",
     "text": [
      "\n",
      "\r",
      "0it [00:00, ?it/s]"
     ]
    },
    {
     "name": "stdout",
     "output_type": "stream",
     "text": [
      "\r",
      "Upgrading database; v2 -> v3: : 0it [00:00, ?it/s]"
     ]
    },
    {
     "name": "stdout",
     "output_type": "stream",
     "text": [
      "\r",
      "Upgrading database; v2 -> v3: : 0it [00:00, ?it/s]"
     ]
    },
    {
     "name": "stdout",
     "output_type": "stream",
     "text": [
      "\n",
      "\r",
      "0it [00:00, ?it/s]"
     ]
    },
    {
     "name": "stdout",
     "output_type": "stream",
     "text": [
      "\r",
      "Upgrading database; v3 -> v4: : 0it [00:00, ?it/s]"
     ]
    },
    {
     "name": "stdout",
     "output_type": "stream",
     "text": [
      "\r",
      "Upgrading database; v3 -> v4: : 0it [00:00, ?it/s]"
     ]
    },
    {
     "name": "stdout",
     "output_type": "stream",
     "text": [
      "\n",
      "\r",
      "  0%|          | 0/1 [00:00<?, ?it/s]"
     ]
    },
    {
     "name": "stdout",
     "output_type": "stream",
     "text": [
      "\r",
      "Upgrading database; v4 -> v5:   0%|          | 0/1 [00:00<?, ?it/s]"
     ]
    },
    {
     "name": "stdout",
     "output_type": "stream",
     "text": [
      "\r",
      "Upgrading database; v4 -> v5: 100%|██████████| 1/1 [00:00<00:00, 946.15it/s]"
     ]
    },
    {
     "name": "stdout",
     "output_type": "stream",
     "text": [
      "\n",
      "\r",
      "0it [00:00, ?it/s]"
     ]
    },
    {
     "name": "stdout",
     "output_type": "stream",
     "text": [
      "\r",
      "Upgrading database; v5 -> v6: : 0it [00:00, ?it/s]"
     ]
    },
    {
     "name": "stdout",
     "output_type": "stream",
     "text": [
      "\r",
      "Upgrading database; v5 -> v6: : 0it [00:00, ?it/s]"
     ]
    },
    {
     "name": "stdout",
     "output_type": "stream",
     "text": [
      "\n",
      "\r",
      "  0%|          | 0/1 [00:00<?, ?it/s]"
     ]
    },
    {
     "name": "stdout",
     "output_type": "stream",
     "text": [
      "\r",
      "Upgrading database; v6 -> v7:   0%|          | 0/1 [00:00<?, ?it/s]"
     ]
    },
    {
     "name": "stdout",
     "output_type": "stream",
     "text": [
      "\r",
      "Upgrading database; v6 -> v7: 100%|██████████| 1/1 [00:00<00:00, 522.33it/s]"
     ]
    },
    {
     "name": "stdout",
     "output_type": "stream",
     "text": [
      "\n",
      "\r",
      "  0%|          | 0/1 [00:00<?, ?it/s]"
     ]
    },
    {
     "name": "stdout",
     "output_type": "stream",
     "text": [
      "\r",
      "Upgrading database; v7 -> v8:   0%|          | 0/1 [00:00<?, ?it/s]"
     ]
    },
    {
     "name": "stdout",
     "output_type": "stream",
     "text": [
      "\r",
      "Upgrading database; v7 -> v8: 100%|██████████| 1/1 [00:00<00:00, 827.77it/s]"
     ]
    },
    {
     "name": "stdout",
     "output_type": "stream",
     "text": [
      "\n",
      "\r",
      "  0%|          | 0/1 [00:00<?, ?it/s]"
     ]
    },
    {
     "name": "stdout",
     "output_type": "stream",
     "text": [
      "\r",
      "Upgrading database; v8 -> v9:   0%|          | 0/1 [00:00<?, ?it/s]"
     ]
    },
    {
     "name": "stdout",
     "output_type": "stream",
     "text": [
      "\r",
      "Upgrading database; v8 -> v9: 100%|██████████| 1/1 [00:00<00:00, 990.39it/s]"
     ]
    },
    {
     "name": "stdout",
     "output_type": "stream",
     "text": [
      "\n"
     ]
    }
   ],
   "source": [
    "initialise_database()\n",
    "exp = load_or_create_experiment(experiment_name='tutorial_exp', sample_name=\"no sample\")"
   ]
  },
  {
   "cell_type": "markdown",
   "metadata": {},
   "source": [
    "Here, we define a simple function to benchmark the time it takes to insert n points with either numeric or array data type.\n",
    "We will compare both the time used to call ``add_result`` and the time used for the full measurement."
   ]
  },
  {
   "cell_type": "code",
   "execution_count": 4,
   "metadata": {
    "execution": {
     "iopub.execute_input": "2021-05-25T07:10:50.897121Z",
     "iopub.status.busy": "2021-05-25T07:10:50.896595Z",
     "iopub.status.idle": "2021-05-25T07:10:50.899552Z",
     "shell.execute_reply": "2021-05-25T07:10:50.899113Z"
    }
   },
   "outputs": [],
   "source": [
    "def insert_data(paramtype, npoints, nreps=1):\n",
    "\n",
    "    meas = Measurement(exp=exp)\n",
    "\n",
    "    x1 = ManualParameter('x1')\n",
    "    x2 = ManualParameter('x2')\n",
    "    x3 = ManualParameter('x3')\n",
    "    y1 = ManualParameter('y1')\n",
    "    y2 = ManualParameter('y2')\n",
    "\n",
    "    meas.register_parameter(x1, paramtype=paramtype)\n",
    "    meas.register_parameter(x2, paramtype=paramtype)\n",
    "    meas.register_parameter(x3, paramtype=paramtype)\n",
    "    meas.register_parameter(y1, setpoints=[x1, x2, x3],\n",
    "                            paramtype=paramtype)\n",
    "    meas.register_parameter(y2, setpoints=[x1, x2, x3],\n",
    "                            paramtype=paramtype)\n",
    "    start = time.perf_counter()\n",
    "    with meas.run() as datasaver:\n",
    "        start_adding = time.perf_counter()\n",
    "        for i in range(nreps):\n",
    "            datasaver.add_result((x1, np.random.rand(npoints)),\n",
    "                                 (x2, np.random.rand(npoints)),\n",
    "                                 (x3, np.random.rand(npoints)),\n",
    "                                 (y1, np.random.rand(npoints)),\n",
    "                                 (y2, np.random.rand(npoints)))\n",
    "        stop_adding = time.perf_counter()\n",
    "        run_id = datasaver.run_id\n",
    "    stop = time.perf_counter()\n",
    "    tot_time = stop - start\n",
    "    add_time = stop_adding - start_adding\n",
    "    return tot_time, add_time, run_id"
   ]
  },
  {
   "cell_type": "markdown",
   "metadata": {},
   "source": [
    "## Comparison between numeric/array data and binary blob"
   ]
  },
  {
   "cell_type": "markdown",
   "metadata": {},
   "source": [
    "### Case1: Short experiment time"
   ]
  },
  {
   "cell_type": "code",
   "execution_count": 5,
   "metadata": {
    "execution": {
     "iopub.execute_input": "2021-05-25T07:10:50.905680Z",
     "iopub.status.busy": "2021-05-25T07:10:50.905123Z",
     "iopub.status.idle": "2021-05-25T07:10:51.607195Z",
     "shell.execute_reply": "2021-05-25T07:10:51.607590Z"
    }
   },
   "outputs": [
    {
     "name": "stdout",
     "output_type": "stream",
     "text": [
      "Starting experimental run with id: 1. \n",
      "Starting experimental run with id: 2. \n",
      "Starting experimental run with id: 3. \n",
      "Starting experimental run with id: 4. \n",
      "Starting experimental run with id: 5. \n"
     ]
    },
    {
     "name": "stdout",
     "output_type": "stream",
     "text": [
      "Starting experimental run with id: 6. "
     ]
    },
    {
     "name": "stdout",
     "output_type": "stream",
     "text": [
      "\n"
     ]
    },
    {
     "name": "stdout",
     "output_type": "stream",
     "text": [
      "Starting experimental run with id: 7. \n"
     ]
    },
    {
     "name": "stdout",
     "output_type": "stream",
     "text": [
      "Starting experimental run with id: 8. \n",
      "Starting experimental run with id: 9. \n",
      "Starting experimental run with id: 10. \n"
     ]
    },
    {
     "name": "stdout",
     "output_type": "stream",
     "text": [
      "Starting experimental run with id: 11. \n"
     ]
    },
    {
     "name": "stdout",
     "output_type": "stream",
     "text": [
      "Starting experimental run with id: 12. \n",
      "Starting experimental run with id: 13. \n"
     ]
    },
    {
     "name": "stdout",
     "output_type": "stream",
     "text": [
      "Starting experimental run with id: 14. \n"
     ]
    }
   ],
   "source": [
    "sizes = [1,500,1000,2000,3000,4000,5000]\n",
    "t_numeric = []\n",
    "t_numeric_add = []\n",
    "t_array = []\n",
    "t_array_add = []\n",
    "for size in sizes:\n",
    "    tn, tna, run_id_n =  insert_data('numeric', size)\n",
    "    t_numeric.append(tn)\n",
    "    t_numeric_add.append(tna)\n",
    "\n",
    "    ta, taa, run_id_a =  insert_data('array', size)\n",
    "    t_array.append(ta)\n",
    "    t_array_add.append(taa)"
   ]
  },
  {
   "cell_type": "code",
   "execution_count": 6,
   "metadata": {
    "execution": {
     "iopub.execute_input": "2021-05-25T07:10:51.635167Z",
     "iopub.status.busy": "2021-05-25T07:10:51.623695Z",
     "iopub.status.idle": "2021-05-25T07:10:51.815192Z",
     "shell.execute_reply": "2021-05-25T07:10:51.815587Z"
    }
   },
   "outputs": [
    {
     "data": {
      "image/png": "[encoded data removed]",
      "text/plain": [
       "<Figure size 432x288 with 1 Axes>"
      ]
     },
     "metadata": {
      "needs_background": "light"
     },
     "output_type": "display_data"
    }
   ],
   "source": [
    "fig, ax = plt.subplots(1,1)\n",
    "ax.plot(sizes, t_numeric, 'o-', label='Inserting row-by-row')\n",
    "ax.plot(sizes, t_numeric_add, 'o-', label='Inserting row-by-row: add_result only')\n",
    "ax.plot(sizes, t_array, 'd-', label='Inserting as binary blob')\n",
    "ax.plot(sizes, t_array_add, 'd-', label='Inserting as binary blob: add_result only')\n",
    "ax.legend()\n",
    "ax.set_xlabel('Array length')\n",
    "ax.set_ylabel('Time (s)')\n",
    "fig.tight_layout()"
   ]
  },
  {
   "cell_type": "markdown",
   "metadata": {},
   "source": [
    "As shown in the latter figure, the time to setup and and close the experiment is approximately 0.4 sec. In case of small array sizes, the difference between inserting values of data as arrays and inserting them row-by-row is relatively unimportant. At larger array sizes, i.e. above 10000 points, the cost of writing data as individual datapoints starts to become important.\n"
   ]
  },
  {
   "cell_type": "markdown",
   "metadata": {},
   "source": [
    "### Case2: Long experiment time "
   ]
  },
  {
   "cell_type": "code",
   "execution_count": 7,
   "metadata": {
    "execution": {
     "iopub.execute_input": "2021-05-25T07:10:51.821929Z",
     "iopub.status.busy": "2021-05-25T07:10:51.819776Z",
     "iopub.status.idle": "2021-05-25T07:11:42.614263Z",
     "shell.execute_reply": "2021-05-25T07:11:42.613724Z"
    }
   },
   "outputs": [
    {
     "name": "stdout",
     "output_type": "stream",
     "text": [
      "Starting experimental run with id: 15. \n",
      "Starting experimental run with id: 16. \n",
      "Starting experimental run with id: 17. \n"
     ]
    },
    {
     "name": "stdout",
     "output_type": "stream",
     "text": [
      "Starting experimental run with id: 18. \n",
      "Starting experimental run with id: 19. \n"
     ]
    },
    {
     "name": "stdout",
     "output_type": "stream",
     "text": [
      "Starting experimental run with id: 20. \n"
     ]
    },
    {
     "name": "stdout",
     "output_type": "stream",
     "text": [
      "Starting experimental run with id: 21. \n"
     ]
    },
    {
     "name": "stdout",
     "output_type": "stream",
     "text": [
      "Starting experimental run with id: 22. \n"
     ]
    },
    {
     "name": "stdout",
     "output_type": "stream",
     "text": [
      "Starting experimental run with id: 23. \n"
     ]
    },
    {
     "name": "stdout",
     "output_type": "stream",
     "text": [
      "Starting experimental run with id: 24. \n"
     ]
    },
    {
     "name": "stdout",
     "output_type": "stream",
     "text": [
      "Starting experimental run with id: 25. \n"
     ]
    },
    {
     "name": "stdout",
     "output_type": "stream",
     "text": [
      "Starting experimental run with id: 26. \n"
     ]
    },
    {
     "name": "stdout",
     "output_type": "stream",
     "text": [
      "Starting experimental run with id: 27. \n"
     ]
    },
    {
     "name": "stdout",
     "output_type": "stream",
     "text": [
      "Starting experimental run with id: 28. \n"
     ]
    }
   ],
   "source": [
    "sizes = [1,500,1000,2000,3000,4000,5000]\n",
    "nreps = 100\n",
    "t_numeric = []\n",
    "t_numeric_add = []\n",
    "t_numeric_run_ids = []\n",
    "t_array = []\n",
    "t_array_add = []\n",
    "t_array_run_ids = []\n",
    "for size in sizes:\n",
    "    tn, tna, run_id_n =  insert_data('numeric', size, nreps=nreps)\n",
    "    t_numeric.append(tn)\n",
    "    t_numeric_add.append(tna)\n",
    "    t_numeric_run_ids.append(run_id_n)\n",
    "\n",
    "    ta, taa, run_id_a =  insert_data('array', size, nreps=nreps)\n",
    "    t_array.append(ta)\n",
    "    t_array_add.append(taa)\n",
    "    t_array_run_ids.append(run_id_a)"
   ]
  },
  {
   "cell_type": "code",
   "execution_count": 8,
   "metadata": {
    "execution": {
     "iopub.execute_input": "2021-05-25T07:11:42.630012Z",
     "iopub.status.busy": "2021-05-25T07:11:42.618181Z",
     "iopub.status.idle": "2021-05-25T07:11:42.806798Z",
     "shell.execute_reply": "2021-05-25T07:11:42.806378Z"
    },
    "scrolled": true
   },
   "outputs": [
    {
     "data": {
      "image/png": "[encoded data removed]",
      "text/plain": [
       "<Figure size 432x288 with 1 Axes>"
      ]
     },
     "metadata": {
      "needs_background": "light"
     },
     "output_type": "display_data"
    }
   ],
   "source": [
    "fig, ax = plt.subplots(1,1)\n",
    "ax.plot(sizes, t_numeric, 'o-', label='Inserting row-by-row')\n",
    "ax.plot(sizes, t_numeric_add, 'o-', label='Inserting row-by-row: add_result only')\n",
    "ax.plot(sizes, t_array, 'd-', label='Inserting as binary blob')\n",
    "ax.plot(sizes, t_array_add, 'd-', label='Inserting as binary blob: add_result only')\n",
    "ax.legend()\n",
    "ax.set_xlabel('Array length')\n",
    "ax.set_ylabel('Time (s)')\n",
    "fig.tight_layout()"
   ]
  },
  {
   "cell_type": "markdown",
   "metadata": {},
   "source": [
    "However, as we increase the length of the experiment, as seen here by repeating the insertion 100 times, we see a big difference between inserting values of the data row-by-row and inserting it as a binary blob."
   ]
  },
  {
   "cell_type": "markdown",
   "metadata": {},
   "source": [
    "## Loading the data "
   ]
  },
  {
   "cell_type": "code",
   "execution_count": 9,
   "metadata": {
    "execution": {
     "iopub.execute_input": "2021-05-25T07:11:42.810526Z",
     "iopub.status.busy": "2021-05-25T07:11:42.810046Z",
     "iopub.status.idle": "2021-05-25T07:11:42.813187Z",
     "shell.execute_reply": "2021-05-25T07:11:42.812760Z"
    }
   },
   "outputs": [],
   "source": [
    "from qcodes.dataset.data_set import load_by_id"
   ]
  },
  {
   "cell_type": "markdown",
   "metadata": {},
   "source": [
    "As usual you can load the data by using the ``load_by_id`` function but you will notice that the different storage methods\n",
    "are reflected in shape of the data as it is retrieved. "
   ]
  },
  {
   "cell_type": "code",
   "execution_count": 10,
   "metadata": {
    "execution": {
     "iopub.execute_input": "2021-05-25T07:11:42.817272Z",
     "iopub.status.busy": "2021-05-25T07:11:42.816221Z",
     "iopub.status.idle": "2021-05-25T07:11:42.817840Z",
     "shell.execute_reply": "2021-05-25T07:11:42.818243Z"
    }
   },
   "outputs": [],
   "source": [
    "run_id_n = t_numeric_run_ids[0]\n",
    "run_id_a = t_array_run_ids[0]"
   ]
  },
  {
   "cell_type": "code",
   "execution_count": 11,
   "metadata": {
    "execution": {
     "iopub.execute_input": "2021-05-25T07:11:42.821138Z",
     "iopub.status.busy": "2021-05-25T07:11:42.820641Z",
     "iopub.status.idle": "2021-05-25T07:11:42.829518Z",
     "shell.execute_reply": "2021-05-25T07:11:42.829005Z"
    },
    "scrolled": true
   },
   "outputs": [
    {
     "data": {
      "text/plain": [
       "{'x1': {'x1': array([0.4901609 , 0.4901609 , 0.22737469, 0.22737469, 0.71677212,\n",
       "         0.71677212, 0.98218917, 0.98218917, 0.07086343, 0.07086343,\n",
       "         0.0300332 , 0.0300332 , 0.57516157, 0.57516157, 0.88909673,\n",
       "         0.88909673, 0.46009809, 0.46009809, 0.15570194, 0.15570194,\n",
       "         0.50189649, 0.50189649, 0.03037921, 0.03037921, 0.71889654,\n",
       "         0.71889654, 0.28041667, 0.28041667, 0.08093449, 0.08093449,\n",
       "         0.65647501, 0.65647501, 0.17113673, 0.17113673, 0.93309891,\n",
       "         0.93309891, 0.71125818, 0.71125818, 0.16496155, 0.16496155,\n",
       "         0.01696832, 0.01696832, 0.18280339, 0.18280339, 0.44322373,\n",
       "         0.44322373, 0.58604192, 0.58604192, 0.66160718, 0.66160718,\n",
       "         0.37148957, 0.37148957, 0.78850699, 0.78850699, 0.32566618,\n",
       "         0.32566618, 0.15568163, 0.15568163, 0.00490243, 0.00490243,\n",
       "         0.04556041, 0.04556041, 0.59459326, 0.59459326, 0.29789006,\n",
       "         0.29789006, 0.16525411, 0.16525411, 0.37803612, 0.37803612,\n",
       "         0.845935  , 0.845935  , 0.96404864, 0.96404864, 0.80796954,\n",
       "         0.80796954, 0.40518253, 0.40518253, 0.02562865, 0.02562865,\n",
       "         0.46180219, 0.46180219, 0.35577027, 0.35577027, 0.58902889,\n",
       "         0.58902889, 0.70804505, 0.70804505, 0.59478919, 0.59478919,\n",
       "         0.44551443, 0.44551443, 0.54477476, 0.54477476, 0.23779518,\n",
       "         0.23779518, 0.87682556, 0.87682556, 0.87894465, 0.87894465,\n",
       "         0.73480528, 0.73480528, 0.93157307, 0.93157307, 0.5560885 ,\n",
       "         0.5560885 , 0.1537713 , 0.1537713 , 0.6986437 , 0.6986437 ,\n",
       "         0.87548029, 0.87548029, 0.6553471 , 0.6553471 , 0.77486463,\n",
       "         0.77486463, 0.7086462 , 0.7086462 , 0.75232905, 0.75232905,\n",
       "         0.09928145, 0.09928145, 0.20577651, 0.20577651, 0.59747015,\n",
       "         0.59747015, 0.087228  , 0.087228  , 0.12583051, 0.12583051,\n",
       "         0.94410168, 0.94410168, 0.28160549, 0.28160549, 0.06302246,\n",
       "         0.06302246, 0.74975556, 0.74975556, 0.57955936, 0.57955936,\n",
       "         0.05818874, 0.05818874, 0.74221854, 0.74221854, 0.80310201,\n",
       "         0.80310201, 0.0964506 , 0.0964506 , 0.27429877, 0.27429877,\n",
       "         0.99780129, 0.99780129, 0.8924457 , 0.8924457 , 0.22241736,\n",
       "         0.22241736, 0.53099236, 0.53099236, 0.39863734, 0.39863734,\n",
       "         0.19893576, 0.19893576, 0.67778426, 0.67778426, 0.26108102,\n",
       "         0.26108102, 0.33096074, 0.33096074, 0.5173374 , 0.5173374 ,\n",
       "         0.18050728, 0.18050728, 0.91009894, 0.91009894, 0.57707564,\n",
       "         0.57707564, 0.91288585, 0.91288585, 0.27536288, 0.27536288,\n",
       "         0.18128871, 0.18128871, 0.74766847, 0.74766847, 0.63325549,\n",
       "         0.63325549, 0.8465944 , 0.8465944 , 0.33766593, 0.33766593,\n",
       "         0.88446674, 0.88446674, 0.22259183, 0.22259183, 0.61206217,\n",
       "         0.61206217, 0.74053985, 0.74053985, 0.21254084, 0.21254084])}}"
      ]
     },
     "execution_count": 1,
     "metadata": {},
     "output_type": "execute_result"
    }
   ],
   "source": [
    "ds = load_by_id(run_id_n)\n",
    "ds.get_parameter_data('x1')"
   ]
  },
  {
   "cell_type": "markdown",
   "metadata": {},
   "source": [
    "And a dataset stored as binary arrays"
   ]
  },
  {
   "cell_type": "code",
   "execution_count": 12,
   "metadata": {
    "execution": {
     "iopub.execute_input": "2021-05-25T07:11:42.832434Z",
     "iopub.status.busy": "2021-05-25T07:11:42.831954Z",
     "iopub.status.idle": "2021-05-25T07:11:42.880625Z",
     "shell.execute_reply": "2021-05-25T07:11:42.881119Z"
    },
    "scrolled": true
   },
   "outputs": [
    {
     "data": {
      "text/plain": [
       "{'x1': {'x1': array([[0.28658847],\n",
       "         [0.28658847],\n",
       "         [0.50394235],\n",
       "         [0.50394235],\n",
       "         [0.63218732],\n",
       "         [0.63218732],\n",
       "         [0.45651377],\n",
       "         [0.45651377],\n",
       "         [0.9571092 ],\n",
       "         [0.9571092 ],\n",
       "         [0.13698555],\n",
       "         [0.13698555],\n",
       "         [0.70781641],\n",
       "         [0.70781641],\n",
       "         [0.59995968],\n",
       "         [0.59995968],\n",
       "         [0.54072986],\n",
       "         [0.54072986],\n",
       "         [0.32390084],\n",
       "         [0.32390084],\n",
       "         [0.71871549],\n",
       "         [0.71871549],\n",
       "         [0.94621798],\n",
       "         [0.94621798],\n",
       "         [0.16278511],\n",
       "         [0.16278511],\n",
       "         [0.23886662],\n",
       "         [0.23886662],\n",
       "         [0.53520628],\n",
       "         [0.53520628],\n",
       "         [0.27900361],\n",
       "         [0.27900361],\n",
       "         [0.59065995],\n",
       "         [0.59065995],\n",
       "         [0.65913484],\n",
       "         [0.65913484],\n",
       "         [0.08533114],\n",
       "         [0.08533114],\n",
       "         [0.04277425],\n",
       "         [0.04277425],\n",
       "         [0.95554488],\n",
       "         [0.95554488],\n",
       "         [0.78158593],\n",
       "         [0.78158593],\n",
       "         [0.77237844],\n",
       "         [0.77237844],\n",
       "         [0.87221351],\n",
       "         [0.87221351],\n",
       "         [0.24365208],\n",
       "         [0.24365208],\n",
       "         [0.47423958],\n",
       "         [0.47423958],\n",
       "         [0.66526599],\n",
       "         [0.66526599],\n",
       "         [0.83517276],\n",
       "         [0.83517276],\n",
       "         [0.73906795],\n",
       "         [0.73906795],\n",
       "         [0.41512961],\n",
       "         [0.41512961],\n",
       "         [0.642103  ],\n",
       "         [0.642103  ],\n",
       "         [0.51894554],\n",
       "         [0.51894554],\n",
       "         [0.17540993],\n",
       "         [0.17540993],\n",
       "         [0.68524807],\n",
       "         [0.68524807],\n",
       "         [0.07741286],\n",
       "         [0.07741286],\n",
       "         [0.07949885],\n",
       "         [0.07949885],\n",
       "         [0.38817749],\n",
       "         [0.38817749],\n",
       "         [0.46751025],\n",
       "         [0.46751025],\n",
       "         [0.39441945],\n",
       "         [0.39441945],\n",
       "         [0.66681143],\n",
       "         [0.66681143],\n",
       "         [0.23766991],\n",
       "         [0.23766991],\n",
       "         [0.40565545],\n",
       "         [0.40565545],\n",
       "         [0.26773542],\n",
       "         [0.26773542],\n",
       "         [0.43791687],\n",
       "         [0.43791687],\n",
       "         [0.81764746],\n",
       "         [0.81764746],\n",
       "         [0.50432629],\n",
       "         [0.50432629],\n",
       "         [0.31246316],\n",
       "         [0.31246316],\n",
       "         [0.64305257],\n",
       "         [0.64305257],\n",
       "         [0.15701489],\n",
       "         [0.15701489],\n",
       "         [0.2090729 ],\n",
       "         [0.2090729 ],\n",
       "         [0.61234291],\n",
       "         [0.61234291],\n",
       "         [0.44073315],\n",
       "         [0.44073315],\n",
       "         [0.59000652],\n",
       "         [0.59000652],\n",
       "         [0.86817562],\n",
       "         [0.86817562],\n",
       "         [0.2124913 ],\n",
       "         [0.2124913 ],\n",
       "         [0.18483162],\n",
       "         [0.18483162],\n",
       "         [0.42458587],\n",
       "         [0.42458587],\n",
       "         [0.90836905],\n",
       "         [0.90836905],\n",
       "         [0.11045994],\n",
       "         [0.11045994],\n",
       "         [0.51607755],\n",
       "         [0.51607755],\n",
       "         [0.77404605],\n",
       "         [0.77404605],\n",
       "         [0.43838181],\n",
       "         [0.43838181],\n",
       "         [0.45761262],\n",
       "         [0.45761262],\n",
       "         [0.87952382],\n",
       "         [0.87952382],\n",
       "         [0.97315433],\n",
       "         [0.97315433],\n",
       "         [0.20062495],\n",
       "         [0.20062495],\n",
       "         [0.59285164],\n",
       "         [0.59285164],\n",
       "         [0.6337071 ],\n",
       "         [0.6337071 ],\n",
       "         [0.84692949],\n",
       "         [0.84692949],\n",
       "         [0.50945488],\n",
       "         [0.50945488],\n",
       "         [0.1263923 ],\n",
       "         [0.1263923 ],\n",
       "         [0.0800456 ],\n",
       "         [0.0800456 ],\n",
       "         [0.43913794],\n",
       "         [0.43913794],\n",
       "         [0.35927259],\n",
       "         [0.35927259],\n",
       "         [0.59125447],\n",
       "         [0.59125447],\n",
       "         [0.68638756],\n",
       "         [0.68638756],\n",
       "         [0.10927533],\n",
       "         [0.10927533],\n",
       "         [0.64941736],\n",
       "         [0.64941736],\n",
       "         [0.68215754],\n",
       "         [0.68215754],\n",
       "         [0.47835076],\n",
       "         [0.47835076],\n",
       "         [0.47653411],\n",
       "         [0.47653411],\n",
       "         [0.40728992],\n",
       "         [0.40728992],\n",
       "         [0.24425445],\n",
       "         [0.24425445],\n",
       "         [0.80499109],\n",
       "         [0.80499109],\n",
       "         [0.08922741],\n",
       "         [0.08922741],\n",
       "         [0.36632912],\n",
       "         [0.36632912],\n",
       "         [0.26982723],\n",
       "         [0.26982723],\n",
       "         [0.88681441],\n",
       "         [0.88681441],\n",
       "         [0.73185787],\n",
       "         [0.73185787],\n",
       "         [0.4726713 ],\n",
       "         [0.4726713 ],\n",
       "         [0.77107983],\n",
       "         [0.77107983],\n",
       "         [0.42778676],\n",
       "         [0.42778676],\n",
       "         [0.98520449],\n",
       "         [0.98520449],\n",
       "         [0.09727503],\n",
       "         [0.09727503],\n",
       "         [0.31222679],\n",
       "         [0.31222679],\n",
       "         [0.18538373],\n",
       "         [0.18538373],\n",
       "         [0.81177906],\n",
       "         [0.81177906],\n",
       "         [0.09697874],\n",
       "         [0.09697874],\n",
       "         [0.14239499],\n",
       "         [0.14239499],\n",
       "         [0.88831898],\n",
       "         [0.88831898]])}}"
      ]
     },
     "execution_count": 1,
     "metadata": {},
     "output_type": "execute_result"
    }
   ],
   "source": [
    "ds = load_by_id(run_id_a)\n",
    "ds.get_parameter_data('x1')"
   ]
  },
  {
   "cell_type": "code",
   "execution_count": null,
   "metadata": {},
   "outputs": [],
   "source": []
  }
 ],
 "metadata": {
  "kernelspec": {
   "display_name": "Python 3",
   "language": "python",
   "name": "python3"
  },
  "language_info": {
   "codemirror_mode": {
    "name": "ipython",
    "version": 3
   },
   "file_extension": ".py",
   "mimetype": "text/x-python",
   "name": "python",
   "nbconvert_exporter": "python",
   "pygments_lexer": "ipython3",
   "version": "3.7.10"
  },
  "nbsphinx": {
   "timeout": 600
  },
  "toc": {
   "base_numbering": 1,
   "nav_menu": {},
   "number_sections": true,
   "sideBar": true,
   "skip_h1_title": false,
   "title_cell": "Table of Contents",
   "title_sidebar": "Contents",
   "toc_cell": false,
   "toc_position": {},
   "toc_section_display": true,
   "toc_window_display": false
  },
  "varInspector": {
   "cols": {
    "lenName": 16,
    "lenType": 16,
    "lenVar": 40
   },
   "kernels_config": {
    "python": {
     "delete_cmd_postfix": "",
     "delete_cmd_prefix": "del ",
     "library": "var_list.py",
     "varRefreshCmd": "print(var_dic_list())"
    },
    "r": {
     "delete_cmd_postfix": ") ",
     "delete_cmd_prefix": "rm(",
     "library": "var_list.r",
     "varRefreshCmd": "cat(var_dic_list()) "
    }
   },
   "types_to_exclude": [
    "module",
    "function",
    "builtin_function_or_method",
    "instance",
    "_Feature"
   ],
   "window_display": false
  }
 },
 "nbformat": 4,
 "nbformat_minor": 4
}
