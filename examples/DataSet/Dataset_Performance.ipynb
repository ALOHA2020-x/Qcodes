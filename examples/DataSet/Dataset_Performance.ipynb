{
 "cells": [
  {
   "cell_type": "markdown",
   "metadata": {},
   "source": [
    "# DataSet Performance\n",
    "\n",
    "This notebook shows the trade-off between inserting data into a database row-by-row and as binary blobs. Inserting the data row-by-row means that we have direct access to all the data and may perform queries directly on the values of the data. On the other hand, as we shall see, this is much slower than inserting the data directly as binary blobs."
   ]
  },
  {
   "cell_type": "markdown",
   "metadata": {},
   "source": [
    "First, we choose a new location for the database to ensure that we don't add a bunch of benchmarking data to the default one."
   ]
  },
  {
   "cell_type": "code",
   "execution_count": 1,
   "metadata": {
    "execution": {
     "iopub.execute_input": "2020-09-21T13:43:48.620623Z",
     "iopub.status.busy": "2020-09-21T13:43:48.620105Z",
     "iopub.status.idle": "2020-09-21T13:43:49.638183Z",
     "shell.execute_reply": "2020-09-21T13:43:49.637349Z"
    }
   },
   "outputs": [
    {
     "name": "stdout",
     "output_type": "stream",
     "text": [
      "Logging hadn't been started.\n",
      "Activating auto-logging. Current session state plus future input saved.\n",
      "Filename       : /home/vsts/.qcodes/logs/command_history.log\n",
      "Mode           : append\n",
      "Output logging : True\n",
      "Raw input log  : False\n",
      "Timestamping   : True\n",
      "State          : active\n"
     ]
    },
    {
     "name": "stdout",
     "output_type": "stream",
     "text": [
      "Qcodes Logfile : /home/vsts/.qcodes/logs/200921-18632-qcodes.log\n"
     ]
    }
   ],
   "source": [
    "import os\n",
    "cwd = os.getcwd()\n",
    "import qcodes as qc\n",
    "qc.config[\"core\"][\"db_location\"] = os.path.join(cwd, 'testing.db')\n"
   ]
  },
  {
   "cell_type": "code",
   "execution_count": 2,
   "metadata": {
    "execution": {
     "iopub.execute_input": "2020-09-21T13:43:49.644389Z",
     "iopub.status.busy": "2020-09-21T13:43:49.643883Z",
     "iopub.status.idle": "2020-09-21T13:43:49.820988Z",
     "shell.execute_reply": "2020-09-21T13:43:49.819990Z"
    }
   },
   "outputs": [],
   "source": [
    "%matplotlib inline\n",
    "import time\n",
    "import matplotlib.pyplot as plt\n",
    "import numpy as np\n",
    "\n",
    "import qcodes as qc\n",
    "from qcodes.instrument.parameter import ManualParameter\n",
    "from qcodes.dataset.experiment_container import (Experiment,\n",
    "                                                 load_last_experiment,\n",
    "                                                 new_experiment)\n",
    "from qcodes.dataset.sqlite.database import initialise_database\n",
    "from qcodes import load_or_create_experiment\n",
    "from qcodes.dataset.measurements import Measurement"
   ]
  },
  {
   "cell_type": "code",
   "execution_count": 3,
   "metadata": {
    "execution": {
     "iopub.execute_input": "2020-09-21T13:43:49.825012Z",
     "iopub.status.busy": "2020-09-21T13:43:49.824113Z",
     "iopub.status.idle": "2020-09-21T13:43:49.927621Z",
     "shell.execute_reply": "2020-09-21T13:43:49.926928Z"
    }
   },
   "outputs": [
    {
     "name": "stdout",
     "output_type": "stream",
     "text": [
      "\r",
      "0it [00:00, ?it/s]"
     ]
    },
    {
     "name": "stdout",
     "output_type": "stream",
     "text": [
      "\r",
      "Upgrading database; v0 -> v1: : 0it [00:00, ?it/s]"
     ]
    },
    {
     "name": "stdout",
     "output_type": "stream",
     "text": [
      "\r",
      "Upgrading database; v0 -> v1: : 0it [00:00, ?it/s]"
     ]
    },
    {
     "name": "stdout",
     "output_type": "stream",
     "text": [
      "\n",
      "\r",
      "  0%|          | 0/1 [00:00<?, ?it/s]"
     ]
    },
    {
     "name": "stdout",
     "output_type": "stream",
     "text": [
      "\r",
      "Upgrading database; v1 -> v2:   0%|          | 0/1 [00:00<?, ?it/s]"
     ]
    },
    {
     "name": "stdout",
     "output_type": "stream",
     "text": [
      "\r",
      "Upgrading database; v1 -> v2: 100%|██████████| 1/1 [00:00<00:00, 458.85it/s]"
     ]
    },
    {
     "name": "stdout",
     "output_type": "stream",
     "text": [
      "\n",
      "\r",
      "0it [00:00, ?it/s]"
     ]
    },
    {
     "name": "stdout",
     "output_type": "stream",
     "text": [
      "\r",
      "Upgrading database; v2 -> v3: : 0it [00:00, ?it/s]"
     ]
    },
    {
     "name": "stdout",
     "output_type": "stream",
     "text": [
      "\r",
      "Upgrading database; v2 -> v3: : 0it [00:00, ?it/s]"
     ]
    },
    {
     "name": "stdout",
     "output_type": "stream",
     "text": [
      "\n",
      "\r",
      "0it [00:00, ?it/s]"
     ]
    },
    {
     "name": "stdout",
     "output_type": "stream",
     "text": [
      "\r",
      "Upgrading database; v3 -> v4: : 0it [00:00, ?it/s]"
     ]
    },
    {
     "name": "stdout",
     "output_type": "stream",
     "text": [
      "\r",
      "Upgrading database; v3 -> v4: : 0it [00:00, ?it/s]"
     ]
    },
    {
     "name": "stdout",
     "output_type": "stream",
     "text": [
      "\n",
      "\r",
      "  0%|          | 0/1 [00:00<?, ?it/s]"
     ]
    },
    {
     "name": "stdout",
     "output_type": "stream",
     "text": [
      "\r",
      "Upgrading database; v4 -> v5:   0%|          | 0/1 [00:00<?, ?it/s]"
     ]
    },
    {
     "name": "stdout",
     "output_type": "stream",
     "text": [
      "\r",
      "Upgrading database; v4 -> v5: 100%|██████████| 1/1 [00:00<00:00, 662.50it/s]"
     ]
    },
    {
     "name": "stdout",
     "output_type": "stream",
     "text": [
      "\n",
      "\r",
      "0it [00:00, ?it/s]"
     ]
    },
    {
     "name": "stdout",
     "output_type": "stream",
     "text": [
      "\r",
      "Upgrading database; v5 -> v6: : 0it [00:00, ?it/s]"
     ]
    },
    {
     "name": "stdout",
     "output_type": "stream",
     "text": [
      "\r",
      "Upgrading database; v5 -> v6: : 0it [00:00, ?it/s]"
     ]
    },
    {
     "name": "stdout",
     "output_type": "stream",
     "text": [
      "\n",
      "\r",
      "  0%|          | 0/1 [00:00<?, ?it/s]"
     ]
    },
    {
     "name": "stdout",
     "output_type": "stream",
     "text": [
      "\r",
      "Upgrading database; v6 -> v7:   0%|          | 0/1 [00:00<?, ?it/s]"
     ]
    },
    {
     "name": "stdout",
     "output_type": "stream",
     "text": [
      "\r",
      "Upgrading database; v6 -> v7: 100%|██████████| 1/1 [00:00<00:00, 337.95it/s]"
     ]
    },
    {
     "name": "stdout",
     "output_type": "stream",
     "text": [
      "\n",
      "\r",
      "  0%|          | 0/1 [00:00<?, ?it/s]"
     ]
    },
    {
     "name": "stdout",
     "output_type": "stream",
     "text": [
      "\r",
      "Upgrading database; v7 -> v8:   0%|          | 0/1 [00:00<?, ?it/s]"
     ]
    },
    {
     "name": "stdout",
     "output_type": "stream",
     "text": [
      "\r",
      "Upgrading database; v7 -> v8: 100%|██████████| 1/1 [00:00<00:00, 506.50it/s]"
     ]
    },
    {
     "name": "stdout",
     "output_type": "stream",
     "text": [
      "\n",
      "\r",
      "  0%|          | 0/1 [00:00<?, ?it/s]"
     ]
    },
    {
     "name": "stdout",
     "output_type": "stream",
     "text": [
      "\r",
      "Upgrading database; v8 -> v9:   0%|          | 0/1 [00:00<?, ?it/s]"
     ]
    },
    {
     "name": "stdout",
     "output_type": "stream",
     "text": [
      "\r",
      "Upgrading database; v8 -> v9: 100%|██████████| 1/1 [00:00<00:00, 595.95it/s]"
     ]
    },
    {
     "name": "stdout",
     "output_type": "stream",
     "text": [
      "\n"
     ]
    }
   ],
   "source": [
    "initialise_database()\n",
    "exp = load_or_create_experiment(experiment_name='tutorial_exp', sample_name=\"no sample\")"
   ]
  },
  {
   "cell_type": "markdown",
   "metadata": {},
   "source": [
    "Here, we define a simple function to benchmark the time it takes to insert n points with either numeric or array data type.\n",
    "We will compare both the time used to call ``add_result`` and the time used for the full measurement."
   ]
  },
  {
   "cell_type": "code",
   "execution_count": 4,
   "metadata": {
    "execution": {
     "iopub.execute_input": "2020-09-21T13:43:49.936047Z",
     "iopub.status.busy": "2020-09-21T13:43:49.935382Z",
     "iopub.status.idle": "2020-09-21T13:43:49.939707Z",
     "shell.execute_reply": "2020-09-21T13:43:49.939043Z"
    }
   },
   "outputs": [],
   "source": [
    "def insert_data(paramtype, npoints, nreps=1):\n",
    "\n",
    "    meas = Measurement(exp=exp)\n",
    "\n",
    "    x1 = ManualParameter('x1')\n",
    "    x2 = ManualParameter('x2')\n",
    "    x3 = ManualParameter('x3')\n",
    "    y1 = ManualParameter('y1')\n",
    "    y2 = ManualParameter('y2')\n",
    "\n",
    "    meas.register_parameter(x1, paramtype=paramtype)\n",
    "    meas.register_parameter(x2, paramtype=paramtype)\n",
    "    meas.register_parameter(x3, paramtype=paramtype)\n",
    "    meas.register_parameter(y1, setpoints=[x1, x2, x3],\n",
    "                            paramtype=paramtype)\n",
    "    meas.register_parameter(y2, setpoints=[x1, x2, x3],\n",
    "                            paramtype=paramtype)\n",
    "    start = time.perf_counter()\n",
    "    with meas.run() as datasaver:\n",
    "        start_adding = time.perf_counter()\n",
    "        for i in range(nreps):\n",
    "            datasaver.add_result((x1, np.random.rand(npoints)),\n",
    "                                 (x2, np.random.rand(npoints)),\n",
    "                                 (x3, np.random.rand(npoints)),\n",
    "                                 (y1, np.random.rand(npoints)),\n",
    "                                 (y2, np.random.rand(npoints)))\n",
    "        stop_adding = time.perf_counter()\n",
    "        run_id = datasaver.run_id\n",
    "    stop = time.perf_counter()\n",
    "    tot_time = stop - start\n",
    "    add_time = stop_adding - start_adding\n",
    "    return tot_time, add_time, run_id"
   ]
  },
  {
   "cell_type": "markdown",
   "metadata": {},
   "source": [
    "## Comparison between numeric/array data and binary blob"
   ]
  },
  {
   "cell_type": "markdown",
   "metadata": {},
   "source": [
    "### Case1: Short experiment time"
   ]
  },
  {
   "cell_type": "code",
   "execution_count": 5,
   "metadata": {
    "execution": {
     "iopub.execute_input": "2020-09-21T13:43:49.946782Z",
     "iopub.status.busy": "2020-09-21T13:43:49.945943Z",
     "iopub.status.idle": "2020-09-21T13:43:50.726408Z",
     "shell.execute_reply": "2020-09-21T13:43:50.725935Z"
    }
   },
   "outputs": [
    {
     "name": "stdout",
     "output_type": "stream",
     "text": [
      "Starting experimental run with id: 1. \n",
      "Starting experimental run with id: 2. \n",
      "Starting experimental run with id: 3. \n",
      "Starting experimental run with id: 4. \n",
      "Starting experimental run with id: 5. \n"
     ]
    },
    {
     "name": "stdout",
     "output_type": "stream",
     "text": [
      "Starting experimental run with id: 6. \n"
     ]
    },
    {
     "name": "stdout",
     "output_type": "stream",
     "text": [
      "Starting experimental run with id: 7. \n"
     ]
    },
    {
     "name": "stdout",
     "output_type": "stream",
     "text": [
      "Starting experimental run with id: 8. \n",
      "Starting experimental run with id: 9. \n"
     ]
    },
    {
     "name": "stdout",
     "output_type": "stream",
     "text": [
      "Starting experimental run with id: 10. \n"
     ]
    },
    {
     "name": "stdout",
     "output_type": "stream",
     "text": [
      "Starting experimental run with id: 11. \n"
     ]
    },
    {
     "name": "stdout",
     "output_type": "stream",
     "text": [
      "Starting experimental run with id: 12. \n",
      "Starting experimental run with id: 13. \n"
     ]
    },
    {
     "name": "stdout",
     "output_type": "stream",
     "text": [
      "Starting experimental run with id: 14. \n"
     ]
    }
   ],
   "source": [
    "sizes = [1,500,1000,2000,3000,4000,5000]\n",
    "t_numeric = []\n",
    "t_numeric_add = []\n",
    "t_array = []\n",
    "t_array_add = []\n",
    "for size in sizes:\n",
    "    tn, tna, run_id_n =  insert_data('numeric', size)\n",
    "    t_numeric.append(tn)\n",
    "    t_numeric_add.append(tna)\n",
    "\n",
    "    ta, taa, run_id_a =  insert_data('array', size)\n",
    "    t_array.append(ta)\n",
    "    t_array_add.append(taa)"
   ]
  },
  {
   "cell_type": "code",
   "execution_count": 6,
   "metadata": {
    "execution": {
     "iopub.execute_input": "2020-09-21T13:43:50.742645Z",
     "iopub.status.busy": "2020-09-21T13:43:50.742171Z",
     "iopub.status.idle": "2020-09-21T13:43:50.907874Z",
     "shell.execute_reply": "2020-09-21T13:43:50.908264Z"
    }
   },
   "outputs": [
    {
     "data": {
      "image/png": "[encoded data removed]",
      "text/plain": [
       "<Figure size 432x288 with 1 Axes>"
      ]
     },
     "metadata": {
      "needs_background": "light"
     },
     "output_type": "display_data"
    }
   ],
   "source": [
    "fig, ax = plt.subplots(1,1)\n",
    "ax.plot(sizes, t_numeric, 'o-', label='Inserting row-by-row')\n",
    "ax.plot(sizes, t_numeric_add, 'o-', label='Inserting row-by-row: add_result only')\n",
    "ax.plot(sizes, t_array, 'd-', label='Inserting as binary blob')\n",
    "ax.plot(sizes, t_array_add, 'd-', label='Inserting as binary blob: add_result only')\n",
    "ax.legend()\n",
    "ax.set_xlabel('Array length')\n",
    "ax.set_ylabel('Time (s)')\n",
    "fig.tight_layout()"
   ]
  },
  {
   "cell_type": "markdown",
   "metadata": {},
   "source": [
    "As shown in the latter figure, the time to setup and and close the experiment is approximately 0.4 sec. In case of small array sizes, the difference between inserting values of data as arrays and inserting them row-by-row is relatively unimportant. At larger array sizes, i.e. above 10000 points, the cost of writing data as individual datapoints starts to become important.\n"
   ]
  },
  {
   "cell_type": "markdown",
   "metadata": {},
   "source": [
    "### Case2: Long experiment time "
   ]
  },
  {
   "cell_type": "code",
   "execution_count": 7,
   "metadata": {
    "execution": {
     "iopub.execute_input": "2020-09-21T13:43:50.915135Z",
     "iopub.status.busy": "2020-09-21T13:43:50.914591Z",
     "iopub.status.idle": "2020-09-21T13:44:47.587765Z",
     "shell.execute_reply": "2020-09-21T13:44:47.586871Z"
    }
   },
   "outputs": [
    {
     "name": "stdout",
     "output_type": "stream",
     "text": [
      "Starting experimental run with id: 15. \n",
      "Starting experimental run with id: 16. \n",
      "Starting experimental run with id: 17. \n"
     ]
    },
    {
     "name": "stdout",
     "output_type": "stream",
     "text": [
      "Starting experimental run with id: 18. \n",
      "Starting experimental run with id: 19. \n"
     ]
    },
    {
     "name": "stdout",
     "output_type": "stream",
     "text": [
      "Starting experimental run with id: 20. \n"
     ]
    },
    {
     "name": "stdout",
     "output_type": "stream",
     "text": [
      "Starting experimental run with id: 21. \n"
     ]
    },
    {
     "name": "stdout",
     "output_type": "stream",
     "text": [
      "Starting experimental run with id: 22. \n"
     ]
    },
    {
     "name": "stdout",
     "output_type": "stream",
     "text": [
      "Starting experimental run with id: 23. \n"
     ]
    },
    {
     "name": "stdout",
     "output_type": "stream",
     "text": [
      "Starting experimental run with id: 24. \n"
     ]
    },
    {
     "name": "stdout",
     "output_type": "stream",
     "text": [
      "Starting experimental run with id: 25. \n"
     ]
    },
    {
     "name": "stdout",
     "output_type": "stream",
     "text": [
      "Starting experimental run with id: 26. \n"
     ]
    },
    {
     "name": "stdout",
     "output_type": "stream",
     "text": [
      "Starting experimental run with id: 27. \n"
     ]
    },
    {
     "name": "stdout",
     "output_type": "stream",
     "text": [
      "Starting experimental run with id: 28. \n"
     ]
    }
   ],
   "source": [
    "sizes = [1,500,1000,2000,3000,4000,5000]\n",
    "nreps = 100\n",
    "t_numeric = []\n",
    "t_numeric_add = []\n",
    "t_numeric_run_ids = []\n",
    "t_array = []\n",
    "t_array_add = []\n",
    "t_array_run_ids = []\n",
    "for size in sizes:\n",
    "    tn, tna, run_id_n =  insert_data('numeric', size, nreps=nreps)\n",
    "    t_numeric.append(tn)\n",
    "    t_numeric_add.append(tna)\n",
    "    t_numeric_run_ids.append(run_id_n)\n",
    "\n",
    "    ta, taa, run_id_a =  insert_data('array', size, nreps=nreps)\n",
    "    t_array.append(ta)\n",
    "    t_array_add.append(taa)\n",
    "    t_array_run_ids.append(run_id_a)"
   ]
  },
  {
   "cell_type": "code",
   "execution_count": 8,
   "metadata": {
    "execution": {
     "iopub.execute_input": "2020-09-21T13:44:47.605472Z",
     "iopub.status.busy": "2020-09-21T13:44:47.592774Z",
     "iopub.status.idle": "2020-09-21T13:44:47.773538Z",
     "shell.execute_reply": "2020-09-21T13:44:47.772978Z"
    },
    "scrolled": true
   },
   "outputs": [
    {
     "data": {
      "image/png": "[encoded data removed]",
      "text/plain": [
       "<Figure size 432x288 with 1 Axes>"
      ]
     },
     "metadata": {
      "needs_background": "light"
     },
     "output_type": "display_data"
    }
   ],
   "source": [
    "fig, ax = plt.subplots(1,1)\n",
    "ax.plot(sizes, t_numeric, 'o-', label='Inserting row-by-row')\n",
    "ax.plot(sizes, t_numeric_add, 'o-', label='Inserting row-by-row: add_result only')\n",
    "ax.plot(sizes, t_array, 'd-', label='Inserting as binary blob')\n",
    "ax.plot(sizes, t_array_add, 'd-', label='Inserting as binary blob: add_result only')\n",
    "ax.legend()\n",
    "ax.set_xlabel('Array length')\n",
    "ax.set_ylabel('Time (s)')\n",
    "fig.tight_layout()"
   ]
  },
  {
   "cell_type": "markdown",
   "metadata": {},
   "source": [
    "However, as we increase the length of the experiment, as seen here by repeating the insertion 100 times, we see a big difference between inserting values of the data row-by-row and inserting it as a binary blob."
   ]
  },
  {
   "cell_type": "markdown",
   "metadata": {},
   "source": [
    "## Loading the data "
   ]
  },
  {
   "cell_type": "code",
   "execution_count": 9,
   "metadata": {
    "execution": {
     "iopub.execute_input": "2020-09-21T13:44:47.778403Z",
     "iopub.status.busy": "2020-09-21T13:44:47.776881Z",
     "iopub.status.idle": "2020-09-21T13:44:47.781015Z",
     "shell.execute_reply": "2020-09-21T13:44:47.781599Z"
    }
   },
   "outputs": [],
   "source": [
    "from qcodes.dataset.data_set import load_by_id\n",
    "from qcodes.dataset.data_export import get_data_by_id"
   ]
  },
  {
   "cell_type": "markdown",
   "metadata": {},
   "source": [
    "As usual you can load the data by using the ``load_by_id`` function but you will notice that the different storage methods\n",
    "are reflected in shape of the data as it is retrieved. "
   ]
  },
  {
   "cell_type": "code",
   "execution_count": 10,
   "metadata": {
    "execution": {
     "iopub.execute_input": "2020-09-21T13:44:47.785450Z",
     "iopub.status.busy": "2020-09-21T13:44:47.784644Z",
     "iopub.status.idle": "2020-09-21T13:44:47.788302Z",
     "shell.execute_reply": "2020-09-21T13:44:47.787634Z"
    }
   },
   "outputs": [],
   "source": [
    "run_id_n = t_numeric_run_ids[0]\n",
    "run_id_a = t_array_run_ids[0]"
   ]
  },
  {
   "cell_type": "code",
   "execution_count": 11,
   "metadata": {
    "execution": {
     "iopub.execute_input": "2020-09-21T13:44:47.791412Z",
     "iopub.status.busy": "2020-09-21T13:44:47.790913Z",
     "iopub.status.idle": "2020-09-21T13:44:47.800247Z",
     "shell.execute_reply": "2020-09-21T13:44:47.799811Z"
    },
    "scrolled": true
   },
   "outputs": [
    {
     "data": {
      "text/plain": [
       "{'x1': {'x1': array([0.05622779, 0.05622779, 0.7502718 , 0.7502718 , 0.06848018,\n",
       "         0.06848018, 0.22501198, 0.22501198, 0.09418961, 0.09418961,\n",
       "         0.85025865, 0.85025865, 0.19994783, 0.19994783, 0.9714047 ,\n",
       "         0.9714047 , 0.96195323, 0.96195323, 0.88385267, 0.88385267,\n",
       "         0.37498276, 0.37498276, 0.38283336, 0.38283336, 0.81520409,\n",
       "         0.81520409, 0.34014905, 0.34014905, 0.64192586, 0.64192586,\n",
       "         0.01368888, 0.01368888, 0.95017415, 0.95017415, 0.79483587,\n",
       "         0.79483587, 0.78189196, 0.78189196, 0.04381507, 0.04381507,\n",
       "         0.99158751, 0.99158751, 0.88603592, 0.88603592, 0.79465465,\n",
       "         0.79465465, 0.7201143 , 0.7201143 , 0.06259382, 0.06259382,\n",
       "         0.47451629, 0.47451629, 0.25145853, 0.25145853, 0.49833085,\n",
       "         0.49833085, 0.32070464, 0.32070464, 0.30029212, 0.30029212,\n",
       "         0.36775194, 0.36775194, 0.77829753, 0.77829753, 0.05628165,\n",
       "         0.05628165, 0.24628549, 0.24628549, 0.10618099, 0.10618099,\n",
       "         0.73781581, 0.73781581, 0.37384653, 0.37384653, 0.14503692,\n",
       "         0.14503692, 0.54912571, 0.54912571, 0.72651773, 0.72651773,\n",
       "         0.89034491, 0.89034491, 0.95665086, 0.95665086, 0.02057256,\n",
       "         0.02057256, 0.79174368, 0.79174368, 0.61882131, 0.61882131,\n",
       "         0.04237623, 0.04237623, 0.10136554, 0.10136554, 0.18332244,\n",
       "         0.18332244, 0.94659196, 0.94659196, 0.85600839, 0.85600839,\n",
       "         0.45471549, 0.45471549, 0.7675133 , 0.7675133 , 0.39741117,\n",
       "         0.39741117, 0.51466674, 0.51466674, 0.21342206, 0.21342206,\n",
       "         0.12417521, 0.12417521, 0.36464665, 0.36464665, 0.55608219,\n",
       "         0.55608219, 0.80021067, 0.80021067, 0.34074423, 0.34074423,\n",
       "         0.82422848, 0.82422848, 0.48121659, 0.48121659, 0.46494758,\n",
       "         0.46494758, 0.29514072, 0.29514072, 0.67552487, 0.67552487,\n",
       "         0.31306904, 0.31306904, 0.58503749, 0.58503749, 0.96882926,\n",
       "         0.96882926, 0.02666571, 0.02666571, 0.12977524, 0.12977524,\n",
       "         0.74483563, 0.74483563, 0.63273738, 0.63273738, 0.8892971 ,\n",
       "         0.8892971 , 0.87656344, 0.87656344, 0.16191467, 0.16191467,\n",
       "         0.41696096, 0.41696096, 0.9648637 , 0.9648637 , 0.89055274,\n",
       "         0.89055274, 0.17719837, 0.17719837, 0.48613443, 0.48613443,\n",
       "         0.85573596, 0.85573596, 0.38684431, 0.38684431, 0.61823683,\n",
       "         0.61823683, 0.63256233, 0.63256233, 0.91099342, 0.91099342,\n",
       "         0.67320596, 0.67320596, 0.14393946, 0.14393946, 0.37024912,\n",
       "         0.37024912, 0.62890307, 0.62890307, 0.22521338, 0.22521338,\n",
       "         0.37637055, 0.37637055, 0.01575312, 0.01575312, 0.05612853,\n",
       "         0.05612853, 0.3754969 , 0.3754969 , 0.37851819, 0.37851819,\n",
       "         0.18872142, 0.18872142, 0.5534789 , 0.5534789 , 0.35256465,\n",
       "         0.35256465, 0.60234802, 0.60234802, 0.45791846, 0.45791846])}}"
      ]
     },
     "execution_count": 1,
     "metadata": {},
     "output_type": "execute_result"
    }
   ],
   "source": [
    "ds = load_by_id(run_id_n)\n",
    "ds.get_parameter_data('x1')"
   ]
  },
  {
   "cell_type": "markdown",
   "metadata": {},
   "source": [
    "And a dataset stored as binary arrays"
   ]
  },
  {
   "cell_type": "code",
   "execution_count": 12,
   "metadata": {
    "execution": {
     "iopub.execute_input": "2020-09-21T13:44:47.803641Z",
     "iopub.status.busy": "2020-09-21T13:44:47.803137Z",
     "iopub.status.idle": "2020-09-21T13:44:47.856560Z",
     "shell.execute_reply": "2020-09-21T13:44:47.857442Z"
    },
    "scrolled": true
   },
   "outputs": [
    {
     "data": {
      "text/plain": [
       "{'x1': {'x1': array([[3.45697692e-01],\n",
       "         [3.45697692e-01],\n",
       "         [8.32743801e-01],\n",
       "         [8.32743801e-01],\n",
       "         [6.45486051e-01],\n",
       "         [6.45486051e-01],\n",
       "         [4.21320141e-01],\n",
       "         [4.21320141e-01],\n",
       "         [1.40131155e-01],\n",
       "         [1.40131155e-01],\n",
       "         [1.91144128e-02],\n",
       "         [1.91144128e-02],\n",
       "         [7.68481343e-02],\n",
       "         [7.68481343e-02],\n",
       "         [7.50993507e-04],\n",
       "         [7.50993507e-04],\n",
       "         [5.95090529e-01],\n",
       "         [5.95090529e-01],\n",
       "         [9.55281698e-01],\n",
       "         [9.55281698e-01],\n",
       "         [5.09375973e-01],\n",
       "         [5.09375973e-01],\n",
       "         [6.76396701e-01],\n",
       "         [6.76396701e-01],\n",
       "         [9.82133570e-01],\n",
       "         [9.82133570e-01],\n",
       "         [4.79131312e-01],\n",
       "         [4.79131312e-01],\n",
       "         [4.07161257e-01],\n",
       "         [4.07161257e-01],\n",
       "         [6.31339278e-01],\n",
       "         [6.31339278e-01],\n",
       "         [3.51471044e-01],\n",
       "         [3.51471044e-01],\n",
       "         [7.98049220e-01],\n",
       "         [7.98049220e-01],\n",
       "         [6.04817150e-01],\n",
       "         [6.04817150e-01],\n",
       "         [9.62669846e-01],\n",
       "         [9.62669846e-01],\n",
       "         [9.19228119e-01],\n",
       "         [9.19228119e-01],\n",
       "         [4.65669532e-01],\n",
       "         [4.65669532e-01],\n",
       "         [3.11242532e-01],\n",
       "         [3.11242532e-01],\n",
       "         [4.35552325e-01],\n",
       "         [4.35552325e-01],\n",
       "         [2.65286887e-01],\n",
       "         [2.65286887e-01],\n",
       "         [6.11218973e-01],\n",
       "         [6.11218973e-01],\n",
       "         [3.23424178e-01],\n",
       "         [3.23424178e-01],\n",
       "         [5.43185731e-01],\n",
       "         [5.43185731e-01],\n",
       "         [9.94724664e-01],\n",
       "         [9.94724664e-01],\n",
       "         [8.09995107e-01],\n",
       "         [8.09995107e-01],\n",
       "         [2.99288799e-01],\n",
       "         [2.99288799e-01],\n",
       "         [9.97222651e-01],\n",
       "         [9.97222651e-01],\n",
       "         [8.92236011e-02],\n",
       "         [8.92236011e-02],\n",
       "         [7.27071189e-01],\n",
       "         [7.27071189e-01],\n",
       "         [1.45545938e-01],\n",
       "         [1.45545938e-01],\n",
       "         [7.43197060e-01],\n",
       "         [7.43197060e-01],\n",
       "         [2.57175040e-01],\n",
       "         [2.57175040e-01],\n",
       "         [1.04195736e-01],\n",
       "         [1.04195736e-01],\n",
       "         [1.33315204e-01],\n",
       "         [1.33315204e-01],\n",
       "         [2.93718287e-01],\n",
       "         [2.93718287e-01],\n",
       "         [9.88899392e-01],\n",
       "         [9.88899392e-01],\n",
       "         [6.29503220e-01],\n",
       "         [6.29503220e-01],\n",
       "         [6.32802871e-02],\n",
       "         [6.32802871e-02],\n",
       "         [4.57105188e-01],\n",
       "         [4.57105188e-01],\n",
       "         [8.95303107e-01],\n",
       "         [8.95303107e-01],\n",
       "         [2.56353601e-01],\n",
       "         [2.56353601e-01],\n",
       "         [9.49801345e-03],\n",
       "         [9.49801345e-03],\n",
       "         [6.46255470e-01],\n",
       "         [6.46255470e-01],\n",
       "         [7.78262927e-01],\n",
       "         [7.78262927e-01],\n",
       "         [4.04312474e-01],\n",
       "         [4.04312474e-01],\n",
       "         [8.02394912e-01],\n",
       "         [8.02394912e-01],\n",
       "         [9.20603352e-01],\n",
       "         [9.20603352e-01],\n",
       "         [6.64327023e-01],\n",
       "         [6.64327023e-01],\n",
       "         [7.73932461e-01],\n",
       "         [7.73932461e-01],\n",
       "         [7.79211978e-01],\n",
       "         [7.79211978e-01],\n",
       "         [9.30445694e-01],\n",
       "         [9.30445694e-01],\n",
       "         [1.37251843e-01],\n",
       "         [1.37251843e-01],\n",
       "         [9.41001017e-01],\n",
       "         [9.41001017e-01],\n",
       "         [2.51125232e-01],\n",
       "         [2.51125232e-01],\n",
       "         [9.69720324e-01],\n",
       "         [9.69720324e-01],\n",
       "         [8.57089995e-01],\n",
       "         [8.57089995e-01],\n",
       "         [7.67541732e-01],\n",
       "         [7.67541732e-01],\n",
       "         [8.00034991e-01],\n",
       "         [8.00034991e-01],\n",
       "         [8.36968053e-02],\n",
       "         [8.36968053e-02],\n",
       "         [2.00446615e-01],\n",
       "         [2.00446615e-01],\n",
       "         [8.61912694e-01],\n",
       "         [8.61912694e-01],\n",
       "         [9.91277423e-02],\n",
       "         [9.91277423e-02],\n",
       "         [7.62616431e-01],\n",
       "         [7.62616431e-01],\n",
       "         [7.76257331e-01],\n",
       "         [7.76257331e-01],\n",
       "         [4.98361604e-01],\n",
       "         [4.98361604e-01],\n",
       "         [6.88598795e-02],\n",
       "         [6.88598795e-02],\n",
       "         [6.29590310e-01],\n",
       "         [6.29590310e-01],\n",
       "         [7.20796691e-01],\n",
       "         [7.20796691e-01],\n",
       "         [5.32622400e-01],\n",
       "         [5.32622400e-01],\n",
       "         [4.30269743e-01],\n",
       "         [4.30269743e-01],\n",
       "         [9.92915371e-01],\n",
       "         [9.92915371e-01],\n",
       "         [8.01922637e-01],\n",
       "         [8.01922637e-01],\n",
       "         [3.02899855e-01],\n",
       "         [3.02899855e-01],\n",
       "         [5.96896368e-01],\n",
       "         [5.96896368e-01],\n",
       "         [3.24489524e-01],\n",
       "         [3.24489524e-01],\n",
       "         [3.03929002e-02],\n",
       "         [3.03929002e-02],\n",
       "         [2.86445655e-01],\n",
       "         [2.86445655e-01],\n",
       "         [4.04561281e-01],\n",
       "         [4.04561281e-01],\n",
       "         [5.58353468e-01],\n",
       "         [5.58353468e-01],\n",
       "         [6.12357293e-01],\n",
       "         [6.12357293e-01],\n",
       "         [5.95660650e-01],\n",
       "         [5.95660650e-01],\n",
       "         [8.70126724e-01],\n",
       "         [8.70126724e-01],\n",
       "         [7.03312187e-01],\n",
       "         [7.03312187e-01],\n",
       "         [8.01018134e-01],\n",
       "         [8.01018134e-01],\n",
       "         [4.22083280e-01],\n",
       "         [4.22083280e-01],\n",
       "         [7.09002016e-02],\n",
       "         [7.09002016e-02],\n",
       "         [1.48424705e-01],\n",
       "         [1.48424705e-01],\n",
       "         [2.43380134e-01],\n",
       "         [2.43380134e-01],\n",
       "         [8.66143433e-01],\n",
       "         [8.66143433e-01],\n",
       "         [7.65138526e-01],\n",
       "         [7.65138526e-01],\n",
       "         [2.85277810e-01],\n",
       "         [2.85277810e-01],\n",
       "         [6.45510461e-01],\n",
       "         [6.45510461e-01],\n",
       "         [8.86187086e-01],\n",
       "         [8.86187086e-01],\n",
       "         [6.59836573e-02],\n",
       "         [6.59836573e-02],\n",
       "         [1.01444514e-01],\n",
       "         [1.01444514e-01]])}}"
      ]
     },
     "execution_count": 1,
     "metadata": {},
     "output_type": "execute_result"
    }
   ],
   "source": [
    "ds = load_by_id(run_id_a)\n",
    "ds.get_parameter_data('x1')"
   ]
  },
  {
   "cell_type": "code",
   "execution_count": null,
   "metadata": {},
   "outputs": [],
   "source": []
  }
 ],
 "metadata": {
  "kernelspec": {
   "display_name": "Python 3",
   "language": "python",
   "name": "python3"
  },
  "language_info": {
   "codemirror_mode": {
    "name": "ipython",
    "version": 3
   },
   "file_extension": ".py",
   "mimetype": "text/x-python",
   "name": "python",
   "nbconvert_exporter": "python",
   "pygments_lexer": "ipython3",
   "version": "3.7.7"
  },
  "nbsphinx": {
   "timeout": 600
  },
  "toc": {
   "base_numbering": 1,
   "nav_menu": {},
   "number_sections": true,
   "sideBar": true,
   "skip_h1_title": false,
   "title_cell": "Table of Contents",
   "title_sidebar": "Contents",
   "toc_cell": false,
   "toc_position": {},
   "toc_section_display": true,
   "toc_window_display": false
  },
  "varInspector": {
   "cols": {
    "lenName": 16,
    "lenType": 16,
    "lenVar": 40
   },
   "kernels_config": {
    "python": {
     "delete_cmd_postfix": "",
     "delete_cmd_prefix": "del ",
     "library": "var_list.py",
     "varRefreshCmd": "print(var_dic_list())"
    },
    "r": {
     "delete_cmd_postfix": ") ",
     "delete_cmd_prefix": "rm(",
     "library": "var_list.r",
     "varRefreshCmd": "cat(var_dic_list()) "
    }
   },
   "types_to_exclude": [
    "module",
    "function",
    "builtin_function_or_method",
    "instance",
    "_Feature"
   ],
   "window_display": false
  }
 },
 "nbformat": 4,
 "nbformat_minor": 2
}
