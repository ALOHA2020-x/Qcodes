{
 "cells": [
  {
   "cell_type": "markdown",
   "metadata": {},
   "source": [
    "# DataSet Performance\n",
    "\n",
    "This notebook shows the trade-off between inserting data into a database row-by-row and as binary blobs. Inserting the data row-by-row means that we have direct access to all the data and may perform queries directly on the values of the data. On the other hand, as we shall see, this is much slower than inserting the data directly as binary blobs."
   ]
  },
  {
   "cell_type": "markdown",
   "metadata": {},
   "source": [
    "First, we choose a new location for the database to ensure that we don't add a bunch of benchmarking data to the default one."
   ]
  },
  {
   "cell_type": "code",
   "execution_count": 1,
   "metadata": {},
   "outputs": [
    {
     "name": "stdout",
     "output_type": "stream",
     "text": [
      "Logging hadn't been started.\n",
      "Activating auto-logging. Current session state plus future input saved.\n",
      "Filename       : /home/vsts/.qcodes/logs/command_history.log\n",
      "Mode           : append\n",
      "Output logging : True\n",
      "Raw input log  : False\n",
      "Timestamping   : True\n",
      "State          : active\n"
     ]
    },
    {
     "name": "stdout",
     "output_type": "stream",
     "text": [
      "Qcodes Logfile : /home/vsts/.qcodes/logs/200415-19248-qcodes.log\n"
     ]
    }
   ],
   "source": [
    "import os\n",
    "cwd = os.getcwd()\n",
    "import qcodes as qc\n",
    "qc.config[\"core\"][\"db_location\"] = os.path.join(cwd, 'testing.db')\n"
   ]
  },
  {
   "cell_type": "code",
   "execution_count": 2,
   "metadata": {},
   "outputs": [],
   "source": [
    "%matplotlib inline\n",
    "import time\n",
    "import matplotlib.pyplot as plt\n",
    "import numpy as np\n",
    "\n",
    "import qcodes as qc\n",
    "from qcodes.instrument.parameter import ManualParameter\n",
    "from qcodes.dataset.experiment_container import (Experiment,\n",
    "                                                 load_last_experiment,\n",
    "                                                 new_experiment)\n",
    "from qcodes.dataset.sqlite.database import initialise_database\n",
    "from qcodes import load_or_create_experiment\n",
    "from qcodes.dataset.measurements import Measurement"
   ]
  },
  {
   "cell_type": "code",
   "execution_count": 3,
   "metadata": {},
   "outputs": [
    {
     "name": "stdout",
     "output_type": "stream",
     "text": [
      "\r",
      "0it [00:00, ?it/s]"
     ]
    },
    {
     "name": "stdout",
     "output_type": "stream",
     "text": [
      "\r",
      "Upgrading database; v0 -> v1: : 0it [00:00, ?it/s]"
     ]
    },
    {
     "name": "stdout",
     "output_type": "stream",
     "text": [
      "\r",
      "Upgrading database; v0 -> v1: : 0it [00:00, ?it/s]"
     ]
    },
    {
     "name": "stdout",
     "output_type": "stream",
     "text": [
      "\n",
      "\r",
      "  0%|          | 0/1 [00:00<?, ?it/s]"
     ]
    },
    {
     "name": "stdout",
     "output_type": "stream",
     "text": [
      "\r",
      "Upgrading database; v1 -> v2:   0%|          | 0/1 [00:00<?, ?it/s]"
     ]
    },
    {
     "name": "stdout",
     "output_type": "stream",
     "text": [
      "\r",
      "Upgrading database; v1 -> v2: 100%|██████████| 1/1 [00:00<00:00, 1081.28it/s]"
     ]
    },
    {
     "name": "stdout",
     "output_type": "stream",
     "text": [
      "\n",
      "\r",
      "0it [00:00, ?it/s]"
     ]
    },
    {
     "name": "stdout",
     "output_type": "stream",
     "text": [
      "\r",
      "Upgrading database; v2 -> v3: : 0it [00:00, ?it/s]"
     ]
    },
    {
     "name": "stdout",
     "output_type": "stream",
     "text": [
      "\r",
      "Upgrading database; v2 -> v3: : 0it [00:00, ?it/s]"
     ]
    },
    {
     "name": "stdout",
     "output_type": "stream",
     "text": [
      "\n",
      "\r",
      "0it [00:00, ?it/s]"
     ]
    },
    {
     "name": "stdout",
     "output_type": "stream",
     "text": [
      "\r",
      "Upgrading database; v3 -> v4: : 0it [00:00, ?it/s]"
     ]
    },
    {
     "name": "stdout",
     "output_type": "stream",
     "text": [
      "\r",
      "Upgrading database; v3 -> v4: : 0it [00:00, ?it/s]"
     ]
    },
    {
     "name": "stdout",
     "output_type": "stream",
     "text": [
      "\n",
      "\r",
      "  0%|          | 0/1 [00:00<?, ?it/s]"
     ]
    },
    {
     "name": "stdout",
     "output_type": "stream",
     "text": [
      "\r",
      "Upgrading database; v4 -> v5:   0%|          | 0/1 [00:00<?, ?it/s]"
     ]
    },
    {
     "name": "stdout",
     "output_type": "stream",
     "text": [
      "\r",
      "Upgrading database; v4 -> v5: 100%|██████████| 1/1 [00:00<00:00, 657.31it/s]"
     ]
    },
    {
     "name": "stdout",
     "output_type": "stream",
     "text": [
      "\n",
      "\r",
      "0it [00:00, ?it/s]"
     ]
    },
    {
     "name": "stdout",
     "output_type": "stream",
     "text": [
      "\r",
      "Upgrading database; v5 -> v6: : 0it [00:00, ?it/s]"
     ]
    },
    {
     "name": "stdout",
     "output_type": "stream",
     "text": [
      "\r",
      "Upgrading database; v5 -> v6: : 0it [00:00, ?it/s]"
     ]
    },
    {
     "name": "stdout",
     "output_type": "stream",
     "text": [
      "\n",
      "\r",
      "  0%|          | 0/1 [00:00<?, ?it/s]"
     ]
    },
    {
     "name": "stdout",
     "output_type": "stream",
     "text": [
      "\r",
      "Upgrading database; v6 -> v7:   0%|          | 0/1 [00:00<?, ?it/s]"
     ]
    },
    {
     "name": "stdout",
     "output_type": "stream",
     "text": [
      "\r",
      "Upgrading database; v6 -> v7: 100%|██████████| 1/1 [00:00<00:00, 424.44it/s]"
     ]
    },
    {
     "name": "stdout",
     "output_type": "stream",
     "text": [
      "\n",
      "\r",
      "  0%|          | 0/1 [00:00<?, ?it/s]"
     ]
    },
    {
     "name": "stdout",
     "output_type": "stream",
     "text": [
      "\r",
      "Upgrading database; v7 -> v8:   0%|          | 0/1 [00:00<?, ?it/s]"
     ]
    },
    {
     "name": "stdout",
     "output_type": "stream",
     "text": [
      "\r",
      "Upgrading database; v7 -> v8: 100%|██████████| 1/1 [00:00<00:00, 920.01it/s]"
     ]
    },
    {
     "name": "stdout",
     "output_type": "stream",
     "text": [
      "\n",
      "\r",
      "  0%|          | 0/1 [00:00<?, ?it/s]"
     ]
    },
    {
     "name": "stdout",
     "output_type": "stream",
     "text": [
      "\r",
      "Upgrading database; v8 -> v9:   0%|          | 0/1 [00:00<?, ?it/s]"
     ]
    },
    {
     "name": "stdout",
     "output_type": "stream",
     "text": [
      "\r",
      "Upgrading database; v8 -> v9: 100%|██████████| 1/1 [00:00<00:00, 574.40it/s]"
     ]
    },
    {
     "name": "stdout",
     "output_type": "stream",
     "text": [
      "\n"
     ]
    }
   ],
   "source": [
    "initialise_database()\n",
    "exp = load_or_create_experiment(experiment_name='tutorial_exp', sample_name=\"no sample\")"
   ]
  },
  {
   "cell_type": "markdown",
   "metadata": {},
   "source": [
    "Here, we define a simple function to benchmark the time it takes to insert n points with either numeric or array data type.\n",
    "We will compare both the time used to call ``add_result`` and the time used for the full measurement."
   ]
  },
  {
   "cell_type": "code",
   "execution_count": 4,
   "metadata": {},
   "outputs": [],
   "source": [
    "def insert_data(paramtype, npoints, nreps=1):\n",
    "\n",
    "    meas = Measurement(exp=exp)\n",
    "\n",
    "    x1 = ManualParameter('x1')\n",
    "    x2 = ManualParameter('x2')\n",
    "    x3 = ManualParameter('x3')\n",
    "    y1 = ManualParameter('y1')\n",
    "    y2 = ManualParameter('y2')\n",
    "\n",
    "    meas.register_parameter(x1, paramtype=paramtype)\n",
    "    meas.register_parameter(x2, paramtype=paramtype)\n",
    "    meas.register_parameter(x3, paramtype=paramtype)\n",
    "    meas.register_parameter(y1, setpoints=[x1, x2, x3],\n",
    "                            paramtype=paramtype)\n",
    "    meas.register_parameter(y2, setpoints=[x1, x2, x3],\n",
    "                            paramtype=paramtype)\n",
    "    start = time.perf_counter()\n",
    "    with meas.run() as datasaver:\n",
    "        start_adding = time.perf_counter()\n",
    "        for i in range(nreps):\n",
    "            datasaver.add_result((x1, np.random.rand(npoints)),\n",
    "                                 (x2, np.random.rand(npoints)),\n",
    "                                 (x3, np.random.rand(npoints)),\n",
    "                                 (y1, np.random.rand(npoints)),\n",
    "                                 (y2, np.random.rand(npoints)))\n",
    "        stop_adding = time.perf_counter()\n",
    "        run_id = datasaver.run_id\n",
    "    stop = time.perf_counter()\n",
    "    tot_time = stop - start\n",
    "    add_time = stop_adding - start_adding\n",
    "    return tot_time, add_time, run_id"
   ]
  },
  {
   "cell_type": "markdown",
   "metadata": {},
   "source": [
    "## Comparison between numeric/array data and binary blob"
   ]
  },
  {
   "cell_type": "markdown",
   "metadata": {},
   "source": [
    "### Case1: Short experiment time"
   ]
  },
  {
   "cell_type": "code",
   "execution_count": 5,
   "metadata": {},
   "outputs": [
    {
     "name": "stdout",
     "output_type": "stream",
     "text": [
      "Starting experimental run with id: 1. \n",
      "Starting experimental run with id: 2. \n",
      "Starting experimental run with id: 3. \n",
      "Starting experimental run with id: 4. \n"
     ]
    },
    {
     "name": "stdout",
     "output_type": "stream",
     "text": [
      "Starting experimental run with id: 5. \n"
     ]
    },
    {
     "name": "stdout",
     "output_type": "stream",
     "text": [
      "Starting experimental run with id: 6. \n",
      "Starting experimental run with id: 7. \n"
     ]
    },
    {
     "name": "stdout",
     "output_type": "stream",
     "text": [
      "Starting experimental run with id: 8. \n"
     ]
    },
    {
     "name": "stdout",
     "output_type": "stream",
     "text": [
      "Starting experimental run with id: 9. \n"
     ]
    },
    {
     "name": "stdout",
     "output_type": "stream",
     "text": [
      "Starting experimental run with id: 10. \n",
      "Starting experimental run with id: 11. \n"
     ]
    },
    {
     "name": "stdout",
     "output_type": "stream",
     "text": [
      "Starting experimental run with id: 12. \n"
     ]
    },
    {
     "name": "stdout",
     "output_type": "stream",
     "text": [
      "Starting experimental run with id: 13. \n"
     ]
    },
    {
     "name": "stdout",
     "output_type": "stream",
     "text": [
      "Starting experimental run with id: 14. \n"
     ]
    }
   ],
   "source": [
    "sizes = [1,500,1000,2000,3000,4000,5000]\n",
    "t_numeric = []\n",
    "t_numeric_add = []\n",
    "t_array = []\n",
    "t_array_add = []\n",
    "for size in sizes:\n",
    "    tn, tna, run_id_n =  insert_data('numeric', size)\n",
    "    t_numeric.append(tn)\n",
    "    t_numeric_add.append(tna)\n",
    "\n",
    "    ta, taa, run_id_a =  insert_data('array', size)\n",
    "    t_array.append(ta)\n",
    "    t_array_add.append(taa)"
   ]
  },
  {
   "cell_type": "code",
   "execution_count": 6,
   "metadata": {},
   "outputs": [
    {
     "data": {
      "image/png": "[encoded data removed]",
      "text/plain": [
       "<Figure size 432x288 with 1 Axes>"
      ]
     },
     "metadata": {
      "needs_background": "light"
     },
     "output_type": "display_data"
    }
   ],
   "source": [
    "fig, ax = plt.subplots(1,1)\n",
    "ax.plot(sizes, t_numeric, 'o-', label='Inserting row-by-row')\n",
    "ax.plot(sizes, t_numeric_add, 'o-', label='Inserting row-by-row: add_result only')\n",
    "ax.plot(sizes, t_array, 'd-', label='Inserting as binary blob')\n",
    "ax.plot(sizes, t_array_add, 'd-', label='Inserting as binary blob: add_result only')\n",
    "ax.legend()\n",
    "ax.set_xlabel('Array length')\n",
    "ax.set_ylabel('Time (s)')\n",
    "fig.tight_layout()"
   ]
  },
  {
   "cell_type": "markdown",
   "metadata": {},
   "source": [
    "As shown in the latter figure, the time to setup and and close the experiment is approximately 0.4 sec. In case of small array sizes, the difference between inserting values of data as arrays and inserting them row-by-row is relatively unimportant. At larger array sizes, i.e. above 10000 points, the cost of writing data as individual datapoints starts to become important.\n"
   ]
  },
  {
   "cell_type": "markdown",
   "metadata": {},
   "source": [
    "### Case2: Long experiment time "
   ]
  },
  {
   "cell_type": "code",
   "execution_count": 7,
   "metadata": {},
   "outputs": [
    {
     "name": "stdout",
     "output_type": "stream",
     "text": [
      "Starting experimental run with id: 15. \n",
      "Starting experimental run with id: 16. \n",
      "Starting experimental run with id: 17. \n"
     ]
    },
    {
     "name": "stdout",
     "output_type": "stream",
     "text": [
      "Starting experimental run with id: 18. \n",
      "Starting experimental run with id: 19. \n"
     ]
    },
    {
     "name": "stdout",
     "output_type": "stream",
     "text": [
      "Starting experimental run with id: 20. \n"
     ]
    },
    {
     "name": "stdout",
     "output_type": "stream",
     "text": [
      "Starting experimental run with id: 21. \n"
     ]
    },
    {
     "name": "stdout",
     "output_type": "stream",
     "text": [
      "Starting experimental run with id: 22. \n"
     ]
    },
    {
     "name": "stdout",
     "output_type": "stream",
     "text": [
      "Starting experimental run with id: 23. \n"
     ]
    },
    {
     "name": "stdout",
     "output_type": "stream",
     "text": [
      "Starting experimental run with id: 24. \n"
     ]
    },
    {
     "name": "stdout",
     "output_type": "stream",
     "text": [
      "Starting experimental run with id: 25. \n"
     ]
    },
    {
     "name": "stdout",
     "output_type": "stream",
     "text": [
      "Starting experimental run with id: 26. \n"
     ]
    },
    {
     "name": "stdout",
     "output_type": "stream",
     "text": [
      "Starting experimental run with id: 27. \n"
     ]
    },
    {
     "name": "stdout",
     "output_type": "stream",
     "text": [
      "Starting experimental run with id: 28. \n"
     ]
    }
   ],
   "source": [
    "sizes = [1,500,1000,2000,3000,4000,5000]\n",
    "nreps = 100\n",
    "t_numeric = []\n",
    "t_numeric_add = []\n",
    "t_numeric_run_ids = []\n",
    "t_array = []\n",
    "t_array_add = []\n",
    "t_array_run_ids = []\n",
    "for size in sizes:\n",
    "    tn, tna, run_id_n =  insert_data('numeric', size, nreps=nreps)\n",
    "    t_numeric.append(tn)\n",
    "    t_numeric_add.append(tna)\n",
    "    t_numeric_run_ids.append(run_id_n)\n",
    "\n",
    "    ta, taa, run_id_a =  insert_data('array', size, nreps=nreps)\n",
    "    t_array.append(ta)\n",
    "    t_array_add.append(taa)\n",
    "    t_array_run_ids.append(run_id_a)"
   ]
  },
  {
   "cell_type": "code",
   "execution_count": 8,
   "metadata": {
    "scrolled": true
   },
   "outputs": [
    {
     "data": {
      "image/png": "[encoded data removed]",
      "text/plain": [
       "<Figure size 432x288 with 1 Axes>"
      ]
     },
     "metadata": {
      "needs_background": "light"
     },
     "output_type": "display_data"
    }
   ],
   "source": [
    "fig, ax = plt.subplots(1,1)\n",
    "ax.plot(sizes, t_numeric, 'o-', label='Inserting row-by-row')\n",
    "ax.plot(sizes, t_numeric_add, 'o-', label='Inserting row-by-row: add_result only')\n",
    "ax.plot(sizes, t_array, 'd-', label='Inserting as binary blob')\n",
    "ax.plot(sizes, t_array_add, 'd-', label='Inserting as binary blob: add_result only')\n",
    "ax.legend()\n",
    "ax.set_xlabel('Array length')\n",
    "ax.set_ylabel('Time (s)')\n",
    "fig.tight_layout()"
   ]
  },
  {
   "cell_type": "markdown",
   "metadata": {},
   "source": [
    "However, as we increase the length of the experiment, as seen here by repeating the insertion 100 times, we see a big difference between inserting values of the data row-by-row and inserting it as a binary blob."
   ]
  },
  {
   "cell_type": "markdown",
   "metadata": {},
   "source": [
    "## Loading the data "
   ]
  },
  {
   "cell_type": "code",
   "execution_count": 9,
   "metadata": {},
   "outputs": [],
   "source": [
    "from qcodes.dataset.data_set import load_by_id\n",
    "from qcodes.dataset.data_export import get_data_by_id"
   ]
  },
  {
   "cell_type": "markdown",
   "metadata": {},
   "source": [
    "As usual you can load the data by using the ``load_by_id`` function but you will notice that the different storage methods\n",
    "are reflected in shape of the data as it is retrieved. "
   ]
  },
  {
   "cell_type": "code",
   "execution_count": 10,
   "metadata": {},
   "outputs": [],
   "source": [
    "run_id_n = t_numeric_run_ids[0]\n",
    "run_id_a = t_array_run_ids[0]"
   ]
  },
  {
   "cell_type": "code",
   "execution_count": 11,
   "metadata": {
    "scrolled": true
   },
   "outputs": [
    {
     "data": {
      "text/plain": [
       "{'x1': {'x1': array([0.01133152, 0.01133152, 0.1773113 , 0.1773113 , 0.29492479,\n",
       "         0.29492479, 0.17072822, 0.17072822, 0.27762626, 0.27762626,\n",
       "         0.45790932, 0.45790932, 0.34048936, 0.34048936, 0.99433391,\n",
       "         0.99433391, 0.59733486, 0.59733486, 0.55836181, 0.55836181,\n",
       "         0.39715674, 0.39715674, 0.3472935 , 0.3472935 , 0.77767599,\n",
       "         0.77767599, 0.88099592, 0.88099592, 0.70012336, 0.70012336,\n",
       "         0.84512975, 0.84512975, 0.87000901, 0.87000901, 0.59382003,\n",
       "         0.59382003, 0.01654936, 0.01654936, 0.50154912, 0.50154912,\n",
       "         0.67792468, 0.67792468, 0.66436998, 0.66436998, 0.84392303,\n",
       "         0.84392303, 0.03919114, 0.03919114, 0.20104581, 0.20104581,\n",
       "         0.64027907, 0.64027907, 0.28138869, 0.28138869, 0.1330647 ,\n",
       "         0.1330647 , 0.52790927, 0.52790927, 0.4161226 , 0.4161226 ,\n",
       "         0.00480199, 0.00480199, 0.41451227, 0.41451227, 0.82979012,\n",
       "         0.82979012, 0.26927604, 0.26927604, 0.95618525, 0.95618525,\n",
       "         0.907093  , 0.907093  , 0.04968214, 0.04968214, 0.71360672,\n",
       "         0.71360672, 0.28325839, 0.28325839, 0.27156521, 0.27156521,\n",
       "         0.35916273, 0.35916273, 0.06512791, 0.06512791, 0.76303025,\n",
       "         0.76303025, 0.70425346, 0.70425346, 0.78888149, 0.78888149,\n",
       "         0.70293375, 0.70293375, 0.33529728, 0.33529728, 0.99794964,\n",
       "         0.99794964, 0.4662224 , 0.4662224 , 0.92919555, 0.92919555,\n",
       "         0.3556588 , 0.3556588 , 0.09862901, 0.09862901, 0.02423001,\n",
       "         0.02423001, 0.6280658 , 0.6280658 , 0.62441148, 0.62441148,\n",
       "         0.46091898, 0.46091898, 0.8621128 , 0.8621128 , 0.37676544,\n",
       "         0.37676544, 0.05931873, 0.05931873, 0.03235408, 0.03235408,\n",
       "         0.8975105 , 0.8975105 , 0.37599443, 0.37599443, 0.51739327,\n",
       "         0.51739327, 0.99535615, 0.99535615, 0.21588645, 0.21588645,\n",
       "         0.96111619, 0.96111619, 0.86338637, 0.86338637, 0.02337809,\n",
       "         0.02337809, 0.3953138 , 0.3953138 , 0.21826507, 0.21826507,\n",
       "         0.27788878, 0.27788878, 0.03272197, 0.03272197, 0.40508374,\n",
       "         0.40508374, 0.88249929, 0.88249929, 0.09087674, 0.09087674,\n",
       "         0.4995496 , 0.4995496 , 0.34088789, 0.34088789, 0.09843116,\n",
       "         0.09843116, 0.19817969, 0.19817969, 0.75858985, 0.75858985,\n",
       "         0.29601602, 0.29601602, 0.67174798, 0.67174798, 0.72900972,\n",
       "         0.72900972, 0.4225765 , 0.4225765 , 0.39278267, 0.39278267,\n",
       "         0.41224555, 0.41224555, 0.34300452, 0.34300452, 0.61902483,\n",
       "         0.61902483, 0.4466194 , 0.4466194 , 0.61187015, 0.61187015,\n",
       "         0.02920231, 0.02920231, 0.70612406, 0.70612406, 0.48394878,\n",
       "         0.48394878, 0.36520955, 0.36520955, 0.23390873, 0.23390873,\n",
       "         0.29572826, 0.29572826, 0.23031481, 0.23031481, 0.35142307,\n",
       "         0.35142307, 0.52151767, 0.52151767, 0.28369998, 0.28369998])}}"
      ]
     },
     "execution_count": 11,
     "metadata": {},
     "output_type": "execute_result"
    }
   ],
   "source": [
    "ds = load_by_id(run_id_n)\n",
    "ds.get_parameter_data('x1')"
   ]
  },
  {
   "cell_type": "markdown",
   "metadata": {},
   "source": [
    "And a dataset stored as binary arrays"
   ]
  },
  {
   "cell_type": "code",
   "execution_count": 12,
   "metadata": {
    "scrolled": true
   },
   "outputs": [
    {
     "data": {
      "text/plain": [
       "{'x1': {'x1': array([[0.47420414],\n",
       "         [0.47420414],\n",
       "         [0.95824919],\n",
       "         [0.95824919],\n",
       "         [0.6080409 ],\n",
       "         [0.6080409 ],\n",
       "         [0.91642304],\n",
       "         [0.91642304],\n",
       "         [0.4338221 ],\n",
       "         [0.4338221 ],\n",
       "         [0.81424431],\n",
       "         [0.81424431],\n",
       "         [0.7380764 ],\n",
       "         [0.7380764 ],\n",
       "         [0.32004472],\n",
       "         [0.32004472],\n",
       "         [0.74270199],\n",
       "         [0.74270199],\n",
       "         [0.33910146],\n",
       "         [0.33910146],\n",
       "         [0.44788272],\n",
       "         [0.44788272],\n",
       "         [0.28483498],\n",
       "         [0.28483498],\n",
       "         [0.68202924],\n",
       "         [0.68202924],\n",
       "         [0.24859813],\n",
       "         [0.24859813],\n",
       "         [0.49086433],\n",
       "         [0.49086433],\n",
       "         [0.83522448],\n",
       "         [0.83522448],\n",
       "         [0.11711812],\n",
       "         [0.11711812],\n",
       "         [0.16108217],\n",
       "         [0.16108217],\n",
       "         [0.08428783],\n",
       "         [0.08428783],\n",
       "         [0.93878104],\n",
       "         [0.93878104],\n",
       "         [0.71854712],\n",
       "         [0.71854712],\n",
       "         [0.46191961],\n",
       "         [0.46191961],\n",
       "         [0.02046548],\n",
       "         [0.02046548],\n",
       "         [0.65811622],\n",
       "         [0.65811622],\n",
       "         [0.50475929],\n",
       "         [0.50475929],\n",
       "         [0.10264602],\n",
       "         [0.10264602],\n",
       "         [0.9171733 ],\n",
       "         [0.9171733 ],\n",
       "         [0.01529113],\n",
       "         [0.01529113],\n",
       "         [0.98774889],\n",
       "         [0.98774889],\n",
       "         [0.4118064 ],\n",
       "         [0.4118064 ],\n",
       "         [0.07123444],\n",
       "         [0.07123444],\n",
       "         [0.8896689 ],\n",
       "         [0.8896689 ],\n",
       "         [0.64438923],\n",
       "         [0.64438923],\n",
       "         [0.55105364],\n",
       "         [0.55105364],\n",
       "         [0.3542439 ],\n",
       "         [0.3542439 ],\n",
       "         [0.05650525],\n",
       "         [0.05650525],\n",
       "         [0.39788486],\n",
       "         [0.39788486],\n",
       "         [0.72627738],\n",
       "         [0.72627738],\n",
       "         [0.3469649 ],\n",
       "         [0.3469649 ],\n",
       "         [0.64127861],\n",
       "         [0.64127861],\n",
       "         [0.87868007],\n",
       "         [0.87868007],\n",
       "         [0.47117445],\n",
       "         [0.47117445],\n",
       "         [0.47680576],\n",
       "         [0.47680576],\n",
       "         [0.87478388],\n",
       "         [0.87478388],\n",
       "         [0.27942949],\n",
       "         [0.27942949],\n",
       "         [0.80411778],\n",
       "         [0.80411778],\n",
       "         [0.17794816],\n",
       "         [0.17794816],\n",
       "         [0.03869413],\n",
       "         [0.03869413],\n",
       "         [0.02113159],\n",
       "         [0.02113159],\n",
       "         [0.06481114],\n",
       "         [0.06481114],\n",
       "         [0.87056626],\n",
       "         [0.87056626],\n",
       "         [0.08020761],\n",
       "         [0.08020761],\n",
       "         [0.10598143],\n",
       "         [0.10598143],\n",
       "         [0.2374516 ],\n",
       "         [0.2374516 ],\n",
       "         [0.47099129],\n",
       "         [0.47099129],\n",
       "         [0.48442312],\n",
       "         [0.48442312],\n",
       "         [0.67083537],\n",
       "         [0.67083537],\n",
       "         [0.87491147],\n",
       "         [0.87491147],\n",
       "         [0.03273494],\n",
       "         [0.03273494],\n",
       "         [0.33964931],\n",
       "         [0.33964931],\n",
       "         [0.80206692],\n",
       "         [0.80206692],\n",
       "         [0.80803758],\n",
       "         [0.80803758],\n",
       "         [0.30593877],\n",
       "         [0.30593877],\n",
       "         [0.88045569],\n",
       "         [0.88045569],\n",
       "         [0.90833326],\n",
       "         [0.90833326],\n",
       "         [0.36460191],\n",
       "         [0.36460191],\n",
       "         [0.29715759],\n",
       "         [0.29715759],\n",
       "         [0.92247667],\n",
       "         [0.92247667],\n",
       "         [0.47080473],\n",
       "         [0.47080473],\n",
       "         [0.08796314],\n",
       "         [0.08796314],\n",
       "         [0.26622337],\n",
       "         [0.26622337],\n",
       "         [0.8803473 ],\n",
       "         [0.8803473 ],\n",
       "         [0.4723771 ],\n",
       "         [0.4723771 ],\n",
       "         [0.48918423],\n",
       "         [0.48918423],\n",
       "         [0.12471409],\n",
       "         [0.12471409],\n",
       "         [0.38116091],\n",
       "         [0.38116091],\n",
       "         [0.66802405],\n",
       "         [0.66802405],\n",
       "         [0.32477268],\n",
       "         [0.32477268],\n",
       "         [0.2743195 ],\n",
       "         [0.2743195 ],\n",
       "         [0.94765849],\n",
       "         [0.94765849],\n",
       "         [0.49369045],\n",
       "         [0.49369045],\n",
       "         [0.9499083 ],\n",
       "         [0.9499083 ],\n",
       "         [0.27238267],\n",
       "         [0.27238267],\n",
       "         [0.7485502 ],\n",
       "         [0.7485502 ],\n",
       "         [0.67988309],\n",
       "         [0.67988309],\n",
       "         [0.53189941],\n",
       "         [0.53189941],\n",
       "         [0.69294527],\n",
       "         [0.69294527],\n",
       "         [0.9565495 ],\n",
       "         [0.9565495 ],\n",
       "         [0.15707083],\n",
       "         [0.15707083],\n",
       "         [0.41407745],\n",
       "         [0.41407745],\n",
       "         [0.14567623],\n",
       "         [0.14567623],\n",
       "         [0.09235587],\n",
       "         [0.09235587],\n",
       "         [0.84591909],\n",
       "         [0.84591909],\n",
       "         [0.10224506],\n",
       "         [0.10224506],\n",
       "         [0.76530089],\n",
       "         [0.76530089],\n",
       "         [0.88859284],\n",
       "         [0.88859284],\n",
       "         [0.20230832],\n",
       "         [0.20230832],\n",
       "         [0.01959034],\n",
       "         [0.01959034],\n",
       "         [0.84287365],\n",
       "         [0.84287365],\n",
       "         [0.2491167 ],\n",
       "         [0.2491167 ]])}}"
      ]
     },
     "execution_count": 12,
     "metadata": {},
     "output_type": "execute_result"
    }
   ],
   "source": [
    "ds = load_by_id(run_id_a)\n",
    "ds.get_parameter_data('x1')"
   ]
  },
  {
   "cell_type": "code",
   "execution_count": null,
   "metadata": {},
   "outputs": [],
   "source": []
  }
 ],
 "metadata": {
  "kernelspec": {
   "display_name": "Python 3",
   "language": "python",
   "name": "python3"
  },
  "language_info": {
   "codemirror_mode": {
    "name": "ipython",
    "version": 3
   },
   "file_extension": ".py",
   "mimetype": "text/x-python",
   "name": "python",
   "nbconvert_exporter": "python",
   "pygments_lexer": "ipython3",
   "version": "3.7.7"
  },
  "nbsphinx": {
   "timeout": 600
  },
  "toc": {
   "base_numbering": 1,
   "nav_menu": {},
   "number_sections": true,
   "sideBar": true,
   "skip_h1_title": false,
   "title_cell": "Table of Contents",
   "title_sidebar": "Contents",
   "toc_cell": false,
   "toc_position": {},
   "toc_section_display": true,
   "toc_window_display": false
  },
  "varInspector": {
   "cols": {
    "lenName": 16,
    "lenType": 16,
    "lenVar": 40
   },
   "kernels_config": {
    "python": {
     "delete_cmd_postfix": "",
     "delete_cmd_prefix": "del ",
     "library": "var_list.py",
     "varRefreshCmd": "print(var_dic_list())"
    },
    "r": {
     "delete_cmd_postfix": ") ",
     "delete_cmd_prefix": "rm(",
     "library": "var_list.r",
     "varRefreshCmd": "cat(var_dic_list()) "
    }
   },
   "types_to_exclude": [
    "module",
    "function",
    "builtin_function_or_method",
    "instance",
    "_Feature"
   ],
   "window_display": false
  }
 },
 "nbformat": 4,
 "nbformat_minor": 2
}
