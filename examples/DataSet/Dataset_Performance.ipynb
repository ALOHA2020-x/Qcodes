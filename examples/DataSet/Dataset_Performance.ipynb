{
 "cells": [
  {
   "cell_type": "markdown",
   "metadata": {},
   "source": [
    "# DataSet Performance\n",
    "\n",
    "This notebook shows the trade-off between inserting data into a database row-by-row and as binary blobs. Inserting the data row-by-row means that we have direct access to all the data and may perform queries directly on the values of the data. On the other hand, as we shall see, this is much slower than inserting the data directly as binary blobs."
   ]
  },
  {
   "cell_type": "markdown",
   "metadata": {},
   "source": [
    "First, we choose a new location for the database to ensure that we don't add a bunch of benchmarking data to the default one."
   ]
  },
  {
   "cell_type": "code",
   "execution_count": 1,
   "metadata": {
    "execution": {
     "iopub.execute_input": "2020-09-25T11:40:15.939120Z",
     "iopub.status.busy": "2020-09-25T11:40:15.938519Z",
     "iopub.status.idle": "2020-09-25T11:40:17.015017Z",
     "shell.execute_reply": "2020-09-25T11:40:17.015496Z"
    }
   },
   "outputs": [
    {
     "name": "stdout",
     "output_type": "stream",
     "text": [
      "Logging hadn't been started.\n",
      "Activating auto-logging. Current session state plus future input saved.\n",
      "Filename       : /home/vsts/.qcodes/logs/command_history.log\n",
      "Mode           : append\n",
      "Output logging : True\n",
      "Raw input log  : False\n",
      "Timestamping   : True\n",
      "State          : active\n"
     ]
    },
    {
     "name": "stdout",
     "output_type": "stream",
     "text": [
      "Qcodes Logfile : /home/vsts/.qcodes/logs/200925-19079-qcodes.log\n"
     ]
    }
   ],
   "source": [
    "import os\n",
    "cwd = os.getcwd()\n",
    "import qcodes as qc\n",
    "qc.config[\"core\"][\"db_location\"] = os.path.join(cwd, 'testing.db')\n"
   ]
  },
  {
   "cell_type": "code",
   "execution_count": 2,
   "metadata": {
    "execution": {
     "iopub.execute_input": "2020-09-25T11:40:17.022639Z",
     "iopub.status.busy": "2020-09-25T11:40:17.021678Z",
     "iopub.status.idle": "2020-09-25T11:40:17.225913Z",
     "shell.execute_reply": "2020-09-25T11:40:17.224834Z"
    }
   },
   "outputs": [],
   "source": [
    "%matplotlib inline\n",
    "import time\n",
    "import matplotlib.pyplot as plt\n",
    "import numpy as np\n",
    "\n",
    "import qcodes as qc\n",
    "from qcodes.instrument.parameter import ManualParameter\n",
    "from qcodes.dataset.experiment_container import (Experiment,\n",
    "                                                 load_last_experiment,\n",
    "                                                 new_experiment)\n",
    "from qcodes.dataset.sqlite.database import initialise_database\n",
    "from qcodes import load_or_create_experiment\n",
    "from qcodes.dataset.measurements import Measurement"
   ]
  },
  {
   "cell_type": "code",
   "execution_count": 3,
   "metadata": {
    "execution": {
     "iopub.execute_input": "2020-09-25T11:40:17.230331Z",
     "iopub.status.busy": "2020-09-25T11:40:17.229682Z",
     "iopub.status.idle": "2020-09-25T11:40:17.348581Z",
     "shell.execute_reply": "2020-09-25T11:40:17.347749Z"
    }
   },
   "outputs": [
    {
     "name": "stdout",
     "output_type": "stream",
     "text": [
      "\r",
      "0it [00:00, ?it/s]"
     ]
    },
    {
     "name": "stdout",
     "output_type": "stream",
     "text": [
      "\r",
      "Upgrading database; v0 -> v1: : 0it [00:00, ?it/s]"
     ]
    },
    {
     "name": "stdout",
     "output_type": "stream",
     "text": [
      "\r",
      "Upgrading database; v0 -> v1: : 0it [00:00, ?it/s]"
     ]
    },
    {
     "name": "stdout",
     "output_type": "stream",
     "text": [
      "\n",
      "\r",
      "  0%|          | 0/1 [00:00<?, ?it/s]"
     ]
    },
    {
     "name": "stdout",
     "output_type": "stream",
     "text": [
      "\r",
      "Upgrading database; v1 -> v2:   0%|          | 0/1 [00:00<?, ?it/s]"
     ]
    },
    {
     "name": "stdout",
     "output_type": "stream",
     "text": [
      "\r",
      "Upgrading database; v1 -> v2: 100%|██████████| 1/1 [00:00<00:00, 1167.68it/s]"
     ]
    },
    {
     "name": "stdout",
     "output_type": "stream",
     "text": [
      "\n",
      "\r",
      "0it [00:00, ?it/s]"
     ]
    },
    {
     "name": "stdout",
     "output_type": "stream",
     "text": [
      "\r",
      "Upgrading database; v2 -> v3: : 0it [00:00, ?it/s]"
     ]
    },
    {
     "name": "stdout",
     "output_type": "stream",
     "text": [
      "\r",
      "Upgrading database; v2 -> v3: : 0it [00:00, ?it/s]"
     ]
    },
    {
     "name": "stdout",
     "output_type": "stream",
     "text": [
      "\n",
      "\r",
      "0it [00:00, ?it/s]"
     ]
    },
    {
     "name": "stdout",
     "output_type": "stream",
     "text": [
      "\r",
      "Upgrading database; v3 -> v4: : 0it [00:00, ?it/s]"
     ]
    },
    {
     "name": "stdout",
     "output_type": "stream",
     "text": [
      "\r",
      "Upgrading database; v3 -> v4: : 0it [00:00, ?it/s]"
     ]
    },
    {
     "name": "stdout",
     "output_type": "stream",
     "text": [
      "\n",
      "\r",
      "  0%|          | 0/1 [00:00<?, ?it/s]"
     ]
    },
    {
     "name": "stdout",
     "output_type": "stream",
     "text": [
      "\r",
      "Upgrading database; v4 -> v5:   0%|          | 0/1 [00:00<?, ?it/s]"
     ]
    },
    {
     "name": "stdout",
     "output_type": "stream",
     "text": [
      "\r",
      "Upgrading database; v4 -> v5: 100%|██████████| 1/1 [00:00<00:00, 298.78it/s]"
     ]
    },
    {
     "name": "stdout",
     "output_type": "stream",
     "text": [
      "\n",
      "\r",
      "0it [00:00, ?it/s]"
     ]
    },
    {
     "name": "stdout",
     "output_type": "stream",
     "text": [
      "\r",
      "Upgrading database; v5 -> v6: : 0it [00:00, ?it/s]"
     ]
    },
    {
     "name": "stdout",
     "output_type": "stream",
     "text": [
      "\r",
      "Upgrading database; v5 -> v6: : 0it [00:00, ?it/s]"
     ]
    },
    {
     "name": "stdout",
     "output_type": "stream",
     "text": [
      "\n",
      "\r",
      "  0%|          | 0/1 [00:00<?, ?it/s]"
     ]
    },
    {
     "name": "stdout",
     "output_type": "stream",
     "text": [
      "\r",
      "Upgrading database; v6 -> v7:   0%|          | 0/1 [00:00<?, ?it/s]"
     ]
    },
    {
     "name": "stdout",
     "output_type": "stream",
     "text": [
      "\r",
      "Upgrading database; v6 -> v7: 100%|██████████| 1/1 [00:00<00:00, 277.05it/s]"
     ]
    },
    {
     "name": "stdout",
     "output_type": "stream",
     "text": [
      "\n",
      "\r",
      "  0%|          | 0/1 [00:00<?, ?it/s]"
     ]
    },
    {
     "name": "stdout",
     "output_type": "stream",
     "text": [
      "\r",
      "Upgrading database; v7 -> v8:   0%|          | 0/1 [00:00<?, ?it/s]"
     ]
    },
    {
     "name": "stdout",
     "output_type": "stream",
     "text": [
      "\r",
      "Upgrading database; v7 -> v8: 100%|██████████| 1/1 [00:00<00:00, 294.69it/s]"
     ]
    },
    {
     "name": "stdout",
     "output_type": "stream",
     "text": [
      "\n",
      "\r",
      "  0%|          | 0/1 [00:00<?, ?it/s]"
     ]
    },
    {
     "name": "stdout",
     "output_type": "stream",
     "text": [
      "\r",
      "Upgrading database; v8 -> v9:   0%|          | 0/1 [00:00<?, ?it/s]"
     ]
    },
    {
     "name": "stdout",
     "output_type": "stream",
     "text": [
      "\r",
      "Upgrading database; v8 -> v9: 100%|██████████| 1/1 [00:00<00:00, 383.43it/s]"
     ]
    },
    {
     "name": "stdout",
     "output_type": "stream",
     "text": [
      "\n"
     ]
    }
   ],
   "source": [
    "initialise_database()\n",
    "exp = load_or_create_experiment(experiment_name='tutorial_exp', sample_name=\"no sample\")"
   ]
  },
  {
   "cell_type": "markdown",
   "metadata": {},
   "source": [
    "Here, we define a simple function to benchmark the time it takes to insert n points with either numeric or array data type.\n",
    "We will compare both the time used to call ``add_result`` and the time used for the full measurement."
   ]
  },
  {
   "cell_type": "code",
   "execution_count": 4,
   "metadata": {
    "execution": {
     "iopub.execute_input": "2020-09-25T11:40:17.358501Z",
     "iopub.status.busy": "2020-09-25T11:40:17.357929Z",
     "iopub.status.idle": "2020-09-25T11:40:17.361452Z",
     "shell.execute_reply": "2020-09-25T11:40:17.362197Z"
    }
   },
   "outputs": [],
   "source": [
    "def insert_data(paramtype, npoints, nreps=1):\n",
    "\n",
    "    meas = Measurement(exp=exp)\n",
    "\n",
    "    x1 = ManualParameter('x1')\n",
    "    x2 = ManualParameter('x2')\n",
    "    x3 = ManualParameter('x3')\n",
    "    y1 = ManualParameter('y1')\n",
    "    y2 = ManualParameter('y2')\n",
    "\n",
    "    meas.register_parameter(x1, paramtype=paramtype)\n",
    "    meas.register_parameter(x2, paramtype=paramtype)\n",
    "    meas.register_parameter(x3, paramtype=paramtype)\n",
    "    meas.register_parameter(y1, setpoints=[x1, x2, x3],\n",
    "                            paramtype=paramtype)\n",
    "    meas.register_parameter(y2, setpoints=[x1, x2, x3],\n",
    "                            paramtype=paramtype)\n",
    "    start = time.perf_counter()\n",
    "    with meas.run() as datasaver:\n",
    "        start_adding = time.perf_counter()\n",
    "        for i in range(nreps):\n",
    "            datasaver.add_result((x1, np.random.rand(npoints)),\n",
    "                                 (x2, np.random.rand(npoints)),\n",
    "                                 (x3, np.random.rand(npoints)),\n",
    "                                 (y1, np.random.rand(npoints)),\n",
    "                                 (y2, np.random.rand(npoints)))\n",
    "        stop_adding = time.perf_counter()\n",
    "        run_id = datasaver.run_id\n",
    "    stop = time.perf_counter()\n",
    "    tot_time = stop - start\n",
    "    add_time = stop_adding - start_adding\n",
    "    return tot_time, add_time, run_id"
   ]
  },
  {
   "cell_type": "markdown",
   "metadata": {},
   "source": [
    "## Comparison between numeric/array data and binary blob"
   ]
  },
  {
   "cell_type": "markdown",
   "metadata": {},
   "source": [
    "### Case1: Short experiment time"
   ]
  },
  {
   "cell_type": "code",
   "execution_count": 5,
   "metadata": {
    "execution": {
     "iopub.execute_input": "2020-09-25T11:40:17.369239Z",
     "iopub.status.busy": "2020-09-25T11:40:17.368121Z",
     "iopub.status.idle": "2020-09-25T11:40:18.241157Z",
     "shell.execute_reply": "2020-09-25T11:40:18.240485Z"
    }
   },
   "outputs": [
    {
     "name": "stdout",
     "output_type": "stream",
     "text": [
      "Starting experimental run with id: 1. \n",
      "Starting experimental run with id: 2. \n",
      "Starting experimental run with id: 3. \n",
      "Starting experimental run with id: 4. \n"
     ]
    },
    {
     "name": "stdout",
     "output_type": "stream",
     "text": [
      "Starting experimental run with id: 5. \n"
     ]
    },
    {
     "name": "stdout",
     "output_type": "stream",
     "text": [
      "Starting experimental run with id: 6. \n",
      "Starting experimental run with id: 7. \n"
     ]
    },
    {
     "name": "stdout",
     "output_type": "stream",
     "text": [
      "Starting experimental run with id: 8. \n",
      "Starting experimental run with id: 9. \n"
     ]
    },
    {
     "name": "stdout",
     "output_type": "stream",
     "text": [
      "Starting experimental run with id: 10. \n",
      "Starting experimental run with id: 11. \n"
     ]
    },
    {
     "name": "stdout",
     "output_type": "stream",
     "text": [
      "Starting experimental run with id: 12. \n",
      "Starting experimental run with id: 13. \n"
     ]
    },
    {
     "name": "stdout",
     "output_type": "stream",
     "text": [
      "Starting experimental run with id: 14. \n"
     ]
    }
   ],
   "source": [
    "sizes = [1,500,1000,2000,3000,4000,5000]\n",
    "t_numeric = []\n",
    "t_numeric_add = []\n",
    "t_array = []\n",
    "t_array_add = []\n",
    "for size in sizes:\n",
    "    tn, tna, run_id_n =  insert_data('numeric', size)\n",
    "    t_numeric.append(tn)\n",
    "    t_numeric_add.append(tna)\n",
    "\n",
    "    ta, taa, run_id_a =  insert_data('array', size)\n",
    "    t_array.append(ta)\n",
    "    t_array_add.append(taa)"
   ]
  },
  {
   "cell_type": "code",
   "execution_count": 6,
   "metadata": {
    "execution": {
     "iopub.execute_input": "2020-09-25T11:40:18.264691Z",
     "iopub.status.busy": "2020-09-25T11:40:18.249313Z",
     "iopub.status.idle": "2020-09-25T11:40:18.492166Z",
     "shell.execute_reply": "2020-09-25T11:40:18.491427Z"
    }
   },
   "outputs": [
    {
     "data": {
      "image/png": "[encoded data removed]",
      "text/plain": [
       "<Figure size 432x288 with 1 Axes>"
      ]
     },
     "metadata": {
      "needs_background": "light"
     },
     "output_type": "display_data"
    }
   ],
   "source": [
    "fig, ax = plt.subplots(1,1)\n",
    "ax.plot(sizes, t_numeric, 'o-', label='Inserting row-by-row')\n",
    "ax.plot(sizes, t_numeric_add, 'o-', label='Inserting row-by-row: add_result only')\n",
    "ax.plot(sizes, t_array, 'd-', label='Inserting as binary blob')\n",
    "ax.plot(sizes, t_array_add, 'd-', label='Inserting as binary blob: add_result only')\n",
    "ax.legend()\n",
    "ax.set_xlabel('Array length')\n",
    "ax.set_ylabel('Time (s)')\n",
    "fig.tight_layout()"
   ]
  },
  {
   "cell_type": "markdown",
   "metadata": {},
   "source": [
    "As shown in the latter figure, the time to setup and and close the experiment is approximately 0.4 sec. In case of small array sizes, the difference between inserting values of data as arrays and inserting them row-by-row is relatively unimportant. At larger array sizes, i.e. above 10000 points, the cost of writing data as individual datapoints starts to become important.\n"
   ]
  },
  {
   "cell_type": "markdown",
   "metadata": {},
   "source": [
    "### Case2: Long experiment time "
   ]
  },
  {
   "cell_type": "code",
   "execution_count": 7,
   "metadata": {
    "execution": {
     "iopub.execute_input": "2020-09-25T11:40:18.500576Z",
     "iopub.status.busy": "2020-09-25T11:40:18.499761Z",
     "iopub.status.idle": "2020-09-25T11:41:21.423054Z",
     "shell.execute_reply": "2020-09-25T11:41:21.423669Z"
    }
   },
   "outputs": [
    {
     "name": "stdout",
     "output_type": "stream",
     "text": [
      "Starting experimental run with id: 15. \n",
      "Starting experimental run with id: 16. \n",
      "Starting experimental run with id: 17. \n"
     ]
    },
    {
     "name": "stdout",
     "output_type": "stream",
     "text": [
      "Starting experimental run with id: 18. \n",
      "Starting experimental run with id: 19. \n"
     ]
    },
    {
     "name": "stdout",
     "output_type": "stream",
     "text": [
      "Starting experimental run with id: 20. \n"
     ]
    },
    {
     "name": "stdout",
     "output_type": "stream",
     "text": [
      "Starting experimental run with id: 21. \n"
     ]
    },
    {
     "name": "stdout",
     "output_type": "stream",
     "text": [
      "Starting experimental run with id: 22. \n"
     ]
    },
    {
     "name": "stdout",
     "output_type": "stream",
     "text": [
      "Starting experimental run with id: 23. \n"
     ]
    },
    {
     "name": "stdout",
     "output_type": "stream",
     "text": [
      "Starting experimental run with id: 24. \n"
     ]
    },
    {
     "name": "stdout",
     "output_type": "stream",
     "text": [
      "Starting experimental run with id: 25. \n"
     ]
    },
    {
     "name": "stdout",
     "output_type": "stream",
     "text": [
      "Starting experimental run with id: 26. \n"
     ]
    },
    {
     "name": "stdout",
     "output_type": "stream",
     "text": [
      "Starting experimental run with id: 27. \n"
     ]
    },
    {
     "name": "stdout",
     "output_type": "stream",
     "text": [
      "Starting experimental run with id: 28. \n"
     ]
    }
   ],
   "source": [
    "sizes = [1,500,1000,2000,3000,4000,5000]\n",
    "nreps = 100\n",
    "t_numeric = []\n",
    "t_numeric_add = []\n",
    "t_numeric_run_ids = []\n",
    "t_array = []\n",
    "t_array_add = []\n",
    "t_array_run_ids = []\n",
    "for size in sizes:\n",
    "    tn, tna, run_id_n =  insert_data('numeric', size, nreps=nreps)\n",
    "    t_numeric.append(tn)\n",
    "    t_numeric_add.append(tna)\n",
    "    t_numeric_run_ids.append(run_id_n)\n",
    "\n",
    "    ta, taa, run_id_a =  insert_data('array', size, nreps=nreps)\n",
    "    t_array.append(ta)\n",
    "    t_array_add.append(taa)\n",
    "    t_array_run_ids.append(run_id_a)"
   ]
  },
  {
   "cell_type": "code",
   "execution_count": 8,
   "metadata": {
    "execution": {
     "iopub.execute_input": "2020-09-25T11:41:21.454223Z",
     "iopub.status.busy": "2020-09-25T11:41:21.451767Z",
     "iopub.status.idle": "2020-09-25T11:41:21.670842Z",
     "shell.execute_reply": "2020-09-25T11:41:21.671331Z"
    },
    "scrolled": true
   },
   "outputs": [
    {
     "data": {
      "image/png": "[encoded data removed]",
      "text/plain": [
       "<Figure size 432x288 with 1 Axes>"
      ]
     },
     "metadata": {
      "needs_background": "light"
     },
     "output_type": "display_data"
    }
   ],
   "source": [
    "fig, ax = plt.subplots(1,1)\n",
    "ax.plot(sizes, t_numeric, 'o-', label='Inserting row-by-row')\n",
    "ax.plot(sizes, t_numeric_add, 'o-', label='Inserting row-by-row: add_result only')\n",
    "ax.plot(sizes, t_array, 'd-', label='Inserting as binary blob')\n",
    "ax.plot(sizes, t_array_add, 'd-', label='Inserting as binary blob: add_result only')\n",
    "ax.legend()\n",
    "ax.set_xlabel('Array length')\n",
    "ax.set_ylabel('Time (s)')\n",
    "fig.tight_layout()"
   ]
  },
  {
   "cell_type": "markdown",
   "metadata": {},
   "source": [
    "However, as we increase the length of the experiment, as seen here by repeating the insertion 100 times, we see a big difference between inserting values of the data row-by-row and inserting it as a binary blob."
   ]
  },
  {
   "cell_type": "markdown",
   "metadata": {},
   "source": [
    "## Loading the data "
   ]
  },
  {
   "cell_type": "code",
   "execution_count": 9,
   "metadata": {
    "execution": {
     "iopub.execute_input": "2020-09-25T11:41:21.676938Z",
     "iopub.status.busy": "2020-09-25T11:41:21.675594Z",
     "iopub.status.idle": "2020-09-25T11:41:21.678474Z",
     "shell.execute_reply": "2020-09-25T11:41:21.679230Z"
    }
   },
   "outputs": [],
   "source": [
    "from qcodes.dataset.data_set import load_by_id\n",
    "from qcodes.dataset.data_export import get_data_by_id"
   ]
  },
  {
   "cell_type": "markdown",
   "metadata": {},
   "source": [
    "As usual you can load the data by using the ``load_by_id`` function but you will notice that the different storage methods\n",
    "are reflected in shape of the data as it is retrieved. "
   ]
  },
  {
   "cell_type": "code",
   "execution_count": 10,
   "metadata": {
    "execution": {
     "iopub.execute_input": "2020-09-25T11:41:21.684403Z",
     "iopub.status.busy": "2020-09-25T11:41:21.683032Z",
     "iopub.status.idle": "2020-09-25T11:41:21.685077Z",
     "shell.execute_reply": "2020-09-25T11:41:21.685597Z"
    }
   },
   "outputs": [],
   "source": [
    "run_id_n = t_numeric_run_ids[0]\n",
    "run_id_a = t_array_run_ids[0]"
   ]
  },
  {
   "cell_type": "code",
   "execution_count": 11,
   "metadata": {
    "execution": {
     "iopub.execute_input": "2020-09-25T11:41:21.688830Z",
     "iopub.status.busy": "2020-09-25T11:41:21.688296Z",
     "iopub.status.idle": "2020-09-25T11:41:21.698264Z",
     "shell.execute_reply": "2020-09-25T11:41:21.698890Z"
    },
    "scrolled": true
   },
   "outputs": [
    {
     "data": {
      "text/plain": [
       "{'x1': {'x1': array([0.77717027, 0.77717027, 0.20757432, 0.20757432, 0.21352077,\n",
       "         0.21352077, 0.81735934, 0.81735934, 0.00806387, 0.00806387,\n",
       "         0.68740302, 0.68740302, 0.1729015 , 0.1729015 , 0.10938294,\n",
       "         0.10938294, 0.51104429, 0.51104429, 0.5201911 , 0.5201911 ,\n",
       "         0.35327525, 0.35327525, 0.80922763, 0.80922763, 0.42149817,\n",
       "         0.42149817, 0.05199219, 0.05199219, 0.92480887, 0.92480887,\n",
       "         0.15463763, 0.15463763, 0.63487879, 0.63487879, 0.43534244,\n",
       "         0.43534244, 0.67710274, 0.67710274, 0.72953493, 0.72953493,\n",
       "         0.75181248, 0.75181248, 0.21429472, 0.21429472, 0.05835909,\n",
       "         0.05835909, 0.19757553, 0.19757553, 0.75671935, 0.75671935,\n",
       "         0.97094732, 0.97094732, 0.64349926, 0.64349926, 0.53956892,\n",
       "         0.53956892, 0.09289807, 0.09289807, 0.32500457, 0.32500457,\n",
       "         0.76826415, 0.76826415, 0.3118663 , 0.3118663 , 0.75581867,\n",
       "         0.75581867, 0.37994077, 0.37994077, 0.5443956 , 0.5443956 ,\n",
       "         0.80539629, 0.80539629, 0.8831373 , 0.8831373 , 0.19319931,\n",
       "         0.19319931, 0.67430439, 0.67430439, 0.75047388, 0.75047388,\n",
       "         0.99665573, 0.99665573, 0.57077386, 0.57077386, 0.45349182,\n",
       "         0.45349182, 0.43266015, 0.43266015, 0.66190358, 0.66190358,\n",
       "         0.04158796, 0.04158796, 0.38257702, 0.38257702, 0.36436733,\n",
       "         0.36436733, 0.61867229, 0.61867229, 0.88056119, 0.88056119,\n",
       "         0.86830323, 0.86830323, 0.89479782, 0.89479782, 0.02325337,\n",
       "         0.02325337, 0.02829249, 0.02829249, 0.35432704, 0.35432704,\n",
       "         0.14939925, 0.14939925, 0.28775401, 0.28775401, 0.65164673,\n",
       "         0.65164673, 0.88301895, 0.88301895, 0.64493591, 0.64493591,\n",
       "         0.44069141, 0.44069141, 0.53284699, 0.53284699, 0.14861222,\n",
       "         0.14861222, 0.9866789 , 0.9866789 , 0.13730851, 0.13730851,\n",
       "         0.61958867, 0.61958867, 0.64604296, 0.64604296, 0.91686759,\n",
       "         0.91686759, 0.48834313, 0.48834313, 0.38675912, 0.38675912,\n",
       "         0.10325225, 0.10325225, 0.17253359, 0.17253359, 0.76949469,\n",
       "         0.76949469, 0.47627738, 0.47627738, 0.80335772, 0.80335772,\n",
       "         0.54771954, 0.54771954, 0.7210858 , 0.7210858 , 0.01045757,\n",
       "         0.01045757, 0.41696452, 0.41696452, 0.6700324 , 0.6700324 ,\n",
       "         0.44369194, 0.44369194, 0.1013956 , 0.1013956 , 0.33963696,\n",
       "         0.33963696, 0.27873893, 0.27873893, 0.84875882, 0.84875882,\n",
       "         0.10859119, 0.10859119, 0.72058678, 0.72058678, 0.26845132,\n",
       "         0.26845132, 0.94846499, 0.94846499, 0.91300922, 0.91300922,\n",
       "         0.25922703, 0.25922703, 0.26303728, 0.26303728, 0.57154211,\n",
       "         0.57154211, 0.37710599, 0.37710599, 0.03545256, 0.03545256,\n",
       "         0.15048093, 0.15048093, 0.06669227, 0.06669227, 0.0756636 ,\n",
       "         0.0756636 , 0.57150455, 0.57150455, 0.59775545, 0.59775545])}}"
      ]
     },
     "execution_count": 1,
     "metadata": {},
     "output_type": "execute_result"
    }
   ],
   "source": [
    "ds = load_by_id(run_id_n)\n",
    "ds.get_parameter_data('x1')"
   ]
  },
  {
   "cell_type": "markdown",
   "metadata": {},
   "source": [
    "And a dataset stored as binary arrays"
   ]
  },
  {
   "cell_type": "code",
   "execution_count": 12,
   "metadata": {
    "execution": {
     "iopub.execute_input": "2020-09-25T11:41:21.702859Z",
     "iopub.status.busy": "2020-09-25T11:41:21.702049Z",
     "iopub.status.idle": "2020-09-25T11:41:21.763783Z",
     "shell.execute_reply": "2020-09-25T11:41:21.764559Z"
    },
    "scrolled": true
   },
   "outputs": [
    {
     "data": {
      "text/plain": [
       "{'x1': {'x1': array([[0.64718674],\n",
       "         [0.64718674],\n",
       "         [0.82117564],\n",
       "         [0.82117564],\n",
       "         [0.18755338],\n",
       "         [0.18755338],\n",
       "         [0.61105599],\n",
       "         [0.61105599],\n",
       "         [0.64107974],\n",
       "         [0.64107974],\n",
       "         [0.71987136],\n",
       "         [0.71987136],\n",
       "         [0.97434432],\n",
       "         [0.97434432],\n",
       "         [0.31558402],\n",
       "         [0.31558402],\n",
       "         [0.92639059],\n",
       "         [0.92639059],\n",
       "         [0.87872978],\n",
       "         [0.87872978],\n",
       "         [0.20152558],\n",
       "         [0.20152558],\n",
       "         [0.48176231],\n",
       "         [0.48176231],\n",
       "         [0.58591672],\n",
       "         [0.58591672],\n",
       "         [0.88309014],\n",
       "         [0.88309014],\n",
       "         [0.01965071],\n",
       "         [0.01965071],\n",
       "         [0.56064944],\n",
       "         [0.56064944],\n",
       "         [0.22332244],\n",
       "         [0.22332244],\n",
       "         [0.64242422],\n",
       "         [0.64242422],\n",
       "         [0.72385126],\n",
       "         [0.72385126],\n",
       "         [0.65967821],\n",
       "         [0.65967821],\n",
       "         [0.68542306],\n",
       "         [0.68542306],\n",
       "         [0.99284067],\n",
       "         [0.99284067],\n",
       "         [0.31000671],\n",
       "         [0.31000671],\n",
       "         [0.26507311],\n",
       "         [0.26507311],\n",
       "         [0.8087288 ],\n",
       "         [0.8087288 ],\n",
       "         [0.75919655],\n",
       "         [0.75919655],\n",
       "         [0.97528848],\n",
       "         [0.97528848],\n",
       "         [0.03172379],\n",
       "         [0.03172379],\n",
       "         [0.13502359],\n",
       "         [0.13502359],\n",
       "         [0.87515862],\n",
       "         [0.87515862],\n",
       "         [0.76379617],\n",
       "         [0.76379617],\n",
       "         [0.13057005],\n",
       "         [0.13057005],\n",
       "         [0.24096088],\n",
       "         [0.24096088],\n",
       "         [0.36771046],\n",
       "         [0.36771046],\n",
       "         [0.74313989],\n",
       "         [0.74313989],\n",
       "         [0.93800373],\n",
       "         [0.93800373],\n",
       "         [0.22245152],\n",
       "         [0.22245152],\n",
       "         [0.51588144],\n",
       "         [0.51588144],\n",
       "         [0.35281087],\n",
       "         [0.35281087],\n",
       "         [0.98725307],\n",
       "         [0.98725307],\n",
       "         [0.07415509],\n",
       "         [0.07415509],\n",
       "         [0.64197635],\n",
       "         [0.64197635],\n",
       "         [0.9946999 ],\n",
       "         [0.9946999 ],\n",
       "         [0.56256554],\n",
       "         [0.56256554],\n",
       "         [0.82967289],\n",
       "         [0.82967289],\n",
       "         [0.84985755],\n",
       "         [0.84985755],\n",
       "         [0.49897285],\n",
       "         [0.49897285],\n",
       "         [0.27810587],\n",
       "         [0.27810587],\n",
       "         [0.43554244],\n",
       "         [0.43554244],\n",
       "         [0.55895306],\n",
       "         [0.55895306],\n",
       "         [0.26308032],\n",
       "         [0.26308032],\n",
       "         [0.1590908 ],\n",
       "         [0.1590908 ],\n",
       "         [0.92063597],\n",
       "         [0.92063597],\n",
       "         [0.74049257],\n",
       "         [0.74049257],\n",
       "         [0.81653181],\n",
       "         [0.81653181],\n",
       "         [0.46383606],\n",
       "         [0.46383606],\n",
       "         [0.06743591],\n",
       "         [0.06743591],\n",
       "         [0.17697334],\n",
       "         [0.17697334],\n",
       "         [0.10939306],\n",
       "         [0.10939306],\n",
       "         [0.07136581],\n",
       "         [0.07136581],\n",
       "         [0.96432729],\n",
       "         [0.96432729],\n",
       "         [0.66961487],\n",
       "         [0.66961487],\n",
       "         [0.31478124],\n",
       "         [0.31478124],\n",
       "         [0.19196721],\n",
       "         [0.19196721],\n",
       "         [0.42442227],\n",
       "         [0.42442227],\n",
       "         [0.17218265],\n",
       "         [0.17218265],\n",
       "         [0.0683921 ],\n",
       "         [0.0683921 ],\n",
       "         [0.23958404],\n",
       "         [0.23958404],\n",
       "         [0.61646005],\n",
       "         [0.61646005],\n",
       "         [0.71975095],\n",
       "         [0.71975095],\n",
       "         [0.9638237 ],\n",
       "         [0.9638237 ],\n",
       "         [0.28891648],\n",
       "         [0.28891648],\n",
       "         [0.48029905],\n",
       "         [0.48029905],\n",
       "         [0.6886155 ],\n",
       "         [0.6886155 ],\n",
       "         [0.67471773],\n",
       "         [0.67471773],\n",
       "         [0.48882921],\n",
       "         [0.48882921],\n",
       "         [0.45696241],\n",
       "         [0.45696241],\n",
       "         [0.54205602],\n",
       "         [0.54205602],\n",
       "         [0.15448806],\n",
       "         [0.15448806],\n",
       "         [0.92465047],\n",
       "         [0.92465047],\n",
       "         [0.89374208],\n",
       "         [0.89374208],\n",
       "         [0.04610299],\n",
       "         [0.04610299],\n",
       "         [0.61410533],\n",
       "         [0.61410533],\n",
       "         [0.13852833],\n",
       "         [0.13852833],\n",
       "         [0.5713596 ],\n",
       "         [0.5713596 ],\n",
       "         [0.39997772],\n",
       "         [0.39997772],\n",
       "         [0.06413499],\n",
       "         [0.06413499],\n",
       "         [0.84765552],\n",
       "         [0.84765552],\n",
       "         [0.44909668],\n",
       "         [0.44909668],\n",
       "         [0.44634642],\n",
       "         [0.44634642],\n",
       "         [0.11980817],\n",
       "         [0.11980817],\n",
       "         [0.37751015],\n",
       "         [0.37751015],\n",
       "         [0.8638238 ],\n",
       "         [0.8638238 ],\n",
       "         [0.44611265],\n",
       "         [0.44611265],\n",
       "         [0.41269585],\n",
       "         [0.41269585],\n",
       "         [0.27364294],\n",
       "         [0.27364294],\n",
       "         [0.31864958],\n",
       "         [0.31864958],\n",
       "         [0.18918985],\n",
       "         [0.18918985],\n",
       "         [0.258006  ],\n",
       "         [0.258006  ],\n",
       "         [0.84405628],\n",
       "         [0.84405628]])}}"
      ]
     },
     "execution_count": 1,
     "metadata": {},
     "output_type": "execute_result"
    }
   ],
   "source": [
    "ds = load_by_id(run_id_a)\n",
    "ds.get_parameter_data('x1')"
   ]
  },
  {
   "cell_type": "code",
   "execution_count": null,
   "metadata": {},
   "outputs": [],
   "source": []
  }
 ],
 "metadata": {
  "kernelspec": {
   "display_name": "Python 3",
   "language": "python",
   "name": "python3"
  },
  "language_info": {
   "codemirror_mode": {
    "name": "ipython",
    "version": 3
   },
   "file_extension": ".py",
   "mimetype": "text/x-python",
   "name": "python",
   "nbconvert_exporter": "python",
   "pygments_lexer": "ipython3",
   "version": "3.7.7"
  },
  "nbsphinx": {
   "timeout": 600
  },
  "toc": {
   "base_numbering": 1,
   "nav_menu": {},
   "number_sections": true,
   "sideBar": true,
   "skip_h1_title": false,
   "title_cell": "Table of Contents",
   "title_sidebar": "Contents",
   "toc_cell": false,
   "toc_position": {},
   "toc_section_display": true,
   "toc_window_display": false
  },
  "varInspector": {
   "cols": {
    "lenName": 16,
    "lenType": 16,
    "lenVar": 40
   },
   "kernels_config": {
    "python": {
     "delete_cmd_postfix": "",
     "delete_cmd_prefix": "del ",
     "library": "var_list.py",
     "varRefreshCmd": "print(var_dic_list())"
    },
    "r": {
     "delete_cmd_postfix": ") ",
     "delete_cmd_prefix": "rm(",
     "library": "var_list.r",
     "varRefreshCmd": "cat(var_dic_list()) "
    }
   },
   "types_to_exclude": [
    "module",
    "function",
    "builtin_function_or_method",
    "instance",
    "_Feature"
   ],
   "window_display": false
  }
 },
 "nbformat": 4,
 "nbformat_minor": 2
}
