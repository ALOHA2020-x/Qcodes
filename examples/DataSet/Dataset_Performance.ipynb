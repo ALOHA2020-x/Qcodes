{
 "cells": [
  {
   "cell_type": "markdown",
   "metadata": {},
   "source": [
    "# DataSet Performance\n",
    "\n",
    "This notebook shows the trade-off between inserting data into a database row-by-row and as binary blobs. Inserting the data row-by-row means that we have direct access to all the data and may perform queries directly on the values of the data. On the other hand, as we shall see, this is much slower than inserting the data directly as binary blobs."
   ]
  },
  {
   "cell_type": "markdown",
   "metadata": {},
   "source": [
    "First, we choose a new location for the database to ensure that we don't add a bunch of benchmarking data to the default one."
   ]
  },
  {
   "cell_type": "code",
   "execution_count": 1,
   "metadata": {
    "execution": {
     "iopub.execute_input": "2020-10-30T09:32:52.134210Z",
     "iopub.status.busy": "2020-10-30T09:32:52.133596Z",
     "iopub.status.idle": "2020-10-30T09:32:53.312297Z",
     "shell.execute_reply": "2020-10-30T09:32:53.312958Z"
    }
   },
   "outputs": [
    {
     "name": "stdout",
     "output_type": "stream",
     "text": [
      "Logging hadn't been started.\n",
      "Activating auto-logging. Current session state plus future input saved.\n",
      "Filename       : /home/vsts/.qcodes/logs/command_history.log\n",
      "Mode           : append\n",
      "Output logging : True\n",
      "Raw input log  : False\n",
      "Timestamping   : True\n",
      "State          : active\n"
     ]
    },
    {
     "name": "stdout",
     "output_type": "stream",
     "text": [
      "Qcodes Logfile : /home/vsts/.qcodes/logs/201030-14414-qcodes.log\n"
     ]
    }
   ],
   "source": [
    "import os\n",
    "cwd = os.getcwd()\n",
    "import qcodes as qc\n",
    "qc.config[\"core\"][\"db_location\"] = os.path.join(cwd, 'testing.db')\n"
   ]
  },
  {
   "cell_type": "code",
   "execution_count": 2,
   "metadata": {
    "execution": {
     "iopub.execute_input": "2020-10-30T09:32:53.320953Z",
     "iopub.status.busy": "2020-10-30T09:32:53.319417Z",
     "iopub.status.idle": "2020-10-30T09:32:53.549849Z",
     "shell.execute_reply": "2020-10-30T09:32:53.549289Z"
    }
   },
   "outputs": [],
   "source": [
    "%matplotlib inline\n",
    "import time\n",
    "import matplotlib.pyplot as plt\n",
    "import numpy as np\n",
    "\n",
    "import qcodes as qc\n",
    "from qcodes.instrument.parameter import ManualParameter\n",
    "from qcodes.dataset.experiment_container import (Experiment,\n",
    "                                                 load_last_experiment,\n",
    "                                                 new_experiment)\n",
    "from qcodes.dataset.sqlite.database import initialise_database\n",
    "from qcodes import load_or_create_experiment\n",
    "from qcodes.dataset.measurements import Measurement"
   ]
  },
  {
   "cell_type": "code",
   "execution_count": 3,
   "metadata": {
    "execution": {
     "iopub.execute_input": "2020-10-30T09:32:53.554171Z",
     "iopub.status.busy": "2020-10-30T09:32:53.553531Z",
     "iopub.status.idle": "2020-10-30T09:32:53.672652Z",
     "shell.execute_reply": "2020-10-30T09:32:53.673124Z"
    }
   },
   "outputs": [
    {
     "name": "stdout",
     "output_type": "stream",
     "text": [
      "\r",
      "0it [00:00, ?it/s]"
     ]
    },
    {
     "name": "stdout",
     "output_type": "stream",
     "text": [
      "\r",
      "Upgrading database; v0 -> v1: : 0it [00:00, ?it/s]"
     ]
    },
    {
     "name": "stdout",
     "output_type": "stream",
     "text": [
      "\r",
      "Upgrading database; v0 -> v1: : 0it [00:00, ?it/s]"
     ]
    },
    {
     "name": "stdout",
     "output_type": "stream",
     "text": [
      "\n",
      "\r",
      "  0%|          | 0/1 [00:00<?, ?it/s]"
     ]
    },
    {
     "name": "stdout",
     "output_type": "stream",
     "text": [
      "\r",
      "Upgrading database; v1 -> v2:   0%|          | 0/1 [00:00<?, ?it/s]"
     ]
    },
    {
     "name": "stdout",
     "output_type": "stream",
     "text": [
      "\r",
      "Upgrading database; v1 -> v2: 100%|██████████| 1/1 [00:00<00:00, 646.07it/s]"
     ]
    },
    {
     "name": "stdout",
     "output_type": "stream",
     "text": [
      "\n",
      "\r",
      "0it [00:00, ?it/s]"
     ]
    },
    {
     "name": "stdout",
     "output_type": "stream",
     "text": [
      "\r",
      "Upgrading database; v2 -> v3: : 0it [00:00, ?it/s]"
     ]
    },
    {
     "name": "stdout",
     "output_type": "stream",
     "text": [
      "\r",
      "Upgrading database; v2 -> v3: : 0it [00:00, ?it/s]"
     ]
    },
    {
     "name": "stdout",
     "output_type": "stream",
     "text": [
      "\n",
      "\r",
      "0it [00:00, ?it/s]"
     ]
    },
    {
     "name": "stdout",
     "output_type": "stream",
     "text": [
      "\r",
      "Upgrading database; v3 -> v4: : 0it [00:00, ?it/s]"
     ]
    },
    {
     "name": "stdout",
     "output_type": "stream",
     "text": [
      "\r",
      "Upgrading database; v3 -> v4: : 0it [00:00, ?it/s]"
     ]
    },
    {
     "name": "stdout",
     "output_type": "stream",
     "text": [
      "\n",
      "\r",
      "  0%|          | 0/1 [00:00<?, ?it/s]"
     ]
    },
    {
     "name": "stdout",
     "output_type": "stream",
     "text": [
      "\r",
      "Upgrading database; v4 -> v5:   0%|          | 0/1 [00:00<?, ?it/s]"
     ]
    },
    {
     "name": "stdout",
     "output_type": "stream",
     "text": [
      "\r",
      "Upgrading database; v4 -> v5: 100%|██████████| 1/1 [00:00<00:00, 491.14it/s]"
     ]
    },
    {
     "name": "stdout",
     "output_type": "stream",
     "text": [
      "\n",
      "\r",
      "0it [00:00, ?it/s]"
     ]
    },
    {
     "name": "stdout",
     "output_type": "stream",
     "text": [
      "\r",
      "Upgrading database; v5 -> v6: : 0it [00:00, ?it/s]"
     ]
    },
    {
     "name": "stdout",
     "output_type": "stream",
     "text": [
      "\r",
      "Upgrading database; v5 -> v6: : 0it [00:00, ?it/s]"
     ]
    },
    {
     "name": "stdout",
     "output_type": "stream",
     "text": [
      "\n",
      "\r",
      "  0%|          | 0/1 [00:00<?, ?it/s]"
     ]
    },
    {
     "name": "stdout",
     "output_type": "stream",
     "text": [
      "\r",
      "Upgrading database; v6 -> v7:   0%|          | 0/1 [00:00<?, ?it/s]"
     ]
    },
    {
     "name": "stdout",
     "output_type": "stream",
     "text": [
      "\r",
      "Upgrading database; v6 -> v7: 100%|██████████| 1/1 [00:00<00:00, 431.02it/s]"
     ]
    },
    {
     "name": "stdout",
     "output_type": "stream",
     "text": [
      "\n",
      "\r",
      "  0%|          | 0/1 [00:00<?, ?it/s]"
     ]
    },
    {
     "name": "stdout",
     "output_type": "stream",
     "text": [
      "\r",
      "Upgrading database; v7 -> v8:   0%|          | 0/1 [00:00<?, ?it/s]"
     ]
    },
    {
     "name": "stdout",
     "output_type": "stream",
     "text": [
      "\r",
      "Upgrading database; v7 -> v8: 100%|██████████| 1/1 [00:00<00:00, 1015.32it/s]"
     ]
    },
    {
     "name": "stdout",
     "output_type": "stream",
     "text": [
      "\n",
      "\r",
      "  0%|          | 0/1 [00:00<?, ?it/s]"
     ]
    },
    {
     "name": "stdout",
     "output_type": "stream",
     "text": [
      "\r",
      "Upgrading database; v8 -> v9:   0%|          | 0/1 [00:00<?, ?it/s]"
     ]
    },
    {
     "name": "stdout",
     "output_type": "stream",
     "text": [
      "\r",
      "Upgrading database; v8 -> v9: 100%|██████████| 1/1 [00:00<00:00, 912.60it/s]"
     ]
    },
    {
     "name": "stdout",
     "output_type": "stream",
     "text": [
      "\n"
     ]
    }
   ],
   "source": [
    "initialise_database()\n",
    "exp = load_or_create_experiment(experiment_name='tutorial_exp', sample_name=\"no sample\")"
   ]
  },
  {
   "cell_type": "markdown",
   "metadata": {},
   "source": [
    "Here, we define a simple function to benchmark the time it takes to insert n points with either numeric or array data type.\n",
    "We will compare both the time used to call ``add_result`` and the time used for the full measurement."
   ]
  },
  {
   "cell_type": "code",
   "execution_count": 4,
   "metadata": {
    "execution": {
     "iopub.execute_input": "2020-10-30T09:32:53.681607Z",
     "iopub.status.busy": "2020-10-30T09:32:53.679888Z",
     "iopub.status.idle": "2020-10-30T09:32:53.683637Z",
     "shell.execute_reply": "2020-10-30T09:32:53.684099Z"
    }
   },
   "outputs": [],
   "source": [
    "def insert_data(paramtype, npoints, nreps=1):\n",
    "\n",
    "    meas = Measurement(exp=exp)\n",
    "\n",
    "    x1 = ManualParameter('x1')\n",
    "    x2 = ManualParameter('x2')\n",
    "    x3 = ManualParameter('x3')\n",
    "    y1 = ManualParameter('y1')\n",
    "    y2 = ManualParameter('y2')\n",
    "\n",
    "    meas.register_parameter(x1, paramtype=paramtype)\n",
    "    meas.register_parameter(x2, paramtype=paramtype)\n",
    "    meas.register_parameter(x3, paramtype=paramtype)\n",
    "    meas.register_parameter(y1, setpoints=[x1, x2, x3],\n",
    "                            paramtype=paramtype)\n",
    "    meas.register_parameter(y2, setpoints=[x1, x2, x3],\n",
    "                            paramtype=paramtype)\n",
    "    start = time.perf_counter()\n",
    "    with meas.run() as datasaver:\n",
    "        start_adding = time.perf_counter()\n",
    "        for i in range(nreps):\n",
    "            datasaver.add_result((x1, np.random.rand(npoints)),\n",
    "                                 (x2, np.random.rand(npoints)),\n",
    "                                 (x3, np.random.rand(npoints)),\n",
    "                                 (y1, np.random.rand(npoints)),\n",
    "                                 (y2, np.random.rand(npoints)))\n",
    "        stop_adding = time.perf_counter()\n",
    "        run_id = datasaver.run_id\n",
    "    stop = time.perf_counter()\n",
    "    tot_time = stop - start\n",
    "    add_time = stop_adding - start_adding\n",
    "    return tot_time, add_time, run_id"
   ]
  },
  {
   "cell_type": "markdown",
   "metadata": {},
   "source": [
    "## Comparison between numeric/array data and binary blob"
   ]
  },
  {
   "cell_type": "markdown",
   "metadata": {},
   "source": [
    "### Case1: Short experiment time"
   ]
  },
  {
   "cell_type": "code",
   "execution_count": 5,
   "metadata": {
    "execution": {
     "iopub.execute_input": "2020-10-30T09:32:53.690414Z",
     "iopub.status.busy": "2020-10-30T09:32:53.689149Z",
     "iopub.status.idle": "2020-10-30T09:32:54.579009Z",
     "shell.execute_reply": "2020-10-30T09:32:54.579523Z"
    }
   },
   "outputs": [
    {
     "name": "stdout",
     "output_type": "stream",
     "text": [
      "Starting experimental run with id: 1. \n",
      "Starting experimental run with id: 2. \n",
      "Starting experimental run with id: 3. \n",
      "Starting experimental run with id: 4. \n",
      "Starting experimental run with id: 5. \n"
     ]
    },
    {
     "name": "stdout",
     "output_type": "stream",
     "text": [
      "Starting experimental run with id: 6. \n"
     ]
    },
    {
     "name": "stdout",
     "output_type": "stream",
     "text": [
      "Starting experimental run with id: 7. \n"
     ]
    },
    {
     "name": "stdout",
     "output_type": "stream",
     "text": [
      "Starting experimental run with id: 8. \n",
      "Starting experimental run with id: 9. \n"
     ]
    },
    {
     "name": "stdout",
     "output_type": "stream",
     "text": [
      "Starting experimental run with id: 10. \n",
      "Starting experimental run with id: 11. \n"
     ]
    },
    {
     "name": "stdout",
     "output_type": "stream",
     "text": [
      "Starting experimental run with id: 12. \n"
     ]
    },
    {
     "name": "stdout",
     "output_type": "stream",
     "text": [
      "Starting experimental run with id: 13. \n"
     ]
    },
    {
     "name": "stdout",
     "output_type": "stream",
     "text": [
      "Starting experimental run with id: 14. \n"
     ]
    }
   ],
   "source": [
    "sizes = [1,500,1000,2000,3000,4000,5000]\n",
    "t_numeric = []\n",
    "t_numeric_add = []\n",
    "t_array = []\n",
    "t_array_add = []\n",
    "for size in sizes:\n",
    "    tn, tna, run_id_n =  insert_data('numeric', size)\n",
    "    t_numeric.append(tn)\n",
    "    t_numeric_add.append(tna)\n",
    "\n",
    "    ta, taa, run_id_a =  insert_data('array', size)\n",
    "    t_array.append(ta)\n",
    "    t_array_add.append(taa)"
   ]
  },
  {
   "cell_type": "code",
   "execution_count": 6,
   "metadata": {
    "execution": {
     "iopub.execute_input": "2020-10-30T09:32:54.584703Z",
     "iopub.status.busy": "2020-10-30T09:32:54.584066Z",
     "iopub.status.idle": "2020-10-30T09:32:54.835800Z",
     "shell.execute_reply": "2020-10-30T09:32:54.836589Z"
    }
   },
   "outputs": [
    {
     "data": {
      "image/png": "[encoded data removed]",
      "text/plain": [
       "<Figure size 432x288 with 1 Axes>"
      ]
     },
     "metadata": {
      "needs_background": "light"
     },
     "output_type": "display_data"
    }
   ],
   "source": [
    "fig, ax = plt.subplots(1,1)\n",
    "ax.plot(sizes, t_numeric, 'o-', label='Inserting row-by-row')\n",
    "ax.plot(sizes, t_numeric_add, 'o-', label='Inserting row-by-row: add_result only')\n",
    "ax.plot(sizes, t_array, 'd-', label='Inserting as binary blob')\n",
    "ax.plot(sizes, t_array_add, 'd-', label='Inserting as binary blob: add_result only')\n",
    "ax.legend()\n",
    "ax.set_xlabel('Array length')\n",
    "ax.set_ylabel('Time (s)')\n",
    "fig.tight_layout()"
   ]
  },
  {
   "cell_type": "markdown",
   "metadata": {},
   "source": [
    "As shown in the latter figure, the time to setup and and close the experiment is approximately 0.4 sec. In case of small array sizes, the difference between inserting values of data as arrays and inserting them row-by-row is relatively unimportant. At larger array sizes, i.e. above 10000 points, the cost of writing data as individual datapoints starts to become important.\n"
   ]
  },
  {
   "cell_type": "markdown",
   "metadata": {},
   "source": [
    "### Case2: Long experiment time "
   ]
  },
  {
   "cell_type": "code",
   "execution_count": 7,
   "metadata": {
    "execution": {
     "iopub.execute_input": "2020-10-30T09:32:54.843924Z",
     "iopub.status.busy": "2020-10-30T09:32:54.843305Z",
     "iopub.status.idle": "2020-10-30T09:33:57.220562Z",
     "shell.execute_reply": "2020-10-30T09:33:57.221061Z"
    }
   },
   "outputs": [
    {
     "name": "stdout",
     "output_type": "stream",
     "text": [
      "Starting experimental run with id: 15. \n",
      "Starting experimental run with id: 16. \n",
      "Starting experimental run with id: 17. \n"
     ]
    },
    {
     "name": "stdout",
     "output_type": "stream",
     "text": [
      "Starting experimental run with id: 18. \n",
      "Starting experimental run with id: 19. \n"
     ]
    },
    {
     "name": "stdout",
     "output_type": "stream",
     "text": [
      "Starting experimental run with id: 20. \n"
     ]
    },
    {
     "name": "stdout",
     "output_type": "stream",
     "text": [
      "Starting experimental run with id: 21. \n"
     ]
    },
    {
     "name": "stdout",
     "output_type": "stream",
     "text": [
      "Starting experimental run with id: 22. \n"
     ]
    },
    {
     "name": "stdout",
     "output_type": "stream",
     "text": [
      "Starting experimental run with id: 23. \n"
     ]
    },
    {
     "name": "stdout",
     "output_type": "stream",
     "text": [
      "Starting experimental run with id: 24. \n"
     ]
    },
    {
     "name": "stdout",
     "output_type": "stream",
     "text": [
      "Starting experimental run with id: 25. \n"
     ]
    },
    {
     "name": "stdout",
     "output_type": "stream",
     "text": [
      "Starting experimental run with id: 26. \n"
     ]
    },
    {
     "name": "stdout",
     "output_type": "stream",
     "text": [
      "Starting experimental run with id: 27. \n"
     ]
    },
    {
     "name": "stdout",
     "output_type": "stream",
     "text": [
      "Starting experimental run with id: 28. \n"
     ]
    }
   ],
   "source": [
    "sizes = [1,500,1000,2000,3000,4000,5000]\n",
    "nreps = 100\n",
    "t_numeric = []\n",
    "t_numeric_add = []\n",
    "t_numeric_run_ids = []\n",
    "t_array = []\n",
    "t_array_add = []\n",
    "t_array_run_ids = []\n",
    "for size in sizes:\n",
    "    tn, tna, run_id_n =  insert_data('numeric', size, nreps=nreps)\n",
    "    t_numeric.append(tn)\n",
    "    t_numeric_add.append(tna)\n",
    "    t_numeric_run_ids.append(run_id_n)\n",
    "\n",
    "    ta, taa, run_id_a =  insert_data('array', size, nreps=nreps)\n",
    "    t_array.append(ta)\n",
    "    t_array_add.append(taa)\n",
    "    t_array_run_ids.append(run_id_a)"
   ]
  },
  {
   "cell_type": "code",
   "execution_count": 8,
   "metadata": {
    "execution": {
     "iopub.execute_input": "2020-10-30T09:33:57.244648Z",
     "iopub.status.busy": "2020-10-30T09:33:57.241963Z",
     "iopub.status.idle": "2020-10-30T09:33:57.466596Z",
     "shell.execute_reply": "2020-10-30T09:33:57.466075Z"
    },
    "scrolled": true
   },
   "outputs": [
    {
     "data": {
      "image/png": "[encoded data removed]",
      "text/plain": [
       "<Figure size 432x288 with 1 Axes>"
      ]
     },
     "metadata": {
      "needs_background": "light"
     },
     "output_type": "display_data"
    }
   ],
   "source": [
    "fig, ax = plt.subplots(1,1)\n",
    "ax.plot(sizes, t_numeric, 'o-', label='Inserting row-by-row')\n",
    "ax.plot(sizes, t_numeric_add, 'o-', label='Inserting row-by-row: add_result only')\n",
    "ax.plot(sizes, t_array, 'd-', label='Inserting as binary blob')\n",
    "ax.plot(sizes, t_array_add, 'd-', label='Inserting as binary blob: add_result only')\n",
    "ax.legend()\n",
    "ax.set_xlabel('Array length')\n",
    "ax.set_ylabel('Time (s)')\n",
    "fig.tight_layout()"
   ]
  },
  {
   "cell_type": "markdown",
   "metadata": {},
   "source": [
    "However, as we increase the length of the experiment, as seen here by repeating the insertion 100 times, we see a big difference between inserting values of the data row-by-row and inserting it as a binary blob."
   ]
  },
  {
   "cell_type": "markdown",
   "metadata": {},
   "source": [
    "## Loading the data "
   ]
  },
  {
   "cell_type": "code",
   "execution_count": 9,
   "metadata": {
    "execution": {
     "iopub.execute_input": "2020-10-30T09:33:57.471172Z",
     "iopub.status.busy": "2020-10-30T09:33:57.469963Z",
     "iopub.status.idle": "2020-10-30T09:33:57.473447Z",
     "shell.execute_reply": "2020-10-30T09:33:57.472953Z"
    }
   },
   "outputs": [],
   "source": [
    "from qcodes.dataset.data_set import load_by_id\n",
    "from qcodes.dataset.data_export import get_data_by_id"
   ]
  },
  {
   "cell_type": "markdown",
   "metadata": {},
   "source": [
    "As usual you can load the data by using the ``load_by_id`` function but you will notice that the different storage methods\n",
    "are reflected in shape of the data as it is retrieved. "
   ]
  },
  {
   "cell_type": "code",
   "execution_count": 10,
   "metadata": {
    "execution": {
     "iopub.execute_input": "2020-10-30T09:33:57.478241Z",
     "iopub.status.busy": "2020-10-30T09:33:57.476947Z",
     "iopub.status.idle": "2020-10-30T09:33:57.478902Z",
     "shell.execute_reply": "2020-10-30T09:33:57.479506Z"
    }
   },
   "outputs": [],
   "source": [
    "run_id_n = t_numeric_run_ids[0]\n",
    "run_id_a = t_array_run_ids[0]"
   ]
  },
  {
   "cell_type": "code",
   "execution_count": 11,
   "metadata": {
    "execution": {
     "iopub.execute_input": "2020-10-30T09:33:57.485412Z",
     "iopub.status.busy": "2020-10-30T09:33:57.484338Z",
     "iopub.status.idle": "2020-10-30T09:33:57.496410Z",
     "shell.execute_reply": "2020-10-30T09:33:57.496928Z"
    },
    "scrolled": true
   },
   "outputs": [
    {
     "data": {
      "text/plain": [
       "{'x1': {'x1': array([0.28184085, 0.28184085, 0.63684832, 0.63684832, 0.06582406,\n",
       "         0.06582406, 0.27902101, 0.27902101, 0.00536721, 0.00536721,\n",
       "         0.05910154, 0.05910154, 0.0364032 , 0.0364032 , 0.72487949,\n",
       "         0.72487949, 0.35132913, 0.35132913, 0.07628889, 0.07628889,\n",
       "         0.95871794, 0.95871794, 0.80020139, 0.80020139, 0.07425348,\n",
       "         0.07425348, 0.54952329, 0.54952329, 0.33746596, 0.33746596,\n",
       "         0.07609506, 0.07609506, 0.16086244, 0.16086244, 0.93195588,\n",
       "         0.93195588, 0.15197849, 0.15197849, 0.79169571, 0.79169571,\n",
       "         0.9691091 , 0.9691091 , 0.11688764, 0.11688764, 0.07741257,\n",
       "         0.07741257, 0.92007646, 0.92007646, 0.025182  , 0.025182  ,\n",
       "         0.92653635, 0.92653635, 0.07642497, 0.07642497, 0.95379972,\n",
       "         0.95379972, 0.7003129 , 0.7003129 , 0.18846674, 0.18846674,\n",
       "         0.73712079, 0.73712079, 0.25943371, 0.25943371, 0.61627806,\n",
       "         0.61627806, 0.76297288, 0.76297288, 0.9765052 , 0.9765052 ,\n",
       "         0.01777408, 0.01777408, 0.16925407, 0.16925407, 0.00597267,\n",
       "         0.00597267, 0.3139037 , 0.3139037 , 0.14623419, 0.14623419,\n",
       "         0.42469238, 0.42469238, 0.05903587, 0.05903587, 0.37197364,\n",
       "         0.37197364, 0.01483407, 0.01483407, 0.34974726, 0.34974726,\n",
       "         0.3407482 , 0.3407482 , 0.38071577, 0.38071577, 0.12893246,\n",
       "         0.12893246, 0.22832344, 0.22832344, 0.71372931, 0.71372931,\n",
       "         0.17413785, 0.17413785, 0.90491942, 0.90491942, 0.79186329,\n",
       "         0.79186329, 0.67540072, 0.67540072, 0.95242988, 0.95242988,\n",
       "         0.9537285 , 0.9537285 , 0.18288051, 0.18288051, 0.72169106,\n",
       "         0.72169106, 0.94288343, 0.94288343, 0.3691288 , 0.3691288 ,\n",
       "         0.53438439, 0.53438439, 0.17462654, 0.17462654, 0.11983161,\n",
       "         0.11983161, 0.10002383, 0.10002383, 0.35061356, 0.35061356,\n",
       "         0.72595788, 0.72595788, 0.66010116, 0.66010116, 0.17845519,\n",
       "         0.17845519, 0.80069253, 0.80069253, 0.10931683, 0.10931683,\n",
       "         0.64181042, 0.64181042, 0.71121612, 0.71121612, 0.62368635,\n",
       "         0.62368635, 0.68891105, 0.68891105, 0.81658512, 0.81658512,\n",
       "         0.13728139, 0.13728139, 0.04141664, 0.04141664, 0.26673711,\n",
       "         0.26673711, 0.21452107, 0.21452107, 0.79129769, 0.79129769,\n",
       "         0.62494629, 0.62494629, 0.02336471, 0.02336471, 0.89577165,\n",
       "         0.89577165, 0.71783952, 0.71783952, 0.29579328, 0.29579328,\n",
       "         0.63331303, 0.63331303, 0.33232955, 0.33232955, 0.75849143,\n",
       "         0.75849143, 0.23717498, 0.23717498, 0.74187569, 0.74187569,\n",
       "         0.32244138, 0.32244138, 0.327846  , 0.327846  , 0.17056415,\n",
       "         0.17056415, 0.68764277, 0.68764277, 0.57957412, 0.57957412,\n",
       "         0.77275542, 0.77275542, 0.75457257, 0.75457257, 0.4847239 ,\n",
       "         0.4847239 , 0.28934329, 0.28934329, 0.50537793, 0.50537793])}}"
      ]
     },
     "execution_count": 1,
     "metadata": {},
     "output_type": "execute_result"
    }
   ],
   "source": [
    "ds = load_by_id(run_id_n)\n",
    "ds.get_parameter_data('x1')"
   ]
  },
  {
   "cell_type": "markdown",
   "metadata": {},
   "source": [
    "And a dataset stored as binary arrays"
   ]
  },
  {
   "cell_type": "code",
   "execution_count": 12,
   "metadata": {
    "execution": {
     "iopub.execute_input": "2020-10-30T09:33:57.501104Z",
     "iopub.status.busy": "2020-10-30T09:33:57.500354Z",
     "iopub.status.idle": "2020-10-30T09:33:57.566813Z",
     "shell.execute_reply": "2020-10-30T09:33:57.567331Z"
    },
    "scrolled": true
   },
   "outputs": [
    {
     "data": {
      "text/plain": [
       "{'x1': {'x1': array([[0.03972673],\n",
       "         [0.03972673],\n",
       "         [0.81607421],\n",
       "         [0.81607421],\n",
       "         [0.61287342],\n",
       "         [0.61287342],\n",
       "         [0.42700795],\n",
       "         [0.42700795],\n",
       "         [0.54499963],\n",
       "         [0.54499963],\n",
       "         [0.07421535],\n",
       "         [0.07421535],\n",
       "         [0.97859991],\n",
       "         [0.97859991],\n",
       "         [0.52390344],\n",
       "         [0.52390344],\n",
       "         [0.22181892],\n",
       "         [0.22181892],\n",
       "         [0.57720614],\n",
       "         [0.57720614],\n",
       "         [0.4066394 ],\n",
       "         [0.4066394 ],\n",
       "         [0.65743004],\n",
       "         [0.65743004],\n",
       "         [0.77815151],\n",
       "         [0.77815151],\n",
       "         [0.96265391],\n",
       "         [0.96265391],\n",
       "         [0.70565431],\n",
       "         [0.70565431],\n",
       "         [0.91627732],\n",
       "         [0.91627732],\n",
       "         [0.05249907],\n",
       "         [0.05249907],\n",
       "         [0.45357439],\n",
       "         [0.45357439],\n",
       "         [0.13269645],\n",
       "         [0.13269645],\n",
       "         [0.46687684],\n",
       "         [0.46687684],\n",
       "         [0.76121127],\n",
       "         [0.76121127],\n",
       "         [0.11456952],\n",
       "         [0.11456952],\n",
       "         [0.48080072],\n",
       "         [0.48080072],\n",
       "         [0.68690679],\n",
       "         [0.68690679],\n",
       "         [0.14685954],\n",
       "         [0.14685954],\n",
       "         [0.54981246],\n",
       "         [0.54981246],\n",
       "         [0.38355677],\n",
       "         [0.38355677],\n",
       "         [0.11598095],\n",
       "         [0.11598095],\n",
       "         [0.24060091],\n",
       "         [0.24060091],\n",
       "         [0.6529814 ],\n",
       "         [0.6529814 ],\n",
       "         [0.3063027 ],\n",
       "         [0.3063027 ],\n",
       "         [0.85749055],\n",
       "         [0.85749055],\n",
       "         [0.23532056],\n",
       "         [0.23532056],\n",
       "         [0.89299576],\n",
       "         [0.89299576],\n",
       "         [0.68784078],\n",
       "         [0.68784078],\n",
       "         [0.96317669],\n",
       "         [0.96317669],\n",
       "         [0.3949304 ],\n",
       "         [0.3949304 ],\n",
       "         [0.13145521],\n",
       "         [0.13145521],\n",
       "         [0.19431689],\n",
       "         [0.19431689],\n",
       "         [0.38790364],\n",
       "         [0.38790364],\n",
       "         [0.72267216],\n",
       "         [0.72267216],\n",
       "         [0.50824106],\n",
       "         [0.50824106],\n",
       "         [0.91539806],\n",
       "         [0.91539806],\n",
       "         [0.85497132],\n",
       "         [0.85497132],\n",
       "         [0.01307554],\n",
       "         [0.01307554],\n",
       "         [0.20314982],\n",
       "         [0.20314982],\n",
       "         [0.45813598],\n",
       "         [0.45813598],\n",
       "         [0.11781166],\n",
       "         [0.11781166],\n",
       "         [0.68605081],\n",
       "         [0.68605081],\n",
       "         [0.75012775],\n",
       "         [0.75012775],\n",
       "         [0.94549932],\n",
       "         [0.94549932],\n",
       "         [0.4723482 ],\n",
       "         [0.4723482 ],\n",
       "         [0.49307373],\n",
       "         [0.49307373],\n",
       "         [0.07040841],\n",
       "         [0.07040841],\n",
       "         [0.21528377],\n",
       "         [0.21528377],\n",
       "         [0.5555024 ],\n",
       "         [0.5555024 ],\n",
       "         [0.94344033],\n",
       "         [0.94344033],\n",
       "         [0.24982522],\n",
       "         [0.24982522],\n",
       "         [0.81576713],\n",
       "         [0.81576713],\n",
       "         [0.39510863],\n",
       "         [0.39510863],\n",
       "         [0.1032548 ],\n",
       "         [0.1032548 ],\n",
       "         [0.91622065],\n",
       "         [0.91622065],\n",
       "         [0.72253765],\n",
       "         [0.72253765],\n",
       "         [0.68297436],\n",
       "         [0.68297436],\n",
       "         [0.55530947],\n",
       "         [0.55530947],\n",
       "         [0.40609683],\n",
       "         [0.40609683],\n",
       "         [0.50747284],\n",
       "         [0.50747284],\n",
       "         [0.84357851],\n",
       "         [0.84357851],\n",
       "         [0.8221101 ],\n",
       "         [0.8221101 ],\n",
       "         [0.59805265],\n",
       "         [0.59805265],\n",
       "         [0.79204031],\n",
       "         [0.79204031],\n",
       "         [0.90603423],\n",
       "         [0.90603423],\n",
       "         [0.13134215],\n",
       "         [0.13134215],\n",
       "         [0.67732302],\n",
       "         [0.67732302],\n",
       "         [0.61328815],\n",
       "         [0.61328815],\n",
       "         [0.84353563],\n",
       "         [0.84353563],\n",
       "         [0.49490766],\n",
       "         [0.49490766],\n",
       "         [0.37734322],\n",
       "         [0.37734322],\n",
       "         [0.66194794],\n",
       "         [0.66194794],\n",
       "         [0.08862413],\n",
       "         [0.08862413],\n",
       "         [0.79629245],\n",
       "         [0.79629245],\n",
       "         [0.67065378],\n",
       "         [0.67065378],\n",
       "         [0.97414972],\n",
       "         [0.97414972],\n",
       "         [0.91557433],\n",
       "         [0.91557433],\n",
       "         [0.49668523],\n",
       "         [0.49668523],\n",
       "         [0.87766236],\n",
       "         [0.87766236],\n",
       "         [0.50572804],\n",
       "         [0.50572804],\n",
       "         [0.02882326],\n",
       "         [0.02882326],\n",
       "         [0.71218261],\n",
       "         [0.71218261],\n",
       "         [0.24433168],\n",
       "         [0.24433168],\n",
       "         [0.07861958],\n",
       "         [0.07861958],\n",
       "         [0.98978877],\n",
       "         [0.98978877],\n",
       "         [0.12456032],\n",
       "         [0.12456032],\n",
       "         [0.51306489],\n",
       "         [0.51306489],\n",
       "         [0.51919669],\n",
       "         [0.51919669],\n",
       "         [0.7236505 ],\n",
       "         [0.7236505 ],\n",
       "         [0.23884619],\n",
       "         [0.23884619],\n",
       "         [0.11079388],\n",
       "         [0.11079388],\n",
       "         [0.96776743],\n",
       "         [0.96776743],\n",
       "         [0.43618905],\n",
       "         [0.43618905]])}}"
      ]
     },
     "execution_count": 1,
     "metadata": {},
     "output_type": "execute_result"
    }
   ],
   "source": [
    "ds = load_by_id(run_id_a)\n",
    "ds.get_parameter_data('x1')"
   ]
  },
  {
   "cell_type": "code",
   "execution_count": null,
   "metadata": {},
   "outputs": [],
   "source": []
  }
 ],
 "metadata": {
  "kernelspec": {
   "display_name": "Python 3",
   "language": "python",
   "name": "python3"
  },
  "language_info": {
   "codemirror_mode": {
    "name": "ipython",
    "version": 3
   },
   "file_extension": ".py",
   "mimetype": "text/x-python",
   "name": "python",
   "nbconvert_exporter": "python",
   "pygments_lexer": "ipython3",
   "version": "3.7.9"
  },
  "nbsphinx": {
   "timeout": 600
  },
  "toc": {
   "base_numbering": 1,
   "nav_menu": {},
   "number_sections": true,
   "sideBar": true,
   "skip_h1_title": false,
   "title_cell": "Table of Contents",
   "title_sidebar": "Contents",
   "toc_cell": false,
   "toc_position": {},
   "toc_section_display": true,
   "toc_window_display": false
  },
  "varInspector": {
   "cols": {
    "lenName": 16,
    "lenType": 16,
    "lenVar": 40
   },
   "kernels_config": {
    "python": {
     "delete_cmd_postfix": "",
     "delete_cmd_prefix": "del ",
     "library": "var_list.py",
     "varRefreshCmd": "print(var_dic_list())"
    },
    "r": {
     "delete_cmd_postfix": ") ",
     "delete_cmd_prefix": "rm(",
     "library": "var_list.r",
     "varRefreshCmd": "cat(var_dic_list()) "
    }
   },
   "types_to_exclude": [
    "module",
    "function",
    "builtin_function_or_method",
    "instance",
    "_Feature"
   ],
   "window_display": false
  }
 },
 "nbformat": 4,
 "nbformat_minor": 2
}
