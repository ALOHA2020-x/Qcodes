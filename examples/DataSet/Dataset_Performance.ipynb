{
 "cells": [
  {
   "cell_type": "markdown",
   "metadata": {},
   "source": [
    "# DataSet Performance\n",
    "\n",
    "This notebook shows the trade-off between inserting data into a database row-by-row and as binary blobs. Inserting the data row-by-row means that we have direct access to all the data and may perform queries directly on the values of the data. On the other hand, as we shall see, this is much slower than inserting the data directly as binary blobs."
   ]
  },
  {
   "cell_type": "markdown",
   "metadata": {},
   "source": [
    "First, we choose a new location for the database to ensure that we don't add a bunch of benchmarking data to the default one."
   ]
  },
  {
   "cell_type": "code",
   "execution_count": 1,
   "metadata": {},
   "outputs": [
    {
     "name": "stdout",
     "output_type": "stream",
     "text": [
      "Logging hadn't been started.\n",
      "Activating auto-logging. Current session state plus future input saved.\n",
      "Filename       : /home/vsts/.qcodes/logs/command_history.log\n",
      "Mode           : append\n",
      "Output logging : True\n",
      "Raw input log  : False\n",
      "Timestamping   : True\n",
      "State          : active\n"
     ]
    },
    {
     "name": "stdout",
     "output_type": "stream",
     "text": [
      "Qcodes Logfile : /home/vsts/.qcodes/logs/200407-19154-qcodes.log\n"
     ]
    }
   ],
   "source": [
    "import os\n",
    "cwd = os.getcwd()\n",
    "import qcodes as qc\n",
    "qc.config[\"core\"][\"db_location\"] = os.path.join(cwd, 'testing.db')\n"
   ]
  },
  {
   "cell_type": "code",
   "execution_count": 2,
   "metadata": {},
   "outputs": [],
   "source": [
    "%matplotlib inline\n",
    "import time\n",
    "import matplotlib.pyplot as plt\n",
    "import numpy as np\n",
    "\n",
    "import qcodes as qc\n",
    "from qcodes.instrument.parameter import ManualParameter\n",
    "from qcodes.dataset.experiment_container import (Experiment,\n",
    "                                                 load_last_experiment,\n",
    "                                                 new_experiment)\n",
    "from qcodes.dataset.sqlite.database import initialise_database\n",
    "from qcodes import load_or_create_experiment\n",
    "from qcodes.dataset.measurements import Measurement"
   ]
  },
  {
   "cell_type": "code",
   "execution_count": 3,
   "metadata": {},
   "outputs": [
    {
     "name": "stdout",
     "output_type": "stream",
     "text": [
      "\r",
      "0it [00:00, ?it/s]"
     ]
    },
    {
     "name": "stdout",
     "output_type": "stream",
     "text": [
      "\r",
      "Upgrading database; v0 -> v1: : 0it [00:00, ?it/s]"
     ]
    },
    {
     "name": "stdout",
     "output_type": "stream",
     "text": [
      "\r",
      "Upgrading database; v0 -> v1: : 0it [00:00, ?it/s]"
     ]
    },
    {
     "name": "stdout",
     "output_type": "stream",
     "text": [
      "\n",
      "\r",
      "  0%|          | 0/1 [00:00<?, ?it/s]"
     ]
    },
    {
     "name": "stdout",
     "output_type": "stream",
     "text": [
      "\r",
      "Upgrading database; v1 -> v2:   0%|          | 0/1 [00:00<?, ?it/s]"
     ]
    },
    {
     "name": "stdout",
     "output_type": "stream",
     "text": [
      "\r",
      "Upgrading database; v1 -> v2: 100%|██████████| 1/1 [00:00<00:00, 1014.10it/s]"
     ]
    },
    {
     "name": "stdout",
     "output_type": "stream",
     "text": [
      "\n",
      "\r",
      "0it [00:00, ?it/s]"
     ]
    },
    {
     "name": "stdout",
     "output_type": "stream",
     "text": [
      "\r",
      "Upgrading database; v2 -> v3: : 0it [00:00, ?it/s]"
     ]
    },
    {
     "name": "stdout",
     "output_type": "stream",
     "text": [
      "\r",
      "Upgrading database; v2 -> v3: : 0it [00:00, ?it/s]"
     ]
    },
    {
     "name": "stdout",
     "output_type": "stream",
     "text": [
      "\n",
      "\r",
      "0it [00:00, ?it/s]"
     ]
    },
    {
     "name": "stdout",
     "output_type": "stream",
     "text": [
      "\r",
      "Upgrading database; v3 -> v4: : 0it [00:00, ?it/s]"
     ]
    },
    {
     "name": "stdout",
     "output_type": "stream",
     "text": [
      "\r",
      "Upgrading database; v3 -> v4: : 0it [00:00, ?it/s]"
     ]
    },
    {
     "name": "stdout",
     "output_type": "stream",
     "text": [
      "\n",
      "\r",
      "  0%|          | 0/1 [00:00<?, ?it/s]"
     ]
    },
    {
     "name": "stdout",
     "output_type": "stream",
     "text": [
      "\r",
      "Upgrading database; v4 -> v5:   0%|          | 0/1 [00:00<?, ?it/s]"
     ]
    },
    {
     "name": "stdout",
     "output_type": "stream",
     "text": [
      "\r",
      "Upgrading database; v4 -> v5: 100%|██████████| 1/1 [00:00<00:00, 948.51it/s]"
     ]
    },
    {
     "name": "stdout",
     "output_type": "stream",
     "text": [
      "\n",
      "\r",
      "0it [00:00, ?it/s]"
     ]
    },
    {
     "name": "stdout",
     "output_type": "stream",
     "text": [
      "\r",
      "Upgrading database; v5 -> v6: : 0it [00:00, ?it/s]"
     ]
    },
    {
     "name": "stdout",
     "output_type": "stream",
     "text": [
      "\r",
      "Upgrading database; v5 -> v6: : 0it [00:00, ?it/s]"
     ]
    },
    {
     "name": "stdout",
     "output_type": "stream",
     "text": [
      "\n",
      "\r",
      "  0%|          | 0/1 [00:00<?, ?it/s]"
     ]
    },
    {
     "name": "stdout",
     "output_type": "stream",
     "text": [
      "\r",
      "Upgrading database; v6 -> v7:   0%|          | 0/1 [00:00<?, ?it/s]"
     ]
    },
    {
     "name": "stdout",
     "output_type": "stream",
     "text": [
      "\r",
      "Upgrading database; v6 -> v7: 100%|██████████| 1/1 [00:00<00:00, 398.47it/s]"
     ]
    },
    {
     "name": "stdout",
     "output_type": "stream",
     "text": [
      "\n",
      "\r",
      "  0%|          | 0/1 [00:00<?, ?it/s]"
     ]
    },
    {
     "name": "stdout",
     "output_type": "stream",
     "text": [
      "\r",
      "Upgrading database; v7 -> v8:   0%|          | 0/1 [00:00<?, ?it/s]"
     ]
    },
    {
     "name": "stdout",
     "output_type": "stream",
     "text": [
      "\r",
      "Upgrading database; v7 -> v8: 100%|██████████| 1/1 [00:00<00:00, 983.42it/s]"
     ]
    },
    {
     "name": "stdout",
     "output_type": "stream",
     "text": [
      "\n",
      "\r",
      "  0%|          | 0/1 [00:00<?, ?it/s]"
     ]
    },
    {
     "name": "stdout",
     "output_type": "stream",
     "text": [
      "\r",
      "Upgrading database; v8 -> v9:   0%|          | 0/1 [00:00<?, ?it/s]"
     ]
    },
    {
     "name": "stdout",
     "output_type": "stream",
     "text": [
      "\r",
      "Upgrading database; v8 -> v9: 100%|██████████| 1/1 [00:00<00:00, 982.04it/s]"
     ]
    },
    {
     "name": "stdout",
     "output_type": "stream",
     "text": [
      "\n"
     ]
    }
   ],
   "source": [
    "initialise_database()\n",
    "exp = load_or_create_experiment(experiment_name='tutorial_exp', sample_name=\"no sample\")"
   ]
  },
  {
   "cell_type": "markdown",
   "metadata": {},
   "source": [
    "Here, we define a simple function to benchmark the time it takes to insert n points with either numeric or array data type.\n",
    "We will compare both the time used to call ``add_result`` and the time used for the full measurement."
   ]
  },
  {
   "cell_type": "code",
   "execution_count": 4,
   "metadata": {},
   "outputs": [],
   "source": [
    "def insert_data(paramtype, npoints, nreps=1):\n",
    "\n",
    "    meas = Measurement(exp=exp)\n",
    "\n",
    "    x1 = ManualParameter('x1')\n",
    "    x2 = ManualParameter('x2')\n",
    "    x3 = ManualParameter('x3')\n",
    "    y1 = ManualParameter('y1')\n",
    "    y2 = ManualParameter('y2')\n",
    "\n",
    "    meas.register_parameter(x1, paramtype=paramtype)\n",
    "    meas.register_parameter(x2, paramtype=paramtype)\n",
    "    meas.register_parameter(x3, paramtype=paramtype)\n",
    "    meas.register_parameter(y1, setpoints=[x1, x2, x3],\n",
    "                            paramtype=paramtype)\n",
    "    meas.register_parameter(y2, setpoints=[x1, x2, x3],\n",
    "                            paramtype=paramtype)\n",
    "    start = time.perf_counter()\n",
    "    with meas.run() as datasaver:\n",
    "        start_adding = time.perf_counter()\n",
    "        for i in range(nreps):\n",
    "            datasaver.add_result((x1, np.random.rand(npoints)),\n",
    "                                 (x2, np.random.rand(npoints)),\n",
    "                                 (x3, np.random.rand(npoints)),\n",
    "                                 (y1, np.random.rand(npoints)),\n",
    "                                 (y2, np.random.rand(npoints)))\n",
    "        stop_adding = time.perf_counter()\n",
    "        run_id = datasaver.run_id\n",
    "    stop = time.perf_counter()\n",
    "    tot_time = stop - start\n",
    "    add_time = stop_adding - start_adding\n",
    "    return tot_time, add_time, run_id"
   ]
  },
  {
   "cell_type": "markdown",
   "metadata": {},
   "source": [
    "## Comparison between numeric/array data and binary blob"
   ]
  },
  {
   "cell_type": "markdown",
   "metadata": {},
   "source": [
    "### Case1: Short experiment time"
   ]
  },
  {
   "cell_type": "code",
   "execution_count": 5,
   "metadata": {},
   "outputs": [
    {
     "name": "stdout",
     "output_type": "stream",
     "text": [
      "Starting experimental run with id: 1. \n",
      "Starting experimental run with id: 2. \n",
      "Starting experimental run with id: 3. \n"
     ]
    },
    {
     "name": "stdout",
     "output_type": "stream",
     "text": [
      "Starting experimental run with id: 4. \n"
     ]
    },
    {
     "name": "stdout",
     "output_type": "stream",
     "text": [
      "Starting experimental run with id: 5. \n"
     ]
    },
    {
     "name": "stdout",
     "output_type": "stream",
     "text": [
      "Starting experimental run with id: 6. \n"
     ]
    },
    {
     "name": "stdout",
     "output_type": "stream",
     "text": [
      "Starting experimental run with id: 7. \n"
     ]
    },
    {
     "name": "stdout",
     "output_type": "stream",
     "text": [
      "Starting experimental run with id: 8. \n",
      "Starting experimental run with id: 9. \n"
     ]
    },
    {
     "name": "stdout",
     "output_type": "stream",
     "text": [
      "Starting experimental run with id: 10. \n",
      "Starting experimental run with id: 11. \n"
     ]
    },
    {
     "name": "stdout",
     "output_type": "stream",
     "text": [
      "Starting experimental run with id: 12. \n"
     ]
    },
    {
     "name": "stdout",
     "output_type": "stream",
     "text": [
      "Starting experimental run with id: 13. \n"
     ]
    },
    {
     "name": "stdout",
     "output_type": "stream",
     "text": [
      "Starting experimental run with id: 14. \n"
     ]
    }
   ],
   "source": [
    "sizes = [1,500,1000,2000,3000,4000,5000]\n",
    "t_numeric = []\n",
    "t_numeric_add = []\n",
    "t_array = []\n",
    "t_array_add = []\n",
    "for size in sizes:\n",
    "    tn, tna, run_id_n =  insert_data('numeric', size)\n",
    "    t_numeric.append(tn)\n",
    "    t_numeric_add.append(tna)\n",
    "\n",
    "    ta, taa, run_id_a =  insert_data('array', size)\n",
    "    t_array.append(ta)\n",
    "    t_array_add.append(taa)"
   ]
  },
  {
   "cell_type": "code",
   "execution_count": 6,
   "metadata": {},
   "outputs": [
    {
     "data": {
      "image/png": "[encoded data removed]",
      "text/plain": [
       "<Figure size 432x288 with 1 Axes>"
      ]
     },
     "metadata": {
      "needs_background": "light"
     },
     "output_type": "display_data"
    }
   ],
   "source": [
    "fig, ax = plt.subplots(1,1)\n",
    "ax.plot(sizes, t_numeric, 'o-', label='Inserting row-by-row')\n",
    "ax.plot(sizes, t_numeric_add, 'o-', label='Inserting row-by-row: add_result only')\n",
    "ax.plot(sizes, t_array, 'd-', label='Inserting as binary blob')\n",
    "ax.plot(sizes, t_array_add, 'd-', label='Inserting as binary blob: add_result only')\n",
    "ax.legend()\n",
    "ax.set_xlabel('Array length')\n",
    "ax.set_ylabel('Time (s)')\n",
    "fig.tight_layout()"
   ]
  },
  {
   "cell_type": "markdown",
   "metadata": {},
   "source": [
    "As shown in the latter figure, the time to setup and and close the experiment is approximately 0.4 sec. In case of small array sizes, the difference between inserting values of data as arrays and inserting them row-by-row is relatively unimportant. At larger array sizes, i.e. above 10000 points, the cost of writing data as individual datapoints starts to become important.\n"
   ]
  },
  {
   "cell_type": "markdown",
   "metadata": {},
   "source": [
    "### Case2: Long experiment time "
   ]
  },
  {
   "cell_type": "code",
   "execution_count": 7,
   "metadata": {},
   "outputs": [
    {
     "name": "stdout",
     "output_type": "stream",
     "text": [
      "Starting experimental run with id: 15. \n",
      "Starting experimental run with id: 16. \n",
      "Starting experimental run with id: 17. \n"
     ]
    },
    {
     "name": "stdout",
     "output_type": "stream",
     "text": [
      "Starting experimental run with id: 18. \n",
      "Starting experimental run with id: 19. \n"
     ]
    },
    {
     "name": "stdout",
     "output_type": "stream",
     "text": [
      "Starting experimental run with id: 20. \n"
     ]
    },
    {
     "name": "stdout",
     "output_type": "stream",
     "text": [
      "Starting experimental run with id: 21. \n"
     ]
    },
    {
     "name": "stdout",
     "output_type": "stream",
     "text": [
      "Starting experimental run with id: 22. \n"
     ]
    },
    {
     "name": "stdout",
     "output_type": "stream",
     "text": [
      "Starting experimental run with id: 23. \n"
     ]
    },
    {
     "name": "stdout",
     "output_type": "stream",
     "text": [
      "Starting experimental run with id: 24. \n"
     ]
    },
    {
     "name": "stdout",
     "output_type": "stream",
     "text": [
      "Starting experimental run with id: 25. \n"
     ]
    },
    {
     "name": "stdout",
     "output_type": "stream",
     "text": [
      "Starting experimental run with id: 26. \n"
     ]
    },
    {
     "name": "stdout",
     "output_type": "stream",
     "text": [
      "Starting experimental run with id: 27. \n"
     ]
    },
    {
     "name": "stdout",
     "output_type": "stream",
     "text": [
      "Starting experimental run with id: 28. \n"
     ]
    }
   ],
   "source": [
    "sizes = [1,500,1000,2000,3000,4000,5000]\n",
    "nreps = 100\n",
    "t_numeric = []\n",
    "t_numeric_add = []\n",
    "t_numeric_run_ids = []\n",
    "t_array = []\n",
    "t_array_add = []\n",
    "t_array_run_ids = []\n",
    "for size in sizes:\n",
    "    tn, tna, run_id_n =  insert_data('numeric', size, nreps=nreps)\n",
    "    t_numeric.append(tn)\n",
    "    t_numeric_add.append(tna)\n",
    "    t_numeric_run_ids.append(run_id_n)\n",
    "\n",
    "    ta, taa, run_id_a =  insert_data('array', size, nreps=nreps)\n",
    "    t_array.append(ta)\n",
    "    t_array_add.append(taa)\n",
    "    t_array_run_ids.append(run_id_a)"
   ]
  },
  {
   "cell_type": "code",
   "execution_count": 8,
   "metadata": {
    "scrolled": true
   },
   "outputs": [
    {
     "data": {
      "image/png": "[encoded data removed]",
      "text/plain": [
       "<Figure size 432x288 with 1 Axes>"
      ]
     },
     "metadata": {
      "needs_background": "light"
     },
     "output_type": "display_data"
    }
   ],
   "source": [
    "fig, ax = plt.subplots(1,1)\n",
    "ax.plot(sizes, t_numeric, 'o-', label='Inserting row-by-row')\n",
    "ax.plot(sizes, t_numeric_add, 'o-', label='Inserting row-by-row: add_result only')\n",
    "ax.plot(sizes, t_array, 'd-', label='Inserting as binary blob')\n",
    "ax.plot(sizes, t_array_add, 'd-', label='Inserting as binary blob: add_result only')\n",
    "ax.legend()\n",
    "ax.set_xlabel('Array length')\n",
    "ax.set_ylabel('Time (s)')\n",
    "fig.tight_layout()"
   ]
  },
  {
   "cell_type": "markdown",
   "metadata": {},
   "source": [
    "However, as we increase the length of the experiment, as seen here by repeating the insertion 100 times, we see a big difference between inserting values of the data row-by-row and inserting it as a binary blob."
   ]
  },
  {
   "cell_type": "markdown",
   "metadata": {},
   "source": [
    "## Loading the data "
   ]
  },
  {
   "cell_type": "code",
   "execution_count": 9,
   "metadata": {},
   "outputs": [],
   "source": [
    "from qcodes.dataset.data_set import load_by_id\n",
    "from qcodes.dataset.data_export import get_data_by_id"
   ]
  },
  {
   "cell_type": "markdown",
   "metadata": {},
   "source": [
    "As usual you can load the data by using the ``load_by_id`` function but you will notice that the different storage methods\n",
    "are reflected in shape of the data as it is retrieved. "
   ]
  },
  {
   "cell_type": "code",
   "execution_count": 10,
   "metadata": {},
   "outputs": [],
   "source": [
    "run_id_n = t_numeric_run_ids[0]\n",
    "run_id_a = t_array_run_ids[0]"
   ]
  },
  {
   "cell_type": "code",
   "execution_count": 11,
   "metadata": {
    "scrolled": true
   },
   "outputs": [
    {
     "data": {
      "text/plain": [
       "{'x1': {'x1': array([0.73481878, 0.73481878, 0.78936446, 0.78936446, 0.39321456,\n",
       "         0.39321456, 0.27363174, 0.27363174, 0.17205097, 0.17205097,\n",
       "         0.68213811, 0.68213811, 0.51199485, 0.51199485, 0.79433888,\n",
       "         0.79433888, 0.1550646 , 0.1550646 , 0.66845568, 0.66845568,\n",
       "         0.10280851, 0.10280851, 0.62317152, 0.62317152, 0.9453019 ,\n",
       "         0.9453019 , 0.12305148, 0.12305148, 0.56790832, 0.56790832,\n",
       "         0.4896121 , 0.4896121 , 0.09945377, 0.09945377, 0.81461937,\n",
       "         0.81461937, 0.24326315, 0.24326315, 0.06473086, 0.06473086,\n",
       "         0.67655299, 0.67655299, 0.04674095, 0.04674095, 0.01744863,\n",
       "         0.01744863, 0.0127265 , 0.0127265 , 0.57766522, 0.57766522,\n",
       "         0.98401634, 0.98401634, 0.13216264, 0.13216264, 0.95462407,\n",
       "         0.95462407, 0.65500934, 0.65500934, 0.23619932, 0.23619932,\n",
       "         0.75483535, 0.75483535, 0.06428885, 0.06428885, 0.39987189,\n",
       "         0.39987189, 0.18048814, 0.18048814, 0.16177015, 0.16177015,\n",
       "         0.26535213, 0.26535213, 0.36299449, 0.36299449, 0.24252701,\n",
       "         0.24252701, 0.10156222, 0.10156222, 0.82689277, 0.82689277,\n",
       "         0.64976701, 0.64976701, 0.72252789, 0.72252789, 0.83697694,\n",
       "         0.83697694, 0.90283666, 0.90283666, 0.07583196, 0.07583196,\n",
       "         0.01232135, 0.01232135, 0.14734118, 0.14734118, 0.05508565,\n",
       "         0.05508565, 0.29039634, 0.29039634, 0.96908891, 0.96908891,\n",
       "         0.98354102, 0.98354102, 0.02740673, 0.02740673, 0.5951769 ,\n",
       "         0.5951769 , 0.80058844, 0.80058844, 0.06922921, 0.06922921,\n",
       "         0.43187844, 0.43187844, 0.68229206, 0.68229206, 0.01048531,\n",
       "         0.01048531, 0.40347228, 0.40347228, 0.33167819, 0.33167819,\n",
       "         0.61679726, 0.61679726, 0.33262341, 0.33262341, 0.12367339,\n",
       "         0.12367339, 0.42542524, 0.42542524, 0.80982288, 0.80982288,\n",
       "         0.31252425, 0.31252425, 0.53873131, 0.53873131, 0.23059708,\n",
       "         0.23059708, 0.86912452, 0.86912452, 0.27693669, 0.27693669,\n",
       "         0.84597887, 0.84597887, 0.14710746, 0.14710746, 0.06289703,\n",
       "         0.06289703, 0.30787241, 0.30787241, 0.4205419 , 0.4205419 ,\n",
       "         0.53609425, 0.53609425, 0.84685163, 0.84685163, 0.0496398 ,\n",
       "         0.0496398 , 0.28343943, 0.28343943, 0.29621059, 0.29621059,\n",
       "         0.73720317, 0.73720317, 0.37724176, 0.37724176, 0.81318876,\n",
       "         0.81318876, 0.78298462, 0.78298462, 0.85357442, 0.85357442,\n",
       "         0.88892096, 0.88892096, 0.66967332, 0.66967332, 0.27427061,\n",
       "         0.27427061, 0.10593536, 0.10593536, 0.68752248, 0.68752248,\n",
       "         0.51416584, 0.51416584, 0.9317715 , 0.9317715 , 0.47840076,\n",
       "         0.47840076, 0.67015168, 0.67015168, 0.95687301, 0.95687301,\n",
       "         0.13424377, 0.13424377, 0.98424102, 0.98424102, 0.21024235,\n",
       "         0.21024235, 0.90617973, 0.90617973, 0.77477173, 0.77477173])}}"
      ]
     },
     "execution_count": 11,
     "metadata": {},
     "output_type": "execute_result"
    }
   ],
   "source": [
    "ds = load_by_id(run_id_n)\n",
    "ds.get_parameter_data('x1')"
   ]
  },
  {
   "cell_type": "markdown",
   "metadata": {},
   "source": [
    "And a dataset stored as binary arrays"
   ]
  },
  {
   "cell_type": "code",
   "execution_count": 12,
   "metadata": {
    "scrolled": true
   },
   "outputs": [
    {
     "data": {
      "text/plain": [
       "{'x1': {'x1': array([[0.11493431],\n",
       "         [0.11493431],\n",
       "         [0.60050449],\n",
       "         [0.60050449],\n",
       "         [0.69958349],\n",
       "         [0.69958349],\n",
       "         [0.30725344],\n",
       "         [0.30725344],\n",
       "         [0.62448107],\n",
       "         [0.62448107],\n",
       "         [0.42101394],\n",
       "         [0.42101394],\n",
       "         [0.38581028],\n",
       "         [0.38581028],\n",
       "         [0.387241  ],\n",
       "         [0.387241  ],\n",
       "         [0.43058485],\n",
       "         [0.43058485],\n",
       "         [0.16462408],\n",
       "         [0.16462408],\n",
       "         [0.52772857],\n",
       "         [0.52772857],\n",
       "         [0.3456774 ],\n",
       "         [0.3456774 ],\n",
       "         [0.72125682],\n",
       "         [0.72125682],\n",
       "         [0.34259644],\n",
       "         [0.34259644],\n",
       "         [0.61073587],\n",
       "         [0.61073587],\n",
       "         [0.31715103],\n",
       "         [0.31715103],\n",
       "         [0.4073467 ],\n",
       "         [0.4073467 ],\n",
       "         [0.55821693],\n",
       "         [0.55821693],\n",
       "         [0.13312343],\n",
       "         [0.13312343],\n",
       "         [0.21308057],\n",
       "         [0.21308057],\n",
       "         [0.34124655],\n",
       "         [0.34124655],\n",
       "         [0.40618825],\n",
       "         [0.40618825],\n",
       "         [0.28409476],\n",
       "         [0.28409476],\n",
       "         [0.17090505],\n",
       "         [0.17090505],\n",
       "         [0.33590059],\n",
       "         [0.33590059],\n",
       "         [0.01814961],\n",
       "         [0.01814961],\n",
       "         [0.10330585],\n",
       "         [0.10330585],\n",
       "         [0.95065317],\n",
       "         [0.95065317],\n",
       "         [0.07875036],\n",
       "         [0.07875036],\n",
       "         [0.03377107],\n",
       "         [0.03377107],\n",
       "         [0.33098203],\n",
       "         [0.33098203],\n",
       "         [0.29078215],\n",
       "         [0.29078215],\n",
       "         [0.26926036],\n",
       "         [0.26926036],\n",
       "         [0.57085095],\n",
       "         [0.57085095],\n",
       "         [0.46034639],\n",
       "         [0.46034639],\n",
       "         [0.88659174],\n",
       "         [0.88659174],\n",
       "         [0.48701313],\n",
       "         [0.48701313],\n",
       "         [0.43464381],\n",
       "         [0.43464381],\n",
       "         [0.76462098],\n",
       "         [0.76462098],\n",
       "         [0.66759856],\n",
       "         [0.66759856],\n",
       "         [0.73633405],\n",
       "         [0.73633405],\n",
       "         [0.70631442],\n",
       "         [0.70631442],\n",
       "         [0.45740463],\n",
       "         [0.45740463],\n",
       "         [0.69494432],\n",
       "         [0.69494432],\n",
       "         [0.06666565],\n",
       "         [0.06666565],\n",
       "         [0.02995218],\n",
       "         [0.02995218],\n",
       "         [0.63548398],\n",
       "         [0.63548398],\n",
       "         [0.1399588 ],\n",
       "         [0.1399588 ],\n",
       "         [0.25581497],\n",
       "         [0.25581497],\n",
       "         [0.32054016],\n",
       "         [0.32054016],\n",
       "         [0.39995006],\n",
       "         [0.39995006],\n",
       "         [0.1575244 ],\n",
       "         [0.1575244 ],\n",
       "         [0.15516856],\n",
       "         [0.15516856],\n",
       "         [0.40030393],\n",
       "         [0.40030393],\n",
       "         [0.05239114],\n",
       "         [0.05239114],\n",
       "         [0.09111398],\n",
       "         [0.09111398],\n",
       "         [0.85574353],\n",
       "         [0.85574353],\n",
       "         [0.0722432 ],\n",
       "         [0.0722432 ],\n",
       "         [0.34318325],\n",
       "         [0.34318325],\n",
       "         [0.73571258],\n",
       "         [0.73571258],\n",
       "         [0.01861825],\n",
       "         [0.01861825],\n",
       "         [0.29919695],\n",
       "         [0.29919695],\n",
       "         [0.96145457],\n",
       "         [0.96145457],\n",
       "         [0.81268281],\n",
       "         [0.81268281],\n",
       "         [0.32695378],\n",
       "         [0.32695378],\n",
       "         [0.10293993],\n",
       "         [0.10293993],\n",
       "         [0.80041326],\n",
       "         [0.80041326],\n",
       "         [0.30844621],\n",
       "         [0.30844621],\n",
       "         [0.54398533],\n",
       "         [0.54398533],\n",
       "         [0.57749444],\n",
       "         [0.57749444],\n",
       "         [0.50090391],\n",
       "         [0.50090391],\n",
       "         [0.50204445],\n",
       "         [0.50204445],\n",
       "         [0.57494354],\n",
       "         [0.57494354],\n",
       "         [0.53968751],\n",
       "         [0.53968751],\n",
       "         [0.02994392],\n",
       "         [0.02994392],\n",
       "         [0.37231981],\n",
       "         [0.37231981],\n",
       "         [0.25954178],\n",
       "         [0.25954178],\n",
       "         [0.19968426],\n",
       "         [0.19968426],\n",
       "         [0.14607808],\n",
       "         [0.14607808],\n",
       "         [0.48833847],\n",
       "         [0.48833847],\n",
       "         [0.72312261],\n",
       "         [0.72312261],\n",
       "         [0.29838398],\n",
       "         [0.29838398],\n",
       "         [0.40087212],\n",
       "         [0.40087212],\n",
       "         [0.43785876],\n",
       "         [0.43785876],\n",
       "         [0.89058967],\n",
       "         [0.89058967],\n",
       "         [0.68940796],\n",
       "         [0.68940796],\n",
       "         [0.14030426],\n",
       "         [0.14030426],\n",
       "         [0.33739245],\n",
       "         [0.33739245],\n",
       "         [0.41552258],\n",
       "         [0.41552258],\n",
       "         [0.355349  ],\n",
       "         [0.355349  ],\n",
       "         [0.72751001],\n",
       "         [0.72751001],\n",
       "         [0.49528467],\n",
       "         [0.49528467],\n",
       "         [0.73161826],\n",
       "         [0.73161826],\n",
       "         [0.46741637],\n",
       "         [0.46741637],\n",
       "         [0.52926724],\n",
       "         [0.52926724],\n",
       "         [0.87663745],\n",
       "         [0.87663745],\n",
       "         [0.40553239],\n",
       "         [0.40553239],\n",
       "         [0.84746777],\n",
       "         [0.84746777],\n",
       "         [0.9893252 ],\n",
       "         [0.9893252 ],\n",
       "         [0.28854025],\n",
       "         [0.28854025]])}}"
      ]
     },
     "execution_count": 12,
     "metadata": {},
     "output_type": "execute_result"
    }
   ],
   "source": [
    "ds = load_by_id(run_id_a)\n",
    "ds.get_parameter_data('x1')"
   ]
  },
  {
   "cell_type": "code",
   "execution_count": null,
   "metadata": {},
   "outputs": [],
   "source": []
  }
 ],
 "metadata": {
  "kernelspec": {
   "display_name": "Python 3",
   "language": "python",
   "name": "python3"
  },
  "language_info": {
   "codemirror_mode": {
    "name": "ipython",
    "version": 3
   },
   "file_extension": ".py",
   "mimetype": "text/x-python",
   "name": "python",
   "nbconvert_exporter": "python",
   "pygments_lexer": "ipython3",
   "version": "3.7.7"
  },
  "nbsphinx": {
   "timeout": 600
  },
  "toc": {
   "base_numbering": 1,
   "nav_menu": {},
   "number_sections": true,
   "sideBar": true,
   "skip_h1_title": false,
   "title_cell": "Table of Contents",
   "title_sidebar": "Contents",
   "toc_cell": false,
   "toc_position": {},
   "toc_section_display": true,
   "toc_window_display": false
  },
  "varInspector": {
   "cols": {
    "lenName": 16,
    "lenType": 16,
    "lenVar": 40
   },
   "kernels_config": {
    "python": {
     "delete_cmd_postfix": "",
     "delete_cmd_prefix": "del ",
     "library": "var_list.py",
     "varRefreshCmd": "print(var_dic_list())"
    },
    "r": {
     "delete_cmd_postfix": ") ",
     "delete_cmd_prefix": "rm(",
     "library": "var_list.r",
     "varRefreshCmd": "cat(var_dic_list()) "
    }
   },
   "types_to_exclude": [
    "module",
    "function",
    "builtin_function_or_method",
    "instance",
    "_Feature"
   ],
   "window_display": false
  }
 },
 "nbformat": 4,
 "nbformat_minor": 2
}
