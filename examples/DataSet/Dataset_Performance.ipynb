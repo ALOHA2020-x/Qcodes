{
 "cells": [
  {
   "cell_type": "markdown",
   "metadata": {},
   "source": [
    "# DataSet Performance\n",
    "\n",
    "This notebook shows the trade-off between inserting data into a database row-by-row and as binary blobs. Inserting the data row-by-row means that we have direct access to all the data and may perform queries directly on the values of the data. On the other hand, as we shall see, this is much slower than inserting the data directly as binary blobs."
   ]
  },
  {
   "cell_type": "markdown",
   "metadata": {},
   "source": [
    "First, we choose a new location for the database to ensure that we don't add a bunch of benchmarking data to the default one."
   ]
  },
  {
   "cell_type": "code",
   "execution_count": 1,
   "metadata": {
    "execution": {
     "iopub.execute_input": "2021-03-05T12:00:41.869516Z",
     "iopub.status.busy": "2021-03-05T12:00:41.868958Z",
     "iopub.status.idle": "2021-03-05T12:00:42.778397Z",
     "shell.execute_reply": "2021-03-05T12:00:42.777732Z"
    }
   },
   "outputs": [
    {
     "name": "stdout",
     "output_type": "stream",
     "text": [
      "Logging hadn't been started.\n",
      "Activating auto-logging. Current session state plus future input saved.\n",
      "Filename       : /home/runner/.qcodes/logs/command_history.log\n",
      "Mode           : append\n",
      "Output logging : True\n",
      "Raw input log  : False\n",
      "Timestamping   : True\n",
      "State          : active\n"
     ]
    },
    {
     "name": "stdout",
     "output_type": "stream",
     "text": [
      "Qcodes Logfile : /home/runner/.qcodes/logs/210305-4131-qcodes.log\n"
     ]
    }
   ],
   "source": [
    "import os\n",
    "cwd = os.getcwd()\n",
    "import qcodes as qc\n",
    "qc.config[\"core\"][\"db_location\"] = os.path.join(cwd, 'testing.db')\n"
   ]
  },
  {
   "cell_type": "code",
   "execution_count": 2,
   "metadata": {
    "execution": {
     "iopub.execute_input": "2021-03-05T12:00:42.785436Z",
     "iopub.status.busy": "2021-03-05T12:00:42.784565Z",
     "iopub.status.idle": "2021-03-05T12:00:42.983230Z",
     "shell.execute_reply": "2021-03-05T12:00:42.983731Z"
    }
   },
   "outputs": [],
   "source": [
    "%matplotlib inline\n",
    "import time\n",
    "import matplotlib.pyplot as plt\n",
    "import numpy as np\n",
    "\n",
    "import qcodes as qc\n",
    "from qcodes.instrument.parameter import ManualParameter\n",
    "from qcodes.dataset.experiment_container import (Experiment,\n",
    "                                                 load_last_experiment,\n",
    "                                                 new_experiment)\n",
    "from qcodes.dataset.sqlite.database import initialise_database\n",
    "from qcodes import load_or_create_experiment\n",
    "from qcodes.dataset.measurements import Measurement"
   ]
  },
  {
   "cell_type": "code",
   "execution_count": 3,
   "metadata": {
    "execution": {
     "iopub.execute_input": "2021-03-05T12:00:42.988119Z",
     "iopub.status.busy": "2021-03-05T12:00:42.987100Z",
     "iopub.status.idle": "2021-03-05T12:00:43.459208Z",
     "shell.execute_reply": "2021-03-05T12:00:43.458493Z"
    }
   },
   "outputs": [
    {
     "name": "stdout",
     "output_type": "stream",
     "text": [
      "\r",
      "0it [00:00, ?it/s]"
     ]
    },
    {
     "name": "stdout",
     "output_type": "stream",
     "text": [
      "\r",
      "Upgrading database; v0 -> v1: : 0it [00:00, ?it/s]"
     ]
    },
    {
     "name": "stdout",
     "output_type": "stream",
     "text": [
      "\r",
      "Upgrading database; v0 -> v1: : 0it [00:00, ?it/s]"
     ]
    },
    {
     "name": "stdout",
     "output_type": "stream",
     "text": [
      "\n",
      "\r",
      "  0%|          | 0/1 [00:00<?, ?it/s]"
     ]
    },
    {
     "name": "stdout",
     "output_type": "stream",
     "text": [
      "\r",
      "Upgrading database; v1 -> v2:   0%|          | 0/1 [00:00<?, ?it/s]"
     ]
    },
    {
     "name": "stdout",
     "output_type": "stream",
     "text": [
      "\r",
      "Upgrading database; v1 -> v2: 100%|██████████| 1/1 [00:00<00:00, 707.78it/s]"
     ]
    },
    {
     "name": "stdout",
     "output_type": "stream",
     "text": [
      "\n",
      "\r",
      "0it [00:00, ?it/s]"
     ]
    },
    {
     "name": "stdout",
     "output_type": "stream",
     "text": [
      "\r",
      "Upgrading database; v2 -> v3: : 0it [00:00, ?it/s]"
     ]
    },
    {
     "name": "stdout",
     "output_type": "stream",
     "text": [
      "\r",
      "Upgrading database; v2 -> v3: : 0it [00:00, ?it/s]"
     ]
    },
    {
     "name": "stdout",
     "output_type": "stream",
     "text": [
      "\n",
      "\r",
      "0it [00:00, ?it/s]"
     ]
    },
    {
     "name": "stdout",
     "output_type": "stream",
     "text": [
      "\r",
      "Upgrading database; v3 -> v4: : 0it [00:00, ?it/s]"
     ]
    },
    {
     "name": "stdout",
     "output_type": "stream",
     "text": [
      "\r",
      "Upgrading database; v3 -> v4: : 0it [00:00, ?it/s]"
     ]
    },
    {
     "name": "stdout",
     "output_type": "stream",
     "text": [
      "\n",
      "\r",
      "  0%|          | 0/1 [00:00<?, ?it/s]"
     ]
    },
    {
     "name": "stdout",
     "output_type": "stream",
     "text": [
      "\r",
      "Upgrading database; v4 -> v5:   0%|          | 0/1 [00:00<?, ?it/s]"
     ]
    },
    {
     "name": "stdout",
     "output_type": "stream",
     "text": [
      "\r",
      "Upgrading database; v4 -> v5: 100%|██████████| 1/1 [00:00<00:00, 368.50it/s]"
     ]
    },
    {
     "name": "stdout",
     "output_type": "stream",
     "text": [
      "\n",
      "\r",
      "0it [00:00, ?it/s]"
     ]
    },
    {
     "name": "stdout",
     "output_type": "stream",
     "text": [
      "\r",
      "Upgrading database; v5 -> v6: : 0it [00:00, ?it/s]"
     ]
    },
    {
     "name": "stdout",
     "output_type": "stream",
     "text": [
      "\r",
      "Upgrading database; v5 -> v6: : 0it [00:00, ?it/s]"
     ]
    },
    {
     "name": "stdout",
     "output_type": "stream",
     "text": [
      "\n"
     ]
    },
    {
     "name": "stdout",
     "output_type": "stream",
     "text": [
      "\r",
      "  0%|          | 0/1 [00:00<?, ?it/s]"
     ]
    },
    {
     "name": "stdout",
     "output_type": "stream",
     "text": [
      "\r",
      "Upgrading database; v6 -> v7:   0%|          | 0/1 [00:00<?, ?it/s]"
     ]
    },
    {
     "name": "stdout",
     "output_type": "stream",
     "text": [
      "\r",
      "Upgrading database; v6 -> v7: 100%|██████████| 1/1 [00:00<00:00, 45.68it/s]"
     ]
    },
    {
     "name": "stdout",
     "output_type": "stream",
     "text": [
      "\n"
     ]
    },
    {
     "name": "stdout",
     "output_type": "stream",
     "text": [
      "\r",
      "  0%|          | 0/1 [00:00<?, ?it/s]"
     ]
    },
    {
     "name": "stdout",
     "output_type": "stream",
     "text": [
      "\r",
      "Upgrading database; v7 -> v8:   0%|          | 0/1 [00:00<?, ?it/s]"
     ]
    },
    {
     "name": "stdout",
     "output_type": "stream",
     "text": [
      "\r",
      "Upgrading database; v7 -> v8: 100%|██████████| 1/1 [00:00<00:00, 791.08it/s]"
     ]
    },
    {
     "name": "stdout",
     "output_type": "stream",
     "text": [
      "\n",
      "\r",
      "  0%|          | 0/1 [00:00<?, ?it/s]"
     ]
    },
    {
     "name": "stdout",
     "output_type": "stream",
     "text": [
      "\r",
      "Upgrading database; v8 -> v9:   0%|          | 0/1 [00:00<?, ?it/s]"
     ]
    },
    {
     "name": "stdout",
     "output_type": "stream",
     "text": [
      "\r",
      "Upgrading database; v8 -> v9: 100%|██████████| 1/1 [00:00<00:00, 484.22it/s]"
     ]
    },
    {
     "name": "stdout",
     "output_type": "stream",
     "text": [
      "\n"
     ]
    }
   ],
   "source": [
    "initialise_database()\n",
    "exp = load_or_create_experiment(experiment_name='tutorial_exp', sample_name=\"no sample\")"
   ]
  },
  {
   "cell_type": "markdown",
   "metadata": {},
   "source": [
    "Here, we define a simple function to benchmark the time it takes to insert n points with either numeric or array data type.\n",
    "We will compare both the time used to call ``add_result`` and the time used for the full measurement."
   ]
  },
  {
   "cell_type": "code",
   "execution_count": 4,
   "metadata": {
    "execution": {
     "iopub.execute_input": "2021-03-05T12:00:43.475798Z",
     "iopub.status.busy": "2021-03-05T12:00:43.474553Z",
     "iopub.status.idle": "2021-03-05T12:00:43.476401Z",
     "shell.execute_reply": "2021-03-05T12:00:43.476868Z"
    }
   },
   "outputs": [],
   "source": [
    "def insert_data(paramtype, npoints, nreps=1):\n",
    "\n",
    "    meas = Measurement(exp=exp)\n",
    "\n",
    "    x1 = ManualParameter('x1')\n",
    "    x2 = ManualParameter('x2')\n",
    "    x3 = ManualParameter('x3')\n",
    "    y1 = ManualParameter('y1')\n",
    "    y2 = ManualParameter('y2')\n",
    "\n",
    "    meas.register_parameter(x1, paramtype=paramtype)\n",
    "    meas.register_parameter(x2, paramtype=paramtype)\n",
    "    meas.register_parameter(x3, paramtype=paramtype)\n",
    "    meas.register_parameter(y1, setpoints=[x1, x2, x3],\n",
    "                            paramtype=paramtype)\n",
    "    meas.register_parameter(y2, setpoints=[x1, x2, x3],\n",
    "                            paramtype=paramtype)\n",
    "    start = time.perf_counter()\n",
    "    with meas.run() as datasaver:\n",
    "        start_adding = time.perf_counter()\n",
    "        for i in range(nreps):\n",
    "            datasaver.add_result((x1, np.random.rand(npoints)),\n",
    "                                 (x2, np.random.rand(npoints)),\n",
    "                                 (x3, np.random.rand(npoints)),\n",
    "                                 (y1, np.random.rand(npoints)),\n",
    "                                 (y2, np.random.rand(npoints)))\n",
    "        stop_adding = time.perf_counter()\n",
    "        run_id = datasaver.run_id\n",
    "    stop = time.perf_counter()\n",
    "    tot_time = stop - start\n",
    "    add_time = stop_adding - start_adding\n",
    "    return tot_time, add_time, run_id"
   ]
  },
  {
   "cell_type": "markdown",
   "metadata": {},
   "source": [
    "## Comparison between numeric/array data and binary blob"
   ]
  },
  {
   "cell_type": "markdown",
   "metadata": {},
   "source": [
    "### Case1: Short experiment time"
   ]
  },
  {
   "cell_type": "code",
   "execution_count": 5,
   "metadata": {
    "execution": {
     "iopub.execute_input": "2021-03-05T12:00:43.483803Z",
     "iopub.status.busy": "2021-03-05T12:00:43.483122Z",
     "iopub.status.idle": "2021-03-05T12:00:45.251122Z",
     "shell.execute_reply": "2021-03-05T12:00:45.249788Z"
    }
   },
   "outputs": [
    {
     "name": "stdout",
     "output_type": "stream",
     "text": [
      "Starting experimental run with id: 1. \n"
     ]
    },
    {
     "name": "stdout",
     "output_type": "stream",
     "text": [
      "Starting experimental run with id: 2. \n",
      "Starting experimental run with id: 3. \n"
     ]
    },
    {
     "name": "stdout",
     "output_type": "stream",
     "text": [
      "Starting experimental run with id: 4. \n"
     ]
    },
    {
     "name": "stdout",
     "output_type": "stream",
     "text": [
      "Starting experimental run with id: 5. \n",
      "Starting experimental run with id: 6. \n"
     ]
    },
    {
     "name": "stdout",
     "output_type": "stream",
     "text": [
      "Starting experimental run with id: 7. \n",
      "Starting experimental run with id: 8. \n"
     ]
    },
    {
     "name": "stdout",
     "output_type": "stream",
     "text": [
      "Starting experimental run with id: 9. \n"
     ]
    },
    {
     "name": "stdout",
     "output_type": "stream",
     "text": [
      "Starting experimental run with id: 10. \n",
      "Starting experimental run with id: 11. \n"
     ]
    },
    {
     "name": "stdout",
     "output_type": "stream",
     "text": [
      "Starting experimental run with id: 12. \n",
      "Starting experimental run with id: 13. \n"
     ]
    },
    {
     "name": "stdout",
     "output_type": "stream",
     "text": [
      "Starting experimental run with id: 14. \n"
     ]
    }
   ],
   "source": [
    "sizes = [1,500,1000,2000,3000,4000,5000]\n",
    "t_numeric = []\n",
    "t_numeric_add = []\n",
    "t_array = []\n",
    "t_array_add = []\n",
    "for size in sizes:\n",
    "    tn, tna, run_id_n =  insert_data('numeric', size)\n",
    "    t_numeric.append(tn)\n",
    "    t_numeric_add.append(tna)\n",
    "\n",
    "    ta, taa, run_id_a =  insert_data('array', size)\n",
    "    t_array.append(ta)\n",
    "    t_array_add.append(taa)"
   ]
  },
  {
   "cell_type": "code",
   "execution_count": 6,
   "metadata": {
    "execution": {
     "iopub.execute_input": "2021-03-05T12:00:45.269798Z",
     "iopub.status.busy": "2021-03-05T12:00:45.269229Z",
     "iopub.status.idle": "2021-03-05T12:00:45.481919Z",
     "shell.execute_reply": "2021-03-05T12:00:45.482367Z"
    }
   },
   "outputs": [
    {
     "data": {
      "image/png": "[encoded data removed]",
      "text/plain": [
       "<Figure size 432x288 with 1 Axes>"
      ]
     },
     "metadata": {
      "needs_background": "light"
     },
     "output_type": "display_data"
    }
   ],
   "source": [
    "fig, ax = plt.subplots(1,1)\n",
    "ax.plot(sizes, t_numeric, 'o-', label='Inserting row-by-row')\n",
    "ax.plot(sizes, t_numeric_add, 'o-', label='Inserting row-by-row: add_result only')\n",
    "ax.plot(sizes, t_array, 'd-', label='Inserting as binary blob')\n",
    "ax.plot(sizes, t_array_add, 'd-', label='Inserting as binary blob: add_result only')\n",
    "ax.legend()\n",
    "ax.set_xlabel('Array length')\n",
    "ax.set_ylabel('Time (s)')\n",
    "fig.tight_layout()"
   ]
  },
  {
   "cell_type": "markdown",
   "metadata": {},
   "source": [
    "As shown in the latter figure, the time to setup and and close the experiment is approximately 0.4 sec. In case of small array sizes, the difference between inserting values of data as arrays and inserting them row-by-row is relatively unimportant. At larger array sizes, i.e. above 10000 points, the cost of writing data as individual datapoints starts to become important.\n"
   ]
  },
  {
   "cell_type": "markdown",
   "metadata": {},
   "source": [
    "### Case2: Long experiment time "
   ]
  },
  {
   "cell_type": "code",
   "execution_count": 7,
   "metadata": {
    "execution": {
     "iopub.execute_input": "2021-03-05T12:00:45.490119Z",
     "iopub.status.busy": "2021-03-05T12:00:45.489549Z",
     "iopub.status.idle": "2021-03-05T12:01:51.752463Z",
     "shell.execute_reply": "2021-03-05T12:01:51.751924Z"
    }
   },
   "outputs": [
    {
     "name": "stdout",
     "output_type": "stream",
     "text": [
      "Starting experimental run with id: 15. \n",
      "Starting experimental run with id: 16. \n"
     ]
    },
    {
     "name": "stdout",
     "output_type": "stream",
     "text": [
      "Starting experimental run with id: 17. \n"
     ]
    },
    {
     "name": "stdout",
     "output_type": "stream",
     "text": [
      "Starting experimental run with id: 18. \n"
     ]
    },
    {
     "name": "stdout",
     "output_type": "stream",
     "text": [
      "Starting experimental run with id: 19. \n"
     ]
    },
    {
     "name": "stdout",
     "output_type": "stream",
     "text": [
      "Starting experimental run with id: 20. \n"
     ]
    },
    {
     "name": "stdout",
     "output_type": "stream",
     "text": [
      "Starting experimental run with id: 21. \n"
     ]
    },
    {
     "name": "stdout",
     "output_type": "stream",
     "text": [
      "Starting experimental run with id: 22. \n"
     ]
    },
    {
     "name": "stdout",
     "output_type": "stream",
     "text": [
      "Starting experimental run with id: 23. \n"
     ]
    },
    {
     "name": "stdout",
     "output_type": "stream",
     "text": [
      "Starting experimental run with id: 24. \n"
     ]
    },
    {
     "name": "stdout",
     "output_type": "stream",
     "text": [
      "Starting experimental run with id: 25. \n"
     ]
    },
    {
     "name": "stdout",
     "output_type": "stream",
     "text": [
      "Starting experimental run with id: 26. \n"
     ]
    },
    {
     "name": "stdout",
     "output_type": "stream",
     "text": [
      "Starting experimental run with id: 27. \n"
     ]
    },
    {
     "name": "stdout",
     "output_type": "stream",
     "text": [
      "Starting experimental run with id: 28. \n"
     ]
    }
   ],
   "source": [
    "sizes = [1,500,1000,2000,3000,4000,5000]\n",
    "nreps = 100\n",
    "t_numeric = []\n",
    "t_numeric_add = []\n",
    "t_numeric_run_ids = []\n",
    "t_array = []\n",
    "t_array_add = []\n",
    "t_array_run_ids = []\n",
    "for size in sizes:\n",
    "    tn, tna, run_id_n =  insert_data('numeric', size, nreps=nreps)\n",
    "    t_numeric.append(tn)\n",
    "    t_numeric_add.append(tna)\n",
    "    t_numeric_run_ids.append(run_id_n)\n",
    "\n",
    "    ta, taa, run_id_a =  insert_data('array', size, nreps=nreps)\n",
    "    t_array.append(ta)\n",
    "    t_array_add.append(taa)\n",
    "    t_array_run_ids.append(run_id_a)"
   ]
  },
  {
   "cell_type": "code",
   "execution_count": 8,
   "metadata": {
    "execution": {
     "iopub.execute_input": "2021-03-05T12:01:51.796636Z",
     "iopub.status.busy": "2021-03-05T12:01:51.766836Z",
     "iopub.status.idle": "2021-03-05T12:01:51.981475Z",
     "shell.execute_reply": "2021-03-05T12:01:51.980955Z"
    },
    "scrolled": true
   },
   "outputs": [
    {
     "data": {
      "image/png": "[encoded data removed]",
      "text/plain": [
       "<Figure size 432x288 with 1 Axes>"
      ]
     },
     "metadata": {
      "needs_background": "light"
     },
     "output_type": "display_data"
    }
   ],
   "source": [
    "fig, ax = plt.subplots(1,1)\n",
    "ax.plot(sizes, t_numeric, 'o-', label='Inserting row-by-row')\n",
    "ax.plot(sizes, t_numeric_add, 'o-', label='Inserting row-by-row: add_result only')\n",
    "ax.plot(sizes, t_array, 'd-', label='Inserting as binary blob')\n",
    "ax.plot(sizes, t_array_add, 'd-', label='Inserting as binary blob: add_result only')\n",
    "ax.legend()\n",
    "ax.set_xlabel('Array length')\n",
    "ax.set_ylabel('Time (s)')\n",
    "fig.tight_layout()"
   ]
  },
  {
   "cell_type": "markdown",
   "metadata": {},
   "source": [
    "However, as we increase the length of the experiment, as seen here by repeating the insertion 100 times, we see a big difference between inserting values of the data row-by-row and inserting it as a binary blob."
   ]
  },
  {
   "cell_type": "markdown",
   "metadata": {},
   "source": [
    "## Loading the data "
   ]
  },
  {
   "cell_type": "code",
   "execution_count": 9,
   "metadata": {
    "execution": {
     "iopub.execute_input": "2021-03-05T12:01:51.986033Z",
     "iopub.status.busy": "2021-03-05T12:01:51.985027Z",
     "iopub.status.idle": "2021-03-05T12:01:51.988348Z",
     "shell.execute_reply": "2021-03-05T12:01:51.987808Z"
    }
   },
   "outputs": [],
   "source": [
    "from qcodes.dataset.data_set import load_by_id\n",
    "from qcodes.dataset.data_export import get_data_by_id"
   ]
  },
  {
   "cell_type": "markdown",
   "metadata": {},
   "source": [
    "As usual you can load the data by using the ``load_by_id`` function but you will notice that the different storage methods\n",
    "are reflected in shape of the data as it is retrieved. "
   ]
  },
  {
   "cell_type": "code",
   "execution_count": 10,
   "metadata": {
    "execution": {
     "iopub.execute_input": "2021-03-05T12:01:51.993041Z",
     "iopub.status.busy": "2021-03-05T12:01:51.991828Z",
     "iopub.status.idle": "2021-03-05T12:01:51.993681Z",
     "shell.execute_reply": "2021-03-05T12:01:51.994138Z"
    }
   },
   "outputs": [],
   "source": [
    "run_id_n = t_numeric_run_ids[0]\n",
    "run_id_a = t_array_run_ids[0]"
   ]
  },
  {
   "cell_type": "code",
   "execution_count": 11,
   "metadata": {
    "execution": {
     "iopub.execute_input": "2021-03-05T12:01:51.997557Z",
     "iopub.status.busy": "2021-03-05T12:01:51.997012Z",
     "iopub.status.idle": "2021-03-05T12:01:52.007788Z",
     "shell.execute_reply": "2021-03-05T12:01:52.007305Z"
    },
    "scrolled": true
   },
   "outputs": [
    {
     "data": {
      "text/plain": [
       "{'x1': {'x1': array([0.26046034, 0.26046034, 0.96336626, 0.96336626, 0.28828765,\n",
       "         0.28828765, 0.11455365, 0.11455365, 0.14754412, 0.14754412,\n",
       "         0.18711368, 0.18711368, 0.73407379, 0.73407379, 0.40159791,\n",
       "         0.40159791, 0.22087738, 0.22087738, 0.61896342, 0.61896342,\n",
       "         0.649681  , 0.649681  , 0.65627197, 0.65627197, 0.44271045,\n",
       "         0.44271045, 0.47015922, 0.47015922, 0.09519206, 0.09519206,\n",
       "         0.27420582, 0.27420582, 0.45343895, 0.45343895, 0.41116521,\n",
       "         0.41116521, 0.11357178, 0.11357178, 0.74784798, 0.74784798,\n",
       "         0.70332375, 0.70332375, 0.31708951, 0.31708951, 0.27838444,\n",
       "         0.27838444, 0.7811979 , 0.7811979 , 0.58619823, 0.58619823,\n",
       "         0.01938682, 0.01938682, 0.43144388, 0.43144388, 0.27783164,\n",
       "         0.27783164, 0.94843103, 0.94843103, 0.84713996, 0.84713996,\n",
       "         0.45333203, 0.45333203, 0.96961942, 0.96961942, 0.08157193,\n",
       "         0.08157193, 0.42150182, 0.42150182, 0.43674318, 0.43674318,\n",
       "         0.66080866, 0.66080866, 0.64059818, 0.64059818, 0.68690407,\n",
       "         0.68690407, 0.0589797 , 0.0589797 , 0.65458533, 0.65458533,\n",
       "         0.69507072, 0.69507072, 0.22502497, 0.22502497, 0.61655072,\n",
       "         0.61655072, 0.98048632, 0.98048632, 0.77904556, 0.77904556,\n",
       "         0.6225159 , 0.6225159 , 0.83656953, 0.83656953, 0.59587398,\n",
       "         0.59587398, 0.88752993, 0.88752993, 0.10556124, 0.10556124,\n",
       "         0.98027933, 0.98027933, 0.52774672, 0.52774672, 0.75467864,\n",
       "         0.75467864, 0.43455362, 0.43455362, 0.42319283, 0.42319283,\n",
       "         0.13290311, 0.13290311, 0.48264164, 0.48264164, 0.65674988,\n",
       "         0.65674988, 0.37429687, 0.37429687, 0.02357072, 0.02357072,\n",
       "         0.57763756, 0.57763756, 0.0281606 , 0.0281606 , 0.05131464,\n",
       "         0.05131464, 0.85290431, 0.85290431, 0.18719032, 0.18719032,\n",
       "         0.37840162, 0.37840162, 0.89139977, 0.89139977, 0.61522658,\n",
       "         0.61522658, 0.57314691, 0.57314691, 0.80129342, 0.80129342,\n",
       "         0.70586442, 0.70586442, 0.05902255, 0.05902255, 0.87083859,\n",
       "         0.87083859, 0.9290728 , 0.9290728 , 0.95463021, 0.95463021,\n",
       "         0.73496785, 0.73496785, 0.09319531, 0.09319531, 0.45945696,\n",
       "         0.45945696, 0.36990719, 0.36990719, 0.78515301, 0.78515301,\n",
       "         0.17259266, 0.17259266, 0.56964017, 0.56964017, 0.26637709,\n",
       "         0.26637709, 0.62384795, 0.62384795, 0.9288598 , 0.9288598 ,\n",
       "         0.82938905, 0.82938905, 0.57780093, 0.57780093, 0.96605978,\n",
       "         0.96605978, 0.59419494, 0.59419494, 0.07401033, 0.07401033,\n",
       "         0.71553909, 0.71553909, 0.97634268, 0.97634268, 0.39765301,\n",
       "         0.39765301, 0.05519021, 0.05519021, 0.51398402, 0.51398402,\n",
       "         0.76358486, 0.76358486, 0.9153577 , 0.9153577 , 0.47800314,\n",
       "         0.47800314, 0.95488242, 0.95488242, 0.44872968, 0.44872968])}}"
      ]
     },
     "execution_count": 1,
     "metadata": {},
     "output_type": "execute_result"
    }
   ],
   "source": [
    "ds = load_by_id(run_id_n)\n",
    "ds.get_parameter_data('x1')"
   ]
  },
  {
   "cell_type": "markdown",
   "metadata": {},
   "source": [
    "And a dataset stored as binary arrays"
   ]
  },
  {
   "cell_type": "code",
   "execution_count": 12,
   "metadata": {
    "execution": {
     "iopub.execute_input": "2021-03-05T12:01:52.011272Z",
     "iopub.status.busy": "2021-03-05T12:01:52.010726Z",
     "iopub.status.idle": "2021-03-05T12:01:52.071030Z",
     "shell.execute_reply": "2021-03-05T12:01:52.071965Z"
    },
    "scrolled": true
   },
   "outputs": [
    {
     "data": {
      "text/plain": [
       "{'x1': {'x1': array([[0.71520729],\n",
       "         [0.71520729],\n",
       "         [0.02374153],\n",
       "         [0.02374153],\n",
       "         [0.3699836 ],\n",
       "         [0.3699836 ],\n",
       "         [0.88969566],\n",
       "         [0.88969566],\n",
       "         [0.19885849],\n",
       "         [0.19885849],\n",
       "         [0.21592973],\n",
       "         [0.21592973],\n",
       "         [0.17857636],\n",
       "         [0.17857636],\n",
       "         [0.1357694 ],\n",
       "         [0.1357694 ],\n",
       "         [0.35602973],\n",
       "         [0.35602973],\n",
       "         [0.87636822],\n",
       "         [0.87636822],\n",
       "         [0.29943338],\n",
       "         [0.29943338],\n",
       "         [0.71859505],\n",
       "         [0.71859505],\n",
       "         [0.25917446],\n",
       "         [0.25917446],\n",
       "         [0.555447  ],\n",
       "         [0.555447  ],\n",
       "         [0.26457018],\n",
       "         [0.26457018],\n",
       "         [0.82860083],\n",
       "         [0.82860083],\n",
       "         [0.88490856],\n",
       "         [0.88490856],\n",
       "         [0.15401047],\n",
       "         [0.15401047],\n",
       "         [0.92324379],\n",
       "         [0.92324379],\n",
       "         [0.49912363],\n",
       "         [0.49912363],\n",
       "         [0.29063828],\n",
       "         [0.29063828],\n",
       "         [0.3497681 ],\n",
       "         [0.3497681 ],\n",
       "         [0.36373285],\n",
       "         [0.36373285],\n",
       "         [0.05432896],\n",
       "         [0.05432896],\n",
       "         [0.72906665],\n",
       "         [0.72906665],\n",
       "         [0.73089615],\n",
       "         [0.73089615],\n",
       "         [0.10551482],\n",
       "         [0.10551482],\n",
       "         [0.54695506],\n",
       "         [0.54695506],\n",
       "         [0.07737873],\n",
       "         [0.07737873],\n",
       "         [0.77890257],\n",
       "         [0.77890257],\n",
       "         [0.325698  ],\n",
       "         [0.325698  ],\n",
       "         [0.5724668 ],\n",
       "         [0.5724668 ],\n",
       "         [0.17923815],\n",
       "         [0.17923815],\n",
       "         [0.56026184],\n",
       "         [0.56026184],\n",
       "         [0.6895345 ],\n",
       "         [0.6895345 ],\n",
       "         [0.57851149],\n",
       "         [0.57851149],\n",
       "         [0.43601026],\n",
       "         [0.43601026],\n",
       "         [0.59837095],\n",
       "         [0.59837095],\n",
       "         [0.20445656],\n",
       "         [0.20445656],\n",
       "         [0.73510302],\n",
       "         [0.73510302],\n",
       "         [0.69350032],\n",
       "         [0.69350032],\n",
       "         [0.93499651],\n",
       "         [0.93499651],\n",
       "         [0.82421008],\n",
       "         [0.82421008],\n",
       "         [0.84146453],\n",
       "         [0.84146453],\n",
       "         [0.46019357],\n",
       "         [0.46019357],\n",
       "         [0.23109199],\n",
       "         [0.23109199],\n",
       "         [0.67428197],\n",
       "         [0.67428197],\n",
       "         [0.09632686],\n",
       "         [0.09632686],\n",
       "         [0.16481057],\n",
       "         [0.16481057],\n",
       "         [0.07732344],\n",
       "         [0.07732344],\n",
       "         [0.1527508 ],\n",
       "         [0.1527508 ],\n",
       "         [0.52073873],\n",
       "         [0.52073873],\n",
       "         [0.8428328 ],\n",
       "         [0.8428328 ],\n",
       "         [0.34593861],\n",
       "         [0.34593861],\n",
       "         [0.6747824 ],\n",
       "         [0.6747824 ],\n",
       "         [0.72731331],\n",
       "         [0.72731331],\n",
       "         [0.06707341],\n",
       "         [0.06707341],\n",
       "         [0.9937921 ],\n",
       "         [0.9937921 ],\n",
       "         [0.20879653],\n",
       "         [0.20879653],\n",
       "         [0.33839033],\n",
       "         [0.33839033],\n",
       "         [0.42703761],\n",
       "         [0.42703761],\n",
       "         [0.94954131],\n",
       "         [0.94954131],\n",
       "         [0.64514883],\n",
       "         [0.64514883],\n",
       "         [0.32584148],\n",
       "         [0.32584148],\n",
       "         [0.32932888],\n",
       "         [0.32932888],\n",
       "         [0.3658938 ],\n",
       "         [0.3658938 ],\n",
       "         [0.91746805],\n",
       "         [0.91746805],\n",
       "         [0.24441015],\n",
       "         [0.24441015],\n",
       "         [0.85164212],\n",
       "         [0.85164212],\n",
       "         [0.92426153],\n",
       "         [0.92426153],\n",
       "         [0.18397642],\n",
       "         [0.18397642],\n",
       "         [0.79820529],\n",
       "         [0.79820529],\n",
       "         [0.21158433],\n",
       "         [0.21158433],\n",
       "         [0.03313128],\n",
       "         [0.03313128],\n",
       "         [0.32425011],\n",
       "         [0.32425011],\n",
       "         [0.85076452],\n",
       "         [0.85076452],\n",
       "         [0.64749734],\n",
       "         [0.64749734],\n",
       "         [0.3599382 ],\n",
       "         [0.3599382 ],\n",
       "         [0.39705299],\n",
       "         [0.39705299],\n",
       "         [0.64267622],\n",
       "         [0.64267622],\n",
       "         [0.04652036],\n",
       "         [0.04652036],\n",
       "         [0.60554389],\n",
       "         [0.60554389],\n",
       "         [0.60564192],\n",
       "         [0.60564192],\n",
       "         [0.56451351],\n",
       "         [0.56451351],\n",
       "         [0.18519789],\n",
       "         [0.18519789],\n",
       "         [0.62549672],\n",
       "         [0.62549672],\n",
       "         [0.04914645],\n",
       "         [0.04914645],\n",
       "         [0.73833683],\n",
       "         [0.73833683],\n",
       "         [0.16916685],\n",
       "         [0.16916685],\n",
       "         [0.61391308],\n",
       "         [0.61391308],\n",
       "         [0.40116867],\n",
       "         [0.40116867],\n",
       "         [0.64175252],\n",
       "         [0.64175252],\n",
       "         [0.64050888],\n",
       "         [0.64050888],\n",
       "         [0.64799053],\n",
       "         [0.64799053],\n",
       "         [0.13267758],\n",
       "         [0.13267758],\n",
       "         [0.17571987],\n",
       "         [0.17571987],\n",
       "         [0.77570719],\n",
       "         [0.77570719],\n",
       "         [0.38675687],\n",
       "         [0.38675687],\n",
       "         [0.23651432],\n",
       "         [0.23651432],\n",
       "         [0.47951414],\n",
       "         [0.47951414]])}}"
      ]
     },
     "execution_count": 1,
     "metadata": {},
     "output_type": "execute_result"
    }
   ],
   "source": [
    "ds = load_by_id(run_id_a)\n",
    "ds.get_parameter_data('x1')"
   ]
  },
  {
   "cell_type": "code",
   "execution_count": null,
   "metadata": {},
   "outputs": [],
   "source": []
  }
 ],
 "metadata": {
  "kernelspec": {
   "display_name": "Python 3",
   "language": "python",
   "name": "python3"
  },
  "language_info": {
   "codemirror_mode": {
    "name": "ipython",
    "version": 3
   },
   "file_extension": ".py",
   "mimetype": "text/x-python",
   "name": "python",
   "nbconvert_exporter": "python",
   "pygments_lexer": "ipython3",
   "version": "3.7.10"
  },
  "nbsphinx": {
   "timeout": 600
  },
  "toc": {
   "base_numbering": 1,
   "nav_menu": {},
   "number_sections": true,
   "sideBar": true,
   "skip_h1_title": false,
   "title_cell": "Table of Contents",
   "title_sidebar": "Contents",
   "toc_cell": false,
   "toc_position": {},
   "toc_section_display": true,
   "toc_window_display": false
  },
  "varInspector": {
   "cols": {
    "lenName": 16,
    "lenType": 16,
    "lenVar": 40
   },
   "kernels_config": {
    "python": {
     "delete_cmd_postfix": "",
     "delete_cmd_prefix": "del ",
     "library": "var_list.py",
     "varRefreshCmd": "print(var_dic_list())"
    },
    "r": {
     "delete_cmd_postfix": ") ",
     "delete_cmd_prefix": "rm(",
     "library": "var_list.r",
     "varRefreshCmd": "cat(var_dic_list()) "
    }
   },
   "types_to_exclude": [
    "module",
    "function",
    "builtin_function_or_method",
    "instance",
    "_Feature"
   ],
   "window_display": false
  }
 },
 "nbformat": 4,
 "nbformat_minor": 2
}
