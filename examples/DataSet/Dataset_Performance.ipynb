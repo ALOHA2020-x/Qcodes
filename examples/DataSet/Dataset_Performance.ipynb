{
 "cells": [
  {
   "cell_type": "markdown",
   "metadata": {},
   "source": [
    "# DataSet Performance\n",
    "\n",
    "This notebook shows the trade-off between inserting data into a database row-by-row and as binary blobs. Inserting the data row-by-row means that we have direct access to all the data and may perform queries directly on the values of the data. On the other hand, as we shall see, this is much slower than inserting the data directly as binary blobs."
   ]
  },
  {
   "cell_type": "markdown",
   "metadata": {},
   "source": [
    "First, we choose a new location for the database to ensure that we don't add a bunch of benchmarking data to the default one."
   ]
  },
  {
   "cell_type": "code",
   "execution_count": 1,
   "metadata": {
    "execution": {
     "iopub.execute_input": "2020-10-01T07:32:34.165118Z",
     "iopub.status.busy": "2020-10-01T07:32:34.164539Z",
     "iopub.status.idle": "2020-10-01T07:32:35.279425Z",
     "shell.execute_reply": "2020-10-01T07:32:35.279939Z"
    }
   },
   "outputs": [
    {
     "name": "stdout",
     "output_type": "stream",
     "text": [
      "Logging hadn't been started.\n",
      "Activating auto-logging. Current session state plus future input saved.\n",
      "Filename       : /home/vsts/.qcodes/logs/command_history.log\n",
      "Mode           : append\n",
      "Output logging : True\n",
      "Raw input log  : False\n",
      "Timestamping   : True\n",
      "State          : active\n"
     ]
    },
    {
     "name": "stdout",
     "output_type": "stream",
     "text": [
      "Qcodes Logfile : /home/vsts/.qcodes/logs/201001-18846-qcodes.log\n"
     ]
    }
   ],
   "source": [
    "import os\n",
    "cwd = os.getcwd()\n",
    "import qcodes as qc\n",
    "qc.config[\"core\"][\"db_location\"] = os.path.join(cwd, 'testing.db')\n"
   ]
  },
  {
   "cell_type": "code",
   "execution_count": 2,
   "metadata": {
    "execution": {
     "iopub.execute_input": "2020-10-01T07:32:35.286968Z",
     "iopub.status.busy": "2020-10-01T07:32:35.286280Z",
     "iopub.status.idle": "2020-10-01T07:32:35.478966Z",
     "shell.execute_reply": "2020-10-01T07:32:35.478052Z"
    }
   },
   "outputs": [],
   "source": [
    "%matplotlib inline\n",
    "import time\n",
    "import matplotlib.pyplot as plt\n",
    "import numpy as np\n",
    "\n",
    "import qcodes as qc\n",
    "from qcodes.instrument.parameter import ManualParameter\n",
    "from qcodes.dataset.experiment_container import (Experiment,\n",
    "                                                 load_last_experiment,\n",
    "                                                 new_experiment)\n",
    "from qcodes.dataset.sqlite.database import initialise_database\n",
    "from qcodes import load_or_create_experiment\n",
    "from qcodes.dataset.measurements import Measurement"
   ]
  },
  {
   "cell_type": "code",
   "execution_count": 3,
   "metadata": {
    "execution": {
     "iopub.execute_input": "2020-10-01T07:32:35.482368Z",
     "iopub.status.busy": "2020-10-01T07:32:35.481480Z",
     "iopub.status.idle": "2020-10-01T07:32:35.601574Z",
     "shell.execute_reply": "2020-10-01T07:32:35.600782Z"
    }
   },
   "outputs": [
    {
     "name": "stdout",
     "output_type": "stream",
     "text": [
      "\r",
      "0it [00:00, ?it/s]"
     ]
    },
    {
     "name": "stdout",
     "output_type": "stream",
     "text": [
      "\r",
      "Upgrading database; v0 -> v1: : 0it [00:00, ?it/s]"
     ]
    },
    {
     "name": "stdout",
     "output_type": "stream",
     "text": [
      "\r",
      "Upgrading database; v0 -> v1: : 0it [00:00, ?it/s]"
     ]
    },
    {
     "name": "stdout",
     "output_type": "stream",
     "text": [
      "\n",
      "\r",
      "  0%|          | 0/1 [00:00<?, ?it/s]"
     ]
    },
    {
     "name": "stdout",
     "output_type": "stream",
     "text": [
      "\r",
      "Upgrading database; v1 -> v2:   0%|          | 0/1 [00:00<?, ?it/s]"
     ]
    },
    {
     "name": "stdout",
     "output_type": "stream",
     "text": [
      "\r",
      "Upgrading database; v1 -> v2: 100%|██████████| 1/1 [00:00<00:00, 535.19it/s]"
     ]
    },
    {
     "name": "stdout",
     "output_type": "stream",
     "text": [
      "\n",
      "\r",
      "0it [00:00, ?it/s]"
     ]
    },
    {
     "name": "stdout",
     "output_type": "stream",
     "text": [
      "\r",
      "Upgrading database; v2 -> v3: : 0it [00:00, ?it/s]"
     ]
    },
    {
     "name": "stdout",
     "output_type": "stream",
     "text": [
      "\r",
      "Upgrading database; v2 -> v3: : 0it [00:00, ?it/s]"
     ]
    },
    {
     "name": "stdout",
     "output_type": "stream",
     "text": [
      "\n",
      "\r",
      "0it [00:00, ?it/s]"
     ]
    },
    {
     "name": "stdout",
     "output_type": "stream",
     "text": [
      "\r",
      "Upgrading database; v3 -> v4: : 0it [00:00, ?it/s]"
     ]
    },
    {
     "name": "stdout",
     "output_type": "stream",
     "text": [
      "\r",
      "Upgrading database; v3 -> v4: : 0it [00:00, ?it/s]"
     ]
    },
    {
     "name": "stdout",
     "output_type": "stream",
     "text": [
      "\n",
      "\r",
      "  0%|          | 0/1 [00:00<?, ?it/s]"
     ]
    },
    {
     "name": "stdout",
     "output_type": "stream",
     "text": [
      "\r",
      "Upgrading database; v4 -> v5:   0%|          | 0/1 [00:00<?, ?it/s]"
     ]
    },
    {
     "name": "stdout",
     "output_type": "stream",
     "text": [
      "\r",
      "Upgrading database; v4 -> v5: 100%|██████████| 1/1 [00:00<00:00, 381.51it/s]"
     ]
    },
    {
     "name": "stdout",
     "output_type": "stream",
     "text": [
      "\n",
      "\r",
      "0it [00:00, ?it/s]"
     ]
    },
    {
     "name": "stdout",
     "output_type": "stream",
     "text": [
      "\r",
      "Upgrading database; v5 -> v6: : 0it [00:00, ?it/s]"
     ]
    },
    {
     "name": "stdout",
     "output_type": "stream",
     "text": [
      "\r",
      "Upgrading database; v5 -> v6: : 0it [00:00, ?it/s]"
     ]
    },
    {
     "name": "stdout",
     "output_type": "stream",
     "text": [
      "\n",
      "\r",
      "  0%|          | 0/1 [00:00<?, ?it/s]"
     ]
    },
    {
     "name": "stdout",
     "output_type": "stream",
     "text": [
      "\r",
      "Upgrading database; v6 -> v7:   0%|          | 0/1 [00:00<?, ?it/s]"
     ]
    },
    {
     "name": "stdout",
     "output_type": "stream",
     "text": [
      "\r",
      "Upgrading database; v6 -> v7: 100%|██████████| 1/1 [00:00<00:00, 194.22it/s]"
     ]
    },
    {
     "name": "stdout",
     "output_type": "stream",
     "text": [
      "\n",
      "\r",
      "  0%|          | 0/1 [00:00<?, ?it/s]"
     ]
    },
    {
     "name": "stdout",
     "output_type": "stream",
     "text": [
      "\r",
      "Upgrading database; v7 -> v8:   0%|          | 0/1 [00:00<?, ?it/s]"
     ]
    },
    {
     "name": "stdout",
     "output_type": "stream",
     "text": [
      "\r",
      "Upgrading database; v7 -> v8: 100%|██████████| 1/1 [00:00<00:00, 647.97it/s]"
     ]
    },
    {
     "name": "stdout",
     "output_type": "stream",
     "text": [
      "\n",
      "\r",
      "  0%|          | 0/1 [00:00<?, ?it/s]"
     ]
    },
    {
     "name": "stdout",
     "output_type": "stream",
     "text": [
      "\r",
      "Upgrading database; v8 -> v9:   0%|          | 0/1 [00:00<?, ?it/s]"
     ]
    },
    {
     "name": "stdout",
     "output_type": "stream",
     "text": [
      "\r",
      "Upgrading database; v8 -> v9: 100%|██████████| 1/1 [00:00<00:00, 316.10it/s]"
     ]
    },
    {
     "name": "stdout",
     "output_type": "stream",
     "text": [
      "\n"
     ]
    }
   ],
   "source": [
    "initialise_database()\n",
    "exp = load_or_create_experiment(experiment_name='tutorial_exp', sample_name=\"no sample\")"
   ]
  },
  {
   "cell_type": "markdown",
   "metadata": {},
   "source": [
    "Here, we define a simple function to benchmark the time it takes to insert n points with either numeric or array data type.\n",
    "We will compare both the time used to call ``add_result`` and the time used for the full measurement."
   ]
  },
  {
   "cell_type": "code",
   "execution_count": 4,
   "metadata": {
    "execution": {
     "iopub.execute_input": "2020-10-01T07:32:35.610904Z",
     "iopub.status.busy": "2020-10-01T07:32:35.610007Z",
     "iopub.status.idle": "2020-10-01T07:32:35.614674Z",
     "shell.execute_reply": "2020-10-01T07:32:35.613852Z"
    }
   },
   "outputs": [],
   "source": [
    "def insert_data(paramtype, npoints, nreps=1):\n",
    "\n",
    "    meas = Measurement(exp=exp)\n",
    "\n",
    "    x1 = ManualParameter('x1')\n",
    "    x2 = ManualParameter('x2')\n",
    "    x3 = ManualParameter('x3')\n",
    "    y1 = ManualParameter('y1')\n",
    "    y2 = ManualParameter('y2')\n",
    "\n",
    "    meas.register_parameter(x1, paramtype=paramtype)\n",
    "    meas.register_parameter(x2, paramtype=paramtype)\n",
    "    meas.register_parameter(x3, paramtype=paramtype)\n",
    "    meas.register_parameter(y1, setpoints=[x1, x2, x3],\n",
    "                            paramtype=paramtype)\n",
    "    meas.register_parameter(y2, setpoints=[x1, x2, x3],\n",
    "                            paramtype=paramtype)\n",
    "    start = time.perf_counter()\n",
    "    with meas.run() as datasaver:\n",
    "        start_adding = time.perf_counter()\n",
    "        for i in range(nreps):\n",
    "            datasaver.add_result((x1, np.random.rand(npoints)),\n",
    "                                 (x2, np.random.rand(npoints)),\n",
    "                                 (x3, np.random.rand(npoints)),\n",
    "                                 (y1, np.random.rand(npoints)),\n",
    "                                 (y2, np.random.rand(npoints)))\n",
    "        stop_adding = time.perf_counter()\n",
    "        run_id = datasaver.run_id\n",
    "    stop = time.perf_counter()\n",
    "    tot_time = stop - start\n",
    "    add_time = stop_adding - start_adding\n",
    "    return tot_time, add_time, run_id"
   ]
  },
  {
   "cell_type": "markdown",
   "metadata": {},
   "source": [
    "## Comparison between numeric/array data and binary blob"
   ]
  },
  {
   "cell_type": "markdown",
   "metadata": {},
   "source": [
    "### Case1: Short experiment time"
   ]
  },
  {
   "cell_type": "code",
   "execution_count": 5,
   "metadata": {
    "execution": {
     "iopub.execute_input": "2020-10-01T07:32:35.621536Z",
     "iopub.status.busy": "2020-10-01T07:32:35.620248Z",
     "iopub.status.idle": "2020-10-01T07:32:36.488001Z",
     "shell.execute_reply": "2020-10-01T07:32:36.488751Z"
    }
   },
   "outputs": [
    {
     "name": "stdout",
     "output_type": "stream",
     "text": [
      "Starting experimental run with id: 1. \n",
      "Starting experimental run with id: 2. \n",
      "Starting experimental run with id: 3. \n",
      "Starting experimental run with id: 4. \n",
      "Starting experimental run with id: 5. \n"
     ]
    },
    {
     "name": "stdout",
     "output_type": "stream",
     "text": [
      "Starting experimental run with id: 6. \n"
     ]
    },
    {
     "name": "stdout",
     "output_type": "stream",
     "text": [
      "Starting experimental run with id: 7. \n"
     ]
    },
    {
     "name": "stdout",
     "output_type": "stream",
     "text": [
      "Starting experimental run with id: 8. \n",
      "Starting experimental run with id: 9. \n"
     ]
    },
    {
     "name": "stdout",
     "output_type": "stream",
     "text": [
      "Starting experimental run with id: 10. \n",
      "Starting experimental run with id: 11. \n"
     ]
    },
    {
     "name": "stdout",
     "output_type": "stream",
     "text": [
      "Starting experimental run with id: 12. \n",
      "Starting experimental run with id: 13. \n"
     ]
    },
    {
     "name": "stdout",
     "output_type": "stream",
     "text": [
      "Starting experimental run with id: 14. \n"
     ]
    }
   ],
   "source": [
    "sizes = [1,500,1000,2000,3000,4000,5000]\n",
    "t_numeric = []\n",
    "t_numeric_add = []\n",
    "t_array = []\n",
    "t_array_add = []\n",
    "for size in sizes:\n",
    "    tn, tna, run_id_n =  insert_data('numeric', size)\n",
    "    t_numeric.append(tn)\n",
    "    t_numeric_add.append(tna)\n",
    "\n",
    "    ta, taa, run_id_a =  insert_data('array', size)\n",
    "    t_array.append(ta)\n",
    "    t_array_add.append(taa)"
   ]
  },
  {
   "cell_type": "code",
   "execution_count": 6,
   "metadata": {
    "execution": {
     "iopub.execute_input": "2020-10-01T07:32:36.507642Z",
     "iopub.status.busy": "2020-10-01T07:32:36.505057Z",
     "iopub.status.idle": "2020-10-01T07:32:36.720427Z",
     "shell.execute_reply": "2020-10-01T07:32:36.719508Z"
    }
   },
   "outputs": [
    {
     "data": {
      "image/png": "[encoded data removed]",
      "text/plain": [
       "<Figure size 432x288 with 1 Axes>"
      ]
     },
     "metadata": {
      "needs_background": "light"
     },
     "output_type": "display_data"
    }
   ],
   "source": [
    "fig, ax = plt.subplots(1,1)\n",
    "ax.plot(sizes, t_numeric, 'o-', label='Inserting row-by-row')\n",
    "ax.plot(sizes, t_numeric_add, 'o-', label='Inserting row-by-row: add_result only')\n",
    "ax.plot(sizes, t_array, 'd-', label='Inserting as binary blob')\n",
    "ax.plot(sizes, t_array_add, 'd-', label='Inserting as binary blob: add_result only')\n",
    "ax.legend()\n",
    "ax.set_xlabel('Array length')\n",
    "ax.set_ylabel('Time (s)')\n",
    "fig.tight_layout()"
   ]
  },
  {
   "cell_type": "markdown",
   "metadata": {},
   "source": [
    "As shown in the latter figure, the time to setup and and close the experiment is approximately 0.4 sec. In case of small array sizes, the difference between inserting values of data as arrays and inserting them row-by-row is relatively unimportant. At larger array sizes, i.e. above 10000 points, the cost of writing data as individual datapoints starts to become important.\n"
   ]
  },
  {
   "cell_type": "markdown",
   "metadata": {},
   "source": [
    "### Case2: Long experiment time "
   ]
  },
  {
   "cell_type": "code",
   "execution_count": 7,
   "metadata": {
    "execution": {
     "iopub.execute_input": "2020-10-01T07:32:36.727784Z",
     "iopub.status.busy": "2020-10-01T07:32:36.726661Z",
     "iopub.status.idle": "2020-10-01T07:33:37.393966Z",
     "shell.execute_reply": "2020-10-01T07:33:37.393025Z"
    }
   },
   "outputs": [
    {
     "name": "stdout",
     "output_type": "stream",
     "text": [
      "Starting experimental run with id: 15. \n",
      "Starting experimental run with id: 16. \n",
      "Starting experimental run with id: 17. \n"
     ]
    },
    {
     "name": "stdout",
     "output_type": "stream",
     "text": [
      "Starting experimental run with id: 18. \n",
      "Starting experimental run with id: 19. \n"
     ]
    },
    {
     "name": "stdout",
     "output_type": "stream",
     "text": [
      "Starting experimental run with id: 20. \n"
     ]
    },
    {
     "name": "stdout",
     "output_type": "stream",
     "text": [
      "Starting experimental run with id: 21. \n"
     ]
    },
    {
     "name": "stdout",
     "output_type": "stream",
     "text": [
      "Starting experimental run with id: 22. \n"
     ]
    },
    {
     "name": "stdout",
     "output_type": "stream",
     "text": [
      "Starting experimental run with id: 23. \n"
     ]
    },
    {
     "name": "stdout",
     "output_type": "stream",
     "text": [
      "Starting experimental run with id: 24. \n"
     ]
    },
    {
     "name": "stdout",
     "output_type": "stream",
     "text": [
      "Starting experimental run with id: 25. \n"
     ]
    },
    {
     "name": "stdout",
     "output_type": "stream",
     "text": [
      "Starting experimental run with id: 26. \n"
     ]
    },
    {
     "name": "stdout",
     "output_type": "stream",
     "text": [
      "Starting experimental run with id: 27. \n"
     ]
    },
    {
     "name": "stdout",
     "output_type": "stream",
     "text": [
      "Starting experimental run with id: 28. \n"
     ]
    }
   ],
   "source": [
    "sizes = [1,500,1000,2000,3000,4000,5000]\n",
    "nreps = 100\n",
    "t_numeric = []\n",
    "t_numeric_add = []\n",
    "t_numeric_run_ids = []\n",
    "t_array = []\n",
    "t_array_add = []\n",
    "t_array_run_ids = []\n",
    "for size in sizes:\n",
    "    tn, tna, run_id_n =  insert_data('numeric', size, nreps=nreps)\n",
    "    t_numeric.append(tn)\n",
    "    t_numeric_add.append(tna)\n",
    "    t_numeric_run_ids.append(run_id_n)\n",
    "\n",
    "    ta, taa, run_id_a =  insert_data('array', size, nreps=nreps)\n",
    "    t_array.append(ta)\n",
    "    t_array_add.append(taa)\n",
    "    t_array_run_ids.append(run_id_a)"
   ]
  },
  {
   "cell_type": "code",
   "execution_count": 8,
   "metadata": {
    "execution": {
     "iopub.execute_input": "2020-10-01T07:33:37.415876Z",
     "iopub.status.busy": "2020-10-01T07:33:37.414448Z",
     "iopub.status.idle": "2020-10-01T07:33:37.635053Z",
     "shell.execute_reply": "2020-10-01T07:33:37.635709Z"
    },
    "scrolled": true
   },
   "outputs": [
    {
     "data": {
      "image/png": "[encoded data removed]",
      "text/plain": [
       "<Figure size 432x288 with 1 Axes>"
      ]
     },
     "metadata": {
      "needs_background": "light"
     },
     "output_type": "display_data"
    }
   ],
   "source": [
    "fig, ax = plt.subplots(1,1)\n",
    "ax.plot(sizes, t_numeric, 'o-', label='Inserting row-by-row')\n",
    "ax.plot(sizes, t_numeric_add, 'o-', label='Inserting row-by-row: add_result only')\n",
    "ax.plot(sizes, t_array, 'd-', label='Inserting as binary blob')\n",
    "ax.plot(sizes, t_array_add, 'd-', label='Inserting as binary blob: add_result only')\n",
    "ax.legend()\n",
    "ax.set_xlabel('Array length')\n",
    "ax.set_ylabel('Time (s)')\n",
    "fig.tight_layout()"
   ]
  },
  {
   "cell_type": "markdown",
   "metadata": {},
   "source": [
    "However, as we increase the length of the experiment, as seen here by repeating the insertion 100 times, we see a big difference between inserting values of the data row-by-row and inserting it as a binary blob."
   ]
  },
  {
   "cell_type": "markdown",
   "metadata": {},
   "source": [
    "## Loading the data "
   ]
  },
  {
   "cell_type": "code",
   "execution_count": 9,
   "metadata": {
    "execution": {
     "iopub.execute_input": "2020-10-01T07:33:37.641359Z",
     "iopub.status.busy": "2020-10-01T07:33:37.640760Z",
     "iopub.status.idle": "2020-10-01T07:33:37.644809Z",
     "shell.execute_reply": "2020-10-01T07:33:37.644187Z"
    }
   },
   "outputs": [],
   "source": [
    "from qcodes.dataset.data_set import load_by_id\n",
    "from qcodes.dataset.data_export import get_data_by_id"
   ]
  },
  {
   "cell_type": "markdown",
   "metadata": {},
   "source": [
    "As usual you can load the data by using the ``load_by_id`` function but you will notice that the different storage methods\n",
    "are reflected in shape of the data as it is retrieved. "
   ]
  },
  {
   "cell_type": "code",
   "execution_count": 10,
   "metadata": {
    "execution": {
     "iopub.execute_input": "2020-10-01T07:33:37.648950Z",
     "iopub.status.busy": "2020-10-01T07:33:37.648357Z",
     "iopub.status.idle": "2020-10-01T07:33:37.651845Z",
     "shell.execute_reply": "2020-10-01T07:33:37.652427Z"
    }
   },
   "outputs": [],
   "source": [
    "run_id_n = t_numeric_run_ids[0]\n",
    "run_id_a = t_array_run_ids[0]"
   ]
  },
  {
   "cell_type": "code",
   "execution_count": 11,
   "metadata": {
    "execution": {
     "iopub.execute_input": "2020-10-01T07:33:37.656460Z",
     "iopub.status.busy": "2020-10-01T07:33:37.655865Z",
     "iopub.status.idle": "2020-10-01T07:33:37.668093Z",
     "shell.execute_reply": "2020-10-01T07:33:37.668588Z"
    },
    "scrolled": true
   },
   "outputs": [
    {
     "data": {
      "text/plain": [
       "{'x1': {'x1': array([0.36438254, 0.36438254, 0.40074118, 0.40074118, 0.37056748,\n",
       "         0.37056748, 0.80719726, 0.80719726, 0.58455673, 0.58455673,\n",
       "         0.60833051, 0.60833051, 0.24407076, 0.24407076, 0.06257005,\n",
       "         0.06257005, 0.44821347, 0.44821347, 0.28630548, 0.28630548,\n",
       "         0.7896721 , 0.7896721 , 0.97226071, 0.97226071, 0.37801259,\n",
       "         0.37801259, 0.19654182, 0.19654182, 0.09643174, 0.09643174,\n",
       "         0.71491006, 0.71491006, 0.37927713, 0.37927713, 0.92073508,\n",
       "         0.92073508, 0.95089677, 0.95089677, 0.54795371, 0.54795371,\n",
       "         0.83921078, 0.83921078, 0.70704104, 0.70704104, 0.15122439,\n",
       "         0.15122439, 0.13183176, 0.13183176, 0.94174784, 0.94174784,\n",
       "         0.56968008, 0.56968008, 0.66927258, 0.66927258, 0.35789371,\n",
       "         0.35789371, 0.07775099, 0.07775099, 0.80658416, 0.80658416,\n",
       "         0.11494646, 0.11494646, 0.62648976, 0.62648976, 0.16634925,\n",
       "         0.16634925, 0.94208365, 0.94208365, 0.68426544, 0.68426544,\n",
       "         0.28034836, 0.28034836, 0.62169135, 0.62169135, 0.61062285,\n",
       "         0.61062285, 0.40096542, 0.40096542, 0.627332  , 0.627332  ,\n",
       "         0.22464066, 0.22464066, 0.72242321, 0.72242321, 0.41608225,\n",
       "         0.41608225, 0.27303572, 0.27303572, 0.05704852, 0.05704852,\n",
       "         0.70060777, 0.70060777, 0.53116318, 0.53116318, 0.81844062,\n",
       "         0.81844062, 0.18569988, 0.18569988, 0.81468916, 0.81468916,\n",
       "         0.84037007, 0.84037007, 0.15263319, 0.15263319, 0.80419175,\n",
       "         0.80419175, 0.16541399, 0.16541399, 0.16694211, 0.16694211,\n",
       "         0.83885973, 0.83885973, 0.39176832, 0.39176832, 0.50378152,\n",
       "         0.50378152, 0.5005416 , 0.5005416 , 0.10779091, 0.10779091,\n",
       "         0.98059549, 0.98059549, 0.55143018, 0.55143018, 0.63886252,\n",
       "         0.63886252, 0.9585417 , 0.9585417 , 0.83709663, 0.83709663,\n",
       "         0.29468424, 0.29468424, 0.71942418, 0.71942418, 0.3501786 ,\n",
       "         0.3501786 , 0.83810228, 0.83810228, 0.63296748, 0.63296748,\n",
       "         0.78142412, 0.78142412, 0.92372492, 0.92372492, 0.80041772,\n",
       "         0.80041772, 0.98960313, 0.98960313, 0.71345541, 0.71345541,\n",
       "         0.94092382, 0.94092382, 0.83490536, 0.83490536, 0.01991025,\n",
       "         0.01991025, 0.4277135 , 0.4277135 , 0.33011374, 0.33011374,\n",
       "         0.98829249, 0.98829249, 0.19162879, 0.19162879, 0.06100208,\n",
       "         0.06100208, 0.51405374, 0.51405374, 0.44670962, 0.44670962,\n",
       "         0.47797627, 0.47797627, 0.94698882, 0.94698882, 0.99115554,\n",
       "         0.99115554, 0.83165062, 0.83165062, 0.48676056, 0.48676056,\n",
       "         0.77659382, 0.77659382, 0.1890247 , 0.1890247 , 0.44752681,\n",
       "         0.44752681, 0.90809706, 0.90809706, 0.40187022, 0.40187022,\n",
       "         0.38855786, 0.38855786, 0.84638425, 0.84638425, 0.18745768,\n",
       "         0.18745768, 0.37212248, 0.37212248, 0.5860802 , 0.5860802 ])}}"
      ]
     },
     "execution_count": 1,
     "metadata": {},
     "output_type": "execute_result"
    }
   ],
   "source": [
    "ds = load_by_id(run_id_n)\n",
    "ds.get_parameter_data('x1')"
   ]
  },
  {
   "cell_type": "markdown",
   "metadata": {},
   "source": [
    "And a dataset stored as binary arrays"
   ]
  },
  {
   "cell_type": "code",
   "execution_count": 12,
   "metadata": {
    "execution": {
     "iopub.execute_input": "2020-10-01T07:33:37.672817Z",
     "iopub.status.busy": "2020-10-01T07:33:37.672225Z",
     "iopub.status.idle": "2020-10-01T07:33:37.739180Z",
     "shell.execute_reply": "2020-10-01T07:33:37.739805Z"
    },
    "scrolled": true
   },
   "outputs": [
    {
     "data": {
      "text/plain": [
       "{'x1': {'x1': array([[0.04475938],\n",
       "         [0.04475938],\n",
       "         [0.46463307],\n",
       "         [0.46463307],\n",
       "         [0.60740149],\n",
       "         [0.60740149],\n",
       "         [0.00972627],\n",
       "         [0.00972627],\n",
       "         [0.21784135],\n",
       "         [0.21784135],\n",
       "         [0.81190885],\n",
       "         [0.81190885],\n",
       "         [0.13212334],\n",
       "         [0.13212334],\n",
       "         [0.60665879],\n",
       "         [0.60665879],\n",
       "         [0.91137102],\n",
       "         [0.91137102],\n",
       "         [0.34903479],\n",
       "         [0.34903479],\n",
       "         [0.06297194],\n",
       "         [0.06297194],\n",
       "         [0.4552287 ],\n",
       "         [0.4552287 ],\n",
       "         [0.3622974 ],\n",
       "         [0.3622974 ],\n",
       "         [0.82094029],\n",
       "         [0.82094029],\n",
       "         [0.48087091],\n",
       "         [0.48087091],\n",
       "         [0.66987315],\n",
       "         [0.66987315],\n",
       "         [0.75303499],\n",
       "         [0.75303499],\n",
       "         [0.18547744],\n",
       "         [0.18547744],\n",
       "         [0.74466259],\n",
       "         [0.74466259],\n",
       "         [0.07264238],\n",
       "         [0.07264238],\n",
       "         [0.65471487],\n",
       "         [0.65471487],\n",
       "         [0.03190646],\n",
       "         [0.03190646],\n",
       "         [0.41496025],\n",
       "         [0.41496025],\n",
       "         [0.60453767],\n",
       "         [0.60453767],\n",
       "         [0.78375464],\n",
       "         [0.78375464],\n",
       "         [0.43572775],\n",
       "         [0.43572775],\n",
       "         [0.78771524],\n",
       "         [0.78771524],\n",
       "         [0.34472028],\n",
       "         [0.34472028],\n",
       "         [0.64468625],\n",
       "         [0.64468625],\n",
       "         [0.60558193],\n",
       "         [0.60558193],\n",
       "         [0.75050664],\n",
       "         [0.75050664],\n",
       "         [0.54713824],\n",
       "         [0.54713824],\n",
       "         [0.01417922],\n",
       "         [0.01417922],\n",
       "         [0.26254811],\n",
       "         [0.26254811],\n",
       "         [0.64090273],\n",
       "         [0.64090273],\n",
       "         [0.61061993],\n",
       "         [0.61061993],\n",
       "         [0.14799913],\n",
       "         [0.14799913],\n",
       "         [0.07065299],\n",
       "         [0.07065299],\n",
       "         [0.74118306],\n",
       "         [0.74118306],\n",
       "         [0.78932125],\n",
       "         [0.78932125],\n",
       "         [0.15489645],\n",
       "         [0.15489645],\n",
       "         [0.60945192],\n",
       "         [0.60945192],\n",
       "         [0.99984487],\n",
       "         [0.99984487],\n",
       "         [0.23406211],\n",
       "         [0.23406211],\n",
       "         [0.02809251],\n",
       "         [0.02809251],\n",
       "         [0.37309611],\n",
       "         [0.37309611],\n",
       "         [0.50123085],\n",
       "         [0.50123085],\n",
       "         [0.54375377],\n",
       "         [0.54375377],\n",
       "         [0.91999796],\n",
       "         [0.91999796],\n",
       "         [0.91290622],\n",
       "         [0.91290622],\n",
       "         [0.18326215],\n",
       "         [0.18326215],\n",
       "         [0.59366698],\n",
       "         [0.59366698],\n",
       "         [0.57346048],\n",
       "         [0.57346048],\n",
       "         [0.42538529],\n",
       "         [0.42538529],\n",
       "         [0.17894526],\n",
       "         [0.17894526],\n",
       "         [0.67159871],\n",
       "         [0.67159871],\n",
       "         [0.3202453 ],\n",
       "         [0.3202453 ],\n",
       "         [0.79601307],\n",
       "         [0.79601307],\n",
       "         [0.6497144 ],\n",
       "         [0.6497144 ],\n",
       "         [0.55922583],\n",
       "         [0.55922583],\n",
       "         [0.98898075],\n",
       "         [0.98898075],\n",
       "         [0.62990697],\n",
       "         [0.62990697],\n",
       "         [0.79845491],\n",
       "         [0.79845491],\n",
       "         [0.84118157],\n",
       "         [0.84118157],\n",
       "         [0.7430852 ],\n",
       "         [0.7430852 ],\n",
       "         [0.24672499],\n",
       "         [0.24672499],\n",
       "         [0.44992043],\n",
       "         [0.44992043],\n",
       "         [0.44239186],\n",
       "         [0.44239186],\n",
       "         [0.28272933],\n",
       "         [0.28272933],\n",
       "         [0.0127957 ],\n",
       "         [0.0127957 ],\n",
       "         [0.36657411],\n",
       "         [0.36657411],\n",
       "         [0.94086712],\n",
       "         [0.94086712],\n",
       "         [0.18880434],\n",
       "         [0.18880434],\n",
       "         [0.48231387],\n",
       "         [0.48231387],\n",
       "         [0.16500539],\n",
       "         [0.16500539],\n",
       "         [0.87937096],\n",
       "         [0.87937096],\n",
       "         [0.54114251],\n",
       "         [0.54114251],\n",
       "         [0.93444708],\n",
       "         [0.93444708],\n",
       "         [0.95087473],\n",
       "         [0.95087473],\n",
       "         [0.14664451],\n",
       "         [0.14664451],\n",
       "         [0.79159863],\n",
       "         [0.79159863],\n",
       "         [0.61716237],\n",
       "         [0.61716237],\n",
       "         [0.96008398],\n",
       "         [0.96008398],\n",
       "         [0.42701828],\n",
       "         [0.42701828],\n",
       "         [0.80208096],\n",
       "         [0.80208096],\n",
       "         [0.70760943],\n",
       "         [0.70760943],\n",
       "         [0.13095909],\n",
       "         [0.13095909],\n",
       "         [0.41982692],\n",
       "         [0.41982692],\n",
       "         [0.86826087],\n",
       "         [0.86826087],\n",
       "         [0.05700815],\n",
       "         [0.05700815],\n",
       "         [0.73183224],\n",
       "         [0.73183224],\n",
       "         [0.70111242],\n",
       "         [0.70111242],\n",
       "         [0.11107746],\n",
       "         [0.11107746],\n",
       "         [0.9126434 ],\n",
       "         [0.9126434 ],\n",
       "         [0.91112659],\n",
       "         [0.91112659],\n",
       "         [0.3297179 ],\n",
       "         [0.3297179 ],\n",
       "         [0.35392823],\n",
       "         [0.35392823],\n",
       "         [0.83456634],\n",
       "         [0.83456634],\n",
       "         [0.00492347],\n",
       "         [0.00492347],\n",
       "         [0.8874455 ],\n",
       "         [0.8874455 ]])}}"
      ]
     },
     "execution_count": 1,
     "metadata": {},
     "output_type": "execute_result"
    }
   ],
   "source": [
    "ds = load_by_id(run_id_a)\n",
    "ds.get_parameter_data('x1')"
   ]
  },
  {
   "cell_type": "code",
   "execution_count": null,
   "metadata": {},
   "outputs": [],
   "source": []
  }
 ],
 "metadata": {
  "kernelspec": {
   "display_name": "Python 3",
   "language": "python",
   "name": "python3"
  },
  "language_info": {
   "codemirror_mode": {
    "name": "ipython",
    "version": 3
   },
   "file_extension": ".py",
   "mimetype": "text/x-python",
   "name": "python",
   "nbconvert_exporter": "python",
   "pygments_lexer": "ipython3",
   "version": "3.7.7"
  },
  "nbsphinx": {
   "timeout": 600
  },
  "toc": {
   "base_numbering": 1,
   "nav_menu": {},
   "number_sections": true,
   "sideBar": true,
   "skip_h1_title": false,
   "title_cell": "Table of Contents",
   "title_sidebar": "Contents",
   "toc_cell": false,
   "toc_position": {},
   "toc_section_display": true,
   "toc_window_display": false
  },
  "varInspector": {
   "cols": {
    "lenName": 16,
    "lenType": 16,
    "lenVar": 40
   },
   "kernels_config": {
    "python": {
     "delete_cmd_postfix": "",
     "delete_cmd_prefix": "del ",
     "library": "var_list.py",
     "varRefreshCmd": "print(var_dic_list())"
    },
    "r": {
     "delete_cmd_postfix": ") ",
     "delete_cmd_prefix": "rm(",
     "library": "var_list.r",
     "varRefreshCmd": "cat(var_dic_list()) "
    }
   },
   "types_to_exclude": [
    "module",
    "function",
    "builtin_function_or_method",
    "instance",
    "_Feature"
   ],
   "window_display": false
  }
 },
 "nbformat": 4,
 "nbformat_minor": 2
}
