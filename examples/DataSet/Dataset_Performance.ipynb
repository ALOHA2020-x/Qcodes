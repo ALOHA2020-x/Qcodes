{
 "cells": [
  {
   "cell_type": "markdown",
   "metadata": {},
   "source": [
    "# DataSet Performance\n",
    "\n",
    "This notebook shows the trade-off between inserting data into a database row-by-row and as binary blobs. Inserting the data row-by-row means that we have direct access to all the data and may perform queries directly on the values of the data. On the other hand, as we shall see, this is much slower than inserting the data directly as binary blobs."
   ]
  },
  {
   "cell_type": "markdown",
   "metadata": {},
   "source": [
    "First, we choose a new location for the database to ensure that we don't add a bunch of benchmarking data to the default one."
   ]
  },
  {
   "cell_type": "code",
   "execution_count": 1,
   "metadata": {
    "execution": {
     "iopub.execute_input": "2021-03-16T07:30:28.293931Z",
     "iopub.status.busy": "2021-03-16T07:30:28.293305Z",
     "iopub.status.idle": "2021-03-16T07:30:29.259423Z",
     "shell.execute_reply": "2021-03-16T07:30:29.258774Z"
    }
   },
   "outputs": [
    {
     "name": "stdout",
     "output_type": "stream",
     "text": [
      "Logging hadn't been started.\n",
      "Activating auto-logging. Current session state plus future input saved.\n",
      "Filename       : /home/runner/.qcodes/logs/command_history.log\n",
      "Mode           : append\n",
      "Output logging : True\n",
      "Raw input log  : False\n",
      "Timestamping   : True\n",
      "State          : active\n"
     ]
    },
    {
     "name": "stdout",
     "output_type": "stream",
     "text": [
      "Qcodes Logfile : /home/runner/.qcodes/logs/210316-4135-qcodes.log\n"
     ]
    }
   ],
   "source": [
    "import os\n",
    "cwd = os.getcwd()\n",
    "import qcodes as qc\n",
    "qc.config[\"core\"][\"db_location\"] = os.path.join(cwd, 'testing.db')\n"
   ]
  },
  {
   "cell_type": "code",
   "execution_count": 2,
   "metadata": {
    "execution": {
     "iopub.execute_input": "2021-03-16T07:30:29.265551Z",
     "iopub.status.busy": "2021-03-16T07:30:29.264369Z",
     "iopub.status.idle": "2021-03-16T07:30:29.472383Z",
     "shell.execute_reply": "2021-03-16T07:30:29.471770Z"
    }
   },
   "outputs": [],
   "source": [
    "%matplotlib inline\n",
    "import time\n",
    "import matplotlib.pyplot as plt\n",
    "import numpy as np\n",
    "\n",
    "import qcodes as qc\n",
    "from qcodes.instrument.parameter import ManualParameter\n",
    "from qcodes.dataset.experiment_container import (Experiment,\n",
    "                                                 load_last_experiment,\n",
    "                                                 new_experiment)\n",
    "from qcodes.dataset.sqlite.database import initialise_database\n",
    "from qcodes import load_or_create_experiment\n",
    "from qcodes.dataset.measurements import Measurement"
   ]
  },
  {
   "cell_type": "code",
   "execution_count": 3,
   "metadata": {
    "execution": {
     "iopub.execute_input": "2021-03-16T07:30:29.476821Z",
     "iopub.status.busy": "2021-03-16T07:30:29.476113Z",
     "iopub.status.idle": "2021-03-16T07:30:29.608604Z",
     "shell.execute_reply": "2021-03-16T07:30:29.609124Z"
    }
   },
   "outputs": [
    {
     "name": "stdout",
     "output_type": "stream",
     "text": [
      "\r",
      "0it [00:00, ?it/s]"
     ]
    },
    {
     "name": "stdout",
     "output_type": "stream",
     "text": [
      "\r",
      "Upgrading database; v0 -> v1: : 0it [00:00, ?it/s]"
     ]
    },
    {
     "name": "stdout",
     "output_type": "stream",
     "text": [
      "\r",
      "Upgrading database; v0 -> v1: : 0it [00:00, ?it/s]"
     ]
    },
    {
     "name": "stdout",
     "output_type": "stream",
     "text": [
      "\n",
      "\r",
      "  0%|          | 0/1 [00:00<?, ?it/s]"
     ]
    },
    {
     "name": "stdout",
     "output_type": "stream",
     "text": [
      "\r",
      "Upgrading database; v1 -> v2:   0%|          | 0/1 [00:00<?, ?it/s]"
     ]
    },
    {
     "name": "stdout",
     "output_type": "stream",
     "text": [
      "\r",
      "Upgrading database; v1 -> v2: 100%|██████████| 1/1 [00:00<00:00, 488.79it/s]"
     ]
    },
    {
     "name": "stdout",
     "output_type": "stream",
     "text": [
      "\n",
      "\r",
      "0it [00:00, ?it/s]"
     ]
    },
    {
     "name": "stdout",
     "output_type": "stream",
     "text": [
      "\r",
      "Upgrading database; v2 -> v3: : 0it [00:00, ?it/s]"
     ]
    },
    {
     "name": "stdout",
     "output_type": "stream",
     "text": [
      "\r",
      "Upgrading database; v2 -> v3: : 0it [00:00, ?it/s]"
     ]
    },
    {
     "name": "stdout",
     "output_type": "stream",
     "text": [
      "\n",
      "\r",
      "0it [00:00, ?it/s]"
     ]
    },
    {
     "name": "stdout",
     "output_type": "stream",
     "text": [
      "\r",
      "Upgrading database; v3 -> v4: : 0it [00:00, ?it/s]"
     ]
    },
    {
     "name": "stdout",
     "output_type": "stream",
     "text": [
      "\r",
      "Upgrading database; v3 -> v4: : 0it [00:00, ?it/s]"
     ]
    },
    {
     "name": "stdout",
     "output_type": "stream",
     "text": [
      "\n",
      "\r",
      "  0%|          | 0/1 [00:00<?, ?it/s]"
     ]
    },
    {
     "name": "stdout",
     "output_type": "stream",
     "text": [
      "\r",
      "Upgrading database; v4 -> v5:   0%|          | 0/1 [00:00<?, ?it/s]"
     ]
    },
    {
     "name": "stdout",
     "output_type": "stream",
     "text": [
      "\r",
      "Upgrading database; v4 -> v5: 100%|██████████| 1/1 [00:00<00:00, 361.08it/s]"
     ]
    },
    {
     "name": "stdout",
     "output_type": "stream",
     "text": [
      "\n",
      "\r",
      "0it [00:00, ?it/s]"
     ]
    },
    {
     "name": "stdout",
     "output_type": "stream",
     "text": [
      "\r",
      "Upgrading database; v5 -> v6: : 0it [00:00, ?it/s]"
     ]
    },
    {
     "name": "stdout",
     "output_type": "stream",
     "text": [
      "\r",
      "Upgrading database; v5 -> v6: : 0it [00:00, ?it/s]"
     ]
    },
    {
     "name": "stdout",
     "output_type": "stream",
     "text": [
      "\n",
      "\r",
      "  0%|          | 0/1 [00:00<?, ?it/s]"
     ]
    },
    {
     "name": "stdout",
     "output_type": "stream",
     "text": [
      "\r",
      "Upgrading database; v6 -> v7:   0%|          | 0/1 [00:00<?, ?it/s]"
     ]
    },
    {
     "name": "stdout",
     "output_type": "stream",
     "text": [
      "\r",
      "Upgrading database; v6 -> v7: 100%|██████████| 1/1 [00:00<00:00, 405.17it/s]"
     ]
    },
    {
     "name": "stdout",
     "output_type": "stream",
     "text": [
      "\n",
      "\r",
      "  0%|          | 0/1 [00:00<?, ?it/s]"
     ]
    },
    {
     "name": "stdout",
     "output_type": "stream",
     "text": [
      "\r",
      "Upgrading database; v7 -> v8:   0%|          | 0/1 [00:00<?, ?it/s]"
     ]
    },
    {
     "name": "stdout",
     "output_type": "stream",
     "text": [
      "\r",
      "Upgrading database; v7 -> v8: 100%|██████████| 1/1 [00:00<00:00, 1009.22it/s]"
     ]
    },
    {
     "name": "stdout",
     "output_type": "stream",
     "text": [
      "\n",
      "\r",
      "  0%|          | 0/1 [00:00<?, ?it/s]"
     ]
    },
    {
     "name": "stdout",
     "output_type": "stream",
     "text": [
      "\r",
      "Upgrading database; v8 -> v9:   0%|          | 0/1 [00:00<?, ?it/s]"
     ]
    },
    {
     "name": "stdout",
     "output_type": "stream",
     "text": [
      "\r",
      "Upgrading database; v8 -> v9: 100%|██████████| 1/1 [00:00<00:00, 407.73it/s]"
     ]
    },
    {
     "name": "stdout",
     "output_type": "stream",
     "text": [
      "\n"
     ]
    }
   ],
   "source": [
    "initialise_database()\n",
    "exp = load_or_create_experiment(experiment_name='tutorial_exp', sample_name=\"no sample\")"
   ]
  },
  {
   "cell_type": "markdown",
   "metadata": {},
   "source": [
    "Here, we define a simple function to benchmark the time it takes to insert n points with either numeric or array data type.\n",
    "We will compare both the time used to call ``add_result`` and the time used for the full measurement."
   ]
  },
  {
   "cell_type": "code",
   "execution_count": 4,
   "metadata": {
    "execution": {
     "iopub.execute_input": "2021-03-16T07:30:29.618749Z",
     "iopub.status.busy": "2021-03-16T07:30:29.618137Z",
     "iopub.status.idle": "2021-03-16T07:30:29.622070Z",
     "shell.execute_reply": "2021-03-16T07:30:29.621499Z"
    }
   },
   "outputs": [],
   "source": [
    "def insert_data(paramtype, npoints, nreps=1):\n",
    "\n",
    "    meas = Measurement(exp=exp)\n",
    "\n",
    "    x1 = ManualParameter('x1')\n",
    "    x2 = ManualParameter('x2')\n",
    "    x3 = ManualParameter('x3')\n",
    "    y1 = ManualParameter('y1')\n",
    "    y2 = ManualParameter('y2')\n",
    "\n",
    "    meas.register_parameter(x1, paramtype=paramtype)\n",
    "    meas.register_parameter(x2, paramtype=paramtype)\n",
    "    meas.register_parameter(x3, paramtype=paramtype)\n",
    "    meas.register_parameter(y1, setpoints=[x1, x2, x3],\n",
    "                            paramtype=paramtype)\n",
    "    meas.register_parameter(y2, setpoints=[x1, x2, x3],\n",
    "                            paramtype=paramtype)\n",
    "    start = time.perf_counter()\n",
    "    with meas.run() as datasaver:\n",
    "        start_adding = time.perf_counter()\n",
    "        for i in range(nreps):\n",
    "            datasaver.add_result((x1, np.random.rand(npoints)),\n",
    "                                 (x2, np.random.rand(npoints)),\n",
    "                                 (x3, np.random.rand(npoints)),\n",
    "                                 (y1, np.random.rand(npoints)),\n",
    "                                 (y2, np.random.rand(npoints)))\n",
    "        stop_adding = time.perf_counter()\n",
    "        run_id = datasaver.run_id\n",
    "    stop = time.perf_counter()\n",
    "    tot_time = stop - start\n",
    "    add_time = stop_adding - start_adding\n",
    "    return tot_time, add_time, run_id"
   ]
  },
  {
   "cell_type": "markdown",
   "metadata": {},
   "source": [
    "## Comparison between numeric/array data and binary blob"
   ]
  },
  {
   "cell_type": "markdown",
   "metadata": {},
   "source": [
    "### Case1: Short experiment time"
   ]
  },
  {
   "cell_type": "code",
   "execution_count": 5,
   "metadata": {
    "execution": {
     "iopub.execute_input": "2021-03-16T07:30:29.628509Z",
     "iopub.status.busy": "2021-03-16T07:30:29.627844Z",
     "iopub.status.idle": "2021-03-16T07:30:30.558546Z",
     "shell.execute_reply": "2021-03-16T07:30:30.557994Z"
    }
   },
   "outputs": [
    {
     "name": "stdout",
     "output_type": "stream",
     "text": [
      "Starting experimental run with id: 1. \n",
      "Starting experimental run with id: 2. \n",
      "Starting experimental run with id: 3. \n",
      "Starting experimental run with id: 4. \n",
      "Starting experimental run with id: 5. \n"
     ]
    },
    {
     "name": "stdout",
     "output_type": "stream",
     "text": [
      "Starting experimental run with id: 6. \n"
     ]
    },
    {
     "name": "stdout",
     "output_type": "stream",
     "text": [
      "Starting experimental run with id: 7. \n"
     ]
    },
    {
     "name": "stdout",
     "output_type": "stream",
     "text": [
      "Starting experimental run with id: 8. \n",
      "Starting experimental run with id: 9. \n"
     ]
    },
    {
     "name": "stdout",
     "output_type": "stream",
     "text": [
      "Starting experimental run with id: 10. \n",
      "Starting experimental run with id: 11. \n"
     ]
    },
    {
     "name": "stdout",
     "output_type": "stream",
     "text": [
      "Starting experimental run with id: 12. \n",
      "Starting experimental run with id: 13. \n"
     ]
    },
    {
     "name": "stdout",
     "output_type": "stream",
     "text": [
      "Starting experimental run with id: 14. \n"
     ]
    }
   ],
   "source": [
    "sizes = [1,500,1000,2000,3000,4000,5000]\n",
    "t_numeric = []\n",
    "t_numeric_add = []\n",
    "t_array = []\n",
    "t_array_add = []\n",
    "for size in sizes:\n",
    "    tn, tna, run_id_n =  insert_data('numeric', size)\n",
    "    t_numeric.append(tn)\n",
    "    t_numeric_add.append(tna)\n",
    "\n",
    "    ta, taa, run_id_a =  insert_data('array', size)\n",
    "    t_array.append(ta)\n",
    "    t_array_add.append(taa)"
   ]
  },
  {
   "cell_type": "code",
   "execution_count": 6,
   "metadata": {
    "execution": {
     "iopub.execute_input": "2021-03-16T07:30:30.581417Z",
     "iopub.status.busy": "2021-03-16T07:30:30.579277Z",
     "iopub.status.idle": "2021-03-16T07:30:30.811227Z",
     "shell.execute_reply": "2021-03-16T07:30:30.810243Z"
    }
   },
   "outputs": [
    {
     "data": {
      "image/png": "[encoded data removed]",
      "text/plain": [
       "<Figure size 432x288 with 1 Axes>"
      ]
     },
     "metadata": {
      "needs_background": "light"
     },
     "output_type": "display_data"
    }
   ],
   "source": [
    "fig, ax = plt.subplots(1,1)\n",
    "ax.plot(sizes, t_numeric, 'o-', label='Inserting row-by-row')\n",
    "ax.plot(sizes, t_numeric_add, 'o-', label='Inserting row-by-row: add_result only')\n",
    "ax.plot(sizes, t_array, 'd-', label='Inserting as binary blob')\n",
    "ax.plot(sizes, t_array_add, 'd-', label='Inserting as binary blob: add_result only')\n",
    "ax.legend()\n",
    "ax.set_xlabel('Array length')\n",
    "ax.set_ylabel('Time (s)')\n",
    "fig.tight_layout()"
   ]
  },
  {
   "cell_type": "markdown",
   "metadata": {},
   "source": [
    "As shown in the latter figure, the time to setup and and close the experiment is approximately 0.4 sec. In case of small array sizes, the difference between inserting values of data as arrays and inserting them row-by-row is relatively unimportant. At larger array sizes, i.e. above 10000 points, the cost of writing data as individual datapoints starts to become important.\n"
   ]
  },
  {
   "cell_type": "markdown",
   "metadata": {},
   "source": [
    "### Case2: Long experiment time "
   ]
  },
  {
   "cell_type": "code",
   "execution_count": 7,
   "metadata": {
    "execution": {
     "iopub.execute_input": "2021-03-16T07:30:30.820514Z",
     "iopub.status.busy": "2021-03-16T07:30:30.818706Z",
     "iopub.status.idle": "2021-03-16T07:31:36.810295Z",
     "shell.execute_reply": "2021-03-16T07:31:36.810790Z"
    }
   },
   "outputs": [
    {
     "name": "stdout",
     "output_type": "stream",
     "text": [
      "Starting experimental run with id: 15. \n",
      "Starting experimental run with id: 16. \n"
     ]
    },
    {
     "name": "stdout",
     "output_type": "stream",
     "text": [
      "Starting experimental run with id: 17. \n"
     ]
    },
    {
     "name": "stdout",
     "output_type": "stream",
     "text": [
      "Starting experimental run with id: 18. \n"
     ]
    },
    {
     "name": "stdout",
     "output_type": "stream",
     "text": [
      "Starting experimental run with id: 19. \n"
     ]
    },
    {
     "name": "stdout",
     "output_type": "stream",
     "text": [
      "Starting experimental run with id: 20. \n"
     ]
    },
    {
     "name": "stdout",
     "output_type": "stream",
     "text": [
      "Starting experimental run with id: 21. \n"
     ]
    },
    {
     "name": "stdout",
     "output_type": "stream",
     "text": [
      "Starting experimental run with id: 22. \n"
     ]
    },
    {
     "name": "stdout",
     "output_type": "stream",
     "text": [
      "Starting experimental run with id: 23. \n"
     ]
    },
    {
     "name": "stdout",
     "output_type": "stream",
     "text": [
      "Starting experimental run with id: 24. \n"
     ]
    },
    {
     "name": "stdout",
     "output_type": "stream",
     "text": [
      "Starting experimental run with id: 25. \n"
     ]
    },
    {
     "name": "stdout",
     "output_type": "stream",
     "text": [
      "Starting experimental run with id: 26. \n"
     ]
    },
    {
     "name": "stdout",
     "output_type": "stream",
     "text": [
      "Starting experimental run with id: 27. \n"
     ]
    },
    {
     "name": "stdout",
     "output_type": "stream",
     "text": [
      "Starting experimental run with id: 28. \n"
     ]
    }
   ],
   "source": [
    "sizes = [1,500,1000,2000,3000,4000,5000]\n",
    "nreps = 100\n",
    "t_numeric = []\n",
    "t_numeric_add = []\n",
    "t_numeric_run_ids = []\n",
    "t_array = []\n",
    "t_array_add = []\n",
    "t_array_run_ids = []\n",
    "for size in sizes:\n",
    "    tn, tna, run_id_n =  insert_data('numeric', size, nreps=nreps)\n",
    "    t_numeric.append(tn)\n",
    "    t_numeric_add.append(tna)\n",
    "    t_numeric_run_ids.append(run_id_n)\n",
    "\n",
    "    ta, taa, run_id_a =  insert_data('array', size, nreps=nreps)\n",
    "    t_array.append(ta)\n",
    "    t_array_add.append(taa)\n",
    "    t_array_run_ids.append(run_id_a)"
   ]
  },
  {
   "cell_type": "code",
   "execution_count": 8,
   "metadata": {
    "execution": {
     "iopub.execute_input": "2021-03-16T07:31:36.833968Z",
     "iopub.status.busy": "2021-03-16T07:31:36.830166Z",
     "iopub.status.idle": "2021-03-16T07:31:37.051762Z",
     "shell.execute_reply": "2021-03-16T07:31:37.051192Z"
    },
    "scrolled": true
   },
   "outputs": [
    {
     "data": {
      "image/png": "[encoded data removed]",
      "text/plain": [
       "<Figure size 432x288 with 1 Axes>"
      ]
     },
     "metadata": {
      "needs_background": "light"
     },
     "output_type": "display_data"
    }
   ],
   "source": [
    "fig, ax = plt.subplots(1,1)\n",
    "ax.plot(sizes, t_numeric, 'o-', label='Inserting row-by-row')\n",
    "ax.plot(sizes, t_numeric_add, 'o-', label='Inserting row-by-row: add_result only')\n",
    "ax.plot(sizes, t_array, 'd-', label='Inserting as binary blob')\n",
    "ax.plot(sizes, t_array_add, 'd-', label='Inserting as binary blob: add_result only')\n",
    "ax.legend()\n",
    "ax.set_xlabel('Array length')\n",
    "ax.set_ylabel('Time (s)')\n",
    "fig.tight_layout()"
   ]
  },
  {
   "cell_type": "markdown",
   "metadata": {},
   "source": [
    "However, as we increase the length of the experiment, as seen here by repeating the insertion 100 times, we see a big difference between inserting values of the data row-by-row and inserting it as a binary blob."
   ]
  },
  {
   "cell_type": "markdown",
   "metadata": {},
   "source": [
    "## Loading the data "
   ]
  },
  {
   "cell_type": "code",
   "execution_count": 9,
   "metadata": {
    "execution": {
     "iopub.execute_input": "2021-03-16T07:31:37.057536Z",
     "iopub.status.busy": "2021-03-16T07:31:37.056895Z",
     "iopub.status.idle": "2021-03-16T07:31:37.060347Z",
     "shell.execute_reply": "2021-03-16T07:31:37.060909Z"
    }
   },
   "outputs": [],
   "source": [
    "from qcodes.dataset.data_set import load_by_id\n",
    "from qcodes.dataset.data_export import get_data_by_id"
   ]
  },
  {
   "cell_type": "markdown",
   "metadata": {},
   "source": [
    "As usual you can load the data by using the ``load_by_id`` function but you will notice that the different storage methods\n",
    "are reflected in shape of the data as it is retrieved. "
   ]
  },
  {
   "cell_type": "code",
   "execution_count": 10,
   "metadata": {
    "execution": {
     "iopub.execute_input": "2021-03-16T07:31:37.066234Z",
     "iopub.status.busy": "2021-03-16T07:31:37.064846Z",
     "iopub.status.idle": "2021-03-16T07:31:37.066940Z",
     "shell.execute_reply": "2021-03-16T07:31:37.067474Z"
    }
   },
   "outputs": [],
   "source": [
    "run_id_n = t_numeric_run_ids[0]\n",
    "run_id_a = t_array_run_ids[0]"
   ]
  },
  {
   "cell_type": "code",
   "execution_count": 11,
   "metadata": {
    "execution": {
     "iopub.execute_input": "2021-03-16T07:31:37.071695Z",
     "iopub.status.busy": "2021-03-16T07:31:37.071058Z",
     "iopub.status.idle": "2021-03-16T07:31:37.081350Z",
     "shell.execute_reply": "2021-03-16T07:31:37.081889Z"
    },
    "scrolled": true
   },
   "outputs": [
    {
     "data": {
      "text/plain": [
       "{'x1': {'x1': array([0.80456776, 0.80456776, 0.70838752, 0.70838752, 0.71271317,\n",
       "         0.71271317, 0.1156058 , 0.1156058 , 0.51031071, 0.51031071,\n",
       "         0.72801198, 0.72801198, 0.99747098, 0.99747098, 0.47357329,\n",
       "         0.47357329, 0.20592036, 0.20592036, 0.26432944, 0.26432944,\n",
       "         0.12845445, 0.12845445, 0.2181127 , 0.2181127 , 0.29930122,\n",
       "         0.29930122, 0.51419005, 0.51419005, 0.06662719, 0.06662719,\n",
       "         0.46113235, 0.46113235, 0.44187685, 0.44187685, 0.28879145,\n",
       "         0.28879145, 0.26959596, 0.26959596, 0.9358822 , 0.9358822 ,\n",
       "         0.64392583, 0.64392583, 0.9498659 , 0.9498659 , 0.07906663,\n",
       "         0.07906663, 0.0155812 , 0.0155812 , 0.33838062, 0.33838062,\n",
       "         0.21755449, 0.21755449, 0.12122686, 0.12122686, 0.2678943 ,\n",
       "         0.2678943 , 0.95798875, 0.95798875, 0.99517589, 0.99517589,\n",
       "         0.72431387, 0.72431387, 0.61325348, 0.61325348, 0.30832091,\n",
       "         0.30832091, 0.22973411, 0.22973411, 0.8011472 , 0.8011472 ,\n",
       "         0.32350913, 0.32350913, 0.4268663 , 0.4268663 , 0.3600755 ,\n",
       "         0.3600755 , 0.66179145, 0.66179145, 0.86727923, 0.86727923,\n",
       "         0.12953258, 0.12953258, 0.98217744, 0.98217744, 0.57378255,\n",
       "         0.57378255, 0.34724393, 0.34724393, 0.53914229, 0.53914229,\n",
       "         0.64608394, 0.64608394, 0.40976304, 0.40976304, 0.63272478,\n",
       "         0.63272478, 0.08905659, 0.08905659, 0.385799  , 0.385799  ,\n",
       "         0.71747856, 0.71747856, 0.8189816 , 0.8189816 , 0.41519092,\n",
       "         0.41519092, 0.56711706, 0.56711706, 0.30341661, 0.30341661,\n",
       "         0.45661729, 0.45661729, 0.58188561, 0.58188561, 0.55560458,\n",
       "         0.55560458, 0.55797815, 0.55797815, 0.45351381, 0.45351381,\n",
       "         0.74553294, 0.74553294, 0.86075274, 0.86075274, 0.56223282,\n",
       "         0.56223282, 0.02131237, 0.02131237, 0.02100315, 0.02100315,\n",
       "         0.96323345, 0.96323345, 0.88158466, 0.88158466, 0.09436001,\n",
       "         0.09436001, 0.09074607, 0.09074607, 0.82484267, 0.82484267,\n",
       "         0.56507735, 0.56507735, 0.94046691, 0.94046691, 0.48021968,\n",
       "         0.48021968, 0.34272475, 0.34272475, 0.51464373, 0.51464373,\n",
       "         0.25557407, 0.25557407, 0.90492587, 0.90492587, 0.05293918,\n",
       "         0.05293918, 0.38965592, 0.38965592, 0.43880155, 0.43880155,\n",
       "         0.00538106, 0.00538106, 0.71252392, 0.71252392, 0.46874064,\n",
       "         0.46874064, 0.78128984, 0.78128984, 0.17891726, 0.17891726,\n",
       "         0.72146923, 0.72146923, 0.75002012, 0.75002012, 0.77132236,\n",
       "         0.77132236, 0.11788387, 0.11788387, 0.023897  , 0.023897  ,\n",
       "         0.60865736, 0.60865736, 0.55641401, 0.55641401, 0.5549565 ,\n",
       "         0.5549565 , 0.32164987, 0.32164987, 0.73432147, 0.73432147,\n",
       "         0.03850338, 0.03850338, 0.41357329, 0.41357329, 0.22382214,\n",
       "         0.22382214, 0.34294161, 0.34294161, 0.7942231 , 0.7942231 ])}}"
      ]
     },
     "execution_count": 1,
     "metadata": {},
     "output_type": "execute_result"
    }
   ],
   "source": [
    "ds = load_by_id(run_id_n)\n",
    "ds.get_parameter_data('x1')"
   ]
  },
  {
   "cell_type": "markdown",
   "metadata": {},
   "source": [
    "And a dataset stored as binary arrays"
   ]
  },
  {
   "cell_type": "code",
   "execution_count": 12,
   "metadata": {
    "execution": {
     "iopub.execute_input": "2021-03-16T07:31:37.086542Z",
     "iopub.status.busy": "2021-03-16T07:31:37.085907Z",
     "iopub.status.idle": "2021-03-16T07:31:37.152881Z",
     "shell.execute_reply": "2021-03-16T07:31:37.153442Z"
    },
    "scrolled": true
   },
   "outputs": [
    {
     "data": {
      "text/plain": [
       "{'x1': {'x1': array([[0.40759847],\n",
       "         [0.40759847],\n",
       "         [0.28022683],\n",
       "         [0.28022683],\n",
       "         [0.10919925],\n",
       "         [0.10919925],\n",
       "         [0.71697238],\n",
       "         [0.71697238],\n",
       "         [0.54031318],\n",
       "         [0.54031318],\n",
       "         [0.44299088],\n",
       "         [0.44299088],\n",
       "         [0.90030975],\n",
       "         [0.90030975],\n",
       "         [0.96037618],\n",
       "         [0.96037618],\n",
       "         [0.51780595],\n",
       "         [0.51780595],\n",
       "         [0.06755599],\n",
       "         [0.06755599],\n",
       "         [0.83882117],\n",
       "         [0.83882117],\n",
       "         [0.20081001],\n",
       "         [0.20081001],\n",
       "         [0.09811902],\n",
       "         [0.09811902],\n",
       "         [0.13125799],\n",
       "         [0.13125799],\n",
       "         [0.52151099],\n",
       "         [0.52151099],\n",
       "         [0.0863913 ],\n",
       "         [0.0863913 ],\n",
       "         [0.06241603],\n",
       "         [0.06241603],\n",
       "         [0.2675953 ],\n",
       "         [0.2675953 ],\n",
       "         [0.86100396],\n",
       "         [0.86100396],\n",
       "         [0.49282046],\n",
       "         [0.49282046],\n",
       "         [0.86996043],\n",
       "         [0.86996043],\n",
       "         [0.22377842],\n",
       "         [0.22377842],\n",
       "         [0.47031722],\n",
       "         [0.47031722],\n",
       "         [0.57716565],\n",
       "         [0.57716565],\n",
       "         [0.07619011],\n",
       "         [0.07619011],\n",
       "         [0.30224693],\n",
       "         [0.30224693],\n",
       "         [0.7271529 ],\n",
       "         [0.7271529 ],\n",
       "         [0.83526914],\n",
       "         [0.83526914],\n",
       "         [0.77868937],\n",
       "         [0.77868937],\n",
       "         [0.81342962],\n",
       "         [0.81342962],\n",
       "         [0.90581493],\n",
       "         [0.90581493],\n",
       "         [0.97497352],\n",
       "         [0.97497352],\n",
       "         [0.35437398],\n",
       "         [0.35437398],\n",
       "         [0.56748209],\n",
       "         [0.56748209],\n",
       "         [0.23641848],\n",
       "         [0.23641848],\n",
       "         [0.21195298],\n",
       "         [0.21195298],\n",
       "         [0.3357684 ],\n",
       "         [0.3357684 ],\n",
       "         [0.56564285],\n",
       "         [0.56564285],\n",
       "         [0.9582539 ],\n",
       "         [0.9582539 ],\n",
       "         [0.80149137],\n",
       "         [0.80149137],\n",
       "         [0.84809231],\n",
       "         [0.84809231],\n",
       "         [0.82709905],\n",
       "         [0.82709905],\n",
       "         [0.33355935],\n",
       "         [0.33355935],\n",
       "         [0.13752014],\n",
       "         [0.13752014],\n",
       "         [0.3190199 ],\n",
       "         [0.3190199 ],\n",
       "         [0.28247962],\n",
       "         [0.28247962],\n",
       "         [0.28561029],\n",
       "         [0.28561029],\n",
       "         [0.76125927],\n",
       "         [0.76125927],\n",
       "         [0.24280213],\n",
       "         [0.24280213],\n",
       "         [0.52880681],\n",
       "         [0.52880681],\n",
       "         [0.10008198],\n",
       "         [0.10008198],\n",
       "         [0.99689448],\n",
       "         [0.99689448],\n",
       "         [0.5999027 ],\n",
       "         [0.5999027 ],\n",
       "         [0.59601529],\n",
       "         [0.59601529],\n",
       "         [0.30897432],\n",
       "         [0.30897432],\n",
       "         [0.88120383],\n",
       "         [0.88120383],\n",
       "         [0.20896874],\n",
       "         [0.20896874],\n",
       "         [0.70596238],\n",
       "         [0.70596238],\n",
       "         [0.5349909 ],\n",
       "         [0.5349909 ],\n",
       "         [0.95369415],\n",
       "         [0.95369415],\n",
       "         [0.71725807],\n",
       "         [0.71725807],\n",
       "         [0.15397676],\n",
       "         [0.15397676],\n",
       "         [0.25152151],\n",
       "         [0.25152151],\n",
       "         [0.70129396],\n",
       "         [0.70129396],\n",
       "         [0.90281193],\n",
       "         [0.90281193],\n",
       "         [0.14302442],\n",
       "         [0.14302442],\n",
       "         [0.98282545],\n",
       "         [0.98282545],\n",
       "         [0.08689757],\n",
       "         [0.08689757],\n",
       "         [0.44459286],\n",
       "         [0.44459286],\n",
       "         [0.78806189],\n",
       "         [0.78806189],\n",
       "         [0.75740482],\n",
       "         [0.75740482],\n",
       "         [0.91501188],\n",
       "         [0.91501188],\n",
       "         [0.97599298],\n",
       "         [0.97599298],\n",
       "         [0.99388206],\n",
       "         [0.99388206],\n",
       "         [0.79170755],\n",
       "         [0.79170755],\n",
       "         [0.44937694],\n",
       "         [0.44937694],\n",
       "         [0.32166863],\n",
       "         [0.32166863],\n",
       "         [0.36422078],\n",
       "         [0.36422078],\n",
       "         [0.88200047],\n",
       "         [0.88200047],\n",
       "         [0.34085612],\n",
       "         [0.34085612],\n",
       "         [0.52561284],\n",
       "         [0.52561284],\n",
       "         [0.30972537],\n",
       "         [0.30972537],\n",
       "         [0.2508052 ],\n",
       "         [0.2508052 ],\n",
       "         [0.29251633],\n",
       "         [0.29251633],\n",
       "         [0.54780369],\n",
       "         [0.54780369],\n",
       "         [0.09855119],\n",
       "         [0.09855119],\n",
       "         [0.14276008],\n",
       "         [0.14276008],\n",
       "         [0.74258206],\n",
       "         [0.74258206],\n",
       "         [0.71632143],\n",
       "         [0.71632143],\n",
       "         [0.85891874],\n",
       "         [0.85891874],\n",
       "         [0.43059042],\n",
       "         [0.43059042],\n",
       "         [0.31108618],\n",
       "         [0.31108618],\n",
       "         [0.71875841],\n",
       "         [0.71875841],\n",
       "         [0.60112177],\n",
       "         [0.60112177],\n",
       "         [0.70241314],\n",
       "         [0.70241314],\n",
       "         [0.86502032],\n",
       "         [0.86502032],\n",
       "         [0.88692601],\n",
       "         [0.88692601],\n",
       "         [0.45491074],\n",
       "         [0.45491074],\n",
       "         [0.03875061],\n",
       "         [0.03875061],\n",
       "         [0.57833659],\n",
       "         [0.57833659]])}}"
      ]
     },
     "execution_count": 1,
     "metadata": {},
     "output_type": "execute_result"
    }
   ],
   "source": [
    "ds = load_by_id(run_id_a)\n",
    "ds.get_parameter_data('x1')"
   ]
  },
  {
   "cell_type": "code",
   "execution_count": null,
   "metadata": {},
   "outputs": [],
   "source": []
  }
 ],
 "metadata": {
  "kernelspec": {
   "display_name": "Python 3",
   "language": "python",
   "name": "python3"
  },
  "language_info": {
   "codemirror_mode": {
    "name": "ipython",
    "version": 3
   },
   "file_extension": ".py",
   "mimetype": "text/x-python",
   "name": "python",
   "nbconvert_exporter": "python",
   "pygments_lexer": "ipython3",
   "version": "3.7.10"
  },
  "nbsphinx": {
   "timeout": 600
  },
  "toc": {
   "base_numbering": 1,
   "nav_menu": {},
   "number_sections": true,
   "sideBar": true,
   "skip_h1_title": false,
   "title_cell": "Table of Contents",
   "title_sidebar": "Contents",
   "toc_cell": false,
   "toc_position": {},
   "toc_section_display": true,
   "toc_window_display": false
  },
  "varInspector": {
   "cols": {
    "lenName": 16,
    "lenType": 16,
    "lenVar": 40
   },
   "kernels_config": {
    "python": {
     "delete_cmd_postfix": "",
     "delete_cmd_prefix": "del ",
     "library": "var_list.py",
     "varRefreshCmd": "print(var_dic_list())"
    },
    "r": {
     "delete_cmd_postfix": ") ",
     "delete_cmd_prefix": "rm(",
     "library": "var_list.r",
     "varRefreshCmd": "cat(var_dic_list()) "
    }
   },
   "types_to_exclude": [
    "module",
    "function",
    "builtin_function_or_method",
    "instance",
    "_Feature"
   ],
   "window_display": false
  }
 },
 "nbformat": 4,
 "nbformat_minor": 2
}
