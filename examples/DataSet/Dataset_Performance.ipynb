{
 "cells": [
  {
   "cell_type": "markdown",
   "metadata": {},
   "source": [
    "# DataSet Performance\n",
    "\n",
    "This notebook shows the trade-off between inserting data into a database row-by-row and as binary blobs. Inserting the data row-by-row means that we have direct access to all the data and may perform queries directly on the values of the data. On the other hand, as we shall see, this is much slower than inserting the data directly as binary blobs."
   ]
  },
  {
   "cell_type": "markdown",
   "metadata": {},
   "source": [
    "First, we choose a new location for the database to ensure that we don't add a bunch of benchmarking data to the default one."
   ]
  },
  {
   "cell_type": "code",
   "execution_count": 1,
   "metadata": {
    "execution": {
     "iopub.execute_input": "2021-01-22T08:45:47.877349Z",
     "iopub.status.busy": "2021-01-22T08:45:47.876760Z",
     "iopub.status.idle": "2021-01-22T08:45:48.871239Z",
     "shell.execute_reply": "2021-01-22T08:45:48.870538Z"
    }
   },
   "outputs": [
    {
     "name": "stdout",
     "output_type": "stream",
     "text": [
      "Logging hadn't been started.\n",
      "Activating auto-logging. Current session state plus future input saved.\n",
      "Filename       : /home/vsts/.qcodes/logs/command_history.log\n",
      "Mode           : append\n",
      "Output logging : True\n",
      "Raw input log  : False\n",
      "Timestamping   : True\n",
      "State          : active\n"
     ]
    },
    {
     "name": "stdout",
     "output_type": "stream",
     "text": [
      "Qcodes Logfile : /home/vsts/.qcodes/logs/210122-13837-qcodes.log\n"
     ]
    }
   ],
   "source": [
    "import os\n",
    "cwd = os.getcwd()\n",
    "import qcodes as qc\n",
    "qc.config[\"core\"][\"db_location\"] = os.path.join(cwd, 'testing.db')\n"
   ]
  },
  {
   "cell_type": "code",
   "execution_count": 2,
   "metadata": {
    "execution": {
     "iopub.execute_input": "2021-01-22T08:45:48.878191Z",
     "iopub.status.busy": "2021-01-22T08:45:48.877329Z",
     "iopub.status.idle": "2021-01-22T08:45:49.061267Z",
     "shell.execute_reply": "2021-01-22T08:45:49.060022Z"
    }
   },
   "outputs": [],
   "source": [
    "%matplotlib inline\n",
    "import time\n",
    "import matplotlib.pyplot as plt\n",
    "import numpy as np\n",
    "\n",
    "import qcodes as qc\n",
    "from qcodes.instrument.parameter import ManualParameter\n",
    "from qcodes.dataset.experiment_container import (Experiment,\n",
    "                                                 load_last_experiment,\n",
    "                                                 new_experiment)\n",
    "from qcodes.dataset.sqlite.database import initialise_database\n",
    "from qcodes import load_or_create_experiment\n",
    "from qcodes.dataset.measurements import Measurement"
   ]
  },
  {
   "cell_type": "code",
   "execution_count": 3,
   "metadata": {
    "execution": {
     "iopub.execute_input": "2021-01-22T08:45:49.066505Z",
     "iopub.status.busy": "2021-01-22T08:45:49.065409Z",
     "iopub.status.idle": "2021-01-22T08:45:49.181129Z",
     "shell.execute_reply": "2021-01-22T08:45:49.181517Z"
    }
   },
   "outputs": [
    {
     "name": "stdout",
     "output_type": "stream",
     "text": [
      "\r",
      "0it [00:00, ?it/s]"
     ]
    },
    {
     "name": "stdout",
     "output_type": "stream",
     "text": [
      "\r",
      "Upgrading database; v0 -> v1: : 0it [00:00, ?it/s]"
     ]
    },
    {
     "name": "stdout",
     "output_type": "stream",
     "text": [
      "\r",
      "Upgrading database; v0 -> v1: : 0it [00:00, ?it/s]"
     ]
    },
    {
     "name": "stdout",
     "output_type": "stream",
     "text": [
      "\n",
      "\r",
      "  0%|          | 0/1 [00:00<?, ?it/s]"
     ]
    },
    {
     "name": "stdout",
     "output_type": "stream",
     "text": [
      "\r",
      "Upgrading database; v1 -> v2:   0%|          | 0/1 [00:00<?, ?it/s]"
     ]
    },
    {
     "name": "stdout",
     "output_type": "stream",
     "text": [
      "\r",
      "Upgrading database; v1 -> v2: 100%|██████████| 1/1 [00:00<00:00, 626.95it/s]"
     ]
    },
    {
     "name": "stdout",
     "output_type": "stream",
     "text": [
      "\n",
      "\r",
      "0it [00:00, ?it/s]"
     ]
    },
    {
     "name": "stdout",
     "output_type": "stream",
     "text": [
      "\r",
      "Upgrading database; v2 -> v3: : 0it [00:00, ?it/s]"
     ]
    },
    {
     "name": "stdout",
     "output_type": "stream",
     "text": [
      "\r",
      "Upgrading database; v2 -> v3: : 0it [00:00, ?it/s]"
     ]
    },
    {
     "name": "stdout",
     "output_type": "stream",
     "text": [
      "\n",
      "\r",
      "0it [00:00, ?it/s]"
     ]
    },
    {
     "name": "stdout",
     "output_type": "stream",
     "text": [
      "\r",
      "Upgrading database; v3 -> v4: : 0it [00:00, ?it/s]"
     ]
    },
    {
     "name": "stdout",
     "output_type": "stream",
     "text": [
      "\r",
      "Upgrading database; v3 -> v4: : 0it [00:00, ?it/s]"
     ]
    },
    {
     "name": "stdout",
     "output_type": "stream",
     "text": [
      "\n",
      "\r",
      "  0%|          | 0/1 [00:00<?, ?it/s]"
     ]
    },
    {
     "name": "stdout",
     "output_type": "stream",
     "text": [
      "\r",
      "Upgrading database; v4 -> v5:   0%|          | 0/1 [00:00<?, ?it/s]"
     ]
    },
    {
     "name": "stdout",
     "output_type": "stream",
     "text": [
      "\r",
      "Upgrading database; v4 -> v5: 100%|██████████| 1/1 [00:00<00:00, 614.01it/s]"
     ]
    },
    {
     "name": "stdout",
     "output_type": "stream",
     "text": [
      "\n",
      "\r",
      "0it [00:00, ?it/s]"
     ]
    },
    {
     "name": "stdout",
     "output_type": "stream",
     "text": [
      "\r",
      "Upgrading database; v5 -> v6: : 0it [00:00, ?it/s]"
     ]
    },
    {
     "name": "stdout",
     "output_type": "stream",
     "text": [
      "\r",
      "Upgrading database; v5 -> v6: : 0it [00:00, ?it/s]"
     ]
    },
    {
     "name": "stdout",
     "output_type": "stream",
     "text": [
      "\n",
      "\r",
      "  0%|          | 0/1 [00:00<?, ?it/s]"
     ]
    },
    {
     "name": "stdout",
     "output_type": "stream",
     "text": [
      "\r",
      "Upgrading database; v6 -> v7:   0%|          | 0/1 [00:00<?, ?it/s]"
     ]
    },
    {
     "name": "stdout",
     "output_type": "stream",
     "text": [
      "\r",
      "Upgrading database; v6 -> v7: 100%|██████████| 1/1 [00:00<00:00, 246.81it/s]"
     ]
    },
    {
     "name": "stdout",
     "output_type": "stream",
     "text": [
      "\n",
      "\r",
      "  0%|          | 0/1 [00:00<?, ?it/s]"
     ]
    },
    {
     "name": "stdout",
     "output_type": "stream",
     "text": [
      "\r",
      "Upgrading database; v7 -> v8:   0%|          | 0/1 [00:00<?, ?it/s]"
     ]
    },
    {
     "name": "stdout",
     "output_type": "stream",
     "text": [
      "\r",
      "Upgrading database; v7 -> v8: 100%|██████████| 1/1 [00:00<00:00, 453.63it/s]"
     ]
    },
    {
     "name": "stdout",
     "output_type": "stream",
     "text": [
      "\n",
      "\r",
      "  0%|          | 0/1 [00:00<?, ?it/s]"
     ]
    },
    {
     "name": "stdout",
     "output_type": "stream",
     "text": [
      "\r",
      "Upgrading database; v8 -> v9:   0%|          | 0/1 [00:00<?, ?it/s]"
     ]
    },
    {
     "name": "stdout",
     "output_type": "stream",
     "text": [
      "\r",
      "Upgrading database; v8 -> v9: 100%|██████████| 1/1 [00:00<00:00, 502.31it/s]"
     ]
    },
    {
     "name": "stdout",
     "output_type": "stream",
     "text": [
      "\n"
     ]
    }
   ],
   "source": [
    "initialise_database()\n",
    "exp = load_or_create_experiment(experiment_name='tutorial_exp', sample_name=\"no sample\")"
   ]
  },
  {
   "cell_type": "markdown",
   "metadata": {},
   "source": [
    "Here, we define a simple function to benchmark the time it takes to insert n points with either numeric or array data type.\n",
    "We will compare both the time used to call ``add_result`` and the time used for the full measurement."
   ]
  },
  {
   "cell_type": "code",
   "execution_count": 4,
   "metadata": {
    "execution": {
     "iopub.execute_input": "2021-01-22T08:45:49.189037Z",
     "iopub.status.busy": "2021-01-22T08:45:49.188600Z",
     "iopub.status.idle": "2021-01-22T08:45:49.191951Z",
     "shell.execute_reply": "2021-01-22T08:45:49.191395Z"
    }
   },
   "outputs": [],
   "source": [
    "def insert_data(paramtype, npoints, nreps=1):\n",
    "\n",
    "    meas = Measurement(exp=exp)\n",
    "\n",
    "    x1 = ManualParameter('x1')\n",
    "    x2 = ManualParameter('x2')\n",
    "    x3 = ManualParameter('x3')\n",
    "    y1 = ManualParameter('y1')\n",
    "    y2 = ManualParameter('y2')\n",
    "\n",
    "    meas.register_parameter(x1, paramtype=paramtype)\n",
    "    meas.register_parameter(x2, paramtype=paramtype)\n",
    "    meas.register_parameter(x3, paramtype=paramtype)\n",
    "    meas.register_parameter(y1, setpoints=[x1, x2, x3],\n",
    "                            paramtype=paramtype)\n",
    "    meas.register_parameter(y2, setpoints=[x1, x2, x3],\n",
    "                            paramtype=paramtype)\n",
    "    start = time.perf_counter()\n",
    "    with meas.run() as datasaver:\n",
    "        start_adding = time.perf_counter()\n",
    "        for i in range(nreps):\n",
    "            datasaver.add_result((x1, np.random.rand(npoints)),\n",
    "                                 (x2, np.random.rand(npoints)),\n",
    "                                 (x3, np.random.rand(npoints)),\n",
    "                                 (y1, np.random.rand(npoints)),\n",
    "                                 (y2, np.random.rand(npoints)))\n",
    "        stop_adding = time.perf_counter()\n",
    "        run_id = datasaver.run_id\n",
    "    stop = time.perf_counter()\n",
    "    tot_time = stop - start\n",
    "    add_time = stop_adding - start_adding\n",
    "    return tot_time, add_time, run_id"
   ]
  },
  {
   "cell_type": "markdown",
   "metadata": {},
   "source": [
    "## Comparison between numeric/array data and binary blob"
   ]
  },
  {
   "cell_type": "markdown",
   "metadata": {},
   "source": [
    "### Case1: Short experiment time"
   ]
  },
  {
   "cell_type": "code",
   "execution_count": 5,
   "metadata": {
    "execution": {
     "iopub.execute_input": "2021-01-22T08:45:49.197139Z",
     "iopub.status.busy": "2021-01-22T08:45:49.196635Z",
     "iopub.status.idle": "2021-01-22T08:45:50.074663Z",
     "shell.execute_reply": "2021-01-22T08:45:50.074174Z"
    }
   },
   "outputs": [
    {
     "name": "stdout",
     "output_type": "stream",
     "text": [
      "Starting experimental run with id: 1. \n",
      "Starting experimental run with id: 2. \n",
      "Starting experimental run with id: 3. \n",
      "Starting experimental run with id: 4. \n",
      "Starting experimental run with id: 5. \n"
     ]
    },
    {
     "name": "stdout",
     "output_type": "stream",
     "text": [
      "Starting experimental run with id: 6. \n"
     ]
    },
    {
     "name": "stdout",
     "output_type": "stream",
     "text": [
      "Starting experimental run with id: 7. \n"
     ]
    },
    {
     "name": "stdout",
     "output_type": "stream",
     "text": [
      "Starting experimental run with id: 8. \n",
      "Starting experimental run with id: 9. \n"
     ]
    },
    {
     "name": "stdout",
     "output_type": "stream",
     "text": [
      "Starting experimental run with id: 10. \n",
      "Starting experimental run with id: 11. \n"
     ]
    },
    {
     "name": "stdout",
     "output_type": "stream",
     "text": [
      "Starting experimental run with id: 12. \n",
      "Starting experimental run with id: 13. \n"
     ]
    },
    {
     "name": "stdout",
     "output_type": "stream",
     "text": [
      "Starting experimental run with id: 14. \n"
     ]
    }
   ],
   "source": [
    "sizes = [1,500,1000,2000,3000,4000,5000]\n",
    "t_numeric = []\n",
    "t_numeric_add = []\n",
    "t_array = []\n",
    "t_array_add = []\n",
    "for size in sizes:\n",
    "    tn, tna, run_id_n =  insert_data('numeric', size)\n",
    "    t_numeric.append(tn)\n",
    "    t_numeric_add.append(tna)\n",
    "\n",
    "    ta, taa, run_id_a =  insert_data('array', size)\n",
    "    t_array.append(ta)\n",
    "    t_array_add.append(taa)"
   ]
  },
  {
   "cell_type": "code",
   "execution_count": 6,
   "metadata": {
    "execution": {
     "iopub.execute_input": "2021-01-22T08:45:50.092049Z",
     "iopub.status.busy": "2021-01-22T08:45:50.091482Z",
     "iopub.status.idle": "2021-01-22T08:45:50.268657Z",
     "shell.execute_reply": "2021-01-22T08:45:50.269194Z"
    }
   },
   "outputs": [
    {
     "data": {
      "image/png": "[encoded data removed]",
      "text/plain": [
       "<Figure size 432x288 with 1 Axes>"
      ]
     },
     "metadata": {
      "needs_background": "light"
     },
     "output_type": "display_data"
    }
   ],
   "source": [
    "fig, ax = plt.subplots(1,1)\n",
    "ax.plot(sizes, t_numeric, 'o-', label='Inserting row-by-row')\n",
    "ax.plot(sizes, t_numeric_add, 'o-', label='Inserting row-by-row: add_result only')\n",
    "ax.plot(sizes, t_array, 'd-', label='Inserting as binary blob')\n",
    "ax.plot(sizes, t_array_add, 'd-', label='Inserting as binary blob: add_result only')\n",
    "ax.legend()\n",
    "ax.set_xlabel('Array length')\n",
    "ax.set_ylabel('Time (s)')\n",
    "fig.tight_layout()"
   ]
  },
  {
   "cell_type": "markdown",
   "metadata": {},
   "source": [
    "As shown in the latter figure, the time to setup and and close the experiment is approximately 0.4 sec. In case of small array sizes, the difference between inserting values of data as arrays and inserting them row-by-row is relatively unimportant. At larger array sizes, i.e. above 10000 points, the cost of writing data as individual datapoints starts to become important.\n"
   ]
  },
  {
   "cell_type": "markdown",
   "metadata": {},
   "source": [
    "### Case2: Long experiment time "
   ]
  },
  {
   "cell_type": "code",
   "execution_count": 7,
   "metadata": {
    "execution": {
     "iopub.execute_input": "2021-01-22T08:45:50.271763Z",
     "iopub.status.busy": "2021-01-22T08:45:50.271229Z",
     "iopub.status.idle": "2021-01-22T08:46:49.389315Z",
     "shell.execute_reply": "2021-01-22T08:46:49.388819Z"
    }
   },
   "outputs": [
    {
     "name": "stdout",
     "output_type": "stream",
     "text": [
      "Starting experimental run with id: 15. \n",
      "Starting experimental run with id: 16. \n",
      "Starting experimental run with id: 17. \n"
     ]
    },
    {
     "name": "stdout",
     "output_type": "stream",
     "text": [
      "Starting experimental run with id: 18. \n",
      "Starting experimental run with id: 19. \n"
     ]
    },
    {
     "name": "stdout",
     "output_type": "stream",
     "text": [
      "Starting experimental run with id: 20. \n"
     ]
    },
    {
     "name": "stdout",
     "output_type": "stream",
     "text": [
      "Starting experimental run with id: 21. \n"
     ]
    },
    {
     "name": "stdout",
     "output_type": "stream",
     "text": [
      "Starting experimental run with id: 22. \n"
     ]
    },
    {
     "name": "stdout",
     "output_type": "stream",
     "text": [
      "Starting experimental run with id: 23. \n"
     ]
    },
    {
     "name": "stdout",
     "output_type": "stream",
     "text": [
      "Starting experimental run with id: 24. \n"
     ]
    },
    {
     "name": "stdout",
     "output_type": "stream",
     "text": [
      "Starting experimental run with id: 25. \n"
     ]
    },
    {
     "name": "stdout",
     "output_type": "stream",
     "text": [
      "Starting experimental run with id: 26. \n"
     ]
    },
    {
     "name": "stdout",
     "output_type": "stream",
     "text": [
      "Starting experimental run with id: 27. \n"
     ]
    },
    {
     "name": "stdout",
     "output_type": "stream",
     "text": [
      "Starting experimental run with id: 28. \n"
     ]
    }
   ],
   "source": [
    "sizes = [1,500,1000,2000,3000,4000,5000]\n",
    "nreps = 100\n",
    "t_numeric = []\n",
    "t_numeric_add = []\n",
    "t_numeric_run_ids = []\n",
    "t_array = []\n",
    "t_array_add = []\n",
    "t_array_run_ids = []\n",
    "for size in sizes:\n",
    "    tn, tna, run_id_n =  insert_data('numeric', size, nreps=nreps)\n",
    "    t_numeric.append(tn)\n",
    "    t_numeric_add.append(tna)\n",
    "    t_numeric_run_ids.append(run_id_n)\n",
    "\n",
    "    ta, taa, run_id_a =  insert_data('array', size, nreps=nreps)\n",
    "    t_array.append(ta)\n",
    "    t_array_add.append(taa)\n",
    "    t_array_run_ids.append(run_id_a)"
   ]
  },
  {
   "cell_type": "code",
   "execution_count": 8,
   "metadata": {
    "execution": {
     "iopub.execute_input": "2021-01-22T08:46:49.426191Z",
     "iopub.status.busy": "2021-01-22T08:46:49.416750Z",
     "iopub.status.idle": "2021-01-22T08:46:49.582202Z",
     "shell.execute_reply": "2021-01-22T08:46:49.581440Z"
    },
    "scrolled": true
   },
   "outputs": [
    {
     "data": {
      "image/png": "[encoded data removed]",
      "text/plain": [
       "<Figure size 432x288 with 1 Axes>"
      ]
     },
     "metadata": {
      "needs_background": "light"
     },
     "output_type": "display_data"
    }
   ],
   "source": [
    "fig, ax = plt.subplots(1,1)\n",
    "ax.plot(sizes, t_numeric, 'o-', label='Inserting row-by-row')\n",
    "ax.plot(sizes, t_numeric_add, 'o-', label='Inserting row-by-row: add_result only')\n",
    "ax.plot(sizes, t_array, 'd-', label='Inserting as binary blob')\n",
    "ax.plot(sizes, t_array_add, 'd-', label='Inserting as binary blob: add_result only')\n",
    "ax.legend()\n",
    "ax.set_xlabel('Array length')\n",
    "ax.set_ylabel('Time (s)')\n",
    "fig.tight_layout()"
   ]
  },
  {
   "cell_type": "markdown",
   "metadata": {},
   "source": [
    "However, as we increase the length of the experiment, as seen here by repeating the insertion 100 times, we see a big difference between inserting values of the data row-by-row and inserting it as a binary blob."
   ]
  },
  {
   "cell_type": "markdown",
   "metadata": {},
   "source": [
    "## Loading the data "
   ]
  },
  {
   "cell_type": "code",
   "execution_count": 9,
   "metadata": {
    "execution": {
     "iopub.execute_input": "2021-01-22T08:46:49.585643Z",
     "iopub.status.busy": "2021-01-22T08:46:49.585132Z",
     "iopub.status.idle": "2021-01-22T08:46:49.587450Z",
     "shell.execute_reply": "2021-01-22T08:46:49.588020Z"
    }
   },
   "outputs": [],
   "source": [
    "from qcodes.dataset.data_set import load_by_id\n",
    "from qcodes.dataset.data_export import get_data_by_id"
   ]
  },
  {
   "cell_type": "markdown",
   "metadata": {},
   "source": [
    "As usual you can load the data by using the ``load_by_id`` function but you will notice that the different storage methods\n",
    "are reflected in shape of the data as it is retrieved. "
   ]
  },
  {
   "cell_type": "code",
   "execution_count": 10,
   "metadata": {
    "execution": {
     "iopub.execute_input": "2021-01-22T08:46:49.592315Z",
     "iopub.status.busy": "2021-01-22T08:46:49.591194Z",
     "iopub.status.idle": "2021-01-22T08:46:49.592838Z",
     "shell.execute_reply": "2021-01-22T08:46:49.593338Z"
    }
   },
   "outputs": [],
   "source": [
    "run_id_n = t_numeric_run_ids[0]\n",
    "run_id_a = t_array_run_ids[0]"
   ]
  },
  {
   "cell_type": "code",
   "execution_count": 11,
   "metadata": {
    "execution": {
     "iopub.execute_input": "2021-01-22T08:46:49.596508Z",
     "iopub.status.busy": "2021-01-22T08:46:49.595963Z",
     "iopub.status.idle": "2021-01-22T08:46:49.605336Z",
     "shell.execute_reply": "2021-01-22T08:46:49.604910Z"
    },
    "scrolled": true
   },
   "outputs": [
    {
     "data": {
      "text/plain": [
       "{'x1': {'x1': array([0.3425497 , 0.3425497 , 0.28313359, 0.28313359, 0.72179906,\n",
       "         0.72179906, 0.12293435, 0.12293435, 0.23839496, 0.23839496,\n",
       "         0.378272  , 0.378272  , 0.87599384, 0.87599384, 0.85461377,\n",
       "         0.85461377, 0.03675028, 0.03675028, 0.29097126, 0.29097126,\n",
       "         0.07097399, 0.07097399, 0.19546555, 0.19546555, 0.18050349,\n",
       "         0.18050349, 0.73907977, 0.73907977, 0.80648856, 0.80648856,\n",
       "         0.68748129, 0.68748129, 0.20105413, 0.20105413, 0.68674933,\n",
       "         0.68674933, 0.20847642, 0.20847642, 0.37425055, 0.37425055,\n",
       "         0.56135096, 0.56135096, 0.23923847, 0.23923847, 0.52884048,\n",
       "         0.52884048, 0.0477795 , 0.0477795 , 0.16171425, 0.16171425,\n",
       "         0.69628383, 0.69628383, 0.96665337, 0.96665337, 0.57889768,\n",
       "         0.57889768, 0.52690526, 0.52690526, 0.42804173, 0.42804173,\n",
       "         0.46214462, 0.46214462, 0.96550076, 0.96550076, 0.98665053,\n",
       "         0.98665053, 0.20306444, 0.20306444, 0.96062611, 0.96062611,\n",
       "         0.99405968, 0.99405968, 0.40129051, 0.40129051, 0.93442358,\n",
       "         0.93442358, 0.08551618, 0.08551618, 0.45546225, 0.45546225,\n",
       "         0.22438488, 0.22438488, 0.24450844, 0.24450844, 0.99745793,\n",
       "         0.99745793, 0.59641118, 0.59641118, 0.17038547, 0.17038547,\n",
       "         0.64843159, 0.64843159, 0.29904998, 0.29904998, 0.38756937,\n",
       "         0.38756937, 0.93375211, 0.93375211, 0.78314655, 0.78314655,\n",
       "         0.94440422, 0.94440422, 0.22255817, 0.22255817, 0.12167024,\n",
       "         0.12167024, 0.09532243, 0.09532243, 0.10507864, 0.10507864,\n",
       "         0.07760818, 0.07760818, 0.01209157, 0.01209157, 0.16258326,\n",
       "         0.16258326, 0.58582934, 0.58582934, 0.64907325, 0.64907325,\n",
       "         0.50506491, 0.50506491, 0.78017973, 0.78017973, 0.17962644,\n",
       "         0.17962644, 0.59937972, 0.59937972, 0.19696995, 0.19696995,\n",
       "         0.07630957, 0.07630957, 0.70965519, 0.70965519, 0.52807965,\n",
       "         0.52807965, 0.19684423, 0.19684423, 0.92267448, 0.92267448,\n",
       "         0.54765114, 0.54765114, 0.03272432, 0.03272432, 0.74271544,\n",
       "         0.74271544, 0.30962068, 0.30962068, 0.84790291, 0.84790291,\n",
       "         0.86289487, 0.86289487, 0.91227805, 0.91227805, 0.2993343 ,\n",
       "         0.2993343 , 0.96978186, 0.96978186, 0.1387862 , 0.1387862 ,\n",
       "         0.3604496 , 0.3604496 , 0.72100453, 0.72100453, 0.87004611,\n",
       "         0.87004611, 0.32342844, 0.32342844, 0.48190348, 0.48190348,\n",
       "         0.98138732, 0.98138732, 0.94492399, 0.94492399, 0.43004261,\n",
       "         0.43004261, 0.98421506, 0.98421506, 0.05814447, 0.05814447,\n",
       "         0.4339044 , 0.4339044 , 0.18654418, 0.18654418, 0.31523234,\n",
       "         0.31523234, 0.46472751, 0.46472751, 0.54766292, 0.54766292,\n",
       "         0.15658343, 0.15658343, 0.03686809, 0.03686809, 0.42237023,\n",
       "         0.42237023, 0.64842   , 0.64842   , 0.89751048, 0.89751048])}}"
      ]
     },
     "execution_count": 1,
     "metadata": {},
     "output_type": "execute_result"
    }
   ],
   "source": [
    "ds = load_by_id(run_id_n)\n",
    "ds.get_parameter_data('x1')"
   ]
  },
  {
   "cell_type": "markdown",
   "metadata": {},
   "source": [
    "And a dataset stored as binary arrays"
   ]
  },
  {
   "cell_type": "code",
   "execution_count": 12,
   "metadata": {
    "execution": {
     "iopub.execute_input": "2021-01-22T08:46:49.608373Z",
     "iopub.status.busy": "2021-01-22T08:46:49.607897Z",
     "iopub.status.idle": "2021-01-22T08:46:49.661693Z",
     "shell.execute_reply": "2021-01-22T08:46:49.662228Z"
    },
    "scrolled": true
   },
   "outputs": [
    {
     "data": {
      "text/plain": [
       "{'x1': {'x1': array([[3.86434645e-01],\n",
       "         [3.86434645e-01],\n",
       "         [7.60259477e-01],\n",
       "         [7.60259477e-01],\n",
       "         [2.23664521e-01],\n",
       "         [2.23664521e-01],\n",
       "         [5.36318693e-01],\n",
       "         [5.36318693e-01],\n",
       "         [5.15112609e-01],\n",
       "         [5.15112609e-01],\n",
       "         [9.50336913e-01],\n",
       "         [9.50336913e-01],\n",
       "         [5.94743968e-01],\n",
       "         [5.94743968e-01],\n",
       "         [3.45372386e-01],\n",
       "         [3.45372386e-01],\n",
       "         [6.97928623e-01],\n",
       "         [6.97928623e-01],\n",
       "         [1.11191434e-02],\n",
       "         [1.11191434e-02],\n",
       "         [5.17495692e-01],\n",
       "         [5.17495692e-01],\n",
       "         [4.67880867e-01],\n",
       "         [4.67880867e-01],\n",
       "         [4.69810765e-01],\n",
       "         [4.69810765e-01],\n",
       "         [3.71974107e-01],\n",
       "         [3.71974107e-01],\n",
       "         [2.34692494e-01],\n",
       "         [2.34692494e-01],\n",
       "         [6.67562837e-01],\n",
       "         [6.67562837e-01],\n",
       "         [5.29462999e-01],\n",
       "         [5.29462999e-01],\n",
       "         [5.17605422e-01],\n",
       "         [5.17605422e-01],\n",
       "         [8.05674114e-01],\n",
       "         [8.05674114e-01],\n",
       "         [1.35858640e-01],\n",
       "         [1.35858640e-01],\n",
       "         [3.17632921e-01],\n",
       "         [3.17632921e-01],\n",
       "         [3.34686364e-01],\n",
       "         [3.34686364e-01],\n",
       "         [8.57536974e-01],\n",
       "         [8.57536974e-01],\n",
       "         [4.95643465e-03],\n",
       "         [4.95643465e-03],\n",
       "         [1.72906645e-01],\n",
       "         [1.72906645e-01],\n",
       "         [6.04791451e-01],\n",
       "         [6.04791451e-01],\n",
       "         [7.60833850e-01],\n",
       "         [7.60833850e-01],\n",
       "         [5.52477001e-01],\n",
       "         [5.52477001e-01],\n",
       "         [8.93719190e-02],\n",
       "         [8.93719190e-02],\n",
       "         [5.22262346e-02],\n",
       "         [5.22262346e-02],\n",
       "         [6.28725168e-01],\n",
       "         [6.28725168e-01],\n",
       "         [5.09527099e-01],\n",
       "         [5.09527099e-01],\n",
       "         [2.08382923e-01],\n",
       "         [2.08382923e-01],\n",
       "         [1.89050378e-01],\n",
       "         [1.89050378e-01],\n",
       "         [1.39937843e-01],\n",
       "         [1.39937843e-01],\n",
       "         [2.03162716e-02],\n",
       "         [2.03162716e-02],\n",
       "         [8.10561517e-01],\n",
       "         [8.10561517e-01],\n",
       "         [3.88885898e-01],\n",
       "         [3.88885898e-01],\n",
       "         [5.39712657e-01],\n",
       "         [5.39712657e-01],\n",
       "         [5.71231132e-01],\n",
       "         [5.71231132e-01],\n",
       "         [8.46051999e-01],\n",
       "         [8.46051999e-01],\n",
       "         [3.10698833e-01],\n",
       "         [3.10698833e-01],\n",
       "         [1.55564024e-01],\n",
       "         [1.55564024e-01],\n",
       "         [6.52689523e-01],\n",
       "         [6.52689523e-01],\n",
       "         [5.37643791e-01],\n",
       "         [5.37643791e-01],\n",
       "         [3.01068096e-01],\n",
       "         [3.01068096e-01],\n",
       "         [5.00309794e-01],\n",
       "         [5.00309794e-01],\n",
       "         [5.90296196e-01],\n",
       "         [5.90296196e-01],\n",
       "         [8.37445853e-01],\n",
       "         [8.37445853e-01],\n",
       "         [5.68142577e-01],\n",
       "         [5.68142577e-01],\n",
       "         [9.16310895e-01],\n",
       "         [9.16310895e-01],\n",
       "         [7.03529742e-01],\n",
       "         [7.03529742e-01],\n",
       "         [9.11301420e-01],\n",
       "         [9.11301420e-01],\n",
       "         [3.19122801e-01],\n",
       "         [3.19122801e-01],\n",
       "         [3.46815250e-01],\n",
       "         [3.46815250e-01],\n",
       "         [5.94933329e-01],\n",
       "         [5.94933329e-01],\n",
       "         [4.24219501e-01],\n",
       "         [4.24219501e-01],\n",
       "         [2.47586357e-01],\n",
       "         [2.47586357e-01],\n",
       "         [3.23350693e-04],\n",
       "         [3.23350693e-04],\n",
       "         [5.37682217e-01],\n",
       "         [5.37682217e-01],\n",
       "         [6.30667527e-01],\n",
       "         [6.30667527e-01],\n",
       "         [6.77554561e-01],\n",
       "         [6.77554561e-01],\n",
       "         [4.74107541e-01],\n",
       "         [4.74107541e-01],\n",
       "         [7.60208751e-03],\n",
       "         [7.60208751e-03],\n",
       "         [1.52783376e-01],\n",
       "         [1.52783376e-01],\n",
       "         [2.28362218e-01],\n",
       "         [2.28362218e-01],\n",
       "         [2.33925389e-01],\n",
       "         [2.33925389e-01],\n",
       "         [6.80559373e-01],\n",
       "         [6.80559373e-01],\n",
       "         [5.70821839e-01],\n",
       "         [5.70821839e-01],\n",
       "         [2.10496349e-01],\n",
       "         [2.10496349e-01],\n",
       "         [4.93445814e-03],\n",
       "         [4.93445814e-03],\n",
       "         [8.56193622e-01],\n",
       "         [8.56193622e-01],\n",
       "         [4.39573233e-02],\n",
       "         [4.39573233e-02],\n",
       "         [5.32519936e-01],\n",
       "         [5.32519936e-01],\n",
       "         [7.89740645e-01],\n",
       "         [7.89740645e-01],\n",
       "         [8.94599327e-02],\n",
       "         [8.94599327e-02],\n",
       "         [9.04993424e-01],\n",
       "         [9.04993424e-01],\n",
       "         [6.25097202e-01],\n",
       "         [6.25097202e-01],\n",
       "         [7.47152430e-01],\n",
       "         [7.47152430e-01],\n",
       "         [3.90062182e-01],\n",
       "         [3.90062182e-01],\n",
       "         [9.76500355e-01],\n",
       "         [9.76500355e-01],\n",
       "         [3.08394046e-01],\n",
       "         [3.08394046e-01],\n",
       "         [6.92640322e-01],\n",
       "         [6.92640322e-01],\n",
       "         [1.71844594e-01],\n",
       "         [1.71844594e-01],\n",
       "         [5.14993979e-01],\n",
       "         [5.14993979e-01],\n",
       "         [4.53198375e-01],\n",
       "         [4.53198375e-01],\n",
       "         [9.47866288e-01],\n",
       "         [9.47866288e-01],\n",
       "         [8.86206207e-01],\n",
       "         [8.86206207e-01],\n",
       "         [2.07704336e-01],\n",
       "         [2.07704336e-01],\n",
       "         [2.59888296e-01],\n",
       "         [2.59888296e-01],\n",
       "         [6.53835900e-03],\n",
       "         [6.53835900e-03],\n",
       "         [8.20410378e-01],\n",
       "         [8.20410378e-01],\n",
       "         [6.17643783e-01],\n",
       "         [6.17643783e-01],\n",
       "         [5.79591707e-01],\n",
       "         [5.79591707e-01],\n",
       "         [1.78297572e-02],\n",
       "         [1.78297572e-02],\n",
       "         [2.45825480e-01],\n",
       "         [2.45825480e-01],\n",
       "         [1.60042556e-01],\n",
       "         [1.60042556e-01],\n",
       "         [8.16930744e-01],\n",
       "         [8.16930744e-01],\n",
       "         [6.25323007e-01],\n",
       "         [6.25323007e-01],\n",
       "         [3.87326416e-01],\n",
       "         [3.87326416e-01]])}}"
      ]
     },
     "execution_count": 1,
     "metadata": {},
     "output_type": "execute_result"
    }
   ],
   "source": [
    "ds = load_by_id(run_id_a)\n",
    "ds.get_parameter_data('x1')"
   ]
  },
  {
   "cell_type": "code",
   "execution_count": null,
   "metadata": {},
   "outputs": [],
   "source": []
  }
 ],
 "metadata": {
  "kernelspec": {
   "display_name": "Python 3",
   "language": "python",
   "name": "python3"
  },
  "language_info": {
   "codemirror_mode": {
    "name": "ipython",
    "version": 3
   },
   "file_extension": ".py",
   "mimetype": "text/x-python",
   "name": "python",
   "nbconvert_exporter": "python",
   "pygments_lexer": "ipython3",
   "version": "3.7.9"
  },
  "nbsphinx": {
   "timeout": 600
  },
  "toc": {
   "base_numbering": 1,
   "nav_menu": {},
   "number_sections": true,
   "sideBar": true,
   "skip_h1_title": false,
   "title_cell": "Table of Contents",
   "title_sidebar": "Contents",
   "toc_cell": false,
   "toc_position": {},
   "toc_section_display": true,
   "toc_window_display": false
  },
  "varInspector": {
   "cols": {
    "lenName": 16,
    "lenType": 16,
    "lenVar": 40
   },
   "kernels_config": {
    "python": {
     "delete_cmd_postfix": "",
     "delete_cmd_prefix": "del ",
     "library": "var_list.py",
     "varRefreshCmd": "print(var_dic_list())"
    },
    "r": {
     "delete_cmd_postfix": ") ",
     "delete_cmd_prefix": "rm(",
     "library": "var_list.r",
     "varRefreshCmd": "cat(var_dic_list()) "
    }
   },
   "types_to_exclude": [
    "module",
    "function",
    "builtin_function_or_method",
    "instance",
    "_Feature"
   ],
   "window_display": false
  }
 },
 "nbformat": 4,
 "nbformat_minor": 2
}
