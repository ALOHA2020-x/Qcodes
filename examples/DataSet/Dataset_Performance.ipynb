{
 "cells": [
  {
   "cell_type": "markdown",
   "metadata": {},
   "source": [
    "# DataSet Performance\n",
    "\n",
    "This notebook shows the trade-off between inserting data into a database row-by-row and as binary blobs. Inserting the data row-by-row means that we have direct access to all the data and may perform queries directly on the values of the data. On the other hand, as we shall see, this is much slower than inserting the data directly as binary blobs."
   ]
  },
  {
   "cell_type": "markdown",
   "metadata": {},
   "source": [
    "First, we choose a new location for the database to ensure that we don't add a bunch of benchmarking data to the default one."
   ]
  },
  {
   "cell_type": "code",
   "execution_count": 1,
   "metadata": {},
   "outputs": [
    {
     "name": "stdout",
     "output_type": "stream",
     "text": [
      "Logging hadn't been started.\n",
      "Activating auto-logging. Current session state plus future input saved.\n",
      "Filename       : /home/vsts/.qcodes/logs/command_history.log\n",
      "Mode           : append\n",
      "Output logging : True\n",
      "Raw input log  : False\n",
      "Timestamping   : True\n",
      "State          : active\n"
     ]
    },
    {
     "name": "stdout",
     "output_type": "stream",
     "text": [
      "Qcodes Logfile : /home/vsts/.qcodes/logs/200417-18397-qcodes.log\n"
     ]
    }
   ],
   "source": [
    "import os\n",
    "cwd = os.getcwd()\n",
    "import qcodes as qc\n",
    "qc.config[\"core\"][\"db_location\"] = os.path.join(cwd, 'testing.db')\n"
   ]
  },
  {
   "cell_type": "code",
   "execution_count": 2,
   "metadata": {},
   "outputs": [],
   "source": [
    "%matplotlib inline\n",
    "import time\n",
    "import matplotlib.pyplot as plt\n",
    "import numpy as np\n",
    "\n",
    "import qcodes as qc\n",
    "from qcodes.instrument.parameter import ManualParameter\n",
    "from qcodes.dataset.experiment_container import (Experiment,\n",
    "                                                 load_last_experiment,\n",
    "                                                 new_experiment)\n",
    "from qcodes.dataset.sqlite.database import initialise_database\n",
    "from qcodes import load_or_create_experiment\n",
    "from qcodes.dataset.measurements import Measurement"
   ]
  },
  {
   "cell_type": "code",
   "execution_count": 3,
   "metadata": {},
   "outputs": [
    {
     "name": "stdout",
     "output_type": "stream",
     "text": [
      "\r",
      "0it [00:00, ?it/s]"
     ]
    },
    {
     "name": "stdout",
     "output_type": "stream",
     "text": [
      "\r",
      "Upgrading database; v0 -> v1: : 0it [00:00, ?it/s]"
     ]
    },
    {
     "name": "stdout",
     "output_type": "stream",
     "text": [
      "\r",
      "Upgrading database; v0 -> v1: : 0it [00:00, ?it/s]"
     ]
    },
    {
     "name": "stdout",
     "output_type": "stream",
     "text": [
      "\n",
      "\r",
      "  0%|          | 0/1 [00:00<?, ?it/s]"
     ]
    },
    {
     "name": "stdout",
     "output_type": "stream",
     "text": [
      "\r",
      "Upgrading database; v1 -> v2:   0%|          | 0/1 [00:00<?, ?it/s]"
     ]
    },
    {
     "name": "stdout",
     "output_type": "stream",
     "text": [
      "\r",
      "Upgrading database; v1 -> v2: 100%|██████████| 1/1 [00:00<00:00, 1045.70it/s]"
     ]
    },
    {
     "name": "stdout",
     "output_type": "stream",
     "text": [
      "\n",
      "\r",
      "0it [00:00, ?it/s]"
     ]
    },
    {
     "name": "stdout",
     "output_type": "stream",
     "text": [
      "\r",
      "Upgrading database; v2 -> v3: : 0it [00:00, ?it/s]"
     ]
    },
    {
     "name": "stdout",
     "output_type": "stream",
     "text": [
      "\r",
      "Upgrading database; v2 -> v3: : 0it [00:00, ?it/s]"
     ]
    },
    {
     "name": "stdout",
     "output_type": "stream",
     "text": [
      "\n",
      "\r",
      "0it [00:00, ?it/s]"
     ]
    },
    {
     "name": "stdout",
     "output_type": "stream",
     "text": [
      "\r",
      "Upgrading database; v3 -> v4: : 0it [00:00, ?it/s]"
     ]
    },
    {
     "name": "stdout",
     "output_type": "stream",
     "text": [
      "\r",
      "Upgrading database; v3 -> v4: : 0it [00:00, ?it/s]"
     ]
    },
    {
     "name": "stdout",
     "output_type": "stream",
     "text": [
      "\n",
      "\r",
      "  0%|          | 0/1 [00:00<?, ?it/s]"
     ]
    },
    {
     "name": "stdout",
     "output_type": "stream",
     "text": [
      "\r",
      "Upgrading database; v4 -> v5:   0%|          | 0/1 [00:00<?, ?it/s]"
     ]
    },
    {
     "name": "stdout",
     "output_type": "stream",
     "text": [
      "\r",
      "Upgrading database; v4 -> v5: 100%|██████████| 1/1 [00:00<00:00, 1049.36it/s]"
     ]
    },
    {
     "name": "stdout",
     "output_type": "stream",
     "text": [
      "\n",
      "\r",
      "0it [00:00, ?it/s]"
     ]
    },
    {
     "name": "stdout",
     "output_type": "stream",
     "text": [
      "\r",
      "Upgrading database; v5 -> v6: : 0it [00:00, ?it/s]"
     ]
    },
    {
     "name": "stdout",
     "output_type": "stream",
     "text": [
      "\r",
      "Upgrading database; v5 -> v6: : 0it [00:00, ?it/s]"
     ]
    },
    {
     "name": "stdout",
     "output_type": "stream",
     "text": [
      "\n",
      "\r",
      "  0%|          | 0/1 [00:00<?, ?it/s]"
     ]
    },
    {
     "name": "stdout",
     "output_type": "stream",
     "text": [
      "\r",
      "Upgrading database; v6 -> v7:   0%|          | 0/1 [00:00<?, ?it/s]"
     ]
    },
    {
     "name": "stdout",
     "output_type": "stream",
     "text": [
      "\r",
      "Upgrading database; v6 -> v7: 100%|██████████| 1/1 [00:00<00:00, 485.85it/s]"
     ]
    },
    {
     "name": "stdout",
     "output_type": "stream",
     "text": [
      "\n",
      "\r",
      "  0%|          | 0/1 [00:00<?, ?it/s]"
     ]
    },
    {
     "name": "stdout",
     "output_type": "stream",
     "text": [
      "\r",
      "Upgrading database; v7 -> v8:   0%|          | 0/1 [00:00<?, ?it/s]"
     ]
    },
    {
     "name": "stdout",
     "output_type": "stream",
     "text": [
      "\r",
      "Upgrading database; v7 -> v8: 100%|██████████| 1/1 [00:00<00:00, 829.73it/s]"
     ]
    },
    {
     "name": "stdout",
     "output_type": "stream",
     "text": [
      "\n",
      "\r",
      "  0%|          | 0/1 [00:00<?, ?it/s]"
     ]
    },
    {
     "name": "stdout",
     "output_type": "stream",
     "text": [
      "\r",
      "Upgrading database; v8 -> v9:   0%|          | 0/1 [00:00<?, ?it/s]"
     ]
    },
    {
     "name": "stdout",
     "output_type": "stream",
     "text": [
      "\r",
      "Upgrading database; v8 -> v9: 100%|██████████| 1/1 [00:00<00:00, 1099.42it/s]"
     ]
    },
    {
     "name": "stdout",
     "output_type": "stream",
     "text": [
      "\n"
     ]
    }
   ],
   "source": [
    "initialise_database()\n",
    "exp = load_or_create_experiment(experiment_name='tutorial_exp', sample_name=\"no sample\")"
   ]
  },
  {
   "cell_type": "markdown",
   "metadata": {},
   "source": [
    "Here, we define a simple function to benchmark the time it takes to insert n points with either numeric or array data type.\n",
    "We will compare both the time used to call ``add_result`` and the time used for the full measurement."
   ]
  },
  {
   "cell_type": "code",
   "execution_count": 4,
   "metadata": {},
   "outputs": [],
   "source": [
    "def insert_data(paramtype, npoints, nreps=1):\n",
    "\n",
    "    meas = Measurement(exp=exp)\n",
    "\n",
    "    x1 = ManualParameter('x1')\n",
    "    x2 = ManualParameter('x2')\n",
    "    x3 = ManualParameter('x3')\n",
    "    y1 = ManualParameter('y1')\n",
    "    y2 = ManualParameter('y2')\n",
    "\n",
    "    meas.register_parameter(x1, paramtype=paramtype)\n",
    "    meas.register_parameter(x2, paramtype=paramtype)\n",
    "    meas.register_parameter(x3, paramtype=paramtype)\n",
    "    meas.register_parameter(y1, setpoints=[x1, x2, x3],\n",
    "                            paramtype=paramtype)\n",
    "    meas.register_parameter(y2, setpoints=[x1, x2, x3],\n",
    "                            paramtype=paramtype)\n",
    "    start = time.perf_counter()\n",
    "    with meas.run() as datasaver:\n",
    "        start_adding = time.perf_counter()\n",
    "        for i in range(nreps):\n",
    "            datasaver.add_result((x1, np.random.rand(npoints)),\n",
    "                                 (x2, np.random.rand(npoints)),\n",
    "                                 (x3, np.random.rand(npoints)),\n",
    "                                 (y1, np.random.rand(npoints)),\n",
    "                                 (y2, np.random.rand(npoints)))\n",
    "        stop_adding = time.perf_counter()\n",
    "        run_id = datasaver.run_id\n",
    "    stop = time.perf_counter()\n",
    "    tot_time = stop - start\n",
    "    add_time = stop_adding - start_adding\n",
    "    return tot_time, add_time, run_id"
   ]
  },
  {
   "cell_type": "markdown",
   "metadata": {},
   "source": [
    "## Comparison between numeric/array data and binary blob"
   ]
  },
  {
   "cell_type": "markdown",
   "metadata": {},
   "source": [
    "### Case1: Short experiment time"
   ]
  },
  {
   "cell_type": "code",
   "execution_count": 5,
   "metadata": {},
   "outputs": [
    {
     "name": "stdout",
     "output_type": "stream",
     "text": [
      "Starting experimental run with id: 1. \n",
      "Starting experimental run with id: 2. \n",
      "Starting experimental run with id: 3. \n",
      "Starting experimental run with id: 4. \n"
     ]
    },
    {
     "name": "stdout",
     "output_type": "stream",
     "text": [
      "Starting experimental run with id: 5. \n"
     ]
    },
    {
     "name": "stdout",
     "output_type": "stream",
     "text": [
      "Starting experimental run with id: 6. \n"
     ]
    },
    {
     "name": "stdout",
     "output_type": "stream",
     "text": [
      "Starting experimental run with id: 7. \n"
     ]
    },
    {
     "name": "stdout",
     "output_type": "stream",
     "text": [
      "Starting experimental run with id: 8. \n",
      "Starting experimental run with id: 9. \n"
     ]
    },
    {
     "name": "stdout",
     "output_type": "stream",
     "text": [
      "Starting experimental run with id: 10. \n",
      "Starting experimental run with id: 11. \n"
     ]
    },
    {
     "name": "stdout",
     "output_type": "stream",
     "text": [
      "Starting experimental run with id: 12. \n"
     ]
    },
    {
     "name": "stdout",
     "output_type": "stream",
     "text": [
      "Starting experimental run with id: 13. \n"
     ]
    },
    {
     "name": "stdout",
     "output_type": "stream",
     "text": [
      "Starting experimental run with id: 14. \n"
     ]
    }
   ],
   "source": [
    "sizes = [1,500,1000,2000,3000,4000,5000]\n",
    "t_numeric = []\n",
    "t_numeric_add = []\n",
    "t_array = []\n",
    "t_array_add = []\n",
    "for size in sizes:\n",
    "    tn, tna, run_id_n =  insert_data('numeric', size)\n",
    "    t_numeric.append(tn)\n",
    "    t_numeric_add.append(tna)\n",
    "\n",
    "    ta, taa, run_id_a =  insert_data('array', size)\n",
    "    t_array.append(ta)\n",
    "    t_array_add.append(taa)"
   ]
  },
  {
   "cell_type": "code",
   "execution_count": 6,
   "metadata": {},
   "outputs": [
    {
     "data": {
      "image/png": "[encoded data removed]",
      "text/plain": [
       "<Figure size 432x288 with 1 Axes>"
      ]
     },
     "metadata": {
      "needs_background": "light"
     },
     "output_type": "display_data"
    }
   ],
   "source": [
    "fig, ax = plt.subplots(1,1)\n",
    "ax.plot(sizes, t_numeric, 'o-', label='Inserting row-by-row')\n",
    "ax.plot(sizes, t_numeric_add, 'o-', label='Inserting row-by-row: add_result only')\n",
    "ax.plot(sizes, t_array, 'd-', label='Inserting as binary blob')\n",
    "ax.plot(sizes, t_array_add, 'd-', label='Inserting as binary blob: add_result only')\n",
    "ax.legend()\n",
    "ax.set_xlabel('Array length')\n",
    "ax.set_ylabel('Time (s)')\n",
    "fig.tight_layout()"
   ]
  },
  {
   "cell_type": "markdown",
   "metadata": {},
   "source": [
    "As shown in the latter figure, the time to setup and and close the experiment is approximately 0.4 sec. In case of small array sizes, the difference between inserting values of data as arrays and inserting them row-by-row is relatively unimportant. At larger array sizes, i.e. above 10000 points, the cost of writing data as individual datapoints starts to become important.\n"
   ]
  },
  {
   "cell_type": "markdown",
   "metadata": {},
   "source": [
    "### Case2: Long experiment time "
   ]
  },
  {
   "cell_type": "code",
   "execution_count": 7,
   "metadata": {},
   "outputs": [
    {
     "name": "stdout",
     "output_type": "stream",
     "text": [
      "Starting experimental run with id: 15. \n",
      "Starting experimental run with id: 16. \n",
      "Starting experimental run with id: 17. \n"
     ]
    },
    {
     "name": "stdout",
     "output_type": "stream",
     "text": [
      "Starting experimental run with id: 18. \n",
      "Starting experimental run with id: 19. \n"
     ]
    },
    {
     "name": "stdout",
     "output_type": "stream",
     "text": [
      "Starting experimental run with id: 20. \n"
     ]
    },
    {
     "name": "stdout",
     "output_type": "stream",
     "text": [
      "Starting experimental run with id: 21. \n"
     ]
    },
    {
     "name": "stdout",
     "output_type": "stream",
     "text": [
      "Starting experimental run with id: 22. \n"
     ]
    },
    {
     "name": "stdout",
     "output_type": "stream",
     "text": [
      "Starting experimental run with id: 23. \n"
     ]
    },
    {
     "name": "stdout",
     "output_type": "stream",
     "text": [
      "Starting experimental run with id: 24. \n"
     ]
    },
    {
     "name": "stdout",
     "output_type": "stream",
     "text": [
      "Starting experimental run with id: 25. \n"
     ]
    },
    {
     "name": "stdout",
     "output_type": "stream",
     "text": [
      "Starting experimental run with id: 26. \n"
     ]
    },
    {
     "name": "stdout",
     "output_type": "stream",
     "text": [
      "Starting experimental run with id: 27. \n"
     ]
    },
    {
     "name": "stdout",
     "output_type": "stream",
     "text": [
      "Starting experimental run with id: 28. \n"
     ]
    }
   ],
   "source": [
    "sizes = [1,500,1000,2000,3000,4000,5000]\n",
    "nreps = 100\n",
    "t_numeric = []\n",
    "t_numeric_add = []\n",
    "t_numeric_run_ids = []\n",
    "t_array = []\n",
    "t_array_add = []\n",
    "t_array_run_ids = []\n",
    "for size in sizes:\n",
    "    tn, tna, run_id_n =  insert_data('numeric', size, nreps=nreps)\n",
    "    t_numeric.append(tn)\n",
    "    t_numeric_add.append(tna)\n",
    "    t_numeric_run_ids.append(run_id_n)\n",
    "\n",
    "    ta, taa, run_id_a =  insert_data('array', size, nreps=nreps)\n",
    "    t_array.append(ta)\n",
    "    t_array_add.append(taa)\n",
    "    t_array_run_ids.append(run_id_a)"
   ]
  },
  {
   "cell_type": "code",
   "execution_count": 8,
   "metadata": {
    "scrolled": true
   },
   "outputs": [
    {
     "data": {
      "image/png": "[encoded data removed]",
      "text/plain": [
       "<Figure size 432x288 with 1 Axes>"
      ]
     },
     "metadata": {
      "needs_background": "light"
     },
     "output_type": "display_data"
    }
   ],
   "source": [
    "fig, ax = plt.subplots(1,1)\n",
    "ax.plot(sizes, t_numeric, 'o-', label='Inserting row-by-row')\n",
    "ax.plot(sizes, t_numeric_add, 'o-', label='Inserting row-by-row: add_result only')\n",
    "ax.plot(sizes, t_array, 'd-', label='Inserting as binary blob')\n",
    "ax.plot(sizes, t_array_add, 'd-', label='Inserting as binary blob: add_result only')\n",
    "ax.legend()\n",
    "ax.set_xlabel('Array length')\n",
    "ax.set_ylabel('Time (s)')\n",
    "fig.tight_layout()"
   ]
  },
  {
   "cell_type": "markdown",
   "metadata": {},
   "source": [
    "However, as we increase the length of the experiment, as seen here by repeating the insertion 100 times, we see a big difference between inserting values of the data row-by-row and inserting it as a binary blob."
   ]
  },
  {
   "cell_type": "markdown",
   "metadata": {},
   "source": [
    "## Loading the data "
   ]
  },
  {
   "cell_type": "code",
   "execution_count": 9,
   "metadata": {},
   "outputs": [],
   "source": [
    "from qcodes.dataset.data_set import load_by_id\n",
    "from qcodes.dataset.data_export import get_data_by_id"
   ]
  },
  {
   "cell_type": "markdown",
   "metadata": {},
   "source": [
    "As usual you can load the data by using the ``load_by_id`` function but you will notice that the different storage methods\n",
    "are reflected in shape of the data as it is retrieved. "
   ]
  },
  {
   "cell_type": "code",
   "execution_count": 10,
   "metadata": {},
   "outputs": [],
   "source": [
    "run_id_n = t_numeric_run_ids[0]\n",
    "run_id_a = t_array_run_ids[0]"
   ]
  },
  {
   "cell_type": "code",
   "execution_count": 11,
   "metadata": {
    "scrolled": true
   },
   "outputs": [
    {
     "data": {
      "text/plain": [
       "{'x1': {'x1': array([8.77011992e-01, 8.77011992e-01, 2.31276643e-01, 2.31276643e-01,\n",
       "         5.67618740e-03, 5.67618740e-03, 3.07793514e-01, 3.07793514e-01,\n",
       "         3.16138508e-02, 3.16138508e-02, 6.41721338e-01, 6.41721338e-01,\n",
       "         4.17131304e-01, 4.17131304e-01, 1.43569908e-01, 1.43569908e-01,\n",
       "         9.39655985e-01, 9.39655985e-01, 2.30853065e-01, 2.30853065e-01,\n",
       "         7.83658507e-02, 7.83658507e-02, 7.33011254e-01, 7.33011254e-01,\n",
       "         6.40296154e-01, 6.40296154e-01, 6.51752998e-01, 6.51752998e-01,\n",
       "         4.05529708e-01, 4.05529708e-01, 7.02015469e-01, 7.02015469e-01,\n",
       "         6.67337821e-02, 6.67337821e-02, 6.01222575e-01, 6.01222575e-01,\n",
       "         6.86978678e-01, 6.86978678e-01, 5.85034940e-01, 5.85034940e-01,\n",
       "         2.53982644e-01, 2.53982644e-01, 6.25520878e-01, 6.25520878e-01,\n",
       "         3.97199485e-01, 3.97199485e-01, 8.54290730e-01, 8.54290730e-01,\n",
       "         9.98408191e-02, 9.98408191e-02, 4.90390713e-01, 4.90390713e-01,\n",
       "         6.86367177e-01, 6.86367177e-01, 9.38360640e-01, 9.38360640e-01,\n",
       "         6.23372138e-02, 6.23372138e-02, 1.71082023e-01, 1.71082023e-01,\n",
       "         5.61088107e-01, 5.61088107e-01, 3.25290556e-01, 3.25290556e-01,\n",
       "         1.55118897e-01, 1.55118897e-01, 9.74054002e-01, 9.74054002e-01,\n",
       "         1.68071958e-01, 1.68071958e-01, 3.25153821e-01, 3.25153821e-01,\n",
       "         9.48712546e-02, 9.48712546e-02, 8.46828404e-01, 8.46828404e-01,\n",
       "         6.92380557e-01, 6.92380557e-01, 7.25279471e-01, 7.25279471e-01,\n",
       "         5.70491975e-01, 5.70491975e-01, 1.69901881e-01, 1.69901881e-01,\n",
       "         8.66756261e-02, 8.66756261e-02, 1.04043841e-01, 1.04043841e-01,\n",
       "         5.80632740e-01, 5.80632740e-01, 9.17374895e-01, 9.17374895e-01,\n",
       "         9.59048138e-01, 9.59048138e-01, 3.71405180e-01, 3.71405180e-01,\n",
       "         3.81570420e-01, 3.81570420e-01, 3.49978552e-01, 3.49978552e-01,\n",
       "         6.32502946e-01, 6.32502946e-01, 6.09861395e-01, 6.09861395e-01,\n",
       "         4.80477448e-01, 4.80477448e-01, 2.18752260e-02, 2.18752260e-02,\n",
       "         8.15971202e-01, 8.15971202e-01, 2.57733075e-01, 2.57733075e-01,\n",
       "         3.24168810e-01, 3.24168810e-01, 6.14685207e-02, 6.14685207e-02,\n",
       "         5.40190763e-02, 5.40190763e-02, 5.18300746e-01, 5.18300746e-01,\n",
       "         4.52334847e-01, 4.52334847e-01, 5.09421742e-01, 5.09421742e-01,\n",
       "         3.73769178e-01, 3.73769178e-01, 9.41984348e-01, 9.41984348e-01,\n",
       "         4.54072566e-01, 4.54072566e-01, 1.18873754e-01, 1.18873754e-01,\n",
       "         7.93148913e-01, 7.93148913e-01, 3.33818471e-01, 3.33818471e-01,\n",
       "         9.80894917e-01, 9.80894917e-01, 3.80182579e-02, 3.80182579e-02,\n",
       "         6.62816017e-01, 6.62816017e-01, 3.29488275e-01, 3.29488275e-01,\n",
       "         8.35915674e-01, 8.35915674e-01, 4.71771810e-01, 4.71771810e-01,\n",
       "         9.00027298e-01, 9.00027298e-01, 8.09013078e-01, 8.09013078e-01,\n",
       "         2.78870557e-01, 2.78870557e-01, 7.01639824e-01, 7.01639824e-01,\n",
       "         2.08725410e-01, 2.08725410e-01, 4.27202343e-01, 4.27202343e-01,\n",
       "         5.65175736e-01, 5.65175736e-01, 6.65290529e-01, 6.65290529e-01,\n",
       "         5.89810731e-01, 5.89810731e-01, 5.27952535e-01, 5.27952535e-01,\n",
       "         1.97954709e-02, 1.97954709e-02, 8.35426337e-04, 8.35426337e-04,\n",
       "         9.33445433e-01, 9.33445433e-01, 5.04083947e-01, 5.04083947e-01,\n",
       "         9.97438783e-01, 9.97438783e-01, 3.16418709e-01, 3.16418709e-01,\n",
       "         3.53915800e-02, 3.53915800e-02, 4.80871339e-01, 4.80871339e-01,\n",
       "         5.61317851e-01, 5.61317851e-01, 8.40097250e-01, 8.40097250e-01,\n",
       "         2.76736456e-01, 2.76736456e-01, 6.16384791e-01, 6.16384791e-01,\n",
       "         4.46303605e-01, 4.46303605e-01, 5.52972131e-01, 5.52972131e-01,\n",
       "         9.90093771e-01, 9.90093771e-01, 5.68058548e-01, 5.68058548e-01])}}"
      ]
     },
     "execution_count": 11,
     "metadata": {},
     "output_type": "execute_result"
    }
   ],
   "source": [
    "ds = load_by_id(run_id_n)\n",
    "ds.get_parameter_data('x1')"
   ]
  },
  {
   "cell_type": "markdown",
   "metadata": {},
   "source": [
    "And a dataset stored as binary arrays"
   ]
  },
  {
   "cell_type": "code",
   "execution_count": 12,
   "metadata": {
    "scrolled": true
   },
   "outputs": [
    {
     "data": {
      "text/plain": [
       "{'x1': {'x1': array([[0.33956664],\n",
       "         [0.33956664],\n",
       "         [0.93614206],\n",
       "         [0.93614206],\n",
       "         [0.02707289],\n",
       "         [0.02707289],\n",
       "         [0.89167902],\n",
       "         [0.89167902],\n",
       "         [0.41860229],\n",
       "         [0.41860229],\n",
       "         [0.5003945 ],\n",
       "         [0.5003945 ],\n",
       "         [0.68163804],\n",
       "         [0.68163804],\n",
       "         [0.35284292],\n",
       "         [0.35284292],\n",
       "         [0.19491153],\n",
       "         [0.19491153],\n",
       "         [0.14014303],\n",
       "         [0.14014303],\n",
       "         [0.83273658],\n",
       "         [0.83273658],\n",
       "         [0.45716411],\n",
       "         [0.45716411],\n",
       "         [0.85234892],\n",
       "         [0.85234892],\n",
       "         [0.12783595],\n",
       "         [0.12783595],\n",
       "         [0.61561231],\n",
       "         [0.61561231],\n",
       "         [0.85924528],\n",
       "         [0.85924528],\n",
       "         [0.24725294],\n",
       "         [0.24725294],\n",
       "         [0.70722828],\n",
       "         [0.70722828],\n",
       "         [0.55657767],\n",
       "         [0.55657767],\n",
       "         [0.70056065],\n",
       "         [0.70056065],\n",
       "         [0.09186421],\n",
       "         [0.09186421],\n",
       "         [0.08480788],\n",
       "         [0.08480788],\n",
       "         [0.11231083],\n",
       "         [0.11231083],\n",
       "         [0.62617678],\n",
       "         [0.62617678],\n",
       "         [0.15622376],\n",
       "         [0.15622376],\n",
       "         [0.52860476],\n",
       "         [0.52860476],\n",
       "         [0.22485956],\n",
       "         [0.22485956],\n",
       "         [0.52350503],\n",
       "         [0.52350503],\n",
       "         [0.58609306],\n",
       "         [0.58609306],\n",
       "         [0.75482065],\n",
       "         [0.75482065],\n",
       "         [0.76463562],\n",
       "         [0.76463562],\n",
       "         [0.88240376],\n",
       "         [0.88240376],\n",
       "         [0.33702064],\n",
       "         [0.33702064],\n",
       "         [0.43831636],\n",
       "         [0.43831636],\n",
       "         [0.96889265],\n",
       "         [0.96889265],\n",
       "         [0.28803434],\n",
       "         [0.28803434],\n",
       "         [0.73504768],\n",
       "         [0.73504768],\n",
       "         [0.28326229],\n",
       "         [0.28326229],\n",
       "         [0.21096815],\n",
       "         [0.21096815],\n",
       "         [0.65220325],\n",
       "         [0.65220325],\n",
       "         [0.86344868],\n",
       "         [0.86344868],\n",
       "         [0.82392797],\n",
       "         [0.82392797],\n",
       "         [0.5175963 ],\n",
       "         [0.5175963 ],\n",
       "         [0.06840429],\n",
       "         [0.06840429],\n",
       "         [0.39626708],\n",
       "         [0.39626708],\n",
       "         [0.19409328],\n",
       "         [0.19409328],\n",
       "         [0.92611129],\n",
       "         [0.92611129],\n",
       "         [0.61153153],\n",
       "         [0.61153153],\n",
       "         [0.9320965 ],\n",
       "         [0.9320965 ],\n",
       "         [0.82134076],\n",
       "         [0.82134076],\n",
       "         [0.30512025],\n",
       "         [0.30512025],\n",
       "         [0.4583173 ],\n",
       "         [0.4583173 ],\n",
       "         [0.41327184],\n",
       "         [0.41327184],\n",
       "         [0.44261272],\n",
       "         [0.44261272],\n",
       "         [0.4742724 ],\n",
       "         [0.4742724 ],\n",
       "         [0.80862284],\n",
       "         [0.80862284],\n",
       "         [0.94644059],\n",
       "         [0.94644059],\n",
       "         [0.97214945],\n",
       "         [0.97214945],\n",
       "         [0.87296842],\n",
       "         [0.87296842],\n",
       "         [0.79407649],\n",
       "         [0.79407649],\n",
       "         [0.33801678],\n",
       "         [0.33801678],\n",
       "         [0.4230036 ],\n",
       "         [0.4230036 ],\n",
       "         [0.97800229],\n",
       "         [0.97800229],\n",
       "         [0.91466175],\n",
       "         [0.91466175],\n",
       "         [0.65453223],\n",
       "         [0.65453223],\n",
       "         [0.99986803],\n",
       "         [0.99986803],\n",
       "         [0.29046166],\n",
       "         [0.29046166],\n",
       "         [0.42733095],\n",
       "         [0.42733095],\n",
       "         [0.27456828],\n",
       "         [0.27456828],\n",
       "         [0.06870106],\n",
       "         [0.06870106],\n",
       "         [0.9341271 ],\n",
       "         [0.9341271 ],\n",
       "         [0.613486  ],\n",
       "         [0.613486  ],\n",
       "         [0.43171047],\n",
       "         [0.43171047],\n",
       "         [0.09013227],\n",
       "         [0.09013227],\n",
       "         [0.33299894],\n",
       "         [0.33299894],\n",
       "         [0.10296281],\n",
       "         [0.10296281],\n",
       "         [0.1176815 ],\n",
       "         [0.1176815 ],\n",
       "         [0.47274615],\n",
       "         [0.47274615],\n",
       "         [0.3234455 ],\n",
       "         [0.3234455 ],\n",
       "         [0.71778414],\n",
       "         [0.71778414],\n",
       "         [0.1597793 ],\n",
       "         [0.1597793 ],\n",
       "         [0.25329502],\n",
       "         [0.25329502],\n",
       "         [0.42225583],\n",
       "         [0.42225583],\n",
       "         [0.45502159],\n",
       "         [0.45502159],\n",
       "         [0.72985661],\n",
       "         [0.72985661],\n",
       "         [0.63948188],\n",
       "         [0.63948188],\n",
       "         [0.83852493],\n",
       "         [0.83852493],\n",
       "         [0.93943119],\n",
       "         [0.93943119],\n",
       "         [0.29645925],\n",
       "         [0.29645925],\n",
       "         [0.1625679 ],\n",
       "         [0.1625679 ],\n",
       "         [0.7286456 ],\n",
       "         [0.7286456 ],\n",
       "         [0.0887169 ],\n",
       "         [0.0887169 ],\n",
       "         [0.15065755],\n",
       "         [0.15065755],\n",
       "         [0.31443984],\n",
       "         [0.31443984],\n",
       "         [0.01266626],\n",
       "         [0.01266626],\n",
       "         [0.1241135 ],\n",
       "         [0.1241135 ],\n",
       "         [0.33705898],\n",
       "         [0.33705898],\n",
       "         [0.06740106],\n",
       "         [0.06740106],\n",
       "         [0.74101556],\n",
       "         [0.74101556],\n",
       "         [0.70167765],\n",
       "         [0.70167765]])}}"
      ]
     },
     "execution_count": 12,
     "metadata": {},
     "output_type": "execute_result"
    }
   ],
   "source": [
    "ds = load_by_id(run_id_a)\n",
    "ds.get_parameter_data('x1')"
   ]
  },
  {
   "cell_type": "code",
   "execution_count": null,
   "metadata": {},
   "outputs": [],
   "source": []
  }
 ],
 "metadata": {
  "kernelspec": {
   "display_name": "Python 3",
   "language": "python",
   "name": "python3"
  },
  "language_info": {
   "codemirror_mode": {
    "name": "ipython",
    "version": 3
   },
   "file_extension": ".py",
   "mimetype": "text/x-python",
   "name": "python",
   "nbconvert_exporter": "python",
   "pygments_lexer": "ipython3",
   "version": "3.7.7"
  },
  "nbsphinx": {
   "timeout": 600
  },
  "toc": {
   "base_numbering": 1,
   "nav_menu": {},
   "number_sections": true,
   "sideBar": true,
   "skip_h1_title": false,
   "title_cell": "Table of Contents",
   "title_sidebar": "Contents",
   "toc_cell": false,
   "toc_position": {},
   "toc_section_display": true,
   "toc_window_display": false
  },
  "varInspector": {
   "cols": {
    "lenName": 16,
    "lenType": 16,
    "lenVar": 40
   },
   "kernels_config": {
    "python": {
     "delete_cmd_postfix": "",
     "delete_cmd_prefix": "del ",
     "library": "var_list.py",
     "varRefreshCmd": "print(var_dic_list())"
    },
    "r": {
     "delete_cmd_postfix": ") ",
     "delete_cmd_prefix": "rm(",
     "library": "var_list.r",
     "varRefreshCmd": "cat(var_dic_list()) "
    }
   },
   "types_to_exclude": [
    "module",
    "function",
    "builtin_function_or_method",
    "instance",
    "_Feature"
   ],
   "window_display": false
  }
 },
 "nbformat": 4,
 "nbformat_minor": 2
}
