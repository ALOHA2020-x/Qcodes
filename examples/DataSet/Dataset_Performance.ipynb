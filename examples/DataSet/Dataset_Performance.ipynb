{
 "cells": [
  {
   "cell_type": "markdown",
   "metadata": {},
   "source": [
    "# DataSet Performance\n",
    "\n",
    "This notebook shows the trade-off between inserting data into a database row-by-row and as binary blobs. Inserting the data row-by-row means that we have direct access to all the data and may perform queries directly on the values of the data. On the other hand, as we shall see, this is much slower than inserting the data directly as binary blobs."
   ]
  },
  {
   "cell_type": "markdown",
   "metadata": {},
   "source": [
    "First, we choose a new location for the database to ensure that we don't add a bunch of benchmarking data to the default one."
   ]
  },
  {
   "cell_type": "code",
   "execution_count": 1,
   "metadata": {
    "execution": {
     "iopub.execute_input": "2020-10-26T11:58:53.265224Z",
     "iopub.status.busy": "2020-10-26T11:58:53.264668Z",
     "iopub.status.idle": "2020-10-26T11:58:54.295418Z",
     "shell.execute_reply": "2020-10-26T11:58:54.294598Z"
    }
   },
   "outputs": [
    {
     "name": "stdout",
     "output_type": "stream",
     "text": [
      "Logging hadn't been started.\n",
      "Activating auto-logging. Current session state plus future input saved.\n",
      "Filename       : /home/vsts/.qcodes/logs/command_history.log\n",
      "Mode           : append\n",
      "Output logging : True\n",
      "Raw input log  : False\n",
      "Timestamping   : True\n",
      "State          : active\n"
     ]
    },
    {
     "name": "stdout",
     "output_type": "stream",
     "text": [
      "Qcodes Logfile : /home/vsts/.qcodes/logs/201026-14752-qcodes.log\n"
     ]
    }
   ],
   "source": [
    "import os\n",
    "cwd = os.getcwd()\n",
    "import qcodes as qc\n",
    "qc.config[\"core\"][\"db_location\"] = os.path.join(cwd, 'testing.db')\n"
   ]
  },
  {
   "cell_type": "code",
   "execution_count": 2,
   "metadata": {
    "execution": {
     "iopub.execute_input": "2020-10-26T11:58:54.302637Z",
     "iopub.status.busy": "2020-10-26T11:58:54.300920Z",
     "iopub.status.idle": "2020-10-26T11:58:54.492190Z",
     "shell.execute_reply": "2020-10-26T11:58:54.491112Z"
    }
   },
   "outputs": [],
   "source": [
    "%matplotlib inline\n",
    "import time\n",
    "import matplotlib.pyplot as plt\n",
    "import numpy as np\n",
    "\n",
    "import qcodes as qc\n",
    "from qcodes.instrument.parameter import ManualParameter\n",
    "from qcodes.dataset.experiment_container import (Experiment,\n",
    "                                                 load_last_experiment,\n",
    "                                                 new_experiment)\n",
    "from qcodes.dataset.sqlite.database import initialise_database\n",
    "from qcodes import load_or_create_experiment\n",
    "from qcodes.dataset.measurements import Measurement"
   ]
  },
  {
   "cell_type": "code",
   "execution_count": 3,
   "metadata": {
    "execution": {
     "iopub.execute_input": "2020-10-26T11:58:54.496694Z",
     "iopub.status.busy": "2020-10-26T11:58:54.495684Z",
     "iopub.status.idle": "2020-10-26T11:58:54.603909Z",
     "shell.execute_reply": "2020-10-26T11:58:54.603423Z"
    }
   },
   "outputs": [
    {
     "name": "stdout",
     "output_type": "stream",
     "text": [
      "\r",
      "0it [00:00, ?it/s]"
     ]
    },
    {
     "name": "stdout",
     "output_type": "stream",
     "text": [
      "\r",
      "Upgrading database; v0 -> v1: : 0it [00:00, ?it/s]"
     ]
    },
    {
     "name": "stdout",
     "output_type": "stream",
     "text": [
      "\r",
      "Upgrading database; v0 -> v1: : 0it [00:00, ?it/s]"
     ]
    },
    {
     "name": "stdout",
     "output_type": "stream",
     "text": [
      "\n",
      "\r",
      "  0%|          | 0/1 [00:00<?, ?it/s]"
     ]
    },
    {
     "name": "stdout",
     "output_type": "stream",
     "text": [
      "\r",
      "Upgrading database; v1 -> v2:   0%|          | 0/1 [00:00<?, ?it/s]"
     ]
    },
    {
     "name": "stdout",
     "output_type": "stream",
     "text": [
      "\r",
      "Upgrading database; v1 -> v2: 100%|██████████| 1/1 [00:00<00:00, 363.24it/s]"
     ]
    },
    {
     "name": "stdout",
     "output_type": "stream",
     "text": [
      "\n",
      "\r",
      "0it [00:00, ?it/s]"
     ]
    },
    {
     "name": "stdout",
     "output_type": "stream",
     "text": [
      "\r",
      "Upgrading database; v2 -> v3: : 0it [00:00, ?it/s]"
     ]
    },
    {
     "name": "stdout",
     "output_type": "stream",
     "text": [
      "\r",
      "Upgrading database; v2 -> v3: : 0it [00:00, ?it/s]"
     ]
    },
    {
     "name": "stdout",
     "output_type": "stream",
     "text": [
      "\n",
      "\r",
      "0it [00:00, ?it/s]"
     ]
    },
    {
     "name": "stdout",
     "output_type": "stream",
     "text": [
      "\r",
      "Upgrading database; v3 -> v4: : 0it [00:00, ?it/s]"
     ]
    },
    {
     "name": "stdout",
     "output_type": "stream",
     "text": [
      "\r",
      "Upgrading database; v3 -> v4: : 0it [00:00, ?it/s]"
     ]
    },
    {
     "name": "stdout",
     "output_type": "stream",
     "text": [
      "\n",
      "\r",
      "  0%|          | 0/1 [00:00<?, ?it/s]"
     ]
    },
    {
     "name": "stdout",
     "output_type": "stream",
     "text": [
      "\r",
      "Upgrading database; v4 -> v5:   0%|          | 0/1 [00:00<?, ?it/s]"
     ]
    },
    {
     "name": "stdout",
     "output_type": "stream",
     "text": [
      "\r",
      "Upgrading database; v4 -> v5: 100%|██████████| 1/1 [00:00<00:00, 440.35it/s]"
     ]
    },
    {
     "name": "stdout",
     "output_type": "stream",
     "text": [
      "\n",
      "\r",
      "0it [00:00, ?it/s]"
     ]
    },
    {
     "name": "stdout",
     "output_type": "stream",
     "text": [
      "\r",
      "Upgrading database; v5 -> v6: : 0it [00:00, ?it/s]"
     ]
    },
    {
     "name": "stdout",
     "output_type": "stream",
     "text": [
      "\r",
      "Upgrading database; v5 -> v6: : 0it [00:00, ?it/s]"
     ]
    },
    {
     "name": "stdout",
     "output_type": "stream",
     "text": [
      "\n",
      "\r",
      "  0%|          | 0/1 [00:00<?, ?it/s]"
     ]
    },
    {
     "name": "stdout",
     "output_type": "stream",
     "text": [
      "\r",
      "Upgrading database; v6 -> v7:   0%|          | 0/1 [00:00<?, ?it/s]"
     ]
    },
    {
     "name": "stdout",
     "output_type": "stream",
     "text": [
      "\r",
      "Upgrading database; v6 -> v7: 100%|██████████| 1/1 [00:00<00:00, 273.67it/s]"
     ]
    },
    {
     "name": "stdout",
     "output_type": "stream",
     "text": [
      "\n",
      "\r",
      "  0%|          | 0/1 [00:00<?, ?it/s]"
     ]
    },
    {
     "name": "stdout",
     "output_type": "stream",
     "text": [
      "\r",
      "Upgrading database; v7 -> v8:   0%|          | 0/1 [00:00<?, ?it/s]"
     ]
    },
    {
     "name": "stdout",
     "output_type": "stream",
     "text": [
      "\r",
      "Upgrading database; v7 -> v8: 100%|██████████| 1/1 [00:00<00:00, 433.79it/s]"
     ]
    },
    {
     "name": "stdout",
     "output_type": "stream",
     "text": [
      "\n",
      "\r",
      "  0%|          | 0/1 [00:00<?, ?it/s]"
     ]
    },
    {
     "name": "stdout",
     "output_type": "stream",
     "text": [
      "\r",
      "Upgrading database; v8 -> v9:   0%|          | 0/1 [00:00<?, ?it/s]"
     ]
    },
    {
     "name": "stdout",
     "output_type": "stream",
     "text": [
      "\r",
      "Upgrading database; v8 -> v9: 100%|██████████| 1/1 [00:00<00:00, 409.68it/s]"
     ]
    },
    {
     "name": "stdout",
     "output_type": "stream",
     "text": [
      "\n"
     ]
    }
   ],
   "source": [
    "initialise_database()\n",
    "exp = load_or_create_experiment(experiment_name='tutorial_exp', sample_name=\"no sample\")"
   ]
  },
  {
   "cell_type": "markdown",
   "metadata": {},
   "source": [
    "Here, we define a simple function to benchmark the time it takes to insert n points with either numeric or array data type.\n",
    "We will compare both the time used to call ``add_result`` and the time used for the full measurement."
   ]
  },
  {
   "cell_type": "code",
   "execution_count": 4,
   "metadata": {
    "execution": {
     "iopub.execute_input": "2020-10-26T11:58:54.612078Z",
     "iopub.status.busy": "2020-10-26T11:58:54.611524Z",
     "iopub.status.idle": "2020-10-26T11:58:54.614675Z",
     "shell.execute_reply": "2020-10-26T11:58:54.615078Z"
    }
   },
   "outputs": [],
   "source": [
    "def insert_data(paramtype, npoints, nreps=1):\n",
    "\n",
    "    meas = Measurement(exp=exp)\n",
    "\n",
    "    x1 = ManualParameter('x1')\n",
    "    x2 = ManualParameter('x2')\n",
    "    x3 = ManualParameter('x3')\n",
    "    y1 = ManualParameter('y1')\n",
    "    y2 = ManualParameter('y2')\n",
    "\n",
    "    meas.register_parameter(x1, paramtype=paramtype)\n",
    "    meas.register_parameter(x2, paramtype=paramtype)\n",
    "    meas.register_parameter(x3, paramtype=paramtype)\n",
    "    meas.register_parameter(y1, setpoints=[x1, x2, x3],\n",
    "                            paramtype=paramtype)\n",
    "    meas.register_parameter(y2, setpoints=[x1, x2, x3],\n",
    "                            paramtype=paramtype)\n",
    "    start = time.perf_counter()\n",
    "    with meas.run() as datasaver:\n",
    "        start_adding = time.perf_counter()\n",
    "        for i in range(nreps):\n",
    "            datasaver.add_result((x1, np.random.rand(npoints)),\n",
    "                                 (x2, np.random.rand(npoints)),\n",
    "                                 (x3, np.random.rand(npoints)),\n",
    "                                 (y1, np.random.rand(npoints)),\n",
    "                                 (y2, np.random.rand(npoints)))\n",
    "        stop_adding = time.perf_counter()\n",
    "        run_id = datasaver.run_id\n",
    "    stop = time.perf_counter()\n",
    "    tot_time = stop - start\n",
    "    add_time = stop_adding - start_adding\n",
    "    return tot_time, add_time, run_id"
   ]
  },
  {
   "cell_type": "markdown",
   "metadata": {},
   "source": [
    "## Comparison between numeric/array data and binary blob"
   ]
  },
  {
   "cell_type": "markdown",
   "metadata": {},
   "source": [
    "### Case1: Short experiment time"
   ]
  },
  {
   "cell_type": "code",
   "execution_count": 5,
   "metadata": {
    "execution": {
     "iopub.execute_input": "2020-10-26T11:58:54.621304Z",
     "iopub.status.busy": "2020-10-26T11:58:54.620692Z",
     "iopub.status.idle": "2020-10-26T11:58:55.409983Z",
     "shell.execute_reply": "2020-10-26T11:58:55.410444Z"
    }
   },
   "outputs": [
    {
     "name": "stdout",
     "output_type": "stream",
     "text": [
      "Starting experimental run with id: 1. \n",
      "Starting experimental run with id: 2. \n",
      "Starting experimental run with id: 3. \n",
      "Starting experimental run with id: 4. \n",
      "Starting experimental run with id: 5. \n"
     ]
    },
    {
     "name": "stdout",
     "output_type": "stream",
     "text": [
      "Starting experimental run with id: 6. \n"
     ]
    },
    {
     "name": "stdout",
     "output_type": "stream",
     "text": [
      "Starting experimental run with id: 7. \n"
     ]
    },
    {
     "name": "stdout",
     "output_type": "stream",
     "text": [
      "Starting experimental run with id: 8. \n",
      "Starting experimental run with id: 9. \n"
     ]
    },
    {
     "name": "stdout",
     "output_type": "stream",
     "text": [
      "Starting experimental run with id: 10. \n",
      "Starting experimental run with id: 11. \n"
     ]
    },
    {
     "name": "stdout",
     "output_type": "stream",
     "text": [
      "Starting experimental run with id: 12. \n",
      "Starting experimental run with id: 13. \n"
     ]
    },
    {
     "name": "stdout",
     "output_type": "stream",
     "text": [
      "Starting experimental run with id: 14. \n"
     ]
    }
   ],
   "source": [
    "sizes = [1,500,1000,2000,3000,4000,5000]\n",
    "t_numeric = []\n",
    "t_numeric_add = []\n",
    "t_array = []\n",
    "t_array_add = []\n",
    "for size in sizes:\n",
    "    tn, tna, run_id_n =  insert_data('numeric', size)\n",
    "    t_numeric.append(tn)\n",
    "    t_numeric_add.append(tna)\n",
    "\n",
    "    ta, taa, run_id_a =  insert_data('array', size)\n",
    "    t_array.append(ta)\n",
    "    t_array_add.append(taa)"
   ]
  },
  {
   "cell_type": "code",
   "execution_count": 6,
   "metadata": {
    "execution": {
     "iopub.execute_input": "2020-10-26T11:58:55.435625Z",
     "iopub.status.busy": "2020-10-26T11:58:55.420372Z",
     "iopub.status.idle": "2020-10-26T11:58:55.601405Z",
     "shell.execute_reply": "2020-10-26T11:58:55.601938Z"
    }
   },
   "outputs": [
    {
     "data": {
      "image/png": "[encoded data removed]",
      "text/plain": [
       "<Figure size 432x288 with 1 Axes>"
      ]
     },
     "metadata": {
      "needs_background": "light"
     },
     "output_type": "display_data"
    }
   ],
   "source": [
    "fig, ax = plt.subplots(1,1)\n",
    "ax.plot(sizes, t_numeric, 'o-', label='Inserting row-by-row')\n",
    "ax.plot(sizes, t_numeric_add, 'o-', label='Inserting row-by-row: add_result only')\n",
    "ax.plot(sizes, t_array, 'd-', label='Inserting as binary blob')\n",
    "ax.plot(sizes, t_array_add, 'd-', label='Inserting as binary blob: add_result only')\n",
    "ax.legend()\n",
    "ax.set_xlabel('Array length')\n",
    "ax.set_ylabel('Time (s)')\n",
    "fig.tight_layout()"
   ]
  },
  {
   "cell_type": "markdown",
   "metadata": {},
   "source": [
    "As shown in the latter figure, the time to setup and and close the experiment is approximately 0.4 sec. In case of small array sizes, the difference between inserting values of data as arrays and inserting them row-by-row is relatively unimportant. At larger array sizes, i.e. above 10000 points, the cost of writing data as individual datapoints starts to become important.\n"
   ]
  },
  {
   "cell_type": "markdown",
   "metadata": {},
   "source": [
    "### Case2: Long experiment time "
   ]
  },
  {
   "cell_type": "code",
   "execution_count": 7,
   "metadata": {
    "execution": {
     "iopub.execute_input": "2020-10-26T11:58:55.604515Z",
     "iopub.status.busy": "2020-10-26T11:58:55.604035Z",
     "iopub.status.idle": "2020-10-26T11:59:54.159767Z",
     "shell.execute_reply": "2020-10-26T11:59:54.158548Z"
    }
   },
   "outputs": [
    {
     "name": "stdout",
     "output_type": "stream",
     "text": [
      "Starting experimental run with id: 15. \n",
      "Starting experimental run with id: 16. \n",
      "Starting experimental run with id: 17. \n"
     ]
    },
    {
     "name": "stdout",
     "output_type": "stream",
     "text": [
      "Starting experimental run with id: 18. \n",
      "Starting experimental run with id: 19. \n"
     ]
    },
    {
     "name": "stdout",
     "output_type": "stream",
     "text": [
      "Starting experimental run with id: 20. \n"
     ]
    },
    {
     "name": "stdout",
     "output_type": "stream",
     "text": [
      "Starting experimental run with id: 21. \n"
     ]
    },
    {
     "name": "stdout",
     "output_type": "stream",
     "text": [
      "Starting experimental run with id: 22. \n"
     ]
    },
    {
     "name": "stdout",
     "output_type": "stream",
     "text": [
      "Starting experimental run with id: 23. \n"
     ]
    },
    {
     "name": "stdout",
     "output_type": "stream",
     "text": [
      "Starting experimental run with id: 24. \n"
     ]
    },
    {
     "name": "stdout",
     "output_type": "stream",
     "text": [
      "Starting experimental run with id: 25. \n"
     ]
    },
    {
     "name": "stdout",
     "output_type": "stream",
     "text": [
      "Starting experimental run with id: 26. \n"
     ]
    },
    {
     "name": "stdout",
     "output_type": "stream",
     "text": [
      "Starting experimental run with id: 27. \n"
     ]
    },
    {
     "name": "stdout",
     "output_type": "stream",
     "text": [
      "Starting experimental run with id: 28. \n"
     ]
    }
   ],
   "source": [
    "sizes = [1,500,1000,2000,3000,4000,5000]\n",
    "nreps = 100\n",
    "t_numeric = []\n",
    "t_numeric_add = []\n",
    "t_numeric_run_ids = []\n",
    "t_array = []\n",
    "t_array_add = []\n",
    "t_array_run_ids = []\n",
    "for size in sizes:\n",
    "    tn, tna, run_id_n =  insert_data('numeric', size, nreps=nreps)\n",
    "    t_numeric.append(tn)\n",
    "    t_numeric_add.append(tna)\n",
    "    t_numeric_run_ids.append(run_id_n)\n",
    "\n",
    "    ta, taa, run_id_a =  insert_data('array', size, nreps=nreps)\n",
    "    t_array.append(ta)\n",
    "    t_array_add.append(taa)\n",
    "    t_array_run_ids.append(run_id_a)"
   ]
  },
  {
   "cell_type": "code",
   "execution_count": 8,
   "metadata": {
    "execution": {
     "iopub.execute_input": "2020-10-26T11:59:54.188094Z",
     "iopub.status.busy": "2020-10-26T11:59:54.165112Z",
     "iopub.status.idle": "2020-10-26T11:59:54.353552Z",
     "shell.execute_reply": "2020-10-26T11:59:54.354014Z"
    },
    "scrolled": true
   },
   "outputs": [
    {
     "data": {
      "image/png": "[encoded data removed]",
      "text/plain": [
       "<Figure size 432x288 with 1 Axes>"
      ]
     },
     "metadata": {
      "needs_background": "light"
     },
     "output_type": "display_data"
    }
   ],
   "source": [
    "fig, ax = plt.subplots(1,1)\n",
    "ax.plot(sizes, t_numeric, 'o-', label='Inserting row-by-row')\n",
    "ax.plot(sizes, t_numeric_add, 'o-', label='Inserting row-by-row: add_result only')\n",
    "ax.plot(sizes, t_array, 'd-', label='Inserting as binary blob')\n",
    "ax.plot(sizes, t_array_add, 'd-', label='Inserting as binary blob: add_result only')\n",
    "ax.legend()\n",
    "ax.set_xlabel('Array length')\n",
    "ax.set_ylabel('Time (s)')\n",
    "fig.tight_layout()"
   ]
  },
  {
   "cell_type": "markdown",
   "metadata": {},
   "source": [
    "However, as we increase the length of the experiment, as seen here by repeating the insertion 100 times, we see a big difference between inserting values of the data row-by-row and inserting it as a binary blob."
   ]
  },
  {
   "cell_type": "markdown",
   "metadata": {},
   "source": [
    "## Loading the data "
   ]
  },
  {
   "cell_type": "code",
   "execution_count": 9,
   "metadata": {
    "execution": {
     "iopub.execute_input": "2020-10-26T11:59:54.358751Z",
     "iopub.status.busy": "2020-10-26T11:59:54.357508Z",
     "iopub.status.idle": "2020-10-26T11:59:54.360641Z",
     "shell.execute_reply": "2020-10-26T11:59:54.359830Z"
    }
   },
   "outputs": [],
   "source": [
    "from qcodes.dataset.data_set import load_by_id\n",
    "from qcodes.dataset.data_export import get_data_by_id"
   ]
  },
  {
   "cell_type": "markdown",
   "metadata": {},
   "source": [
    "As usual you can load the data by using the ``load_by_id`` function but you will notice that the different storage methods\n",
    "are reflected in shape of the data as it is retrieved. "
   ]
  },
  {
   "cell_type": "code",
   "execution_count": 10,
   "metadata": {
    "execution": {
     "iopub.execute_input": "2020-10-26T11:59:54.364269Z",
     "iopub.status.busy": "2020-10-26T11:59:54.363731Z",
     "iopub.status.idle": "2020-10-26T11:59:54.367091Z",
     "shell.execute_reply": "2020-10-26T11:59:54.366653Z"
    }
   },
   "outputs": [],
   "source": [
    "run_id_n = t_numeric_run_ids[0]\n",
    "run_id_a = t_array_run_ids[0]"
   ]
  },
  {
   "cell_type": "code",
   "execution_count": 11,
   "metadata": {
    "execution": {
     "iopub.execute_input": "2020-10-26T11:59:54.370322Z",
     "iopub.status.busy": "2020-10-26T11:59:54.369766Z",
     "iopub.status.idle": "2020-10-26T11:59:54.378419Z",
     "shell.execute_reply": "2020-10-26T11:59:54.378874Z"
    },
    "scrolled": true
   },
   "outputs": [
    {
     "data": {
      "text/plain": [
       "{'x1': {'x1': array([0.02711771, 0.02711771, 0.970367  , 0.970367  , 0.92639739,\n",
       "         0.92639739, 0.88230561, 0.88230561, 0.95436955, 0.95436955,\n",
       "         0.3395481 , 0.3395481 , 0.33159422, 0.33159422, 0.44559357,\n",
       "         0.44559357, 0.13557471, 0.13557471, 0.42417331, 0.42417331,\n",
       "         0.45995799, 0.45995799, 0.78276654, 0.78276654, 0.3070795 ,\n",
       "         0.3070795 , 0.70908626, 0.70908626, 0.54310809, 0.54310809,\n",
       "         0.29712236, 0.29712236, 0.61449114, 0.61449114, 0.79654382,\n",
       "         0.79654382, 0.2910505 , 0.2910505 , 0.85236255, 0.85236255,\n",
       "         0.09386575, 0.09386575, 0.23181182, 0.23181182, 0.80478857,\n",
       "         0.80478857, 0.15221046, 0.15221046, 0.08655939, 0.08655939,\n",
       "         0.51362467, 0.51362467, 0.60185987, 0.60185987, 0.44840377,\n",
       "         0.44840377, 0.30609916, 0.30609916, 0.49910858, 0.49910858,\n",
       "         0.20488121, 0.20488121, 0.05589248, 0.05589248, 0.91027412,\n",
       "         0.91027412, 0.94556365, 0.94556365, 0.20458641, 0.20458641,\n",
       "         0.57241562, 0.57241562, 0.03244935, 0.03244935, 0.62915412,\n",
       "         0.62915412, 0.04918276, 0.04918276, 0.54143066, 0.54143066,\n",
       "         0.0557329 , 0.0557329 , 0.63446996, 0.63446996, 0.50116941,\n",
       "         0.50116941, 0.7390513 , 0.7390513 , 0.3803043 , 0.3803043 ,\n",
       "         0.17697019, 0.17697019, 0.32764965, 0.32764965, 0.02527452,\n",
       "         0.02527452, 0.01949693, 0.01949693, 0.36480884, 0.36480884,\n",
       "         0.25351236, 0.25351236, 0.2525767 , 0.2525767 , 0.54431883,\n",
       "         0.54431883, 0.60715837, 0.60715837, 0.88147455, 0.88147455,\n",
       "         0.57833177, 0.57833177, 0.7647399 , 0.7647399 , 0.54236706,\n",
       "         0.54236706, 0.99900877, 0.99900877, 0.23504786, 0.23504786,\n",
       "         0.47952194, 0.47952194, 0.03716536, 0.03716536, 0.44754462,\n",
       "         0.44754462, 0.77181403, 0.77181403, 0.88026796, 0.88026796,\n",
       "         0.17018892, 0.17018892, 0.29410358, 0.29410358, 0.3006692 ,\n",
       "         0.3006692 , 0.80806626, 0.80806626, 0.14874112, 0.14874112,\n",
       "         0.0447836 , 0.0447836 , 0.92306624, 0.92306624, 0.17472988,\n",
       "         0.17472988, 0.47772049, 0.47772049, 0.10638441, 0.10638441,\n",
       "         0.09069202, 0.09069202, 0.07298543, 0.07298543, 0.621968  ,\n",
       "         0.621968  , 0.17413605, 0.17413605, 0.11676437, 0.11676437,\n",
       "         0.34362571, 0.34362571, 0.18764462, 0.18764462, 0.39315878,\n",
       "         0.39315878, 0.54976176, 0.54976176, 0.30827055, 0.30827055,\n",
       "         0.61594657, 0.61594657, 0.00153812, 0.00153812, 0.98861732,\n",
       "         0.98861732, 0.21573177, 0.21573177, 0.96138957, 0.96138957,\n",
       "         0.54979935, 0.54979935, 0.64256806, 0.64256806, 0.89221604,\n",
       "         0.89221604, 0.50155366, 0.50155366, 0.78106614, 0.78106614,\n",
       "         0.8794774 , 0.8794774 , 0.10628435, 0.10628435, 0.28420368,\n",
       "         0.28420368, 0.55552373, 0.55552373, 0.90863724, 0.90863724])}}"
      ]
     },
     "execution_count": 1,
     "metadata": {},
     "output_type": "execute_result"
    }
   ],
   "source": [
    "ds = load_by_id(run_id_n)\n",
    "ds.get_parameter_data('x1')"
   ]
  },
  {
   "cell_type": "markdown",
   "metadata": {},
   "source": [
    "And a dataset stored as binary arrays"
   ]
  },
  {
   "cell_type": "code",
   "execution_count": 12,
   "metadata": {
    "execution": {
     "iopub.execute_input": "2020-10-26T11:59:54.382142Z",
     "iopub.status.busy": "2020-10-26T11:59:54.381595Z",
     "iopub.status.idle": "2020-10-26T11:59:54.436490Z",
     "shell.execute_reply": "2020-10-26T11:59:54.437280Z"
    },
    "scrolled": true
   },
   "outputs": [
    {
     "data": {
      "text/plain": [
       "{'x1': {'x1': array([[0.91258524],\n",
       "         [0.91258524],\n",
       "         [0.17197942],\n",
       "         [0.17197942],\n",
       "         [0.89704359],\n",
       "         [0.89704359],\n",
       "         [0.3643572 ],\n",
       "         [0.3643572 ],\n",
       "         [0.88173752],\n",
       "         [0.88173752],\n",
       "         [0.61495027],\n",
       "         [0.61495027],\n",
       "         [0.48950617],\n",
       "         [0.48950617],\n",
       "         [0.57629947],\n",
       "         [0.57629947],\n",
       "         [0.72102689],\n",
       "         [0.72102689],\n",
       "         [0.79041275],\n",
       "         [0.79041275],\n",
       "         [0.96713299],\n",
       "         [0.96713299],\n",
       "         [0.71475925],\n",
       "         [0.71475925],\n",
       "         [0.03575333],\n",
       "         [0.03575333],\n",
       "         [0.79669453],\n",
       "         [0.79669453],\n",
       "         [0.80351527],\n",
       "         [0.80351527],\n",
       "         [0.5392763 ],\n",
       "         [0.5392763 ],\n",
       "         [0.71387553],\n",
       "         [0.71387553],\n",
       "         [0.36595029],\n",
       "         [0.36595029],\n",
       "         [0.9889953 ],\n",
       "         [0.9889953 ],\n",
       "         [0.79404788],\n",
       "         [0.79404788],\n",
       "         [0.11811614],\n",
       "         [0.11811614],\n",
       "         [0.69688775],\n",
       "         [0.69688775],\n",
       "         [0.78167975],\n",
       "         [0.78167975],\n",
       "         [0.47162348],\n",
       "         [0.47162348],\n",
       "         [0.19709043],\n",
       "         [0.19709043],\n",
       "         [0.924914  ],\n",
       "         [0.924914  ],\n",
       "         [0.7260231 ],\n",
       "         [0.7260231 ],\n",
       "         [0.92140205],\n",
       "         [0.92140205],\n",
       "         [0.67894594],\n",
       "         [0.67894594],\n",
       "         [0.56352431],\n",
       "         [0.56352431],\n",
       "         [0.81627602],\n",
       "         [0.81627602],\n",
       "         [0.00105999],\n",
       "         [0.00105999],\n",
       "         [0.87889952],\n",
       "         [0.87889952],\n",
       "         [0.06565539],\n",
       "         [0.06565539],\n",
       "         [0.18623694],\n",
       "         [0.18623694],\n",
       "         [0.93877718],\n",
       "         [0.93877718],\n",
       "         [0.48952983],\n",
       "         [0.48952983],\n",
       "         [0.13648913],\n",
       "         [0.13648913],\n",
       "         [0.08835816],\n",
       "         [0.08835816],\n",
       "         [0.04487325],\n",
       "         [0.04487325],\n",
       "         [0.89128793],\n",
       "         [0.89128793],\n",
       "         [0.29703106],\n",
       "         [0.29703106],\n",
       "         [0.62640242],\n",
       "         [0.62640242],\n",
       "         [0.83881985],\n",
       "         [0.83881985],\n",
       "         [0.90883   ],\n",
       "         [0.90883   ],\n",
       "         [0.24558537],\n",
       "         [0.24558537],\n",
       "         [0.44334179],\n",
       "         [0.44334179],\n",
       "         [0.06616001],\n",
       "         [0.06616001],\n",
       "         [0.38878766],\n",
       "         [0.38878766],\n",
       "         [0.81003649],\n",
       "         [0.81003649],\n",
       "         [0.71941699],\n",
       "         [0.71941699],\n",
       "         [0.68835343],\n",
       "         [0.68835343],\n",
       "         [0.719495  ],\n",
       "         [0.719495  ],\n",
       "         [0.00707709],\n",
       "         [0.00707709],\n",
       "         [0.7171871 ],\n",
       "         [0.7171871 ],\n",
       "         [0.38420446],\n",
       "         [0.38420446],\n",
       "         [0.52941864],\n",
       "         [0.52941864],\n",
       "         [0.2158892 ],\n",
       "         [0.2158892 ],\n",
       "         [0.42050829],\n",
       "         [0.42050829],\n",
       "         [0.47620384],\n",
       "         [0.47620384],\n",
       "         [0.14026953],\n",
       "         [0.14026953],\n",
       "         [0.82527114],\n",
       "         [0.82527114],\n",
       "         [0.2298598 ],\n",
       "         [0.2298598 ],\n",
       "         [0.1268382 ],\n",
       "         [0.1268382 ],\n",
       "         [0.04484435],\n",
       "         [0.04484435],\n",
       "         [0.19189379],\n",
       "         [0.19189379],\n",
       "         [0.86830275],\n",
       "         [0.86830275],\n",
       "         [0.29337066],\n",
       "         [0.29337066],\n",
       "         [0.61083723],\n",
       "         [0.61083723],\n",
       "         [0.08152061],\n",
       "         [0.08152061],\n",
       "         [0.14050386],\n",
       "         [0.14050386],\n",
       "         [0.78701892],\n",
       "         [0.78701892],\n",
       "         [0.38533706],\n",
       "         [0.38533706],\n",
       "         [0.43059912],\n",
       "         [0.43059912],\n",
       "         [0.61256342],\n",
       "         [0.61256342],\n",
       "         [0.46946851],\n",
       "         [0.46946851],\n",
       "         [0.57500797],\n",
       "         [0.57500797],\n",
       "         [0.32678238],\n",
       "         [0.32678238],\n",
       "         [0.97583786],\n",
       "         [0.97583786],\n",
       "         [0.39283616],\n",
       "         [0.39283616],\n",
       "         [0.0364482 ],\n",
       "         [0.0364482 ],\n",
       "         [0.14656499],\n",
       "         [0.14656499],\n",
       "         [0.15818491],\n",
       "         [0.15818491],\n",
       "         [0.17646402],\n",
       "         [0.17646402],\n",
       "         [0.00854686],\n",
       "         [0.00854686],\n",
       "         [0.55625704],\n",
       "         [0.55625704],\n",
       "         [0.31038827],\n",
       "         [0.31038827],\n",
       "         [0.78465374],\n",
       "         [0.78465374],\n",
       "         [0.69728036],\n",
       "         [0.69728036],\n",
       "         [0.71802586],\n",
       "         [0.71802586],\n",
       "         [0.99172806],\n",
       "         [0.99172806],\n",
       "         [0.3365771 ],\n",
       "         [0.3365771 ],\n",
       "         [0.94911163],\n",
       "         [0.94911163],\n",
       "         [0.2595523 ],\n",
       "         [0.2595523 ],\n",
       "         [0.69318616],\n",
       "         [0.69318616],\n",
       "         [0.87333894],\n",
       "         [0.87333894],\n",
       "         [0.33440815],\n",
       "         [0.33440815],\n",
       "         [0.3807127 ],\n",
       "         [0.3807127 ],\n",
       "         [0.52469523],\n",
       "         [0.52469523],\n",
       "         [0.2808288 ],\n",
       "         [0.2808288 ]])}}"
      ]
     },
     "execution_count": 1,
     "metadata": {},
     "output_type": "execute_result"
    }
   ],
   "source": [
    "ds = load_by_id(run_id_a)\n",
    "ds.get_parameter_data('x1')"
   ]
  },
  {
   "cell_type": "code",
   "execution_count": null,
   "metadata": {},
   "outputs": [],
   "source": []
  }
 ],
 "metadata": {
  "kernelspec": {
   "display_name": "Python 3",
   "language": "python",
   "name": "python3"
  },
  "language_info": {
   "codemirror_mode": {
    "name": "ipython",
    "version": 3
   },
   "file_extension": ".py",
   "mimetype": "text/x-python",
   "name": "python",
   "nbconvert_exporter": "python",
   "pygments_lexer": "ipython3",
   "version": "3.7.7"
  },
  "nbsphinx": {
   "timeout": 600
  },
  "toc": {
   "base_numbering": 1,
   "nav_menu": {},
   "number_sections": true,
   "sideBar": true,
   "skip_h1_title": false,
   "title_cell": "Table of Contents",
   "title_sidebar": "Contents",
   "toc_cell": false,
   "toc_position": {},
   "toc_section_display": true,
   "toc_window_display": false
  },
  "varInspector": {
   "cols": {
    "lenName": 16,
    "lenType": 16,
    "lenVar": 40
   },
   "kernels_config": {
    "python": {
     "delete_cmd_postfix": "",
     "delete_cmd_prefix": "del ",
     "library": "var_list.py",
     "varRefreshCmd": "print(var_dic_list())"
    },
    "r": {
     "delete_cmd_postfix": ") ",
     "delete_cmd_prefix": "rm(",
     "library": "var_list.r",
     "varRefreshCmd": "cat(var_dic_list()) "
    }
   },
   "types_to_exclude": [
    "module",
    "function",
    "builtin_function_or_method",
    "instance",
    "_Feature"
   ],
   "window_display": false
  }
 },
 "nbformat": 4,
 "nbformat_minor": 2
}
