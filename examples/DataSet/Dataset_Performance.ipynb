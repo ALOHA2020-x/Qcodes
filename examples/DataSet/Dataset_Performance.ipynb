{
 "cells": [
  {
   "cell_type": "markdown",
   "metadata": {},
   "source": [
    "# DataSet Performance\n",
    "\n",
    "This notebook shows the trade-off between inserting data into a database row-by-row and as binary blobs. Inserting the data row-by-row means that we have direct access to all the data and may perform queries directly on the values of the data. On the other hand, as we shall see, this is much slower than inserting the data directly as binary blobs."
   ]
  },
  {
   "cell_type": "markdown",
   "metadata": {},
   "source": [
    "First, we choose a new location for the database to ensure that we don't add a bunch of benchmarking data to the default one."
   ]
  },
  {
   "cell_type": "code",
   "execution_count": 1,
   "metadata": {},
   "outputs": [
    {
     "name": "stdout",
     "output_type": "stream",
     "text": [
      "Logging hadn't been started.\n",
      "Activating auto-logging. Current session state plus future input saved.\n",
      "Filename       : /home/vsts/.qcodes/logs/command_history.log\n",
      "Mode           : append\n",
      "Output logging : True\n",
      "Raw input log  : False\n",
      "Timestamping   : True\n",
      "State          : active\n"
     ]
    },
    {
     "name": "stdout",
     "output_type": "stream",
     "text": [
      "Qcodes Logfile : /home/vsts/.qcodes/logs/200526-18724-qcodes.log\n"
     ]
    }
   ],
   "source": [
    "import os\n",
    "cwd = os.getcwd()\n",
    "import qcodes as qc\n",
    "qc.config[\"core\"][\"db_location\"] = os.path.join(cwd, 'testing.db')\n"
   ]
  },
  {
   "cell_type": "code",
   "execution_count": 2,
   "metadata": {},
   "outputs": [],
   "source": [
    "%matplotlib inline\n",
    "import time\n",
    "import matplotlib.pyplot as plt\n",
    "import numpy as np\n",
    "\n",
    "import qcodes as qc\n",
    "from qcodes.instrument.parameter import ManualParameter\n",
    "from qcodes.dataset.experiment_container import (Experiment,\n",
    "                                                 load_last_experiment,\n",
    "                                                 new_experiment)\n",
    "from qcodes.dataset.sqlite.database import initialise_database\n",
    "from qcodes import load_or_create_experiment\n",
    "from qcodes.dataset.measurements import Measurement"
   ]
  },
  {
   "cell_type": "code",
   "execution_count": 3,
   "metadata": {},
   "outputs": [
    {
     "name": "stdout",
     "output_type": "stream",
     "text": [
      "\r",
      "0it [00:00, ?it/s]"
     ]
    },
    {
     "name": "stdout",
     "output_type": "stream",
     "text": [
      "\r",
      "Upgrading database; v0 -> v1: : 0it [00:00, ?it/s]"
     ]
    },
    {
     "name": "stdout",
     "output_type": "stream",
     "text": [
      "\r",
      "Upgrading database; v0 -> v1: : 0it [00:00, ?it/s]"
     ]
    },
    {
     "name": "stdout",
     "output_type": "stream",
     "text": [
      "\n",
      "\r",
      "  0%|          | 0/1 [00:00<?, ?it/s]"
     ]
    },
    {
     "name": "stdout",
     "output_type": "stream",
     "text": [
      "\r",
      "Upgrading database; v1 -> v2:   0%|          | 0/1 [00:00<?, ?it/s]"
     ]
    },
    {
     "name": "stdout",
     "output_type": "stream",
     "text": [
      "\r",
      "Upgrading database; v1 -> v2: 100%|██████████| 1/1 [00:00<00:00, 982.73it/s]"
     ]
    },
    {
     "name": "stdout",
     "output_type": "stream",
     "text": [
      "\n",
      "\r",
      "0it [00:00, ?it/s]"
     ]
    },
    {
     "name": "stdout",
     "output_type": "stream",
     "text": [
      "\r",
      "Upgrading database; v2 -> v3: : 0it [00:00, ?it/s]"
     ]
    },
    {
     "name": "stdout",
     "output_type": "stream",
     "text": [
      "\r",
      "Upgrading database; v2 -> v3: : 0it [00:00, ?it/s]"
     ]
    },
    {
     "name": "stdout",
     "output_type": "stream",
     "text": [
      "\n",
      "\r",
      "0it [00:00, ?it/s]"
     ]
    },
    {
     "name": "stdout",
     "output_type": "stream",
     "text": [
      "\r",
      "Upgrading database; v3 -> v4: : 0it [00:00, ?it/s]"
     ]
    },
    {
     "name": "stdout",
     "output_type": "stream",
     "text": [
      "\r",
      "Upgrading database; v3 -> v4: : 0it [00:00, ?it/s]"
     ]
    },
    {
     "name": "stdout",
     "output_type": "stream",
     "text": [
      "\n",
      "\r",
      "  0%|          | 0/1 [00:00<?, ?it/s]"
     ]
    },
    {
     "name": "stdout",
     "output_type": "stream",
     "text": [
      "\r",
      "Upgrading database; v4 -> v5:   0%|          | 0/1 [00:00<?, ?it/s]"
     ]
    },
    {
     "name": "stdout",
     "output_type": "stream",
     "text": [
      "\r",
      "Upgrading database; v4 -> v5: 100%|██████████| 1/1 [00:00<00:00, 876.92it/s]"
     ]
    },
    {
     "name": "stdout",
     "output_type": "stream",
     "text": [
      "\n",
      "\r",
      "0it [00:00, ?it/s]"
     ]
    },
    {
     "name": "stdout",
     "output_type": "stream",
     "text": [
      "\r",
      "Upgrading database; v5 -> v6: : 0it [00:00, ?it/s]"
     ]
    },
    {
     "name": "stdout",
     "output_type": "stream",
     "text": [
      "\r",
      "Upgrading database; v5 -> v6: : 0it [00:00, ?it/s]"
     ]
    },
    {
     "name": "stdout",
     "output_type": "stream",
     "text": [
      "\n",
      "\r",
      "  0%|          | 0/1 [00:00<?, ?it/s]"
     ]
    },
    {
     "name": "stdout",
     "output_type": "stream",
     "text": [
      "\r",
      "Upgrading database; v6 -> v7:   0%|          | 0/1 [00:00<?, ?it/s]"
     ]
    },
    {
     "name": "stdout",
     "output_type": "stream",
     "text": [
      "\r",
      "Upgrading database; v6 -> v7: 100%|██████████| 1/1 [00:00<00:00, 238.06it/s]"
     ]
    },
    {
     "name": "stdout",
     "output_type": "stream",
     "text": [
      "\n",
      "\r",
      "  0%|          | 0/1 [00:00<?, ?it/s]"
     ]
    },
    {
     "name": "stdout",
     "output_type": "stream",
     "text": [
      "\r",
      "Upgrading database; v7 -> v8:   0%|          | 0/1 [00:00<?, ?it/s]"
     ]
    },
    {
     "name": "stdout",
     "output_type": "stream",
     "text": [
      "\r",
      "Upgrading database; v7 -> v8: 100%|██████████| 1/1 [00:00<00:00, 911.01it/s]"
     ]
    },
    {
     "name": "stdout",
     "output_type": "stream",
     "text": [
      "\n",
      "\r",
      "  0%|          | 0/1 [00:00<?, ?it/s]"
     ]
    },
    {
     "name": "stdout",
     "output_type": "stream",
     "text": [
      "\r",
      "Upgrading database; v8 -> v9:   0%|          | 0/1 [00:00<?, ?it/s]"
     ]
    },
    {
     "name": "stdout",
     "output_type": "stream",
     "text": [
      "\r",
      "Upgrading database; v8 -> v9: 100%|██████████| 1/1 [00:00<00:00, 1314.01it/s]"
     ]
    },
    {
     "name": "stdout",
     "output_type": "stream",
     "text": [
      "\n"
     ]
    }
   ],
   "source": [
    "initialise_database()\n",
    "exp = load_or_create_experiment(experiment_name='tutorial_exp', sample_name=\"no sample\")"
   ]
  },
  {
   "cell_type": "markdown",
   "metadata": {},
   "source": [
    "Here, we define a simple function to benchmark the time it takes to insert n points with either numeric or array data type.\n",
    "We will compare both the time used to call ``add_result`` and the time used for the full measurement."
   ]
  },
  {
   "cell_type": "code",
   "execution_count": 4,
   "metadata": {},
   "outputs": [],
   "source": [
    "def insert_data(paramtype, npoints, nreps=1):\n",
    "\n",
    "    meas = Measurement(exp=exp)\n",
    "\n",
    "    x1 = ManualParameter('x1')\n",
    "    x2 = ManualParameter('x2')\n",
    "    x3 = ManualParameter('x3')\n",
    "    y1 = ManualParameter('y1')\n",
    "    y2 = ManualParameter('y2')\n",
    "\n",
    "    meas.register_parameter(x1, paramtype=paramtype)\n",
    "    meas.register_parameter(x2, paramtype=paramtype)\n",
    "    meas.register_parameter(x3, paramtype=paramtype)\n",
    "    meas.register_parameter(y1, setpoints=[x1, x2, x3],\n",
    "                            paramtype=paramtype)\n",
    "    meas.register_parameter(y2, setpoints=[x1, x2, x3],\n",
    "                            paramtype=paramtype)\n",
    "    start = time.perf_counter()\n",
    "    with meas.run() as datasaver:\n",
    "        start_adding = time.perf_counter()\n",
    "        for i in range(nreps):\n",
    "            datasaver.add_result((x1, np.random.rand(npoints)),\n",
    "                                 (x2, np.random.rand(npoints)),\n",
    "                                 (x3, np.random.rand(npoints)),\n",
    "                                 (y1, np.random.rand(npoints)),\n",
    "                                 (y2, np.random.rand(npoints)))\n",
    "        stop_adding = time.perf_counter()\n",
    "        run_id = datasaver.run_id\n",
    "    stop = time.perf_counter()\n",
    "    tot_time = stop - start\n",
    "    add_time = stop_adding - start_adding\n",
    "    return tot_time, add_time, run_id"
   ]
  },
  {
   "cell_type": "markdown",
   "metadata": {},
   "source": [
    "## Comparison between numeric/array data and binary blob"
   ]
  },
  {
   "cell_type": "markdown",
   "metadata": {},
   "source": [
    "### Case1: Short experiment time"
   ]
  },
  {
   "cell_type": "code",
   "execution_count": 5,
   "metadata": {},
   "outputs": [
    {
     "name": "stdout",
     "output_type": "stream",
     "text": [
      "Starting experimental run with id: 1. \n",
      "Starting experimental run with id: 2. \n",
      "Starting experimental run with id: 3. \n"
     ]
    },
    {
     "name": "stdout",
     "output_type": "stream",
     "text": [
      "Starting experimental run with id: 4. \n"
     ]
    },
    {
     "name": "stdout",
     "output_type": "stream",
     "text": [
      "Starting experimental run with id: 5. \n"
     ]
    },
    {
     "name": "stdout",
     "output_type": "stream",
     "text": [
      "Starting experimental run with id: 6. \n"
     ]
    },
    {
     "name": "stdout",
     "output_type": "stream",
     "text": [
      "Starting experimental run with id: 7. \n"
     ]
    },
    {
     "name": "stdout",
     "output_type": "stream",
     "text": [
      "Starting experimental run with id: 8. \n"
     ]
    },
    {
     "name": "stdout",
     "output_type": "stream",
     "text": [
      "Starting experimental run with id: 9. \n"
     ]
    },
    {
     "name": "stdout",
     "output_type": "stream",
     "text": [
      "Starting experimental run with id: 10. \n",
      "Starting experimental run with id: 11. \n"
     ]
    },
    {
     "name": "stdout",
     "output_type": "stream",
     "text": [
      "Starting experimental run with id: 12. \n"
     ]
    },
    {
     "name": "stdout",
     "output_type": "stream",
     "text": [
      "Starting experimental run with id: 13. \n"
     ]
    },
    {
     "name": "stdout",
     "output_type": "stream",
     "text": [
      "Starting experimental run with id: 14. \n"
     ]
    }
   ],
   "source": [
    "sizes = [1,500,1000,2000,3000,4000,5000]\n",
    "t_numeric = []\n",
    "t_numeric_add = []\n",
    "t_array = []\n",
    "t_array_add = []\n",
    "for size in sizes:\n",
    "    tn, tna, run_id_n =  insert_data('numeric', size)\n",
    "    t_numeric.append(tn)\n",
    "    t_numeric_add.append(tna)\n",
    "\n",
    "    ta, taa, run_id_a =  insert_data('array', size)\n",
    "    t_array.append(ta)\n",
    "    t_array_add.append(taa)"
   ]
  },
  {
   "cell_type": "code",
   "execution_count": 6,
   "metadata": {},
   "outputs": [
    {
     "data": {
      "image/png": "[encoded data removed]",
      "text/plain": [
       "<Figure size 432x288 with 1 Axes>"
      ]
     },
     "metadata": {
      "needs_background": "light"
     },
     "output_type": "display_data"
    }
   ],
   "source": [
    "fig, ax = plt.subplots(1,1)\n",
    "ax.plot(sizes, t_numeric, 'o-', label='Inserting row-by-row')\n",
    "ax.plot(sizes, t_numeric_add, 'o-', label='Inserting row-by-row: add_result only')\n",
    "ax.plot(sizes, t_array, 'd-', label='Inserting as binary blob')\n",
    "ax.plot(sizes, t_array_add, 'd-', label='Inserting as binary blob: add_result only')\n",
    "ax.legend()\n",
    "ax.set_xlabel('Array length')\n",
    "ax.set_ylabel('Time (s)')\n",
    "fig.tight_layout()"
   ]
  },
  {
   "cell_type": "markdown",
   "metadata": {},
   "source": [
    "As shown in the latter figure, the time to setup and and close the experiment is approximately 0.4 sec. In case of small array sizes, the difference between inserting values of data as arrays and inserting them row-by-row is relatively unimportant. At larger array sizes, i.e. above 10000 points, the cost of writing data as individual datapoints starts to become important.\n"
   ]
  },
  {
   "cell_type": "markdown",
   "metadata": {},
   "source": [
    "### Case2: Long experiment time "
   ]
  },
  {
   "cell_type": "code",
   "execution_count": 7,
   "metadata": {},
   "outputs": [
    {
     "name": "stdout",
     "output_type": "stream",
     "text": [
      "Starting experimental run with id: 15. \n",
      "Starting experimental run with id: 16. \n",
      "Starting experimental run with id: 17. \n"
     ]
    },
    {
     "name": "stdout",
     "output_type": "stream",
     "text": [
      "Starting experimental run with id: 18. \n",
      "Starting experimental run with id: 19. \n"
     ]
    },
    {
     "name": "stdout",
     "output_type": "stream",
     "text": [
      "Starting experimental run with id: 20. \n"
     ]
    },
    {
     "name": "stdout",
     "output_type": "stream",
     "text": [
      "Starting experimental run with id: 21. \n"
     ]
    },
    {
     "name": "stdout",
     "output_type": "stream",
     "text": [
      "Starting experimental run with id: 22. \n"
     ]
    },
    {
     "name": "stdout",
     "output_type": "stream",
     "text": [
      "Starting experimental run with id: 23. \n"
     ]
    },
    {
     "name": "stdout",
     "output_type": "stream",
     "text": [
      "Starting experimental run with id: 24. \n"
     ]
    },
    {
     "name": "stdout",
     "output_type": "stream",
     "text": [
      "Starting experimental run with id: 25. \n"
     ]
    },
    {
     "name": "stdout",
     "output_type": "stream",
     "text": [
      "Starting experimental run with id: 26. \n"
     ]
    },
    {
     "name": "stdout",
     "output_type": "stream",
     "text": [
      "Starting experimental run with id: 27. \n"
     ]
    },
    {
     "name": "stdout",
     "output_type": "stream",
     "text": [
      "Starting experimental run with id: 28. \n"
     ]
    }
   ],
   "source": [
    "sizes = [1,500,1000,2000,3000,4000,5000]\n",
    "nreps = 100\n",
    "t_numeric = []\n",
    "t_numeric_add = []\n",
    "t_numeric_run_ids = []\n",
    "t_array = []\n",
    "t_array_add = []\n",
    "t_array_run_ids = []\n",
    "for size in sizes:\n",
    "    tn, tna, run_id_n =  insert_data('numeric', size, nreps=nreps)\n",
    "    t_numeric.append(tn)\n",
    "    t_numeric_add.append(tna)\n",
    "    t_numeric_run_ids.append(run_id_n)\n",
    "\n",
    "    ta, taa, run_id_a =  insert_data('array', size, nreps=nreps)\n",
    "    t_array.append(ta)\n",
    "    t_array_add.append(taa)\n",
    "    t_array_run_ids.append(run_id_a)"
   ]
  },
  {
   "cell_type": "code",
   "execution_count": 8,
   "metadata": {
    "scrolled": true
   },
   "outputs": [
    {
     "data": {
      "image/png": "[encoded data removed]",
      "text/plain": [
       "<Figure size 432x288 with 1 Axes>"
      ]
     },
     "metadata": {
      "needs_background": "light"
     },
     "output_type": "display_data"
    }
   ],
   "source": [
    "fig, ax = plt.subplots(1,1)\n",
    "ax.plot(sizes, t_numeric, 'o-', label='Inserting row-by-row')\n",
    "ax.plot(sizes, t_numeric_add, 'o-', label='Inserting row-by-row: add_result only')\n",
    "ax.plot(sizes, t_array, 'd-', label='Inserting as binary blob')\n",
    "ax.plot(sizes, t_array_add, 'd-', label='Inserting as binary blob: add_result only')\n",
    "ax.legend()\n",
    "ax.set_xlabel('Array length')\n",
    "ax.set_ylabel('Time (s)')\n",
    "fig.tight_layout()"
   ]
  },
  {
   "cell_type": "markdown",
   "metadata": {},
   "source": [
    "However, as we increase the length of the experiment, as seen here by repeating the insertion 100 times, we see a big difference between inserting values of the data row-by-row and inserting it as a binary blob."
   ]
  },
  {
   "cell_type": "markdown",
   "metadata": {},
   "source": [
    "## Loading the data "
   ]
  },
  {
   "cell_type": "code",
   "execution_count": 9,
   "metadata": {},
   "outputs": [],
   "source": [
    "from qcodes.dataset.data_set import load_by_id\n",
    "from qcodes.dataset.data_export import get_data_by_id"
   ]
  },
  {
   "cell_type": "markdown",
   "metadata": {},
   "source": [
    "As usual you can load the data by using the ``load_by_id`` function but you will notice that the different storage methods\n",
    "are reflected in shape of the data as it is retrieved. "
   ]
  },
  {
   "cell_type": "code",
   "execution_count": 10,
   "metadata": {},
   "outputs": [],
   "source": [
    "run_id_n = t_numeric_run_ids[0]\n",
    "run_id_a = t_array_run_ids[0]"
   ]
  },
  {
   "cell_type": "code",
   "execution_count": 11,
   "metadata": {
    "scrolled": true
   },
   "outputs": [
    {
     "data": {
      "text/plain": [
       "{'x1': {'x1': array([0.89922578, 0.89922578, 0.37827807, 0.37827807, 0.05498522,\n",
       "         0.05498522, 0.08823406, 0.08823406, 0.30108912, 0.30108912,\n",
       "         0.16454658, 0.16454658, 0.51497581, 0.51497581, 0.49803108,\n",
       "         0.49803108, 0.67355214, 0.67355214, 0.1179286 , 0.1179286 ,\n",
       "         0.42796866, 0.42796866, 0.66090044, 0.66090044, 0.35250012,\n",
       "         0.35250012, 0.14841468, 0.14841468, 0.89008058, 0.89008058,\n",
       "         0.05022309, 0.05022309, 0.14518423, 0.14518423, 0.47087217,\n",
       "         0.47087217, 0.91944415, 0.91944415, 0.07514691, 0.07514691,\n",
       "         0.27638861, 0.27638861, 0.54406861, 0.54406861, 0.53993284,\n",
       "         0.53993284, 0.2529529 , 0.2529529 , 0.54308216, 0.54308216,\n",
       "         0.74810687, 0.74810687, 0.34642511, 0.34642511, 0.89904734,\n",
       "         0.89904734, 0.23099724, 0.23099724, 0.21755187, 0.21755187,\n",
       "         0.85039302, 0.85039302, 0.91872926, 0.91872926, 0.24641171,\n",
       "         0.24641171, 0.70773901, 0.70773901, 0.29740913, 0.29740913,\n",
       "         0.30812928, 0.30812928, 0.10827219, 0.10827219, 0.51648711,\n",
       "         0.51648711, 0.26209346, 0.26209346, 0.44224353, 0.44224353,\n",
       "         0.18761408, 0.18761408, 0.46779278, 0.46779278, 0.35708681,\n",
       "         0.35708681, 0.33179928, 0.33179928, 0.55731384, 0.55731384,\n",
       "         0.27304013, 0.27304013, 0.53440474, 0.53440474, 0.67915592,\n",
       "         0.67915592, 0.68918795, 0.68918795, 0.07172636, 0.07172636,\n",
       "         0.29530724, 0.29530724, 0.56514227, 0.56514227, 0.52888209,\n",
       "         0.52888209, 0.90125724, 0.90125724, 0.01003539, 0.01003539,\n",
       "         0.55227574, 0.55227574, 0.71022005, 0.71022005, 0.99976393,\n",
       "         0.99976393, 0.3615508 , 0.3615508 , 0.73900771, 0.73900771,\n",
       "         0.02391346, 0.02391346, 0.40567732, 0.40567732, 0.21022744,\n",
       "         0.21022744, 0.51722688, 0.51722688, 0.60001742, 0.60001742,\n",
       "         0.96665168, 0.96665168, 0.79273688, 0.79273688, 0.45106479,\n",
       "         0.45106479, 0.97357067, 0.97357067, 0.87385378, 0.87385378,\n",
       "         0.11520848, 0.11520848, 0.44957414, 0.44957414, 0.79014849,\n",
       "         0.79014849, 0.87725321, 0.87725321, 0.91611887, 0.91611887,\n",
       "         0.04475422, 0.04475422, 0.72972635, 0.72972635, 0.79375481,\n",
       "         0.79375481, 0.27023068, 0.27023068, 0.28640556, 0.28640556,\n",
       "         0.64397055, 0.64397055, 0.84906352, 0.84906352, 0.14370977,\n",
       "         0.14370977, 0.9946495 , 0.9946495 , 0.10650495, 0.10650495,\n",
       "         0.60371298, 0.60371298, 0.52780276, 0.52780276, 0.03113109,\n",
       "         0.03113109, 0.64373598, 0.64373598, 0.64318087, 0.64318087,\n",
       "         0.54422349, 0.54422349, 0.20844691, 0.20844691, 0.65497862,\n",
       "         0.65497862, 0.76496374, 0.76496374, 0.68579184, 0.68579184,\n",
       "         0.25712022, 0.25712022, 0.38070363, 0.38070363, 0.97092009,\n",
       "         0.97092009, 0.6905114 , 0.6905114 , 0.37964112, 0.37964112])}}"
      ]
     },
     "execution_count": 11,
     "metadata": {},
     "output_type": "execute_result"
    }
   ],
   "source": [
    "ds = load_by_id(run_id_n)\n",
    "ds.get_parameter_data('x1')"
   ]
  },
  {
   "cell_type": "markdown",
   "metadata": {},
   "source": [
    "And a dataset stored as binary arrays"
   ]
  },
  {
   "cell_type": "code",
   "execution_count": 12,
   "metadata": {
    "scrolled": true
   },
   "outputs": [
    {
     "data": {
      "text/plain": [
       "{'x1': {'x1': array([[0.63101226],\n",
       "         [0.63101226],\n",
       "         [0.30138691],\n",
       "         [0.30138691],\n",
       "         [0.31774315],\n",
       "         [0.31774315],\n",
       "         [0.05797547],\n",
       "         [0.05797547],\n",
       "         [0.04567112],\n",
       "         [0.04567112],\n",
       "         [0.73605623],\n",
       "         [0.73605623],\n",
       "         [0.08507876],\n",
       "         [0.08507876],\n",
       "         [0.18634368],\n",
       "         [0.18634368],\n",
       "         [0.81844622],\n",
       "         [0.81844622],\n",
       "         [0.27944924],\n",
       "         [0.27944924],\n",
       "         [0.10726272],\n",
       "         [0.10726272],\n",
       "         [0.37529931],\n",
       "         [0.37529931],\n",
       "         [0.41236253],\n",
       "         [0.41236253],\n",
       "         [0.19984593],\n",
       "         [0.19984593],\n",
       "         [0.17099547],\n",
       "         [0.17099547],\n",
       "         [0.67733105],\n",
       "         [0.67733105],\n",
       "         [0.75774168],\n",
       "         [0.75774168],\n",
       "         [0.98549381],\n",
       "         [0.98549381],\n",
       "         [0.01380411],\n",
       "         [0.01380411],\n",
       "         [0.2582549 ],\n",
       "         [0.2582549 ],\n",
       "         [0.74033838],\n",
       "         [0.74033838],\n",
       "         [0.83918478],\n",
       "         [0.83918478],\n",
       "         [0.62234012],\n",
       "         [0.62234012],\n",
       "         [0.35066698],\n",
       "         [0.35066698],\n",
       "         [0.81145228],\n",
       "         [0.81145228],\n",
       "         [0.54052476],\n",
       "         [0.54052476],\n",
       "         [0.37775652],\n",
       "         [0.37775652],\n",
       "         [0.92127747],\n",
       "         [0.92127747],\n",
       "         [0.87312488],\n",
       "         [0.87312488],\n",
       "         [0.53759579],\n",
       "         [0.53759579],\n",
       "         [0.90213076],\n",
       "         [0.90213076],\n",
       "         [0.91981842],\n",
       "         [0.91981842],\n",
       "         [0.8575153 ],\n",
       "         [0.8575153 ],\n",
       "         [0.0973551 ],\n",
       "         [0.0973551 ],\n",
       "         [0.66224984],\n",
       "         [0.66224984],\n",
       "         [0.92109477],\n",
       "         [0.92109477],\n",
       "         [0.7463455 ],\n",
       "         [0.7463455 ],\n",
       "         [0.0640354 ],\n",
       "         [0.0640354 ],\n",
       "         [0.69434203],\n",
       "         [0.69434203],\n",
       "         [0.45621024],\n",
       "         [0.45621024],\n",
       "         [0.40866214],\n",
       "         [0.40866214],\n",
       "         [0.7942617 ],\n",
       "         [0.7942617 ],\n",
       "         [0.77862606],\n",
       "         [0.77862606],\n",
       "         [0.64158801],\n",
       "         [0.64158801],\n",
       "         [0.46605389],\n",
       "         [0.46605389],\n",
       "         [0.77457867],\n",
       "         [0.77457867],\n",
       "         [0.30648884],\n",
       "         [0.30648884],\n",
       "         [0.61850195],\n",
       "         [0.61850195],\n",
       "         [0.2790175 ],\n",
       "         [0.2790175 ],\n",
       "         [0.14354225],\n",
       "         [0.14354225],\n",
       "         [0.20627093],\n",
       "         [0.20627093],\n",
       "         [0.39007541],\n",
       "         [0.39007541],\n",
       "         [0.72176594],\n",
       "         [0.72176594],\n",
       "         [0.67738773],\n",
       "         [0.67738773],\n",
       "         [0.30188133],\n",
       "         [0.30188133],\n",
       "         [0.20845458],\n",
       "         [0.20845458],\n",
       "         [0.99813882],\n",
       "         [0.99813882],\n",
       "         [0.50628566],\n",
       "         [0.50628566],\n",
       "         [0.85646008],\n",
       "         [0.85646008],\n",
       "         [0.27484503],\n",
       "         [0.27484503],\n",
       "         [0.34920434],\n",
       "         [0.34920434],\n",
       "         [0.968849  ],\n",
       "         [0.968849  ],\n",
       "         [0.51747705],\n",
       "         [0.51747705],\n",
       "         [0.2852274 ],\n",
       "         [0.2852274 ],\n",
       "         [0.39465904],\n",
       "         [0.39465904],\n",
       "         [0.67592792],\n",
       "         [0.67592792],\n",
       "         [0.48237351],\n",
       "         [0.48237351],\n",
       "         [0.21624846],\n",
       "         [0.21624846],\n",
       "         [0.72664438],\n",
       "         [0.72664438],\n",
       "         [0.23674311],\n",
       "         [0.23674311],\n",
       "         [0.84716772],\n",
       "         [0.84716772],\n",
       "         [0.29887576],\n",
       "         [0.29887576],\n",
       "         [0.98281732],\n",
       "         [0.98281732],\n",
       "         [0.66037267],\n",
       "         [0.66037267],\n",
       "         [0.01892138],\n",
       "         [0.01892138],\n",
       "         [0.55730424],\n",
       "         [0.55730424],\n",
       "         [0.62030644],\n",
       "         [0.62030644],\n",
       "         [0.22398119],\n",
       "         [0.22398119],\n",
       "         [0.72251106],\n",
       "         [0.72251106],\n",
       "         [0.99854765],\n",
       "         [0.99854765],\n",
       "         [0.98907169],\n",
       "         [0.98907169],\n",
       "         [0.62255364],\n",
       "         [0.62255364],\n",
       "         [0.02254958],\n",
       "         [0.02254958],\n",
       "         [0.53945469],\n",
       "         [0.53945469],\n",
       "         [0.10303626],\n",
       "         [0.10303626],\n",
       "         [0.84947958],\n",
       "         [0.84947958],\n",
       "         [0.30511877],\n",
       "         [0.30511877],\n",
       "         [0.69890369],\n",
       "         [0.69890369],\n",
       "         [0.78547588],\n",
       "         [0.78547588],\n",
       "         [0.15115767],\n",
       "         [0.15115767],\n",
       "         [0.41075766],\n",
       "         [0.41075766],\n",
       "         [0.64803767],\n",
       "         [0.64803767],\n",
       "         [0.6150635 ],\n",
       "         [0.6150635 ],\n",
       "         [0.98294871],\n",
       "         [0.98294871],\n",
       "         [0.68837632],\n",
       "         [0.68837632],\n",
       "         [0.28619415],\n",
       "         [0.28619415],\n",
       "         [0.84159905],\n",
       "         [0.84159905],\n",
       "         [0.58434561],\n",
       "         [0.58434561],\n",
       "         [0.70780352],\n",
       "         [0.70780352],\n",
       "         [0.39751908],\n",
       "         [0.39751908]])}}"
      ]
     },
     "execution_count": 12,
     "metadata": {},
     "output_type": "execute_result"
    }
   ],
   "source": [
    "ds = load_by_id(run_id_a)\n",
    "ds.get_parameter_data('x1')"
   ]
  },
  {
   "cell_type": "code",
   "execution_count": null,
   "metadata": {},
   "outputs": [],
   "source": []
  }
 ],
 "metadata": {
  "kernelspec": {
   "display_name": "Python 3",
   "language": "python",
   "name": "python3"
  },
  "language_info": {
   "codemirror_mode": {
    "name": "ipython",
    "version": 3
   },
   "file_extension": ".py",
   "mimetype": "text/x-python",
   "name": "python",
   "nbconvert_exporter": "python",
   "pygments_lexer": "ipython3",
   "version": "3.7.7"
  },
  "nbsphinx": {
   "timeout": 600
  },
  "toc": {
   "base_numbering": 1,
   "nav_menu": {},
   "number_sections": true,
   "sideBar": true,
   "skip_h1_title": false,
   "title_cell": "Table of Contents",
   "title_sidebar": "Contents",
   "toc_cell": false,
   "toc_position": {},
   "toc_section_display": true,
   "toc_window_display": false
  },
  "varInspector": {
   "cols": {
    "lenName": 16,
    "lenType": 16,
    "lenVar": 40
   },
   "kernels_config": {
    "python": {
     "delete_cmd_postfix": "",
     "delete_cmd_prefix": "del ",
     "library": "var_list.py",
     "varRefreshCmd": "print(var_dic_list())"
    },
    "r": {
     "delete_cmd_postfix": ") ",
     "delete_cmd_prefix": "rm(",
     "library": "var_list.r",
     "varRefreshCmd": "cat(var_dic_list()) "
    }
   },
   "types_to_exclude": [
    "module",
    "function",
    "builtin_function_or_method",
    "instance",
    "_Feature"
   ],
   "window_display": false
  }
 },
 "nbformat": 4,
 "nbformat_minor": 2
}
