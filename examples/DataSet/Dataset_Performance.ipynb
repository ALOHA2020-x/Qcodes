{
 "cells": [
  {
   "cell_type": "markdown",
   "metadata": {},
   "source": [
    "# DataSet Performance\n",
    "\n",
    "This notebook shows the trade-off between inserting data into a database row-by-row and as binary blobs. Inserting the data row-by-row means that we have direct access to all the data and may perform queries directly on the values of the data. On the other hand, as we shall see, this is much slower than inserting the data directly as binary blobs."
   ]
  },
  {
   "cell_type": "markdown",
   "metadata": {},
   "source": [
    "First, we choose a new location for the database to ensure that we don't add a bunch of benchmarking data to the default one."
   ]
  },
  {
   "cell_type": "code",
   "execution_count": 1,
   "metadata": {
    "execution": {
     "iopub.execute_input": "2021-05-11T07:13:04.871610Z",
     "iopub.status.busy": "2021-05-11T07:13:04.871041Z",
     "iopub.status.idle": "2021-05-11T07:13:06.192622Z",
     "shell.execute_reply": "2021-05-11T07:13:06.191590Z"
    }
   },
   "outputs": [
    {
     "name": "stdout",
     "output_type": "stream",
     "text": [
      "Logging hadn't been started.\n",
      "Activating auto-logging. Current session state plus future input saved.\n",
      "Filename       : /home/runner/.qcodes/logs/command_history.log\n",
      "Mode           : append\n",
      "Output logging : True\n",
      "Raw input log  : False\n",
      "Timestamping   : True\n",
      "State          : active\n"
     ]
    },
    {
     "name": "stdout",
     "output_type": "stream",
     "text": [
      "Qcodes Logfile : /home/runner/.qcodes/logs/210511-4638-qcodes.log\n"
     ]
    }
   ],
   "source": [
    "import os\n",
    "cwd = os.getcwd()\n",
    "import qcodes as qc\n",
    "qc.config[\"core\"][\"db_location\"] = os.path.join(cwd, 'testing.db')\n"
   ]
  },
  {
   "cell_type": "code",
   "execution_count": 2,
   "metadata": {
    "execution": {
     "iopub.execute_input": "2021-05-11T07:13:06.199635Z",
     "iopub.status.busy": "2021-05-11T07:13:06.198731Z",
     "iopub.status.idle": "2021-05-11T07:13:06.420780Z",
     "shell.execute_reply": "2021-05-11T07:13:06.419945Z"
    }
   },
   "outputs": [],
   "source": [
    "%matplotlib inline\n",
    "import time\n",
    "import matplotlib.pyplot as plt\n",
    "import numpy as np\n",
    "\n",
    "import qcodes as qc\n",
    "from qcodes.instrument.parameter import ManualParameter\n",
    "from qcodes.dataset.experiment_container import (Experiment,\n",
    "                                                 load_last_experiment,\n",
    "                                                 new_experiment)\n",
    "from qcodes.dataset.sqlite.database import initialise_database\n",
    "from qcodes import load_or_create_experiment\n",
    "from qcodes.dataset.measurements import Measurement"
   ]
  },
  {
   "cell_type": "code",
   "execution_count": 3,
   "metadata": {
    "execution": {
     "iopub.execute_input": "2021-05-11T07:13:06.425030Z",
     "iopub.status.busy": "2021-05-11T07:13:06.423931Z",
     "iopub.status.idle": "2021-05-11T07:13:06.509044Z",
     "shell.execute_reply": "2021-05-11T07:13:06.509541Z"
    }
   },
   "outputs": [
    {
     "name": "stdout",
     "output_type": "stream",
     "text": [
      "\r",
      "0it [00:00, ?it/s]"
     ]
    },
    {
     "name": "stdout",
     "output_type": "stream",
     "text": [
      "\r",
      "Upgrading database; v0 -> v1: : 0it [00:00, ?it/s]"
     ]
    },
    {
     "name": "stdout",
     "output_type": "stream",
     "text": [
      "\r",
      "Upgrading database; v0 -> v1: : 0it [00:00, ?it/s]"
     ]
    },
    {
     "name": "stdout",
     "output_type": "stream",
     "text": [
      "\n",
      "\r",
      "  0%|          | 0/1 [00:00<?, ?it/s]"
     ]
    },
    {
     "name": "stdout",
     "output_type": "stream",
     "text": [
      "\r",
      "Upgrading database; v1 -> v2:   0%|          | 0/1 [00:00<?, ?it/s]"
     ]
    },
    {
     "name": "stdout",
     "output_type": "stream",
     "text": [
      "\r",
      "Upgrading database; v1 -> v2: 100%|██████████| 1/1 [00:00<00:00, 1102.31it/s]"
     ]
    },
    {
     "name": "stdout",
     "output_type": "stream",
     "text": [
      "\n",
      "\r",
      "0it [00:00, ?it/s]"
     ]
    },
    {
     "name": "stdout",
     "output_type": "stream",
     "text": [
      "\r",
      "Upgrading database; v2 -> v3: : 0it [00:00, ?it/s]"
     ]
    },
    {
     "name": "stdout",
     "output_type": "stream",
     "text": [
      "\r",
      "Upgrading database; v2 -> v3: : 0it [00:00, ?it/s]"
     ]
    },
    {
     "name": "stdout",
     "output_type": "stream",
     "text": [
      "\n",
      "\r",
      "0it [00:00, ?it/s]"
     ]
    },
    {
     "name": "stdout",
     "output_type": "stream",
     "text": [
      "\r",
      "Upgrading database; v3 -> v4: : 0it [00:00, ?it/s]"
     ]
    },
    {
     "name": "stdout",
     "output_type": "stream",
     "text": [
      "\r",
      "Upgrading database; v3 -> v4: : 0it [00:00, ?it/s]"
     ]
    },
    {
     "name": "stdout",
     "output_type": "stream",
     "text": [
      "\n",
      "\r",
      "  0%|          | 0/1 [00:00<?, ?it/s]"
     ]
    },
    {
     "name": "stdout",
     "output_type": "stream",
     "text": [
      "\r",
      "Upgrading database; v4 -> v5:   0%|          | 0/1 [00:00<?, ?it/s]"
     ]
    },
    {
     "name": "stdout",
     "output_type": "stream",
     "text": [
      "\r",
      "Upgrading database; v4 -> v5: 100%|██████████| 1/1 [00:00<00:00, 923.04it/s]"
     ]
    },
    {
     "name": "stdout",
     "output_type": "stream",
     "text": [
      "\n",
      "\r",
      "0it [00:00, ?it/s]"
     ]
    },
    {
     "name": "stdout",
     "output_type": "stream",
     "text": [
      "\r",
      "Upgrading database; v5 -> v6: : 0it [00:00, ?it/s]"
     ]
    },
    {
     "name": "stdout",
     "output_type": "stream",
     "text": [
      "\r",
      "Upgrading database; v5 -> v6: : 0it [00:00, ?it/s]"
     ]
    },
    {
     "name": "stdout",
     "output_type": "stream",
     "text": [
      "\n",
      "\r",
      "  0%|          | 0/1 [00:00<?, ?it/s]"
     ]
    },
    {
     "name": "stdout",
     "output_type": "stream",
     "text": [
      "\r",
      "Upgrading database; v6 -> v7:   0%|          | 0/1 [00:00<?, ?it/s]"
     ]
    },
    {
     "name": "stdout",
     "output_type": "stream",
     "text": [
      "\r",
      "Upgrading database; v6 -> v7: 100%|██████████| 1/1 [00:00<00:00, 354.37it/s]"
     ]
    },
    {
     "name": "stdout",
     "output_type": "stream",
     "text": [
      "\n",
      "\r",
      "  0%|          | 0/1 [00:00<?, ?it/s]"
     ]
    },
    {
     "name": "stdout",
     "output_type": "stream",
     "text": [
      "\r",
      "Upgrading database; v7 -> v8:   0%|          | 0/1 [00:00<?, ?it/s]"
     ]
    },
    {
     "name": "stdout",
     "output_type": "stream",
     "text": [
      "\r",
      "Upgrading database; v7 -> v8: 100%|██████████| 1/1 [00:00<00:00, 835.35it/s]"
     ]
    },
    {
     "name": "stdout",
     "output_type": "stream",
     "text": [
      "\n",
      "\r",
      "  0%|          | 0/1 [00:00<?, ?it/s]"
     ]
    },
    {
     "name": "stdout",
     "output_type": "stream",
     "text": [
      "\r",
      "Upgrading database; v8 -> v9:   0%|          | 0/1 [00:00<?, ?it/s]"
     ]
    },
    {
     "name": "stdout",
     "output_type": "stream",
     "text": [
      "\r",
      "Upgrading database; v8 -> v9: 100%|██████████| 1/1 [00:00<00:00, 511.00it/s]"
     ]
    },
    {
     "name": "stdout",
     "output_type": "stream",
     "text": [
      "\n"
     ]
    }
   ],
   "source": [
    "initialise_database()\n",
    "exp = load_or_create_experiment(experiment_name='tutorial_exp', sample_name=\"no sample\")"
   ]
  },
  {
   "cell_type": "markdown",
   "metadata": {},
   "source": [
    "Here, we define a simple function to benchmark the time it takes to insert n points with either numeric or array data type.\n",
    "We will compare both the time used to call ``add_result`` and the time used for the full measurement."
   ]
  },
  {
   "cell_type": "code",
   "execution_count": 4,
   "metadata": {
    "execution": {
     "iopub.execute_input": "2021-05-11T07:13:06.518605Z",
     "iopub.status.busy": "2021-05-11T07:13:06.518033Z",
     "iopub.status.idle": "2021-05-11T07:13:06.521805Z",
     "shell.execute_reply": "2021-05-11T07:13:06.521036Z"
    }
   },
   "outputs": [],
   "source": [
    "def insert_data(paramtype, npoints, nreps=1):\n",
    "\n",
    "    meas = Measurement(exp=exp)\n",
    "\n",
    "    x1 = ManualParameter('x1')\n",
    "    x2 = ManualParameter('x2')\n",
    "    x3 = ManualParameter('x3')\n",
    "    y1 = ManualParameter('y1')\n",
    "    y2 = ManualParameter('y2')\n",
    "\n",
    "    meas.register_parameter(x1, paramtype=paramtype)\n",
    "    meas.register_parameter(x2, paramtype=paramtype)\n",
    "    meas.register_parameter(x3, paramtype=paramtype)\n",
    "    meas.register_parameter(y1, setpoints=[x1, x2, x3],\n",
    "                            paramtype=paramtype)\n",
    "    meas.register_parameter(y2, setpoints=[x1, x2, x3],\n",
    "                            paramtype=paramtype)\n",
    "    start = time.perf_counter()\n",
    "    with meas.run() as datasaver:\n",
    "        start_adding = time.perf_counter()\n",
    "        for i in range(nreps):\n",
    "            datasaver.add_result((x1, np.random.rand(npoints)),\n",
    "                                 (x2, np.random.rand(npoints)),\n",
    "                                 (x3, np.random.rand(npoints)),\n",
    "                                 (y1, np.random.rand(npoints)),\n",
    "                                 (y2, np.random.rand(npoints)))\n",
    "        stop_adding = time.perf_counter()\n",
    "        run_id = datasaver.run_id\n",
    "    stop = time.perf_counter()\n",
    "    tot_time = stop - start\n",
    "    add_time = stop_adding - start_adding\n",
    "    return tot_time, add_time, run_id"
   ]
  },
  {
   "cell_type": "markdown",
   "metadata": {},
   "source": [
    "## Comparison between numeric/array data and binary blob"
   ]
  },
  {
   "cell_type": "markdown",
   "metadata": {},
   "source": [
    "### Case1: Short experiment time"
   ]
  },
  {
   "cell_type": "code",
   "execution_count": 5,
   "metadata": {
    "execution": {
     "iopub.execute_input": "2021-05-11T07:13:06.528988Z",
     "iopub.status.busy": "2021-05-11T07:13:06.528358Z",
     "iopub.status.idle": "2021-05-11T07:13:07.416726Z",
     "shell.execute_reply": "2021-05-11T07:13:07.416208Z"
    }
   },
   "outputs": [
    {
     "name": "stdout",
     "output_type": "stream",
     "text": [
      "Starting experimental run with id: 1. \n",
      "Starting experimental run with id: 2. \n",
      "Starting experimental run with id: 3. \n"
     ]
    },
    {
     "name": "stdout",
     "output_type": "stream",
     "text": [
      "Starting experimental run with id: 4. \n"
     ]
    },
    {
     "name": "stdout",
     "output_type": "stream",
     "text": [
      "Starting experimental run with id: 5. \n"
     ]
    },
    {
     "name": "stdout",
     "output_type": "stream",
     "text": [
      "Starting experimental run with id: 6. \n"
     ]
    },
    {
     "name": "stdout",
     "output_type": "stream",
     "text": [
      "Starting experimental run with id: 7. \n",
      "Starting experimental run with id: 8. \n"
     ]
    },
    {
     "name": "stdout",
     "output_type": "stream",
     "text": [
      "Starting experimental run with id: 9. \n"
     ]
    },
    {
     "name": "stdout",
     "output_type": "stream",
     "text": [
      "Starting experimental run with id: 10. \n",
      "Starting experimental run with id: 11. \n"
     ]
    },
    {
     "name": "stdout",
     "output_type": "stream",
     "text": [
      "Starting experimental run with id: 12. \n",
      "Starting experimental run with id: 13. \n"
     ]
    },
    {
     "name": "stdout",
     "output_type": "stream",
     "text": [
      "Starting experimental run with id: 14. \n"
     ]
    }
   ],
   "source": [
    "sizes = [1,500,1000,2000,3000,4000,5000]\n",
    "t_numeric = []\n",
    "t_numeric_add = []\n",
    "t_array = []\n",
    "t_array_add = []\n",
    "for size in sizes:\n",
    "    tn, tna, run_id_n =  insert_data('numeric', size)\n",
    "    t_numeric.append(tn)\n",
    "    t_numeric_add.append(tna)\n",
    "\n",
    "    ta, taa, run_id_a =  insert_data('array', size)\n",
    "    t_array.append(ta)\n",
    "    t_array_add.append(taa)"
   ]
  },
  {
   "cell_type": "code",
   "execution_count": 6,
   "metadata": {
    "execution": {
     "iopub.execute_input": "2021-05-11T07:13:07.452004Z",
     "iopub.status.busy": "2021-05-11T07:13:07.438630Z",
     "iopub.status.idle": "2021-05-11T07:13:07.649694Z",
     "shell.execute_reply": "2021-05-11T07:13:07.649199Z"
    }
   },
   "outputs": [
    {
     "data": {
      "image/png": "[encoded data removed]",
      "text/plain": [
       "<Figure size 432x288 with 1 Axes>"
      ]
     },
     "metadata": {
      "needs_background": "light"
     },
     "output_type": "display_data"
    }
   ],
   "source": [
    "fig, ax = plt.subplots(1,1)\n",
    "ax.plot(sizes, t_numeric, 'o-', label='Inserting row-by-row')\n",
    "ax.plot(sizes, t_numeric_add, 'o-', label='Inserting row-by-row: add_result only')\n",
    "ax.plot(sizes, t_array, 'd-', label='Inserting as binary blob')\n",
    "ax.plot(sizes, t_array_add, 'd-', label='Inserting as binary blob: add_result only')\n",
    "ax.legend()\n",
    "ax.set_xlabel('Array length')\n",
    "ax.set_ylabel('Time (s)')\n",
    "fig.tight_layout()"
   ]
  },
  {
   "cell_type": "markdown",
   "metadata": {},
   "source": [
    "As shown in the latter figure, the time to setup and and close the experiment is approximately 0.4 sec. In case of small array sizes, the difference between inserting values of data as arrays and inserting them row-by-row is relatively unimportant. At larger array sizes, i.e. above 10000 points, the cost of writing data as individual datapoints starts to become important.\n"
   ]
  },
  {
   "cell_type": "markdown",
   "metadata": {},
   "source": [
    "### Case2: Long experiment time "
   ]
  },
  {
   "cell_type": "code",
   "execution_count": 7,
   "metadata": {
    "execution": {
     "iopub.execute_input": "2021-05-11T07:13:07.657146Z",
     "iopub.status.busy": "2021-05-11T07:13:07.655833Z",
     "iopub.status.idle": "2021-05-11T07:14:06.499713Z",
     "shell.execute_reply": "2021-05-11T07:14:06.499153Z"
    }
   },
   "outputs": [
    {
     "name": "stdout",
     "output_type": "stream",
     "text": [
      "Starting experimental run with id: 15. \n",
      "Starting experimental run with id: 16. \n"
     ]
    },
    {
     "name": "stdout",
     "output_type": "stream",
     "text": [
      "Starting experimental run with id: 17. \n"
     ]
    },
    {
     "name": "stdout",
     "output_type": "stream",
     "text": [
      "Starting experimental run with id: 18. \n"
     ]
    },
    {
     "name": "stdout",
     "output_type": "stream",
     "text": [
      "Starting experimental run with id: 19. \n"
     ]
    },
    {
     "name": "stdout",
     "output_type": "stream",
     "text": [
      "Starting experimental run with id: 20. \n"
     ]
    },
    {
     "name": "stdout",
     "output_type": "stream",
     "text": [
      "Starting experimental run with id: 21. \n"
     ]
    },
    {
     "name": "stdout",
     "output_type": "stream",
     "text": [
      "Starting experimental run with id: 22. \n"
     ]
    },
    {
     "name": "stdout",
     "output_type": "stream",
     "text": [
      "Starting experimental run with id: 23. \n"
     ]
    },
    {
     "name": "stdout",
     "output_type": "stream",
     "text": [
      "Starting experimental run with id: 24. \n"
     ]
    },
    {
     "name": "stdout",
     "output_type": "stream",
     "text": [
      "Starting experimental run with id: 25. \n"
     ]
    },
    {
     "name": "stdout",
     "output_type": "stream",
     "text": [
      "Starting experimental run with id: 26. \n"
     ]
    },
    {
     "name": "stdout",
     "output_type": "stream",
     "text": [
      "Starting experimental run with id: 27. \n"
     ]
    },
    {
     "name": "stdout",
     "output_type": "stream",
     "text": [
      "Starting experimental run with id: 28. \n"
     ]
    }
   ],
   "source": [
    "sizes = [1,500,1000,2000,3000,4000,5000]\n",
    "nreps = 100\n",
    "t_numeric = []\n",
    "t_numeric_add = []\n",
    "t_numeric_run_ids = []\n",
    "t_array = []\n",
    "t_array_add = []\n",
    "t_array_run_ids = []\n",
    "for size in sizes:\n",
    "    tn, tna, run_id_n =  insert_data('numeric', size, nreps=nreps)\n",
    "    t_numeric.append(tn)\n",
    "    t_numeric_add.append(tna)\n",
    "    t_numeric_run_ids.append(run_id_n)\n",
    "\n",
    "    ta, taa, run_id_a =  insert_data('array', size, nreps=nreps)\n",
    "    t_array.append(ta)\n",
    "    t_array_add.append(taa)\n",
    "    t_array_run_ids.append(run_id_a)"
   ]
  },
  {
   "cell_type": "code",
   "execution_count": 8,
   "metadata": {
    "execution": {
     "iopub.execute_input": "2021-05-11T07:14:06.542895Z",
     "iopub.status.busy": "2021-05-11T07:14:06.519452Z",
     "iopub.status.idle": "2021-05-11T07:14:06.721012Z",
     "shell.execute_reply": "2021-05-11T07:14:06.721468Z"
    },
    "scrolled": true
   },
   "outputs": [
    {
     "data": {
      "image/png": "[encoded data removed]",
      "text/plain": [
       "<Figure size 432x288 with 1 Axes>"
      ]
     },
     "metadata": {
      "needs_background": "light"
     },
     "output_type": "display_data"
    }
   ],
   "source": [
    "fig, ax = plt.subplots(1,1)\n",
    "ax.plot(sizes, t_numeric, 'o-', label='Inserting row-by-row')\n",
    "ax.plot(sizes, t_numeric_add, 'o-', label='Inserting row-by-row: add_result only')\n",
    "ax.plot(sizes, t_array, 'd-', label='Inserting as binary blob')\n",
    "ax.plot(sizes, t_array_add, 'd-', label='Inserting as binary blob: add_result only')\n",
    "ax.legend()\n",
    "ax.set_xlabel('Array length')\n",
    "ax.set_ylabel('Time (s)')\n",
    "fig.tight_layout()"
   ]
  },
  {
   "cell_type": "markdown",
   "metadata": {},
   "source": [
    "However, as we increase the length of the experiment, as seen here by repeating the insertion 100 times, we see a big difference between inserting values of the data row-by-row and inserting it as a binary blob."
   ]
  },
  {
   "cell_type": "markdown",
   "metadata": {},
   "source": [
    "## Loading the data "
   ]
  },
  {
   "cell_type": "code",
   "execution_count": 9,
   "metadata": {
    "execution": {
     "iopub.execute_input": "2021-05-11T07:14:06.725846Z",
     "iopub.status.busy": "2021-05-11T07:14:06.725284Z",
     "iopub.status.idle": "2021-05-11T07:14:06.728886Z",
     "shell.execute_reply": "2021-05-11T07:14:06.728389Z"
    }
   },
   "outputs": [],
   "source": [
    "from qcodes.dataset.data_set import load_by_id"
   ]
  },
  {
   "cell_type": "markdown",
   "metadata": {},
   "source": [
    "As usual you can load the data by using the ``load_by_id`` function but you will notice that the different storage methods\n",
    "are reflected in shape of the data as it is retrieved. "
   ]
  },
  {
   "cell_type": "code",
   "execution_count": 10,
   "metadata": {
    "execution": {
     "iopub.execute_input": "2021-05-11T07:14:06.733539Z",
     "iopub.status.busy": "2021-05-11T07:14:06.732312Z",
     "iopub.status.idle": "2021-05-11T07:14:06.734180Z",
     "shell.execute_reply": "2021-05-11T07:14:06.734643Z"
    }
   },
   "outputs": [],
   "source": [
    "run_id_n = t_numeric_run_ids[0]\n",
    "run_id_a = t_array_run_ids[0]"
   ]
  },
  {
   "cell_type": "code",
   "execution_count": 11,
   "metadata": {
    "execution": {
     "iopub.execute_input": "2021-05-11T07:14:06.738157Z",
     "iopub.status.busy": "2021-05-11T07:14:06.737606Z",
     "iopub.status.idle": "2021-05-11T07:14:06.748841Z",
     "shell.execute_reply": "2021-05-11T07:14:06.749316Z"
    },
    "scrolled": true
   },
   "outputs": [
    {
     "data": {
      "text/plain": [
       "{'x1': {'x1': array([0.81268718, 0.81268718, 0.17142416, 0.17142416, 0.83990054,\n",
       "         0.83990054, 0.20530897, 0.20530897, 0.97608952, 0.97608952,\n",
       "         0.20182528, 0.20182528, 0.19938489, 0.19938489, 0.41909562,\n",
       "         0.41909562, 0.79118943, 0.79118943, 0.05792018, 0.05792018,\n",
       "         0.43785017, 0.43785017, 0.49745519, 0.49745519, 0.61383102,\n",
       "         0.61383102, 0.96585581, 0.96585581, 0.70312361, 0.70312361,\n",
       "         0.47062109, 0.47062109, 0.8454781 , 0.8454781 , 0.69960809,\n",
       "         0.69960809, 0.43209425, 0.43209425, 0.52644   , 0.52644   ,\n",
       "         0.78537457, 0.78537457, 0.24157081, 0.24157081, 0.74494952,\n",
       "         0.74494952, 0.02347679, 0.02347679, 0.50940653, 0.50940653,\n",
       "         0.73082157, 0.73082157, 0.79057625, 0.79057625, 0.29188281,\n",
       "         0.29188281, 0.059286  , 0.059286  , 0.64689752, 0.64689752,\n",
       "         0.38971233, 0.38971233, 0.66463292, 0.66463292, 0.79681258,\n",
       "         0.79681258, 0.98859667, 0.98859667, 0.23970478, 0.23970478,\n",
       "         0.14800585, 0.14800585, 0.43134888, 0.43134888, 0.95044981,\n",
       "         0.95044981, 0.30630061, 0.30630061, 0.51317956, 0.51317956,\n",
       "         0.4449046 , 0.4449046 , 0.92558834, 0.92558834, 0.55736069,\n",
       "         0.55736069, 0.24699469, 0.24699469, 0.12469257, 0.12469257,\n",
       "         0.28417661, 0.28417661, 0.84709301, 0.84709301, 0.48799608,\n",
       "         0.48799608, 0.85218773, 0.85218773, 0.69473487, 0.69473487,\n",
       "         0.23240555, 0.23240555, 0.86808217, 0.86808217, 0.33868713,\n",
       "         0.33868713, 0.71188555, 0.71188555, 0.67163241, 0.67163241,\n",
       "         0.96927546, 0.96927546, 0.73601417, 0.73601417, 0.79636565,\n",
       "         0.79636565, 0.24165343, 0.24165343, 0.35598053, 0.35598053,\n",
       "         0.84488754, 0.84488754, 0.76755432, 0.76755432, 0.73797818,\n",
       "         0.73797818, 0.42533945, 0.42533945, 0.54560715, 0.54560715,\n",
       "         0.9756863 , 0.9756863 , 0.24859769, 0.24859769, 0.11285737,\n",
       "         0.11285737, 0.47816699, 0.47816699, 0.55931685, 0.55931685,\n",
       "         0.9083948 , 0.9083948 , 0.30600965, 0.30600965, 0.63165503,\n",
       "         0.63165503, 0.12689016, 0.12689016, 0.40815857, 0.40815857,\n",
       "         0.77462296, 0.77462296, 0.96965196, 0.96965196, 0.49915579,\n",
       "         0.49915579, 0.61142558, 0.61142558, 0.1099028 , 0.1099028 ,\n",
       "         0.3372186 , 0.3372186 , 0.07412018, 0.07412018, 0.65955091,\n",
       "         0.65955091, 0.3971556 , 0.3971556 , 0.75121262, 0.75121262,\n",
       "         0.07001681, 0.07001681, 0.41865252, 0.41865252, 0.52929108,\n",
       "         0.52929108, 0.25275789, 0.25275789, 0.73172822, 0.73172822,\n",
       "         0.35008784, 0.35008784, 0.39580563, 0.39580563, 0.33299437,\n",
       "         0.33299437, 0.02953061, 0.02953061, 0.85363084, 0.85363084,\n",
       "         0.96340816, 0.96340816, 0.01584582, 0.01584582, 0.01680111,\n",
       "         0.01680111, 0.55534673, 0.55534673, 0.51524932, 0.51524932])}}"
      ]
     },
     "execution_count": 1,
     "metadata": {},
     "output_type": "execute_result"
    }
   ],
   "source": [
    "ds = load_by_id(run_id_n)\n",
    "ds.get_parameter_data('x1')"
   ]
  },
  {
   "cell_type": "markdown",
   "metadata": {},
   "source": [
    "And a dataset stored as binary arrays"
   ]
  },
  {
   "cell_type": "code",
   "execution_count": 12,
   "metadata": {
    "execution": {
     "iopub.execute_input": "2021-05-11T07:14:06.753030Z",
     "iopub.status.busy": "2021-05-11T07:14:06.752467Z",
     "iopub.status.idle": "2021-05-11T07:14:06.812196Z",
     "shell.execute_reply": "2021-05-11T07:14:06.812670Z"
    },
    "scrolled": true
   },
   "outputs": [
    {
     "data": {
      "text/plain": [
       "{'x1': {'x1': array([[0.0818126 ],\n",
       "         [0.0818126 ],\n",
       "         [0.92757964],\n",
       "         [0.92757964],\n",
       "         [0.43280076],\n",
       "         [0.43280076],\n",
       "         [0.06365252],\n",
       "         [0.06365252],\n",
       "         [0.08487953],\n",
       "         [0.08487953],\n",
       "         [0.81603532],\n",
       "         [0.81603532],\n",
       "         [0.38770907],\n",
       "         [0.38770907],\n",
       "         [0.59182756],\n",
       "         [0.59182756],\n",
       "         [0.78812976],\n",
       "         [0.78812976],\n",
       "         [0.84946487],\n",
       "         [0.84946487],\n",
       "         [0.4935103 ],\n",
       "         [0.4935103 ],\n",
       "         [0.35907641],\n",
       "         [0.35907641],\n",
       "         [0.79654414],\n",
       "         [0.79654414],\n",
       "         [0.61444914],\n",
       "         [0.61444914],\n",
       "         [0.43353913],\n",
       "         [0.43353913],\n",
       "         [0.12351246],\n",
       "         [0.12351246],\n",
       "         [0.22181016],\n",
       "         [0.22181016],\n",
       "         [0.7232895 ],\n",
       "         [0.7232895 ],\n",
       "         [0.26569077],\n",
       "         [0.26569077],\n",
       "         [0.62022694],\n",
       "         [0.62022694],\n",
       "         [0.62081419],\n",
       "         [0.62081419],\n",
       "         [0.97804945],\n",
       "         [0.97804945],\n",
       "         [0.73500732],\n",
       "         [0.73500732],\n",
       "         [0.20296721],\n",
       "         [0.20296721],\n",
       "         [0.42212529],\n",
       "         [0.42212529],\n",
       "         [0.73521416],\n",
       "         [0.73521416],\n",
       "         [0.43276843],\n",
       "         [0.43276843],\n",
       "         [0.75584329],\n",
       "         [0.75584329],\n",
       "         [0.07208669],\n",
       "         [0.07208669],\n",
       "         [0.40940821],\n",
       "         [0.40940821],\n",
       "         [0.04084008],\n",
       "         [0.04084008],\n",
       "         [0.92647618],\n",
       "         [0.92647618],\n",
       "         [0.10664765],\n",
       "         [0.10664765],\n",
       "         [0.51014031],\n",
       "         [0.51014031],\n",
       "         [0.37785401],\n",
       "         [0.37785401],\n",
       "         [0.29278986],\n",
       "         [0.29278986],\n",
       "         [0.16850255],\n",
       "         [0.16850255],\n",
       "         [0.54347856],\n",
       "         [0.54347856],\n",
       "         [0.63640131],\n",
       "         [0.63640131],\n",
       "         [0.17702502],\n",
       "         [0.17702502],\n",
       "         [0.59375093],\n",
       "         [0.59375093],\n",
       "         [0.19974903],\n",
       "         [0.19974903],\n",
       "         [0.86389306],\n",
       "         [0.86389306],\n",
       "         [0.79293552],\n",
       "         [0.79293552],\n",
       "         [0.26854029],\n",
       "         [0.26854029],\n",
       "         [0.0127316 ],\n",
       "         [0.0127316 ],\n",
       "         [0.38154617],\n",
       "         [0.38154617],\n",
       "         [0.67319593],\n",
       "         [0.67319593],\n",
       "         [0.60912388],\n",
       "         [0.60912388],\n",
       "         [0.70800982],\n",
       "         [0.70800982],\n",
       "         [0.32108225],\n",
       "         [0.32108225],\n",
       "         [0.62224678],\n",
       "         [0.62224678],\n",
       "         [0.21236656],\n",
       "         [0.21236656],\n",
       "         [0.52390564],\n",
       "         [0.52390564],\n",
       "         [0.49493867],\n",
       "         [0.49493867],\n",
       "         [0.38979129],\n",
       "         [0.38979129],\n",
       "         [0.41230493],\n",
       "         [0.41230493],\n",
       "         [0.84653066],\n",
       "         [0.84653066],\n",
       "         [0.78326913],\n",
       "         [0.78326913],\n",
       "         [0.57849563],\n",
       "         [0.57849563],\n",
       "         [0.38790027],\n",
       "         [0.38790027],\n",
       "         [0.84383672],\n",
       "         [0.84383672],\n",
       "         [0.58134076],\n",
       "         [0.58134076],\n",
       "         [0.23153614],\n",
       "         [0.23153614],\n",
       "         [0.96916524],\n",
       "         [0.96916524],\n",
       "         [0.34520436],\n",
       "         [0.34520436],\n",
       "         [0.71480165],\n",
       "         [0.71480165],\n",
       "         [0.78931909],\n",
       "         [0.78931909],\n",
       "         [0.61216993],\n",
       "         [0.61216993],\n",
       "         [0.52482099],\n",
       "         [0.52482099],\n",
       "         [0.74834462],\n",
       "         [0.74834462],\n",
       "         [0.8793716 ],\n",
       "         [0.8793716 ],\n",
       "         [0.25130752],\n",
       "         [0.25130752],\n",
       "         [0.40387002],\n",
       "         [0.40387002],\n",
       "         [0.21661636],\n",
       "         [0.21661636],\n",
       "         [0.04111029],\n",
       "         [0.04111029],\n",
       "         [0.35427158],\n",
       "         [0.35427158],\n",
       "         [0.44758403],\n",
       "         [0.44758403],\n",
       "         [0.10074221],\n",
       "         [0.10074221],\n",
       "         [0.16037045],\n",
       "         [0.16037045],\n",
       "         [0.70767352],\n",
       "         [0.70767352],\n",
       "         [0.6926553 ],\n",
       "         [0.6926553 ],\n",
       "         [0.8849447 ],\n",
       "         [0.8849447 ],\n",
       "         [0.46932353],\n",
       "         [0.46932353],\n",
       "         [0.63577312],\n",
       "         [0.63577312],\n",
       "         [0.64959544],\n",
       "         [0.64959544],\n",
       "         [0.58031763],\n",
       "         [0.58031763],\n",
       "         [0.00854126],\n",
       "         [0.00854126],\n",
       "         [0.92641759],\n",
       "         [0.92641759],\n",
       "         [0.46114869],\n",
       "         [0.46114869],\n",
       "         [0.8585878 ],\n",
       "         [0.8585878 ],\n",
       "         [0.13886975],\n",
       "         [0.13886975],\n",
       "         [0.69463112],\n",
       "         [0.69463112],\n",
       "         [0.57811839],\n",
       "         [0.57811839],\n",
       "         [0.86777082],\n",
       "         [0.86777082],\n",
       "         [0.00645992],\n",
       "         [0.00645992],\n",
       "         [0.67920626],\n",
       "         [0.67920626],\n",
       "         [0.34832294],\n",
       "         [0.34832294],\n",
       "         [0.57386379],\n",
       "         [0.57386379],\n",
       "         [0.78181291],\n",
       "         [0.78181291]])}}"
      ]
     },
     "execution_count": 1,
     "metadata": {},
     "output_type": "execute_result"
    }
   ],
   "source": [
    "ds = load_by_id(run_id_a)\n",
    "ds.get_parameter_data('x1')"
   ]
  },
  {
   "cell_type": "code",
   "execution_count": null,
   "metadata": {},
   "outputs": [],
   "source": []
  }
 ],
 "metadata": {
  "kernelspec": {
   "display_name": "Python 3",
   "language": "python",
   "name": "python3"
  },
  "language_info": {
   "codemirror_mode": {
    "name": "ipython",
    "version": 3
   },
   "file_extension": ".py",
   "mimetype": "text/x-python",
   "name": "python",
   "nbconvert_exporter": "python",
   "pygments_lexer": "ipython3",
   "version": "3.7.10"
  },
  "nbsphinx": {
   "timeout": 600
  },
  "toc": {
   "base_numbering": 1,
   "nav_menu": {},
   "number_sections": true,
   "sideBar": true,
   "skip_h1_title": false,
   "title_cell": "Table of Contents",
   "title_sidebar": "Contents",
   "toc_cell": false,
   "toc_position": {},
   "toc_section_display": true,
   "toc_window_display": false
  },
  "varInspector": {
   "cols": {
    "lenName": 16,
    "lenType": 16,
    "lenVar": 40
   },
   "kernels_config": {
    "python": {
     "delete_cmd_postfix": "",
     "delete_cmd_prefix": "del ",
     "library": "var_list.py",
     "varRefreshCmd": "print(var_dic_list())"
    },
    "r": {
     "delete_cmd_postfix": ") ",
     "delete_cmd_prefix": "rm(",
     "library": "var_list.r",
     "varRefreshCmd": "cat(var_dic_list()) "
    }
   },
   "types_to_exclude": [
    "module",
    "function",
    "builtin_function_or_method",
    "instance",
    "_Feature"
   ],
   "window_display": false
  }
 },
 "nbformat": 4,
 "nbformat_minor": 4
}
