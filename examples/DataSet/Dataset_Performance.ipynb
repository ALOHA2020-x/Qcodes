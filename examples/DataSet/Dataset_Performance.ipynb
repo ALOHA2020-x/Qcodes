{
 "cells": [
  {
   "cell_type": "markdown",
   "metadata": {},
   "source": [
    "# DataSet Performance\n",
    "\n",
    "This notebook shows the trade-off between inserting data into a database row-by-row and as binary blobs. Inserting the data row-by-row means that we have direct access to all the data and may perform queries directly on the values of the data. On the other hand, as we shall see, this is much slower than inserting the data directly as binary blobs."
   ]
  },
  {
   "cell_type": "markdown",
   "metadata": {},
   "source": [
    "First, we choose a new location for the database to ensure that we don't add a bunch of benchmarking data to the default one."
   ]
  },
  {
   "cell_type": "code",
   "execution_count": 1,
   "metadata": {
    "execution": {
     "iopub.execute_input": "2020-11-26T17:04:26.893574Z",
     "iopub.status.busy": "2020-11-26T17:04:26.893031Z",
     "iopub.status.idle": "2020-11-26T17:04:27.929503Z",
     "shell.execute_reply": "2020-11-26T17:04:27.928895Z"
    }
   },
   "outputs": [
    {
     "name": "stdout",
     "output_type": "stream",
     "text": [
      "Logging hadn't been started.\n",
      "Activating auto-logging. Current session state plus future input saved.\n",
      "Filename       : /home/vsts/.qcodes/logs/command_history.log\n",
      "Mode           : append\n",
      "Output logging : True\n",
      "Raw input log  : False\n",
      "Timestamping   : True\n",
      "State          : active\n"
     ]
    },
    {
     "name": "stdout",
     "output_type": "stream",
     "text": [
      "Qcodes Logfile : /home/vsts/.qcodes/logs/201126-13988-qcodes.log\n"
     ]
    }
   ],
   "source": [
    "import os\n",
    "cwd = os.getcwd()\n",
    "import qcodes as qc\n",
    "qc.config[\"core\"][\"db_location\"] = os.path.join(cwd, 'testing.db')\n"
   ]
  },
  {
   "cell_type": "code",
   "execution_count": 2,
   "metadata": {
    "execution": {
     "iopub.execute_input": "2020-11-26T17:04:27.936600Z",
     "iopub.status.busy": "2020-11-26T17:04:27.935044Z",
     "iopub.status.idle": "2020-11-26T17:04:28.136851Z",
     "shell.execute_reply": "2020-11-26T17:04:28.137725Z"
    }
   },
   "outputs": [],
   "source": [
    "%matplotlib inline\n",
    "import time\n",
    "import matplotlib.pyplot as plt\n",
    "import numpy as np\n",
    "\n",
    "import qcodes as qc\n",
    "from qcodes.instrument.parameter import ManualParameter\n",
    "from qcodes.dataset.experiment_container import (Experiment,\n",
    "                                                 load_last_experiment,\n",
    "                                                 new_experiment)\n",
    "from qcodes.dataset.sqlite.database import initialise_database\n",
    "from qcodes import load_or_create_experiment\n",
    "from qcodes.dataset.measurements import Measurement"
   ]
  },
  {
   "cell_type": "code",
   "execution_count": 3,
   "metadata": {
    "execution": {
     "iopub.execute_input": "2020-11-26T17:04:28.141976Z",
     "iopub.status.busy": "2020-11-26T17:04:28.141402Z",
     "iopub.status.idle": "2020-11-26T17:04:28.258091Z",
     "shell.execute_reply": "2020-11-26T17:04:28.257500Z"
    }
   },
   "outputs": [
    {
     "name": "stdout",
     "output_type": "stream",
     "text": [
      "\r",
      "0it [00:00, ?it/s]"
     ]
    },
    {
     "name": "stdout",
     "output_type": "stream",
     "text": [
      "\r",
      "Upgrading database; v0 -> v1: : 0it [00:00, ?it/s]"
     ]
    },
    {
     "name": "stdout",
     "output_type": "stream",
     "text": [
      "\r",
      "Upgrading database; v0 -> v1: : 0it [00:00, ?it/s]"
     ]
    },
    {
     "name": "stdout",
     "output_type": "stream",
     "text": [
      "\n",
      "\r",
      "  0%|          | 0/1 [00:00<?, ?it/s]"
     ]
    },
    {
     "name": "stdout",
     "output_type": "stream",
     "text": [
      "\r",
      "Upgrading database; v1 -> v2:   0%|          | 0/1 [00:00<?, ?it/s]"
     ]
    },
    {
     "name": "stdout",
     "output_type": "stream",
     "text": [
      "\r",
      "Upgrading database; v1 -> v2: 100%|██████████| 1/1 [00:00<00:00, 465.46it/s]"
     ]
    },
    {
     "name": "stdout",
     "output_type": "stream",
     "text": [
      "\n",
      "\r",
      "0it [00:00, ?it/s]"
     ]
    },
    {
     "name": "stdout",
     "output_type": "stream",
     "text": [
      "\r",
      "Upgrading database; v2 -> v3: : 0it [00:00, ?it/s]"
     ]
    },
    {
     "name": "stdout",
     "output_type": "stream",
     "text": [
      "\r",
      "Upgrading database; v2 -> v3: : 0it [00:00, ?it/s]"
     ]
    },
    {
     "name": "stdout",
     "output_type": "stream",
     "text": [
      "\n",
      "\r",
      "0it [00:00, ?it/s]"
     ]
    },
    {
     "name": "stdout",
     "output_type": "stream",
     "text": [
      "\r",
      "Upgrading database; v3 -> v4: : 0it [00:00, ?it/s]"
     ]
    },
    {
     "name": "stdout",
     "output_type": "stream",
     "text": [
      "\r",
      "Upgrading database; v3 -> v4: : 0it [00:00, ?it/s]"
     ]
    },
    {
     "name": "stdout",
     "output_type": "stream",
     "text": [
      "\n",
      "\r",
      "  0%|          | 0/1 [00:00<?, ?it/s]"
     ]
    },
    {
     "name": "stdout",
     "output_type": "stream",
     "text": [
      "\r",
      "Upgrading database; v4 -> v5:   0%|          | 0/1 [00:00<?, ?it/s]"
     ]
    },
    {
     "name": "stdout",
     "output_type": "stream",
     "text": [
      "\r",
      "Upgrading database; v4 -> v5: 100%|██████████| 1/1 [00:00<00:00, 458.04it/s]"
     ]
    },
    {
     "name": "stdout",
     "output_type": "stream",
     "text": [
      "\n",
      "\r",
      "0it [00:00, ?it/s]"
     ]
    },
    {
     "name": "stdout",
     "output_type": "stream",
     "text": [
      "\r",
      "Upgrading database; v5 -> v6: : 0it [00:00, ?it/s]"
     ]
    },
    {
     "name": "stdout",
     "output_type": "stream",
     "text": [
      "\r",
      "Upgrading database; v5 -> v6: : 0it [00:00, ?it/s]"
     ]
    },
    {
     "name": "stdout",
     "output_type": "stream",
     "text": [
      "\n",
      "\r",
      "  0%|          | 0/1 [00:00<?, ?it/s]"
     ]
    },
    {
     "name": "stdout",
     "output_type": "stream",
     "text": [
      "\r",
      "Upgrading database; v6 -> v7:   0%|          | 0/1 [00:00<?, ?it/s]"
     ]
    },
    {
     "name": "stdout",
     "output_type": "stream",
     "text": [
      "\r",
      "Upgrading database; v6 -> v7: 100%|██████████| 1/1 [00:00<00:00, 246.19it/s]"
     ]
    },
    {
     "name": "stdout",
     "output_type": "stream",
     "text": [
      "\n",
      "\r",
      "  0%|          | 0/1 [00:00<?, ?it/s]"
     ]
    },
    {
     "name": "stdout",
     "output_type": "stream",
     "text": [
      "\r",
      "Upgrading database; v7 -> v8:   0%|          | 0/1 [00:00<?, ?it/s]"
     ]
    },
    {
     "name": "stdout",
     "output_type": "stream",
     "text": [
      "\r",
      "Upgrading database; v7 -> v8: 100%|██████████| 1/1 [00:00<00:00, 319.13it/s]"
     ]
    },
    {
     "name": "stdout",
     "output_type": "stream",
     "text": [
      "\n",
      "\r",
      "  0%|          | 0/1 [00:00<?, ?it/s]"
     ]
    },
    {
     "name": "stdout",
     "output_type": "stream",
     "text": [
      "\r",
      "Upgrading database; v8 -> v9:   0%|          | 0/1 [00:00<?, ?it/s]"
     ]
    },
    {
     "name": "stdout",
     "output_type": "stream",
     "text": [
      "\r",
      "Upgrading database; v8 -> v9: 100%|██████████| 1/1 [00:00<00:00, 403.45it/s]"
     ]
    },
    {
     "name": "stdout",
     "output_type": "stream",
     "text": [
      "\n"
     ]
    }
   ],
   "source": [
    "initialise_database()\n",
    "exp = load_or_create_experiment(experiment_name='tutorial_exp', sample_name=\"no sample\")"
   ]
  },
  {
   "cell_type": "markdown",
   "metadata": {},
   "source": [
    "Here, we define a simple function to benchmark the time it takes to insert n points with either numeric or array data type.\n",
    "We will compare both the time used to call ``add_result`` and the time used for the full measurement."
   ]
  },
  {
   "cell_type": "code",
   "execution_count": 4,
   "metadata": {
    "execution": {
     "iopub.execute_input": "2020-11-26T17:04:28.266515Z",
     "iopub.status.busy": "2020-11-26T17:04:28.265933Z",
     "iopub.status.idle": "2020-11-26T17:04:28.269310Z",
     "shell.execute_reply": "2020-11-26T17:04:28.268467Z"
    }
   },
   "outputs": [],
   "source": [
    "def insert_data(paramtype, npoints, nreps=1):\n",
    "\n",
    "    meas = Measurement(exp=exp)\n",
    "\n",
    "    x1 = ManualParameter('x1')\n",
    "    x2 = ManualParameter('x2')\n",
    "    x3 = ManualParameter('x3')\n",
    "    y1 = ManualParameter('y1')\n",
    "    y2 = ManualParameter('y2')\n",
    "\n",
    "    meas.register_parameter(x1, paramtype=paramtype)\n",
    "    meas.register_parameter(x2, paramtype=paramtype)\n",
    "    meas.register_parameter(x3, paramtype=paramtype)\n",
    "    meas.register_parameter(y1, setpoints=[x1, x2, x3],\n",
    "                            paramtype=paramtype)\n",
    "    meas.register_parameter(y2, setpoints=[x1, x2, x3],\n",
    "                            paramtype=paramtype)\n",
    "    start = time.perf_counter()\n",
    "    with meas.run() as datasaver:\n",
    "        start_adding = time.perf_counter()\n",
    "        for i in range(nreps):\n",
    "            datasaver.add_result((x1, np.random.rand(npoints)),\n",
    "                                 (x2, np.random.rand(npoints)),\n",
    "                                 (x3, np.random.rand(npoints)),\n",
    "                                 (y1, np.random.rand(npoints)),\n",
    "                                 (y2, np.random.rand(npoints)))\n",
    "        stop_adding = time.perf_counter()\n",
    "        run_id = datasaver.run_id\n",
    "    stop = time.perf_counter()\n",
    "    tot_time = stop - start\n",
    "    add_time = stop_adding - start_adding\n",
    "    return tot_time, add_time, run_id"
   ]
  },
  {
   "cell_type": "markdown",
   "metadata": {},
   "source": [
    "## Comparison between numeric/array data and binary blob"
   ]
  },
  {
   "cell_type": "markdown",
   "metadata": {},
   "source": [
    "### Case1: Short experiment time"
   ]
  },
  {
   "cell_type": "code",
   "execution_count": 5,
   "metadata": {
    "execution": {
     "iopub.execute_input": "2020-11-26T17:04:28.276374Z",
     "iopub.status.busy": "2020-11-26T17:04:28.275425Z",
     "iopub.status.idle": "2020-11-26T17:04:29.142038Z",
     "shell.execute_reply": "2020-11-26T17:04:29.140351Z"
    }
   },
   "outputs": [
    {
     "name": "stdout",
     "output_type": "stream",
     "text": [
      "Starting experimental run with id: 1. \n",
      "Starting experimental run with id: 2. \n",
      "Starting experimental run with id: 3. \n",
      "Starting experimental run with id: 4. \n",
      "Starting experimental run with id: 5. \n"
     ]
    },
    {
     "name": "stdout",
     "output_type": "stream",
     "text": [
      "Starting experimental run with id: 6. \n"
     ]
    },
    {
     "name": "stdout",
     "output_type": "stream",
     "text": [
      "Starting experimental run with id: 7. \n"
     ]
    },
    {
     "name": "stdout",
     "output_type": "stream",
     "text": [
      "Starting experimental run with id: 8. \n",
      "Starting experimental run with id: 9. \n"
     ]
    },
    {
     "name": "stdout",
     "output_type": "stream",
     "text": [
      "Starting experimental run with id: 10. \n",
      "Starting experimental run with id: 11. \n"
     ]
    },
    {
     "name": "stdout",
     "output_type": "stream",
     "text": [
      "Starting experimental run with id: 12. \n",
      "Starting experimental run with id: 13. \n"
     ]
    },
    {
     "name": "stdout",
     "output_type": "stream",
     "text": [
      "Starting experimental run with id: 14. \n"
     ]
    }
   ],
   "source": [
    "sizes = [1,500,1000,2000,3000,4000,5000]\n",
    "t_numeric = []\n",
    "t_numeric_add = []\n",
    "t_array = []\n",
    "t_array_add = []\n",
    "for size in sizes:\n",
    "    tn, tna, run_id_n =  insert_data('numeric', size)\n",
    "    t_numeric.append(tn)\n",
    "    t_numeric_add.append(tna)\n",
    "\n",
    "    ta, taa, run_id_a =  insert_data('array', size)\n",
    "    t_array.append(ta)\n",
    "    t_array_add.append(taa)"
   ]
  },
  {
   "cell_type": "code",
   "execution_count": 6,
   "metadata": {
    "execution": {
     "iopub.execute_input": "2020-11-26T17:04:29.159054Z",
     "iopub.status.busy": "2020-11-26T17:04:29.158498Z",
     "iopub.status.idle": "2020-11-26T17:04:29.334976Z",
     "shell.execute_reply": "2020-11-26T17:04:29.335539Z"
    }
   },
   "outputs": [
    {
     "data": {
      "image/png": "[encoded data removed]",
      "text/plain": [
       "<Figure size 432x288 with 1 Axes>"
      ]
     },
     "metadata": {
      "needs_background": "light"
     },
     "output_type": "display_data"
    }
   ],
   "source": [
    "fig, ax = plt.subplots(1,1)\n",
    "ax.plot(sizes, t_numeric, 'o-', label='Inserting row-by-row')\n",
    "ax.plot(sizes, t_numeric_add, 'o-', label='Inserting row-by-row: add_result only')\n",
    "ax.plot(sizes, t_array, 'd-', label='Inserting as binary blob')\n",
    "ax.plot(sizes, t_array_add, 'd-', label='Inserting as binary blob: add_result only')\n",
    "ax.legend()\n",
    "ax.set_xlabel('Array length')\n",
    "ax.set_ylabel('Time (s)')\n",
    "fig.tight_layout()"
   ]
  },
  {
   "cell_type": "markdown",
   "metadata": {},
   "source": [
    "As shown in the latter figure, the time to setup and and close the experiment is approximately 0.4 sec. In case of small array sizes, the difference between inserting values of data as arrays and inserting them row-by-row is relatively unimportant. At larger array sizes, i.e. above 10000 points, the cost of writing data as individual datapoints starts to become important.\n"
   ]
  },
  {
   "cell_type": "markdown",
   "metadata": {},
   "source": [
    "### Case2: Long experiment time "
   ]
  },
  {
   "cell_type": "code",
   "execution_count": 7,
   "metadata": {
    "execution": {
     "iopub.execute_input": "2020-11-26T17:04:29.338322Z",
     "iopub.status.busy": "2020-11-26T17:04:29.337794Z",
     "iopub.status.idle": "2020-11-26T17:05:28.504051Z",
     "shell.execute_reply": "2020-11-26T17:05:28.503511Z"
    }
   },
   "outputs": [
    {
     "name": "stdout",
     "output_type": "stream",
     "text": [
      "Starting experimental run with id: 15. \n",
      "Starting experimental run with id: 16. \n",
      "Starting experimental run with id: 17. \n"
     ]
    },
    {
     "name": "stdout",
     "output_type": "stream",
     "text": [
      "Starting experimental run with id: 18. \n",
      "Starting experimental run with id: 19. \n"
     ]
    },
    {
     "name": "stdout",
     "output_type": "stream",
     "text": [
      "Starting experimental run with id: 20. \n"
     ]
    },
    {
     "name": "stdout",
     "output_type": "stream",
     "text": [
      "Starting experimental run with id: 21. \n"
     ]
    },
    {
     "name": "stdout",
     "output_type": "stream",
     "text": [
      "Starting experimental run with id: 22. \n"
     ]
    },
    {
     "name": "stdout",
     "output_type": "stream",
     "text": [
      "Starting experimental run with id: 23. \n"
     ]
    },
    {
     "name": "stdout",
     "output_type": "stream",
     "text": [
      "Starting experimental run with id: 24. \n"
     ]
    },
    {
     "name": "stdout",
     "output_type": "stream",
     "text": [
      "Starting experimental run with id: 25. \n"
     ]
    },
    {
     "name": "stdout",
     "output_type": "stream",
     "text": [
      "Starting experimental run with id: 26. \n"
     ]
    },
    {
     "name": "stdout",
     "output_type": "stream",
     "text": [
      "Starting experimental run with id: 27. \n"
     ]
    },
    {
     "name": "stdout",
     "output_type": "stream",
     "text": [
      "Starting experimental run with id: 28. \n"
     ]
    }
   ],
   "source": [
    "sizes = [1,500,1000,2000,3000,4000,5000]\n",
    "nreps = 100\n",
    "t_numeric = []\n",
    "t_numeric_add = []\n",
    "t_numeric_run_ids = []\n",
    "t_array = []\n",
    "t_array_add = []\n",
    "t_array_run_ids = []\n",
    "for size in sizes:\n",
    "    tn, tna, run_id_n =  insert_data('numeric', size, nreps=nreps)\n",
    "    t_numeric.append(tn)\n",
    "    t_numeric_add.append(tna)\n",
    "    t_numeric_run_ids.append(run_id_n)\n",
    "\n",
    "    ta, taa, run_id_a =  insert_data('array', size, nreps=nreps)\n",
    "    t_array.append(ta)\n",
    "    t_array_add.append(taa)\n",
    "    t_array_run_ids.append(run_id_a)"
   ]
  },
  {
   "cell_type": "code",
   "execution_count": 8,
   "metadata": {
    "execution": {
     "iopub.execute_input": "2020-11-26T17:05:28.531621Z",
     "iopub.status.busy": "2020-11-26T17:05:28.509563Z",
     "iopub.status.idle": "2020-11-26T17:05:28.692709Z",
     "shell.execute_reply": "2020-11-26T17:05:28.693251Z"
    },
    "scrolled": true
   },
   "outputs": [
    {
     "data": {
      "image/png": "[encoded data removed]",
      "text/plain": [
       "<Figure size 432x288 with 1 Axes>"
      ]
     },
     "metadata": {
      "needs_background": "light"
     },
     "output_type": "display_data"
    }
   ],
   "source": [
    "fig, ax = plt.subplots(1,1)\n",
    "ax.plot(sizes, t_numeric, 'o-', label='Inserting row-by-row')\n",
    "ax.plot(sizes, t_numeric_add, 'o-', label='Inserting row-by-row: add_result only')\n",
    "ax.plot(sizes, t_array, 'd-', label='Inserting as binary blob')\n",
    "ax.plot(sizes, t_array_add, 'd-', label='Inserting as binary blob: add_result only')\n",
    "ax.legend()\n",
    "ax.set_xlabel('Array length')\n",
    "ax.set_ylabel('Time (s)')\n",
    "fig.tight_layout()"
   ]
  },
  {
   "cell_type": "markdown",
   "metadata": {},
   "source": [
    "However, as we increase the length of the experiment, as seen here by repeating the insertion 100 times, we see a big difference between inserting values of the data row-by-row and inserting it as a binary blob."
   ]
  },
  {
   "cell_type": "markdown",
   "metadata": {},
   "source": [
    "## Loading the data "
   ]
  },
  {
   "cell_type": "code",
   "execution_count": 9,
   "metadata": {
    "execution": {
     "iopub.execute_input": "2020-11-26T17:05:28.696734Z",
     "iopub.status.busy": "2020-11-26T17:05:28.696280Z",
     "iopub.status.idle": "2020-11-26T17:05:28.698514Z",
     "shell.execute_reply": "2020-11-26T17:05:28.699057Z"
    }
   },
   "outputs": [],
   "source": [
    "from qcodes.dataset.data_set import load_by_id\n",
    "from qcodes.dataset.data_export import get_data_by_id"
   ]
  },
  {
   "cell_type": "markdown",
   "metadata": {},
   "source": [
    "As usual you can load the data by using the ``load_by_id`` function but you will notice that the different storage methods\n",
    "are reflected in shape of the data as it is retrieved. "
   ]
  },
  {
   "cell_type": "code",
   "execution_count": 10,
   "metadata": {
    "execution": {
     "iopub.execute_input": "2020-11-26T17:05:28.701560Z",
     "iopub.status.busy": "2020-11-26T17:05:28.700994Z",
     "iopub.status.idle": "2020-11-26T17:05:28.703724Z",
     "shell.execute_reply": "2020-11-26T17:05:28.704267Z"
    }
   },
   "outputs": [],
   "source": [
    "run_id_n = t_numeric_run_ids[0]\n",
    "run_id_a = t_array_run_ids[0]"
   ]
  },
  {
   "cell_type": "code",
   "execution_count": 11,
   "metadata": {
    "execution": {
     "iopub.execute_input": "2020-11-26T17:05:28.707607Z",
     "iopub.status.busy": "2020-11-26T17:05:28.706997Z",
     "iopub.status.idle": "2020-11-26T17:05:28.716130Z",
     "shell.execute_reply": "2020-11-26T17:05:28.715728Z"
    },
    "scrolled": true
   },
   "outputs": [
    {
     "data": {
      "text/plain": [
       "{'x1': {'x1': array([0.00165603, 0.00165603, 0.46034089, 0.46034089, 0.23541081,\n",
       "         0.23541081, 0.92441268, 0.92441268, 0.60923583, 0.60923583,\n",
       "         0.26247473, 0.26247473, 0.22180234, 0.22180234, 0.89674555,\n",
       "         0.89674555, 0.3989363 , 0.3989363 , 0.78005864, 0.78005864,\n",
       "         0.58904146, 0.58904146, 0.59623326, 0.59623326, 0.90278867,\n",
       "         0.90278867, 0.68957272, 0.68957272, 0.37937928, 0.37937928,\n",
       "         0.22092711, 0.22092711, 0.64335598, 0.64335598, 0.19914509,\n",
       "         0.19914509, 0.70200298, 0.70200298, 0.2531813 , 0.2531813 ,\n",
       "         0.32835942, 0.32835942, 0.57896694, 0.57896694, 0.76901994,\n",
       "         0.76901994, 0.53697727, 0.53697727, 0.83961268, 0.83961268,\n",
       "         0.84754175, 0.84754175, 0.3316074 , 0.3316074 , 0.90657832,\n",
       "         0.90657832, 0.48435991, 0.48435991, 0.31654909, 0.31654909,\n",
       "         0.06965613, 0.06965613, 0.41528601, 0.41528601, 0.15407558,\n",
       "         0.15407558, 0.30408473, 0.30408473, 0.46368559, 0.46368559,\n",
       "         0.55305052, 0.55305052, 0.1339559 , 0.1339559 , 0.83218559,\n",
       "         0.83218559, 0.78127083, 0.78127083, 0.54788454, 0.54788454,\n",
       "         0.96913671, 0.96913671, 0.19448433, 0.19448433, 0.85924119,\n",
       "         0.85924119, 0.05404962, 0.05404962, 0.12395294, 0.12395294,\n",
       "         0.19899639, 0.19899639, 0.96304464, 0.96304464, 0.42481764,\n",
       "         0.42481764, 0.33805418, 0.33805418, 0.39068738, 0.39068738,\n",
       "         0.89391191, 0.89391191, 0.79778295, 0.79778295, 0.42516451,\n",
       "         0.42516451, 0.15076719, 0.15076719, 0.81013346, 0.81013346,\n",
       "         0.2599022 , 0.2599022 , 0.47728687, 0.47728687, 0.57473875,\n",
       "         0.57473875, 0.69678416, 0.69678416, 0.11708076, 0.11708076,\n",
       "         0.53262005, 0.53262005, 0.7627564 , 0.7627564 , 0.73181059,\n",
       "         0.73181059, 0.6061247 , 0.6061247 , 0.63329973, 0.63329973,\n",
       "         0.46949087, 0.46949087, 0.39885645, 0.39885645, 0.94351793,\n",
       "         0.94351793, 0.22127939, 0.22127939, 0.88138702, 0.88138702,\n",
       "         0.10331611, 0.10331611, 0.3952342 , 0.3952342 , 0.86277251,\n",
       "         0.86277251, 0.88126622, 0.88126622, 0.87789076, 0.87789076,\n",
       "         0.62133294, 0.62133294, 0.39301475, 0.39301475, 0.76720305,\n",
       "         0.76720305, 0.9180003 , 0.9180003 , 0.06609125, 0.06609125,\n",
       "         0.56561172, 0.56561172, 0.43181594, 0.43181594, 0.98266166,\n",
       "         0.98266166, 0.11804838, 0.11804838, 0.60325145, 0.60325145,\n",
       "         0.520047  , 0.520047  , 0.44611416, 0.44611416, 0.37344273,\n",
       "         0.37344273, 0.94542239, 0.94542239, 0.34769097, 0.34769097,\n",
       "         0.9771378 , 0.9771378 , 0.58890513, 0.58890513, 0.60633138,\n",
       "         0.60633138, 0.50604742, 0.50604742, 0.77501719, 0.77501719,\n",
       "         0.52442355, 0.52442355, 0.38938588, 0.38938588, 0.09093123,\n",
       "         0.09093123, 0.44736381, 0.44736381, 0.54926133, 0.54926133])}}"
      ]
     },
     "execution_count": 1,
     "metadata": {},
     "output_type": "execute_result"
    }
   ],
   "source": [
    "ds = load_by_id(run_id_n)\n",
    "ds.get_parameter_data('x1')"
   ]
  },
  {
   "cell_type": "markdown",
   "metadata": {},
   "source": [
    "And a dataset stored as binary arrays"
   ]
  },
  {
   "cell_type": "code",
   "execution_count": 12,
   "metadata": {
    "execution": {
     "iopub.execute_input": "2020-11-26T17:05:28.718970Z",
     "iopub.status.busy": "2020-11-26T17:05:28.718540Z",
     "iopub.status.idle": "2020-11-26T17:05:28.769698Z",
     "shell.execute_reply": "2020-11-26T17:05:28.770658Z"
    },
    "scrolled": true
   },
   "outputs": [
    {
     "data": {
      "text/plain": [
       "{'x1': {'x1': array([[0.01293834],\n",
       "         [0.01293834],\n",
       "         [0.47217216],\n",
       "         [0.47217216],\n",
       "         [0.95057502],\n",
       "         [0.95057502],\n",
       "         [0.70956227],\n",
       "         [0.70956227],\n",
       "         [0.22730261],\n",
       "         [0.22730261],\n",
       "         [0.32739417],\n",
       "         [0.32739417],\n",
       "         [0.52455589],\n",
       "         [0.52455589],\n",
       "         [0.29932722],\n",
       "         [0.29932722],\n",
       "         [0.48626872],\n",
       "         [0.48626872],\n",
       "         [0.46648662],\n",
       "         [0.46648662],\n",
       "         [0.40213375],\n",
       "         [0.40213375],\n",
       "         [0.63184746],\n",
       "         [0.63184746],\n",
       "         [0.69425629],\n",
       "         [0.69425629],\n",
       "         [0.31503931],\n",
       "         [0.31503931],\n",
       "         [0.3904447 ],\n",
       "         [0.3904447 ],\n",
       "         [0.62214868],\n",
       "         [0.62214868],\n",
       "         [0.92000308],\n",
       "         [0.92000308],\n",
       "         [0.8664346 ],\n",
       "         [0.8664346 ],\n",
       "         [0.99136229],\n",
       "         [0.99136229],\n",
       "         [0.65722797],\n",
       "         [0.65722797],\n",
       "         [0.61673098],\n",
       "         [0.61673098],\n",
       "         [0.16799859],\n",
       "         [0.16799859],\n",
       "         [0.87510561],\n",
       "         [0.87510561],\n",
       "         [0.99281678],\n",
       "         [0.99281678],\n",
       "         [0.8955894 ],\n",
       "         [0.8955894 ],\n",
       "         [0.08069407],\n",
       "         [0.08069407],\n",
       "         [0.19621667],\n",
       "         [0.19621667],\n",
       "         [0.44752398],\n",
       "         [0.44752398],\n",
       "         [0.81829993],\n",
       "         [0.81829993],\n",
       "         [0.72129783],\n",
       "         [0.72129783],\n",
       "         [0.18081142],\n",
       "         [0.18081142],\n",
       "         [0.25726479],\n",
       "         [0.25726479],\n",
       "         [0.29594625],\n",
       "         [0.29594625],\n",
       "         [0.40170927],\n",
       "         [0.40170927],\n",
       "         [0.66011633],\n",
       "         [0.66011633],\n",
       "         [0.95448833],\n",
       "         [0.95448833],\n",
       "         [0.25277918],\n",
       "         [0.25277918],\n",
       "         [0.36234303],\n",
       "         [0.36234303],\n",
       "         [0.35227732],\n",
       "         [0.35227732],\n",
       "         [0.15314645],\n",
       "         [0.15314645],\n",
       "         [0.28938028],\n",
       "         [0.28938028],\n",
       "         [0.96281047],\n",
       "         [0.96281047],\n",
       "         [0.76124831],\n",
       "         [0.76124831],\n",
       "         [0.70720959],\n",
       "         [0.70720959],\n",
       "         [0.6494362 ],\n",
       "         [0.6494362 ],\n",
       "         [0.32924447],\n",
       "         [0.32924447],\n",
       "         [0.97330747],\n",
       "         [0.97330747],\n",
       "         [0.17997855],\n",
       "         [0.17997855],\n",
       "         [0.53883274],\n",
       "         [0.53883274],\n",
       "         [0.11255699],\n",
       "         [0.11255699],\n",
       "         [0.51902493],\n",
       "         [0.51902493],\n",
       "         [0.34812976],\n",
       "         [0.34812976],\n",
       "         [0.96836071],\n",
       "         [0.96836071],\n",
       "         [0.32905476],\n",
       "         [0.32905476],\n",
       "         [0.4794043 ],\n",
       "         [0.4794043 ],\n",
       "         [0.83207227],\n",
       "         [0.83207227],\n",
       "         [0.30640061],\n",
       "         [0.30640061],\n",
       "         [0.85568435],\n",
       "         [0.85568435],\n",
       "         [0.67376242],\n",
       "         [0.67376242],\n",
       "         [0.30304463],\n",
       "         [0.30304463],\n",
       "         [0.12457011],\n",
       "         [0.12457011],\n",
       "         [0.59633598],\n",
       "         [0.59633598],\n",
       "         [0.04432395],\n",
       "         [0.04432395],\n",
       "         [0.99358012],\n",
       "         [0.99358012],\n",
       "         [0.89537946],\n",
       "         [0.89537946],\n",
       "         [0.42953012],\n",
       "         [0.42953012],\n",
       "         [0.48591023],\n",
       "         [0.48591023],\n",
       "         [0.32318883],\n",
       "         [0.32318883],\n",
       "         [0.26436446],\n",
       "         [0.26436446],\n",
       "         [0.95056247],\n",
       "         [0.95056247],\n",
       "         [0.62450259],\n",
       "         [0.62450259],\n",
       "         [0.80929642],\n",
       "         [0.80929642],\n",
       "         [0.42075922],\n",
       "         [0.42075922],\n",
       "         [0.20069433],\n",
       "         [0.20069433],\n",
       "         [0.91724555],\n",
       "         [0.91724555],\n",
       "         [0.2470706 ],\n",
       "         [0.2470706 ],\n",
       "         [0.54363936],\n",
       "         [0.54363936],\n",
       "         [0.94140891],\n",
       "         [0.94140891],\n",
       "         [0.1458145 ],\n",
       "         [0.1458145 ],\n",
       "         [0.88096052],\n",
       "         [0.88096052],\n",
       "         [0.85457204],\n",
       "         [0.85457204],\n",
       "         [0.90685412],\n",
       "         [0.90685412],\n",
       "         [0.32465622],\n",
       "         [0.32465622],\n",
       "         [0.16970299],\n",
       "         [0.16970299],\n",
       "         [0.536273  ],\n",
       "         [0.536273  ],\n",
       "         [0.288587  ],\n",
       "         [0.288587  ],\n",
       "         [0.09994902],\n",
       "         [0.09994902],\n",
       "         [0.81926063],\n",
       "         [0.81926063],\n",
       "         [0.26274377],\n",
       "         [0.26274377],\n",
       "         [0.51635558],\n",
       "         [0.51635558],\n",
       "         [0.78557905],\n",
       "         [0.78557905],\n",
       "         [0.58781605],\n",
       "         [0.58781605],\n",
       "         [0.20998365],\n",
       "         [0.20998365],\n",
       "         [0.90397517],\n",
       "         [0.90397517],\n",
       "         [0.58463108],\n",
       "         [0.58463108],\n",
       "         [0.17755216],\n",
       "         [0.17755216],\n",
       "         [0.74815345],\n",
       "         [0.74815345],\n",
       "         [0.10979751],\n",
       "         [0.10979751],\n",
       "         [0.83205896],\n",
       "         [0.83205896],\n",
       "         [0.0219049 ],\n",
       "         [0.0219049 ]])}}"
      ]
     },
     "execution_count": 1,
     "metadata": {},
     "output_type": "execute_result"
    }
   ],
   "source": [
    "ds = load_by_id(run_id_a)\n",
    "ds.get_parameter_data('x1')"
   ]
  },
  {
   "cell_type": "code",
   "execution_count": null,
   "metadata": {},
   "outputs": [],
   "source": []
  }
 ],
 "metadata": {
  "kernelspec": {
   "display_name": "Python 3",
   "language": "python",
   "name": "python3"
  },
  "language_info": {
   "codemirror_mode": {
    "name": "ipython",
    "version": 3
   },
   "file_extension": ".py",
   "mimetype": "text/x-python",
   "name": "python",
   "nbconvert_exporter": "python",
   "pygments_lexer": "ipython3",
   "version": "3.7.9"
  },
  "nbsphinx": {
   "timeout": 600
  },
  "toc": {
   "base_numbering": 1,
   "nav_menu": {},
   "number_sections": true,
   "sideBar": true,
   "skip_h1_title": false,
   "title_cell": "Table of Contents",
   "title_sidebar": "Contents",
   "toc_cell": false,
   "toc_position": {},
   "toc_section_display": true,
   "toc_window_display": false
  },
  "varInspector": {
   "cols": {
    "lenName": 16,
    "lenType": 16,
    "lenVar": 40
   },
   "kernels_config": {
    "python": {
     "delete_cmd_postfix": "",
     "delete_cmd_prefix": "del ",
     "library": "var_list.py",
     "varRefreshCmd": "print(var_dic_list())"
    },
    "r": {
     "delete_cmd_postfix": ") ",
     "delete_cmd_prefix": "rm(",
     "library": "var_list.r",
     "varRefreshCmd": "cat(var_dic_list()) "
    }
   },
   "types_to_exclude": [
    "module",
    "function",
    "builtin_function_or_method",
    "instance",
    "_Feature"
   ],
   "window_display": false
  }
 },
 "nbformat": 4,
 "nbformat_minor": 2
}
