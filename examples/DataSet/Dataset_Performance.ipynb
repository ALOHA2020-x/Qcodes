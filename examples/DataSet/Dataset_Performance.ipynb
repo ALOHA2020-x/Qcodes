{
 "cells": [
  {
   "cell_type": "markdown",
   "metadata": {},
   "source": [
    "# DataSet Performance\n",
    "\n",
    "This notebook shows the trade-off between inserting data into a database row-by-row and as binary blobs. Inserting the data row-by-row means that we have direct access to all the data and may perform queries directly on the values of the data. On the other hand, as we shall see, this is much slower than inserting the data directly as binary blobs."
   ]
  },
  {
   "cell_type": "markdown",
   "metadata": {},
   "source": [
    "First, we choose a new location for the database to ensure that we don't add a bunch of benchmarking data to the default one."
   ]
  },
  {
   "cell_type": "code",
   "execution_count": 1,
   "metadata": {},
   "outputs": [
    {
     "name": "stdout",
     "output_type": "stream",
     "text": [
      "Logging hadn't been started.\n",
      "Activating auto-logging. Current session state plus future input saved.\n",
      "Filename       : /home/vsts/.qcodes/logs/command_history.log\n",
      "Mode           : append\n",
      "Output logging : True\n",
      "Raw input log  : False\n",
      "Timestamping   : True\n",
      "State          : active\n"
     ]
    },
    {
     "name": "stdout",
     "output_type": "stream",
     "text": [
      "Qcodes Logfile : /home/vsts/.qcodes/logs/200211-18369-qcodes.log\n"
     ]
    }
   ],
   "source": [
    "import os\n",
    "cwd = os.getcwd()\n",
    "import qcodes as qc\n",
    "qc.config[\"core\"][\"db_location\"] = os.path.join(cwd, 'testing.db')\n"
   ]
  },
  {
   "cell_type": "code",
   "execution_count": 2,
   "metadata": {},
   "outputs": [],
   "source": [
    "%matplotlib inline\n",
    "import time\n",
    "import matplotlib.pyplot as plt\n",
    "import numpy as np\n",
    "\n",
    "import qcodes as qc\n",
    "from qcodes.instrument.parameter import ManualParameter\n",
    "from qcodes.dataset.experiment_container import (Experiment,\n",
    "                                                 load_last_experiment,\n",
    "                                                 new_experiment)\n",
    "from qcodes.dataset.sqlite.database import initialise_database\n",
    "from qcodes import load_or_create_experiment\n",
    "from qcodes.dataset.measurements import Measurement"
   ]
  },
  {
   "cell_type": "code",
   "execution_count": 3,
   "metadata": {},
   "outputs": [
    {
     "name": "stdout",
     "output_type": "stream",
     "text": [
      "\r",
      "0it [00:00, ?it/s]"
     ]
    },
    {
     "name": "stdout",
     "output_type": "stream",
     "text": [
      "\r",
      "Upgrading database; v0 -> v1: : 0it [00:00, ?it/s]"
     ]
    },
    {
     "name": "stdout",
     "output_type": "stream",
     "text": [
      "\r",
      "Upgrading database; v0 -> v1: : 0it [00:00, ?it/s]"
     ]
    },
    {
     "name": "stdout",
     "output_type": "stream",
     "text": [
      "\n",
      "\r",
      "  0%|          | 0/1 [00:00<?, ?it/s]"
     ]
    },
    {
     "name": "stdout",
     "output_type": "stream",
     "text": [
      "\r",
      "Upgrading database; v1 -> v2:   0%|          | 0/1 [00:00<?, ?it/s]"
     ]
    },
    {
     "name": "stdout",
     "output_type": "stream",
     "text": [
      "\r",
      "Upgrading database; v1 -> v2: 100%|██████████| 1/1 [00:00<00:00, 979.52it/s]"
     ]
    },
    {
     "name": "stdout",
     "output_type": "stream",
     "text": [
      "\n",
      "\r",
      "0it [00:00, ?it/s]"
     ]
    },
    {
     "name": "stdout",
     "output_type": "stream",
     "text": [
      "\r",
      "Upgrading database; v2 -> v3: : 0it [00:00, ?it/s]"
     ]
    },
    {
     "name": "stdout",
     "output_type": "stream",
     "text": [
      "\r",
      "Upgrading database; v2 -> v3: : 0it [00:00, ?it/s]"
     ]
    },
    {
     "name": "stdout",
     "output_type": "stream",
     "text": [
      "\n",
      "\r",
      "0it [00:00, ?it/s]"
     ]
    },
    {
     "name": "stdout",
     "output_type": "stream",
     "text": [
      "\r",
      "Upgrading database; v3 -> v4: : 0it [00:00, ?it/s]"
     ]
    },
    {
     "name": "stdout",
     "output_type": "stream",
     "text": [
      "\r",
      "Upgrading database; v3 -> v4: : 0it [00:00, ?it/s]"
     ]
    },
    {
     "name": "stdout",
     "output_type": "stream",
     "text": [
      "\n",
      "\r",
      "  0%|          | 0/1 [00:00<?, ?it/s]"
     ]
    },
    {
     "name": "stdout",
     "output_type": "stream",
     "text": [
      "\r",
      "Upgrading database; v4 -> v5:   0%|          | 0/1 [00:00<?, ?it/s]"
     ]
    },
    {
     "name": "stdout",
     "output_type": "stream",
     "text": [
      "\r",
      "Upgrading database; v4 -> v5: 100%|██████████| 1/1 [00:00<00:00, 827.44it/s]"
     ]
    },
    {
     "name": "stdout",
     "output_type": "stream",
     "text": [
      "\n",
      "\r",
      "0it [00:00, ?it/s]"
     ]
    },
    {
     "name": "stdout",
     "output_type": "stream",
     "text": [
      "\r",
      "Upgrading database; v5 -> v6: : 0it [00:00, ?it/s]"
     ]
    },
    {
     "name": "stdout",
     "output_type": "stream",
     "text": [
      "\r",
      "Upgrading database; v5 -> v6: : 0it [00:00, ?it/s]"
     ]
    },
    {
     "name": "stdout",
     "output_type": "stream",
     "text": [
      "\n",
      "\r",
      "  0%|          | 0/1 [00:00<?, ?it/s]"
     ]
    },
    {
     "name": "stdout",
     "output_type": "stream",
     "text": [
      "\r",
      "Upgrading database; v6 -> v7:   0%|          | 0/1 [00:00<?, ?it/s]"
     ]
    },
    {
     "name": "stdout",
     "output_type": "stream",
     "text": [
      "\r",
      "Upgrading database; v6 -> v7: 100%|██████████| 1/1 [00:00<00:00, 249.81it/s]"
     ]
    },
    {
     "name": "stdout",
     "output_type": "stream",
     "text": [
      "\n",
      "\r",
      "  0%|          | 0/1 [00:00<?, ?it/s]"
     ]
    },
    {
     "name": "stdout",
     "output_type": "stream",
     "text": [
      "\r",
      "Upgrading database; v7 -> v8:   0%|          | 0/1 [00:00<?, ?it/s]"
     ]
    },
    {
     "name": "stdout",
     "output_type": "stream",
     "text": [
      "\r",
      "Upgrading database; v7 -> v8: 100%|██████████| 1/1 [00:00<00:00, 683.11it/s]"
     ]
    },
    {
     "name": "stdout",
     "output_type": "stream",
     "text": [
      "\n"
     ]
    }
   ],
   "source": [
    "initialise_database()\n",
    "exp = load_or_create_experiment(experiment_name='tutorial_exp', sample_name=\"no sample\")"
   ]
  },
  {
   "cell_type": "markdown",
   "metadata": {},
   "source": [
    "Here, we define a simple function to benchmark the time it takes to insert n points with either numeric or array data type.\n",
    "We will compare both the time used to call ``add_result`` and the time used for the full measurement."
   ]
  },
  {
   "cell_type": "code",
   "execution_count": 4,
   "metadata": {},
   "outputs": [],
   "source": [
    "def insert_data(paramtype, npoints, nreps=1):\n",
    "\n",
    "    meas = Measurement(exp=exp)\n",
    "\n",
    "    x1 = ManualParameter('x1')\n",
    "    x2 = ManualParameter('x2')\n",
    "    x3 = ManualParameter('x3')\n",
    "    y1 = ManualParameter('y1')\n",
    "    y2 = ManualParameter('y2')\n",
    "\n",
    "    meas.register_parameter(x1, paramtype=paramtype)\n",
    "    meas.register_parameter(x2, paramtype=paramtype)\n",
    "    meas.register_parameter(x3, paramtype=paramtype)\n",
    "    meas.register_parameter(y1, setpoints=[x1, x2, x3],\n",
    "                            paramtype=paramtype)\n",
    "    meas.register_parameter(y2, setpoints=[x1, x2, x3],\n",
    "                            paramtype=paramtype)\n",
    "    start = time.perf_counter()\n",
    "    with meas.run() as datasaver:\n",
    "        start_adding = time.perf_counter()\n",
    "        for i in range(nreps):\n",
    "            datasaver.add_result((x1, np.random.rand(npoints)),\n",
    "                                 (x2, np.random.rand(npoints)),\n",
    "                                 (x3, np.random.rand(npoints)),\n",
    "                                 (y1, np.random.rand(npoints)),\n",
    "                                 (y2, np.random.rand(npoints)))\n",
    "        stop_adding = time.perf_counter()\n",
    "        run_id = datasaver.run_id\n",
    "    stop = time.perf_counter()\n",
    "    tot_time = stop - start\n",
    "    add_time = stop_adding - start_adding\n",
    "    return tot_time, add_time, run_id"
   ]
  },
  {
   "cell_type": "markdown",
   "metadata": {},
   "source": [
    "## Comparison between numeric/array data and binary blob"
   ]
  },
  {
   "cell_type": "markdown",
   "metadata": {},
   "source": [
    "### Case1: Short experiment time"
   ]
  },
  {
   "cell_type": "code",
   "execution_count": 5,
   "metadata": {},
   "outputs": [
    {
     "name": "stdout",
     "output_type": "stream",
     "text": [
      "Starting experimental run with id: 1. \n",
      "Starting experimental run with id: 2. \n"
     ]
    },
    {
     "name": "stdout",
     "output_type": "stream",
     "text": [
      "Starting experimental run with id: 3. \n"
     ]
    },
    {
     "name": "stdout",
     "output_type": "stream",
     "text": [
      "Starting experimental run with id: 4. \n"
     ]
    },
    {
     "name": "stdout",
     "output_type": "stream",
     "text": [
      "Starting experimental run with id: 5. \n"
     ]
    },
    {
     "name": "stdout",
     "output_type": "stream",
     "text": [
      "Starting experimental run with id: 6. \n",
      "Starting experimental run with id: 7. \n"
     ]
    },
    {
     "name": "stdout",
     "output_type": "stream",
     "text": [
      "Starting experimental run with id: 8. \n",
      "Starting experimental run with id: 9. \n"
     ]
    },
    {
     "name": "stdout",
     "output_type": "stream",
     "text": [
      "Starting experimental run with id: 10. \n",
      "Starting experimental run with id: 11. \n"
     ]
    },
    {
     "name": "stdout",
     "output_type": "stream",
     "text": [
      "Starting experimental run with id: 12. \n"
     ]
    },
    {
     "name": "stdout",
     "output_type": "stream",
     "text": [
      "Starting experimental run with id: 13. \n"
     ]
    },
    {
     "name": "stdout",
     "output_type": "stream",
     "text": [
      "Starting experimental run with id: 14. \n"
     ]
    }
   ],
   "source": [
    "sizes = [1,500,1000,2000,3000,4000,5000]\n",
    "t_numeric = []\n",
    "t_numeric_add = []\n",
    "t_array = []\n",
    "t_array_add = []\n",
    "for size in sizes:\n",
    "    tn, tna, run_id_n =  insert_data('numeric', size)\n",
    "    t_numeric.append(tn)\n",
    "    t_numeric_add.append(tna)\n",
    "\n",
    "    ta, taa, run_id_a =  insert_data('array', size)\n",
    "    t_array.append(ta)\n",
    "    t_array_add.append(taa)"
   ]
  },
  {
   "cell_type": "code",
   "execution_count": 6,
   "metadata": {},
   "outputs": [
    {
     "data": {
      "image/png": "[encoded data removed]",
      "text/plain": [
       "<Figure size 432x288 with 1 Axes>"
      ]
     },
     "metadata": {
      "needs_background": "light"
     },
     "output_type": "display_data"
    }
   ],
   "source": [
    "fig, ax = plt.subplots(1,1)\n",
    "ax.plot(sizes, t_numeric, 'o-', label='Inserting row-by-row')\n",
    "ax.plot(sizes, t_numeric_add, 'o-', label='Inserting row-by-row: add_result only')\n",
    "ax.plot(sizes, t_array, 'd-', label='Inserting as binary blob')\n",
    "ax.plot(sizes, t_array_add, 'd-', label='Inserting as binary blob: add_result only')\n",
    "ax.legend()\n",
    "ax.set_xlabel('Array length')\n",
    "ax.set_ylabel('Time (s)')\n",
    "fig.tight_layout()"
   ]
  },
  {
   "cell_type": "markdown",
   "metadata": {},
   "source": [
    "As shown in the latter figure, the time to setup and and close the experiment is approximately 0.4 sec. In case of small array sizes, the difference between inserting values of data as arrays and inserting them row-by-row is relatively unimportant. At larger array sizes, i.e. above 10000 points, the cost of writing data as individual datapoints starts to become important.\n"
   ]
  },
  {
   "cell_type": "markdown",
   "metadata": {},
   "source": [
    "### Case2: Long experiment time "
   ]
  },
  {
   "cell_type": "code",
   "execution_count": 7,
   "metadata": {},
   "outputs": [
    {
     "name": "stdout",
     "output_type": "stream",
     "text": [
      "Starting experimental run with id: 15. \n",
      "Starting experimental run with id: 16. \n",
      "Starting experimental run with id: 17. \n"
     ]
    },
    {
     "name": "stdout",
     "output_type": "stream",
     "text": [
      "Starting experimental run with id: 18. \n",
      "Starting experimental run with id: 19. \n"
     ]
    },
    {
     "name": "stdout",
     "output_type": "stream",
     "text": [
      "Starting experimental run with id: 20. \n"
     ]
    },
    {
     "name": "stdout",
     "output_type": "stream",
     "text": [
      "Starting experimental run with id: 21. \n"
     ]
    },
    {
     "name": "stdout",
     "output_type": "stream",
     "text": [
      "Starting experimental run with id: 22. \n"
     ]
    },
    {
     "name": "stdout",
     "output_type": "stream",
     "text": [
      "Starting experimental run with id: 23. \n"
     ]
    },
    {
     "name": "stdout",
     "output_type": "stream",
     "text": [
      "Starting experimental run with id: 24. \n"
     ]
    },
    {
     "name": "stdout",
     "output_type": "stream",
     "text": [
      "Starting experimental run with id: 25. \n"
     ]
    },
    {
     "name": "stdout",
     "output_type": "stream",
     "text": [
      "Starting experimental run with id: 26. \n"
     ]
    },
    {
     "name": "stdout",
     "output_type": "stream",
     "text": [
      "Starting experimental run with id: 27. \n"
     ]
    },
    {
     "name": "stdout",
     "output_type": "stream",
     "text": [
      "Starting experimental run with id: 28. \n"
     ]
    }
   ],
   "source": [
    "sizes = [1,500,1000,2000,3000,4000,5000]\n",
    "nreps = 100\n",
    "t_numeric = []\n",
    "t_numeric_add = []\n",
    "t_numeric_run_ids = []\n",
    "t_array = []\n",
    "t_array_add = []\n",
    "t_array_run_ids = []\n",
    "for size in sizes:\n",
    "    tn, tna, run_id_n =  insert_data('numeric', size, nreps=nreps)\n",
    "    t_numeric.append(tn)\n",
    "    t_numeric_add.append(tna)\n",
    "    t_numeric_run_ids.append(run_id_n)\n",
    "\n",
    "    ta, taa, run_id_a =  insert_data('array', size, nreps=nreps)\n",
    "    t_array.append(ta)\n",
    "    t_array_add.append(taa)\n",
    "    t_array_run_ids.append(run_id_a)"
   ]
  },
  {
   "cell_type": "code",
   "execution_count": 8,
   "metadata": {
    "scrolled": true
   },
   "outputs": [
    {
     "data": {
      "image/png": "[encoded data removed]",
      "text/plain": [
       "<Figure size 432x288 with 1 Axes>"
      ]
     },
     "metadata": {
      "needs_background": "light"
     },
     "output_type": "display_data"
    }
   ],
   "source": [
    "fig, ax = plt.subplots(1,1)\n",
    "ax.plot(sizes, t_numeric, 'o-', label='Inserting row-by-row')\n",
    "ax.plot(sizes, t_numeric_add, 'o-', label='Inserting row-by-row: add_result only')\n",
    "ax.plot(sizes, t_array, 'd-', label='Inserting as binary blob')\n",
    "ax.plot(sizes, t_array_add, 'd-', label='Inserting as binary blob: add_result only')\n",
    "ax.legend()\n",
    "ax.set_xlabel('Array length')\n",
    "ax.set_ylabel('Time (s)')\n",
    "fig.tight_layout()"
   ]
  },
  {
   "cell_type": "markdown",
   "metadata": {},
   "source": [
    "However, as we increase the length of the experiment, as seen here by repeating the insertion 100 times, we see a big difference between inserting values of the data row-by-row and inserting it as a binary blob."
   ]
  },
  {
   "cell_type": "markdown",
   "metadata": {},
   "source": [
    "## Loading the data "
   ]
  },
  {
   "cell_type": "code",
   "execution_count": 9,
   "metadata": {},
   "outputs": [],
   "source": [
    "from qcodes.dataset.data_set import load_by_id\n",
    "from qcodes.dataset.data_export import get_data_by_id"
   ]
  },
  {
   "cell_type": "markdown",
   "metadata": {},
   "source": [
    "As usual you can load the data by using the ``load_by_id`` function but you will notice that the different storage methods\n",
    "are reflected in shape of the data as it is retrieved. "
   ]
  },
  {
   "cell_type": "code",
   "execution_count": 10,
   "metadata": {},
   "outputs": [],
   "source": [
    "run_id_n = t_numeric_run_ids[0]\n",
    "run_id_a = t_array_run_ids[0]"
   ]
  },
  {
   "cell_type": "code",
   "execution_count": 11,
   "metadata": {
    "scrolled": true
   },
   "outputs": [
    {
     "data": {
      "text/plain": [
       "{'x1': {'x1': array([0.1951264 , 0.1951264 , 0.76472744, 0.76472744, 0.82654737,\n",
       "         0.82654737, 0.36388055, 0.36388055, 0.61444265, 0.61444265,\n",
       "         0.83159948, 0.83159948, 0.37600722, 0.37600722, 0.07561091,\n",
       "         0.07561091, 0.53932958, 0.53932958, 0.75362467, 0.75362467,\n",
       "         0.58861366, 0.58861366, 0.18739334, 0.18739334, 0.67669121,\n",
       "         0.67669121, 0.14351085, 0.14351085, 0.7627727 , 0.7627727 ,\n",
       "         0.342965  , 0.342965  , 0.95953513, 0.95953513, 0.88716318,\n",
       "         0.88716318, 0.47822869, 0.47822869, 0.76240785, 0.76240785,\n",
       "         0.0439625 , 0.0439625 , 0.33102087, 0.33102087, 0.28893093,\n",
       "         0.28893093, 0.19479901, 0.19479901, 0.74239466, 0.74239466,\n",
       "         0.79923023, 0.79923023, 0.96591773, 0.96591773, 0.28759491,\n",
       "         0.28759491, 0.4986667 , 0.4986667 , 0.99399567, 0.99399567,\n",
       "         0.38003203, 0.38003203, 0.47364088, 0.47364088, 0.12611684,\n",
       "         0.12611684, 0.83706019, 0.83706019, 0.75094081, 0.75094081,\n",
       "         0.57770094, 0.57770094, 0.70300796, 0.70300796, 0.47076662,\n",
       "         0.47076662, 0.37074908, 0.37074908, 0.62774047, 0.62774047,\n",
       "         0.56889885, 0.56889885, 0.90974047, 0.90974047, 0.40732232,\n",
       "         0.40732232, 0.59044737, 0.59044737, 0.06320506, 0.06320506,\n",
       "         0.93112995, 0.93112995, 0.8540118 , 0.8540118 , 0.32304672,\n",
       "         0.32304672, 0.84751278, 0.84751278, 0.56090348, 0.56090348,\n",
       "         0.78552228, 0.78552228, 0.11986932, 0.11986932, 0.17268465,\n",
       "         0.17268465, 0.53704585, 0.53704585, 0.01240605, 0.01240605,\n",
       "         0.67125073, 0.67125073, 0.82627044, 0.82627044, 0.58073822,\n",
       "         0.58073822, 0.74812429, 0.74812429, 0.82045233, 0.82045233,\n",
       "         0.89128856, 0.89128856, 0.04068701, 0.04068701, 0.26642436,\n",
       "         0.26642436, 0.28312101, 0.28312101, 0.01370951, 0.01370951,\n",
       "         0.99546217, 0.99546217, 0.7313501 , 0.7313501 , 0.95379615,\n",
       "         0.95379615, 0.62610667, 0.62610667, 0.10513164, 0.10513164,\n",
       "         0.87647731, 0.87647731, 0.43077101, 0.43077101, 0.10534791,\n",
       "         0.10534791, 0.38836374, 0.38836374, 0.84589609, 0.84589609,\n",
       "         0.10884415, 0.10884415, 0.74696594, 0.74696594, 0.99670505,\n",
       "         0.99670505, 0.23255068, 0.23255068, 0.48001687, 0.48001687,\n",
       "         0.16604366, 0.16604366, 0.5308186 , 0.5308186 , 0.76803163,\n",
       "         0.76803163, 0.28134399, 0.28134399, 0.06561498, 0.06561498,\n",
       "         0.18901854, 0.18901854, 0.25627009, 0.25627009, 0.06194625,\n",
       "         0.06194625, 0.08284021, 0.08284021, 0.73223878, 0.73223878,\n",
       "         0.21132807, 0.21132807, 0.86213593, 0.86213593, 0.94678406,\n",
       "         0.94678406, 0.17456824, 0.17456824, 0.42054142, 0.42054142,\n",
       "         0.02556286, 0.02556286, 0.46360915, 0.46360915, 0.93491129,\n",
       "         0.93491129, 0.71848392, 0.71848392, 0.14043894, 0.14043894])}}"
      ]
     },
     "execution_count": 11,
     "metadata": {},
     "output_type": "execute_result"
    }
   ],
   "source": [
    "ds = load_by_id(run_id_n)\n",
    "ds.get_parameter_data('x1')"
   ]
  },
  {
   "cell_type": "markdown",
   "metadata": {},
   "source": [
    "And a dataset stored as binary arrays"
   ]
  },
  {
   "cell_type": "code",
   "execution_count": 12,
   "metadata": {
    "scrolled": true
   },
   "outputs": [
    {
     "data": {
      "text/plain": [
       "{'x1': {'x1': array([[0.57433319],\n",
       "         [0.57433319],\n",
       "         [0.94805438],\n",
       "         [0.94805438],\n",
       "         [0.40143423],\n",
       "         [0.40143423],\n",
       "         [0.43804384],\n",
       "         [0.43804384],\n",
       "         [0.27124303],\n",
       "         [0.27124303],\n",
       "         [0.01665804],\n",
       "         [0.01665804],\n",
       "         [0.58406329],\n",
       "         [0.58406329],\n",
       "         [0.833067  ],\n",
       "         [0.833067  ],\n",
       "         [0.32587989],\n",
       "         [0.32587989],\n",
       "         [0.83682447],\n",
       "         [0.83682447],\n",
       "         [0.97744044],\n",
       "         [0.97744044],\n",
       "         [0.91374945],\n",
       "         [0.91374945],\n",
       "         [0.87541033],\n",
       "         [0.87541033],\n",
       "         [0.92296472],\n",
       "         [0.92296472],\n",
       "         [0.9050892 ],\n",
       "         [0.9050892 ],\n",
       "         [0.53212117],\n",
       "         [0.53212117],\n",
       "         [0.43842842],\n",
       "         [0.43842842],\n",
       "         [0.98884439],\n",
       "         [0.98884439],\n",
       "         [0.12428278],\n",
       "         [0.12428278],\n",
       "         [0.03720067],\n",
       "         [0.03720067],\n",
       "         [0.22031704],\n",
       "         [0.22031704],\n",
       "         [0.02732378],\n",
       "         [0.02732378],\n",
       "         [0.86475197],\n",
       "         [0.86475197],\n",
       "         [0.79418844],\n",
       "         [0.79418844],\n",
       "         [0.26960459],\n",
       "         [0.26960459],\n",
       "         [0.07099976],\n",
       "         [0.07099976],\n",
       "         [0.55038379],\n",
       "         [0.55038379],\n",
       "         [0.6574038 ],\n",
       "         [0.6574038 ],\n",
       "         [0.46103015],\n",
       "         [0.46103015],\n",
       "         [0.68030432],\n",
       "         [0.68030432],\n",
       "         [0.82927649],\n",
       "         [0.82927649],\n",
       "         [0.40225428],\n",
       "         [0.40225428],\n",
       "         [0.98141607],\n",
       "         [0.98141607],\n",
       "         [0.95816023],\n",
       "         [0.95816023],\n",
       "         [0.54456453],\n",
       "         [0.54456453],\n",
       "         [0.50805106],\n",
       "         [0.50805106],\n",
       "         [0.07138366],\n",
       "         [0.07138366],\n",
       "         [0.62037579],\n",
       "         [0.62037579],\n",
       "         [0.80960585],\n",
       "         [0.80960585],\n",
       "         [0.85789611],\n",
       "         [0.85789611],\n",
       "         [0.19246736],\n",
       "         [0.19246736],\n",
       "         [0.09439935],\n",
       "         [0.09439935],\n",
       "         [0.6869688 ],\n",
       "         [0.6869688 ],\n",
       "         [0.24506684],\n",
       "         [0.24506684],\n",
       "         [0.86612534],\n",
       "         [0.86612534],\n",
       "         [0.61254673],\n",
       "         [0.61254673],\n",
       "         [0.1550889 ],\n",
       "         [0.1550889 ],\n",
       "         [0.27705514],\n",
       "         [0.27705514],\n",
       "         [0.19066868],\n",
       "         [0.19066868],\n",
       "         [0.70918124],\n",
       "         [0.70918124],\n",
       "         [0.32633992],\n",
       "         [0.32633992],\n",
       "         [0.19871537],\n",
       "         [0.19871537],\n",
       "         [0.48232419],\n",
       "         [0.48232419],\n",
       "         [0.50640051],\n",
       "         [0.50640051],\n",
       "         [0.90454898],\n",
       "         [0.90454898],\n",
       "         [0.72656828],\n",
       "         [0.72656828],\n",
       "         [0.95665727],\n",
       "         [0.95665727],\n",
       "         [0.26730395],\n",
       "         [0.26730395],\n",
       "         [0.46659091],\n",
       "         [0.46659091],\n",
       "         [0.52737444],\n",
       "         [0.52737444],\n",
       "         [0.95932497],\n",
       "         [0.95932497],\n",
       "         [0.13744688],\n",
       "         [0.13744688],\n",
       "         [0.64077596],\n",
       "         [0.64077596],\n",
       "         [0.93055892],\n",
       "         [0.93055892],\n",
       "         [0.57351147],\n",
       "         [0.57351147],\n",
       "         [0.21028264],\n",
       "         [0.21028264],\n",
       "         [0.34294235],\n",
       "         [0.34294235],\n",
       "         [0.89775238],\n",
       "         [0.89775238],\n",
       "         [0.76169658],\n",
       "         [0.76169658],\n",
       "         [0.88243866],\n",
       "         [0.88243866],\n",
       "         [0.10748341],\n",
       "         [0.10748341],\n",
       "         [0.78582817],\n",
       "         [0.78582817],\n",
       "         [0.96360627],\n",
       "         [0.96360627],\n",
       "         [0.18380598],\n",
       "         [0.18380598],\n",
       "         [0.18403607],\n",
       "         [0.18403607],\n",
       "         [0.97706426],\n",
       "         [0.97706426],\n",
       "         [0.14662237],\n",
       "         [0.14662237],\n",
       "         [0.58210744],\n",
       "         [0.58210744],\n",
       "         [0.2644287 ],\n",
       "         [0.2644287 ],\n",
       "         [0.45220576],\n",
       "         [0.45220576],\n",
       "         [0.14026372],\n",
       "         [0.14026372],\n",
       "         [0.44457022],\n",
       "         [0.44457022],\n",
       "         [0.6061885 ],\n",
       "         [0.6061885 ],\n",
       "         [0.93557289],\n",
       "         [0.93557289],\n",
       "         [0.21176877],\n",
       "         [0.21176877],\n",
       "         [0.51428822],\n",
       "         [0.51428822],\n",
       "         [0.84415679],\n",
       "         [0.84415679],\n",
       "         [0.28040611],\n",
       "         [0.28040611],\n",
       "         [0.66284596],\n",
       "         [0.66284596],\n",
       "         [0.21618235],\n",
       "         [0.21618235],\n",
       "         [0.07533144],\n",
       "         [0.07533144],\n",
       "         [0.4313773 ],\n",
       "         [0.4313773 ],\n",
       "         [0.16474705],\n",
       "         [0.16474705],\n",
       "         [0.40645126],\n",
       "         [0.40645126],\n",
       "         [0.90685946],\n",
       "         [0.90685946],\n",
       "         [0.31412784],\n",
       "         [0.31412784],\n",
       "         [0.17877549],\n",
       "         [0.17877549],\n",
       "         [0.77395096],\n",
       "         [0.77395096],\n",
       "         [0.51424572],\n",
       "         [0.51424572],\n",
       "         [0.38390615],\n",
       "         [0.38390615]])}}"
      ]
     },
     "execution_count": 12,
     "metadata": {},
     "output_type": "execute_result"
    }
   ],
   "source": [
    "ds = load_by_id(run_id_a)\n",
    "ds.get_parameter_data('x1')"
   ]
  },
  {
   "cell_type": "code",
   "execution_count": null,
   "metadata": {},
   "outputs": [],
   "source": []
  }
 ],
 "metadata": {
  "kernelspec": {
   "display_name": "Python 3",
   "language": "python",
   "name": "python3"
  },
  "language_info": {
   "codemirror_mode": {
    "name": "ipython",
    "version": 3
   },
   "file_extension": ".py",
   "mimetype": "text/x-python",
   "name": "python",
   "nbconvert_exporter": "python",
   "pygments_lexer": "ipython3",
   "version": "3.7.5"
  },
  "nbsphinx": {
   "timeout": 600
  },
  "toc": {
   "base_numbering": 1,
   "nav_menu": {},
   "number_sections": true,
   "sideBar": true,
   "skip_h1_title": false,
   "title_cell": "Table of Contents",
   "title_sidebar": "Contents",
   "toc_cell": false,
   "toc_position": {},
   "toc_section_display": true,
   "toc_window_display": false
  },
  "varInspector": {
   "cols": {
    "lenName": 16,
    "lenType": 16,
    "lenVar": 40
   },
   "kernels_config": {
    "python": {
     "delete_cmd_postfix": "",
     "delete_cmd_prefix": "del ",
     "library": "var_list.py",
     "varRefreshCmd": "print(var_dic_list())"
    },
    "r": {
     "delete_cmd_postfix": ") ",
     "delete_cmd_prefix": "rm(",
     "library": "var_list.r",
     "varRefreshCmd": "cat(var_dic_list()) "
    }
   },
   "types_to_exclude": [
    "module",
    "function",
    "builtin_function_or_method",
    "instance",
    "_Feature"
   ],
   "window_display": false
  }
 },
 "nbformat": 4,
 "nbformat_minor": 2
}
