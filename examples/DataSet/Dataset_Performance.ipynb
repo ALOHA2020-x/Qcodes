{
 "cells": [
  {
   "cell_type": "markdown",
   "metadata": {},
   "source": [
    "# DataSet Performance\n",
    "\n",
    "This notebook shows the trade-off between inserting data into a database row-by-row and as binary blobs. Inserting the data row-by-row means that we have direct access to all the data and may perform queries directly on the values of the data. On the other hand, as we shall see, this is much slower than inserting the data directly as binary blobs."
   ]
  },
  {
   "cell_type": "markdown",
   "metadata": {},
   "source": [
    "First, we choose a new location for the database to ensure that we don't add a bunch of benchmarking data to the default one."
   ]
  },
  {
   "cell_type": "code",
   "execution_count": 1,
   "metadata": {
    "execution": {
     "iopub.execute_input": "2020-10-22T11:03:04.374477Z",
     "iopub.status.busy": "2020-10-22T11:03:04.373809Z",
     "iopub.status.idle": "2020-10-22T11:03:05.587826Z",
     "shell.execute_reply": "2020-10-22T11:03:05.588359Z"
    }
   },
   "outputs": [
    {
     "name": "stdout",
     "output_type": "stream",
     "text": [
      "Logging hadn't been started.\n",
      "Activating auto-logging. Current session state plus future input saved.\n",
      "Filename       : /home/vsts/.qcodes/logs/command_history.log\n",
      "Mode           : append\n",
      "Output logging : True\n",
      "Raw input log  : False\n",
      "Timestamping   : True\n",
      "State          : active\n"
     ]
    },
    {
     "name": "stdout",
     "output_type": "stream",
     "text": [
      "Qcodes Logfile : /home/vsts/.qcodes/logs/201022-14523-qcodes.log\n"
     ]
    }
   ],
   "source": [
    "import os\n",
    "cwd = os.getcwd()\n",
    "import qcodes as qc\n",
    "qc.config[\"core\"][\"db_location\"] = os.path.join(cwd, 'testing.db')\n"
   ]
  },
  {
   "cell_type": "code",
   "execution_count": 2,
   "metadata": {
    "execution": {
     "iopub.execute_input": "2020-10-22T11:03:05.597118Z",
     "iopub.status.busy": "2020-10-22T11:03:05.594425Z",
     "iopub.status.idle": "2020-10-22T11:03:05.808333Z",
     "shell.execute_reply": "2020-10-22T11:03:05.807503Z"
    }
   },
   "outputs": [],
   "source": [
    "%matplotlib inline\n",
    "import time\n",
    "import matplotlib.pyplot as plt\n",
    "import numpy as np\n",
    "\n",
    "import qcodes as qc\n",
    "from qcodes.instrument.parameter import ManualParameter\n",
    "from qcodes.dataset.experiment_container import (Experiment,\n",
    "                                                 load_last_experiment,\n",
    "                                                 new_experiment)\n",
    "from qcodes.dataset.sqlite.database import initialise_database\n",
    "from qcodes import load_or_create_experiment\n",
    "from qcodes.dataset.measurements import Measurement"
   ]
  },
  {
   "cell_type": "code",
   "execution_count": 3,
   "metadata": {
    "execution": {
     "iopub.execute_input": "2020-10-22T11:03:05.812322Z",
     "iopub.status.busy": "2020-10-22T11:03:05.811680Z",
     "iopub.status.idle": "2020-10-22T11:03:05.932664Z",
     "shell.execute_reply": "2020-10-22T11:03:05.932119Z"
    }
   },
   "outputs": [
    {
     "name": "stdout",
     "output_type": "stream",
     "text": [
      "\r",
      "0it [00:00, ?it/s]"
     ]
    },
    {
     "name": "stdout",
     "output_type": "stream",
     "text": [
      "\r",
      "Upgrading database; v0 -> v1: : 0it [00:00, ?it/s]"
     ]
    },
    {
     "name": "stdout",
     "output_type": "stream",
     "text": [
      "\r",
      "Upgrading database; v0 -> v1: : 0it [00:00, ?it/s]"
     ]
    },
    {
     "name": "stdout",
     "output_type": "stream",
     "text": [
      "\n",
      "\r",
      "  0%|          | 0/1 [00:00<?, ?it/s]"
     ]
    },
    {
     "name": "stdout",
     "output_type": "stream",
     "text": [
      "\r",
      "Upgrading database; v1 -> v2:   0%|          | 0/1 [00:00<?, ?it/s]"
     ]
    },
    {
     "name": "stdout",
     "output_type": "stream",
     "text": [
      "\r",
      "Upgrading database; v1 -> v2: 100%|██████████| 1/1 [00:00<00:00, 443.56it/s]"
     ]
    },
    {
     "name": "stdout",
     "output_type": "stream",
     "text": [
      "\n",
      "\r",
      "0it [00:00, ?it/s]"
     ]
    },
    {
     "name": "stdout",
     "output_type": "stream",
     "text": [
      "\r",
      "Upgrading database; v2 -> v3: : 0it [00:00, ?it/s]"
     ]
    },
    {
     "name": "stdout",
     "output_type": "stream",
     "text": [
      "\r",
      "Upgrading database; v2 -> v3: : 0it [00:00, ?it/s]"
     ]
    },
    {
     "name": "stdout",
     "output_type": "stream",
     "text": [
      "\n",
      "\r",
      "0it [00:00, ?it/s]"
     ]
    },
    {
     "name": "stdout",
     "output_type": "stream",
     "text": [
      "\r",
      "Upgrading database; v3 -> v4: : 0it [00:00, ?it/s]"
     ]
    },
    {
     "name": "stdout",
     "output_type": "stream",
     "text": [
      "\r",
      "Upgrading database; v3 -> v4: : 0it [00:00, ?it/s]"
     ]
    },
    {
     "name": "stdout",
     "output_type": "stream",
     "text": [
      "\n",
      "\r",
      "  0%|          | 0/1 [00:00<?, ?it/s]"
     ]
    },
    {
     "name": "stdout",
     "output_type": "stream",
     "text": [
      "\r",
      "Upgrading database; v4 -> v5:   0%|          | 0/1 [00:00<?, ?it/s]"
     ]
    },
    {
     "name": "stdout",
     "output_type": "stream",
     "text": [
      "\r",
      "Upgrading database; v4 -> v5: 100%|██████████| 1/1 [00:00<00:00, 292.80it/s]"
     ]
    },
    {
     "name": "stdout",
     "output_type": "stream",
     "text": [
      "\n",
      "\r",
      "0it [00:00, ?it/s]"
     ]
    },
    {
     "name": "stdout",
     "output_type": "stream",
     "text": [
      "\r",
      "Upgrading database; v5 -> v6: : 0it [00:00, ?it/s]"
     ]
    },
    {
     "name": "stdout",
     "output_type": "stream",
     "text": [
      "\r",
      "Upgrading database; v5 -> v6: : 0it [00:00, ?it/s]"
     ]
    },
    {
     "name": "stdout",
     "output_type": "stream",
     "text": [
      "\n",
      "\r",
      "  0%|          | 0/1 [00:00<?, ?it/s]"
     ]
    },
    {
     "name": "stdout",
     "output_type": "stream",
     "text": [
      "\r",
      "Upgrading database; v6 -> v7:   0%|          | 0/1 [00:00<?, ?it/s]"
     ]
    },
    {
     "name": "stdout",
     "output_type": "stream",
     "text": [
      "\r",
      "Upgrading database; v6 -> v7: 100%|██████████| 1/1 [00:00<00:00, 296.10it/s]"
     ]
    },
    {
     "name": "stdout",
     "output_type": "stream",
     "text": [
      "\n",
      "\r",
      "  0%|          | 0/1 [00:00<?, ?it/s]"
     ]
    },
    {
     "name": "stdout",
     "output_type": "stream",
     "text": [
      "\r",
      "Upgrading database; v7 -> v8:   0%|          | 0/1 [00:00<?, ?it/s]"
     ]
    },
    {
     "name": "stdout",
     "output_type": "stream",
     "text": [
      "\r",
      "Upgrading database; v7 -> v8: 100%|██████████| 1/1 [00:00<00:00, 521.16it/s]"
     ]
    },
    {
     "name": "stdout",
     "output_type": "stream",
     "text": [
      "\n",
      "\r",
      "  0%|          | 0/1 [00:00<?, ?it/s]"
     ]
    },
    {
     "name": "stdout",
     "output_type": "stream",
     "text": [
      "\r",
      "Upgrading database; v8 -> v9:   0%|          | 0/1 [00:00<?, ?it/s]"
     ]
    },
    {
     "name": "stdout",
     "output_type": "stream",
     "text": [
      "\r",
      "Upgrading database; v8 -> v9: 100%|██████████| 1/1 [00:00<00:00, 1087.73it/s]"
     ]
    },
    {
     "name": "stdout",
     "output_type": "stream",
     "text": [
      "\n"
     ]
    }
   ],
   "source": [
    "initialise_database()\n",
    "exp = load_or_create_experiment(experiment_name='tutorial_exp', sample_name=\"no sample\")"
   ]
  },
  {
   "cell_type": "markdown",
   "metadata": {},
   "source": [
    "Here, we define a simple function to benchmark the time it takes to insert n points with either numeric or array data type.\n",
    "We will compare both the time used to call ``add_result`` and the time used for the full measurement."
   ]
  },
  {
   "cell_type": "code",
   "execution_count": 4,
   "metadata": {
    "execution": {
     "iopub.execute_input": "2020-10-22T11:03:05.942541Z",
     "iopub.status.busy": "2020-10-22T11:03:05.941223Z",
     "iopub.status.idle": "2020-10-22T11:03:05.943097Z",
     "shell.execute_reply": "2020-10-22T11:03:05.943794Z"
    }
   },
   "outputs": [],
   "source": [
    "def insert_data(paramtype, npoints, nreps=1):\n",
    "\n",
    "    meas = Measurement(exp=exp)\n",
    "\n",
    "    x1 = ManualParameter('x1')\n",
    "    x2 = ManualParameter('x2')\n",
    "    x3 = ManualParameter('x3')\n",
    "    y1 = ManualParameter('y1')\n",
    "    y2 = ManualParameter('y2')\n",
    "\n",
    "    meas.register_parameter(x1, paramtype=paramtype)\n",
    "    meas.register_parameter(x2, paramtype=paramtype)\n",
    "    meas.register_parameter(x3, paramtype=paramtype)\n",
    "    meas.register_parameter(y1, setpoints=[x1, x2, x3],\n",
    "                            paramtype=paramtype)\n",
    "    meas.register_parameter(y2, setpoints=[x1, x2, x3],\n",
    "                            paramtype=paramtype)\n",
    "    start = time.perf_counter()\n",
    "    with meas.run() as datasaver:\n",
    "        start_adding = time.perf_counter()\n",
    "        for i in range(nreps):\n",
    "            datasaver.add_result((x1, np.random.rand(npoints)),\n",
    "                                 (x2, np.random.rand(npoints)),\n",
    "                                 (x3, np.random.rand(npoints)),\n",
    "                                 (y1, np.random.rand(npoints)),\n",
    "                                 (y2, np.random.rand(npoints)))\n",
    "        stop_adding = time.perf_counter()\n",
    "        run_id = datasaver.run_id\n",
    "    stop = time.perf_counter()\n",
    "    tot_time = stop - start\n",
    "    add_time = stop_adding - start_adding\n",
    "    return tot_time, add_time, run_id"
   ]
  },
  {
   "cell_type": "markdown",
   "metadata": {},
   "source": [
    "## Comparison between numeric/array data and binary blob"
   ]
  },
  {
   "cell_type": "markdown",
   "metadata": {},
   "source": [
    "### Case1: Short experiment time"
   ]
  },
  {
   "cell_type": "code",
   "execution_count": 5,
   "metadata": {
    "execution": {
     "iopub.execute_input": "2020-10-22T11:03:05.950626Z",
     "iopub.status.busy": "2020-10-22T11:03:05.950014Z",
     "iopub.status.idle": "2020-10-22T11:03:06.885743Z",
     "shell.execute_reply": "2020-10-22T11:03:06.884408Z"
    }
   },
   "outputs": [
    {
     "name": "stdout",
     "output_type": "stream",
     "text": [
      "Starting experimental run with id: 1. \n",
      "Starting experimental run with id: 2. \n",
      "Starting experimental run with id: 3. \n",
      "Starting experimental run with id: 4. \n",
      "Starting experimental run with id: 5. \n"
     ]
    },
    {
     "name": "stdout",
     "output_type": "stream",
     "text": [
      "Starting experimental run with id: 6. \n"
     ]
    },
    {
     "name": "stdout",
     "output_type": "stream",
     "text": [
      "Starting experimental run with id: 7. \n"
     ]
    },
    {
     "name": "stdout",
     "output_type": "stream",
     "text": [
      "Starting experimental run with id: 8. \n",
      "Starting experimental run with id: 9. \n"
     ]
    },
    {
     "name": "stdout",
     "output_type": "stream",
     "text": [
      "Starting experimental run with id: 10. \n",
      "Starting experimental run with id: 11. \n"
     ]
    },
    {
     "name": "stdout",
     "output_type": "stream",
     "text": [
      "Starting experimental run with id: 12. \n"
     ]
    },
    {
     "name": "stdout",
     "output_type": "stream",
     "text": [
      "Starting experimental run with id: 13. \n"
     ]
    },
    {
     "name": "stdout",
     "output_type": "stream",
     "text": [
      "Starting experimental run with id: 14. \n"
     ]
    }
   ],
   "source": [
    "sizes = [1,500,1000,2000,3000,4000,5000]\n",
    "t_numeric = []\n",
    "t_numeric_add = []\n",
    "t_array = []\n",
    "t_array_add = []\n",
    "for size in sizes:\n",
    "    tn, tna, run_id_n =  insert_data('numeric', size)\n",
    "    t_numeric.append(tn)\n",
    "    t_numeric_add.append(tna)\n",
    "\n",
    "    ta, taa, run_id_a =  insert_data('array', size)\n",
    "    t_array.append(ta)\n",
    "    t_array_add.append(taa)"
   ]
  },
  {
   "cell_type": "code",
   "execution_count": 6,
   "metadata": {
    "execution": {
     "iopub.execute_input": "2020-10-22T11:03:06.922300Z",
     "iopub.status.busy": "2020-10-22T11:03:06.908580Z",
     "iopub.status.idle": "2020-10-22T11:03:07.142936Z",
     "shell.execute_reply": "2020-10-22T11:03:07.142336Z"
    }
   },
   "outputs": [
    {
     "data": {
      "image/png": "[encoded data removed]",
      "text/plain": [
       "<Figure size 432x288 with 1 Axes>"
      ]
     },
     "metadata": {
      "needs_background": "light"
     },
     "output_type": "display_data"
    }
   ],
   "source": [
    "fig, ax = plt.subplots(1,1)\n",
    "ax.plot(sizes, t_numeric, 'o-', label='Inserting row-by-row')\n",
    "ax.plot(sizes, t_numeric_add, 'o-', label='Inserting row-by-row: add_result only')\n",
    "ax.plot(sizes, t_array, 'd-', label='Inserting as binary blob')\n",
    "ax.plot(sizes, t_array_add, 'd-', label='Inserting as binary blob: add_result only')\n",
    "ax.legend()\n",
    "ax.set_xlabel('Array length')\n",
    "ax.set_ylabel('Time (s)')\n",
    "fig.tight_layout()"
   ]
  },
  {
   "cell_type": "markdown",
   "metadata": {},
   "source": [
    "As shown in the latter figure, the time to setup and and close the experiment is approximately 0.4 sec. In case of small array sizes, the difference between inserting values of data as arrays and inserting them row-by-row is relatively unimportant. At larger array sizes, i.e. above 10000 points, the cost of writing data as individual datapoints starts to become important.\n"
   ]
  },
  {
   "cell_type": "markdown",
   "metadata": {},
   "source": [
    "### Case2: Long experiment time "
   ]
  },
  {
   "cell_type": "code",
   "execution_count": 7,
   "metadata": {
    "execution": {
     "iopub.execute_input": "2020-10-22T11:03:07.150726Z",
     "iopub.status.busy": "2020-10-22T11:03:07.149558Z",
     "iopub.status.idle": "2020-10-22T11:04:11.526770Z",
     "shell.execute_reply": "2020-10-22T11:04:11.525803Z"
    }
   },
   "outputs": [
    {
     "name": "stdout",
     "output_type": "stream",
     "text": [
      "Starting experimental run with id: 15. \n",
      "Starting experimental run with id: 16. \n",
      "Starting experimental run with id: 17. \n"
     ]
    },
    {
     "name": "stdout",
     "output_type": "stream",
     "text": [
      "Starting experimental run with id: 18. \n",
      "Starting experimental run with id: 19. \n"
     ]
    },
    {
     "name": "stdout",
     "output_type": "stream",
     "text": [
      "Starting experimental run with id: 20. \n"
     ]
    },
    {
     "name": "stdout",
     "output_type": "stream",
     "text": [
      "Starting experimental run with id: 21. \n"
     ]
    },
    {
     "name": "stdout",
     "output_type": "stream",
     "text": [
      "Starting experimental run with id: 22. \n"
     ]
    },
    {
     "name": "stdout",
     "output_type": "stream",
     "text": [
      "Starting experimental run with id: 23. \n"
     ]
    },
    {
     "name": "stdout",
     "output_type": "stream",
     "text": [
      "Starting experimental run with id: 24. \n"
     ]
    },
    {
     "name": "stdout",
     "output_type": "stream",
     "text": [
      "Starting experimental run with id: 25. \n"
     ]
    },
    {
     "name": "stdout",
     "output_type": "stream",
     "text": [
      "Starting experimental run with id: 26. \n"
     ]
    },
    {
     "name": "stdout",
     "output_type": "stream",
     "text": [
      "Starting experimental run with id: 27. \n"
     ]
    },
    {
     "name": "stdout",
     "output_type": "stream",
     "text": [
      "Starting experimental run with id: 28. \n"
     ]
    }
   ],
   "source": [
    "sizes = [1,500,1000,2000,3000,4000,5000]\n",
    "nreps = 100\n",
    "t_numeric = []\n",
    "t_numeric_add = []\n",
    "t_numeric_run_ids = []\n",
    "t_array = []\n",
    "t_array_add = []\n",
    "t_array_run_ids = []\n",
    "for size in sizes:\n",
    "    tn, tna, run_id_n =  insert_data('numeric', size, nreps=nreps)\n",
    "    t_numeric.append(tn)\n",
    "    t_numeric_add.append(tna)\n",
    "    t_numeric_run_ids.append(run_id_n)\n",
    "\n",
    "    ta, taa, run_id_a =  insert_data('array', size, nreps=nreps)\n",
    "    t_array.append(ta)\n",
    "    t_array_add.append(taa)\n",
    "    t_array_run_ids.append(run_id_a)"
   ]
  },
  {
   "cell_type": "code",
   "execution_count": 8,
   "metadata": {
    "execution": {
     "iopub.execute_input": "2020-10-22T11:04:11.548722Z",
     "iopub.status.busy": "2020-10-22T11:04:11.547705Z",
     "iopub.status.idle": "2020-10-22T11:04:11.782196Z",
     "shell.execute_reply": "2020-10-22T11:04:11.781630Z"
    },
    "scrolled": true
   },
   "outputs": [
    {
     "data": {
      "image/png": "[encoded data removed]",
      "text/plain": [
       "<Figure size 432x288 with 1 Axes>"
      ]
     },
     "metadata": {
      "needs_background": "light"
     },
     "output_type": "display_data"
    }
   ],
   "source": [
    "fig, ax = plt.subplots(1,1)\n",
    "ax.plot(sizes, t_numeric, 'o-', label='Inserting row-by-row')\n",
    "ax.plot(sizes, t_numeric_add, 'o-', label='Inserting row-by-row: add_result only')\n",
    "ax.plot(sizes, t_array, 'd-', label='Inserting as binary blob')\n",
    "ax.plot(sizes, t_array_add, 'd-', label='Inserting as binary blob: add_result only')\n",
    "ax.legend()\n",
    "ax.set_xlabel('Array length')\n",
    "ax.set_ylabel('Time (s)')\n",
    "fig.tight_layout()"
   ]
  },
  {
   "cell_type": "markdown",
   "metadata": {},
   "source": [
    "However, as we increase the length of the experiment, as seen here by repeating the insertion 100 times, we see a big difference between inserting values of the data row-by-row and inserting it as a binary blob."
   ]
  },
  {
   "cell_type": "markdown",
   "metadata": {},
   "source": [
    "## Loading the data "
   ]
  },
  {
   "cell_type": "code",
   "execution_count": 9,
   "metadata": {
    "execution": {
     "iopub.execute_input": "2020-10-22T11:04:11.786747Z",
     "iopub.status.busy": "2020-10-22T11:04:11.785577Z",
     "iopub.status.idle": "2020-10-22T11:04:11.789101Z",
     "shell.execute_reply": "2020-10-22T11:04:11.788567Z"
    }
   },
   "outputs": [],
   "source": [
    "from qcodes.dataset.data_set import load_by_id\n",
    "from qcodes.dataset.data_export import get_data_by_id"
   ]
  },
  {
   "cell_type": "markdown",
   "metadata": {},
   "source": [
    "As usual you can load the data by using the ``load_by_id`` function but you will notice that the different storage methods\n",
    "are reflected in shape of the data as it is retrieved. "
   ]
  },
  {
   "cell_type": "code",
   "execution_count": 10,
   "metadata": {
    "execution": {
     "iopub.execute_input": "2020-10-22T11:04:11.793870Z",
     "iopub.status.busy": "2020-10-22T11:04:11.792562Z",
     "iopub.status.idle": "2020-10-22T11:04:11.794448Z",
     "shell.execute_reply": "2020-10-22T11:04:11.795121Z"
    }
   },
   "outputs": [],
   "source": [
    "run_id_n = t_numeric_run_ids[0]\n",
    "run_id_a = t_array_run_ids[0]"
   ]
  },
  {
   "cell_type": "code",
   "execution_count": 11,
   "metadata": {
    "execution": {
     "iopub.execute_input": "2020-10-22T11:04:11.798755Z",
     "iopub.status.busy": "2020-10-22T11:04:11.798076Z",
     "iopub.status.idle": "2020-10-22T11:04:11.809230Z",
     "shell.execute_reply": "2020-10-22T11:04:11.809862Z"
    },
    "scrolled": true
   },
   "outputs": [
    {
     "data": {
      "text/plain": [
       "{'x1': {'x1': array([0.63954297, 0.63954297, 0.34038541, 0.34038541, 0.43383466,\n",
       "         0.43383466, 0.24595627, 0.24595627, 0.08224611, 0.08224611,\n",
       "         0.7571305 , 0.7571305 , 0.79476214, 0.79476214, 0.71078709,\n",
       "         0.71078709, 0.24163574, 0.24163574, 0.4498143 , 0.4498143 ,\n",
       "         0.52718732, 0.52718732, 0.41918474, 0.41918474, 0.336576  ,\n",
       "         0.336576  , 0.62172913, 0.62172913, 0.56791747, 0.56791747,\n",
       "         0.64344549, 0.64344549, 0.63130313, 0.63130313, 0.33525654,\n",
       "         0.33525654, 0.94775658, 0.94775658, 0.66339544, 0.66339544,\n",
       "         0.79311164, 0.79311164, 0.02558018, 0.02558018, 0.26609315,\n",
       "         0.26609315, 0.85921482, 0.85921482, 0.66706624, 0.66706624,\n",
       "         0.56860255, 0.56860255, 0.47201483, 0.47201483, 0.5321962 ,\n",
       "         0.5321962 , 0.91306576, 0.91306576, 0.95880966, 0.95880966,\n",
       "         0.84064612, 0.84064612, 0.63402683, 0.63402683, 0.01316902,\n",
       "         0.01316902, 0.07964577, 0.07964577, 0.13722718, 0.13722718,\n",
       "         0.13117384, 0.13117384, 0.68877979, 0.68877979, 0.00603303,\n",
       "         0.00603303, 0.43632047, 0.43632047, 0.83283938, 0.83283938,\n",
       "         0.54468699, 0.54468699, 0.68812495, 0.68812495, 0.61565228,\n",
       "         0.61565228, 0.80226545, 0.80226545, 0.37480102, 0.37480102,\n",
       "         0.52044444, 0.52044444, 0.16338967, 0.16338967, 0.79967344,\n",
       "         0.79967344, 0.83610215, 0.83610215, 0.06000648, 0.06000648,\n",
       "         0.76755154, 0.76755154, 0.10345976, 0.10345976, 0.70632438,\n",
       "         0.70632438, 0.72172601, 0.72172601, 0.95804783, 0.95804783,\n",
       "         0.65137334, 0.65137334, 0.47199608, 0.47199608, 0.54047923,\n",
       "         0.54047923, 0.47340573, 0.47340573, 0.19212581, 0.19212581,\n",
       "         0.90051217, 0.90051217, 0.70396389, 0.70396389, 0.32628368,\n",
       "         0.32628368, 0.0701299 , 0.0701299 , 0.06378677, 0.06378677,\n",
       "         0.99487648, 0.99487648, 0.06655513, 0.06655513, 0.33113168,\n",
       "         0.33113168, 0.75812109, 0.75812109, 0.94075955, 0.94075955,\n",
       "         0.5104595 , 0.5104595 , 0.59795812, 0.59795812, 0.99784652,\n",
       "         0.99784652, 0.18811798, 0.18811798, 0.65882577, 0.65882577,\n",
       "         0.67669361, 0.67669361, 0.34670327, 0.34670327, 0.8198713 ,\n",
       "         0.8198713 , 0.95552789, 0.95552789, 0.74066935, 0.74066935,\n",
       "         0.95908714, 0.95908714, 0.2750607 , 0.2750607 , 0.47167709,\n",
       "         0.47167709, 0.60028275, 0.60028275, 0.69637247, 0.69637247,\n",
       "         0.04134019, 0.04134019, 0.99714686, 0.99714686, 0.88513843,\n",
       "         0.88513843, 0.23298236, 0.23298236, 0.60350371, 0.60350371,\n",
       "         0.57714256, 0.57714256, 0.6667894 , 0.6667894 , 0.29221162,\n",
       "         0.29221162, 0.45308715, 0.45308715, 0.00814037, 0.00814037,\n",
       "         0.99282765, 0.99282765, 0.40597117, 0.40597117, 0.84931402,\n",
       "         0.84931402, 0.90924453, 0.90924453, 0.93798252, 0.93798252])}}"
      ]
     },
     "execution_count": 1,
     "metadata": {},
     "output_type": "execute_result"
    }
   ],
   "source": [
    "ds = load_by_id(run_id_n)\n",
    "ds.get_parameter_data('x1')"
   ]
  },
  {
   "cell_type": "markdown",
   "metadata": {},
   "source": [
    "And a dataset stored as binary arrays"
   ]
  },
  {
   "cell_type": "code",
   "execution_count": 12,
   "metadata": {
    "execution": {
     "iopub.execute_input": "2020-10-22T11:04:11.814638Z",
     "iopub.status.busy": "2020-10-22T11:04:11.814019Z",
     "iopub.status.idle": "2020-10-22T11:04:11.885673Z",
     "shell.execute_reply": "2020-10-22T11:04:11.885150Z"
    },
    "scrolled": true
   },
   "outputs": [
    {
     "data": {
      "text/plain": [
       "{'x1': {'x1': array([[0.63529585],\n",
       "         [0.63529585],\n",
       "         [0.31800741],\n",
       "         [0.31800741],\n",
       "         [0.21224568],\n",
       "         [0.21224568],\n",
       "         [0.80981279],\n",
       "         [0.80981279],\n",
       "         [0.69010197],\n",
       "         [0.69010197],\n",
       "         [0.6113742 ],\n",
       "         [0.6113742 ],\n",
       "         [0.38877385],\n",
       "         [0.38877385],\n",
       "         [0.04841556],\n",
       "         [0.04841556],\n",
       "         [0.64654848],\n",
       "         [0.64654848],\n",
       "         [0.22343785],\n",
       "         [0.22343785],\n",
       "         [0.67407864],\n",
       "         [0.67407864],\n",
       "         [0.28261616],\n",
       "         [0.28261616],\n",
       "         [0.8256349 ],\n",
       "         [0.8256349 ],\n",
       "         [0.4749946 ],\n",
       "         [0.4749946 ],\n",
       "         [0.18130167],\n",
       "         [0.18130167],\n",
       "         [0.57997377],\n",
       "         [0.57997377],\n",
       "         [0.00629341],\n",
       "         [0.00629341],\n",
       "         [0.02378572],\n",
       "         [0.02378572],\n",
       "         [0.29063821],\n",
       "         [0.29063821],\n",
       "         [0.13106913],\n",
       "         [0.13106913],\n",
       "         [0.51063146],\n",
       "         [0.51063146],\n",
       "         [0.41368012],\n",
       "         [0.41368012],\n",
       "         [0.62393188],\n",
       "         [0.62393188],\n",
       "         [0.48183275],\n",
       "         [0.48183275],\n",
       "         [0.8903498 ],\n",
       "         [0.8903498 ],\n",
       "         [0.99198479],\n",
       "         [0.99198479],\n",
       "         [0.06617714],\n",
       "         [0.06617714],\n",
       "         [0.15134308],\n",
       "         [0.15134308],\n",
       "         [0.66453122],\n",
       "         [0.66453122],\n",
       "         [0.2520128 ],\n",
       "         [0.2520128 ],\n",
       "         [0.3685801 ],\n",
       "         [0.3685801 ],\n",
       "         [0.30855448],\n",
       "         [0.30855448],\n",
       "         [0.73951065],\n",
       "         [0.73951065],\n",
       "         [0.83826897],\n",
       "         [0.83826897],\n",
       "         [0.65515557],\n",
       "         [0.65515557],\n",
       "         [0.83464293],\n",
       "         [0.83464293],\n",
       "         [0.69038839],\n",
       "         [0.69038839],\n",
       "         [0.14569512],\n",
       "         [0.14569512],\n",
       "         [0.56869585],\n",
       "         [0.56869585],\n",
       "         [0.13528097],\n",
       "         [0.13528097],\n",
       "         [0.63604902],\n",
       "         [0.63604902],\n",
       "         [0.4884318 ],\n",
       "         [0.4884318 ],\n",
       "         [0.48027251],\n",
       "         [0.48027251],\n",
       "         [0.78707536],\n",
       "         [0.78707536],\n",
       "         [0.22461183],\n",
       "         [0.22461183],\n",
       "         [0.42769144],\n",
       "         [0.42769144],\n",
       "         [0.99595031],\n",
       "         [0.99595031],\n",
       "         [0.97972382],\n",
       "         [0.97972382],\n",
       "         [0.83819742],\n",
       "         [0.83819742],\n",
       "         [0.56322054],\n",
       "         [0.56322054],\n",
       "         [0.71850409],\n",
       "         [0.71850409],\n",
       "         [0.05093053],\n",
       "         [0.05093053],\n",
       "         [0.09053557],\n",
       "         [0.09053557],\n",
       "         [0.4659206 ],\n",
       "         [0.4659206 ],\n",
       "         [0.61749867],\n",
       "         [0.61749867],\n",
       "         [0.3656683 ],\n",
       "         [0.3656683 ],\n",
       "         [0.44846227],\n",
       "         [0.44846227],\n",
       "         [0.12091948],\n",
       "         [0.12091948],\n",
       "         [0.26108493],\n",
       "         [0.26108493],\n",
       "         [0.45150951],\n",
       "         [0.45150951],\n",
       "         [0.033281  ],\n",
       "         [0.033281  ],\n",
       "         [0.04634204],\n",
       "         [0.04634204],\n",
       "         [0.60056306],\n",
       "         [0.60056306],\n",
       "         [0.8757074 ],\n",
       "         [0.8757074 ],\n",
       "         [0.79629879],\n",
       "         [0.79629879],\n",
       "         [0.78528993],\n",
       "         [0.78528993],\n",
       "         [0.00728493],\n",
       "         [0.00728493],\n",
       "         [0.93234347],\n",
       "         [0.93234347],\n",
       "         [0.24510544],\n",
       "         [0.24510544],\n",
       "         [0.76626857],\n",
       "         [0.76626857],\n",
       "         [0.16807621],\n",
       "         [0.16807621],\n",
       "         [0.94754705],\n",
       "         [0.94754705],\n",
       "         [0.00411148],\n",
       "         [0.00411148],\n",
       "         [0.42072012],\n",
       "         [0.42072012],\n",
       "         [0.58582026],\n",
       "         [0.58582026],\n",
       "         [0.32501801],\n",
       "         [0.32501801],\n",
       "         [0.90459787],\n",
       "         [0.90459787],\n",
       "         [0.4039951 ],\n",
       "         [0.4039951 ],\n",
       "         [0.75968089],\n",
       "         [0.75968089],\n",
       "         [0.49626043],\n",
       "         [0.49626043],\n",
       "         [0.24074561],\n",
       "         [0.24074561],\n",
       "         [0.51352324],\n",
       "         [0.51352324],\n",
       "         [0.9368466 ],\n",
       "         [0.9368466 ],\n",
       "         [0.94627642],\n",
       "         [0.94627642],\n",
       "         [0.39092419],\n",
       "         [0.39092419],\n",
       "         [0.11313432],\n",
       "         [0.11313432],\n",
       "         [0.26962594],\n",
       "         [0.26962594],\n",
       "         [0.71874091],\n",
       "         [0.71874091],\n",
       "         [0.86406175],\n",
       "         [0.86406175],\n",
       "         [0.52771478],\n",
       "         [0.52771478],\n",
       "         [0.20815086],\n",
       "         [0.20815086],\n",
       "         [0.53456692],\n",
       "         [0.53456692],\n",
       "         [0.29499125],\n",
       "         [0.29499125],\n",
       "         [0.65055529],\n",
       "         [0.65055529],\n",
       "         [0.79155772],\n",
       "         [0.79155772],\n",
       "         [0.84095682],\n",
       "         [0.84095682],\n",
       "         [0.18353218],\n",
       "         [0.18353218],\n",
       "         [0.89331605],\n",
       "         [0.89331605],\n",
       "         [0.55579612],\n",
       "         [0.55579612],\n",
       "         [0.73979343],\n",
       "         [0.73979343]])}}"
      ]
     },
     "execution_count": 1,
     "metadata": {},
     "output_type": "execute_result"
    }
   ],
   "source": [
    "ds = load_by_id(run_id_a)\n",
    "ds.get_parameter_data('x1')"
   ]
  },
  {
   "cell_type": "code",
   "execution_count": null,
   "metadata": {},
   "outputs": [],
   "source": []
  }
 ],
 "metadata": {
  "kernelspec": {
   "display_name": "Python 3",
   "language": "python",
   "name": "python3"
  },
  "language_info": {
   "codemirror_mode": {
    "name": "ipython",
    "version": 3
   },
   "file_extension": ".py",
   "mimetype": "text/x-python",
   "name": "python",
   "nbconvert_exporter": "python",
   "pygments_lexer": "ipython3",
   "version": "3.7.7"
  },
  "nbsphinx": {
   "timeout": 600
  },
  "toc": {
   "base_numbering": 1,
   "nav_menu": {},
   "number_sections": true,
   "sideBar": true,
   "skip_h1_title": false,
   "title_cell": "Table of Contents",
   "title_sidebar": "Contents",
   "toc_cell": false,
   "toc_position": {},
   "toc_section_display": true,
   "toc_window_display": false
  },
  "varInspector": {
   "cols": {
    "lenName": 16,
    "lenType": 16,
    "lenVar": 40
   },
   "kernels_config": {
    "python": {
     "delete_cmd_postfix": "",
     "delete_cmd_prefix": "del ",
     "library": "var_list.py",
     "varRefreshCmd": "print(var_dic_list())"
    },
    "r": {
     "delete_cmd_postfix": ") ",
     "delete_cmd_prefix": "rm(",
     "library": "var_list.r",
     "varRefreshCmd": "cat(var_dic_list()) "
    }
   },
   "types_to_exclude": [
    "module",
    "function",
    "builtin_function_or_method",
    "instance",
    "_Feature"
   ],
   "window_display": false
  }
 },
 "nbformat": 4,
 "nbformat_minor": 2
}
