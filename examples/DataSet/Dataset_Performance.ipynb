{
 "cells": [
  {
   "cell_type": "markdown",
   "metadata": {},
   "source": [
    "# DataSet Performance\n",
    "\n",
    "This notebook shows the trade-off between inserting data into a database row-by-row and as binary blobs. Inserting the data row-by-row means that we have direct access to all the data and may perform queries directly on the values of the data. On the other hand, as we shall see, this is much slower than inserting the data directly as binary blobs."
   ]
  },
  {
   "cell_type": "markdown",
   "metadata": {},
   "source": [
    "First, we choose a new location for the database to ensure that we don't add a bunch of benchmarking data to the default one."
   ]
  },
  {
   "cell_type": "code",
   "execution_count": 1,
   "metadata": {},
   "outputs": [
    {
     "name": "stdout",
     "output_type": "stream",
     "text": [
      "Logging hadn't been started.\n",
      "Activating auto-logging. Current session state plus future input saved.\n",
      "Filename       : /home/vsts/.qcodes/logs/command_history.log\n",
      "Mode           : append\n",
      "Output logging : True\n",
      "Raw input log  : False\n",
      "Timestamping   : True\n",
      "State          : active\n"
     ]
    },
    {
     "name": "stdout",
     "output_type": "stream",
     "text": [
      "Qcodes Logfile : /home/vsts/.qcodes/logs/200622-19300-qcodes.log\n"
     ]
    }
   ],
   "source": [
    "import os\n",
    "cwd = os.getcwd()\n",
    "import qcodes as qc\n",
    "qc.config[\"core\"][\"db_location\"] = os.path.join(cwd, 'testing.db')\n"
   ]
  },
  {
   "cell_type": "code",
   "execution_count": 2,
   "metadata": {},
   "outputs": [],
   "source": [
    "%matplotlib inline\n",
    "import time\n",
    "import matplotlib.pyplot as plt\n",
    "import numpy as np\n",
    "\n",
    "import qcodes as qc\n",
    "from qcodes.instrument.parameter import ManualParameter\n",
    "from qcodes.dataset.experiment_container import (Experiment,\n",
    "                                                 load_last_experiment,\n",
    "                                                 new_experiment)\n",
    "from qcodes.dataset.sqlite.database import initialise_database\n",
    "from qcodes import load_or_create_experiment\n",
    "from qcodes.dataset.measurements import Measurement"
   ]
  },
  {
   "cell_type": "code",
   "execution_count": 3,
   "metadata": {},
   "outputs": [
    {
     "name": "stdout",
     "output_type": "stream",
     "text": [
      "\r",
      "0it [00:00, ?it/s]"
     ]
    },
    {
     "name": "stdout",
     "output_type": "stream",
     "text": [
      "\r",
      "Upgrading database; v0 -> v1: : 0it [00:00, ?it/s]"
     ]
    },
    {
     "name": "stdout",
     "output_type": "stream",
     "text": [
      "\r",
      "Upgrading database; v0 -> v1: : 0it [00:00, ?it/s]"
     ]
    },
    {
     "name": "stdout",
     "output_type": "stream",
     "text": [
      "\n",
      "\r",
      "  0%|          | 0/1 [00:00<?, ?it/s]"
     ]
    },
    {
     "name": "stdout",
     "output_type": "stream",
     "text": [
      "\r",
      "Upgrading database; v1 -> v2:   0%|          | 0/1 [00:00<?, ?it/s]"
     ]
    },
    {
     "name": "stdout",
     "output_type": "stream",
     "text": [
      "\r",
      "Upgrading database; v1 -> v2: 100%|██████████| 1/1 [00:00<00:00, 842.57it/s]"
     ]
    },
    {
     "name": "stdout",
     "output_type": "stream",
     "text": [
      "\n",
      "\r",
      "0it [00:00, ?it/s]"
     ]
    },
    {
     "name": "stdout",
     "output_type": "stream",
     "text": [
      "\r",
      "Upgrading database; v2 -> v3: : 0it [00:00, ?it/s]"
     ]
    },
    {
     "name": "stdout",
     "output_type": "stream",
     "text": [
      "\r",
      "Upgrading database; v2 -> v3: : 0it [00:00, ?it/s]"
     ]
    },
    {
     "name": "stdout",
     "output_type": "stream",
     "text": [
      "\n",
      "\r",
      "0it [00:00, ?it/s]"
     ]
    },
    {
     "name": "stdout",
     "output_type": "stream",
     "text": [
      "\r",
      "Upgrading database; v3 -> v4: : 0it [00:00, ?it/s]"
     ]
    },
    {
     "name": "stdout",
     "output_type": "stream",
     "text": [
      "\r",
      "Upgrading database; v3 -> v4: : 0it [00:00, ?it/s]"
     ]
    },
    {
     "name": "stdout",
     "output_type": "stream",
     "text": [
      "\n",
      "\r",
      "  0%|          | 0/1 [00:00<?, ?it/s]"
     ]
    },
    {
     "name": "stdout",
     "output_type": "stream",
     "text": [
      "\r",
      "Upgrading database; v4 -> v5:   0%|          | 0/1 [00:00<?, ?it/s]"
     ]
    },
    {
     "name": "stdout",
     "output_type": "stream",
     "text": [
      "\r",
      "Upgrading database; v4 -> v5: 100%|██████████| 1/1 [00:00<00:00, 1049.36it/s]"
     ]
    },
    {
     "name": "stdout",
     "output_type": "stream",
     "text": [
      "\n",
      "\r",
      "0it [00:00, ?it/s]"
     ]
    },
    {
     "name": "stdout",
     "output_type": "stream",
     "text": [
      "\r",
      "Upgrading database; v5 -> v6: : 0it [00:00, ?it/s]"
     ]
    },
    {
     "name": "stdout",
     "output_type": "stream",
     "text": [
      "\r",
      "Upgrading database; v5 -> v6: : 0it [00:00, ?it/s]"
     ]
    },
    {
     "name": "stdout",
     "output_type": "stream",
     "text": [
      "\n",
      "\r",
      "  0%|          | 0/1 [00:00<?, ?it/s]"
     ]
    },
    {
     "name": "stdout",
     "output_type": "stream",
     "text": [
      "\r",
      "Upgrading database; v6 -> v7:   0%|          | 0/1 [00:00<?, ?it/s]"
     ]
    },
    {
     "name": "stdout",
     "output_type": "stream",
     "text": [
      "\r",
      "Upgrading database; v6 -> v7: 100%|██████████| 1/1 [00:00<00:00, 132.95it/s]"
     ]
    },
    {
     "name": "stdout",
     "output_type": "stream",
     "text": [
      "\n",
      "\r",
      "  0%|          | 0/1 [00:00<?, ?it/s]"
     ]
    },
    {
     "name": "stdout",
     "output_type": "stream",
     "text": [
      "\r",
      "Upgrading database; v7 -> v8:   0%|          | 0/1 [00:00<?, ?it/s]"
     ]
    },
    {
     "name": "stdout",
     "output_type": "stream",
     "text": [
      "\r",
      "Upgrading database; v7 -> v8: 100%|██████████| 1/1 [00:00<00:00, 633.39it/s]"
     ]
    },
    {
     "name": "stdout",
     "output_type": "stream",
     "text": [
      "\n",
      "\r",
      "  0%|          | 0/1 [00:00<?, ?it/s]"
     ]
    },
    {
     "name": "stdout",
     "output_type": "stream",
     "text": [
      "\r",
      "Upgrading database; v8 -> v9:   0%|          | 0/1 [00:00<?, ?it/s]"
     ]
    },
    {
     "name": "stdout",
     "output_type": "stream",
     "text": [
      "\r",
      "Upgrading database; v8 -> v9: 100%|██████████| 1/1 [00:00<00:00, 778.31it/s]"
     ]
    },
    {
     "name": "stdout",
     "output_type": "stream",
     "text": [
      "\n"
     ]
    }
   ],
   "source": [
    "initialise_database()\n",
    "exp = load_or_create_experiment(experiment_name='tutorial_exp', sample_name=\"no sample\")"
   ]
  },
  {
   "cell_type": "markdown",
   "metadata": {},
   "source": [
    "Here, we define a simple function to benchmark the time it takes to insert n points with either numeric or array data type.\n",
    "We will compare both the time used to call ``add_result`` and the time used for the full measurement."
   ]
  },
  {
   "cell_type": "code",
   "execution_count": 4,
   "metadata": {},
   "outputs": [],
   "source": [
    "def insert_data(paramtype, npoints, nreps=1):\n",
    "\n",
    "    meas = Measurement(exp=exp)\n",
    "\n",
    "    x1 = ManualParameter('x1')\n",
    "    x2 = ManualParameter('x2')\n",
    "    x3 = ManualParameter('x3')\n",
    "    y1 = ManualParameter('y1')\n",
    "    y2 = ManualParameter('y2')\n",
    "\n",
    "    meas.register_parameter(x1, paramtype=paramtype)\n",
    "    meas.register_parameter(x2, paramtype=paramtype)\n",
    "    meas.register_parameter(x3, paramtype=paramtype)\n",
    "    meas.register_parameter(y1, setpoints=[x1, x2, x3],\n",
    "                            paramtype=paramtype)\n",
    "    meas.register_parameter(y2, setpoints=[x1, x2, x3],\n",
    "                            paramtype=paramtype)\n",
    "    start = time.perf_counter()\n",
    "    with meas.run() as datasaver:\n",
    "        start_adding = time.perf_counter()\n",
    "        for i in range(nreps):\n",
    "            datasaver.add_result((x1, np.random.rand(npoints)),\n",
    "                                 (x2, np.random.rand(npoints)),\n",
    "                                 (x3, np.random.rand(npoints)),\n",
    "                                 (y1, np.random.rand(npoints)),\n",
    "                                 (y2, np.random.rand(npoints)))\n",
    "        stop_adding = time.perf_counter()\n",
    "        run_id = datasaver.run_id\n",
    "    stop = time.perf_counter()\n",
    "    tot_time = stop - start\n",
    "    add_time = stop_adding - start_adding\n",
    "    return tot_time, add_time, run_id"
   ]
  },
  {
   "cell_type": "markdown",
   "metadata": {},
   "source": [
    "## Comparison between numeric/array data and binary blob"
   ]
  },
  {
   "cell_type": "markdown",
   "metadata": {},
   "source": [
    "### Case1: Short experiment time"
   ]
  },
  {
   "cell_type": "code",
   "execution_count": 5,
   "metadata": {},
   "outputs": [
    {
     "name": "stdout",
     "output_type": "stream",
     "text": [
      "Starting experimental run with id: 1. \n",
      "Starting experimental run with id: 2. \n",
      "Starting experimental run with id: 3. \n"
     ]
    },
    {
     "name": "stdout",
     "output_type": "stream",
     "text": [
      "Starting experimental run with id: 4. \n"
     ]
    },
    {
     "name": "stdout",
     "output_type": "stream",
     "text": [
      "Starting experimental run with id: 5. \n"
     ]
    },
    {
     "name": "stdout",
     "output_type": "stream",
     "text": [
      "Starting experimental run with id: 6. \n",
      "Starting experimental run with id: 7. \n"
     ]
    },
    {
     "name": "stdout",
     "output_type": "stream",
     "text": [
      "Starting experimental run with id: 8. \n",
      "Starting experimental run with id: 9. \n"
     ]
    },
    {
     "name": "stdout",
     "output_type": "stream",
     "text": [
      "Starting experimental run with id: 10. \n",
      "Starting experimental run with id: 11. \n"
     ]
    },
    {
     "name": "stdout",
     "output_type": "stream",
     "text": [
      "Starting experimental run with id: 12. \n",
      "Starting experimental run with id: 13. \n"
     ]
    },
    {
     "name": "stdout",
     "output_type": "stream",
     "text": [
      "Starting experimental run with id: 14. \n"
     ]
    }
   ],
   "source": [
    "sizes = [1,500,1000,2000,3000,4000,5000]\n",
    "t_numeric = []\n",
    "t_numeric_add = []\n",
    "t_array = []\n",
    "t_array_add = []\n",
    "for size in sizes:\n",
    "    tn, tna, run_id_n =  insert_data('numeric', size)\n",
    "    t_numeric.append(tn)\n",
    "    t_numeric_add.append(tna)\n",
    "\n",
    "    ta, taa, run_id_a =  insert_data('array', size)\n",
    "    t_array.append(ta)\n",
    "    t_array_add.append(taa)"
   ]
  },
  {
   "cell_type": "code",
   "execution_count": 6,
   "metadata": {},
   "outputs": [
    {
     "data": {
      "image/png": "[encoded data removed]",
      "text/plain": [
       "<Figure size 432x288 with 1 Axes>"
      ]
     },
     "metadata": {
      "needs_background": "light"
     },
     "output_type": "display_data"
    }
   ],
   "source": [
    "fig, ax = plt.subplots(1,1)\n",
    "ax.plot(sizes, t_numeric, 'o-', label='Inserting row-by-row')\n",
    "ax.plot(sizes, t_numeric_add, 'o-', label='Inserting row-by-row: add_result only')\n",
    "ax.plot(sizes, t_array, 'd-', label='Inserting as binary blob')\n",
    "ax.plot(sizes, t_array_add, 'd-', label='Inserting as binary blob: add_result only')\n",
    "ax.legend()\n",
    "ax.set_xlabel('Array length')\n",
    "ax.set_ylabel('Time (s)')\n",
    "fig.tight_layout()"
   ]
  },
  {
   "cell_type": "markdown",
   "metadata": {},
   "source": [
    "As shown in the latter figure, the time to setup and and close the experiment is approximately 0.4 sec. In case of small array sizes, the difference between inserting values of data as arrays and inserting them row-by-row is relatively unimportant. At larger array sizes, i.e. above 10000 points, the cost of writing data as individual datapoints starts to become important.\n"
   ]
  },
  {
   "cell_type": "markdown",
   "metadata": {},
   "source": [
    "### Case2: Long experiment time "
   ]
  },
  {
   "cell_type": "code",
   "execution_count": 7,
   "metadata": {},
   "outputs": [
    {
     "name": "stdout",
     "output_type": "stream",
     "text": [
      "Starting experimental run with id: 15. \n",
      "Starting experimental run with id: 16. \n",
      "Starting experimental run with id: 17. \n"
     ]
    },
    {
     "name": "stdout",
     "output_type": "stream",
     "text": [
      "Starting experimental run with id: 18. \n",
      "Starting experimental run with id: 19. \n"
     ]
    },
    {
     "name": "stdout",
     "output_type": "stream",
     "text": [
      "Starting experimental run with id: 20. \n"
     ]
    },
    {
     "name": "stdout",
     "output_type": "stream",
     "text": [
      "Starting experimental run with id: 21. \n"
     ]
    },
    {
     "name": "stdout",
     "output_type": "stream",
     "text": [
      "Starting experimental run with id: 22. \n"
     ]
    },
    {
     "name": "stdout",
     "output_type": "stream",
     "text": [
      "Starting experimental run with id: 23. \n"
     ]
    },
    {
     "name": "stdout",
     "output_type": "stream",
     "text": [
      "Starting experimental run with id: 24. \n"
     ]
    },
    {
     "name": "stdout",
     "output_type": "stream",
     "text": [
      "Starting experimental run with id: 25. \n"
     ]
    },
    {
     "name": "stdout",
     "output_type": "stream",
     "text": [
      "Starting experimental run with id: 26. \n"
     ]
    },
    {
     "name": "stdout",
     "output_type": "stream",
     "text": [
      "Starting experimental run with id: 27. \n"
     ]
    },
    {
     "name": "stdout",
     "output_type": "stream",
     "text": [
      "Starting experimental run with id: 28. \n"
     ]
    }
   ],
   "source": [
    "sizes = [1,500,1000,2000,3000,4000,5000]\n",
    "nreps = 100\n",
    "t_numeric = []\n",
    "t_numeric_add = []\n",
    "t_numeric_run_ids = []\n",
    "t_array = []\n",
    "t_array_add = []\n",
    "t_array_run_ids = []\n",
    "for size in sizes:\n",
    "    tn, tna, run_id_n =  insert_data('numeric', size, nreps=nreps)\n",
    "    t_numeric.append(tn)\n",
    "    t_numeric_add.append(tna)\n",
    "    t_numeric_run_ids.append(run_id_n)\n",
    "\n",
    "    ta, taa, run_id_a =  insert_data('array', size, nreps=nreps)\n",
    "    t_array.append(ta)\n",
    "    t_array_add.append(taa)\n",
    "    t_array_run_ids.append(run_id_a)"
   ]
  },
  {
   "cell_type": "code",
   "execution_count": 8,
   "metadata": {
    "scrolled": true
   },
   "outputs": [
    {
     "data": {
      "image/png": "[encoded data removed]",
      "text/plain": [
       "<Figure size 432x288 with 1 Axes>"
      ]
     },
     "metadata": {
      "needs_background": "light"
     },
     "output_type": "display_data"
    }
   ],
   "source": [
    "fig, ax = plt.subplots(1,1)\n",
    "ax.plot(sizes, t_numeric, 'o-', label='Inserting row-by-row')\n",
    "ax.plot(sizes, t_numeric_add, 'o-', label='Inserting row-by-row: add_result only')\n",
    "ax.plot(sizes, t_array, 'd-', label='Inserting as binary blob')\n",
    "ax.plot(sizes, t_array_add, 'd-', label='Inserting as binary blob: add_result only')\n",
    "ax.legend()\n",
    "ax.set_xlabel('Array length')\n",
    "ax.set_ylabel('Time (s)')\n",
    "fig.tight_layout()"
   ]
  },
  {
   "cell_type": "markdown",
   "metadata": {},
   "source": [
    "However, as we increase the length of the experiment, as seen here by repeating the insertion 100 times, we see a big difference between inserting values of the data row-by-row and inserting it as a binary blob."
   ]
  },
  {
   "cell_type": "markdown",
   "metadata": {},
   "source": [
    "## Loading the data "
   ]
  },
  {
   "cell_type": "code",
   "execution_count": 9,
   "metadata": {},
   "outputs": [],
   "source": [
    "from qcodes.dataset.data_set import load_by_id\n",
    "from qcodes.dataset.data_export import get_data_by_id"
   ]
  },
  {
   "cell_type": "markdown",
   "metadata": {},
   "source": [
    "As usual you can load the data by using the ``load_by_id`` function but you will notice that the different storage methods\n",
    "are reflected in shape of the data as it is retrieved. "
   ]
  },
  {
   "cell_type": "code",
   "execution_count": 10,
   "metadata": {},
   "outputs": [],
   "source": [
    "run_id_n = t_numeric_run_ids[0]\n",
    "run_id_a = t_array_run_ids[0]"
   ]
  },
  {
   "cell_type": "code",
   "execution_count": 11,
   "metadata": {
    "scrolled": true
   },
   "outputs": [
    {
     "data": {
      "text/plain": [
       "{'x1': {'x1': array([0.07991718, 0.07991718, 0.2443794 , 0.2443794 , 0.0409307 ,\n",
       "         0.0409307 , 0.88948584, 0.88948584, 0.09113253, 0.09113253,\n",
       "         0.67912543, 0.67912543, 0.18124499, 0.18124499, 0.58920157,\n",
       "         0.58920157, 0.138244  , 0.138244  , 0.3424941 , 0.3424941 ,\n",
       "         0.91459246, 0.91459246, 0.44054799, 0.44054799, 0.18328151,\n",
       "         0.18328151, 0.21286862, 0.21286862, 0.45955562, 0.45955562,\n",
       "         0.12897837, 0.12897837, 0.81689593, 0.81689593, 0.43039849,\n",
       "         0.43039849, 0.3673643 , 0.3673643 , 0.6220956 , 0.6220956 ,\n",
       "         0.29271331, 0.29271331, 0.94192242, 0.94192242, 0.34212136,\n",
       "         0.34212136, 0.77163233, 0.77163233, 0.90129778, 0.90129778,\n",
       "         0.32213523, 0.32213523, 0.93500849, 0.93500849, 0.88677635,\n",
       "         0.88677635, 0.71647464, 0.71647464, 0.71214863, 0.71214863,\n",
       "         0.29116843, 0.29116843, 0.01694139, 0.01694139, 0.46774043,\n",
       "         0.46774043, 0.83291084, 0.83291084, 0.07116096, 0.07116096,\n",
       "         0.08342002, 0.08342002, 0.75309658, 0.75309658, 0.76425063,\n",
       "         0.76425063, 0.50807831, 0.50807831, 0.67363604, 0.67363604,\n",
       "         0.35886376, 0.35886376, 0.5762032 , 0.5762032 , 0.60730812,\n",
       "         0.60730812, 0.1801561 , 0.1801561 , 0.70103137, 0.70103137,\n",
       "         0.5561304 , 0.5561304 , 0.47934518, 0.47934518, 0.25109293,\n",
       "         0.25109293, 0.57745936, 0.57745936, 0.64780419, 0.64780419,\n",
       "         0.69700355, 0.69700355, 0.47340552, 0.47340552, 0.58040355,\n",
       "         0.58040355, 0.79568045, 0.79568045, 0.95555952, 0.95555952,\n",
       "         0.89794528, 0.89794528, 0.19645815, 0.19645815, 0.79481118,\n",
       "         0.79481118, 0.4035182 , 0.4035182 , 0.41510564, 0.41510564,\n",
       "         0.70472291, 0.70472291, 0.91182225, 0.91182225, 0.75493749,\n",
       "         0.75493749, 0.1511229 , 0.1511229 , 0.63182378, 0.63182378,\n",
       "         0.22504383, 0.22504383, 0.89138283, 0.89138283, 0.31285365,\n",
       "         0.31285365, 0.11553163, 0.11553163, 0.34372716, 0.34372716,\n",
       "         0.77673575, 0.77673575, 0.32439634, 0.32439634, 0.61188005,\n",
       "         0.61188005, 0.31456065, 0.31456065, 0.51442641, 0.51442641,\n",
       "         0.62941905, 0.62941905, 0.98205144, 0.98205144, 0.5357081 ,\n",
       "         0.5357081 , 0.335802  , 0.335802  , 0.73971581, 0.73971581,\n",
       "         0.79540374, 0.79540374, 0.83463935, 0.83463935, 0.02437536,\n",
       "         0.02437536, 0.76586215, 0.76586215, 0.92980623, 0.92980623,\n",
       "         0.2202363 , 0.2202363 , 0.19666947, 0.19666947, 0.20774516,\n",
       "         0.20774516, 0.43162477, 0.43162477, 0.37685682, 0.37685682,\n",
       "         0.97461915, 0.97461915, 0.62245186, 0.62245186, 0.65555588,\n",
       "         0.65555588, 0.56757255, 0.56757255, 0.98595115, 0.98595115,\n",
       "         0.19070714, 0.19070714, 0.95495893, 0.95495893, 0.71131572,\n",
       "         0.71131572, 0.77662397, 0.77662397, 0.29237226, 0.29237226])}}"
      ]
     },
     "execution_count": 11,
     "metadata": {},
     "output_type": "execute_result"
    }
   ],
   "source": [
    "ds = load_by_id(run_id_n)\n",
    "ds.get_parameter_data('x1')"
   ]
  },
  {
   "cell_type": "markdown",
   "metadata": {},
   "source": [
    "And a dataset stored as binary arrays"
   ]
  },
  {
   "cell_type": "code",
   "execution_count": 12,
   "metadata": {
    "scrolled": true
   },
   "outputs": [
    {
     "data": {
      "text/plain": [
       "{'x1': {'x1': array([[0.55228887],\n",
       "         [0.55228887],\n",
       "         [0.95195605],\n",
       "         [0.95195605],\n",
       "         [0.77746863],\n",
       "         [0.77746863],\n",
       "         [0.85227459],\n",
       "         [0.85227459],\n",
       "         [0.15777332],\n",
       "         [0.15777332],\n",
       "         [0.74380133],\n",
       "         [0.74380133],\n",
       "         [0.67413627],\n",
       "         [0.67413627],\n",
       "         [0.13495516],\n",
       "         [0.13495516],\n",
       "         [0.50012216],\n",
       "         [0.50012216],\n",
       "         [0.97346344],\n",
       "         [0.97346344],\n",
       "         [0.96224951],\n",
       "         [0.96224951],\n",
       "         [0.51482856],\n",
       "         [0.51482856],\n",
       "         [0.32006584],\n",
       "         [0.32006584],\n",
       "         [0.65205437],\n",
       "         [0.65205437],\n",
       "         [0.59422829],\n",
       "         [0.59422829],\n",
       "         [0.98733271],\n",
       "         [0.98733271],\n",
       "         [0.99565454],\n",
       "         [0.99565454],\n",
       "         [0.20131068],\n",
       "         [0.20131068],\n",
       "         [0.72496168],\n",
       "         [0.72496168],\n",
       "         [0.45571659],\n",
       "         [0.45571659],\n",
       "         [0.40070286],\n",
       "         [0.40070286],\n",
       "         [0.54608769],\n",
       "         [0.54608769],\n",
       "         [0.1248434 ],\n",
       "         [0.1248434 ],\n",
       "         [0.16155797],\n",
       "         [0.16155797],\n",
       "         [0.38593222],\n",
       "         [0.38593222],\n",
       "         [0.19959093],\n",
       "         [0.19959093],\n",
       "         [0.19387237],\n",
       "         [0.19387237],\n",
       "         [0.7688069 ],\n",
       "         [0.7688069 ],\n",
       "         [0.00188801],\n",
       "         [0.00188801],\n",
       "         [0.22708232],\n",
       "         [0.22708232],\n",
       "         [0.0084963 ],\n",
       "         [0.0084963 ],\n",
       "         [0.55918056],\n",
       "         [0.55918056],\n",
       "         [0.68709631],\n",
       "         [0.68709631],\n",
       "         [0.99860341],\n",
       "         [0.99860341],\n",
       "         [0.94452727],\n",
       "         [0.94452727],\n",
       "         [0.8891379 ],\n",
       "         [0.8891379 ],\n",
       "         [0.45296321],\n",
       "         [0.45296321],\n",
       "         [0.01626192],\n",
       "         [0.01626192],\n",
       "         [0.67470611],\n",
       "         [0.67470611],\n",
       "         [0.3314481 ],\n",
       "         [0.3314481 ],\n",
       "         [0.32990138],\n",
       "         [0.32990138],\n",
       "         [0.59022534],\n",
       "         [0.59022534],\n",
       "         [0.78467272],\n",
       "         [0.78467272],\n",
       "         [0.59942457],\n",
       "         [0.59942457],\n",
       "         [0.38795471],\n",
       "         [0.38795471],\n",
       "         [0.83701606],\n",
       "         [0.83701606],\n",
       "         [0.24346246],\n",
       "         [0.24346246],\n",
       "         [0.61466961],\n",
       "         [0.61466961],\n",
       "         [0.65187935],\n",
       "         [0.65187935],\n",
       "         [0.96366437],\n",
       "         [0.96366437],\n",
       "         [0.75858175],\n",
       "         [0.75858175],\n",
       "         [0.04788853],\n",
       "         [0.04788853],\n",
       "         [0.72992122],\n",
       "         [0.72992122],\n",
       "         [0.63087412],\n",
       "         [0.63087412],\n",
       "         [0.07619093],\n",
       "         [0.07619093],\n",
       "         [0.0423008 ],\n",
       "         [0.0423008 ],\n",
       "         [0.76486284],\n",
       "         [0.76486284],\n",
       "         [0.43582787],\n",
       "         [0.43582787],\n",
       "         [0.57768945],\n",
       "         [0.57768945],\n",
       "         [0.48783063],\n",
       "         [0.48783063],\n",
       "         [0.25686831],\n",
       "         [0.25686831],\n",
       "         [0.15349038],\n",
       "         [0.15349038],\n",
       "         [0.26183735],\n",
       "         [0.26183735],\n",
       "         [0.2620654 ],\n",
       "         [0.2620654 ],\n",
       "         [0.15152577],\n",
       "         [0.15152577],\n",
       "         [0.54578341],\n",
       "         [0.54578341],\n",
       "         [0.92888009],\n",
       "         [0.92888009],\n",
       "         [0.0412865 ],\n",
       "         [0.0412865 ],\n",
       "         [0.56937173],\n",
       "         [0.56937173],\n",
       "         [0.4337435 ],\n",
       "         [0.4337435 ],\n",
       "         [0.72158722],\n",
       "         [0.72158722],\n",
       "         [0.14863766],\n",
       "         [0.14863766],\n",
       "         [0.57262234],\n",
       "         [0.57262234],\n",
       "         [0.69349057],\n",
       "         [0.69349057],\n",
       "         [0.01008168],\n",
       "         [0.01008168],\n",
       "         [0.75090075],\n",
       "         [0.75090075],\n",
       "         [0.66678873],\n",
       "         [0.66678873],\n",
       "         [0.88909756],\n",
       "         [0.88909756],\n",
       "         [0.37105054],\n",
       "         [0.37105054],\n",
       "         [0.06588215],\n",
       "         [0.06588215],\n",
       "         [0.98373972],\n",
       "         [0.98373972],\n",
       "         [0.22343759],\n",
       "         [0.22343759],\n",
       "         [0.10704459],\n",
       "         [0.10704459],\n",
       "         [0.97054451],\n",
       "         [0.97054451],\n",
       "         [0.32000577],\n",
       "         [0.32000577],\n",
       "         [0.33336476],\n",
       "         [0.33336476],\n",
       "         [0.93690298],\n",
       "         [0.93690298],\n",
       "         [0.60943025],\n",
       "         [0.60943025],\n",
       "         [0.33449189],\n",
       "         [0.33449189],\n",
       "         [0.07378746],\n",
       "         [0.07378746],\n",
       "         [0.96239519],\n",
       "         [0.96239519],\n",
       "         [0.16437352],\n",
       "         [0.16437352],\n",
       "         [0.15168797],\n",
       "         [0.15168797],\n",
       "         [0.44370505],\n",
       "         [0.44370505],\n",
       "         [0.65884254],\n",
       "         [0.65884254],\n",
       "         [0.9110005 ],\n",
       "         [0.9110005 ],\n",
       "         [0.31779563],\n",
       "         [0.31779563],\n",
       "         [0.12604686],\n",
       "         [0.12604686],\n",
       "         [0.98548652],\n",
       "         [0.98548652],\n",
       "         [0.00644083],\n",
       "         [0.00644083]])}}"
      ]
     },
     "execution_count": 12,
     "metadata": {},
     "output_type": "execute_result"
    }
   ],
   "source": [
    "ds = load_by_id(run_id_a)\n",
    "ds.get_parameter_data('x1')"
   ]
  },
  {
   "cell_type": "code",
   "execution_count": null,
   "metadata": {},
   "outputs": [],
   "source": []
  }
 ],
 "metadata": {
  "kernelspec": {
   "display_name": "Python 3",
   "language": "python",
   "name": "python3"
  },
  "language_info": {
   "codemirror_mode": {
    "name": "ipython",
    "version": 3
   },
   "file_extension": ".py",
   "mimetype": "text/x-python",
   "name": "python",
   "nbconvert_exporter": "python",
   "pygments_lexer": "ipython3",
   "version": "3.7.7"
  },
  "nbsphinx": {
   "timeout": 600
  },
  "toc": {
   "base_numbering": 1,
   "nav_menu": {},
   "number_sections": true,
   "sideBar": true,
   "skip_h1_title": false,
   "title_cell": "Table of Contents",
   "title_sidebar": "Contents",
   "toc_cell": false,
   "toc_position": {},
   "toc_section_display": true,
   "toc_window_display": false
  },
  "varInspector": {
   "cols": {
    "lenName": 16,
    "lenType": 16,
    "lenVar": 40
   },
   "kernels_config": {
    "python": {
     "delete_cmd_postfix": "",
     "delete_cmd_prefix": "del ",
     "library": "var_list.py",
     "varRefreshCmd": "print(var_dic_list())"
    },
    "r": {
     "delete_cmd_postfix": ") ",
     "delete_cmd_prefix": "rm(",
     "library": "var_list.r",
     "varRefreshCmd": "cat(var_dic_list()) "
    }
   },
   "types_to_exclude": [
    "module",
    "function",
    "builtin_function_or_method",
    "instance",
    "_Feature"
   ],
   "window_display": false
  }
 },
 "nbformat": 4,
 "nbformat_minor": 2
}
