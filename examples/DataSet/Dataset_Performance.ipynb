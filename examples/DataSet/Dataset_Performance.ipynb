{
 "cells": [
  {
   "cell_type": "markdown",
   "metadata": {},
   "source": [
    "# DataSet Performance\n",
    "\n",
    "This notebook shows the trade-off between inserting data into a database row-by-row and as binary blobs. Inserting the data row-by-row means that we have direct access to all the data and may perform queries directly on the values of the data. On the other hand, as we shall see, this is much slower than inserting the data directly as binary blobs."
   ]
  },
  {
   "cell_type": "markdown",
   "metadata": {},
   "source": [
    "First, we choose a new location for the database to ensure that we don't add a bunch of benchmarking data to the default one."
   ]
  },
  {
   "cell_type": "code",
   "execution_count": 1,
   "metadata": {
    "execution": {
     "iopub.execute_input": "2020-11-03T06:58:10.005029Z",
     "iopub.status.busy": "2020-11-03T06:58:10.004313Z",
     "iopub.status.idle": "2020-11-03T06:58:10.826020Z",
     "shell.execute_reply": "2020-11-03T06:58:10.825452Z"
    }
   },
   "outputs": [
    {
     "name": "stdout",
     "output_type": "stream",
     "text": [
      "Logging hadn't been started.\n",
      "Activating auto-logging. Current session state plus future input saved.\n",
      "Filename       : /home/vsts/.qcodes/logs/command_history.log\n",
      "Mode           : append\n",
      "Output logging : True\n",
      "Raw input log  : False\n",
      "Timestamping   : True\n",
      "State          : active\n"
     ]
    },
    {
     "name": "stdout",
     "output_type": "stream",
     "text": [
      "Qcodes Logfile : /home/vsts/.qcodes/logs/201103-14294-qcodes.log\n"
     ]
    }
   ],
   "source": [
    "import os\n",
    "cwd = os.getcwd()\n",
    "import qcodes as qc\n",
    "qc.config[\"core\"][\"db_location\"] = os.path.join(cwd, 'testing.db')\n"
   ]
  },
  {
   "cell_type": "code",
   "execution_count": 2,
   "metadata": {
    "execution": {
     "iopub.execute_input": "2020-11-03T06:58:10.833224Z",
     "iopub.status.busy": "2020-11-03T06:58:10.832371Z",
     "iopub.status.idle": "2020-11-03T06:58:10.979180Z",
     "shell.execute_reply": "2020-11-03T06:58:10.978290Z"
    }
   },
   "outputs": [],
   "source": [
    "%matplotlib inline\n",
    "import time\n",
    "import matplotlib.pyplot as plt\n",
    "import numpy as np\n",
    "\n",
    "import qcodes as qc\n",
    "from qcodes.instrument.parameter import ManualParameter\n",
    "from qcodes.dataset.experiment_container import (Experiment,\n",
    "                                                 load_last_experiment,\n",
    "                                                 new_experiment)\n",
    "from qcodes.dataset.sqlite.database import initialise_database\n",
    "from qcodes import load_or_create_experiment\n",
    "from qcodes.dataset.measurements import Measurement"
   ]
  },
  {
   "cell_type": "code",
   "execution_count": 3,
   "metadata": {
    "execution": {
     "iopub.execute_input": "2020-11-03T06:58:10.983681Z",
     "iopub.status.busy": "2020-11-03T06:58:10.982821Z",
     "iopub.status.idle": "2020-11-03T06:58:11.076231Z",
     "shell.execute_reply": "2020-11-03T06:58:11.075807Z"
    }
   },
   "outputs": [
    {
     "name": "stdout",
     "output_type": "stream",
     "text": [
      "\r",
      "0it [00:00, ?it/s]"
     ]
    },
    {
     "name": "stdout",
     "output_type": "stream",
     "text": [
      "\r",
      "Upgrading database; v0 -> v1: : 0it [00:00, ?it/s]"
     ]
    },
    {
     "name": "stdout",
     "output_type": "stream",
     "text": [
      "\r",
      "Upgrading database; v0 -> v1: : 0it [00:00, ?it/s]"
     ]
    },
    {
     "name": "stdout",
     "output_type": "stream",
     "text": [
      "\n",
      "\r",
      "  0%|          | 0/1 [00:00<?, ?it/s]"
     ]
    },
    {
     "name": "stdout",
     "output_type": "stream",
     "text": [
      "\r",
      "Upgrading database; v1 -> v2:   0%|          | 0/1 [00:00<?, ?it/s]"
     ]
    },
    {
     "name": "stdout",
     "output_type": "stream",
     "text": [
      "\r",
      "Upgrading database; v1 -> v2: 100%|██████████| 1/1 [00:00<00:00, 1337.90it/s]"
     ]
    },
    {
     "name": "stdout",
     "output_type": "stream",
     "text": [
      "\n",
      "\r",
      "0it [00:00, ?it/s]"
     ]
    },
    {
     "name": "stdout",
     "output_type": "stream",
     "text": [
      "\r",
      "Upgrading database; v2 -> v3: : 0it [00:00, ?it/s]"
     ]
    },
    {
     "name": "stdout",
     "output_type": "stream",
     "text": [
      "\r",
      "Upgrading database; v2 -> v3: : 0it [00:00, ?it/s]"
     ]
    },
    {
     "name": "stdout",
     "output_type": "stream",
     "text": [
      "\n",
      "\r",
      "0it [00:00, ?it/s]"
     ]
    },
    {
     "name": "stdout",
     "output_type": "stream",
     "text": [
      "\r",
      "Upgrading database; v3 -> v4: : 0it [00:00, ?it/s]"
     ]
    },
    {
     "name": "stdout",
     "output_type": "stream",
     "text": [
      "\r",
      "Upgrading database; v3 -> v4: : 0it [00:00, ?it/s]"
     ]
    },
    {
     "name": "stdout",
     "output_type": "stream",
     "text": [
      "\n",
      "\r",
      "  0%|          | 0/1 [00:00<?, ?it/s]"
     ]
    },
    {
     "name": "stdout",
     "output_type": "stream",
     "text": [
      "\r",
      "Upgrading database; v4 -> v5:   0%|          | 0/1 [00:00<?, ?it/s]"
     ]
    },
    {
     "name": "stdout",
     "output_type": "stream",
     "text": [
      "\r",
      "Upgrading database; v4 -> v5: 100%|██████████| 1/1 [00:00<00:00, 615.00it/s]"
     ]
    },
    {
     "name": "stdout",
     "output_type": "stream",
     "text": [
      "\n",
      "\r",
      "0it [00:00, ?it/s]"
     ]
    },
    {
     "name": "stdout",
     "output_type": "stream",
     "text": [
      "\r",
      "Upgrading database; v5 -> v6: : 0it [00:00, ?it/s]"
     ]
    },
    {
     "name": "stdout",
     "output_type": "stream",
     "text": [
      "\r",
      "Upgrading database; v5 -> v6: : 0it [00:00, ?it/s]"
     ]
    },
    {
     "name": "stdout",
     "output_type": "stream",
     "text": [
      "\n",
      "\r",
      "  0%|          | 0/1 [00:00<?, ?it/s]"
     ]
    },
    {
     "name": "stdout",
     "output_type": "stream",
     "text": [
      "\r",
      "Upgrading database; v6 -> v7:   0%|          | 0/1 [00:00<?, ?it/s]"
     ]
    },
    {
     "name": "stdout",
     "output_type": "stream",
     "text": [
      "\r",
      "Upgrading database; v6 -> v7: 100%|██████████| 1/1 [00:00<00:00, 522.20it/s]"
     ]
    },
    {
     "name": "stdout",
     "output_type": "stream",
     "text": [
      "\n",
      "\r",
      "  0%|          | 0/1 [00:00<?, ?it/s]"
     ]
    },
    {
     "name": "stdout",
     "output_type": "stream",
     "text": [
      "\r",
      "Upgrading database; v7 -> v8:   0%|          | 0/1 [00:00<?, ?it/s]"
     ]
    },
    {
     "name": "stdout",
     "output_type": "stream",
     "text": [
      "\r",
      "Upgrading database; v7 -> v8: 100%|██████████| 1/1 [00:00<00:00, 527.06it/s]"
     ]
    },
    {
     "name": "stdout",
     "output_type": "stream",
     "text": [
      "\n",
      "\r",
      "  0%|          | 0/1 [00:00<?, ?it/s]"
     ]
    },
    {
     "name": "stdout",
     "output_type": "stream",
     "text": [
      "\r",
      "Upgrading database; v8 -> v9:   0%|          | 0/1 [00:00<?, ?it/s]"
     ]
    },
    {
     "name": "stdout",
     "output_type": "stream",
     "text": [
      "\r",
      "Upgrading database; v8 -> v9: 100%|██████████| 1/1 [00:00<00:00, 630.34it/s]"
     ]
    },
    {
     "name": "stdout",
     "output_type": "stream",
     "text": [
      "\n"
     ]
    }
   ],
   "source": [
    "initialise_database()\n",
    "exp = load_or_create_experiment(experiment_name='tutorial_exp', sample_name=\"no sample\")"
   ]
  },
  {
   "cell_type": "markdown",
   "metadata": {},
   "source": [
    "Here, we define a simple function to benchmark the time it takes to insert n points with either numeric or array data type.\n",
    "We will compare both the time used to call ``add_result`` and the time used for the full measurement."
   ]
  },
  {
   "cell_type": "code",
   "execution_count": 4,
   "metadata": {
    "execution": {
     "iopub.execute_input": "2020-11-03T06:58:11.083956Z",
     "iopub.status.busy": "2020-11-03T06:58:11.083050Z",
     "iopub.status.idle": "2020-11-03T06:58:11.084434Z",
     "shell.execute_reply": "2020-11-03T06:58:11.084771Z"
    }
   },
   "outputs": [],
   "source": [
    "def insert_data(paramtype, npoints, nreps=1):\n",
    "\n",
    "    meas = Measurement(exp=exp)\n",
    "\n",
    "    x1 = ManualParameter('x1')\n",
    "    x2 = ManualParameter('x2')\n",
    "    x3 = ManualParameter('x3')\n",
    "    y1 = ManualParameter('y1')\n",
    "    y2 = ManualParameter('y2')\n",
    "\n",
    "    meas.register_parameter(x1, paramtype=paramtype)\n",
    "    meas.register_parameter(x2, paramtype=paramtype)\n",
    "    meas.register_parameter(x3, paramtype=paramtype)\n",
    "    meas.register_parameter(y1, setpoints=[x1, x2, x3],\n",
    "                            paramtype=paramtype)\n",
    "    meas.register_parameter(y2, setpoints=[x1, x2, x3],\n",
    "                            paramtype=paramtype)\n",
    "    start = time.perf_counter()\n",
    "    with meas.run() as datasaver:\n",
    "        start_adding = time.perf_counter()\n",
    "        for i in range(nreps):\n",
    "            datasaver.add_result((x1, np.random.rand(npoints)),\n",
    "                                 (x2, np.random.rand(npoints)),\n",
    "                                 (x3, np.random.rand(npoints)),\n",
    "                                 (y1, np.random.rand(npoints)),\n",
    "                                 (y2, np.random.rand(npoints)))\n",
    "        stop_adding = time.perf_counter()\n",
    "        run_id = datasaver.run_id\n",
    "    stop = time.perf_counter()\n",
    "    tot_time = stop - start\n",
    "    add_time = stop_adding - start_adding\n",
    "    return tot_time, add_time, run_id"
   ]
  },
  {
   "cell_type": "markdown",
   "metadata": {},
   "source": [
    "## Comparison between numeric/array data and binary blob"
   ]
  },
  {
   "cell_type": "markdown",
   "metadata": {},
   "source": [
    "### Case1: Short experiment time"
   ]
  },
  {
   "cell_type": "code",
   "execution_count": 5,
   "metadata": {
    "execution": {
     "iopub.execute_input": "2020-11-03T06:58:11.089913Z",
     "iopub.status.busy": "2020-11-03T06:58:11.089297Z",
     "iopub.status.idle": "2020-11-03T06:58:11.767746Z",
     "shell.execute_reply": "2020-11-03T06:58:11.767196Z"
    }
   },
   "outputs": [
    {
     "name": "stdout",
     "output_type": "stream",
     "text": [
      "Starting experimental run with id: 1. \n",
      "Starting experimental run with id: 2. \n",
      "Starting experimental run with id: 3. \n",
      "Starting experimental run with id: 4. \n",
      "Starting experimental run with id: 5. \n",
      "Starting experimental run with id: 6. \n"
     ]
    },
    {
     "name": "stdout",
     "output_type": "stream",
     "text": [
      "Starting experimental run with id: 7. \n"
     ]
    },
    {
     "name": "stdout",
     "output_type": "stream",
     "text": [
      "Starting experimental run with id: 8. \n"
     ]
    },
    {
     "name": "stdout",
     "output_type": "stream",
     "text": [
      "Starting experimental run with id: 9. \n",
      "Starting experimental run with id: 10. \n"
     ]
    },
    {
     "name": "stdout",
     "output_type": "stream",
     "text": [
      "Starting experimental run with id: 11. \n"
     ]
    },
    {
     "name": "stdout",
     "output_type": "stream",
     "text": [
      "Starting experimental run with id: 12. \n",
      "Starting experimental run with id: 13. \n"
     ]
    },
    {
     "name": "stdout",
     "output_type": "stream",
     "text": [
      "Starting experimental run with id: 14. \n"
     ]
    }
   ],
   "source": [
    "sizes = [1,500,1000,2000,3000,4000,5000]\n",
    "t_numeric = []\n",
    "t_numeric_add = []\n",
    "t_array = []\n",
    "t_array_add = []\n",
    "for size in sizes:\n",
    "    tn, tna, run_id_n =  insert_data('numeric', size)\n",
    "    t_numeric.append(tn)\n",
    "    t_numeric_add.append(tna)\n",
    "\n",
    "    ta, taa, run_id_a =  insert_data('array', size)\n",
    "    t_array.append(ta)\n",
    "    t_array_add.append(taa)"
   ]
  },
  {
   "cell_type": "code",
   "execution_count": 6,
   "metadata": {
    "execution": {
     "iopub.execute_input": "2020-11-03T06:58:11.780803Z",
     "iopub.status.busy": "2020-11-03T06:58:11.771346Z",
     "iopub.status.idle": "2020-11-03T06:58:11.930356Z",
     "shell.execute_reply": "2020-11-03T06:58:11.930676Z"
    }
   },
   "outputs": [
    {
     "data": {
      "image/png": "[encoded data removed]",
      "text/plain": [
       "<Figure size 432x288 with 1 Axes>"
      ]
     },
     "metadata": {
      "needs_background": "light"
     },
     "output_type": "display_data"
    }
   ],
   "source": [
    "fig, ax = plt.subplots(1,1)\n",
    "ax.plot(sizes, t_numeric, 'o-', label='Inserting row-by-row')\n",
    "ax.plot(sizes, t_numeric_add, 'o-', label='Inserting row-by-row: add_result only')\n",
    "ax.plot(sizes, t_array, 'd-', label='Inserting as binary blob')\n",
    "ax.plot(sizes, t_array_add, 'd-', label='Inserting as binary blob: add_result only')\n",
    "ax.legend()\n",
    "ax.set_xlabel('Array length')\n",
    "ax.set_ylabel('Time (s)')\n",
    "fig.tight_layout()"
   ]
  },
  {
   "cell_type": "markdown",
   "metadata": {},
   "source": [
    "As shown in the latter figure, the time to setup and and close the experiment is approximately 0.4 sec. In case of small array sizes, the difference between inserting values of data as arrays and inserting them row-by-row is relatively unimportant. At larger array sizes, i.e. above 10000 points, the cost of writing data as individual datapoints starts to become important.\n"
   ]
  },
  {
   "cell_type": "markdown",
   "metadata": {},
   "source": [
    "### Case2: Long experiment time "
   ]
  },
  {
   "cell_type": "code",
   "execution_count": 7,
   "metadata": {
    "execution": {
     "iopub.execute_input": "2020-11-03T06:58:11.932649Z",
     "iopub.status.busy": "2020-11-03T06:58:11.932246Z",
     "iopub.status.idle": "2020-11-03T06:59:02.747488Z",
     "shell.execute_reply": "2020-11-03T06:59:02.748280Z"
    }
   },
   "outputs": [
    {
     "name": "stdout",
     "output_type": "stream",
     "text": [
      "Starting experimental run with id: 15. \n"
     ]
    },
    {
     "name": "stdout",
     "output_type": "stream",
     "text": [
      "Starting experimental run with id: 16. \n",
      "Starting experimental run with id: 17. \n"
     ]
    },
    {
     "name": "stdout",
     "output_type": "stream",
     "text": [
      "Starting experimental run with id: 18. \n",
      "Starting experimental run with id: 19. \n"
     ]
    },
    {
     "name": "stdout",
     "output_type": "stream",
     "text": [
      "Starting experimental run with id: 20. \n"
     ]
    },
    {
     "name": "stdout",
     "output_type": "stream",
     "text": [
      "Starting experimental run with id: 21. \n"
     ]
    },
    {
     "name": "stdout",
     "output_type": "stream",
     "text": [
      "Starting experimental run with id: 22. \n"
     ]
    },
    {
     "name": "stdout",
     "output_type": "stream",
     "text": [
      "Starting experimental run with id: 23. \n"
     ]
    },
    {
     "name": "stdout",
     "output_type": "stream",
     "text": [
      "Starting experimental run with id: 24. \n"
     ]
    },
    {
     "name": "stdout",
     "output_type": "stream",
     "text": [
      "Starting experimental run with id: 25. \n"
     ]
    },
    {
     "name": "stdout",
     "output_type": "stream",
     "text": [
      "Starting experimental run with id: 26. \n"
     ]
    },
    {
     "name": "stdout",
     "output_type": "stream",
     "text": [
      "Starting experimental run with id: 27. \n"
     ]
    },
    {
     "name": "stdout",
     "output_type": "stream",
     "text": [
      "Starting experimental run with id: 28. \n"
     ]
    }
   ],
   "source": [
    "sizes = [1,500,1000,2000,3000,4000,5000]\n",
    "nreps = 100\n",
    "t_numeric = []\n",
    "t_numeric_add = []\n",
    "t_numeric_run_ids = []\n",
    "t_array = []\n",
    "t_array_add = []\n",
    "t_array_run_ids = []\n",
    "for size in sizes:\n",
    "    tn, tna, run_id_n =  insert_data('numeric', size, nreps=nreps)\n",
    "    t_numeric.append(tn)\n",
    "    t_numeric_add.append(tna)\n",
    "    t_numeric_run_ids.append(run_id_n)\n",
    "\n",
    "    ta, taa, run_id_a =  insert_data('array', size, nreps=nreps)\n",
    "    t_array.append(ta)\n",
    "    t_array_add.append(taa)\n",
    "    t_array_run_ids.append(run_id_a)"
   ]
  },
  {
   "cell_type": "code",
   "execution_count": 8,
   "metadata": {
    "execution": {
     "iopub.execute_input": "2020-11-03T06:59:02.784197Z",
     "iopub.status.busy": "2020-11-03T06:59:02.783353Z",
     "iopub.status.idle": "2020-11-03T06:59:02.911469Z",
     "shell.execute_reply": "2020-11-03T06:59:02.911869Z"
    },
    "scrolled": true
   },
   "outputs": [
    {
     "data": {
      "image/png": "[encoded data removed]",
      "text/plain": [
       "<Figure size 432x288 with 1 Axes>"
      ]
     },
     "metadata": {
      "needs_background": "light"
     },
     "output_type": "display_data"
    }
   ],
   "source": [
    "fig, ax = plt.subplots(1,1)\n",
    "ax.plot(sizes, t_numeric, 'o-', label='Inserting row-by-row')\n",
    "ax.plot(sizes, t_numeric_add, 'o-', label='Inserting row-by-row: add_result only')\n",
    "ax.plot(sizes, t_array, 'd-', label='Inserting as binary blob')\n",
    "ax.plot(sizes, t_array_add, 'd-', label='Inserting as binary blob: add_result only')\n",
    "ax.legend()\n",
    "ax.set_xlabel('Array length')\n",
    "ax.set_ylabel('Time (s)')\n",
    "fig.tight_layout()"
   ]
  },
  {
   "cell_type": "markdown",
   "metadata": {},
   "source": [
    "However, as we increase the length of the experiment, as seen here by repeating the insertion 100 times, we see a big difference between inserting values of the data row-by-row and inserting it as a binary blob."
   ]
  },
  {
   "cell_type": "markdown",
   "metadata": {},
   "source": [
    "## Loading the data "
   ]
  },
  {
   "cell_type": "code",
   "execution_count": 9,
   "metadata": {
    "execution": {
     "iopub.execute_input": "2020-11-03T06:59:02.914183Z",
     "iopub.status.busy": "2020-11-03T06:59:02.913713Z",
     "iopub.status.idle": "2020-11-03T06:59:02.916420Z",
     "shell.execute_reply": "2020-11-03T06:59:02.916801Z"
    }
   },
   "outputs": [],
   "source": [
    "from qcodes.dataset.data_set import load_by_id\n",
    "from qcodes.dataset.data_export import get_data_by_id"
   ]
  },
  {
   "cell_type": "markdown",
   "metadata": {},
   "source": [
    "As usual you can load the data by using the ``load_by_id`` function but you will notice that the different storage methods\n",
    "are reflected in shape of the data as it is retrieved. "
   ]
  },
  {
   "cell_type": "code",
   "execution_count": 10,
   "metadata": {
    "execution": {
     "iopub.execute_input": "2020-11-03T06:59:02.918850Z",
     "iopub.status.busy": "2020-11-03T06:59:02.918236Z",
     "iopub.status.idle": "2020-11-03T06:59:02.920369Z",
     "shell.execute_reply": "2020-11-03T06:59:02.920757Z"
    }
   },
   "outputs": [],
   "source": [
    "run_id_n = t_numeric_run_ids[0]\n",
    "run_id_a = t_array_run_ids[0]"
   ]
  },
  {
   "cell_type": "code",
   "execution_count": 11,
   "metadata": {
    "execution": {
     "iopub.execute_input": "2020-11-03T06:59:02.922501Z",
     "iopub.status.busy": "2020-11-03T06:59:02.922105Z",
     "iopub.status.idle": "2020-11-03T06:59:02.929776Z",
     "shell.execute_reply": "2020-11-03T06:59:02.930167Z"
    },
    "scrolled": true
   },
   "outputs": [
    {
     "data": {
      "text/plain": [
       "{'x1': {'x1': array([0.83528965, 0.83528965, 0.57490562, 0.57490562, 0.16871121,\n",
       "         0.16871121, 0.42261456, 0.42261456, 0.06227775, 0.06227775,\n",
       "         0.91571805, 0.91571805, 0.23663752, 0.23663752, 0.69700484,\n",
       "         0.69700484, 0.29753203, 0.29753203, 0.88776261, 0.88776261,\n",
       "         0.98274282, 0.98274282, 0.06749221, 0.06749221, 0.14642625,\n",
       "         0.14642625, 0.36670018, 0.36670018, 0.42472585, 0.42472585,\n",
       "         0.72871063, 0.72871063, 0.43441269, 0.43441269, 0.92621349,\n",
       "         0.92621349, 0.46923818, 0.46923818, 0.82476607, 0.82476607,\n",
       "         0.38670737, 0.38670737, 0.57202603, 0.57202603, 0.82087074,\n",
       "         0.82087074, 0.37082337, 0.37082337, 0.71728366, 0.71728366,\n",
       "         0.18802462, 0.18802462, 0.53165815, 0.53165815, 0.77105497,\n",
       "         0.77105497, 0.33776076, 0.33776076, 0.32105767, 0.32105767,\n",
       "         0.13681974, 0.13681974, 0.32068026, 0.32068026, 0.31546125,\n",
       "         0.31546125, 0.74494817, 0.74494817, 0.18583431, 0.18583431,\n",
       "         0.05298175, 0.05298175, 0.9802074 , 0.9802074 , 0.89875503,\n",
       "         0.89875503, 0.95228382, 0.95228382, 0.29134356, 0.29134356,\n",
       "         0.11589507, 0.11589507, 0.19925678, 0.19925678, 0.68892033,\n",
       "         0.68892033, 0.63064407, 0.63064407, 0.18769972, 0.18769972,\n",
       "         0.50902402, 0.50902402, 0.35375827, 0.35375827, 0.89517407,\n",
       "         0.89517407, 0.68769893, 0.68769893, 0.8388242 , 0.8388242 ,\n",
       "         0.39955764, 0.39955764, 0.19507692, 0.19507692, 0.6978746 ,\n",
       "         0.6978746 , 0.59738847, 0.59738847, 0.14100604, 0.14100604,\n",
       "         0.00898251, 0.00898251, 0.71013993, 0.71013993, 0.04100481,\n",
       "         0.04100481, 0.67817588, 0.67817588, 0.28289421, 0.28289421,\n",
       "         0.55612002, 0.55612002, 0.83915104, 0.83915104, 0.48054836,\n",
       "         0.48054836, 0.2063656 , 0.2063656 , 0.89804161, 0.89804161,\n",
       "         0.33572634, 0.33572634, 0.63348347, 0.63348347, 0.82567576,\n",
       "         0.82567576, 0.04903344, 0.04903344, 0.66963896, 0.66963896,\n",
       "         0.84318652, 0.84318652, 0.14717922, 0.14717922, 0.82412366,\n",
       "         0.82412366, 0.40824643, 0.40824643, 0.25776083, 0.25776083,\n",
       "         0.36090046, 0.36090046, 0.76329015, 0.76329015, 0.65295492,\n",
       "         0.65295492, 0.44106904, 0.44106904, 0.538928  , 0.538928  ,\n",
       "         0.62948912, 0.62948912, 0.92224671, 0.92224671, 0.67238276,\n",
       "         0.67238276, 0.50322161, 0.50322161, 0.98240696, 0.98240696,\n",
       "         0.46048895, 0.46048895, 0.77892272, 0.77892272, 0.35453548,\n",
       "         0.35453548, 0.20375828, 0.20375828, 0.50782357, 0.50782357,\n",
       "         0.83422928, 0.83422928, 0.7117195 , 0.7117195 , 0.66341664,\n",
       "         0.66341664, 0.9734142 , 0.9734142 , 0.90986994, 0.90986994,\n",
       "         0.22208478, 0.22208478, 0.31820158, 0.31820158, 0.7235786 ,\n",
       "         0.7235786 , 0.85765325, 0.85765325, 0.47194801, 0.47194801])}}"
      ]
     },
     "execution_count": 1,
     "metadata": {},
     "output_type": "execute_result"
    }
   ],
   "source": [
    "ds = load_by_id(run_id_n)\n",
    "ds.get_parameter_data('x1')"
   ]
  },
  {
   "cell_type": "markdown",
   "metadata": {},
   "source": [
    "And a dataset stored as binary arrays"
   ]
  },
  {
   "cell_type": "code",
   "execution_count": 12,
   "metadata": {
    "execution": {
     "iopub.execute_input": "2020-11-03T06:59:02.931922Z",
     "iopub.status.busy": "2020-11-03T06:59:02.931525Z",
     "iopub.status.idle": "2020-11-03T06:59:02.976652Z",
     "shell.execute_reply": "2020-11-03T06:59:02.975853Z"
    },
    "scrolled": true
   },
   "outputs": [
    {
     "data": {
      "text/plain": [
       "{'x1': {'x1': array([[0.88767123],\n",
       "         [0.88767123],\n",
       "         [0.73321964],\n",
       "         [0.73321964],\n",
       "         [0.53369829],\n",
       "         [0.53369829],\n",
       "         [0.36715855],\n",
       "         [0.36715855],\n",
       "         [0.27329003],\n",
       "         [0.27329003],\n",
       "         [0.43205561],\n",
       "         [0.43205561],\n",
       "         [0.77700096],\n",
       "         [0.77700096],\n",
       "         [0.71318327],\n",
       "         [0.71318327],\n",
       "         [0.8817375 ],\n",
       "         [0.8817375 ],\n",
       "         [0.86015472],\n",
       "         [0.86015472],\n",
       "         [0.21041751],\n",
       "         [0.21041751],\n",
       "         [0.96644671],\n",
       "         [0.96644671],\n",
       "         [0.4232964 ],\n",
       "         [0.4232964 ],\n",
       "         [0.31340872],\n",
       "         [0.31340872],\n",
       "         [0.60491322],\n",
       "         [0.60491322],\n",
       "         [0.95533211],\n",
       "         [0.95533211],\n",
       "         [0.59678688],\n",
       "         [0.59678688],\n",
       "         [0.60698893],\n",
       "         [0.60698893],\n",
       "         [0.52562388],\n",
       "         [0.52562388],\n",
       "         [0.94251184],\n",
       "         [0.94251184],\n",
       "         [0.36302576],\n",
       "         [0.36302576],\n",
       "         [0.07837431],\n",
       "         [0.07837431],\n",
       "         [0.1897705 ],\n",
       "         [0.1897705 ],\n",
       "         [0.34928171],\n",
       "         [0.34928171],\n",
       "         [0.22919066],\n",
       "         [0.22919066],\n",
       "         [0.84987582],\n",
       "         [0.84987582],\n",
       "         [0.19824087],\n",
       "         [0.19824087],\n",
       "         [0.24042802],\n",
       "         [0.24042802],\n",
       "         [0.63014361],\n",
       "         [0.63014361],\n",
       "         [0.23529911],\n",
       "         [0.23529911],\n",
       "         [0.15355686],\n",
       "         [0.15355686],\n",
       "         [0.19514325],\n",
       "         [0.19514325],\n",
       "         [0.12856645],\n",
       "         [0.12856645],\n",
       "         [0.25472337],\n",
       "         [0.25472337],\n",
       "         [0.00210864],\n",
       "         [0.00210864],\n",
       "         [0.88992682],\n",
       "         [0.88992682],\n",
       "         [0.4703602 ],\n",
       "         [0.4703602 ],\n",
       "         [0.19883897],\n",
       "         [0.19883897],\n",
       "         [0.14399126],\n",
       "         [0.14399126],\n",
       "         [0.64909656],\n",
       "         [0.64909656],\n",
       "         [0.66054906],\n",
       "         [0.66054906],\n",
       "         [0.01493121],\n",
       "         [0.01493121],\n",
       "         [0.9512275 ],\n",
       "         [0.9512275 ],\n",
       "         [0.05157542],\n",
       "         [0.05157542],\n",
       "         [0.43657823],\n",
       "         [0.43657823],\n",
       "         [0.80415535],\n",
       "         [0.80415535],\n",
       "         [0.24472385],\n",
       "         [0.24472385],\n",
       "         [0.47193737],\n",
       "         [0.47193737],\n",
       "         [0.75298265],\n",
       "         [0.75298265],\n",
       "         [0.41873328],\n",
       "         [0.41873328],\n",
       "         [0.3524101 ],\n",
       "         [0.3524101 ],\n",
       "         [0.5660351 ],\n",
       "         [0.5660351 ],\n",
       "         [0.43723107],\n",
       "         [0.43723107],\n",
       "         [0.97914797],\n",
       "         [0.97914797],\n",
       "         [0.49770594],\n",
       "         [0.49770594],\n",
       "         [0.8649834 ],\n",
       "         [0.8649834 ],\n",
       "         [0.30458056],\n",
       "         [0.30458056],\n",
       "         [0.28473058],\n",
       "         [0.28473058],\n",
       "         [0.81568279],\n",
       "         [0.81568279],\n",
       "         [0.45789993],\n",
       "         [0.45789993],\n",
       "         [0.32817361],\n",
       "         [0.32817361],\n",
       "         [0.48952517],\n",
       "         [0.48952517],\n",
       "         [0.23576134],\n",
       "         [0.23576134],\n",
       "         [0.68710408],\n",
       "         [0.68710408],\n",
       "         [0.88983566],\n",
       "         [0.88983566],\n",
       "         [0.31110736],\n",
       "         [0.31110736],\n",
       "         [0.58118936],\n",
       "         [0.58118936],\n",
       "         [0.34741831],\n",
       "         [0.34741831],\n",
       "         [0.11067718],\n",
       "         [0.11067718],\n",
       "         [0.76857001],\n",
       "         [0.76857001],\n",
       "         [0.61620591],\n",
       "         [0.61620591],\n",
       "         [0.53705847],\n",
       "         [0.53705847],\n",
       "         [0.46213546],\n",
       "         [0.46213546],\n",
       "         [0.13642866],\n",
       "         [0.13642866],\n",
       "         [0.71691543],\n",
       "         [0.71691543],\n",
       "         [0.51939749],\n",
       "         [0.51939749],\n",
       "         [0.19436478],\n",
       "         [0.19436478],\n",
       "         [0.32770603],\n",
       "         [0.32770603],\n",
       "         [0.25740707],\n",
       "         [0.25740707],\n",
       "         [0.2265021 ],\n",
       "         [0.2265021 ],\n",
       "         [0.98016304],\n",
       "         [0.98016304],\n",
       "         [0.98210316],\n",
       "         [0.98210316],\n",
       "         [0.99999065],\n",
       "         [0.99999065],\n",
       "         [0.41322596],\n",
       "         [0.41322596],\n",
       "         [0.85510721],\n",
       "         [0.85510721],\n",
       "         [0.62892511],\n",
       "         [0.62892511],\n",
       "         [0.54994136],\n",
       "         [0.54994136],\n",
       "         [0.3266073 ],\n",
       "         [0.3266073 ],\n",
       "         [0.59353768],\n",
       "         [0.59353768],\n",
       "         [0.56174771],\n",
       "         [0.56174771],\n",
       "         [0.6552648 ],\n",
       "         [0.6552648 ],\n",
       "         [0.70099517],\n",
       "         [0.70099517],\n",
       "         [0.47738063],\n",
       "         [0.47738063],\n",
       "         [0.42061136],\n",
       "         [0.42061136],\n",
       "         [0.85343936],\n",
       "         [0.85343936],\n",
       "         [0.99215772],\n",
       "         [0.99215772],\n",
       "         [0.33309594],\n",
       "         [0.33309594],\n",
       "         [0.56858587],\n",
       "         [0.56858587],\n",
       "         [0.51536825],\n",
       "         [0.51536825],\n",
       "         [0.73177777],\n",
       "         [0.73177777]])}}"
      ]
     },
     "execution_count": 1,
     "metadata": {},
     "output_type": "execute_result"
    }
   ],
   "source": [
    "ds = load_by_id(run_id_a)\n",
    "ds.get_parameter_data('x1')"
   ]
  },
  {
   "cell_type": "code",
   "execution_count": null,
   "metadata": {},
   "outputs": [],
   "source": []
  }
 ],
 "metadata": {
  "kernelspec": {
   "display_name": "Python 3",
   "language": "python",
   "name": "python3"
  },
  "language_info": {
   "codemirror_mode": {
    "name": "ipython",
    "version": 3
   },
   "file_extension": ".py",
   "mimetype": "text/x-python",
   "name": "python",
   "nbconvert_exporter": "python",
   "pygments_lexer": "ipython3",
   "version": "3.7.9"
  },
  "nbsphinx": {
   "timeout": 600
  },
  "toc": {
   "base_numbering": 1,
   "nav_menu": {},
   "number_sections": true,
   "sideBar": true,
   "skip_h1_title": false,
   "title_cell": "Table of Contents",
   "title_sidebar": "Contents",
   "toc_cell": false,
   "toc_position": {},
   "toc_section_display": true,
   "toc_window_display": false
  },
  "varInspector": {
   "cols": {
    "lenName": 16,
    "lenType": 16,
    "lenVar": 40
   },
   "kernels_config": {
    "python": {
     "delete_cmd_postfix": "",
     "delete_cmd_prefix": "del ",
     "library": "var_list.py",
     "varRefreshCmd": "print(var_dic_list())"
    },
    "r": {
     "delete_cmd_postfix": ") ",
     "delete_cmd_prefix": "rm(",
     "library": "var_list.r",
     "varRefreshCmd": "cat(var_dic_list()) "
    }
   },
   "types_to_exclude": [
    "module",
    "function",
    "builtin_function_or_method",
    "instance",
    "_Feature"
   ],
   "window_display": false
  }
 },
 "nbformat": 4,
 "nbformat_minor": 2
}
