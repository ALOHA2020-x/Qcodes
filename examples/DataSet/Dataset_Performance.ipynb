{
 "cells": [
  {
   "cell_type": "markdown",
   "metadata": {},
   "source": [
    "# DataSet Performance\n",
    "\n",
    "This notebook shows the trade-off between inserting data into a database row-by-row and as binary blobs. Inserting the data row-by-row means that we have direct access to all the data and may perform queries directly on the values of the data. On the other hand, as we shall see, this is much slower than inserting the data directly as binary blobs."
   ]
  },
  {
   "cell_type": "markdown",
   "metadata": {},
   "source": [
    "First, we choose a new location for the database to ensure that we don't add a bunch of benchmarking data to the default one."
   ]
  },
  {
   "cell_type": "code",
   "execution_count": 1,
   "metadata": {
    "execution": {
     "iopub.execute_input": "2020-10-27T13:14:08.267404Z",
     "iopub.status.busy": "2020-10-27T13:14:08.266821Z",
     "iopub.status.idle": "2020-10-27T13:14:09.330020Z",
     "shell.execute_reply": "2020-10-27T13:14:09.329015Z"
    }
   },
   "outputs": [
    {
     "name": "stdout",
     "output_type": "stream",
     "text": [
      "Logging hadn't been started.\n",
      "Activating auto-logging. Current session state plus future input saved.\n",
      "Filename       : /home/vsts/.qcodes/logs/command_history.log\n",
      "Mode           : append\n",
      "Output logging : True\n",
      "Raw input log  : False\n",
      "Timestamping   : True\n",
      "State          : active\n"
     ]
    },
    {
     "name": "stdout",
     "output_type": "stream",
     "text": [
      "Qcodes Logfile : /home/vsts/.qcodes/logs/201027-14600-qcodes.log\n"
     ]
    }
   ],
   "source": [
    "import os\n",
    "cwd = os.getcwd()\n",
    "import qcodes as qc\n",
    "qc.config[\"core\"][\"db_location\"] = os.path.join(cwd, 'testing.db')\n"
   ]
  },
  {
   "cell_type": "code",
   "execution_count": 2,
   "metadata": {
    "execution": {
     "iopub.execute_input": "2020-10-27T13:14:09.336945Z",
     "iopub.status.busy": "2020-10-27T13:14:09.336090Z",
     "iopub.status.idle": "2020-10-27T13:14:09.532682Z",
     "shell.execute_reply": "2020-10-27T13:14:09.531631Z"
    }
   },
   "outputs": [],
   "source": [
    "%matplotlib inline\n",
    "import time\n",
    "import matplotlib.pyplot as plt\n",
    "import numpy as np\n",
    "\n",
    "import qcodes as qc\n",
    "from qcodes.instrument.parameter import ManualParameter\n",
    "from qcodes.dataset.experiment_container import (Experiment,\n",
    "                                                 load_last_experiment,\n",
    "                                                 new_experiment)\n",
    "from qcodes.dataset.sqlite.database import initialise_database\n",
    "from qcodes import load_or_create_experiment\n",
    "from qcodes.dataset.measurements import Measurement"
   ]
  },
  {
   "cell_type": "code",
   "execution_count": 3,
   "metadata": {
    "execution": {
     "iopub.execute_input": "2020-10-27T13:14:09.536652Z",
     "iopub.status.busy": "2020-10-27T13:14:09.535367Z",
     "iopub.status.idle": "2020-10-27T13:14:09.677162Z",
     "shell.execute_reply": "2020-10-27T13:14:09.677739Z"
    }
   },
   "outputs": [
    {
     "name": "stdout",
     "output_type": "stream",
     "text": [
      "\r",
      "0it [00:00, ?it/s]"
     ]
    },
    {
     "name": "stdout",
     "output_type": "stream",
     "text": [
      "\r",
      "Upgrading database; v0 -> v1: : 0it [00:00, ?it/s]"
     ]
    },
    {
     "name": "stdout",
     "output_type": "stream",
     "text": [
      "\r",
      "Upgrading database; v0 -> v1: : 0it [00:00, ?it/s]"
     ]
    },
    {
     "name": "stdout",
     "output_type": "stream",
     "text": [
      "\n",
      "\r",
      "  0%|          | 0/1 [00:00<?, ?it/s]"
     ]
    },
    {
     "name": "stdout",
     "output_type": "stream",
     "text": [
      "\r",
      "Upgrading database; v1 -> v2:   0%|          | 0/1 [00:00<?, ?it/s]"
     ]
    },
    {
     "name": "stdout",
     "output_type": "stream",
     "text": [
      "\r",
      "Upgrading database; v1 -> v2: 100%|██████████| 1/1 [00:00<00:00, 429.35it/s]"
     ]
    },
    {
     "name": "stdout",
     "output_type": "stream",
     "text": [
      "\n",
      "\r",
      "0it [00:00, ?it/s]"
     ]
    },
    {
     "name": "stdout",
     "output_type": "stream",
     "text": [
      "\r",
      "Upgrading database; v2 -> v3: : 0it [00:00, ?it/s]"
     ]
    },
    {
     "name": "stdout",
     "output_type": "stream",
     "text": [
      "\r",
      "Upgrading database; v2 -> v3: : 0it [00:00, ?it/s]"
     ]
    },
    {
     "name": "stdout",
     "output_type": "stream",
     "text": [
      "\n",
      "\r",
      "0it [00:00, ?it/s]"
     ]
    },
    {
     "name": "stdout",
     "output_type": "stream",
     "text": [
      "\r",
      "Upgrading database; v3 -> v4: : 0it [00:00, ?it/s]"
     ]
    },
    {
     "name": "stdout",
     "output_type": "stream",
     "text": [
      "\r",
      "Upgrading database; v3 -> v4: : 0it [00:00, ?it/s]"
     ]
    },
    {
     "name": "stdout",
     "output_type": "stream",
     "text": [
      "\n",
      "\r",
      "  0%|          | 0/1 [00:00<?, ?it/s]"
     ]
    },
    {
     "name": "stdout",
     "output_type": "stream",
     "text": [
      "\r",
      "Upgrading database; v4 -> v5:   0%|          | 0/1 [00:00<?, ?it/s]"
     ]
    },
    {
     "name": "stdout",
     "output_type": "stream",
     "text": [
      "\r",
      "Upgrading database; v4 -> v5: 100%|██████████| 1/1 [00:00<00:00, 1044.66it/s]"
     ]
    },
    {
     "name": "stdout",
     "output_type": "stream",
     "text": [
      "\n",
      "\r",
      "0it [00:00, ?it/s]"
     ]
    },
    {
     "name": "stdout",
     "output_type": "stream",
     "text": [
      "\r",
      "Upgrading database; v5 -> v6: : 0it [00:00, ?it/s]"
     ]
    },
    {
     "name": "stdout",
     "output_type": "stream",
     "text": [
      "\r",
      "Upgrading database; v5 -> v6: : 0it [00:00, ?it/s]"
     ]
    },
    {
     "name": "stdout",
     "output_type": "stream",
     "text": [
      "\n",
      "\r",
      "  0%|          | 0/1 [00:00<?, ?it/s]"
     ]
    },
    {
     "name": "stdout",
     "output_type": "stream",
     "text": [
      "\r",
      "Upgrading database; v6 -> v7:   0%|          | 0/1 [00:00<?, ?it/s]"
     ]
    },
    {
     "name": "stdout",
     "output_type": "stream",
     "text": [
      "\r",
      "Upgrading database; v6 -> v7: 100%|██████████| 1/1 [00:00<00:00, 240.10it/s]"
     ]
    },
    {
     "name": "stdout",
     "output_type": "stream",
     "text": [
      "\n",
      "\r",
      "  0%|          | 0/1 [00:00<?, ?it/s]"
     ]
    },
    {
     "name": "stdout",
     "output_type": "stream",
     "text": [
      "\r",
      "Upgrading database; v7 -> v8:   0%|          | 0/1 [00:00<?, ?it/s]"
     ]
    },
    {
     "name": "stdout",
     "output_type": "stream",
     "text": [
      "\r",
      "Upgrading database; v7 -> v8: 100%|██████████| 1/1 [00:00<00:00, 835.19it/s]"
     ]
    },
    {
     "name": "stdout",
     "output_type": "stream",
     "text": [
      "\n",
      "\r",
      "  0%|          | 0/1 [00:00<?, ?it/s]"
     ]
    },
    {
     "name": "stdout",
     "output_type": "stream",
     "text": [
      "\r",
      "Upgrading database; v8 -> v9:   0%|          | 0/1 [00:00<?, ?it/s]"
     ]
    },
    {
     "name": "stdout",
     "output_type": "stream",
     "text": [
      "\r",
      "Upgrading database; v8 -> v9: 100%|██████████| 1/1 [00:00<00:00, 429.17it/s]"
     ]
    },
    {
     "name": "stdout",
     "output_type": "stream",
     "text": [
      "\n"
     ]
    }
   ],
   "source": [
    "initialise_database()\n",
    "exp = load_or_create_experiment(experiment_name='tutorial_exp', sample_name=\"no sample\")"
   ]
  },
  {
   "cell_type": "markdown",
   "metadata": {},
   "source": [
    "Here, we define a simple function to benchmark the time it takes to insert n points with either numeric or array data type.\n",
    "We will compare both the time used to call ``add_result`` and the time used for the full measurement."
   ]
  },
  {
   "cell_type": "code",
   "execution_count": 4,
   "metadata": {
    "execution": {
     "iopub.execute_input": "2020-10-27T13:14:09.687548Z",
     "iopub.status.busy": "2020-10-27T13:14:09.686203Z",
     "iopub.status.idle": "2020-10-27T13:14:09.688208Z",
     "shell.execute_reply": "2020-10-27T13:14:09.688732Z"
    }
   },
   "outputs": [],
   "source": [
    "def insert_data(paramtype, npoints, nreps=1):\n",
    "\n",
    "    meas = Measurement(exp=exp)\n",
    "\n",
    "    x1 = ManualParameter('x1')\n",
    "    x2 = ManualParameter('x2')\n",
    "    x3 = ManualParameter('x3')\n",
    "    y1 = ManualParameter('y1')\n",
    "    y2 = ManualParameter('y2')\n",
    "\n",
    "    meas.register_parameter(x1, paramtype=paramtype)\n",
    "    meas.register_parameter(x2, paramtype=paramtype)\n",
    "    meas.register_parameter(x3, paramtype=paramtype)\n",
    "    meas.register_parameter(y1, setpoints=[x1, x2, x3],\n",
    "                            paramtype=paramtype)\n",
    "    meas.register_parameter(y2, setpoints=[x1, x2, x3],\n",
    "                            paramtype=paramtype)\n",
    "    start = time.perf_counter()\n",
    "    with meas.run() as datasaver:\n",
    "        start_adding = time.perf_counter()\n",
    "        for i in range(nreps):\n",
    "            datasaver.add_result((x1, np.random.rand(npoints)),\n",
    "                                 (x2, np.random.rand(npoints)),\n",
    "                                 (x3, np.random.rand(npoints)),\n",
    "                                 (y1, np.random.rand(npoints)),\n",
    "                                 (y2, np.random.rand(npoints)))\n",
    "        stop_adding = time.perf_counter()\n",
    "        run_id = datasaver.run_id\n",
    "    stop = time.perf_counter()\n",
    "    tot_time = stop - start\n",
    "    add_time = stop_adding - start_adding\n",
    "    return tot_time, add_time, run_id"
   ]
  },
  {
   "cell_type": "markdown",
   "metadata": {},
   "source": [
    "## Comparison between numeric/array data and binary blob"
   ]
  },
  {
   "cell_type": "markdown",
   "metadata": {},
   "source": [
    "### Case1: Short experiment time"
   ]
  },
  {
   "cell_type": "code",
   "execution_count": 5,
   "metadata": {
    "execution": {
     "iopub.execute_input": "2020-10-27T13:14:09.695746Z",
     "iopub.status.busy": "2020-10-27T13:14:09.695043Z",
     "iopub.status.idle": "2020-10-27T13:14:10.546142Z",
     "shell.execute_reply": "2020-10-27T13:14:10.545199Z"
    }
   },
   "outputs": [
    {
     "name": "stdout",
     "output_type": "stream",
     "text": [
      "Starting experimental run with id: 1. \n",
      "Starting experimental run with id: 2. \n",
      "Starting experimental run with id: 3. \n"
     ]
    },
    {
     "name": "stdout",
     "output_type": "stream",
     "text": [
      "Starting experimental run with id: 4. \n"
     ]
    },
    {
     "name": "stdout",
     "output_type": "stream",
     "text": [
      "Starting experimental run with id: 5. \n"
     ]
    },
    {
     "name": "stdout",
     "output_type": "stream",
     "text": [
      "Starting experimental run with id: 6. \n",
      "Starting experimental run with id: 7. \n"
     ]
    },
    {
     "name": "stdout",
     "output_type": "stream",
     "text": [
      "Starting experimental run with id: 8. \n"
     ]
    },
    {
     "name": "stdout",
     "output_type": "stream",
     "text": [
      "Starting experimental run with id: 9. \n"
     ]
    },
    {
     "name": "stdout",
     "output_type": "stream",
     "text": [
      "Starting experimental run with id: 10. \n",
      "Starting experimental run with id: 11. \n"
     ]
    },
    {
     "name": "stdout",
     "output_type": "stream",
     "text": [
      "Starting experimental run with id: 12. \n",
      "Starting experimental run with id: 13. \n"
     ]
    },
    {
     "name": "stdout",
     "output_type": "stream",
     "text": [
      "Starting experimental run with id: 14. \n"
     ]
    }
   ],
   "source": [
    "sizes = [1,500,1000,2000,3000,4000,5000]\n",
    "t_numeric = []\n",
    "t_numeric_add = []\n",
    "t_array = []\n",
    "t_array_add = []\n",
    "for size in sizes:\n",
    "    tn, tna, run_id_n =  insert_data('numeric', size)\n",
    "    t_numeric.append(tn)\n",
    "    t_numeric_add.append(tna)\n",
    "\n",
    "    ta, taa, run_id_a =  insert_data('array', size)\n",
    "    t_array.append(ta)\n",
    "    t_array_add.append(taa)"
   ]
  },
  {
   "cell_type": "code",
   "execution_count": 6,
   "metadata": {
    "execution": {
     "iopub.execute_input": "2020-10-27T13:14:10.572884Z",
     "iopub.status.busy": "2020-10-27T13:14:10.564752Z",
     "iopub.status.idle": "2020-10-27T13:14:10.760776Z",
     "shell.execute_reply": "2020-10-27T13:14:10.760215Z"
    }
   },
   "outputs": [
    {
     "data": {
      "image/png": "[encoded data removed]",
      "text/plain": [
       "<Figure size 432x288 with 1 Axes>"
      ]
     },
     "metadata": {
      "needs_background": "light"
     },
     "output_type": "display_data"
    }
   ],
   "source": [
    "fig, ax = plt.subplots(1,1)\n",
    "ax.plot(sizes, t_numeric, 'o-', label='Inserting row-by-row')\n",
    "ax.plot(sizes, t_numeric_add, 'o-', label='Inserting row-by-row: add_result only')\n",
    "ax.plot(sizes, t_array, 'd-', label='Inserting as binary blob')\n",
    "ax.plot(sizes, t_array_add, 'd-', label='Inserting as binary blob: add_result only')\n",
    "ax.legend()\n",
    "ax.set_xlabel('Array length')\n",
    "ax.set_ylabel('Time (s)')\n",
    "fig.tight_layout()"
   ]
  },
  {
   "cell_type": "markdown",
   "metadata": {},
   "source": [
    "As shown in the latter figure, the time to setup and and close the experiment is approximately 0.4 sec. In case of small array sizes, the difference between inserting values of data as arrays and inserting them row-by-row is relatively unimportant. At larger array sizes, i.e. above 10000 points, the cost of writing data as individual datapoints starts to become important.\n"
   ]
  },
  {
   "cell_type": "markdown",
   "metadata": {},
   "source": [
    "### Case2: Long experiment time "
   ]
  },
  {
   "cell_type": "code",
   "execution_count": 7,
   "metadata": {
    "execution": {
     "iopub.execute_input": "2020-10-27T13:14:10.767854Z",
     "iopub.status.busy": "2020-10-27T13:14:10.766843Z",
     "iopub.status.idle": "2020-10-27T13:15:09.827314Z",
     "shell.execute_reply": "2020-10-27T13:15:09.827778Z"
    }
   },
   "outputs": [
    {
     "name": "stdout",
     "output_type": "stream",
     "text": [
      "Starting experimental run with id: 15. \n",
      "Starting experimental run with id: 16. \n",
      "Starting experimental run with id: 17. \n"
     ]
    },
    {
     "name": "stdout",
     "output_type": "stream",
     "text": [
      "Starting experimental run with id: 18. \n",
      "Starting experimental run with id: 19. \n"
     ]
    },
    {
     "name": "stdout",
     "output_type": "stream",
     "text": [
      "Starting experimental run with id: 20. \n"
     ]
    },
    {
     "name": "stdout",
     "output_type": "stream",
     "text": [
      "Starting experimental run with id: 21. \n"
     ]
    },
    {
     "name": "stdout",
     "output_type": "stream",
     "text": [
      "Starting experimental run with id: 22. \n"
     ]
    },
    {
     "name": "stdout",
     "output_type": "stream",
     "text": [
      "Starting experimental run with id: 23. \n"
     ]
    },
    {
     "name": "stdout",
     "output_type": "stream",
     "text": [
      "Starting experimental run with id: 24. \n"
     ]
    },
    {
     "name": "stdout",
     "output_type": "stream",
     "text": [
      "Starting experimental run with id: 25. \n"
     ]
    },
    {
     "name": "stdout",
     "output_type": "stream",
     "text": [
      "Starting experimental run with id: 26. \n"
     ]
    },
    {
     "name": "stdout",
     "output_type": "stream",
     "text": [
      "Starting experimental run with id: 27. \n"
     ]
    },
    {
     "name": "stdout",
     "output_type": "stream",
     "text": [
      "Starting experimental run with id: 28. \n"
     ]
    }
   ],
   "source": [
    "sizes = [1,500,1000,2000,3000,4000,5000]\n",
    "nreps = 100\n",
    "t_numeric = []\n",
    "t_numeric_add = []\n",
    "t_numeric_run_ids = []\n",
    "t_array = []\n",
    "t_array_add = []\n",
    "t_array_run_ids = []\n",
    "for size in sizes:\n",
    "    tn, tna, run_id_n =  insert_data('numeric', size, nreps=nreps)\n",
    "    t_numeric.append(tn)\n",
    "    t_numeric_add.append(tna)\n",
    "    t_numeric_run_ids.append(run_id_n)\n",
    "\n",
    "    ta, taa, run_id_a =  insert_data('array', size, nreps=nreps)\n",
    "    t_array.append(ta)\n",
    "    t_array_add.append(taa)\n",
    "    t_array_run_ids.append(run_id_a)"
   ]
  },
  {
   "cell_type": "code",
   "execution_count": 8,
   "metadata": {
    "execution": {
     "iopub.execute_input": "2020-10-27T13:15:09.853449Z",
     "iopub.status.busy": "2020-10-27T13:15:09.847099Z",
     "iopub.status.idle": "2020-10-27T13:15:10.052351Z",
     "shell.execute_reply": "2020-10-27T13:15:10.051821Z"
    },
    "scrolled": true
   },
   "outputs": [
    {
     "data": {
      "image/png": "[encoded data removed]",
      "text/plain": [
       "<Figure size 432x288 with 1 Axes>"
      ]
     },
     "metadata": {
      "needs_background": "light"
     },
     "output_type": "display_data"
    }
   ],
   "source": [
    "fig, ax = plt.subplots(1,1)\n",
    "ax.plot(sizes, t_numeric, 'o-', label='Inserting row-by-row')\n",
    "ax.plot(sizes, t_numeric_add, 'o-', label='Inserting row-by-row: add_result only')\n",
    "ax.plot(sizes, t_array, 'd-', label='Inserting as binary blob')\n",
    "ax.plot(sizes, t_array_add, 'd-', label='Inserting as binary blob: add_result only')\n",
    "ax.legend()\n",
    "ax.set_xlabel('Array length')\n",
    "ax.set_ylabel('Time (s)')\n",
    "fig.tight_layout()"
   ]
  },
  {
   "cell_type": "markdown",
   "metadata": {},
   "source": [
    "However, as we increase the length of the experiment, as seen here by repeating the insertion 100 times, we see a big difference between inserting values of the data row-by-row and inserting it as a binary blob."
   ]
  },
  {
   "cell_type": "markdown",
   "metadata": {},
   "source": [
    "## Loading the data "
   ]
  },
  {
   "cell_type": "code",
   "execution_count": 9,
   "metadata": {
    "execution": {
     "iopub.execute_input": "2020-10-27T13:15:10.057132Z",
     "iopub.status.busy": "2020-10-27T13:15:10.056325Z",
     "iopub.status.idle": "2020-10-27T13:15:10.059001Z",
     "shell.execute_reply": "2020-10-27T13:15:10.059522Z"
    }
   },
   "outputs": [],
   "source": [
    "from qcodes.dataset.data_set import load_by_id\n",
    "from qcodes.dataset.data_export import get_data_by_id"
   ]
  },
  {
   "cell_type": "markdown",
   "metadata": {},
   "source": [
    "As usual you can load the data by using the ``load_by_id`` function but you will notice that the different storage methods\n",
    "are reflected in shape of the data as it is retrieved. "
   ]
  },
  {
   "cell_type": "code",
   "execution_count": 10,
   "metadata": {
    "execution": {
     "iopub.execute_input": "2020-10-27T13:15:10.063258Z",
     "iopub.status.busy": "2020-10-27T13:15:10.062631Z",
     "iopub.status.idle": "2020-10-27T13:15:10.064761Z",
     "shell.execute_reply": "2020-10-27T13:15:10.065262Z"
    }
   },
   "outputs": [],
   "source": [
    "run_id_n = t_numeric_run_ids[0]\n",
    "run_id_a = t_array_run_ids[0]"
   ]
  },
  {
   "cell_type": "code",
   "execution_count": 11,
   "metadata": {
    "execution": {
     "iopub.execute_input": "2020-10-27T13:15:10.068445Z",
     "iopub.status.busy": "2020-10-27T13:15:10.067861Z",
     "iopub.status.idle": "2020-10-27T13:15:10.078008Z",
     "shell.execute_reply": "2020-10-27T13:15:10.077479Z"
    },
    "scrolled": true
   },
   "outputs": [
    {
     "data": {
      "text/plain": [
       "{'x1': {'x1': array([0.55822018, 0.55822018, 0.74146577, 0.74146577, 0.19133926,\n",
       "         0.19133926, 0.8597863 , 0.8597863 , 0.08103929, 0.08103929,\n",
       "         0.03624392, 0.03624392, 0.06539417, 0.06539417, 0.63940961,\n",
       "         0.63940961, 0.91400436, 0.91400436, 0.31370381, 0.31370381,\n",
       "         0.13895458, 0.13895458, 0.08673481, 0.08673481, 0.72438512,\n",
       "         0.72438512, 0.06154249, 0.06154249, 0.45133412, 0.45133412,\n",
       "         0.32158534, 0.32158534, 0.96169189, 0.96169189, 0.63711212,\n",
       "         0.63711212, 0.01218764, 0.01218764, 0.96177487, 0.96177487,\n",
       "         0.66556757, 0.66556757, 0.36186425, 0.36186425, 0.1833783 ,\n",
       "         0.1833783 , 0.30976317, 0.30976317, 0.92161723, 0.92161723,\n",
       "         0.69555491, 0.69555491, 0.51959921, 0.51959921, 0.90501325,\n",
       "         0.90501325, 0.28205703, 0.28205703, 0.88893025, 0.88893025,\n",
       "         0.0102475 , 0.0102475 , 0.09345045, 0.09345045, 0.55148255,\n",
       "         0.55148255, 0.3945872 , 0.3945872 , 0.36920946, 0.36920946,\n",
       "         0.35032887, 0.35032887, 0.75288464, 0.75288464, 0.27474731,\n",
       "         0.27474731, 0.21073539, 0.21073539, 0.32849549, 0.32849549,\n",
       "         0.45072095, 0.45072095, 0.91617329, 0.91617329, 0.02612864,\n",
       "         0.02612864, 0.99557209, 0.99557209, 0.45259247, 0.45259247,\n",
       "         0.30276087, 0.30276087, 0.53415695, 0.53415695, 0.97973043,\n",
       "         0.97973043, 0.73387425, 0.73387425, 0.18111563, 0.18111563,\n",
       "         0.6206605 , 0.6206605 , 0.51792386, 0.51792386, 0.08219625,\n",
       "         0.08219625, 0.25494862, 0.25494862, 0.79491758, 0.79491758,\n",
       "         0.75232074, 0.75232074, 0.89737588, 0.89737588, 0.76403615,\n",
       "         0.76403615, 0.82949309, 0.82949309, 0.23668994, 0.23668994,\n",
       "         0.88336773, 0.88336773, 0.03208389, 0.03208389, 0.07643776,\n",
       "         0.07643776, 0.39755487, 0.39755487, 0.99946536, 0.99946536,\n",
       "         0.10862111, 0.10862111, 0.86342153, 0.86342153, 0.94082436,\n",
       "         0.94082436, 0.00398357, 0.00398357, 0.95342473, 0.95342473,\n",
       "         0.26435255, 0.26435255, 0.0282616 , 0.0282616 , 0.99328177,\n",
       "         0.99328177, 0.25221356, 0.25221356, 0.06038149, 0.06038149,\n",
       "         0.77017977, 0.77017977, 0.22417434, 0.22417434, 0.66197378,\n",
       "         0.66197378, 0.57194424, 0.57194424, 0.24835576, 0.24835576,\n",
       "         0.97772284, 0.97772284, 0.27726533, 0.27726533, 0.60711278,\n",
       "         0.60711278, 0.81892661, 0.81892661, 0.67598098, 0.67598098,\n",
       "         0.41580855, 0.41580855, 0.07440054, 0.07440054, 0.59056587,\n",
       "         0.59056587, 0.58624218, 0.58624218, 0.63277555, 0.63277555,\n",
       "         0.37940744, 0.37940744, 0.91084331, 0.91084331, 0.82518553,\n",
       "         0.82518553, 0.80398698, 0.80398698, 0.34884829, 0.34884829,\n",
       "         0.23416356, 0.23416356, 0.93641612, 0.93641612, 0.91315995,\n",
       "         0.91315995, 0.85591438, 0.85591438, 0.76438587, 0.76438587])}}"
      ]
     },
     "execution_count": 1,
     "metadata": {},
     "output_type": "execute_result"
    }
   ],
   "source": [
    "ds = load_by_id(run_id_n)\n",
    "ds.get_parameter_data('x1')"
   ]
  },
  {
   "cell_type": "markdown",
   "metadata": {},
   "source": [
    "And a dataset stored as binary arrays"
   ]
  },
  {
   "cell_type": "code",
   "execution_count": 12,
   "metadata": {
    "execution": {
     "iopub.execute_input": "2020-10-27T13:15:10.081621Z",
     "iopub.status.busy": "2020-10-27T13:15:10.081028Z",
     "iopub.status.idle": "2020-10-27T13:15:10.143805Z",
     "shell.execute_reply": "2020-10-27T13:15:10.144345Z"
    },
    "scrolled": true
   },
   "outputs": [
    {
     "data": {
      "text/plain": [
       "{'x1': {'x1': array([[0.25595001],\n",
       "         [0.25595001],\n",
       "         [0.01737317],\n",
       "         [0.01737317],\n",
       "         [0.32858638],\n",
       "         [0.32858638],\n",
       "         [0.35493199],\n",
       "         [0.35493199],\n",
       "         [0.0240367 ],\n",
       "         [0.0240367 ],\n",
       "         [0.04575187],\n",
       "         [0.04575187],\n",
       "         [0.80137374],\n",
       "         [0.80137374],\n",
       "         [0.34136547],\n",
       "         [0.34136547],\n",
       "         [0.18936625],\n",
       "         [0.18936625],\n",
       "         [0.8463799 ],\n",
       "         [0.8463799 ],\n",
       "         [0.19900452],\n",
       "         [0.19900452],\n",
       "         [0.53631675],\n",
       "         [0.53631675],\n",
       "         [0.11015132],\n",
       "         [0.11015132],\n",
       "         [0.33069793],\n",
       "         [0.33069793],\n",
       "         [0.62933835],\n",
       "         [0.62933835],\n",
       "         [0.73698239],\n",
       "         [0.73698239],\n",
       "         [0.77341554],\n",
       "         [0.77341554],\n",
       "         [0.69311694],\n",
       "         [0.69311694],\n",
       "         [0.20023254],\n",
       "         [0.20023254],\n",
       "         [0.80208215],\n",
       "         [0.80208215],\n",
       "         [0.3607603 ],\n",
       "         [0.3607603 ],\n",
       "         [0.87334582],\n",
       "         [0.87334582],\n",
       "         [0.75941558],\n",
       "         [0.75941558],\n",
       "         [0.55527278],\n",
       "         [0.55527278],\n",
       "         [0.42820737],\n",
       "         [0.42820737],\n",
       "         [0.88812963],\n",
       "         [0.88812963],\n",
       "         [0.78787741],\n",
       "         [0.78787741],\n",
       "         [0.53188356],\n",
       "         [0.53188356],\n",
       "         [0.85406435],\n",
       "         [0.85406435],\n",
       "         [0.15791839],\n",
       "         [0.15791839],\n",
       "         [0.34253873],\n",
       "         [0.34253873],\n",
       "         [0.45766056],\n",
       "         [0.45766056],\n",
       "         [0.32846183],\n",
       "         [0.32846183],\n",
       "         [0.54054158],\n",
       "         [0.54054158],\n",
       "         [0.63394414],\n",
       "         [0.63394414],\n",
       "         [0.03964332],\n",
       "         [0.03964332],\n",
       "         [0.65499816],\n",
       "         [0.65499816],\n",
       "         [0.11505397],\n",
       "         [0.11505397],\n",
       "         [0.11090957],\n",
       "         [0.11090957],\n",
       "         [0.26567424],\n",
       "         [0.26567424],\n",
       "         [0.55230183],\n",
       "         [0.55230183],\n",
       "         [0.86507246],\n",
       "         [0.86507246],\n",
       "         [0.7242936 ],\n",
       "         [0.7242936 ],\n",
       "         [0.23287225],\n",
       "         [0.23287225],\n",
       "         [0.32506923],\n",
       "         [0.32506923],\n",
       "         [0.82762712],\n",
       "         [0.82762712],\n",
       "         [0.54240132],\n",
       "         [0.54240132],\n",
       "         [0.84647143],\n",
       "         [0.84647143],\n",
       "         [0.07483539],\n",
       "         [0.07483539],\n",
       "         [0.47521738],\n",
       "         [0.47521738],\n",
       "         [0.03686074],\n",
       "         [0.03686074],\n",
       "         [0.44599504],\n",
       "         [0.44599504],\n",
       "         [0.21141782],\n",
       "         [0.21141782],\n",
       "         [0.33969635],\n",
       "         [0.33969635],\n",
       "         [0.0538636 ],\n",
       "         [0.0538636 ],\n",
       "         [0.30219997],\n",
       "         [0.30219997],\n",
       "         [0.70678412],\n",
       "         [0.70678412],\n",
       "         [0.1409574 ],\n",
       "         [0.1409574 ],\n",
       "         [0.29425944],\n",
       "         [0.29425944],\n",
       "         [0.62752056],\n",
       "         [0.62752056],\n",
       "         [0.61137541],\n",
       "         [0.61137541],\n",
       "         [0.40269692],\n",
       "         [0.40269692],\n",
       "         [0.87699712],\n",
       "         [0.87699712],\n",
       "         [0.81959731],\n",
       "         [0.81959731],\n",
       "         [0.84080853],\n",
       "         [0.84080853],\n",
       "         [0.17492101],\n",
       "         [0.17492101],\n",
       "         [0.80098236],\n",
       "         [0.80098236],\n",
       "         [0.60003457],\n",
       "         [0.60003457],\n",
       "         [0.31058187],\n",
       "         [0.31058187],\n",
       "         [0.7084884 ],\n",
       "         [0.7084884 ],\n",
       "         [0.61772309],\n",
       "         [0.61772309],\n",
       "         [0.65809542],\n",
       "         [0.65809542],\n",
       "         [0.57020465],\n",
       "         [0.57020465],\n",
       "         [0.5906078 ],\n",
       "         [0.5906078 ],\n",
       "         [0.57605199],\n",
       "         [0.57605199],\n",
       "         [0.79656171],\n",
       "         [0.79656171],\n",
       "         [0.40712547],\n",
       "         [0.40712547],\n",
       "         [0.16609437],\n",
       "         [0.16609437],\n",
       "         [0.78337196],\n",
       "         [0.78337196],\n",
       "         [0.92564435],\n",
       "         [0.92564435],\n",
       "         [0.18367429],\n",
       "         [0.18367429],\n",
       "         [0.26806271],\n",
       "         [0.26806271],\n",
       "         [0.36354884],\n",
       "         [0.36354884],\n",
       "         [0.3747653 ],\n",
       "         [0.3747653 ],\n",
       "         [0.81307886],\n",
       "         [0.81307886],\n",
       "         [0.51193855],\n",
       "         [0.51193855],\n",
       "         [0.28061473],\n",
       "         [0.28061473],\n",
       "         [0.90419095],\n",
       "         [0.90419095],\n",
       "         [0.99511625],\n",
       "         [0.99511625],\n",
       "         [0.80830001],\n",
       "         [0.80830001],\n",
       "         [0.32121728],\n",
       "         [0.32121728],\n",
       "         [0.02114315],\n",
       "         [0.02114315],\n",
       "         [0.464337  ],\n",
       "         [0.464337  ],\n",
       "         [0.65522278],\n",
       "         [0.65522278],\n",
       "         [0.6236896 ],\n",
       "         [0.6236896 ],\n",
       "         [0.18239905],\n",
       "         [0.18239905],\n",
       "         [0.80543206],\n",
       "         [0.80543206],\n",
       "         [0.18210453],\n",
       "         [0.18210453],\n",
       "         [0.40732846],\n",
       "         [0.40732846],\n",
       "         [0.85142544],\n",
       "         [0.85142544]])}}"
      ]
     },
     "execution_count": 1,
     "metadata": {},
     "output_type": "execute_result"
    }
   ],
   "source": [
    "ds = load_by_id(run_id_a)\n",
    "ds.get_parameter_data('x1')"
   ]
  },
  {
   "cell_type": "code",
   "execution_count": null,
   "metadata": {},
   "outputs": [],
   "source": []
  }
 ],
 "metadata": {
  "kernelspec": {
   "display_name": "Python 3",
   "language": "python",
   "name": "python3"
  },
  "language_info": {
   "codemirror_mode": {
    "name": "ipython",
    "version": 3
   },
   "file_extension": ".py",
   "mimetype": "text/x-python",
   "name": "python",
   "nbconvert_exporter": "python",
   "pygments_lexer": "ipython3",
   "version": "3.7.7"
  },
  "nbsphinx": {
   "timeout": 600
  },
  "toc": {
   "base_numbering": 1,
   "nav_menu": {},
   "number_sections": true,
   "sideBar": true,
   "skip_h1_title": false,
   "title_cell": "Table of Contents",
   "title_sidebar": "Contents",
   "toc_cell": false,
   "toc_position": {},
   "toc_section_display": true,
   "toc_window_display": false
  },
  "varInspector": {
   "cols": {
    "lenName": 16,
    "lenType": 16,
    "lenVar": 40
   },
   "kernels_config": {
    "python": {
     "delete_cmd_postfix": "",
     "delete_cmd_prefix": "del ",
     "library": "var_list.py",
     "varRefreshCmd": "print(var_dic_list())"
    },
    "r": {
     "delete_cmd_postfix": ") ",
     "delete_cmd_prefix": "rm(",
     "library": "var_list.r",
     "varRefreshCmd": "cat(var_dic_list()) "
    }
   },
   "types_to_exclude": [
    "module",
    "function",
    "builtin_function_or_method",
    "instance",
    "_Feature"
   ],
   "window_display": false
  }
 },
 "nbformat": 4,
 "nbformat_minor": 2
}
