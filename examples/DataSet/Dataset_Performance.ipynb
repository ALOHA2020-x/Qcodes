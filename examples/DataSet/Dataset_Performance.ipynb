{
 "cells": [
  {
   "cell_type": "markdown",
   "metadata": {},
   "source": [
    "# DataSet Performance\n",
    "\n",
    "This notebook shows the trade-off between inserting data into a database row-by-row and as binary blobs. Inserting the data row-by-row means that we have direct access to all the data and may perform queries directly on the values of the data. On the other hand, as we shall see, this is much slower than inserting the data directly as binary blobs."
   ]
  },
  {
   "cell_type": "markdown",
   "metadata": {},
   "source": [
    "First, we choose a new location for the database to ensure that we don't add a bunch of benchmarking data to the default one."
   ]
  },
  {
   "cell_type": "code",
   "execution_count": 1,
   "metadata": {
    "execution": {
     "iopub.execute_input": "2021-01-27T07:21:15.233335Z",
     "iopub.status.busy": "2021-01-27T07:21:15.232453Z",
     "iopub.status.idle": "2021-01-27T07:21:16.295793Z",
     "shell.execute_reply": "2021-01-27T07:21:16.295017Z"
    }
   },
   "outputs": [
    {
     "name": "stdout",
     "output_type": "stream",
     "text": [
      "Logging hadn't been started.\n",
      "Activating auto-logging. Current session state plus future input saved.\n",
      "Filename       : /home/vsts/.qcodes/logs/command_history.log\n",
      "Mode           : append\n",
      "Output logging : True\n",
      "Raw input log  : False\n",
      "Timestamping   : True\n",
      "State          : active\n"
     ]
    },
    {
     "name": "stdout",
     "output_type": "stream",
     "text": [
      "Qcodes Logfile : /home/vsts/.qcodes/logs/210127-14264-qcodes.log\n"
     ]
    }
   ],
   "source": [
    "import os\n",
    "cwd = os.getcwd()\n",
    "import qcodes as qc\n",
    "qc.config[\"core\"][\"db_location\"] = os.path.join(cwd, 'testing.db')\n"
   ]
  },
  {
   "cell_type": "code",
   "execution_count": 2,
   "metadata": {
    "execution": {
     "iopub.execute_input": "2021-01-27T07:21:16.303813Z",
     "iopub.status.busy": "2021-01-27T07:21:16.303225Z",
     "iopub.status.idle": "2021-01-27T07:21:16.509994Z",
     "shell.execute_reply": "2021-01-27T07:21:16.509042Z"
    }
   },
   "outputs": [],
   "source": [
    "%matplotlib inline\n",
    "import time\n",
    "import matplotlib.pyplot as plt\n",
    "import numpy as np\n",
    "\n",
    "import qcodes as qc\n",
    "from qcodes.instrument.parameter import ManualParameter\n",
    "from qcodes.dataset.experiment_container import (Experiment,\n",
    "                                                 load_last_experiment,\n",
    "                                                 new_experiment)\n",
    "from qcodes.dataset.sqlite.database import initialise_database\n",
    "from qcodes import load_or_create_experiment\n",
    "from qcodes.dataset.measurements import Measurement"
   ]
  },
  {
   "cell_type": "code",
   "execution_count": 3,
   "metadata": {
    "execution": {
     "iopub.execute_input": "2021-01-27T07:21:16.513987Z",
     "iopub.status.busy": "2021-01-27T07:21:16.513430Z",
     "iopub.status.idle": "2021-01-27T07:21:16.636321Z",
     "shell.execute_reply": "2021-01-27T07:21:16.636886Z"
    }
   },
   "outputs": [
    {
     "name": "stdout",
     "output_type": "stream",
     "text": [
      "\r",
      "0it [00:00, ?it/s]"
     ]
    },
    {
     "name": "stdout",
     "output_type": "stream",
     "text": [
      "\r",
      "Upgrading database; v0 -> v1: : 0it [00:00, ?it/s]"
     ]
    },
    {
     "name": "stdout",
     "output_type": "stream",
     "text": [
      "\r",
      "Upgrading database; v0 -> v1: : 0it [00:00, ?it/s]"
     ]
    },
    {
     "name": "stdout",
     "output_type": "stream",
     "text": [
      "\n",
      "\r",
      "  0%|          | 0/1 [00:00<?, ?it/s]"
     ]
    },
    {
     "name": "stdout",
     "output_type": "stream",
     "text": [
      "\r",
      "Upgrading database; v1 -> v2:   0%|          | 0/1 [00:00<?, ?it/s]"
     ]
    },
    {
     "name": "stdout",
     "output_type": "stream",
     "text": [
      "\r",
      "Upgrading database; v1 -> v2: 100%|██████████| 1/1 [00:00<00:00, 845.63it/s]"
     ]
    },
    {
     "name": "stdout",
     "output_type": "stream",
     "text": [
      "\n",
      "\r",
      "0it [00:00, ?it/s]"
     ]
    },
    {
     "name": "stdout",
     "output_type": "stream",
     "text": [
      "\r",
      "Upgrading database; v2 -> v3: : 0it [00:00, ?it/s]"
     ]
    },
    {
     "name": "stdout",
     "output_type": "stream",
     "text": [
      "\r",
      "Upgrading database; v2 -> v3: : 0it [00:00, ?it/s]"
     ]
    },
    {
     "name": "stdout",
     "output_type": "stream",
     "text": [
      "\n",
      "\r",
      "0it [00:00, ?it/s]"
     ]
    },
    {
     "name": "stdout",
     "output_type": "stream",
     "text": [
      "\r",
      "Upgrading database; v3 -> v4: : 0it [00:00, ?it/s]"
     ]
    },
    {
     "name": "stdout",
     "output_type": "stream",
     "text": [
      "\r",
      "Upgrading database; v3 -> v4: : 0it [00:00, ?it/s]"
     ]
    },
    {
     "name": "stdout",
     "output_type": "stream",
     "text": [
      "\n",
      "\r",
      "  0%|          | 0/1 [00:00<?, ?it/s]"
     ]
    },
    {
     "name": "stdout",
     "output_type": "stream",
     "text": [
      "\r",
      "Upgrading database; v4 -> v5:   0%|          | 0/1 [00:00<?, ?it/s]"
     ]
    },
    {
     "name": "stdout",
     "output_type": "stream",
     "text": [
      "\r",
      "Upgrading database; v4 -> v5: 100%|██████████| 1/1 [00:00<00:00, 413.64it/s]"
     ]
    },
    {
     "name": "stdout",
     "output_type": "stream",
     "text": [
      "\n",
      "\r",
      "0it [00:00, ?it/s]"
     ]
    },
    {
     "name": "stdout",
     "output_type": "stream",
     "text": [
      "\r",
      "Upgrading database; v5 -> v6: : 0it [00:00, ?it/s]"
     ]
    },
    {
     "name": "stdout",
     "output_type": "stream",
     "text": [
      "\r",
      "Upgrading database; v5 -> v6: : 0it [00:00, ?it/s]"
     ]
    },
    {
     "name": "stdout",
     "output_type": "stream",
     "text": [
      "\n",
      "\r",
      "  0%|          | 0/1 [00:00<?, ?it/s]"
     ]
    },
    {
     "name": "stdout",
     "output_type": "stream",
     "text": [
      "\r",
      "Upgrading database; v6 -> v7:   0%|          | 0/1 [00:00<?, ?it/s]"
     ]
    },
    {
     "name": "stdout",
     "output_type": "stream",
     "text": [
      "\r",
      "Upgrading database; v6 -> v7: 100%|██████████| 1/1 [00:00<00:00, 484.78it/s]"
     ]
    },
    {
     "name": "stdout",
     "output_type": "stream",
     "text": [
      "\n",
      "\r",
      "  0%|          | 0/1 [00:00<?, ?it/s]"
     ]
    },
    {
     "name": "stdout",
     "output_type": "stream",
     "text": [
      "\r",
      "Upgrading database; v7 -> v8:   0%|          | 0/1 [00:00<?, ?it/s]"
     ]
    },
    {
     "name": "stdout",
     "output_type": "stream",
     "text": [
      "\r",
      "Upgrading database; v7 -> v8: 100%|██████████| 1/1 [00:00<00:00, 1112.55it/s]"
     ]
    },
    {
     "name": "stdout",
     "output_type": "stream",
     "text": [
      "\n",
      "\r",
      "  0%|          | 0/1 [00:00<?, ?it/s]"
     ]
    },
    {
     "name": "stdout",
     "output_type": "stream",
     "text": [
      "\r",
      "Upgrading database; v8 -> v9:   0%|          | 0/1 [00:00<?, ?it/s]"
     ]
    },
    {
     "name": "stdout",
     "output_type": "stream",
     "text": [
      "\r",
      "Upgrading database; v8 -> v9: 100%|██████████| 1/1 [00:00<00:00, 661.88it/s]"
     ]
    },
    {
     "name": "stdout",
     "output_type": "stream",
     "text": [
      "\n"
     ]
    }
   ],
   "source": [
    "initialise_database()\n",
    "exp = load_or_create_experiment(experiment_name='tutorial_exp', sample_name=\"no sample\")"
   ]
  },
  {
   "cell_type": "markdown",
   "metadata": {},
   "source": [
    "Here, we define a simple function to benchmark the time it takes to insert n points with either numeric or array data type.\n",
    "We will compare both the time used to call ``add_result`` and the time used for the full measurement."
   ]
  },
  {
   "cell_type": "code",
   "execution_count": 4,
   "metadata": {
    "execution": {
     "iopub.execute_input": "2021-01-27T07:21:16.646469Z",
     "iopub.status.busy": "2021-01-27T07:21:16.645328Z",
     "iopub.status.idle": "2021-01-27T07:21:16.647047Z",
     "shell.execute_reply": "2021-01-27T07:21:16.647584Z"
    }
   },
   "outputs": [],
   "source": [
    "def insert_data(paramtype, npoints, nreps=1):\n",
    "\n",
    "    meas = Measurement(exp=exp)\n",
    "\n",
    "    x1 = ManualParameter('x1')\n",
    "    x2 = ManualParameter('x2')\n",
    "    x3 = ManualParameter('x3')\n",
    "    y1 = ManualParameter('y1')\n",
    "    y2 = ManualParameter('y2')\n",
    "\n",
    "    meas.register_parameter(x1, paramtype=paramtype)\n",
    "    meas.register_parameter(x2, paramtype=paramtype)\n",
    "    meas.register_parameter(x3, paramtype=paramtype)\n",
    "    meas.register_parameter(y1, setpoints=[x1, x2, x3],\n",
    "                            paramtype=paramtype)\n",
    "    meas.register_parameter(y2, setpoints=[x1, x2, x3],\n",
    "                            paramtype=paramtype)\n",
    "    start = time.perf_counter()\n",
    "    with meas.run() as datasaver:\n",
    "        start_adding = time.perf_counter()\n",
    "        for i in range(nreps):\n",
    "            datasaver.add_result((x1, np.random.rand(npoints)),\n",
    "                                 (x2, np.random.rand(npoints)),\n",
    "                                 (x3, np.random.rand(npoints)),\n",
    "                                 (y1, np.random.rand(npoints)),\n",
    "                                 (y2, np.random.rand(npoints)))\n",
    "        stop_adding = time.perf_counter()\n",
    "        run_id = datasaver.run_id\n",
    "    stop = time.perf_counter()\n",
    "    tot_time = stop - start\n",
    "    add_time = stop_adding - start_adding\n",
    "    return tot_time, add_time, run_id"
   ]
  },
  {
   "cell_type": "markdown",
   "metadata": {},
   "source": [
    "## Comparison between numeric/array data and binary blob"
   ]
  },
  {
   "cell_type": "markdown",
   "metadata": {},
   "source": [
    "### Case1: Short experiment time"
   ]
  },
  {
   "cell_type": "code",
   "execution_count": 5,
   "metadata": {
    "execution": {
     "iopub.execute_input": "2021-01-27T07:21:16.653945Z",
     "iopub.status.busy": "2021-01-27T07:21:16.651558Z",
     "iopub.status.idle": "2021-01-27T07:21:17.493291Z",
     "shell.execute_reply": "2021-01-27T07:21:17.493730Z"
    }
   },
   "outputs": [
    {
     "name": "stdout",
     "output_type": "stream",
     "text": [
      "Starting experimental run with id: 1. \n",
      "Starting experimental run with id: 2. \n",
      "Starting experimental run with id: 3. \n",
      "Starting experimental run with id: 4. \n",
      "Starting experimental run with id: 5. \n"
     ]
    },
    {
     "name": "stdout",
     "output_type": "stream",
     "text": [
      "Starting experimental run with id: 6. \n"
     ]
    },
    {
     "name": "stdout",
     "output_type": "stream",
     "text": [
      "Starting experimental run with id: 7. \n"
     ]
    },
    {
     "name": "stdout",
     "output_type": "stream",
     "text": [
      "Starting experimental run with id: 8. \n",
      "Starting experimental run with id: 9. \n"
     ]
    },
    {
     "name": "stdout",
     "output_type": "stream",
     "text": [
      "Starting experimental run with id: 10. \n",
      "Starting experimental run with id: 11. \n"
     ]
    },
    {
     "name": "stdout",
     "output_type": "stream",
     "text": [
      "Starting experimental run with id: 12. \n",
      "Starting experimental run with id: 13. \n"
     ]
    },
    {
     "name": "stdout",
     "output_type": "stream",
     "text": [
      "Starting experimental run with id: 14. \n"
     ]
    }
   ],
   "source": [
    "sizes = [1,500,1000,2000,3000,4000,5000]\n",
    "t_numeric = []\n",
    "t_numeric_add = []\n",
    "t_array = []\n",
    "t_array_add = []\n",
    "for size in sizes:\n",
    "    tn, tna, run_id_n =  insert_data('numeric', size)\n",
    "    t_numeric.append(tn)\n",
    "    t_numeric_add.append(tna)\n",
    "\n",
    "    ta, taa, run_id_a =  insert_data('array', size)\n",
    "    t_array.append(ta)\n",
    "    t_array_add.append(taa)"
   ]
  },
  {
   "cell_type": "code",
   "execution_count": 6,
   "metadata": {
    "execution": {
     "iopub.execute_input": "2021-01-27T07:21:17.511680Z",
     "iopub.status.busy": "2021-01-27T07:21:17.500195Z",
     "iopub.status.idle": "2021-01-27T07:21:17.697572Z",
     "shell.execute_reply": "2021-01-27T07:21:17.696778Z"
    }
   },
   "outputs": [
    {
     "data": {
      "image/png": "[encoded data removed]",
      "text/plain": [
       "<Figure size 432x288 with 1 Axes>"
      ]
     },
     "metadata": {
      "needs_background": "light"
     },
     "output_type": "display_data"
    }
   ],
   "source": [
    "fig, ax = plt.subplots(1,1)\n",
    "ax.plot(sizes, t_numeric, 'o-', label='Inserting row-by-row')\n",
    "ax.plot(sizes, t_numeric_add, 'o-', label='Inserting row-by-row: add_result only')\n",
    "ax.plot(sizes, t_array, 'd-', label='Inserting as binary blob')\n",
    "ax.plot(sizes, t_array_add, 'd-', label='Inserting as binary blob: add_result only')\n",
    "ax.legend()\n",
    "ax.set_xlabel('Array length')\n",
    "ax.set_ylabel('Time (s)')\n",
    "fig.tight_layout()"
   ]
  },
  {
   "cell_type": "markdown",
   "metadata": {},
   "source": [
    "As shown in the latter figure, the time to setup and and close the experiment is approximately 0.4 sec. In case of small array sizes, the difference between inserting values of data as arrays and inserting them row-by-row is relatively unimportant. At larger array sizes, i.e. above 10000 points, the cost of writing data as individual datapoints starts to become important.\n"
   ]
  },
  {
   "cell_type": "markdown",
   "metadata": {},
   "source": [
    "### Case2: Long experiment time "
   ]
  },
  {
   "cell_type": "code",
   "execution_count": 7,
   "metadata": {
    "execution": {
     "iopub.execute_input": "2021-01-27T07:21:17.704664Z",
     "iopub.status.busy": "2021-01-27T07:21:17.703522Z",
     "iopub.status.idle": "2021-01-27T07:22:21.776384Z",
     "shell.execute_reply": "2021-01-27T07:22:21.775809Z"
    }
   },
   "outputs": [
    {
     "name": "stdout",
     "output_type": "stream",
     "text": [
      "Starting experimental run with id: 15. \n",
      "Starting experimental run with id: 16. \n",
      "Starting experimental run with id: 17. \n"
     ]
    },
    {
     "name": "stdout",
     "output_type": "stream",
     "text": [
      "Starting experimental run with id: 18. \n",
      "Starting experimental run with id: 19. \n"
     ]
    },
    {
     "name": "stdout",
     "output_type": "stream",
     "text": [
      "Starting experimental run with id: 20. \n"
     ]
    },
    {
     "name": "stdout",
     "output_type": "stream",
     "text": [
      "Starting experimental run with id: 21. \n"
     ]
    },
    {
     "name": "stdout",
     "output_type": "stream",
     "text": [
      "Starting experimental run with id: 22. \n"
     ]
    },
    {
     "name": "stdout",
     "output_type": "stream",
     "text": [
      "Starting experimental run with id: 23. \n"
     ]
    },
    {
     "name": "stdout",
     "output_type": "stream",
     "text": [
      "Starting experimental run with id: 24. \n"
     ]
    },
    {
     "name": "stdout",
     "output_type": "stream",
     "text": [
      "Starting experimental run with id: 25. \n"
     ]
    },
    {
     "name": "stdout",
     "output_type": "stream",
     "text": [
      "Starting experimental run with id: 26. \n"
     ]
    },
    {
     "name": "stdout",
     "output_type": "stream",
     "text": [
      "Starting experimental run with id: 27. \n"
     ]
    },
    {
     "name": "stdout",
     "output_type": "stream",
     "text": [
      "Starting experimental run with id: 28. \n"
     ]
    }
   ],
   "source": [
    "sizes = [1,500,1000,2000,3000,4000,5000]\n",
    "nreps = 100\n",
    "t_numeric = []\n",
    "t_numeric_add = []\n",
    "t_numeric_run_ids = []\n",
    "t_array = []\n",
    "t_array_add = []\n",
    "t_array_run_ids = []\n",
    "for size in sizes:\n",
    "    tn, tna, run_id_n =  insert_data('numeric', size, nreps=nreps)\n",
    "    t_numeric.append(tn)\n",
    "    t_numeric_add.append(tna)\n",
    "    t_numeric_run_ids.append(run_id_n)\n",
    "\n",
    "    ta, taa, run_id_a =  insert_data('array', size, nreps=nreps)\n",
    "    t_array.append(ta)\n",
    "    t_array_add.append(taa)\n",
    "    t_array_run_ids.append(run_id_a)"
   ]
  },
  {
   "cell_type": "code",
   "execution_count": 8,
   "metadata": {
    "execution": {
     "iopub.execute_input": "2021-01-27T07:22:21.817514Z",
     "iopub.status.busy": "2021-01-27T07:22:21.807271Z",
     "iopub.status.idle": "2021-01-27T07:22:21.986914Z",
     "shell.execute_reply": "2021-01-27T07:22:21.986382Z"
    },
    "scrolled": true
   },
   "outputs": [
    {
     "data": {
      "image/png": "[encoded data removed]",
      "text/plain": [
       "<Figure size 432x288 with 1 Axes>"
      ]
     },
     "metadata": {
      "needs_background": "light"
     },
     "output_type": "display_data"
    }
   ],
   "source": [
    "fig, ax = plt.subplots(1,1)\n",
    "ax.plot(sizes, t_numeric, 'o-', label='Inserting row-by-row')\n",
    "ax.plot(sizes, t_numeric_add, 'o-', label='Inserting row-by-row: add_result only')\n",
    "ax.plot(sizes, t_array, 'd-', label='Inserting as binary blob')\n",
    "ax.plot(sizes, t_array_add, 'd-', label='Inserting as binary blob: add_result only')\n",
    "ax.legend()\n",
    "ax.set_xlabel('Array length')\n",
    "ax.set_ylabel('Time (s)')\n",
    "fig.tight_layout()"
   ]
  },
  {
   "cell_type": "markdown",
   "metadata": {},
   "source": [
    "However, as we increase the length of the experiment, as seen here by repeating the insertion 100 times, we see a big difference between inserting values of the data row-by-row and inserting it as a binary blob."
   ]
  },
  {
   "cell_type": "markdown",
   "metadata": {},
   "source": [
    "## Loading the data "
   ]
  },
  {
   "cell_type": "code",
   "execution_count": 9,
   "metadata": {
    "execution": {
     "iopub.execute_input": "2021-01-27T07:22:21.991403Z",
     "iopub.status.busy": "2021-01-27T07:22:21.990483Z",
     "iopub.status.idle": "2021-01-27T07:22:21.993728Z",
     "shell.execute_reply": "2021-01-27T07:22:21.993275Z"
    }
   },
   "outputs": [],
   "source": [
    "from qcodes.dataset.data_set import load_by_id\n",
    "from qcodes.dataset.data_export import get_data_by_id"
   ]
  },
  {
   "cell_type": "markdown",
   "metadata": {},
   "source": [
    "As usual you can load the data by using the ``load_by_id`` function but you will notice that the different storage methods\n",
    "are reflected in shape of the data as it is retrieved. "
   ]
  },
  {
   "cell_type": "code",
   "execution_count": 10,
   "metadata": {
    "execution": {
     "iopub.execute_input": "2021-01-27T07:22:21.998221Z",
     "iopub.status.busy": "2021-01-27T07:22:21.997086Z",
     "iopub.status.idle": "2021-01-27T07:22:21.998801Z",
     "shell.execute_reply": "2021-01-27T07:22:21.999346Z"
    }
   },
   "outputs": [],
   "source": [
    "run_id_n = t_numeric_run_ids[0]\n",
    "run_id_a = t_array_run_ids[0]"
   ]
  },
  {
   "cell_type": "code",
   "execution_count": 11,
   "metadata": {
    "execution": {
     "iopub.execute_input": "2021-01-27T07:22:22.002587Z",
     "iopub.status.busy": "2021-01-27T07:22:22.002072Z",
     "iopub.status.idle": "2021-01-27T07:22:22.011490Z",
     "shell.execute_reply": "2021-01-27T07:22:22.012028Z"
    },
    "scrolled": true
   },
   "outputs": [
    {
     "data": {
      "text/plain": [
       "{'x1': {'x1': array([0.2326167 , 0.2326167 , 0.6279374 , 0.6279374 , 0.55241405,\n",
       "         0.55241405, 0.62441734, 0.62441734, 0.40217965, 0.40217965,\n",
       "         0.94344382, 0.94344382, 0.01135339, 0.01135339, 0.75231467,\n",
       "         0.75231467, 0.34060836, 0.34060836, 0.51240162, 0.51240162,\n",
       "         0.38941221, 0.38941221, 0.00639481, 0.00639481, 0.41643206,\n",
       "         0.41643206, 0.93278321, 0.93278321, 0.70568938, 0.70568938,\n",
       "         0.4010782 , 0.4010782 , 0.10200898, 0.10200898, 0.2614726 ,\n",
       "         0.2614726 , 0.27978064, 0.27978064, 0.41464982, 0.41464982,\n",
       "         0.47133827, 0.47133827, 0.16821367, 0.16821367, 0.83268377,\n",
       "         0.83268377, 0.52957173, 0.52957173, 0.61297628, 0.61297628,\n",
       "         0.06269503, 0.06269503, 0.09478136, 0.09478136, 0.30379104,\n",
       "         0.30379104, 0.78919761, 0.78919761, 0.44115777, 0.44115777,\n",
       "         0.1530607 , 0.1530607 , 0.15286   , 0.15286   , 0.79837225,\n",
       "         0.79837225, 0.41267817, 0.41267817, 0.0429777 , 0.0429777 ,\n",
       "         0.49220018, 0.49220018, 0.55171545, 0.55171545, 0.34621806,\n",
       "         0.34621806, 0.23402276, 0.23402276, 0.8259905 , 0.8259905 ,\n",
       "         0.0496853 , 0.0496853 , 0.92553359, 0.92553359, 0.4697997 ,\n",
       "         0.4697997 , 0.57169854, 0.57169854, 0.8771067 , 0.8771067 ,\n",
       "         0.58802982, 0.58802982, 0.91645101, 0.91645101, 0.05750799,\n",
       "         0.05750799, 0.24054012, 0.24054012, 0.27152442, 0.27152442,\n",
       "         0.67379679, 0.67379679, 0.50430849, 0.50430849, 0.92824746,\n",
       "         0.92824746, 0.70655654, 0.70655654, 0.9218494 , 0.9218494 ,\n",
       "         0.28009232, 0.28009232, 0.126663  , 0.126663  , 0.34220894,\n",
       "         0.34220894, 0.97021531, 0.97021531, 0.81087134, 0.81087134,\n",
       "         0.94737501, 0.94737501, 0.50430653, 0.50430653, 0.44329994,\n",
       "         0.44329994, 0.40216909, 0.40216909, 0.38996428, 0.38996428,\n",
       "         0.9337146 , 0.9337146 , 0.77845311, 0.77845311, 0.78979033,\n",
       "         0.78979033, 0.30961107, 0.30961107, 0.20464346, 0.20464346,\n",
       "         0.17344246, 0.17344246, 0.52196938, 0.52196938, 0.83421501,\n",
       "         0.83421501, 0.45823291, 0.45823291, 0.12505236, 0.12505236,\n",
       "         0.20971238, 0.20971238, 0.64523957, 0.64523957, 0.51334988,\n",
       "         0.51334988, 0.59310911, 0.59310911, 0.06078478, 0.06078478,\n",
       "         0.58690486, 0.58690486, 0.94429955, 0.94429955, 0.93213696,\n",
       "         0.93213696, 0.65123115, 0.65123115, 0.06951281, 0.06951281,\n",
       "         0.09567126, 0.09567126, 0.31911867, 0.31911867, 0.29612677,\n",
       "         0.29612677, 0.52230273, 0.52230273, 0.24304909, 0.24304909,\n",
       "         0.24087436, 0.24087436, 0.27759943, 0.27759943, 0.74545673,\n",
       "         0.74545673, 0.57601186, 0.57601186, 0.05896525, 0.05896525,\n",
       "         0.65073852, 0.65073852, 0.03897774, 0.03897774, 0.08920769,\n",
       "         0.08920769, 0.7962027 , 0.7962027 , 0.62275243, 0.62275243])}}"
      ]
     },
     "execution_count": 1,
     "metadata": {},
     "output_type": "execute_result"
    }
   ],
   "source": [
    "ds = load_by_id(run_id_n)\n",
    "ds.get_parameter_data('x1')"
   ]
  },
  {
   "cell_type": "markdown",
   "metadata": {},
   "source": [
    "And a dataset stored as binary arrays"
   ]
  },
  {
   "cell_type": "code",
   "execution_count": 12,
   "metadata": {
    "execution": {
     "iopub.execute_input": "2021-01-27T07:22:22.015293Z",
     "iopub.status.busy": "2021-01-27T07:22:22.014767Z",
     "iopub.status.idle": "2021-01-27T07:22:22.069733Z",
     "shell.execute_reply": "2021-01-27T07:22:22.070300Z"
    },
    "scrolled": true
   },
   "outputs": [
    {
     "data": {
      "text/plain": [
       "{'x1': {'x1': array([[3.64401973e-02],\n",
       "         [3.64401973e-02],\n",
       "         [1.25019317e-01],\n",
       "         [1.25019317e-01],\n",
       "         [2.38282960e-01],\n",
       "         [2.38282960e-01],\n",
       "         [4.42380396e-01],\n",
       "         [4.42380396e-01],\n",
       "         [3.10694879e-01],\n",
       "         [3.10694879e-01],\n",
       "         [7.47992879e-01],\n",
       "         [7.47992879e-01],\n",
       "         [1.52317381e-01],\n",
       "         [1.52317381e-01],\n",
       "         [7.06868633e-01],\n",
       "         [7.06868633e-01],\n",
       "         [1.01904244e-01],\n",
       "         [1.01904244e-01],\n",
       "         [1.78839543e-01],\n",
       "         [1.78839543e-01],\n",
       "         [7.10733062e-01],\n",
       "         [7.10733062e-01],\n",
       "         [8.38177259e-01],\n",
       "         [8.38177259e-01],\n",
       "         [6.98656114e-01],\n",
       "         [6.98656114e-01],\n",
       "         [6.60036015e-01],\n",
       "         [6.60036015e-01],\n",
       "         [9.23990469e-01],\n",
       "         [9.23990469e-01],\n",
       "         [4.98757635e-01],\n",
       "         [4.98757635e-01],\n",
       "         [8.32360527e-01],\n",
       "         [8.32360527e-01],\n",
       "         [6.50846377e-01],\n",
       "         [6.50846377e-01],\n",
       "         [8.18480997e-01],\n",
       "         [8.18480997e-01],\n",
       "         [5.66757015e-01],\n",
       "         [5.66757015e-01],\n",
       "         [3.64514716e-01],\n",
       "         [3.64514716e-01],\n",
       "         [5.24002729e-04],\n",
       "         [5.24002729e-04],\n",
       "         [5.29393844e-01],\n",
       "         [5.29393844e-01],\n",
       "         [4.16430026e-01],\n",
       "         [4.16430026e-01],\n",
       "         [8.89611722e-01],\n",
       "         [8.89611722e-01],\n",
       "         [2.69611895e-01],\n",
       "         [2.69611895e-01],\n",
       "         [9.84837361e-01],\n",
       "         [9.84837361e-01],\n",
       "         [2.68416136e-01],\n",
       "         [2.68416136e-01],\n",
       "         [9.04847654e-01],\n",
       "         [9.04847654e-01],\n",
       "         [9.28578298e-01],\n",
       "         [9.28578298e-01],\n",
       "         [6.13949719e-01],\n",
       "         [6.13949719e-01],\n",
       "         [2.12053057e-01],\n",
       "         [2.12053057e-01],\n",
       "         [5.50921084e-01],\n",
       "         [5.50921084e-01],\n",
       "         [8.63031324e-01],\n",
       "         [8.63031324e-01],\n",
       "         [8.55539464e-01],\n",
       "         [8.55539464e-01],\n",
       "         [2.87677440e-01],\n",
       "         [2.87677440e-01],\n",
       "         [2.96702677e-01],\n",
       "         [2.96702677e-01],\n",
       "         [7.73214456e-01],\n",
       "         [7.73214456e-01],\n",
       "         [7.12804305e-01],\n",
       "         [7.12804305e-01],\n",
       "         [7.23192257e-01],\n",
       "         [7.23192257e-01],\n",
       "         [5.34277826e-01],\n",
       "         [5.34277826e-01],\n",
       "         [6.14920014e-01],\n",
       "         [6.14920014e-01],\n",
       "         [5.69795172e-01],\n",
       "         [5.69795172e-01],\n",
       "         [8.62718685e-01],\n",
       "         [8.62718685e-01],\n",
       "         [7.70927253e-02],\n",
       "         [7.70927253e-02],\n",
       "         [4.51984016e-01],\n",
       "         [4.51984016e-01],\n",
       "         [3.27013642e-01],\n",
       "         [3.27013642e-01],\n",
       "         [3.85225516e-01],\n",
       "         [3.85225516e-01],\n",
       "         [9.78132317e-01],\n",
       "         [9.78132317e-01],\n",
       "         [3.63195244e-01],\n",
       "         [3.63195244e-01],\n",
       "         [4.94721769e-02],\n",
       "         [4.94721769e-02],\n",
       "         [1.10037790e-01],\n",
       "         [1.10037790e-01],\n",
       "         [5.12814556e-01],\n",
       "         [5.12814556e-01],\n",
       "         [8.10220203e-01],\n",
       "         [8.10220203e-01],\n",
       "         [5.47387059e-01],\n",
       "         [5.47387059e-01],\n",
       "         [5.85533238e-01],\n",
       "         [5.85533238e-01],\n",
       "         [7.81222465e-01],\n",
       "         [7.81222465e-01],\n",
       "         [2.09105174e-01],\n",
       "         [2.09105174e-01],\n",
       "         [4.19348909e-01],\n",
       "         [4.19348909e-01],\n",
       "         [7.68737759e-01],\n",
       "         [7.68737759e-01],\n",
       "         [5.43336116e-01],\n",
       "         [5.43336116e-01],\n",
       "         [4.78270515e-01],\n",
       "         [4.78270515e-01],\n",
       "         [4.71315119e-01],\n",
       "         [4.71315119e-01],\n",
       "         [1.71832959e-01],\n",
       "         [1.71832959e-01],\n",
       "         [3.88157539e-01],\n",
       "         [3.88157539e-01],\n",
       "         [4.44041592e-01],\n",
       "         [4.44041592e-01],\n",
       "         [7.65681255e-01],\n",
       "         [7.65681255e-01],\n",
       "         [1.61413275e-01],\n",
       "         [1.61413275e-01],\n",
       "         [7.71167077e-01],\n",
       "         [7.71167077e-01],\n",
       "         [8.66871719e-01],\n",
       "         [8.66871719e-01],\n",
       "         [1.50506290e-01],\n",
       "         [1.50506290e-01],\n",
       "         [2.16119670e-01],\n",
       "         [2.16119670e-01],\n",
       "         [8.10084198e-01],\n",
       "         [8.10084198e-01],\n",
       "         [2.61452865e-01],\n",
       "         [2.61452865e-01],\n",
       "         [3.42265807e-01],\n",
       "         [3.42265807e-01],\n",
       "         [7.83671763e-01],\n",
       "         [7.83671763e-01],\n",
       "         [8.38741643e-01],\n",
       "         [8.38741643e-01],\n",
       "         [4.95145495e-01],\n",
       "         [4.95145495e-01],\n",
       "         [4.34549877e-02],\n",
       "         [4.34549877e-02],\n",
       "         [1.59093044e-01],\n",
       "         [1.59093044e-01],\n",
       "         [5.85458629e-01],\n",
       "         [5.85458629e-01],\n",
       "         [2.90198112e-01],\n",
       "         [2.90198112e-01],\n",
       "         [7.06356589e-02],\n",
       "         [7.06356589e-02],\n",
       "         [9.41134328e-01],\n",
       "         [9.41134328e-01],\n",
       "         [2.50078276e-01],\n",
       "         [2.50078276e-01],\n",
       "         [2.79144636e-01],\n",
       "         [2.79144636e-01],\n",
       "         [1.75443250e-01],\n",
       "         [1.75443250e-01],\n",
       "         [5.65280792e-01],\n",
       "         [5.65280792e-01],\n",
       "         [3.31102336e-01],\n",
       "         [3.31102336e-01],\n",
       "         [4.39777498e-01],\n",
       "         [4.39777498e-01],\n",
       "         [5.89081429e-01],\n",
       "         [5.89081429e-01],\n",
       "         [7.67347717e-01],\n",
       "         [7.67347717e-01],\n",
       "         [2.67546089e-01],\n",
       "         [2.67546089e-01],\n",
       "         [4.34511943e-01],\n",
       "         [4.34511943e-01],\n",
       "         [8.27790273e-01],\n",
       "         [8.27790273e-01],\n",
       "         [9.95893728e-01],\n",
       "         [9.95893728e-01],\n",
       "         [9.07153553e-01],\n",
       "         [9.07153553e-01],\n",
       "         [9.78148417e-01],\n",
       "         [9.78148417e-01],\n",
       "         [1.68457893e-01],\n",
       "         [1.68457893e-01],\n",
       "         [6.09740971e-01],\n",
       "         [6.09740971e-01]])}}"
      ]
     },
     "execution_count": 1,
     "metadata": {},
     "output_type": "execute_result"
    }
   ],
   "source": [
    "ds = load_by_id(run_id_a)\n",
    "ds.get_parameter_data('x1')"
   ]
  },
  {
   "cell_type": "code",
   "execution_count": null,
   "metadata": {},
   "outputs": [],
   "source": []
  }
 ],
 "metadata": {
  "kernelspec": {
   "display_name": "Python 3",
   "language": "python",
   "name": "python3"
  },
  "language_info": {
   "codemirror_mode": {
    "name": "ipython",
    "version": 3
   },
   "file_extension": ".py",
   "mimetype": "text/x-python",
   "name": "python",
   "nbconvert_exporter": "python",
   "pygments_lexer": "ipython3",
   "version": "3.7.9"
  },
  "nbsphinx": {
   "timeout": 600
  },
  "toc": {
   "base_numbering": 1,
   "nav_menu": {},
   "number_sections": true,
   "sideBar": true,
   "skip_h1_title": false,
   "title_cell": "Table of Contents",
   "title_sidebar": "Contents",
   "toc_cell": false,
   "toc_position": {},
   "toc_section_display": true,
   "toc_window_display": false
  },
  "varInspector": {
   "cols": {
    "lenName": 16,
    "lenType": 16,
    "lenVar": 40
   },
   "kernels_config": {
    "python": {
     "delete_cmd_postfix": "",
     "delete_cmd_prefix": "del ",
     "library": "var_list.py",
     "varRefreshCmd": "print(var_dic_list())"
    },
    "r": {
     "delete_cmd_postfix": ") ",
     "delete_cmd_prefix": "rm(",
     "library": "var_list.r",
     "varRefreshCmd": "cat(var_dic_list()) "
    }
   },
   "types_to_exclude": [
    "module",
    "function",
    "builtin_function_or_method",
    "instance",
    "_Feature"
   ],
   "window_display": false
  }
 },
 "nbformat": 4,
 "nbformat_minor": 2
}
