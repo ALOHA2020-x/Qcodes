{
 "cells": [
  {
   "cell_type": "markdown",
   "metadata": {},
   "source": [
    "# DataSet Performance\n",
    "\n",
    "This notebook shows the trade-off between inserting data into a database row-by-row and as binary blobs. Inserting the data row-by-row means that we have direct access to all the data and may perform queries directly on the values of the data. On the other hand, as we shall see, this is much slower than inserting the data directly as binary blobs."
   ]
  },
  {
   "cell_type": "markdown",
   "metadata": {},
   "source": [
    "First, we choose a new location for the database to ensure that we don't add a bunch of benchmarking data to the default one."
   ]
  },
  {
   "cell_type": "code",
   "execution_count": 1,
   "metadata": {
    "execution": {
     "iopub.execute_input": "2021-01-08T09:38:56.497549Z",
     "iopub.status.busy": "2021-01-08T09:38:56.496653Z",
     "iopub.status.idle": "2021-01-08T09:38:57.602310Z",
     "shell.execute_reply": "2021-01-08T09:38:57.602784Z"
    }
   },
   "outputs": [
    {
     "name": "stdout",
     "output_type": "stream",
     "text": [
      "Logging hadn't been started.\n",
      "Activating auto-logging. Current session state plus future input saved.\n",
      "Filename       : /home/vsts/.qcodes/logs/command_history.log\n",
      "Mode           : append\n",
      "Output logging : True\n",
      "Raw input log  : False\n",
      "Timestamping   : True\n",
      "State          : active\n"
     ]
    },
    {
     "name": "stdout",
     "output_type": "stream",
     "text": [
      "Qcodes Logfile : /home/vsts/.qcodes/logs/210108-14074-qcodes.log\n"
     ]
    }
   ],
   "source": [
    "import os\n",
    "cwd = os.getcwd()\n",
    "import qcodes as qc\n",
    "qc.config[\"core\"][\"db_location\"] = os.path.join(cwd, 'testing.db')\n"
   ]
  },
  {
   "cell_type": "code",
   "execution_count": 2,
   "metadata": {
    "execution": {
     "iopub.execute_input": "2021-01-08T09:38:57.610116Z",
     "iopub.status.busy": "2021-01-08T09:38:57.608282Z",
     "iopub.status.idle": "2021-01-08T09:38:57.794546Z",
     "shell.execute_reply": "2021-01-08T09:38:57.793825Z"
    }
   },
   "outputs": [],
   "source": [
    "%matplotlib inline\n",
    "import time\n",
    "import matplotlib.pyplot as plt\n",
    "import numpy as np\n",
    "\n",
    "import qcodes as qc\n",
    "from qcodes.instrument.parameter import ManualParameter\n",
    "from qcodes.dataset.experiment_container import (Experiment,\n",
    "                                                 load_last_experiment,\n",
    "                                                 new_experiment)\n",
    "from qcodes.dataset.sqlite.database import initialise_database\n",
    "from qcodes import load_or_create_experiment\n",
    "from qcodes.dataset.measurements import Measurement"
   ]
  },
  {
   "cell_type": "code",
   "execution_count": 3,
   "metadata": {
    "execution": {
     "iopub.execute_input": "2021-01-08T09:38:57.798608Z",
     "iopub.status.busy": "2021-01-08T09:38:57.797904Z",
     "iopub.status.idle": "2021-01-08T09:38:57.908873Z",
     "shell.execute_reply": "2021-01-08T09:38:57.909440Z"
    }
   },
   "outputs": [
    {
     "name": "stdout",
     "output_type": "stream",
     "text": [
      "\r",
      "0it [00:00, ?it/s]"
     ]
    },
    {
     "name": "stdout",
     "output_type": "stream",
     "text": [
      "\r",
      "Upgrading database; v0 -> v1: : 0it [00:00, ?it/s]"
     ]
    },
    {
     "name": "stdout",
     "output_type": "stream",
     "text": [
      "\r",
      "Upgrading database; v0 -> v1: : 0it [00:00, ?it/s]"
     ]
    },
    {
     "name": "stdout",
     "output_type": "stream",
     "text": [
      "\n",
      "\r",
      "  0%|          | 0/1 [00:00<?, ?it/s]"
     ]
    },
    {
     "name": "stdout",
     "output_type": "stream",
     "text": [
      "\r",
      "Upgrading database; v1 -> v2:   0%|          | 0/1 [00:00<?, ?it/s]"
     ]
    },
    {
     "name": "stdout",
     "output_type": "stream",
     "text": [
      "\r",
      "Upgrading database; v1 -> v2: 100%|██████████| 1/1 [00:00<00:00, 505.64it/s]"
     ]
    },
    {
     "name": "stdout",
     "output_type": "stream",
     "text": [
      "\n",
      "\r",
      "0it [00:00, ?it/s]"
     ]
    },
    {
     "name": "stdout",
     "output_type": "stream",
     "text": [
      "\r",
      "Upgrading database; v2 -> v3: : 0it [00:00, ?it/s]"
     ]
    },
    {
     "name": "stdout",
     "output_type": "stream",
     "text": [
      "\r",
      "Upgrading database; v2 -> v3: : 0it [00:00, ?it/s]"
     ]
    },
    {
     "name": "stdout",
     "output_type": "stream",
     "text": [
      "\n",
      "\r",
      "0it [00:00, ?it/s]"
     ]
    },
    {
     "name": "stdout",
     "output_type": "stream",
     "text": [
      "\r",
      "Upgrading database; v3 -> v4: : 0it [00:00, ?it/s]"
     ]
    },
    {
     "name": "stdout",
     "output_type": "stream",
     "text": [
      "\r",
      "Upgrading database; v3 -> v4: : 0it [00:00, ?it/s]"
     ]
    },
    {
     "name": "stdout",
     "output_type": "stream",
     "text": [
      "\n",
      "\r",
      "  0%|          | 0/1 [00:00<?, ?it/s]"
     ]
    },
    {
     "name": "stdout",
     "output_type": "stream",
     "text": [
      "\r",
      "Upgrading database; v4 -> v5:   0%|          | 0/1 [00:00<?, ?it/s]"
     ]
    },
    {
     "name": "stdout",
     "output_type": "stream",
     "text": [
      "\r",
      "Upgrading database; v4 -> v5: 100%|██████████| 1/1 [00:00<00:00, 1034.61it/s]"
     ]
    },
    {
     "name": "stdout",
     "output_type": "stream",
     "text": [
      "\n",
      "\r",
      "0it [00:00, ?it/s]"
     ]
    },
    {
     "name": "stdout",
     "output_type": "stream",
     "text": [
      "\r",
      "Upgrading database; v5 -> v6: : 0it [00:00, ?it/s]"
     ]
    },
    {
     "name": "stdout",
     "output_type": "stream",
     "text": [
      "\r",
      "Upgrading database; v5 -> v6: : 0it [00:00, ?it/s]"
     ]
    },
    {
     "name": "stdout",
     "output_type": "stream",
     "text": [
      "\n",
      "\r",
      "  0%|          | 0/1 [00:00<?, ?it/s]"
     ]
    },
    {
     "name": "stdout",
     "output_type": "stream",
     "text": [
      "\r",
      "Upgrading database; v6 -> v7:   0%|          | 0/1 [00:00<?, ?it/s]"
     ]
    },
    {
     "name": "stdout",
     "output_type": "stream",
     "text": [
      "\r",
      "Upgrading database; v6 -> v7: 100%|██████████| 1/1 [00:00<00:00, 332.30it/s]"
     ]
    },
    {
     "name": "stdout",
     "output_type": "stream",
     "text": [
      "\n",
      "\r",
      "  0%|          | 0/1 [00:00<?, ?it/s]"
     ]
    },
    {
     "name": "stdout",
     "output_type": "stream",
     "text": [
      "\r",
      "Upgrading database; v7 -> v8:   0%|          | 0/1 [00:00<?, ?it/s]"
     ]
    },
    {
     "name": "stdout",
     "output_type": "stream",
     "text": [
      "\r",
      "Upgrading database; v7 -> v8: 100%|██████████| 1/1 [00:00<00:00, 631.20it/s]"
     ]
    },
    {
     "name": "stdout",
     "output_type": "stream",
     "text": [
      "\n",
      "\r",
      "  0%|          | 0/1 [00:00<?, ?it/s]"
     ]
    },
    {
     "name": "stdout",
     "output_type": "stream",
     "text": [
      "\r",
      "Upgrading database; v8 -> v9:   0%|          | 0/1 [00:00<?, ?it/s]"
     ]
    },
    {
     "name": "stdout",
     "output_type": "stream",
     "text": [
      "\r",
      "Upgrading database; v8 -> v9: 100%|██████████| 1/1 [00:00<00:00, 368.67it/s]"
     ]
    },
    {
     "name": "stdout",
     "output_type": "stream",
     "text": [
      "\n"
     ]
    }
   ],
   "source": [
    "initialise_database()\n",
    "exp = load_or_create_experiment(experiment_name='tutorial_exp', sample_name=\"no sample\")"
   ]
  },
  {
   "cell_type": "markdown",
   "metadata": {},
   "source": [
    "Here, we define a simple function to benchmark the time it takes to insert n points with either numeric or array data type.\n",
    "We will compare both the time used to call ``add_result`` and the time used for the full measurement."
   ]
  },
  {
   "cell_type": "code",
   "execution_count": 4,
   "metadata": {
    "execution": {
     "iopub.execute_input": "2021-01-08T09:38:57.917561Z",
     "iopub.status.busy": "2021-01-08T09:38:57.917019Z",
     "iopub.status.idle": "2021-01-08T09:38:57.921079Z",
     "shell.execute_reply": "2021-01-08T09:38:57.920553Z"
    }
   },
   "outputs": [],
   "source": [
    "def insert_data(paramtype, npoints, nreps=1):\n",
    "\n",
    "    meas = Measurement(exp=exp)\n",
    "\n",
    "    x1 = ManualParameter('x1')\n",
    "    x2 = ManualParameter('x2')\n",
    "    x3 = ManualParameter('x3')\n",
    "    y1 = ManualParameter('y1')\n",
    "    y2 = ManualParameter('y2')\n",
    "\n",
    "    meas.register_parameter(x1, paramtype=paramtype)\n",
    "    meas.register_parameter(x2, paramtype=paramtype)\n",
    "    meas.register_parameter(x3, paramtype=paramtype)\n",
    "    meas.register_parameter(y1, setpoints=[x1, x2, x3],\n",
    "                            paramtype=paramtype)\n",
    "    meas.register_parameter(y2, setpoints=[x1, x2, x3],\n",
    "                            paramtype=paramtype)\n",
    "    start = time.perf_counter()\n",
    "    with meas.run() as datasaver:\n",
    "        start_adding = time.perf_counter()\n",
    "        for i in range(nreps):\n",
    "            datasaver.add_result((x1, np.random.rand(npoints)),\n",
    "                                 (x2, np.random.rand(npoints)),\n",
    "                                 (x3, np.random.rand(npoints)),\n",
    "                                 (y1, np.random.rand(npoints)),\n",
    "                                 (y2, np.random.rand(npoints)))\n",
    "        stop_adding = time.perf_counter()\n",
    "        run_id = datasaver.run_id\n",
    "    stop = time.perf_counter()\n",
    "    tot_time = stop - start\n",
    "    add_time = stop_adding - start_adding\n",
    "    return tot_time, add_time, run_id"
   ]
  },
  {
   "cell_type": "markdown",
   "metadata": {},
   "source": [
    "## Comparison between numeric/array data and binary blob"
   ]
  },
  {
   "cell_type": "markdown",
   "metadata": {},
   "source": [
    "### Case1: Short experiment time"
   ]
  },
  {
   "cell_type": "code",
   "execution_count": 5,
   "metadata": {
    "execution": {
     "iopub.execute_input": "2021-01-08T09:38:57.928206Z",
     "iopub.status.busy": "2021-01-08T09:38:57.927664Z",
     "iopub.status.idle": "2021-01-08T09:38:58.778118Z",
     "shell.execute_reply": "2021-01-08T09:38:58.777541Z"
    }
   },
   "outputs": [
    {
     "name": "stdout",
     "output_type": "stream",
     "text": [
      "Starting experimental run with id: 1. \n",
      "Starting experimental run with id: 2. \n",
      "Starting experimental run with id: 3. \n",
      "Starting experimental run with id: 4. \n",
      "Starting experimental run with id: 5. \n"
     ]
    },
    {
     "name": "stdout",
     "output_type": "stream",
     "text": [
      "Starting experimental run with id: 6. "
     ]
    },
    {
     "name": "stdout",
     "output_type": "stream",
     "text": [
      "\n"
     ]
    },
    {
     "name": "stdout",
     "output_type": "stream",
     "text": [
      "Starting experimental run with id: 7. \n"
     ]
    },
    {
     "name": "stdout",
     "output_type": "stream",
     "text": [
      "Starting experimental run with id: 8. \n",
      "Starting experimental run with id: 9. \n"
     ]
    },
    {
     "name": "stdout",
     "output_type": "stream",
     "text": [
      "Starting experimental run with id: 10. \n",
      "Starting experimental run with id: 11. \n"
     ]
    },
    {
     "name": "stdout",
     "output_type": "stream",
     "text": [
      "Starting experimental run with id: 12. \n",
      "Starting experimental run with id: 13. \n"
     ]
    },
    {
     "name": "stdout",
     "output_type": "stream",
     "text": [
      "Starting experimental run with id: 14. \n"
     ]
    }
   ],
   "source": [
    "sizes = [1,500,1000,2000,3000,4000,5000]\n",
    "t_numeric = []\n",
    "t_numeric_add = []\n",
    "t_array = []\n",
    "t_array_add = []\n",
    "for size in sizes:\n",
    "    tn, tna, run_id_n =  insert_data('numeric', size)\n",
    "    t_numeric.append(tn)\n",
    "    t_numeric_add.append(tna)\n",
    "\n",
    "    ta, taa, run_id_a =  insert_data('array', size)\n",
    "    t_array.append(ta)\n",
    "    t_array_add.append(taa)"
   ]
  },
  {
   "cell_type": "code",
   "execution_count": 6,
   "metadata": {
    "execution": {
     "iopub.execute_input": "2021-01-08T09:38:58.804532Z",
     "iopub.status.busy": "2021-01-08T09:38:58.795816Z",
     "iopub.status.idle": "2021-01-08T09:38:58.994072Z",
     "shell.execute_reply": "2021-01-08T09:38:58.993497Z"
    }
   },
   "outputs": [
    {
     "data": {
      "image/png": "[encoded data removed]",
      "text/plain": [
       "<Figure size 432x288 with 1 Axes>"
      ]
     },
     "metadata": {
      "needs_background": "light"
     },
     "output_type": "display_data"
    }
   ],
   "source": [
    "fig, ax = plt.subplots(1,1)\n",
    "ax.plot(sizes, t_numeric, 'o-', label='Inserting row-by-row')\n",
    "ax.plot(sizes, t_numeric_add, 'o-', label='Inserting row-by-row: add_result only')\n",
    "ax.plot(sizes, t_array, 'd-', label='Inserting as binary blob')\n",
    "ax.plot(sizes, t_array_add, 'd-', label='Inserting as binary blob: add_result only')\n",
    "ax.legend()\n",
    "ax.set_xlabel('Array length')\n",
    "ax.set_ylabel('Time (s)')\n",
    "fig.tight_layout()"
   ]
  },
  {
   "cell_type": "markdown",
   "metadata": {},
   "source": [
    "As shown in the latter figure, the time to setup and and close the experiment is approximately 0.4 sec. In case of small array sizes, the difference between inserting values of data as arrays and inserting them row-by-row is relatively unimportant. At larger array sizes, i.e. above 10000 points, the cost of writing data as individual datapoints starts to become important.\n"
   ]
  },
  {
   "cell_type": "markdown",
   "metadata": {},
   "source": [
    "### Case2: Long experiment time "
   ]
  },
  {
   "cell_type": "code",
   "execution_count": 7,
   "metadata": {
    "execution": {
     "iopub.execute_input": "2021-01-08T09:38:59.001565Z",
     "iopub.status.busy": "2021-01-08T09:38:59.000655Z",
     "iopub.status.idle": "2021-01-08T09:39:57.634645Z",
     "shell.execute_reply": "2021-01-08T09:39:57.633777Z"
    }
   },
   "outputs": [
    {
     "name": "stdout",
     "output_type": "stream",
     "text": [
      "Starting experimental run with id: 15. \n",
      "Starting experimental run with id: 16. \n",
      "Starting experimental run with id: 17. \n"
     ]
    },
    {
     "name": "stdout",
     "output_type": "stream",
     "text": [
      "Starting experimental run with id: 18. \n",
      "Starting experimental run with id: 19. \n"
     ]
    },
    {
     "name": "stdout",
     "output_type": "stream",
     "text": [
      "Starting experimental run with id: 20. \n"
     ]
    },
    {
     "name": "stdout",
     "output_type": "stream",
     "text": [
      "Starting experimental run with id: 21. \n"
     ]
    },
    {
     "name": "stdout",
     "output_type": "stream",
     "text": [
      "Starting experimental run with id: 22. \n"
     ]
    },
    {
     "name": "stdout",
     "output_type": "stream",
     "text": [
      "Starting experimental run with id: 23. \n"
     ]
    },
    {
     "name": "stdout",
     "output_type": "stream",
     "text": [
      "Starting experimental run with id: 24. \n"
     ]
    },
    {
     "name": "stdout",
     "output_type": "stream",
     "text": [
      "Starting experimental run with id: 25. \n"
     ]
    },
    {
     "name": "stdout",
     "output_type": "stream",
     "text": [
      "Starting experimental run with id: 26. \n"
     ]
    },
    {
     "name": "stdout",
     "output_type": "stream",
     "text": [
      "Starting experimental run with id: 27. \n"
     ]
    },
    {
     "name": "stdout",
     "output_type": "stream",
     "text": [
      "Starting experimental run with id: 28. \n"
     ]
    }
   ],
   "source": [
    "sizes = [1,500,1000,2000,3000,4000,5000]\n",
    "nreps = 100\n",
    "t_numeric = []\n",
    "t_numeric_add = []\n",
    "t_numeric_run_ids = []\n",
    "t_array = []\n",
    "t_array_add = []\n",
    "t_array_run_ids = []\n",
    "for size in sizes:\n",
    "    tn, tna, run_id_n =  insert_data('numeric', size, nreps=nreps)\n",
    "    t_numeric.append(tn)\n",
    "    t_numeric_add.append(tna)\n",
    "    t_numeric_run_ids.append(run_id_n)\n",
    "\n",
    "    ta, taa, run_id_a =  insert_data('array', size, nreps=nreps)\n",
    "    t_array.append(ta)\n",
    "    t_array_add.append(taa)\n",
    "    t_array_run_ids.append(run_id_a)"
   ]
  },
  {
   "cell_type": "code",
   "execution_count": 8,
   "metadata": {
    "execution": {
     "iopub.execute_input": "2021-01-08T09:39:57.661221Z",
     "iopub.status.busy": "2021-01-08T09:39:57.658694Z",
     "iopub.status.idle": "2021-01-08T09:39:57.857392Z",
     "shell.execute_reply": "2021-01-08T09:39:57.857855Z"
    },
    "scrolled": true
   },
   "outputs": [
    {
     "data": {
      "image/png": "[encoded data removed]",
      "text/plain": [
       "<Figure size 432x288 with 1 Axes>"
      ]
     },
     "metadata": {
      "needs_background": "light"
     },
     "output_type": "display_data"
    }
   ],
   "source": [
    "fig, ax = plt.subplots(1,1)\n",
    "ax.plot(sizes, t_numeric, 'o-', label='Inserting row-by-row')\n",
    "ax.plot(sizes, t_numeric_add, 'o-', label='Inserting row-by-row: add_result only')\n",
    "ax.plot(sizes, t_array, 'd-', label='Inserting as binary blob')\n",
    "ax.plot(sizes, t_array_add, 'd-', label='Inserting as binary blob: add_result only')\n",
    "ax.legend()\n",
    "ax.set_xlabel('Array length')\n",
    "ax.set_ylabel('Time (s)')\n",
    "fig.tight_layout()"
   ]
  },
  {
   "cell_type": "markdown",
   "metadata": {},
   "source": [
    "However, as we increase the length of the experiment, as seen here by repeating the insertion 100 times, we see a big difference between inserting values of the data row-by-row and inserting it as a binary blob."
   ]
  },
  {
   "cell_type": "markdown",
   "metadata": {},
   "source": [
    "## Loading the data "
   ]
  },
  {
   "cell_type": "code",
   "execution_count": 9,
   "metadata": {
    "execution": {
     "iopub.execute_input": "2021-01-08T09:39:57.862234Z",
     "iopub.status.busy": "2021-01-08T09:39:57.861609Z",
     "iopub.status.idle": "2021-01-08T09:39:57.864783Z",
     "shell.execute_reply": "2021-01-08T09:39:57.865382Z"
    }
   },
   "outputs": [],
   "source": [
    "from qcodes.dataset.data_set import load_by_id\n",
    "from qcodes.dataset.data_export import get_data_by_id"
   ]
  },
  {
   "cell_type": "markdown",
   "metadata": {},
   "source": [
    "As usual you can load the data by using the ``load_by_id`` function but you will notice that the different storage methods\n",
    "are reflected in shape of the data as it is retrieved. "
   ]
  },
  {
   "cell_type": "code",
   "execution_count": 10,
   "metadata": {
    "execution": {
     "iopub.execute_input": "2021-01-08T09:39:57.869971Z",
     "iopub.status.busy": "2021-01-08T09:39:57.868709Z",
     "iopub.status.idle": "2021-01-08T09:39:57.870554Z",
     "shell.execute_reply": "2021-01-08T09:39:57.871152Z"
    }
   },
   "outputs": [],
   "source": [
    "run_id_n = t_numeric_run_ids[0]\n",
    "run_id_a = t_array_run_ids[0]"
   ]
  },
  {
   "cell_type": "code",
   "execution_count": 11,
   "metadata": {
    "execution": {
     "iopub.execute_input": "2021-01-08T09:39:57.874395Z",
     "iopub.status.busy": "2021-01-08T09:39:57.873808Z",
     "iopub.status.idle": "2021-01-08T09:39:57.883684Z",
     "shell.execute_reply": "2021-01-08T09:39:57.884275Z"
    },
    "scrolled": true
   },
   "outputs": [
    {
     "data": {
      "text/plain": [
       "{'x1': {'x1': array([0.18931139, 0.18931139, 0.54600479, 0.54600479, 0.37034474,\n",
       "         0.37034474, 0.17761126, 0.17761126, 0.74324404, 0.74324404,\n",
       "         0.64063116, 0.64063116, 0.52839905, 0.52839905, 0.28966098,\n",
       "         0.28966098, 0.97807228, 0.97807228, 0.91425702, 0.91425702,\n",
       "         0.9175815 , 0.9175815 , 0.66575801, 0.66575801, 0.37800643,\n",
       "         0.37800643, 0.81514791, 0.81514791, 0.84270588, 0.84270588,\n",
       "         0.98969872, 0.98969872, 0.40054814, 0.40054814, 0.53620249,\n",
       "         0.53620249, 0.11220109, 0.11220109, 0.49344922, 0.49344922,\n",
       "         0.71049825, 0.71049825, 0.53702399, 0.53702399, 0.2211588 ,\n",
       "         0.2211588 , 0.87408788, 0.87408788, 0.98177961, 0.98177961,\n",
       "         0.61036984, 0.61036984, 0.56016665, 0.56016665, 0.9974541 ,\n",
       "         0.9974541 , 0.29322582, 0.29322582, 0.82647293, 0.82647293,\n",
       "         0.39825557, 0.39825557, 0.32030536, 0.32030536, 0.97770439,\n",
       "         0.97770439, 0.92791369, 0.92791369, 0.39978174, 0.39978174,\n",
       "         0.33997649, 0.33997649, 0.72020108, 0.72020108, 0.63163229,\n",
       "         0.63163229, 0.01087594, 0.01087594, 0.24921073, 0.24921073,\n",
       "         0.62097959, 0.62097959, 0.36267789, 0.36267789, 0.74009026,\n",
       "         0.74009026, 0.78250001, 0.78250001, 0.16557515, 0.16557515,\n",
       "         0.77088282, 0.77088282, 0.91728238, 0.91728238, 0.63770667,\n",
       "         0.63770667, 0.87947759, 0.87947759, 0.89887109, 0.89887109,\n",
       "         0.15139392, 0.15139392, 0.66742072, 0.66742072, 0.24959142,\n",
       "         0.24959142, 0.87720337, 0.87720337, 0.86226415, 0.86226415,\n",
       "         0.97122756, 0.97122756, 0.49590189, 0.49590189, 0.89002899,\n",
       "         0.89002899, 0.54336899, 0.54336899, 0.09555756, 0.09555756,\n",
       "         0.38326331, 0.38326331, 0.19038902, 0.19038902, 0.64504053,\n",
       "         0.64504053, 0.99970579, 0.99970579, 0.91013579, 0.91013579,\n",
       "         0.93235624, 0.93235624, 0.5569644 , 0.5569644 , 0.90005769,\n",
       "         0.90005769, 0.58661438, 0.58661438, 0.79252811, 0.79252811,\n",
       "         0.89749806, 0.89749806, 0.75274156, 0.75274156, 0.78710768,\n",
       "         0.78710768, 0.1290271 , 0.1290271 , 0.71066772, 0.71066772,\n",
       "         0.67712531, 0.67712531, 0.68996935, 0.68996935, 0.04844053,\n",
       "         0.04844053, 0.25768278, 0.25768278, 0.50480048, 0.50480048,\n",
       "         0.79472328, 0.79472328, 0.14458226, 0.14458226, 0.78824357,\n",
       "         0.78824357, 0.33691462, 0.33691462, 0.15076288, 0.15076288,\n",
       "         0.0818501 , 0.0818501 , 0.05983267, 0.05983267, 0.90402153,\n",
       "         0.90402153, 0.8871597 , 0.8871597 , 0.74304263, 0.74304263,\n",
       "         0.30928412, 0.30928412, 0.83157655, 0.83157655, 0.70393889,\n",
       "         0.70393889, 0.97375841, 0.97375841, 0.55703681, 0.55703681,\n",
       "         0.59570516, 0.59570516, 0.46054648, 0.46054648, 0.55493544,\n",
       "         0.55493544, 0.4266384 , 0.4266384 , 0.45819953, 0.45819953])}}"
      ]
     },
     "execution_count": 1,
     "metadata": {},
     "output_type": "execute_result"
    }
   ],
   "source": [
    "ds = load_by_id(run_id_n)\n",
    "ds.get_parameter_data('x1')"
   ]
  },
  {
   "cell_type": "markdown",
   "metadata": {},
   "source": [
    "And a dataset stored as binary arrays"
   ]
  },
  {
   "cell_type": "code",
   "execution_count": 12,
   "metadata": {
    "execution": {
     "iopub.execute_input": "2021-01-08T09:39:57.887703Z",
     "iopub.status.busy": "2021-01-08T09:39:57.887123Z",
     "iopub.status.idle": "2021-01-08T09:39:57.949701Z",
     "shell.execute_reply": "2021-01-08T09:39:57.949095Z"
    },
    "scrolled": true
   },
   "outputs": [
    {
     "data": {
      "text/plain": [
       "{'x1': {'x1': array([[0.4135465 ],\n",
       "         [0.4135465 ],\n",
       "         [0.29990615],\n",
       "         [0.29990615],\n",
       "         [0.32806491],\n",
       "         [0.32806491],\n",
       "         [0.52303898],\n",
       "         [0.52303898],\n",
       "         [0.6298389 ],\n",
       "         [0.6298389 ],\n",
       "         [0.40215398],\n",
       "         [0.40215398],\n",
       "         [0.51959654],\n",
       "         [0.51959654],\n",
       "         [0.64098584],\n",
       "         [0.64098584],\n",
       "         [0.50584547],\n",
       "         [0.50584547],\n",
       "         [0.82457117],\n",
       "         [0.82457117],\n",
       "         [0.85616693],\n",
       "         [0.85616693],\n",
       "         [0.7083677 ],\n",
       "         [0.7083677 ],\n",
       "         [0.11487437],\n",
       "         [0.11487437],\n",
       "         [0.64772644],\n",
       "         [0.64772644],\n",
       "         [0.5247102 ],\n",
       "         [0.5247102 ],\n",
       "         [0.62479532],\n",
       "         [0.62479532],\n",
       "         [0.89708125],\n",
       "         [0.89708125],\n",
       "         [0.46315966],\n",
       "         [0.46315966],\n",
       "         [0.97371369],\n",
       "         [0.97371369],\n",
       "         [0.71436454],\n",
       "         [0.71436454],\n",
       "         [0.58211121],\n",
       "         [0.58211121],\n",
       "         [0.40842781],\n",
       "         [0.40842781],\n",
       "         [0.58786969],\n",
       "         [0.58786969],\n",
       "         [0.46697357],\n",
       "         [0.46697357],\n",
       "         [0.52761251],\n",
       "         [0.52761251],\n",
       "         [0.19624437],\n",
       "         [0.19624437],\n",
       "         [0.3977106 ],\n",
       "         [0.3977106 ],\n",
       "         [0.61013496],\n",
       "         [0.61013496],\n",
       "         [0.0166726 ],\n",
       "         [0.0166726 ],\n",
       "         [0.93938169],\n",
       "         [0.93938169],\n",
       "         [0.62126389],\n",
       "         [0.62126389],\n",
       "         [0.72379445],\n",
       "         [0.72379445],\n",
       "         [0.21877176],\n",
       "         [0.21877176],\n",
       "         [0.60315088],\n",
       "         [0.60315088],\n",
       "         [0.41784405],\n",
       "         [0.41784405],\n",
       "         [0.02799271],\n",
       "         [0.02799271],\n",
       "         [0.57466578],\n",
       "         [0.57466578],\n",
       "         [0.94746561],\n",
       "         [0.94746561],\n",
       "         [0.72605665],\n",
       "         [0.72605665],\n",
       "         [0.7499836 ],\n",
       "         [0.7499836 ],\n",
       "         [0.34807984],\n",
       "         [0.34807984],\n",
       "         [0.96012977],\n",
       "         [0.96012977],\n",
       "         [0.49311778],\n",
       "         [0.49311778],\n",
       "         [0.8006785 ],\n",
       "         [0.8006785 ],\n",
       "         [0.72407847],\n",
       "         [0.72407847],\n",
       "         [0.19427172],\n",
       "         [0.19427172],\n",
       "         [0.00152067],\n",
       "         [0.00152067],\n",
       "         [0.40479007],\n",
       "         [0.40479007],\n",
       "         [0.98206062],\n",
       "         [0.98206062],\n",
       "         [0.54234073],\n",
       "         [0.54234073],\n",
       "         [0.51484607],\n",
       "         [0.51484607],\n",
       "         [0.03803862],\n",
       "         [0.03803862],\n",
       "         [0.90767256],\n",
       "         [0.90767256],\n",
       "         [0.79331562],\n",
       "         [0.79331562],\n",
       "         [0.72637306],\n",
       "         [0.72637306],\n",
       "         [0.09605718],\n",
       "         [0.09605718],\n",
       "         [0.6194502 ],\n",
       "         [0.6194502 ],\n",
       "         [0.7981449 ],\n",
       "         [0.7981449 ],\n",
       "         [0.83202995],\n",
       "         [0.83202995],\n",
       "         [0.66921901],\n",
       "         [0.66921901],\n",
       "         [0.19972433],\n",
       "         [0.19972433],\n",
       "         [0.06867634],\n",
       "         [0.06867634],\n",
       "         [0.80070711],\n",
       "         [0.80070711],\n",
       "         [0.93255651],\n",
       "         [0.93255651],\n",
       "         [0.25317386],\n",
       "         [0.25317386],\n",
       "         [0.99064884],\n",
       "         [0.99064884],\n",
       "         [0.80755243],\n",
       "         [0.80755243],\n",
       "         [0.58589833],\n",
       "         [0.58589833],\n",
       "         [0.42571553],\n",
       "         [0.42571553],\n",
       "         [0.61071236],\n",
       "         [0.61071236],\n",
       "         [0.10821093],\n",
       "         [0.10821093],\n",
       "         [0.17507953],\n",
       "         [0.17507953],\n",
       "         [0.48972051],\n",
       "         [0.48972051],\n",
       "         [0.9220294 ],\n",
       "         [0.9220294 ],\n",
       "         [0.36647327],\n",
       "         [0.36647327],\n",
       "         [0.0727704 ],\n",
       "         [0.0727704 ],\n",
       "         [0.04040267],\n",
       "         [0.04040267],\n",
       "         [0.36779832],\n",
       "         [0.36779832],\n",
       "         [0.20580428],\n",
       "         [0.20580428],\n",
       "         [0.43842956],\n",
       "         [0.43842956],\n",
       "         [0.39698456],\n",
       "         [0.39698456],\n",
       "         [0.74839322],\n",
       "         [0.74839322],\n",
       "         [0.20746377],\n",
       "         [0.20746377],\n",
       "         [0.64119783],\n",
       "         [0.64119783],\n",
       "         [0.41560543],\n",
       "         [0.41560543],\n",
       "         [0.72178466],\n",
       "         [0.72178466],\n",
       "         [0.1963536 ],\n",
       "         [0.1963536 ],\n",
       "         [0.9386992 ],\n",
       "         [0.9386992 ],\n",
       "         [0.89873115],\n",
       "         [0.89873115],\n",
       "         [0.66939399],\n",
       "         [0.66939399],\n",
       "         [0.68612653],\n",
       "         [0.68612653],\n",
       "         [0.33076632],\n",
       "         [0.33076632],\n",
       "         [0.3950526 ],\n",
       "         [0.3950526 ],\n",
       "         [0.40670552],\n",
       "         [0.40670552],\n",
       "         [0.16796972],\n",
       "         [0.16796972],\n",
       "         [0.09389784],\n",
       "         [0.09389784],\n",
       "         [0.84443141],\n",
       "         [0.84443141],\n",
       "         [0.62569278],\n",
       "         [0.62569278],\n",
       "         [0.95147682],\n",
       "         [0.95147682],\n",
       "         [0.45479619],\n",
       "         [0.45479619]])}}"
      ]
     },
     "execution_count": 1,
     "metadata": {},
     "output_type": "execute_result"
    }
   ],
   "source": [
    "ds = load_by_id(run_id_a)\n",
    "ds.get_parameter_data('x1')"
   ]
  },
  {
   "cell_type": "code",
   "execution_count": null,
   "metadata": {},
   "outputs": [],
   "source": []
  }
 ],
 "metadata": {
  "kernelspec": {
   "display_name": "Python 3",
   "language": "python",
   "name": "python3"
  },
  "language_info": {
   "codemirror_mode": {
    "name": "ipython",
    "version": 3
   },
   "file_extension": ".py",
   "mimetype": "text/x-python",
   "name": "python",
   "nbconvert_exporter": "python",
   "pygments_lexer": "ipython3",
   "version": "3.7.9"
  },
  "nbsphinx": {
   "timeout": 600
  },
  "toc": {
   "base_numbering": 1,
   "nav_menu": {},
   "number_sections": true,
   "sideBar": true,
   "skip_h1_title": false,
   "title_cell": "Table of Contents",
   "title_sidebar": "Contents",
   "toc_cell": false,
   "toc_position": {},
   "toc_section_display": true,
   "toc_window_display": false
  },
  "varInspector": {
   "cols": {
    "lenName": 16,
    "lenType": 16,
    "lenVar": 40
   },
   "kernels_config": {
    "python": {
     "delete_cmd_postfix": "",
     "delete_cmd_prefix": "del ",
     "library": "var_list.py",
     "varRefreshCmd": "print(var_dic_list())"
    },
    "r": {
     "delete_cmd_postfix": ") ",
     "delete_cmd_prefix": "rm(",
     "library": "var_list.r",
     "varRefreshCmd": "cat(var_dic_list()) "
    }
   },
   "types_to_exclude": [
    "module",
    "function",
    "builtin_function_or_method",
    "instance",
    "_Feature"
   ],
   "window_display": false
  }
 },
 "nbformat": 4,
 "nbformat_minor": 2
}
