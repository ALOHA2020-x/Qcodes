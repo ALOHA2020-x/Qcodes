{
 "cells": [
  {
   "cell_type": "markdown",
   "metadata": {},
   "source": [
    "# DataSet Performance\n",
    "\n",
    "This notebook shows the trade-off between inserting data into a database row-by-row and as binary blobs. Inserting the data row-by-row means that we have direct access to all the data and may perform queries directly on the values of the data. On the other hand, as we shall see, this is much slower than inserting the data directly as binary blobs."
   ]
  },
  {
   "cell_type": "markdown",
   "metadata": {},
   "source": [
    "First, we choose a new location for the database to ensure that we don't add a bunch of benchmarking data to the default one."
   ]
  },
  {
   "cell_type": "code",
   "execution_count": 1,
   "metadata": {
    "execution": {
     "iopub.execute_input": "2020-11-20T12:13:43.370149Z",
     "iopub.status.busy": "2020-11-20T12:13:43.369537Z",
     "iopub.status.idle": "2020-11-20T12:13:44.448400Z",
     "shell.execute_reply": "2020-11-20T12:13:44.447012Z"
    }
   },
   "outputs": [
    {
     "name": "stdout",
     "output_type": "stream",
     "text": [
      "Logging hadn't been started.\n",
      "Activating auto-logging. Current session state plus future input saved.\n",
      "Filename       : /home/vsts/.qcodes/logs/command_history.log\n",
      "Mode           : append\n",
      "Output logging : True\n",
      "Raw input log  : False\n",
      "Timestamping   : True\n",
      "State          : active\n"
     ]
    },
    {
     "name": "stdout",
     "output_type": "stream",
     "text": [
      "Qcodes Logfile : /home/vsts/.qcodes/logs/201120-14175-qcodes.log\n"
     ]
    }
   ],
   "source": [
    "import os\n",
    "cwd = os.getcwd()\n",
    "import qcodes as qc\n",
    "qc.config[\"core\"][\"db_location\"] = os.path.join(cwd, 'testing.db')\n"
   ]
  },
  {
   "cell_type": "code",
   "execution_count": 2,
   "metadata": {
    "execution": {
     "iopub.execute_input": "2020-11-20T12:13:44.455525Z",
     "iopub.status.busy": "2020-11-20T12:13:44.454882Z",
     "iopub.status.idle": "2020-11-20T12:13:44.646519Z",
     "shell.execute_reply": "2020-11-20T12:13:44.645747Z"
    }
   },
   "outputs": [],
   "source": [
    "%matplotlib inline\n",
    "import time\n",
    "import matplotlib.pyplot as plt\n",
    "import numpy as np\n",
    "\n",
    "import qcodes as qc\n",
    "from qcodes.instrument.parameter import ManualParameter\n",
    "from qcodes.dataset.experiment_container import (Experiment,\n",
    "                                                 load_last_experiment,\n",
    "                                                 new_experiment)\n",
    "from qcodes.dataset.sqlite.database import initialise_database\n",
    "from qcodes import load_or_create_experiment\n",
    "from qcodes.dataset.measurements import Measurement"
   ]
  },
  {
   "cell_type": "code",
   "execution_count": 3,
   "metadata": {
    "execution": {
     "iopub.execute_input": "2020-11-20T12:13:44.651934Z",
     "iopub.status.busy": "2020-11-20T12:13:44.650779Z",
     "iopub.status.idle": "2020-11-20T12:13:44.763897Z",
     "shell.execute_reply": "2020-11-20T12:13:44.763392Z"
    }
   },
   "outputs": [
    {
     "name": "stdout",
     "output_type": "stream",
     "text": [
      "\r",
      "0it [00:00, ?it/s]"
     ]
    },
    {
     "name": "stdout",
     "output_type": "stream",
     "text": [
      "\r",
      "Upgrading database; v0 -> v1: : 0it [00:00, ?it/s]"
     ]
    },
    {
     "name": "stdout",
     "output_type": "stream",
     "text": [
      "\r",
      "Upgrading database; v0 -> v1: : 0it [00:00, ?it/s]"
     ]
    },
    {
     "name": "stdout",
     "output_type": "stream",
     "text": [
      "\n",
      "\r",
      "  0%|          | 0/1 [00:00<?, ?it/s]"
     ]
    },
    {
     "name": "stdout",
     "output_type": "stream",
     "text": [
      "\r",
      "Upgrading database; v1 -> v2:   0%|          | 0/1 [00:00<?, ?it/s]"
     ]
    },
    {
     "name": "stdout",
     "output_type": "stream",
     "text": [
      "\r",
      "Upgrading database; v1 -> v2: 100%|██████████| 1/1 [00:00<00:00, 531.33it/s]"
     ]
    },
    {
     "name": "stdout",
     "output_type": "stream",
     "text": [
      "\n",
      "\r",
      "0it [00:00, ?it/s]"
     ]
    },
    {
     "name": "stdout",
     "output_type": "stream",
     "text": [
      "\r",
      "Upgrading database; v2 -> v3: : 0it [00:00, ?it/s]"
     ]
    },
    {
     "name": "stdout",
     "output_type": "stream",
     "text": [
      "\r",
      "Upgrading database; v2 -> v3: : 0it [00:00, ?it/s]"
     ]
    },
    {
     "name": "stdout",
     "output_type": "stream",
     "text": [
      "\n",
      "\r",
      "0it [00:00, ?it/s]"
     ]
    },
    {
     "name": "stdout",
     "output_type": "stream",
     "text": [
      "\r",
      "Upgrading database; v3 -> v4: : 0it [00:00, ?it/s]"
     ]
    },
    {
     "name": "stdout",
     "output_type": "stream",
     "text": [
      "\r",
      "Upgrading database; v3 -> v4: : 0it [00:00, ?it/s]"
     ]
    },
    {
     "name": "stdout",
     "output_type": "stream",
     "text": [
      "\n",
      "\r",
      "  0%|          | 0/1 [00:00<?, ?it/s]"
     ]
    },
    {
     "name": "stdout",
     "output_type": "stream",
     "text": [
      "\r",
      "Upgrading database; v4 -> v5:   0%|          | 0/1 [00:00<?, ?it/s]"
     ]
    },
    {
     "name": "stdout",
     "output_type": "stream",
     "text": [
      "\r",
      "Upgrading database; v4 -> v5: 100%|██████████| 1/1 [00:00<00:00, 496.48it/s]"
     ]
    },
    {
     "name": "stdout",
     "output_type": "stream",
     "text": [
      "\n",
      "\r",
      "0it [00:00, ?it/s]"
     ]
    },
    {
     "name": "stdout",
     "output_type": "stream",
     "text": [
      "\r",
      "Upgrading database; v5 -> v6: : 0it [00:00, ?it/s]"
     ]
    },
    {
     "name": "stdout",
     "output_type": "stream",
     "text": [
      "\r",
      "Upgrading database; v5 -> v6: : 0it [00:00, ?it/s]"
     ]
    },
    {
     "name": "stdout",
     "output_type": "stream",
     "text": [
      "\n",
      "\r",
      "  0%|          | 0/1 [00:00<?, ?it/s]"
     ]
    },
    {
     "name": "stdout",
     "output_type": "stream",
     "text": [
      "\r",
      "Upgrading database; v6 -> v7:   0%|          | 0/1 [00:00<?, ?it/s]"
     ]
    },
    {
     "name": "stdout",
     "output_type": "stream",
     "text": [
      "\r",
      "Upgrading database; v6 -> v7: 100%|██████████| 1/1 [00:00<00:00, 351.22it/s]"
     ]
    },
    {
     "name": "stdout",
     "output_type": "stream",
     "text": [
      "\n",
      "\r",
      "  0%|          | 0/1 [00:00<?, ?it/s]"
     ]
    },
    {
     "name": "stdout",
     "output_type": "stream",
     "text": [
      "\r",
      "Upgrading database; v7 -> v8:   0%|          | 0/1 [00:00<?, ?it/s]"
     ]
    },
    {
     "name": "stdout",
     "output_type": "stream",
     "text": [
      "\r",
      "Upgrading database; v7 -> v8: 100%|██████████| 1/1 [00:00<00:00, 530.39it/s]"
     ]
    },
    {
     "name": "stdout",
     "output_type": "stream",
     "text": [
      "\n",
      "\r",
      "  0%|          | 0/1 [00:00<?, ?it/s]"
     ]
    },
    {
     "name": "stdout",
     "output_type": "stream",
     "text": [
      "\r",
      "Upgrading database; v8 -> v9:   0%|          | 0/1 [00:00<?, ?it/s]"
     ]
    },
    {
     "name": "stdout",
     "output_type": "stream",
     "text": [
      "\r",
      "Upgrading database; v8 -> v9: 100%|██████████| 1/1 [00:00<00:00, 1012.87it/s]"
     ]
    },
    {
     "name": "stdout",
     "output_type": "stream",
     "text": [
      "\n"
     ]
    }
   ],
   "source": [
    "initialise_database()\n",
    "exp = load_or_create_experiment(experiment_name='tutorial_exp', sample_name=\"no sample\")"
   ]
  },
  {
   "cell_type": "markdown",
   "metadata": {},
   "source": [
    "Here, we define a simple function to benchmark the time it takes to insert n points with either numeric or array data type.\n",
    "We will compare both the time used to call ``add_result`` and the time used for the full measurement."
   ]
  },
  {
   "cell_type": "code",
   "execution_count": 4,
   "metadata": {
    "execution": {
     "iopub.execute_input": "2020-11-20T12:13:44.772549Z",
     "iopub.status.busy": "2020-11-20T12:13:44.771980Z",
     "iopub.status.idle": "2020-11-20T12:13:44.775529Z",
     "shell.execute_reply": "2020-11-20T12:13:44.775036Z"
    }
   },
   "outputs": [],
   "source": [
    "def insert_data(paramtype, npoints, nreps=1):\n",
    "\n",
    "    meas = Measurement(exp=exp)\n",
    "\n",
    "    x1 = ManualParameter('x1')\n",
    "    x2 = ManualParameter('x2')\n",
    "    x3 = ManualParameter('x3')\n",
    "    y1 = ManualParameter('y1')\n",
    "    y2 = ManualParameter('y2')\n",
    "\n",
    "    meas.register_parameter(x1, paramtype=paramtype)\n",
    "    meas.register_parameter(x2, paramtype=paramtype)\n",
    "    meas.register_parameter(x3, paramtype=paramtype)\n",
    "    meas.register_parameter(y1, setpoints=[x1, x2, x3],\n",
    "                            paramtype=paramtype)\n",
    "    meas.register_parameter(y2, setpoints=[x1, x2, x3],\n",
    "                            paramtype=paramtype)\n",
    "    start = time.perf_counter()\n",
    "    with meas.run() as datasaver:\n",
    "        start_adding = time.perf_counter()\n",
    "        for i in range(nreps):\n",
    "            datasaver.add_result((x1, np.random.rand(npoints)),\n",
    "                                 (x2, np.random.rand(npoints)),\n",
    "                                 (x3, np.random.rand(npoints)),\n",
    "                                 (y1, np.random.rand(npoints)),\n",
    "                                 (y2, np.random.rand(npoints)))\n",
    "        stop_adding = time.perf_counter()\n",
    "        run_id = datasaver.run_id\n",
    "    stop = time.perf_counter()\n",
    "    tot_time = stop - start\n",
    "    add_time = stop_adding - start_adding\n",
    "    return tot_time, add_time, run_id"
   ]
  },
  {
   "cell_type": "markdown",
   "metadata": {},
   "source": [
    "## Comparison between numeric/array data and binary blob"
   ]
  },
  {
   "cell_type": "markdown",
   "metadata": {},
   "source": [
    "### Case1: Short experiment time"
   ]
  },
  {
   "cell_type": "code",
   "execution_count": 5,
   "metadata": {
    "execution": {
     "iopub.execute_input": "2020-11-20T12:13:44.781675Z",
     "iopub.status.busy": "2020-11-20T12:13:44.780378Z",
     "iopub.status.idle": "2020-11-20T12:13:45.590636Z",
     "shell.execute_reply": "2020-11-20T12:13:45.589844Z"
    }
   },
   "outputs": [
    {
     "name": "stdout",
     "output_type": "stream",
     "text": [
      "Starting experimental run with id: 1. \n",
      "Starting experimental run with id: 2. \n",
      "Starting experimental run with id: 3. \n",
      "Starting experimental run with id: 4. \n",
      "Starting experimental run with id: 5. \n"
     ]
    },
    {
     "name": "stdout",
     "output_type": "stream",
     "text": [
      "Starting experimental run with id: 6. "
     ]
    },
    {
     "name": "stdout",
     "output_type": "stream",
     "text": [
      "\n"
     ]
    },
    {
     "name": "stdout",
     "output_type": "stream",
     "text": [
      "Starting experimental run with id: 7. \n"
     ]
    },
    {
     "name": "stdout",
     "output_type": "stream",
     "text": [
      "Starting experimental run with id: 8. \n",
      "Starting experimental run with id: 9. \n"
     ]
    },
    {
     "name": "stdout",
     "output_type": "stream",
     "text": [
      "Starting experimental run with id: 10. \n",
      "Starting experimental run with id: 11. \n"
     ]
    },
    {
     "name": "stdout",
     "output_type": "stream",
     "text": [
      "Starting experimental run with id: 12. \n",
      "Starting experimental run with id: 13. \n"
     ]
    },
    {
     "name": "stdout",
     "output_type": "stream",
     "text": [
      "Starting experimental run with id: 14. \n"
     ]
    }
   ],
   "source": [
    "sizes = [1,500,1000,2000,3000,4000,5000]\n",
    "t_numeric = []\n",
    "t_numeric_add = []\n",
    "t_array = []\n",
    "t_array_add = []\n",
    "for size in sizes:\n",
    "    tn, tna, run_id_n =  insert_data('numeric', size)\n",
    "    t_numeric.append(tn)\n",
    "    t_numeric_add.append(tna)\n",
    "\n",
    "    ta, taa, run_id_a =  insert_data('array', size)\n",
    "    t_array.append(ta)\n",
    "    t_array_add.append(taa)"
   ]
  },
  {
   "cell_type": "code",
   "execution_count": 6,
   "metadata": {
    "execution": {
     "iopub.execute_input": "2020-11-20T12:13:45.620657Z",
     "iopub.status.busy": "2020-11-20T12:13:45.607414Z",
     "iopub.status.idle": "2020-11-20T12:13:45.791193Z",
     "shell.execute_reply": "2020-11-20T12:13:45.792000Z"
    }
   },
   "outputs": [
    {
     "data": {
      "image/png": "[encoded data removed]",
      "text/plain": [
       "<Figure size 432x288 with 1 Axes>"
      ]
     },
     "metadata": {
      "needs_background": "light"
     },
     "output_type": "display_data"
    }
   ],
   "source": [
    "fig, ax = plt.subplots(1,1)\n",
    "ax.plot(sizes, t_numeric, 'o-', label='Inserting row-by-row')\n",
    "ax.plot(sizes, t_numeric_add, 'o-', label='Inserting row-by-row: add_result only')\n",
    "ax.plot(sizes, t_array, 'd-', label='Inserting as binary blob')\n",
    "ax.plot(sizes, t_array_add, 'd-', label='Inserting as binary blob: add_result only')\n",
    "ax.legend()\n",
    "ax.set_xlabel('Array length')\n",
    "ax.set_ylabel('Time (s)')\n",
    "fig.tight_layout()"
   ]
  },
  {
   "cell_type": "markdown",
   "metadata": {},
   "source": [
    "As shown in the latter figure, the time to setup and and close the experiment is approximately 0.4 sec. In case of small array sizes, the difference between inserting values of data as arrays and inserting them row-by-row is relatively unimportant. At larger array sizes, i.e. above 10000 points, the cost of writing data as individual datapoints starts to become important.\n"
   ]
  },
  {
   "cell_type": "markdown",
   "metadata": {},
   "source": [
    "### Case2: Long experiment time "
   ]
  },
  {
   "cell_type": "code",
   "execution_count": 7,
   "metadata": {
    "execution": {
     "iopub.execute_input": "2020-11-20T12:13:45.798035Z",
     "iopub.status.busy": "2020-11-20T12:13:45.796833Z",
     "iopub.status.idle": "2020-11-20T12:14:46.511802Z",
     "shell.execute_reply": "2020-11-20T12:14:46.510789Z"
    }
   },
   "outputs": [
    {
     "name": "stdout",
     "output_type": "stream",
     "text": [
      "Starting experimental run with id: 15. \n",
      "Starting experimental run with id: 16. \n",
      "Starting experimental run with id: 17. \n"
     ]
    },
    {
     "name": "stdout",
     "output_type": "stream",
     "text": [
      "Starting experimental run with id: 18. \n",
      "Starting experimental run with id: 19. \n"
     ]
    },
    {
     "name": "stdout",
     "output_type": "stream",
     "text": [
      "Starting experimental run with id: 20. \n"
     ]
    },
    {
     "name": "stdout",
     "output_type": "stream",
     "text": [
      "Starting experimental run with id: 21. \n"
     ]
    },
    {
     "name": "stdout",
     "output_type": "stream",
     "text": [
      "Starting experimental run with id: 22. \n"
     ]
    },
    {
     "name": "stdout",
     "output_type": "stream",
     "text": [
      "Starting experimental run with id: 23. \n"
     ]
    },
    {
     "name": "stdout",
     "output_type": "stream",
     "text": [
      "Starting experimental run with id: 24. \n"
     ]
    },
    {
     "name": "stdout",
     "output_type": "stream",
     "text": [
      "Starting experimental run with id: 25. \n"
     ]
    },
    {
     "name": "stdout",
     "output_type": "stream",
     "text": [
      "Starting experimental run with id: 26. \n"
     ]
    },
    {
     "name": "stdout",
     "output_type": "stream",
     "text": [
      "Starting experimental run with id: 27. \n"
     ]
    },
    {
     "name": "stdout",
     "output_type": "stream",
     "text": [
      "Starting experimental run with id: 28. \n"
     ]
    }
   ],
   "source": [
    "sizes = [1,500,1000,2000,3000,4000,5000]\n",
    "nreps = 100\n",
    "t_numeric = []\n",
    "t_numeric_add = []\n",
    "t_numeric_run_ids = []\n",
    "t_array = []\n",
    "t_array_add = []\n",
    "t_array_run_ids = []\n",
    "for size in sizes:\n",
    "    tn, tna, run_id_n =  insert_data('numeric', size, nreps=nreps)\n",
    "    t_numeric.append(tn)\n",
    "    t_numeric_add.append(tna)\n",
    "    t_numeric_run_ids.append(run_id_n)\n",
    "\n",
    "    ta, taa, run_id_a =  insert_data('array', size, nreps=nreps)\n",
    "    t_array.append(ta)\n",
    "    t_array_add.append(taa)\n",
    "    t_array_run_ids.append(run_id_a)"
   ]
  },
  {
   "cell_type": "code",
   "execution_count": 8,
   "metadata": {
    "execution": {
     "iopub.execute_input": "2020-11-20T12:14:46.551083Z",
     "iopub.status.busy": "2020-11-20T12:14:46.540856Z",
     "iopub.status.idle": "2020-11-20T12:14:46.713265Z",
     "shell.execute_reply": "2020-11-20T12:14:46.713835Z"
    },
    "scrolled": true
   },
   "outputs": [
    {
     "data": {
      "image/png": "[encoded data removed]",
      "text/plain": [
       "<Figure size 432x288 with 1 Axes>"
      ]
     },
     "metadata": {
      "needs_background": "light"
     },
     "output_type": "display_data"
    }
   ],
   "source": [
    "fig, ax = plt.subplots(1,1)\n",
    "ax.plot(sizes, t_numeric, 'o-', label='Inserting row-by-row')\n",
    "ax.plot(sizes, t_numeric_add, 'o-', label='Inserting row-by-row: add_result only')\n",
    "ax.plot(sizes, t_array, 'd-', label='Inserting as binary blob')\n",
    "ax.plot(sizes, t_array_add, 'd-', label='Inserting as binary blob: add_result only')\n",
    "ax.legend()\n",
    "ax.set_xlabel('Array length')\n",
    "ax.set_ylabel('Time (s)')\n",
    "fig.tight_layout()"
   ]
  },
  {
   "cell_type": "markdown",
   "metadata": {},
   "source": [
    "However, as we increase the length of the experiment, as seen here by repeating the insertion 100 times, we see a big difference between inserting values of the data row-by-row and inserting it as a binary blob."
   ]
  },
  {
   "cell_type": "markdown",
   "metadata": {},
   "source": [
    "## Loading the data "
   ]
  },
  {
   "cell_type": "code",
   "execution_count": 9,
   "metadata": {
    "execution": {
     "iopub.execute_input": "2020-11-20T12:14:46.717750Z",
     "iopub.status.busy": "2020-11-20T12:14:46.717160Z",
     "iopub.status.idle": "2020-11-20T12:14:46.719953Z",
     "shell.execute_reply": "2020-11-20T12:14:46.720373Z"
    }
   },
   "outputs": [],
   "source": [
    "from qcodes.dataset.data_set import load_by_id\n",
    "from qcodes.dataset.data_export import get_data_by_id"
   ]
  },
  {
   "cell_type": "markdown",
   "metadata": {},
   "source": [
    "As usual you can load the data by using the ``load_by_id`` function but you will notice that the different storage methods\n",
    "are reflected in shape of the data as it is retrieved. "
   ]
  },
  {
   "cell_type": "code",
   "execution_count": 10,
   "metadata": {
    "execution": {
     "iopub.execute_input": "2020-11-20T12:14:46.724447Z",
     "iopub.status.busy": "2020-11-20T12:14:46.723879Z",
     "iopub.status.idle": "2020-11-20T12:14:46.726325Z",
     "shell.execute_reply": "2020-11-20T12:14:46.725845Z"
    }
   },
   "outputs": [],
   "source": [
    "run_id_n = t_numeric_run_ids[0]\n",
    "run_id_a = t_array_run_ids[0]"
   ]
  },
  {
   "cell_type": "code",
   "execution_count": 11,
   "metadata": {
    "execution": {
     "iopub.execute_input": "2020-11-20T12:14:46.730158Z",
     "iopub.status.busy": "2020-11-20T12:14:46.729620Z",
     "iopub.status.idle": "2020-11-20T12:14:46.739267Z",
     "shell.execute_reply": "2020-11-20T12:14:46.739725Z"
    },
    "scrolled": true
   },
   "outputs": [
    {
     "data": {
      "text/plain": [
       "{'x1': {'x1': array([0.14491979, 0.14491979, 0.64271393, 0.64271393, 0.9393126 ,\n",
       "         0.9393126 , 0.16838656, 0.16838656, 0.18811158, 0.18811158,\n",
       "         0.85596103, 0.85596103, 0.55914257, 0.55914257, 0.81293828,\n",
       "         0.81293828, 0.55115157, 0.55115157, 0.30457894, 0.30457894,\n",
       "         0.45707461, 0.45707461, 0.12577576, 0.12577576, 0.26984865,\n",
       "         0.26984865, 0.01283737, 0.01283737, 0.622969  , 0.622969  ,\n",
       "         0.79696091, 0.79696091, 0.14010667, 0.14010667, 0.63333883,\n",
       "         0.63333883, 0.08693777, 0.08693777, 0.17346466, 0.17346466,\n",
       "         0.04241738, 0.04241738, 0.50752618, 0.50752618, 0.45723791,\n",
       "         0.45723791, 0.98812606, 0.98812606, 0.39593756, 0.39593756,\n",
       "         0.05566984, 0.05566984, 0.75242256, 0.75242256, 0.78869315,\n",
       "         0.78869315, 0.65440513, 0.65440513, 0.32334519, 0.32334519,\n",
       "         0.73157036, 0.73157036, 0.83934755, 0.83934755, 0.98267057,\n",
       "         0.98267057, 0.06086872, 0.06086872, 0.52074398, 0.52074398,\n",
       "         0.23295065, 0.23295065, 0.37060478, 0.37060478, 0.22617862,\n",
       "         0.22617862, 0.61527966, 0.61527966, 0.98684665, 0.98684665,\n",
       "         0.80519049, 0.80519049, 0.47754783, 0.47754783, 0.55062361,\n",
       "         0.55062361, 0.68171092, 0.68171092, 0.69851334, 0.69851334,\n",
       "         0.40457876, 0.40457876, 0.17125628, 0.17125628, 0.12685549,\n",
       "         0.12685549, 0.32446804, 0.32446804, 0.30687418, 0.30687418,\n",
       "         0.24216445, 0.24216445, 0.37806963, 0.37806963, 0.13148175,\n",
       "         0.13148175, 0.48769675, 0.48769675, 0.67168978, 0.67168978,\n",
       "         0.65730764, 0.65730764, 0.79652174, 0.79652174, 0.37818027,\n",
       "         0.37818027, 0.77403845, 0.77403845, 0.78651716, 0.78651716,\n",
       "         0.16402872, 0.16402872, 0.00169628, 0.00169628, 0.88572108,\n",
       "         0.88572108, 0.54426443, 0.54426443, 0.6867838 , 0.6867838 ,\n",
       "         0.71781755, 0.71781755, 0.30128933, 0.30128933, 0.00629356,\n",
       "         0.00629356, 0.45145098, 0.45145098, 0.09588909, 0.09588909,\n",
       "         0.74468921, 0.74468921, 0.50997805, 0.50997805, 0.95006197,\n",
       "         0.95006197, 0.62476875, 0.62476875, 0.06642783, 0.06642783,\n",
       "         0.01535974, 0.01535974, 0.20871298, 0.20871298, 0.8807279 ,\n",
       "         0.8807279 , 0.95400112, 0.95400112, 0.4725426 , 0.4725426 ,\n",
       "         0.26966241, 0.26966241, 0.41011179, 0.41011179, 0.44821184,\n",
       "         0.44821184, 0.90459846, 0.90459846, 0.34183883, 0.34183883,\n",
       "         0.54023398, 0.54023398, 0.50196553, 0.50196553, 0.06791493,\n",
       "         0.06791493, 0.02663085, 0.02663085, 0.99753562, 0.99753562,\n",
       "         0.81152348, 0.81152348, 0.37980373, 0.37980373, 0.71903582,\n",
       "         0.71903582, 0.17897952, 0.17897952, 0.20670225, 0.20670225,\n",
       "         0.97946499, 0.97946499, 0.8246193 , 0.8246193 , 0.78815646,\n",
       "         0.78815646, 0.79931395, 0.79931395, 0.03457545, 0.03457545])}}"
      ]
     },
     "execution_count": 1,
     "metadata": {},
     "output_type": "execute_result"
    }
   ],
   "source": [
    "ds = load_by_id(run_id_n)\n",
    "ds.get_parameter_data('x1')"
   ]
  },
  {
   "cell_type": "markdown",
   "metadata": {},
   "source": [
    "And a dataset stored as binary arrays"
   ]
  },
  {
   "cell_type": "code",
   "execution_count": 12,
   "metadata": {
    "execution": {
     "iopub.execute_input": "2020-11-20T12:14:46.743113Z",
     "iopub.status.busy": "2020-11-20T12:14:46.742568Z",
     "iopub.status.idle": "2020-11-20T12:14:46.800215Z",
     "shell.execute_reply": "2020-11-20T12:14:46.801039Z"
    },
    "scrolled": true
   },
   "outputs": [
    {
     "data": {
      "text/plain": [
       "{'x1': {'x1': array([[0.66759287],\n",
       "         [0.66759287],\n",
       "         [0.53362934],\n",
       "         [0.53362934],\n",
       "         [0.57291602],\n",
       "         [0.57291602],\n",
       "         [0.14508045],\n",
       "         [0.14508045],\n",
       "         [0.95482141],\n",
       "         [0.95482141],\n",
       "         [0.42278102],\n",
       "         [0.42278102],\n",
       "         [0.18332541],\n",
       "         [0.18332541],\n",
       "         [0.24686661],\n",
       "         [0.24686661],\n",
       "         [0.18520629],\n",
       "         [0.18520629],\n",
       "         [0.25461138],\n",
       "         [0.25461138],\n",
       "         [0.51068041],\n",
       "         [0.51068041],\n",
       "         [0.86247404],\n",
       "         [0.86247404],\n",
       "         [0.57489019],\n",
       "         [0.57489019],\n",
       "         [0.96556881],\n",
       "         [0.96556881],\n",
       "         [0.60889969],\n",
       "         [0.60889969],\n",
       "         [0.02412955],\n",
       "         [0.02412955],\n",
       "         [0.12252669],\n",
       "         [0.12252669],\n",
       "         [0.06856912],\n",
       "         [0.06856912],\n",
       "         [0.99332692],\n",
       "         [0.99332692],\n",
       "         [0.25283737],\n",
       "         [0.25283737],\n",
       "         [0.08439157],\n",
       "         [0.08439157],\n",
       "         [0.21749228],\n",
       "         [0.21749228],\n",
       "         [0.57352139],\n",
       "         [0.57352139],\n",
       "         [0.91122866],\n",
       "         [0.91122866],\n",
       "         [0.85677918],\n",
       "         [0.85677918],\n",
       "         [0.01384552],\n",
       "         [0.01384552],\n",
       "         [0.98034213],\n",
       "         [0.98034213],\n",
       "         [0.96778815],\n",
       "         [0.96778815],\n",
       "         [0.46618451],\n",
       "         [0.46618451],\n",
       "         [0.87955799],\n",
       "         [0.87955799],\n",
       "         [0.26599347],\n",
       "         [0.26599347],\n",
       "         [0.65576341],\n",
       "         [0.65576341],\n",
       "         [0.18410221],\n",
       "         [0.18410221],\n",
       "         [0.44624469],\n",
       "         [0.44624469],\n",
       "         [0.56380233],\n",
       "         [0.56380233],\n",
       "         [0.83531082],\n",
       "         [0.83531082],\n",
       "         [0.91676057],\n",
       "         [0.91676057],\n",
       "         [0.58399109],\n",
       "         [0.58399109],\n",
       "         [0.40841214],\n",
       "         [0.40841214],\n",
       "         [0.03987869],\n",
       "         [0.03987869],\n",
       "         [0.40511459],\n",
       "         [0.40511459],\n",
       "         [0.90503988],\n",
       "         [0.90503988],\n",
       "         [0.30518793],\n",
       "         [0.30518793],\n",
       "         [0.03043899],\n",
       "         [0.03043899],\n",
       "         [0.38133092],\n",
       "         [0.38133092],\n",
       "         [0.59870176],\n",
       "         [0.59870176],\n",
       "         [0.241103  ],\n",
       "         [0.241103  ],\n",
       "         [0.36293715],\n",
       "         [0.36293715],\n",
       "         [0.16358751],\n",
       "         [0.16358751],\n",
       "         [0.18935319],\n",
       "         [0.18935319],\n",
       "         [0.22379096],\n",
       "         [0.22379096],\n",
       "         [0.30179793],\n",
       "         [0.30179793],\n",
       "         [0.89974662],\n",
       "         [0.89974662],\n",
       "         [0.74915681],\n",
       "         [0.74915681],\n",
       "         [0.76014083],\n",
       "         [0.76014083],\n",
       "         [0.64794567],\n",
       "         [0.64794567],\n",
       "         [0.9917851 ],\n",
       "         [0.9917851 ],\n",
       "         [0.94694381],\n",
       "         [0.94694381],\n",
       "         [0.89374274],\n",
       "         [0.89374274],\n",
       "         [0.54710609],\n",
       "         [0.54710609],\n",
       "         [0.03762913],\n",
       "         [0.03762913],\n",
       "         [0.49813911],\n",
       "         [0.49813911],\n",
       "         [0.770023  ],\n",
       "         [0.770023  ],\n",
       "         [0.28368342],\n",
       "         [0.28368342],\n",
       "         [0.95898285],\n",
       "         [0.95898285],\n",
       "         [0.09775519],\n",
       "         [0.09775519],\n",
       "         [0.23581913],\n",
       "         [0.23581913],\n",
       "         [0.12410729],\n",
       "         [0.12410729],\n",
       "         [0.86410762],\n",
       "         [0.86410762],\n",
       "         [0.19418419],\n",
       "         [0.19418419],\n",
       "         [0.61875903],\n",
       "         [0.61875903],\n",
       "         [0.91622202],\n",
       "         [0.91622202],\n",
       "         [0.78645867],\n",
       "         [0.78645867],\n",
       "         [0.41504715],\n",
       "         [0.41504715],\n",
       "         [0.6681514 ],\n",
       "         [0.6681514 ],\n",
       "         [0.48056177],\n",
       "         [0.48056177],\n",
       "         [0.11226294],\n",
       "         [0.11226294],\n",
       "         [0.98746471],\n",
       "         [0.98746471],\n",
       "         [0.38438376],\n",
       "         [0.38438376],\n",
       "         [0.98117444],\n",
       "         [0.98117444],\n",
       "         [0.88501714],\n",
       "         [0.88501714],\n",
       "         [0.51310335],\n",
       "         [0.51310335],\n",
       "         [0.61980225],\n",
       "         [0.61980225],\n",
       "         [0.70444137],\n",
       "         [0.70444137],\n",
       "         [0.53540472],\n",
       "         [0.53540472],\n",
       "         [0.37836897],\n",
       "         [0.37836897],\n",
       "         [0.18871764],\n",
       "         [0.18871764],\n",
       "         [0.9757408 ],\n",
       "         [0.9757408 ],\n",
       "         [0.59405515],\n",
       "         [0.59405515],\n",
       "         [0.05877098],\n",
       "         [0.05877098],\n",
       "         [0.21540797],\n",
       "         [0.21540797],\n",
       "         [0.0719361 ],\n",
       "         [0.0719361 ],\n",
       "         [0.98561162],\n",
       "         [0.98561162],\n",
       "         [0.81532273],\n",
       "         [0.81532273],\n",
       "         [0.35408312],\n",
       "         [0.35408312],\n",
       "         [0.47781712],\n",
       "         [0.47781712],\n",
       "         [0.82420039],\n",
       "         [0.82420039],\n",
       "         [0.08719121],\n",
       "         [0.08719121],\n",
       "         [0.7707949 ],\n",
       "         [0.7707949 ],\n",
       "         [0.49183664],\n",
       "         [0.49183664]])}}"
      ]
     },
     "execution_count": 1,
     "metadata": {},
     "output_type": "execute_result"
    }
   ],
   "source": [
    "ds = load_by_id(run_id_a)\n",
    "ds.get_parameter_data('x1')"
   ]
  },
  {
   "cell_type": "code",
   "execution_count": null,
   "metadata": {},
   "outputs": [],
   "source": []
  }
 ],
 "metadata": {
  "kernelspec": {
   "display_name": "Python 3",
   "language": "python",
   "name": "python3"
  },
  "language_info": {
   "codemirror_mode": {
    "name": "ipython",
    "version": 3
   },
   "file_extension": ".py",
   "mimetype": "text/x-python",
   "name": "python",
   "nbconvert_exporter": "python",
   "pygments_lexer": "ipython3",
   "version": "3.7.9"
  },
  "nbsphinx": {
   "timeout": 600
  },
  "toc": {
   "base_numbering": 1,
   "nav_menu": {},
   "number_sections": true,
   "sideBar": true,
   "skip_h1_title": false,
   "title_cell": "Table of Contents",
   "title_sidebar": "Contents",
   "toc_cell": false,
   "toc_position": {},
   "toc_section_display": true,
   "toc_window_display": false
  },
  "varInspector": {
   "cols": {
    "lenName": 16,
    "lenType": 16,
    "lenVar": 40
   },
   "kernels_config": {
    "python": {
     "delete_cmd_postfix": "",
     "delete_cmd_prefix": "del ",
     "library": "var_list.py",
     "varRefreshCmd": "print(var_dic_list())"
    },
    "r": {
     "delete_cmd_postfix": ") ",
     "delete_cmd_prefix": "rm(",
     "library": "var_list.r",
     "varRefreshCmd": "cat(var_dic_list()) "
    }
   },
   "types_to_exclude": [
    "module",
    "function",
    "builtin_function_or_method",
    "instance",
    "_Feature"
   ],
   "window_display": false
  }
 },
 "nbformat": 4,
 "nbformat_minor": 2
}
