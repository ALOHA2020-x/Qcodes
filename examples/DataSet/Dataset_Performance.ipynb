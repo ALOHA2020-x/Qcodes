{
 "cells": [
  {
   "cell_type": "markdown",
   "metadata": {},
   "source": [
    "# DataSet Performance\n",
    "\n",
    "This notebook shows the trade-off between inserting data into a database row-by-row and as binary blobs. Inserting the data row-by-row means that we have direct access to all the data and may perform queries directly on the values of the data. On the other hand, as we shall see, this is much slower than inserting the data directly as binary blobs."
   ]
  },
  {
   "cell_type": "markdown",
   "metadata": {},
   "source": [
    "First, we choose a new location for the database to ensure that we don't add a bunch of benchmarking data to the default one."
   ]
  },
  {
   "cell_type": "code",
   "execution_count": 1,
   "metadata": {
    "execution": {
     "iopub.execute_input": "2021-02-26T11:18:22.808922Z",
     "iopub.status.busy": "2021-02-26T11:18:22.808076Z",
     "iopub.status.idle": "2021-02-26T11:18:23.738633Z",
     "shell.execute_reply": "2021-02-26T11:18:23.739156Z"
    }
   },
   "outputs": [
    {
     "name": "stdout",
     "output_type": "stream",
     "text": [
      "Logging hadn't been started.\n",
      "Activating auto-logging. Current session state plus future input saved.\n",
      "Filename       : /home/runner/.qcodes/logs/command_history.log\n",
      "Mode           : append\n",
      "Output logging : True\n",
      "Raw input log  : False\n",
      "Timestamping   : True\n",
      "State          : active\n"
     ]
    },
    {
     "name": "stdout",
     "output_type": "stream",
     "text": [
      "Qcodes Logfile : /home/runner/.qcodes/logs/210226-4388-qcodes.log\n"
     ]
    }
   ],
   "source": [
    "import os\n",
    "cwd = os.getcwd()\n",
    "import qcodes as qc\n",
    "qc.config[\"core\"][\"db_location\"] = os.path.join(cwd, 'testing.db')\n"
   ]
  },
  {
   "cell_type": "code",
   "execution_count": 2,
   "metadata": {
    "execution": {
     "iopub.execute_input": "2021-02-26T11:18:23.747278Z",
     "iopub.status.busy": "2021-02-26T11:18:23.745506Z",
     "iopub.status.idle": "2021-02-26T11:18:23.946655Z",
     "shell.execute_reply": "2021-02-26T11:18:23.945872Z"
    }
   },
   "outputs": [],
   "source": [
    "%matplotlib inline\n",
    "import time\n",
    "import matplotlib.pyplot as plt\n",
    "import numpy as np\n",
    "\n",
    "import qcodes as qc\n",
    "from qcodes.instrument.parameter import ManualParameter\n",
    "from qcodes.dataset.experiment_container import (Experiment,\n",
    "                                                 load_last_experiment,\n",
    "                                                 new_experiment)\n",
    "from qcodes.dataset.sqlite.database import initialise_database\n",
    "from qcodes import load_or_create_experiment\n",
    "from qcodes.dataset.measurements import Measurement"
   ]
  },
  {
   "cell_type": "code",
   "execution_count": 3,
   "metadata": {
    "execution": {
     "iopub.execute_input": "2021-02-26T11:18:23.951092Z",
     "iopub.status.busy": "2021-02-26T11:18:23.950281Z",
     "iopub.status.idle": "2021-02-26T11:18:24.061305Z",
     "shell.execute_reply": "2021-02-26T11:18:24.060439Z"
    }
   },
   "outputs": [
    {
     "name": "stdout",
     "output_type": "stream",
     "text": [
      "\r",
      "0it [00:00, ?it/s]"
     ]
    },
    {
     "name": "stdout",
     "output_type": "stream",
     "text": [
      "\r",
      "Upgrading database; v0 -> v1: : 0it [00:00, ?it/s]"
     ]
    },
    {
     "name": "stdout",
     "output_type": "stream",
     "text": [
      "\r",
      "Upgrading database; v0 -> v1: : 0it [00:00, ?it/s]"
     ]
    },
    {
     "name": "stdout",
     "output_type": "stream",
     "text": [
      "\n",
      "\r",
      "  0%|          | 0/1 [00:00<?, ?it/s]"
     ]
    },
    {
     "name": "stdout",
     "output_type": "stream",
     "text": [
      "\r",
      "Upgrading database; v1 -> v2:   0%|          | 0/1 [00:00<?, ?it/s]"
     ]
    },
    {
     "name": "stdout",
     "output_type": "stream",
     "text": [
      "\r",
      "Upgrading database; v1 -> v2: 100%|██████████| 1/1 [00:00<00:00, 416.60it/s]"
     ]
    },
    {
     "name": "stdout",
     "output_type": "stream",
     "text": [
      "\n",
      "\r",
      "0it [00:00, ?it/s]"
     ]
    },
    {
     "name": "stdout",
     "output_type": "stream",
     "text": [
      "\r",
      "Upgrading database; v2 -> v3: : 0it [00:00, ?it/s]"
     ]
    },
    {
     "name": "stdout",
     "output_type": "stream",
     "text": [
      "\r",
      "Upgrading database; v2 -> v3: : 0it [00:00, ?it/s]"
     ]
    },
    {
     "name": "stdout",
     "output_type": "stream",
     "text": [
      "\n",
      "\r",
      "0it [00:00, ?it/s]"
     ]
    },
    {
     "name": "stdout",
     "output_type": "stream",
     "text": [
      "\r",
      "Upgrading database; v3 -> v4: : 0it [00:00, ?it/s]"
     ]
    },
    {
     "name": "stdout",
     "output_type": "stream",
     "text": [
      "\r",
      "Upgrading database; v3 -> v4: : 0it [00:00, ?it/s]"
     ]
    },
    {
     "name": "stdout",
     "output_type": "stream",
     "text": [
      "\n",
      "\r",
      "  0%|          | 0/1 [00:00<?, ?it/s]"
     ]
    },
    {
     "name": "stdout",
     "output_type": "stream",
     "text": [
      "\r",
      "Upgrading database; v4 -> v5:   0%|          | 0/1 [00:00<?, ?it/s]"
     ]
    },
    {
     "name": "stdout",
     "output_type": "stream",
     "text": [
      "\r",
      "Upgrading database; v4 -> v5: 100%|██████████| 1/1 [00:00<00:00, 648.57it/s]"
     ]
    },
    {
     "name": "stdout",
     "output_type": "stream",
     "text": [
      "\n",
      "\r",
      "0it [00:00, ?it/s]"
     ]
    },
    {
     "name": "stdout",
     "output_type": "stream",
     "text": [
      "\r",
      "Upgrading database; v5 -> v6: : 0it [00:00, ?it/s]"
     ]
    },
    {
     "name": "stdout",
     "output_type": "stream",
     "text": [
      "\r",
      "Upgrading database; v5 -> v6: : 0it [00:00, ?it/s]"
     ]
    },
    {
     "name": "stdout",
     "output_type": "stream",
     "text": [
      "\n",
      "\r",
      "  0%|          | 0/1 [00:00<?, ?it/s]"
     ]
    },
    {
     "name": "stdout",
     "output_type": "stream",
     "text": [
      "\r",
      "Upgrading database; v6 -> v7:   0%|          | 0/1 [00:00<?, ?it/s]"
     ]
    },
    {
     "name": "stdout",
     "output_type": "stream",
     "text": [
      "\r",
      "Upgrading database; v6 -> v7: 100%|██████████| 1/1 [00:00<00:00, 243.12it/s]"
     ]
    },
    {
     "name": "stdout",
     "output_type": "stream",
     "text": [
      "\n",
      "\r",
      "  0%|          | 0/1 [00:00<?, ?it/s]"
     ]
    },
    {
     "name": "stdout",
     "output_type": "stream",
     "text": [
      "\r",
      "Upgrading database; v7 -> v8:   0%|          | 0/1 [00:00<?, ?it/s]"
     ]
    },
    {
     "name": "stdout",
     "output_type": "stream",
     "text": [
      "\r",
      "Upgrading database; v7 -> v8: 100%|██████████| 1/1 [00:00<00:00, 388.43it/s]"
     ]
    },
    {
     "name": "stdout",
     "output_type": "stream",
     "text": [
      "\n",
      "\r",
      "  0%|          | 0/1 [00:00<?, ?it/s]"
     ]
    },
    {
     "name": "stdout",
     "output_type": "stream",
     "text": [
      "\r",
      "Upgrading database; v8 -> v9:   0%|          | 0/1 [00:00<?, ?it/s]"
     ]
    },
    {
     "name": "stdout",
     "output_type": "stream",
     "text": [
      "\r",
      "Upgrading database; v8 -> v9: 100%|██████████| 1/1 [00:00<00:00, 820.32it/s]"
     ]
    },
    {
     "name": "stdout",
     "output_type": "stream",
     "text": [
      "\n"
     ]
    }
   ],
   "source": [
    "initialise_database()\n",
    "exp = load_or_create_experiment(experiment_name='tutorial_exp', sample_name=\"no sample\")"
   ]
  },
  {
   "cell_type": "markdown",
   "metadata": {},
   "source": [
    "Here, we define a simple function to benchmark the time it takes to insert n points with either numeric or array data type.\n",
    "We will compare both the time used to call ``add_result`` and the time used for the full measurement."
   ]
  },
  {
   "cell_type": "code",
   "execution_count": 4,
   "metadata": {
    "execution": {
     "iopub.execute_input": "2021-02-26T11:18:24.069855Z",
     "iopub.status.busy": "2021-02-26T11:18:24.068406Z",
     "iopub.status.idle": "2021-02-26T11:18:24.073470Z",
     "shell.execute_reply": "2021-02-26T11:18:24.072898Z"
    }
   },
   "outputs": [],
   "source": [
    "def insert_data(paramtype, npoints, nreps=1):\n",
    "\n",
    "    meas = Measurement(exp=exp)\n",
    "\n",
    "    x1 = ManualParameter('x1')\n",
    "    x2 = ManualParameter('x2')\n",
    "    x3 = ManualParameter('x3')\n",
    "    y1 = ManualParameter('y1')\n",
    "    y2 = ManualParameter('y2')\n",
    "\n",
    "    meas.register_parameter(x1, paramtype=paramtype)\n",
    "    meas.register_parameter(x2, paramtype=paramtype)\n",
    "    meas.register_parameter(x3, paramtype=paramtype)\n",
    "    meas.register_parameter(y1, setpoints=[x1, x2, x3],\n",
    "                            paramtype=paramtype)\n",
    "    meas.register_parameter(y2, setpoints=[x1, x2, x3],\n",
    "                            paramtype=paramtype)\n",
    "    start = time.perf_counter()\n",
    "    with meas.run() as datasaver:\n",
    "        start_adding = time.perf_counter()\n",
    "        for i in range(nreps):\n",
    "            datasaver.add_result((x1, np.random.rand(npoints)),\n",
    "                                 (x2, np.random.rand(npoints)),\n",
    "                                 (x3, np.random.rand(npoints)),\n",
    "                                 (y1, np.random.rand(npoints)),\n",
    "                                 (y2, np.random.rand(npoints)))\n",
    "        stop_adding = time.perf_counter()\n",
    "        run_id = datasaver.run_id\n",
    "    stop = time.perf_counter()\n",
    "    tot_time = stop - start\n",
    "    add_time = stop_adding - start_adding\n",
    "    return tot_time, add_time, run_id"
   ]
  },
  {
   "cell_type": "markdown",
   "metadata": {},
   "source": [
    "## Comparison between numeric/array data and binary blob"
   ]
  },
  {
   "cell_type": "markdown",
   "metadata": {},
   "source": [
    "### Case1: Short experiment time"
   ]
  },
  {
   "cell_type": "code",
   "execution_count": 5,
   "metadata": {
    "execution": {
     "iopub.execute_input": "2021-02-26T11:18:24.080295Z",
     "iopub.status.busy": "2021-02-26T11:18:24.078650Z",
     "iopub.status.idle": "2021-02-26T11:18:24.887070Z",
     "shell.execute_reply": "2021-02-26T11:18:24.886184Z"
    }
   },
   "outputs": [
    {
     "name": "stdout",
     "output_type": "stream",
     "text": [
      "Starting experimental run with id: 1. \n",
      "Starting experimental run with id: 2. \n",
      "Starting experimental run with id: 3. \n",
      "Starting experimental run with id: 4. \n",
      "Starting experimental run with id: 5. \n"
     ]
    },
    {
     "name": "stdout",
     "output_type": "stream",
     "text": [
      "Starting experimental run with id: 6. \n"
     ]
    },
    {
     "name": "stdout",
     "output_type": "stream",
     "text": [
      "Starting experimental run with id: 7. \n"
     ]
    },
    {
     "name": "stdout",
     "output_type": "stream",
     "text": [
      "Starting experimental run with id: 8. \n",
      "Starting experimental run with id: 9. \n"
     ]
    },
    {
     "name": "stdout",
     "output_type": "stream",
     "text": [
      "Starting experimental run with id: 10. \n",
      "Starting experimental run with id: 11. \n"
     ]
    },
    {
     "name": "stdout",
     "output_type": "stream",
     "text": [
      "Starting experimental run with id: 12. \n",
      "Starting experimental run with id: 13. \n"
     ]
    },
    {
     "name": "stdout",
     "output_type": "stream",
     "text": [
      "Starting experimental run with id: 14. \n"
     ]
    }
   ],
   "source": [
    "sizes = [1,500,1000,2000,3000,4000,5000]\n",
    "t_numeric = []\n",
    "t_numeric_add = []\n",
    "t_array = []\n",
    "t_array_add = []\n",
    "for size in sizes:\n",
    "    tn, tna, run_id_n =  insert_data('numeric', size)\n",
    "    t_numeric.append(tn)\n",
    "    t_numeric_add.append(tna)\n",
    "\n",
    "    ta, taa, run_id_a =  insert_data('array', size)\n",
    "    t_array.append(ta)\n",
    "    t_array_add.append(taa)"
   ]
  },
  {
   "cell_type": "code",
   "execution_count": 6,
   "metadata": {
    "execution": {
     "iopub.execute_input": "2021-02-26T11:18:24.903175Z",
     "iopub.status.busy": "2021-02-26T11:18:24.898387Z",
     "iopub.status.idle": "2021-02-26T11:18:25.116774Z",
     "shell.execute_reply": "2021-02-26T11:18:25.117593Z"
    }
   },
   "outputs": [
    {
     "data": {
      "image/png": "[encoded data removed]",
      "text/plain": [
       "<Figure size 432x288 with 1 Axes>"
      ]
     },
     "metadata": {
      "needs_background": "light"
     },
     "output_type": "display_data"
    }
   ],
   "source": [
    "fig, ax = plt.subplots(1,1)\n",
    "ax.plot(sizes, t_numeric, 'o-', label='Inserting row-by-row')\n",
    "ax.plot(sizes, t_numeric_add, 'o-', label='Inserting row-by-row: add_result only')\n",
    "ax.plot(sizes, t_array, 'd-', label='Inserting as binary blob')\n",
    "ax.plot(sizes, t_array_add, 'd-', label='Inserting as binary blob: add_result only')\n",
    "ax.legend()\n",
    "ax.set_xlabel('Array length')\n",
    "ax.set_ylabel('Time (s)')\n",
    "fig.tight_layout()"
   ]
  },
  {
   "cell_type": "markdown",
   "metadata": {},
   "source": [
    "As shown in the latter figure, the time to setup and and close the experiment is approximately 0.4 sec. In case of small array sizes, the difference between inserting values of data as arrays and inserting them row-by-row is relatively unimportant. At larger array sizes, i.e. above 10000 points, the cost of writing data as individual datapoints starts to become important.\n"
   ]
  },
  {
   "cell_type": "markdown",
   "metadata": {},
   "source": [
    "### Case2: Long experiment time "
   ]
  },
  {
   "cell_type": "code",
   "execution_count": 7,
   "metadata": {
    "execution": {
     "iopub.execute_input": "2021-02-26T11:18:25.125234Z",
     "iopub.status.busy": "2021-02-26T11:18:25.124220Z",
     "iopub.status.idle": "2021-02-26T11:19:26.595460Z",
     "shell.execute_reply": "2021-02-26T11:19:26.594709Z"
    }
   },
   "outputs": [
    {
     "name": "stdout",
     "output_type": "stream",
     "text": [
      "Starting experimental run with id: 15. \n",
      "Starting experimental run with id: 16. \n"
     ]
    },
    {
     "name": "stdout",
     "output_type": "stream",
     "text": [
      "Starting experimental run with id: 17. \n"
     ]
    },
    {
     "name": "stdout",
     "output_type": "stream",
     "text": [
      "Starting experimental run with id: 18. \n"
     ]
    },
    {
     "name": "stdout",
     "output_type": "stream",
     "text": [
      "Starting experimental run with id: 19. \n"
     ]
    },
    {
     "name": "stdout",
     "output_type": "stream",
     "text": [
      "Starting experimental run with id: 20. \n"
     ]
    },
    {
     "name": "stdout",
     "output_type": "stream",
     "text": [
      "Starting experimental run with id: 21. \n"
     ]
    },
    {
     "name": "stdout",
     "output_type": "stream",
     "text": [
      "Starting experimental run with id: 22. \n"
     ]
    },
    {
     "name": "stdout",
     "output_type": "stream",
     "text": [
      "Starting experimental run with id: 23. \n"
     ]
    },
    {
     "name": "stdout",
     "output_type": "stream",
     "text": [
      "Starting experimental run with id: 24. \n"
     ]
    },
    {
     "name": "stdout",
     "output_type": "stream",
     "text": [
      "Starting experimental run with id: 25. \n"
     ]
    },
    {
     "name": "stdout",
     "output_type": "stream",
     "text": [
      "Starting experimental run with id: 26. \n"
     ]
    },
    {
     "name": "stdout",
     "output_type": "stream",
     "text": [
      "Starting experimental run with id: 27. \n"
     ]
    },
    {
     "name": "stdout",
     "output_type": "stream",
     "text": [
      "Starting experimental run with id: 28. \n"
     ]
    }
   ],
   "source": [
    "sizes = [1,500,1000,2000,3000,4000,5000]\n",
    "nreps = 100\n",
    "t_numeric = []\n",
    "t_numeric_add = []\n",
    "t_numeric_run_ids = []\n",
    "t_array = []\n",
    "t_array_add = []\n",
    "t_array_run_ids = []\n",
    "for size in sizes:\n",
    "    tn, tna, run_id_n =  insert_data('numeric', size, nreps=nreps)\n",
    "    t_numeric.append(tn)\n",
    "    t_numeric_add.append(tna)\n",
    "    t_numeric_run_ids.append(run_id_n)\n",
    "\n",
    "    ta, taa, run_id_a =  insert_data('array', size, nreps=nreps)\n",
    "    t_array.append(ta)\n",
    "    t_array_add.append(taa)\n",
    "    t_array_run_ids.append(run_id_a)"
   ]
  },
  {
   "cell_type": "code",
   "execution_count": 8,
   "metadata": {
    "execution": {
     "iopub.execute_input": "2021-02-26T11:19:26.645744Z",
     "iopub.status.busy": "2021-02-26T11:19:26.619338Z",
     "iopub.status.idle": "2021-02-26T11:19:26.839377Z",
     "shell.execute_reply": "2021-02-26T11:19:26.838800Z"
    },
    "scrolled": true
   },
   "outputs": [
    {
     "data": {
      "image/png": "[encoded data removed]",
      "text/plain": [
       "<Figure size 432x288 with 1 Axes>"
      ]
     },
     "metadata": {
      "needs_background": "light"
     },
     "output_type": "display_data"
    }
   ],
   "source": [
    "fig, ax = plt.subplots(1,1)\n",
    "ax.plot(sizes, t_numeric, 'o-', label='Inserting row-by-row')\n",
    "ax.plot(sizes, t_numeric_add, 'o-', label='Inserting row-by-row: add_result only')\n",
    "ax.plot(sizes, t_array, 'd-', label='Inserting as binary blob')\n",
    "ax.plot(sizes, t_array_add, 'd-', label='Inserting as binary blob: add_result only')\n",
    "ax.legend()\n",
    "ax.set_xlabel('Array length')\n",
    "ax.set_ylabel('Time (s)')\n",
    "fig.tight_layout()"
   ]
  },
  {
   "cell_type": "markdown",
   "metadata": {},
   "source": [
    "However, as we increase the length of the experiment, as seen here by repeating the insertion 100 times, we see a big difference between inserting values of the data row-by-row and inserting it as a binary blob."
   ]
  },
  {
   "cell_type": "markdown",
   "metadata": {},
   "source": [
    "## Loading the data "
   ]
  },
  {
   "cell_type": "code",
   "execution_count": 9,
   "metadata": {
    "execution": {
     "iopub.execute_input": "2021-02-26T11:19:26.844079Z",
     "iopub.status.busy": "2021-02-26T11:19:26.843370Z",
     "iopub.status.idle": "2021-02-26T11:19:26.846400Z",
     "shell.execute_reply": "2021-02-26T11:19:26.845827Z"
    }
   },
   "outputs": [],
   "source": [
    "from qcodes.dataset.data_set import load_by_id\n",
    "from qcodes.dataset.data_export import get_data_by_id"
   ]
  },
  {
   "cell_type": "markdown",
   "metadata": {},
   "source": [
    "As usual you can load the data by using the ``load_by_id`` function but you will notice that the different storage methods\n",
    "are reflected in shape of the data as it is retrieved. "
   ]
  },
  {
   "cell_type": "code",
   "execution_count": 10,
   "metadata": {
    "execution": {
     "iopub.execute_input": "2021-02-26T11:19:26.851509Z",
     "iopub.status.busy": "2021-02-26T11:19:26.850103Z",
     "iopub.status.idle": "2021-02-26T11:19:26.852255Z",
     "shell.execute_reply": "2021-02-26T11:19:26.852806Z"
    }
   },
   "outputs": [],
   "source": [
    "run_id_n = t_numeric_run_ids[0]\n",
    "run_id_a = t_array_run_ids[0]"
   ]
  },
  {
   "cell_type": "code",
   "execution_count": 11,
   "metadata": {
    "execution": {
     "iopub.execute_input": "2021-02-26T11:19:26.856432Z",
     "iopub.status.busy": "2021-02-26T11:19:26.855763Z",
     "iopub.status.idle": "2021-02-26T11:19:26.865694Z",
     "shell.execute_reply": "2021-02-26T11:19:26.866205Z"
    },
    "scrolled": true
   },
   "outputs": [
    {
     "data": {
      "text/plain": [
       "{'x1': {'x1': array([0.01289618, 0.01289618, 0.63008459, 0.63008459, 0.2410503 ,\n",
       "         0.2410503 , 0.87625335, 0.87625335, 0.71149812, 0.71149812,\n",
       "         0.55746599, 0.55746599, 0.09921872, 0.09921872, 0.56458661,\n",
       "         0.56458661, 0.39195175, 0.39195175, 0.18274812, 0.18274812,\n",
       "         0.14114757, 0.14114757, 0.9619223 , 0.9619223 , 0.21814036,\n",
       "         0.21814036, 0.93794053, 0.93794053, 0.55389355, 0.55389355,\n",
       "         0.51640201, 0.51640201, 0.7270469 , 0.7270469 , 0.2674727 ,\n",
       "         0.2674727 , 0.00270321, 0.00270321, 0.55749339, 0.55749339,\n",
       "         0.90087562, 0.90087562, 0.24958469, 0.24958469, 0.64637072,\n",
       "         0.64637072, 0.64826551, 0.64826551, 0.67091063, 0.67091063,\n",
       "         0.36530641, 0.36530641, 0.21270112, 0.21270112, 0.11336986,\n",
       "         0.11336986, 0.57037964, 0.57037964, 0.91497484, 0.91497484,\n",
       "         0.92616157, 0.92616157, 0.2647999 , 0.2647999 , 0.65943505,\n",
       "         0.65943505, 0.15219688, 0.15219688, 0.85983474, 0.85983474,\n",
       "         0.34849921, 0.34849921, 0.21245633, 0.21245633, 0.26171789,\n",
       "         0.26171789, 0.80489914, 0.80489914, 0.64935942, 0.64935942,\n",
       "         0.03310115, 0.03310115, 0.38763453, 0.38763453, 0.65691305,\n",
       "         0.65691305, 0.60488217, 0.60488217, 0.37415125, 0.37415125,\n",
       "         0.47780917, 0.47780917, 0.43944101, 0.43944101, 0.0783419 ,\n",
       "         0.0783419 , 0.21602133, 0.21602133, 0.39417074, 0.39417074,\n",
       "         0.70844157, 0.70844157, 0.70572804, 0.70572804, 0.02261205,\n",
       "         0.02261205, 0.50562834, 0.50562834, 0.71598238, 0.71598238,\n",
       "         0.10428048, 0.10428048, 0.56917974, 0.56917974, 0.82473323,\n",
       "         0.82473323, 0.32354421, 0.32354421, 0.40580971, 0.40580971,\n",
       "         0.36802112, 0.36802112, 0.81167639, 0.81167639, 0.59360604,\n",
       "         0.59360604, 0.72651063, 0.72651063, 0.52838533, 0.52838533,\n",
       "         0.17633778, 0.17633778, 0.00920171, 0.00920171, 0.66531778,\n",
       "         0.66531778, 0.52065318, 0.52065318, 0.75976772, 0.75976772,\n",
       "         0.07321591, 0.07321591, 0.34517299, 0.34517299, 0.28877767,\n",
       "         0.28877767, 0.6842728 , 0.6842728 , 0.64368996, 0.64368996,\n",
       "         0.90878216, 0.90878216, 0.28370325, 0.28370325, 0.63806567,\n",
       "         0.63806567, 0.44138716, 0.44138716, 0.95037078, 0.95037078,\n",
       "         0.08944584, 0.08944584, 0.03276851, 0.03276851, 0.15061579,\n",
       "         0.15061579, 0.84527391, 0.84527391, 0.5035265 , 0.5035265 ,\n",
       "         0.48365804, 0.48365804, 0.8191747 , 0.8191747 , 0.14998731,\n",
       "         0.14998731, 0.57313163, 0.57313163, 0.82675951, 0.82675951,\n",
       "         0.58941257, 0.58941257, 0.19240093, 0.19240093, 0.60291715,\n",
       "         0.60291715, 0.61042289, 0.61042289, 0.51158851, 0.51158851,\n",
       "         0.33340768, 0.33340768, 0.85692392, 0.85692392, 0.08351248,\n",
       "         0.08351248, 0.71585813, 0.71585813, 0.27672483, 0.27672483])}}"
      ]
     },
     "execution_count": 1,
     "metadata": {},
     "output_type": "execute_result"
    }
   ],
   "source": [
    "ds = load_by_id(run_id_n)\n",
    "ds.get_parameter_data('x1')"
   ]
  },
  {
   "cell_type": "markdown",
   "metadata": {},
   "source": [
    "And a dataset stored as binary arrays"
   ]
  },
  {
   "cell_type": "code",
   "execution_count": 12,
   "metadata": {
    "execution": {
     "iopub.execute_input": "2021-02-26T11:19:26.869874Z",
     "iopub.status.busy": "2021-02-26T11:19:26.869218Z",
     "iopub.status.idle": "2021-02-26T11:19:26.933166Z",
     "shell.execute_reply": "2021-02-26T11:19:26.933710Z"
    },
    "scrolled": true
   },
   "outputs": [
    {
     "data": {
      "text/plain": [
       "{'x1': {'x1': array([[0.02527694],\n",
       "         [0.02527694],\n",
       "         [0.40152849],\n",
       "         [0.40152849],\n",
       "         [0.18056095],\n",
       "         [0.18056095],\n",
       "         [0.88343846],\n",
       "         [0.88343846],\n",
       "         [0.55299505],\n",
       "         [0.55299505],\n",
       "         [0.68571527],\n",
       "         [0.68571527],\n",
       "         [0.40343264],\n",
       "         [0.40343264],\n",
       "         [0.91311074],\n",
       "         [0.91311074],\n",
       "         [0.11441423],\n",
       "         [0.11441423],\n",
       "         [0.12181436],\n",
       "         [0.12181436],\n",
       "         [0.05313134],\n",
       "         [0.05313134],\n",
       "         [0.23587233],\n",
       "         [0.23587233],\n",
       "         [0.38800005],\n",
       "         [0.38800005],\n",
       "         [0.88229075],\n",
       "         [0.88229075],\n",
       "         [0.55090794],\n",
       "         [0.55090794],\n",
       "         [0.88218072],\n",
       "         [0.88218072],\n",
       "         [0.48718465],\n",
       "         [0.48718465],\n",
       "         [0.55008142],\n",
       "         [0.55008142],\n",
       "         [0.55454267],\n",
       "         [0.55454267],\n",
       "         [0.89934711],\n",
       "         [0.89934711],\n",
       "         [0.30633203],\n",
       "         [0.30633203],\n",
       "         [0.56798958],\n",
       "         [0.56798958],\n",
       "         [0.44100626],\n",
       "         [0.44100626],\n",
       "         [0.40715848],\n",
       "         [0.40715848],\n",
       "         [0.70234541],\n",
       "         [0.70234541],\n",
       "         [0.15192376],\n",
       "         [0.15192376],\n",
       "         [0.43836854],\n",
       "         [0.43836854],\n",
       "         [0.63122212],\n",
       "         [0.63122212],\n",
       "         [0.64405141],\n",
       "         [0.64405141],\n",
       "         [0.31629253],\n",
       "         [0.31629253],\n",
       "         [0.43905757],\n",
       "         [0.43905757],\n",
       "         [0.43696945],\n",
       "         [0.43696945],\n",
       "         [0.57377509],\n",
       "         [0.57377509],\n",
       "         [0.79469115],\n",
       "         [0.79469115],\n",
       "         [0.84811104],\n",
       "         [0.84811104],\n",
       "         [0.18621246],\n",
       "         [0.18621246],\n",
       "         [0.85419899],\n",
       "         [0.85419899],\n",
       "         [0.84251635],\n",
       "         [0.84251635],\n",
       "         [0.48308811],\n",
       "         [0.48308811],\n",
       "         [0.82932865],\n",
       "         [0.82932865],\n",
       "         [0.0487006 ],\n",
       "         [0.0487006 ],\n",
       "         [0.93530383],\n",
       "         [0.93530383],\n",
       "         [0.6490622 ],\n",
       "         [0.6490622 ],\n",
       "         [0.83544506],\n",
       "         [0.83544506],\n",
       "         [0.89421335],\n",
       "         [0.89421335],\n",
       "         [0.88661851],\n",
       "         [0.88661851],\n",
       "         [0.20632951],\n",
       "         [0.20632951],\n",
       "         [0.73556033],\n",
       "         [0.73556033],\n",
       "         [0.48265458],\n",
       "         [0.48265458],\n",
       "         [0.05110605],\n",
       "         [0.05110605],\n",
       "         [0.10374271],\n",
       "         [0.10374271],\n",
       "         [0.44410986],\n",
       "         [0.44410986],\n",
       "         [0.96632971],\n",
       "         [0.96632971],\n",
       "         [0.64244159],\n",
       "         [0.64244159],\n",
       "         [0.45526067],\n",
       "         [0.45526067],\n",
       "         [0.46621964],\n",
       "         [0.46621964],\n",
       "         [0.50731235],\n",
       "         [0.50731235],\n",
       "         [0.18969967],\n",
       "         [0.18969967],\n",
       "         [0.77003411],\n",
       "         [0.77003411],\n",
       "         [0.0301168 ],\n",
       "         [0.0301168 ],\n",
       "         [0.69418987],\n",
       "         [0.69418987],\n",
       "         [0.63164652],\n",
       "         [0.63164652],\n",
       "         [0.46254445],\n",
       "         [0.46254445],\n",
       "         [0.55037292],\n",
       "         [0.55037292],\n",
       "         [0.16331884],\n",
       "         [0.16331884],\n",
       "         [0.80098941],\n",
       "         [0.80098941],\n",
       "         [0.58798816],\n",
       "         [0.58798816],\n",
       "         [0.21178215],\n",
       "         [0.21178215],\n",
       "         [0.15910208],\n",
       "         [0.15910208],\n",
       "         [0.19939798],\n",
       "         [0.19939798],\n",
       "         [0.74214316],\n",
       "         [0.74214316],\n",
       "         [0.63546297],\n",
       "         [0.63546297],\n",
       "         [0.94359013],\n",
       "         [0.94359013],\n",
       "         [0.08700252],\n",
       "         [0.08700252],\n",
       "         [0.82306995],\n",
       "         [0.82306995],\n",
       "         [0.57685826],\n",
       "         [0.57685826],\n",
       "         [0.20684696],\n",
       "         [0.20684696],\n",
       "         [0.17936739],\n",
       "         [0.17936739],\n",
       "         [0.12829059],\n",
       "         [0.12829059],\n",
       "         [0.34664988],\n",
       "         [0.34664988],\n",
       "         [0.57206992],\n",
       "         [0.57206992],\n",
       "         [0.33294442],\n",
       "         [0.33294442],\n",
       "         [0.18063648],\n",
       "         [0.18063648],\n",
       "         [0.02245941],\n",
       "         [0.02245941],\n",
       "         [0.7684633 ],\n",
       "         [0.7684633 ],\n",
       "         [0.18869557],\n",
       "         [0.18869557],\n",
       "         [0.19433856],\n",
       "         [0.19433856],\n",
       "         [0.94592209],\n",
       "         [0.94592209],\n",
       "         [0.96523604],\n",
       "         [0.96523604],\n",
       "         [0.30223136],\n",
       "         [0.30223136],\n",
       "         [0.88360112],\n",
       "         [0.88360112],\n",
       "         [0.07457426],\n",
       "         [0.07457426],\n",
       "         [0.24134158],\n",
       "         [0.24134158],\n",
       "         [0.78594529],\n",
       "         [0.78594529],\n",
       "         [0.4782623 ],\n",
       "         [0.4782623 ],\n",
       "         [0.63181934],\n",
       "         [0.63181934],\n",
       "         [0.34818609],\n",
       "         [0.34818609],\n",
       "         [0.33712976],\n",
       "         [0.33712976],\n",
       "         [0.70520039],\n",
       "         [0.70520039],\n",
       "         [0.53748597],\n",
       "         [0.53748597]])}}"
      ]
     },
     "execution_count": 1,
     "metadata": {},
     "output_type": "execute_result"
    }
   ],
   "source": [
    "ds = load_by_id(run_id_a)\n",
    "ds.get_parameter_data('x1')"
   ]
  },
  {
   "cell_type": "code",
   "execution_count": null,
   "metadata": {},
   "outputs": [],
   "source": []
  }
 ],
 "metadata": {
  "kernelspec": {
   "display_name": "Python 3",
   "language": "python",
   "name": "python3"
  },
  "language_info": {
   "codemirror_mode": {
    "name": "ipython",
    "version": 3
   },
   "file_extension": ".py",
   "mimetype": "text/x-python",
   "name": "python",
   "nbconvert_exporter": "python",
   "pygments_lexer": "ipython3",
   "version": "3.7.10"
  },
  "nbsphinx": {
   "timeout": 600
  },
  "toc": {
   "base_numbering": 1,
   "nav_menu": {},
   "number_sections": true,
   "sideBar": true,
   "skip_h1_title": false,
   "title_cell": "Table of Contents",
   "title_sidebar": "Contents",
   "toc_cell": false,
   "toc_position": {},
   "toc_section_display": true,
   "toc_window_display": false
  },
  "varInspector": {
   "cols": {
    "lenName": 16,
    "lenType": 16,
    "lenVar": 40
   },
   "kernels_config": {
    "python": {
     "delete_cmd_postfix": "",
     "delete_cmd_prefix": "del ",
     "library": "var_list.py",
     "varRefreshCmd": "print(var_dic_list())"
    },
    "r": {
     "delete_cmd_postfix": ") ",
     "delete_cmd_prefix": "rm(",
     "library": "var_list.r",
     "varRefreshCmd": "cat(var_dic_list()) "
    }
   },
   "types_to_exclude": [
    "module",
    "function",
    "builtin_function_or_method",
    "instance",
    "_Feature"
   ],
   "window_display": false
  }
 },
 "nbformat": 4,
 "nbformat_minor": 2
}
