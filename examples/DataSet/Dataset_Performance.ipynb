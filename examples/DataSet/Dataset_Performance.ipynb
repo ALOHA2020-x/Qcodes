{
 "cells": [
  {
   "cell_type": "markdown",
   "metadata": {},
   "source": [
    "# DataSet Performance\n",
    "\n",
    "This notebook shows the trade-off between inserting data into a database row-by-row and as binary blobs. Inserting the data row-by-row means that we have direct access to all the data and may perform queries directly on the values of the data. On the other hand, as we shall see, this is much slower than inserting the data directly as binary blobs."
   ]
  },
  {
   "cell_type": "markdown",
   "metadata": {},
   "source": [
    "First, we choose a new location for the database to ensure that we don't add a bunch of benchmarking data to the default one."
   ]
  },
  {
   "cell_type": "code",
   "execution_count": 1,
   "metadata": {
    "execution": {
     "iopub.execute_input": "2021-05-06T19:45:08.722631Z",
     "iopub.status.busy": "2021-05-06T19:45:08.722081Z",
     "iopub.status.idle": "2021-05-06T19:45:09.786250Z",
     "shell.execute_reply": "2021-05-06T19:45:09.786738Z"
    }
   },
   "outputs": [
    {
     "name": "stdout",
     "output_type": "stream",
     "text": [
      "Logging hadn't been started.\n",
      "Activating auto-logging. Current session state plus future input saved.\n",
      "Filename       : /home/runner/.qcodes/logs/command_history.log\n",
      "Mode           : append\n",
      "Output logging : True\n",
      "Raw input log  : False\n",
      "Timestamping   : True\n",
      "State          : active\n"
     ]
    },
    {
     "name": "stdout",
     "output_type": "stream",
     "text": [
      "Qcodes Logfile : /home/runner/.qcodes/logs/210506-5103-qcodes.log\n"
     ]
    }
   ],
   "source": [
    "import os\n",
    "cwd = os.getcwd()\n",
    "import qcodes as qc\n",
    "qc.config[\"core\"][\"db_location\"] = os.path.join(cwd, 'testing.db')\n"
   ]
  },
  {
   "cell_type": "code",
   "execution_count": 2,
   "metadata": {
    "execution": {
     "iopub.execute_input": "2021-05-06T19:45:09.793144Z",
     "iopub.status.busy": "2021-05-06T19:45:09.792294Z",
     "iopub.status.idle": "2021-05-06T19:45:09.973219Z",
     "shell.execute_reply": "2021-05-06T19:45:09.973689Z"
    }
   },
   "outputs": [],
   "source": [
    "%matplotlib inline\n",
    "import time\n",
    "import matplotlib.pyplot as plt\n",
    "import numpy as np\n",
    "\n",
    "import qcodes as qc\n",
    "from qcodes.instrument.parameter import ManualParameter\n",
    "from qcodes.dataset.experiment_container import (Experiment,\n",
    "                                                 load_last_experiment,\n",
    "                                                 new_experiment)\n",
    "from qcodes.dataset.sqlite.database import initialise_database\n",
    "from qcodes import load_or_create_experiment\n",
    "from qcodes.dataset.measurements import Measurement"
   ]
  },
  {
   "cell_type": "code",
   "execution_count": 3,
   "metadata": {
    "execution": {
     "iopub.execute_input": "2021-05-06T19:45:09.977558Z",
     "iopub.status.busy": "2021-05-06T19:45:09.976996Z",
     "iopub.status.idle": "2021-05-06T19:45:10.036306Z",
     "shell.execute_reply": "2021-05-06T19:45:10.035814Z"
    }
   },
   "outputs": [
    {
     "name": "stdout",
     "output_type": "stream",
     "text": [
      "\r",
      "0it [00:00, ?it/s]"
     ]
    },
    {
     "name": "stdout",
     "output_type": "stream",
     "text": [
      "\r",
      "Upgrading database; v0 -> v1: : 0it [00:00, ?it/s]"
     ]
    },
    {
     "name": "stdout",
     "output_type": "stream",
     "text": [
      "\r",
      "Upgrading database; v0 -> v1: : 0it [00:00, ?it/s]"
     ]
    },
    {
     "name": "stdout",
     "output_type": "stream",
     "text": [
      "\n",
      "\r",
      "  0%|          | 0/1 [00:00<?, ?it/s]"
     ]
    },
    {
     "name": "stdout",
     "output_type": "stream",
     "text": [
      "\r",
      "Upgrading database; v1 -> v2:   0%|          | 0/1 [00:00<?, ?it/s]"
     ]
    },
    {
     "name": "stdout",
     "output_type": "stream",
     "text": [
      "\r",
      "Upgrading database; v1 -> v2: 100%|██████████| 1/1 [00:00<00:00, 544.50it/s]"
     ]
    },
    {
     "name": "stdout",
     "output_type": "stream",
     "text": [
      "\n",
      "\r",
      "0it [00:00, ?it/s]"
     ]
    },
    {
     "name": "stdout",
     "output_type": "stream",
     "text": [
      "\r",
      "Upgrading database; v2 -> v3: : 0it [00:00, ?it/s]"
     ]
    },
    {
     "name": "stdout",
     "output_type": "stream",
     "text": [
      "\r",
      "Upgrading database; v2 -> v3: : 0it [00:00, ?it/s]"
     ]
    },
    {
     "name": "stdout",
     "output_type": "stream",
     "text": [
      "\n",
      "\r",
      "0it [00:00, ?it/s]"
     ]
    },
    {
     "name": "stdout",
     "output_type": "stream",
     "text": [
      "\r",
      "Upgrading database; v3 -> v4: : 0it [00:00, ?it/s]"
     ]
    },
    {
     "name": "stdout",
     "output_type": "stream",
     "text": [
      "\r",
      "Upgrading database; v3 -> v4: : 0it [00:00, ?it/s]"
     ]
    },
    {
     "name": "stdout",
     "output_type": "stream",
     "text": [
      "\n",
      "\r",
      "  0%|          | 0/1 [00:00<?, ?it/s]"
     ]
    },
    {
     "name": "stdout",
     "output_type": "stream",
     "text": [
      "\r",
      "Upgrading database; v4 -> v5:   0%|          | 0/1 [00:00<?, ?it/s]"
     ]
    },
    {
     "name": "stdout",
     "output_type": "stream",
     "text": [
      "\r",
      "Upgrading database; v4 -> v5: 100%|██████████| 1/1 [00:00<00:00, 492.58it/s]"
     ]
    },
    {
     "name": "stdout",
     "output_type": "stream",
     "text": [
      "\n",
      "\r",
      "0it [00:00, ?it/s]"
     ]
    },
    {
     "name": "stdout",
     "output_type": "stream",
     "text": [
      "\r",
      "Upgrading database; v5 -> v6: : 0it [00:00, ?it/s]"
     ]
    },
    {
     "name": "stdout",
     "output_type": "stream",
     "text": [
      "\r",
      "Upgrading database; v5 -> v6: : 0it [00:00, ?it/s]"
     ]
    },
    {
     "name": "stdout",
     "output_type": "stream",
     "text": [
      "\n",
      "\r",
      "  0%|          | 0/1 [00:00<?, ?it/s]"
     ]
    },
    {
     "name": "stdout",
     "output_type": "stream",
     "text": [
      "\r",
      "Upgrading database; v6 -> v7:   0%|          | 0/1 [00:00<?, ?it/s]"
     ]
    },
    {
     "name": "stdout",
     "output_type": "stream",
     "text": [
      "\r",
      "Upgrading database; v6 -> v7: 100%|██████████| 1/1 [00:00<00:00, 468.06it/s]"
     ]
    },
    {
     "name": "stdout",
     "output_type": "stream",
     "text": [
      "\n",
      "\r",
      "  0%|          | 0/1 [00:00<?, ?it/s]"
     ]
    },
    {
     "name": "stdout",
     "output_type": "stream",
     "text": [
      "\r",
      "Upgrading database; v7 -> v8:   0%|          | 0/1 [00:00<?, ?it/s]"
     ]
    },
    {
     "name": "stdout",
     "output_type": "stream",
     "text": [
      "\r",
      "Upgrading database; v7 -> v8: 100%|██████████| 1/1 [00:00<00:00, 1234.34it/s]"
     ]
    },
    {
     "name": "stdout",
     "output_type": "stream",
     "text": [
      "\n",
      "\r",
      "  0%|          | 0/1 [00:00<?, ?it/s]"
     ]
    },
    {
     "name": "stdout",
     "output_type": "stream",
     "text": [
      "\r",
      "Upgrading database; v8 -> v9:   0%|          | 0/1 [00:00<?, ?it/s]"
     ]
    },
    {
     "name": "stdout",
     "output_type": "stream",
     "text": [
      "\r",
      "Upgrading database; v8 -> v9: 100%|██████████| 1/1 [00:00<00:00, 518.65it/s]"
     ]
    },
    {
     "name": "stdout",
     "output_type": "stream",
     "text": [
      "\n"
     ]
    }
   ],
   "source": [
    "initialise_database()\n",
    "exp = load_or_create_experiment(experiment_name='tutorial_exp', sample_name=\"no sample\")"
   ]
  },
  {
   "cell_type": "markdown",
   "metadata": {},
   "source": [
    "Here, we define a simple function to benchmark the time it takes to insert n points with either numeric or array data type.\n",
    "We will compare both the time used to call ``add_result`` and the time used for the full measurement."
   ]
  },
  {
   "cell_type": "code",
   "execution_count": 4,
   "metadata": {
    "execution": {
     "iopub.execute_input": "2021-05-06T19:45:10.044131Z",
     "iopub.status.busy": "2021-05-06T19:45:10.043601Z",
     "iopub.status.idle": "2021-05-06T19:45:10.046522Z",
     "shell.execute_reply": "2021-05-06T19:45:10.046895Z"
    }
   },
   "outputs": [],
   "source": [
    "def insert_data(paramtype, npoints, nreps=1):\n",
    "\n",
    "    meas = Measurement(exp=exp)\n",
    "\n",
    "    x1 = ManualParameter('x1')\n",
    "    x2 = ManualParameter('x2')\n",
    "    x3 = ManualParameter('x3')\n",
    "    y1 = ManualParameter('y1')\n",
    "    y2 = ManualParameter('y2')\n",
    "\n",
    "    meas.register_parameter(x1, paramtype=paramtype)\n",
    "    meas.register_parameter(x2, paramtype=paramtype)\n",
    "    meas.register_parameter(x3, paramtype=paramtype)\n",
    "    meas.register_parameter(y1, setpoints=[x1, x2, x3],\n",
    "                            paramtype=paramtype)\n",
    "    meas.register_parameter(y2, setpoints=[x1, x2, x3],\n",
    "                            paramtype=paramtype)\n",
    "    start = time.perf_counter()\n",
    "    with meas.run() as datasaver:\n",
    "        start_adding = time.perf_counter()\n",
    "        for i in range(nreps):\n",
    "            datasaver.add_result((x1, np.random.rand(npoints)),\n",
    "                                 (x2, np.random.rand(npoints)),\n",
    "                                 (x3, np.random.rand(npoints)),\n",
    "                                 (y1, np.random.rand(npoints)),\n",
    "                                 (y2, np.random.rand(npoints)))\n",
    "        stop_adding = time.perf_counter()\n",
    "        run_id = datasaver.run_id\n",
    "    stop = time.perf_counter()\n",
    "    tot_time = stop - start\n",
    "    add_time = stop_adding - start_adding\n",
    "    return tot_time, add_time, run_id"
   ]
  },
  {
   "cell_type": "markdown",
   "metadata": {},
   "source": [
    "## Comparison between numeric/array data and binary blob"
   ]
  },
  {
   "cell_type": "markdown",
   "metadata": {},
   "source": [
    "### Case1: Short experiment time"
   ]
  },
  {
   "cell_type": "code",
   "execution_count": 5,
   "metadata": {
    "execution": {
     "iopub.execute_input": "2021-05-06T19:45:10.053038Z",
     "iopub.status.busy": "2021-05-06T19:45:10.052474Z",
     "iopub.status.idle": "2021-05-06T19:45:10.785298Z",
     "shell.execute_reply": "2021-05-06T19:45:10.784841Z"
    }
   },
   "outputs": [
    {
     "name": "stdout",
     "output_type": "stream",
     "text": [
      "Starting experimental run with id: 1. \n",
      "Starting experimental run with id: 2. \n",
      "Starting experimental run with id: 3. \n",
      "Starting experimental run with id: 4. \n"
     ]
    },
    {
     "name": "stdout",
     "output_type": "stream",
     "text": [
      "Starting experimental run with id: 5. \n"
     ]
    },
    {
     "name": "stdout",
     "output_type": "stream",
     "text": [
      "Starting experimental run with id: 6. \n",
      "Starting experimental run with id: 7. \n"
     ]
    },
    {
     "name": "stdout",
     "output_type": "stream",
     "text": [
      "Starting experimental run with id: 8. \n",
      "Starting experimental run with id: 9. \n"
     ]
    },
    {
     "name": "stdout",
     "output_type": "stream",
     "text": [
      "Starting experimental run with id: 10. \n",
      "Starting experimental run with id: 11. \n"
     ]
    },
    {
     "name": "stdout",
     "output_type": "stream",
     "text": [
      "Starting experimental run with id: 12. \n",
      "Starting experimental run with id: 13. \n"
     ]
    },
    {
     "name": "stdout",
     "output_type": "stream",
     "text": [
      "Starting experimental run with id: 14. \n"
     ]
    }
   ],
   "source": [
    "sizes = [1,500,1000,2000,3000,4000,5000]\n",
    "t_numeric = []\n",
    "t_numeric_add = []\n",
    "t_array = []\n",
    "t_array_add = []\n",
    "for size in sizes:\n",
    "    tn, tna, run_id_n =  insert_data('numeric', size)\n",
    "    t_numeric.append(tn)\n",
    "    t_numeric_add.append(tna)\n",
    "\n",
    "    ta, taa, run_id_a =  insert_data('array', size)\n",
    "    t_array.append(ta)\n",
    "    t_array_add.append(taa)"
   ]
  },
  {
   "cell_type": "code",
   "execution_count": 6,
   "metadata": {
    "execution": {
     "iopub.execute_input": "2021-05-06T19:45:10.802077Z",
     "iopub.status.busy": "2021-05-06T19:45:10.801583Z",
     "iopub.status.idle": "2021-05-06T19:45:10.996003Z",
     "shell.execute_reply": "2021-05-06T19:45:10.995567Z"
    }
   },
   "outputs": [
    {
     "data": {
      "image/png": "[encoded data removed]",
      "text/plain": [
       "<Figure size 432x288 with 1 Axes>"
      ]
     },
     "metadata": {
      "needs_background": "light"
     },
     "output_type": "display_data"
    }
   ],
   "source": [
    "fig, ax = plt.subplots(1,1)\n",
    "ax.plot(sizes, t_numeric, 'o-', label='Inserting row-by-row')\n",
    "ax.plot(sizes, t_numeric_add, 'o-', label='Inserting row-by-row: add_result only')\n",
    "ax.plot(sizes, t_array, 'd-', label='Inserting as binary blob')\n",
    "ax.plot(sizes, t_array_add, 'd-', label='Inserting as binary blob: add_result only')\n",
    "ax.legend()\n",
    "ax.set_xlabel('Array length')\n",
    "ax.set_ylabel('Time (s)')\n",
    "fig.tight_layout()"
   ]
  },
  {
   "cell_type": "markdown",
   "metadata": {},
   "source": [
    "As shown in the latter figure, the time to setup and and close the experiment is approximately 0.4 sec. In case of small array sizes, the difference between inserting values of data as arrays and inserting them row-by-row is relatively unimportant. At larger array sizes, i.e. above 10000 points, the cost of writing data as individual datapoints starts to become important.\n"
   ]
  },
  {
   "cell_type": "markdown",
   "metadata": {},
   "source": [
    "### Case2: Long experiment time "
   ]
  },
  {
   "cell_type": "code",
   "execution_count": 7,
   "metadata": {
    "execution": {
     "iopub.execute_input": "2021-05-06T19:45:11.002515Z",
     "iopub.status.busy": "2021-05-06T19:45:11.000223Z",
     "iopub.status.idle": "2021-05-06T19:46:02.290794Z",
     "shell.execute_reply": "2021-05-06T19:46:02.290244Z"
    }
   },
   "outputs": [
    {
     "name": "stdout",
     "output_type": "stream",
     "text": [
      "Starting experimental run with id: 15. \n",
      "Starting experimental run with id: 16. \n",
      "Starting experimental run with id: 17. \n"
     ]
    },
    {
     "name": "stdout",
     "output_type": "stream",
     "text": [
      "Starting experimental run with id: 18. \n",
      "Starting experimental run with id: 19. \n"
     ]
    },
    {
     "name": "stdout",
     "output_type": "stream",
     "text": [
      "Starting experimental run with id: 20. \n"
     ]
    },
    {
     "name": "stdout",
     "output_type": "stream",
     "text": [
      "Starting experimental run with id: 21. \n"
     ]
    },
    {
     "name": "stdout",
     "output_type": "stream",
     "text": [
      "Starting experimental run with id: 22. \n"
     ]
    },
    {
     "name": "stdout",
     "output_type": "stream",
     "text": [
      "Starting experimental run with id: 23. \n"
     ]
    },
    {
     "name": "stdout",
     "output_type": "stream",
     "text": [
      "Starting experimental run with id: 24. \n"
     ]
    },
    {
     "name": "stdout",
     "output_type": "stream",
     "text": [
      "Starting experimental run with id: 25. \n"
     ]
    },
    {
     "name": "stdout",
     "output_type": "stream",
     "text": [
      "Starting experimental run with id: 26. \n"
     ]
    },
    {
     "name": "stdout",
     "output_type": "stream",
     "text": [
      "Starting experimental run with id: 27. \n"
     ]
    },
    {
     "name": "stdout",
     "output_type": "stream",
     "text": [
      "Starting experimental run with id: 28. \n"
     ]
    }
   ],
   "source": [
    "sizes = [1,500,1000,2000,3000,4000,5000]\n",
    "nreps = 100\n",
    "t_numeric = []\n",
    "t_numeric_add = []\n",
    "t_numeric_run_ids = []\n",
    "t_array = []\n",
    "t_array_add = []\n",
    "t_array_run_ids = []\n",
    "for size in sizes:\n",
    "    tn, tna, run_id_n =  insert_data('numeric', size, nreps=nreps)\n",
    "    t_numeric.append(tn)\n",
    "    t_numeric_add.append(tna)\n",
    "    t_numeric_run_ids.append(run_id_n)\n",
    "\n",
    "    ta, taa, run_id_a =  insert_data('array', size, nreps=nreps)\n",
    "    t_array.append(ta)\n",
    "    t_array_add.append(taa)\n",
    "    t_array_run_ids.append(run_id_a)"
   ]
  },
  {
   "cell_type": "code",
   "execution_count": 8,
   "metadata": {
    "execution": {
     "iopub.execute_input": "2021-05-06T19:46:02.328540Z",
     "iopub.status.busy": "2021-05-06T19:46:02.316947Z",
     "iopub.status.idle": "2021-05-06T19:46:02.488323Z",
     "shell.execute_reply": "2021-05-06T19:46:02.487863Z"
    },
    "scrolled": true
   },
   "outputs": [
    {
     "data": {
      "image/png": "[encoded data removed]",
      "text/plain": [
       "<Figure size 432x288 with 1 Axes>"
      ]
     },
     "metadata": {
      "needs_background": "light"
     },
     "output_type": "display_data"
    }
   ],
   "source": [
    "fig, ax = plt.subplots(1,1)\n",
    "ax.plot(sizes, t_numeric, 'o-', label='Inserting row-by-row')\n",
    "ax.plot(sizes, t_numeric_add, 'o-', label='Inserting row-by-row: add_result only')\n",
    "ax.plot(sizes, t_array, 'd-', label='Inserting as binary blob')\n",
    "ax.plot(sizes, t_array_add, 'd-', label='Inserting as binary blob: add_result only')\n",
    "ax.legend()\n",
    "ax.set_xlabel('Array length')\n",
    "ax.set_ylabel('Time (s)')\n",
    "fig.tight_layout()"
   ]
  },
  {
   "cell_type": "markdown",
   "metadata": {},
   "source": [
    "However, as we increase the length of the experiment, as seen here by repeating the insertion 100 times, we see a big difference between inserting values of the data row-by-row and inserting it as a binary blob."
   ]
  },
  {
   "cell_type": "markdown",
   "metadata": {},
   "source": [
    "## Loading the data "
   ]
  },
  {
   "cell_type": "code",
   "execution_count": 9,
   "metadata": {
    "execution": {
     "iopub.execute_input": "2021-05-06T19:46:02.492773Z",
     "iopub.status.busy": "2021-05-06T19:46:02.491813Z",
     "iopub.status.idle": "2021-05-06T19:46:02.493417Z",
     "shell.execute_reply": "2021-05-06T19:46:02.493844Z"
    }
   },
   "outputs": [],
   "source": [
    "from qcodes.dataset.data_set import load_by_id"
   ]
  },
  {
   "cell_type": "markdown",
   "metadata": {},
   "source": [
    "As usual you can load the data by using the ``load_by_id`` function but you will notice that the different storage methods\n",
    "are reflected in shape of the data as it is retrieved. "
   ]
  },
  {
   "cell_type": "code",
   "execution_count": 10,
   "metadata": {
    "execution": {
     "iopub.execute_input": "2021-05-06T19:46:02.497813Z",
     "iopub.status.busy": "2021-05-06T19:46:02.496847Z",
     "iopub.status.idle": "2021-05-06T19:46:02.498426Z",
     "shell.execute_reply": "2021-05-06T19:46:02.498852Z"
    }
   },
   "outputs": [],
   "source": [
    "run_id_n = t_numeric_run_ids[0]\n",
    "run_id_a = t_array_run_ids[0]"
   ]
  },
  {
   "cell_type": "code",
   "execution_count": 11,
   "metadata": {
    "execution": {
     "iopub.execute_input": "2021-05-06T19:46:02.501756Z",
     "iopub.status.busy": "2021-05-06T19:46:02.501281Z",
     "iopub.status.idle": "2021-05-06T19:46:02.509976Z",
     "shell.execute_reply": "2021-05-06T19:46:02.509557Z"
    },
    "scrolled": true
   },
   "outputs": [
    {
     "data": {
      "text/plain": [
       "{'x1': {'x1': array([4.36620020e-01, 4.36620020e-01, 5.25040711e-01, 5.25040711e-01,\n",
       "         5.66088950e-01, 5.66088950e-01, 3.96645511e-01, 3.96645511e-01,\n",
       "         2.21717195e-01, 2.21717195e-01, 3.77439239e-01, 3.77439239e-01,\n",
       "         9.00685753e-01, 9.00685753e-01, 4.29557605e-01, 4.29557605e-01,\n",
       "         3.84336646e-01, 3.84336646e-01, 4.35172071e-01, 4.35172071e-01,\n",
       "         5.85709708e-01, 5.85709708e-01, 3.49227609e-01, 3.49227609e-01,\n",
       "         3.74971567e-01, 3.74971567e-01, 1.55956338e-01, 1.55956338e-01,\n",
       "         6.91661418e-01, 6.91661418e-01, 9.53483364e-01, 9.53483364e-01,\n",
       "         5.65978940e-01, 5.65978940e-01, 2.38275121e-01, 2.38275121e-01,\n",
       "         2.95148331e-01, 2.95148331e-01, 2.87520857e-01, 2.87520857e-01,\n",
       "         9.38576050e-01, 9.38576050e-01, 1.09886390e-01, 1.09886390e-01,\n",
       "         9.67637511e-01, 9.67637511e-01, 2.23103386e-01, 2.23103386e-01,\n",
       "         2.42009231e-01, 2.42009231e-01, 2.01725950e-01, 2.01725950e-01,\n",
       "         4.07278975e-01, 4.07278975e-01, 4.49538393e-01, 4.49538393e-01,\n",
       "         4.85404505e-01, 4.85404505e-01, 9.36057329e-01, 9.36057329e-01,\n",
       "         5.98820645e-01, 5.98820645e-01, 2.93642563e-01, 2.93642563e-01,\n",
       "         4.25065980e-01, 4.25065980e-01, 2.11637033e-01, 2.11637033e-01,\n",
       "         4.33404819e-01, 4.33404819e-01, 9.64863662e-01, 9.64863662e-01,\n",
       "         6.60478313e-01, 6.60478313e-01, 9.87003058e-01, 9.87003058e-01,\n",
       "         6.31971769e-01, 6.31971769e-01, 1.68806101e-01, 1.68806101e-01,\n",
       "         7.75773724e-01, 7.75773724e-01, 7.18821791e-01, 7.18821791e-01,\n",
       "         2.75485738e-01, 2.75485738e-01, 8.84577279e-01, 8.84577279e-01,\n",
       "         5.27434203e-01, 5.27434203e-01, 3.71458378e-01, 3.71458378e-01,\n",
       "         7.95328287e-01, 7.95328287e-01, 1.51481916e-01, 1.51481916e-01,\n",
       "         6.60362776e-01, 6.60362776e-01, 8.03301697e-01, 8.03301697e-01,\n",
       "         4.63128295e-01, 4.63128295e-01, 8.45455718e-01, 8.45455718e-01,\n",
       "         3.73949675e-01, 3.73949675e-01, 8.00386134e-01, 8.00386134e-01,\n",
       "         9.98409460e-01, 9.98409460e-01, 5.69977937e-01, 5.69977937e-01,\n",
       "         8.56442743e-01, 8.56442743e-01, 4.41169684e-01, 4.41169684e-01,\n",
       "         1.17203448e-01, 1.17203448e-01, 6.69313187e-04, 6.69313187e-04,\n",
       "         2.18572156e-01, 2.18572156e-01, 1.58895355e-01, 1.58895355e-01,\n",
       "         3.12981227e-01, 3.12981227e-01, 5.74742689e-01, 5.74742689e-01,\n",
       "         4.63036579e-01, 4.63036579e-01, 2.21385025e-01, 2.21385025e-01,\n",
       "         1.93667843e-01, 1.93667843e-01, 8.38512533e-01, 8.38512533e-01,\n",
       "         6.07959325e-01, 6.07959325e-01, 9.22264998e-01, 9.22264998e-01,\n",
       "         3.42992001e-01, 3.42992001e-01, 6.43356612e-01, 6.43356612e-01,\n",
       "         9.66678679e-01, 9.66678679e-01, 5.78321407e-02, 5.78321407e-02,\n",
       "         8.68839455e-01, 8.68839455e-01, 3.46763060e-01, 3.46763060e-01,\n",
       "         6.88293121e-01, 6.88293121e-01, 9.49950085e-02, 9.49950085e-02,\n",
       "         1.90650454e-01, 1.90650454e-01, 6.69934709e-01, 6.69934709e-01,\n",
       "         3.06263561e-01, 3.06263561e-01, 1.05995617e-01, 1.05995617e-01,\n",
       "         8.22256972e-01, 8.22256972e-01, 2.93433139e-01, 2.93433139e-01,\n",
       "         6.89061540e-01, 6.89061540e-01, 3.79587600e-01, 3.79587600e-01,\n",
       "         8.80831100e-01, 8.80831100e-01, 4.10636416e-01, 4.10636416e-01,\n",
       "         8.81246688e-02, 8.81246688e-02, 9.21717578e-01, 9.21717578e-01,\n",
       "         8.67355785e-01, 8.67355785e-01, 1.99190317e-01, 1.99190317e-01,\n",
       "         3.74756445e-01, 3.74756445e-01, 2.45803160e-01, 2.45803160e-01,\n",
       "         9.87311559e-01, 9.87311559e-01, 8.01876948e-01, 8.01876948e-01,\n",
       "         4.14512796e-01, 4.14512796e-01, 9.82969208e-01, 9.82969208e-01,\n",
       "         5.00320335e-01, 5.00320335e-01, 4.07795069e-01, 4.07795069e-01])}}"
      ]
     },
     "execution_count": 1,
     "metadata": {},
     "output_type": "execute_result"
    }
   ],
   "source": [
    "ds = load_by_id(run_id_n)\n",
    "ds.get_parameter_data('x1')"
   ]
  },
  {
   "cell_type": "markdown",
   "metadata": {},
   "source": [
    "And a dataset stored as binary arrays"
   ]
  },
  {
   "cell_type": "code",
   "execution_count": 12,
   "metadata": {
    "execution": {
     "iopub.execute_input": "2021-05-06T19:46:02.512889Z",
     "iopub.status.busy": "2021-05-06T19:46:02.512421Z",
     "iopub.status.idle": "2021-05-06T19:46:02.561845Z",
     "shell.execute_reply": "2021-05-06T19:46:02.562312Z"
    },
    "scrolled": true
   },
   "outputs": [
    {
     "data": {
      "text/plain": [
       "{'x1': {'x1': array([[0.85975796],\n",
       "         [0.85975796],\n",
       "         [0.23708763],\n",
       "         [0.23708763],\n",
       "         [0.6660058 ],\n",
       "         [0.6660058 ],\n",
       "         [0.09186952],\n",
       "         [0.09186952],\n",
       "         [0.69148567],\n",
       "         [0.69148567],\n",
       "         [0.45778438],\n",
       "         [0.45778438],\n",
       "         [0.6580661 ],\n",
       "         [0.6580661 ],\n",
       "         [0.08328542],\n",
       "         [0.08328542],\n",
       "         [0.47436093],\n",
       "         [0.47436093],\n",
       "         [0.23992101],\n",
       "         [0.23992101],\n",
       "         [0.92738784],\n",
       "         [0.92738784],\n",
       "         [0.02675582],\n",
       "         [0.02675582],\n",
       "         [0.63452423],\n",
       "         [0.63452423],\n",
       "         [0.46330122],\n",
       "         [0.46330122],\n",
       "         [0.1985191 ],\n",
       "         [0.1985191 ],\n",
       "         [0.74785566],\n",
       "         [0.74785566],\n",
       "         [0.49039389],\n",
       "         [0.49039389],\n",
       "         [0.41708436],\n",
       "         [0.41708436],\n",
       "         [0.92780558],\n",
       "         [0.92780558],\n",
       "         [0.08660074],\n",
       "         [0.08660074],\n",
       "         [0.18972167],\n",
       "         [0.18972167],\n",
       "         [0.84627689],\n",
       "         [0.84627689],\n",
       "         [0.51786403],\n",
       "         [0.51786403],\n",
       "         [0.51318353],\n",
       "         [0.51318353],\n",
       "         [0.67943449],\n",
       "         [0.67943449],\n",
       "         [0.46935278],\n",
       "         [0.46935278],\n",
       "         [0.58577848],\n",
       "         [0.58577848],\n",
       "         [0.93219194],\n",
       "         [0.93219194],\n",
       "         [0.75195923],\n",
       "         [0.75195923],\n",
       "         [0.8728942 ],\n",
       "         [0.8728942 ],\n",
       "         [0.04894484],\n",
       "         [0.04894484],\n",
       "         [0.51691632],\n",
       "         [0.51691632],\n",
       "         [0.26105092],\n",
       "         [0.26105092],\n",
       "         [0.68686198],\n",
       "         [0.68686198],\n",
       "         [0.22667053],\n",
       "         [0.22667053],\n",
       "         [0.49031858],\n",
       "         [0.49031858],\n",
       "         [0.29463766],\n",
       "         [0.29463766],\n",
       "         [0.24063937],\n",
       "         [0.24063937],\n",
       "         [0.5036548 ],\n",
       "         [0.5036548 ],\n",
       "         [0.54074113],\n",
       "         [0.54074113],\n",
       "         [0.76122494],\n",
       "         [0.76122494],\n",
       "         [0.57899601],\n",
       "         [0.57899601],\n",
       "         [0.97834295],\n",
       "         [0.97834295],\n",
       "         [0.05410403],\n",
       "         [0.05410403],\n",
       "         [0.18417262],\n",
       "         [0.18417262],\n",
       "         [0.22915419],\n",
       "         [0.22915419],\n",
       "         [0.60865976],\n",
       "         [0.60865976],\n",
       "         [0.91854801],\n",
       "         [0.91854801],\n",
       "         [0.62332483],\n",
       "         [0.62332483],\n",
       "         [0.34406663],\n",
       "         [0.34406663],\n",
       "         [0.83630252],\n",
       "         [0.83630252],\n",
       "         [0.99958578],\n",
       "         [0.99958578],\n",
       "         [0.26173524],\n",
       "         [0.26173524],\n",
       "         [0.8496748 ],\n",
       "         [0.8496748 ],\n",
       "         [0.66355197],\n",
       "         [0.66355197],\n",
       "         [0.92240607],\n",
       "         [0.92240607],\n",
       "         [0.8574495 ],\n",
       "         [0.8574495 ],\n",
       "         [0.94030716],\n",
       "         [0.94030716],\n",
       "         [0.34631752],\n",
       "         [0.34631752],\n",
       "         [0.52538974],\n",
       "         [0.52538974],\n",
       "         [0.93300458],\n",
       "         [0.93300458],\n",
       "         [0.63399684],\n",
       "         [0.63399684],\n",
       "         [0.20131192],\n",
       "         [0.20131192],\n",
       "         [0.37400227],\n",
       "         [0.37400227],\n",
       "         [0.04804985],\n",
       "         [0.04804985],\n",
       "         [0.65096201],\n",
       "         [0.65096201],\n",
       "         [0.39257153],\n",
       "         [0.39257153],\n",
       "         [0.44088848],\n",
       "         [0.44088848],\n",
       "         [0.54220813],\n",
       "         [0.54220813],\n",
       "         [0.7604829 ],\n",
       "         [0.7604829 ],\n",
       "         [0.98709408],\n",
       "         [0.98709408],\n",
       "         [0.86102641],\n",
       "         [0.86102641],\n",
       "         [0.35836991],\n",
       "         [0.35836991],\n",
       "         [0.32672422],\n",
       "         [0.32672422],\n",
       "         [0.62908873],\n",
       "         [0.62908873],\n",
       "         [0.81357087],\n",
       "         [0.81357087],\n",
       "         [0.56517265],\n",
       "         [0.56517265],\n",
       "         [0.28184003],\n",
       "         [0.28184003],\n",
       "         [0.36445316],\n",
       "         [0.36445316],\n",
       "         [0.35155782],\n",
       "         [0.35155782],\n",
       "         [0.85338717],\n",
       "         [0.85338717],\n",
       "         [0.45982751],\n",
       "         [0.45982751],\n",
       "         [0.68689604],\n",
       "         [0.68689604],\n",
       "         [0.74736688],\n",
       "         [0.74736688],\n",
       "         [0.99383458],\n",
       "         [0.99383458],\n",
       "         [0.07772786],\n",
       "         [0.07772786],\n",
       "         [0.80143943],\n",
       "         [0.80143943],\n",
       "         [0.4260155 ],\n",
       "         [0.4260155 ],\n",
       "         [0.50707519],\n",
       "         [0.50707519],\n",
       "         [0.39540567],\n",
       "         [0.39540567],\n",
       "         [0.04824379],\n",
       "         [0.04824379],\n",
       "         [0.85496682],\n",
       "         [0.85496682],\n",
       "         [0.13668188],\n",
       "         [0.13668188],\n",
       "         [0.18012965],\n",
       "         [0.18012965],\n",
       "         [0.75521423],\n",
       "         [0.75521423],\n",
       "         [0.62841831],\n",
       "         [0.62841831],\n",
       "         [0.65624398],\n",
       "         [0.65624398],\n",
       "         [0.18318731],\n",
       "         [0.18318731],\n",
       "         [0.03782278],\n",
       "         [0.03782278],\n",
       "         [0.1585324 ],\n",
       "         [0.1585324 ]])}}"
      ]
     },
     "execution_count": 1,
     "metadata": {},
     "output_type": "execute_result"
    }
   ],
   "source": [
    "ds = load_by_id(run_id_a)\n",
    "ds.get_parameter_data('x1')"
   ]
  },
  {
   "cell_type": "code",
   "execution_count": null,
   "metadata": {},
   "outputs": [],
   "source": []
  }
 ],
 "metadata": {
  "kernelspec": {
   "display_name": "Python 3",
   "language": "python",
   "name": "python3"
  },
  "language_info": {
   "codemirror_mode": {
    "name": "ipython",
    "version": 3
   },
   "file_extension": ".py",
   "mimetype": "text/x-python",
   "name": "python",
   "nbconvert_exporter": "python",
   "pygments_lexer": "ipython3",
   "version": "3.7.10"
  },
  "nbsphinx": {
   "timeout": 600
  },
  "toc": {
   "base_numbering": 1,
   "nav_menu": {},
   "number_sections": true,
   "sideBar": true,
   "skip_h1_title": false,
   "title_cell": "Table of Contents",
   "title_sidebar": "Contents",
   "toc_cell": false,
   "toc_position": {},
   "toc_section_display": true,
   "toc_window_display": false
  },
  "varInspector": {
   "cols": {
    "lenName": 16,
    "lenType": 16,
    "lenVar": 40
   },
   "kernels_config": {
    "python": {
     "delete_cmd_postfix": "",
     "delete_cmd_prefix": "del ",
     "library": "var_list.py",
     "varRefreshCmd": "print(var_dic_list())"
    },
    "r": {
     "delete_cmd_postfix": ") ",
     "delete_cmd_prefix": "rm(",
     "library": "var_list.r",
     "varRefreshCmd": "cat(var_dic_list()) "
    }
   },
   "types_to_exclude": [
    "module",
    "function",
    "builtin_function_or_method",
    "instance",
    "_Feature"
   ],
   "window_display": false
  }
 },
 "nbformat": 4,
 "nbformat_minor": 4
}
