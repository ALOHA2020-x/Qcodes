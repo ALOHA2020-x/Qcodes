{
 "cells": [
  {
   "cell_type": "markdown",
   "metadata": {},
   "source": [
    "# DataSet Performance\n",
    "\n",
    "This notebook shows the trade-off between inserting data into a database row-by-row and as binary blobs. Inserting the data row-by-row means that we have direct access to all the data and may perform queries directly on the values of the data. On the other hand, as we shall see, this is much slower than inserting the data directly as binary blobs."
   ]
  },
  {
   "cell_type": "markdown",
   "metadata": {},
   "source": [
    "First, we choose a new location for the database to ensure that we don't add a bunch of benchmarking data to the default one."
   ]
  },
  {
   "cell_type": "code",
   "execution_count": 1,
   "metadata": {
    "execution": {
     "iopub.execute_input": "2021-02-17T10:59:59.182996Z",
     "iopub.status.busy": "2021-02-17T10:59:59.182294Z",
     "iopub.status.idle": "2021-02-17T10:59:59.880671Z",
     "shell.execute_reply": "2021-02-17T10:59:59.881099Z"
    }
   },
   "outputs": [
    {
     "name": "stdout",
     "output_type": "stream",
     "text": [
      "Logging hadn't been started.\n",
      "Activating auto-logging. Current session state plus future input saved.\n",
      "Filename       : /home/runner/.qcodes/logs/command_history.log\n",
      "Mode           : append\n",
      "Output logging : True\n",
      "Raw input log  : False\n",
      "Timestamping   : True\n",
      "State          : active\n"
     ]
    },
    {
     "name": "stdout",
     "output_type": "stream",
     "text": [
      "Qcodes Logfile : /home/runner/.qcodes/logs/210217-4084-qcodes.log\n"
     ]
    }
   ],
   "source": [
    "import os\n",
    "cwd = os.getcwd()\n",
    "import qcodes as qc\n",
    "qc.config[\"core\"][\"db_location\"] = os.path.join(cwd, 'testing.db')\n"
   ]
  },
  {
   "cell_type": "code",
   "execution_count": 2,
   "metadata": {
    "execution": {
     "iopub.execute_input": "2021-02-17T10:59:59.886799Z",
     "iopub.status.busy": "2021-02-17T10:59:59.886051Z",
     "iopub.status.idle": "2021-02-17T11:00:00.053088Z",
     "shell.execute_reply": "2021-02-17T11:00:00.052065Z"
    }
   },
   "outputs": [],
   "source": [
    "%matplotlib inline\n",
    "import time\n",
    "import matplotlib.pyplot as plt\n",
    "import numpy as np\n",
    "\n",
    "import qcodes as qc\n",
    "from qcodes.instrument.parameter import ManualParameter\n",
    "from qcodes.dataset.experiment_container import (Experiment,\n",
    "                                                 load_last_experiment,\n",
    "                                                 new_experiment)\n",
    "from qcodes.dataset.sqlite.database import initialise_database\n",
    "from qcodes import load_or_create_experiment\n",
    "from qcodes.dataset.measurements import Measurement"
   ]
  },
  {
   "cell_type": "code",
   "execution_count": 3,
   "metadata": {
    "execution": {
     "iopub.execute_input": "2021-02-17T11:00:00.057427Z",
     "iopub.status.busy": "2021-02-17T11:00:00.056834Z",
     "iopub.status.idle": "2021-02-17T11:00:00.149760Z",
     "shell.execute_reply": "2021-02-17T11:00:00.149304Z"
    }
   },
   "outputs": [
    {
     "name": "stdout",
     "output_type": "stream",
     "text": [
      "\r",
      "0it [00:00, ?it/s]"
     ]
    },
    {
     "name": "stdout",
     "output_type": "stream",
     "text": [
      "\r",
      "Upgrading database; v0 -> v1: : 0it [00:00, ?it/s]"
     ]
    },
    {
     "name": "stdout",
     "output_type": "stream",
     "text": [
      "\r",
      "Upgrading database; v0 -> v1: : 0it [00:00, ?it/s]"
     ]
    },
    {
     "name": "stdout",
     "output_type": "stream",
     "text": [
      "\n",
      "\r",
      "  0%|          | 0/1 [00:00<?, ?it/s]"
     ]
    },
    {
     "name": "stdout",
     "output_type": "stream",
     "text": [
      "\r",
      "Upgrading database; v1 -> v2:   0%|          | 0/1 [00:00<?, ?it/s]"
     ]
    },
    {
     "name": "stdout",
     "output_type": "stream",
     "text": [
      "\r",
      "Upgrading database; v1 -> v2: 100%|██████████| 1/1 [00:00<00:00, 616.54it/s]"
     ]
    },
    {
     "name": "stdout",
     "output_type": "stream",
     "text": [
      "\n",
      "\r",
      "0it [00:00, ?it/s]"
     ]
    },
    {
     "name": "stdout",
     "output_type": "stream",
     "text": [
      "\r",
      "Upgrading database; v2 -> v3: : 0it [00:00, ?it/s]"
     ]
    },
    {
     "name": "stdout",
     "output_type": "stream",
     "text": [
      "\r",
      "Upgrading database; v2 -> v3: : 0it [00:00, ?it/s]"
     ]
    },
    {
     "name": "stdout",
     "output_type": "stream",
     "text": [
      "\n",
      "\r",
      "0it [00:00, ?it/s]"
     ]
    },
    {
     "name": "stdout",
     "output_type": "stream",
     "text": [
      "\r",
      "Upgrading database; v3 -> v4: : 0it [00:00, ?it/s]"
     ]
    },
    {
     "name": "stdout",
     "output_type": "stream",
     "text": [
      "\r",
      "Upgrading database; v3 -> v4: : 0it [00:00, ?it/s]"
     ]
    },
    {
     "name": "stdout",
     "output_type": "stream",
     "text": [
      "\n",
      "\r",
      "  0%|          | 0/1 [00:00<?, ?it/s]"
     ]
    },
    {
     "name": "stdout",
     "output_type": "stream",
     "text": [
      "\r",
      "Upgrading database; v4 -> v5:   0%|          | 0/1 [00:00<?, ?it/s]"
     ]
    },
    {
     "name": "stdout",
     "output_type": "stream",
     "text": [
      "\r",
      "Upgrading database; v4 -> v5: 100%|██████████| 1/1 [00:00<00:00, 1306.64it/s]"
     ]
    },
    {
     "name": "stdout",
     "output_type": "stream",
     "text": [
      "\n",
      "\r",
      "0it [00:00, ?it/s]"
     ]
    },
    {
     "name": "stdout",
     "output_type": "stream",
     "text": [
      "\r",
      "Upgrading database; v5 -> v6: : 0it [00:00, ?it/s]"
     ]
    },
    {
     "name": "stdout",
     "output_type": "stream",
     "text": [
      "\r",
      "Upgrading database; v5 -> v6: : 0it [00:00, ?it/s]"
     ]
    },
    {
     "name": "stdout",
     "output_type": "stream",
     "text": [
      "\n",
      "\r",
      "  0%|          | 0/1 [00:00<?, ?it/s]"
     ]
    },
    {
     "name": "stdout",
     "output_type": "stream",
     "text": [
      "\r",
      "Upgrading database; v6 -> v7:   0%|          | 0/1 [00:00<?, ?it/s]"
     ]
    },
    {
     "name": "stdout",
     "output_type": "stream",
     "text": [
      "\r",
      "Upgrading database; v6 -> v7: 100%|██████████| 1/1 [00:00<00:00, 523.90it/s]"
     ]
    },
    {
     "name": "stdout",
     "output_type": "stream",
     "text": [
      "\n",
      "\r",
      "  0%|          | 0/1 [00:00<?, ?it/s]"
     ]
    },
    {
     "name": "stdout",
     "output_type": "stream",
     "text": [
      "\r",
      "Upgrading database; v7 -> v8:   0%|          | 0/1 [00:00<?, ?it/s]"
     ]
    },
    {
     "name": "stdout",
     "output_type": "stream",
     "text": [
      "\r",
      "Upgrading database; v7 -> v8: 100%|██████████| 1/1 [00:00<00:00, 628.93it/s]"
     ]
    },
    {
     "name": "stdout",
     "output_type": "stream",
     "text": [
      "\n",
      "\r",
      "  0%|          | 0/1 [00:00<?, ?it/s]"
     ]
    },
    {
     "name": "stdout",
     "output_type": "stream",
     "text": [
      "\r",
      "Upgrading database; v8 -> v9:   0%|          | 0/1 [00:00<?, ?it/s]"
     ]
    },
    {
     "name": "stdout",
     "output_type": "stream",
     "text": [
      "\r",
      "Upgrading database; v8 -> v9: 100%|██████████| 1/1 [00:00<00:00, 1422.28it/s]"
     ]
    },
    {
     "name": "stdout",
     "output_type": "stream",
     "text": [
      "\n"
     ]
    }
   ],
   "source": [
    "initialise_database()\n",
    "exp = load_or_create_experiment(experiment_name='tutorial_exp', sample_name=\"no sample\")"
   ]
  },
  {
   "cell_type": "markdown",
   "metadata": {},
   "source": [
    "Here, we define a simple function to benchmark the time it takes to insert n points with either numeric or array data type.\n",
    "We will compare both the time used to call ``add_result`` and the time used for the full measurement."
   ]
  },
  {
   "cell_type": "code",
   "execution_count": 4,
   "metadata": {
    "execution": {
     "iopub.execute_input": "2021-02-17T11:00:00.156742Z",
     "iopub.status.busy": "2021-02-17T11:00:00.155296Z",
     "iopub.status.idle": "2021-02-17T11:00:00.158948Z",
     "shell.execute_reply": "2021-02-17T11:00:00.158475Z"
    }
   },
   "outputs": [],
   "source": [
    "def insert_data(paramtype, npoints, nreps=1):\n",
    "\n",
    "    meas = Measurement(exp=exp)\n",
    "\n",
    "    x1 = ManualParameter('x1')\n",
    "    x2 = ManualParameter('x2')\n",
    "    x3 = ManualParameter('x3')\n",
    "    y1 = ManualParameter('y1')\n",
    "    y2 = ManualParameter('y2')\n",
    "\n",
    "    meas.register_parameter(x1, paramtype=paramtype)\n",
    "    meas.register_parameter(x2, paramtype=paramtype)\n",
    "    meas.register_parameter(x3, paramtype=paramtype)\n",
    "    meas.register_parameter(y1, setpoints=[x1, x2, x3],\n",
    "                            paramtype=paramtype)\n",
    "    meas.register_parameter(y2, setpoints=[x1, x2, x3],\n",
    "                            paramtype=paramtype)\n",
    "    start = time.perf_counter()\n",
    "    with meas.run() as datasaver:\n",
    "        start_adding = time.perf_counter()\n",
    "        for i in range(nreps):\n",
    "            datasaver.add_result((x1, np.random.rand(npoints)),\n",
    "                                 (x2, np.random.rand(npoints)),\n",
    "                                 (x3, np.random.rand(npoints)),\n",
    "                                 (y1, np.random.rand(npoints)),\n",
    "                                 (y2, np.random.rand(npoints)))\n",
    "        stop_adding = time.perf_counter()\n",
    "        run_id = datasaver.run_id\n",
    "    stop = time.perf_counter()\n",
    "    tot_time = stop - start\n",
    "    add_time = stop_adding - start_adding\n",
    "    return tot_time, add_time, run_id"
   ]
  },
  {
   "cell_type": "markdown",
   "metadata": {},
   "source": [
    "## Comparison between numeric/array data and binary blob"
   ]
  },
  {
   "cell_type": "markdown",
   "metadata": {},
   "source": [
    "### Case1: Short experiment time"
   ]
  },
  {
   "cell_type": "code",
   "execution_count": 5,
   "metadata": {
    "execution": {
     "iopub.execute_input": "2021-02-17T11:00:00.164847Z",
     "iopub.status.busy": "2021-02-17T11:00:00.164279Z",
     "iopub.status.idle": "2021-02-17T11:00:00.835471Z",
     "shell.execute_reply": "2021-02-17T11:00:00.834800Z"
    }
   },
   "outputs": [
    {
     "name": "stdout",
     "output_type": "stream",
     "text": [
      "Starting experimental run with id: 1. \n",
      "Starting experimental run with id: 2. \n",
      "Starting experimental run with id: 3. \n",
      "Starting experimental run with id: 4. \n",
      "Starting experimental run with id: 5. \n",
      "Starting experimental run with id: 6. \n"
     ]
    },
    {
     "name": "stdout",
     "output_type": "stream",
     "text": [
      "Starting experimental run with id: 7. \n"
     ]
    },
    {
     "name": "stdout",
     "output_type": "stream",
     "text": [
      "Starting experimental run with id: 8. \n",
      "Starting experimental run with id: 9. \n",
      "Starting experimental run with id: 10. \n",
      "Starting experimental run with id: 11. \n"
     ]
    },
    {
     "name": "stdout",
     "output_type": "stream",
     "text": [
      "Starting experimental run with id: 12. \n",
      "Starting experimental run with id: 13. \n"
     ]
    },
    {
     "name": "stdout",
     "output_type": "stream",
     "text": [
      "Starting experimental run with id: 14. \n"
     ]
    }
   ],
   "source": [
    "sizes = [1,500,1000,2000,3000,4000,5000]\n",
    "t_numeric = []\n",
    "t_numeric_add = []\n",
    "t_array = []\n",
    "t_array_add = []\n",
    "for size in sizes:\n",
    "    tn, tna, run_id_n =  insert_data('numeric', size)\n",
    "    t_numeric.append(tn)\n",
    "    t_numeric_add.append(tna)\n",
    "\n",
    "    ta, taa, run_id_a =  insert_data('array', size)\n",
    "    t_array.append(ta)\n",
    "    t_array_add.append(taa)"
   ]
  },
  {
   "cell_type": "code",
   "execution_count": 6,
   "metadata": {
    "execution": {
     "iopub.execute_input": "2021-02-17T11:00:00.868306Z",
     "iopub.status.busy": "2021-02-17T11:00:00.850360Z",
     "iopub.status.idle": "2021-02-17T11:00:01.012284Z",
     "shell.execute_reply": "2021-02-17T11:00:01.012955Z"
    }
   },
   "outputs": [
    {
     "data": {
      "image/png": "[encoded data removed]",
      "text/plain": [
       "<Figure size 432x288 with 1 Axes>"
      ]
     },
     "metadata": {
      "needs_background": "light"
     },
     "output_type": "display_data"
    }
   ],
   "source": [
    "fig, ax = plt.subplots(1,1)\n",
    "ax.plot(sizes, t_numeric, 'o-', label='Inserting row-by-row')\n",
    "ax.plot(sizes, t_numeric_add, 'o-', label='Inserting row-by-row: add_result only')\n",
    "ax.plot(sizes, t_array, 'd-', label='Inserting as binary blob')\n",
    "ax.plot(sizes, t_array_add, 'd-', label='Inserting as binary blob: add_result only')\n",
    "ax.legend()\n",
    "ax.set_xlabel('Array length')\n",
    "ax.set_ylabel('Time (s)')\n",
    "fig.tight_layout()"
   ]
  },
  {
   "cell_type": "markdown",
   "metadata": {},
   "source": [
    "As shown in the latter figure, the time to setup and and close the experiment is approximately 0.4 sec. In case of small array sizes, the difference between inserting values of data as arrays and inserting them row-by-row is relatively unimportant. At larger array sizes, i.e. above 10000 points, the cost of writing data as individual datapoints starts to become important.\n"
   ]
  },
  {
   "cell_type": "markdown",
   "metadata": {},
   "source": [
    "### Case2: Long experiment time "
   ]
  },
  {
   "cell_type": "code",
   "execution_count": 7,
   "metadata": {
    "execution": {
     "iopub.execute_input": "2021-02-17T11:00:01.016076Z",
     "iopub.status.busy": "2021-02-17T11:00:01.015171Z",
     "iopub.status.idle": "2021-02-17T11:00:49.088283Z",
     "shell.execute_reply": "2021-02-17T11:00:49.087403Z"
    }
   },
   "outputs": [
    {
     "name": "stdout",
     "output_type": "stream",
     "text": [
      "Starting experimental run with id: 15. \n",
      "Starting experimental run with id: 16. \n",
      "Starting experimental run with id: 17. \n"
     ]
    },
    {
     "name": "stdout",
     "output_type": "stream",
     "text": [
      "Starting experimental run with id: 18. \n",
      "Starting experimental run with id: 19. \n"
     ]
    },
    {
     "name": "stdout",
     "output_type": "stream",
     "text": [
      "Starting experimental run with id: 20. \n"
     ]
    },
    {
     "name": "stdout",
     "output_type": "stream",
     "text": [
      "Starting experimental run with id: 21. \n"
     ]
    },
    {
     "name": "stdout",
     "output_type": "stream",
     "text": [
      "Starting experimental run with id: 22. \n"
     ]
    },
    {
     "name": "stdout",
     "output_type": "stream",
     "text": [
      "Starting experimental run with id: 23. \n"
     ]
    },
    {
     "name": "stdout",
     "output_type": "stream",
     "text": [
      "Starting experimental run with id: 24. \n"
     ]
    },
    {
     "name": "stdout",
     "output_type": "stream",
     "text": [
      "Starting experimental run with id: 25. \n"
     ]
    },
    {
     "name": "stdout",
     "output_type": "stream",
     "text": [
      "Starting experimental run with id: 26. \n"
     ]
    },
    {
     "name": "stdout",
     "output_type": "stream",
     "text": [
      "Starting experimental run with id: 27. \n"
     ]
    },
    {
     "name": "stdout",
     "output_type": "stream",
     "text": [
      "Starting experimental run with id: 28. \n"
     ]
    }
   ],
   "source": [
    "sizes = [1,500,1000,2000,3000,4000,5000]\n",
    "nreps = 100\n",
    "t_numeric = []\n",
    "t_numeric_add = []\n",
    "t_numeric_run_ids = []\n",
    "t_array = []\n",
    "t_array_add = []\n",
    "t_array_run_ids = []\n",
    "for size in sizes:\n",
    "    tn, tna, run_id_n =  insert_data('numeric', size, nreps=nreps)\n",
    "    t_numeric.append(tn)\n",
    "    t_numeric_add.append(tna)\n",
    "    t_numeric_run_ids.append(run_id_n)\n",
    "\n",
    "    ta, taa, run_id_a =  insert_data('array', size, nreps=nreps)\n",
    "    t_array.append(ta)\n",
    "    t_array_add.append(taa)\n",
    "    t_array_run_ids.append(run_id_a)"
   ]
  },
  {
   "cell_type": "code",
   "execution_count": 8,
   "metadata": {
    "execution": {
     "iopub.execute_input": "2021-02-17T11:00:49.124275Z",
     "iopub.status.busy": "2021-02-17T11:00:49.112231Z",
     "iopub.status.idle": "2021-02-17T11:00:49.271258Z",
     "shell.execute_reply": "2021-02-17T11:00:49.271964Z"
    },
    "scrolled": true
   },
   "outputs": [
    {
     "data": {
      "image/png": "[encoded data removed]",
      "text/plain": [
       "<Figure size 432x288 with 1 Axes>"
      ]
     },
     "metadata": {
      "needs_background": "light"
     },
     "output_type": "display_data"
    }
   ],
   "source": [
    "fig, ax = plt.subplots(1,1)\n",
    "ax.plot(sizes, t_numeric, 'o-', label='Inserting row-by-row')\n",
    "ax.plot(sizes, t_numeric_add, 'o-', label='Inserting row-by-row: add_result only')\n",
    "ax.plot(sizes, t_array, 'd-', label='Inserting as binary blob')\n",
    "ax.plot(sizes, t_array_add, 'd-', label='Inserting as binary blob: add_result only')\n",
    "ax.legend()\n",
    "ax.set_xlabel('Array length')\n",
    "ax.set_ylabel('Time (s)')\n",
    "fig.tight_layout()"
   ]
  },
  {
   "cell_type": "markdown",
   "metadata": {},
   "source": [
    "However, as we increase the length of the experiment, as seen here by repeating the insertion 100 times, we see a big difference between inserting values of the data row-by-row and inserting it as a binary blob."
   ]
  },
  {
   "cell_type": "markdown",
   "metadata": {},
   "source": [
    "## Loading the data "
   ]
  },
  {
   "cell_type": "code",
   "execution_count": 9,
   "metadata": {
    "execution": {
     "iopub.execute_input": "2021-02-17T11:00:49.275148Z",
     "iopub.status.busy": "2021-02-17T11:00:49.274202Z",
     "iopub.status.idle": "2021-02-17T11:00:49.278814Z",
     "shell.execute_reply": "2021-02-17T11:00:49.279550Z"
    }
   },
   "outputs": [],
   "source": [
    "from qcodes.dataset.data_set import load_by_id\n",
    "from qcodes.dataset.data_export import get_data_by_id"
   ]
  },
  {
   "cell_type": "markdown",
   "metadata": {},
   "source": [
    "As usual you can load the data by using the ``load_by_id`` function but you will notice that the different storage methods\n",
    "are reflected in shape of the data as it is retrieved. "
   ]
  },
  {
   "cell_type": "code",
   "execution_count": 10,
   "metadata": {
    "execution": {
     "iopub.execute_input": "2021-02-17T11:00:49.283031Z",
     "iopub.status.busy": "2021-02-17T11:00:49.281778Z",
     "iopub.status.idle": "2021-02-17T11:00:49.286871Z",
     "shell.execute_reply": "2021-02-17T11:00:49.286456Z"
    }
   },
   "outputs": [],
   "source": [
    "run_id_n = t_numeric_run_ids[0]\n",
    "run_id_a = t_array_run_ids[0]"
   ]
  },
  {
   "cell_type": "code",
   "execution_count": 11,
   "metadata": {
    "execution": {
     "iopub.execute_input": "2021-02-17T11:00:49.290164Z",
     "iopub.status.busy": "2021-02-17T11:00:49.289667Z",
     "iopub.status.idle": "2021-02-17T11:00:49.298150Z",
     "shell.execute_reply": "2021-02-17T11:00:49.298592Z"
    },
    "scrolled": true
   },
   "outputs": [
    {
     "data": {
      "text/plain": [
       "{'x1': {'x1': array([0.44323931, 0.44323931, 0.59945358, 0.59945358, 0.97723079,\n",
       "         0.97723079, 0.53421528, 0.53421528, 0.49785264, 0.49785264,\n",
       "         0.95663311, 0.95663311, 0.72317735, 0.72317735, 0.29643579,\n",
       "         0.29643579, 0.53750777, 0.53750777, 0.49405634, 0.49405634,\n",
       "         0.67032175, 0.67032175, 0.99637757, 0.99637757, 0.32712538,\n",
       "         0.32712538, 0.19006944, 0.19006944, 0.49149294, 0.49149294,\n",
       "         0.52646825, 0.52646825, 0.62859841, 0.62859841, 0.64049125,\n",
       "         0.64049125, 0.290791  , 0.290791  , 0.16306574, 0.16306574,\n",
       "         0.6988272 , 0.6988272 , 0.89347112, 0.89347112, 0.60869561,\n",
       "         0.60869561, 0.07535946, 0.07535946, 0.3405082 , 0.3405082 ,\n",
       "         0.9807426 , 0.9807426 , 0.60671095, 0.60671095, 0.57330337,\n",
       "         0.57330337, 0.37924715, 0.37924715, 0.87706887, 0.87706887,\n",
       "         0.79513063, 0.79513063, 0.97330966, 0.97330966, 0.42161975,\n",
       "         0.42161975, 0.50368272, 0.50368272, 0.40779358, 0.40779358,\n",
       "         0.71127239, 0.71127239, 0.25384714, 0.25384714, 0.5339821 ,\n",
       "         0.5339821 , 0.64428626, 0.64428626, 0.11548941, 0.11548941,\n",
       "         0.20387289, 0.20387289, 0.28280593, 0.28280593, 0.97664171,\n",
       "         0.97664171, 0.95495116, 0.95495116, 0.94429397, 0.94429397,\n",
       "         0.60593295, 0.60593295, 0.73764067, 0.73764067, 0.0685313 ,\n",
       "         0.0685313 , 0.47373114, 0.47373114, 0.79651596, 0.79651596,\n",
       "         0.90403714, 0.90403714, 0.41095656, 0.41095656, 0.08407714,\n",
       "         0.08407714, 0.37245519, 0.37245519, 0.24812901, 0.24812901,\n",
       "         0.72287714, 0.72287714, 0.31258606, 0.31258606, 0.18231297,\n",
       "         0.18231297, 0.20160994, 0.20160994, 0.35570271, 0.35570271,\n",
       "         0.69214883, 0.69214883, 0.15505417, 0.15505417, 0.03988986,\n",
       "         0.03988986, 0.16615774, 0.16615774, 0.72671919, 0.72671919,\n",
       "         0.26524935, 0.26524935, 0.73229619, 0.73229619, 0.9192403 ,\n",
       "         0.9192403 , 0.84000872, 0.84000872, 0.40249779, 0.40249779,\n",
       "         0.48679234, 0.48679234, 0.64536499, 0.64536499, 0.65169451,\n",
       "         0.65169451, 0.83056707, 0.83056707, 0.33616351, 0.33616351,\n",
       "         0.34880826, 0.34880826, 0.39988688, 0.39988688, 0.25252487,\n",
       "         0.25252487, 0.89013554, 0.89013554, 0.865926  , 0.865926  ,\n",
       "         0.0976649 , 0.0976649 , 0.64824457, 0.64824457, 0.32845396,\n",
       "         0.32845396, 0.76796715, 0.76796715, 0.17336063, 0.17336063,\n",
       "         0.69772888, 0.69772888, 0.7158238 , 0.7158238 , 0.40989689,\n",
       "         0.40989689, 0.79453357, 0.79453357, 0.82688038, 0.82688038,\n",
       "         0.30148543, 0.30148543, 0.48495352, 0.48495352, 0.94507254,\n",
       "         0.94507254, 0.59630656, 0.59630656, 0.15408932, 0.15408932,\n",
       "         0.16807013, 0.16807013, 0.58009612, 0.58009612, 0.35794138,\n",
       "         0.35794138, 0.28667913, 0.28667913, 0.76703387, 0.76703387])}}"
      ]
     },
     "execution_count": 1,
     "metadata": {},
     "output_type": "execute_result"
    }
   ],
   "source": [
    "ds = load_by_id(run_id_n)\n",
    "ds.get_parameter_data('x1')"
   ]
  },
  {
   "cell_type": "markdown",
   "metadata": {},
   "source": [
    "And a dataset stored as binary arrays"
   ]
  },
  {
   "cell_type": "code",
   "execution_count": 12,
   "metadata": {
    "execution": {
     "iopub.execute_input": "2021-02-17T11:00:49.301649Z",
     "iopub.status.busy": "2021-02-17T11:00:49.301190Z",
     "iopub.status.idle": "2021-02-17T11:00:49.352129Z",
     "shell.execute_reply": "2021-02-17T11:00:49.352959Z"
    },
    "scrolled": true
   },
   "outputs": [
    {
     "data": {
      "text/plain": [
       "{'x1': {'x1': array([[0.30647982],\n",
       "         [0.30647982],\n",
       "         [0.7032427 ],\n",
       "         [0.7032427 ],\n",
       "         [0.50222267],\n",
       "         [0.50222267],\n",
       "         [0.70671944],\n",
       "         [0.70671944],\n",
       "         [0.22375091],\n",
       "         [0.22375091],\n",
       "         [0.35916054],\n",
       "         [0.35916054],\n",
       "         [0.18304663],\n",
       "         [0.18304663],\n",
       "         [0.56943373],\n",
       "         [0.56943373],\n",
       "         [0.4256036 ],\n",
       "         [0.4256036 ],\n",
       "         [0.09202913],\n",
       "         [0.09202913],\n",
       "         [0.60873226],\n",
       "         [0.60873226],\n",
       "         [0.04979035],\n",
       "         [0.04979035],\n",
       "         [0.40251374],\n",
       "         [0.40251374],\n",
       "         [0.39205221],\n",
       "         [0.39205221],\n",
       "         [0.15201317],\n",
       "         [0.15201317],\n",
       "         [0.55294712],\n",
       "         [0.55294712],\n",
       "         [0.30355162],\n",
       "         [0.30355162],\n",
       "         [0.08854512],\n",
       "         [0.08854512],\n",
       "         [0.77882798],\n",
       "         [0.77882798],\n",
       "         [0.41540037],\n",
       "         [0.41540037],\n",
       "         [0.27663664],\n",
       "         [0.27663664],\n",
       "         [0.2462497 ],\n",
       "         [0.2462497 ],\n",
       "         [0.69683143],\n",
       "         [0.69683143],\n",
       "         [0.71944526],\n",
       "         [0.71944526],\n",
       "         [0.16804576],\n",
       "         [0.16804576],\n",
       "         [0.38114894],\n",
       "         [0.38114894],\n",
       "         [0.94108797],\n",
       "         [0.94108797],\n",
       "         [0.89258062],\n",
       "         [0.89258062],\n",
       "         [0.12783703],\n",
       "         [0.12783703],\n",
       "         [0.80748889],\n",
       "         [0.80748889],\n",
       "         [0.42416997],\n",
       "         [0.42416997],\n",
       "         [0.05524294],\n",
       "         [0.05524294],\n",
       "         [0.69204177],\n",
       "         [0.69204177],\n",
       "         [0.85788828],\n",
       "         [0.85788828],\n",
       "         [0.9614858 ],\n",
       "         [0.9614858 ],\n",
       "         [0.08794737],\n",
       "         [0.08794737],\n",
       "         [0.46954006],\n",
       "         [0.46954006],\n",
       "         [0.77649195],\n",
       "         [0.77649195],\n",
       "         [0.02467456],\n",
       "         [0.02467456],\n",
       "         [0.13011407],\n",
       "         [0.13011407],\n",
       "         [0.4094571 ],\n",
       "         [0.4094571 ],\n",
       "         [0.48452524],\n",
       "         [0.48452524],\n",
       "         [0.86075422],\n",
       "         [0.86075422],\n",
       "         [0.04742386],\n",
       "         [0.04742386],\n",
       "         [0.26919223],\n",
       "         [0.26919223],\n",
       "         [0.12443771],\n",
       "         [0.12443771],\n",
       "         [0.51719069],\n",
       "         [0.51719069],\n",
       "         [0.87881674],\n",
       "         [0.87881674],\n",
       "         [0.48111135],\n",
       "         [0.48111135],\n",
       "         [0.10132563],\n",
       "         [0.10132563],\n",
       "         [0.74007155],\n",
       "         [0.74007155],\n",
       "         [0.41683009],\n",
       "         [0.41683009],\n",
       "         [0.53398214],\n",
       "         [0.53398214],\n",
       "         [0.02805854],\n",
       "         [0.02805854],\n",
       "         [0.3236405 ],\n",
       "         [0.3236405 ],\n",
       "         [0.75401196],\n",
       "         [0.75401196],\n",
       "         [0.31121239],\n",
       "         [0.31121239],\n",
       "         [0.63012455],\n",
       "         [0.63012455],\n",
       "         [0.15204852],\n",
       "         [0.15204852],\n",
       "         [0.16791747],\n",
       "         [0.16791747],\n",
       "         [0.75423282],\n",
       "         [0.75423282],\n",
       "         [0.87419859],\n",
       "         [0.87419859],\n",
       "         [0.12519827],\n",
       "         [0.12519827],\n",
       "         [0.87207515],\n",
       "         [0.87207515],\n",
       "         [0.23288118],\n",
       "         [0.23288118],\n",
       "         [0.32275538],\n",
       "         [0.32275538],\n",
       "         [0.35513716],\n",
       "         [0.35513716],\n",
       "         [0.01325123],\n",
       "         [0.01325123],\n",
       "         [0.4920461 ],\n",
       "         [0.4920461 ],\n",
       "         [0.70611801],\n",
       "         [0.70611801],\n",
       "         [0.79542659],\n",
       "         [0.79542659],\n",
       "         [0.22044321],\n",
       "         [0.22044321],\n",
       "         [0.89548281],\n",
       "         [0.89548281],\n",
       "         [0.10929642],\n",
       "         [0.10929642],\n",
       "         [0.26052733],\n",
       "         [0.26052733],\n",
       "         [0.76801431],\n",
       "         [0.76801431],\n",
       "         [0.50696272],\n",
       "         [0.50696272],\n",
       "         [0.33683945],\n",
       "         [0.33683945],\n",
       "         [0.79977683],\n",
       "         [0.79977683],\n",
       "         [0.88358716],\n",
       "         [0.88358716],\n",
       "         [0.12011668],\n",
       "         [0.12011668],\n",
       "         [0.60640039],\n",
       "         [0.60640039],\n",
       "         [0.43092065],\n",
       "         [0.43092065],\n",
       "         [0.40383101],\n",
       "         [0.40383101],\n",
       "         [0.60905523],\n",
       "         [0.60905523],\n",
       "         [0.67520586],\n",
       "         [0.67520586],\n",
       "         [0.8347585 ],\n",
       "         [0.8347585 ],\n",
       "         [0.44170027],\n",
       "         [0.44170027],\n",
       "         [0.33639592],\n",
       "         [0.33639592],\n",
       "         [0.5633334 ],\n",
       "         [0.5633334 ],\n",
       "         [0.77059303],\n",
       "         [0.77059303],\n",
       "         [0.66654078],\n",
       "         [0.66654078],\n",
       "         [0.93510697],\n",
       "         [0.93510697],\n",
       "         [0.332905  ],\n",
       "         [0.332905  ],\n",
       "         [0.98368539],\n",
       "         [0.98368539],\n",
       "         [0.13230167],\n",
       "         [0.13230167],\n",
       "         [0.95705513],\n",
       "         [0.95705513],\n",
       "         [0.15235411],\n",
       "         [0.15235411],\n",
       "         [0.43811935],\n",
       "         [0.43811935],\n",
       "         [0.17202369],\n",
       "         [0.17202369]])}}"
      ]
     },
     "execution_count": 1,
     "metadata": {},
     "output_type": "execute_result"
    }
   ],
   "source": [
    "ds = load_by_id(run_id_a)\n",
    "ds.get_parameter_data('x1')"
   ]
  },
  {
   "cell_type": "code",
   "execution_count": null,
   "metadata": {},
   "outputs": [],
   "source": []
  }
 ],
 "metadata": {
  "kernelspec": {
   "display_name": "Python 3",
   "language": "python",
   "name": "python3"
  },
  "language_info": {
   "codemirror_mode": {
    "name": "ipython",
    "version": 3
   },
   "file_extension": ".py",
   "mimetype": "text/x-python",
   "name": "python",
   "nbconvert_exporter": "python",
   "pygments_lexer": "ipython3",
   "version": "3.7.9"
  },
  "nbsphinx": {
   "timeout": 600
  },
  "toc": {
   "base_numbering": 1,
   "nav_menu": {},
   "number_sections": true,
   "sideBar": true,
   "skip_h1_title": false,
   "title_cell": "Table of Contents",
   "title_sidebar": "Contents",
   "toc_cell": false,
   "toc_position": {},
   "toc_section_display": true,
   "toc_window_display": false
  },
  "varInspector": {
   "cols": {
    "lenName": 16,
    "lenType": 16,
    "lenVar": 40
   },
   "kernels_config": {
    "python": {
     "delete_cmd_postfix": "",
     "delete_cmd_prefix": "del ",
     "library": "var_list.py",
     "varRefreshCmd": "print(var_dic_list())"
    },
    "r": {
     "delete_cmd_postfix": ") ",
     "delete_cmd_prefix": "rm(",
     "library": "var_list.r",
     "varRefreshCmd": "cat(var_dic_list()) "
    }
   },
   "types_to_exclude": [
    "module",
    "function",
    "builtin_function_or_method",
    "instance",
    "_Feature"
   ],
   "window_display": false
  }
 },
 "nbformat": 4,
 "nbformat_minor": 2
}
