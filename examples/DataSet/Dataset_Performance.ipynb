{
 "cells": [
  {
   "cell_type": "markdown",
   "metadata": {},
   "source": [
    "# DataSet Performance\n",
    "\n",
    "This notebook shows the trade-off between inserting data into a database row-by-row and as binary blobs. Inserting the data row-by-row means that we have direct access to all the data and may perform queries directly on the values of the data. On the other hand, as we shall see, this is much slower than inserting the data directly as binary blobs."
   ]
  },
  {
   "cell_type": "markdown",
   "metadata": {},
   "source": [
    "First, we choose a new location for the database to ensure that we don't add a bunch of benchmarking data to the default one."
   ]
  },
  {
   "cell_type": "code",
   "execution_count": 1,
   "metadata": {
    "execution": {
     "iopub.execute_input": "2021-04-22T14:46:30.926717Z",
     "iopub.status.busy": "2021-04-22T14:46:30.926118Z",
     "iopub.status.idle": "2021-04-22T14:46:32.118501Z",
     "shell.execute_reply": "2021-04-22T14:46:32.117339Z"
    }
   },
   "outputs": [
    {
     "name": "stdout",
     "output_type": "stream",
     "text": [
      "Logging hadn't been started.\n",
      "Activating auto-logging. Current session state plus future input saved.\n",
      "Filename       : /home/runner/.qcodes/logs/command_history.log\n",
      "Mode           : append\n",
      "Output logging : True\n",
      "Raw input log  : False\n",
      "Timestamping   : True\n",
      "State          : active\n"
     ]
    },
    {
     "name": "stdout",
     "output_type": "stream",
     "text": [
      "Qcodes Logfile : /home/runner/.qcodes/logs/210422-4504-qcodes.log\n"
     ]
    }
   ],
   "source": [
    "import os\n",
    "cwd = os.getcwd()\n",
    "import qcodes as qc\n",
    "qc.config[\"core\"][\"db_location\"] = os.path.join(cwd, 'testing.db')\n"
   ]
  },
  {
   "cell_type": "code",
   "execution_count": 2,
   "metadata": {
    "execution": {
     "iopub.execute_input": "2021-04-22T14:46:32.125423Z",
     "iopub.status.busy": "2021-04-22T14:46:32.124287Z",
     "iopub.status.idle": "2021-04-22T14:46:32.333164Z",
     "shell.execute_reply": "2021-04-22T14:46:32.333980Z"
    }
   },
   "outputs": [],
   "source": [
    "%matplotlib inline\n",
    "import time\n",
    "import matplotlib.pyplot as plt\n",
    "import numpy as np\n",
    "\n",
    "import qcodes as qc\n",
    "from qcodes.instrument.parameter import ManualParameter\n",
    "from qcodes.dataset.experiment_container import (Experiment,\n",
    "                                                 load_last_experiment,\n",
    "                                                 new_experiment)\n",
    "from qcodes.dataset.sqlite.database import initialise_database\n",
    "from qcodes import load_or_create_experiment\n",
    "from qcodes.dataset.measurements import Measurement"
   ]
  },
  {
   "cell_type": "code",
   "execution_count": 3,
   "metadata": {
    "execution": {
     "iopub.execute_input": "2021-04-22T14:46:32.339503Z",
     "iopub.status.busy": "2021-04-22T14:46:32.338514Z",
     "iopub.status.idle": "2021-04-22T14:46:32.463366Z",
     "shell.execute_reply": "2021-04-22T14:46:32.462868Z"
    }
   },
   "outputs": [
    {
     "name": "stdout",
     "output_type": "stream",
     "text": [
      "\r",
      "0it [00:00, ?it/s]"
     ]
    },
    {
     "name": "stdout",
     "output_type": "stream",
     "text": [
      "\r",
      "Upgrading database; v0 -> v1: : 0it [00:00, ?it/s]"
     ]
    },
    {
     "name": "stdout",
     "output_type": "stream",
     "text": [
      "\r",
      "Upgrading database; v0 -> v1: : 0it [00:00, ?it/s]"
     ]
    },
    {
     "name": "stdout",
     "output_type": "stream",
     "text": [
      "\n",
      "\r",
      "  0%|          | 0/1 [00:00<?, ?it/s]"
     ]
    },
    {
     "name": "stdout",
     "output_type": "stream",
     "text": [
      "\r",
      "Upgrading database; v1 -> v2:   0%|          | 0/1 [00:00<?, ?it/s]"
     ]
    },
    {
     "name": "stdout",
     "output_type": "stream",
     "text": [
      "\r",
      "Upgrading database; v1 -> v2: 100%|██████████| 1/1 [00:00<00:00, 1112.55it/s]"
     ]
    },
    {
     "name": "stdout",
     "output_type": "stream",
     "text": [
      "\n",
      "\r",
      "0it [00:00, ?it/s]"
     ]
    },
    {
     "name": "stdout",
     "output_type": "stream",
     "text": [
      "\r",
      "Upgrading database; v2 -> v3: : 0it [00:00, ?it/s]"
     ]
    },
    {
     "name": "stdout",
     "output_type": "stream",
     "text": [
      "\r",
      "Upgrading database; v2 -> v3: : 0it [00:00, ?it/s]"
     ]
    },
    {
     "name": "stdout",
     "output_type": "stream",
     "text": [
      "\n",
      "\r",
      "0it [00:00, ?it/s]"
     ]
    },
    {
     "name": "stdout",
     "output_type": "stream",
     "text": [
      "\r",
      "Upgrading database; v3 -> v4: : 0it [00:00, ?it/s]"
     ]
    },
    {
     "name": "stdout",
     "output_type": "stream",
     "text": [
      "\r",
      "Upgrading database; v3 -> v4: : 0it [00:00, ?it/s]"
     ]
    },
    {
     "name": "stdout",
     "output_type": "stream",
     "text": [
      "\n",
      "\r",
      "  0%|          | 0/1 [00:00<?, ?it/s]"
     ]
    },
    {
     "name": "stdout",
     "output_type": "stream",
     "text": [
      "\r",
      "Upgrading database; v4 -> v5:   0%|          | 0/1 [00:00<?, ?it/s]"
     ]
    },
    {
     "name": "stdout",
     "output_type": "stream",
     "text": [
      "\r",
      "Upgrading database; v4 -> v5: 100%|██████████| 1/1 [00:00<00:00, 422.26it/s]"
     ]
    },
    {
     "name": "stdout",
     "output_type": "stream",
     "text": [
      "\n",
      "\r",
      "0it [00:00, ?it/s]"
     ]
    },
    {
     "name": "stdout",
     "output_type": "stream",
     "text": [
      "\r",
      "Upgrading database; v5 -> v6: : 0it [00:00, ?it/s]"
     ]
    },
    {
     "name": "stdout",
     "output_type": "stream",
     "text": [
      "\r",
      "Upgrading database; v5 -> v6: : 0it [00:00, ?it/s]"
     ]
    },
    {
     "name": "stdout",
     "output_type": "stream",
     "text": [
      "\n",
      "\r",
      "  0%|          | 0/1 [00:00<?, ?it/s]"
     ]
    },
    {
     "name": "stdout",
     "output_type": "stream",
     "text": [
      "\r",
      "Upgrading database; v6 -> v7:   0%|          | 0/1 [00:00<?, ?it/s]"
     ]
    },
    {
     "name": "stdout",
     "output_type": "stream",
     "text": [
      "\r",
      "Upgrading database; v6 -> v7: 100%|██████████| 1/1 [00:00<00:00, 345.32it/s]"
     ]
    },
    {
     "name": "stdout",
     "output_type": "stream",
     "text": [
      "\n",
      "\r",
      "  0%|          | 0/1 [00:00<?, ?it/s]"
     ]
    },
    {
     "name": "stdout",
     "output_type": "stream",
     "text": [
      "\r",
      "Upgrading database; v7 -> v8:   0%|          | 0/1 [00:00<?, ?it/s]"
     ]
    },
    {
     "name": "stdout",
     "output_type": "stream",
     "text": [
      "\r",
      "Upgrading database; v7 -> v8: 100%|██████████| 1/1 [00:00<00:00, 416.06it/s]"
     ]
    },
    {
     "name": "stdout",
     "output_type": "stream",
     "text": [
      "\n",
      "\r",
      "  0%|          | 0/1 [00:00<?, ?it/s]"
     ]
    },
    {
     "name": "stdout",
     "output_type": "stream",
     "text": [
      "\r",
      "Upgrading database; v8 -> v9:   0%|          | 0/1 [00:00<?, ?it/s]"
     ]
    },
    {
     "name": "stdout",
     "output_type": "stream",
     "text": [
      "\r",
      "Upgrading database; v8 -> v9: 100%|██████████| 1/1 [00:00<00:00, 419.05it/s]"
     ]
    },
    {
     "name": "stdout",
     "output_type": "stream",
     "text": [
      "\n"
     ]
    }
   ],
   "source": [
    "initialise_database()\n",
    "exp = load_or_create_experiment(experiment_name='tutorial_exp', sample_name=\"no sample\")"
   ]
  },
  {
   "cell_type": "markdown",
   "metadata": {},
   "source": [
    "Here, we define a simple function to benchmark the time it takes to insert n points with either numeric or array data type.\n",
    "We will compare both the time used to call ``add_result`` and the time used for the full measurement."
   ]
  },
  {
   "cell_type": "code",
   "execution_count": 4,
   "metadata": {
    "execution": {
     "iopub.execute_input": "2021-04-22T14:46:32.472443Z",
     "iopub.status.busy": "2021-04-22T14:46:32.471848Z",
     "iopub.status.idle": "2021-04-22T14:46:32.475588Z",
     "shell.execute_reply": "2021-04-22T14:46:32.475078Z"
    }
   },
   "outputs": [],
   "source": [
    "def insert_data(paramtype, npoints, nreps=1):\n",
    "\n",
    "    meas = Measurement(exp=exp)\n",
    "\n",
    "    x1 = ManualParameter('x1')\n",
    "    x2 = ManualParameter('x2')\n",
    "    x3 = ManualParameter('x3')\n",
    "    y1 = ManualParameter('y1')\n",
    "    y2 = ManualParameter('y2')\n",
    "\n",
    "    meas.register_parameter(x1, paramtype=paramtype)\n",
    "    meas.register_parameter(x2, paramtype=paramtype)\n",
    "    meas.register_parameter(x3, paramtype=paramtype)\n",
    "    meas.register_parameter(y1, setpoints=[x1, x2, x3],\n",
    "                            paramtype=paramtype)\n",
    "    meas.register_parameter(y2, setpoints=[x1, x2, x3],\n",
    "                            paramtype=paramtype)\n",
    "    start = time.perf_counter()\n",
    "    with meas.run() as datasaver:\n",
    "        start_adding = time.perf_counter()\n",
    "        for i in range(nreps):\n",
    "            datasaver.add_result((x1, np.random.rand(npoints)),\n",
    "                                 (x2, np.random.rand(npoints)),\n",
    "                                 (x3, np.random.rand(npoints)),\n",
    "                                 (y1, np.random.rand(npoints)),\n",
    "                                 (y2, np.random.rand(npoints)))\n",
    "        stop_adding = time.perf_counter()\n",
    "        run_id = datasaver.run_id\n",
    "    stop = time.perf_counter()\n",
    "    tot_time = stop - start\n",
    "    add_time = stop_adding - start_adding\n",
    "    return tot_time, add_time, run_id"
   ]
  },
  {
   "cell_type": "markdown",
   "metadata": {},
   "source": [
    "## Comparison between numeric/array data and binary blob"
   ]
  },
  {
   "cell_type": "markdown",
   "metadata": {},
   "source": [
    "### Case1: Short experiment time"
   ]
  },
  {
   "cell_type": "code",
   "execution_count": 5,
   "metadata": {
    "execution": {
     "iopub.execute_input": "2021-04-22T14:46:32.483057Z",
     "iopub.status.busy": "2021-04-22T14:46:32.482054Z",
     "iopub.status.idle": "2021-04-22T14:46:33.278273Z",
     "shell.execute_reply": "2021-04-22T14:46:33.277715Z"
    }
   },
   "outputs": [
    {
     "name": "stdout",
     "output_type": "stream",
     "text": [
      "Starting experimental run with id: 1. \n",
      "Starting experimental run with id: 2. \n",
      "Starting experimental run with id: 3. \n",
      "Starting experimental run with id: 4. \n",
      "Starting experimental run with id: 5. \n"
     ]
    },
    {
     "name": "stdout",
     "output_type": "stream",
     "text": [
      "Starting experimental run with id: 6. \n"
     ]
    },
    {
     "name": "stdout",
     "output_type": "stream",
     "text": [
      "Starting experimental run with id: 7. \n"
     ]
    },
    {
     "name": "stdout",
     "output_type": "stream",
     "text": [
      "Starting experimental run with id: 8. \n",
      "Starting experimental run with id: 9. \n"
     ]
    },
    {
     "name": "stdout",
     "output_type": "stream",
     "text": [
      "Starting experimental run with id: 10. \n",
      "Starting experimental run with id: 11. \n"
     ]
    },
    {
     "name": "stdout",
     "output_type": "stream",
     "text": [
      "Starting experimental run with id: 12. \n"
     ]
    },
    {
     "name": "stdout",
     "output_type": "stream",
     "text": [
      "Starting experimental run with id: 13. \n"
     ]
    },
    {
     "name": "stdout",
     "output_type": "stream",
     "text": [
      "Starting experimental run with id: 14. \n"
     ]
    }
   ],
   "source": [
    "sizes = [1,500,1000,2000,3000,4000,5000]\n",
    "t_numeric = []\n",
    "t_numeric_add = []\n",
    "t_array = []\n",
    "t_array_add = []\n",
    "for size in sizes:\n",
    "    tn, tna, run_id_n =  insert_data('numeric', size)\n",
    "    t_numeric.append(tn)\n",
    "    t_numeric_add.append(tna)\n",
    "\n",
    "    ta, taa, run_id_a =  insert_data('array', size)\n",
    "    t_array.append(ta)\n",
    "    t_array_add.append(taa)"
   ]
  },
  {
   "cell_type": "code",
   "execution_count": 6,
   "metadata": {
    "execution": {
     "iopub.execute_input": "2021-04-22T14:46:33.285009Z",
     "iopub.status.busy": "2021-04-22T14:46:33.283059Z",
     "iopub.status.idle": "2021-04-22T14:46:33.543940Z",
     "shell.execute_reply": "2021-04-22T14:46:33.543413Z"
    }
   },
   "outputs": [
    {
     "data": {
      "image/png": "[encoded data removed]",
      "text/plain": [
       "<Figure size 432x288 with 1 Axes>"
      ]
     },
     "metadata": {
      "needs_background": "light"
     },
     "output_type": "display_data"
    }
   ],
   "source": [
    "fig, ax = plt.subplots(1,1)\n",
    "ax.plot(sizes, t_numeric, 'o-', label='Inserting row-by-row')\n",
    "ax.plot(sizes, t_numeric_add, 'o-', label='Inserting row-by-row: add_result only')\n",
    "ax.plot(sizes, t_array, 'd-', label='Inserting as binary blob')\n",
    "ax.plot(sizes, t_array_add, 'd-', label='Inserting as binary blob: add_result only')\n",
    "ax.legend()\n",
    "ax.set_xlabel('Array length')\n",
    "ax.set_ylabel('Time (s)')\n",
    "fig.tight_layout()"
   ]
  },
  {
   "cell_type": "markdown",
   "metadata": {},
   "source": [
    "As shown in the latter figure, the time to setup and and close the experiment is approximately 0.4 sec. In case of small array sizes, the difference between inserting values of data as arrays and inserting them row-by-row is relatively unimportant. At larger array sizes, i.e. above 10000 points, the cost of writing data as individual datapoints starts to become important.\n"
   ]
  },
  {
   "cell_type": "markdown",
   "metadata": {},
   "source": [
    "### Case2: Long experiment time "
   ]
  },
  {
   "cell_type": "code",
   "execution_count": 7,
   "metadata": {
    "execution": {
     "iopub.execute_input": "2021-04-22T14:46:33.552360Z",
     "iopub.status.busy": "2021-04-22T14:46:33.551401Z",
     "iopub.status.idle": "2021-04-22T14:47:31.091820Z",
     "shell.execute_reply": "2021-04-22T14:47:31.092306Z"
    }
   },
   "outputs": [
    {
     "name": "stdout",
     "output_type": "stream",
     "text": [
      "Starting experimental run with id: 15. \n",
      "Starting experimental run with id: 16. \n",
      "Starting experimental run with id: 17. \n"
     ]
    },
    {
     "name": "stdout",
     "output_type": "stream",
     "text": [
      "Starting experimental run with id: 18. \n",
      "Starting experimental run with id: 19. \n"
     ]
    },
    {
     "name": "stdout",
     "output_type": "stream",
     "text": [
      "Starting experimental run with id: 20. \n"
     ]
    },
    {
     "name": "stdout",
     "output_type": "stream",
     "text": [
      "Starting experimental run with id: 21. \n"
     ]
    },
    {
     "name": "stdout",
     "output_type": "stream",
     "text": [
      "Starting experimental run with id: 22. \n"
     ]
    },
    {
     "name": "stdout",
     "output_type": "stream",
     "text": [
      "Starting experimental run with id: 23. \n"
     ]
    },
    {
     "name": "stdout",
     "output_type": "stream",
     "text": [
      "Starting experimental run with id: 24. \n"
     ]
    },
    {
     "name": "stdout",
     "output_type": "stream",
     "text": [
      "Starting experimental run with id: 25. \n"
     ]
    },
    {
     "name": "stdout",
     "output_type": "stream",
     "text": [
      "Starting experimental run with id: 26. \n"
     ]
    },
    {
     "name": "stdout",
     "output_type": "stream",
     "text": [
      "Starting experimental run with id: 27. \n"
     ]
    },
    {
     "name": "stdout",
     "output_type": "stream",
     "text": [
      "Starting experimental run with id: 28. \n"
     ]
    }
   ],
   "source": [
    "sizes = [1,500,1000,2000,3000,4000,5000]\n",
    "nreps = 100\n",
    "t_numeric = []\n",
    "t_numeric_add = []\n",
    "t_numeric_run_ids = []\n",
    "t_array = []\n",
    "t_array_add = []\n",
    "t_array_run_ids = []\n",
    "for size in sizes:\n",
    "    tn, tna, run_id_n =  insert_data('numeric', size, nreps=nreps)\n",
    "    t_numeric.append(tn)\n",
    "    t_numeric_add.append(tna)\n",
    "    t_numeric_run_ids.append(run_id_n)\n",
    "\n",
    "    ta, taa, run_id_a =  insert_data('array', size, nreps=nreps)\n",
    "    t_array.append(ta)\n",
    "    t_array_add.append(taa)\n",
    "    t_array_run_ids.append(run_id_a)"
   ]
  },
  {
   "cell_type": "code",
   "execution_count": 8,
   "metadata": {
    "execution": {
     "iopub.execute_input": "2021-04-22T14:47:31.111879Z",
     "iopub.status.busy": "2021-04-22T14:47:31.098075Z",
     "iopub.status.idle": "2021-04-22T14:47:31.283177Z",
     "shell.execute_reply": "2021-04-22T14:47:31.283984Z"
    },
    "scrolled": true
   },
   "outputs": [
    {
     "data": {
      "image/png": "[encoded data removed]",
      "text/plain": [
       "<Figure size 432x288 with 1 Axes>"
      ]
     },
     "metadata": {
      "needs_background": "light"
     },
     "output_type": "display_data"
    }
   ],
   "source": [
    "fig, ax = plt.subplots(1,1)\n",
    "ax.plot(sizes, t_numeric, 'o-', label='Inserting row-by-row')\n",
    "ax.plot(sizes, t_numeric_add, 'o-', label='Inserting row-by-row: add_result only')\n",
    "ax.plot(sizes, t_array, 'd-', label='Inserting as binary blob')\n",
    "ax.plot(sizes, t_array_add, 'd-', label='Inserting as binary blob: add_result only')\n",
    "ax.legend()\n",
    "ax.set_xlabel('Array length')\n",
    "ax.set_ylabel('Time (s)')\n",
    "fig.tight_layout()"
   ]
  },
  {
   "cell_type": "markdown",
   "metadata": {},
   "source": [
    "However, as we increase the length of the experiment, as seen here by repeating the insertion 100 times, we see a big difference between inserting values of the data row-by-row and inserting it as a binary blob."
   ]
  },
  {
   "cell_type": "markdown",
   "metadata": {},
   "source": [
    "## Loading the data "
   ]
  },
  {
   "cell_type": "code",
   "execution_count": 9,
   "metadata": {
    "execution": {
     "iopub.execute_input": "2021-04-22T14:47:31.288630Z",
     "iopub.status.busy": "2021-04-22T14:47:31.287627Z",
     "iopub.status.idle": "2021-04-22T14:47:31.291171Z",
     "shell.execute_reply": "2021-04-22T14:47:31.291646Z"
    }
   },
   "outputs": [],
   "source": [
    "from qcodes.dataset.data_set import load_by_id"
   ]
  },
  {
   "cell_type": "markdown",
   "metadata": {},
   "source": [
    "As usual you can load the data by using the ``load_by_id`` function but you will notice that the different storage methods\n",
    "are reflected in shape of the data as it is retrieved. "
   ]
  },
  {
   "cell_type": "code",
   "execution_count": 10,
   "metadata": {
    "execution": {
     "iopub.execute_input": "2021-04-22T14:47:31.295625Z",
     "iopub.status.busy": "2021-04-22T14:47:31.295044Z",
     "iopub.status.idle": "2021-04-22T14:47:31.298679Z",
     "shell.execute_reply": "2021-04-22T14:47:31.298150Z"
    }
   },
   "outputs": [],
   "source": [
    "run_id_n = t_numeric_run_ids[0]\n",
    "run_id_a = t_array_run_ids[0]"
   ]
  },
  {
   "cell_type": "code",
   "execution_count": 11,
   "metadata": {
    "execution": {
     "iopub.execute_input": "2021-04-22T14:47:31.301908Z",
     "iopub.status.busy": "2021-04-22T14:47:31.301327Z",
     "iopub.status.idle": "2021-04-22T14:47:31.310964Z",
     "shell.execute_reply": "2021-04-22T14:47:31.311488Z"
    },
    "scrolled": true
   },
   "outputs": [
    {
     "data": {
      "text/plain": [
       "{'x1': {'x1': array([0.55359338, 0.55359338, 0.40235706, 0.40235706, 0.71678963,\n",
       "         0.71678963, 0.92805523, 0.92805523, 0.03352767, 0.03352767,\n",
       "         0.73839455, 0.73839455, 0.88132776, 0.88132776, 0.87975151,\n",
       "         0.87975151, 0.24628035, 0.24628035, 0.54534548, 0.54534548,\n",
       "         0.98371393, 0.98371393, 0.46334805, 0.46334805, 0.35715766,\n",
       "         0.35715766, 0.39145127, 0.39145127, 0.84358504, 0.84358504,\n",
       "         0.6075109 , 0.6075109 , 0.36321392, 0.36321392, 0.21699501,\n",
       "         0.21699501, 0.8738642 , 0.8738642 , 0.02337729, 0.02337729,\n",
       "         0.27219732, 0.27219732, 0.24216961, 0.24216961, 0.77184854,\n",
       "         0.77184854, 0.77120552, 0.77120552, 0.00474833, 0.00474833,\n",
       "         0.10441912, 0.10441912, 0.53010458, 0.53010458, 0.62843005,\n",
       "         0.62843005, 0.08140351, 0.08140351, 0.90140684, 0.90140684,\n",
       "         0.3434613 , 0.3434613 , 0.72478268, 0.72478268, 0.75943178,\n",
       "         0.75943178, 0.01554587, 0.01554587, 0.47679898, 0.47679898,\n",
       "         0.05284758, 0.05284758, 0.97415955, 0.97415955, 0.9328942 ,\n",
       "         0.9328942 , 0.04633394, 0.04633394, 0.4140864 , 0.4140864 ,\n",
       "         0.92351015, 0.92351015, 0.43791062, 0.43791062, 0.40533818,\n",
       "         0.40533818, 0.17686094, 0.17686094, 0.92712715, 0.92712715,\n",
       "         0.97181144, 0.97181144, 0.66553011, 0.66553011, 0.26459707,\n",
       "         0.26459707, 0.78572293, 0.78572293, 0.3537328 , 0.3537328 ,\n",
       "         0.22605339, 0.22605339, 0.6737168 , 0.6737168 , 0.82429971,\n",
       "         0.82429971, 0.4256464 , 0.4256464 , 0.92038402, 0.92038402,\n",
       "         0.42835181, 0.42835181, 0.92180238, 0.92180238, 0.90089284,\n",
       "         0.90089284, 0.73691973, 0.73691973, 0.27834315, 0.27834315,\n",
       "         0.98655514, 0.98655514, 0.69843096, 0.69843096, 0.51720833,\n",
       "         0.51720833, 0.40049334, 0.40049334, 0.07893171, 0.07893171,\n",
       "         0.53141292, 0.53141292, 0.69018547, 0.69018547, 0.62729634,\n",
       "         0.62729634, 0.55026071, 0.55026071, 0.57695301, 0.57695301,\n",
       "         0.24858627, 0.24858627, 0.06523494, 0.06523494, 0.56219346,\n",
       "         0.56219346, 0.21240754, 0.21240754, 0.15861187, 0.15861187,\n",
       "         0.95601957, 0.95601957, 0.64753422, 0.64753422, 0.59657074,\n",
       "         0.59657074, 0.66493043, 0.66493043, 0.55184726, 0.55184726,\n",
       "         0.54239732, 0.54239732, 0.28772988, 0.28772988, 0.62976246,\n",
       "         0.62976246, 0.9743778 , 0.9743778 , 0.7458422 , 0.7458422 ,\n",
       "         0.18980807, 0.18980807, 0.40773808, 0.40773808, 0.67941583,\n",
       "         0.67941583, 0.18502259, 0.18502259, 0.09408329, 0.09408329,\n",
       "         0.04149158, 0.04149158, 0.3244    , 0.3244    , 0.50124798,\n",
       "         0.50124798, 0.63784391, 0.63784391, 0.57313519, 0.57313519,\n",
       "         0.2050826 , 0.2050826 , 0.01095277, 0.01095277, 0.2795121 ,\n",
       "         0.2795121 , 0.49985551, 0.49985551, 0.22482362, 0.22482362])}}"
      ]
     },
     "execution_count": 1,
     "metadata": {},
     "output_type": "execute_result"
    }
   ],
   "source": [
    "ds = load_by_id(run_id_n)\n",
    "ds.get_parameter_data('x1')"
   ]
  },
  {
   "cell_type": "markdown",
   "metadata": {},
   "source": [
    "And a dataset stored as binary arrays"
   ]
  },
  {
   "cell_type": "code",
   "execution_count": 12,
   "metadata": {
    "execution": {
     "iopub.execute_input": "2021-04-22T14:47:31.314907Z",
     "iopub.status.busy": "2021-04-22T14:47:31.314278Z",
     "iopub.status.idle": "2021-04-22T14:47:31.374121Z",
     "shell.execute_reply": "2021-04-22T14:47:31.374979Z"
    },
    "scrolled": true
   },
   "outputs": [
    {
     "data": {
      "text/plain": [
       "{'x1': {'x1': array([[0.98614791],\n",
       "         [0.98614791],\n",
       "         [0.15301504],\n",
       "         [0.15301504],\n",
       "         [0.54114623],\n",
       "         [0.54114623],\n",
       "         [0.59071082],\n",
       "         [0.59071082],\n",
       "         [0.91798498],\n",
       "         [0.91798498],\n",
       "         [0.59547156],\n",
       "         [0.59547156],\n",
       "         [0.38295153],\n",
       "         [0.38295153],\n",
       "         [0.72222627],\n",
       "         [0.72222627],\n",
       "         [0.16048178],\n",
       "         [0.16048178],\n",
       "         [0.25356321],\n",
       "         [0.25356321],\n",
       "         [0.63299003],\n",
       "         [0.63299003],\n",
       "         [0.40016944],\n",
       "         [0.40016944],\n",
       "         [0.65406564],\n",
       "         [0.65406564],\n",
       "         [0.39341139],\n",
       "         [0.39341139],\n",
       "         [0.61701797],\n",
       "         [0.61701797],\n",
       "         [0.91362825],\n",
       "         [0.91362825],\n",
       "         [0.44976872],\n",
       "         [0.44976872],\n",
       "         [0.91274787],\n",
       "         [0.91274787],\n",
       "         [0.22903647],\n",
       "         [0.22903647],\n",
       "         [0.7970448 ],\n",
       "         [0.7970448 ],\n",
       "         [0.65115438],\n",
       "         [0.65115438],\n",
       "         [0.35828826],\n",
       "         [0.35828826],\n",
       "         [0.6255127 ],\n",
       "         [0.6255127 ],\n",
       "         [0.35096419],\n",
       "         [0.35096419],\n",
       "         [0.12870624],\n",
       "         [0.12870624],\n",
       "         [0.00912988],\n",
       "         [0.00912988],\n",
       "         [0.30320172],\n",
       "         [0.30320172],\n",
       "         [0.64057036],\n",
       "         [0.64057036],\n",
       "         [0.16930901],\n",
       "         [0.16930901],\n",
       "         [0.85101521],\n",
       "         [0.85101521],\n",
       "         [0.94767664],\n",
       "         [0.94767664],\n",
       "         [0.38822548],\n",
       "         [0.38822548],\n",
       "         [0.70452523],\n",
       "         [0.70452523],\n",
       "         [0.22276117],\n",
       "         [0.22276117],\n",
       "         [0.28185858],\n",
       "         [0.28185858],\n",
       "         [0.19722686],\n",
       "         [0.19722686],\n",
       "         [0.10637375],\n",
       "         [0.10637375],\n",
       "         [0.59834865],\n",
       "         [0.59834865],\n",
       "         [0.41308724],\n",
       "         [0.41308724],\n",
       "         [0.53731136],\n",
       "         [0.53731136],\n",
       "         [0.70378987],\n",
       "         [0.70378987],\n",
       "         [0.21171449],\n",
       "         [0.21171449],\n",
       "         [0.86005068],\n",
       "         [0.86005068],\n",
       "         [0.84444885],\n",
       "         [0.84444885],\n",
       "         [0.96661533],\n",
       "         [0.96661533],\n",
       "         [0.27966521],\n",
       "         [0.27966521],\n",
       "         [0.10597184],\n",
       "         [0.10597184],\n",
       "         [0.57922922],\n",
       "         [0.57922922],\n",
       "         [0.69425278],\n",
       "         [0.69425278],\n",
       "         [0.07312862],\n",
       "         [0.07312862],\n",
       "         [0.24888767],\n",
       "         [0.24888767],\n",
       "         [0.51915064],\n",
       "         [0.51915064],\n",
       "         [0.77320711],\n",
       "         [0.77320711],\n",
       "         [0.85724847],\n",
       "         [0.85724847],\n",
       "         [0.04433196],\n",
       "         [0.04433196],\n",
       "         [0.24675915],\n",
       "         [0.24675915],\n",
       "         [0.60027181],\n",
       "         [0.60027181],\n",
       "         [0.76738039],\n",
       "         [0.76738039],\n",
       "         [0.78751515],\n",
       "         [0.78751515],\n",
       "         [0.53148842],\n",
       "         [0.53148842],\n",
       "         [0.39065468],\n",
       "         [0.39065468],\n",
       "         [0.31020612],\n",
       "         [0.31020612],\n",
       "         [0.88322352],\n",
       "         [0.88322352],\n",
       "         [0.70300283],\n",
       "         [0.70300283],\n",
       "         [0.27713797],\n",
       "         [0.27713797],\n",
       "         [0.79873178],\n",
       "         [0.79873178],\n",
       "         [0.14232717],\n",
       "         [0.14232717],\n",
       "         [0.42601187],\n",
       "         [0.42601187],\n",
       "         [0.90998696],\n",
       "         [0.90998696],\n",
       "         [0.55607805],\n",
       "         [0.55607805],\n",
       "         [0.0756853 ],\n",
       "         [0.0756853 ],\n",
       "         [0.17208574],\n",
       "         [0.17208574],\n",
       "         [0.84825916],\n",
       "         [0.84825916],\n",
       "         [0.34676293],\n",
       "         [0.34676293],\n",
       "         [0.02000486],\n",
       "         [0.02000486],\n",
       "         [0.10175193],\n",
       "         [0.10175193],\n",
       "         [0.09383029],\n",
       "         [0.09383029],\n",
       "         [0.41530774],\n",
       "         [0.41530774],\n",
       "         [0.45987642],\n",
       "         [0.45987642],\n",
       "         [0.74835317],\n",
       "         [0.74835317],\n",
       "         [0.07852681],\n",
       "         [0.07852681],\n",
       "         [0.35010464],\n",
       "         [0.35010464],\n",
       "         [0.81721612],\n",
       "         [0.81721612],\n",
       "         [0.15579435],\n",
       "         [0.15579435],\n",
       "         [0.11738109],\n",
       "         [0.11738109],\n",
       "         [0.20291466],\n",
       "         [0.20291466],\n",
       "         [0.75820078],\n",
       "         [0.75820078],\n",
       "         [0.93685984],\n",
       "         [0.93685984],\n",
       "         [0.27754933],\n",
       "         [0.27754933],\n",
       "         [0.20911216],\n",
       "         [0.20911216],\n",
       "         [0.35524963],\n",
       "         [0.35524963],\n",
       "         [0.69666436],\n",
       "         [0.69666436],\n",
       "         [0.69532039],\n",
       "         [0.69532039],\n",
       "         [0.89825933],\n",
       "         [0.89825933],\n",
       "         [0.41734208],\n",
       "         [0.41734208],\n",
       "         [0.98245182],\n",
       "         [0.98245182],\n",
       "         [0.68988086],\n",
       "         [0.68988086],\n",
       "         [0.04032484],\n",
       "         [0.04032484],\n",
       "         [0.43269506],\n",
       "         [0.43269506],\n",
       "         [0.23234149],\n",
       "         [0.23234149]])}}"
      ]
     },
     "execution_count": 1,
     "metadata": {},
     "output_type": "execute_result"
    }
   ],
   "source": [
    "ds = load_by_id(run_id_a)\n",
    "ds.get_parameter_data('x1')"
   ]
  },
  {
   "cell_type": "code",
   "execution_count": null,
   "metadata": {},
   "outputs": [],
   "source": []
  }
 ],
 "metadata": {
  "kernelspec": {
   "display_name": "Python 3",
   "language": "python",
   "name": "python3"
  },
  "language_info": {
   "codemirror_mode": {
    "name": "ipython",
    "version": 3
   },
   "file_extension": ".py",
   "mimetype": "text/x-python",
   "name": "python",
   "nbconvert_exporter": "python",
   "pygments_lexer": "ipython3",
   "version": "3.7.10"
  },
  "nbsphinx": {
   "timeout": 600
  },
  "toc": {
   "base_numbering": 1,
   "nav_menu": {},
   "number_sections": true,
   "sideBar": true,
   "skip_h1_title": false,
   "title_cell": "Table of Contents",
   "title_sidebar": "Contents",
   "toc_cell": false,
   "toc_position": {},
   "toc_section_display": true,
   "toc_window_display": false
  },
  "varInspector": {
   "cols": {
    "lenName": 16,
    "lenType": 16,
    "lenVar": 40
   },
   "kernels_config": {
    "python": {
     "delete_cmd_postfix": "",
     "delete_cmd_prefix": "del ",
     "library": "var_list.py",
     "varRefreshCmd": "print(var_dic_list())"
    },
    "r": {
     "delete_cmd_postfix": ") ",
     "delete_cmd_prefix": "rm(",
     "library": "var_list.r",
     "varRefreshCmd": "cat(var_dic_list()) "
    }
   },
   "types_to_exclude": [
    "module",
    "function",
    "builtin_function_or_method",
    "instance",
    "_Feature"
   ],
   "window_display": false
  }
 },
 "nbformat": 4,
 "nbformat_minor": 4
}
