{
 "cells": [
  {
   "cell_type": "markdown",
   "metadata": {},
   "source": [
    "# DataSet Performance\n",
    "\n",
    "This notebook shows the trade-off between inserting data into a database row-by-row and as binary blobs. Inserting the data row-by-row means that we have direct access to all the data and may perform queries directly on the values of the data. On the other hand, as we shall see, this is much slower than inserting the data directly as binary blobs."
   ]
  },
  {
   "cell_type": "markdown",
   "metadata": {},
   "source": [
    "First, we choose a new location for the database to ensure that we don't add a bunch of benchmarking data to the default one."
   ]
  },
  {
   "cell_type": "code",
   "execution_count": 1,
   "metadata": {
    "execution": {
     "iopub.execute_input": "2021-02-26T07:35:37.535851Z",
     "iopub.status.busy": "2021-02-26T07:35:37.535276Z",
     "iopub.status.idle": "2021-02-26T07:35:38.454938Z",
     "shell.execute_reply": "2021-02-26T07:35:38.454187Z"
    }
   },
   "outputs": [
    {
     "name": "stdout",
     "output_type": "stream",
     "text": [
      "Logging hadn't been started.\n",
      "Activating auto-logging. Current session state plus future input saved.\n",
      "Filename       : /home/runner/.qcodes/logs/command_history.log\n",
      "Mode           : append\n",
      "Output logging : True\n",
      "Raw input log  : False\n",
      "Timestamping   : True\n",
      "State          : active\n"
     ]
    },
    {
     "name": "stdout",
     "output_type": "stream",
     "text": [
      "Qcodes Logfile : /home/runner/.qcodes/logs/210226-4083-qcodes.log\n"
     ]
    }
   ],
   "source": [
    "import os\n",
    "cwd = os.getcwd()\n",
    "import qcodes as qc\n",
    "qc.config[\"core\"][\"db_location\"] = os.path.join(cwd, 'testing.db')\n"
   ]
  },
  {
   "cell_type": "code",
   "execution_count": 2,
   "metadata": {
    "execution": {
     "iopub.execute_input": "2021-02-26T07:35:38.461546Z",
     "iopub.status.busy": "2021-02-26T07:35:38.460971Z",
     "iopub.status.idle": "2021-02-26T07:35:38.665222Z",
     "shell.execute_reply": "2021-02-26T07:35:38.664658Z"
    }
   },
   "outputs": [],
   "source": [
    "%matplotlib inline\n",
    "import time\n",
    "import matplotlib.pyplot as plt\n",
    "import numpy as np\n",
    "\n",
    "import qcodes as qc\n",
    "from qcodes.instrument.parameter import ManualParameter\n",
    "from qcodes.dataset.experiment_container import (Experiment,\n",
    "                                                 load_last_experiment,\n",
    "                                                 new_experiment)\n",
    "from qcodes.dataset.sqlite.database import initialise_database\n",
    "from qcodes import load_or_create_experiment\n",
    "from qcodes.dataset.measurements import Measurement"
   ]
  },
  {
   "cell_type": "code",
   "execution_count": 3,
   "metadata": {
    "execution": {
     "iopub.execute_input": "2021-02-26T07:35:38.669629Z",
     "iopub.status.busy": "2021-02-26T07:35:38.668844Z",
     "iopub.status.idle": "2021-02-26T07:35:38.794107Z",
     "shell.execute_reply": "2021-02-26T07:35:38.794614Z"
    }
   },
   "outputs": [
    {
     "name": "stdout",
     "output_type": "stream",
     "text": [
      "\r",
      "0it [00:00, ?it/s]"
     ]
    },
    {
     "name": "stdout",
     "output_type": "stream",
     "text": [
      "\r",
      "Upgrading database; v0 -> v1: : 0it [00:00, ?it/s]"
     ]
    },
    {
     "name": "stdout",
     "output_type": "stream",
     "text": [
      "\r",
      "Upgrading database; v0 -> v1: : 0it [00:00, ?it/s]"
     ]
    },
    {
     "name": "stdout",
     "output_type": "stream",
     "text": [
      "\n",
      "\r",
      "  0%|          | 0/1 [00:00<?, ?it/s]"
     ]
    },
    {
     "name": "stdout",
     "output_type": "stream",
     "text": [
      "\r",
      "Upgrading database; v1 -> v2:   0%|          | 0/1 [00:00<?, ?it/s]"
     ]
    },
    {
     "name": "stdout",
     "output_type": "stream",
     "text": [
      "\r",
      "Upgrading database; v1 -> v2: 100%|██████████| 1/1 [00:00<00:00, 522.33it/s]"
     ]
    },
    {
     "name": "stdout",
     "output_type": "stream",
     "text": [
      "\n",
      "\r",
      "0it [00:00, ?it/s]"
     ]
    },
    {
     "name": "stdout",
     "output_type": "stream",
     "text": [
      "\r",
      "Upgrading database; v2 -> v3: : 0it [00:00, ?it/s]"
     ]
    },
    {
     "name": "stdout",
     "output_type": "stream",
     "text": [
      "\r",
      "Upgrading database; v2 -> v3: : 0it [00:00, ?it/s]"
     ]
    },
    {
     "name": "stdout",
     "output_type": "stream",
     "text": [
      "\n",
      "\r",
      "0it [00:00, ?it/s]"
     ]
    },
    {
     "name": "stdout",
     "output_type": "stream",
     "text": [
      "\r",
      "Upgrading database; v3 -> v4: : 0it [00:00, ?it/s]"
     ]
    },
    {
     "name": "stdout",
     "output_type": "stream",
     "text": [
      "\r",
      "Upgrading database; v3 -> v4: : 0it [00:00, ?it/s]"
     ]
    },
    {
     "name": "stdout",
     "output_type": "stream",
     "text": [
      "\n",
      "\r",
      "  0%|          | 0/1 [00:00<?, ?it/s]"
     ]
    },
    {
     "name": "stdout",
     "output_type": "stream",
     "text": [
      "\r",
      "Upgrading database; v4 -> v5:   0%|          | 0/1 [00:00<?, ?it/s]"
     ]
    },
    {
     "name": "stdout",
     "output_type": "stream",
     "text": [
      "\r",
      "Upgrading database; v4 -> v5: 100%|██████████| 1/1 [00:00<00:00, 365.23it/s]"
     ]
    },
    {
     "name": "stdout",
     "output_type": "stream",
     "text": [
      "\n",
      "\r",
      "0it [00:00, ?it/s]"
     ]
    },
    {
     "name": "stdout",
     "output_type": "stream",
     "text": [
      "\r",
      "Upgrading database; v5 -> v6: : 0it [00:00, ?it/s]"
     ]
    },
    {
     "name": "stdout",
     "output_type": "stream",
     "text": [
      "\r",
      "Upgrading database; v5 -> v6: : 0it [00:00, ?it/s]"
     ]
    },
    {
     "name": "stdout",
     "output_type": "stream",
     "text": [
      "\n",
      "\r",
      "  0%|          | 0/1 [00:00<?, ?it/s]"
     ]
    },
    {
     "name": "stdout",
     "output_type": "stream",
     "text": [
      "\r",
      "Upgrading database; v6 -> v7:   0%|          | 0/1 [00:00<?, ?it/s]"
     ]
    },
    {
     "name": "stdout",
     "output_type": "stream",
     "text": [
      "\r",
      "Upgrading database; v6 -> v7: 100%|██████████| 1/1 [00:00<00:00, 321.43it/s]"
     ]
    },
    {
     "name": "stdout",
     "output_type": "stream",
     "text": [
      "\n",
      "\r",
      "  0%|          | 0/1 [00:00<?, ?it/s]"
     ]
    },
    {
     "name": "stdout",
     "output_type": "stream",
     "text": [
      "\r",
      "Upgrading database; v7 -> v8:   0%|          | 0/1 [00:00<?, ?it/s]"
     ]
    },
    {
     "name": "stdout",
     "output_type": "stream",
     "text": [
      "\r",
      "Upgrading database; v7 -> v8: 100%|██████████| 1/1 [00:00<00:00, 412.30it/s]"
     ]
    },
    {
     "name": "stdout",
     "output_type": "stream",
     "text": [
      "\n",
      "\r",
      "  0%|          | 0/1 [00:00<?, ?it/s]"
     ]
    },
    {
     "name": "stdout",
     "output_type": "stream",
     "text": [
      "\r",
      "Upgrading database; v8 -> v9:   0%|          | 0/1 [00:00<?, ?it/s]"
     ]
    },
    {
     "name": "stdout",
     "output_type": "stream",
     "text": [
      "\r",
      "Upgrading database; v8 -> v9: 100%|██████████| 1/1 [00:00<00:00, 426.16it/s]"
     ]
    },
    {
     "name": "stdout",
     "output_type": "stream",
     "text": [
      "\n"
     ]
    }
   ],
   "source": [
    "initialise_database()\n",
    "exp = load_or_create_experiment(experiment_name='tutorial_exp', sample_name=\"no sample\")"
   ]
  },
  {
   "cell_type": "markdown",
   "metadata": {},
   "source": [
    "Here, we define a simple function to benchmark the time it takes to insert n points with either numeric or array data type.\n",
    "We will compare both the time used to call ``add_result`` and the time used for the full measurement."
   ]
  },
  {
   "cell_type": "code",
   "execution_count": 4,
   "metadata": {
    "execution": {
     "iopub.execute_input": "2021-02-26T07:35:38.804269Z",
     "iopub.status.busy": "2021-02-26T07:35:38.803309Z",
     "iopub.status.idle": "2021-02-26T07:35:38.806917Z",
     "shell.execute_reply": "2021-02-26T07:35:38.806392Z"
    }
   },
   "outputs": [],
   "source": [
    "def insert_data(paramtype, npoints, nreps=1):\n",
    "\n",
    "    meas = Measurement(exp=exp)\n",
    "\n",
    "    x1 = ManualParameter('x1')\n",
    "    x2 = ManualParameter('x2')\n",
    "    x3 = ManualParameter('x3')\n",
    "    y1 = ManualParameter('y1')\n",
    "    y2 = ManualParameter('y2')\n",
    "\n",
    "    meas.register_parameter(x1, paramtype=paramtype)\n",
    "    meas.register_parameter(x2, paramtype=paramtype)\n",
    "    meas.register_parameter(x3, paramtype=paramtype)\n",
    "    meas.register_parameter(y1, setpoints=[x1, x2, x3],\n",
    "                            paramtype=paramtype)\n",
    "    meas.register_parameter(y2, setpoints=[x1, x2, x3],\n",
    "                            paramtype=paramtype)\n",
    "    start = time.perf_counter()\n",
    "    with meas.run() as datasaver:\n",
    "        start_adding = time.perf_counter()\n",
    "        for i in range(nreps):\n",
    "            datasaver.add_result((x1, np.random.rand(npoints)),\n",
    "                                 (x2, np.random.rand(npoints)),\n",
    "                                 (x3, np.random.rand(npoints)),\n",
    "                                 (y1, np.random.rand(npoints)),\n",
    "                                 (y2, np.random.rand(npoints)))\n",
    "        stop_adding = time.perf_counter()\n",
    "        run_id = datasaver.run_id\n",
    "    stop = time.perf_counter()\n",
    "    tot_time = stop - start\n",
    "    add_time = stop_adding - start_adding\n",
    "    return tot_time, add_time, run_id"
   ]
  },
  {
   "cell_type": "markdown",
   "metadata": {},
   "source": [
    "## Comparison between numeric/array data and binary blob"
   ]
  },
  {
   "cell_type": "markdown",
   "metadata": {},
   "source": [
    "### Case1: Short experiment time"
   ]
  },
  {
   "cell_type": "code",
   "execution_count": 5,
   "metadata": {
    "execution": {
     "iopub.execute_input": "2021-02-26T07:35:38.813892Z",
     "iopub.status.busy": "2021-02-26T07:35:38.812565Z",
     "iopub.status.idle": "2021-02-26T07:35:39.741472Z",
     "shell.execute_reply": "2021-02-26T07:35:39.740665Z"
    }
   },
   "outputs": [
    {
     "name": "stdout",
     "output_type": "stream",
     "text": [
      "Starting experimental run with id: 1. \n",
      "Starting experimental run with id: 2. \n",
      "Starting experimental run with id: 3. \n",
      "Starting experimental run with id: 4. \n"
     ]
    },
    {
     "name": "stdout",
     "output_type": "stream",
     "text": [
      "Starting experimental run with id: 5. \n"
     ]
    },
    {
     "name": "stdout",
     "output_type": "stream",
     "text": [
      "Starting experimental run with id: 6. \n",
      "Starting experimental run with id: 7. \n"
     ]
    },
    {
     "name": "stdout",
     "output_type": "stream",
     "text": [
      "Starting experimental run with id: 8. \n",
      "Starting experimental run with id: 9. \n"
     ]
    },
    {
     "name": "stdout",
     "output_type": "stream",
     "text": [
      "Starting experimental run with id: 10. \n",
      "Starting experimental run with id: 11. \n"
     ]
    },
    {
     "name": "stdout",
     "output_type": "stream",
     "text": [
      "Starting experimental run with id: 12. \n"
     ]
    },
    {
     "name": "stdout",
     "output_type": "stream",
     "text": [
      "Starting experimental run with id: 13. \n"
     ]
    },
    {
     "name": "stdout",
     "output_type": "stream",
     "text": [
      "Starting experimental run with id: 14. \n"
     ]
    }
   ],
   "source": [
    "sizes = [1,500,1000,2000,3000,4000,5000]\n",
    "t_numeric = []\n",
    "t_numeric_add = []\n",
    "t_array = []\n",
    "t_array_add = []\n",
    "for size in sizes:\n",
    "    tn, tna, run_id_n =  insert_data('numeric', size)\n",
    "    t_numeric.append(tn)\n",
    "    t_numeric_add.append(tna)\n",
    "\n",
    "    ta, taa, run_id_a =  insert_data('array', size)\n",
    "    t_array.append(ta)\n",
    "    t_array_add.append(taa)"
   ]
  },
  {
   "cell_type": "code",
   "execution_count": 6,
   "metadata": {
    "execution": {
     "iopub.execute_input": "2021-02-26T07:35:39.792128Z",
     "iopub.status.busy": "2021-02-26T07:35:39.791051Z",
     "iopub.status.idle": "2021-02-26T07:35:39.977229Z",
     "shell.execute_reply": "2021-02-26T07:35:39.976294Z"
    }
   },
   "outputs": [
    {
     "data": {
      "image/png": "[encoded data removed]",
      "text/plain": [
       "<Figure size 432x288 with 1 Axes>"
      ]
     },
     "metadata": {
      "needs_background": "light"
     },
     "output_type": "display_data"
    }
   ],
   "source": [
    "fig, ax = plt.subplots(1,1)\n",
    "ax.plot(sizes, t_numeric, 'o-', label='Inserting row-by-row')\n",
    "ax.plot(sizes, t_numeric_add, 'o-', label='Inserting row-by-row: add_result only')\n",
    "ax.plot(sizes, t_array, 'd-', label='Inserting as binary blob')\n",
    "ax.plot(sizes, t_array_add, 'd-', label='Inserting as binary blob: add_result only')\n",
    "ax.legend()\n",
    "ax.set_xlabel('Array length')\n",
    "ax.set_ylabel('Time (s)')\n",
    "fig.tight_layout()"
   ]
  },
  {
   "cell_type": "markdown",
   "metadata": {},
   "source": [
    "As shown in the latter figure, the time to setup and and close the experiment is approximately 0.4 sec. In case of small array sizes, the difference between inserting values of data as arrays and inserting them row-by-row is relatively unimportant. At larger array sizes, i.e. above 10000 points, the cost of writing data as individual datapoints starts to become important.\n"
   ]
  },
  {
   "cell_type": "markdown",
   "metadata": {},
   "source": [
    "### Case2: Long experiment time "
   ]
  },
  {
   "cell_type": "code",
   "execution_count": 7,
   "metadata": {
    "execution": {
     "iopub.execute_input": "2021-02-26T07:35:39.985990Z",
     "iopub.status.busy": "2021-02-26T07:35:39.984949Z",
     "iopub.status.idle": "2021-02-26T07:36:42.289710Z",
     "shell.execute_reply": "2021-02-26T07:36:42.289086Z"
    }
   },
   "outputs": [
    {
     "name": "stdout",
     "output_type": "stream",
     "text": [
      "Starting experimental run with id: 15. \n",
      "Starting experimental run with id: 16. \n",
      "Starting experimental run with id: 17. \n"
     ]
    },
    {
     "name": "stdout",
     "output_type": "stream",
     "text": [
      "Starting experimental run with id: 18. \n"
     ]
    },
    {
     "name": "stdout",
     "output_type": "stream",
     "text": [
      "Starting experimental run with id: 19. \n"
     ]
    },
    {
     "name": "stdout",
     "output_type": "stream",
     "text": [
      "Starting experimental run with id: 20. \n"
     ]
    },
    {
     "name": "stdout",
     "output_type": "stream",
     "text": [
      "Starting experimental run with id: 21. \n"
     ]
    },
    {
     "name": "stdout",
     "output_type": "stream",
     "text": [
      "Starting experimental run with id: 22. \n"
     ]
    },
    {
     "name": "stdout",
     "output_type": "stream",
     "text": [
      "Starting experimental run with id: 23. \n"
     ]
    },
    {
     "name": "stdout",
     "output_type": "stream",
     "text": [
      "Starting experimental run with id: 24. \n"
     ]
    },
    {
     "name": "stdout",
     "output_type": "stream",
     "text": [
      "Starting experimental run with id: 25. \n"
     ]
    },
    {
     "name": "stdout",
     "output_type": "stream",
     "text": [
      "Starting experimental run with id: 26. \n"
     ]
    },
    {
     "name": "stdout",
     "output_type": "stream",
     "text": [
      "Starting experimental run with id: 27. \n"
     ]
    },
    {
     "name": "stdout",
     "output_type": "stream",
     "text": [
      "Starting experimental run with id: 28. \n"
     ]
    }
   ],
   "source": [
    "sizes = [1,500,1000,2000,3000,4000,5000]\n",
    "nreps = 100\n",
    "t_numeric = []\n",
    "t_numeric_add = []\n",
    "t_numeric_run_ids = []\n",
    "t_array = []\n",
    "t_array_add = []\n",
    "t_array_run_ids = []\n",
    "for size in sizes:\n",
    "    tn, tna, run_id_n =  insert_data('numeric', size, nreps=nreps)\n",
    "    t_numeric.append(tn)\n",
    "    t_numeric_add.append(tna)\n",
    "    t_numeric_run_ids.append(run_id_n)\n",
    "\n",
    "    ta, taa, run_id_a =  insert_data('array', size, nreps=nreps)\n",
    "    t_array.append(ta)\n",
    "    t_array_add.append(taa)\n",
    "    t_array_run_ids.append(run_id_a)"
   ]
  },
  {
   "cell_type": "code",
   "execution_count": 8,
   "metadata": {
    "execution": {
     "iopub.execute_input": "2021-02-26T07:36:42.333453Z",
     "iopub.status.busy": "2021-02-26T07:36:42.332237Z",
     "iopub.status.idle": "2021-02-26T07:36:42.511539Z",
     "shell.execute_reply": "2021-02-26T07:36:42.511020Z"
    },
    "scrolled": true
   },
   "outputs": [
    {
     "data": {
      "image/png": "[encoded data removed]",
      "text/plain": [
       "<Figure size 432x288 with 1 Axes>"
      ]
     },
     "metadata": {
      "needs_background": "light"
     },
     "output_type": "display_data"
    }
   ],
   "source": [
    "fig, ax = plt.subplots(1,1)\n",
    "ax.plot(sizes, t_numeric, 'o-', label='Inserting row-by-row')\n",
    "ax.plot(sizes, t_numeric_add, 'o-', label='Inserting row-by-row: add_result only')\n",
    "ax.plot(sizes, t_array, 'd-', label='Inserting as binary blob')\n",
    "ax.plot(sizes, t_array_add, 'd-', label='Inserting as binary blob: add_result only')\n",
    "ax.legend()\n",
    "ax.set_xlabel('Array length')\n",
    "ax.set_ylabel('Time (s)')\n",
    "fig.tight_layout()"
   ]
  },
  {
   "cell_type": "markdown",
   "metadata": {},
   "source": [
    "However, as we increase the length of the experiment, as seen here by repeating the insertion 100 times, we see a big difference between inserting values of the data row-by-row and inserting it as a binary blob."
   ]
  },
  {
   "cell_type": "markdown",
   "metadata": {},
   "source": [
    "## Loading the data "
   ]
  },
  {
   "cell_type": "code",
   "execution_count": 9,
   "metadata": {
    "execution": {
     "iopub.execute_input": "2021-02-26T07:36:42.516111Z",
     "iopub.status.busy": "2021-02-26T07:36:42.515419Z",
     "iopub.status.idle": "2021-02-26T07:36:42.519425Z",
     "shell.execute_reply": "2021-02-26T07:36:42.518945Z"
    }
   },
   "outputs": [],
   "source": [
    "from qcodes.dataset.data_set import load_by_id\n",
    "from qcodes.dataset.data_export import get_data_by_id"
   ]
  },
  {
   "cell_type": "markdown",
   "metadata": {},
   "source": [
    "As usual you can load the data by using the ``load_by_id`` function but you will notice that the different storage methods\n",
    "are reflected in shape of the data as it is retrieved. "
   ]
  },
  {
   "cell_type": "code",
   "execution_count": 10,
   "metadata": {
    "execution": {
     "iopub.execute_input": "2021-02-26T07:36:42.524482Z",
     "iopub.status.busy": "2021-02-26T07:36:42.523130Z",
     "iopub.status.idle": "2021-02-26T07:36:42.525137Z",
     "shell.execute_reply": "2021-02-26T07:36:42.525608Z"
    }
   },
   "outputs": [],
   "source": [
    "run_id_n = t_numeric_run_ids[0]\n",
    "run_id_a = t_array_run_ids[0]"
   ]
  },
  {
   "cell_type": "code",
   "execution_count": 11,
   "metadata": {
    "execution": {
     "iopub.execute_input": "2021-02-26T07:36:42.529310Z",
     "iopub.status.busy": "2021-02-26T07:36:42.528756Z",
     "iopub.status.idle": "2021-02-26T07:36:42.539049Z",
     "shell.execute_reply": "2021-02-26T07:36:42.539490Z"
    },
    "scrolled": true
   },
   "outputs": [
    {
     "data": {
      "text/plain": [
       "{'x1': {'x1': array([0.95005651, 0.95005651, 0.68191073, 0.68191073, 0.10249168,\n",
       "         0.10249168, 0.48736368, 0.48736368, 0.30511441, 0.30511441,\n",
       "         0.90951757, 0.90951757, 0.769187  , 0.769187  , 0.27531439,\n",
       "         0.27531439, 0.94642353, 0.94642353, 0.49319455, 0.49319455,\n",
       "         0.06394582, 0.06394582, 0.67400178, 0.67400178, 0.91951592,\n",
       "         0.91951592, 0.66315656, 0.66315656, 0.51372086, 0.51372086,\n",
       "         0.36540561, 0.36540561, 0.65950726, 0.65950726, 0.93459502,\n",
       "         0.93459502, 0.45260525, 0.45260525, 0.77556919, 0.77556919,\n",
       "         0.14838315, 0.14838315, 0.29085981, 0.29085981, 0.47298855,\n",
       "         0.47298855, 0.13866018, 0.13866018, 0.09415096, 0.09415096,\n",
       "         0.39315206, 0.39315206, 0.3864377 , 0.3864377 , 0.9739162 ,\n",
       "         0.9739162 , 0.36323411, 0.36323411, 0.224909  , 0.224909  ,\n",
       "         0.69962339, 0.69962339, 0.95019285, 0.95019285, 0.09937848,\n",
       "         0.09937848, 0.03969853, 0.03969853, 0.46809694, 0.46809694,\n",
       "         0.57370824, 0.57370824, 0.91897173, 0.91897173, 0.69131178,\n",
       "         0.69131178, 0.72933643, 0.72933643, 0.0844995 , 0.0844995 ,\n",
       "         0.19526687, 0.19526687, 0.81879947, 0.81879947, 0.89671908,\n",
       "         0.89671908, 0.55136307, 0.55136307, 0.86269339, 0.86269339,\n",
       "         0.99789939, 0.99789939, 0.61358624, 0.61358624, 0.64666359,\n",
       "         0.64666359, 0.69084037, 0.69084037, 0.67093454, 0.67093454,\n",
       "         0.85935321, 0.85935321, 0.77320545, 0.77320545, 0.08594856,\n",
       "         0.08594856, 0.14806276, 0.14806276, 0.9452082 , 0.9452082 ,\n",
       "         0.43741492, 0.43741492, 0.87655833, 0.87655833, 0.02320567,\n",
       "         0.02320567, 0.8307098 , 0.8307098 , 0.77731033, 0.77731033,\n",
       "         0.35372922, 0.35372922, 0.43270391, 0.43270391, 0.9585104 ,\n",
       "         0.9585104 , 0.61371179, 0.61371179, 0.40927454, 0.40927454,\n",
       "         0.70704677, 0.70704677, 0.6756987 , 0.6756987 , 0.40999171,\n",
       "         0.40999171, 0.09509634, 0.09509634, 0.09097462, 0.09097462,\n",
       "         0.6224835 , 0.6224835 , 0.12866811, 0.12866811, 0.47783178,\n",
       "         0.47783178, 0.69069982, 0.69069982, 0.67418024, 0.67418024,\n",
       "         0.09338058, 0.09338058, 0.30969144, 0.30969144, 0.87609491,\n",
       "         0.87609491, 0.24109531, 0.24109531, 0.40323967, 0.40323967,\n",
       "         0.22413207, 0.22413207, 0.71229427, 0.71229427, 0.96322208,\n",
       "         0.96322208, 0.5534804 , 0.5534804 , 0.43506209, 0.43506209,\n",
       "         0.89308234, 0.89308234, 0.32527759, 0.32527759, 0.50825915,\n",
       "         0.50825915, 0.17934879, 0.17934879, 0.86445896, 0.86445896,\n",
       "         0.66981116, 0.66981116, 0.43251535, 0.43251535, 0.90601239,\n",
       "         0.90601239, 0.33526811, 0.33526811, 0.37044216, 0.37044216,\n",
       "         0.8524485 , 0.8524485 , 0.4492726 , 0.4492726 , 0.19288651,\n",
       "         0.19288651, 0.64972514, 0.64972514, 0.67052786, 0.67052786])}}"
      ]
     },
     "execution_count": 1,
     "metadata": {},
     "output_type": "execute_result"
    }
   ],
   "source": [
    "ds = load_by_id(run_id_n)\n",
    "ds.get_parameter_data('x1')"
   ]
  },
  {
   "cell_type": "markdown",
   "metadata": {},
   "source": [
    "And a dataset stored as binary arrays"
   ]
  },
  {
   "cell_type": "code",
   "execution_count": 12,
   "metadata": {
    "execution": {
     "iopub.execute_input": "2021-02-26T07:36:42.543231Z",
     "iopub.status.busy": "2021-02-26T07:36:42.542666Z",
     "iopub.status.idle": "2021-02-26T07:36:42.601634Z",
     "shell.execute_reply": "2021-02-26T07:36:42.602262Z"
    },
    "scrolled": true
   },
   "outputs": [
    {
     "data": {
      "text/plain": [
       "{'x1': {'x1': array([[0.65893318],\n",
       "         [0.65893318],\n",
       "         [0.73382543],\n",
       "         [0.73382543],\n",
       "         [0.1477354 ],\n",
       "         [0.1477354 ],\n",
       "         [0.14053784],\n",
       "         [0.14053784],\n",
       "         [0.39835224],\n",
       "         [0.39835224],\n",
       "         [0.02531759],\n",
       "         [0.02531759],\n",
       "         [0.95442943],\n",
       "         [0.95442943],\n",
       "         [0.05755214],\n",
       "         [0.05755214],\n",
       "         [0.00156225],\n",
       "         [0.00156225],\n",
       "         [0.31203291],\n",
       "         [0.31203291],\n",
       "         [0.29397695],\n",
       "         [0.29397695],\n",
       "         [0.71848586],\n",
       "         [0.71848586],\n",
       "         [0.84085197],\n",
       "         [0.84085197],\n",
       "         [0.38361953],\n",
       "         [0.38361953],\n",
       "         [0.02275913],\n",
       "         [0.02275913],\n",
       "         [0.9566421 ],\n",
       "         [0.9566421 ],\n",
       "         [0.6556413 ],\n",
       "         [0.6556413 ],\n",
       "         [0.74614179],\n",
       "         [0.74614179],\n",
       "         [0.79473264],\n",
       "         [0.79473264],\n",
       "         [0.75901291],\n",
       "         [0.75901291],\n",
       "         [0.57845163],\n",
       "         [0.57845163],\n",
       "         [0.52233385],\n",
       "         [0.52233385],\n",
       "         [0.35910442],\n",
       "         [0.35910442],\n",
       "         [0.7488788 ],\n",
       "         [0.7488788 ],\n",
       "         [0.56091155],\n",
       "         [0.56091155],\n",
       "         [0.86450394],\n",
       "         [0.86450394],\n",
       "         [0.75679335],\n",
       "         [0.75679335],\n",
       "         [0.8019428 ],\n",
       "         [0.8019428 ],\n",
       "         [0.05252931],\n",
       "         [0.05252931],\n",
       "         [0.01824001],\n",
       "         [0.01824001],\n",
       "         [0.29154725],\n",
       "         [0.29154725],\n",
       "         [0.38643222],\n",
       "         [0.38643222],\n",
       "         [0.66694618],\n",
       "         [0.66694618],\n",
       "         [0.96229016],\n",
       "         [0.96229016],\n",
       "         [0.75011124],\n",
       "         [0.75011124],\n",
       "         [0.57413929],\n",
       "         [0.57413929],\n",
       "         [0.07532719],\n",
       "         [0.07532719],\n",
       "         [0.3320251 ],\n",
       "         [0.3320251 ],\n",
       "         [0.43661073],\n",
       "         [0.43661073],\n",
       "         [0.13236815],\n",
       "         [0.13236815],\n",
       "         [0.38394103],\n",
       "         [0.38394103],\n",
       "         [0.6980331 ],\n",
       "         [0.6980331 ],\n",
       "         [0.46483049],\n",
       "         [0.46483049],\n",
       "         [0.74780118],\n",
       "         [0.74780118],\n",
       "         [0.42888522],\n",
       "         [0.42888522],\n",
       "         [0.79237858],\n",
       "         [0.79237858],\n",
       "         [0.04287133],\n",
       "         [0.04287133],\n",
       "         [0.68822929],\n",
       "         [0.68822929],\n",
       "         [0.36442666],\n",
       "         [0.36442666],\n",
       "         [0.40112744],\n",
       "         [0.40112744],\n",
       "         [0.13659406],\n",
       "         [0.13659406],\n",
       "         [0.0089126 ],\n",
       "         [0.0089126 ],\n",
       "         [0.23811748],\n",
       "         [0.23811748],\n",
       "         [0.57274573],\n",
       "         [0.57274573],\n",
       "         [0.56954697],\n",
       "         [0.56954697],\n",
       "         [0.96286746],\n",
       "         [0.96286746],\n",
       "         [0.57843049],\n",
       "         [0.57843049],\n",
       "         [0.80091591],\n",
       "         [0.80091591],\n",
       "         [0.0624156 ],\n",
       "         [0.0624156 ],\n",
       "         [0.07467748],\n",
       "         [0.07467748],\n",
       "         [0.46095763],\n",
       "         [0.46095763],\n",
       "         [0.42506839],\n",
       "         [0.42506839],\n",
       "         [0.93146006],\n",
       "         [0.93146006],\n",
       "         [0.48388997],\n",
       "         [0.48388997],\n",
       "         [0.17683707],\n",
       "         [0.17683707],\n",
       "         [0.63716109],\n",
       "         [0.63716109],\n",
       "         [0.54523696],\n",
       "         [0.54523696],\n",
       "         [0.7701376 ],\n",
       "         [0.7701376 ],\n",
       "         [0.49032849],\n",
       "         [0.49032849],\n",
       "         [0.48987759],\n",
       "         [0.48987759],\n",
       "         [0.12009259],\n",
       "         [0.12009259],\n",
       "         [0.04763863],\n",
       "         [0.04763863],\n",
       "         [0.3743298 ],\n",
       "         [0.3743298 ],\n",
       "         [0.85006605],\n",
       "         [0.85006605],\n",
       "         [0.81041065],\n",
       "         [0.81041065],\n",
       "         [0.28901688],\n",
       "         [0.28901688],\n",
       "         [0.31587922],\n",
       "         [0.31587922],\n",
       "         [0.54605413],\n",
       "         [0.54605413],\n",
       "         [0.97399293],\n",
       "         [0.97399293],\n",
       "         [0.08256162],\n",
       "         [0.08256162],\n",
       "         [0.23215108],\n",
       "         [0.23215108],\n",
       "         [0.77582224],\n",
       "         [0.77582224],\n",
       "         [0.82544702],\n",
       "         [0.82544702],\n",
       "         [0.38749159],\n",
       "         [0.38749159],\n",
       "         [0.54371257],\n",
       "         [0.54371257],\n",
       "         [0.16600679],\n",
       "         [0.16600679],\n",
       "         [0.04628775],\n",
       "         [0.04628775],\n",
       "         [0.39470729],\n",
       "         [0.39470729],\n",
       "         [0.09665237],\n",
       "         [0.09665237],\n",
       "         [0.68052815],\n",
       "         [0.68052815],\n",
       "         [0.49614333],\n",
       "         [0.49614333],\n",
       "         [0.26486662],\n",
       "         [0.26486662],\n",
       "         [0.35080237],\n",
       "         [0.35080237],\n",
       "         [0.8957201 ],\n",
       "         [0.8957201 ],\n",
       "         [0.26216013],\n",
       "         [0.26216013],\n",
       "         [0.91803804],\n",
       "         [0.91803804],\n",
       "         [0.09822512],\n",
       "         [0.09822512],\n",
       "         [0.61051398],\n",
       "         [0.61051398],\n",
       "         [0.58390699],\n",
       "         [0.58390699],\n",
       "         [0.14838779],\n",
       "         [0.14838779]])}}"
      ]
     },
     "execution_count": 1,
     "metadata": {},
     "output_type": "execute_result"
    }
   ],
   "source": [
    "ds = load_by_id(run_id_a)\n",
    "ds.get_parameter_data('x1')"
   ]
  },
  {
   "cell_type": "code",
   "execution_count": null,
   "metadata": {},
   "outputs": [],
   "source": []
  }
 ],
 "metadata": {
  "kernelspec": {
   "display_name": "Python 3",
   "language": "python",
   "name": "python3"
  },
  "language_info": {
   "codemirror_mode": {
    "name": "ipython",
    "version": 3
   },
   "file_extension": ".py",
   "mimetype": "text/x-python",
   "name": "python",
   "nbconvert_exporter": "python",
   "pygments_lexer": "ipython3",
   "version": "3.7.10"
  },
  "nbsphinx": {
   "timeout": 600
  },
  "toc": {
   "base_numbering": 1,
   "nav_menu": {},
   "number_sections": true,
   "sideBar": true,
   "skip_h1_title": false,
   "title_cell": "Table of Contents",
   "title_sidebar": "Contents",
   "toc_cell": false,
   "toc_position": {},
   "toc_section_display": true,
   "toc_window_display": false
  },
  "varInspector": {
   "cols": {
    "lenName": 16,
    "lenType": 16,
    "lenVar": 40
   },
   "kernels_config": {
    "python": {
     "delete_cmd_postfix": "",
     "delete_cmd_prefix": "del ",
     "library": "var_list.py",
     "varRefreshCmd": "print(var_dic_list())"
    },
    "r": {
     "delete_cmd_postfix": ") ",
     "delete_cmd_prefix": "rm(",
     "library": "var_list.r",
     "varRefreshCmd": "cat(var_dic_list()) "
    }
   },
   "types_to_exclude": [
    "module",
    "function",
    "builtin_function_or_method",
    "instance",
    "_Feature"
   ],
   "window_display": false
  }
 },
 "nbformat": 4,
 "nbformat_minor": 2
}
