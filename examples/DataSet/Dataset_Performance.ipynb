{
 "cells": [
  {
   "cell_type": "markdown",
   "metadata": {},
   "source": [
    "# DataSet Performance\n",
    "\n",
    "This notebook shows the trade-off between inserting data into a database row-by-row and as binary blobs. Inserting the data row-by-row means that we have direct access to all the data and may perform queries directly on the values of the data. On the other hand, as we shall see, this is much slower than inserting the data directly as binary blobs."
   ]
  },
  {
   "cell_type": "markdown",
   "metadata": {},
   "source": [
    "First, we choose a new location for the database to ensure that we don't add a bunch of benchmarking data to the default one."
   ]
  },
  {
   "cell_type": "code",
   "execution_count": 1,
   "metadata": {},
   "outputs": [
    {
     "name": "stdout",
     "output_type": "stream",
     "text": [
      "Logging hadn't been started.\n",
      "Activating auto-logging. Current session state plus future input saved.\n",
      "Filename       : /home/vsts/.qcodes/logs/command_history.log\n",
      "Mode           : append\n",
      "Output logging : True\n",
      "Raw input log  : False\n",
      "Timestamping   : True\n",
      "State          : active\n"
     ]
    },
    {
     "name": "stdout",
     "output_type": "stream",
     "text": [
      "Qcodes Logfile : /home/vsts/.qcodes/logs/200720-19089-qcodes.log\n"
     ]
    }
   ],
   "source": [
    "import os\n",
    "cwd = os.getcwd()\n",
    "import qcodes as qc\n",
    "qc.config[\"core\"][\"db_location\"] = os.path.join(cwd, 'testing.db')\n"
   ]
  },
  {
   "cell_type": "code",
   "execution_count": 2,
   "metadata": {},
   "outputs": [],
   "source": [
    "%matplotlib inline\n",
    "import time\n",
    "import matplotlib.pyplot as plt\n",
    "import numpy as np\n",
    "\n",
    "import qcodes as qc\n",
    "from qcodes.instrument.parameter import ManualParameter\n",
    "from qcodes.dataset.experiment_container import (Experiment,\n",
    "                                                 load_last_experiment,\n",
    "                                                 new_experiment)\n",
    "from qcodes.dataset.sqlite.database import initialise_database\n",
    "from qcodes import load_or_create_experiment\n",
    "from qcodes.dataset.measurements import Measurement"
   ]
  },
  {
   "cell_type": "code",
   "execution_count": 3,
   "metadata": {},
   "outputs": [
    {
     "name": "stdout",
     "output_type": "stream",
     "text": [
      "\r",
      "0it [00:00, ?it/s]"
     ]
    },
    {
     "name": "stdout",
     "output_type": "stream",
     "text": [
      "\r",
      "Upgrading database; v0 -> v1: : 0it [00:00, ?it/s]"
     ]
    },
    {
     "name": "stdout",
     "output_type": "stream",
     "text": [
      "\r",
      "Upgrading database; v0 -> v1: : 0it [00:00, ?it/s]"
     ]
    },
    {
     "name": "stdout",
     "output_type": "stream",
     "text": [
      "\n",
      "\r",
      "  0%|          | 0/1 [00:00<?, ?it/s]"
     ]
    },
    {
     "name": "stdout",
     "output_type": "stream",
     "text": [
      "\r",
      "Upgrading database; v1 -> v2:   0%|          | 0/1 [00:00<?, ?it/s]"
     ]
    },
    {
     "name": "stdout",
     "output_type": "stream",
     "text": [
      "\r",
      "Upgrading database; v1 -> v2: 100%|██████████| 1/1 [00:00<00:00, 923.65it/s]"
     ]
    },
    {
     "name": "stdout",
     "output_type": "stream",
     "text": [
      "\n",
      "\r",
      "0it [00:00, ?it/s]"
     ]
    },
    {
     "name": "stdout",
     "output_type": "stream",
     "text": [
      "\r",
      "Upgrading database; v2 -> v3: : 0it [00:00, ?it/s]"
     ]
    },
    {
     "name": "stdout",
     "output_type": "stream",
     "text": [
      "\r",
      "Upgrading database; v2 -> v3: : 0it [00:00, ?it/s]"
     ]
    },
    {
     "name": "stdout",
     "output_type": "stream",
     "text": [
      "\n",
      "\r",
      "0it [00:00, ?it/s]"
     ]
    },
    {
     "name": "stdout",
     "output_type": "stream",
     "text": [
      "\r",
      "Upgrading database; v3 -> v4: : 0it [00:00, ?it/s]"
     ]
    },
    {
     "name": "stdout",
     "output_type": "stream",
     "text": [
      "\r",
      "Upgrading database; v3 -> v4: : 0it [00:00, ?it/s]"
     ]
    },
    {
     "name": "stdout",
     "output_type": "stream",
     "text": [
      "\n",
      "\r",
      "  0%|          | 0/1 [00:00<?, ?it/s]"
     ]
    },
    {
     "name": "stdout",
     "output_type": "stream",
     "text": [
      "\r",
      "Upgrading database; v4 -> v5:   0%|          | 0/1 [00:00<?, ?it/s]"
     ]
    },
    {
     "name": "stdout",
     "output_type": "stream",
     "text": [
      "\r",
      "Upgrading database; v4 -> v5: 100%|██████████| 1/1 [00:00<00:00, 894.12it/s]"
     ]
    },
    {
     "name": "stdout",
     "output_type": "stream",
     "text": [
      "\n",
      "\r",
      "0it [00:00, ?it/s]"
     ]
    },
    {
     "name": "stdout",
     "output_type": "stream",
     "text": [
      "\r",
      "Upgrading database; v5 -> v6: : 0it [00:00, ?it/s]"
     ]
    },
    {
     "name": "stdout",
     "output_type": "stream",
     "text": [
      "\r",
      "Upgrading database; v5 -> v6: : 0it [00:00, ?it/s]"
     ]
    },
    {
     "name": "stdout",
     "output_type": "stream",
     "text": [
      "\n",
      "\r",
      "  0%|          | 0/1 [00:00<?, ?it/s]"
     ]
    },
    {
     "name": "stdout",
     "output_type": "stream",
     "text": [
      "\r",
      "Upgrading database; v6 -> v7:   0%|          | 0/1 [00:00<?, ?it/s]"
     ]
    },
    {
     "name": "stdout",
     "output_type": "stream",
     "text": [
      "\r",
      "Upgrading database; v6 -> v7: 100%|██████████| 1/1 [00:00<00:00, 462.44it/s]"
     ]
    },
    {
     "name": "stdout",
     "output_type": "stream",
     "text": [
      "\n",
      "\r",
      "  0%|          | 0/1 [00:00<?, ?it/s]"
     ]
    },
    {
     "name": "stdout",
     "output_type": "stream",
     "text": [
      "\r",
      "Upgrading database; v7 -> v8:   0%|          | 0/1 [00:00<?, ?it/s]"
     ]
    },
    {
     "name": "stdout",
     "output_type": "stream",
     "text": [
      "\r",
      "Upgrading database; v7 -> v8: 100%|██████████| 1/1 [00:00<00:00, 813.95it/s]"
     ]
    },
    {
     "name": "stdout",
     "output_type": "stream",
     "text": [
      "\n",
      "\r",
      "  0%|          | 0/1 [00:00<?, ?it/s]"
     ]
    },
    {
     "name": "stdout",
     "output_type": "stream",
     "text": [
      "\r",
      "Upgrading database; v8 -> v9:   0%|          | 0/1 [00:00<?, ?it/s]"
     ]
    },
    {
     "name": "stdout",
     "output_type": "stream",
     "text": [
      "\r",
      "Upgrading database; v8 -> v9: 100%|██████████| 1/1 [00:00<00:00, 905.90it/s]"
     ]
    },
    {
     "name": "stdout",
     "output_type": "stream",
     "text": [
      "\n"
     ]
    }
   ],
   "source": [
    "initialise_database()\n",
    "exp = load_or_create_experiment(experiment_name='tutorial_exp', sample_name=\"no sample\")"
   ]
  },
  {
   "cell_type": "markdown",
   "metadata": {},
   "source": [
    "Here, we define a simple function to benchmark the time it takes to insert n points with either numeric or array data type.\n",
    "We will compare both the time used to call ``add_result`` and the time used for the full measurement."
   ]
  },
  {
   "cell_type": "code",
   "execution_count": 4,
   "metadata": {},
   "outputs": [],
   "source": [
    "def insert_data(paramtype, npoints, nreps=1):\n",
    "\n",
    "    meas = Measurement(exp=exp)\n",
    "\n",
    "    x1 = ManualParameter('x1')\n",
    "    x2 = ManualParameter('x2')\n",
    "    x3 = ManualParameter('x3')\n",
    "    y1 = ManualParameter('y1')\n",
    "    y2 = ManualParameter('y2')\n",
    "\n",
    "    meas.register_parameter(x1, paramtype=paramtype)\n",
    "    meas.register_parameter(x2, paramtype=paramtype)\n",
    "    meas.register_parameter(x3, paramtype=paramtype)\n",
    "    meas.register_parameter(y1, setpoints=[x1, x2, x3],\n",
    "                            paramtype=paramtype)\n",
    "    meas.register_parameter(y2, setpoints=[x1, x2, x3],\n",
    "                            paramtype=paramtype)\n",
    "    start = time.perf_counter()\n",
    "    with meas.run() as datasaver:\n",
    "        start_adding = time.perf_counter()\n",
    "        for i in range(nreps):\n",
    "            datasaver.add_result((x1, np.random.rand(npoints)),\n",
    "                                 (x2, np.random.rand(npoints)),\n",
    "                                 (x3, np.random.rand(npoints)),\n",
    "                                 (y1, np.random.rand(npoints)),\n",
    "                                 (y2, np.random.rand(npoints)))\n",
    "        stop_adding = time.perf_counter()\n",
    "        run_id = datasaver.run_id\n",
    "    stop = time.perf_counter()\n",
    "    tot_time = stop - start\n",
    "    add_time = stop_adding - start_adding\n",
    "    return tot_time, add_time, run_id"
   ]
  },
  {
   "cell_type": "markdown",
   "metadata": {},
   "source": [
    "## Comparison between numeric/array data and binary blob"
   ]
  },
  {
   "cell_type": "markdown",
   "metadata": {},
   "source": [
    "### Case1: Short experiment time"
   ]
  },
  {
   "cell_type": "code",
   "execution_count": 5,
   "metadata": {},
   "outputs": [
    {
     "name": "stdout",
     "output_type": "stream",
     "text": [
      "Starting experimental run with id: 1. \n",
      "Starting experimental run with id: 2. \n",
      "Starting experimental run with id: 3. \n"
     ]
    },
    {
     "name": "stdout",
     "output_type": "stream",
     "text": [
      "Starting experimental run with id: 4. \n"
     ]
    },
    {
     "name": "stdout",
     "output_type": "stream",
     "text": [
      "Starting experimental run with id: 5. \n"
     ]
    },
    {
     "name": "stdout",
     "output_type": "stream",
     "text": [
      "Starting experimental run with id: 6. \n"
     ]
    },
    {
     "name": "stdout",
     "output_type": "stream",
     "text": [
      "Starting experimental run with id: 7. \n",
      "Starting experimental run with id: 8. \n"
     ]
    },
    {
     "name": "stdout",
     "output_type": "stream",
     "text": [
      "Starting experimental run with id: 9. \n"
     ]
    },
    {
     "name": "stdout",
     "output_type": "stream",
     "text": [
      "Starting experimental run with id: 10. \n",
      "Starting experimental run with id: 11. \n"
     ]
    },
    {
     "name": "stdout",
     "output_type": "stream",
     "text": [
      "Starting experimental run with id: 12. \n",
      "Starting experimental run with id: 13. \n"
     ]
    },
    {
     "name": "stdout",
     "output_type": "stream",
     "text": [
      "Starting experimental run with id: 14. \n"
     ]
    }
   ],
   "source": [
    "sizes = [1,500,1000,2000,3000,4000,5000]\n",
    "t_numeric = []\n",
    "t_numeric_add = []\n",
    "t_array = []\n",
    "t_array_add = []\n",
    "for size in sizes:\n",
    "    tn, tna, run_id_n =  insert_data('numeric', size)\n",
    "    t_numeric.append(tn)\n",
    "    t_numeric_add.append(tna)\n",
    "\n",
    "    ta, taa, run_id_a =  insert_data('array', size)\n",
    "    t_array.append(ta)\n",
    "    t_array_add.append(taa)"
   ]
  },
  {
   "cell_type": "code",
   "execution_count": 6,
   "metadata": {},
   "outputs": [
    {
     "data": {
      "image/png": "[encoded data removed]",
      "text/plain": [
       "<Figure size 432x288 with 1 Axes>"
      ]
     },
     "metadata": {
      "needs_background": "light"
     },
     "output_type": "display_data"
    }
   ],
   "source": [
    "fig, ax = plt.subplots(1,1)\n",
    "ax.plot(sizes, t_numeric, 'o-', label='Inserting row-by-row')\n",
    "ax.plot(sizes, t_numeric_add, 'o-', label='Inserting row-by-row: add_result only')\n",
    "ax.plot(sizes, t_array, 'd-', label='Inserting as binary blob')\n",
    "ax.plot(sizes, t_array_add, 'd-', label='Inserting as binary blob: add_result only')\n",
    "ax.legend()\n",
    "ax.set_xlabel('Array length')\n",
    "ax.set_ylabel('Time (s)')\n",
    "fig.tight_layout()"
   ]
  },
  {
   "cell_type": "markdown",
   "metadata": {},
   "source": [
    "As shown in the latter figure, the time to setup and and close the experiment is approximately 0.4 sec. In case of small array sizes, the difference between inserting values of data as arrays and inserting them row-by-row is relatively unimportant. At larger array sizes, i.e. above 10000 points, the cost of writing data as individual datapoints starts to become important.\n"
   ]
  },
  {
   "cell_type": "markdown",
   "metadata": {},
   "source": [
    "### Case2: Long experiment time "
   ]
  },
  {
   "cell_type": "code",
   "execution_count": 7,
   "metadata": {},
   "outputs": [
    {
     "name": "stdout",
     "output_type": "stream",
     "text": [
      "Starting experimental run with id: 15. \n",
      "Starting experimental run with id: 16. \n",
      "Starting experimental run with id: 17. \n"
     ]
    },
    {
     "name": "stdout",
     "output_type": "stream",
     "text": [
      "Starting experimental run with id: 18. \n",
      "Starting experimental run with id: 19. \n"
     ]
    },
    {
     "name": "stdout",
     "output_type": "stream",
     "text": [
      "Starting experimental run with id: 20. \n"
     ]
    },
    {
     "name": "stdout",
     "output_type": "stream",
     "text": [
      "Starting experimental run with id: 21. \n"
     ]
    },
    {
     "name": "stdout",
     "output_type": "stream",
     "text": [
      "Starting experimental run with id: 22. \n"
     ]
    },
    {
     "name": "stdout",
     "output_type": "stream",
     "text": [
      "Starting experimental run with id: 23. \n"
     ]
    },
    {
     "name": "stdout",
     "output_type": "stream",
     "text": [
      "Starting experimental run with id: 24. \n"
     ]
    },
    {
     "name": "stdout",
     "output_type": "stream",
     "text": [
      "Starting experimental run with id: 25. \n"
     ]
    },
    {
     "name": "stdout",
     "output_type": "stream",
     "text": [
      "Starting experimental run with id: 26. \n"
     ]
    },
    {
     "name": "stdout",
     "output_type": "stream",
     "text": [
      "Starting experimental run with id: 27. \n"
     ]
    },
    {
     "name": "stdout",
     "output_type": "stream",
     "text": [
      "Starting experimental run with id: 28. \n"
     ]
    }
   ],
   "source": [
    "sizes = [1,500,1000,2000,3000,4000,5000]\n",
    "nreps = 100\n",
    "t_numeric = []\n",
    "t_numeric_add = []\n",
    "t_numeric_run_ids = []\n",
    "t_array = []\n",
    "t_array_add = []\n",
    "t_array_run_ids = []\n",
    "for size in sizes:\n",
    "    tn, tna, run_id_n =  insert_data('numeric', size, nreps=nreps)\n",
    "    t_numeric.append(tn)\n",
    "    t_numeric_add.append(tna)\n",
    "    t_numeric_run_ids.append(run_id_n)\n",
    "\n",
    "    ta, taa, run_id_a =  insert_data('array', size, nreps=nreps)\n",
    "    t_array.append(ta)\n",
    "    t_array_add.append(taa)\n",
    "    t_array_run_ids.append(run_id_a)"
   ]
  },
  {
   "cell_type": "code",
   "execution_count": 8,
   "metadata": {
    "scrolled": true
   },
   "outputs": [
    {
     "data": {
      "image/png": "[encoded data removed]",
      "text/plain": [
       "<Figure size 432x288 with 1 Axes>"
      ]
     },
     "metadata": {
      "needs_background": "light"
     },
     "output_type": "display_data"
    }
   ],
   "source": [
    "fig, ax = plt.subplots(1,1)\n",
    "ax.plot(sizes, t_numeric, 'o-', label='Inserting row-by-row')\n",
    "ax.plot(sizes, t_numeric_add, 'o-', label='Inserting row-by-row: add_result only')\n",
    "ax.plot(sizes, t_array, 'd-', label='Inserting as binary blob')\n",
    "ax.plot(sizes, t_array_add, 'd-', label='Inserting as binary blob: add_result only')\n",
    "ax.legend()\n",
    "ax.set_xlabel('Array length')\n",
    "ax.set_ylabel('Time (s)')\n",
    "fig.tight_layout()"
   ]
  },
  {
   "cell_type": "markdown",
   "metadata": {},
   "source": [
    "However, as we increase the length of the experiment, as seen here by repeating the insertion 100 times, we see a big difference between inserting values of the data row-by-row and inserting it as a binary blob."
   ]
  },
  {
   "cell_type": "markdown",
   "metadata": {},
   "source": [
    "## Loading the data "
   ]
  },
  {
   "cell_type": "code",
   "execution_count": 9,
   "metadata": {},
   "outputs": [],
   "source": [
    "from qcodes.dataset.data_set import load_by_id\n",
    "from qcodes.dataset.data_export import get_data_by_id"
   ]
  },
  {
   "cell_type": "markdown",
   "metadata": {},
   "source": [
    "As usual you can load the data by using the ``load_by_id`` function but you will notice that the different storage methods\n",
    "are reflected in shape of the data as it is retrieved. "
   ]
  },
  {
   "cell_type": "code",
   "execution_count": 10,
   "metadata": {},
   "outputs": [],
   "source": [
    "run_id_n = t_numeric_run_ids[0]\n",
    "run_id_a = t_array_run_ids[0]"
   ]
  },
  {
   "cell_type": "code",
   "execution_count": 11,
   "metadata": {
    "scrolled": true
   },
   "outputs": [
    {
     "data": {
      "text/plain": [
       "{'x1': {'x1': array([1.25586059e-05, 1.25586059e-05, 6.63399792e-01, 6.63399792e-01,\n",
       "         5.37243159e-01, 5.37243159e-01, 9.58190316e-01, 9.58190316e-01,\n",
       "         1.01432715e-01, 1.01432715e-01, 5.34201873e-01, 5.34201873e-01,\n",
       "         4.17031864e-01, 4.17031864e-01, 2.12519082e-02, 2.12519082e-02,\n",
       "         6.13881776e-01, 6.13881776e-01, 4.89124809e-01, 4.89124809e-01,\n",
       "         3.97233615e-01, 3.97233615e-01, 8.77858365e-01, 8.77858365e-01,\n",
       "         2.88106665e-01, 2.88106665e-01, 6.96708266e-01, 6.96708266e-01,\n",
       "         3.89987210e-01, 3.89987210e-01, 2.68670904e-01, 2.68670904e-01,\n",
       "         3.68012181e-01, 3.68012181e-01, 5.47965477e-01, 5.47965477e-01,\n",
       "         4.54725377e-01, 4.54725377e-01, 9.28723939e-01, 9.28723939e-01,\n",
       "         7.99102770e-01, 7.99102770e-01, 2.72234955e-01, 2.72234955e-01,\n",
       "         5.72806985e-01, 5.72806985e-01, 1.54770673e-01, 1.54770673e-01,\n",
       "         6.14029061e-01, 6.14029061e-01, 4.15084420e-01, 4.15084420e-01,\n",
       "         4.31611183e-02, 4.31611183e-02, 1.90355113e-01, 1.90355113e-01,\n",
       "         7.44346288e-01, 7.44346288e-01, 4.73907448e-01, 4.73907448e-01,\n",
       "         3.78729419e-01, 3.78729419e-01, 3.45941062e-01, 3.45941062e-01,\n",
       "         1.30655549e-01, 1.30655549e-01, 7.07278182e-01, 7.07278182e-01,\n",
       "         1.00679386e-01, 1.00679386e-01, 5.48507118e-01, 5.48507118e-01,\n",
       "         6.99344244e-01, 6.99344244e-01, 2.78150590e-01, 2.78150590e-01,\n",
       "         1.17396898e-01, 1.17396898e-01, 7.93244913e-01, 7.93244913e-01,\n",
       "         9.07287601e-01, 9.07287601e-01, 9.13134660e-01, 9.13134660e-01,\n",
       "         5.24533001e-01, 5.24533001e-01, 4.70282805e-01, 4.70282805e-01,\n",
       "         7.87552544e-01, 7.87552544e-01, 9.44743548e-01, 9.44743548e-01,\n",
       "         4.23946608e-01, 4.23946608e-01, 2.96215951e-01, 2.96215951e-01,\n",
       "         8.34070328e-01, 8.34070328e-01, 8.60185124e-01, 8.60185124e-01,\n",
       "         7.27295548e-02, 7.27295548e-02, 6.04454719e-01, 6.04454719e-01,\n",
       "         1.97838199e-01, 1.97838199e-01, 6.99572360e-01, 6.99572360e-01,\n",
       "         1.78368886e-01, 1.78368886e-01, 4.76254803e-01, 4.76254803e-01,\n",
       "         8.41752404e-02, 8.41752404e-02, 6.19853847e-01, 6.19853847e-01,\n",
       "         2.14721303e-01, 2.14721303e-01, 7.94953266e-01, 7.94953266e-01,\n",
       "         2.29910336e-01, 2.29910336e-01, 9.37836219e-01, 9.37836219e-01,\n",
       "         4.17471100e-01, 4.17471100e-01, 5.46604875e-01, 5.46604875e-01,\n",
       "         8.04287285e-01, 8.04287285e-01, 2.79195399e-01, 2.79195399e-01,\n",
       "         4.85342890e-01, 4.85342890e-01, 4.66356763e-01, 4.66356763e-01,\n",
       "         8.66754865e-01, 8.66754865e-01, 1.80258359e-01, 1.80258359e-01,\n",
       "         5.99310548e-01, 5.99310548e-01, 6.58863997e-01, 6.58863997e-01,\n",
       "         1.32558586e-01, 1.32558586e-01, 5.79710355e-01, 5.79710355e-01,\n",
       "         3.37905988e-01, 3.37905988e-01, 2.89688153e-01, 2.89688153e-01,\n",
       "         3.63023369e-02, 3.63023369e-02, 8.41227187e-01, 8.41227187e-01,\n",
       "         2.03289307e-01, 2.03289307e-01, 3.46765421e-01, 3.46765421e-01,\n",
       "         5.28092287e-01, 5.28092287e-01, 2.88328834e-01, 2.88328834e-01,\n",
       "         2.99090304e-01, 2.99090304e-01, 9.33049223e-01, 9.33049223e-01,\n",
       "         7.99184354e-01, 7.99184354e-01, 4.16285592e-01, 4.16285592e-01,\n",
       "         6.21022180e-01, 6.21022180e-01, 1.94277057e-01, 1.94277057e-01,\n",
       "         1.68806456e-01, 1.68806456e-01, 5.90130921e-01, 5.90130921e-01,\n",
       "         5.15746592e-01, 5.15746592e-01, 1.15413142e-01, 1.15413142e-01,\n",
       "         1.82809367e-01, 1.82809367e-01, 3.91134635e-01, 3.91134635e-01,\n",
       "         2.76450916e-01, 2.76450916e-01, 6.85526108e-01, 6.85526108e-01,\n",
       "         2.89183449e-01, 2.89183449e-01, 4.60816904e-01, 4.60816904e-01,\n",
       "         4.55419412e-01, 4.55419412e-01, 9.96839174e-01, 9.96839174e-01])}}"
      ]
     },
     "execution_count": 11,
     "metadata": {},
     "output_type": "execute_result"
    }
   ],
   "source": [
    "ds = load_by_id(run_id_n)\n",
    "ds.get_parameter_data('x1')"
   ]
  },
  {
   "cell_type": "markdown",
   "metadata": {},
   "source": [
    "And a dataset stored as binary arrays"
   ]
  },
  {
   "cell_type": "code",
   "execution_count": 12,
   "metadata": {
    "scrolled": true
   },
   "outputs": [
    {
     "data": {
      "text/plain": [
       "{'x1': {'x1': array([[0.82874858],\n",
       "         [0.82874858],\n",
       "         [0.5778325 ],\n",
       "         [0.5778325 ],\n",
       "         [0.44919048],\n",
       "         [0.44919048],\n",
       "         [0.64553284],\n",
       "         [0.64553284],\n",
       "         [0.12368142],\n",
       "         [0.12368142],\n",
       "         [0.75951967],\n",
       "         [0.75951967],\n",
       "         [0.79592929],\n",
       "         [0.79592929],\n",
       "         [0.23126005],\n",
       "         [0.23126005],\n",
       "         [0.52525512],\n",
       "         [0.52525512],\n",
       "         [0.719033  ],\n",
       "         [0.719033  ],\n",
       "         [0.71193674],\n",
       "         [0.71193674],\n",
       "         [0.71833201],\n",
       "         [0.71833201],\n",
       "         [0.11457189],\n",
       "         [0.11457189],\n",
       "         [0.8708869 ],\n",
       "         [0.8708869 ],\n",
       "         [0.47872866],\n",
       "         [0.47872866],\n",
       "         [0.34895776],\n",
       "         [0.34895776],\n",
       "         [0.4077567 ],\n",
       "         [0.4077567 ],\n",
       "         [0.12226637],\n",
       "         [0.12226637],\n",
       "         [0.39405535],\n",
       "         [0.39405535],\n",
       "         [0.33166539],\n",
       "         [0.33166539],\n",
       "         [0.34053615],\n",
       "         [0.34053615],\n",
       "         [0.90593103],\n",
       "         [0.90593103],\n",
       "         [0.60329546],\n",
       "         [0.60329546],\n",
       "         [0.51455444],\n",
       "         [0.51455444],\n",
       "         [0.86489785],\n",
       "         [0.86489785],\n",
       "         [0.48379955],\n",
       "         [0.48379955],\n",
       "         [0.63422894],\n",
       "         [0.63422894],\n",
       "         [0.72634068],\n",
       "         [0.72634068],\n",
       "         [0.74031485],\n",
       "         [0.74031485],\n",
       "         [0.45578411],\n",
       "         [0.45578411],\n",
       "         [0.62247503],\n",
       "         [0.62247503],\n",
       "         [0.02189512],\n",
       "         [0.02189512],\n",
       "         [0.90206719],\n",
       "         [0.90206719],\n",
       "         [0.85967446],\n",
       "         [0.85967446],\n",
       "         [0.91765318],\n",
       "         [0.91765318],\n",
       "         [0.9736199 ],\n",
       "         [0.9736199 ],\n",
       "         [0.28134681],\n",
       "         [0.28134681],\n",
       "         [0.69552619],\n",
       "         [0.69552619],\n",
       "         [0.05349236],\n",
       "         [0.05349236],\n",
       "         [0.81143618],\n",
       "         [0.81143618],\n",
       "         [0.59656532],\n",
       "         [0.59656532],\n",
       "         [0.77131075],\n",
       "         [0.77131075],\n",
       "         [0.99546434],\n",
       "         [0.99546434],\n",
       "         [0.84423605],\n",
       "         [0.84423605],\n",
       "         [0.58584613],\n",
       "         [0.58584613],\n",
       "         [0.70756962],\n",
       "         [0.70756962],\n",
       "         [0.26267494],\n",
       "         [0.26267494],\n",
       "         [0.77092876],\n",
       "         [0.77092876],\n",
       "         [0.81763594],\n",
       "         [0.81763594],\n",
       "         [0.72839887],\n",
       "         [0.72839887],\n",
       "         [0.57961108],\n",
       "         [0.57961108],\n",
       "         [0.70756878],\n",
       "         [0.70756878],\n",
       "         [0.16273848],\n",
       "         [0.16273848],\n",
       "         [0.60438153],\n",
       "         [0.60438153],\n",
       "         [0.48884173],\n",
       "         [0.48884173],\n",
       "         [0.46980732],\n",
       "         [0.46980732],\n",
       "         [0.68002865],\n",
       "         [0.68002865],\n",
       "         [0.58011425],\n",
       "         [0.58011425],\n",
       "         [0.15932363],\n",
       "         [0.15932363],\n",
       "         [0.27517099],\n",
       "         [0.27517099],\n",
       "         [0.40106213],\n",
       "         [0.40106213],\n",
       "         [0.4262835 ],\n",
       "         [0.4262835 ],\n",
       "         [0.88278741],\n",
       "         [0.88278741],\n",
       "         [0.10709959],\n",
       "         [0.10709959],\n",
       "         [0.89819873],\n",
       "         [0.89819873],\n",
       "         [0.435529  ],\n",
       "         [0.435529  ],\n",
       "         [0.83889921],\n",
       "         [0.83889921],\n",
       "         [0.677805  ],\n",
       "         [0.677805  ],\n",
       "         [0.57375908],\n",
       "         [0.57375908],\n",
       "         [0.53554031],\n",
       "         [0.53554031],\n",
       "         [0.62559845],\n",
       "         [0.62559845],\n",
       "         [0.78459077],\n",
       "         [0.78459077],\n",
       "         [0.33079641],\n",
       "         [0.33079641],\n",
       "         [0.95472769],\n",
       "         [0.95472769],\n",
       "         [0.44730976],\n",
       "         [0.44730976],\n",
       "         [0.15501279],\n",
       "         [0.15501279],\n",
       "         [0.46248451],\n",
       "         [0.46248451],\n",
       "         [0.23204872],\n",
       "         [0.23204872],\n",
       "         [0.86336112],\n",
       "         [0.86336112],\n",
       "         [0.72520825],\n",
       "         [0.72520825],\n",
       "         [0.87615237],\n",
       "         [0.87615237],\n",
       "         [0.72959254],\n",
       "         [0.72959254],\n",
       "         [0.57211955],\n",
       "         [0.57211955],\n",
       "         [0.3681787 ],\n",
       "         [0.3681787 ],\n",
       "         [0.68999321],\n",
       "         [0.68999321],\n",
       "         [0.48886878],\n",
       "         [0.48886878],\n",
       "         [0.02813983],\n",
       "         [0.02813983],\n",
       "         [0.85816114],\n",
       "         [0.85816114],\n",
       "         [0.09599394],\n",
       "         [0.09599394],\n",
       "         [0.72394304],\n",
       "         [0.72394304],\n",
       "         [0.90674557],\n",
       "         [0.90674557],\n",
       "         [0.32672409],\n",
       "         [0.32672409],\n",
       "         [0.03137198],\n",
       "         [0.03137198],\n",
       "         [0.59206559],\n",
       "         [0.59206559],\n",
       "         [0.99145737],\n",
       "         [0.99145737],\n",
       "         [0.43381827],\n",
       "         [0.43381827],\n",
       "         [0.05043516],\n",
       "         [0.05043516],\n",
       "         [0.37813635],\n",
       "         [0.37813635],\n",
       "         [0.16812836],\n",
       "         [0.16812836],\n",
       "         [0.64709367],\n",
       "         [0.64709367]])}}"
      ]
     },
     "execution_count": 12,
     "metadata": {},
     "output_type": "execute_result"
    }
   ],
   "source": [
    "ds = load_by_id(run_id_a)\n",
    "ds.get_parameter_data('x1')"
   ]
  },
  {
   "cell_type": "code",
   "execution_count": null,
   "metadata": {},
   "outputs": [],
   "source": []
  }
 ],
 "metadata": {
  "kernelspec": {
   "display_name": "Python 3",
   "language": "python",
   "name": "python3"
  },
  "language_info": {
   "codemirror_mode": {
    "name": "ipython",
    "version": 3
   },
   "file_extension": ".py",
   "mimetype": "text/x-python",
   "name": "python",
   "nbconvert_exporter": "python",
   "pygments_lexer": "ipython3",
   "version": "3.7.7"
  },
  "nbsphinx": {
   "timeout": 600
  },
  "toc": {
   "base_numbering": 1,
   "nav_menu": {},
   "number_sections": true,
   "sideBar": true,
   "skip_h1_title": false,
   "title_cell": "Table of Contents",
   "title_sidebar": "Contents",
   "toc_cell": false,
   "toc_position": {},
   "toc_section_display": true,
   "toc_window_display": false
  },
  "varInspector": {
   "cols": {
    "lenName": 16,
    "lenType": 16,
    "lenVar": 40
   },
   "kernels_config": {
    "python": {
     "delete_cmd_postfix": "",
     "delete_cmd_prefix": "del ",
     "library": "var_list.py",
     "varRefreshCmd": "print(var_dic_list())"
    },
    "r": {
     "delete_cmd_postfix": ") ",
     "delete_cmd_prefix": "rm(",
     "library": "var_list.r",
     "varRefreshCmd": "cat(var_dic_list()) "
    }
   },
   "types_to_exclude": [
    "module",
    "function",
    "builtin_function_or_method",
    "instance",
    "_Feature"
   ],
   "window_display": false
  }
 },
 "nbformat": 4,
 "nbformat_minor": 2
}
