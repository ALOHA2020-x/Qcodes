{
 "cells": [
  {
   "cell_type": "markdown",
   "metadata": {},
   "source": [
    "# DataSet Performance\n",
    "\n",
    "This notebook shows the trade-off between inserting data into a database row-by-row and as binary blobs. Inserting the data row-by-row means that we have direct access to all the data and may perform queries directly on the values of the data. On the other hand, as we shall see, this is much slower than inserting the data directly as binary blobs."
   ]
  },
  {
   "cell_type": "markdown",
   "metadata": {},
   "source": [
    "First, we choose a new location for the database to ensure that we don't add a bunch of benchmarking data to the default one."
   ]
  },
  {
   "cell_type": "code",
   "execution_count": 1,
   "metadata": {
    "execution": {
     "iopub.execute_input": "2021-02-16T07:49:55.648208Z",
     "iopub.status.busy": "2021-02-16T07:49:55.647624Z",
     "iopub.status.idle": "2021-02-16T07:49:56.608980Z",
     "shell.execute_reply": "2021-02-16T07:49:56.607970Z"
    }
   },
   "outputs": [
    {
     "name": "stdout",
     "output_type": "stream",
     "text": [
      "Logging hadn't been started.\n",
      "Activating auto-logging. Current session state plus future input saved.\n",
      "Filename       : /home/runner/.qcodes/logs/command_history.log\n",
      "Mode           : append\n",
      "Output logging : True\n",
      "Raw input log  : False\n",
      "Timestamping   : True\n",
      "State          : active\n"
     ]
    },
    {
     "name": "stdout",
     "output_type": "stream",
     "text": [
      "Qcodes Logfile : /home/runner/.qcodes/logs/210216-4014-qcodes.log\n"
     ]
    }
   ],
   "source": [
    "import os\n",
    "cwd = os.getcwd()\n",
    "import qcodes as qc\n",
    "qc.config[\"core\"][\"db_location\"] = os.path.join(cwd, 'testing.db')\n"
   ]
  },
  {
   "cell_type": "code",
   "execution_count": 2,
   "metadata": {
    "execution": {
     "iopub.execute_input": "2021-02-16T07:49:56.615837Z",
     "iopub.status.busy": "2021-02-16T07:49:56.615244Z",
     "iopub.status.idle": "2021-02-16T07:49:56.819232Z",
     "shell.execute_reply": "2021-02-16T07:49:56.818136Z"
    }
   },
   "outputs": [],
   "source": [
    "%matplotlib inline\n",
    "import time\n",
    "import matplotlib.pyplot as plt\n",
    "import numpy as np\n",
    "\n",
    "import qcodes as qc\n",
    "from qcodes.instrument.parameter import ManualParameter\n",
    "from qcodes.dataset.experiment_container import (Experiment,\n",
    "                                                 load_last_experiment,\n",
    "                                                 new_experiment)\n",
    "from qcodes.dataset.sqlite.database import initialise_database\n",
    "from qcodes import load_or_create_experiment\n",
    "from qcodes.dataset.measurements import Measurement"
   ]
  },
  {
   "cell_type": "code",
   "execution_count": 3,
   "metadata": {
    "execution": {
     "iopub.execute_input": "2021-02-16T07:49:56.824452Z",
     "iopub.status.busy": "2021-02-16T07:49:56.823578Z",
     "iopub.status.idle": "2021-02-16T07:49:56.942279Z",
     "shell.execute_reply": "2021-02-16T07:49:56.942740Z"
    }
   },
   "outputs": [
    {
     "name": "stdout",
     "output_type": "stream",
     "text": [
      "\r",
      "0it [00:00, ?it/s]"
     ]
    },
    {
     "name": "stdout",
     "output_type": "stream",
     "text": [
      "\r",
      "Upgrading database; v0 -> v1: : 0it [00:00, ?it/s]"
     ]
    },
    {
     "name": "stdout",
     "output_type": "stream",
     "text": [
      "\r",
      "Upgrading database; v0 -> v1: : 0it [00:00, ?it/s]"
     ]
    },
    {
     "name": "stdout",
     "output_type": "stream",
     "text": [
      "\n",
      "\r",
      "  0%|          | 0/1 [00:00<?, ?it/s]"
     ]
    },
    {
     "name": "stdout",
     "output_type": "stream",
     "text": [
      "\r",
      "Upgrading database; v1 -> v2:   0%|          | 0/1 [00:00<?, ?it/s]"
     ]
    },
    {
     "name": "stdout",
     "output_type": "stream",
     "text": [
      "\r",
      "Upgrading database; v1 -> v2: 100%|██████████| 1/1 [00:00<00:00, 1091.98it/s]"
     ]
    },
    {
     "name": "stdout",
     "output_type": "stream",
     "text": [
      "\n",
      "\r",
      "0it [00:00, ?it/s]"
     ]
    },
    {
     "name": "stdout",
     "output_type": "stream",
     "text": [
      "\r",
      "Upgrading database; v2 -> v3: : 0it [00:00, ?it/s]"
     ]
    },
    {
     "name": "stdout",
     "output_type": "stream",
     "text": [
      "\r",
      "Upgrading database; v2 -> v3: : 0it [00:00, ?it/s]"
     ]
    },
    {
     "name": "stdout",
     "output_type": "stream",
     "text": [
      "\n",
      "\r",
      "0it [00:00, ?it/s]"
     ]
    },
    {
     "name": "stdout",
     "output_type": "stream",
     "text": [
      "\r",
      "Upgrading database; v3 -> v4: : 0it [00:00, ?it/s]"
     ]
    },
    {
     "name": "stdout",
     "output_type": "stream",
     "text": [
      "\r",
      "Upgrading database; v3 -> v4: : 0it [00:00, ?it/s]"
     ]
    },
    {
     "name": "stdout",
     "output_type": "stream",
     "text": [
      "\n",
      "\r",
      "  0%|          | 0/1 [00:00<?, ?it/s]"
     ]
    },
    {
     "name": "stdout",
     "output_type": "stream",
     "text": [
      "\r",
      "Upgrading database; v4 -> v5:   0%|          | 0/1 [00:00<?, ?it/s]"
     ]
    },
    {
     "name": "stdout",
     "output_type": "stream",
     "text": [
      "\r",
      "Upgrading database; v4 -> v5: 100%|██████████| 1/1 [00:00<00:00, 445.68it/s]"
     ]
    },
    {
     "name": "stdout",
     "output_type": "stream",
     "text": [
      "\n",
      "\r",
      "0it [00:00, ?it/s]"
     ]
    },
    {
     "name": "stdout",
     "output_type": "stream",
     "text": [
      "\r",
      "Upgrading database; v5 -> v6: : 0it [00:00, ?it/s]"
     ]
    },
    {
     "name": "stdout",
     "output_type": "stream",
     "text": [
      "\r",
      "Upgrading database; v5 -> v6: : 0it [00:00, ?it/s]"
     ]
    },
    {
     "name": "stdout",
     "output_type": "stream",
     "text": [
      "\n",
      "\r",
      "  0%|          | 0/1 [00:00<?, ?it/s]"
     ]
    },
    {
     "name": "stdout",
     "output_type": "stream",
     "text": [
      "\r",
      "Upgrading database; v6 -> v7:   0%|          | 0/1 [00:00<?, ?it/s]"
     ]
    },
    {
     "name": "stdout",
     "output_type": "stream",
     "text": [
      "\r",
      "Upgrading database; v6 -> v7: 100%|██████████| 1/1 [00:00<00:00, 249.72it/s]"
     ]
    },
    {
     "name": "stdout",
     "output_type": "stream",
     "text": [
      "\n",
      "\r",
      "  0%|          | 0/1 [00:00<?, ?it/s]"
     ]
    },
    {
     "name": "stdout",
     "output_type": "stream",
     "text": [
      "\r",
      "Upgrading database; v7 -> v8:   0%|          | 0/1 [00:00<?, ?it/s]"
     ]
    },
    {
     "name": "stdout",
     "output_type": "stream",
     "text": [
      "\r",
      "Upgrading database; v7 -> v8: 100%|██████████| 1/1 [00:00<00:00, 923.45it/s]"
     ]
    },
    {
     "name": "stdout",
     "output_type": "stream",
     "text": [
      "\n",
      "\r",
      "  0%|          | 0/1 [00:00<?, ?it/s]"
     ]
    },
    {
     "name": "stdout",
     "output_type": "stream",
     "text": [
      "\r",
      "Upgrading database; v8 -> v9:   0%|          | 0/1 [00:00<?, ?it/s]"
     ]
    },
    {
     "name": "stdout",
     "output_type": "stream",
     "text": [
      "\r",
      "Upgrading database; v8 -> v9: 100%|██████████| 1/1 [00:00<00:00, 1182.83it/s]"
     ]
    },
    {
     "name": "stdout",
     "output_type": "stream",
     "text": [
      "\n"
     ]
    }
   ],
   "source": [
    "initialise_database()\n",
    "exp = load_or_create_experiment(experiment_name='tutorial_exp', sample_name=\"no sample\")"
   ]
  },
  {
   "cell_type": "markdown",
   "metadata": {},
   "source": [
    "Here, we define a simple function to benchmark the time it takes to insert n points with either numeric or array data type.\n",
    "We will compare both the time used to call ``add_result`` and the time used for the full measurement."
   ]
  },
  {
   "cell_type": "code",
   "execution_count": 4,
   "metadata": {
    "execution": {
     "iopub.execute_input": "2021-02-16T07:49:56.952650Z",
     "iopub.status.busy": "2021-02-16T07:49:56.951904Z",
     "iopub.status.idle": "2021-02-16T07:49:56.954745Z",
     "shell.execute_reply": "2021-02-16T07:49:56.956117Z"
    }
   },
   "outputs": [],
   "source": [
    "def insert_data(paramtype, npoints, nreps=1):\n",
    "\n",
    "    meas = Measurement(exp=exp)\n",
    "\n",
    "    x1 = ManualParameter('x1')\n",
    "    x2 = ManualParameter('x2')\n",
    "    x3 = ManualParameter('x3')\n",
    "    y1 = ManualParameter('y1')\n",
    "    y2 = ManualParameter('y2')\n",
    "\n",
    "    meas.register_parameter(x1, paramtype=paramtype)\n",
    "    meas.register_parameter(x2, paramtype=paramtype)\n",
    "    meas.register_parameter(x3, paramtype=paramtype)\n",
    "    meas.register_parameter(y1, setpoints=[x1, x2, x3],\n",
    "                            paramtype=paramtype)\n",
    "    meas.register_parameter(y2, setpoints=[x1, x2, x3],\n",
    "                            paramtype=paramtype)\n",
    "    start = time.perf_counter()\n",
    "    with meas.run() as datasaver:\n",
    "        start_adding = time.perf_counter()\n",
    "        for i in range(nreps):\n",
    "            datasaver.add_result((x1, np.random.rand(npoints)),\n",
    "                                 (x2, np.random.rand(npoints)),\n",
    "                                 (x3, np.random.rand(npoints)),\n",
    "                                 (y1, np.random.rand(npoints)),\n",
    "                                 (y2, np.random.rand(npoints)))\n",
    "        stop_adding = time.perf_counter()\n",
    "        run_id = datasaver.run_id\n",
    "    stop = time.perf_counter()\n",
    "    tot_time = stop - start\n",
    "    add_time = stop_adding - start_adding\n",
    "    return tot_time, add_time, run_id"
   ]
  },
  {
   "cell_type": "markdown",
   "metadata": {},
   "source": [
    "## Comparison between numeric/array data and binary blob"
   ]
  },
  {
   "cell_type": "markdown",
   "metadata": {},
   "source": [
    "### Case1: Short experiment time"
   ]
  },
  {
   "cell_type": "code",
   "execution_count": 5,
   "metadata": {
    "execution": {
     "iopub.execute_input": "2021-02-16T07:49:56.964991Z",
     "iopub.status.busy": "2021-02-16T07:49:56.963934Z",
     "iopub.status.idle": "2021-02-16T07:49:57.853899Z",
     "shell.execute_reply": "2021-02-16T07:49:57.854406Z"
    }
   },
   "outputs": [
    {
     "name": "stdout",
     "output_type": "stream",
     "text": [
      "Starting experimental run with id: 1. \n",
      "Starting experimental run with id: 2. \n",
      "Starting experimental run with id: 3. \n",
      "Starting experimental run with id: 4. \n",
      "Starting experimental run with id: 5. \n"
     ]
    },
    {
     "name": "stdout",
     "output_type": "stream",
     "text": [
      "Starting experimental run with id: 6. \n"
     ]
    },
    {
     "name": "stdout",
     "output_type": "stream",
     "text": [
      "Starting experimental run with id: 7. \n"
     ]
    },
    {
     "name": "stdout",
     "output_type": "stream",
     "text": [
      "Starting experimental run with id: 8. \n",
      "Starting experimental run with id: 9. \n"
     ]
    },
    {
     "name": "stdout",
     "output_type": "stream",
     "text": [
      "Starting experimental run with id: 10. \n",
      "Starting experimental run with id: 11. \n"
     ]
    },
    {
     "name": "stdout",
     "output_type": "stream",
     "text": [
      "Starting experimental run with id: 12. \n"
     ]
    },
    {
     "name": "stdout",
     "output_type": "stream",
     "text": [
      "Starting experimental run with id: 13. \n"
     ]
    },
    {
     "name": "stdout",
     "output_type": "stream",
     "text": [
      "Starting experimental run with id: 14. \n"
     ]
    }
   ],
   "source": [
    "sizes = [1,500,1000,2000,3000,4000,5000]\n",
    "t_numeric = []\n",
    "t_numeric_add = []\n",
    "t_array = []\n",
    "t_array_add = []\n",
    "for size in sizes:\n",
    "    tn, tna, run_id_n =  insert_data('numeric', size)\n",
    "    t_numeric.append(tn)\n",
    "    t_numeric_add.append(tna)\n",
    "\n",
    "    ta, taa, run_id_a =  insert_data('array', size)\n",
    "    t_array.append(ta)\n",
    "    t_array_add.append(taa)"
   ]
  },
  {
   "cell_type": "code",
   "execution_count": 6,
   "metadata": {
    "execution": {
     "iopub.execute_input": "2021-02-16T07:49:57.902659Z",
     "iopub.status.busy": "2021-02-16T07:49:57.873538Z",
     "iopub.status.idle": "2021-02-16T07:49:58.083758Z",
     "shell.execute_reply": "2021-02-16T07:49:58.083220Z"
    }
   },
   "outputs": [
    {
     "data": {
      "image/png": "[encoded data removed]",
      "text/plain": [
       "<Figure size 432x288 with 1 Axes>"
      ]
     },
     "metadata": {
      "needs_background": "light"
     },
     "output_type": "display_data"
    }
   ],
   "source": [
    "fig, ax = plt.subplots(1,1)\n",
    "ax.plot(sizes, t_numeric, 'o-', label='Inserting row-by-row')\n",
    "ax.plot(sizes, t_numeric_add, 'o-', label='Inserting row-by-row: add_result only')\n",
    "ax.plot(sizes, t_array, 'd-', label='Inserting as binary blob')\n",
    "ax.plot(sizes, t_array_add, 'd-', label='Inserting as binary blob: add_result only')\n",
    "ax.legend()\n",
    "ax.set_xlabel('Array length')\n",
    "ax.set_ylabel('Time (s)')\n",
    "fig.tight_layout()"
   ]
  },
  {
   "cell_type": "markdown",
   "metadata": {},
   "source": [
    "As shown in the latter figure, the time to setup and and close the experiment is approximately 0.4 sec. In case of small array sizes, the difference between inserting values of data as arrays and inserting them row-by-row is relatively unimportant. At larger array sizes, i.e. above 10000 points, the cost of writing data as individual datapoints starts to become important.\n"
   ]
  },
  {
   "cell_type": "markdown",
   "metadata": {},
   "source": [
    "### Case2: Long experiment time "
   ]
  },
  {
   "cell_type": "code",
   "execution_count": 7,
   "metadata": {
    "execution": {
     "iopub.execute_input": "2021-02-16T07:49:58.092011Z",
     "iopub.status.busy": "2021-02-16T07:49:58.091025Z",
     "iopub.status.idle": "2021-02-16T07:51:00.860374Z",
     "shell.execute_reply": "2021-02-16T07:51:00.859827Z"
    }
   },
   "outputs": [
    {
     "name": "stdout",
     "output_type": "stream",
     "text": [
      "Starting experimental run with id: 15. \n",
      "Starting experimental run with id: 16. \n",
      "Starting experimental run with id: 17. \n"
     ]
    },
    {
     "name": "stdout",
     "output_type": "stream",
     "text": [
      "Starting experimental run with id: 18. \n"
     ]
    },
    {
     "name": "stdout",
     "output_type": "stream",
     "text": [
      "Starting experimental run with id: 19. \n"
     ]
    },
    {
     "name": "stdout",
     "output_type": "stream",
     "text": [
      "Starting experimental run with id: 20. \n"
     ]
    },
    {
     "name": "stdout",
     "output_type": "stream",
     "text": [
      "Starting experimental run with id: 21. \n"
     ]
    },
    {
     "name": "stdout",
     "output_type": "stream",
     "text": [
      "Starting experimental run with id: 22. \n"
     ]
    },
    {
     "name": "stdout",
     "output_type": "stream",
     "text": [
      "Starting experimental run with id: 23. \n"
     ]
    },
    {
     "name": "stdout",
     "output_type": "stream",
     "text": [
      "Starting experimental run with id: 24. \n"
     ]
    },
    {
     "name": "stdout",
     "output_type": "stream",
     "text": [
      "Starting experimental run with id: 25. \n"
     ]
    },
    {
     "name": "stdout",
     "output_type": "stream",
     "text": [
      "Starting experimental run with id: 26. \n"
     ]
    },
    {
     "name": "stdout",
     "output_type": "stream",
     "text": [
      "Starting experimental run with id: 27. \n"
     ]
    },
    {
     "name": "stdout",
     "output_type": "stream",
     "text": [
      "Starting experimental run with id: 28. \n"
     ]
    }
   ],
   "source": [
    "sizes = [1,500,1000,2000,3000,4000,5000]\n",
    "nreps = 100\n",
    "t_numeric = []\n",
    "t_numeric_add = []\n",
    "t_numeric_run_ids = []\n",
    "t_array = []\n",
    "t_array_add = []\n",
    "t_array_run_ids = []\n",
    "for size in sizes:\n",
    "    tn, tna, run_id_n =  insert_data('numeric', size, nreps=nreps)\n",
    "    t_numeric.append(tn)\n",
    "    t_numeric_add.append(tna)\n",
    "    t_numeric_run_ids.append(run_id_n)\n",
    "\n",
    "    ta, taa, run_id_a =  insert_data('array', size, nreps=nreps)\n",
    "    t_array.append(ta)\n",
    "    t_array_add.append(taa)\n",
    "    t_array_run_ids.append(run_id_a)"
   ]
  },
  {
   "cell_type": "code",
   "execution_count": 8,
   "metadata": {
    "execution": {
     "iopub.execute_input": "2021-02-16T07:51:00.901752Z",
     "iopub.status.busy": "2021-02-16T07:51:00.891372Z",
     "iopub.status.idle": "2021-02-16T07:51:01.077870Z",
     "shell.execute_reply": "2021-02-16T07:51:01.077329Z"
    },
    "scrolled": true
   },
   "outputs": [
    {
     "data": {
      "image/png": "[encoded data removed]",
      "text/plain": [
       "<Figure size 432x288 with 1 Axes>"
      ]
     },
     "metadata": {
      "needs_background": "light"
     },
     "output_type": "display_data"
    }
   ],
   "source": [
    "fig, ax = plt.subplots(1,1)\n",
    "ax.plot(sizes, t_numeric, 'o-', label='Inserting row-by-row')\n",
    "ax.plot(sizes, t_numeric_add, 'o-', label='Inserting row-by-row: add_result only')\n",
    "ax.plot(sizes, t_array, 'd-', label='Inserting as binary blob')\n",
    "ax.plot(sizes, t_array_add, 'd-', label='Inserting as binary blob: add_result only')\n",
    "ax.legend()\n",
    "ax.set_xlabel('Array length')\n",
    "ax.set_ylabel('Time (s)')\n",
    "fig.tight_layout()"
   ]
  },
  {
   "cell_type": "markdown",
   "metadata": {},
   "source": [
    "However, as we increase the length of the experiment, as seen here by repeating the insertion 100 times, we see a big difference between inserting values of the data row-by-row and inserting it as a binary blob."
   ]
  },
  {
   "cell_type": "markdown",
   "metadata": {},
   "source": [
    "## Loading the data "
   ]
  },
  {
   "cell_type": "code",
   "execution_count": 9,
   "metadata": {
    "execution": {
     "iopub.execute_input": "2021-02-16T07:51:01.082348Z",
     "iopub.status.busy": "2021-02-16T07:51:01.080998Z",
     "iopub.status.idle": "2021-02-16T07:51:01.085492Z",
     "shell.execute_reply": "2021-02-16T07:51:01.084951Z"
    }
   },
   "outputs": [],
   "source": [
    "from qcodes.dataset.data_set import load_by_id\n",
    "from qcodes.dataset.data_export import get_data_by_id"
   ]
  },
  {
   "cell_type": "markdown",
   "metadata": {},
   "source": [
    "As usual you can load the data by using the ``load_by_id`` function but you will notice that the different storage methods\n",
    "are reflected in shape of the data as it is retrieved. "
   ]
  },
  {
   "cell_type": "code",
   "execution_count": 10,
   "metadata": {
    "execution": {
     "iopub.execute_input": "2021-02-16T07:51:01.090549Z",
     "iopub.status.busy": "2021-02-16T07:51:01.089333Z",
     "iopub.status.idle": "2021-02-16T07:51:01.091285Z",
     "shell.execute_reply": "2021-02-16T07:51:01.091808Z"
    }
   },
   "outputs": [],
   "source": [
    "run_id_n = t_numeric_run_ids[0]\n",
    "run_id_a = t_array_run_ids[0]"
   ]
  },
  {
   "cell_type": "code",
   "execution_count": 11,
   "metadata": {
    "execution": {
     "iopub.execute_input": "2021-02-16T07:51:01.095368Z",
     "iopub.status.busy": "2021-02-16T07:51:01.094795Z",
     "iopub.status.idle": "2021-02-16T07:51:01.105245Z",
     "shell.execute_reply": "2021-02-16T07:51:01.105708Z"
    },
    "scrolled": true
   },
   "outputs": [
    {
     "data": {
      "text/plain": [
       "{'x1': {'x1': array([6.89187212e-01, 6.89187212e-01, 7.96402129e-02, 7.96402129e-02,\n",
       "         7.46621676e-01, 7.46621676e-01, 1.88291821e-01, 1.88291821e-01,\n",
       "         4.16992967e-01, 4.16992967e-01, 3.49009527e-02, 3.49009527e-02,\n",
       "         6.63069453e-02, 6.63069453e-02, 5.10907236e-01, 5.10907236e-01,\n",
       "         8.17746084e-01, 8.17746084e-01, 3.91665783e-02, 3.91665783e-02,\n",
       "         3.88750660e-04, 3.88750660e-04, 5.74298557e-01, 5.74298557e-01,\n",
       "         7.99602052e-01, 7.99602052e-01, 6.87228602e-01, 6.87228602e-01,\n",
       "         7.58049643e-02, 7.58049643e-02, 6.61422752e-01, 6.61422752e-01,\n",
       "         4.71210718e-01, 4.71210718e-01, 1.84119018e-01, 1.84119018e-01,\n",
       "         3.95377850e-01, 3.95377850e-01, 7.09067048e-01, 7.09067048e-01,\n",
       "         4.09568011e-01, 4.09568011e-01, 1.65629171e-01, 1.65629171e-01,\n",
       "         3.73514704e-01, 3.73514704e-01, 5.16987850e-01, 5.16987850e-01,\n",
       "         3.63582781e-01, 3.63582781e-01, 9.45484435e-01, 9.45484435e-01,\n",
       "         1.06546801e-02, 1.06546801e-02, 6.09593974e-01, 6.09593974e-01,\n",
       "         8.10151698e-01, 8.10151698e-01, 8.42422614e-01, 8.42422614e-01,\n",
       "         5.61067560e-01, 5.61067560e-01, 2.30500286e-01, 2.30500286e-01,\n",
       "         3.19178229e-01, 3.19178229e-01, 9.97421400e-01, 9.97421400e-01,\n",
       "         6.66310998e-01, 6.66310998e-01, 4.37352455e-01, 4.37352455e-01,\n",
       "         6.25862438e-01, 6.25862438e-01, 3.52383981e-01, 3.52383981e-01,\n",
       "         1.07771813e-01, 1.07771813e-01, 9.74819575e-01, 9.74819575e-01,\n",
       "         5.29789381e-01, 5.29789381e-01, 3.81148287e-01, 3.81148287e-01,\n",
       "         2.44640163e-01, 2.44640163e-01, 3.05682839e-02, 3.05682839e-02,\n",
       "         7.82770162e-01, 7.82770162e-01, 9.65311590e-01, 9.65311590e-01,\n",
       "         8.11157433e-02, 8.11157433e-02, 8.80927717e-01, 8.80927717e-01,\n",
       "         2.77762817e-01, 2.77762817e-01, 6.22506647e-01, 6.22506647e-01,\n",
       "         2.71378237e-01, 2.71378237e-01, 4.59990888e-01, 4.59990888e-01,\n",
       "         5.61496671e-01, 5.61496671e-01, 4.64170090e-01, 4.64170090e-01,\n",
       "         6.62507505e-01, 6.62507505e-01, 8.83313864e-01, 8.83313864e-01,\n",
       "         2.06645333e-01, 2.06645333e-01, 8.74384433e-01, 8.74384433e-01,\n",
       "         2.62400351e-01, 2.62400351e-01, 9.83177889e-01, 9.83177889e-01,\n",
       "         4.97035175e-01, 4.97035175e-01, 9.27744171e-01, 9.27744171e-01,\n",
       "         9.91514217e-01, 9.91514217e-01, 7.12362354e-04, 7.12362354e-04,\n",
       "         3.64095441e-02, 3.64095441e-02, 2.48037703e-01, 2.48037703e-01,\n",
       "         8.53518931e-01, 8.53518931e-01, 4.40357685e-01, 4.40357685e-01,\n",
       "         9.27784877e-01, 9.27784877e-01, 6.07149334e-01, 6.07149334e-01,\n",
       "         4.32287622e-01, 4.32287622e-01, 7.54449582e-01, 7.54449582e-01,\n",
       "         2.05034392e-01, 2.05034392e-01, 5.02849887e-01, 5.02849887e-01,\n",
       "         3.20237403e-01, 3.20237403e-01, 8.61554624e-01, 8.61554624e-01,\n",
       "         4.96848530e-01, 4.96848530e-01, 1.07812356e-01, 1.07812356e-01,\n",
       "         1.53558551e-02, 1.53558551e-02, 2.34949740e-02, 2.34949740e-02,\n",
       "         3.73713310e-01, 3.73713310e-01, 7.67483335e-01, 7.67483335e-01,\n",
       "         6.04789393e-01, 6.04789393e-01, 3.89834922e-01, 3.89834922e-01,\n",
       "         5.93584983e-02, 5.93584983e-02, 6.11182895e-01, 6.11182895e-01,\n",
       "         1.50409227e-01, 1.50409227e-01, 5.16714753e-01, 5.16714753e-01,\n",
       "         4.49503467e-01, 4.49503467e-01, 3.85135145e-01, 3.85135145e-01,\n",
       "         7.46875736e-01, 7.46875736e-01, 3.75407534e-02, 3.75407534e-02,\n",
       "         5.83202654e-01, 5.83202654e-01, 1.42804606e-01, 1.42804606e-01,\n",
       "         3.57107565e-01, 3.57107565e-01, 4.10535937e-01, 4.10535937e-01,\n",
       "         5.65822491e-01, 5.65822491e-01, 3.99480949e-02, 3.99480949e-02,\n",
       "         5.70083906e-01, 5.70083906e-01, 7.29702072e-01, 7.29702072e-01])}}"
      ]
     },
     "execution_count": 1,
     "metadata": {},
     "output_type": "execute_result"
    }
   ],
   "source": [
    "ds = load_by_id(run_id_n)\n",
    "ds.get_parameter_data('x1')"
   ]
  },
  {
   "cell_type": "markdown",
   "metadata": {},
   "source": [
    "And a dataset stored as binary arrays"
   ]
  },
  {
   "cell_type": "code",
   "execution_count": 12,
   "metadata": {
    "execution": {
     "iopub.execute_input": "2021-02-16T07:51:01.110055Z",
     "iopub.status.busy": "2021-02-16T07:51:01.109472Z",
     "iopub.status.idle": "2021-02-16T07:51:01.181477Z",
     "shell.execute_reply": "2021-02-16T07:51:01.182330Z"
    },
    "scrolled": true
   },
   "outputs": [
    {
     "data": {
      "text/plain": [
       "{'x1': {'x1': array([[0.11215636],\n",
       "         [0.11215636],\n",
       "         [0.77485181],\n",
       "         [0.77485181],\n",
       "         [0.74791433],\n",
       "         [0.74791433],\n",
       "         [0.3735679 ],\n",
       "         [0.3735679 ],\n",
       "         [0.04994533],\n",
       "         [0.04994533],\n",
       "         [0.46963234],\n",
       "         [0.46963234],\n",
       "         [0.76113052],\n",
       "         [0.76113052],\n",
       "         [0.62397813],\n",
       "         [0.62397813],\n",
       "         [0.18127391],\n",
       "         [0.18127391],\n",
       "         [0.62292164],\n",
       "         [0.62292164],\n",
       "         [0.88821782],\n",
       "         [0.88821782],\n",
       "         [0.27606421],\n",
       "         [0.27606421],\n",
       "         [0.69465284],\n",
       "         [0.69465284],\n",
       "         [0.07111535],\n",
       "         [0.07111535],\n",
       "         [0.87208712],\n",
       "         [0.87208712],\n",
       "         [0.97897336],\n",
       "         [0.97897336],\n",
       "         [0.16473917],\n",
       "         [0.16473917],\n",
       "         [0.32390416],\n",
       "         [0.32390416],\n",
       "         [0.54098289],\n",
       "         [0.54098289],\n",
       "         [0.01108744],\n",
       "         [0.01108744],\n",
       "         [0.18240418],\n",
       "         [0.18240418],\n",
       "         [0.79638541],\n",
       "         [0.79638541],\n",
       "         [0.68917445],\n",
       "         [0.68917445],\n",
       "         [0.08456692],\n",
       "         [0.08456692],\n",
       "         [0.22096567],\n",
       "         [0.22096567],\n",
       "         [0.05754377],\n",
       "         [0.05754377],\n",
       "         [0.11736601],\n",
       "         [0.11736601],\n",
       "         [0.90777567],\n",
       "         [0.90777567],\n",
       "         [0.65274383],\n",
       "         [0.65274383],\n",
       "         [0.370331  ],\n",
       "         [0.370331  ],\n",
       "         [0.69151072],\n",
       "         [0.69151072],\n",
       "         [0.64375117],\n",
       "         [0.64375117],\n",
       "         [0.87030602],\n",
       "         [0.87030602],\n",
       "         [0.08194662],\n",
       "         [0.08194662],\n",
       "         [0.40548889],\n",
       "         [0.40548889],\n",
       "         [0.16634021],\n",
       "         [0.16634021],\n",
       "         [0.07275876],\n",
       "         [0.07275876],\n",
       "         [0.34301195],\n",
       "         [0.34301195],\n",
       "         [0.07230336],\n",
       "         [0.07230336],\n",
       "         [0.24892519],\n",
       "         [0.24892519],\n",
       "         [0.3455142 ],\n",
       "         [0.3455142 ],\n",
       "         [0.04199796],\n",
       "         [0.04199796],\n",
       "         [0.51547336],\n",
       "         [0.51547336],\n",
       "         [0.58523733],\n",
       "         [0.58523733],\n",
       "         [0.0562913 ],\n",
       "         [0.0562913 ],\n",
       "         [0.30716528],\n",
       "         [0.30716528],\n",
       "         [0.53666274],\n",
       "         [0.53666274],\n",
       "         [0.55136109],\n",
       "         [0.55136109],\n",
       "         [0.2662358 ],\n",
       "         [0.2662358 ],\n",
       "         [0.41169308],\n",
       "         [0.41169308],\n",
       "         [0.51846411],\n",
       "         [0.51846411],\n",
       "         [0.7377503 ],\n",
       "         [0.7377503 ],\n",
       "         [0.85875387],\n",
       "         [0.85875387],\n",
       "         [0.74186179],\n",
       "         [0.74186179],\n",
       "         [0.16631053],\n",
       "         [0.16631053],\n",
       "         [0.62094971],\n",
       "         [0.62094971],\n",
       "         [0.03890639],\n",
       "         [0.03890639],\n",
       "         [0.73393753],\n",
       "         [0.73393753],\n",
       "         [0.94273725],\n",
       "         [0.94273725],\n",
       "         [0.08634913],\n",
       "         [0.08634913],\n",
       "         [0.67434728],\n",
       "         [0.67434728],\n",
       "         [0.80139175],\n",
       "         [0.80139175],\n",
       "         [0.24142605],\n",
       "         [0.24142605],\n",
       "         [0.34273691],\n",
       "         [0.34273691],\n",
       "         [0.6941974 ],\n",
       "         [0.6941974 ],\n",
       "         [0.8084659 ],\n",
       "         [0.8084659 ],\n",
       "         [0.09640639],\n",
       "         [0.09640639],\n",
       "         [0.99343447],\n",
       "         [0.99343447],\n",
       "         [0.69534773],\n",
       "         [0.69534773],\n",
       "         [0.59104653],\n",
       "         [0.59104653],\n",
       "         [0.26975868],\n",
       "         [0.26975868],\n",
       "         [0.309324  ],\n",
       "         [0.309324  ],\n",
       "         [0.90215518],\n",
       "         [0.90215518],\n",
       "         [0.2124442 ],\n",
       "         [0.2124442 ],\n",
       "         [0.11529169],\n",
       "         [0.11529169],\n",
       "         [0.3698448 ],\n",
       "         [0.3698448 ],\n",
       "         [0.3168523 ],\n",
       "         [0.3168523 ],\n",
       "         [0.59214966],\n",
       "         [0.59214966],\n",
       "         [0.0194035 ],\n",
       "         [0.0194035 ],\n",
       "         [0.48406908],\n",
       "         [0.48406908],\n",
       "         [0.96687841],\n",
       "         [0.96687841],\n",
       "         [0.58570629],\n",
       "         [0.58570629],\n",
       "         [0.01308044],\n",
       "         [0.01308044],\n",
       "         [0.12289391],\n",
       "         [0.12289391],\n",
       "         [0.9315919 ],\n",
       "         [0.9315919 ],\n",
       "         [0.4916659 ],\n",
       "         [0.4916659 ],\n",
       "         [0.98192652],\n",
       "         [0.98192652],\n",
       "         [0.76501495],\n",
       "         [0.76501495],\n",
       "         [0.8076847 ],\n",
       "         [0.8076847 ],\n",
       "         [0.22909651],\n",
       "         [0.22909651],\n",
       "         [0.83950038],\n",
       "         [0.83950038],\n",
       "         [0.08818083],\n",
       "         [0.08818083],\n",
       "         [0.8746343 ],\n",
       "         [0.8746343 ],\n",
       "         [0.62530285],\n",
       "         [0.62530285],\n",
       "         [0.93431054],\n",
       "         [0.93431054],\n",
       "         [0.03779906],\n",
       "         [0.03779906],\n",
       "         [0.80438536],\n",
       "         [0.80438536],\n",
       "         [0.61308923],\n",
       "         [0.61308923],\n",
       "         [0.68491083],\n",
       "         [0.68491083],\n",
       "         [0.53496452],\n",
       "         [0.53496452]])}}"
      ]
     },
     "execution_count": 1,
     "metadata": {},
     "output_type": "execute_result"
    }
   ],
   "source": [
    "ds = load_by_id(run_id_a)\n",
    "ds.get_parameter_data('x1')"
   ]
  },
  {
   "cell_type": "code",
   "execution_count": null,
   "metadata": {},
   "outputs": [],
   "source": []
  }
 ],
 "metadata": {
  "kernelspec": {
   "display_name": "Python 3",
   "language": "python",
   "name": "python3"
  },
  "language_info": {
   "codemirror_mode": {
    "name": "ipython",
    "version": 3
   },
   "file_extension": ".py",
   "mimetype": "text/x-python",
   "name": "python",
   "nbconvert_exporter": "python",
   "pygments_lexer": "ipython3",
   "version": "3.7.9"
  },
  "nbsphinx": {
   "timeout": 600
  },
  "toc": {
   "base_numbering": 1,
   "nav_menu": {},
   "number_sections": true,
   "sideBar": true,
   "skip_h1_title": false,
   "title_cell": "Table of Contents",
   "title_sidebar": "Contents",
   "toc_cell": false,
   "toc_position": {},
   "toc_section_display": true,
   "toc_window_display": false
  },
  "varInspector": {
   "cols": {
    "lenName": 16,
    "lenType": 16,
    "lenVar": 40
   },
   "kernels_config": {
    "python": {
     "delete_cmd_postfix": "",
     "delete_cmd_prefix": "del ",
     "library": "var_list.py",
     "varRefreshCmd": "print(var_dic_list())"
    },
    "r": {
     "delete_cmd_postfix": ") ",
     "delete_cmd_prefix": "rm(",
     "library": "var_list.r",
     "varRefreshCmd": "cat(var_dic_list()) "
    }
   },
   "types_to_exclude": [
    "module",
    "function",
    "builtin_function_or_method",
    "instance",
    "_Feature"
   ],
   "window_display": false
  }
 },
 "nbformat": 4,
 "nbformat_minor": 2
}
