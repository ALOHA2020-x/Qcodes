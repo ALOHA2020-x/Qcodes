{
 "cells": [
  {
   "cell_type": "markdown",
   "metadata": {},
   "source": [
    "# DataSet Performance\n",
    "\n",
    "This notebook shows the trade-off between inserting data into a database row-by-row and as binary blobs. Inserting the data row-by-row means that we have direct access to all the data and may perform queries directly on the values of the data. On the other hand, as we shall see, this is much slower than inserting the data directly as binary blobs."
   ]
  },
  {
   "cell_type": "markdown",
   "metadata": {},
   "source": [
    "First, we choose a new location for the database to ensure that we don't add a bunch of benchmarking data to the default one."
   ]
  },
  {
   "cell_type": "code",
   "execution_count": 1,
   "metadata": {
    "execution": {
     "iopub.execute_input": "2021-02-08T07:10:40.984254Z",
     "iopub.status.busy": "2021-02-08T07:10:40.983687Z",
     "iopub.status.idle": "2021-02-08T07:10:42.057403Z",
     "shell.execute_reply": "2021-02-08T07:10:42.057953Z"
    }
   },
   "outputs": [
    {
     "name": "stdout",
     "output_type": "stream",
     "text": [
      "Logging hadn't been started.\n",
      "Activating auto-logging. Current session state plus future input saved.\n",
      "Filename       : /home/vsts/.qcodes/logs/command_history.log\n",
      "Mode           : append\n",
      "Output logging : True\n",
      "Raw input log  : False\n",
      "Timestamping   : True\n",
      "State          : active\n"
     ]
    },
    {
     "name": "stdout",
     "output_type": "stream",
     "text": [
      "Qcodes Logfile : /home/vsts/.qcodes/logs/210208-13962-qcodes.log\n"
     ]
    }
   ],
   "source": [
    "import os\n",
    "cwd = os.getcwd()\n",
    "import qcodes as qc\n",
    "qc.config[\"core\"][\"db_location\"] = os.path.join(cwd, 'testing.db')\n"
   ]
  },
  {
   "cell_type": "code",
   "execution_count": 2,
   "metadata": {
    "execution": {
     "iopub.execute_input": "2021-02-08T07:10:42.064873Z",
     "iopub.status.busy": "2021-02-08T07:10:42.064261Z",
     "iopub.status.idle": "2021-02-08T07:10:42.269195Z",
     "shell.execute_reply": "2021-02-08T07:10:42.268206Z"
    }
   },
   "outputs": [],
   "source": [
    "%matplotlib inline\n",
    "import time\n",
    "import matplotlib.pyplot as plt\n",
    "import numpy as np\n",
    "\n",
    "import qcodes as qc\n",
    "from qcodes.instrument.parameter import ManualParameter\n",
    "from qcodes.dataset.experiment_container import (Experiment,\n",
    "                                                 load_last_experiment,\n",
    "                                                 new_experiment)\n",
    "from qcodes.dataset.sqlite.database import initialise_database\n",
    "from qcodes import load_or_create_experiment\n",
    "from qcodes.dataset.measurements import Measurement"
   ]
  },
  {
   "cell_type": "code",
   "execution_count": 3,
   "metadata": {
    "execution": {
     "iopub.execute_input": "2021-02-08T07:10:42.273712Z",
     "iopub.status.busy": "2021-02-08T07:10:42.272975Z",
     "iopub.status.idle": "2021-02-08T07:10:42.398467Z",
     "shell.execute_reply": "2021-02-08T07:10:42.397971Z"
    }
   },
   "outputs": [
    {
     "name": "stdout",
     "output_type": "stream",
     "text": [
      "\r",
      "0it [00:00, ?it/s]"
     ]
    },
    {
     "name": "stdout",
     "output_type": "stream",
     "text": [
      "\r",
      "Upgrading database; v0 -> v1: : 0it [00:00, ?it/s]"
     ]
    },
    {
     "name": "stdout",
     "output_type": "stream",
     "text": [
      "\r",
      "Upgrading database; v0 -> v1: : 0it [00:00, ?it/s]"
     ]
    },
    {
     "name": "stdout",
     "output_type": "stream",
     "text": [
      "\n",
      "\r",
      "  0%|          | 0/1 [00:00<?, ?it/s]"
     ]
    },
    {
     "name": "stdout",
     "output_type": "stream",
     "text": [
      "\r",
      "Upgrading database; v1 -> v2:   0%|          | 0/1 [00:00<?, ?it/s]"
     ]
    },
    {
     "name": "stdout",
     "output_type": "stream",
     "text": [
      "\r",
      "Upgrading database; v1 -> v2: 100%|██████████| 1/1 [00:00<00:00, 551.01it/s]"
     ]
    },
    {
     "name": "stdout",
     "output_type": "stream",
     "text": [
      "\n",
      "\r",
      "0it [00:00, ?it/s]"
     ]
    },
    {
     "name": "stdout",
     "output_type": "stream",
     "text": [
      "\r",
      "Upgrading database; v2 -> v3: : 0it [00:00, ?it/s]"
     ]
    },
    {
     "name": "stdout",
     "output_type": "stream",
     "text": [
      "\r",
      "Upgrading database; v2 -> v3: : 0it [00:00, ?it/s]"
     ]
    },
    {
     "name": "stdout",
     "output_type": "stream",
     "text": [
      "\n",
      "\r",
      "0it [00:00, ?it/s]"
     ]
    },
    {
     "name": "stdout",
     "output_type": "stream",
     "text": [
      "\r",
      "Upgrading database; v3 -> v4: : 0it [00:00, ?it/s]"
     ]
    },
    {
     "name": "stdout",
     "output_type": "stream",
     "text": [
      "\r",
      "Upgrading database; v3 -> v4: : 0it [00:00, ?it/s]"
     ]
    },
    {
     "name": "stdout",
     "output_type": "stream",
     "text": [
      "\n",
      "\r",
      "  0%|          | 0/1 [00:00<?, ?it/s]"
     ]
    },
    {
     "name": "stdout",
     "output_type": "stream",
     "text": [
      "\r",
      "Upgrading database; v4 -> v5:   0%|          | 0/1 [00:00<?, ?it/s]"
     ]
    },
    {
     "name": "stdout",
     "output_type": "stream",
     "text": [
      "\r",
      "Upgrading database; v4 -> v5: 100%|██████████| 1/1 [00:00<00:00, 354.49it/s]"
     ]
    },
    {
     "name": "stdout",
     "output_type": "stream",
     "text": [
      "\n",
      "\r",
      "0it [00:00, ?it/s]"
     ]
    },
    {
     "name": "stdout",
     "output_type": "stream",
     "text": [
      "\r",
      "Upgrading database; v5 -> v6: : 0it [00:00, ?it/s]"
     ]
    },
    {
     "name": "stdout",
     "output_type": "stream",
     "text": [
      "\r",
      "Upgrading database; v5 -> v6: : 0it [00:00, ?it/s]"
     ]
    },
    {
     "name": "stdout",
     "output_type": "stream",
     "text": [
      "\n",
      "\r",
      "  0%|          | 0/1 [00:00<?, ?it/s]"
     ]
    },
    {
     "name": "stdout",
     "output_type": "stream",
     "text": [
      "\r",
      "Upgrading database; v6 -> v7:   0%|          | 0/1 [00:00<?, ?it/s]"
     ]
    },
    {
     "name": "stdout",
     "output_type": "stream",
     "text": [
      "\r",
      "Upgrading database; v6 -> v7: 100%|██████████| 1/1 [00:00<00:00, 257.57it/s]"
     ]
    },
    {
     "name": "stdout",
     "output_type": "stream",
     "text": [
      "\n",
      "\r",
      "  0%|          | 0/1 [00:00<?, ?it/s]"
     ]
    },
    {
     "name": "stdout",
     "output_type": "stream",
     "text": [
      "\r",
      "Upgrading database; v7 -> v8:   0%|          | 0/1 [00:00<?, ?it/s]"
     ]
    },
    {
     "name": "stdout",
     "output_type": "stream",
     "text": [
      "\r",
      "Upgrading database; v7 -> v8: 100%|██████████| 1/1 [00:00<00:00, 380.54it/s]"
     ]
    },
    {
     "name": "stdout",
     "output_type": "stream",
     "text": [
      "\n",
      "\r",
      "  0%|          | 0/1 [00:00<?, ?it/s]"
     ]
    },
    {
     "name": "stdout",
     "output_type": "stream",
     "text": [
      "\r",
      "Upgrading database; v8 -> v9:   0%|          | 0/1 [00:00<?, ?it/s]"
     ]
    },
    {
     "name": "stdout",
     "output_type": "stream",
     "text": [
      "\r",
      "Upgrading database; v8 -> v9: 100%|██████████| 1/1 [00:00<00:00, 399.15it/s]"
     ]
    },
    {
     "name": "stdout",
     "output_type": "stream",
     "text": [
      "\n"
     ]
    }
   ],
   "source": [
    "initialise_database()\n",
    "exp = load_or_create_experiment(experiment_name='tutorial_exp', sample_name=\"no sample\")"
   ]
  },
  {
   "cell_type": "markdown",
   "metadata": {},
   "source": [
    "Here, we define a simple function to benchmark the time it takes to insert n points with either numeric or array data type.\n",
    "We will compare both the time used to call ``add_result`` and the time used for the full measurement."
   ]
  },
  {
   "cell_type": "code",
   "execution_count": 4,
   "metadata": {
    "execution": {
     "iopub.execute_input": "2021-02-08T07:10:42.407044Z",
     "iopub.status.busy": "2021-02-08T07:10:42.406461Z",
     "iopub.status.idle": "2021-02-08T07:10:42.409802Z",
     "shell.execute_reply": "2021-02-08T07:10:42.410244Z"
    }
   },
   "outputs": [],
   "source": [
    "def insert_data(paramtype, npoints, nreps=1):\n",
    "\n",
    "    meas = Measurement(exp=exp)\n",
    "\n",
    "    x1 = ManualParameter('x1')\n",
    "    x2 = ManualParameter('x2')\n",
    "    x3 = ManualParameter('x3')\n",
    "    y1 = ManualParameter('y1')\n",
    "    y2 = ManualParameter('y2')\n",
    "\n",
    "    meas.register_parameter(x1, paramtype=paramtype)\n",
    "    meas.register_parameter(x2, paramtype=paramtype)\n",
    "    meas.register_parameter(x3, paramtype=paramtype)\n",
    "    meas.register_parameter(y1, setpoints=[x1, x2, x3],\n",
    "                            paramtype=paramtype)\n",
    "    meas.register_parameter(y2, setpoints=[x1, x2, x3],\n",
    "                            paramtype=paramtype)\n",
    "    start = time.perf_counter()\n",
    "    with meas.run() as datasaver:\n",
    "        start_adding = time.perf_counter()\n",
    "        for i in range(nreps):\n",
    "            datasaver.add_result((x1, np.random.rand(npoints)),\n",
    "                                 (x2, np.random.rand(npoints)),\n",
    "                                 (x3, np.random.rand(npoints)),\n",
    "                                 (y1, np.random.rand(npoints)),\n",
    "                                 (y2, np.random.rand(npoints)))\n",
    "        stop_adding = time.perf_counter()\n",
    "        run_id = datasaver.run_id\n",
    "    stop = time.perf_counter()\n",
    "    tot_time = stop - start\n",
    "    add_time = stop_adding - start_adding\n",
    "    return tot_time, add_time, run_id"
   ]
  },
  {
   "cell_type": "markdown",
   "metadata": {},
   "source": [
    "## Comparison between numeric/array data and binary blob"
   ]
  },
  {
   "cell_type": "markdown",
   "metadata": {},
   "source": [
    "### Case1: Short experiment time"
   ]
  },
  {
   "cell_type": "code",
   "execution_count": 5,
   "metadata": {
    "execution": {
     "iopub.execute_input": "2021-02-08T07:10:42.416751Z",
     "iopub.status.busy": "2021-02-08T07:10:42.415528Z",
     "iopub.status.idle": "2021-02-08T07:10:43.239468Z",
     "shell.execute_reply": "2021-02-08T07:10:43.238914Z"
    }
   },
   "outputs": [
    {
     "name": "stdout",
     "output_type": "stream",
     "text": [
      "Starting experimental run with id: 1. \n",
      "Starting experimental run with id: 2. \n",
      "Starting experimental run with id: 3. \n",
      "Starting experimental run with id: 4. \n"
     ]
    },
    {
     "name": "stdout",
     "output_type": "stream",
     "text": [
      "Starting experimental run with id: 5. \n"
     ]
    },
    {
     "name": "stdout",
     "output_type": "stream",
     "text": [
      "Starting experimental run with id: 6. \n",
      "Starting experimental run with id: 7. \n"
     ]
    },
    {
     "name": "stdout",
     "output_type": "stream",
     "text": [
      "Starting experimental run with id: 8. \n",
      "Starting experimental run with id: 9. \n"
     ]
    },
    {
     "name": "stdout",
     "output_type": "stream",
     "text": [
      "Starting experimental run with id: 10. \n",
      "Starting experimental run with id: 11. \n"
     ]
    },
    {
     "name": "stdout",
     "output_type": "stream",
     "text": [
      "Starting experimental run with id: 12. \n",
      "Starting experimental run with id: 13. \n"
     ]
    },
    {
     "name": "stdout",
     "output_type": "stream",
     "text": [
      "Starting experimental run with id: 14. \n"
     ]
    }
   ],
   "source": [
    "sizes = [1,500,1000,2000,3000,4000,5000]\n",
    "t_numeric = []\n",
    "t_numeric_add = []\n",
    "t_array = []\n",
    "t_array_add = []\n",
    "for size in sizes:\n",
    "    tn, tna, run_id_n =  insert_data('numeric', size)\n",
    "    t_numeric.append(tn)\n",
    "    t_numeric_add.append(tna)\n",
    "\n",
    "    ta, taa, run_id_a =  insert_data('array', size)\n",
    "    t_array.append(ta)\n",
    "    t_array_add.append(taa)"
   ]
  },
  {
   "cell_type": "code",
   "execution_count": 6,
   "metadata": {
    "execution": {
     "iopub.execute_input": "2021-02-08T07:10:43.290165Z",
     "iopub.status.busy": "2021-02-08T07:10:43.260901Z",
     "iopub.status.idle": "2021-02-08T07:10:43.495278Z",
     "shell.execute_reply": "2021-02-08T07:10:43.494739Z"
    }
   },
   "outputs": [
    {
     "data": {
      "image/png": "[encoded data removed]",
      "text/plain": [
       "<Figure size 432x288 with 1 Axes>"
      ]
     },
     "metadata": {
      "needs_background": "light"
     },
     "output_type": "display_data"
    }
   ],
   "source": [
    "fig, ax = plt.subplots(1,1)\n",
    "ax.plot(sizes, t_numeric, 'o-', label='Inserting row-by-row')\n",
    "ax.plot(sizes, t_numeric_add, 'o-', label='Inserting row-by-row: add_result only')\n",
    "ax.plot(sizes, t_array, 'd-', label='Inserting as binary blob')\n",
    "ax.plot(sizes, t_array_add, 'd-', label='Inserting as binary blob: add_result only')\n",
    "ax.legend()\n",
    "ax.set_xlabel('Array length')\n",
    "ax.set_ylabel('Time (s)')\n",
    "fig.tight_layout()"
   ]
  },
  {
   "cell_type": "markdown",
   "metadata": {},
   "source": [
    "As shown in the latter figure, the time to setup and and close the experiment is approximately 0.4 sec. In case of small array sizes, the difference between inserting values of data as arrays and inserting them row-by-row is relatively unimportant. At larger array sizes, i.e. above 10000 points, the cost of writing data as individual datapoints starts to become important.\n"
   ]
  },
  {
   "cell_type": "markdown",
   "metadata": {},
   "source": [
    "### Case2: Long experiment time "
   ]
  },
  {
   "cell_type": "code",
   "execution_count": 7,
   "metadata": {
    "execution": {
     "iopub.execute_input": "2021-02-08T07:10:43.502765Z",
     "iopub.status.busy": "2021-02-08T07:10:43.501441Z",
     "iopub.status.idle": "2021-02-08T07:11:40.645351Z",
     "shell.execute_reply": "2021-02-08T07:11:40.644883Z"
    }
   },
   "outputs": [
    {
     "name": "stdout",
     "output_type": "stream",
     "text": [
      "Starting experimental run with id: 15. \n",
      "Starting experimental run with id: 16. \n",
      "Starting experimental run with id: 17. \n"
     ]
    },
    {
     "name": "stdout",
     "output_type": "stream",
     "text": [
      "Starting experimental run with id: 18. \n",
      "Starting experimental run with id: 19. \n"
     ]
    },
    {
     "name": "stdout",
     "output_type": "stream",
     "text": [
      "Starting experimental run with id: 20. \n"
     ]
    },
    {
     "name": "stdout",
     "output_type": "stream",
     "text": [
      "Starting experimental run with id: 21. \n"
     ]
    },
    {
     "name": "stdout",
     "output_type": "stream",
     "text": [
      "Starting experimental run with id: 22. \n"
     ]
    },
    {
     "name": "stdout",
     "output_type": "stream",
     "text": [
      "Starting experimental run with id: 23. \n"
     ]
    },
    {
     "name": "stdout",
     "output_type": "stream",
     "text": [
      "Starting experimental run with id: 24. \n"
     ]
    },
    {
     "name": "stdout",
     "output_type": "stream",
     "text": [
      "Starting experimental run with id: 25. \n"
     ]
    },
    {
     "name": "stdout",
     "output_type": "stream",
     "text": [
      "Starting experimental run with id: 26. \n"
     ]
    },
    {
     "name": "stdout",
     "output_type": "stream",
     "text": [
      "Starting experimental run with id: 27. \n"
     ]
    },
    {
     "name": "stdout",
     "output_type": "stream",
     "text": [
      "Starting experimental run with id: 28. \n"
     ]
    }
   ],
   "source": [
    "sizes = [1,500,1000,2000,3000,4000,5000]\n",
    "nreps = 100\n",
    "t_numeric = []\n",
    "t_numeric_add = []\n",
    "t_numeric_run_ids = []\n",
    "t_array = []\n",
    "t_array_add = []\n",
    "t_array_run_ids = []\n",
    "for size in sizes:\n",
    "    tn, tna, run_id_n =  insert_data('numeric', size, nreps=nreps)\n",
    "    t_numeric.append(tn)\n",
    "    t_numeric_add.append(tna)\n",
    "    t_numeric_run_ids.append(run_id_n)\n",
    "\n",
    "    ta, taa, run_id_a =  insert_data('array', size, nreps=nreps)\n",
    "    t_array.append(ta)\n",
    "    t_array_add.append(taa)\n",
    "    t_array_run_ids.append(run_id_a)"
   ]
  },
  {
   "cell_type": "code",
   "execution_count": 8,
   "metadata": {
    "execution": {
     "iopub.execute_input": "2021-02-08T07:11:40.664040Z",
     "iopub.status.busy": "2021-02-08T07:11:40.662250Z",
     "iopub.status.idle": "2021-02-08T07:11:40.889428Z",
     "shell.execute_reply": "2021-02-08T07:11:40.888978Z"
    },
    "scrolled": true
   },
   "outputs": [
    {
     "data": {
      "image/png": "[encoded data removed]",
      "text/plain": [
       "<Figure size 432x288 with 1 Axes>"
      ]
     },
     "metadata": {
      "needs_background": "light"
     },
     "output_type": "display_data"
    }
   ],
   "source": [
    "fig, ax = plt.subplots(1,1)\n",
    "ax.plot(sizes, t_numeric, 'o-', label='Inserting row-by-row')\n",
    "ax.plot(sizes, t_numeric_add, 'o-', label='Inserting row-by-row: add_result only')\n",
    "ax.plot(sizes, t_array, 'd-', label='Inserting as binary blob')\n",
    "ax.plot(sizes, t_array_add, 'd-', label='Inserting as binary blob: add_result only')\n",
    "ax.legend()\n",
    "ax.set_xlabel('Array length')\n",
    "ax.set_ylabel('Time (s)')\n",
    "fig.tight_layout()"
   ]
  },
  {
   "cell_type": "markdown",
   "metadata": {},
   "source": [
    "However, as we increase the length of the experiment, as seen here by repeating the insertion 100 times, we see a big difference between inserting values of the data row-by-row and inserting it as a binary blob."
   ]
  },
  {
   "cell_type": "markdown",
   "metadata": {},
   "source": [
    "## Loading the data "
   ]
  },
  {
   "cell_type": "code",
   "execution_count": 9,
   "metadata": {
    "execution": {
     "iopub.execute_input": "2021-02-08T07:11:40.894567Z",
     "iopub.status.busy": "2021-02-08T07:11:40.893349Z",
     "iopub.status.idle": "2021-02-08T07:11:40.896618Z",
     "shell.execute_reply": "2021-02-08T07:11:40.897053Z"
    }
   },
   "outputs": [],
   "source": [
    "from qcodes.dataset.data_set import load_by_id\n",
    "from qcodes.dataset.data_export import get_data_by_id"
   ]
  },
  {
   "cell_type": "markdown",
   "metadata": {},
   "source": [
    "As usual you can load the data by using the ``load_by_id`` function but you will notice that the different storage methods\n",
    "are reflected in shape of the data as it is retrieved. "
   ]
  },
  {
   "cell_type": "code",
   "execution_count": 10,
   "metadata": {
    "execution": {
     "iopub.execute_input": "2021-02-08T07:11:40.901529Z",
     "iopub.status.busy": "2021-02-08T07:11:40.900348Z",
     "iopub.status.idle": "2021-02-08T07:11:40.902236Z",
     "shell.execute_reply": "2021-02-08T07:11:40.902670Z"
    }
   },
   "outputs": [],
   "source": [
    "run_id_n = t_numeric_run_ids[0]\n",
    "run_id_a = t_array_run_ids[0]"
   ]
  },
  {
   "cell_type": "code",
   "execution_count": 11,
   "metadata": {
    "execution": {
     "iopub.execute_input": "2021-02-08T07:11:40.906217Z",
     "iopub.status.busy": "2021-02-08T07:11:40.905696Z",
     "iopub.status.idle": "2021-02-08T07:11:40.915348Z",
     "shell.execute_reply": "2021-02-08T07:11:40.914818Z"
    },
    "scrolled": true
   },
   "outputs": [
    {
     "data": {
      "text/plain": [
       "{'x1': {'x1': array([0.79293113, 0.79293113, 0.43279835, 0.43279835, 0.2608067 ,\n",
       "         0.2608067 , 0.45329825, 0.45329825, 0.6199554 , 0.6199554 ,\n",
       "         0.27158466, 0.27158466, 0.48562469, 0.48562469, 0.07759035,\n",
       "         0.07759035, 0.90077562, 0.90077562, 0.43083199, 0.43083199,\n",
       "         0.06019026, 0.06019026, 0.73379538, 0.73379538, 0.27699456,\n",
       "         0.27699456, 0.17448313, 0.17448313, 0.89263913, 0.89263913,\n",
       "         0.73527076, 0.73527076, 0.20882695, 0.20882695, 0.31762776,\n",
       "         0.31762776, 0.16587297, 0.16587297, 0.30555584, 0.30555584,\n",
       "         0.98775821, 0.98775821, 0.39122023, 0.39122023, 0.61670559,\n",
       "         0.61670559, 0.68935774, 0.68935774, 0.67399393, 0.67399393,\n",
       "         0.99199596, 0.99199596, 0.44845862, 0.44845862, 0.0666262 ,\n",
       "         0.0666262 , 0.79483376, 0.79483376, 0.35930623, 0.35930623,\n",
       "         0.16361246, 0.16361246, 0.04476551, 0.04476551, 0.85678178,\n",
       "         0.85678178, 0.37365203, 0.37365203, 0.04009821, 0.04009821,\n",
       "         0.01250979, 0.01250979, 0.33322583, 0.33322583, 0.64717121,\n",
       "         0.64717121, 0.01794929, 0.01794929, 0.85866995, 0.85866995,\n",
       "         0.27376291, 0.27376291, 0.90187783, 0.90187783, 0.41305976,\n",
       "         0.41305976, 0.50081889, 0.50081889, 0.45921687, 0.45921687,\n",
       "         0.46143399, 0.46143399, 0.25437269, 0.25437269, 0.21069947,\n",
       "         0.21069947, 0.24011544, 0.24011544, 0.43686176, 0.43686176,\n",
       "         0.61064431, 0.61064431, 0.7354817 , 0.7354817 , 0.36526221,\n",
       "         0.36526221, 0.29315607, 0.29315607, 0.72752068, 0.72752068,\n",
       "         0.50332576, 0.50332576, 0.26880344, 0.26880344, 0.09548419,\n",
       "         0.09548419, 0.56709629, 0.56709629, 0.23414988, 0.23414988,\n",
       "         0.33393019, 0.33393019, 0.5612128 , 0.5612128 , 0.8795025 ,\n",
       "         0.8795025 , 0.49898319, 0.49898319, 0.8964676 , 0.8964676 ,\n",
       "         0.22445572, 0.22445572, 0.81736044, 0.81736044, 0.26383953,\n",
       "         0.26383953, 0.37878006, 0.37878006, 0.17998736, 0.17998736,\n",
       "         0.28105189, 0.28105189, 0.15791335, 0.15791335, 0.91663838,\n",
       "         0.91663838, 0.85911865, 0.85911865, 0.2916251 , 0.2916251 ,\n",
       "         0.95672301, 0.95672301, 0.01985823, 0.01985823, 0.29183087,\n",
       "         0.29183087, 0.15396091, 0.15396091, 0.04004336, 0.04004336,\n",
       "         0.58430344, 0.58430344, 0.34230176, 0.34230176, 0.75728146,\n",
       "         0.75728146, 0.54560931, 0.54560931, 0.72845858, 0.72845858,\n",
       "         0.14901206, 0.14901206, 0.89973432, 0.89973432, 0.24722675,\n",
       "         0.24722675, 0.26643487, 0.26643487, 0.14701868, 0.14701868,\n",
       "         0.23212838, 0.23212838, 0.13321999, 0.13321999, 0.75720169,\n",
       "         0.75720169, 0.66519127, 0.66519127, 0.18146184, 0.18146184,\n",
       "         0.55331551, 0.55331551, 0.12004809, 0.12004809, 0.1372364 ,\n",
       "         0.1372364 , 0.8083732 , 0.8083732 , 0.17145176, 0.17145176])}}"
      ]
     },
     "execution_count": 1,
     "metadata": {},
     "output_type": "execute_result"
    }
   ],
   "source": [
    "ds = load_by_id(run_id_n)\n",
    "ds.get_parameter_data('x1')"
   ]
  },
  {
   "cell_type": "markdown",
   "metadata": {},
   "source": [
    "And a dataset stored as binary arrays"
   ]
  },
  {
   "cell_type": "code",
   "execution_count": 12,
   "metadata": {
    "execution": {
     "iopub.execute_input": "2021-02-08T07:11:40.919063Z",
     "iopub.status.busy": "2021-02-08T07:11:40.918500Z",
     "iopub.status.idle": "2021-02-08T07:11:40.988600Z",
     "shell.execute_reply": "2021-02-08T07:11:40.989431Z"
    },
    "scrolled": true
   },
   "outputs": [
    {
     "data": {
      "text/plain": [
       "{'x1': {'x1': array([[0.35195837],\n",
       "         [0.35195837],\n",
       "         [0.27909655],\n",
       "         [0.27909655],\n",
       "         [0.40554866],\n",
       "         [0.40554866],\n",
       "         [0.49959589],\n",
       "         [0.49959589],\n",
       "         [0.61397835],\n",
       "         [0.61397835],\n",
       "         [0.64240708],\n",
       "         [0.64240708],\n",
       "         [0.87138843],\n",
       "         [0.87138843],\n",
       "         [0.1098518 ],\n",
       "         [0.1098518 ],\n",
       "         [0.75526822],\n",
       "         [0.75526822],\n",
       "         [0.66798632],\n",
       "         [0.66798632],\n",
       "         [0.50652758],\n",
       "         [0.50652758],\n",
       "         [0.43158672],\n",
       "         [0.43158672],\n",
       "         [0.54337899],\n",
       "         [0.54337899],\n",
       "         [0.51865156],\n",
       "         [0.51865156],\n",
       "         [0.76469375],\n",
       "         [0.76469375],\n",
       "         [0.32901141],\n",
       "         [0.32901141],\n",
       "         [0.1709187 ],\n",
       "         [0.1709187 ],\n",
       "         [0.91625545],\n",
       "         [0.91625545],\n",
       "         [0.42845088],\n",
       "         [0.42845088],\n",
       "         [0.63976665],\n",
       "         [0.63976665],\n",
       "         [0.91339283],\n",
       "         [0.91339283],\n",
       "         [0.62990632],\n",
       "         [0.62990632],\n",
       "         [0.30088698],\n",
       "         [0.30088698],\n",
       "         [0.96815025],\n",
       "         [0.96815025],\n",
       "         [0.82583774],\n",
       "         [0.82583774],\n",
       "         [0.72040345],\n",
       "         [0.72040345],\n",
       "         [0.38731411],\n",
       "         [0.38731411],\n",
       "         [0.51828624],\n",
       "         [0.51828624],\n",
       "         [0.8086047 ],\n",
       "         [0.8086047 ],\n",
       "         [0.34122759],\n",
       "         [0.34122759],\n",
       "         [0.9724507 ],\n",
       "         [0.9724507 ],\n",
       "         [0.63281611],\n",
       "         [0.63281611],\n",
       "         [0.17321452],\n",
       "         [0.17321452],\n",
       "         [0.3166045 ],\n",
       "         [0.3166045 ],\n",
       "         [0.67937353],\n",
       "         [0.67937353],\n",
       "         [0.09027652],\n",
       "         [0.09027652],\n",
       "         [0.33942305],\n",
       "         [0.33942305],\n",
       "         [0.48714443],\n",
       "         [0.48714443],\n",
       "         [0.3237935 ],\n",
       "         [0.3237935 ],\n",
       "         [0.61871033],\n",
       "         [0.61871033],\n",
       "         [0.63374947],\n",
       "         [0.63374947],\n",
       "         [0.33488758],\n",
       "         [0.33488758],\n",
       "         [0.08109955],\n",
       "         [0.08109955],\n",
       "         [0.86928704],\n",
       "         [0.86928704],\n",
       "         [0.8668673 ],\n",
       "         [0.8668673 ],\n",
       "         [0.99487135],\n",
       "         [0.99487135],\n",
       "         [0.45390657],\n",
       "         [0.45390657],\n",
       "         [0.93409529],\n",
       "         [0.93409529],\n",
       "         [0.53436546],\n",
       "         [0.53436546],\n",
       "         [0.3062882 ],\n",
       "         [0.3062882 ],\n",
       "         [0.80616665],\n",
       "         [0.80616665],\n",
       "         [0.62446814],\n",
       "         [0.62446814],\n",
       "         [0.58806149],\n",
       "         [0.58806149],\n",
       "         [0.93407388],\n",
       "         [0.93407388],\n",
       "         [0.09359773],\n",
       "         [0.09359773],\n",
       "         [0.45903559],\n",
       "         [0.45903559],\n",
       "         [0.38140893],\n",
       "         [0.38140893],\n",
       "         [0.64308489],\n",
       "         [0.64308489],\n",
       "         [0.1599317 ],\n",
       "         [0.1599317 ],\n",
       "         [0.44502144],\n",
       "         [0.44502144],\n",
       "         [0.26592293],\n",
       "         [0.26592293],\n",
       "         [0.97483417],\n",
       "         [0.97483417],\n",
       "         [0.13977334],\n",
       "         [0.13977334],\n",
       "         [0.04488541],\n",
       "         [0.04488541],\n",
       "         [0.89660098],\n",
       "         [0.89660098],\n",
       "         [0.84931629],\n",
       "         [0.84931629],\n",
       "         [0.3973903 ],\n",
       "         [0.3973903 ],\n",
       "         [0.12447378],\n",
       "         [0.12447378],\n",
       "         [0.2924369 ],\n",
       "         [0.2924369 ],\n",
       "         [0.26671881],\n",
       "         [0.26671881],\n",
       "         [0.49271169],\n",
       "         [0.49271169],\n",
       "         [0.57956356],\n",
       "         [0.57956356],\n",
       "         [0.58419727],\n",
       "         [0.58419727],\n",
       "         [0.27889815],\n",
       "         [0.27889815],\n",
       "         [0.58087293],\n",
       "         [0.58087293],\n",
       "         [0.0909224 ],\n",
       "         [0.0909224 ],\n",
       "         [0.95277209],\n",
       "         [0.95277209],\n",
       "         [0.13270605],\n",
       "         [0.13270605],\n",
       "         [0.72054784],\n",
       "         [0.72054784],\n",
       "         [0.58282392],\n",
       "         [0.58282392],\n",
       "         [0.41505205],\n",
       "         [0.41505205],\n",
       "         [0.50504767],\n",
       "         [0.50504767],\n",
       "         [0.67343681],\n",
       "         [0.67343681],\n",
       "         [0.88232211],\n",
       "         [0.88232211],\n",
       "         [0.6433607 ],\n",
       "         [0.6433607 ],\n",
       "         [0.36440751],\n",
       "         [0.36440751],\n",
       "         [0.04546011],\n",
       "         [0.04546011],\n",
       "         [0.53743982],\n",
       "         [0.53743982],\n",
       "         [0.21542398],\n",
       "         [0.21542398],\n",
       "         [0.74716345],\n",
       "         [0.74716345],\n",
       "         [0.02955963],\n",
       "         [0.02955963],\n",
       "         [0.6367509 ],\n",
       "         [0.6367509 ],\n",
       "         [0.93791433],\n",
       "         [0.93791433],\n",
       "         [0.21623791],\n",
       "         [0.21623791],\n",
       "         [0.72242777],\n",
       "         [0.72242777],\n",
       "         [0.57171397],\n",
       "         [0.57171397],\n",
       "         [0.66967237],\n",
       "         [0.66967237],\n",
       "         [0.41532228],\n",
       "         [0.41532228],\n",
       "         [0.77029256],\n",
       "         [0.77029256],\n",
       "         [0.52137117],\n",
       "         [0.52137117]])}}"
      ]
     },
     "execution_count": 1,
     "metadata": {},
     "output_type": "execute_result"
    }
   ],
   "source": [
    "ds = load_by_id(run_id_a)\n",
    "ds.get_parameter_data('x1')"
   ]
  },
  {
   "cell_type": "code",
   "execution_count": null,
   "metadata": {},
   "outputs": [],
   "source": []
  }
 ],
 "metadata": {
  "kernelspec": {
   "display_name": "Python 3",
   "language": "python",
   "name": "python3"
  },
  "language_info": {
   "codemirror_mode": {
    "name": "ipython",
    "version": 3
   },
   "file_extension": ".py",
   "mimetype": "text/x-python",
   "name": "python",
   "nbconvert_exporter": "python",
   "pygments_lexer": "ipython3",
   "version": "3.7.9"
  },
  "nbsphinx": {
   "timeout": 600
  },
  "toc": {
   "base_numbering": 1,
   "nav_menu": {},
   "number_sections": true,
   "sideBar": true,
   "skip_h1_title": false,
   "title_cell": "Table of Contents",
   "title_sidebar": "Contents",
   "toc_cell": false,
   "toc_position": {},
   "toc_section_display": true,
   "toc_window_display": false
  },
  "varInspector": {
   "cols": {
    "lenName": 16,
    "lenType": 16,
    "lenVar": 40
   },
   "kernels_config": {
    "python": {
     "delete_cmd_postfix": "",
     "delete_cmd_prefix": "del ",
     "library": "var_list.py",
     "varRefreshCmd": "print(var_dic_list())"
    },
    "r": {
     "delete_cmd_postfix": ") ",
     "delete_cmd_prefix": "rm(",
     "library": "var_list.r",
     "varRefreshCmd": "cat(var_dic_list()) "
    }
   },
   "types_to_exclude": [
    "module",
    "function",
    "builtin_function_or_method",
    "instance",
    "_Feature"
   ],
   "window_display": false
  }
 },
 "nbformat": 4,
 "nbformat_minor": 2
}
