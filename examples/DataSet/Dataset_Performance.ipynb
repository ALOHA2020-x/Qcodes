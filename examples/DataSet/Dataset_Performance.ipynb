{
 "cells": [
  {
   "cell_type": "markdown",
   "metadata": {},
   "source": [
    "# DataSet Performance\n",
    "\n",
    "This notebook shows the trade-off between inserting data into a database row-by-row and as binary blobs. Inserting the data row-by-row means that we have direct access to all the data and may perform queries directly on the values of the data. On the other hand, as we shall see, this is much slower than inserting the data directly as binary blobs."
   ]
  },
  {
   "cell_type": "markdown",
   "metadata": {},
   "source": [
    "First, we choose a new location for the database to ensure that we don't add a bunch of benchmarking data to the default one."
   ]
  },
  {
   "cell_type": "code",
   "execution_count": 1,
   "metadata": {},
   "outputs": [
    {
     "name": "stdout",
     "output_type": "stream",
     "text": [
      "Logging hadn't been started.\n",
      "Activating auto-logging. Current session state plus future input saved.\n",
      "Filename       : /home/vsts/.qcodes/logs/command_history.log\n",
      "Mode           : append\n",
      "Output logging : True\n",
      "Raw input log  : False\n",
      "Timestamping   : True\n",
      "State          : active\n"
     ]
    },
    {
     "name": "stdout",
     "output_type": "stream",
     "text": [
      "Qcodes Logfile : /home/vsts/.qcodes/logs/200602-18847-qcodes.log\n"
     ]
    }
   ],
   "source": [
    "import os\n",
    "cwd = os.getcwd()\n",
    "import qcodes as qc\n",
    "qc.config[\"core\"][\"db_location\"] = os.path.join(cwd, 'testing.db')\n"
   ]
  },
  {
   "cell_type": "code",
   "execution_count": 2,
   "metadata": {},
   "outputs": [],
   "source": [
    "%matplotlib inline\n",
    "import time\n",
    "import matplotlib.pyplot as plt\n",
    "import numpy as np\n",
    "\n",
    "import qcodes as qc\n",
    "from qcodes.instrument.parameter import ManualParameter\n",
    "from qcodes.dataset.experiment_container import (Experiment,\n",
    "                                                 load_last_experiment,\n",
    "                                                 new_experiment)\n",
    "from qcodes.dataset.sqlite.database import initialise_database\n",
    "from qcodes import load_or_create_experiment\n",
    "from qcodes.dataset.measurements import Measurement"
   ]
  },
  {
   "cell_type": "code",
   "execution_count": 3,
   "metadata": {},
   "outputs": [
    {
     "name": "stdout",
     "output_type": "stream",
     "text": [
      "\r",
      "0it [00:00, ?it/s]"
     ]
    },
    {
     "name": "stdout",
     "output_type": "stream",
     "text": [
      "\r",
      "Upgrading database; v0 -> v1: : 0it [00:00, ?it/s]"
     ]
    },
    {
     "name": "stdout",
     "output_type": "stream",
     "text": [
      "\r",
      "Upgrading database; v0 -> v1: : 0it [00:00, ?it/s]"
     ]
    },
    {
     "name": "stdout",
     "output_type": "stream",
     "text": [
      "\n",
      "\r",
      "  0%|          | 0/1 [00:00<?, ?it/s]"
     ]
    },
    {
     "name": "stdout",
     "output_type": "stream",
     "text": [
      "\r",
      "Upgrading database; v1 -> v2:   0%|          | 0/1 [00:00<?, ?it/s]"
     ]
    },
    {
     "name": "stdout",
     "output_type": "stream",
     "text": [
      "\r",
      "Upgrading database; v1 -> v2: 100%|██████████| 1/1 [00:00<00:00, 841.89it/s]"
     ]
    },
    {
     "name": "stdout",
     "output_type": "stream",
     "text": [
      "\n",
      "\r",
      "0it [00:00, ?it/s]"
     ]
    },
    {
     "name": "stdout",
     "output_type": "stream",
     "text": [
      "\r",
      "Upgrading database; v2 -> v3: : 0it [00:00, ?it/s]"
     ]
    },
    {
     "name": "stdout",
     "output_type": "stream",
     "text": [
      "\r",
      "Upgrading database; v2 -> v3: : 0it [00:00, ?it/s]"
     ]
    },
    {
     "name": "stdout",
     "output_type": "stream",
     "text": [
      "\n",
      "\r",
      "0it [00:00, ?it/s]"
     ]
    },
    {
     "name": "stdout",
     "output_type": "stream",
     "text": [
      "\r",
      "Upgrading database; v3 -> v4: : 0it [00:00, ?it/s]"
     ]
    },
    {
     "name": "stdout",
     "output_type": "stream",
     "text": [
      "\r",
      "Upgrading database; v3 -> v4: : 0it [00:00, ?it/s]"
     ]
    },
    {
     "name": "stdout",
     "output_type": "stream",
     "text": [
      "\n",
      "\r",
      "  0%|          | 0/1 [00:00<?, ?it/s]"
     ]
    },
    {
     "name": "stdout",
     "output_type": "stream",
     "text": [
      "\r",
      "Upgrading database; v4 -> v5:   0%|          | 0/1 [00:00<?, ?it/s]"
     ]
    },
    {
     "name": "stdout",
     "output_type": "stream",
     "text": [
      "\r",
      "Upgrading database; v4 -> v5: 100%|██████████| 1/1 [00:00<00:00, 1049.36it/s]"
     ]
    },
    {
     "name": "stdout",
     "output_type": "stream",
     "text": [
      "\n",
      "\r",
      "0it [00:00, ?it/s]"
     ]
    },
    {
     "name": "stdout",
     "output_type": "stream",
     "text": [
      "\r",
      "Upgrading database; v5 -> v6: : 0it [00:00, ?it/s]"
     ]
    },
    {
     "name": "stdout",
     "output_type": "stream",
     "text": [
      "\r",
      "Upgrading database; v5 -> v6: : 0it [00:00, ?it/s]"
     ]
    },
    {
     "name": "stdout",
     "output_type": "stream",
     "text": [
      "\n",
      "\r",
      "  0%|          | 0/1 [00:00<?, ?it/s]"
     ]
    },
    {
     "name": "stdout",
     "output_type": "stream",
     "text": [
      "\r",
      "Upgrading database; v6 -> v7:   0%|          | 0/1 [00:00<?, ?it/s]"
     ]
    },
    {
     "name": "stdout",
     "output_type": "stream",
     "text": [
      "\r",
      "Upgrading database; v6 -> v7: 100%|██████████| 1/1 [00:00<00:00, 226.05it/s]"
     ]
    },
    {
     "name": "stdout",
     "output_type": "stream",
     "text": [
      "\n",
      "\r",
      "  0%|          | 0/1 [00:00<?, ?it/s]"
     ]
    },
    {
     "name": "stdout",
     "output_type": "stream",
     "text": [
      "\r",
      "Upgrading database; v7 -> v8:   0%|          | 0/1 [00:00<?, ?it/s]"
     ]
    },
    {
     "name": "stdout",
     "output_type": "stream",
     "text": [
      "\r",
      "Upgrading database; v7 -> v8: 100%|██████████| 1/1 [00:00<00:00, 659.79it/s]"
     ]
    },
    {
     "name": "stdout",
     "output_type": "stream",
     "text": [
      "\n",
      "\r",
      "  0%|          | 0/1 [00:00<?, ?it/s]"
     ]
    },
    {
     "name": "stdout",
     "output_type": "stream",
     "text": [
      "\r",
      "Upgrading database; v8 -> v9:   0%|          | 0/1 [00:00<?, ?it/s]"
     ]
    },
    {
     "name": "stdout",
     "output_type": "stream",
     "text": [
      "\r",
      "Upgrading database; v8 -> v9: 100%|██████████| 1/1 [00:00<00:00, 1137.59it/s]"
     ]
    },
    {
     "name": "stdout",
     "output_type": "stream",
     "text": [
      "\n"
     ]
    }
   ],
   "source": [
    "initialise_database()\n",
    "exp = load_or_create_experiment(experiment_name='tutorial_exp', sample_name=\"no sample\")"
   ]
  },
  {
   "cell_type": "markdown",
   "metadata": {},
   "source": [
    "Here, we define a simple function to benchmark the time it takes to insert n points with either numeric or array data type.\n",
    "We will compare both the time used to call ``add_result`` and the time used for the full measurement."
   ]
  },
  {
   "cell_type": "code",
   "execution_count": 4,
   "metadata": {},
   "outputs": [],
   "source": [
    "def insert_data(paramtype, npoints, nreps=1):\n",
    "\n",
    "    meas = Measurement(exp=exp)\n",
    "\n",
    "    x1 = ManualParameter('x1')\n",
    "    x2 = ManualParameter('x2')\n",
    "    x3 = ManualParameter('x3')\n",
    "    y1 = ManualParameter('y1')\n",
    "    y2 = ManualParameter('y2')\n",
    "\n",
    "    meas.register_parameter(x1, paramtype=paramtype)\n",
    "    meas.register_parameter(x2, paramtype=paramtype)\n",
    "    meas.register_parameter(x3, paramtype=paramtype)\n",
    "    meas.register_parameter(y1, setpoints=[x1, x2, x3],\n",
    "                            paramtype=paramtype)\n",
    "    meas.register_parameter(y2, setpoints=[x1, x2, x3],\n",
    "                            paramtype=paramtype)\n",
    "    start = time.perf_counter()\n",
    "    with meas.run() as datasaver:\n",
    "        start_adding = time.perf_counter()\n",
    "        for i in range(nreps):\n",
    "            datasaver.add_result((x1, np.random.rand(npoints)),\n",
    "                                 (x2, np.random.rand(npoints)),\n",
    "                                 (x3, np.random.rand(npoints)),\n",
    "                                 (y1, np.random.rand(npoints)),\n",
    "                                 (y2, np.random.rand(npoints)))\n",
    "        stop_adding = time.perf_counter()\n",
    "        run_id = datasaver.run_id\n",
    "    stop = time.perf_counter()\n",
    "    tot_time = stop - start\n",
    "    add_time = stop_adding - start_adding\n",
    "    return tot_time, add_time, run_id"
   ]
  },
  {
   "cell_type": "markdown",
   "metadata": {},
   "source": [
    "## Comparison between numeric/array data and binary blob"
   ]
  },
  {
   "cell_type": "markdown",
   "metadata": {},
   "source": [
    "### Case1: Short experiment time"
   ]
  },
  {
   "cell_type": "code",
   "execution_count": 5,
   "metadata": {},
   "outputs": [
    {
     "name": "stdout",
     "output_type": "stream",
     "text": [
      "Starting experimental run with id: 1. \n",
      "Starting experimental run with id: 2. \n",
      "Starting experimental run with id: 3. \n"
     ]
    },
    {
     "name": "stdout",
     "output_type": "stream",
     "text": [
      "Starting experimental run with id: 4. \n"
     ]
    },
    {
     "name": "stdout",
     "output_type": "stream",
     "text": [
      "Starting experimental run with id: 5. \n",
      "Starting experimental run with id: 6. \n"
     ]
    },
    {
     "name": "stdout",
     "output_type": "stream",
     "text": [
      "Starting experimental run with id: 7. \n"
     ]
    },
    {
     "name": "stdout",
     "output_type": "stream",
     "text": [
      "Starting experimental run with id: 8. \n"
     ]
    },
    {
     "name": "stdout",
     "output_type": "stream",
     "text": [
      "Starting experimental run with id: 9. \n"
     ]
    },
    {
     "name": "stdout",
     "output_type": "stream",
     "text": [
      "Starting experimental run with id: 10. \n",
      "Starting experimental run with id: 11. \n"
     ]
    },
    {
     "name": "stdout",
     "output_type": "stream",
     "text": [
      "Starting experimental run with id: 12. \n"
     ]
    },
    {
     "name": "stdout",
     "output_type": "stream",
     "text": [
      "Starting experimental run with id: 13. \n"
     ]
    },
    {
     "name": "stdout",
     "output_type": "stream",
     "text": [
      "Starting experimental run with id: 14. \n"
     ]
    }
   ],
   "source": [
    "sizes = [1,500,1000,2000,3000,4000,5000]\n",
    "t_numeric = []\n",
    "t_numeric_add = []\n",
    "t_array = []\n",
    "t_array_add = []\n",
    "for size in sizes:\n",
    "    tn, tna, run_id_n =  insert_data('numeric', size)\n",
    "    t_numeric.append(tn)\n",
    "    t_numeric_add.append(tna)\n",
    "\n",
    "    ta, taa, run_id_a =  insert_data('array', size)\n",
    "    t_array.append(ta)\n",
    "    t_array_add.append(taa)"
   ]
  },
  {
   "cell_type": "code",
   "execution_count": 6,
   "metadata": {},
   "outputs": [
    {
     "data": {
      "image/png": "[encoded data removed]",
      "text/plain": [
       "<Figure size 432x288 with 1 Axes>"
      ]
     },
     "metadata": {
      "needs_background": "light"
     },
     "output_type": "display_data"
    }
   ],
   "source": [
    "fig, ax = plt.subplots(1,1)\n",
    "ax.plot(sizes, t_numeric, 'o-', label='Inserting row-by-row')\n",
    "ax.plot(sizes, t_numeric_add, 'o-', label='Inserting row-by-row: add_result only')\n",
    "ax.plot(sizes, t_array, 'd-', label='Inserting as binary blob')\n",
    "ax.plot(sizes, t_array_add, 'd-', label='Inserting as binary blob: add_result only')\n",
    "ax.legend()\n",
    "ax.set_xlabel('Array length')\n",
    "ax.set_ylabel('Time (s)')\n",
    "fig.tight_layout()"
   ]
  },
  {
   "cell_type": "markdown",
   "metadata": {},
   "source": [
    "As shown in the latter figure, the time to setup and and close the experiment is approximately 0.4 sec. In case of small array sizes, the difference between inserting values of data as arrays and inserting them row-by-row is relatively unimportant. At larger array sizes, i.e. above 10000 points, the cost of writing data as individual datapoints starts to become important.\n"
   ]
  },
  {
   "cell_type": "markdown",
   "metadata": {},
   "source": [
    "### Case2: Long experiment time "
   ]
  },
  {
   "cell_type": "code",
   "execution_count": 7,
   "metadata": {},
   "outputs": [
    {
     "name": "stdout",
     "output_type": "stream",
     "text": [
      "Starting experimental run with id: 15. \n",
      "Starting experimental run with id: 16. \n",
      "Starting experimental run with id: 17. \n"
     ]
    },
    {
     "name": "stdout",
     "output_type": "stream",
     "text": [
      "Starting experimental run with id: 18. \n",
      "Starting experimental run with id: 19. \n"
     ]
    },
    {
     "name": "stdout",
     "output_type": "stream",
     "text": [
      "Starting experimental run with id: 20. \n"
     ]
    },
    {
     "name": "stdout",
     "output_type": "stream",
     "text": [
      "Starting experimental run with id: 21. \n"
     ]
    },
    {
     "name": "stdout",
     "output_type": "stream",
     "text": [
      "Starting experimental run with id: 22. \n"
     ]
    },
    {
     "name": "stdout",
     "output_type": "stream",
     "text": [
      "Starting experimental run with id: 23. \n"
     ]
    },
    {
     "name": "stdout",
     "output_type": "stream",
     "text": [
      "Starting experimental run with id: 24. \n"
     ]
    },
    {
     "name": "stdout",
     "output_type": "stream",
     "text": [
      "Starting experimental run with id: 25. \n"
     ]
    },
    {
     "name": "stdout",
     "output_type": "stream",
     "text": [
      "Starting experimental run with id: 26. \n"
     ]
    },
    {
     "name": "stdout",
     "output_type": "stream",
     "text": [
      "Starting experimental run with id: 27. \n"
     ]
    },
    {
     "name": "stdout",
     "output_type": "stream",
     "text": [
      "Starting experimental run with id: 28. \n"
     ]
    }
   ],
   "source": [
    "sizes = [1,500,1000,2000,3000,4000,5000]\n",
    "nreps = 100\n",
    "t_numeric = []\n",
    "t_numeric_add = []\n",
    "t_numeric_run_ids = []\n",
    "t_array = []\n",
    "t_array_add = []\n",
    "t_array_run_ids = []\n",
    "for size in sizes:\n",
    "    tn, tna, run_id_n =  insert_data('numeric', size, nreps=nreps)\n",
    "    t_numeric.append(tn)\n",
    "    t_numeric_add.append(tna)\n",
    "    t_numeric_run_ids.append(run_id_n)\n",
    "\n",
    "    ta, taa, run_id_a =  insert_data('array', size, nreps=nreps)\n",
    "    t_array.append(ta)\n",
    "    t_array_add.append(taa)\n",
    "    t_array_run_ids.append(run_id_a)"
   ]
  },
  {
   "cell_type": "code",
   "execution_count": 8,
   "metadata": {
    "scrolled": true
   },
   "outputs": [
    {
     "data": {
      "image/png": "[encoded data removed]",
      "text/plain": [
       "<Figure size 432x288 with 1 Axes>"
      ]
     },
     "metadata": {
      "needs_background": "light"
     },
     "output_type": "display_data"
    }
   ],
   "source": [
    "fig, ax = plt.subplots(1,1)\n",
    "ax.plot(sizes, t_numeric, 'o-', label='Inserting row-by-row')\n",
    "ax.plot(sizes, t_numeric_add, 'o-', label='Inserting row-by-row: add_result only')\n",
    "ax.plot(sizes, t_array, 'd-', label='Inserting as binary blob')\n",
    "ax.plot(sizes, t_array_add, 'd-', label='Inserting as binary blob: add_result only')\n",
    "ax.legend()\n",
    "ax.set_xlabel('Array length')\n",
    "ax.set_ylabel('Time (s)')\n",
    "fig.tight_layout()"
   ]
  },
  {
   "cell_type": "markdown",
   "metadata": {},
   "source": [
    "However, as we increase the length of the experiment, as seen here by repeating the insertion 100 times, we see a big difference between inserting values of the data row-by-row and inserting it as a binary blob."
   ]
  },
  {
   "cell_type": "markdown",
   "metadata": {},
   "source": [
    "## Loading the data "
   ]
  },
  {
   "cell_type": "code",
   "execution_count": 9,
   "metadata": {},
   "outputs": [],
   "source": [
    "from qcodes.dataset.data_set import load_by_id\n",
    "from qcodes.dataset.data_export import get_data_by_id"
   ]
  },
  {
   "cell_type": "markdown",
   "metadata": {},
   "source": [
    "As usual you can load the data by using the ``load_by_id`` function but you will notice that the different storage methods\n",
    "are reflected in shape of the data as it is retrieved. "
   ]
  },
  {
   "cell_type": "code",
   "execution_count": 10,
   "metadata": {},
   "outputs": [],
   "source": [
    "run_id_n = t_numeric_run_ids[0]\n",
    "run_id_a = t_array_run_ids[0]"
   ]
  },
  {
   "cell_type": "code",
   "execution_count": 11,
   "metadata": {
    "scrolled": true
   },
   "outputs": [
    {
     "data": {
      "text/plain": [
       "{'x1': {'x1': array([0.79917871, 0.79917871, 0.5061436 , 0.5061436 , 0.13963375,\n",
       "         0.13963375, 0.7995867 , 0.7995867 , 0.15853108, 0.15853108,\n",
       "         0.3059237 , 0.3059237 , 0.75995187, 0.75995187, 0.09232043,\n",
       "         0.09232043, 0.73135846, 0.73135846, 0.09400418, 0.09400418,\n",
       "         0.42122637, 0.42122637, 0.18272953, 0.18272953, 0.94470925,\n",
       "         0.94470925, 0.80424244, 0.80424244, 0.6580951 , 0.6580951 ,\n",
       "         0.47775549, 0.47775549, 0.04900746, 0.04900746, 0.81798152,\n",
       "         0.81798152, 0.71037347, 0.71037347, 0.75457837, 0.75457837,\n",
       "         0.72370379, 0.72370379, 0.89050983, 0.89050983, 0.59793709,\n",
       "         0.59793709, 0.29752082, 0.29752082, 0.15177339, 0.15177339,\n",
       "         0.97567181, 0.97567181, 0.62463415, 0.62463415, 0.64001072,\n",
       "         0.64001072, 0.19357268, 0.19357268, 0.12766446, 0.12766446,\n",
       "         0.39159061, 0.39159061, 0.41323956, 0.41323956, 0.9353967 ,\n",
       "         0.9353967 , 0.23467101, 0.23467101, 0.71779853, 0.71779853,\n",
       "         0.10319754, 0.10319754, 0.23273994, 0.23273994, 0.85468234,\n",
       "         0.85468234, 0.39205102, 0.39205102, 0.67999211, 0.67999211,\n",
       "         0.60469191, 0.60469191, 0.7818194 , 0.7818194 , 0.77479129,\n",
       "         0.77479129, 0.55237619, 0.55237619, 0.99128207, 0.99128207,\n",
       "         0.19600598, 0.19600598, 0.82020848, 0.82020848, 0.50845897,\n",
       "         0.50845897, 0.34426936, 0.34426936, 0.84626088, 0.84626088,\n",
       "         0.27261952, 0.27261952, 0.70872527, 0.70872527, 0.62577225,\n",
       "         0.62577225, 0.03129214, 0.03129214, 0.8713637 , 0.8713637 ,\n",
       "         0.40292952, 0.40292952, 0.95132946, 0.95132946, 0.45014339,\n",
       "         0.45014339, 0.30771971, 0.30771971, 0.64232982, 0.64232982,\n",
       "         0.52338192, 0.52338192, 0.93921596, 0.93921596, 0.2849838 ,\n",
       "         0.2849838 , 0.58591574, 0.58591574, 0.96222058, 0.96222058,\n",
       "         0.71811117, 0.71811117, 0.07668127, 0.07668127, 0.88829685,\n",
       "         0.88829685, 0.08756705, 0.08756705, 0.59586239, 0.59586239,\n",
       "         0.72059179, 0.72059179, 0.6374821 , 0.6374821 , 0.78173349,\n",
       "         0.78173349, 0.24535885, 0.24535885, 0.66466179, 0.66466179,\n",
       "         0.58986199, 0.58986199, 0.61708772, 0.61708772, 0.59676091,\n",
       "         0.59676091, 0.19117007, 0.19117007, 0.57658263, 0.57658263,\n",
       "         0.76812817, 0.76812817, 0.2704106 , 0.2704106 , 0.6357502 ,\n",
       "         0.6357502 , 0.99989053, 0.99989053, 0.91899948, 0.91899948,\n",
       "         0.51621799, 0.51621799, 0.54708639, 0.54708639, 0.89552393,\n",
       "         0.89552393, 0.36273082, 0.36273082, 0.19062855, 0.19062855,\n",
       "         0.99144525, 0.99144525, 0.36934604, 0.36934604, 0.96654681,\n",
       "         0.96654681, 0.61377447, 0.61377447, 0.0785963 , 0.0785963 ,\n",
       "         0.9854075 , 0.9854075 , 0.35139162, 0.35139162, 0.69484464,\n",
       "         0.69484464, 0.16162483, 0.16162483, 0.03638982, 0.03638982])}}"
      ]
     },
     "execution_count": 11,
     "metadata": {},
     "output_type": "execute_result"
    }
   ],
   "source": [
    "ds = load_by_id(run_id_n)\n",
    "ds.get_parameter_data('x1')"
   ]
  },
  {
   "cell_type": "markdown",
   "metadata": {},
   "source": [
    "And a dataset stored as binary arrays"
   ]
  },
  {
   "cell_type": "code",
   "execution_count": 12,
   "metadata": {
    "scrolled": true
   },
   "outputs": [
    {
     "data": {
      "text/plain": [
       "{'x1': {'x1': array([[0.13694044],\n",
       "         [0.13694044],\n",
       "         [0.88313731],\n",
       "         [0.88313731],\n",
       "         [0.81343309],\n",
       "         [0.81343309],\n",
       "         [0.73831499],\n",
       "         [0.73831499],\n",
       "         [0.2503548 ],\n",
       "         [0.2503548 ],\n",
       "         [0.26543782],\n",
       "         [0.26543782],\n",
       "         [0.14418897],\n",
       "         [0.14418897],\n",
       "         [0.0071914 ],\n",
       "         [0.0071914 ],\n",
       "         [0.50768167],\n",
       "         [0.50768167],\n",
       "         [0.33252135],\n",
       "         [0.33252135],\n",
       "         [0.69597373],\n",
       "         [0.69597373],\n",
       "         [0.67605814],\n",
       "         [0.67605814],\n",
       "         [0.30753239],\n",
       "         [0.30753239],\n",
       "         [0.77821281],\n",
       "         [0.77821281],\n",
       "         [0.54301692],\n",
       "         [0.54301692],\n",
       "         [0.74819195],\n",
       "         [0.74819195],\n",
       "         [0.3485432 ],\n",
       "         [0.3485432 ],\n",
       "         [0.61287741],\n",
       "         [0.61287741],\n",
       "         [0.89247853],\n",
       "         [0.89247853],\n",
       "         [0.58230588],\n",
       "         [0.58230588],\n",
       "         [0.79494656],\n",
       "         [0.79494656],\n",
       "         [0.89991103],\n",
       "         [0.89991103],\n",
       "         [0.62373261],\n",
       "         [0.62373261],\n",
       "         [0.54215802],\n",
       "         [0.54215802],\n",
       "         [0.12130012],\n",
       "         [0.12130012],\n",
       "         [0.99765332],\n",
       "         [0.99765332],\n",
       "         [0.61159558],\n",
       "         [0.61159558],\n",
       "         [0.41457141],\n",
       "         [0.41457141],\n",
       "         [0.80244474],\n",
       "         [0.80244474],\n",
       "         [0.0727031 ],\n",
       "         [0.0727031 ],\n",
       "         [0.49809666],\n",
       "         [0.49809666],\n",
       "         [0.77868742],\n",
       "         [0.77868742],\n",
       "         [0.13667094],\n",
       "         [0.13667094],\n",
       "         [0.30018238],\n",
       "         [0.30018238],\n",
       "         [0.89740767],\n",
       "         [0.89740767],\n",
       "         [0.0320478 ],\n",
       "         [0.0320478 ],\n",
       "         [0.61986914],\n",
       "         [0.61986914],\n",
       "         [0.68319769],\n",
       "         [0.68319769],\n",
       "         [0.66704326],\n",
       "         [0.66704326],\n",
       "         [0.73879936],\n",
       "         [0.73879936],\n",
       "         [0.02619501],\n",
       "         [0.02619501],\n",
       "         [0.55901996],\n",
       "         [0.55901996],\n",
       "         [0.7031509 ],\n",
       "         [0.7031509 ],\n",
       "         [0.33705058],\n",
       "         [0.33705058],\n",
       "         [0.76120097],\n",
       "         [0.76120097],\n",
       "         [0.56645518],\n",
       "         [0.56645518],\n",
       "         [0.73627052],\n",
       "         [0.73627052],\n",
       "         [0.7187339 ],\n",
       "         [0.7187339 ],\n",
       "         [0.79143038],\n",
       "         [0.79143038],\n",
       "         [0.72552674],\n",
       "         [0.72552674],\n",
       "         [0.49662512],\n",
       "         [0.49662512],\n",
       "         [0.40012574],\n",
       "         [0.40012574],\n",
       "         [0.19024108],\n",
       "         [0.19024108],\n",
       "         [0.6617098 ],\n",
       "         [0.6617098 ],\n",
       "         [0.89140221],\n",
       "         [0.89140221],\n",
       "         [0.34115535],\n",
       "         [0.34115535],\n",
       "         [0.68451804],\n",
       "         [0.68451804],\n",
       "         [0.07435922],\n",
       "         [0.07435922],\n",
       "         [0.141965  ],\n",
       "         [0.141965  ],\n",
       "         [0.45116322],\n",
       "         [0.45116322],\n",
       "         [0.18695012],\n",
       "         [0.18695012],\n",
       "         [0.08213424],\n",
       "         [0.08213424],\n",
       "         [0.87835312],\n",
       "         [0.87835312],\n",
       "         [0.04471597],\n",
       "         [0.04471597],\n",
       "         [0.70520091],\n",
       "         [0.70520091],\n",
       "         [0.25835224],\n",
       "         [0.25835224],\n",
       "         [0.68191875],\n",
       "         [0.68191875],\n",
       "         [0.98710408],\n",
       "         [0.98710408],\n",
       "         [0.56647754],\n",
       "         [0.56647754],\n",
       "         [0.25613168],\n",
       "         [0.25613168],\n",
       "         [0.82356339],\n",
       "         [0.82356339],\n",
       "         [0.19280642],\n",
       "         [0.19280642],\n",
       "         [0.50601649],\n",
       "         [0.50601649],\n",
       "         [0.16975847],\n",
       "         [0.16975847],\n",
       "         [0.91580013],\n",
       "         [0.91580013],\n",
       "         [0.74166868],\n",
       "         [0.74166868],\n",
       "         [0.69394273],\n",
       "         [0.69394273],\n",
       "         [0.37546752],\n",
       "         [0.37546752],\n",
       "         [0.39747328],\n",
       "         [0.39747328],\n",
       "         [0.59142013],\n",
       "         [0.59142013],\n",
       "         [0.48806919],\n",
       "         [0.48806919],\n",
       "         [0.16118398],\n",
       "         [0.16118398],\n",
       "         [0.76588456],\n",
       "         [0.76588456],\n",
       "         [0.92162758],\n",
       "         [0.92162758],\n",
       "         [0.99947048],\n",
       "         [0.99947048],\n",
       "         [0.66461236],\n",
       "         [0.66461236],\n",
       "         [0.02020402],\n",
       "         [0.02020402],\n",
       "         [0.80995019],\n",
       "         [0.80995019],\n",
       "         [0.55711057],\n",
       "         [0.55711057],\n",
       "         [0.27711233],\n",
       "         [0.27711233],\n",
       "         [0.43111143],\n",
       "         [0.43111143],\n",
       "         [0.15758672],\n",
       "         [0.15758672],\n",
       "         [0.92161303],\n",
       "         [0.92161303],\n",
       "         [0.2318662 ],\n",
       "         [0.2318662 ],\n",
       "         [0.28516303],\n",
       "         [0.28516303],\n",
       "         [0.59579511],\n",
       "         [0.59579511],\n",
       "         [0.08031008],\n",
       "         [0.08031008],\n",
       "         [0.59835634],\n",
       "         [0.59835634],\n",
       "         [0.27561631],\n",
       "         [0.27561631],\n",
       "         [0.8783042 ],\n",
       "         [0.8783042 ]])}}"
      ]
     },
     "execution_count": 12,
     "metadata": {},
     "output_type": "execute_result"
    }
   ],
   "source": [
    "ds = load_by_id(run_id_a)\n",
    "ds.get_parameter_data('x1')"
   ]
  },
  {
   "cell_type": "code",
   "execution_count": null,
   "metadata": {},
   "outputs": [],
   "source": []
  }
 ],
 "metadata": {
  "kernelspec": {
   "display_name": "Python 3",
   "language": "python",
   "name": "python3"
  },
  "language_info": {
   "codemirror_mode": {
    "name": "ipython",
    "version": 3
   },
   "file_extension": ".py",
   "mimetype": "text/x-python",
   "name": "python",
   "nbconvert_exporter": "python",
   "pygments_lexer": "ipython3",
   "version": "3.7.7"
  },
  "nbsphinx": {
   "timeout": 600
  },
  "toc": {
   "base_numbering": 1,
   "nav_menu": {},
   "number_sections": true,
   "sideBar": true,
   "skip_h1_title": false,
   "title_cell": "Table of Contents",
   "title_sidebar": "Contents",
   "toc_cell": false,
   "toc_position": {},
   "toc_section_display": true,
   "toc_window_display": false
  },
  "varInspector": {
   "cols": {
    "lenName": 16,
    "lenType": 16,
    "lenVar": 40
   },
   "kernels_config": {
    "python": {
     "delete_cmd_postfix": "",
     "delete_cmd_prefix": "del ",
     "library": "var_list.py",
     "varRefreshCmd": "print(var_dic_list())"
    },
    "r": {
     "delete_cmd_postfix": ") ",
     "delete_cmd_prefix": "rm(",
     "library": "var_list.r",
     "varRefreshCmd": "cat(var_dic_list()) "
    }
   },
   "types_to_exclude": [
    "module",
    "function",
    "builtin_function_or_method",
    "instance",
    "_Feature"
   ],
   "window_display": false
  }
 },
 "nbformat": 4,
 "nbformat_minor": 2
}
