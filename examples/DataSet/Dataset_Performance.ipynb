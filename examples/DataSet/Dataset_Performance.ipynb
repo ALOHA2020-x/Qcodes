{
 "cells": [
  {
   "cell_type": "markdown",
   "metadata": {},
   "source": [
    "# DataSet Performance\n",
    "\n",
    "This notebook shows the trade-off between inserting data into a database row-by-row and as binary blobs. Inserting the data row-by-row means that we have direct access to all the data and may perform queries directly on the values of the data. On the other hand, as we shall see, this is much slower than inserting the data directly as binary blobs."
   ]
  },
  {
   "cell_type": "markdown",
   "metadata": {},
   "source": [
    "First, we choose a new location for the database to ensure that we don't add a bunch of benchmarking data to the default one."
   ]
  },
  {
   "cell_type": "code",
   "execution_count": 1,
   "metadata": {
    "execution": {
     "iopub.execute_input": "2021-03-26T10:27:27.258899Z",
     "iopub.status.busy": "2021-03-26T10:27:27.258228Z",
     "iopub.status.idle": "2021-03-26T10:27:28.390534Z",
     "shell.execute_reply": "2021-03-26T10:27:28.389860Z"
    }
   },
   "outputs": [
    {
     "name": "stdout",
     "output_type": "stream",
     "text": [
      "Logging hadn't been started.\n",
      "Activating auto-logging. Current session state plus future input saved.\n",
      "Filename       : /home/runner/.qcodes/logs/command_history.log\n",
      "Mode           : append\n",
      "Output logging : True\n",
      "Raw input log  : False\n",
      "Timestamping   : True\n",
      "State          : active\n"
     ]
    },
    {
     "name": "stdout",
     "output_type": "stream",
     "text": [
      "Qcodes Logfile : /home/runner/.qcodes/logs/210326-4465-qcodes.log\n"
     ]
    }
   ],
   "source": [
    "import os\n",
    "cwd = os.getcwd()\n",
    "import qcodes as qc\n",
    "qc.config[\"core\"][\"db_location\"] = os.path.join(cwd, 'testing.db')\n"
   ]
  },
  {
   "cell_type": "code",
   "execution_count": 2,
   "metadata": {
    "execution": {
     "iopub.execute_input": "2021-03-26T10:27:28.400353Z",
     "iopub.status.busy": "2021-03-26T10:27:28.399209Z",
     "iopub.status.idle": "2021-03-26T10:27:28.648080Z",
     "shell.execute_reply": "2021-03-26T10:27:28.647184Z"
    }
   },
   "outputs": [],
   "source": [
    "%matplotlib inline\n",
    "import time\n",
    "import matplotlib.pyplot as plt\n",
    "import numpy as np\n",
    "\n",
    "import qcodes as qc\n",
    "from qcodes.instrument.parameter import ManualParameter\n",
    "from qcodes.dataset.experiment_container import (Experiment,\n",
    "                                                 load_last_experiment,\n",
    "                                                 new_experiment)\n",
    "from qcodes.dataset.sqlite.database import initialise_database\n",
    "from qcodes import load_or_create_experiment\n",
    "from qcodes.dataset.measurements import Measurement"
   ]
  },
  {
   "cell_type": "code",
   "execution_count": 3,
   "metadata": {
    "execution": {
     "iopub.execute_input": "2021-03-26T10:27:28.652272Z",
     "iopub.status.busy": "2021-03-26T10:27:28.651612Z",
     "iopub.status.idle": "2021-03-26T10:27:28.736293Z",
     "shell.execute_reply": "2021-03-26T10:27:28.736851Z"
    }
   },
   "outputs": [
    {
     "name": "stdout",
     "output_type": "stream",
     "text": [
      "\r",
      "0it [00:00, ?it/s]"
     ]
    },
    {
     "name": "stdout",
     "output_type": "stream",
     "text": [
      "\r",
      "Upgrading database; v0 -> v1: : 0it [00:00, ?it/s]"
     ]
    },
    {
     "name": "stdout",
     "output_type": "stream",
     "text": [
      "\r",
      "Upgrading database; v0 -> v1: : 0it [00:00, ?it/s]"
     ]
    },
    {
     "name": "stdout",
     "output_type": "stream",
     "text": [
      "\n",
      "\r",
      "  0%|          | 0/1 [00:00<?, ?it/s]"
     ]
    },
    {
     "name": "stdout",
     "output_type": "stream",
     "text": [
      "\r",
      "Upgrading database; v1 -> v2:   0%|          | 0/1 [00:00<?, ?it/s]"
     ]
    },
    {
     "name": "stdout",
     "output_type": "stream",
     "text": [
      "\r",
      "Upgrading database; v1 -> v2: 100%|██████████| 1/1 [00:00<00:00, 308.84it/s]"
     ]
    },
    {
     "name": "stdout",
     "output_type": "stream",
     "text": [
      "\n",
      "\r",
      "0it [00:00, ?it/s]"
     ]
    },
    {
     "name": "stdout",
     "output_type": "stream",
     "text": [
      "\r",
      "Upgrading database; v2 -> v3: : 0it [00:00, ?it/s]"
     ]
    },
    {
     "name": "stdout",
     "output_type": "stream",
     "text": [
      "\r",
      "Upgrading database; v2 -> v3: : 0it [00:00, ?it/s]"
     ]
    },
    {
     "name": "stdout",
     "output_type": "stream",
     "text": [
      "\n",
      "\r",
      "0it [00:00, ?it/s]"
     ]
    },
    {
     "name": "stdout",
     "output_type": "stream",
     "text": [
      "\r",
      "Upgrading database; v3 -> v4: : 0it [00:00, ?it/s]"
     ]
    },
    {
     "name": "stdout",
     "output_type": "stream",
     "text": [
      "\r",
      "Upgrading database; v3 -> v4: : 0it [00:00, ?it/s]"
     ]
    },
    {
     "name": "stdout",
     "output_type": "stream",
     "text": [
      "\n",
      "\r",
      "  0%|          | 0/1 [00:00<?, ?it/s]"
     ]
    },
    {
     "name": "stdout",
     "output_type": "stream",
     "text": [
      "\r",
      "Upgrading database; v4 -> v5:   0%|          | 0/1 [00:00<?, ?it/s]"
     ]
    },
    {
     "name": "stdout",
     "output_type": "stream",
     "text": [
      "\r",
      "Upgrading database; v4 -> v5: 100%|██████████| 1/1 [00:00<00:00, 846.14it/s]"
     ]
    },
    {
     "name": "stdout",
     "output_type": "stream",
     "text": [
      "\n",
      "\r",
      "0it [00:00, ?it/s]"
     ]
    },
    {
     "name": "stdout",
     "output_type": "stream",
     "text": [
      "\r",
      "Upgrading database; v5 -> v6: : 0it [00:00, ?it/s]"
     ]
    },
    {
     "name": "stdout",
     "output_type": "stream",
     "text": [
      "\r",
      "Upgrading database; v5 -> v6: : 0it [00:00, ?it/s]"
     ]
    },
    {
     "name": "stdout",
     "output_type": "stream",
     "text": [
      "\n",
      "\r",
      "  0%|          | 0/1 [00:00<?, ?it/s]"
     ]
    },
    {
     "name": "stdout",
     "output_type": "stream",
     "text": [
      "\r",
      "Upgrading database; v6 -> v7:   0%|          | 0/1 [00:00<?, ?it/s]"
     ]
    },
    {
     "name": "stdout",
     "output_type": "stream",
     "text": [
      "\r",
      "Upgrading database; v6 -> v7: 100%|██████████| 1/1 [00:00<00:00, 282.18it/s]"
     ]
    },
    {
     "name": "stdout",
     "output_type": "stream",
     "text": [
      "\n",
      "\r",
      "  0%|          | 0/1 [00:00<?, ?it/s]"
     ]
    },
    {
     "name": "stdout",
     "output_type": "stream",
     "text": [
      "\r",
      "Upgrading database; v7 -> v8:   0%|          | 0/1 [00:00<?, ?it/s]"
     ]
    },
    {
     "name": "stdout",
     "output_type": "stream",
     "text": [
      "\r",
      "Upgrading database; v7 -> v8: 100%|██████████| 1/1 [00:00<00:00, 380.75it/s]"
     ]
    },
    {
     "name": "stdout",
     "output_type": "stream",
     "text": [
      "\n",
      "\r",
      "  0%|          | 0/1 [00:00<?, ?it/s]"
     ]
    },
    {
     "name": "stdout",
     "output_type": "stream",
     "text": [
      "\r",
      "Upgrading database; v8 -> v9:   0%|          | 0/1 [00:00<?, ?it/s]"
     ]
    },
    {
     "name": "stdout",
     "output_type": "stream",
     "text": [
      "\r",
      "Upgrading database; v8 -> v9: 100%|██████████| 1/1 [00:00<00:00, 579.24it/s]"
     ]
    },
    {
     "name": "stdout",
     "output_type": "stream",
     "text": [
      "\n"
     ]
    }
   ],
   "source": [
    "initialise_database()\n",
    "exp = load_or_create_experiment(experiment_name='tutorial_exp', sample_name=\"no sample\")"
   ]
  },
  {
   "cell_type": "markdown",
   "metadata": {},
   "source": [
    "Here, we define a simple function to benchmark the time it takes to insert n points with either numeric or array data type.\n",
    "We will compare both the time used to call ``add_result`` and the time used for the full measurement."
   ]
  },
  {
   "cell_type": "code",
   "execution_count": 4,
   "metadata": {
    "execution": {
     "iopub.execute_input": "2021-03-26T10:27:28.747456Z",
     "iopub.status.busy": "2021-03-26T10:27:28.745999Z",
     "iopub.status.idle": "2021-03-26T10:27:28.748153Z",
     "shell.execute_reply": "2021-03-26T10:27:28.748693Z"
    }
   },
   "outputs": [],
   "source": [
    "def insert_data(paramtype, npoints, nreps=1):\n",
    "\n",
    "    meas = Measurement(exp=exp)\n",
    "\n",
    "    x1 = ManualParameter('x1')\n",
    "    x2 = ManualParameter('x2')\n",
    "    x3 = ManualParameter('x3')\n",
    "    y1 = ManualParameter('y1')\n",
    "    y2 = ManualParameter('y2')\n",
    "\n",
    "    meas.register_parameter(x1, paramtype=paramtype)\n",
    "    meas.register_parameter(x2, paramtype=paramtype)\n",
    "    meas.register_parameter(x3, paramtype=paramtype)\n",
    "    meas.register_parameter(y1, setpoints=[x1, x2, x3],\n",
    "                            paramtype=paramtype)\n",
    "    meas.register_parameter(y2, setpoints=[x1, x2, x3],\n",
    "                            paramtype=paramtype)\n",
    "    start = time.perf_counter()\n",
    "    with meas.run() as datasaver:\n",
    "        start_adding = time.perf_counter()\n",
    "        for i in range(nreps):\n",
    "            datasaver.add_result((x1, np.random.rand(npoints)),\n",
    "                                 (x2, np.random.rand(npoints)),\n",
    "                                 (x3, np.random.rand(npoints)),\n",
    "                                 (y1, np.random.rand(npoints)),\n",
    "                                 (y2, np.random.rand(npoints)))\n",
    "        stop_adding = time.perf_counter()\n",
    "        run_id = datasaver.run_id\n",
    "    stop = time.perf_counter()\n",
    "    tot_time = stop - start\n",
    "    add_time = stop_adding - start_adding\n",
    "    return tot_time, add_time, run_id"
   ]
  },
  {
   "cell_type": "markdown",
   "metadata": {},
   "source": [
    "## Comparison between numeric/array data and binary blob"
   ]
  },
  {
   "cell_type": "markdown",
   "metadata": {},
   "source": [
    "### Case1: Short experiment time"
   ]
  },
  {
   "cell_type": "code",
   "execution_count": 5,
   "metadata": {
    "execution": {
     "iopub.execute_input": "2021-03-26T10:27:28.755610Z",
     "iopub.status.busy": "2021-03-26T10:27:28.754298Z",
     "iopub.status.idle": "2021-03-26T10:27:29.621013Z",
     "shell.execute_reply": "2021-03-26T10:27:29.621514Z"
    }
   },
   "outputs": [
    {
     "name": "stdout",
     "output_type": "stream",
     "text": [
      "Starting experimental run with id: 1. \n",
      "Starting experimental run with id: 2. \n",
      "Starting experimental run with id: 3. \n",
      "Starting experimental run with id: 4. \n",
      "Starting experimental run with id: 5. \n"
     ]
    },
    {
     "name": "stdout",
     "output_type": "stream",
     "text": [
      "Starting experimental run with id: 6. \n"
     ]
    },
    {
     "name": "stdout",
     "output_type": "stream",
     "text": [
      "Starting experimental run with id: 7. \n"
     ]
    },
    {
     "name": "stdout",
     "output_type": "stream",
     "text": [
      "Starting experimental run with id: 8. \n",
      "Starting experimental run with id: 9. \n"
     ]
    },
    {
     "name": "stdout",
     "output_type": "stream",
     "text": [
      "Starting experimental run with id: 10. \n",
      "Starting experimental run with id: 11. \n"
     ]
    },
    {
     "name": "stdout",
     "output_type": "stream",
     "text": [
      "Starting experimental run with id: 12. \n",
      "Starting experimental run with id: 13. \n"
     ]
    },
    {
     "name": "stdout",
     "output_type": "stream",
     "text": [
      "Starting experimental run with id: 14. \n"
     ]
    }
   ],
   "source": [
    "sizes = [1,500,1000,2000,3000,4000,5000]\n",
    "t_numeric = []\n",
    "t_numeric_add = []\n",
    "t_array = []\n",
    "t_array_add = []\n",
    "for size in sizes:\n",
    "    tn, tna, run_id_n =  insert_data('numeric', size)\n",
    "    t_numeric.append(tn)\n",
    "    t_numeric_add.append(tna)\n",
    "\n",
    "    ta, taa, run_id_a =  insert_data('array', size)\n",
    "    t_array.append(ta)\n",
    "    t_array_add.append(taa)"
   ]
  },
  {
   "cell_type": "code",
   "execution_count": 6,
   "metadata": {
    "execution": {
     "iopub.execute_input": "2021-03-26T10:27:29.642087Z",
     "iopub.status.busy": "2021-03-26T10:27:29.641443Z",
     "iopub.status.idle": "2021-03-26T10:27:29.874760Z",
     "shell.execute_reply": "2021-03-26T10:27:29.874189Z"
    }
   },
   "outputs": [
    {
     "data": {
      "image/png": "[encoded data removed]",
      "text/plain": [
       "<Figure size 432x288 with 1 Axes>"
      ]
     },
     "metadata": {
      "needs_background": "light"
     },
     "output_type": "display_data"
    }
   ],
   "source": [
    "fig, ax = plt.subplots(1,1)\n",
    "ax.plot(sizes, t_numeric, 'o-', label='Inserting row-by-row')\n",
    "ax.plot(sizes, t_numeric_add, 'o-', label='Inserting row-by-row: add_result only')\n",
    "ax.plot(sizes, t_array, 'd-', label='Inserting as binary blob')\n",
    "ax.plot(sizes, t_array_add, 'd-', label='Inserting as binary blob: add_result only')\n",
    "ax.legend()\n",
    "ax.set_xlabel('Array length')\n",
    "ax.set_ylabel('Time (s)')\n",
    "fig.tight_layout()"
   ]
  },
  {
   "cell_type": "markdown",
   "metadata": {},
   "source": [
    "As shown in the latter figure, the time to setup and and close the experiment is approximately 0.4 sec. In case of small array sizes, the difference between inserting values of data as arrays and inserting them row-by-row is relatively unimportant. At larger array sizes, i.e. above 10000 points, the cost of writing data as individual datapoints starts to become important.\n"
   ]
  },
  {
   "cell_type": "markdown",
   "metadata": {},
   "source": [
    "### Case2: Long experiment time "
   ]
  },
  {
   "cell_type": "code",
   "execution_count": 7,
   "metadata": {
    "execution": {
     "iopub.execute_input": "2021-03-26T10:27:29.882905Z",
     "iopub.status.busy": "2021-03-26T10:27:29.881738Z",
     "iopub.status.idle": "2021-03-26T10:28:33.733919Z",
     "shell.execute_reply": "2021-03-26T10:28:33.733324Z"
    }
   },
   "outputs": [
    {
     "name": "stdout",
     "output_type": "stream",
     "text": [
      "Starting experimental run with id: 15. \n",
      "Starting experimental run with id: 16. \n"
     ]
    },
    {
     "name": "stdout",
     "output_type": "stream",
     "text": [
      "Starting experimental run with id: 17. \n"
     ]
    },
    {
     "name": "stdout",
     "output_type": "stream",
     "text": [
      "Starting experimental run with id: 18. \n"
     ]
    },
    {
     "name": "stdout",
     "output_type": "stream",
     "text": [
      "Starting experimental run with id: 19. \n"
     ]
    },
    {
     "name": "stdout",
     "output_type": "stream",
     "text": [
      "Starting experimental run with id: 20. \n"
     ]
    },
    {
     "name": "stdout",
     "output_type": "stream",
     "text": [
      "Starting experimental run with id: 21. \n"
     ]
    },
    {
     "name": "stdout",
     "output_type": "stream",
     "text": [
      "Starting experimental run with id: 22. \n"
     ]
    },
    {
     "name": "stdout",
     "output_type": "stream",
     "text": [
      "Starting experimental run with id: 23. \n"
     ]
    },
    {
     "name": "stdout",
     "output_type": "stream",
     "text": [
      "Starting experimental run with id: 24. \n"
     ]
    },
    {
     "name": "stdout",
     "output_type": "stream",
     "text": [
      "Starting experimental run with id: 25. \n"
     ]
    },
    {
     "name": "stdout",
     "output_type": "stream",
     "text": [
      "Starting experimental run with id: 26. \n"
     ]
    },
    {
     "name": "stdout",
     "output_type": "stream",
     "text": [
      "Starting experimental run with id: 27. \n"
     ]
    },
    {
     "name": "stdout",
     "output_type": "stream",
     "text": [
      "Starting experimental run with id: 28. \n"
     ]
    }
   ],
   "source": [
    "sizes = [1,500,1000,2000,3000,4000,5000]\n",
    "nreps = 100\n",
    "t_numeric = []\n",
    "t_numeric_add = []\n",
    "t_numeric_run_ids = []\n",
    "t_array = []\n",
    "t_array_add = []\n",
    "t_array_run_ids = []\n",
    "for size in sizes:\n",
    "    tn, tna, run_id_n =  insert_data('numeric', size, nreps=nreps)\n",
    "    t_numeric.append(tn)\n",
    "    t_numeric_add.append(tna)\n",
    "    t_numeric_run_ids.append(run_id_n)\n",
    "\n",
    "    ta, taa, run_id_a =  insert_data('array', size, nreps=nreps)\n",
    "    t_array.append(ta)\n",
    "    t_array_add.append(taa)\n",
    "    t_array_run_ids.append(run_id_a)"
   ]
  },
  {
   "cell_type": "code",
   "execution_count": 8,
   "metadata": {
    "execution": {
     "iopub.execute_input": "2021-03-26T10:28:33.752752Z",
     "iopub.status.busy": "2021-03-26T10:28:33.752110Z",
     "iopub.status.idle": "2021-03-26T10:28:33.981488Z",
     "shell.execute_reply": "2021-03-26T10:28:33.982039Z"
    },
    "scrolled": true
   },
   "outputs": [
    {
     "data": {
      "image/png": "[encoded data removed]",
      "text/plain": [
       "<Figure size 432x288 with 1 Axes>"
      ]
     },
     "metadata": {
      "needs_background": "light"
     },
     "output_type": "display_data"
    }
   ],
   "source": [
    "fig, ax = plt.subplots(1,1)\n",
    "ax.plot(sizes, t_numeric, 'o-', label='Inserting row-by-row')\n",
    "ax.plot(sizes, t_numeric_add, 'o-', label='Inserting row-by-row: add_result only')\n",
    "ax.plot(sizes, t_array, 'd-', label='Inserting as binary blob')\n",
    "ax.plot(sizes, t_array_add, 'd-', label='Inserting as binary blob: add_result only')\n",
    "ax.legend()\n",
    "ax.set_xlabel('Array length')\n",
    "ax.set_ylabel('Time (s)')\n",
    "fig.tight_layout()"
   ]
  },
  {
   "cell_type": "markdown",
   "metadata": {},
   "source": [
    "However, as we increase the length of the experiment, as seen here by repeating the insertion 100 times, we see a big difference between inserting values of the data row-by-row and inserting it as a binary blob."
   ]
  },
  {
   "cell_type": "markdown",
   "metadata": {},
   "source": [
    "## Loading the data "
   ]
  },
  {
   "cell_type": "code",
   "execution_count": 9,
   "metadata": {
    "execution": {
     "iopub.execute_input": "2021-03-26T10:28:33.987000Z",
     "iopub.status.busy": "2021-03-26T10:28:33.985804Z",
     "iopub.status.idle": "2021-03-26T10:28:33.989493Z",
     "shell.execute_reply": "2021-03-26T10:28:33.988958Z"
    }
   },
   "outputs": [],
   "source": [
    "from qcodes.dataset.data_set import load_by_id\n",
    "from qcodes.dataset.data_export import get_data_by_id"
   ]
  },
  {
   "cell_type": "markdown",
   "metadata": {},
   "source": [
    "As usual you can load the data by using the ``load_by_id`` function but you will notice that the different storage methods\n",
    "are reflected in shape of the data as it is retrieved. "
   ]
  },
  {
   "cell_type": "code",
   "execution_count": 10,
   "metadata": {
    "execution": {
     "iopub.execute_input": "2021-03-26T10:28:33.994504Z",
     "iopub.status.busy": "2021-03-26T10:28:33.993236Z",
     "iopub.status.idle": "2021-03-26T10:28:33.995319Z",
     "shell.execute_reply": "2021-03-26T10:28:33.995854Z"
    }
   },
   "outputs": [],
   "source": [
    "run_id_n = t_numeric_run_ids[0]\n",
    "run_id_a = t_array_run_ids[0]"
   ]
  },
  {
   "cell_type": "code",
   "execution_count": 11,
   "metadata": {
    "execution": {
     "iopub.execute_input": "2021-03-26T10:28:33.999526Z",
     "iopub.status.busy": "2021-03-26T10:28:33.998898Z",
     "iopub.status.idle": "2021-03-26T10:28:34.009284Z",
     "shell.execute_reply": "2021-03-26T10:28:34.009819Z"
    },
    "scrolled": true
   },
   "outputs": [
    {
     "data": {
      "text/plain": [
       "{'x1': {'x1': array([0.32191579, 0.32191579, 0.72964162, 0.72964162, 0.9958156 ,\n",
       "         0.9958156 , 0.29239506, 0.29239506, 0.27162369, 0.27162369,\n",
       "         0.33119481, 0.33119481, 0.56482751, 0.56482751, 0.20737434,\n",
       "         0.20737434, 0.52419015, 0.52419015, 0.12840652, 0.12840652,\n",
       "         0.25419947, 0.25419947, 0.58896621, 0.58896621, 0.40140209,\n",
       "         0.40140209, 0.21528633, 0.21528633, 0.15196457, 0.15196457,\n",
       "         0.94255371, 0.94255371, 0.26066542, 0.26066542, 0.14410891,\n",
       "         0.14410891, 0.82645785, 0.82645785, 0.70557811, 0.70557811,\n",
       "         0.31167003, 0.31167003, 0.64509769, 0.64509769, 0.33365997,\n",
       "         0.33365997, 0.98255895, 0.98255895, 0.4989324 , 0.4989324 ,\n",
       "         0.73565488, 0.73565488, 0.32747642, 0.32747642, 0.21474332,\n",
       "         0.21474332, 0.51586071, 0.51586071, 0.86313657, 0.86313657,\n",
       "         0.21954828, 0.21954828, 0.77268483, 0.77268483, 0.25310581,\n",
       "         0.25310581, 0.09523521, 0.09523521, 0.16472285, 0.16472285,\n",
       "         0.27389653, 0.27389653, 0.43022597, 0.43022597, 0.76904367,\n",
       "         0.76904367, 0.76041103, 0.76041103, 0.20296337, 0.20296337,\n",
       "         0.03409046, 0.03409046, 0.08006636, 0.08006636, 0.8475035 ,\n",
       "         0.8475035 , 0.90374032, 0.90374032, 0.24985343, 0.24985343,\n",
       "         0.52487959, 0.52487959, 0.09455584, 0.09455584, 0.61645051,\n",
       "         0.61645051, 0.7247785 , 0.7247785 , 0.97183418, 0.97183418,\n",
       "         0.51937154, 0.51937154, 0.74695386, 0.74695386, 0.63097706,\n",
       "         0.63097706, 0.23803476, 0.23803476, 0.48886409, 0.48886409,\n",
       "         0.70472633, 0.70472633, 0.25426161, 0.25426161, 0.13362396,\n",
       "         0.13362396, 0.60097101, 0.60097101, 0.17323247, 0.17323247,\n",
       "         0.48723092, 0.48723092, 0.64507796, 0.64507796, 0.50136713,\n",
       "         0.50136713, 0.77460765, 0.77460765, 0.07609414, 0.07609414,\n",
       "         0.98381099, 0.98381099, 0.88917768, 0.88917768, 0.10123019,\n",
       "         0.10123019, 0.62979817, 0.62979817, 0.99528795, 0.99528795,\n",
       "         0.92821703, 0.92821703, 0.47603851, 0.47603851, 0.61415753,\n",
       "         0.61415753, 0.33794932, 0.33794932, 0.80767986, 0.80767986,\n",
       "         0.12955303, 0.12955303, 0.35207436, 0.35207436, 0.05074915,\n",
       "         0.05074915, 0.19555317, 0.19555317, 0.93282659, 0.93282659,\n",
       "         0.03291439, 0.03291439, 0.54274735, 0.54274735, 0.57783149,\n",
       "         0.57783149, 0.42638733, 0.42638733, 0.63505938, 0.63505938,\n",
       "         0.30096967, 0.30096967, 0.19101778, 0.19101778, 0.86923256,\n",
       "         0.86923256, 0.95899897, 0.95899897, 0.8468485 , 0.8468485 ,\n",
       "         0.6597723 , 0.6597723 , 0.67828574, 0.67828574, 0.85743627,\n",
       "         0.85743627, 0.91309162, 0.91309162, 0.03027993, 0.03027993,\n",
       "         0.94622859, 0.94622859, 0.64355729, 0.64355729, 0.53091637,\n",
       "         0.53091637, 0.60322162, 0.60322162, 0.71101524, 0.71101524])}}"
      ]
     },
     "execution_count": 1,
     "metadata": {},
     "output_type": "execute_result"
    }
   ],
   "source": [
    "ds = load_by_id(run_id_n)\n",
    "ds.get_parameter_data('x1')"
   ]
  },
  {
   "cell_type": "markdown",
   "metadata": {},
   "source": [
    "And a dataset stored as binary arrays"
   ]
  },
  {
   "cell_type": "code",
   "execution_count": 12,
   "metadata": {
    "execution": {
     "iopub.execute_input": "2021-03-26T10:28:34.013574Z",
     "iopub.status.busy": "2021-03-26T10:28:34.012946Z",
     "iopub.status.idle": "2021-03-26T10:28:34.081988Z",
     "shell.execute_reply": "2021-03-26T10:28:34.082545Z"
    },
    "scrolled": true
   },
   "outputs": [
    {
     "data": {
      "text/plain": [
       "{'x1': {'x1': array([[0.68051094],\n",
       "         [0.68051094],\n",
       "         [0.58463476],\n",
       "         [0.58463476],\n",
       "         [0.60413615],\n",
       "         [0.60413615],\n",
       "         [0.13276299],\n",
       "         [0.13276299],\n",
       "         [0.63343628],\n",
       "         [0.63343628],\n",
       "         [0.33173381],\n",
       "         [0.33173381],\n",
       "         [0.48654522],\n",
       "         [0.48654522],\n",
       "         [0.63530201],\n",
       "         [0.63530201],\n",
       "         [0.42208888],\n",
       "         [0.42208888],\n",
       "         [0.03293685],\n",
       "         [0.03293685],\n",
       "         [0.10064581],\n",
       "         [0.10064581],\n",
       "         [0.09325566],\n",
       "         [0.09325566],\n",
       "         [0.6304332 ],\n",
       "         [0.6304332 ],\n",
       "         [0.24268804],\n",
       "         [0.24268804],\n",
       "         [0.65528558],\n",
       "         [0.65528558],\n",
       "         [0.77298527],\n",
       "         [0.77298527],\n",
       "         [0.45375573],\n",
       "         [0.45375573],\n",
       "         [0.90442742],\n",
       "         [0.90442742],\n",
       "         [0.91134114],\n",
       "         [0.91134114],\n",
       "         [0.0091816 ],\n",
       "         [0.0091816 ],\n",
       "         [0.67823789],\n",
       "         [0.67823789],\n",
       "         [0.61926668],\n",
       "         [0.61926668],\n",
       "         [0.98957109],\n",
       "         [0.98957109],\n",
       "         [0.5158965 ],\n",
       "         [0.5158965 ],\n",
       "         [0.98226946],\n",
       "         [0.98226946],\n",
       "         [0.75575339],\n",
       "         [0.75575339],\n",
       "         [0.23150645],\n",
       "         [0.23150645],\n",
       "         [0.56585892],\n",
       "         [0.56585892],\n",
       "         [0.85151986],\n",
       "         [0.85151986],\n",
       "         [0.80677205],\n",
       "         [0.80677205],\n",
       "         [0.61825219],\n",
       "         [0.61825219],\n",
       "         [0.66315983],\n",
       "         [0.66315983],\n",
       "         [0.06015279],\n",
       "         [0.06015279],\n",
       "         [0.58707032],\n",
       "         [0.58707032],\n",
       "         [0.23367501],\n",
       "         [0.23367501],\n",
       "         [0.6948046 ],\n",
       "         [0.6948046 ],\n",
       "         [0.79075071],\n",
       "         [0.79075071],\n",
       "         [0.16360733],\n",
       "         [0.16360733],\n",
       "         [0.53631842],\n",
       "         [0.53631842],\n",
       "         [0.15766748],\n",
       "         [0.15766748],\n",
       "         [0.72293928],\n",
       "         [0.72293928],\n",
       "         [0.39024144],\n",
       "         [0.39024144],\n",
       "         [0.32873478],\n",
       "         [0.32873478],\n",
       "         [0.96216585],\n",
       "         [0.96216585],\n",
       "         [0.43539355],\n",
       "         [0.43539355],\n",
       "         [0.73847785],\n",
       "         [0.73847785],\n",
       "         [0.59820041],\n",
       "         [0.59820041],\n",
       "         [0.81576165],\n",
       "         [0.81576165],\n",
       "         [0.28281372],\n",
       "         [0.28281372],\n",
       "         [0.05647614],\n",
       "         [0.05647614],\n",
       "         [0.66063266],\n",
       "         [0.66063266],\n",
       "         [0.71892263],\n",
       "         [0.71892263],\n",
       "         [0.92739783],\n",
       "         [0.92739783],\n",
       "         [0.10073077],\n",
       "         [0.10073077],\n",
       "         [0.43746942],\n",
       "         [0.43746942],\n",
       "         [0.04787614],\n",
       "         [0.04787614],\n",
       "         [0.93571011],\n",
       "         [0.93571011],\n",
       "         [0.96183007],\n",
       "         [0.96183007],\n",
       "         [0.50673496],\n",
       "         [0.50673496],\n",
       "         [0.19328567],\n",
       "         [0.19328567],\n",
       "         [0.89350129],\n",
       "         [0.89350129],\n",
       "         [0.2180186 ],\n",
       "         [0.2180186 ],\n",
       "         [0.47647936],\n",
       "         [0.47647936],\n",
       "         [0.35454612],\n",
       "         [0.35454612],\n",
       "         [0.15836468],\n",
       "         [0.15836468],\n",
       "         [0.72175073],\n",
       "         [0.72175073],\n",
       "         [0.17420493],\n",
       "         [0.17420493],\n",
       "         [0.32309681],\n",
       "         [0.32309681],\n",
       "         [0.28976564],\n",
       "         [0.28976564],\n",
       "         [0.57444279],\n",
       "         [0.57444279],\n",
       "         [0.66568512],\n",
       "         [0.66568512],\n",
       "         [0.43616339],\n",
       "         [0.43616339],\n",
       "         [0.56843122],\n",
       "         [0.56843122],\n",
       "         [0.92541623],\n",
       "         [0.92541623],\n",
       "         [0.17049677],\n",
       "         [0.17049677],\n",
       "         [0.87215824],\n",
       "         [0.87215824],\n",
       "         [0.32915504],\n",
       "         [0.32915504],\n",
       "         [0.91793015],\n",
       "         [0.91793015],\n",
       "         [0.32074172],\n",
       "         [0.32074172],\n",
       "         [0.38154537],\n",
       "         [0.38154537],\n",
       "         [0.71712528],\n",
       "         [0.71712528],\n",
       "         [0.59803962],\n",
       "         [0.59803962],\n",
       "         [0.64963507],\n",
       "         [0.64963507],\n",
       "         [0.13802653],\n",
       "         [0.13802653],\n",
       "         [0.43114675],\n",
       "         [0.43114675],\n",
       "         [0.48181244],\n",
       "         [0.48181244],\n",
       "         [0.31449789],\n",
       "         [0.31449789],\n",
       "         [0.30183987],\n",
       "         [0.30183987],\n",
       "         [0.83602493],\n",
       "         [0.83602493],\n",
       "         [0.16629585],\n",
       "         [0.16629585],\n",
       "         [0.31392736],\n",
       "         [0.31392736],\n",
       "         [0.47640855],\n",
       "         [0.47640855],\n",
       "         [0.21355457],\n",
       "         [0.21355457],\n",
       "         [0.94967677],\n",
       "         [0.94967677],\n",
       "         [0.03357511],\n",
       "         [0.03357511],\n",
       "         [0.40224073],\n",
       "         [0.40224073],\n",
       "         [0.95835095],\n",
       "         [0.95835095],\n",
       "         [0.91057199],\n",
       "         [0.91057199],\n",
       "         [0.15730468],\n",
       "         [0.15730468],\n",
       "         [0.36945012],\n",
       "         [0.36945012]])}}"
      ]
     },
     "execution_count": 1,
     "metadata": {},
     "output_type": "execute_result"
    }
   ],
   "source": [
    "ds = load_by_id(run_id_a)\n",
    "ds.get_parameter_data('x1')"
   ]
  },
  {
   "cell_type": "code",
   "execution_count": null,
   "metadata": {},
   "outputs": [],
   "source": []
  }
 ],
 "metadata": {
  "kernelspec": {
   "display_name": "Python 3",
   "language": "python",
   "name": "python3"
  },
  "language_info": {
   "codemirror_mode": {
    "name": "ipython",
    "version": 3
   },
   "file_extension": ".py",
   "mimetype": "text/x-python",
   "name": "python",
   "nbconvert_exporter": "python",
   "pygments_lexer": "ipython3",
   "version": "3.7.10"
  },
  "nbsphinx": {
   "timeout": 600
  },
  "toc": {
   "base_numbering": 1,
   "nav_menu": {},
   "number_sections": true,
   "sideBar": true,
   "skip_h1_title": false,
   "title_cell": "Table of Contents",
   "title_sidebar": "Contents",
   "toc_cell": false,
   "toc_position": {},
   "toc_section_display": true,
   "toc_window_display": false
  },
  "varInspector": {
   "cols": {
    "lenName": 16,
    "lenType": 16,
    "lenVar": 40
   },
   "kernels_config": {
    "python": {
     "delete_cmd_postfix": "",
     "delete_cmd_prefix": "del ",
     "library": "var_list.py",
     "varRefreshCmd": "print(var_dic_list())"
    },
    "r": {
     "delete_cmd_postfix": ") ",
     "delete_cmd_prefix": "rm(",
     "library": "var_list.r",
     "varRefreshCmd": "cat(var_dic_list()) "
    }
   },
   "types_to_exclude": [
    "module",
    "function",
    "builtin_function_or_method",
    "instance",
    "_Feature"
   ],
   "window_display": false
  }
 },
 "nbformat": 4,
 "nbformat_minor": 2
}
