{
 "cells": [
  {
   "cell_type": "markdown",
   "metadata": {},
   "source": [
    "# DataSet Performance\n",
    "\n",
    "This notebook shows the trade-off between inserting data into a database row-by-row and as binary blobs. Inserting the data row-by-row means that we have direct access to all the data and may perform queries directly on the values of the data. On the other hand, as we shall see, this is much slower than inserting the data directly as binary blobs."
   ]
  },
  {
   "cell_type": "markdown",
   "metadata": {},
   "source": [
    "First, we choose a new location for the database to ensure that we don't add a bunch of benchmarking data to the default one."
   ]
  },
  {
   "cell_type": "code",
   "execution_count": 1,
   "metadata": {
    "execution": {
     "iopub.execute_input": "2020-10-16T08:52:39.336724Z",
     "iopub.status.busy": "2020-10-16T08:52:39.336198Z",
     "iopub.status.idle": "2020-10-16T08:52:40.286467Z",
     "shell.execute_reply": "2020-10-16T08:52:40.285911Z"
    }
   },
   "outputs": [
    {
     "name": "stdout",
     "output_type": "stream",
     "text": [
      "Logging hadn't been started.\n",
      "Activating auto-logging. Current session state plus future input saved.\n",
      "Filename       : /home/vsts/.qcodes/logs/command_history.log\n",
      "Mode           : append\n",
      "Output logging : True\n",
      "Raw input log  : False\n",
      "Timestamping   : True\n",
      "State          : active\n"
     ]
    },
    {
     "name": "stdout",
     "output_type": "stream",
     "text": [
      "Qcodes Logfile : /home/vsts/.qcodes/logs/201016-15067-qcodes.log\n"
     ]
    }
   ],
   "source": [
    "import os\n",
    "cwd = os.getcwd()\n",
    "import qcodes as qc\n",
    "qc.config[\"core\"][\"db_location\"] = os.path.join(cwd, 'testing.db')\n"
   ]
  },
  {
   "cell_type": "code",
   "execution_count": 2,
   "metadata": {
    "execution": {
     "iopub.execute_input": "2020-10-16T08:52:40.293722Z",
     "iopub.status.busy": "2020-10-16T08:52:40.292153Z",
     "iopub.status.idle": "2020-10-16T08:52:40.488734Z",
     "shell.execute_reply": "2020-10-16T08:52:40.489189Z"
    }
   },
   "outputs": [],
   "source": [
    "%matplotlib inline\n",
    "import time\n",
    "import matplotlib.pyplot as plt\n",
    "import numpy as np\n",
    "\n",
    "import qcodes as qc\n",
    "from qcodes.instrument.parameter import ManualParameter\n",
    "from qcodes.dataset.experiment_container import (Experiment,\n",
    "                                                 load_last_experiment,\n",
    "                                                 new_experiment)\n",
    "from qcodes.dataset.sqlite.database import initialise_database\n",
    "from qcodes import load_or_create_experiment\n",
    "from qcodes.dataset.measurements import Measurement"
   ]
  },
  {
   "cell_type": "code",
   "execution_count": 3,
   "metadata": {
    "execution": {
     "iopub.execute_input": "2020-10-16T08:52:40.493478Z",
     "iopub.status.busy": "2020-10-16T08:52:40.492553Z",
     "iopub.status.idle": "2020-10-16T08:52:40.593886Z",
     "shell.execute_reply": "2020-10-16T08:52:40.593200Z"
    }
   },
   "outputs": [
    {
     "name": "stdout",
     "output_type": "stream",
     "text": [
      "\r",
      "0it [00:00, ?it/s]"
     ]
    },
    {
     "name": "stdout",
     "output_type": "stream",
     "text": [
      "\r",
      "Upgrading database; v0 -> v1: : 0it [00:00, ?it/s]"
     ]
    },
    {
     "name": "stdout",
     "output_type": "stream",
     "text": [
      "\r",
      "Upgrading database; v0 -> v1: : 0it [00:00, ?it/s]"
     ]
    },
    {
     "name": "stdout",
     "output_type": "stream",
     "text": [
      "\n",
      "\r",
      "  0%|          | 0/1 [00:00<?, ?it/s]"
     ]
    },
    {
     "name": "stdout",
     "output_type": "stream",
     "text": [
      "\r",
      "Upgrading database; v1 -> v2:   0%|          | 0/1 [00:00<?, ?it/s]"
     ]
    },
    {
     "name": "stdout",
     "output_type": "stream",
     "text": [
      "\r",
      "Upgrading database; v1 -> v2: 100%|██████████| 1/1 [00:00<00:00, 799.07it/s]"
     ]
    },
    {
     "name": "stdout",
     "output_type": "stream",
     "text": [
      "\n",
      "\r",
      "0it [00:00, ?it/s]"
     ]
    },
    {
     "name": "stdout",
     "output_type": "stream",
     "text": [
      "\r",
      "Upgrading database; v2 -> v3: : 0it [00:00, ?it/s]"
     ]
    },
    {
     "name": "stdout",
     "output_type": "stream",
     "text": [
      "\r",
      "Upgrading database; v2 -> v3: : 0it [00:00, ?it/s]"
     ]
    },
    {
     "name": "stdout",
     "output_type": "stream",
     "text": [
      "\n",
      "\r",
      "0it [00:00, ?it/s]"
     ]
    },
    {
     "name": "stdout",
     "output_type": "stream",
     "text": [
      "\r",
      "Upgrading database; v3 -> v4: : 0it [00:00, ?it/s]"
     ]
    },
    {
     "name": "stdout",
     "output_type": "stream",
     "text": [
      "\r",
      "Upgrading database; v3 -> v4: : 0it [00:00, ?it/s]"
     ]
    },
    {
     "name": "stdout",
     "output_type": "stream",
     "text": [
      "\n",
      "\r",
      "  0%|          | 0/1 [00:00<?, ?it/s]"
     ]
    },
    {
     "name": "stdout",
     "output_type": "stream",
     "text": [
      "\r",
      "Upgrading database; v4 -> v5:   0%|          | 0/1 [00:00<?, ?it/s]"
     ]
    },
    {
     "name": "stdout",
     "output_type": "stream",
     "text": [
      "\r",
      "Upgrading database; v4 -> v5: 100%|██████████| 1/1 [00:00<00:00, 652.71it/s]"
     ]
    },
    {
     "name": "stdout",
     "output_type": "stream",
     "text": [
      "\n",
      "\r",
      "0it [00:00, ?it/s]"
     ]
    },
    {
     "name": "stdout",
     "output_type": "stream",
     "text": [
      "\r",
      "Upgrading database; v5 -> v6: : 0it [00:00, ?it/s]"
     ]
    },
    {
     "name": "stdout",
     "output_type": "stream",
     "text": [
      "\r",
      "Upgrading database; v5 -> v6: : 0it [00:00, ?it/s]"
     ]
    },
    {
     "name": "stdout",
     "output_type": "stream",
     "text": [
      "\n",
      "\r",
      "  0%|          | 0/1 [00:00<?, ?it/s]"
     ]
    },
    {
     "name": "stdout",
     "output_type": "stream",
     "text": [
      "\r",
      "Upgrading database; v6 -> v7:   0%|          | 0/1 [00:00<?, ?it/s]"
     ]
    },
    {
     "name": "stdout",
     "output_type": "stream",
     "text": [
      "\r",
      "Upgrading database; v6 -> v7: 100%|██████████| 1/1 [00:00<00:00, 402.49it/s]"
     ]
    },
    {
     "name": "stdout",
     "output_type": "stream",
     "text": [
      "\n",
      "\r",
      "  0%|          | 0/1 [00:00<?, ?it/s]"
     ]
    },
    {
     "name": "stdout",
     "output_type": "stream",
     "text": [
      "\r",
      "Upgrading database; v7 -> v8:   0%|          | 0/1 [00:00<?, ?it/s]"
     ]
    },
    {
     "name": "stdout",
     "output_type": "stream",
     "text": [
      "\r",
      "Upgrading database; v7 -> v8: 100%|██████████| 1/1 [00:00<00:00, 849.57it/s]"
     ]
    },
    {
     "name": "stdout",
     "output_type": "stream",
     "text": [
      "\n",
      "\r",
      "  0%|          | 0/1 [00:00<?, ?it/s]"
     ]
    },
    {
     "name": "stdout",
     "output_type": "stream",
     "text": [
      "\r",
      "Upgrading database; v8 -> v9:   0%|          | 0/1 [00:00<?, ?it/s]"
     ]
    },
    {
     "name": "stdout",
     "output_type": "stream",
     "text": [
      "\r",
      "Upgrading database; v8 -> v9: 100%|██████████| 1/1 [00:00<00:00, 940.64it/s]"
     ]
    },
    {
     "name": "stdout",
     "output_type": "stream",
     "text": [
      "\n"
     ]
    }
   ],
   "source": [
    "initialise_database()\n",
    "exp = load_or_create_experiment(experiment_name='tutorial_exp', sample_name=\"no sample\")"
   ]
  },
  {
   "cell_type": "markdown",
   "metadata": {},
   "source": [
    "Here, we define a simple function to benchmark the time it takes to insert n points with either numeric or array data type.\n",
    "We will compare both the time used to call ``add_result`` and the time used for the full measurement."
   ]
  },
  {
   "cell_type": "code",
   "execution_count": 4,
   "metadata": {
    "execution": {
     "iopub.execute_input": "2020-10-16T08:52:40.602171Z",
     "iopub.status.busy": "2020-10-16T08:52:40.600894Z",
     "iopub.status.idle": "2020-10-16T08:52:40.602753Z",
     "shell.execute_reply": "2020-10-16T08:52:40.603389Z"
    }
   },
   "outputs": [],
   "source": [
    "def insert_data(paramtype, npoints, nreps=1):\n",
    "\n",
    "    meas = Measurement(exp=exp)\n",
    "\n",
    "    x1 = ManualParameter('x1')\n",
    "    x2 = ManualParameter('x2')\n",
    "    x3 = ManualParameter('x3')\n",
    "    y1 = ManualParameter('y1')\n",
    "    y2 = ManualParameter('y2')\n",
    "\n",
    "    meas.register_parameter(x1, paramtype=paramtype)\n",
    "    meas.register_parameter(x2, paramtype=paramtype)\n",
    "    meas.register_parameter(x3, paramtype=paramtype)\n",
    "    meas.register_parameter(y1, setpoints=[x1, x2, x3],\n",
    "                            paramtype=paramtype)\n",
    "    meas.register_parameter(y2, setpoints=[x1, x2, x3],\n",
    "                            paramtype=paramtype)\n",
    "    start = time.perf_counter()\n",
    "    with meas.run() as datasaver:\n",
    "        start_adding = time.perf_counter()\n",
    "        for i in range(nreps):\n",
    "            datasaver.add_result((x1, np.random.rand(npoints)),\n",
    "                                 (x2, np.random.rand(npoints)),\n",
    "                                 (x3, np.random.rand(npoints)),\n",
    "                                 (y1, np.random.rand(npoints)),\n",
    "                                 (y2, np.random.rand(npoints)))\n",
    "        stop_adding = time.perf_counter()\n",
    "        run_id = datasaver.run_id\n",
    "    stop = time.perf_counter()\n",
    "    tot_time = stop - start\n",
    "    add_time = stop_adding - start_adding\n",
    "    return tot_time, add_time, run_id"
   ]
  },
  {
   "cell_type": "markdown",
   "metadata": {},
   "source": [
    "## Comparison between numeric/array data and binary blob"
   ]
  },
  {
   "cell_type": "markdown",
   "metadata": {},
   "source": [
    "### Case1: Short experiment time"
   ]
  },
  {
   "cell_type": "code",
   "execution_count": 5,
   "metadata": {
    "execution": {
     "iopub.execute_input": "2020-10-16T08:52:40.610104Z",
     "iopub.status.busy": "2020-10-16T08:52:40.609403Z",
     "iopub.status.idle": "2020-10-16T08:52:41.377019Z",
     "shell.execute_reply": "2020-10-16T08:52:41.376459Z"
    }
   },
   "outputs": [
    {
     "name": "stdout",
     "output_type": "stream",
     "text": [
      "Starting experimental run with id: 1. \n",
      "Starting experimental run with id: 2. \n",
      "Starting experimental run with id: 3. \n",
      "Starting experimental run with id: 4. \n",
      "Starting experimental run with id: 5. \n"
     ]
    },
    {
     "name": "stdout",
     "output_type": "stream",
     "text": [
      "Starting experimental run with id: 6. \n"
     ]
    },
    {
     "name": "stdout",
     "output_type": "stream",
     "text": [
      "Starting experimental run with id: 7. "
     ]
    },
    {
     "name": "stdout",
     "output_type": "stream",
     "text": [
      "\n"
     ]
    },
    {
     "name": "stdout",
     "output_type": "stream",
     "text": [
      "Starting experimental run with id: 8. \n",
      "Starting experimental run with id: 9. \n"
     ]
    },
    {
     "name": "stdout",
     "output_type": "stream",
     "text": [
      "Starting experimental run with id: 10. \n"
     ]
    },
    {
     "name": "stdout",
     "output_type": "stream",
     "text": [
      "Starting experimental run with id: 11. \n"
     ]
    },
    {
     "name": "stdout",
     "output_type": "stream",
     "text": [
      "Starting experimental run with id: 12. \n",
      "Starting experimental run with id: 13. \n"
     ]
    },
    {
     "name": "stdout",
     "output_type": "stream",
     "text": [
      "Starting experimental run with id: 14. \n"
     ]
    }
   ],
   "source": [
    "sizes = [1,500,1000,2000,3000,4000,5000]\n",
    "t_numeric = []\n",
    "t_numeric_add = []\n",
    "t_array = []\n",
    "t_array_add = []\n",
    "for size in sizes:\n",
    "    tn, tna, run_id_n =  insert_data('numeric', size)\n",
    "    t_numeric.append(tn)\n",
    "    t_numeric_add.append(tna)\n",
    "\n",
    "    ta, taa, run_id_a =  insert_data('array', size)\n",
    "    t_array.append(ta)\n",
    "    t_array_add.append(taa)"
   ]
  },
  {
   "cell_type": "code",
   "execution_count": 6,
   "metadata": {
    "execution": {
     "iopub.execute_input": "2020-10-16T08:52:41.395093Z",
     "iopub.status.busy": "2020-10-16T08:52:41.394548Z",
     "iopub.status.idle": "2020-10-16T08:52:41.610458Z",
     "shell.execute_reply": "2020-10-16T08:52:41.611108Z"
    }
   },
   "outputs": [
    {
     "data": {
      "image/png": "[encoded data removed]",
      "text/plain": [
       "<Figure size 432x288 with 1 Axes>"
      ]
     },
     "metadata": {
      "needs_background": "light"
     },
     "output_type": "display_data"
    }
   ],
   "source": [
    "fig, ax = plt.subplots(1,1)\n",
    "ax.plot(sizes, t_numeric, 'o-', label='Inserting row-by-row')\n",
    "ax.plot(sizes, t_numeric_add, 'o-', label='Inserting row-by-row: add_result only')\n",
    "ax.plot(sizes, t_array, 'd-', label='Inserting as binary blob')\n",
    "ax.plot(sizes, t_array_add, 'd-', label='Inserting as binary blob: add_result only')\n",
    "ax.legend()\n",
    "ax.set_xlabel('Array length')\n",
    "ax.set_ylabel('Time (s)')\n",
    "fig.tight_layout()"
   ]
  },
  {
   "cell_type": "markdown",
   "metadata": {},
   "source": [
    "As shown in the latter figure, the time to setup and and close the experiment is approximately 0.4 sec. In case of small array sizes, the difference between inserting values of data as arrays and inserting them row-by-row is relatively unimportant. At larger array sizes, i.e. above 10000 points, the cost of writing data as individual datapoints starts to become important.\n"
   ]
  },
  {
   "cell_type": "markdown",
   "metadata": {},
   "source": [
    "### Case2: Long experiment time "
   ]
  },
  {
   "cell_type": "code",
   "execution_count": 7,
   "metadata": {
    "execution": {
     "iopub.execute_input": "2020-10-16T08:52:41.616735Z",
     "iopub.status.busy": "2020-10-16T08:52:41.616265Z",
     "iopub.status.idle": "2020-10-16T08:53:37.064169Z",
     "shell.execute_reply": "2020-10-16T08:53:37.063677Z"
    }
   },
   "outputs": [
    {
     "name": "stdout",
     "output_type": "stream",
     "text": [
      "Starting experimental run with id: 15. \n",
      "Starting experimental run with id: 16. \n",
      "Starting experimental run with id: 17. \n"
     ]
    },
    {
     "name": "stdout",
     "output_type": "stream",
     "text": [
      "Starting experimental run with id: 18. \n",
      "Starting experimental run with id: 19. \n"
     ]
    },
    {
     "name": "stdout",
     "output_type": "stream",
     "text": [
      "Starting experimental run with id: 20. \n"
     ]
    },
    {
     "name": "stdout",
     "output_type": "stream",
     "text": [
      "Starting experimental run with id: 21. \n"
     ]
    },
    {
     "name": "stdout",
     "output_type": "stream",
     "text": [
      "Starting experimental run with id: 22. \n"
     ]
    },
    {
     "name": "stdout",
     "output_type": "stream",
     "text": [
      "Starting experimental run with id: 23. \n"
     ]
    },
    {
     "name": "stdout",
     "output_type": "stream",
     "text": [
      "Starting experimental run with id: 24. \n"
     ]
    },
    {
     "name": "stdout",
     "output_type": "stream",
     "text": [
      "Starting experimental run with id: 25. \n"
     ]
    },
    {
     "name": "stdout",
     "output_type": "stream",
     "text": [
      "Starting experimental run with id: 26. \n"
     ]
    },
    {
     "name": "stdout",
     "output_type": "stream",
     "text": [
      "Starting experimental run with id: 27. \n"
     ]
    },
    {
     "name": "stdout",
     "output_type": "stream",
     "text": [
      "Starting experimental run with id: 28. \n"
     ]
    }
   ],
   "source": [
    "sizes = [1,500,1000,2000,3000,4000,5000]\n",
    "nreps = 100\n",
    "t_numeric = []\n",
    "t_numeric_add = []\n",
    "t_numeric_run_ids = []\n",
    "t_array = []\n",
    "t_array_add = []\n",
    "t_array_run_ids = []\n",
    "for size in sizes:\n",
    "    tn, tna, run_id_n =  insert_data('numeric', size, nreps=nreps)\n",
    "    t_numeric.append(tn)\n",
    "    t_numeric_add.append(tna)\n",
    "    t_numeric_run_ids.append(run_id_n)\n",
    "\n",
    "    ta, taa, run_id_a =  insert_data('array', size, nreps=nreps)\n",
    "    t_array.append(ta)\n",
    "    t_array_add.append(taa)\n",
    "    t_array_run_ids.append(run_id_a)"
   ]
  },
  {
   "cell_type": "code",
   "execution_count": 8,
   "metadata": {
    "execution": {
     "iopub.execute_input": "2020-10-16T08:53:37.090635Z",
     "iopub.status.busy": "2020-10-16T08:53:37.090109Z",
     "iopub.status.idle": "2020-10-16T08:53:37.322100Z",
     "shell.execute_reply": "2020-10-16T08:53:37.322781Z"
    },
    "scrolled": true
   },
   "outputs": [
    {
     "data": {
      "image/png": "[encoded data removed]",
      "text/plain": [
       "<Figure size 432x288 with 1 Axes>"
      ]
     },
     "metadata": {
      "needs_background": "light"
     },
     "output_type": "display_data"
    }
   ],
   "source": [
    "fig, ax = plt.subplots(1,1)\n",
    "ax.plot(sizes, t_numeric, 'o-', label='Inserting row-by-row')\n",
    "ax.plot(sizes, t_numeric_add, 'o-', label='Inserting row-by-row: add_result only')\n",
    "ax.plot(sizes, t_array, 'd-', label='Inserting as binary blob')\n",
    "ax.plot(sizes, t_array_add, 'd-', label='Inserting as binary blob: add_result only')\n",
    "ax.legend()\n",
    "ax.set_xlabel('Array length')\n",
    "ax.set_ylabel('Time (s)')\n",
    "fig.tight_layout()"
   ]
  },
  {
   "cell_type": "markdown",
   "metadata": {},
   "source": [
    "However, as we increase the length of the experiment, as seen here by repeating the insertion 100 times, we see a big difference between inserting values of the data row-by-row and inserting it as a binary blob."
   ]
  },
  {
   "cell_type": "markdown",
   "metadata": {},
   "source": [
    "## Loading the data "
   ]
  },
  {
   "cell_type": "code",
   "execution_count": 9,
   "metadata": {
    "execution": {
     "iopub.execute_input": "2020-10-16T08:53:37.328402Z",
     "iopub.status.busy": "2020-10-16T08:53:37.326206Z",
     "iopub.status.idle": "2020-10-16T08:53:37.329885Z",
     "shell.execute_reply": "2020-10-16T08:53:37.330478Z"
    }
   },
   "outputs": [],
   "source": [
    "from qcodes.dataset.data_set import load_by_id\n",
    "from qcodes.dataset.data_export import get_data_by_id"
   ]
  },
  {
   "cell_type": "markdown",
   "metadata": {},
   "source": [
    "As usual you can load the data by using the ``load_by_id`` function but you will notice that the different storage methods\n",
    "are reflected in shape of the data as it is retrieved. "
   ]
  },
  {
   "cell_type": "code",
   "execution_count": 10,
   "metadata": {
    "execution": {
     "iopub.execute_input": "2020-10-16T08:53:37.334035Z",
     "iopub.status.busy": "2020-10-16T08:53:37.333472Z",
     "iopub.status.idle": "2020-10-16T08:53:37.335492Z",
     "shell.execute_reply": "2020-10-16T08:53:37.336068Z"
    }
   },
   "outputs": [],
   "source": [
    "run_id_n = t_numeric_run_ids[0]\n",
    "run_id_a = t_array_run_ids[0]"
   ]
  },
  {
   "cell_type": "code",
   "execution_count": 11,
   "metadata": {
    "execution": {
     "iopub.execute_input": "2020-10-16T08:53:37.339463Z",
     "iopub.status.busy": "2020-10-16T08:53:37.338929Z",
     "iopub.status.idle": "2020-10-16T08:53:37.348890Z",
     "shell.execute_reply": "2020-10-16T08:53:37.349408Z"
    },
    "scrolled": true
   },
   "outputs": [
    {
     "data": {
      "text/plain": [
       "{'x1': {'x1': array([0.66402953, 0.66402953, 0.82853329, 0.82853329, 0.82349604,\n",
       "         0.82349604, 0.85204503, 0.85204503, 0.14547635, 0.14547635,\n",
       "         0.19896042, 0.19896042, 0.21295163, 0.21295163, 0.39303091,\n",
       "         0.39303091, 0.37253802, 0.37253802, 0.07081239, 0.07081239,\n",
       "         0.23156256, 0.23156256, 0.78827077, 0.78827077, 0.50233506,\n",
       "         0.50233506, 0.58711501, 0.58711501, 0.25445996, 0.25445996,\n",
       "         0.47506602, 0.47506602, 0.90878117, 0.90878117, 0.66689895,\n",
       "         0.66689895, 0.88941591, 0.88941591, 0.75059943, 0.75059943,\n",
       "         0.36826697, 0.36826697, 0.84442076, 0.84442076, 0.68108837,\n",
       "         0.68108837, 0.54023463, 0.54023463, 0.72903352, 0.72903352,\n",
       "         0.4957346 , 0.4957346 , 0.27119481, 0.27119481, 0.00392155,\n",
       "         0.00392155, 0.1791929 , 0.1791929 , 0.48498883, 0.48498883,\n",
       "         0.15269284, 0.15269284, 0.19964354, 0.19964354, 0.68519745,\n",
       "         0.68519745, 0.63152482, 0.63152482, 0.44019886, 0.44019886,\n",
       "         0.17835171, 0.17835171, 0.89766578, 0.89766578, 0.94544353,\n",
       "         0.94544353, 0.24135332, 0.24135332, 0.57324758, 0.57324758,\n",
       "         0.03835706, 0.03835706, 0.41844851, 0.41844851, 0.07236856,\n",
       "         0.07236856, 0.21078054, 0.21078054, 0.55881337, 0.55881337,\n",
       "         0.45201046, 0.45201046, 0.03126257, 0.03126257, 0.53091991,\n",
       "         0.53091991, 0.50828689, 0.50828689, 0.6291571 , 0.6291571 ,\n",
       "         0.15523105, 0.15523105, 0.58503013, 0.58503013, 0.85526653,\n",
       "         0.85526653, 0.65775443, 0.65775443, 0.5068181 , 0.5068181 ,\n",
       "         0.44527202, 0.44527202, 0.1565956 , 0.1565956 , 0.27909327,\n",
       "         0.27909327, 0.21330998, 0.21330998, 0.9953844 , 0.9953844 ,\n",
       "         0.14579854, 0.14579854, 0.62551766, 0.62551766, 0.04961256,\n",
       "         0.04961256, 0.31536156, 0.31536156, 0.53043887, 0.53043887,\n",
       "         0.87073785, 0.87073785, 0.31250188, 0.31250188, 0.25120438,\n",
       "         0.25120438, 0.23648395, 0.23648395, 0.95665299, 0.95665299,\n",
       "         0.19787589, 0.19787589, 0.76408369, 0.76408369, 0.98032354,\n",
       "         0.98032354, 0.47985613, 0.47985613, 0.46190925, 0.46190925,\n",
       "         0.18372299, 0.18372299, 0.4013916 , 0.4013916 , 0.27975011,\n",
       "         0.27975011, 0.9752915 , 0.9752915 , 0.21936796, 0.21936796,\n",
       "         0.11695218, 0.11695218, 0.66446392, 0.66446392, 0.98533114,\n",
       "         0.98533114, 0.17583701, 0.17583701, 0.78849855, 0.78849855,\n",
       "         0.69979138, 0.69979138, 0.24166086, 0.24166086, 0.88814512,\n",
       "         0.88814512, 0.14058208, 0.14058208, 0.08371738, 0.08371738,\n",
       "         0.04312633, 0.04312633, 0.62059803, 0.62059803, 0.77463236,\n",
       "         0.77463236, 0.85985102, 0.85985102, 0.80862524, 0.80862524,\n",
       "         0.41464014, 0.41464014, 0.06946432, 0.06946432, 0.25520228,\n",
       "         0.25520228, 0.42741193, 0.42741193, 0.9230681 , 0.9230681 ])}}"
      ]
     },
     "execution_count": 1,
     "metadata": {},
     "output_type": "execute_result"
    }
   ],
   "source": [
    "ds = load_by_id(run_id_n)\n",
    "ds.get_parameter_data('x1')"
   ]
  },
  {
   "cell_type": "markdown",
   "metadata": {},
   "source": [
    "And a dataset stored as binary arrays"
   ]
  },
  {
   "cell_type": "code",
   "execution_count": 12,
   "metadata": {
    "execution": {
     "iopub.execute_input": "2020-10-16T08:53:37.352597Z",
     "iopub.status.busy": "2020-10-16T08:53:37.352002Z",
     "iopub.status.idle": "2020-10-16T08:53:37.418784Z",
     "shell.execute_reply": "2020-10-16T08:53:37.418350Z"
    },
    "scrolled": true
   },
   "outputs": [
    {
     "data": {
      "text/plain": [
       "{'x1': {'x1': array([[0.78144921],\n",
       "         [0.78144921],\n",
       "         [0.76570297],\n",
       "         [0.76570297],\n",
       "         [0.89363434],\n",
       "         [0.89363434],\n",
       "         [0.34439704],\n",
       "         [0.34439704],\n",
       "         [0.03263452],\n",
       "         [0.03263452],\n",
       "         [0.61883228],\n",
       "         [0.61883228],\n",
       "         [0.76513484],\n",
       "         [0.76513484],\n",
       "         [0.46199707],\n",
       "         [0.46199707],\n",
       "         [0.43639585],\n",
       "         [0.43639585],\n",
       "         [0.26727862],\n",
       "         [0.26727862],\n",
       "         [0.10008624],\n",
       "         [0.10008624],\n",
       "         [0.83848638],\n",
       "         [0.83848638],\n",
       "         [0.44512716],\n",
       "         [0.44512716],\n",
       "         [0.56153537],\n",
       "         [0.56153537],\n",
       "         [0.94764889],\n",
       "         [0.94764889],\n",
       "         [0.26374884],\n",
       "         [0.26374884],\n",
       "         [0.73393761],\n",
       "         [0.73393761],\n",
       "         [0.05579079],\n",
       "         [0.05579079],\n",
       "         [0.5330604 ],\n",
       "         [0.5330604 ],\n",
       "         [0.50490651],\n",
       "         [0.50490651],\n",
       "         [0.69800352],\n",
       "         [0.69800352],\n",
       "         [0.03327669],\n",
       "         [0.03327669],\n",
       "         [0.7163952 ],\n",
       "         [0.7163952 ],\n",
       "         [0.58242458],\n",
       "         [0.58242458],\n",
       "         [0.99473254],\n",
       "         [0.99473254],\n",
       "         [0.94349289],\n",
       "         [0.94349289],\n",
       "         [0.48924724],\n",
       "         [0.48924724],\n",
       "         [0.81853429],\n",
       "         [0.81853429],\n",
       "         [0.40694028],\n",
       "         [0.40694028],\n",
       "         [0.01934881],\n",
       "         [0.01934881],\n",
       "         [0.57125891],\n",
       "         [0.57125891],\n",
       "         [0.85779583],\n",
       "         [0.85779583],\n",
       "         [0.97266396],\n",
       "         [0.97266396],\n",
       "         [0.66621704],\n",
       "         [0.66621704],\n",
       "         [0.24368218],\n",
       "         [0.24368218],\n",
       "         [0.42987519],\n",
       "         [0.42987519],\n",
       "         [0.08513681],\n",
       "         [0.08513681],\n",
       "         [0.26673323],\n",
       "         [0.26673323],\n",
       "         [0.86755374],\n",
       "         [0.86755374],\n",
       "         [0.04631024],\n",
       "         [0.04631024],\n",
       "         [0.20816271],\n",
       "         [0.20816271],\n",
       "         [0.94103269],\n",
       "         [0.94103269],\n",
       "         [0.14346586],\n",
       "         [0.14346586],\n",
       "         [0.03378693],\n",
       "         [0.03378693],\n",
       "         [0.38265668],\n",
       "         [0.38265668],\n",
       "         [0.3821248 ],\n",
       "         [0.3821248 ],\n",
       "         [0.23760458],\n",
       "         [0.23760458],\n",
       "         [0.01178216],\n",
       "         [0.01178216],\n",
       "         [0.00949397],\n",
       "         [0.00949397],\n",
       "         [0.88442323],\n",
       "         [0.88442323],\n",
       "         [0.24710346],\n",
       "         [0.24710346],\n",
       "         [0.53589945],\n",
       "         [0.53589945],\n",
       "         [0.08007524],\n",
       "         [0.08007524],\n",
       "         [0.23365098],\n",
       "         [0.23365098],\n",
       "         [0.6852155 ],\n",
       "         [0.6852155 ],\n",
       "         [0.15789759],\n",
       "         [0.15789759],\n",
       "         [0.43557889],\n",
       "         [0.43557889],\n",
       "         [0.24796232],\n",
       "         [0.24796232],\n",
       "         [0.75281266],\n",
       "         [0.75281266],\n",
       "         [0.10025952],\n",
       "         [0.10025952],\n",
       "         [0.39265201],\n",
       "         [0.39265201],\n",
       "         [0.72508159],\n",
       "         [0.72508159],\n",
       "         [0.20137529],\n",
       "         [0.20137529],\n",
       "         [0.81303236],\n",
       "         [0.81303236],\n",
       "         [0.96458968],\n",
       "         [0.96458968],\n",
       "         [0.90102692],\n",
       "         [0.90102692],\n",
       "         [0.35661385],\n",
       "         [0.35661385],\n",
       "         [0.7349981 ],\n",
       "         [0.7349981 ],\n",
       "         [0.08619265],\n",
       "         [0.08619265],\n",
       "         [0.25867027],\n",
       "         [0.25867027],\n",
       "         [0.47855131],\n",
       "         [0.47855131],\n",
       "         [0.49153728],\n",
       "         [0.49153728],\n",
       "         [0.51434863],\n",
       "         [0.51434863],\n",
       "         [0.57514965],\n",
       "         [0.57514965],\n",
       "         [0.55869035],\n",
       "         [0.55869035],\n",
       "         [0.58135731],\n",
       "         [0.58135731],\n",
       "         [0.27499182],\n",
       "         [0.27499182],\n",
       "         [0.12174947],\n",
       "         [0.12174947],\n",
       "         [0.34170404],\n",
       "         [0.34170404],\n",
       "         [0.55368057],\n",
       "         [0.55368057],\n",
       "         [0.6945106 ],\n",
       "         [0.6945106 ],\n",
       "         [0.96696735],\n",
       "         [0.96696735],\n",
       "         [0.50221335],\n",
       "         [0.50221335],\n",
       "         [0.96077589],\n",
       "         [0.96077589],\n",
       "         [0.76829655],\n",
       "         [0.76829655],\n",
       "         [0.51968565],\n",
       "         [0.51968565],\n",
       "         [0.53069012],\n",
       "         [0.53069012],\n",
       "         [0.80927242],\n",
       "         [0.80927242],\n",
       "         [0.81637937],\n",
       "         [0.81637937],\n",
       "         [0.62612011],\n",
       "         [0.62612011],\n",
       "         [0.8115551 ],\n",
       "         [0.8115551 ],\n",
       "         [0.58936787],\n",
       "         [0.58936787],\n",
       "         [0.76484506],\n",
       "         [0.76484506],\n",
       "         [0.55875723],\n",
       "         [0.55875723],\n",
       "         [0.44159077],\n",
       "         [0.44159077],\n",
       "         [0.70082737],\n",
       "         [0.70082737],\n",
       "         [0.57965859],\n",
       "         [0.57965859],\n",
       "         [0.61260363],\n",
       "         [0.61260363],\n",
       "         [0.09658345],\n",
       "         [0.09658345],\n",
       "         [0.66371158],\n",
       "         [0.66371158]])}}"
      ]
     },
     "execution_count": 1,
     "metadata": {},
     "output_type": "execute_result"
    }
   ],
   "source": [
    "ds = load_by_id(run_id_a)\n",
    "ds.get_parameter_data('x1')"
   ]
  },
  {
   "cell_type": "code",
   "execution_count": null,
   "metadata": {},
   "outputs": [],
   "source": []
  }
 ],
 "metadata": {
  "kernelspec": {
   "display_name": "Python 3",
   "language": "python",
   "name": "python3"
  },
  "language_info": {
   "codemirror_mode": {
    "name": "ipython",
    "version": 3
   },
   "file_extension": ".py",
   "mimetype": "text/x-python",
   "name": "python",
   "nbconvert_exporter": "python",
   "pygments_lexer": "ipython3",
   "version": "3.7.7"
  },
  "nbsphinx": {
   "timeout": 600
  },
  "toc": {
   "base_numbering": 1,
   "nav_menu": {},
   "number_sections": true,
   "sideBar": true,
   "skip_h1_title": false,
   "title_cell": "Table of Contents",
   "title_sidebar": "Contents",
   "toc_cell": false,
   "toc_position": {},
   "toc_section_display": true,
   "toc_window_display": false
  },
  "varInspector": {
   "cols": {
    "lenName": 16,
    "lenType": 16,
    "lenVar": 40
   },
   "kernels_config": {
    "python": {
     "delete_cmd_postfix": "",
     "delete_cmd_prefix": "del ",
     "library": "var_list.py",
     "varRefreshCmd": "print(var_dic_list())"
    },
    "r": {
     "delete_cmd_postfix": ") ",
     "delete_cmd_prefix": "rm(",
     "library": "var_list.r",
     "varRefreshCmd": "cat(var_dic_list()) "
    }
   },
   "types_to_exclude": [
    "module",
    "function",
    "builtin_function_or_method",
    "instance",
    "_Feature"
   ],
   "window_display": false
  }
 },
 "nbformat": 4,
 "nbformat_minor": 2
}
