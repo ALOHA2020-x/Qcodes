{
 "cells": [
  {
   "cell_type": "markdown",
   "metadata": {},
   "source": [
    "# DataSet Performance\n",
    "\n",
    "This notebook shows the trade-off between inserting data into a database row-by-row and as binary blobs. Inserting the data row-by-row means that we have direct access to all the data and may perform queries directly on the values of the data. On the other hand, as we shall see, this is much slower than inserting the data directly as binary blobs."
   ]
  },
  {
   "cell_type": "markdown",
   "metadata": {},
   "source": [
    "First, we choose a new location for the database to ensure that we don't add a bunch of benchmarking data to the default one."
   ]
  },
  {
   "cell_type": "code",
   "execution_count": 1,
   "metadata": {},
   "outputs": [
    {
     "name": "stdout",
     "output_type": "stream",
     "text": [
      "Logging hadn't been started.\n",
      "Activating auto-logging. Current session state plus future input saved.\n",
      "Filename       : /home/vsts/.qcodes/logs/command_history.log\n",
      "Mode           : append\n",
      "Output logging : True\n",
      "Raw input log  : False\n",
      "Timestamping   : True\n",
      "State          : active\n"
     ]
    },
    {
     "name": "stdout",
     "output_type": "stream",
     "text": [
      "Qcodes Logfile : /home/vsts/.qcodes/logs/200211-18890-qcodes.log\n"
     ]
    }
   ],
   "source": [
    "import os\n",
    "cwd = os.getcwd()\n",
    "import qcodes as qc\n",
    "qc.config[\"core\"][\"db_location\"] = os.path.join(cwd, 'testing.db')\n"
   ]
  },
  {
   "cell_type": "code",
   "execution_count": 2,
   "metadata": {},
   "outputs": [],
   "source": [
    "%matplotlib inline\n",
    "import time\n",
    "import matplotlib.pyplot as plt\n",
    "import numpy as np\n",
    "\n",
    "import qcodes as qc\n",
    "from qcodes.instrument.parameter import ManualParameter\n",
    "from qcodes.dataset.experiment_container import (Experiment,\n",
    "                                                 load_last_experiment,\n",
    "                                                 new_experiment)\n",
    "from qcodes.dataset.sqlite.database import initialise_database\n",
    "from qcodes import load_or_create_experiment\n",
    "from qcodes.dataset.measurements import Measurement"
   ]
  },
  {
   "cell_type": "code",
   "execution_count": 3,
   "metadata": {},
   "outputs": [
    {
     "name": "stdout",
     "output_type": "stream",
     "text": [
      "\r",
      "0it [00:00, ?it/s]"
     ]
    },
    {
     "name": "stdout",
     "output_type": "stream",
     "text": [
      "\r",
      "Upgrading database; v0 -> v1: : 0it [00:00, ?it/s]"
     ]
    },
    {
     "name": "stdout",
     "output_type": "stream",
     "text": [
      "\r",
      "Upgrading database; v0 -> v1: : 0it [00:00, ?it/s]"
     ]
    },
    {
     "name": "stdout",
     "output_type": "stream",
     "text": [
      "\n",
      "\r",
      "  0%|          | 0/1 [00:00<?, ?it/s]"
     ]
    },
    {
     "name": "stdout",
     "output_type": "stream",
     "text": [
      "\r",
      "Upgrading database; v1 -> v2:   0%|          | 0/1 [00:00<?, ?it/s]"
     ]
    },
    {
     "name": "stdout",
     "output_type": "stream",
     "text": [
      "\r",
      "Upgrading database; v1 -> v2: 100%|██████████| 1/1 [00:00<00:00, 765.24it/s]"
     ]
    },
    {
     "name": "stdout",
     "output_type": "stream",
     "text": [
      "\n",
      "\r",
      "0it [00:00, ?it/s]"
     ]
    },
    {
     "name": "stdout",
     "output_type": "stream",
     "text": [
      "\r",
      "Upgrading database; v2 -> v3: : 0it [00:00, ?it/s]"
     ]
    },
    {
     "name": "stdout",
     "output_type": "stream",
     "text": [
      "\r",
      "Upgrading database; v2 -> v3: : 0it [00:00, ?it/s]"
     ]
    },
    {
     "name": "stdout",
     "output_type": "stream",
     "text": [
      "\n",
      "\r",
      "0it [00:00, ?it/s]"
     ]
    },
    {
     "name": "stdout",
     "output_type": "stream",
     "text": [
      "\r",
      "Upgrading database; v3 -> v4: : 0it [00:00, ?it/s]"
     ]
    },
    {
     "name": "stdout",
     "output_type": "stream",
     "text": [
      "\r",
      "Upgrading database; v3 -> v4: : 0it [00:00, ?it/s]"
     ]
    },
    {
     "name": "stdout",
     "output_type": "stream",
     "text": [
      "\n",
      "\r",
      "  0%|          | 0/1 [00:00<?, ?it/s]"
     ]
    },
    {
     "name": "stdout",
     "output_type": "stream",
     "text": [
      "\r",
      "Upgrading database; v4 -> v5:   0%|          | 0/1 [00:00<?, ?it/s]"
     ]
    },
    {
     "name": "stdout",
     "output_type": "stream",
     "text": [
      "\r",
      "Upgrading database; v4 -> v5: 100%|██████████| 1/1 [00:00<00:00, 947.65it/s]"
     ]
    },
    {
     "name": "stdout",
     "output_type": "stream",
     "text": [
      "\n",
      "\r",
      "0it [00:00, ?it/s]"
     ]
    },
    {
     "name": "stdout",
     "output_type": "stream",
     "text": [
      "\r",
      "Upgrading database; v5 -> v6: : 0it [00:00, ?it/s]"
     ]
    },
    {
     "name": "stdout",
     "output_type": "stream",
     "text": [
      "\r",
      "Upgrading database; v5 -> v6: : 0it [00:00, ?it/s]"
     ]
    },
    {
     "name": "stdout",
     "output_type": "stream",
     "text": [
      "\n"
     ]
    },
    {
     "name": "stdout",
     "output_type": "stream",
     "text": [
      "\r",
      "  0%|          | 0/1 [00:00<?, ?it/s]"
     ]
    },
    {
     "name": "stdout",
     "output_type": "stream",
     "text": [
      "\r",
      "Upgrading database; v6 -> v7:   0%|          | 0/1 [00:00<?, ?it/s]"
     ]
    },
    {
     "name": "stdout",
     "output_type": "stream",
     "text": [
      "\r",
      "Upgrading database; v6 -> v7: 100%|██████████| 1/1 [00:00<00:00, 43.82it/s]"
     ]
    },
    {
     "name": "stdout",
     "output_type": "stream",
     "text": [
      "\n"
     ]
    },
    {
     "name": "stdout",
     "output_type": "stream",
     "text": [
      "\r",
      "  0%|          | 0/1 [00:00<?, ?it/s]"
     ]
    },
    {
     "name": "stdout",
     "output_type": "stream",
     "text": [
      "\r",
      "Upgrading database; v7 -> v8:   0%|          | 0/1 [00:00<?, ?it/s]"
     ]
    },
    {
     "name": "stdout",
     "output_type": "stream",
     "text": [
      "\r",
      "Upgrading database; v7 -> v8: 100%|██████████| 1/1 [00:00<00:00, 849.91it/s]"
     ]
    },
    {
     "name": "stdout",
     "output_type": "stream",
     "text": [
      "\n"
     ]
    }
   ],
   "source": [
    "initialise_database()\n",
    "exp = load_or_create_experiment(experiment_name='tutorial_exp', sample_name=\"no sample\")"
   ]
  },
  {
   "cell_type": "markdown",
   "metadata": {},
   "source": [
    "Here, we define a simple function to benchmark the time it takes to insert n points with either numeric or array data type.\n",
    "We will compare both the time used to call ``add_result`` and the time used for the full measurement."
   ]
  },
  {
   "cell_type": "code",
   "execution_count": 4,
   "metadata": {},
   "outputs": [],
   "source": [
    "def insert_data(paramtype, npoints, nreps=1):\n",
    "\n",
    "    meas = Measurement(exp=exp)\n",
    "\n",
    "    x1 = ManualParameter('x1')\n",
    "    x2 = ManualParameter('x2')\n",
    "    x3 = ManualParameter('x3')\n",
    "    y1 = ManualParameter('y1')\n",
    "    y2 = ManualParameter('y2')\n",
    "\n",
    "    meas.register_parameter(x1, paramtype=paramtype)\n",
    "    meas.register_parameter(x2, paramtype=paramtype)\n",
    "    meas.register_parameter(x3, paramtype=paramtype)\n",
    "    meas.register_parameter(y1, setpoints=[x1, x2, x3],\n",
    "                            paramtype=paramtype)\n",
    "    meas.register_parameter(y2, setpoints=[x1, x2, x3],\n",
    "                            paramtype=paramtype)\n",
    "    start = time.perf_counter()\n",
    "    with meas.run() as datasaver:\n",
    "        start_adding = time.perf_counter()\n",
    "        for i in range(nreps):\n",
    "            datasaver.add_result((x1, np.random.rand(npoints)),\n",
    "                                 (x2, np.random.rand(npoints)),\n",
    "                                 (x3, np.random.rand(npoints)),\n",
    "                                 (y1, np.random.rand(npoints)),\n",
    "                                 (y2, np.random.rand(npoints)))\n",
    "        stop_adding = time.perf_counter()\n",
    "        run_id = datasaver.run_id\n",
    "    stop = time.perf_counter()\n",
    "    tot_time = stop - start\n",
    "    add_time = stop_adding - start_adding\n",
    "    return tot_time, add_time, run_id"
   ]
  },
  {
   "cell_type": "markdown",
   "metadata": {},
   "source": [
    "## Comparison between numeric/array data and binary blob"
   ]
  },
  {
   "cell_type": "markdown",
   "metadata": {},
   "source": [
    "### Case1: Short experiment time"
   ]
  },
  {
   "cell_type": "code",
   "execution_count": 5,
   "metadata": {},
   "outputs": [
    {
     "name": "stdout",
     "output_type": "stream",
     "text": [
      "Starting experimental run with id: 1. \n"
     ]
    },
    {
     "name": "stdout",
     "output_type": "stream",
     "text": [
      "Starting experimental run with id: 2. \n"
     ]
    },
    {
     "name": "stdout",
     "output_type": "stream",
     "text": [
      "Starting experimental run with id: 3. \n"
     ]
    },
    {
     "name": "stdout",
     "output_type": "stream",
     "text": [
      "Starting experimental run with id: 4. \n"
     ]
    },
    {
     "name": "stdout",
     "output_type": "stream",
     "text": [
      "Starting experimental run with id: 5. \n"
     ]
    },
    {
     "name": "stdout",
     "output_type": "stream",
     "text": [
      "Starting experimental run with id: 6. \n"
     ]
    },
    {
     "name": "stdout",
     "output_type": "stream",
     "text": [
      "Starting experimental run with id: 7. \n"
     ]
    },
    {
     "name": "stdout",
     "output_type": "stream",
     "text": [
      "Starting experimental run with id: 8. \n",
      "Starting experimental run with id: 9. \n"
     ]
    },
    {
     "name": "stdout",
     "output_type": "stream",
     "text": [
      "Starting experimental run with id: 10. \n",
      "Starting experimental run with id: 11. \n"
     ]
    },
    {
     "name": "stdout",
     "output_type": "stream",
     "text": [
      "Starting experimental run with id: 12. \n",
      "Starting experimental run with id: 13. \n"
     ]
    },
    {
     "name": "stdout",
     "output_type": "stream",
     "text": [
      "Starting experimental run with id: 14. \n"
     ]
    }
   ],
   "source": [
    "sizes = [1,500,1000,2000,3000,4000,5000]\n",
    "t_numeric = []\n",
    "t_numeric_add = []\n",
    "t_array = []\n",
    "t_array_add = []\n",
    "for size in sizes:\n",
    "    tn, tna, run_id_n =  insert_data('numeric', size)\n",
    "    t_numeric.append(tn)\n",
    "    t_numeric_add.append(tna)\n",
    "\n",
    "    ta, taa, run_id_a =  insert_data('array', size)\n",
    "    t_array.append(ta)\n",
    "    t_array_add.append(taa)"
   ]
  },
  {
   "cell_type": "code",
   "execution_count": 6,
   "metadata": {},
   "outputs": [
    {
     "data": {
      "image/png": "[encoded data removed]",
      "text/plain": [
       "<Figure size 432x288 with 1 Axes>"
      ]
     },
     "metadata": {
      "needs_background": "light"
     },
     "output_type": "display_data"
    }
   ],
   "source": [
    "fig, ax = plt.subplots(1,1)\n",
    "ax.plot(sizes, t_numeric, 'o-', label='Inserting row-by-row')\n",
    "ax.plot(sizes, t_numeric_add, 'o-', label='Inserting row-by-row: add_result only')\n",
    "ax.plot(sizes, t_array, 'd-', label='Inserting as binary blob')\n",
    "ax.plot(sizes, t_array_add, 'd-', label='Inserting as binary blob: add_result only')\n",
    "ax.legend()\n",
    "ax.set_xlabel('Array length')\n",
    "ax.set_ylabel('Time (s)')\n",
    "fig.tight_layout()"
   ]
  },
  {
   "cell_type": "markdown",
   "metadata": {},
   "source": [
    "As shown in the latter figure, the time to setup and and close the experiment is approximately 0.4 sec. In case of small array sizes, the difference between inserting values of data as arrays and inserting them row-by-row is relatively unimportant. At larger array sizes, i.e. above 10000 points, the cost of writing data as individual datapoints starts to become important.\n"
   ]
  },
  {
   "cell_type": "markdown",
   "metadata": {},
   "source": [
    "### Case2: Long experiment time "
   ]
  },
  {
   "cell_type": "code",
   "execution_count": 7,
   "metadata": {},
   "outputs": [
    {
     "name": "stdout",
     "output_type": "stream",
     "text": [
      "Starting experimental run with id: 15. \n",
      "Starting experimental run with id: 16. \n"
     ]
    },
    {
     "name": "stdout",
     "output_type": "stream",
     "text": [
      "Starting experimental run with id: 17. \n"
     ]
    },
    {
     "name": "stdout",
     "output_type": "stream",
     "text": [
      "Starting experimental run with id: 18. \n"
     ]
    },
    {
     "name": "stdout",
     "output_type": "stream",
     "text": [
      "Starting experimental run with id: 19. \n"
     ]
    },
    {
     "name": "stdout",
     "output_type": "stream",
     "text": [
      "Starting experimental run with id: 20. \n"
     ]
    },
    {
     "name": "stdout",
     "output_type": "stream",
     "text": [
      "Starting experimental run with id: 21. \n"
     ]
    },
    {
     "name": "stdout",
     "output_type": "stream",
     "text": [
      "Starting experimental run with id: 22. \n"
     ]
    },
    {
     "name": "stdout",
     "output_type": "stream",
     "text": [
      "Starting experimental run with id: 23. \n"
     ]
    },
    {
     "name": "stdout",
     "output_type": "stream",
     "text": [
      "Starting experimental run with id: 24. \n"
     ]
    },
    {
     "name": "stdout",
     "output_type": "stream",
     "text": [
      "Starting experimental run with id: 25. \n"
     ]
    },
    {
     "name": "stdout",
     "output_type": "stream",
     "text": [
      "Starting experimental run with id: 26. \n"
     ]
    },
    {
     "name": "stdout",
     "output_type": "stream",
     "text": [
      "Starting experimental run with id: 27. \n"
     ]
    },
    {
     "name": "stdout",
     "output_type": "stream",
     "text": [
      "Starting experimental run with id: 28. \n"
     ]
    }
   ],
   "source": [
    "sizes = [1,500,1000,2000,3000,4000,5000]\n",
    "nreps = 100\n",
    "t_numeric = []\n",
    "t_numeric_add = []\n",
    "t_numeric_run_ids = []\n",
    "t_array = []\n",
    "t_array_add = []\n",
    "t_array_run_ids = []\n",
    "for size in sizes:\n",
    "    tn, tna, run_id_n =  insert_data('numeric', size, nreps=nreps)\n",
    "    t_numeric.append(tn)\n",
    "    t_numeric_add.append(tna)\n",
    "    t_numeric_run_ids.append(run_id_n)\n",
    "\n",
    "    ta, taa, run_id_a =  insert_data('array', size, nreps=nreps)\n",
    "    t_array.append(ta)\n",
    "    t_array_add.append(taa)\n",
    "    t_array_run_ids.append(run_id_a)"
   ]
  },
  {
   "cell_type": "code",
   "execution_count": 8,
   "metadata": {
    "scrolled": true
   },
   "outputs": [
    {
     "data": {
      "image/png": "[encoded data removed]",
      "text/plain": [
       "<Figure size 432x288 with 1 Axes>"
      ]
     },
     "metadata": {
      "needs_background": "light"
     },
     "output_type": "display_data"
    }
   ],
   "source": [
    "fig, ax = plt.subplots(1,1)\n",
    "ax.plot(sizes, t_numeric, 'o-', label='Inserting row-by-row')\n",
    "ax.plot(sizes, t_numeric_add, 'o-', label='Inserting row-by-row: add_result only')\n",
    "ax.plot(sizes, t_array, 'd-', label='Inserting as binary blob')\n",
    "ax.plot(sizes, t_array_add, 'd-', label='Inserting as binary blob: add_result only')\n",
    "ax.legend()\n",
    "ax.set_xlabel('Array length')\n",
    "ax.set_ylabel('Time (s)')\n",
    "fig.tight_layout()"
   ]
  },
  {
   "cell_type": "markdown",
   "metadata": {},
   "source": [
    "However, as we increase the length of the experiment, as seen here by repeating the insertion 100 times, we see a big difference between inserting values of the data row-by-row and inserting it as a binary blob."
   ]
  },
  {
   "cell_type": "markdown",
   "metadata": {},
   "source": [
    "## Loading the data "
   ]
  },
  {
   "cell_type": "code",
   "execution_count": 9,
   "metadata": {},
   "outputs": [],
   "source": [
    "from qcodes.dataset.data_set import load_by_id\n",
    "from qcodes.dataset.data_export import get_data_by_id"
   ]
  },
  {
   "cell_type": "markdown",
   "metadata": {},
   "source": [
    "As usual you can load the data by using the ``load_by_id`` function but you will notice that the different storage methods\n",
    "are reflected in shape of the data as it is retrieved. "
   ]
  },
  {
   "cell_type": "code",
   "execution_count": 10,
   "metadata": {},
   "outputs": [],
   "source": [
    "run_id_n = t_numeric_run_ids[0]\n",
    "run_id_a = t_array_run_ids[0]"
   ]
  },
  {
   "cell_type": "code",
   "execution_count": 11,
   "metadata": {
    "scrolled": true
   },
   "outputs": [
    {
     "data": {
      "text/plain": [
       "{'x1': {'x1': array([0.33449286, 0.33449286, 0.59199709, 0.59199709, 0.83035556,\n",
       "         0.83035556, 0.07258499, 0.07258499, 0.79713869, 0.79713869,\n",
       "         0.16635203, 0.16635203, 0.77902096, 0.77902096, 0.5911306 ,\n",
       "         0.5911306 , 0.28177428, 0.28177428, 0.9600596 , 0.9600596 ,\n",
       "         0.23349518, 0.23349518, 0.20291195, 0.20291195, 0.78534963,\n",
       "         0.78534963, 0.10983841, 0.10983841, 0.09622938, 0.09622938,\n",
       "         0.7175295 , 0.7175295 , 0.09711114, 0.09711114, 0.79073952,\n",
       "         0.79073952, 0.81029754, 0.81029754, 0.0335085 , 0.0335085 ,\n",
       "         0.21813866, 0.21813866, 0.26963787, 0.26963787, 0.281913  ,\n",
       "         0.281913  , 0.90481613, 0.90481613, 0.70845873, 0.70845873,\n",
       "         0.83270484, 0.83270484, 0.40613982, 0.40613982, 0.29332243,\n",
       "         0.29332243, 0.26266508, 0.26266508, 0.90565943, 0.90565943,\n",
       "         0.4425677 , 0.4425677 , 0.63798889, 0.63798889, 0.817385  ,\n",
       "         0.817385  , 0.23791362, 0.23791362, 0.09132762, 0.09132762,\n",
       "         0.47411858, 0.47411858, 0.21656957, 0.21656957, 0.59676938,\n",
       "         0.59676938, 0.07748653, 0.07748653, 0.18266199, 0.18266199,\n",
       "         0.22406091, 0.22406091, 0.21453264, 0.21453264, 0.0747799 ,\n",
       "         0.0747799 , 0.95831706, 0.95831706, 0.8768478 , 0.8768478 ,\n",
       "         0.3274656 , 0.3274656 , 0.94507485, 0.94507485, 0.56501142,\n",
       "         0.56501142, 0.33238357, 0.33238357, 0.02220689, 0.02220689,\n",
       "         0.085688  , 0.085688  , 0.30873595, 0.30873595, 0.51675152,\n",
       "         0.51675152, 0.82667812, 0.82667812, 0.02208715, 0.02208715,\n",
       "         0.53216691, 0.53216691, 0.64470916, 0.64470916, 0.80511018,\n",
       "         0.80511018, 0.4785192 , 0.4785192 , 0.95966554, 0.95966554,\n",
       "         0.32615676, 0.32615676, 0.3215239 , 0.3215239 , 0.62410473,\n",
       "         0.62410473, 0.41431125, 0.41431125, 0.06946105, 0.06946105,\n",
       "         0.94394256, 0.94394256, 0.38113505, 0.38113505, 0.41302902,\n",
       "         0.41302902, 0.08521729, 0.08521729, 0.58761058, 0.58761058,\n",
       "         0.43419064, 0.43419064, 0.50878151, 0.50878151, 0.08069037,\n",
       "         0.08069037, 0.08402149, 0.08402149, 0.08854193, 0.08854193,\n",
       "         0.35274766, 0.35274766, 0.06130966, 0.06130966, 0.51957329,\n",
       "         0.51957329, 0.34593054, 0.34593054, 0.21801735, 0.21801735,\n",
       "         0.71401825, 0.71401825, 0.53022432, 0.53022432, 0.19273627,\n",
       "         0.19273627, 0.4136894 , 0.4136894 , 0.00165506, 0.00165506,\n",
       "         0.31383961, 0.31383961, 0.04542854, 0.04542854, 0.19480759,\n",
       "         0.19480759, 0.55764319, 0.55764319, 0.36980483, 0.36980483,\n",
       "         0.81239237, 0.81239237, 0.97473929, 0.97473929, 0.9484843 ,\n",
       "         0.9484843 , 0.86459941, 0.86459941, 0.5431265 , 0.5431265 ,\n",
       "         0.40735646, 0.40735646, 0.82721251, 0.82721251, 0.8741144 ,\n",
       "         0.8741144 , 0.58230597, 0.58230597, 0.33489528, 0.33489528])}}"
      ]
     },
     "execution_count": 11,
     "metadata": {},
     "output_type": "execute_result"
    }
   ],
   "source": [
    "ds = load_by_id(run_id_n)\n",
    "ds.get_parameter_data('x1')"
   ]
  },
  {
   "cell_type": "markdown",
   "metadata": {},
   "source": [
    "And a dataset stored as binary arrays"
   ]
  },
  {
   "cell_type": "code",
   "execution_count": 12,
   "metadata": {
    "scrolled": true
   },
   "outputs": [
    {
     "data": {
      "text/plain": [
       "{'x1': {'x1': array([[0.79450748],\n",
       "         [0.79450748],\n",
       "         [0.19441263],\n",
       "         [0.19441263],\n",
       "         [0.74309392],\n",
       "         [0.74309392],\n",
       "         [0.36764641],\n",
       "         [0.36764641],\n",
       "         [0.34391126],\n",
       "         [0.34391126],\n",
       "         [0.2599556 ],\n",
       "         [0.2599556 ],\n",
       "         [0.5654323 ],\n",
       "         [0.5654323 ],\n",
       "         [0.1641419 ],\n",
       "         [0.1641419 ],\n",
       "         [0.11910468],\n",
       "         [0.11910468],\n",
       "         [0.795609  ],\n",
       "         [0.795609  ],\n",
       "         [0.71507711],\n",
       "         [0.71507711],\n",
       "         [0.95612803],\n",
       "         [0.95612803],\n",
       "         [0.24196974],\n",
       "         [0.24196974],\n",
       "         [0.38622718],\n",
       "         [0.38622718],\n",
       "         [0.15470352],\n",
       "         [0.15470352],\n",
       "         [0.32034913],\n",
       "         [0.32034913],\n",
       "         [0.83767947],\n",
       "         [0.83767947],\n",
       "         [0.30994304],\n",
       "         [0.30994304],\n",
       "         [0.59164253],\n",
       "         [0.59164253],\n",
       "         [0.2796526 ],\n",
       "         [0.2796526 ],\n",
       "         [0.58162264],\n",
       "         [0.58162264],\n",
       "         [0.74356971],\n",
       "         [0.74356971],\n",
       "         [0.77154642],\n",
       "         [0.77154642],\n",
       "         [0.03555058],\n",
       "         [0.03555058],\n",
       "         [0.32789891],\n",
       "         [0.32789891],\n",
       "         [0.30264314],\n",
       "         [0.30264314],\n",
       "         [0.67845485],\n",
       "         [0.67845485],\n",
       "         [0.77291555],\n",
       "         [0.77291555],\n",
       "         [0.23725069],\n",
       "         [0.23725069],\n",
       "         [0.52261438],\n",
       "         [0.52261438],\n",
       "         [0.39157279],\n",
       "         [0.39157279],\n",
       "         [0.78216923],\n",
       "         [0.78216923],\n",
       "         [0.67061796],\n",
       "         [0.67061796],\n",
       "         [0.5197857 ],\n",
       "         [0.5197857 ],\n",
       "         [0.50820298],\n",
       "         [0.50820298],\n",
       "         [0.50168067],\n",
       "         [0.50168067],\n",
       "         [0.37606117],\n",
       "         [0.37606117],\n",
       "         [0.30853164],\n",
       "         [0.30853164],\n",
       "         [0.75999454],\n",
       "         [0.75999454],\n",
       "         [0.32839002],\n",
       "         [0.32839002],\n",
       "         [0.8737761 ],\n",
       "         [0.8737761 ],\n",
       "         [0.61631576],\n",
       "         [0.61631576],\n",
       "         [0.67132993],\n",
       "         [0.67132993],\n",
       "         [0.1852762 ],\n",
       "         [0.1852762 ],\n",
       "         [0.81046722],\n",
       "         [0.81046722],\n",
       "         [0.18443271],\n",
       "         [0.18443271],\n",
       "         [0.73323366],\n",
       "         [0.73323366],\n",
       "         [0.641367  ],\n",
       "         [0.641367  ],\n",
       "         [0.03458383],\n",
       "         [0.03458383],\n",
       "         [0.02416974],\n",
       "         [0.02416974],\n",
       "         [0.44617196],\n",
       "         [0.44617196],\n",
       "         [0.65695279],\n",
       "         [0.65695279],\n",
       "         [0.65500343],\n",
       "         [0.65500343],\n",
       "         [0.94243167],\n",
       "         [0.94243167],\n",
       "         [0.53498172],\n",
       "         [0.53498172],\n",
       "         [0.07029017],\n",
       "         [0.07029017],\n",
       "         [0.85965055],\n",
       "         [0.85965055],\n",
       "         [0.26536235],\n",
       "         [0.26536235],\n",
       "         [0.38757084],\n",
       "         [0.38757084],\n",
       "         [0.0189597 ],\n",
       "         [0.0189597 ],\n",
       "         [0.66060685],\n",
       "         [0.66060685],\n",
       "         [0.73527836],\n",
       "         [0.73527836],\n",
       "         [0.70116724],\n",
       "         [0.70116724],\n",
       "         [0.81161088],\n",
       "         [0.81161088],\n",
       "         [0.53824635],\n",
       "         [0.53824635],\n",
       "         [0.24088442],\n",
       "         [0.24088442],\n",
       "         [0.54119779],\n",
       "         [0.54119779],\n",
       "         [0.65259316],\n",
       "         [0.65259316],\n",
       "         [0.39122178],\n",
       "         [0.39122178],\n",
       "         [0.66513313],\n",
       "         [0.66513313],\n",
       "         [0.44906108],\n",
       "         [0.44906108],\n",
       "         [0.82714866],\n",
       "         [0.82714866],\n",
       "         [0.59787582],\n",
       "         [0.59787582],\n",
       "         [0.36755528],\n",
       "         [0.36755528],\n",
       "         [0.75844827],\n",
       "         [0.75844827],\n",
       "         [0.57819789],\n",
       "         [0.57819789],\n",
       "         [0.50252169],\n",
       "         [0.50252169],\n",
       "         [0.04978261],\n",
       "         [0.04978261],\n",
       "         [0.80165336],\n",
       "         [0.80165336],\n",
       "         [0.67330642],\n",
       "         [0.67330642],\n",
       "         [0.35579804],\n",
       "         [0.35579804],\n",
       "         [0.22349982],\n",
       "         [0.22349982],\n",
       "         [0.04730471],\n",
       "         [0.04730471],\n",
       "         [0.41324338],\n",
       "         [0.41324338],\n",
       "         [0.8582868 ],\n",
       "         [0.8582868 ],\n",
       "         [0.16521825],\n",
       "         [0.16521825],\n",
       "         [0.06300339],\n",
       "         [0.06300339],\n",
       "         [0.29059731],\n",
       "         [0.29059731],\n",
       "         [0.3070907 ],\n",
       "         [0.3070907 ],\n",
       "         [0.98653884],\n",
       "         [0.98653884],\n",
       "         [0.04815082],\n",
       "         [0.04815082],\n",
       "         [0.81514715],\n",
       "         [0.81514715],\n",
       "         [0.33453604],\n",
       "         [0.33453604],\n",
       "         [0.47031133],\n",
       "         [0.47031133],\n",
       "         [0.34360141],\n",
       "         [0.34360141],\n",
       "         [0.4568653 ],\n",
       "         [0.4568653 ],\n",
       "         [0.88836618],\n",
       "         [0.88836618],\n",
       "         [0.69239075],\n",
       "         [0.69239075],\n",
       "         [0.49995475],\n",
       "         [0.49995475],\n",
       "         [0.11363092],\n",
       "         [0.11363092]])}}"
      ]
     },
     "execution_count": 12,
     "metadata": {},
     "output_type": "execute_result"
    }
   ],
   "source": [
    "ds = load_by_id(run_id_a)\n",
    "ds.get_parameter_data('x1')"
   ]
  },
  {
   "cell_type": "code",
   "execution_count": null,
   "metadata": {},
   "outputs": [],
   "source": []
  }
 ],
 "metadata": {
  "kernelspec": {
   "display_name": "Python 3",
   "language": "python",
   "name": "python3"
  },
  "language_info": {
   "codemirror_mode": {
    "name": "ipython",
    "version": 3
   },
   "file_extension": ".py",
   "mimetype": "text/x-python",
   "name": "python",
   "nbconvert_exporter": "python",
   "pygments_lexer": "ipython3",
   "version": "3.7.5"
  },
  "nbsphinx": {
   "timeout": 600
  },
  "toc": {
   "base_numbering": 1,
   "nav_menu": {},
   "number_sections": true,
   "sideBar": true,
   "skip_h1_title": false,
   "title_cell": "Table of Contents",
   "title_sidebar": "Contents",
   "toc_cell": false,
   "toc_position": {},
   "toc_section_display": true,
   "toc_window_display": false
  },
  "varInspector": {
   "cols": {
    "lenName": 16,
    "lenType": 16,
    "lenVar": 40
   },
   "kernels_config": {
    "python": {
     "delete_cmd_postfix": "",
     "delete_cmd_prefix": "del ",
     "library": "var_list.py",
     "varRefreshCmd": "print(var_dic_list())"
    },
    "r": {
     "delete_cmd_postfix": ") ",
     "delete_cmd_prefix": "rm(",
     "library": "var_list.r",
     "varRefreshCmd": "cat(var_dic_list()) "
    }
   },
   "types_to_exclude": [
    "module",
    "function",
    "builtin_function_or_method",
    "instance",
    "_Feature"
   ],
   "window_display": false
  }
 },
 "nbformat": 4,
 "nbformat_minor": 2
}
