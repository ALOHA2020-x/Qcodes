{
 "cells": [
  {
   "cell_type": "markdown",
   "metadata": {},
   "source": [
    "# DataSet Performance\n",
    "\n",
    "This notebook shows the trade-off between inserting data into a database row-by-row and as binary blobs. Inserting the data row-by-row means that we have direct access to all the data and may perform queries directly on the values of the data. On the other hand, as we shall see, this is much slower than inserting the data directly as binary blobs."
   ]
  },
  {
   "cell_type": "markdown",
   "metadata": {},
   "source": [
    "First, we choose a new location for the database to ensure that we don't add a bunch of benchmarking data to the default one."
   ]
  },
  {
   "cell_type": "code",
   "execution_count": 1,
   "metadata": {
    "execution": {
     "iopub.execute_input": "2021-05-25T06:53:41.058300Z",
     "iopub.status.busy": "2021-05-25T06:53:41.057713Z",
     "iopub.status.idle": "2021-05-25T06:53:42.293437Z",
     "shell.execute_reply": "2021-05-25T06:53:42.293883Z"
    }
   },
   "outputs": [
    {
     "name": "stdout",
     "output_type": "stream",
     "text": [
      "Logging hadn't been started.\n",
      "Activating auto-logging. Current session state plus future input saved.\n",
      "Filename       : /home/runner/.qcodes/logs/command_history.log\n",
      "Mode           : append\n",
      "Output logging : True\n",
      "Raw input log  : False\n",
      "Timestamping   : True\n",
      "State          : active\n"
     ]
    },
    {
     "name": "stdout",
     "output_type": "stream",
     "text": [
      "Qcodes Logfile : /home/runner/.qcodes/logs/210525-4498-qcodes.log\n"
     ]
    }
   ],
   "source": [
    "import os\n",
    "cwd = os.getcwd()\n",
    "import qcodes as qc\n",
    "qc.config[\"core\"][\"db_location\"] = os.path.join(cwd, 'testing.db')\n"
   ]
  },
  {
   "cell_type": "code",
   "execution_count": 2,
   "metadata": {
    "execution": {
     "iopub.execute_input": "2021-05-25T06:53:42.301247Z",
     "iopub.status.busy": "2021-05-25T06:53:42.299914Z",
     "iopub.status.idle": "2021-05-25T06:53:42.507632Z",
     "shell.execute_reply": "2021-05-25T06:53:42.508351Z"
    }
   },
   "outputs": [],
   "source": [
    "%matplotlib inline\n",
    "import time\n",
    "import matplotlib.pyplot as plt\n",
    "import numpy as np\n",
    "\n",
    "import qcodes as qc\n",
    "from qcodes.instrument.parameter import ManualParameter\n",
    "from qcodes.dataset.experiment_container import (Experiment,\n",
    "                                                 load_last_experiment,\n",
    "                                                 new_experiment)\n",
    "from qcodes.dataset.sqlite.database import initialise_database\n",
    "from qcodes import load_or_create_experiment\n",
    "from qcodes.dataset.measurements import Measurement"
   ]
  },
  {
   "cell_type": "code",
   "execution_count": 3,
   "metadata": {
    "execution": {
     "iopub.execute_input": "2021-05-25T06:53:42.512727Z",
     "iopub.status.busy": "2021-05-25T06:53:42.511695Z",
     "iopub.status.idle": "2021-05-25T06:53:42.599928Z",
     "shell.execute_reply": "2021-05-25T06:53:42.600341Z"
    }
   },
   "outputs": [
    {
     "name": "stdout",
     "output_type": "stream",
     "text": [
      "\r",
      "0it [00:00, ?it/s]"
     ]
    },
    {
     "name": "stdout",
     "output_type": "stream",
     "text": [
      "\r",
      "Upgrading database; v0 -> v1: : 0it [00:00, ?it/s]"
     ]
    },
    {
     "name": "stdout",
     "output_type": "stream",
     "text": [
      "\r",
      "Upgrading database; v0 -> v1: : 0it [00:00, ?it/s]"
     ]
    },
    {
     "name": "stdout",
     "output_type": "stream",
     "text": [
      "\n",
      "\r",
      "  0%|          | 0/1 [00:00<?, ?it/s]"
     ]
    },
    {
     "name": "stdout",
     "output_type": "stream",
     "text": [
      "\r",
      "Upgrading database; v1 -> v2:   0%|          | 0/1 [00:00<?, ?it/s]"
     ]
    },
    {
     "name": "stdout",
     "output_type": "stream",
     "text": [
      "\r",
      "Upgrading database; v1 -> v2: 100%|██████████| 1/1 [00:00<00:00, 252.65it/s]"
     ]
    },
    {
     "name": "stdout",
     "output_type": "stream",
     "text": [
      "\n",
      "\r",
      "0it [00:00, ?it/s]"
     ]
    },
    {
     "name": "stdout",
     "output_type": "stream",
     "text": [
      "\r",
      "Upgrading database; v2 -> v3: : 0it [00:00, ?it/s]"
     ]
    },
    {
     "name": "stdout",
     "output_type": "stream",
     "text": [
      "\r",
      "Upgrading database; v2 -> v3: : 0it [00:00, ?it/s]"
     ]
    },
    {
     "name": "stdout",
     "output_type": "stream",
     "text": [
      "\n",
      "\r",
      "0it [00:00, ?it/s]"
     ]
    },
    {
     "name": "stdout",
     "output_type": "stream",
     "text": [
      "\r",
      "Upgrading database; v3 -> v4: : 0it [00:00, ?it/s]"
     ]
    },
    {
     "name": "stdout",
     "output_type": "stream",
     "text": [
      "\r",
      "Upgrading database; v3 -> v4: : 0it [00:00, ?it/s]"
     ]
    },
    {
     "name": "stdout",
     "output_type": "stream",
     "text": [
      "\n",
      "\r",
      "  0%|          | 0/1 [00:00<?, ?it/s]"
     ]
    },
    {
     "name": "stdout",
     "output_type": "stream",
     "text": [
      "\r",
      "Upgrading database; v4 -> v5:   0%|          | 0/1 [00:00<?, ?it/s]"
     ]
    },
    {
     "name": "stdout",
     "output_type": "stream",
     "text": [
      "\r",
      "Upgrading database; v4 -> v5: 100%|██████████| 1/1 [00:00<00:00, 415.32it/s]"
     ]
    },
    {
     "name": "stdout",
     "output_type": "stream",
     "text": [
      "\n",
      "\r",
      "0it [00:00, ?it/s]"
     ]
    },
    {
     "name": "stdout",
     "output_type": "stream",
     "text": [
      "\r",
      "Upgrading database; v5 -> v6: : 0it [00:00, ?it/s]"
     ]
    },
    {
     "name": "stdout",
     "output_type": "stream",
     "text": [
      "\r",
      "Upgrading database; v5 -> v6: : 0it [00:00, ?it/s]"
     ]
    },
    {
     "name": "stdout",
     "output_type": "stream",
     "text": [
      "\n",
      "\r",
      "  0%|          | 0/1 [00:00<?, ?it/s]"
     ]
    },
    {
     "name": "stdout",
     "output_type": "stream",
     "text": [
      "\r",
      "Upgrading database; v6 -> v7:   0%|          | 0/1 [00:00<?, ?it/s]"
     ]
    },
    {
     "name": "stdout",
     "output_type": "stream",
     "text": [
      "\r",
      "Upgrading database; v6 -> v7: 100%|██████████| 1/1 [00:00<00:00, 271.95it/s]"
     ]
    },
    {
     "name": "stdout",
     "output_type": "stream",
     "text": [
      "\n",
      "\r",
      "  0%|          | 0/1 [00:00<?, ?it/s]"
     ]
    },
    {
     "name": "stdout",
     "output_type": "stream",
     "text": [
      "\r",
      "Upgrading database; v7 -> v8:   0%|          | 0/1 [00:00<?, ?it/s]"
     ]
    },
    {
     "name": "stdout",
     "output_type": "stream",
     "text": [
      "\r",
      "Upgrading database; v7 -> v8: 100%|██████████| 1/1 [00:00<00:00, 402.37it/s]"
     ]
    },
    {
     "name": "stdout",
     "output_type": "stream",
     "text": [
      "\n",
      "\r",
      "  0%|          | 0/1 [00:00<?, ?it/s]"
     ]
    },
    {
     "name": "stdout",
     "output_type": "stream",
     "text": [
      "\r",
      "Upgrading database; v8 -> v9:   0%|          | 0/1 [00:00<?, ?it/s]"
     ]
    },
    {
     "name": "stdout",
     "output_type": "stream",
     "text": [
      "\r",
      "Upgrading database; v8 -> v9: 100%|██████████| 1/1 [00:00<00:00, 1428.58it/s]"
     ]
    },
    {
     "name": "stdout",
     "output_type": "stream",
     "text": [
      "\n"
     ]
    }
   ],
   "source": [
    "initialise_database()\n",
    "exp = load_or_create_experiment(experiment_name='tutorial_exp', sample_name=\"no sample\")"
   ]
  },
  {
   "cell_type": "markdown",
   "metadata": {},
   "source": [
    "Here, we define a simple function to benchmark the time it takes to insert n points with either numeric or array data type.\n",
    "We will compare both the time used to call ``add_result`` and the time used for the full measurement."
   ]
  },
  {
   "cell_type": "code",
   "execution_count": 4,
   "metadata": {
    "execution": {
     "iopub.execute_input": "2021-05-25T06:53:42.610465Z",
     "iopub.status.busy": "2021-05-25T06:53:42.608895Z",
     "iopub.status.idle": "2021-05-25T06:53:42.611331Z",
     "shell.execute_reply": "2021-05-25T06:53:42.611845Z"
    }
   },
   "outputs": [],
   "source": [
    "def insert_data(paramtype, npoints, nreps=1):\n",
    "\n",
    "    meas = Measurement(exp=exp)\n",
    "\n",
    "    x1 = ManualParameter('x1')\n",
    "    x2 = ManualParameter('x2')\n",
    "    x3 = ManualParameter('x3')\n",
    "    y1 = ManualParameter('y1')\n",
    "    y2 = ManualParameter('y2')\n",
    "\n",
    "    meas.register_parameter(x1, paramtype=paramtype)\n",
    "    meas.register_parameter(x2, paramtype=paramtype)\n",
    "    meas.register_parameter(x3, paramtype=paramtype)\n",
    "    meas.register_parameter(y1, setpoints=[x1, x2, x3],\n",
    "                            paramtype=paramtype)\n",
    "    meas.register_parameter(y2, setpoints=[x1, x2, x3],\n",
    "                            paramtype=paramtype)\n",
    "    start = time.perf_counter()\n",
    "    with meas.run() as datasaver:\n",
    "        start_adding = time.perf_counter()\n",
    "        for i in range(nreps):\n",
    "            datasaver.add_result((x1, np.random.rand(npoints)),\n",
    "                                 (x2, np.random.rand(npoints)),\n",
    "                                 (x3, np.random.rand(npoints)),\n",
    "                                 (y1, np.random.rand(npoints)),\n",
    "                                 (y2, np.random.rand(npoints)))\n",
    "        stop_adding = time.perf_counter()\n",
    "        run_id = datasaver.run_id\n",
    "    stop = time.perf_counter()\n",
    "    tot_time = stop - start\n",
    "    add_time = stop_adding - start_adding\n",
    "    return tot_time, add_time, run_id"
   ]
  },
  {
   "cell_type": "markdown",
   "metadata": {},
   "source": [
    "## Comparison between numeric/array data and binary blob"
   ]
  },
  {
   "cell_type": "markdown",
   "metadata": {},
   "source": [
    "### Case1: Short experiment time"
   ]
  },
  {
   "cell_type": "code",
   "execution_count": 5,
   "metadata": {
    "execution": {
     "iopub.execute_input": "2021-05-25T06:53:42.618261Z",
     "iopub.status.busy": "2021-05-25T06:53:42.617692Z",
     "iopub.status.idle": "2021-05-25T06:53:43.437562Z",
     "shell.execute_reply": "2021-05-25T06:53:43.438453Z"
    }
   },
   "outputs": [
    {
     "name": "stdout",
     "output_type": "stream",
     "text": [
      "Starting experimental run with id: 1. \n",
      "Starting experimental run with id: 2. \n",
      "Starting experimental run with id: 3. \n"
     ]
    },
    {
     "name": "stdout",
     "output_type": "stream",
     "text": [
      "Starting experimental run with id: 4. \n"
     ]
    },
    {
     "name": "stdout",
     "output_type": "stream",
     "text": [
      "Starting experimental run with id: 5. "
     ]
    },
    {
     "name": "stdout",
     "output_type": "stream",
     "text": [
      "\n"
     ]
    },
    {
     "name": "stdout",
     "output_type": "stream",
     "text": [
      "Starting experimental run with id: 6. \n"
     ]
    },
    {
     "name": "stdout",
     "output_type": "stream",
     "text": [
      "Starting experimental run with id: 7. \n",
      "Starting experimental run with id: 8. \n",
      "Starting experimental run with id: 9. \n"
     ]
    },
    {
     "name": "stdout",
     "output_type": "stream",
     "text": [
      "Starting experimental run with id: 10. \n",
      "Starting experimental run with id: 11. \n",
      "Starting experimental run with id: 12. \n",
      "Starting experimental run with id: 13. \n"
     ]
    },
    {
     "name": "stdout",
     "output_type": "stream",
     "text": [
      "Starting experimental run with id: 14. \n"
     ]
    }
   ],
   "source": [
    "sizes = [1,500,1000,2000,3000,4000,5000]\n",
    "t_numeric = []\n",
    "t_numeric_add = []\n",
    "t_array = []\n",
    "t_array_add = []\n",
    "for size in sizes:\n",
    "    tn, tna, run_id_n =  insert_data('numeric', size)\n",
    "    t_numeric.append(tn)\n",
    "    t_numeric_add.append(tna)\n",
    "\n",
    "    ta, taa, run_id_a =  insert_data('array', size)\n",
    "    t_array.append(ta)\n",
    "    t_array_add.append(taa)"
   ]
  },
  {
   "cell_type": "code",
   "execution_count": 6,
   "metadata": {
    "execution": {
     "iopub.execute_input": "2021-05-25T06:53:43.468738Z",
     "iopub.status.busy": "2021-05-25T06:53:43.458084Z",
     "iopub.status.idle": "2021-05-25T06:53:43.725788Z",
     "shell.execute_reply": "2021-05-25T06:53:43.725221Z"
    }
   },
   "outputs": [
    {
     "data": {
      "image/png": "[encoded data removed]",
      "text/plain": [
       "<Figure size 432x288 with 1 Axes>"
      ]
     },
     "metadata": {
      "needs_background": "light"
     },
     "output_type": "display_data"
    }
   ],
   "source": [
    "fig, ax = plt.subplots(1,1)\n",
    "ax.plot(sizes, t_numeric, 'o-', label='Inserting row-by-row')\n",
    "ax.plot(sizes, t_numeric_add, 'o-', label='Inserting row-by-row: add_result only')\n",
    "ax.plot(sizes, t_array, 'd-', label='Inserting as binary blob')\n",
    "ax.plot(sizes, t_array_add, 'd-', label='Inserting as binary blob: add_result only')\n",
    "ax.legend()\n",
    "ax.set_xlabel('Array length')\n",
    "ax.set_ylabel('Time (s)')\n",
    "fig.tight_layout()"
   ]
  },
  {
   "cell_type": "markdown",
   "metadata": {},
   "source": [
    "As shown in the latter figure, the time to setup and and close the experiment is approximately 0.4 sec. In case of small array sizes, the difference between inserting values of data as arrays and inserting them row-by-row is relatively unimportant. At larger array sizes, i.e. above 10000 points, the cost of writing data as individual datapoints starts to become important.\n"
   ]
  },
  {
   "cell_type": "markdown",
   "metadata": {},
   "source": [
    "### Case2: Long experiment time "
   ]
  },
  {
   "cell_type": "code",
   "execution_count": 7,
   "metadata": {
    "execution": {
     "iopub.execute_input": "2021-05-25T06:53:43.734557Z",
     "iopub.status.busy": "2021-05-25T06:53:43.733039Z",
     "iopub.status.idle": "2021-05-25T06:54:39.259709Z",
     "shell.execute_reply": "2021-05-25T06:54:39.259169Z"
    }
   },
   "outputs": [
    {
     "name": "stdout",
     "output_type": "stream",
     "text": [
      "Starting experimental run with id: 15. \n",
      "Starting experimental run with id: 16. \n"
     ]
    },
    {
     "name": "stdout",
     "output_type": "stream",
     "text": [
      "Starting experimental run with id: 17. \n"
     ]
    },
    {
     "name": "stdout",
     "output_type": "stream",
     "text": [
      "Starting experimental run with id: 18. \n",
      "Starting experimental run with id: 19. \n"
     ]
    },
    {
     "name": "stdout",
     "output_type": "stream",
     "text": [
      "Starting experimental run with id: 20. \n"
     ]
    },
    {
     "name": "stdout",
     "output_type": "stream",
     "text": [
      "Starting experimental run with id: 21. \n"
     ]
    },
    {
     "name": "stdout",
     "output_type": "stream",
     "text": [
      "Starting experimental run with id: 22. \n"
     ]
    },
    {
     "name": "stdout",
     "output_type": "stream",
     "text": [
      "Starting experimental run with id: 23. \n"
     ]
    },
    {
     "name": "stdout",
     "output_type": "stream",
     "text": [
      "Starting experimental run with id: 24. \n"
     ]
    },
    {
     "name": "stdout",
     "output_type": "stream",
     "text": [
      "Starting experimental run with id: 25. \n"
     ]
    },
    {
     "name": "stdout",
     "output_type": "stream",
     "text": [
      "Starting experimental run with id: 26. \n"
     ]
    },
    {
     "name": "stdout",
     "output_type": "stream",
     "text": [
      "Starting experimental run with id: 27. \n"
     ]
    },
    {
     "name": "stdout",
     "output_type": "stream",
     "text": [
      "Starting experimental run with id: 28. \n"
     ]
    }
   ],
   "source": [
    "sizes = [1,500,1000,2000,3000,4000,5000]\n",
    "nreps = 100\n",
    "t_numeric = []\n",
    "t_numeric_add = []\n",
    "t_numeric_run_ids = []\n",
    "t_array = []\n",
    "t_array_add = []\n",
    "t_array_run_ids = []\n",
    "for size in sizes:\n",
    "    tn, tna, run_id_n =  insert_data('numeric', size, nreps=nreps)\n",
    "    t_numeric.append(tn)\n",
    "    t_numeric_add.append(tna)\n",
    "    t_numeric_run_ids.append(run_id_n)\n",
    "\n",
    "    ta, taa, run_id_a =  insert_data('array', size, nreps=nreps)\n",
    "    t_array.append(ta)\n",
    "    t_array_add.append(taa)\n",
    "    t_array_run_ids.append(run_id_a)"
   ]
  },
  {
   "cell_type": "code",
   "execution_count": 8,
   "metadata": {
    "execution": {
     "iopub.execute_input": "2021-05-25T06:54:39.293200Z",
     "iopub.status.busy": "2021-05-25T06:54:39.265383Z",
     "iopub.status.idle": "2021-05-25T06:54:39.538053Z",
     "shell.execute_reply": "2021-05-25T06:54:39.537533Z"
    },
    "scrolled": true
   },
   "outputs": [
    {
     "data": {
      "image/png": "[encoded data removed]",
      "text/plain": [
       "<Figure size 432x288 with 1 Axes>"
      ]
     },
     "metadata": {
      "needs_background": "light"
     },
     "output_type": "display_data"
    }
   ],
   "source": [
    "fig, ax = plt.subplots(1,1)\n",
    "ax.plot(sizes, t_numeric, 'o-', label='Inserting row-by-row')\n",
    "ax.plot(sizes, t_numeric_add, 'o-', label='Inserting row-by-row: add_result only')\n",
    "ax.plot(sizes, t_array, 'd-', label='Inserting as binary blob')\n",
    "ax.plot(sizes, t_array_add, 'd-', label='Inserting as binary blob: add_result only')\n",
    "ax.legend()\n",
    "ax.set_xlabel('Array length')\n",
    "ax.set_ylabel('Time (s)')\n",
    "fig.tight_layout()"
   ]
  },
  {
   "cell_type": "markdown",
   "metadata": {},
   "source": [
    "However, as we increase the length of the experiment, as seen here by repeating the insertion 100 times, we see a big difference between inserting values of the data row-by-row and inserting it as a binary blob."
   ]
  },
  {
   "cell_type": "markdown",
   "metadata": {},
   "source": [
    "## Loading the data "
   ]
  },
  {
   "cell_type": "code",
   "execution_count": 9,
   "metadata": {
    "execution": {
     "iopub.execute_input": "2021-05-25T06:54:39.543416Z",
     "iopub.status.busy": "2021-05-25T06:54:39.542710Z",
     "iopub.status.idle": "2021-05-25T06:54:39.546733Z",
     "shell.execute_reply": "2021-05-25T06:54:39.546215Z"
    }
   },
   "outputs": [],
   "source": [
    "from qcodes.dataset.data_set import load_by_id"
   ]
  },
  {
   "cell_type": "markdown",
   "metadata": {},
   "source": [
    "As usual you can load the data by using the ``load_by_id`` function but you will notice that the different storage methods\n",
    "are reflected in shape of the data as it is retrieved. "
   ]
  },
  {
   "cell_type": "code",
   "execution_count": 10,
   "metadata": {
    "execution": {
     "iopub.execute_input": "2021-05-25T06:54:39.552546Z",
     "iopub.status.busy": "2021-05-25T06:54:39.550624Z",
     "iopub.status.idle": "2021-05-25T06:54:39.553237Z",
     "shell.execute_reply": "2021-05-25T06:54:39.553821Z"
    }
   },
   "outputs": [],
   "source": [
    "run_id_n = t_numeric_run_ids[0]\n",
    "run_id_a = t_array_run_ids[0]"
   ]
  },
  {
   "cell_type": "code",
   "execution_count": 11,
   "metadata": {
    "execution": {
     "iopub.execute_input": "2021-05-25T06:54:39.557491Z",
     "iopub.status.busy": "2021-05-25T06:54:39.556901Z",
     "iopub.status.idle": "2021-05-25T06:54:39.566906Z",
     "shell.execute_reply": "2021-05-25T06:54:39.567335Z"
    },
    "scrolled": true
   },
   "outputs": [
    {
     "data": {
      "text/plain": [
       "{'x1': {'x1': array([0.27171132, 0.27171132, 0.61132071, 0.61132071, 0.3986392 ,\n",
       "         0.3986392 , 0.5413667 , 0.5413667 , 0.02829657, 0.02829657,\n",
       "         0.45332675, 0.45332675, 0.5103905 , 0.5103905 , 0.41470674,\n",
       "         0.41470674, 0.63855274, 0.63855274, 0.6209919 , 0.6209919 ,\n",
       "         0.10563691, 0.10563691, 0.02518914, 0.02518914, 0.23369122,\n",
       "         0.23369122, 0.59020739, 0.59020739, 0.38669985, 0.38669985,\n",
       "         0.66916397, 0.66916397, 0.85584681, 0.85584681, 0.59195275,\n",
       "         0.59195275, 0.8131443 , 0.8131443 , 0.7261364 , 0.7261364 ,\n",
       "         0.07059451, 0.07059451, 0.67496991, 0.67496991, 0.35076167,\n",
       "         0.35076167, 0.78420601, 0.78420601, 0.83681824, 0.83681824,\n",
       "         0.29257139, 0.29257139, 0.51457689, 0.51457689, 0.11543074,\n",
       "         0.11543074, 0.86214953, 0.86214953, 0.57297707, 0.57297707,\n",
       "         0.53272924, 0.53272924, 0.72186612, 0.72186612, 0.3937606 ,\n",
       "         0.3937606 , 0.79882013, 0.79882013, 0.37593642, 0.37593642,\n",
       "         0.60029593, 0.60029593, 0.08152365, 0.08152365, 0.79922717,\n",
       "         0.79922717, 0.82014689, 0.82014689, 0.09984743, 0.09984743,\n",
       "         0.78463355, 0.78463355, 0.6883147 , 0.6883147 , 0.33653047,\n",
       "         0.33653047, 0.10280737, 0.10280737, 0.84542304, 0.84542304,\n",
       "         0.56099581, 0.56099581, 0.9584146 , 0.9584146 , 0.64296957,\n",
       "         0.64296957, 0.89853179, 0.89853179, 0.75889919, 0.75889919,\n",
       "         0.61504368, 0.61504368, 0.89574829, 0.89574829, 0.90304945,\n",
       "         0.90304945, 0.82974834, 0.82974834, 0.09065689, 0.09065689,\n",
       "         0.42904296, 0.42904296, 0.7301033 , 0.7301033 , 0.08150443,\n",
       "         0.08150443, 0.89074198, 0.89074198, 0.61673189, 0.61673189,\n",
       "         0.68350902, 0.68350902, 0.00549429, 0.00549429, 0.31241301,\n",
       "         0.31241301, 0.96848913, 0.96848913, 0.02757915, 0.02757915,\n",
       "         0.40887102, 0.40887102, 0.19772307, 0.19772307, 0.99619655,\n",
       "         0.99619655, 0.09885187, 0.09885187, 0.04586069, 0.04586069,\n",
       "         0.38507454, 0.38507454, 0.46766402, 0.46766402, 0.53875152,\n",
       "         0.53875152, 0.81299029, 0.81299029, 0.93387621, 0.93387621,\n",
       "         0.13347086, 0.13347086, 0.36497152, 0.36497152, 0.06019798,\n",
       "         0.06019798, 0.72977506, 0.72977506, 0.66241426, 0.66241426,\n",
       "         0.44665389, 0.44665389, 0.29360533, 0.29360533, 0.93250755,\n",
       "         0.93250755, 0.6458697 , 0.6458697 , 0.9513877 , 0.9513877 ,\n",
       "         0.79938432, 0.79938432, 0.15348469, 0.15348469, 0.65795702,\n",
       "         0.65795702, 0.26736146, 0.26736146, 0.0649569 , 0.0649569 ,\n",
       "         0.31618176, 0.31618176, 0.2900746 , 0.2900746 , 0.68320462,\n",
       "         0.68320462, 0.12431737, 0.12431737, 0.12098598, 0.12098598,\n",
       "         0.22521445, 0.22521445, 0.39724357, 0.39724357, 0.74973559,\n",
       "         0.74973559, 0.52353023, 0.52353023, 0.97225078, 0.97225078])}}"
      ]
     },
     "execution_count": 1,
     "metadata": {},
     "output_type": "execute_result"
    }
   ],
   "source": [
    "ds = load_by_id(run_id_n)\n",
    "ds.get_parameter_data('x1')"
   ]
  },
  {
   "cell_type": "markdown",
   "metadata": {},
   "source": [
    "And a dataset stored as binary arrays"
   ]
  },
  {
   "cell_type": "code",
   "execution_count": 12,
   "metadata": {
    "execution": {
     "iopub.execute_input": "2021-05-25T06:54:39.570942Z",
     "iopub.status.busy": "2021-05-25T06:54:39.570406Z",
     "iopub.status.idle": "2021-05-25T06:54:39.646277Z",
     "shell.execute_reply": "2021-05-25T06:54:39.646800Z"
    },
    "scrolled": true
   },
   "outputs": [
    {
     "data": {
      "text/plain": [
       "{'x1': {'x1': array([[0.95674459],\n",
       "         [0.95674459],\n",
       "         [0.41111038],\n",
       "         [0.41111038],\n",
       "         [0.4984285 ],\n",
       "         [0.4984285 ],\n",
       "         [0.25859139],\n",
       "         [0.25859139],\n",
       "         [0.93097959],\n",
       "         [0.93097959],\n",
       "         [0.78264887],\n",
       "         [0.78264887],\n",
       "         [0.94923182],\n",
       "         [0.94923182],\n",
       "         [0.196173  ],\n",
       "         [0.196173  ],\n",
       "         [0.61825809],\n",
       "         [0.61825809],\n",
       "         [0.79177069],\n",
       "         [0.79177069],\n",
       "         [0.88207002],\n",
       "         [0.88207002],\n",
       "         [0.94256987],\n",
       "         [0.94256987],\n",
       "         [0.57681677],\n",
       "         [0.57681677],\n",
       "         [0.65390008],\n",
       "         [0.65390008],\n",
       "         [0.52706236],\n",
       "         [0.52706236],\n",
       "         [0.34701714],\n",
       "         [0.34701714],\n",
       "         [0.44770082],\n",
       "         [0.44770082],\n",
       "         [0.55339943],\n",
       "         [0.55339943],\n",
       "         [0.09128157],\n",
       "         [0.09128157],\n",
       "         [0.39370737],\n",
       "         [0.39370737],\n",
       "         [0.07844562],\n",
       "         [0.07844562],\n",
       "         [0.47455195],\n",
       "         [0.47455195],\n",
       "         [0.71339011],\n",
       "         [0.71339011],\n",
       "         [0.00697937],\n",
       "         [0.00697937],\n",
       "         [0.02115414],\n",
       "         [0.02115414],\n",
       "         [0.63284171],\n",
       "         [0.63284171],\n",
       "         [0.19378054],\n",
       "         [0.19378054],\n",
       "         [0.7961479 ],\n",
       "         [0.7961479 ],\n",
       "         [0.33213182],\n",
       "         [0.33213182],\n",
       "         [0.93560723],\n",
       "         [0.93560723],\n",
       "         [0.99093194],\n",
       "         [0.99093194],\n",
       "         [0.26696112],\n",
       "         [0.26696112],\n",
       "         [0.73123596],\n",
       "         [0.73123596],\n",
       "         [0.96696945],\n",
       "         [0.96696945],\n",
       "         [0.91713393],\n",
       "         [0.91713393],\n",
       "         [0.6836536 ],\n",
       "         [0.6836536 ],\n",
       "         [0.20531563],\n",
       "         [0.20531563],\n",
       "         [0.7219147 ],\n",
       "         [0.7219147 ],\n",
       "         [0.74814656],\n",
       "         [0.74814656],\n",
       "         [0.26351341],\n",
       "         [0.26351341],\n",
       "         [0.60021273],\n",
       "         [0.60021273],\n",
       "         [0.95601179],\n",
       "         [0.95601179],\n",
       "         [0.64414039],\n",
       "         [0.64414039],\n",
       "         [0.69172922],\n",
       "         [0.69172922],\n",
       "         [0.46976538],\n",
       "         [0.46976538],\n",
       "         [0.38545448],\n",
       "         [0.38545448],\n",
       "         [0.196663  ],\n",
       "         [0.196663  ],\n",
       "         [0.08788437],\n",
       "         [0.08788437],\n",
       "         [0.56892756],\n",
       "         [0.56892756],\n",
       "         [0.01258186],\n",
       "         [0.01258186],\n",
       "         [0.43351274],\n",
       "         [0.43351274],\n",
       "         [0.17207117],\n",
       "         [0.17207117],\n",
       "         [0.0987284 ],\n",
       "         [0.0987284 ],\n",
       "         [0.58077628],\n",
       "         [0.58077628],\n",
       "         [0.72868198],\n",
       "         [0.72868198],\n",
       "         [0.55336799],\n",
       "         [0.55336799],\n",
       "         [0.34676487],\n",
       "         [0.34676487],\n",
       "         [0.23753955],\n",
       "         [0.23753955],\n",
       "         [0.03916267],\n",
       "         [0.03916267],\n",
       "         [0.08528229],\n",
       "         [0.08528229],\n",
       "         [0.95847108],\n",
       "         [0.95847108],\n",
       "         [0.75075906],\n",
       "         [0.75075906],\n",
       "         [0.44170955],\n",
       "         [0.44170955],\n",
       "         [0.73892975],\n",
       "         [0.73892975],\n",
       "         [0.14366536],\n",
       "         [0.14366536],\n",
       "         [0.59773202],\n",
       "         [0.59773202],\n",
       "         [0.21801289],\n",
       "         [0.21801289],\n",
       "         [0.90992445],\n",
       "         [0.90992445],\n",
       "         [0.03371475],\n",
       "         [0.03371475],\n",
       "         [0.4673329 ],\n",
       "         [0.4673329 ],\n",
       "         [0.3841117 ],\n",
       "         [0.3841117 ],\n",
       "         [0.26992721],\n",
       "         [0.26992721],\n",
       "         [0.49366034],\n",
       "         [0.49366034],\n",
       "         [0.87639602],\n",
       "         [0.87639602],\n",
       "         [0.08504104],\n",
       "         [0.08504104],\n",
       "         [0.47729558],\n",
       "         [0.47729558],\n",
       "         [0.72314698],\n",
       "         [0.72314698],\n",
       "         [0.25456606],\n",
       "         [0.25456606],\n",
       "         [0.96039796],\n",
       "         [0.96039796],\n",
       "         [0.71405459],\n",
       "         [0.71405459],\n",
       "         [0.09369764],\n",
       "         [0.09369764],\n",
       "         [0.5297695 ],\n",
       "         [0.5297695 ],\n",
       "         [0.38343425],\n",
       "         [0.38343425],\n",
       "         [0.49889056],\n",
       "         [0.49889056],\n",
       "         [0.66702899],\n",
       "         [0.66702899],\n",
       "         [0.63362196],\n",
       "         [0.63362196],\n",
       "         [0.64397512],\n",
       "         [0.64397512],\n",
       "         [0.40678796],\n",
       "         [0.40678796],\n",
       "         [0.00291581],\n",
       "         [0.00291581],\n",
       "         [0.93853488],\n",
       "         [0.93853488],\n",
       "         [0.00663337],\n",
       "         [0.00663337],\n",
       "         [0.55072329],\n",
       "         [0.55072329],\n",
       "         [0.73006803],\n",
       "         [0.73006803],\n",
       "         [0.82764582],\n",
       "         [0.82764582],\n",
       "         [0.88155659],\n",
       "         [0.88155659],\n",
       "         [0.1518295 ],\n",
       "         [0.1518295 ],\n",
       "         [0.50659087],\n",
       "         [0.50659087],\n",
       "         [0.8537971 ],\n",
       "         [0.8537971 ],\n",
       "         [0.13218715],\n",
       "         [0.13218715],\n",
       "         [0.81378116],\n",
       "         [0.81378116]])}}"
      ]
     },
     "execution_count": 1,
     "metadata": {},
     "output_type": "execute_result"
    }
   ],
   "source": [
    "ds = load_by_id(run_id_a)\n",
    "ds.get_parameter_data('x1')"
   ]
  },
  {
   "cell_type": "code",
   "execution_count": null,
   "metadata": {},
   "outputs": [],
   "source": []
  }
 ],
 "metadata": {
  "kernelspec": {
   "display_name": "Python 3",
   "language": "python",
   "name": "python3"
  },
  "language_info": {
   "codemirror_mode": {
    "name": "ipython",
    "version": 3
   },
   "file_extension": ".py",
   "mimetype": "text/x-python",
   "name": "python",
   "nbconvert_exporter": "python",
   "pygments_lexer": "ipython3",
   "version": "3.7.10"
  },
  "nbsphinx": {
   "timeout": 600
  },
  "toc": {
   "base_numbering": 1,
   "nav_menu": {},
   "number_sections": true,
   "sideBar": true,
   "skip_h1_title": false,
   "title_cell": "Table of Contents",
   "title_sidebar": "Contents",
   "toc_cell": false,
   "toc_position": {},
   "toc_section_display": true,
   "toc_window_display": false
  },
  "varInspector": {
   "cols": {
    "lenName": 16,
    "lenType": 16,
    "lenVar": 40
   },
   "kernels_config": {
    "python": {
     "delete_cmd_postfix": "",
     "delete_cmd_prefix": "del ",
     "library": "var_list.py",
     "varRefreshCmd": "print(var_dic_list())"
    },
    "r": {
     "delete_cmd_postfix": ") ",
     "delete_cmd_prefix": "rm(",
     "library": "var_list.r",
     "varRefreshCmd": "cat(var_dic_list()) "
    }
   },
   "types_to_exclude": [
    "module",
    "function",
    "builtin_function_or_method",
    "instance",
    "_Feature"
   ],
   "window_display": false
  }
 },
 "nbformat": 4,
 "nbformat_minor": 4
}
