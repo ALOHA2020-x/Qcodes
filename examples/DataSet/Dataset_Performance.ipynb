{
 "cells": [
  {
   "cell_type": "markdown",
   "metadata": {},
   "source": [
    "# DataSet Performance\n",
    "\n",
    "This notebook shows the trade-off between inserting data into a database row-by-row and as binary blobs. Inserting the data row-by-row means that we have direct access to all the data and may perform queries directly on the values of the data. On the other hand, as we shall see, this is much slower than inserting the data directly as binary blobs."
   ]
  },
  {
   "cell_type": "markdown",
   "metadata": {},
   "source": [
    "First, we choose a new location for the database to ensure that we don't add a bunch of benchmarking data to the default one."
   ]
  },
  {
   "cell_type": "code",
   "execution_count": 1,
   "metadata": {
    "execution": {
     "iopub.execute_input": "2021-01-27T07:19:54.781763Z",
     "iopub.status.busy": "2021-01-27T07:19:54.781258Z",
     "iopub.status.idle": "2021-01-27T07:19:55.758289Z",
     "shell.execute_reply": "2021-01-27T07:19:55.757674Z"
    }
   },
   "outputs": [
    {
     "name": "stdout",
     "output_type": "stream",
     "text": [
      "Logging hadn't been started.\n",
      "Activating auto-logging. Current session state plus future input saved.\n",
      "Filename       : /home/vsts/.qcodes/logs/command_history.log\n",
      "Mode           : append\n",
      "Output logging : True\n",
      "Raw input log  : False\n",
      "Timestamping   : True\n",
      "State          : active\n"
     ]
    },
    {
     "name": "stdout",
     "output_type": "stream",
     "text": [
      "Qcodes Logfile : /home/vsts/.qcodes/logs/210127-13989-qcodes.log\n"
     ]
    }
   ],
   "source": [
    "import os\n",
    "cwd = os.getcwd()\n",
    "import qcodes as qc\n",
    "qc.config[\"core\"][\"db_location\"] = os.path.join(cwd, 'testing.db')\n"
   ]
  },
  {
   "cell_type": "code",
   "execution_count": 2,
   "metadata": {
    "execution": {
     "iopub.execute_input": "2021-01-27T07:19:55.764328Z",
     "iopub.status.busy": "2021-01-27T07:19:55.763682Z",
     "iopub.status.idle": "2021-01-27T07:19:55.938624Z",
     "shell.execute_reply": "2021-01-27T07:19:55.937768Z"
    }
   },
   "outputs": [],
   "source": [
    "%matplotlib inline\n",
    "import time\n",
    "import matplotlib.pyplot as plt\n",
    "import numpy as np\n",
    "\n",
    "import qcodes as qc\n",
    "from qcodes.instrument.parameter import ManualParameter\n",
    "from qcodes.dataset.experiment_container import (Experiment,\n",
    "                                                 load_last_experiment,\n",
    "                                                 new_experiment)\n",
    "from qcodes.dataset.sqlite.database import initialise_database\n",
    "from qcodes import load_or_create_experiment\n",
    "from qcodes.dataset.measurements import Measurement"
   ]
  },
  {
   "cell_type": "code",
   "execution_count": 3,
   "metadata": {
    "execution": {
     "iopub.execute_input": "2021-01-27T07:19:55.943019Z",
     "iopub.status.busy": "2021-01-27T07:19:55.942495Z",
     "iopub.status.idle": "2021-01-27T07:19:56.052944Z",
     "shell.execute_reply": "2021-01-27T07:19:56.052602Z"
    }
   },
   "outputs": [
    {
     "name": "stdout",
     "output_type": "stream",
     "text": [
      "\r",
      "0it [00:00, ?it/s]"
     ]
    },
    {
     "name": "stdout",
     "output_type": "stream",
     "text": [
      "\r",
      "Upgrading database; v0 -> v1: : 0it [00:00, ?it/s]"
     ]
    },
    {
     "name": "stdout",
     "output_type": "stream",
     "text": [
      "\r",
      "Upgrading database; v0 -> v1: : 0it [00:00, ?it/s]"
     ]
    },
    {
     "name": "stdout",
     "output_type": "stream",
     "text": [
      "\n",
      "\r",
      "  0%|          | 0/1 [00:00<?, ?it/s]"
     ]
    },
    {
     "name": "stdout",
     "output_type": "stream",
     "text": [
      "\r",
      "Upgrading database; v1 -> v2:   0%|          | 0/1 [00:00<?, ?it/s]"
     ]
    },
    {
     "name": "stdout",
     "output_type": "stream",
     "text": [
      "\r",
      "Upgrading database; v1 -> v2: 100%|██████████| 1/1 [00:00<00:00, 668.63it/s]"
     ]
    },
    {
     "name": "stdout",
     "output_type": "stream",
     "text": [
      "\n",
      "\r",
      "0it [00:00, ?it/s]"
     ]
    },
    {
     "name": "stdout",
     "output_type": "stream",
     "text": [
      "\r",
      "Upgrading database; v2 -> v3: : 0it [00:00, ?it/s]"
     ]
    },
    {
     "name": "stdout",
     "output_type": "stream",
     "text": [
      "\r",
      "Upgrading database; v2 -> v3: : 0it [00:00, ?it/s]"
     ]
    },
    {
     "name": "stdout",
     "output_type": "stream",
     "text": [
      "\n",
      "\r",
      "0it [00:00, ?it/s]"
     ]
    },
    {
     "name": "stdout",
     "output_type": "stream",
     "text": [
      "\r",
      "Upgrading database; v3 -> v4: : 0it [00:00, ?it/s]"
     ]
    },
    {
     "name": "stdout",
     "output_type": "stream",
     "text": [
      "\r",
      "Upgrading database; v3 -> v4: : 0it [00:00, ?it/s]"
     ]
    },
    {
     "name": "stdout",
     "output_type": "stream",
     "text": [
      "\n",
      "\r",
      "  0%|          | 0/1 [00:00<?, ?it/s]"
     ]
    },
    {
     "name": "stdout",
     "output_type": "stream",
     "text": [
      "\r",
      "Upgrading database; v4 -> v5:   0%|          | 0/1 [00:00<?, ?it/s]"
     ]
    },
    {
     "name": "stdout",
     "output_type": "stream",
     "text": [
      "\r",
      "Upgrading database; v4 -> v5: 100%|██████████| 1/1 [00:00<00:00, 567.03it/s]"
     ]
    },
    {
     "name": "stdout",
     "output_type": "stream",
     "text": [
      "\n",
      "\r",
      "0it [00:00, ?it/s]"
     ]
    },
    {
     "name": "stdout",
     "output_type": "stream",
     "text": [
      "\r",
      "Upgrading database; v5 -> v6: : 0it [00:00, ?it/s]"
     ]
    },
    {
     "name": "stdout",
     "output_type": "stream",
     "text": [
      "\r",
      "Upgrading database; v5 -> v6: : 0it [00:00, ?it/s]"
     ]
    },
    {
     "name": "stdout",
     "output_type": "stream",
     "text": [
      "\n",
      "\r",
      "  0%|          | 0/1 [00:00<?, ?it/s]"
     ]
    },
    {
     "name": "stdout",
     "output_type": "stream",
     "text": [
      "\r",
      "Upgrading database; v6 -> v7:   0%|          | 0/1 [00:00<?, ?it/s]"
     ]
    },
    {
     "name": "stdout",
     "output_type": "stream",
     "text": [
      "\r",
      "Upgrading database; v6 -> v7: 100%|██████████| 1/1 [00:00<00:00, 440.21it/s]"
     ]
    },
    {
     "name": "stdout",
     "output_type": "stream",
     "text": [
      "\n",
      "\r",
      "  0%|          | 0/1 [00:00<?, ?it/s]"
     ]
    },
    {
     "name": "stdout",
     "output_type": "stream",
     "text": [
      "\r",
      "Upgrading database; v7 -> v8:   0%|          | 0/1 [00:00<?, ?it/s]"
     ]
    },
    {
     "name": "stdout",
     "output_type": "stream",
     "text": [
      "\r",
      "Upgrading database; v7 -> v8: 100%|██████████| 1/1 [00:00<00:00, 478.97it/s]"
     ]
    },
    {
     "name": "stdout",
     "output_type": "stream",
     "text": [
      "\n",
      "\r",
      "  0%|          | 0/1 [00:00<?, ?it/s]"
     ]
    },
    {
     "name": "stdout",
     "output_type": "stream",
     "text": [
      "\r",
      "Upgrading database; v8 -> v9:   0%|          | 0/1 [00:00<?, ?it/s]"
     ]
    },
    {
     "name": "stdout",
     "output_type": "stream",
     "text": [
      "\r",
      "Upgrading database; v8 -> v9: 100%|██████████| 1/1 [00:00<00:00, 513.69it/s]"
     ]
    },
    {
     "name": "stdout",
     "output_type": "stream",
     "text": [
      "\n"
     ]
    }
   ],
   "source": [
    "initialise_database()\n",
    "exp = load_or_create_experiment(experiment_name='tutorial_exp', sample_name=\"no sample\")"
   ]
  },
  {
   "cell_type": "markdown",
   "metadata": {},
   "source": [
    "Here, we define a simple function to benchmark the time it takes to insert n points with either numeric or array data type.\n",
    "We will compare both the time used to call ``add_result`` and the time used for the full measurement."
   ]
  },
  {
   "cell_type": "code",
   "execution_count": 4,
   "metadata": {
    "execution": {
     "iopub.execute_input": "2021-01-27T07:19:56.061017Z",
     "iopub.status.busy": "2021-01-27T07:19:56.060468Z",
     "iopub.status.idle": "2021-01-27T07:19:56.063429Z",
     "shell.execute_reply": "2021-01-27T07:19:56.063871Z"
    }
   },
   "outputs": [],
   "source": [
    "def insert_data(paramtype, npoints, nreps=1):\n",
    "\n",
    "    meas = Measurement(exp=exp)\n",
    "\n",
    "    x1 = ManualParameter('x1')\n",
    "    x2 = ManualParameter('x2')\n",
    "    x3 = ManualParameter('x3')\n",
    "    y1 = ManualParameter('y1')\n",
    "    y2 = ManualParameter('y2')\n",
    "\n",
    "    meas.register_parameter(x1, paramtype=paramtype)\n",
    "    meas.register_parameter(x2, paramtype=paramtype)\n",
    "    meas.register_parameter(x3, paramtype=paramtype)\n",
    "    meas.register_parameter(y1, setpoints=[x1, x2, x3],\n",
    "                            paramtype=paramtype)\n",
    "    meas.register_parameter(y2, setpoints=[x1, x2, x3],\n",
    "                            paramtype=paramtype)\n",
    "    start = time.perf_counter()\n",
    "    with meas.run() as datasaver:\n",
    "        start_adding = time.perf_counter()\n",
    "        for i in range(nreps):\n",
    "            datasaver.add_result((x1, np.random.rand(npoints)),\n",
    "                                 (x2, np.random.rand(npoints)),\n",
    "                                 (x3, np.random.rand(npoints)),\n",
    "                                 (y1, np.random.rand(npoints)),\n",
    "                                 (y2, np.random.rand(npoints)))\n",
    "        stop_adding = time.perf_counter()\n",
    "        run_id = datasaver.run_id\n",
    "    stop = time.perf_counter()\n",
    "    tot_time = stop - start\n",
    "    add_time = stop_adding - start_adding\n",
    "    return tot_time, add_time, run_id"
   ]
  },
  {
   "cell_type": "markdown",
   "metadata": {},
   "source": [
    "## Comparison between numeric/array data and binary blob"
   ]
  },
  {
   "cell_type": "markdown",
   "metadata": {},
   "source": [
    "### Case1: Short experiment time"
   ]
  },
  {
   "cell_type": "code",
   "execution_count": 5,
   "metadata": {
    "execution": {
     "iopub.execute_input": "2021-01-27T07:19:56.070698Z",
     "iopub.status.busy": "2021-01-27T07:19:56.070196Z",
     "iopub.status.idle": "2021-01-27T07:19:56.956905Z",
     "shell.execute_reply": "2021-01-27T07:19:56.956209Z"
    }
   },
   "outputs": [
    {
     "name": "stdout",
     "output_type": "stream",
     "text": [
      "Starting experimental run with id: 1. \n",
      "Starting experimental run with id: 2. \n",
      "Starting experimental run with id: 3. \n",
      "Starting experimental run with id: 4. \n"
     ]
    },
    {
     "name": "stdout",
     "output_type": "stream",
     "text": [
      "Starting experimental run with id: 5. \n"
     ]
    },
    {
     "name": "stdout",
     "output_type": "stream",
     "text": [
      "Starting experimental run with id: 6. \n",
      "Starting experimental run with id: 7. \n"
     ]
    },
    {
     "name": "stdout",
     "output_type": "stream",
     "text": [
      "Starting experimental run with id: 8. \n",
      "Starting experimental run with id: 9. \n"
     ]
    },
    {
     "name": "stdout",
     "output_type": "stream",
     "text": [
      "Starting experimental run with id: 10. \n",
      "Starting experimental run with id: 11. \n"
     ]
    },
    {
     "name": "stdout",
     "output_type": "stream",
     "text": [
      "Starting experimental run with id: 12. \n"
     ]
    },
    {
     "name": "stdout",
     "output_type": "stream",
     "text": [
      "Starting experimental run with id: 13. \n"
     ]
    },
    {
     "name": "stdout",
     "output_type": "stream",
     "text": [
      "Starting experimental run with id: 14. \n"
     ]
    }
   ],
   "source": [
    "sizes = [1,500,1000,2000,3000,4000,5000]\n",
    "t_numeric = []\n",
    "t_numeric_add = []\n",
    "t_array = []\n",
    "t_array_add = []\n",
    "for size in sizes:\n",
    "    tn, tna, run_id_n =  insert_data('numeric', size)\n",
    "    t_numeric.append(tn)\n",
    "    t_numeric_add.append(tna)\n",
    "\n",
    "    ta, taa, run_id_a =  insert_data('array', size)\n",
    "    t_array.append(ta)\n",
    "    t_array_add.append(taa)"
   ]
  },
  {
   "cell_type": "code",
   "execution_count": 6,
   "metadata": {
    "execution": {
     "iopub.execute_input": "2021-01-27T07:19:56.974247Z",
     "iopub.status.busy": "2021-01-27T07:19:56.973735Z",
     "iopub.status.idle": "2021-01-27T07:19:57.150727Z",
     "shell.execute_reply": "2021-01-27T07:19:57.151277Z"
    }
   },
   "outputs": [
    {
     "data": {
      "image/png": "[encoded data removed]",
      "text/plain": [
       "<Figure size 432x288 with 1 Axes>"
      ]
     },
     "metadata": {
      "needs_background": "light"
     },
     "output_type": "display_data"
    }
   ],
   "source": [
    "fig, ax = plt.subplots(1,1)\n",
    "ax.plot(sizes, t_numeric, 'o-', label='Inserting row-by-row')\n",
    "ax.plot(sizes, t_numeric_add, 'o-', label='Inserting row-by-row: add_result only')\n",
    "ax.plot(sizes, t_array, 'd-', label='Inserting as binary blob')\n",
    "ax.plot(sizes, t_array_add, 'd-', label='Inserting as binary blob: add_result only')\n",
    "ax.legend()\n",
    "ax.set_xlabel('Array length')\n",
    "ax.set_ylabel('Time (s)')\n",
    "fig.tight_layout()"
   ]
  },
  {
   "cell_type": "markdown",
   "metadata": {},
   "source": [
    "As shown in the latter figure, the time to setup and and close the experiment is approximately 0.4 sec. In case of small array sizes, the difference between inserting values of data as arrays and inserting them row-by-row is relatively unimportant. At larger array sizes, i.e. above 10000 points, the cost of writing data as individual datapoints starts to become important.\n"
   ]
  },
  {
   "cell_type": "markdown",
   "metadata": {},
   "source": [
    "### Case2: Long experiment time "
   ]
  },
  {
   "cell_type": "code",
   "execution_count": 7,
   "metadata": {
    "execution": {
     "iopub.execute_input": "2021-01-27T07:19:57.153896Z",
     "iopub.status.busy": "2021-01-27T07:19:57.153364Z",
     "iopub.status.idle": "2021-01-27T07:20:55.094576Z",
     "shell.execute_reply": "2021-01-27T07:20:55.095047Z"
    }
   },
   "outputs": [
    {
     "name": "stdout",
     "output_type": "stream",
     "text": [
      "Starting experimental run with id: 15. \n",
      "Starting experimental run with id: 16. \n",
      "Starting experimental run with id: 17. \n"
     ]
    },
    {
     "name": "stdout",
     "output_type": "stream",
     "text": [
      "Starting experimental run with id: 18. \n",
      "Starting experimental run with id: 19. \n"
     ]
    },
    {
     "name": "stdout",
     "output_type": "stream",
     "text": [
      "Starting experimental run with id: 20. \n"
     ]
    },
    {
     "name": "stdout",
     "output_type": "stream",
     "text": [
      "Starting experimental run with id: 21. \n"
     ]
    },
    {
     "name": "stdout",
     "output_type": "stream",
     "text": [
      "Starting experimental run with id: 22. \n"
     ]
    },
    {
     "name": "stdout",
     "output_type": "stream",
     "text": [
      "Starting experimental run with id: 23. \n"
     ]
    },
    {
     "name": "stdout",
     "output_type": "stream",
     "text": [
      "Starting experimental run with id: 24. \n"
     ]
    },
    {
     "name": "stdout",
     "output_type": "stream",
     "text": [
      "Starting experimental run with id: 25. \n"
     ]
    },
    {
     "name": "stdout",
     "output_type": "stream",
     "text": [
      "Starting experimental run with id: 26. \n"
     ]
    },
    {
     "name": "stdout",
     "output_type": "stream",
     "text": [
      "Starting experimental run with id: 27. \n"
     ]
    },
    {
     "name": "stdout",
     "output_type": "stream",
     "text": [
      "Starting experimental run with id: 28. \n"
     ]
    }
   ],
   "source": [
    "sizes = [1,500,1000,2000,3000,4000,5000]\n",
    "nreps = 100\n",
    "t_numeric = []\n",
    "t_numeric_add = []\n",
    "t_numeric_run_ids = []\n",
    "t_array = []\n",
    "t_array_add = []\n",
    "t_array_run_ids = []\n",
    "for size in sizes:\n",
    "    tn, tna, run_id_n =  insert_data('numeric', size, nreps=nreps)\n",
    "    t_numeric.append(tn)\n",
    "    t_numeric_add.append(tna)\n",
    "    t_numeric_run_ids.append(run_id_n)\n",
    "\n",
    "    ta, taa, run_id_a =  insert_data('array', size, nreps=nreps)\n",
    "    t_array.append(ta)\n",
    "    t_array_add.append(taa)\n",
    "    t_array_run_ids.append(run_id_a)"
   ]
  },
  {
   "cell_type": "code",
   "execution_count": 8,
   "metadata": {
    "execution": {
     "iopub.execute_input": "2021-01-27T07:20:55.124355Z",
     "iopub.status.busy": "2021-01-27T07:20:55.117460Z",
     "iopub.status.idle": "2021-01-27T07:20:55.291449Z",
     "shell.execute_reply": "2021-01-27T07:20:55.292230Z"
    },
    "scrolled": true
   },
   "outputs": [
    {
     "data": {
      "image/png": "[encoded data removed]",
      "text/plain": [
       "<Figure size 432x288 with 1 Axes>"
      ]
     },
     "metadata": {
      "needs_background": "light"
     },
     "output_type": "display_data"
    }
   ],
   "source": [
    "fig, ax = plt.subplots(1,1)\n",
    "ax.plot(sizes, t_numeric, 'o-', label='Inserting row-by-row')\n",
    "ax.plot(sizes, t_numeric_add, 'o-', label='Inserting row-by-row: add_result only')\n",
    "ax.plot(sizes, t_array, 'd-', label='Inserting as binary blob')\n",
    "ax.plot(sizes, t_array_add, 'd-', label='Inserting as binary blob: add_result only')\n",
    "ax.legend()\n",
    "ax.set_xlabel('Array length')\n",
    "ax.set_ylabel('Time (s)')\n",
    "fig.tight_layout()"
   ]
  },
  {
   "cell_type": "markdown",
   "metadata": {},
   "source": [
    "However, as we increase the length of the experiment, as seen here by repeating the insertion 100 times, we see a big difference between inserting values of the data row-by-row and inserting it as a binary blob."
   ]
  },
  {
   "cell_type": "markdown",
   "metadata": {},
   "source": [
    "## Loading the data "
   ]
  },
  {
   "cell_type": "code",
   "execution_count": 9,
   "metadata": {
    "execution": {
     "iopub.execute_input": "2021-01-27T07:20:55.296978Z",
     "iopub.status.busy": "2021-01-27T07:20:55.294858Z",
     "iopub.status.idle": "2021-01-27T07:20:55.300514Z",
     "shell.execute_reply": "2021-01-27T07:20:55.300048Z"
    }
   },
   "outputs": [],
   "source": [
    "from qcodes.dataset.data_set import load_by_id\n",
    "from qcodes.dataset.data_export import get_data_by_id"
   ]
  },
  {
   "cell_type": "markdown",
   "metadata": {},
   "source": [
    "As usual you can load the data by using the ``load_by_id`` function but you will notice that the different storage methods\n",
    "are reflected in shape of the data as it is retrieved. "
   ]
  },
  {
   "cell_type": "code",
   "execution_count": 10,
   "metadata": {
    "execution": {
     "iopub.execute_input": "2021-01-27T07:20:55.304169Z",
     "iopub.status.busy": "2021-01-27T07:20:55.303648Z",
     "iopub.status.idle": "2021-01-27T07:20:55.305979Z",
     "shell.execute_reply": "2021-01-27T07:20:55.305528Z"
    }
   },
   "outputs": [],
   "source": [
    "run_id_n = t_numeric_run_ids[0]\n",
    "run_id_a = t_array_run_ids[0]"
   ]
  },
  {
   "cell_type": "code",
   "execution_count": 11,
   "metadata": {
    "execution": {
     "iopub.execute_input": "2021-01-27T07:20:55.309164Z",
     "iopub.status.busy": "2021-01-27T07:20:55.308667Z",
     "iopub.status.idle": "2021-01-27T07:20:55.318400Z",
     "shell.execute_reply": "2021-01-27T07:20:55.317950Z"
    },
    "scrolled": true
   },
   "outputs": [
    {
     "data": {
      "text/plain": [
       "{'x1': {'x1': array([0.62280462, 0.62280462, 0.12655498, 0.12655498, 0.29416464,\n",
       "         0.29416464, 0.29891641, 0.29891641, 0.91963374, 0.91963374,\n",
       "         0.03819021, 0.03819021, 0.47044782, 0.47044782, 0.2255907 ,\n",
       "         0.2255907 , 0.05023693, 0.05023693, 0.15238294, 0.15238294,\n",
       "         0.54246357, 0.54246357, 0.20358485, 0.20358485, 0.39807203,\n",
       "         0.39807203, 0.93181675, 0.93181675, 0.34249939, 0.34249939,\n",
       "         0.68113563, 0.68113563, 0.79735061, 0.79735061, 0.78121729,\n",
       "         0.78121729, 0.26114536, 0.26114536, 0.64021772, 0.64021772,\n",
       "         0.77974432, 0.77974432, 0.53974254, 0.53974254, 0.66146628,\n",
       "         0.66146628, 0.37388787, 0.37388787, 0.47374107, 0.47374107,\n",
       "         0.63456892, 0.63456892, 0.81291569, 0.81291569, 0.55793925,\n",
       "         0.55793925, 0.89990465, 0.89990465, 0.30666356, 0.30666356,\n",
       "         0.66517897, 0.66517897, 0.48363501, 0.48363501, 0.44494968,\n",
       "         0.44494968, 0.91464069, 0.91464069, 0.44207681, 0.44207681,\n",
       "         0.79577913, 0.79577913, 0.37893088, 0.37893088, 0.69624722,\n",
       "         0.69624722, 0.10316155, 0.10316155, 0.95992789, 0.95992789,\n",
       "         0.78876104, 0.78876104, 0.16241712, 0.16241712, 0.63330412,\n",
       "         0.63330412, 0.9634372 , 0.9634372 , 0.31554577, 0.31554577,\n",
       "         0.62252715, 0.62252715, 0.03520232, 0.03520232, 0.70276832,\n",
       "         0.70276832, 0.99149519, 0.99149519, 0.7881899 , 0.7881899 ,\n",
       "         0.28341864, 0.28341864, 0.99317449, 0.99317449, 0.73520076,\n",
       "         0.73520076, 0.10355346, 0.10355346, 0.8644019 , 0.8644019 ,\n",
       "         0.12570472, 0.12570472, 0.6790374 , 0.6790374 , 0.65881751,\n",
       "         0.65881751, 0.79326571, 0.79326571, 0.51133956, 0.51133956,\n",
       "         0.29734443, 0.29734443, 0.16501606, 0.16501606, 0.28028637,\n",
       "         0.28028637, 0.48776517, 0.48776517, 0.00452755, 0.00452755,\n",
       "         0.0582408 , 0.0582408 , 0.098462  , 0.098462  , 0.10731304,\n",
       "         0.10731304, 0.03153573, 0.03153573, 0.35195953, 0.35195953,\n",
       "         0.4537307 , 0.4537307 , 0.80448255, 0.80448255, 0.83511945,\n",
       "         0.83511945, 0.60340343, 0.60340343, 0.52715387, 0.52715387,\n",
       "         0.29086855, 0.29086855, 0.27499816, 0.27499816, 0.24981328,\n",
       "         0.24981328, 0.76706159, 0.76706159, 0.78077409, 0.78077409,\n",
       "         0.18722455, 0.18722455, 0.56133802, 0.56133802, 0.10694971,\n",
       "         0.10694971, 0.84789322, 0.84789322, 0.27190796, 0.27190796,\n",
       "         0.23266273, 0.23266273, 0.35304983, 0.35304983, 0.65873352,\n",
       "         0.65873352, 0.26104888, 0.26104888, 0.3992626 , 0.3992626 ,\n",
       "         0.22938214, 0.22938214, 0.47938221, 0.47938221, 0.87959839,\n",
       "         0.87959839, 0.04897085, 0.04897085, 0.36247272, 0.36247272,\n",
       "         0.31962856, 0.31962856, 0.94226943, 0.94226943, 0.38230742,\n",
       "         0.38230742, 0.9056642 , 0.9056642 , 0.7139602 , 0.7139602 ])}}"
      ]
     },
     "execution_count": 1,
     "metadata": {},
     "output_type": "execute_result"
    }
   ],
   "source": [
    "ds = load_by_id(run_id_n)\n",
    "ds.get_parameter_data('x1')"
   ]
  },
  {
   "cell_type": "markdown",
   "metadata": {},
   "source": [
    "And a dataset stored as binary arrays"
   ]
  },
  {
   "cell_type": "code",
   "execution_count": 12,
   "metadata": {
    "execution": {
     "iopub.execute_input": "2021-01-27T07:20:55.321597Z",
     "iopub.status.busy": "2021-01-27T07:20:55.321090Z",
     "iopub.status.idle": "2021-01-27T07:20:55.374909Z",
     "shell.execute_reply": "2021-01-27T07:20:55.375857Z"
    },
    "scrolled": true
   },
   "outputs": [
    {
     "data": {
      "text/plain": [
       "{'x1': {'x1': array([[0.08723621],\n",
       "         [0.08723621],\n",
       "         [0.03947624],\n",
       "         [0.03947624],\n",
       "         [0.00900401],\n",
       "         [0.00900401],\n",
       "         [0.04966261],\n",
       "         [0.04966261],\n",
       "         [0.08740869],\n",
       "         [0.08740869],\n",
       "         [0.46395965],\n",
       "         [0.46395965],\n",
       "         [0.6139281 ],\n",
       "         [0.6139281 ],\n",
       "         [0.59010513],\n",
       "         [0.59010513],\n",
       "         [0.26789286],\n",
       "         [0.26789286],\n",
       "         [0.91663422],\n",
       "         [0.91663422],\n",
       "         [0.29612901],\n",
       "         [0.29612901],\n",
       "         [0.86832359],\n",
       "         [0.86832359],\n",
       "         [0.5521099 ],\n",
       "         [0.5521099 ],\n",
       "         [0.02681079],\n",
       "         [0.02681079],\n",
       "         [0.50196915],\n",
       "         [0.50196915],\n",
       "         [0.40141002],\n",
       "         [0.40141002],\n",
       "         [0.64766573],\n",
       "         [0.64766573],\n",
       "         [0.31671869],\n",
       "         [0.31671869],\n",
       "         [0.26806541],\n",
       "         [0.26806541],\n",
       "         [0.1560348 ],\n",
       "         [0.1560348 ],\n",
       "         [0.16999852],\n",
       "         [0.16999852],\n",
       "         [0.17999843],\n",
       "         [0.17999843],\n",
       "         [0.66127212],\n",
       "         [0.66127212],\n",
       "         [0.68016276],\n",
       "         [0.68016276],\n",
       "         [0.37057487],\n",
       "         [0.37057487],\n",
       "         [0.77159178],\n",
       "         [0.77159178],\n",
       "         [0.5148674 ],\n",
       "         [0.5148674 ],\n",
       "         [0.89351303],\n",
       "         [0.89351303],\n",
       "         [0.60962463],\n",
       "         [0.60962463],\n",
       "         [0.70341935],\n",
       "         [0.70341935],\n",
       "         [0.22591914],\n",
       "         [0.22591914],\n",
       "         [0.07481937],\n",
       "         [0.07481937],\n",
       "         [0.48627054],\n",
       "         [0.48627054],\n",
       "         [0.67792566],\n",
       "         [0.67792566],\n",
       "         [0.07035437],\n",
       "         [0.07035437],\n",
       "         [0.78670379],\n",
       "         [0.78670379],\n",
       "         [0.69026827],\n",
       "         [0.69026827],\n",
       "         [0.43421033],\n",
       "         [0.43421033],\n",
       "         [0.8639404 ],\n",
       "         [0.8639404 ],\n",
       "         [0.7904597 ],\n",
       "         [0.7904597 ],\n",
       "         [0.07023516],\n",
       "         [0.07023516],\n",
       "         [0.23873353],\n",
       "         [0.23873353],\n",
       "         [0.24213524],\n",
       "         [0.24213524],\n",
       "         [0.20414941],\n",
       "         [0.20414941],\n",
       "         [0.85606051],\n",
       "         [0.85606051],\n",
       "         [0.83940667],\n",
       "         [0.83940667],\n",
       "         [0.87633574],\n",
       "         [0.87633574],\n",
       "         [0.84350439],\n",
       "         [0.84350439],\n",
       "         [0.58378987],\n",
       "         [0.58378987],\n",
       "         [0.52753491],\n",
       "         [0.52753491],\n",
       "         [0.47469261],\n",
       "         [0.47469261],\n",
       "         [0.1317218 ],\n",
       "         [0.1317218 ],\n",
       "         [0.83956785],\n",
       "         [0.83956785],\n",
       "         [0.1409809 ],\n",
       "         [0.1409809 ],\n",
       "         [0.71245735],\n",
       "         [0.71245735],\n",
       "         [0.41507376],\n",
       "         [0.41507376],\n",
       "         [0.03812911],\n",
       "         [0.03812911],\n",
       "         [0.74399596],\n",
       "         [0.74399596],\n",
       "         [0.37335324],\n",
       "         [0.37335324],\n",
       "         [0.0834395 ],\n",
       "         [0.0834395 ],\n",
       "         [0.3693772 ],\n",
       "         [0.3693772 ],\n",
       "         [0.64064364],\n",
       "         [0.64064364],\n",
       "         [0.88013074],\n",
       "         [0.88013074],\n",
       "         [0.82787725],\n",
       "         [0.82787725],\n",
       "         [0.99940624],\n",
       "         [0.99940624],\n",
       "         [0.45320778],\n",
       "         [0.45320778],\n",
       "         [0.47993909],\n",
       "         [0.47993909],\n",
       "         [0.81363924],\n",
       "         [0.81363924],\n",
       "         [0.95766918],\n",
       "         [0.95766918],\n",
       "         [0.2749358 ],\n",
       "         [0.2749358 ],\n",
       "         [0.7551211 ],\n",
       "         [0.7551211 ],\n",
       "         [0.04089813],\n",
       "         [0.04089813],\n",
       "         [0.59484143],\n",
       "         [0.59484143],\n",
       "         [0.46227605],\n",
       "         [0.46227605],\n",
       "         [0.54065386],\n",
       "         [0.54065386],\n",
       "         [0.65323852],\n",
       "         [0.65323852],\n",
       "         [0.32139454],\n",
       "         [0.32139454],\n",
       "         [0.38790504],\n",
       "         [0.38790504],\n",
       "         [0.81876601],\n",
       "         [0.81876601],\n",
       "         [0.27310644],\n",
       "         [0.27310644],\n",
       "         [0.71383256],\n",
       "         [0.71383256],\n",
       "         [0.71153333],\n",
       "         [0.71153333],\n",
       "         [0.47990368],\n",
       "         [0.47990368],\n",
       "         [0.42881557],\n",
       "         [0.42881557],\n",
       "         [0.78357028],\n",
       "         [0.78357028],\n",
       "         [0.62962831],\n",
       "         [0.62962831],\n",
       "         [0.5151657 ],\n",
       "         [0.5151657 ],\n",
       "         [0.71769276],\n",
       "         [0.71769276],\n",
       "         [0.47638006],\n",
       "         [0.47638006],\n",
       "         [0.09930373],\n",
       "         [0.09930373],\n",
       "         [0.69526367],\n",
       "         [0.69526367],\n",
       "         [0.33984085],\n",
       "         [0.33984085],\n",
       "         [0.56418105],\n",
       "         [0.56418105],\n",
       "         [0.95481915],\n",
       "         [0.95481915],\n",
       "         [0.34188578],\n",
       "         [0.34188578],\n",
       "         [0.75209695],\n",
       "         [0.75209695],\n",
       "         [0.86669061],\n",
       "         [0.86669061],\n",
       "         [0.01790809],\n",
       "         [0.01790809],\n",
       "         [0.79210864],\n",
       "         [0.79210864],\n",
       "         [0.08207076],\n",
       "         [0.08207076]])}}"
      ]
     },
     "execution_count": 1,
     "metadata": {},
     "output_type": "execute_result"
    }
   ],
   "source": [
    "ds = load_by_id(run_id_a)\n",
    "ds.get_parameter_data('x1')"
   ]
  },
  {
   "cell_type": "code",
   "execution_count": null,
   "metadata": {},
   "outputs": [],
   "source": []
  }
 ],
 "metadata": {
  "kernelspec": {
   "display_name": "Python 3",
   "language": "python",
   "name": "python3"
  },
  "language_info": {
   "codemirror_mode": {
    "name": "ipython",
    "version": 3
   },
   "file_extension": ".py",
   "mimetype": "text/x-python",
   "name": "python",
   "nbconvert_exporter": "python",
   "pygments_lexer": "ipython3",
   "version": "3.7.9"
  },
  "nbsphinx": {
   "timeout": 600
  },
  "toc": {
   "base_numbering": 1,
   "nav_menu": {},
   "number_sections": true,
   "sideBar": true,
   "skip_h1_title": false,
   "title_cell": "Table of Contents",
   "title_sidebar": "Contents",
   "toc_cell": false,
   "toc_position": {},
   "toc_section_display": true,
   "toc_window_display": false
  },
  "varInspector": {
   "cols": {
    "lenName": 16,
    "lenType": 16,
    "lenVar": 40
   },
   "kernels_config": {
    "python": {
     "delete_cmd_postfix": "",
     "delete_cmd_prefix": "del ",
     "library": "var_list.py",
     "varRefreshCmd": "print(var_dic_list())"
    },
    "r": {
     "delete_cmd_postfix": ") ",
     "delete_cmd_prefix": "rm(",
     "library": "var_list.r",
     "varRefreshCmd": "cat(var_dic_list()) "
    }
   },
   "types_to_exclude": [
    "module",
    "function",
    "builtin_function_or_method",
    "instance",
    "_Feature"
   ],
   "window_display": false
  }
 },
 "nbformat": 4,
 "nbformat_minor": 2
}
