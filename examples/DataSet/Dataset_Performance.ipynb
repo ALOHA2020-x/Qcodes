{
 "cells": [
  {
   "cell_type": "markdown",
   "metadata": {},
   "source": [
    "# DataSet Performance\n",
    "\n",
    "This notebook shows the trade-off between inserting data into a database row-by-row and as binary blobs. Inserting the data row-by-row means that we have direct access to all the data and may perform queries directly on the values of the data. On the other hand, as we shall see, this is much slower than inserting the data directly as binary blobs."
   ]
  },
  {
   "cell_type": "markdown",
   "metadata": {},
   "source": [
    "First, we choose a new location for the database to ensure that we don't add a bunch of benchmarking data to the default one."
   ]
  },
  {
   "cell_type": "code",
   "execution_count": 1,
   "metadata": {
    "execution": {
     "iopub.execute_input": "2020-10-19T16:21:44.419902Z",
     "iopub.status.busy": "2020-10-19T16:21:44.418996Z",
     "iopub.status.idle": "2020-10-19T16:21:45.515265Z",
     "shell.execute_reply": "2020-10-19T16:21:45.515749Z"
    }
   },
   "outputs": [
    {
     "name": "stdout",
     "output_type": "stream",
     "text": [
      "Logging hadn't been started.\n",
      "Activating auto-logging. Current session state plus future input saved.\n",
      "Filename       : /home/vsts/.qcodes/logs/command_history.log\n",
      "Mode           : append\n",
      "Output logging : True\n",
      "Raw input log  : False\n",
      "Timestamping   : True\n",
      "State          : active\n"
     ]
    },
    {
     "name": "stdout",
     "output_type": "stream",
     "text": [
      "Qcodes Logfile : /home/vsts/.qcodes/logs/201019-14694-qcodes.log\n"
     ]
    }
   ],
   "source": [
    "import os\n",
    "cwd = os.getcwd()\n",
    "import qcodes as qc\n",
    "qc.config[\"core\"][\"db_location\"] = os.path.join(cwd, 'testing.db')\n"
   ]
  },
  {
   "cell_type": "code",
   "execution_count": 2,
   "metadata": {
    "execution": {
     "iopub.execute_input": "2020-10-19T16:21:45.522327Z",
     "iopub.status.busy": "2020-10-19T16:21:45.521488Z",
     "iopub.status.idle": "2020-10-19T16:21:45.743012Z",
     "shell.execute_reply": "2020-10-19T16:21:45.742217Z"
    }
   },
   "outputs": [],
   "source": [
    "%matplotlib inline\n",
    "import time\n",
    "import matplotlib.pyplot as plt\n",
    "import numpy as np\n",
    "\n",
    "import qcodes as qc\n",
    "from qcodes.instrument.parameter import ManualParameter\n",
    "from qcodes.dataset.experiment_container import (Experiment,\n",
    "                                                 load_last_experiment,\n",
    "                                                 new_experiment)\n",
    "from qcodes.dataset.sqlite.database import initialise_database\n",
    "from qcodes import load_or_create_experiment\n",
    "from qcodes.dataset.measurements import Measurement"
   ]
  },
  {
   "cell_type": "code",
   "execution_count": 3,
   "metadata": {
    "execution": {
     "iopub.execute_input": "2020-10-19T16:21:45.746766Z",
     "iopub.status.busy": "2020-10-19T16:21:45.746137Z",
     "iopub.status.idle": "2020-10-19T16:21:45.865072Z",
     "shell.execute_reply": "2020-10-19T16:21:45.864445Z"
    }
   },
   "outputs": [
    {
     "name": "stdout",
     "output_type": "stream",
     "text": [
      "\r",
      "0it [00:00, ?it/s]"
     ]
    },
    {
     "name": "stdout",
     "output_type": "stream",
     "text": [
      "\r",
      "Upgrading database; v0 -> v1: : 0it [00:00, ?it/s]"
     ]
    },
    {
     "name": "stdout",
     "output_type": "stream",
     "text": [
      "\r",
      "Upgrading database; v0 -> v1: : 0it [00:00, ?it/s]"
     ]
    },
    {
     "name": "stdout",
     "output_type": "stream",
     "text": [
      "\n",
      "\r",
      "  0%|          | 0/1 [00:00<?, ?it/s]"
     ]
    },
    {
     "name": "stdout",
     "output_type": "stream",
     "text": [
      "\r",
      "Upgrading database; v1 -> v2:   0%|          | 0/1 [00:00<?, ?it/s]"
     ]
    },
    {
     "name": "stdout",
     "output_type": "stream",
     "text": [
      "\r",
      "Upgrading database; v1 -> v2: 100%|██████████| 1/1 [00:00<00:00, 427.99it/s]"
     ]
    },
    {
     "name": "stdout",
     "output_type": "stream",
     "text": [
      "\n",
      "\r",
      "0it [00:00, ?it/s]"
     ]
    },
    {
     "name": "stdout",
     "output_type": "stream",
     "text": [
      "\r",
      "Upgrading database; v2 -> v3: : 0it [00:00, ?it/s]"
     ]
    },
    {
     "name": "stdout",
     "output_type": "stream",
     "text": [
      "\r",
      "Upgrading database; v2 -> v3: : 0it [00:00, ?it/s]"
     ]
    },
    {
     "name": "stdout",
     "output_type": "stream",
     "text": [
      "\n",
      "\r",
      "0it [00:00, ?it/s]"
     ]
    },
    {
     "name": "stdout",
     "output_type": "stream",
     "text": [
      "\r",
      "Upgrading database; v3 -> v4: : 0it [00:00, ?it/s]"
     ]
    },
    {
     "name": "stdout",
     "output_type": "stream",
     "text": [
      "\r",
      "Upgrading database; v3 -> v4: : 0it [00:00, ?it/s]"
     ]
    },
    {
     "name": "stdout",
     "output_type": "stream",
     "text": [
      "\n",
      "\r",
      "  0%|          | 0/1 [00:00<?, ?it/s]"
     ]
    },
    {
     "name": "stdout",
     "output_type": "stream",
     "text": [
      "\r",
      "Upgrading database; v4 -> v5:   0%|          | 0/1 [00:00<?, ?it/s]"
     ]
    },
    {
     "name": "stdout",
     "output_type": "stream",
     "text": [
      "\r",
      "Upgrading database; v4 -> v5: 100%|██████████| 1/1 [00:00<00:00, 483.60it/s]"
     ]
    },
    {
     "name": "stdout",
     "output_type": "stream",
     "text": [
      "\n",
      "\r",
      "0it [00:00, ?it/s]"
     ]
    },
    {
     "name": "stdout",
     "output_type": "stream",
     "text": [
      "\r",
      "Upgrading database; v5 -> v6: : 0it [00:00, ?it/s]"
     ]
    },
    {
     "name": "stdout",
     "output_type": "stream",
     "text": [
      "\r",
      "Upgrading database; v5 -> v6: : 0it [00:00, ?it/s]"
     ]
    },
    {
     "name": "stdout",
     "output_type": "stream",
     "text": [
      "\n",
      "\r",
      "  0%|          | 0/1 [00:00<?, ?it/s]"
     ]
    },
    {
     "name": "stdout",
     "output_type": "stream",
     "text": [
      "\r",
      "Upgrading database; v6 -> v7:   0%|          | 0/1 [00:00<?, ?it/s]"
     ]
    },
    {
     "name": "stdout",
     "output_type": "stream",
     "text": [
      "\r",
      "Upgrading database; v6 -> v7: 100%|██████████| 1/1 [00:00<00:00, 179.38it/s]"
     ]
    },
    {
     "name": "stdout",
     "output_type": "stream",
     "text": [
      "\n",
      "\r",
      "  0%|          | 0/1 [00:00<?, ?it/s]"
     ]
    },
    {
     "name": "stdout",
     "output_type": "stream",
     "text": [
      "\r",
      "Upgrading database; v7 -> v8:   0%|          | 0/1 [00:00<?, ?it/s]"
     ]
    },
    {
     "name": "stdout",
     "output_type": "stream",
     "text": [
      "\r",
      "Upgrading database; v7 -> v8: 100%|██████████| 1/1 [00:00<00:00, 434.15it/s]"
     ]
    },
    {
     "name": "stdout",
     "output_type": "stream",
     "text": [
      "\n",
      "\r",
      "  0%|          | 0/1 [00:00<?, ?it/s]"
     ]
    },
    {
     "name": "stdout",
     "output_type": "stream",
     "text": [
      "\r",
      "Upgrading database; v8 -> v9:   0%|          | 0/1 [00:00<?, ?it/s]"
     ]
    },
    {
     "name": "stdout",
     "output_type": "stream",
     "text": [
      "\r",
      "Upgrading database; v8 -> v9: 100%|██████████| 1/1 [00:00<00:00, 1224.26it/s]"
     ]
    },
    {
     "name": "stdout",
     "output_type": "stream",
     "text": [
      "\n"
     ]
    }
   ],
   "source": [
    "initialise_database()\n",
    "exp = load_or_create_experiment(experiment_name='tutorial_exp', sample_name=\"no sample\")"
   ]
  },
  {
   "cell_type": "markdown",
   "metadata": {},
   "source": [
    "Here, we define a simple function to benchmark the time it takes to insert n points with either numeric or array data type.\n",
    "We will compare both the time used to call ``add_result`` and the time used for the full measurement."
   ]
  },
  {
   "cell_type": "code",
   "execution_count": 4,
   "metadata": {
    "execution": {
     "iopub.execute_input": "2020-10-19T16:21:45.874435Z",
     "iopub.status.busy": "2020-10-19T16:21:45.873203Z",
     "iopub.status.idle": "2020-10-19T16:21:45.877196Z",
     "shell.execute_reply": "2020-10-19T16:21:45.877785Z"
    }
   },
   "outputs": [],
   "source": [
    "def insert_data(paramtype, npoints, nreps=1):\n",
    "\n",
    "    meas = Measurement(exp=exp)\n",
    "\n",
    "    x1 = ManualParameter('x1')\n",
    "    x2 = ManualParameter('x2')\n",
    "    x3 = ManualParameter('x3')\n",
    "    y1 = ManualParameter('y1')\n",
    "    y2 = ManualParameter('y2')\n",
    "\n",
    "    meas.register_parameter(x1, paramtype=paramtype)\n",
    "    meas.register_parameter(x2, paramtype=paramtype)\n",
    "    meas.register_parameter(x3, paramtype=paramtype)\n",
    "    meas.register_parameter(y1, setpoints=[x1, x2, x3],\n",
    "                            paramtype=paramtype)\n",
    "    meas.register_parameter(y2, setpoints=[x1, x2, x3],\n",
    "                            paramtype=paramtype)\n",
    "    start = time.perf_counter()\n",
    "    with meas.run() as datasaver:\n",
    "        start_adding = time.perf_counter()\n",
    "        for i in range(nreps):\n",
    "            datasaver.add_result((x1, np.random.rand(npoints)),\n",
    "                                 (x2, np.random.rand(npoints)),\n",
    "                                 (x3, np.random.rand(npoints)),\n",
    "                                 (y1, np.random.rand(npoints)),\n",
    "                                 (y2, np.random.rand(npoints)))\n",
    "        stop_adding = time.perf_counter()\n",
    "        run_id = datasaver.run_id\n",
    "    stop = time.perf_counter()\n",
    "    tot_time = stop - start\n",
    "    add_time = stop_adding - start_adding\n",
    "    return tot_time, add_time, run_id"
   ]
  },
  {
   "cell_type": "markdown",
   "metadata": {},
   "source": [
    "## Comparison between numeric/array data and binary blob"
   ]
  },
  {
   "cell_type": "markdown",
   "metadata": {},
   "source": [
    "### Case1: Short experiment time"
   ]
  },
  {
   "cell_type": "code",
   "execution_count": 5,
   "metadata": {
    "execution": {
     "iopub.execute_input": "2020-10-19T16:21:45.884382Z",
     "iopub.status.busy": "2020-10-19T16:21:45.883495Z",
     "iopub.status.idle": "2020-10-19T16:21:46.756782Z",
     "shell.execute_reply": "2020-10-19T16:21:46.755819Z"
    }
   },
   "outputs": [
    {
     "name": "stdout",
     "output_type": "stream",
     "text": [
      "Starting experimental run with id: 1. \n",
      "Starting experimental run with id: 2. \n",
      "Starting experimental run with id: 3. \n",
      "Starting experimental run with id: 4. \n",
      "Starting experimental run with id: 5. \n"
     ]
    },
    {
     "name": "stdout",
     "output_type": "stream",
     "text": [
      "Starting experimental run with id: 6. \n"
     ]
    },
    {
     "name": "stdout",
     "output_type": "stream",
     "text": [
      "Starting experimental run with id: 7. \n"
     ]
    },
    {
     "name": "stdout",
     "output_type": "stream",
     "text": [
      "Starting experimental run with id: 8. \n",
      "Starting experimental run with id: 9. \n"
     ]
    },
    {
     "name": "stdout",
     "output_type": "stream",
     "text": [
      "Starting experimental run with id: 10. \n",
      "Starting experimental run with id: 11. \n"
     ]
    },
    {
     "name": "stdout",
     "output_type": "stream",
     "text": [
      "Starting experimental run with id: 12. \n"
     ]
    },
    {
     "name": "stdout",
     "output_type": "stream",
     "text": [
      "Starting experimental run with id: 13. \n"
     ]
    },
    {
     "name": "stdout",
     "output_type": "stream",
     "text": [
      "Starting experimental run with id: 14. \n"
     ]
    }
   ],
   "source": [
    "sizes = [1,500,1000,2000,3000,4000,5000]\n",
    "t_numeric = []\n",
    "t_numeric_add = []\n",
    "t_array = []\n",
    "t_array_add = []\n",
    "for size in sizes:\n",
    "    tn, tna, run_id_n =  insert_data('numeric', size)\n",
    "    t_numeric.append(tn)\n",
    "    t_numeric_add.append(tna)\n",
    "\n",
    "    ta, taa, run_id_a =  insert_data('array', size)\n",
    "    t_array.append(ta)\n",
    "    t_array_add.append(taa)"
   ]
  },
  {
   "cell_type": "code",
   "execution_count": 6,
   "metadata": {
    "execution": {
     "iopub.execute_input": "2020-10-19T16:21:46.779673Z",
     "iopub.status.busy": "2020-10-19T16:21:46.775651Z",
     "iopub.status.idle": "2020-10-19T16:21:46.994854Z",
     "shell.execute_reply": "2020-10-19T16:21:46.994137Z"
    }
   },
   "outputs": [
    {
     "data": {
      "image/png": "[encoded data removed]",
      "text/plain": [
       "<Figure size 432x288 with 1 Axes>"
      ]
     },
     "metadata": {
      "needs_background": "light"
     },
     "output_type": "display_data"
    }
   ],
   "source": [
    "fig, ax = plt.subplots(1,1)\n",
    "ax.plot(sizes, t_numeric, 'o-', label='Inserting row-by-row')\n",
    "ax.plot(sizes, t_numeric_add, 'o-', label='Inserting row-by-row: add_result only')\n",
    "ax.plot(sizes, t_array, 'd-', label='Inserting as binary blob')\n",
    "ax.plot(sizes, t_array_add, 'd-', label='Inserting as binary blob: add_result only')\n",
    "ax.legend()\n",
    "ax.set_xlabel('Array length')\n",
    "ax.set_ylabel('Time (s)')\n",
    "fig.tight_layout()"
   ]
  },
  {
   "cell_type": "markdown",
   "metadata": {},
   "source": [
    "As shown in the latter figure, the time to setup and and close the experiment is approximately 0.4 sec. In case of small array sizes, the difference between inserting values of data as arrays and inserting them row-by-row is relatively unimportant. At larger array sizes, i.e. above 10000 points, the cost of writing data as individual datapoints starts to become important.\n"
   ]
  },
  {
   "cell_type": "markdown",
   "metadata": {},
   "source": [
    "### Case2: Long experiment time "
   ]
  },
  {
   "cell_type": "code",
   "execution_count": 7,
   "metadata": {
    "execution": {
     "iopub.execute_input": "2020-10-19T16:21:47.002175Z",
     "iopub.status.busy": "2020-10-19T16:21:47.000909Z",
     "iopub.status.idle": "2020-10-19T16:22:48.128907Z",
     "shell.execute_reply": "2020-10-19T16:22:48.129535Z"
    }
   },
   "outputs": [
    {
     "name": "stdout",
     "output_type": "stream",
     "text": [
      "Starting experimental run with id: 15. \n",
      "Starting experimental run with id: 16. \n",
      "Starting experimental run with id: 17. \n"
     ]
    },
    {
     "name": "stdout",
     "output_type": "stream",
     "text": [
      "Starting experimental run with id: 18. \n",
      "Starting experimental run with id: 19. \n"
     ]
    },
    {
     "name": "stdout",
     "output_type": "stream",
     "text": [
      "Starting experimental run with id: 20. \n"
     ]
    },
    {
     "name": "stdout",
     "output_type": "stream",
     "text": [
      "Starting experimental run with id: 21. \n"
     ]
    },
    {
     "name": "stdout",
     "output_type": "stream",
     "text": [
      "Starting experimental run with id: 22. \n"
     ]
    },
    {
     "name": "stdout",
     "output_type": "stream",
     "text": [
      "Starting experimental run with id: 23. \n"
     ]
    },
    {
     "name": "stdout",
     "output_type": "stream",
     "text": [
      "Starting experimental run with id: 24. \n"
     ]
    },
    {
     "name": "stdout",
     "output_type": "stream",
     "text": [
      "Starting experimental run with id: 25. \n"
     ]
    },
    {
     "name": "stdout",
     "output_type": "stream",
     "text": [
      "Starting experimental run with id: 26. \n"
     ]
    },
    {
     "name": "stdout",
     "output_type": "stream",
     "text": [
      "Starting experimental run with id: 27. \n"
     ]
    },
    {
     "name": "stdout",
     "output_type": "stream",
     "text": [
      "Starting experimental run with id: 28. \n"
     ]
    }
   ],
   "source": [
    "sizes = [1,500,1000,2000,3000,4000,5000]\n",
    "nreps = 100\n",
    "t_numeric = []\n",
    "t_numeric_add = []\n",
    "t_numeric_run_ids = []\n",
    "t_array = []\n",
    "t_array_add = []\n",
    "t_array_run_ids = []\n",
    "for size in sizes:\n",
    "    tn, tna, run_id_n =  insert_data('numeric', size, nreps=nreps)\n",
    "    t_numeric.append(tn)\n",
    "    t_numeric_add.append(tna)\n",
    "    t_numeric_run_ids.append(run_id_n)\n",
    "\n",
    "    ta, taa, run_id_a =  insert_data('array', size, nreps=nreps)\n",
    "    t_array.append(ta)\n",
    "    t_array_add.append(taa)\n",
    "    t_array_run_ids.append(run_id_a)"
   ]
  },
  {
   "cell_type": "code",
   "execution_count": 8,
   "metadata": {
    "execution": {
     "iopub.execute_input": "2020-10-19T16:22:48.152037Z",
     "iopub.status.busy": "2020-10-19T16:22:48.135382Z",
     "iopub.status.idle": "2020-10-19T16:22:48.382162Z",
     "shell.execute_reply": "2020-10-19T16:22:48.382625Z"
    },
    "scrolled": true
   },
   "outputs": [
    {
     "data": {
      "image/png": "[encoded data removed]",
      "text/plain": [
       "<Figure size 432x288 with 1 Axes>"
      ]
     },
     "metadata": {
      "needs_background": "light"
     },
     "output_type": "display_data"
    }
   ],
   "source": [
    "fig, ax = plt.subplots(1,1)\n",
    "ax.plot(sizes, t_numeric, 'o-', label='Inserting row-by-row')\n",
    "ax.plot(sizes, t_numeric_add, 'o-', label='Inserting row-by-row: add_result only')\n",
    "ax.plot(sizes, t_array, 'd-', label='Inserting as binary blob')\n",
    "ax.plot(sizes, t_array_add, 'd-', label='Inserting as binary blob: add_result only')\n",
    "ax.legend()\n",
    "ax.set_xlabel('Array length')\n",
    "ax.set_ylabel('Time (s)')\n",
    "fig.tight_layout()"
   ]
  },
  {
   "cell_type": "markdown",
   "metadata": {},
   "source": [
    "However, as we increase the length of the experiment, as seen here by repeating the insertion 100 times, we see a big difference between inserting values of the data row-by-row and inserting it as a binary blob."
   ]
  },
  {
   "cell_type": "markdown",
   "metadata": {},
   "source": [
    "## Loading the data "
   ]
  },
  {
   "cell_type": "code",
   "execution_count": 9,
   "metadata": {
    "execution": {
     "iopub.execute_input": "2020-10-19T16:22:48.387012Z",
     "iopub.status.busy": "2020-10-19T16:22:48.386076Z",
     "iopub.status.idle": "2020-10-19T16:22:48.390638Z",
     "shell.execute_reply": "2020-10-19T16:22:48.389930Z"
    }
   },
   "outputs": [],
   "source": [
    "from qcodes.dataset.data_set import load_by_id\n",
    "from qcodes.dataset.data_export import get_data_by_id"
   ]
  },
  {
   "cell_type": "markdown",
   "metadata": {},
   "source": [
    "As usual you can load the data by using the ``load_by_id`` function but you will notice that the different storage methods\n",
    "are reflected in shape of the data as it is retrieved. "
   ]
  },
  {
   "cell_type": "code",
   "execution_count": 10,
   "metadata": {
    "execution": {
     "iopub.execute_input": "2020-10-19T16:22:48.394319Z",
     "iopub.status.busy": "2020-10-19T16:22:48.393761Z",
     "iopub.status.idle": "2020-10-19T16:22:48.396303Z",
     "shell.execute_reply": "2020-10-19T16:22:48.395799Z"
    }
   },
   "outputs": [],
   "source": [
    "run_id_n = t_numeric_run_ids[0]\n",
    "run_id_a = t_array_run_ids[0]"
   ]
  },
  {
   "cell_type": "code",
   "execution_count": 11,
   "metadata": {
    "execution": {
     "iopub.execute_input": "2020-10-19T16:22:48.399642Z",
     "iopub.status.busy": "2020-10-19T16:22:48.399096Z",
     "iopub.status.idle": "2020-10-19T16:22:48.409010Z",
     "shell.execute_reply": "2020-10-19T16:22:48.408468Z"
    },
    "scrolled": true
   },
   "outputs": [
    {
     "data": {
      "text/plain": [
       "{'x1': {'x1': array([0.67214451, 0.67214451, 0.55131275, 0.55131275, 0.21788668,\n",
       "         0.21788668, 0.43492469, 0.43492469, 0.03768304, 0.03768304,\n",
       "         0.48204714, 0.48204714, 0.72219739, 0.72219739, 0.210014  ,\n",
       "         0.210014  , 0.82833117, 0.82833117, 0.84082111, 0.84082111,\n",
       "         0.17645638, 0.17645638, 0.68706307, 0.68706307, 0.80484891,\n",
       "         0.80484891, 0.34637296, 0.34637296, 0.42953285, 0.42953285,\n",
       "         0.11243074, 0.11243074, 0.6795215 , 0.6795215 , 0.27627505,\n",
       "         0.27627505, 0.93895393, 0.93895393, 0.45023666, 0.45023666,\n",
       "         0.46137522, 0.46137522, 0.63060091, 0.63060091, 0.65895408,\n",
       "         0.65895408, 0.94138622, 0.94138622, 0.02437212, 0.02437212,\n",
       "         0.52586007, 0.52586007, 0.38136827, 0.38136827, 0.2195733 ,\n",
       "         0.2195733 , 0.72813048, 0.72813048, 0.43528328, 0.43528328,\n",
       "         0.8026544 , 0.8026544 , 0.93471606, 0.93471606, 0.89579121,\n",
       "         0.89579121, 0.36079971, 0.36079971, 0.79700648, 0.79700648,\n",
       "         0.8941742 , 0.8941742 , 0.43897983, 0.43897983, 0.12990232,\n",
       "         0.12990232, 0.60919142, 0.60919142, 0.62797488, 0.62797488,\n",
       "         0.20854709, 0.20854709, 0.5576048 , 0.5576048 , 0.92879427,\n",
       "         0.92879427, 0.47379516, 0.47379516, 0.74393732, 0.74393732,\n",
       "         0.99313219, 0.99313219, 0.58862893, 0.58862893, 0.65073356,\n",
       "         0.65073356, 0.51734844, 0.51734844, 0.85994453, 0.85994453,\n",
       "         0.6495696 , 0.6495696 , 0.87335408, 0.87335408, 0.27115109,\n",
       "         0.27115109, 0.65237786, 0.65237786, 0.70527968, 0.70527968,\n",
       "         0.979769  , 0.979769  , 0.93793665, 0.93793665, 0.62302261,\n",
       "         0.62302261, 0.76639495, 0.76639495, 0.87079631, 0.87079631,\n",
       "         0.85603707, 0.85603707, 0.85401215, 0.85401215, 0.86752003,\n",
       "         0.86752003, 0.84365159, 0.84365159, 0.31908507, 0.31908507,\n",
       "         0.00621942, 0.00621942, 0.21268678, 0.21268678, 0.9751654 ,\n",
       "         0.9751654 , 0.81728231, 0.81728231, 0.68006474, 0.68006474,\n",
       "         0.78804367, 0.78804367, 0.38953257, 0.38953257, 0.56499712,\n",
       "         0.56499712, 0.2872411 , 0.2872411 , 0.04886697, 0.04886697,\n",
       "         0.12347721, 0.12347721, 0.67180048, 0.67180048, 0.1836001 ,\n",
       "         0.1836001 , 0.69701653, 0.69701653, 0.45385185, 0.45385185,\n",
       "         0.84605248, 0.84605248, 0.7370392 , 0.7370392 , 0.97750282,\n",
       "         0.97750282, 0.01406973, 0.01406973, 0.94220378, 0.94220378,\n",
       "         0.33096023, 0.33096023, 0.65340195, 0.65340195, 0.15383985,\n",
       "         0.15383985, 0.57897847, 0.57897847, 0.43871153, 0.43871153,\n",
       "         0.58918449, 0.58918449, 0.95203897, 0.95203897, 0.25065765,\n",
       "         0.25065765, 0.45129104, 0.45129104, 0.25199635, 0.25199635,\n",
       "         0.83728356, 0.83728356, 0.67584826, 0.67584826, 0.60940493,\n",
       "         0.60940493, 0.3117531 , 0.3117531 , 0.90872375, 0.90872375])}}"
      ]
     },
     "execution_count": 1,
     "metadata": {},
     "output_type": "execute_result"
    }
   ],
   "source": [
    "ds = load_by_id(run_id_n)\n",
    "ds.get_parameter_data('x1')"
   ]
  },
  {
   "cell_type": "markdown",
   "metadata": {},
   "source": [
    "And a dataset stored as binary arrays"
   ]
  },
  {
   "cell_type": "code",
   "execution_count": 12,
   "metadata": {
    "execution": {
     "iopub.execute_input": "2020-10-19T16:22:48.412935Z",
     "iopub.status.busy": "2020-10-19T16:22:48.412162Z",
     "iopub.status.idle": "2020-10-19T16:22:48.479770Z",
     "shell.execute_reply": "2020-10-19T16:22:48.480408Z"
    },
    "scrolled": true
   },
   "outputs": [
    {
     "data": {
      "text/plain": [
       "{'x1': {'x1': array([[0.40101703],\n",
       "         [0.40101703],\n",
       "         [0.92935182],\n",
       "         [0.92935182],\n",
       "         [0.5521292 ],\n",
       "         [0.5521292 ],\n",
       "         [0.53520885],\n",
       "         [0.53520885],\n",
       "         [0.71652182],\n",
       "         [0.71652182],\n",
       "         [0.77980276],\n",
       "         [0.77980276],\n",
       "         [0.74831122],\n",
       "         [0.74831122],\n",
       "         [0.94166353],\n",
       "         [0.94166353],\n",
       "         [0.60108402],\n",
       "         [0.60108402],\n",
       "         [0.2954753 ],\n",
       "         [0.2954753 ],\n",
       "         [0.7053682 ],\n",
       "         [0.7053682 ],\n",
       "         [0.01323114],\n",
       "         [0.01323114],\n",
       "         [0.24974855],\n",
       "         [0.24974855],\n",
       "         [0.85125139],\n",
       "         [0.85125139],\n",
       "         [0.20968245],\n",
       "         [0.20968245],\n",
       "         [0.64156522],\n",
       "         [0.64156522],\n",
       "         [0.3299161 ],\n",
       "         [0.3299161 ],\n",
       "         [0.38205047],\n",
       "         [0.38205047],\n",
       "         [0.07820445],\n",
       "         [0.07820445],\n",
       "         [0.41446058],\n",
       "         [0.41446058],\n",
       "         [0.51743588],\n",
       "         [0.51743588],\n",
       "         [0.01475927],\n",
       "         [0.01475927],\n",
       "         [0.17209165],\n",
       "         [0.17209165],\n",
       "         [0.92227631],\n",
       "         [0.92227631],\n",
       "         [0.18087817],\n",
       "         [0.18087817],\n",
       "         [0.08215938],\n",
       "         [0.08215938],\n",
       "         [0.13692199],\n",
       "         [0.13692199],\n",
       "         [0.21769358],\n",
       "         [0.21769358],\n",
       "         [0.32422816],\n",
       "         [0.32422816],\n",
       "         [0.27534878],\n",
       "         [0.27534878],\n",
       "         [0.2485295 ],\n",
       "         [0.2485295 ],\n",
       "         [0.63209844],\n",
       "         [0.63209844],\n",
       "         [0.72391973],\n",
       "         [0.72391973],\n",
       "         [0.23769749],\n",
       "         [0.23769749],\n",
       "         [0.63180279],\n",
       "         [0.63180279],\n",
       "         [0.76153396],\n",
       "         [0.76153396],\n",
       "         [0.39934155],\n",
       "         [0.39934155],\n",
       "         [0.68769916],\n",
       "         [0.68769916],\n",
       "         [0.65016317],\n",
       "         [0.65016317],\n",
       "         [0.1379197 ],\n",
       "         [0.1379197 ],\n",
       "         [0.53979714],\n",
       "         [0.53979714],\n",
       "         [0.7494584 ],\n",
       "         [0.7494584 ],\n",
       "         [0.13788219],\n",
       "         [0.13788219],\n",
       "         [0.10203905],\n",
       "         [0.10203905],\n",
       "         [0.06375342],\n",
       "         [0.06375342],\n",
       "         [0.46849009],\n",
       "         [0.46849009],\n",
       "         [0.05319499],\n",
       "         [0.05319499],\n",
       "         [0.36083792],\n",
       "         [0.36083792],\n",
       "         [0.13209497],\n",
       "         [0.13209497],\n",
       "         [0.4433108 ],\n",
       "         [0.4433108 ],\n",
       "         [0.66607457],\n",
       "         [0.66607457],\n",
       "         [0.89480924],\n",
       "         [0.89480924],\n",
       "         [0.23400703],\n",
       "         [0.23400703],\n",
       "         [0.14804252],\n",
       "         [0.14804252],\n",
       "         [0.185848  ],\n",
       "         [0.185848  ],\n",
       "         [0.53724869],\n",
       "         [0.53724869],\n",
       "         [0.67435337],\n",
       "         [0.67435337],\n",
       "         [0.31149229],\n",
       "         [0.31149229],\n",
       "         [0.57966812],\n",
       "         [0.57966812],\n",
       "         [0.53374584],\n",
       "         [0.53374584],\n",
       "         [0.45388941],\n",
       "         [0.45388941],\n",
       "         [0.10759112],\n",
       "         [0.10759112],\n",
       "         [0.75935981],\n",
       "         [0.75935981],\n",
       "         [0.2009715 ],\n",
       "         [0.2009715 ],\n",
       "         [0.64918579],\n",
       "         [0.64918579],\n",
       "         [0.83530945],\n",
       "         [0.83530945],\n",
       "         [0.24285204],\n",
       "         [0.24285204],\n",
       "         [0.986315  ],\n",
       "         [0.986315  ],\n",
       "         [0.5047056 ],\n",
       "         [0.5047056 ],\n",
       "         [0.34539448],\n",
       "         [0.34539448],\n",
       "         [0.56812304],\n",
       "         [0.56812304],\n",
       "         [0.27911722],\n",
       "         [0.27911722],\n",
       "         [0.14573673],\n",
       "         [0.14573673],\n",
       "         [0.93272665],\n",
       "         [0.93272665],\n",
       "         [0.96428223],\n",
       "         [0.96428223],\n",
       "         [0.23413204],\n",
       "         [0.23413204],\n",
       "         [0.28756418],\n",
       "         [0.28756418],\n",
       "         [0.52808783],\n",
       "         [0.52808783],\n",
       "         [0.10786674],\n",
       "         [0.10786674],\n",
       "         [0.62777773],\n",
       "         [0.62777773],\n",
       "         [0.22585541],\n",
       "         [0.22585541],\n",
       "         [0.58911128],\n",
       "         [0.58911128],\n",
       "         [0.43299657],\n",
       "         [0.43299657],\n",
       "         [0.62362977],\n",
       "         [0.62362977],\n",
       "         [0.35732633],\n",
       "         [0.35732633],\n",
       "         [0.72584423],\n",
       "         [0.72584423],\n",
       "         [0.37926097],\n",
       "         [0.37926097],\n",
       "         [0.93905955],\n",
       "         [0.93905955],\n",
       "         [0.88726908],\n",
       "         [0.88726908],\n",
       "         [0.25146881],\n",
       "         [0.25146881],\n",
       "         [0.75877106],\n",
       "         [0.75877106],\n",
       "         [0.07912478],\n",
       "         [0.07912478],\n",
       "         [0.30799792],\n",
       "         [0.30799792],\n",
       "         [0.9973864 ],\n",
       "         [0.9973864 ],\n",
       "         [0.23089989],\n",
       "         [0.23089989],\n",
       "         [0.33967577],\n",
       "         [0.33967577],\n",
       "         [0.65182931],\n",
       "         [0.65182931],\n",
       "         [0.0283271 ],\n",
       "         [0.0283271 ],\n",
       "         [0.39074338],\n",
       "         [0.39074338],\n",
       "         [0.32587745],\n",
       "         [0.32587745]])}}"
      ]
     },
     "execution_count": 1,
     "metadata": {},
     "output_type": "execute_result"
    }
   ],
   "source": [
    "ds = load_by_id(run_id_a)\n",
    "ds.get_parameter_data('x1')"
   ]
  },
  {
   "cell_type": "code",
   "execution_count": null,
   "metadata": {},
   "outputs": [],
   "source": []
  }
 ],
 "metadata": {
  "kernelspec": {
   "display_name": "Python 3",
   "language": "python",
   "name": "python3"
  },
  "language_info": {
   "codemirror_mode": {
    "name": "ipython",
    "version": 3
   },
   "file_extension": ".py",
   "mimetype": "text/x-python",
   "name": "python",
   "nbconvert_exporter": "python",
   "pygments_lexer": "ipython3",
   "version": "3.7.7"
  },
  "nbsphinx": {
   "timeout": 600
  },
  "toc": {
   "base_numbering": 1,
   "nav_menu": {},
   "number_sections": true,
   "sideBar": true,
   "skip_h1_title": false,
   "title_cell": "Table of Contents",
   "title_sidebar": "Contents",
   "toc_cell": false,
   "toc_position": {},
   "toc_section_display": true,
   "toc_window_display": false
  },
  "varInspector": {
   "cols": {
    "lenName": 16,
    "lenType": 16,
    "lenVar": 40
   },
   "kernels_config": {
    "python": {
     "delete_cmd_postfix": "",
     "delete_cmd_prefix": "del ",
     "library": "var_list.py",
     "varRefreshCmd": "print(var_dic_list())"
    },
    "r": {
     "delete_cmd_postfix": ") ",
     "delete_cmd_prefix": "rm(",
     "library": "var_list.r",
     "varRefreshCmd": "cat(var_dic_list()) "
    }
   },
   "types_to_exclude": [
    "module",
    "function",
    "builtin_function_or_method",
    "instance",
    "_Feature"
   ],
   "window_display": false
  }
 },
 "nbformat": 4,
 "nbformat_minor": 2
}
