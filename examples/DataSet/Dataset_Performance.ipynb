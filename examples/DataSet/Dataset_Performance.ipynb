{
 "cells": [
  {
   "cell_type": "markdown",
   "metadata": {},
   "source": [
    "# DataSet Performance\n",
    "\n",
    "This notebook shows the trade-off between inserting data into a database row-by-row and as binary blobs. Inserting the data row-by-row means that we have direct access to all the data and may perform queries directly on the values of the data. On the other hand, as we shall see, this is much slower than inserting the data directly as binary blobs."
   ]
  },
  {
   "cell_type": "markdown",
   "metadata": {},
   "source": [
    "First, we choose a new location for the database to ensure that we don't add a bunch of benchmarking data to the default one."
   ]
  },
  {
   "cell_type": "code",
   "execution_count": 1,
   "metadata": {},
   "outputs": [
    {
     "name": "stdout",
     "output_type": "stream",
     "text": [
      "Logging hadn't been started.\n",
      "Activating auto-logging. Current session state plus future input saved.\n",
      "Filename       : /home/vsts/.qcodes/logs/command_history.log\n",
      "Mode           : append\n",
      "Output logging : True\n",
      "Raw input log  : False\n",
      "Timestamping   : True\n",
      "State          : active\n"
     ]
    },
    {
     "name": "stdout",
     "output_type": "stream",
     "text": [
      "Qcodes Logfile : /home/vsts/.qcodes/logs/200319-20064-qcodes.log\n"
     ]
    }
   ],
   "source": [
    "import os\n",
    "cwd = os.getcwd()\n",
    "import qcodes as qc\n",
    "qc.config[\"core\"][\"db_location\"] = os.path.join(cwd, 'testing.db')\n"
   ]
  },
  {
   "cell_type": "code",
   "execution_count": 2,
   "metadata": {},
   "outputs": [],
   "source": [
    "%matplotlib inline\n",
    "import time\n",
    "import matplotlib.pyplot as plt\n",
    "import numpy as np\n",
    "\n",
    "import qcodes as qc\n",
    "from qcodes.instrument.parameter import ManualParameter\n",
    "from qcodes.dataset.experiment_container import (Experiment,\n",
    "                                                 load_last_experiment,\n",
    "                                                 new_experiment)\n",
    "from qcodes.dataset.sqlite.database import initialise_database\n",
    "from qcodes import load_or_create_experiment\n",
    "from qcodes.dataset.measurements import Measurement"
   ]
  },
  {
   "cell_type": "code",
   "execution_count": 3,
   "metadata": {},
   "outputs": [
    {
     "name": "stdout",
     "output_type": "stream",
     "text": [
      "\r",
      "0it [00:00, ?it/s]"
     ]
    },
    {
     "name": "stdout",
     "output_type": "stream",
     "text": [
      "\r",
      "Upgrading database; v0 -> v1: : 0it [00:00, ?it/s]"
     ]
    },
    {
     "name": "stdout",
     "output_type": "stream",
     "text": [
      "\r",
      "Upgrading database; v0 -> v1: : 0it [00:00, ?it/s]"
     ]
    },
    {
     "name": "stdout",
     "output_type": "stream",
     "text": [
      "\n",
      "\r",
      "  0%|          | 0/1 [00:00<?, ?it/s]"
     ]
    },
    {
     "name": "stdout",
     "output_type": "stream",
     "text": [
      "\r",
      "Upgrading database; v1 -> v2:   0%|          | 0/1 [00:00<?, ?it/s]"
     ]
    },
    {
     "name": "stdout",
     "output_type": "stream",
     "text": [
      "\r",
      "Upgrading database; v1 -> v2: 100%|██████████| 1/1 [00:00<00:00, 745.92it/s]"
     ]
    },
    {
     "name": "stdout",
     "output_type": "stream",
     "text": [
      "\n",
      "\r",
      "0it [00:00, ?it/s]"
     ]
    },
    {
     "name": "stdout",
     "output_type": "stream",
     "text": [
      "\r",
      "Upgrading database; v2 -> v3: : 0it [00:00, ?it/s]"
     ]
    },
    {
     "name": "stdout",
     "output_type": "stream",
     "text": [
      "\r",
      "Upgrading database; v2 -> v3: : 0it [00:00, ?it/s]"
     ]
    },
    {
     "name": "stdout",
     "output_type": "stream",
     "text": [
      "\n",
      "\r",
      "0it [00:00, ?it/s]"
     ]
    },
    {
     "name": "stdout",
     "output_type": "stream",
     "text": [
      "\r",
      "Upgrading database; v3 -> v4: : 0it [00:00, ?it/s]"
     ]
    },
    {
     "name": "stdout",
     "output_type": "stream",
     "text": [
      "\r",
      "Upgrading database; v3 -> v4: : 0it [00:00, ?it/s]"
     ]
    },
    {
     "name": "stdout",
     "output_type": "stream",
     "text": [
      "\n",
      "\r",
      "  0%|          | 0/1 [00:00<?, ?it/s]"
     ]
    },
    {
     "name": "stdout",
     "output_type": "stream",
     "text": [
      "\r",
      "Upgrading database; v4 -> v5:   0%|          | 0/1 [00:00<?, ?it/s]"
     ]
    },
    {
     "name": "stdout",
     "output_type": "stream",
     "text": [
      "\r",
      "Upgrading database; v4 -> v5: 100%|██████████| 1/1 [00:00<00:00, 1212.93it/s]"
     ]
    },
    {
     "name": "stdout",
     "output_type": "stream",
     "text": [
      "\n",
      "\r",
      "0it [00:00, ?it/s]"
     ]
    },
    {
     "name": "stdout",
     "output_type": "stream",
     "text": [
      "\r",
      "Upgrading database; v5 -> v6: : 0it [00:00, ?it/s]"
     ]
    },
    {
     "name": "stdout",
     "output_type": "stream",
     "text": [
      "\r",
      "Upgrading database; v5 -> v6: : 0it [00:00, ?it/s]"
     ]
    },
    {
     "name": "stdout",
     "output_type": "stream",
     "text": [
      "\n",
      "\r",
      "  0%|          | 0/1 [00:00<?, ?it/s]"
     ]
    },
    {
     "name": "stdout",
     "output_type": "stream",
     "text": [
      "\r",
      "Upgrading database; v6 -> v7:   0%|          | 0/1 [00:00<?, ?it/s]"
     ]
    },
    {
     "name": "stdout",
     "output_type": "stream",
     "text": [
      "\r",
      "Upgrading database; v6 -> v7: 100%|██████████| 1/1 [00:00<00:00, 502.97it/s]"
     ]
    },
    {
     "name": "stdout",
     "output_type": "stream",
     "text": [
      "\n",
      "\r",
      "  0%|          | 0/1 [00:00<?, ?it/s]"
     ]
    },
    {
     "name": "stdout",
     "output_type": "stream",
     "text": [
      "\r",
      "Upgrading database; v7 -> v8:   0%|          | 0/1 [00:00<?, ?it/s]"
     ]
    },
    {
     "name": "stdout",
     "output_type": "stream",
     "text": [
      "\r",
      "Upgrading database; v7 -> v8: 100%|██████████| 1/1 [00:00<00:00, 810.81it/s]"
     ]
    },
    {
     "name": "stdout",
     "output_type": "stream",
     "text": [
      "\n",
      "\r",
      "  0%|          | 0/1 [00:00<?, ?it/s]"
     ]
    },
    {
     "name": "stdout",
     "output_type": "stream",
     "text": [
      "\r",
      "Upgrading database; v8 -> v9:   0%|          | 0/1 [00:00<?, ?it/s]"
     ]
    },
    {
     "name": "stdout",
     "output_type": "stream",
     "text": [
      "\r",
      "Upgrading database; v8 -> v9: 100%|██████████| 1/1 [00:00<00:00, 1251.28it/s]"
     ]
    },
    {
     "name": "stdout",
     "output_type": "stream",
     "text": [
      "\n"
     ]
    }
   ],
   "source": [
    "initialise_database()\n",
    "exp = load_or_create_experiment(experiment_name='tutorial_exp', sample_name=\"no sample\")"
   ]
  },
  {
   "cell_type": "markdown",
   "metadata": {},
   "source": [
    "Here, we define a simple function to benchmark the time it takes to insert n points with either numeric or array data type.\n",
    "We will compare both the time used to call ``add_result`` and the time used for the full measurement."
   ]
  },
  {
   "cell_type": "code",
   "execution_count": 4,
   "metadata": {},
   "outputs": [],
   "source": [
    "def insert_data(paramtype, npoints, nreps=1):\n",
    "\n",
    "    meas = Measurement(exp=exp)\n",
    "\n",
    "    x1 = ManualParameter('x1')\n",
    "    x2 = ManualParameter('x2')\n",
    "    x3 = ManualParameter('x3')\n",
    "    y1 = ManualParameter('y1')\n",
    "    y2 = ManualParameter('y2')\n",
    "\n",
    "    meas.register_parameter(x1, paramtype=paramtype)\n",
    "    meas.register_parameter(x2, paramtype=paramtype)\n",
    "    meas.register_parameter(x3, paramtype=paramtype)\n",
    "    meas.register_parameter(y1, setpoints=[x1, x2, x3],\n",
    "                            paramtype=paramtype)\n",
    "    meas.register_parameter(y2, setpoints=[x1, x2, x3],\n",
    "                            paramtype=paramtype)\n",
    "    start = time.perf_counter()\n",
    "    with meas.run() as datasaver:\n",
    "        start_adding = time.perf_counter()\n",
    "        for i in range(nreps):\n",
    "            datasaver.add_result((x1, np.random.rand(npoints)),\n",
    "                                 (x2, np.random.rand(npoints)),\n",
    "                                 (x3, np.random.rand(npoints)),\n",
    "                                 (y1, np.random.rand(npoints)),\n",
    "                                 (y2, np.random.rand(npoints)))\n",
    "        stop_adding = time.perf_counter()\n",
    "        run_id = datasaver.run_id\n",
    "    stop = time.perf_counter()\n",
    "    tot_time = stop - start\n",
    "    add_time = stop_adding - start_adding\n",
    "    return tot_time, add_time, run_id"
   ]
  },
  {
   "cell_type": "markdown",
   "metadata": {},
   "source": [
    "## Comparison between numeric/array data and binary blob"
   ]
  },
  {
   "cell_type": "markdown",
   "metadata": {},
   "source": [
    "### Case1: Short experiment time"
   ]
  },
  {
   "cell_type": "code",
   "execution_count": 5,
   "metadata": {},
   "outputs": [
    {
     "name": "stdout",
     "output_type": "stream",
     "text": [
      "Starting experimental run with id: 1. \n",
      "Starting experimental run with id: 2. \n",
      "Starting experimental run with id: 3. \n",
      "Starting experimental run with id: 4. \n",
      "Starting experimental run with id: 5. \n"
     ]
    },
    {
     "name": "stdout",
     "output_type": "stream",
     "text": [
      "Starting experimental run with id: 6. \n"
     ]
    },
    {
     "name": "stdout",
     "output_type": "stream",
     "text": [
      "Starting experimental run with id: 7. \n"
     ]
    },
    {
     "name": "stdout",
     "output_type": "stream",
     "text": [
      "Starting experimental run with id: 8. \n",
      "Starting experimental run with id: 9. \n"
     ]
    },
    {
     "name": "stdout",
     "output_type": "stream",
     "text": [
      "Starting experimental run with id: 10. \n",
      "Starting experimental run with id: 11. \n"
     ]
    },
    {
     "name": "stdout",
     "output_type": "stream",
     "text": [
      "Starting experimental run with id: 12. \n",
      "Starting experimental run with id: 13. \n"
     ]
    },
    {
     "name": "stdout",
     "output_type": "stream",
     "text": [
      "Starting experimental run with id: 14. \n"
     ]
    }
   ],
   "source": [
    "sizes = [1,500,1000,2000,3000,4000,5000]\n",
    "t_numeric = []\n",
    "t_numeric_add = []\n",
    "t_array = []\n",
    "t_array_add = []\n",
    "for size in sizes:\n",
    "    tn, tna, run_id_n =  insert_data('numeric', size)\n",
    "    t_numeric.append(tn)\n",
    "    t_numeric_add.append(tna)\n",
    "\n",
    "    ta, taa, run_id_a =  insert_data('array', size)\n",
    "    t_array.append(ta)\n",
    "    t_array_add.append(taa)"
   ]
  },
  {
   "cell_type": "code",
   "execution_count": 6,
   "metadata": {},
   "outputs": [
    {
     "data": {
      "image/png": "[encoded data removed]",
      "text/plain": [
       "<Figure size 432x288 with 1 Axes>"
      ]
     },
     "metadata": {
      "needs_background": "light"
     },
     "output_type": "display_data"
    }
   ],
   "source": [
    "fig, ax = plt.subplots(1,1)\n",
    "ax.plot(sizes, t_numeric, 'o-', label='Inserting row-by-row')\n",
    "ax.plot(sizes, t_numeric_add, 'o-', label='Inserting row-by-row: add_result only')\n",
    "ax.plot(sizes, t_array, 'd-', label='Inserting as binary blob')\n",
    "ax.plot(sizes, t_array_add, 'd-', label='Inserting as binary blob: add_result only')\n",
    "ax.legend()\n",
    "ax.set_xlabel('Array length')\n",
    "ax.set_ylabel('Time (s)')\n",
    "fig.tight_layout()"
   ]
  },
  {
   "cell_type": "markdown",
   "metadata": {},
   "source": [
    "As shown in the latter figure, the time to setup and and close the experiment is approximately 0.4 sec. In case of small array sizes, the difference between inserting values of data as arrays and inserting them row-by-row is relatively unimportant. At larger array sizes, i.e. above 10000 points, the cost of writing data as individual datapoints starts to become important.\n"
   ]
  },
  {
   "cell_type": "markdown",
   "metadata": {},
   "source": [
    "### Case2: Long experiment time "
   ]
  },
  {
   "cell_type": "code",
   "execution_count": 7,
   "metadata": {},
   "outputs": [
    {
     "name": "stdout",
     "output_type": "stream",
     "text": [
      "Starting experimental run with id: 15. \n",
      "Starting experimental run with id: 16. \n",
      "Starting experimental run with id: 17. \n"
     ]
    },
    {
     "name": "stdout",
     "output_type": "stream",
     "text": [
      "Starting experimental run with id: 18. \n",
      "Starting experimental run with id: 19. \n"
     ]
    },
    {
     "name": "stdout",
     "output_type": "stream",
     "text": [
      "Starting experimental run with id: 20. \n"
     ]
    },
    {
     "name": "stdout",
     "output_type": "stream",
     "text": [
      "Starting experimental run with id: 21. \n"
     ]
    },
    {
     "name": "stdout",
     "output_type": "stream",
     "text": [
      "Starting experimental run with id: 22. \n"
     ]
    },
    {
     "name": "stdout",
     "output_type": "stream",
     "text": [
      "Starting experimental run with id: 23. \n"
     ]
    },
    {
     "name": "stdout",
     "output_type": "stream",
     "text": [
      "Starting experimental run with id: 24. \n"
     ]
    },
    {
     "name": "stdout",
     "output_type": "stream",
     "text": [
      "Starting experimental run with id: 25. \n"
     ]
    },
    {
     "name": "stdout",
     "output_type": "stream",
     "text": [
      "Starting experimental run with id: 26. \n"
     ]
    },
    {
     "name": "stdout",
     "output_type": "stream",
     "text": [
      "Starting experimental run with id: 27. \n"
     ]
    },
    {
     "name": "stdout",
     "output_type": "stream",
     "text": [
      "Starting experimental run with id: 28. \n"
     ]
    }
   ],
   "source": [
    "sizes = [1,500,1000,2000,3000,4000,5000]\n",
    "nreps = 100\n",
    "t_numeric = []\n",
    "t_numeric_add = []\n",
    "t_numeric_run_ids = []\n",
    "t_array = []\n",
    "t_array_add = []\n",
    "t_array_run_ids = []\n",
    "for size in sizes:\n",
    "    tn, tna, run_id_n =  insert_data('numeric', size, nreps=nreps)\n",
    "    t_numeric.append(tn)\n",
    "    t_numeric_add.append(tna)\n",
    "    t_numeric_run_ids.append(run_id_n)\n",
    "\n",
    "    ta, taa, run_id_a =  insert_data('array', size, nreps=nreps)\n",
    "    t_array.append(ta)\n",
    "    t_array_add.append(taa)\n",
    "    t_array_run_ids.append(run_id_a)"
   ]
  },
  {
   "cell_type": "code",
   "execution_count": 8,
   "metadata": {
    "scrolled": true
   },
   "outputs": [
    {
     "data": {
      "image/png": "[encoded data removed]",
      "text/plain": [
       "<Figure size 432x288 with 1 Axes>"
      ]
     },
     "metadata": {
      "needs_background": "light"
     },
     "output_type": "display_data"
    }
   ],
   "source": [
    "fig, ax = plt.subplots(1,1)\n",
    "ax.plot(sizes, t_numeric, 'o-', label='Inserting row-by-row')\n",
    "ax.plot(sizes, t_numeric_add, 'o-', label='Inserting row-by-row: add_result only')\n",
    "ax.plot(sizes, t_array, 'd-', label='Inserting as binary blob')\n",
    "ax.plot(sizes, t_array_add, 'd-', label='Inserting as binary blob: add_result only')\n",
    "ax.legend()\n",
    "ax.set_xlabel('Array length')\n",
    "ax.set_ylabel('Time (s)')\n",
    "fig.tight_layout()"
   ]
  },
  {
   "cell_type": "markdown",
   "metadata": {},
   "source": [
    "However, as we increase the length of the experiment, as seen here by repeating the insertion 100 times, we see a big difference between inserting values of the data row-by-row and inserting it as a binary blob."
   ]
  },
  {
   "cell_type": "markdown",
   "metadata": {},
   "source": [
    "## Loading the data "
   ]
  },
  {
   "cell_type": "code",
   "execution_count": 9,
   "metadata": {},
   "outputs": [],
   "source": [
    "from qcodes.dataset.data_set import load_by_id\n",
    "from qcodes.dataset.data_export import get_data_by_id"
   ]
  },
  {
   "cell_type": "markdown",
   "metadata": {},
   "source": [
    "As usual you can load the data by using the ``load_by_id`` function but you will notice that the different storage methods\n",
    "are reflected in shape of the data as it is retrieved. "
   ]
  },
  {
   "cell_type": "code",
   "execution_count": 10,
   "metadata": {},
   "outputs": [],
   "source": [
    "run_id_n = t_numeric_run_ids[0]\n",
    "run_id_a = t_array_run_ids[0]"
   ]
  },
  {
   "cell_type": "code",
   "execution_count": 11,
   "metadata": {
    "scrolled": true
   },
   "outputs": [
    {
     "data": {
      "text/plain": [
       "{'x1': {'x1': array([0.83220638, 0.83220638, 0.37398079, 0.37398079, 0.50620154,\n",
       "         0.50620154, 0.86014312, 0.86014312, 0.0715021 , 0.0715021 ,\n",
       "         0.00269806, 0.00269806, 0.05323751, 0.05323751, 0.70028829,\n",
       "         0.70028829, 0.85500442, 0.85500442, 0.75673475, 0.75673475,\n",
       "         0.09320891, 0.09320891, 0.83903062, 0.83903062, 0.58345946,\n",
       "         0.58345946, 0.65659269, 0.65659269, 0.06000816, 0.06000816,\n",
       "         0.18000243, 0.18000243, 0.82583477, 0.82583477, 0.68155727,\n",
       "         0.68155727, 0.02970539, 0.02970539, 0.38124428, 0.38124428,\n",
       "         0.76019489, 0.76019489, 0.83646731, 0.83646731, 0.40118347,\n",
       "         0.40118347, 0.4372626 , 0.4372626 , 0.28450646, 0.28450646,\n",
       "         0.64133267, 0.64133267, 0.94997179, 0.94997179, 0.14946561,\n",
       "         0.14946561, 0.34148863, 0.34148863, 0.32720863, 0.32720863,\n",
       "         0.55778503, 0.55778503, 0.90387472, 0.90387472, 0.74853209,\n",
       "         0.74853209, 0.99829183, 0.99829183, 0.48620147, 0.48620147,\n",
       "         0.4740383 , 0.4740383 , 0.41886996, 0.41886996, 0.352214  ,\n",
       "         0.352214  , 0.81306276, 0.81306276, 0.36824518, 0.36824518,\n",
       "         0.29410475, 0.29410475, 0.73692524, 0.73692524, 0.21483968,\n",
       "         0.21483968, 0.27192645, 0.27192645, 0.2921672 , 0.2921672 ,\n",
       "         0.11069168, 0.11069168, 0.88581094, 0.88581094, 0.80339106,\n",
       "         0.80339106, 0.43050981, 0.43050981, 0.47325875, 0.47325875,\n",
       "         0.35277357, 0.35277357, 0.38489593, 0.38489593, 0.10666586,\n",
       "         0.10666586, 0.2482199 , 0.2482199 , 0.92907002, 0.92907002,\n",
       "         0.46361428, 0.46361428, 0.99144435, 0.99144435, 0.79412543,\n",
       "         0.79412543, 0.82058513, 0.82058513, 0.41798965, 0.41798965,\n",
       "         0.53601716, 0.53601716, 0.14664947, 0.14664947, 0.32838159,\n",
       "         0.32838159, 0.45509153, 0.45509153, 0.76169011, 0.76169011,\n",
       "         0.128865  , 0.128865  , 0.41833932, 0.41833932, 0.30596673,\n",
       "         0.30596673, 0.00210812, 0.00210812, 0.95783931, 0.95783931,\n",
       "         0.21791999, 0.21791999, 0.11498582, 0.11498582, 0.44332752,\n",
       "         0.44332752, 0.81230934, 0.81230934, 0.01893339, 0.01893339,\n",
       "         0.89129456, 0.89129456, 0.51318422, 0.51318422, 0.2040265 ,\n",
       "         0.2040265 , 0.77746564, 0.77746564, 0.87401743, 0.87401743,\n",
       "         0.04540441, 0.04540441, 0.73607802, 0.73607802, 0.82603686,\n",
       "         0.82603686, 0.12565408, 0.12565408, 0.18091177, 0.18091177,\n",
       "         0.68844378, 0.68844378, 0.59006229, 0.59006229, 0.85792369,\n",
       "         0.85792369, 0.08208041, 0.08208041, 0.69770849, 0.69770849,\n",
       "         0.88528715, 0.88528715, 0.67701227, 0.67701227, 0.74787622,\n",
       "         0.74787622, 0.89325657, 0.89325657, 0.74083253, 0.74083253,\n",
       "         0.66070479, 0.66070479, 0.80197662, 0.80197662, 0.16897877,\n",
       "         0.16897877, 0.94915118, 0.94915118, 0.17875493, 0.17875493])}}"
      ]
     },
     "execution_count": 11,
     "metadata": {},
     "output_type": "execute_result"
    }
   ],
   "source": [
    "ds = load_by_id(run_id_n)\n",
    "ds.get_parameter_data('x1')"
   ]
  },
  {
   "cell_type": "markdown",
   "metadata": {},
   "source": [
    "And a dataset stored as binary arrays"
   ]
  },
  {
   "cell_type": "code",
   "execution_count": 12,
   "metadata": {
    "scrolled": true
   },
   "outputs": [
    {
     "data": {
      "text/plain": [
       "{'x1': {'x1': array([[0.79583782],\n",
       "         [0.79583782],\n",
       "         [0.50957505],\n",
       "         [0.50957505],\n",
       "         [0.95118353],\n",
       "         [0.95118353],\n",
       "         [0.40904959],\n",
       "         [0.40904959],\n",
       "         [0.18328568],\n",
       "         [0.18328568],\n",
       "         [0.79643425],\n",
       "         [0.79643425],\n",
       "         [0.12900305],\n",
       "         [0.12900305],\n",
       "         [0.36101305],\n",
       "         [0.36101305],\n",
       "         [0.71050635],\n",
       "         [0.71050635],\n",
       "         [0.09203266],\n",
       "         [0.09203266],\n",
       "         [0.98421783],\n",
       "         [0.98421783],\n",
       "         [0.68038415],\n",
       "         [0.68038415],\n",
       "         [0.58954001],\n",
       "         [0.58954001],\n",
       "         [0.9129473 ],\n",
       "         [0.9129473 ],\n",
       "         [0.50975299],\n",
       "         [0.50975299],\n",
       "         [0.90084518],\n",
       "         [0.90084518],\n",
       "         [0.15003731],\n",
       "         [0.15003731],\n",
       "         [0.96373667],\n",
       "         [0.96373667],\n",
       "         [0.7444195 ],\n",
       "         [0.7444195 ],\n",
       "         [0.16723987],\n",
       "         [0.16723987],\n",
       "         [0.17236961],\n",
       "         [0.17236961],\n",
       "         [0.55016838],\n",
       "         [0.55016838],\n",
       "         [0.96662309],\n",
       "         [0.96662309],\n",
       "         [0.84336003],\n",
       "         [0.84336003],\n",
       "         [0.65287373],\n",
       "         [0.65287373],\n",
       "         [0.38330908],\n",
       "         [0.38330908],\n",
       "         [0.24863664],\n",
       "         [0.24863664],\n",
       "         [0.3078273 ],\n",
       "         [0.3078273 ],\n",
       "         [0.17622649],\n",
       "         [0.17622649],\n",
       "         [0.37535467],\n",
       "         [0.37535467],\n",
       "         [0.03077243],\n",
       "         [0.03077243],\n",
       "         [0.65878525],\n",
       "         [0.65878525],\n",
       "         [0.98719795],\n",
       "         [0.98719795],\n",
       "         [0.78815889],\n",
       "         [0.78815889],\n",
       "         [0.69632621],\n",
       "         [0.69632621],\n",
       "         [0.97263295],\n",
       "         [0.97263295],\n",
       "         [0.12409492],\n",
       "         [0.12409492],\n",
       "         [0.64905541],\n",
       "         [0.64905541],\n",
       "         [0.62005283],\n",
       "         [0.62005283],\n",
       "         [0.71994753],\n",
       "         [0.71994753],\n",
       "         [0.62220408],\n",
       "         [0.62220408],\n",
       "         [0.29420752],\n",
       "         [0.29420752],\n",
       "         [0.23479358],\n",
       "         [0.23479358],\n",
       "         [0.1741605 ],\n",
       "         [0.1741605 ],\n",
       "         [0.39059736],\n",
       "         [0.39059736],\n",
       "         [0.91257856],\n",
       "         [0.91257856],\n",
       "         [0.04413358],\n",
       "         [0.04413358],\n",
       "         [0.8441663 ],\n",
       "         [0.8441663 ],\n",
       "         [0.62728592],\n",
       "         [0.62728592],\n",
       "         [0.22863984],\n",
       "         [0.22863984],\n",
       "         [0.78943869],\n",
       "         [0.78943869],\n",
       "         [0.4365039 ],\n",
       "         [0.4365039 ],\n",
       "         [0.69169203],\n",
       "         [0.69169203],\n",
       "         [0.44453602],\n",
       "         [0.44453602],\n",
       "         [0.75393465],\n",
       "         [0.75393465],\n",
       "         [0.40565815],\n",
       "         [0.40565815],\n",
       "         [0.43108842],\n",
       "         [0.43108842],\n",
       "         [0.62300567],\n",
       "         [0.62300567],\n",
       "         [0.62402386],\n",
       "         [0.62402386],\n",
       "         [0.89008206],\n",
       "         [0.89008206],\n",
       "         [0.09710056],\n",
       "         [0.09710056],\n",
       "         [0.75329866],\n",
       "         [0.75329866],\n",
       "         [0.24646279],\n",
       "         [0.24646279],\n",
       "         [0.07734555],\n",
       "         [0.07734555],\n",
       "         [0.81689466],\n",
       "         [0.81689466],\n",
       "         [0.38667904],\n",
       "         [0.38667904],\n",
       "         [0.07059307],\n",
       "         [0.07059307],\n",
       "         [0.06986201],\n",
       "         [0.06986201],\n",
       "         [0.44017352],\n",
       "         [0.44017352],\n",
       "         [0.53007817],\n",
       "         [0.53007817],\n",
       "         [0.59298513],\n",
       "         [0.59298513],\n",
       "         [0.14479628],\n",
       "         [0.14479628],\n",
       "         [0.20664335],\n",
       "         [0.20664335],\n",
       "         [0.05571427],\n",
       "         [0.05571427],\n",
       "         [0.76384682],\n",
       "         [0.76384682],\n",
       "         [0.1299225 ],\n",
       "         [0.1299225 ],\n",
       "         [0.96773008],\n",
       "         [0.96773008],\n",
       "         [0.75228987],\n",
       "         [0.75228987],\n",
       "         [0.13576047],\n",
       "         [0.13576047],\n",
       "         [0.09635717],\n",
       "         [0.09635717],\n",
       "         [0.24547628],\n",
       "         [0.24547628],\n",
       "         [0.479418  ],\n",
       "         [0.479418  ],\n",
       "         [0.61848339],\n",
       "         [0.61848339],\n",
       "         [0.60649902],\n",
       "         [0.60649902],\n",
       "         [0.1378523 ],\n",
       "         [0.1378523 ],\n",
       "         [0.55754158],\n",
       "         [0.55754158],\n",
       "         [0.19277859],\n",
       "         [0.19277859],\n",
       "         [0.01737604],\n",
       "         [0.01737604],\n",
       "         [0.00163701],\n",
       "         [0.00163701],\n",
       "         [0.99038799],\n",
       "         [0.99038799],\n",
       "         [0.47366152],\n",
       "         [0.47366152],\n",
       "         [0.4887785 ],\n",
       "         [0.4887785 ],\n",
       "         [0.58310785],\n",
       "         [0.58310785],\n",
       "         [0.90924278],\n",
       "         [0.90924278],\n",
       "         [0.04938102],\n",
       "         [0.04938102],\n",
       "         [0.5426465 ],\n",
       "         [0.5426465 ],\n",
       "         [0.44336836],\n",
       "         [0.44336836],\n",
       "         [0.7930614 ],\n",
       "         [0.7930614 ],\n",
       "         [0.19319187],\n",
       "         [0.19319187],\n",
       "         [0.99480094],\n",
       "         [0.99480094]])}}"
      ]
     },
     "execution_count": 12,
     "metadata": {},
     "output_type": "execute_result"
    }
   ],
   "source": [
    "ds = load_by_id(run_id_a)\n",
    "ds.get_parameter_data('x1')"
   ]
  },
  {
   "cell_type": "code",
   "execution_count": null,
   "metadata": {},
   "outputs": [],
   "source": []
  }
 ],
 "metadata": {
  "kernelspec": {
   "display_name": "Python 3",
   "language": "python",
   "name": "python3"
  },
  "language_info": {
   "codemirror_mode": {
    "name": "ipython",
    "version": 3
   },
   "file_extension": ".py",
   "mimetype": "text/x-python",
   "name": "python",
   "nbconvert_exporter": "python",
   "pygments_lexer": "ipython3",
   "version": "3.7.5"
  },
  "nbsphinx": {
   "timeout": 600
  },
  "toc": {
   "base_numbering": 1,
   "nav_menu": {},
   "number_sections": true,
   "sideBar": true,
   "skip_h1_title": false,
   "title_cell": "Table of Contents",
   "title_sidebar": "Contents",
   "toc_cell": false,
   "toc_position": {},
   "toc_section_display": true,
   "toc_window_display": false
  },
  "varInspector": {
   "cols": {
    "lenName": 16,
    "lenType": 16,
    "lenVar": 40
   },
   "kernels_config": {
    "python": {
     "delete_cmd_postfix": "",
     "delete_cmd_prefix": "del ",
     "library": "var_list.py",
     "varRefreshCmd": "print(var_dic_list())"
    },
    "r": {
     "delete_cmd_postfix": ") ",
     "delete_cmd_prefix": "rm(",
     "library": "var_list.r",
     "varRefreshCmd": "cat(var_dic_list()) "
    }
   },
   "types_to_exclude": [
    "module",
    "function",
    "builtin_function_or_method",
    "instance",
    "_Feature"
   ],
   "window_display": false
  }
 },
 "nbformat": 4,
 "nbformat_minor": 2
}
