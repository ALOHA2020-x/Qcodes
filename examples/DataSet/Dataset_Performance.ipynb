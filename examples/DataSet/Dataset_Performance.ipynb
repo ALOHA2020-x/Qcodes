{
 "cells": [
  {
   "cell_type": "markdown",
   "metadata": {},
   "source": [
    "# DataSet Performance\n",
    "\n",
    "This notebook shows the trade-off between inserting data into a database row-by-row and as binary blobs. Inserting the data row-by-row means that we have direct access to all the data and may perform queries directly on the values of the data. On the other hand, as we shall see, this is much slower than inserting the data directly as binary blobs."
   ]
  },
  {
   "cell_type": "markdown",
   "metadata": {},
   "source": [
    "First, we choose a new location for the database to ensure that we don't add a bunch of benchmarking data to the default one."
   ]
  },
  {
   "cell_type": "code",
   "execution_count": 1,
   "metadata": {
    "execution": {
     "iopub.execute_input": "2020-11-03T11:49:21.671845Z",
     "iopub.status.busy": "2020-11-03T11:49:21.671091Z",
     "iopub.status.idle": "2020-11-03T11:49:22.852691Z",
     "shell.execute_reply": "2020-11-03T11:49:22.851937Z"
    }
   },
   "outputs": [
    {
     "name": "stdout",
     "output_type": "stream",
     "text": [
      "Logging hadn't been started.\n",
      "Activating auto-logging. Current session state plus future input saved.\n",
      "Filename       : /home/vsts/.qcodes/logs/command_history.log\n",
      "Mode           : append\n",
      "Output logging : True\n",
      "Raw input log  : False\n",
      "Timestamping   : True\n",
      "State          : active\n"
     ]
    },
    {
     "name": "stdout",
     "output_type": "stream",
     "text": [
      "Qcodes Logfile : /home/vsts/.qcodes/logs/201103-14698-qcodes.log\n"
     ]
    }
   ],
   "source": [
    "import os\n",
    "cwd = os.getcwd()\n",
    "import qcodes as qc\n",
    "qc.config[\"core\"][\"db_location\"] = os.path.join(cwd, 'testing.db')\n"
   ]
  },
  {
   "cell_type": "code",
   "execution_count": 2,
   "metadata": {
    "execution": {
     "iopub.execute_input": "2020-11-03T11:49:22.859879Z",
     "iopub.status.busy": "2020-11-03T11:49:22.858878Z",
     "iopub.status.idle": "2020-11-03T11:49:23.078216Z",
     "shell.execute_reply": "2020-11-03T11:49:23.077231Z"
    }
   },
   "outputs": [],
   "source": [
    "%matplotlib inline\n",
    "import time\n",
    "import matplotlib.pyplot as plt\n",
    "import numpy as np\n",
    "\n",
    "import qcodes as qc\n",
    "from qcodes.instrument.parameter import ManualParameter\n",
    "from qcodes.dataset.experiment_container import (Experiment,\n",
    "                                                 load_last_experiment,\n",
    "                                                 new_experiment)\n",
    "from qcodes.dataset.sqlite.database import initialise_database\n",
    "from qcodes import load_or_create_experiment\n",
    "from qcodes.dataset.measurements import Measurement"
   ]
  },
  {
   "cell_type": "code",
   "execution_count": 3,
   "metadata": {
    "execution": {
     "iopub.execute_input": "2020-11-03T11:49:23.083498Z",
     "iopub.status.busy": "2020-11-03T11:49:23.082738Z",
     "iopub.status.idle": "2020-11-03T11:49:23.226827Z",
     "shell.execute_reply": "2020-11-03T11:49:23.225900Z"
    }
   },
   "outputs": [
    {
     "name": "stdout",
     "output_type": "stream",
     "text": [
      "\r",
      "0it [00:00, ?it/s]"
     ]
    },
    {
     "name": "stdout",
     "output_type": "stream",
     "text": [
      "\r",
      "Upgrading database; v0 -> v1: : 0it [00:00, ?it/s]"
     ]
    },
    {
     "name": "stdout",
     "output_type": "stream",
     "text": [
      "\r",
      "Upgrading database; v0 -> v1: : 0it [00:00, ?it/s]"
     ]
    },
    {
     "name": "stdout",
     "output_type": "stream",
     "text": [
      "\n",
      "\r",
      "  0%|          | 0/1 [00:00<?, ?it/s]"
     ]
    },
    {
     "name": "stdout",
     "output_type": "stream",
     "text": [
      "\r",
      "Upgrading database; v1 -> v2:   0%|          | 0/1 [00:00<?, ?it/s]"
     ]
    },
    {
     "name": "stdout",
     "output_type": "stream",
     "text": [
      "\r",
      "Upgrading database; v1 -> v2: 100%|██████████| 1/1 [00:00<00:00, 853.72it/s]"
     ]
    },
    {
     "name": "stdout",
     "output_type": "stream",
     "text": [
      "\n",
      "\r",
      "0it [00:00, ?it/s]"
     ]
    },
    {
     "name": "stdout",
     "output_type": "stream",
     "text": [
      "\r",
      "Upgrading database; v2 -> v3: : 0it [00:00, ?it/s]"
     ]
    },
    {
     "name": "stdout",
     "output_type": "stream",
     "text": [
      "\r",
      "Upgrading database; v2 -> v3: : 0it [00:00, ?it/s]"
     ]
    },
    {
     "name": "stdout",
     "output_type": "stream",
     "text": [
      "\n",
      "\r",
      "0it [00:00, ?it/s]"
     ]
    },
    {
     "name": "stdout",
     "output_type": "stream",
     "text": [
      "\r",
      "Upgrading database; v3 -> v4: : 0it [00:00, ?it/s]"
     ]
    },
    {
     "name": "stdout",
     "output_type": "stream",
     "text": [
      "\r",
      "Upgrading database; v3 -> v4: : 0it [00:00, ?it/s]"
     ]
    },
    {
     "name": "stdout",
     "output_type": "stream",
     "text": [
      "\n",
      "\r",
      "  0%|          | 0/1 [00:00<?, ?it/s]"
     ]
    },
    {
     "name": "stdout",
     "output_type": "stream",
     "text": [
      "\r",
      "Upgrading database; v4 -> v5:   0%|          | 0/1 [00:00<?, ?it/s]"
     ]
    },
    {
     "name": "stdout",
     "output_type": "stream",
     "text": [
      "\r",
      "Upgrading database; v4 -> v5: 100%|██████████| 1/1 [00:00<00:00, 327.68it/s]"
     ]
    },
    {
     "name": "stdout",
     "output_type": "stream",
     "text": [
      "\n",
      "\r",
      "0it [00:00, ?it/s]"
     ]
    },
    {
     "name": "stdout",
     "output_type": "stream",
     "text": [
      "\r",
      "Upgrading database; v5 -> v6: : 0it [00:00, ?it/s]"
     ]
    },
    {
     "name": "stdout",
     "output_type": "stream",
     "text": [
      "\r",
      "Upgrading database; v5 -> v6: : 0it [00:00, ?it/s]"
     ]
    },
    {
     "name": "stdout",
     "output_type": "stream",
     "text": [
      "\n",
      "\r",
      "  0%|          | 0/1 [00:00<?, ?it/s]"
     ]
    },
    {
     "name": "stdout",
     "output_type": "stream",
     "text": [
      "\r",
      "Upgrading database; v6 -> v7:   0%|          | 0/1 [00:00<?, ?it/s]"
     ]
    },
    {
     "name": "stdout",
     "output_type": "stream",
     "text": [
      "\r",
      "Upgrading database; v6 -> v7: 100%|██████████| 1/1 [00:00<00:00, 157.36it/s]"
     ]
    },
    {
     "name": "stdout",
     "output_type": "stream",
     "text": [
      "\n",
      "\r",
      "  0%|          | 0/1 [00:00<?, ?it/s]"
     ]
    },
    {
     "name": "stdout",
     "output_type": "stream",
     "text": [
      "\r",
      "Upgrading database; v7 -> v8:   0%|          | 0/1 [00:00<?, ?it/s]"
     ]
    },
    {
     "name": "stdout",
     "output_type": "stream",
     "text": [
      "\r",
      "Upgrading database; v7 -> v8: 100%|██████████| 1/1 [00:00<00:00, 363.99it/s]"
     ]
    },
    {
     "name": "stdout",
     "output_type": "stream",
     "text": [
      "\n",
      "\r",
      "  0%|          | 0/1 [00:00<?, ?it/s]"
     ]
    },
    {
     "name": "stdout",
     "output_type": "stream",
     "text": [
      "\r",
      "Upgrading database; v8 -> v9:   0%|          | 0/1 [00:00<?, ?it/s]"
     ]
    },
    {
     "name": "stdout",
     "output_type": "stream",
     "text": [
      "\r",
      "Upgrading database; v8 -> v9: 100%|██████████| 1/1 [00:00<00:00, 485.40it/s]"
     ]
    },
    {
     "name": "stdout",
     "output_type": "stream",
     "text": [
      "\n"
     ]
    }
   ],
   "source": [
    "initialise_database()\n",
    "exp = load_or_create_experiment(experiment_name='tutorial_exp', sample_name=\"no sample\")"
   ]
  },
  {
   "cell_type": "markdown",
   "metadata": {},
   "source": [
    "Here, we define a simple function to benchmark the time it takes to insert n points with either numeric or array data type.\n",
    "We will compare both the time used to call ``add_result`` and the time used for the full measurement."
   ]
  },
  {
   "cell_type": "code",
   "execution_count": 4,
   "metadata": {
    "execution": {
     "iopub.execute_input": "2020-11-03T11:49:23.236737Z",
     "iopub.status.busy": "2020-11-03T11:49:23.236045Z",
     "iopub.status.idle": "2020-11-03T11:49:23.240351Z",
     "shell.execute_reply": "2020-11-03T11:49:23.239597Z"
    }
   },
   "outputs": [],
   "source": [
    "def insert_data(paramtype, npoints, nreps=1):\n",
    "\n",
    "    meas = Measurement(exp=exp)\n",
    "\n",
    "    x1 = ManualParameter('x1')\n",
    "    x2 = ManualParameter('x2')\n",
    "    x3 = ManualParameter('x3')\n",
    "    y1 = ManualParameter('y1')\n",
    "    y2 = ManualParameter('y2')\n",
    "\n",
    "    meas.register_parameter(x1, paramtype=paramtype)\n",
    "    meas.register_parameter(x2, paramtype=paramtype)\n",
    "    meas.register_parameter(x3, paramtype=paramtype)\n",
    "    meas.register_parameter(y1, setpoints=[x1, x2, x3],\n",
    "                            paramtype=paramtype)\n",
    "    meas.register_parameter(y2, setpoints=[x1, x2, x3],\n",
    "                            paramtype=paramtype)\n",
    "    start = time.perf_counter()\n",
    "    with meas.run() as datasaver:\n",
    "        start_adding = time.perf_counter()\n",
    "        for i in range(nreps):\n",
    "            datasaver.add_result((x1, np.random.rand(npoints)),\n",
    "                                 (x2, np.random.rand(npoints)),\n",
    "                                 (x3, np.random.rand(npoints)),\n",
    "                                 (y1, np.random.rand(npoints)),\n",
    "                                 (y2, np.random.rand(npoints)))\n",
    "        stop_adding = time.perf_counter()\n",
    "        run_id = datasaver.run_id\n",
    "    stop = time.perf_counter()\n",
    "    tot_time = stop - start\n",
    "    add_time = stop_adding - start_adding\n",
    "    return tot_time, add_time, run_id"
   ]
  },
  {
   "cell_type": "markdown",
   "metadata": {},
   "source": [
    "## Comparison between numeric/array data and binary blob"
   ]
  },
  {
   "cell_type": "markdown",
   "metadata": {},
   "source": [
    "### Case1: Short experiment time"
   ]
  },
  {
   "cell_type": "code",
   "execution_count": 5,
   "metadata": {
    "execution": {
     "iopub.execute_input": "2020-11-03T11:49:23.247792Z",
     "iopub.status.busy": "2020-11-03T11:49:23.247129Z",
     "iopub.status.idle": "2020-11-03T11:49:24.191674Z",
     "shell.execute_reply": "2020-11-03T11:49:24.190984Z"
    }
   },
   "outputs": [
    {
     "name": "stdout",
     "output_type": "stream",
     "text": [
      "Starting experimental run with id: 1. \n",
      "Starting experimental run with id: 2. \n",
      "Starting experimental run with id: 3. \n"
     ]
    },
    {
     "name": "stdout",
     "output_type": "stream",
     "text": [
      "Starting experimental run with id: 4. \n"
     ]
    },
    {
     "name": "stdout",
     "output_type": "stream",
     "text": [
      "Starting experimental run with id: 5. \n"
     ]
    },
    {
     "name": "stdout",
     "output_type": "stream",
     "text": [
      "Starting experimental run with id: 6. \n"
     ]
    },
    {
     "name": "stdout",
     "output_type": "stream",
     "text": [
      "Starting experimental run with id: 7. \n"
     ]
    },
    {
     "name": "stdout",
     "output_type": "stream",
     "text": [
      "Starting experimental run with id: 8. \n"
     ]
    },
    {
     "name": "stdout",
     "output_type": "stream",
     "text": [
      "Starting experimental run with id: 9. \n"
     ]
    },
    {
     "name": "stdout",
     "output_type": "stream",
     "text": [
      "Starting experimental run with id: 10. \n",
      "Starting experimental run with id: 11. \n"
     ]
    },
    {
     "name": "stdout",
     "output_type": "stream",
     "text": [
      "Starting experimental run with id: 12. \n"
     ]
    },
    {
     "name": "stdout",
     "output_type": "stream",
     "text": [
      "Starting experimental run with id: 13. \n"
     ]
    },
    {
     "name": "stdout",
     "output_type": "stream",
     "text": [
      "Starting experimental run with id: 14. \n"
     ]
    }
   ],
   "source": [
    "sizes = [1,500,1000,2000,3000,4000,5000]\n",
    "t_numeric = []\n",
    "t_numeric_add = []\n",
    "t_array = []\n",
    "t_array_add = []\n",
    "for size in sizes:\n",
    "    tn, tna, run_id_n =  insert_data('numeric', size)\n",
    "    t_numeric.append(tn)\n",
    "    t_numeric_add.append(tna)\n",
    "\n",
    "    ta, taa, run_id_a =  insert_data('array', size)\n",
    "    t_array.append(ta)\n",
    "    t_array_add.append(taa)"
   ]
  },
  {
   "cell_type": "code",
   "execution_count": 6,
   "metadata": {
    "execution": {
     "iopub.execute_input": "2020-11-03T11:49:24.218512Z",
     "iopub.status.busy": "2020-11-03T11:49:24.217824Z",
     "iopub.status.idle": "2020-11-03T11:49:24.453049Z",
     "shell.execute_reply": "2020-11-03T11:49:24.452550Z"
    }
   },
   "outputs": [
    {
     "data": {
      "image/png": "[encoded data removed]",
      "text/plain": [
       "<Figure size 432x288 with 1 Axes>"
      ]
     },
     "metadata": {
      "needs_background": "light"
     },
     "output_type": "display_data"
    }
   ],
   "source": [
    "fig, ax = plt.subplots(1,1)\n",
    "ax.plot(sizes, t_numeric, 'o-', label='Inserting row-by-row')\n",
    "ax.plot(sizes, t_numeric_add, 'o-', label='Inserting row-by-row: add_result only')\n",
    "ax.plot(sizes, t_array, 'd-', label='Inserting as binary blob')\n",
    "ax.plot(sizes, t_array_add, 'd-', label='Inserting as binary blob: add_result only')\n",
    "ax.legend()\n",
    "ax.set_xlabel('Array length')\n",
    "ax.set_ylabel('Time (s)')\n",
    "fig.tight_layout()"
   ]
  },
  {
   "cell_type": "markdown",
   "metadata": {},
   "source": [
    "As shown in the latter figure, the time to setup and and close the experiment is approximately 0.4 sec. In case of small array sizes, the difference between inserting values of data as arrays and inserting them row-by-row is relatively unimportant. At larger array sizes, i.e. above 10000 points, the cost of writing data as individual datapoints starts to become important.\n"
   ]
  },
  {
   "cell_type": "markdown",
   "metadata": {},
   "source": [
    "### Case2: Long experiment time "
   ]
  },
  {
   "cell_type": "code",
   "execution_count": 7,
   "metadata": {
    "execution": {
     "iopub.execute_input": "2020-11-03T11:49:24.461888Z",
     "iopub.status.busy": "2020-11-03T11:49:24.460638Z",
     "iopub.status.idle": "2020-11-03T11:50:24.917769Z",
     "shell.execute_reply": "2020-11-03T11:50:24.918289Z"
    }
   },
   "outputs": [
    {
     "name": "stdout",
     "output_type": "stream",
     "text": [
      "Starting experimental run with id: 15. \n",
      "Starting experimental run with id: 16. \n",
      "Starting experimental run with id: 17. \n"
     ]
    },
    {
     "name": "stdout",
     "output_type": "stream",
     "text": [
      "Starting experimental run with id: 18. \n",
      "Starting experimental run with id: 19. \n"
     ]
    },
    {
     "name": "stdout",
     "output_type": "stream",
     "text": [
      "Starting experimental run with id: 20. \n"
     ]
    },
    {
     "name": "stdout",
     "output_type": "stream",
     "text": [
      "Starting experimental run with id: 21. \n"
     ]
    },
    {
     "name": "stdout",
     "output_type": "stream",
     "text": [
      "Starting experimental run with id: 22. \n"
     ]
    },
    {
     "name": "stdout",
     "output_type": "stream",
     "text": [
      "Starting experimental run with id: 23. \n"
     ]
    },
    {
     "name": "stdout",
     "output_type": "stream",
     "text": [
      "Starting experimental run with id: 24. \n"
     ]
    },
    {
     "name": "stdout",
     "output_type": "stream",
     "text": [
      "Starting experimental run with id: 25. \n"
     ]
    },
    {
     "name": "stdout",
     "output_type": "stream",
     "text": [
      "Starting experimental run with id: 26. \n"
     ]
    },
    {
     "name": "stdout",
     "output_type": "stream",
     "text": [
      "Starting experimental run with id: 27. \n"
     ]
    },
    {
     "name": "stdout",
     "output_type": "stream",
     "text": [
      "Starting experimental run with id: 28. \n"
     ]
    }
   ],
   "source": [
    "sizes = [1,500,1000,2000,3000,4000,5000]\n",
    "nreps = 100\n",
    "t_numeric = []\n",
    "t_numeric_add = []\n",
    "t_numeric_run_ids = []\n",
    "t_array = []\n",
    "t_array_add = []\n",
    "t_array_run_ids = []\n",
    "for size in sizes:\n",
    "    tn, tna, run_id_n =  insert_data('numeric', size, nreps=nreps)\n",
    "    t_numeric.append(tn)\n",
    "    t_numeric_add.append(tna)\n",
    "    t_numeric_run_ids.append(run_id_n)\n",
    "\n",
    "    ta, taa, run_id_a =  insert_data('array', size, nreps=nreps)\n",
    "    t_array.append(ta)\n",
    "    t_array_add.append(taa)\n",
    "    t_array_run_ids.append(run_id_a)"
   ]
  },
  {
   "cell_type": "code",
   "execution_count": 8,
   "metadata": {
    "execution": {
     "iopub.execute_input": "2020-11-03T11:50:24.940857Z",
     "iopub.status.busy": "2020-11-03T11:50:24.938098Z",
     "iopub.status.idle": "2020-11-03T11:50:25.169031Z",
     "shell.execute_reply": "2020-11-03T11:50:25.168490Z"
    },
    "scrolled": true
   },
   "outputs": [
    {
     "data": {
      "image/png": "[encoded data removed]",
      "text/plain": [
       "<Figure size 432x288 with 1 Axes>"
      ]
     },
     "metadata": {
      "needs_background": "light"
     },
     "output_type": "display_data"
    }
   ],
   "source": [
    "fig, ax = plt.subplots(1,1)\n",
    "ax.plot(sizes, t_numeric, 'o-', label='Inserting row-by-row')\n",
    "ax.plot(sizes, t_numeric_add, 'o-', label='Inserting row-by-row: add_result only')\n",
    "ax.plot(sizes, t_array, 'd-', label='Inserting as binary blob')\n",
    "ax.plot(sizes, t_array_add, 'd-', label='Inserting as binary blob: add_result only')\n",
    "ax.legend()\n",
    "ax.set_xlabel('Array length')\n",
    "ax.set_ylabel('Time (s)')\n",
    "fig.tight_layout()"
   ]
  },
  {
   "cell_type": "markdown",
   "metadata": {},
   "source": [
    "However, as we increase the length of the experiment, as seen here by repeating the insertion 100 times, we see a big difference between inserting values of the data row-by-row and inserting it as a binary blob."
   ]
  },
  {
   "cell_type": "markdown",
   "metadata": {},
   "source": [
    "## Loading the data "
   ]
  },
  {
   "cell_type": "code",
   "execution_count": 9,
   "metadata": {
    "execution": {
     "iopub.execute_input": "2020-11-03T11:50:25.174020Z",
     "iopub.status.busy": "2020-11-03T11:50:25.172527Z",
     "iopub.status.idle": "2020-11-03T11:50:25.177552Z",
     "shell.execute_reply": "2020-11-03T11:50:25.176826Z"
    }
   },
   "outputs": [],
   "source": [
    "from qcodes.dataset.data_set import load_by_id\n",
    "from qcodes.dataset.data_export import get_data_by_id"
   ]
  },
  {
   "cell_type": "markdown",
   "metadata": {},
   "source": [
    "As usual you can load the data by using the ``load_by_id`` function but you will notice that the different storage methods\n",
    "are reflected in shape of the data as it is retrieved. "
   ]
  },
  {
   "cell_type": "code",
   "execution_count": 10,
   "metadata": {
    "execution": {
     "iopub.execute_input": "2020-11-03T11:50:25.182894Z",
     "iopub.status.busy": "2020-11-03T11:50:25.181323Z",
     "iopub.status.idle": "2020-11-03T11:50:25.183721Z",
     "shell.execute_reply": "2020-11-03T11:50:25.184241Z"
    }
   },
   "outputs": [],
   "source": [
    "run_id_n = t_numeric_run_ids[0]\n",
    "run_id_a = t_array_run_ids[0]"
   ]
  },
  {
   "cell_type": "code",
   "execution_count": 11,
   "metadata": {
    "execution": {
     "iopub.execute_input": "2020-11-03T11:50:25.188269Z",
     "iopub.status.busy": "2020-11-03T11:50:25.187548Z",
     "iopub.status.idle": "2020-11-03T11:50:25.198665Z",
     "shell.execute_reply": "2020-11-03T11:50:25.198062Z"
    },
    "scrolled": true
   },
   "outputs": [
    {
     "data": {
      "text/plain": [
       "{'x1': {'x1': array([0.31213625, 0.31213625, 0.40661378, 0.40661378, 0.30916248,\n",
       "         0.30916248, 0.5221621 , 0.5221621 , 0.29409948, 0.29409948,\n",
       "         0.16163285, 0.16163285, 0.98851493, 0.98851493, 0.87987779,\n",
       "         0.87987779, 0.18905433, 0.18905433, 0.06844041, 0.06844041,\n",
       "         0.24948574, 0.24948574, 0.39883186, 0.39883186, 0.17625585,\n",
       "         0.17625585, 0.989619  , 0.989619  , 0.96180254, 0.96180254,\n",
       "         0.55896934, 0.55896934, 0.6011271 , 0.6011271 , 0.74044821,\n",
       "         0.74044821, 0.51979326, 0.51979326, 0.16659346, 0.16659346,\n",
       "         0.83832994, 0.83832994, 0.4888164 , 0.4888164 , 0.31921927,\n",
       "         0.31921927, 0.75614762, 0.75614762, 0.26377594, 0.26377594,\n",
       "         0.8147134 , 0.8147134 , 0.55875739, 0.55875739, 0.67723033,\n",
       "         0.67723033, 0.97573302, 0.97573302, 0.92124574, 0.92124574,\n",
       "         0.88532609, 0.88532609, 0.16987379, 0.16987379, 0.66659839,\n",
       "         0.66659839, 0.85271297, 0.85271297, 0.05823519, 0.05823519,\n",
       "         0.54346119, 0.54346119, 0.86350164, 0.86350164, 0.15642755,\n",
       "         0.15642755, 0.46260899, 0.46260899, 0.28514835, 0.28514835,\n",
       "         0.21194107, 0.21194107, 0.61118702, 0.61118702, 0.81364064,\n",
       "         0.81364064, 0.70551261, 0.70551261, 0.76654482, 0.76654482,\n",
       "         0.82295152, 0.82295152, 0.56047694, 0.56047694, 0.56978589,\n",
       "         0.56978589, 0.41692282, 0.41692282, 0.88963044, 0.88963044,\n",
       "         0.27932014, 0.27932014, 0.1431903 , 0.1431903 , 0.31138345,\n",
       "         0.31138345, 0.76660806, 0.76660806, 0.53195101, 0.53195101,\n",
       "         0.20846693, 0.20846693, 0.34681662, 0.34681662, 0.47376845,\n",
       "         0.47376845, 0.9109743 , 0.9109743 , 0.55350532, 0.55350532,\n",
       "         0.15077731, 0.15077731, 0.5685894 , 0.5685894 , 0.43184099,\n",
       "         0.43184099, 0.04044353, 0.04044353, 0.16520456, 0.16520456,\n",
       "         0.60617429, 0.60617429, 0.22726123, 0.22726123, 0.67455672,\n",
       "         0.67455672, 0.40470327, 0.40470327, 0.70853692, 0.70853692,\n",
       "         0.57136809, 0.57136809, 0.48055981, 0.48055981, 0.5161681 ,\n",
       "         0.5161681 , 0.15303442, 0.15303442, 0.16230454, 0.16230454,\n",
       "         0.0587276 , 0.0587276 , 0.36766731, 0.36766731, 0.11682883,\n",
       "         0.11682883, 0.2469181 , 0.2469181 , 0.0011525 , 0.0011525 ,\n",
       "         0.1746798 , 0.1746798 , 0.41902701, 0.41902701, 0.8963014 ,\n",
       "         0.8963014 , 0.52513176, 0.52513176, 0.59299457, 0.59299457,\n",
       "         0.45633562, 0.45633562, 0.17120727, 0.17120727, 0.11455229,\n",
       "         0.11455229, 0.92846231, 0.92846231, 0.6200849 , 0.6200849 ,\n",
       "         0.8081103 , 0.8081103 , 0.26344371, 0.26344371, 0.4953669 ,\n",
       "         0.4953669 , 0.4125319 , 0.4125319 , 0.81206091, 0.81206091,\n",
       "         0.8328203 , 0.8328203 , 0.88194912, 0.88194912, 0.75089274,\n",
       "         0.75089274, 0.70070468, 0.70070468, 0.40507345, 0.40507345])}}"
      ]
     },
     "execution_count": 1,
     "metadata": {},
     "output_type": "execute_result"
    }
   ],
   "source": [
    "ds = load_by_id(run_id_n)\n",
    "ds.get_parameter_data('x1')"
   ]
  },
  {
   "cell_type": "markdown",
   "metadata": {},
   "source": [
    "And a dataset stored as binary arrays"
   ]
  },
  {
   "cell_type": "code",
   "execution_count": 12,
   "metadata": {
    "execution": {
     "iopub.execute_input": "2020-11-03T11:50:25.202162Z",
     "iopub.status.busy": "2020-11-03T11:50:25.201569Z",
     "iopub.status.idle": "2020-11-03T11:50:25.267985Z",
     "shell.execute_reply": "2020-11-03T11:50:25.268440Z"
    },
    "scrolled": true
   },
   "outputs": [
    {
     "data": {
      "text/plain": [
       "{'x1': {'x1': array([[0.18092937],\n",
       "         [0.18092937],\n",
       "         [0.07020914],\n",
       "         [0.07020914],\n",
       "         [0.67084746],\n",
       "         [0.67084746],\n",
       "         [0.71762923],\n",
       "         [0.71762923],\n",
       "         [0.57423253],\n",
       "         [0.57423253],\n",
       "         [0.86433051],\n",
       "         [0.86433051],\n",
       "         [0.63287382],\n",
       "         [0.63287382],\n",
       "         [0.19873192],\n",
       "         [0.19873192],\n",
       "         [0.31597188],\n",
       "         [0.31597188],\n",
       "         [0.13486182],\n",
       "         [0.13486182],\n",
       "         [0.91827928],\n",
       "         [0.91827928],\n",
       "         [0.18406057],\n",
       "         [0.18406057],\n",
       "         [0.15325518],\n",
       "         [0.15325518],\n",
       "         [0.48885309],\n",
       "         [0.48885309],\n",
       "         [0.67287505],\n",
       "         [0.67287505],\n",
       "         [0.74796056],\n",
       "         [0.74796056],\n",
       "         [0.61506044],\n",
       "         [0.61506044],\n",
       "         [0.87425639],\n",
       "         [0.87425639],\n",
       "         [0.08804325],\n",
       "         [0.08804325],\n",
       "         [0.7778912 ],\n",
       "         [0.7778912 ],\n",
       "         [0.31527688],\n",
       "         [0.31527688],\n",
       "         [0.23609869],\n",
       "         [0.23609869],\n",
       "         [0.08971939],\n",
       "         [0.08971939],\n",
       "         [0.27270962],\n",
       "         [0.27270962],\n",
       "         [0.86556775],\n",
       "         [0.86556775],\n",
       "         [0.6050842 ],\n",
       "         [0.6050842 ],\n",
       "         [0.37109636],\n",
       "         [0.37109636],\n",
       "         [0.56425495],\n",
       "         [0.56425495],\n",
       "         [0.9500624 ],\n",
       "         [0.9500624 ],\n",
       "         [0.96900232],\n",
       "         [0.96900232],\n",
       "         [0.95100645],\n",
       "         [0.95100645],\n",
       "         [0.39714909],\n",
       "         [0.39714909],\n",
       "         [0.57268786],\n",
       "         [0.57268786],\n",
       "         [0.75538571],\n",
       "         [0.75538571],\n",
       "         [0.92260047],\n",
       "         [0.92260047],\n",
       "         [0.66223786],\n",
       "         [0.66223786],\n",
       "         [0.150785  ],\n",
       "         [0.150785  ],\n",
       "         [0.40957985],\n",
       "         [0.40957985],\n",
       "         [0.64814626],\n",
       "         [0.64814626],\n",
       "         [0.07557832],\n",
       "         [0.07557832],\n",
       "         [0.66316787],\n",
       "         [0.66316787],\n",
       "         [0.88350265],\n",
       "         [0.88350265],\n",
       "         [0.01143507],\n",
       "         [0.01143507],\n",
       "         [0.37868826],\n",
       "         [0.37868826],\n",
       "         [0.64857174],\n",
       "         [0.64857174],\n",
       "         [0.1371672 ],\n",
       "         [0.1371672 ],\n",
       "         [0.32384049],\n",
       "         [0.32384049],\n",
       "         [0.37746346],\n",
       "         [0.37746346],\n",
       "         [0.71976152],\n",
       "         [0.71976152],\n",
       "         [0.75256325],\n",
       "         [0.75256325],\n",
       "         [0.50205871],\n",
       "         [0.50205871],\n",
       "         [0.06934738],\n",
       "         [0.06934738],\n",
       "         [0.96972358],\n",
       "         [0.96972358],\n",
       "         [0.62077932],\n",
       "         [0.62077932],\n",
       "         [0.11527509],\n",
       "         [0.11527509],\n",
       "         [0.02684934],\n",
       "         [0.02684934],\n",
       "         [0.67326158],\n",
       "         [0.67326158],\n",
       "         [0.830457  ],\n",
       "         [0.830457  ],\n",
       "         [0.47446924],\n",
       "         [0.47446924],\n",
       "         [0.92946577],\n",
       "         [0.92946577],\n",
       "         [0.80432697],\n",
       "         [0.80432697],\n",
       "         [0.53526601],\n",
       "         [0.53526601],\n",
       "         [0.00903925],\n",
       "         [0.00903925],\n",
       "         [0.65647513],\n",
       "         [0.65647513],\n",
       "         [0.47765543],\n",
       "         [0.47765543],\n",
       "         [0.65818197],\n",
       "         [0.65818197],\n",
       "         [0.60058846],\n",
       "         [0.60058846],\n",
       "         [0.98179189],\n",
       "         [0.98179189],\n",
       "         [0.67874393],\n",
       "         [0.67874393],\n",
       "         [0.03933202],\n",
       "         [0.03933202],\n",
       "         [0.04001122],\n",
       "         [0.04001122],\n",
       "         [0.54134528],\n",
       "         [0.54134528],\n",
       "         [0.34601249],\n",
       "         [0.34601249],\n",
       "         [0.57836727],\n",
       "         [0.57836727],\n",
       "         [0.74071802],\n",
       "         [0.74071802],\n",
       "         [0.84530304],\n",
       "         [0.84530304],\n",
       "         [0.66047031],\n",
       "         [0.66047031],\n",
       "         [0.31008799],\n",
       "         [0.31008799],\n",
       "         [0.26576609],\n",
       "         [0.26576609],\n",
       "         [0.65736242],\n",
       "         [0.65736242],\n",
       "         [0.41224016],\n",
       "         [0.41224016],\n",
       "         [0.34680966],\n",
       "         [0.34680966],\n",
       "         [0.2195511 ],\n",
       "         [0.2195511 ],\n",
       "         [0.31584254],\n",
       "         [0.31584254],\n",
       "         [0.11998356],\n",
       "         [0.11998356],\n",
       "         [0.15765359],\n",
       "         [0.15765359],\n",
       "         [0.65521294],\n",
       "         [0.65521294],\n",
       "         [0.36308388],\n",
       "         [0.36308388],\n",
       "         [0.85286057],\n",
       "         [0.85286057],\n",
       "         [0.54710057],\n",
       "         [0.54710057],\n",
       "         [0.82510921],\n",
       "         [0.82510921],\n",
       "         [0.91636941],\n",
       "         [0.91636941],\n",
       "         [0.12889227],\n",
       "         [0.12889227],\n",
       "         [0.97872826],\n",
       "         [0.97872826],\n",
       "         [0.76357879],\n",
       "         [0.76357879],\n",
       "         [0.74467752],\n",
       "         [0.74467752],\n",
       "         [0.37052459],\n",
       "         [0.37052459],\n",
       "         [0.41319879],\n",
       "         [0.41319879],\n",
       "         [0.44316158],\n",
       "         [0.44316158],\n",
       "         [0.2533745 ],\n",
       "         [0.2533745 ]])}}"
      ]
     },
     "execution_count": 1,
     "metadata": {},
     "output_type": "execute_result"
    }
   ],
   "source": [
    "ds = load_by_id(run_id_a)\n",
    "ds.get_parameter_data('x1')"
   ]
  },
  {
   "cell_type": "code",
   "execution_count": null,
   "metadata": {},
   "outputs": [],
   "source": []
  }
 ],
 "metadata": {
  "kernelspec": {
   "display_name": "Python 3",
   "language": "python",
   "name": "python3"
  },
  "language_info": {
   "codemirror_mode": {
    "name": "ipython",
    "version": 3
   },
   "file_extension": ".py",
   "mimetype": "text/x-python",
   "name": "python",
   "nbconvert_exporter": "python",
   "pygments_lexer": "ipython3",
   "version": "3.7.9"
  },
  "nbsphinx": {
   "timeout": 600
  },
  "toc": {
   "base_numbering": 1,
   "nav_menu": {},
   "number_sections": true,
   "sideBar": true,
   "skip_h1_title": false,
   "title_cell": "Table of Contents",
   "title_sidebar": "Contents",
   "toc_cell": false,
   "toc_position": {},
   "toc_section_display": true,
   "toc_window_display": false
  },
  "varInspector": {
   "cols": {
    "lenName": 16,
    "lenType": 16,
    "lenVar": 40
   },
   "kernels_config": {
    "python": {
     "delete_cmd_postfix": "",
     "delete_cmd_prefix": "del ",
     "library": "var_list.py",
     "varRefreshCmd": "print(var_dic_list())"
    },
    "r": {
     "delete_cmd_postfix": ") ",
     "delete_cmd_prefix": "rm(",
     "library": "var_list.r",
     "varRefreshCmd": "cat(var_dic_list()) "
    }
   },
   "types_to_exclude": [
    "module",
    "function",
    "builtin_function_or_method",
    "instance",
    "_Feature"
   ],
   "window_display": false
  }
 },
 "nbformat": 4,
 "nbformat_minor": 2
}
