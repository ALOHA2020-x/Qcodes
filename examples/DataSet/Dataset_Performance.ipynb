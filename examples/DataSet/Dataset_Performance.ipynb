{
 "cells": [
  {
   "cell_type": "markdown",
   "metadata": {},
   "source": [
    "# DataSet Performance\n",
    "\n",
    "This notebook shows the trade-off between inserting data into a database row-by-row and as binary blobs. Inserting the data row-by-row means that we have direct access to all the data and may perform queries directly on the values of the data. On the other hand, as we shall see, this is much slower than inserting the data directly as binary blobs."
   ]
  },
  {
   "cell_type": "markdown",
   "metadata": {},
   "source": [
    "First, we choose a new location for the database to ensure that we don't add a bunch of benchmarking data to the default one."
   ]
  },
  {
   "cell_type": "code",
   "execution_count": 1,
   "metadata": {
    "execution": {
     "iopub.execute_input": "2021-05-12T09:42:03.166566Z",
     "iopub.status.busy": "2021-05-12T09:42:03.165976Z",
     "iopub.status.idle": "2021-05-12T09:42:04.423447Z",
     "shell.execute_reply": "2021-05-12T09:42:04.422764Z"
    }
   },
   "outputs": [
    {
     "name": "stdout",
     "output_type": "stream",
     "text": [
      "Logging hadn't been started.\n",
      "Activating auto-logging. Current session state plus future input saved.\n",
      "Filename       : /home/runner/.qcodes/logs/command_history.log\n",
      "Mode           : append\n",
      "Output logging : True\n",
      "Raw input log  : False\n",
      "Timestamping   : True\n",
      "State          : active\n"
     ]
    },
    {
     "name": "stdout",
     "output_type": "stream",
     "text": [
      "Qcodes Logfile : /home/runner/.qcodes/logs/210512-4862-qcodes.log\n"
     ]
    }
   ],
   "source": [
    "import os\n",
    "cwd = os.getcwd()\n",
    "import qcodes as qc\n",
    "qc.config[\"core\"][\"db_location\"] = os.path.join(cwd, 'testing.db')\n"
   ]
  },
  {
   "cell_type": "code",
   "execution_count": 2,
   "metadata": {
    "execution": {
     "iopub.execute_input": "2021-05-12T09:42:04.430429Z",
     "iopub.status.busy": "2021-05-12T09:42:04.429847Z",
     "iopub.status.idle": "2021-05-12T09:42:04.645678Z",
     "shell.execute_reply": "2021-05-12T09:42:04.644772Z"
    }
   },
   "outputs": [],
   "source": [
    "%matplotlib inline\n",
    "import time\n",
    "import matplotlib.pyplot as plt\n",
    "import numpy as np\n",
    "\n",
    "import qcodes as qc\n",
    "from qcodes.instrument.parameter import ManualParameter\n",
    "from qcodes.dataset.experiment_container import (Experiment,\n",
    "                                                 load_last_experiment,\n",
    "                                                 new_experiment)\n",
    "from qcodes.dataset.sqlite.database import initialise_database\n",
    "from qcodes import load_or_create_experiment\n",
    "from qcodes.dataset.measurements import Measurement"
   ]
  },
  {
   "cell_type": "code",
   "execution_count": 3,
   "metadata": {
    "execution": {
     "iopub.execute_input": "2021-05-12T09:42:04.649779Z",
     "iopub.status.busy": "2021-05-12T09:42:04.649192Z",
     "iopub.status.idle": "2021-05-12T09:42:04.717872Z",
     "shell.execute_reply": "2021-05-12T09:42:04.718355Z"
    }
   },
   "outputs": [
    {
     "name": "stdout",
     "output_type": "stream",
     "text": [
      "\r",
      "0it [00:00, ?it/s]"
     ]
    },
    {
     "name": "stdout",
     "output_type": "stream",
     "text": [
      "\r",
      "Upgrading database; v0 -> v1: : 0it [00:00, ?it/s]"
     ]
    },
    {
     "name": "stdout",
     "output_type": "stream",
     "text": [
      "\r",
      "Upgrading database; v0 -> v1: : 0it [00:00, ?it/s]"
     ]
    },
    {
     "name": "stdout",
     "output_type": "stream",
     "text": [
      "\n",
      "\r",
      "  0%|          | 0/1 [00:00<?, ?it/s]"
     ]
    },
    {
     "name": "stdout",
     "output_type": "stream",
     "text": [
      "\r",
      "Upgrading database; v1 -> v2:   0%|          | 0/1 [00:00<?, ?it/s]"
     ]
    },
    {
     "name": "stdout",
     "output_type": "stream",
     "text": [
      "\r",
      "Upgrading database; v1 -> v2: 100%|██████████| 1/1 [00:00<00:00, 837.35it/s]"
     ]
    },
    {
     "name": "stdout",
     "output_type": "stream",
     "text": [
      "\n",
      "\r",
      "0it [00:00, ?it/s]"
     ]
    },
    {
     "name": "stdout",
     "output_type": "stream",
     "text": [
      "\r",
      "Upgrading database; v2 -> v3: : 0it [00:00, ?it/s]"
     ]
    },
    {
     "name": "stdout",
     "output_type": "stream",
     "text": [
      "\r",
      "Upgrading database; v2 -> v3: : 0it [00:00, ?it/s]"
     ]
    },
    {
     "name": "stdout",
     "output_type": "stream",
     "text": [
      "\n",
      "\r",
      "0it [00:00, ?it/s]"
     ]
    },
    {
     "name": "stdout",
     "output_type": "stream",
     "text": [
      "\r",
      "Upgrading database; v3 -> v4: : 0it [00:00, ?it/s]"
     ]
    },
    {
     "name": "stdout",
     "output_type": "stream",
     "text": [
      "\r",
      "Upgrading database; v3 -> v4: : 0it [00:00, ?it/s]"
     ]
    },
    {
     "name": "stdout",
     "output_type": "stream",
     "text": [
      "\n",
      "\r",
      "  0%|          | 0/1 [00:00<?, ?it/s]"
     ]
    },
    {
     "name": "stdout",
     "output_type": "stream",
     "text": [
      "\r",
      "Upgrading database; v4 -> v5:   0%|          | 0/1 [00:00<?, ?it/s]"
     ]
    },
    {
     "name": "stdout",
     "output_type": "stream",
     "text": [
      "\r",
      "Upgrading database; v4 -> v5: 100%|██████████| 1/1 [00:00<00:00, 721.91it/s]"
     ]
    },
    {
     "name": "stdout",
     "output_type": "stream",
     "text": [
      "\n",
      "\r",
      "0it [00:00, ?it/s]"
     ]
    },
    {
     "name": "stdout",
     "output_type": "stream",
     "text": [
      "\r",
      "Upgrading database; v5 -> v6: : 0it [00:00, ?it/s]"
     ]
    },
    {
     "name": "stdout",
     "output_type": "stream",
     "text": [
      "\r",
      "Upgrading database; v5 -> v6: : 0it [00:00, ?it/s]"
     ]
    },
    {
     "name": "stdout",
     "output_type": "stream",
     "text": [
      "\n",
      "\r",
      "  0%|          | 0/1 [00:00<?, ?it/s]"
     ]
    },
    {
     "name": "stdout",
     "output_type": "stream",
     "text": [
      "\r",
      "Upgrading database; v6 -> v7:   0%|          | 0/1 [00:00<?, ?it/s]"
     ]
    },
    {
     "name": "stdout",
     "output_type": "stream",
     "text": [
      "\r",
      "Upgrading database; v6 -> v7: 100%|██████████| 1/1 [00:00<00:00, 367.50it/s]"
     ]
    },
    {
     "name": "stdout",
     "output_type": "stream",
     "text": [
      "\n",
      "\r",
      "  0%|          | 0/1 [00:00<?, ?it/s]"
     ]
    },
    {
     "name": "stdout",
     "output_type": "stream",
     "text": [
      "\r",
      "Upgrading database; v7 -> v8:   0%|          | 0/1 [00:00<?, ?it/s]"
     ]
    },
    {
     "name": "stdout",
     "output_type": "stream",
     "text": [
      "\r",
      "Upgrading database; v7 -> v8: 100%|██████████| 1/1 [00:00<00:00, 805.05it/s]"
     ]
    },
    {
     "name": "stdout",
     "output_type": "stream",
     "text": [
      "\n",
      "\r",
      "  0%|          | 0/1 [00:00<?, ?it/s]"
     ]
    },
    {
     "name": "stdout",
     "output_type": "stream",
     "text": [
      "\r",
      "Upgrading database; v8 -> v9:   0%|          | 0/1 [00:00<?, ?it/s]"
     ]
    },
    {
     "name": "stdout",
     "output_type": "stream",
     "text": [
      "\r",
      "Upgrading database; v8 -> v9: 100%|██████████| 1/1 [00:00<00:00, 962.22it/s]"
     ]
    },
    {
     "name": "stdout",
     "output_type": "stream",
     "text": [
      "\n"
     ]
    }
   ],
   "source": [
    "initialise_database()\n",
    "exp = load_or_create_experiment(experiment_name='tutorial_exp', sample_name=\"no sample\")"
   ]
  },
  {
   "cell_type": "markdown",
   "metadata": {},
   "source": [
    "Here, we define a simple function to benchmark the time it takes to insert n points with either numeric or array data type.\n",
    "We will compare both the time used to call ``add_result`` and the time used for the full measurement."
   ]
  },
  {
   "cell_type": "code",
   "execution_count": 4,
   "metadata": {
    "execution": {
     "iopub.execute_input": "2021-05-12T09:42:04.728512Z",
     "iopub.status.busy": "2021-05-12T09:42:04.727242Z",
     "iopub.status.idle": "2021-05-12T09:42:04.729155Z",
     "shell.execute_reply": "2021-05-12T09:42:04.729880Z"
    }
   },
   "outputs": [],
   "source": [
    "def insert_data(paramtype, npoints, nreps=1):\n",
    "\n",
    "    meas = Measurement(exp=exp)\n",
    "\n",
    "    x1 = ManualParameter('x1')\n",
    "    x2 = ManualParameter('x2')\n",
    "    x3 = ManualParameter('x3')\n",
    "    y1 = ManualParameter('y1')\n",
    "    y2 = ManualParameter('y2')\n",
    "\n",
    "    meas.register_parameter(x1, paramtype=paramtype)\n",
    "    meas.register_parameter(x2, paramtype=paramtype)\n",
    "    meas.register_parameter(x3, paramtype=paramtype)\n",
    "    meas.register_parameter(y1, setpoints=[x1, x2, x3],\n",
    "                            paramtype=paramtype)\n",
    "    meas.register_parameter(y2, setpoints=[x1, x2, x3],\n",
    "                            paramtype=paramtype)\n",
    "    start = time.perf_counter()\n",
    "    with meas.run() as datasaver:\n",
    "        start_adding = time.perf_counter()\n",
    "        for i in range(nreps):\n",
    "            datasaver.add_result((x1, np.random.rand(npoints)),\n",
    "                                 (x2, np.random.rand(npoints)),\n",
    "                                 (x3, np.random.rand(npoints)),\n",
    "                                 (y1, np.random.rand(npoints)),\n",
    "                                 (y2, np.random.rand(npoints)))\n",
    "        stop_adding = time.perf_counter()\n",
    "        run_id = datasaver.run_id\n",
    "    stop = time.perf_counter()\n",
    "    tot_time = stop - start\n",
    "    add_time = stop_adding - start_adding\n",
    "    return tot_time, add_time, run_id"
   ]
  },
  {
   "cell_type": "markdown",
   "metadata": {},
   "source": [
    "## Comparison between numeric/array data and binary blob"
   ]
  },
  {
   "cell_type": "markdown",
   "metadata": {},
   "source": [
    "### Case1: Short experiment time"
   ]
  },
  {
   "cell_type": "code",
   "execution_count": 5,
   "metadata": {
    "execution": {
     "iopub.execute_input": "2021-05-12T09:42:04.737202Z",
     "iopub.status.busy": "2021-05-12T09:42:04.736604Z",
     "iopub.status.idle": "2021-05-12T09:42:05.613775Z",
     "shell.execute_reply": "2021-05-12T09:42:05.613185Z"
    }
   },
   "outputs": [
    {
     "name": "stdout",
     "output_type": "stream",
     "text": [
      "Starting experimental run with id: 1. \n",
      "Starting experimental run with id: 2. \n",
      "Starting experimental run with id: 3. \n"
     ]
    },
    {
     "name": "stdout",
     "output_type": "stream",
     "text": [
      "Starting experimental run with id: 4. \n"
     ]
    },
    {
     "name": "stdout",
     "output_type": "stream",
     "text": [
      "Starting experimental run with id: 5. "
     ]
    },
    {
     "name": "stdout",
     "output_type": "stream",
     "text": [
      "\n"
     ]
    },
    {
     "name": "stdout",
     "output_type": "stream",
     "text": [
      "Starting experimental run with id: 6. \n",
      "Starting experimental run with id: 7. \n",
      "Starting experimental run with id: 8. \n",
      "Starting experimental run with id: 9. \n"
     ]
    },
    {
     "name": "stdout",
     "output_type": "stream",
     "text": [
      "Starting experimental run with id: 10. \n",
      "Starting experimental run with id: 11. \n",
      "Starting experimental run with id: 12. \n",
      "Starting experimental run with id: 13. \n"
     ]
    },
    {
     "name": "stdout",
     "output_type": "stream",
     "text": [
      "Starting experimental run with id: 14. \n"
     ]
    }
   ],
   "source": [
    "sizes = [1,500,1000,2000,3000,4000,5000]\n",
    "t_numeric = []\n",
    "t_numeric_add = []\n",
    "t_array = []\n",
    "t_array_add = []\n",
    "for size in sizes:\n",
    "    tn, tna, run_id_n =  insert_data('numeric', size)\n",
    "    t_numeric.append(tn)\n",
    "    t_numeric_add.append(tna)\n",
    "\n",
    "    ta, taa, run_id_a =  insert_data('array', size)\n",
    "    t_array.append(ta)\n",
    "    t_array_add.append(taa)"
   ]
  },
  {
   "cell_type": "code",
   "execution_count": 6,
   "metadata": {
    "execution": {
     "iopub.execute_input": "2021-05-12T09:42:05.633655Z",
     "iopub.status.busy": "2021-05-12T09:42:05.633068Z",
     "iopub.status.idle": "2021-05-12T09:42:05.861040Z",
     "shell.execute_reply": "2021-05-12T09:42:05.860530Z"
    }
   },
   "outputs": [
    {
     "data": {
      "image/png": "[encoded data removed]",
      "text/plain": [
       "<Figure size 432x288 with 1 Axes>"
      ]
     },
     "metadata": {
      "needs_background": "light"
     },
     "output_type": "display_data"
    }
   ],
   "source": [
    "fig, ax = plt.subplots(1,1)\n",
    "ax.plot(sizes, t_numeric, 'o-', label='Inserting row-by-row')\n",
    "ax.plot(sizes, t_numeric_add, 'o-', label='Inserting row-by-row: add_result only')\n",
    "ax.plot(sizes, t_array, 'd-', label='Inserting as binary blob')\n",
    "ax.plot(sizes, t_array_add, 'd-', label='Inserting as binary blob: add_result only')\n",
    "ax.legend()\n",
    "ax.set_xlabel('Array length')\n",
    "ax.set_ylabel('Time (s)')\n",
    "fig.tight_layout()"
   ]
  },
  {
   "cell_type": "markdown",
   "metadata": {},
   "source": [
    "As shown in the latter figure, the time to setup and and close the experiment is approximately 0.4 sec. In case of small array sizes, the difference between inserting values of data as arrays and inserting them row-by-row is relatively unimportant. At larger array sizes, i.e. above 10000 points, the cost of writing data as individual datapoints starts to become important.\n"
   ]
  },
  {
   "cell_type": "markdown",
   "metadata": {},
   "source": [
    "### Case2: Long experiment time "
   ]
  },
  {
   "cell_type": "code",
   "execution_count": 7,
   "metadata": {
    "execution": {
     "iopub.execute_input": "2021-05-12T09:42:05.866675Z",
     "iopub.status.busy": "2021-05-12T09:42:05.866081Z",
     "iopub.status.idle": "2021-05-12T09:43:05.767155Z",
     "shell.execute_reply": "2021-05-12T09:43:05.766295Z"
    }
   },
   "outputs": [
    {
     "name": "stdout",
     "output_type": "stream",
     "text": [
      "Starting experimental run with id: 15. \n",
      "Starting experimental run with id: 16. \n",
      "Starting experimental run with id: 17. \n"
     ]
    },
    {
     "name": "stdout",
     "output_type": "stream",
     "text": [
      "Starting experimental run with id: 18. \n",
      "Starting experimental run with id: 19. \n"
     ]
    },
    {
     "name": "stdout",
     "output_type": "stream",
     "text": [
      "Starting experimental run with id: 20. \n"
     ]
    },
    {
     "name": "stdout",
     "output_type": "stream",
     "text": [
      "Starting experimental run with id: 21. \n"
     ]
    },
    {
     "name": "stdout",
     "output_type": "stream",
     "text": [
      "Starting experimental run with id: 22. \n"
     ]
    },
    {
     "name": "stdout",
     "output_type": "stream",
     "text": [
      "Starting experimental run with id: 23. \n"
     ]
    },
    {
     "name": "stdout",
     "output_type": "stream",
     "text": [
      "Starting experimental run with id: 24. \n"
     ]
    },
    {
     "name": "stdout",
     "output_type": "stream",
     "text": [
      "Starting experimental run with id: 25. \n"
     ]
    },
    {
     "name": "stdout",
     "output_type": "stream",
     "text": [
      "Starting experimental run with id: 26. \n"
     ]
    },
    {
     "name": "stdout",
     "output_type": "stream",
     "text": [
      "Starting experimental run with id: 27. \n"
     ]
    },
    {
     "name": "stdout",
     "output_type": "stream",
     "text": [
      "Starting experimental run with id: 28. \n"
     ]
    }
   ],
   "source": [
    "sizes = [1,500,1000,2000,3000,4000,5000]\n",
    "nreps = 100\n",
    "t_numeric = []\n",
    "t_numeric_add = []\n",
    "t_numeric_run_ids = []\n",
    "t_array = []\n",
    "t_array_add = []\n",
    "t_array_run_ids = []\n",
    "for size in sizes:\n",
    "    tn, tna, run_id_n =  insert_data('numeric', size, nreps=nreps)\n",
    "    t_numeric.append(tn)\n",
    "    t_numeric_add.append(tna)\n",
    "    t_numeric_run_ids.append(run_id_n)\n",
    "\n",
    "    ta, taa, run_id_a =  insert_data('array', size, nreps=nreps)\n",
    "    t_array.append(ta)\n",
    "    t_array_add.append(taa)\n",
    "    t_array_run_ids.append(run_id_a)"
   ]
  },
  {
   "cell_type": "code",
   "execution_count": 8,
   "metadata": {
    "execution": {
     "iopub.execute_input": "2021-05-12T09:43:05.791076Z",
     "iopub.status.busy": "2021-05-12T09:43:05.787352Z",
     "iopub.status.idle": "2021-05-12T09:43:05.997859Z",
     "shell.execute_reply": "2021-05-12T09:43:05.997361Z"
    },
    "scrolled": true
   },
   "outputs": [
    {
     "data": {
      "image/png": "[encoded data removed]",
      "text/plain": [
       "<Figure size 432x288 with 1 Axes>"
      ]
     },
     "metadata": {
      "needs_background": "light"
     },
     "output_type": "display_data"
    }
   ],
   "source": [
    "fig, ax = plt.subplots(1,1)\n",
    "ax.plot(sizes, t_numeric, 'o-', label='Inserting row-by-row')\n",
    "ax.plot(sizes, t_numeric_add, 'o-', label='Inserting row-by-row: add_result only')\n",
    "ax.plot(sizes, t_array, 'd-', label='Inserting as binary blob')\n",
    "ax.plot(sizes, t_array_add, 'd-', label='Inserting as binary blob: add_result only')\n",
    "ax.legend()\n",
    "ax.set_xlabel('Array length')\n",
    "ax.set_ylabel('Time (s)')\n",
    "fig.tight_layout()"
   ]
  },
  {
   "cell_type": "markdown",
   "metadata": {},
   "source": [
    "However, as we increase the length of the experiment, as seen here by repeating the insertion 100 times, we see a big difference between inserting values of the data row-by-row and inserting it as a binary blob."
   ]
  },
  {
   "cell_type": "markdown",
   "metadata": {},
   "source": [
    "## Loading the data "
   ]
  },
  {
   "cell_type": "code",
   "execution_count": 9,
   "metadata": {
    "execution": {
     "iopub.execute_input": "2021-05-12T09:43:06.002409Z",
     "iopub.status.busy": "2021-05-12T09:43:06.001829Z",
     "iopub.status.idle": "2021-05-12T09:43:06.004391Z",
     "shell.execute_reply": "2021-05-12T09:43:06.003903Z"
    }
   },
   "outputs": [],
   "source": [
    "from qcodes.dataset.data_set import load_by_id"
   ]
  },
  {
   "cell_type": "markdown",
   "metadata": {},
   "source": [
    "As usual you can load the data by using the ``load_by_id`` function but you will notice that the different storage methods\n",
    "are reflected in shape of the data as it is retrieved. "
   ]
  },
  {
   "cell_type": "code",
   "execution_count": 10,
   "metadata": {
    "execution": {
     "iopub.execute_input": "2021-05-12T09:43:06.009055Z",
     "iopub.status.busy": "2021-05-12T09:43:06.007816Z",
     "iopub.status.idle": "2021-05-12T09:43:06.009704Z",
     "shell.execute_reply": "2021-05-12T09:43:06.010296Z"
    }
   },
   "outputs": [],
   "source": [
    "run_id_n = t_numeric_run_ids[0]\n",
    "run_id_a = t_array_run_ids[0]"
   ]
  },
  {
   "cell_type": "code",
   "execution_count": 11,
   "metadata": {
    "execution": {
     "iopub.execute_input": "2021-05-12T09:43:06.013725Z",
     "iopub.status.busy": "2021-05-12T09:43:06.013174Z",
     "iopub.status.idle": "2021-05-12T09:43:06.023378Z",
     "shell.execute_reply": "2021-05-12T09:43:06.022881Z"
    },
    "scrolled": true
   },
   "outputs": [
    {
     "data": {
      "text/plain": [
       "{'x1': {'x1': array([0.68850088, 0.68850088, 0.56517323, 0.56517323, 0.7445913 ,\n",
       "         0.7445913 , 0.0041696 , 0.0041696 , 0.40720901, 0.40720901,\n",
       "         0.42248868, 0.42248868, 0.43018154, 0.43018154, 0.57544997,\n",
       "         0.57544997, 0.1050742 , 0.1050742 , 0.3336685 , 0.3336685 ,\n",
       "         0.64487152, 0.64487152, 0.81846078, 0.81846078, 0.12153315,\n",
       "         0.12153315, 0.55889918, 0.55889918, 0.01603493, 0.01603493,\n",
       "         0.10712645, 0.10712645, 0.4504045 , 0.4504045 , 0.766121  ,\n",
       "         0.766121  , 0.85817326, 0.85817326, 0.11795305, 0.11795305,\n",
       "         0.10353356, 0.10353356, 0.50342829, 0.50342829, 0.20881063,\n",
       "         0.20881063, 0.83511575, 0.83511575, 0.16855896, 0.16855896,\n",
       "         0.20748988, 0.20748988, 0.9772872 , 0.9772872 , 0.78304741,\n",
       "         0.78304741, 0.29899805, 0.29899805, 0.92615722, 0.92615722,\n",
       "         0.72105369, 0.72105369, 0.52041208, 0.52041208, 0.14519735,\n",
       "         0.14519735, 0.5862755 , 0.5862755 , 0.86259696, 0.86259696,\n",
       "         0.20429919, 0.20429919, 0.14558274, 0.14558274, 0.96596758,\n",
       "         0.96596758, 0.71488827, 0.71488827, 0.04837254, 0.04837254,\n",
       "         0.05219154, 0.05219154, 0.87800902, 0.87800902, 0.21525745,\n",
       "         0.21525745, 0.24063189, 0.24063189, 0.32348538, 0.32348538,\n",
       "         0.41898113, 0.41898113, 0.3380571 , 0.3380571 , 0.33041862,\n",
       "         0.33041862, 0.2125065 , 0.2125065 , 0.11184281, 0.11184281,\n",
       "         0.600759  , 0.600759  , 0.17891654, 0.17891654, 0.24422912,\n",
       "         0.24422912, 0.81769807, 0.81769807, 0.15263168, 0.15263168,\n",
       "         0.01189952, 0.01189952, 0.95618709, 0.95618709, 0.07708161,\n",
       "         0.07708161, 0.01625877, 0.01625877, 0.24665963, 0.24665963,\n",
       "         0.15302049, 0.15302049, 0.04892763, 0.04892763, 0.26617659,\n",
       "         0.26617659, 0.08546099, 0.08546099, 0.68034585, 0.68034585,\n",
       "         0.31758896, 0.31758896, 0.43781616, 0.43781616, 0.13848613,\n",
       "         0.13848613, 0.52964559, 0.52964559, 0.67781766, 0.67781766,\n",
       "         0.31995595, 0.31995595, 0.40856504, 0.40856504, 0.10651183,\n",
       "         0.10651183, 0.20087514, 0.20087514, 0.18666236, 0.18666236,\n",
       "         0.71934214, 0.71934214, 0.11651103, 0.11651103, 0.00534687,\n",
       "         0.00534687, 0.92752127, 0.92752127, 0.10489917, 0.10489917,\n",
       "         0.28517484, 0.28517484, 0.52679482, 0.52679482, 0.427965  ,\n",
       "         0.427965  , 0.89932253, 0.89932253, 0.49461265, 0.49461265,\n",
       "         0.42956127, 0.42956127, 0.46049341, 0.46049341, 0.8521837 ,\n",
       "         0.8521837 , 0.07211509, 0.07211509, 0.66355215, 0.66355215,\n",
       "         0.85256915, 0.85256915, 0.25184677, 0.25184677, 0.24327598,\n",
       "         0.24327598, 0.03172607, 0.03172607, 0.50130872, 0.50130872,\n",
       "         0.60563905, 0.60563905, 0.53607058, 0.53607058, 0.45657227,\n",
       "         0.45657227, 0.34146264, 0.34146264, 0.30525007, 0.30525007])}}"
      ]
     },
     "execution_count": 1,
     "metadata": {},
     "output_type": "execute_result"
    }
   ],
   "source": [
    "ds = load_by_id(run_id_n)\n",
    "ds.get_parameter_data('x1')"
   ]
  },
  {
   "cell_type": "markdown",
   "metadata": {},
   "source": [
    "And a dataset stored as binary arrays"
   ]
  },
  {
   "cell_type": "code",
   "execution_count": 12,
   "metadata": {
    "execution": {
     "iopub.execute_input": "2021-05-12T09:43:06.028011Z",
     "iopub.status.busy": "2021-05-12T09:43:06.027465Z",
     "iopub.status.idle": "2021-05-12T09:43:06.088186Z",
     "shell.execute_reply": "2021-05-12T09:43:06.088657Z"
    },
    "scrolled": true
   },
   "outputs": [
    {
     "data": {
      "text/plain": [
       "{'x1': {'x1': array([[0.03782443],\n",
       "         [0.03782443],\n",
       "         [0.07724037],\n",
       "         [0.07724037],\n",
       "         [0.23363222],\n",
       "         [0.23363222],\n",
       "         [0.93743757],\n",
       "         [0.93743757],\n",
       "         [0.15860482],\n",
       "         [0.15860482],\n",
       "         [0.89885634],\n",
       "         [0.89885634],\n",
       "         [0.52169875],\n",
       "         [0.52169875],\n",
       "         [0.14871589],\n",
       "         [0.14871589],\n",
       "         [0.95423722],\n",
       "         [0.95423722],\n",
       "         [0.78603406],\n",
       "         [0.78603406],\n",
       "         [0.03980832],\n",
       "         [0.03980832],\n",
       "         [0.86044049],\n",
       "         [0.86044049],\n",
       "         [0.57445042],\n",
       "         [0.57445042],\n",
       "         [0.82279254],\n",
       "         [0.82279254],\n",
       "         [0.32342172],\n",
       "         [0.32342172],\n",
       "         [0.63343347],\n",
       "         [0.63343347],\n",
       "         [0.20756019],\n",
       "         [0.20756019],\n",
       "         [0.90036688],\n",
       "         [0.90036688],\n",
       "         [0.88831989],\n",
       "         [0.88831989],\n",
       "         [0.92915825],\n",
       "         [0.92915825],\n",
       "         [0.45307848],\n",
       "         [0.45307848],\n",
       "         [0.14858681],\n",
       "         [0.14858681],\n",
       "         [0.10477033],\n",
       "         [0.10477033],\n",
       "         [0.48390392],\n",
       "         [0.48390392],\n",
       "         [0.37702086],\n",
       "         [0.37702086],\n",
       "         [0.87350116],\n",
       "         [0.87350116],\n",
       "         [0.08662791],\n",
       "         [0.08662791],\n",
       "         [0.90195081],\n",
       "         [0.90195081],\n",
       "         [0.34528302],\n",
       "         [0.34528302],\n",
       "         [0.58419799],\n",
       "         [0.58419799],\n",
       "         [0.96199854],\n",
       "         [0.96199854],\n",
       "         [0.0137196 ],\n",
       "         [0.0137196 ],\n",
       "         [0.79936079],\n",
       "         [0.79936079],\n",
       "         [0.5286242 ],\n",
       "         [0.5286242 ],\n",
       "         [0.0542285 ],\n",
       "         [0.0542285 ],\n",
       "         [0.06846491],\n",
       "         [0.06846491],\n",
       "         [0.55918378],\n",
       "         [0.55918378],\n",
       "         [0.44327902],\n",
       "         [0.44327902],\n",
       "         [0.94192677],\n",
       "         [0.94192677],\n",
       "         [0.87404134],\n",
       "         [0.87404134],\n",
       "         [0.80198825],\n",
       "         [0.80198825],\n",
       "         [0.3978715 ],\n",
       "         [0.3978715 ],\n",
       "         [0.43797911],\n",
       "         [0.43797911],\n",
       "         [0.37503246],\n",
       "         [0.37503246],\n",
       "         [0.83038636],\n",
       "         [0.83038636],\n",
       "         [0.0404244 ],\n",
       "         [0.0404244 ],\n",
       "         [0.22298139],\n",
       "         [0.22298139],\n",
       "         [0.1034888 ],\n",
       "         [0.1034888 ],\n",
       "         [0.35100184],\n",
       "         [0.35100184],\n",
       "         [0.60840549],\n",
       "         [0.60840549],\n",
       "         [0.81961782],\n",
       "         [0.81961782],\n",
       "         [0.15438831],\n",
       "         [0.15438831],\n",
       "         [0.93699983],\n",
       "         [0.93699983],\n",
       "         [0.39151273],\n",
       "         [0.39151273],\n",
       "         [0.30194946],\n",
       "         [0.30194946],\n",
       "         [0.95819872],\n",
       "         [0.95819872],\n",
       "         [0.25001046],\n",
       "         [0.25001046],\n",
       "         [0.59158377],\n",
       "         [0.59158377],\n",
       "         [0.35001081],\n",
       "         [0.35001081],\n",
       "         [0.20381951],\n",
       "         [0.20381951],\n",
       "         [0.8271244 ],\n",
       "         [0.8271244 ],\n",
       "         [0.73965929],\n",
       "         [0.73965929],\n",
       "         [0.34542773],\n",
       "         [0.34542773],\n",
       "         [0.460782  ],\n",
       "         [0.460782  ],\n",
       "         [0.9252743 ],\n",
       "         [0.9252743 ],\n",
       "         [0.77079545],\n",
       "         [0.77079545],\n",
       "         [0.14288725],\n",
       "         [0.14288725],\n",
       "         [0.71024542],\n",
       "         [0.71024542],\n",
       "         [0.00154829],\n",
       "         [0.00154829],\n",
       "         [0.25916366],\n",
       "         [0.25916366],\n",
       "         [0.82221553],\n",
       "         [0.82221553],\n",
       "         [0.53932389],\n",
       "         [0.53932389],\n",
       "         [0.61949039],\n",
       "         [0.61949039],\n",
       "         [0.9700421 ],\n",
       "         [0.9700421 ],\n",
       "         [0.87367379],\n",
       "         [0.87367379],\n",
       "         [0.54832641],\n",
       "         [0.54832641],\n",
       "         [0.20890819],\n",
       "         [0.20890819],\n",
       "         [0.05302734],\n",
       "         [0.05302734],\n",
       "         [0.64061447],\n",
       "         [0.64061447],\n",
       "         [0.63483678],\n",
       "         [0.63483678],\n",
       "         [0.80593039],\n",
       "         [0.80593039],\n",
       "         [0.32265977],\n",
       "         [0.32265977],\n",
       "         [0.6013898 ],\n",
       "         [0.6013898 ],\n",
       "         [0.2265775 ],\n",
       "         [0.2265775 ],\n",
       "         [0.97411343],\n",
       "         [0.97411343],\n",
       "         [0.72501213],\n",
       "         [0.72501213],\n",
       "         [0.75811425],\n",
       "         [0.75811425],\n",
       "         [0.54060552],\n",
       "         [0.54060552],\n",
       "         [0.23732919],\n",
       "         [0.23732919],\n",
       "         [0.89045279],\n",
       "         [0.89045279],\n",
       "         [0.07634216],\n",
       "         [0.07634216],\n",
       "         [0.97636699],\n",
       "         [0.97636699],\n",
       "         [0.78848392],\n",
       "         [0.78848392],\n",
       "         [0.04755619],\n",
       "         [0.04755619],\n",
       "         [0.43359837],\n",
       "         [0.43359837],\n",
       "         [0.61917511],\n",
       "         [0.61917511],\n",
       "         [0.30824506],\n",
       "         [0.30824506],\n",
       "         [0.89626677],\n",
       "         [0.89626677],\n",
       "         [0.91127517],\n",
       "         [0.91127517],\n",
       "         [0.98417939],\n",
       "         [0.98417939]])}}"
      ]
     },
     "execution_count": 1,
     "metadata": {},
     "output_type": "execute_result"
    }
   ],
   "source": [
    "ds = load_by_id(run_id_a)\n",
    "ds.get_parameter_data('x1')"
   ]
  },
  {
   "cell_type": "code",
   "execution_count": null,
   "metadata": {},
   "outputs": [],
   "source": []
  }
 ],
 "metadata": {
  "kernelspec": {
   "display_name": "Python 3",
   "language": "python",
   "name": "python3"
  },
  "language_info": {
   "codemirror_mode": {
    "name": "ipython",
    "version": 3
   },
   "file_extension": ".py",
   "mimetype": "text/x-python",
   "name": "python",
   "nbconvert_exporter": "python",
   "pygments_lexer": "ipython3",
   "version": "3.7.10"
  },
  "nbsphinx": {
   "timeout": 600
  },
  "toc": {
   "base_numbering": 1,
   "nav_menu": {},
   "number_sections": true,
   "sideBar": true,
   "skip_h1_title": false,
   "title_cell": "Table of Contents",
   "title_sidebar": "Contents",
   "toc_cell": false,
   "toc_position": {},
   "toc_section_display": true,
   "toc_window_display": false
  },
  "varInspector": {
   "cols": {
    "lenName": 16,
    "lenType": 16,
    "lenVar": 40
   },
   "kernels_config": {
    "python": {
     "delete_cmd_postfix": "",
     "delete_cmd_prefix": "del ",
     "library": "var_list.py",
     "varRefreshCmd": "print(var_dic_list())"
    },
    "r": {
     "delete_cmd_postfix": ") ",
     "delete_cmd_prefix": "rm(",
     "library": "var_list.r",
     "varRefreshCmd": "cat(var_dic_list()) "
    }
   },
   "types_to_exclude": [
    "module",
    "function",
    "builtin_function_or_method",
    "instance",
    "_Feature"
   ],
   "window_display": false
  }
 },
 "nbformat": 4,
 "nbformat_minor": 4
}
