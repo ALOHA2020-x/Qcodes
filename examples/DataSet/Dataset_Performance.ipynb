{
 "cells": [
  {
   "cell_type": "markdown",
   "metadata": {},
   "source": [
    "# DataSet Performance\n",
    "\n",
    "This notebook shows the trade-off between inserting data into a database row-by-row and as binary blobs. Inserting the data row-by-row means that we have direct access to all the data and may perform queries directly on the values of the data. On the other hand, as we shall see, this is much slower than inserting the data directly as binary blobs."
   ]
  },
  {
   "cell_type": "markdown",
   "metadata": {},
   "source": [
    "First, we choose a new location for the database to ensure that we don't add a bunch of benchmarking data to the default one."
   ]
  },
  {
   "cell_type": "code",
   "execution_count": 1,
   "metadata": {},
   "outputs": [
    {
     "name": "stdout",
     "output_type": "stream",
     "text": [
      "Logging hadn't been started.\n",
      "Activating auto-logging. Current session state plus future input saved.\n",
      "Filename       : /home/vsts/.qcodes/logs/command_history.log\n",
      "Mode           : append\n",
      "Output logging : True\n",
      "Raw input log  : False\n",
      "Timestamping   : True\n",
      "State          : active\n"
     ]
    },
    {
     "name": "stdout",
     "output_type": "stream",
     "text": [
      "Qcodes Logfile : /home/vsts/.qcodes/logs/200316-18782-qcodes.log\n"
     ]
    }
   ],
   "source": [
    "import os\n",
    "cwd = os.getcwd()\n",
    "import qcodes as qc\n",
    "qc.config[\"core\"][\"db_location\"] = os.path.join(cwd, 'testing.db')\n"
   ]
  },
  {
   "cell_type": "code",
   "execution_count": 2,
   "metadata": {},
   "outputs": [],
   "source": [
    "%matplotlib inline\n",
    "import time\n",
    "import matplotlib.pyplot as plt\n",
    "import numpy as np\n",
    "\n",
    "import qcodes as qc\n",
    "from qcodes.instrument.parameter import ManualParameter\n",
    "from qcodes.dataset.experiment_container import (Experiment,\n",
    "                                                 load_last_experiment,\n",
    "                                                 new_experiment)\n",
    "from qcodes.dataset.sqlite.database import initialise_database\n",
    "from qcodes import load_or_create_experiment\n",
    "from qcodes.dataset.measurements import Measurement"
   ]
  },
  {
   "cell_type": "code",
   "execution_count": 3,
   "metadata": {},
   "outputs": [
    {
     "name": "stdout",
     "output_type": "stream",
     "text": [
      "\r",
      "0it [00:00, ?it/s]"
     ]
    },
    {
     "name": "stdout",
     "output_type": "stream",
     "text": [
      "\r",
      "Upgrading database; v0 -> v1: : 0it [00:00, ?it/s]"
     ]
    },
    {
     "name": "stdout",
     "output_type": "stream",
     "text": [
      "\r",
      "Upgrading database; v0 -> v1: : 0it [00:00, ?it/s]"
     ]
    },
    {
     "name": "stdout",
     "output_type": "stream",
     "text": [
      "\n",
      "\r",
      "  0%|          | 0/1 [00:00<?, ?it/s]"
     ]
    },
    {
     "name": "stdout",
     "output_type": "stream",
     "text": [
      "\r",
      "Upgrading database; v1 -> v2:   0%|          | 0/1 [00:00<?, ?it/s]"
     ]
    },
    {
     "name": "stdout",
     "output_type": "stream",
     "text": [
      "\r",
      "Upgrading database; v1 -> v2: 100%|██████████| 1/1 [00:00<00:00, 859.31it/s]"
     ]
    },
    {
     "name": "stdout",
     "output_type": "stream",
     "text": [
      "\n",
      "\r",
      "0it [00:00, ?it/s]"
     ]
    },
    {
     "name": "stdout",
     "output_type": "stream",
     "text": [
      "\r",
      "Upgrading database; v2 -> v3: : 0it [00:00, ?it/s]"
     ]
    },
    {
     "name": "stdout",
     "output_type": "stream",
     "text": [
      "\r",
      "Upgrading database; v2 -> v3: : 0it [00:00, ?it/s]"
     ]
    },
    {
     "name": "stdout",
     "output_type": "stream",
     "text": [
      "\n",
      "\r",
      "0it [00:00, ?it/s]"
     ]
    },
    {
     "name": "stdout",
     "output_type": "stream",
     "text": [
      "\r",
      "Upgrading database; v3 -> v4: : 0it [00:00, ?it/s]"
     ]
    },
    {
     "name": "stdout",
     "output_type": "stream",
     "text": [
      "\r",
      "Upgrading database; v3 -> v4: : 0it [00:00, ?it/s]"
     ]
    },
    {
     "name": "stdout",
     "output_type": "stream",
     "text": [
      "\n",
      "\r",
      "  0%|          | 0/1 [00:00<?, ?it/s]"
     ]
    },
    {
     "name": "stdout",
     "output_type": "stream",
     "text": [
      "\r",
      "Upgrading database; v4 -> v5:   0%|          | 0/1 [00:00<?, ?it/s]"
     ]
    },
    {
     "name": "stdout",
     "output_type": "stream",
     "text": [
      "\r",
      "Upgrading database; v4 -> v5: 100%|██████████| 1/1 [00:00<00:00, 659.27it/s]"
     ]
    },
    {
     "name": "stdout",
     "output_type": "stream",
     "text": [
      "\n",
      "\r",
      "0it [00:00, ?it/s]"
     ]
    },
    {
     "name": "stdout",
     "output_type": "stream",
     "text": [
      "\r",
      "Upgrading database; v5 -> v6: : 0it [00:00, ?it/s]"
     ]
    },
    {
     "name": "stdout",
     "output_type": "stream",
     "text": [
      "\r",
      "Upgrading database; v5 -> v6: : 0it [00:00, ?it/s]"
     ]
    },
    {
     "name": "stdout",
     "output_type": "stream",
     "text": [
      "\n",
      "\r",
      "  0%|          | 0/1 [00:00<?, ?it/s]"
     ]
    },
    {
     "name": "stdout",
     "output_type": "stream",
     "text": [
      "\r",
      "Upgrading database; v6 -> v7:   0%|          | 0/1 [00:00<?, ?it/s]"
     ]
    },
    {
     "name": "stdout",
     "output_type": "stream",
     "text": [
      "\r",
      "Upgrading database; v6 -> v7: 100%|██████████| 1/1 [00:00<00:00, 329.15it/s]"
     ]
    },
    {
     "name": "stdout",
     "output_type": "stream",
     "text": [
      "\n",
      "\r",
      "  0%|          | 0/1 [00:00<?, ?it/s]"
     ]
    },
    {
     "name": "stdout",
     "output_type": "stream",
     "text": [
      "\r",
      "Upgrading database; v7 -> v8:   0%|          | 0/1 [00:00<?, ?it/s]"
     ]
    },
    {
     "name": "stdout",
     "output_type": "stream",
     "text": [
      "\r",
      "Upgrading database; v7 -> v8: 100%|██████████| 1/1 [00:00<00:00, 573.85it/s]"
     ]
    },
    {
     "name": "stdout",
     "output_type": "stream",
     "text": [
      "\n",
      "\r",
      "  0%|          | 0/1 [00:00<?, ?it/s]"
     ]
    },
    {
     "name": "stdout",
     "output_type": "stream",
     "text": [
      "\r",
      "Upgrading database; v8 -> v9:   0%|          | 0/1 [00:00<?, ?it/s]"
     ]
    },
    {
     "name": "stdout",
     "output_type": "stream",
     "text": [
      "\r",
      "Upgrading database; v8 -> v9: 100%|██████████| 1/1 [00:00<00:00, 970.01it/s]"
     ]
    },
    {
     "name": "stdout",
     "output_type": "stream",
     "text": [
      "\n"
     ]
    }
   ],
   "source": [
    "initialise_database()\n",
    "exp = load_or_create_experiment(experiment_name='tutorial_exp', sample_name=\"no sample\")"
   ]
  },
  {
   "cell_type": "markdown",
   "metadata": {},
   "source": [
    "Here, we define a simple function to benchmark the time it takes to insert n points with either numeric or array data type.\n",
    "We will compare both the time used to call ``add_result`` and the time used for the full measurement."
   ]
  },
  {
   "cell_type": "code",
   "execution_count": 4,
   "metadata": {},
   "outputs": [],
   "source": [
    "def insert_data(paramtype, npoints, nreps=1):\n",
    "\n",
    "    meas = Measurement(exp=exp)\n",
    "\n",
    "    x1 = ManualParameter('x1')\n",
    "    x2 = ManualParameter('x2')\n",
    "    x3 = ManualParameter('x3')\n",
    "    y1 = ManualParameter('y1')\n",
    "    y2 = ManualParameter('y2')\n",
    "\n",
    "    meas.register_parameter(x1, paramtype=paramtype)\n",
    "    meas.register_parameter(x2, paramtype=paramtype)\n",
    "    meas.register_parameter(x3, paramtype=paramtype)\n",
    "    meas.register_parameter(y1, setpoints=[x1, x2, x3],\n",
    "                            paramtype=paramtype)\n",
    "    meas.register_parameter(y2, setpoints=[x1, x2, x3],\n",
    "                            paramtype=paramtype)\n",
    "    start = time.perf_counter()\n",
    "    with meas.run() as datasaver:\n",
    "        start_adding = time.perf_counter()\n",
    "        for i in range(nreps):\n",
    "            datasaver.add_result((x1, np.random.rand(npoints)),\n",
    "                                 (x2, np.random.rand(npoints)),\n",
    "                                 (x3, np.random.rand(npoints)),\n",
    "                                 (y1, np.random.rand(npoints)),\n",
    "                                 (y2, np.random.rand(npoints)))\n",
    "        stop_adding = time.perf_counter()\n",
    "        run_id = datasaver.run_id\n",
    "    stop = time.perf_counter()\n",
    "    tot_time = stop - start\n",
    "    add_time = stop_adding - start_adding\n",
    "    return tot_time, add_time, run_id"
   ]
  },
  {
   "cell_type": "markdown",
   "metadata": {},
   "source": [
    "## Comparison between numeric/array data and binary blob"
   ]
  },
  {
   "cell_type": "markdown",
   "metadata": {},
   "source": [
    "### Case1: Short experiment time"
   ]
  },
  {
   "cell_type": "code",
   "execution_count": 5,
   "metadata": {},
   "outputs": [
    {
     "name": "stdout",
     "output_type": "stream",
     "text": [
      "Starting experimental run with id: 1. \n",
      "Starting experimental run with id: 2. \n"
     ]
    },
    {
     "name": "stdout",
     "output_type": "stream",
     "text": [
      "Starting experimental run with id: 3. \n"
     ]
    },
    {
     "name": "stdout",
     "output_type": "stream",
     "text": [
      "Starting experimental run with id: 4. \n"
     ]
    },
    {
     "name": "stdout",
     "output_type": "stream",
     "text": [
      "Starting experimental run with id: 5. \n"
     ]
    },
    {
     "name": "stdout",
     "output_type": "stream",
     "text": [
      "Starting experimental run with id: 6. \n",
      "Starting experimental run with id: 7. \n"
     ]
    },
    {
     "name": "stdout",
     "output_type": "stream",
     "text": [
      "Starting experimental run with id: 8. \n",
      "Starting experimental run with id: 9. \n"
     ]
    },
    {
     "name": "stdout",
     "output_type": "stream",
     "text": [
      "Starting experimental run with id: 10. \n"
     ]
    },
    {
     "name": "stdout",
     "output_type": "stream",
     "text": [
      "Starting experimental run with id: 11. \n"
     ]
    },
    {
     "name": "stdout",
     "output_type": "stream",
     "text": [
      "Starting experimental run with id: 12. \n"
     ]
    },
    {
     "name": "stdout",
     "output_type": "stream",
     "text": [
      "Starting experimental run with id: 13. \n"
     ]
    },
    {
     "name": "stdout",
     "output_type": "stream",
     "text": [
      "Starting experimental run with id: 14. \n"
     ]
    }
   ],
   "source": [
    "sizes = [1,500,1000,2000,3000,4000,5000]\n",
    "t_numeric = []\n",
    "t_numeric_add = []\n",
    "t_array = []\n",
    "t_array_add = []\n",
    "for size in sizes:\n",
    "    tn, tna, run_id_n =  insert_data('numeric', size)\n",
    "    t_numeric.append(tn)\n",
    "    t_numeric_add.append(tna)\n",
    "\n",
    "    ta, taa, run_id_a =  insert_data('array', size)\n",
    "    t_array.append(ta)\n",
    "    t_array_add.append(taa)"
   ]
  },
  {
   "cell_type": "code",
   "execution_count": 6,
   "metadata": {},
   "outputs": [
    {
     "data": {
      "image/png": "[encoded data removed]",
      "text/plain": [
       "<Figure size 432x288 with 1 Axes>"
      ]
     },
     "metadata": {
      "needs_background": "light"
     },
     "output_type": "display_data"
    }
   ],
   "source": [
    "fig, ax = plt.subplots(1,1)\n",
    "ax.plot(sizes, t_numeric, 'o-', label='Inserting row-by-row')\n",
    "ax.plot(sizes, t_numeric_add, 'o-', label='Inserting row-by-row: add_result only')\n",
    "ax.plot(sizes, t_array, 'd-', label='Inserting as binary blob')\n",
    "ax.plot(sizes, t_array_add, 'd-', label='Inserting as binary blob: add_result only')\n",
    "ax.legend()\n",
    "ax.set_xlabel('Array length')\n",
    "ax.set_ylabel('Time (s)')\n",
    "fig.tight_layout()"
   ]
  },
  {
   "cell_type": "markdown",
   "metadata": {},
   "source": [
    "As shown in the latter figure, the time to setup and and close the experiment is approximately 0.4 sec. In case of small array sizes, the difference between inserting values of data as arrays and inserting them row-by-row is relatively unimportant. At larger array sizes, i.e. above 10000 points, the cost of writing data as individual datapoints starts to become important.\n"
   ]
  },
  {
   "cell_type": "markdown",
   "metadata": {},
   "source": [
    "### Case2: Long experiment time "
   ]
  },
  {
   "cell_type": "code",
   "execution_count": 7,
   "metadata": {},
   "outputs": [
    {
     "name": "stdout",
     "output_type": "stream",
     "text": [
      "Starting experimental run with id: 15. \n",
      "Starting experimental run with id: 16. \n",
      "Starting experimental run with id: 17. \n"
     ]
    },
    {
     "name": "stdout",
     "output_type": "stream",
     "text": [
      "Starting experimental run with id: 18. \n",
      "Starting experimental run with id: 19. \n"
     ]
    },
    {
     "name": "stdout",
     "output_type": "stream",
     "text": [
      "Starting experimental run with id: 20. \n"
     ]
    },
    {
     "name": "stdout",
     "output_type": "stream",
     "text": [
      "Starting experimental run with id: 21. \n"
     ]
    },
    {
     "name": "stdout",
     "output_type": "stream",
     "text": [
      "Starting experimental run with id: 22. \n"
     ]
    },
    {
     "name": "stdout",
     "output_type": "stream",
     "text": [
      "Starting experimental run with id: 23. \n"
     ]
    },
    {
     "name": "stdout",
     "output_type": "stream",
     "text": [
      "Starting experimental run with id: 24. \n"
     ]
    },
    {
     "name": "stdout",
     "output_type": "stream",
     "text": [
      "Starting experimental run with id: 25. \n"
     ]
    },
    {
     "name": "stdout",
     "output_type": "stream",
     "text": [
      "Starting experimental run with id: 26. \n"
     ]
    },
    {
     "name": "stdout",
     "output_type": "stream",
     "text": [
      "Starting experimental run with id: 27. \n"
     ]
    },
    {
     "name": "stdout",
     "output_type": "stream",
     "text": [
      "Starting experimental run with id: 28. \n"
     ]
    }
   ],
   "source": [
    "sizes = [1,500,1000,2000,3000,4000,5000]\n",
    "nreps = 100\n",
    "t_numeric = []\n",
    "t_numeric_add = []\n",
    "t_numeric_run_ids = []\n",
    "t_array = []\n",
    "t_array_add = []\n",
    "t_array_run_ids = []\n",
    "for size in sizes:\n",
    "    tn, tna, run_id_n =  insert_data('numeric', size, nreps=nreps)\n",
    "    t_numeric.append(tn)\n",
    "    t_numeric_add.append(tna)\n",
    "    t_numeric_run_ids.append(run_id_n)\n",
    "\n",
    "    ta, taa, run_id_a =  insert_data('array', size, nreps=nreps)\n",
    "    t_array.append(ta)\n",
    "    t_array_add.append(taa)\n",
    "    t_array_run_ids.append(run_id_a)"
   ]
  },
  {
   "cell_type": "code",
   "execution_count": 8,
   "metadata": {
    "scrolled": true
   },
   "outputs": [
    {
     "data": {
      "image/png": "[encoded data removed]",
      "text/plain": [
       "<Figure size 432x288 with 1 Axes>"
      ]
     },
     "metadata": {
      "needs_background": "light"
     },
     "output_type": "display_data"
    }
   ],
   "source": [
    "fig, ax = plt.subplots(1,1)\n",
    "ax.plot(sizes, t_numeric, 'o-', label='Inserting row-by-row')\n",
    "ax.plot(sizes, t_numeric_add, 'o-', label='Inserting row-by-row: add_result only')\n",
    "ax.plot(sizes, t_array, 'd-', label='Inserting as binary blob')\n",
    "ax.plot(sizes, t_array_add, 'd-', label='Inserting as binary blob: add_result only')\n",
    "ax.legend()\n",
    "ax.set_xlabel('Array length')\n",
    "ax.set_ylabel('Time (s)')\n",
    "fig.tight_layout()"
   ]
  },
  {
   "cell_type": "markdown",
   "metadata": {},
   "source": [
    "However, as we increase the length of the experiment, as seen here by repeating the insertion 100 times, we see a big difference between inserting values of the data row-by-row and inserting it as a binary blob."
   ]
  },
  {
   "cell_type": "markdown",
   "metadata": {},
   "source": [
    "## Loading the data "
   ]
  },
  {
   "cell_type": "code",
   "execution_count": 9,
   "metadata": {},
   "outputs": [],
   "source": [
    "from qcodes.dataset.data_set import load_by_id\n",
    "from qcodes.dataset.data_export import get_data_by_id"
   ]
  },
  {
   "cell_type": "markdown",
   "metadata": {},
   "source": [
    "As usual you can load the data by using the ``load_by_id`` function but you will notice that the different storage methods\n",
    "are reflected in shape of the data as it is retrieved. "
   ]
  },
  {
   "cell_type": "code",
   "execution_count": 10,
   "metadata": {},
   "outputs": [],
   "source": [
    "run_id_n = t_numeric_run_ids[0]\n",
    "run_id_a = t_array_run_ids[0]"
   ]
  },
  {
   "cell_type": "code",
   "execution_count": 11,
   "metadata": {
    "scrolled": true
   },
   "outputs": [
    {
     "data": {
      "text/plain": [
       "{'x1': {'x1': array([0.66824164, 0.66824164, 0.49046805, 0.49046805, 0.19454578,\n",
       "         0.19454578, 0.5946982 , 0.5946982 , 0.68463568, 0.68463568,\n",
       "         0.51908933, 0.51908933, 0.76507042, 0.76507042, 0.78846825,\n",
       "         0.78846825, 0.69822519, 0.69822519, 0.05206567, 0.05206567,\n",
       "         0.00863531, 0.00863531, 0.30409364, 0.30409364, 0.22880618,\n",
       "         0.22880618, 0.44816369, 0.44816369, 0.17075914, 0.17075914,\n",
       "         0.61508572, 0.61508572, 0.9570979 , 0.9570979 , 0.08845021,\n",
       "         0.08845021, 0.70129948, 0.70129948, 0.97652531, 0.97652531,\n",
       "         0.193362  , 0.193362  , 0.82446729, 0.82446729, 0.93827006,\n",
       "         0.93827006, 0.81160145, 0.81160145, 0.94532234, 0.94532234,\n",
       "         0.51464955, 0.51464955, 0.8413027 , 0.8413027 , 0.02495492,\n",
       "         0.02495492, 0.49566697, 0.49566697, 0.16721703, 0.16721703,\n",
       "         0.40729218, 0.40729218, 0.92182971, 0.92182971, 0.47987957,\n",
       "         0.47987957, 0.39406098, 0.39406098, 0.43589426, 0.43589426,\n",
       "         0.03558805, 0.03558805, 0.71273263, 0.71273263, 0.08847819,\n",
       "         0.08847819, 0.68810734, 0.68810734, 0.87623649, 0.87623649,\n",
       "         0.26949395, 0.26949395, 0.11314136, 0.11314136, 0.72148283,\n",
       "         0.72148283, 0.70842157, 0.70842157, 0.54277296, 0.54277296,\n",
       "         0.12678497, 0.12678497, 0.52822395, 0.52822395, 0.27609251,\n",
       "         0.27609251, 0.42386746, 0.42386746, 0.40473405, 0.40473405,\n",
       "         0.92633977, 0.92633977, 0.85003467, 0.85003467, 0.29257768,\n",
       "         0.29257768, 0.12195711, 0.12195711, 0.8186909 , 0.8186909 ,\n",
       "         0.74950514, 0.74950514, 0.4230517 , 0.4230517 , 0.02896511,\n",
       "         0.02896511, 0.71423922, 0.71423922, 0.78460897, 0.78460897,\n",
       "         0.02027572, 0.02027572, 0.44340492, 0.44340492, 0.52670459,\n",
       "         0.52670459, 0.43124812, 0.43124812, 0.92010166, 0.92010166,\n",
       "         0.15969459, 0.15969459, 0.45957171, 0.45957171, 0.55366017,\n",
       "         0.55366017, 0.26892085, 0.26892085, 0.73584977, 0.73584977,\n",
       "         0.26622822, 0.26622822, 0.44274373, 0.44274373, 0.94133574,\n",
       "         0.94133574, 0.64589362, 0.64589362, 0.20057994, 0.20057994,\n",
       "         0.58438477, 0.58438477, 0.68678057, 0.68678057, 0.68031285,\n",
       "         0.68031285, 0.36575997, 0.36575997, 0.6713536 , 0.6713536 ,\n",
       "         0.03854304, 0.03854304, 0.76774497, 0.76774497, 0.13107345,\n",
       "         0.13107345, 0.5988922 , 0.5988922 , 0.43119535, 0.43119535,\n",
       "         0.59042557, 0.59042557, 0.7667549 , 0.7667549 , 0.22048128,\n",
       "         0.22048128, 0.78903589, 0.78903589, 0.96486416, 0.96486416,\n",
       "         0.8249636 , 0.8249636 , 0.87616478, 0.87616478, 0.75895587,\n",
       "         0.75895587, 0.63555021, 0.63555021, 0.96180458, 0.96180458,\n",
       "         0.69644916, 0.69644916, 0.99176694, 0.99176694, 0.82129952,\n",
       "         0.82129952, 0.9576905 , 0.9576905 , 0.76007528, 0.76007528])}}"
      ]
     },
     "execution_count": 11,
     "metadata": {},
     "output_type": "execute_result"
    }
   ],
   "source": [
    "ds = load_by_id(run_id_n)\n",
    "ds.get_parameter_data('x1')"
   ]
  },
  {
   "cell_type": "markdown",
   "metadata": {},
   "source": [
    "And a dataset stored as binary arrays"
   ]
  },
  {
   "cell_type": "code",
   "execution_count": 12,
   "metadata": {
    "scrolled": true
   },
   "outputs": [
    {
     "data": {
      "text/plain": [
       "{'x1': {'x1': array([[9.61076158e-01],\n",
       "         [9.61076158e-01],\n",
       "         [7.58294859e-02],\n",
       "         [7.58294859e-02],\n",
       "         [6.18182851e-01],\n",
       "         [6.18182851e-01],\n",
       "         [5.62058599e-01],\n",
       "         [5.62058599e-01],\n",
       "         [7.23840599e-01],\n",
       "         [7.23840599e-01],\n",
       "         [1.27329825e-01],\n",
       "         [1.27329825e-01],\n",
       "         [7.07354764e-01],\n",
       "         [7.07354764e-01],\n",
       "         [3.07048837e-01],\n",
       "         [3.07048837e-01],\n",
       "         [8.96950013e-01],\n",
       "         [8.96950013e-01],\n",
       "         [8.21873914e-01],\n",
       "         [8.21873914e-01],\n",
       "         [5.04272714e-01],\n",
       "         [5.04272714e-01],\n",
       "         [4.34965219e-01],\n",
       "         [4.34965219e-01],\n",
       "         [3.76984070e-01],\n",
       "         [3.76984070e-01],\n",
       "         [7.87174482e-01],\n",
       "         [7.87174482e-01],\n",
       "         [3.08787244e-01],\n",
       "         [3.08787244e-01],\n",
       "         [8.10987150e-03],\n",
       "         [8.10987150e-03],\n",
       "         [3.90691419e-01],\n",
       "         [3.90691419e-01],\n",
       "         [5.24648417e-01],\n",
       "         [5.24648417e-01],\n",
       "         [5.61188454e-01],\n",
       "         [5.61188454e-01],\n",
       "         [4.48384442e-01],\n",
       "         [4.48384442e-01],\n",
       "         [8.29472281e-01],\n",
       "         [8.29472281e-01],\n",
       "         [9.15544836e-01],\n",
       "         [9.15544836e-01],\n",
       "         [9.95484167e-01],\n",
       "         [9.95484167e-01],\n",
       "         [6.26072012e-01],\n",
       "         [6.26072012e-01],\n",
       "         [6.30975788e-01],\n",
       "         [6.30975788e-01],\n",
       "         [8.89849197e-01],\n",
       "         [8.89849197e-01],\n",
       "         [7.28619057e-01],\n",
       "         [7.28619057e-01],\n",
       "         [6.14298983e-01],\n",
       "         [6.14298983e-01],\n",
       "         [1.26573338e-01],\n",
       "         [1.26573338e-01],\n",
       "         [3.36415299e-01],\n",
       "         [3.36415299e-01],\n",
       "         [9.03139714e-01],\n",
       "         [9.03139714e-01],\n",
       "         [2.97567726e-03],\n",
       "         [2.97567726e-03],\n",
       "         [9.36320504e-01],\n",
       "         [9.36320504e-01],\n",
       "         [5.43436221e-01],\n",
       "         [5.43436221e-01],\n",
       "         [7.25634338e-01],\n",
       "         [7.25634338e-01],\n",
       "         [6.39461488e-01],\n",
       "         [6.39461488e-01],\n",
       "         [9.28131174e-01],\n",
       "         [9.28131174e-01],\n",
       "         [9.54907654e-01],\n",
       "         [9.54907654e-01],\n",
       "         [2.85553790e-01],\n",
       "         [2.85553790e-01],\n",
       "         [6.42198040e-01],\n",
       "         [6.42198040e-01],\n",
       "         [7.80776424e-01],\n",
       "         [7.80776424e-01],\n",
       "         [4.24499439e-01],\n",
       "         [4.24499439e-01],\n",
       "         [5.45697117e-01],\n",
       "         [5.45697117e-01],\n",
       "         [3.21173667e-01],\n",
       "         [3.21173667e-01],\n",
       "         [1.21423390e-01],\n",
       "         [1.21423390e-01],\n",
       "         [4.92329613e-01],\n",
       "         [4.92329613e-01],\n",
       "         [2.61549022e-01],\n",
       "         [2.61549022e-01],\n",
       "         [3.88903919e-01],\n",
       "         [3.88903919e-01],\n",
       "         [3.76750797e-01],\n",
       "         [3.76750797e-01],\n",
       "         [3.83173529e-01],\n",
       "         [3.83173529e-01],\n",
       "         [2.12639129e-01],\n",
       "         [2.12639129e-01],\n",
       "         [6.18724633e-01],\n",
       "         [6.18724633e-01],\n",
       "         [7.34064844e-01],\n",
       "         [7.34064844e-01],\n",
       "         [4.57554890e-01],\n",
       "         [4.57554890e-01],\n",
       "         [3.46553993e-01],\n",
       "         [3.46553993e-01],\n",
       "         [6.53606091e-01],\n",
       "         [6.53606091e-01],\n",
       "         [3.86134461e-01],\n",
       "         [3.86134461e-01],\n",
       "         [3.63851411e-01],\n",
       "         [3.63851411e-01],\n",
       "         [7.76955611e-01],\n",
       "         [7.76955611e-01],\n",
       "         [2.37983196e-01],\n",
       "         [2.37983196e-01],\n",
       "         [2.31811019e-01],\n",
       "         [2.31811019e-01],\n",
       "         [6.91841712e-01],\n",
       "         [6.91841712e-01],\n",
       "         [7.12588297e-01],\n",
       "         [7.12588297e-01],\n",
       "         [3.42827446e-01],\n",
       "         [3.42827446e-01],\n",
       "         [2.41078379e-01],\n",
       "         [2.41078379e-01],\n",
       "         [8.37438727e-05],\n",
       "         [8.37438727e-05],\n",
       "         [7.34051802e-01],\n",
       "         [7.34051802e-01],\n",
       "         [7.72431794e-01],\n",
       "         [7.72431794e-01],\n",
       "         [3.68512528e-01],\n",
       "         [3.68512528e-01],\n",
       "         [5.36267571e-01],\n",
       "         [5.36267571e-01],\n",
       "         [4.13703304e-01],\n",
       "         [4.13703304e-01],\n",
       "         [5.57134548e-01],\n",
       "         [5.57134548e-01],\n",
       "         [8.86700691e-01],\n",
       "         [8.86700691e-01],\n",
       "         [7.88039566e-02],\n",
       "         [7.88039566e-02],\n",
       "         [7.53470420e-02],\n",
       "         [7.53470420e-02],\n",
       "         [7.37352899e-01],\n",
       "         [7.37352899e-01],\n",
       "         [6.71262332e-01],\n",
       "         [6.71262332e-01],\n",
       "         [6.22513532e-01],\n",
       "         [6.22513532e-01],\n",
       "         [6.27128132e-01],\n",
       "         [6.27128132e-01],\n",
       "         [6.33059223e-01],\n",
       "         [6.33059223e-01],\n",
       "         [8.64813029e-01],\n",
       "         [8.64813029e-01],\n",
       "         [8.69526315e-01],\n",
       "         [8.69526315e-01],\n",
       "         [2.33677431e-01],\n",
       "         [2.33677431e-01],\n",
       "         [3.99266289e-01],\n",
       "         [3.99266289e-01],\n",
       "         [5.93745405e-01],\n",
       "         [5.93745405e-01],\n",
       "         [9.43685153e-01],\n",
       "         [9.43685153e-01],\n",
       "         [9.66537775e-01],\n",
       "         [9.66537775e-01],\n",
       "         [4.27098400e-01],\n",
       "         [4.27098400e-01],\n",
       "         [9.21448814e-02],\n",
       "         [9.21448814e-02],\n",
       "         [4.70489956e-01],\n",
       "         [4.70489956e-01],\n",
       "         [6.40036508e-01],\n",
       "         [6.40036508e-01],\n",
       "         [7.33940477e-01],\n",
       "         [7.33940477e-01],\n",
       "         [7.36989292e-01],\n",
       "         [7.36989292e-01],\n",
       "         [4.49967899e-01],\n",
       "         [4.49967899e-01],\n",
       "         [1.96332408e-01],\n",
       "         [1.96332408e-01],\n",
       "         [9.83755914e-01],\n",
       "         [9.83755914e-01],\n",
       "         [7.56187037e-01],\n",
       "         [7.56187037e-01],\n",
       "         [6.67264710e-02],\n",
       "         [6.67264710e-02],\n",
       "         [5.17594068e-01],\n",
       "         [5.17594068e-01],\n",
       "         [8.09523034e-01],\n",
       "         [8.09523034e-01]])}}"
      ]
     },
     "execution_count": 12,
     "metadata": {},
     "output_type": "execute_result"
    }
   ],
   "source": [
    "ds = load_by_id(run_id_a)\n",
    "ds.get_parameter_data('x1')"
   ]
  },
  {
   "cell_type": "code",
   "execution_count": null,
   "metadata": {},
   "outputs": [],
   "source": []
  }
 ],
 "metadata": {
  "kernelspec": {
   "display_name": "Python 3",
   "language": "python",
   "name": "python3"
  },
  "language_info": {
   "codemirror_mode": {
    "name": "ipython",
    "version": 3
   },
   "file_extension": ".py",
   "mimetype": "text/x-python",
   "name": "python",
   "nbconvert_exporter": "python",
   "pygments_lexer": "ipython3",
   "version": "3.7.5"
  },
  "nbsphinx": {
   "timeout": 600
  },
  "toc": {
   "base_numbering": 1,
   "nav_menu": {},
   "number_sections": true,
   "sideBar": true,
   "skip_h1_title": false,
   "title_cell": "Table of Contents",
   "title_sidebar": "Contents",
   "toc_cell": false,
   "toc_position": {},
   "toc_section_display": true,
   "toc_window_display": false
  },
  "varInspector": {
   "cols": {
    "lenName": 16,
    "lenType": 16,
    "lenVar": 40
   },
   "kernels_config": {
    "python": {
     "delete_cmd_postfix": "",
     "delete_cmd_prefix": "del ",
     "library": "var_list.py",
     "varRefreshCmd": "print(var_dic_list())"
    },
    "r": {
     "delete_cmd_postfix": ") ",
     "delete_cmd_prefix": "rm(",
     "library": "var_list.r",
     "varRefreshCmd": "cat(var_dic_list()) "
    }
   },
   "types_to_exclude": [
    "module",
    "function",
    "builtin_function_or_method",
    "instance",
    "_Feature"
   ],
   "window_display": false
  }
 },
 "nbformat": 4,
 "nbformat_minor": 2
}
