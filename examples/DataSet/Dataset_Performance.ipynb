{
 "cells": [
  {
   "cell_type": "markdown",
   "metadata": {},
   "source": [
    "# DataSet Performance\n",
    "\n",
    "This notebook shows the trade-off between inserting data into a database row-by-row and as binary blobs. Inserting the data row-by-row means that we have direct access to all the data and may perform queries directly on the values of the data. On the other hand, as we shall see, this is much slower than inserting the data directly as binary blobs."
   ]
  },
  {
   "cell_type": "markdown",
   "metadata": {},
   "source": [
    "First, we choose a new location for the database to ensure that we don't add a bunch of benchmarking data to the default one."
   ]
  },
  {
   "cell_type": "code",
   "execution_count": 1,
   "metadata": {
    "execution": {
     "iopub.execute_input": "2020-12-14T15:21:58.116288Z",
     "iopub.status.busy": "2020-12-14T15:21:58.115324Z",
     "iopub.status.idle": "2020-12-14T15:21:59.324215Z",
     "shell.execute_reply": "2020-12-14T15:21:59.324667Z"
    }
   },
   "outputs": [
    {
     "name": "stdout",
     "output_type": "stream",
     "text": [
      "Logging hadn't been started.\n",
      "Activating auto-logging. Current session state plus future input saved.\n",
      "Filename       : /home/vsts/.qcodes/logs/command_history.log\n",
      "Mode           : append\n",
      "Output logging : True\n",
      "Raw input log  : False\n",
      "Timestamping   : True\n",
      "State          : active\n"
     ]
    },
    {
     "name": "stdout",
     "output_type": "stream",
     "text": [
      "Qcodes Logfile : /home/vsts/.qcodes/logs/201214-14581-qcodes.log\n"
     ]
    }
   ],
   "source": [
    "import os\n",
    "cwd = os.getcwd()\n",
    "import qcodes as qc\n",
    "qc.config[\"core\"][\"db_location\"] = os.path.join(cwd, 'testing.db')\n"
   ]
  },
  {
   "cell_type": "code",
   "execution_count": 2,
   "metadata": {
    "execution": {
     "iopub.execute_input": "2020-12-14T15:21:59.331565Z",
     "iopub.status.busy": "2020-12-14T15:21:59.330593Z",
     "iopub.status.idle": "2020-12-14T15:21:59.525386Z",
     "shell.execute_reply": "2020-12-14T15:21:59.524864Z"
    }
   },
   "outputs": [],
   "source": [
    "%matplotlib inline\n",
    "import time\n",
    "import matplotlib.pyplot as plt\n",
    "import numpy as np\n",
    "\n",
    "import qcodes as qc\n",
    "from qcodes.instrument.parameter import ManualParameter\n",
    "from qcodes.dataset.experiment_container import (Experiment,\n",
    "                                                 load_last_experiment,\n",
    "                                                 new_experiment)\n",
    "from qcodes.dataset.sqlite.database import initialise_database\n",
    "from qcodes import load_or_create_experiment\n",
    "from qcodes.dataset.measurements import Measurement"
   ]
  },
  {
   "cell_type": "code",
   "execution_count": 3,
   "metadata": {
    "execution": {
     "iopub.execute_input": "2020-12-14T15:21:59.529277Z",
     "iopub.status.busy": "2020-12-14T15:21:59.528742Z",
     "iopub.status.idle": "2020-12-14T15:21:59.652761Z",
     "shell.execute_reply": "2020-12-14T15:21:59.651609Z"
    }
   },
   "outputs": [
    {
     "name": "stdout",
     "output_type": "stream",
     "text": [
      "\r",
      "0it [00:00, ?it/s]"
     ]
    },
    {
     "name": "stdout",
     "output_type": "stream",
     "text": [
      "\r",
      "Upgrading database; v0 -> v1: : 0it [00:00, ?it/s]"
     ]
    },
    {
     "name": "stdout",
     "output_type": "stream",
     "text": [
      "\r",
      "Upgrading database; v0 -> v1: : 0it [00:00, ?it/s]"
     ]
    },
    {
     "name": "stdout",
     "output_type": "stream",
     "text": [
      "\n",
      "\r",
      "  0%|          | 0/1 [00:00<?, ?it/s]"
     ]
    },
    {
     "name": "stdout",
     "output_type": "stream",
     "text": [
      "\r",
      "Upgrading database; v1 -> v2:   0%|          | 0/1 [00:00<?, ?it/s]"
     ]
    },
    {
     "name": "stdout",
     "output_type": "stream",
     "text": [
      "\r",
      "Upgrading database; v1 -> v2: 100%|██████████| 1/1 [00:00<00:00, 437.50it/s]"
     ]
    },
    {
     "name": "stdout",
     "output_type": "stream",
     "text": [
      "\n",
      "\r",
      "0it [00:00, ?it/s]"
     ]
    },
    {
     "name": "stdout",
     "output_type": "stream",
     "text": [
      "\r",
      "Upgrading database; v2 -> v3: : 0it [00:00, ?it/s]"
     ]
    },
    {
     "name": "stdout",
     "output_type": "stream",
     "text": [
      "\r",
      "Upgrading database; v2 -> v3: : 0it [00:00, ?it/s]"
     ]
    },
    {
     "name": "stdout",
     "output_type": "stream",
     "text": [
      "\n",
      "\r",
      "0it [00:00, ?it/s]"
     ]
    },
    {
     "name": "stdout",
     "output_type": "stream",
     "text": [
      "\r",
      "Upgrading database; v3 -> v4: : 0it [00:00, ?it/s]"
     ]
    },
    {
     "name": "stdout",
     "output_type": "stream",
     "text": [
      "\r",
      "Upgrading database; v3 -> v4: : 0it [00:00, ?it/s]"
     ]
    },
    {
     "name": "stdout",
     "output_type": "stream",
     "text": [
      "\n",
      "\r",
      "  0%|          | 0/1 [00:00<?, ?it/s]"
     ]
    },
    {
     "name": "stdout",
     "output_type": "stream",
     "text": [
      "\r",
      "Upgrading database; v4 -> v5:   0%|          | 0/1 [00:00<?, ?it/s]"
     ]
    },
    {
     "name": "stdout",
     "output_type": "stream",
     "text": [
      "\r",
      "Upgrading database; v4 -> v5: 100%|██████████| 1/1 [00:00<00:00, 1011.41it/s]"
     ]
    },
    {
     "name": "stdout",
     "output_type": "stream",
     "text": [
      "\n",
      "\r",
      "0it [00:00, ?it/s]"
     ]
    },
    {
     "name": "stdout",
     "output_type": "stream",
     "text": [
      "\r",
      "Upgrading database; v5 -> v6: : 0it [00:00, ?it/s]"
     ]
    },
    {
     "name": "stdout",
     "output_type": "stream",
     "text": [
      "\r",
      "Upgrading database; v5 -> v6: : 0it [00:00, ?it/s]"
     ]
    },
    {
     "name": "stdout",
     "output_type": "stream",
     "text": [
      "\n",
      "\r",
      "  0%|          | 0/1 [00:00<?, ?it/s]"
     ]
    },
    {
     "name": "stdout",
     "output_type": "stream",
     "text": [
      "\r",
      "Upgrading database; v6 -> v7:   0%|          | 0/1 [00:00<?, ?it/s]"
     ]
    },
    {
     "name": "stdout",
     "output_type": "stream",
     "text": [
      "\r",
      "Upgrading database; v6 -> v7: 100%|██████████| 1/1 [00:00<00:00, 459.15it/s]"
     ]
    },
    {
     "name": "stdout",
     "output_type": "stream",
     "text": [
      "\n",
      "\r",
      "  0%|          | 0/1 [00:00<?, ?it/s]"
     ]
    },
    {
     "name": "stdout",
     "output_type": "stream",
     "text": [
      "\r",
      "Upgrading database; v7 -> v8:   0%|          | 0/1 [00:00<?, ?it/s]"
     ]
    },
    {
     "name": "stdout",
     "output_type": "stream",
     "text": [
      "\r",
      "Upgrading database; v7 -> v8: 100%|██████████| 1/1 [00:00<00:00, 402.52it/s]"
     ]
    },
    {
     "name": "stdout",
     "output_type": "stream",
     "text": [
      "\n",
      "\r",
      "  0%|          | 0/1 [00:00<?, ?it/s]"
     ]
    },
    {
     "name": "stdout",
     "output_type": "stream",
     "text": [
      "\r",
      "Upgrading database; v8 -> v9:   0%|          | 0/1 [00:00<?, ?it/s]"
     ]
    },
    {
     "name": "stdout",
     "output_type": "stream",
     "text": [
      "\r",
      "Upgrading database; v8 -> v9: 100%|██████████| 1/1 [00:00<00:00, 579.16it/s]"
     ]
    },
    {
     "name": "stdout",
     "output_type": "stream",
     "text": [
      "\n"
     ]
    }
   ],
   "source": [
    "initialise_database()\n",
    "exp = load_or_create_experiment(experiment_name='tutorial_exp', sample_name=\"no sample\")"
   ]
  },
  {
   "cell_type": "markdown",
   "metadata": {},
   "source": [
    "Here, we define a simple function to benchmark the time it takes to insert n points with either numeric or array data type.\n",
    "We will compare both the time used to call ``add_result`` and the time used for the full measurement."
   ]
  },
  {
   "cell_type": "code",
   "execution_count": 4,
   "metadata": {
    "execution": {
     "iopub.execute_input": "2020-12-14T15:21:59.662264Z",
     "iopub.status.busy": "2020-12-14T15:21:59.661322Z",
     "iopub.status.idle": "2020-12-14T15:21:59.665181Z",
     "shell.execute_reply": "2020-12-14T15:21:59.664576Z"
    }
   },
   "outputs": [],
   "source": [
    "def insert_data(paramtype, npoints, nreps=1):\n",
    "\n",
    "    meas = Measurement(exp=exp)\n",
    "\n",
    "    x1 = ManualParameter('x1')\n",
    "    x2 = ManualParameter('x2')\n",
    "    x3 = ManualParameter('x3')\n",
    "    y1 = ManualParameter('y1')\n",
    "    y2 = ManualParameter('y2')\n",
    "\n",
    "    meas.register_parameter(x1, paramtype=paramtype)\n",
    "    meas.register_parameter(x2, paramtype=paramtype)\n",
    "    meas.register_parameter(x3, paramtype=paramtype)\n",
    "    meas.register_parameter(y1, setpoints=[x1, x2, x3],\n",
    "                            paramtype=paramtype)\n",
    "    meas.register_parameter(y2, setpoints=[x1, x2, x3],\n",
    "                            paramtype=paramtype)\n",
    "    start = time.perf_counter()\n",
    "    with meas.run() as datasaver:\n",
    "        start_adding = time.perf_counter()\n",
    "        for i in range(nreps):\n",
    "            datasaver.add_result((x1, np.random.rand(npoints)),\n",
    "                                 (x2, np.random.rand(npoints)),\n",
    "                                 (x3, np.random.rand(npoints)),\n",
    "                                 (y1, np.random.rand(npoints)),\n",
    "                                 (y2, np.random.rand(npoints)))\n",
    "        stop_adding = time.perf_counter()\n",
    "        run_id = datasaver.run_id\n",
    "    stop = time.perf_counter()\n",
    "    tot_time = stop - start\n",
    "    add_time = stop_adding - start_adding\n",
    "    return tot_time, add_time, run_id"
   ]
  },
  {
   "cell_type": "markdown",
   "metadata": {},
   "source": [
    "## Comparison between numeric/array data and binary blob"
   ]
  },
  {
   "cell_type": "markdown",
   "metadata": {},
   "source": [
    "### Case1: Short experiment time"
   ]
  },
  {
   "cell_type": "code",
   "execution_count": 5,
   "metadata": {
    "execution": {
     "iopub.execute_input": "2020-12-14T15:21:59.671412Z",
     "iopub.status.busy": "2020-12-14T15:21:59.670268Z",
     "iopub.status.idle": "2020-12-14T15:22:00.612248Z",
     "shell.execute_reply": "2020-12-14T15:22:00.611291Z"
    }
   },
   "outputs": [
    {
     "name": "stdout",
     "output_type": "stream",
     "text": [
      "Starting experimental run with id: 1. \n",
      "Starting experimental run with id: 2. \n",
      "Starting experimental run with id: 3. \n",
      "Starting experimental run with id: 4. \n",
      "Starting experimental run with id: 5. \n"
     ]
    },
    {
     "name": "stdout",
     "output_type": "stream",
     "text": [
      "Starting experimental run with id: 6. "
     ]
    },
    {
     "name": "stdout",
     "output_type": "stream",
     "text": [
      "\n"
     ]
    },
    {
     "name": "stdout",
     "output_type": "stream",
     "text": [
      "Starting experimental run with id: 7. \n"
     ]
    },
    {
     "name": "stdout",
     "output_type": "stream",
     "text": [
      "Starting experimental run with id: 8. \n",
      "Starting experimental run with id: 9. \n"
     ]
    },
    {
     "name": "stdout",
     "output_type": "stream",
     "text": [
      "Starting experimental run with id: 10. \n",
      "Starting experimental run with id: 11. \n"
     ]
    },
    {
     "name": "stdout",
     "output_type": "stream",
     "text": [
      "Starting experimental run with id: 12. \n",
      "Starting experimental run with id: 13. \n"
     ]
    },
    {
     "name": "stdout",
     "output_type": "stream",
     "text": [
      "Starting experimental run with id: 14. \n"
     ]
    }
   ],
   "source": [
    "sizes = [1,500,1000,2000,3000,4000,5000]\n",
    "t_numeric = []\n",
    "t_numeric_add = []\n",
    "t_array = []\n",
    "t_array_add = []\n",
    "for size in sizes:\n",
    "    tn, tna, run_id_n =  insert_data('numeric', size)\n",
    "    t_numeric.append(tn)\n",
    "    t_numeric_add.append(tna)\n",
    "\n",
    "    ta, taa, run_id_a =  insert_data('array', size)\n",
    "    t_array.append(ta)\n",
    "    t_array_add.append(taa)"
   ]
  },
  {
   "cell_type": "code",
   "execution_count": 6,
   "metadata": {
    "execution": {
     "iopub.execute_input": "2020-12-14T15:22:00.645396Z",
     "iopub.status.busy": "2020-12-14T15:22:00.639863Z",
     "iopub.status.idle": "2020-12-14T15:22:00.873040Z",
     "shell.execute_reply": "2020-12-14T15:22:00.872011Z"
    }
   },
   "outputs": [
    {
     "data": {
      "image/png": "[encoded data removed]",
      "text/plain": [
       "<Figure size 432x288 with 1 Axes>"
      ]
     },
     "metadata": {
      "needs_background": "light"
     },
     "output_type": "display_data"
    }
   ],
   "source": [
    "fig, ax = plt.subplots(1,1)\n",
    "ax.plot(sizes, t_numeric, 'o-', label='Inserting row-by-row')\n",
    "ax.plot(sizes, t_numeric_add, 'o-', label='Inserting row-by-row: add_result only')\n",
    "ax.plot(sizes, t_array, 'd-', label='Inserting as binary blob')\n",
    "ax.plot(sizes, t_array_add, 'd-', label='Inserting as binary blob: add_result only')\n",
    "ax.legend()\n",
    "ax.set_xlabel('Array length')\n",
    "ax.set_ylabel('Time (s)')\n",
    "fig.tight_layout()"
   ]
  },
  {
   "cell_type": "markdown",
   "metadata": {},
   "source": [
    "As shown in the latter figure, the time to setup and and close the experiment is approximately 0.4 sec. In case of small array sizes, the difference between inserting values of data as arrays and inserting them row-by-row is relatively unimportant. At larger array sizes, i.e. above 10000 points, the cost of writing data as individual datapoints starts to become important.\n"
   ]
  },
  {
   "cell_type": "markdown",
   "metadata": {},
   "source": [
    "### Case2: Long experiment time "
   ]
  },
  {
   "cell_type": "code",
   "execution_count": 7,
   "metadata": {
    "execution": {
     "iopub.execute_input": "2020-12-14T15:22:00.880889Z",
     "iopub.status.busy": "2020-12-14T15:22:00.880339Z",
     "iopub.status.idle": "2020-12-14T15:23:02.210346Z",
     "shell.execute_reply": "2020-12-14T15:23:02.209397Z"
    }
   },
   "outputs": [
    {
     "name": "stdout",
     "output_type": "stream",
     "text": [
      "Starting experimental run with id: 15. \n",
      "Starting experimental run with id: 16. \n",
      "Starting experimental run with id: 17. \n"
     ]
    },
    {
     "name": "stdout",
     "output_type": "stream",
     "text": [
      "Starting experimental run with id: 18. \n",
      "Starting experimental run with id: 19. \n"
     ]
    },
    {
     "name": "stdout",
     "output_type": "stream",
     "text": [
      "Starting experimental run with id: 20. \n"
     ]
    },
    {
     "name": "stdout",
     "output_type": "stream",
     "text": [
      "Starting experimental run with id: 21. \n"
     ]
    },
    {
     "name": "stdout",
     "output_type": "stream",
     "text": [
      "Starting experimental run with id: 22. \n"
     ]
    },
    {
     "name": "stdout",
     "output_type": "stream",
     "text": [
      "Starting experimental run with id: 23. \n"
     ]
    },
    {
     "name": "stdout",
     "output_type": "stream",
     "text": [
      "Starting experimental run with id: 24. \n"
     ]
    },
    {
     "name": "stdout",
     "output_type": "stream",
     "text": [
      "Starting experimental run with id: 25. \n"
     ]
    },
    {
     "name": "stdout",
     "output_type": "stream",
     "text": [
      "Starting experimental run with id: 26. \n"
     ]
    },
    {
     "name": "stdout",
     "output_type": "stream",
     "text": [
      "Starting experimental run with id: 27. \n"
     ]
    },
    {
     "name": "stdout",
     "output_type": "stream",
     "text": [
      "Starting experimental run with id: 28. \n"
     ]
    }
   ],
   "source": [
    "sizes = [1,500,1000,2000,3000,4000,5000]\n",
    "nreps = 100\n",
    "t_numeric = []\n",
    "t_numeric_add = []\n",
    "t_numeric_run_ids = []\n",
    "t_array = []\n",
    "t_array_add = []\n",
    "t_array_run_ids = []\n",
    "for size in sizes:\n",
    "    tn, tna, run_id_n =  insert_data('numeric', size, nreps=nreps)\n",
    "    t_numeric.append(tn)\n",
    "    t_numeric_add.append(tna)\n",
    "    t_numeric_run_ids.append(run_id_n)\n",
    "\n",
    "    ta, taa, run_id_a =  insert_data('array', size, nreps=nreps)\n",
    "    t_array.append(ta)\n",
    "    t_array_add.append(taa)\n",
    "    t_array_run_ids.append(run_id_a)"
   ]
  },
  {
   "cell_type": "code",
   "execution_count": 8,
   "metadata": {
    "execution": {
     "iopub.execute_input": "2020-12-14T15:23:02.239857Z",
     "iopub.status.busy": "2020-12-14T15:23:02.238880Z",
     "iopub.status.idle": "2020-12-14T15:23:02.414933Z",
     "shell.execute_reply": "2020-12-14T15:23:02.414452Z"
    },
    "scrolled": true
   },
   "outputs": [
    {
     "data": {
      "image/png": "[encoded data removed]",
      "text/plain": [
       "<Figure size 432x288 with 1 Axes>"
      ]
     },
     "metadata": {
      "needs_background": "light"
     },
     "output_type": "display_data"
    }
   ],
   "source": [
    "fig, ax = plt.subplots(1,1)\n",
    "ax.plot(sizes, t_numeric, 'o-', label='Inserting row-by-row')\n",
    "ax.plot(sizes, t_numeric_add, 'o-', label='Inserting row-by-row: add_result only')\n",
    "ax.plot(sizes, t_array, 'd-', label='Inserting as binary blob')\n",
    "ax.plot(sizes, t_array_add, 'd-', label='Inserting as binary blob: add_result only')\n",
    "ax.legend()\n",
    "ax.set_xlabel('Array length')\n",
    "ax.set_ylabel('Time (s)')\n",
    "fig.tight_layout()"
   ]
  },
  {
   "cell_type": "markdown",
   "metadata": {},
   "source": [
    "However, as we increase the length of the experiment, as seen here by repeating the insertion 100 times, we see a big difference between inserting values of the data row-by-row and inserting it as a binary blob."
   ]
  },
  {
   "cell_type": "markdown",
   "metadata": {},
   "source": [
    "## Loading the data "
   ]
  },
  {
   "cell_type": "code",
   "execution_count": 9,
   "metadata": {
    "execution": {
     "iopub.execute_input": "2020-12-14T15:23:02.419384Z",
     "iopub.status.busy": "2020-12-14T15:23:02.418453Z",
     "iopub.status.idle": "2020-12-14T15:23:02.421676Z",
     "shell.execute_reply": "2020-12-14T15:23:02.421128Z"
    }
   },
   "outputs": [],
   "source": [
    "from qcodes.dataset.data_set import load_by_id\n",
    "from qcodes.dataset.data_export import get_data_by_id"
   ]
  },
  {
   "cell_type": "markdown",
   "metadata": {},
   "source": [
    "As usual you can load the data by using the ``load_by_id`` function but you will notice that the different storage methods\n",
    "are reflected in shape of the data as it is retrieved. "
   ]
  },
  {
   "cell_type": "code",
   "execution_count": 10,
   "metadata": {
    "execution": {
     "iopub.execute_input": "2020-12-14T15:23:02.426015Z",
     "iopub.status.busy": "2020-12-14T15:23:02.424916Z",
     "iopub.status.idle": "2020-12-14T15:23:02.426563Z",
     "shell.execute_reply": "2020-12-14T15:23:02.427091Z"
    }
   },
   "outputs": [],
   "source": [
    "run_id_n = t_numeric_run_ids[0]\n",
    "run_id_a = t_array_run_ids[0]"
   ]
  },
  {
   "cell_type": "code",
   "execution_count": 11,
   "metadata": {
    "execution": {
     "iopub.execute_input": "2020-12-14T15:23:02.430390Z",
     "iopub.status.busy": "2020-12-14T15:23:02.429879Z",
     "iopub.status.idle": "2020-12-14T15:23:02.441407Z",
     "shell.execute_reply": "2020-12-14T15:23:02.440941Z"
    },
    "scrolled": true
   },
   "outputs": [
    {
     "data": {
      "text/plain": [
       "{'x1': {'x1': array([0.2379957 , 0.2379957 , 0.15775715, 0.15775715, 0.42945835,\n",
       "         0.42945835, 0.86052374, 0.86052374, 0.80341216, 0.80341216,\n",
       "         0.42611807, 0.42611807, 0.92270627, 0.92270627, 0.65258795,\n",
       "         0.65258795, 0.8652342 , 0.8652342 , 0.09916145, 0.09916145,\n",
       "         0.16010946, 0.16010946, 0.90053174, 0.90053174, 0.68797842,\n",
       "         0.68797842, 0.27682105, 0.27682105, 0.17304983, 0.17304983,\n",
       "         0.73560023, 0.73560023, 0.52403911, 0.52403911, 0.42022918,\n",
       "         0.42022918, 0.95584862, 0.95584862, 0.48815724, 0.48815724,\n",
       "         0.13203161, 0.13203161, 0.94643639, 0.94643639, 0.20464351,\n",
       "         0.20464351, 0.91720394, 0.91720394, 0.34788789, 0.34788789,\n",
       "         0.24317168, 0.24317168, 0.27017552, 0.27017552, 0.79881636,\n",
       "         0.79881636, 0.01723738, 0.01723738, 0.56410024, 0.56410024,\n",
       "         0.359341  , 0.359341  , 0.48427069, 0.48427069, 0.08189665,\n",
       "         0.08189665, 0.75564678, 0.75564678, 0.09181612, 0.09181612,\n",
       "         0.54951281, 0.54951281, 0.09552656, 0.09552656, 0.99920846,\n",
       "         0.99920846, 0.106107  , 0.106107  , 0.40760594, 0.40760594,\n",
       "         0.96684481, 0.96684481, 0.08724486, 0.08724486, 0.42827964,\n",
       "         0.42827964, 0.10849262, 0.10849262, 0.35830142, 0.35830142,\n",
       "         0.99536989, 0.99536989, 0.31933779, 0.31933779, 0.68002948,\n",
       "         0.68002948, 0.01215277, 0.01215277, 0.97242209, 0.97242209,\n",
       "         0.67912765, 0.67912765, 0.91274849, 0.91274849, 0.66191461,\n",
       "         0.66191461, 0.8241931 , 0.8241931 , 0.4356056 , 0.4356056 ,\n",
       "         0.88429464, 0.88429464, 0.93441294, 0.93441294, 0.9073627 ,\n",
       "         0.9073627 , 0.44851475, 0.44851475, 0.67041281, 0.67041281,\n",
       "         0.22551626, 0.22551626, 0.98823079, 0.98823079, 0.88944706,\n",
       "         0.88944706, 0.91322903, 0.91322903, 0.67427897, 0.67427897,\n",
       "         0.64358499, 0.64358499, 0.05357555, 0.05357555, 0.53616175,\n",
       "         0.53616175, 0.82638581, 0.82638581, 0.17873896, 0.17873896,\n",
       "         0.559157  , 0.559157  , 0.25817778, 0.25817778, 0.23889112,\n",
       "         0.23889112, 0.66666554, 0.66666554, 0.53860249, 0.53860249,\n",
       "         0.46006494, 0.46006494, 0.52746747, 0.52746747, 0.87211155,\n",
       "         0.87211155, 0.67595837, 0.67595837, 0.02572593, 0.02572593,\n",
       "         0.71848122, 0.71848122, 0.88036644, 0.88036644, 0.05714546,\n",
       "         0.05714546, 0.47779414, 0.47779414, 0.59345671, 0.59345671,\n",
       "         0.67931517, 0.67931517, 0.45165609, 0.45165609, 0.5202093 ,\n",
       "         0.5202093 , 0.70939529, 0.70939529, 0.96322958, 0.96322958,\n",
       "         0.36320024, 0.36320024, 0.23722665, 0.23722665, 0.06903394,\n",
       "         0.06903394, 0.49223172, 0.49223172, 0.96677551, 0.96677551,\n",
       "         0.64773282, 0.64773282, 0.94630724, 0.94630724, 0.2702508 ,\n",
       "         0.2702508 , 0.58918529, 0.58918529, 0.04577451, 0.04577451])}}"
      ]
     },
     "execution_count": 1,
     "metadata": {},
     "output_type": "execute_result"
    }
   ],
   "source": [
    "ds = load_by_id(run_id_n)\n",
    "ds.get_parameter_data('x1')"
   ]
  },
  {
   "cell_type": "markdown",
   "metadata": {},
   "source": [
    "And a dataset stored as binary arrays"
   ]
  },
  {
   "cell_type": "code",
   "execution_count": 12,
   "metadata": {
    "execution": {
     "iopub.execute_input": "2020-12-14T15:23:02.444604Z",
     "iopub.status.busy": "2020-12-14T15:23:02.444049Z",
     "iopub.status.idle": "2020-12-14T15:23:02.505619Z",
     "shell.execute_reply": "2020-12-14T15:23:02.506564Z"
    },
    "scrolled": true
   },
   "outputs": [
    {
     "data": {
      "text/plain": [
       "{'x1': {'x1': array([[0.99408067],\n",
       "         [0.99408067],\n",
       "         [0.65640564],\n",
       "         [0.65640564],\n",
       "         [0.8730805 ],\n",
       "         [0.8730805 ],\n",
       "         [0.44824028],\n",
       "         [0.44824028],\n",
       "         [0.60976425],\n",
       "         [0.60976425],\n",
       "         [0.52141916],\n",
       "         [0.52141916],\n",
       "         [0.7410159 ],\n",
       "         [0.7410159 ],\n",
       "         [0.81306651],\n",
       "         [0.81306651],\n",
       "         [0.13227214],\n",
       "         [0.13227214],\n",
       "         [0.87637134],\n",
       "         [0.87637134],\n",
       "         [0.14045897],\n",
       "         [0.14045897],\n",
       "         [0.19311243],\n",
       "         [0.19311243],\n",
       "         [0.25482522],\n",
       "         [0.25482522],\n",
       "         [0.65226229],\n",
       "         [0.65226229],\n",
       "         [0.60850586],\n",
       "         [0.60850586],\n",
       "         [0.48429977],\n",
       "         [0.48429977],\n",
       "         [0.09755822],\n",
       "         [0.09755822],\n",
       "         [0.01384815],\n",
       "         [0.01384815],\n",
       "         [0.43446964],\n",
       "         [0.43446964],\n",
       "         [0.26536516],\n",
       "         [0.26536516],\n",
       "         [0.89165284],\n",
       "         [0.89165284],\n",
       "         [0.53976637],\n",
       "         [0.53976637],\n",
       "         [0.68777879],\n",
       "         [0.68777879],\n",
       "         [0.27617965],\n",
       "         [0.27617965],\n",
       "         [0.04123697],\n",
       "         [0.04123697],\n",
       "         [0.64617291],\n",
       "         [0.64617291],\n",
       "         [0.05007497],\n",
       "         [0.05007497],\n",
       "         [0.11716435],\n",
       "         [0.11716435],\n",
       "         [0.56400744],\n",
       "         [0.56400744],\n",
       "         [0.10680101],\n",
       "         [0.10680101],\n",
       "         [0.97047485],\n",
       "         [0.97047485],\n",
       "         [0.62091169],\n",
       "         [0.62091169],\n",
       "         [0.50342374],\n",
       "         [0.50342374],\n",
       "         [0.22176008],\n",
       "         [0.22176008],\n",
       "         [0.57613724],\n",
       "         [0.57613724],\n",
       "         [0.45994049],\n",
       "         [0.45994049],\n",
       "         [0.11047871],\n",
       "         [0.11047871],\n",
       "         [0.96579514],\n",
       "         [0.96579514],\n",
       "         [0.6847571 ],\n",
       "         [0.6847571 ],\n",
       "         [0.42455873],\n",
       "         [0.42455873],\n",
       "         [0.59138438],\n",
       "         [0.59138438],\n",
       "         [0.44083802],\n",
       "         [0.44083802],\n",
       "         [0.09378052],\n",
       "         [0.09378052],\n",
       "         [0.65641183],\n",
       "         [0.65641183],\n",
       "         [0.15431079],\n",
       "         [0.15431079],\n",
       "         [0.85680231],\n",
       "         [0.85680231],\n",
       "         [0.59948583],\n",
       "         [0.59948583],\n",
       "         [0.74884703],\n",
       "         [0.74884703],\n",
       "         [0.265647  ],\n",
       "         [0.265647  ],\n",
       "         [0.74263256],\n",
       "         [0.74263256],\n",
       "         [0.33119796],\n",
       "         [0.33119796],\n",
       "         [0.45795295],\n",
       "         [0.45795295],\n",
       "         [0.78624357],\n",
       "         [0.78624357],\n",
       "         [0.71465443],\n",
       "         [0.71465443],\n",
       "         [0.25176559],\n",
       "         [0.25176559],\n",
       "         [0.01956809],\n",
       "         [0.01956809],\n",
       "         [0.25608153],\n",
       "         [0.25608153],\n",
       "         [0.64663177],\n",
       "         [0.64663177],\n",
       "         [0.21693932],\n",
       "         [0.21693932],\n",
       "         [0.30697256],\n",
       "         [0.30697256],\n",
       "         [0.78120983],\n",
       "         [0.78120983],\n",
       "         [0.63829292],\n",
       "         [0.63829292],\n",
       "         [0.61230245],\n",
       "         [0.61230245],\n",
       "         [0.63242237],\n",
       "         [0.63242237],\n",
       "         [0.37632177],\n",
       "         [0.37632177],\n",
       "         [0.51964475],\n",
       "         [0.51964475],\n",
       "         [0.91845204],\n",
       "         [0.91845204],\n",
       "         [0.01403503],\n",
       "         [0.01403503],\n",
       "         [0.85049512],\n",
       "         [0.85049512],\n",
       "         [0.59874157],\n",
       "         [0.59874157],\n",
       "         [0.24439779],\n",
       "         [0.24439779],\n",
       "         [0.41522021],\n",
       "         [0.41522021],\n",
       "         [0.4175612 ],\n",
       "         [0.4175612 ],\n",
       "         [0.17758369],\n",
       "         [0.17758369],\n",
       "         [0.04635896],\n",
       "         [0.04635896],\n",
       "         [0.88545619],\n",
       "         [0.88545619],\n",
       "         [0.46887276],\n",
       "         [0.46887276],\n",
       "         [0.57141461],\n",
       "         [0.57141461],\n",
       "         [0.17502412],\n",
       "         [0.17502412],\n",
       "         [0.68779616],\n",
       "         [0.68779616],\n",
       "         [0.54991996],\n",
       "         [0.54991996],\n",
       "         [0.41456525],\n",
       "         [0.41456525],\n",
       "         [0.78813518],\n",
       "         [0.78813518],\n",
       "         [0.44536724],\n",
       "         [0.44536724],\n",
       "         [0.09409363],\n",
       "         [0.09409363],\n",
       "         [0.83024047],\n",
       "         [0.83024047],\n",
       "         [0.12599506],\n",
       "         [0.12599506],\n",
       "         [0.53337092],\n",
       "         [0.53337092],\n",
       "         [0.70654636],\n",
       "         [0.70654636],\n",
       "         [0.41940214],\n",
       "         [0.41940214],\n",
       "         [0.27585014],\n",
       "         [0.27585014],\n",
       "         [0.12357401],\n",
       "         [0.12357401],\n",
       "         [0.06039951],\n",
       "         [0.06039951],\n",
       "         [0.871673  ],\n",
       "         [0.871673  ],\n",
       "         [0.22280028],\n",
       "         [0.22280028],\n",
       "         [0.97107991],\n",
       "         [0.97107991],\n",
       "         [0.28630519],\n",
       "         [0.28630519],\n",
       "         [0.52020793],\n",
       "         [0.52020793],\n",
       "         [0.05501785],\n",
       "         [0.05501785],\n",
       "         [0.78515972],\n",
       "         [0.78515972]])}}"
      ]
     },
     "execution_count": 1,
     "metadata": {},
     "output_type": "execute_result"
    }
   ],
   "source": [
    "ds = load_by_id(run_id_a)\n",
    "ds.get_parameter_data('x1')"
   ]
  },
  {
   "cell_type": "code",
   "execution_count": null,
   "metadata": {},
   "outputs": [],
   "source": []
  }
 ],
 "metadata": {
  "kernelspec": {
   "display_name": "Python 3",
   "language": "python",
   "name": "python3"
  },
  "language_info": {
   "codemirror_mode": {
    "name": "ipython",
    "version": 3
   },
   "file_extension": ".py",
   "mimetype": "text/x-python",
   "name": "python",
   "nbconvert_exporter": "python",
   "pygments_lexer": "ipython3",
   "version": "3.7.9"
  },
  "nbsphinx": {
   "timeout": 600
  },
  "toc": {
   "base_numbering": 1,
   "nav_menu": {},
   "number_sections": true,
   "sideBar": true,
   "skip_h1_title": false,
   "title_cell": "Table of Contents",
   "title_sidebar": "Contents",
   "toc_cell": false,
   "toc_position": {},
   "toc_section_display": true,
   "toc_window_display": false
  },
  "varInspector": {
   "cols": {
    "lenName": 16,
    "lenType": 16,
    "lenVar": 40
   },
   "kernels_config": {
    "python": {
     "delete_cmd_postfix": "",
     "delete_cmd_prefix": "del ",
     "library": "var_list.py",
     "varRefreshCmd": "print(var_dic_list())"
    },
    "r": {
     "delete_cmd_postfix": ") ",
     "delete_cmd_prefix": "rm(",
     "library": "var_list.r",
     "varRefreshCmd": "cat(var_dic_list()) "
    }
   },
   "types_to_exclude": [
    "module",
    "function",
    "builtin_function_or_method",
    "instance",
    "_Feature"
   ],
   "window_display": false
  }
 },
 "nbformat": 4,
 "nbformat_minor": 2
}
