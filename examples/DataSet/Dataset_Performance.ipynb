{
 "cells": [
  {
   "cell_type": "markdown",
   "metadata": {},
   "source": [
    "# DataSet Performance\n",
    "\n",
    "This notebook shows the trade-off between inserting data into a database row-by-row and as binary blobs. Inserting the data row-by-row means that we have direct access to all the data and may perform queries directly on the values of the data. On the other hand, as we shall see, this is much slower than inserting the data directly as binary blobs."
   ]
  },
  {
   "cell_type": "markdown",
   "metadata": {},
   "source": [
    "First, we choose a new location for the database to ensure that we don't add a bunch of benchmarking data to the default one."
   ]
  },
  {
   "cell_type": "code",
   "execution_count": 1,
   "metadata": {
    "execution": {
     "iopub.execute_input": "2021-04-28T07:52:36.879066Z",
     "iopub.status.busy": "2021-04-28T07:52:36.878460Z",
     "iopub.status.idle": "2021-04-28T07:52:37.968073Z",
     "shell.execute_reply": "2021-04-28T07:52:37.966939Z"
    }
   },
   "outputs": [
    {
     "name": "stdout",
     "output_type": "stream",
     "text": [
      "Logging hadn't been started.\n",
      "Activating auto-logging. Current session state plus future input saved.\n",
      "Filename       : /home/runner/.qcodes/logs/command_history.log\n",
      "Mode           : append\n",
      "Output logging : True\n",
      "Raw input log  : False\n",
      "Timestamping   : True\n",
      "State          : active\n"
     ]
    },
    {
     "name": "stdout",
     "output_type": "stream",
     "text": [
      "Qcodes Logfile : /home/runner/.qcodes/logs/210428-4477-qcodes.log\n"
     ]
    }
   ],
   "source": [
    "import os\n",
    "cwd = os.getcwd()\n",
    "import qcodes as qc\n",
    "qc.config[\"core\"][\"db_location\"] = os.path.join(cwd, 'testing.db')\n"
   ]
  },
  {
   "cell_type": "code",
   "execution_count": 2,
   "metadata": {
    "execution": {
     "iopub.execute_input": "2021-04-28T07:52:37.976122Z",
     "iopub.status.busy": "2021-04-28T07:52:37.973909Z",
     "iopub.status.idle": "2021-04-28T07:52:38.159529Z",
     "shell.execute_reply": "2021-04-28T07:52:38.158410Z"
    }
   },
   "outputs": [],
   "source": [
    "%matplotlib inline\n",
    "import time\n",
    "import matplotlib.pyplot as plt\n",
    "import numpy as np\n",
    "\n",
    "import qcodes as qc\n",
    "from qcodes.instrument.parameter import ManualParameter\n",
    "from qcodes.dataset.experiment_container import (Experiment,\n",
    "                                                 load_last_experiment,\n",
    "                                                 new_experiment)\n",
    "from qcodes.dataset.sqlite.database import initialise_database\n",
    "from qcodes import load_or_create_experiment\n",
    "from qcodes.dataset.measurements import Measurement"
   ]
  },
  {
   "cell_type": "code",
   "execution_count": 3,
   "metadata": {
    "execution": {
     "iopub.execute_input": "2021-04-28T07:52:38.163083Z",
     "iopub.status.busy": "2021-04-28T07:52:38.162580Z",
     "iopub.status.idle": "2021-04-28T07:52:38.309368Z",
     "shell.execute_reply": "2021-04-28T07:52:38.309772Z"
    }
   },
   "outputs": [
    {
     "name": "stdout",
     "output_type": "stream",
     "text": [
      "\r",
      "0it [00:00, ?it/s]"
     ]
    },
    {
     "name": "stdout",
     "output_type": "stream",
     "text": [
      "\r",
      "Upgrading database; v0 -> v1: : 0it [00:00, ?it/s]"
     ]
    },
    {
     "name": "stdout",
     "output_type": "stream",
     "text": [
      "\r",
      "Upgrading database; v0 -> v1: : 0it [00:00, ?it/s]"
     ]
    },
    {
     "name": "stdout",
     "output_type": "stream",
     "text": [
      "\n",
      "\r",
      "  0%|          | 0/1 [00:00<?, ?it/s]"
     ]
    },
    {
     "name": "stdout",
     "output_type": "stream",
     "text": [
      "\r",
      "Upgrading database; v1 -> v2:   0%|          | 0/1 [00:00<?, ?it/s]"
     ]
    },
    {
     "name": "stdout",
     "output_type": "stream",
     "text": [
      "\r",
      "Upgrading database; v1 -> v2: 100%|██████████| 1/1 [00:00<00:00, 592.16it/s]"
     ]
    },
    {
     "name": "stdout",
     "output_type": "stream",
     "text": [
      "\n",
      "\r",
      "0it [00:00, ?it/s]"
     ]
    },
    {
     "name": "stdout",
     "output_type": "stream",
     "text": [
      "\r",
      "Upgrading database; v2 -> v3: : 0it [00:00, ?it/s]"
     ]
    },
    {
     "name": "stdout",
     "output_type": "stream",
     "text": [
      "\r",
      "Upgrading database; v2 -> v3: : 0it [00:00, ?it/s]"
     ]
    },
    {
     "name": "stdout",
     "output_type": "stream",
     "text": [
      "\n",
      "\r",
      "0it [00:00, ?it/s]"
     ]
    },
    {
     "name": "stdout",
     "output_type": "stream",
     "text": [
      "\r",
      "Upgrading database; v3 -> v4: : 0it [00:00, ?it/s]"
     ]
    },
    {
     "name": "stdout",
     "output_type": "stream",
     "text": [
      "\r",
      "Upgrading database; v3 -> v4: : 0it [00:00, ?it/s]"
     ]
    },
    {
     "name": "stdout",
     "output_type": "stream",
     "text": [
      "\n",
      "\r",
      "  0%|          | 0/1 [00:00<?, ?it/s]"
     ]
    },
    {
     "name": "stdout",
     "output_type": "stream",
     "text": [
      "\r",
      "Upgrading database; v4 -> v5:   0%|          | 0/1 [00:00<?, ?it/s]"
     ]
    },
    {
     "name": "stdout",
     "output_type": "stream",
     "text": [
      "\r",
      "Upgrading database; v4 -> v5: 100%|██████████| 1/1 [00:00<00:00, 516.41it/s]"
     ]
    },
    {
     "name": "stdout",
     "output_type": "stream",
     "text": [
      "\n",
      "\r",
      "0it [00:00, ?it/s]"
     ]
    },
    {
     "name": "stdout",
     "output_type": "stream",
     "text": [
      "\r",
      "Upgrading database; v5 -> v6: : 0it [00:00, ?it/s]"
     ]
    },
    {
     "name": "stdout",
     "output_type": "stream",
     "text": [
      "\r",
      "Upgrading database; v5 -> v6: : 0it [00:00, ?it/s]"
     ]
    },
    {
     "name": "stdout",
     "output_type": "stream",
     "text": [
      "\n",
      "\r",
      "  0%|          | 0/1 [00:00<?, ?it/s]"
     ]
    },
    {
     "name": "stdout",
     "output_type": "stream",
     "text": [
      "\r",
      "Upgrading database; v6 -> v7:   0%|          | 0/1 [00:00<?, ?it/s]"
     ]
    },
    {
     "name": "stdout",
     "output_type": "stream",
     "text": [
      "\r",
      "Upgrading database; v6 -> v7: 100%|██████████| 1/1 [00:00<00:00, 239.99it/s]"
     ]
    },
    {
     "name": "stdout",
     "output_type": "stream",
     "text": [
      "\n",
      "\r",
      "  0%|          | 0/1 [00:00<?, ?it/s]"
     ]
    },
    {
     "name": "stdout",
     "output_type": "stream",
     "text": [
      "\r",
      "Upgrading database; v7 -> v8:   0%|          | 0/1 [00:00<?, ?it/s]"
     ]
    },
    {
     "name": "stdout",
     "output_type": "stream",
     "text": [
      "\r",
      "Upgrading database; v7 -> v8: 100%|██████████| 1/1 [00:00<00:00, 1164.11it/s]"
     ]
    },
    {
     "name": "stdout",
     "output_type": "stream",
     "text": [
      "\n",
      "\r",
      "  0%|          | 0/1 [00:00<?, ?it/s]"
     ]
    },
    {
     "name": "stdout",
     "output_type": "stream",
     "text": [
      "\r",
      "Upgrading database; v8 -> v9:   0%|          | 0/1 [00:00<?, ?it/s]"
     ]
    },
    {
     "name": "stdout",
     "output_type": "stream",
     "text": [
      "\r",
      "Upgrading database; v8 -> v9: 100%|██████████| 1/1 [00:00<00:00, 1562.71it/s]"
     ]
    },
    {
     "name": "stdout",
     "output_type": "stream",
     "text": [
      "\n"
     ]
    }
   ],
   "source": [
    "initialise_database()\n",
    "exp = load_or_create_experiment(experiment_name='tutorial_exp', sample_name=\"no sample\")"
   ]
  },
  {
   "cell_type": "markdown",
   "metadata": {},
   "source": [
    "Here, we define a simple function to benchmark the time it takes to insert n points with either numeric or array data type.\n",
    "We will compare both the time used to call ``add_result`` and the time used for the full measurement."
   ]
  },
  {
   "cell_type": "code",
   "execution_count": 4,
   "metadata": {
    "execution": {
     "iopub.execute_input": "2021-04-28T07:52:38.317554Z",
     "iopub.status.busy": "2021-04-28T07:52:38.316964Z",
     "iopub.status.idle": "2021-04-28T07:52:38.320183Z",
     "shell.execute_reply": "2021-04-28T07:52:38.320591Z"
    }
   },
   "outputs": [],
   "source": [
    "def insert_data(paramtype, npoints, nreps=1):\n",
    "\n",
    "    meas = Measurement(exp=exp)\n",
    "\n",
    "    x1 = ManualParameter('x1')\n",
    "    x2 = ManualParameter('x2')\n",
    "    x3 = ManualParameter('x3')\n",
    "    y1 = ManualParameter('y1')\n",
    "    y2 = ManualParameter('y2')\n",
    "\n",
    "    meas.register_parameter(x1, paramtype=paramtype)\n",
    "    meas.register_parameter(x2, paramtype=paramtype)\n",
    "    meas.register_parameter(x3, paramtype=paramtype)\n",
    "    meas.register_parameter(y1, setpoints=[x1, x2, x3],\n",
    "                            paramtype=paramtype)\n",
    "    meas.register_parameter(y2, setpoints=[x1, x2, x3],\n",
    "                            paramtype=paramtype)\n",
    "    start = time.perf_counter()\n",
    "    with meas.run() as datasaver:\n",
    "        start_adding = time.perf_counter()\n",
    "        for i in range(nreps):\n",
    "            datasaver.add_result((x1, np.random.rand(npoints)),\n",
    "                                 (x2, np.random.rand(npoints)),\n",
    "                                 (x3, np.random.rand(npoints)),\n",
    "                                 (y1, np.random.rand(npoints)),\n",
    "                                 (y2, np.random.rand(npoints)))\n",
    "        stop_adding = time.perf_counter()\n",
    "        run_id = datasaver.run_id\n",
    "    stop = time.perf_counter()\n",
    "    tot_time = stop - start\n",
    "    add_time = stop_adding - start_adding\n",
    "    return tot_time, add_time, run_id"
   ]
  },
  {
   "cell_type": "markdown",
   "metadata": {},
   "source": [
    "## Comparison between numeric/array data and binary blob"
   ]
  },
  {
   "cell_type": "markdown",
   "metadata": {},
   "source": [
    "### Case1: Short experiment time"
   ]
  },
  {
   "cell_type": "code",
   "execution_count": 5,
   "metadata": {
    "execution": {
     "iopub.execute_input": "2021-04-28T07:52:38.326769Z",
     "iopub.status.busy": "2021-04-28T07:52:38.326070Z",
     "iopub.status.idle": "2021-04-28T07:52:39.061210Z",
     "shell.execute_reply": "2021-04-28T07:52:39.060678Z"
    }
   },
   "outputs": [
    {
     "name": "stdout",
     "output_type": "stream",
     "text": [
      "Starting experimental run with id: 1. \n",
      "Starting experimental run with id: 2. \n",
      "Starting experimental run with id: 3. \n",
      "Starting experimental run with id: 4. \n"
     ]
    },
    {
     "name": "stdout",
     "output_type": "stream",
     "text": [
      "Starting experimental run with id: 5. \n"
     ]
    },
    {
     "name": "stdout",
     "output_type": "stream",
     "text": [
      "Starting experimental run with id: 6. \n"
     ]
    },
    {
     "name": "stdout",
     "output_type": "stream",
     "text": [
      "Starting experimental run with id: 7. \n"
     ]
    },
    {
     "name": "stdout",
     "output_type": "stream",
     "text": [
      "Starting experimental run with id: 8. \n",
      "Starting experimental run with id: 9. \n"
     ]
    },
    {
     "name": "stdout",
     "output_type": "stream",
     "text": [
      "Starting experimental run with id: 10. \n",
      "Starting experimental run with id: 11. \n"
     ]
    },
    {
     "name": "stdout",
     "output_type": "stream",
     "text": [
      "Starting experimental run with id: 12. \n",
      "Starting experimental run with id: 13. \n"
     ]
    },
    {
     "name": "stdout",
     "output_type": "stream",
     "text": [
      "Starting experimental run with id: 14. \n"
     ]
    }
   ],
   "source": [
    "sizes = [1,500,1000,2000,3000,4000,5000]\n",
    "t_numeric = []\n",
    "t_numeric_add = []\n",
    "t_array = []\n",
    "t_array_add = []\n",
    "for size in sizes:\n",
    "    tn, tna, run_id_n =  insert_data('numeric', size)\n",
    "    t_numeric.append(tn)\n",
    "    t_numeric_add.append(tna)\n",
    "\n",
    "    ta, taa, run_id_a =  insert_data('array', size)\n",
    "    t_array.append(ta)\n",
    "    t_array_add.append(taa)"
   ]
  },
  {
   "cell_type": "code",
   "execution_count": 6,
   "metadata": {
    "execution": {
     "iopub.execute_input": "2021-04-28T07:52:39.079490Z",
     "iopub.status.busy": "2021-04-28T07:52:39.079017Z",
     "iopub.status.idle": "2021-04-28T07:52:39.247387Z",
     "shell.execute_reply": "2021-04-28T07:52:39.248064Z"
    }
   },
   "outputs": [
    {
     "data": {
      "image/png": "[encoded data removed]",
      "text/plain": [
       "<Figure size 432x288 with 1 Axes>"
      ]
     },
     "metadata": {
      "needs_background": "light"
     },
     "output_type": "display_data"
    }
   ],
   "source": [
    "fig, ax = plt.subplots(1,1)\n",
    "ax.plot(sizes, t_numeric, 'o-', label='Inserting row-by-row')\n",
    "ax.plot(sizes, t_numeric_add, 'o-', label='Inserting row-by-row: add_result only')\n",
    "ax.plot(sizes, t_array, 'd-', label='Inserting as binary blob')\n",
    "ax.plot(sizes, t_array_add, 'd-', label='Inserting as binary blob: add_result only')\n",
    "ax.legend()\n",
    "ax.set_xlabel('Array length')\n",
    "ax.set_ylabel('Time (s)')\n",
    "fig.tight_layout()"
   ]
  },
  {
   "cell_type": "markdown",
   "metadata": {},
   "source": [
    "As shown in the latter figure, the time to setup and and close the experiment is approximately 0.4 sec. In case of small array sizes, the difference between inserting values of data as arrays and inserting them row-by-row is relatively unimportant. At larger array sizes, i.e. above 10000 points, the cost of writing data as individual datapoints starts to become important.\n"
   ]
  },
  {
   "cell_type": "markdown",
   "metadata": {},
   "source": [
    "### Case2: Long experiment time "
   ]
  },
  {
   "cell_type": "code",
   "execution_count": 7,
   "metadata": {
    "execution": {
     "iopub.execute_input": "2021-04-28T07:52:39.250775Z",
     "iopub.status.busy": "2021-04-28T07:52:39.250206Z",
     "iopub.status.idle": "2021-04-28T07:53:29.104991Z",
     "shell.execute_reply": "2021-04-28T07:53:29.104356Z"
    }
   },
   "outputs": [
    {
     "name": "stdout",
     "output_type": "stream",
     "text": [
      "Starting experimental run with id: 15. \n",
      "Starting experimental run with id: 16. \n",
      "Starting experimental run with id: 17. \n"
     ]
    },
    {
     "name": "stdout",
     "output_type": "stream",
     "text": [
      "Starting experimental run with id: 18. \n",
      "Starting experimental run with id: 19. \n"
     ]
    },
    {
     "name": "stdout",
     "output_type": "stream",
     "text": [
      "Starting experimental run with id: 20. \n"
     ]
    },
    {
     "name": "stdout",
     "output_type": "stream",
     "text": [
      "Starting experimental run with id: 21. \n"
     ]
    },
    {
     "name": "stdout",
     "output_type": "stream",
     "text": [
      "Starting experimental run with id: 22. \n"
     ]
    },
    {
     "name": "stdout",
     "output_type": "stream",
     "text": [
      "Starting experimental run with id: 23. \n"
     ]
    },
    {
     "name": "stdout",
     "output_type": "stream",
     "text": [
      "Starting experimental run with id: 24. \n"
     ]
    },
    {
     "name": "stdout",
     "output_type": "stream",
     "text": [
      "Starting experimental run with id: 25. \n"
     ]
    },
    {
     "name": "stdout",
     "output_type": "stream",
     "text": [
      "Starting experimental run with id: 26. \n"
     ]
    },
    {
     "name": "stdout",
     "output_type": "stream",
     "text": [
      "Starting experimental run with id: 27. \n"
     ]
    },
    {
     "name": "stdout",
     "output_type": "stream",
     "text": [
      "Starting experimental run with id: 28. \n"
     ]
    }
   ],
   "source": [
    "sizes = [1,500,1000,2000,3000,4000,5000]\n",
    "nreps = 100\n",
    "t_numeric = []\n",
    "t_numeric_add = []\n",
    "t_numeric_run_ids = []\n",
    "t_array = []\n",
    "t_array_add = []\n",
    "t_array_run_ids = []\n",
    "for size in sizes:\n",
    "    tn, tna, run_id_n =  insert_data('numeric', size, nreps=nreps)\n",
    "    t_numeric.append(tn)\n",
    "    t_numeric_add.append(tna)\n",
    "    t_numeric_run_ids.append(run_id_n)\n",
    "\n",
    "    ta, taa, run_id_a =  insert_data('array', size, nreps=nreps)\n",
    "    t_array.append(ta)\n",
    "    t_array_add.append(taa)\n",
    "    t_array_run_ids.append(run_id_a)"
   ]
  },
  {
   "cell_type": "code",
   "execution_count": 8,
   "metadata": {
    "execution": {
     "iopub.execute_input": "2021-04-28T07:53:29.130235Z",
     "iopub.status.busy": "2021-04-28T07:53:29.110412Z",
     "iopub.status.idle": "2021-04-28T07:53:29.275710Z",
     "shell.execute_reply": "2021-04-28T07:53:29.276475Z"
    },
    "scrolled": true
   },
   "outputs": [
    {
     "data": {
      "image/png": "[encoded data removed]",
      "text/plain": [
       "<Figure size 432x288 with 1 Axes>"
      ]
     },
     "metadata": {
      "needs_background": "light"
     },
     "output_type": "display_data"
    }
   ],
   "source": [
    "fig, ax = plt.subplots(1,1)\n",
    "ax.plot(sizes, t_numeric, 'o-', label='Inserting row-by-row')\n",
    "ax.plot(sizes, t_numeric_add, 'o-', label='Inserting row-by-row: add_result only')\n",
    "ax.plot(sizes, t_array, 'd-', label='Inserting as binary blob')\n",
    "ax.plot(sizes, t_array_add, 'd-', label='Inserting as binary blob: add_result only')\n",
    "ax.legend()\n",
    "ax.set_xlabel('Array length')\n",
    "ax.set_ylabel('Time (s)')\n",
    "fig.tight_layout()"
   ]
  },
  {
   "cell_type": "markdown",
   "metadata": {},
   "source": [
    "However, as we increase the length of the experiment, as seen here by repeating the insertion 100 times, we see a big difference between inserting values of the data row-by-row and inserting it as a binary blob."
   ]
  },
  {
   "cell_type": "markdown",
   "metadata": {},
   "source": [
    "## Loading the data "
   ]
  },
  {
   "cell_type": "code",
   "execution_count": 9,
   "metadata": {
    "execution": {
     "iopub.execute_input": "2021-04-28T07:53:29.279869Z",
     "iopub.status.busy": "2021-04-28T07:53:29.278886Z",
     "iopub.status.idle": "2021-04-28T07:53:29.282770Z",
     "shell.execute_reply": "2021-04-28T07:53:29.283312Z"
    }
   },
   "outputs": [],
   "source": [
    "from qcodes.dataset.data_set import load_by_id"
   ]
  },
  {
   "cell_type": "markdown",
   "metadata": {},
   "source": [
    "As usual you can load the data by using the ``load_by_id`` function but you will notice that the different storage methods\n",
    "are reflected in shape of the data as it is retrieved. "
   ]
  },
  {
   "cell_type": "code",
   "execution_count": 10,
   "metadata": {
    "execution": {
     "iopub.execute_input": "2021-04-28T07:53:29.286927Z",
     "iopub.status.busy": "2021-04-28T07:53:29.285215Z",
     "iopub.status.idle": "2021-04-28T07:53:29.289046Z",
     "shell.execute_reply": "2021-04-28T07:53:29.290002Z"
    }
   },
   "outputs": [],
   "source": [
    "run_id_n = t_numeric_run_ids[0]\n",
    "run_id_a = t_array_run_ids[0]"
   ]
  },
  {
   "cell_type": "code",
   "execution_count": 11,
   "metadata": {
    "execution": {
     "iopub.execute_input": "2021-04-28T07:53:29.292465Z",
     "iopub.status.busy": "2021-04-28T07:53:29.292006Z",
     "iopub.status.idle": "2021-04-28T07:53:29.303255Z",
     "shell.execute_reply": "2021-04-28T07:53:29.302349Z"
    },
    "scrolled": true
   },
   "outputs": [
    {
     "data": {
      "text/plain": [
       "{'x1': {'x1': array([0.90039558, 0.90039558, 0.96914226, 0.96914226, 0.91256607,\n",
       "         0.91256607, 0.51655948, 0.51655948, 0.12107172, 0.12107172,\n",
       "         0.4728903 , 0.4728903 , 0.02105117, 0.02105117, 0.10369561,\n",
       "         0.10369561, 0.05742334, 0.05742334, 0.5131688 , 0.5131688 ,\n",
       "         0.45975741, 0.45975741, 0.66011673, 0.66011673, 0.93596857,\n",
       "         0.93596857, 0.08834927, 0.08834927, 0.09741593, 0.09741593,\n",
       "         0.629596  , 0.629596  , 0.48702824, 0.48702824, 0.82635109,\n",
       "         0.82635109, 0.39831542, 0.39831542, 0.09481992, 0.09481992,\n",
       "         0.17545476, 0.17545476, 0.18882989, 0.18882989, 0.95839933,\n",
       "         0.95839933, 0.00325466, 0.00325466, 0.03578585, 0.03578585,\n",
       "         0.28491857, 0.28491857, 0.07755071, 0.07755071, 0.37503796,\n",
       "         0.37503796, 0.63178455, 0.63178455, 0.42253706, 0.42253706,\n",
       "         0.11072867, 0.11072867, 0.98178178, 0.98178178, 0.46978899,\n",
       "         0.46978899, 0.83654399, 0.83654399, 0.19499625, 0.19499625,\n",
       "         0.2066727 , 0.2066727 , 0.17839419, 0.17839419, 0.9870068 ,\n",
       "         0.9870068 , 0.40374161, 0.40374161, 0.14440885, 0.14440885,\n",
       "         0.51614518, 0.51614518, 0.63365989, 0.63365989, 0.15860217,\n",
       "         0.15860217, 0.12747715, 0.12747715, 0.03413541, 0.03413541,\n",
       "         0.95842032, 0.95842032, 0.06344342, 0.06344342, 0.92292754,\n",
       "         0.92292754, 0.07757677, 0.07757677, 0.9859878 , 0.9859878 ,\n",
       "         0.89718825, 0.89718825, 0.08417293, 0.08417293, 0.06848745,\n",
       "         0.06848745, 0.14811823, 0.14811823, 0.84925927, 0.84925927,\n",
       "         0.06249629, 0.06249629, 0.80597314, 0.80597314, 0.88080505,\n",
       "         0.88080505, 0.54586505, 0.54586505, 0.78775194, 0.78775194,\n",
       "         0.16123262, 0.16123262, 0.42547208, 0.42547208, 0.23636113,\n",
       "         0.23636113, 0.63510323, 0.63510323, 0.19533994, 0.19533994,\n",
       "         0.41383267, 0.41383267, 0.71127336, 0.71127336, 0.95585493,\n",
       "         0.95585493, 0.6074405 , 0.6074405 , 0.78379011, 0.78379011,\n",
       "         0.70155109, 0.70155109, 0.25914393, 0.25914393, 0.43374583,\n",
       "         0.43374583, 0.49606824, 0.49606824, 0.15208735, 0.15208735,\n",
       "         0.87948654, 0.87948654, 0.93436061, 0.93436061, 0.56883801,\n",
       "         0.56883801, 0.08829124, 0.08829124, 0.04824142, 0.04824142,\n",
       "         0.00577892, 0.00577892, 0.80110299, 0.80110299, 0.57270946,\n",
       "         0.57270946, 0.94559018, 0.94559018, 0.69364614, 0.69364614,\n",
       "         0.09635381, 0.09635381, 0.45360704, 0.45360704, 0.24845112,\n",
       "         0.24845112, 0.64830123, 0.64830123, 0.7253299 , 0.7253299 ,\n",
       "         0.21969882, 0.21969882, 0.68973259, 0.68973259, 0.17804592,\n",
       "         0.17804592, 0.97724669, 0.97724669, 0.41295366, 0.41295366,\n",
       "         0.51767297, 0.51767297, 0.12205087, 0.12205087, 0.71973443,\n",
       "         0.71973443, 0.86965229, 0.86965229, 0.69029075, 0.69029075])}}"
      ]
     },
     "execution_count": 1,
     "metadata": {},
     "output_type": "execute_result"
    }
   ],
   "source": [
    "ds = load_by_id(run_id_n)\n",
    "ds.get_parameter_data('x1')"
   ]
  },
  {
   "cell_type": "markdown",
   "metadata": {},
   "source": [
    "And a dataset stored as binary arrays"
   ]
  },
  {
   "cell_type": "code",
   "execution_count": 12,
   "metadata": {
    "execution": {
     "iopub.execute_input": "2021-04-28T07:53:29.306424Z",
     "iopub.status.busy": "2021-04-28T07:53:29.305979Z",
     "iopub.status.idle": "2021-04-28T07:53:29.357514Z",
     "shell.execute_reply": "2021-04-28T07:53:29.357008Z"
    },
    "scrolled": true
   },
   "outputs": [
    {
     "data": {
      "text/plain": [
       "{'x1': {'x1': array([[0.07508056],\n",
       "         [0.07508056],\n",
       "         [0.86733834],\n",
       "         [0.86733834],\n",
       "         [0.53260531],\n",
       "         [0.53260531],\n",
       "         [0.67554329],\n",
       "         [0.67554329],\n",
       "         [0.89842334],\n",
       "         [0.89842334],\n",
       "         [0.45047484],\n",
       "         [0.45047484],\n",
       "         [0.45735752],\n",
       "         [0.45735752],\n",
       "         [0.7276037 ],\n",
       "         [0.7276037 ],\n",
       "         [0.17826229],\n",
       "         [0.17826229],\n",
       "         [0.10689051],\n",
       "         [0.10689051],\n",
       "         [0.90240016],\n",
       "         [0.90240016],\n",
       "         [0.83897123],\n",
       "         [0.83897123],\n",
       "         [0.95286649],\n",
       "         [0.95286649],\n",
       "         [0.99670513],\n",
       "         [0.99670513],\n",
       "         [0.34738898],\n",
       "         [0.34738898],\n",
       "         [0.10022169],\n",
       "         [0.10022169],\n",
       "         [0.19279121],\n",
       "         [0.19279121],\n",
       "         [0.75056691],\n",
       "         [0.75056691],\n",
       "         [0.85063258],\n",
       "         [0.85063258],\n",
       "         [0.2095265 ],\n",
       "         [0.2095265 ],\n",
       "         [0.90648658],\n",
       "         [0.90648658],\n",
       "         [0.3318234 ],\n",
       "         [0.3318234 ],\n",
       "         [0.87184636],\n",
       "         [0.87184636],\n",
       "         [0.40689731],\n",
       "         [0.40689731],\n",
       "         [0.74935525],\n",
       "         [0.74935525],\n",
       "         [0.51007311],\n",
       "         [0.51007311],\n",
       "         [0.99024254],\n",
       "         [0.99024254],\n",
       "         [0.19597742],\n",
       "         [0.19597742],\n",
       "         [0.24148883],\n",
       "         [0.24148883],\n",
       "         [0.30895847],\n",
       "         [0.30895847],\n",
       "         [0.16846029],\n",
       "         [0.16846029],\n",
       "         [0.04161834],\n",
       "         [0.04161834],\n",
       "         [0.88655572],\n",
       "         [0.88655572],\n",
       "         [0.35944595],\n",
       "         [0.35944595],\n",
       "         [0.52266214],\n",
       "         [0.52266214],\n",
       "         [0.27470654],\n",
       "         [0.27470654],\n",
       "         [0.24574426],\n",
       "         [0.24574426],\n",
       "         [0.44138318],\n",
       "         [0.44138318],\n",
       "         [0.21765675],\n",
       "         [0.21765675],\n",
       "         [0.03880755],\n",
       "         [0.03880755],\n",
       "         [0.96683978],\n",
       "         [0.96683978],\n",
       "         [0.59227519],\n",
       "         [0.59227519],\n",
       "         [0.66795978],\n",
       "         [0.66795978],\n",
       "         [0.9240164 ],\n",
       "         [0.9240164 ],\n",
       "         [0.69214955],\n",
       "         [0.69214955],\n",
       "         [0.75138439],\n",
       "         [0.75138439],\n",
       "         [0.5656335 ],\n",
       "         [0.5656335 ],\n",
       "         [0.74690392],\n",
       "         [0.74690392],\n",
       "         [0.32315742],\n",
       "         [0.32315742],\n",
       "         [0.66649376],\n",
       "         [0.66649376],\n",
       "         [0.36722821],\n",
       "         [0.36722821],\n",
       "         [0.65519639],\n",
       "         [0.65519639],\n",
       "         [0.23284271],\n",
       "         [0.23284271],\n",
       "         [0.32823199],\n",
       "         [0.32823199],\n",
       "         [0.45344361],\n",
       "         [0.45344361],\n",
       "         [0.96532165],\n",
       "         [0.96532165],\n",
       "         [0.35902331],\n",
       "         [0.35902331],\n",
       "         [0.65896603],\n",
       "         [0.65896603],\n",
       "         [0.20639068],\n",
       "         [0.20639068],\n",
       "         [0.22563243],\n",
       "         [0.22563243],\n",
       "         [0.67665835],\n",
       "         [0.67665835],\n",
       "         [0.10406229],\n",
       "         [0.10406229],\n",
       "         [0.91684088],\n",
       "         [0.91684088],\n",
       "         [0.76280435],\n",
       "         [0.76280435],\n",
       "         [0.25998101],\n",
       "         [0.25998101],\n",
       "         [0.35353006],\n",
       "         [0.35353006],\n",
       "         [0.55402036],\n",
       "         [0.55402036],\n",
       "         [0.38232844],\n",
       "         [0.38232844],\n",
       "         [0.89864221],\n",
       "         [0.89864221],\n",
       "         [0.26156365],\n",
       "         [0.26156365],\n",
       "         [0.74786258],\n",
       "         [0.74786258],\n",
       "         [0.9062145 ],\n",
       "         [0.9062145 ],\n",
       "         [0.3472143 ],\n",
       "         [0.3472143 ],\n",
       "         [0.67367748],\n",
       "         [0.67367748],\n",
       "         [0.82114425],\n",
       "         [0.82114425],\n",
       "         [0.86023863],\n",
       "         [0.86023863],\n",
       "         [0.96824529],\n",
       "         [0.96824529],\n",
       "         [0.48001763],\n",
       "         [0.48001763],\n",
       "         [0.85011158],\n",
       "         [0.85011158],\n",
       "         [0.93859325],\n",
       "         [0.93859325],\n",
       "         [0.02329294],\n",
       "         [0.02329294],\n",
       "         [0.27595045],\n",
       "         [0.27595045],\n",
       "         [0.22902535],\n",
       "         [0.22902535],\n",
       "         [0.34622966],\n",
       "         [0.34622966],\n",
       "         [0.64601665],\n",
       "         [0.64601665],\n",
       "         [0.87779493],\n",
       "         [0.87779493],\n",
       "         [0.96976519],\n",
       "         [0.96976519],\n",
       "         [0.69024983],\n",
       "         [0.69024983],\n",
       "         [0.61096201],\n",
       "         [0.61096201],\n",
       "         [0.03007482],\n",
       "         [0.03007482],\n",
       "         [0.61550922],\n",
       "         [0.61550922],\n",
       "         [0.51159609],\n",
       "         [0.51159609],\n",
       "         [0.07583596],\n",
       "         [0.07583596],\n",
       "         [0.41467563],\n",
       "         [0.41467563],\n",
       "         [0.17600918],\n",
       "         [0.17600918],\n",
       "         [0.63967227],\n",
       "         [0.63967227],\n",
       "         [0.00519189],\n",
       "         [0.00519189],\n",
       "         [0.88396853],\n",
       "         [0.88396853],\n",
       "         [0.0957969 ],\n",
       "         [0.0957969 ],\n",
       "         [0.76527866],\n",
       "         [0.76527866]])}}"
      ]
     },
     "execution_count": 1,
     "metadata": {},
     "output_type": "execute_result"
    }
   ],
   "source": [
    "ds = load_by_id(run_id_a)\n",
    "ds.get_parameter_data('x1')"
   ]
  },
  {
   "cell_type": "code",
   "execution_count": null,
   "metadata": {},
   "outputs": [],
   "source": []
  }
 ],
 "metadata": {
  "kernelspec": {
   "display_name": "Python 3",
   "language": "python",
   "name": "python3"
  },
  "language_info": {
   "codemirror_mode": {
    "name": "ipython",
    "version": 3
   },
   "file_extension": ".py",
   "mimetype": "text/x-python",
   "name": "python",
   "nbconvert_exporter": "python",
   "pygments_lexer": "ipython3",
   "version": "3.7.10"
  },
  "nbsphinx": {
   "timeout": 600
  },
  "toc": {
   "base_numbering": 1,
   "nav_menu": {},
   "number_sections": true,
   "sideBar": true,
   "skip_h1_title": false,
   "title_cell": "Table of Contents",
   "title_sidebar": "Contents",
   "toc_cell": false,
   "toc_position": {},
   "toc_section_display": true,
   "toc_window_display": false
  },
  "varInspector": {
   "cols": {
    "lenName": 16,
    "lenType": 16,
    "lenVar": 40
   },
   "kernels_config": {
    "python": {
     "delete_cmd_postfix": "",
     "delete_cmd_prefix": "del ",
     "library": "var_list.py",
     "varRefreshCmd": "print(var_dic_list())"
    },
    "r": {
     "delete_cmd_postfix": ") ",
     "delete_cmd_prefix": "rm(",
     "library": "var_list.r",
     "varRefreshCmd": "cat(var_dic_list()) "
    }
   },
   "types_to_exclude": [
    "module",
    "function",
    "builtin_function_or_method",
    "instance",
    "_Feature"
   ],
   "window_display": false
  }
 },
 "nbformat": 4,
 "nbformat_minor": 4
}
