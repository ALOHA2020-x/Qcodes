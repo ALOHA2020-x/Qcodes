{
 "cells": [
  {
   "cell_type": "markdown",
   "metadata": {},
   "source": [
    "# DataSet Performance\n",
    "\n",
    "This notebook shows the trade-off between inserting data into a database row-by-row and as binary blobs. Inserting the data row-by-row means that we have direct access to all the data and may perform queries directly on the values of the data. On the other hand, as we shall see, this is much slower than inserting the data directly as binary blobs."
   ]
  },
  {
   "cell_type": "markdown",
   "metadata": {},
   "source": [
    "First, we choose a new location for the database to ensure that we don't add a bunch of benchmarking data to the default one."
   ]
  },
  {
   "cell_type": "code",
   "execution_count": 1,
   "metadata": {
    "execution": {
     "iopub.execute_input": "2020-10-09T12:41:51.864768Z",
     "iopub.status.busy": "2020-10-09T12:41:51.863842Z",
     "iopub.status.idle": "2020-10-09T12:41:53.069746Z",
     "shell.execute_reply": "2020-10-09T12:41:53.069117Z"
    }
   },
   "outputs": [
    {
     "name": "stdout",
     "output_type": "stream",
     "text": [
      "Logging hadn't been started.\n",
      "Activating auto-logging. Current session state plus future input saved.\n",
      "Filename       : /home/vsts/.qcodes/logs/command_history.log\n",
      "Mode           : append\n",
      "Output logging : True\n",
      "Raw input log  : False\n",
      "Timestamping   : True\n",
      "State          : active\n"
     ]
    },
    {
     "name": "stdout",
     "output_type": "stream",
     "text": [
      "Qcodes Logfile : /home/vsts/.qcodes/logs/201009-15728-qcodes.log\n"
     ]
    }
   ],
   "source": [
    "import os\n",
    "cwd = os.getcwd()\n",
    "import qcodes as qc\n",
    "qc.config[\"core\"][\"db_location\"] = os.path.join(cwd, 'testing.db')\n"
   ]
  },
  {
   "cell_type": "code",
   "execution_count": 2,
   "metadata": {
    "execution": {
     "iopub.execute_input": "2020-10-09T12:41:53.077625Z",
     "iopub.status.busy": "2020-10-09T12:41:53.076447Z",
     "iopub.status.idle": "2020-10-09T12:41:53.285388Z",
     "shell.execute_reply": "2020-10-09T12:41:53.285934Z"
    }
   },
   "outputs": [],
   "source": [
    "%matplotlib inline\n",
    "import time\n",
    "import matplotlib.pyplot as plt\n",
    "import numpy as np\n",
    "\n",
    "import qcodes as qc\n",
    "from qcodes.instrument.parameter import ManualParameter\n",
    "from qcodes.dataset.experiment_container import (Experiment,\n",
    "                                                 load_last_experiment,\n",
    "                                                 new_experiment)\n",
    "from qcodes.dataset.sqlite.database import initialise_database\n",
    "from qcodes import load_or_create_experiment\n",
    "from qcodes.dataset.measurements import Measurement"
   ]
  },
  {
   "cell_type": "code",
   "execution_count": 3,
   "metadata": {
    "execution": {
     "iopub.execute_input": "2020-10-09T12:41:53.290482Z",
     "iopub.status.busy": "2020-10-09T12:41:53.289315Z",
     "iopub.status.idle": "2020-10-09T12:41:53.416512Z",
     "shell.execute_reply": "2020-10-09T12:41:53.415809Z"
    }
   },
   "outputs": [
    {
     "name": "stdout",
     "output_type": "stream",
     "text": [
      "\r",
      "0it [00:00, ?it/s]"
     ]
    },
    {
     "name": "stdout",
     "output_type": "stream",
     "text": [
      "\r",
      "Upgrading database; v0 -> v1: : 0it [00:00, ?it/s]"
     ]
    },
    {
     "name": "stdout",
     "output_type": "stream",
     "text": [
      "\r",
      "Upgrading database; v0 -> v1: : 0it [00:00, ?it/s]"
     ]
    },
    {
     "name": "stdout",
     "output_type": "stream",
     "text": [
      "\n",
      "\r",
      "  0%|          | 0/1 [00:00<?, ?it/s]"
     ]
    },
    {
     "name": "stdout",
     "output_type": "stream",
     "text": [
      "\r",
      "Upgrading database; v1 -> v2:   0%|          | 0/1 [00:00<?, ?it/s]"
     ]
    },
    {
     "name": "stdout",
     "output_type": "stream",
     "text": [
      "\r",
      "Upgrading database; v1 -> v2: 100%|██████████| 1/1 [00:00<00:00, 397.49it/s]"
     ]
    },
    {
     "name": "stdout",
     "output_type": "stream",
     "text": [
      "\n",
      "\r",
      "0it [00:00, ?it/s]"
     ]
    },
    {
     "name": "stdout",
     "output_type": "stream",
     "text": [
      "\r",
      "Upgrading database; v2 -> v3: : 0it [00:00, ?it/s]"
     ]
    },
    {
     "name": "stdout",
     "output_type": "stream",
     "text": [
      "\r",
      "Upgrading database; v2 -> v3: : 0it [00:00, ?it/s]"
     ]
    },
    {
     "name": "stdout",
     "output_type": "stream",
     "text": [
      "\n",
      "\r",
      "0it [00:00, ?it/s]"
     ]
    },
    {
     "name": "stdout",
     "output_type": "stream",
     "text": [
      "\r",
      "Upgrading database; v3 -> v4: : 0it [00:00, ?it/s]"
     ]
    },
    {
     "name": "stdout",
     "output_type": "stream",
     "text": [
      "\r",
      "Upgrading database; v3 -> v4: : 0it [00:00, ?it/s]"
     ]
    },
    {
     "name": "stdout",
     "output_type": "stream",
     "text": [
      "\n",
      "\r",
      "  0%|          | 0/1 [00:00<?, ?it/s]"
     ]
    },
    {
     "name": "stdout",
     "output_type": "stream",
     "text": [
      "\r",
      "Upgrading database; v4 -> v5:   0%|          | 0/1 [00:00<?, ?it/s]"
     ]
    },
    {
     "name": "stdout",
     "output_type": "stream",
     "text": [
      "\r",
      "Upgrading database; v4 -> v5: 100%|██████████| 1/1 [00:00<00:00, 388.33it/s]"
     ]
    },
    {
     "name": "stdout",
     "output_type": "stream",
     "text": [
      "\n",
      "\r",
      "0it [00:00, ?it/s]"
     ]
    },
    {
     "name": "stdout",
     "output_type": "stream",
     "text": [
      "\r",
      "Upgrading database; v5 -> v6: : 0it [00:00, ?it/s]"
     ]
    },
    {
     "name": "stdout",
     "output_type": "stream",
     "text": [
      "\r",
      "Upgrading database; v5 -> v6: : 0it [00:00, ?it/s]"
     ]
    },
    {
     "name": "stdout",
     "output_type": "stream",
     "text": [
      "\n",
      "\r",
      "  0%|          | 0/1 [00:00<?, ?it/s]"
     ]
    },
    {
     "name": "stdout",
     "output_type": "stream",
     "text": [
      "\r",
      "Upgrading database; v6 -> v7:   0%|          | 0/1 [00:00<?, ?it/s]"
     ]
    },
    {
     "name": "stdout",
     "output_type": "stream",
     "text": [
      "\r",
      "Upgrading database; v6 -> v7: 100%|██████████| 1/1 [00:00<00:00, 242.89it/s]"
     ]
    },
    {
     "name": "stdout",
     "output_type": "stream",
     "text": [
      "\n",
      "\r",
      "  0%|          | 0/1 [00:00<?, ?it/s]"
     ]
    },
    {
     "name": "stdout",
     "output_type": "stream",
     "text": [
      "\r",
      "Upgrading database; v7 -> v8:   0%|          | 0/1 [00:00<?, ?it/s]"
     ]
    },
    {
     "name": "stdout",
     "output_type": "stream",
     "text": [
      "\r",
      "Upgrading database; v7 -> v8: 100%|██████████| 1/1 [00:00<00:00, 804.12it/s]"
     ]
    },
    {
     "name": "stdout",
     "output_type": "stream",
     "text": [
      "\n",
      "\r",
      "  0%|          | 0/1 [00:00<?, ?it/s]"
     ]
    },
    {
     "name": "stdout",
     "output_type": "stream",
     "text": [
      "\r",
      "Upgrading database; v8 -> v9:   0%|          | 0/1 [00:00<?, ?it/s]"
     ]
    },
    {
     "name": "stdout",
     "output_type": "stream",
     "text": [
      "\r",
      "Upgrading database; v8 -> v9: 100%|██████████| 1/1 [00:00<00:00, 501.29it/s]"
     ]
    },
    {
     "name": "stdout",
     "output_type": "stream",
     "text": [
      "\n"
     ]
    }
   ],
   "source": [
    "initialise_database()\n",
    "exp = load_or_create_experiment(experiment_name='tutorial_exp', sample_name=\"no sample\")"
   ]
  },
  {
   "cell_type": "markdown",
   "metadata": {},
   "source": [
    "Here, we define a simple function to benchmark the time it takes to insert n points with either numeric or array data type.\n",
    "We will compare both the time used to call ``add_result`` and the time used for the full measurement."
   ]
  },
  {
   "cell_type": "code",
   "execution_count": 4,
   "metadata": {
    "execution": {
     "iopub.execute_input": "2020-10-09T12:41:53.425371Z",
     "iopub.status.busy": "2020-10-09T12:41:53.424243Z",
     "iopub.status.idle": "2020-10-09T12:41:53.428035Z",
     "shell.execute_reply": "2020-10-09T12:41:53.428727Z"
    }
   },
   "outputs": [],
   "source": [
    "def insert_data(paramtype, npoints, nreps=1):\n",
    "\n",
    "    meas = Measurement(exp=exp)\n",
    "\n",
    "    x1 = ManualParameter('x1')\n",
    "    x2 = ManualParameter('x2')\n",
    "    x3 = ManualParameter('x3')\n",
    "    y1 = ManualParameter('y1')\n",
    "    y2 = ManualParameter('y2')\n",
    "\n",
    "    meas.register_parameter(x1, paramtype=paramtype)\n",
    "    meas.register_parameter(x2, paramtype=paramtype)\n",
    "    meas.register_parameter(x3, paramtype=paramtype)\n",
    "    meas.register_parameter(y1, setpoints=[x1, x2, x3],\n",
    "                            paramtype=paramtype)\n",
    "    meas.register_parameter(y2, setpoints=[x1, x2, x3],\n",
    "                            paramtype=paramtype)\n",
    "    start = time.perf_counter()\n",
    "    with meas.run() as datasaver:\n",
    "        start_adding = time.perf_counter()\n",
    "        for i in range(nreps):\n",
    "            datasaver.add_result((x1, np.random.rand(npoints)),\n",
    "                                 (x2, np.random.rand(npoints)),\n",
    "                                 (x3, np.random.rand(npoints)),\n",
    "                                 (y1, np.random.rand(npoints)),\n",
    "                                 (y2, np.random.rand(npoints)))\n",
    "        stop_adding = time.perf_counter()\n",
    "        run_id = datasaver.run_id\n",
    "    stop = time.perf_counter()\n",
    "    tot_time = stop - start\n",
    "    add_time = stop_adding - start_adding\n",
    "    return tot_time, add_time, run_id"
   ]
  },
  {
   "cell_type": "markdown",
   "metadata": {},
   "source": [
    "## Comparison between numeric/array data and binary blob"
   ]
  },
  {
   "cell_type": "markdown",
   "metadata": {},
   "source": [
    "### Case1: Short experiment time"
   ]
  },
  {
   "cell_type": "code",
   "execution_count": 5,
   "metadata": {
    "execution": {
     "iopub.execute_input": "2020-10-09T12:41:53.438750Z",
     "iopub.status.busy": "2020-10-09T12:41:53.437541Z",
     "iopub.status.idle": "2020-10-09T12:41:54.369696Z",
     "shell.execute_reply": "2020-10-09T12:41:54.369075Z"
    }
   },
   "outputs": [
    {
     "name": "stdout",
     "output_type": "stream",
     "text": [
      "Starting experimental run with id: 1. \n",
      "Starting experimental run with id: 2. \n",
      "Starting experimental run with id: 3. \n",
      "Starting experimental run with id: 4. \n"
     ]
    },
    {
     "name": "stdout",
     "output_type": "stream",
     "text": [
      "Starting experimental run with id: 5. \n"
     ]
    },
    {
     "name": "stdout",
     "output_type": "stream",
     "text": [
      "Starting experimental run with id: 6. \n",
      "Starting experimental run with id: 7. \n"
     ]
    },
    {
     "name": "stdout",
     "output_type": "stream",
     "text": [
      "Starting experimental run with id: 8. \n"
     ]
    },
    {
     "name": "stdout",
     "output_type": "stream",
     "text": [
      "Starting experimental run with id: 9. \n"
     ]
    },
    {
     "name": "stdout",
     "output_type": "stream",
     "text": [
      "Starting experimental run with id: 10. \n",
      "Starting experimental run with id: 11. \n"
     ]
    },
    {
     "name": "stdout",
     "output_type": "stream",
     "text": [
      "Starting experimental run with id: 12. \n"
     ]
    },
    {
     "name": "stdout",
     "output_type": "stream",
     "text": [
      "Starting experimental run with id: 13. \n"
     ]
    },
    {
     "name": "stdout",
     "output_type": "stream",
     "text": [
      "Starting experimental run with id: 14. \n"
     ]
    }
   ],
   "source": [
    "sizes = [1,500,1000,2000,3000,4000,5000]\n",
    "t_numeric = []\n",
    "t_numeric_add = []\n",
    "t_array = []\n",
    "t_array_add = []\n",
    "for size in sizes:\n",
    "    tn, tna, run_id_n =  insert_data('numeric', size)\n",
    "    t_numeric.append(tn)\n",
    "    t_numeric_add.append(tna)\n",
    "\n",
    "    ta, taa, run_id_a =  insert_data('array', size)\n",
    "    t_array.append(ta)\n",
    "    t_array_add.append(taa)"
   ]
  },
  {
   "cell_type": "code",
   "execution_count": 6,
   "metadata": {
    "execution": {
     "iopub.execute_input": "2020-10-09T12:41:54.394405Z",
     "iopub.status.busy": "2020-10-09T12:41:54.393736Z",
     "iopub.status.idle": "2020-10-09T12:41:54.654287Z",
     "shell.execute_reply": "2020-10-09T12:41:54.653631Z"
    }
   },
   "outputs": [
    {
     "data": {
      "image/png": "[encoded data removed]",
      "text/plain": [
       "<Figure size 432x288 with 1 Axes>"
      ]
     },
     "metadata": {
      "needs_background": "light"
     },
     "output_type": "display_data"
    }
   ],
   "source": [
    "fig, ax = plt.subplots(1,1)\n",
    "ax.plot(sizes, t_numeric, 'o-', label='Inserting row-by-row')\n",
    "ax.plot(sizes, t_numeric_add, 'o-', label='Inserting row-by-row: add_result only')\n",
    "ax.plot(sizes, t_array, 'd-', label='Inserting as binary blob')\n",
    "ax.plot(sizes, t_array_add, 'd-', label='Inserting as binary blob: add_result only')\n",
    "ax.legend()\n",
    "ax.set_xlabel('Array length')\n",
    "ax.set_ylabel('Time (s)')\n",
    "fig.tight_layout()"
   ]
  },
  {
   "cell_type": "markdown",
   "metadata": {},
   "source": [
    "As shown in the latter figure, the time to setup and and close the experiment is approximately 0.4 sec. In case of small array sizes, the difference between inserting values of data as arrays and inserting them row-by-row is relatively unimportant. At larger array sizes, i.e. above 10000 points, the cost of writing data as individual datapoints starts to become important.\n"
   ]
  },
  {
   "cell_type": "markdown",
   "metadata": {},
   "source": [
    "### Case2: Long experiment time "
   ]
  },
  {
   "cell_type": "code",
   "execution_count": 7,
   "metadata": {
    "execution": {
     "iopub.execute_input": "2020-10-09T12:41:54.662116Z",
     "iopub.status.busy": "2020-10-09T12:41:54.661118Z",
     "iopub.status.idle": "2020-10-09T12:43:00.234835Z",
     "shell.execute_reply": "2020-10-09T12:43:00.233652Z"
    }
   },
   "outputs": [
    {
     "name": "stdout",
     "output_type": "stream",
     "text": [
      "Starting experimental run with id: 15. \n",
      "Starting experimental run with id: 16. \n"
     ]
    },
    {
     "name": "stdout",
     "output_type": "stream",
     "text": [
      "Starting experimental run with id: 17. \n"
     ]
    },
    {
     "name": "stdout",
     "output_type": "stream",
     "text": [
      "Starting experimental run with id: 18. \n"
     ]
    },
    {
     "name": "stdout",
     "output_type": "stream",
     "text": [
      "Starting experimental run with id: 19. \n"
     ]
    },
    {
     "name": "stdout",
     "output_type": "stream",
     "text": [
      "Starting experimental run with id: 20. \n"
     ]
    },
    {
     "name": "stdout",
     "output_type": "stream",
     "text": [
      "Starting experimental run with id: 21. \n"
     ]
    },
    {
     "name": "stdout",
     "output_type": "stream",
     "text": [
      "Starting experimental run with id: 22. \n"
     ]
    },
    {
     "name": "stdout",
     "output_type": "stream",
     "text": [
      "Starting experimental run with id: 23. \n"
     ]
    },
    {
     "name": "stdout",
     "output_type": "stream",
     "text": [
      "Starting experimental run with id: 24. \n"
     ]
    },
    {
     "name": "stdout",
     "output_type": "stream",
     "text": [
      "Starting experimental run with id: 25. \n"
     ]
    },
    {
     "name": "stdout",
     "output_type": "stream",
     "text": [
      "Starting experimental run with id: 26. \n"
     ]
    },
    {
     "name": "stdout",
     "output_type": "stream",
     "text": [
      "Starting experimental run with id: 27. \n"
     ]
    },
    {
     "name": "stdout",
     "output_type": "stream",
     "text": [
      "Starting experimental run with id: 28. \n"
     ]
    }
   ],
   "source": [
    "sizes = [1,500,1000,2000,3000,4000,5000]\n",
    "nreps = 100\n",
    "t_numeric = []\n",
    "t_numeric_add = []\n",
    "t_numeric_run_ids = []\n",
    "t_array = []\n",
    "t_array_add = []\n",
    "t_array_run_ids = []\n",
    "for size in sizes:\n",
    "    tn, tna, run_id_n =  insert_data('numeric', size, nreps=nreps)\n",
    "    t_numeric.append(tn)\n",
    "    t_numeric_add.append(tna)\n",
    "    t_numeric_run_ids.append(run_id_n)\n",
    "\n",
    "    ta, taa, run_id_a =  insert_data('array', size, nreps=nreps)\n",
    "    t_array.append(ta)\n",
    "    t_array_add.append(taa)\n",
    "    t_array_run_ids.append(run_id_a)"
   ]
  },
  {
   "cell_type": "code",
   "execution_count": 8,
   "metadata": {
    "execution": {
     "iopub.execute_input": "2020-10-09T12:43:00.260659Z",
     "iopub.status.busy": "2020-10-09T12:43:00.255065Z",
     "iopub.status.idle": "2020-10-09T12:43:00.523065Z",
     "shell.execute_reply": "2020-10-09T12:43:00.522483Z"
    },
    "scrolled": true
   },
   "outputs": [
    {
     "data": {
      "image/png": "[encoded data removed]",
      "text/plain": [
       "<Figure size 432x288 with 1 Axes>"
      ]
     },
     "metadata": {
      "needs_background": "light"
     },
     "output_type": "display_data"
    }
   ],
   "source": [
    "fig, ax = plt.subplots(1,1)\n",
    "ax.plot(sizes, t_numeric, 'o-', label='Inserting row-by-row')\n",
    "ax.plot(sizes, t_numeric_add, 'o-', label='Inserting row-by-row: add_result only')\n",
    "ax.plot(sizes, t_array, 'd-', label='Inserting as binary blob')\n",
    "ax.plot(sizes, t_array_add, 'd-', label='Inserting as binary blob: add_result only')\n",
    "ax.legend()\n",
    "ax.set_xlabel('Array length')\n",
    "ax.set_ylabel('Time (s)')\n",
    "fig.tight_layout()"
   ]
  },
  {
   "cell_type": "markdown",
   "metadata": {},
   "source": [
    "However, as we increase the length of the experiment, as seen here by repeating the insertion 100 times, we see a big difference between inserting values of the data row-by-row and inserting it as a binary blob."
   ]
  },
  {
   "cell_type": "markdown",
   "metadata": {},
   "source": [
    "## Loading the data "
   ]
  },
  {
   "cell_type": "code",
   "execution_count": 9,
   "metadata": {
    "execution": {
     "iopub.execute_input": "2020-10-09T12:43:00.529380Z",
     "iopub.status.busy": "2020-10-09T12:43:00.528610Z",
     "iopub.status.idle": "2020-10-09T12:43:00.531228Z",
     "shell.execute_reply": "2020-10-09T12:43:00.531903Z"
    }
   },
   "outputs": [],
   "source": [
    "from qcodes.dataset.data_set import load_by_id\n",
    "from qcodes.dataset.data_export import get_data_by_id"
   ]
  },
  {
   "cell_type": "markdown",
   "metadata": {},
   "source": [
    "As usual you can load the data by using the ``load_by_id`` function but you will notice that the different storage methods\n",
    "are reflected in shape of the data as it is retrieved. "
   ]
  },
  {
   "cell_type": "code",
   "execution_count": 10,
   "metadata": {
    "execution": {
     "iopub.execute_input": "2020-10-09T12:43:00.537180Z",
     "iopub.status.busy": "2020-10-09T12:43:00.535809Z",
     "iopub.status.idle": "2020-10-09T12:43:00.537798Z",
     "shell.execute_reply": "2020-10-09T12:43:00.538412Z"
    }
   },
   "outputs": [],
   "source": [
    "run_id_n = t_numeric_run_ids[0]\n",
    "run_id_a = t_array_run_ids[0]"
   ]
  },
  {
   "cell_type": "code",
   "execution_count": 11,
   "metadata": {
    "execution": {
     "iopub.execute_input": "2020-10-09T12:43:00.542940Z",
     "iopub.status.busy": "2020-10-09T12:43:00.542338Z",
     "iopub.status.idle": "2020-10-09T12:43:00.555077Z",
     "shell.execute_reply": "2020-10-09T12:43:00.554260Z"
    },
    "scrolled": true
   },
   "outputs": [
    {
     "data": {
      "text/plain": [
       "{'x1': {'x1': array([0.23529622, 0.23529622, 0.9792587 , 0.9792587 , 0.42152904,\n",
       "         0.42152904, 0.1288117 , 0.1288117 , 0.67122089, 0.67122089,\n",
       "         0.65810357, 0.65810357, 0.61715737, 0.61715737, 0.3719978 ,\n",
       "         0.3719978 , 0.61651491, 0.61651491, 0.39772252, 0.39772252,\n",
       "         0.72232834, 0.72232834, 0.48912502, 0.48912502, 0.91186565,\n",
       "         0.91186565, 0.6914709 , 0.6914709 , 0.65855493, 0.65855493,\n",
       "         0.72477307, 0.72477307, 0.69314851, 0.69314851, 0.10734728,\n",
       "         0.10734728, 0.32753882, 0.32753882, 0.4989145 , 0.4989145 ,\n",
       "         0.03888174, 0.03888174, 0.10997244, 0.10997244, 0.24234931,\n",
       "         0.24234931, 0.7382869 , 0.7382869 , 0.62794203, 0.62794203,\n",
       "         0.09897857, 0.09897857, 0.19024119, 0.19024119, 0.93979039,\n",
       "         0.93979039, 0.97180246, 0.97180246, 0.52658128, 0.52658128,\n",
       "         0.20991477, 0.20991477, 0.25618748, 0.25618748, 0.72530414,\n",
       "         0.72530414, 0.06557939, 0.06557939, 0.13316846, 0.13316846,\n",
       "         0.01331006, 0.01331006, 0.42337157, 0.42337157, 0.13819295,\n",
       "         0.13819295, 0.3455149 , 0.3455149 , 0.19496266, 0.19496266,\n",
       "         0.0910063 , 0.0910063 , 0.22196566, 0.22196566, 0.7938265 ,\n",
       "         0.7938265 , 0.25821153, 0.25821153, 0.2078845 , 0.2078845 ,\n",
       "         0.91626061, 0.91626061, 0.20257065, 0.20257065, 0.48364611,\n",
       "         0.48364611, 0.56448541, 0.56448541, 0.07366872, 0.07366872,\n",
       "         0.44399057, 0.44399057, 0.08982282, 0.08982282, 0.02194959,\n",
       "         0.02194959, 0.79053159, 0.79053159, 0.59439249, 0.59439249,\n",
       "         0.50356264, 0.50356264, 0.906442  , 0.906442  , 0.81076854,\n",
       "         0.81076854, 0.9915067 , 0.9915067 , 0.75183862, 0.75183862,\n",
       "         0.51918187, 0.51918187, 0.85385508, 0.85385508, 0.10454695,\n",
       "         0.10454695, 0.00935134, 0.00935134, 0.88343567, 0.88343567,\n",
       "         0.93315281, 0.93315281, 0.24212964, 0.24212964, 0.44098435,\n",
       "         0.44098435, 0.44036189, 0.44036189, 0.86117571, 0.86117571,\n",
       "         0.07002875, 0.07002875, 0.61834011, 0.61834011, 0.88063318,\n",
       "         0.88063318, 0.32167323, 0.32167323, 0.17168961, 0.17168961,\n",
       "         0.64827477, 0.64827477, 0.92506875, 0.92506875, 0.86836125,\n",
       "         0.86836125, 0.60241738, 0.60241738, 0.96079322, 0.96079322,\n",
       "         0.67719139, 0.67719139, 0.92796441, 0.92796441, 0.13206212,\n",
       "         0.13206212, 0.51962926, 0.51962926, 0.32436197, 0.32436197,\n",
       "         0.07836565, 0.07836565, 0.84911856, 0.84911856, 0.63466409,\n",
       "         0.63466409, 0.26040925, 0.26040925, 0.43582443, 0.43582443,\n",
       "         0.96763346, 0.96763346, 0.54378003, 0.54378003, 0.65778366,\n",
       "         0.65778366, 0.03212226, 0.03212226, 0.85935278, 0.85935278,\n",
       "         0.01984934, 0.01984934, 0.52530875, 0.52530875, 0.90604106,\n",
       "         0.90604106, 0.68411502, 0.68411502, 0.09253427, 0.09253427])}}"
      ]
     },
     "execution_count": 1,
     "metadata": {},
     "output_type": "execute_result"
    }
   ],
   "source": [
    "ds = load_by_id(run_id_n)\n",
    "ds.get_parameter_data('x1')"
   ]
  },
  {
   "cell_type": "markdown",
   "metadata": {},
   "source": [
    "And a dataset stored as binary arrays"
   ]
  },
  {
   "cell_type": "code",
   "execution_count": 12,
   "metadata": {
    "execution": {
     "iopub.execute_input": "2020-10-09T12:43:00.559399Z",
     "iopub.status.busy": "2020-10-09T12:43:00.558823Z",
     "iopub.status.idle": "2020-10-09T12:43:00.639546Z",
     "shell.execute_reply": "2020-10-09T12:43:00.640195Z"
    },
    "scrolled": true
   },
   "outputs": [
    {
     "data": {
      "text/plain": [
       "{'x1': {'x1': array([[0.34197724],\n",
       "         [0.34197724],\n",
       "         [0.52081639],\n",
       "         [0.52081639],\n",
       "         [0.82046481],\n",
       "         [0.82046481],\n",
       "         [0.47232555],\n",
       "         [0.47232555],\n",
       "         [0.05505239],\n",
       "         [0.05505239],\n",
       "         [0.27633137],\n",
       "         [0.27633137],\n",
       "         [0.68557779],\n",
       "         [0.68557779],\n",
       "         [0.69467385],\n",
       "         [0.69467385],\n",
       "         [0.80543919],\n",
       "         [0.80543919],\n",
       "         [0.95919872],\n",
       "         [0.95919872],\n",
       "         [0.77366726],\n",
       "         [0.77366726],\n",
       "         [0.35616615],\n",
       "         [0.35616615],\n",
       "         [0.62931489],\n",
       "         [0.62931489],\n",
       "         [0.34254848],\n",
       "         [0.34254848],\n",
       "         [0.4133578 ],\n",
       "         [0.4133578 ],\n",
       "         [0.86502532],\n",
       "         [0.86502532],\n",
       "         [0.28835011],\n",
       "         [0.28835011],\n",
       "         [0.52430676],\n",
       "         [0.52430676],\n",
       "         [0.97906232],\n",
       "         [0.97906232],\n",
       "         [0.13678932],\n",
       "         [0.13678932],\n",
       "         [0.26398753],\n",
       "         [0.26398753],\n",
       "         [0.14601231],\n",
       "         [0.14601231],\n",
       "         [0.65113151],\n",
       "         [0.65113151],\n",
       "         [0.41439561],\n",
       "         [0.41439561],\n",
       "         [0.69608986],\n",
       "         [0.69608986],\n",
       "         [0.84672035],\n",
       "         [0.84672035],\n",
       "         [0.73917317],\n",
       "         [0.73917317],\n",
       "         [0.55200434],\n",
       "         [0.55200434],\n",
       "         [0.2176302 ],\n",
       "         [0.2176302 ],\n",
       "         [0.49615019],\n",
       "         [0.49615019],\n",
       "         [0.76194   ],\n",
       "         [0.76194   ],\n",
       "         [0.12451224],\n",
       "         [0.12451224],\n",
       "         [0.01453757],\n",
       "         [0.01453757],\n",
       "         [0.10417954],\n",
       "         [0.10417954],\n",
       "         [0.46224079],\n",
       "         [0.46224079],\n",
       "         [0.25717148],\n",
       "         [0.25717148],\n",
       "         [0.58514214],\n",
       "         [0.58514214],\n",
       "         [0.450227  ],\n",
       "         [0.450227  ],\n",
       "         [0.56374594],\n",
       "         [0.56374594],\n",
       "         [0.33182957],\n",
       "         [0.33182957],\n",
       "         [0.32044595],\n",
       "         [0.32044595],\n",
       "         [0.56254898],\n",
       "         [0.56254898],\n",
       "         [0.49682061],\n",
       "         [0.49682061],\n",
       "         [0.26389991],\n",
       "         [0.26389991],\n",
       "         [0.26674949],\n",
       "         [0.26674949],\n",
       "         [0.85513469],\n",
       "         [0.85513469],\n",
       "         [0.79461582],\n",
       "         [0.79461582],\n",
       "         [0.91418769],\n",
       "         [0.91418769],\n",
       "         [0.91837092],\n",
       "         [0.91837092],\n",
       "         [0.46285764],\n",
       "         [0.46285764],\n",
       "         [0.25549315],\n",
       "         [0.25549315],\n",
       "         [0.60285127],\n",
       "         [0.60285127],\n",
       "         [0.83700471],\n",
       "         [0.83700471],\n",
       "         [0.06361968],\n",
       "         [0.06361968],\n",
       "         [0.72029002],\n",
       "         [0.72029002],\n",
       "         [0.22019856],\n",
       "         [0.22019856],\n",
       "         [0.33677346],\n",
       "         [0.33677346],\n",
       "         [0.66791569],\n",
       "         [0.66791569],\n",
       "         [0.04356619],\n",
       "         [0.04356619],\n",
       "         [0.61786779],\n",
       "         [0.61786779],\n",
       "         [0.36856078],\n",
       "         [0.36856078],\n",
       "         [0.87765731],\n",
       "         [0.87765731],\n",
       "         [0.24809285],\n",
       "         [0.24809285],\n",
       "         [0.49219137],\n",
       "         [0.49219137],\n",
       "         [0.23847617],\n",
       "         [0.23847617],\n",
       "         [0.44094637],\n",
       "         [0.44094637],\n",
       "         [0.24770832],\n",
       "         [0.24770832],\n",
       "         [0.96846642],\n",
       "         [0.96846642],\n",
       "         [0.54349741],\n",
       "         [0.54349741],\n",
       "         [0.97059833],\n",
       "         [0.97059833],\n",
       "         [0.43929558],\n",
       "         [0.43929558],\n",
       "         [0.55997958],\n",
       "         [0.55997958],\n",
       "         [0.4703717 ],\n",
       "         [0.4703717 ],\n",
       "         [0.60891394],\n",
       "         [0.60891394],\n",
       "         [0.43398801],\n",
       "         [0.43398801],\n",
       "         [0.69857696],\n",
       "         [0.69857696],\n",
       "         [0.03552017],\n",
       "         [0.03552017],\n",
       "         [0.82452897],\n",
       "         [0.82452897],\n",
       "         [0.7892461 ],\n",
       "         [0.7892461 ],\n",
       "         [0.43567006],\n",
       "         [0.43567006],\n",
       "         [0.34705891],\n",
       "         [0.34705891],\n",
       "         [0.3518542 ],\n",
       "         [0.3518542 ],\n",
       "         [0.20456031],\n",
       "         [0.20456031],\n",
       "         [0.76486619],\n",
       "         [0.76486619],\n",
       "         [0.52222299],\n",
       "         [0.52222299],\n",
       "         [0.40748621],\n",
       "         [0.40748621],\n",
       "         [0.7977804 ],\n",
       "         [0.7977804 ],\n",
       "         [0.85426992],\n",
       "         [0.85426992],\n",
       "         [0.84481987],\n",
       "         [0.84481987],\n",
       "         [0.2127481 ],\n",
       "         [0.2127481 ],\n",
       "         [0.87096417],\n",
       "         [0.87096417],\n",
       "         [0.77739743],\n",
       "         [0.77739743],\n",
       "         [0.44087781],\n",
       "         [0.44087781],\n",
       "         [0.01831366],\n",
       "         [0.01831366],\n",
       "         [0.38707233],\n",
       "         [0.38707233],\n",
       "         [0.79741628],\n",
       "         [0.79741628],\n",
       "         [0.37070293],\n",
       "         [0.37070293],\n",
       "         [0.22957781],\n",
       "         [0.22957781],\n",
       "         [0.92562167],\n",
       "         [0.92562167],\n",
       "         [0.03170761],\n",
       "         [0.03170761]])}}"
      ]
     },
     "execution_count": 1,
     "metadata": {},
     "output_type": "execute_result"
    }
   ],
   "source": [
    "ds = load_by_id(run_id_a)\n",
    "ds.get_parameter_data('x1')"
   ]
  },
  {
   "cell_type": "code",
   "execution_count": null,
   "metadata": {},
   "outputs": [],
   "source": []
  }
 ],
 "metadata": {
  "kernelspec": {
   "display_name": "Python 3",
   "language": "python",
   "name": "python3"
  },
  "language_info": {
   "codemirror_mode": {
    "name": "ipython",
    "version": 3
   },
   "file_extension": ".py",
   "mimetype": "text/x-python",
   "name": "python",
   "nbconvert_exporter": "python",
   "pygments_lexer": "ipython3",
   "version": "3.7.7"
  },
  "nbsphinx": {
   "timeout": 600
  },
  "toc": {
   "base_numbering": 1,
   "nav_menu": {},
   "number_sections": true,
   "sideBar": true,
   "skip_h1_title": false,
   "title_cell": "Table of Contents",
   "title_sidebar": "Contents",
   "toc_cell": false,
   "toc_position": {},
   "toc_section_display": true,
   "toc_window_display": false
  },
  "varInspector": {
   "cols": {
    "lenName": 16,
    "lenType": 16,
    "lenVar": 40
   },
   "kernels_config": {
    "python": {
     "delete_cmd_postfix": "",
     "delete_cmd_prefix": "del ",
     "library": "var_list.py",
     "varRefreshCmd": "print(var_dic_list())"
    },
    "r": {
     "delete_cmd_postfix": ") ",
     "delete_cmd_prefix": "rm(",
     "library": "var_list.r",
     "varRefreshCmd": "cat(var_dic_list()) "
    }
   },
   "types_to_exclude": [
    "module",
    "function",
    "builtin_function_or_method",
    "instance",
    "_Feature"
   ],
   "window_display": false
  }
 },
 "nbformat": 4,
 "nbformat_minor": 2
}
