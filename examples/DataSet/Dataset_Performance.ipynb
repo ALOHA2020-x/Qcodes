{
 "cells": [
  {
   "cell_type": "markdown",
   "metadata": {},
   "source": [
    "# DataSet Performance\n",
    "\n",
    "This notebook shows the trade-off between inserting data into a database row-by-row and as binary blobs. Inserting the data row-by-row means that we have direct access to all the data and may perform queries directly on the values of the data. On the other hand, as we shall see, this is much slower than inserting the data directly as binary blobs."
   ]
  },
  {
   "cell_type": "markdown",
   "metadata": {},
   "source": [
    "First, we choose a new location for the database to ensure that we don't add a bunch of benchmarking data to the default one."
   ]
  },
  {
   "cell_type": "code",
   "execution_count": 1,
   "metadata": {
    "execution": {
     "iopub.execute_input": "2020-10-19T08:45:58.674206Z",
     "iopub.status.busy": "2020-10-19T08:45:58.673689Z",
     "iopub.status.idle": "2020-10-19T08:45:59.718414Z",
     "shell.execute_reply": "2020-10-19T08:45:59.718826Z"
    }
   },
   "outputs": [
    {
     "name": "stdout",
     "output_type": "stream",
     "text": [
      "Logging hadn't been started.\n",
      "Activating auto-logging. Current session state plus future input saved.\n",
      "Filename       : /home/vsts/.qcodes/logs/command_history.log\n",
      "Mode           : append\n",
      "Output logging : True\n",
      "Raw input log  : False\n",
      "Timestamping   : True\n",
      "State          : active\n"
     ]
    },
    {
     "name": "stdout",
     "output_type": "stream",
     "text": [
      "Qcodes Logfile : /home/vsts/.qcodes/logs/201019-15040-qcodes.log\n"
     ]
    }
   ],
   "source": [
    "import os\n",
    "cwd = os.getcwd()\n",
    "import qcodes as qc\n",
    "qc.config[\"core\"][\"db_location\"] = os.path.join(cwd, 'testing.db')\n"
   ]
  },
  {
   "cell_type": "code",
   "execution_count": 2,
   "metadata": {
    "execution": {
     "iopub.execute_input": "2020-10-19T08:45:59.725803Z",
     "iopub.status.busy": "2020-10-19T08:45:59.725090Z",
     "iopub.status.idle": "2020-10-19T08:45:59.897978Z",
     "shell.execute_reply": "2020-10-19T08:45:59.896986Z"
    }
   },
   "outputs": [],
   "source": [
    "%matplotlib inline\n",
    "import time\n",
    "import matplotlib.pyplot as plt\n",
    "import numpy as np\n",
    "\n",
    "import qcodes as qc\n",
    "from qcodes.instrument.parameter import ManualParameter\n",
    "from qcodes.dataset.experiment_container import (Experiment,\n",
    "                                                 load_last_experiment,\n",
    "                                                 new_experiment)\n",
    "from qcodes.dataset.sqlite.database import initialise_database\n",
    "from qcodes import load_or_create_experiment\n",
    "from qcodes.dataset.measurements import Measurement"
   ]
  },
  {
   "cell_type": "code",
   "execution_count": 3,
   "metadata": {
    "execution": {
     "iopub.execute_input": "2020-10-19T08:45:59.901934Z",
     "iopub.status.busy": "2020-10-19T08:45:59.901289Z",
     "iopub.status.idle": "2020-10-19T08:45:59.999885Z",
     "shell.execute_reply": "2020-10-19T08:45:59.999311Z"
    }
   },
   "outputs": [
    {
     "name": "stdout",
     "output_type": "stream",
     "text": [
      "\r",
      "0it [00:00, ?it/s]"
     ]
    },
    {
     "name": "stdout",
     "output_type": "stream",
     "text": [
      "\r",
      "Upgrading database; v0 -> v1: : 0it [00:00, ?it/s]"
     ]
    },
    {
     "name": "stdout",
     "output_type": "stream",
     "text": [
      "\r",
      "Upgrading database; v0 -> v1: : 0it [00:00, ?it/s]"
     ]
    },
    {
     "name": "stdout",
     "output_type": "stream",
     "text": [
      "\n",
      "\r",
      "  0%|          | 0/1 [00:00<?, ?it/s]"
     ]
    },
    {
     "name": "stdout",
     "output_type": "stream",
     "text": [
      "\r",
      "Upgrading database; v1 -> v2:   0%|          | 0/1 [00:00<?, ?it/s]"
     ]
    },
    {
     "name": "stdout",
     "output_type": "stream",
     "text": [
      "\r",
      "Upgrading database; v1 -> v2: 100%|██████████| 1/1 [00:00<00:00, 416.47it/s]"
     ]
    },
    {
     "name": "stdout",
     "output_type": "stream",
     "text": [
      "\n",
      "\r",
      "0it [00:00, ?it/s]"
     ]
    },
    {
     "name": "stdout",
     "output_type": "stream",
     "text": [
      "\r",
      "Upgrading database; v2 -> v3: : 0it [00:00, ?it/s]"
     ]
    },
    {
     "name": "stdout",
     "output_type": "stream",
     "text": [
      "\r",
      "Upgrading database; v2 -> v3: : 0it [00:00, ?it/s]"
     ]
    },
    {
     "name": "stdout",
     "output_type": "stream",
     "text": [
      "\n",
      "\r",
      "0it [00:00, ?it/s]"
     ]
    },
    {
     "name": "stdout",
     "output_type": "stream",
     "text": [
      "\r",
      "Upgrading database; v3 -> v4: : 0it [00:00, ?it/s]"
     ]
    },
    {
     "name": "stdout",
     "output_type": "stream",
     "text": [
      "\r",
      "Upgrading database; v3 -> v4: : 0it [00:00, ?it/s]"
     ]
    },
    {
     "name": "stdout",
     "output_type": "stream",
     "text": [
      "\n",
      "\r",
      "  0%|          | 0/1 [00:00<?, ?it/s]"
     ]
    },
    {
     "name": "stdout",
     "output_type": "stream",
     "text": [
      "\r",
      "Upgrading database; v4 -> v5:   0%|          | 0/1 [00:00<?, ?it/s]"
     ]
    },
    {
     "name": "stdout",
     "output_type": "stream",
     "text": [
      "\r",
      "Upgrading database; v4 -> v5: 100%|██████████| 1/1 [00:00<00:00, 546.49it/s]"
     ]
    },
    {
     "name": "stdout",
     "output_type": "stream",
     "text": [
      "\n",
      "\r",
      "0it [00:00, ?it/s]"
     ]
    },
    {
     "name": "stdout",
     "output_type": "stream",
     "text": [
      "\r",
      "Upgrading database; v5 -> v6: : 0it [00:00, ?it/s]"
     ]
    },
    {
     "name": "stdout",
     "output_type": "stream",
     "text": [
      "\r",
      "Upgrading database; v5 -> v6: : 0it [00:00, ?it/s]"
     ]
    },
    {
     "name": "stdout",
     "output_type": "stream",
     "text": [
      "\n",
      "\r",
      "  0%|          | 0/1 [00:00<?, ?it/s]"
     ]
    },
    {
     "name": "stdout",
     "output_type": "stream",
     "text": [
      "\r",
      "Upgrading database; v6 -> v7:   0%|          | 0/1 [00:00<?, ?it/s]"
     ]
    },
    {
     "name": "stdout",
     "output_type": "stream",
     "text": [
      "\r",
      "Upgrading database; v6 -> v7: 100%|██████████| 1/1 [00:00<00:00, 301.55it/s]"
     ]
    },
    {
     "name": "stdout",
     "output_type": "stream",
     "text": [
      "\n",
      "\r",
      "  0%|          | 0/1 [00:00<?, ?it/s]"
     ]
    },
    {
     "name": "stdout",
     "output_type": "stream",
     "text": [
      "\r",
      "Upgrading database; v7 -> v8:   0%|          | 0/1 [00:00<?, ?it/s]"
     ]
    },
    {
     "name": "stdout",
     "output_type": "stream",
     "text": [
      "\r",
      "Upgrading database; v7 -> v8: 100%|██████████| 1/1 [00:00<00:00, 1226.05it/s]"
     ]
    },
    {
     "name": "stdout",
     "output_type": "stream",
     "text": [
      "\n",
      "\r",
      "  0%|          | 0/1 [00:00<?, ?it/s]"
     ]
    },
    {
     "name": "stdout",
     "output_type": "stream",
     "text": [
      "\r",
      "Upgrading database; v8 -> v9:   0%|          | 0/1 [00:00<?, ?it/s]"
     ]
    },
    {
     "name": "stdout",
     "output_type": "stream",
     "text": [
      "\r",
      "Upgrading database; v8 -> v9: 100%|██████████| 1/1 [00:00<00:00, 1143.49it/s]"
     ]
    },
    {
     "name": "stdout",
     "output_type": "stream",
     "text": [
      "\n"
     ]
    }
   ],
   "source": [
    "initialise_database()\n",
    "exp = load_or_create_experiment(experiment_name='tutorial_exp', sample_name=\"no sample\")"
   ]
  },
  {
   "cell_type": "markdown",
   "metadata": {},
   "source": [
    "Here, we define a simple function to benchmark the time it takes to insert n points with either numeric or array data type.\n",
    "We will compare both the time used to call ``add_result`` and the time used for the full measurement."
   ]
  },
  {
   "cell_type": "code",
   "execution_count": 4,
   "metadata": {
    "execution": {
     "iopub.execute_input": "2020-10-19T08:46:00.007015Z",
     "iopub.status.busy": "2020-10-19T08:46:00.006314Z",
     "iopub.status.idle": "2020-10-19T08:46:00.015435Z",
     "shell.execute_reply": "2020-10-19T08:46:00.014773Z"
    }
   },
   "outputs": [],
   "source": [
    "def insert_data(paramtype, npoints, nreps=1):\n",
    "\n",
    "    meas = Measurement(exp=exp)\n",
    "\n",
    "    x1 = ManualParameter('x1')\n",
    "    x2 = ManualParameter('x2')\n",
    "    x3 = ManualParameter('x3')\n",
    "    y1 = ManualParameter('y1')\n",
    "    y2 = ManualParameter('y2')\n",
    "\n",
    "    meas.register_parameter(x1, paramtype=paramtype)\n",
    "    meas.register_parameter(x2, paramtype=paramtype)\n",
    "    meas.register_parameter(x3, paramtype=paramtype)\n",
    "    meas.register_parameter(y1, setpoints=[x1, x2, x3],\n",
    "                            paramtype=paramtype)\n",
    "    meas.register_parameter(y2, setpoints=[x1, x2, x3],\n",
    "                            paramtype=paramtype)\n",
    "    start = time.perf_counter()\n",
    "    with meas.run() as datasaver:\n",
    "        start_adding = time.perf_counter()\n",
    "        for i in range(nreps):\n",
    "            datasaver.add_result((x1, np.random.rand(npoints)),\n",
    "                                 (x2, np.random.rand(npoints)),\n",
    "                                 (x3, np.random.rand(npoints)),\n",
    "                                 (y1, np.random.rand(npoints)),\n",
    "                                 (y2, np.random.rand(npoints)))\n",
    "        stop_adding = time.perf_counter()\n",
    "        run_id = datasaver.run_id\n",
    "    stop = time.perf_counter()\n",
    "    tot_time = stop - start\n",
    "    add_time = stop_adding - start_adding\n",
    "    return tot_time, add_time, run_id"
   ]
  },
  {
   "cell_type": "markdown",
   "metadata": {},
   "source": [
    "## Comparison between numeric/array data and binary blob"
   ]
  },
  {
   "cell_type": "markdown",
   "metadata": {},
   "source": [
    "### Case1: Short experiment time"
   ]
  },
  {
   "cell_type": "code",
   "execution_count": 5,
   "metadata": {
    "execution": {
     "iopub.execute_input": "2020-10-19T08:46:00.023224Z",
     "iopub.status.busy": "2020-10-19T08:46:00.021757Z",
     "iopub.status.idle": "2020-10-19T08:46:00.820337Z",
     "shell.execute_reply": "2020-10-19T08:46:00.820931Z"
    }
   },
   "outputs": [
    {
     "name": "stdout",
     "output_type": "stream",
     "text": [
      "Starting experimental run with id: 1. \n",
      "Starting experimental run with id: 2. \n",
      "Starting experimental run with id: 3. \n",
      "Starting experimental run with id: 4. \n",
      "Starting experimental run with id: 5. \n"
     ]
    },
    {
     "name": "stdout",
     "output_type": "stream",
     "text": [
      "Starting experimental run with id: 6. \n"
     ]
    },
    {
     "name": "stdout",
     "output_type": "stream",
     "text": [
      "Starting experimental run with id: 7. \n"
     ]
    },
    {
     "name": "stdout",
     "output_type": "stream",
     "text": [
      "Starting experimental run with id: 8. \n",
      "Starting experimental run with id: 9. \n"
     ]
    },
    {
     "name": "stdout",
     "output_type": "stream",
     "text": [
      "Starting experimental run with id: 10. \n",
      "Starting experimental run with id: 11. \n"
     ]
    },
    {
     "name": "stdout",
     "output_type": "stream",
     "text": [
      "Starting experimental run with id: 12. \n",
      "Starting experimental run with id: 13. \n"
     ]
    },
    {
     "name": "stdout",
     "output_type": "stream",
     "text": [
      "Starting experimental run with id: 14. \n"
     ]
    }
   ],
   "source": [
    "sizes = [1,500,1000,2000,3000,4000,5000]\n",
    "t_numeric = []\n",
    "t_numeric_add = []\n",
    "t_array = []\n",
    "t_array_add = []\n",
    "for size in sizes:\n",
    "    tn, tna, run_id_n =  insert_data('numeric', size)\n",
    "    t_numeric.append(tn)\n",
    "    t_numeric_add.append(tna)\n",
    "\n",
    "    ta, taa, run_id_a =  insert_data('array', size)\n",
    "    t_array.append(ta)\n",
    "    t_array_add.append(taa)"
   ]
  },
  {
   "cell_type": "code",
   "execution_count": 6,
   "metadata": {
    "execution": {
     "iopub.execute_input": "2020-10-19T08:46:00.840083Z",
     "iopub.status.busy": "2020-10-19T08:46:00.837340Z",
     "iopub.status.idle": "2020-10-19T08:46:01.044306Z",
     "shell.execute_reply": "2020-10-19T08:46:01.043488Z"
    }
   },
   "outputs": [
    {
     "data": {
      "image/png": "[encoded data removed]",
      "text/plain": [
       "<Figure size 432x288 with 1 Axes>"
      ]
     },
     "metadata": {
      "needs_background": "light"
     },
     "output_type": "display_data"
    }
   ],
   "source": [
    "fig, ax = plt.subplots(1,1)\n",
    "ax.plot(sizes, t_numeric, 'o-', label='Inserting row-by-row')\n",
    "ax.plot(sizes, t_numeric_add, 'o-', label='Inserting row-by-row: add_result only')\n",
    "ax.plot(sizes, t_array, 'd-', label='Inserting as binary blob')\n",
    "ax.plot(sizes, t_array_add, 'd-', label='Inserting as binary blob: add_result only')\n",
    "ax.legend()\n",
    "ax.set_xlabel('Array length')\n",
    "ax.set_ylabel('Time (s)')\n",
    "fig.tight_layout()"
   ]
  },
  {
   "cell_type": "markdown",
   "metadata": {},
   "source": [
    "As shown in the latter figure, the time to setup and and close the experiment is approximately 0.4 sec. In case of small array sizes, the difference between inserting values of data as arrays and inserting them row-by-row is relatively unimportant. At larger array sizes, i.e. above 10000 points, the cost of writing data as individual datapoints starts to become important.\n"
   ]
  },
  {
   "cell_type": "markdown",
   "metadata": {},
   "source": [
    "### Case2: Long experiment time "
   ]
  },
  {
   "cell_type": "code",
   "execution_count": 7,
   "metadata": {
    "execution": {
     "iopub.execute_input": "2020-10-19T08:46:01.052301Z",
     "iopub.status.busy": "2020-10-19T08:46:01.050850Z",
     "iopub.status.idle": "2020-10-19T08:46:56.543771Z",
     "shell.execute_reply": "2020-10-19T08:46:56.543322Z"
    }
   },
   "outputs": [
    {
     "name": "stdout",
     "output_type": "stream",
     "text": [
      "Starting experimental run with id: 15. \n",
      "Starting experimental run with id: 16. \n",
      "Starting experimental run with id: 17. \n"
     ]
    },
    {
     "name": "stdout",
     "output_type": "stream",
     "text": [
      "Starting experimental run with id: 18. \n",
      "Starting experimental run with id: 19. \n"
     ]
    },
    {
     "name": "stdout",
     "output_type": "stream",
     "text": [
      "Starting experimental run with id: 20. \n"
     ]
    },
    {
     "name": "stdout",
     "output_type": "stream",
     "text": [
      "Starting experimental run with id: 21. \n"
     ]
    },
    {
     "name": "stdout",
     "output_type": "stream",
     "text": [
      "Starting experimental run with id: 22. \n"
     ]
    },
    {
     "name": "stdout",
     "output_type": "stream",
     "text": [
      "Starting experimental run with id: 23. \n"
     ]
    },
    {
     "name": "stdout",
     "output_type": "stream",
     "text": [
      "Starting experimental run with id: 24. \n"
     ]
    },
    {
     "name": "stdout",
     "output_type": "stream",
     "text": [
      "Starting experimental run with id: 25. \n"
     ]
    },
    {
     "name": "stdout",
     "output_type": "stream",
     "text": [
      "Starting experimental run with id: 26. \n"
     ]
    },
    {
     "name": "stdout",
     "output_type": "stream",
     "text": [
      "Starting experimental run with id: 27. \n"
     ]
    },
    {
     "name": "stdout",
     "output_type": "stream",
     "text": [
      "Starting experimental run with id: 28. \n"
     ]
    }
   ],
   "source": [
    "sizes = [1,500,1000,2000,3000,4000,5000]\n",
    "nreps = 100\n",
    "t_numeric = []\n",
    "t_numeric_add = []\n",
    "t_numeric_run_ids = []\n",
    "t_array = []\n",
    "t_array_add = []\n",
    "t_array_run_ids = []\n",
    "for size in sizes:\n",
    "    tn, tna, run_id_n =  insert_data('numeric', size, nreps=nreps)\n",
    "    t_numeric.append(tn)\n",
    "    t_numeric_add.append(tna)\n",
    "    t_numeric_run_ids.append(run_id_n)\n",
    "\n",
    "    ta, taa, run_id_a =  insert_data('array', size, nreps=nreps)\n",
    "    t_array.append(ta)\n",
    "    t_array_add.append(taa)\n",
    "    t_array_run_ids.append(run_id_a)"
   ]
  },
  {
   "cell_type": "code",
   "execution_count": 8,
   "metadata": {
    "execution": {
     "iopub.execute_input": "2020-10-19T08:46:56.573757Z",
     "iopub.status.busy": "2020-10-19T08:46:56.567597Z",
     "iopub.status.idle": "2020-10-19T08:46:56.771376Z",
     "shell.execute_reply": "2020-10-19T08:46:56.770934Z"
    },
    "scrolled": true
   },
   "outputs": [
    {
     "data": {
      "image/png": "[encoded data removed]",
      "text/plain": [
       "<Figure size 432x288 with 1 Axes>"
      ]
     },
     "metadata": {
      "needs_background": "light"
     },
     "output_type": "display_data"
    }
   ],
   "source": [
    "fig, ax = plt.subplots(1,1)\n",
    "ax.plot(sizes, t_numeric, 'o-', label='Inserting row-by-row')\n",
    "ax.plot(sizes, t_numeric_add, 'o-', label='Inserting row-by-row: add_result only')\n",
    "ax.plot(sizes, t_array, 'd-', label='Inserting as binary blob')\n",
    "ax.plot(sizes, t_array_add, 'd-', label='Inserting as binary blob: add_result only')\n",
    "ax.legend()\n",
    "ax.set_xlabel('Array length')\n",
    "ax.set_ylabel('Time (s)')\n",
    "fig.tight_layout()"
   ]
  },
  {
   "cell_type": "markdown",
   "metadata": {},
   "source": [
    "However, as we increase the length of the experiment, as seen here by repeating the insertion 100 times, we see a big difference between inserting values of the data row-by-row and inserting it as a binary blob."
   ]
  },
  {
   "cell_type": "markdown",
   "metadata": {},
   "source": [
    "## Loading the data "
   ]
  },
  {
   "cell_type": "code",
   "execution_count": 9,
   "metadata": {
    "execution": {
     "iopub.execute_input": "2020-10-19T08:46:56.775398Z",
     "iopub.status.busy": "2020-10-19T08:46:56.774699Z",
     "iopub.status.idle": "2020-10-19T08:46:56.778746Z",
     "shell.execute_reply": "2020-10-19T08:46:56.778284Z"
    }
   },
   "outputs": [],
   "source": [
    "from qcodes.dataset.data_set import load_by_id\n",
    "from qcodes.dataset.data_export import get_data_by_id"
   ]
  },
  {
   "cell_type": "markdown",
   "metadata": {},
   "source": [
    "As usual you can load the data by using the ``load_by_id`` function but you will notice that the different storage methods\n",
    "are reflected in shape of the data as it is retrieved. "
   ]
  },
  {
   "cell_type": "code",
   "execution_count": 10,
   "metadata": {
    "execution": {
     "iopub.execute_input": "2020-10-19T08:46:56.782930Z",
     "iopub.status.busy": "2020-10-19T08:46:56.781678Z",
     "iopub.status.idle": "2020-10-19T08:46:56.783451Z",
     "shell.execute_reply": "2020-10-19T08:46:56.783954Z"
    }
   },
   "outputs": [],
   "source": [
    "run_id_n = t_numeric_run_ids[0]\n",
    "run_id_a = t_array_run_ids[0]"
   ]
  },
  {
   "cell_type": "code",
   "execution_count": 11,
   "metadata": {
    "execution": {
     "iopub.execute_input": "2020-10-19T08:46:56.787492Z",
     "iopub.status.busy": "2020-10-19T08:46:56.786847Z",
     "iopub.status.idle": "2020-10-19T08:46:56.796318Z",
     "shell.execute_reply": "2020-10-19T08:46:56.795858Z"
    },
    "scrolled": true
   },
   "outputs": [
    {
     "data": {
      "text/plain": [
       "{'x1': {'x1': array([0.3290031 , 0.3290031 , 0.93032728, 0.93032728, 0.38449006,\n",
       "         0.38449006, 0.7458362 , 0.7458362 , 0.38536425, 0.38536425,\n",
       "         0.70709257, 0.70709257, 0.9774979 , 0.9774979 , 0.99649478,\n",
       "         0.99649478, 0.24138898, 0.24138898, 0.44489097, 0.44489097,\n",
       "         0.48993426, 0.48993426, 0.71078635, 0.71078635, 0.36671573,\n",
       "         0.36671573, 0.36560574, 0.36560574, 0.17003342, 0.17003342,\n",
       "         0.31987329, 0.31987329, 0.60194539, 0.60194539, 0.48895409,\n",
       "         0.48895409, 0.46456017, 0.46456017, 0.72419912, 0.72419912,\n",
       "         0.14582269, 0.14582269, 0.50656463, 0.50656463, 0.04065046,\n",
       "         0.04065046, 0.63325831, 0.63325831, 0.84226676, 0.84226676,\n",
       "         0.78821827, 0.78821827, 0.05321485, 0.05321485, 0.15999072,\n",
       "         0.15999072, 0.03382312, 0.03382312, 0.38139006, 0.38139006,\n",
       "         0.41496857, 0.41496857, 0.60160201, 0.60160201, 0.9863092 ,\n",
       "         0.9863092 , 0.62650667, 0.62650667, 0.24084137, 0.24084137,\n",
       "         0.14842165, 0.14842165, 0.47725245, 0.47725245, 0.37961578,\n",
       "         0.37961578, 0.12752   , 0.12752   , 0.02052057, 0.02052057,\n",
       "         0.84434091, 0.84434091, 0.575386  , 0.575386  , 0.5456631 ,\n",
       "         0.5456631 , 0.53612577, 0.53612577, 0.78025739, 0.78025739,\n",
       "         0.065643  , 0.065643  , 0.13373268, 0.13373268, 0.79968804,\n",
       "         0.79968804, 0.78061316, 0.78061316, 0.86637283, 0.86637283,\n",
       "         0.33202375, 0.33202375, 0.45790245, 0.45790245, 0.00596437,\n",
       "         0.00596437, 0.40211876, 0.40211876, 0.50916058, 0.50916058,\n",
       "         0.18360338, 0.18360338, 0.3341928 , 0.3341928 , 0.59790929,\n",
       "         0.59790929, 0.34840028, 0.34840028, 0.08916128, 0.08916128,\n",
       "         0.37840092, 0.37840092, 0.96383862, 0.96383862, 0.042827  ,\n",
       "         0.042827  , 0.32012859, 0.32012859, 0.29443045, 0.29443045,\n",
       "         0.78519162, 0.78519162, 0.61835971, 0.61835971, 0.57394929,\n",
       "         0.57394929, 0.23381356, 0.23381356, 0.89698108, 0.89698108,\n",
       "         0.06767397, 0.06767397, 0.87424763, 0.87424763, 0.99260267,\n",
       "         0.99260267, 0.52857807, 0.52857807, 0.4953317 , 0.4953317 ,\n",
       "         0.22609466, 0.22609466, 0.59117837, 0.59117837, 0.41506079,\n",
       "         0.41506079, 0.15970643, 0.15970643, 0.50005639, 0.50005639,\n",
       "         0.84435653, 0.84435653, 0.00116884, 0.00116884, 0.00112019,\n",
       "         0.00112019, 0.031914  , 0.031914  , 0.52008716, 0.52008716,\n",
       "         0.97402791, 0.97402791, 0.41814794, 0.41814794, 0.39822146,\n",
       "         0.39822146, 0.40250856, 0.40250856, 0.93543698, 0.93543698,\n",
       "         0.23052558, 0.23052558, 0.68130046, 0.68130046, 0.87417681,\n",
       "         0.87417681, 0.71172433, 0.71172433, 0.22272107, 0.22272107,\n",
       "         0.37596675, 0.37596675, 0.84380285, 0.84380285, 0.75149992,\n",
       "         0.75149992, 0.96859097, 0.96859097, 0.37538763, 0.37538763])}}"
      ]
     },
     "execution_count": 1,
     "metadata": {},
     "output_type": "execute_result"
    }
   ],
   "source": [
    "ds = load_by_id(run_id_n)\n",
    "ds.get_parameter_data('x1')"
   ]
  },
  {
   "cell_type": "markdown",
   "metadata": {},
   "source": [
    "And a dataset stored as binary arrays"
   ]
  },
  {
   "cell_type": "code",
   "execution_count": 12,
   "metadata": {
    "execution": {
     "iopub.execute_input": "2020-10-19T08:46:56.799413Z",
     "iopub.status.busy": "2020-10-19T08:46:56.798801Z",
     "iopub.status.idle": "2020-10-19T08:46:56.853902Z",
     "shell.execute_reply": "2020-10-19T08:46:56.853436Z"
    },
    "scrolled": true
   },
   "outputs": [
    {
     "data": {
      "text/plain": [
       "{'x1': {'x1': array([[0.72164685],\n",
       "         [0.72164685],\n",
       "         [0.26863636],\n",
       "         [0.26863636],\n",
       "         [0.66820521],\n",
       "         [0.66820521],\n",
       "         [0.45516445],\n",
       "         [0.45516445],\n",
       "         [0.40677652],\n",
       "         [0.40677652],\n",
       "         [0.05064889],\n",
       "         [0.05064889],\n",
       "         [0.24761391],\n",
       "         [0.24761391],\n",
       "         [0.2895829 ],\n",
       "         [0.2895829 ],\n",
       "         [0.66114463],\n",
       "         [0.66114463],\n",
       "         [0.79854365],\n",
       "         [0.79854365],\n",
       "         [0.93792679],\n",
       "         [0.93792679],\n",
       "         [0.75595344],\n",
       "         [0.75595344],\n",
       "         [0.0470848 ],\n",
       "         [0.0470848 ],\n",
       "         [0.78513223],\n",
       "         [0.78513223],\n",
       "         [0.92591788],\n",
       "         [0.92591788],\n",
       "         [0.04118457],\n",
       "         [0.04118457],\n",
       "         [0.79978709],\n",
       "         [0.79978709],\n",
       "         [0.97735442],\n",
       "         [0.97735442],\n",
       "         [0.077791  ],\n",
       "         [0.077791  ],\n",
       "         [0.73214951],\n",
       "         [0.73214951],\n",
       "         [0.3848885 ],\n",
       "         [0.3848885 ],\n",
       "         [0.06135178],\n",
       "         [0.06135178],\n",
       "         [0.41101745],\n",
       "         [0.41101745],\n",
       "         [0.56688292],\n",
       "         [0.56688292],\n",
       "         [0.05917419],\n",
       "         [0.05917419],\n",
       "         [0.09680976],\n",
       "         [0.09680976],\n",
       "         [0.14052383],\n",
       "         [0.14052383],\n",
       "         [0.45520628],\n",
       "         [0.45520628],\n",
       "         [0.24978732],\n",
       "         [0.24978732],\n",
       "         [0.92489176],\n",
       "         [0.92489176],\n",
       "         [0.40409252],\n",
       "         [0.40409252],\n",
       "         [0.73125257],\n",
       "         [0.73125257],\n",
       "         [0.19306344],\n",
       "         [0.19306344],\n",
       "         [0.72276403],\n",
       "         [0.72276403],\n",
       "         [0.705881  ],\n",
       "         [0.705881  ],\n",
       "         [0.70444848],\n",
       "         [0.70444848],\n",
       "         [0.01895982],\n",
       "         [0.01895982],\n",
       "         [0.0454562 ],\n",
       "         [0.0454562 ],\n",
       "         [0.01125309],\n",
       "         [0.01125309],\n",
       "         [0.4922535 ],\n",
       "         [0.4922535 ],\n",
       "         [0.89461682],\n",
       "         [0.89461682],\n",
       "         [0.59616633],\n",
       "         [0.59616633],\n",
       "         [0.80312995],\n",
       "         [0.80312995],\n",
       "         [0.51984388],\n",
       "         [0.51984388],\n",
       "         [0.28092301],\n",
       "         [0.28092301],\n",
       "         [0.92438688],\n",
       "         [0.92438688],\n",
       "         [0.60326039],\n",
       "         [0.60326039],\n",
       "         [0.75374616],\n",
       "         [0.75374616],\n",
       "         [0.2666475 ],\n",
       "         [0.2666475 ],\n",
       "         [0.79180444],\n",
       "         [0.79180444],\n",
       "         [0.2602562 ],\n",
       "         [0.2602562 ],\n",
       "         [0.0639071 ],\n",
       "         [0.0639071 ],\n",
       "         [0.57794963],\n",
       "         [0.57794963],\n",
       "         [0.29175174],\n",
       "         [0.29175174],\n",
       "         [0.81373473],\n",
       "         [0.81373473],\n",
       "         [0.30885056],\n",
       "         [0.30885056],\n",
       "         [0.11210158],\n",
       "         [0.11210158],\n",
       "         [0.58433802],\n",
       "         [0.58433802],\n",
       "         [0.30835376],\n",
       "         [0.30835376],\n",
       "         [0.82180925],\n",
       "         [0.82180925],\n",
       "         [0.08496143],\n",
       "         [0.08496143],\n",
       "         [0.53771516],\n",
       "         [0.53771516],\n",
       "         [0.85488199],\n",
       "         [0.85488199],\n",
       "         [0.85339596],\n",
       "         [0.85339596],\n",
       "         [0.53994739],\n",
       "         [0.53994739],\n",
       "         [0.30614502],\n",
       "         [0.30614502],\n",
       "         [0.20592177],\n",
       "         [0.20592177],\n",
       "         [0.00450964],\n",
       "         [0.00450964],\n",
       "         [0.54806793],\n",
       "         [0.54806793],\n",
       "         [0.91781393],\n",
       "         [0.91781393],\n",
       "         [0.27886078],\n",
       "         [0.27886078],\n",
       "         [0.09432919],\n",
       "         [0.09432919],\n",
       "         [0.75128663],\n",
       "         [0.75128663],\n",
       "         [0.25087418],\n",
       "         [0.25087418],\n",
       "         [0.6087525 ],\n",
       "         [0.6087525 ],\n",
       "         [0.41760752],\n",
       "         [0.41760752],\n",
       "         [0.17182482],\n",
       "         [0.17182482],\n",
       "         [0.98824203],\n",
       "         [0.98824203],\n",
       "         [0.82759423],\n",
       "         [0.82759423],\n",
       "         [0.2610049 ],\n",
       "         [0.2610049 ],\n",
       "         [0.02217816],\n",
       "         [0.02217816],\n",
       "         [0.07286203],\n",
       "         [0.07286203],\n",
       "         [0.66680844],\n",
       "         [0.66680844],\n",
       "         [0.90739845],\n",
       "         [0.90739845],\n",
       "         [0.51642786],\n",
       "         [0.51642786],\n",
       "         [0.72706184],\n",
       "         [0.72706184],\n",
       "         [0.70388514],\n",
       "         [0.70388514],\n",
       "         [0.38063836],\n",
       "         [0.38063836],\n",
       "         [0.62961114],\n",
       "         [0.62961114],\n",
       "         [0.31696666],\n",
       "         [0.31696666],\n",
       "         [0.00674388],\n",
       "         [0.00674388],\n",
       "         [0.56504973],\n",
       "         [0.56504973],\n",
       "         [0.18952105],\n",
       "         [0.18952105],\n",
       "         [0.54495328],\n",
       "         [0.54495328],\n",
       "         [0.53707014],\n",
       "         [0.53707014],\n",
       "         [0.98313835],\n",
       "         [0.98313835],\n",
       "         [0.49912698],\n",
       "         [0.49912698],\n",
       "         [0.9677793 ],\n",
       "         [0.9677793 ],\n",
       "         [0.76710416],\n",
       "         [0.76710416],\n",
       "         [0.38547236],\n",
       "         [0.38547236]])}}"
      ]
     },
     "execution_count": 1,
     "metadata": {},
     "output_type": "execute_result"
    }
   ],
   "source": [
    "ds = load_by_id(run_id_a)\n",
    "ds.get_parameter_data('x1')"
   ]
  },
  {
   "cell_type": "code",
   "execution_count": null,
   "metadata": {},
   "outputs": [],
   "source": []
  }
 ],
 "metadata": {
  "kernelspec": {
   "display_name": "Python 3",
   "language": "python",
   "name": "python3"
  },
  "language_info": {
   "codemirror_mode": {
    "name": "ipython",
    "version": 3
   },
   "file_extension": ".py",
   "mimetype": "text/x-python",
   "name": "python",
   "nbconvert_exporter": "python",
   "pygments_lexer": "ipython3",
   "version": "3.7.7"
  },
  "nbsphinx": {
   "timeout": 600
  },
  "toc": {
   "base_numbering": 1,
   "nav_menu": {},
   "number_sections": true,
   "sideBar": true,
   "skip_h1_title": false,
   "title_cell": "Table of Contents",
   "title_sidebar": "Contents",
   "toc_cell": false,
   "toc_position": {},
   "toc_section_display": true,
   "toc_window_display": false
  },
  "varInspector": {
   "cols": {
    "lenName": 16,
    "lenType": 16,
    "lenVar": 40
   },
   "kernels_config": {
    "python": {
     "delete_cmd_postfix": "",
     "delete_cmd_prefix": "del ",
     "library": "var_list.py",
     "varRefreshCmd": "print(var_dic_list())"
    },
    "r": {
     "delete_cmd_postfix": ") ",
     "delete_cmd_prefix": "rm(",
     "library": "var_list.r",
     "varRefreshCmd": "cat(var_dic_list()) "
    }
   },
   "types_to_exclude": [
    "module",
    "function",
    "builtin_function_or_method",
    "instance",
    "_Feature"
   ],
   "window_display": false
  }
 },
 "nbformat": 4,
 "nbformat_minor": 2
}
