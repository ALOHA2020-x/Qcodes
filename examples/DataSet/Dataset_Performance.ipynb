{
 "cells": [
  {
   "cell_type": "markdown",
   "metadata": {},
   "source": [
    "# DataSet Performance\n",
    "\n",
    "This notebook shows the trade-off between inserting data into a database row-by-row and as binary blobs. Inserting the data row-by-row means that we have direct access to all the data and may perform queries directly on the values of the data. On the other hand, as we shall see, this is much slower than inserting the data directly as binary blobs."
   ]
  },
  {
   "cell_type": "markdown",
   "metadata": {},
   "source": [
    "First, we choose a new location for the database to ensure that we don't add a bunch of benchmarking data to the default one."
   ]
  },
  {
   "cell_type": "code",
   "execution_count": 1,
   "metadata": {},
   "outputs": [
    {
     "name": "stdout",
     "output_type": "stream",
     "text": [
      "Logging hadn't been started.\n",
      "Activating auto-logging. Current session state plus future input saved.\n",
      "Filename       : /home/vsts/.qcodes/logs/command_history.log\n",
      "Mode           : append\n",
      "Output logging : True\n",
      "Raw input log  : False\n",
      "Timestamping   : True\n",
      "State          : active\n"
     ]
    },
    {
     "name": "stdout",
     "output_type": "stream",
     "text": [
      "Qcodes Logfile : /home/vsts/.qcodes/logs/200827-18758-qcodes.log\n"
     ]
    }
   ],
   "source": [
    "import os\n",
    "cwd = os.getcwd()\n",
    "import qcodes as qc\n",
    "qc.config[\"core\"][\"db_location\"] = os.path.join(cwd, 'testing.db')\n"
   ]
  },
  {
   "cell_type": "code",
   "execution_count": 2,
   "metadata": {},
   "outputs": [],
   "source": [
    "%matplotlib inline\n",
    "import time\n",
    "import matplotlib.pyplot as plt\n",
    "import numpy as np\n",
    "\n",
    "import qcodes as qc\n",
    "from qcodes.instrument.parameter import ManualParameter\n",
    "from qcodes.dataset.experiment_container import (Experiment,\n",
    "                                                 load_last_experiment,\n",
    "                                                 new_experiment)\n",
    "from qcodes.dataset.sqlite.database import initialise_database\n",
    "from qcodes import load_or_create_experiment\n",
    "from qcodes.dataset.measurements import Measurement"
   ]
  },
  {
   "cell_type": "code",
   "execution_count": 3,
   "metadata": {},
   "outputs": [
    {
     "name": "stdout",
     "output_type": "stream",
     "text": [
      "\r",
      "0it [00:00, ?it/s]"
     ]
    },
    {
     "name": "stdout",
     "output_type": "stream",
     "text": [
      "\r",
      "Upgrading database; v0 -> v1: : 0it [00:00, ?it/s]"
     ]
    },
    {
     "name": "stdout",
     "output_type": "stream",
     "text": [
      "\r",
      "Upgrading database; v0 -> v1: : 0it [00:00, ?it/s]"
     ]
    },
    {
     "name": "stdout",
     "output_type": "stream",
     "text": [
      "\n",
      "\r",
      "  0%|          | 0/1 [00:00<?, ?it/s]"
     ]
    },
    {
     "name": "stdout",
     "output_type": "stream",
     "text": [
      "\r",
      "Upgrading database; v1 -> v2:   0%|          | 0/1 [00:00<?, ?it/s]"
     ]
    },
    {
     "name": "stdout",
     "output_type": "stream",
     "text": [
      "\r",
      "Upgrading database; v1 -> v2: 100%|██████████| 1/1 [00:00<00:00, 756.14it/s]"
     ]
    },
    {
     "name": "stdout",
     "output_type": "stream",
     "text": [
      "\n",
      "\r",
      "0it [00:00, ?it/s]"
     ]
    },
    {
     "name": "stdout",
     "output_type": "stream",
     "text": [
      "\r",
      "Upgrading database; v2 -> v3: : 0it [00:00, ?it/s]"
     ]
    },
    {
     "name": "stdout",
     "output_type": "stream",
     "text": [
      "\r",
      "Upgrading database; v2 -> v3: : 0it [00:00, ?it/s]"
     ]
    },
    {
     "name": "stdout",
     "output_type": "stream",
     "text": [
      "\n",
      "\r",
      "0it [00:00, ?it/s]"
     ]
    },
    {
     "name": "stdout",
     "output_type": "stream",
     "text": [
      "\r",
      "Upgrading database; v3 -> v4: : 0it [00:00, ?it/s]"
     ]
    },
    {
     "name": "stdout",
     "output_type": "stream",
     "text": [
      "\r",
      "Upgrading database; v3 -> v4: : 0it [00:00, ?it/s]"
     ]
    },
    {
     "name": "stdout",
     "output_type": "stream",
     "text": [
      "\n",
      "\r",
      "  0%|          | 0/1 [00:00<?, ?it/s]"
     ]
    },
    {
     "name": "stdout",
     "output_type": "stream",
     "text": [
      "\r",
      "Upgrading database; v4 -> v5:   0%|          | 0/1 [00:00<?, ?it/s]"
     ]
    },
    {
     "name": "stdout",
     "output_type": "stream",
     "text": [
      "\r",
      "Upgrading database; v4 -> v5: 100%|██████████| 1/1 [00:00<00:00, 773.29it/s]"
     ]
    },
    {
     "name": "stdout",
     "output_type": "stream",
     "text": [
      "\n",
      "\r",
      "0it [00:00, ?it/s]"
     ]
    },
    {
     "name": "stdout",
     "output_type": "stream",
     "text": [
      "\r",
      "Upgrading database; v5 -> v6: : 0it [00:00, ?it/s]"
     ]
    },
    {
     "name": "stdout",
     "output_type": "stream",
     "text": [
      "\r",
      "Upgrading database; v5 -> v6: : 0it [00:00, ?it/s]"
     ]
    },
    {
     "name": "stdout",
     "output_type": "stream",
     "text": [
      "\n",
      "\r",
      "  0%|          | 0/1 [00:00<?, ?it/s]"
     ]
    },
    {
     "name": "stdout",
     "output_type": "stream",
     "text": [
      "\r",
      "Upgrading database; v6 -> v7:   0%|          | 0/1 [00:00<?, ?it/s]"
     ]
    },
    {
     "name": "stdout",
     "output_type": "stream",
     "text": [
      "\r",
      "Upgrading database; v6 -> v7: 100%|██████████| 1/1 [00:00<00:00, 336.38it/s]"
     ]
    },
    {
     "name": "stdout",
     "output_type": "stream",
     "text": [
      "\n",
      "\r",
      "  0%|          | 0/1 [00:00<?, ?it/s]"
     ]
    },
    {
     "name": "stdout",
     "output_type": "stream",
     "text": [
      "\r",
      "Upgrading database; v7 -> v8:   0%|          | 0/1 [00:00<?, ?it/s]"
     ]
    },
    {
     "name": "stdout",
     "output_type": "stream",
     "text": [
      "\r",
      "Upgrading database; v7 -> v8: 100%|██████████| 1/1 [00:00<00:00, 648.47it/s]"
     ]
    },
    {
     "name": "stdout",
     "output_type": "stream",
     "text": [
      "\n",
      "\r",
      "  0%|          | 0/1 [00:00<?, ?it/s]"
     ]
    },
    {
     "name": "stdout",
     "output_type": "stream",
     "text": [
      "\r",
      "Upgrading database; v8 -> v9:   0%|          | 0/1 [00:00<?, ?it/s]"
     ]
    },
    {
     "name": "stdout",
     "output_type": "stream",
     "text": [
      "\r",
      "Upgrading database; v8 -> v9: 100%|██████████| 1/1 [00:00<00:00, 834.02it/s]"
     ]
    },
    {
     "name": "stdout",
     "output_type": "stream",
     "text": [
      "\n"
     ]
    }
   ],
   "source": [
    "initialise_database()\n",
    "exp = load_or_create_experiment(experiment_name='tutorial_exp', sample_name=\"no sample\")"
   ]
  },
  {
   "cell_type": "markdown",
   "metadata": {},
   "source": [
    "Here, we define a simple function to benchmark the time it takes to insert n points with either numeric or array data type.\n",
    "We will compare both the time used to call ``add_result`` and the time used for the full measurement."
   ]
  },
  {
   "cell_type": "code",
   "execution_count": 4,
   "metadata": {},
   "outputs": [],
   "source": [
    "def insert_data(paramtype, npoints, nreps=1):\n",
    "\n",
    "    meas = Measurement(exp=exp)\n",
    "\n",
    "    x1 = ManualParameter('x1')\n",
    "    x2 = ManualParameter('x2')\n",
    "    x3 = ManualParameter('x3')\n",
    "    y1 = ManualParameter('y1')\n",
    "    y2 = ManualParameter('y2')\n",
    "\n",
    "    meas.register_parameter(x1, paramtype=paramtype)\n",
    "    meas.register_parameter(x2, paramtype=paramtype)\n",
    "    meas.register_parameter(x3, paramtype=paramtype)\n",
    "    meas.register_parameter(y1, setpoints=[x1, x2, x3],\n",
    "                            paramtype=paramtype)\n",
    "    meas.register_parameter(y2, setpoints=[x1, x2, x3],\n",
    "                            paramtype=paramtype)\n",
    "    start = time.perf_counter()\n",
    "    with meas.run() as datasaver:\n",
    "        start_adding = time.perf_counter()\n",
    "        for i in range(nreps):\n",
    "            datasaver.add_result((x1, np.random.rand(npoints)),\n",
    "                                 (x2, np.random.rand(npoints)),\n",
    "                                 (x3, np.random.rand(npoints)),\n",
    "                                 (y1, np.random.rand(npoints)),\n",
    "                                 (y2, np.random.rand(npoints)))\n",
    "        stop_adding = time.perf_counter()\n",
    "        run_id = datasaver.run_id\n",
    "    stop = time.perf_counter()\n",
    "    tot_time = stop - start\n",
    "    add_time = stop_adding - start_adding\n",
    "    return tot_time, add_time, run_id"
   ]
  },
  {
   "cell_type": "markdown",
   "metadata": {},
   "source": [
    "## Comparison between numeric/array data and binary blob"
   ]
  },
  {
   "cell_type": "markdown",
   "metadata": {},
   "source": [
    "### Case1: Short experiment time"
   ]
  },
  {
   "cell_type": "code",
   "execution_count": 5,
   "metadata": {},
   "outputs": [
    {
     "name": "stdout",
     "output_type": "stream",
     "text": [
      "Starting experimental run with id: 1. \n",
      "Starting experimental run with id: 2. \n",
      "Starting experimental run with id: 3. \n"
     ]
    },
    {
     "name": "stdout",
     "output_type": "stream",
     "text": [
      "Starting experimental run with id: 4. \n"
     ]
    },
    {
     "name": "stdout",
     "output_type": "stream",
     "text": [
      "Starting experimental run with id: 5. \n"
     ]
    },
    {
     "name": "stdout",
     "output_type": "stream",
     "text": [
      "Starting experimental run with id: 6. \n",
      "Starting experimental run with id: 7. \n"
     ]
    },
    {
     "name": "stdout",
     "output_type": "stream",
     "text": [
      "Starting experimental run with id: 8. \n"
     ]
    },
    {
     "name": "stdout",
     "output_type": "stream",
     "text": [
      "Starting experimental run with id: 9. \n"
     ]
    },
    {
     "name": "stdout",
     "output_type": "stream",
     "text": [
      "Starting experimental run with id: 10. \n",
      "Starting experimental run with id: 11. \n"
     ]
    },
    {
     "name": "stdout",
     "output_type": "stream",
     "text": [
      "Starting experimental run with id: 12. \n",
      "Starting experimental run with id: 13. \n"
     ]
    },
    {
     "name": "stdout",
     "output_type": "stream",
     "text": [
      "Starting experimental run with id: 14. \n"
     ]
    }
   ],
   "source": [
    "sizes = [1,500,1000,2000,3000,4000,5000]\n",
    "t_numeric = []\n",
    "t_numeric_add = []\n",
    "t_array = []\n",
    "t_array_add = []\n",
    "for size in sizes:\n",
    "    tn, tna, run_id_n =  insert_data('numeric', size)\n",
    "    t_numeric.append(tn)\n",
    "    t_numeric_add.append(tna)\n",
    "\n",
    "    ta, taa, run_id_a =  insert_data('array', size)\n",
    "    t_array.append(ta)\n",
    "    t_array_add.append(taa)"
   ]
  },
  {
   "cell_type": "code",
   "execution_count": 6,
   "metadata": {},
   "outputs": [
    {
     "data": {
      "image/png": "[encoded data removed]",
      "text/plain": [
       "<Figure size 432x288 with 1 Axes>"
      ]
     },
     "metadata": {
      "needs_background": "light"
     },
     "output_type": "display_data"
    }
   ],
   "source": [
    "fig, ax = plt.subplots(1,1)\n",
    "ax.plot(sizes, t_numeric, 'o-', label='Inserting row-by-row')\n",
    "ax.plot(sizes, t_numeric_add, 'o-', label='Inserting row-by-row: add_result only')\n",
    "ax.plot(sizes, t_array, 'd-', label='Inserting as binary blob')\n",
    "ax.plot(sizes, t_array_add, 'd-', label='Inserting as binary blob: add_result only')\n",
    "ax.legend()\n",
    "ax.set_xlabel('Array length')\n",
    "ax.set_ylabel('Time (s)')\n",
    "fig.tight_layout()"
   ]
  },
  {
   "cell_type": "markdown",
   "metadata": {},
   "source": [
    "As shown in the latter figure, the time to setup and and close the experiment is approximately 0.4 sec. In case of small array sizes, the difference between inserting values of data as arrays and inserting them row-by-row is relatively unimportant. At larger array sizes, i.e. above 10000 points, the cost of writing data as individual datapoints starts to become important.\n"
   ]
  },
  {
   "cell_type": "markdown",
   "metadata": {},
   "source": [
    "### Case2: Long experiment time "
   ]
  },
  {
   "cell_type": "code",
   "execution_count": 7,
   "metadata": {},
   "outputs": [
    {
     "name": "stdout",
     "output_type": "stream",
     "text": [
      "Starting experimental run with id: 15. \n",
      "Starting experimental run with id: 16. \n",
      "Starting experimental run with id: 17. \n"
     ]
    },
    {
     "name": "stdout",
     "output_type": "stream",
     "text": [
      "Starting experimental run with id: 18. \n",
      "Starting experimental run with id: 19. \n"
     ]
    },
    {
     "name": "stdout",
     "output_type": "stream",
     "text": [
      "Starting experimental run with id: 20. \n"
     ]
    },
    {
     "name": "stdout",
     "output_type": "stream",
     "text": [
      "Starting experimental run with id: 21. \n"
     ]
    },
    {
     "name": "stdout",
     "output_type": "stream",
     "text": [
      "Starting experimental run with id: 22. \n"
     ]
    },
    {
     "name": "stdout",
     "output_type": "stream",
     "text": [
      "Starting experimental run with id: 23. \n"
     ]
    },
    {
     "name": "stdout",
     "output_type": "stream",
     "text": [
      "Starting experimental run with id: 24. \n"
     ]
    },
    {
     "name": "stdout",
     "output_type": "stream",
     "text": [
      "Starting experimental run with id: 25. \n"
     ]
    },
    {
     "name": "stdout",
     "output_type": "stream",
     "text": [
      "Starting experimental run with id: 26. \n"
     ]
    },
    {
     "name": "stdout",
     "output_type": "stream",
     "text": [
      "Starting experimental run with id: 27. \n"
     ]
    },
    {
     "name": "stdout",
     "output_type": "stream",
     "text": [
      "Starting experimental run with id: 28. \n"
     ]
    }
   ],
   "source": [
    "sizes = [1,500,1000,2000,3000,4000,5000]\n",
    "nreps = 100\n",
    "t_numeric = []\n",
    "t_numeric_add = []\n",
    "t_numeric_run_ids = []\n",
    "t_array = []\n",
    "t_array_add = []\n",
    "t_array_run_ids = []\n",
    "for size in sizes:\n",
    "    tn, tna, run_id_n =  insert_data('numeric', size, nreps=nreps)\n",
    "    t_numeric.append(tn)\n",
    "    t_numeric_add.append(tna)\n",
    "    t_numeric_run_ids.append(run_id_n)\n",
    "\n",
    "    ta, taa, run_id_a =  insert_data('array', size, nreps=nreps)\n",
    "    t_array.append(ta)\n",
    "    t_array_add.append(taa)\n",
    "    t_array_run_ids.append(run_id_a)"
   ]
  },
  {
   "cell_type": "code",
   "execution_count": 8,
   "metadata": {
    "scrolled": true
   },
   "outputs": [
    {
     "data": {
      "image/png": "[encoded data removed]",
      "text/plain": [
       "<Figure size 432x288 with 1 Axes>"
      ]
     },
     "metadata": {
      "needs_background": "light"
     },
     "output_type": "display_data"
    }
   ],
   "source": [
    "fig, ax = plt.subplots(1,1)\n",
    "ax.plot(sizes, t_numeric, 'o-', label='Inserting row-by-row')\n",
    "ax.plot(sizes, t_numeric_add, 'o-', label='Inserting row-by-row: add_result only')\n",
    "ax.plot(sizes, t_array, 'd-', label='Inserting as binary blob')\n",
    "ax.plot(sizes, t_array_add, 'd-', label='Inserting as binary blob: add_result only')\n",
    "ax.legend()\n",
    "ax.set_xlabel('Array length')\n",
    "ax.set_ylabel('Time (s)')\n",
    "fig.tight_layout()"
   ]
  },
  {
   "cell_type": "markdown",
   "metadata": {},
   "source": [
    "However, as we increase the length of the experiment, as seen here by repeating the insertion 100 times, we see a big difference between inserting values of the data row-by-row and inserting it as a binary blob."
   ]
  },
  {
   "cell_type": "markdown",
   "metadata": {},
   "source": [
    "## Loading the data "
   ]
  },
  {
   "cell_type": "code",
   "execution_count": 9,
   "metadata": {},
   "outputs": [],
   "source": [
    "from qcodes.dataset.data_set import load_by_id\n",
    "from qcodes.dataset.data_export import get_data_by_id"
   ]
  },
  {
   "cell_type": "markdown",
   "metadata": {},
   "source": [
    "As usual you can load the data by using the ``load_by_id`` function but you will notice that the different storage methods\n",
    "are reflected in shape of the data as it is retrieved. "
   ]
  },
  {
   "cell_type": "code",
   "execution_count": 10,
   "metadata": {},
   "outputs": [],
   "source": [
    "run_id_n = t_numeric_run_ids[0]\n",
    "run_id_a = t_array_run_ids[0]"
   ]
  },
  {
   "cell_type": "code",
   "execution_count": 11,
   "metadata": {
    "scrolled": true
   },
   "outputs": [
    {
     "data": {
      "text/plain": [
       "{'x1': {'x1': array([0.43530648, 0.43530648, 0.2479804 , 0.2479804 , 0.55254158,\n",
       "         0.55254158, 0.28686392, 0.28686392, 0.77452672, 0.77452672,\n",
       "         0.53309505, 0.53309505, 0.08726307, 0.08726307, 0.58564053,\n",
       "         0.58564053, 0.80856718, 0.80856718, 0.10347602, 0.10347602,\n",
       "         0.87231868, 0.87231868, 0.33489208, 0.33489208, 0.56777663,\n",
       "         0.56777663, 0.88029011, 0.88029011, 0.60778237, 0.60778237,\n",
       "         0.24907621, 0.24907621, 0.02830852, 0.02830852, 0.86312795,\n",
       "         0.86312795, 0.2171733 , 0.2171733 , 0.25825074, 0.25825074,\n",
       "         0.64564456, 0.64564456, 0.23284892, 0.23284892, 0.25342228,\n",
       "         0.25342228, 0.20755676, 0.20755676, 0.96195577, 0.96195577,\n",
       "         0.67672865, 0.67672865, 0.393801  , 0.393801  , 0.96024403,\n",
       "         0.96024403, 0.51302714, 0.51302714, 0.09896526, 0.09896526,\n",
       "         0.3127951 , 0.3127951 , 0.57678418, 0.57678418, 0.21311435,\n",
       "         0.21311435, 0.32136184, 0.32136184, 0.44702322, 0.44702322,\n",
       "         0.61821942, 0.61821942, 0.57039965, 0.57039965, 0.53447413,\n",
       "         0.53447413, 0.6108346 , 0.6108346 , 0.65466271, 0.65466271,\n",
       "         0.39460782, 0.39460782, 0.50232731, 0.50232731, 0.02781915,\n",
       "         0.02781915, 0.83013006, 0.83013006, 0.6612423 , 0.6612423 ,\n",
       "         0.14351197, 0.14351197, 0.95984817, 0.95984817, 0.90965436,\n",
       "         0.90965436, 0.54045911, 0.54045911, 0.15164548, 0.15164548,\n",
       "         0.25823923, 0.25823923, 0.14491384, 0.14491384, 0.69059738,\n",
       "         0.69059738, 0.66926897, 0.66926897, 0.25178537, 0.25178537,\n",
       "         0.02104162, 0.02104162, 0.68595485, 0.68595485, 0.83591203,\n",
       "         0.83591203, 0.68432403, 0.68432403, 0.02445593, 0.02445593,\n",
       "         0.68939558, 0.68939558, 0.22375922, 0.22375922, 0.97407131,\n",
       "         0.97407131, 0.04366311, 0.04366311, 0.90083477, 0.90083477,\n",
       "         0.05029105, 0.05029105, 0.09771804, 0.09771804, 0.64208869,\n",
       "         0.64208869, 0.19516922, 0.19516922, 0.26322605, 0.26322605,\n",
       "         0.01431796, 0.01431796, 0.03132827, 0.03132827, 0.30121434,\n",
       "         0.30121434, 0.24996308, 0.24996308, 0.52098795, 0.52098795,\n",
       "         0.38581873, 0.38581873, 0.14758556, 0.14758556, 0.41026098,\n",
       "         0.41026098, 0.16047325, 0.16047325, 0.81297702, 0.81297702,\n",
       "         0.25428773, 0.25428773, 0.10865996, 0.10865996, 0.08238533,\n",
       "         0.08238533, 0.42241046, 0.42241046, 0.05903124, 0.05903124,\n",
       "         0.24936991, 0.24936991, 0.87198115, 0.87198115, 0.35252206,\n",
       "         0.35252206, 0.28520383, 0.28520383, 0.51795365, 0.51795365,\n",
       "         0.08633489, 0.08633489, 0.38803013, 0.38803013, 0.3807431 ,\n",
       "         0.3807431 , 0.58351834, 0.58351834, 0.4138944 , 0.4138944 ,\n",
       "         0.26285331, 0.26285331, 0.48099214, 0.48099214, 0.38946704,\n",
       "         0.38946704, 0.27710636, 0.27710636, 0.08530047, 0.08530047])}}"
      ]
     },
     "execution_count": 11,
     "metadata": {},
     "output_type": "execute_result"
    }
   ],
   "source": [
    "ds = load_by_id(run_id_n)\n",
    "ds.get_parameter_data('x1')"
   ]
  },
  {
   "cell_type": "markdown",
   "metadata": {},
   "source": [
    "And a dataset stored as binary arrays"
   ]
  },
  {
   "cell_type": "code",
   "execution_count": 12,
   "metadata": {
    "scrolled": true
   },
   "outputs": [
    {
     "data": {
      "text/plain": [
       "{'x1': {'x1': array([[0.74538041],\n",
       "         [0.74538041],\n",
       "         [0.94849624],\n",
       "         [0.94849624],\n",
       "         [0.99355885],\n",
       "         [0.99355885],\n",
       "         [0.82201805],\n",
       "         [0.82201805],\n",
       "         [0.10889102],\n",
       "         [0.10889102],\n",
       "         [0.01897105],\n",
       "         [0.01897105],\n",
       "         [0.49867535],\n",
       "         [0.49867535],\n",
       "         [0.95710846],\n",
       "         [0.95710846],\n",
       "         [0.38514054],\n",
       "         [0.38514054],\n",
       "         [0.88383493],\n",
       "         [0.88383493],\n",
       "         [0.99627481],\n",
       "         [0.99627481],\n",
       "         [0.81581741],\n",
       "         [0.81581741],\n",
       "         [0.93520731],\n",
       "         [0.93520731],\n",
       "         [0.380048  ],\n",
       "         [0.380048  ],\n",
       "         [0.3216323 ],\n",
       "         [0.3216323 ],\n",
       "         [0.55496779],\n",
       "         [0.55496779],\n",
       "         [0.724715  ],\n",
       "         [0.724715  ],\n",
       "         [0.05559939],\n",
       "         [0.05559939],\n",
       "         [0.0436263 ],\n",
       "         [0.0436263 ],\n",
       "         [0.43385395],\n",
       "         [0.43385395],\n",
       "         [0.78517766],\n",
       "         [0.78517766],\n",
       "         [0.04062517],\n",
       "         [0.04062517],\n",
       "         [0.90043649],\n",
       "         [0.90043649],\n",
       "         [0.41215574],\n",
       "         [0.41215574],\n",
       "         [0.28267089],\n",
       "         [0.28267089],\n",
       "         [0.34229365],\n",
       "         [0.34229365],\n",
       "         [0.09348991],\n",
       "         [0.09348991],\n",
       "         [0.21181139],\n",
       "         [0.21181139],\n",
       "         [0.72102298],\n",
       "         [0.72102298],\n",
       "         [0.92723154],\n",
       "         [0.92723154],\n",
       "         [0.73639942],\n",
       "         [0.73639942],\n",
       "         [0.18987299],\n",
       "         [0.18987299],\n",
       "         [0.84360629],\n",
       "         [0.84360629],\n",
       "         [0.80142198],\n",
       "         [0.80142198],\n",
       "         [0.36201938],\n",
       "         [0.36201938],\n",
       "         [0.02803556],\n",
       "         [0.02803556],\n",
       "         [0.87634587],\n",
       "         [0.87634587],\n",
       "         [0.96382098],\n",
       "         [0.96382098],\n",
       "         [0.90317193],\n",
       "         [0.90317193],\n",
       "         [0.70933801],\n",
       "         [0.70933801],\n",
       "         [0.05617284],\n",
       "         [0.05617284],\n",
       "         [0.64848208],\n",
       "         [0.64848208],\n",
       "         [0.58557718],\n",
       "         [0.58557718],\n",
       "         [0.81529127],\n",
       "         [0.81529127],\n",
       "         [0.05340251],\n",
       "         [0.05340251],\n",
       "         [0.72571752],\n",
       "         [0.72571752],\n",
       "         [0.06566032],\n",
       "         [0.06566032],\n",
       "         [0.79233694],\n",
       "         [0.79233694],\n",
       "         [0.14934382],\n",
       "         [0.14934382],\n",
       "         [0.68899178],\n",
       "         [0.68899178],\n",
       "         [0.51678472],\n",
       "         [0.51678472],\n",
       "         [0.25265549],\n",
       "         [0.25265549],\n",
       "         [0.50700331],\n",
       "         [0.50700331],\n",
       "         [0.40921483],\n",
       "         [0.40921483],\n",
       "         [0.97693612],\n",
       "         [0.97693612],\n",
       "         [0.29619435],\n",
       "         [0.29619435],\n",
       "         [0.08078385],\n",
       "         [0.08078385],\n",
       "         [0.62693615],\n",
       "         [0.62693615],\n",
       "         [0.22029327],\n",
       "         [0.22029327],\n",
       "         [0.94756568],\n",
       "         [0.94756568],\n",
       "         [0.35131012],\n",
       "         [0.35131012],\n",
       "         [0.34484532],\n",
       "         [0.34484532],\n",
       "         [0.59838699],\n",
       "         [0.59838699],\n",
       "         [0.7809086 ],\n",
       "         [0.7809086 ],\n",
       "         [0.82108167],\n",
       "         [0.82108167],\n",
       "         [0.24023832],\n",
       "         [0.24023832],\n",
       "         [0.48783165],\n",
       "         [0.48783165],\n",
       "         [0.45328052],\n",
       "         [0.45328052],\n",
       "         [0.4276743 ],\n",
       "         [0.4276743 ],\n",
       "         [0.97754132],\n",
       "         [0.97754132],\n",
       "         [0.93827011],\n",
       "         [0.93827011],\n",
       "         [0.01922467],\n",
       "         [0.01922467],\n",
       "         [0.2305367 ],\n",
       "         [0.2305367 ],\n",
       "         [0.55087573],\n",
       "         [0.55087573],\n",
       "         [0.74745259],\n",
       "         [0.74745259],\n",
       "         [0.04567596],\n",
       "         [0.04567596],\n",
       "         [0.53349618],\n",
       "         [0.53349618],\n",
       "         [0.39362971],\n",
       "         [0.39362971],\n",
       "         [0.60664709],\n",
       "         [0.60664709],\n",
       "         [0.39169868],\n",
       "         [0.39169868],\n",
       "         [0.8210582 ],\n",
       "         [0.8210582 ],\n",
       "         [0.87539576],\n",
       "         [0.87539576],\n",
       "         [0.63051303],\n",
       "         [0.63051303],\n",
       "         [0.9450648 ],\n",
       "         [0.9450648 ],\n",
       "         [0.3204342 ],\n",
       "         [0.3204342 ],\n",
       "         [0.64350893],\n",
       "         [0.64350893],\n",
       "         [0.60654831],\n",
       "         [0.60654831],\n",
       "         [0.15761548],\n",
       "         [0.15761548],\n",
       "         [0.6703435 ],\n",
       "         [0.6703435 ],\n",
       "         [0.99002568],\n",
       "         [0.99002568],\n",
       "         [0.49168429],\n",
       "         [0.49168429],\n",
       "         [0.05584632],\n",
       "         [0.05584632],\n",
       "         [0.90405169],\n",
       "         [0.90405169],\n",
       "         [0.78861619],\n",
       "         [0.78861619],\n",
       "         [0.88907593],\n",
       "         [0.88907593],\n",
       "         [0.2702908 ],\n",
       "         [0.2702908 ],\n",
       "         [0.84735424],\n",
       "         [0.84735424],\n",
       "         [0.1612992 ],\n",
       "         [0.1612992 ],\n",
       "         [0.03999928],\n",
       "         [0.03999928],\n",
       "         [0.58088139],\n",
       "         [0.58088139]])}}"
      ]
     },
     "execution_count": 12,
     "metadata": {},
     "output_type": "execute_result"
    }
   ],
   "source": [
    "ds = load_by_id(run_id_a)\n",
    "ds.get_parameter_data('x1')"
   ]
  },
  {
   "cell_type": "code",
   "execution_count": null,
   "metadata": {},
   "outputs": [],
   "source": []
  }
 ],
 "metadata": {
  "kernelspec": {
   "display_name": "Python 3",
   "language": "python",
   "name": "python3"
  },
  "language_info": {
   "codemirror_mode": {
    "name": "ipython",
    "version": 3
   },
   "file_extension": ".py",
   "mimetype": "text/x-python",
   "name": "python",
   "nbconvert_exporter": "python",
   "pygments_lexer": "ipython3",
   "version": "3.7.7"
  },
  "nbsphinx": {
   "timeout": 600
  },
  "toc": {
   "base_numbering": 1,
   "nav_menu": {},
   "number_sections": true,
   "sideBar": true,
   "skip_h1_title": false,
   "title_cell": "Table of Contents",
   "title_sidebar": "Contents",
   "toc_cell": false,
   "toc_position": {},
   "toc_section_display": true,
   "toc_window_display": false
  },
  "varInspector": {
   "cols": {
    "lenName": 16,
    "lenType": 16,
    "lenVar": 40
   },
   "kernels_config": {
    "python": {
     "delete_cmd_postfix": "",
     "delete_cmd_prefix": "del ",
     "library": "var_list.py",
     "varRefreshCmd": "print(var_dic_list())"
    },
    "r": {
     "delete_cmd_postfix": ") ",
     "delete_cmd_prefix": "rm(",
     "library": "var_list.r",
     "varRefreshCmd": "cat(var_dic_list()) "
    }
   },
   "types_to_exclude": [
    "module",
    "function",
    "builtin_function_or_method",
    "instance",
    "_Feature"
   ],
   "window_display": false
  }
 },
 "nbformat": 4,
 "nbformat_minor": 2
}
