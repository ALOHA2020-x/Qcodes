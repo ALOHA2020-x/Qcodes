{
 "cells": [
  {
   "cell_type": "markdown",
   "metadata": {},
   "source": [
    "# DataSet Performance\n",
    "\n",
    "This notebook shows the trade-off between inserting data into a database row-by-row and as binary blobs. Inserting the data row-by-row means that we have direct access to all the data and may perform queries directly on the values of the data. On the other hand, as we shall see, this is much slower than inserting the data directly as binary blobs."
   ]
  },
  {
   "cell_type": "markdown",
   "metadata": {},
   "source": [
    "First, we choose a new location for the database to ensure that we don't add a bunch of benchmarking data to the default one."
   ]
  },
  {
   "cell_type": "code",
   "execution_count": 1,
   "metadata": {
    "execution": {
     "iopub.execute_input": "2020-10-30T16:46:16.361315Z",
     "iopub.status.busy": "2020-10-30T16:46:16.360753Z",
     "iopub.status.idle": "2020-10-30T16:46:17.374941Z",
     "shell.execute_reply": "2020-10-30T16:46:17.375544Z"
    }
   },
   "outputs": [
    {
     "name": "stdout",
     "output_type": "stream",
     "text": [
      "Logging hadn't been started.\n",
      "Activating auto-logging. Current session state plus future input saved.\n",
      "Filename       : /home/vsts/.qcodes/logs/command_history.log\n",
      "Mode           : append\n",
      "Output logging : True\n",
      "Raw input log  : False\n",
      "Timestamping   : True\n",
      "State          : active\n"
     ]
    },
    {
     "name": "stdout",
     "output_type": "stream",
     "text": [
      "Qcodes Logfile : /home/vsts/.qcodes/logs/201030-14734-qcodes.log\n"
     ]
    }
   ],
   "source": [
    "import os\n",
    "cwd = os.getcwd()\n",
    "import qcodes as qc\n",
    "qc.config[\"core\"][\"db_location\"] = os.path.join(cwd, 'testing.db')\n"
   ]
  },
  {
   "cell_type": "code",
   "execution_count": 2,
   "metadata": {
    "execution": {
     "iopub.execute_input": "2020-10-30T16:46:17.382502Z",
     "iopub.status.busy": "2020-10-30T16:46:17.381921Z",
     "iopub.status.idle": "2020-10-30T16:46:17.578001Z",
     "shell.execute_reply": "2020-10-30T16:46:17.577028Z"
    }
   },
   "outputs": [],
   "source": [
    "%matplotlib inline\n",
    "import time\n",
    "import matplotlib.pyplot as plt\n",
    "import numpy as np\n",
    "\n",
    "import qcodes as qc\n",
    "from qcodes.instrument.parameter import ManualParameter\n",
    "from qcodes.dataset.experiment_container import (Experiment,\n",
    "                                                 load_last_experiment,\n",
    "                                                 new_experiment)\n",
    "from qcodes.dataset.sqlite.database import initialise_database\n",
    "from qcodes import load_or_create_experiment\n",
    "from qcodes.dataset.measurements import Measurement"
   ]
  },
  {
   "cell_type": "code",
   "execution_count": 3,
   "metadata": {
    "execution": {
     "iopub.execute_input": "2020-10-30T16:46:17.581565Z",
     "iopub.status.busy": "2020-10-30T16:46:17.581008Z",
     "iopub.status.idle": "2020-10-30T16:46:17.695335Z",
     "shell.execute_reply": "2020-10-30T16:46:17.694835Z"
    }
   },
   "outputs": [
    {
     "name": "stdout",
     "output_type": "stream",
     "text": [
      "\r",
      "0it [00:00, ?it/s]"
     ]
    },
    {
     "name": "stdout",
     "output_type": "stream",
     "text": [
      "\r",
      "Upgrading database; v0 -> v1: : 0it [00:00, ?it/s]"
     ]
    },
    {
     "name": "stdout",
     "output_type": "stream",
     "text": [
      "\r",
      "Upgrading database; v0 -> v1: : 0it [00:00, ?it/s]"
     ]
    },
    {
     "name": "stdout",
     "output_type": "stream",
     "text": [
      "\n",
      "\r",
      "  0%|          | 0/1 [00:00<?, ?it/s]"
     ]
    },
    {
     "name": "stdout",
     "output_type": "stream",
     "text": [
      "\r",
      "Upgrading database; v1 -> v2:   0%|          | 0/1 [00:00<?, ?it/s]"
     ]
    },
    {
     "name": "stdout",
     "output_type": "stream",
     "text": [
      "\r",
      "Upgrading database; v1 -> v2: 100%|██████████| 1/1 [00:00<00:00, 605.59it/s]"
     ]
    },
    {
     "name": "stdout",
     "output_type": "stream",
     "text": [
      "\n",
      "\r",
      "0it [00:00, ?it/s]"
     ]
    },
    {
     "name": "stdout",
     "output_type": "stream",
     "text": [
      "\r",
      "Upgrading database; v2 -> v3: : 0it [00:00, ?it/s]"
     ]
    },
    {
     "name": "stdout",
     "output_type": "stream",
     "text": [
      "\r",
      "Upgrading database; v2 -> v3: : 0it [00:00, ?it/s]"
     ]
    },
    {
     "name": "stdout",
     "output_type": "stream",
     "text": [
      "\n",
      "\r",
      "0it [00:00, ?it/s]"
     ]
    },
    {
     "name": "stdout",
     "output_type": "stream",
     "text": [
      "\r",
      "Upgrading database; v3 -> v4: : 0it [00:00, ?it/s]"
     ]
    },
    {
     "name": "stdout",
     "output_type": "stream",
     "text": [
      "\r",
      "Upgrading database; v3 -> v4: : 0it [00:00, ?it/s]"
     ]
    },
    {
     "name": "stdout",
     "output_type": "stream",
     "text": [
      "\n",
      "\r",
      "  0%|          | 0/1 [00:00<?, ?it/s]"
     ]
    },
    {
     "name": "stdout",
     "output_type": "stream",
     "text": [
      "\r",
      "Upgrading database; v4 -> v5:   0%|          | 0/1 [00:00<?, ?it/s]"
     ]
    },
    {
     "name": "stdout",
     "output_type": "stream",
     "text": [
      "\r",
      "Upgrading database; v4 -> v5: 100%|██████████| 1/1 [00:00<00:00, 487.94it/s]"
     ]
    },
    {
     "name": "stdout",
     "output_type": "stream",
     "text": [
      "\n",
      "\r",
      "0it [00:00, ?it/s]"
     ]
    },
    {
     "name": "stdout",
     "output_type": "stream",
     "text": [
      "\r",
      "Upgrading database; v5 -> v6: : 0it [00:00, ?it/s]"
     ]
    },
    {
     "name": "stdout",
     "output_type": "stream",
     "text": [
      "\r",
      "Upgrading database; v5 -> v6: : 0it [00:00, ?it/s]"
     ]
    },
    {
     "name": "stdout",
     "output_type": "stream",
     "text": [
      "\n",
      "\r",
      "  0%|          | 0/1 [00:00<?, ?it/s]"
     ]
    },
    {
     "name": "stdout",
     "output_type": "stream",
     "text": [
      "\r",
      "Upgrading database; v6 -> v7:   0%|          | 0/1 [00:00<?, ?it/s]"
     ]
    },
    {
     "name": "stdout",
     "output_type": "stream",
     "text": [
      "\r",
      "Upgrading database; v6 -> v7: 100%|██████████| 1/1 [00:00<00:00, 365.04it/s]"
     ]
    },
    {
     "name": "stdout",
     "output_type": "stream",
     "text": [
      "\n",
      "\r",
      "  0%|          | 0/1 [00:00<?, ?it/s]"
     ]
    },
    {
     "name": "stdout",
     "output_type": "stream",
     "text": [
      "\r",
      "Upgrading database; v7 -> v8:   0%|          | 0/1 [00:00<?, ?it/s]"
     ]
    },
    {
     "name": "stdout",
     "output_type": "stream",
     "text": [
      "\r",
      "Upgrading database; v7 -> v8: 100%|██████████| 1/1 [00:00<00:00, 401.37it/s]"
     ]
    },
    {
     "name": "stdout",
     "output_type": "stream",
     "text": [
      "\n",
      "\r",
      "  0%|          | 0/1 [00:00<?, ?it/s]"
     ]
    },
    {
     "name": "stdout",
     "output_type": "stream",
     "text": [
      "\r",
      "Upgrading database; v8 -> v9:   0%|          | 0/1 [00:00<?, ?it/s]"
     ]
    },
    {
     "name": "stdout",
     "output_type": "stream",
     "text": [
      "\r",
      "Upgrading database; v8 -> v9: 100%|██████████| 1/1 [00:00<00:00, 412.87it/s]"
     ]
    },
    {
     "name": "stdout",
     "output_type": "stream",
     "text": [
      "\n"
     ]
    }
   ],
   "source": [
    "initialise_database()\n",
    "exp = load_or_create_experiment(experiment_name='tutorial_exp', sample_name=\"no sample\")"
   ]
  },
  {
   "cell_type": "markdown",
   "metadata": {},
   "source": [
    "Here, we define a simple function to benchmark the time it takes to insert n points with either numeric or array data type.\n",
    "We will compare both the time used to call ``add_result`` and the time used for the full measurement."
   ]
  },
  {
   "cell_type": "code",
   "execution_count": 4,
   "metadata": {
    "execution": {
     "iopub.execute_input": "2020-10-30T16:46:17.704816Z",
     "iopub.status.busy": "2020-10-30T16:46:17.703549Z",
     "iopub.status.idle": "2020-10-30T16:46:17.705433Z",
     "shell.execute_reply": "2020-10-30T16:46:17.705878Z"
    }
   },
   "outputs": [],
   "source": [
    "def insert_data(paramtype, npoints, nreps=1):\n",
    "\n",
    "    meas = Measurement(exp=exp)\n",
    "\n",
    "    x1 = ManualParameter('x1')\n",
    "    x2 = ManualParameter('x2')\n",
    "    x3 = ManualParameter('x3')\n",
    "    y1 = ManualParameter('y1')\n",
    "    y2 = ManualParameter('y2')\n",
    "\n",
    "    meas.register_parameter(x1, paramtype=paramtype)\n",
    "    meas.register_parameter(x2, paramtype=paramtype)\n",
    "    meas.register_parameter(x3, paramtype=paramtype)\n",
    "    meas.register_parameter(y1, setpoints=[x1, x2, x3],\n",
    "                            paramtype=paramtype)\n",
    "    meas.register_parameter(y2, setpoints=[x1, x2, x3],\n",
    "                            paramtype=paramtype)\n",
    "    start = time.perf_counter()\n",
    "    with meas.run() as datasaver:\n",
    "        start_adding = time.perf_counter()\n",
    "        for i in range(nreps):\n",
    "            datasaver.add_result((x1, np.random.rand(npoints)),\n",
    "                                 (x2, np.random.rand(npoints)),\n",
    "                                 (x3, np.random.rand(npoints)),\n",
    "                                 (y1, np.random.rand(npoints)),\n",
    "                                 (y2, np.random.rand(npoints)))\n",
    "        stop_adding = time.perf_counter()\n",
    "        run_id = datasaver.run_id\n",
    "    stop = time.perf_counter()\n",
    "    tot_time = stop - start\n",
    "    add_time = stop_adding - start_adding\n",
    "    return tot_time, add_time, run_id"
   ]
  },
  {
   "cell_type": "markdown",
   "metadata": {},
   "source": [
    "## Comparison between numeric/array data and binary blob"
   ]
  },
  {
   "cell_type": "markdown",
   "metadata": {},
   "source": [
    "### Case1: Short experiment time"
   ]
  },
  {
   "cell_type": "code",
   "execution_count": 5,
   "metadata": {
    "execution": {
     "iopub.execute_input": "2020-10-30T16:46:17.712632Z",
     "iopub.status.busy": "2020-10-30T16:46:17.711979Z",
     "iopub.status.idle": "2020-10-30T16:46:18.556492Z",
     "shell.execute_reply": "2020-10-30T16:46:18.555669Z"
    }
   },
   "outputs": [
    {
     "name": "stdout",
     "output_type": "stream",
     "text": [
      "Starting experimental run with id: 1. \n",
      "Starting experimental run with id: 2. \n",
      "Starting experimental run with id: 3. \n",
      "Starting experimental run with id: 4. \n",
      "Starting experimental run with id: 5. \n"
     ]
    },
    {
     "name": "stdout",
     "output_type": "stream",
     "text": [
      "Starting experimental run with id: 6. \n"
     ]
    },
    {
     "name": "stdout",
     "output_type": "stream",
     "text": [
      "Starting experimental run with id: 7. \n"
     ]
    },
    {
     "name": "stdout",
     "output_type": "stream",
     "text": [
      "Starting experimental run with id: 8. \n",
      "Starting experimental run with id: 9. \n"
     ]
    },
    {
     "name": "stdout",
     "output_type": "stream",
     "text": [
      "Starting experimental run with id: 10. \n",
      "Starting experimental run with id: 11. \n"
     ]
    },
    {
     "name": "stdout",
     "output_type": "stream",
     "text": [
      "Starting experimental run with id: 12. \n",
      "Starting experimental run with id: 13. \n"
     ]
    },
    {
     "name": "stdout",
     "output_type": "stream",
     "text": [
      "Starting experimental run with id: 14. \n"
     ]
    }
   ],
   "source": [
    "sizes = [1,500,1000,2000,3000,4000,5000]\n",
    "t_numeric = []\n",
    "t_numeric_add = []\n",
    "t_array = []\n",
    "t_array_add = []\n",
    "for size in sizes:\n",
    "    tn, tna, run_id_n =  insert_data('numeric', size)\n",
    "    t_numeric.append(tn)\n",
    "    t_numeric_add.append(tna)\n",
    "\n",
    "    ta, taa, run_id_a =  insert_data('array', size)\n",
    "    t_array.append(ta)\n",
    "    t_array_add.append(taa)"
   ]
  },
  {
   "cell_type": "code",
   "execution_count": 6,
   "metadata": {
    "execution": {
     "iopub.execute_input": "2020-10-30T16:46:18.573648Z",
     "iopub.status.busy": "2020-10-30T16:46:18.573075Z",
     "iopub.status.idle": "2020-10-30T16:46:18.747904Z",
     "shell.execute_reply": "2020-10-30T16:46:18.748429Z"
    }
   },
   "outputs": [
    {
     "data": {
      "image/png": "[encoded data removed]",
      "text/plain": [
       "<Figure size 432x288 with 1 Axes>"
      ]
     },
     "metadata": {
      "needs_background": "light"
     },
     "output_type": "display_data"
    }
   ],
   "source": [
    "fig, ax = plt.subplots(1,1)\n",
    "ax.plot(sizes, t_numeric, 'o-', label='Inserting row-by-row')\n",
    "ax.plot(sizes, t_numeric_add, 'o-', label='Inserting row-by-row: add_result only')\n",
    "ax.plot(sizes, t_array, 'd-', label='Inserting as binary blob')\n",
    "ax.plot(sizes, t_array_add, 'd-', label='Inserting as binary blob: add_result only')\n",
    "ax.legend()\n",
    "ax.set_xlabel('Array length')\n",
    "ax.set_ylabel('Time (s)')\n",
    "fig.tight_layout()"
   ]
  },
  {
   "cell_type": "markdown",
   "metadata": {},
   "source": [
    "As shown in the latter figure, the time to setup and and close the experiment is approximately 0.4 sec. In case of small array sizes, the difference between inserting values of data as arrays and inserting them row-by-row is relatively unimportant. At larger array sizes, i.e. above 10000 points, the cost of writing data as individual datapoints starts to become important.\n"
   ]
  },
  {
   "cell_type": "markdown",
   "metadata": {},
   "source": [
    "### Case2: Long experiment time "
   ]
  },
  {
   "cell_type": "code",
   "execution_count": 7,
   "metadata": {
    "execution": {
     "iopub.execute_input": "2020-10-30T16:46:18.750970Z",
     "iopub.status.busy": "2020-10-30T16:46:18.750403Z",
     "iopub.status.idle": "2020-10-30T16:47:19.950248Z",
     "shell.execute_reply": "2020-10-30T16:47:19.949725Z"
    }
   },
   "outputs": [
    {
     "name": "stdout",
     "output_type": "stream",
     "text": [
      "Starting experimental run with id: 15. \n",
      "Starting experimental run with id: 16. \n",
      "Starting experimental run with id: 17. \n"
     ]
    },
    {
     "name": "stdout",
     "output_type": "stream",
     "text": [
      "Starting experimental run with id: 18. \n",
      "Starting experimental run with id: 19. \n"
     ]
    },
    {
     "name": "stdout",
     "output_type": "stream",
     "text": [
      "Starting experimental run with id: 20. \n"
     ]
    },
    {
     "name": "stdout",
     "output_type": "stream",
     "text": [
      "Starting experimental run with id: 21. \n"
     ]
    },
    {
     "name": "stdout",
     "output_type": "stream",
     "text": [
      "Starting experimental run with id: 22. \n"
     ]
    },
    {
     "name": "stdout",
     "output_type": "stream",
     "text": [
      "Starting experimental run with id: 23. \n"
     ]
    },
    {
     "name": "stdout",
     "output_type": "stream",
     "text": [
      "Starting experimental run with id: 24. \n"
     ]
    },
    {
     "name": "stdout",
     "output_type": "stream",
     "text": [
      "Starting experimental run with id: 25. \n"
     ]
    },
    {
     "name": "stdout",
     "output_type": "stream",
     "text": [
      "Starting experimental run with id: 26. \n"
     ]
    },
    {
     "name": "stdout",
     "output_type": "stream",
     "text": [
      "Starting experimental run with id: 27. \n"
     ]
    },
    {
     "name": "stdout",
     "output_type": "stream",
     "text": [
      "Starting experimental run with id: 28. \n"
     ]
    }
   ],
   "source": [
    "sizes = [1,500,1000,2000,3000,4000,5000]\n",
    "nreps = 100\n",
    "t_numeric = []\n",
    "t_numeric_add = []\n",
    "t_numeric_run_ids = []\n",
    "t_array = []\n",
    "t_array_add = []\n",
    "t_array_run_ids = []\n",
    "for size in sizes:\n",
    "    tn, tna, run_id_n =  insert_data('numeric', size, nreps=nreps)\n",
    "    t_numeric.append(tn)\n",
    "    t_numeric_add.append(tna)\n",
    "    t_numeric_run_ids.append(run_id_n)\n",
    "\n",
    "    ta, taa, run_id_a =  insert_data('array', size, nreps=nreps)\n",
    "    t_array.append(ta)\n",
    "    t_array_add.append(taa)\n",
    "    t_array_run_ids.append(run_id_a)"
   ]
  },
  {
   "cell_type": "code",
   "execution_count": 8,
   "metadata": {
    "execution": {
     "iopub.execute_input": "2020-10-30T16:47:19.970223Z",
     "iopub.status.busy": "2020-10-30T16:47:19.955752Z",
     "iopub.status.idle": "2020-10-30T16:47:20.151202Z",
     "shell.execute_reply": "2020-10-30T16:47:20.151949Z"
    },
    "scrolled": true
   },
   "outputs": [
    {
     "data": {
      "image/png": "[encoded data removed]",
      "text/plain": [
       "<Figure size 432x288 with 1 Axes>"
      ]
     },
     "metadata": {
      "needs_background": "light"
     },
     "output_type": "display_data"
    }
   ],
   "source": [
    "fig, ax = plt.subplots(1,1)\n",
    "ax.plot(sizes, t_numeric, 'o-', label='Inserting row-by-row')\n",
    "ax.plot(sizes, t_numeric_add, 'o-', label='Inserting row-by-row: add_result only')\n",
    "ax.plot(sizes, t_array, 'd-', label='Inserting as binary blob')\n",
    "ax.plot(sizes, t_array_add, 'd-', label='Inserting as binary blob: add_result only')\n",
    "ax.legend()\n",
    "ax.set_xlabel('Array length')\n",
    "ax.set_ylabel('Time (s)')\n",
    "fig.tight_layout()"
   ]
  },
  {
   "cell_type": "markdown",
   "metadata": {},
   "source": [
    "However, as we increase the length of the experiment, as seen here by repeating the insertion 100 times, we see a big difference between inserting values of the data row-by-row and inserting it as a binary blob."
   ]
  },
  {
   "cell_type": "markdown",
   "metadata": {},
   "source": [
    "## Loading the data "
   ]
  },
  {
   "cell_type": "code",
   "execution_count": 9,
   "metadata": {
    "execution": {
     "iopub.execute_input": "2020-10-30T16:47:20.156146Z",
     "iopub.status.busy": "2020-10-30T16:47:20.155590Z",
     "iopub.status.idle": "2020-10-30T16:47:20.159410Z",
     "shell.execute_reply": "2020-10-30T16:47:20.159871Z"
    }
   },
   "outputs": [],
   "source": [
    "from qcodes.dataset.data_set import load_by_id\n",
    "from qcodes.dataset.data_export import get_data_by_id"
   ]
  },
  {
   "cell_type": "markdown",
   "metadata": {},
   "source": [
    "As usual you can load the data by using the ``load_by_id`` function but you will notice that the different storage methods\n",
    "are reflected in shape of the data as it is retrieved. "
   ]
  },
  {
   "cell_type": "code",
   "execution_count": 10,
   "metadata": {
    "execution": {
     "iopub.execute_input": "2020-10-30T16:47:20.163907Z",
     "iopub.status.busy": "2020-10-30T16:47:20.163373Z",
     "iopub.status.idle": "2020-10-30T16:47:20.167403Z",
     "shell.execute_reply": "2020-10-30T16:47:20.166369Z"
    }
   },
   "outputs": [],
   "source": [
    "run_id_n = t_numeric_run_ids[0]\n",
    "run_id_a = t_array_run_ids[0]"
   ]
  },
  {
   "cell_type": "code",
   "execution_count": 11,
   "metadata": {
    "execution": {
     "iopub.execute_input": "2020-10-30T16:47:20.170775Z",
     "iopub.status.busy": "2020-10-30T16:47:20.170187Z",
     "iopub.status.idle": "2020-10-30T16:47:20.182161Z",
     "shell.execute_reply": "2020-10-30T16:47:20.181413Z"
    },
    "scrolled": true
   },
   "outputs": [
    {
     "data": {
      "text/plain": [
       "{'x1': {'x1': array([0.88726518, 0.88726518, 0.1565057 , 0.1565057 , 0.08505323,\n",
       "         0.08505323, 0.32886047, 0.32886047, 0.38844761, 0.38844761,\n",
       "         0.54493049, 0.54493049, 0.49148396, 0.49148396, 0.24509023,\n",
       "         0.24509023, 0.6242094 , 0.6242094 , 0.19545881, 0.19545881,\n",
       "         0.36802754, 0.36802754, 0.30447701, 0.30447701, 0.3337767 ,\n",
       "         0.3337767 , 0.28918499, 0.28918499, 0.61496753, 0.61496753,\n",
       "         0.4342264 , 0.4342264 , 0.6430424 , 0.6430424 , 0.23853576,\n",
       "         0.23853576, 0.75366302, 0.75366302, 0.59611193, 0.59611193,\n",
       "         0.36744107, 0.36744107, 0.78595203, 0.78595203, 0.69101423,\n",
       "         0.69101423, 0.81622304, 0.81622304, 0.80874923, 0.80874923,\n",
       "         0.92171255, 0.92171255, 0.06179095, 0.06179095, 0.90768462,\n",
       "         0.90768462, 0.76795279, 0.76795279, 0.30394872, 0.30394872,\n",
       "         0.4016326 , 0.4016326 , 0.59154407, 0.59154407, 0.41263345,\n",
       "         0.41263345, 0.46711307, 0.46711307, 0.69822269, 0.69822269,\n",
       "         0.38339922, 0.38339922, 0.196335  , 0.196335  , 0.21113053,\n",
       "         0.21113053, 0.6884387 , 0.6884387 , 0.4836106 , 0.4836106 ,\n",
       "         0.53603391, 0.53603391, 0.08248573, 0.08248573, 0.7555653 ,\n",
       "         0.7555653 , 0.53037852, 0.53037852, 0.2106825 , 0.2106825 ,\n",
       "         0.04108345, 0.04108345, 0.0145233 , 0.0145233 , 0.73706263,\n",
       "         0.73706263, 0.0466532 , 0.0466532 , 0.84378989, 0.84378989,\n",
       "         0.1073779 , 0.1073779 , 0.16220263, 0.16220263, 0.71279379,\n",
       "         0.71279379, 0.51103534, 0.51103534, 0.85495129, 0.85495129,\n",
       "         0.37354139, 0.37354139, 0.42911087, 0.42911087, 0.20405994,\n",
       "         0.20405994, 0.17160484, 0.17160484, 0.58980707, 0.58980707,\n",
       "         0.93707486, 0.93707486, 0.89213684, 0.89213684, 0.27621298,\n",
       "         0.27621298, 0.33985814, 0.33985814, 0.6625593 , 0.6625593 ,\n",
       "         0.56303352, 0.56303352, 0.70462204, 0.70462204, 0.53724656,\n",
       "         0.53724656, 0.24184647, 0.24184647, 0.52321955, 0.52321955,\n",
       "         0.93248932, 0.93248932, 0.57299536, 0.57299536, 0.46611566,\n",
       "         0.46611566, 0.87011247, 0.87011247, 0.9901471 , 0.9901471 ,\n",
       "         0.55212863, 0.55212863, 0.97423805, 0.97423805, 0.34038661,\n",
       "         0.34038661, 0.76628922, 0.76628922, 0.2844087 , 0.2844087 ,\n",
       "         0.06398647, 0.06398647, 0.58989361, 0.58989361, 0.34687644,\n",
       "         0.34687644, 0.31917883, 0.31917883, 0.40532173, 0.40532173,\n",
       "         0.10027942, 0.10027942, 0.82046177, 0.82046177, 0.92178849,\n",
       "         0.92178849, 0.1261998 , 0.1261998 , 0.5731551 , 0.5731551 ,\n",
       "         0.38257569, 0.38257569, 0.64172413, 0.64172413, 0.47517116,\n",
       "         0.47517116, 0.39610715, 0.39610715, 0.20319046, 0.20319046,\n",
       "         0.75869182, 0.75869182, 0.09927162, 0.09927162, 0.5281534 ,\n",
       "         0.5281534 , 0.85919863, 0.85919863, 0.30535804, 0.30535804])}}"
      ]
     },
     "execution_count": 1,
     "metadata": {},
     "output_type": "execute_result"
    }
   ],
   "source": [
    "ds = load_by_id(run_id_n)\n",
    "ds.get_parameter_data('x1')"
   ]
  },
  {
   "cell_type": "markdown",
   "metadata": {},
   "source": [
    "And a dataset stored as binary arrays"
   ]
  },
  {
   "cell_type": "code",
   "execution_count": 12,
   "metadata": {
    "execution": {
     "iopub.execute_input": "2020-10-30T16:47:20.185510Z",
     "iopub.status.busy": "2020-10-30T16:47:20.184971Z",
     "iopub.status.idle": "2020-10-30T16:47:20.242171Z",
     "shell.execute_reply": "2020-10-30T16:47:20.241684Z"
    },
    "scrolled": true
   },
   "outputs": [
    {
     "data": {
      "text/plain": [
       "{'x1': {'x1': array([[0.85003576],\n",
       "         [0.85003576],\n",
       "         [0.07744369],\n",
       "         [0.07744369],\n",
       "         [0.52658483],\n",
       "         [0.52658483],\n",
       "         [0.53101604],\n",
       "         [0.53101604],\n",
       "         [0.46550758],\n",
       "         [0.46550758],\n",
       "         [0.20691961],\n",
       "         [0.20691961],\n",
       "         [0.55754046],\n",
       "         [0.55754046],\n",
       "         [0.35741987],\n",
       "         [0.35741987],\n",
       "         [0.22943037],\n",
       "         [0.22943037],\n",
       "         [0.70230916],\n",
       "         [0.70230916],\n",
       "         [0.4858945 ],\n",
       "         [0.4858945 ],\n",
       "         [0.1685756 ],\n",
       "         [0.1685756 ],\n",
       "         [0.53607107],\n",
       "         [0.53607107],\n",
       "         [0.23876825],\n",
       "         [0.23876825],\n",
       "         [0.30245   ],\n",
       "         [0.30245   ],\n",
       "         [0.32125824],\n",
       "         [0.32125824],\n",
       "         [0.85131933],\n",
       "         [0.85131933],\n",
       "         [0.83941874],\n",
       "         [0.83941874],\n",
       "         [0.26574097],\n",
       "         [0.26574097],\n",
       "         [0.32020244],\n",
       "         [0.32020244],\n",
       "         [0.5613791 ],\n",
       "         [0.5613791 ],\n",
       "         [0.6583665 ],\n",
       "         [0.6583665 ],\n",
       "         [0.30066546],\n",
       "         [0.30066546],\n",
       "         [0.11112712],\n",
       "         [0.11112712],\n",
       "         [0.03350379],\n",
       "         [0.03350379],\n",
       "         [0.09331821],\n",
       "         [0.09331821],\n",
       "         [0.27238013],\n",
       "         [0.27238013],\n",
       "         [0.37447227],\n",
       "         [0.37447227],\n",
       "         [0.71734386],\n",
       "         [0.71734386],\n",
       "         [0.75776918],\n",
       "         [0.75776918],\n",
       "         [0.99619312],\n",
       "         [0.99619312],\n",
       "         [0.02636641],\n",
       "         [0.02636641],\n",
       "         [0.02894256],\n",
       "         [0.02894256],\n",
       "         [0.27869684],\n",
       "         [0.27869684],\n",
       "         [0.0801019 ],\n",
       "         [0.0801019 ],\n",
       "         [0.45513817],\n",
       "         [0.45513817],\n",
       "         [0.8542051 ],\n",
       "         [0.8542051 ],\n",
       "         [0.67705719],\n",
       "         [0.67705719],\n",
       "         [0.66319952],\n",
       "         [0.66319952],\n",
       "         [0.19212502],\n",
       "         [0.19212502],\n",
       "         [0.14440878],\n",
       "         [0.14440878],\n",
       "         [0.58457673],\n",
       "         [0.58457673],\n",
       "         [0.78058643],\n",
       "         [0.78058643],\n",
       "         [0.66053955],\n",
       "         [0.66053955],\n",
       "         [0.62060985],\n",
       "         [0.62060985],\n",
       "         [0.57357076],\n",
       "         [0.57357076],\n",
       "         [0.12685249],\n",
       "         [0.12685249],\n",
       "         [0.76731023],\n",
       "         [0.76731023],\n",
       "         [0.36012076],\n",
       "         [0.36012076],\n",
       "         [0.2898796 ],\n",
       "         [0.2898796 ],\n",
       "         [0.51390591],\n",
       "         [0.51390591],\n",
       "         [0.60357434],\n",
       "         [0.60357434],\n",
       "         [0.86715318],\n",
       "         [0.86715318],\n",
       "         [0.00175681],\n",
       "         [0.00175681],\n",
       "         [0.32501275],\n",
       "         [0.32501275],\n",
       "         [0.74145095],\n",
       "         [0.74145095],\n",
       "         [0.42290577],\n",
       "         [0.42290577],\n",
       "         [0.23917288],\n",
       "         [0.23917288],\n",
       "         [0.1902185 ],\n",
       "         [0.1902185 ],\n",
       "         [0.74838654],\n",
       "         [0.74838654],\n",
       "         [0.74699589],\n",
       "         [0.74699589],\n",
       "         [0.63999358],\n",
       "         [0.63999358],\n",
       "         [0.04368836],\n",
       "         [0.04368836],\n",
       "         [0.28041987],\n",
       "         [0.28041987],\n",
       "         [0.16836196],\n",
       "         [0.16836196],\n",
       "         [0.48850801],\n",
       "         [0.48850801],\n",
       "         [0.76949041],\n",
       "         [0.76949041],\n",
       "         [0.1859578 ],\n",
       "         [0.1859578 ],\n",
       "         [0.73425795],\n",
       "         [0.73425795],\n",
       "         [0.84242717],\n",
       "         [0.84242717],\n",
       "         [0.6263785 ],\n",
       "         [0.6263785 ],\n",
       "         [0.14413505],\n",
       "         [0.14413505],\n",
       "         [0.45343007],\n",
       "         [0.45343007],\n",
       "         [0.36049137],\n",
       "         [0.36049137],\n",
       "         [0.66852225],\n",
       "         [0.66852225],\n",
       "         [0.66087066],\n",
       "         [0.66087066],\n",
       "         [0.19861806],\n",
       "         [0.19861806],\n",
       "         [0.17135387],\n",
       "         [0.17135387],\n",
       "         [0.65472359],\n",
       "         [0.65472359],\n",
       "         [0.26407901],\n",
       "         [0.26407901],\n",
       "         [0.35653252],\n",
       "         [0.35653252],\n",
       "         [0.43176069],\n",
       "         [0.43176069],\n",
       "         [0.63909998],\n",
       "         [0.63909998],\n",
       "         [0.88463679],\n",
       "         [0.88463679],\n",
       "         [0.92072856],\n",
       "         [0.92072856],\n",
       "         [0.27361003],\n",
       "         [0.27361003],\n",
       "         [0.26001808],\n",
       "         [0.26001808],\n",
       "         [0.6671068 ],\n",
       "         [0.6671068 ],\n",
       "         [0.93962703],\n",
       "         [0.93962703],\n",
       "         [0.97138088],\n",
       "         [0.97138088],\n",
       "         [0.76881581],\n",
       "         [0.76881581],\n",
       "         [0.12257487],\n",
       "         [0.12257487],\n",
       "         [0.99788148],\n",
       "         [0.99788148],\n",
       "         [0.03823136],\n",
       "         [0.03823136],\n",
       "         [0.46186149],\n",
       "         [0.46186149],\n",
       "         [0.09127207],\n",
       "         [0.09127207],\n",
       "         [0.23030373],\n",
       "         [0.23030373],\n",
       "         [0.50832211],\n",
       "         [0.50832211],\n",
       "         [0.60500533],\n",
       "         [0.60500533],\n",
       "         [0.70017391],\n",
       "         [0.70017391]])}}"
      ]
     },
     "execution_count": 1,
     "metadata": {},
     "output_type": "execute_result"
    }
   ],
   "source": [
    "ds = load_by_id(run_id_a)\n",
    "ds.get_parameter_data('x1')"
   ]
  },
  {
   "cell_type": "code",
   "execution_count": null,
   "metadata": {},
   "outputs": [],
   "source": []
  }
 ],
 "metadata": {
  "kernelspec": {
   "display_name": "Python 3",
   "language": "python",
   "name": "python3"
  },
  "language_info": {
   "codemirror_mode": {
    "name": "ipython",
    "version": 3
   },
   "file_extension": ".py",
   "mimetype": "text/x-python",
   "name": "python",
   "nbconvert_exporter": "python",
   "pygments_lexer": "ipython3",
   "version": "3.7.9"
  },
  "nbsphinx": {
   "timeout": 600
  },
  "toc": {
   "base_numbering": 1,
   "nav_menu": {},
   "number_sections": true,
   "sideBar": true,
   "skip_h1_title": false,
   "title_cell": "Table of Contents",
   "title_sidebar": "Contents",
   "toc_cell": false,
   "toc_position": {},
   "toc_section_display": true,
   "toc_window_display": false
  },
  "varInspector": {
   "cols": {
    "lenName": 16,
    "lenType": 16,
    "lenVar": 40
   },
   "kernels_config": {
    "python": {
     "delete_cmd_postfix": "",
     "delete_cmd_prefix": "del ",
     "library": "var_list.py",
     "varRefreshCmd": "print(var_dic_list())"
    },
    "r": {
     "delete_cmd_postfix": ") ",
     "delete_cmd_prefix": "rm(",
     "library": "var_list.r",
     "varRefreshCmd": "cat(var_dic_list()) "
    }
   },
   "types_to_exclude": [
    "module",
    "function",
    "builtin_function_or_method",
    "instance",
    "_Feature"
   ],
   "window_display": false
  }
 },
 "nbformat": 4,
 "nbformat_minor": 2
}
