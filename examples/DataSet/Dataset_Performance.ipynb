{
 "cells": [
  {
   "cell_type": "markdown",
   "metadata": {},
   "source": [
    "# DataSet Performance\n",
    "\n",
    "This notebook shows the trade-off between inserting data into a database row-by-row and as binary blobs. Inserting the data row-by-row means that we have direct access to all the data and may perform queries directly on the values of the data. On the other hand, as we shall see, this is much slower than inserting the data directly as binary blobs."
   ]
  },
  {
   "cell_type": "markdown",
   "metadata": {},
   "source": [
    "First, we choose a new location for the database to ensure that we don't add a bunch of benchmarking data to the default one."
   ]
  },
  {
   "cell_type": "code",
   "execution_count": 1,
   "metadata": {
    "execution": {
     "iopub.execute_input": "2020-12-02T11:31:51.836529Z",
     "iopub.status.busy": "2020-12-02T11:31:51.835992Z",
     "iopub.status.idle": "2020-12-02T11:31:52.926367Z",
     "shell.execute_reply": "2020-12-02T11:31:52.925785Z"
    }
   },
   "outputs": [
    {
     "name": "stdout",
     "output_type": "stream",
     "text": [
      "Logging hadn't been started.\n",
      "Activating auto-logging. Current session state plus future input saved.\n",
      "Filename       : /home/vsts/.qcodes/logs/command_history.log\n",
      "Mode           : append\n",
      "Output logging : True\n",
      "Raw input log  : False\n",
      "Timestamping   : True\n",
      "State          : active\n"
     ]
    },
    {
     "name": "stdout",
     "output_type": "stream",
     "text": [
      "Qcodes Logfile : /home/vsts/.qcodes/logs/201202-13772-qcodes.log\n"
     ]
    }
   ],
   "source": [
    "import os\n",
    "cwd = os.getcwd()\n",
    "import qcodes as qc\n",
    "qc.config[\"core\"][\"db_location\"] = os.path.join(cwd, 'testing.db')\n"
   ]
  },
  {
   "cell_type": "code",
   "execution_count": 2,
   "metadata": {
    "execution": {
     "iopub.execute_input": "2020-12-02T11:31:52.932677Z",
     "iopub.status.busy": "2020-12-02T11:31:52.931497Z",
     "iopub.status.idle": "2020-12-02T11:31:53.129109Z",
     "shell.execute_reply": "2020-12-02T11:31:53.129609Z"
    }
   },
   "outputs": [],
   "source": [
    "%matplotlib inline\n",
    "import time\n",
    "import matplotlib.pyplot as plt\n",
    "import numpy as np\n",
    "\n",
    "import qcodes as qc\n",
    "from qcodes.instrument.parameter import ManualParameter\n",
    "from qcodes.dataset.experiment_container import (Experiment,\n",
    "                                                 load_last_experiment,\n",
    "                                                 new_experiment)\n",
    "from qcodes.dataset.sqlite.database import initialise_database\n",
    "from qcodes import load_or_create_experiment\n",
    "from qcodes.dataset.measurements import Measurement"
   ]
  },
  {
   "cell_type": "code",
   "execution_count": 3,
   "metadata": {
    "execution": {
     "iopub.execute_input": "2020-12-02T11:31:53.133829Z",
     "iopub.status.busy": "2020-12-02T11:31:53.133003Z",
     "iopub.status.idle": "2020-12-02T11:31:53.253115Z",
     "shell.execute_reply": "2020-12-02T11:31:53.252618Z"
    }
   },
   "outputs": [
    {
     "name": "stdout",
     "output_type": "stream",
     "text": [
      "\r",
      "0it [00:00, ?it/s]"
     ]
    },
    {
     "name": "stdout",
     "output_type": "stream",
     "text": [
      "\r",
      "Upgrading database; v0 -> v1: : 0it [00:00, ?it/s]"
     ]
    },
    {
     "name": "stdout",
     "output_type": "stream",
     "text": [
      "\r",
      "Upgrading database; v0 -> v1: : 0it [00:00, ?it/s]"
     ]
    },
    {
     "name": "stdout",
     "output_type": "stream",
     "text": [
      "\n",
      "\r",
      "  0%|          | 0/1 [00:00<?, ?it/s]"
     ]
    },
    {
     "name": "stdout",
     "output_type": "stream",
     "text": [
      "\r",
      "Upgrading database; v1 -> v2:   0%|          | 0/1 [00:00<?, ?it/s]"
     ]
    },
    {
     "name": "stdout",
     "output_type": "stream",
     "text": [
      "\r",
      "Upgrading database; v1 -> v2: 100%|██████████| 1/1 [00:00<00:00, 901.81it/s]"
     ]
    },
    {
     "name": "stdout",
     "output_type": "stream",
     "text": [
      "\n",
      "\r",
      "0it [00:00, ?it/s]"
     ]
    },
    {
     "name": "stdout",
     "output_type": "stream",
     "text": [
      "\r",
      "Upgrading database; v2 -> v3: : 0it [00:00, ?it/s]"
     ]
    },
    {
     "name": "stdout",
     "output_type": "stream",
     "text": [
      "\r",
      "Upgrading database; v2 -> v3: : 0it [00:00, ?it/s]"
     ]
    },
    {
     "name": "stdout",
     "output_type": "stream",
     "text": [
      "\n",
      "\r",
      "0it [00:00, ?it/s]"
     ]
    },
    {
     "name": "stdout",
     "output_type": "stream",
     "text": [
      "\r",
      "Upgrading database; v3 -> v4: : 0it [00:00, ?it/s]"
     ]
    },
    {
     "name": "stdout",
     "output_type": "stream",
     "text": [
      "\r",
      "Upgrading database; v3 -> v4: : 0it [00:00, ?it/s]"
     ]
    },
    {
     "name": "stdout",
     "output_type": "stream",
     "text": [
      "\n",
      "\r",
      "  0%|          | 0/1 [00:00<?, ?it/s]"
     ]
    },
    {
     "name": "stdout",
     "output_type": "stream",
     "text": [
      "\r",
      "Upgrading database; v4 -> v5:   0%|          | 0/1 [00:00<?, ?it/s]"
     ]
    },
    {
     "name": "stdout",
     "output_type": "stream",
     "text": [
      "\r",
      "Upgrading database; v4 -> v5: 100%|██████████| 1/1 [00:00<00:00, 855.28it/s]"
     ]
    },
    {
     "name": "stdout",
     "output_type": "stream",
     "text": [
      "\n",
      "\r",
      "0it [00:00, ?it/s]"
     ]
    },
    {
     "name": "stdout",
     "output_type": "stream",
     "text": [
      "\r",
      "Upgrading database; v5 -> v6: : 0it [00:00, ?it/s]"
     ]
    },
    {
     "name": "stdout",
     "output_type": "stream",
     "text": [
      "\r",
      "Upgrading database; v5 -> v6: : 0it [00:00, ?it/s]"
     ]
    },
    {
     "name": "stdout",
     "output_type": "stream",
     "text": [
      "\n",
      "\r",
      "  0%|          | 0/1 [00:00<?, ?it/s]"
     ]
    },
    {
     "name": "stdout",
     "output_type": "stream",
     "text": [
      "\r",
      "Upgrading database; v6 -> v7:   0%|          | 0/1 [00:00<?, ?it/s]"
     ]
    },
    {
     "name": "stdout",
     "output_type": "stream",
     "text": [
      "\r",
      "Upgrading database; v6 -> v7: 100%|██████████| 1/1 [00:00<00:00, 419.89it/s]"
     ]
    },
    {
     "name": "stdout",
     "output_type": "stream",
     "text": [
      "\n",
      "\r",
      "  0%|          | 0/1 [00:00<?, ?it/s]"
     ]
    },
    {
     "name": "stdout",
     "output_type": "stream",
     "text": [
      "\r",
      "Upgrading database; v7 -> v8:   0%|          | 0/1 [00:00<?, ?it/s]"
     ]
    },
    {
     "name": "stdout",
     "output_type": "stream",
     "text": [
      "\r",
      "Upgrading database; v7 -> v8: 100%|██████████| 1/1 [00:00<00:00, 531.80it/s]"
     ]
    },
    {
     "name": "stdout",
     "output_type": "stream",
     "text": [
      "\n",
      "\r",
      "  0%|          | 0/1 [00:00<?, ?it/s]"
     ]
    },
    {
     "name": "stdout",
     "output_type": "stream",
     "text": [
      "\r",
      "Upgrading database; v8 -> v9:   0%|          | 0/1 [00:00<?, ?it/s]"
     ]
    },
    {
     "name": "stdout",
     "output_type": "stream",
     "text": [
      "\r",
      "Upgrading database; v8 -> v9: 100%|██████████| 1/1 [00:00<00:00, 574.80it/s]"
     ]
    },
    {
     "name": "stdout",
     "output_type": "stream",
     "text": [
      "\n"
     ]
    }
   ],
   "source": [
    "initialise_database()\n",
    "exp = load_or_create_experiment(experiment_name='tutorial_exp', sample_name=\"no sample\")"
   ]
  },
  {
   "cell_type": "markdown",
   "metadata": {},
   "source": [
    "Here, we define a simple function to benchmark the time it takes to insert n points with either numeric or array data type.\n",
    "We will compare both the time used to call ``add_result`` and the time used for the full measurement."
   ]
  },
  {
   "cell_type": "code",
   "execution_count": 4,
   "metadata": {
    "execution": {
     "iopub.execute_input": "2020-12-02T11:31:53.261934Z",
     "iopub.status.busy": "2020-12-02T11:31:53.261369Z",
     "iopub.status.idle": "2020-12-02T11:31:53.264988Z",
     "shell.execute_reply": "2020-12-02T11:31:53.264422Z"
    }
   },
   "outputs": [],
   "source": [
    "def insert_data(paramtype, npoints, nreps=1):\n",
    "\n",
    "    meas = Measurement(exp=exp)\n",
    "\n",
    "    x1 = ManualParameter('x1')\n",
    "    x2 = ManualParameter('x2')\n",
    "    x3 = ManualParameter('x3')\n",
    "    y1 = ManualParameter('y1')\n",
    "    y2 = ManualParameter('y2')\n",
    "\n",
    "    meas.register_parameter(x1, paramtype=paramtype)\n",
    "    meas.register_parameter(x2, paramtype=paramtype)\n",
    "    meas.register_parameter(x3, paramtype=paramtype)\n",
    "    meas.register_parameter(y1, setpoints=[x1, x2, x3],\n",
    "                            paramtype=paramtype)\n",
    "    meas.register_parameter(y2, setpoints=[x1, x2, x3],\n",
    "                            paramtype=paramtype)\n",
    "    start = time.perf_counter()\n",
    "    with meas.run() as datasaver:\n",
    "        start_adding = time.perf_counter()\n",
    "        for i in range(nreps):\n",
    "            datasaver.add_result((x1, np.random.rand(npoints)),\n",
    "                                 (x2, np.random.rand(npoints)),\n",
    "                                 (x3, np.random.rand(npoints)),\n",
    "                                 (y1, np.random.rand(npoints)),\n",
    "                                 (y2, np.random.rand(npoints)))\n",
    "        stop_adding = time.perf_counter()\n",
    "        run_id = datasaver.run_id\n",
    "    stop = time.perf_counter()\n",
    "    tot_time = stop - start\n",
    "    add_time = stop_adding - start_adding\n",
    "    return tot_time, add_time, run_id"
   ]
  },
  {
   "cell_type": "markdown",
   "metadata": {},
   "source": [
    "## Comparison between numeric/array data and binary blob"
   ]
  },
  {
   "cell_type": "markdown",
   "metadata": {},
   "source": [
    "### Case1: Short experiment time"
   ]
  },
  {
   "cell_type": "code",
   "execution_count": 5,
   "metadata": {
    "execution": {
     "iopub.execute_input": "2020-12-02T11:31:53.271233Z",
     "iopub.status.busy": "2020-12-02T11:31:53.269901Z",
     "iopub.status.idle": "2020-12-02T11:31:54.141468Z",
     "shell.execute_reply": "2020-12-02T11:31:54.141916Z"
    }
   },
   "outputs": [
    {
     "name": "stdout",
     "output_type": "stream",
     "text": [
      "Starting experimental run with id: 1. \n",
      "Starting experimental run with id: 2. \n",
      "Starting experimental run with id: 3. \n",
      "Starting experimental run with id: 4. \n",
      "Starting experimental run with id: 5. \n"
     ]
    },
    {
     "name": "stdout",
     "output_type": "stream",
     "text": [
      "Starting experimental run with id: 6. \n"
     ]
    },
    {
     "name": "stdout",
     "output_type": "stream",
     "text": [
      "Starting experimental run with id: 7. \n"
     ]
    },
    {
     "name": "stdout",
     "output_type": "stream",
     "text": [
      "Starting experimental run with id: 8. \n",
      "Starting experimental run with id: 9. \n"
     ]
    },
    {
     "name": "stdout",
     "output_type": "stream",
     "text": [
      "Starting experimental run with id: 10. \n",
      "Starting experimental run with id: 11. \n"
     ]
    },
    {
     "name": "stdout",
     "output_type": "stream",
     "text": [
      "Starting experimental run with id: 12. \n"
     ]
    },
    {
     "name": "stdout",
     "output_type": "stream",
     "text": [
      "Starting experimental run with id: 13. \n"
     ]
    },
    {
     "name": "stdout",
     "output_type": "stream",
     "text": [
      "Starting experimental run with id: 14. \n"
     ]
    }
   ],
   "source": [
    "sizes = [1,500,1000,2000,3000,4000,5000]\n",
    "t_numeric = []\n",
    "t_numeric_add = []\n",
    "t_array = []\n",
    "t_array_add = []\n",
    "for size in sizes:\n",
    "    tn, tna, run_id_n =  insert_data('numeric', size)\n",
    "    t_numeric.append(tn)\n",
    "    t_numeric_add.append(tna)\n",
    "\n",
    "    ta, taa, run_id_a =  insert_data('array', size)\n",
    "    t_array.append(ta)\n",
    "    t_array_add.append(taa)"
   ]
  },
  {
   "cell_type": "code",
   "execution_count": 6,
   "metadata": {
    "execution": {
     "iopub.execute_input": "2020-12-02T11:31:54.151130Z",
     "iopub.status.busy": "2020-12-02T11:31:54.150322Z",
     "iopub.status.idle": "2020-12-02T11:31:54.405973Z",
     "shell.execute_reply": "2020-12-02T11:31:54.405411Z"
    }
   },
   "outputs": [
    {
     "data": {
      "image/png": "[encoded data removed]",
      "text/plain": [
       "<Figure size 432x288 with 1 Axes>"
      ]
     },
     "metadata": {
      "needs_background": "light"
     },
     "output_type": "display_data"
    }
   ],
   "source": [
    "fig, ax = plt.subplots(1,1)\n",
    "ax.plot(sizes, t_numeric, 'o-', label='Inserting row-by-row')\n",
    "ax.plot(sizes, t_numeric_add, 'o-', label='Inserting row-by-row: add_result only')\n",
    "ax.plot(sizes, t_array, 'd-', label='Inserting as binary blob')\n",
    "ax.plot(sizes, t_array_add, 'd-', label='Inserting as binary blob: add_result only')\n",
    "ax.legend()\n",
    "ax.set_xlabel('Array length')\n",
    "ax.set_ylabel('Time (s)')\n",
    "fig.tight_layout()"
   ]
  },
  {
   "cell_type": "markdown",
   "metadata": {},
   "source": [
    "As shown in the latter figure, the time to setup and and close the experiment is approximately 0.4 sec. In case of small array sizes, the difference between inserting values of data as arrays and inserting them row-by-row is relatively unimportant. At larger array sizes, i.e. above 10000 points, the cost of writing data as individual datapoints starts to become important.\n"
   ]
  },
  {
   "cell_type": "markdown",
   "metadata": {},
   "source": [
    "### Case2: Long experiment time "
   ]
  },
  {
   "cell_type": "code",
   "execution_count": 7,
   "metadata": {
    "execution": {
     "iopub.execute_input": "2020-12-02T11:31:54.412867Z",
     "iopub.status.busy": "2020-12-02T11:31:54.412085Z",
     "iopub.status.idle": "2020-12-02T11:32:58.739102Z",
     "shell.execute_reply": "2020-12-02T11:32:58.738538Z"
    }
   },
   "outputs": [
    {
     "name": "stdout",
     "output_type": "stream",
     "text": [
      "Starting experimental run with id: 15. \n",
      "Starting experimental run with id: 16. \n",
      "Starting experimental run with id: 17. \n"
     ]
    },
    {
     "name": "stdout",
     "output_type": "stream",
     "text": [
      "Starting experimental run with id: 18. \n",
      "Starting experimental run with id: 19. \n"
     ]
    },
    {
     "name": "stdout",
     "output_type": "stream",
     "text": [
      "Starting experimental run with id: 20. \n"
     ]
    },
    {
     "name": "stdout",
     "output_type": "stream",
     "text": [
      "Starting experimental run with id: 21. \n"
     ]
    },
    {
     "name": "stdout",
     "output_type": "stream",
     "text": [
      "Starting experimental run with id: 22. \n"
     ]
    },
    {
     "name": "stdout",
     "output_type": "stream",
     "text": [
      "Starting experimental run with id: 23. \n"
     ]
    },
    {
     "name": "stdout",
     "output_type": "stream",
     "text": [
      "Starting experimental run with id: 24. \n"
     ]
    },
    {
     "name": "stdout",
     "output_type": "stream",
     "text": [
      "Starting experimental run with id: 25. \n"
     ]
    },
    {
     "name": "stdout",
     "output_type": "stream",
     "text": [
      "Starting experimental run with id: 26. \n"
     ]
    },
    {
     "name": "stdout",
     "output_type": "stream",
     "text": [
      "Starting experimental run with id: 27. \n"
     ]
    },
    {
     "name": "stdout",
     "output_type": "stream",
     "text": [
      "Starting experimental run with id: 28. \n"
     ]
    }
   ],
   "source": [
    "sizes = [1,500,1000,2000,3000,4000,5000]\n",
    "nreps = 100\n",
    "t_numeric = []\n",
    "t_numeric_add = []\n",
    "t_numeric_run_ids = []\n",
    "t_array = []\n",
    "t_array_add = []\n",
    "t_array_run_ids = []\n",
    "for size in sizes:\n",
    "    tn, tna, run_id_n =  insert_data('numeric', size, nreps=nreps)\n",
    "    t_numeric.append(tn)\n",
    "    t_numeric_add.append(tna)\n",
    "    t_numeric_run_ids.append(run_id_n)\n",
    "\n",
    "    ta, taa, run_id_a =  insert_data('array', size, nreps=nreps)\n",
    "    t_array.append(ta)\n",
    "    t_array_add.append(taa)\n",
    "    t_array_run_ids.append(run_id_a)"
   ]
  },
  {
   "cell_type": "code",
   "execution_count": 8,
   "metadata": {
    "execution": {
     "iopub.execute_input": "2020-12-02T11:32:58.761548Z",
     "iopub.status.busy": "2020-12-02T11:32:58.760618Z",
     "iopub.status.idle": "2020-12-02T11:32:58.959557Z",
     "shell.execute_reply": "2020-12-02T11:32:58.959063Z"
    },
    "scrolled": true
   },
   "outputs": [
    {
     "data": {
      "image/png": "[encoded data removed]",
      "text/plain": [
       "<Figure size 432x288 with 1 Axes>"
      ]
     },
     "metadata": {
      "needs_background": "light"
     },
     "output_type": "display_data"
    }
   ],
   "source": [
    "fig, ax = plt.subplots(1,1)\n",
    "ax.plot(sizes, t_numeric, 'o-', label='Inserting row-by-row')\n",
    "ax.plot(sizes, t_numeric_add, 'o-', label='Inserting row-by-row: add_result only')\n",
    "ax.plot(sizes, t_array, 'd-', label='Inserting as binary blob')\n",
    "ax.plot(sizes, t_array_add, 'd-', label='Inserting as binary blob: add_result only')\n",
    "ax.legend()\n",
    "ax.set_xlabel('Array length')\n",
    "ax.set_ylabel('Time (s)')\n",
    "fig.tight_layout()"
   ]
  },
  {
   "cell_type": "markdown",
   "metadata": {},
   "source": [
    "However, as we increase the length of the experiment, as seen here by repeating the insertion 100 times, we see a big difference between inserting values of the data row-by-row and inserting it as a binary blob."
   ]
  },
  {
   "cell_type": "markdown",
   "metadata": {},
   "source": [
    "## Loading the data "
   ]
  },
  {
   "cell_type": "code",
   "execution_count": 9,
   "metadata": {
    "execution": {
     "iopub.execute_input": "2020-12-02T11:32:58.966728Z",
     "iopub.status.busy": "2020-12-02T11:32:58.965959Z",
     "iopub.status.idle": "2020-12-02T11:32:58.970039Z",
     "shell.execute_reply": "2020-12-02T11:32:58.969474Z"
    }
   },
   "outputs": [],
   "source": [
    "from qcodes.dataset.data_set import load_by_id\n",
    "from qcodes.dataset.data_export import get_data_by_id"
   ]
  },
  {
   "cell_type": "markdown",
   "metadata": {},
   "source": [
    "As usual you can load the data by using the ``load_by_id`` function but you will notice that the different storage methods\n",
    "are reflected in shape of the data as it is retrieved. "
   ]
  },
  {
   "cell_type": "code",
   "execution_count": 10,
   "metadata": {
    "execution": {
     "iopub.execute_input": "2020-12-02T11:32:58.973980Z",
     "iopub.status.busy": "2020-12-02T11:32:58.973458Z",
     "iopub.status.idle": "2020-12-02T11:32:58.977141Z",
     "shell.execute_reply": "2020-12-02T11:32:58.976576Z"
    }
   },
   "outputs": [],
   "source": [
    "run_id_n = t_numeric_run_ids[0]\n",
    "run_id_a = t_array_run_ids[0]"
   ]
  },
  {
   "cell_type": "code",
   "execution_count": 11,
   "metadata": {
    "execution": {
     "iopub.execute_input": "2020-12-02T11:32:58.981084Z",
     "iopub.status.busy": "2020-12-02T11:32:58.980527Z",
     "iopub.status.idle": "2020-12-02T11:32:58.992544Z",
     "shell.execute_reply": "2020-12-02T11:32:58.992042Z"
    },
    "scrolled": true
   },
   "outputs": [
    {
     "data": {
      "text/plain": [
       "{'x1': {'x1': array([0.42094839, 0.42094839, 0.89294091, 0.89294091, 0.56364803,\n",
       "         0.56364803, 0.06586756, 0.06586756, 0.36980638, 0.36980638,\n",
       "         0.7061588 , 0.7061588 , 0.96891997, 0.96891997, 0.4306844 ,\n",
       "         0.4306844 , 0.18302492, 0.18302492, 0.07961236, 0.07961236,\n",
       "         0.8005525 , 0.8005525 , 0.2554575 , 0.2554575 , 0.7833159 ,\n",
       "         0.7833159 , 0.357187  , 0.357187  , 0.84464044, 0.84464044,\n",
       "         0.99402479, 0.99402479, 0.40947027, 0.40947027, 0.27631627,\n",
       "         0.27631627, 0.01609557, 0.01609557, 0.71935546, 0.71935546,\n",
       "         0.58155359, 0.58155359, 0.22542635, 0.22542635, 0.70212498,\n",
       "         0.70212498, 0.49552459, 0.49552459, 0.17451112, 0.17451112,\n",
       "         0.42918473, 0.42918473, 0.07256157, 0.07256157, 0.98084692,\n",
       "         0.98084692, 0.28443237, 0.28443237, 0.90203785, 0.90203785,\n",
       "         0.77590238, 0.77590238, 0.72644997, 0.72644997, 0.35475536,\n",
       "         0.35475536, 0.67929801, 0.67929801, 0.30522497, 0.30522497,\n",
       "         0.80338452, 0.80338452, 0.28730042, 0.28730042, 0.085982  ,\n",
       "         0.085982  , 0.72561903, 0.72561903, 0.11046538, 0.11046538,\n",
       "         0.78587463, 0.78587463, 0.74970523, 0.74970523, 0.80854114,\n",
       "         0.80854114, 0.75995701, 0.75995701, 0.81118771, 0.81118771,\n",
       "         0.52565744, 0.52565744, 0.90363538, 0.90363538, 0.06718357,\n",
       "         0.06718357, 0.281827  , 0.281827  , 0.72032471, 0.72032471,\n",
       "         0.05406044, 0.05406044, 0.68237753, 0.68237753, 0.08789363,\n",
       "         0.08789363, 0.43206738, 0.43206738, 0.9136062 , 0.9136062 ,\n",
       "         0.70835508, 0.70835508, 0.449395  , 0.449395  , 0.14172228,\n",
       "         0.14172228, 0.65321638, 0.65321638, 0.59055034, 0.59055034,\n",
       "         0.05041048, 0.05041048, 0.49902603, 0.49902603, 0.08040333,\n",
       "         0.08040333, 0.05332986, 0.05332986, 0.33629204, 0.33629204,\n",
       "         0.49262006, 0.49262006, 0.0109884 , 0.0109884 , 0.50262958,\n",
       "         0.50262958, 0.30668025, 0.30668025, 0.03957712, 0.03957712,\n",
       "         0.05680276, 0.05680276, 0.57932276, 0.57932276, 0.37549963,\n",
       "         0.37549963, 0.16595155, 0.16595155, 0.9671538 , 0.9671538 ,\n",
       "         0.19568278, 0.19568278, 0.61458292, 0.61458292, 0.87348635,\n",
       "         0.87348635, 0.9558594 , 0.9558594 , 0.22650429, 0.22650429,\n",
       "         0.20456681, 0.20456681, 0.44104399, 0.44104399, 0.20571051,\n",
       "         0.20571051, 0.71707063, 0.71707063, 0.00148178, 0.00148178,\n",
       "         0.16739491, 0.16739491, 0.1531539 , 0.1531539 , 0.9876707 ,\n",
       "         0.9876707 , 0.58384803, 0.58384803, 0.99073168, 0.99073168,\n",
       "         0.02789281, 0.02789281, 0.37006033, 0.37006033, 0.26651028,\n",
       "         0.26651028, 0.93826158, 0.93826158, 0.08180378, 0.08180378,\n",
       "         0.26532914, 0.26532914, 0.25677963, 0.25677963, 0.97982361,\n",
       "         0.97982361, 0.06780097, 0.06780097, 0.31191097, 0.31191097])}}"
      ]
     },
     "execution_count": 1,
     "metadata": {},
     "output_type": "execute_result"
    }
   ],
   "source": [
    "ds = load_by_id(run_id_n)\n",
    "ds.get_parameter_data('x1')"
   ]
  },
  {
   "cell_type": "markdown",
   "metadata": {},
   "source": [
    "And a dataset stored as binary arrays"
   ]
  },
  {
   "cell_type": "code",
   "execution_count": 12,
   "metadata": {
    "execution": {
     "iopub.execute_input": "2020-12-02T11:32:58.997109Z",
     "iopub.status.busy": "2020-12-02T11:32:58.996574Z",
     "iopub.status.idle": "2020-12-02T11:32:59.077644Z",
     "shell.execute_reply": "2020-12-02T11:32:59.076598Z"
    },
    "scrolled": true
   },
   "outputs": [
    {
     "data": {
      "text/plain": [
       "{'x1': {'x1': array([[0.03889114],\n",
       "         [0.03889114],\n",
       "         [0.31968453],\n",
       "         [0.31968453],\n",
       "         [0.079415  ],\n",
       "         [0.079415  ],\n",
       "         [0.75631214],\n",
       "         [0.75631214],\n",
       "         [0.64668248],\n",
       "         [0.64668248],\n",
       "         [0.57772654],\n",
       "         [0.57772654],\n",
       "         [0.28054933],\n",
       "         [0.28054933],\n",
       "         [0.3668867 ],\n",
       "         [0.3668867 ],\n",
       "         [0.09880337],\n",
       "         [0.09880337],\n",
       "         [0.9814857 ],\n",
       "         [0.9814857 ],\n",
       "         [0.36048299],\n",
       "         [0.36048299],\n",
       "         [0.20331017],\n",
       "         [0.20331017],\n",
       "         [0.18797083],\n",
       "         [0.18797083],\n",
       "         [0.37629752],\n",
       "         [0.37629752],\n",
       "         [0.75214193],\n",
       "         [0.75214193],\n",
       "         [0.08311585],\n",
       "         [0.08311585],\n",
       "         [0.18929589],\n",
       "         [0.18929589],\n",
       "         [0.52815133],\n",
       "         [0.52815133],\n",
       "         [0.52362637],\n",
       "         [0.52362637],\n",
       "         [0.18190796],\n",
       "         [0.18190796],\n",
       "         [0.1653381 ],\n",
       "         [0.1653381 ],\n",
       "         [0.35531491],\n",
       "         [0.35531491],\n",
       "         [0.38482333],\n",
       "         [0.38482333],\n",
       "         [0.3664036 ],\n",
       "         [0.3664036 ],\n",
       "         [0.97582742],\n",
       "         [0.97582742],\n",
       "         [0.08847033],\n",
       "         [0.08847033],\n",
       "         [0.16241254],\n",
       "         [0.16241254],\n",
       "         [0.41666811],\n",
       "         [0.41666811],\n",
       "         [0.33491872],\n",
       "         [0.33491872],\n",
       "         [0.47285393],\n",
       "         [0.47285393],\n",
       "         [0.31822741],\n",
       "         [0.31822741],\n",
       "         [0.82029735],\n",
       "         [0.82029735],\n",
       "         [0.97373105],\n",
       "         [0.97373105],\n",
       "         [0.05596275],\n",
       "         [0.05596275],\n",
       "         [0.00141054],\n",
       "         [0.00141054],\n",
       "         [0.5007215 ],\n",
       "         [0.5007215 ],\n",
       "         [0.00696834],\n",
       "         [0.00696834],\n",
       "         [0.40430826],\n",
       "         [0.40430826],\n",
       "         [0.24480837],\n",
       "         [0.24480837],\n",
       "         [0.01451044],\n",
       "         [0.01451044],\n",
       "         [0.85395046],\n",
       "         [0.85395046],\n",
       "         [0.35709763],\n",
       "         [0.35709763],\n",
       "         [0.74548238],\n",
       "         [0.74548238],\n",
       "         [0.14212568],\n",
       "         [0.14212568],\n",
       "         [0.01655327],\n",
       "         [0.01655327],\n",
       "         [0.05166102],\n",
       "         [0.05166102],\n",
       "         [0.68841473],\n",
       "         [0.68841473],\n",
       "         [0.88308131],\n",
       "         [0.88308131],\n",
       "         [0.53147075],\n",
       "         [0.53147075],\n",
       "         [0.92236014],\n",
       "         [0.92236014],\n",
       "         [0.81485623],\n",
       "         [0.81485623],\n",
       "         [0.88975112],\n",
       "         [0.88975112],\n",
       "         [0.88482067],\n",
       "         [0.88482067],\n",
       "         [0.66687269],\n",
       "         [0.66687269],\n",
       "         [0.61757989],\n",
       "         [0.61757989],\n",
       "         [0.55943583],\n",
       "         [0.55943583],\n",
       "         [0.85877159],\n",
       "         [0.85877159],\n",
       "         [0.26350936],\n",
       "         [0.26350936],\n",
       "         [0.88861172],\n",
       "         [0.88861172],\n",
       "         [0.08200645],\n",
       "         [0.08200645],\n",
       "         [0.16238917],\n",
       "         [0.16238917],\n",
       "         [0.21728395],\n",
       "         [0.21728395],\n",
       "         [0.92221666],\n",
       "         [0.92221666],\n",
       "         [0.58364327],\n",
       "         [0.58364327],\n",
       "         [0.79369356],\n",
       "         [0.79369356],\n",
       "         [0.91960355],\n",
       "         [0.91960355],\n",
       "         [0.68068583],\n",
       "         [0.68068583],\n",
       "         [0.27897497],\n",
       "         [0.27897497],\n",
       "         [0.29228227],\n",
       "         [0.29228227],\n",
       "         [0.5908754 ],\n",
       "         [0.5908754 ],\n",
       "         [0.87113953],\n",
       "         [0.87113953],\n",
       "         [0.21081092],\n",
       "         [0.21081092],\n",
       "         [0.25432965],\n",
       "         [0.25432965],\n",
       "         [0.08962966],\n",
       "         [0.08962966],\n",
       "         [0.7589083 ],\n",
       "         [0.7589083 ],\n",
       "         [0.24709212],\n",
       "         [0.24709212],\n",
       "         [0.44917884],\n",
       "         [0.44917884],\n",
       "         [0.98572272],\n",
       "         [0.98572272],\n",
       "         [0.65441962],\n",
       "         [0.65441962],\n",
       "         [0.16140612],\n",
       "         [0.16140612],\n",
       "         [0.50890734],\n",
       "         [0.50890734],\n",
       "         [0.94962947],\n",
       "         [0.94962947],\n",
       "         [0.84309674],\n",
       "         [0.84309674],\n",
       "         [0.6451081 ],\n",
       "         [0.6451081 ],\n",
       "         [0.09450886],\n",
       "         [0.09450886],\n",
       "         [0.98724353],\n",
       "         [0.98724353],\n",
       "         [0.26104907],\n",
       "         [0.26104907],\n",
       "         [0.70277941],\n",
       "         [0.70277941],\n",
       "         [0.61137003],\n",
       "         [0.61137003],\n",
       "         [0.62814166],\n",
       "         [0.62814166],\n",
       "         [0.17083362],\n",
       "         [0.17083362],\n",
       "         [0.99440727],\n",
       "         [0.99440727],\n",
       "         [0.81755127],\n",
       "         [0.81755127],\n",
       "         [0.74333945],\n",
       "         [0.74333945],\n",
       "         [0.64229502],\n",
       "         [0.64229502],\n",
       "         [0.66933064],\n",
       "         [0.66933064],\n",
       "         [0.17608926],\n",
       "         [0.17608926],\n",
       "         [0.23045559],\n",
       "         [0.23045559],\n",
       "         [0.93794841],\n",
       "         [0.93794841],\n",
       "         [0.99438933],\n",
       "         [0.99438933]])}}"
      ]
     },
     "execution_count": 1,
     "metadata": {},
     "output_type": "execute_result"
    }
   ],
   "source": [
    "ds = load_by_id(run_id_a)\n",
    "ds.get_parameter_data('x1')"
   ]
  },
  {
   "cell_type": "code",
   "execution_count": null,
   "metadata": {},
   "outputs": [],
   "source": []
  }
 ],
 "metadata": {
  "kernelspec": {
   "display_name": "Python 3",
   "language": "python",
   "name": "python3"
  },
  "language_info": {
   "codemirror_mode": {
    "name": "ipython",
    "version": 3
   },
   "file_extension": ".py",
   "mimetype": "text/x-python",
   "name": "python",
   "nbconvert_exporter": "python",
   "pygments_lexer": "ipython3",
   "version": "3.7.9"
  },
  "nbsphinx": {
   "timeout": 600
  },
  "toc": {
   "base_numbering": 1,
   "nav_menu": {},
   "number_sections": true,
   "sideBar": true,
   "skip_h1_title": false,
   "title_cell": "Table of Contents",
   "title_sidebar": "Contents",
   "toc_cell": false,
   "toc_position": {},
   "toc_section_display": true,
   "toc_window_display": false
  },
  "varInspector": {
   "cols": {
    "lenName": 16,
    "lenType": 16,
    "lenVar": 40
   },
   "kernels_config": {
    "python": {
     "delete_cmd_postfix": "",
     "delete_cmd_prefix": "del ",
     "library": "var_list.py",
     "varRefreshCmd": "print(var_dic_list())"
    },
    "r": {
     "delete_cmd_postfix": ") ",
     "delete_cmd_prefix": "rm(",
     "library": "var_list.r",
     "varRefreshCmd": "cat(var_dic_list()) "
    }
   },
   "types_to_exclude": [
    "module",
    "function",
    "builtin_function_or_method",
    "instance",
    "_Feature"
   ],
   "window_display": false
  }
 },
 "nbformat": 4,
 "nbformat_minor": 2
}
