{
 "cells": [
  {
   "cell_type": "markdown",
   "metadata": {},
   "source": [
    "# DataSet Performance\n",
    "\n",
    "This notebook shows the trade-off between inserting data into a database row-by-row and as binary blobs. Inserting the data row-by-row means that we have direct access to all the data and may perform queries directly on the values of the data. On the other hand, as we shall see, this is much slower than inserting the data directly as binary blobs."
   ]
  },
  {
   "cell_type": "markdown",
   "metadata": {},
   "source": [
    "First, we choose a new location for the database to ensure that we don't add a bunch of benchmarking data to the default one."
   ]
  },
  {
   "cell_type": "code",
   "execution_count": 1,
   "metadata": {
    "execution": {
     "iopub.execute_input": "2021-04-06T03:42:39.483794Z",
     "iopub.status.busy": "2021-04-06T03:42:39.483165Z",
     "iopub.status.idle": "2021-04-06T03:42:40.615263Z",
     "shell.execute_reply": "2021-04-06T03:42:40.614217Z"
    }
   },
   "outputs": [
    {
     "name": "stdout",
     "output_type": "stream",
     "text": [
      "Logging hadn't been started.\n",
      "Activating auto-logging. Current session state plus future input saved.\n",
      "Filename       : /home/runner/.qcodes/logs/command_history.log\n",
      "Mode           : append\n",
      "Output logging : True\n",
      "Raw input log  : False\n",
      "Timestamping   : True\n",
      "State          : active\n"
     ]
    },
    {
     "name": "stdout",
     "output_type": "stream",
     "text": [
      "Qcodes Logfile : /home/runner/.qcodes/logs/210406-4873-qcodes.log\n"
     ]
    }
   ],
   "source": [
    "import os\n",
    "cwd = os.getcwd()\n",
    "import qcodes as qc\n",
    "qc.config[\"core\"][\"db_location\"] = os.path.join(cwd, 'testing.db')\n"
   ]
  },
  {
   "cell_type": "code",
   "execution_count": 2,
   "metadata": {
    "execution": {
     "iopub.execute_input": "2021-04-06T03:42:40.622703Z",
     "iopub.status.busy": "2021-04-06T03:42:40.621629Z",
     "iopub.status.idle": "2021-04-06T03:42:40.887024Z",
     "shell.execute_reply": "2021-04-06T03:42:40.886422Z"
    }
   },
   "outputs": [],
   "source": [
    "%matplotlib inline\n",
    "import time\n",
    "import matplotlib.pyplot as plt\n",
    "import numpy as np\n",
    "\n",
    "import qcodes as qc\n",
    "from qcodes.instrument.parameter import ManualParameter\n",
    "from qcodes.dataset.experiment_container import (Experiment,\n",
    "                                                 load_last_experiment,\n",
    "                                                 new_experiment)\n",
    "from qcodes.dataset.sqlite.database import initialise_database\n",
    "from qcodes import load_or_create_experiment\n",
    "from qcodes.dataset.measurements import Measurement"
   ]
  },
  {
   "cell_type": "code",
   "execution_count": 3,
   "metadata": {
    "execution": {
     "iopub.execute_input": "2021-04-06T03:42:40.891792Z",
     "iopub.status.busy": "2021-04-06T03:42:40.891156Z",
     "iopub.status.idle": "2021-04-06T03:42:40.982454Z",
     "shell.execute_reply": "2021-04-06T03:42:40.983312Z"
    }
   },
   "outputs": [
    {
     "name": "stdout",
     "output_type": "stream",
     "text": [
      "\r",
      "0it [00:00, ?it/s]"
     ]
    },
    {
     "name": "stdout",
     "output_type": "stream",
     "text": [
      "\r",
      "Upgrading database; v0 -> v1: : 0it [00:00, ?it/s]"
     ]
    },
    {
     "name": "stdout",
     "output_type": "stream",
     "text": [
      "\r",
      "Upgrading database; v0 -> v1: : 0it [00:00, ?it/s]"
     ]
    },
    {
     "name": "stdout",
     "output_type": "stream",
     "text": [
      "\n",
      "\r",
      "  0%|          | 0/1 [00:00<?, ?it/s]"
     ]
    },
    {
     "name": "stdout",
     "output_type": "stream",
     "text": [
      "\r",
      "Upgrading database; v1 -> v2:   0%|          | 0/1 [00:00<?, ?it/s]"
     ]
    },
    {
     "name": "stdout",
     "output_type": "stream",
     "text": [
      "\r",
      "Upgrading database; v1 -> v2: 100%|██████████| 1/1 [00:00<00:00, 416.64it/s]"
     ]
    },
    {
     "name": "stdout",
     "output_type": "stream",
     "text": [
      "\n",
      "\r",
      "0it [00:00, ?it/s]"
     ]
    },
    {
     "name": "stdout",
     "output_type": "stream",
     "text": [
      "\r",
      "Upgrading database; v2 -> v3: : 0it [00:00, ?it/s]"
     ]
    },
    {
     "name": "stdout",
     "output_type": "stream",
     "text": [
      "\r",
      "Upgrading database; v2 -> v3: : 0it [00:00, ?it/s]"
     ]
    },
    {
     "name": "stdout",
     "output_type": "stream",
     "text": [
      "\n",
      "\r",
      "0it [00:00, ?it/s]"
     ]
    },
    {
     "name": "stdout",
     "output_type": "stream",
     "text": [
      "\r",
      "Upgrading database; v3 -> v4: : 0it [00:00, ?it/s]"
     ]
    },
    {
     "name": "stdout",
     "output_type": "stream",
     "text": [
      "\r",
      "Upgrading database; v3 -> v4: : 0it [00:00, ?it/s]"
     ]
    },
    {
     "name": "stdout",
     "output_type": "stream",
     "text": [
      "\n",
      "\r",
      "  0%|          | 0/1 [00:00<?, ?it/s]"
     ]
    },
    {
     "name": "stdout",
     "output_type": "stream",
     "text": [
      "\r",
      "Upgrading database; v4 -> v5:   0%|          | 0/1 [00:00<?, ?it/s]"
     ]
    },
    {
     "name": "stdout",
     "output_type": "stream",
     "text": [
      "\r",
      "Upgrading database; v4 -> v5: 100%|██████████| 1/1 [00:00<00:00, 397.11it/s]"
     ]
    },
    {
     "name": "stdout",
     "output_type": "stream",
     "text": [
      "\n",
      "\r",
      "0it [00:00, ?it/s]"
     ]
    },
    {
     "name": "stdout",
     "output_type": "stream",
     "text": [
      "\r",
      "Upgrading database; v5 -> v6: : 0it [00:00, ?it/s]"
     ]
    },
    {
     "name": "stdout",
     "output_type": "stream",
     "text": [
      "\r",
      "Upgrading database; v5 -> v6: : 0it [00:00, ?it/s]"
     ]
    },
    {
     "name": "stdout",
     "output_type": "stream",
     "text": [
      "\n",
      "\r",
      "  0%|          | 0/1 [00:00<?, ?it/s]"
     ]
    },
    {
     "name": "stdout",
     "output_type": "stream",
     "text": [
      "\r",
      "Upgrading database; v6 -> v7:   0%|          | 0/1 [00:00<?, ?it/s]"
     ]
    },
    {
     "name": "stdout",
     "output_type": "stream",
     "text": [
      "\r",
      "Upgrading database; v6 -> v7: 100%|██████████| 1/1 [00:00<00:00, 274.35it/s]"
     ]
    },
    {
     "name": "stdout",
     "output_type": "stream",
     "text": [
      "\n",
      "\r",
      "  0%|          | 0/1 [00:00<?, ?it/s]"
     ]
    },
    {
     "name": "stdout",
     "output_type": "stream",
     "text": [
      "\r",
      "Upgrading database; v7 -> v8:   0%|          | 0/1 [00:00<?, ?it/s]"
     ]
    },
    {
     "name": "stdout",
     "output_type": "stream",
     "text": [
      "\r",
      "Upgrading database; v7 -> v8: 100%|██████████| 1/1 [00:00<00:00, 406.31it/s]"
     ]
    },
    {
     "name": "stdout",
     "output_type": "stream",
     "text": [
      "\n",
      "\r",
      "  0%|          | 0/1 [00:00<?, ?it/s]"
     ]
    },
    {
     "name": "stdout",
     "output_type": "stream",
     "text": [
      "\r",
      "Upgrading database; v8 -> v9:   0%|          | 0/1 [00:00<?, ?it/s]"
     ]
    },
    {
     "name": "stdout",
     "output_type": "stream",
     "text": [
      "\r",
      "Upgrading database; v8 -> v9: 100%|██████████| 1/1 [00:00<00:00, 311.57it/s]"
     ]
    },
    {
     "name": "stdout",
     "output_type": "stream",
     "text": [
      "\n"
     ]
    }
   ],
   "source": [
    "initialise_database()\n",
    "exp = load_or_create_experiment(experiment_name='tutorial_exp', sample_name=\"no sample\")"
   ]
  },
  {
   "cell_type": "markdown",
   "metadata": {},
   "source": [
    "Here, we define a simple function to benchmark the time it takes to insert n points with either numeric or array data type.\n",
    "We will compare both the time used to call ``add_result`` and the time used for the full measurement."
   ]
  },
  {
   "cell_type": "code",
   "execution_count": 4,
   "metadata": {
    "execution": {
     "iopub.execute_input": "2021-04-06T03:42:40.992666Z",
     "iopub.status.busy": "2021-04-06T03:42:40.992023Z",
     "iopub.status.idle": "2021-04-06T03:42:40.996130Z",
     "shell.execute_reply": "2021-04-06T03:42:40.995317Z"
    }
   },
   "outputs": [],
   "source": [
    "def insert_data(paramtype, npoints, nreps=1):\n",
    "\n",
    "    meas = Measurement(exp=exp)\n",
    "\n",
    "    x1 = ManualParameter('x1')\n",
    "    x2 = ManualParameter('x2')\n",
    "    x3 = ManualParameter('x3')\n",
    "    y1 = ManualParameter('y1')\n",
    "    y2 = ManualParameter('y2')\n",
    "\n",
    "    meas.register_parameter(x1, paramtype=paramtype)\n",
    "    meas.register_parameter(x2, paramtype=paramtype)\n",
    "    meas.register_parameter(x3, paramtype=paramtype)\n",
    "    meas.register_parameter(y1, setpoints=[x1, x2, x3],\n",
    "                            paramtype=paramtype)\n",
    "    meas.register_parameter(y2, setpoints=[x1, x2, x3],\n",
    "                            paramtype=paramtype)\n",
    "    start = time.perf_counter()\n",
    "    with meas.run() as datasaver:\n",
    "        start_adding = time.perf_counter()\n",
    "        for i in range(nreps):\n",
    "            datasaver.add_result((x1, np.random.rand(npoints)),\n",
    "                                 (x2, np.random.rand(npoints)),\n",
    "                                 (x3, np.random.rand(npoints)),\n",
    "                                 (y1, np.random.rand(npoints)),\n",
    "                                 (y2, np.random.rand(npoints)))\n",
    "        stop_adding = time.perf_counter()\n",
    "        run_id = datasaver.run_id\n",
    "    stop = time.perf_counter()\n",
    "    tot_time = stop - start\n",
    "    add_time = stop_adding - start_adding\n",
    "    return tot_time, add_time, run_id"
   ]
  },
  {
   "cell_type": "markdown",
   "metadata": {},
   "source": [
    "## Comparison between numeric/array data and binary blob"
   ]
  },
  {
   "cell_type": "markdown",
   "metadata": {},
   "source": [
    "### Case1: Short experiment time"
   ]
  },
  {
   "cell_type": "code",
   "execution_count": 5,
   "metadata": {
    "execution": {
     "iopub.execute_input": "2021-04-06T03:42:41.004183Z",
     "iopub.status.busy": "2021-04-06T03:42:41.003006Z",
     "iopub.status.idle": "2021-04-06T03:42:42.002009Z",
     "shell.execute_reply": "2021-04-06T03:42:42.001033Z"
    }
   },
   "outputs": [
    {
     "name": "stdout",
     "output_type": "stream",
     "text": [
      "Starting experimental run with id: 1. \n",
      "Starting experimental run with id: 2. \n",
      "Starting experimental run with id: 3. \n"
     ]
    },
    {
     "name": "stdout",
     "output_type": "stream",
     "text": [
      "Starting experimental run with id: 4. \n"
     ]
    },
    {
     "name": "stdout",
     "output_type": "stream",
     "text": [
      "Starting experimental run with id: 5. \n"
     ]
    },
    {
     "name": "stdout",
     "output_type": "stream",
     "text": [
      "Starting experimental run with id: 6. \n",
      "Starting experimental run with id: 7. \n"
     ]
    },
    {
     "name": "stdout",
     "output_type": "stream",
     "text": [
      "Starting experimental run with id: 8. \n"
     ]
    },
    {
     "name": "stdout",
     "output_type": "stream",
     "text": [
      "Starting experimental run with id: 9. \n"
     ]
    },
    {
     "name": "stdout",
     "output_type": "stream",
     "text": [
      "Starting experimental run with id: 10. \n",
      "Starting experimental run with id: 11. \n"
     ]
    },
    {
     "name": "stdout",
     "output_type": "stream",
     "text": [
      "Starting experimental run with id: 12. \n",
      "Starting experimental run with id: 13. \n"
     ]
    },
    {
     "name": "stdout",
     "output_type": "stream",
     "text": [
      "Starting experimental run with id: 14. \n"
     ]
    }
   ],
   "source": [
    "sizes = [1,500,1000,2000,3000,4000,5000]\n",
    "t_numeric = []\n",
    "t_numeric_add = []\n",
    "t_array = []\n",
    "t_array_add = []\n",
    "for size in sizes:\n",
    "    tn, tna, run_id_n =  insert_data('numeric', size)\n",
    "    t_numeric.append(tn)\n",
    "    t_numeric_add.append(tna)\n",
    "\n",
    "    ta, taa, run_id_a =  insert_data('array', size)\n",
    "    t_array.append(ta)\n",
    "    t_array_add.append(taa)"
   ]
  },
  {
   "cell_type": "code",
   "execution_count": 6,
   "metadata": {
    "execution": {
     "iopub.execute_input": "2021-04-06T03:42:42.031702Z",
     "iopub.status.busy": "2021-04-06T03:42:42.022857Z",
     "iopub.status.idle": "2021-04-06T03:42:42.221969Z",
     "shell.execute_reply": "2021-04-06T03:42:42.222765Z"
    }
   },
   "outputs": [
    {
     "data": {
      "image/png": "[encoded data removed]",
      "text/plain": [
       "<Figure size 432x288 with 1 Axes>"
      ]
     },
     "metadata": {
      "needs_background": "light"
     },
     "output_type": "display_data"
    }
   ],
   "source": [
    "fig, ax = plt.subplots(1,1)\n",
    "ax.plot(sizes, t_numeric, 'o-', label='Inserting row-by-row')\n",
    "ax.plot(sizes, t_numeric_add, 'o-', label='Inserting row-by-row: add_result only')\n",
    "ax.plot(sizes, t_array, 'd-', label='Inserting as binary blob')\n",
    "ax.plot(sizes, t_array_add, 'd-', label='Inserting as binary blob: add_result only')\n",
    "ax.legend()\n",
    "ax.set_xlabel('Array length')\n",
    "ax.set_ylabel('Time (s)')\n",
    "fig.tight_layout()"
   ]
  },
  {
   "cell_type": "markdown",
   "metadata": {},
   "source": [
    "As shown in the latter figure, the time to setup and and close the experiment is approximately 0.4 sec. In case of small array sizes, the difference between inserting values of data as arrays and inserting them row-by-row is relatively unimportant. At larger array sizes, i.e. above 10000 points, the cost of writing data as individual datapoints starts to become important.\n"
   ]
  },
  {
   "cell_type": "markdown",
   "metadata": {},
   "source": [
    "### Case2: Long experiment time "
   ]
  },
  {
   "cell_type": "code",
   "execution_count": 7,
   "metadata": {
    "execution": {
     "iopub.execute_input": "2021-04-06T03:42:42.230436Z",
     "iopub.status.busy": "2021-04-06T03:42:42.229543Z",
     "iopub.status.idle": "2021-04-06T03:43:45.952763Z",
     "shell.execute_reply": "2021-04-06T03:43:45.953288Z"
    }
   },
   "outputs": [
    {
     "name": "stdout",
     "output_type": "stream",
     "text": [
      "Starting experimental run with id: 15. \n",
      "Starting experimental run with id: 16. \n"
     ]
    },
    {
     "name": "stdout",
     "output_type": "stream",
     "text": [
      "Starting experimental run with id: 17. \n"
     ]
    },
    {
     "name": "stdout",
     "output_type": "stream",
     "text": [
      "Starting experimental run with id: 18. \n"
     ]
    },
    {
     "name": "stdout",
     "output_type": "stream",
     "text": [
      "Starting experimental run with id: 19. \n"
     ]
    },
    {
     "name": "stdout",
     "output_type": "stream",
     "text": [
      "Starting experimental run with id: 20. \n"
     ]
    },
    {
     "name": "stdout",
     "output_type": "stream",
     "text": [
      "Starting experimental run with id: 21. \n"
     ]
    },
    {
     "name": "stdout",
     "output_type": "stream",
     "text": [
      "Starting experimental run with id: 22. \n"
     ]
    },
    {
     "name": "stdout",
     "output_type": "stream",
     "text": [
      "Starting experimental run with id: 23. \n"
     ]
    },
    {
     "name": "stdout",
     "output_type": "stream",
     "text": [
      "Starting experimental run with id: 24. \n"
     ]
    },
    {
     "name": "stdout",
     "output_type": "stream",
     "text": [
      "Starting experimental run with id: 25. \n"
     ]
    },
    {
     "name": "stdout",
     "output_type": "stream",
     "text": [
      "Starting experimental run with id: 26. \n"
     ]
    },
    {
     "name": "stdout",
     "output_type": "stream",
     "text": [
      "Starting experimental run with id: 27. \n"
     ]
    },
    {
     "name": "stdout",
     "output_type": "stream",
     "text": [
      "Starting experimental run with id: 28. \n"
     ]
    }
   ],
   "source": [
    "sizes = [1,500,1000,2000,3000,4000,5000]\n",
    "nreps = 100\n",
    "t_numeric = []\n",
    "t_numeric_add = []\n",
    "t_numeric_run_ids = []\n",
    "t_array = []\n",
    "t_array_add = []\n",
    "t_array_run_ids = []\n",
    "for size in sizes:\n",
    "    tn, tna, run_id_n =  insert_data('numeric', size, nreps=nreps)\n",
    "    t_numeric.append(tn)\n",
    "    t_numeric_add.append(tna)\n",
    "    t_numeric_run_ids.append(run_id_n)\n",
    "\n",
    "    ta, taa, run_id_a =  insert_data('array', size, nreps=nreps)\n",
    "    t_array.append(ta)\n",
    "    t_array_add.append(taa)\n",
    "    t_array_run_ids.append(run_id_a)"
   ]
  },
  {
   "cell_type": "code",
   "execution_count": 8,
   "metadata": {
    "execution": {
     "iopub.execute_input": "2021-04-06T03:43:46.003155Z",
     "iopub.status.busy": "2021-04-06T03:43:45.989098Z",
     "iopub.status.idle": "2021-04-06T03:43:46.207193Z",
     "shell.execute_reply": "2021-04-06T03:43:46.206619Z"
    },
    "scrolled": true
   },
   "outputs": [
    {
     "data": {
      "image/png": "[encoded data removed]",
      "text/plain": [
       "<Figure size 432x288 with 1 Axes>"
      ]
     },
     "metadata": {
      "needs_background": "light"
     },
     "output_type": "display_data"
    }
   ],
   "source": [
    "fig, ax = plt.subplots(1,1)\n",
    "ax.plot(sizes, t_numeric, 'o-', label='Inserting row-by-row')\n",
    "ax.plot(sizes, t_numeric_add, 'o-', label='Inserting row-by-row: add_result only')\n",
    "ax.plot(sizes, t_array, 'd-', label='Inserting as binary blob')\n",
    "ax.plot(sizes, t_array_add, 'd-', label='Inserting as binary blob: add_result only')\n",
    "ax.legend()\n",
    "ax.set_xlabel('Array length')\n",
    "ax.set_ylabel('Time (s)')\n",
    "fig.tight_layout()"
   ]
  },
  {
   "cell_type": "markdown",
   "metadata": {},
   "source": [
    "However, as we increase the length of the experiment, as seen here by repeating the insertion 100 times, we see a big difference between inserting values of the data row-by-row and inserting it as a binary blob."
   ]
  },
  {
   "cell_type": "markdown",
   "metadata": {},
   "source": [
    "## Loading the data "
   ]
  },
  {
   "cell_type": "code",
   "execution_count": 9,
   "metadata": {
    "execution": {
     "iopub.execute_input": "2021-04-06T03:43:46.212484Z",
     "iopub.status.busy": "2021-04-06T03:43:46.211355Z",
     "iopub.status.idle": "2021-04-06T03:43:46.214554Z",
     "shell.execute_reply": "2021-04-06T03:43:46.215082Z"
    }
   },
   "outputs": [],
   "source": [
    "from qcodes.dataset.data_set import load_by_id\n",
    "from qcodes.dataset.data_export import get_data_by_id"
   ]
  },
  {
   "cell_type": "markdown",
   "metadata": {},
   "source": [
    "As usual you can load the data by using the ``load_by_id`` function but you will notice that the different storage methods\n",
    "are reflected in shape of the data as it is retrieved. "
   ]
  },
  {
   "cell_type": "code",
   "execution_count": 10,
   "metadata": {
    "execution": {
     "iopub.execute_input": "2021-04-06T03:43:46.219764Z",
     "iopub.status.busy": "2021-04-06T03:43:46.218915Z",
     "iopub.status.idle": "2021-04-06T03:43:46.223670Z",
     "shell.execute_reply": "2021-04-06T03:43:46.223094Z"
    }
   },
   "outputs": [],
   "source": [
    "run_id_n = t_numeric_run_ids[0]\n",
    "run_id_a = t_array_run_ids[0]"
   ]
  },
  {
   "cell_type": "code",
   "execution_count": 11,
   "metadata": {
    "execution": {
     "iopub.execute_input": "2021-04-06T03:43:46.228012Z",
     "iopub.status.busy": "2021-04-06T03:43:46.227123Z",
     "iopub.status.idle": "2021-04-06T03:43:46.295311Z",
     "shell.execute_reply": "2021-04-06T03:43:46.294706Z"
    },
    "scrolled": true
   },
   "outputs": [
    {
     "data": {
      "text/plain": [
       "{'x1': {'x1': array([0.26970413, 0.26970413, 0.65922215, 0.65922215, 0.69969611,\n",
       "         0.69969611, 0.27983112, 0.27983112, 0.71606801, 0.71606801,\n",
       "         0.28755218, 0.28755218, 0.97927303, 0.97927303, 0.17010623,\n",
       "         0.17010623, 0.82899057, 0.82899057, 0.37172908, 0.37172908,\n",
       "         0.1505873 , 0.1505873 , 0.08403962, 0.08403962, 0.39230395,\n",
       "         0.39230395, 0.70933991, 0.70933991, 0.44742515, 0.44742515,\n",
       "         0.70767311, 0.70767311, 0.00821133, 0.00821133, 0.33939517,\n",
       "         0.33939517, 0.68777198, 0.68777198, 0.55126689, 0.55126689,\n",
       "         0.3543803 , 0.3543803 , 0.29615652, 0.29615652, 0.28416736,\n",
       "         0.28416736, 0.73634807, 0.73634807, 0.54904096, 0.54904096,\n",
       "         0.89717587, 0.89717587, 0.60238439, 0.60238439, 0.04881614,\n",
       "         0.04881614, 0.02375027, 0.02375027, 0.90605871, 0.90605871,\n",
       "         0.78477584, 0.78477584, 0.71686705, 0.71686705, 0.44259473,\n",
       "         0.44259473, 0.26334502, 0.26334502, 0.53552475, 0.53552475,\n",
       "         0.95151534, 0.95151534, 0.63200395, 0.63200395, 0.64897364,\n",
       "         0.64897364, 0.5743127 , 0.5743127 , 0.21342086, 0.21342086,\n",
       "         0.37462284, 0.37462284, 0.4239216 , 0.4239216 , 0.40022018,\n",
       "         0.40022018, 0.46610102, 0.46610102, 0.21159759, 0.21159759,\n",
       "         0.80091091, 0.80091091, 0.62755743, 0.62755743, 0.98182351,\n",
       "         0.98182351, 0.2420213 , 0.2420213 , 0.47251945, 0.47251945,\n",
       "         0.65201645, 0.65201645, 0.56108699, 0.56108699, 0.1100738 ,\n",
       "         0.1100738 , 0.15222364, 0.15222364, 0.87092308, 0.87092308,\n",
       "         0.88361686, 0.88361686, 0.13202901, 0.13202901, 0.57315339,\n",
       "         0.57315339, 0.95851565, 0.95851565, 0.33280177, 0.33280177,\n",
       "         0.48113621, 0.48113621, 0.62681471, 0.62681471, 0.55935485,\n",
       "         0.55935485, 0.1104152 , 0.1104152 , 0.19796122, 0.19796122,\n",
       "         0.13618372, 0.13618372, 0.72820202, 0.72820202, 0.19537721,\n",
       "         0.19537721, 0.71971959, 0.71971959, 0.53926169, 0.53926169,\n",
       "         0.42627   , 0.42627   , 0.19801564, 0.19801564, 0.64249628,\n",
       "         0.64249628, 0.61405321, 0.61405321, 0.25340019, 0.25340019,\n",
       "         0.52002814, 0.52002814, 0.62138105, 0.62138105, 0.18899609,\n",
       "         0.18899609, 0.8667584 , 0.8667584 , 0.07670196, 0.07670196,\n",
       "         0.41390944, 0.41390944, 0.56842032, 0.56842032, 0.07351156,\n",
       "         0.07351156, 0.69860087, 0.69860087, 0.64330476, 0.64330476,\n",
       "         0.09387079, 0.09387079, 0.93743092, 0.93743092, 0.68280096,\n",
       "         0.68280096, 0.20353351, 0.20353351, 0.51270566, 0.51270566,\n",
       "         0.97491263, 0.97491263, 0.31239358, 0.31239358, 0.04336914,\n",
       "         0.04336914, 0.67030375, 0.67030375, 0.27997909, 0.27997909,\n",
       "         0.70410165, 0.70410165, 0.12504284, 0.12504284, 0.67784775,\n",
       "         0.67784775, 0.96650585, 0.96650585, 0.97120723, 0.97120723])}}"
      ]
     },
     "execution_count": 1,
     "metadata": {},
     "output_type": "execute_result"
    }
   ],
   "source": [
    "ds = load_by_id(run_id_n)\n",
    "ds.get_parameter_data('x1')"
   ]
  },
  {
   "cell_type": "markdown",
   "metadata": {},
   "source": [
    "And a dataset stored as binary arrays"
   ]
  },
  {
   "cell_type": "code",
   "execution_count": 12,
   "metadata": {
    "execution": {
     "iopub.execute_input": "2021-04-06T03:43:46.299659Z",
     "iopub.status.busy": "2021-04-06T03:43:46.299005Z",
     "iopub.status.idle": "2021-04-06T03:43:46.366189Z",
     "shell.execute_reply": "2021-04-06T03:43:46.366737Z"
    },
    "scrolled": true
   },
   "outputs": [
    {
     "data": {
      "text/plain": [
       "{'x1': {'x1': array([[0.66042072],\n",
       "         [0.66042072],\n",
       "         [0.94233928],\n",
       "         [0.94233928],\n",
       "         [0.88694704],\n",
       "         [0.88694704],\n",
       "         [0.48940863],\n",
       "         [0.48940863],\n",
       "         [0.79199713],\n",
       "         [0.79199713],\n",
       "         [0.48677763],\n",
       "         [0.48677763],\n",
       "         [0.59432397],\n",
       "         [0.59432397],\n",
       "         [0.81956623],\n",
       "         [0.81956623],\n",
       "         [0.20542344],\n",
       "         [0.20542344],\n",
       "         [0.96621272],\n",
       "         [0.96621272],\n",
       "         [0.85295046],\n",
       "         [0.85295046],\n",
       "         [0.15330586],\n",
       "         [0.15330586],\n",
       "         [0.45257589],\n",
       "         [0.45257589],\n",
       "         [0.20633584],\n",
       "         [0.20633584],\n",
       "         [0.91764593],\n",
       "         [0.91764593],\n",
       "         [0.5797415 ],\n",
       "         [0.5797415 ],\n",
       "         [0.4799862 ],\n",
       "         [0.4799862 ],\n",
       "         [0.50712884],\n",
       "         [0.50712884],\n",
       "         [0.00963641],\n",
       "         [0.00963641],\n",
       "         [0.68317689],\n",
       "         [0.68317689],\n",
       "         [0.86538495],\n",
       "         [0.86538495],\n",
       "         [0.34401771],\n",
       "         [0.34401771],\n",
       "         [0.60443819],\n",
       "         [0.60443819],\n",
       "         [0.45392134],\n",
       "         [0.45392134],\n",
       "         [0.47359102],\n",
       "         [0.47359102],\n",
       "         [0.02145866],\n",
       "         [0.02145866],\n",
       "         [0.77763864],\n",
       "         [0.77763864],\n",
       "         [0.10007127],\n",
       "         [0.10007127],\n",
       "         [0.57896121],\n",
       "         [0.57896121],\n",
       "         [0.90134413],\n",
       "         [0.90134413],\n",
       "         [0.87085888],\n",
       "         [0.87085888],\n",
       "         [0.61792392],\n",
       "         [0.61792392],\n",
       "         [0.14719254],\n",
       "         [0.14719254],\n",
       "         [0.15882692],\n",
       "         [0.15882692],\n",
       "         [0.85420131],\n",
       "         [0.85420131],\n",
       "         [0.23929065],\n",
       "         [0.23929065],\n",
       "         [0.4807043 ],\n",
       "         [0.4807043 ],\n",
       "         [0.66959706],\n",
       "         [0.66959706],\n",
       "         [0.66927292],\n",
       "         [0.66927292],\n",
       "         [0.22183701],\n",
       "         [0.22183701],\n",
       "         [0.882117  ],\n",
       "         [0.882117  ],\n",
       "         [0.84680373],\n",
       "         [0.84680373],\n",
       "         [0.6638879 ],\n",
       "         [0.6638879 ],\n",
       "         [0.4223744 ],\n",
       "         [0.4223744 ],\n",
       "         [0.54337124],\n",
       "         [0.54337124],\n",
       "         [0.50818405],\n",
       "         [0.50818405],\n",
       "         [0.33698811],\n",
       "         [0.33698811],\n",
       "         [0.61503311],\n",
       "         [0.61503311],\n",
       "         [0.82972217],\n",
       "         [0.82972217],\n",
       "         [0.24456928],\n",
       "         [0.24456928],\n",
       "         [0.83409918],\n",
       "         [0.83409918],\n",
       "         [0.8672533 ],\n",
       "         [0.8672533 ],\n",
       "         [0.98691997],\n",
       "         [0.98691997],\n",
       "         [0.70047765],\n",
       "         [0.70047765],\n",
       "         [0.68631357],\n",
       "         [0.68631357],\n",
       "         [0.17873026],\n",
       "         [0.17873026],\n",
       "         [0.56169713],\n",
       "         [0.56169713],\n",
       "         [0.3784671 ],\n",
       "         [0.3784671 ],\n",
       "         [0.55435351],\n",
       "         [0.55435351],\n",
       "         [0.72231718],\n",
       "         [0.72231718],\n",
       "         [0.37780889],\n",
       "         [0.37780889],\n",
       "         [0.17285228],\n",
       "         [0.17285228],\n",
       "         [0.23145553],\n",
       "         [0.23145553],\n",
       "         [0.48924686],\n",
       "         [0.48924686],\n",
       "         [0.50096096],\n",
       "         [0.50096096],\n",
       "         [0.78034663],\n",
       "         [0.78034663],\n",
       "         [0.04101277],\n",
       "         [0.04101277],\n",
       "         [0.96804169],\n",
       "         [0.96804169],\n",
       "         [0.37509058],\n",
       "         [0.37509058],\n",
       "         [0.07743759],\n",
       "         [0.07743759],\n",
       "         [0.05131356],\n",
       "         [0.05131356],\n",
       "         [0.23910596],\n",
       "         [0.23910596],\n",
       "         [0.57979278],\n",
       "         [0.57979278],\n",
       "         [0.43789579],\n",
       "         [0.43789579],\n",
       "         [0.73743341],\n",
       "         [0.73743341],\n",
       "         [0.20386351],\n",
       "         [0.20386351],\n",
       "         [0.69888686],\n",
       "         [0.69888686],\n",
       "         [0.7346139 ],\n",
       "         [0.7346139 ],\n",
       "         [0.8429986 ],\n",
       "         [0.8429986 ],\n",
       "         [0.70728334],\n",
       "         [0.70728334],\n",
       "         [0.21749428],\n",
       "         [0.21749428],\n",
       "         [0.54840717],\n",
       "         [0.54840717],\n",
       "         [0.4603676 ],\n",
       "         [0.4603676 ],\n",
       "         [0.92596722],\n",
       "         [0.92596722],\n",
       "         [0.22700219],\n",
       "         [0.22700219],\n",
       "         [0.32650397],\n",
       "         [0.32650397],\n",
       "         [0.44565714],\n",
       "         [0.44565714],\n",
       "         [0.65400404],\n",
       "         [0.65400404],\n",
       "         [0.07320538],\n",
       "         [0.07320538],\n",
       "         [0.74013649],\n",
       "         [0.74013649],\n",
       "         [0.60525495],\n",
       "         [0.60525495],\n",
       "         [0.70884556],\n",
       "         [0.70884556],\n",
       "         [0.87621564],\n",
       "         [0.87621564],\n",
       "         [0.43153244],\n",
       "         [0.43153244],\n",
       "         [0.47017581],\n",
       "         [0.47017581],\n",
       "         [0.69301391],\n",
       "         [0.69301391],\n",
       "         [0.30753798],\n",
       "         [0.30753798],\n",
       "         [0.08805679],\n",
       "         [0.08805679],\n",
       "         [0.6406414 ],\n",
       "         [0.6406414 ],\n",
       "         [0.15735293],\n",
       "         [0.15735293]])}}"
      ]
     },
     "execution_count": 1,
     "metadata": {},
     "output_type": "execute_result"
    }
   ],
   "source": [
    "ds = load_by_id(run_id_a)\n",
    "ds.get_parameter_data('x1')"
   ]
  },
  {
   "cell_type": "code",
   "execution_count": null,
   "metadata": {},
   "outputs": [],
   "source": []
  }
 ],
 "metadata": {
  "kernelspec": {
   "display_name": "Python 3",
   "language": "python",
   "name": "python3"
  },
  "language_info": {
   "codemirror_mode": {
    "name": "ipython",
    "version": 3
   },
   "file_extension": ".py",
   "mimetype": "text/x-python",
   "name": "python",
   "nbconvert_exporter": "python",
   "pygments_lexer": "ipython3",
   "version": "3.7.10"
  },
  "nbsphinx": {
   "timeout": 600
  },
  "toc": {
   "base_numbering": 1,
   "nav_menu": {},
   "number_sections": true,
   "sideBar": true,
   "skip_h1_title": false,
   "title_cell": "Table of Contents",
   "title_sidebar": "Contents",
   "toc_cell": false,
   "toc_position": {},
   "toc_section_display": true,
   "toc_window_display": false
  },
  "varInspector": {
   "cols": {
    "lenName": 16,
    "lenType": 16,
    "lenVar": 40
   },
   "kernels_config": {
    "python": {
     "delete_cmd_postfix": "",
     "delete_cmd_prefix": "del ",
     "library": "var_list.py",
     "varRefreshCmd": "print(var_dic_list())"
    },
    "r": {
     "delete_cmd_postfix": ") ",
     "delete_cmd_prefix": "rm(",
     "library": "var_list.r",
     "varRefreshCmd": "cat(var_dic_list()) "
    }
   },
   "types_to_exclude": [
    "module",
    "function",
    "builtin_function_or_method",
    "instance",
    "_Feature"
   ],
   "window_display": false
  }
 },
 "nbformat": 4,
 "nbformat_minor": 2
}
