{
 "cells": [
  {
   "cell_type": "markdown",
   "metadata": {},
   "source": [
    "# DataSet Performance\n",
    "\n",
    "This notebook shows the trade-off between inserting data into a database row-by-row and as binary blobs. Inserting the data row-by-row means that we have direct access to all the data and may perform queries directly on the values of the data. On the other hand, as we shall see, this is much slower than inserting the data directly as binary blobs."
   ]
  },
  {
   "cell_type": "markdown",
   "metadata": {},
   "source": [
    "First, we choose a new location for the database to ensure that we don't add a bunch of benchmarking data to the default one."
   ]
  },
  {
   "cell_type": "code",
   "execution_count": 1,
   "metadata": {
    "execution": {
     "iopub.execute_input": "2021-01-26T06:45:18.567158Z",
     "iopub.status.busy": "2021-01-26T06:45:18.566593Z",
     "iopub.status.idle": "2021-01-26T06:45:19.502926Z",
     "shell.execute_reply": "2021-01-26T06:45:19.502344Z"
    }
   },
   "outputs": [
    {
     "name": "stdout",
     "output_type": "stream",
     "text": [
      "Logging hadn't been started.\n",
      "Activating auto-logging. Current session state plus future input saved.\n",
      "Filename       : /home/vsts/.qcodes/logs/command_history.log\n",
      "Mode           : append\n",
      "Output logging : True\n",
      "Raw input log  : False\n",
      "Timestamping   : True\n",
      "State          : active\n"
     ]
    },
    {
     "name": "stdout",
     "output_type": "stream",
     "text": [
      "Qcodes Logfile : /home/vsts/.qcodes/logs/210126-14276-qcodes.log\n"
     ]
    }
   ],
   "source": [
    "import os\n",
    "cwd = os.getcwd()\n",
    "import qcodes as qc\n",
    "qc.config[\"core\"][\"db_location\"] = os.path.join(cwd, 'testing.db')\n"
   ]
  },
  {
   "cell_type": "code",
   "execution_count": 2,
   "metadata": {
    "execution": {
     "iopub.execute_input": "2021-01-26T06:45:19.508505Z",
     "iopub.status.busy": "2021-01-26T06:45:19.508022Z",
     "iopub.status.idle": "2021-01-26T06:45:19.684284Z",
     "shell.execute_reply": "2021-01-26T06:45:19.683615Z"
    }
   },
   "outputs": [],
   "source": [
    "%matplotlib inline\n",
    "import time\n",
    "import matplotlib.pyplot as plt\n",
    "import numpy as np\n",
    "\n",
    "import qcodes as qc\n",
    "from qcodes.instrument.parameter import ManualParameter\n",
    "from qcodes.dataset.experiment_container import (Experiment,\n",
    "                                                 load_last_experiment,\n",
    "                                                 new_experiment)\n",
    "from qcodes.dataset.sqlite.database import initialise_database\n",
    "from qcodes import load_or_create_experiment\n",
    "from qcodes.dataset.measurements import Measurement"
   ]
  },
  {
   "cell_type": "code",
   "execution_count": 3,
   "metadata": {
    "execution": {
     "iopub.execute_input": "2021-01-26T06:45:19.689001Z",
     "iopub.status.busy": "2021-01-26T06:45:19.687950Z",
     "iopub.status.idle": "2021-01-26T06:45:19.814384Z",
     "shell.execute_reply": "2021-01-26T06:45:19.813840Z"
    }
   },
   "outputs": [
    {
     "name": "stdout",
     "output_type": "stream",
     "text": [
      "\r",
      "0it [00:00, ?it/s]"
     ]
    },
    {
     "name": "stdout",
     "output_type": "stream",
     "text": [
      "\r",
      "Upgrading database; v0 -> v1: : 0it [00:00, ?it/s]"
     ]
    },
    {
     "name": "stdout",
     "output_type": "stream",
     "text": [
      "\r",
      "Upgrading database; v0 -> v1: : 0it [00:00, ?it/s]"
     ]
    },
    {
     "name": "stdout",
     "output_type": "stream",
     "text": [
      "\n",
      "\r",
      "  0%|          | 0/1 [00:00<?, ?it/s]"
     ]
    },
    {
     "name": "stdout",
     "output_type": "stream",
     "text": [
      "\r",
      "Upgrading database; v1 -> v2:   0%|          | 0/1 [00:00<?, ?it/s]"
     ]
    },
    {
     "name": "stdout",
     "output_type": "stream",
     "text": [
      "\r",
      "Upgrading database; v1 -> v2: 100%|██████████| 1/1 [00:00<00:00, 399.19it/s]"
     ]
    },
    {
     "name": "stdout",
     "output_type": "stream",
     "text": [
      "\n",
      "\r",
      "0it [00:00, ?it/s]"
     ]
    },
    {
     "name": "stdout",
     "output_type": "stream",
     "text": [
      "\r",
      "Upgrading database; v2 -> v3: : 0it [00:00, ?it/s]"
     ]
    },
    {
     "name": "stdout",
     "output_type": "stream",
     "text": [
      "\r",
      "Upgrading database; v2 -> v3: : 0it [00:00, ?it/s]"
     ]
    },
    {
     "name": "stdout",
     "output_type": "stream",
     "text": [
      "\n",
      "\r",
      "0it [00:00, ?it/s]"
     ]
    },
    {
     "name": "stdout",
     "output_type": "stream",
     "text": [
      "\r",
      "Upgrading database; v3 -> v4: : 0it [00:00, ?it/s]"
     ]
    },
    {
     "name": "stdout",
     "output_type": "stream",
     "text": [
      "\r",
      "Upgrading database; v3 -> v4: : 0it [00:00, ?it/s]"
     ]
    },
    {
     "name": "stdout",
     "output_type": "stream",
     "text": [
      "\n",
      "\r",
      "  0%|          | 0/1 [00:00<?, ?it/s]"
     ]
    },
    {
     "name": "stdout",
     "output_type": "stream",
     "text": [
      "\r",
      "Upgrading database; v4 -> v5:   0%|          | 0/1 [00:00<?, ?it/s]"
     ]
    },
    {
     "name": "stdout",
     "output_type": "stream",
     "text": [
      "\r",
      "Upgrading database; v4 -> v5: 100%|██████████| 1/1 [00:00<00:00, 736.62it/s]"
     ]
    },
    {
     "name": "stdout",
     "output_type": "stream",
     "text": [
      "\n",
      "\r",
      "0it [00:00, ?it/s]"
     ]
    },
    {
     "name": "stdout",
     "output_type": "stream",
     "text": [
      "\r",
      "Upgrading database; v5 -> v6: : 0it [00:00, ?it/s]"
     ]
    },
    {
     "name": "stdout",
     "output_type": "stream",
     "text": [
      "\r",
      "Upgrading database; v5 -> v6: : 0it [00:00, ?it/s]"
     ]
    },
    {
     "name": "stdout",
     "output_type": "stream",
     "text": [
      "\n",
      "\r",
      "  0%|          | 0/1 [00:00<?, ?it/s]"
     ]
    },
    {
     "name": "stdout",
     "output_type": "stream",
     "text": [
      "\r",
      "Upgrading database; v6 -> v7:   0%|          | 0/1 [00:00<?, ?it/s]"
     ]
    },
    {
     "name": "stdout",
     "output_type": "stream",
     "text": [
      "\r",
      "Upgrading database; v6 -> v7: 100%|██████████| 1/1 [00:00<00:00, 351.16it/s]"
     ]
    },
    {
     "name": "stdout",
     "output_type": "stream",
     "text": [
      "\n",
      "\r",
      "  0%|          | 0/1 [00:00<?, ?it/s]"
     ]
    },
    {
     "name": "stdout",
     "output_type": "stream",
     "text": [
      "\r",
      "Upgrading database; v7 -> v8:   0%|          | 0/1 [00:00<?, ?it/s]"
     ]
    },
    {
     "name": "stdout",
     "output_type": "stream",
     "text": [
      "\r",
      "Upgrading database; v7 -> v8: 100%|██████████| 1/1 [00:00<00:00, 469.74it/s]"
     ]
    },
    {
     "name": "stdout",
     "output_type": "stream",
     "text": [
      "\n",
      "\r",
      "  0%|          | 0/1 [00:00<?, ?it/s]"
     ]
    },
    {
     "name": "stdout",
     "output_type": "stream",
     "text": [
      "\r",
      "Upgrading database; v8 -> v9:   0%|          | 0/1 [00:00<?, ?it/s]"
     ]
    },
    {
     "name": "stdout",
     "output_type": "stream",
     "text": [
      "\r",
      "Upgrading database; v8 -> v9: 100%|██████████| 1/1 [00:00<00:00, 447.11it/s]"
     ]
    },
    {
     "name": "stdout",
     "output_type": "stream",
     "text": [
      "\n"
     ]
    }
   ],
   "source": [
    "initialise_database()\n",
    "exp = load_or_create_experiment(experiment_name='tutorial_exp', sample_name=\"no sample\")"
   ]
  },
  {
   "cell_type": "markdown",
   "metadata": {},
   "source": [
    "Here, we define a simple function to benchmark the time it takes to insert n points with either numeric or array data type.\n",
    "We will compare both the time used to call ``add_result`` and the time used for the full measurement."
   ]
  },
  {
   "cell_type": "code",
   "execution_count": 4,
   "metadata": {
    "execution": {
     "iopub.execute_input": "2021-01-26T06:45:19.822616Z",
     "iopub.status.busy": "2021-01-26T06:45:19.820874Z",
     "iopub.status.idle": "2021-01-26T06:45:19.826180Z",
     "shell.execute_reply": "2021-01-26T06:45:19.825341Z"
    }
   },
   "outputs": [],
   "source": [
    "def insert_data(paramtype, npoints, nreps=1):\n",
    "\n",
    "    meas = Measurement(exp=exp)\n",
    "\n",
    "    x1 = ManualParameter('x1')\n",
    "    x2 = ManualParameter('x2')\n",
    "    x3 = ManualParameter('x3')\n",
    "    y1 = ManualParameter('y1')\n",
    "    y2 = ManualParameter('y2')\n",
    "\n",
    "    meas.register_parameter(x1, paramtype=paramtype)\n",
    "    meas.register_parameter(x2, paramtype=paramtype)\n",
    "    meas.register_parameter(x3, paramtype=paramtype)\n",
    "    meas.register_parameter(y1, setpoints=[x1, x2, x3],\n",
    "                            paramtype=paramtype)\n",
    "    meas.register_parameter(y2, setpoints=[x1, x2, x3],\n",
    "                            paramtype=paramtype)\n",
    "    start = time.perf_counter()\n",
    "    with meas.run() as datasaver:\n",
    "        start_adding = time.perf_counter()\n",
    "        for i in range(nreps):\n",
    "            datasaver.add_result((x1, np.random.rand(npoints)),\n",
    "                                 (x2, np.random.rand(npoints)),\n",
    "                                 (x3, np.random.rand(npoints)),\n",
    "                                 (y1, np.random.rand(npoints)),\n",
    "                                 (y2, np.random.rand(npoints)))\n",
    "        stop_adding = time.perf_counter()\n",
    "        run_id = datasaver.run_id\n",
    "    stop = time.perf_counter()\n",
    "    tot_time = stop - start\n",
    "    add_time = stop_adding - start_adding\n",
    "    return tot_time, add_time, run_id"
   ]
  },
  {
   "cell_type": "markdown",
   "metadata": {},
   "source": [
    "## Comparison between numeric/array data and binary blob"
   ]
  },
  {
   "cell_type": "markdown",
   "metadata": {},
   "source": [
    "### Case1: Short experiment time"
   ]
  },
  {
   "cell_type": "code",
   "execution_count": 5,
   "metadata": {
    "execution": {
     "iopub.execute_input": "2021-01-26T06:45:19.833046Z",
     "iopub.status.busy": "2021-01-26T06:45:19.831779Z",
     "iopub.status.idle": "2021-01-26T06:45:20.607959Z",
     "shell.execute_reply": "2021-01-26T06:45:20.607281Z"
    }
   },
   "outputs": [
    {
     "name": "stdout",
     "output_type": "stream",
     "text": [
      "Starting experimental run with id: 1. \n",
      "Starting experimental run with id: 2. \n",
      "Starting experimental run with id: 3. \n",
      "Starting experimental run with id: 4. \n",
      "Starting experimental run with id: 5. \n"
     ]
    },
    {
     "name": "stdout",
     "output_type": "stream",
     "text": [
      "Starting experimental run with id: 6. \n"
     ]
    },
    {
     "name": "stdout",
     "output_type": "stream",
     "text": [
      "Starting experimental run with id: 7. \n"
     ]
    },
    {
     "name": "stdout",
     "output_type": "stream",
     "text": [
      "Starting experimental run with id: 8. \n",
      "Starting experimental run with id: 9. \n"
     ]
    },
    {
     "name": "stdout",
     "output_type": "stream",
     "text": [
      "Starting experimental run with id: 10. \n",
      "Starting experimental run with id: 11. \n"
     ]
    },
    {
     "name": "stdout",
     "output_type": "stream",
     "text": [
      "Starting experimental run with id: 12. \n",
      "Starting experimental run with id: 13. \n"
     ]
    },
    {
     "name": "stdout",
     "output_type": "stream",
     "text": [
      "Starting experimental run with id: 14. \n"
     ]
    }
   ],
   "source": [
    "sizes = [1,500,1000,2000,3000,4000,5000]\n",
    "t_numeric = []\n",
    "t_numeric_add = []\n",
    "t_array = []\n",
    "t_array_add = []\n",
    "for size in sizes:\n",
    "    tn, tna, run_id_n =  insert_data('numeric', size)\n",
    "    t_numeric.append(tn)\n",
    "    t_numeric_add.append(tna)\n",
    "\n",
    "    ta, taa, run_id_a =  insert_data('array', size)\n",
    "    t_array.append(ta)\n",
    "    t_array_add.append(taa)"
   ]
  },
  {
   "cell_type": "code",
   "execution_count": 6,
   "metadata": {
    "execution": {
     "iopub.execute_input": "2021-01-26T06:45:20.625095Z",
     "iopub.status.busy": "2021-01-26T06:45:20.624554Z",
     "iopub.status.idle": "2021-01-26T06:45:20.858272Z",
     "shell.execute_reply": "2021-01-26T06:45:20.858677Z"
    }
   },
   "outputs": [
    {
     "data": {
      "image/png": "[encoded data removed]",
      "text/plain": [
       "<Figure size 432x288 with 1 Axes>"
      ]
     },
     "metadata": {
      "needs_background": "light"
     },
     "output_type": "display_data"
    }
   ],
   "source": [
    "fig, ax = plt.subplots(1,1)\n",
    "ax.plot(sizes, t_numeric, 'o-', label='Inserting row-by-row')\n",
    "ax.plot(sizes, t_numeric_add, 'o-', label='Inserting row-by-row: add_result only')\n",
    "ax.plot(sizes, t_array, 'd-', label='Inserting as binary blob')\n",
    "ax.plot(sizes, t_array_add, 'd-', label='Inserting as binary blob: add_result only')\n",
    "ax.legend()\n",
    "ax.set_xlabel('Array length')\n",
    "ax.set_ylabel('Time (s)')\n",
    "fig.tight_layout()"
   ]
  },
  {
   "cell_type": "markdown",
   "metadata": {},
   "source": [
    "As shown in the latter figure, the time to setup and and close the experiment is approximately 0.4 sec. In case of small array sizes, the difference between inserting values of data as arrays and inserting them row-by-row is relatively unimportant. At larger array sizes, i.e. above 10000 points, the cost of writing data as individual datapoints starts to become important.\n"
   ]
  },
  {
   "cell_type": "markdown",
   "metadata": {},
   "source": [
    "### Case2: Long experiment time "
   ]
  },
  {
   "cell_type": "code",
   "execution_count": 7,
   "metadata": {
    "execution": {
     "iopub.execute_input": "2021-01-26T06:45:20.867094Z",
     "iopub.status.busy": "2021-01-26T06:45:20.863147Z",
     "iopub.status.idle": "2021-01-26T06:46:14.200832Z",
     "shell.execute_reply": "2021-01-26T06:46:14.201253Z"
    }
   },
   "outputs": [
    {
     "name": "stdout",
     "output_type": "stream",
     "text": [
      "Starting experimental run with id: 15. \n",
      "Starting experimental run with id: 16. \n",
      "Starting experimental run with id: 17. \n"
     ]
    },
    {
     "name": "stdout",
     "output_type": "stream",
     "text": [
      "Starting experimental run with id: 18. \n",
      "Starting experimental run with id: 19. \n"
     ]
    },
    {
     "name": "stdout",
     "output_type": "stream",
     "text": [
      "Starting experimental run with id: 20. \n"
     ]
    },
    {
     "name": "stdout",
     "output_type": "stream",
     "text": [
      "Starting experimental run with id: 21. \n"
     ]
    },
    {
     "name": "stdout",
     "output_type": "stream",
     "text": [
      "Starting experimental run with id: 22. \n"
     ]
    },
    {
     "name": "stdout",
     "output_type": "stream",
     "text": [
      "Starting experimental run with id: 23. \n"
     ]
    },
    {
     "name": "stdout",
     "output_type": "stream",
     "text": [
      "Starting experimental run with id: 24. \n"
     ]
    },
    {
     "name": "stdout",
     "output_type": "stream",
     "text": [
      "Starting experimental run with id: 25. \n"
     ]
    },
    {
     "name": "stdout",
     "output_type": "stream",
     "text": [
      "Starting experimental run with id: 26. \n"
     ]
    },
    {
     "name": "stdout",
     "output_type": "stream",
     "text": [
      "Starting experimental run with id: 27. \n"
     ]
    },
    {
     "name": "stdout",
     "output_type": "stream",
     "text": [
      "Starting experimental run with id: 28. \n"
     ]
    }
   ],
   "source": [
    "sizes = [1,500,1000,2000,3000,4000,5000]\n",
    "nreps = 100\n",
    "t_numeric = []\n",
    "t_numeric_add = []\n",
    "t_numeric_run_ids = []\n",
    "t_array = []\n",
    "t_array_add = []\n",
    "t_array_run_ids = []\n",
    "for size in sizes:\n",
    "    tn, tna, run_id_n =  insert_data('numeric', size, nreps=nreps)\n",
    "    t_numeric.append(tn)\n",
    "    t_numeric_add.append(tna)\n",
    "    t_numeric_run_ids.append(run_id_n)\n",
    "\n",
    "    ta, taa, run_id_a =  insert_data('array', size, nreps=nreps)\n",
    "    t_array.append(ta)\n",
    "    t_array_add.append(taa)\n",
    "    t_array_run_ids.append(run_id_a)"
   ]
  },
  {
   "cell_type": "code",
   "execution_count": 8,
   "metadata": {
    "execution": {
     "iopub.execute_input": "2021-01-26T06:46:14.230577Z",
     "iopub.status.busy": "2021-01-26T06:46:14.222497Z",
     "iopub.status.idle": "2021-01-26T06:46:14.442587Z",
     "shell.execute_reply": "2021-01-26T06:46:14.442097Z"
    },
    "scrolled": true
   },
   "outputs": [
    {
     "data": {
      "image/png": "[encoded data removed]",
      "text/plain": [
       "<Figure size 432x288 with 1 Axes>"
      ]
     },
     "metadata": {
      "needs_background": "light"
     },
     "output_type": "display_data"
    }
   ],
   "source": [
    "fig, ax = plt.subplots(1,1)\n",
    "ax.plot(sizes, t_numeric, 'o-', label='Inserting row-by-row')\n",
    "ax.plot(sizes, t_numeric_add, 'o-', label='Inserting row-by-row: add_result only')\n",
    "ax.plot(sizes, t_array, 'd-', label='Inserting as binary blob')\n",
    "ax.plot(sizes, t_array_add, 'd-', label='Inserting as binary blob: add_result only')\n",
    "ax.legend()\n",
    "ax.set_xlabel('Array length')\n",
    "ax.set_ylabel('Time (s)')\n",
    "fig.tight_layout()"
   ]
  },
  {
   "cell_type": "markdown",
   "metadata": {},
   "source": [
    "However, as we increase the length of the experiment, as seen here by repeating the insertion 100 times, we see a big difference between inserting values of the data row-by-row and inserting it as a binary blob."
   ]
  },
  {
   "cell_type": "markdown",
   "metadata": {},
   "source": [
    "## Loading the data "
   ]
  },
  {
   "cell_type": "code",
   "execution_count": 9,
   "metadata": {
    "execution": {
     "iopub.execute_input": "2021-01-26T06:46:14.447405Z",
     "iopub.status.busy": "2021-01-26T06:46:14.446901Z",
     "iopub.status.idle": "2021-01-26T06:46:14.450783Z",
     "shell.execute_reply": "2021-01-26T06:46:14.450273Z"
    }
   },
   "outputs": [],
   "source": [
    "from qcodes.dataset.data_set import load_by_id\n",
    "from qcodes.dataset.data_export import get_data_by_id"
   ]
  },
  {
   "cell_type": "markdown",
   "metadata": {},
   "source": [
    "As usual you can load the data by using the ``load_by_id`` function but you will notice that the different storage methods\n",
    "are reflected in shape of the data as it is retrieved. "
   ]
  },
  {
   "cell_type": "code",
   "execution_count": 10,
   "metadata": {
    "execution": {
     "iopub.execute_input": "2021-01-26T06:46:14.454985Z",
     "iopub.status.busy": "2021-01-26T06:46:14.453850Z",
     "iopub.status.idle": "2021-01-26T06:46:14.455517Z",
     "shell.execute_reply": "2021-01-26T06:46:14.456053Z"
    }
   },
   "outputs": [],
   "source": [
    "run_id_n = t_numeric_run_ids[0]\n",
    "run_id_a = t_array_run_ids[0]"
   ]
  },
  {
   "cell_type": "code",
   "execution_count": 11,
   "metadata": {
    "execution": {
     "iopub.execute_input": "2021-01-26T06:46:14.459010Z",
     "iopub.status.busy": "2021-01-26T06:46:14.458519Z",
     "iopub.status.idle": "2021-01-26T06:46:14.473604Z",
     "shell.execute_reply": "2021-01-26T06:46:14.473087Z"
    },
    "scrolled": true
   },
   "outputs": [
    {
     "data": {
      "text/plain": [
       "{'x1': {'x1': array([0.23686227, 0.23686227, 0.20270356, 0.20270356, 0.30741295,\n",
       "         0.30741295, 0.12078085, 0.12078085, 0.84028473, 0.84028473,\n",
       "         0.31572256, 0.31572256, 0.55271255, 0.55271255, 0.07283671,\n",
       "         0.07283671, 0.76424515, 0.76424515, 0.23182832, 0.23182832,\n",
       "         0.67720534, 0.67720534, 0.69540193, 0.69540193, 0.30612672,\n",
       "         0.30612672, 0.83393067, 0.83393067, 0.92566597, 0.92566597,\n",
       "         0.9723513 , 0.9723513 , 0.09189165, 0.09189165, 0.1090349 ,\n",
       "         0.1090349 , 0.20125957, 0.20125957, 0.85776412, 0.85776412,\n",
       "         0.1958394 , 0.1958394 , 0.68051618, 0.68051618, 0.18266639,\n",
       "         0.18266639, 0.54273524, 0.54273524, 0.08951416, 0.08951416,\n",
       "         0.25138335, 0.25138335, 0.877397  , 0.877397  , 0.61930562,\n",
       "         0.61930562, 0.80972524, 0.80972524, 0.15156138, 0.15156138,\n",
       "         0.19689929, 0.19689929, 0.02770886, 0.02770886, 0.16718632,\n",
       "         0.16718632, 0.08556055, 0.08556055, 0.28447539, 0.28447539,\n",
       "         0.89544864, 0.89544864, 0.16878931, 0.16878931, 0.91351321,\n",
       "         0.91351321, 0.17684337, 0.17684337, 0.83231986, 0.83231986,\n",
       "         0.44464126, 0.44464126, 0.80074746, 0.80074746, 0.56721144,\n",
       "         0.56721144, 0.75423972, 0.75423972, 0.45573453, 0.45573453,\n",
       "         0.21043789, 0.21043789, 0.84989234, 0.84989234, 0.30448826,\n",
       "         0.30448826, 0.29832373, 0.29832373, 0.93499931, 0.93499931,\n",
       "         0.60352124, 0.60352124, 0.1138077 , 0.1138077 , 0.3850442 ,\n",
       "         0.3850442 , 0.48415544, 0.48415544, 0.49605557, 0.49605557,\n",
       "         0.2304875 , 0.2304875 , 0.89530904, 0.89530904, 0.77560168,\n",
       "         0.77560168, 0.94018749, 0.94018749, 0.57471382, 0.57471382,\n",
       "         0.61343726, 0.61343726, 0.68273929, 0.68273929, 0.51110842,\n",
       "         0.51110842, 0.75414589, 0.75414589, 0.07769579, 0.07769579,\n",
       "         0.93135071, 0.93135071, 0.75116611, 0.75116611, 0.97348003,\n",
       "         0.97348003, 0.39374119, 0.39374119, 0.80957091, 0.80957091,\n",
       "         0.91477822, 0.91477822, 0.01971667, 0.01971667, 0.67173589,\n",
       "         0.67173589, 0.67879643, 0.67879643, 0.57567097, 0.57567097,\n",
       "         0.44085781, 0.44085781, 0.76963214, 0.76963214, 0.99965154,\n",
       "         0.99965154, 0.65992109, 0.65992109, 0.92591928, 0.92591928,\n",
       "         0.08435754, 0.08435754, 0.36286499, 0.36286499, 0.01483265,\n",
       "         0.01483265, 0.62347583, 0.62347583, 0.59252658, 0.59252658,\n",
       "         0.87808398, 0.87808398, 0.87185167, 0.87185167, 0.53313807,\n",
       "         0.53313807, 0.7090136 , 0.7090136 , 0.81636454, 0.81636454,\n",
       "         0.57239967, 0.57239967, 0.37619251, 0.37619251, 0.12491139,\n",
       "         0.12491139, 0.6765313 , 0.6765313 , 0.20776225, 0.20776225,\n",
       "         0.55758414, 0.55758414, 0.76313718, 0.76313718, 0.01272274,\n",
       "         0.01272274, 0.72760453, 0.72760453, 0.22158116, 0.22158116])}}"
      ]
     },
     "execution_count": 1,
     "metadata": {},
     "output_type": "execute_result"
    }
   ],
   "source": [
    "ds = load_by_id(run_id_n)\n",
    "ds.get_parameter_data('x1')"
   ]
  },
  {
   "cell_type": "markdown",
   "metadata": {},
   "source": [
    "And a dataset stored as binary arrays"
   ]
  },
  {
   "cell_type": "code",
   "execution_count": 12,
   "metadata": {
    "execution": {
     "iopub.execute_input": "2021-01-26T06:46:14.477111Z",
     "iopub.status.busy": "2021-01-26T06:46:14.476618Z",
     "iopub.status.idle": "2021-01-26T06:46:14.535498Z",
     "shell.execute_reply": "2021-01-26T06:46:14.536117Z"
    },
    "scrolled": true
   },
   "outputs": [
    {
     "data": {
      "text/plain": [
       "{'x1': {'x1': array([[0.79790691],\n",
       "         [0.79790691],\n",
       "         [0.79665483],\n",
       "         [0.79665483],\n",
       "         [0.16213899],\n",
       "         [0.16213899],\n",
       "         [0.41433051],\n",
       "         [0.41433051],\n",
       "         [0.88984128],\n",
       "         [0.88984128],\n",
       "         [0.38468396],\n",
       "         [0.38468396],\n",
       "         [0.55772799],\n",
       "         [0.55772799],\n",
       "         [0.08373294],\n",
       "         [0.08373294],\n",
       "         [0.51339516],\n",
       "         [0.51339516],\n",
       "         [0.0274305 ],\n",
       "         [0.0274305 ],\n",
       "         [0.81860356],\n",
       "         [0.81860356],\n",
       "         [0.80720508],\n",
       "         [0.80720508],\n",
       "         [0.54830133],\n",
       "         [0.54830133],\n",
       "         [0.55927749],\n",
       "         [0.55927749],\n",
       "         [0.76814727],\n",
       "         [0.76814727],\n",
       "         [0.45455455],\n",
       "         [0.45455455],\n",
       "         [0.70064242],\n",
       "         [0.70064242],\n",
       "         [0.71460965],\n",
       "         [0.71460965],\n",
       "         [0.73600929],\n",
       "         [0.73600929],\n",
       "         [0.52688012],\n",
       "         [0.52688012],\n",
       "         [0.30523475],\n",
       "         [0.30523475],\n",
       "         [0.81694202],\n",
       "         [0.81694202],\n",
       "         [0.91469427],\n",
       "         [0.91469427],\n",
       "         [0.32336925],\n",
       "         [0.32336925],\n",
       "         [0.00291344],\n",
       "         [0.00291344],\n",
       "         [0.57742861],\n",
       "         [0.57742861],\n",
       "         [0.02906171],\n",
       "         [0.02906171],\n",
       "         [0.17316076],\n",
       "         [0.17316076],\n",
       "         [0.88942211],\n",
       "         [0.88942211],\n",
       "         [0.1328022 ],\n",
       "         [0.1328022 ],\n",
       "         [0.48661475],\n",
       "         [0.48661475],\n",
       "         [0.81337459],\n",
       "         [0.81337459],\n",
       "         [0.37342355],\n",
       "         [0.37342355],\n",
       "         [0.63410298],\n",
       "         [0.63410298],\n",
       "         [0.2732492 ],\n",
       "         [0.2732492 ],\n",
       "         [0.39360873],\n",
       "         [0.39360873],\n",
       "         [0.80163649],\n",
       "         [0.80163649],\n",
       "         [0.23910378],\n",
       "         [0.23910378],\n",
       "         [0.73376241],\n",
       "         [0.73376241],\n",
       "         [0.58550785],\n",
       "         [0.58550785],\n",
       "         [0.47626883],\n",
       "         [0.47626883],\n",
       "         [0.26455724],\n",
       "         [0.26455724],\n",
       "         [0.16212656],\n",
       "         [0.16212656],\n",
       "         [0.89278899],\n",
       "         [0.89278899],\n",
       "         [0.61683409],\n",
       "         [0.61683409],\n",
       "         [0.96598881],\n",
       "         [0.96598881],\n",
       "         [0.07015251],\n",
       "         [0.07015251],\n",
       "         [0.26782088],\n",
       "         [0.26782088],\n",
       "         [0.1649733 ],\n",
       "         [0.1649733 ],\n",
       "         [0.88936649],\n",
       "         [0.88936649],\n",
       "         [0.50332685],\n",
       "         [0.50332685],\n",
       "         [0.72595336],\n",
       "         [0.72595336],\n",
       "         [0.63542324],\n",
       "         [0.63542324],\n",
       "         [0.46900155],\n",
       "         [0.46900155],\n",
       "         [0.98551539],\n",
       "         [0.98551539],\n",
       "         [0.08275391],\n",
       "         [0.08275391],\n",
       "         [0.46220741],\n",
       "         [0.46220741],\n",
       "         [0.95417997],\n",
       "         [0.95417997],\n",
       "         [0.05448166],\n",
       "         [0.05448166],\n",
       "         [0.66764077],\n",
       "         [0.66764077],\n",
       "         [0.66949293],\n",
       "         [0.66949293],\n",
       "         [0.71504965],\n",
       "         [0.71504965],\n",
       "         [0.40455858],\n",
       "         [0.40455858],\n",
       "         [0.39646193],\n",
       "         [0.39646193],\n",
       "         [0.89314961],\n",
       "         [0.89314961],\n",
       "         [0.4686177 ],\n",
       "         [0.4686177 ],\n",
       "         [0.06916691],\n",
       "         [0.06916691],\n",
       "         [0.00678756],\n",
       "         [0.00678756],\n",
       "         [0.33472945],\n",
       "         [0.33472945],\n",
       "         [0.22014422],\n",
       "         [0.22014422],\n",
       "         [0.51778731],\n",
       "         [0.51778731],\n",
       "         [0.45460648],\n",
       "         [0.45460648],\n",
       "         [0.42838657],\n",
       "         [0.42838657],\n",
       "         [0.30044904],\n",
       "         [0.30044904],\n",
       "         [0.73500512],\n",
       "         [0.73500512],\n",
       "         [0.14029019],\n",
       "         [0.14029019],\n",
       "         [0.93089883],\n",
       "         [0.93089883],\n",
       "         [0.95113768],\n",
       "         [0.95113768],\n",
       "         [0.47356051],\n",
       "         [0.47356051],\n",
       "         [0.91913114],\n",
       "         [0.91913114],\n",
       "         [0.97678444],\n",
       "         [0.97678444],\n",
       "         [0.06203926],\n",
       "         [0.06203926],\n",
       "         [0.08910877],\n",
       "         [0.08910877],\n",
       "         [0.24048661],\n",
       "         [0.24048661],\n",
       "         [0.99555999],\n",
       "         [0.99555999],\n",
       "         [0.36203247],\n",
       "         [0.36203247],\n",
       "         [0.5527886 ],\n",
       "         [0.5527886 ],\n",
       "         [0.79167173],\n",
       "         [0.79167173],\n",
       "         [0.53088663],\n",
       "         [0.53088663],\n",
       "         [0.61611351],\n",
       "         [0.61611351],\n",
       "         [0.16006036],\n",
       "         [0.16006036],\n",
       "         [0.45717401],\n",
       "         [0.45717401],\n",
       "         [0.16875559],\n",
       "         [0.16875559],\n",
       "         [0.32938351],\n",
       "         [0.32938351],\n",
       "         [0.9801326 ],\n",
       "         [0.9801326 ],\n",
       "         [0.57323724],\n",
       "         [0.57323724],\n",
       "         [0.86084225],\n",
       "         [0.86084225],\n",
       "         [0.69652587],\n",
       "         [0.69652587],\n",
       "         [0.66864327],\n",
       "         [0.66864327],\n",
       "         [0.95125196],\n",
       "         [0.95125196]])}}"
      ]
     },
     "execution_count": 1,
     "metadata": {},
     "output_type": "execute_result"
    }
   ],
   "source": [
    "ds = load_by_id(run_id_a)\n",
    "ds.get_parameter_data('x1')"
   ]
  },
  {
   "cell_type": "code",
   "execution_count": null,
   "metadata": {},
   "outputs": [],
   "source": []
  }
 ],
 "metadata": {
  "kernelspec": {
   "display_name": "Python 3",
   "language": "python",
   "name": "python3"
  },
  "language_info": {
   "codemirror_mode": {
    "name": "ipython",
    "version": 3
   },
   "file_extension": ".py",
   "mimetype": "text/x-python",
   "name": "python",
   "nbconvert_exporter": "python",
   "pygments_lexer": "ipython3",
   "version": "3.7.9"
  },
  "nbsphinx": {
   "timeout": 600
  },
  "toc": {
   "base_numbering": 1,
   "nav_menu": {},
   "number_sections": true,
   "sideBar": true,
   "skip_h1_title": false,
   "title_cell": "Table of Contents",
   "title_sidebar": "Contents",
   "toc_cell": false,
   "toc_position": {},
   "toc_section_display": true,
   "toc_window_display": false
  },
  "varInspector": {
   "cols": {
    "lenName": 16,
    "lenType": 16,
    "lenVar": 40
   },
   "kernels_config": {
    "python": {
     "delete_cmd_postfix": "",
     "delete_cmd_prefix": "del ",
     "library": "var_list.py",
     "varRefreshCmd": "print(var_dic_list())"
    },
    "r": {
     "delete_cmd_postfix": ") ",
     "delete_cmd_prefix": "rm(",
     "library": "var_list.r",
     "varRefreshCmd": "cat(var_dic_list()) "
    }
   },
   "types_to_exclude": [
    "module",
    "function",
    "builtin_function_or_method",
    "instance",
    "_Feature"
   ],
   "window_display": false
  }
 },
 "nbformat": 4,
 "nbformat_minor": 2
}
