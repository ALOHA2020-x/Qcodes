{
 "cells": [
  {
   "cell_type": "markdown",
   "metadata": {},
   "source": [
    "# DataSet Performance\n",
    "\n",
    "This notebook shows the trade-off between inserting data into a database row-by-row and as binary blobs. Inserting the data row-by-row means that we have direct access to all the data and may perform queries directly on the values of the data. On the other hand, as we shall see, this is much slower than inserting the data directly as binary blobs."
   ]
  },
  {
   "cell_type": "markdown",
   "metadata": {},
   "source": [
    "First, we choose a new location for the database to ensure that we don't add a bunch of benchmarking data to the default one."
   ]
  },
  {
   "cell_type": "code",
   "execution_count": 1,
   "metadata": {
    "execution": {
     "iopub.execute_input": "2021-02-17T06:22:00.409886Z",
     "iopub.status.busy": "2021-02-17T06:22:00.409252Z",
     "iopub.status.idle": "2021-02-17T06:22:01.316032Z",
     "shell.execute_reply": "2021-02-17T06:22:01.316487Z"
    }
   },
   "outputs": [
    {
     "name": "stdout",
     "output_type": "stream",
     "text": [
      "Logging hadn't been started.\n",
      "Activating auto-logging. Current session state plus future input saved.\n",
      "Filename       : /home/runner/.qcodes/logs/command_history.log\n",
      "Mode           : append\n",
      "Output logging : True\n",
      "Raw input log  : False\n",
      "Timestamping   : True\n",
      "State          : active\n"
     ]
    },
    {
     "name": "stdout",
     "output_type": "stream",
     "text": [
      "Qcodes Logfile : /home/runner/.qcodes/logs/210217-3857-qcodes.log\n"
     ]
    }
   ],
   "source": [
    "import os\n",
    "cwd = os.getcwd()\n",
    "import qcodes as qc\n",
    "qc.config[\"core\"][\"db_location\"] = os.path.join(cwd, 'testing.db')\n"
   ]
  },
  {
   "cell_type": "code",
   "execution_count": 2,
   "metadata": {
    "execution": {
     "iopub.execute_input": "2021-02-17T06:22:01.323908Z",
     "iopub.status.busy": "2021-02-17T06:22:01.322139Z",
     "iopub.status.idle": "2021-02-17T06:22:01.515597Z",
     "shell.execute_reply": "2021-02-17T06:22:01.514964Z"
    }
   },
   "outputs": [],
   "source": [
    "%matplotlib inline\n",
    "import time\n",
    "import matplotlib.pyplot as plt\n",
    "import numpy as np\n",
    "\n",
    "import qcodes as qc\n",
    "from qcodes.instrument.parameter import ManualParameter\n",
    "from qcodes.dataset.experiment_container import (Experiment,\n",
    "                                                 load_last_experiment,\n",
    "                                                 new_experiment)\n",
    "from qcodes.dataset.sqlite.database import initialise_database\n",
    "from qcodes import load_or_create_experiment\n",
    "from qcodes.dataset.measurements import Measurement"
   ]
  },
  {
   "cell_type": "code",
   "execution_count": 3,
   "metadata": {
    "execution": {
     "iopub.execute_input": "2021-02-17T06:22:01.519884Z",
     "iopub.status.busy": "2021-02-17T06:22:01.519052Z",
     "iopub.status.idle": "2021-02-17T06:22:01.638335Z",
     "shell.execute_reply": "2021-02-17T06:22:01.637542Z"
    }
   },
   "outputs": [
    {
     "name": "stdout",
     "output_type": "stream",
     "text": [
      "\r",
      "0it [00:00, ?it/s]"
     ]
    },
    {
     "name": "stdout",
     "output_type": "stream",
     "text": [
      "\r",
      "Upgrading database; v0 -> v1: : 0it [00:00, ?it/s]"
     ]
    },
    {
     "name": "stdout",
     "output_type": "stream",
     "text": [
      "\r",
      "Upgrading database; v0 -> v1: : 0it [00:00, ?it/s]"
     ]
    },
    {
     "name": "stdout",
     "output_type": "stream",
     "text": [
      "\n",
      "\r",
      "  0%|          | 0/1 [00:00<?, ?it/s]"
     ]
    },
    {
     "name": "stdout",
     "output_type": "stream",
     "text": [
      "\r",
      "Upgrading database; v1 -> v2:   0%|          | 0/1 [00:00<?, ?it/s]"
     ]
    },
    {
     "name": "stdout",
     "output_type": "stream",
     "text": [
      "\r",
      "Upgrading database; v1 -> v2: 100%|██████████| 1/1 [00:00<00:00, 577.97it/s]"
     ]
    },
    {
     "name": "stdout",
     "output_type": "stream",
     "text": [
      "\n",
      "\r",
      "0it [00:00, ?it/s]"
     ]
    },
    {
     "name": "stdout",
     "output_type": "stream",
     "text": [
      "\r",
      "Upgrading database; v2 -> v3: : 0it [00:00, ?it/s]"
     ]
    },
    {
     "name": "stdout",
     "output_type": "stream",
     "text": [
      "\r",
      "Upgrading database; v2 -> v3: : 0it [00:00, ?it/s]"
     ]
    },
    {
     "name": "stdout",
     "output_type": "stream",
     "text": [
      "\n",
      "\r",
      "0it [00:00, ?it/s]"
     ]
    },
    {
     "name": "stdout",
     "output_type": "stream",
     "text": [
      "\r",
      "Upgrading database; v3 -> v4: : 0it [00:00, ?it/s]"
     ]
    },
    {
     "name": "stdout",
     "output_type": "stream",
     "text": [
      "\r",
      "Upgrading database; v3 -> v4: : 0it [00:00, ?it/s]"
     ]
    },
    {
     "name": "stdout",
     "output_type": "stream",
     "text": [
      "\n",
      "\r",
      "  0%|          | 0/1 [00:00<?, ?it/s]"
     ]
    },
    {
     "name": "stdout",
     "output_type": "stream",
     "text": [
      "\r",
      "Upgrading database; v4 -> v5:   0%|          | 0/1 [00:00<?, ?it/s]"
     ]
    },
    {
     "name": "stdout",
     "output_type": "stream",
     "text": [
      "\r",
      "Upgrading database; v4 -> v5: 100%|██████████| 1/1 [00:00<00:00, 998.64it/s]"
     ]
    },
    {
     "name": "stdout",
     "output_type": "stream",
     "text": [
      "\n",
      "\r",
      "0it [00:00, ?it/s]"
     ]
    },
    {
     "name": "stdout",
     "output_type": "stream",
     "text": [
      "\r",
      "Upgrading database; v5 -> v6: : 0it [00:00, ?it/s]"
     ]
    },
    {
     "name": "stdout",
     "output_type": "stream",
     "text": [
      "\r",
      "Upgrading database; v5 -> v6: : 0it [00:00, ?it/s]"
     ]
    },
    {
     "name": "stdout",
     "output_type": "stream",
     "text": [
      "\n",
      "\r",
      "  0%|          | 0/1 [00:00<?, ?it/s]"
     ]
    },
    {
     "name": "stdout",
     "output_type": "stream",
     "text": [
      "\r",
      "Upgrading database; v6 -> v7:   0%|          | 0/1 [00:00<?, ?it/s]"
     ]
    },
    {
     "name": "stdout",
     "output_type": "stream",
     "text": [
      "\r",
      "Upgrading database; v6 -> v7: 100%|██████████| 1/1 [00:00<00:00, 223.96it/s]"
     ]
    },
    {
     "name": "stdout",
     "output_type": "stream",
     "text": [
      "\n",
      "\r",
      "  0%|          | 0/1 [00:00<?, ?it/s]"
     ]
    },
    {
     "name": "stdout",
     "output_type": "stream",
     "text": [
      "\r",
      "Upgrading database; v7 -> v8:   0%|          | 0/1 [00:00<?, ?it/s]"
     ]
    },
    {
     "name": "stdout",
     "output_type": "stream",
     "text": [
      "\r",
      "Upgrading database; v7 -> v8: 100%|██████████| 1/1 [00:00<00:00, 403.14it/s]"
     ]
    },
    {
     "name": "stdout",
     "output_type": "stream",
     "text": [
      "\n",
      "\r",
      "  0%|          | 0/1 [00:00<?, ?it/s]"
     ]
    },
    {
     "name": "stdout",
     "output_type": "stream",
     "text": [
      "\r",
      "Upgrading database; v8 -> v9:   0%|          | 0/1 [00:00<?, ?it/s]"
     ]
    },
    {
     "name": "stdout",
     "output_type": "stream",
     "text": [
      "\r",
      "Upgrading database; v8 -> v9: 100%|██████████| 1/1 [00:00<00:00, 1009.46it/s]"
     ]
    },
    {
     "name": "stdout",
     "output_type": "stream",
     "text": [
      "\n"
     ]
    }
   ],
   "source": [
    "initialise_database()\n",
    "exp = load_or_create_experiment(experiment_name='tutorial_exp', sample_name=\"no sample\")"
   ]
  },
  {
   "cell_type": "markdown",
   "metadata": {},
   "source": [
    "Here, we define a simple function to benchmark the time it takes to insert n points with either numeric or array data type.\n",
    "We will compare both the time used to call ``add_result`` and the time used for the full measurement."
   ]
  },
  {
   "cell_type": "code",
   "execution_count": 4,
   "metadata": {
    "execution": {
     "iopub.execute_input": "2021-02-17T06:22:01.647945Z",
     "iopub.status.busy": "2021-02-17T06:22:01.646650Z",
     "iopub.status.idle": "2021-02-17T06:22:01.648605Z",
     "shell.execute_reply": "2021-02-17T06:22:01.649081Z"
    }
   },
   "outputs": [],
   "source": [
    "def insert_data(paramtype, npoints, nreps=1):\n",
    "\n",
    "    meas = Measurement(exp=exp)\n",
    "\n",
    "    x1 = ManualParameter('x1')\n",
    "    x2 = ManualParameter('x2')\n",
    "    x3 = ManualParameter('x3')\n",
    "    y1 = ManualParameter('y1')\n",
    "    y2 = ManualParameter('y2')\n",
    "\n",
    "    meas.register_parameter(x1, paramtype=paramtype)\n",
    "    meas.register_parameter(x2, paramtype=paramtype)\n",
    "    meas.register_parameter(x3, paramtype=paramtype)\n",
    "    meas.register_parameter(y1, setpoints=[x1, x2, x3],\n",
    "                            paramtype=paramtype)\n",
    "    meas.register_parameter(y2, setpoints=[x1, x2, x3],\n",
    "                            paramtype=paramtype)\n",
    "    start = time.perf_counter()\n",
    "    with meas.run() as datasaver:\n",
    "        start_adding = time.perf_counter()\n",
    "        for i in range(nreps):\n",
    "            datasaver.add_result((x1, np.random.rand(npoints)),\n",
    "                                 (x2, np.random.rand(npoints)),\n",
    "                                 (x3, np.random.rand(npoints)),\n",
    "                                 (y1, np.random.rand(npoints)),\n",
    "                                 (y2, np.random.rand(npoints)))\n",
    "        stop_adding = time.perf_counter()\n",
    "        run_id = datasaver.run_id\n",
    "    stop = time.perf_counter()\n",
    "    tot_time = stop - start\n",
    "    add_time = stop_adding - start_adding\n",
    "    return tot_time, add_time, run_id"
   ]
  },
  {
   "cell_type": "markdown",
   "metadata": {},
   "source": [
    "## Comparison between numeric/array data and binary blob"
   ]
  },
  {
   "cell_type": "markdown",
   "metadata": {},
   "source": [
    "### Case1: Short experiment time"
   ]
  },
  {
   "cell_type": "code",
   "execution_count": 5,
   "metadata": {
    "execution": {
     "iopub.execute_input": "2021-02-17T06:22:01.656287Z",
     "iopub.status.busy": "2021-02-17T06:22:01.655632Z",
     "iopub.status.idle": "2021-02-17T06:22:02.477008Z",
     "shell.execute_reply": "2021-02-17T06:22:02.475964Z"
    }
   },
   "outputs": [
    {
     "name": "stdout",
     "output_type": "stream",
     "text": [
      "Starting experimental run with id: 1. \n",
      "Starting experimental run with id: 2. \n",
      "Starting experimental run with id: 3. \n",
      "Starting experimental run with id: 4. \n",
      "Starting experimental run with id: 5. \n"
     ]
    },
    {
     "name": "stdout",
     "output_type": "stream",
     "text": [
      "Starting experimental run with id: 6. \n"
     ]
    },
    {
     "name": "stdout",
     "output_type": "stream",
     "text": [
      "Starting experimental run with id: 7. \n"
     ]
    },
    {
     "name": "stdout",
     "output_type": "stream",
     "text": [
      "Starting experimental run with id: 8. \n",
      "Starting experimental run with id: 9. \n"
     ]
    },
    {
     "name": "stdout",
     "output_type": "stream",
     "text": [
      "Starting experimental run with id: 10. \n",
      "Starting experimental run with id: 11. \n"
     ]
    },
    {
     "name": "stdout",
     "output_type": "stream",
     "text": [
      "Starting experimental run with id: 12. \n",
      "Starting experimental run with id: 13. \n"
     ]
    },
    {
     "name": "stdout",
     "output_type": "stream",
     "text": [
      "Starting experimental run with id: 14. \n"
     ]
    }
   ],
   "source": [
    "sizes = [1,500,1000,2000,3000,4000,5000]\n",
    "t_numeric = []\n",
    "t_numeric_add = []\n",
    "t_array = []\n",
    "t_array_add = []\n",
    "for size in sizes:\n",
    "    tn, tna, run_id_n =  insert_data('numeric', size)\n",
    "    t_numeric.append(tn)\n",
    "    t_numeric_add.append(tna)\n",
    "\n",
    "    ta, taa, run_id_a =  insert_data('array', size)\n",
    "    t_array.append(ta)\n",
    "    t_array_add.append(taa)"
   ]
  },
  {
   "cell_type": "code",
   "execution_count": 6,
   "metadata": {
    "execution": {
     "iopub.execute_input": "2021-02-17T06:22:02.495568Z",
     "iopub.status.busy": "2021-02-17T06:22:02.494931Z",
     "iopub.status.idle": "2021-02-17T06:22:02.680399Z",
     "shell.execute_reply": "2021-02-17T06:22:02.680864Z"
    }
   },
   "outputs": [
    {
     "data": {
      "image/png": "[encoded data removed]",
      "text/plain": [
       "<Figure size 432x288 with 1 Axes>"
      ]
     },
     "metadata": {
      "needs_background": "light"
     },
     "output_type": "display_data"
    }
   ],
   "source": [
    "fig, ax = plt.subplots(1,1)\n",
    "ax.plot(sizes, t_numeric, 'o-', label='Inserting row-by-row')\n",
    "ax.plot(sizes, t_numeric_add, 'o-', label='Inserting row-by-row: add_result only')\n",
    "ax.plot(sizes, t_array, 'd-', label='Inserting as binary blob')\n",
    "ax.plot(sizes, t_array_add, 'd-', label='Inserting as binary blob: add_result only')\n",
    "ax.legend()\n",
    "ax.set_xlabel('Array length')\n",
    "ax.set_ylabel('Time (s)')\n",
    "fig.tight_layout()"
   ]
  },
  {
   "cell_type": "markdown",
   "metadata": {},
   "source": [
    "As shown in the latter figure, the time to setup and and close the experiment is approximately 0.4 sec. In case of small array sizes, the difference between inserting values of data as arrays and inserting them row-by-row is relatively unimportant. At larger array sizes, i.e. above 10000 points, the cost of writing data as individual datapoints starts to become important.\n"
   ]
  },
  {
   "cell_type": "markdown",
   "metadata": {},
   "source": [
    "### Case2: Long experiment time "
   ]
  },
  {
   "cell_type": "code",
   "execution_count": 7,
   "metadata": {
    "execution": {
     "iopub.execute_input": "2021-02-17T06:22:02.687902Z",
     "iopub.status.busy": "2021-02-17T06:22:02.686781Z",
     "iopub.status.idle": "2021-02-17T06:23:00.116093Z",
     "shell.execute_reply": "2021-02-17T06:23:00.116575Z"
    }
   },
   "outputs": [
    {
     "name": "stdout",
     "output_type": "stream",
     "text": [
      "Starting experimental run with id: 15. \n",
      "Starting experimental run with id: 16. \n",
      "Starting experimental run with id: 17. \n"
     ]
    },
    {
     "name": "stdout",
     "output_type": "stream",
     "text": [
      "Starting experimental run with id: 18. \n",
      "Starting experimental run with id: 19. \n"
     ]
    },
    {
     "name": "stdout",
     "output_type": "stream",
     "text": [
      "Starting experimental run with id: 20. \n"
     ]
    },
    {
     "name": "stdout",
     "output_type": "stream",
     "text": [
      "Starting experimental run with id: 21. \n"
     ]
    },
    {
     "name": "stdout",
     "output_type": "stream",
     "text": [
      "Starting experimental run with id: 22. \n"
     ]
    },
    {
     "name": "stdout",
     "output_type": "stream",
     "text": [
      "Starting experimental run with id: 23. \n"
     ]
    },
    {
     "name": "stdout",
     "output_type": "stream",
     "text": [
      "Starting experimental run with id: 24. \n"
     ]
    },
    {
     "name": "stdout",
     "output_type": "stream",
     "text": [
      "Starting experimental run with id: 25. \n"
     ]
    },
    {
     "name": "stdout",
     "output_type": "stream",
     "text": [
      "Starting experimental run with id: 26. \n"
     ]
    },
    {
     "name": "stdout",
     "output_type": "stream",
     "text": [
      "Starting experimental run with id: 27. \n"
     ]
    },
    {
     "name": "stdout",
     "output_type": "stream",
     "text": [
      "Starting experimental run with id: 28. \n"
     ]
    }
   ],
   "source": [
    "sizes = [1,500,1000,2000,3000,4000,5000]\n",
    "nreps = 100\n",
    "t_numeric = []\n",
    "t_numeric_add = []\n",
    "t_numeric_run_ids = []\n",
    "t_array = []\n",
    "t_array_add = []\n",
    "t_array_run_ids = []\n",
    "for size in sizes:\n",
    "    tn, tna, run_id_n =  insert_data('numeric', size, nreps=nreps)\n",
    "    t_numeric.append(tn)\n",
    "    t_numeric_add.append(tna)\n",
    "    t_numeric_run_ids.append(run_id_n)\n",
    "\n",
    "    ta, taa, run_id_a =  insert_data('array', size, nreps=nreps)\n",
    "    t_array.append(ta)\n",
    "    t_array_add.append(taa)\n",
    "    t_array_run_ids.append(run_id_a)"
   ]
  },
  {
   "cell_type": "code",
   "execution_count": 8,
   "metadata": {
    "execution": {
     "iopub.execute_input": "2021-02-17T06:23:00.155981Z",
     "iopub.status.busy": "2021-02-17T06:23:00.122216Z",
     "iopub.status.idle": "2021-02-17T06:23:00.313294Z",
     "shell.execute_reply": "2021-02-17T06:23:00.313727Z"
    },
    "scrolled": true
   },
   "outputs": [
    {
     "data": {
      "image/png": "[encoded data removed]",
      "text/plain": [
       "<Figure size 432x288 with 1 Axes>"
      ]
     },
     "metadata": {
      "needs_background": "light"
     },
     "output_type": "display_data"
    }
   ],
   "source": [
    "fig, ax = plt.subplots(1,1)\n",
    "ax.plot(sizes, t_numeric, 'o-', label='Inserting row-by-row')\n",
    "ax.plot(sizes, t_numeric_add, 'o-', label='Inserting row-by-row: add_result only')\n",
    "ax.plot(sizes, t_array, 'd-', label='Inserting as binary blob')\n",
    "ax.plot(sizes, t_array_add, 'd-', label='Inserting as binary blob: add_result only')\n",
    "ax.legend()\n",
    "ax.set_xlabel('Array length')\n",
    "ax.set_ylabel('Time (s)')\n",
    "fig.tight_layout()"
   ]
  },
  {
   "cell_type": "markdown",
   "metadata": {},
   "source": [
    "However, as we increase the length of the experiment, as seen here by repeating the insertion 100 times, we see a big difference between inserting values of the data row-by-row and inserting it as a binary blob."
   ]
  },
  {
   "cell_type": "markdown",
   "metadata": {},
   "source": [
    "## Loading the data "
   ]
  },
  {
   "cell_type": "code",
   "execution_count": 9,
   "metadata": {
    "execution": {
     "iopub.execute_input": "2021-02-17T06:23:00.316367Z",
     "iopub.status.busy": "2021-02-17T06:23:00.315846Z",
     "iopub.status.idle": "2021-02-17T06:23:00.319265Z",
     "shell.execute_reply": "2021-02-17T06:23:00.319836Z"
    }
   },
   "outputs": [],
   "source": [
    "from qcodes.dataset.data_set import load_by_id\n",
    "from qcodes.dataset.data_export import get_data_by_id"
   ]
  },
  {
   "cell_type": "markdown",
   "metadata": {},
   "source": [
    "As usual you can load the data by using the ``load_by_id`` function but you will notice that the different storage methods\n",
    "are reflected in shape of the data as it is retrieved. "
   ]
  },
  {
   "cell_type": "code",
   "execution_count": 10,
   "metadata": {
    "execution": {
     "iopub.execute_input": "2021-02-17T06:23:00.323455Z",
     "iopub.status.busy": "2021-02-17T06:23:00.322898Z",
     "iopub.status.idle": "2021-02-17T06:23:00.325194Z",
     "shell.execute_reply": "2021-02-17T06:23:00.324693Z"
    }
   },
   "outputs": [],
   "source": [
    "run_id_n = t_numeric_run_ids[0]\n",
    "run_id_a = t_array_run_ids[0]"
   ]
  },
  {
   "cell_type": "code",
   "execution_count": 11,
   "metadata": {
    "execution": {
     "iopub.execute_input": "2021-02-17T06:23:00.328534Z",
     "iopub.status.busy": "2021-02-17T06:23:00.327993Z",
     "iopub.status.idle": "2021-02-17T06:23:00.336910Z",
     "shell.execute_reply": "2021-02-17T06:23:00.336443Z"
    },
    "scrolled": true
   },
   "outputs": [
    {
     "data": {
      "text/plain": [
       "{'x1': {'x1': array([0.27717151, 0.27717151, 0.41682712, 0.41682712, 0.48066132,\n",
       "         0.48066132, 0.3895084 , 0.3895084 , 0.49242739, 0.49242739,\n",
       "         0.59524611, 0.59524611, 0.83077958, 0.83077958, 0.2376056 ,\n",
       "         0.2376056 , 0.01192293, 0.01192293, 0.98570451, 0.98570451,\n",
       "         0.61017825, 0.61017825, 0.64599906, 0.64599906, 0.89920488,\n",
       "         0.89920488, 0.91307508, 0.91307508, 0.19043321, 0.19043321,\n",
       "         0.23170166, 0.23170166, 0.05390988, 0.05390988, 0.00913984,\n",
       "         0.00913984, 0.09143299, 0.09143299, 0.10795169, 0.10795169,\n",
       "         0.83818156, 0.83818156, 0.49106867, 0.49106867, 0.88148792,\n",
       "         0.88148792, 0.34950346, 0.34950346, 0.48688675, 0.48688675,\n",
       "         0.11343722, 0.11343722, 0.62620115, 0.62620115, 0.1303623 ,\n",
       "         0.1303623 , 0.25190818, 0.25190818, 0.48667675, 0.48667675,\n",
       "         0.88145172, 0.88145172, 0.75993021, 0.75993021, 0.63563522,\n",
       "         0.63563522, 0.13475886, 0.13475886, 0.05011173, 0.05011173,\n",
       "         0.92738591, 0.92738591, 0.66967793, 0.66967793, 0.46883083,\n",
       "         0.46883083, 0.38445463, 0.38445463, 0.82317035, 0.82317035,\n",
       "         0.22164765, 0.22164765, 0.83589202, 0.83589202, 0.42738504,\n",
       "         0.42738504, 0.55343709, 0.55343709, 0.18318984, 0.18318984,\n",
       "         0.90317272, 0.90317272, 0.78739951, 0.78739951, 0.86240156,\n",
       "         0.86240156, 0.25265416, 0.25265416, 0.42104838, 0.42104838,\n",
       "         0.90015252, 0.90015252, 0.79824565, 0.79824565, 0.82274257,\n",
       "         0.82274257, 0.1043966 , 0.1043966 , 0.74809519, 0.74809519,\n",
       "         0.20177918, 0.20177918, 0.83420954, 0.83420954, 0.06199679,\n",
       "         0.06199679, 0.83733369, 0.83733369, 0.20836953, 0.20836953,\n",
       "         0.41236072, 0.41236072, 0.50137827, 0.50137827, 0.85778457,\n",
       "         0.85778457, 0.24907014, 0.24907014, 0.62185894, 0.62185894,\n",
       "         0.76180348, 0.76180348, 0.48103327, 0.48103327, 0.63015886,\n",
       "         0.63015886, 0.8697322 , 0.8697322 , 0.60745352, 0.60745352,\n",
       "         0.97607308, 0.97607308, 0.47712785, 0.47712785, 0.58349399,\n",
       "         0.58349399, 0.72936368, 0.72936368, 0.9876771 , 0.9876771 ,\n",
       "         0.15791508, 0.15791508, 0.31965834, 0.31965834, 0.12437588,\n",
       "         0.12437588, 0.50412988, 0.50412988, 0.05900212, 0.05900212,\n",
       "         0.48259814, 0.48259814, 0.27720616, 0.27720616, 0.35488812,\n",
       "         0.35488812, 0.97618992, 0.97618992, 0.06956189, 0.06956189,\n",
       "         0.09899849, 0.09899849, 0.7403998 , 0.7403998 , 0.9267708 ,\n",
       "         0.9267708 , 0.41879905, 0.41879905, 0.0728962 , 0.0728962 ,\n",
       "         0.81460633, 0.81460633, 0.53052182, 0.53052182, 0.02946043,\n",
       "         0.02946043, 0.7572398 , 0.7572398 , 0.09080095, 0.09080095,\n",
       "         0.66814197, 0.66814197, 0.4068353 , 0.4068353 , 0.87853522,\n",
       "         0.87853522, 0.88912581, 0.88912581, 0.74943984, 0.74943984])}}"
      ]
     },
     "execution_count": 1,
     "metadata": {},
     "output_type": "execute_result"
    }
   ],
   "source": [
    "ds = load_by_id(run_id_n)\n",
    "ds.get_parameter_data('x1')"
   ]
  },
  {
   "cell_type": "markdown",
   "metadata": {},
   "source": [
    "And a dataset stored as binary arrays"
   ]
  },
  {
   "cell_type": "code",
   "execution_count": 12,
   "metadata": {
    "execution": {
     "iopub.execute_input": "2021-02-17T06:23:00.340162Z",
     "iopub.status.busy": "2021-02-17T06:23:00.339640Z",
     "iopub.status.idle": "2021-02-17T06:23:00.394113Z",
     "shell.execute_reply": "2021-02-17T06:23:00.394952Z"
    },
    "scrolled": true
   },
   "outputs": [
    {
     "data": {
      "text/plain": [
       "{'x1': {'x1': array([[0.40350337],\n",
       "         [0.40350337],\n",
       "         [0.68008942],\n",
       "         [0.68008942],\n",
       "         [0.13441898],\n",
       "         [0.13441898],\n",
       "         [0.51506852],\n",
       "         [0.51506852],\n",
       "         [0.01996095],\n",
       "         [0.01996095],\n",
       "         [0.98323589],\n",
       "         [0.98323589],\n",
       "         [0.38412798],\n",
       "         [0.38412798],\n",
       "         [0.80956199],\n",
       "         [0.80956199],\n",
       "         [0.95266375],\n",
       "         [0.95266375],\n",
       "         [0.05380907],\n",
       "         [0.05380907],\n",
       "         [0.52108185],\n",
       "         [0.52108185],\n",
       "         [0.47759613],\n",
       "         [0.47759613],\n",
       "         [0.35067464],\n",
       "         [0.35067464],\n",
       "         [0.36802017],\n",
       "         [0.36802017],\n",
       "         [0.76917868],\n",
       "         [0.76917868],\n",
       "         [0.02244645],\n",
       "         [0.02244645],\n",
       "         [0.27778043],\n",
       "         [0.27778043],\n",
       "         [0.09228773],\n",
       "         [0.09228773],\n",
       "         [0.23206003],\n",
       "         [0.23206003],\n",
       "         [0.05430509],\n",
       "         [0.05430509],\n",
       "         [0.64044057],\n",
       "         [0.64044057],\n",
       "         [0.95497442],\n",
       "         [0.95497442],\n",
       "         [0.63098925],\n",
       "         [0.63098925],\n",
       "         [0.02323193],\n",
       "         [0.02323193],\n",
       "         [0.4218441 ],\n",
       "         [0.4218441 ],\n",
       "         [0.88285181],\n",
       "         [0.88285181],\n",
       "         [0.41837962],\n",
       "         [0.41837962],\n",
       "         [0.9944923 ],\n",
       "         [0.9944923 ],\n",
       "         [0.90093147],\n",
       "         [0.90093147],\n",
       "         [0.60183186],\n",
       "         [0.60183186],\n",
       "         [0.51721636],\n",
       "         [0.51721636],\n",
       "         [0.98796022],\n",
       "         [0.98796022],\n",
       "         [0.94312209],\n",
       "         [0.94312209],\n",
       "         [0.78381573],\n",
       "         [0.78381573],\n",
       "         [0.81167681],\n",
       "         [0.81167681],\n",
       "         [0.49924453],\n",
       "         [0.49924453],\n",
       "         [0.14733538],\n",
       "         [0.14733538],\n",
       "         [0.70449492],\n",
       "         [0.70449492],\n",
       "         [0.72776418],\n",
       "         [0.72776418],\n",
       "         [0.58264519],\n",
       "         [0.58264519],\n",
       "         [0.0404166 ],\n",
       "         [0.0404166 ],\n",
       "         [0.15045106],\n",
       "         [0.15045106],\n",
       "         [0.98488795],\n",
       "         [0.98488795],\n",
       "         [0.35765974],\n",
       "         [0.35765974],\n",
       "         [0.38990228],\n",
       "         [0.38990228],\n",
       "         [0.68685363],\n",
       "         [0.68685363],\n",
       "         [0.43029015],\n",
       "         [0.43029015],\n",
       "         [0.87320381],\n",
       "         [0.87320381],\n",
       "         [0.88637406],\n",
       "         [0.88637406],\n",
       "         [0.93922241],\n",
       "         [0.93922241],\n",
       "         [0.42016071],\n",
       "         [0.42016071],\n",
       "         [0.93960843],\n",
       "         [0.93960843],\n",
       "         [0.46794364],\n",
       "         [0.46794364],\n",
       "         [0.3645592 ],\n",
       "         [0.3645592 ],\n",
       "         [0.56377911],\n",
       "         [0.56377911],\n",
       "         [0.56817839],\n",
       "         [0.56817839],\n",
       "         [0.15245977],\n",
       "         [0.15245977],\n",
       "         [0.85823506],\n",
       "         [0.85823506],\n",
       "         [0.88125236],\n",
       "         [0.88125236],\n",
       "         [0.77513923],\n",
       "         [0.77513923],\n",
       "         [0.64350938],\n",
       "         [0.64350938],\n",
       "         [0.51302101],\n",
       "         [0.51302101],\n",
       "         [0.33655414],\n",
       "         [0.33655414],\n",
       "         [0.26326836],\n",
       "         [0.26326836],\n",
       "         [0.75944868],\n",
       "         [0.75944868],\n",
       "         [0.69582888],\n",
       "         [0.69582888],\n",
       "         [0.10874478],\n",
       "         [0.10874478],\n",
       "         [0.75691335],\n",
       "         [0.75691335],\n",
       "         [0.74578351],\n",
       "         [0.74578351],\n",
       "         [0.13186069],\n",
       "         [0.13186069],\n",
       "         [0.98480392],\n",
       "         [0.98480392],\n",
       "         [0.97288884],\n",
       "         [0.97288884],\n",
       "         [0.75670435],\n",
       "         [0.75670435],\n",
       "         [0.95830192],\n",
       "         [0.95830192],\n",
       "         [0.80909446],\n",
       "         [0.80909446],\n",
       "         [0.23701163],\n",
       "         [0.23701163],\n",
       "         [0.24593249],\n",
       "         [0.24593249],\n",
       "         [0.10271207],\n",
       "         [0.10271207],\n",
       "         [0.93756449],\n",
       "         [0.93756449],\n",
       "         [0.80929546],\n",
       "         [0.80929546],\n",
       "         [0.45332487],\n",
       "         [0.45332487],\n",
       "         [0.07346433],\n",
       "         [0.07346433],\n",
       "         [0.24664757],\n",
       "         [0.24664757],\n",
       "         [0.39033649],\n",
       "         [0.39033649],\n",
       "         [0.31048168],\n",
       "         [0.31048168],\n",
       "         [0.10779095],\n",
       "         [0.10779095],\n",
       "         [0.94344633],\n",
       "         [0.94344633],\n",
       "         [0.5688435 ],\n",
       "         [0.5688435 ],\n",
       "         [0.47519167],\n",
       "         [0.47519167],\n",
       "         [0.80923482],\n",
       "         [0.80923482],\n",
       "         [0.28532813],\n",
       "         [0.28532813],\n",
       "         [0.00902886],\n",
       "         [0.00902886],\n",
       "         [0.49497169],\n",
       "         [0.49497169],\n",
       "         [0.22668869],\n",
       "         [0.22668869],\n",
       "         [0.10895675],\n",
       "         [0.10895675],\n",
       "         [0.08992969],\n",
       "         [0.08992969],\n",
       "         [0.70372349],\n",
       "         [0.70372349],\n",
       "         [0.66228782],\n",
       "         [0.66228782],\n",
       "         [0.03293677],\n",
       "         [0.03293677],\n",
       "         [0.46455949],\n",
       "         [0.46455949]])}}"
      ]
     },
     "execution_count": 1,
     "metadata": {},
     "output_type": "execute_result"
    }
   ],
   "source": [
    "ds = load_by_id(run_id_a)\n",
    "ds.get_parameter_data('x1')"
   ]
  },
  {
   "cell_type": "code",
   "execution_count": null,
   "metadata": {},
   "outputs": [],
   "source": []
  }
 ],
 "metadata": {
  "kernelspec": {
   "display_name": "Python 3",
   "language": "python",
   "name": "python3"
  },
  "language_info": {
   "codemirror_mode": {
    "name": "ipython",
    "version": 3
   },
   "file_extension": ".py",
   "mimetype": "text/x-python",
   "name": "python",
   "nbconvert_exporter": "python",
   "pygments_lexer": "ipython3",
   "version": "3.7.9"
  },
  "nbsphinx": {
   "timeout": 600
  },
  "toc": {
   "base_numbering": 1,
   "nav_menu": {},
   "number_sections": true,
   "sideBar": true,
   "skip_h1_title": false,
   "title_cell": "Table of Contents",
   "title_sidebar": "Contents",
   "toc_cell": false,
   "toc_position": {},
   "toc_section_display": true,
   "toc_window_display": false
  },
  "varInspector": {
   "cols": {
    "lenName": 16,
    "lenType": 16,
    "lenVar": 40
   },
   "kernels_config": {
    "python": {
     "delete_cmd_postfix": "",
     "delete_cmd_prefix": "del ",
     "library": "var_list.py",
     "varRefreshCmd": "print(var_dic_list())"
    },
    "r": {
     "delete_cmd_postfix": ") ",
     "delete_cmd_prefix": "rm(",
     "library": "var_list.r",
     "varRefreshCmd": "cat(var_dic_list()) "
    }
   },
   "types_to_exclude": [
    "module",
    "function",
    "builtin_function_or_method",
    "instance",
    "_Feature"
   ],
   "window_display": false
  }
 },
 "nbformat": 4,
 "nbformat_minor": 2
}
