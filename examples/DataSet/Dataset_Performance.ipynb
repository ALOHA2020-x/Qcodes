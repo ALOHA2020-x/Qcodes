{
 "cells": [
  {
   "cell_type": "markdown",
   "metadata": {},
   "source": [
    "# DataSet Performance\n",
    "\n",
    "This notebook shows the trade-off between inserting data into a database row-by-row and as binary blobs. Inserting the data row-by-row means that we have direct access to all the data and may perform queries directly on the values of the data. On the other hand, as we shall see, this is much slower than inserting the data directly as binary blobs."
   ]
  },
  {
   "cell_type": "markdown",
   "metadata": {},
   "source": [
    "First, we choose a new location for the database to ensure that we don't add a bunch of benchmarking data to the default one."
   ]
  },
  {
   "cell_type": "code",
   "execution_count": 1,
   "metadata": {},
   "outputs": [
    {
     "name": "stdout",
     "output_type": "stream",
     "text": [
      "Logging hadn't been started.\n",
      "Activating auto-logging. Current session state plus future input saved.\n",
      "Filename       : /home/vsts/.qcodes/logs/command_history.log\n",
      "Mode           : append\n",
      "Output logging : True\n",
      "Raw input log  : False\n",
      "Timestamping   : True\n",
      "State          : active\n"
     ]
    },
    {
     "name": "stdout",
     "output_type": "stream",
     "text": [
      "Qcodes Logfile : /home/vsts/.qcodes/logs/200429-18584-qcodes.log\n"
     ]
    }
   ],
   "source": [
    "import os\n",
    "cwd = os.getcwd()\n",
    "import qcodes as qc\n",
    "qc.config[\"core\"][\"db_location\"] = os.path.join(cwd, 'testing.db')\n"
   ]
  },
  {
   "cell_type": "code",
   "execution_count": 2,
   "metadata": {},
   "outputs": [],
   "source": [
    "%matplotlib inline\n",
    "import time\n",
    "import matplotlib.pyplot as plt\n",
    "import numpy as np\n",
    "\n",
    "import qcodes as qc\n",
    "from qcodes.instrument.parameter import ManualParameter\n",
    "from qcodes.dataset.experiment_container import (Experiment,\n",
    "                                                 load_last_experiment,\n",
    "                                                 new_experiment)\n",
    "from qcodes.dataset.sqlite.database import initialise_database\n",
    "from qcodes import load_or_create_experiment\n",
    "from qcodes.dataset.measurements import Measurement"
   ]
  },
  {
   "cell_type": "code",
   "execution_count": 3,
   "metadata": {},
   "outputs": [
    {
     "name": "stdout",
     "output_type": "stream",
     "text": [
      "\r",
      "0it [00:00, ?it/s]"
     ]
    },
    {
     "name": "stdout",
     "output_type": "stream",
     "text": [
      "\r",
      "Upgrading database; v0 -> v1: : 0it [00:00, ?it/s]"
     ]
    },
    {
     "name": "stdout",
     "output_type": "stream",
     "text": [
      "\r",
      "Upgrading database; v0 -> v1: : 0it [00:00, ?it/s]"
     ]
    },
    {
     "name": "stdout",
     "output_type": "stream",
     "text": [
      "\n",
      "\r",
      "  0%|          | 0/1 [00:00<?, ?it/s]"
     ]
    },
    {
     "name": "stdout",
     "output_type": "stream",
     "text": [
      "\r",
      "Upgrading database; v1 -> v2:   0%|          | 0/1 [00:00<?, ?it/s]"
     ]
    },
    {
     "name": "stdout",
     "output_type": "stream",
     "text": [
      "\r",
      "Upgrading database; v1 -> v2: 100%|██████████| 1/1 [00:00<00:00, 810.81it/s]"
     ]
    },
    {
     "name": "stdout",
     "output_type": "stream",
     "text": [
      "\n",
      "\r",
      "0it [00:00, ?it/s]"
     ]
    },
    {
     "name": "stdout",
     "output_type": "stream",
     "text": [
      "\r",
      "Upgrading database; v2 -> v3: : 0it [00:00, ?it/s]"
     ]
    },
    {
     "name": "stdout",
     "output_type": "stream",
     "text": [
      "\r",
      "Upgrading database; v2 -> v3: : 0it [00:00, ?it/s]"
     ]
    },
    {
     "name": "stdout",
     "output_type": "stream",
     "text": [
      "\n",
      "\r",
      "0it [00:00, ?it/s]"
     ]
    },
    {
     "name": "stdout",
     "output_type": "stream",
     "text": [
      "\r",
      "Upgrading database; v3 -> v4: : 0it [00:00, ?it/s]"
     ]
    },
    {
     "name": "stdout",
     "output_type": "stream",
     "text": [
      "\r",
      "Upgrading database; v3 -> v4: : 0it [00:00, ?it/s]"
     ]
    },
    {
     "name": "stdout",
     "output_type": "stream",
     "text": [
      "\n",
      "\r",
      "  0%|          | 0/1 [00:00<?, ?it/s]"
     ]
    },
    {
     "name": "stdout",
     "output_type": "stream",
     "text": [
      "\r",
      "Upgrading database; v4 -> v5:   0%|          | 0/1 [00:00<?, ?it/s]"
     ]
    },
    {
     "name": "stdout",
     "output_type": "stream",
     "text": [
      "\r",
      "Upgrading database; v4 -> v5: 100%|██████████| 1/1 [00:00<00:00, 933.10it/s]"
     ]
    },
    {
     "name": "stdout",
     "output_type": "stream",
     "text": [
      "\n",
      "\r",
      "0it [00:00, ?it/s]"
     ]
    },
    {
     "name": "stdout",
     "output_type": "stream",
     "text": [
      "\r",
      "Upgrading database; v5 -> v6: : 0it [00:00, ?it/s]"
     ]
    },
    {
     "name": "stdout",
     "output_type": "stream",
     "text": [
      "\r",
      "Upgrading database; v5 -> v6: : 0it [00:00, ?it/s]"
     ]
    },
    {
     "name": "stdout",
     "output_type": "stream",
     "text": [
      "\n",
      "\r",
      "  0%|          | 0/1 [00:00<?, ?it/s]"
     ]
    },
    {
     "name": "stdout",
     "output_type": "stream",
     "text": [
      "\r",
      "Upgrading database; v6 -> v7:   0%|          | 0/1 [00:00<?, ?it/s]"
     ]
    },
    {
     "name": "stdout",
     "output_type": "stream",
     "text": [
      "\r",
      "Upgrading database; v6 -> v7: 100%|██████████| 1/1 [00:00<00:00, 252.64it/s]"
     ]
    },
    {
     "name": "stdout",
     "output_type": "stream",
     "text": [
      "\n",
      "\r",
      "  0%|          | 0/1 [00:00<?, ?it/s]"
     ]
    },
    {
     "name": "stdout",
     "output_type": "stream",
     "text": [
      "\r",
      "Upgrading database; v7 -> v8:   0%|          | 0/1 [00:00<?, ?it/s]"
     ]
    },
    {
     "name": "stdout",
     "output_type": "stream",
     "text": [
      "\r",
      "Upgrading database; v7 -> v8: 100%|██████████| 1/1 [00:00<00:00, 982.04it/s]"
     ]
    },
    {
     "name": "stdout",
     "output_type": "stream",
     "text": [
      "\n",
      "\r",
      "  0%|          | 0/1 [00:00<?, ?it/s]"
     ]
    },
    {
     "name": "stdout",
     "output_type": "stream",
     "text": [
      "\r",
      "Upgrading database; v8 -> v9:   0%|          | 0/1 [00:00<?, ?it/s]"
     ]
    },
    {
     "name": "stdout",
     "output_type": "stream",
     "text": [
      "\r",
      "Upgrading database; v8 -> v9: 100%|██████████| 1/1 [00:00<00:00, 973.38it/s]"
     ]
    },
    {
     "name": "stdout",
     "output_type": "stream",
     "text": [
      "\n"
     ]
    }
   ],
   "source": [
    "initialise_database()\n",
    "exp = load_or_create_experiment(experiment_name='tutorial_exp', sample_name=\"no sample\")"
   ]
  },
  {
   "cell_type": "markdown",
   "metadata": {},
   "source": [
    "Here, we define a simple function to benchmark the time it takes to insert n points with either numeric or array data type.\n",
    "We will compare both the time used to call ``add_result`` and the time used for the full measurement."
   ]
  },
  {
   "cell_type": "code",
   "execution_count": 4,
   "metadata": {},
   "outputs": [],
   "source": [
    "def insert_data(paramtype, npoints, nreps=1):\n",
    "\n",
    "    meas = Measurement(exp=exp)\n",
    "\n",
    "    x1 = ManualParameter('x1')\n",
    "    x2 = ManualParameter('x2')\n",
    "    x3 = ManualParameter('x3')\n",
    "    y1 = ManualParameter('y1')\n",
    "    y2 = ManualParameter('y2')\n",
    "\n",
    "    meas.register_parameter(x1, paramtype=paramtype)\n",
    "    meas.register_parameter(x2, paramtype=paramtype)\n",
    "    meas.register_parameter(x3, paramtype=paramtype)\n",
    "    meas.register_parameter(y1, setpoints=[x1, x2, x3],\n",
    "                            paramtype=paramtype)\n",
    "    meas.register_parameter(y2, setpoints=[x1, x2, x3],\n",
    "                            paramtype=paramtype)\n",
    "    start = time.perf_counter()\n",
    "    with meas.run() as datasaver:\n",
    "        start_adding = time.perf_counter()\n",
    "        for i in range(nreps):\n",
    "            datasaver.add_result((x1, np.random.rand(npoints)),\n",
    "                                 (x2, np.random.rand(npoints)),\n",
    "                                 (x3, np.random.rand(npoints)),\n",
    "                                 (y1, np.random.rand(npoints)),\n",
    "                                 (y2, np.random.rand(npoints)))\n",
    "        stop_adding = time.perf_counter()\n",
    "        run_id = datasaver.run_id\n",
    "    stop = time.perf_counter()\n",
    "    tot_time = stop - start\n",
    "    add_time = stop_adding - start_adding\n",
    "    return tot_time, add_time, run_id"
   ]
  },
  {
   "cell_type": "markdown",
   "metadata": {},
   "source": [
    "## Comparison between numeric/array data and binary blob"
   ]
  },
  {
   "cell_type": "markdown",
   "metadata": {},
   "source": [
    "### Case1: Short experiment time"
   ]
  },
  {
   "cell_type": "code",
   "execution_count": 5,
   "metadata": {},
   "outputs": [
    {
     "name": "stdout",
     "output_type": "stream",
     "text": [
      "Starting experimental run with id: 1. \n",
      "Starting experimental run with id: 2. \n",
      "Starting experimental run with id: 3. \n"
     ]
    },
    {
     "name": "stdout",
     "output_type": "stream",
     "text": [
      "Starting experimental run with id: 4. \n"
     ]
    },
    {
     "name": "stdout",
     "output_type": "stream",
     "text": [
      "Starting experimental run with id: 5. \n"
     ]
    },
    {
     "name": "stdout",
     "output_type": "stream",
     "text": [
      "Starting experimental run with id: 6. \n"
     ]
    },
    {
     "name": "stdout",
     "output_type": "stream",
     "text": [
      "Starting experimental run with id: 7. \n"
     ]
    },
    {
     "name": "stdout",
     "output_type": "stream",
     "text": [
      "Starting experimental run with id: 8. \n",
      "Starting experimental run with id: 9. \n"
     ]
    },
    {
     "name": "stdout",
     "output_type": "stream",
     "text": [
      "Starting experimental run with id: 10. \n",
      "Starting experimental run with id: 11. \n"
     ]
    },
    {
     "name": "stdout",
     "output_type": "stream",
     "text": [
      "Starting experimental run with id: 12. \n"
     ]
    },
    {
     "name": "stdout",
     "output_type": "stream",
     "text": [
      "Starting experimental run with id: 13. \n"
     ]
    },
    {
     "name": "stdout",
     "output_type": "stream",
     "text": [
      "Starting experimental run with id: 14. \n"
     ]
    }
   ],
   "source": [
    "sizes = [1,500,1000,2000,3000,4000,5000]\n",
    "t_numeric = []\n",
    "t_numeric_add = []\n",
    "t_array = []\n",
    "t_array_add = []\n",
    "for size in sizes:\n",
    "    tn, tna, run_id_n =  insert_data('numeric', size)\n",
    "    t_numeric.append(tn)\n",
    "    t_numeric_add.append(tna)\n",
    "\n",
    "    ta, taa, run_id_a =  insert_data('array', size)\n",
    "    t_array.append(ta)\n",
    "    t_array_add.append(taa)"
   ]
  },
  {
   "cell_type": "code",
   "execution_count": 6,
   "metadata": {},
   "outputs": [
    {
     "data": {
      "image/png": "[encoded data removed]",
      "text/plain": [
       "<Figure size 432x288 with 1 Axes>"
      ]
     },
     "metadata": {
      "needs_background": "light"
     },
     "output_type": "display_data"
    }
   ],
   "source": [
    "fig, ax = plt.subplots(1,1)\n",
    "ax.plot(sizes, t_numeric, 'o-', label='Inserting row-by-row')\n",
    "ax.plot(sizes, t_numeric_add, 'o-', label='Inserting row-by-row: add_result only')\n",
    "ax.plot(sizes, t_array, 'd-', label='Inserting as binary blob')\n",
    "ax.plot(sizes, t_array_add, 'd-', label='Inserting as binary blob: add_result only')\n",
    "ax.legend()\n",
    "ax.set_xlabel('Array length')\n",
    "ax.set_ylabel('Time (s)')\n",
    "fig.tight_layout()"
   ]
  },
  {
   "cell_type": "markdown",
   "metadata": {},
   "source": [
    "As shown in the latter figure, the time to setup and and close the experiment is approximately 0.4 sec. In case of small array sizes, the difference between inserting values of data as arrays and inserting them row-by-row is relatively unimportant. At larger array sizes, i.e. above 10000 points, the cost of writing data as individual datapoints starts to become important.\n"
   ]
  },
  {
   "cell_type": "markdown",
   "metadata": {},
   "source": [
    "### Case2: Long experiment time "
   ]
  },
  {
   "cell_type": "code",
   "execution_count": 7,
   "metadata": {},
   "outputs": [
    {
     "name": "stdout",
     "output_type": "stream",
     "text": [
      "Starting experimental run with id: 15. \n",
      "Starting experimental run with id: 16. \n",
      "Starting experimental run with id: 17. \n"
     ]
    },
    {
     "name": "stdout",
     "output_type": "stream",
     "text": [
      "Starting experimental run with id: 18. \n",
      "Starting experimental run with id: 19. \n"
     ]
    },
    {
     "name": "stdout",
     "output_type": "stream",
     "text": [
      "Starting experimental run with id: 20. \n"
     ]
    },
    {
     "name": "stdout",
     "output_type": "stream",
     "text": [
      "Starting experimental run with id: 21. \n"
     ]
    },
    {
     "name": "stdout",
     "output_type": "stream",
     "text": [
      "Starting experimental run with id: 22. \n"
     ]
    },
    {
     "name": "stdout",
     "output_type": "stream",
     "text": [
      "Starting experimental run with id: 23. \n"
     ]
    },
    {
     "name": "stdout",
     "output_type": "stream",
     "text": [
      "Starting experimental run with id: 24. \n"
     ]
    },
    {
     "name": "stdout",
     "output_type": "stream",
     "text": [
      "Starting experimental run with id: 25. \n"
     ]
    },
    {
     "name": "stdout",
     "output_type": "stream",
     "text": [
      "Starting experimental run with id: 26. \n"
     ]
    },
    {
     "name": "stdout",
     "output_type": "stream",
     "text": [
      "Starting experimental run with id: 27. \n"
     ]
    },
    {
     "name": "stdout",
     "output_type": "stream",
     "text": [
      "Starting experimental run with id: 28. \n"
     ]
    }
   ],
   "source": [
    "sizes = [1,500,1000,2000,3000,4000,5000]\n",
    "nreps = 100\n",
    "t_numeric = []\n",
    "t_numeric_add = []\n",
    "t_numeric_run_ids = []\n",
    "t_array = []\n",
    "t_array_add = []\n",
    "t_array_run_ids = []\n",
    "for size in sizes:\n",
    "    tn, tna, run_id_n =  insert_data('numeric', size, nreps=nreps)\n",
    "    t_numeric.append(tn)\n",
    "    t_numeric_add.append(tna)\n",
    "    t_numeric_run_ids.append(run_id_n)\n",
    "\n",
    "    ta, taa, run_id_a =  insert_data('array', size, nreps=nreps)\n",
    "    t_array.append(ta)\n",
    "    t_array_add.append(taa)\n",
    "    t_array_run_ids.append(run_id_a)"
   ]
  },
  {
   "cell_type": "code",
   "execution_count": 8,
   "metadata": {
    "scrolled": true
   },
   "outputs": [
    {
     "data": {
      "image/png": "[encoded data removed]",
      "text/plain": [
       "<Figure size 432x288 with 1 Axes>"
      ]
     },
     "metadata": {
      "needs_background": "light"
     },
     "output_type": "display_data"
    }
   ],
   "source": [
    "fig, ax = plt.subplots(1,1)\n",
    "ax.plot(sizes, t_numeric, 'o-', label='Inserting row-by-row')\n",
    "ax.plot(sizes, t_numeric_add, 'o-', label='Inserting row-by-row: add_result only')\n",
    "ax.plot(sizes, t_array, 'd-', label='Inserting as binary blob')\n",
    "ax.plot(sizes, t_array_add, 'd-', label='Inserting as binary blob: add_result only')\n",
    "ax.legend()\n",
    "ax.set_xlabel('Array length')\n",
    "ax.set_ylabel('Time (s)')\n",
    "fig.tight_layout()"
   ]
  },
  {
   "cell_type": "markdown",
   "metadata": {},
   "source": [
    "However, as we increase the length of the experiment, as seen here by repeating the insertion 100 times, we see a big difference between inserting values of the data row-by-row and inserting it as a binary blob."
   ]
  },
  {
   "cell_type": "markdown",
   "metadata": {},
   "source": [
    "## Loading the data "
   ]
  },
  {
   "cell_type": "code",
   "execution_count": 9,
   "metadata": {},
   "outputs": [],
   "source": [
    "from qcodes.dataset.data_set import load_by_id\n",
    "from qcodes.dataset.data_export import get_data_by_id"
   ]
  },
  {
   "cell_type": "markdown",
   "metadata": {},
   "source": [
    "As usual you can load the data by using the ``load_by_id`` function but you will notice that the different storage methods\n",
    "are reflected in shape of the data as it is retrieved. "
   ]
  },
  {
   "cell_type": "code",
   "execution_count": 10,
   "metadata": {},
   "outputs": [],
   "source": [
    "run_id_n = t_numeric_run_ids[0]\n",
    "run_id_a = t_array_run_ids[0]"
   ]
  },
  {
   "cell_type": "code",
   "execution_count": 11,
   "metadata": {
    "scrolled": true
   },
   "outputs": [
    {
     "data": {
      "text/plain": [
       "{'x1': {'x1': array([0.33605919, 0.33605919, 0.82571659, 0.82571659, 0.35190186,\n",
       "         0.35190186, 0.25629203, 0.25629203, 0.82315015, 0.82315015,\n",
       "         0.97831602, 0.97831602, 0.29174043, 0.29174043, 0.75265133,\n",
       "         0.75265133, 0.64707288, 0.64707288, 0.26790741, 0.26790741,\n",
       "         0.82270331, 0.82270331, 0.25792813, 0.25792813, 0.94572699,\n",
       "         0.94572699, 0.68464862, 0.68464862, 0.90621629, 0.90621629,\n",
       "         0.96616219, 0.96616219, 0.84251839, 0.84251839, 0.94385729,\n",
       "         0.94385729, 0.98675676, 0.98675676, 0.53875558, 0.53875558,\n",
       "         0.02794456, 0.02794456, 0.93849221, 0.93849221, 0.00525392,\n",
       "         0.00525392, 0.62357132, 0.62357132, 0.25193334, 0.25193334,\n",
       "         0.69176704, 0.69176704, 0.80115061, 0.80115061, 0.21797811,\n",
       "         0.21797811, 0.88181992, 0.88181992, 0.64303378, 0.64303378,\n",
       "         0.87713053, 0.87713053, 0.78593693, 0.78593693, 0.50159731,\n",
       "         0.50159731, 0.1093322 , 0.1093322 , 0.08771312, 0.08771312,\n",
       "         0.77343447, 0.77343447, 0.50820908, 0.50820908, 0.09138694,\n",
       "         0.09138694, 0.00867452, 0.00867452, 0.59932811, 0.59932811,\n",
       "         0.29036546, 0.29036546, 0.98255097, 0.98255097, 0.44133234,\n",
       "         0.44133234, 0.92628574, 0.92628574, 0.7986576 , 0.7986576 ,\n",
       "         0.58356924, 0.58356924, 0.39007726, 0.39007726, 0.25684308,\n",
       "         0.25684308, 0.20280502, 0.20280502, 0.05522768, 0.05522768,\n",
       "         0.81848619, 0.81848619, 0.31244249, 0.31244249, 0.2351661 ,\n",
       "         0.2351661 , 0.09510795, 0.09510795, 0.12153014, 0.12153014,\n",
       "         0.32099108, 0.32099108, 0.24326104, 0.24326104, 0.45690048,\n",
       "         0.45690048, 0.02554752, 0.02554752, 0.07193131, 0.07193131,\n",
       "         0.28533179, 0.28533179, 0.30305874, 0.30305874, 0.92863815,\n",
       "         0.92863815, 0.79925168, 0.79925168, 0.15242381, 0.15242381,\n",
       "         0.69941853, 0.69941853, 0.55473431, 0.55473431, 0.59052943,\n",
       "         0.59052943, 0.09315307, 0.09315307, 0.37903797, 0.37903797,\n",
       "         0.71981021, 0.71981021, 0.69274311, 0.69274311, 0.28644662,\n",
       "         0.28644662, 0.80309938, 0.80309938, 0.31870914, 0.31870914,\n",
       "         0.0893206 , 0.0893206 , 0.57421751, 0.57421751, 0.42317481,\n",
       "         0.42317481, 0.49599198, 0.49599198, 0.60707507, 0.60707507,\n",
       "         0.22279974, 0.22279974, 0.85549063, 0.85549063, 0.93084384,\n",
       "         0.93084384, 0.78628395, 0.78628395, 0.18431818, 0.18431818,\n",
       "         0.07780173, 0.07780173, 0.10602401, 0.10602401, 0.45307107,\n",
       "         0.45307107, 0.3124645 , 0.3124645 , 0.45469454, 0.45469454,\n",
       "         0.56929558, 0.56929558, 0.09185359, 0.09185359, 0.14245977,\n",
       "         0.14245977, 0.41981639, 0.41981639, 0.4945209 , 0.4945209 ,\n",
       "         0.06310287, 0.06310287, 0.36011017, 0.36011017, 0.58319017,\n",
       "         0.58319017, 0.83371768, 0.83371768, 0.74492694, 0.74492694])}}"
      ]
     },
     "execution_count": 11,
     "metadata": {},
     "output_type": "execute_result"
    }
   ],
   "source": [
    "ds = load_by_id(run_id_n)\n",
    "ds.get_parameter_data('x1')"
   ]
  },
  {
   "cell_type": "markdown",
   "metadata": {},
   "source": [
    "And a dataset stored as binary arrays"
   ]
  },
  {
   "cell_type": "code",
   "execution_count": 12,
   "metadata": {
    "scrolled": true
   },
   "outputs": [
    {
     "data": {
      "text/plain": [
       "{'x1': {'x1': array([[0.54334678],\n",
       "         [0.54334678],\n",
       "         [0.90773738],\n",
       "         [0.90773738],\n",
       "         [0.76723398],\n",
       "         [0.76723398],\n",
       "         [0.62083185],\n",
       "         [0.62083185],\n",
       "         [0.08690886],\n",
       "         [0.08690886],\n",
       "         [0.66182116],\n",
       "         [0.66182116],\n",
       "         [0.96275908],\n",
       "         [0.96275908],\n",
       "         [0.61195218],\n",
       "         [0.61195218],\n",
       "         [0.85152694],\n",
       "         [0.85152694],\n",
       "         [0.19491683],\n",
       "         [0.19491683],\n",
       "         [0.35570946],\n",
       "         [0.35570946],\n",
       "         [0.91509777],\n",
       "         [0.91509777],\n",
       "         [0.85712927],\n",
       "         [0.85712927],\n",
       "         [0.95306318],\n",
       "         [0.95306318],\n",
       "         [0.40469024],\n",
       "         [0.40469024],\n",
       "         [0.97956154],\n",
       "         [0.97956154],\n",
       "         [0.48886101],\n",
       "         [0.48886101],\n",
       "         [0.38248584],\n",
       "         [0.38248584],\n",
       "         [0.86174632],\n",
       "         [0.86174632],\n",
       "         [0.09224526],\n",
       "         [0.09224526],\n",
       "         [0.19284706],\n",
       "         [0.19284706],\n",
       "         [0.41241724],\n",
       "         [0.41241724],\n",
       "         [0.07114978],\n",
       "         [0.07114978],\n",
       "         [0.07904704],\n",
       "         [0.07904704],\n",
       "         [0.47044448],\n",
       "         [0.47044448],\n",
       "         [0.10083965],\n",
       "         [0.10083965],\n",
       "         [0.01275185],\n",
       "         [0.01275185],\n",
       "         [0.87074606],\n",
       "         [0.87074606],\n",
       "         [0.58748053],\n",
       "         [0.58748053],\n",
       "         [0.6450919 ],\n",
       "         [0.6450919 ],\n",
       "         [0.331328  ],\n",
       "         [0.331328  ],\n",
       "         [0.85440908],\n",
       "         [0.85440908],\n",
       "         [0.00524156],\n",
       "         [0.00524156],\n",
       "         [0.83554149],\n",
       "         [0.83554149],\n",
       "         [0.45045861],\n",
       "         [0.45045861],\n",
       "         [0.30684124],\n",
       "         [0.30684124],\n",
       "         [0.04639131],\n",
       "         [0.04639131],\n",
       "         [0.10283762],\n",
       "         [0.10283762],\n",
       "         [0.10257937],\n",
       "         [0.10257937],\n",
       "         [0.11739475],\n",
       "         [0.11739475],\n",
       "         [0.40586253],\n",
       "         [0.40586253],\n",
       "         [0.28680015],\n",
       "         [0.28680015],\n",
       "         [0.37330437],\n",
       "         [0.37330437],\n",
       "         [0.07259179],\n",
       "         [0.07259179],\n",
       "         [0.33620679],\n",
       "         [0.33620679],\n",
       "         [0.59921753],\n",
       "         [0.59921753],\n",
       "         [0.98842102],\n",
       "         [0.98842102],\n",
       "         [0.26280854],\n",
       "         [0.26280854],\n",
       "         [0.53111828],\n",
       "         [0.53111828],\n",
       "         [0.8067287 ],\n",
       "         [0.8067287 ],\n",
       "         [0.33449676],\n",
       "         [0.33449676],\n",
       "         [0.48405797],\n",
       "         [0.48405797],\n",
       "         [0.13148659],\n",
       "         [0.13148659],\n",
       "         [0.5832318 ],\n",
       "         [0.5832318 ],\n",
       "         [0.10708756],\n",
       "         [0.10708756],\n",
       "         [0.4365564 ],\n",
       "         [0.4365564 ],\n",
       "         [0.5485641 ],\n",
       "         [0.5485641 ],\n",
       "         [0.71407289],\n",
       "         [0.71407289],\n",
       "         [0.55294477],\n",
       "         [0.55294477],\n",
       "         [0.59896877],\n",
       "         [0.59896877],\n",
       "         [0.666152  ],\n",
       "         [0.666152  ],\n",
       "         [0.61069556],\n",
       "         [0.61069556],\n",
       "         [0.03322436],\n",
       "         [0.03322436],\n",
       "         [0.91216596],\n",
       "         [0.91216596],\n",
       "         [0.24593421],\n",
       "         [0.24593421],\n",
       "         [0.36505112],\n",
       "         [0.36505112],\n",
       "         [0.00587469],\n",
       "         [0.00587469],\n",
       "         [0.54621048],\n",
       "         [0.54621048],\n",
       "         [0.45964556],\n",
       "         [0.45964556],\n",
       "         [0.56579408],\n",
       "         [0.56579408],\n",
       "         [0.29078564],\n",
       "         [0.29078564],\n",
       "         [0.6222886 ],\n",
       "         [0.6222886 ],\n",
       "         [0.35232535],\n",
       "         [0.35232535],\n",
       "         [0.99041589],\n",
       "         [0.99041589],\n",
       "         [0.72072104],\n",
       "         [0.72072104],\n",
       "         [0.72463054],\n",
       "         [0.72463054],\n",
       "         [0.66685466],\n",
       "         [0.66685466],\n",
       "         [0.83448535],\n",
       "         [0.83448535],\n",
       "         [0.13201867],\n",
       "         [0.13201867],\n",
       "         [0.4877594 ],\n",
       "         [0.4877594 ],\n",
       "         [0.4312578 ],\n",
       "         [0.4312578 ],\n",
       "         [0.14535831],\n",
       "         [0.14535831],\n",
       "         [0.74701052],\n",
       "         [0.74701052],\n",
       "         [0.84141004],\n",
       "         [0.84141004],\n",
       "         [0.92818893],\n",
       "         [0.92818893],\n",
       "         [0.71657363],\n",
       "         [0.71657363],\n",
       "         [0.78632919],\n",
       "         [0.78632919],\n",
       "         [0.09385218],\n",
       "         [0.09385218],\n",
       "         [0.92624279],\n",
       "         [0.92624279],\n",
       "         [0.46703144],\n",
       "         [0.46703144],\n",
       "         [0.68995265],\n",
       "         [0.68995265],\n",
       "         [0.42568902],\n",
       "         [0.42568902],\n",
       "         [0.79204265],\n",
       "         [0.79204265],\n",
       "         [0.85021046],\n",
       "         [0.85021046],\n",
       "         [0.19187388],\n",
       "         [0.19187388],\n",
       "         [0.97330085],\n",
       "         [0.97330085],\n",
       "         [0.47243745],\n",
       "         [0.47243745],\n",
       "         [0.36933826],\n",
       "         [0.36933826],\n",
       "         [0.07247472],\n",
       "         [0.07247472],\n",
       "         [0.72094102],\n",
       "         [0.72094102]])}}"
      ]
     },
     "execution_count": 12,
     "metadata": {},
     "output_type": "execute_result"
    }
   ],
   "source": [
    "ds = load_by_id(run_id_a)\n",
    "ds.get_parameter_data('x1')"
   ]
  },
  {
   "cell_type": "code",
   "execution_count": null,
   "metadata": {},
   "outputs": [],
   "source": []
  }
 ],
 "metadata": {
  "kernelspec": {
   "display_name": "Python 3",
   "language": "python",
   "name": "python3"
  },
  "language_info": {
   "codemirror_mode": {
    "name": "ipython",
    "version": 3
   },
   "file_extension": ".py",
   "mimetype": "text/x-python",
   "name": "python",
   "nbconvert_exporter": "python",
   "pygments_lexer": "ipython3",
   "version": "3.7.7"
  },
  "nbsphinx": {
   "timeout": 600
  },
  "toc": {
   "base_numbering": 1,
   "nav_menu": {},
   "number_sections": true,
   "sideBar": true,
   "skip_h1_title": false,
   "title_cell": "Table of Contents",
   "title_sidebar": "Contents",
   "toc_cell": false,
   "toc_position": {},
   "toc_section_display": true,
   "toc_window_display": false
  },
  "varInspector": {
   "cols": {
    "lenName": 16,
    "lenType": 16,
    "lenVar": 40
   },
   "kernels_config": {
    "python": {
     "delete_cmd_postfix": "",
     "delete_cmd_prefix": "del ",
     "library": "var_list.py",
     "varRefreshCmd": "print(var_dic_list())"
    },
    "r": {
     "delete_cmd_postfix": ") ",
     "delete_cmd_prefix": "rm(",
     "library": "var_list.r",
     "varRefreshCmd": "cat(var_dic_list()) "
    }
   },
   "types_to_exclude": [
    "module",
    "function",
    "builtin_function_or_method",
    "instance",
    "_Feature"
   ],
   "window_display": false
  }
 },
 "nbformat": 4,
 "nbformat_minor": 2
}
