{
 "cells": [
  {
   "cell_type": "markdown",
   "metadata": {},
   "source": [
    "# DataSet Performance\n",
    "\n",
    "This notebook shows the trade-off between inserting data into a database row-by-row and as binary blobs. Inserting the data row-by-row means that we have direct access to all the data and may perform queries directly on the values of the data. On the other hand, as we shall see, this is much slower than inserting the data directly as binary blobs."
   ]
  },
  {
   "cell_type": "markdown",
   "metadata": {},
   "source": [
    "First, we choose a new location for the database to ensure that we don't add a bunch of benchmarking data to the default one."
   ]
  },
  {
   "cell_type": "code",
   "execution_count": 1,
   "metadata": {
    "execution": {
     "iopub.execute_input": "2020-10-16T06:56:49.157597Z",
     "iopub.status.busy": "2020-10-16T06:56:49.157040Z",
     "iopub.status.idle": "2020-10-16T06:56:50.301518Z",
     "shell.execute_reply": "2020-10-16T06:56:50.302050Z"
    }
   },
   "outputs": [
    {
     "name": "stdout",
     "output_type": "stream",
     "text": [
      "Logging hadn't been started.\n",
      "Activating auto-logging. Current session state plus future input saved.\n",
      "Filename       : /home/vsts/.qcodes/logs/command_history.log\n",
      "Mode           : append\n",
      "Output logging : True\n",
      "Raw input log  : False\n",
      "Timestamping   : True\n",
      "State          : active\n"
     ]
    },
    {
     "name": "stdout",
     "output_type": "stream",
     "text": [
      "Qcodes Logfile : /home/vsts/.qcodes/logs/201016-15779-qcodes.log\n"
     ]
    }
   ],
   "source": [
    "import os\n",
    "cwd = os.getcwd()\n",
    "import qcodes as qc\n",
    "qc.config[\"core\"][\"db_location\"] = os.path.join(cwd, 'testing.db')\n"
   ]
  },
  {
   "cell_type": "code",
   "execution_count": 2,
   "metadata": {
    "execution": {
     "iopub.execute_input": "2020-10-16T06:56:50.310113Z",
     "iopub.status.busy": "2020-10-16T06:56:50.308224Z",
     "iopub.status.idle": "2020-10-16T06:56:50.525109Z",
     "shell.execute_reply": "2020-10-16T06:56:50.525675Z"
    }
   },
   "outputs": [],
   "source": [
    "%matplotlib inline\n",
    "import time\n",
    "import matplotlib.pyplot as plt\n",
    "import numpy as np\n",
    "\n",
    "import qcodes as qc\n",
    "from qcodes.instrument.parameter import ManualParameter\n",
    "from qcodes.dataset.experiment_container import (Experiment,\n",
    "                                                 load_last_experiment,\n",
    "                                                 new_experiment)\n",
    "from qcodes.dataset.sqlite.database import initialise_database\n",
    "from qcodes import load_or_create_experiment\n",
    "from qcodes.dataset.measurements import Measurement"
   ]
  },
  {
   "cell_type": "code",
   "execution_count": 3,
   "metadata": {
    "execution": {
     "iopub.execute_input": "2020-10-16T06:56:50.529974Z",
     "iopub.status.busy": "2020-10-16T06:56:50.529250Z",
     "iopub.status.idle": "2020-10-16T06:56:50.664837Z",
     "shell.execute_reply": "2020-10-16T06:56:50.664171Z"
    }
   },
   "outputs": [
    {
     "name": "stdout",
     "output_type": "stream",
     "text": [
      "\r",
      "0it [00:00, ?it/s]"
     ]
    },
    {
     "name": "stdout",
     "output_type": "stream",
     "text": [
      "\r",
      "Upgrading database; v0 -> v1: : 0it [00:00, ?it/s]"
     ]
    },
    {
     "name": "stdout",
     "output_type": "stream",
     "text": [
      "\r",
      "Upgrading database; v0 -> v1: : 0it [00:00, ?it/s]"
     ]
    },
    {
     "name": "stdout",
     "output_type": "stream",
     "text": [
      "\n",
      "\r",
      "  0%|          | 0/1 [00:00<?, ?it/s]"
     ]
    },
    {
     "name": "stdout",
     "output_type": "stream",
     "text": [
      "\r",
      "Upgrading database; v1 -> v2:   0%|          | 0/1 [00:00<?, ?it/s]"
     ]
    },
    {
     "name": "stdout",
     "output_type": "stream",
     "text": [
      "\r",
      "Upgrading database; v1 -> v2: 100%|██████████| 1/1 [00:00<00:00, 446.73it/s]"
     ]
    },
    {
     "name": "stdout",
     "output_type": "stream",
     "text": [
      "\n",
      "\r",
      "0it [00:00, ?it/s]"
     ]
    },
    {
     "name": "stdout",
     "output_type": "stream",
     "text": [
      "\r",
      "Upgrading database; v2 -> v3: : 0it [00:00, ?it/s]"
     ]
    },
    {
     "name": "stdout",
     "output_type": "stream",
     "text": [
      "\r",
      "Upgrading database; v2 -> v3: : 0it [00:00, ?it/s]"
     ]
    },
    {
     "name": "stdout",
     "output_type": "stream",
     "text": [
      "\n",
      "\r",
      "0it [00:00, ?it/s]"
     ]
    },
    {
     "name": "stdout",
     "output_type": "stream",
     "text": [
      "\r",
      "Upgrading database; v3 -> v4: : 0it [00:00, ?it/s]"
     ]
    },
    {
     "name": "stdout",
     "output_type": "stream",
     "text": [
      "\r",
      "Upgrading database; v3 -> v4: : 0it [00:00, ?it/s]"
     ]
    },
    {
     "name": "stdout",
     "output_type": "stream",
     "text": [
      "\n",
      "\r",
      "  0%|          | 0/1 [00:00<?, ?it/s]"
     ]
    },
    {
     "name": "stdout",
     "output_type": "stream",
     "text": [
      "\r",
      "Upgrading database; v4 -> v5:   0%|          | 0/1 [00:00<?, ?it/s]"
     ]
    },
    {
     "name": "stdout",
     "output_type": "stream",
     "text": [
      "\r",
      "Upgrading database; v4 -> v5: 100%|██████████| 1/1 [00:00<00:00, 864.45it/s]"
     ]
    },
    {
     "name": "stdout",
     "output_type": "stream",
     "text": [
      "\n",
      "\r",
      "0it [00:00, ?it/s]"
     ]
    },
    {
     "name": "stdout",
     "output_type": "stream",
     "text": [
      "\r",
      "Upgrading database; v5 -> v6: : 0it [00:00, ?it/s]"
     ]
    },
    {
     "name": "stdout",
     "output_type": "stream",
     "text": [
      "\r",
      "Upgrading database; v5 -> v6: : 0it [00:00, ?it/s]"
     ]
    },
    {
     "name": "stdout",
     "output_type": "stream",
     "text": [
      "\n",
      "\r",
      "  0%|          | 0/1 [00:00<?, ?it/s]"
     ]
    },
    {
     "name": "stdout",
     "output_type": "stream",
     "text": [
      "\r",
      "Upgrading database; v6 -> v7:   0%|          | 0/1 [00:00<?, ?it/s]"
     ]
    },
    {
     "name": "stdout",
     "output_type": "stream",
     "text": [
      "\r",
      "Upgrading database; v6 -> v7: 100%|██████████| 1/1 [00:00<00:00, 303.74it/s]"
     ]
    },
    {
     "name": "stdout",
     "output_type": "stream",
     "text": [
      "\n",
      "\r",
      "  0%|          | 0/1 [00:00<?, ?it/s]"
     ]
    },
    {
     "name": "stdout",
     "output_type": "stream",
     "text": [
      "\r",
      "Upgrading database; v7 -> v8:   0%|          | 0/1 [00:00<?, ?it/s]"
     ]
    },
    {
     "name": "stdout",
     "output_type": "stream",
     "text": [
      "\r",
      "Upgrading database; v7 -> v8: 100%|██████████| 1/1 [00:00<00:00, 905.12it/s]"
     ]
    },
    {
     "name": "stdout",
     "output_type": "stream",
     "text": [
      "\n",
      "\r",
      "  0%|          | 0/1 [00:00<?, ?it/s]"
     ]
    },
    {
     "name": "stdout",
     "output_type": "stream",
     "text": [
      "\r",
      "Upgrading database; v8 -> v9:   0%|          | 0/1 [00:00<?, ?it/s]"
     ]
    },
    {
     "name": "stdout",
     "output_type": "stream",
     "text": [
      "\r",
      "Upgrading database; v8 -> v9: 100%|██████████| 1/1 [00:00<00:00, 1053.32it/s]"
     ]
    },
    {
     "name": "stdout",
     "output_type": "stream",
     "text": [
      "\n"
     ]
    }
   ],
   "source": [
    "initialise_database()\n",
    "exp = load_or_create_experiment(experiment_name='tutorial_exp', sample_name=\"no sample\")"
   ]
  },
  {
   "cell_type": "markdown",
   "metadata": {},
   "source": [
    "Here, we define a simple function to benchmark the time it takes to insert n points with either numeric or array data type.\n",
    "We will compare both the time used to call ``add_result`` and the time used for the full measurement."
   ]
  },
  {
   "cell_type": "code",
   "execution_count": 4,
   "metadata": {
    "execution": {
     "iopub.execute_input": "2020-10-16T06:56:50.675079Z",
     "iopub.status.busy": "2020-10-16T06:56:50.673490Z",
     "iopub.status.idle": "2020-10-16T06:56:50.675709Z",
     "shell.execute_reply": "2020-10-16T06:56:50.676328Z"
    }
   },
   "outputs": [],
   "source": [
    "def insert_data(paramtype, npoints, nreps=1):\n",
    "\n",
    "    meas = Measurement(exp=exp)\n",
    "\n",
    "    x1 = ManualParameter('x1')\n",
    "    x2 = ManualParameter('x2')\n",
    "    x3 = ManualParameter('x3')\n",
    "    y1 = ManualParameter('y1')\n",
    "    y2 = ManualParameter('y2')\n",
    "\n",
    "    meas.register_parameter(x1, paramtype=paramtype)\n",
    "    meas.register_parameter(x2, paramtype=paramtype)\n",
    "    meas.register_parameter(x3, paramtype=paramtype)\n",
    "    meas.register_parameter(y1, setpoints=[x1, x2, x3],\n",
    "                            paramtype=paramtype)\n",
    "    meas.register_parameter(y2, setpoints=[x1, x2, x3],\n",
    "                            paramtype=paramtype)\n",
    "    start = time.perf_counter()\n",
    "    with meas.run() as datasaver:\n",
    "        start_adding = time.perf_counter()\n",
    "        for i in range(nreps):\n",
    "            datasaver.add_result((x1, np.random.rand(npoints)),\n",
    "                                 (x2, np.random.rand(npoints)),\n",
    "                                 (x3, np.random.rand(npoints)),\n",
    "                                 (y1, np.random.rand(npoints)),\n",
    "                                 (y2, np.random.rand(npoints)))\n",
    "        stop_adding = time.perf_counter()\n",
    "        run_id = datasaver.run_id\n",
    "    stop = time.perf_counter()\n",
    "    tot_time = stop - start\n",
    "    add_time = stop_adding - start_adding\n",
    "    return tot_time, add_time, run_id"
   ]
  },
  {
   "cell_type": "markdown",
   "metadata": {},
   "source": [
    "## Comparison between numeric/array data and binary blob"
   ]
  },
  {
   "cell_type": "markdown",
   "metadata": {},
   "source": [
    "### Case1: Short experiment time"
   ]
  },
  {
   "cell_type": "code",
   "execution_count": 5,
   "metadata": {
    "execution": {
     "iopub.execute_input": "2020-10-16T06:56:50.684122Z",
     "iopub.status.busy": "2020-10-16T06:56:50.683392Z",
     "iopub.status.idle": "2020-10-16T06:56:51.530755Z",
     "shell.execute_reply": "2020-10-16T06:56:51.530106Z"
    }
   },
   "outputs": [
    {
     "name": "stdout",
     "output_type": "stream",
     "text": [
      "Starting experimental run with id: 1. \n",
      "Starting experimental run with id: 2. \n",
      "Starting experimental run with id: 3. \n",
      "Starting experimental run with id: 4. \n"
     ]
    },
    {
     "name": "stdout",
     "output_type": "stream",
     "text": [
      "Starting experimental run with id: 5. \n"
     ]
    },
    {
     "name": "stdout",
     "output_type": "stream",
     "text": [
      "Starting experimental run with id: 6. \n"
     ]
    },
    {
     "name": "stdout",
     "output_type": "stream",
     "text": [
      "Starting experimental run with id: 7. \n"
     ]
    },
    {
     "name": "stdout",
     "output_type": "stream",
     "text": [
      "Starting experimental run with id: 8. \n",
      "Starting experimental run with id: 9. \n"
     ]
    },
    {
     "name": "stdout",
     "output_type": "stream",
     "text": [
      "Starting experimental run with id: 10. \n",
      "Starting experimental run with id: 11. \n"
     ]
    },
    {
     "name": "stdout",
     "output_type": "stream",
     "text": [
      "Starting experimental run with id: 12. \n",
      "Starting experimental run with id: 13. \n"
     ]
    },
    {
     "name": "stdout",
     "output_type": "stream",
     "text": [
      "Starting experimental run with id: 14. \n"
     ]
    }
   ],
   "source": [
    "sizes = [1,500,1000,2000,3000,4000,5000]\n",
    "t_numeric = []\n",
    "t_numeric_add = []\n",
    "t_array = []\n",
    "t_array_add = []\n",
    "for size in sizes:\n",
    "    tn, tna, run_id_n =  insert_data('numeric', size)\n",
    "    t_numeric.append(tn)\n",
    "    t_numeric_add.append(tna)\n",
    "\n",
    "    ta, taa, run_id_a =  insert_data('array', size)\n",
    "    t_array.append(ta)\n",
    "    t_array_add.append(taa)"
   ]
  },
  {
   "cell_type": "code",
   "execution_count": 6,
   "metadata": {
    "execution": {
     "iopub.execute_input": "2020-10-16T06:56:51.581596Z",
     "iopub.status.busy": "2020-10-16T06:56:51.558011Z",
     "iopub.status.idle": "2020-10-16T06:56:51.767875Z",
     "shell.execute_reply": "2020-10-16T06:56:51.767161Z"
    }
   },
   "outputs": [
    {
     "data": {
      "image/png": "[encoded data removed]",
      "text/plain": [
       "<Figure size 432x288 with 1 Axes>"
      ]
     },
     "metadata": {
      "needs_background": "light"
     },
     "output_type": "display_data"
    }
   ],
   "source": [
    "fig, ax = plt.subplots(1,1)\n",
    "ax.plot(sizes, t_numeric, 'o-', label='Inserting row-by-row')\n",
    "ax.plot(sizes, t_numeric_add, 'o-', label='Inserting row-by-row: add_result only')\n",
    "ax.plot(sizes, t_array, 'd-', label='Inserting as binary blob')\n",
    "ax.plot(sizes, t_array_add, 'd-', label='Inserting as binary blob: add_result only')\n",
    "ax.legend()\n",
    "ax.set_xlabel('Array length')\n",
    "ax.set_ylabel('Time (s)')\n",
    "fig.tight_layout()"
   ]
  },
  {
   "cell_type": "markdown",
   "metadata": {},
   "source": [
    "As shown in the latter figure, the time to setup and and close the experiment is approximately 0.4 sec. In case of small array sizes, the difference between inserting values of data as arrays and inserting them row-by-row is relatively unimportant. At larger array sizes, i.e. above 10000 points, the cost of writing data as individual datapoints starts to become important.\n"
   ]
  },
  {
   "cell_type": "markdown",
   "metadata": {},
   "source": [
    "### Case2: Long experiment time "
   ]
  },
  {
   "cell_type": "code",
   "execution_count": 7,
   "metadata": {
    "execution": {
     "iopub.execute_input": "2020-10-16T06:56:51.775169Z",
     "iopub.status.busy": "2020-10-16T06:56:51.773835Z",
     "iopub.status.idle": "2020-10-16T06:57:53.573632Z",
     "shell.execute_reply": "2020-10-16T06:57:53.574136Z"
    }
   },
   "outputs": [
    {
     "name": "stdout",
     "output_type": "stream",
     "text": [
      "Starting experimental run with id: 15. \n",
      "Starting experimental run with id: 16. \n",
      "Starting experimental run with id: 17. \n"
     ]
    },
    {
     "name": "stdout",
     "output_type": "stream",
     "text": [
      "Starting experimental run with id: 18. \n",
      "Starting experimental run with id: 19. \n"
     ]
    },
    {
     "name": "stdout",
     "output_type": "stream",
     "text": [
      "Starting experimental run with id: 20. \n"
     ]
    },
    {
     "name": "stdout",
     "output_type": "stream",
     "text": [
      "Starting experimental run with id: 21. \n"
     ]
    },
    {
     "name": "stdout",
     "output_type": "stream",
     "text": [
      "Starting experimental run with id: 22. \n"
     ]
    },
    {
     "name": "stdout",
     "output_type": "stream",
     "text": [
      "Starting experimental run with id: 23. \n"
     ]
    },
    {
     "name": "stdout",
     "output_type": "stream",
     "text": [
      "Starting experimental run with id: 24. \n"
     ]
    },
    {
     "name": "stdout",
     "output_type": "stream",
     "text": [
      "Starting experimental run with id: 25. \n"
     ]
    },
    {
     "name": "stdout",
     "output_type": "stream",
     "text": [
      "Starting experimental run with id: 26. \n"
     ]
    },
    {
     "name": "stdout",
     "output_type": "stream",
     "text": [
      "Starting experimental run with id: 27. \n"
     ]
    },
    {
     "name": "stdout",
     "output_type": "stream",
     "text": [
      "Starting experimental run with id: 28. \n"
     ]
    }
   ],
   "source": [
    "sizes = [1,500,1000,2000,3000,4000,5000]\n",
    "nreps = 100\n",
    "t_numeric = []\n",
    "t_numeric_add = []\n",
    "t_numeric_run_ids = []\n",
    "t_array = []\n",
    "t_array_add = []\n",
    "t_array_run_ids = []\n",
    "for size in sizes:\n",
    "    tn, tna, run_id_n =  insert_data('numeric', size, nreps=nreps)\n",
    "    t_numeric.append(tn)\n",
    "    t_numeric_add.append(tna)\n",
    "    t_numeric_run_ids.append(run_id_n)\n",
    "\n",
    "    ta, taa, run_id_a =  insert_data('array', size, nreps=nreps)\n",
    "    t_array.append(ta)\n",
    "    t_array_add.append(taa)\n",
    "    t_array_run_ids.append(run_id_a)"
   ]
  },
  {
   "cell_type": "code",
   "execution_count": 8,
   "metadata": {
    "execution": {
     "iopub.execute_input": "2020-10-16T06:57:53.605130Z",
     "iopub.status.busy": "2020-10-16T06:57:53.600948Z",
     "iopub.status.idle": "2020-10-16T06:57:53.815028Z",
     "shell.execute_reply": "2020-10-16T06:57:53.815589Z"
    },
    "scrolled": true
   },
   "outputs": [
    {
     "data": {
      "image/png": "[encoded data removed]",
      "text/plain": [
       "<Figure size 432x288 with 1 Axes>"
      ]
     },
     "metadata": {
      "needs_background": "light"
     },
     "output_type": "display_data"
    }
   ],
   "source": [
    "fig, ax = plt.subplots(1,1)\n",
    "ax.plot(sizes, t_numeric, 'o-', label='Inserting row-by-row')\n",
    "ax.plot(sizes, t_numeric_add, 'o-', label='Inserting row-by-row: add_result only')\n",
    "ax.plot(sizes, t_array, 'd-', label='Inserting as binary blob')\n",
    "ax.plot(sizes, t_array_add, 'd-', label='Inserting as binary blob: add_result only')\n",
    "ax.legend()\n",
    "ax.set_xlabel('Array length')\n",
    "ax.set_ylabel('Time (s)')\n",
    "fig.tight_layout()"
   ]
  },
  {
   "cell_type": "markdown",
   "metadata": {},
   "source": [
    "However, as we increase the length of the experiment, as seen here by repeating the insertion 100 times, we see a big difference between inserting values of the data row-by-row and inserting it as a binary blob."
   ]
  },
  {
   "cell_type": "markdown",
   "metadata": {},
   "source": [
    "## Loading the data "
   ]
  },
  {
   "cell_type": "code",
   "execution_count": 9,
   "metadata": {
    "execution": {
     "iopub.execute_input": "2020-10-16T06:57:53.820499Z",
     "iopub.status.busy": "2020-10-16T06:57:53.819416Z",
     "iopub.status.idle": "2020-10-16T06:57:53.823401Z",
     "shell.execute_reply": "2020-10-16T06:57:53.822923Z"
    }
   },
   "outputs": [],
   "source": [
    "from qcodes.dataset.data_set import load_by_id\n",
    "from qcodes.dataset.data_export import get_data_by_id"
   ]
  },
  {
   "cell_type": "markdown",
   "metadata": {},
   "source": [
    "As usual you can load the data by using the ``load_by_id`` function but you will notice that the different storage methods\n",
    "are reflected in shape of the data as it is retrieved. "
   ]
  },
  {
   "cell_type": "code",
   "execution_count": 10,
   "metadata": {
    "execution": {
     "iopub.execute_input": "2020-10-16T06:57:53.828500Z",
     "iopub.status.busy": "2020-10-16T06:57:53.827072Z",
     "iopub.status.idle": "2020-10-16T06:57:53.829146Z",
     "shell.execute_reply": "2020-10-16T06:57:53.829806Z"
    }
   },
   "outputs": [],
   "source": [
    "run_id_n = t_numeric_run_ids[0]\n",
    "run_id_a = t_array_run_ids[0]"
   ]
  },
  {
   "cell_type": "code",
   "execution_count": 11,
   "metadata": {
    "execution": {
     "iopub.execute_input": "2020-10-16T06:57:53.833443Z",
     "iopub.status.busy": "2020-10-16T06:57:53.832854Z",
     "iopub.status.idle": "2020-10-16T06:57:53.842678Z",
     "shell.execute_reply": "2020-10-16T06:57:53.843192Z"
    },
    "scrolled": true
   },
   "outputs": [
    {
     "data": {
      "text/plain": [
       "{'x1': {'x1': array([7.84171009e-01, 7.84171009e-01, 9.21615967e-01, 9.21615967e-01,\n",
       "         8.05223687e-01, 8.05223687e-01, 8.64299704e-02, 8.64299704e-02,\n",
       "         7.18610045e-01, 7.18610045e-01, 4.58825664e-01, 4.58825664e-01,\n",
       "         9.35246783e-01, 9.35246783e-01, 4.56548219e-01, 4.56548219e-01,\n",
       "         8.18665215e-01, 8.18665215e-01, 9.77965594e-01, 9.77965594e-01,\n",
       "         4.64143951e-01, 4.64143951e-01, 6.99261464e-01, 6.99261464e-01,\n",
       "         1.11775948e-01, 1.11775948e-01, 7.01792433e-01, 7.01792433e-01,\n",
       "         1.18165534e-01, 1.18165534e-01, 2.98278108e-01, 2.98278108e-01,\n",
       "         3.57341044e-01, 3.57341044e-01, 7.54866029e-01, 7.54866029e-01,\n",
       "         9.35844349e-01, 9.35844349e-01, 3.86227577e-01, 3.86227577e-01,\n",
       "         7.71023254e-01, 7.71023254e-01, 4.69162315e-01, 4.69162315e-01,\n",
       "         3.75932185e-01, 3.75932185e-01, 1.68786887e-01, 1.68786887e-01,\n",
       "         1.70937256e-01, 1.70937256e-01, 1.60697893e-02, 1.60697893e-02,\n",
       "         7.58007814e-01, 7.58007814e-01, 8.14515839e-01, 8.14515839e-01,\n",
       "         6.31769820e-01, 6.31769820e-01, 5.77393266e-01, 5.77393266e-01,\n",
       "         1.36180524e-01, 1.36180524e-01, 4.39688216e-01, 4.39688216e-01,\n",
       "         5.59829341e-01, 5.59829341e-01, 9.16323757e-01, 9.16323757e-01,\n",
       "         1.21771496e-01, 1.21771496e-01, 2.66312390e-01, 2.66312390e-01,\n",
       "         8.15433570e-02, 8.15433570e-02, 5.49846317e-01, 5.49846317e-01,\n",
       "         2.25111683e-01, 2.25111683e-01, 5.07958847e-01, 5.07958847e-01,\n",
       "         9.92363976e-01, 9.92363976e-01, 4.48580505e-01, 4.48580505e-01,\n",
       "         8.29633196e-01, 8.29633196e-01, 1.44444038e-01, 1.44444038e-01,\n",
       "         5.23099195e-01, 5.23099195e-01, 5.20209346e-04, 5.20209346e-04,\n",
       "         5.04811462e-01, 5.04811462e-01, 9.81447755e-01, 9.81447755e-01,\n",
       "         6.60453487e-01, 6.60453487e-01, 5.26856477e-01, 5.26856477e-01,\n",
       "         5.18809154e-01, 5.18809154e-01, 3.26268377e-01, 3.26268377e-01,\n",
       "         2.67761501e-01, 2.67761501e-01, 5.53505582e-02, 5.53505582e-02,\n",
       "         2.59107272e-01, 2.59107272e-01, 9.05309505e-01, 9.05309505e-01,\n",
       "         9.66704865e-01, 9.66704865e-01, 1.62871307e-02, 1.62871307e-02,\n",
       "         4.75873343e-01, 4.75873343e-01, 8.54948690e-01, 8.54948690e-01,\n",
       "         5.84459315e-02, 5.84459315e-02, 9.90064906e-01, 9.90064906e-01,\n",
       "         3.45063584e-01, 3.45063584e-01, 9.90686457e-01, 9.90686457e-01,\n",
       "         1.51327616e-01, 1.51327616e-01, 6.55224771e-02, 6.55224771e-02,\n",
       "         3.36541949e-05, 3.36541949e-05, 8.88268941e-01, 8.88268941e-01,\n",
       "         1.03545766e-01, 1.03545766e-01, 1.02739228e-01, 1.02739228e-01,\n",
       "         1.90139774e-01, 1.90139774e-01, 1.74019045e-01, 1.74019045e-01,\n",
       "         9.06338800e-01, 9.06338800e-01, 4.94109712e-01, 4.94109712e-01,\n",
       "         5.32783447e-01, 5.32783447e-01, 2.67692642e-01, 2.67692642e-01,\n",
       "         3.93162093e-01, 3.93162093e-01, 8.52545578e-01, 8.52545578e-01,\n",
       "         2.85454944e-01, 2.85454944e-01, 7.02016078e-01, 7.02016078e-01,\n",
       "         6.59070079e-01, 6.59070079e-01, 6.63012199e-01, 6.63012199e-01,\n",
       "         5.14349354e-01, 5.14349354e-01, 9.14937550e-01, 9.14937550e-01,\n",
       "         8.17376134e-02, 8.17376134e-02, 4.49153807e-01, 4.49153807e-01,\n",
       "         2.24300922e-01, 2.24300922e-01, 5.94695898e-01, 5.94695898e-01,\n",
       "         4.74507367e-01, 4.74507367e-01, 2.91933410e-01, 2.91933410e-01,\n",
       "         2.21809426e-01, 2.21809426e-01, 4.25630597e-01, 4.25630597e-01,\n",
       "         5.69344896e-01, 5.69344896e-01, 8.00078126e-02, 8.00078126e-02,\n",
       "         8.41213441e-01, 8.41213441e-01, 4.46411701e-01, 4.46411701e-01,\n",
       "         6.17969071e-01, 6.17969071e-01, 7.92034320e-01, 7.92034320e-01,\n",
       "         5.22638205e-01, 5.22638205e-01, 6.98620899e-01, 6.98620899e-01])}}"
      ]
     },
     "execution_count": 1,
     "metadata": {},
     "output_type": "execute_result"
    }
   ],
   "source": [
    "ds = load_by_id(run_id_n)\n",
    "ds.get_parameter_data('x1')"
   ]
  },
  {
   "cell_type": "markdown",
   "metadata": {},
   "source": [
    "And a dataset stored as binary arrays"
   ]
  },
  {
   "cell_type": "code",
   "execution_count": 12,
   "metadata": {
    "execution": {
     "iopub.execute_input": "2020-10-16T06:57:53.847085Z",
     "iopub.status.busy": "2020-10-16T06:57:53.846418Z",
     "iopub.status.idle": "2020-10-16T06:57:53.911654Z",
     "shell.execute_reply": "2020-10-16T06:57:53.910816Z"
    },
    "scrolled": true
   },
   "outputs": [
    {
     "data": {
      "text/plain": [
       "{'x1': {'x1': array([[0.29459973],\n",
       "         [0.29459973],\n",
       "         [0.62151901],\n",
       "         [0.62151901],\n",
       "         [0.90917059],\n",
       "         [0.90917059],\n",
       "         [0.97853935],\n",
       "         [0.97853935],\n",
       "         [0.96433089],\n",
       "         [0.96433089],\n",
       "         [0.59192226],\n",
       "         [0.59192226],\n",
       "         [0.78341411],\n",
       "         [0.78341411],\n",
       "         [0.92960215],\n",
       "         [0.92960215],\n",
       "         [0.86780328],\n",
       "         [0.86780328],\n",
       "         [0.88913921],\n",
       "         [0.88913921],\n",
       "         [0.24009612],\n",
       "         [0.24009612],\n",
       "         [0.68354513],\n",
       "         [0.68354513],\n",
       "         [0.45920659],\n",
       "         [0.45920659],\n",
       "         [0.3563064 ],\n",
       "         [0.3563064 ],\n",
       "         [0.38994186],\n",
       "         [0.38994186],\n",
       "         [0.38372968],\n",
       "         [0.38372968],\n",
       "         [0.03454225],\n",
       "         [0.03454225],\n",
       "         [0.2590039 ],\n",
       "         [0.2590039 ],\n",
       "         [0.94476937],\n",
       "         [0.94476937],\n",
       "         [0.26109814],\n",
       "         [0.26109814],\n",
       "         [0.93583806],\n",
       "         [0.93583806],\n",
       "         [0.32309863],\n",
       "         [0.32309863],\n",
       "         [0.35069814],\n",
       "         [0.35069814],\n",
       "         [0.55434995],\n",
       "         [0.55434995],\n",
       "         [0.58585029],\n",
       "         [0.58585029],\n",
       "         [0.20789206],\n",
       "         [0.20789206],\n",
       "         [0.32328321],\n",
       "         [0.32328321],\n",
       "         [0.49853408],\n",
       "         [0.49853408],\n",
       "         [0.33399989],\n",
       "         [0.33399989],\n",
       "         [0.77566589],\n",
       "         [0.77566589],\n",
       "         [0.38264152],\n",
       "         [0.38264152],\n",
       "         [0.31744964],\n",
       "         [0.31744964],\n",
       "         [0.97854145],\n",
       "         [0.97854145],\n",
       "         [0.87806498],\n",
       "         [0.87806498],\n",
       "         [0.57320297],\n",
       "         [0.57320297],\n",
       "         [0.62872504],\n",
       "         [0.62872504],\n",
       "         [0.59096462],\n",
       "         [0.59096462],\n",
       "         [0.92599735],\n",
       "         [0.92599735],\n",
       "         [0.10890429],\n",
       "         [0.10890429],\n",
       "         [0.70176364],\n",
       "         [0.70176364],\n",
       "         [0.74483551],\n",
       "         [0.74483551],\n",
       "         [0.57007502],\n",
       "         [0.57007502],\n",
       "         [0.20314457],\n",
       "         [0.20314457],\n",
       "         [0.93681925],\n",
       "         [0.93681925],\n",
       "         [0.36976081],\n",
       "         [0.36976081],\n",
       "         [0.55434338],\n",
       "         [0.55434338],\n",
       "         [0.22219251],\n",
       "         [0.22219251],\n",
       "         [0.45146782],\n",
       "         [0.45146782],\n",
       "         [0.96386794],\n",
       "         [0.96386794],\n",
       "         [0.3453751 ],\n",
       "         [0.3453751 ],\n",
       "         [0.22481968],\n",
       "         [0.22481968],\n",
       "         [0.97870033],\n",
       "         [0.97870033],\n",
       "         [0.86777049],\n",
       "         [0.86777049],\n",
       "         [0.98461677],\n",
       "         [0.98461677],\n",
       "         [0.33765649],\n",
       "         [0.33765649],\n",
       "         [0.28251577],\n",
       "         [0.28251577],\n",
       "         [0.75812384],\n",
       "         [0.75812384],\n",
       "         [0.47959505],\n",
       "         [0.47959505],\n",
       "         [0.57175452],\n",
       "         [0.57175452],\n",
       "         [0.81720534],\n",
       "         [0.81720534],\n",
       "         [0.45264749],\n",
       "         [0.45264749],\n",
       "         [0.83328803],\n",
       "         [0.83328803],\n",
       "         [0.79195326],\n",
       "         [0.79195326],\n",
       "         [0.44001007],\n",
       "         [0.44001007],\n",
       "         [0.61729561],\n",
       "         [0.61729561],\n",
       "         [0.46556834],\n",
       "         [0.46556834],\n",
       "         [0.37288507],\n",
       "         [0.37288507],\n",
       "         [0.94146351],\n",
       "         [0.94146351],\n",
       "         [0.47628738],\n",
       "         [0.47628738],\n",
       "         [0.2550103 ],\n",
       "         [0.2550103 ],\n",
       "         [0.1430597 ],\n",
       "         [0.1430597 ],\n",
       "         [0.50575337],\n",
       "         [0.50575337],\n",
       "         [0.84116249],\n",
       "         [0.84116249],\n",
       "         [0.55482427],\n",
       "         [0.55482427],\n",
       "         [0.6535674 ],\n",
       "         [0.6535674 ],\n",
       "         [0.12232526],\n",
       "         [0.12232526],\n",
       "         [0.86558218],\n",
       "         [0.86558218],\n",
       "         [0.50987391],\n",
       "         [0.50987391],\n",
       "         [0.04884878],\n",
       "         [0.04884878],\n",
       "         [0.68652865],\n",
       "         [0.68652865],\n",
       "         [0.74387173],\n",
       "         [0.74387173],\n",
       "         [0.41040124],\n",
       "         [0.41040124],\n",
       "         [0.31619382],\n",
       "         [0.31619382],\n",
       "         [0.41332823],\n",
       "         [0.41332823],\n",
       "         [0.95804323],\n",
       "         [0.95804323],\n",
       "         [0.5080876 ],\n",
       "         [0.5080876 ],\n",
       "         [0.56931116],\n",
       "         [0.56931116],\n",
       "         [0.0010007 ],\n",
       "         [0.0010007 ],\n",
       "         [0.12900244],\n",
       "         [0.12900244],\n",
       "         [0.2276666 ],\n",
       "         [0.2276666 ],\n",
       "         [0.9093305 ],\n",
       "         [0.9093305 ],\n",
       "         [0.75713253],\n",
       "         [0.75713253],\n",
       "         [0.83954909],\n",
       "         [0.83954909],\n",
       "         [0.3453176 ],\n",
       "         [0.3453176 ],\n",
       "         [0.42779586],\n",
       "         [0.42779586],\n",
       "         [0.16224067],\n",
       "         [0.16224067],\n",
       "         [0.33593246],\n",
       "         [0.33593246],\n",
       "         [0.92299013],\n",
       "         [0.92299013],\n",
       "         [0.60538038],\n",
       "         [0.60538038],\n",
       "         [0.75088438],\n",
       "         [0.75088438]])}}"
      ]
     },
     "execution_count": 1,
     "metadata": {},
     "output_type": "execute_result"
    }
   ],
   "source": [
    "ds = load_by_id(run_id_a)\n",
    "ds.get_parameter_data('x1')"
   ]
  },
  {
   "cell_type": "code",
   "execution_count": null,
   "metadata": {},
   "outputs": [],
   "source": []
  }
 ],
 "metadata": {
  "kernelspec": {
   "display_name": "Python 3",
   "language": "python",
   "name": "python3"
  },
  "language_info": {
   "codemirror_mode": {
    "name": "ipython",
    "version": 3
   },
   "file_extension": ".py",
   "mimetype": "text/x-python",
   "name": "python",
   "nbconvert_exporter": "python",
   "pygments_lexer": "ipython3",
   "version": "3.7.7"
  },
  "nbsphinx": {
   "timeout": 600
  },
  "toc": {
   "base_numbering": 1,
   "nav_menu": {},
   "number_sections": true,
   "sideBar": true,
   "skip_h1_title": false,
   "title_cell": "Table of Contents",
   "title_sidebar": "Contents",
   "toc_cell": false,
   "toc_position": {},
   "toc_section_display": true,
   "toc_window_display": false
  },
  "varInspector": {
   "cols": {
    "lenName": 16,
    "lenType": 16,
    "lenVar": 40
   },
   "kernels_config": {
    "python": {
     "delete_cmd_postfix": "",
     "delete_cmd_prefix": "del ",
     "library": "var_list.py",
     "varRefreshCmd": "print(var_dic_list())"
    },
    "r": {
     "delete_cmd_postfix": ") ",
     "delete_cmd_prefix": "rm(",
     "library": "var_list.r",
     "varRefreshCmd": "cat(var_dic_list()) "
    }
   },
   "types_to_exclude": [
    "module",
    "function",
    "builtin_function_or_method",
    "instance",
    "_Feature"
   ],
   "window_display": false
  }
 },
 "nbformat": 4,
 "nbformat_minor": 2
}
