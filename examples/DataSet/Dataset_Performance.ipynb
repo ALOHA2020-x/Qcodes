{
 "cells": [
  {
   "cell_type": "markdown",
   "metadata": {},
   "source": [
    "# DataSet Performance\n",
    "\n",
    "This notebook shows the trade-off between inserting data into a database row-by-row and as binary blobs. Inserting the data row-by-row means that we have direct access to all the data and may perform queries directly on the values of the data. On the other hand, as we shall see, this is much slower than inserting the data directly as binary blobs."
   ]
  },
  {
   "cell_type": "markdown",
   "metadata": {},
   "source": [
    "First, we choose a new location for the database to ensure that we don't add a bunch of benchmarking data to the default one."
   ]
  },
  {
   "cell_type": "code",
   "execution_count": 1,
   "metadata": {
    "execution": {
     "iopub.execute_input": "2020-11-12T10:57:28.043657Z",
     "iopub.status.busy": "2020-11-12T10:57:28.042677Z",
     "iopub.status.idle": "2020-11-12T10:57:29.201591Z",
     "shell.execute_reply": "2020-11-12T10:57:29.202157Z"
    }
   },
   "outputs": [
    {
     "name": "stdout",
     "output_type": "stream",
     "text": [
      "Logging hadn't been started.\n",
      "Activating auto-logging. Current session state plus future input saved.\n",
      "Filename       : /home/vsts/.qcodes/logs/command_history.log\n",
      "Mode           : append\n",
      "Output logging : True\n",
      "Raw input log  : False\n",
      "Timestamping   : True\n",
      "State          : active\n"
     ]
    },
    {
     "name": "stdout",
     "output_type": "stream",
     "text": [
      "Qcodes Logfile : /home/vsts/.qcodes/logs/201112-14275-qcodes.log\n"
     ]
    }
   ],
   "source": [
    "import os\n",
    "cwd = os.getcwd()\n",
    "import qcodes as qc\n",
    "qc.config[\"core\"][\"db_location\"] = os.path.join(cwd, 'testing.db')\n"
   ]
  },
  {
   "cell_type": "code",
   "execution_count": 2,
   "metadata": {
    "execution": {
     "iopub.execute_input": "2020-11-12T10:57:29.209421Z",
     "iopub.status.busy": "2020-11-12T10:57:29.208622Z",
     "iopub.status.idle": "2020-11-12T10:57:29.407612Z",
     "shell.execute_reply": "2020-11-12T10:57:29.408158Z"
    }
   },
   "outputs": [],
   "source": [
    "%matplotlib inline\n",
    "import time\n",
    "import matplotlib.pyplot as plt\n",
    "import numpy as np\n",
    "\n",
    "import qcodes as qc\n",
    "from qcodes.instrument.parameter import ManualParameter\n",
    "from qcodes.dataset.experiment_container import (Experiment,\n",
    "                                                 load_last_experiment,\n",
    "                                                 new_experiment)\n",
    "from qcodes.dataset.sqlite.database import initialise_database\n",
    "from qcodes import load_or_create_experiment\n",
    "from qcodes.dataset.measurements import Measurement"
   ]
  },
  {
   "cell_type": "code",
   "execution_count": 3,
   "metadata": {
    "execution": {
     "iopub.execute_input": "2020-11-12T10:57:29.412412Z",
     "iopub.status.busy": "2020-11-12T10:57:29.411577Z",
     "iopub.status.idle": "2020-11-12T10:57:29.537588Z",
     "shell.execute_reply": "2020-11-12T10:57:29.538143Z"
    }
   },
   "outputs": [
    {
     "name": "stdout",
     "output_type": "stream",
     "text": [
      "\r",
      "0it [00:00, ?it/s]"
     ]
    },
    {
     "name": "stdout",
     "output_type": "stream",
     "text": [
      "\r",
      "Upgrading database; v0 -> v1: : 0it [00:00, ?it/s]"
     ]
    },
    {
     "name": "stdout",
     "output_type": "stream",
     "text": [
      "\r",
      "Upgrading database; v0 -> v1: : 0it [00:00, ?it/s]"
     ]
    },
    {
     "name": "stdout",
     "output_type": "stream",
     "text": [
      "\n",
      "\r",
      "  0%|          | 0/1 [00:00<?, ?it/s]"
     ]
    },
    {
     "name": "stdout",
     "output_type": "stream",
     "text": [
      "\r",
      "Upgrading database; v1 -> v2:   0%|          | 0/1 [00:00<?, ?it/s]"
     ]
    },
    {
     "name": "stdout",
     "output_type": "stream",
     "text": [
      "\r",
      "Upgrading database; v1 -> v2: 100%|██████████| 1/1 [00:00<00:00, 483.05it/s]"
     ]
    },
    {
     "name": "stdout",
     "output_type": "stream",
     "text": [
      "\n",
      "\r",
      "0it [00:00, ?it/s]"
     ]
    },
    {
     "name": "stdout",
     "output_type": "stream",
     "text": [
      "\r",
      "Upgrading database; v2 -> v3: : 0it [00:00, ?it/s]"
     ]
    },
    {
     "name": "stdout",
     "output_type": "stream",
     "text": [
      "\r",
      "Upgrading database; v2 -> v3: : 0it [00:00, ?it/s]"
     ]
    },
    {
     "name": "stdout",
     "output_type": "stream",
     "text": [
      "\n",
      "\r",
      "0it [00:00, ?it/s]"
     ]
    },
    {
     "name": "stdout",
     "output_type": "stream",
     "text": [
      "\r",
      "Upgrading database; v3 -> v4: : 0it [00:00, ?it/s]"
     ]
    },
    {
     "name": "stdout",
     "output_type": "stream",
     "text": [
      "\r",
      "Upgrading database; v3 -> v4: : 0it [00:00, ?it/s]"
     ]
    },
    {
     "name": "stdout",
     "output_type": "stream",
     "text": [
      "\n",
      "\r",
      "  0%|          | 0/1 [00:00<?, ?it/s]"
     ]
    },
    {
     "name": "stdout",
     "output_type": "stream",
     "text": [
      "\r",
      "Upgrading database; v4 -> v5:   0%|          | 0/1 [00:00<?, ?it/s]"
     ]
    },
    {
     "name": "stdout",
     "output_type": "stream",
     "text": [
      "\r",
      "Upgrading database; v4 -> v5: 100%|██████████| 1/1 [00:00<00:00, 489.25it/s]"
     ]
    },
    {
     "name": "stdout",
     "output_type": "stream",
     "text": [
      "\n",
      "\r",
      "0it [00:00, ?it/s]"
     ]
    },
    {
     "name": "stdout",
     "output_type": "stream",
     "text": [
      "\r",
      "Upgrading database; v5 -> v6: : 0it [00:00, ?it/s]"
     ]
    },
    {
     "name": "stdout",
     "output_type": "stream",
     "text": [
      "\r",
      "Upgrading database; v5 -> v6: : 0it [00:00, ?it/s]"
     ]
    },
    {
     "name": "stdout",
     "output_type": "stream",
     "text": [
      "\n",
      "\r",
      "  0%|          | 0/1 [00:00<?, ?it/s]"
     ]
    },
    {
     "name": "stdout",
     "output_type": "stream",
     "text": [
      "\r",
      "Upgrading database; v6 -> v7:   0%|          | 0/1 [00:00<?, ?it/s]"
     ]
    },
    {
     "name": "stdout",
     "output_type": "stream",
     "text": [
      "\r",
      "Upgrading database; v6 -> v7: 100%|██████████| 1/1 [00:00<00:00, 228.93it/s]"
     ]
    },
    {
     "name": "stdout",
     "output_type": "stream",
     "text": [
      "\n",
      "\r",
      "  0%|          | 0/1 [00:00<?, ?it/s]"
     ]
    },
    {
     "name": "stdout",
     "output_type": "stream",
     "text": [
      "\r",
      "Upgrading database; v7 -> v8:   0%|          | 0/1 [00:00<?, ?it/s]"
     ]
    },
    {
     "name": "stdout",
     "output_type": "stream",
     "text": [
      "\r",
      "Upgrading database; v7 -> v8: 100%|██████████| 1/1 [00:00<00:00, 564.28it/s]"
     ]
    },
    {
     "name": "stdout",
     "output_type": "stream",
     "text": [
      "\n",
      "\r",
      "  0%|          | 0/1 [00:00<?, ?it/s]"
     ]
    },
    {
     "name": "stdout",
     "output_type": "stream",
     "text": [
      "\r",
      "Upgrading database; v8 -> v9:   0%|          | 0/1 [00:00<?, ?it/s]"
     ]
    },
    {
     "name": "stdout",
     "output_type": "stream",
     "text": [
      "\r",
      "Upgrading database; v8 -> v9: 100%|██████████| 1/1 [00:00<00:00, 573.78it/s]"
     ]
    },
    {
     "name": "stdout",
     "output_type": "stream",
     "text": [
      "\n"
     ]
    }
   ],
   "source": [
    "initialise_database()\n",
    "exp = load_or_create_experiment(experiment_name='tutorial_exp', sample_name=\"no sample\")"
   ]
  },
  {
   "cell_type": "markdown",
   "metadata": {},
   "source": [
    "Here, we define a simple function to benchmark the time it takes to insert n points with either numeric or array data type.\n",
    "We will compare both the time used to call ``add_result`` and the time used for the full measurement."
   ]
  },
  {
   "cell_type": "code",
   "execution_count": 4,
   "metadata": {
    "execution": {
     "iopub.execute_input": "2020-11-12T10:57:29.547700Z",
     "iopub.status.busy": "2020-11-12T10:57:29.546000Z",
     "iopub.status.idle": "2020-11-12T10:57:29.550241Z",
     "shell.execute_reply": "2020-11-12T10:57:29.549580Z"
    }
   },
   "outputs": [],
   "source": [
    "def insert_data(paramtype, npoints, nreps=1):\n",
    "\n",
    "    meas = Measurement(exp=exp)\n",
    "\n",
    "    x1 = ManualParameter('x1')\n",
    "    x2 = ManualParameter('x2')\n",
    "    x3 = ManualParameter('x3')\n",
    "    y1 = ManualParameter('y1')\n",
    "    y2 = ManualParameter('y2')\n",
    "\n",
    "    meas.register_parameter(x1, paramtype=paramtype)\n",
    "    meas.register_parameter(x2, paramtype=paramtype)\n",
    "    meas.register_parameter(x3, paramtype=paramtype)\n",
    "    meas.register_parameter(y1, setpoints=[x1, x2, x3],\n",
    "                            paramtype=paramtype)\n",
    "    meas.register_parameter(y2, setpoints=[x1, x2, x3],\n",
    "                            paramtype=paramtype)\n",
    "    start = time.perf_counter()\n",
    "    with meas.run() as datasaver:\n",
    "        start_adding = time.perf_counter()\n",
    "        for i in range(nreps):\n",
    "            datasaver.add_result((x1, np.random.rand(npoints)),\n",
    "                                 (x2, np.random.rand(npoints)),\n",
    "                                 (x3, np.random.rand(npoints)),\n",
    "                                 (y1, np.random.rand(npoints)),\n",
    "                                 (y2, np.random.rand(npoints)))\n",
    "        stop_adding = time.perf_counter()\n",
    "        run_id = datasaver.run_id\n",
    "    stop = time.perf_counter()\n",
    "    tot_time = stop - start\n",
    "    add_time = stop_adding - start_adding\n",
    "    return tot_time, add_time, run_id"
   ]
  },
  {
   "cell_type": "markdown",
   "metadata": {},
   "source": [
    "## Comparison between numeric/array data and binary blob"
   ]
  },
  {
   "cell_type": "markdown",
   "metadata": {},
   "source": [
    "### Case1: Short experiment time"
   ]
  },
  {
   "cell_type": "code",
   "execution_count": 5,
   "metadata": {
    "execution": {
     "iopub.execute_input": "2020-11-12T10:57:29.556828Z",
     "iopub.status.busy": "2020-11-12T10:57:29.556176Z",
     "iopub.status.idle": "2020-11-12T10:57:30.408549Z",
     "shell.execute_reply": "2020-11-12T10:57:30.407716Z"
    }
   },
   "outputs": [
    {
     "name": "stdout",
     "output_type": "stream",
     "text": [
      "Starting experimental run with id: 1. \n",
      "Starting experimental run with id: 2. \n",
      "Starting experimental run with id: 3. \n",
      "Starting experimental run with id: 4. \n",
      "Starting experimental run with id: 5. \n"
     ]
    },
    {
     "name": "stdout",
     "output_type": "stream",
     "text": [
      "Starting experimental run with id: 6. \n"
     ]
    },
    {
     "name": "stdout",
     "output_type": "stream",
     "text": [
      "Starting experimental run with id: 7. \n"
     ]
    },
    {
     "name": "stdout",
     "output_type": "stream",
     "text": [
      "Starting experimental run with id: 8. \n",
      "Starting experimental run with id: 9. \n"
     ]
    },
    {
     "name": "stdout",
     "output_type": "stream",
     "text": [
      "Starting experimental run with id: 10. \n",
      "Starting experimental run with id: 11. \n"
     ]
    },
    {
     "name": "stdout",
     "output_type": "stream",
     "text": [
      "Starting experimental run with id: 12. \n"
     ]
    },
    {
     "name": "stdout",
     "output_type": "stream",
     "text": [
      "Starting experimental run with id: 13. \n"
     ]
    },
    {
     "name": "stdout",
     "output_type": "stream",
     "text": [
      "Starting experimental run with id: 14. \n"
     ]
    }
   ],
   "source": [
    "sizes = [1,500,1000,2000,3000,4000,5000]\n",
    "t_numeric = []\n",
    "t_numeric_add = []\n",
    "t_array = []\n",
    "t_array_add = []\n",
    "for size in sizes:\n",
    "    tn, tna, run_id_n =  insert_data('numeric', size)\n",
    "    t_numeric.append(tn)\n",
    "    t_numeric_add.append(tna)\n",
    "\n",
    "    ta, taa, run_id_a =  insert_data('array', size)\n",
    "    t_array.append(ta)\n",
    "    t_array_add.append(taa)"
   ]
  },
  {
   "cell_type": "code",
   "execution_count": 6,
   "metadata": {
    "execution": {
     "iopub.execute_input": "2020-11-12T10:57:30.427897Z",
     "iopub.status.busy": "2020-11-12T10:57:30.413383Z",
     "iopub.status.idle": "2020-11-12T10:57:30.642799Z",
     "shell.execute_reply": "2020-11-12T10:57:30.642268Z"
    }
   },
   "outputs": [
    {
     "data": {
      "image/png": "[encoded data removed]",
      "text/plain": [
       "<Figure size 432x288 with 1 Axes>"
      ]
     },
     "metadata": {
      "needs_background": "light"
     },
     "output_type": "display_data"
    }
   ],
   "source": [
    "fig, ax = plt.subplots(1,1)\n",
    "ax.plot(sizes, t_numeric, 'o-', label='Inserting row-by-row')\n",
    "ax.plot(sizes, t_numeric_add, 'o-', label='Inserting row-by-row: add_result only')\n",
    "ax.plot(sizes, t_array, 'd-', label='Inserting as binary blob')\n",
    "ax.plot(sizes, t_array_add, 'd-', label='Inserting as binary blob: add_result only')\n",
    "ax.legend()\n",
    "ax.set_xlabel('Array length')\n",
    "ax.set_ylabel('Time (s)')\n",
    "fig.tight_layout()"
   ]
  },
  {
   "cell_type": "markdown",
   "metadata": {},
   "source": [
    "As shown in the latter figure, the time to setup and and close the experiment is approximately 0.4 sec. In case of small array sizes, the difference between inserting values of data as arrays and inserting them row-by-row is relatively unimportant. At larger array sizes, i.e. above 10000 points, the cost of writing data as individual datapoints starts to become important.\n"
   ]
  },
  {
   "cell_type": "markdown",
   "metadata": {},
   "source": [
    "### Case2: Long experiment time "
   ]
  },
  {
   "cell_type": "code",
   "execution_count": 7,
   "metadata": {
    "execution": {
     "iopub.execute_input": "2020-11-12T10:57:30.650496Z",
     "iopub.status.busy": "2020-11-12T10:57:30.649004Z",
     "iopub.status.idle": "2020-11-12T10:58:30.658412Z",
     "shell.execute_reply": "2020-11-12T10:58:30.657852Z"
    }
   },
   "outputs": [
    {
     "name": "stdout",
     "output_type": "stream",
     "text": [
      "Starting experimental run with id: 15. \n",
      "Starting experimental run with id: 16. \n",
      "Starting experimental run with id: 17. \n"
     ]
    },
    {
     "name": "stdout",
     "output_type": "stream",
     "text": [
      "Starting experimental run with id: 18. \n",
      "Starting experimental run with id: 19. \n"
     ]
    },
    {
     "name": "stdout",
     "output_type": "stream",
     "text": [
      "Starting experimental run with id: 20. \n"
     ]
    },
    {
     "name": "stdout",
     "output_type": "stream",
     "text": [
      "Starting experimental run with id: 21. \n"
     ]
    },
    {
     "name": "stdout",
     "output_type": "stream",
     "text": [
      "Starting experimental run with id: 22. \n"
     ]
    },
    {
     "name": "stdout",
     "output_type": "stream",
     "text": [
      "Starting experimental run with id: 23. \n"
     ]
    },
    {
     "name": "stdout",
     "output_type": "stream",
     "text": [
      "Starting experimental run with id: 24. \n"
     ]
    },
    {
     "name": "stdout",
     "output_type": "stream",
     "text": [
      "Starting experimental run with id: 25. \n"
     ]
    },
    {
     "name": "stdout",
     "output_type": "stream",
     "text": [
      "Starting experimental run with id: 26. \n"
     ]
    },
    {
     "name": "stdout",
     "output_type": "stream",
     "text": [
      "Starting experimental run with id: 27. \n"
     ]
    },
    {
     "name": "stdout",
     "output_type": "stream",
     "text": [
      "Starting experimental run with id: 28. \n"
     ]
    }
   ],
   "source": [
    "sizes = [1,500,1000,2000,3000,4000,5000]\n",
    "nreps = 100\n",
    "t_numeric = []\n",
    "t_numeric_add = []\n",
    "t_numeric_run_ids = []\n",
    "t_array = []\n",
    "t_array_add = []\n",
    "t_array_run_ids = []\n",
    "for size in sizes:\n",
    "    tn, tna, run_id_n =  insert_data('numeric', size, nreps=nreps)\n",
    "    t_numeric.append(tn)\n",
    "    t_numeric_add.append(tna)\n",
    "    t_numeric_run_ids.append(run_id_n)\n",
    "\n",
    "    ta, taa, run_id_a =  insert_data('array', size, nreps=nreps)\n",
    "    t_array.append(ta)\n",
    "    t_array_add.append(taa)\n",
    "    t_array_run_ids.append(run_id_a)"
   ]
  },
  {
   "cell_type": "code",
   "execution_count": 8,
   "metadata": {
    "execution": {
     "iopub.execute_input": "2020-11-12T10:58:30.686660Z",
     "iopub.status.busy": "2020-11-12T10:58:30.681804Z",
     "iopub.status.idle": "2020-11-12T10:58:30.897871Z",
     "shell.execute_reply": "2020-11-12T10:58:30.898379Z"
    },
    "scrolled": true
   },
   "outputs": [
    {
     "data": {
      "image/png": "[encoded data removed]",
      "text/plain": [
       "<Figure size 432x288 with 1 Axes>"
      ]
     },
     "metadata": {
      "needs_background": "light"
     },
     "output_type": "display_data"
    }
   ],
   "source": [
    "fig, ax = plt.subplots(1,1)\n",
    "ax.plot(sizes, t_numeric, 'o-', label='Inserting row-by-row')\n",
    "ax.plot(sizes, t_numeric_add, 'o-', label='Inserting row-by-row: add_result only')\n",
    "ax.plot(sizes, t_array, 'd-', label='Inserting as binary blob')\n",
    "ax.plot(sizes, t_array_add, 'd-', label='Inserting as binary blob: add_result only')\n",
    "ax.legend()\n",
    "ax.set_xlabel('Array length')\n",
    "ax.set_ylabel('Time (s)')\n",
    "fig.tight_layout()"
   ]
  },
  {
   "cell_type": "markdown",
   "metadata": {},
   "source": [
    "However, as we increase the length of the experiment, as seen here by repeating the insertion 100 times, we see a big difference between inserting values of the data row-by-row and inserting it as a binary blob."
   ]
  },
  {
   "cell_type": "markdown",
   "metadata": {},
   "source": [
    "## Loading the data "
   ]
  },
  {
   "cell_type": "code",
   "execution_count": 9,
   "metadata": {
    "execution": {
     "iopub.execute_input": "2020-11-12T10:58:30.903164Z",
     "iopub.status.busy": "2020-11-12T10:58:30.901886Z",
     "iopub.status.idle": "2020-11-12T10:58:30.906027Z",
     "shell.execute_reply": "2020-11-12T10:58:30.905518Z"
    }
   },
   "outputs": [],
   "source": [
    "from qcodes.dataset.data_set import load_by_id\n",
    "from qcodes.dataset.data_export import get_data_by_id"
   ]
  },
  {
   "cell_type": "markdown",
   "metadata": {},
   "source": [
    "As usual you can load the data by using the ``load_by_id`` function but you will notice that the different storage methods\n",
    "are reflected in shape of the data as it is retrieved. "
   ]
  },
  {
   "cell_type": "code",
   "execution_count": 10,
   "metadata": {
    "execution": {
     "iopub.execute_input": "2020-11-12T10:58:30.910925Z",
     "iopub.status.busy": "2020-11-12T10:58:30.909585Z",
     "iopub.status.idle": "2020-11-12T10:58:30.911606Z",
     "shell.execute_reply": "2020-11-12T10:58:30.912172Z"
    }
   },
   "outputs": [],
   "source": [
    "run_id_n = t_numeric_run_ids[0]\n",
    "run_id_a = t_array_run_ids[0]"
   ]
  },
  {
   "cell_type": "code",
   "execution_count": 11,
   "metadata": {
    "execution": {
     "iopub.execute_input": "2020-11-12T10:58:30.915850Z",
     "iopub.status.busy": "2020-11-12T10:58:30.915235Z",
     "iopub.status.idle": "2020-11-12T10:58:30.925001Z",
     "shell.execute_reply": "2020-11-12T10:58:30.925476Z"
    },
    "scrolled": true
   },
   "outputs": [
    {
     "data": {
      "text/plain": [
       "{'x1': {'x1': array([0.986909  , 0.986909  , 0.77071893, 0.77071893, 0.65869815,\n",
       "         0.65869815, 0.74184074, 0.74184074, 0.91046086, 0.91046086,\n",
       "         0.06240194, 0.06240194, 0.6447145 , 0.6447145 , 0.00851691,\n",
       "         0.00851691, 0.27541911, 0.27541911, 0.860632  , 0.860632  ,\n",
       "         0.3266555 , 0.3266555 , 0.58640995, 0.58640995, 0.37502879,\n",
       "         0.37502879, 0.81088034, 0.81088034, 0.29967843, 0.29967843,\n",
       "         0.54688955, 0.54688955, 0.56424815, 0.56424815, 0.72031862,\n",
       "         0.72031862, 0.79616904, 0.79616904, 0.97226137, 0.97226137,\n",
       "         0.1042554 , 0.1042554 , 0.51506701, 0.51506701, 0.33138056,\n",
       "         0.33138056, 0.96109212, 0.96109212, 0.58745772, 0.58745772,\n",
       "         0.78779467, 0.78779467, 0.60374726, 0.60374726, 0.25955063,\n",
       "         0.25955063, 0.97778132, 0.97778132, 0.29390225, 0.29390225,\n",
       "         0.4740898 , 0.4740898 , 0.65387467, 0.65387467, 0.84694457,\n",
       "         0.84694457, 0.61823616, 0.61823616, 0.51192869, 0.51192869,\n",
       "         0.29274019, 0.29274019, 0.87302176, 0.87302176, 0.64096235,\n",
       "         0.64096235, 0.33358396, 0.33358396, 0.13522413, 0.13522413,\n",
       "         0.74656065, 0.74656065, 0.4093923 , 0.4093923 , 0.11469172,\n",
       "         0.11469172, 0.63342687, 0.63342687, 0.98623113, 0.98623113,\n",
       "         0.19820892, 0.19820892, 0.30373411, 0.30373411, 0.87529372,\n",
       "         0.87529372, 0.5023336 , 0.5023336 , 0.56628627, 0.56628627,\n",
       "         0.15106459, 0.15106459, 0.36770181, 0.36770181, 0.52164535,\n",
       "         0.52164535, 0.84791154, 0.84791154, 0.2607736 , 0.2607736 ,\n",
       "         0.87904023, 0.87904023, 0.62913233, 0.62913233, 0.60056402,\n",
       "         0.60056402, 0.60169236, 0.60169236, 0.27100771, 0.27100771,\n",
       "         0.29708435, 0.29708435, 0.48031191, 0.48031191, 0.18727721,\n",
       "         0.18727721, 0.7280258 , 0.7280258 , 0.44907964, 0.44907964,\n",
       "         0.98126825, 0.98126825, 0.88386114, 0.88386114, 0.85319945,\n",
       "         0.85319945, 0.92849256, 0.92849256, 0.34625426, 0.34625426,\n",
       "         0.01724613, 0.01724613, 0.13011226, 0.13011226, 0.68875174,\n",
       "         0.68875174, 0.14939622, 0.14939622, 0.13966382, 0.13966382,\n",
       "         0.24985266, 0.24985266, 0.48900931, 0.48900931, 0.24462808,\n",
       "         0.24462808, 0.32541226, 0.32541226, 0.1547502 , 0.1547502 ,\n",
       "         0.62104328, 0.62104328, 0.02303798, 0.02303798, 0.75478124,\n",
       "         0.75478124, 0.2023073 , 0.2023073 , 0.50515407, 0.50515407,\n",
       "         0.94191475, 0.94191475, 0.54078178, 0.54078178, 0.37767126,\n",
       "         0.37767126, 0.85402139, 0.85402139, 0.54280081, 0.54280081,\n",
       "         0.75609044, 0.75609044, 0.63935919, 0.63935919, 0.42116971,\n",
       "         0.42116971, 0.06434674, 0.06434674, 0.5001156 , 0.5001156 ,\n",
       "         0.43538847, 0.43538847, 0.81584117, 0.81584117, 0.35792069,\n",
       "         0.35792069, 0.05979744, 0.05979744, 0.55809408, 0.55809408])}}"
      ]
     },
     "execution_count": 1,
     "metadata": {},
     "output_type": "execute_result"
    }
   ],
   "source": [
    "ds = load_by_id(run_id_n)\n",
    "ds.get_parameter_data('x1')"
   ]
  },
  {
   "cell_type": "markdown",
   "metadata": {},
   "source": [
    "And a dataset stored as binary arrays"
   ]
  },
  {
   "cell_type": "code",
   "execution_count": 12,
   "metadata": {
    "execution": {
     "iopub.execute_input": "2020-11-12T10:58:30.929263Z",
     "iopub.status.busy": "2020-11-12T10:58:30.928648Z",
     "iopub.status.idle": "2020-11-12T10:58:30.996228Z",
     "shell.execute_reply": "2020-11-12T10:58:30.996852Z"
    },
    "scrolled": true
   },
   "outputs": [
    {
     "data": {
      "text/plain": [
       "{'x1': {'x1': array([[0.50726944],\n",
       "         [0.50726944],\n",
       "         [0.83927587],\n",
       "         [0.83927587],\n",
       "         [0.02977521],\n",
       "         [0.02977521],\n",
       "         [0.43014728],\n",
       "         [0.43014728],\n",
       "         [0.96075087],\n",
       "         [0.96075087],\n",
       "         [0.46834723],\n",
       "         [0.46834723],\n",
       "         [0.55284375],\n",
       "         [0.55284375],\n",
       "         [0.68420108],\n",
       "         [0.68420108],\n",
       "         [0.73280919],\n",
       "         [0.73280919],\n",
       "         [0.91144054],\n",
       "         [0.91144054],\n",
       "         [0.09627854],\n",
       "         [0.09627854],\n",
       "         [0.66208175],\n",
       "         [0.66208175],\n",
       "         [0.75920518],\n",
       "         [0.75920518],\n",
       "         [0.94133049],\n",
       "         [0.94133049],\n",
       "         [0.62466494],\n",
       "         [0.62466494],\n",
       "         [0.59065304],\n",
       "         [0.59065304],\n",
       "         [0.92334054],\n",
       "         [0.92334054],\n",
       "         [0.69083884],\n",
       "         [0.69083884],\n",
       "         [0.38789025],\n",
       "         [0.38789025],\n",
       "         [0.00172365],\n",
       "         [0.00172365],\n",
       "         [0.52935911],\n",
       "         [0.52935911],\n",
       "         [0.37239691],\n",
       "         [0.37239691],\n",
       "         [0.37187621],\n",
       "         [0.37187621],\n",
       "         [0.66292753],\n",
       "         [0.66292753],\n",
       "         [0.65534535],\n",
       "         [0.65534535],\n",
       "         [0.38063919],\n",
       "         [0.38063919],\n",
       "         [0.36053018],\n",
       "         [0.36053018],\n",
       "         [0.90582582],\n",
       "         [0.90582582],\n",
       "         [0.59751775],\n",
       "         [0.59751775],\n",
       "         [0.36838217],\n",
       "         [0.36838217],\n",
       "         [0.59716273],\n",
       "         [0.59716273],\n",
       "         [0.84070295],\n",
       "         [0.84070295],\n",
       "         [0.34945772],\n",
       "         [0.34945772],\n",
       "         [0.17133894],\n",
       "         [0.17133894],\n",
       "         [0.08688477],\n",
       "         [0.08688477],\n",
       "         [0.36663064],\n",
       "         [0.36663064],\n",
       "         [0.12780809],\n",
       "         [0.12780809],\n",
       "         [0.65780642],\n",
       "         [0.65780642],\n",
       "         [0.19133118],\n",
       "         [0.19133118],\n",
       "         [0.08957659],\n",
       "         [0.08957659],\n",
       "         [0.17494993],\n",
       "         [0.17494993],\n",
       "         [0.51089872],\n",
       "         [0.51089872],\n",
       "         [0.13117891],\n",
       "         [0.13117891],\n",
       "         [0.30922033],\n",
       "         [0.30922033],\n",
       "         [0.44418623],\n",
       "         [0.44418623],\n",
       "         [0.26276754],\n",
       "         [0.26276754],\n",
       "         [0.01298409],\n",
       "         [0.01298409],\n",
       "         [0.12763644],\n",
       "         [0.12763644],\n",
       "         [0.09993276],\n",
       "         [0.09993276],\n",
       "         [0.00490291],\n",
       "         [0.00490291],\n",
       "         [0.07006249],\n",
       "         [0.07006249],\n",
       "         [0.82379363],\n",
       "         [0.82379363],\n",
       "         [0.74677155],\n",
       "         [0.74677155],\n",
       "         [0.26903189],\n",
       "         [0.26903189],\n",
       "         [0.55592579],\n",
       "         [0.55592579],\n",
       "         [0.32206213],\n",
       "         [0.32206213],\n",
       "         [0.72935974],\n",
       "         [0.72935974],\n",
       "         [0.96176417],\n",
       "         [0.96176417],\n",
       "         [0.38434697],\n",
       "         [0.38434697],\n",
       "         [0.48291515],\n",
       "         [0.48291515],\n",
       "         [0.85576526],\n",
       "         [0.85576526],\n",
       "         [0.11523376],\n",
       "         [0.11523376],\n",
       "         [0.3101964 ],\n",
       "         [0.3101964 ],\n",
       "         [0.5120751 ],\n",
       "         [0.5120751 ],\n",
       "         [0.94195788],\n",
       "         [0.94195788],\n",
       "         [0.93876352],\n",
       "         [0.93876352],\n",
       "         [0.58957968],\n",
       "         [0.58957968],\n",
       "         [0.73790303],\n",
       "         [0.73790303],\n",
       "         [0.6821067 ],\n",
       "         [0.6821067 ],\n",
       "         [0.96774513],\n",
       "         [0.96774513],\n",
       "         [0.17502406],\n",
       "         [0.17502406],\n",
       "         [0.99910433],\n",
       "         [0.99910433],\n",
       "         [0.89178204],\n",
       "         [0.89178204],\n",
       "         [0.19181462],\n",
       "         [0.19181462],\n",
       "         [0.81464023],\n",
       "         [0.81464023],\n",
       "         [0.88526222],\n",
       "         [0.88526222],\n",
       "         [0.26296053],\n",
       "         [0.26296053],\n",
       "         [0.66288048],\n",
       "         [0.66288048],\n",
       "         [0.51176843],\n",
       "         [0.51176843],\n",
       "         [0.47113307],\n",
       "         [0.47113307],\n",
       "         [0.80195942],\n",
       "         [0.80195942],\n",
       "         [0.09888917],\n",
       "         [0.09888917],\n",
       "         [0.35853003],\n",
       "         [0.35853003],\n",
       "         [0.66829466],\n",
       "         [0.66829466],\n",
       "         [0.58996982],\n",
       "         [0.58996982],\n",
       "         [0.43296887],\n",
       "         [0.43296887],\n",
       "         [0.0043589 ],\n",
       "         [0.0043589 ],\n",
       "         [0.42371487],\n",
       "         [0.42371487],\n",
       "         [0.6020368 ],\n",
       "         [0.6020368 ],\n",
       "         [0.80098789],\n",
       "         [0.80098789],\n",
       "         [0.46435744],\n",
       "         [0.46435744],\n",
       "         [0.6983165 ],\n",
       "         [0.6983165 ],\n",
       "         [0.73339309],\n",
       "         [0.73339309],\n",
       "         [0.73991165],\n",
       "         [0.73991165],\n",
       "         [0.95539274],\n",
       "         [0.95539274],\n",
       "         [0.50120296],\n",
       "         [0.50120296],\n",
       "         [0.69961233],\n",
       "         [0.69961233],\n",
       "         [0.41782193],\n",
       "         [0.41782193],\n",
       "         [0.34576272],\n",
       "         [0.34576272],\n",
       "         [0.65908159],\n",
       "         [0.65908159]])}}"
      ]
     },
     "execution_count": 1,
     "metadata": {},
     "output_type": "execute_result"
    }
   ],
   "source": [
    "ds = load_by_id(run_id_a)\n",
    "ds.get_parameter_data('x1')"
   ]
  },
  {
   "cell_type": "code",
   "execution_count": null,
   "metadata": {},
   "outputs": [],
   "source": []
  }
 ],
 "metadata": {
  "kernelspec": {
   "display_name": "Python 3",
   "language": "python",
   "name": "python3"
  },
  "language_info": {
   "codemirror_mode": {
    "name": "ipython",
    "version": 3
   },
   "file_extension": ".py",
   "mimetype": "text/x-python",
   "name": "python",
   "nbconvert_exporter": "python",
   "pygments_lexer": "ipython3",
   "version": "3.7.9"
  },
  "nbsphinx": {
   "timeout": 600
  },
  "toc": {
   "base_numbering": 1,
   "nav_menu": {},
   "number_sections": true,
   "sideBar": true,
   "skip_h1_title": false,
   "title_cell": "Table of Contents",
   "title_sidebar": "Contents",
   "toc_cell": false,
   "toc_position": {},
   "toc_section_display": true,
   "toc_window_display": false
  },
  "varInspector": {
   "cols": {
    "lenName": 16,
    "lenType": 16,
    "lenVar": 40
   },
   "kernels_config": {
    "python": {
     "delete_cmd_postfix": "",
     "delete_cmd_prefix": "del ",
     "library": "var_list.py",
     "varRefreshCmd": "print(var_dic_list())"
    },
    "r": {
     "delete_cmd_postfix": ") ",
     "delete_cmd_prefix": "rm(",
     "library": "var_list.r",
     "varRefreshCmd": "cat(var_dic_list()) "
    }
   },
   "types_to_exclude": [
    "module",
    "function",
    "builtin_function_or_method",
    "instance",
    "_Feature"
   ],
   "window_display": false
  }
 },
 "nbformat": 4,
 "nbformat_minor": 2
}
