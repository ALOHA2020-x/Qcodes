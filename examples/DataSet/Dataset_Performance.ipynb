{
 "cells": [
  {
   "cell_type": "markdown",
   "metadata": {},
   "source": [
    "# DataSet Performance\n",
    "\n",
    "This notebook shows the trade-off between inserting data into a database row-by-row and as binary blobs. Inserting the data row-by-row means that we have direct access to all the data and may perform queries directly on the values of the data. On the other hand, as we shall see, this is much slower than inserting the data directly as binary blobs."
   ]
  },
  {
   "cell_type": "markdown",
   "metadata": {},
   "source": [
    "First, we choose a new location for the database to ensure that we don't add a bunch of benchmarking data to the default one."
   ]
  },
  {
   "cell_type": "code",
   "execution_count": 1,
   "metadata": {},
   "outputs": [
    {
     "name": "stdout",
     "output_type": "stream",
     "text": [
      "Logging hadn't been started.\n",
      "Activating auto-logging. Current session state plus future input saved.\n",
      "Filename       : /home/vsts/.qcodes/logs/command_history.log\n",
      "Mode           : append\n",
      "Output logging : True\n",
      "Raw input log  : False\n",
      "Timestamping   : True\n",
      "State          : active\n"
     ]
    },
    {
     "name": "stdout",
     "output_type": "stream",
     "text": [
      "Qcodes Logfile : /home/vsts/.qcodes/logs/200813-18519-qcodes.log\n"
     ]
    }
   ],
   "source": [
    "import os\n",
    "cwd = os.getcwd()\n",
    "import qcodes as qc\n",
    "qc.config[\"core\"][\"db_location\"] = os.path.join(cwd, 'testing.db')\n"
   ]
  },
  {
   "cell_type": "code",
   "execution_count": 2,
   "metadata": {},
   "outputs": [],
   "source": [
    "%matplotlib inline\n",
    "import time\n",
    "import matplotlib.pyplot as plt\n",
    "import numpy as np\n",
    "\n",
    "import qcodes as qc\n",
    "from qcodes.instrument.parameter import ManualParameter\n",
    "from qcodes.dataset.experiment_container import (Experiment,\n",
    "                                                 load_last_experiment,\n",
    "                                                 new_experiment)\n",
    "from qcodes.dataset.sqlite.database import initialise_database\n",
    "from qcodes import load_or_create_experiment\n",
    "from qcodes.dataset.measurements import Measurement"
   ]
  },
  {
   "cell_type": "code",
   "execution_count": 3,
   "metadata": {},
   "outputs": [
    {
     "name": "stdout",
     "output_type": "stream",
     "text": [
      "\r",
      "0it [00:00, ?it/s]"
     ]
    },
    {
     "name": "stdout",
     "output_type": "stream",
     "text": [
      "\r",
      "Upgrading database; v0 -> v1: : 0it [00:00, ?it/s]"
     ]
    },
    {
     "name": "stdout",
     "output_type": "stream",
     "text": [
      "\r",
      "Upgrading database; v0 -> v1: : 0it [00:00, ?it/s]"
     ]
    },
    {
     "name": "stdout",
     "output_type": "stream",
     "text": [
      "\n",
      "\r",
      "  0%|          | 0/1 [00:00<?, ?it/s]"
     ]
    },
    {
     "name": "stdout",
     "output_type": "stream",
     "text": [
      "\r",
      "Upgrading database; v1 -> v2:   0%|          | 0/1 [00:00<?, ?it/s]"
     ]
    },
    {
     "name": "stdout",
     "output_type": "stream",
     "text": [
      "\r",
      "Upgrading database; v1 -> v2: 100%|██████████| 1/1 [00:00<00:00, 933.94it/s]"
     ]
    },
    {
     "name": "stdout",
     "output_type": "stream",
     "text": [
      "\n",
      "\r",
      "0it [00:00, ?it/s]"
     ]
    },
    {
     "name": "stdout",
     "output_type": "stream",
     "text": [
      "\r",
      "Upgrading database; v2 -> v3: : 0it [00:00, ?it/s]"
     ]
    },
    {
     "name": "stdout",
     "output_type": "stream",
     "text": [
      "\r",
      "Upgrading database; v2 -> v3: : 0it [00:00, ?it/s]"
     ]
    },
    {
     "name": "stdout",
     "output_type": "stream",
     "text": [
      "\n",
      "\r",
      "0it [00:00, ?it/s]"
     ]
    },
    {
     "name": "stdout",
     "output_type": "stream",
     "text": [
      "\r",
      "Upgrading database; v3 -> v4: : 0it [00:00, ?it/s]"
     ]
    },
    {
     "name": "stdout",
     "output_type": "stream",
     "text": [
      "\r",
      "Upgrading database; v3 -> v4: : 0it [00:00, ?it/s]"
     ]
    },
    {
     "name": "stdout",
     "output_type": "stream",
     "text": [
      "\n",
      "\r",
      "  0%|          | 0/1 [00:00<?, ?it/s]"
     ]
    },
    {
     "name": "stdout",
     "output_type": "stream",
     "text": [
      "\r",
      "Upgrading database; v4 -> v5:   0%|          | 0/1 [00:00<?, ?it/s]"
     ]
    },
    {
     "name": "stdout",
     "output_type": "stream",
     "text": [
      "\r",
      "Upgrading database; v4 -> v5: 100%|██████████| 1/1 [00:00<00:00, 956.08it/s]"
     ]
    },
    {
     "name": "stdout",
     "output_type": "stream",
     "text": [
      "\n",
      "\r",
      "0it [00:00, ?it/s]"
     ]
    },
    {
     "name": "stdout",
     "output_type": "stream",
     "text": [
      "\r",
      "Upgrading database; v5 -> v6: : 0it [00:00, ?it/s]"
     ]
    },
    {
     "name": "stdout",
     "output_type": "stream",
     "text": [
      "\r",
      "Upgrading database; v5 -> v6: : 0it [00:00, ?it/s]"
     ]
    },
    {
     "name": "stdout",
     "output_type": "stream",
     "text": [
      "\n",
      "\r",
      "  0%|          | 0/1 [00:00<?, ?it/s]"
     ]
    },
    {
     "name": "stdout",
     "output_type": "stream",
     "text": [
      "\r",
      "Upgrading database; v6 -> v7:   0%|          | 0/1 [00:00<?, ?it/s]"
     ]
    },
    {
     "name": "stdout",
     "output_type": "stream",
     "text": [
      "\r",
      "Upgrading database; v6 -> v7: 100%|██████████| 1/1 [00:00<00:00, 471.91it/s]"
     ]
    },
    {
     "name": "stdout",
     "output_type": "stream",
     "text": [
      "\n",
      "\r",
      "  0%|          | 0/1 [00:00<?, ?it/s]"
     ]
    },
    {
     "name": "stdout",
     "output_type": "stream",
     "text": [
      "\r",
      "Upgrading database; v7 -> v8:   0%|          | 0/1 [00:00<?, ?it/s]"
     ]
    },
    {
     "name": "stdout",
     "output_type": "stream",
     "text": [
      "\r",
      "Upgrading database; v7 -> v8: 100%|██████████| 1/1 [00:00<00:00, 793.17it/s]"
     ]
    },
    {
     "name": "stdout",
     "output_type": "stream",
     "text": [
      "\n",
      "\r",
      "  0%|          | 0/1 [00:00<?, ?it/s]"
     ]
    },
    {
     "name": "stdout",
     "output_type": "stream",
     "text": [
      "\r",
      "Upgrading database; v8 -> v9:   0%|          | 0/1 [00:00<?, ?it/s]"
     ]
    },
    {
     "name": "stdout",
     "output_type": "stream",
     "text": [
      "\r",
      "Upgrading database; v8 -> v9: 100%|██████████| 1/1 [00:00<00:00, 950.87it/s]"
     ]
    },
    {
     "name": "stdout",
     "output_type": "stream",
     "text": [
      "\n"
     ]
    }
   ],
   "source": [
    "initialise_database()\n",
    "exp = load_or_create_experiment(experiment_name='tutorial_exp', sample_name=\"no sample\")"
   ]
  },
  {
   "cell_type": "markdown",
   "metadata": {},
   "source": [
    "Here, we define a simple function to benchmark the time it takes to insert n points with either numeric or array data type.\n",
    "We will compare both the time used to call ``add_result`` and the time used for the full measurement."
   ]
  },
  {
   "cell_type": "code",
   "execution_count": 4,
   "metadata": {},
   "outputs": [],
   "source": [
    "def insert_data(paramtype, npoints, nreps=1):\n",
    "\n",
    "    meas = Measurement(exp=exp)\n",
    "\n",
    "    x1 = ManualParameter('x1')\n",
    "    x2 = ManualParameter('x2')\n",
    "    x3 = ManualParameter('x3')\n",
    "    y1 = ManualParameter('y1')\n",
    "    y2 = ManualParameter('y2')\n",
    "\n",
    "    meas.register_parameter(x1, paramtype=paramtype)\n",
    "    meas.register_parameter(x2, paramtype=paramtype)\n",
    "    meas.register_parameter(x3, paramtype=paramtype)\n",
    "    meas.register_parameter(y1, setpoints=[x1, x2, x3],\n",
    "                            paramtype=paramtype)\n",
    "    meas.register_parameter(y2, setpoints=[x1, x2, x3],\n",
    "                            paramtype=paramtype)\n",
    "    start = time.perf_counter()\n",
    "    with meas.run() as datasaver:\n",
    "        start_adding = time.perf_counter()\n",
    "        for i in range(nreps):\n",
    "            datasaver.add_result((x1, np.random.rand(npoints)),\n",
    "                                 (x2, np.random.rand(npoints)),\n",
    "                                 (x3, np.random.rand(npoints)),\n",
    "                                 (y1, np.random.rand(npoints)),\n",
    "                                 (y2, np.random.rand(npoints)))\n",
    "        stop_adding = time.perf_counter()\n",
    "        run_id = datasaver.run_id\n",
    "    stop = time.perf_counter()\n",
    "    tot_time = stop - start\n",
    "    add_time = stop_adding - start_adding\n",
    "    return tot_time, add_time, run_id"
   ]
  },
  {
   "cell_type": "markdown",
   "metadata": {},
   "source": [
    "## Comparison between numeric/array data and binary blob"
   ]
  },
  {
   "cell_type": "markdown",
   "metadata": {},
   "source": [
    "### Case1: Short experiment time"
   ]
  },
  {
   "cell_type": "code",
   "execution_count": 5,
   "metadata": {},
   "outputs": [
    {
     "name": "stdout",
     "output_type": "stream",
     "text": [
      "Starting experimental run with id: 1. \n",
      "Starting experimental run with id: 2. \n",
      "Starting experimental run with id: 3. \n",
      "Starting experimental run with id: 4. \n",
      "Starting experimental run with id: 5. \n"
     ]
    },
    {
     "name": "stdout",
     "output_type": "stream",
     "text": [
      "Starting experimental run with id: 6. "
     ]
    },
    {
     "name": "stdout",
     "output_type": "stream",
     "text": [
      "\n"
     ]
    },
    {
     "name": "stdout",
     "output_type": "stream",
     "text": [
      "Starting experimental run with id: 7. \n"
     ]
    },
    {
     "name": "stdout",
     "output_type": "stream",
     "text": [
      "Starting experimental run with id: 8. \n",
      "Starting experimental run with id: 9. \n"
     ]
    },
    {
     "name": "stdout",
     "output_type": "stream",
     "text": [
      "Starting experimental run with id: 10. \n"
     ]
    },
    {
     "name": "stdout",
     "output_type": "stream",
     "text": [
      "Starting experimental run with id: 11. \n"
     ]
    },
    {
     "name": "stdout",
     "output_type": "stream",
     "text": [
      "Starting experimental run with id: 12. \n",
      "Starting experimental run with id: 13. \n"
     ]
    },
    {
     "name": "stdout",
     "output_type": "stream",
     "text": [
      "Starting experimental run with id: 14. \n"
     ]
    }
   ],
   "source": [
    "sizes = [1,500,1000,2000,3000,4000,5000]\n",
    "t_numeric = []\n",
    "t_numeric_add = []\n",
    "t_array = []\n",
    "t_array_add = []\n",
    "for size in sizes:\n",
    "    tn, tna, run_id_n =  insert_data('numeric', size)\n",
    "    t_numeric.append(tn)\n",
    "    t_numeric_add.append(tna)\n",
    "\n",
    "    ta, taa, run_id_a =  insert_data('array', size)\n",
    "    t_array.append(ta)\n",
    "    t_array_add.append(taa)"
   ]
  },
  {
   "cell_type": "code",
   "execution_count": 6,
   "metadata": {},
   "outputs": [
    {
     "data": {
      "image/png": "[encoded data removed]",
      "text/plain": [
       "<Figure size 432x288 with 1 Axes>"
      ]
     },
     "metadata": {
      "needs_background": "light"
     },
     "output_type": "display_data"
    }
   ],
   "source": [
    "fig, ax = plt.subplots(1,1)\n",
    "ax.plot(sizes, t_numeric, 'o-', label='Inserting row-by-row')\n",
    "ax.plot(sizes, t_numeric_add, 'o-', label='Inserting row-by-row: add_result only')\n",
    "ax.plot(sizes, t_array, 'd-', label='Inserting as binary blob')\n",
    "ax.plot(sizes, t_array_add, 'd-', label='Inserting as binary blob: add_result only')\n",
    "ax.legend()\n",
    "ax.set_xlabel('Array length')\n",
    "ax.set_ylabel('Time (s)')\n",
    "fig.tight_layout()"
   ]
  },
  {
   "cell_type": "markdown",
   "metadata": {},
   "source": [
    "As shown in the latter figure, the time to setup and and close the experiment is approximately 0.4 sec. In case of small array sizes, the difference between inserting values of data as arrays and inserting them row-by-row is relatively unimportant. At larger array sizes, i.e. above 10000 points, the cost of writing data as individual datapoints starts to become important.\n"
   ]
  },
  {
   "cell_type": "markdown",
   "metadata": {},
   "source": [
    "### Case2: Long experiment time "
   ]
  },
  {
   "cell_type": "code",
   "execution_count": 7,
   "metadata": {},
   "outputs": [
    {
     "name": "stdout",
     "output_type": "stream",
     "text": [
      "Starting experimental run with id: 15. \n",
      "Starting experimental run with id: 16. \n",
      "Starting experimental run with id: 17. \n"
     ]
    },
    {
     "name": "stdout",
     "output_type": "stream",
     "text": [
      "Starting experimental run with id: 18. \n",
      "Starting experimental run with id: 19. \n"
     ]
    },
    {
     "name": "stdout",
     "output_type": "stream",
     "text": [
      "Starting experimental run with id: 20. \n"
     ]
    },
    {
     "name": "stdout",
     "output_type": "stream",
     "text": [
      "Starting experimental run with id: 21. \n"
     ]
    },
    {
     "name": "stdout",
     "output_type": "stream",
     "text": [
      "Starting experimental run with id: 22. \n"
     ]
    },
    {
     "name": "stdout",
     "output_type": "stream",
     "text": [
      "Starting experimental run with id: 23. \n"
     ]
    },
    {
     "name": "stdout",
     "output_type": "stream",
     "text": [
      "Starting experimental run with id: 24. \n"
     ]
    },
    {
     "name": "stdout",
     "output_type": "stream",
     "text": [
      "Starting experimental run with id: 25. \n"
     ]
    },
    {
     "name": "stdout",
     "output_type": "stream",
     "text": [
      "Starting experimental run with id: 26. \n"
     ]
    },
    {
     "name": "stdout",
     "output_type": "stream",
     "text": [
      "Starting experimental run with id: 27. \n"
     ]
    },
    {
     "name": "stdout",
     "output_type": "stream",
     "text": [
      "Starting experimental run with id: 28. \n"
     ]
    }
   ],
   "source": [
    "sizes = [1,500,1000,2000,3000,4000,5000]\n",
    "nreps = 100\n",
    "t_numeric = []\n",
    "t_numeric_add = []\n",
    "t_numeric_run_ids = []\n",
    "t_array = []\n",
    "t_array_add = []\n",
    "t_array_run_ids = []\n",
    "for size in sizes:\n",
    "    tn, tna, run_id_n =  insert_data('numeric', size, nreps=nreps)\n",
    "    t_numeric.append(tn)\n",
    "    t_numeric_add.append(tna)\n",
    "    t_numeric_run_ids.append(run_id_n)\n",
    "\n",
    "    ta, taa, run_id_a =  insert_data('array', size, nreps=nreps)\n",
    "    t_array.append(ta)\n",
    "    t_array_add.append(taa)\n",
    "    t_array_run_ids.append(run_id_a)"
   ]
  },
  {
   "cell_type": "code",
   "execution_count": 8,
   "metadata": {
    "scrolled": true
   },
   "outputs": [
    {
     "data": {
      "image/png": "[encoded data removed]",
      "text/plain": [
       "<Figure size 432x288 with 1 Axes>"
      ]
     },
     "metadata": {
      "needs_background": "light"
     },
     "output_type": "display_data"
    }
   ],
   "source": [
    "fig, ax = plt.subplots(1,1)\n",
    "ax.plot(sizes, t_numeric, 'o-', label='Inserting row-by-row')\n",
    "ax.plot(sizes, t_numeric_add, 'o-', label='Inserting row-by-row: add_result only')\n",
    "ax.plot(sizes, t_array, 'd-', label='Inserting as binary blob')\n",
    "ax.plot(sizes, t_array_add, 'd-', label='Inserting as binary blob: add_result only')\n",
    "ax.legend()\n",
    "ax.set_xlabel('Array length')\n",
    "ax.set_ylabel('Time (s)')\n",
    "fig.tight_layout()"
   ]
  },
  {
   "cell_type": "markdown",
   "metadata": {},
   "source": [
    "However, as we increase the length of the experiment, as seen here by repeating the insertion 100 times, we see a big difference between inserting values of the data row-by-row and inserting it as a binary blob."
   ]
  },
  {
   "cell_type": "markdown",
   "metadata": {},
   "source": [
    "## Loading the data "
   ]
  },
  {
   "cell_type": "code",
   "execution_count": 9,
   "metadata": {},
   "outputs": [],
   "source": [
    "from qcodes.dataset.data_set import load_by_id\n",
    "from qcodes.dataset.data_export import get_data_by_id"
   ]
  },
  {
   "cell_type": "markdown",
   "metadata": {},
   "source": [
    "As usual you can load the data by using the ``load_by_id`` function but you will notice that the different storage methods\n",
    "are reflected in shape of the data as it is retrieved. "
   ]
  },
  {
   "cell_type": "code",
   "execution_count": 10,
   "metadata": {},
   "outputs": [],
   "source": [
    "run_id_n = t_numeric_run_ids[0]\n",
    "run_id_a = t_array_run_ids[0]"
   ]
  },
  {
   "cell_type": "code",
   "execution_count": 11,
   "metadata": {
    "scrolled": true
   },
   "outputs": [
    {
     "data": {
      "text/plain": [
       "{'x1': {'x1': array([0.6816105 , 0.6816105 , 0.5655321 , 0.5655321 , 0.01585015,\n",
       "         0.01585015, 0.86381539, 0.86381539, 0.25596241, 0.25596241,\n",
       "         0.77376707, 0.77376707, 0.07124782, 0.07124782, 0.91051089,\n",
       "         0.91051089, 0.74451705, 0.74451705, 0.92833503, 0.92833503,\n",
       "         0.73965779, 0.73965779, 0.02564978, 0.02564978, 0.22813565,\n",
       "         0.22813565, 0.0539979 , 0.0539979 , 0.7399978 , 0.7399978 ,\n",
       "         0.91305255, 0.91305255, 0.02718972, 0.02718972, 0.10653266,\n",
       "         0.10653266, 0.06052812, 0.06052812, 0.73444511, 0.73444511,\n",
       "         0.22487466, 0.22487466, 0.33833055, 0.33833055, 0.71319743,\n",
       "         0.71319743, 0.36344052, 0.36344052, 0.58297696, 0.58297696,\n",
       "         0.52386388, 0.52386388, 0.38541115, 0.38541115, 0.22973593,\n",
       "         0.22973593, 0.63425679, 0.63425679, 0.97739155, 0.97739155,\n",
       "         0.74317564, 0.74317564, 0.59452615, 0.59452615, 0.24233652,\n",
       "         0.24233652, 0.72995171, 0.72995171, 0.434393  , 0.434393  ,\n",
       "         0.48990122, 0.48990122, 0.28083693, 0.28083693, 0.77771041,\n",
       "         0.77771041, 0.58273506, 0.58273506, 0.77925653, 0.77925653,\n",
       "         0.02791687, 0.02791687, 0.24953119, 0.24953119, 0.16299619,\n",
       "         0.16299619, 0.70901049, 0.70901049, 0.91715141, 0.91715141,\n",
       "         0.75242005, 0.75242005, 0.09411543, 0.09411543, 0.83221237,\n",
       "         0.83221237, 0.70342413, 0.70342413, 0.01753113, 0.01753113,\n",
       "         0.67663417, 0.67663417, 0.54473587, 0.54473587, 0.38333963,\n",
       "         0.38333963, 0.04822994, 0.04822994, 0.88926921, 0.88926921,\n",
       "         0.7625766 , 0.7625766 , 0.67291322, 0.67291322, 0.33148025,\n",
       "         0.33148025, 0.88007936, 0.88007936, 0.07741771, 0.07741771,\n",
       "         0.13641543, 0.13641543, 0.32921592, 0.32921592, 0.16892208,\n",
       "         0.16892208, 0.74086446, 0.74086446, 0.22072115, 0.22072115,\n",
       "         0.96242066, 0.96242066, 0.05829333, 0.05829333, 0.69349402,\n",
       "         0.69349402, 0.232897  , 0.232897  , 0.36108798, 0.36108798,\n",
       "         0.54819103, 0.54819103, 0.92545135, 0.92545135, 0.74981511,\n",
       "         0.74981511, 0.17375748, 0.17375748, 0.95341989, 0.95341989,\n",
       "         0.23176482, 0.23176482, 0.44034754, 0.44034754, 0.32651809,\n",
       "         0.32651809, 0.85909048, 0.85909048, 0.85628445, 0.85628445,\n",
       "         0.38390026, 0.38390026, 0.18841878, 0.18841878, 0.3010478 ,\n",
       "         0.3010478 , 0.90534197, 0.90534197, 0.93442964, 0.93442964,\n",
       "         0.05077963, 0.05077963, 0.8055651 , 0.8055651 , 0.13762613,\n",
       "         0.13762613, 0.96101688, 0.96101688, 0.74276176, 0.74276176,\n",
       "         0.19734405, 0.19734405, 0.8330667 , 0.8330667 , 0.08606012,\n",
       "         0.08606012, 0.23108672, 0.23108672, 0.32905803, 0.32905803,\n",
       "         0.52693125, 0.52693125, 0.14008694, 0.14008694, 0.18434835,\n",
       "         0.18434835, 0.774872  , 0.774872  , 0.8815555 , 0.8815555 ])}}"
      ]
     },
     "execution_count": 11,
     "metadata": {},
     "output_type": "execute_result"
    }
   ],
   "source": [
    "ds = load_by_id(run_id_n)\n",
    "ds.get_parameter_data('x1')"
   ]
  },
  {
   "cell_type": "markdown",
   "metadata": {},
   "source": [
    "And a dataset stored as binary arrays"
   ]
  },
  {
   "cell_type": "code",
   "execution_count": 12,
   "metadata": {
    "scrolled": true
   },
   "outputs": [
    {
     "data": {
      "text/plain": [
       "{'x1': {'x1': array([[0.51615694],\n",
       "         [0.51615694],\n",
       "         [0.75652364],\n",
       "         [0.75652364],\n",
       "         [0.05695374],\n",
       "         [0.05695374],\n",
       "         [0.56734793],\n",
       "         [0.56734793],\n",
       "         [0.70008845],\n",
       "         [0.70008845],\n",
       "         [0.29864175],\n",
       "         [0.29864175],\n",
       "         [0.25117578],\n",
       "         [0.25117578],\n",
       "         [0.82727356],\n",
       "         [0.82727356],\n",
       "         [0.29343939],\n",
       "         [0.29343939],\n",
       "         [0.30037309],\n",
       "         [0.30037309],\n",
       "         [0.22386089],\n",
       "         [0.22386089],\n",
       "         [0.8085066 ],\n",
       "         [0.8085066 ],\n",
       "         [0.69610823],\n",
       "         [0.69610823],\n",
       "         [0.04611686],\n",
       "         [0.04611686],\n",
       "         [0.67887435],\n",
       "         [0.67887435],\n",
       "         [0.96538108],\n",
       "         [0.96538108],\n",
       "         [0.93553618],\n",
       "         [0.93553618],\n",
       "         [0.27818724],\n",
       "         [0.27818724],\n",
       "         [0.41351988],\n",
       "         [0.41351988],\n",
       "         [0.9163283 ],\n",
       "         [0.9163283 ],\n",
       "         [0.99877438],\n",
       "         [0.99877438],\n",
       "         [0.54827327],\n",
       "         [0.54827327],\n",
       "         [0.86335242],\n",
       "         [0.86335242],\n",
       "         [0.90831054],\n",
       "         [0.90831054],\n",
       "         [0.93511654],\n",
       "         [0.93511654],\n",
       "         [0.41513265],\n",
       "         [0.41513265],\n",
       "         [0.90308776],\n",
       "         [0.90308776],\n",
       "         [0.08725164],\n",
       "         [0.08725164],\n",
       "         [0.53918353],\n",
       "         [0.53918353],\n",
       "         [0.99693314],\n",
       "         [0.99693314],\n",
       "         [0.53813967],\n",
       "         [0.53813967],\n",
       "         [0.94778285],\n",
       "         [0.94778285],\n",
       "         [0.43259622],\n",
       "         [0.43259622],\n",
       "         [0.93440636],\n",
       "         [0.93440636],\n",
       "         [0.01264547],\n",
       "         [0.01264547],\n",
       "         [0.98730067],\n",
       "         [0.98730067],\n",
       "         [0.0454296 ],\n",
       "         [0.0454296 ],\n",
       "         [0.23078588],\n",
       "         [0.23078588],\n",
       "         [0.78030579],\n",
       "         [0.78030579],\n",
       "         [0.89597561],\n",
       "         [0.89597561],\n",
       "         [0.91014935],\n",
       "         [0.91014935],\n",
       "         [0.76397983],\n",
       "         [0.76397983],\n",
       "         [0.76948949],\n",
       "         [0.76948949],\n",
       "         [0.08520447],\n",
       "         [0.08520447],\n",
       "         [0.25028757],\n",
       "         [0.25028757],\n",
       "         [0.80780441],\n",
       "         [0.80780441],\n",
       "         [0.21782767],\n",
       "         [0.21782767],\n",
       "         [0.79359748],\n",
       "         [0.79359748],\n",
       "         [0.61358494],\n",
       "         [0.61358494],\n",
       "         [0.39297256],\n",
       "         [0.39297256],\n",
       "         [0.28778939],\n",
       "         [0.28778939],\n",
       "         [0.50810724],\n",
       "         [0.50810724],\n",
       "         [0.6594357 ],\n",
       "         [0.6594357 ],\n",
       "         [0.52315909],\n",
       "         [0.52315909],\n",
       "         [0.98569446],\n",
       "         [0.98569446],\n",
       "         [0.74064437],\n",
       "         [0.74064437],\n",
       "         [0.50412499],\n",
       "         [0.50412499],\n",
       "         [0.79464316],\n",
       "         [0.79464316],\n",
       "         [0.2555062 ],\n",
       "         [0.2555062 ],\n",
       "         [0.62451155],\n",
       "         [0.62451155],\n",
       "         [0.53581839],\n",
       "         [0.53581839],\n",
       "         [0.3758435 ],\n",
       "         [0.3758435 ],\n",
       "         [0.25814082],\n",
       "         [0.25814082],\n",
       "         [0.74973127],\n",
       "         [0.74973127],\n",
       "         [0.99568188],\n",
       "         [0.99568188],\n",
       "         [0.5291872 ],\n",
       "         [0.5291872 ],\n",
       "         [0.89623125],\n",
       "         [0.89623125],\n",
       "         [0.53042887],\n",
       "         [0.53042887],\n",
       "         [0.42403029],\n",
       "         [0.42403029],\n",
       "         [0.2751831 ],\n",
       "         [0.2751831 ],\n",
       "         [0.25519064],\n",
       "         [0.25519064],\n",
       "         [0.11731117],\n",
       "         [0.11731117],\n",
       "         [0.15704627],\n",
       "         [0.15704627],\n",
       "         [0.28708019],\n",
       "         [0.28708019],\n",
       "         [0.88386212],\n",
       "         [0.88386212],\n",
       "         [0.70049295],\n",
       "         [0.70049295],\n",
       "         [0.5571887 ],\n",
       "         [0.5571887 ],\n",
       "         [0.9917905 ],\n",
       "         [0.9917905 ],\n",
       "         [0.45922315],\n",
       "         [0.45922315],\n",
       "         [0.23274454],\n",
       "         [0.23274454],\n",
       "         [0.95747827],\n",
       "         [0.95747827],\n",
       "         [0.334963  ],\n",
       "         [0.334963  ],\n",
       "         [0.9518146 ],\n",
       "         [0.9518146 ],\n",
       "         [0.77164313],\n",
       "         [0.77164313],\n",
       "         [0.60173415],\n",
       "         [0.60173415],\n",
       "         [0.84982266],\n",
       "         [0.84982266],\n",
       "         [0.59724496],\n",
       "         [0.59724496],\n",
       "         [0.65865999],\n",
       "         [0.65865999],\n",
       "         [0.54669104],\n",
       "         [0.54669104],\n",
       "         [0.46918203],\n",
       "         [0.46918203],\n",
       "         [0.97775203],\n",
       "         [0.97775203],\n",
       "         [0.97333505],\n",
       "         [0.97333505],\n",
       "         [0.33869953],\n",
       "         [0.33869953],\n",
       "         [0.51347922],\n",
       "         [0.51347922],\n",
       "         [0.20934078],\n",
       "         [0.20934078],\n",
       "         [0.45574149],\n",
       "         [0.45574149],\n",
       "         [0.07319223],\n",
       "         [0.07319223],\n",
       "         [0.253913  ],\n",
       "         [0.253913  ],\n",
       "         [0.61252054],\n",
       "         [0.61252054],\n",
       "         [0.92696384],\n",
       "         [0.92696384]])}}"
      ]
     },
     "execution_count": 12,
     "metadata": {},
     "output_type": "execute_result"
    }
   ],
   "source": [
    "ds = load_by_id(run_id_a)\n",
    "ds.get_parameter_data('x1')"
   ]
  },
  {
   "cell_type": "code",
   "execution_count": null,
   "metadata": {},
   "outputs": [],
   "source": []
  }
 ],
 "metadata": {
  "kernelspec": {
   "display_name": "Python 3",
   "language": "python",
   "name": "python3"
  },
  "language_info": {
   "codemirror_mode": {
    "name": "ipython",
    "version": 3
   },
   "file_extension": ".py",
   "mimetype": "text/x-python",
   "name": "python",
   "nbconvert_exporter": "python",
   "pygments_lexer": "ipython3",
   "version": "3.7.7"
  },
  "nbsphinx": {
   "timeout": 600
  },
  "toc": {
   "base_numbering": 1,
   "nav_menu": {},
   "number_sections": true,
   "sideBar": true,
   "skip_h1_title": false,
   "title_cell": "Table of Contents",
   "title_sidebar": "Contents",
   "toc_cell": false,
   "toc_position": {},
   "toc_section_display": true,
   "toc_window_display": false
  },
  "varInspector": {
   "cols": {
    "lenName": 16,
    "lenType": 16,
    "lenVar": 40
   },
   "kernels_config": {
    "python": {
     "delete_cmd_postfix": "",
     "delete_cmd_prefix": "del ",
     "library": "var_list.py",
     "varRefreshCmd": "print(var_dic_list())"
    },
    "r": {
     "delete_cmd_postfix": ") ",
     "delete_cmd_prefix": "rm(",
     "library": "var_list.r",
     "varRefreshCmd": "cat(var_dic_list()) "
    }
   },
   "types_to_exclude": [
    "module",
    "function",
    "builtin_function_or_method",
    "instance",
    "_Feature"
   ],
   "window_display": false
  }
 },
 "nbformat": 4,
 "nbformat_minor": 2
}
