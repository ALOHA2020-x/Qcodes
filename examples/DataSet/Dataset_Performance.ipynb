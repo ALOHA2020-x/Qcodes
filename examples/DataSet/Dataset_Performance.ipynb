{
 "cells": [
  {
   "cell_type": "markdown",
   "metadata": {},
   "source": [
    "# DataSet Performance\n",
    "\n",
    "This notebook shows the trade-off between inserting data into a database row-by-row and as binary blobs. Inserting the data row-by-row means that we have direct access to all the data and may perform queries directly on the values of the data. On the other hand, as we shall see, this is much slower than inserting the data directly as binary blobs."
   ]
  },
  {
   "cell_type": "markdown",
   "metadata": {},
   "source": [
    "First, we choose a new location for the database to ensure that we don't add a bunch of benchmarking data to the default one."
   ]
  },
  {
   "cell_type": "code",
   "execution_count": 1,
   "metadata": {},
   "outputs": [
    {
     "name": "stdout",
     "output_type": "stream",
     "text": [
      "Logging hadn't been started.\n",
      "Activating auto-logging. Current session state plus future input saved.\n",
      "Filename       : /home/vsts/.qcodes/logs/command_history.log\n",
      "Mode           : append\n",
      "Output logging : True\n",
      "Raw input log  : False\n",
      "Timestamping   : True\n",
      "State          : active\n"
     ]
    },
    {
     "name": "stdout",
     "output_type": "stream",
     "text": [
      "Qcodes Logfile : /home/vsts/.qcodes/logs/200210-20084-qcodes.log\n"
     ]
    }
   ],
   "source": [
    "import os\n",
    "cwd = os.getcwd()\n",
    "import qcodes as qc\n",
    "qc.config[\"core\"][\"db_location\"] = os.path.join(cwd, 'testing.db')\n"
   ]
  },
  {
   "cell_type": "code",
   "execution_count": 2,
   "metadata": {},
   "outputs": [],
   "source": [
    "%matplotlib inline\n",
    "import time\n",
    "import matplotlib.pyplot as plt\n",
    "import numpy as np\n",
    "\n",
    "import qcodes as qc\n",
    "from qcodes.instrument.parameter import ManualParameter\n",
    "from qcodes.dataset.experiment_container import (Experiment,\n",
    "                                                 load_last_experiment,\n",
    "                                                 new_experiment)\n",
    "from qcodes.dataset.sqlite.database import initialise_database\n",
    "from qcodes import load_or_create_experiment\n",
    "from qcodes.dataset.measurements import Measurement"
   ]
  },
  {
   "cell_type": "code",
   "execution_count": 3,
   "metadata": {},
   "outputs": [
    {
     "name": "stdout",
     "output_type": "stream",
     "text": [
      "\r",
      "0it [00:00, ?it/s]"
     ]
    },
    {
     "name": "stdout",
     "output_type": "stream",
     "text": [
      "\r",
      "Upgrading database; v0 -> v1: : 0it [00:00, ?it/s]"
     ]
    },
    {
     "name": "stdout",
     "output_type": "stream",
     "text": [
      "\r",
      "Upgrading database; v0 -> v1: : 0it [00:00, ?it/s]"
     ]
    },
    {
     "name": "stdout",
     "output_type": "stream",
     "text": [
      "\n",
      "\r",
      "  0%|          | 0/1 [00:00<?, ?it/s]"
     ]
    },
    {
     "name": "stdout",
     "output_type": "stream",
     "text": [
      "\r",
      "Upgrading database; v1 -> v2:   0%|          | 0/1 [00:00<?, ?it/s]"
     ]
    },
    {
     "name": "stdout",
     "output_type": "stream",
     "text": [
      "\r",
      "Upgrading database; v1 -> v2: 100%|██████████| 1/1 [00:00<00:00, 831.54it/s]"
     ]
    },
    {
     "name": "stdout",
     "output_type": "stream",
     "text": [
      "\n",
      "\r",
      "0it [00:00, ?it/s]"
     ]
    },
    {
     "name": "stdout",
     "output_type": "stream",
     "text": [
      "\r",
      "Upgrading database; v2 -> v3: : 0it [00:00, ?it/s]"
     ]
    },
    {
     "name": "stdout",
     "output_type": "stream",
     "text": [
      "\r",
      "Upgrading database; v2 -> v3: : 0it [00:00, ?it/s]"
     ]
    },
    {
     "name": "stdout",
     "output_type": "stream",
     "text": [
      "\n",
      "\r",
      "0it [00:00, ?it/s]"
     ]
    },
    {
     "name": "stdout",
     "output_type": "stream",
     "text": [
      "\r",
      "Upgrading database; v3 -> v4: : 0it [00:00, ?it/s]"
     ]
    },
    {
     "name": "stdout",
     "output_type": "stream",
     "text": [
      "\r",
      "Upgrading database; v3 -> v4: : 0it [00:00, ?it/s]"
     ]
    },
    {
     "name": "stdout",
     "output_type": "stream",
     "text": [
      "\n",
      "\r",
      "  0%|          | 0/1 [00:00<?, ?it/s]"
     ]
    },
    {
     "name": "stdout",
     "output_type": "stream",
     "text": [
      "\r",
      "Upgrading database; v4 -> v5:   0%|          | 0/1 [00:00<?, ?it/s]"
     ]
    },
    {
     "name": "stdout",
     "output_type": "stream",
     "text": [
      "\r",
      "Upgrading database; v4 -> v5: 100%|██████████| 1/1 [00:00<00:00, 755.87it/s]"
     ]
    },
    {
     "name": "stdout",
     "output_type": "stream",
     "text": [
      "\n",
      "\r",
      "0it [00:00, ?it/s]"
     ]
    },
    {
     "name": "stdout",
     "output_type": "stream",
     "text": [
      "\r",
      "Upgrading database; v5 -> v6: : 0it [00:00, ?it/s]"
     ]
    },
    {
     "name": "stdout",
     "output_type": "stream",
     "text": [
      "\r",
      "Upgrading database; v5 -> v6: : 0it [00:00, ?it/s]"
     ]
    },
    {
     "name": "stdout",
     "output_type": "stream",
     "text": [
      "\n",
      "\r",
      "  0%|          | 0/1 [00:00<?, ?it/s]"
     ]
    },
    {
     "name": "stdout",
     "output_type": "stream",
     "text": [
      "\r",
      "Upgrading database; v6 -> v7:   0%|          | 0/1 [00:00<?, ?it/s]"
     ]
    },
    {
     "name": "stdout",
     "output_type": "stream",
     "text": [
      "\r",
      "Upgrading database; v6 -> v7: 100%|██████████| 1/1 [00:00<00:00, 266.15it/s]"
     ]
    },
    {
     "name": "stdout",
     "output_type": "stream",
     "text": [
      "\n",
      "\r",
      "  0%|          | 0/1 [00:00<?, ?it/s]"
     ]
    },
    {
     "name": "stdout",
     "output_type": "stream",
     "text": [
      "\r",
      "Upgrading database; v7 -> v8:   0%|          | 0/1 [00:00<?, ?it/s]"
     ]
    },
    {
     "name": "stdout",
     "output_type": "stream",
     "text": [
      "\r",
      "Upgrading database; v7 -> v8: 100%|██████████| 1/1 [00:00<00:00, 592.75it/s]"
     ]
    },
    {
     "name": "stdout",
     "output_type": "stream",
     "text": [
      "\n"
     ]
    }
   ],
   "source": [
    "initialise_database()\n",
    "exp = load_or_create_experiment(experiment_name='tutorial_exp', sample_name=\"no sample\")"
   ]
  },
  {
   "cell_type": "markdown",
   "metadata": {},
   "source": [
    "Here, we define a simple function to benchmark the time it takes to insert n points with either numeric or array data type.\n",
    "We will compare both the time used to call ``add_result`` and the time used for the full measurement."
   ]
  },
  {
   "cell_type": "code",
   "execution_count": 4,
   "metadata": {},
   "outputs": [],
   "source": [
    "def insert_data(paramtype, npoints, nreps=1):\n",
    "\n",
    "    meas = Measurement(exp=exp)\n",
    "\n",
    "    x1 = ManualParameter('x1')\n",
    "    x2 = ManualParameter('x2')\n",
    "    x3 = ManualParameter('x3')\n",
    "    y1 = ManualParameter('y1')\n",
    "    y2 = ManualParameter('y2')\n",
    "\n",
    "    meas.register_parameter(x1, paramtype=paramtype)\n",
    "    meas.register_parameter(x2, paramtype=paramtype)\n",
    "    meas.register_parameter(x3, paramtype=paramtype)\n",
    "    meas.register_parameter(y1, setpoints=[x1, x2, x3],\n",
    "                            paramtype=paramtype)\n",
    "    meas.register_parameter(y2, setpoints=[x1, x2, x3],\n",
    "                            paramtype=paramtype)\n",
    "    start = time.perf_counter()\n",
    "    with meas.run() as datasaver:\n",
    "        start_adding = time.perf_counter()\n",
    "        for i in range(nreps):\n",
    "            datasaver.add_result((x1, np.random.rand(npoints)),\n",
    "                                 (x2, np.random.rand(npoints)),\n",
    "                                 (x3, np.random.rand(npoints)),\n",
    "                                 (y1, np.random.rand(npoints)),\n",
    "                                 (y2, np.random.rand(npoints)))\n",
    "        stop_adding = time.perf_counter()\n",
    "        run_id = datasaver.run_id\n",
    "    stop = time.perf_counter()\n",
    "    tot_time = stop - start\n",
    "    add_time = stop_adding - start_adding\n",
    "    return tot_time, add_time, run_id"
   ]
  },
  {
   "cell_type": "markdown",
   "metadata": {},
   "source": [
    "## Comparison between numeric/array data and binary blob"
   ]
  },
  {
   "cell_type": "markdown",
   "metadata": {},
   "source": [
    "### Case1: Short experiment time"
   ]
  },
  {
   "cell_type": "code",
   "execution_count": 5,
   "metadata": {},
   "outputs": [
    {
     "name": "stdout",
     "output_type": "stream",
     "text": [
      "Starting experimental run with id: 1. \n",
      "Starting experimental run with id: 2. \n",
      "Starting experimental run with id: 3. \n"
     ]
    },
    {
     "name": "stdout",
     "output_type": "stream",
     "text": [
      "Starting experimental run with id: 4. \n"
     ]
    },
    {
     "name": "stdout",
     "output_type": "stream",
     "text": [
      "Starting experimental run with id: 5. \n"
     ]
    },
    {
     "name": "stdout",
     "output_type": "stream",
     "text": [
      "Starting experimental run with id: 6. \n"
     ]
    },
    {
     "name": "stdout",
     "output_type": "stream",
     "text": [
      "Starting experimental run with id: 7. \n"
     ]
    },
    {
     "name": "stdout",
     "output_type": "stream",
     "text": [
      "Starting experimental run with id: 8. \n",
      "Starting experimental run with id: 9. \n"
     ]
    },
    {
     "name": "stdout",
     "output_type": "stream",
     "text": [
      "Starting experimental run with id: 10. \n",
      "Starting experimental run with id: 11. \n"
     ]
    },
    {
     "name": "stdout",
     "output_type": "stream",
     "text": [
      "Starting experimental run with id: 12. \n"
     ]
    },
    {
     "name": "stdout",
     "output_type": "stream",
     "text": [
      "Starting experimental run with id: 13. \n"
     ]
    },
    {
     "name": "stdout",
     "output_type": "stream",
     "text": [
      "Starting experimental run with id: 14. \n"
     ]
    }
   ],
   "source": [
    "sizes = [1,500,1000,2000,3000,4000,5000]\n",
    "t_numeric = []\n",
    "t_numeric_add = []\n",
    "t_array = []\n",
    "t_array_add = []\n",
    "for size in sizes:\n",
    "    tn, tna, run_id_n =  insert_data('numeric', size)\n",
    "    t_numeric.append(tn)\n",
    "    t_numeric_add.append(tna)\n",
    "\n",
    "    ta, taa, run_id_a =  insert_data('array', size)\n",
    "    t_array.append(ta)\n",
    "    t_array_add.append(taa)"
   ]
  },
  {
   "cell_type": "code",
   "execution_count": 6,
   "metadata": {},
   "outputs": [
    {
     "data": {
      "image/png": "[encoded data removed]",
      "text/plain": [
       "<Figure size 432x288 with 1 Axes>"
      ]
     },
     "metadata": {
      "needs_background": "light"
     },
     "output_type": "display_data"
    }
   ],
   "source": [
    "fig, ax = plt.subplots(1,1)\n",
    "ax.plot(sizes, t_numeric, 'o-', label='Inserting row-by-row')\n",
    "ax.plot(sizes, t_numeric_add, 'o-', label='Inserting row-by-row: add_result only')\n",
    "ax.plot(sizes, t_array, 'd-', label='Inserting as binary blob')\n",
    "ax.plot(sizes, t_array_add, 'd-', label='Inserting as binary blob: add_result only')\n",
    "ax.legend()\n",
    "ax.set_xlabel('Array length')\n",
    "ax.set_ylabel('Time (s)')\n",
    "fig.tight_layout()"
   ]
  },
  {
   "cell_type": "markdown",
   "metadata": {},
   "source": [
    "As shown in the latter figure, the time to setup and and close the experiment is approximately 0.4 sec. In case of small array sizes, the difference between inserting values of data as arrays and inserting them row-by-row is relatively unimportant. At larger array sizes, i.e. above 10000 points, the cost of writing data as individual datapoints starts to become important.\n"
   ]
  },
  {
   "cell_type": "markdown",
   "metadata": {},
   "source": [
    "### Case2: Long experiment time "
   ]
  },
  {
   "cell_type": "code",
   "execution_count": 7,
   "metadata": {},
   "outputs": [
    {
     "name": "stdout",
     "output_type": "stream",
     "text": [
      "Starting experimental run with id: 15. \n",
      "Starting experimental run with id: 16. \n"
     ]
    },
    {
     "name": "stdout",
     "output_type": "stream",
     "text": [
      "Starting experimental run with id: 17. \n"
     ]
    },
    {
     "name": "stdout",
     "output_type": "stream",
     "text": [
      "Starting experimental run with id: 18. \n",
      "Starting experimental run with id: 19. \n"
     ]
    },
    {
     "name": "stdout",
     "output_type": "stream",
     "text": [
      "Starting experimental run with id: 20. \n"
     ]
    },
    {
     "name": "stdout",
     "output_type": "stream",
     "text": [
      "Starting experimental run with id: 21. \n"
     ]
    },
    {
     "name": "stdout",
     "output_type": "stream",
     "text": [
      "Starting experimental run with id: 22. \n"
     ]
    },
    {
     "name": "stdout",
     "output_type": "stream",
     "text": [
      "Starting experimental run with id: 23. \n"
     ]
    },
    {
     "name": "stdout",
     "output_type": "stream",
     "text": [
      "Starting experimental run with id: 24. \n"
     ]
    },
    {
     "name": "stdout",
     "output_type": "stream",
     "text": [
      "Starting experimental run with id: 25. \n"
     ]
    },
    {
     "name": "stdout",
     "output_type": "stream",
     "text": [
      "Starting experimental run with id: 26. \n"
     ]
    },
    {
     "name": "stdout",
     "output_type": "stream",
     "text": [
      "Starting experimental run with id: 27. \n"
     ]
    },
    {
     "name": "stdout",
     "output_type": "stream",
     "text": [
      "Starting experimental run with id: 28. \n"
     ]
    }
   ],
   "source": [
    "sizes = [1,500,1000,2000,3000,4000,5000]\n",
    "nreps = 100\n",
    "t_numeric = []\n",
    "t_numeric_add = []\n",
    "t_numeric_run_ids = []\n",
    "t_array = []\n",
    "t_array_add = []\n",
    "t_array_run_ids = []\n",
    "for size in sizes:\n",
    "    tn, tna, run_id_n =  insert_data('numeric', size, nreps=nreps)\n",
    "    t_numeric.append(tn)\n",
    "    t_numeric_add.append(tna)\n",
    "    t_numeric_run_ids.append(run_id_n)\n",
    "\n",
    "    ta, taa, run_id_a =  insert_data('array', size, nreps=nreps)\n",
    "    t_array.append(ta)\n",
    "    t_array_add.append(taa)\n",
    "    t_array_run_ids.append(run_id_a)"
   ]
  },
  {
   "cell_type": "code",
   "execution_count": 8,
   "metadata": {
    "scrolled": true
   },
   "outputs": [
    {
     "data": {
      "image/png": "[encoded data removed]",
      "text/plain": [
       "<Figure size 432x288 with 1 Axes>"
      ]
     },
     "metadata": {
      "needs_background": "light"
     },
     "output_type": "display_data"
    }
   ],
   "source": [
    "fig, ax = plt.subplots(1,1)\n",
    "ax.plot(sizes, t_numeric, 'o-', label='Inserting row-by-row')\n",
    "ax.plot(sizes, t_numeric_add, 'o-', label='Inserting row-by-row: add_result only')\n",
    "ax.plot(sizes, t_array, 'd-', label='Inserting as binary blob')\n",
    "ax.plot(sizes, t_array_add, 'd-', label='Inserting as binary blob: add_result only')\n",
    "ax.legend()\n",
    "ax.set_xlabel('Array length')\n",
    "ax.set_ylabel('Time (s)')\n",
    "fig.tight_layout()"
   ]
  },
  {
   "cell_type": "markdown",
   "metadata": {},
   "source": [
    "However, as we increase the length of the experiment, as seen here by repeating the insertion 100 times, we see a big difference between inserting values of the data row-by-row and inserting it as a binary blob."
   ]
  },
  {
   "cell_type": "markdown",
   "metadata": {},
   "source": [
    "## Loading the data "
   ]
  },
  {
   "cell_type": "code",
   "execution_count": 9,
   "metadata": {},
   "outputs": [],
   "source": [
    "from qcodes.dataset.data_set import load_by_id\n",
    "from qcodes.dataset.data_export import get_data_by_id"
   ]
  },
  {
   "cell_type": "markdown",
   "metadata": {},
   "source": [
    "As usual you can load the data by using the ``load_by_id`` function but you will notice that the different storage methods\n",
    "are reflected in shape of the data as it is retrieved. "
   ]
  },
  {
   "cell_type": "code",
   "execution_count": 10,
   "metadata": {},
   "outputs": [],
   "source": [
    "run_id_n = t_numeric_run_ids[0]\n",
    "run_id_a = t_array_run_ids[0]"
   ]
  },
  {
   "cell_type": "code",
   "execution_count": 11,
   "metadata": {
    "scrolled": true
   },
   "outputs": [
    {
     "data": {
      "text/plain": [
       "{'x1': {'x1': array([0.81170288, 0.81170288, 0.35210167, 0.35210167, 0.99742366,\n",
       "         0.99742366, 0.40983088, 0.40983088, 0.43793321, 0.43793321,\n",
       "         0.60265745, 0.60265745, 0.92676555, 0.92676555, 0.98039881,\n",
       "         0.98039881, 0.81450913, 0.81450913, 0.62617742, 0.62617742,\n",
       "         0.47080391, 0.47080391, 0.89608489, 0.89608489, 0.32988873,\n",
       "         0.32988873, 0.54648896, 0.54648896, 0.79384757, 0.79384757,\n",
       "         0.66034577, 0.66034577, 0.22496772, 0.22496772, 0.80109744,\n",
       "         0.80109744, 0.05678181, 0.05678181, 0.91461334, 0.91461334,\n",
       "         0.66757069, 0.66757069, 0.04358446, 0.04358446, 0.4681781 ,\n",
       "         0.4681781 , 0.55497081, 0.55497081, 0.73400551, 0.73400551,\n",
       "         0.44562555, 0.44562555, 0.91545744, 0.91545744, 0.88444674,\n",
       "         0.88444674, 0.30156592, 0.30156592, 0.59244166, 0.59244166,\n",
       "         0.55106455, 0.55106455, 0.79702196, 0.79702196, 0.39142612,\n",
       "         0.39142612, 0.03434228, 0.03434228, 0.79425215, 0.79425215,\n",
       "         0.17555533, 0.17555533, 0.19932319, 0.19932319, 0.60559908,\n",
       "         0.60559908, 0.83757822, 0.83757822, 0.31324795, 0.31324795,\n",
       "         0.86403142, 0.86403142, 0.4627046 , 0.4627046 , 0.32997532,\n",
       "         0.32997532, 0.10043065, 0.10043065, 0.74761303, 0.74761303,\n",
       "         0.82719528, 0.82719528, 0.63067519, 0.63067519, 0.51235013,\n",
       "         0.51235013, 0.05894537, 0.05894537, 0.29544393, 0.29544393,\n",
       "         0.71737174, 0.71737174, 0.24025346, 0.24025346, 0.06034061,\n",
       "         0.06034061, 0.11087793, 0.11087793, 0.63673836, 0.63673836,\n",
       "         0.52360481, 0.52360481, 0.01303215, 0.01303215, 0.31213887,\n",
       "         0.31213887, 0.19607166, 0.19607166, 0.98012254, 0.98012254,\n",
       "         0.12884759, 0.12884759, 0.83768663, 0.83768663, 0.40209409,\n",
       "         0.40209409, 0.36955799, 0.36955799, 0.49089446, 0.49089446,\n",
       "         0.66435194, 0.66435194, 0.58025749, 0.58025749, 0.86686962,\n",
       "         0.86686962, 0.93345666, 0.93345666, 0.90034852, 0.90034852,\n",
       "         0.02381247, 0.02381247, 0.07686017, 0.07686017, 0.48376781,\n",
       "         0.48376781, 0.04207697, 0.04207697, 0.41304451, 0.41304451,\n",
       "         0.20003515, 0.20003515, 0.97162269, 0.97162269, 0.15178312,\n",
       "         0.15178312, 0.68478244, 0.68478244, 0.62566443, 0.62566443,\n",
       "         0.92708046, 0.92708046, 0.28242466, 0.28242466, 0.88650221,\n",
       "         0.88650221, 0.00889578, 0.00889578, 0.92677069, 0.92677069,\n",
       "         0.3341774 , 0.3341774 , 0.84299425, 0.84299425, 0.04778557,\n",
       "         0.04778557, 0.61798632, 0.61798632, 0.3833624 , 0.3833624 ,\n",
       "         0.26761229, 0.26761229, 0.80250818, 0.80250818, 0.36853827,\n",
       "         0.36853827, 0.93313482, 0.93313482, 0.73072785, 0.73072785,\n",
       "         0.36180411, 0.36180411, 0.35565121, 0.35565121, 0.08142367,\n",
       "         0.08142367, 0.53102643, 0.53102643, 0.99226987, 0.99226987])}}"
      ]
     },
     "execution_count": 11,
     "metadata": {},
     "output_type": "execute_result"
    }
   ],
   "source": [
    "ds = load_by_id(run_id_n)\n",
    "ds.get_parameter_data('x1')"
   ]
  },
  {
   "cell_type": "markdown",
   "metadata": {},
   "source": [
    "And a dataset stored as binary arrays"
   ]
  },
  {
   "cell_type": "code",
   "execution_count": 12,
   "metadata": {
    "scrolled": true
   },
   "outputs": [
    {
     "data": {
      "text/plain": [
       "{'x1': {'x1': array([[0.81269673],\n",
       "         [0.81269673],\n",
       "         [0.08100705],\n",
       "         [0.08100705],\n",
       "         [0.84595353],\n",
       "         [0.84595353],\n",
       "         [0.51633534],\n",
       "         [0.51633534],\n",
       "         [0.66557901],\n",
       "         [0.66557901],\n",
       "         [0.76242154],\n",
       "         [0.76242154],\n",
       "         [0.26181997],\n",
       "         [0.26181997],\n",
       "         [0.22029117],\n",
       "         [0.22029117],\n",
       "         [0.18563408],\n",
       "         [0.18563408],\n",
       "         [0.90337768],\n",
       "         [0.90337768],\n",
       "         [0.47227188],\n",
       "         [0.47227188],\n",
       "         [0.01736947],\n",
       "         [0.01736947],\n",
       "         [0.55605752],\n",
       "         [0.55605752],\n",
       "         [0.21683337],\n",
       "         [0.21683337],\n",
       "         [0.05488095],\n",
       "         [0.05488095],\n",
       "         [0.94949113],\n",
       "         [0.94949113],\n",
       "         [0.00219358],\n",
       "         [0.00219358],\n",
       "         [0.83655189],\n",
       "         [0.83655189],\n",
       "         [0.72818614],\n",
       "         [0.72818614],\n",
       "         [0.25078963],\n",
       "         [0.25078963],\n",
       "         [0.518524  ],\n",
       "         [0.518524  ],\n",
       "         [0.50822211],\n",
       "         [0.50822211],\n",
       "         [0.62931378],\n",
       "         [0.62931378],\n",
       "         [0.02333034],\n",
       "         [0.02333034],\n",
       "         [0.57810735],\n",
       "         [0.57810735],\n",
       "         [0.9433222 ],\n",
       "         [0.9433222 ],\n",
       "         [0.96861452],\n",
       "         [0.96861452],\n",
       "         [0.16159038],\n",
       "         [0.16159038],\n",
       "         [0.48852193],\n",
       "         [0.48852193],\n",
       "         [0.2011238 ],\n",
       "         [0.2011238 ],\n",
       "         [0.52270111],\n",
       "         [0.52270111],\n",
       "         [0.99268902],\n",
       "         [0.99268902],\n",
       "         [0.59315239],\n",
       "         [0.59315239],\n",
       "         [0.41020639],\n",
       "         [0.41020639],\n",
       "         [0.82487027],\n",
       "         [0.82487027],\n",
       "         [0.21381424],\n",
       "         [0.21381424],\n",
       "         [0.33449751],\n",
       "         [0.33449751],\n",
       "         [0.63791789],\n",
       "         [0.63791789],\n",
       "         [0.36552817],\n",
       "         [0.36552817],\n",
       "         [0.95378647],\n",
       "         [0.95378647],\n",
       "         [0.82618395],\n",
       "         [0.82618395],\n",
       "         [0.07529592],\n",
       "         [0.07529592],\n",
       "         [0.83753451],\n",
       "         [0.83753451],\n",
       "         [0.23028866],\n",
       "         [0.23028866],\n",
       "         [0.25409418],\n",
       "         [0.25409418],\n",
       "         [0.22363157],\n",
       "         [0.22363157],\n",
       "         [0.19508788],\n",
       "         [0.19508788],\n",
       "         [0.816941  ],\n",
       "         [0.816941  ],\n",
       "         [0.59889109],\n",
       "         [0.59889109],\n",
       "         [0.00180435],\n",
       "         [0.00180435],\n",
       "         [0.83119556],\n",
       "         [0.83119556],\n",
       "         [0.34413173],\n",
       "         [0.34413173],\n",
       "         [0.36440549],\n",
       "         [0.36440549],\n",
       "         [0.59969963],\n",
       "         [0.59969963],\n",
       "         [0.03695611],\n",
       "         [0.03695611],\n",
       "         [0.85881032],\n",
       "         [0.85881032],\n",
       "         [0.67308244],\n",
       "         [0.67308244],\n",
       "         [0.1140388 ],\n",
       "         [0.1140388 ],\n",
       "         [0.8029429 ],\n",
       "         [0.8029429 ],\n",
       "         [0.83191465],\n",
       "         [0.83191465],\n",
       "         [0.62300945],\n",
       "         [0.62300945],\n",
       "         [0.99143841],\n",
       "         [0.99143841],\n",
       "         [0.62790266],\n",
       "         [0.62790266],\n",
       "         [0.98310203],\n",
       "         [0.98310203],\n",
       "         [0.92709395],\n",
       "         [0.92709395],\n",
       "         [0.5025552 ],\n",
       "         [0.5025552 ],\n",
       "         [0.90466272],\n",
       "         [0.90466272],\n",
       "         [0.70149377],\n",
       "         [0.70149377],\n",
       "         [0.38006955],\n",
       "         [0.38006955],\n",
       "         [0.92075728],\n",
       "         [0.92075728],\n",
       "         [0.3442422 ],\n",
       "         [0.3442422 ],\n",
       "         [0.58583869],\n",
       "         [0.58583869],\n",
       "         [0.39059628],\n",
       "         [0.39059628],\n",
       "         [0.1082711 ],\n",
       "         [0.1082711 ],\n",
       "         [0.41366133],\n",
       "         [0.41366133],\n",
       "         [0.10584186],\n",
       "         [0.10584186],\n",
       "         [0.04691035],\n",
       "         [0.04691035],\n",
       "         [0.03180878],\n",
       "         [0.03180878],\n",
       "         [0.5821375 ],\n",
       "         [0.5821375 ],\n",
       "         [0.3158791 ],\n",
       "         [0.3158791 ],\n",
       "         [0.1116237 ],\n",
       "         [0.1116237 ],\n",
       "         [0.41359332],\n",
       "         [0.41359332],\n",
       "         [0.95026453],\n",
       "         [0.95026453],\n",
       "         [0.19829337],\n",
       "         [0.19829337],\n",
       "         [0.27080244],\n",
       "         [0.27080244],\n",
       "         [0.23408088],\n",
       "         [0.23408088],\n",
       "         [0.33591584],\n",
       "         [0.33591584],\n",
       "         [0.62506581],\n",
       "         [0.62506581],\n",
       "         [0.33430847],\n",
       "         [0.33430847],\n",
       "         [0.19140474],\n",
       "         [0.19140474],\n",
       "         [0.82185777],\n",
       "         [0.82185777],\n",
       "         [0.06423758],\n",
       "         [0.06423758],\n",
       "         [0.30956686],\n",
       "         [0.30956686],\n",
       "         [0.65285547],\n",
       "         [0.65285547],\n",
       "         [0.25504453],\n",
       "         [0.25504453],\n",
       "         [0.24114578],\n",
       "         [0.24114578],\n",
       "         [0.76163721],\n",
       "         [0.76163721],\n",
       "         [0.14796399],\n",
       "         [0.14796399],\n",
       "         [0.56921905],\n",
       "         [0.56921905],\n",
       "         [0.298976  ],\n",
       "         [0.298976  ]])}}"
      ]
     },
     "execution_count": 12,
     "metadata": {},
     "output_type": "execute_result"
    }
   ],
   "source": [
    "ds = load_by_id(run_id_a)\n",
    "ds.get_parameter_data('x1')"
   ]
  },
  {
   "cell_type": "code",
   "execution_count": null,
   "metadata": {},
   "outputs": [],
   "source": []
  }
 ],
 "metadata": {
  "kernelspec": {
   "display_name": "Python 3",
   "language": "python",
   "name": "python3"
  },
  "language_info": {
   "codemirror_mode": {
    "name": "ipython",
    "version": 3
   },
   "file_extension": ".py",
   "mimetype": "text/x-python",
   "name": "python",
   "nbconvert_exporter": "python",
   "pygments_lexer": "ipython3",
   "version": "3.7.5"
  },
  "nbsphinx": {
   "timeout": 600
  },
  "toc": {
   "base_numbering": 1,
   "nav_menu": {},
   "number_sections": true,
   "sideBar": true,
   "skip_h1_title": false,
   "title_cell": "Table of Contents",
   "title_sidebar": "Contents",
   "toc_cell": false,
   "toc_position": {},
   "toc_section_display": true,
   "toc_window_display": false
  },
  "varInspector": {
   "cols": {
    "lenName": 16,
    "lenType": 16,
    "lenVar": 40
   },
   "kernels_config": {
    "python": {
     "delete_cmd_postfix": "",
     "delete_cmd_prefix": "del ",
     "library": "var_list.py",
     "varRefreshCmd": "print(var_dic_list())"
    },
    "r": {
     "delete_cmd_postfix": ") ",
     "delete_cmd_prefix": "rm(",
     "library": "var_list.r",
     "varRefreshCmd": "cat(var_dic_list()) "
    }
   },
   "types_to_exclude": [
    "module",
    "function",
    "builtin_function_or_method",
    "instance",
    "_Feature"
   ],
   "window_display": false
  }
 },
 "nbformat": 4,
 "nbformat_minor": 2
}
