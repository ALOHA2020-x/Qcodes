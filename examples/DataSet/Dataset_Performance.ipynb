{
 "cells": [
  {
   "cell_type": "markdown",
   "metadata": {},
   "source": [
    "# DataSet Performance\n",
    "\n",
    "This notebook shows the trade-off between inserting data into a database row-by-row and as binary blobs. Inserting the data row-by-row means that we have direct access to all the data and may perform queries directly on the values of the data. On the other hand, as we shall see, this is much slower than inserting the data directly as binary blobs."
   ]
  },
  {
   "cell_type": "markdown",
   "metadata": {},
   "source": [
    "First, we choose a new location for the database to ensure that we don't add a bunch of benchmarking data to the default one."
   ]
  },
  {
   "cell_type": "code",
   "execution_count": 1,
   "metadata": {
    "execution": {
     "iopub.execute_input": "2020-12-02T08:07:27.246159Z",
     "iopub.status.busy": "2020-12-02T08:07:27.245561Z",
     "iopub.status.idle": "2020-12-02T08:07:28.467499Z",
     "shell.execute_reply": "2020-12-02T08:07:28.466451Z"
    }
   },
   "outputs": [
    {
     "name": "stdout",
     "output_type": "stream",
     "text": [
      "Logging hadn't been started.\n",
      "Activating auto-logging. Current session state plus future input saved.\n",
      "Filename       : /home/vsts/.qcodes/logs/command_history.log\n",
      "Mode           : append\n",
      "Output logging : True\n",
      "Raw input log  : False\n",
      "Timestamping   : True\n",
      "State          : active\n"
     ]
    },
    {
     "name": "stdout",
     "output_type": "stream",
     "text": [
      "Qcodes Logfile : /home/vsts/.qcodes/logs/201202-14075-qcodes.log\n"
     ]
    }
   ],
   "source": [
    "import os\n",
    "cwd = os.getcwd()\n",
    "import qcodes as qc\n",
    "qc.config[\"core\"][\"db_location\"] = os.path.join(cwd, 'testing.db')\n"
   ]
  },
  {
   "cell_type": "code",
   "execution_count": 2,
   "metadata": {
    "execution": {
     "iopub.execute_input": "2020-12-02T08:07:28.474902Z",
     "iopub.status.busy": "2020-12-02T08:07:28.474203Z",
     "iopub.status.idle": "2020-12-02T08:07:28.683034Z",
     "shell.execute_reply": "2020-12-02T08:07:28.679946Z"
    }
   },
   "outputs": [],
   "source": [
    "%matplotlib inline\n",
    "import time\n",
    "import matplotlib.pyplot as plt\n",
    "import numpy as np\n",
    "\n",
    "import qcodes as qc\n",
    "from qcodes.instrument.parameter import ManualParameter\n",
    "from qcodes.dataset.experiment_container import (Experiment,\n",
    "                                                 load_last_experiment,\n",
    "                                                 new_experiment)\n",
    "from qcodes.dataset.sqlite.database import initialise_database\n",
    "from qcodes import load_or_create_experiment\n",
    "from qcodes.dataset.measurements import Measurement"
   ]
  },
  {
   "cell_type": "code",
   "execution_count": 3,
   "metadata": {
    "execution": {
     "iopub.execute_input": "2020-12-02T08:07:28.687569Z",
     "iopub.status.busy": "2020-12-02T08:07:28.686403Z",
     "iopub.status.idle": "2020-12-02T08:07:28.803070Z",
     "shell.execute_reply": "2020-12-02T08:07:28.803635Z"
    }
   },
   "outputs": [
    {
     "name": "stdout",
     "output_type": "stream",
     "text": [
      "\r",
      "0it [00:00, ?it/s]"
     ]
    },
    {
     "name": "stdout",
     "output_type": "stream",
     "text": [
      "\r",
      "Upgrading database; v0 -> v1: : 0it [00:00, ?it/s]"
     ]
    },
    {
     "name": "stdout",
     "output_type": "stream",
     "text": [
      "\r",
      "Upgrading database; v0 -> v1: : 0it [00:00, ?it/s]"
     ]
    },
    {
     "name": "stdout",
     "output_type": "stream",
     "text": [
      "\n",
      "\r",
      "  0%|          | 0/1 [00:00<?, ?it/s]"
     ]
    },
    {
     "name": "stdout",
     "output_type": "stream",
     "text": [
      "\r",
      "Upgrading database; v1 -> v2:   0%|          | 0/1 [00:00<?, ?it/s]"
     ]
    },
    {
     "name": "stdout",
     "output_type": "stream",
     "text": [
      "\r",
      "Upgrading database; v1 -> v2: 100%|██████████| 1/1 [00:00<00:00, 347.64it/s]"
     ]
    },
    {
     "name": "stdout",
     "output_type": "stream",
     "text": [
      "\n",
      "\r",
      "0it [00:00, ?it/s]"
     ]
    },
    {
     "name": "stdout",
     "output_type": "stream",
     "text": [
      "\r",
      "Upgrading database; v2 -> v3: : 0it [00:00, ?it/s]"
     ]
    },
    {
     "name": "stdout",
     "output_type": "stream",
     "text": [
      "\r",
      "Upgrading database; v2 -> v3: : 0it [00:00, ?it/s]"
     ]
    },
    {
     "name": "stdout",
     "output_type": "stream",
     "text": [
      "\n",
      "\r",
      "0it [00:00, ?it/s]"
     ]
    },
    {
     "name": "stdout",
     "output_type": "stream",
     "text": [
      "\r",
      "Upgrading database; v3 -> v4: : 0it [00:00, ?it/s]"
     ]
    },
    {
     "name": "stdout",
     "output_type": "stream",
     "text": [
      "\r",
      "Upgrading database; v3 -> v4: : 0it [00:00, ?it/s]"
     ]
    },
    {
     "name": "stdout",
     "output_type": "stream",
     "text": [
      "\n",
      "\r",
      "  0%|          | 0/1 [00:00<?, ?it/s]"
     ]
    },
    {
     "name": "stdout",
     "output_type": "stream",
     "text": [
      "\r",
      "Upgrading database; v4 -> v5:   0%|          | 0/1 [00:00<?, ?it/s]"
     ]
    },
    {
     "name": "stdout",
     "output_type": "stream",
     "text": [
      "\r",
      "Upgrading database; v4 -> v5: 100%|██████████| 1/1 [00:00<00:00, 746.18it/s]"
     ]
    },
    {
     "name": "stdout",
     "output_type": "stream",
     "text": [
      "\n",
      "\r",
      "0it [00:00, ?it/s]"
     ]
    },
    {
     "name": "stdout",
     "output_type": "stream",
     "text": [
      "\r",
      "Upgrading database; v5 -> v6: : 0it [00:00, ?it/s]"
     ]
    },
    {
     "name": "stdout",
     "output_type": "stream",
     "text": [
      "\r",
      "Upgrading database; v5 -> v6: : 0it [00:00, ?it/s]"
     ]
    },
    {
     "name": "stdout",
     "output_type": "stream",
     "text": [
      "\n",
      "\r",
      "  0%|          | 0/1 [00:00<?, ?it/s]"
     ]
    },
    {
     "name": "stdout",
     "output_type": "stream",
     "text": [
      "\r",
      "Upgrading database; v6 -> v7:   0%|          | 0/1 [00:00<?, ?it/s]"
     ]
    },
    {
     "name": "stdout",
     "output_type": "stream",
     "text": [
      "\r",
      "Upgrading database; v6 -> v7: 100%|██████████| 1/1 [00:00<00:00, 380.61it/s]"
     ]
    },
    {
     "name": "stdout",
     "output_type": "stream",
     "text": [
      "\n",
      "\r",
      "  0%|          | 0/1 [00:00<?, ?it/s]"
     ]
    },
    {
     "name": "stdout",
     "output_type": "stream",
     "text": [
      "\r",
      "Upgrading database; v7 -> v8:   0%|          | 0/1 [00:00<?, ?it/s]"
     ]
    },
    {
     "name": "stdout",
     "output_type": "stream",
     "text": [
      "\r",
      "Upgrading database; v7 -> v8: 100%|██████████| 1/1 [00:00<00:00, 385.47it/s]"
     ]
    },
    {
     "name": "stdout",
     "output_type": "stream",
     "text": [
      "\n",
      "\r",
      "  0%|          | 0/1 [00:00<?, ?it/s]"
     ]
    },
    {
     "name": "stdout",
     "output_type": "stream",
     "text": [
      "\r",
      "Upgrading database; v8 -> v9:   0%|          | 0/1 [00:00<?, ?it/s]"
     ]
    },
    {
     "name": "stdout",
     "output_type": "stream",
     "text": [
      "\r",
      "Upgrading database; v8 -> v9: 100%|██████████| 1/1 [00:00<00:00, 723.03it/s]"
     ]
    },
    {
     "name": "stdout",
     "output_type": "stream",
     "text": [
      "\n"
     ]
    }
   ],
   "source": [
    "initialise_database()\n",
    "exp = load_or_create_experiment(experiment_name='tutorial_exp', sample_name=\"no sample\")"
   ]
  },
  {
   "cell_type": "markdown",
   "metadata": {},
   "source": [
    "Here, we define a simple function to benchmark the time it takes to insert n points with either numeric or array data type.\n",
    "We will compare both the time used to call ``add_result`` and the time used for the full measurement."
   ]
  },
  {
   "cell_type": "code",
   "execution_count": 4,
   "metadata": {
    "execution": {
     "iopub.execute_input": "2020-12-02T08:07:28.812391Z",
     "iopub.status.busy": "2020-12-02T08:07:28.811631Z",
     "iopub.status.idle": "2020-12-02T08:07:28.815209Z",
     "shell.execute_reply": "2020-12-02T08:07:28.815724Z"
    }
   },
   "outputs": [],
   "source": [
    "def insert_data(paramtype, npoints, nreps=1):\n",
    "\n",
    "    meas = Measurement(exp=exp)\n",
    "\n",
    "    x1 = ManualParameter('x1')\n",
    "    x2 = ManualParameter('x2')\n",
    "    x3 = ManualParameter('x3')\n",
    "    y1 = ManualParameter('y1')\n",
    "    y2 = ManualParameter('y2')\n",
    "\n",
    "    meas.register_parameter(x1, paramtype=paramtype)\n",
    "    meas.register_parameter(x2, paramtype=paramtype)\n",
    "    meas.register_parameter(x3, paramtype=paramtype)\n",
    "    meas.register_parameter(y1, setpoints=[x1, x2, x3],\n",
    "                            paramtype=paramtype)\n",
    "    meas.register_parameter(y2, setpoints=[x1, x2, x3],\n",
    "                            paramtype=paramtype)\n",
    "    start = time.perf_counter()\n",
    "    with meas.run() as datasaver:\n",
    "        start_adding = time.perf_counter()\n",
    "        for i in range(nreps):\n",
    "            datasaver.add_result((x1, np.random.rand(npoints)),\n",
    "                                 (x2, np.random.rand(npoints)),\n",
    "                                 (x3, np.random.rand(npoints)),\n",
    "                                 (y1, np.random.rand(npoints)),\n",
    "                                 (y2, np.random.rand(npoints)))\n",
    "        stop_adding = time.perf_counter()\n",
    "        run_id = datasaver.run_id\n",
    "    stop = time.perf_counter()\n",
    "    tot_time = stop - start\n",
    "    add_time = stop_adding - start_adding\n",
    "    return tot_time, add_time, run_id"
   ]
  },
  {
   "cell_type": "markdown",
   "metadata": {},
   "source": [
    "## Comparison between numeric/array data and binary blob"
   ]
  },
  {
   "cell_type": "markdown",
   "metadata": {},
   "source": [
    "### Case1: Short experiment time"
   ]
  },
  {
   "cell_type": "code",
   "execution_count": 5,
   "metadata": {
    "execution": {
     "iopub.execute_input": "2020-12-02T08:07:28.822189Z",
     "iopub.status.busy": "2020-12-02T08:07:28.821123Z",
     "iopub.status.idle": "2020-12-02T08:07:29.740759Z",
     "shell.execute_reply": "2020-12-02T08:07:29.741349Z"
    }
   },
   "outputs": [
    {
     "name": "stdout",
     "output_type": "stream",
     "text": [
      "Starting experimental run with id: 1. \n",
      "Starting experimental run with id: 2. \n",
      "Starting experimental run with id: 3. \n",
      "Starting experimental run with id: 4. \n"
     ]
    },
    {
     "name": "stdout",
     "output_type": "stream",
     "text": [
      "Starting experimental run with id: 5. \n"
     ]
    },
    {
     "name": "stdout",
     "output_type": "stream",
     "text": [
      "Starting experimental run with id: 6. \n",
      "Starting experimental run with id: 7. \n"
     ]
    },
    {
     "name": "stdout",
     "output_type": "stream",
     "text": [
      "Starting experimental run with id: 8. \n",
      "Starting experimental run with id: 9. \n"
     ]
    },
    {
     "name": "stdout",
     "output_type": "stream",
     "text": [
      "Starting experimental run with id: 10. \n",
      "Starting experimental run with id: 11. \n"
     ]
    },
    {
     "name": "stdout",
     "output_type": "stream",
     "text": [
      "Starting experimental run with id: 12. \n"
     ]
    },
    {
     "name": "stdout",
     "output_type": "stream",
     "text": [
      "Starting experimental run with id: 13. \n"
     ]
    },
    {
     "name": "stdout",
     "output_type": "stream",
     "text": [
      "Starting experimental run with id: 14. \n"
     ]
    }
   ],
   "source": [
    "sizes = [1,500,1000,2000,3000,4000,5000]\n",
    "t_numeric = []\n",
    "t_numeric_add = []\n",
    "t_array = []\n",
    "t_array_add = []\n",
    "for size in sizes:\n",
    "    tn, tna, run_id_n =  insert_data('numeric', size)\n",
    "    t_numeric.append(tn)\n",
    "    t_numeric_add.append(tna)\n",
    "\n",
    "    ta, taa, run_id_a =  insert_data('array', size)\n",
    "    t_array.append(ta)\n",
    "    t_array_add.append(taa)"
   ]
  },
  {
   "cell_type": "code",
   "execution_count": 6,
   "metadata": {
    "execution": {
     "iopub.execute_input": "2020-12-02T08:07:29.768528Z",
     "iopub.status.busy": "2020-12-02T08:07:29.750899Z",
     "iopub.status.idle": "2020-12-02T08:07:29.988731Z",
     "shell.execute_reply": "2020-12-02T08:07:29.989442Z"
    }
   },
   "outputs": [
    {
     "data": {
      "image/png": "[encoded data removed]",
      "text/plain": [
       "<Figure size 432x288 with 1 Axes>"
      ]
     },
     "metadata": {
      "needs_background": "light"
     },
     "output_type": "display_data"
    }
   ],
   "source": [
    "fig, ax = plt.subplots(1,1)\n",
    "ax.plot(sizes, t_numeric, 'o-', label='Inserting row-by-row')\n",
    "ax.plot(sizes, t_numeric_add, 'o-', label='Inserting row-by-row: add_result only')\n",
    "ax.plot(sizes, t_array, 'd-', label='Inserting as binary blob')\n",
    "ax.plot(sizes, t_array_add, 'd-', label='Inserting as binary blob: add_result only')\n",
    "ax.legend()\n",
    "ax.set_xlabel('Array length')\n",
    "ax.set_ylabel('Time (s)')\n",
    "fig.tight_layout()"
   ]
  },
  {
   "cell_type": "markdown",
   "metadata": {},
   "source": [
    "As shown in the latter figure, the time to setup and and close the experiment is approximately 0.4 sec. In case of small array sizes, the difference between inserting values of data as arrays and inserting them row-by-row is relatively unimportant. At larger array sizes, i.e. above 10000 points, the cost of writing data as individual datapoints starts to become important.\n"
   ]
  },
  {
   "cell_type": "markdown",
   "metadata": {},
   "source": [
    "### Case2: Long experiment time "
   ]
  },
  {
   "cell_type": "code",
   "execution_count": 7,
   "metadata": {
    "execution": {
     "iopub.execute_input": "2020-12-02T08:07:29.996625Z",
     "iopub.status.busy": "2020-12-02T08:07:29.995575Z",
     "iopub.status.idle": "2020-12-02T08:08:34.428735Z",
     "shell.execute_reply": "2020-12-02T08:08:34.429273Z"
    }
   },
   "outputs": [
    {
     "name": "stdout",
     "output_type": "stream",
     "text": [
      "Starting experimental run with id: 15. \n",
      "Starting experimental run with id: 16. \n",
      "Starting experimental run with id: 17. \n"
     ]
    },
    {
     "name": "stdout",
     "output_type": "stream",
     "text": [
      "Starting experimental run with id: 18. \n",
      "Starting experimental run with id: 19. \n"
     ]
    },
    {
     "name": "stdout",
     "output_type": "stream",
     "text": [
      "Starting experimental run with id: 20. \n"
     ]
    },
    {
     "name": "stdout",
     "output_type": "stream",
     "text": [
      "Starting experimental run with id: 21. \n"
     ]
    },
    {
     "name": "stdout",
     "output_type": "stream",
     "text": [
      "Starting experimental run with id: 22. \n"
     ]
    },
    {
     "name": "stdout",
     "output_type": "stream",
     "text": [
      "Starting experimental run with id: 23. \n"
     ]
    },
    {
     "name": "stdout",
     "output_type": "stream",
     "text": [
      "Starting experimental run with id: 24. \n"
     ]
    },
    {
     "name": "stdout",
     "output_type": "stream",
     "text": [
      "Starting experimental run with id: 25. \n"
     ]
    },
    {
     "name": "stdout",
     "output_type": "stream",
     "text": [
      "Starting experimental run with id: 26. \n"
     ]
    },
    {
     "name": "stdout",
     "output_type": "stream",
     "text": [
      "Starting experimental run with id: 27. \n"
     ]
    },
    {
     "name": "stdout",
     "output_type": "stream",
     "text": [
      "Starting experimental run with id: 28. \n"
     ]
    }
   ],
   "source": [
    "sizes = [1,500,1000,2000,3000,4000,5000]\n",
    "nreps = 100\n",
    "t_numeric = []\n",
    "t_numeric_add = []\n",
    "t_numeric_run_ids = []\n",
    "t_array = []\n",
    "t_array_add = []\n",
    "t_array_run_ids = []\n",
    "for size in sizes:\n",
    "    tn, tna, run_id_n =  insert_data('numeric', size, nreps=nreps)\n",
    "    t_numeric.append(tn)\n",
    "    t_numeric_add.append(tna)\n",
    "    t_numeric_run_ids.append(run_id_n)\n",
    "\n",
    "    ta, taa, run_id_a =  insert_data('array', size, nreps=nreps)\n",
    "    t_array.append(ta)\n",
    "    t_array_add.append(taa)\n",
    "    t_array_run_ids.append(run_id_a)"
   ]
  },
  {
   "cell_type": "code",
   "execution_count": 8,
   "metadata": {
    "execution": {
     "iopub.execute_input": "2020-12-02T08:08:34.458696Z",
     "iopub.status.busy": "2020-12-02T08:08:34.448464Z",
     "iopub.status.idle": "2020-12-02T08:08:34.689899Z",
     "shell.execute_reply": "2020-12-02T08:08:34.689380Z"
    },
    "scrolled": true
   },
   "outputs": [
    {
     "data": {
      "image/png": "[encoded data removed]",
      "text/plain": [
       "<Figure size 432x288 with 1 Axes>"
      ]
     },
     "metadata": {
      "needs_background": "light"
     },
     "output_type": "display_data"
    }
   ],
   "source": [
    "fig, ax = plt.subplots(1,1)\n",
    "ax.plot(sizes, t_numeric, 'o-', label='Inserting row-by-row')\n",
    "ax.plot(sizes, t_numeric_add, 'o-', label='Inserting row-by-row: add_result only')\n",
    "ax.plot(sizes, t_array, 'd-', label='Inserting as binary blob')\n",
    "ax.plot(sizes, t_array_add, 'd-', label='Inserting as binary blob: add_result only')\n",
    "ax.legend()\n",
    "ax.set_xlabel('Array length')\n",
    "ax.set_ylabel('Time (s)')\n",
    "fig.tight_layout()"
   ]
  },
  {
   "cell_type": "markdown",
   "metadata": {},
   "source": [
    "However, as we increase the length of the experiment, as seen here by repeating the insertion 100 times, we see a big difference between inserting values of the data row-by-row and inserting it as a binary blob."
   ]
  },
  {
   "cell_type": "markdown",
   "metadata": {},
   "source": [
    "## Loading the data "
   ]
  },
  {
   "cell_type": "code",
   "execution_count": 9,
   "metadata": {
    "execution": {
     "iopub.execute_input": "2020-12-02T08:08:34.695020Z",
     "iopub.status.busy": "2020-12-02T08:08:34.694445Z",
     "iopub.status.idle": "2020-12-02T08:08:34.698208Z",
     "shell.execute_reply": "2020-12-02T08:08:34.697691Z"
    }
   },
   "outputs": [],
   "source": [
    "from qcodes.dataset.data_set import load_by_id\n",
    "from qcodes.dataset.data_export import get_data_by_id"
   ]
  },
  {
   "cell_type": "markdown",
   "metadata": {},
   "source": [
    "As usual you can load the data by using the ``load_by_id`` function but you will notice that the different storage methods\n",
    "are reflected in shape of the data as it is retrieved. "
   ]
  },
  {
   "cell_type": "code",
   "execution_count": 10,
   "metadata": {
    "execution": {
     "iopub.execute_input": "2020-12-02T08:08:34.703079Z",
     "iopub.status.busy": "2020-12-02T08:08:34.701645Z",
     "iopub.status.idle": "2020-12-02T08:08:34.703704Z",
     "shell.execute_reply": "2020-12-02T08:08:34.704273Z"
    }
   },
   "outputs": [],
   "source": [
    "run_id_n = t_numeric_run_ids[0]\n",
    "run_id_a = t_array_run_ids[0]"
   ]
  },
  {
   "cell_type": "code",
   "execution_count": 11,
   "metadata": {
    "execution": {
     "iopub.execute_input": "2020-12-02T08:08:34.707561Z",
     "iopub.status.busy": "2020-12-02T08:08:34.707018Z",
     "iopub.status.idle": "2020-12-02T08:08:34.717656Z",
     "shell.execute_reply": "2020-12-02T08:08:34.716812Z"
    },
    "scrolled": true
   },
   "outputs": [
    {
     "data": {
      "text/plain": [
       "{'x1': {'x1': array([1.89636845e-01, 1.89636845e-01, 7.54257492e-01, 7.54257492e-01,\n",
       "         7.66074395e-01, 7.66074395e-01, 4.09200996e-01, 4.09200996e-01,\n",
       "         3.36737957e-01, 3.36737957e-01, 8.14422269e-01, 8.14422269e-01,\n",
       "         7.15883359e-01, 7.15883359e-01, 9.28005237e-01, 9.28005237e-01,\n",
       "         3.04611746e-01, 3.04611746e-01, 4.35131798e-01, 4.35131798e-01,\n",
       "         1.49444028e-04, 1.49444028e-04, 6.30965504e-02, 6.30965504e-02,\n",
       "         5.18982651e-01, 5.18982651e-01, 2.25117450e-01, 2.25117450e-01,\n",
       "         3.57369272e-01, 3.57369272e-01, 1.30705980e-01, 1.30705980e-01,\n",
       "         4.61550780e-01, 4.61550780e-01, 7.70109553e-02, 7.70109553e-02,\n",
       "         3.43421880e-01, 3.43421880e-01, 6.39305082e-02, 6.39305082e-02,\n",
       "         7.12286736e-01, 7.12286736e-01, 5.75674945e-01, 5.75674945e-01,\n",
       "         4.07813667e-01, 4.07813667e-01, 1.37722272e-02, 1.37722272e-02,\n",
       "         2.93140117e-01, 2.93140117e-01, 5.26721912e-01, 5.26721912e-01,\n",
       "         8.66543323e-01, 8.66543323e-01, 6.10183965e-01, 6.10183965e-01,\n",
       "         6.38572165e-01, 6.38572165e-01, 8.40367860e-01, 8.40367860e-01,\n",
       "         2.73638353e-01, 2.73638353e-01, 3.57313755e-01, 3.57313755e-01,\n",
       "         6.51425759e-01, 6.51425759e-01, 2.11388979e-02, 2.11388979e-02,\n",
       "         8.04118978e-02, 8.04118978e-02, 9.35451264e-01, 9.35451264e-01,\n",
       "         1.81832360e-01, 1.81832360e-01, 3.36877632e-01, 3.36877632e-01,\n",
       "         6.56276045e-01, 6.56276045e-01, 2.01511694e-01, 2.01511694e-01,\n",
       "         4.79166364e-01, 4.79166364e-01, 5.21387904e-01, 5.21387904e-01,\n",
       "         9.85139071e-01, 9.85139071e-01, 7.53454616e-01, 7.53454616e-01,\n",
       "         7.91159372e-01, 7.91159372e-01, 6.90646700e-01, 6.90646700e-01,\n",
       "         6.87273250e-01, 6.87273250e-01, 5.91099224e-01, 5.91099224e-01,\n",
       "         8.35838741e-01, 8.35838741e-01, 4.24774967e-01, 4.24774967e-01,\n",
       "         4.42269851e-01, 4.42269851e-01, 5.49180029e-01, 5.49180029e-01,\n",
       "         8.49302898e-01, 8.49302898e-01, 8.66255927e-01, 8.66255927e-01,\n",
       "         9.42716528e-01, 9.42716528e-01, 5.81910290e-01, 5.81910290e-01,\n",
       "         9.74368720e-01, 9.74368720e-01, 1.73623525e-01, 1.73623525e-01,\n",
       "         9.34972156e-01, 9.34972156e-01, 7.06451068e-01, 7.06451068e-01,\n",
       "         5.69193780e-02, 5.69193780e-02, 9.23105991e-01, 9.23105991e-01,\n",
       "         6.60353921e-01, 6.60353921e-01, 1.60540648e-02, 1.60540648e-02,\n",
       "         5.68028692e-01, 5.68028692e-01, 6.35626717e-01, 6.35626717e-01,\n",
       "         2.37503812e-01, 2.37503812e-01, 7.01652979e-02, 7.01652979e-02,\n",
       "         2.64592811e-02, 2.64592811e-02, 5.47129379e-01, 5.47129379e-01,\n",
       "         9.94427862e-01, 9.94427862e-01, 7.91980052e-01, 7.91980052e-01,\n",
       "         1.62185222e-02, 1.62185222e-02, 9.46072462e-01, 9.46072462e-01,\n",
       "         9.30518397e-01, 9.30518397e-01, 5.85619734e-01, 5.85619734e-01,\n",
       "         5.76251086e-01, 5.76251086e-01, 9.66184247e-01, 9.66184247e-01,\n",
       "         2.99763925e-01, 2.99763925e-01, 2.53066589e-02, 2.53066589e-02,\n",
       "         2.63174497e-01, 2.63174497e-01, 9.95760522e-01, 9.95760522e-01,\n",
       "         7.50481991e-01, 7.50481991e-01, 8.79254956e-01, 8.79254956e-01,\n",
       "         9.34816612e-01, 9.34816612e-01, 7.72845701e-01, 7.72845701e-01,\n",
       "         7.81428060e-01, 7.81428060e-01, 9.12507682e-01, 9.12507682e-01,\n",
       "         2.95838873e-01, 2.95838873e-01, 3.14004902e-01, 3.14004902e-01,\n",
       "         2.24367424e-01, 2.24367424e-01, 2.36770718e-01, 2.36770718e-01,\n",
       "         6.28903920e-01, 6.28903920e-01, 1.87522816e-01, 1.87522816e-01,\n",
       "         6.89355374e-01, 6.89355374e-01, 6.92168037e-01, 6.92168037e-01,\n",
       "         6.05356256e-01, 6.05356256e-01, 7.50110076e-02, 7.50110076e-02,\n",
       "         4.76320660e-01, 4.76320660e-01, 3.59416864e-01, 3.59416864e-01])}}"
      ]
     },
     "execution_count": 1,
     "metadata": {},
     "output_type": "execute_result"
    }
   ],
   "source": [
    "ds = load_by_id(run_id_n)\n",
    "ds.get_parameter_data('x1')"
   ]
  },
  {
   "cell_type": "markdown",
   "metadata": {},
   "source": [
    "And a dataset stored as binary arrays"
   ]
  },
  {
   "cell_type": "code",
   "execution_count": 12,
   "metadata": {
    "execution": {
     "iopub.execute_input": "2020-12-02T08:08:34.722020Z",
     "iopub.status.busy": "2020-12-02T08:08:34.721392Z",
     "iopub.status.idle": "2020-12-02T08:08:34.784232Z",
     "shell.execute_reply": "2020-12-02T08:08:34.784941Z"
    },
    "scrolled": true
   },
   "outputs": [
    {
     "data": {
      "text/plain": [
       "{'x1': {'x1': array([[0.62242971],\n",
       "         [0.62242971],\n",
       "         [0.25772053],\n",
       "         [0.25772053],\n",
       "         [0.61498853],\n",
       "         [0.61498853],\n",
       "         [0.2118901 ],\n",
       "         [0.2118901 ],\n",
       "         [0.32157554],\n",
       "         [0.32157554],\n",
       "         [0.19019086],\n",
       "         [0.19019086],\n",
       "         [0.37940893],\n",
       "         [0.37940893],\n",
       "         [0.98628876],\n",
       "         [0.98628876],\n",
       "         [0.91412467],\n",
       "         [0.91412467],\n",
       "         [0.90292997],\n",
       "         [0.90292997],\n",
       "         [0.77624245],\n",
       "         [0.77624245],\n",
       "         [0.93230771],\n",
       "         [0.93230771],\n",
       "         [0.43127617],\n",
       "         [0.43127617],\n",
       "         [0.6884871 ],\n",
       "         [0.6884871 ],\n",
       "         [0.91289551],\n",
       "         [0.91289551],\n",
       "         [0.4690636 ],\n",
       "         [0.4690636 ],\n",
       "         [0.59591096],\n",
       "         [0.59591096],\n",
       "         [0.64695735],\n",
       "         [0.64695735],\n",
       "         [0.96610452],\n",
       "         [0.96610452],\n",
       "         [0.10002739],\n",
       "         [0.10002739],\n",
       "         [0.58373615],\n",
       "         [0.58373615],\n",
       "         [0.94323775],\n",
       "         [0.94323775],\n",
       "         [0.77680714],\n",
       "         [0.77680714],\n",
       "         [0.39605809],\n",
       "         [0.39605809],\n",
       "         [0.73531691],\n",
       "         [0.73531691],\n",
       "         [0.87446873],\n",
       "         [0.87446873],\n",
       "         [0.91720262],\n",
       "         [0.91720262],\n",
       "         [0.8984819 ],\n",
       "         [0.8984819 ],\n",
       "         [0.02043728],\n",
       "         [0.02043728],\n",
       "         [0.98623478],\n",
       "         [0.98623478],\n",
       "         [0.52069638],\n",
       "         [0.52069638],\n",
       "         [0.83105739],\n",
       "         [0.83105739],\n",
       "         [0.44541972],\n",
       "         [0.44541972],\n",
       "         [0.81518362],\n",
       "         [0.81518362],\n",
       "         [0.05417157],\n",
       "         [0.05417157],\n",
       "         [0.65611855],\n",
       "         [0.65611855],\n",
       "         [0.59935877],\n",
       "         [0.59935877],\n",
       "         [0.83363984],\n",
       "         [0.83363984],\n",
       "         [0.0232564 ],\n",
       "         [0.0232564 ],\n",
       "         [0.53130801],\n",
       "         [0.53130801],\n",
       "         [0.29565355],\n",
       "         [0.29565355],\n",
       "         [0.91021449],\n",
       "         [0.91021449],\n",
       "         [0.84373384],\n",
       "         [0.84373384],\n",
       "         [0.33463157],\n",
       "         [0.33463157],\n",
       "         [0.72203084],\n",
       "         [0.72203084],\n",
       "         [0.00281987],\n",
       "         [0.00281987],\n",
       "         [0.03029824],\n",
       "         [0.03029824],\n",
       "         [0.65483007],\n",
       "         [0.65483007],\n",
       "         [0.97617095],\n",
       "         [0.97617095],\n",
       "         [0.39455728],\n",
       "         [0.39455728],\n",
       "         [0.72257746],\n",
       "         [0.72257746],\n",
       "         [0.24871194],\n",
       "         [0.24871194],\n",
       "         [0.21473031],\n",
       "         [0.21473031],\n",
       "         [0.43262153],\n",
       "         [0.43262153],\n",
       "         [0.82565466],\n",
       "         [0.82565466],\n",
       "         [0.98995049],\n",
       "         [0.98995049],\n",
       "         [0.83358566],\n",
       "         [0.83358566],\n",
       "         [0.27497139],\n",
       "         [0.27497139],\n",
       "         [0.98583853],\n",
       "         [0.98583853],\n",
       "         [0.81041095],\n",
       "         [0.81041095],\n",
       "         [0.47345853],\n",
       "         [0.47345853],\n",
       "         [0.26073097],\n",
       "         [0.26073097],\n",
       "         [0.50105569],\n",
       "         [0.50105569],\n",
       "         [0.25357582],\n",
       "         [0.25357582],\n",
       "         [0.60555792],\n",
       "         [0.60555792],\n",
       "         [0.89646668],\n",
       "         [0.89646668],\n",
       "         [0.97281491],\n",
       "         [0.97281491],\n",
       "         [0.85957614],\n",
       "         [0.85957614],\n",
       "         [0.30944995],\n",
       "         [0.30944995],\n",
       "         [0.02515608],\n",
       "         [0.02515608],\n",
       "         [0.82267361],\n",
       "         [0.82267361],\n",
       "         [0.79234719],\n",
       "         [0.79234719],\n",
       "         [0.86779546],\n",
       "         [0.86779546],\n",
       "         [0.91124645],\n",
       "         [0.91124645],\n",
       "         [0.09832861],\n",
       "         [0.09832861],\n",
       "         [0.64318226],\n",
       "         [0.64318226],\n",
       "         [0.91088143],\n",
       "         [0.91088143],\n",
       "         [0.52758849],\n",
       "         [0.52758849],\n",
       "         [0.88398043],\n",
       "         [0.88398043],\n",
       "         [0.25810723],\n",
       "         [0.25810723],\n",
       "         [0.91226042],\n",
       "         [0.91226042],\n",
       "         [0.79158133],\n",
       "         [0.79158133],\n",
       "         [0.07610889],\n",
       "         [0.07610889],\n",
       "         [0.31617333],\n",
       "         [0.31617333],\n",
       "         [0.69640713],\n",
       "         [0.69640713],\n",
       "         [0.17561254],\n",
       "         [0.17561254],\n",
       "         [0.91996091],\n",
       "         [0.91996091],\n",
       "         [0.46376122],\n",
       "         [0.46376122],\n",
       "         [0.953113  ],\n",
       "         [0.953113  ],\n",
       "         [0.53521676],\n",
       "         [0.53521676],\n",
       "         [0.87562466],\n",
       "         [0.87562466],\n",
       "         [0.05738834],\n",
       "         [0.05738834],\n",
       "         [0.31050007],\n",
       "         [0.31050007],\n",
       "         [0.30208194],\n",
       "         [0.30208194],\n",
       "         [0.78421805],\n",
       "         [0.78421805],\n",
       "         [0.28194307],\n",
       "         [0.28194307],\n",
       "         [0.48385927],\n",
       "         [0.48385927],\n",
       "         [0.05229971],\n",
       "         [0.05229971],\n",
       "         [0.62280482],\n",
       "         [0.62280482],\n",
       "         [0.39493364],\n",
       "         [0.39493364]])}}"
      ]
     },
     "execution_count": 1,
     "metadata": {},
     "output_type": "execute_result"
    }
   ],
   "source": [
    "ds = load_by_id(run_id_a)\n",
    "ds.get_parameter_data('x1')"
   ]
  },
  {
   "cell_type": "code",
   "execution_count": null,
   "metadata": {},
   "outputs": [],
   "source": []
  }
 ],
 "metadata": {
  "kernelspec": {
   "display_name": "Python 3",
   "language": "python",
   "name": "python3"
  },
  "language_info": {
   "codemirror_mode": {
    "name": "ipython",
    "version": 3
   },
   "file_extension": ".py",
   "mimetype": "text/x-python",
   "name": "python",
   "nbconvert_exporter": "python",
   "pygments_lexer": "ipython3",
   "version": "3.7.9"
  },
  "nbsphinx": {
   "timeout": 600
  },
  "toc": {
   "base_numbering": 1,
   "nav_menu": {},
   "number_sections": true,
   "sideBar": true,
   "skip_h1_title": false,
   "title_cell": "Table of Contents",
   "title_sidebar": "Contents",
   "toc_cell": false,
   "toc_position": {},
   "toc_section_display": true,
   "toc_window_display": false
  },
  "varInspector": {
   "cols": {
    "lenName": 16,
    "lenType": 16,
    "lenVar": 40
   },
   "kernels_config": {
    "python": {
     "delete_cmd_postfix": "",
     "delete_cmd_prefix": "del ",
     "library": "var_list.py",
     "varRefreshCmd": "print(var_dic_list())"
    },
    "r": {
     "delete_cmd_postfix": ") ",
     "delete_cmd_prefix": "rm(",
     "library": "var_list.r",
     "varRefreshCmd": "cat(var_dic_list()) "
    }
   },
   "types_to_exclude": [
    "module",
    "function",
    "builtin_function_or_method",
    "instance",
    "_Feature"
   ],
   "window_display": false
  }
 },
 "nbformat": 4,
 "nbformat_minor": 2
}
