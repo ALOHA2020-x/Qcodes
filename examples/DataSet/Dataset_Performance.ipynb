{
 "cells": [
  {
   "cell_type": "markdown",
   "metadata": {},
   "source": [
    "# DataSet Performance\n",
    "\n",
    "This notebook shows the trade-off between inserting data into a database row-by-row and as binary blobs. Inserting the data row-by-row means that we have direct access to all the data and may perform queries directly on the values of the data. On the other hand, as we shall see, this is much slower than inserting the data directly as binary blobs."
   ]
  },
  {
   "cell_type": "markdown",
   "metadata": {},
   "source": [
    "First, we choose a new location for the database to ensure that we don't add a bunch of benchmarking data to the default one."
   ]
  },
  {
   "cell_type": "code",
   "execution_count": 1,
   "metadata": {
    "execution": {
     "iopub.execute_input": "2020-09-25T14:11:44.418574Z",
     "iopub.status.busy": "2020-09-25T14:11:44.418151Z",
     "iopub.status.idle": "2020-09-25T14:11:45.376221Z",
     "shell.execute_reply": "2020-09-25T14:11:45.376823Z"
    }
   },
   "outputs": [
    {
     "name": "stdout",
     "output_type": "stream",
     "text": [
      "Logging hadn't been started.\n",
      "Activating auto-logging. Current session state plus future input saved.\n",
      "Filename       : /home/vsts/.qcodes/logs/command_history.log\n",
      "Mode           : append\n",
      "Output logging : True\n",
      "Raw input log  : False\n",
      "Timestamping   : True\n",
      "State          : active\n"
     ]
    },
    {
     "name": "stdout",
     "output_type": "stream",
     "text": [
      "Qcodes Logfile : /home/vsts/.qcodes/logs/200925-19794-qcodes.log\n"
     ]
    }
   ],
   "source": [
    "import os\n",
    "cwd = os.getcwd()\n",
    "import qcodes as qc\n",
    "qc.config[\"core\"][\"db_location\"] = os.path.join(cwd, 'testing.db')\n"
   ]
  },
  {
   "cell_type": "code",
   "execution_count": 2,
   "metadata": {
    "execution": {
     "iopub.execute_input": "2020-09-25T14:11:45.384026Z",
     "iopub.status.busy": "2020-09-25T14:11:45.382443Z",
     "iopub.status.idle": "2020-09-25T14:11:45.569171Z",
     "shell.execute_reply": "2020-09-25T14:11:45.568149Z"
    }
   },
   "outputs": [],
   "source": [
    "%matplotlib inline\n",
    "import time\n",
    "import matplotlib.pyplot as plt\n",
    "import numpy as np\n",
    "\n",
    "import qcodes as qc\n",
    "from qcodes.instrument.parameter import ManualParameter\n",
    "from qcodes.dataset.experiment_container import (Experiment,\n",
    "                                                 load_last_experiment,\n",
    "                                                 new_experiment)\n",
    "from qcodes.dataset.sqlite.database import initialise_database\n",
    "from qcodes import load_or_create_experiment\n",
    "from qcodes.dataset.measurements import Measurement"
   ]
  },
  {
   "cell_type": "code",
   "execution_count": 3,
   "metadata": {
    "execution": {
     "iopub.execute_input": "2020-09-25T14:11:45.573886Z",
     "iopub.status.busy": "2020-09-25T14:11:45.573326Z",
     "iopub.status.idle": "2020-09-25T14:11:45.697271Z",
     "shell.execute_reply": "2020-09-25T14:11:45.696812Z"
    }
   },
   "outputs": [
    {
     "name": "stdout",
     "output_type": "stream",
     "text": [
      "\r",
      "0it [00:00, ?it/s]"
     ]
    },
    {
     "name": "stdout",
     "output_type": "stream",
     "text": [
      "\r",
      "Upgrading database; v0 -> v1: : 0it [00:00, ?it/s]"
     ]
    },
    {
     "name": "stdout",
     "output_type": "stream",
     "text": [
      "\r",
      "Upgrading database; v0 -> v1: : 0it [00:00, ?it/s]"
     ]
    },
    {
     "name": "stdout",
     "output_type": "stream",
     "text": [
      "\n",
      "\r",
      "  0%|          | 0/1 [00:00<?, ?it/s]"
     ]
    },
    {
     "name": "stdout",
     "output_type": "stream",
     "text": [
      "\r",
      "Upgrading database; v1 -> v2:   0%|          | 0/1 [00:00<?, ?it/s]"
     ]
    },
    {
     "name": "stdout",
     "output_type": "stream",
     "text": [
      "\r",
      "Upgrading database; v1 -> v2: 100%|██████████| 1/1 [00:00<00:00, 406.54it/s]"
     ]
    },
    {
     "name": "stdout",
     "output_type": "stream",
     "text": [
      "\n",
      "\r",
      "0it [00:00, ?it/s]"
     ]
    },
    {
     "name": "stdout",
     "output_type": "stream",
     "text": [
      "\r",
      "Upgrading database; v2 -> v3: : 0it [00:00, ?it/s]"
     ]
    },
    {
     "name": "stdout",
     "output_type": "stream",
     "text": [
      "\r",
      "Upgrading database; v2 -> v3: : 0it [00:00, ?it/s]"
     ]
    },
    {
     "name": "stdout",
     "output_type": "stream",
     "text": [
      "\n",
      "\r",
      "0it [00:00, ?it/s]"
     ]
    },
    {
     "name": "stdout",
     "output_type": "stream",
     "text": [
      "\r",
      "Upgrading database; v3 -> v4: : 0it [00:00, ?it/s]"
     ]
    },
    {
     "name": "stdout",
     "output_type": "stream",
     "text": [
      "\r",
      "Upgrading database; v3 -> v4: : 0it [00:00, ?it/s]"
     ]
    },
    {
     "name": "stdout",
     "output_type": "stream",
     "text": [
      "\n",
      "\r",
      "  0%|          | 0/1 [00:00<?, ?it/s]"
     ]
    },
    {
     "name": "stdout",
     "output_type": "stream",
     "text": [
      "\r",
      "Upgrading database; v4 -> v5:   0%|          | 0/1 [00:00<?, ?it/s]"
     ]
    },
    {
     "name": "stdout",
     "output_type": "stream",
     "text": [
      "\r",
      "Upgrading database; v4 -> v5: 100%|██████████| 1/1 [00:00<00:00, 458.74it/s]"
     ]
    },
    {
     "name": "stdout",
     "output_type": "stream",
     "text": [
      "\n",
      "\r",
      "0it [00:00, ?it/s]"
     ]
    },
    {
     "name": "stdout",
     "output_type": "stream",
     "text": [
      "\r",
      "Upgrading database; v5 -> v6: : 0it [00:00, ?it/s]"
     ]
    },
    {
     "name": "stdout",
     "output_type": "stream",
     "text": [
      "\r",
      "Upgrading database; v5 -> v6: : 0it [00:00, ?it/s]"
     ]
    },
    {
     "name": "stdout",
     "output_type": "stream",
     "text": [
      "\n",
      "\r",
      "  0%|          | 0/1 [00:00<?, ?it/s]"
     ]
    },
    {
     "name": "stdout",
     "output_type": "stream",
     "text": [
      "\r",
      "Upgrading database; v6 -> v7:   0%|          | 0/1 [00:00<?, ?it/s]"
     ]
    },
    {
     "name": "stdout",
     "output_type": "stream",
     "text": [
      "\r",
      "Upgrading database; v6 -> v7: 100%|██████████| 1/1 [00:00<00:00, 279.66it/s]"
     ]
    },
    {
     "name": "stdout",
     "output_type": "stream",
     "text": [
      "\n",
      "\r",
      "  0%|          | 0/1 [00:00<?, ?it/s]"
     ]
    },
    {
     "name": "stdout",
     "output_type": "stream",
     "text": [
      "\r",
      "Upgrading database; v7 -> v8:   0%|          | 0/1 [00:00<?, ?it/s]"
     ]
    },
    {
     "name": "stdout",
     "output_type": "stream",
     "text": [
      "\r",
      "Upgrading database; v7 -> v8: 100%|██████████| 1/1 [00:00<00:00, 936.86it/s]"
     ]
    },
    {
     "name": "stdout",
     "output_type": "stream",
     "text": [
      "\n",
      "\r",
      "  0%|          | 0/1 [00:00<?, ?it/s]"
     ]
    },
    {
     "name": "stdout",
     "output_type": "stream",
     "text": [
      "\r",
      "Upgrading database; v8 -> v9:   0%|          | 0/1 [00:00<?, ?it/s]"
     ]
    },
    {
     "name": "stdout",
     "output_type": "stream",
     "text": [
      "\r",
      "Upgrading database; v8 -> v9: 100%|██████████| 1/1 [00:00<00:00, 378.07it/s]"
     ]
    },
    {
     "name": "stdout",
     "output_type": "stream",
     "text": [
      "\n"
     ]
    }
   ],
   "source": [
    "initialise_database()\n",
    "exp = load_or_create_experiment(experiment_name='tutorial_exp', sample_name=\"no sample\")"
   ]
  },
  {
   "cell_type": "markdown",
   "metadata": {},
   "source": [
    "Here, we define a simple function to benchmark the time it takes to insert n points with either numeric or array data type.\n",
    "We will compare both the time used to call ``add_result`` and the time used for the full measurement."
   ]
  },
  {
   "cell_type": "code",
   "execution_count": 4,
   "metadata": {
    "execution": {
     "iopub.execute_input": "2020-09-25T14:11:45.705751Z",
     "iopub.status.busy": "2020-09-25T14:11:45.705194Z",
     "iopub.status.idle": "2020-09-25T14:11:45.708822Z",
     "shell.execute_reply": "2020-09-25T14:11:45.708288Z"
    }
   },
   "outputs": [],
   "source": [
    "def insert_data(paramtype, npoints, nreps=1):\n",
    "\n",
    "    meas = Measurement(exp=exp)\n",
    "\n",
    "    x1 = ManualParameter('x1')\n",
    "    x2 = ManualParameter('x2')\n",
    "    x3 = ManualParameter('x3')\n",
    "    y1 = ManualParameter('y1')\n",
    "    y2 = ManualParameter('y2')\n",
    "\n",
    "    meas.register_parameter(x1, paramtype=paramtype)\n",
    "    meas.register_parameter(x2, paramtype=paramtype)\n",
    "    meas.register_parameter(x3, paramtype=paramtype)\n",
    "    meas.register_parameter(y1, setpoints=[x1, x2, x3],\n",
    "                            paramtype=paramtype)\n",
    "    meas.register_parameter(y2, setpoints=[x1, x2, x3],\n",
    "                            paramtype=paramtype)\n",
    "    start = time.perf_counter()\n",
    "    with meas.run() as datasaver:\n",
    "        start_adding = time.perf_counter()\n",
    "        for i in range(nreps):\n",
    "            datasaver.add_result((x1, np.random.rand(npoints)),\n",
    "                                 (x2, np.random.rand(npoints)),\n",
    "                                 (x3, np.random.rand(npoints)),\n",
    "                                 (y1, np.random.rand(npoints)),\n",
    "                                 (y2, np.random.rand(npoints)))\n",
    "        stop_adding = time.perf_counter()\n",
    "        run_id = datasaver.run_id\n",
    "    stop = time.perf_counter()\n",
    "    tot_time = stop - start\n",
    "    add_time = stop_adding - start_adding\n",
    "    return tot_time, add_time, run_id"
   ]
  },
  {
   "cell_type": "markdown",
   "metadata": {},
   "source": [
    "## Comparison between numeric/array data and binary blob"
   ]
  },
  {
   "cell_type": "markdown",
   "metadata": {},
   "source": [
    "### Case1: Short experiment time"
   ]
  },
  {
   "cell_type": "code",
   "execution_count": 5,
   "metadata": {
    "execution": {
     "iopub.execute_input": "2020-09-25T14:11:45.715199Z",
     "iopub.status.busy": "2020-09-25T14:11:45.714368Z",
     "iopub.status.idle": "2020-09-25T14:11:46.518455Z",
     "shell.execute_reply": "2020-09-25T14:11:46.517616Z"
    }
   },
   "outputs": [
    {
     "name": "stdout",
     "output_type": "stream",
     "text": [
      "Starting experimental run with id: 1. \n",
      "Starting experimental run with id: 2. \n",
      "Starting experimental run with id: 3. \n",
      "Starting experimental run with id: 4. \n",
      "Starting experimental run with id: 5. \n"
     ]
    },
    {
     "name": "stdout",
     "output_type": "stream",
     "text": [
      "Starting experimental run with id: 6. \n"
     ]
    },
    {
     "name": "stdout",
     "output_type": "stream",
     "text": [
      "Starting experimental run with id: 7. \n"
     ]
    },
    {
     "name": "stdout",
     "output_type": "stream",
     "text": [
      "Starting experimental run with id: 8. \n",
      "Starting experimental run with id: 9. \n"
     ]
    },
    {
     "name": "stdout",
     "output_type": "stream",
     "text": [
      "Starting experimental run with id: 10. \n",
      "Starting experimental run with id: 11. \n"
     ]
    },
    {
     "name": "stdout",
     "output_type": "stream",
     "text": [
      "Starting experimental run with id: 12. \n",
      "Starting experimental run with id: 13. \n"
     ]
    },
    {
     "name": "stdout",
     "output_type": "stream",
     "text": [
      "Starting experimental run with id: 14. \n"
     ]
    }
   ],
   "source": [
    "sizes = [1,500,1000,2000,3000,4000,5000]\n",
    "t_numeric = []\n",
    "t_numeric_add = []\n",
    "t_array = []\n",
    "t_array_add = []\n",
    "for size in sizes:\n",
    "    tn, tna, run_id_n =  insert_data('numeric', size)\n",
    "    t_numeric.append(tn)\n",
    "    t_numeric_add.append(tna)\n",
    "\n",
    "    ta, taa, run_id_a =  insert_data('array', size)\n",
    "    t_array.append(ta)\n",
    "    t_array_add.append(taa)"
   ]
  },
  {
   "cell_type": "code",
   "execution_count": 6,
   "metadata": {
    "execution": {
     "iopub.execute_input": "2020-09-25T14:11:46.535715Z",
     "iopub.status.busy": "2020-09-25T14:11:46.534977Z",
     "iopub.status.idle": "2020-09-25T14:11:46.707969Z",
     "shell.execute_reply": "2020-09-25T14:11:46.706775Z"
    }
   },
   "outputs": [
    {
     "data": {
      "image/png": "[encoded data removed]",
      "text/plain": [
       "<Figure size 432x288 with 1 Axes>"
      ]
     },
     "metadata": {
      "needs_background": "light"
     },
     "output_type": "display_data"
    }
   ],
   "source": [
    "fig, ax = plt.subplots(1,1)\n",
    "ax.plot(sizes, t_numeric, 'o-', label='Inserting row-by-row')\n",
    "ax.plot(sizes, t_numeric_add, 'o-', label='Inserting row-by-row: add_result only')\n",
    "ax.plot(sizes, t_array, 'd-', label='Inserting as binary blob')\n",
    "ax.plot(sizes, t_array_add, 'd-', label='Inserting as binary blob: add_result only')\n",
    "ax.legend()\n",
    "ax.set_xlabel('Array length')\n",
    "ax.set_ylabel('Time (s)')\n",
    "fig.tight_layout()"
   ]
  },
  {
   "cell_type": "markdown",
   "metadata": {},
   "source": [
    "As shown in the latter figure, the time to setup and and close the experiment is approximately 0.4 sec. In case of small array sizes, the difference between inserting values of data as arrays and inserting them row-by-row is relatively unimportant. At larger array sizes, i.e. above 10000 points, the cost of writing data as individual datapoints starts to become important.\n"
   ]
  },
  {
   "cell_type": "markdown",
   "metadata": {},
   "source": [
    "### Case2: Long experiment time "
   ]
  },
  {
   "cell_type": "code",
   "execution_count": 7,
   "metadata": {
    "execution": {
     "iopub.execute_input": "2020-09-25T14:11:46.714892Z",
     "iopub.status.busy": "2020-09-25T14:11:46.714372Z",
     "iopub.status.idle": "2020-09-25T14:12:40.351209Z",
     "shell.execute_reply": "2020-09-25T14:12:40.351918Z"
    }
   },
   "outputs": [
    {
     "name": "stdout",
     "output_type": "stream",
     "text": [
      "Starting experimental run with id: 15. \n",
      "Starting experimental run with id: 16. \n",
      "Starting experimental run with id: 17. \n"
     ]
    },
    {
     "name": "stdout",
     "output_type": "stream",
     "text": [
      "Starting experimental run with id: 18. \n",
      "Starting experimental run with id: 19. \n"
     ]
    },
    {
     "name": "stdout",
     "output_type": "stream",
     "text": [
      "Starting experimental run with id: 20. \n"
     ]
    },
    {
     "name": "stdout",
     "output_type": "stream",
     "text": [
      "Starting experimental run with id: 21. \n"
     ]
    },
    {
     "name": "stdout",
     "output_type": "stream",
     "text": [
      "Starting experimental run with id: 22. \n"
     ]
    },
    {
     "name": "stdout",
     "output_type": "stream",
     "text": [
      "Starting experimental run with id: 23. \n"
     ]
    },
    {
     "name": "stdout",
     "output_type": "stream",
     "text": [
      "Starting experimental run with id: 24. \n"
     ]
    },
    {
     "name": "stdout",
     "output_type": "stream",
     "text": [
      "Starting experimental run with id: 25. \n"
     ]
    },
    {
     "name": "stdout",
     "output_type": "stream",
     "text": [
      "Starting experimental run with id: 26. \n"
     ]
    },
    {
     "name": "stdout",
     "output_type": "stream",
     "text": [
      "Starting experimental run with id: 27. \n"
     ]
    },
    {
     "name": "stdout",
     "output_type": "stream",
     "text": [
      "Starting experimental run with id: 28. \n"
     ]
    }
   ],
   "source": [
    "sizes = [1,500,1000,2000,3000,4000,5000]\n",
    "nreps = 100\n",
    "t_numeric = []\n",
    "t_numeric_add = []\n",
    "t_numeric_run_ids = []\n",
    "t_array = []\n",
    "t_array_add = []\n",
    "t_array_run_ids = []\n",
    "for size in sizes:\n",
    "    tn, tna, run_id_n =  insert_data('numeric', size, nreps=nreps)\n",
    "    t_numeric.append(tn)\n",
    "    t_numeric_add.append(tna)\n",
    "    t_numeric_run_ids.append(run_id_n)\n",
    "\n",
    "    ta, taa, run_id_a =  insert_data('array', size, nreps=nreps)\n",
    "    t_array.append(ta)\n",
    "    t_array_add.append(taa)\n",
    "    t_array_run_ids.append(run_id_a)"
   ]
  },
  {
   "cell_type": "code",
   "execution_count": 8,
   "metadata": {
    "execution": {
     "iopub.execute_input": "2020-09-25T14:12:40.375763Z",
     "iopub.status.busy": "2020-09-25T14:12:40.368704Z",
     "iopub.status.idle": "2020-09-25T14:12:40.528549Z",
     "shell.execute_reply": "2020-09-25T14:12:40.528154Z"
    },
    "scrolled": true
   },
   "outputs": [
    {
     "data": {
      "image/png": "[encoded data removed]",
      "text/plain": [
       "<Figure size 432x288 with 1 Axes>"
      ]
     },
     "metadata": {
      "needs_background": "light"
     },
     "output_type": "display_data"
    }
   ],
   "source": [
    "fig, ax = plt.subplots(1,1)\n",
    "ax.plot(sizes, t_numeric, 'o-', label='Inserting row-by-row')\n",
    "ax.plot(sizes, t_numeric_add, 'o-', label='Inserting row-by-row: add_result only')\n",
    "ax.plot(sizes, t_array, 'd-', label='Inserting as binary blob')\n",
    "ax.plot(sizes, t_array_add, 'd-', label='Inserting as binary blob: add_result only')\n",
    "ax.legend()\n",
    "ax.set_xlabel('Array length')\n",
    "ax.set_ylabel('Time (s)')\n",
    "fig.tight_layout()"
   ]
  },
  {
   "cell_type": "markdown",
   "metadata": {},
   "source": [
    "However, as we increase the length of the experiment, as seen here by repeating the insertion 100 times, we see a big difference between inserting values of the data row-by-row and inserting it as a binary blob."
   ]
  },
  {
   "cell_type": "markdown",
   "metadata": {},
   "source": [
    "## Loading the data "
   ]
  },
  {
   "cell_type": "code",
   "execution_count": 9,
   "metadata": {
    "execution": {
     "iopub.execute_input": "2020-09-25T14:12:40.532164Z",
     "iopub.status.busy": "2020-09-25T14:12:40.531251Z",
     "iopub.status.idle": "2020-09-25T14:12:40.534142Z",
     "shell.execute_reply": "2020-09-25T14:12:40.533745Z"
    }
   },
   "outputs": [],
   "source": [
    "from qcodes.dataset.data_set import load_by_id\n",
    "from qcodes.dataset.data_export import get_data_by_id"
   ]
  },
  {
   "cell_type": "markdown",
   "metadata": {},
   "source": [
    "As usual you can load the data by using the ``load_by_id`` function but you will notice that the different storage methods\n",
    "are reflected in shape of the data as it is retrieved. "
   ]
  },
  {
   "cell_type": "code",
   "execution_count": 10,
   "metadata": {
    "execution": {
     "iopub.execute_input": "2020-09-25T14:12:40.538164Z",
     "iopub.status.busy": "2020-09-25T14:12:40.537003Z",
     "iopub.status.idle": "2020-09-25T14:12:40.538642Z",
     "shell.execute_reply": "2020-09-25T14:12:40.539152Z"
    }
   },
   "outputs": [],
   "source": [
    "run_id_n = t_numeric_run_ids[0]\n",
    "run_id_a = t_array_run_ids[0]"
   ]
  },
  {
   "cell_type": "code",
   "execution_count": 11,
   "metadata": {
    "execution": {
     "iopub.execute_input": "2020-09-25T14:12:40.542105Z",
     "iopub.status.busy": "2020-09-25T14:12:40.541601Z",
     "iopub.status.idle": "2020-09-25T14:12:40.549053Z",
     "shell.execute_reply": "2020-09-25T14:12:40.548691Z"
    },
    "scrolled": true
   },
   "outputs": [
    {
     "data": {
      "text/plain": [
       "{'x1': {'x1': array([0.91899092, 0.91899092, 0.61733375, 0.61733375, 0.15338904,\n",
       "         0.15338904, 0.46320432, 0.46320432, 0.36139554, 0.36139554,\n",
       "         0.94226489, 0.94226489, 0.88563133, 0.88563133, 0.28671526,\n",
       "         0.28671526, 0.33288445, 0.33288445, 0.86667767, 0.86667767,\n",
       "         0.44647331, 0.44647331, 0.31660444, 0.31660444, 0.01034909,\n",
       "         0.01034909, 0.46224571, 0.46224571, 0.76768041, 0.76768041,\n",
       "         0.6665854 , 0.6665854 , 0.571478  , 0.571478  , 0.68124854,\n",
       "         0.68124854, 0.68319706, 0.68319706, 0.47239152, 0.47239152,\n",
       "         0.07290115, 0.07290115, 0.17155716, 0.17155716, 0.47428896,\n",
       "         0.47428896, 0.72253733, 0.72253733, 0.84700112, 0.84700112,\n",
       "         0.79970094, 0.79970094, 0.83520037, 0.83520037, 0.88752138,\n",
       "         0.88752138, 0.97514368, 0.97514368, 0.22758259, 0.22758259,\n",
       "         0.60194297, 0.60194297, 0.46748244, 0.46748244, 0.24847799,\n",
       "         0.24847799, 0.80719531, 0.80719531, 0.32071122, 0.32071122,\n",
       "         0.18622935, 0.18622935, 0.38179644, 0.38179644, 0.62009595,\n",
       "         0.62009595, 0.23121125, 0.23121125, 0.30334315, 0.30334315,\n",
       "         0.41265977, 0.41265977, 0.20894   , 0.20894   , 0.1917136 ,\n",
       "         0.1917136 , 0.64275551, 0.64275551, 0.79296257, 0.79296257,\n",
       "         0.41349377, 0.41349377, 0.27504594, 0.27504594, 0.01492019,\n",
       "         0.01492019, 0.46858209, 0.46858209, 0.80596735, 0.80596735,\n",
       "         0.8252331 , 0.8252331 , 0.98327176, 0.98327176, 0.61145178,\n",
       "         0.61145178, 0.24062616, 0.24062616, 0.27485769, 0.27485769,\n",
       "         0.57932719, 0.57932719, 0.42386421, 0.42386421, 0.7147279 ,\n",
       "         0.7147279 , 0.69474547, 0.69474547, 0.43553135, 0.43553135,\n",
       "         0.42976633, 0.42976633, 0.72490811, 0.72490811, 0.17224945,\n",
       "         0.17224945, 0.85761233, 0.85761233, 0.34029663, 0.34029663,\n",
       "         0.29159187, 0.29159187, 0.72063811, 0.72063811, 0.88287608,\n",
       "         0.88287608, 0.38738366, 0.38738366, 0.4613131 , 0.4613131 ,\n",
       "         0.44209209, 0.44209209, 0.66108679, 0.66108679, 0.27800188,\n",
       "         0.27800188, 0.61253822, 0.61253822, 0.7699505 , 0.7699505 ,\n",
       "         0.12266135, 0.12266135, 0.32193233, 0.32193233, 0.60744007,\n",
       "         0.60744007, 0.12265421, 0.12265421, 0.83737661, 0.83737661,\n",
       "         0.52563397, 0.52563397, 0.62580667, 0.62580667, 0.80582837,\n",
       "         0.80582837, 0.97336418, 0.97336418, 0.59628294, 0.59628294,\n",
       "         0.9253767 , 0.9253767 , 0.29754222, 0.29754222, 0.2859437 ,\n",
       "         0.2859437 , 0.03598649, 0.03598649, 0.66429933, 0.66429933,\n",
       "         0.67775792, 0.67775792, 0.22495691, 0.22495691, 0.89274389,\n",
       "         0.89274389, 0.62152228, 0.62152228, 0.25550616, 0.25550616,\n",
       "         0.13770478, 0.13770478, 0.31121982, 0.31121982, 0.07772521,\n",
       "         0.07772521, 0.15709826, 0.15709826, 0.03069525, 0.03069525])}}"
      ]
     },
     "execution_count": 1,
     "metadata": {},
     "output_type": "execute_result"
    }
   ],
   "source": [
    "ds = load_by_id(run_id_n)\n",
    "ds.get_parameter_data('x1')"
   ]
  },
  {
   "cell_type": "markdown",
   "metadata": {},
   "source": [
    "And a dataset stored as binary arrays"
   ]
  },
  {
   "cell_type": "code",
   "execution_count": 12,
   "metadata": {
    "execution": {
     "iopub.execute_input": "2020-09-25T14:12:40.551864Z",
     "iopub.status.busy": "2020-09-25T14:12:40.551395Z",
     "iopub.status.idle": "2020-09-25T14:12:40.598154Z",
     "shell.execute_reply": "2020-09-25T14:12:40.599074Z"
    },
    "scrolled": true
   },
   "outputs": [
    {
     "data": {
      "text/plain": [
       "{'x1': {'x1': array([[0.43326419],\n",
       "         [0.43326419],\n",
       "         [0.445958  ],\n",
       "         [0.445958  ],\n",
       "         [0.62995926],\n",
       "         [0.62995926],\n",
       "         [0.18475011],\n",
       "         [0.18475011],\n",
       "         [0.68860346],\n",
       "         [0.68860346],\n",
       "         [0.10786923],\n",
       "         [0.10786923],\n",
       "         [0.01247169],\n",
       "         [0.01247169],\n",
       "         [0.56522617],\n",
       "         [0.56522617],\n",
       "         [0.39309635],\n",
       "         [0.39309635],\n",
       "         [0.92760419],\n",
       "         [0.92760419],\n",
       "         [0.76083908],\n",
       "         [0.76083908],\n",
       "         [0.05071047],\n",
       "         [0.05071047],\n",
       "         [0.14741347],\n",
       "         [0.14741347],\n",
       "         [0.16570708],\n",
       "         [0.16570708],\n",
       "         [0.05529794],\n",
       "         [0.05529794],\n",
       "         [0.33946812],\n",
       "         [0.33946812],\n",
       "         [0.78814246],\n",
       "         [0.78814246],\n",
       "         [0.37794392],\n",
       "         [0.37794392],\n",
       "         [0.96065214],\n",
       "         [0.96065214],\n",
       "         [0.16134588],\n",
       "         [0.16134588],\n",
       "         [0.23264839],\n",
       "         [0.23264839],\n",
       "         [0.30578103],\n",
       "         [0.30578103],\n",
       "         [0.65536344],\n",
       "         [0.65536344],\n",
       "         [0.65167918],\n",
       "         [0.65167918],\n",
       "         [0.87534724],\n",
       "         [0.87534724],\n",
       "         [0.42363229],\n",
       "         [0.42363229],\n",
       "         [0.69105942],\n",
       "         [0.69105942],\n",
       "         [0.06057966],\n",
       "         [0.06057966],\n",
       "         [0.51368812],\n",
       "         [0.51368812],\n",
       "         [0.70027402],\n",
       "         [0.70027402],\n",
       "         [0.21242062],\n",
       "         [0.21242062],\n",
       "         [0.23410555],\n",
       "         [0.23410555],\n",
       "         [0.46775861],\n",
       "         [0.46775861],\n",
       "         [0.0985604 ],\n",
       "         [0.0985604 ],\n",
       "         [0.04187734],\n",
       "         [0.04187734],\n",
       "         [0.91815264],\n",
       "         [0.91815264],\n",
       "         [0.41520076],\n",
       "         [0.41520076],\n",
       "         [0.55337668],\n",
       "         [0.55337668],\n",
       "         [0.78333984],\n",
       "         [0.78333984],\n",
       "         [0.63055322],\n",
       "         [0.63055322],\n",
       "         [0.77679294],\n",
       "         [0.77679294],\n",
       "         [0.51933571],\n",
       "         [0.51933571],\n",
       "         [0.69785252],\n",
       "         [0.69785252],\n",
       "         [0.81180161],\n",
       "         [0.81180161],\n",
       "         [0.07268482],\n",
       "         [0.07268482],\n",
       "         [0.93822872],\n",
       "         [0.93822872],\n",
       "         [0.39562427],\n",
       "         [0.39562427],\n",
       "         [0.71842286],\n",
       "         [0.71842286],\n",
       "         [0.54010568],\n",
       "         [0.54010568],\n",
       "         [0.66352417],\n",
       "         [0.66352417],\n",
       "         [0.56442267],\n",
       "         [0.56442267],\n",
       "         [0.04236532],\n",
       "         [0.04236532],\n",
       "         [0.13755757],\n",
       "         [0.13755757],\n",
       "         [0.74360968],\n",
       "         [0.74360968],\n",
       "         [0.64067683],\n",
       "         [0.64067683],\n",
       "         [0.41985458],\n",
       "         [0.41985458],\n",
       "         [0.29230214],\n",
       "         [0.29230214],\n",
       "         [0.26929445],\n",
       "         [0.26929445],\n",
       "         [0.09316225],\n",
       "         [0.09316225],\n",
       "         [0.07488446],\n",
       "         [0.07488446],\n",
       "         [0.27918115],\n",
       "         [0.27918115],\n",
       "         [0.26513499],\n",
       "         [0.26513499],\n",
       "         [0.34497364],\n",
       "         [0.34497364],\n",
       "         [0.59859277],\n",
       "         [0.59859277],\n",
       "         [0.94828771],\n",
       "         [0.94828771],\n",
       "         [0.66174045],\n",
       "         [0.66174045],\n",
       "         [0.73522427],\n",
       "         [0.73522427],\n",
       "         [0.67733064],\n",
       "         [0.67733064],\n",
       "         [0.13248306],\n",
       "         [0.13248306],\n",
       "         [0.53861586],\n",
       "         [0.53861586],\n",
       "         [0.92060442],\n",
       "         [0.92060442],\n",
       "         [0.21815424],\n",
       "         [0.21815424],\n",
       "         [0.62454386],\n",
       "         [0.62454386],\n",
       "         [0.61881354],\n",
       "         [0.61881354],\n",
       "         [0.16316027],\n",
       "         [0.16316027],\n",
       "         [0.21753837],\n",
       "         [0.21753837],\n",
       "         [0.27299414],\n",
       "         [0.27299414],\n",
       "         [0.90127474],\n",
       "         [0.90127474],\n",
       "         [0.32370132],\n",
       "         [0.32370132],\n",
       "         [0.99269813],\n",
       "         [0.99269813],\n",
       "         [0.88752768],\n",
       "         [0.88752768],\n",
       "         [0.99000653],\n",
       "         [0.99000653],\n",
       "         [0.80208042],\n",
       "         [0.80208042],\n",
       "         [0.25720127],\n",
       "         [0.25720127],\n",
       "         [0.33128528],\n",
       "         [0.33128528],\n",
       "         [0.03291949],\n",
       "         [0.03291949],\n",
       "         [0.8417297 ],\n",
       "         [0.8417297 ],\n",
       "         [0.20838811],\n",
       "         [0.20838811],\n",
       "         [0.39973169],\n",
       "         [0.39973169],\n",
       "         [0.47783954],\n",
       "         [0.47783954],\n",
       "         [0.84683433],\n",
       "         [0.84683433],\n",
       "         [0.73692914],\n",
       "         [0.73692914],\n",
       "         [0.72104048],\n",
       "         [0.72104048],\n",
       "         [0.18739655],\n",
       "         [0.18739655],\n",
       "         [0.84105163],\n",
       "         [0.84105163],\n",
       "         [0.45631856],\n",
       "         [0.45631856],\n",
       "         [0.24943495],\n",
       "         [0.24943495],\n",
       "         [0.27303492],\n",
       "         [0.27303492],\n",
       "         [0.47317721],\n",
       "         [0.47317721],\n",
       "         [0.5909708 ],\n",
       "         [0.5909708 ]])}}"
      ]
     },
     "execution_count": 1,
     "metadata": {},
     "output_type": "execute_result"
    }
   ],
   "source": [
    "ds = load_by_id(run_id_a)\n",
    "ds.get_parameter_data('x1')"
   ]
  },
  {
   "cell_type": "code",
   "execution_count": null,
   "metadata": {},
   "outputs": [],
   "source": []
  }
 ],
 "metadata": {
  "kernelspec": {
   "display_name": "Python 3",
   "language": "python",
   "name": "python3"
  },
  "language_info": {
   "codemirror_mode": {
    "name": "ipython",
    "version": 3
   },
   "file_extension": ".py",
   "mimetype": "text/x-python",
   "name": "python",
   "nbconvert_exporter": "python",
   "pygments_lexer": "ipython3",
   "version": "3.7.7"
  },
  "nbsphinx": {
   "timeout": 600
  },
  "toc": {
   "base_numbering": 1,
   "nav_menu": {},
   "number_sections": true,
   "sideBar": true,
   "skip_h1_title": false,
   "title_cell": "Table of Contents",
   "title_sidebar": "Contents",
   "toc_cell": false,
   "toc_position": {},
   "toc_section_display": true,
   "toc_window_display": false
  },
  "varInspector": {
   "cols": {
    "lenName": 16,
    "lenType": 16,
    "lenVar": 40
   },
   "kernels_config": {
    "python": {
     "delete_cmd_postfix": "",
     "delete_cmd_prefix": "del ",
     "library": "var_list.py",
     "varRefreshCmd": "print(var_dic_list())"
    },
    "r": {
     "delete_cmd_postfix": ") ",
     "delete_cmd_prefix": "rm(",
     "library": "var_list.r",
     "varRefreshCmd": "cat(var_dic_list()) "
    }
   },
   "types_to_exclude": [
    "module",
    "function",
    "builtin_function_or_method",
    "instance",
    "_Feature"
   ],
   "window_display": false
  }
 },
 "nbformat": 4,
 "nbformat_minor": 2
}
