{
 "cells": [
  {
   "cell_type": "markdown",
   "metadata": {},
   "source": [
    "# DataSet Performance\n",
    "\n",
    "This notebook shows the trade-off between inserting data into a database row-by-row and as binary blobs. Inserting the data row-by-row means that we have direct access to all the data and may perform queries directly on the values of the data. On the other hand, as we shall see, this is much slower than inserting the data directly as binary blobs."
   ]
  },
  {
   "cell_type": "markdown",
   "metadata": {},
   "source": [
    "First, we choose a new location for the database to ensure that we don't add a bunch of benchmarking data to the default one."
   ]
  },
  {
   "cell_type": "code",
   "execution_count": 1,
   "metadata": {
    "execution": {
     "iopub.execute_input": "2020-11-02T15:41:53.955421Z",
     "iopub.status.busy": "2020-11-02T15:41:53.954742Z",
     "iopub.status.idle": "2020-11-02T15:41:55.033656Z",
     "shell.execute_reply": "2020-11-02T15:41:55.034101Z"
    }
   },
   "outputs": [
    {
     "name": "stdout",
     "output_type": "stream",
     "text": [
      "Logging hadn't been started.\n",
      "Activating auto-logging. Current session state plus future input saved.\n",
      "Filename       : /home/vsts/.qcodes/logs/command_history.log\n",
      "Mode           : append\n",
      "Output logging : True\n",
      "Raw input log  : False\n",
      "Timestamping   : True\n",
      "State          : active\n"
     ]
    },
    {
     "name": "stdout",
     "output_type": "stream",
     "text": [
      "Qcodes Logfile : /home/vsts/.qcodes/logs/201102-14718-qcodes.log\n"
     ]
    }
   ],
   "source": [
    "import os\n",
    "cwd = os.getcwd()\n",
    "import qcodes as qc\n",
    "qc.config[\"core\"][\"db_location\"] = os.path.join(cwd, 'testing.db')\n"
   ]
  },
  {
   "cell_type": "code",
   "execution_count": 2,
   "metadata": {
    "execution": {
     "iopub.execute_input": "2020-11-02T15:41:55.044055Z",
     "iopub.status.busy": "2020-11-02T15:41:55.041900Z",
     "iopub.status.idle": "2020-11-02T15:41:55.241489Z",
     "shell.execute_reply": "2020-11-02T15:41:55.240543Z"
    }
   },
   "outputs": [],
   "source": [
    "%matplotlib inline\n",
    "import time\n",
    "import matplotlib.pyplot as plt\n",
    "import numpy as np\n",
    "\n",
    "import qcodes as qc\n",
    "from qcodes.instrument.parameter import ManualParameter\n",
    "from qcodes.dataset.experiment_container import (Experiment,\n",
    "                                                 load_last_experiment,\n",
    "                                                 new_experiment)\n",
    "from qcodes.dataset.sqlite.database import initialise_database\n",
    "from qcodes import load_or_create_experiment\n",
    "from qcodes.dataset.measurements import Measurement"
   ]
  },
  {
   "cell_type": "code",
   "execution_count": 3,
   "metadata": {
    "execution": {
     "iopub.execute_input": "2020-11-02T15:41:55.245545Z",
     "iopub.status.busy": "2020-11-02T15:41:55.244641Z",
     "iopub.status.idle": "2020-11-02T15:41:55.372479Z",
     "shell.execute_reply": "2020-11-02T15:41:55.371763Z"
    }
   },
   "outputs": [
    {
     "name": "stdout",
     "output_type": "stream",
     "text": [
      "\r",
      "0it [00:00, ?it/s]"
     ]
    },
    {
     "name": "stdout",
     "output_type": "stream",
     "text": [
      "\r",
      "Upgrading database; v0 -> v1: : 0it [00:00, ?it/s]"
     ]
    },
    {
     "name": "stdout",
     "output_type": "stream",
     "text": [
      "\r",
      "Upgrading database; v0 -> v1: : 0it [00:00, ?it/s]"
     ]
    },
    {
     "name": "stdout",
     "output_type": "stream",
     "text": [
      "\n",
      "\r",
      "  0%|          | 0/1 [00:00<?, ?it/s]"
     ]
    },
    {
     "name": "stdout",
     "output_type": "stream",
     "text": [
      "\r",
      "Upgrading database; v1 -> v2:   0%|          | 0/1 [00:00<?, ?it/s]"
     ]
    },
    {
     "name": "stdout",
     "output_type": "stream",
     "text": [
      "\r",
      "Upgrading database; v1 -> v2: 100%|██████████| 1/1 [00:00<00:00, 960.45it/s]"
     ]
    },
    {
     "name": "stdout",
     "output_type": "stream",
     "text": [
      "\n",
      "\r",
      "0it [00:00, ?it/s]"
     ]
    },
    {
     "name": "stdout",
     "output_type": "stream",
     "text": [
      "\r",
      "Upgrading database; v2 -> v3: : 0it [00:00, ?it/s]"
     ]
    },
    {
     "name": "stdout",
     "output_type": "stream",
     "text": [
      "\r",
      "Upgrading database; v2 -> v3: : 0it [00:00, ?it/s]"
     ]
    },
    {
     "name": "stdout",
     "output_type": "stream",
     "text": [
      "\n",
      "\r",
      "0it [00:00, ?it/s]"
     ]
    },
    {
     "name": "stdout",
     "output_type": "stream",
     "text": [
      "\r",
      "Upgrading database; v3 -> v4: : 0it [00:00, ?it/s]"
     ]
    },
    {
     "name": "stdout",
     "output_type": "stream",
     "text": [
      "\r",
      "Upgrading database; v3 -> v4: : 0it [00:00, ?it/s]"
     ]
    },
    {
     "name": "stdout",
     "output_type": "stream",
     "text": [
      "\n",
      "\r",
      "  0%|          | 0/1 [00:00<?, ?it/s]"
     ]
    },
    {
     "name": "stdout",
     "output_type": "stream",
     "text": [
      "\r",
      "Upgrading database; v4 -> v5:   0%|          | 0/1 [00:00<?, ?it/s]"
     ]
    },
    {
     "name": "stdout",
     "output_type": "stream",
     "text": [
      "\r",
      "Upgrading database; v4 -> v5: 100%|██████████| 1/1 [00:00<00:00, 980.44it/s]"
     ]
    },
    {
     "name": "stdout",
     "output_type": "stream",
     "text": [
      "\n",
      "\r",
      "0it [00:00, ?it/s]"
     ]
    },
    {
     "name": "stdout",
     "output_type": "stream",
     "text": [
      "\r",
      "Upgrading database; v5 -> v6: : 0it [00:00, ?it/s]"
     ]
    },
    {
     "name": "stdout",
     "output_type": "stream",
     "text": [
      "\r",
      "Upgrading database; v5 -> v6: : 0it [00:00, ?it/s]"
     ]
    },
    {
     "name": "stdout",
     "output_type": "stream",
     "text": [
      "\n",
      "\r",
      "  0%|          | 0/1 [00:00<?, ?it/s]"
     ]
    },
    {
     "name": "stdout",
     "output_type": "stream",
     "text": [
      "\r",
      "Upgrading database; v6 -> v7:   0%|          | 0/1 [00:00<?, ?it/s]"
     ]
    },
    {
     "name": "stdout",
     "output_type": "stream",
     "text": [
      "\r",
      "Upgrading database; v6 -> v7: 100%|██████████| 1/1 [00:00<00:00, 183.15it/s]"
     ]
    },
    {
     "name": "stdout",
     "output_type": "stream",
     "text": [
      "\n",
      "\r",
      "  0%|          | 0/1 [00:00<?, ?it/s]"
     ]
    },
    {
     "name": "stdout",
     "output_type": "stream",
     "text": [
      "\r",
      "Upgrading database; v7 -> v8:   0%|          | 0/1 [00:00<?, ?it/s]"
     ]
    },
    {
     "name": "stdout",
     "output_type": "stream",
     "text": [
      "\r",
      "Upgrading database; v7 -> v8: 100%|██████████| 1/1 [00:00<00:00, 950.01it/s]"
     ]
    },
    {
     "name": "stdout",
     "output_type": "stream",
     "text": [
      "\n",
      "\r",
      "  0%|          | 0/1 [00:00<?, ?it/s]"
     ]
    },
    {
     "name": "stdout",
     "output_type": "stream",
     "text": [
      "\r",
      "Upgrading database; v8 -> v9:   0%|          | 0/1 [00:00<?, ?it/s]"
     ]
    },
    {
     "name": "stdout",
     "output_type": "stream",
     "text": [
      "\r",
      "Upgrading database; v8 -> v9: 100%|██████████| 1/1 [00:00<00:00, 1289.76it/s]"
     ]
    },
    {
     "name": "stdout",
     "output_type": "stream",
     "text": [
      "\n"
     ]
    }
   ],
   "source": [
    "initialise_database()\n",
    "exp = load_or_create_experiment(experiment_name='tutorial_exp', sample_name=\"no sample\")"
   ]
  },
  {
   "cell_type": "markdown",
   "metadata": {},
   "source": [
    "Here, we define a simple function to benchmark the time it takes to insert n points with either numeric or array data type.\n",
    "We will compare both the time used to call ``add_result`` and the time used for the full measurement."
   ]
  },
  {
   "cell_type": "code",
   "execution_count": 4,
   "metadata": {
    "execution": {
     "iopub.execute_input": "2020-11-02T15:41:55.380002Z",
     "iopub.status.busy": "2020-11-02T15:41:55.378689Z",
     "iopub.status.idle": "2020-11-02T15:41:55.382667Z",
     "shell.execute_reply": "2020-11-02T15:41:55.382144Z"
    }
   },
   "outputs": [],
   "source": [
    "def insert_data(paramtype, npoints, nreps=1):\n",
    "\n",
    "    meas = Measurement(exp=exp)\n",
    "\n",
    "    x1 = ManualParameter('x1')\n",
    "    x2 = ManualParameter('x2')\n",
    "    x3 = ManualParameter('x3')\n",
    "    y1 = ManualParameter('y1')\n",
    "    y2 = ManualParameter('y2')\n",
    "\n",
    "    meas.register_parameter(x1, paramtype=paramtype)\n",
    "    meas.register_parameter(x2, paramtype=paramtype)\n",
    "    meas.register_parameter(x3, paramtype=paramtype)\n",
    "    meas.register_parameter(y1, setpoints=[x1, x2, x3],\n",
    "                            paramtype=paramtype)\n",
    "    meas.register_parameter(y2, setpoints=[x1, x2, x3],\n",
    "                            paramtype=paramtype)\n",
    "    start = time.perf_counter()\n",
    "    with meas.run() as datasaver:\n",
    "        start_adding = time.perf_counter()\n",
    "        for i in range(nreps):\n",
    "            datasaver.add_result((x1, np.random.rand(npoints)),\n",
    "                                 (x2, np.random.rand(npoints)),\n",
    "                                 (x3, np.random.rand(npoints)),\n",
    "                                 (y1, np.random.rand(npoints)),\n",
    "                                 (y2, np.random.rand(npoints)))\n",
    "        stop_adding = time.perf_counter()\n",
    "        run_id = datasaver.run_id\n",
    "    stop = time.perf_counter()\n",
    "    tot_time = stop - start\n",
    "    add_time = stop_adding - start_adding\n",
    "    return tot_time, add_time, run_id"
   ]
  },
  {
   "cell_type": "markdown",
   "metadata": {},
   "source": [
    "## Comparison between numeric/array data and binary blob"
   ]
  },
  {
   "cell_type": "markdown",
   "metadata": {},
   "source": [
    "### Case1: Short experiment time"
   ]
  },
  {
   "cell_type": "code",
   "execution_count": 5,
   "metadata": {
    "execution": {
     "iopub.execute_input": "2020-11-02T15:41:55.388972Z",
     "iopub.status.busy": "2020-11-02T15:41:55.387518Z",
     "iopub.status.idle": "2020-11-02T15:41:56.285677Z",
     "shell.execute_reply": "2020-11-02T15:41:56.285151Z"
    }
   },
   "outputs": [
    {
     "name": "stdout",
     "output_type": "stream",
     "text": [
      "Starting experimental run with id: 1. \n",
      "Starting experimental run with id: 2. \n",
      "Starting experimental run with id: 3. \n"
     ]
    },
    {
     "name": "stdout",
     "output_type": "stream",
     "text": [
      "Starting experimental run with id: 4. \n"
     ]
    },
    {
     "name": "stdout",
     "output_type": "stream",
     "text": [
      "Starting experimental run with id: 5. \n"
     ]
    },
    {
     "name": "stdout",
     "output_type": "stream",
     "text": [
      "Starting experimental run with id: 6. \n",
      "Starting experimental run with id: 7. \n"
     ]
    },
    {
     "name": "stdout",
     "output_type": "stream",
     "text": [
      "Starting experimental run with id: 8. \n"
     ]
    },
    {
     "name": "stdout",
     "output_type": "stream",
     "text": [
      "Starting experimental run with id: 9. \n"
     ]
    },
    {
     "name": "stdout",
     "output_type": "stream",
     "text": [
      "Starting experimental run with id: 10. \n",
      "Starting experimental run with id: 11. \n"
     ]
    },
    {
     "name": "stdout",
     "output_type": "stream",
     "text": [
      "Starting experimental run with id: 12. \n"
     ]
    },
    {
     "name": "stdout",
     "output_type": "stream",
     "text": [
      "Starting experimental run with id: 13. \n"
     ]
    },
    {
     "name": "stdout",
     "output_type": "stream",
     "text": [
      "Starting experimental run with id: 14. \n"
     ]
    }
   ],
   "source": [
    "sizes = [1,500,1000,2000,3000,4000,5000]\n",
    "t_numeric = []\n",
    "t_numeric_add = []\n",
    "t_array = []\n",
    "t_array_add = []\n",
    "for size in sizes:\n",
    "    tn, tna, run_id_n =  insert_data('numeric', size)\n",
    "    t_numeric.append(tn)\n",
    "    t_numeric_add.append(tna)\n",
    "\n",
    "    ta, taa, run_id_a =  insert_data('array', size)\n",
    "    t_array.append(ta)\n",
    "    t_array_add.append(taa)"
   ]
  },
  {
   "cell_type": "code",
   "execution_count": 6,
   "metadata": {
    "execution": {
     "iopub.execute_input": "2020-11-02T15:41:56.306726Z",
     "iopub.status.busy": "2020-11-02T15:41:56.303269Z",
     "iopub.status.idle": "2020-11-02T15:41:56.527237Z",
     "shell.execute_reply": "2020-11-02T15:41:56.526690Z"
    }
   },
   "outputs": [
    {
     "data": {
      "image/png": "[encoded data removed]",
      "text/plain": [
       "<Figure size 432x288 with 1 Axes>"
      ]
     },
     "metadata": {
      "needs_background": "light"
     },
     "output_type": "display_data"
    }
   ],
   "source": [
    "fig, ax = plt.subplots(1,1)\n",
    "ax.plot(sizes, t_numeric, 'o-', label='Inserting row-by-row')\n",
    "ax.plot(sizes, t_numeric_add, 'o-', label='Inserting row-by-row: add_result only')\n",
    "ax.plot(sizes, t_array, 'd-', label='Inserting as binary blob')\n",
    "ax.plot(sizes, t_array_add, 'd-', label='Inserting as binary blob: add_result only')\n",
    "ax.legend()\n",
    "ax.set_xlabel('Array length')\n",
    "ax.set_ylabel('Time (s)')\n",
    "fig.tight_layout()"
   ]
  },
  {
   "cell_type": "markdown",
   "metadata": {},
   "source": [
    "As shown in the latter figure, the time to setup and and close the experiment is approximately 0.4 sec. In case of small array sizes, the difference between inserting values of data as arrays and inserting them row-by-row is relatively unimportant. At larger array sizes, i.e. above 10000 points, the cost of writing data as individual datapoints starts to become important.\n"
   ]
  },
  {
   "cell_type": "markdown",
   "metadata": {},
   "source": [
    "### Case2: Long experiment time "
   ]
  },
  {
   "cell_type": "code",
   "execution_count": 7,
   "metadata": {
    "execution": {
     "iopub.execute_input": "2020-11-02T15:41:56.535331Z",
     "iopub.status.busy": "2020-11-02T15:41:56.533970Z",
     "iopub.status.idle": "2020-11-02T15:42:57.242512Z",
     "shell.execute_reply": "2020-11-02T15:42:57.243546Z"
    }
   },
   "outputs": [
    {
     "name": "stdout",
     "output_type": "stream",
     "text": [
      "Starting experimental run with id: 15. \n",
      "Starting experimental run with id: 16. \n",
      "Starting experimental run with id: 17. \n"
     ]
    },
    {
     "name": "stdout",
     "output_type": "stream",
     "text": [
      "Starting experimental run with id: 18. \n",
      "Starting experimental run with id: 19. \n"
     ]
    },
    {
     "name": "stdout",
     "output_type": "stream",
     "text": [
      "Starting experimental run with id: 20. \n"
     ]
    },
    {
     "name": "stdout",
     "output_type": "stream",
     "text": [
      "Starting experimental run with id: 21. \n"
     ]
    },
    {
     "name": "stdout",
     "output_type": "stream",
     "text": [
      "Starting experimental run with id: 22. \n"
     ]
    },
    {
     "name": "stdout",
     "output_type": "stream",
     "text": [
      "Starting experimental run with id: 23. \n"
     ]
    },
    {
     "name": "stdout",
     "output_type": "stream",
     "text": [
      "Starting experimental run with id: 24. \n"
     ]
    },
    {
     "name": "stdout",
     "output_type": "stream",
     "text": [
      "Starting experimental run with id: 25. \n"
     ]
    },
    {
     "name": "stdout",
     "output_type": "stream",
     "text": [
      "Starting experimental run with id: 26. \n"
     ]
    },
    {
     "name": "stdout",
     "output_type": "stream",
     "text": [
      "Starting experimental run with id: 27. \n"
     ]
    },
    {
     "name": "stdout",
     "output_type": "stream",
     "text": [
      "Starting experimental run with id: 28. \n"
     ]
    }
   ],
   "source": [
    "sizes = [1,500,1000,2000,3000,4000,5000]\n",
    "nreps = 100\n",
    "t_numeric = []\n",
    "t_numeric_add = []\n",
    "t_numeric_run_ids = []\n",
    "t_array = []\n",
    "t_array_add = []\n",
    "t_array_run_ids = []\n",
    "for size in sizes:\n",
    "    tn, tna, run_id_n =  insert_data('numeric', size, nreps=nreps)\n",
    "    t_numeric.append(tn)\n",
    "    t_numeric_add.append(tna)\n",
    "    t_numeric_run_ids.append(run_id_n)\n",
    "\n",
    "    ta, taa, run_id_a =  insert_data('array', size, nreps=nreps)\n",
    "    t_array.append(ta)\n",
    "    t_array_add.append(taa)\n",
    "    t_array_run_ids.append(run_id_a)"
   ]
  },
  {
   "cell_type": "code",
   "execution_count": 8,
   "metadata": {
    "execution": {
     "iopub.execute_input": "2020-11-02T15:42:57.276444Z",
     "iopub.status.busy": "2020-11-02T15:42:57.269598Z",
     "iopub.status.idle": "2020-11-02T15:42:57.500505Z",
     "shell.execute_reply": "2020-11-02T15:42:57.501131Z"
    },
    "scrolled": true
   },
   "outputs": [
    {
     "data": {
      "image/png": "[encoded data removed]",
      "text/plain": [
       "<Figure size 432x288 with 1 Axes>"
      ]
     },
     "metadata": {
      "needs_background": "light"
     },
     "output_type": "display_data"
    }
   ],
   "source": [
    "fig, ax = plt.subplots(1,1)\n",
    "ax.plot(sizes, t_numeric, 'o-', label='Inserting row-by-row')\n",
    "ax.plot(sizes, t_numeric_add, 'o-', label='Inserting row-by-row: add_result only')\n",
    "ax.plot(sizes, t_array, 'd-', label='Inserting as binary blob')\n",
    "ax.plot(sizes, t_array_add, 'd-', label='Inserting as binary blob: add_result only')\n",
    "ax.legend()\n",
    "ax.set_xlabel('Array length')\n",
    "ax.set_ylabel('Time (s)')\n",
    "fig.tight_layout()"
   ]
  },
  {
   "cell_type": "markdown",
   "metadata": {},
   "source": [
    "However, as we increase the length of the experiment, as seen here by repeating the insertion 100 times, we see a big difference between inserting values of the data row-by-row and inserting it as a binary blob."
   ]
  },
  {
   "cell_type": "markdown",
   "metadata": {},
   "source": [
    "## Loading the data "
   ]
  },
  {
   "cell_type": "code",
   "execution_count": 9,
   "metadata": {
    "execution": {
     "iopub.execute_input": "2020-11-02T15:42:57.505953Z",
     "iopub.status.busy": "2020-11-02T15:42:57.504734Z",
     "iopub.status.idle": "2020-11-02T15:42:57.508763Z",
     "shell.execute_reply": "2020-11-02T15:42:57.509220Z"
    }
   },
   "outputs": [],
   "source": [
    "from qcodes.dataset.data_set import load_by_id\n",
    "from qcodes.dataset.data_export import get_data_by_id"
   ]
  },
  {
   "cell_type": "markdown",
   "metadata": {},
   "source": [
    "As usual you can load the data by using the ``load_by_id`` function but you will notice that the different storage methods\n",
    "are reflected in shape of the data as it is retrieved. "
   ]
  },
  {
   "cell_type": "code",
   "execution_count": 10,
   "metadata": {
    "execution": {
     "iopub.execute_input": "2020-11-02T15:42:57.514059Z",
     "iopub.status.busy": "2020-11-02T15:42:57.512861Z",
     "iopub.status.idle": "2020-11-02T15:42:57.514636Z",
     "shell.execute_reply": "2020-11-02T15:42:57.515077Z"
    }
   },
   "outputs": [],
   "source": [
    "run_id_n = t_numeric_run_ids[0]\n",
    "run_id_a = t_array_run_ids[0]"
   ]
  },
  {
   "cell_type": "code",
   "execution_count": 11,
   "metadata": {
    "execution": {
     "iopub.execute_input": "2020-11-02T15:42:57.518391Z",
     "iopub.status.busy": "2020-11-02T15:42:57.517745Z",
     "iopub.status.idle": "2020-11-02T15:42:57.529063Z",
     "shell.execute_reply": "2020-11-02T15:42:57.528316Z"
    },
    "scrolled": true
   },
   "outputs": [
    {
     "data": {
      "text/plain": [
       "{'x1': {'x1': array([0.31540648, 0.31540648, 0.34126368, 0.34126368, 0.48936248,\n",
       "         0.48936248, 0.20276696, 0.20276696, 0.33356943, 0.33356943,\n",
       "         0.4477927 , 0.4477927 , 0.30016509, 0.30016509, 0.71360086,\n",
       "         0.71360086, 0.7390991 , 0.7390991 , 0.41059337, 0.41059337,\n",
       "         0.19679366, 0.19679366, 0.47154387, 0.47154387, 0.06315113,\n",
       "         0.06315113, 0.4017025 , 0.4017025 , 0.14532818, 0.14532818,\n",
       "         0.50691908, 0.50691908, 0.9717346 , 0.9717346 , 0.80371522,\n",
       "         0.80371522, 0.2431383 , 0.2431383 , 0.34445377, 0.34445377,\n",
       "         0.00911909, 0.00911909, 0.6258444 , 0.6258444 , 0.28311661,\n",
       "         0.28311661, 0.95814731, 0.95814731, 0.1887337 , 0.1887337 ,\n",
       "         0.64516587, 0.64516587, 0.15454725, 0.15454725, 0.63169814,\n",
       "         0.63169814, 0.94870087, 0.94870087, 0.45393972, 0.45393972,\n",
       "         0.58091235, 0.58091235, 0.56155547, 0.56155547, 0.85841767,\n",
       "         0.85841767, 0.14898447, 0.14898447, 0.42306201, 0.42306201,\n",
       "         0.47125655, 0.47125655, 0.15897131, 0.15897131, 0.9590847 ,\n",
       "         0.9590847 , 0.13572632, 0.13572632, 0.47840718, 0.47840718,\n",
       "         0.05193726, 0.05193726, 0.41243239, 0.41243239, 0.09191043,\n",
       "         0.09191043, 0.18555412, 0.18555412, 0.17124691, 0.17124691,\n",
       "         0.29899639, 0.29899639, 0.13729939, 0.13729939, 0.72692871,\n",
       "         0.72692871, 0.35192582, 0.35192582, 0.43836688, 0.43836688,\n",
       "         0.05429137, 0.05429137, 0.58809433, 0.58809433, 0.06092523,\n",
       "         0.06092523, 0.09946426, 0.09946426, 0.06958487, 0.06958487,\n",
       "         0.08440461, 0.08440461, 0.29950696, 0.29950696, 0.88766742,\n",
       "         0.88766742, 0.98671668, 0.98671668, 0.60638272, 0.60638272,\n",
       "         0.82701388, 0.82701388, 0.10689174, 0.10689174, 0.83662934,\n",
       "         0.83662934, 0.70922516, 0.70922516, 0.45529035, 0.45529035,\n",
       "         0.6620804 , 0.6620804 , 0.07969605, 0.07969605, 0.81790085,\n",
       "         0.81790085, 0.69715289, 0.69715289, 0.11835456, 0.11835456,\n",
       "         0.88022096, 0.88022096, 0.86566477, 0.86566477, 0.26213107,\n",
       "         0.26213107, 0.00524006, 0.00524006, 0.22672999, 0.22672999,\n",
       "         0.339704  , 0.339704  , 0.59223248, 0.59223248, 0.01781419,\n",
       "         0.01781419, 0.88846457, 0.88846457, 0.40719003, 0.40719003,\n",
       "         0.89644498, 0.89644498, 0.13627473, 0.13627473, 0.55375344,\n",
       "         0.55375344, 0.76377353, 0.76377353, 0.72105439, 0.72105439,\n",
       "         0.3923628 , 0.3923628 , 0.70587808, 0.70587808, 0.19191165,\n",
       "         0.19191165, 0.1505527 , 0.1505527 , 0.37971578, 0.37971578,\n",
       "         0.86446934, 0.86446934, 0.95667343, 0.95667343, 0.5057618 ,\n",
       "         0.5057618 , 0.39996252, 0.39996252, 0.1326859 , 0.1326859 ,\n",
       "         0.31569484, 0.31569484, 0.20185184, 0.20185184, 0.19747211,\n",
       "         0.19747211, 0.41678993, 0.41678993, 0.15934439, 0.15934439])}}"
      ]
     },
     "execution_count": 1,
     "metadata": {},
     "output_type": "execute_result"
    }
   ],
   "source": [
    "ds = load_by_id(run_id_n)\n",
    "ds.get_parameter_data('x1')"
   ]
  },
  {
   "cell_type": "markdown",
   "metadata": {},
   "source": [
    "And a dataset stored as binary arrays"
   ]
  },
  {
   "cell_type": "code",
   "execution_count": 12,
   "metadata": {
    "execution": {
     "iopub.execute_input": "2020-11-02T15:42:57.532689Z",
     "iopub.status.busy": "2020-11-02T15:42:57.532117Z",
     "iopub.status.idle": "2020-11-02T15:42:57.598131Z",
     "shell.execute_reply": "2020-11-02T15:42:57.598706Z"
    },
    "scrolled": true
   },
   "outputs": [
    {
     "data": {
      "text/plain": [
       "{'x1': {'x1': array([[0.20791803],\n",
       "         [0.20791803],\n",
       "         [0.9567694 ],\n",
       "         [0.9567694 ],\n",
       "         [0.30956263],\n",
       "         [0.30956263],\n",
       "         [0.65008621],\n",
       "         [0.65008621],\n",
       "         [0.62710451],\n",
       "         [0.62710451],\n",
       "         [0.40445733],\n",
       "         [0.40445733],\n",
       "         [0.01801457],\n",
       "         [0.01801457],\n",
       "         [0.00614618],\n",
       "         [0.00614618],\n",
       "         [0.29908318],\n",
       "         [0.29908318],\n",
       "         [0.60989448],\n",
       "         [0.60989448],\n",
       "         [0.95259134],\n",
       "         [0.95259134],\n",
       "         [0.56829589],\n",
       "         [0.56829589],\n",
       "         [0.74106318],\n",
       "         [0.74106318],\n",
       "         [0.6150864 ],\n",
       "         [0.6150864 ],\n",
       "         [0.88301113],\n",
       "         [0.88301113],\n",
       "         [0.63944419],\n",
       "         [0.63944419],\n",
       "         [0.74573643],\n",
       "         [0.74573643],\n",
       "         [0.87061561],\n",
       "         [0.87061561],\n",
       "         [0.85529419],\n",
       "         [0.85529419],\n",
       "         [0.66753058],\n",
       "         [0.66753058],\n",
       "         [0.16819227],\n",
       "         [0.16819227],\n",
       "         [0.2661563 ],\n",
       "         [0.2661563 ],\n",
       "         [0.92035365],\n",
       "         [0.92035365],\n",
       "         [0.98438054],\n",
       "         [0.98438054],\n",
       "         [0.60930276],\n",
       "         [0.60930276],\n",
       "         [0.52917098],\n",
       "         [0.52917098],\n",
       "         [0.15644681],\n",
       "         [0.15644681],\n",
       "         [0.1033983 ],\n",
       "         [0.1033983 ],\n",
       "         [0.42443748],\n",
       "         [0.42443748],\n",
       "         [0.97088348],\n",
       "         [0.97088348],\n",
       "         [0.86842033],\n",
       "         [0.86842033],\n",
       "         [0.82499218],\n",
       "         [0.82499218],\n",
       "         [0.3861859 ],\n",
       "         [0.3861859 ],\n",
       "         [0.7986927 ],\n",
       "         [0.7986927 ],\n",
       "         [0.40047308],\n",
       "         [0.40047308],\n",
       "         [0.11213746],\n",
       "         [0.11213746],\n",
       "         [0.85655078],\n",
       "         [0.85655078],\n",
       "         [0.07301238],\n",
       "         [0.07301238],\n",
       "         [0.87161017],\n",
       "         [0.87161017],\n",
       "         [0.05752589],\n",
       "         [0.05752589],\n",
       "         [0.73910531],\n",
       "         [0.73910531],\n",
       "         [0.80011685],\n",
       "         [0.80011685],\n",
       "         [0.14189803],\n",
       "         [0.14189803],\n",
       "         [0.26489625],\n",
       "         [0.26489625],\n",
       "         [0.55728297],\n",
       "         [0.55728297],\n",
       "         [0.70006773],\n",
       "         [0.70006773],\n",
       "         [0.32199858],\n",
       "         [0.32199858],\n",
       "         [0.38917262],\n",
       "         [0.38917262],\n",
       "         [0.71717456],\n",
       "         [0.71717456],\n",
       "         [0.83749535],\n",
       "         [0.83749535],\n",
       "         [0.18039273],\n",
       "         [0.18039273],\n",
       "         [0.96455044],\n",
       "         [0.96455044],\n",
       "         [0.74887827],\n",
       "         [0.74887827],\n",
       "         [0.38239768],\n",
       "         [0.38239768],\n",
       "         [0.05680579],\n",
       "         [0.05680579],\n",
       "         [0.03712972],\n",
       "         [0.03712972],\n",
       "         [0.35157389],\n",
       "         [0.35157389],\n",
       "         [0.62252643],\n",
       "         [0.62252643],\n",
       "         [0.19811621],\n",
       "         [0.19811621],\n",
       "         [0.63848128],\n",
       "         [0.63848128],\n",
       "         [0.36302888],\n",
       "         [0.36302888],\n",
       "         [0.06626758],\n",
       "         [0.06626758],\n",
       "         [0.4424806 ],\n",
       "         [0.4424806 ],\n",
       "         [0.60351647],\n",
       "         [0.60351647],\n",
       "         [0.70369445],\n",
       "         [0.70369445],\n",
       "         [0.54654717],\n",
       "         [0.54654717],\n",
       "         [0.26327734],\n",
       "         [0.26327734],\n",
       "         [0.52473042],\n",
       "         [0.52473042],\n",
       "         [0.13936873],\n",
       "         [0.13936873],\n",
       "         [0.11170302],\n",
       "         [0.11170302],\n",
       "         [0.86104788],\n",
       "         [0.86104788],\n",
       "         [0.55871669],\n",
       "         [0.55871669],\n",
       "         [0.93527602],\n",
       "         [0.93527602],\n",
       "         [0.01573842],\n",
       "         [0.01573842],\n",
       "         [0.55290123],\n",
       "         [0.55290123],\n",
       "         [0.16386881],\n",
       "         [0.16386881],\n",
       "         [0.42921491],\n",
       "         [0.42921491],\n",
       "         [0.8483782 ],\n",
       "         [0.8483782 ],\n",
       "         [0.26693796],\n",
       "         [0.26693796],\n",
       "         [0.52762846],\n",
       "         [0.52762846],\n",
       "         [0.40902343],\n",
       "         [0.40902343],\n",
       "         [0.85494278],\n",
       "         [0.85494278],\n",
       "         [0.40035188],\n",
       "         [0.40035188],\n",
       "         [0.16997042],\n",
       "         [0.16997042],\n",
       "         [0.09557624],\n",
       "         [0.09557624],\n",
       "         [0.75875928],\n",
       "         [0.75875928],\n",
       "         [0.45711463],\n",
       "         [0.45711463],\n",
       "         [0.09685776],\n",
       "         [0.09685776],\n",
       "         [0.68144552],\n",
       "         [0.68144552],\n",
       "         [0.46747653],\n",
       "         [0.46747653],\n",
       "         [0.27177123],\n",
       "         [0.27177123],\n",
       "         [0.57068214],\n",
       "         [0.57068214],\n",
       "         [0.22777343],\n",
       "         [0.22777343],\n",
       "         [0.388971  ],\n",
       "         [0.388971  ],\n",
       "         [0.62732815],\n",
       "         [0.62732815],\n",
       "         [0.60428462],\n",
       "         [0.60428462],\n",
       "         [0.53044402],\n",
       "         [0.53044402],\n",
       "         [0.92790521],\n",
       "         [0.92790521],\n",
       "         [0.59472045],\n",
       "         [0.59472045],\n",
       "         [0.58972323],\n",
       "         [0.58972323]])}}"
      ]
     },
     "execution_count": 1,
     "metadata": {},
     "output_type": "execute_result"
    }
   ],
   "source": [
    "ds = load_by_id(run_id_a)\n",
    "ds.get_parameter_data('x1')"
   ]
  },
  {
   "cell_type": "code",
   "execution_count": null,
   "metadata": {},
   "outputs": [],
   "source": []
  }
 ],
 "metadata": {
  "kernelspec": {
   "display_name": "Python 3",
   "language": "python",
   "name": "python3"
  },
  "language_info": {
   "codemirror_mode": {
    "name": "ipython",
    "version": 3
   },
   "file_extension": ".py",
   "mimetype": "text/x-python",
   "name": "python",
   "nbconvert_exporter": "python",
   "pygments_lexer": "ipython3",
   "version": "3.7.9"
  },
  "nbsphinx": {
   "timeout": 600
  },
  "toc": {
   "base_numbering": 1,
   "nav_menu": {},
   "number_sections": true,
   "sideBar": true,
   "skip_h1_title": false,
   "title_cell": "Table of Contents",
   "title_sidebar": "Contents",
   "toc_cell": false,
   "toc_position": {},
   "toc_section_display": true,
   "toc_window_display": false
  },
  "varInspector": {
   "cols": {
    "lenName": 16,
    "lenType": 16,
    "lenVar": 40
   },
   "kernels_config": {
    "python": {
     "delete_cmd_postfix": "",
     "delete_cmd_prefix": "del ",
     "library": "var_list.py",
     "varRefreshCmd": "print(var_dic_list())"
    },
    "r": {
     "delete_cmd_postfix": ") ",
     "delete_cmd_prefix": "rm(",
     "library": "var_list.r",
     "varRefreshCmd": "cat(var_dic_list()) "
    }
   },
   "types_to_exclude": [
    "module",
    "function",
    "builtin_function_or_method",
    "instance",
    "_Feature"
   ],
   "window_display": false
  }
 },
 "nbformat": 4,
 "nbformat_minor": 2
}
