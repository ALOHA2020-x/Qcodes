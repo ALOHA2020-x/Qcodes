{
 "cells": [
  {
   "cell_type": "markdown",
   "metadata": {},
   "source": [
    "# DataSet Performance\n",
    "\n",
    "This notebook shows the trade-off between inserting data into a database row-by-row and as binary blobs. Inserting the data row-by-row means that we have direct access to all the data and may perform queries directly on the values of the data. On the other hand, as we shall see, this is much slower than inserting the data directly as binary blobs."
   ]
  },
  {
   "cell_type": "markdown",
   "metadata": {},
   "source": [
    "First, we choose a new location for the database to ensure that we don't add a bunch of benchmarking data to the default one."
   ]
  },
  {
   "cell_type": "code",
   "execution_count": 1,
   "metadata": {},
   "outputs": [
    {
     "name": "stdout",
     "output_type": "stream",
     "text": [
      "Logging hadn't been started.\n",
      "Activating auto-logging. Current session state plus future input saved.\n",
      "Filename       : /home/vsts/.qcodes/logs/command_history.log\n",
      "Mode           : append\n",
      "Output logging : True\n",
      "Raw input log  : False\n",
      "Timestamping   : True\n",
      "State          : active\n"
     ]
    },
    {
     "name": "stdout",
     "output_type": "stream",
     "text": [
      "Qcodes Logfile : /home/vsts/.qcodes/logs/200518-18780-qcodes.log\n"
     ]
    }
   ],
   "source": [
    "import os\n",
    "cwd = os.getcwd()\n",
    "import qcodes as qc\n",
    "qc.config[\"core\"][\"db_location\"] = os.path.join(cwd, 'testing.db')\n"
   ]
  },
  {
   "cell_type": "code",
   "execution_count": 2,
   "metadata": {},
   "outputs": [],
   "source": [
    "%matplotlib inline\n",
    "import time\n",
    "import matplotlib.pyplot as plt\n",
    "import numpy as np\n",
    "\n",
    "import qcodes as qc\n",
    "from qcodes.instrument.parameter import ManualParameter\n",
    "from qcodes.dataset.experiment_container import (Experiment,\n",
    "                                                 load_last_experiment,\n",
    "                                                 new_experiment)\n",
    "from qcodes.dataset.sqlite.database import initialise_database\n",
    "from qcodes import load_or_create_experiment\n",
    "from qcodes.dataset.measurements import Measurement"
   ]
  },
  {
   "cell_type": "code",
   "execution_count": 3,
   "metadata": {},
   "outputs": [
    {
     "name": "stdout",
     "output_type": "stream",
     "text": [
      "\r",
      "0it [00:00, ?it/s]"
     ]
    },
    {
     "name": "stdout",
     "output_type": "stream",
     "text": [
      "\r",
      "Upgrading database; v0 -> v1: : 0it [00:00, ?it/s]"
     ]
    },
    {
     "name": "stdout",
     "output_type": "stream",
     "text": [
      "\r",
      "Upgrading database; v0 -> v1: : 0it [00:00, ?it/s]"
     ]
    },
    {
     "name": "stdout",
     "output_type": "stream",
     "text": [
      "\n",
      "\r",
      "  0%|          | 0/1 [00:00<?, ?it/s]"
     ]
    },
    {
     "name": "stdout",
     "output_type": "stream",
     "text": [
      "\r",
      "Upgrading database; v1 -> v2:   0%|          | 0/1 [00:00<?, ?it/s]"
     ]
    },
    {
     "name": "stdout",
     "output_type": "stream",
     "text": [
      "\r",
      "Upgrading database; v1 -> v2: 100%|██████████| 1/1 [00:00<00:00, 877.47it/s]"
     ]
    },
    {
     "name": "stdout",
     "output_type": "stream",
     "text": [
      "\n",
      "\r",
      "0it [00:00, ?it/s]"
     ]
    },
    {
     "name": "stdout",
     "output_type": "stream",
     "text": [
      "\r",
      "Upgrading database; v2 -> v3: : 0it [00:00, ?it/s]"
     ]
    },
    {
     "name": "stdout",
     "output_type": "stream",
     "text": [
      "\r",
      "Upgrading database; v2 -> v3: : 0it [00:00, ?it/s]"
     ]
    },
    {
     "name": "stdout",
     "output_type": "stream",
     "text": [
      "\n",
      "\r",
      "0it [00:00, ?it/s]"
     ]
    },
    {
     "name": "stdout",
     "output_type": "stream",
     "text": [
      "\r",
      "Upgrading database; v3 -> v4: : 0it [00:00, ?it/s]"
     ]
    },
    {
     "name": "stdout",
     "output_type": "stream",
     "text": [
      "\r",
      "Upgrading database; v3 -> v4: : 0it [00:00, ?it/s]"
     ]
    },
    {
     "name": "stdout",
     "output_type": "stream",
     "text": [
      "\n",
      "\r",
      "  0%|          | 0/1 [00:00<?, ?it/s]"
     ]
    },
    {
     "name": "stdout",
     "output_type": "stream",
     "text": [
      "\r",
      "Upgrading database; v4 -> v5:   0%|          | 0/1 [00:00<?, ?it/s]"
     ]
    },
    {
     "name": "stdout",
     "output_type": "stream",
     "text": [
      "\r",
      "Upgrading database; v4 -> v5: 100%|██████████| 1/1 [00:00<00:00, 1010.68it/s]"
     ]
    },
    {
     "name": "stdout",
     "output_type": "stream",
     "text": [
      "\n",
      "\r",
      "0it [00:00, ?it/s]"
     ]
    },
    {
     "name": "stdout",
     "output_type": "stream",
     "text": [
      "\r",
      "Upgrading database; v5 -> v6: : 0it [00:00, ?it/s]"
     ]
    },
    {
     "name": "stdout",
     "output_type": "stream",
     "text": [
      "\r",
      "Upgrading database; v5 -> v6: : 0it [00:00, ?it/s]"
     ]
    },
    {
     "name": "stdout",
     "output_type": "stream",
     "text": [
      "\n",
      "\r",
      "  0%|          | 0/1 [00:00<?, ?it/s]"
     ]
    },
    {
     "name": "stdout",
     "output_type": "stream",
     "text": [
      "\r",
      "Upgrading database; v6 -> v7:   0%|          | 0/1 [00:00<?, ?it/s]"
     ]
    },
    {
     "name": "stdout",
     "output_type": "stream",
     "text": [
      "\r",
      "Upgrading database; v6 -> v7: 100%|██████████| 1/1 [00:00<00:00, 508.03it/s]"
     ]
    },
    {
     "name": "stdout",
     "output_type": "stream",
     "text": [
      "\n",
      "\r",
      "  0%|          | 0/1 [00:00<?, ?it/s]"
     ]
    },
    {
     "name": "stdout",
     "output_type": "stream",
     "text": [
      "\r",
      "Upgrading database; v7 -> v8:   0%|          | 0/1 [00:00<?, ?it/s]"
     ]
    },
    {
     "name": "stdout",
     "output_type": "stream",
     "text": [
      "\r",
      "Upgrading database; v7 -> v8: 100%|██████████| 1/1 [00:00<00:00, 872.18it/s]"
     ]
    },
    {
     "name": "stdout",
     "output_type": "stream",
     "text": [
      "\n",
      "\r",
      "  0%|          | 0/1 [00:00<?, ?it/s]"
     ]
    },
    {
     "name": "stdout",
     "output_type": "stream",
     "text": [
      "\r",
      "Upgrading database; v8 -> v9:   0%|          | 0/1 [00:00<?, ?it/s]"
     ]
    },
    {
     "name": "stdout",
     "output_type": "stream",
     "text": [
      "\r",
      "Upgrading database; v8 -> v9: 100%|██████████| 1/1 [00:00<00:00, 1013.36it/s]"
     ]
    },
    {
     "name": "stdout",
     "output_type": "stream",
     "text": [
      "\n"
     ]
    }
   ],
   "source": [
    "initialise_database()\n",
    "exp = load_or_create_experiment(experiment_name='tutorial_exp', sample_name=\"no sample\")"
   ]
  },
  {
   "cell_type": "markdown",
   "metadata": {},
   "source": [
    "Here, we define a simple function to benchmark the time it takes to insert n points with either numeric or array data type.\n",
    "We will compare both the time used to call ``add_result`` and the time used for the full measurement."
   ]
  },
  {
   "cell_type": "code",
   "execution_count": 4,
   "metadata": {},
   "outputs": [],
   "source": [
    "def insert_data(paramtype, npoints, nreps=1):\n",
    "\n",
    "    meas = Measurement(exp=exp)\n",
    "\n",
    "    x1 = ManualParameter('x1')\n",
    "    x2 = ManualParameter('x2')\n",
    "    x3 = ManualParameter('x3')\n",
    "    y1 = ManualParameter('y1')\n",
    "    y2 = ManualParameter('y2')\n",
    "\n",
    "    meas.register_parameter(x1, paramtype=paramtype)\n",
    "    meas.register_parameter(x2, paramtype=paramtype)\n",
    "    meas.register_parameter(x3, paramtype=paramtype)\n",
    "    meas.register_parameter(y1, setpoints=[x1, x2, x3],\n",
    "                            paramtype=paramtype)\n",
    "    meas.register_parameter(y2, setpoints=[x1, x2, x3],\n",
    "                            paramtype=paramtype)\n",
    "    start = time.perf_counter()\n",
    "    with meas.run() as datasaver:\n",
    "        start_adding = time.perf_counter()\n",
    "        for i in range(nreps):\n",
    "            datasaver.add_result((x1, np.random.rand(npoints)),\n",
    "                                 (x2, np.random.rand(npoints)),\n",
    "                                 (x3, np.random.rand(npoints)),\n",
    "                                 (y1, np.random.rand(npoints)),\n",
    "                                 (y2, np.random.rand(npoints)))\n",
    "        stop_adding = time.perf_counter()\n",
    "        run_id = datasaver.run_id\n",
    "    stop = time.perf_counter()\n",
    "    tot_time = stop - start\n",
    "    add_time = stop_adding - start_adding\n",
    "    return tot_time, add_time, run_id"
   ]
  },
  {
   "cell_type": "markdown",
   "metadata": {},
   "source": [
    "## Comparison between numeric/array data and binary blob"
   ]
  },
  {
   "cell_type": "markdown",
   "metadata": {},
   "source": [
    "### Case1: Short experiment time"
   ]
  },
  {
   "cell_type": "code",
   "execution_count": 5,
   "metadata": {},
   "outputs": [
    {
     "name": "stdout",
     "output_type": "stream",
     "text": [
      "Starting experimental run with id: 1. \n",
      "Starting experimental run with id: 2. \n",
      "Starting experimental run with id: 3. \n"
     ]
    },
    {
     "name": "stdout",
     "output_type": "stream",
     "text": [
      "Starting experimental run with id: 4. \n"
     ]
    },
    {
     "name": "stdout",
     "output_type": "stream",
     "text": [
      "Starting experimental run with id: 5. \n",
      "Starting experimental run with id: 6. \n"
     ]
    },
    {
     "name": "stdout",
     "output_type": "stream",
     "text": [
      "Starting experimental run with id: 7. \n"
     ]
    },
    {
     "name": "stdout",
     "output_type": "stream",
     "text": [
      "Starting experimental run with id: 8. \n"
     ]
    },
    {
     "name": "stdout",
     "output_type": "stream",
     "text": [
      "Starting experimental run with id: 9. \n"
     ]
    },
    {
     "name": "stdout",
     "output_type": "stream",
     "text": [
      "Starting experimental run with id: 10. \n",
      "Starting experimental run with id: 11. \n"
     ]
    },
    {
     "name": "stdout",
     "output_type": "stream",
     "text": [
      "Starting experimental run with id: 12. \n"
     ]
    },
    {
     "name": "stdout",
     "output_type": "stream",
     "text": [
      "Starting experimental run with id: 13. \n"
     ]
    },
    {
     "name": "stdout",
     "output_type": "stream",
     "text": [
      "Starting experimental run with id: 14. \n"
     ]
    }
   ],
   "source": [
    "sizes = [1,500,1000,2000,3000,4000,5000]\n",
    "t_numeric = []\n",
    "t_numeric_add = []\n",
    "t_array = []\n",
    "t_array_add = []\n",
    "for size in sizes:\n",
    "    tn, tna, run_id_n =  insert_data('numeric', size)\n",
    "    t_numeric.append(tn)\n",
    "    t_numeric_add.append(tna)\n",
    "\n",
    "    ta, taa, run_id_a =  insert_data('array', size)\n",
    "    t_array.append(ta)\n",
    "    t_array_add.append(taa)"
   ]
  },
  {
   "cell_type": "code",
   "execution_count": 6,
   "metadata": {},
   "outputs": [
    {
     "data": {
      "image/png": "[encoded data removed]",
      "text/plain": [
       "<Figure size 432x288 with 1 Axes>"
      ]
     },
     "metadata": {
      "needs_background": "light"
     },
     "output_type": "display_data"
    }
   ],
   "source": [
    "fig, ax = plt.subplots(1,1)\n",
    "ax.plot(sizes, t_numeric, 'o-', label='Inserting row-by-row')\n",
    "ax.plot(sizes, t_numeric_add, 'o-', label='Inserting row-by-row: add_result only')\n",
    "ax.plot(sizes, t_array, 'd-', label='Inserting as binary blob')\n",
    "ax.plot(sizes, t_array_add, 'd-', label='Inserting as binary blob: add_result only')\n",
    "ax.legend()\n",
    "ax.set_xlabel('Array length')\n",
    "ax.set_ylabel('Time (s)')\n",
    "fig.tight_layout()"
   ]
  },
  {
   "cell_type": "markdown",
   "metadata": {},
   "source": [
    "As shown in the latter figure, the time to setup and and close the experiment is approximately 0.4 sec. In case of small array sizes, the difference between inserting values of data as arrays and inserting them row-by-row is relatively unimportant. At larger array sizes, i.e. above 10000 points, the cost of writing data as individual datapoints starts to become important.\n"
   ]
  },
  {
   "cell_type": "markdown",
   "metadata": {},
   "source": [
    "### Case2: Long experiment time "
   ]
  },
  {
   "cell_type": "code",
   "execution_count": 7,
   "metadata": {},
   "outputs": [
    {
     "name": "stdout",
     "output_type": "stream",
     "text": [
      "Starting experimental run with id: 15. \n",
      "Starting experimental run with id: 16. \n",
      "Starting experimental run with id: 17. \n"
     ]
    },
    {
     "name": "stdout",
     "output_type": "stream",
     "text": [
      "Starting experimental run with id: 18. \n",
      "Starting experimental run with id: 19. \n"
     ]
    },
    {
     "name": "stdout",
     "output_type": "stream",
     "text": [
      "Starting experimental run with id: 20. \n"
     ]
    },
    {
     "name": "stdout",
     "output_type": "stream",
     "text": [
      "Starting experimental run with id: 21. \n"
     ]
    },
    {
     "name": "stdout",
     "output_type": "stream",
     "text": [
      "Starting experimental run with id: 22. \n"
     ]
    },
    {
     "name": "stdout",
     "output_type": "stream",
     "text": [
      "Starting experimental run with id: 23. \n"
     ]
    },
    {
     "name": "stdout",
     "output_type": "stream",
     "text": [
      "Starting experimental run with id: 24. \n"
     ]
    },
    {
     "name": "stdout",
     "output_type": "stream",
     "text": [
      "Starting experimental run with id: 25. \n"
     ]
    },
    {
     "name": "stdout",
     "output_type": "stream",
     "text": [
      "Starting experimental run with id: 26. \n"
     ]
    },
    {
     "name": "stdout",
     "output_type": "stream",
     "text": [
      "Starting experimental run with id: 27. \n"
     ]
    },
    {
     "name": "stdout",
     "output_type": "stream",
     "text": [
      "Starting experimental run with id: 28. \n"
     ]
    }
   ],
   "source": [
    "sizes = [1,500,1000,2000,3000,4000,5000]\n",
    "nreps = 100\n",
    "t_numeric = []\n",
    "t_numeric_add = []\n",
    "t_numeric_run_ids = []\n",
    "t_array = []\n",
    "t_array_add = []\n",
    "t_array_run_ids = []\n",
    "for size in sizes:\n",
    "    tn, tna, run_id_n =  insert_data('numeric', size, nreps=nreps)\n",
    "    t_numeric.append(tn)\n",
    "    t_numeric_add.append(tna)\n",
    "    t_numeric_run_ids.append(run_id_n)\n",
    "\n",
    "    ta, taa, run_id_a =  insert_data('array', size, nreps=nreps)\n",
    "    t_array.append(ta)\n",
    "    t_array_add.append(taa)\n",
    "    t_array_run_ids.append(run_id_a)"
   ]
  },
  {
   "cell_type": "code",
   "execution_count": 8,
   "metadata": {
    "scrolled": true
   },
   "outputs": [
    {
     "data": {
      "image/png": "[encoded data removed]",
      "text/plain": [
       "<Figure size 432x288 with 1 Axes>"
      ]
     },
     "metadata": {
      "needs_background": "light"
     },
     "output_type": "display_data"
    }
   ],
   "source": [
    "fig, ax = plt.subplots(1,1)\n",
    "ax.plot(sizes, t_numeric, 'o-', label='Inserting row-by-row')\n",
    "ax.plot(sizes, t_numeric_add, 'o-', label='Inserting row-by-row: add_result only')\n",
    "ax.plot(sizes, t_array, 'd-', label='Inserting as binary blob')\n",
    "ax.plot(sizes, t_array_add, 'd-', label='Inserting as binary blob: add_result only')\n",
    "ax.legend()\n",
    "ax.set_xlabel('Array length')\n",
    "ax.set_ylabel('Time (s)')\n",
    "fig.tight_layout()"
   ]
  },
  {
   "cell_type": "markdown",
   "metadata": {},
   "source": [
    "However, as we increase the length of the experiment, as seen here by repeating the insertion 100 times, we see a big difference between inserting values of the data row-by-row and inserting it as a binary blob."
   ]
  },
  {
   "cell_type": "markdown",
   "metadata": {},
   "source": [
    "## Loading the data "
   ]
  },
  {
   "cell_type": "code",
   "execution_count": 9,
   "metadata": {},
   "outputs": [],
   "source": [
    "from qcodes.dataset.data_set import load_by_id\n",
    "from qcodes.dataset.data_export import get_data_by_id"
   ]
  },
  {
   "cell_type": "markdown",
   "metadata": {},
   "source": [
    "As usual you can load the data by using the ``load_by_id`` function but you will notice that the different storage methods\n",
    "are reflected in shape of the data as it is retrieved. "
   ]
  },
  {
   "cell_type": "code",
   "execution_count": 10,
   "metadata": {},
   "outputs": [],
   "source": [
    "run_id_n = t_numeric_run_ids[0]\n",
    "run_id_a = t_array_run_ids[0]"
   ]
  },
  {
   "cell_type": "code",
   "execution_count": 11,
   "metadata": {
    "scrolled": true
   },
   "outputs": [
    {
     "data": {
      "text/plain": [
       "{'x1': {'x1': array([0.03221855, 0.03221855, 0.4623975 , 0.4623975 , 0.43629375,\n",
       "         0.43629375, 0.08621953, 0.08621953, 0.42857794, 0.42857794,\n",
       "         0.77550976, 0.77550976, 0.42940323, 0.42940323, 0.38513571,\n",
       "         0.38513571, 0.14713283, 0.14713283, 0.41019765, 0.41019765,\n",
       "         0.46354548, 0.46354548, 0.72318039, 0.72318039, 0.74644799,\n",
       "         0.74644799, 0.7261347 , 0.7261347 , 0.29963008, 0.29963008,\n",
       "         0.55998171, 0.55998171, 0.60613899, 0.60613899, 0.54321195,\n",
       "         0.54321195, 0.75961939, 0.75961939, 0.3103995 , 0.3103995 ,\n",
       "         0.57136044, 0.57136044, 0.27586504, 0.27586504, 0.75237064,\n",
       "         0.75237064, 0.14904584, 0.14904584, 0.1490796 , 0.1490796 ,\n",
       "         0.89316871, 0.89316871, 0.47331269, 0.47331269, 0.97879825,\n",
       "         0.97879825, 0.71577804, 0.71577804, 0.94761234, 0.94761234,\n",
       "         0.77859196, 0.77859196, 0.65610878, 0.65610878, 0.41236378,\n",
       "         0.41236378, 0.70844088, 0.70844088, 0.43833373, 0.43833373,\n",
       "         0.75529405, 0.75529405, 0.24610657, 0.24610657, 0.53325763,\n",
       "         0.53325763, 0.4123637 , 0.4123637 , 0.70292632, 0.70292632,\n",
       "         0.12366345, 0.12366345, 0.79935649, 0.79935649, 0.12172996,\n",
       "         0.12172996, 0.61293725, 0.61293725, 0.41419032, 0.41419032,\n",
       "         0.88428736, 0.88428736, 0.52317808, 0.52317808, 0.40101812,\n",
       "         0.40101812, 0.3160966 , 0.3160966 , 0.17537532, 0.17537532,\n",
       "         0.5497878 , 0.5497878 , 0.36409347, 0.36409347, 0.02896078,\n",
       "         0.02896078, 0.667708  , 0.667708  , 0.95838897, 0.95838897,\n",
       "         0.92320203, 0.92320203, 0.7257383 , 0.7257383 , 0.39244348,\n",
       "         0.39244348, 0.88901688, 0.88901688, 0.14995928, 0.14995928,\n",
       "         0.82725851, 0.82725851, 0.2950512 , 0.2950512 , 0.45902663,\n",
       "         0.45902663, 0.53823108, 0.53823108, 0.02724646, 0.02724646,\n",
       "         0.06960027, 0.06960027, 0.87918081, 0.87918081, 0.83089871,\n",
       "         0.83089871, 0.09141858, 0.09141858, 0.22852314, 0.22852314,\n",
       "         0.51283989, 0.51283989, 0.96264676, 0.96264676, 0.09509865,\n",
       "         0.09509865, 0.66924791, 0.66924791, 0.30608085, 0.30608085,\n",
       "         0.80153761, 0.80153761, 0.71974642, 0.71974642, 0.43347855,\n",
       "         0.43347855, 0.33041672, 0.33041672, 0.73158043, 0.73158043,\n",
       "         0.42100083, 0.42100083, 0.80950022, 0.80950022, 0.96584798,\n",
       "         0.96584798, 0.87113248, 0.87113248, 0.03441969, 0.03441969,\n",
       "         0.33164838, 0.33164838, 0.324972  , 0.324972  , 0.13493827,\n",
       "         0.13493827, 0.0417023 , 0.0417023 , 0.74080658, 0.74080658,\n",
       "         0.52823402, 0.52823402, 0.9604156 , 0.9604156 , 0.78286254,\n",
       "         0.78286254, 0.01111585, 0.01111585, 0.41788628, 0.41788628,\n",
       "         0.5338484 , 0.5338484 , 0.88771808, 0.88771808, 0.25687571,\n",
       "         0.25687571, 0.89633131, 0.89633131, 0.73429985, 0.73429985])}}"
      ]
     },
     "execution_count": 11,
     "metadata": {},
     "output_type": "execute_result"
    }
   ],
   "source": [
    "ds = load_by_id(run_id_n)\n",
    "ds.get_parameter_data('x1')"
   ]
  },
  {
   "cell_type": "markdown",
   "metadata": {},
   "source": [
    "And a dataset stored as binary arrays"
   ]
  },
  {
   "cell_type": "code",
   "execution_count": 12,
   "metadata": {
    "scrolled": true
   },
   "outputs": [
    {
     "data": {
      "text/plain": [
       "{'x1': {'x1': array([[0.33252042],\n",
       "         [0.33252042],\n",
       "         [0.00506421],\n",
       "         [0.00506421],\n",
       "         [0.22687578],\n",
       "         [0.22687578],\n",
       "         [0.91704924],\n",
       "         [0.91704924],\n",
       "         [0.31417472],\n",
       "         [0.31417472],\n",
       "         [0.8993236 ],\n",
       "         [0.8993236 ],\n",
       "         [0.34317966],\n",
       "         [0.34317966],\n",
       "         [0.19768158],\n",
       "         [0.19768158],\n",
       "         [0.1044096 ],\n",
       "         [0.1044096 ],\n",
       "         [0.68170267],\n",
       "         [0.68170267],\n",
       "         [0.5585427 ],\n",
       "         [0.5585427 ],\n",
       "         [0.54979245],\n",
       "         [0.54979245],\n",
       "         [0.74894413],\n",
       "         [0.74894413],\n",
       "         [0.73766139],\n",
       "         [0.73766139],\n",
       "         [0.28744129],\n",
       "         [0.28744129],\n",
       "         [0.0175819 ],\n",
       "         [0.0175819 ],\n",
       "         [0.47111657],\n",
       "         [0.47111657],\n",
       "         [0.60231699],\n",
       "         [0.60231699],\n",
       "         [0.13506705],\n",
       "         [0.13506705],\n",
       "         [0.14731779],\n",
       "         [0.14731779],\n",
       "         [0.10387429],\n",
       "         [0.10387429],\n",
       "         [0.24958157],\n",
       "         [0.24958157],\n",
       "         [0.24719582],\n",
       "         [0.24719582],\n",
       "         [0.7750602 ],\n",
       "         [0.7750602 ],\n",
       "         [0.34017855],\n",
       "         [0.34017855],\n",
       "         [0.95324305],\n",
       "         [0.95324305],\n",
       "         [0.53930872],\n",
       "         [0.53930872],\n",
       "         [0.64304203],\n",
       "         [0.64304203],\n",
       "         [0.16976788],\n",
       "         [0.16976788],\n",
       "         [0.57807665],\n",
       "         [0.57807665],\n",
       "         [0.81130681],\n",
       "         [0.81130681],\n",
       "         [0.40108593],\n",
       "         [0.40108593],\n",
       "         [0.42957542],\n",
       "         [0.42957542],\n",
       "         [0.24913338],\n",
       "         [0.24913338],\n",
       "         [0.47454217],\n",
       "         [0.47454217],\n",
       "         [0.94038329],\n",
       "         [0.94038329],\n",
       "         [0.65774129],\n",
       "         [0.65774129],\n",
       "         [0.83294723],\n",
       "         [0.83294723],\n",
       "         [0.55953555],\n",
       "         [0.55953555],\n",
       "         [0.8945145 ],\n",
       "         [0.8945145 ],\n",
       "         [0.20548507],\n",
       "         [0.20548507],\n",
       "         [0.61372096],\n",
       "         [0.61372096],\n",
       "         [0.41662865],\n",
       "         [0.41662865],\n",
       "         [0.96693368],\n",
       "         [0.96693368],\n",
       "         [0.43626175],\n",
       "         [0.43626175],\n",
       "         [0.90424152],\n",
       "         [0.90424152],\n",
       "         [0.07285531],\n",
       "         [0.07285531],\n",
       "         [0.64582146],\n",
       "         [0.64582146],\n",
       "         [0.23872748],\n",
       "         [0.23872748],\n",
       "         [0.46496927],\n",
       "         [0.46496927],\n",
       "         [0.0782157 ],\n",
       "         [0.0782157 ],\n",
       "         [0.62052277],\n",
       "         [0.62052277],\n",
       "         [0.45733725],\n",
       "         [0.45733725],\n",
       "         [0.31569391],\n",
       "         [0.31569391],\n",
       "         [0.31680121],\n",
       "         [0.31680121],\n",
       "         [0.4878853 ],\n",
       "         [0.4878853 ],\n",
       "         [0.49643933],\n",
       "         [0.49643933],\n",
       "         [0.18064269],\n",
       "         [0.18064269],\n",
       "         [0.82320228],\n",
       "         [0.82320228],\n",
       "         [0.72826863],\n",
       "         [0.72826863],\n",
       "         [0.84272462],\n",
       "         [0.84272462],\n",
       "         [0.5347772 ],\n",
       "         [0.5347772 ],\n",
       "         [0.15183887],\n",
       "         [0.15183887],\n",
       "         [0.92699332],\n",
       "         [0.92699332],\n",
       "         [0.05357005],\n",
       "         [0.05357005],\n",
       "         [0.36072395],\n",
       "         [0.36072395],\n",
       "         [0.28931411],\n",
       "         [0.28931411],\n",
       "         [0.58885974],\n",
       "         [0.58885974],\n",
       "         [0.85803201],\n",
       "         [0.85803201],\n",
       "         [0.67316033],\n",
       "         [0.67316033],\n",
       "         [0.24372786],\n",
       "         [0.24372786],\n",
       "         [0.03391123],\n",
       "         [0.03391123],\n",
       "         [0.77174148],\n",
       "         [0.77174148],\n",
       "         [0.03805714],\n",
       "         [0.03805714],\n",
       "         [0.55432765],\n",
       "         [0.55432765],\n",
       "         [0.05791033],\n",
       "         [0.05791033],\n",
       "         [0.35711289],\n",
       "         [0.35711289],\n",
       "         [0.49996047],\n",
       "         [0.49996047],\n",
       "         [0.39281819],\n",
       "         [0.39281819],\n",
       "         [0.67276312],\n",
       "         [0.67276312],\n",
       "         [0.97073627],\n",
       "         [0.97073627],\n",
       "         [0.76715404],\n",
       "         [0.76715404],\n",
       "         [0.58007886],\n",
       "         [0.58007886],\n",
       "         [0.12065842],\n",
       "         [0.12065842],\n",
       "         [0.10206101],\n",
       "         [0.10206101],\n",
       "         [0.90507679],\n",
       "         [0.90507679],\n",
       "         [0.86613376],\n",
       "         [0.86613376],\n",
       "         [0.4824568 ],\n",
       "         [0.4824568 ],\n",
       "         [0.4723924 ],\n",
       "         [0.4723924 ],\n",
       "         [0.34804173],\n",
       "         [0.34804173],\n",
       "         [0.55770171],\n",
       "         [0.55770171],\n",
       "         [0.649052  ],\n",
       "         [0.649052  ],\n",
       "         [0.66042938],\n",
       "         [0.66042938],\n",
       "         [0.33728425],\n",
       "         [0.33728425],\n",
       "         [0.99631071],\n",
       "         [0.99631071],\n",
       "         [0.75396902],\n",
       "         [0.75396902],\n",
       "         [0.85111295],\n",
       "         [0.85111295],\n",
       "         [0.8464026 ],\n",
       "         [0.8464026 ],\n",
       "         [0.46868022],\n",
       "         [0.46868022],\n",
       "         [0.48047043],\n",
       "         [0.48047043]])}}"
      ]
     },
     "execution_count": 12,
     "metadata": {},
     "output_type": "execute_result"
    }
   ],
   "source": [
    "ds = load_by_id(run_id_a)\n",
    "ds.get_parameter_data('x1')"
   ]
  },
  {
   "cell_type": "code",
   "execution_count": null,
   "metadata": {},
   "outputs": [],
   "source": []
  }
 ],
 "metadata": {
  "kernelspec": {
   "display_name": "Python 3",
   "language": "python",
   "name": "python3"
  },
  "language_info": {
   "codemirror_mode": {
    "name": "ipython",
    "version": 3
   },
   "file_extension": ".py",
   "mimetype": "text/x-python",
   "name": "python",
   "nbconvert_exporter": "python",
   "pygments_lexer": "ipython3",
   "version": "3.7.7"
  },
  "nbsphinx": {
   "timeout": 600
  },
  "toc": {
   "base_numbering": 1,
   "nav_menu": {},
   "number_sections": true,
   "sideBar": true,
   "skip_h1_title": false,
   "title_cell": "Table of Contents",
   "title_sidebar": "Contents",
   "toc_cell": false,
   "toc_position": {},
   "toc_section_display": true,
   "toc_window_display": false
  },
  "varInspector": {
   "cols": {
    "lenName": 16,
    "lenType": 16,
    "lenVar": 40
   },
   "kernels_config": {
    "python": {
     "delete_cmd_postfix": "",
     "delete_cmd_prefix": "del ",
     "library": "var_list.py",
     "varRefreshCmd": "print(var_dic_list())"
    },
    "r": {
     "delete_cmd_postfix": ") ",
     "delete_cmd_prefix": "rm(",
     "library": "var_list.r",
     "varRefreshCmd": "cat(var_dic_list()) "
    }
   },
   "types_to_exclude": [
    "module",
    "function",
    "builtin_function_or_method",
    "instance",
    "_Feature"
   ],
   "window_display": false
  }
 },
 "nbformat": 4,
 "nbformat_minor": 2
}
