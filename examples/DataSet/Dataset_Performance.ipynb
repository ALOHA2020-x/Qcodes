{
 "cells": [
  {
   "cell_type": "markdown",
   "metadata": {},
   "source": [
    "# DataSet Performance\n",
    "\n",
    "This notebook shows the trade-off between inserting data into a database row-by-row and as binary blobs. Inserting the data row-by-row means that we have direct access to all the data and may perform queries directly on the values of the data. On the other hand, as we shall see, this is much slower than inserting the data directly as binary blobs."
   ]
  },
  {
   "cell_type": "markdown",
   "metadata": {},
   "source": [
    "First, we choose a new location for the database to ensure that we don't add a bunch of benchmarking data to the default one."
   ]
  },
  {
   "cell_type": "code",
   "execution_count": 1,
   "metadata": {
    "execution": {
     "iopub.execute_input": "2020-10-28T13:24:23.326674Z",
     "iopub.status.busy": "2020-10-28T13:24:23.325931Z",
     "iopub.status.idle": "2020-10-28T13:24:24.417655Z",
     "shell.execute_reply": "2020-10-28T13:24:24.416766Z"
    }
   },
   "outputs": [
    {
     "name": "stdout",
     "output_type": "stream",
     "text": [
      "Logging hadn't been started.\n",
      "Activating auto-logging. Current session state plus future input saved.\n",
      "Filename       : /home/vsts/.qcodes/logs/command_history.log\n",
      "Mode           : append\n",
      "Output logging : True\n",
      "Raw input log  : False\n",
      "Timestamping   : True\n",
      "State          : active\n"
     ]
    },
    {
     "name": "stdout",
     "output_type": "stream",
     "text": [
      "Qcodes Logfile : /home/vsts/.qcodes/logs/201028-14981-qcodes.log\n"
     ]
    }
   ],
   "source": [
    "import os\n",
    "cwd = os.getcwd()\n",
    "import qcodes as qc\n",
    "qc.config[\"core\"][\"db_location\"] = os.path.join(cwd, 'testing.db')\n"
   ]
  },
  {
   "cell_type": "code",
   "execution_count": 2,
   "metadata": {
    "execution": {
     "iopub.execute_input": "2020-10-28T13:24:24.424902Z",
     "iopub.status.busy": "2020-10-28T13:24:24.423423Z",
     "iopub.status.idle": "2020-10-28T13:24:24.614576Z",
     "shell.execute_reply": "2020-10-28T13:24:24.615062Z"
    }
   },
   "outputs": [],
   "source": [
    "%matplotlib inline\n",
    "import time\n",
    "import matplotlib.pyplot as plt\n",
    "import numpy as np\n",
    "\n",
    "import qcodes as qc\n",
    "from qcodes.instrument.parameter import ManualParameter\n",
    "from qcodes.dataset.experiment_container import (Experiment,\n",
    "                                                 load_last_experiment,\n",
    "                                                 new_experiment)\n",
    "from qcodes.dataset.sqlite.database import initialise_database\n",
    "from qcodes import load_or_create_experiment\n",
    "from qcodes.dataset.measurements import Measurement"
   ]
  },
  {
   "cell_type": "code",
   "execution_count": 3,
   "metadata": {
    "execution": {
     "iopub.execute_input": "2020-10-28T13:24:24.619088Z",
     "iopub.status.busy": "2020-10-28T13:24:24.618099Z",
     "iopub.status.idle": "2020-10-28T13:24:24.710553Z",
     "shell.execute_reply": "2020-10-28T13:24:24.711056Z"
    }
   },
   "outputs": [
    {
     "name": "stdout",
     "output_type": "stream",
     "text": [
      "\r",
      "0it [00:00, ?it/s]"
     ]
    },
    {
     "name": "stdout",
     "output_type": "stream",
     "text": [
      "\r",
      "Upgrading database; v0 -> v1: : 0it [00:00, ?it/s]"
     ]
    },
    {
     "name": "stdout",
     "output_type": "stream",
     "text": [
      "\r",
      "Upgrading database; v0 -> v1: : 0it [00:00, ?it/s]"
     ]
    },
    {
     "name": "stdout",
     "output_type": "stream",
     "text": [
      "\n",
      "\r",
      "  0%|          | 0/1 [00:00<?, ?it/s]"
     ]
    },
    {
     "name": "stdout",
     "output_type": "stream",
     "text": [
      "\r",
      "Upgrading database; v1 -> v2:   0%|          | 0/1 [00:00<?, ?it/s]"
     ]
    },
    {
     "name": "stdout",
     "output_type": "stream",
     "text": [
      "\r",
      "Upgrading database; v1 -> v2: 100%|██████████| 1/1 [00:00<00:00, 813.64it/s]"
     ]
    },
    {
     "name": "stdout",
     "output_type": "stream",
     "text": [
      "\n",
      "\r",
      "0it [00:00, ?it/s]"
     ]
    },
    {
     "name": "stdout",
     "output_type": "stream",
     "text": [
      "\r",
      "Upgrading database; v2 -> v3: : 0it [00:00, ?it/s]"
     ]
    },
    {
     "name": "stdout",
     "output_type": "stream",
     "text": [
      "\r",
      "Upgrading database; v2 -> v3: : 0it [00:00, ?it/s]"
     ]
    },
    {
     "name": "stdout",
     "output_type": "stream",
     "text": [
      "\n",
      "\r",
      "0it [00:00, ?it/s]"
     ]
    },
    {
     "name": "stdout",
     "output_type": "stream",
     "text": [
      "\r",
      "Upgrading database; v3 -> v4: : 0it [00:00, ?it/s]"
     ]
    },
    {
     "name": "stdout",
     "output_type": "stream",
     "text": [
      "\r",
      "Upgrading database; v3 -> v4: : 0it [00:00, ?it/s]"
     ]
    },
    {
     "name": "stdout",
     "output_type": "stream",
     "text": [
      "\n",
      "\r",
      "  0%|          | 0/1 [00:00<?, ?it/s]"
     ]
    },
    {
     "name": "stdout",
     "output_type": "stream",
     "text": [
      "\r",
      "Upgrading database; v4 -> v5:   0%|          | 0/1 [00:00<?, ?it/s]"
     ]
    },
    {
     "name": "stdout",
     "output_type": "stream",
     "text": [
      "\r",
      "Upgrading database; v4 -> v5: 100%|██████████| 1/1 [00:00<00:00, 660.62it/s]"
     ]
    },
    {
     "name": "stdout",
     "output_type": "stream",
     "text": [
      "\n",
      "\r",
      "0it [00:00, ?it/s]"
     ]
    },
    {
     "name": "stdout",
     "output_type": "stream",
     "text": [
      "\r",
      "Upgrading database; v5 -> v6: : 0it [00:00, ?it/s]"
     ]
    },
    {
     "name": "stdout",
     "output_type": "stream",
     "text": [
      "\r",
      "Upgrading database; v5 -> v6: : 0it [00:00, ?it/s]"
     ]
    },
    {
     "name": "stdout",
     "output_type": "stream",
     "text": [
      "\n",
      "\r",
      "  0%|          | 0/1 [00:00<?, ?it/s]"
     ]
    },
    {
     "name": "stdout",
     "output_type": "stream",
     "text": [
      "\r",
      "Upgrading database; v6 -> v7:   0%|          | 0/1 [00:00<?, ?it/s]"
     ]
    },
    {
     "name": "stdout",
     "output_type": "stream",
     "text": [
      "\r",
      "Upgrading database; v6 -> v7: 100%|██████████| 1/1 [00:00<00:00, 331.96it/s]"
     ]
    },
    {
     "name": "stdout",
     "output_type": "stream",
     "text": [
      "\n",
      "\r",
      "  0%|          | 0/1 [00:00<?, ?it/s]"
     ]
    },
    {
     "name": "stdout",
     "output_type": "stream",
     "text": [
      "\r",
      "Upgrading database; v7 -> v8:   0%|          | 0/1 [00:00<?, ?it/s]"
     ]
    },
    {
     "name": "stdout",
     "output_type": "stream",
     "text": [
      "\r",
      "Upgrading database; v7 -> v8: 100%|██████████| 1/1 [00:00<00:00, 704.33it/s]"
     ]
    },
    {
     "name": "stdout",
     "output_type": "stream",
     "text": [
      "\n",
      "\r",
      "  0%|          | 0/1 [00:00<?, ?it/s]"
     ]
    },
    {
     "name": "stdout",
     "output_type": "stream",
     "text": [
      "\r",
      "Upgrading database; v8 -> v9:   0%|          | 0/1 [00:00<?, ?it/s]"
     ]
    },
    {
     "name": "stdout",
     "output_type": "stream",
     "text": [
      "\r",
      "Upgrading database; v8 -> v9: 100%|██████████| 1/1 [00:00<00:00, 915.19it/s]"
     ]
    },
    {
     "name": "stdout",
     "output_type": "stream",
     "text": [
      "\n"
     ]
    }
   ],
   "source": [
    "initialise_database()\n",
    "exp = load_or_create_experiment(experiment_name='tutorial_exp', sample_name=\"no sample\")"
   ]
  },
  {
   "cell_type": "markdown",
   "metadata": {},
   "source": [
    "Here, we define a simple function to benchmark the time it takes to insert n points with either numeric or array data type.\n",
    "We will compare both the time used to call ``add_result`` and the time used for the full measurement."
   ]
  },
  {
   "cell_type": "code",
   "execution_count": 4,
   "metadata": {
    "execution": {
     "iopub.execute_input": "2020-10-28T13:24:24.719810Z",
     "iopub.status.busy": "2020-10-28T13:24:24.718659Z",
     "iopub.status.idle": "2020-10-28T13:24:24.720385Z",
     "shell.execute_reply": "2020-10-28T13:24:24.720833Z"
    }
   },
   "outputs": [],
   "source": [
    "def insert_data(paramtype, npoints, nreps=1):\n",
    "\n",
    "    meas = Measurement(exp=exp)\n",
    "\n",
    "    x1 = ManualParameter('x1')\n",
    "    x2 = ManualParameter('x2')\n",
    "    x3 = ManualParameter('x3')\n",
    "    y1 = ManualParameter('y1')\n",
    "    y2 = ManualParameter('y2')\n",
    "\n",
    "    meas.register_parameter(x1, paramtype=paramtype)\n",
    "    meas.register_parameter(x2, paramtype=paramtype)\n",
    "    meas.register_parameter(x3, paramtype=paramtype)\n",
    "    meas.register_parameter(y1, setpoints=[x1, x2, x3],\n",
    "                            paramtype=paramtype)\n",
    "    meas.register_parameter(y2, setpoints=[x1, x2, x3],\n",
    "                            paramtype=paramtype)\n",
    "    start = time.perf_counter()\n",
    "    with meas.run() as datasaver:\n",
    "        start_adding = time.perf_counter()\n",
    "        for i in range(nreps):\n",
    "            datasaver.add_result((x1, np.random.rand(npoints)),\n",
    "                                 (x2, np.random.rand(npoints)),\n",
    "                                 (x3, np.random.rand(npoints)),\n",
    "                                 (y1, np.random.rand(npoints)),\n",
    "                                 (y2, np.random.rand(npoints)))\n",
    "        stop_adding = time.perf_counter()\n",
    "        run_id = datasaver.run_id\n",
    "    stop = time.perf_counter()\n",
    "    tot_time = stop - start\n",
    "    add_time = stop_adding - start_adding\n",
    "    return tot_time, add_time, run_id"
   ]
  },
  {
   "cell_type": "markdown",
   "metadata": {},
   "source": [
    "## Comparison between numeric/array data and binary blob"
   ]
  },
  {
   "cell_type": "markdown",
   "metadata": {},
   "source": [
    "### Case1: Short experiment time"
   ]
  },
  {
   "cell_type": "code",
   "execution_count": 5,
   "metadata": {
    "execution": {
     "iopub.execute_input": "2020-10-28T13:24:24.727242Z",
     "iopub.status.busy": "2020-10-28T13:24:24.725815Z",
     "iopub.status.idle": "2020-10-28T13:24:25.504086Z",
     "shell.execute_reply": "2020-10-28T13:24:25.503629Z"
    }
   },
   "outputs": [
    {
     "name": "stdout",
     "output_type": "stream",
     "text": [
      "Starting experimental run with id: 1. \n",
      "Starting experimental run with id: 2. \n",
      "Starting experimental run with id: 3. \n",
      "Starting experimental run with id: 4. \n",
      "Starting experimental run with id: 5. \n"
     ]
    },
    {
     "name": "stdout",
     "output_type": "stream",
     "text": [
      "Starting experimental run with id: 6. \n"
     ]
    },
    {
     "name": "stdout",
     "output_type": "stream",
     "text": [
      "Starting experimental run with id: 7. \n"
     ]
    },
    {
     "name": "stdout",
     "output_type": "stream",
     "text": [
      "Starting experimental run with id: 8. \n",
      "Starting experimental run with id: 9. \n"
     ]
    },
    {
     "name": "stdout",
     "output_type": "stream",
     "text": [
      "Starting experimental run with id: 10. \n",
      "Starting experimental run with id: 11. \n"
     ]
    },
    {
     "name": "stdout",
     "output_type": "stream",
     "text": [
      "Starting experimental run with id: 12. \n",
      "Starting experimental run with id: 13. \n"
     ]
    },
    {
     "name": "stdout",
     "output_type": "stream",
     "text": [
      "Starting experimental run with id: 14. \n"
     ]
    }
   ],
   "source": [
    "sizes = [1,500,1000,2000,3000,4000,5000]\n",
    "t_numeric = []\n",
    "t_numeric_add = []\n",
    "t_array = []\n",
    "t_array_add = []\n",
    "for size in sizes:\n",
    "    tn, tna, run_id_n =  insert_data('numeric', size)\n",
    "    t_numeric.append(tn)\n",
    "    t_numeric_add.append(tna)\n",
    "\n",
    "    ta, taa, run_id_a =  insert_data('array', size)\n",
    "    t_array.append(ta)\n",
    "    t_array_add.append(taa)"
   ]
  },
  {
   "cell_type": "code",
   "execution_count": 6,
   "metadata": {
    "execution": {
     "iopub.execute_input": "2020-10-28T13:24:25.521085Z",
     "iopub.status.busy": "2020-10-28T13:24:25.520610Z",
     "iopub.status.idle": "2020-10-28T13:24:25.744392Z",
     "shell.execute_reply": "2020-10-28T13:24:25.743736Z"
    }
   },
   "outputs": [
    {
     "data": {
      "image/png": "[encoded data removed]",
      "text/plain": [
       "<Figure size 432x288 with 1 Axes>"
      ]
     },
     "metadata": {
      "needs_background": "light"
     },
     "output_type": "display_data"
    }
   ],
   "source": [
    "fig, ax = plt.subplots(1,1)\n",
    "ax.plot(sizes, t_numeric, 'o-', label='Inserting row-by-row')\n",
    "ax.plot(sizes, t_numeric_add, 'o-', label='Inserting row-by-row: add_result only')\n",
    "ax.plot(sizes, t_array, 'd-', label='Inserting as binary blob')\n",
    "ax.plot(sizes, t_array_add, 'd-', label='Inserting as binary blob: add_result only')\n",
    "ax.legend()\n",
    "ax.set_xlabel('Array length')\n",
    "ax.set_ylabel('Time (s)')\n",
    "fig.tight_layout()"
   ]
  },
  {
   "cell_type": "markdown",
   "metadata": {},
   "source": [
    "As shown in the latter figure, the time to setup and and close the experiment is approximately 0.4 sec. In case of small array sizes, the difference between inserting values of data as arrays and inserting them row-by-row is relatively unimportant. At larger array sizes, i.e. above 10000 points, the cost of writing data as individual datapoints starts to become important.\n"
   ]
  },
  {
   "cell_type": "markdown",
   "metadata": {},
   "source": [
    "### Case2: Long experiment time "
   ]
  },
  {
   "cell_type": "code",
   "execution_count": 7,
   "metadata": {
    "execution": {
     "iopub.execute_input": "2020-10-28T13:24:25.751303Z",
     "iopub.status.busy": "2020-10-28T13:24:25.750179Z",
     "iopub.status.idle": "2020-10-28T13:25:24.529943Z",
     "shell.execute_reply": "2020-10-28T13:25:24.529313Z"
    }
   },
   "outputs": [
    {
     "name": "stdout",
     "output_type": "stream",
     "text": [
      "Starting experimental run with id: 15. \n",
      "Starting experimental run with id: 16. \n",
      "Starting experimental run with id: 17. \n"
     ]
    },
    {
     "name": "stdout",
     "output_type": "stream",
     "text": [
      "Starting experimental run with id: 18. \n",
      "Starting experimental run with id: 19. \n"
     ]
    },
    {
     "name": "stdout",
     "output_type": "stream",
     "text": [
      "Starting experimental run with id: 20. \n"
     ]
    },
    {
     "name": "stdout",
     "output_type": "stream",
     "text": [
      "Starting experimental run with id: 21. \n"
     ]
    },
    {
     "name": "stdout",
     "output_type": "stream",
     "text": [
      "Starting experimental run with id: 22. \n"
     ]
    },
    {
     "name": "stdout",
     "output_type": "stream",
     "text": [
      "Starting experimental run with id: 23. \n"
     ]
    },
    {
     "name": "stdout",
     "output_type": "stream",
     "text": [
      "Starting experimental run with id: 24. \n"
     ]
    },
    {
     "name": "stdout",
     "output_type": "stream",
     "text": [
      "Starting experimental run with id: 25. \n"
     ]
    },
    {
     "name": "stdout",
     "output_type": "stream",
     "text": [
      "Starting experimental run with id: 26. \n"
     ]
    },
    {
     "name": "stdout",
     "output_type": "stream",
     "text": [
      "Starting experimental run with id: 27. \n"
     ]
    },
    {
     "name": "stdout",
     "output_type": "stream",
     "text": [
      "Starting experimental run with id: 28. \n"
     ]
    }
   ],
   "source": [
    "sizes = [1,500,1000,2000,3000,4000,5000]\n",
    "nreps = 100\n",
    "t_numeric = []\n",
    "t_numeric_add = []\n",
    "t_numeric_run_ids = []\n",
    "t_array = []\n",
    "t_array_add = []\n",
    "t_array_run_ids = []\n",
    "for size in sizes:\n",
    "    tn, tna, run_id_n =  insert_data('numeric', size, nreps=nreps)\n",
    "    t_numeric.append(tn)\n",
    "    t_numeric_add.append(tna)\n",
    "    t_numeric_run_ids.append(run_id_n)\n",
    "\n",
    "    ta, taa, run_id_a =  insert_data('array', size, nreps=nreps)\n",
    "    t_array.append(ta)\n",
    "    t_array_add.append(taa)\n",
    "    t_array_run_ids.append(run_id_a)"
   ]
  },
  {
   "cell_type": "code",
   "execution_count": 8,
   "metadata": {
    "execution": {
     "iopub.execute_input": "2020-10-28T13:25:24.553054Z",
     "iopub.status.busy": "2020-10-28T13:25:24.550855Z",
     "iopub.status.idle": "2020-10-28T13:25:24.772147Z",
     "shell.execute_reply": "2020-10-28T13:25:24.771684Z"
    },
    "scrolled": true
   },
   "outputs": [
    {
     "data": {
      "image/png": "[encoded data removed]",
      "text/plain": [
       "<Figure size 432x288 with 1 Axes>"
      ]
     },
     "metadata": {
      "needs_background": "light"
     },
     "output_type": "display_data"
    }
   ],
   "source": [
    "fig, ax = plt.subplots(1,1)\n",
    "ax.plot(sizes, t_numeric, 'o-', label='Inserting row-by-row')\n",
    "ax.plot(sizes, t_numeric_add, 'o-', label='Inserting row-by-row: add_result only')\n",
    "ax.plot(sizes, t_array, 'd-', label='Inserting as binary blob')\n",
    "ax.plot(sizes, t_array_add, 'd-', label='Inserting as binary blob: add_result only')\n",
    "ax.legend()\n",
    "ax.set_xlabel('Array length')\n",
    "ax.set_ylabel('Time (s)')\n",
    "fig.tight_layout()"
   ]
  },
  {
   "cell_type": "markdown",
   "metadata": {},
   "source": [
    "However, as we increase the length of the experiment, as seen here by repeating the insertion 100 times, we see a big difference between inserting values of the data row-by-row and inserting it as a binary blob."
   ]
  },
  {
   "cell_type": "markdown",
   "metadata": {},
   "source": [
    "## Loading the data "
   ]
  },
  {
   "cell_type": "code",
   "execution_count": 9,
   "metadata": {
    "execution": {
     "iopub.execute_input": "2020-10-28T13:25:24.777008Z",
     "iopub.status.busy": "2020-10-28T13:25:24.775853Z",
     "iopub.status.idle": "2020-10-28T13:25:24.779516Z",
     "shell.execute_reply": "2020-10-28T13:25:24.778697Z"
    }
   },
   "outputs": [],
   "source": [
    "from qcodes.dataset.data_set import load_by_id\n",
    "from qcodes.dataset.data_export import get_data_by_id"
   ]
  },
  {
   "cell_type": "markdown",
   "metadata": {},
   "source": [
    "As usual you can load the data by using the ``load_by_id`` function but you will notice that the different storage methods\n",
    "are reflected in shape of the data as it is retrieved. "
   ]
  },
  {
   "cell_type": "code",
   "execution_count": 10,
   "metadata": {
    "execution": {
     "iopub.execute_input": "2020-10-28T13:25:24.783120Z",
     "iopub.status.busy": "2020-10-28T13:25:24.782568Z",
     "iopub.status.idle": "2020-10-28T13:25:24.785059Z",
     "shell.execute_reply": "2020-10-28T13:25:24.784562Z"
    }
   },
   "outputs": [],
   "source": [
    "run_id_n = t_numeric_run_ids[0]\n",
    "run_id_a = t_array_run_ids[0]"
   ]
  },
  {
   "cell_type": "code",
   "execution_count": 11,
   "metadata": {
    "execution": {
     "iopub.execute_input": "2020-10-28T13:25:24.787946Z",
     "iopub.status.busy": "2020-10-28T13:25:24.787391Z",
     "iopub.status.idle": "2020-10-28T13:25:24.796356Z",
     "shell.execute_reply": "2020-10-28T13:25:24.796758Z"
    },
    "scrolled": true
   },
   "outputs": [
    {
     "data": {
      "text/plain": [
       "{'x1': {'x1': array([0.77505822, 0.77505822, 0.24862752, 0.24862752, 0.13979635,\n",
       "         0.13979635, 0.13539372, 0.13539372, 0.16684221, 0.16684221,\n",
       "         0.08921493, 0.08921493, 0.76817781, 0.76817781, 0.70065159,\n",
       "         0.70065159, 0.42283466, 0.42283466, 0.58957808, 0.58957808,\n",
       "         0.84838937, 0.84838937, 0.49092545, 0.49092545, 0.70049205,\n",
       "         0.70049205, 0.02954166, 0.02954166, 0.69869997, 0.69869997,\n",
       "         0.83325878, 0.83325878, 0.63510606, 0.63510606, 0.28040971,\n",
       "         0.28040971, 0.65995534, 0.65995534, 0.1747725 , 0.1747725 ,\n",
       "         0.65645578, 0.65645578, 0.17678776, 0.17678776, 0.64097331,\n",
       "         0.64097331, 0.2348852 , 0.2348852 , 0.46098909, 0.46098909,\n",
       "         0.60414673, 0.60414673, 0.40863792, 0.40863792, 0.71093036,\n",
       "         0.71093036, 0.26172518, 0.26172518, 0.86858448, 0.86858448,\n",
       "         0.75637071, 0.75637071, 0.75689796, 0.75689796, 0.08878638,\n",
       "         0.08878638, 0.65604251, 0.65604251, 0.93953693, 0.93953693,\n",
       "         0.2728824 , 0.2728824 , 0.72319129, 0.72319129, 0.72672058,\n",
       "         0.72672058, 0.46527387, 0.46527387, 0.38880181, 0.38880181,\n",
       "         0.66444276, 0.66444276, 0.50430335, 0.50430335, 0.83610538,\n",
       "         0.83610538, 0.93159121, 0.93159121, 0.82775011, 0.82775011,\n",
       "         0.41734782, 0.41734782, 0.04332306, 0.04332306, 0.82769633,\n",
       "         0.82769633, 0.28572048, 0.28572048, 0.40571145, 0.40571145,\n",
       "         0.86962536, 0.86962536, 0.48628166, 0.48628166, 0.3859953 ,\n",
       "         0.3859953 , 0.63741854, 0.63741854, 0.20623981, 0.20623981,\n",
       "         0.88627724, 0.88627724, 0.80409349, 0.80409349, 0.28173637,\n",
       "         0.28173637, 0.68712981, 0.68712981, 0.72092141, 0.72092141,\n",
       "         0.50009817, 0.50009817, 0.98307493, 0.98307493, 0.4332225 ,\n",
       "         0.4332225 , 0.57346584, 0.57346584, 0.37016414, 0.37016414,\n",
       "         0.61049393, 0.61049393, 0.98105344, 0.98105344, 0.24808059,\n",
       "         0.24808059, 0.81156971, 0.81156971, 0.48892202, 0.48892202,\n",
       "         0.34263813, 0.34263813, 0.25485286, 0.25485286, 0.76957197,\n",
       "         0.76957197, 0.84975792, 0.84975792, 0.54684842, 0.54684842,\n",
       "         0.22795207, 0.22795207, 0.32488695, 0.32488695, 0.11704119,\n",
       "         0.11704119, 0.44128522, 0.44128522, 0.20145716, 0.20145716,\n",
       "         0.99029244, 0.99029244, 0.45405463, 0.45405463, 0.45420888,\n",
       "         0.45420888, 0.51680882, 0.51680882, 0.82985884, 0.82985884,\n",
       "         0.42180753, 0.42180753, 0.30939134, 0.30939134, 0.63439338,\n",
       "         0.63439338, 0.90444015, 0.90444015, 0.65269151, 0.65269151,\n",
       "         0.78926079, 0.78926079, 0.38766498, 0.38766498, 0.75831473,\n",
       "         0.75831473, 0.43136255, 0.43136255, 0.90281563, 0.90281563,\n",
       "         0.9186087 , 0.9186087 , 0.04276479, 0.04276479, 0.25011769,\n",
       "         0.25011769, 0.01949637, 0.01949637, 0.09141721, 0.09141721])}}"
      ]
     },
     "execution_count": 1,
     "metadata": {},
     "output_type": "execute_result"
    }
   ],
   "source": [
    "ds = load_by_id(run_id_n)\n",
    "ds.get_parameter_data('x1')"
   ]
  },
  {
   "cell_type": "markdown",
   "metadata": {},
   "source": [
    "And a dataset stored as binary arrays"
   ]
  },
  {
   "cell_type": "code",
   "execution_count": 12,
   "metadata": {
    "execution": {
     "iopub.execute_input": "2020-10-28T13:25:24.800009Z",
     "iopub.status.busy": "2020-10-28T13:25:24.799500Z",
     "iopub.status.idle": "2020-10-28T13:25:24.858392Z",
     "shell.execute_reply": "2020-10-28T13:25:24.858863Z"
    },
    "scrolled": true
   },
   "outputs": [
    {
     "data": {
      "text/plain": [
       "{'x1': {'x1': array([[9.01332714e-01],\n",
       "         [9.01332714e-01],\n",
       "         [1.36060138e-01],\n",
       "         [1.36060138e-01],\n",
       "         [9.57090727e-01],\n",
       "         [9.57090727e-01],\n",
       "         [7.95947473e-04],\n",
       "         [7.95947473e-04],\n",
       "         [4.37621059e-01],\n",
       "         [4.37621059e-01],\n",
       "         [5.02505147e-01],\n",
       "         [5.02505147e-01],\n",
       "         [9.88242138e-01],\n",
       "         [9.88242138e-01],\n",
       "         [6.28374929e-02],\n",
       "         [6.28374929e-02],\n",
       "         [7.47753787e-01],\n",
       "         [7.47753787e-01],\n",
       "         [3.52857518e-01],\n",
       "         [3.52857518e-01],\n",
       "         [5.37457463e-01],\n",
       "         [5.37457463e-01],\n",
       "         [5.64115281e-01],\n",
       "         [5.64115281e-01],\n",
       "         [7.43209468e-02],\n",
       "         [7.43209468e-02],\n",
       "         [5.51607101e-01],\n",
       "         [5.51607101e-01],\n",
       "         [4.80778848e-01],\n",
       "         [4.80778848e-01],\n",
       "         [7.39129314e-01],\n",
       "         [7.39129314e-01],\n",
       "         [9.61352864e-01],\n",
       "         [9.61352864e-01],\n",
       "         [8.53543682e-02],\n",
       "         [8.53543682e-02],\n",
       "         [1.27293552e-01],\n",
       "         [1.27293552e-01],\n",
       "         [9.58625231e-01],\n",
       "         [9.58625231e-01],\n",
       "         [6.60356699e-01],\n",
       "         [6.60356699e-01],\n",
       "         [3.61971403e-01],\n",
       "         [3.61971403e-01],\n",
       "         [1.43634810e-01],\n",
       "         [1.43634810e-01],\n",
       "         [6.11969454e-02],\n",
       "         [6.11969454e-02],\n",
       "         [9.09397398e-01],\n",
       "         [9.09397398e-01],\n",
       "         [1.65506936e-01],\n",
       "         [1.65506936e-01],\n",
       "         [1.74933459e-01],\n",
       "         [1.74933459e-01],\n",
       "         [8.44216082e-01],\n",
       "         [8.44216082e-01],\n",
       "         [7.14277834e-01],\n",
       "         [7.14277834e-01],\n",
       "         [8.92416808e-01],\n",
       "         [8.92416808e-01],\n",
       "         [3.79342403e-01],\n",
       "         [3.79342403e-01],\n",
       "         [8.14000846e-01],\n",
       "         [8.14000846e-01],\n",
       "         [1.23983031e-01],\n",
       "         [1.23983031e-01],\n",
       "         [9.76376304e-01],\n",
       "         [9.76376304e-01],\n",
       "         [7.80449023e-01],\n",
       "         [7.80449023e-01],\n",
       "         [7.16223059e-01],\n",
       "         [7.16223059e-01],\n",
       "         [5.02284931e-01],\n",
       "         [5.02284931e-01],\n",
       "         [5.03777332e-01],\n",
       "         [5.03777332e-01],\n",
       "         [9.92134400e-01],\n",
       "         [9.92134400e-01],\n",
       "         [4.12200660e-02],\n",
       "         [4.12200660e-02],\n",
       "         [4.01588108e-01],\n",
       "         [4.01588108e-01],\n",
       "         [8.67761317e-01],\n",
       "         [8.67761317e-01],\n",
       "         [6.40764323e-01],\n",
       "         [6.40764323e-01],\n",
       "         [8.83548650e-01],\n",
       "         [8.83548650e-01],\n",
       "         [5.17788569e-01],\n",
       "         [5.17788569e-01],\n",
       "         [3.04513410e-01],\n",
       "         [3.04513410e-01],\n",
       "         [4.50312029e-01],\n",
       "         [4.50312029e-01],\n",
       "         [2.69552235e-01],\n",
       "         [2.69552235e-01],\n",
       "         [5.08231462e-01],\n",
       "         [5.08231462e-01],\n",
       "         [2.87217798e-01],\n",
       "         [2.87217798e-01],\n",
       "         [4.11768840e-01],\n",
       "         [4.11768840e-01],\n",
       "         [6.94596922e-01],\n",
       "         [6.94596922e-01],\n",
       "         [2.26318585e-01],\n",
       "         [2.26318585e-01],\n",
       "         [8.29704697e-01],\n",
       "         [8.29704697e-01],\n",
       "         [2.74294936e-01],\n",
       "         [2.74294936e-01],\n",
       "         [6.85703148e-01],\n",
       "         [6.85703148e-01],\n",
       "         [5.32773563e-01],\n",
       "         [5.32773563e-01],\n",
       "         [5.61997629e-01],\n",
       "         [5.61997629e-01],\n",
       "         [6.59561636e-01],\n",
       "         [6.59561636e-01],\n",
       "         [5.76085857e-01],\n",
       "         [5.76085857e-01],\n",
       "         [9.83944352e-01],\n",
       "         [9.83944352e-01],\n",
       "         [2.39314233e-01],\n",
       "         [2.39314233e-01],\n",
       "         [9.39144473e-01],\n",
       "         [9.39144473e-01],\n",
       "         [5.09956226e-01],\n",
       "         [5.09956226e-01],\n",
       "         [6.46974177e-01],\n",
       "         [6.46974177e-01],\n",
       "         [9.55066879e-01],\n",
       "         [9.55066879e-01],\n",
       "         [1.11286823e-01],\n",
       "         [1.11286823e-01],\n",
       "         [5.30902187e-01],\n",
       "         [5.30902187e-01],\n",
       "         [8.43108090e-01],\n",
       "         [8.43108090e-01],\n",
       "         [8.59604190e-01],\n",
       "         [8.59604190e-01],\n",
       "         [4.97847279e-01],\n",
       "         [4.97847279e-01],\n",
       "         [6.75709461e-01],\n",
       "         [6.75709461e-01],\n",
       "         [9.69688698e-01],\n",
       "         [9.69688698e-01],\n",
       "         [3.54000191e-01],\n",
       "         [3.54000191e-01],\n",
       "         [6.36611187e-01],\n",
       "         [6.36611187e-01],\n",
       "         [5.72165087e-01],\n",
       "         [5.72165087e-01],\n",
       "         [7.45028325e-01],\n",
       "         [7.45028325e-01],\n",
       "         [7.46761271e-01],\n",
       "         [7.46761271e-01],\n",
       "         [7.98679779e-01],\n",
       "         [7.98679779e-01],\n",
       "         [4.70530968e-01],\n",
       "         [4.70530968e-01],\n",
       "         [4.46853421e-01],\n",
       "         [4.46853421e-01],\n",
       "         [6.99437969e-01],\n",
       "         [6.99437969e-01],\n",
       "         [7.13552293e-01],\n",
       "         [7.13552293e-01],\n",
       "         [7.71232288e-01],\n",
       "         [7.71232288e-01],\n",
       "         [4.17818326e-02],\n",
       "         [4.17818326e-02],\n",
       "         [2.52960781e-01],\n",
       "         [2.52960781e-01],\n",
       "         [2.02800337e-01],\n",
       "         [2.02800337e-01],\n",
       "         [2.13364479e-01],\n",
       "         [2.13364479e-01],\n",
       "         [3.29026176e-01],\n",
       "         [3.29026176e-01],\n",
       "         [3.37736229e-01],\n",
       "         [3.37736229e-01],\n",
       "         [8.67009229e-01],\n",
       "         [8.67009229e-01],\n",
       "         [9.08767480e-01],\n",
       "         [9.08767480e-01],\n",
       "         [9.82406896e-01],\n",
       "         [9.82406896e-01],\n",
       "         [4.66647705e-01],\n",
       "         [4.66647705e-01],\n",
       "         [9.55205018e-02],\n",
       "         [9.55205018e-02],\n",
       "         [2.11970372e-01],\n",
       "         [2.11970372e-01],\n",
       "         [2.40565064e-01],\n",
       "         [2.40565064e-01],\n",
       "         [5.99475593e-01],\n",
       "         [5.99475593e-01],\n",
       "         [4.63750129e-01],\n",
       "         [4.63750129e-01],\n",
       "         [3.66752679e-02],\n",
       "         [3.66752679e-02]])}}"
      ]
     },
     "execution_count": 1,
     "metadata": {},
     "output_type": "execute_result"
    }
   ],
   "source": [
    "ds = load_by_id(run_id_a)\n",
    "ds.get_parameter_data('x1')"
   ]
  },
  {
   "cell_type": "code",
   "execution_count": null,
   "metadata": {},
   "outputs": [],
   "source": []
  }
 ],
 "metadata": {
  "kernelspec": {
   "display_name": "Python 3",
   "language": "python",
   "name": "python3"
  },
  "language_info": {
   "codemirror_mode": {
    "name": "ipython",
    "version": 3
   },
   "file_extension": ".py",
   "mimetype": "text/x-python",
   "name": "python",
   "nbconvert_exporter": "python",
   "pygments_lexer": "ipython3",
   "version": "3.7.9"
  },
  "nbsphinx": {
   "timeout": 600
  },
  "toc": {
   "base_numbering": 1,
   "nav_menu": {},
   "number_sections": true,
   "sideBar": true,
   "skip_h1_title": false,
   "title_cell": "Table of Contents",
   "title_sidebar": "Contents",
   "toc_cell": false,
   "toc_position": {},
   "toc_section_display": true,
   "toc_window_display": false
  },
  "varInspector": {
   "cols": {
    "lenName": 16,
    "lenType": 16,
    "lenVar": 40
   },
   "kernels_config": {
    "python": {
     "delete_cmd_postfix": "",
     "delete_cmd_prefix": "del ",
     "library": "var_list.py",
     "varRefreshCmd": "print(var_dic_list())"
    },
    "r": {
     "delete_cmd_postfix": ") ",
     "delete_cmd_prefix": "rm(",
     "library": "var_list.r",
     "varRefreshCmd": "cat(var_dic_list()) "
    }
   },
   "types_to_exclude": [
    "module",
    "function",
    "builtin_function_or_method",
    "instance",
    "_Feature"
   ],
   "window_display": false
  }
 },
 "nbformat": 4,
 "nbformat_minor": 2
}
