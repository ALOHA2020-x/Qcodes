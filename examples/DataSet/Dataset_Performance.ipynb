{
 "cells": [
  {
   "cell_type": "markdown",
   "metadata": {},
   "source": [
    "# DataSet Performance\n",
    "\n",
    "This notebook shows the trade-off between inserting data into a database row-by-row and as binary blobs. Inserting the data row-by-row means that we have direct access to all the data and may perform queries directly on the values of the data. On the other hand, as we shall see, this is much slower than inserting the data directly as binary blobs."
   ]
  },
  {
   "cell_type": "markdown",
   "metadata": {},
   "source": [
    "First, we choose a new location for the database to ensure that we don't add a bunch of benchmarking data to the default one."
   ]
  },
  {
   "cell_type": "code",
   "execution_count": 1,
   "metadata": {
    "execution": {
     "iopub.execute_input": "2020-10-13T21:17:15.286844Z",
     "iopub.status.busy": "2020-10-13T21:17:15.286269Z",
     "iopub.status.idle": "2020-10-13T21:17:16.324921Z",
     "shell.execute_reply": "2020-10-13T21:17:16.324452Z"
    }
   },
   "outputs": [
    {
     "name": "stdout",
     "output_type": "stream",
     "text": [
      "Logging hadn't been started.\n",
      "Activating auto-logging. Current session state plus future input saved.\n",
      "Filename       : /home/vsts/.qcodes/logs/command_history.log\n",
      "Mode           : append\n",
      "Output logging : True\n",
      "Raw input log  : False\n",
      "Timestamping   : True\n",
      "State          : active\n"
     ]
    },
    {
     "name": "stdout",
     "output_type": "stream",
     "text": [
      "Qcodes Logfile : /home/vsts/.qcodes/logs/201013-14591-qcodes.log\n"
     ]
    }
   ],
   "source": [
    "import os\n",
    "cwd = os.getcwd()\n",
    "import qcodes as qc\n",
    "qc.config[\"core\"][\"db_location\"] = os.path.join(cwd, 'testing.db')\n"
   ]
  },
  {
   "cell_type": "code",
   "execution_count": 2,
   "metadata": {
    "execution": {
     "iopub.execute_input": "2020-10-13T21:17:16.331074Z",
     "iopub.status.busy": "2020-10-13T21:17:16.329651Z",
     "iopub.status.idle": "2020-10-13T21:17:16.492718Z",
     "shell.execute_reply": "2020-10-13T21:17:16.493154Z"
    }
   },
   "outputs": [],
   "source": [
    "%matplotlib inline\n",
    "import time\n",
    "import matplotlib.pyplot as plt\n",
    "import numpy as np\n",
    "\n",
    "import qcodes as qc\n",
    "from qcodes.instrument.parameter import ManualParameter\n",
    "from qcodes.dataset.experiment_container import (Experiment,\n",
    "                                                 load_last_experiment,\n",
    "                                                 new_experiment)\n",
    "from qcodes.dataset.sqlite.database import initialise_database\n",
    "from qcodes import load_or_create_experiment\n",
    "from qcodes.dataset.measurements import Measurement"
   ]
  },
  {
   "cell_type": "code",
   "execution_count": 3,
   "metadata": {
    "execution": {
     "iopub.execute_input": "2020-10-13T21:17:16.496883Z",
     "iopub.status.busy": "2020-10-13T21:17:16.496257Z",
     "iopub.status.idle": "2020-10-13T21:17:16.593830Z",
     "shell.execute_reply": "2020-10-13T21:17:16.593307Z"
    }
   },
   "outputs": [
    {
     "name": "stdout",
     "output_type": "stream",
     "text": [
      "\r",
      "0it [00:00, ?it/s]"
     ]
    },
    {
     "name": "stdout",
     "output_type": "stream",
     "text": [
      "\r",
      "Upgrading database; v0 -> v1: : 0it [00:00, ?it/s]"
     ]
    },
    {
     "name": "stdout",
     "output_type": "stream",
     "text": [
      "\r",
      "Upgrading database; v0 -> v1: : 0it [00:00, ?it/s]"
     ]
    },
    {
     "name": "stdout",
     "output_type": "stream",
     "text": [
      "\n",
      "\r",
      "  0%|          | 0/1 [00:00<?, ?it/s]"
     ]
    },
    {
     "name": "stdout",
     "output_type": "stream",
     "text": [
      "\r",
      "Upgrading database; v1 -> v2:   0%|          | 0/1 [00:00<?, ?it/s]"
     ]
    },
    {
     "name": "stdout",
     "output_type": "stream",
     "text": [
      "\r",
      "Upgrading database; v1 -> v2: 100%|██████████| 1/1 [00:00<00:00, 673.13it/s]"
     ]
    },
    {
     "name": "stdout",
     "output_type": "stream",
     "text": [
      "\n",
      "\r",
      "0it [00:00, ?it/s]"
     ]
    },
    {
     "name": "stdout",
     "output_type": "stream",
     "text": [
      "\r",
      "Upgrading database; v2 -> v3: : 0it [00:00, ?it/s]"
     ]
    },
    {
     "name": "stdout",
     "output_type": "stream",
     "text": [
      "\r",
      "Upgrading database; v2 -> v3: : 0it [00:00, ?it/s]"
     ]
    },
    {
     "name": "stdout",
     "output_type": "stream",
     "text": [
      "\n",
      "\r",
      "0it [00:00, ?it/s]"
     ]
    },
    {
     "name": "stdout",
     "output_type": "stream",
     "text": [
      "\r",
      "Upgrading database; v3 -> v4: : 0it [00:00, ?it/s]"
     ]
    },
    {
     "name": "stdout",
     "output_type": "stream",
     "text": [
      "\r",
      "Upgrading database; v3 -> v4: : 0it [00:00, ?it/s]"
     ]
    },
    {
     "name": "stdout",
     "output_type": "stream",
     "text": [
      "\n",
      "\r",
      "  0%|          | 0/1 [00:00<?, ?it/s]"
     ]
    },
    {
     "name": "stdout",
     "output_type": "stream",
     "text": [
      "\r",
      "Upgrading database; v4 -> v5:   0%|          | 0/1 [00:00<?, ?it/s]"
     ]
    },
    {
     "name": "stdout",
     "output_type": "stream",
     "text": [
      "\r",
      "Upgrading database; v4 -> v5: 100%|██████████| 1/1 [00:00<00:00, 1243.49it/s]"
     ]
    },
    {
     "name": "stdout",
     "output_type": "stream",
     "text": [
      "\n",
      "\r",
      "0it [00:00, ?it/s]"
     ]
    },
    {
     "name": "stdout",
     "output_type": "stream",
     "text": [
      "\r",
      "Upgrading database; v5 -> v6: : 0it [00:00, ?it/s]"
     ]
    },
    {
     "name": "stdout",
     "output_type": "stream",
     "text": [
      "\r",
      "Upgrading database; v5 -> v6: : 0it [00:00, ?it/s]"
     ]
    },
    {
     "name": "stdout",
     "output_type": "stream",
     "text": [
      "\n",
      "\r",
      "  0%|          | 0/1 [00:00<?, ?it/s]"
     ]
    },
    {
     "name": "stdout",
     "output_type": "stream",
     "text": [
      "\r",
      "Upgrading database; v6 -> v7:   0%|          | 0/1 [00:00<?, ?it/s]"
     ]
    },
    {
     "name": "stdout",
     "output_type": "stream",
     "text": [
      "\r",
      "Upgrading database; v6 -> v7: 100%|██████████| 1/1 [00:00<00:00, 312.87it/s]"
     ]
    },
    {
     "name": "stdout",
     "output_type": "stream",
     "text": [
      "\n",
      "\r",
      "  0%|          | 0/1 [00:00<?, ?it/s]"
     ]
    },
    {
     "name": "stdout",
     "output_type": "stream",
     "text": [
      "\r",
      "Upgrading database; v7 -> v8:   0%|          | 0/1 [00:00<?, ?it/s]"
     ]
    },
    {
     "name": "stdout",
     "output_type": "stream",
     "text": [
      "\r",
      "Upgrading database; v7 -> v8: 100%|██████████| 1/1 [00:00<00:00, 464.69it/s]"
     ]
    },
    {
     "name": "stdout",
     "output_type": "stream",
     "text": [
      "\n",
      "\r",
      "  0%|          | 0/1 [00:00<?, ?it/s]"
     ]
    },
    {
     "name": "stdout",
     "output_type": "stream",
     "text": [
      "\r",
      "Upgrading database; v8 -> v9:   0%|          | 0/1 [00:00<?, ?it/s]"
     ]
    },
    {
     "name": "stdout",
     "output_type": "stream",
     "text": [
      "\r",
      "Upgrading database; v8 -> v9: 100%|██████████| 1/1 [00:00<00:00, 750.32it/s]"
     ]
    },
    {
     "name": "stdout",
     "output_type": "stream",
     "text": [
      "\n"
     ]
    }
   ],
   "source": [
    "initialise_database()\n",
    "exp = load_or_create_experiment(experiment_name='tutorial_exp', sample_name=\"no sample\")"
   ]
  },
  {
   "cell_type": "markdown",
   "metadata": {},
   "source": [
    "Here, we define a simple function to benchmark the time it takes to insert n points with either numeric or array data type.\n",
    "We will compare both the time used to call ``add_result`` and the time used for the full measurement."
   ]
  },
  {
   "cell_type": "code",
   "execution_count": 4,
   "metadata": {
    "execution": {
     "iopub.execute_input": "2020-10-13T21:17:16.602409Z",
     "iopub.status.busy": "2020-10-13T21:17:16.601909Z",
     "iopub.status.idle": "2020-10-13T21:17:16.604908Z",
     "shell.execute_reply": "2020-10-13T21:17:16.605500Z"
    }
   },
   "outputs": [],
   "source": [
    "def insert_data(paramtype, npoints, nreps=1):\n",
    "\n",
    "    meas = Measurement(exp=exp)\n",
    "\n",
    "    x1 = ManualParameter('x1')\n",
    "    x2 = ManualParameter('x2')\n",
    "    x3 = ManualParameter('x3')\n",
    "    y1 = ManualParameter('y1')\n",
    "    y2 = ManualParameter('y2')\n",
    "\n",
    "    meas.register_parameter(x1, paramtype=paramtype)\n",
    "    meas.register_parameter(x2, paramtype=paramtype)\n",
    "    meas.register_parameter(x3, paramtype=paramtype)\n",
    "    meas.register_parameter(y1, setpoints=[x1, x2, x3],\n",
    "                            paramtype=paramtype)\n",
    "    meas.register_parameter(y2, setpoints=[x1, x2, x3],\n",
    "                            paramtype=paramtype)\n",
    "    start = time.perf_counter()\n",
    "    with meas.run() as datasaver:\n",
    "        start_adding = time.perf_counter()\n",
    "        for i in range(nreps):\n",
    "            datasaver.add_result((x1, np.random.rand(npoints)),\n",
    "                                 (x2, np.random.rand(npoints)),\n",
    "                                 (x3, np.random.rand(npoints)),\n",
    "                                 (y1, np.random.rand(npoints)),\n",
    "                                 (y2, np.random.rand(npoints)))\n",
    "        stop_adding = time.perf_counter()\n",
    "        run_id = datasaver.run_id\n",
    "    stop = time.perf_counter()\n",
    "    tot_time = stop - start\n",
    "    add_time = stop_adding - start_adding\n",
    "    return tot_time, add_time, run_id"
   ]
  },
  {
   "cell_type": "markdown",
   "metadata": {},
   "source": [
    "## Comparison between numeric/array data and binary blob"
   ]
  },
  {
   "cell_type": "markdown",
   "metadata": {},
   "source": [
    "### Case1: Short experiment time"
   ]
  },
  {
   "cell_type": "code",
   "execution_count": 5,
   "metadata": {
    "execution": {
     "iopub.execute_input": "2020-10-13T21:17:16.610885Z",
     "iopub.status.busy": "2020-10-13T21:17:16.610147Z",
     "iopub.status.idle": "2020-10-13T21:17:17.300864Z",
     "shell.execute_reply": "2020-10-13T21:17:17.300129Z"
    }
   },
   "outputs": [
    {
     "name": "stdout",
     "output_type": "stream",
     "text": [
      "Starting experimental run with id: 1. \n",
      "Starting experimental run with id: 2. \n",
      "Starting experimental run with id: 3. \n",
      "Starting experimental run with id: 4. \n",
      "Starting experimental run with id: 5. \n"
     ]
    },
    {
     "name": "stdout",
     "output_type": "stream",
     "text": [
      "Starting experimental run with id: 6. \n"
     ]
    },
    {
     "name": "stdout",
     "output_type": "stream",
     "text": [
      "Starting experimental run with id: 7. \n"
     ]
    },
    {
     "name": "stdout",
     "output_type": "stream",
     "text": [
      "Starting experimental run with id: 8. \n",
      "Starting experimental run with id: 9. \n"
     ]
    },
    {
     "name": "stdout",
     "output_type": "stream",
     "text": [
      "Starting experimental run with id: 10. \n"
     ]
    },
    {
     "name": "stdout",
     "output_type": "stream",
     "text": [
      "Starting experimental run with id: 11. \n"
     ]
    },
    {
     "name": "stdout",
     "output_type": "stream",
     "text": [
      "Starting experimental run with id: 12. \n",
      "Starting experimental run with id: 13. \n"
     ]
    },
    {
     "name": "stdout",
     "output_type": "stream",
     "text": [
      "Starting experimental run with id: 14. \n"
     ]
    }
   ],
   "source": [
    "sizes = [1,500,1000,2000,3000,4000,5000]\n",
    "t_numeric = []\n",
    "t_numeric_add = []\n",
    "t_array = []\n",
    "t_array_add = []\n",
    "for size in sizes:\n",
    "    tn, tna, run_id_n =  insert_data('numeric', size)\n",
    "    t_numeric.append(tn)\n",
    "    t_numeric_add.append(tna)\n",
    "\n",
    "    ta, taa, run_id_a =  insert_data('array', size)\n",
    "    t_array.append(ta)\n",
    "    t_array_add.append(taa)"
   ]
  },
  {
   "cell_type": "code",
   "execution_count": 6,
   "metadata": {
    "execution": {
     "iopub.execute_input": "2020-10-13T21:17:17.316749Z",
     "iopub.status.busy": "2020-10-13T21:17:17.316079Z",
     "iopub.status.idle": "2020-10-13T21:17:17.532380Z",
     "shell.execute_reply": "2020-10-13T21:17:17.531632Z"
    }
   },
   "outputs": [
    {
     "data": {
      "image/png": "[encoded data removed]",
      "text/plain": [
       "<Figure size 432x288 with 1 Axes>"
      ]
     },
     "metadata": {
      "needs_background": "light"
     },
     "output_type": "display_data"
    }
   ],
   "source": [
    "fig, ax = plt.subplots(1,1)\n",
    "ax.plot(sizes, t_numeric, 'o-', label='Inserting row-by-row')\n",
    "ax.plot(sizes, t_numeric_add, 'o-', label='Inserting row-by-row: add_result only')\n",
    "ax.plot(sizes, t_array, 'd-', label='Inserting as binary blob')\n",
    "ax.plot(sizes, t_array_add, 'd-', label='Inserting as binary blob: add_result only')\n",
    "ax.legend()\n",
    "ax.set_xlabel('Array length')\n",
    "ax.set_ylabel('Time (s)')\n",
    "fig.tight_layout()"
   ]
  },
  {
   "cell_type": "markdown",
   "metadata": {},
   "source": [
    "As shown in the latter figure, the time to setup and and close the experiment is approximately 0.4 sec. In case of small array sizes, the difference between inserting values of data as arrays and inserting them row-by-row is relatively unimportant. At larger array sizes, i.e. above 10000 points, the cost of writing data as individual datapoints starts to become important.\n"
   ]
  },
  {
   "cell_type": "markdown",
   "metadata": {},
   "source": [
    "### Case2: Long experiment time "
   ]
  },
  {
   "cell_type": "code",
   "execution_count": 7,
   "metadata": {
    "execution": {
     "iopub.execute_input": "2020-10-13T21:17:17.538778Z",
     "iopub.status.busy": "2020-10-13T21:17:17.538085Z",
     "iopub.status.idle": "2020-10-13T21:18:08.828620Z",
     "shell.execute_reply": "2020-10-13T21:18:08.829016Z"
    }
   },
   "outputs": [
    {
     "name": "stdout",
     "output_type": "stream",
     "text": [
      "Starting experimental run with id: 15. \n",
      "Starting experimental run with id: 16. \n",
      "Starting experimental run with id: 17. \n"
     ]
    },
    {
     "name": "stdout",
     "output_type": "stream",
     "text": [
      "Starting experimental run with id: 18. \n",
      "Starting experimental run with id: 19. \n"
     ]
    },
    {
     "name": "stdout",
     "output_type": "stream",
     "text": [
      "Starting experimental run with id: 20. \n"
     ]
    },
    {
     "name": "stdout",
     "output_type": "stream",
     "text": [
      "Starting experimental run with id: 21. \n"
     ]
    },
    {
     "name": "stdout",
     "output_type": "stream",
     "text": [
      "Starting experimental run with id: 22. \n"
     ]
    },
    {
     "name": "stdout",
     "output_type": "stream",
     "text": [
      "Starting experimental run with id: 23. \n"
     ]
    },
    {
     "name": "stdout",
     "output_type": "stream",
     "text": [
      "Starting experimental run with id: 24. \n"
     ]
    },
    {
     "name": "stdout",
     "output_type": "stream",
     "text": [
      "Starting experimental run with id: 25. \n"
     ]
    },
    {
     "name": "stdout",
     "output_type": "stream",
     "text": [
      "Starting experimental run with id: 26. \n"
     ]
    },
    {
     "name": "stdout",
     "output_type": "stream",
     "text": [
      "Starting experimental run with id: 27. \n"
     ]
    },
    {
     "name": "stdout",
     "output_type": "stream",
     "text": [
      "Starting experimental run with id: 28. \n"
     ]
    }
   ],
   "source": [
    "sizes = [1,500,1000,2000,3000,4000,5000]\n",
    "nreps = 100\n",
    "t_numeric = []\n",
    "t_numeric_add = []\n",
    "t_numeric_run_ids = []\n",
    "t_array = []\n",
    "t_array_add = []\n",
    "t_array_run_ids = []\n",
    "for size in sizes:\n",
    "    tn, tna, run_id_n =  insert_data('numeric', size, nreps=nreps)\n",
    "    t_numeric.append(tn)\n",
    "    t_numeric_add.append(tna)\n",
    "    t_numeric_run_ids.append(run_id_n)\n",
    "\n",
    "    ta, taa, run_id_a =  insert_data('array', size, nreps=nreps)\n",
    "    t_array.append(ta)\n",
    "    t_array_add.append(taa)\n",
    "    t_array_run_ids.append(run_id_a)"
   ]
  },
  {
   "cell_type": "code",
   "execution_count": 8,
   "metadata": {
    "execution": {
     "iopub.execute_input": "2020-10-13T21:18:08.845640Z",
     "iopub.status.busy": "2020-10-13T21:18:08.844084Z",
     "iopub.status.idle": "2020-10-13T21:18:09.039773Z",
     "shell.execute_reply": "2020-10-13T21:18:09.039344Z"
    },
    "scrolled": true
   },
   "outputs": [
    {
     "data": {
      "image/png": "[encoded data removed]",
      "text/plain": [
       "<Figure size 432x288 with 1 Axes>"
      ]
     },
     "metadata": {
      "needs_background": "light"
     },
     "output_type": "display_data"
    }
   ],
   "source": [
    "fig, ax = plt.subplots(1,1)\n",
    "ax.plot(sizes, t_numeric, 'o-', label='Inserting row-by-row')\n",
    "ax.plot(sizes, t_numeric_add, 'o-', label='Inserting row-by-row: add_result only')\n",
    "ax.plot(sizes, t_array, 'd-', label='Inserting as binary blob')\n",
    "ax.plot(sizes, t_array_add, 'd-', label='Inserting as binary blob: add_result only')\n",
    "ax.legend()\n",
    "ax.set_xlabel('Array length')\n",
    "ax.set_ylabel('Time (s)')\n",
    "fig.tight_layout()"
   ]
  },
  {
   "cell_type": "markdown",
   "metadata": {},
   "source": [
    "However, as we increase the length of the experiment, as seen here by repeating the insertion 100 times, we see a big difference between inserting values of the data row-by-row and inserting it as a binary blob."
   ]
  },
  {
   "cell_type": "markdown",
   "metadata": {},
   "source": [
    "## Loading the data "
   ]
  },
  {
   "cell_type": "code",
   "execution_count": 9,
   "metadata": {
    "execution": {
     "iopub.execute_input": "2020-10-13T21:18:09.043718Z",
     "iopub.status.busy": "2020-10-13T21:18:09.043228Z",
     "iopub.status.idle": "2020-10-13T21:18:09.045631Z",
     "shell.execute_reply": "2020-10-13T21:18:09.045138Z"
    }
   },
   "outputs": [],
   "source": [
    "from qcodes.dataset.data_set import load_by_id\n",
    "from qcodes.dataset.data_export import get_data_by_id"
   ]
  },
  {
   "cell_type": "markdown",
   "metadata": {},
   "source": [
    "As usual you can load the data by using the ``load_by_id`` function but you will notice that the different storage methods\n",
    "are reflected in shape of the data as it is retrieved. "
   ]
  },
  {
   "cell_type": "code",
   "execution_count": 10,
   "metadata": {
    "execution": {
     "iopub.execute_input": "2020-10-13T21:18:09.049560Z",
     "iopub.status.busy": "2020-10-13T21:18:09.048432Z",
     "iopub.status.idle": "2020-10-13T21:18:09.050042Z",
     "shell.execute_reply": "2020-10-13T21:18:09.050516Z"
    }
   },
   "outputs": [],
   "source": [
    "run_id_n = t_numeric_run_ids[0]\n",
    "run_id_a = t_array_run_ids[0]"
   ]
  },
  {
   "cell_type": "code",
   "execution_count": 11,
   "metadata": {
    "execution": {
     "iopub.execute_input": "2020-10-13T21:18:09.053400Z",
     "iopub.status.busy": "2020-10-13T21:18:09.052934Z",
     "iopub.status.idle": "2020-10-13T21:18:09.061622Z",
     "shell.execute_reply": "2020-10-13T21:18:09.062249Z"
    },
    "scrolled": true
   },
   "outputs": [
    {
     "data": {
      "text/plain": [
       "{'x1': {'x1': array([0.28352274, 0.28352274, 0.01663365, 0.01663365, 0.60443468,\n",
       "         0.60443468, 0.24244338, 0.24244338, 0.08062118, 0.08062118,\n",
       "         0.2148742 , 0.2148742 , 0.93572904, 0.93572904, 0.94680215,\n",
       "         0.94680215, 0.25393507, 0.25393507, 0.76496672, 0.76496672,\n",
       "         0.88622756, 0.88622756, 0.56848805, 0.56848805, 0.17808536,\n",
       "         0.17808536, 0.73161731, 0.73161731, 0.52215044, 0.52215044,\n",
       "         0.21569073, 0.21569073, 0.90457304, 0.90457304, 0.87466744,\n",
       "         0.87466744, 0.35260078, 0.35260078, 0.76946618, 0.76946618,\n",
       "         0.91415603, 0.91415603, 0.92072354, 0.92072354, 0.65932347,\n",
       "         0.65932347, 0.78118763, 0.78118763, 0.59914672, 0.59914672,\n",
       "         0.24551846, 0.24551846, 0.73995782, 0.73995782, 0.48483821,\n",
       "         0.48483821, 0.97590769, 0.97590769, 0.2980801 , 0.2980801 ,\n",
       "         0.53103566, 0.53103566, 0.60515725, 0.60515725, 0.92043302,\n",
       "         0.92043302, 0.28995364, 0.28995364, 0.43323987, 0.43323987,\n",
       "         0.01052964, 0.01052964, 0.64834982, 0.64834982, 0.7800222 ,\n",
       "         0.7800222 , 0.16798828, 0.16798828, 0.71099499, 0.71099499,\n",
       "         0.26785887, 0.26785887, 0.19770261, 0.19770261, 0.32632045,\n",
       "         0.32632045, 0.14773337, 0.14773337, 0.12356092, 0.12356092,\n",
       "         0.41091581, 0.41091581, 0.46376649, 0.46376649, 0.73035742,\n",
       "         0.73035742, 0.02881867, 0.02881867, 0.47139695, 0.47139695,\n",
       "         0.57246632, 0.57246632, 0.63036854, 0.63036854, 0.72524805,\n",
       "         0.72524805, 0.1147093 , 0.1147093 , 0.1756814 , 0.1756814 ,\n",
       "         0.08780093, 0.08780093, 0.16943737, 0.16943737, 0.00215622,\n",
       "         0.00215622, 0.0509735 , 0.0509735 , 0.13811644, 0.13811644,\n",
       "         0.34804176, 0.34804176, 0.48355116, 0.48355116, 0.18529334,\n",
       "         0.18529334, 0.95426363, 0.95426363, 0.46242696, 0.46242696,\n",
       "         0.03073364, 0.03073364, 0.0701101 , 0.0701101 , 0.73505225,\n",
       "         0.73505225, 0.26922883, 0.26922883, 0.57162314, 0.57162314,\n",
       "         0.02759805, 0.02759805, 0.28662537, 0.28662537, 0.23700775,\n",
       "         0.23700775, 0.18076781, 0.18076781, 0.02084657, 0.02084657,\n",
       "         0.97248299, 0.97248299, 0.21008852, 0.21008852, 0.70058382,\n",
       "         0.70058382, 0.37781901, 0.37781901, 0.99442374, 0.99442374,\n",
       "         0.43402585, 0.43402585, 0.56905336, 0.56905336, 0.31320587,\n",
       "         0.31320587, 0.72520202, 0.72520202, 0.20383189, 0.20383189,\n",
       "         0.68433247, 0.68433247, 0.87539056, 0.87539056, 0.91217114,\n",
       "         0.91217114, 0.99285958, 0.99285958, 0.30119969, 0.30119969,\n",
       "         0.64979388, 0.64979388, 0.94891648, 0.94891648, 0.17813506,\n",
       "         0.17813506, 0.13024931, 0.13024931, 0.32217232, 0.32217232,\n",
       "         0.83578635, 0.83578635, 0.25082418, 0.25082418, 0.54091877,\n",
       "         0.54091877, 0.47197958, 0.47197958, 0.51004357, 0.51004357])}}"
      ]
     },
     "execution_count": 1,
     "metadata": {},
     "output_type": "execute_result"
    }
   ],
   "source": [
    "ds = load_by_id(run_id_n)\n",
    "ds.get_parameter_data('x1')"
   ]
  },
  {
   "cell_type": "markdown",
   "metadata": {},
   "source": [
    "And a dataset stored as binary arrays"
   ]
  },
  {
   "cell_type": "code",
   "execution_count": 12,
   "metadata": {
    "execution": {
     "iopub.execute_input": "2020-10-13T21:18:09.065689Z",
     "iopub.status.busy": "2020-10-13T21:18:09.065155Z",
     "iopub.status.idle": "2020-10-13T21:18:09.116927Z",
     "shell.execute_reply": "2020-10-13T21:18:09.116435Z"
    },
    "scrolled": true
   },
   "outputs": [
    {
     "data": {
      "text/plain": [
       "{'x1': {'x1': array([[0.55024776],\n",
       "         [0.55024776],\n",
       "         [0.14059297],\n",
       "         [0.14059297],\n",
       "         [0.8989929 ],\n",
       "         [0.8989929 ],\n",
       "         [0.36315081],\n",
       "         [0.36315081],\n",
       "         [0.74248068],\n",
       "         [0.74248068],\n",
       "         [0.81920694],\n",
       "         [0.81920694],\n",
       "         [0.64804899],\n",
       "         [0.64804899],\n",
       "         [0.33694576],\n",
       "         [0.33694576],\n",
       "         [0.6315582 ],\n",
       "         [0.6315582 ],\n",
       "         [0.85270016],\n",
       "         [0.85270016],\n",
       "         [0.67649317],\n",
       "         [0.67649317],\n",
       "         [0.74667821],\n",
       "         [0.74667821],\n",
       "         [0.45255897],\n",
       "         [0.45255897],\n",
       "         [0.36413555],\n",
       "         [0.36413555],\n",
       "         [0.4709553 ],\n",
       "         [0.4709553 ],\n",
       "         [0.63644597],\n",
       "         [0.63644597],\n",
       "         [0.96009258],\n",
       "         [0.96009258],\n",
       "         [0.1973036 ],\n",
       "         [0.1973036 ],\n",
       "         [0.06839211],\n",
       "         [0.06839211],\n",
       "         [0.155998  ],\n",
       "         [0.155998  ],\n",
       "         [0.6589681 ],\n",
       "         [0.6589681 ],\n",
       "         [0.01043905],\n",
       "         [0.01043905],\n",
       "         [0.45253135],\n",
       "         [0.45253135],\n",
       "         [0.71416343],\n",
       "         [0.71416343],\n",
       "         [0.05435904],\n",
       "         [0.05435904],\n",
       "         [0.06792198],\n",
       "         [0.06792198],\n",
       "         [0.00150298],\n",
       "         [0.00150298],\n",
       "         [0.40358388],\n",
       "         [0.40358388],\n",
       "         [0.51264473],\n",
       "         [0.51264473],\n",
       "         [0.83033204],\n",
       "         [0.83033204],\n",
       "         [0.30419763],\n",
       "         [0.30419763],\n",
       "         [0.15400392],\n",
       "         [0.15400392],\n",
       "         [0.18617052],\n",
       "         [0.18617052],\n",
       "         [0.88840255],\n",
       "         [0.88840255],\n",
       "         [0.25980298],\n",
       "         [0.25980298],\n",
       "         [0.16839115],\n",
       "         [0.16839115],\n",
       "         [0.20065697],\n",
       "         [0.20065697],\n",
       "         [0.43578452],\n",
       "         [0.43578452],\n",
       "         [0.34818809],\n",
       "         [0.34818809],\n",
       "         [0.1922564 ],\n",
       "         [0.1922564 ],\n",
       "         [0.96765013],\n",
       "         [0.96765013],\n",
       "         [0.20519769],\n",
       "         [0.20519769],\n",
       "         [0.21745142],\n",
       "         [0.21745142],\n",
       "         [0.41996855],\n",
       "         [0.41996855],\n",
       "         [0.24717786],\n",
       "         [0.24717786],\n",
       "         [0.91637285],\n",
       "         [0.91637285],\n",
       "         [0.17697743],\n",
       "         [0.17697743],\n",
       "         [0.57933867],\n",
       "         [0.57933867],\n",
       "         [0.19327344],\n",
       "         [0.19327344],\n",
       "         [0.81655936],\n",
       "         [0.81655936],\n",
       "         [0.09842821],\n",
       "         [0.09842821],\n",
       "         [0.67213224],\n",
       "         [0.67213224],\n",
       "         [0.13230722],\n",
       "         [0.13230722],\n",
       "         [0.15159289],\n",
       "         [0.15159289],\n",
       "         [0.35235586],\n",
       "         [0.35235586],\n",
       "         [0.70713013],\n",
       "         [0.70713013],\n",
       "         [0.10633485],\n",
       "         [0.10633485],\n",
       "         [0.4818161 ],\n",
       "         [0.4818161 ],\n",
       "         [0.98689187],\n",
       "         [0.98689187],\n",
       "         [0.30280398],\n",
       "         [0.30280398],\n",
       "         [0.91348519],\n",
       "         [0.91348519],\n",
       "         [0.88770378],\n",
       "         [0.88770378],\n",
       "         [0.03647134],\n",
       "         [0.03647134],\n",
       "         [0.02585387],\n",
       "         [0.02585387],\n",
       "         [0.46165377],\n",
       "         [0.46165377],\n",
       "         [0.6718851 ],\n",
       "         [0.6718851 ],\n",
       "         [0.16190302],\n",
       "         [0.16190302],\n",
       "         [0.27126213],\n",
       "         [0.27126213],\n",
       "         [0.91281194],\n",
       "         [0.91281194],\n",
       "         [0.3946626 ],\n",
       "         [0.3946626 ],\n",
       "         [0.14744814],\n",
       "         [0.14744814],\n",
       "         [0.86282633],\n",
       "         [0.86282633],\n",
       "         [0.77900312],\n",
       "         [0.77900312],\n",
       "         [0.25517026],\n",
       "         [0.25517026],\n",
       "         [0.39167065],\n",
       "         [0.39167065],\n",
       "         [0.67215907],\n",
       "         [0.67215907],\n",
       "         [0.60292116],\n",
       "         [0.60292116],\n",
       "         [0.13145173],\n",
       "         [0.13145173],\n",
       "         [0.95664229],\n",
       "         [0.95664229],\n",
       "         [0.65693336],\n",
       "         [0.65693336],\n",
       "         [0.78001884],\n",
       "         [0.78001884],\n",
       "         [0.76715109],\n",
       "         [0.76715109],\n",
       "         [0.86394529],\n",
       "         [0.86394529],\n",
       "         [0.16109368],\n",
       "         [0.16109368],\n",
       "         [0.97642497],\n",
       "         [0.97642497],\n",
       "         [0.4192576 ],\n",
       "         [0.4192576 ],\n",
       "         [0.87819193],\n",
       "         [0.87819193],\n",
       "         [0.34532636],\n",
       "         [0.34532636],\n",
       "         [0.92118033],\n",
       "         [0.92118033],\n",
       "         [0.3135178 ],\n",
       "         [0.3135178 ],\n",
       "         [0.73167139],\n",
       "         [0.73167139],\n",
       "         [0.65264062],\n",
       "         [0.65264062],\n",
       "         [0.32785968],\n",
       "         [0.32785968],\n",
       "         [0.27032015],\n",
       "         [0.27032015],\n",
       "         [0.48119638],\n",
       "         [0.48119638],\n",
       "         [0.41959145],\n",
       "         [0.41959145],\n",
       "         [0.3503246 ],\n",
       "         [0.3503246 ],\n",
       "         [0.98602774],\n",
       "         [0.98602774],\n",
       "         [0.67894788],\n",
       "         [0.67894788],\n",
       "         [0.57094142],\n",
       "         [0.57094142]])}}"
      ]
     },
     "execution_count": 1,
     "metadata": {},
     "output_type": "execute_result"
    }
   ],
   "source": [
    "ds = load_by_id(run_id_a)\n",
    "ds.get_parameter_data('x1')"
   ]
  },
  {
   "cell_type": "code",
   "execution_count": null,
   "metadata": {},
   "outputs": [],
   "source": []
  }
 ],
 "metadata": {
  "kernelspec": {
   "display_name": "Python 3",
   "language": "python",
   "name": "python3"
  },
  "language_info": {
   "codemirror_mode": {
    "name": "ipython",
    "version": 3
   },
   "file_extension": ".py",
   "mimetype": "text/x-python",
   "name": "python",
   "nbconvert_exporter": "python",
   "pygments_lexer": "ipython3",
   "version": "3.7.7"
  },
  "nbsphinx": {
   "timeout": 600
  },
  "toc": {
   "base_numbering": 1,
   "nav_menu": {},
   "number_sections": true,
   "sideBar": true,
   "skip_h1_title": false,
   "title_cell": "Table of Contents",
   "title_sidebar": "Contents",
   "toc_cell": false,
   "toc_position": {},
   "toc_section_display": true,
   "toc_window_display": false
  },
  "varInspector": {
   "cols": {
    "lenName": 16,
    "lenType": 16,
    "lenVar": 40
   },
   "kernels_config": {
    "python": {
     "delete_cmd_postfix": "",
     "delete_cmd_prefix": "del ",
     "library": "var_list.py",
     "varRefreshCmd": "print(var_dic_list())"
    },
    "r": {
     "delete_cmd_postfix": ") ",
     "delete_cmd_prefix": "rm(",
     "library": "var_list.r",
     "varRefreshCmd": "cat(var_dic_list()) "
    }
   },
   "types_to_exclude": [
    "module",
    "function",
    "builtin_function_or_method",
    "instance",
    "_Feature"
   ],
   "window_display": false
  }
 },
 "nbformat": 4,
 "nbformat_minor": 2
}
