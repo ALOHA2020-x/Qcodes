{
 "cells": [
  {
   "cell_type": "markdown",
   "metadata": {},
   "source": [
    "# DataSet Performance\n",
    "\n",
    "This notebook shows the trade-off between inserting data into a database row-by-row and as binary blobs. Inserting the data row-by-row means that we have direct access to all the data and may perform queries directly on the values of the data. On the other hand, as we shall see, this is much slower than inserting the data directly as binary blobs."
   ]
  },
  {
   "cell_type": "markdown",
   "metadata": {},
   "source": [
    "First, we choose a new location for the database to ensure that we don't add a bunch of benchmarking data to the default one."
   ]
  },
  {
   "cell_type": "code",
   "execution_count": 1,
   "metadata": {
    "execution": {
     "iopub.execute_input": "2021-02-26T07:35:32.754093Z",
     "iopub.status.busy": "2021-02-26T07:35:32.753324Z",
     "iopub.status.idle": "2021-02-26T07:35:33.741732Z",
     "shell.execute_reply": "2021-02-26T07:35:33.741033Z"
    }
   },
   "outputs": [
    {
     "name": "stdout",
     "output_type": "stream",
     "text": [
      "Logging hadn't been started.\n",
      "Activating auto-logging. Current session state plus future input saved.\n",
      "Filename       : /home/runner/.qcodes/logs/command_history.log\n",
      "Mode           : append\n",
      "Output logging : True\n",
      "Raw input log  : False\n",
      "Timestamping   : True\n",
      "State          : active\n"
     ]
    },
    {
     "name": "stdout",
     "output_type": "stream",
     "text": [
      "Qcodes Logfile : /home/runner/.qcodes/logs/210226-4109-qcodes.log\n"
     ]
    }
   ],
   "source": [
    "import os\n",
    "cwd = os.getcwd()\n",
    "import qcodes as qc\n",
    "qc.config[\"core\"][\"db_location\"] = os.path.join(cwd, 'testing.db')\n"
   ]
  },
  {
   "cell_type": "code",
   "execution_count": 2,
   "metadata": {
    "execution": {
     "iopub.execute_input": "2021-02-26T07:35:33.750200Z",
     "iopub.status.busy": "2021-02-26T07:35:33.748308Z",
     "iopub.status.idle": "2021-02-26T07:35:33.965526Z",
     "shell.execute_reply": "2021-02-26T07:35:33.966420Z"
    }
   },
   "outputs": [],
   "source": [
    "%matplotlib inline\n",
    "import time\n",
    "import matplotlib.pyplot as plt\n",
    "import numpy as np\n",
    "\n",
    "import qcodes as qc\n",
    "from qcodes.instrument.parameter import ManualParameter\n",
    "from qcodes.dataset.experiment_container import (Experiment,\n",
    "                                                 load_last_experiment,\n",
    "                                                 new_experiment)\n",
    "from qcodes.dataset.sqlite.database import initialise_database\n",
    "from qcodes import load_or_create_experiment\n",
    "from qcodes.dataset.measurements import Measurement"
   ]
  },
  {
   "cell_type": "code",
   "execution_count": 3,
   "metadata": {
    "execution": {
     "iopub.execute_input": "2021-02-26T07:35:33.971177Z",
     "iopub.status.busy": "2021-02-26T07:35:33.970451Z",
     "iopub.status.idle": "2021-02-26T07:35:34.346174Z",
     "shell.execute_reply": "2021-02-26T07:35:34.345605Z"
    }
   },
   "outputs": [
    {
     "name": "stdout",
     "output_type": "stream",
     "text": [
      "\r",
      "0it [00:00, ?it/s]"
     ]
    },
    {
     "name": "stdout",
     "output_type": "stream",
     "text": [
      "\r",
      "Upgrading database; v0 -> v1: : 0it [00:00, ?it/s]"
     ]
    },
    {
     "name": "stdout",
     "output_type": "stream",
     "text": [
      "\r",
      "Upgrading database; v0 -> v1: : 0it [00:00, ?it/s]"
     ]
    },
    {
     "name": "stdout",
     "output_type": "stream",
     "text": [
      "\n",
      "\r",
      "  0%|          | 0/1 [00:00<?, ?it/s]"
     ]
    },
    {
     "name": "stdout",
     "output_type": "stream",
     "text": [
      "\r",
      "Upgrading database; v1 -> v2:   0%|          | 0/1 [00:00<?, ?it/s]"
     ]
    },
    {
     "name": "stdout",
     "output_type": "stream",
     "text": [
      "\r",
      "Upgrading database; v1 -> v2: 100%|██████████| 1/1 [00:00<00:00, 662.71it/s]"
     ]
    },
    {
     "name": "stdout",
     "output_type": "stream",
     "text": [
      "\n",
      "\r",
      "0it [00:00, ?it/s]"
     ]
    },
    {
     "name": "stdout",
     "output_type": "stream",
     "text": [
      "\r",
      "Upgrading database; v2 -> v3: : 0it [00:00, ?it/s]"
     ]
    },
    {
     "name": "stdout",
     "output_type": "stream",
     "text": [
      "\r",
      "Upgrading database; v2 -> v3: : 0it [00:00, ?it/s]"
     ]
    },
    {
     "name": "stdout",
     "output_type": "stream",
     "text": [
      "\n",
      "\r",
      "0it [00:00, ?it/s]"
     ]
    },
    {
     "name": "stdout",
     "output_type": "stream",
     "text": [
      "\r",
      "Upgrading database; v3 -> v4: : 0it [00:00, ?it/s]"
     ]
    },
    {
     "name": "stdout",
     "output_type": "stream",
     "text": [
      "\r",
      "Upgrading database; v3 -> v4: : 0it [00:00, ?it/s]"
     ]
    },
    {
     "name": "stdout",
     "output_type": "stream",
     "text": [
      "\n",
      "\r",
      "  0%|          | 0/1 [00:00<?, ?it/s]"
     ]
    },
    {
     "name": "stdout",
     "output_type": "stream",
     "text": [
      "\r",
      "Upgrading database; v4 -> v5:   0%|          | 0/1 [00:00<?, ?it/s]"
     ]
    },
    {
     "name": "stdout",
     "output_type": "stream",
     "text": [
      "\r",
      "Upgrading database; v4 -> v5: 100%|██████████| 1/1 [00:00<00:00, 574.40it/s]"
     ]
    },
    {
     "name": "stdout",
     "output_type": "stream",
     "text": [
      "\n",
      "\r",
      "0it [00:00, ?it/s]"
     ]
    },
    {
     "name": "stdout",
     "output_type": "stream",
     "text": [
      "\r",
      "Upgrading database; v5 -> v6: : 0it [00:00, ?it/s]"
     ]
    },
    {
     "name": "stdout",
     "output_type": "stream",
     "text": [
      "\r",
      "Upgrading database; v5 -> v6: : 0it [00:00, ?it/s]"
     ]
    },
    {
     "name": "stdout",
     "output_type": "stream",
     "text": [
      "\n",
      "\r",
      "  0%|          | 0/1 [00:00<?, ?it/s]"
     ]
    },
    {
     "name": "stdout",
     "output_type": "stream",
     "text": [
      "\r",
      "Upgrading database; v6 -> v7:   0%|          | 0/1 [00:00<?, ?it/s]"
     ]
    },
    {
     "name": "stdout",
     "output_type": "stream",
     "text": [
      "\r",
      "Upgrading database; v6 -> v7: 100%|██████████| 1/1 [00:00<00:00, 67.47it/s]"
     ]
    },
    {
     "name": "stdout",
     "output_type": "stream",
     "text": [
      "\n"
     ]
    },
    {
     "name": "stdout",
     "output_type": "stream",
     "text": [
      "\r",
      "  0%|          | 0/1 [00:00<?, ?it/s]"
     ]
    },
    {
     "name": "stdout",
     "output_type": "stream",
     "text": [
      "\r",
      "Upgrading database; v7 -> v8:   0%|          | 0/1 [00:00<?, ?it/s]"
     ]
    },
    {
     "name": "stdout",
     "output_type": "stream",
     "text": [
      "\r",
      "Upgrading database; v7 -> v8: 100%|██████████| 1/1 [00:00<00:00, 743.93it/s]"
     ]
    },
    {
     "name": "stdout",
     "output_type": "stream",
     "text": [
      "\n",
      "\r",
      "  0%|          | 0/1 [00:00<?, ?it/s]"
     ]
    },
    {
     "name": "stdout",
     "output_type": "stream",
     "text": [
      "\r",
      "Upgrading database; v8 -> v9:   0%|          | 0/1 [00:00<?, ?it/s]"
     ]
    },
    {
     "name": "stdout",
     "output_type": "stream",
     "text": [
      "\r",
      "Upgrading database; v8 -> v9: 100%|██████████| 1/1 [00:00<00:00, 578.29it/s]"
     ]
    },
    {
     "name": "stdout",
     "output_type": "stream",
     "text": [
      "\n"
     ]
    }
   ],
   "source": [
    "initialise_database()\n",
    "exp = load_or_create_experiment(experiment_name='tutorial_exp', sample_name=\"no sample\")"
   ]
  },
  {
   "cell_type": "markdown",
   "metadata": {},
   "source": [
    "Here, we define a simple function to benchmark the time it takes to insert n points with either numeric or array data type.\n",
    "We will compare both the time used to call ``add_result`` and the time used for the full measurement."
   ]
  },
  {
   "cell_type": "code",
   "execution_count": 4,
   "metadata": {
    "execution": {
     "iopub.execute_input": "2021-02-26T07:35:34.356211Z",
     "iopub.status.busy": "2021-02-26T07:35:34.355477Z",
     "iopub.status.idle": "2021-02-26T07:35:34.359350Z",
     "shell.execute_reply": "2021-02-26T07:35:34.360492Z"
    }
   },
   "outputs": [],
   "source": [
    "def insert_data(paramtype, npoints, nreps=1):\n",
    "\n",
    "    meas = Measurement(exp=exp)\n",
    "\n",
    "    x1 = ManualParameter('x1')\n",
    "    x2 = ManualParameter('x2')\n",
    "    x3 = ManualParameter('x3')\n",
    "    y1 = ManualParameter('y1')\n",
    "    y2 = ManualParameter('y2')\n",
    "\n",
    "    meas.register_parameter(x1, paramtype=paramtype)\n",
    "    meas.register_parameter(x2, paramtype=paramtype)\n",
    "    meas.register_parameter(x3, paramtype=paramtype)\n",
    "    meas.register_parameter(y1, setpoints=[x1, x2, x3],\n",
    "                            paramtype=paramtype)\n",
    "    meas.register_parameter(y2, setpoints=[x1, x2, x3],\n",
    "                            paramtype=paramtype)\n",
    "    start = time.perf_counter()\n",
    "    with meas.run() as datasaver:\n",
    "        start_adding = time.perf_counter()\n",
    "        for i in range(nreps):\n",
    "            datasaver.add_result((x1, np.random.rand(npoints)),\n",
    "                                 (x2, np.random.rand(npoints)),\n",
    "                                 (x3, np.random.rand(npoints)),\n",
    "                                 (y1, np.random.rand(npoints)),\n",
    "                                 (y2, np.random.rand(npoints)))\n",
    "        stop_adding = time.perf_counter()\n",
    "        run_id = datasaver.run_id\n",
    "    stop = time.perf_counter()\n",
    "    tot_time = stop - start\n",
    "    add_time = stop_adding - start_adding\n",
    "    return tot_time, add_time, run_id"
   ]
  },
  {
   "cell_type": "markdown",
   "metadata": {},
   "source": [
    "## Comparison between numeric/array data and binary blob"
   ]
  },
  {
   "cell_type": "markdown",
   "metadata": {},
   "source": [
    "### Case1: Short experiment time"
   ]
  },
  {
   "cell_type": "code",
   "execution_count": 5,
   "metadata": {
    "execution": {
     "iopub.execute_input": "2021-02-26T07:35:34.368795Z",
     "iopub.status.busy": "2021-02-26T07:35:34.367571Z",
     "iopub.status.idle": "2021-02-26T07:35:35.966162Z",
     "shell.execute_reply": "2021-02-26T07:35:35.966677Z"
    }
   },
   "outputs": [
    {
     "name": "stdout",
     "output_type": "stream",
     "text": [
      "Starting experimental run with id: 1. \n"
     ]
    },
    {
     "name": "stdout",
     "output_type": "stream",
     "text": [
      "Starting experimental run with id: 2. \n",
      "Starting experimental run with id: 3. \n"
     ]
    },
    {
     "name": "stdout",
     "output_type": "stream",
     "text": [
      "Starting experimental run with id: 4. \n"
     ]
    },
    {
     "name": "stdout",
     "output_type": "stream",
     "text": [
      "Starting experimental run with id: 5. \n",
      "Starting experimental run with id: 6. \n"
     ]
    },
    {
     "name": "stdout",
     "output_type": "stream",
     "text": [
      "Starting experimental run with id: 7. \n"
     ]
    },
    {
     "name": "stdout",
     "output_type": "stream",
     "text": [
      "Starting experimental run with id: 8. \n"
     ]
    },
    {
     "name": "stdout",
     "output_type": "stream",
     "text": [
      "Starting experimental run with id: 9. \n"
     ]
    },
    {
     "name": "stdout",
     "output_type": "stream",
     "text": [
      "Starting experimental run with id: 10. \n",
      "Starting experimental run with id: 11. \n"
     ]
    },
    {
     "name": "stdout",
     "output_type": "stream",
     "text": [
      "Starting experimental run with id: 12. \n",
      "Starting experimental run with id: 13. \n"
     ]
    },
    {
     "name": "stdout",
     "output_type": "stream",
     "text": [
      "Starting experimental run with id: 14. \n"
     ]
    }
   ],
   "source": [
    "sizes = [1,500,1000,2000,3000,4000,5000]\n",
    "t_numeric = []\n",
    "t_numeric_add = []\n",
    "t_array = []\n",
    "t_array_add = []\n",
    "for size in sizes:\n",
    "    tn, tna, run_id_n =  insert_data('numeric', size)\n",
    "    t_numeric.append(tn)\n",
    "    t_numeric_add.append(tna)\n",
    "\n",
    "    ta, taa, run_id_a =  insert_data('array', size)\n",
    "    t_array.append(ta)\n",
    "    t_array_add.append(taa)"
   ]
  },
  {
   "cell_type": "code",
   "execution_count": 6,
   "metadata": {
    "execution": {
     "iopub.execute_input": "2021-02-26T07:35:35.992805Z",
     "iopub.status.busy": "2021-02-26T07:35:35.987678Z",
     "iopub.status.idle": "2021-02-26T07:35:36.241002Z",
     "shell.execute_reply": "2021-02-26T07:35:36.241564Z"
    }
   },
   "outputs": [
    {
     "data": {
      "image/png": "[encoded data removed]",
      "text/plain": [
       "<Figure size 432x288 with 1 Axes>"
      ]
     },
     "metadata": {
      "needs_background": "light"
     },
     "output_type": "display_data"
    }
   ],
   "source": [
    "fig, ax = plt.subplots(1,1)\n",
    "ax.plot(sizes, t_numeric, 'o-', label='Inserting row-by-row')\n",
    "ax.plot(sizes, t_numeric_add, 'o-', label='Inserting row-by-row: add_result only')\n",
    "ax.plot(sizes, t_array, 'd-', label='Inserting as binary blob')\n",
    "ax.plot(sizes, t_array_add, 'd-', label='Inserting as binary blob: add_result only')\n",
    "ax.legend()\n",
    "ax.set_xlabel('Array length')\n",
    "ax.set_ylabel('Time (s)')\n",
    "fig.tight_layout()"
   ]
  },
  {
   "cell_type": "markdown",
   "metadata": {},
   "source": [
    "As shown in the latter figure, the time to setup and and close the experiment is approximately 0.4 sec. In case of small array sizes, the difference between inserting values of data as arrays and inserting them row-by-row is relatively unimportant. At larger array sizes, i.e. above 10000 points, the cost of writing data as individual datapoints starts to become important.\n"
   ]
  },
  {
   "cell_type": "markdown",
   "metadata": {},
   "source": [
    "### Case2: Long experiment time "
   ]
  },
  {
   "cell_type": "code",
   "execution_count": 7,
   "metadata": {
    "execution": {
     "iopub.execute_input": "2021-02-26T07:35:36.249718Z",
     "iopub.status.busy": "2021-02-26T07:35:36.248754Z",
     "iopub.status.idle": "2021-02-26T07:36:47.091009Z",
     "shell.execute_reply": "2021-02-26T07:36:47.090447Z"
    }
   },
   "outputs": [
    {
     "name": "stdout",
     "output_type": "stream",
     "text": [
      "Starting experimental run with id: 15. \n",
      "Starting experimental run with id: 16. \n"
     ]
    },
    {
     "name": "stdout",
     "output_type": "stream",
     "text": [
      "Starting experimental run with id: 17. \n"
     ]
    },
    {
     "name": "stdout",
     "output_type": "stream",
     "text": [
      "Starting experimental run with id: 18. \n"
     ]
    },
    {
     "name": "stdout",
     "output_type": "stream",
     "text": [
      "Starting experimental run with id: 19. \n"
     ]
    },
    {
     "name": "stdout",
     "output_type": "stream",
     "text": [
      "Starting experimental run with id: 20. \n"
     ]
    },
    {
     "name": "stdout",
     "output_type": "stream",
     "text": [
      "Starting experimental run with id: 21. \n"
     ]
    },
    {
     "name": "stdout",
     "output_type": "stream",
     "text": [
      "Starting experimental run with id: 22. \n"
     ]
    },
    {
     "name": "stdout",
     "output_type": "stream",
     "text": [
      "Starting experimental run with id: 23. \n"
     ]
    },
    {
     "name": "stdout",
     "output_type": "stream",
     "text": [
      "Starting experimental run with id: 24. \n"
     ]
    },
    {
     "name": "stdout",
     "output_type": "stream",
     "text": [
      "Starting experimental run with id: 25. \n"
     ]
    },
    {
     "name": "stdout",
     "output_type": "stream",
     "text": [
      "Starting experimental run with id: 26. \n"
     ]
    },
    {
     "name": "stdout",
     "output_type": "stream",
     "text": [
      "Starting experimental run with id: 27. \n"
     ]
    },
    {
     "name": "stdout",
     "output_type": "stream",
     "text": [
      "Starting experimental run with id: 28. \n"
     ]
    }
   ],
   "source": [
    "sizes = [1,500,1000,2000,3000,4000,5000]\n",
    "nreps = 100\n",
    "t_numeric = []\n",
    "t_numeric_add = []\n",
    "t_numeric_run_ids = []\n",
    "t_array = []\n",
    "t_array_add = []\n",
    "t_array_run_ids = []\n",
    "for size in sizes:\n",
    "    tn, tna, run_id_n =  insert_data('numeric', size, nreps=nreps)\n",
    "    t_numeric.append(tn)\n",
    "    t_numeric_add.append(tna)\n",
    "    t_numeric_run_ids.append(run_id_n)\n",
    "\n",
    "    ta, taa, run_id_a =  insert_data('array', size, nreps=nreps)\n",
    "    t_array.append(ta)\n",
    "    t_array_add.append(taa)\n",
    "    t_array_run_ids.append(run_id_a)"
   ]
  },
  {
   "cell_type": "code",
   "execution_count": 8,
   "metadata": {
    "execution": {
     "iopub.execute_input": "2021-02-26T07:36:47.114572Z",
     "iopub.status.busy": "2021-02-26T07:36:47.110880Z",
     "iopub.status.idle": "2021-02-26T07:36:47.334323Z",
     "shell.execute_reply": "2021-02-26T07:36:47.333533Z"
    },
    "scrolled": true
   },
   "outputs": [
    {
     "data": {
      "image/png": "[encoded data removed]",
      "text/plain": [
       "<Figure size 432x288 with 1 Axes>"
      ]
     },
     "metadata": {
      "needs_background": "light"
     },
     "output_type": "display_data"
    }
   ],
   "source": [
    "fig, ax = plt.subplots(1,1)\n",
    "ax.plot(sizes, t_numeric, 'o-', label='Inserting row-by-row')\n",
    "ax.plot(sizes, t_numeric_add, 'o-', label='Inserting row-by-row: add_result only')\n",
    "ax.plot(sizes, t_array, 'd-', label='Inserting as binary blob')\n",
    "ax.plot(sizes, t_array_add, 'd-', label='Inserting as binary blob: add_result only')\n",
    "ax.legend()\n",
    "ax.set_xlabel('Array length')\n",
    "ax.set_ylabel('Time (s)')\n",
    "fig.tight_layout()"
   ]
  },
  {
   "cell_type": "markdown",
   "metadata": {},
   "source": [
    "However, as we increase the length of the experiment, as seen here by repeating the insertion 100 times, we see a big difference between inserting values of the data row-by-row and inserting it as a binary blob."
   ]
  },
  {
   "cell_type": "markdown",
   "metadata": {},
   "source": [
    "## Loading the data "
   ]
  },
  {
   "cell_type": "code",
   "execution_count": 9,
   "metadata": {
    "execution": {
     "iopub.execute_input": "2021-02-26T07:36:47.339414Z",
     "iopub.status.busy": "2021-02-26T07:36:47.338519Z",
     "iopub.status.idle": "2021-02-26T07:36:47.343469Z",
     "shell.execute_reply": "2021-02-26T07:36:47.344000Z"
    }
   },
   "outputs": [],
   "source": [
    "from qcodes.dataset.data_set import load_by_id\n",
    "from qcodes.dataset.data_export import get_data_by_id"
   ]
  },
  {
   "cell_type": "markdown",
   "metadata": {},
   "source": [
    "As usual you can load the data by using the ``load_by_id`` function but you will notice that the different storage methods\n",
    "are reflected in shape of the data as it is retrieved. "
   ]
  },
  {
   "cell_type": "code",
   "execution_count": 10,
   "metadata": {
    "execution": {
     "iopub.execute_input": "2021-02-26T07:36:47.348180Z",
     "iopub.status.busy": "2021-02-26T07:36:47.347439Z",
     "iopub.status.idle": "2021-02-26T07:36:47.352307Z",
     "shell.execute_reply": "2021-02-26T07:36:47.351766Z"
    }
   },
   "outputs": [],
   "source": [
    "run_id_n = t_numeric_run_ids[0]\n",
    "run_id_a = t_array_run_ids[0]"
   ]
  },
  {
   "cell_type": "code",
   "execution_count": 11,
   "metadata": {
    "execution": {
     "iopub.execute_input": "2021-02-26T07:36:47.356490Z",
     "iopub.status.busy": "2021-02-26T07:36:47.355865Z",
     "iopub.status.idle": "2021-02-26T07:36:47.365555Z",
     "shell.execute_reply": "2021-02-26T07:36:47.366085Z"
    },
    "scrolled": true
   },
   "outputs": [
    {
     "data": {
      "text/plain": [
       "{'x1': {'x1': array([0.9649225 , 0.9649225 , 0.23436631, 0.23436631, 0.91166804,\n",
       "         0.91166804, 0.75951874, 0.75951874, 0.96806418, 0.96806418,\n",
       "         0.83949739, 0.83949739, 0.60780864, 0.60780864, 0.65486274,\n",
       "         0.65486274, 0.7617926 , 0.7617926 , 0.800922  , 0.800922  ,\n",
       "         0.66796969, 0.66796969, 0.58352542, 0.58352542, 0.95136919,\n",
       "         0.95136919, 0.73030668, 0.73030668, 0.53824537, 0.53824537,\n",
       "         0.95906115, 0.95906115, 0.36904112, 0.36904112, 0.16172984,\n",
       "         0.16172984, 0.79231141, 0.79231141, 0.69057865, 0.69057865,\n",
       "         0.81102772, 0.81102772, 0.62925634, 0.62925634, 0.40546023,\n",
       "         0.40546023, 0.84449883, 0.84449883, 0.70097827, 0.70097827,\n",
       "         0.09870669, 0.09870669, 0.86187807, 0.86187807, 0.96890976,\n",
       "         0.96890976, 0.99370768, 0.99370768, 0.71102896, 0.71102896,\n",
       "         0.94709218, 0.94709218, 0.42333361, 0.42333361, 0.88877608,\n",
       "         0.88877608, 0.56156539, 0.56156539, 0.51243148, 0.51243148,\n",
       "         0.55165514, 0.55165514, 0.95058828, 0.95058828, 0.99034279,\n",
       "         0.99034279, 0.1767771 , 0.1767771 , 0.22521379, 0.22521379,\n",
       "         0.03473482, 0.03473482, 0.57832426, 0.57832426, 0.15669213,\n",
       "         0.15669213, 0.56522361, 0.56522361, 0.88063973, 0.88063973,\n",
       "         0.68948633, 0.68948633, 0.25379462, 0.25379462, 0.8049253 ,\n",
       "         0.8049253 , 0.74010622, 0.74010622, 0.02619516, 0.02619516,\n",
       "         0.32675685, 0.32675685, 0.63338217, 0.63338217, 0.16768605,\n",
       "         0.16768605, 0.20296025, 0.20296025, 0.37644102, 0.37644102,\n",
       "         0.93300846, 0.93300846, 0.92782131, 0.92782131, 0.40146256,\n",
       "         0.40146256, 0.46260411, 0.46260411, 0.35823385, 0.35823385,\n",
       "         0.15346817, 0.15346817, 0.95097843, 0.95097843, 0.87716959,\n",
       "         0.87716959, 0.56407421, 0.56407421, 0.46592949, 0.46592949,\n",
       "         0.40100296, 0.40100296, 0.35873299, 0.35873299, 0.03907762,\n",
       "         0.03907762, 0.23072081, 0.23072081, 0.23388695, 0.23388695,\n",
       "         0.9652952 , 0.9652952 , 0.8188066 , 0.8188066 , 0.87958826,\n",
       "         0.87958826, 0.70123962, 0.70123962, 0.20347539, 0.20347539,\n",
       "         0.61637678, 0.61637678, 0.26199849, 0.26199849, 0.62199061,\n",
       "         0.62199061, 0.24054374, 0.24054374, 0.99638453, 0.99638453,\n",
       "         0.41067473, 0.41067473, 0.93038038, 0.93038038, 0.5215708 ,\n",
       "         0.5215708 , 0.05522879, 0.05522879, 0.83929987, 0.83929987,\n",
       "         0.80648759, 0.80648759, 0.861281  , 0.861281  , 0.69702444,\n",
       "         0.69702444, 0.87341639, 0.87341639, 0.80826448, 0.80826448,\n",
       "         0.32274485, 0.32274485, 0.73585472, 0.73585472, 0.6312086 ,\n",
       "         0.6312086 , 0.39235615, 0.39235615, 0.02866845, 0.02866845,\n",
       "         0.7277887 , 0.7277887 , 0.1988006 , 0.1988006 , 0.63039134,\n",
       "         0.63039134, 0.50143416, 0.50143416, 0.94994049, 0.94994049])}}"
      ]
     },
     "execution_count": 1,
     "metadata": {},
     "output_type": "execute_result"
    }
   ],
   "source": [
    "ds = load_by_id(run_id_n)\n",
    "ds.get_parameter_data('x1')"
   ]
  },
  {
   "cell_type": "markdown",
   "metadata": {},
   "source": [
    "And a dataset stored as binary arrays"
   ]
  },
  {
   "cell_type": "code",
   "execution_count": 12,
   "metadata": {
    "execution": {
     "iopub.execute_input": "2021-02-26T07:36:47.370234Z",
     "iopub.status.busy": "2021-02-26T07:36:47.369205Z",
     "iopub.status.idle": "2021-02-26T07:36:47.436413Z",
     "shell.execute_reply": "2021-02-26T07:36:47.436840Z"
    },
    "scrolled": true
   },
   "outputs": [
    {
     "data": {
      "text/plain": [
       "{'x1': {'x1': array([[0.11942136],\n",
       "         [0.11942136],\n",
       "         [0.31490852],\n",
       "         [0.31490852],\n",
       "         [0.06081593],\n",
       "         [0.06081593],\n",
       "         [0.58955189],\n",
       "         [0.58955189],\n",
       "         [0.70260151],\n",
       "         [0.70260151],\n",
       "         [0.17027839],\n",
       "         [0.17027839],\n",
       "         [0.19096513],\n",
       "         [0.19096513],\n",
       "         [0.28009637],\n",
       "         [0.28009637],\n",
       "         [0.82029549],\n",
       "         [0.82029549],\n",
       "         [0.27549826],\n",
       "         [0.27549826],\n",
       "         [0.78195339],\n",
       "         [0.78195339],\n",
       "         [0.15454216],\n",
       "         [0.15454216],\n",
       "         [0.5823054 ],\n",
       "         [0.5823054 ],\n",
       "         [0.15214188],\n",
       "         [0.15214188],\n",
       "         [0.80898235],\n",
       "         [0.80898235],\n",
       "         [0.94705303],\n",
       "         [0.94705303],\n",
       "         [0.62276325],\n",
       "         [0.62276325],\n",
       "         [0.09007553],\n",
       "         [0.09007553],\n",
       "         [0.36501096],\n",
       "         [0.36501096],\n",
       "         [0.2173205 ],\n",
       "         [0.2173205 ],\n",
       "         [0.58061485],\n",
       "         [0.58061485],\n",
       "         [0.31653656],\n",
       "         [0.31653656],\n",
       "         [0.62452841],\n",
       "         [0.62452841],\n",
       "         [0.67640727],\n",
       "         [0.67640727],\n",
       "         [0.38669429],\n",
       "         [0.38669429],\n",
       "         [0.76114798],\n",
       "         [0.76114798],\n",
       "         [0.92566696],\n",
       "         [0.92566696],\n",
       "         [0.20993223],\n",
       "         [0.20993223],\n",
       "         [0.31591199],\n",
       "         [0.31591199],\n",
       "         [0.59090412],\n",
       "         [0.59090412],\n",
       "         [0.37836884],\n",
       "         [0.37836884],\n",
       "         [0.11542798],\n",
       "         [0.11542798],\n",
       "         [0.67992765],\n",
       "         [0.67992765],\n",
       "         [0.03768367],\n",
       "         [0.03768367],\n",
       "         [0.91562292],\n",
       "         [0.91562292],\n",
       "         [0.48329271],\n",
       "         [0.48329271],\n",
       "         [0.73624226],\n",
       "         [0.73624226],\n",
       "         [0.63364424],\n",
       "         [0.63364424],\n",
       "         [0.20201148],\n",
       "         [0.20201148],\n",
       "         [0.89232898],\n",
       "         [0.89232898],\n",
       "         [0.0073912 ],\n",
       "         [0.0073912 ],\n",
       "         [0.13806441],\n",
       "         [0.13806441],\n",
       "         [0.75424448],\n",
       "         [0.75424448],\n",
       "         [0.74468472],\n",
       "         [0.74468472],\n",
       "         [0.99049616],\n",
       "         [0.99049616],\n",
       "         [0.43274409],\n",
       "         [0.43274409],\n",
       "         [0.33543488],\n",
       "         [0.33543488],\n",
       "         [0.99981193],\n",
       "         [0.99981193],\n",
       "         [0.85568375],\n",
       "         [0.85568375],\n",
       "         [0.93525475],\n",
       "         [0.93525475],\n",
       "         [0.66098209],\n",
       "         [0.66098209],\n",
       "         [0.32409735],\n",
       "         [0.32409735],\n",
       "         [0.4392098 ],\n",
       "         [0.4392098 ],\n",
       "         [0.95103558],\n",
       "         [0.95103558],\n",
       "         [0.21409416],\n",
       "         [0.21409416],\n",
       "         [0.00750214],\n",
       "         [0.00750214],\n",
       "         [0.27606275],\n",
       "         [0.27606275],\n",
       "         [0.03495866],\n",
       "         [0.03495866],\n",
       "         [0.10970438],\n",
       "         [0.10970438],\n",
       "         [0.86808788],\n",
       "         [0.86808788],\n",
       "         [0.59323451],\n",
       "         [0.59323451],\n",
       "         [0.17908076],\n",
       "         [0.17908076],\n",
       "         [0.32472927],\n",
       "         [0.32472927],\n",
       "         [0.39303846],\n",
       "         [0.39303846],\n",
       "         [0.60063509],\n",
       "         [0.60063509],\n",
       "         [0.93551607],\n",
       "         [0.93551607],\n",
       "         [0.96716037],\n",
       "         [0.96716037],\n",
       "         [0.83128971],\n",
       "         [0.83128971],\n",
       "         [0.10356751],\n",
       "         [0.10356751],\n",
       "         [0.62052305],\n",
       "         [0.62052305],\n",
       "         [0.87787457],\n",
       "         [0.87787457],\n",
       "         [0.12404849],\n",
       "         [0.12404849],\n",
       "         [0.96396619],\n",
       "         [0.96396619],\n",
       "         [0.76930752],\n",
       "         [0.76930752],\n",
       "         [0.47587427],\n",
       "         [0.47587427],\n",
       "         [0.45958128],\n",
       "         [0.45958128],\n",
       "         [0.34937911],\n",
       "         [0.34937911],\n",
       "         [0.0836025 ],\n",
       "         [0.0836025 ],\n",
       "         [0.4912011 ],\n",
       "         [0.4912011 ],\n",
       "         [0.72808393],\n",
       "         [0.72808393],\n",
       "         [0.90628543],\n",
       "         [0.90628543],\n",
       "         [0.80236029],\n",
       "         [0.80236029],\n",
       "         [0.44364827],\n",
       "         [0.44364827],\n",
       "         [0.84865834],\n",
       "         [0.84865834],\n",
       "         [0.60508619],\n",
       "         [0.60508619],\n",
       "         [0.30215171],\n",
       "         [0.30215171],\n",
       "         [0.37207466],\n",
       "         [0.37207466],\n",
       "         [0.32505699],\n",
       "         [0.32505699],\n",
       "         [0.43970252],\n",
       "         [0.43970252],\n",
       "         [0.45916739],\n",
       "         [0.45916739],\n",
       "         [0.3209843 ],\n",
       "         [0.3209843 ],\n",
       "         [0.19527644],\n",
       "         [0.19527644],\n",
       "         [0.93327763],\n",
       "         [0.93327763],\n",
       "         [0.76942221],\n",
       "         [0.76942221],\n",
       "         [0.81764166],\n",
       "         [0.81764166],\n",
       "         [0.65910222],\n",
       "         [0.65910222],\n",
       "         [0.94913785],\n",
       "         [0.94913785],\n",
       "         [0.45745649],\n",
       "         [0.45745649],\n",
       "         [0.07185167],\n",
       "         [0.07185167],\n",
       "         [0.60954793],\n",
       "         [0.60954793]])}}"
      ]
     },
     "execution_count": 1,
     "metadata": {},
     "output_type": "execute_result"
    }
   ],
   "source": [
    "ds = load_by_id(run_id_a)\n",
    "ds.get_parameter_data('x1')"
   ]
  },
  {
   "cell_type": "code",
   "execution_count": null,
   "metadata": {},
   "outputs": [],
   "source": []
  }
 ],
 "metadata": {
  "kernelspec": {
   "display_name": "Python 3",
   "language": "python",
   "name": "python3"
  },
  "language_info": {
   "codemirror_mode": {
    "name": "ipython",
    "version": 3
   },
   "file_extension": ".py",
   "mimetype": "text/x-python",
   "name": "python",
   "nbconvert_exporter": "python",
   "pygments_lexer": "ipython3",
   "version": "3.7.10"
  },
  "nbsphinx": {
   "timeout": 600
  },
  "toc": {
   "base_numbering": 1,
   "nav_menu": {},
   "number_sections": true,
   "sideBar": true,
   "skip_h1_title": false,
   "title_cell": "Table of Contents",
   "title_sidebar": "Contents",
   "toc_cell": false,
   "toc_position": {},
   "toc_section_display": true,
   "toc_window_display": false
  },
  "varInspector": {
   "cols": {
    "lenName": 16,
    "lenType": 16,
    "lenVar": 40
   },
   "kernels_config": {
    "python": {
     "delete_cmd_postfix": "",
     "delete_cmd_prefix": "del ",
     "library": "var_list.py",
     "varRefreshCmd": "print(var_dic_list())"
    },
    "r": {
     "delete_cmd_postfix": ") ",
     "delete_cmd_prefix": "rm(",
     "library": "var_list.r",
     "varRefreshCmd": "cat(var_dic_list()) "
    }
   },
   "types_to_exclude": [
    "module",
    "function",
    "builtin_function_or_method",
    "instance",
    "_Feature"
   ],
   "window_display": false
  }
 },
 "nbformat": 4,
 "nbformat_minor": 2
}
