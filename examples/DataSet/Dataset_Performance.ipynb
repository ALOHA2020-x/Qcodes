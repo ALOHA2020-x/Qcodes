{
 "cells": [
  {
   "cell_type": "markdown",
   "metadata": {},
   "source": [
    "# DataSet Performance\n",
    "\n",
    "This notebook shows the trade-off between inserting data into a database row-by-row and as binary blobs. Inserting the data row-by-row means that we have direct access to all the data and may perform queries directly on the values of the data. On the other hand, as we shall see, this is much slower than inserting the data directly as binary blobs."
   ]
  },
  {
   "cell_type": "markdown",
   "metadata": {},
   "source": [
    "First, we choose a new location for the database to ensure that we don't add a bunch of benchmarking data to the default one."
   ]
  },
  {
   "cell_type": "code",
   "execution_count": 1,
   "metadata": {
    "execution": {
     "iopub.execute_input": "2020-10-30T17:52:41.204656Z",
     "iopub.status.busy": "2020-10-30T17:52:41.204030Z",
     "iopub.status.idle": "2020-10-30T17:52:42.322337Z",
     "shell.execute_reply": "2020-10-30T17:52:42.321724Z"
    }
   },
   "outputs": [
    {
     "name": "stdout",
     "output_type": "stream",
     "text": [
      "Logging hadn't been started.\n",
      "Activating auto-logging. Current session state plus future input saved.\n",
      "Filename       : /home/vsts/.qcodes/logs/command_history.log\n",
      "Mode           : append\n",
      "Output logging : True\n",
      "Raw input log  : False\n",
      "Timestamping   : True\n",
      "State          : active\n"
     ]
    },
    {
     "name": "stdout",
     "output_type": "stream",
     "text": [
      "Qcodes Logfile : /home/vsts/.qcodes/logs/201030-14573-qcodes.log\n"
     ]
    }
   ],
   "source": [
    "import os\n",
    "cwd = os.getcwd()\n",
    "import qcodes as qc\n",
    "qc.config[\"core\"][\"db_location\"] = os.path.join(cwd, 'testing.db')\n"
   ]
  },
  {
   "cell_type": "code",
   "execution_count": 2,
   "metadata": {
    "execution": {
     "iopub.execute_input": "2020-10-30T17:52:42.328991Z",
     "iopub.status.busy": "2020-10-30T17:52:42.328374Z",
     "iopub.status.idle": "2020-10-30T17:52:42.536869Z",
     "shell.execute_reply": "2020-10-30T17:52:42.535955Z"
    }
   },
   "outputs": [],
   "source": [
    "%matplotlib inline\n",
    "import time\n",
    "import matplotlib.pyplot as plt\n",
    "import numpy as np\n",
    "\n",
    "import qcodes as qc\n",
    "from qcodes.instrument.parameter import ManualParameter\n",
    "from qcodes.dataset.experiment_container import (Experiment,\n",
    "                                                 load_last_experiment,\n",
    "                                                 new_experiment)\n",
    "from qcodes.dataset.sqlite.database import initialise_database\n",
    "from qcodes import load_or_create_experiment\n",
    "from qcodes.dataset.measurements import Measurement"
   ]
  },
  {
   "cell_type": "code",
   "execution_count": 3,
   "metadata": {
    "execution": {
     "iopub.execute_input": "2020-10-30T17:52:42.541359Z",
     "iopub.status.busy": "2020-10-30T17:52:42.540656Z",
     "iopub.status.idle": "2020-10-30T17:52:42.679354Z",
     "shell.execute_reply": "2020-10-30T17:52:42.679999Z"
    }
   },
   "outputs": [
    {
     "name": "stdout",
     "output_type": "stream",
     "text": [
      "\r",
      "0it [00:00, ?it/s]"
     ]
    },
    {
     "name": "stdout",
     "output_type": "stream",
     "text": [
      "\r",
      "Upgrading database; v0 -> v1: : 0it [00:00, ?it/s]"
     ]
    },
    {
     "name": "stdout",
     "output_type": "stream",
     "text": [
      "\r",
      "Upgrading database; v0 -> v1: : 0it [00:00, ?it/s]"
     ]
    },
    {
     "name": "stdout",
     "output_type": "stream",
     "text": [
      "\n",
      "\r",
      "  0%|          | 0/1 [00:00<?, ?it/s]"
     ]
    },
    {
     "name": "stdout",
     "output_type": "stream",
     "text": [
      "\r",
      "Upgrading database; v1 -> v2:   0%|          | 0/1 [00:00<?, ?it/s]"
     ]
    },
    {
     "name": "stdout",
     "output_type": "stream",
     "text": [
      "\r",
      "Upgrading database; v1 -> v2: 100%|██████████| 1/1 [00:00<00:00, 528.65it/s]"
     ]
    },
    {
     "name": "stdout",
     "output_type": "stream",
     "text": [
      "\n",
      "\r",
      "0it [00:00, ?it/s]"
     ]
    },
    {
     "name": "stdout",
     "output_type": "stream",
     "text": [
      "\r",
      "Upgrading database; v2 -> v3: : 0it [00:00, ?it/s]"
     ]
    },
    {
     "name": "stdout",
     "output_type": "stream",
     "text": [
      "\r",
      "Upgrading database; v2 -> v3: : 0it [00:00, ?it/s]"
     ]
    },
    {
     "name": "stdout",
     "output_type": "stream",
     "text": [
      "\n",
      "\r",
      "0it [00:00, ?it/s]"
     ]
    },
    {
     "name": "stdout",
     "output_type": "stream",
     "text": [
      "\r",
      "Upgrading database; v3 -> v4: : 0it [00:00, ?it/s]"
     ]
    },
    {
     "name": "stdout",
     "output_type": "stream",
     "text": [
      "\r",
      "Upgrading database; v3 -> v4: : 0it [00:00, ?it/s]"
     ]
    },
    {
     "name": "stdout",
     "output_type": "stream",
     "text": [
      "\n",
      "\r",
      "  0%|          | 0/1 [00:00<?, ?it/s]"
     ]
    },
    {
     "name": "stdout",
     "output_type": "stream",
     "text": [
      "\r",
      "Upgrading database; v4 -> v5:   0%|          | 0/1 [00:00<?, ?it/s]"
     ]
    },
    {
     "name": "stdout",
     "output_type": "stream",
     "text": [
      "\r",
      "Upgrading database; v4 -> v5: 100%|██████████| 1/1 [00:00<00:00, 398.21it/s]"
     ]
    },
    {
     "name": "stdout",
     "output_type": "stream",
     "text": [
      "\n",
      "\r",
      "0it [00:00, ?it/s]"
     ]
    },
    {
     "name": "stdout",
     "output_type": "stream",
     "text": [
      "\r",
      "Upgrading database; v5 -> v6: : 0it [00:00, ?it/s]"
     ]
    },
    {
     "name": "stdout",
     "output_type": "stream",
     "text": [
      "\r",
      "Upgrading database; v5 -> v6: : 0it [00:00, ?it/s]"
     ]
    },
    {
     "name": "stdout",
     "output_type": "stream",
     "text": [
      "\n",
      "\r",
      "  0%|          | 0/1 [00:00<?, ?it/s]"
     ]
    },
    {
     "name": "stdout",
     "output_type": "stream",
     "text": [
      "\r",
      "Upgrading database; v6 -> v7:   0%|          | 0/1 [00:00<?, ?it/s]"
     ]
    },
    {
     "name": "stdout",
     "output_type": "stream",
     "text": [
      "\r",
      "Upgrading database; v6 -> v7: 100%|██████████| 1/1 [00:00<00:00, 184.16it/s]"
     ]
    },
    {
     "name": "stdout",
     "output_type": "stream",
     "text": [
      "\n",
      "\r",
      "  0%|          | 0/1 [00:00<?, ?it/s]"
     ]
    },
    {
     "name": "stdout",
     "output_type": "stream",
     "text": [
      "\r",
      "Upgrading database; v7 -> v8:   0%|          | 0/1 [00:00<?, ?it/s]"
     ]
    },
    {
     "name": "stdout",
     "output_type": "stream",
     "text": [
      "\r",
      "Upgrading database; v7 -> v8: 100%|██████████| 1/1 [00:00<00:00, 401.14it/s]"
     ]
    },
    {
     "name": "stdout",
     "output_type": "stream",
     "text": [
      "\n",
      "\r",
      "  0%|          | 0/1 [00:00<?, ?it/s]"
     ]
    },
    {
     "name": "stdout",
     "output_type": "stream",
     "text": [
      "\r",
      "Upgrading database; v8 -> v9:   0%|          | 0/1 [00:00<?, ?it/s]"
     ]
    },
    {
     "name": "stdout",
     "output_type": "stream",
     "text": [
      "\r",
      "Upgrading database; v8 -> v9: 100%|██████████| 1/1 [00:00<00:00, 401.68it/s]"
     ]
    },
    {
     "name": "stdout",
     "output_type": "stream",
     "text": [
      "\n"
     ]
    }
   ],
   "source": [
    "initialise_database()\n",
    "exp = load_or_create_experiment(experiment_name='tutorial_exp', sample_name=\"no sample\")"
   ]
  },
  {
   "cell_type": "markdown",
   "metadata": {},
   "source": [
    "Here, we define a simple function to benchmark the time it takes to insert n points with either numeric or array data type.\n",
    "We will compare both the time used to call ``add_result`` and the time used for the full measurement."
   ]
  },
  {
   "cell_type": "code",
   "execution_count": 4,
   "metadata": {
    "execution": {
     "iopub.execute_input": "2020-10-30T17:52:42.688407Z",
     "iopub.status.busy": "2020-10-30T17:52:42.687049Z",
     "iopub.status.idle": "2020-10-30T17:52:42.691433Z",
     "shell.execute_reply": "2020-10-30T17:52:42.690650Z"
    }
   },
   "outputs": [],
   "source": [
    "def insert_data(paramtype, npoints, nreps=1):\n",
    "\n",
    "    meas = Measurement(exp=exp)\n",
    "\n",
    "    x1 = ManualParameter('x1')\n",
    "    x2 = ManualParameter('x2')\n",
    "    x3 = ManualParameter('x3')\n",
    "    y1 = ManualParameter('y1')\n",
    "    y2 = ManualParameter('y2')\n",
    "\n",
    "    meas.register_parameter(x1, paramtype=paramtype)\n",
    "    meas.register_parameter(x2, paramtype=paramtype)\n",
    "    meas.register_parameter(x3, paramtype=paramtype)\n",
    "    meas.register_parameter(y1, setpoints=[x1, x2, x3],\n",
    "                            paramtype=paramtype)\n",
    "    meas.register_parameter(y2, setpoints=[x1, x2, x3],\n",
    "                            paramtype=paramtype)\n",
    "    start = time.perf_counter()\n",
    "    with meas.run() as datasaver:\n",
    "        start_adding = time.perf_counter()\n",
    "        for i in range(nreps):\n",
    "            datasaver.add_result((x1, np.random.rand(npoints)),\n",
    "                                 (x2, np.random.rand(npoints)),\n",
    "                                 (x3, np.random.rand(npoints)),\n",
    "                                 (y1, np.random.rand(npoints)),\n",
    "                                 (y2, np.random.rand(npoints)))\n",
    "        stop_adding = time.perf_counter()\n",
    "        run_id = datasaver.run_id\n",
    "    stop = time.perf_counter()\n",
    "    tot_time = stop - start\n",
    "    add_time = stop_adding - start_adding\n",
    "    return tot_time, add_time, run_id"
   ]
  },
  {
   "cell_type": "markdown",
   "metadata": {},
   "source": [
    "## Comparison between numeric/array data and binary blob"
   ]
  },
  {
   "cell_type": "markdown",
   "metadata": {},
   "source": [
    "### Case1: Short experiment time"
   ]
  },
  {
   "cell_type": "code",
   "execution_count": 5,
   "metadata": {
    "execution": {
     "iopub.execute_input": "2020-10-30T17:52:42.698311Z",
     "iopub.status.busy": "2020-10-30T17:52:42.697668Z",
     "iopub.status.idle": "2020-10-30T17:52:43.619001Z",
     "shell.execute_reply": "2020-10-30T17:52:43.618391Z"
    }
   },
   "outputs": [
    {
     "name": "stdout",
     "output_type": "stream",
     "text": [
      "Starting experimental run with id: 1. \n",
      "Starting experimental run with id: 2. \n",
      "Starting experimental run with id: 3. \n"
     ]
    },
    {
     "name": "stdout",
     "output_type": "stream",
     "text": [
      "Starting experimental run with id: 4. \n"
     ]
    },
    {
     "name": "stdout",
     "output_type": "stream",
     "text": [
      "Starting experimental run with id: 5. "
     ]
    },
    {
     "name": "stdout",
     "output_type": "stream",
     "text": [
      "\n"
     ]
    },
    {
     "name": "stdout",
     "output_type": "stream",
     "text": [
      "Starting experimental run with id: 6. \n",
      "Starting experimental run with id: 7. \n"
     ]
    },
    {
     "name": "stdout",
     "output_type": "stream",
     "text": [
      "Starting experimental run with id: 8. \n"
     ]
    },
    {
     "name": "stdout",
     "output_type": "stream",
     "text": [
      "Starting experimental run with id: 9. \n"
     ]
    },
    {
     "name": "stdout",
     "output_type": "stream",
     "text": [
      "Starting experimental run with id: 10. \n",
      "Starting experimental run with id: 11. \n"
     ]
    },
    {
     "name": "stdout",
     "output_type": "stream",
     "text": [
      "Starting experimental run with id: 12. \n"
     ]
    },
    {
     "name": "stdout",
     "output_type": "stream",
     "text": [
      "Starting experimental run with id: 13. \n"
     ]
    },
    {
     "name": "stdout",
     "output_type": "stream",
     "text": [
      "Starting experimental run with id: 14. \n"
     ]
    }
   ],
   "source": [
    "sizes = [1,500,1000,2000,3000,4000,5000]\n",
    "t_numeric = []\n",
    "t_numeric_add = []\n",
    "t_array = []\n",
    "t_array_add = []\n",
    "for size in sizes:\n",
    "    tn, tna, run_id_n =  insert_data('numeric', size)\n",
    "    t_numeric.append(tn)\n",
    "    t_numeric_add.append(tna)\n",
    "\n",
    "    ta, taa, run_id_a =  insert_data('array', size)\n",
    "    t_array.append(ta)\n",
    "    t_array_add.append(taa)"
   ]
  },
  {
   "cell_type": "code",
   "execution_count": 6,
   "metadata": {
    "execution": {
     "iopub.execute_input": "2020-10-30T17:52:43.638948Z",
     "iopub.status.busy": "2020-10-30T17:52:43.638315Z",
     "iopub.status.idle": "2020-10-30T17:52:43.850439Z",
     "shell.execute_reply": "2020-10-30T17:52:43.849865Z"
    }
   },
   "outputs": [
    {
     "data": {
      "image/png": "[encoded data removed]",
      "text/plain": [
       "<Figure size 432x288 with 1 Axes>"
      ]
     },
     "metadata": {
      "needs_background": "light"
     },
     "output_type": "display_data"
    }
   ],
   "source": [
    "fig, ax = plt.subplots(1,1)\n",
    "ax.plot(sizes, t_numeric, 'o-', label='Inserting row-by-row')\n",
    "ax.plot(sizes, t_numeric_add, 'o-', label='Inserting row-by-row: add_result only')\n",
    "ax.plot(sizes, t_array, 'd-', label='Inserting as binary blob')\n",
    "ax.plot(sizes, t_array_add, 'd-', label='Inserting as binary blob: add_result only')\n",
    "ax.legend()\n",
    "ax.set_xlabel('Array length')\n",
    "ax.set_ylabel('Time (s)')\n",
    "fig.tight_layout()"
   ]
  },
  {
   "cell_type": "markdown",
   "metadata": {},
   "source": [
    "As shown in the latter figure, the time to setup and and close the experiment is approximately 0.4 sec. In case of small array sizes, the difference between inserting values of data as arrays and inserting them row-by-row is relatively unimportant. At larger array sizes, i.e. above 10000 points, the cost of writing data as individual datapoints starts to become important.\n"
   ]
  },
  {
   "cell_type": "markdown",
   "metadata": {},
   "source": [
    "### Case2: Long experiment time "
   ]
  },
  {
   "cell_type": "code",
   "execution_count": 7,
   "metadata": {
    "execution": {
     "iopub.execute_input": "2020-10-30T17:52:43.858811Z",
     "iopub.status.busy": "2020-10-30T17:52:43.857139Z",
     "iopub.status.idle": "2020-10-30T17:53:44.792349Z",
     "shell.execute_reply": "2020-10-30T17:53:44.792781Z"
    }
   },
   "outputs": [
    {
     "name": "stdout",
     "output_type": "stream",
     "text": [
      "Starting experimental run with id: 15. \n",
      "Starting experimental run with id: 16. \n",
      "Starting experimental run with id: 17. \n"
     ]
    },
    {
     "name": "stdout",
     "output_type": "stream",
     "text": [
      "Starting experimental run with id: 18. \n",
      "Starting experimental run with id: 19. \n"
     ]
    },
    {
     "name": "stdout",
     "output_type": "stream",
     "text": [
      "Starting experimental run with id: 20. \n"
     ]
    },
    {
     "name": "stdout",
     "output_type": "stream",
     "text": [
      "Starting experimental run with id: 21. \n"
     ]
    },
    {
     "name": "stdout",
     "output_type": "stream",
     "text": [
      "Starting experimental run with id: 22. \n"
     ]
    },
    {
     "name": "stdout",
     "output_type": "stream",
     "text": [
      "Starting experimental run with id: 23. \n"
     ]
    },
    {
     "name": "stdout",
     "output_type": "stream",
     "text": [
      "Starting experimental run with id: 24. \n"
     ]
    },
    {
     "name": "stdout",
     "output_type": "stream",
     "text": [
      "Starting experimental run with id: 25. \n"
     ]
    },
    {
     "name": "stdout",
     "output_type": "stream",
     "text": [
      "Starting experimental run with id: 26. \n"
     ]
    },
    {
     "name": "stdout",
     "output_type": "stream",
     "text": [
      "Starting experimental run with id: 27. \n"
     ]
    },
    {
     "name": "stdout",
     "output_type": "stream",
     "text": [
      "Starting experimental run with id: 28. \n"
     ]
    }
   ],
   "source": [
    "sizes = [1,500,1000,2000,3000,4000,5000]\n",
    "nreps = 100\n",
    "t_numeric = []\n",
    "t_numeric_add = []\n",
    "t_numeric_run_ids = []\n",
    "t_array = []\n",
    "t_array_add = []\n",
    "t_array_run_ids = []\n",
    "for size in sizes:\n",
    "    tn, tna, run_id_n =  insert_data('numeric', size, nreps=nreps)\n",
    "    t_numeric.append(tn)\n",
    "    t_numeric_add.append(tna)\n",
    "    t_numeric_run_ids.append(run_id_n)\n",
    "\n",
    "    ta, taa, run_id_a =  insert_data('array', size, nreps=nreps)\n",
    "    t_array.append(ta)\n",
    "    t_array_add.append(taa)\n",
    "    t_array_run_ids.append(run_id_a)"
   ]
  },
  {
   "cell_type": "code",
   "execution_count": 8,
   "metadata": {
    "execution": {
     "iopub.execute_input": "2020-10-30T17:53:44.818984Z",
     "iopub.status.busy": "2020-10-30T17:53:44.811999Z",
     "iopub.status.idle": "2020-10-30T17:53:45.018530Z",
     "shell.execute_reply": "2020-10-30T17:53:45.019163Z"
    },
    "scrolled": true
   },
   "outputs": [
    {
     "data": {
      "image/png": "[encoded data removed]",
      "text/plain": [
       "<Figure size 432x288 with 1 Axes>"
      ]
     },
     "metadata": {
      "needs_background": "light"
     },
     "output_type": "display_data"
    }
   ],
   "source": [
    "fig, ax = plt.subplots(1,1)\n",
    "ax.plot(sizes, t_numeric, 'o-', label='Inserting row-by-row')\n",
    "ax.plot(sizes, t_numeric_add, 'o-', label='Inserting row-by-row: add_result only')\n",
    "ax.plot(sizes, t_array, 'd-', label='Inserting as binary blob')\n",
    "ax.plot(sizes, t_array_add, 'd-', label='Inserting as binary blob: add_result only')\n",
    "ax.legend()\n",
    "ax.set_xlabel('Array length')\n",
    "ax.set_ylabel('Time (s)')\n",
    "fig.tight_layout()"
   ]
  },
  {
   "cell_type": "markdown",
   "metadata": {},
   "source": [
    "However, as we increase the length of the experiment, as seen here by repeating the insertion 100 times, we see a big difference between inserting values of the data row-by-row and inserting it as a binary blob."
   ]
  },
  {
   "cell_type": "markdown",
   "metadata": {},
   "source": [
    "## Loading the data "
   ]
  },
  {
   "cell_type": "code",
   "execution_count": 9,
   "metadata": {
    "execution": {
     "iopub.execute_input": "2020-10-30T17:53:45.023960Z",
     "iopub.status.busy": "2020-10-30T17:53:45.023084Z",
     "iopub.status.idle": "2020-10-30T17:53:45.026274Z",
     "shell.execute_reply": "2020-10-30T17:53:45.025756Z"
    }
   },
   "outputs": [],
   "source": [
    "from qcodes.dataset.data_set import load_by_id\n",
    "from qcodes.dataset.data_export import get_data_by_id"
   ]
  },
  {
   "cell_type": "markdown",
   "metadata": {},
   "source": [
    "As usual you can load the data by using the ``load_by_id`` function but you will notice that the different storage methods\n",
    "are reflected in shape of the data as it is retrieved. "
   ]
  },
  {
   "cell_type": "code",
   "execution_count": 10,
   "metadata": {
    "execution": {
     "iopub.execute_input": "2020-10-30T17:53:45.031089Z",
     "iopub.status.busy": "2020-10-30T17:53:45.029680Z",
     "iopub.status.idle": "2020-10-30T17:53:45.031750Z",
     "shell.execute_reply": "2020-10-30T17:53:45.032285Z"
    }
   },
   "outputs": [],
   "source": [
    "run_id_n = t_numeric_run_ids[0]\n",
    "run_id_a = t_array_run_ids[0]"
   ]
  },
  {
   "cell_type": "code",
   "execution_count": 11,
   "metadata": {
    "execution": {
     "iopub.execute_input": "2020-10-30T17:53:45.035785Z",
     "iopub.status.busy": "2020-10-30T17:53:45.035180Z",
     "iopub.status.idle": "2020-10-30T17:53:45.045335Z",
     "shell.execute_reply": "2020-10-30T17:53:45.044801Z"
    },
    "scrolled": true
   },
   "outputs": [
    {
     "data": {
      "text/plain": [
       "{'x1': {'x1': array([9.15734615e-01, 9.15734615e-01, 1.69920068e-02, 1.69920068e-02,\n",
       "         2.51605713e-01, 2.51605713e-01, 8.00152722e-01, 8.00152722e-01,\n",
       "         5.64973950e-01, 5.64973950e-01, 5.83309926e-01, 5.83309926e-01,\n",
       "         1.22958245e-01, 1.22958245e-01, 9.97604642e-01, 9.97604642e-01,\n",
       "         1.42836489e-01, 1.42836489e-01, 9.65255115e-02, 9.65255115e-02,\n",
       "         1.83385279e-01, 1.83385279e-01, 6.29531874e-01, 6.29531874e-01,\n",
       "         3.19410146e-02, 3.19410146e-02, 9.01170853e-01, 9.01170853e-01,\n",
       "         9.72205908e-01, 9.72205908e-01, 7.28573575e-01, 7.28573575e-01,\n",
       "         8.86373924e-01, 8.86373924e-01, 1.23065835e-01, 1.23065835e-01,\n",
       "         9.09232890e-02, 9.09232890e-02, 2.21421985e-01, 2.21421985e-01,\n",
       "         2.56927727e-01, 2.56927727e-01, 9.36727766e-01, 9.36727766e-01,\n",
       "         5.78776263e-02, 5.78776263e-02, 3.66917922e-01, 3.66917922e-01,\n",
       "         6.21950610e-01, 6.21950610e-01, 1.58643126e-01, 1.58643126e-01,\n",
       "         2.22808484e-01, 2.22808484e-01, 4.28661188e-01, 4.28661188e-01,\n",
       "         1.89321823e-01, 1.89321823e-01, 7.88933558e-01, 7.88933558e-01,\n",
       "         5.55801449e-01, 5.55801449e-01, 7.96372218e-01, 7.96372218e-01,\n",
       "         2.29364420e-01, 2.29364420e-01, 3.76172215e-02, 3.76172215e-02,\n",
       "         9.53091577e-01, 9.53091577e-01, 5.15033497e-01, 5.15033497e-01,\n",
       "         2.11291080e-02, 2.11291080e-02, 7.91416122e-01, 7.91416122e-01,\n",
       "         8.24216737e-01, 8.24216737e-01, 7.75476495e-01, 7.75476495e-01,\n",
       "         3.12227643e-01, 3.12227643e-01, 7.16371587e-01, 7.16371587e-01,\n",
       "         5.88912940e-01, 5.88912940e-01, 7.53855706e-01, 7.53855706e-01,\n",
       "         8.21824831e-01, 8.21824831e-01, 5.14146358e-01, 5.14146358e-01,\n",
       "         8.27755592e-02, 8.27755592e-02, 1.93446321e-01, 1.93446321e-01,\n",
       "         4.61804051e-01, 4.61804051e-01, 2.23228787e-01, 2.23228787e-01,\n",
       "         7.27229008e-01, 7.27229008e-01, 2.46373393e-01, 2.46373393e-01,\n",
       "         8.32774692e-01, 8.32774692e-01, 9.34587516e-01, 9.34587516e-01,\n",
       "         3.96066925e-01, 3.96066925e-01, 7.89691804e-04, 7.89691804e-04,\n",
       "         2.54212679e-01, 2.54212679e-01, 6.93498196e-01, 6.93498196e-01,\n",
       "         1.64011115e-01, 1.64011115e-01, 5.45190972e-01, 5.45190972e-01,\n",
       "         1.82864782e-01, 1.82864782e-01, 7.46108843e-01, 7.46108843e-01,\n",
       "         1.58557023e-01, 1.58557023e-01, 7.54950566e-01, 7.54950566e-01,\n",
       "         1.03672072e-01, 1.03672072e-01, 7.02587836e-01, 7.02587836e-01,\n",
       "         5.31049070e-01, 5.31049070e-01, 6.20578609e-01, 6.20578609e-01,\n",
       "         9.41818690e-01, 9.41818690e-01, 9.51143376e-01, 9.51143376e-01,\n",
       "         1.93857901e-01, 1.93857901e-01, 9.72485469e-01, 9.72485469e-01,\n",
       "         1.96252727e-01, 1.96252727e-01, 5.54599143e-02, 5.54599143e-02,\n",
       "         3.27221756e-02, 3.27221756e-02, 9.97131124e-01, 9.97131124e-01,\n",
       "         1.84124210e-01, 1.84124210e-01, 5.98935513e-01, 5.98935513e-01,\n",
       "         3.73643468e-01, 3.73643468e-01, 8.21541627e-01, 8.21541627e-01,\n",
       "         8.59008017e-01, 8.59008017e-01, 3.09002133e-01, 3.09002133e-01,\n",
       "         5.87572946e-01, 5.87572946e-01, 4.27478243e-01, 4.27478243e-01,\n",
       "         5.91023036e-02, 5.91023036e-02, 9.16088947e-01, 9.16088947e-01,\n",
       "         5.98392866e-01, 5.98392866e-01, 2.15797063e-02, 2.15797063e-02,\n",
       "         1.22874762e-01, 1.22874762e-01, 7.76634289e-01, 7.76634289e-01,\n",
       "         7.09176774e-01, 7.09176774e-01, 3.30258885e-01, 3.30258885e-01,\n",
       "         3.28779490e-01, 3.28779490e-01, 8.10208025e-02, 8.10208025e-02,\n",
       "         8.14174257e-02, 8.14174257e-02, 1.99965437e-01, 1.99965437e-01,\n",
       "         8.46729387e-01, 8.46729387e-01, 5.54200348e-01, 5.54200348e-01,\n",
       "         7.10496067e-01, 7.10496067e-01, 4.31102185e-02, 4.31102185e-02])}}"
      ]
     },
     "execution_count": 1,
     "metadata": {},
     "output_type": "execute_result"
    }
   ],
   "source": [
    "ds = load_by_id(run_id_n)\n",
    "ds.get_parameter_data('x1')"
   ]
  },
  {
   "cell_type": "markdown",
   "metadata": {},
   "source": [
    "And a dataset stored as binary arrays"
   ]
  },
  {
   "cell_type": "code",
   "execution_count": 12,
   "metadata": {
    "execution": {
     "iopub.execute_input": "2020-10-30T17:53:45.048871Z",
     "iopub.status.busy": "2020-10-30T17:53:45.048261Z",
     "iopub.status.idle": "2020-10-30T17:53:45.112282Z",
     "shell.execute_reply": "2020-10-30T17:53:45.113007Z"
    },
    "scrolled": true
   },
   "outputs": [
    {
     "data": {
      "text/plain": [
       "{'x1': {'x1': array([[0.00730132],\n",
       "         [0.00730132],\n",
       "         [0.62153722],\n",
       "         [0.62153722],\n",
       "         [0.74851859],\n",
       "         [0.74851859],\n",
       "         [0.64325898],\n",
       "         [0.64325898],\n",
       "         [0.59993243],\n",
       "         [0.59993243],\n",
       "         [0.05813497],\n",
       "         [0.05813497],\n",
       "         [0.20597377],\n",
       "         [0.20597377],\n",
       "         [0.37286266],\n",
       "         [0.37286266],\n",
       "         [0.48021798],\n",
       "         [0.48021798],\n",
       "         [0.06983266],\n",
       "         [0.06983266],\n",
       "         [0.1412529 ],\n",
       "         [0.1412529 ],\n",
       "         [0.19656923],\n",
       "         [0.19656923],\n",
       "         [0.38465969],\n",
       "         [0.38465969],\n",
       "         [0.11137101],\n",
       "         [0.11137101],\n",
       "         [0.68653971],\n",
       "         [0.68653971],\n",
       "         [0.06022448],\n",
       "         [0.06022448],\n",
       "         [0.18656841],\n",
       "         [0.18656841],\n",
       "         [0.2771507 ],\n",
       "         [0.2771507 ],\n",
       "         [0.21323248],\n",
       "         [0.21323248],\n",
       "         [0.72943473],\n",
       "         [0.72943473],\n",
       "         [0.78577437],\n",
       "         [0.78577437],\n",
       "         [0.09194596],\n",
       "         [0.09194596],\n",
       "         [0.31840499],\n",
       "         [0.31840499],\n",
       "         [0.52685065],\n",
       "         [0.52685065],\n",
       "         [0.78233625],\n",
       "         [0.78233625],\n",
       "         [0.1524801 ],\n",
       "         [0.1524801 ],\n",
       "         [0.36156713],\n",
       "         [0.36156713],\n",
       "         [0.6427097 ],\n",
       "         [0.6427097 ],\n",
       "         [0.87734403],\n",
       "         [0.87734403],\n",
       "         [0.36665801],\n",
       "         [0.36665801],\n",
       "         [0.42299471],\n",
       "         [0.42299471],\n",
       "         [0.54155086],\n",
       "         [0.54155086],\n",
       "         [0.12872595],\n",
       "         [0.12872595],\n",
       "         [0.87904753],\n",
       "         [0.87904753],\n",
       "         [0.68036163],\n",
       "         [0.68036163],\n",
       "         [0.4099564 ],\n",
       "         [0.4099564 ],\n",
       "         [0.15621859],\n",
       "         [0.15621859],\n",
       "         [0.88125414],\n",
       "         [0.88125414],\n",
       "         [0.51501269],\n",
       "         [0.51501269],\n",
       "         [0.21453312],\n",
       "         [0.21453312],\n",
       "         [0.16131508],\n",
       "         [0.16131508],\n",
       "         [0.77366967],\n",
       "         [0.77366967],\n",
       "         [0.55232716],\n",
       "         [0.55232716],\n",
       "         [0.61541068],\n",
       "         [0.61541068],\n",
       "         [0.79961215],\n",
       "         [0.79961215],\n",
       "         [0.57835653],\n",
       "         [0.57835653],\n",
       "         [0.21851714],\n",
       "         [0.21851714],\n",
       "         [0.20699292],\n",
       "         [0.20699292],\n",
       "         [0.31523053],\n",
       "         [0.31523053],\n",
       "         [0.47909839],\n",
       "         [0.47909839],\n",
       "         [0.87875571],\n",
       "         [0.87875571],\n",
       "         [0.15105539],\n",
       "         [0.15105539],\n",
       "         [0.11466623],\n",
       "         [0.11466623],\n",
       "         [0.60852876],\n",
       "         [0.60852876],\n",
       "         [0.80728665],\n",
       "         [0.80728665],\n",
       "         [0.17744909],\n",
       "         [0.17744909],\n",
       "         [0.33811812],\n",
       "         [0.33811812],\n",
       "         [0.93782961],\n",
       "         [0.93782961],\n",
       "         [0.3945978 ],\n",
       "         [0.3945978 ],\n",
       "         [0.08455536],\n",
       "         [0.08455536],\n",
       "         [0.20795012],\n",
       "         [0.20795012],\n",
       "         [0.81342301],\n",
       "         [0.81342301],\n",
       "         [0.49412598],\n",
       "         [0.49412598],\n",
       "         [0.29924229],\n",
       "         [0.29924229],\n",
       "         [0.45789203],\n",
       "         [0.45789203],\n",
       "         [0.21322061],\n",
       "         [0.21322061],\n",
       "         [0.82473437],\n",
       "         [0.82473437],\n",
       "         [0.01032751],\n",
       "         [0.01032751],\n",
       "         [0.0276691 ],\n",
       "         [0.0276691 ],\n",
       "         [0.53729664],\n",
       "         [0.53729664],\n",
       "         [0.65044154],\n",
       "         [0.65044154],\n",
       "         [0.07054013],\n",
       "         [0.07054013],\n",
       "         [0.51982955],\n",
       "         [0.51982955],\n",
       "         [0.14440453],\n",
       "         [0.14440453],\n",
       "         [0.99015744],\n",
       "         [0.99015744],\n",
       "         [0.87777782],\n",
       "         [0.87777782],\n",
       "         [0.06757019],\n",
       "         [0.06757019],\n",
       "         [0.64296578],\n",
       "         [0.64296578],\n",
       "         [0.33125995],\n",
       "         [0.33125995],\n",
       "         [0.44859987],\n",
       "         [0.44859987],\n",
       "         [0.69903971],\n",
       "         [0.69903971],\n",
       "         [0.88157888],\n",
       "         [0.88157888],\n",
       "         [0.8560477 ],\n",
       "         [0.8560477 ],\n",
       "         [0.91100673],\n",
       "         [0.91100673],\n",
       "         [0.17274524],\n",
       "         [0.17274524],\n",
       "         [0.93678158],\n",
       "         [0.93678158],\n",
       "         [0.88252054],\n",
       "         [0.88252054],\n",
       "         [0.27337138],\n",
       "         [0.27337138],\n",
       "         [0.92047994],\n",
       "         [0.92047994],\n",
       "         [0.7003813 ],\n",
       "         [0.7003813 ],\n",
       "         [0.97033264],\n",
       "         [0.97033264],\n",
       "         [0.88086454],\n",
       "         [0.88086454],\n",
       "         [0.69566772],\n",
       "         [0.69566772],\n",
       "         [0.43897074],\n",
       "         [0.43897074],\n",
       "         [0.60503039],\n",
       "         [0.60503039],\n",
       "         [0.785489  ],\n",
       "         [0.785489  ],\n",
       "         [0.57896467],\n",
       "         [0.57896467],\n",
       "         [0.01266101],\n",
       "         [0.01266101],\n",
       "         [0.69064004],\n",
       "         [0.69064004],\n",
       "         [0.03271833],\n",
       "         [0.03271833]])}}"
      ]
     },
     "execution_count": 1,
     "metadata": {},
     "output_type": "execute_result"
    }
   ],
   "source": [
    "ds = load_by_id(run_id_a)\n",
    "ds.get_parameter_data('x1')"
   ]
  },
  {
   "cell_type": "code",
   "execution_count": null,
   "metadata": {},
   "outputs": [],
   "source": []
  }
 ],
 "metadata": {
  "kernelspec": {
   "display_name": "Python 3",
   "language": "python",
   "name": "python3"
  },
  "language_info": {
   "codemirror_mode": {
    "name": "ipython",
    "version": 3
   },
   "file_extension": ".py",
   "mimetype": "text/x-python",
   "name": "python",
   "nbconvert_exporter": "python",
   "pygments_lexer": "ipython3",
   "version": "3.7.9"
  },
  "nbsphinx": {
   "timeout": 600
  },
  "toc": {
   "base_numbering": 1,
   "nav_menu": {},
   "number_sections": true,
   "sideBar": true,
   "skip_h1_title": false,
   "title_cell": "Table of Contents",
   "title_sidebar": "Contents",
   "toc_cell": false,
   "toc_position": {},
   "toc_section_display": true,
   "toc_window_display": false
  },
  "varInspector": {
   "cols": {
    "lenName": 16,
    "lenType": 16,
    "lenVar": 40
   },
   "kernels_config": {
    "python": {
     "delete_cmd_postfix": "",
     "delete_cmd_prefix": "del ",
     "library": "var_list.py",
     "varRefreshCmd": "print(var_dic_list())"
    },
    "r": {
     "delete_cmd_postfix": ") ",
     "delete_cmd_prefix": "rm(",
     "library": "var_list.r",
     "varRefreshCmd": "cat(var_dic_list()) "
    }
   },
   "types_to_exclude": [
    "module",
    "function",
    "builtin_function_or_method",
    "instance",
    "_Feature"
   ],
   "window_display": false
  }
 },
 "nbformat": 4,
 "nbformat_minor": 2
}
