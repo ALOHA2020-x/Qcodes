{
 "cells": [
  {
   "cell_type": "markdown",
   "metadata": {},
   "source": [
    "# DataSet Performance\n",
    "\n",
    "This notebook shows the trade-off between inserting data into a database row-by-row and as binary blobs. Inserting the data row-by-row means that we have direct access to all the data and may perform queries directly on the values of the data. On the other hand, as we shall see, this is much slower than inserting the data directly as binary blobs."
   ]
  },
  {
   "cell_type": "markdown",
   "metadata": {},
   "source": [
    "First, we choose a new location for the database to ensure that we don't add a bunch of benchmarking data to the default one."
   ]
  },
  {
   "cell_type": "code",
   "execution_count": 1,
   "metadata": {
    "execution": {
     "iopub.execute_input": "2020-10-08T06:49:11.571090Z",
     "iopub.status.busy": "2020-10-08T06:49:11.570464Z",
     "iopub.status.idle": "2020-10-08T06:49:12.664007Z",
     "shell.execute_reply": "2020-10-08T06:49:12.663396Z"
    }
   },
   "outputs": [
    {
     "name": "stdout",
     "output_type": "stream",
     "text": [
      "Logging hadn't been started.\n",
      "Activating auto-logging. Current session state plus future input saved.\n",
      "Filename       : /home/vsts/.qcodes/logs/command_history.log\n",
      "Mode           : append\n",
      "Output logging : True\n",
      "Raw input log  : False\n",
      "Timestamping   : True\n",
      "State          : active\n"
     ]
    },
    {
     "name": "stdout",
     "output_type": "stream",
     "text": [
      "Qcodes Logfile : /home/vsts/.qcodes/logs/201008-19184-qcodes.log\n"
     ]
    }
   ],
   "source": [
    "import os\n",
    "cwd = os.getcwd()\n",
    "import qcodes as qc\n",
    "qc.config[\"core\"][\"db_location\"] = os.path.join(cwd, 'testing.db')\n"
   ]
  },
  {
   "cell_type": "code",
   "execution_count": 2,
   "metadata": {
    "execution": {
     "iopub.execute_input": "2020-10-08T06:49:12.671644Z",
     "iopub.status.busy": "2020-10-08T06:49:12.669748Z",
     "iopub.status.idle": "2020-10-08T06:49:12.858615Z",
     "shell.execute_reply": "2020-10-08T06:49:12.857774Z"
    }
   },
   "outputs": [],
   "source": [
    "%matplotlib inline\n",
    "import time\n",
    "import matplotlib.pyplot as plt\n",
    "import numpy as np\n",
    "\n",
    "import qcodes as qc\n",
    "from qcodes.instrument.parameter import ManualParameter\n",
    "from qcodes.dataset.experiment_container import (Experiment,\n",
    "                                                 load_last_experiment,\n",
    "                                                 new_experiment)\n",
    "from qcodes.dataset.sqlite.database import initialise_database\n",
    "from qcodes import load_or_create_experiment\n",
    "from qcodes.dataset.measurements import Measurement"
   ]
  },
  {
   "cell_type": "code",
   "execution_count": 3,
   "metadata": {
    "execution": {
     "iopub.execute_input": "2020-10-08T06:49:12.863425Z",
     "iopub.status.busy": "2020-10-08T06:49:12.862340Z",
     "iopub.status.idle": "2020-10-08T06:49:12.991545Z",
     "shell.execute_reply": "2020-10-08T06:49:12.992104Z"
    }
   },
   "outputs": [
    {
     "name": "stdout",
     "output_type": "stream",
     "text": [
      "\r",
      "0it [00:00, ?it/s]"
     ]
    },
    {
     "name": "stdout",
     "output_type": "stream",
     "text": [
      "\r",
      "Upgrading database; v0 -> v1: : 0it [00:00, ?it/s]"
     ]
    },
    {
     "name": "stdout",
     "output_type": "stream",
     "text": [
      "\r",
      "Upgrading database; v0 -> v1: : 0it [00:00, ?it/s]"
     ]
    },
    {
     "name": "stdout",
     "output_type": "stream",
     "text": [
      "\n",
      "\r",
      "  0%|          | 0/1 [00:00<?, ?it/s]"
     ]
    },
    {
     "name": "stdout",
     "output_type": "stream",
     "text": [
      "\r",
      "Upgrading database; v1 -> v2:   0%|          | 0/1 [00:00<?, ?it/s]"
     ]
    },
    {
     "name": "stdout",
     "output_type": "stream",
     "text": [
      "\r",
      "Upgrading database; v1 -> v2: 100%|██████████| 1/1 [00:00<00:00, 436.82it/s]"
     ]
    },
    {
     "name": "stdout",
     "output_type": "stream",
     "text": [
      "\n",
      "\r",
      "0it [00:00, ?it/s]"
     ]
    },
    {
     "name": "stdout",
     "output_type": "stream",
     "text": [
      "\r",
      "Upgrading database; v2 -> v3: : 0it [00:00, ?it/s]"
     ]
    },
    {
     "name": "stdout",
     "output_type": "stream",
     "text": [
      "\r",
      "Upgrading database; v2 -> v3: : 0it [00:00, ?it/s]"
     ]
    },
    {
     "name": "stdout",
     "output_type": "stream",
     "text": [
      "\n",
      "\r",
      "0it [00:00, ?it/s]"
     ]
    },
    {
     "name": "stdout",
     "output_type": "stream",
     "text": [
      "\r",
      "Upgrading database; v3 -> v4: : 0it [00:00, ?it/s]"
     ]
    },
    {
     "name": "stdout",
     "output_type": "stream",
     "text": [
      "\r",
      "Upgrading database; v3 -> v4: : 0it [00:00, ?it/s]"
     ]
    },
    {
     "name": "stdout",
     "output_type": "stream",
     "text": [
      "\n",
      "\r",
      "  0%|          | 0/1 [00:00<?, ?it/s]"
     ]
    },
    {
     "name": "stdout",
     "output_type": "stream",
     "text": [
      "\r",
      "Upgrading database; v4 -> v5:   0%|          | 0/1 [00:00<?, ?it/s]"
     ]
    },
    {
     "name": "stdout",
     "output_type": "stream",
     "text": [
      "\r",
      "Upgrading database; v4 -> v5: 100%|██████████| 1/1 [00:00<00:00, 470.85it/s]"
     ]
    },
    {
     "name": "stdout",
     "output_type": "stream",
     "text": [
      "\n",
      "\r",
      "0it [00:00, ?it/s]"
     ]
    },
    {
     "name": "stdout",
     "output_type": "stream",
     "text": [
      "\r",
      "Upgrading database; v5 -> v6: : 0it [00:00, ?it/s]"
     ]
    },
    {
     "name": "stdout",
     "output_type": "stream",
     "text": [
      "\r",
      "Upgrading database; v5 -> v6: : 0it [00:00, ?it/s]"
     ]
    },
    {
     "name": "stdout",
     "output_type": "stream",
     "text": [
      "\n",
      "\r",
      "  0%|          | 0/1 [00:00<?, ?it/s]"
     ]
    },
    {
     "name": "stdout",
     "output_type": "stream",
     "text": [
      "\r",
      "Upgrading database; v6 -> v7:   0%|          | 0/1 [00:00<?, ?it/s]"
     ]
    },
    {
     "name": "stdout",
     "output_type": "stream",
     "text": [
      "\r",
      "Upgrading database; v6 -> v7: 100%|██████████| 1/1 [00:00<00:00, 235.36it/s]"
     ]
    },
    {
     "name": "stdout",
     "output_type": "stream",
     "text": [
      "\n",
      "\r",
      "  0%|          | 0/1 [00:00<?, ?it/s]"
     ]
    },
    {
     "name": "stdout",
     "output_type": "stream",
     "text": [
      "\r",
      "Upgrading database; v7 -> v8:   0%|          | 0/1 [00:00<?, ?it/s]"
     ]
    },
    {
     "name": "stdout",
     "output_type": "stream",
     "text": [
      "\r",
      "Upgrading database; v7 -> v8: 100%|██████████| 1/1 [00:00<00:00, 540.09it/s]"
     ]
    },
    {
     "name": "stdout",
     "output_type": "stream",
     "text": [
      "\n",
      "\r",
      "  0%|          | 0/1 [00:00<?, ?it/s]"
     ]
    },
    {
     "name": "stdout",
     "output_type": "stream",
     "text": [
      "\r",
      "Upgrading database; v8 -> v9:   0%|          | 0/1 [00:00<?, ?it/s]"
     ]
    },
    {
     "name": "stdout",
     "output_type": "stream",
     "text": [
      "\r",
      "Upgrading database; v8 -> v9: 100%|██████████| 1/1 [00:00<00:00, 435.27it/s]"
     ]
    },
    {
     "name": "stdout",
     "output_type": "stream",
     "text": [
      "\n"
     ]
    }
   ],
   "source": [
    "initialise_database()\n",
    "exp = load_or_create_experiment(experiment_name='tutorial_exp', sample_name=\"no sample\")"
   ]
  },
  {
   "cell_type": "markdown",
   "metadata": {},
   "source": [
    "Here, we define a simple function to benchmark the time it takes to insert n points with either numeric or array data type.\n",
    "We will compare both the time used to call ``add_result`` and the time used for the full measurement."
   ]
  },
  {
   "cell_type": "code",
   "execution_count": 4,
   "metadata": {
    "execution": {
     "iopub.execute_input": "2020-10-08T06:49:13.001171Z",
     "iopub.status.busy": "2020-10-08T06:49:13.000544Z",
     "iopub.status.idle": "2020-10-08T06:49:13.004284Z",
     "shell.execute_reply": "2020-10-08T06:49:13.005139Z"
    }
   },
   "outputs": [],
   "source": [
    "def insert_data(paramtype, npoints, nreps=1):\n",
    "\n",
    "    meas = Measurement(exp=exp)\n",
    "\n",
    "    x1 = ManualParameter('x1')\n",
    "    x2 = ManualParameter('x2')\n",
    "    x3 = ManualParameter('x3')\n",
    "    y1 = ManualParameter('y1')\n",
    "    y2 = ManualParameter('y2')\n",
    "\n",
    "    meas.register_parameter(x1, paramtype=paramtype)\n",
    "    meas.register_parameter(x2, paramtype=paramtype)\n",
    "    meas.register_parameter(x3, paramtype=paramtype)\n",
    "    meas.register_parameter(y1, setpoints=[x1, x2, x3],\n",
    "                            paramtype=paramtype)\n",
    "    meas.register_parameter(y2, setpoints=[x1, x2, x3],\n",
    "                            paramtype=paramtype)\n",
    "    start = time.perf_counter()\n",
    "    with meas.run() as datasaver:\n",
    "        start_adding = time.perf_counter()\n",
    "        for i in range(nreps):\n",
    "            datasaver.add_result((x1, np.random.rand(npoints)),\n",
    "                                 (x2, np.random.rand(npoints)),\n",
    "                                 (x3, np.random.rand(npoints)),\n",
    "                                 (y1, np.random.rand(npoints)),\n",
    "                                 (y2, np.random.rand(npoints)))\n",
    "        stop_adding = time.perf_counter()\n",
    "        run_id = datasaver.run_id\n",
    "    stop = time.perf_counter()\n",
    "    tot_time = stop - start\n",
    "    add_time = stop_adding - start_adding\n",
    "    return tot_time, add_time, run_id"
   ]
  },
  {
   "cell_type": "markdown",
   "metadata": {},
   "source": [
    "## Comparison between numeric/array data and binary blob"
   ]
  },
  {
   "cell_type": "markdown",
   "metadata": {},
   "source": [
    "### Case1: Short experiment time"
   ]
  },
  {
   "cell_type": "code",
   "execution_count": 5,
   "metadata": {
    "execution": {
     "iopub.execute_input": "2020-10-08T06:49:13.011153Z",
     "iopub.status.busy": "2020-10-08T06:49:13.010339Z",
     "iopub.status.idle": "2020-10-08T06:49:13.884659Z",
     "shell.execute_reply": "2020-10-08T06:49:13.884076Z"
    }
   },
   "outputs": [
    {
     "name": "stdout",
     "output_type": "stream",
     "text": [
      "Starting experimental run with id: 1. \n",
      "Starting experimental run with id: 2. \n",
      "Starting experimental run with id: 3. \n",
      "Starting experimental run with id: 4. \n"
     ]
    },
    {
     "name": "stdout",
     "output_type": "stream",
     "text": [
      "Starting experimental run with id: 5. \n"
     ]
    },
    {
     "name": "stdout",
     "output_type": "stream",
     "text": [
      "Starting experimental run with id: 6. \n"
     ]
    },
    {
     "name": "stdout",
     "output_type": "stream",
     "text": [
      "Starting experimental run with id: 7. \n"
     ]
    },
    {
     "name": "stdout",
     "output_type": "stream",
     "text": [
      "Starting experimental run with id: 8. \n",
      "Starting experimental run with id: 9. \n"
     ]
    },
    {
     "name": "stdout",
     "output_type": "stream",
     "text": [
      "Starting experimental run with id: 10. \n",
      "Starting experimental run with id: 11. \n"
     ]
    },
    {
     "name": "stdout",
     "output_type": "stream",
     "text": [
      "Starting experimental run with id: 12. \n"
     ]
    },
    {
     "name": "stdout",
     "output_type": "stream",
     "text": [
      "Starting experimental run with id: 13. \n"
     ]
    },
    {
     "name": "stdout",
     "output_type": "stream",
     "text": [
      "Starting experimental run with id: 14. \n"
     ]
    }
   ],
   "source": [
    "sizes = [1,500,1000,2000,3000,4000,5000]\n",
    "t_numeric = []\n",
    "t_numeric_add = []\n",
    "t_array = []\n",
    "t_array_add = []\n",
    "for size in sizes:\n",
    "    tn, tna, run_id_n =  insert_data('numeric', size)\n",
    "    t_numeric.append(tn)\n",
    "    t_numeric_add.append(tna)\n",
    "\n",
    "    ta, taa, run_id_a =  insert_data('array', size)\n",
    "    t_array.append(ta)\n",
    "    t_array_add.append(taa)"
   ]
  },
  {
   "cell_type": "code",
   "execution_count": 6,
   "metadata": {
    "execution": {
     "iopub.execute_input": "2020-10-08T06:49:13.903331Z",
     "iopub.status.busy": "2020-10-08T06:49:13.902721Z",
     "iopub.status.idle": "2020-10-08T06:49:14.118851Z",
     "shell.execute_reply": "2020-10-08T06:49:14.118243Z"
    }
   },
   "outputs": [
    {
     "data": {
      "image/png": "[encoded data removed]",
      "text/plain": [
       "<Figure size 432x288 with 1 Axes>"
      ]
     },
     "metadata": {
      "needs_background": "light"
     },
     "output_type": "display_data"
    }
   ],
   "source": [
    "fig, ax = plt.subplots(1,1)\n",
    "ax.plot(sizes, t_numeric, 'o-', label='Inserting row-by-row')\n",
    "ax.plot(sizes, t_numeric_add, 'o-', label='Inserting row-by-row: add_result only')\n",
    "ax.plot(sizes, t_array, 'd-', label='Inserting as binary blob')\n",
    "ax.plot(sizes, t_array_add, 'd-', label='Inserting as binary blob: add_result only')\n",
    "ax.legend()\n",
    "ax.set_xlabel('Array length')\n",
    "ax.set_ylabel('Time (s)')\n",
    "fig.tight_layout()"
   ]
  },
  {
   "cell_type": "markdown",
   "metadata": {},
   "source": [
    "As shown in the latter figure, the time to setup and and close the experiment is approximately 0.4 sec. In case of small array sizes, the difference between inserting values of data as arrays and inserting them row-by-row is relatively unimportant. At larger array sizes, i.e. above 10000 points, the cost of writing data as individual datapoints starts to become important.\n"
   ]
  },
  {
   "cell_type": "markdown",
   "metadata": {},
   "source": [
    "### Case2: Long experiment time "
   ]
  },
  {
   "cell_type": "code",
   "execution_count": 7,
   "metadata": {
    "execution": {
     "iopub.execute_input": "2020-10-08T06:49:14.126686Z",
     "iopub.status.busy": "2020-10-08T06:49:14.125857Z",
     "iopub.status.idle": "2020-10-08T06:50:13.775447Z",
     "shell.execute_reply": "2020-10-08T06:50:13.774360Z"
    }
   },
   "outputs": [
    {
     "name": "stdout",
     "output_type": "stream",
     "text": [
      "Starting experimental run with id: 15. \n",
      "Starting experimental run with id: 16. \n",
      "Starting experimental run with id: 17. \n"
     ]
    },
    {
     "name": "stdout",
     "output_type": "stream",
     "text": [
      "Starting experimental run with id: 18. \n",
      "Starting experimental run with id: 19. \n"
     ]
    },
    {
     "name": "stdout",
     "output_type": "stream",
     "text": [
      "Starting experimental run with id: 20. \n"
     ]
    },
    {
     "name": "stdout",
     "output_type": "stream",
     "text": [
      "Starting experimental run with id: 21. \n"
     ]
    },
    {
     "name": "stdout",
     "output_type": "stream",
     "text": [
      "Starting experimental run with id: 22. \n"
     ]
    },
    {
     "name": "stdout",
     "output_type": "stream",
     "text": [
      "Starting experimental run with id: 23. \n"
     ]
    },
    {
     "name": "stdout",
     "output_type": "stream",
     "text": [
      "Starting experimental run with id: 24. \n"
     ]
    },
    {
     "name": "stdout",
     "output_type": "stream",
     "text": [
      "Starting experimental run with id: 25. \n"
     ]
    },
    {
     "name": "stdout",
     "output_type": "stream",
     "text": [
      "Starting experimental run with id: 26. \n"
     ]
    },
    {
     "name": "stdout",
     "output_type": "stream",
     "text": [
      "Starting experimental run with id: 27. \n"
     ]
    },
    {
     "name": "stdout",
     "output_type": "stream",
     "text": [
      "Starting experimental run with id: 28. \n"
     ]
    }
   ],
   "source": [
    "sizes = [1,500,1000,2000,3000,4000,5000]\n",
    "nreps = 100\n",
    "t_numeric = []\n",
    "t_numeric_add = []\n",
    "t_numeric_run_ids = []\n",
    "t_array = []\n",
    "t_array_add = []\n",
    "t_array_run_ids = []\n",
    "for size in sizes:\n",
    "    tn, tna, run_id_n =  insert_data('numeric', size, nreps=nreps)\n",
    "    t_numeric.append(tn)\n",
    "    t_numeric_add.append(tna)\n",
    "    t_numeric_run_ids.append(run_id_n)\n",
    "\n",
    "    ta, taa, run_id_a =  insert_data('array', size, nreps=nreps)\n",
    "    t_array.append(ta)\n",
    "    t_array_add.append(taa)\n",
    "    t_array_run_ids.append(run_id_a)"
   ]
  },
  {
   "cell_type": "code",
   "execution_count": 8,
   "metadata": {
    "execution": {
     "iopub.execute_input": "2020-10-08T06:50:13.795560Z",
     "iopub.status.busy": "2020-10-08T06:50:13.793183Z",
     "iopub.status.idle": "2020-10-08T06:50:14.020846Z",
     "shell.execute_reply": "2020-10-08T06:50:14.020038Z"
    },
    "scrolled": true
   },
   "outputs": [
    {
     "data": {
      "image/png": "[encoded data removed]",
      "text/plain": [
       "<Figure size 432x288 with 1 Axes>"
      ]
     },
     "metadata": {
      "needs_background": "light"
     },
     "output_type": "display_data"
    }
   ],
   "source": [
    "fig, ax = plt.subplots(1,1)\n",
    "ax.plot(sizes, t_numeric, 'o-', label='Inserting row-by-row')\n",
    "ax.plot(sizes, t_numeric_add, 'o-', label='Inserting row-by-row: add_result only')\n",
    "ax.plot(sizes, t_array, 'd-', label='Inserting as binary blob')\n",
    "ax.plot(sizes, t_array_add, 'd-', label='Inserting as binary blob: add_result only')\n",
    "ax.legend()\n",
    "ax.set_xlabel('Array length')\n",
    "ax.set_ylabel('Time (s)')\n",
    "fig.tight_layout()"
   ]
  },
  {
   "cell_type": "markdown",
   "metadata": {},
   "source": [
    "However, as we increase the length of the experiment, as seen here by repeating the insertion 100 times, we see a big difference between inserting values of the data row-by-row and inserting it as a binary blob."
   ]
  },
  {
   "cell_type": "markdown",
   "metadata": {},
   "source": [
    "## Loading the data "
   ]
  },
  {
   "cell_type": "code",
   "execution_count": 9,
   "metadata": {
    "execution": {
     "iopub.execute_input": "2020-10-08T06:50:14.025776Z",
     "iopub.status.busy": "2020-10-08T06:50:14.024695Z",
     "iopub.status.idle": "2020-10-08T06:50:14.029070Z",
     "shell.execute_reply": "2020-10-08T06:50:14.028421Z"
    }
   },
   "outputs": [],
   "source": [
    "from qcodes.dataset.data_set import load_by_id\n",
    "from qcodes.dataset.data_export import get_data_by_id"
   ]
  },
  {
   "cell_type": "markdown",
   "metadata": {},
   "source": [
    "As usual you can load the data by using the ``load_by_id`` function but you will notice that the different storage methods\n",
    "are reflected in shape of the data as it is retrieved. "
   ]
  },
  {
   "cell_type": "code",
   "execution_count": 10,
   "metadata": {
    "execution": {
     "iopub.execute_input": "2020-10-08T06:50:14.033161Z",
     "iopub.status.busy": "2020-10-08T06:50:14.032623Z",
     "iopub.status.idle": "2020-10-08T06:50:14.036774Z",
     "shell.execute_reply": "2020-10-08T06:50:14.036023Z"
    }
   },
   "outputs": [],
   "source": [
    "run_id_n = t_numeric_run_ids[0]\n",
    "run_id_a = t_array_run_ids[0]"
   ]
  },
  {
   "cell_type": "code",
   "execution_count": 11,
   "metadata": {
    "execution": {
     "iopub.execute_input": "2020-10-08T06:50:14.040334Z",
     "iopub.status.busy": "2020-10-08T06:50:14.039708Z",
     "iopub.status.idle": "2020-10-08T06:50:14.052365Z",
     "shell.execute_reply": "2020-10-08T06:50:14.051770Z"
    },
    "scrolled": true
   },
   "outputs": [
    {
     "data": {
      "text/plain": [
       "{'x1': {'x1': array([0.94057565, 0.94057565, 0.80165927, 0.80165927, 0.08510742,\n",
       "         0.08510742, 0.31026193, 0.31026193, 0.4230126 , 0.4230126 ,\n",
       "         0.91084178, 0.91084178, 0.24925997, 0.24925997, 0.23412744,\n",
       "         0.23412744, 0.05381918, 0.05381918, 0.08906816, 0.08906816,\n",
       "         0.93310988, 0.93310988, 0.4896869 , 0.4896869 , 0.36537494,\n",
       "         0.36537494, 0.989952  , 0.989952  , 0.60190947, 0.60190947,\n",
       "         0.21973343, 0.21973343, 0.14839071, 0.14839071, 0.59809693,\n",
       "         0.59809693, 0.39390689, 0.39390689, 0.28964863, 0.28964863,\n",
       "         0.59450178, 0.59450178, 0.77303414, 0.77303414, 0.27367831,\n",
       "         0.27367831, 0.58042159, 0.58042159, 0.12624117, 0.12624117,\n",
       "         0.70954505, 0.70954505, 0.89783821, 0.89783821, 0.55713276,\n",
       "         0.55713276, 0.68900579, 0.68900579, 0.36837453, 0.36837453,\n",
       "         0.74048982, 0.74048982, 0.84780508, 0.84780508, 0.33197398,\n",
       "         0.33197398, 0.32700881, 0.32700881, 0.24797716, 0.24797716,\n",
       "         0.41874488, 0.41874488, 0.70926278, 0.70926278, 0.97937437,\n",
       "         0.97937437, 0.5969456 , 0.5969456 , 0.29746539, 0.29746539,\n",
       "         0.43621762, 0.43621762, 0.30901738, 0.30901738, 0.88592137,\n",
       "         0.88592137, 0.02587857, 0.02587857, 0.98905049, 0.98905049,\n",
       "         0.33466551, 0.33466551, 0.70693025, 0.70693025, 0.2115204 ,\n",
       "         0.2115204 , 0.79737385, 0.79737385, 0.51636238, 0.51636238,\n",
       "         0.29234712, 0.29234712, 0.34173035, 0.34173035, 0.11815926,\n",
       "         0.11815926, 0.78908148, 0.78908148, 0.12474242, 0.12474242,\n",
       "         0.96385993, 0.96385993, 0.54759919, 0.54759919, 0.93079068,\n",
       "         0.93079068, 0.1460297 , 0.1460297 , 0.80972086, 0.80972086,\n",
       "         0.54925883, 0.54925883, 0.42074279, 0.42074279, 0.36919378,\n",
       "         0.36919378, 0.91153557, 0.91153557, 0.74838581, 0.74838581,\n",
       "         0.32066559, 0.32066559, 0.52289709, 0.52289709, 0.66247101,\n",
       "         0.66247101, 0.62384892, 0.62384892, 0.35782514, 0.35782514,\n",
       "         0.41639234, 0.41639234, 0.28313187, 0.28313187, 0.4924451 ,\n",
       "         0.4924451 , 0.2980378 , 0.2980378 , 0.09616999, 0.09616999,\n",
       "         0.38234673, 0.38234673, 0.56275332, 0.56275332, 0.38459749,\n",
       "         0.38459749, 0.0181025 , 0.0181025 , 0.2946852 , 0.2946852 ,\n",
       "         0.55787667, 0.55787667, 0.98056427, 0.98056427, 0.79530226,\n",
       "         0.79530226, 0.17141176, 0.17141176, 0.15702685, 0.15702685,\n",
       "         0.9245808 , 0.9245808 , 0.55463435, 0.55463435, 0.79233295,\n",
       "         0.79233295, 0.21056342, 0.21056342, 0.70152218, 0.70152218,\n",
       "         0.56014336, 0.56014336, 0.93000247, 0.93000247, 0.16694254,\n",
       "         0.16694254, 0.63105688, 0.63105688, 0.40764188, 0.40764188,\n",
       "         0.92035516, 0.92035516, 0.22365073, 0.22365073, 0.45088589,\n",
       "         0.45088589, 0.38311522, 0.38311522, 0.63123787, 0.63123787])}}"
      ]
     },
     "execution_count": 1,
     "metadata": {},
     "output_type": "execute_result"
    }
   ],
   "source": [
    "ds = load_by_id(run_id_n)\n",
    "ds.get_parameter_data('x1')"
   ]
  },
  {
   "cell_type": "markdown",
   "metadata": {},
   "source": [
    "And a dataset stored as binary arrays"
   ]
  },
  {
   "cell_type": "code",
   "execution_count": 12,
   "metadata": {
    "execution": {
     "iopub.execute_input": "2020-10-08T06:50:14.056142Z",
     "iopub.status.busy": "2020-10-08T06:50:14.055599Z",
     "iopub.status.idle": "2020-10-08T06:50:14.119674Z",
     "shell.execute_reply": "2020-10-08T06:50:14.120234Z"
    },
    "scrolled": true
   },
   "outputs": [
    {
     "data": {
      "text/plain": [
       "{'x1': {'x1': array([[0.77187762],\n",
       "         [0.77187762],\n",
       "         [0.41410209],\n",
       "         [0.41410209],\n",
       "         [0.45764683],\n",
       "         [0.45764683],\n",
       "         [0.01714473],\n",
       "         [0.01714473],\n",
       "         [0.17109437],\n",
       "         [0.17109437],\n",
       "         [0.95844344],\n",
       "         [0.95844344],\n",
       "         [0.96412149],\n",
       "         [0.96412149],\n",
       "         [0.47005871],\n",
       "         [0.47005871],\n",
       "         [0.9910349 ],\n",
       "         [0.9910349 ],\n",
       "         [0.1580833 ],\n",
       "         [0.1580833 ],\n",
       "         [0.98132799],\n",
       "         [0.98132799],\n",
       "         [0.24287306],\n",
       "         [0.24287306],\n",
       "         [0.3835814 ],\n",
       "         [0.3835814 ],\n",
       "         [0.29513739],\n",
       "         [0.29513739],\n",
       "         [0.17274171],\n",
       "         [0.17274171],\n",
       "         [0.92257219],\n",
       "         [0.92257219],\n",
       "         [0.43932296],\n",
       "         [0.43932296],\n",
       "         [0.61510443],\n",
       "         [0.61510443],\n",
       "         [0.9709758 ],\n",
       "         [0.9709758 ],\n",
       "         [0.78412522],\n",
       "         [0.78412522],\n",
       "         [0.35952502],\n",
       "         [0.35952502],\n",
       "         [0.8736741 ],\n",
       "         [0.8736741 ],\n",
       "         [0.29409485],\n",
       "         [0.29409485],\n",
       "         [0.00523861],\n",
       "         [0.00523861],\n",
       "         [0.47464624],\n",
       "         [0.47464624],\n",
       "         [0.86134741],\n",
       "         [0.86134741],\n",
       "         [0.00887504],\n",
       "         [0.00887504],\n",
       "         [0.83402326],\n",
       "         [0.83402326],\n",
       "         [0.33526703],\n",
       "         [0.33526703],\n",
       "         [0.13646288],\n",
       "         [0.13646288],\n",
       "         [0.50493207],\n",
       "         [0.50493207],\n",
       "         [0.21980804],\n",
       "         [0.21980804],\n",
       "         [0.52393452],\n",
       "         [0.52393452],\n",
       "         [0.11834706],\n",
       "         [0.11834706],\n",
       "         [0.83361747],\n",
       "         [0.83361747],\n",
       "         [0.73972022],\n",
       "         [0.73972022],\n",
       "         [0.34414751],\n",
       "         [0.34414751],\n",
       "         [0.39483944],\n",
       "         [0.39483944],\n",
       "         [0.32113039],\n",
       "         [0.32113039],\n",
       "         [0.7103002 ],\n",
       "         [0.7103002 ],\n",
       "         [0.46768986],\n",
       "         [0.46768986],\n",
       "         [0.07275404],\n",
       "         [0.07275404],\n",
       "         [0.44853676],\n",
       "         [0.44853676],\n",
       "         [0.11555473],\n",
       "         [0.11555473],\n",
       "         [0.17433532],\n",
       "         [0.17433532],\n",
       "         [0.62226736],\n",
       "         [0.62226736],\n",
       "         [0.64148389],\n",
       "         [0.64148389],\n",
       "         [0.25365198],\n",
       "         [0.25365198],\n",
       "         [0.01992148],\n",
       "         [0.01992148],\n",
       "         [0.56770445],\n",
       "         [0.56770445],\n",
       "         [0.20333493],\n",
       "         [0.20333493],\n",
       "         [0.43795975],\n",
       "         [0.43795975],\n",
       "         [0.64046167],\n",
       "         [0.64046167],\n",
       "         [0.98645   ],\n",
       "         [0.98645   ],\n",
       "         [0.91171698],\n",
       "         [0.91171698],\n",
       "         [0.07683485],\n",
       "         [0.07683485],\n",
       "         [0.00532266],\n",
       "         [0.00532266],\n",
       "         [0.71682824],\n",
       "         [0.71682824],\n",
       "         [0.45389769],\n",
       "         [0.45389769],\n",
       "         [0.00495544],\n",
       "         [0.00495544],\n",
       "         [0.60268393],\n",
       "         [0.60268393],\n",
       "         [0.72769496],\n",
       "         [0.72769496],\n",
       "         [0.22372086],\n",
       "         [0.22372086],\n",
       "         [0.83695682],\n",
       "         [0.83695682],\n",
       "         [0.11121488],\n",
       "         [0.11121488],\n",
       "         [0.21922296],\n",
       "         [0.21922296],\n",
       "         [0.50918224],\n",
       "         [0.50918224],\n",
       "         [0.79303282],\n",
       "         [0.79303282],\n",
       "         [0.18588921],\n",
       "         [0.18588921],\n",
       "         [0.28207727],\n",
       "         [0.28207727],\n",
       "         [0.1973976 ],\n",
       "         [0.1973976 ],\n",
       "         [0.42969194],\n",
       "         [0.42969194],\n",
       "         [0.07530242],\n",
       "         [0.07530242],\n",
       "         [0.46113404],\n",
       "         [0.46113404],\n",
       "         [0.66858629],\n",
       "         [0.66858629],\n",
       "         [0.25558731],\n",
       "         [0.25558731],\n",
       "         [0.04748177],\n",
       "         [0.04748177],\n",
       "         [0.67340835],\n",
       "         [0.67340835],\n",
       "         [0.38369538],\n",
       "         [0.38369538],\n",
       "         [0.65427351],\n",
       "         [0.65427351],\n",
       "         [0.86593829],\n",
       "         [0.86593829],\n",
       "         [0.26838778],\n",
       "         [0.26838778],\n",
       "         [0.62533123],\n",
       "         [0.62533123],\n",
       "         [0.59303269],\n",
       "         [0.59303269],\n",
       "         [0.74052457],\n",
       "         [0.74052457],\n",
       "         [0.05326759],\n",
       "         [0.05326759],\n",
       "         [0.14807847],\n",
       "         [0.14807847],\n",
       "         [0.06271647],\n",
       "         [0.06271647],\n",
       "         [0.86265782],\n",
       "         [0.86265782],\n",
       "         [0.99352631],\n",
       "         [0.99352631],\n",
       "         [0.50931266],\n",
       "         [0.50931266],\n",
       "         [0.22847375],\n",
       "         [0.22847375],\n",
       "         [0.83432347],\n",
       "         [0.83432347],\n",
       "         [0.65230948],\n",
       "         [0.65230948],\n",
       "         [0.28784617],\n",
       "         [0.28784617],\n",
       "         [0.56509504],\n",
       "         [0.56509504],\n",
       "         [0.31444084],\n",
       "         [0.31444084],\n",
       "         [0.12588733],\n",
       "         [0.12588733],\n",
       "         [0.11727676],\n",
       "         [0.11727676],\n",
       "         [0.38330861],\n",
       "         [0.38330861]])}}"
      ]
     },
     "execution_count": 1,
     "metadata": {},
     "output_type": "execute_result"
    }
   ],
   "source": [
    "ds = load_by_id(run_id_a)\n",
    "ds.get_parameter_data('x1')"
   ]
  },
  {
   "cell_type": "code",
   "execution_count": null,
   "metadata": {},
   "outputs": [],
   "source": []
  }
 ],
 "metadata": {
  "kernelspec": {
   "display_name": "Python 3",
   "language": "python",
   "name": "python3"
  },
  "language_info": {
   "codemirror_mode": {
    "name": "ipython",
    "version": 3
   },
   "file_extension": ".py",
   "mimetype": "text/x-python",
   "name": "python",
   "nbconvert_exporter": "python",
   "pygments_lexer": "ipython3",
   "version": "3.7.7"
  },
  "nbsphinx": {
   "timeout": 600
  },
  "toc": {
   "base_numbering": 1,
   "nav_menu": {},
   "number_sections": true,
   "sideBar": true,
   "skip_h1_title": false,
   "title_cell": "Table of Contents",
   "title_sidebar": "Contents",
   "toc_cell": false,
   "toc_position": {},
   "toc_section_display": true,
   "toc_window_display": false
  },
  "varInspector": {
   "cols": {
    "lenName": 16,
    "lenType": 16,
    "lenVar": 40
   },
   "kernels_config": {
    "python": {
     "delete_cmd_postfix": "",
     "delete_cmd_prefix": "del ",
     "library": "var_list.py",
     "varRefreshCmd": "print(var_dic_list())"
    },
    "r": {
     "delete_cmd_postfix": ") ",
     "delete_cmd_prefix": "rm(",
     "library": "var_list.r",
     "varRefreshCmd": "cat(var_dic_list()) "
    }
   },
   "types_to_exclude": [
    "module",
    "function",
    "builtin_function_or_method",
    "instance",
    "_Feature"
   ],
   "window_display": false
  }
 },
 "nbformat": 4,
 "nbformat_minor": 2
}
