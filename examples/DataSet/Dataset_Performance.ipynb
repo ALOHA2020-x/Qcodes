{
 "cells": [
  {
   "cell_type": "markdown",
   "metadata": {},
   "source": [
    "# DataSet Performance\n",
    "\n",
    "This notebook shows the trade-off between inserting data into a database row-by-row and as binary blobs. Inserting the data row-by-row means that we have direct access to all the data and may perform queries directly on the values of the data. On the other hand, as we shall see, this is much slower than inserting the data directly as binary blobs."
   ]
  },
  {
   "cell_type": "markdown",
   "metadata": {},
   "source": [
    "First, we choose a new location for the database to ensure that we don't add a bunch of benchmarking data to the default one."
   ]
  },
  {
   "cell_type": "code",
   "execution_count": 1,
   "metadata": {},
   "outputs": [
    {
     "name": "stdout",
     "output_type": "stream",
     "text": [
      "Logging hadn't been started.\n",
      "Activating auto-logging. Current session state plus future input saved.\n",
      "Filename       : /home/vsts/.qcodes/logs/command_history.log\n",
      "Mode           : append\n",
      "Output logging : True\n",
      "Raw input log  : False\n",
      "Timestamping   : True\n",
      "State          : active\n"
     ]
    },
    {
     "name": "stdout",
     "output_type": "stream",
     "text": [
      "Qcodes Logfile : /home/vsts/.qcodes/logs/200415-18597-qcodes.log\n"
     ]
    }
   ],
   "source": [
    "import os\n",
    "cwd = os.getcwd()\n",
    "import qcodes as qc\n",
    "qc.config[\"core\"][\"db_location\"] = os.path.join(cwd, 'testing.db')\n"
   ]
  },
  {
   "cell_type": "code",
   "execution_count": 2,
   "metadata": {},
   "outputs": [],
   "source": [
    "%matplotlib inline\n",
    "import time\n",
    "import matplotlib.pyplot as plt\n",
    "import numpy as np\n",
    "\n",
    "import qcodes as qc\n",
    "from qcodes.instrument.parameter import ManualParameter\n",
    "from qcodes.dataset.experiment_container import (Experiment,\n",
    "                                                 load_last_experiment,\n",
    "                                                 new_experiment)\n",
    "from qcodes.dataset.sqlite.database import initialise_database\n",
    "from qcodes import load_or_create_experiment\n",
    "from qcodes.dataset.measurements import Measurement"
   ]
  },
  {
   "cell_type": "code",
   "execution_count": 3,
   "metadata": {},
   "outputs": [
    {
     "name": "stdout",
     "output_type": "stream",
     "text": [
      "\r",
      "0it [00:00, ?it/s]"
     ]
    },
    {
     "name": "stdout",
     "output_type": "stream",
     "text": [
      "\r",
      "Upgrading database; v0 -> v1: : 0it [00:00, ?it/s]"
     ]
    },
    {
     "name": "stdout",
     "output_type": "stream",
     "text": [
      "\r",
      "Upgrading database; v0 -> v1: : 0it [00:00, ?it/s]"
     ]
    },
    {
     "name": "stdout",
     "output_type": "stream",
     "text": [
      "\n",
      "\r",
      "  0%|          | 0/1 [00:00<?, ?it/s]"
     ]
    },
    {
     "name": "stdout",
     "output_type": "stream",
     "text": [
      "\r",
      "Upgrading database; v1 -> v2:   0%|          | 0/1 [00:00<?, ?it/s]"
     ]
    },
    {
     "name": "stdout",
     "output_type": "stream",
     "text": [
      "\r",
      "Upgrading database; v1 -> v2: 100%|██████████| 1/1 [00:00<00:00, 1093.98it/s]"
     ]
    },
    {
     "name": "stdout",
     "output_type": "stream",
     "text": [
      "\n",
      "\r",
      "0it [00:00, ?it/s]"
     ]
    },
    {
     "name": "stdout",
     "output_type": "stream",
     "text": [
      "\r",
      "Upgrading database; v2 -> v3: : 0it [00:00, ?it/s]"
     ]
    },
    {
     "name": "stdout",
     "output_type": "stream",
     "text": [
      "\r",
      "Upgrading database; v2 -> v3: : 0it [00:00, ?it/s]"
     ]
    },
    {
     "name": "stdout",
     "output_type": "stream",
     "text": [
      "\n",
      "\r",
      "0it [00:00, ?it/s]"
     ]
    },
    {
     "name": "stdout",
     "output_type": "stream",
     "text": [
      "\r",
      "Upgrading database; v3 -> v4: : 0it [00:00, ?it/s]"
     ]
    },
    {
     "name": "stdout",
     "output_type": "stream",
     "text": [
      "\r",
      "Upgrading database; v3 -> v4: : 0it [00:00, ?it/s]"
     ]
    },
    {
     "name": "stdout",
     "output_type": "stream",
     "text": [
      "\n",
      "\r",
      "  0%|          | 0/1 [00:00<?, ?it/s]"
     ]
    },
    {
     "name": "stdout",
     "output_type": "stream",
     "text": [
      "\r",
      "Upgrading database; v4 -> v5:   0%|          | 0/1 [00:00<?, ?it/s]"
     ]
    },
    {
     "name": "stdout",
     "output_type": "stream",
     "text": [
      "\r",
      "Upgrading database; v4 -> v5: 100%|██████████| 1/1 [00:00<00:00, 1078.23it/s]"
     ]
    },
    {
     "name": "stdout",
     "output_type": "stream",
     "text": [
      "\n",
      "\r",
      "0it [00:00, ?it/s]"
     ]
    },
    {
     "name": "stdout",
     "output_type": "stream",
     "text": [
      "\r",
      "Upgrading database; v5 -> v6: : 0it [00:00, ?it/s]"
     ]
    },
    {
     "name": "stdout",
     "output_type": "stream",
     "text": [
      "\r",
      "Upgrading database; v5 -> v6: : 0it [00:00, ?it/s]"
     ]
    },
    {
     "name": "stdout",
     "output_type": "stream",
     "text": [
      "\n",
      "\r",
      "  0%|          | 0/1 [00:00<?, ?it/s]"
     ]
    },
    {
     "name": "stdout",
     "output_type": "stream",
     "text": [
      "\r",
      "Upgrading database; v6 -> v7:   0%|          | 0/1 [00:00<?, ?it/s]"
     ]
    },
    {
     "name": "stdout",
     "output_type": "stream",
     "text": [
      "\r",
      "Upgrading database; v6 -> v7: 100%|██████████| 1/1 [00:00<00:00, 394.87it/s]"
     ]
    },
    {
     "name": "stdout",
     "output_type": "stream",
     "text": [
      "\n",
      "\r",
      "  0%|          | 0/1 [00:00<?, ?it/s]"
     ]
    },
    {
     "name": "stdout",
     "output_type": "stream",
     "text": [
      "\r",
      "Upgrading database; v7 -> v8:   0%|          | 0/1 [00:00<?, ?it/s]"
     ]
    },
    {
     "name": "stdout",
     "output_type": "stream",
     "text": [
      "\r",
      "Upgrading database; v7 -> v8: 100%|██████████| 1/1 [00:00<00:00, 1022.00it/s]"
     ]
    },
    {
     "name": "stdout",
     "output_type": "stream",
     "text": [
      "\n",
      "\r",
      "  0%|          | 0/1 [00:00<?, ?it/s]"
     ]
    },
    {
     "name": "stdout",
     "output_type": "stream",
     "text": [
      "\r",
      "Upgrading database; v8 -> v9:   0%|          | 0/1 [00:00<?, ?it/s]"
     ]
    },
    {
     "name": "stdout",
     "output_type": "stream",
     "text": [
      "\r",
      "Upgrading database; v8 -> v9: 100%|██████████| 1/1 [00:00<00:00, 1066.17it/s]"
     ]
    },
    {
     "name": "stdout",
     "output_type": "stream",
     "text": [
      "\n"
     ]
    }
   ],
   "source": [
    "initialise_database()\n",
    "exp = load_or_create_experiment(experiment_name='tutorial_exp', sample_name=\"no sample\")"
   ]
  },
  {
   "cell_type": "markdown",
   "metadata": {},
   "source": [
    "Here, we define a simple function to benchmark the time it takes to insert n points with either numeric or array data type.\n",
    "We will compare both the time used to call ``add_result`` and the time used for the full measurement."
   ]
  },
  {
   "cell_type": "code",
   "execution_count": 4,
   "metadata": {},
   "outputs": [],
   "source": [
    "def insert_data(paramtype, npoints, nreps=1):\n",
    "\n",
    "    meas = Measurement(exp=exp)\n",
    "\n",
    "    x1 = ManualParameter('x1')\n",
    "    x2 = ManualParameter('x2')\n",
    "    x3 = ManualParameter('x3')\n",
    "    y1 = ManualParameter('y1')\n",
    "    y2 = ManualParameter('y2')\n",
    "\n",
    "    meas.register_parameter(x1, paramtype=paramtype)\n",
    "    meas.register_parameter(x2, paramtype=paramtype)\n",
    "    meas.register_parameter(x3, paramtype=paramtype)\n",
    "    meas.register_parameter(y1, setpoints=[x1, x2, x3],\n",
    "                            paramtype=paramtype)\n",
    "    meas.register_parameter(y2, setpoints=[x1, x2, x3],\n",
    "                            paramtype=paramtype)\n",
    "    start = time.perf_counter()\n",
    "    with meas.run() as datasaver:\n",
    "        start_adding = time.perf_counter()\n",
    "        for i in range(nreps):\n",
    "            datasaver.add_result((x1, np.random.rand(npoints)),\n",
    "                                 (x2, np.random.rand(npoints)),\n",
    "                                 (x3, np.random.rand(npoints)),\n",
    "                                 (y1, np.random.rand(npoints)),\n",
    "                                 (y2, np.random.rand(npoints)))\n",
    "        stop_adding = time.perf_counter()\n",
    "        run_id = datasaver.run_id\n",
    "    stop = time.perf_counter()\n",
    "    tot_time = stop - start\n",
    "    add_time = stop_adding - start_adding\n",
    "    return tot_time, add_time, run_id"
   ]
  },
  {
   "cell_type": "markdown",
   "metadata": {},
   "source": [
    "## Comparison between numeric/array data and binary blob"
   ]
  },
  {
   "cell_type": "markdown",
   "metadata": {},
   "source": [
    "### Case1: Short experiment time"
   ]
  },
  {
   "cell_type": "code",
   "execution_count": 5,
   "metadata": {},
   "outputs": [
    {
     "name": "stdout",
     "output_type": "stream",
     "text": [
      "Starting experimental run with id: 1. \n",
      "Starting experimental run with id: 2. \n",
      "Starting experimental run with id: 3. \n"
     ]
    },
    {
     "name": "stdout",
     "output_type": "stream",
     "text": [
      "Starting experimental run with id: 4. \n"
     ]
    },
    {
     "name": "stdout",
     "output_type": "stream",
     "text": [
      "Starting experimental run with id: 5. \n"
     ]
    },
    {
     "name": "stdout",
     "output_type": "stream",
     "text": [
      "Starting experimental run with id: 6. \n"
     ]
    },
    {
     "name": "stdout",
     "output_type": "stream",
     "text": [
      "Starting experimental run with id: 7. \n"
     ]
    },
    {
     "name": "stdout",
     "output_type": "stream",
     "text": [
      "Starting experimental run with id: 8. \n"
     ]
    },
    {
     "name": "stdout",
     "output_type": "stream",
     "text": [
      "Starting experimental run with id: 9. \n"
     ]
    },
    {
     "name": "stdout",
     "output_type": "stream",
     "text": [
      "Starting experimental run with id: 10. \n",
      "Starting experimental run with id: 11. \n"
     ]
    },
    {
     "name": "stdout",
     "output_type": "stream",
     "text": [
      "Starting experimental run with id: 12. \n"
     ]
    },
    {
     "name": "stdout",
     "output_type": "stream",
     "text": [
      "Starting experimental run with id: 13. \n"
     ]
    },
    {
     "name": "stdout",
     "output_type": "stream",
     "text": [
      "Starting experimental run with id: 14. \n"
     ]
    }
   ],
   "source": [
    "sizes = [1,500,1000,2000,3000,4000,5000]\n",
    "t_numeric = []\n",
    "t_numeric_add = []\n",
    "t_array = []\n",
    "t_array_add = []\n",
    "for size in sizes:\n",
    "    tn, tna, run_id_n =  insert_data('numeric', size)\n",
    "    t_numeric.append(tn)\n",
    "    t_numeric_add.append(tna)\n",
    "\n",
    "    ta, taa, run_id_a =  insert_data('array', size)\n",
    "    t_array.append(ta)\n",
    "    t_array_add.append(taa)"
   ]
  },
  {
   "cell_type": "code",
   "execution_count": 6,
   "metadata": {},
   "outputs": [
    {
     "data": {
      "image/png": "[encoded data removed]",
      "text/plain": [
       "<Figure size 432x288 with 1 Axes>"
      ]
     },
     "metadata": {
      "needs_background": "light"
     },
     "output_type": "display_data"
    }
   ],
   "source": [
    "fig, ax = plt.subplots(1,1)\n",
    "ax.plot(sizes, t_numeric, 'o-', label='Inserting row-by-row')\n",
    "ax.plot(sizes, t_numeric_add, 'o-', label='Inserting row-by-row: add_result only')\n",
    "ax.plot(sizes, t_array, 'd-', label='Inserting as binary blob')\n",
    "ax.plot(sizes, t_array_add, 'd-', label='Inserting as binary blob: add_result only')\n",
    "ax.legend()\n",
    "ax.set_xlabel('Array length')\n",
    "ax.set_ylabel('Time (s)')\n",
    "fig.tight_layout()"
   ]
  },
  {
   "cell_type": "markdown",
   "metadata": {},
   "source": [
    "As shown in the latter figure, the time to setup and and close the experiment is approximately 0.4 sec. In case of small array sizes, the difference between inserting values of data as arrays and inserting them row-by-row is relatively unimportant. At larger array sizes, i.e. above 10000 points, the cost of writing data as individual datapoints starts to become important.\n"
   ]
  },
  {
   "cell_type": "markdown",
   "metadata": {},
   "source": [
    "### Case2: Long experiment time "
   ]
  },
  {
   "cell_type": "code",
   "execution_count": 7,
   "metadata": {},
   "outputs": [
    {
     "name": "stdout",
     "output_type": "stream",
     "text": [
      "Starting experimental run with id: 15. \n",
      "Starting experimental run with id: 16. \n",
      "Starting experimental run with id: 17. \n"
     ]
    },
    {
     "name": "stdout",
     "output_type": "stream",
     "text": [
      "Starting experimental run with id: 18. \n",
      "Starting experimental run with id: 19. \n"
     ]
    },
    {
     "name": "stdout",
     "output_type": "stream",
     "text": [
      "Starting experimental run with id: 20. \n"
     ]
    },
    {
     "name": "stdout",
     "output_type": "stream",
     "text": [
      "Starting experimental run with id: 21. \n"
     ]
    },
    {
     "name": "stdout",
     "output_type": "stream",
     "text": [
      "Starting experimental run with id: 22. \n"
     ]
    },
    {
     "name": "stdout",
     "output_type": "stream",
     "text": [
      "Starting experimental run with id: 23. \n"
     ]
    },
    {
     "name": "stdout",
     "output_type": "stream",
     "text": [
      "Starting experimental run with id: 24. \n"
     ]
    },
    {
     "name": "stdout",
     "output_type": "stream",
     "text": [
      "Starting experimental run with id: 25. \n"
     ]
    },
    {
     "name": "stdout",
     "output_type": "stream",
     "text": [
      "Starting experimental run with id: 26. \n"
     ]
    },
    {
     "name": "stdout",
     "output_type": "stream",
     "text": [
      "Starting experimental run with id: 27. \n"
     ]
    },
    {
     "name": "stdout",
     "output_type": "stream",
     "text": [
      "Starting experimental run with id: 28. \n"
     ]
    }
   ],
   "source": [
    "sizes = [1,500,1000,2000,3000,4000,5000]\n",
    "nreps = 100\n",
    "t_numeric = []\n",
    "t_numeric_add = []\n",
    "t_numeric_run_ids = []\n",
    "t_array = []\n",
    "t_array_add = []\n",
    "t_array_run_ids = []\n",
    "for size in sizes:\n",
    "    tn, tna, run_id_n =  insert_data('numeric', size, nreps=nreps)\n",
    "    t_numeric.append(tn)\n",
    "    t_numeric_add.append(tna)\n",
    "    t_numeric_run_ids.append(run_id_n)\n",
    "\n",
    "    ta, taa, run_id_a =  insert_data('array', size, nreps=nreps)\n",
    "    t_array.append(ta)\n",
    "    t_array_add.append(taa)\n",
    "    t_array_run_ids.append(run_id_a)"
   ]
  },
  {
   "cell_type": "code",
   "execution_count": 8,
   "metadata": {
    "scrolled": true
   },
   "outputs": [
    {
     "data": {
      "image/png": "[encoded data removed]",
      "text/plain": [
       "<Figure size 432x288 with 1 Axes>"
      ]
     },
     "metadata": {
      "needs_background": "light"
     },
     "output_type": "display_data"
    }
   ],
   "source": [
    "fig, ax = plt.subplots(1,1)\n",
    "ax.plot(sizes, t_numeric, 'o-', label='Inserting row-by-row')\n",
    "ax.plot(sizes, t_numeric_add, 'o-', label='Inserting row-by-row: add_result only')\n",
    "ax.plot(sizes, t_array, 'd-', label='Inserting as binary blob')\n",
    "ax.plot(sizes, t_array_add, 'd-', label='Inserting as binary blob: add_result only')\n",
    "ax.legend()\n",
    "ax.set_xlabel('Array length')\n",
    "ax.set_ylabel('Time (s)')\n",
    "fig.tight_layout()"
   ]
  },
  {
   "cell_type": "markdown",
   "metadata": {},
   "source": [
    "However, as we increase the length of the experiment, as seen here by repeating the insertion 100 times, we see a big difference between inserting values of the data row-by-row and inserting it as a binary blob."
   ]
  },
  {
   "cell_type": "markdown",
   "metadata": {},
   "source": [
    "## Loading the data "
   ]
  },
  {
   "cell_type": "code",
   "execution_count": 9,
   "metadata": {},
   "outputs": [],
   "source": [
    "from qcodes.dataset.data_set import load_by_id\n",
    "from qcodes.dataset.data_export import get_data_by_id"
   ]
  },
  {
   "cell_type": "markdown",
   "metadata": {},
   "source": [
    "As usual you can load the data by using the ``load_by_id`` function but you will notice that the different storage methods\n",
    "are reflected in shape of the data as it is retrieved. "
   ]
  },
  {
   "cell_type": "code",
   "execution_count": 10,
   "metadata": {},
   "outputs": [],
   "source": [
    "run_id_n = t_numeric_run_ids[0]\n",
    "run_id_a = t_array_run_ids[0]"
   ]
  },
  {
   "cell_type": "code",
   "execution_count": 11,
   "metadata": {
    "scrolled": true
   },
   "outputs": [
    {
     "data": {
      "text/plain": [
       "{'x1': {'x1': array([0.75837884, 0.75837884, 0.93326855, 0.93326855, 0.04975555,\n",
       "         0.04975555, 0.55840161, 0.55840161, 0.92148086, 0.92148086,\n",
       "         0.78216115, 0.78216115, 0.71257149, 0.71257149, 0.27627027,\n",
       "         0.27627027, 0.81943245, 0.81943245, 0.04094342, 0.04094342,\n",
       "         0.56440321, 0.56440321, 0.48878246, 0.48878246, 0.71506971,\n",
       "         0.71506971, 0.27672659, 0.27672659, 0.21306052, 0.21306052,\n",
       "         0.78706032, 0.78706032, 0.01080647, 0.01080647, 0.28375923,\n",
       "         0.28375923, 0.18007722, 0.18007722, 0.57802819, 0.57802819,\n",
       "         0.5103144 , 0.5103144 , 0.42930173, 0.42930173, 0.92493536,\n",
       "         0.92493536, 0.93655178, 0.93655178, 0.84866354, 0.84866354,\n",
       "         0.9472427 , 0.9472427 , 0.89499604, 0.89499604, 0.75031538,\n",
       "         0.75031538, 0.485621  , 0.485621  , 0.68380573, 0.68380573,\n",
       "         0.63095054, 0.63095054, 0.47778849, 0.47778849, 0.25215615,\n",
       "         0.25215615, 0.81649538, 0.81649538, 0.14589986, 0.14589986,\n",
       "         0.07245359, 0.07245359, 0.49599255, 0.49599255, 0.2088346 ,\n",
       "         0.2088346 , 0.21478004, 0.21478004, 0.37383435, 0.37383435,\n",
       "         0.5280599 , 0.5280599 , 0.37290873, 0.37290873, 0.88813508,\n",
       "         0.88813508, 0.6400604 , 0.6400604 , 0.95593327, 0.95593327,\n",
       "         0.47097416, 0.47097416, 0.09116033, 0.09116033, 0.30824648,\n",
       "         0.30824648, 0.0757315 , 0.0757315 , 0.89068442, 0.89068442,\n",
       "         0.16885882, 0.16885882, 0.04962004, 0.04962004, 0.4165633 ,\n",
       "         0.4165633 , 0.24495748, 0.24495748, 0.85285207, 0.85285207,\n",
       "         0.30278868, 0.30278868, 0.05450467, 0.05450467, 0.81474713,\n",
       "         0.81474713, 0.25786076, 0.25786076, 0.6575731 , 0.6575731 ,\n",
       "         0.66916565, 0.66916565, 0.25947559, 0.25947559, 0.18423752,\n",
       "         0.18423752, 0.49169513, 0.49169513, 0.11969807, 0.11969807,\n",
       "         0.69056793, 0.69056793, 0.15615985, 0.15615985, 0.90451165,\n",
       "         0.90451165, 0.7995424 , 0.7995424 , 0.07305164, 0.07305164,\n",
       "         0.10677419, 0.10677419, 0.9328979 , 0.9328979 , 0.32023367,\n",
       "         0.32023367, 0.17712833, 0.17712833, 0.60062986, 0.60062986,\n",
       "         0.47016033, 0.47016033, 0.63051999, 0.63051999, 0.83954073,\n",
       "         0.83954073, 0.32764619, 0.32764619, 0.76612004, 0.76612004,\n",
       "         0.54817396, 0.54817396, 0.26775351, 0.26775351, 0.98036149,\n",
       "         0.98036149, 0.40730731, 0.40730731, 0.15705228, 0.15705228,\n",
       "         0.38442856, 0.38442856, 0.06074993, 0.06074993, 0.63069295,\n",
       "         0.63069295, 0.05543335, 0.05543335, 0.86186788, 0.86186788,\n",
       "         0.9129781 , 0.9129781 , 0.28136695, 0.28136695, 0.32646709,\n",
       "         0.32646709, 0.24220616, 0.24220616, 0.45744907, 0.45744907,\n",
       "         0.67066135, 0.67066135, 0.69751149, 0.69751149, 0.54663244,\n",
       "         0.54663244, 0.01499662, 0.01499662, 0.69933411, 0.69933411])}}"
      ]
     },
     "execution_count": 11,
     "metadata": {},
     "output_type": "execute_result"
    }
   ],
   "source": [
    "ds = load_by_id(run_id_n)\n",
    "ds.get_parameter_data('x1')"
   ]
  },
  {
   "cell_type": "markdown",
   "metadata": {},
   "source": [
    "And a dataset stored as binary arrays"
   ]
  },
  {
   "cell_type": "code",
   "execution_count": 12,
   "metadata": {
    "scrolled": true
   },
   "outputs": [
    {
     "data": {
      "text/plain": [
       "{'x1': {'x1': array([[0.09846811],\n",
       "         [0.09846811],\n",
       "         [0.11696203],\n",
       "         [0.11696203],\n",
       "         [0.53498183],\n",
       "         [0.53498183],\n",
       "         [0.90192795],\n",
       "         [0.90192795],\n",
       "         [0.25678557],\n",
       "         [0.25678557],\n",
       "         [0.3495477 ],\n",
       "         [0.3495477 ],\n",
       "         [0.21305238],\n",
       "         [0.21305238],\n",
       "         [0.47468183],\n",
       "         [0.47468183],\n",
       "         [0.01163744],\n",
       "         [0.01163744],\n",
       "         [0.05642728],\n",
       "         [0.05642728],\n",
       "         [0.27368567],\n",
       "         [0.27368567],\n",
       "         [0.48909601],\n",
       "         [0.48909601],\n",
       "         [0.72036231],\n",
       "         [0.72036231],\n",
       "         [0.36504856],\n",
       "         [0.36504856],\n",
       "         [0.93438167],\n",
       "         [0.93438167],\n",
       "         [0.60962617],\n",
       "         [0.60962617],\n",
       "         [0.85894351],\n",
       "         [0.85894351],\n",
       "         [0.96538909],\n",
       "         [0.96538909],\n",
       "         [0.1104226 ],\n",
       "         [0.1104226 ],\n",
       "         [0.90784238],\n",
       "         [0.90784238],\n",
       "         [0.36762716],\n",
       "         [0.36762716],\n",
       "         [0.48900124],\n",
       "         [0.48900124],\n",
       "         [0.0166876 ],\n",
       "         [0.0166876 ],\n",
       "         [0.04033576],\n",
       "         [0.04033576],\n",
       "         [0.21154769],\n",
       "         [0.21154769],\n",
       "         [0.78233566],\n",
       "         [0.78233566],\n",
       "         [0.69845335],\n",
       "         [0.69845335],\n",
       "         [0.41062349],\n",
       "         [0.41062349],\n",
       "         [0.32206943],\n",
       "         [0.32206943],\n",
       "         [0.97828479],\n",
       "         [0.97828479],\n",
       "         [0.94317504],\n",
       "         [0.94317504],\n",
       "         [0.59186664],\n",
       "         [0.59186664],\n",
       "         [0.03234496],\n",
       "         [0.03234496],\n",
       "         [0.82348508],\n",
       "         [0.82348508],\n",
       "         [0.02456708],\n",
       "         [0.02456708],\n",
       "         [0.7319077 ],\n",
       "         [0.7319077 ],\n",
       "         [0.95658687],\n",
       "         [0.95658687],\n",
       "         [0.04458326],\n",
       "         [0.04458326],\n",
       "         [0.09206532],\n",
       "         [0.09206532],\n",
       "         [0.05806301],\n",
       "         [0.05806301],\n",
       "         [0.26896923],\n",
       "         [0.26896923],\n",
       "         [0.22394239],\n",
       "         [0.22394239],\n",
       "         [0.90658377],\n",
       "         [0.90658377],\n",
       "         [0.91345367],\n",
       "         [0.91345367],\n",
       "         [0.29581784],\n",
       "         [0.29581784],\n",
       "         [0.16200798],\n",
       "         [0.16200798],\n",
       "         [0.17677075],\n",
       "         [0.17677075],\n",
       "         [0.48091977],\n",
       "         [0.48091977],\n",
       "         [0.52066906],\n",
       "         [0.52066906],\n",
       "         [0.32328073],\n",
       "         [0.32328073],\n",
       "         [0.52007054],\n",
       "         [0.52007054],\n",
       "         [0.2331416 ],\n",
       "         [0.2331416 ],\n",
       "         [0.06501398],\n",
       "         [0.06501398],\n",
       "         [0.44558854],\n",
       "         [0.44558854],\n",
       "         [0.93421399],\n",
       "         [0.93421399],\n",
       "         [0.0568059 ],\n",
       "         [0.0568059 ],\n",
       "         [0.47884633],\n",
       "         [0.47884633],\n",
       "         [0.77726937],\n",
       "         [0.77726937],\n",
       "         [0.78263627],\n",
       "         [0.78263627],\n",
       "         [0.69742411],\n",
       "         [0.69742411],\n",
       "         [0.1906669 ],\n",
       "         [0.1906669 ],\n",
       "         [0.8307919 ],\n",
       "         [0.8307919 ],\n",
       "         [0.86904933],\n",
       "         [0.86904933],\n",
       "         [0.32573578],\n",
       "         [0.32573578],\n",
       "         [0.44870007],\n",
       "         [0.44870007],\n",
       "         [0.80503121],\n",
       "         [0.80503121],\n",
       "         [0.99515477],\n",
       "         [0.99515477],\n",
       "         [0.61229762],\n",
       "         [0.61229762],\n",
       "         [0.48478844],\n",
       "         [0.48478844],\n",
       "         [0.59278112],\n",
       "         [0.59278112],\n",
       "         [0.08401521],\n",
       "         [0.08401521],\n",
       "         [0.07709631],\n",
       "         [0.07709631],\n",
       "         [0.04239965],\n",
       "         [0.04239965],\n",
       "         [0.43975271],\n",
       "         [0.43975271],\n",
       "         [0.28008706],\n",
       "         [0.28008706],\n",
       "         [0.32200225],\n",
       "         [0.32200225],\n",
       "         [0.3932991 ],\n",
       "         [0.3932991 ],\n",
       "         [0.68270483],\n",
       "         [0.68270483],\n",
       "         [0.41023178],\n",
       "         [0.41023178],\n",
       "         [0.54603265],\n",
       "         [0.54603265],\n",
       "         [0.60697091],\n",
       "         [0.60697091],\n",
       "         [0.47659246],\n",
       "         [0.47659246],\n",
       "         [0.0012574 ],\n",
       "         [0.0012574 ],\n",
       "         [0.82431731],\n",
       "         [0.82431731],\n",
       "         [0.78599132],\n",
       "         [0.78599132],\n",
       "         [0.16332736],\n",
       "         [0.16332736],\n",
       "         [0.19064454],\n",
       "         [0.19064454],\n",
       "         [0.39729335],\n",
       "         [0.39729335],\n",
       "         [0.00924882],\n",
       "         [0.00924882],\n",
       "         [0.31417481],\n",
       "         [0.31417481],\n",
       "         [0.09846456],\n",
       "         [0.09846456],\n",
       "         [0.03295147],\n",
       "         [0.03295147],\n",
       "         [0.91367102],\n",
       "         [0.91367102],\n",
       "         [0.75317931],\n",
       "         [0.75317931],\n",
       "         [0.25024432],\n",
       "         [0.25024432],\n",
       "         [0.63138551],\n",
       "         [0.63138551],\n",
       "         [0.93343218],\n",
       "         [0.93343218],\n",
       "         [0.47127813],\n",
       "         [0.47127813],\n",
       "         [0.26105904],\n",
       "         [0.26105904],\n",
       "         [0.3114068 ],\n",
       "         [0.3114068 ]])}}"
      ]
     },
     "execution_count": 12,
     "metadata": {},
     "output_type": "execute_result"
    }
   ],
   "source": [
    "ds = load_by_id(run_id_a)\n",
    "ds.get_parameter_data('x1')"
   ]
  },
  {
   "cell_type": "code",
   "execution_count": null,
   "metadata": {},
   "outputs": [],
   "source": []
  }
 ],
 "metadata": {
  "kernelspec": {
   "display_name": "Python 3",
   "language": "python",
   "name": "python3"
  },
  "language_info": {
   "codemirror_mode": {
    "name": "ipython",
    "version": 3
   },
   "file_extension": ".py",
   "mimetype": "text/x-python",
   "name": "python",
   "nbconvert_exporter": "python",
   "pygments_lexer": "ipython3",
   "version": "3.7.7"
  },
  "nbsphinx": {
   "timeout": 600
  },
  "toc": {
   "base_numbering": 1,
   "nav_menu": {},
   "number_sections": true,
   "sideBar": true,
   "skip_h1_title": false,
   "title_cell": "Table of Contents",
   "title_sidebar": "Contents",
   "toc_cell": false,
   "toc_position": {},
   "toc_section_display": true,
   "toc_window_display": false
  },
  "varInspector": {
   "cols": {
    "lenName": 16,
    "lenType": 16,
    "lenVar": 40
   },
   "kernels_config": {
    "python": {
     "delete_cmd_postfix": "",
     "delete_cmd_prefix": "del ",
     "library": "var_list.py",
     "varRefreshCmd": "print(var_dic_list())"
    },
    "r": {
     "delete_cmd_postfix": ") ",
     "delete_cmd_prefix": "rm(",
     "library": "var_list.r",
     "varRefreshCmd": "cat(var_dic_list()) "
    }
   },
   "types_to_exclude": [
    "module",
    "function",
    "builtin_function_or_method",
    "instance",
    "_Feature"
   ],
   "window_display": false
  }
 },
 "nbformat": 4,
 "nbformat_minor": 2
}
