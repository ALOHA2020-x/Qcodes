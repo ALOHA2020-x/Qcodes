{
 "cells": [
  {
   "cell_type": "markdown",
   "metadata": {},
   "source": [
    "# DataSet Performance\n",
    "\n",
    "This notebook shows the trade-off between inserting data into a database row-by-row and as binary blobs. Inserting the data row-by-row means that we have direct access to all the data and may perform queries directly on the values of the data. On the other hand, as we shall see, this is much slower than inserting the data directly as binary blobs."
   ]
  },
  {
   "cell_type": "markdown",
   "metadata": {},
   "source": [
    "First, we choose a new location for the database to ensure that we don't add a bunch of benchmarking data to the default one."
   ]
  },
  {
   "cell_type": "code",
   "execution_count": 1,
   "metadata": {
    "execution": {
     "iopub.execute_input": "2021-03-23T07:42:17.533301Z",
     "iopub.status.busy": "2021-03-23T07:42:17.532722Z",
     "iopub.status.idle": "2021-03-23T07:42:18.444551Z",
     "shell.execute_reply": "2021-03-23T07:42:18.443954Z"
    }
   },
   "outputs": [
    {
     "name": "stdout",
     "output_type": "stream",
     "text": [
      "Logging hadn't been started.\n",
      "Activating auto-logging. Current session state plus future input saved.\n",
      "Filename       : /home/runner/.qcodes/logs/command_history.log\n",
      "Mode           : append\n",
      "Output logging : True\n",
      "Raw input log  : False\n",
      "Timestamping   : True\n",
      "State          : active\n"
     ]
    },
    {
     "name": "stdout",
     "output_type": "stream",
     "text": [
      "Qcodes Logfile : /home/runner/.qcodes/logs/210323-4565-qcodes.log\n"
     ]
    }
   ],
   "source": [
    "import os\n",
    "cwd = os.getcwd()\n",
    "import qcodes as qc\n",
    "qc.config[\"core\"][\"db_location\"] = os.path.join(cwd, 'testing.db')\n"
   ]
  },
  {
   "cell_type": "code",
   "execution_count": 2,
   "metadata": {
    "execution": {
     "iopub.execute_input": "2021-03-23T07:42:18.452283Z",
     "iopub.status.busy": "2021-03-23T07:42:18.450524Z",
     "iopub.status.idle": "2021-03-23T07:42:18.653326Z",
     "shell.execute_reply": "2021-03-23T07:42:18.652375Z"
    }
   },
   "outputs": [],
   "source": [
    "%matplotlib inline\n",
    "import time\n",
    "import matplotlib.pyplot as plt\n",
    "import numpy as np\n",
    "\n",
    "import qcodes as qc\n",
    "from qcodes.instrument.parameter import ManualParameter\n",
    "from qcodes.dataset.experiment_container import (Experiment,\n",
    "                                                 load_last_experiment,\n",
    "                                                 new_experiment)\n",
    "from qcodes.dataset.sqlite.database import initialise_database\n",
    "from qcodes import load_or_create_experiment\n",
    "from qcodes.dataset.measurements import Measurement"
   ]
  },
  {
   "cell_type": "code",
   "execution_count": 3,
   "metadata": {
    "execution": {
     "iopub.execute_input": "2021-03-23T07:42:18.657917Z",
     "iopub.status.busy": "2021-03-23T07:42:18.657312Z",
     "iopub.status.idle": "2021-03-23T07:42:18.778024Z",
     "shell.execute_reply": "2021-03-23T07:42:18.777520Z"
    }
   },
   "outputs": [
    {
     "name": "stdout",
     "output_type": "stream",
     "text": [
      "\r",
      "0it [00:00, ?it/s]"
     ]
    },
    {
     "name": "stdout",
     "output_type": "stream",
     "text": [
      "\r",
      "Upgrading database; v0 -> v1: : 0it [00:00, ?it/s]"
     ]
    },
    {
     "name": "stdout",
     "output_type": "stream",
     "text": [
      "\r",
      "Upgrading database; v0 -> v1: : 0it [00:00, ?it/s]"
     ]
    },
    {
     "name": "stdout",
     "output_type": "stream",
     "text": [
      "\n",
      "\r",
      "  0%|          | 0/1 [00:00<?, ?it/s]"
     ]
    },
    {
     "name": "stdout",
     "output_type": "stream",
     "text": [
      "\r",
      "Upgrading database; v1 -> v2:   0%|          | 0/1 [00:00<?, ?it/s]"
     ]
    },
    {
     "name": "stdout",
     "output_type": "stream",
     "text": [
      "\r",
      "Upgrading database; v1 -> v2: 100%|██████████| 1/1 [00:00<00:00, 603.84it/s]"
     ]
    },
    {
     "name": "stdout",
     "output_type": "stream",
     "text": [
      "\n",
      "\r",
      "0it [00:00, ?it/s]"
     ]
    },
    {
     "name": "stdout",
     "output_type": "stream",
     "text": [
      "\r",
      "Upgrading database; v2 -> v3: : 0it [00:00, ?it/s]"
     ]
    },
    {
     "name": "stdout",
     "output_type": "stream",
     "text": [
      "\r",
      "Upgrading database; v2 -> v3: : 0it [00:00, ?it/s]"
     ]
    },
    {
     "name": "stdout",
     "output_type": "stream",
     "text": [
      "\n",
      "\r",
      "0it [00:00, ?it/s]"
     ]
    },
    {
     "name": "stdout",
     "output_type": "stream",
     "text": [
      "\r",
      "Upgrading database; v3 -> v4: : 0it [00:00, ?it/s]"
     ]
    },
    {
     "name": "stdout",
     "output_type": "stream",
     "text": [
      "\r",
      "Upgrading database; v3 -> v4: : 0it [00:00, ?it/s]"
     ]
    },
    {
     "name": "stdout",
     "output_type": "stream",
     "text": [
      "\n",
      "\r",
      "  0%|          | 0/1 [00:00<?, ?it/s]"
     ]
    },
    {
     "name": "stdout",
     "output_type": "stream",
     "text": [
      "\r",
      "Upgrading database; v4 -> v5:   0%|          | 0/1 [00:00<?, ?it/s]"
     ]
    },
    {
     "name": "stdout",
     "output_type": "stream",
     "text": [
      "\r",
      "Upgrading database; v4 -> v5: 100%|██████████| 1/1 [00:00<00:00, 384.83it/s]"
     ]
    },
    {
     "name": "stdout",
     "output_type": "stream",
     "text": [
      "\n",
      "\r",
      "0it [00:00, ?it/s]"
     ]
    },
    {
     "name": "stdout",
     "output_type": "stream",
     "text": [
      "\r",
      "Upgrading database; v5 -> v6: : 0it [00:00, ?it/s]"
     ]
    },
    {
     "name": "stdout",
     "output_type": "stream",
     "text": [
      "\r",
      "Upgrading database; v5 -> v6: : 0it [00:00, ?it/s]"
     ]
    },
    {
     "name": "stdout",
     "output_type": "stream",
     "text": [
      "\n",
      "\r",
      "  0%|          | 0/1 [00:00<?, ?it/s]"
     ]
    },
    {
     "name": "stdout",
     "output_type": "stream",
     "text": [
      "\r",
      "Upgrading database; v6 -> v7:   0%|          | 0/1 [00:00<?, ?it/s]"
     ]
    },
    {
     "name": "stdout",
     "output_type": "stream",
     "text": [
      "\r",
      "Upgrading database; v6 -> v7: 100%|██████████| 1/1 [00:00<00:00, 437.68it/s]"
     ]
    },
    {
     "name": "stdout",
     "output_type": "stream",
     "text": [
      "\n",
      "\r",
      "  0%|          | 0/1 [00:00<?, ?it/s]"
     ]
    },
    {
     "name": "stdout",
     "output_type": "stream",
     "text": [
      "\r",
      "Upgrading database; v7 -> v8:   0%|          | 0/1 [00:00<?, ?it/s]"
     ]
    },
    {
     "name": "stdout",
     "output_type": "stream",
     "text": [
      "\r",
      "Upgrading database; v7 -> v8: 100%|██████████| 1/1 [00:00<00:00, 968.66it/s]"
     ]
    },
    {
     "name": "stdout",
     "output_type": "stream",
     "text": [
      "\n",
      "\r",
      "  0%|          | 0/1 [00:00<?, ?it/s]"
     ]
    },
    {
     "name": "stdout",
     "output_type": "stream",
     "text": [
      "\r",
      "Upgrading database; v8 -> v9:   0%|          | 0/1 [00:00<?, ?it/s]"
     ]
    },
    {
     "name": "stdout",
     "output_type": "stream",
     "text": [
      "\r",
      "Upgrading database; v8 -> v9: 100%|██████████| 1/1 [00:00<00:00, 1159.93it/s]"
     ]
    },
    {
     "name": "stdout",
     "output_type": "stream",
     "text": [
      "\n"
     ]
    }
   ],
   "source": [
    "initialise_database()\n",
    "exp = load_or_create_experiment(experiment_name='tutorial_exp', sample_name=\"no sample\")"
   ]
  },
  {
   "cell_type": "markdown",
   "metadata": {},
   "source": [
    "Here, we define a simple function to benchmark the time it takes to insert n points with either numeric or array data type.\n",
    "We will compare both the time used to call ``add_result`` and the time used for the full measurement."
   ]
  },
  {
   "cell_type": "code",
   "execution_count": 4,
   "metadata": {
    "execution": {
     "iopub.execute_input": "2021-03-23T07:42:18.788485Z",
     "iopub.status.busy": "2021-03-23T07:42:18.787045Z",
     "iopub.status.idle": "2021-03-23T07:42:18.789271Z",
     "shell.execute_reply": "2021-03-23T07:42:18.789774Z"
    }
   },
   "outputs": [],
   "source": [
    "def insert_data(paramtype, npoints, nreps=1):\n",
    "\n",
    "    meas = Measurement(exp=exp)\n",
    "\n",
    "    x1 = ManualParameter('x1')\n",
    "    x2 = ManualParameter('x2')\n",
    "    x3 = ManualParameter('x3')\n",
    "    y1 = ManualParameter('y1')\n",
    "    y2 = ManualParameter('y2')\n",
    "\n",
    "    meas.register_parameter(x1, paramtype=paramtype)\n",
    "    meas.register_parameter(x2, paramtype=paramtype)\n",
    "    meas.register_parameter(x3, paramtype=paramtype)\n",
    "    meas.register_parameter(y1, setpoints=[x1, x2, x3],\n",
    "                            paramtype=paramtype)\n",
    "    meas.register_parameter(y2, setpoints=[x1, x2, x3],\n",
    "                            paramtype=paramtype)\n",
    "    start = time.perf_counter()\n",
    "    with meas.run() as datasaver:\n",
    "        start_adding = time.perf_counter()\n",
    "        for i in range(nreps):\n",
    "            datasaver.add_result((x1, np.random.rand(npoints)),\n",
    "                                 (x2, np.random.rand(npoints)),\n",
    "                                 (x3, np.random.rand(npoints)),\n",
    "                                 (y1, np.random.rand(npoints)),\n",
    "                                 (y2, np.random.rand(npoints)))\n",
    "        stop_adding = time.perf_counter()\n",
    "        run_id = datasaver.run_id\n",
    "    stop = time.perf_counter()\n",
    "    tot_time = stop - start\n",
    "    add_time = stop_adding - start_adding\n",
    "    return tot_time, add_time, run_id"
   ]
  },
  {
   "cell_type": "markdown",
   "metadata": {},
   "source": [
    "## Comparison between numeric/array data and binary blob"
   ]
  },
  {
   "cell_type": "markdown",
   "metadata": {},
   "source": [
    "### Case1: Short experiment time"
   ]
  },
  {
   "cell_type": "code",
   "execution_count": 5,
   "metadata": {
    "execution": {
     "iopub.execute_input": "2021-03-23T07:42:18.797032Z",
     "iopub.status.busy": "2021-03-23T07:42:18.796401Z",
     "iopub.status.idle": "2021-03-23T07:42:19.608130Z",
     "shell.execute_reply": "2021-03-23T07:42:19.608594Z"
    }
   },
   "outputs": [
    {
     "name": "stdout",
     "output_type": "stream",
     "text": [
      "Starting experimental run with id: 1. \n",
      "Starting experimental run with id: 2. \n",
      "Starting experimental run with id: 3. \n",
      "Starting experimental run with id: 4. \n",
      "Starting experimental run with id: 5. \n"
     ]
    },
    {
     "name": "stdout",
     "output_type": "stream",
     "text": [
      "Starting experimental run with id: 6. \n"
     ]
    },
    {
     "name": "stdout",
     "output_type": "stream",
     "text": [
      "Starting experimental run with id: 7. "
     ]
    },
    {
     "name": "stdout",
     "output_type": "stream",
     "text": [
      "\n"
     ]
    },
    {
     "name": "stdout",
     "output_type": "stream",
     "text": [
      "Starting experimental run with id: 8. \n",
      "Starting experimental run with id: 9. \n"
     ]
    },
    {
     "name": "stdout",
     "output_type": "stream",
     "text": [
      "Starting experimental run with id: 10. \n",
      "Starting experimental run with id: 11. \n"
     ]
    },
    {
     "name": "stdout",
     "output_type": "stream",
     "text": [
      "Starting experimental run with id: 12. \n",
      "Starting experimental run with id: 13. \n"
     ]
    },
    {
     "name": "stdout",
     "output_type": "stream",
     "text": [
      "Starting experimental run with id: 14. \n"
     ]
    }
   ],
   "source": [
    "sizes = [1,500,1000,2000,3000,4000,5000]\n",
    "t_numeric = []\n",
    "t_numeric_add = []\n",
    "t_array = []\n",
    "t_array_add = []\n",
    "for size in sizes:\n",
    "    tn, tna, run_id_n =  insert_data('numeric', size)\n",
    "    t_numeric.append(tn)\n",
    "    t_numeric_add.append(tna)\n",
    "\n",
    "    ta, taa, run_id_a =  insert_data('array', size)\n",
    "    t_array.append(ta)\n",
    "    t_array_add.append(taa)"
   ]
  },
  {
   "cell_type": "code",
   "execution_count": 6,
   "metadata": {
    "execution": {
     "iopub.execute_input": "2021-03-23T07:42:19.627896Z",
     "iopub.status.busy": "2021-03-23T07:42:19.627257Z",
     "iopub.status.idle": "2021-03-23T07:42:19.816043Z",
     "shell.execute_reply": "2021-03-23T07:42:19.815204Z"
    }
   },
   "outputs": [
    {
     "data": {
      "image/png": "[encoded data removed]",
      "text/plain": [
       "<Figure size 432x288 with 1 Axes>"
      ]
     },
     "metadata": {
      "needs_background": "light"
     },
     "output_type": "display_data"
    }
   ],
   "source": [
    "fig, ax = plt.subplots(1,1)\n",
    "ax.plot(sizes, t_numeric, 'o-', label='Inserting row-by-row')\n",
    "ax.plot(sizes, t_numeric_add, 'o-', label='Inserting row-by-row: add_result only')\n",
    "ax.plot(sizes, t_array, 'd-', label='Inserting as binary blob')\n",
    "ax.plot(sizes, t_array_add, 'd-', label='Inserting as binary blob: add_result only')\n",
    "ax.legend()\n",
    "ax.set_xlabel('Array length')\n",
    "ax.set_ylabel('Time (s)')\n",
    "fig.tight_layout()"
   ]
  },
  {
   "cell_type": "markdown",
   "metadata": {},
   "source": [
    "As shown in the latter figure, the time to setup and and close the experiment is approximately 0.4 sec. In case of small array sizes, the difference between inserting values of data as arrays and inserting them row-by-row is relatively unimportant. At larger array sizes, i.e. above 10000 points, the cost of writing data as individual datapoints starts to become important.\n"
   ]
  },
  {
   "cell_type": "markdown",
   "metadata": {},
   "source": [
    "### Case2: Long experiment time "
   ]
  },
  {
   "cell_type": "code",
   "execution_count": 7,
   "metadata": {
    "execution": {
     "iopub.execute_input": "2021-03-23T07:42:19.823599Z",
     "iopub.status.busy": "2021-03-23T07:42:19.822945Z",
     "iopub.status.idle": "2021-03-23T07:43:20.380946Z",
     "shell.execute_reply": "2021-03-23T07:43:20.381801Z"
    }
   },
   "outputs": [
    {
     "name": "stdout",
     "output_type": "stream",
     "text": [
      "Starting experimental run with id: 15. \n",
      "Starting experimental run with id: 16. \n",
      "Starting experimental run with id: 17. \n"
     ]
    },
    {
     "name": "stdout",
     "output_type": "stream",
     "text": [
      "Starting experimental run with id: 18. \n",
      "Starting experimental run with id: 19. \n"
     ]
    },
    {
     "name": "stdout",
     "output_type": "stream",
     "text": [
      "Starting experimental run with id: 20. \n"
     ]
    },
    {
     "name": "stdout",
     "output_type": "stream",
     "text": [
      "Starting experimental run with id: 21. \n"
     ]
    },
    {
     "name": "stdout",
     "output_type": "stream",
     "text": [
      "Starting experimental run with id: 22. \n"
     ]
    },
    {
     "name": "stdout",
     "output_type": "stream",
     "text": [
      "Starting experimental run with id: 23. \n"
     ]
    },
    {
     "name": "stdout",
     "output_type": "stream",
     "text": [
      "Starting experimental run with id: 24. \n"
     ]
    },
    {
     "name": "stdout",
     "output_type": "stream",
     "text": [
      "Starting experimental run with id: 25. \n"
     ]
    },
    {
     "name": "stdout",
     "output_type": "stream",
     "text": [
      "Starting experimental run with id: 26. \n"
     ]
    },
    {
     "name": "stdout",
     "output_type": "stream",
     "text": [
      "Starting experimental run with id: 27. \n"
     ]
    },
    {
     "name": "stdout",
     "output_type": "stream",
     "text": [
      "Starting experimental run with id: 28. \n"
     ]
    }
   ],
   "source": [
    "sizes = [1,500,1000,2000,3000,4000,5000]\n",
    "nreps = 100\n",
    "t_numeric = []\n",
    "t_numeric_add = []\n",
    "t_numeric_run_ids = []\n",
    "t_array = []\n",
    "t_array_add = []\n",
    "t_array_run_ids = []\n",
    "for size in sizes:\n",
    "    tn, tna, run_id_n =  insert_data('numeric', size, nreps=nreps)\n",
    "    t_numeric.append(tn)\n",
    "    t_numeric_add.append(tna)\n",
    "    t_numeric_run_ids.append(run_id_n)\n",
    "\n",
    "    ta, taa, run_id_a =  insert_data('array', size, nreps=nreps)\n",
    "    t_array.append(ta)\n",
    "    t_array_add.append(taa)\n",
    "    t_array_run_ids.append(run_id_a)"
   ]
  },
  {
   "cell_type": "code",
   "execution_count": 8,
   "metadata": {
    "execution": {
     "iopub.execute_input": "2021-03-23T07:43:20.418061Z",
     "iopub.status.busy": "2021-03-23T07:43:20.401088Z",
     "iopub.status.idle": "2021-03-23T07:43:20.619892Z",
     "shell.execute_reply": "2021-03-23T07:43:20.619338Z"
    },
    "scrolled": true
   },
   "outputs": [
    {
     "data": {
      "image/png": "[encoded data removed]",
      "text/plain": [
       "<Figure size 432x288 with 1 Axes>"
      ]
     },
     "metadata": {
      "needs_background": "light"
     },
     "output_type": "display_data"
    }
   ],
   "source": [
    "fig, ax = plt.subplots(1,1)\n",
    "ax.plot(sizes, t_numeric, 'o-', label='Inserting row-by-row')\n",
    "ax.plot(sizes, t_numeric_add, 'o-', label='Inserting row-by-row: add_result only')\n",
    "ax.plot(sizes, t_array, 'd-', label='Inserting as binary blob')\n",
    "ax.plot(sizes, t_array_add, 'd-', label='Inserting as binary blob: add_result only')\n",
    "ax.legend()\n",
    "ax.set_xlabel('Array length')\n",
    "ax.set_ylabel('Time (s)')\n",
    "fig.tight_layout()"
   ]
  },
  {
   "cell_type": "markdown",
   "metadata": {},
   "source": [
    "However, as we increase the length of the experiment, as seen here by repeating the insertion 100 times, we see a big difference between inserting values of the data row-by-row and inserting it as a binary blob."
   ]
  },
  {
   "cell_type": "markdown",
   "metadata": {},
   "source": [
    "## Loading the data "
   ]
  },
  {
   "cell_type": "code",
   "execution_count": 9,
   "metadata": {
    "execution": {
     "iopub.execute_input": "2021-03-23T07:43:20.624777Z",
     "iopub.status.busy": "2021-03-23T07:43:20.623665Z",
     "iopub.status.idle": "2021-03-23T07:43:20.627076Z",
     "shell.execute_reply": "2021-03-23T07:43:20.626542Z"
    }
   },
   "outputs": [],
   "source": [
    "from qcodes.dataset.data_set import load_by_id\n",
    "from qcodes.dataset.data_export import get_data_by_id"
   ]
  },
  {
   "cell_type": "markdown",
   "metadata": {},
   "source": [
    "As usual you can load the data by using the ``load_by_id`` function but you will notice that the different storage methods\n",
    "are reflected in shape of the data as it is retrieved. "
   ]
  },
  {
   "cell_type": "code",
   "execution_count": 10,
   "metadata": {
    "execution": {
     "iopub.execute_input": "2021-03-23T07:43:20.631327Z",
     "iopub.status.busy": "2021-03-23T07:43:20.630749Z",
     "iopub.status.idle": "2021-03-23T07:43:20.634752Z",
     "shell.execute_reply": "2021-03-23T07:43:20.634252Z"
    }
   },
   "outputs": [],
   "source": [
    "run_id_n = t_numeric_run_ids[0]\n",
    "run_id_a = t_array_run_ids[0]"
   ]
  },
  {
   "cell_type": "code",
   "execution_count": 11,
   "metadata": {
    "execution": {
     "iopub.execute_input": "2021-03-23T07:43:20.638858Z",
     "iopub.status.busy": "2021-03-23T07:43:20.637807Z",
     "iopub.status.idle": "2021-03-23T07:43:20.648961Z",
     "shell.execute_reply": "2021-03-23T07:43:20.649459Z"
    },
    "scrolled": true
   },
   "outputs": [
    {
     "data": {
      "text/plain": [
       "{'x1': {'x1': array([0.05863598, 0.05863598, 0.24170062, 0.24170062, 0.64991153,\n",
       "         0.64991153, 0.98390517, 0.98390517, 0.48457936, 0.48457936,\n",
       "         0.19987608, 0.19987608, 0.04883871, 0.04883871, 0.88105473,\n",
       "         0.88105473, 0.99802344, 0.99802344, 0.9879554 , 0.9879554 ,\n",
       "         0.70921475, 0.70921475, 0.15535071, 0.15535071, 0.65439494,\n",
       "         0.65439494, 0.25574766, 0.25574766, 0.91718851, 0.91718851,\n",
       "         0.99348002, 0.99348002, 0.74479939, 0.74479939, 0.8883484 ,\n",
       "         0.8883484 , 0.72971394, 0.72971394, 0.89974961, 0.89974961,\n",
       "         0.13944456, 0.13944456, 0.90577478, 0.90577478, 0.57238854,\n",
       "         0.57238854, 0.42656681, 0.42656681, 0.71928248, 0.71928248,\n",
       "         0.29514695, 0.29514695, 0.88861484, 0.88861484, 0.54299802,\n",
       "         0.54299802, 0.86436877, 0.86436877, 0.18423795, 0.18423795,\n",
       "         0.13585622, 0.13585622, 0.4090381 , 0.4090381 , 0.39976927,\n",
       "         0.39976927, 0.45244078, 0.45244078, 0.14338781, 0.14338781,\n",
       "         0.27558683, 0.27558683, 0.37699693, 0.37699693, 0.12098745,\n",
       "         0.12098745, 0.81701841, 0.81701841, 0.5203888 , 0.5203888 ,\n",
       "         0.20917559, 0.20917559, 0.81884867, 0.81884867, 0.47843845,\n",
       "         0.47843845, 0.85942496, 0.85942496, 0.07544374, 0.07544374,\n",
       "         0.35106295, 0.35106295, 0.97519037, 0.97519037, 0.03601907,\n",
       "         0.03601907, 0.97639853, 0.97639853, 0.45159451, 0.45159451,\n",
       "         0.34395999, 0.34395999, 0.07196906, 0.07196906, 0.72621664,\n",
       "         0.72621664, 0.02087464, 0.02087464, 0.04362302, 0.04362302,\n",
       "         0.5157647 , 0.5157647 , 0.31750913, 0.31750913, 0.08519583,\n",
       "         0.08519583, 0.31661993, 0.31661993, 0.39422387, 0.39422387,\n",
       "         0.24624986, 0.24624986, 0.13061906, 0.13061906, 0.78048749,\n",
       "         0.78048749, 0.68966061, 0.68966061, 0.08027022, 0.08027022,\n",
       "         0.00498098, 0.00498098, 0.42447563, 0.42447563, 0.13854878,\n",
       "         0.13854878, 0.6802264 , 0.6802264 , 0.01945865, 0.01945865,\n",
       "         0.89978707, 0.89978707, 0.4023599 , 0.4023599 , 0.72895267,\n",
       "         0.72895267, 0.29588175, 0.29588175, 0.60268998, 0.60268998,\n",
       "         0.97547566, 0.97547566, 0.24310433, 0.24310433, 0.14486247,\n",
       "         0.14486247, 0.52644161, 0.52644161, 0.3141094 , 0.3141094 ,\n",
       "         0.73058268, 0.73058268, 0.26002035, 0.26002035, 0.24957707,\n",
       "         0.24957707, 0.26221675, 0.26221675, 0.38977228, 0.38977228,\n",
       "         0.9289816 , 0.9289816 , 0.88690683, 0.88690683, 0.31511362,\n",
       "         0.31511362, 0.06341637, 0.06341637, 0.5290372 , 0.5290372 ,\n",
       "         0.41900973, 0.41900973, 0.09139749, 0.09139749, 0.61053608,\n",
       "         0.61053608, 0.90897769, 0.90897769, 0.35741946, 0.35741946,\n",
       "         0.69777015, 0.69777015, 0.62264301, 0.62264301, 0.27685946,\n",
       "         0.27685946, 0.1278601 , 0.1278601 , 0.52661026, 0.52661026])}}"
      ]
     },
     "execution_count": 1,
     "metadata": {},
     "output_type": "execute_result"
    }
   ],
   "source": [
    "ds = load_by_id(run_id_n)\n",
    "ds.get_parameter_data('x1')"
   ]
  },
  {
   "cell_type": "markdown",
   "metadata": {},
   "source": [
    "And a dataset stored as binary arrays"
   ]
  },
  {
   "cell_type": "code",
   "execution_count": 12,
   "metadata": {
    "execution": {
     "iopub.execute_input": "2021-03-23T07:43:20.657040Z",
     "iopub.status.busy": "2021-03-23T07:43:20.656458Z",
     "iopub.status.idle": "2021-03-23T07:43:20.712463Z",
     "shell.execute_reply": "2021-03-23T07:43:20.712957Z"
    },
    "scrolled": true
   },
   "outputs": [
    {
     "data": {
      "text/plain": [
       "{'x1': {'x1': array([[0.44139672],\n",
       "         [0.44139672],\n",
       "         [0.57145784],\n",
       "         [0.57145784],\n",
       "         [0.03904533],\n",
       "         [0.03904533],\n",
       "         [0.87663552],\n",
       "         [0.87663552],\n",
       "         [0.50844433],\n",
       "         [0.50844433],\n",
       "         [0.08020631],\n",
       "         [0.08020631],\n",
       "         [0.48855039],\n",
       "         [0.48855039],\n",
       "         [0.41434955],\n",
       "         [0.41434955],\n",
       "         [0.9739599 ],\n",
       "         [0.9739599 ],\n",
       "         [0.63510534],\n",
       "         [0.63510534],\n",
       "         [0.90587268],\n",
       "         [0.90587268],\n",
       "         [0.25357874],\n",
       "         [0.25357874],\n",
       "         [0.97025233],\n",
       "         [0.97025233],\n",
       "         [0.68583262],\n",
       "         [0.68583262],\n",
       "         [0.9441291 ],\n",
       "         [0.9441291 ],\n",
       "         [0.23014632],\n",
       "         [0.23014632],\n",
       "         [0.58257364],\n",
       "         [0.58257364],\n",
       "         [0.83534808],\n",
       "         [0.83534808],\n",
       "         [0.92246165],\n",
       "         [0.92246165],\n",
       "         [0.31610823],\n",
       "         [0.31610823],\n",
       "         [0.77336743],\n",
       "         [0.77336743],\n",
       "         [0.03196108],\n",
       "         [0.03196108],\n",
       "         [0.40722933],\n",
       "         [0.40722933],\n",
       "         [0.54596246],\n",
       "         [0.54596246],\n",
       "         [0.03460054],\n",
       "         [0.03460054],\n",
       "         [0.08734494],\n",
       "         [0.08734494],\n",
       "         [0.5508875 ],\n",
       "         [0.5508875 ],\n",
       "         [0.30726428],\n",
       "         [0.30726428],\n",
       "         [0.05795337],\n",
       "         [0.05795337],\n",
       "         [0.38061967],\n",
       "         [0.38061967],\n",
       "         [0.97471729],\n",
       "         [0.97471729],\n",
       "         [0.636798  ],\n",
       "         [0.636798  ],\n",
       "         [0.93099576],\n",
       "         [0.93099576],\n",
       "         [0.83755225],\n",
       "         [0.83755225],\n",
       "         [0.12071241],\n",
       "         [0.12071241],\n",
       "         [0.74258019],\n",
       "         [0.74258019],\n",
       "         [0.44118184],\n",
       "         [0.44118184],\n",
       "         [0.66914195],\n",
       "         [0.66914195],\n",
       "         [0.25470865],\n",
       "         [0.25470865],\n",
       "         [0.64581559],\n",
       "         [0.64581559],\n",
       "         [0.99601648],\n",
       "         [0.99601648],\n",
       "         [0.23362711],\n",
       "         [0.23362711],\n",
       "         [0.12136862],\n",
       "         [0.12136862],\n",
       "         [0.10916963],\n",
       "         [0.10916963],\n",
       "         [0.94988006],\n",
       "         [0.94988006],\n",
       "         [0.13772612],\n",
       "         [0.13772612],\n",
       "         [0.07986466],\n",
       "         [0.07986466],\n",
       "         [0.50828992],\n",
       "         [0.50828992],\n",
       "         [0.53880825],\n",
       "         [0.53880825],\n",
       "         [0.44354048],\n",
       "         [0.44354048],\n",
       "         [0.61208209],\n",
       "         [0.61208209],\n",
       "         [0.0886998 ],\n",
       "         [0.0886998 ],\n",
       "         [0.38204535],\n",
       "         [0.38204535],\n",
       "         [0.76196935],\n",
       "         [0.76196935],\n",
       "         [0.03427978],\n",
       "         [0.03427978],\n",
       "         [0.29660611],\n",
       "         [0.29660611],\n",
       "         [0.8225938 ],\n",
       "         [0.8225938 ],\n",
       "         [0.58337252],\n",
       "         [0.58337252],\n",
       "         [0.65766189],\n",
       "         [0.65766189],\n",
       "         [0.03622404],\n",
       "         [0.03622404],\n",
       "         [0.15901365],\n",
       "         [0.15901365],\n",
       "         [0.89365767],\n",
       "         [0.89365767],\n",
       "         [0.03142235],\n",
       "         [0.03142235],\n",
       "         [0.63155897],\n",
       "         [0.63155897],\n",
       "         [0.28018015],\n",
       "         [0.28018015],\n",
       "         [0.9924984 ],\n",
       "         [0.9924984 ],\n",
       "         [0.9663459 ],\n",
       "         [0.9663459 ],\n",
       "         [0.38347157],\n",
       "         [0.38347157],\n",
       "         [0.55404398],\n",
       "         [0.55404398],\n",
       "         [0.55031469],\n",
       "         [0.55031469],\n",
       "         [0.21369387],\n",
       "         [0.21369387],\n",
       "         [0.15628789],\n",
       "         [0.15628789],\n",
       "         [0.87601629],\n",
       "         [0.87601629],\n",
       "         [0.92159847],\n",
       "         [0.92159847],\n",
       "         [0.28544759],\n",
       "         [0.28544759],\n",
       "         [0.16771131],\n",
       "         [0.16771131],\n",
       "         [0.88795492],\n",
       "         [0.88795492],\n",
       "         [0.79865923],\n",
       "         [0.79865923],\n",
       "         [0.62928218],\n",
       "         [0.62928218],\n",
       "         [0.10732449],\n",
       "         [0.10732449],\n",
       "         [0.46690556],\n",
       "         [0.46690556],\n",
       "         [0.34214634],\n",
       "         [0.34214634],\n",
       "         [0.34784215],\n",
       "         [0.34784215],\n",
       "         [0.36728392],\n",
       "         [0.36728392],\n",
       "         [0.34675649],\n",
       "         [0.34675649],\n",
       "         [0.99987915],\n",
       "         [0.99987915],\n",
       "         [0.07381469],\n",
       "         [0.07381469],\n",
       "         [0.61551502],\n",
       "         [0.61551502],\n",
       "         [0.67220592],\n",
       "         [0.67220592],\n",
       "         [0.94513785],\n",
       "         [0.94513785],\n",
       "         [0.05589561],\n",
       "         [0.05589561],\n",
       "         [0.06645273],\n",
       "         [0.06645273],\n",
       "         [0.1356644 ],\n",
       "         [0.1356644 ],\n",
       "         [0.22031095],\n",
       "         [0.22031095],\n",
       "         [0.12799697],\n",
       "         [0.12799697],\n",
       "         [0.04170902],\n",
       "         [0.04170902],\n",
       "         [0.64913684],\n",
       "         [0.64913684],\n",
       "         [0.4930727 ],\n",
       "         [0.4930727 ],\n",
       "         [0.33239613],\n",
       "         [0.33239613],\n",
       "         [0.79849152],\n",
       "         [0.79849152]])}}"
      ]
     },
     "execution_count": 1,
     "metadata": {},
     "output_type": "execute_result"
    }
   ],
   "source": [
    "ds = load_by_id(run_id_a)\n",
    "ds.get_parameter_data('x1')"
   ]
  },
  {
   "cell_type": "code",
   "execution_count": null,
   "metadata": {},
   "outputs": [],
   "source": []
  }
 ],
 "metadata": {
  "kernelspec": {
   "display_name": "Python 3",
   "language": "python",
   "name": "python3"
  },
  "language_info": {
   "codemirror_mode": {
    "name": "ipython",
    "version": 3
   },
   "file_extension": ".py",
   "mimetype": "text/x-python",
   "name": "python",
   "nbconvert_exporter": "python",
   "pygments_lexer": "ipython3",
   "version": "3.7.10"
  },
  "nbsphinx": {
   "timeout": 600
  },
  "toc": {
   "base_numbering": 1,
   "nav_menu": {},
   "number_sections": true,
   "sideBar": true,
   "skip_h1_title": false,
   "title_cell": "Table of Contents",
   "title_sidebar": "Contents",
   "toc_cell": false,
   "toc_position": {},
   "toc_section_display": true,
   "toc_window_display": false
  },
  "varInspector": {
   "cols": {
    "lenName": 16,
    "lenType": 16,
    "lenVar": 40
   },
   "kernels_config": {
    "python": {
     "delete_cmd_postfix": "",
     "delete_cmd_prefix": "del ",
     "library": "var_list.py",
     "varRefreshCmd": "print(var_dic_list())"
    },
    "r": {
     "delete_cmd_postfix": ") ",
     "delete_cmd_prefix": "rm(",
     "library": "var_list.r",
     "varRefreshCmd": "cat(var_dic_list()) "
    }
   },
   "types_to_exclude": [
    "module",
    "function",
    "builtin_function_or_method",
    "instance",
    "_Feature"
   ],
   "window_display": false
  }
 },
 "nbformat": 4,
 "nbformat_minor": 2
}
