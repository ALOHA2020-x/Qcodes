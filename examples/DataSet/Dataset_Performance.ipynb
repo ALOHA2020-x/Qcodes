{
 "cells": [
  {
   "cell_type": "markdown",
   "metadata": {},
   "source": [
    "# DataSet Performance\n",
    "\n",
    "This notebook shows the trade-off between inserting data into a database row-by-row and as binary blobs. Inserting the data row-by-row means that we have direct access to all the data and may perform queries directly on the values of the data. On the other hand, as we shall see, this is much slower than inserting the data directly as binary blobs."
   ]
  },
  {
   "cell_type": "markdown",
   "metadata": {},
   "source": [
    "First, we choose a new location for the database to ensure that we don't add a bunch of benchmarking data to the default one."
   ]
  },
  {
   "cell_type": "code",
   "execution_count": 1,
   "metadata": {
    "execution": {
     "iopub.execute_input": "2021-04-21T14:38:15.397744Z",
     "iopub.status.busy": "2021-04-21T14:38:15.397271Z",
     "iopub.status.idle": "2021-04-21T14:38:16.416111Z",
     "shell.execute_reply": "2021-04-21T14:38:16.415502Z"
    }
   },
   "outputs": [
    {
     "name": "stdout",
     "output_type": "stream",
     "text": [
      "Logging hadn't been started.\n",
      "Activating auto-logging. Current session state plus future input saved.\n",
      "Filename       : /home/runner/.qcodes/logs/command_history.log\n",
      "Mode           : append\n",
      "Output logging : True\n",
      "Raw input log  : False\n",
      "Timestamping   : True\n",
      "State          : active\n"
     ]
    },
    {
     "name": "stdout",
     "output_type": "stream",
     "text": [
      "Qcodes Logfile : /home/runner/.qcodes/logs/210421-4538-qcodes.log\n"
     ]
    }
   ],
   "source": [
    "import os\n",
    "cwd = os.getcwd()\n",
    "import qcodes as qc\n",
    "qc.config[\"core\"][\"db_location\"] = os.path.join(cwd, 'testing.db')\n"
   ]
  },
  {
   "cell_type": "code",
   "execution_count": 2,
   "metadata": {
    "execution": {
     "iopub.execute_input": "2021-04-21T14:38:16.422031Z",
     "iopub.status.busy": "2021-04-21T14:38:16.421472Z",
     "iopub.status.idle": "2021-04-21T14:38:16.600660Z",
     "shell.execute_reply": "2021-04-21T14:38:16.599753Z"
    }
   },
   "outputs": [],
   "source": [
    "%matplotlib inline\n",
    "import time\n",
    "import matplotlib.pyplot as plt\n",
    "import numpy as np\n",
    "\n",
    "import qcodes as qc\n",
    "from qcodes.instrument.parameter import ManualParameter\n",
    "from qcodes.dataset.experiment_container import (Experiment,\n",
    "                                                 load_last_experiment,\n",
    "                                                 new_experiment)\n",
    "from qcodes.dataset.sqlite.database import initialise_database\n",
    "from qcodes import load_or_create_experiment\n",
    "from qcodes.dataset.measurements import Measurement"
   ]
  },
  {
   "cell_type": "code",
   "execution_count": 3,
   "metadata": {
    "execution": {
     "iopub.execute_input": "2021-04-21T14:38:16.604165Z",
     "iopub.status.busy": "2021-04-21T14:38:16.603588Z",
     "iopub.status.idle": "2021-04-21T14:38:16.716420Z",
     "shell.execute_reply": "2021-04-21T14:38:16.716834Z"
    }
   },
   "outputs": [
    {
     "name": "stdout",
     "output_type": "stream",
     "text": [
      "\r",
      "0it [00:00, ?it/s]"
     ]
    },
    {
     "name": "stdout",
     "output_type": "stream",
     "text": [
      "\r",
      "Upgrading database; v0 -> v1: : 0it [00:00, ?it/s]"
     ]
    },
    {
     "name": "stdout",
     "output_type": "stream",
     "text": [
      "\r",
      "Upgrading database; v0 -> v1: : 0it [00:00, ?it/s]"
     ]
    },
    {
     "name": "stdout",
     "output_type": "stream",
     "text": [
      "\n",
      "\r",
      "  0%|          | 0/1 [00:00<?, ?it/s]"
     ]
    },
    {
     "name": "stdout",
     "output_type": "stream",
     "text": [
      "\r",
      "Upgrading database; v1 -> v2:   0%|          | 0/1 [00:00<?, ?it/s]"
     ]
    },
    {
     "name": "stdout",
     "output_type": "stream",
     "text": [
      "\r",
      "Upgrading database; v1 -> v2: 100%|██████████| 1/1 [00:00<00:00, 504.79it/s]"
     ]
    },
    {
     "name": "stdout",
     "output_type": "stream",
     "text": [
      "\n",
      "\r",
      "0it [00:00, ?it/s]"
     ]
    },
    {
     "name": "stdout",
     "output_type": "stream",
     "text": [
      "\r",
      "Upgrading database; v2 -> v3: : 0it [00:00, ?it/s]"
     ]
    },
    {
     "name": "stdout",
     "output_type": "stream",
     "text": [
      "\r",
      "Upgrading database; v2 -> v3: : 0it [00:00, ?it/s]"
     ]
    },
    {
     "name": "stdout",
     "output_type": "stream",
     "text": [
      "\n",
      "\r",
      "0it [00:00, ?it/s]"
     ]
    },
    {
     "name": "stdout",
     "output_type": "stream",
     "text": [
      "\r",
      "Upgrading database; v3 -> v4: : 0it [00:00, ?it/s]"
     ]
    },
    {
     "name": "stdout",
     "output_type": "stream",
     "text": [
      "\r",
      "Upgrading database; v3 -> v4: : 0it [00:00, ?it/s]"
     ]
    },
    {
     "name": "stdout",
     "output_type": "stream",
     "text": [
      "\n",
      "\r",
      "  0%|          | 0/1 [00:00<?, ?it/s]"
     ]
    },
    {
     "name": "stdout",
     "output_type": "stream",
     "text": [
      "\r",
      "Upgrading database; v4 -> v5:   0%|          | 0/1 [00:00<?, ?it/s]"
     ]
    },
    {
     "name": "stdout",
     "output_type": "stream",
     "text": [
      "\r",
      "Upgrading database; v4 -> v5: 100%|██████████| 1/1 [00:00<00:00, 1028.77it/s]"
     ]
    },
    {
     "name": "stdout",
     "output_type": "stream",
     "text": [
      "\n",
      "\r",
      "0it [00:00, ?it/s]"
     ]
    },
    {
     "name": "stdout",
     "output_type": "stream",
     "text": [
      "\r",
      "Upgrading database; v5 -> v6: : 0it [00:00, ?it/s]"
     ]
    },
    {
     "name": "stdout",
     "output_type": "stream",
     "text": [
      "\r",
      "Upgrading database; v5 -> v6: : 0it [00:00, ?it/s]"
     ]
    },
    {
     "name": "stdout",
     "output_type": "stream",
     "text": [
      "\n",
      "\r",
      "  0%|          | 0/1 [00:00<?, ?it/s]"
     ]
    },
    {
     "name": "stdout",
     "output_type": "stream",
     "text": [
      "\r",
      "Upgrading database; v6 -> v7:   0%|          | 0/1 [00:00<?, ?it/s]"
     ]
    },
    {
     "name": "stdout",
     "output_type": "stream",
     "text": [
      "\r",
      "Upgrading database; v6 -> v7: 100%|██████████| 1/1 [00:00<00:00, 342.06it/s]"
     ]
    },
    {
     "name": "stdout",
     "output_type": "stream",
     "text": [
      "\n",
      "\r",
      "  0%|          | 0/1 [00:00<?, ?it/s]"
     ]
    },
    {
     "name": "stdout",
     "output_type": "stream",
     "text": [
      "\r",
      "Upgrading database; v7 -> v8:   0%|          | 0/1 [00:00<?, ?it/s]"
     ]
    },
    {
     "name": "stdout",
     "output_type": "stream",
     "text": [
      "\r",
      "Upgrading database; v7 -> v8: 100%|██████████| 1/1 [00:00<00:00, 515.08it/s]"
     ]
    },
    {
     "name": "stdout",
     "output_type": "stream",
     "text": [
      "\n",
      "\r",
      "  0%|          | 0/1 [00:00<?, ?it/s]"
     ]
    },
    {
     "name": "stdout",
     "output_type": "stream",
     "text": [
      "\r",
      "Upgrading database; v8 -> v9:   0%|          | 0/1 [00:00<?, ?it/s]"
     ]
    },
    {
     "name": "stdout",
     "output_type": "stream",
     "text": [
      "\r",
      "Upgrading database; v8 -> v9: 100%|██████████| 1/1 [00:00<00:00, 495.90it/s]"
     ]
    },
    {
     "name": "stdout",
     "output_type": "stream",
     "text": [
      "\n"
     ]
    }
   ],
   "source": [
    "initialise_database()\n",
    "exp = load_or_create_experiment(experiment_name='tutorial_exp', sample_name=\"no sample\")"
   ]
  },
  {
   "cell_type": "markdown",
   "metadata": {},
   "source": [
    "Here, we define a simple function to benchmark the time it takes to insert n points with either numeric or array data type.\n",
    "We will compare both the time used to call ``add_result`` and the time used for the full measurement."
   ]
  },
  {
   "cell_type": "code",
   "execution_count": 4,
   "metadata": {
    "execution": {
     "iopub.execute_input": "2021-04-21T14:38:16.724914Z",
     "iopub.status.busy": "2021-04-21T14:38:16.724415Z",
     "iopub.status.idle": "2021-04-21T14:38:16.727623Z",
     "shell.execute_reply": "2021-04-21T14:38:16.727201Z"
    }
   },
   "outputs": [],
   "source": [
    "def insert_data(paramtype, npoints, nreps=1):\n",
    "\n",
    "    meas = Measurement(exp=exp)\n",
    "\n",
    "    x1 = ManualParameter('x1')\n",
    "    x2 = ManualParameter('x2')\n",
    "    x3 = ManualParameter('x3')\n",
    "    y1 = ManualParameter('y1')\n",
    "    y2 = ManualParameter('y2')\n",
    "\n",
    "    meas.register_parameter(x1, paramtype=paramtype)\n",
    "    meas.register_parameter(x2, paramtype=paramtype)\n",
    "    meas.register_parameter(x3, paramtype=paramtype)\n",
    "    meas.register_parameter(y1, setpoints=[x1, x2, x3],\n",
    "                            paramtype=paramtype)\n",
    "    meas.register_parameter(y2, setpoints=[x1, x2, x3],\n",
    "                            paramtype=paramtype)\n",
    "    start = time.perf_counter()\n",
    "    with meas.run() as datasaver:\n",
    "        start_adding = time.perf_counter()\n",
    "        for i in range(nreps):\n",
    "            datasaver.add_result((x1, np.random.rand(npoints)),\n",
    "                                 (x2, np.random.rand(npoints)),\n",
    "                                 (x3, np.random.rand(npoints)),\n",
    "                                 (y1, np.random.rand(npoints)),\n",
    "                                 (y2, np.random.rand(npoints)))\n",
    "        stop_adding = time.perf_counter()\n",
    "        run_id = datasaver.run_id\n",
    "    stop = time.perf_counter()\n",
    "    tot_time = stop - start\n",
    "    add_time = stop_adding - start_adding\n",
    "    return tot_time, add_time, run_id"
   ]
  },
  {
   "cell_type": "markdown",
   "metadata": {},
   "source": [
    "## Comparison between numeric/array data and binary blob"
   ]
  },
  {
   "cell_type": "markdown",
   "metadata": {},
   "source": [
    "### Case1: Short experiment time"
   ]
  },
  {
   "cell_type": "code",
   "execution_count": 5,
   "metadata": {
    "execution": {
     "iopub.execute_input": "2021-04-21T14:38:16.733775Z",
     "iopub.status.busy": "2021-04-21T14:38:16.733277Z",
     "iopub.status.idle": "2021-04-21T14:38:17.390414Z",
     "shell.execute_reply": "2021-04-21T14:38:17.390796Z"
    }
   },
   "outputs": [
    {
     "name": "stdout",
     "output_type": "stream",
     "text": [
      "Starting experimental run with id: 1. \n",
      "Starting experimental run with id: 2. \n",
      "Starting experimental run with id: 3. \n",
      "Starting experimental run with id: 4. \n",
      "Starting experimental run with id: 5. \n",
      "Starting experimental run with id: 6. \n"
     ]
    },
    {
     "name": "stdout",
     "output_type": "stream",
     "text": [
      "Starting experimental run with id: 7. \n"
     ]
    },
    {
     "name": "stdout",
     "output_type": "stream",
     "text": [
      "Starting experimental run with id: 8. \n"
     ]
    },
    {
     "name": "stdout",
     "output_type": "stream",
     "text": [
      "Starting experimental run with id: 9. \n",
      "Starting experimental run with id: 10. \n"
     ]
    },
    {
     "name": "stdout",
     "output_type": "stream",
     "text": [
      "Starting experimental run with id: 11. \n"
     ]
    },
    {
     "name": "stdout",
     "output_type": "stream",
     "text": [
      "Starting experimental run with id: 12. \n",
      "Starting experimental run with id: 13. \n"
     ]
    },
    {
     "name": "stdout",
     "output_type": "stream",
     "text": [
      "Starting experimental run with id: 14. \n"
     ]
    }
   ],
   "source": [
    "sizes = [1,500,1000,2000,3000,4000,5000]\n",
    "t_numeric = []\n",
    "t_numeric_add = []\n",
    "t_array = []\n",
    "t_array_add = []\n",
    "for size in sizes:\n",
    "    tn, tna, run_id_n =  insert_data('numeric', size)\n",
    "    t_numeric.append(tn)\n",
    "    t_numeric_add.append(tna)\n",
    "\n",
    "    ta, taa, run_id_a =  insert_data('array', size)\n",
    "    t_array.append(ta)\n",
    "    t_array_add.append(taa)"
   ]
  },
  {
   "cell_type": "code",
   "execution_count": 6,
   "metadata": {
    "execution": {
     "iopub.execute_input": "2021-04-21T14:38:17.416605Z",
     "iopub.status.busy": "2021-04-21T14:38:17.406772Z",
     "iopub.status.idle": "2021-04-21T14:38:17.569642Z",
     "shell.execute_reply": "2021-04-21T14:38:17.569205Z"
    }
   },
   "outputs": [
    {
     "data": {
      "image/png": "[encoded data removed]",
      "text/plain": [
       "<Figure size 432x288 with 1 Axes>"
      ]
     },
     "metadata": {
      "needs_background": "light"
     },
     "output_type": "display_data"
    }
   ],
   "source": [
    "fig, ax = plt.subplots(1,1)\n",
    "ax.plot(sizes, t_numeric, 'o-', label='Inserting row-by-row')\n",
    "ax.plot(sizes, t_numeric_add, 'o-', label='Inserting row-by-row: add_result only')\n",
    "ax.plot(sizes, t_array, 'd-', label='Inserting as binary blob')\n",
    "ax.plot(sizes, t_array_add, 'd-', label='Inserting as binary blob: add_result only')\n",
    "ax.legend()\n",
    "ax.set_xlabel('Array length')\n",
    "ax.set_ylabel('Time (s)')\n",
    "fig.tight_layout()"
   ]
  },
  {
   "cell_type": "markdown",
   "metadata": {},
   "source": [
    "As shown in the latter figure, the time to setup and and close the experiment is approximately 0.4 sec. In case of small array sizes, the difference between inserting values of data as arrays and inserting them row-by-row is relatively unimportant. At larger array sizes, i.e. above 10000 points, the cost of writing data as individual datapoints starts to become important.\n"
   ]
  },
  {
   "cell_type": "markdown",
   "metadata": {},
   "source": [
    "### Case2: Long experiment time "
   ]
  },
  {
   "cell_type": "code",
   "execution_count": 7,
   "metadata": {
    "execution": {
     "iopub.execute_input": "2021-04-21T14:38:17.575725Z",
     "iopub.status.busy": "2021-04-21T14:38:17.575047Z",
     "iopub.status.idle": "2021-04-21T14:39:07.101494Z",
     "shell.execute_reply": "2021-04-21T14:39:07.100593Z"
    }
   },
   "outputs": [
    {
     "name": "stdout",
     "output_type": "stream",
     "text": [
      "Starting experimental run with id: 15. \n",
      "Starting experimental run with id: 16. \n",
      "Starting experimental run with id: 17. \n"
     ]
    },
    {
     "name": "stdout",
     "output_type": "stream",
     "text": [
      "Starting experimental run with id: 18. \n",
      "Starting experimental run with id: 19. \n"
     ]
    },
    {
     "name": "stdout",
     "output_type": "stream",
     "text": [
      "Starting experimental run with id: 20. \n"
     ]
    },
    {
     "name": "stdout",
     "output_type": "stream",
     "text": [
      "Starting experimental run with id: 21. \n"
     ]
    },
    {
     "name": "stdout",
     "output_type": "stream",
     "text": [
      "Starting experimental run with id: 22. \n"
     ]
    },
    {
     "name": "stdout",
     "output_type": "stream",
     "text": [
      "Starting experimental run with id: 23. \n"
     ]
    },
    {
     "name": "stdout",
     "output_type": "stream",
     "text": [
      "Starting experimental run with id: 24. \n"
     ]
    },
    {
     "name": "stdout",
     "output_type": "stream",
     "text": [
      "Starting experimental run with id: 25. \n"
     ]
    },
    {
     "name": "stdout",
     "output_type": "stream",
     "text": [
      "Starting experimental run with id: 26. \n"
     ]
    },
    {
     "name": "stdout",
     "output_type": "stream",
     "text": [
      "Starting experimental run with id: 27. \n"
     ]
    },
    {
     "name": "stdout",
     "output_type": "stream",
     "text": [
      "Starting experimental run with id: 28. \n"
     ]
    }
   ],
   "source": [
    "sizes = [1,500,1000,2000,3000,4000,5000]\n",
    "nreps = 100\n",
    "t_numeric = []\n",
    "t_numeric_add = []\n",
    "t_numeric_run_ids = []\n",
    "t_array = []\n",
    "t_array_add = []\n",
    "t_array_run_ids = []\n",
    "for size in sizes:\n",
    "    tn, tna, run_id_n =  insert_data('numeric', size, nreps=nreps)\n",
    "    t_numeric.append(tn)\n",
    "    t_numeric_add.append(tna)\n",
    "    t_numeric_run_ids.append(run_id_n)\n",
    "\n",
    "    ta, taa, run_id_a =  insert_data('array', size, nreps=nreps)\n",
    "    t_array.append(ta)\n",
    "    t_array_add.append(taa)\n",
    "    t_array_run_ids.append(run_id_a)"
   ]
  },
  {
   "cell_type": "code",
   "execution_count": 8,
   "metadata": {
    "execution": {
     "iopub.execute_input": "2021-04-21T14:39:07.127528Z",
     "iopub.status.busy": "2021-04-21T14:39:07.117126Z",
     "iopub.status.idle": "2021-04-21T14:39:07.265428Z",
     "shell.execute_reply": "2021-04-21T14:39:07.265833Z"
    },
    "scrolled": true
   },
   "outputs": [
    {
     "data": {
      "image/png": "[encoded data removed]",
      "text/plain": [
       "<Figure size 432x288 with 1 Axes>"
      ]
     },
     "metadata": {
      "needs_background": "light"
     },
     "output_type": "display_data"
    }
   ],
   "source": [
    "fig, ax = plt.subplots(1,1)\n",
    "ax.plot(sizes, t_numeric, 'o-', label='Inserting row-by-row')\n",
    "ax.plot(sizes, t_numeric_add, 'o-', label='Inserting row-by-row: add_result only')\n",
    "ax.plot(sizes, t_array, 'd-', label='Inserting as binary blob')\n",
    "ax.plot(sizes, t_array_add, 'd-', label='Inserting as binary blob: add_result only')\n",
    "ax.legend()\n",
    "ax.set_xlabel('Array length')\n",
    "ax.set_ylabel('Time (s)')\n",
    "fig.tight_layout()"
   ]
  },
  {
   "cell_type": "markdown",
   "metadata": {},
   "source": [
    "However, as we increase the length of the experiment, as seen here by repeating the insertion 100 times, we see a big difference between inserting values of the data row-by-row and inserting it as a binary blob."
   ]
  },
  {
   "cell_type": "markdown",
   "metadata": {},
   "source": [
    "## Loading the data "
   ]
  },
  {
   "cell_type": "code",
   "execution_count": 9,
   "metadata": {
    "execution": {
     "iopub.execute_input": "2021-04-21T14:39:07.269487Z",
     "iopub.status.busy": "2021-04-21T14:39:07.269011Z",
     "iopub.status.idle": "2021-04-21T14:39:07.270648Z",
     "shell.execute_reply": "2021-04-21T14:39:07.271109Z"
    }
   },
   "outputs": [],
   "source": [
    "from qcodes.dataset.data_set import load_by_id"
   ]
  },
  {
   "cell_type": "markdown",
   "metadata": {},
   "source": [
    "As usual you can load the data by using the ``load_by_id`` function but you will notice that the different storage methods\n",
    "are reflected in shape of the data as it is retrieved. "
   ]
  },
  {
   "cell_type": "code",
   "execution_count": 10,
   "metadata": {
    "execution": {
     "iopub.execute_input": "2021-04-21T14:39:07.274459Z",
     "iopub.status.busy": "2021-04-21T14:39:07.273990Z",
     "iopub.status.idle": "2021-04-21T14:39:07.275810Z",
     "shell.execute_reply": "2021-04-21T14:39:07.276183Z"
    }
   },
   "outputs": [],
   "source": [
    "run_id_n = t_numeric_run_ids[0]\n",
    "run_id_a = t_array_run_ids[0]"
   ]
  },
  {
   "cell_type": "code",
   "execution_count": 11,
   "metadata": {
    "execution": {
     "iopub.execute_input": "2021-04-21T14:39:07.279101Z",
     "iopub.status.busy": "2021-04-21T14:39:07.278635Z",
     "iopub.status.idle": "2021-04-21T14:39:07.286834Z",
     "shell.execute_reply": "2021-04-21T14:39:07.287197Z"
    },
    "scrolled": true
   },
   "outputs": [
    {
     "data": {
      "text/plain": [
       "{'x1': {'x1': array([0.77695456, 0.77695456, 0.63193611, 0.63193611, 0.73247833,\n",
       "         0.73247833, 0.18974723, 0.18974723, 0.31845761, 0.31845761,\n",
       "         0.79921036, 0.79921036, 0.10371103, 0.10371103, 0.78385524,\n",
       "         0.78385524, 0.40680602, 0.40680602, 0.4375927 , 0.4375927 ,\n",
       "         0.01916766, 0.01916766, 0.3621172 , 0.3621172 , 0.42397521,\n",
       "         0.42397521, 0.20164052, 0.20164052, 0.58824118, 0.58824118,\n",
       "         0.23231657, 0.23231657, 0.07317437, 0.07317437, 0.11258529,\n",
       "         0.11258529, 0.66469896, 0.66469896, 0.03565743, 0.03565743,\n",
       "         0.90274081, 0.90274081, 0.06995041, 0.06995041, 0.4888892 ,\n",
       "         0.4888892 , 0.60721192, 0.60721192, 0.98859457, 0.98859457,\n",
       "         0.2732168 , 0.2732168 , 0.5874863 , 0.5874863 , 0.21017594,\n",
       "         0.21017594, 0.89623727, 0.89623727, 0.75122182, 0.75122182,\n",
       "         0.84439962, 0.84439962, 0.69278021, 0.69278021, 0.0945205 ,\n",
       "         0.0945205 , 0.28916484, 0.28916484, 0.6323719 , 0.6323719 ,\n",
       "         0.87203619, 0.87203619, 0.66183621, 0.66183621, 0.86704058,\n",
       "         0.86704058, 0.51090954, 0.51090954, 0.00616496, 0.00616496,\n",
       "         0.71074477, 0.71074477, 0.6245825 , 0.6245825 , 0.27961134,\n",
       "         0.27961134, 0.91174431, 0.91174431, 0.33913655, 0.33913655,\n",
       "         0.84704061, 0.84704061, 0.08156329, 0.08156329, 0.63918258,\n",
       "         0.63918258, 0.42759447, 0.42759447, 0.39506864, 0.39506864,\n",
       "         0.87856191, 0.87856191, 0.44422045, 0.44422045, 0.00656756,\n",
       "         0.00656756, 0.44407145, 0.44407145, 0.31470984, 0.31470984,\n",
       "         0.77118056, 0.77118056, 0.30673824, 0.30673824, 0.77483982,\n",
       "         0.77483982, 0.64815055, 0.64815055, 0.22563182, 0.22563182,\n",
       "         0.94310898, 0.94310898, 0.56744957, 0.56744957, 0.47463816,\n",
       "         0.47463816, 0.89488269, 0.89488269, 0.51038952, 0.51038952,\n",
       "         0.57855756, 0.57855756, 0.54946122, 0.54946122, 0.61296658,\n",
       "         0.61296658, 0.34851166, 0.34851166, 0.44337217, 0.44337217,\n",
       "         0.84178676, 0.84178676, 0.9671008 , 0.9671008 , 0.37112639,\n",
       "         0.37112639, 0.44251477, 0.44251477, 0.49699791, 0.49699791,\n",
       "         0.33189477, 0.33189477, 0.88442717, 0.88442717, 0.42737052,\n",
       "         0.42737052, 0.3002287 , 0.3002287 , 0.15168223, 0.15168223,\n",
       "         0.92244172, 0.92244172, 0.59214798, 0.59214798, 0.7997203 ,\n",
       "         0.7997203 , 0.01602447, 0.01602447, 0.86140725, 0.86140725,\n",
       "         0.40593894, 0.40593894, 0.78451595, 0.78451595, 0.15794014,\n",
       "         0.15794014, 0.77036251, 0.77036251, 0.01701298, 0.01701298,\n",
       "         0.81338117, 0.81338117, 0.41799504, 0.41799504, 0.12035888,\n",
       "         0.12035888, 0.27870584, 0.27870584, 0.90518182, 0.90518182,\n",
       "         0.33598258, 0.33598258, 0.80890281, 0.80890281, 0.3171144 ,\n",
       "         0.3171144 , 0.36209356, 0.36209356, 0.10491341, 0.10491341])}}"
      ]
     },
     "execution_count": 1,
     "metadata": {},
     "output_type": "execute_result"
    }
   ],
   "source": [
    "ds = load_by_id(run_id_n)\n",
    "ds.get_parameter_data('x1')"
   ]
  },
  {
   "cell_type": "markdown",
   "metadata": {},
   "source": [
    "And a dataset stored as binary arrays"
   ]
  },
  {
   "cell_type": "code",
   "execution_count": 12,
   "metadata": {
    "execution": {
     "iopub.execute_input": "2021-04-21T14:39:07.290107Z",
     "iopub.status.busy": "2021-04-21T14:39:07.289644Z",
     "iopub.status.idle": "2021-04-21T14:39:07.338390Z",
     "shell.execute_reply": "2021-04-21T14:39:07.338843Z"
    },
    "scrolled": true
   },
   "outputs": [
    {
     "data": {
      "text/plain": [
       "{'x1': {'x1': array([[0.65469993],\n",
       "         [0.65469993],\n",
       "         [0.0500962 ],\n",
       "         [0.0500962 ],\n",
       "         [0.62942993],\n",
       "         [0.62942993],\n",
       "         [0.61020374],\n",
       "         [0.61020374],\n",
       "         [0.78530525],\n",
       "         [0.78530525],\n",
       "         [0.75469301],\n",
       "         [0.75469301],\n",
       "         [0.12352757],\n",
       "         [0.12352757],\n",
       "         [0.37876007],\n",
       "         [0.37876007],\n",
       "         [0.34300173],\n",
       "         [0.34300173],\n",
       "         [0.13394494],\n",
       "         [0.13394494],\n",
       "         [0.5741521 ],\n",
       "         [0.5741521 ],\n",
       "         [0.19654698],\n",
       "         [0.19654698],\n",
       "         [0.79429393],\n",
       "         [0.79429393],\n",
       "         [0.87387573],\n",
       "         [0.87387573],\n",
       "         [0.25598472],\n",
       "         [0.25598472],\n",
       "         [0.22684016],\n",
       "         [0.22684016],\n",
       "         [0.25199192],\n",
       "         [0.25199192],\n",
       "         [0.79199578],\n",
       "         [0.79199578],\n",
       "         [0.91179446],\n",
       "         [0.91179446],\n",
       "         [0.84916238],\n",
       "         [0.84916238],\n",
       "         [0.97844869],\n",
       "         [0.97844869],\n",
       "         [0.4413869 ],\n",
       "         [0.4413869 ],\n",
       "         [0.68708835],\n",
       "         [0.68708835],\n",
       "         [0.62834483],\n",
       "         [0.62834483],\n",
       "         [0.82422977],\n",
       "         [0.82422977],\n",
       "         [0.57678656],\n",
       "         [0.57678656],\n",
       "         [0.23223421],\n",
       "         [0.23223421],\n",
       "         [0.0512248 ],\n",
       "         [0.0512248 ],\n",
       "         [0.21248773],\n",
       "         [0.21248773],\n",
       "         [0.50225897],\n",
       "         [0.50225897],\n",
       "         [0.81191634],\n",
       "         [0.81191634],\n",
       "         [0.34765149],\n",
       "         [0.34765149],\n",
       "         [0.15387133],\n",
       "         [0.15387133],\n",
       "         [0.6901443 ],\n",
       "         [0.6901443 ],\n",
       "         [0.56222441],\n",
       "         [0.56222441],\n",
       "         [0.7644157 ],\n",
       "         [0.7644157 ],\n",
       "         [0.22295708],\n",
       "         [0.22295708],\n",
       "         [0.92441983],\n",
       "         [0.92441983],\n",
       "         [0.63738795],\n",
       "         [0.63738795],\n",
       "         [0.17613251],\n",
       "         [0.17613251],\n",
       "         [0.0509772 ],\n",
       "         [0.0509772 ],\n",
       "         [0.33115841],\n",
       "         [0.33115841],\n",
       "         [0.13284612],\n",
       "         [0.13284612],\n",
       "         [0.01306496],\n",
       "         [0.01306496],\n",
       "         [0.22991666],\n",
       "         [0.22991666],\n",
       "         [0.59352604],\n",
       "         [0.59352604],\n",
       "         [0.88736152],\n",
       "         [0.88736152],\n",
       "         [0.99889703],\n",
       "         [0.99889703],\n",
       "         [0.99581362],\n",
       "         [0.99581362],\n",
       "         [0.10948851],\n",
       "         [0.10948851],\n",
       "         [0.1729877 ],\n",
       "         [0.1729877 ],\n",
       "         [0.36011617],\n",
       "         [0.36011617],\n",
       "         [0.18740442],\n",
       "         [0.18740442],\n",
       "         [0.44857938],\n",
       "         [0.44857938],\n",
       "         [0.64972544],\n",
       "         [0.64972544],\n",
       "         [0.22973847],\n",
       "         [0.22973847],\n",
       "         [0.33899109],\n",
       "         [0.33899109],\n",
       "         [0.89059095],\n",
       "         [0.89059095],\n",
       "         [0.58763107],\n",
       "         [0.58763107],\n",
       "         [0.74769002],\n",
       "         [0.74769002],\n",
       "         [0.288113  ],\n",
       "         [0.288113  ],\n",
       "         [0.70621526],\n",
       "         [0.70621526],\n",
       "         [0.03750486],\n",
       "         [0.03750486],\n",
       "         [0.30063787],\n",
       "         [0.30063787],\n",
       "         [0.07622166],\n",
       "         [0.07622166],\n",
       "         [0.74026256],\n",
       "         [0.74026256],\n",
       "         [0.98006289],\n",
       "         [0.98006289],\n",
       "         [0.84855035],\n",
       "         [0.84855035],\n",
       "         [0.05782878],\n",
       "         [0.05782878],\n",
       "         [0.14676797],\n",
       "         [0.14676797],\n",
       "         [0.58599766],\n",
       "         [0.58599766],\n",
       "         [0.36082501],\n",
       "         [0.36082501],\n",
       "         [0.02324276],\n",
       "         [0.02324276],\n",
       "         [0.56536665],\n",
       "         [0.56536665],\n",
       "         [0.77928398],\n",
       "         [0.77928398],\n",
       "         [0.20923149],\n",
       "         [0.20923149],\n",
       "         [0.73116884],\n",
       "         [0.73116884],\n",
       "         [0.86138168],\n",
       "         [0.86138168],\n",
       "         [0.319064  ],\n",
       "         [0.319064  ],\n",
       "         [0.35103012],\n",
       "         [0.35103012],\n",
       "         [0.83782852],\n",
       "         [0.83782852],\n",
       "         [0.17495748],\n",
       "         [0.17495748],\n",
       "         [0.02929821],\n",
       "         [0.02929821],\n",
       "         [0.00173047],\n",
       "         [0.00173047],\n",
       "         [0.41681482],\n",
       "         [0.41681482],\n",
       "         [0.17596172],\n",
       "         [0.17596172],\n",
       "         [0.74471286],\n",
       "         [0.74471286],\n",
       "         [0.29222745],\n",
       "         [0.29222745],\n",
       "         [0.89846295],\n",
       "         [0.89846295],\n",
       "         [0.20786871],\n",
       "         [0.20786871],\n",
       "         [0.89177509],\n",
       "         [0.89177509],\n",
       "         [0.95055459],\n",
       "         [0.95055459],\n",
       "         [0.2506912 ],\n",
       "         [0.2506912 ],\n",
       "         [0.02100412],\n",
       "         [0.02100412],\n",
       "         [0.0601173 ],\n",
       "         [0.0601173 ],\n",
       "         [0.20509408],\n",
       "         [0.20509408],\n",
       "         [0.27865665],\n",
       "         [0.27865665],\n",
       "         [0.53990912],\n",
       "         [0.53990912],\n",
       "         [0.34505796],\n",
       "         [0.34505796],\n",
       "         [0.68381761],\n",
       "         [0.68381761]])}}"
      ]
     },
     "execution_count": 1,
     "metadata": {},
     "output_type": "execute_result"
    }
   ],
   "source": [
    "ds = load_by_id(run_id_a)\n",
    "ds.get_parameter_data('x1')"
   ]
  },
  {
   "cell_type": "code",
   "execution_count": null,
   "metadata": {},
   "outputs": [],
   "source": []
  }
 ],
 "metadata": {
  "kernelspec": {
   "display_name": "Python 3",
   "language": "python",
   "name": "python3"
  },
  "language_info": {
   "codemirror_mode": {
    "name": "ipython",
    "version": 3
   },
   "file_extension": ".py",
   "mimetype": "text/x-python",
   "name": "python",
   "nbconvert_exporter": "python",
   "pygments_lexer": "ipython3",
   "version": "3.7.10"
  },
  "nbsphinx": {
   "timeout": 600
  },
  "toc": {
   "base_numbering": 1,
   "nav_menu": {},
   "number_sections": true,
   "sideBar": true,
   "skip_h1_title": false,
   "title_cell": "Table of Contents",
   "title_sidebar": "Contents",
   "toc_cell": false,
   "toc_position": {},
   "toc_section_display": true,
   "toc_window_display": false
  },
  "varInspector": {
   "cols": {
    "lenName": 16,
    "lenType": 16,
    "lenVar": 40
   },
   "kernels_config": {
    "python": {
     "delete_cmd_postfix": "",
     "delete_cmd_prefix": "del ",
     "library": "var_list.py",
     "varRefreshCmd": "print(var_dic_list())"
    },
    "r": {
     "delete_cmd_postfix": ") ",
     "delete_cmd_prefix": "rm(",
     "library": "var_list.r",
     "varRefreshCmd": "cat(var_dic_list()) "
    }
   },
   "types_to_exclude": [
    "module",
    "function",
    "builtin_function_or_method",
    "instance",
    "_Feature"
   ],
   "window_display": false
  }
 },
 "nbformat": 4,
 "nbformat_minor": 4
}
