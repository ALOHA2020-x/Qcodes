{
 "cells": [
  {
   "cell_type": "markdown",
   "metadata": {},
   "source": [
    "# DataSet Performance\n",
    "\n",
    "This notebook shows the trade-off between inserting data into a database row-by-row and as binary blobs. Inserting the data row-by-row means that we have direct access to all the data and may perform queries directly on the values of the data. On the other hand, as we shall see, this is much slower than inserting the data directly as binary blobs."
   ]
  },
  {
   "cell_type": "markdown",
   "metadata": {},
   "source": [
    "First, we choose a new location for the database to ensure that we don't add a bunch of benchmarking data to the default one."
   ]
  },
  {
   "cell_type": "code",
   "execution_count": 1,
   "metadata": {},
   "outputs": [
    {
     "name": "stdout",
     "output_type": "stream",
     "text": [
      "Logging hadn't been started.\n",
      "Activating auto-logging. Current session state plus future input saved.\n",
      "Filename       : /home/vsts/.qcodes/logs/command_history.log\n",
      "Mode           : append\n",
      "Output logging : True\n",
      "Raw input log  : False\n",
      "Timestamping   : True\n",
      "State          : active\n"
     ]
    },
    {
     "name": "stdout",
     "output_type": "stream",
     "text": [
      "Qcodes Logfile : /home/vsts/.qcodes/logs/200320-17914-qcodes.log\n"
     ]
    }
   ],
   "source": [
    "import os\n",
    "cwd = os.getcwd()\n",
    "import qcodes as qc\n",
    "qc.config[\"core\"][\"db_location\"] = os.path.join(cwd, 'testing.db')\n"
   ]
  },
  {
   "cell_type": "code",
   "execution_count": 2,
   "metadata": {},
   "outputs": [],
   "source": [
    "%matplotlib inline\n",
    "import time\n",
    "import matplotlib.pyplot as plt\n",
    "import numpy as np\n",
    "\n",
    "import qcodes as qc\n",
    "from qcodes.instrument.parameter import ManualParameter\n",
    "from qcodes.dataset.experiment_container import (Experiment,\n",
    "                                                 load_last_experiment,\n",
    "                                                 new_experiment)\n",
    "from qcodes.dataset.sqlite.database import initialise_database\n",
    "from qcodes import load_or_create_experiment\n",
    "from qcodes.dataset.measurements import Measurement"
   ]
  },
  {
   "cell_type": "code",
   "execution_count": 3,
   "metadata": {},
   "outputs": [
    {
     "name": "stdout",
     "output_type": "stream",
     "text": [
      "\r",
      "0it [00:00, ?it/s]"
     ]
    },
    {
     "name": "stdout",
     "output_type": "stream",
     "text": [
      "\r",
      "Upgrading database; v0 -> v1: : 0it [00:00, ?it/s]"
     ]
    },
    {
     "name": "stdout",
     "output_type": "stream",
     "text": [
      "\r",
      "Upgrading database; v0 -> v1: : 0it [00:00, ?it/s]"
     ]
    },
    {
     "name": "stdout",
     "output_type": "stream",
     "text": [
      "\n",
      "\r",
      "  0%|          | 0/1 [00:00<?, ?it/s]"
     ]
    },
    {
     "name": "stdout",
     "output_type": "stream",
     "text": [
      "\r",
      "Upgrading database; v1 -> v2:   0%|          | 0/1 [00:00<?, ?it/s]"
     ]
    },
    {
     "name": "stdout",
     "output_type": "stream",
     "text": [
      "\r",
      "Upgrading database; v1 -> v2: 100%|██████████| 1/1 [00:00<00:00, 997.69it/s]"
     ]
    },
    {
     "name": "stdout",
     "output_type": "stream",
     "text": [
      "\n",
      "\r",
      "0it [00:00, ?it/s]"
     ]
    },
    {
     "name": "stdout",
     "output_type": "stream",
     "text": [
      "\r",
      "Upgrading database; v2 -> v3: : 0it [00:00, ?it/s]"
     ]
    },
    {
     "name": "stdout",
     "output_type": "stream",
     "text": [
      "\r",
      "Upgrading database; v2 -> v3: : 0it [00:00, ?it/s]"
     ]
    },
    {
     "name": "stdout",
     "output_type": "stream",
     "text": [
      "\n",
      "\r",
      "0it [00:00, ?it/s]"
     ]
    },
    {
     "name": "stdout",
     "output_type": "stream",
     "text": [
      "\r",
      "Upgrading database; v3 -> v4: : 0it [00:00, ?it/s]"
     ]
    },
    {
     "name": "stdout",
     "output_type": "stream",
     "text": [
      "\r",
      "Upgrading database; v3 -> v4: : 0it [00:00, ?it/s]"
     ]
    },
    {
     "name": "stdout",
     "output_type": "stream",
     "text": [
      "\n",
      "\r",
      "  0%|          | 0/1 [00:00<?, ?it/s]"
     ]
    },
    {
     "name": "stdout",
     "output_type": "stream",
     "text": [
      "\r",
      "Upgrading database; v4 -> v5:   0%|          | 0/1 [00:00<?, ?it/s]"
     ]
    },
    {
     "name": "stdout",
     "output_type": "stream",
     "text": [
      "\r",
      "Upgrading database; v4 -> v5: 100%|██████████| 1/1 [00:00<00:00, 946.80it/s]"
     ]
    },
    {
     "name": "stdout",
     "output_type": "stream",
     "text": [
      "\n",
      "\r",
      "0it [00:00, ?it/s]"
     ]
    },
    {
     "name": "stdout",
     "output_type": "stream",
     "text": [
      "\r",
      "Upgrading database; v5 -> v6: : 0it [00:00, ?it/s]"
     ]
    },
    {
     "name": "stdout",
     "output_type": "stream",
     "text": [
      "\r",
      "Upgrading database; v5 -> v6: : 0it [00:00, ?it/s]"
     ]
    },
    {
     "name": "stdout",
     "output_type": "stream",
     "text": [
      "\n",
      "\r",
      "  0%|          | 0/1 [00:00<?, ?it/s]"
     ]
    },
    {
     "name": "stdout",
     "output_type": "stream",
     "text": [
      "\r",
      "Upgrading database; v6 -> v7:   0%|          | 0/1 [00:00<?, ?it/s]"
     ]
    },
    {
     "name": "stdout",
     "output_type": "stream",
     "text": [
      "\r",
      "Upgrading database; v6 -> v7: 100%|██████████| 1/1 [00:00<00:00, 536.70it/s]"
     ]
    },
    {
     "name": "stdout",
     "output_type": "stream",
     "text": [
      "\n",
      "\r",
      "  0%|          | 0/1 [00:00<?, ?it/s]"
     ]
    },
    {
     "name": "stdout",
     "output_type": "stream",
     "text": [
      "\r",
      "Upgrading database; v7 -> v8:   0%|          | 0/1 [00:00<?, ?it/s]"
     ]
    },
    {
     "name": "stdout",
     "output_type": "stream",
     "text": [
      "\r",
      "Upgrading database; v7 -> v8: 100%|██████████| 1/1 [00:00<00:00, 853.02it/s]"
     ]
    },
    {
     "name": "stdout",
     "output_type": "stream",
     "text": [
      "\n",
      "\r",
      "  0%|          | 0/1 [00:00<?, ?it/s]"
     ]
    },
    {
     "name": "stdout",
     "output_type": "stream",
     "text": [
      "\r",
      "Upgrading database; v8 -> v9:   0%|          | 0/1 [00:00<?, ?it/s]"
     ]
    },
    {
     "name": "stdout",
     "output_type": "stream",
     "text": [
      "\r",
      "Upgrading database; v8 -> v9: 100%|██████████| 1/1 [00:00<00:00, 1093.98it/s]"
     ]
    },
    {
     "name": "stdout",
     "output_type": "stream",
     "text": [
      "\n"
     ]
    }
   ],
   "source": [
    "initialise_database()\n",
    "exp = load_or_create_experiment(experiment_name='tutorial_exp', sample_name=\"no sample\")"
   ]
  },
  {
   "cell_type": "markdown",
   "metadata": {},
   "source": [
    "Here, we define a simple function to benchmark the time it takes to insert n points with either numeric or array data type.\n",
    "We will compare both the time used to call ``add_result`` and the time used for the full measurement."
   ]
  },
  {
   "cell_type": "code",
   "execution_count": 4,
   "metadata": {},
   "outputs": [],
   "source": [
    "def insert_data(paramtype, npoints, nreps=1):\n",
    "\n",
    "    meas = Measurement(exp=exp)\n",
    "\n",
    "    x1 = ManualParameter('x1')\n",
    "    x2 = ManualParameter('x2')\n",
    "    x3 = ManualParameter('x3')\n",
    "    y1 = ManualParameter('y1')\n",
    "    y2 = ManualParameter('y2')\n",
    "\n",
    "    meas.register_parameter(x1, paramtype=paramtype)\n",
    "    meas.register_parameter(x2, paramtype=paramtype)\n",
    "    meas.register_parameter(x3, paramtype=paramtype)\n",
    "    meas.register_parameter(y1, setpoints=[x1, x2, x3],\n",
    "                            paramtype=paramtype)\n",
    "    meas.register_parameter(y2, setpoints=[x1, x2, x3],\n",
    "                            paramtype=paramtype)\n",
    "    start = time.perf_counter()\n",
    "    with meas.run() as datasaver:\n",
    "        start_adding = time.perf_counter()\n",
    "        for i in range(nreps):\n",
    "            datasaver.add_result((x1, np.random.rand(npoints)),\n",
    "                                 (x2, np.random.rand(npoints)),\n",
    "                                 (x3, np.random.rand(npoints)),\n",
    "                                 (y1, np.random.rand(npoints)),\n",
    "                                 (y2, np.random.rand(npoints)))\n",
    "        stop_adding = time.perf_counter()\n",
    "        run_id = datasaver.run_id\n",
    "    stop = time.perf_counter()\n",
    "    tot_time = stop - start\n",
    "    add_time = stop_adding - start_adding\n",
    "    return tot_time, add_time, run_id"
   ]
  },
  {
   "cell_type": "markdown",
   "metadata": {},
   "source": [
    "## Comparison between numeric/array data and binary blob"
   ]
  },
  {
   "cell_type": "markdown",
   "metadata": {},
   "source": [
    "### Case1: Short experiment time"
   ]
  },
  {
   "cell_type": "code",
   "execution_count": 5,
   "metadata": {},
   "outputs": [
    {
     "name": "stdout",
     "output_type": "stream",
     "text": [
      "Starting experimental run with id: 1. \n",
      "Starting experimental run with id: 2. \n",
      "Starting experimental run with id: 3. \n",
      "Starting experimental run with id: 4. \n",
      "Starting experimental run with id: 5. \n"
     ]
    },
    {
     "name": "stdout",
     "output_type": "stream",
     "text": [
      "Starting experimental run with id: 6. \n",
      "Starting experimental run with id: 7. \n"
     ]
    },
    {
     "name": "stdout",
     "output_type": "stream",
     "text": [
      "Starting experimental run with id: 8. \n",
      "Starting experimental run with id: 9. \n"
     ]
    },
    {
     "name": "stdout",
     "output_type": "stream",
     "text": [
      "Starting experimental run with id: 10. \n",
      "Starting experimental run with id: 11. \n"
     ]
    },
    {
     "name": "stdout",
     "output_type": "stream",
     "text": [
      "Starting experimental run with id: 12. \n",
      "Starting experimental run with id: 13. \n"
     ]
    },
    {
     "name": "stdout",
     "output_type": "stream",
     "text": [
      "Starting experimental run with id: 14. \n"
     ]
    }
   ],
   "source": [
    "sizes = [1,500,1000,2000,3000,4000,5000]\n",
    "t_numeric = []\n",
    "t_numeric_add = []\n",
    "t_array = []\n",
    "t_array_add = []\n",
    "for size in sizes:\n",
    "    tn, tna, run_id_n =  insert_data('numeric', size)\n",
    "    t_numeric.append(tn)\n",
    "    t_numeric_add.append(tna)\n",
    "\n",
    "    ta, taa, run_id_a =  insert_data('array', size)\n",
    "    t_array.append(ta)\n",
    "    t_array_add.append(taa)"
   ]
  },
  {
   "cell_type": "code",
   "execution_count": 6,
   "metadata": {},
   "outputs": [
    {
     "data": {
      "image/png": "[encoded data removed]",
      "text/plain": [
       "<Figure size 432x288 with 1 Axes>"
      ]
     },
     "metadata": {
      "needs_background": "light"
     },
     "output_type": "display_data"
    }
   ],
   "source": [
    "fig, ax = plt.subplots(1,1)\n",
    "ax.plot(sizes, t_numeric, 'o-', label='Inserting row-by-row')\n",
    "ax.plot(sizes, t_numeric_add, 'o-', label='Inserting row-by-row: add_result only')\n",
    "ax.plot(sizes, t_array, 'd-', label='Inserting as binary blob')\n",
    "ax.plot(sizes, t_array_add, 'd-', label='Inserting as binary blob: add_result only')\n",
    "ax.legend()\n",
    "ax.set_xlabel('Array length')\n",
    "ax.set_ylabel('Time (s)')\n",
    "fig.tight_layout()"
   ]
  },
  {
   "cell_type": "markdown",
   "metadata": {},
   "source": [
    "As shown in the latter figure, the time to setup and and close the experiment is approximately 0.4 sec. In case of small array sizes, the difference between inserting values of data as arrays and inserting them row-by-row is relatively unimportant. At larger array sizes, i.e. above 10000 points, the cost of writing data as individual datapoints starts to become important.\n"
   ]
  },
  {
   "cell_type": "markdown",
   "metadata": {},
   "source": [
    "### Case2: Long experiment time "
   ]
  },
  {
   "cell_type": "code",
   "execution_count": 7,
   "metadata": {},
   "outputs": [
    {
     "name": "stdout",
     "output_type": "stream",
     "text": [
      "Starting experimental run with id: 15. \n",
      "Starting experimental run with id: 16. \n",
      "Starting experimental run with id: 17. \n"
     ]
    },
    {
     "name": "stdout",
     "output_type": "stream",
     "text": [
      "Starting experimental run with id: 18. \n",
      "Starting experimental run with id: 19. \n"
     ]
    },
    {
     "name": "stdout",
     "output_type": "stream",
     "text": [
      "Starting experimental run with id: 20. \n"
     ]
    },
    {
     "name": "stdout",
     "output_type": "stream",
     "text": [
      "Starting experimental run with id: 21. \n"
     ]
    },
    {
     "name": "stdout",
     "output_type": "stream",
     "text": [
      "Starting experimental run with id: 22. \n"
     ]
    },
    {
     "name": "stdout",
     "output_type": "stream",
     "text": [
      "Starting experimental run with id: 23. \n"
     ]
    },
    {
     "name": "stdout",
     "output_type": "stream",
     "text": [
      "Starting experimental run with id: 24. \n"
     ]
    },
    {
     "name": "stdout",
     "output_type": "stream",
     "text": [
      "Starting experimental run with id: 25. \n"
     ]
    },
    {
     "name": "stdout",
     "output_type": "stream",
     "text": [
      "Starting experimental run with id: 26. \n"
     ]
    },
    {
     "name": "stdout",
     "output_type": "stream",
     "text": [
      "Starting experimental run with id: 27. \n"
     ]
    },
    {
     "name": "stdout",
     "output_type": "stream",
     "text": [
      "Starting experimental run with id: 28. \n"
     ]
    }
   ],
   "source": [
    "sizes = [1,500,1000,2000,3000,4000,5000]\n",
    "nreps = 100\n",
    "t_numeric = []\n",
    "t_numeric_add = []\n",
    "t_numeric_run_ids = []\n",
    "t_array = []\n",
    "t_array_add = []\n",
    "t_array_run_ids = []\n",
    "for size in sizes:\n",
    "    tn, tna, run_id_n =  insert_data('numeric', size, nreps=nreps)\n",
    "    t_numeric.append(tn)\n",
    "    t_numeric_add.append(tna)\n",
    "    t_numeric_run_ids.append(run_id_n)\n",
    "\n",
    "    ta, taa, run_id_a =  insert_data('array', size, nreps=nreps)\n",
    "    t_array.append(ta)\n",
    "    t_array_add.append(taa)\n",
    "    t_array_run_ids.append(run_id_a)"
   ]
  },
  {
   "cell_type": "code",
   "execution_count": 8,
   "metadata": {
    "scrolled": true
   },
   "outputs": [
    {
     "data": {
      "image/png": "[encoded data removed]",
      "text/plain": [
       "<Figure size 432x288 with 1 Axes>"
      ]
     },
     "metadata": {
      "needs_background": "light"
     },
     "output_type": "display_data"
    }
   ],
   "source": [
    "fig, ax = plt.subplots(1,1)\n",
    "ax.plot(sizes, t_numeric, 'o-', label='Inserting row-by-row')\n",
    "ax.plot(sizes, t_numeric_add, 'o-', label='Inserting row-by-row: add_result only')\n",
    "ax.plot(sizes, t_array, 'd-', label='Inserting as binary blob')\n",
    "ax.plot(sizes, t_array_add, 'd-', label='Inserting as binary blob: add_result only')\n",
    "ax.legend()\n",
    "ax.set_xlabel('Array length')\n",
    "ax.set_ylabel('Time (s)')\n",
    "fig.tight_layout()"
   ]
  },
  {
   "cell_type": "markdown",
   "metadata": {},
   "source": [
    "However, as we increase the length of the experiment, as seen here by repeating the insertion 100 times, we see a big difference between inserting values of the data row-by-row and inserting it as a binary blob."
   ]
  },
  {
   "cell_type": "markdown",
   "metadata": {},
   "source": [
    "## Loading the data "
   ]
  },
  {
   "cell_type": "code",
   "execution_count": 9,
   "metadata": {},
   "outputs": [],
   "source": [
    "from qcodes.dataset.data_set import load_by_id\n",
    "from qcodes.dataset.data_export import get_data_by_id"
   ]
  },
  {
   "cell_type": "markdown",
   "metadata": {},
   "source": [
    "As usual you can load the data by using the ``load_by_id`` function but you will notice that the different storage methods\n",
    "are reflected in shape of the data as it is retrieved. "
   ]
  },
  {
   "cell_type": "code",
   "execution_count": 10,
   "metadata": {},
   "outputs": [],
   "source": [
    "run_id_n = t_numeric_run_ids[0]\n",
    "run_id_a = t_array_run_ids[0]"
   ]
  },
  {
   "cell_type": "code",
   "execution_count": 11,
   "metadata": {
    "scrolled": true
   },
   "outputs": [
    {
     "data": {
      "text/plain": [
       "{'x1': {'x1': array([0.48903374, 0.48903374, 0.55361892, 0.55361892, 0.05406842,\n",
       "         0.05406842, 0.99138309, 0.99138309, 0.17076277, 0.17076277,\n",
       "         0.99440668, 0.99440668, 0.59675063, 0.59675063, 0.94609538,\n",
       "         0.94609538, 0.64078388, 0.64078388, 0.8829771 , 0.8829771 ,\n",
       "         0.02315674, 0.02315674, 0.17846516, 0.17846516, 0.74848786,\n",
       "         0.74848786, 0.60743613, 0.60743613, 0.21581767, 0.21581767,\n",
       "         0.89530412, 0.89530412, 0.44494974, 0.44494974, 0.46870167,\n",
       "         0.46870167, 0.28533437, 0.28533437, 0.05076635, 0.05076635,\n",
       "         0.14038048, 0.14038048, 0.78936262, 0.78936262, 0.48656419,\n",
       "         0.48656419, 0.81568499, 0.81568499, 0.00758867, 0.00758867,\n",
       "         0.5394741 , 0.5394741 , 0.65627188, 0.65627188, 0.95051028,\n",
       "         0.95051028, 0.0629733 , 0.0629733 , 0.20199191, 0.20199191,\n",
       "         0.35464832, 0.35464832, 0.34631192, 0.34631192, 0.88791276,\n",
       "         0.88791276, 0.72530725, 0.72530725, 0.86750657, 0.86750657,\n",
       "         0.13840138, 0.13840138, 0.26635642, 0.26635642, 0.61494664,\n",
       "         0.61494664, 0.4299075 , 0.4299075 , 0.66793016, 0.66793016,\n",
       "         0.43079364, 0.43079364, 0.30817781, 0.30817781, 0.27697192,\n",
       "         0.27697192, 0.62884359, 0.62884359, 0.99693623, 0.99693623,\n",
       "         0.72146667, 0.72146667, 0.49798541, 0.49798541, 0.17456534,\n",
       "         0.17456534, 0.79189285, 0.79189285, 0.28692813, 0.28692813,\n",
       "         0.96645931, 0.96645931, 0.79818783, 0.79818783, 0.17220085,\n",
       "         0.17220085, 0.70492742, 0.70492742, 0.39048358, 0.39048358,\n",
       "         0.37241136, 0.37241136, 0.76509815, 0.76509815, 0.0658499 ,\n",
       "         0.0658499 , 0.41027092, 0.41027092, 0.27558398, 0.27558398,\n",
       "         0.60369436, 0.60369436, 0.4274473 , 0.4274473 , 0.97630879,\n",
       "         0.97630879, 0.47923278, 0.47923278, 0.15309684, 0.15309684,\n",
       "         0.79818169, 0.79818169, 0.48445817, 0.48445817, 0.63453515,\n",
       "         0.63453515, 0.80310726, 0.80310726, 0.43743917, 0.43743917,\n",
       "         0.13117017, 0.13117017, 0.89093657, 0.89093657, 0.86321818,\n",
       "         0.86321818, 0.85807949, 0.85807949, 0.0735068 , 0.0735068 ,\n",
       "         0.69820233, 0.69820233, 0.25488076, 0.25488076, 0.30091378,\n",
       "         0.30091378, 0.33667041, 0.33667041, 0.72225103, 0.72225103,\n",
       "         0.94417691, 0.94417691, 0.61474507, 0.61474507, 0.21228006,\n",
       "         0.21228006, 0.11776219, 0.11776219, 0.67455053, 0.67455053,\n",
       "         0.5602359 , 0.5602359 , 0.0150113 , 0.0150113 , 0.040924  ,\n",
       "         0.040924  , 0.77229608, 0.77229608, 0.22726117, 0.22726117,\n",
       "         0.07148808, 0.07148808, 0.32599573, 0.32599573, 0.87142791,\n",
       "         0.87142791, 0.04576097, 0.04576097, 0.15165142, 0.15165142,\n",
       "         0.29001762, 0.29001762, 0.7283911 , 0.7283911 , 0.41184594,\n",
       "         0.41184594, 0.19272486, 0.19272486, 0.82819132, 0.82819132])}}"
      ]
     },
     "execution_count": 11,
     "metadata": {},
     "output_type": "execute_result"
    }
   ],
   "source": [
    "ds = load_by_id(run_id_n)\n",
    "ds.get_parameter_data('x1')"
   ]
  },
  {
   "cell_type": "markdown",
   "metadata": {},
   "source": [
    "And a dataset stored as binary arrays"
   ]
  },
  {
   "cell_type": "code",
   "execution_count": 12,
   "metadata": {
    "scrolled": true
   },
   "outputs": [
    {
     "data": {
      "text/plain": [
       "{'x1': {'x1': array([[0.66612007],\n",
       "         [0.66612007],\n",
       "         [0.42940853],\n",
       "         [0.42940853],\n",
       "         [0.99095732],\n",
       "         [0.99095732],\n",
       "         [0.53998369],\n",
       "         [0.53998369],\n",
       "         [0.5844914 ],\n",
       "         [0.5844914 ],\n",
       "         [0.24465922],\n",
       "         [0.24465922],\n",
       "         [0.72686463],\n",
       "         [0.72686463],\n",
       "         [0.0799308 ],\n",
       "         [0.0799308 ],\n",
       "         [0.96088641],\n",
       "         [0.96088641],\n",
       "         [0.29277108],\n",
       "         [0.29277108],\n",
       "         [0.98679959],\n",
       "         [0.98679959],\n",
       "         [0.22799538],\n",
       "         [0.22799538],\n",
       "         [0.22840267],\n",
       "         [0.22840267],\n",
       "         [0.47845656],\n",
       "         [0.47845656],\n",
       "         [0.86814981],\n",
       "         [0.86814981],\n",
       "         [0.35069819],\n",
       "         [0.35069819],\n",
       "         [0.13668032],\n",
       "         [0.13668032],\n",
       "         [0.46489971],\n",
       "         [0.46489971],\n",
       "         [0.43041654],\n",
       "         [0.43041654],\n",
       "         [0.01330704],\n",
       "         [0.01330704],\n",
       "         [0.7709519 ],\n",
       "         [0.7709519 ],\n",
       "         [0.78158041],\n",
       "         [0.78158041],\n",
       "         [0.74400106],\n",
       "         [0.74400106],\n",
       "         [0.83529056],\n",
       "         [0.83529056],\n",
       "         [0.19883989],\n",
       "         [0.19883989],\n",
       "         [0.68724544],\n",
       "         [0.68724544],\n",
       "         [0.20613839],\n",
       "         [0.20613839],\n",
       "         [0.61919367],\n",
       "         [0.61919367],\n",
       "         [0.01275581],\n",
       "         [0.01275581],\n",
       "         [0.08649143],\n",
       "         [0.08649143],\n",
       "         [0.5139105 ],\n",
       "         [0.5139105 ],\n",
       "         [0.16763668],\n",
       "         [0.16763668],\n",
       "         [0.61528417],\n",
       "         [0.61528417],\n",
       "         [0.62600131],\n",
       "         [0.62600131],\n",
       "         [0.86240983],\n",
       "         [0.86240983],\n",
       "         [0.00849268],\n",
       "         [0.00849268],\n",
       "         [0.28396189],\n",
       "         [0.28396189],\n",
       "         [0.49961991],\n",
       "         [0.49961991],\n",
       "         [0.60879833],\n",
       "         [0.60879833],\n",
       "         [0.50727469],\n",
       "         [0.50727469],\n",
       "         [0.20508733],\n",
       "         [0.20508733],\n",
       "         [0.1989789 ],\n",
       "         [0.1989789 ],\n",
       "         [0.73103462],\n",
       "         [0.73103462],\n",
       "         [0.75146158],\n",
       "         [0.75146158],\n",
       "         [0.61639396],\n",
       "         [0.61639396],\n",
       "         [0.10009441],\n",
       "         [0.10009441],\n",
       "         [0.26861093],\n",
       "         [0.26861093],\n",
       "         [0.39570132],\n",
       "         [0.39570132],\n",
       "         [0.8370123 ],\n",
       "         [0.8370123 ],\n",
       "         [0.82227616],\n",
       "         [0.82227616],\n",
       "         [0.22692193],\n",
       "         [0.22692193],\n",
       "         [0.92340486],\n",
       "         [0.92340486],\n",
       "         [0.41267194],\n",
       "         [0.41267194],\n",
       "         [0.92320584],\n",
       "         [0.92320584],\n",
       "         [0.11909924],\n",
       "         [0.11909924],\n",
       "         [0.7046407 ],\n",
       "         [0.7046407 ],\n",
       "         [0.56444127],\n",
       "         [0.56444127],\n",
       "         [0.45086644],\n",
       "         [0.45086644],\n",
       "         [0.08371242],\n",
       "         [0.08371242],\n",
       "         [0.08277646],\n",
       "         [0.08277646],\n",
       "         [0.03187291],\n",
       "         [0.03187291],\n",
       "         [0.15738419],\n",
       "         [0.15738419],\n",
       "         [0.65751326],\n",
       "         [0.65751326],\n",
       "         [0.6679176 ],\n",
       "         [0.6679176 ],\n",
       "         [0.18090022],\n",
       "         [0.18090022],\n",
       "         [0.07746314],\n",
       "         [0.07746314],\n",
       "         [0.37444289],\n",
       "         [0.37444289],\n",
       "         [0.11166558],\n",
       "         [0.11166558],\n",
       "         [0.36242058],\n",
       "         [0.36242058],\n",
       "         [0.34832813],\n",
       "         [0.34832813],\n",
       "         [0.21424167],\n",
       "         [0.21424167],\n",
       "         [0.47679322],\n",
       "         [0.47679322],\n",
       "         [0.44000653],\n",
       "         [0.44000653],\n",
       "         [0.29527883],\n",
       "         [0.29527883],\n",
       "         [0.98863081],\n",
       "         [0.98863081],\n",
       "         [0.06698895],\n",
       "         [0.06698895],\n",
       "         [0.23689913],\n",
       "         [0.23689913],\n",
       "         [0.06973102],\n",
       "         [0.06973102],\n",
       "         [0.15387704],\n",
       "         [0.15387704],\n",
       "         [0.28352128],\n",
       "         [0.28352128],\n",
       "         [0.07212732],\n",
       "         [0.07212732],\n",
       "         [0.15329878],\n",
       "         [0.15329878],\n",
       "         [0.86895501],\n",
       "         [0.86895501],\n",
       "         [0.88135232],\n",
       "         [0.88135232],\n",
       "         [0.89251844],\n",
       "         [0.89251844],\n",
       "         [0.78016734],\n",
       "         [0.78016734],\n",
       "         [0.30456741],\n",
       "         [0.30456741],\n",
       "         [0.68046317],\n",
       "         [0.68046317],\n",
       "         [0.79680816],\n",
       "         [0.79680816],\n",
       "         [0.27185204],\n",
       "         [0.27185204],\n",
       "         [0.72853068],\n",
       "         [0.72853068],\n",
       "         [0.76553176],\n",
       "         [0.76553176],\n",
       "         [0.1023558 ],\n",
       "         [0.1023558 ],\n",
       "         [0.94371065],\n",
       "         [0.94371065],\n",
       "         [0.03176849],\n",
       "         [0.03176849],\n",
       "         [0.29250027],\n",
       "         [0.29250027],\n",
       "         [0.00749862],\n",
       "         [0.00749862],\n",
       "         [0.79816358],\n",
       "         [0.79816358],\n",
       "         [0.56816926],\n",
       "         [0.56816926],\n",
       "         [0.42666611],\n",
       "         [0.42666611]])}}"
      ]
     },
     "execution_count": 12,
     "metadata": {},
     "output_type": "execute_result"
    }
   ],
   "source": [
    "ds = load_by_id(run_id_a)\n",
    "ds.get_parameter_data('x1')"
   ]
  },
  {
   "cell_type": "code",
   "execution_count": null,
   "metadata": {},
   "outputs": [],
   "source": []
  }
 ],
 "metadata": {
  "kernelspec": {
   "display_name": "Python 3",
   "language": "python",
   "name": "python3"
  },
  "language_info": {
   "codemirror_mode": {
    "name": "ipython",
    "version": 3
   },
   "file_extension": ".py",
   "mimetype": "text/x-python",
   "name": "python",
   "nbconvert_exporter": "python",
   "pygments_lexer": "ipython3",
   "version": "3.7.5"
  },
  "nbsphinx": {
   "timeout": 600
  },
  "toc": {
   "base_numbering": 1,
   "nav_menu": {},
   "number_sections": true,
   "sideBar": true,
   "skip_h1_title": false,
   "title_cell": "Table of Contents",
   "title_sidebar": "Contents",
   "toc_cell": false,
   "toc_position": {},
   "toc_section_display": true,
   "toc_window_display": false
  },
  "varInspector": {
   "cols": {
    "lenName": 16,
    "lenType": 16,
    "lenVar": 40
   },
   "kernels_config": {
    "python": {
     "delete_cmd_postfix": "",
     "delete_cmd_prefix": "del ",
     "library": "var_list.py",
     "varRefreshCmd": "print(var_dic_list())"
    },
    "r": {
     "delete_cmd_postfix": ") ",
     "delete_cmd_prefix": "rm(",
     "library": "var_list.r",
     "varRefreshCmd": "cat(var_dic_list()) "
    }
   },
   "types_to_exclude": [
    "module",
    "function",
    "builtin_function_or_method",
    "instance",
    "_Feature"
   ],
   "window_display": false
  }
 },
 "nbformat": 4,
 "nbformat_minor": 2
}
