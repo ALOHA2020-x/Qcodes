{
 "cells": [
  {
   "cell_type": "markdown",
   "metadata": {},
   "source": [
    "# DataSet Performance\n",
    "\n",
    "This notebook shows the trade-off between inserting data into a database row-by-row and as binary blobs. Inserting the data row-by-row means that we have direct access to all the data and may perform queries directly on the values of the data. On the other hand, as we shall see, this is much slower than inserting the data directly as binary blobs."
   ]
  },
  {
   "cell_type": "markdown",
   "metadata": {},
   "source": [
    "First, we choose a new location for the database to ensure that we don't add a bunch of benchmarking data to the default one."
   ]
  },
  {
   "cell_type": "code",
   "execution_count": 1,
   "metadata": {
    "execution": {
     "iopub.execute_input": "2020-10-16T07:50:00.678781Z",
     "iopub.status.busy": "2020-10-16T07:50:00.678292Z",
     "iopub.status.idle": "2020-10-16T07:50:01.790124Z",
     "shell.execute_reply": "2020-10-16T07:50:01.789509Z"
    }
   },
   "outputs": [
    {
     "name": "stdout",
     "output_type": "stream",
     "text": [
      "Logging hadn't been started.\n",
      "Activating auto-logging. Current session state plus future input saved.\n",
      "Filename       : /home/vsts/.qcodes/logs/command_history.log\n",
      "Mode           : append\n",
      "Output logging : True\n",
      "Raw input log  : False\n",
      "Timestamping   : True\n",
      "State          : active\n"
     ]
    },
    {
     "name": "stdout",
     "output_type": "stream",
     "text": [
      "Qcodes Logfile : /home/vsts/.qcodes/logs/201016-15194-qcodes.log\n"
     ]
    }
   ],
   "source": [
    "import os\n",
    "cwd = os.getcwd()\n",
    "import qcodes as qc\n",
    "qc.config[\"core\"][\"db_location\"] = os.path.join(cwd, 'testing.db')\n"
   ]
  },
  {
   "cell_type": "code",
   "execution_count": 2,
   "metadata": {
    "execution": {
     "iopub.execute_input": "2020-10-16T07:50:01.796960Z",
     "iopub.status.busy": "2020-10-16T07:50:01.796150Z",
     "iopub.status.idle": "2020-10-16T07:50:01.994784Z",
     "shell.execute_reply": "2020-10-16T07:50:01.994297Z"
    }
   },
   "outputs": [],
   "source": [
    "%matplotlib inline\n",
    "import time\n",
    "import matplotlib.pyplot as plt\n",
    "import numpy as np\n",
    "\n",
    "import qcodes as qc\n",
    "from qcodes.instrument.parameter import ManualParameter\n",
    "from qcodes.dataset.experiment_container import (Experiment,\n",
    "                                                 load_last_experiment,\n",
    "                                                 new_experiment)\n",
    "from qcodes.dataset.sqlite.database import initialise_database\n",
    "from qcodes import load_or_create_experiment\n",
    "from qcodes.dataset.measurements import Measurement"
   ]
  },
  {
   "cell_type": "code",
   "execution_count": 3,
   "metadata": {
    "execution": {
     "iopub.execute_input": "2020-10-16T07:50:01.998339Z",
     "iopub.status.busy": "2020-10-16T07:50:01.997817Z",
     "iopub.status.idle": "2020-10-16T07:50:02.150611Z",
     "shell.execute_reply": "2020-10-16T07:50:02.150035Z"
    }
   },
   "outputs": [
    {
     "name": "stdout",
     "output_type": "stream",
     "text": [
      "\r",
      "0it [00:00, ?it/s]"
     ]
    },
    {
     "name": "stdout",
     "output_type": "stream",
     "text": [
      "\r",
      "Upgrading database; v0 -> v1: : 0it [00:00, ?it/s]"
     ]
    },
    {
     "name": "stdout",
     "output_type": "stream",
     "text": [
      "\r",
      "Upgrading database; v0 -> v1: : 0it [00:00, ?it/s]"
     ]
    },
    {
     "name": "stdout",
     "output_type": "stream",
     "text": [
      "\n",
      "\r",
      "  0%|          | 0/1 [00:00<?, ?it/s]"
     ]
    },
    {
     "name": "stdout",
     "output_type": "stream",
     "text": [
      "\r",
      "Upgrading database; v1 -> v2:   0%|          | 0/1 [00:00<?, ?it/s]"
     ]
    },
    {
     "name": "stdout",
     "output_type": "stream",
     "text": [
      "\r",
      "Upgrading database; v1 -> v2: 100%|██████████| 1/1 [00:00<00:00, 1114.91it/s]"
     ]
    },
    {
     "name": "stdout",
     "output_type": "stream",
     "text": [
      "\n",
      "\r",
      "0it [00:00, ?it/s]"
     ]
    },
    {
     "name": "stdout",
     "output_type": "stream",
     "text": [
      "\r",
      "Upgrading database; v2 -> v3: : 0it [00:00, ?it/s]"
     ]
    },
    {
     "name": "stdout",
     "output_type": "stream",
     "text": [
      "\r",
      "Upgrading database; v2 -> v3: : 0it [00:00, ?it/s]"
     ]
    },
    {
     "name": "stdout",
     "output_type": "stream",
     "text": [
      "\n",
      "\r",
      "0it [00:00, ?it/s]"
     ]
    },
    {
     "name": "stdout",
     "output_type": "stream",
     "text": [
      "\r",
      "Upgrading database; v3 -> v4: : 0it [00:00, ?it/s]"
     ]
    },
    {
     "name": "stdout",
     "output_type": "stream",
     "text": [
      "\r",
      "Upgrading database; v3 -> v4: : 0it [00:00, ?it/s]"
     ]
    },
    {
     "name": "stdout",
     "output_type": "stream",
     "text": [
      "\n",
      "\r",
      "  0%|          | 0/1 [00:00<?, ?it/s]"
     ]
    },
    {
     "name": "stdout",
     "output_type": "stream",
     "text": [
      "\r",
      "Upgrading database; v4 -> v5:   0%|          | 0/1 [00:00<?, ?it/s]"
     ]
    },
    {
     "name": "stdout",
     "output_type": "stream",
     "text": [
      "\r",
      "Upgrading database; v4 -> v5: 100%|██████████| 1/1 [00:00<00:00, 699.52it/s]"
     ]
    },
    {
     "name": "stdout",
     "output_type": "stream",
     "text": [
      "\n",
      "\r",
      "0it [00:00, ?it/s]"
     ]
    },
    {
     "name": "stdout",
     "output_type": "stream",
     "text": [
      "\r",
      "Upgrading database; v5 -> v6: : 0it [00:00, ?it/s]"
     ]
    },
    {
     "name": "stdout",
     "output_type": "stream",
     "text": [
      "\r",
      "Upgrading database; v5 -> v6: : 0it [00:00, ?it/s]"
     ]
    },
    {
     "name": "stdout",
     "output_type": "stream",
     "text": [
      "\n",
      "\r",
      "  0%|          | 0/1 [00:00<?, ?it/s]"
     ]
    },
    {
     "name": "stdout",
     "output_type": "stream",
     "text": [
      "\r",
      "Upgrading database; v6 -> v7:   0%|          | 0/1 [00:00<?, ?it/s]"
     ]
    },
    {
     "name": "stdout",
     "output_type": "stream",
     "text": [
      "\r",
      "Upgrading database; v6 -> v7: 100%|██████████| 1/1 [00:00<00:00, 221.58it/s]"
     ]
    },
    {
     "name": "stdout",
     "output_type": "stream",
     "text": [
      "\n",
      "\r",
      "  0%|          | 0/1 [00:00<?, ?it/s]"
     ]
    },
    {
     "name": "stdout",
     "output_type": "stream",
     "text": [
      "\r",
      "Upgrading database; v7 -> v8:   0%|          | 0/1 [00:00<?, ?it/s]"
     ]
    },
    {
     "name": "stdout",
     "output_type": "stream",
     "text": [
      "\r",
      "Upgrading database; v7 -> v8: 100%|██████████| 1/1 [00:00<00:00, 487.37it/s]"
     ]
    },
    {
     "name": "stdout",
     "output_type": "stream",
     "text": [
      "\n",
      "\r",
      "  0%|          | 0/1 [00:00<?, ?it/s]"
     ]
    },
    {
     "name": "stdout",
     "output_type": "stream",
     "text": [
      "\r",
      "Upgrading database; v8 -> v9:   0%|          | 0/1 [00:00<?, ?it/s]"
     ]
    },
    {
     "name": "stdout",
     "output_type": "stream",
     "text": [
      "\r",
      "Upgrading database; v8 -> v9: 100%|██████████| 1/1 [00:00<00:00, 304.80it/s]"
     ]
    },
    {
     "name": "stdout",
     "output_type": "stream",
     "text": [
      "\n"
     ]
    }
   ],
   "source": [
    "initialise_database()\n",
    "exp = load_or_create_experiment(experiment_name='tutorial_exp', sample_name=\"no sample\")"
   ]
  },
  {
   "cell_type": "markdown",
   "metadata": {},
   "source": [
    "Here, we define a simple function to benchmark the time it takes to insert n points with either numeric or array data type.\n",
    "We will compare both the time used to call ``add_result`` and the time used for the full measurement."
   ]
  },
  {
   "cell_type": "code",
   "execution_count": 4,
   "metadata": {
    "execution": {
     "iopub.execute_input": "2020-10-16T07:50:02.159610Z",
     "iopub.status.busy": "2020-10-16T07:50:02.159070Z",
     "iopub.status.idle": "2020-10-16T07:50:02.161895Z",
     "shell.execute_reply": "2020-10-16T07:50:02.161322Z"
    }
   },
   "outputs": [],
   "source": [
    "def insert_data(paramtype, npoints, nreps=1):\n",
    "\n",
    "    meas = Measurement(exp=exp)\n",
    "\n",
    "    x1 = ManualParameter('x1')\n",
    "    x2 = ManualParameter('x2')\n",
    "    x3 = ManualParameter('x3')\n",
    "    y1 = ManualParameter('y1')\n",
    "    y2 = ManualParameter('y2')\n",
    "\n",
    "    meas.register_parameter(x1, paramtype=paramtype)\n",
    "    meas.register_parameter(x2, paramtype=paramtype)\n",
    "    meas.register_parameter(x3, paramtype=paramtype)\n",
    "    meas.register_parameter(y1, setpoints=[x1, x2, x3],\n",
    "                            paramtype=paramtype)\n",
    "    meas.register_parameter(y2, setpoints=[x1, x2, x3],\n",
    "                            paramtype=paramtype)\n",
    "    start = time.perf_counter()\n",
    "    with meas.run() as datasaver:\n",
    "        start_adding = time.perf_counter()\n",
    "        for i in range(nreps):\n",
    "            datasaver.add_result((x1, np.random.rand(npoints)),\n",
    "                                 (x2, np.random.rand(npoints)),\n",
    "                                 (x3, np.random.rand(npoints)),\n",
    "                                 (y1, np.random.rand(npoints)),\n",
    "                                 (y2, np.random.rand(npoints)))\n",
    "        stop_adding = time.perf_counter()\n",
    "        run_id = datasaver.run_id\n",
    "    stop = time.perf_counter()\n",
    "    tot_time = stop - start\n",
    "    add_time = stop_adding - start_adding\n",
    "    return tot_time, add_time, run_id"
   ]
  },
  {
   "cell_type": "markdown",
   "metadata": {},
   "source": [
    "## Comparison between numeric/array data and binary blob"
   ]
  },
  {
   "cell_type": "markdown",
   "metadata": {},
   "source": [
    "### Case1: Short experiment time"
   ]
  },
  {
   "cell_type": "code",
   "execution_count": 5,
   "metadata": {
    "execution": {
     "iopub.execute_input": "2020-10-16T07:50:02.170642Z",
     "iopub.status.busy": "2020-10-16T07:50:02.170114Z",
     "iopub.status.idle": "2020-10-16T07:50:03.138117Z",
     "shell.execute_reply": "2020-10-16T07:50:03.137531Z"
    }
   },
   "outputs": [
    {
     "name": "stdout",
     "output_type": "stream",
     "text": [
      "Starting experimental run with id: 1. \n",
      "Starting experimental run with id: 2. \n",
      "Starting experimental run with id: 3. \n"
     ]
    },
    {
     "name": "stdout",
     "output_type": "stream",
     "text": [
      "Starting experimental run with id: 4. \n"
     ]
    },
    {
     "name": "stdout",
     "output_type": "stream",
     "text": [
      "Starting experimental run with id: 5. \n"
     ]
    },
    {
     "name": "stdout",
     "output_type": "stream",
     "text": [
      "Starting experimental run with id: 6. \n"
     ]
    },
    {
     "name": "stdout",
     "output_type": "stream",
     "text": [
      "Starting experimental run with id: 7. \n"
     ]
    },
    {
     "name": "stdout",
     "output_type": "stream",
     "text": [
      "Starting experimental run with id: 8. \n"
     ]
    },
    {
     "name": "stdout",
     "output_type": "stream",
     "text": [
      "Starting experimental run with id: 9. \n"
     ]
    },
    {
     "name": "stdout",
     "output_type": "stream",
     "text": [
      "Starting experimental run with id: 10. \n",
      "Starting experimental run with id: 11. \n"
     ]
    },
    {
     "name": "stdout",
     "output_type": "stream",
     "text": [
      "Starting experimental run with id: 12. \n",
      "Starting experimental run with id: 13. \n"
     ]
    },
    {
     "name": "stdout",
     "output_type": "stream",
     "text": [
      "Starting experimental run with id: 14. \n"
     ]
    }
   ],
   "source": [
    "sizes = [1,500,1000,2000,3000,4000,5000]\n",
    "t_numeric = []\n",
    "t_numeric_add = []\n",
    "t_array = []\n",
    "t_array_add = []\n",
    "for size in sizes:\n",
    "    tn, tna, run_id_n =  insert_data('numeric', size)\n",
    "    t_numeric.append(tn)\n",
    "    t_numeric_add.append(tna)\n",
    "\n",
    "    ta, taa, run_id_a =  insert_data('array', size)\n",
    "    t_array.append(ta)\n",
    "    t_array_add.append(taa)"
   ]
  },
  {
   "cell_type": "code",
   "execution_count": 6,
   "metadata": {
    "execution": {
     "iopub.execute_input": "2020-10-16T07:50:03.174008Z",
     "iopub.status.busy": "2020-10-16T07:50:03.157877Z",
     "iopub.status.idle": "2020-10-16T07:50:03.365942Z",
     "shell.execute_reply": "2020-10-16T07:50:03.365420Z"
    }
   },
   "outputs": [
    {
     "data": {
      "image/png": "[encoded data removed]",
      "text/plain": [
       "<Figure size 432x288 with 1 Axes>"
      ]
     },
     "metadata": {
      "needs_background": "light"
     },
     "output_type": "display_data"
    }
   ],
   "source": [
    "fig, ax = plt.subplots(1,1)\n",
    "ax.plot(sizes, t_numeric, 'o-', label='Inserting row-by-row')\n",
    "ax.plot(sizes, t_numeric_add, 'o-', label='Inserting row-by-row: add_result only')\n",
    "ax.plot(sizes, t_array, 'd-', label='Inserting as binary blob')\n",
    "ax.plot(sizes, t_array_add, 'd-', label='Inserting as binary blob: add_result only')\n",
    "ax.legend()\n",
    "ax.set_xlabel('Array length')\n",
    "ax.set_ylabel('Time (s)')\n",
    "fig.tight_layout()"
   ]
  },
  {
   "cell_type": "markdown",
   "metadata": {},
   "source": [
    "As shown in the latter figure, the time to setup and and close the experiment is approximately 0.4 sec. In case of small array sizes, the difference between inserting values of data as arrays and inserting them row-by-row is relatively unimportant. At larger array sizes, i.e. above 10000 points, the cost of writing data as individual datapoints starts to become important.\n"
   ]
  },
  {
   "cell_type": "markdown",
   "metadata": {},
   "source": [
    "### Case2: Long experiment time "
   ]
  },
  {
   "cell_type": "code",
   "execution_count": 7,
   "metadata": {
    "execution": {
     "iopub.execute_input": "2020-10-16T07:50:03.378473Z",
     "iopub.status.busy": "2020-10-16T07:50:03.377825Z",
     "iopub.status.idle": "2020-10-16T07:51:06.167233Z",
     "shell.execute_reply": "2020-10-16T07:51:06.167807Z"
    }
   },
   "outputs": [
    {
     "name": "stdout",
     "output_type": "stream",
     "text": [
      "Starting experimental run with id: 15. \n",
      "Starting experimental run with id: 16. \n",
      "Starting experimental run with id: 17. \n"
     ]
    },
    {
     "name": "stdout",
     "output_type": "stream",
     "text": [
      "Starting experimental run with id: 18. \n",
      "Starting experimental run with id: 19. \n"
     ]
    },
    {
     "name": "stdout",
     "output_type": "stream",
     "text": [
      "Starting experimental run with id: 20. \n"
     ]
    },
    {
     "name": "stdout",
     "output_type": "stream",
     "text": [
      "Starting experimental run with id: 21. \n"
     ]
    },
    {
     "name": "stdout",
     "output_type": "stream",
     "text": [
      "Starting experimental run with id: 22. \n"
     ]
    },
    {
     "name": "stdout",
     "output_type": "stream",
     "text": [
      "Starting experimental run with id: 23. \n"
     ]
    },
    {
     "name": "stdout",
     "output_type": "stream",
     "text": [
      "Starting experimental run with id: 24. \n"
     ]
    },
    {
     "name": "stdout",
     "output_type": "stream",
     "text": [
      "Starting experimental run with id: 25. \n"
     ]
    },
    {
     "name": "stdout",
     "output_type": "stream",
     "text": [
      "Starting experimental run with id: 26. \n"
     ]
    },
    {
     "name": "stdout",
     "output_type": "stream",
     "text": [
      "Starting experimental run with id: 27. \n"
     ]
    },
    {
     "name": "stdout",
     "output_type": "stream",
     "text": [
      "Starting experimental run with id: 28. \n"
     ]
    }
   ],
   "source": [
    "sizes = [1,500,1000,2000,3000,4000,5000]\n",
    "nreps = 100\n",
    "t_numeric = []\n",
    "t_numeric_add = []\n",
    "t_numeric_run_ids = []\n",
    "t_array = []\n",
    "t_array_add = []\n",
    "t_array_run_ids = []\n",
    "for size in sizes:\n",
    "    tn, tna, run_id_n =  insert_data('numeric', size, nreps=nreps)\n",
    "    t_numeric.append(tn)\n",
    "    t_numeric_add.append(tna)\n",
    "    t_numeric_run_ids.append(run_id_n)\n",
    "\n",
    "    ta, taa, run_id_a =  insert_data('array', size, nreps=nreps)\n",
    "    t_array.append(ta)\n",
    "    t_array_add.append(taa)\n",
    "    t_array_run_ids.append(run_id_a)"
   ]
  },
  {
   "cell_type": "code",
   "execution_count": 8,
   "metadata": {
    "execution": {
     "iopub.execute_input": "2020-10-16T07:51:06.213621Z",
     "iopub.status.busy": "2020-10-16T07:51:06.194451Z",
     "iopub.status.idle": "2020-10-16T07:51:06.403071Z",
     "shell.execute_reply": "2020-10-16T07:51:06.402499Z"
    },
    "scrolled": true
   },
   "outputs": [
    {
     "data": {
      "image/png": "[encoded data removed]",
      "text/plain": [
       "<Figure size 432x288 with 1 Axes>"
      ]
     },
     "metadata": {
      "needs_background": "light"
     },
     "output_type": "display_data"
    }
   ],
   "source": [
    "fig, ax = plt.subplots(1,1)\n",
    "ax.plot(sizes, t_numeric, 'o-', label='Inserting row-by-row')\n",
    "ax.plot(sizes, t_numeric_add, 'o-', label='Inserting row-by-row: add_result only')\n",
    "ax.plot(sizes, t_array, 'd-', label='Inserting as binary blob')\n",
    "ax.plot(sizes, t_array_add, 'd-', label='Inserting as binary blob: add_result only')\n",
    "ax.legend()\n",
    "ax.set_xlabel('Array length')\n",
    "ax.set_ylabel('Time (s)')\n",
    "fig.tight_layout()"
   ]
  },
  {
   "cell_type": "markdown",
   "metadata": {},
   "source": [
    "However, as we increase the length of the experiment, as seen here by repeating the insertion 100 times, we see a big difference between inserting values of the data row-by-row and inserting it as a binary blob."
   ]
  },
  {
   "cell_type": "markdown",
   "metadata": {},
   "source": [
    "## Loading the data "
   ]
  },
  {
   "cell_type": "code",
   "execution_count": 9,
   "metadata": {
    "execution": {
     "iopub.execute_input": "2020-10-16T07:51:06.407435Z",
     "iopub.status.busy": "2020-10-16T07:51:06.406531Z",
     "iopub.status.idle": "2020-10-16T07:51:06.410257Z",
     "shell.execute_reply": "2020-10-16T07:51:06.409719Z"
    }
   },
   "outputs": [],
   "source": [
    "from qcodes.dataset.data_set import load_by_id\n",
    "from qcodes.dataset.data_export import get_data_by_id"
   ]
  },
  {
   "cell_type": "markdown",
   "metadata": {},
   "source": [
    "As usual you can load the data by using the ``load_by_id`` function but you will notice that the different storage methods\n",
    "are reflected in shape of the data as it is retrieved. "
   ]
  },
  {
   "cell_type": "code",
   "execution_count": 10,
   "metadata": {
    "execution": {
     "iopub.execute_input": "2020-10-16T07:51:06.414082Z",
     "iopub.status.busy": "2020-10-16T07:51:06.413587Z",
     "iopub.status.idle": "2020-10-16T07:51:06.417007Z",
     "shell.execute_reply": "2020-10-16T07:51:06.416546Z"
    }
   },
   "outputs": [],
   "source": [
    "run_id_n = t_numeric_run_ids[0]\n",
    "run_id_a = t_array_run_ids[0]"
   ]
  },
  {
   "cell_type": "code",
   "execution_count": 11,
   "metadata": {
    "execution": {
     "iopub.execute_input": "2020-10-16T07:51:06.420462Z",
     "iopub.status.busy": "2020-10-16T07:51:06.419683Z",
     "iopub.status.idle": "2020-10-16T07:51:06.430536Z",
     "shell.execute_reply": "2020-10-16T07:51:06.430096Z"
    },
    "scrolled": true
   },
   "outputs": [
    {
     "data": {
      "text/plain": [
       "{'x1': {'x1': array([0.74024864, 0.74024864, 0.334724  , 0.334724  , 0.98117882,\n",
       "         0.98117882, 0.3957273 , 0.3957273 , 0.10568953, 0.10568953,\n",
       "         0.22521333, 0.22521333, 0.57245801, 0.57245801, 0.68896298,\n",
       "         0.68896298, 0.08913798, 0.08913798, 0.07489141, 0.07489141,\n",
       "         0.99324494, 0.99324494, 0.07711019, 0.07711019, 0.65035971,\n",
       "         0.65035971, 0.47244967, 0.47244967, 0.26062823, 0.26062823,\n",
       "         0.47219579, 0.47219579, 0.35011737, 0.35011737, 0.39105778,\n",
       "         0.39105778, 0.63390524, 0.63390524, 0.63687621, 0.63687621,\n",
       "         0.52325249, 0.52325249, 0.67471665, 0.67471665, 0.99523511,\n",
       "         0.99523511, 0.43020641, 0.43020641, 0.015857  , 0.015857  ,\n",
       "         0.6501917 , 0.6501917 , 0.46217374, 0.46217374, 0.98422282,\n",
       "         0.98422282, 0.364449  , 0.364449  , 0.93652789, 0.93652789,\n",
       "         0.53554496, 0.53554496, 0.28612155, 0.28612155, 0.12977985,\n",
       "         0.12977985, 0.10532933, 0.10532933, 0.95237018, 0.95237018,\n",
       "         0.79162799, 0.79162799, 0.90622549, 0.90622549, 0.4592395 ,\n",
       "         0.4592395 , 0.50093995, 0.50093995, 0.76924302, 0.76924302,\n",
       "         0.16388762, 0.16388762, 0.59382611, 0.59382611, 0.80749018,\n",
       "         0.80749018, 0.18289077, 0.18289077, 0.71945366, 0.71945366,\n",
       "         0.43368855, 0.43368855, 0.12321464, 0.12321464, 0.35076564,\n",
       "         0.35076564, 0.81499411, 0.81499411, 0.69710636, 0.69710636,\n",
       "         0.19495963, 0.19495963, 0.04073632, 0.04073632, 0.30978008,\n",
       "         0.30978008, 0.69098562, 0.69098562, 0.88453456, 0.88453456,\n",
       "         0.13168598, 0.13168598, 0.17454329, 0.17454329, 0.3999207 ,\n",
       "         0.3999207 , 0.75343081, 0.75343081, 0.78107404, 0.78107404,\n",
       "         0.67015994, 0.67015994, 0.98826993, 0.98826993, 0.62176145,\n",
       "         0.62176145, 0.67252589, 0.67252589, 0.27373755, 0.27373755,\n",
       "         0.15726877, 0.15726877, 0.70319353, 0.70319353, 0.31925823,\n",
       "         0.31925823, 0.47708309, 0.47708309, 0.42786056, 0.42786056,\n",
       "         0.71502596, 0.71502596, 0.23234478, 0.23234478, 0.65200765,\n",
       "         0.65200765, 0.88325544, 0.88325544, 0.56640895, 0.56640895,\n",
       "         0.57752007, 0.57752007, 0.6630018 , 0.6630018 , 0.35184016,\n",
       "         0.35184016, 0.66921412, 0.66921412, 0.62237291, 0.62237291,\n",
       "         0.53936056, 0.53936056, 0.9788753 , 0.9788753 , 0.41152989,\n",
       "         0.41152989, 0.21884102, 0.21884102, 0.9012061 , 0.9012061 ,\n",
       "         0.54518731, 0.54518731, 0.0938909 , 0.0938909 , 0.34383711,\n",
       "         0.34383711, 0.10685031, 0.10685031, 0.51822026, 0.51822026,\n",
       "         0.79270325, 0.79270325, 0.92265165, 0.92265165, 0.17297743,\n",
       "         0.17297743, 0.30447971, 0.30447971, 0.63560848, 0.63560848,\n",
       "         0.16832004, 0.16832004, 0.42214894, 0.42214894, 0.98889929,\n",
       "         0.98889929, 0.79286547, 0.79286547, 0.43933579, 0.43933579])}}"
      ]
     },
     "execution_count": 1,
     "metadata": {},
     "output_type": "execute_result"
    }
   ],
   "source": [
    "ds = load_by_id(run_id_n)\n",
    "ds.get_parameter_data('x1')"
   ]
  },
  {
   "cell_type": "markdown",
   "metadata": {},
   "source": [
    "And a dataset stored as binary arrays"
   ]
  },
  {
   "cell_type": "code",
   "execution_count": 12,
   "metadata": {
    "execution": {
     "iopub.execute_input": "2020-10-16T07:51:06.433855Z",
     "iopub.status.busy": "2020-10-16T07:51:06.433362Z",
     "iopub.status.idle": "2020-10-16T07:51:06.494795Z",
     "shell.execute_reply": "2020-10-16T07:51:06.494060Z"
    },
    "scrolled": true
   },
   "outputs": [
    {
     "data": {
      "text/plain": [
       "{'x1': {'x1': array([[0.24753863],\n",
       "         [0.24753863],\n",
       "         [0.02610529],\n",
       "         [0.02610529],\n",
       "         [0.3124854 ],\n",
       "         [0.3124854 ],\n",
       "         [0.38461974],\n",
       "         [0.38461974],\n",
       "         [0.81222026],\n",
       "         [0.81222026],\n",
       "         [0.39324852],\n",
       "         [0.39324852],\n",
       "         [0.04205618],\n",
       "         [0.04205618],\n",
       "         [0.92145968],\n",
       "         [0.92145968],\n",
       "         [0.47810744],\n",
       "         [0.47810744],\n",
       "         [0.12162437],\n",
       "         [0.12162437],\n",
       "         [0.50671305],\n",
       "         [0.50671305],\n",
       "         [0.22854311],\n",
       "         [0.22854311],\n",
       "         [0.32562546],\n",
       "         [0.32562546],\n",
       "         [0.28321471],\n",
       "         [0.28321471],\n",
       "         [0.50164977],\n",
       "         [0.50164977],\n",
       "         [0.06855934],\n",
       "         [0.06855934],\n",
       "         [0.35877592],\n",
       "         [0.35877592],\n",
       "         [0.86985025],\n",
       "         [0.86985025],\n",
       "         [0.44682418],\n",
       "         [0.44682418],\n",
       "         [0.85183221],\n",
       "         [0.85183221],\n",
       "         [0.80197811],\n",
       "         [0.80197811],\n",
       "         [0.8351873 ],\n",
       "         [0.8351873 ],\n",
       "         [0.62669115],\n",
       "         [0.62669115],\n",
       "         [0.86539336],\n",
       "         [0.86539336],\n",
       "         [0.03528588],\n",
       "         [0.03528588],\n",
       "         [0.26767435],\n",
       "         [0.26767435],\n",
       "         [0.29262988],\n",
       "         [0.29262988],\n",
       "         [0.58567499],\n",
       "         [0.58567499],\n",
       "         [0.20041191],\n",
       "         [0.20041191],\n",
       "         [0.40876631],\n",
       "         [0.40876631],\n",
       "         [0.45074723],\n",
       "         [0.45074723],\n",
       "         [0.74720823],\n",
       "         [0.74720823],\n",
       "         [0.14283035],\n",
       "         [0.14283035],\n",
       "         [0.73968934],\n",
       "         [0.73968934],\n",
       "         [0.25953899],\n",
       "         [0.25953899],\n",
       "         [0.11157475],\n",
       "         [0.11157475],\n",
       "         [0.95382339],\n",
       "         [0.95382339],\n",
       "         [0.91174526],\n",
       "         [0.91174526],\n",
       "         [0.46606968],\n",
       "         [0.46606968],\n",
       "         [0.39884502],\n",
       "         [0.39884502],\n",
       "         [0.34153737],\n",
       "         [0.34153737],\n",
       "         [0.95821553],\n",
       "         [0.95821553],\n",
       "         [0.56428201],\n",
       "         [0.56428201],\n",
       "         [0.80342877],\n",
       "         [0.80342877],\n",
       "         [0.7416144 ],\n",
       "         [0.7416144 ],\n",
       "         [0.22995561],\n",
       "         [0.22995561],\n",
       "         [0.98193885],\n",
       "         [0.98193885],\n",
       "         [0.45436779],\n",
       "         [0.45436779],\n",
       "         [0.81956175],\n",
       "         [0.81956175],\n",
       "         [0.07085852],\n",
       "         [0.07085852],\n",
       "         [0.48989335],\n",
       "         [0.48989335],\n",
       "         [0.86917882],\n",
       "         [0.86917882],\n",
       "         [0.34468103],\n",
       "         [0.34468103],\n",
       "         [0.9229291 ],\n",
       "         [0.9229291 ],\n",
       "         [0.35529604],\n",
       "         [0.35529604],\n",
       "         [0.29854865],\n",
       "         [0.29854865],\n",
       "         [0.6313275 ],\n",
       "         [0.6313275 ],\n",
       "         [0.22258115],\n",
       "         [0.22258115],\n",
       "         [0.75170986],\n",
       "         [0.75170986],\n",
       "         [0.94304759],\n",
       "         [0.94304759],\n",
       "         [0.33532788],\n",
       "         [0.33532788],\n",
       "         [0.61804139],\n",
       "         [0.61804139],\n",
       "         [0.54470312],\n",
       "         [0.54470312],\n",
       "         [0.29910649],\n",
       "         [0.29910649],\n",
       "         [0.82077922],\n",
       "         [0.82077922],\n",
       "         [0.38425618],\n",
       "         [0.38425618],\n",
       "         [0.95181453],\n",
       "         [0.95181453],\n",
       "         [0.67053777],\n",
       "         [0.67053777],\n",
       "         [0.50002631],\n",
       "         [0.50002631],\n",
       "         [0.32765064],\n",
       "         [0.32765064],\n",
       "         [0.92173943],\n",
       "         [0.92173943],\n",
       "         [0.55449649],\n",
       "         [0.55449649],\n",
       "         [0.82414005],\n",
       "         [0.82414005],\n",
       "         [0.75768417],\n",
       "         [0.75768417],\n",
       "         [0.09863513],\n",
       "         [0.09863513],\n",
       "         [0.5241246 ],\n",
       "         [0.5241246 ],\n",
       "         [0.88874329],\n",
       "         [0.88874329],\n",
       "         [0.1868153 ],\n",
       "         [0.1868153 ],\n",
       "         [0.58221242],\n",
       "         [0.58221242],\n",
       "         [0.93292118],\n",
       "         [0.93292118],\n",
       "         [0.23462281],\n",
       "         [0.23462281],\n",
       "         [0.95759794],\n",
       "         [0.95759794],\n",
       "         [0.51857075],\n",
       "         [0.51857075],\n",
       "         [0.76965357],\n",
       "         [0.76965357],\n",
       "         [0.23660445],\n",
       "         [0.23660445],\n",
       "         [0.51537105],\n",
       "         [0.51537105],\n",
       "         [0.81541691],\n",
       "         [0.81541691],\n",
       "         [0.46905302],\n",
       "         [0.46905302],\n",
       "         [0.15073487],\n",
       "         [0.15073487],\n",
       "         [0.02020639],\n",
       "         [0.02020639],\n",
       "         [0.33846548],\n",
       "         [0.33846548],\n",
       "         [0.69553136],\n",
       "         [0.69553136],\n",
       "         [0.42562843],\n",
       "         [0.42562843],\n",
       "         [0.3363654 ],\n",
       "         [0.3363654 ],\n",
       "         [0.08537375],\n",
       "         [0.08537375],\n",
       "         [0.79036419],\n",
       "         [0.79036419],\n",
       "         [0.11061643],\n",
       "         [0.11061643],\n",
       "         [0.09043761],\n",
       "         [0.09043761],\n",
       "         [0.14790679],\n",
       "         [0.14790679],\n",
       "         [0.14093079],\n",
       "         [0.14093079]])}}"
      ]
     },
     "execution_count": 1,
     "metadata": {},
     "output_type": "execute_result"
    }
   ],
   "source": [
    "ds = load_by_id(run_id_a)\n",
    "ds.get_parameter_data('x1')"
   ]
  },
  {
   "cell_type": "code",
   "execution_count": null,
   "metadata": {},
   "outputs": [],
   "source": []
  }
 ],
 "metadata": {
  "kernelspec": {
   "display_name": "Python 3",
   "language": "python",
   "name": "python3"
  },
  "language_info": {
   "codemirror_mode": {
    "name": "ipython",
    "version": 3
   },
   "file_extension": ".py",
   "mimetype": "text/x-python",
   "name": "python",
   "nbconvert_exporter": "python",
   "pygments_lexer": "ipython3",
   "version": "3.7.7"
  },
  "nbsphinx": {
   "timeout": 600
  },
  "toc": {
   "base_numbering": 1,
   "nav_menu": {},
   "number_sections": true,
   "sideBar": true,
   "skip_h1_title": false,
   "title_cell": "Table of Contents",
   "title_sidebar": "Contents",
   "toc_cell": false,
   "toc_position": {},
   "toc_section_display": true,
   "toc_window_display": false
  },
  "varInspector": {
   "cols": {
    "lenName": 16,
    "lenType": 16,
    "lenVar": 40
   },
   "kernels_config": {
    "python": {
     "delete_cmd_postfix": "",
     "delete_cmd_prefix": "del ",
     "library": "var_list.py",
     "varRefreshCmd": "print(var_dic_list())"
    },
    "r": {
     "delete_cmd_postfix": ") ",
     "delete_cmd_prefix": "rm(",
     "library": "var_list.r",
     "varRefreshCmd": "cat(var_dic_list()) "
    }
   },
   "types_to_exclude": [
    "module",
    "function",
    "builtin_function_or_method",
    "instance",
    "_Feature"
   ],
   "window_display": false
  }
 },
 "nbformat": 4,
 "nbformat_minor": 2
}
