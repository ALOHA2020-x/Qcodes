{
 "cells": [
  {
   "cell_type": "markdown",
   "metadata": {},
   "source": [
    "# DataSet Performance\n",
    "\n",
    "This notebook shows the trade-off between inserting data into a database row-by-row and as binary blobs. Inserting the data row-by-row means that we have direct access to all the data and may perform queries directly on the values of the data. On the other hand, as we shall see, this is much slower than inserting the data directly as binary blobs."
   ]
  },
  {
   "cell_type": "markdown",
   "metadata": {},
   "source": [
    "First, we choose a new location for the database to ensure that we don't add a bunch of benchmarking data to the default one."
   ]
  },
  {
   "cell_type": "code",
   "execution_count": 1,
   "metadata": {
    "execution": {
     "iopub.execute_input": "2021-01-11T09:48:27.199864Z",
     "iopub.status.busy": "2021-01-11T09:48:27.199326Z",
     "iopub.status.idle": "2021-01-11T09:48:28.357661Z",
     "shell.execute_reply": "2021-01-11T09:48:28.357089Z"
    }
   },
   "outputs": [
    {
     "name": "stdout",
     "output_type": "stream",
     "text": [
      "Logging hadn't been started.\n",
      "Activating auto-logging. Current session state plus future input saved.\n",
      "Filename       : /home/vsts/.qcodes/logs/command_history.log\n",
      "Mode           : append\n",
      "Output logging : True\n",
      "Raw input log  : False\n",
      "Timestamping   : True\n",
      "State          : active\n"
     ]
    },
    {
     "name": "stdout",
     "output_type": "stream",
     "text": [
      "Qcodes Logfile : /home/vsts/.qcodes/logs/210111-13787-qcodes.log\n"
     ]
    }
   ],
   "source": [
    "import os\n",
    "cwd = os.getcwd()\n",
    "import qcodes as qc\n",
    "qc.config[\"core\"][\"db_location\"] = os.path.join(cwd, 'testing.db')\n"
   ]
  },
  {
   "cell_type": "code",
   "execution_count": 2,
   "metadata": {
    "execution": {
     "iopub.execute_input": "2021-01-11T09:48:28.364425Z",
     "iopub.status.busy": "2021-01-11T09:48:28.363523Z",
     "iopub.status.idle": "2021-01-11T09:48:28.567588Z",
     "shell.execute_reply": "2021-01-11T09:48:28.566717Z"
    }
   },
   "outputs": [],
   "source": [
    "%matplotlib inline\n",
    "import time\n",
    "import matplotlib.pyplot as plt\n",
    "import numpy as np\n",
    "\n",
    "import qcodes as qc\n",
    "from qcodes.instrument.parameter import ManualParameter\n",
    "from qcodes.dataset.experiment_container import (Experiment,\n",
    "                                                 load_last_experiment,\n",
    "                                                 new_experiment)\n",
    "from qcodes.dataset.sqlite.database import initialise_database\n",
    "from qcodes import load_or_create_experiment\n",
    "from qcodes.dataset.measurements import Measurement"
   ]
  },
  {
   "cell_type": "code",
   "execution_count": 3,
   "metadata": {
    "execution": {
     "iopub.execute_input": "2021-01-11T09:48:28.571617Z",
     "iopub.status.busy": "2021-01-11T09:48:28.571065Z",
     "iopub.status.idle": "2021-01-11T09:48:28.709028Z",
     "shell.execute_reply": "2021-01-11T09:48:28.708173Z"
    }
   },
   "outputs": [
    {
     "name": "stdout",
     "output_type": "stream",
     "text": [
      "\r",
      "0it [00:00, ?it/s]"
     ]
    },
    {
     "name": "stdout",
     "output_type": "stream",
     "text": [
      "\r",
      "Upgrading database; v0 -> v1: : 0it [00:00, ?it/s]"
     ]
    },
    {
     "name": "stdout",
     "output_type": "stream",
     "text": [
      "\r",
      "Upgrading database; v0 -> v1: : 0it [00:00, ?it/s]"
     ]
    },
    {
     "name": "stdout",
     "output_type": "stream",
     "text": [
      "\n",
      "\r",
      "  0%|          | 0/1 [00:00<?, ?it/s]"
     ]
    },
    {
     "name": "stdout",
     "output_type": "stream",
     "text": [
      "\r",
      "Upgrading database; v1 -> v2:   0%|          | 0/1 [00:00<?, ?it/s]"
     ]
    },
    {
     "name": "stdout",
     "output_type": "stream",
     "text": [
      "\r",
      "Upgrading database; v1 -> v2: 100%|██████████| 1/1 [00:00<00:00, 838.02it/s]"
     ]
    },
    {
     "name": "stdout",
     "output_type": "stream",
     "text": [
      "\n",
      "\r",
      "0it [00:00, ?it/s]"
     ]
    },
    {
     "name": "stdout",
     "output_type": "stream",
     "text": [
      "\r",
      "Upgrading database; v2 -> v3: : 0it [00:00, ?it/s]"
     ]
    },
    {
     "name": "stdout",
     "output_type": "stream",
     "text": [
      "\r",
      "Upgrading database; v2 -> v3: : 0it [00:00, ?it/s]"
     ]
    },
    {
     "name": "stdout",
     "output_type": "stream",
     "text": [
      "\n",
      "\r",
      "0it [00:00, ?it/s]"
     ]
    },
    {
     "name": "stdout",
     "output_type": "stream",
     "text": [
      "\r",
      "Upgrading database; v3 -> v4: : 0it [00:00, ?it/s]"
     ]
    },
    {
     "name": "stdout",
     "output_type": "stream",
     "text": [
      "\r",
      "Upgrading database; v3 -> v4: : 0it [00:00, ?it/s]"
     ]
    },
    {
     "name": "stdout",
     "output_type": "stream",
     "text": [
      "\n",
      "\r",
      "  0%|          | 0/1 [00:00<?, ?it/s]"
     ]
    },
    {
     "name": "stdout",
     "output_type": "stream",
     "text": [
      "\r",
      "Upgrading database; v4 -> v5:   0%|          | 0/1 [00:00<?, ?it/s]"
     ]
    },
    {
     "name": "stdout",
     "output_type": "stream",
     "text": [
      "\r",
      "Upgrading database; v4 -> v5: 100%|██████████| 1/1 [00:00<00:00, 415.24it/s]"
     ]
    },
    {
     "name": "stdout",
     "output_type": "stream",
     "text": [
      "\n",
      "\r",
      "0it [00:00, ?it/s]"
     ]
    },
    {
     "name": "stdout",
     "output_type": "stream",
     "text": [
      "\r",
      "Upgrading database; v5 -> v6: : 0it [00:00, ?it/s]"
     ]
    },
    {
     "name": "stdout",
     "output_type": "stream",
     "text": [
      "\r",
      "Upgrading database; v5 -> v6: : 0it [00:00, ?it/s]"
     ]
    },
    {
     "name": "stdout",
     "output_type": "stream",
     "text": [
      "\n",
      "\r",
      "  0%|          | 0/1 [00:00<?, ?it/s]"
     ]
    },
    {
     "name": "stdout",
     "output_type": "stream",
     "text": [
      "\r",
      "Upgrading database; v6 -> v7:   0%|          | 0/1 [00:00<?, ?it/s]"
     ]
    },
    {
     "name": "stdout",
     "output_type": "stream",
     "text": [
      "\r",
      "Upgrading database; v6 -> v7: 100%|██████████| 1/1 [00:00<00:00, 223.47it/s]"
     ]
    },
    {
     "name": "stdout",
     "output_type": "stream",
     "text": [
      "\n",
      "\r",
      "  0%|          | 0/1 [00:00<?, ?it/s]"
     ]
    },
    {
     "name": "stdout",
     "output_type": "stream",
     "text": [
      "\r",
      "Upgrading database; v7 -> v8:   0%|          | 0/1 [00:00<?, ?it/s]"
     ]
    },
    {
     "name": "stdout",
     "output_type": "stream",
     "text": [
      "\r",
      "Upgrading database; v7 -> v8: 100%|██████████| 1/1 [00:00<00:00, 785.60it/s]"
     ]
    },
    {
     "name": "stdout",
     "output_type": "stream",
     "text": [
      "\n",
      "\r",
      "  0%|          | 0/1 [00:00<?, ?it/s]"
     ]
    },
    {
     "name": "stdout",
     "output_type": "stream",
     "text": [
      "\r",
      "Upgrading database; v8 -> v9:   0%|          | 0/1 [00:00<?, ?it/s]"
     ]
    },
    {
     "name": "stdout",
     "output_type": "stream",
     "text": [
      "\r",
      "Upgrading database; v8 -> v9: 100%|██████████| 1/1 [00:00<00:00, 505.64it/s]"
     ]
    },
    {
     "name": "stdout",
     "output_type": "stream",
     "text": [
      "\n"
     ]
    }
   ],
   "source": [
    "initialise_database()\n",
    "exp = load_or_create_experiment(experiment_name='tutorial_exp', sample_name=\"no sample\")"
   ]
  },
  {
   "cell_type": "markdown",
   "metadata": {},
   "source": [
    "Here, we define a simple function to benchmark the time it takes to insert n points with either numeric or array data type.\n",
    "We will compare both the time used to call ``add_result`` and the time used for the full measurement."
   ]
  },
  {
   "cell_type": "code",
   "execution_count": 4,
   "metadata": {
    "execution": {
     "iopub.execute_input": "2021-01-11T09:48:28.718599Z",
     "iopub.status.busy": "2021-01-11T09:48:28.717388Z",
     "iopub.status.idle": "2021-01-11T09:48:28.719148Z",
     "shell.execute_reply": "2021-01-11T09:48:28.719662Z"
    }
   },
   "outputs": [],
   "source": [
    "def insert_data(paramtype, npoints, nreps=1):\n",
    "\n",
    "    meas = Measurement(exp=exp)\n",
    "\n",
    "    x1 = ManualParameter('x1')\n",
    "    x2 = ManualParameter('x2')\n",
    "    x3 = ManualParameter('x3')\n",
    "    y1 = ManualParameter('y1')\n",
    "    y2 = ManualParameter('y2')\n",
    "\n",
    "    meas.register_parameter(x1, paramtype=paramtype)\n",
    "    meas.register_parameter(x2, paramtype=paramtype)\n",
    "    meas.register_parameter(x3, paramtype=paramtype)\n",
    "    meas.register_parameter(y1, setpoints=[x1, x2, x3],\n",
    "                            paramtype=paramtype)\n",
    "    meas.register_parameter(y2, setpoints=[x1, x2, x3],\n",
    "                            paramtype=paramtype)\n",
    "    start = time.perf_counter()\n",
    "    with meas.run() as datasaver:\n",
    "        start_adding = time.perf_counter()\n",
    "        for i in range(nreps):\n",
    "            datasaver.add_result((x1, np.random.rand(npoints)),\n",
    "                                 (x2, np.random.rand(npoints)),\n",
    "                                 (x3, np.random.rand(npoints)),\n",
    "                                 (y1, np.random.rand(npoints)),\n",
    "                                 (y2, np.random.rand(npoints)))\n",
    "        stop_adding = time.perf_counter()\n",
    "        run_id = datasaver.run_id\n",
    "    stop = time.perf_counter()\n",
    "    tot_time = stop - start\n",
    "    add_time = stop_adding - start_adding\n",
    "    return tot_time, add_time, run_id"
   ]
  },
  {
   "cell_type": "markdown",
   "metadata": {},
   "source": [
    "## Comparison between numeric/array data and binary blob"
   ]
  },
  {
   "cell_type": "markdown",
   "metadata": {},
   "source": [
    "### Case1: Short experiment time"
   ]
  },
  {
   "cell_type": "code",
   "execution_count": 5,
   "metadata": {
    "execution": {
     "iopub.execute_input": "2021-01-11T09:48:28.727019Z",
     "iopub.status.busy": "2021-01-11T09:48:28.726470Z",
     "iopub.status.idle": "2021-01-11T09:48:29.587931Z",
     "shell.execute_reply": "2021-01-11T09:48:29.587303Z"
    }
   },
   "outputs": [
    {
     "name": "stdout",
     "output_type": "stream",
     "text": [
      "Starting experimental run with id: 1. \n",
      "Starting experimental run with id: 2. \n",
      "Starting experimental run with id: 3. \n",
      "Starting experimental run with id: 4. \n"
     ]
    },
    {
     "name": "stdout",
     "output_type": "stream",
     "text": [
      "Starting experimental run with id: 5. \n"
     ]
    },
    {
     "name": "stdout",
     "output_type": "stream",
     "text": [
      "Starting experimental run with id: 6. \n"
     ]
    },
    {
     "name": "stdout",
     "output_type": "stream",
     "text": [
      "Starting experimental run with id: 7. \n"
     ]
    },
    {
     "name": "stdout",
     "output_type": "stream",
     "text": [
      "Starting experimental run with id: 8. \n",
      "Starting experimental run with id: 9. \n"
     ]
    },
    {
     "name": "stdout",
     "output_type": "stream",
     "text": [
      "Starting experimental run with id: 10. \n",
      "Starting experimental run with id: 11. \n"
     ]
    },
    {
     "name": "stdout",
     "output_type": "stream",
     "text": [
      "Starting experimental run with id: 12. \n"
     ]
    },
    {
     "name": "stdout",
     "output_type": "stream",
     "text": [
      "Starting experimental run with id: 13. \n"
     ]
    },
    {
     "name": "stdout",
     "output_type": "stream",
     "text": [
      "Starting experimental run with id: 14. \n"
     ]
    }
   ],
   "source": [
    "sizes = [1,500,1000,2000,3000,4000,5000]\n",
    "t_numeric = []\n",
    "t_numeric_add = []\n",
    "t_array = []\n",
    "t_array_add = []\n",
    "for size in sizes:\n",
    "    tn, tna, run_id_n =  insert_data('numeric', size)\n",
    "    t_numeric.append(tn)\n",
    "    t_numeric_add.append(tna)\n",
    "\n",
    "    ta, taa, run_id_a =  insert_data('array', size)\n",
    "    t_array.append(ta)\n",
    "    t_array_add.append(taa)"
   ]
  },
  {
   "cell_type": "code",
   "execution_count": 6,
   "metadata": {
    "execution": {
     "iopub.execute_input": "2021-01-11T09:48:29.608656Z",
     "iopub.status.busy": "2021-01-11T09:48:29.606079Z",
     "iopub.status.idle": "2021-01-11T09:48:29.829401Z",
     "shell.execute_reply": "2021-01-11T09:48:29.828890Z"
    }
   },
   "outputs": [
    {
     "data": {
      "image/png": "[encoded data removed]",
      "text/plain": [
       "<Figure size 432x288 with 1 Axes>"
      ]
     },
     "metadata": {
      "needs_background": "light"
     },
     "output_type": "display_data"
    }
   ],
   "source": [
    "fig, ax = plt.subplots(1,1)\n",
    "ax.plot(sizes, t_numeric, 'o-', label='Inserting row-by-row')\n",
    "ax.plot(sizes, t_numeric_add, 'o-', label='Inserting row-by-row: add_result only')\n",
    "ax.plot(sizes, t_array, 'd-', label='Inserting as binary blob')\n",
    "ax.plot(sizes, t_array_add, 'd-', label='Inserting as binary blob: add_result only')\n",
    "ax.legend()\n",
    "ax.set_xlabel('Array length')\n",
    "ax.set_ylabel('Time (s)')\n",
    "fig.tight_layout()"
   ]
  },
  {
   "cell_type": "markdown",
   "metadata": {},
   "source": [
    "As shown in the latter figure, the time to setup and and close the experiment is approximately 0.4 sec. In case of small array sizes, the difference between inserting values of data as arrays and inserting them row-by-row is relatively unimportant. At larger array sizes, i.e. above 10000 points, the cost of writing data as individual datapoints starts to become important.\n"
   ]
  },
  {
   "cell_type": "markdown",
   "metadata": {},
   "source": [
    "### Case2: Long experiment time "
   ]
  },
  {
   "cell_type": "code",
   "execution_count": 7,
   "metadata": {
    "execution": {
     "iopub.execute_input": "2021-01-11T09:48:29.836186Z",
     "iopub.status.busy": "2021-01-11T09:48:29.835560Z",
     "iopub.status.idle": "2021-01-11T09:49:29.337823Z",
     "shell.execute_reply": "2021-01-11T09:49:29.338347Z"
    }
   },
   "outputs": [
    {
     "name": "stdout",
     "output_type": "stream",
     "text": [
      "Starting experimental run with id: 15. \n",
      "Starting experimental run with id: 16. \n",
      "Starting experimental run with id: 17. \n"
     ]
    },
    {
     "name": "stdout",
     "output_type": "stream",
     "text": [
      "Starting experimental run with id: 18. \n",
      "Starting experimental run with id: 19. \n"
     ]
    },
    {
     "name": "stdout",
     "output_type": "stream",
     "text": [
      "Starting experimental run with id: 20. \n"
     ]
    },
    {
     "name": "stdout",
     "output_type": "stream",
     "text": [
      "Starting experimental run with id: 21. \n"
     ]
    },
    {
     "name": "stdout",
     "output_type": "stream",
     "text": [
      "Starting experimental run with id: 22. \n"
     ]
    },
    {
     "name": "stdout",
     "output_type": "stream",
     "text": [
      "Starting experimental run with id: 23. \n"
     ]
    },
    {
     "name": "stdout",
     "output_type": "stream",
     "text": [
      "Starting experimental run with id: 24. \n"
     ]
    },
    {
     "name": "stdout",
     "output_type": "stream",
     "text": [
      "Starting experimental run with id: 25. \n"
     ]
    },
    {
     "name": "stdout",
     "output_type": "stream",
     "text": [
      "Starting experimental run with id: 26. \n"
     ]
    },
    {
     "name": "stdout",
     "output_type": "stream",
     "text": [
      "Starting experimental run with id: 27. \n"
     ]
    },
    {
     "name": "stdout",
     "output_type": "stream",
     "text": [
      "Starting experimental run with id: 28. \n"
     ]
    }
   ],
   "source": [
    "sizes = [1,500,1000,2000,3000,4000,5000]\n",
    "nreps = 100\n",
    "t_numeric = []\n",
    "t_numeric_add = []\n",
    "t_numeric_run_ids = []\n",
    "t_array = []\n",
    "t_array_add = []\n",
    "t_array_run_ids = []\n",
    "for size in sizes:\n",
    "    tn, tna, run_id_n =  insert_data('numeric', size, nreps=nreps)\n",
    "    t_numeric.append(tn)\n",
    "    t_numeric_add.append(tna)\n",
    "    t_numeric_run_ids.append(run_id_n)\n",
    "\n",
    "    ta, taa, run_id_a =  insert_data('array', size, nreps=nreps)\n",
    "    t_array.append(ta)\n",
    "    t_array_add.append(taa)\n",
    "    t_array_run_ids.append(run_id_a)"
   ]
  },
  {
   "cell_type": "code",
   "execution_count": 8,
   "metadata": {
    "execution": {
     "iopub.execute_input": "2021-01-11T09:49:29.360373Z",
     "iopub.status.busy": "2021-01-11T09:49:29.358530Z",
     "iopub.status.idle": "2021-01-11T09:49:29.585232Z",
     "shell.execute_reply": "2021-01-11T09:49:29.584231Z"
    },
    "scrolled": true
   },
   "outputs": [
    {
     "data": {
      "image/png": "[encoded data removed]",
      "text/plain": [
       "<Figure size 432x288 with 1 Axes>"
      ]
     },
     "metadata": {
      "needs_background": "light"
     },
     "output_type": "display_data"
    }
   ],
   "source": [
    "fig, ax = plt.subplots(1,1)\n",
    "ax.plot(sizes, t_numeric, 'o-', label='Inserting row-by-row')\n",
    "ax.plot(sizes, t_numeric_add, 'o-', label='Inserting row-by-row: add_result only')\n",
    "ax.plot(sizes, t_array, 'd-', label='Inserting as binary blob')\n",
    "ax.plot(sizes, t_array_add, 'd-', label='Inserting as binary blob: add_result only')\n",
    "ax.legend()\n",
    "ax.set_xlabel('Array length')\n",
    "ax.set_ylabel('Time (s)')\n",
    "fig.tight_layout()"
   ]
  },
  {
   "cell_type": "markdown",
   "metadata": {},
   "source": [
    "However, as we increase the length of the experiment, as seen here by repeating the insertion 100 times, we see a big difference between inserting values of the data row-by-row and inserting it as a binary blob."
   ]
  },
  {
   "cell_type": "markdown",
   "metadata": {},
   "source": [
    "## Loading the data "
   ]
  },
  {
   "cell_type": "code",
   "execution_count": 9,
   "metadata": {
    "execution": {
     "iopub.execute_input": "2021-01-11T09:49:29.591280Z",
     "iopub.status.busy": "2021-01-11T09:49:29.589676Z",
     "iopub.status.idle": "2021-01-11T09:49:29.594446Z",
     "shell.execute_reply": "2021-01-11T09:49:29.593877Z"
    }
   },
   "outputs": [],
   "source": [
    "from qcodes.dataset.data_set import load_by_id\n",
    "from qcodes.dataset.data_export import get_data_by_id"
   ]
  },
  {
   "cell_type": "markdown",
   "metadata": {},
   "source": [
    "As usual you can load the data by using the ``load_by_id`` function but you will notice that the different storage methods\n",
    "are reflected in shape of the data as it is retrieved. "
   ]
  },
  {
   "cell_type": "code",
   "execution_count": 10,
   "metadata": {
    "execution": {
     "iopub.execute_input": "2021-01-11T09:49:29.598440Z",
     "iopub.status.busy": "2021-01-11T09:49:29.597901Z",
     "iopub.status.idle": "2021-01-11T09:49:29.601566Z",
     "shell.execute_reply": "2021-01-11T09:49:29.601026Z"
    }
   },
   "outputs": [],
   "source": [
    "run_id_n = t_numeric_run_ids[0]\n",
    "run_id_a = t_array_run_ids[0]"
   ]
  },
  {
   "cell_type": "code",
   "execution_count": 11,
   "metadata": {
    "execution": {
     "iopub.execute_input": "2021-01-11T09:49:29.605685Z",
     "iopub.status.busy": "2021-01-11T09:49:29.605166Z",
     "iopub.status.idle": "2021-01-11T09:49:29.617615Z",
     "shell.execute_reply": "2021-01-11T09:49:29.617025Z"
    },
    "scrolled": true
   },
   "outputs": [
    {
     "data": {
      "text/plain": [
       "{'x1': {'x1': array([0.72991571, 0.72991571, 0.88742018, 0.88742018, 0.63161287,\n",
       "         0.63161287, 0.91182967, 0.91182967, 0.91763735, 0.91763735,\n",
       "         0.36462853, 0.36462853, 0.17592288, 0.17592288, 0.15519675,\n",
       "         0.15519675, 0.77445242, 0.77445242, 0.73853293, 0.73853293,\n",
       "         0.68709471, 0.68709471, 0.10716769, 0.10716769, 0.63307437,\n",
       "         0.63307437, 0.99450685, 0.99450685, 0.01935408, 0.01935408,\n",
       "         0.78207254, 0.78207254, 0.34917555, 0.34917555, 0.17189511,\n",
       "         0.17189511, 0.00483026, 0.00483026, 0.68414836, 0.68414836,\n",
       "         0.18790654, 0.18790654, 0.55718197, 0.55718197, 0.05975274,\n",
       "         0.05975274, 0.4900746 , 0.4900746 , 0.49907768, 0.49907768,\n",
       "         0.72089514, 0.72089514, 0.6031009 , 0.6031009 , 0.06923039,\n",
       "         0.06923039, 0.16633475, 0.16633475, 0.16607211, 0.16607211,\n",
       "         0.61381967, 0.61381967, 0.03366422, 0.03366422, 0.9254149 ,\n",
       "         0.9254149 , 0.91336688, 0.91336688, 0.31560591, 0.31560591,\n",
       "         0.75815945, 0.75815945, 0.88612363, 0.88612363, 0.22679745,\n",
       "         0.22679745, 0.34861908, 0.34861908, 0.89300277, 0.89300277,\n",
       "         0.62331093, 0.62331093, 0.91487925, 0.91487925, 0.41152695,\n",
       "         0.41152695, 0.10049966, 0.10049966, 0.95645853, 0.95645853,\n",
       "         0.92399685, 0.92399685, 0.4510553 , 0.4510553 , 0.59486493,\n",
       "         0.59486493, 0.96804433, 0.96804433, 0.01743717, 0.01743717,\n",
       "         0.28118795, 0.28118795, 0.49987952, 0.49987952, 0.63242853,\n",
       "         0.63242853, 0.51751706, 0.51751706, 0.20890072, 0.20890072,\n",
       "         0.08988301, 0.08988301, 0.67159224, 0.67159224, 0.56735105,\n",
       "         0.56735105, 0.37519654, 0.37519654, 0.39867879, 0.39867879,\n",
       "         0.08637139, 0.08637139, 0.31479856, 0.31479856, 0.62087325,\n",
       "         0.62087325, 0.27903199, 0.27903199, 0.45370675, 0.45370675,\n",
       "         0.63848979, 0.63848979, 0.47379459, 0.47379459, 0.5811447 ,\n",
       "         0.5811447 , 0.59022534, 0.59022534, 0.83190081, 0.83190081,\n",
       "         0.91082269, 0.91082269, 0.03347596, 0.03347596, 0.34502741,\n",
       "         0.34502741, 0.17529124, 0.17529124, 0.64929461, 0.64929461,\n",
       "         0.06102062, 0.06102062, 0.21579342, 0.21579342, 0.89197294,\n",
       "         0.89197294, 0.4264958 , 0.4264958 , 0.54278995, 0.54278995,\n",
       "         0.8737473 , 0.8737473 , 0.4638596 , 0.4638596 , 0.86809858,\n",
       "         0.86809858, 0.29589532, 0.29589532, 0.54588641, 0.54588641,\n",
       "         0.74755233, 0.74755233, 0.6322069 , 0.6322069 , 0.43785752,\n",
       "         0.43785752, 0.52876595, 0.52876595, 0.699135  , 0.699135  ,\n",
       "         0.45194718, 0.45194718, 0.81362028, 0.81362028, 0.30002247,\n",
       "         0.30002247, 0.42250101, 0.42250101, 0.2426048 , 0.2426048 ,\n",
       "         0.56851553, 0.56851553, 0.44195546, 0.44195546, 0.37361755,\n",
       "         0.37361755, 0.35798139, 0.35798139, 0.59177359, 0.59177359])}}"
      ]
     },
     "execution_count": 1,
     "metadata": {},
     "output_type": "execute_result"
    }
   ],
   "source": [
    "ds = load_by_id(run_id_n)\n",
    "ds.get_parameter_data('x1')"
   ]
  },
  {
   "cell_type": "markdown",
   "metadata": {},
   "source": [
    "And a dataset stored as binary arrays"
   ]
  },
  {
   "cell_type": "code",
   "execution_count": 12,
   "metadata": {
    "execution": {
     "iopub.execute_input": "2021-01-11T09:49:29.621712Z",
     "iopub.status.busy": "2021-01-11T09:49:29.621113Z",
     "iopub.status.idle": "2021-01-11T09:49:29.693074Z",
     "shell.execute_reply": "2021-01-11T09:49:29.692284Z"
    },
    "scrolled": true
   },
   "outputs": [
    {
     "data": {
      "text/plain": [
       "{'x1': {'x1': array([[0.41149939],\n",
       "         [0.41149939],\n",
       "         [0.41078522],\n",
       "         [0.41078522],\n",
       "         [0.899163  ],\n",
       "         [0.899163  ],\n",
       "         [0.10550192],\n",
       "         [0.10550192],\n",
       "         [0.78509295],\n",
       "         [0.78509295],\n",
       "         [0.50896248],\n",
       "         [0.50896248],\n",
       "         [0.34633338],\n",
       "         [0.34633338],\n",
       "         [0.52416271],\n",
       "         [0.52416271],\n",
       "         [0.66953082],\n",
       "         [0.66953082],\n",
       "         [0.36671237],\n",
       "         [0.36671237],\n",
       "         [0.91867491],\n",
       "         [0.91867491],\n",
       "         [0.47673934],\n",
       "         [0.47673934],\n",
       "         [0.34939068],\n",
       "         [0.34939068],\n",
       "         [0.465417  ],\n",
       "         [0.465417  ],\n",
       "         [0.37097552],\n",
       "         [0.37097552],\n",
       "         [0.32324509],\n",
       "         [0.32324509],\n",
       "         [0.89214894],\n",
       "         [0.89214894],\n",
       "         [0.4686662 ],\n",
       "         [0.4686662 ],\n",
       "         [0.78358354],\n",
       "         [0.78358354],\n",
       "         [0.34661562],\n",
       "         [0.34661562],\n",
       "         [0.99180305],\n",
       "         [0.99180305],\n",
       "         [0.49603095],\n",
       "         [0.49603095],\n",
       "         [0.05872686],\n",
       "         [0.05872686],\n",
       "         [0.52606384],\n",
       "         [0.52606384],\n",
       "         [0.36438694],\n",
       "         [0.36438694],\n",
       "         [0.82914639],\n",
       "         [0.82914639],\n",
       "         [0.57491861],\n",
       "         [0.57491861],\n",
       "         [0.82506492],\n",
       "         [0.82506492],\n",
       "         [0.6904925 ],\n",
       "         [0.6904925 ],\n",
       "         [0.97982775],\n",
       "         [0.97982775],\n",
       "         [0.30070532],\n",
       "         [0.30070532],\n",
       "         [0.04647036],\n",
       "         [0.04647036],\n",
       "         [0.47819502],\n",
       "         [0.47819502],\n",
       "         [0.94355167],\n",
       "         [0.94355167],\n",
       "         [0.11820178],\n",
       "         [0.11820178],\n",
       "         [0.31668137],\n",
       "         [0.31668137],\n",
       "         [0.59547733],\n",
       "         [0.59547733],\n",
       "         [0.0037891 ],\n",
       "         [0.0037891 ],\n",
       "         [0.74557978],\n",
       "         [0.74557978],\n",
       "         [0.28506995],\n",
       "         [0.28506995],\n",
       "         [0.62950193],\n",
       "         [0.62950193],\n",
       "         [0.89133325],\n",
       "         [0.89133325],\n",
       "         [0.42938129],\n",
       "         [0.42938129],\n",
       "         [0.39544414],\n",
       "         [0.39544414],\n",
       "         [0.18475989],\n",
       "         [0.18475989],\n",
       "         [0.14398209],\n",
       "         [0.14398209],\n",
       "         [0.16922248],\n",
       "         [0.16922248],\n",
       "         [0.34779611],\n",
       "         [0.34779611],\n",
       "         [0.6058753 ],\n",
       "         [0.6058753 ],\n",
       "         [0.40224294],\n",
       "         [0.40224294],\n",
       "         [0.09199829],\n",
       "         [0.09199829],\n",
       "         [0.44970868],\n",
       "         [0.44970868],\n",
       "         [0.40910456],\n",
       "         [0.40910456],\n",
       "         [0.32733706],\n",
       "         [0.32733706],\n",
       "         [0.17203963],\n",
       "         [0.17203963],\n",
       "         [0.43352433],\n",
       "         [0.43352433],\n",
       "         [0.7164561 ],\n",
       "         [0.7164561 ],\n",
       "         [0.46809347],\n",
       "         [0.46809347],\n",
       "         [0.61667392],\n",
       "         [0.61667392],\n",
       "         [0.93052047],\n",
       "         [0.93052047],\n",
       "         [0.77944797],\n",
       "         [0.77944797],\n",
       "         [0.72740413],\n",
       "         [0.72740413],\n",
       "         [0.73331158],\n",
       "         [0.73331158],\n",
       "         [0.15310351],\n",
       "         [0.15310351],\n",
       "         [0.20779757],\n",
       "         [0.20779757],\n",
       "         [0.16360397],\n",
       "         [0.16360397],\n",
       "         [0.96637252],\n",
       "         [0.96637252],\n",
       "         [0.7707068 ],\n",
       "         [0.7707068 ],\n",
       "         [0.96925995],\n",
       "         [0.96925995],\n",
       "         [0.7136878 ],\n",
       "         [0.7136878 ],\n",
       "         [0.15888504],\n",
       "         [0.15888504],\n",
       "         [0.17531463],\n",
       "         [0.17531463],\n",
       "         [0.03894086],\n",
       "         [0.03894086],\n",
       "         [0.94202344],\n",
       "         [0.94202344],\n",
       "         [0.70618102],\n",
       "         [0.70618102],\n",
       "         [0.19530795],\n",
       "         [0.19530795],\n",
       "         [0.4581911 ],\n",
       "         [0.4581911 ],\n",
       "         [0.15576604],\n",
       "         [0.15576604],\n",
       "         [0.82184212],\n",
       "         [0.82184212],\n",
       "         [0.88764783],\n",
       "         [0.88764783],\n",
       "         [0.39526246],\n",
       "         [0.39526246],\n",
       "         [0.96373168],\n",
       "         [0.96373168],\n",
       "         [0.97357023],\n",
       "         [0.97357023],\n",
       "         [0.3308382 ],\n",
       "         [0.3308382 ],\n",
       "         [0.36330904],\n",
       "         [0.36330904],\n",
       "         [0.32596435],\n",
       "         [0.32596435],\n",
       "         [0.88771743],\n",
       "         [0.88771743],\n",
       "         [0.50809183],\n",
       "         [0.50809183],\n",
       "         [0.42991789],\n",
       "         [0.42991789],\n",
       "         [0.10760699],\n",
       "         [0.10760699],\n",
       "         [0.44032843],\n",
       "         [0.44032843],\n",
       "         [0.45163697],\n",
       "         [0.45163697],\n",
       "         [0.56685615],\n",
       "         [0.56685615],\n",
       "         [0.28306162],\n",
       "         [0.28306162],\n",
       "         [0.89242515],\n",
       "         [0.89242515],\n",
       "         [0.40882639],\n",
       "         [0.40882639],\n",
       "         [0.58119069],\n",
       "         [0.58119069],\n",
       "         [0.74152289],\n",
       "         [0.74152289],\n",
       "         [0.12123602],\n",
       "         [0.12123602],\n",
       "         [0.46521986],\n",
       "         [0.46521986]])}}"
      ]
     },
     "execution_count": 1,
     "metadata": {},
     "output_type": "execute_result"
    }
   ],
   "source": [
    "ds = load_by_id(run_id_a)\n",
    "ds.get_parameter_data('x1')"
   ]
  },
  {
   "cell_type": "code",
   "execution_count": null,
   "metadata": {},
   "outputs": [],
   "source": []
  }
 ],
 "metadata": {
  "kernelspec": {
   "display_name": "Python 3",
   "language": "python",
   "name": "python3"
  },
  "language_info": {
   "codemirror_mode": {
    "name": "ipython",
    "version": 3
   },
   "file_extension": ".py",
   "mimetype": "text/x-python",
   "name": "python",
   "nbconvert_exporter": "python",
   "pygments_lexer": "ipython3",
   "version": "3.7.9"
  },
  "nbsphinx": {
   "timeout": 600
  },
  "toc": {
   "base_numbering": 1,
   "nav_menu": {},
   "number_sections": true,
   "sideBar": true,
   "skip_h1_title": false,
   "title_cell": "Table of Contents",
   "title_sidebar": "Contents",
   "toc_cell": false,
   "toc_position": {},
   "toc_section_display": true,
   "toc_window_display": false
  },
  "varInspector": {
   "cols": {
    "lenName": 16,
    "lenType": 16,
    "lenVar": 40
   },
   "kernels_config": {
    "python": {
     "delete_cmd_postfix": "",
     "delete_cmd_prefix": "del ",
     "library": "var_list.py",
     "varRefreshCmd": "print(var_dic_list())"
    },
    "r": {
     "delete_cmd_postfix": ") ",
     "delete_cmd_prefix": "rm(",
     "library": "var_list.r",
     "varRefreshCmd": "cat(var_dic_list()) "
    }
   },
   "types_to_exclude": [
    "module",
    "function",
    "builtin_function_or_method",
    "instance",
    "_Feature"
   ],
   "window_display": false
  }
 },
 "nbformat": 4,
 "nbformat_minor": 2
}
