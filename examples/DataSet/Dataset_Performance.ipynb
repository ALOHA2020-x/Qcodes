{
 "cells": [
  {
   "cell_type": "markdown",
   "metadata": {},
   "source": [
    "# DataSet Performance\n",
    "\n",
    "This notebook shows the trade-off between inserting data into a database row-by-row and as binary blobs. Inserting the data row-by-row means that we have direct access to all the data and may perform queries directly on the values of the data. On the other hand, as we shall see, this is much slower than inserting the data directly as binary blobs."
   ]
  },
  {
   "cell_type": "markdown",
   "metadata": {},
   "source": [
    "First, we choose a new location for the database to ensure that we don't add a bunch of benchmarking data to the default one."
   ]
  },
  {
   "cell_type": "code",
   "execution_count": 1,
   "metadata": {
    "execution": {
     "iopub.execute_input": "2020-10-27T10:32:10.485172Z",
     "iopub.status.busy": "2020-10-27T10:32:10.484493Z",
     "iopub.status.idle": "2020-10-27T10:32:11.543259Z",
     "shell.execute_reply": "2020-10-27T10:32:11.543749Z"
    }
   },
   "outputs": [
    {
     "name": "stdout",
     "output_type": "stream",
     "text": [
      "Logging hadn't been started.\n",
      "Activating auto-logging. Current session state plus future input saved.\n",
      "Filename       : /home/vsts/.qcodes/logs/command_history.log\n",
      "Mode           : append\n",
      "Output logging : True\n",
      "Raw input log  : False\n",
      "Timestamping   : True\n",
      "State          : active\n"
     ]
    },
    {
     "name": "stdout",
     "output_type": "stream",
     "text": [
      "Qcodes Logfile : /home/vsts/.qcodes/logs/201027-14485-qcodes.log\n"
     ]
    }
   ],
   "source": [
    "import os\n",
    "cwd = os.getcwd()\n",
    "import qcodes as qc\n",
    "qc.config[\"core\"][\"db_location\"] = os.path.join(cwd, 'testing.db')\n"
   ]
  },
  {
   "cell_type": "code",
   "execution_count": 2,
   "metadata": {
    "execution": {
     "iopub.execute_input": "2020-10-27T10:32:11.551196Z",
     "iopub.status.busy": "2020-10-27T10:32:11.549372Z",
     "iopub.status.idle": "2020-10-27T10:32:11.738126Z",
     "shell.execute_reply": "2020-10-27T10:32:11.738631Z"
    }
   },
   "outputs": [],
   "source": [
    "%matplotlib inline\n",
    "import time\n",
    "import matplotlib.pyplot as plt\n",
    "import numpy as np\n",
    "\n",
    "import qcodes as qc\n",
    "from qcodes.instrument.parameter import ManualParameter\n",
    "from qcodes.dataset.experiment_container import (Experiment,\n",
    "                                                 load_last_experiment,\n",
    "                                                 new_experiment)\n",
    "from qcodes.dataset.sqlite.database import initialise_database\n",
    "from qcodes import load_or_create_experiment\n",
    "from qcodes.dataset.measurements import Measurement"
   ]
  },
  {
   "cell_type": "code",
   "execution_count": 3,
   "metadata": {
    "execution": {
     "iopub.execute_input": "2020-10-27T10:32:11.742408Z",
     "iopub.status.busy": "2020-10-27T10:32:11.741795Z",
     "iopub.status.idle": "2020-10-27T10:32:11.841758Z",
     "shell.execute_reply": "2020-10-27T10:32:11.841227Z"
    }
   },
   "outputs": [
    {
     "name": "stdout",
     "output_type": "stream",
     "text": [
      "\r",
      "0it [00:00, ?it/s]"
     ]
    },
    {
     "name": "stdout",
     "output_type": "stream",
     "text": [
      "\r",
      "Upgrading database; v0 -> v1: : 0it [00:00, ?it/s]"
     ]
    },
    {
     "name": "stdout",
     "output_type": "stream",
     "text": [
      "\r",
      "Upgrading database; v0 -> v1: : 0it [00:00, ?it/s]"
     ]
    },
    {
     "name": "stdout",
     "output_type": "stream",
     "text": [
      "\n",
      "\r",
      "  0%|          | 0/1 [00:00<?, ?it/s]"
     ]
    },
    {
     "name": "stdout",
     "output_type": "stream",
     "text": [
      "\r",
      "Upgrading database; v1 -> v2:   0%|          | 0/1 [00:00<?, ?it/s]"
     ]
    },
    {
     "name": "stdout",
     "output_type": "stream",
     "text": [
      "\r",
      "Upgrading database; v1 -> v2: 100%|██████████| 1/1 [00:00<00:00, 445.44it/s]"
     ]
    },
    {
     "name": "stdout",
     "output_type": "stream",
     "text": [
      "\n",
      "\r",
      "0it [00:00, ?it/s]"
     ]
    },
    {
     "name": "stdout",
     "output_type": "stream",
     "text": [
      "\r",
      "Upgrading database; v2 -> v3: : 0it [00:00, ?it/s]"
     ]
    },
    {
     "name": "stdout",
     "output_type": "stream",
     "text": [
      "\r",
      "Upgrading database; v2 -> v3: : 0it [00:00, ?it/s]"
     ]
    },
    {
     "name": "stdout",
     "output_type": "stream",
     "text": [
      "\n",
      "\r",
      "0it [00:00, ?it/s]"
     ]
    },
    {
     "name": "stdout",
     "output_type": "stream",
     "text": [
      "\r",
      "Upgrading database; v3 -> v4: : 0it [00:00, ?it/s]"
     ]
    },
    {
     "name": "stdout",
     "output_type": "stream",
     "text": [
      "\r",
      "Upgrading database; v3 -> v4: : 0it [00:00, ?it/s]"
     ]
    },
    {
     "name": "stdout",
     "output_type": "stream",
     "text": [
      "\n",
      "\r",
      "  0%|          | 0/1 [00:00<?, ?it/s]"
     ]
    },
    {
     "name": "stdout",
     "output_type": "stream",
     "text": [
      "\r",
      "Upgrading database; v4 -> v5:   0%|          | 0/1 [00:00<?, ?it/s]"
     ]
    },
    {
     "name": "stdout",
     "output_type": "stream",
     "text": [
      "\r",
      "Upgrading database; v4 -> v5: 100%|██████████| 1/1 [00:00<00:00, 637.82it/s]"
     ]
    },
    {
     "name": "stdout",
     "output_type": "stream",
     "text": [
      "\n",
      "\r",
      "0it [00:00, ?it/s]"
     ]
    },
    {
     "name": "stdout",
     "output_type": "stream",
     "text": [
      "\r",
      "Upgrading database; v5 -> v6: : 0it [00:00, ?it/s]"
     ]
    },
    {
     "name": "stdout",
     "output_type": "stream",
     "text": [
      "\r",
      "Upgrading database; v5 -> v6: : 0it [00:00, ?it/s]"
     ]
    },
    {
     "name": "stdout",
     "output_type": "stream",
     "text": [
      "\n",
      "\r",
      "  0%|          | 0/1 [00:00<?, ?it/s]"
     ]
    },
    {
     "name": "stdout",
     "output_type": "stream",
     "text": [
      "\r",
      "Upgrading database; v6 -> v7:   0%|          | 0/1 [00:00<?, ?it/s]"
     ]
    },
    {
     "name": "stdout",
     "output_type": "stream",
     "text": [
      "\r",
      "Upgrading database; v6 -> v7: 100%|██████████| 1/1 [00:00<00:00, 505.83it/s]"
     ]
    },
    {
     "name": "stdout",
     "output_type": "stream",
     "text": [
      "\n",
      "\r",
      "  0%|          | 0/1 [00:00<?, ?it/s]"
     ]
    },
    {
     "name": "stdout",
     "output_type": "stream",
     "text": [
      "\r",
      "Upgrading database; v7 -> v8:   0%|          | 0/1 [00:00<?, ?it/s]"
     ]
    },
    {
     "name": "stdout",
     "output_type": "stream",
     "text": [
      "\r",
      "Upgrading database; v7 -> v8: 100%|██████████| 1/1 [00:00<00:00, 996.51it/s]"
     ]
    },
    {
     "name": "stdout",
     "output_type": "stream",
     "text": [
      "\n",
      "\r",
      "  0%|          | 0/1 [00:00<?, ?it/s]"
     ]
    },
    {
     "name": "stdout",
     "output_type": "stream",
     "text": [
      "\r",
      "Upgrading database; v8 -> v9:   0%|          | 0/1 [00:00<?, ?it/s]"
     ]
    },
    {
     "name": "stdout",
     "output_type": "stream",
     "text": [
      "\r",
      "Upgrading database; v8 -> v9: 100%|██████████| 1/1 [00:00<00:00, 378.48it/s]"
     ]
    },
    {
     "name": "stdout",
     "output_type": "stream",
     "text": [
      "\n"
     ]
    }
   ],
   "source": [
    "initialise_database()\n",
    "exp = load_or_create_experiment(experiment_name='tutorial_exp', sample_name=\"no sample\")"
   ]
  },
  {
   "cell_type": "markdown",
   "metadata": {},
   "source": [
    "Here, we define a simple function to benchmark the time it takes to insert n points with either numeric or array data type.\n",
    "We will compare both the time used to call ``add_result`` and the time used for the full measurement."
   ]
  },
  {
   "cell_type": "code",
   "execution_count": 4,
   "metadata": {
    "execution": {
     "iopub.execute_input": "2020-10-27T10:32:11.850329Z",
     "iopub.status.busy": "2020-10-27T10:32:11.849644Z",
     "iopub.status.idle": "2020-10-27T10:32:11.853887Z",
     "shell.execute_reply": "2020-10-27T10:32:11.853346Z"
    }
   },
   "outputs": [],
   "source": [
    "def insert_data(paramtype, npoints, nreps=1):\n",
    "\n",
    "    meas = Measurement(exp=exp)\n",
    "\n",
    "    x1 = ManualParameter('x1')\n",
    "    x2 = ManualParameter('x2')\n",
    "    x3 = ManualParameter('x3')\n",
    "    y1 = ManualParameter('y1')\n",
    "    y2 = ManualParameter('y2')\n",
    "\n",
    "    meas.register_parameter(x1, paramtype=paramtype)\n",
    "    meas.register_parameter(x2, paramtype=paramtype)\n",
    "    meas.register_parameter(x3, paramtype=paramtype)\n",
    "    meas.register_parameter(y1, setpoints=[x1, x2, x3],\n",
    "                            paramtype=paramtype)\n",
    "    meas.register_parameter(y2, setpoints=[x1, x2, x3],\n",
    "                            paramtype=paramtype)\n",
    "    start = time.perf_counter()\n",
    "    with meas.run() as datasaver:\n",
    "        start_adding = time.perf_counter()\n",
    "        for i in range(nreps):\n",
    "            datasaver.add_result((x1, np.random.rand(npoints)),\n",
    "                                 (x2, np.random.rand(npoints)),\n",
    "                                 (x3, np.random.rand(npoints)),\n",
    "                                 (y1, np.random.rand(npoints)),\n",
    "                                 (y2, np.random.rand(npoints)))\n",
    "        stop_adding = time.perf_counter()\n",
    "        run_id = datasaver.run_id\n",
    "    stop = time.perf_counter()\n",
    "    tot_time = stop - start\n",
    "    add_time = stop_adding - start_adding\n",
    "    return tot_time, add_time, run_id"
   ]
  },
  {
   "cell_type": "markdown",
   "metadata": {},
   "source": [
    "## Comparison between numeric/array data and binary blob"
   ]
  },
  {
   "cell_type": "markdown",
   "metadata": {},
   "source": [
    "### Case1: Short experiment time"
   ]
  },
  {
   "cell_type": "code",
   "execution_count": 5,
   "metadata": {
    "execution": {
     "iopub.execute_input": "2020-10-27T10:32:11.859601Z",
     "iopub.status.busy": "2020-10-27T10:32:11.858628Z",
     "iopub.status.idle": "2020-10-27T10:32:12.653829Z",
     "shell.execute_reply": "2020-10-27T10:32:12.653260Z"
    }
   },
   "outputs": [
    {
     "name": "stdout",
     "output_type": "stream",
     "text": [
      "Starting experimental run with id: 1. \n",
      "Starting experimental run with id: 2. \n",
      "Starting experimental run with id: 3. \n",
      "Starting experimental run with id: 4. \n",
      "Starting experimental run with id: 5. \n"
     ]
    },
    {
     "name": "stdout",
     "output_type": "stream",
     "text": [
      "Starting experimental run with id: 6. \n"
     ]
    },
    {
     "name": "stdout",
     "output_type": "stream",
     "text": [
      "Starting experimental run with id: 7. \n"
     ]
    },
    {
     "name": "stdout",
     "output_type": "stream",
     "text": [
      "Starting experimental run with id: 8. \n",
      "Starting experimental run with id: 9. \n"
     ]
    },
    {
     "name": "stdout",
     "output_type": "stream",
     "text": [
      "Starting experimental run with id: 10. \n",
      "Starting experimental run with id: 11. \n"
     ]
    },
    {
     "name": "stdout",
     "output_type": "stream",
     "text": [
      "Starting experimental run with id: 12. \n",
      "Starting experimental run with id: 13. \n"
     ]
    },
    {
     "name": "stdout",
     "output_type": "stream",
     "text": [
      "Starting experimental run with id: 14. \n"
     ]
    }
   ],
   "source": [
    "sizes = [1,500,1000,2000,3000,4000,5000]\n",
    "t_numeric = []\n",
    "t_numeric_add = []\n",
    "t_array = []\n",
    "t_array_add = []\n",
    "for size in sizes:\n",
    "    tn, tna, run_id_n =  insert_data('numeric', size)\n",
    "    t_numeric.append(tn)\n",
    "    t_numeric_add.append(tna)\n",
    "\n",
    "    ta, taa, run_id_a =  insert_data('array', size)\n",
    "    t_array.append(ta)\n",
    "    t_array_add.append(taa)"
   ]
  },
  {
   "cell_type": "code",
   "execution_count": 6,
   "metadata": {
    "execution": {
     "iopub.execute_input": "2020-10-27T10:32:12.672531Z",
     "iopub.status.busy": "2020-10-27T10:32:12.671924Z",
     "iopub.status.idle": "2020-10-27T10:32:12.871590Z",
     "shell.execute_reply": "2020-10-27T10:32:12.870745Z"
    }
   },
   "outputs": [
    {
     "data": {
      "image/png": "[encoded data removed]",
      "text/plain": [
       "<Figure size 432x288 with 1 Axes>"
      ]
     },
     "metadata": {
      "needs_background": "light"
     },
     "output_type": "display_data"
    }
   ],
   "source": [
    "fig, ax = plt.subplots(1,1)\n",
    "ax.plot(sizes, t_numeric, 'o-', label='Inserting row-by-row')\n",
    "ax.plot(sizes, t_numeric_add, 'o-', label='Inserting row-by-row: add_result only')\n",
    "ax.plot(sizes, t_array, 'd-', label='Inserting as binary blob')\n",
    "ax.plot(sizes, t_array_add, 'd-', label='Inserting as binary blob: add_result only')\n",
    "ax.legend()\n",
    "ax.set_xlabel('Array length')\n",
    "ax.set_ylabel('Time (s)')\n",
    "fig.tight_layout()"
   ]
  },
  {
   "cell_type": "markdown",
   "metadata": {},
   "source": [
    "As shown in the latter figure, the time to setup and and close the experiment is approximately 0.4 sec. In case of small array sizes, the difference between inserting values of data as arrays and inserting them row-by-row is relatively unimportant. At larger array sizes, i.e. above 10000 points, the cost of writing data as individual datapoints starts to become important.\n"
   ]
  },
  {
   "cell_type": "markdown",
   "metadata": {},
   "source": [
    "### Case2: Long experiment time "
   ]
  },
  {
   "cell_type": "code",
   "execution_count": 7,
   "metadata": {
    "execution": {
     "iopub.execute_input": "2020-10-27T10:32:12.878576Z",
     "iopub.status.busy": "2020-10-27T10:32:12.877532Z",
     "iopub.status.idle": "2020-10-27T10:33:11.653437Z",
     "shell.execute_reply": "2020-10-27T10:33:11.652830Z"
    }
   },
   "outputs": [
    {
     "name": "stdout",
     "output_type": "stream",
     "text": [
      "Starting experimental run with id: 15. \n",
      "Starting experimental run with id: 16. \n",
      "Starting experimental run with id: 17. \n"
     ]
    },
    {
     "name": "stdout",
     "output_type": "stream",
     "text": [
      "Starting experimental run with id: 18. \n",
      "Starting experimental run with id: 19. \n"
     ]
    },
    {
     "name": "stdout",
     "output_type": "stream",
     "text": [
      "Starting experimental run with id: 20. \n"
     ]
    },
    {
     "name": "stdout",
     "output_type": "stream",
     "text": [
      "Starting experimental run with id: 21. \n"
     ]
    },
    {
     "name": "stdout",
     "output_type": "stream",
     "text": [
      "Starting experimental run with id: 22. \n"
     ]
    },
    {
     "name": "stdout",
     "output_type": "stream",
     "text": [
      "Starting experimental run with id: 23. \n"
     ]
    },
    {
     "name": "stdout",
     "output_type": "stream",
     "text": [
      "Starting experimental run with id: 24. \n"
     ]
    },
    {
     "name": "stdout",
     "output_type": "stream",
     "text": [
      "Starting experimental run with id: 25. \n"
     ]
    },
    {
     "name": "stdout",
     "output_type": "stream",
     "text": [
      "Starting experimental run with id: 26. \n"
     ]
    },
    {
     "name": "stdout",
     "output_type": "stream",
     "text": [
      "Starting experimental run with id: 27. \n"
     ]
    },
    {
     "name": "stdout",
     "output_type": "stream",
     "text": [
      "Starting experimental run with id: 28. \n"
     ]
    }
   ],
   "source": [
    "sizes = [1,500,1000,2000,3000,4000,5000]\n",
    "nreps = 100\n",
    "t_numeric = []\n",
    "t_numeric_add = []\n",
    "t_numeric_run_ids = []\n",
    "t_array = []\n",
    "t_array_add = []\n",
    "t_array_run_ids = []\n",
    "for size in sizes:\n",
    "    tn, tna, run_id_n =  insert_data('numeric', size, nreps=nreps)\n",
    "    t_numeric.append(tn)\n",
    "    t_numeric_add.append(tna)\n",
    "    t_numeric_run_ids.append(run_id_n)\n",
    "\n",
    "    ta, taa, run_id_a =  insert_data('array', size, nreps=nreps)\n",
    "    t_array.append(ta)\n",
    "    t_array_add.append(taa)\n",
    "    t_array_run_ids.append(run_id_a)"
   ]
  },
  {
   "cell_type": "code",
   "execution_count": 8,
   "metadata": {
    "execution": {
     "iopub.execute_input": "2020-10-27T10:33:11.673732Z",
     "iopub.status.busy": "2020-10-27T10:33:11.671830Z",
     "iopub.status.idle": "2020-10-27T10:33:11.872712Z",
     "shell.execute_reply": "2020-10-27T10:33:11.873191Z"
    },
    "scrolled": true
   },
   "outputs": [
    {
     "data": {
      "image/png": "[encoded data removed]",
      "text/plain": [
       "<Figure size 432x288 with 1 Axes>"
      ]
     },
     "metadata": {
      "needs_background": "light"
     },
     "output_type": "display_data"
    }
   ],
   "source": [
    "fig, ax = plt.subplots(1,1)\n",
    "ax.plot(sizes, t_numeric, 'o-', label='Inserting row-by-row')\n",
    "ax.plot(sizes, t_numeric_add, 'o-', label='Inserting row-by-row: add_result only')\n",
    "ax.plot(sizes, t_array, 'd-', label='Inserting as binary blob')\n",
    "ax.plot(sizes, t_array_add, 'd-', label='Inserting as binary blob: add_result only')\n",
    "ax.legend()\n",
    "ax.set_xlabel('Array length')\n",
    "ax.set_ylabel('Time (s)')\n",
    "fig.tight_layout()"
   ]
  },
  {
   "cell_type": "markdown",
   "metadata": {},
   "source": [
    "However, as we increase the length of the experiment, as seen here by repeating the insertion 100 times, we see a big difference between inserting values of the data row-by-row and inserting it as a binary blob."
   ]
  },
  {
   "cell_type": "markdown",
   "metadata": {},
   "source": [
    "## Loading the data "
   ]
  },
  {
   "cell_type": "code",
   "execution_count": 9,
   "metadata": {
    "execution": {
     "iopub.execute_input": "2020-10-27T10:33:11.877783Z",
     "iopub.status.busy": "2020-10-27T10:33:11.877157Z",
     "iopub.status.idle": "2020-10-27T10:33:11.879454Z",
     "shell.execute_reply": "2020-10-27T10:33:11.880097Z"
    }
   },
   "outputs": [],
   "source": [
    "from qcodes.dataset.data_set import load_by_id\n",
    "from qcodes.dataset.data_export import get_data_by_id"
   ]
  },
  {
   "cell_type": "markdown",
   "metadata": {},
   "source": [
    "As usual you can load the data by using the ``load_by_id`` function but you will notice that the different storage methods\n",
    "are reflected in shape of the data as it is retrieved. "
   ]
  },
  {
   "cell_type": "code",
   "execution_count": 10,
   "metadata": {
    "execution": {
     "iopub.execute_input": "2020-10-27T10:33:11.886269Z",
     "iopub.status.busy": "2020-10-27T10:33:11.885065Z",
     "iopub.status.idle": "2020-10-27T10:33:11.888159Z",
     "shell.execute_reply": "2020-10-27T10:33:11.887227Z"
    }
   },
   "outputs": [],
   "source": [
    "run_id_n = t_numeric_run_ids[0]\n",
    "run_id_a = t_array_run_ids[0]"
   ]
  },
  {
   "cell_type": "code",
   "execution_count": 11,
   "metadata": {
    "execution": {
     "iopub.execute_input": "2020-10-27T10:33:11.891524Z",
     "iopub.status.busy": "2020-10-27T10:33:11.890911Z",
     "iopub.status.idle": "2020-10-27T10:33:11.901338Z",
     "shell.execute_reply": "2020-10-27T10:33:11.901857Z"
    },
    "scrolled": true
   },
   "outputs": [
    {
     "data": {
      "text/plain": [
       "{'x1': {'x1': array([0.78234316, 0.78234316, 0.63894677, 0.63894677, 0.96613837,\n",
       "         0.96613837, 0.17375803, 0.17375803, 0.0533557 , 0.0533557 ,\n",
       "         0.56512997, 0.56512997, 0.19521421, 0.19521421, 0.25491674,\n",
       "         0.25491674, 0.53211804, 0.53211804, 0.43337609, 0.43337609,\n",
       "         0.04038326, 0.04038326, 0.13575188, 0.13575188, 0.67110194,\n",
       "         0.67110194, 0.07344996, 0.07344996, 0.42495972, 0.42495972,\n",
       "         0.00312252, 0.00312252, 0.55536954, 0.55536954, 0.23027182,\n",
       "         0.23027182, 0.79222698, 0.79222698, 0.86107291, 0.86107291,\n",
       "         0.99678472, 0.99678472, 0.88423716, 0.88423716, 0.7798203 ,\n",
       "         0.7798203 , 0.01455163, 0.01455163, 0.8520888 , 0.8520888 ,\n",
       "         0.30455723, 0.30455723, 0.57135069, 0.57135069, 0.21655825,\n",
       "         0.21655825, 0.50072703, 0.50072703, 0.63804126, 0.63804126,\n",
       "         0.33171645, 0.33171645, 0.34925411, 0.34925411, 0.24066183,\n",
       "         0.24066183, 0.00287629, 0.00287629, 0.79744987, 0.79744987,\n",
       "         0.47660848, 0.47660848, 0.39156622, 0.39156622, 0.69704717,\n",
       "         0.69704717, 0.52613507, 0.52613507, 0.23925589, 0.23925589,\n",
       "         0.31239133, 0.31239133, 0.66354721, 0.66354721, 0.65526562,\n",
       "         0.65526562, 0.7742002 , 0.7742002 , 0.19834898, 0.19834898,\n",
       "         0.09231011, 0.09231011, 0.36718181, 0.36718181, 0.16624522,\n",
       "         0.16624522, 0.64796915, 0.64796915, 0.11521919, 0.11521919,\n",
       "         0.63250046, 0.63250046, 0.07458288, 0.07458288, 0.24077969,\n",
       "         0.24077969, 0.36963672, 0.36963672, 0.9976406 , 0.9976406 ,\n",
       "         0.89588324, 0.89588324, 0.97251317, 0.97251317, 0.94070164,\n",
       "         0.94070164, 0.34885065, 0.34885065, 0.24854586, 0.24854586,\n",
       "         0.22041885, 0.22041885, 0.26989206, 0.26989206, 0.36931275,\n",
       "         0.36931275, 0.91660079, 0.91660079, 0.4630747 , 0.4630747 ,\n",
       "         0.90237887, 0.90237887, 0.06890566, 0.06890566, 0.79839558,\n",
       "         0.79839558, 0.66005168, 0.66005168, 0.4599825 , 0.4599825 ,\n",
       "         0.89936382, 0.89936382, 0.77611079, 0.77611079, 0.66687161,\n",
       "         0.66687161, 0.46682594, 0.46682594, 0.95378513, 0.95378513,\n",
       "         0.30601435, 0.30601435, 0.79562779, 0.79562779, 0.91280341,\n",
       "         0.91280341, 0.8818386 , 0.8818386 , 0.11524649, 0.11524649,\n",
       "         0.76220769, 0.76220769, 0.35611969, 0.35611969, 0.63522922,\n",
       "         0.63522922, 0.99983937, 0.99983937, 0.88730406, 0.88730406,\n",
       "         0.03530918, 0.03530918, 0.60692444, 0.60692444, 0.64332241,\n",
       "         0.64332241, 0.47655636, 0.47655636, 0.86744413, 0.86744413,\n",
       "         0.84957617, 0.84957617, 0.8805496 , 0.8805496 , 0.14246492,\n",
       "         0.14246492, 0.20574217, 0.20574217, 0.73749552, 0.73749552,\n",
       "         0.67848563, 0.67848563, 0.68606106, 0.68606106, 0.8815964 ,\n",
       "         0.8815964 , 0.51492502, 0.51492502, 0.6375464 , 0.6375464 ])}}"
      ]
     },
     "execution_count": 1,
     "metadata": {},
     "output_type": "execute_result"
    }
   ],
   "source": [
    "ds = load_by_id(run_id_n)\n",
    "ds.get_parameter_data('x1')"
   ]
  },
  {
   "cell_type": "markdown",
   "metadata": {},
   "source": [
    "And a dataset stored as binary arrays"
   ]
  },
  {
   "cell_type": "code",
   "execution_count": 12,
   "metadata": {
    "execution": {
     "iopub.execute_input": "2020-10-27T10:33:11.906396Z",
     "iopub.status.busy": "2020-10-27T10:33:11.905782Z",
     "iopub.status.idle": "2020-10-27T10:33:11.967790Z",
     "shell.execute_reply": "2020-10-27T10:33:11.968275Z"
    },
    "scrolled": true
   },
   "outputs": [
    {
     "data": {
      "text/plain": [
       "{'x1': {'x1': array([[0.05608575],\n",
       "         [0.05608575],\n",
       "         [0.72180578],\n",
       "         [0.72180578],\n",
       "         [0.50915661],\n",
       "         [0.50915661],\n",
       "         [0.80290905],\n",
       "         [0.80290905],\n",
       "         [0.92935645],\n",
       "         [0.92935645],\n",
       "         [0.18517325],\n",
       "         [0.18517325],\n",
       "         [0.61777627],\n",
       "         [0.61777627],\n",
       "         [0.79459047],\n",
       "         [0.79459047],\n",
       "         [0.4666096 ],\n",
       "         [0.4666096 ],\n",
       "         [0.64318032],\n",
       "         [0.64318032],\n",
       "         [0.32589058],\n",
       "         [0.32589058],\n",
       "         [0.96453388],\n",
       "         [0.96453388],\n",
       "         [0.84548924],\n",
       "         [0.84548924],\n",
       "         [0.57362601],\n",
       "         [0.57362601],\n",
       "         [0.67738183],\n",
       "         [0.67738183],\n",
       "         [0.73343977],\n",
       "         [0.73343977],\n",
       "         [0.18384408],\n",
       "         [0.18384408],\n",
       "         [0.5090341 ],\n",
       "         [0.5090341 ],\n",
       "         [0.46615267],\n",
       "         [0.46615267],\n",
       "         [0.70844375],\n",
       "         [0.70844375],\n",
       "         [0.6189595 ],\n",
       "         [0.6189595 ],\n",
       "         [0.9870198 ],\n",
       "         [0.9870198 ],\n",
       "         [0.11254312],\n",
       "         [0.11254312],\n",
       "         [0.82209418],\n",
       "         [0.82209418],\n",
       "         [0.29247704],\n",
       "         [0.29247704],\n",
       "         [0.97291542],\n",
       "         [0.97291542],\n",
       "         [0.42274907],\n",
       "         [0.42274907],\n",
       "         [0.95707944],\n",
       "         [0.95707944],\n",
       "         [0.12662336],\n",
       "         [0.12662336],\n",
       "         [0.10494029],\n",
       "         [0.10494029],\n",
       "         [0.9561232 ],\n",
       "         [0.9561232 ],\n",
       "         [0.98148224],\n",
       "         [0.98148224],\n",
       "         [0.62360647],\n",
       "         [0.62360647],\n",
       "         [0.31432263],\n",
       "         [0.31432263],\n",
       "         [0.46004079],\n",
       "         [0.46004079],\n",
       "         [0.24736857],\n",
       "         [0.24736857],\n",
       "         [0.17661608],\n",
       "         [0.17661608],\n",
       "         [0.73265167],\n",
       "         [0.73265167],\n",
       "         [0.9028216 ],\n",
       "         [0.9028216 ],\n",
       "         [0.11703073],\n",
       "         [0.11703073],\n",
       "         [0.42274262],\n",
       "         [0.42274262],\n",
       "         [0.89458333],\n",
       "         [0.89458333],\n",
       "         [0.58000345],\n",
       "         [0.58000345],\n",
       "         [0.66749282],\n",
       "         [0.66749282],\n",
       "         [0.7281726 ],\n",
       "         [0.7281726 ],\n",
       "         [0.21169735],\n",
       "         [0.21169735],\n",
       "         [0.16596747],\n",
       "         [0.16596747],\n",
       "         [0.40560033],\n",
       "         [0.40560033],\n",
       "         [0.94112852],\n",
       "         [0.94112852],\n",
       "         [0.96611831],\n",
       "         [0.96611831],\n",
       "         [0.5011342 ],\n",
       "         [0.5011342 ],\n",
       "         [0.17504594],\n",
       "         [0.17504594],\n",
       "         [0.95607718],\n",
       "         [0.95607718],\n",
       "         [0.16528435],\n",
       "         [0.16528435],\n",
       "         [0.31340366],\n",
       "         [0.31340366],\n",
       "         [0.75622154],\n",
       "         [0.75622154],\n",
       "         [0.97723364],\n",
       "         [0.97723364],\n",
       "         [0.48867401],\n",
       "         [0.48867401],\n",
       "         [0.14128154],\n",
       "         [0.14128154],\n",
       "         [0.35609627],\n",
       "         [0.35609627],\n",
       "         [0.11207832],\n",
       "         [0.11207832],\n",
       "         [0.85056694],\n",
       "         [0.85056694],\n",
       "         [0.69596385],\n",
       "         [0.69596385],\n",
       "         [0.83605631],\n",
       "         [0.83605631],\n",
       "         [0.02707691],\n",
       "         [0.02707691],\n",
       "         [0.67939607],\n",
       "         [0.67939607],\n",
       "         [0.33744938],\n",
       "         [0.33744938],\n",
       "         [0.50330468],\n",
       "         [0.50330468],\n",
       "         [0.30262482],\n",
       "         [0.30262482],\n",
       "         [0.83041455],\n",
       "         [0.83041455],\n",
       "         [0.93248387],\n",
       "         [0.93248387],\n",
       "         [0.14395449],\n",
       "         [0.14395449],\n",
       "         [0.20409323],\n",
       "         [0.20409323],\n",
       "         [0.22563799],\n",
       "         [0.22563799],\n",
       "         [0.13721278],\n",
       "         [0.13721278],\n",
       "         [0.63981158],\n",
       "         [0.63981158],\n",
       "         [0.76680896],\n",
       "         [0.76680896],\n",
       "         [0.85284679],\n",
       "         [0.85284679],\n",
       "         [0.32343431],\n",
       "         [0.32343431],\n",
       "         [0.94160391],\n",
       "         [0.94160391],\n",
       "         [0.9185083 ],\n",
       "         [0.9185083 ],\n",
       "         [0.58567964],\n",
       "         [0.58567964],\n",
       "         [0.57079003],\n",
       "         [0.57079003],\n",
       "         [0.23906395],\n",
       "         [0.23906395],\n",
       "         [0.93719409],\n",
       "         [0.93719409],\n",
       "         [0.42100719],\n",
       "         [0.42100719],\n",
       "         [0.35836954],\n",
       "         [0.35836954],\n",
       "         [0.43007208],\n",
       "         [0.43007208],\n",
       "         [0.02278698],\n",
       "         [0.02278698],\n",
       "         [0.97545873],\n",
       "         [0.97545873],\n",
       "         [0.26515775],\n",
       "         [0.26515775],\n",
       "         [0.70036422],\n",
       "         [0.70036422],\n",
       "         [0.68126691],\n",
       "         [0.68126691],\n",
       "         [0.32293217],\n",
       "         [0.32293217],\n",
       "         [0.14843722],\n",
       "         [0.14843722],\n",
       "         [0.10680123],\n",
       "         [0.10680123],\n",
       "         [0.66312061],\n",
       "         [0.66312061],\n",
       "         [0.21354407],\n",
       "         [0.21354407],\n",
       "         [0.33895318],\n",
       "         [0.33895318],\n",
       "         [0.79152789],\n",
       "         [0.79152789]])}}"
      ]
     },
     "execution_count": 1,
     "metadata": {},
     "output_type": "execute_result"
    }
   ],
   "source": [
    "ds = load_by_id(run_id_a)\n",
    "ds.get_parameter_data('x1')"
   ]
  },
  {
   "cell_type": "code",
   "execution_count": null,
   "metadata": {},
   "outputs": [],
   "source": []
  }
 ],
 "metadata": {
  "kernelspec": {
   "display_name": "Python 3",
   "language": "python",
   "name": "python3"
  },
  "language_info": {
   "codemirror_mode": {
    "name": "ipython",
    "version": 3
   },
   "file_extension": ".py",
   "mimetype": "text/x-python",
   "name": "python",
   "nbconvert_exporter": "python",
   "pygments_lexer": "ipython3",
   "version": "3.7.7"
  },
  "nbsphinx": {
   "timeout": 600
  },
  "toc": {
   "base_numbering": 1,
   "nav_menu": {},
   "number_sections": true,
   "sideBar": true,
   "skip_h1_title": false,
   "title_cell": "Table of Contents",
   "title_sidebar": "Contents",
   "toc_cell": false,
   "toc_position": {},
   "toc_section_display": true,
   "toc_window_display": false
  },
  "varInspector": {
   "cols": {
    "lenName": 16,
    "lenType": 16,
    "lenVar": 40
   },
   "kernels_config": {
    "python": {
     "delete_cmd_postfix": "",
     "delete_cmd_prefix": "del ",
     "library": "var_list.py",
     "varRefreshCmd": "print(var_dic_list())"
    },
    "r": {
     "delete_cmd_postfix": ") ",
     "delete_cmd_prefix": "rm(",
     "library": "var_list.r",
     "varRefreshCmd": "cat(var_dic_list()) "
    }
   },
   "types_to_exclude": [
    "module",
    "function",
    "builtin_function_or_method",
    "instance",
    "_Feature"
   ],
   "window_display": false
  }
 },
 "nbformat": 4,
 "nbformat_minor": 2
}
