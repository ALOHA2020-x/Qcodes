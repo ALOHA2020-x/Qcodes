{
 "cells": [
  {
   "cell_type": "markdown",
   "metadata": {},
   "source": [
    "# DataSet Performance\n",
    "\n",
    "This notebook shows the trade-off between inserting data into a database row-by-row and as binary blobs. Inserting the data row-by-row means that we have direct access to all the data and may perform queries directly on the values of the data. On the other hand, as we shall see, this is much slower than inserting the data directly as binary blobs."
   ]
  },
  {
   "cell_type": "markdown",
   "metadata": {},
   "source": [
    "First, we choose a new location for the database to ensure that we don't add a bunch of benchmarking data to the default one."
   ]
  },
  {
   "cell_type": "code",
   "execution_count": 1,
   "metadata": {
    "execution": {
     "iopub.execute_input": "2020-11-23T12:17:47.314413Z",
     "iopub.status.busy": "2020-11-23T12:17:47.311696Z",
     "iopub.status.idle": "2020-11-23T12:17:48.458769Z",
     "shell.execute_reply": "2020-11-23T12:17:48.459249Z"
    }
   },
   "outputs": [
    {
     "name": "stdout",
     "output_type": "stream",
     "text": [
      "Logging hadn't been started.\n",
      "Activating auto-logging. Current session state plus future input saved.\n",
      "Filename       : /home/vsts/.qcodes/logs/command_history.log\n",
      "Mode           : append\n",
      "Output logging : True\n",
      "Raw input log  : False\n",
      "Timestamping   : True\n",
      "State          : active\n"
     ]
    },
    {
     "name": "stdout",
     "output_type": "stream",
     "text": [
      "Qcodes Logfile : /home/vsts/.qcodes/logs/201123-14224-qcodes.log\n"
     ]
    }
   ],
   "source": [
    "import os\n",
    "cwd = os.getcwd()\n",
    "import qcodes as qc\n",
    "qc.config[\"core\"][\"db_location\"] = os.path.join(cwd, 'testing.db')\n"
   ]
  },
  {
   "cell_type": "code",
   "execution_count": 2,
   "metadata": {
    "execution": {
     "iopub.execute_input": "2020-11-23T12:17:48.467119Z",
     "iopub.status.busy": "2020-11-23T12:17:48.465694Z",
     "iopub.status.idle": "2020-11-23T12:17:48.668472Z",
     "shell.execute_reply": "2020-11-23T12:17:48.667817Z"
    }
   },
   "outputs": [],
   "source": [
    "%matplotlib inline\n",
    "import time\n",
    "import matplotlib.pyplot as plt\n",
    "import numpy as np\n",
    "\n",
    "import qcodes as qc\n",
    "from qcodes.instrument.parameter import ManualParameter\n",
    "from qcodes.dataset.experiment_container import (Experiment,\n",
    "                                                 load_last_experiment,\n",
    "                                                 new_experiment)\n",
    "from qcodes.dataset.sqlite.database import initialise_database\n",
    "from qcodes import load_or_create_experiment\n",
    "from qcodes.dataset.measurements import Measurement"
   ]
  },
  {
   "cell_type": "code",
   "execution_count": 3,
   "metadata": {
    "execution": {
     "iopub.execute_input": "2020-11-23T12:17:48.673107Z",
     "iopub.status.busy": "2020-11-23T12:17:48.672276Z",
     "iopub.status.idle": "2020-11-23T12:17:48.803233Z",
     "shell.execute_reply": "2020-11-23T12:17:48.803690Z"
    }
   },
   "outputs": [
    {
     "name": "stdout",
     "output_type": "stream",
     "text": [
      "\r",
      "0it [00:00, ?it/s]"
     ]
    },
    {
     "name": "stdout",
     "output_type": "stream",
     "text": [
      "\r",
      "Upgrading database; v0 -> v1: : 0it [00:00, ?it/s]"
     ]
    },
    {
     "name": "stdout",
     "output_type": "stream",
     "text": [
      "\r",
      "Upgrading database; v0 -> v1: : 0it [00:00, ?it/s]"
     ]
    },
    {
     "name": "stdout",
     "output_type": "stream",
     "text": [
      "\n",
      "\r",
      "  0%|          | 0/1 [00:00<?, ?it/s]"
     ]
    },
    {
     "name": "stdout",
     "output_type": "stream",
     "text": [
      "\r",
      "Upgrading database; v1 -> v2:   0%|          | 0/1 [00:00<?, ?it/s]"
     ]
    },
    {
     "name": "stdout",
     "output_type": "stream",
     "text": [
      "\r",
      "Upgrading database; v1 -> v2: 100%|██████████| 1/1 [00:00<00:00, 440.67it/s]"
     ]
    },
    {
     "name": "stdout",
     "output_type": "stream",
     "text": [
      "\n",
      "\r",
      "0it [00:00, ?it/s]"
     ]
    },
    {
     "name": "stdout",
     "output_type": "stream",
     "text": [
      "\r",
      "Upgrading database; v2 -> v3: : 0it [00:00, ?it/s]"
     ]
    },
    {
     "name": "stdout",
     "output_type": "stream",
     "text": [
      "\r",
      "Upgrading database; v2 -> v3: : 0it [00:00, ?it/s]"
     ]
    },
    {
     "name": "stdout",
     "output_type": "stream",
     "text": [
      "\n",
      "\r",
      "0it [00:00, ?it/s]"
     ]
    },
    {
     "name": "stdout",
     "output_type": "stream",
     "text": [
      "\r",
      "Upgrading database; v3 -> v4: : 0it [00:00, ?it/s]"
     ]
    },
    {
     "name": "stdout",
     "output_type": "stream",
     "text": [
      "\r",
      "Upgrading database; v3 -> v4: : 0it [00:00, ?it/s]"
     ]
    },
    {
     "name": "stdout",
     "output_type": "stream",
     "text": [
      "\n",
      "\r",
      "  0%|          | 0/1 [00:00<?, ?it/s]"
     ]
    },
    {
     "name": "stdout",
     "output_type": "stream",
     "text": [
      "\r",
      "Upgrading database; v4 -> v5:   0%|          | 0/1 [00:00<?, ?it/s]"
     ]
    },
    {
     "name": "stdout",
     "output_type": "stream",
     "text": [
      "\r",
      "Upgrading database; v4 -> v5: 100%|██████████| 1/1 [00:00<00:00, 530.39it/s]"
     ]
    },
    {
     "name": "stdout",
     "output_type": "stream",
     "text": [
      "\n",
      "\r",
      "0it [00:00, ?it/s]"
     ]
    },
    {
     "name": "stdout",
     "output_type": "stream",
     "text": [
      "\r",
      "Upgrading database; v5 -> v6: : 0it [00:00, ?it/s]"
     ]
    },
    {
     "name": "stdout",
     "output_type": "stream",
     "text": [
      "\r",
      "Upgrading database; v5 -> v6: : 0it [00:00, ?it/s]"
     ]
    },
    {
     "name": "stdout",
     "output_type": "stream",
     "text": [
      "\n",
      "\r",
      "  0%|          | 0/1 [00:00<?, ?it/s]"
     ]
    },
    {
     "name": "stdout",
     "output_type": "stream",
     "text": [
      "\r",
      "Upgrading database; v6 -> v7:   0%|          | 0/1 [00:00<?, ?it/s]"
     ]
    },
    {
     "name": "stdout",
     "output_type": "stream",
     "text": [
      "\r",
      "Upgrading database; v6 -> v7: 100%|██████████| 1/1 [00:00<00:00, 245.90it/s]"
     ]
    },
    {
     "name": "stdout",
     "output_type": "stream",
     "text": [
      "\n",
      "\r",
      "  0%|          | 0/1 [00:00<?, ?it/s]"
     ]
    },
    {
     "name": "stdout",
     "output_type": "stream",
     "text": [
      "\r",
      "Upgrading database; v7 -> v8:   0%|          | 0/1 [00:00<?, ?it/s]"
     ]
    },
    {
     "name": "stdout",
     "output_type": "stream",
     "text": [
      "\r",
      "Upgrading database; v7 -> v8: 100%|██████████| 1/1 [00:00<00:00, 413.64it/s]"
     ]
    },
    {
     "name": "stdout",
     "output_type": "stream",
     "text": [
      "\n",
      "\r",
      "  0%|          | 0/1 [00:00<?, ?it/s]"
     ]
    },
    {
     "name": "stdout",
     "output_type": "stream",
     "text": [
      "\r",
      "Upgrading database; v8 -> v9:   0%|          | 0/1 [00:00<?, ?it/s]"
     ]
    },
    {
     "name": "stdout",
     "output_type": "stream",
     "text": [
      "\r",
      "Upgrading database; v8 -> v9: 100%|██████████| 1/1 [00:00<00:00, 445.26it/s]"
     ]
    },
    {
     "name": "stdout",
     "output_type": "stream",
     "text": [
      "\n"
     ]
    }
   ],
   "source": [
    "initialise_database()\n",
    "exp = load_or_create_experiment(experiment_name='tutorial_exp', sample_name=\"no sample\")"
   ]
  },
  {
   "cell_type": "markdown",
   "metadata": {},
   "source": [
    "Here, we define a simple function to benchmark the time it takes to insert n points with either numeric or array data type.\n",
    "We will compare both the time used to call ``add_result`` and the time used for the full measurement."
   ]
  },
  {
   "cell_type": "code",
   "execution_count": 4,
   "metadata": {
    "execution": {
     "iopub.execute_input": "2020-11-23T12:17:48.812816Z",
     "iopub.status.busy": "2020-11-23T12:17:48.812202Z",
     "iopub.status.idle": "2020-11-23T12:17:48.815722Z",
     "shell.execute_reply": "2020-11-23T12:17:48.816665Z"
    }
   },
   "outputs": [],
   "source": [
    "def insert_data(paramtype, npoints, nreps=1):\n",
    "\n",
    "    meas = Measurement(exp=exp)\n",
    "\n",
    "    x1 = ManualParameter('x1')\n",
    "    x2 = ManualParameter('x2')\n",
    "    x3 = ManualParameter('x3')\n",
    "    y1 = ManualParameter('y1')\n",
    "    y2 = ManualParameter('y2')\n",
    "\n",
    "    meas.register_parameter(x1, paramtype=paramtype)\n",
    "    meas.register_parameter(x2, paramtype=paramtype)\n",
    "    meas.register_parameter(x3, paramtype=paramtype)\n",
    "    meas.register_parameter(y1, setpoints=[x1, x2, x3],\n",
    "                            paramtype=paramtype)\n",
    "    meas.register_parameter(y2, setpoints=[x1, x2, x3],\n",
    "                            paramtype=paramtype)\n",
    "    start = time.perf_counter()\n",
    "    with meas.run() as datasaver:\n",
    "        start_adding = time.perf_counter()\n",
    "        for i in range(nreps):\n",
    "            datasaver.add_result((x1, np.random.rand(npoints)),\n",
    "                                 (x2, np.random.rand(npoints)),\n",
    "                                 (x3, np.random.rand(npoints)),\n",
    "                                 (y1, np.random.rand(npoints)),\n",
    "                                 (y2, np.random.rand(npoints)))\n",
    "        stop_adding = time.perf_counter()\n",
    "        run_id = datasaver.run_id\n",
    "    stop = time.perf_counter()\n",
    "    tot_time = stop - start\n",
    "    add_time = stop_adding - start_adding\n",
    "    return tot_time, add_time, run_id"
   ]
  },
  {
   "cell_type": "markdown",
   "metadata": {},
   "source": [
    "## Comparison between numeric/array data and binary blob"
   ]
  },
  {
   "cell_type": "markdown",
   "metadata": {},
   "source": [
    "### Case1: Short experiment time"
   ]
  },
  {
   "cell_type": "code",
   "execution_count": 5,
   "metadata": {
    "execution": {
     "iopub.execute_input": "2020-11-23T12:17:48.823447Z",
     "iopub.status.busy": "2020-11-23T12:17:48.822403Z",
     "iopub.status.idle": "2020-11-23T12:17:49.758763Z",
     "shell.execute_reply": "2020-11-23T12:17:49.758185Z"
    }
   },
   "outputs": [
    {
     "name": "stdout",
     "output_type": "stream",
     "text": [
      "Starting experimental run with id: 1. \n",
      "Starting experimental run with id: 2. \n",
      "Starting experimental run with id: 3. \n"
     ]
    },
    {
     "name": "stdout",
     "output_type": "stream",
     "text": [
      "Starting experimental run with id: 4. \n"
     ]
    },
    {
     "name": "stdout",
     "output_type": "stream",
     "text": [
      "Starting experimental run with id: 5. \n"
     ]
    },
    {
     "name": "stdout",
     "output_type": "stream",
     "text": [
      "Starting experimental run with id: 6. \n",
      "Starting experimental run with id: 7. \n"
     ]
    },
    {
     "name": "stdout",
     "output_type": "stream",
     "text": [
      "Starting experimental run with id: 8. \n"
     ]
    },
    {
     "name": "stdout",
     "output_type": "stream",
     "text": [
      "Starting experimental run with id: 9. \n"
     ]
    },
    {
     "name": "stdout",
     "output_type": "stream",
     "text": [
      "Starting experimental run with id: 10. \n",
      "Starting experimental run with id: 11. \n"
     ]
    },
    {
     "name": "stdout",
     "output_type": "stream",
     "text": [
      "Starting experimental run with id: 12. \n"
     ]
    },
    {
     "name": "stdout",
     "output_type": "stream",
     "text": [
      "Starting experimental run with id: 13. \n"
     ]
    },
    {
     "name": "stdout",
     "output_type": "stream",
     "text": [
      "Starting experimental run with id: 14. \n"
     ]
    }
   ],
   "source": [
    "sizes = [1,500,1000,2000,3000,4000,5000]\n",
    "t_numeric = []\n",
    "t_numeric_add = []\n",
    "t_array = []\n",
    "t_array_add = []\n",
    "for size in sizes:\n",
    "    tn, tna, run_id_n =  insert_data('numeric', size)\n",
    "    t_numeric.append(tn)\n",
    "    t_numeric_add.append(tna)\n",
    "\n",
    "    ta, taa, run_id_a =  insert_data('array', size)\n",
    "    t_array.append(ta)\n",
    "    t_array_add.append(taa)"
   ]
  },
  {
   "cell_type": "code",
   "execution_count": 6,
   "metadata": {
    "execution": {
     "iopub.execute_input": "2020-11-23T12:17:49.782934Z",
     "iopub.status.busy": "2020-11-23T12:17:49.778167Z",
     "iopub.status.idle": "2020-11-23T12:17:50.010622Z",
     "shell.execute_reply": "2020-11-23T12:17:50.010074Z"
    }
   },
   "outputs": [
    {
     "data": {
      "image/png": "[encoded data removed]",
      "text/plain": [
       "<Figure size 432x288 with 1 Axes>"
      ]
     },
     "metadata": {
      "needs_background": "light"
     },
     "output_type": "display_data"
    }
   ],
   "source": [
    "fig, ax = plt.subplots(1,1)\n",
    "ax.plot(sizes, t_numeric, 'o-', label='Inserting row-by-row')\n",
    "ax.plot(sizes, t_numeric_add, 'o-', label='Inserting row-by-row: add_result only')\n",
    "ax.plot(sizes, t_array, 'd-', label='Inserting as binary blob')\n",
    "ax.plot(sizes, t_array_add, 'd-', label='Inserting as binary blob: add_result only')\n",
    "ax.legend()\n",
    "ax.set_xlabel('Array length')\n",
    "ax.set_ylabel('Time (s)')\n",
    "fig.tight_layout()"
   ]
  },
  {
   "cell_type": "markdown",
   "metadata": {},
   "source": [
    "As shown in the latter figure, the time to setup and and close the experiment is approximately 0.4 sec. In case of small array sizes, the difference between inserting values of data as arrays and inserting them row-by-row is relatively unimportant. At larger array sizes, i.e. above 10000 points, the cost of writing data as individual datapoints starts to become important.\n"
   ]
  },
  {
   "cell_type": "markdown",
   "metadata": {},
   "source": [
    "### Case2: Long experiment time "
   ]
  },
  {
   "cell_type": "code",
   "execution_count": 7,
   "metadata": {
    "execution": {
     "iopub.execute_input": "2020-11-23T12:17:50.018740Z",
     "iopub.status.busy": "2020-11-23T12:17:50.017646Z",
     "iopub.status.idle": "2020-11-23T12:18:57.901798Z",
     "shell.execute_reply": "2020-11-23T12:18:57.901297Z"
    }
   },
   "outputs": [
    {
     "name": "stdout",
     "output_type": "stream",
     "text": [
      "Starting experimental run with id: 15. \n",
      "Starting experimental run with id: 16. \n",
      "Starting experimental run with id: 17. \n"
     ]
    },
    {
     "name": "stdout",
     "output_type": "stream",
     "text": [
      "Starting experimental run with id: 18. \n",
      "Starting experimental run with id: 19. \n"
     ]
    },
    {
     "name": "stdout",
     "output_type": "stream",
     "text": [
      "Starting experimental run with id: 20. \n"
     ]
    },
    {
     "name": "stdout",
     "output_type": "stream",
     "text": [
      "Starting experimental run with id: 21. \n"
     ]
    },
    {
     "name": "stdout",
     "output_type": "stream",
     "text": [
      "Starting experimental run with id: 22. \n"
     ]
    },
    {
     "name": "stdout",
     "output_type": "stream",
     "text": [
      "Starting experimental run with id: 23. \n"
     ]
    },
    {
     "name": "stdout",
     "output_type": "stream",
     "text": [
      "Starting experimental run with id: 24. \n"
     ]
    },
    {
     "name": "stdout",
     "output_type": "stream",
     "text": [
      "Starting experimental run with id: 25. \n"
     ]
    },
    {
     "name": "stdout",
     "output_type": "stream",
     "text": [
      "Starting experimental run with id: 26. \n"
     ]
    },
    {
     "name": "stdout",
     "output_type": "stream",
     "text": [
      "Starting experimental run with id: 27. \n"
     ]
    },
    {
     "name": "stdout",
     "output_type": "stream",
     "text": [
      "Starting experimental run with id: 28. \n"
     ]
    }
   ],
   "source": [
    "sizes = [1,500,1000,2000,3000,4000,5000]\n",
    "nreps = 100\n",
    "t_numeric = []\n",
    "t_numeric_add = []\n",
    "t_numeric_run_ids = []\n",
    "t_array = []\n",
    "t_array_add = []\n",
    "t_array_run_ids = []\n",
    "for size in sizes:\n",
    "    tn, tna, run_id_n =  insert_data('numeric', size, nreps=nreps)\n",
    "    t_numeric.append(tn)\n",
    "    t_numeric_add.append(tna)\n",
    "    t_numeric_run_ids.append(run_id_n)\n",
    "\n",
    "    ta, taa, run_id_a =  insert_data('array', size, nreps=nreps)\n",
    "    t_array.append(ta)\n",
    "    t_array_add.append(taa)\n",
    "    t_array_run_ids.append(run_id_a)"
   ]
  },
  {
   "cell_type": "code",
   "execution_count": 8,
   "metadata": {
    "execution": {
     "iopub.execute_input": "2020-11-23T12:18:57.926736Z",
     "iopub.status.busy": "2020-11-23T12:18:57.919198Z",
     "iopub.status.idle": "2020-11-23T12:18:58.135574Z",
     "shell.execute_reply": "2020-11-23T12:18:58.135075Z"
    },
    "scrolled": true
   },
   "outputs": [
    {
     "data": {
      "image/png": "[encoded data removed]",
      "text/plain": [
       "<Figure size 432x288 with 1 Axes>"
      ]
     },
     "metadata": {
      "needs_background": "light"
     },
     "output_type": "display_data"
    }
   ],
   "source": [
    "fig, ax = plt.subplots(1,1)\n",
    "ax.plot(sizes, t_numeric, 'o-', label='Inserting row-by-row')\n",
    "ax.plot(sizes, t_numeric_add, 'o-', label='Inserting row-by-row: add_result only')\n",
    "ax.plot(sizes, t_array, 'd-', label='Inserting as binary blob')\n",
    "ax.plot(sizes, t_array_add, 'd-', label='Inserting as binary blob: add_result only')\n",
    "ax.legend()\n",
    "ax.set_xlabel('Array length')\n",
    "ax.set_ylabel('Time (s)')\n",
    "fig.tight_layout()"
   ]
  },
  {
   "cell_type": "markdown",
   "metadata": {},
   "source": [
    "However, as we increase the length of the experiment, as seen here by repeating the insertion 100 times, we see a big difference between inserting values of the data row-by-row and inserting it as a binary blob."
   ]
  },
  {
   "cell_type": "markdown",
   "metadata": {},
   "source": [
    "## Loading the data "
   ]
  },
  {
   "cell_type": "code",
   "execution_count": 9,
   "metadata": {
    "execution": {
     "iopub.execute_input": "2020-11-23T12:18:58.140097Z",
     "iopub.status.busy": "2020-11-23T12:18:58.138846Z",
     "iopub.status.idle": "2020-11-23T12:18:58.142315Z",
     "shell.execute_reply": "2020-11-23T12:18:58.141820Z"
    }
   },
   "outputs": [],
   "source": [
    "from qcodes.dataset.data_set import load_by_id\n",
    "from qcodes.dataset.data_export import get_data_by_id"
   ]
  },
  {
   "cell_type": "markdown",
   "metadata": {},
   "source": [
    "As usual you can load the data by using the ``load_by_id`` function but you will notice that the different storage methods\n",
    "are reflected in shape of the data as it is retrieved. "
   ]
  },
  {
   "cell_type": "code",
   "execution_count": 10,
   "metadata": {
    "execution": {
     "iopub.execute_input": "2020-11-23T12:18:58.146240Z",
     "iopub.status.busy": "2020-11-23T12:18:58.145653Z",
     "iopub.status.idle": "2020-11-23T12:18:58.147717Z",
     "shell.execute_reply": "2020-11-23T12:18:58.148248Z"
    }
   },
   "outputs": [],
   "source": [
    "run_id_n = t_numeric_run_ids[0]\n",
    "run_id_a = t_array_run_ids[0]"
   ]
  },
  {
   "cell_type": "code",
   "execution_count": 11,
   "metadata": {
    "execution": {
     "iopub.execute_input": "2020-11-23T12:18:58.151737Z",
     "iopub.status.busy": "2020-11-23T12:18:58.151143Z",
     "iopub.status.idle": "2020-11-23T12:18:58.161200Z",
     "shell.execute_reply": "2020-11-23T12:18:58.161666Z"
    },
    "scrolled": true
   },
   "outputs": [
    {
     "data": {
      "text/plain": [
       "{'x1': {'x1': array([0.99411723, 0.99411723, 0.36637178, 0.36637178, 0.48510623,\n",
       "         0.48510623, 0.96280992, 0.96280992, 0.50505233, 0.50505233,\n",
       "         0.72056158, 0.72056158, 0.36336867, 0.36336867, 0.66052219,\n",
       "         0.66052219, 0.22453555, 0.22453555, 0.89617806, 0.89617806,\n",
       "         0.97001442, 0.97001442, 0.28017673, 0.28017673, 0.34013329,\n",
       "         0.34013329, 0.9859954 , 0.9859954 , 0.18971782, 0.18971782,\n",
       "         0.41240769, 0.41240769, 0.4230013 , 0.4230013 , 0.69226925,\n",
       "         0.69226925, 0.53074485, 0.53074485, 0.98216573, 0.98216573,\n",
       "         0.20675748, 0.20675748, 0.13715809, 0.13715809, 0.45684853,\n",
       "         0.45684853, 0.06615279, 0.06615279, 0.02689298, 0.02689298,\n",
       "         0.49671738, 0.49671738, 0.88138088, 0.88138088, 0.31246566,\n",
       "         0.31246566, 0.03099896, 0.03099896, 0.01855187, 0.01855187,\n",
       "         0.05669467, 0.05669467, 0.33594018, 0.33594018, 0.15694926,\n",
       "         0.15694926, 0.85346217, 0.85346217, 0.46121891, 0.46121891,\n",
       "         0.49028866, 0.49028866, 0.58113433, 0.58113433, 0.53109652,\n",
       "         0.53109652, 0.22773013, 0.22773013, 0.74598333, 0.74598333,\n",
       "         0.61049512, 0.61049512, 0.01863008, 0.01863008, 0.05311678,\n",
       "         0.05311678, 0.93702536, 0.93702536, 0.72320669, 0.72320669,\n",
       "         0.74139507, 0.74139507, 0.10511836, 0.10511836, 0.04492526,\n",
       "         0.04492526, 0.1813552 , 0.1813552 , 0.82381223, 0.82381223,\n",
       "         0.65384359, 0.65384359, 0.07127471, 0.07127471, 0.99564775,\n",
       "         0.99564775, 0.45042954, 0.45042954, 0.90531435, 0.90531435,\n",
       "         0.19385507, 0.19385507, 0.26770888, 0.26770888, 0.74945252,\n",
       "         0.74945252, 0.18912678, 0.18912678, 0.63481331, 0.63481331,\n",
       "         0.41934252, 0.41934252, 0.64312078, 0.64312078, 0.10255878,\n",
       "         0.10255878, 0.80200148, 0.80200148, 0.43200287, 0.43200287,\n",
       "         0.31544235, 0.31544235, 0.99348099, 0.99348099, 0.63614719,\n",
       "         0.63614719, 0.31104077, 0.31104077, 0.96519866, 0.96519866,\n",
       "         0.95575704, 0.95575704, 0.00356314, 0.00356314, 0.99812297,\n",
       "         0.99812297, 0.45589837, 0.45589837, 0.63085161, 0.63085161,\n",
       "         0.87961197, 0.87961197, 0.27414594, 0.27414594, 0.25859494,\n",
       "         0.25859494, 0.12730043, 0.12730043, 0.57296622, 0.57296622,\n",
       "         0.78858549, 0.78858549, 0.44596107, 0.44596107, 0.97215234,\n",
       "         0.97215234, 0.98741188, 0.98741188, 0.71768536, 0.71768536,\n",
       "         0.33771465, 0.33771465, 0.27370897, 0.27370897, 0.48639232,\n",
       "         0.48639232, 0.46136677, 0.46136677, 0.95647085, 0.95647085,\n",
       "         0.39089493, 0.39089493, 0.1198905 , 0.1198905 , 0.89485704,\n",
       "         0.89485704, 0.39937136, 0.39937136, 0.18768089, 0.18768089,\n",
       "         0.44842694, 0.44842694, 0.76170102, 0.76170102, 0.31321488,\n",
       "         0.31321488, 0.08194786, 0.08194786, 0.1795965 , 0.1795965 ])}}"
      ]
     },
     "execution_count": 1,
     "metadata": {},
     "output_type": "execute_result"
    }
   ],
   "source": [
    "ds = load_by_id(run_id_n)\n",
    "ds.get_parameter_data('x1')"
   ]
  },
  {
   "cell_type": "markdown",
   "metadata": {},
   "source": [
    "And a dataset stored as binary arrays"
   ]
  },
  {
   "cell_type": "code",
   "execution_count": 12,
   "metadata": {
    "execution": {
     "iopub.execute_input": "2020-11-23T12:18:58.165253Z",
     "iopub.status.busy": "2020-11-23T12:18:58.164602Z",
     "iopub.status.idle": "2020-11-23T12:18:58.235174Z",
     "shell.execute_reply": "2020-11-23T12:18:58.235687Z"
    },
    "scrolled": true
   },
   "outputs": [
    {
     "data": {
      "text/plain": [
       "{'x1': {'x1': array([[0.59501689],\n",
       "         [0.59501689],\n",
       "         [0.76405842],\n",
       "         [0.76405842],\n",
       "         [0.69522942],\n",
       "         [0.69522942],\n",
       "         [0.84759526],\n",
       "         [0.84759526],\n",
       "         [0.21046463],\n",
       "         [0.21046463],\n",
       "         [0.53481832],\n",
       "         [0.53481832],\n",
       "         [0.69372304],\n",
       "         [0.69372304],\n",
       "         [0.66160515],\n",
       "         [0.66160515],\n",
       "         [0.2264041 ],\n",
       "         [0.2264041 ],\n",
       "         [0.09863901],\n",
       "         [0.09863901],\n",
       "         [0.83742436],\n",
       "         [0.83742436],\n",
       "         [0.47917872],\n",
       "         [0.47917872],\n",
       "         [0.23411632],\n",
       "         [0.23411632],\n",
       "         [0.66709915],\n",
       "         [0.66709915],\n",
       "         [0.74823034],\n",
       "         [0.74823034],\n",
       "         [0.73341115],\n",
       "         [0.73341115],\n",
       "         [0.73547604],\n",
       "         [0.73547604],\n",
       "         [0.10028488],\n",
       "         [0.10028488],\n",
       "         [0.78175819],\n",
       "         [0.78175819],\n",
       "         [0.99399922],\n",
       "         [0.99399922],\n",
       "         [0.85056049],\n",
       "         [0.85056049],\n",
       "         [0.98482271],\n",
       "         [0.98482271],\n",
       "         [0.34899021],\n",
       "         [0.34899021],\n",
       "         [0.84754357],\n",
       "         [0.84754357],\n",
       "         [0.1212445 ],\n",
       "         [0.1212445 ],\n",
       "         [0.58025851],\n",
       "         [0.58025851],\n",
       "         [0.4134738 ],\n",
       "         [0.4134738 ],\n",
       "         [0.52465082],\n",
       "         [0.52465082],\n",
       "         [0.94564253],\n",
       "         [0.94564253],\n",
       "         [0.4683758 ],\n",
       "         [0.4683758 ],\n",
       "         [0.35094587],\n",
       "         [0.35094587],\n",
       "         [0.63681475],\n",
       "         [0.63681475],\n",
       "         [0.44958337],\n",
       "         [0.44958337],\n",
       "         [0.26978899],\n",
       "         [0.26978899],\n",
       "         [0.91107837],\n",
       "         [0.91107837],\n",
       "         [0.85287712],\n",
       "         [0.85287712],\n",
       "         [0.38638556],\n",
       "         [0.38638556],\n",
       "         [0.17061256],\n",
       "         [0.17061256],\n",
       "         [0.47302221],\n",
       "         [0.47302221],\n",
       "         [0.7948832 ],\n",
       "         [0.7948832 ],\n",
       "         [0.32841699],\n",
       "         [0.32841699],\n",
       "         [0.87017781],\n",
       "         [0.87017781],\n",
       "         [0.40510853],\n",
       "         [0.40510853],\n",
       "         [0.38414979],\n",
       "         [0.38414979],\n",
       "         [0.67447631],\n",
       "         [0.67447631],\n",
       "         [0.81449587],\n",
       "         [0.81449587],\n",
       "         [0.21823473],\n",
       "         [0.21823473],\n",
       "         [0.2440692 ],\n",
       "         [0.2440692 ],\n",
       "         [0.6116647 ],\n",
       "         [0.6116647 ],\n",
       "         [0.23521777],\n",
       "         [0.23521777],\n",
       "         [0.49093816],\n",
       "         [0.49093816],\n",
       "         [0.37139703],\n",
       "         [0.37139703],\n",
       "         [0.57593487],\n",
       "         [0.57593487],\n",
       "         [0.26680011],\n",
       "         [0.26680011],\n",
       "         [0.04695342],\n",
       "         [0.04695342],\n",
       "         [0.02370659],\n",
       "         [0.02370659],\n",
       "         [0.09088805],\n",
       "         [0.09088805],\n",
       "         [0.81738721],\n",
       "         [0.81738721],\n",
       "         [0.30947826],\n",
       "         [0.30947826],\n",
       "         [0.75170538],\n",
       "         [0.75170538],\n",
       "         [0.73593415],\n",
       "         [0.73593415],\n",
       "         [0.4548683 ],\n",
       "         [0.4548683 ],\n",
       "         [0.83230792],\n",
       "         [0.83230792],\n",
       "         [0.91758847],\n",
       "         [0.91758847],\n",
       "         [0.27223019],\n",
       "         [0.27223019],\n",
       "         [0.66840366],\n",
       "         [0.66840366],\n",
       "         [0.09875526],\n",
       "         [0.09875526],\n",
       "         [0.80009207],\n",
       "         [0.80009207],\n",
       "         [0.7970958 ],\n",
       "         [0.7970958 ],\n",
       "         [0.81875437],\n",
       "         [0.81875437],\n",
       "         [0.77984847],\n",
       "         [0.77984847],\n",
       "         [0.54284447],\n",
       "         [0.54284447],\n",
       "         [0.57150744],\n",
       "         [0.57150744],\n",
       "         [0.41765663],\n",
       "         [0.41765663],\n",
       "         [0.30130091],\n",
       "         [0.30130091],\n",
       "         [0.97685786],\n",
       "         [0.97685786],\n",
       "         [0.72782998],\n",
       "         [0.72782998],\n",
       "         [0.61204996],\n",
       "         [0.61204996],\n",
       "         [0.5694654 ],\n",
       "         [0.5694654 ],\n",
       "         [0.49996096],\n",
       "         [0.49996096],\n",
       "         [0.58908543],\n",
       "         [0.58908543],\n",
       "         [0.51346872],\n",
       "         [0.51346872],\n",
       "         [0.25377494],\n",
       "         [0.25377494],\n",
       "         [0.56970619],\n",
       "         [0.56970619],\n",
       "         [0.01097866],\n",
       "         [0.01097866],\n",
       "         [0.92355534],\n",
       "         [0.92355534],\n",
       "         [0.11400392],\n",
       "         [0.11400392],\n",
       "         [0.97360217],\n",
       "         [0.97360217],\n",
       "         [0.45120998],\n",
       "         [0.45120998],\n",
       "         [0.53220413],\n",
       "         [0.53220413],\n",
       "         [0.99590986],\n",
       "         [0.99590986],\n",
       "         [0.13006502],\n",
       "         [0.13006502],\n",
       "         [0.3958329 ],\n",
       "         [0.3958329 ],\n",
       "         [0.9358354 ],\n",
       "         [0.9358354 ],\n",
       "         [0.91060848],\n",
       "         [0.91060848],\n",
       "         [0.1198677 ],\n",
       "         [0.1198677 ],\n",
       "         [0.40316804],\n",
       "         [0.40316804],\n",
       "         [0.35785209],\n",
       "         [0.35785209],\n",
       "         [0.71111033],\n",
       "         [0.71111033],\n",
       "         [0.17336525],\n",
       "         [0.17336525]])}}"
      ]
     },
     "execution_count": 1,
     "metadata": {},
     "output_type": "execute_result"
    }
   ],
   "source": [
    "ds = load_by_id(run_id_a)\n",
    "ds.get_parameter_data('x1')"
   ]
  },
  {
   "cell_type": "code",
   "execution_count": null,
   "metadata": {},
   "outputs": [],
   "source": []
  }
 ],
 "metadata": {
  "kernelspec": {
   "display_name": "Python 3",
   "language": "python",
   "name": "python3"
  },
  "language_info": {
   "codemirror_mode": {
    "name": "ipython",
    "version": 3
   },
   "file_extension": ".py",
   "mimetype": "text/x-python",
   "name": "python",
   "nbconvert_exporter": "python",
   "pygments_lexer": "ipython3",
   "version": "3.7.9"
  },
  "nbsphinx": {
   "timeout": 600
  },
  "toc": {
   "base_numbering": 1,
   "nav_menu": {},
   "number_sections": true,
   "sideBar": true,
   "skip_h1_title": false,
   "title_cell": "Table of Contents",
   "title_sidebar": "Contents",
   "toc_cell": false,
   "toc_position": {},
   "toc_section_display": true,
   "toc_window_display": false
  },
  "varInspector": {
   "cols": {
    "lenName": 16,
    "lenType": 16,
    "lenVar": 40
   },
   "kernels_config": {
    "python": {
     "delete_cmd_postfix": "",
     "delete_cmd_prefix": "del ",
     "library": "var_list.py",
     "varRefreshCmd": "print(var_dic_list())"
    },
    "r": {
     "delete_cmd_postfix": ") ",
     "delete_cmd_prefix": "rm(",
     "library": "var_list.r",
     "varRefreshCmd": "cat(var_dic_list()) "
    }
   },
   "types_to_exclude": [
    "module",
    "function",
    "builtin_function_or_method",
    "instance",
    "_Feature"
   ],
   "window_display": false
  }
 },
 "nbformat": 4,
 "nbformat_minor": 2
}
