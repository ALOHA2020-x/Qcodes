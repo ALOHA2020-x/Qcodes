{
 "cells": [
  {
   "cell_type": "markdown",
   "metadata": {},
   "source": [
    "# DataSet Performance\n",
    "\n",
    "This notebook shows the trade-off between inserting data into a database row-by-row and as binary blobs. Inserting the data row-by-row means that we have direct access to all the data and may perform queries directly on the values of the data. On the other hand, as we shall see, this is much slower than inserting the data directly as binary blobs."
   ]
  },
  {
   "cell_type": "markdown",
   "metadata": {},
   "source": [
    "First, we choose a new location for the database to ensure that we don't add a bunch of benchmarking data to the default one."
   ]
  },
  {
   "cell_type": "code",
   "execution_count": 1,
   "metadata": {
    "execution": {
     "iopub.execute_input": "2020-10-08T12:50:15.070308Z",
     "iopub.status.busy": "2020-10-08T12:50:15.068204Z",
     "iopub.status.idle": "2020-10-08T12:50:16.182707Z",
     "shell.execute_reply": "2020-10-08T12:50:16.183231Z"
    }
   },
   "outputs": [
    {
     "name": "stdout",
     "output_type": "stream",
     "text": [
      "Logging hadn't been started.\n",
      "Activating auto-logging. Current session state plus future input saved.\n",
      "Filename       : /home/vsts/.qcodes/logs/command_history.log\n",
      "Mode           : append\n",
      "Output logging : True\n",
      "Raw input log  : False\n",
      "Timestamping   : True\n",
      "State          : active\n"
     ]
    },
    {
     "name": "stdout",
     "output_type": "stream",
     "text": [
      "Qcodes Logfile : /home/vsts/.qcodes/logs/201008-20161-qcodes.log\n"
     ]
    }
   ],
   "source": [
    "import os\n",
    "cwd = os.getcwd()\n",
    "import qcodes as qc\n",
    "qc.config[\"core\"][\"db_location\"] = os.path.join(cwd, 'testing.db')\n"
   ]
  },
  {
   "cell_type": "code",
   "execution_count": 2,
   "metadata": {
    "execution": {
     "iopub.execute_input": "2020-10-08T12:50:16.189819Z",
     "iopub.status.busy": "2020-10-08T12:50:16.188649Z",
     "iopub.status.idle": "2020-10-08T12:50:16.392818Z",
     "shell.execute_reply": "2020-10-08T12:50:16.391866Z"
    }
   },
   "outputs": [],
   "source": [
    "%matplotlib inline\n",
    "import time\n",
    "import matplotlib.pyplot as plt\n",
    "import numpy as np\n",
    "\n",
    "import qcodes as qc\n",
    "from qcodes.instrument.parameter import ManualParameter\n",
    "from qcodes.dataset.experiment_container import (Experiment,\n",
    "                                                 load_last_experiment,\n",
    "                                                 new_experiment)\n",
    "from qcodes.dataset.sqlite.database import initialise_database\n",
    "from qcodes import load_or_create_experiment\n",
    "from qcodes.dataset.measurements import Measurement"
   ]
  },
  {
   "cell_type": "code",
   "execution_count": 3,
   "metadata": {
    "execution": {
     "iopub.execute_input": "2020-10-08T12:50:16.397457Z",
     "iopub.status.busy": "2020-10-08T12:50:16.396360Z",
     "iopub.status.idle": "2020-10-08T12:50:16.520496Z",
     "shell.execute_reply": "2020-10-08T12:50:16.519724Z"
    }
   },
   "outputs": [
    {
     "name": "stdout",
     "output_type": "stream",
     "text": [
      "\r",
      "0it [00:00, ?it/s]"
     ]
    },
    {
     "name": "stdout",
     "output_type": "stream",
     "text": [
      "\r",
      "Upgrading database; v0 -> v1: : 0it [00:00, ?it/s]"
     ]
    },
    {
     "name": "stdout",
     "output_type": "stream",
     "text": [
      "\r",
      "Upgrading database; v0 -> v1: : 0it [00:00, ?it/s]"
     ]
    },
    {
     "name": "stdout",
     "output_type": "stream",
     "text": [
      "\n",
      "\r",
      "  0%|          | 0/1 [00:00<?, ?it/s]"
     ]
    },
    {
     "name": "stdout",
     "output_type": "stream",
     "text": [
      "\r",
      "Upgrading database; v1 -> v2:   0%|          | 0/1 [00:00<?, ?it/s]"
     ]
    },
    {
     "name": "stdout",
     "output_type": "stream",
     "text": [
      "\r",
      "Upgrading database; v1 -> v2: 100%|██████████| 1/1 [00:00<00:00, 369.51it/s]"
     ]
    },
    {
     "name": "stdout",
     "output_type": "stream",
     "text": [
      "\n",
      "\r",
      "0it [00:00, ?it/s]"
     ]
    },
    {
     "name": "stdout",
     "output_type": "stream",
     "text": [
      "\r",
      "Upgrading database; v2 -> v3: : 0it [00:00, ?it/s]"
     ]
    },
    {
     "name": "stdout",
     "output_type": "stream",
     "text": [
      "\r",
      "Upgrading database; v2 -> v3: : 0it [00:00, ?it/s]"
     ]
    },
    {
     "name": "stdout",
     "output_type": "stream",
     "text": [
      "\n",
      "\r",
      "0it [00:00, ?it/s]"
     ]
    },
    {
     "name": "stdout",
     "output_type": "stream",
     "text": [
      "\r",
      "Upgrading database; v3 -> v4: : 0it [00:00, ?it/s]"
     ]
    },
    {
     "name": "stdout",
     "output_type": "stream",
     "text": [
      "\r",
      "Upgrading database; v3 -> v4: : 0it [00:00, ?it/s]"
     ]
    },
    {
     "name": "stdout",
     "output_type": "stream",
     "text": [
      "\n",
      "\r",
      "  0%|          | 0/1 [00:00<?, ?it/s]"
     ]
    },
    {
     "name": "stdout",
     "output_type": "stream",
     "text": [
      "\r",
      "Upgrading database; v4 -> v5:   0%|          | 0/1 [00:00<?, ?it/s]"
     ]
    },
    {
     "name": "stdout",
     "output_type": "stream",
     "text": [
      "\r",
      "Upgrading database; v4 -> v5: 100%|██████████| 1/1 [00:00<00:00, 490.50it/s]"
     ]
    },
    {
     "name": "stdout",
     "output_type": "stream",
     "text": [
      "\n",
      "\r",
      "0it [00:00, ?it/s]"
     ]
    },
    {
     "name": "stdout",
     "output_type": "stream",
     "text": [
      "\r",
      "Upgrading database; v5 -> v6: : 0it [00:00, ?it/s]"
     ]
    },
    {
     "name": "stdout",
     "output_type": "stream",
     "text": [
      "\r",
      "Upgrading database; v5 -> v6: : 0it [00:00, ?it/s]"
     ]
    },
    {
     "name": "stdout",
     "output_type": "stream",
     "text": [
      "\n",
      "\r",
      "  0%|          | 0/1 [00:00<?, ?it/s]"
     ]
    },
    {
     "name": "stdout",
     "output_type": "stream",
     "text": [
      "\r",
      "Upgrading database; v6 -> v7:   0%|          | 0/1 [00:00<?, ?it/s]"
     ]
    },
    {
     "name": "stdout",
     "output_type": "stream",
     "text": [
      "\r",
      "Upgrading database; v6 -> v7: 100%|██████████| 1/1 [00:00<00:00, 248.85it/s]"
     ]
    },
    {
     "name": "stdout",
     "output_type": "stream",
     "text": [
      "\n",
      "\r",
      "  0%|          | 0/1 [00:00<?, ?it/s]"
     ]
    },
    {
     "name": "stdout",
     "output_type": "stream",
     "text": [
      "\r",
      "Upgrading database; v7 -> v8:   0%|          | 0/1 [00:00<?, ?it/s]"
     ]
    },
    {
     "name": "stdout",
     "output_type": "stream",
     "text": [
      "\r",
      "Upgrading database; v7 -> v8: 100%|██████████| 1/1 [00:00<00:00, 328.99it/s]"
     ]
    },
    {
     "name": "stdout",
     "output_type": "stream",
     "text": [
      "\n",
      "\r",
      "  0%|          | 0/1 [00:00<?, ?it/s]"
     ]
    },
    {
     "name": "stdout",
     "output_type": "stream",
     "text": [
      "\r",
      "Upgrading database; v8 -> v9:   0%|          | 0/1 [00:00<?, ?it/s]"
     ]
    },
    {
     "name": "stdout",
     "output_type": "stream",
     "text": [
      "\r",
      "Upgrading database; v8 -> v9: 100%|██████████| 1/1 [00:00<00:00, 356.33it/s]"
     ]
    },
    {
     "name": "stdout",
     "output_type": "stream",
     "text": [
      "\n"
     ]
    }
   ],
   "source": [
    "initialise_database()\n",
    "exp = load_or_create_experiment(experiment_name='tutorial_exp', sample_name=\"no sample\")"
   ]
  },
  {
   "cell_type": "markdown",
   "metadata": {},
   "source": [
    "Here, we define a simple function to benchmark the time it takes to insert n points with either numeric or array data type.\n",
    "We will compare both the time used to call ``add_result`` and the time used for the full measurement."
   ]
  },
  {
   "cell_type": "code",
   "execution_count": 4,
   "metadata": {
    "execution": {
     "iopub.execute_input": "2020-10-08T12:50:16.530126Z",
     "iopub.status.busy": "2020-10-08T12:50:16.529210Z",
     "iopub.status.idle": "2020-10-08T12:50:16.532298Z",
     "shell.execute_reply": "2020-10-08T12:50:16.533077Z"
    }
   },
   "outputs": [],
   "source": [
    "def insert_data(paramtype, npoints, nreps=1):\n",
    "\n",
    "    meas = Measurement(exp=exp)\n",
    "\n",
    "    x1 = ManualParameter('x1')\n",
    "    x2 = ManualParameter('x2')\n",
    "    x3 = ManualParameter('x3')\n",
    "    y1 = ManualParameter('y1')\n",
    "    y2 = ManualParameter('y2')\n",
    "\n",
    "    meas.register_parameter(x1, paramtype=paramtype)\n",
    "    meas.register_parameter(x2, paramtype=paramtype)\n",
    "    meas.register_parameter(x3, paramtype=paramtype)\n",
    "    meas.register_parameter(y1, setpoints=[x1, x2, x3],\n",
    "                            paramtype=paramtype)\n",
    "    meas.register_parameter(y2, setpoints=[x1, x2, x3],\n",
    "                            paramtype=paramtype)\n",
    "    start = time.perf_counter()\n",
    "    with meas.run() as datasaver:\n",
    "        start_adding = time.perf_counter()\n",
    "        for i in range(nreps):\n",
    "            datasaver.add_result((x1, np.random.rand(npoints)),\n",
    "                                 (x2, np.random.rand(npoints)),\n",
    "                                 (x3, np.random.rand(npoints)),\n",
    "                                 (y1, np.random.rand(npoints)),\n",
    "                                 (y2, np.random.rand(npoints)))\n",
    "        stop_adding = time.perf_counter()\n",
    "        run_id = datasaver.run_id\n",
    "    stop = time.perf_counter()\n",
    "    tot_time = stop - start\n",
    "    add_time = stop_adding - start_adding\n",
    "    return tot_time, add_time, run_id"
   ]
  },
  {
   "cell_type": "markdown",
   "metadata": {},
   "source": [
    "## Comparison between numeric/array data and binary blob"
   ]
  },
  {
   "cell_type": "markdown",
   "metadata": {},
   "source": [
    "### Case1: Short experiment time"
   ]
  },
  {
   "cell_type": "code",
   "execution_count": 5,
   "metadata": {
    "execution": {
     "iopub.execute_input": "2020-10-08T12:50:16.539612Z",
     "iopub.status.busy": "2020-10-08T12:50:16.538263Z",
     "iopub.status.idle": "2020-10-08T12:50:17.406676Z",
     "shell.execute_reply": "2020-10-08T12:50:17.405902Z"
    }
   },
   "outputs": [
    {
     "name": "stdout",
     "output_type": "stream",
     "text": [
      "Starting experimental run with id: 1. \n",
      "Starting experimental run with id: 2. \n",
      "Starting experimental run with id: 3. \n",
      "Starting experimental run with id: 4. \n"
     ]
    },
    {
     "name": "stdout",
     "output_type": "stream",
     "text": [
      "Starting experimental run with id: 5. \n"
     ]
    },
    {
     "name": "stdout",
     "output_type": "stream",
     "text": [
      "Starting experimental run with id: 6. "
     ]
    },
    {
     "name": "stdout",
     "output_type": "stream",
     "text": [
      "\n"
     ]
    },
    {
     "name": "stdout",
     "output_type": "stream",
     "text": [
      "Starting experimental run with id: 7. \n"
     ]
    },
    {
     "name": "stdout",
     "output_type": "stream",
     "text": [
      "Starting experimental run with id: 8. \n",
      "Starting experimental run with id: 9. \n"
     ]
    },
    {
     "name": "stdout",
     "output_type": "stream",
     "text": [
      "Starting experimental run with id: 10. \n",
      "Starting experimental run with id: 11. \n"
     ]
    },
    {
     "name": "stdout",
     "output_type": "stream",
     "text": [
      "Starting experimental run with id: 12. \n"
     ]
    },
    {
     "name": "stdout",
     "output_type": "stream",
     "text": [
      "Starting experimental run with id: 13. \n"
     ]
    },
    {
     "name": "stdout",
     "output_type": "stream",
     "text": [
      "Starting experimental run with id: 14. \n"
     ]
    }
   ],
   "source": [
    "sizes = [1,500,1000,2000,3000,4000,5000]\n",
    "t_numeric = []\n",
    "t_numeric_add = []\n",
    "t_array = []\n",
    "t_array_add = []\n",
    "for size in sizes:\n",
    "    tn, tna, run_id_n =  insert_data('numeric', size)\n",
    "    t_numeric.append(tn)\n",
    "    t_numeric_add.append(tna)\n",
    "\n",
    "    ta, taa, run_id_a =  insert_data('array', size)\n",
    "    t_array.append(ta)\n",
    "    t_array_add.append(taa)"
   ]
  },
  {
   "cell_type": "code",
   "execution_count": 6,
   "metadata": {
    "execution": {
     "iopub.execute_input": "2020-10-08T12:50:17.425543Z",
     "iopub.status.busy": "2020-10-08T12:50:17.424782Z",
     "iopub.status.idle": "2020-10-08T12:50:17.645409Z",
     "shell.execute_reply": "2020-10-08T12:50:17.644801Z"
    }
   },
   "outputs": [
    {
     "data": {
      "image/png": "[encoded data removed]",
      "text/plain": [
       "<Figure size 432x288 with 1 Axes>"
      ]
     },
     "metadata": {
      "needs_background": "light"
     },
     "output_type": "display_data"
    }
   ],
   "source": [
    "fig, ax = plt.subplots(1,1)\n",
    "ax.plot(sizes, t_numeric, 'o-', label='Inserting row-by-row')\n",
    "ax.plot(sizes, t_numeric_add, 'o-', label='Inserting row-by-row: add_result only')\n",
    "ax.plot(sizes, t_array, 'd-', label='Inserting as binary blob')\n",
    "ax.plot(sizes, t_array_add, 'd-', label='Inserting as binary blob: add_result only')\n",
    "ax.legend()\n",
    "ax.set_xlabel('Array length')\n",
    "ax.set_ylabel('Time (s)')\n",
    "fig.tight_layout()"
   ]
  },
  {
   "cell_type": "markdown",
   "metadata": {},
   "source": [
    "As shown in the latter figure, the time to setup and and close the experiment is approximately 0.4 sec. In case of small array sizes, the difference between inserting values of data as arrays and inserting them row-by-row is relatively unimportant. At larger array sizes, i.e. above 10000 points, the cost of writing data as individual datapoints starts to become important.\n"
   ]
  },
  {
   "cell_type": "markdown",
   "metadata": {},
   "source": [
    "### Case2: Long experiment time "
   ]
  },
  {
   "cell_type": "code",
   "execution_count": 7,
   "metadata": {
    "execution": {
     "iopub.execute_input": "2020-10-08T12:50:17.653581Z",
     "iopub.status.busy": "2020-10-08T12:50:17.652461Z",
     "iopub.status.idle": "2020-10-08T12:51:21.175410Z",
     "shell.execute_reply": "2020-10-08T12:51:21.174739Z"
    }
   },
   "outputs": [
    {
     "name": "stdout",
     "output_type": "stream",
     "text": [
      "Starting experimental run with id: 15. \n",
      "Starting experimental run with id: 16. \n",
      "Starting experimental run with id: 17. \n"
     ]
    },
    {
     "name": "stdout",
     "output_type": "stream",
     "text": [
      "Starting experimental run with id: 18. \n",
      "Starting experimental run with id: 19. \n"
     ]
    },
    {
     "name": "stdout",
     "output_type": "stream",
     "text": [
      "Starting experimental run with id: 20. \n"
     ]
    },
    {
     "name": "stdout",
     "output_type": "stream",
     "text": [
      "Starting experimental run with id: 21. \n"
     ]
    },
    {
     "name": "stdout",
     "output_type": "stream",
     "text": [
      "Starting experimental run with id: 22. \n"
     ]
    },
    {
     "name": "stdout",
     "output_type": "stream",
     "text": [
      "Starting experimental run with id: 23. \n"
     ]
    },
    {
     "name": "stdout",
     "output_type": "stream",
     "text": [
      "Starting experimental run with id: 24. \n"
     ]
    },
    {
     "name": "stdout",
     "output_type": "stream",
     "text": [
      "Starting experimental run with id: 25. \n"
     ]
    },
    {
     "name": "stdout",
     "output_type": "stream",
     "text": [
      "Starting experimental run with id: 26. \n"
     ]
    },
    {
     "name": "stdout",
     "output_type": "stream",
     "text": [
      "Starting experimental run with id: 27. \n"
     ]
    },
    {
     "name": "stdout",
     "output_type": "stream",
     "text": [
      "Starting experimental run with id: 28. \n"
     ]
    }
   ],
   "source": [
    "sizes = [1,500,1000,2000,3000,4000,5000]\n",
    "nreps = 100\n",
    "t_numeric = []\n",
    "t_numeric_add = []\n",
    "t_numeric_run_ids = []\n",
    "t_array = []\n",
    "t_array_add = []\n",
    "t_array_run_ids = []\n",
    "for size in sizes:\n",
    "    tn, tna, run_id_n =  insert_data('numeric', size, nreps=nreps)\n",
    "    t_numeric.append(tn)\n",
    "    t_numeric_add.append(tna)\n",
    "    t_numeric_run_ids.append(run_id_n)\n",
    "\n",
    "    ta, taa, run_id_a =  insert_data('array', size, nreps=nreps)\n",
    "    t_array.append(ta)\n",
    "    t_array_add.append(taa)\n",
    "    t_array_run_ids.append(run_id_a)"
   ]
  },
  {
   "cell_type": "code",
   "execution_count": 8,
   "metadata": {
    "execution": {
     "iopub.execute_input": "2020-10-08T12:51:21.198688Z",
     "iopub.status.busy": "2020-10-08T12:51:21.196736Z",
     "iopub.status.idle": "2020-10-08T12:51:21.426488Z",
     "shell.execute_reply": "2020-10-08T12:51:21.425810Z"
    },
    "scrolled": true
   },
   "outputs": [
    {
     "data": {
      "image/png": "[encoded data removed]",
      "text/plain": [
       "<Figure size 432x288 with 1 Axes>"
      ]
     },
     "metadata": {
      "needs_background": "light"
     },
     "output_type": "display_data"
    }
   ],
   "source": [
    "fig, ax = plt.subplots(1,1)\n",
    "ax.plot(sizes, t_numeric, 'o-', label='Inserting row-by-row')\n",
    "ax.plot(sizes, t_numeric_add, 'o-', label='Inserting row-by-row: add_result only')\n",
    "ax.plot(sizes, t_array, 'd-', label='Inserting as binary blob')\n",
    "ax.plot(sizes, t_array_add, 'd-', label='Inserting as binary blob: add_result only')\n",
    "ax.legend()\n",
    "ax.set_xlabel('Array length')\n",
    "ax.set_ylabel('Time (s)')\n",
    "fig.tight_layout()"
   ]
  },
  {
   "cell_type": "markdown",
   "metadata": {},
   "source": [
    "However, as we increase the length of the experiment, as seen here by repeating the insertion 100 times, we see a big difference between inserting values of the data row-by-row and inserting it as a binary blob."
   ]
  },
  {
   "cell_type": "markdown",
   "metadata": {},
   "source": [
    "## Loading the data "
   ]
  },
  {
   "cell_type": "code",
   "execution_count": 9,
   "metadata": {
    "execution": {
     "iopub.execute_input": "2020-10-08T12:51:21.431561Z",
     "iopub.status.busy": "2020-10-08T12:51:21.430728Z",
     "iopub.status.idle": "2020-10-08T12:51:21.435260Z",
     "shell.execute_reply": "2020-10-08T12:51:21.434422Z"
    }
   },
   "outputs": [],
   "source": [
    "from qcodes.dataset.data_set import load_by_id\n",
    "from qcodes.dataset.data_export import get_data_by_id"
   ]
  },
  {
   "cell_type": "markdown",
   "metadata": {},
   "source": [
    "As usual you can load the data by using the ``load_by_id`` function but you will notice that the different storage methods\n",
    "are reflected in shape of the data as it is retrieved. "
   ]
  },
  {
   "cell_type": "code",
   "execution_count": 10,
   "metadata": {
    "execution": {
     "iopub.execute_input": "2020-10-08T12:51:21.439312Z",
     "iopub.status.busy": "2020-10-08T12:51:21.438668Z",
     "iopub.status.idle": "2020-10-08T12:51:21.443057Z",
     "shell.execute_reply": "2020-10-08T12:51:21.443557Z"
    }
   },
   "outputs": [],
   "source": [
    "run_id_n = t_numeric_run_ids[0]\n",
    "run_id_a = t_array_run_ids[0]"
   ]
  },
  {
   "cell_type": "code",
   "execution_count": 11,
   "metadata": {
    "execution": {
     "iopub.execute_input": "2020-10-08T12:51:21.451138Z",
     "iopub.status.busy": "2020-10-08T12:51:21.450509Z",
     "iopub.status.idle": "2020-10-08T12:51:21.468723Z",
     "shell.execute_reply": "2020-10-08T12:51:21.468103Z"
    },
    "scrolled": true
   },
   "outputs": [
    {
     "data": {
      "text/plain": [
       "{'x1': {'x1': array([0.80249141, 0.80249141, 0.80677967, 0.80677967, 0.76884556,\n",
       "         0.76884556, 0.01754818, 0.01754818, 0.68401551, 0.68401551,\n",
       "         0.82209125, 0.82209125, 0.0217325 , 0.0217325 , 0.75868186,\n",
       "         0.75868186, 0.3855624 , 0.3855624 , 0.71703956, 0.71703956,\n",
       "         0.63889373, 0.63889373, 0.88576277, 0.88576277, 0.1233566 ,\n",
       "         0.1233566 , 0.25826308, 0.25826308, 0.73758985, 0.73758985,\n",
       "         0.72971055, 0.72971055, 0.2774516 , 0.2774516 , 0.81441334,\n",
       "         0.81441334, 0.21785292, 0.21785292, 0.93295251, 0.93295251,\n",
       "         0.28744963, 0.28744963, 0.45410408, 0.45410408, 0.09532886,\n",
       "         0.09532886, 0.01420068, 0.01420068, 0.16713525, 0.16713525,\n",
       "         0.86088509, 0.86088509, 0.44383054, 0.44383054, 0.83914217,\n",
       "         0.83914217, 0.49712947, 0.49712947, 0.653583  , 0.653583  ,\n",
       "         0.843913  , 0.843913  , 0.5145746 , 0.5145746 , 0.91054193,\n",
       "         0.91054193, 0.15502386, 0.15502386, 0.95177649, 0.95177649,\n",
       "         0.68648715, 0.68648715, 0.99667386, 0.99667386, 0.99766863,\n",
       "         0.99766863, 0.7623211 , 0.7623211 , 0.54102748, 0.54102748,\n",
       "         0.27350585, 0.27350585, 0.53789878, 0.53789878, 0.27124776,\n",
       "         0.27124776, 0.430026  , 0.430026  , 0.26613518, 0.26613518,\n",
       "         0.68487117, 0.68487117, 0.37317895, 0.37317895, 0.14639647,\n",
       "         0.14639647, 0.60394331, 0.60394331, 0.4826996 , 0.4826996 ,\n",
       "         0.63388361, 0.63388361, 0.2956961 , 0.2956961 , 0.15544346,\n",
       "         0.15544346, 0.71234217, 0.71234217, 0.51713965, 0.51713965,\n",
       "         0.9755045 , 0.9755045 , 0.03797842, 0.03797842, 0.59796474,\n",
       "         0.59796474, 0.47643887, 0.47643887, 0.76084343, 0.76084343,\n",
       "         0.22496436, 0.22496436, 0.34780214, 0.34780214, 0.30549091,\n",
       "         0.30549091, 0.97047432, 0.97047432, 0.48754469, 0.48754469,\n",
       "         0.84704399, 0.84704399, 0.86896097, 0.86896097, 0.15104778,\n",
       "         0.15104778, 0.79956647, 0.79956647, 0.50576827, 0.50576827,\n",
       "         0.11582824, 0.11582824, 0.35278975, 0.35278975, 0.87807233,\n",
       "         0.87807233, 0.37431499, 0.37431499, 0.35178295, 0.35178295,\n",
       "         0.27951955, 0.27951955, 0.15573023, 0.15573023, 0.92294478,\n",
       "         0.92294478, 0.43265416, 0.43265416, 0.58702514, 0.58702514,\n",
       "         0.58512463, 0.58512463, 0.06644872, 0.06644872, 0.49679113,\n",
       "         0.49679113, 0.9758814 , 0.9758814 , 0.65770179, 0.65770179,\n",
       "         0.02214337, 0.02214337, 0.68619329, 0.68619329, 0.19195559,\n",
       "         0.19195559, 0.13073395, 0.13073395, 0.21905131, 0.21905131,\n",
       "         0.75822215, 0.75822215, 0.81828979, 0.81828979, 0.70800004,\n",
       "         0.70800004, 0.04088227, 0.04088227, 0.63954548, 0.63954548,\n",
       "         0.64657341, 0.64657341, 0.68594034, 0.68594034, 0.02543514,\n",
       "         0.02543514, 0.56287542, 0.56287542, 0.27920152, 0.27920152])}}"
      ]
     },
     "execution_count": 1,
     "metadata": {},
     "output_type": "execute_result"
    }
   ],
   "source": [
    "ds = load_by_id(run_id_n)\n",
    "ds.get_parameter_data('x1')"
   ]
  },
  {
   "cell_type": "markdown",
   "metadata": {},
   "source": [
    "And a dataset stored as binary arrays"
   ]
  },
  {
   "cell_type": "code",
   "execution_count": 12,
   "metadata": {
    "execution": {
     "iopub.execute_input": "2020-10-08T12:51:21.472548Z",
     "iopub.status.busy": "2020-10-08T12:51:21.471936Z",
     "iopub.status.idle": "2020-10-08T12:51:21.537806Z",
     "shell.execute_reply": "2020-10-08T12:51:21.537171Z"
    },
    "scrolled": true
   },
   "outputs": [
    {
     "data": {
      "text/plain": [
       "{'x1': {'x1': array([[0.24975256],\n",
       "         [0.24975256],\n",
       "         [0.99660857],\n",
       "         [0.99660857],\n",
       "         [0.28649254],\n",
       "         [0.28649254],\n",
       "         [0.48913569],\n",
       "         [0.48913569],\n",
       "         [0.85487198],\n",
       "         [0.85487198],\n",
       "         [0.94206451],\n",
       "         [0.94206451],\n",
       "         [0.98948042],\n",
       "         [0.98948042],\n",
       "         [0.67776436],\n",
       "         [0.67776436],\n",
       "         [0.6688825 ],\n",
       "         [0.6688825 ],\n",
       "         [0.74816121],\n",
       "         [0.74816121],\n",
       "         [0.0074293 ],\n",
       "         [0.0074293 ],\n",
       "         [0.52653259],\n",
       "         [0.52653259],\n",
       "         [0.45207407],\n",
       "         [0.45207407],\n",
       "         [0.9694414 ],\n",
       "         [0.9694414 ],\n",
       "         [0.1184439 ],\n",
       "         [0.1184439 ],\n",
       "         [0.12979115],\n",
       "         [0.12979115],\n",
       "         [0.78061541],\n",
       "         [0.78061541],\n",
       "         [0.48055128],\n",
       "         [0.48055128],\n",
       "         [0.42516096],\n",
       "         [0.42516096],\n",
       "         [0.44298818],\n",
       "         [0.44298818],\n",
       "         [0.34327211],\n",
       "         [0.34327211],\n",
       "         [0.91136556],\n",
       "         [0.91136556],\n",
       "         [0.62644026],\n",
       "         [0.62644026],\n",
       "         [0.29473751],\n",
       "         [0.29473751],\n",
       "         [0.58808476],\n",
       "         [0.58808476],\n",
       "         [0.19982236],\n",
       "         [0.19982236],\n",
       "         [0.71909069],\n",
       "         [0.71909069],\n",
       "         [0.1997224 ],\n",
       "         [0.1997224 ],\n",
       "         [0.34448029],\n",
       "         [0.34448029],\n",
       "         [0.5108835 ],\n",
       "         [0.5108835 ],\n",
       "         [0.23598843],\n",
       "         [0.23598843],\n",
       "         [0.17953534],\n",
       "         [0.17953534],\n",
       "         [0.48389522],\n",
       "         [0.48389522],\n",
       "         [0.77789227],\n",
       "         [0.77789227],\n",
       "         [0.68169301],\n",
       "         [0.68169301],\n",
       "         [0.48310649],\n",
       "         [0.48310649],\n",
       "         [0.62199745],\n",
       "         [0.62199745],\n",
       "         [0.42951004],\n",
       "         [0.42951004],\n",
       "         [0.36296021],\n",
       "         [0.36296021],\n",
       "         [0.95455769],\n",
       "         [0.95455769],\n",
       "         [0.17313583],\n",
       "         [0.17313583],\n",
       "         [0.22205983],\n",
       "         [0.22205983],\n",
       "         [0.6504246 ],\n",
       "         [0.6504246 ],\n",
       "         [0.54555004],\n",
       "         [0.54555004],\n",
       "         [0.65723367],\n",
       "         [0.65723367],\n",
       "         [0.86325248],\n",
       "         [0.86325248],\n",
       "         [0.52542832],\n",
       "         [0.52542832],\n",
       "         [0.27216611],\n",
       "         [0.27216611],\n",
       "         [0.68061553],\n",
       "         [0.68061553],\n",
       "         [0.92453354],\n",
       "         [0.92453354],\n",
       "         [0.02020159],\n",
       "         [0.02020159],\n",
       "         [0.65374346],\n",
       "         [0.65374346],\n",
       "         [0.57021129],\n",
       "         [0.57021129],\n",
       "         [0.89138978],\n",
       "         [0.89138978],\n",
       "         [0.36248365],\n",
       "         [0.36248365],\n",
       "         [0.69343806],\n",
       "         [0.69343806],\n",
       "         [0.45592282],\n",
       "         [0.45592282],\n",
       "         [0.61483565],\n",
       "         [0.61483565],\n",
       "         [0.56929113],\n",
       "         [0.56929113],\n",
       "         [0.58255372],\n",
       "         [0.58255372],\n",
       "         [0.96840529],\n",
       "         [0.96840529],\n",
       "         [0.73604017],\n",
       "         [0.73604017],\n",
       "         [0.42797254],\n",
       "         [0.42797254],\n",
       "         [0.87873695],\n",
       "         [0.87873695],\n",
       "         [0.28205117],\n",
       "         [0.28205117],\n",
       "         [0.9813141 ],\n",
       "         [0.9813141 ],\n",
       "         [0.59690421],\n",
       "         [0.59690421],\n",
       "         [0.9487913 ],\n",
       "         [0.9487913 ],\n",
       "         [0.28958747],\n",
       "         [0.28958747],\n",
       "         [0.0276179 ],\n",
       "         [0.0276179 ],\n",
       "         [0.49458514],\n",
       "         [0.49458514],\n",
       "         [0.39177243],\n",
       "         [0.39177243],\n",
       "         [0.18400434],\n",
       "         [0.18400434],\n",
       "         [0.18082244],\n",
       "         [0.18082244],\n",
       "         [0.36863497],\n",
       "         [0.36863497],\n",
       "         [0.92746343],\n",
       "         [0.92746343],\n",
       "         [0.72376065],\n",
       "         [0.72376065],\n",
       "         [0.06441717],\n",
       "         [0.06441717],\n",
       "         [0.14323305],\n",
       "         [0.14323305],\n",
       "         [0.61228704],\n",
       "         [0.61228704],\n",
       "         [0.80897066],\n",
       "         [0.80897066],\n",
       "         [0.26963548],\n",
       "         [0.26963548],\n",
       "         [0.5439169 ],\n",
       "         [0.5439169 ],\n",
       "         [0.70070967],\n",
       "         [0.70070967],\n",
       "         [0.95362235],\n",
       "         [0.95362235],\n",
       "         [0.90301519],\n",
       "         [0.90301519],\n",
       "         [0.80035959],\n",
       "         [0.80035959],\n",
       "         [0.1859362 ],\n",
       "         [0.1859362 ],\n",
       "         [0.32388568],\n",
       "         [0.32388568],\n",
       "         [0.2880113 ],\n",
       "         [0.2880113 ],\n",
       "         [0.42998297],\n",
       "         [0.42998297],\n",
       "         [0.10977794],\n",
       "         [0.10977794],\n",
       "         [0.37164392],\n",
       "         [0.37164392],\n",
       "         [0.01193409],\n",
       "         [0.01193409],\n",
       "         [0.50180687],\n",
       "         [0.50180687],\n",
       "         [0.65146768],\n",
       "         [0.65146768],\n",
       "         [0.10738341],\n",
       "         [0.10738341],\n",
       "         [0.61965611],\n",
       "         [0.61965611],\n",
       "         [0.77302448],\n",
       "         [0.77302448],\n",
       "         [0.70381202],\n",
       "         [0.70381202]])}}"
      ]
     },
     "execution_count": 1,
     "metadata": {},
     "output_type": "execute_result"
    }
   ],
   "source": [
    "ds = load_by_id(run_id_a)\n",
    "ds.get_parameter_data('x1')"
   ]
  },
  {
   "cell_type": "code",
   "execution_count": null,
   "metadata": {},
   "outputs": [],
   "source": []
  }
 ],
 "metadata": {
  "kernelspec": {
   "display_name": "Python 3",
   "language": "python",
   "name": "python3"
  },
  "language_info": {
   "codemirror_mode": {
    "name": "ipython",
    "version": 3
   },
   "file_extension": ".py",
   "mimetype": "text/x-python",
   "name": "python",
   "nbconvert_exporter": "python",
   "pygments_lexer": "ipython3",
   "version": "3.7.7"
  },
  "nbsphinx": {
   "timeout": 600
  },
  "toc": {
   "base_numbering": 1,
   "nav_menu": {},
   "number_sections": true,
   "sideBar": true,
   "skip_h1_title": false,
   "title_cell": "Table of Contents",
   "title_sidebar": "Contents",
   "toc_cell": false,
   "toc_position": {},
   "toc_section_display": true,
   "toc_window_display": false
  },
  "varInspector": {
   "cols": {
    "lenName": 16,
    "lenType": 16,
    "lenVar": 40
   },
   "kernels_config": {
    "python": {
     "delete_cmd_postfix": "",
     "delete_cmd_prefix": "del ",
     "library": "var_list.py",
     "varRefreshCmd": "print(var_dic_list())"
    },
    "r": {
     "delete_cmd_postfix": ") ",
     "delete_cmd_prefix": "rm(",
     "library": "var_list.r",
     "varRefreshCmd": "cat(var_dic_list()) "
    }
   },
   "types_to_exclude": [
    "module",
    "function",
    "builtin_function_or_method",
    "instance",
    "_Feature"
   ],
   "window_display": false
  }
 },
 "nbformat": 4,
 "nbformat_minor": 2
}
