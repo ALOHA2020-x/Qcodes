{
 "cells": [
  {
   "cell_type": "markdown",
   "metadata": {},
   "source": [
    "# DataSet Performance\n",
    "\n",
    "This notebook shows the trade-off between inserting data into a database row-by-row and as binary blobs. Inserting the data row-by-row means that we have direct access to all the data and may perform queries directly on the values of the data. On the other hand, as we shall see, this is much slower than inserting the data directly as binary blobs."
   ]
  },
  {
   "cell_type": "markdown",
   "metadata": {},
   "source": [
    "First, we choose a new location for the database to ensure that we don't add a bunch of benchmarking data to the default one."
   ]
  },
  {
   "cell_type": "code",
   "execution_count": 1,
   "metadata": {
    "execution": {
     "iopub.execute_input": "2020-11-24T07:54:00.800212Z",
     "iopub.status.busy": "2020-11-24T07:54:00.799308Z",
     "iopub.status.idle": "2020-11-24T07:54:01.810176Z",
     "shell.execute_reply": "2020-11-24T07:54:01.810822Z"
    }
   },
   "outputs": [
    {
     "name": "stdout",
     "output_type": "stream",
     "text": [
      "Logging hadn't been started.\n",
      "Activating auto-logging. Current session state plus future input saved.\n",
      "Filename       : /home/vsts/.qcodes/logs/command_history.log\n",
      "Mode           : append\n",
      "Output logging : True\n",
      "Raw input log  : False\n",
      "Timestamping   : True\n",
      "State          : active\n"
     ]
    },
    {
     "name": "stdout",
     "output_type": "stream",
     "text": [
      "Qcodes Logfile : /home/vsts/.qcodes/logs/201124-14334-qcodes.log\n"
     ]
    }
   ],
   "source": [
    "import os\n",
    "cwd = os.getcwd()\n",
    "import qcodes as qc\n",
    "qc.config[\"core\"][\"db_location\"] = os.path.join(cwd, 'testing.db')\n"
   ]
  },
  {
   "cell_type": "code",
   "execution_count": 2,
   "metadata": {
    "execution": {
     "iopub.execute_input": "2020-11-24T07:54:01.818463Z",
     "iopub.status.busy": "2020-11-24T07:54:01.817212Z",
     "iopub.status.idle": "2020-11-24T07:54:02.013371Z",
     "shell.execute_reply": "2020-11-24T07:54:02.012879Z"
    }
   },
   "outputs": [],
   "source": [
    "%matplotlib inline\n",
    "import time\n",
    "import matplotlib.pyplot as plt\n",
    "import numpy as np\n",
    "\n",
    "import qcodes as qc\n",
    "from qcodes.instrument.parameter import ManualParameter\n",
    "from qcodes.dataset.experiment_container import (Experiment,\n",
    "                                                 load_last_experiment,\n",
    "                                                 new_experiment)\n",
    "from qcodes.dataset.sqlite.database import initialise_database\n",
    "from qcodes import load_or_create_experiment\n",
    "from qcodes.dataset.measurements import Measurement"
   ]
  },
  {
   "cell_type": "code",
   "execution_count": 3,
   "metadata": {
    "execution": {
     "iopub.execute_input": "2020-11-24T07:54:02.017368Z",
     "iopub.status.busy": "2020-11-24T07:54:02.016600Z",
     "iopub.status.idle": "2020-11-24T07:54:02.127647Z",
     "shell.execute_reply": "2020-11-24T07:54:02.128182Z"
    }
   },
   "outputs": [
    {
     "name": "stdout",
     "output_type": "stream",
     "text": [
      "\r",
      "0it [00:00, ?it/s]"
     ]
    },
    {
     "name": "stdout",
     "output_type": "stream",
     "text": [
      "\r",
      "Upgrading database; v0 -> v1: : 0it [00:00, ?it/s]"
     ]
    },
    {
     "name": "stdout",
     "output_type": "stream",
     "text": [
      "\r",
      "Upgrading database; v0 -> v1: : 0it [00:00, ?it/s]"
     ]
    },
    {
     "name": "stdout",
     "output_type": "stream",
     "text": [
      "\n",
      "\r",
      "  0%|          | 0/1 [00:00<?, ?it/s]"
     ]
    },
    {
     "name": "stdout",
     "output_type": "stream",
     "text": [
      "\r",
      "Upgrading database; v1 -> v2:   0%|          | 0/1 [00:00<?, ?it/s]"
     ]
    },
    {
     "name": "stdout",
     "output_type": "stream",
     "text": [
      "\r",
      "Upgrading database; v1 -> v2: 100%|██████████| 1/1 [00:00<00:00, 348.08it/s]"
     ]
    },
    {
     "name": "stdout",
     "output_type": "stream",
     "text": [
      "\n",
      "\r",
      "0it [00:00, ?it/s]"
     ]
    },
    {
     "name": "stdout",
     "output_type": "stream",
     "text": [
      "\r",
      "Upgrading database; v2 -> v3: : 0it [00:00, ?it/s]"
     ]
    },
    {
     "name": "stdout",
     "output_type": "stream",
     "text": [
      "\r",
      "Upgrading database; v2 -> v3: : 0it [00:00, ?it/s]"
     ]
    },
    {
     "name": "stdout",
     "output_type": "stream",
     "text": [
      "\n",
      "\r",
      "0it [00:00, ?it/s]"
     ]
    },
    {
     "name": "stdout",
     "output_type": "stream",
     "text": [
      "\r",
      "Upgrading database; v3 -> v4: : 0it [00:00, ?it/s]"
     ]
    },
    {
     "name": "stdout",
     "output_type": "stream",
     "text": [
      "\r",
      "Upgrading database; v3 -> v4: : 0it [00:00, ?it/s]"
     ]
    },
    {
     "name": "stdout",
     "output_type": "stream",
     "text": [
      "\n",
      "\r",
      "  0%|          | 0/1 [00:00<?, ?it/s]"
     ]
    },
    {
     "name": "stdout",
     "output_type": "stream",
     "text": [
      "\r",
      "Upgrading database; v4 -> v5:   0%|          | 0/1 [00:00<?, ?it/s]"
     ]
    },
    {
     "name": "stdout",
     "output_type": "stream",
     "text": [
      "\r",
      "Upgrading database; v4 -> v5: 100%|██████████| 1/1 [00:00<00:00, 452.31it/s]"
     ]
    },
    {
     "name": "stdout",
     "output_type": "stream",
     "text": [
      "\n",
      "\r",
      "0it [00:00, ?it/s]"
     ]
    },
    {
     "name": "stdout",
     "output_type": "stream",
     "text": [
      "\r",
      "Upgrading database; v5 -> v6: : 0it [00:00, ?it/s]"
     ]
    },
    {
     "name": "stdout",
     "output_type": "stream",
     "text": [
      "\r",
      "Upgrading database; v5 -> v6: : 0it [00:00, ?it/s]"
     ]
    },
    {
     "name": "stdout",
     "output_type": "stream",
     "text": [
      "\n",
      "\r",
      "  0%|          | 0/1 [00:00<?, ?it/s]"
     ]
    },
    {
     "name": "stdout",
     "output_type": "stream",
     "text": [
      "\r",
      "Upgrading database; v6 -> v7:   0%|          | 0/1 [00:00<?, ?it/s]"
     ]
    },
    {
     "name": "stdout",
     "output_type": "stream",
     "text": [
      "\r",
      "Upgrading database; v6 -> v7: 100%|██████████| 1/1 [00:00<00:00, 287.79it/s]"
     ]
    },
    {
     "name": "stdout",
     "output_type": "stream",
     "text": [
      "\n",
      "\r",
      "  0%|          | 0/1 [00:00<?, ?it/s]"
     ]
    },
    {
     "name": "stdout",
     "output_type": "stream",
     "text": [
      "\r",
      "Upgrading database; v7 -> v8:   0%|          | 0/1 [00:00<?, ?it/s]"
     ]
    },
    {
     "name": "stdout",
     "output_type": "stream",
     "text": [
      "\r",
      "Upgrading database; v7 -> v8: 100%|██████████| 1/1 [00:00<00:00, 854.41it/s]"
     ]
    },
    {
     "name": "stdout",
     "output_type": "stream",
     "text": [
      "\n",
      "\r",
      "  0%|          | 0/1 [00:00<?, ?it/s]"
     ]
    },
    {
     "name": "stdout",
     "output_type": "stream",
     "text": [
      "\r",
      "Upgrading database; v8 -> v9:   0%|          | 0/1 [00:00<?, ?it/s]"
     ]
    },
    {
     "name": "stdout",
     "output_type": "stream",
     "text": [
      "\r",
      "Upgrading database; v8 -> v9: 100%|██████████| 1/1 [00:00<00:00, 649.88it/s]"
     ]
    },
    {
     "name": "stdout",
     "output_type": "stream",
     "text": [
      "\n"
     ]
    }
   ],
   "source": [
    "initialise_database()\n",
    "exp = load_or_create_experiment(experiment_name='tutorial_exp', sample_name=\"no sample\")"
   ]
  },
  {
   "cell_type": "markdown",
   "metadata": {},
   "source": [
    "Here, we define a simple function to benchmark the time it takes to insert n points with either numeric or array data type.\n",
    "We will compare both the time used to call ``add_result`` and the time used for the full measurement."
   ]
  },
  {
   "cell_type": "code",
   "execution_count": 4,
   "metadata": {
    "execution": {
     "iopub.execute_input": "2020-11-24T07:54:02.137128Z",
     "iopub.status.busy": "2020-11-24T07:54:02.136557Z",
     "iopub.status.idle": "2020-11-24T07:54:02.140458Z",
     "shell.execute_reply": "2020-11-24T07:54:02.139693Z"
    }
   },
   "outputs": [],
   "source": [
    "def insert_data(paramtype, npoints, nreps=1):\n",
    "\n",
    "    meas = Measurement(exp=exp)\n",
    "\n",
    "    x1 = ManualParameter('x1')\n",
    "    x2 = ManualParameter('x2')\n",
    "    x3 = ManualParameter('x3')\n",
    "    y1 = ManualParameter('y1')\n",
    "    y2 = ManualParameter('y2')\n",
    "\n",
    "    meas.register_parameter(x1, paramtype=paramtype)\n",
    "    meas.register_parameter(x2, paramtype=paramtype)\n",
    "    meas.register_parameter(x3, paramtype=paramtype)\n",
    "    meas.register_parameter(y1, setpoints=[x1, x2, x3],\n",
    "                            paramtype=paramtype)\n",
    "    meas.register_parameter(y2, setpoints=[x1, x2, x3],\n",
    "                            paramtype=paramtype)\n",
    "    start = time.perf_counter()\n",
    "    with meas.run() as datasaver:\n",
    "        start_adding = time.perf_counter()\n",
    "        for i in range(nreps):\n",
    "            datasaver.add_result((x1, np.random.rand(npoints)),\n",
    "                                 (x2, np.random.rand(npoints)),\n",
    "                                 (x3, np.random.rand(npoints)),\n",
    "                                 (y1, np.random.rand(npoints)),\n",
    "                                 (y2, np.random.rand(npoints)))\n",
    "        stop_adding = time.perf_counter()\n",
    "        run_id = datasaver.run_id\n",
    "    stop = time.perf_counter()\n",
    "    tot_time = stop - start\n",
    "    add_time = stop_adding - start_adding\n",
    "    return tot_time, add_time, run_id"
   ]
  },
  {
   "cell_type": "markdown",
   "metadata": {},
   "source": [
    "## Comparison between numeric/array data and binary blob"
   ]
  },
  {
   "cell_type": "markdown",
   "metadata": {},
   "source": [
    "### Case1: Short experiment time"
   ]
  },
  {
   "cell_type": "code",
   "execution_count": 5,
   "metadata": {
    "execution": {
     "iopub.execute_input": "2020-11-24T07:54:02.146894Z",
     "iopub.status.busy": "2020-11-24T07:54:02.145800Z",
     "iopub.status.idle": "2020-11-24T07:54:02.957339Z",
     "shell.execute_reply": "2020-11-24T07:54:02.958076Z"
    }
   },
   "outputs": [
    {
     "name": "stdout",
     "output_type": "stream",
     "text": [
      "Starting experimental run with id: 1. \n",
      "Starting experimental run with id: 2. \n",
      "Starting experimental run with id: 3. \n",
      "Starting experimental run with id: 4. \n"
     ]
    },
    {
     "name": "stdout",
     "output_type": "stream",
     "text": [
      "Starting experimental run with id: 5. \n"
     ]
    },
    {
     "name": "stdout",
     "output_type": "stream",
     "text": [
      "Starting experimental run with id: 6. \n"
     ]
    },
    {
     "name": "stdout",
     "output_type": "stream",
     "text": [
      "Starting experimental run with id: 7. \n"
     ]
    },
    {
     "name": "stdout",
     "output_type": "stream",
     "text": [
      "Starting experimental run with id: 8. \n",
      "Starting experimental run with id: 9. \n"
     ]
    },
    {
     "name": "stdout",
     "output_type": "stream",
     "text": [
      "Starting experimental run with id: 10. \n",
      "Starting experimental run with id: 11. \n"
     ]
    },
    {
     "name": "stdout",
     "output_type": "stream",
     "text": [
      "Starting experimental run with id: 12. \n",
      "Starting experimental run with id: 13. \n"
     ]
    },
    {
     "name": "stdout",
     "output_type": "stream",
     "text": [
      "Starting experimental run with id: 14. \n"
     ]
    }
   ],
   "source": [
    "sizes = [1,500,1000,2000,3000,4000,5000]\n",
    "t_numeric = []\n",
    "t_numeric_add = []\n",
    "t_array = []\n",
    "t_array_add = []\n",
    "for size in sizes:\n",
    "    tn, tna, run_id_n =  insert_data('numeric', size)\n",
    "    t_numeric.append(tn)\n",
    "    t_numeric_add.append(tna)\n",
    "\n",
    "    ta, taa, run_id_a =  insert_data('array', size)\n",
    "    t_array.append(ta)\n",
    "    t_array_add.append(taa)"
   ]
  },
  {
   "cell_type": "code",
   "execution_count": 6,
   "metadata": {
    "execution": {
     "iopub.execute_input": "2020-11-24T07:54:02.976562Z",
     "iopub.status.busy": "2020-11-24T07:54:02.962344Z",
     "iopub.status.idle": "2020-11-24T07:54:03.215599Z",
     "shell.execute_reply": "2020-11-24T07:54:03.216386Z"
    }
   },
   "outputs": [
    {
     "data": {
      "image/png": "[encoded data removed]",
      "text/plain": [
       "<Figure size 432x288 with 1 Axes>"
      ]
     },
     "metadata": {
      "needs_background": "light"
     },
     "output_type": "display_data"
    }
   ],
   "source": [
    "fig, ax = plt.subplots(1,1)\n",
    "ax.plot(sizes, t_numeric, 'o-', label='Inserting row-by-row')\n",
    "ax.plot(sizes, t_numeric_add, 'o-', label='Inserting row-by-row: add_result only')\n",
    "ax.plot(sizes, t_array, 'd-', label='Inserting as binary blob')\n",
    "ax.plot(sizes, t_array_add, 'd-', label='Inserting as binary blob: add_result only')\n",
    "ax.legend()\n",
    "ax.set_xlabel('Array length')\n",
    "ax.set_ylabel('Time (s)')\n",
    "fig.tight_layout()"
   ]
  },
  {
   "cell_type": "markdown",
   "metadata": {},
   "source": [
    "As shown in the latter figure, the time to setup and and close the experiment is approximately 0.4 sec. In case of small array sizes, the difference between inserting values of data as arrays and inserting them row-by-row is relatively unimportant. At larger array sizes, i.e. above 10000 points, the cost of writing data as individual datapoints starts to become important.\n"
   ]
  },
  {
   "cell_type": "markdown",
   "metadata": {},
   "source": [
    "### Case2: Long experiment time "
   ]
  },
  {
   "cell_type": "code",
   "execution_count": 7,
   "metadata": {
    "execution": {
     "iopub.execute_input": "2020-11-24T07:54:03.223304Z",
     "iopub.status.busy": "2020-11-24T07:54:03.221200Z",
     "iopub.status.idle": "2020-11-24T07:55:00.975545Z",
     "shell.execute_reply": "2020-11-24T07:55:00.976032Z"
    }
   },
   "outputs": [
    {
     "name": "stdout",
     "output_type": "stream",
     "text": [
      "Starting experimental run with id: 15. \n",
      "Starting experimental run with id: 16. \n",
      "Starting experimental run with id: 17. \n"
     ]
    },
    {
     "name": "stdout",
     "output_type": "stream",
     "text": [
      "Starting experimental run with id: 18. \n",
      "Starting experimental run with id: 19. \n"
     ]
    },
    {
     "name": "stdout",
     "output_type": "stream",
     "text": [
      "Starting experimental run with id: 20. \n"
     ]
    },
    {
     "name": "stdout",
     "output_type": "stream",
     "text": [
      "Starting experimental run with id: 21. \n"
     ]
    },
    {
     "name": "stdout",
     "output_type": "stream",
     "text": [
      "Starting experimental run with id: 22. \n"
     ]
    },
    {
     "name": "stdout",
     "output_type": "stream",
     "text": [
      "Starting experimental run with id: 23. \n"
     ]
    },
    {
     "name": "stdout",
     "output_type": "stream",
     "text": [
      "Starting experimental run with id: 24. \n"
     ]
    },
    {
     "name": "stdout",
     "output_type": "stream",
     "text": [
      "Starting experimental run with id: 25. \n"
     ]
    },
    {
     "name": "stdout",
     "output_type": "stream",
     "text": [
      "Starting experimental run with id: 26. \n"
     ]
    },
    {
     "name": "stdout",
     "output_type": "stream",
     "text": [
      "Starting experimental run with id: 27. \n"
     ]
    },
    {
     "name": "stdout",
     "output_type": "stream",
     "text": [
      "Starting experimental run with id: 28. \n"
     ]
    }
   ],
   "source": [
    "sizes = [1,500,1000,2000,3000,4000,5000]\n",
    "nreps = 100\n",
    "t_numeric = []\n",
    "t_numeric_add = []\n",
    "t_numeric_run_ids = []\n",
    "t_array = []\n",
    "t_array_add = []\n",
    "t_array_run_ids = []\n",
    "for size in sizes:\n",
    "    tn, tna, run_id_n =  insert_data('numeric', size, nreps=nreps)\n",
    "    t_numeric.append(tn)\n",
    "    t_numeric_add.append(tna)\n",
    "    t_numeric_run_ids.append(run_id_n)\n",
    "\n",
    "    ta, taa, run_id_a =  insert_data('array', size, nreps=nreps)\n",
    "    t_array.append(ta)\n",
    "    t_array_add.append(taa)\n",
    "    t_array_run_ids.append(run_id_a)"
   ]
  },
  {
   "cell_type": "code",
   "execution_count": 8,
   "metadata": {
    "execution": {
     "iopub.execute_input": "2020-11-24T07:55:00.995549Z",
     "iopub.status.busy": "2020-11-24T07:55:00.994951Z",
     "iopub.status.idle": "2020-11-24T07:55:01.219128Z",
     "shell.execute_reply": "2020-11-24T07:55:01.218520Z"
    },
    "scrolled": true
   },
   "outputs": [
    {
     "data": {
      "image/png": "[encoded data removed]",
      "text/plain": [
       "<Figure size 432x288 with 1 Axes>"
      ]
     },
     "metadata": {
      "needs_background": "light"
     },
     "output_type": "display_data"
    }
   ],
   "source": [
    "fig, ax = plt.subplots(1,1)\n",
    "ax.plot(sizes, t_numeric, 'o-', label='Inserting row-by-row')\n",
    "ax.plot(sizes, t_numeric_add, 'o-', label='Inserting row-by-row: add_result only')\n",
    "ax.plot(sizes, t_array, 'd-', label='Inserting as binary blob')\n",
    "ax.plot(sizes, t_array_add, 'd-', label='Inserting as binary blob: add_result only')\n",
    "ax.legend()\n",
    "ax.set_xlabel('Array length')\n",
    "ax.set_ylabel('Time (s)')\n",
    "fig.tight_layout()"
   ]
  },
  {
   "cell_type": "markdown",
   "metadata": {},
   "source": [
    "However, as we increase the length of the experiment, as seen here by repeating the insertion 100 times, we see a big difference between inserting values of the data row-by-row and inserting it as a binary blob."
   ]
  },
  {
   "cell_type": "markdown",
   "metadata": {},
   "source": [
    "## Loading the data "
   ]
  },
  {
   "cell_type": "code",
   "execution_count": 9,
   "metadata": {
    "execution": {
     "iopub.execute_input": "2020-11-24T07:55:01.224227Z",
     "iopub.status.busy": "2020-11-24T07:55:01.223301Z",
     "iopub.status.idle": "2020-11-24T07:55:01.225931Z",
     "shell.execute_reply": "2020-11-24T07:55:01.226428Z"
    }
   },
   "outputs": [],
   "source": [
    "from qcodes.dataset.data_set import load_by_id\n",
    "from qcodes.dataset.data_export import get_data_by_id"
   ]
  },
  {
   "cell_type": "markdown",
   "metadata": {},
   "source": [
    "As usual you can load the data by using the ``load_by_id`` function but you will notice that the different storage methods\n",
    "are reflected in shape of the data as it is retrieved. "
   ]
  },
  {
   "cell_type": "code",
   "execution_count": 10,
   "metadata": {
    "execution": {
     "iopub.execute_input": "2020-11-24T07:55:01.231250Z",
     "iopub.status.busy": "2020-11-24T07:55:01.229946Z",
     "iopub.status.idle": "2020-11-24T07:55:01.231769Z",
     "shell.execute_reply": "2020-11-24T07:55:01.232343Z"
    }
   },
   "outputs": [],
   "source": [
    "run_id_n = t_numeric_run_ids[0]\n",
    "run_id_a = t_array_run_ids[0]"
   ]
  },
  {
   "cell_type": "code",
   "execution_count": 11,
   "metadata": {
    "execution": {
     "iopub.execute_input": "2020-11-24T07:55:01.236469Z",
     "iopub.status.busy": "2020-11-24T07:55:01.235847Z",
     "iopub.status.idle": "2020-11-24T07:55:01.245525Z",
     "shell.execute_reply": "2020-11-24T07:55:01.246151Z"
    },
    "scrolled": true
   },
   "outputs": [
    {
     "data": {
      "text/plain": [
       "{'x1': {'x1': array([0.06792985, 0.06792985, 0.59871995, 0.59871995, 0.23837295,\n",
       "         0.23837295, 0.43721562, 0.43721562, 0.81744452, 0.81744452,\n",
       "         0.41139787, 0.41139787, 0.95805181, 0.95805181, 0.21561226,\n",
       "         0.21561226, 0.09244577, 0.09244577, 0.94333405, 0.94333405,\n",
       "         0.95702699, 0.95702699, 0.91466403, 0.91466403, 0.18979839,\n",
       "         0.18979839, 0.03441103, 0.03441103, 0.81277307, 0.81277307,\n",
       "         0.1222711 , 0.1222711 , 0.56876696, 0.56876696, 0.21531851,\n",
       "         0.21531851, 0.61045505, 0.61045505, 0.7995606 , 0.7995606 ,\n",
       "         0.66285774, 0.66285774, 0.29677301, 0.29677301, 0.74246925,\n",
       "         0.74246925, 0.35912624, 0.35912624, 0.15859156, 0.15859156,\n",
       "         0.50946902, 0.50946902, 0.61504281, 0.61504281, 0.0763401 ,\n",
       "         0.0763401 , 0.01000897, 0.01000897, 0.10010727, 0.10010727,\n",
       "         0.01613147, 0.01613147, 0.4808317 , 0.4808317 , 0.52870668,\n",
       "         0.52870668, 0.35209661, 0.35209661, 0.11554342, 0.11554342,\n",
       "         0.77095827, 0.77095827, 0.95528544, 0.95528544, 0.60203347,\n",
       "         0.60203347, 0.25595447, 0.25595447, 0.68086471, 0.68086471,\n",
       "         0.49441153, 0.49441153, 0.38221137, 0.38221137, 0.76550247,\n",
       "         0.76550247, 0.36653514, 0.36653514, 0.05713792, 0.05713792,\n",
       "         0.10214049, 0.10214049, 0.97269024, 0.97269024, 0.59213715,\n",
       "         0.59213715, 0.58095399, 0.58095399, 0.65699118, 0.65699118,\n",
       "         0.75552235, 0.75552235, 0.58955376, 0.58955376, 0.58815586,\n",
       "         0.58815586, 0.07345408, 0.07345408, 0.58975173, 0.58975173,\n",
       "         0.31774752, 0.31774752, 0.52843846, 0.52843846, 0.63240633,\n",
       "         0.63240633, 0.19492059, 0.19492059, 0.92750156, 0.92750156,\n",
       "         0.83934638, 0.83934638, 0.63223492, 0.63223492, 0.57746173,\n",
       "         0.57746173, 0.11781404, 0.11781404, 0.37076713, 0.37076713,\n",
       "         0.24390675, 0.24390675, 0.10814944, 0.10814944, 0.91766612,\n",
       "         0.91766612, 0.63462844, 0.63462844, 0.69338252, 0.69338252,\n",
       "         0.02701052, 0.02701052, 0.84015921, 0.84015921, 0.27371834,\n",
       "         0.27371834, 0.63056246, 0.63056246, 0.6158569 , 0.6158569 ,\n",
       "         0.26465778, 0.26465778, 0.19133291, 0.19133291, 0.86556926,\n",
       "         0.86556926, 0.99421393, 0.99421393, 0.46989855, 0.46989855,\n",
       "         0.64977359, 0.64977359, 0.13223045, 0.13223045, 0.07960482,\n",
       "         0.07960482, 0.54420376, 0.54420376, 0.60881461, 0.60881461,\n",
       "         0.91364636, 0.91364636, 0.81245879, 0.81245879, 0.32761544,\n",
       "         0.32761544, 0.21577724, 0.21577724, 0.97719436, 0.97719436,\n",
       "         0.26511928, 0.26511928, 0.83530183, 0.83530183, 0.8375151 ,\n",
       "         0.8375151 , 0.24158732, 0.24158732, 0.86282564, 0.86282564,\n",
       "         0.06058131, 0.06058131, 0.74047949, 0.74047949, 0.6864758 ,\n",
       "         0.6864758 , 0.14408993, 0.14408993, 0.24977594, 0.24977594])}}"
      ]
     },
     "execution_count": 1,
     "metadata": {},
     "output_type": "execute_result"
    }
   ],
   "source": [
    "ds = load_by_id(run_id_n)\n",
    "ds.get_parameter_data('x1')"
   ]
  },
  {
   "cell_type": "markdown",
   "metadata": {},
   "source": [
    "And a dataset stored as binary arrays"
   ]
  },
  {
   "cell_type": "code",
   "execution_count": 12,
   "metadata": {
    "execution": {
     "iopub.execute_input": "2020-11-24T07:55:01.250242Z",
     "iopub.status.busy": "2020-11-24T07:55:01.249742Z",
     "iopub.status.idle": "2020-11-24T07:55:01.312377Z",
     "shell.execute_reply": "2020-11-24T07:55:01.311463Z"
    },
    "scrolled": true
   },
   "outputs": [
    {
     "data": {
      "text/plain": [
       "{'x1': {'x1': array([[0.87625069],\n",
       "         [0.87625069],\n",
       "         [0.17845324],\n",
       "         [0.17845324],\n",
       "         [0.5035086 ],\n",
       "         [0.5035086 ],\n",
       "         [0.15602031],\n",
       "         [0.15602031],\n",
       "         [0.85618425],\n",
       "         [0.85618425],\n",
       "         [0.08081132],\n",
       "         [0.08081132],\n",
       "         [0.65112755],\n",
       "         [0.65112755],\n",
       "         [0.07838938],\n",
       "         [0.07838938],\n",
       "         [0.48597909],\n",
       "         [0.48597909],\n",
       "         [0.99995243],\n",
       "         [0.99995243],\n",
       "         [0.85261791],\n",
       "         [0.85261791],\n",
       "         [0.26286587],\n",
       "         [0.26286587],\n",
       "         [0.42111555],\n",
       "         [0.42111555],\n",
       "         [0.69385326],\n",
       "         [0.69385326],\n",
       "         [0.96489866],\n",
       "         [0.96489866],\n",
       "         [0.71902394],\n",
       "         [0.71902394],\n",
       "         [0.28419936],\n",
       "         [0.28419936],\n",
       "         [0.70098464],\n",
       "         [0.70098464],\n",
       "         [0.12276245],\n",
       "         [0.12276245],\n",
       "         [0.53614065],\n",
       "         [0.53614065],\n",
       "         [0.35809883],\n",
       "         [0.35809883],\n",
       "         [0.10825381],\n",
       "         [0.10825381],\n",
       "         [0.78502552],\n",
       "         [0.78502552],\n",
       "         [0.81553385],\n",
       "         [0.81553385],\n",
       "         [0.79591147],\n",
       "         [0.79591147],\n",
       "         [0.24429976],\n",
       "         [0.24429976],\n",
       "         [0.77812705],\n",
       "         [0.77812705],\n",
       "         [0.93372104],\n",
       "         [0.93372104],\n",
       "         [0.19993812],\n",
       "         [0.19993812],\n",
       "         [0.60906807],\n",
       "         [0.60906807],\n",
       "         [0.55698869],\n",
       "         [0.55698869],\n",
       "         [0.47792562],\n",
       "         [0.47792562],\n",
       "         [0.23723666],\n",
       "         [0.23723666],\n",
       "         [0.95020471],\n",
       "         [0.95020471],\n",
       "         [0.24438661],\n",
       "         [0.24438661],\n",
       "         [0.7652903 ],\n",
       "         [0.7652903 ],\n",
       "         [0.92354592],\n",
       "         [0.92354592],\n",
       "         [0.76732038],\n",
       "         [0.76732038],\n",
       "         [0.67513929],\n",
       "         [0.67513929],\n",
       "         [0.57053198],\n",
       "         [0.57053198],\n",
       "         [0.99099136],\n",
       "         [0.99099136],\n",
       "         [0.61131704],\n",
       "         [0.61131704],\n",
       "         [0.05938722],\n",
       "         [0.05938722],\n",
       "         [0.33434382],\n",
       "         [0.33434382],\n",
       "         [0.03194345],\n",
       "         [0.03194345],\n",
       "         [0.81756489],\n",
       "         [0.81756489],\n",
       "         [0.65774658],\n",
       "         [0.65774658],\n",
       "         [0.77464234],\n",
       "         [0.77464234],\n",
       "         [0.6983211 ],\n",
       "         [0.6983211 ],\n",
       "         [0.053955  ],\n",
       "         [0.053955  ],\n",
       "         [0.94550228],\n",
       "         [0.94550228],\n",
       "         [0.21111342],\n",
       "         [0.21111342],\n",
       "         [0.81362911],\n",
       "         [0.81362911],\n",
       "         [0.94595051],\n",
       "         [0.94595051],\n",
       "         [0.04295064],\n",
       "         [0.04295064],\n",
       "         [0.89263277],\n",
       "         [0.89263277],\n",
       "         [0.55887743],\n",
       "         [0.55887743],\n",
       "         [0.80641118],\n",
       "         [0.80641118],\n",
       "         [0.61266345],\n",
       "         [0.61266345],\n",
       "         [0.73037305],\n",
       "         [0.73037305],\n",
       "         [0.31871975],\n",
       "         [0.31871975],\n",
       "         [0.23976362],\n",
       "         [0.23976362],\n",
       "         [0.0582352 ],\n",
       "         [0.0582352 ],\n",
       "         [0.30272693],\n",
       "         [0.30272693],\n",
       "         [0.93050894],\n",
       "         [0.93050894],\n",
       "         [0.39301148],\n",
       "         [0.39301148],\n",
       "         [0.45595886],\n",
       "         [0.45595886],\n",
       "         [0.25710477],\n",
       "         [0.25710477],\n",
       "         [0.79601757],\n",
       "         [0.79601757],\n",
       "         [0.54128381],\n",
       "         [0.54128381],\n",
       "         [0.76726002],\n",
       "         [0.76726002],\n",
       "         [0.07851746],\n",
       "         [0.07851746],\n",
       "         [0.80219072],\n",
       "         [0.80219072],\n",
       "         [0.92096982],\n",
       "         [0.92096982],\n",
       "         [0.42694934],\n",
       "         [0.42694934],\n",
       "         [0.43621114],\n",
       "         [0.43621114],\n",
       "         [0.38764247],\n",
       "         [0.38764247],\n",
       "         [0.52839649],\n",
       "         [0.52839649],\n",
       "         [0.12453366],\n",
       "         [0.12453366],\n",
       "         [0.19492786],\n",
       "         [0.19492786],\n",
       "         [0.88841661],\n",
       "         [0.88841661],\n",
       "         [0.83036802],\n",
       "         [0.83036802],\n",
       "         [0.50661741],\n",
       "         [0.50661741],\n",
       "         [0.65765994],\n",
       "         [0.65765994],\n",
       "         [0.75992605],\n",
       "         [0.75992605],\n",
       "         [0.10602691],\n",
       "         [0.10602691],\n",
       "         [0.08056503],\n",
       "         [0.08056503],\n",
       "         [0.47994254],\n",
       "         [0.47994254],\n",
       "         [0.89537168],\n",
       "         [0.89537168],\n",
       "         [0.24088854],\n",
       "         [0.24088854],\n",
       "         [0.29251589],\n",
       "         [0.29251589],\n",
       "         [0.39045706],\n",
       "         [0.39045706],\n",
       "         [0.31195079],\n",
       "         [0.31195079],\n",
       "         [0.0319075 ],\n",
       "         [0.0319075 ],\n",
       "         [0.64538923],\n",
       "         [0.64538923],\n",
       "         [0.92681498],\n",
       "         [0.92681498],\n",
       "         [0.23025823],\n",
       "         [0.23025823],\n",
       "         [0.36581877],\n",
       "         [0.36581877],\n",
       "         [0.37274777],\n",
       "         [0.37274777],\n",
       "         [0.21134824],\n",
       "         [0.21134824]])}}"
      ]
     },
     "execution_count": 1,
     "metadata": {},
     "output_type": "execute_result"
    }
   ],
   "source": [
    "ds = load_by_id(run_id_a)\n",
    "ds.get_parameter_data('x1')"
   ]
  },
  {
   "cell_type": "code",
   "execution_count": null,
   "metadata": {},
   "outputs": [],
   "source": []
  }
 ],
 "metadata": {
  "kernelspec": {
   "display_name": "Python 3",
   "language": "python",
   "name": "python3"
  },
  "language_info": {
   "codemirror_mode": {
    "name": "ipython",
    "version": 3
   },
   "file_extension": ".py",
   "mimetype": "text/x-python",
   "name": "python",
   "nbconvert_exporter": "python",
   "pygments_lexer": "ipython3",
   "version": "3.7.9"
  },
  "nbsphinx": {
   "timeout": 600
  },
  "toc": {
   "base_numbering": 1,
   "nav_menu": {},
   "number_sections": true,
   "sideBar": true,
   "skip_h1_title": false,
   "title_cell": "Table of Contents",
   "title_sidebar": "Contents",
   "toc_cell": false,
   "toc_position": {},
   "toc_section_display": true,
   "toc_window_display": false
  },
  "varInspector": {
   "cols": {
    "lenName": 16,
    "lenType": 16,
    "lenVar": 40
   },
   "kernels_config": {
    "python": {
     "delete_cmd_postfix": "",
     "delete_cmd_prefix": "del ",
     "library": "var_list.py",
     "varRefreshCmd": "print(var_dic_list())"
    },
    "r": {
     "delete_cmd_postfix": ") ",
     "delete_cmd_prefix": "rm(",
     "library": "var_list.r",
     "varRefreshCmd": "cat(var_dic_list()) "
    }
   },
   "types_to_exclude": [
    "module",
    "function",
    "builtin_function_or_method",
    "instance",
    "_Feature"
   ],
   "window_display": false
  }
 },
 "nbformat": 4,
 "nbformat_minor": 2
}
