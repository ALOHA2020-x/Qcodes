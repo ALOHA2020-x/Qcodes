{
 "cells": [
  {
   "cell_type": "markdown",
   "metadata": {},
   "source": [
    "# DataSet Performance\n",
    "\n",
    "This notebook shows the trade-off between inserting data into a database row-by-row and as binary blobs. Inserting the data row-by-row means that we have direct access to all the data and may perform queries directly on the values of the data. On the other hand, as we shall see, this is much slower than inserting the data directly as binary blobs."
   ]
  },
  {
   "cell_type": "markdown",
   "metadata": {},
   "source": [
    "First, we choose a new location for the database to ensure that we don't add a bunch of benchmarking data to the default one."
   ]
  },
  {
   "cell_type": "code",
   "execution_count": 1,
   "metadata": {
    "execution": {
     "iopub.execute_input": "2020-10-28T10:21:56.140820Z",
     "iopub.status.busy": "2020-10-28T10:21:56.139986Z",
     "iopub.status.idle": "2020-10-28T10:21:57.150936Z",
     "shell.execute_reply": "2020-10-28T10:21:57.150381Z"
    }
   },
   "outputs": [
    {
     "name": "stdout",
     "output_type": "stream",
     "text": [
      "Logging hadn't been started.\n",
      "Activating auto-logging. Current session state plus future input saved.\n",
      "Filename       : /home/vsts/.qcodes/logs/command_history.log\n",
      "Mode           : append\n",
      "Output logging : True\n",
      "Raw input log  : False\n",
      "Timestamping   : True\n",
      "State          : active\n"
     ]
    },
    {
     "name": "stdout",
     "output_type": "stream",
     "text": [
      "Qcodes Logfile : /home/vsts/.qcodes/logs/201028-14559-qcodes.log\n"
     ]
    }
   ],
   "source": [
    "import os\n",
    "cwd = os.getcwd()\n",
    "import qcodes as qc\n",
    "qc.config[\"core\"][\"db_location\"] = os.path.join(cwd, 'testing.db')\n"
   ]
  },
  {
   "cell_type": "code",
   "execution_count": 2,
   "metadata": {
    "execution": {
     "iopub.execute_input": "2020-10-28T10:21:57.157386Z",
     "iopub.status.busy": "2020-10-28T10:21:57.156056Z",
     "iopub.status.idle": "2020-10-28T10:21:57.319968Z",
     "shell.execute_reply": "2020-10-28T10:21:57.319154Z"
    }
   },
   "outputs": [],
   "source": [
    "%matplotlib inline\n",
    "import time\n",
    "import matplotlib.pyplot as plt\n",
    "import numpy as np\n",
    "\n",
    "import qcodes as qc\n",
    "from qcodes.instrument.parameter import ManualParameter\n",
    "from qcodes.dataset.experiment_container import (Experiment,\n",
    "                                                 load_last_experiment,\n",
    "                                                 new_experiment)\n",
    "from qcodes.dataset.sqlite.database import initialise_database\n",
    "from qcodes import load_or_create_experiment\n",
    "from qcodes.dataset.measurements import Measurement"
   ]
  },
  {
   "cell_type": "code",
   "execution_count": 3,
   "metadata": {
    "execution": {
     "iopub.execute_input": "2020-10-28T10:21:57.324419Z",
     "iopub.status.busy": "2020-10-28T10:21:57.323442Z",
     "iopub.status.idle": "2020-10-28T10:21:57.425899Z",
     "shell.execute_reply": "2020-10-28T10:21:57.425223Z"
    }
   },
   "outputs": [
    {
     "name": "stdout",
     "output_type": "stream",
     "text": [
      "\r",
      "0it [00:00, ?it/s]"
     ]
    },
    {
     "name": "stdout",
     "output_type": "stream",
     "text": [
      "\r",
      "Upgrading database; v0 -> v1: : 0it [00:00, ?it/s]"
     ]
    },
    {
     "name": "stdout",
     "output_type": "stream",
     "text": [
      "\r",
      "Upgrading database; v0 -> v1: : 0it [00:00, ?it/s]"
     ]
    },
    {
     "name": "stdout",
     "output_type": "stream",
     "text": [
      "\n",
      "\r",
      "  0%|          | 0/1 [00:00<?, ?it/s]"
     ]
    },
    {
     "name": "stdout",
     "output_type": "stream",
     "text": [
      "\r",
      "Upgrading database; v1 -> v2:   0%|          | 0/1 [00:00<?, ?it/s]"
     ]
    },
    {
     "name": "stdout",
     "output_type": "stream",
     "text": [
      "\r",
      "Upgrading database; v1 -> v2: 100%|██████████| 1/1 [00:00<00:00, 531.26it/s]"
     ]
    },
    {
     "name": "stdout",
     "output_type": "stream",
     "text": [
      "\n",
      "\r",
      "0it [00:00, ?it/s]"
     ]
    },
    {
     "name": "stdout",
     "output_type": "stream",
     "text": [
      "\r",
      "Upgrading database; v2 -> v3: : 0it [00:00, ?it/s]"
     ]
    },
    {
     "name": "stdout",
     "output_type": "stream",
     "text": [
      "\r",
      "Upgrading database; v2 -> v3: : 0it [00:00, ?it/s]"
     ]
    },
    {
     "name": "stdout",
     "output_type": "stream",
     "text": [
      "\n",
      "\r",
      "0it [00:00, ?it/s]"
     ]
    },
    {
     "name": "stdout",
     "output_type": "stream",
     "text": [
      "\r",
      "Upgrading database; v3 -> v4: : 0it [00:00, ?it/s]"
     ]
    },
    {
     "name": "stdout",
     "output_type": "stream",
     "text": [
      "\r",
      "Upgrading database; v3 -> v4: : 0it [00:00, ?it/s]"
     ]
    },
    {
     "name": "stdout",
     "output_type": "stream",
     "text": [
      "\n",
      "\r",
      "  0%|          | 0/1 [00:00<?, ?it/s]"
     ]
    },
    {
     "name": "stdout",
     "output_type": "stream",
     "text": [
      "\r",
      "Upgrading database; v4 -> v5:   0%|          | 0/1 [00:00<?, ?it/s]"
     ]
    },
    {
     "name": "stdout",
     "output_type": "stream",
     "text": [
      "\r",
      "Upgrading database; v4 -> v5: 100%|██████████| 1/1 [00:00<00:00, 427.42it/s]"
     ]
    },
    {
     "name": "stdout",
     "output_type": "stream",
     "text": [
      "\n",
      "\r",
      "0it [00:00, ?it/s]"
     ]
    },
    {
     "name": "stdout",
     "output_type": "stream",
     "text": [
      "\r",
      "Upgrading database; v5 -> v6: : 0it [00:00, ?it/s]"
     ]
    },
    {
     "name": "stdout",
     "output_type": "stream",
     "text": [
      "\r",
      "Upgrading database; v5 -> v6: : 0it [00:00, ?it/s]"
     ]
    },
    {
     "name": "stdout",
     "output_type": "stream",
     "text": [
      "\n",
      "\r",
      "  0%|          | 0/1 [00:00<?, ?it/s]"
     ]
    },
    {
     "name": "stdout",
     "output_type": "stream",
     "text": [
      "\r",
      "Upgrading database; v6 -> v7:   0%|          | 0/1 [00:00<?, ?it/s]"
     ]
    },
    {
     "name": "stdout",
     "output_type": "stream",
     "text": [
      "\r",
      "Upgrading database; v6 -> v7: 100%|██████████| 1/1 [00:00<00:00, 204.97it/s]"
     ]
    },
    {
     "name": "stdout",
     "output_type": "stream",
     "text": [
      "\n",
      "\r",
      "  0%|          | 0/1 [00:00<?, ?it/s]"
     ]
    },
    {
     "name": "stdout",
     "output_type": "stream",
     "text": [
      "\r",
      "Upgrading database; v7 -> v8:   0%|          | 0/1 [00:00<?, ?it/s]"
     ]
    },
    {
     "name": "stdout",
     "output_type": "stream",
     "text": [
      "\r",
      "Upgrading database; v7 -> v8: 100%|██████████| 1/1 [00:00<00:00, 386.25it/s]"
     ]
    },
    {
     "name": "stdout",
     "output_type": "stream",
     "text": [
      "\n",
      "\r",
      "  0%|          | 0/1 [00:00<?, ?it/s]"
     ]
    },
    {
     "name": "stdout",
     "output_type": "stream",
     "text": [
      "\r",
      "Upgrading database; v8 -> v9:   0%|          | 0/1 [00:00<?, ?it/s]"
     ]
    },
    {
     "name": "stdout",
     "output_type": "stream",
     "text": [
      "\r",
      "Upgrading database; v8 -> v9: 100%|██████████| 1/1 [00:00<00:00, 436.50it/s]"
     ]
    },
    {
     "name": "stdout",
     "output_type": "stream",
     "text": [
      "\n"
     ]
    }
   ],
   "source": [
    "initialise_database()\n",
    "exp = load_or_create_experiment(experiment_name='tutorial_exp', sample_name=\"no sample\")"
   ]
  },
  {
   "cell_type": "markdown",
   "metadata": {},
   "source": [
    "Here, we define a simple function to benchmark the time it takes to insert n points with either numeric or array data type.\n",
    "We will compare both the time used to call ``add_result`` and the time used for the full measurement."
   ]
  },
  {
   "cell_type": "code",
   "execution_count": 4,
   "metadata": {
    "execution": {
     "iopub.execute_input": "2020-10-28T10:21:57.436635Z",
     "iopub.status.busy": "2020-10-28T10:21:57.436100Z",
     "iopub.status.idle": "2020-10-28T10:21:57.440796Z",
     "shell.execute_reply": "2020-10-28T10:21:57.440007Z"
    }
   },
   "outputs": [],
   "source": [
    "def insert_data(paramtype, npoints, nreps=1):\n",
    "\n",
    "    meas = Measurement(exp=exp)\n",
    "\n",
    "    x1 = ManualParameter('x1')\n",
    "    x2 = ManualParameter('x2')\n",
    "    x3 = ManualParameter('x3')\n",
    "    y1 = ManualParameter('y1')\n",
    "    y2 = ManualParameter('y2')\n",
    "\n",
    "    meas.register_parameter(x1, paramtype=paramtype)\n",
    "    meas.register_parameter(x2, paramtype=paramtype)\n",
    "    meas.register_parameter(x3, paramtype=paramtype)\n",
    "    meas.register_parameter(y1, setpoints=[x1, x2, x3],\n",
    "                            paramtype=paramtype)\n",
    "    meas.register_parameter(y2, setpoints=[x1, x2, x3],\n",
    "                            paramtype=paramtype)\n",
    "    start = time.perf_counter()\n",
    "    with meas.run() as datasaver:\n",
    "        start_adding = time.perf_counter()\n",
    "        for i in range(nreps):\n",
    "            datasaver.add_result((x1, np.random.rand(npoints)),\n",
    "                                 (x2, np.random.rand(npoints)),\n",
    "                                 (x3, np.random.rand(npoints)),\n",
    "                                 (y1, np.random.rand(npoints)),\n",
    "                                 (y2, np.random.rand(npoints)))\n",
    "        stop_adding = time.perf_counter()\n",
    "        run_id = datasaver.run_id\n",
    "    stop = time.perf_counter()\n",
    "    tot_time = stop - start\n",
    "    add_time = stop_adding - start_adding\n",
    "    return tot_time, add_time, run_id"
   ]
  },
  {
   "cell_type": "markdown",
   "metadata": {},
   "source": [
    "## Comparison between numeric/array data and binary blob"
   ]
  },
  {
   "cell_type": "markdown",
   "metadata": {},
   "source": [
    "### Case1: Short experiment time"
   ]
  },
  {
   "cell_type": "code",
   "execution_count": 5,
   "metadata": {
    "execution": {
     "iopub.execute_input": "2020-10-28T10:21:57.446305Z",
     "iopub.status.busy": "2020-10-28T10:21:57.444961Z",
     "iopub.status.idle": "2020-10-28T10:21:58.174712Z",
     "shell.execute_reply": "2020-10-28T10:21:58.174272Z"
    }
   },
   "outputs": [
    {
     "name": "stdout",
     "output_type": "stream",
     "text": [
      "Starting experimental run with id: 1. \n",
      "Starting experimental run with id: 2. \n",
      "Starting experimental run with id: 3. \n",
      "Starting experimental run with id: 4. \n",
      "Starting experimental run with id: 5. \n"
     ]
    },
    {
     "name": "stdout",
     "output_type": "stream",
     "text": [
      "Starting experimental run with id: 6. \n"
     ]
    },
    {
     "name": "stdout",
     "output_type": "stream",
     "text": [
      "Starting experimental run with id: 7. \n"
     ]
    },
    {
     "name": "stdout",
     "output_type": "stream",
     "text": [
      "Starting experimental run with id: 8. \n",
      "Starting experimental run with id: 9. \n"
     ]
    },
    {
     "name": "stdout",
     "output_type": "stream",
     "text": [
      "Starting experimental run with id: 10. \n"
     ]
    },
    {
     "name": "stdout",
     "output_type": "stream",
     "text": [
      "Starting experimental run with id: 11. \n"
     ]
    },
    {
     "name": "stdout",
     "output_type": "stream",
     "text": [
      "Starting experimental run with id: 12. \n",
      "Starting experimental run with id: 13. \n"
     ]
    },
    {
     "name": "stdout",
     "output_type": "stream",
     "text": [
      "Starting experimental run with id: 14. \n"
     ]
    }
   ],
   "source": [
    "sizes = [1,500,1000,2000,3000,4000,5000]\n",
    "t_numeric = []\n",
    "t_numeric_add = []\n",
    "t_array = []\n",
    "t_array_add = []\n",
    "for size in sizes:\n",
    "    tn, tna, run_id_n =  insert_data('numeric', size)\n",
    "    t_numeric.append(tn)\n",
    "    t_numeric_add.append(tna)\n",
    "\n",
    "    ta, taa, run_id_a =  insert_data('array', size)\n",
    "    t_array.append(ta)\n",
    "    t_array_add.append(taa)"
   ]
  },
  {
   "cell_type": "code",
   "execution_count": 6,
   "metadata": {
    "execution": {
     "iopub.execute_input": "2020-10-28T10:21:58.181187Z",
     "iopub.status.busy": "2020-10-28T10:21:58.180586Z",
     "iopub.status.idle": "2020-10-28T10:21:58.414905Z",
     "shell.execute_reply": "2020-10-28T10:21:58.414359Z"
    }
   },
   "outputs": [
    {
     "data": {
      "image/png": "[encoded data removed]",
      "text/plain": [
       "<Figure size 432x288 with 1 Axes>"
      ]
     },
     "metadata": {
      "needs_background": "light"
     },
     "output_type": "display_data"
    }
   ],
   "source": [
    "fig, ax = plt.subplots(1,1)\n",
    "ax.plot(sizes, t_numeric, 'o-', label='Inserting row-by-row')\n",
    "ax.plot(sizes, t_numeric_add, 'o-', label='Inserting row-by-row: add_result only')\n",
    "ax.plot(sizes, t_array, 'd-', label='Inserting as binary blob')\n",
    "ax.plot(sizes, t_array_add, 'd-', label='Inserting as binary blob: add_result only')\n",
    "ax.legend()\n",
    "ax.set_xlabel('Array length')\n",
    "ax.set_ylabel('Time (s)')\n",
    "fig.tight_layout()"
   ]
  },
  {
   "cell_type": "markdown",
   "metadata": {},
   "source": [
    "As shown in the latter figure, the time to setup and and close the experiment is approximately 0.4 sec. In case of small array sizes, the difference between inserting values of data as arrays and inserting them row-by-row is relatively unimportant. At larger array sizes, i.e. above 10000 points, the cost of writing data as individual datapoints starts to become important.\n"
   ]
  },
  {
   "cell_type": "markdown",
   "metadata": {},
   "source": [
    "### Case2: Long experiment time "
   ]
  },
  {
   "cell_type": "code",
   "execution_count": 7,
   "metadata": {
    "execution": {
     "iopub.execute_input": "2020-10-28T10:21:58.422023Z",
     "iopub.status.busy": "2020-10-28T10:21:58.420947Z",
     "iopub.status.idle": "2020-10-28T10:22:53.129515Z",
     "shell.execute_reply": "2020-10-28T10:22:53.129975Z"
    }
   },
   "outputs": [
    {
     "name": "stdout",
     "output_type": "stream",
     "text": [
      "Starting experimental run with id: 15. \n",
      "Starting experimental run with id: 16. \n",
      "Starting experimental run with id: 17. \n"
     ]
    },
    {
     "name": "stdout",
     "output_type": "stream",
     "text": [
      "Starting experimental run with id: 18. \n",
      "Starting experimental run with id: 19. \n"
     ]
    },
    {
     "name": "stdout",
     "output_type": "stream",
     "text": [
      "Starting experimental run with id: 20. \n"
     ]
    },
    {
     "name": "stdout",
     "output_type": "stream",
     "text": [
      "Starting experimental run with id: 21. \n"
     ]
    },
    {
     "name": "stdout",
     "output_type": "stream",
     "text": [
      "Starting experimental run with id: 22. \n"
     ]
    },
    {
     "name": "stdout",
     "output_type": "stream",
     "text": [
      "Starting experimental run with id: 23. \n"
     ]
    },
    {
     "name": "stdout",
     "output_type": "stream",
     "text": [
      "Starting experimental run with id: 24. \n"
     ]
    },
    {
     "name": "stdout",
     "output_type": "stream",
     "text": [
      "Starting experimental run with id: 25. \n"
     ]
    },
    {
     "name": "stdout",
     "output_type": "stream",
     "text": [
      "Starting experimental run with id: 26. \n"
     ]
    },
    {
     "name": "stdout",
     "output_type": "stream",
     "text": [
      "Starting experimental run with id: 27. \n"
     ]
    },
    {
     "name": "stdout",
     "output_type": "stream",
     "text": [
      "Starting experimental run with id: 28. \n"
     ]
    }
   ],
   "source": [
    "sizes = [1,500,1000,2000,3000,4000,5000]\n",
    "nreps = 100\n",
    "t_numeric = []\n",
    "t_numeric_add = []\n",
    "t_numeric_run_ids = []\n",
    "t_array = []\n",
    "t_array_add = []\n",
    "t_array_run_ids = []\n",
    "for size in sizes:\n",
    "    tn, tna, run_id_n =  insert_data('numeric', size, nreps=nreps)\n",
    "    t_numeric.append(tn)\n",
    "    t_numeric_add.append(tna)\n",
    "    t_numeric_run_ids.append(run_id_n)\n",
    "\n",
    "    ta, taa, run_id_a =  insert_data('array', size, nreps=nreps)\n",
    "    t_array.append(ta)\n",
    "    t_array_add.append(taa)\n",
    "    t_array_run_ids.append(run_id_a)"
   ]
  },
  {
   "cell_type": "code",
   "execution_count": 8,
   "metadata": {
    "execution": {
     "iopub.execute_input": "2020-10-28T10:22:53.161682Z",
     "iopub.status.busy": "2020-10-28T10:22:53.152143Z",
     "iopub.status.idle": "2020-10-28T10:22:53.366345Z",
     "shell.execute_reply": "2020-10-28T10:22:53.365733Z"
    },
    "scrolled": true
   },
   "outputs": [
    {
     "data": {
      "image/png": "[encoded data removed]",
      "text/plain": [
       "<Figure size 432x288 with 1 Axes>"
      ]
     },
     "metadata": {
      "needs_background": "light"
     },
     "output_type": "display_data"
    }
   ],
   "source": [
    "fig, ax = plt.subplots(1,1)\n",
    "ax.plot(sizes, t_numeric, 'o-', label='Inserting row-by-row')\n",
    "ax.plot(sizes, t_numeric_add, 'o-', label='Inserting row-by-row: add_result only')\n",
    "ax.plot(sizes, t_array, 'd-', label='Inserting as binary blob')\n",
    "ax.plot(sizes, t_array_add, 'd-', label='Inserting as binary blob: add_result only')\n",
    "ax.legend()\n",
    "ax.set_xlabel('Array length')\n",
    "ax.set_ylabel('Time (s)')\n",
    "fig.tight_layout()"
   ]
  },
  {
   "cell_type": "markdown",
   "metadata": {},
   "source": [
    "However, as we increase the length of the experiment, as seen here by repeating the insertion 100 times, we see a big difference between inserting values of the data row-by-row and inserting it as a binary blob."
   ]
  },
  {
   "cell_type": "markdown",
   "metadata": {},
   "source": [
    "## Loading the data "
   ]
  },
  {
   "cell_type": "code",
   "execution_count": 9,
   "metadata": {
    "execution": {
     "iopub.execute_input": "2020-10-28T10:22:53.371673Z",
     "iopub.status.busy": "2020-10-28T10:22:53.370902Z",
     "iopub.status.idle": "2020-10-28T10:22:53.373928Z",
     "shell.execute_reply": "2020-10-28T10:22:53.373334Z"
    }
   },
   "outputs": [],
   "source": [
    "from qcodes.dataset.data_set import load_by_id\n",
    "from qcodes.dataset.data_export import get_data_by_id"
   ]
  },
  {
   "cell_type": "markdown",
   "metadata": {},
   "source": [
    "As usual you can load the data by using the ``load_by_id`` function but you will notice that the different storage methods\n",
    "are reflected in shape of the data as it is retrieved. "
   ]
  },
  {
   "cell_type": "code",
   "execution_count": 10,
   "metadata": {
    "execution": {
     "iopub.execute_input": "2020-10-28T10:22:53.378239Z",
     "iopub.status.busy": "2020-10-28T10:22:53.377115Z",
     "iopub.status.idle": "2020-10-28T10:22:53.378827Z",
     "shell.execute_reply": "2020-10-28T10:22:53.379249Z"
    }
   },
   "outputs": [],
   "source": [
    "run_id_n = t_numeric_run_ids[0]\n",
    "run_id_a = t_array_run_ids[0]"
   ]
  },
  {
   "cell_type": "code",
   "execution_count": 11,
   "metadata": {
    "execution": {
     "iopub.execute_input": "2020-10-28T10:22:53.382303Z",
     "iopub.status.busy": "2020-10-28T10:22:53.381790Z",
     "iopub.status.idle": "2020-10-28T10:22:53.390728Z",
     "shell.execute_reply": "2020-10-28T10:22:53.390306Z"
    },
    "scrolled": true
   },
   "outputs": [
    {
     "data": {
      "text/plain": [
       "{'x1': {'x1': array([0.27787377, 0.27787377, 0.5703577 , 0.5703577 , 0.79977218,\n",
       "         0.79977218, 0.9479059 , 0.9479059 , 0.41237558, 0.41237558,\n",
       "         0.82047389, 0.82047389, 0.21030385, 0.21030385, 0.1133232 ,\n",
       "         0.1133232 , 0.9918497 , 0.9918497 , 0.68895701, 0.68895701,\n",
       "         0.48178248, 0.48178248, 0.85049073, 0.85049073, 0.28404563,\n",
       "         0.28404563, 0.97833685, 0.97833685, 0.71563462, 0.71563462,\n",
       "         0.62335873, 0.62335873, 0.32497205, 0.32497205, 0.02343852,\n",
       "         0.02343852, 0.28054771, 0.28054771, 0.10026799, 0.10026799,\n",
       "         0.96029459, 0.96029459, 0.0221698 , 0.0221698 , 0.15375083,\n",
       "         0.15375083, 0.51228562, 0.51228562, 0.78496584, 0.78496584,\n",
       "         0.55620094, 0.55620094, 0.0450286 , 0.0450286 , 0.66578363,\n",
       "         0.66578363, 0.04236488, 0.04236488, 0.97304581, 0.97304581,\n",
       "         0.0379221 , 0.0379221 , 0.86697086, 0.86697086, 0.26153693,\n",
       "         0.26153693, 0.21704822, 0.21704822, 0.67755042, 0.67755042,\n",
       "         0.18790846, 0.18790846, 0.61646916, 0.61646916, 0.53566802,\n",
       "         0.53566802, 0.88167987, 0.88167987, 0.81710201, 0.81710201,\n",
       "         0.96676645, 0.96676645, 0.55035663, 0.55035663, 0.05042934,\n",
       "         0.05042934, 0.18405719, 0.18405719, 0.64835385, 0.64835385,\n",
       "         0.20903189, 0.20903189, 0.26306212, 0.26306212, 0.96997384,\n",
       "         0.96997384, 0.85777494, 0.85777494, 0.69322473, 0.69322473,\n",
       "         0.42451326, 0.42451326, 0.31887071, 0.31887071, 0.50692311,\n",
       "         0.50692311, 0.87800493, 0.87800493, 0.98830616, 0.98830616,\n",
       "         0.6002444 , 0.6002444 , 0.0054506 , 0.0054506 , 0.14074549,\n",
       "         0.14074549, 0.86915856, 0.86915856, 0.20509492, 0.20509492,\n",
       "         0.92719112, 0.92719112, 0.77862881, 0.77862881, 0.30599669,\n",
       "         0.30599669, 0.43302958, 0.43302958, 0.59740793, 0.59740793,\n",
       "         0.02526296, 0.02526296, 0.72031751, 0.72031751, 0.84364388,\n",
       "         0.84364388, 0.57831474, 0.57831474, 0.62060395, 0.62060395,\n",
       "         0.80501585, 0.80501585, 0.26167718, 0.26167718, 0.11674503,\n",
       "         0.11674503, 0.11412124, 0.11412124, 0.93073942, 0.93073942,\n",
       "         0.41917814, 0.41917814, 0.76497239, 0.76497239, 0.43127908,\n",
       "         0.43127908, 0.54173863, 0.54173863, 0.50534623, 0.50534623,\n",
       "         0.87932674, 0.87932674, 0.6740554 , 0.6740554 , 0.47642673,\n",
       "         0.47642673, 0.15156542, 0.15156542, 0.92864169, 0.92864169,\n",
       "         0.11028574, 0.11028574, 0.22669203, 0.22669203, 0.01096763,\n",
       "         0.01096763, 0.77773414, 0.77773414, 0.80471245, 0.80471245,\n",
       "         0.76855326, 0.76855326, 0.96329015, 0.96329015, 0.74732648,\n",
       "         0.74732648, 0.32370535, 0.32370535, 0.89816974, 0.89816974,\n",
       "         0.34996875, 0.34996875, 0.38523398, 0.38523398, 0.30316057,\n",
       "         0.30316057, 0.01834624, 0.01834624, 0.36597118, 0.36597118])}}"
      ]
     },
     "execution_count": 1,
     "metadata": {},
     "output_type": "execute_result"
    }
   ],
   "source": [
    "ds = load_by_id(run_id_n)\n",
    "ds.get_parameter_data('x1')"
   ]
  },
  {
   "cell_type": "markdown",
   "metadata": {},
   "source": [
    "And a dataset stored as binary arrays"
   ]
  },
  {
   "cell_type": "code",
   "execution_count": 12,
   "metadata": {
    "execution": {
     "iopub.execute_input": "2020-10-28T10:22:53.393805Z",
     "iopub.status.busy": "2020-10-28T10:22:53.393176Z",
     "iopub.status.idle": "2020-10-28T10:22:53.445409Z",
     "shell.execute_reply": "2020-10-28T10:22:53.444839Z"
    },
    "scrolled": true
   },
   "outputs": [
    {
     "data": {
      "text/plain": [
       "{'x1': {'x1': array([[0.32122822],\n",
       "         [0.32122822],\n",
       "         [0.38638048],\n",
       "         [0.38638048],\n",
       "         [0.53875391],\n",
       "         [0.53875391],\n",
       "         [0.83135812],\n",
       "         [0.83135812],\n",
       "         [0.95878758],\n",
       "         [0.95878758],\n",
       "         [0.43452998],\n",
       "         [0.43452998],\n",
       "         [0.48471607],\n",
       "         [0.48471607],\n",
       "         [0.06838554],\n",
       "         [0.06838554],\n",
       "         [0.06033905],\n",
       "         [0.06033905],\n",
       "         [0.95044138],\n",
       "         [0.95044138],\n",
       "         [0.3506666 ],\n",
       "         [0.3506666 ],\n",
       "         [0.02534735],\n",
       "         [0.02534735],\n",
       "         [0.35225997],\n",
       "         [0.35225997],\n",
       "         [0.23361652],\n",
       "         [0.23361652],\n",
       "         [0.19199565],\n",
       "         [0.19199565],\n",
       "         [0.77356097],\n",
       "         [0.77356097],\n",
       "         [0.76340109],\n",
       "         [0.76340109],\n",
       "         [0.58518244],\n",
       "         [0.58518244],\n",
       "         [0.86442145],\n",
       "         [0.86442145],\n",
       "         [0.03355433],\n",
       "         [0.03355433],\n",
       "         [0.0031371 ],\n",
       "         [0.0031371 ],\n",
       "         [0.42965253],\n",
       "         [0.42965253],\n",
       "         [0.59333502],\n",
       "         [0.59333502],\n",
       "         [0.19042237],\n",
       "         [0.19042237],\n",
       "         [0.29342307],\n",
       "         [0.29342307],\n",
       "         [0.58764859],\n",
       "         [0.58764859],\n",
       "         [0.91507378],\n",
       "         [0.91507378],\n",
       "         [0.66647498],\n",
       "         [0.66647498],\n",
       "         [0.40822242],\n",
       "         [0.40822242],\n",
       "         [0.89936853],\n",
       "         [0.89936853],\n",
       "         [0.78786124],\n",
       "         [0.78786124],\n",
       "         [0.4870746 ],\n",
       "         [0.4870746 ],\n",
       "         [0.30644923],\n",
       "         [0.30644923],\n",
       "         [0.14902076],\n",
       "         [0.14902076],\n",
       "         [0.55255996],\n",
       "         [0.55255996],\n",
       "         [0.0258468 ],\n",
       "         [0.0258468 ],\n",
       "         [0.82638347],\n",
       "         [0.82638347],\n",
       "         [0.69170037],\n",
       "         [0.69170037],\n",
       "         [0.92287752],\n",
       "         [0.92287752],\n",
       "         [0.78558456],\n",
       "         [0.78558456],\n",
       "         [0.97863987],\n",
       "         [0.97863987],\n",
       "         [0.09962274],\n",
       "         [0.09962274],\n",
       "         [0.02419556],\n",
       "         [0.02419556],\n",
       "         [0.83054876],\n",
       "         [0.83054876],\n",
       "         [0.96676882],\n",
       "         [0.96676882],\n",
       "         [0.02246774],\n",
       "         [0.02246774],\n",
       "         [0.32302185],\n",
       "         [0.32302185],\n",
       "         [0.9892731 ],\n",
       "         [0.9892731 ],\n",
       "         [0.09902498],\n",
       "         [0.09902498],\n",
       "         [0.84090811],\n",
       "         [0.84090811],\n",
       "         [0.5853133 ],\n",
       "         [0.5853133 ],\n",
       "         [0.54050235],\n",
       "         [0.54050235],\n",
       "         [0.08977117],\n",
       "         [0.08977117],\n",
       "         [0.66070741],\n",
       "         [0.66070741],\n",
       "         [0.4306591 ],\n",
       "         [0.4306591 ],\n",
       "         [0.32013371],\n",
       "         [0.32013371],\n",
       "         [0.84380146],\n",
       "         [0.84380146],\n",
       "         [0.71082686],\n",
       "         [0.71082686],\n",
       "         [0.95891841],\n",
       "         [0.95891841],\n",
       "         [0.42551145],\n",
       "         [0.42551145],\n",
       "         [0.65999704],\n",
       "         [0.65999704],\n",
       "         [0.70724086],\n",
       "         [0.70724086],\n",
       "         [0.82318941],\n",
       "         [0.82318941],\n",
       "         [0.33377015],\n",
       "         [0.33377015],\n",
       "         [0.93345482],\n",
       "         [0.93345482],\n",
       "         [0.15318987],\n",
       "         [0.15318987],\n",
       "         [0.02235214],\n",
       "         [0.02235214],\n",
       "         [0.81071022],\n",
       "         [0.81071022],\n",
       "         [0.85197009],\n",
       "         [0.85197009],\n",
       "         [0.36515276],\n",
       "         [0.36515276],\n",
       "         [0.42307584],\n",
       "         [0.42307584],\n",
       "         [0.83002942],\n",
       "         [0.83002942],\n",
       "         [0.83234136],\n",
       "         [0.83234136],\n",
       "         [0.83822782],\n",
       "         [0.83822782],\n",
       "         [0.82201002],\n",
       "         [0.82201002],\n",
       "         [0.93703901],\n",
       "         [0.93703901],\n",
       "         [0.81328416],\n",
       "         [0.81328416],\n",
       "         [0.18004562],\n",
       "         [0.18004562],\n",
       "         [0.7391233 ],\n",
       "         [0.7391233 ],\n",
       "         [0.50830765],\n",
       "         [0.50830765],\n",
       "         [0.68650793],\n",
       "         [0.68650793],\n",
       "         [0.99531113],\n",
       "         [0.99531113],\n",
       "         [0.63353985],\n",
       "         [0.63353985],\n",
       "         [0.86059262],\n",
       "         [0.86059262],\n",
       "         [0.22768221],\n",
       "         [0.22768221],\n",
       "         [0.87475703],\n",
       "         [0.87475703],\n",
       "         [0.35635789],\n",
       "         [0.35635789],\n",
       "         [0.69006122],\n",
       "         [0.69006122],\n",
       "         [0.6281795 ],\n",
       "         [0.6281795 ],\n",
       "         [0.03472087],\n",
       "         [0.03472087],\n",
       "         [0.9008539 ],\n",
       "         [0.9008539 ],\n",
       "         [0.39366818],\n",
       "         [0.39366818],\n",
       "         [0.96420676],\n",
       "         [0.96420676],\n",
       "         [0.79748132],\n",
       "         [0.79748132],\n",
       "         [0.20746778],\n",
       "         [0.20746778],\n",
       "         [0.02765725],\n",
       "         [0.02765725],\n",
       "         [0.79853153],\n",
       "         [0.79853153],\n",
       "         [0.68157828],\n",
       "         [0.68157828],\n",
       "         [0.15393089],\n",
       "         [0.15393089],\n",
       "         [0.79389992],\n",
       "         [0.79389992]])}}"
      ]
     },
     "execution_count": 1,
     "metadata": {},
     "output_type": "execute_result"
    }
   ],
   "source": [
    "ds = load_by_id(run_id_a)\n",
    "ds.get_parameter_data('x1')"
   ]
  },
  {
   "cell_type": "code",
   "execution_count": null,
   "metadata": {},
   "outputs": [],
   "source": []
  }
 ],
 "metadata": {
  "kernelspec": {
   "display_name": "Python 3",
   "language": "python",
   "name": "python3"
  },
  "language_info": {
   "codemirror_mode": {
    "name": "ipython",
    "version": 3
   },
   "file_extension": ".py",
   "mimetype": "text/x-python",
   "name": "python",
   "nbconvert_exporter": "python",
   "pygments_lexer": "ipython3",
   "version": "3.7.7"
  },
  "nbsphinx": {
   "timeout": 600
  },
  "toc": {
   "base_numbering": 1,
   "nav_menu": {},
   "number_sections": true,
   "sideBar": true,
   "skip_h1_title": false,
   "title_cell": "Table of Contents",
   "title_sidebar": "Contents",
   "toc_cell": false,
   "toc_position": {},
   "toc_section_display": true,
   "toc_window_display": false
  },
  "varInspector": {
   "cols": {
    "lenName": 16,
    "lenType": 16,
    "lenVar": 40
   },
   "kernels_config": {
    "python": {
     "delete_cmd_postfix": "",
     "delete_cmd_prefix": "del ",
     "library": "var_list.py",
     "varRefreshCmd": "print(var_dic_list())"
    },
    "r": {
     "delete_cmd_postfix": ") ",
     "delete_cmd_prefix": "rm(",
     "library": "var_list.r",
     "varRefreshCmd": "cat(var_dic_list()) "
    }
   },
   "types_to_exclude": [
    "module",
    "function",
    "builtin_function_or_method",
    "instance",
    "_Feature"
   ],
   "window_display": false
  }
 },
 "nbformat": 4,
 "nbformat_minor": 2
}
