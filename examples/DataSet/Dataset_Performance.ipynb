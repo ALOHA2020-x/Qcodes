{
 "cells": [
  {
   "cell_type": "markdown",
   "metadata": {},
   "source": [
    "# DataSet Performance\n",
    "\n",
    "This notebook shows the trade-off between inserting data into a database row-by-row and as binary blobs. Inserting the data row-by-row means that we have direct access to all the data and may perform queries directly on the values of the data. On the other hand, as we shall see, this is much slower than inserting the data directly as binary blobs."
   ]
  },
  {
   "cell_type": "markdown",
   "metadata": {},
   "source": [
    "First, we choose a new location for the database to ensure that we don't add a bunch of benchmarking data to the default one."
   ]
  },
  {
   "cell_type": "code",
   "execution_count": 1,
   "metadata": {
    "execution": {
     "iopub.execute_input": "2021-02-16T06:19:31.751109Z",
     "iopub.status.busy": "2021-02-16T06:19:31.750137Z",
     "iopub.status.idle": "2021-02-16T06:19:32.682398Z",
     "shell.execute_reply": "2021-02-16T06:19:32.681398Z"
    }
   },
   "outputs": [
    {
     "name": "stdout",
     "output_type": "stream",
     "text": [
      "Logging hadn't been started.\n",
      "Activating auto-logging. Current session state plus future input saved.\n",
      "Filename       : /home/runner/.qcodes/logs/command_history.log\n",
      "Mode           : append\n",
      "Output logging : True\n",
      "Raw input log  : False\n",
      "Timestamping   : True\n",
      "State          : active\n"
     ]
    },
    {
     "name": "stdout",
     "output_type": "stream",
     "text": [
      "Qcodes Logfile : /home/runner/.qcodes/logs/210216-3883-qcodes.log\n"
     ]
    }
   ],
   "source": [
    "import os\n",
    "cwd = os.getcwd()\n",
    "import qcodes as qc\n",
    "qc.config[\"core\"][\"db_location\"] = os.path.join(cwd, 'testing.db')\n"
   ]
  },
  {
   "cell_type": "code",
   "execution_count": 2,
   "metadata": {
    "execution": {
     "iopub.execute_input": "2021-02-16T06:19:32.689458Z",
     "iopub.status.busy": "2021-02-16T06:19:32.688850Z",
     "iopub.status.idle": "2021-02-16T06:19:32.894874Z",
     "shell.execute_reply": "2021-02-16T06:19:32.893961Z"
    }
   },
   "outputs": [],
   "source": [
    "%matplotlib inline\n",
    "import time\n",
    "import matplotlib.pyplot as plt\n",
    "import numpy as np\n",
    "\n",
    "import qcodes as qc\n",
    "from qcodes.instrument.parameter import ManualParameter\n",
    "from qcodes.dataset.experiment_container import (Experiment,\n",
    "                                                 load_last_experiment,\n",
    "                                                 new_experiment)\n",
    "from qcodes.dataset.sqlite.database import initialise_database\n",
    "from qcodes import load_or_create_experiment\n",
    "from qcodes.dataset.measurements import Measurement"
   ]
  },
  {
   "cell_type": "code",
   "execution_count": 3,
   "metadata": {
    "execution": {
     "iopub.execute_input": "2021-02-16T06:19:32.900273Z",
     "iopub.status.busy": "2021-02-16T06:19:32.899637Z",
     "iopub.status.idle": "2021-02-16T06:19:33.021616Z",
     "shell.execute_reply": "2021-02-16T06:19:33.022149Z"
    }
   },
   "outputs": [
    {
     "name": "stdout",
     "output_type": "stream",
     "text": [
      "\r",
      "0it [00:00, ?it/s]"
     ]
    },
    {
     "name": "stdout",
     "output_type": "stream",
     "text": [
      "\r",
      "Upgrading database; v0 -> v1: : 0it [00:00, ?it/s]"
     ]
    },
    {
     "name": "stdout",
     "output_type": "stream",
     "text": [
      "\r",
      "Upgrading database; v0 -> v1: : 0it [00:00, ?it/s]"
     ]
    },
    {
     "name": "stdout",
     "output_type": "stream",
     "text": [
      "\n",
      "\r",
      "  0%|          | 0/1 [00:00<?, ?it/s]"
     ]
    },
    {
     "name": "stdout",
     "output_type": "stream",
     "text": [
      "\r",
      "Upgrading database; v1 -> v2:   0%|          | 0/1 [00:00<?, ?it/s]"
     ]
    },
    {
     "name": "stdout",
     "output_type": "stream",
     "text": [
      "\r",
      "Upgrading database; v1 -> v2: 100%|██████████| 1/1 [00:00<00:00, 1204.22it/s]"
     ]
    },
    {
     "name": "stdout",
     "output_type": "stream",
     "text": [
      "\n",
      "\r",
      "0it [00:00, ?it/s]"
     ]
    },
    {
     "name": "stdout",
     "output_type": "stream",
     "text": [
      "\r",
      "Upgrading database; v2 -> v3: : 0it [00:00, ?it/s]"
     ]
    },
    {
     "name": "stdout",
     "output_type": "stream",
     "text": [
      "\r",
      "Upgrading database; v2 -> v3: : 0it [00:00, ?it/s]"
     ]
    },
    {
     "name": "stdout",
     "output_type": "stream",
     "text": [
      "\n",
      "\r",
      "0it [00:00, ?it/s]"
     ]
    },
    {
     "name": "stdout",
     "output_type": "stream",
     "text": [
      "\r",
      "Upgrading database; v3 -> v4: : 0it [00:00, ?it/s]"
     ]
    },
    {
     "name": "stdout",
     "output_type": "stream",
     "text": [
      "\r",
      "Upgrading database; v3 -> v4: : 0it [00:00, ?it/s]"
     ]
    },
    {
     "name": "stdout",
     "output_type": "stream",
     "text": [
      "\n",
      "\r",
      "  0%|          | 0/1 [00:00<?, ?it/s]"
     ]
    },
    {
     "name": "stdout",
     "output_type": "stream",
     "text": [
      "\r",
      "Upgrading database; v4 -> v5:   0%|          | 0/1 [00:00<?, ?it/s]"
     ]
    },
    {
     "name": "stdout",
     "output_type": "stream",
     "text": [
      "\r",
      "Upgrading database; v4 -> v5: 100%|██████████| 1/1 [00:00<00:00, 749.65it/s]"
     ]
    },
    {
     "name": "stdout",
     "output_type": "stream",
     "text": [
      "\n",
      "\r",
      "0it [00:00, ?it/s]"
     ]
    },
    {
     "name": "stdout",
     "output_type": "stream",
     "text": [
      "\r",
      "Upgrading database; v5 -> v6: : 0it [00:00, ?it/s]"
     ]
    },
    {
     "name": "stdout",
     "output_type": "stream",
     "text": [
      "\r",
      "Upgrading database; v5 -> v6: : 0it [00:00, ?it/s]"
     ]
    },
    {
     "name": "stdout",
     "output_type": "stream",
     "text": [
      "\n",
      "\r",
      "  0%|          | 0/1 [00:00<?, ?it/s]"
     ]
    },
    {
     "name": "stdout",
     "output_type": "stream",
     "text": [
      "\r",
      "Upgrading database; v6 -> v7:   0%|          | 0/1 [00:00<?, ?it/s]"
     ]
    },
    {
     "name": "stdout",
     "output_type": "stream",
     "text": [
      "\r",
      "Upgrading database; v6 -> v7: 100%|██████████| 1/1 [00:00<00:00, 265.61it/s]"
     ]
    },
    {
     "name": "stdout",
     "output_type": "stream",
     "text": [
      "\n",
      "\r",
      "  0%|          | 0/1 [00:00<?, ?it/s]"
     ]
    },
    {
     "name": "stdout",
     "output_type": "stream",
     "text": [
      "\r",
      "Upgrading database; v7 -> v8:   0%|          | 0/1 [00:00<?, ?it/s]"
     ]
    },
    {
     "name": "stdout",
     "output_type": "stream",
     "text": [
      "\r",
      "Upgrading database; v7 -> v8: 100%|██████████| 1/1 [00:00<00:00, 716.24it/s]"
     ]
    },
    {
     "name": "stdout",
     "output_type": "stream",
     "text": [
      "\n",
      "\r",
      "  0%|          | 0/1 [00:00<?, ?it/s]"
     ]
    },
    {
     "name": "stdout",
     "output_type": "stream",
     "text": [
      "\r",
      "Upgrading database; v8 -> v9:   0%|          | 0/1 [00:00<?, ?it/s]"
     ]
    },
    {
     "name": "stdout",
     "output_type": "stream",
     "text": [
      "\r",
      "Upgrading database; v8 -> v9: 100%|██████████| 1/1 [00:00<00:00, 546.35it/s]"
     ]
    },
    {
     "name": "stdout",
     "output_type": "stream",
     "text": [
      "\n"
     ]
    }
   ],
   "source": [
    "initialise_database()\n",
    "exp = load_or_create_experiment(experiment_name='tutorial_exp', sample_name=\"no sample\")"
   ]
  },
  {
   "cell_type": "markdown",
   "metadata": {},
   "source": [
    "Here, we define a simple function to benchmark the time it takes to insert n points with either numeric or array data type.\n",
    "We will compare both the time used to call ``add_result`` and the time used for the full measurement."
   ]
  },
  {
   "cell_type": "code",
   "execution_count": 4,
   "metadata": {
    "execution": {
     "iopub.execute_input": "2021-02-16T06:19:33.032569Z",
     "iopub.status.busy": "2021-02-16T06:19:33.031086Z",
     "iopub.status.idle": "2021-02-16T06:19:33.033209Z",
     "shell.execute_reply": "2021-02-16T06:19:33.033676Z"
    }
   },
   "outputs": [],
   "source": [
    "def insert_data(paramtype, npoints, nreps=1):\n",
    "\n",
    "    meas = Measurement(exp=exp)\n",
    "\n",
    "    x1 = ManualParameter('x1')\n",
    "    x2 = ManualParameter('x2')\n",
    "    x3 = ManualParameter('x3')\n",
    "    y1 = ManualParameter('y1')\n",
    "    y2 = ManualParameter('y2')\n",
    "\n",
    "    meas.register_parameter(x1, paramtype=paramtype)\n",
    "    meas.register_parameter(x2, paramtype=paramtype)\n",
    "    meas.register_parameter(x3, paramtype=paramtype)\n",
    "    meas.register_parameter(y1, setpoints=[x1, x2, x3],\n",
    "                            paramtype=paramtype)\n",
    "    meas.register_parameter(y2, setpoints=[x1, x2, x3],\n",
    "                            paramtype=paramtype)\n",
    "    start = time.perf_counter()\n",
    "    with meas.run() as datasaver:\n",
    "        start_adding = time.perf_counter()\n",
    "        for i in range(nreps):\n",
    "            datasaver.add_result((x1, np.random.rand(npoints)),\n",
    "                                 (x2, np.random.rand(npoints)),\n",
    "                                 (x3, np.random.rand(npoints)),\n",
    "                                 (y1, np.random.rand(npoints)),\n",
    "                                 (y2, np.random.rand(npoints)))\n",
    "        stop_adding = time.perf_counter()\n",
    "        run_id = datasaver.run_id\n",
    "    stop = time.perf_counter()\n",
    "    tot_time = stop - start\n",
    "    add_time = stop_adding - start_adding\n",
    "    return tot_time, add_time, run_id"
   ]
  },
  {
   "cell_type": "markdown",
   "metadata": {},
   "source": [
    "## Comparison between numeric/array data and binary blob"
   ]
  },
  {
   "cell_type": "markdown",
   "metadata": {},
   "source": [
    "### Case1: Short experiment time"
   ]
  },
  {
   "cell_type": "code",
   "execution_count": 5,
   "metadata": {
    "execution": {
     "iopub.execute_input": "2021-02-16T06:19:33.041247Z",
     "iopub.status.busy": "2021-02-16T06:19:33.040418Z",
     "iopub.status.idle": "2021-02-16T06:19:33.892173Z",
     "shell.execute_reply": "2021-02-16T06:19:33.891649Z"
    }
   },
   "outputs": [
    {
     "name": "stdout",
     "output_type": "stream",
     "text": [
      "Starting experimental run with id: 1. \n",
      "Starting experimental run with id: 2. \n",
      "Starting experimental run with id: 3. \n",
      "Starting experimental run with id: 4. \n",
      "Starting experimental run with id: 5. \n"
     ]
    },
    {
     "name": "stdout",
     "output_type": "stream",
     "text": [
      "Starting experimental run with id: 6. "
     ]
    },
    {
     "name": "stdout",
     "output_type": "stream",
     "text": [
      "\n"
     ]
    },
    {
     "name": "stdout",
     "output_type": "stream",
     "text": [
      "Starting experimental run with id: 7. \n"
     ]
    },
    {
     "name": "stdout",
     "output_type": "stream",
     "text": [
      "Starting experimental run with id: 8. \n",
      "Starting experimental run with id: 9. \n"
     ]
    },
    {
     "name": "stdout",
     "output_type": "stream",
     "text": [
      "Starting experimental run with id: 10. \n",
      "Starting experimental run with id: 11. \n"
     ]
    },
    {
     "name": "stdout",
     "output_type": "stream",
     "text": [
      "Starting experimental run with id: 12. \n",
      "Starting experimental run with id: 13. \n"
     ]
    },
    {
     "name": "stdout",
     "output_type": "stream",
     "text": [
      "Starting experimental run with id: 14. \n"
     ]
    }
   ],
   "source": [
    "sizes = [1,500,1000,2000,3000,4000,5000]\n",
    "t_numeric = []\n",
    "t_numeric_add = []\n",
    "t_array = []\n",
    "t_array_add = []\n",
    "for size in sizes:\n",
    "    tn, tna, run_id_n =  insert_data('numeric', size)\n",
    "    t_numeric.append(tn)\n",
    "    t_numeric_add.append(tna)\n",
    "\n",
    "    ta, taa, run_id_a =  insert_data('array', size)\n",
    "    t_array.append(ta)\n",
    "    t_array_add.append(taa)"
   ]
  },
  {
   "cell_type": "code",
   "execution_count": 6,
   "metadata": {
    "execution": {
     "iopub.execute_input": "2021-02-16T06:19:33.911707Z",
     "iopub.status.busy": "2021-02-16T06:19:33.909840Z",
     "iopub.status.idle": "2021-02-16T06:19:34.095876Z",
     "shell.execute_reply": "2021-02-16T06:19:34.096470Z"
    }
   },
   "outputs": [
    {
     "data": {
      "image/png": "[encoded data removed]",
      "text/plain": [
       "<Figure size 432x288 with 1 Axes>"
      ]
     },
     "metadata": {
      "needs_background": "light"
     },
     "output_type": "display_data"
    }
   ],
   "source": [
    "fig, ax = plt.subplots(1,1)\n",
    "ax.plot(sizes, t_numeric, 'o-', label='Inserting row-by-row')\n",
    "ax.plot(sizes, t_numeric_add, 'o-', label='Inserting row-by-row: add_result only')\n",
    "ax.plot(sizes, t_array, 'd-', label='Inserting as binary blob')\n",
    "ax.plot(sizes, t_array_add, 'd-', label='Inserting as binary blob: add_result only')\n",
    "ax.legend()\n",
    "ax.set_xlabel('Array length')\n",
    "ax.set_ylabel('Time (s)')\n",
    "fig.tight_layout()"
   ]
  },
  {
   "cell_type": "markdown",
   "metadata": {},
   "source": [
    "As shown in the latter figure, the time to setup and and close the experiment is approximately 0.4 sec. In case of small array sizes, the difference between inserting values of data as arrays and inserting them row-by-row is relatively unimportant. At larger array sizes, i.e. above 10000 points, the cost of writing data as individual datapoints starts to become important.\n"
   ]
  },
  {
   "cell_type": "markdown",
   "metadata": {},
   "source": [
    "### Case2: Long experiment time "
   ]
  },
  {
   "cell_type": "code",
   "execution_count": 7,
   "metadata": {
    "execution": {
     "iopub.execute_input": "2021-02-16T06:19:34.104397Z",
     "iopub.status.busy": "2021-02-16T06:19:34.103816Z",
     "iopub.status.idle": "2021-02-16T06:20:35.348880Z",
     "shell.execute_reply": "2021-02-16T06:20:35.347991Z"
    }
   },
   "outputs": [
    {
     "name": "stdout",
     "output_type": "stream",
     "text": [
      "Starting experimental run with id: 15. \n",
      "Starting experimental run with id: 16. \n",
      "Starting experimental run with id: 17. \n"
     ]
    },
    {
     "name": "stdout",
     "output_type": "stream",
     "text": [
      "Starting experimental run with id: 18. \n"
     ]
    },
    {
     "name": "stdout",
     "output_type": "stream",
     "text": [
      "Starting experimental run with id: 19. \n"
     ]
    },
    {
     "name": "stdout",
     "output_type": "stream",
     "text": [
      "Starting experimental run with id: 20. \n"
     ]
    },
    {
     "name": "stdout",
     "output_type": "stream",
     "text": [
      "Starting experimental run with id: 21. \n"
     ]
    },
    {
     "name": "stdout",
     "output_type": "stream",
     "text": [
      "Starting experimental run with id: 22. \n"
     ]
    },
    {
     "name": "stdout",
     "output_type": "stream",
     "text": [
      "Starting experimental run with id: 23. \n"
     ]
    },
    {
     "name": "stdout",
     "output_type": "stream",
     "text": [
      "Starting experimental run with id: 24. \n"
     ]
    },
    {
     "name": "stdout",
     "output_type": "stream",
     "text": [
      "Starting experimental run with id: 25. \n"
     ]
    },
    {
     "name": "stdout",
     "output_type": "stream",
     "text": [
      "Starting experimental run with id: 26. \n"
     ]
    },
    {
     "name": "stdout",
     "output_type": "stream",
     "text": [
      "Starting experimental run with id: 27. \n"
     ]
    },
    {
     "name": "stdout",
     "output_type": "stream",
     "text": [
      "Starting experimental run with id: 28. \n"
     ]
    }
   ],
   "source": [
    "sizes = [1,500,1000,2000,3000,4000,5000]\n",
    "nreps = 100\n",
    "t_numeric = []\n",
    "t_numeric_add = []\n",
    "t_numeric_run_ids = []\n",
    "t_array = []\n",
    "t_array_add = []\n",
    "t_array_run_ids = []\n",
    "for size in sizes:\n",
    "    tn, tna, run_id_n =  insert_data('numeric', size, nreps=nreps)\n",
    "    t_numeric.append(tn)\n",
    "    t_numeric_add.append(tna)\n",
    "    t_numeric_run_ids.append(run_id_n)\n",
    "\n",
    "    ta, taa, run_id_a =  insert_data('array', size, nreps=nreps)\n",
    "    t_array.append(ta)\n",
    "    t_array_add.append(taa)\n",
    "    t_array_run_ids.append(run_id_a)"
   ]
  },
  {
   "cell_type": "code",
   "execution_count": 8,
   "metadata": {
    "execution": {
     "iopub.execute_input": "2021-02-16T06:20:35.390602Z",
     "iopub.status.busy": "2021-02-16T06:20:35.389627Z",
     "iopub.status.idle": "2021-02-16T06:20:35.559502Z",
     "shell.execute_reply": "2021-02-16T06:20:35.558520Z"
    },
    "scrolled": true
   },
   "outputs": [
    {
     "data": {
      "image/png": "[encoded data removed]",
      "text/plain": [
       "<Figure size 432x288 with 1 Axes>"
      ]
     },
     "metadata": {
      "needs_background": "light"
     },
     "output_type": "display_data"
    }
   ],
   "source": [
    "fig, ax = plt.subplots(1,1)\n",
    "ax.plot(sizes, t_numeric, 'o-', label='Inserting row-by-row')\n",
    "ax.plot(sizes, t_numeric_add, 'o-', label='Inserting row-by-row: add_result only')\n",
    "ax.plot(sizes, t_array, 'd-', label='Inserting as binary blob')\n",
    "ax.plot(sizes, t_array_add, 'd-', label='Inserting as binary blob: add_result only')\n",
    "ax.legend()\n",
    "ax.set_xlabel('Array length')\n",
    "ax.set_ylabel('Time (s)')\n",
    "fig.tight_layout()"
   ]
  },
  {
   "cell_type": "markdown",
   "metadata": {},
   "source": [
    "However, as we increase the length of the experiment, as seen here by repeating the insertion 100 times, we see a big difference between inserting values of the data row-by-row and inserting it as a binary blob."
   ]
  },
  {
   "cell_type": "markdown",
   "metadata": {},
   "source": [
    "## Loading the data "
   ]
  },
  {
   "cell_type": "code",
   "execution_count": 9,
   "metadata": {
    "execution": {
     "iopub.execute_input": "2021-02-16T06:20:35.564194Z",
     "iopub.status.busy": "2021-02-16T06:20:35.563036Z",
     "iopub.status.idle": "2021-02-16T06:20:35.565854Z",
     "shell.execute_reply": "2021-02-16T06:20:35.566325Z"
    }
   },
   "outputs": [],
   "source": [
    "from qcodes.dataset.data_set import load_by_id\n",
    "from qcodes.dataset.data_export import get_data_by_id"
   ]
  },
  {
   "cell_type": "markdown",
   "metadata": {},
   "source": [
    "As usual you can load the data by using the ``load_by_id`` function but you will notice that the different storage methods\n",
    "are reflected in shape of the data as it is retrieved. "
   ]
  },
  {
   "cell_type": "code",
   "execution_count": 10,
   "metadata": {
    "execution": {
     "iopub.execute_input": "2021-02-16T06:20:35.570198Z",
     "iopub.status.busy": "2021-02-16T06:20:35.569643Z",
     "iopub.status.idle": "2021-02-16T06:20:35.572011Z",
     "shell.execute_reply": "2021-02-16T06:20:35.571491Z"
    }
   },
   "outputs": [],
   "source": [
    "run_id_n = t_numeric_run_ids[0]\n",
    "run_id_a = t_array_run_ids[0]"
   ]
  },
  {
   "cell_type": "code",
   "execution_count": 11,
   "metadata": {
    "execution": {
     "iopub.execute_input": "2021-02-16T06:20:35.575435Z",
     "iopub.status.busy": "2021-02-16T06:20:35.574849Z",
     "iopub.status.idle": "2021-02-16T06:20:35.583962Z",
     "shell.execute_reply": "2021-02-16T06:20:35.584405Z"
    },
    "scrolled": true
   },
   "outputs": [
    {
     "data": {
      "text/plain": [
       "{'x1': {'x1': array([0.93454176, 0.93454176, 0.85922989, 0.85922989, 0.58956027,\n",
       "         0.58956027, 0.84640536, 0.84640536, 0.3773625 , 0.3773625 ,\n",
       "         0.23014938, 0.23014938, 0.70354778, 0.70354778, 0.74562383,\n",
       "         0.74562383, 0.47680823, 0.47680823, 0.51038704, 0.51038704,\n",
       "         0.87021963, 0.87021963, 0.97395133, 0.97395133, 0.20737535,\n",
       "         0.20737535, 0.00713981, 0.00713981, 0.8721858 , 0.8721858 ,\n",
       "         0.99580746, 0.99580746, 0.14505179, 0.14505179, 0.41939822,\n",
       "         0.41939822, 0.0570817 , 0.0570817 , 0.11858477, 0.11858477,\n",
       "         0.90488324, 0.90488324, 0.57171317, 0.57171317, 0.82641206,\n",
       "         0.82641206, 0.77765781, 0.77765781, 0.22703138, 0.22703138,\n",
       "         0.72742996, 0.72742996, 0.5684758 , 0.5684758 , 0.4355973 ,\n",
       "         0.4355973 , 0.70402204, 0.70402204, 0.74480132, 0.74480132,\n",
       "         0.58761313, 0.58761313, 0.16788158, 0.16788158, 0.65322575,\n",
       "         0.65322575, 0.80868578, 0.80868578, 0.30470844, 0.30470844,\n",
       "         0.43234182, 0.43234182, 0.47335026, 0.47335026, 0.7513281 ,\n",
       "         0.7513281 , 0.59295119, 0.59295119, 0.78483158, 0.78483158,\n",
       "         0.09926981, 0.09926981, 0.76425037, 0.76425037, 0.37461297,\n",
       "         0.37461297, 0.57820795, 0.57820795, 0.01603612, 0.01603612,\n",
       "         0.01562095, 0.01562095, 0.16897656, 0.16897656, 0.84368979,\n",
       "         0.84368979, 0.47825051, 0.47825051, 0.92859455, 0.92859455,\n",
       "         0.01378583, 0.01378583, 0.34462573, 0.34462573, 0.9466909 ,\n",
       "         0.9466909 , 0.44754241, 0.44754241, 0.72344982, 0.72344982,\n",
       "         0.20579511, 0.20579511, 0.25933003, 0.25933003, 0.56783482,\n",
       "         0.56783482, 0.90775286, 0.90775286, 0.02649702, 0.02649702,\n",
       "         0.78174205, 0.78174205, 0.6012152 , 0.6012152 , 0.52865739,\n",
       "         0.52865739, 0.83910014, 0.83910014, 0.58952618, 0.58952618,\n",
       "         0.85698628, 0.85698628, 0.89140899, 0.89140899, 0.10022299,\n",
       "         0.10022299, 0.50779826, 0.50779826, 0.70192034, 0.70192034,\n",
       "         0.86441   , 0.86441   , 0.33285683, 0.33285683, 0.63051882,\n",
       "         0.63051882, 0.08373111, 0.08373111, 0.80780485, 0.80780485,\n",
       "         0.17821878, 0.17821878, 0.7136042 , 0.7136042 , 0.3360445 ,\n",
       "         0.3360445 , 0.05532734, 0.05532734, 0.315843  , 0.315843  ,\n",
       "         0.55704006, 0.55704006, 0.89125942, 0.89125942, 0.60151912,\n",
       "         0.60151912, 0.99256727, 0.99256727, 0.15056321, 0.15056321,\n",
       "         0.04437405, 0.04437405, 0.987617  , 0.987617  , 0.17991194,\n",
       "         0.17991194, 0.94786074, 0.94786074, 0.71591995, 0.71591995,\n",
       "         0.07755323, 0.07755323, 0.20300678, 0.20300678, 0.20456993,\n",
       "         0.20456993, 0.17063404, 0.17063404, 0.79700626, 0.79700626,\n",
       "         0.05105875, 0.05105875, 0.59462464, 0.59462464, 0.71394286,\n",
       "         0.71394286, 0.45213092, 0.45213092, 0.2628448 , 0.2628448 ])}}"
      ]
     },
     "execution_count": 1,
     "metadata": {},
     "output_type": "execute_result"
    }
   ],
   "source": [
    "ds = load_by_id(run_id_n)\n",
    "ds.get_parameter_data('x1')"
   ]
  },
  {
   "cell_type": "markdown",
   "metadata": {},
   "source": [
    "And a dataset stored as binary arrays"
   ]
  },
  {
   "cell_type": "code",
   "execution_count": 12,
   "metadata": {
    "execution": {
     "iopub.execute_input": "2021-02-16T06:20:35.588102Z",
     "iopub.status.busy": "2021-02-16T06:20:35.587552Z",
     "iopub.status.idle": "2021-02-16T06:20:35.648552Z",
     "shell.execute_reply": "2021-02-16T06:20:35.649378Z"
    },
    "scrolled": true
   },
   "outputs": [
    {
     "data": {
      "text/plain": [
       "{'x1': {'x1': array([[0.75505126],\n",
       "         [0.75505126],\n",
       "         [0.78656161],\n",
       "         [0.78656161],\n",
       "         [0.34244849],\n",
       "         [0.34244849],\n",
       "         [0.78464393],\n",
       "         [0.78464393],\n",
       "         [0.38581924],\n",
       "         [0.38581924],\n",
       "         [0.197106  ],\n",
       "         [0.197106  ],\n",
       "         [0.55472314],\n",
       "         [0.55472314],\n",
       "         [0.73594546],\n",
       "         [0.73594546],\n",
       "         [0.97296123],\n",
       "         [0.97296123],\n",
       "         [0.09023525],\n",
       "         [0.09023525],\n",
       "         [0.98681284],\n",
       "         [0.98681284],\n",
       "         [0.91363546],\n",
       "         [0.91363546],\n",
       "         [0.57080982],\n",
       "         [0.57080982],\n",
       "         [0.78870841],\n",
       "         [0.78870841],\n",
       "         [0.03448491],\n",
       "         [0.03448491],\n",
       "         [0.67338259],\n",
       "         [0.67338259],\n",
       "         [0.1576526 ],\n",
       "         [0.1576526 ],\n",
       "         [0.61570463],\n",
       "         [0.61570463],\n",
       "         [0.19578518],\n",
       "         [0.19578518],\n",
       "         [0.84248239],\n",
       "         [0.84248239],\n",
       "         [0.19373696],\n",
       "         [0.19373696],\n",
       "         [0.6254674 ],\n",
       "         [0.6254674 ],\n",
       "         [0.34352445],\n",
       "         [0.34352445],\n",
       "         [0.72701946],\n",
       "         [0.72701946],\n",
       "         [0.56478796],\n",
       "         [0.56478796],\n",
       "         [0.55344336],\n",
       "         [0.55344336],\n",
       "         [0.42940482],\n",
       "         [0.42940482],\n",
       "         [0.09768689],\n",
       "         [0.09768689],\n",
       "         [0.55677419],\n",
       "         [0.55677419],\n",
       "         [0.30682273],\n",
       "         [0.30682273],\n",
       "         [0.40999813],\n",
       "         [0.40999813],\n",
       "         [0.54169254],\n",
       "         [0.54169254],\n",
       "         [0.76022309],\n",
       "         [0.76022309],\n",
       "         [0.52384929],\n",
       "         [0.52384929],\n",
       "         [0.94747407],\n",
       "         [0.94747407],\n",
       "         [0.30920616],\n",
       "         [0.30920616],\n",
       "         [0.05565506],\n",
       "         [0.05565506],\n",
       "         [0.17723754],\n",
       "         [0.17723754],\n",
       "         [0.1486675 ],\n",
       "         [0.1486675 ],\n",
       "         [0.42895642],\n",
       "         [0.42895642],\n",
       "         [0.30123242],\n",
       "         [0.30123242],\n",
       "         [0.57644945],\n",
       "         [0.57644945],\n",
       "         [0.71098356],\n",
       "         [0.71098356],\n",
       "         [0.51493233],\n",
       "         [0.51493233],\n",
       "         [0.86614884],\n",
       "         [0.86614884],\n",
       "         [0.45711432],\n",
       "         [0.45711432],\n",
       "         [0.10974992],\n",
       "         [0.10974992],\n",
       "         [0.73647575],\n",
       "         [0.73647575],\n",
       "         [0.28585889],\n",
       "         [0.28585889],\n",
       "         [0.31864065],\n",
       "         [0.31864065],\n",
       "         [0.24377522],\n",
       "         [0.24377522],\n",
       "         [0.88508361],\n",
       "         [0.88508361],\n",
       "         [0.5521443 ],\n",
       "         [0.5521443 ],\n",
       "         [0.51231324],\n",
       "         [0.51231324],\n",
       "         [0.74011626],\n",
       "         [0.74011626],\n",
       "         [0.22214394],\n",
       "         [0.22214394],\n",
       "         [0.4901351 ],\n",
       "         [0.4901351 ],\n",
       "         [0.57826497],\n",
       "         [0.57826497],\n",
       "         [0.63118339],\n",
       "         [0.63118339],\n",
       "         [0.18270112],\n",
       "         [0.18270112],\n",
       "         [0.22455176],\n",
       "         [0.22455176],\n",
       "         [0.17960976],\n",
       "         [0.17960976],\n",
       "         [0.00677252],\n",
       "         [0.00677252],\n",
       "         [0.94184146],\n",
       "         [0.94184146],\n",
       "         [0.8197084 ],\n",
       "         [0.8197084 ],\n",
       "         [0.50990159],\n",
       "         [0.50990159],\n",
       "         [0.53270093],\n",
       "         [0.53270093],\n",
       "         [0.45994236],\n",
       "         [0.45994236],\n",
       "         [0.6790705 ],\n",
       "         [0.6790705 ],\n",
       "         [0.41578883],\n",
       "         [0.41578883],\n",
       "         [0.00391475],\n",
       "         [0.00391475],\n",
       "         [0.76758532],\n",
       "         [0.76758532],\n",
       "         [0.78007636],\n",
       "         [0.78007636],\n",
       "         [0.21190467],\n",
       "         [0.21190467],\n",
       "         [0.43353899],\n",
       "         [0.43353899],\n",
       "         [0.2498587 ],\n",
       "         [0.2498587 ],\n",
       "         [0.73264179],\n",
       "         [0.73264179],\n",
       "         [0.11711969],\n",
       "         [0.11711969],\n",
       "         [0.44402739],\n",
       "         [0.44402739],\n",
       "         [0.07127144],\n",
       "         [0.07127144],\n",
       "         [0.96678013],\n",
       "         [0.96678013],\n",
       "         [0.71871377],\n",
       "         [0.71871377],\n",
       "         [0.20647341],\n",
       "         [0.20647341],\n",
       "         [0.62041008],\n",
       "         [0.62041008],\n",
       "         [0.92049511],\n",
       "         [0.92049511],\n",
       "         [0.46405643],\n",
       "         [0.46405643],\n",
       "         [0.3046439 ],\n",
       "         [0.3046439 ],\n",
       "         [0.23278712],\n",
       "         [0.23278712],\n",
       "         [0.95958808],\n",
       "         [0.95958808],\n",
       "         [0.25894177],\n",
       "         [0.25894177],\n",
       "         [0.79831371],\n",
       "         [0.79831371],\n",
       "         [0.86940647],\n",
       "         [0.86940647],\n",
       "         [0.06557759],\n",
       "         [0.06557759],\n",
       "         [0.22785357],\n",
       "         [0.22785357],\n",
       "         [0.27849018],\n",
       "         [0.27849018],\n",
       "         [0.73044206],\n",
       "         [0.73044206],\n",
       "         [0.07547252],\n",
       "         [0.07547252],\n",
       "         [0.44113952],\n",
       "         [0.44113952],\n",
       "         [0.47984402],\n",
       "         [0.47984402],\n",
       "         [0.47607221],\n",
       "         [0.47607221]])}}"
      ]
     },
     "execution_count": 1,
     "metadata": {},
     "output_type": "execute_result"
    }
   ],
   "source": [
    "ds = load_by_id(run_id_a)\n",
    "ds.get_parameter_data('x1')"
   ]
  },
  {
   "cell_type": "code",
   "execution_count": null,
   "metadata": {},
   "outputs": [],
   "source": []
  }
 ],
 "metadata": {
  "kernelspec": {
   "display_name": "Python 3",
   "language": "python",
   "name": "python3"
  },
  "language_info": {
   "codemirror_mode": {
    "name": "ipython",
    "version": 3
   },
   "file_extension": ".py",
   "mimetype": "text/x-python",
   "name": "python",
   "nbconvert_exporter": "python",
   "pygments_lexer": "ipython3",
   "version": "3.7.9"
  },
  "nbsphinx": {
   "timeout": 600
  },
  "toc": {
   "base_numbering": 1,
   "nav_menu": {},
   "number_sections": true,
   "sideBar": true,
   "skip_h1_title": false,
   "title_cell": "Table of Contents",
   "title_sidebar": "Contents",
   "toc_cell": false,
   "toc_position": {},
   "toc_section_display": true,
   "toc_window_display": false
  },
  "varInspector": {
   "cols": {
    "lenName": 16,
    "lenType": 16,
    "lenVar": 40
   },
   "kernels_config": {
    "python": {
     "delete_cmd_postfix": "",
     "delete_cmd_prefix": "del ",
     "library": "var_list.py",
     "varRefreshCmd": "print(var_dic_list())"
    },
    "r": {
     "delete_cmd_postfix": ") ",
     "delete_cmd_prefix": "rm(",
     "library": "var_list.r",
     "varRefreshCmd": "cat(var_dic_list()) "
    }
   },
   "types_to_exclude": [
    "module",
    "function",
    "builtin_function_or_method",
    "instance",
    "_Feature"
   ],
   "window_display": false
  }
 },
 "nbformat": 4,
 "nbformat_minor": 2
}
