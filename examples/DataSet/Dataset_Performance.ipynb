{
 "cells": [
  {
   "cell_type": "markdown",
   "metadata": {},
   "source": [
    "# DataSet Performance\n",
    "\n",
    "This notebook shows the trade-off between inserting data into a database row-by-row and as binary blobs. Inserting the data row-by-row means that we have direct access to all the data and may perform queries directly on the values of the data. On the other hand, as we shall see, this is much slower than inserting the data directly as binary blobs."
   ]
  },
  {
   "cell_type": "markdown",
   "metadata": {},
   "source": [
    "First, we choose a new location for the database to ensure that we don't add a bunch of benchmarking data to the default one."
   ]
  },
  {
   "cell_type": "code",
   "execution_count": 1,
   "metadata": {},
   "outputs": [
    {
     "name": "stdout",
     "output_type": "stream",
     "text": [
      "Logging hadn't been started.\n",
      "Activating auto-logging. Current session state plus future input saved.\n",
      "Filename       : /home/vsts/.qcodes/logs/command_history.log\n",
      "Mode           : append\n",
      "Output logging : True\n",
      "Raw input log  : False\n",
      "Timestamping   : True\n",
      "State          : active\n"
     ]
    },
    {
     "name": "stdout",
     "output_type": "stream",
     "text": [
      "Qcodes Logfile : /home/vsts/.qcodes/logs/200630-19062-qcodes.log\n"
     ]
    }
   ],
   "source": [
    "import os\n",
    "cwd = os.getcwd()\n",
    "import qcodes as qc\n",
    "qc.config[\"core\"][\"db_location\"] = os.path.join(cwd, 'testing.db')\n"
   ]
  },
  {
   "cell_type": "code",
   "execution_count": 2,
   "metadata": {},
   "outputs": [],
   "source": [
    "%matplotlib inline\n",
    "import time\n",
    "import matplotlib.pyplot as plt\n",
    "import numpy as np\n",
    "\n",
    "import qcodes as qc\n",
    "from qcodes.instrument.parameter import ManualParameter\n",
    "from qcodes.dataset.experiment_container import (Experiment,\n",
    "                                                 load_last_experiment,\n",
    "                                                 new_experiment)\n",
    "from qcodes.dataset.sqlite.database import initialise_database\n",
    "from qcodes import load_or_create_experiment\n",
    "from qcodes.dataset.measurements import Measurement"
   ]
  },
  {
   "cell_type": "code",
   "execution_count": 3,
   "metadata": {},
   "outputs": [
    {
     "name": "stdout",
     "output_type": "stream",
     "text": [
      "\r",
      "0it [00:00, ?it/s]"
     ]
    },
    {
     "name": "stdout",
     "output_type": "stream",
     "text": [
      "\r",
      "Upgrading database; v0 -> v1: : 0it [00:00, ?it/s]"
     ]
    },
    {
     "name": "stdout",
     "output_type": "stream",
     "text": [
      "\r",
      "Upgrading database; v0 -> v1: : 0it [00:00, ?it/s]"
     ]
    },
    {
     "name": "stdout",
     "output_type": "stream",
     "text": [
      "\n",
      "\r",
      "  0%|          | 0/1 [00:00<?, ?it/s]"
     ]
    },
    {
     "name": "stdout",
     "output_type": "stream",
     "text": [
      "\r",
      "Upgrading database; v1 -> v2:   0%|          | 0/1 [00:00<?, ?it/s]"
     ]
    },
    {
     "name": "stdout",
     "output_type": "stream",
     "text": [
      "\r",
      "Upgrading database; v1 -> v2: 100%|██████████| 1/1 [00:00<00:00, 746.72it/s]"
     ]
    },
    {
     "name": "stdout",
     "output_type": "stream",
     "text": [
      "\n",
      "\r",
      "0it [00:00, ?it/s]"
     ]
    },
    {
     "name": "stdout",
     "output_type": "stream",
     "text": [
      "\r",
      "Upgrading database; v2 -> v3: : 0it [00:00, ?it/s]"
     ]
    },
    {
     "name": "stdout",
     "output_type": "stream",
     "text": [
      "\r",
      "Upgrading database; v2 -> v3: : 0it [00:00, ?it/s]"
     ]
    },
    {
     "name": "stdout",
     "output_type": "stream",
     "text": [
      "\n",
      "\r",
      "0it [00:00, ?it/s]"
     ]
    },
    {
     "name": "stdout",
     "output_type": "stream",
     "text": [
      "\r",
      "Upgrading database; v3 -> v4: : 0it [00:00, ?it/s]"
     ]
    },
    {
     "name": "stdout",
     "output_type": "stream",
     "text": [
      "\r",
      "Upgrading database; v3 -> v4: : 0it [00:00, ?it/s]"
     ]
    },
    {
     "name": "stdout",
     "output_type": "stream",
     "text": [
      "\n",
      "\r",
      "  0%|          | 0/1 [00:00<?, ?it/s]"
     ]
    },
    {
     "name": "stdout",
     "output_type": "stream",
     "text": [
      "\r",
      "Upgrading database; v4 -> v5:   0%|          | 0/1 [00:00<?, ?it/s]"
     ]
    },
    {
     "name": "stdout",
     "output_type": "stream",
     "text": [
      "\r",
      "Upgrading database; v4 -> v5: 100%|██████████| 1/1 [00:00<00:00, 1008.00it/s]"
     ]
    },
    {
     "name": "stdout",
     "output_type": "stream",
     "text": [
      "\n",
      "\r",
      "0it [00:00, ?it/s]"
     ]
    },
    {
     "name": "stdout",
     "output_type": "stream",
     "text": [
      "\r",
      "Upgrading database; v5 -> v6: : 0it [00:00, ?it/s]"
     ]
    },
    {
     "name": "stdout",
     "output_type": "stream",
     "text": [
      "\r",
      "Upgrading database; v5 -> v6: : 0it [00:00, ?it/s]"
     ]
    },
    {
     "name": "stdout",
     "output_type": "stream",
     "text": [
      "\n",
      "\r",
      "  0%|          | 0/1 [00:00<?, ?it/s]"
     ]
    },
    {
     "name": "stdout",
     "output_type": "stream",
     "text": [
      "\r",
      "Upgrading database; v6 -> v7:   0%|          | 0/1 [00:00<?, ?it/s]"
     ]
    },
    {
     "name": "stdout",
     "output_type": "stream",
     "text": [
      "\r",
      "Upgrading database; v6 -> v7: 100%|██████████| 1/1 [00:00<00:00, 451.58it/s]"
     ]
    },
    {
     "name": "stdout",
     "output_type": "stream",
     "text": [
      "\n",
      "\r",
      "  0%|          | 0/1 [00:00<?, ?it/s]"
     ]
    },
    {
     "name": "stdout",
     "output_type": "stream",
     "text": [
      "\r",
      "Upgrading database; v7 -> v8:   0%|          | 0/1 [00:00<?, ?it/s]"
     ]
    },
    {
     "name": "stdout",
     "output_type": "stream",
     "text": [
      "\r",
      "Upgrading database; v7 -> v8: 100%|██████████| 1/1 [00:00<00:00, 839.36it/s]"
     ]
    },
    {
     "name": "stdout",
     "output_type": "stream",
     "text": [
      "\n",
      "\r",
      "  0%|          | 0/1 [00:00<?, ?it/s]"
     ]
    },
    {
     "name": "stdout",
     "output_type": "stream",
     "text": [
      "\r",
      "Upgrading database; v8 -> v9:   0%|          | 0/1 [00:00<?, ?it/s]"
     ]
    },
    {
     "name": "stdout",
     "output_type": "stream",
     "text": [
      "\r",
      "Upgrading database; v8 -> v9: 100%|██████████| 1/1 [00:00<00:00, 1098.85it/s]"
     ]
    },
    {
     "name": "stdout",
     "output_type": "stream",
     "text": [
      "\n"
     ]
    }
   ],
   "source": [
    "initialise_database()\n",
    "exp = load_or_create_experiment(experiment_name='tutorial_exp', sample_name=\"no sample\")"
   ]
  },
  {
   "cell_type": "markdown",
   "metadata": {},
   "source": [
    "Here, we define a simple function to benchmark the time it takes to insert n points with either numeric or array data type.\n",
    "We will compare both the time used to call ``add_result`` and the time used for the full measurement."
   ]
  },
  {
   "cell_type": "code",
   "execution_count": 4,
   "metadata": {},
   "outputs": [],
   "source": [
    "def insert_data(paramtype, npoints, nreps=1):\n",
    "\n",
    "    meas = Measurement(exp=exp)\n",
    "\n",
    "    x1 = ManualParameter('x1')\n",
    "    x2 = ManualParameter('x2')\n",
    "    x3 = ManualParameter('x3')\n",
    "    y1 = ManualParameter('y1')\n",
    "    y2 = ManualParameter('y2')\n",
    "\n",
    "    meas.register_parameter(x1, paramtype=paramtype)\n",
    "    meas.register_parameter(x2, paramtype=paramtype)\n",
    "    meas.register_parameter(x3, paramtype=paramtype)\n",
    "    meas.register_parameter(y1, setpoints=[x1, x2, x3],\n",
    "                            paramtype=paramtype)\n",
    "    meas.register_parameter(y2, setpoints=[x1, x2, x3],\n",
    "                            paramtype=paramtype)\n",
    "    start = time.perf_counter()\n",
    "    with meas.run() as datasaver:\n",
    "        start_adding = time.perf_counter()\n",
    "        for i in range(nreps):\n",
    "            datasaver.add_result((x1, np.random.rand(npoints)),\n",
    "                                 (x2, np.random.rand(npoints)),\n",
    "                                 (x3, np.random.rand(npoints)),\n",
    "                                 (y1, np.random.rand(npoints)),\n",
    "                                 (y2, np.random.rand(npoints)))\n",
    "        stop_adding = time.perf_counter()\n",
    "        run_id = datasaver.run_id\n",
    "    stop = time.perf_counter()\n",
    "    tot_time = stop - start\n",
    "    add_time = stop_adding - start_adding\n",
    "    return tot_time, add_time, run_id"
   ]
  },
  {
   "cell_type": "markdown",
   "metadata": {},
   "source": [
    "## Comparison between numeric/array data and binary blob"
   ]
  },
  {
   "cell_type": "markdown",
   "metadata": {},
   "source": [
    "### Case1: Short experiment time"
   ]
  },
  {
   "cell_type": "code",
   "execution_count": 5,
   "metadata": {},
   "outputs": [
    {
     "name": "stdout",
     "output_type": "stream",
     "text": [
      "Starting experimental run with id: 1. \n",
      "Starting experimental run with id: 2. \n",
      "Starting experimental run with id: 3. \n",
      "Starting experimental run with id: 4. \n"
     ]
    },
    {
     "name": "stdout",
     "output_type": "stream",
     "text": [
      "Starting experimental run with id: 5. \n"
     ]
    },
    {
     "name": "stdout",
     "output_type": "stream",
     "text": [
      "Starting experimental run with id: 6. \n",
      "Starting experimental run with id: 7. \n"
     ]
    },
    {
     "name": "stdout",
     "output_type": "stream",
     "text": [
      "Starting experimental run with id: 8. \n",
      "Starting experimental run with id: 9. \n"
     ]
    },
    {
     "name": "stdout",
     "output_type": "stream",
     "text": [
      "Starting experimental run with id: 10. \n",
      "Starting experimental run with id: 11. \n"
     ]
    },
    {
     "name": "stdout",
     "output_type": "stream",
     "text": [
      "Starting experimental run with id: 12. \n",
      "Starting experimental run with id: 13. \n"
     ]
    },
    {
     "name": "stdout",
     "output_type": "stream",
     "text": [
      "Starting experimental run with id: 14. \n"
     ]
    }
   ],
   "source": [
    "sizes = [1,500,1000,2000,3000,4000,5000]\n",
    "t_numeric = []\n",
    "t_numeric_add = []\n",
    "t_array = []\n",
    "t_array_add = []\n",
    "for size in sizes:\n",
    "    tn, tna, run_id_n =  insert_data('numeric', size)\n",
    "    t_numeric.append(tn)\n",
    "    t_numeric_add.append(tna)\n",
    "\n",
    "    ta, taa, run_id_a =  insert_data('array', size)\n",
    "    t_array.append(ta)\n",
    "    t_array_add.append(taa)"
   ]
  },
  {
   "cell_type": "code",
   "execution_count": 6,
   "metadata": {},
   "outputs": [
    {
     "data": {
      "image/png": "[encoded data removed]",
      "text/plain": [
       "<Figure size 432x288 with 1 Axes>"
      ]
     },
     "metadata": {
      "needs_background": "light"
     },
     "output_type": "display_data"
    }
   ],
   "source": [
    "fig, ax = plt.subplots(1,1)\n",
    "ax.plot(sizes, t_numeric, 'o-', label='Inserting row-by-row')\n",
    "ax.plot(sizes, t_numeric_add, 'o-', label='Inserting row-by-row: add_result only')\n",
    "ax.plot(sizes, t_array, 'd-', label='Inserting as binary blob')\n",
    "ax.plot(sizes, t_array_add, 'd-', label='Inserting as binary blob: add_result only')\n",
    "ax.legend()\n",
    "ax.set_xlabel('Array length')\n",
    "ax.set_ylabel('Time (s)')\n",
    "fig.tight_layout()"
   ]
  },
  {
   "cell_type": "markdown",
   "metadata": {},
   "source": [
    "As shown in the latter figure, the time to setup and and close the experiment is approximately 0.4 sec. In case of small array sizes, the difference between inserting values of data as arrays and inserting them row-by-row is relatively unimportant. At larger array sizes, i.e. above 10000 points, the cost of writing data as individual datapoints starts to become important.\n"
   ]
  },
  {
   "cell_type": "markdown",
   "metadata": {},
   "source": [
    "### Case2: Long experiment time "
   ]
  },
  {
   "cell_type": "code",
   "execution_count": 7,
   "metadata": {},
   "outputs": [
    {
     "name": "stdout",
     "output_type": "stream",
     "text": [
      "Starting experimental run with id: 15. \n",
      "Starting experimental run with id: 16. \n",
      "Starting experimental run with id: 17. \n"
     ]
    },
    {
     "name": "stdout",
     "output_type": "stream",
     "text": [
      "Starting experimental run with id: 18. \n",
      "Starting experimental run with id: 19. \n"
     ]
    },
    {
     "name": "stdout",
     "output_type": "stream",
     "text": [
      "Starting experimental run with id: 20. \n"
     ]
    },
    {
     "name": "stdout",
     "output_type": "stream",
     "text": [
      "Starting experimental run with id: 21. \n"
     ]
    },
    {
     "name": "stdout",
     "output_type": "stream",
     "text": [
      "Starting experimental run with id: 22. \n"
     ]
    },
    {
     "name": "stdout",
     "output_type": "stream",
     "text": [
      "Starting experimental run with id: 23. \n"
     ]
    },
    {
     "name": "stdout",
     "output_type": "stream",
     "text": [
      "Starting experimental run with id: 24. \n"
     ]
    },
    {
     "name": "stdout",
     "output_type": "stream",
     "text": [
      "Starting experimental run with id: 25. \n"
     ]
    },
    {
     "name": "stdout",
     "output_type": "stream",
     "text": [
      "Starting experimental run with id: 26. \n"
     ]
    },
    {
     "name": "stdout",
     "output_type": "stream",
     "text": [
      "Starting experimental run with id: 27. \n"
     ]
    },
    {
     "name": "stdout",
     "output_type": "stream",
     "text": [
      "Starting experimental run with id: 28. \n"
     ]
    }
   ],
   "source": [
    "sizes = [1,500,1000,2000,3000,4000,5000]\n",
    "nreps = 100\n",
    "t_numeric = []\n",
    "t_numeric_add = []\n",
    "t_numeric_run_ids = []\n",
    "t_array = []\n",
    "t_array_add = []\n",
    "t_array_run_ids = []\n",
    "for size in sizes:\n",
    "    tn, tna, run_id_n =  insert_data('numeric', size, nreps=nreps)\n",
    "    t_numeric.append(tn)\n",
    "    t_numeric_add.append(tna)\n",
    "    t_numeric_run_ids.append(run_id_n)\n",
    "\n",
    "    ta, taa, run_id_a =  insert_data('array', size, nreps=nreps)\n",
    "    t_array.append(ta)\n",
    "    t_array_add.append(taa)\n",
    "    t_array_run_ids.append(run_id_a)"
   ]
  },
  {
   "cell_type": "code",
   "execution_count": 8,
   "metadata": {
    "scrolled": true
   },
   "outputs": [
    {
     "data": {
      "image/png": "[encoded data removed]",
      "text/plain": [
       "<Figure size 432x288 with 1 Axes>"
      ]
     },
     "metadata": {
      "needs_background": "light"
     },
     "output_type": "display_data"
    }
   ],
   "source": [
    "fig, ax = plt.subplots(1,1)\n",
    "ax.plot(sizes, t_numeric, 'o-', label='Inserting row-by-row')\n",
    "ax.plot(sizes, t_numeric_add, 'o-', label='Inserting row-by-row: add_result only')\n",
    "ax.plot(sizes, t_array, 'd-', label='Inserting as binary blob')\n",
    "ax.plot(sizes, t_array_add, 'd-', label='Inserting as binary blob: add_result only')\n",
    "ax.legend()\n",
    "ax.set_xlabel('Array length')\n",
    "ax.set_ylabel('Time (s)')\n",
    "fig.tight_layout()"
   ]
  },
  {
   "cell_type": "markdown",
   "metadata": {},
   "source": [
    "However, as we increase the length of the experiment, as seen here by repeating the insertion 100 times, we see a big difference between inserting values of the data row-by-row and inserting it as a binary blob."
   ]
  },
  {
   "cell_type": "markdown",
   "metadata": {},
   "source": [
    "## Loading the data "
   ]
  },
  {
   "cell_type": "code",
   "execution_count": 9,
   "metadata": {},
   "outputs": [],
   "source": [
    "from qcodes.dataset.data_set import load_by_id\n",
    "from qcodes.dataset.data_export import get_data_by_id"
   ]
  },
  {
   "cell_type": "markdown",
   "metadata": {},
   "source": [
    "As usual you can load the data by using the ``load_by_id`` function but you will notice that the different storage methods\n",
    "are reflected in shape of the data as it is retrieved. "
   ]
  },
  {
   "cell_type": "code",
   "execution_count": 10,
   "metadata": {},
   "outputs": [],
   "source": [
    "run_id_n = t_numeric_run_ids[0]\n",
    "run_id_a = t_array_run_ids[0]"
   ]
  },
  {
   "cell_type": "code",
   "execution_count": 11,
   "metadata": {
    "scrolled": true
   },
   "outputs": [
    {
     "data": {
      "text/plain": [
       "{'x1': {'x1': array([0.73603118, 0.73603118, 0.3006178 , 0.3006178 , 0.97970331,\n",
       "         0.97970331, 0.17714223, 0.17714223, 0.69081378, 0.69081378,\n",
       "         0.44154672, 0.44154672, 0.10365857, 0.10365857, 0.6304621 ,\n",
       "         0.6304621 , 0.78237298, 0.78237298, 0.1581628 , 0.1581628 ,\n",
       "         0.33761723, 0.33761723, 0.40345101, 0.40345101, 0.20558151,\n",
       "         0.20558151, 0.53020741, 0.53020741, 0.14962901, 0.14962901,\n",
       "         0.29350787, 0.29350787, 0.98834533, 0.98834533, 0.47122844,\n",
       "         0.47122844, 0.91521665, 0.91521665, 0.31070811, 0.31070811,\n",
       "         0.07088718, 0.07088718, 0.90962466, 0.90962466, 0.40206208,\n",
       "         0.40206208, 0.4319876 , 0.4319876 , 0.86957084, 0.86957084,\n",
       "         0.9277285 , 0.9277285 , 0.30690701, 0.30690701, 0.99591488,\n",
       "         0.99591488, 0.77649601, 0.77649601, 0.16542545, 0.16542545,\n",
       "         0.68483743, 0.68483743, 0.601139  , 0.601139  , 0.66697968,\n",
       "         0.66697968, 0.04143598, 0.04143598, 0.90799639, 0.90799639,\n",
       "         0.24175671, 0.24175671, 0.03579083, 0.03579083, 0.22957154,\n",
       "         0.22957154, 0.94144317, 0.94144317, 0.19749462, 0.19749462,\n",
       "         0.54906224, 0.54906224, 0.82024035, 0.82024035, 0.7891782 ,\n",
       "         0.7891782 , 0.6908537 , 0.6908537 , 0.6351629 , 0.6351629 ,\n",
       "         0.25312413, 0.25312413, 0.79268799, 0.79268799, 0.40617435,\n",
       "         0.40617435, 0.92894605, 0.92894605, 0.84459615, 0.84459615,\n",
       "         0.12168631, 0.12168631, 0.31639935, 0.31639935, 0.94052223,\n",
       "         0.94052223, 0.62813601, 0.62813601, 0.14032627, 0.14032627,\n",
       "         0.1657272 , 0.1657272 , 0.70811112, 0.70811112, 0.29653661,\n",
       "         0.29653661, 0.35922833, 0.35922833, 0.97897642, 0.97897642,\n",
       "         0.55903088, 0.55903088, 0.91736768, 0.91736768, 0.96413966,\n",
       "         0.96413966, 0.00121565, 0.00121565, 0.39756775, 0.39756775,\n",
       "         0.72267335, 0.72267335, 0.78649926, 0.78649926, 0.75101498,\n",
       "         0.75101498, 0.1798334 , 0.1798334 , 0.71229327, 0.71229327,\n",
       "         0.7305444 , 0.7305444 , 0.54334596, 0.54334596, 0.78709007,\n",
       "         0.78709007, 0.8673104 , 0.8673104 , 0.81269951, 0.81269951,\n",
       "         0.65427316, 0.65427316, 0.96707715, 0.96707715, 0.11218109,\n",
       "         0.11218109, 0.21332265, 0.21332265, 0.27875607, 0.27875607,\n",
       "         0.155099  , 0.155099  , 0.01343545, 0.01343545, 0.07472641,\n",
       "         0.07472641, 0.54513668, 0.54513668, 0.1831784 , 0.1831784 ,\n",
       "         0.10495459, 0.10495459, 0.2759594 , 0.2759594 , 0.93621006,\n",
       "         0.93621006, 0.85344456, 0.85344456, 0.71609798, 0.71609798,\n",
       "         0.66697612, 0.66697612, 0.45092201, 0.45092201, 0.5402536 ,\n",
       "         0.5402536 , 0.88011461, 0.88011461, 0.59114471, 0.59114471,\n",
       "         0.08812087, 0.08812087, 0.87514605, 0.87514605, 0.77818355,\n",
       "         0.77818355, 0.21625118, 0.21625118, 0.29436093, 0.29436093])}}"
      ]
     },
     "execution_count": 11,
     "metadata": {},
     "output_type": "execute_result"
    }
   ],
   "source": [
    "ds = load_by_id(run_id_n)\n",
    "ds.get_parameter_data('x1')"
   ]
  },
  {
   "cell_type": "markdown",
   "metadata": {},
   "source": [
    "And a dataset stored as binary arrays"
   ]
  },
  {
   "cell_type": "code",
   "execution_count": 12,
   "metadata": {
    "scrolled": true
   },
   "outputs": [
    {
     "data": {
      "text/plain": [
       "{'x1': {'x1': array([[0.41258465],\n",
       "         [0.41258465],\n",
       "         [0.09490747],\n",
       "         [0.09490747],\n",
       "         [0.3265037 ],\n",
       "         [0.3265037 ],\n",
       "         [0.38993299],\n",
       "         [0.38993299],\n",
       "         [0.81320098],\n",
       "         [0.81320098],\n",
       "         [0.9341787 ],\n",
       "         [0.9341787 ],\n",
       "         [0.55563168],\n",
       "         [0.55563168],\n",
       "         [0.40502731],\n",
       "         [0.40502731],\n",
       "         [0.18332182],\n",
       "         [0.18332182],\n",
       "         [0.09458923],\n",
       "         [0.09458923],\n",
       "         [0.02952914],\n",
       "         [0.02952914],\n",
       "         [0.83462419],\n",
       "         [0.83462419],\n",
       "         [0.19463827],\n",
       "         [0.19463827],\n",
       "         [0.40171358],\n",
       "         [0.40171358],\n",
       "         [0.48390008],\n",
       "         [0.48390008],\n",
       "         [0.57183721],\n",
       "         [0.57183721],\n",
       "         [0.78208881],\n",
       "         [0.78208881],\n",
       "         [0.67016038],\n",
       "         [0.67016038],\n",
       "         [0.81295469],\n",
       "         [0.81295469],\n",
       "         [0.32557727],\n",
       "         [0.32557727],\n",
       "         [0.48576834],\n",
       "         [0.48576834],\n",
       "         [0.90259485],\n",
       "         [0.90259485],\n",
       "         [0.57537287],\n",
       "         [0.57537287],\n",
       "         [0.7392962 ],\n",
       "         [0.7392962 ],\n",
       "         [0.82386722],\n",
       "         [0.82386722],\n",
       "         [0.45616178],\n",
       "         [0.45616178],\n",
       "         [0.43321731],\n",
       "         [0.43321731],\n",
       "         [0.62445105],\n",
       "         [0.62445105],\n",
       "         [0.55177214],\n",
       "         [0.55177214],\n",
       "         [0.01677272],\n",
       "         [0.01677272],\n",
       "         [0.18126522],\n",
       "         [0.18126522],\n",
       "         [0.14704156],\n",
       "         [0.14704156],\n",
       "         [0.70045925],\n",
       "         [0.70045925],\n",
       "         [0.71059079],\n",
       "         [0.71059079],\n",
       "         [0.63565128],\n",
       "         [0.63565128],\n",
       "         [0.54967542],\n",
       "         [0.54967542],\n",
       "         [0.09040659],\n",
       "         [0.09040659],\n",
       "         [0.53058723],\n",
       "         [0.53058723],\n",
       "         [0.33876047],\n",
       "         [0.33876047],\n",
       "         [0.76445616],\n",
       "         [0.76445616],\n",
       "         [0.53540906],\n",
       "         [0.53540906],\n",
       "         [0.13090333],\n",
       "         [0.13090333],\n",
       "         [0.30365705],\n",
       "         [0.30365705],\n",
       "         [0.23224246],\n",
       "         [0.23224246],\n",
       "         [0.27844368],\n",
       "         [0.27844368],\n",
       "         [0.65556277],\n",
       "         [0.65556277],\n",
       "         [0.37354124],\n",
       "         [0.37354124],\n",
       "         [0.41259005],\n",
       "         [0.41259005],\n",
       "         [0.2861629 ],\n",
       "         [0.2861629 ],\n",
       "         [0.09448808],\n",
       "         [0.09448808],\n",
       "         [0.86009094],\n",
       "         [0.86009094],\n",
       "         [0.96150146],\n",
       "         [0.96150146],\n",
       "         [0.39794059],\n",
       "         [0.39794059],\n",
       "         [0.16847288],\n",
       "         [0.16847288],\n",
       "         [0.23277285],\n",
       "         [0.23277285],\n",
       "         [0.14339624],\n",
       "         [0.14339624],\n",
       "         [0.34467352],\n",
       "         [0.34467352],\n",
       "         [0.32716305],\n",
       "         [0.32716305],\n",
       "         [0.83592629],\n",
       "         [0.83592629],\n",
       "         [0.06746635],\n",
       "         [0.06746635],\n",
       "         [0.61014731],\n",
       "         [0.61014731],\n",
       "         [0.28617393],\n",
       "         [0.28617393],\n",
       "         [0.07139395],\n",
       "         [0.07139395],\n",
       "         [0.68632307],\n",
       "         [0.68632307],\n",
       "         [0.33408367],\n",
       "         [0.33408367],\n",
       "         [0.41271153],\n",
       "         [0.41271153],\n",
       "         [0.42650533],\n",
       "         [0.42650533],\n",
       "         [0.14068487],\n",
       "         [0.14068487],\n",
       "         [0.39666552],\n",
       "         [0.39666552],\n",
       "         [0.77973396],\n",
       "         [0.77973396],\n",
       "         [0.80238851],\n",
       "         [0.80238851],\n",
       "         [0.98869087],\n",
       "         [0.98869087],\n",
       "         [0.2230667 ],\n",
       "         [0.2230667 ],\n",
       "         [0.95851154],\n",
       "         [0.95851154],\n",
       "         [0.9362508 ],\n",
       "         [0.9362508 ],\n",
       "         [0.72640611],\n",
       "         [0.72640611],\n",
       "         [0.36085453],\n",
       "         [0.36085453],\n",
       "         [0.08405685],\n",
       "         [0.08405685],\n",
       "         [0.77824331],\n",
       "         [0.77824331],\n",
       "         [0.76240055],\n",
       "         [0.76240055],\n",
       "         [0.86442341],\n",
       "         [0.86442341],\n",
       "         [0.23547662],\n",
       "         [0.23547662],\n",
       "         [0.88102139],\n",
       "         [0.88102139],\n",
       "         [0.43378401],\n",
       "         [0.43378401],\n",
       "         [0.45128957],\n",
       "         [0.45128957],\n",
       "         [0.51197359],\n",
       "         [0.51197359],\n",
       "         [0.07200426],\n",
       "         [0.07200426],\n",
       "         [0.16746941],\n",
       "         [0.16746941],\n",
       "         [0.84450041],\n",
       "         [0.84450041],\n",
       "         [0.40133426],\n",
       "         [0.40133426],\n",
       "         [0.80569845],\n",
       "         [0.80569845],\n",
       "         [0.99817039],\n",
       "         [0.99817039],\n",
       "         [0.94216553],\n",
       "         [0.94216553],\n",
       "         [0.95099795],\n",
       "         [0.95099795],\n",
       "         [0.0785863 ],\n",
       "         [0.0785863 ],\n",
       "         [0.94795131],\n",
       "         [0.94795131],\n",
       "         [0.6447454 ],\n",
       "         [0.6447454 ],\n",
       "         [0.70903823],\n",
       "         [0.70903823],\n",
       "         [0.74275783],\n",
       "         [0.74275783],\n",
       "         [0.29028067],\n",
       "         [0.29028067]])}}"
      ]
     },
     "execution_count": 12,
     "metadata": {},
     "output_type": "execute_result"
    }
   ],
   "source": [
    "ds = load_by_id(run_id_a)\n",
    "ds.get_parameter_data('x1')"
   ]
  },
  {
   "cell_type": "code",
   "execution_count": null,
   "metadata": {},
   "outputs": [],
   "source": []
  }
 ],
 "metadata": {
  "kernelspec": {
   "display_name": "Python 3",
   "language": "python",
   "name": "python3"
  },
  "language_info": {
   "codemirror_mode": {
    "name": "ipython",
    "version": 3
   },
   "file_extension": ".py",
   "mimetype": "text/x-python",
   "name": "python",
   "nbconvert_exporter": "python",
   "pygments_lexer": "ipython3",
   "version": "3.7.7"
  },
  "nbsphinx": {
   "timeout": 600
  },
  "toc": {
   "base_numbering": 1,
   "nav_menu": {},
   "number_sections": true,
   "sideBar": true,
   "skip_h1_title": false,
   "title_cell": "Table of Contents",
   "title_sidebar": "Contents",
   "toc_cell": false,
   "toc_position": {},
   "toc_section_display": true,
   "toc_window_display": false
  },
  "varInspector": {
   "cols": {
    "lenName": 16,
    "lenType": 16,
    "lenVar": 40
   },
   "kernels_config": {
    "python": {
     "delete_cmd_postfix": "",
     "delete_cmd_prefix": "del ",
     "library": "var_list.py",
     "varRefreshCmd": "print(var_dic_list())"
    },
    "r": {
     "delete_cmd_postfix": ") ",
     "delete_cmd_prefix": "rm(",
     "library": "var_list.r",
     "varRefreshCmd": "cat(var_dic_list()) "
    }
   },
   "types_to_exclude": [
    "module",
    "function",
    "builtin_function_or_method",
    "instance",
    "_Feature"
   ],
   "window_display": false
  }
 },
 "nbformat": 4,
 "nbformat_minor": 2
}
