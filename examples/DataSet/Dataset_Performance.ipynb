{
 "cells": [
  {
   "cell_type": "markdown",
   "metadata": {},
   "source": [
    "# DataSet Performance\n",
    "\n",
    "This notebook shows the trade-off between inserting data into a database row-by-row and as binary blobs. Inserting the data row-by-row means that we have direct access to all the data and may perform queries directly on the values of the data. On the other hand, as we shall see, this is much slower than inserting the data directly as binary blobs."
   ]
  },
  {
   "cell_type": "markdown",
   "metadata": {},
   "source": [
    "First, we choose a new location for the database to ensure that we don't add a bunch of benchmarking data to the default one."
   ]
  },
  {
   "cell_type": "code",
   "execution_count": 1,
   "metadata": {
    "execution": {
     "iopub.execute_input": "2021-01-08T18:43:33.278896Z",
     "iopub.status.busy": "2021-01-08T18:43:33.278439Z",
     "iopub.status.idle": "2021-01-08T18:43:34.193939Z",
     "shell.execute_reply": "2021-01-08T18:43:34.194361Z"
    }
   },
   "outputs": [
    {
     "name": "stdout",
     "output_type": "stream",
     "text": [
      "Logging hadn't been started.\n",
      "Activating auto-logging. Current session state plus future input saved.\n",
      "Filename       : /home/vsts/.qcodes/logs/command_history.log\n",
      "Mode           : append\n",
      "Output logging : True\n",
      "Raw input log  : False\n",
      "Timestamping   : True\n",
      "State          : active\n"
     ]
    },
    {
     "name": "stdout",
     "output_type": "stream",
     "text": [
      "Qcodes Logfile : /home/vsts/.qcodes/logs/210108-13509-qcodes.log\n"
     ]
    }
   ],
   "source": [
    "import os\n",
    "cwd = os.getcwd()\n",
    "import qcodes as qc\n",
    "qc.config[\"core\"][\"db_location\"] = os.path.join(cwd, 'testing.db')\n"
   ]
  },
  {
   "cell_type": "code",
   "execution_count": 2,
   "metadata": {
    "execution": {
     "iopub.execute_input": "2021-01-08T18:43:34.200232Z",
     "iopub.status.busy": "2021-01-08T18:43:34.199372Z",
     "iopub.status.idle": "2021-01-08T18:43:34.358900Z",
     "shell.execute_reply": "2021-01-08T18:43:34.358369Z"
    }
   },
   "outputs": [],
   "source": [
    "%matplotlib inline\n",
    "import time\n",
    "import matplotlib.pyplot as plt\n",
    "import numpy as np\n",
    "\n",
    "import qcodes as qc\n",
    "from qcodes.instrument.parameter import ManualParameter\n",
    "from qcodes.dataset.experiment_container import (Experiment,\n",
    "                                                 load_last_experiment,\n",
    "                                                 new_experiment)\n",
    "from qcodes.dataset.sqlite.database import initialise_database\n",
    "from qcodes import load_or_create_experiment\n",
    "from qcodes.dataset.measurements import Measurement"
   ]
  },
  {
   "cell_type": "code",
   "execution_count": 3,
   "metadata": {
    "execution": {
     "iopub.execute_input": "2021-01-08T18:43:34.362166Z",
     "iopub.status.busy": "2021-01-08T18:43:34.361676Z",
     "iopub.status.idle": "2021-01-08T18:43:34.466694Z",
     "shell.execute_reply": "2021-01-08T18:43:34.466189Z"
    }
   },
   "outputs": [
    {
     "name": "stdout",
     "output_type": "stream",
     "text": [
      "\r",
      "0it [00:00, ?it/s]"
     ]
    },
    {
     "name": "stdout",
     "output_type": "stream",
     "text": [
      "\r",
      "Upgrading database; v0 -> v1: : 0it [00:00, ?it/s]"
     ]
    },
    {
     "name": "stdout",
     "output_type": "stream",
     "text": [
      "\r",
      "Upgrading database; v0 -> v1: : 0it [00:00, ?it/s]"
     ]
    },
    {
     "name": "stdout",
     "output_type": "stream",
     "text": [
      "\n",
      "\r",
      "  0%|          | 0/1 [00:00<?, ?it/s]"
     ]
    },
    {
     "name": "stdout",
     "output_type": "stream",
     "text": [
      "\r",
      "Upgrading database; v1 -> v2:   0%|          | 0/1 [00:00<?, ?it/s]"
     ]
    },
    {
     "name": "stdout",
     "output_type": "stream",
     "text": [
      "\r",
      "Upgrading database; v1 -> v2: 100%|██████████| 1/1 [00:00<00:00, 1428.58it/s]"
     ]
    },
    {
     "name": "stdout",
     "output_type": "stream",
     "text": [
      "\n",
      "\r",
      "0it [00:00, ?it/s]"
     ]
    },
    {
     "name": "stdout",
     "output_type": "stream",
     "text": [
      "\r",
      "Upgrading database; v2 -> v3: : 0it [00:00, ?it/s]"
     ]
    },
    {
     "name": "stdout",
     "output_type": "stream",
     "text": [
      "\r",
      "Upgrading database; v2 -> v3: : 0it [00:00, ?it/s]"
     ]
    },
    {
     "name": "stdout",
     "output_type": "stream",
     "text": [
      "\n",
      "\r",
      "0it [00:00, ?it/s]"
     ]
    },
    {
     "name": "stdout",
     "output_type": "stream",
     "text": [
      "\r",
      "Upgrading database; v3 -> v4: : 0it [00:00, ?it/s]"
     ]
    },
    {
     "name": "stdout",
     "output_type": "stream",
     "text": [
      "\r",
      "Upgrading database; v3 -> v4: : 0it [00:00, ?it/s]"
     ]
    },
    {
     "name": "stdout",
     "output_type": "stream",
     "text": [
      "\n",
      "\r",
      "  0%|          | 0/1 [00:00<?, ?it/s]"
     ]
    },
    {
     "name": "stdout",
     "output_type": "stream",
     "text": [
      "\r",
      "Upgrading database; v4 -> v5:   0%|          | 0/1 [00:00<?, ?it/s]"
     ]
    },
    {
     "name": "stdout",
     "output_type": "stream",
     "text": [
      "\r",
      "Upgrading database; v4 -> v5: 100%|██████████| 1/1 [00:00<00:00, 1279.14it/s]"
     ]
    },
    {
     "name": "stdout",
     "output_type": "stream",
     "text": [
      "\n",
      "\r",
      "0it [00:00, ?it/s]"
     ]
    },
    {
     "name": "stdout",
     "output_type": "stream",
     "text": [
      "\r",
      "Upgrading database; v5 -> v6: : 0it [00:00, ?it/s]"
     ]
    },
    {
     "name": "stdout",
     "output_type": "stream",
     "text": [
      "\r",
      "Upgrading database; v5 -> v6: : 0it [00:00, ?it/s]"
     ]
    },
    {
     "name": "stdout",
     "output_type": "stream",
     "text": [
      "\n",
      "\r",
      "  0%|          | 0/1 [00:00<?, ?it/s]"
     ]
    },
    {
     "name": "stdout",
     "output_type": "stream",
     "text": [
      "\r",
      "Upgrading database; v6 -> v7:   0%|          | 0/1 [00:00<?, ?it/s]"
     ]
    },
    {
     "name": "stdout",
     "output_type": "stream",
     "text": [
      "\r",
      "Upgrading database; v6 -> v7: 100%|██████████| 1/1 [00:00<00:00, 483.21it/s]"
     ]
    },
    {
     "name": "stdout",
     "output_type": "stream",
     "text": [
      "\n",
      "\r",
      "  0%|          | 0/1 [00:00<?, ?it/s]"
     ]
    },
    {
     "name": "stdout",
     "output_type": "stream",
     "text": [
      "\r",
      "Upgrading database; v7 -> v8:   0%|          | 0/1 [00:00<?, ?it/s]"
     ]
    },
    {
     "name": "stdout",
     "output_type": "stream",
     "text": [
      "\r",
      "Upgrading database; v7 -> v8: 100%|██████████| 1/1 [00:00<00:00, 532.95it/s]"
     ]
    },
    {
     "name": "stdout",
     "output_type": "stream",
     "text": [
      "\n",
      "\r",
      "  0%|          | 0/1 [00:00<?, ?it/s]"
     ]
    },
    {
     "name": "stdout",
     "output_type": "stream",
     "text": [
      "\r",
      "Upgrading database; v8 -> v9:   0%|          | 0/1 [00:00<?, ?it/s]"
     ]
    },
    {
     "name": "stdout",
     "output_type": "stream",
     "text": [
      "\r",
      "Upgrading database; v8 -> v9: 100%|██████████| 1/1 [00:00<00:00, 532.54it/s]"
     ]
    },
    {
     "name": "stdout",
     "output_type": "stream",
     "text": [
      "\n"
     ]
    }
   ],
   "source": [
    "initialise_database()\n",
    "exp = load_or_create_experiment(experiment_name='tutorial_exp', sample_name=\"no sample\")"
   ]
  },
  {
   "cell_type": "markdown",
   "metadata": {},
   "source": [
    "Here, we define a simple function to benchmark the time it takes to insert n points with either numeric or array data type.\n",
    "We will compare both the time used to call ``add_result`` and the time used for the full measurement."
   ]
  },
  {
   "cell_type": "code",
   "execution_count": 4,
   "metadata": {
    "execution": {
     "iopub.execute_input": "2021-01-08T18:43:34.473880Z",
     "iopub.status.busy": "2021-01-08T18:43:34.473422Z",
     "iopub.status.idle": "2021-01-08T18:43:34.476392Z",
     "shell.execute_reply": "2021-01-08T18:43:34.475921Z"
    }
   },
   "outputs": [],
   "source": [
    "def insert_data(paramtype, npoints, nreps=1):\n",
    "\n",
    "    meas = Measurement(exp=exp)\n",
    "\n",
    "    x1 = ManualParameter('x1')\n",
    "    x2 = ManualParameter('x2')\n",
    "    x3 = ManualParameter('x3')\n",
    "    y1 = ManualParameter('y1')\n",
    "    y2 = ManualParameter('y2')\n",
    "\n",
    "    meas.register_parameter(x1, paramtype=paramtype)\n",
    "    meas.register_parameter(x2, paramtype=paramtype)\n",
    "    meas.register_parameter(x3, paramtype=paramtype)\n",
    "    meas.register_parameter(y1, setpoints=[x1, x2, x3],\n",
    "                            paramtype=paramtype)\n",
    "    meas.register_parameter(y2, setpoints=[x1, x2, x3],\n",
    "                            paramtype=paramtype)\n",
    "    start = time.perf_counter()\n",
    "    with meas.run() as datasaver:\n",
    "        start_adding = time.perf_counter()\n",
    "        for i in range(nreps):\n",
    "            datasaver.add_result((x1, np.random.rand(npoints)),\n",
    "                                 (x2, np.random.rand(npoints)),\n",
    "                                 (x3, np.random.rand(npoints)),\n",
    "                                 (y1, np.random.rand(npoints)),\n",
    "                                 (y2, np.random.rand(npoints)))\n",
    "        stop_adding = time.perf_counter()\n",
    "        run_id = datasaver.run_id\n",
    "    stop = time.perf_counter()\n",
    "    tot_time = stop - start\n",
    "    add_time = stop_adding - start_adding\n",
    "    return tot_time, add_time, run_id"
   ]
  },
  {
   "cell_type": "markdown",
   "metadata": {},
   "source": [
    "## Comparison between numeric/array data and binary blob"
   ]
  },
  {
   "cell_type": "markdown",
   "metadata": {},
   "source": [
    "### Case1: Short experiment time"
   ]
  },
  {
   "cell_type": "code",
   "execution_count": 5,
   "metadata": {
    "execution": {
     "iopub.execute_input": "2021-01-08T18:43:34.482369Z",
     "iopub.status.busy": "2021-01-08T18:43:34.481605Z",
     "iopub.status.idle": "2021-01-08T18:43:35.219956Z",
     "shell.execute_reply": "2021-01-08T18:43:35.219463Z"
    }
   },
   "outputs": [
    {
     "name": "stdout",
     "output_type": "stream",
     "text": [
      "Starting experimental run with id: 1. \n",
      "Starting experimental run with id: 2. \n",
      "Starting experimental run with id: 3. \n",
      "Starting experimental run with id: 4. \n",
      "Starting experimental run with id: 5. \n",
      "Starting experimental run with id: 6. \n"
     ]
    },
    {
     "name": "stdout",
     "output_type": "stream",
     "text": [
      "Starting experimental run with id: 7. \n"
     ]
    },
    {
     "name": "stdout",
     "output_type": "stream",
     "text": [
      "Starting experimental run with id: 8. \n",
      "Starting experimental run with id: 9. \n"
     ]
    },
    {
     "name": "stdout",
     "output_type": "stream",
     "text": [
      "Starting experimental run with id: 10. \n"
     ]
    },
    {
     "name": "stdout",
     "output_type": "stream",
     "text": [
      "Starting experimental run with id: 11. \n"
     ]
    },
    {
     "name": "stdout",
     "output_type": "stream",
     "text": [
      "Starting experimental run with id: 12. \n",
      "Starting experimental run with id: 13. \n"
     ]
    },
    {
     "name": "stdout",
     "output_type": "stream",
     "text": [
      "Starting experimental run with id: 14. \n"
     ]
    }
   ],
   "source": [
    "sizes = [1,500,1000,2000,3000,4000,5000]\n",
    "t_numeric = []\n",
    "t_numeric_add = []\n",
    "t_array = []\n",
    "t_array_add = []\n",
    "for size in sizes:\n",
    "    tn, tna, run_id_n =  insert_data('numeric', size)\n",
    "    t_numeric.append(tn)\n",
    "    t_numeric_add.append(tna)\n",
    "\n",
    "    ta, taa, run_id_a =  insert_data('array', size)\n",
    "    t_array.append(ta)\n",
    "    t_array_add.append(taa)"
   ]
  },
  {
   "cell_type": "code",
   "execution_count": 6,
   "metadata": {
    "execution": {
     "iopub.execute_input": "2021-01-08T18:43:35.234801Z",
     "iopub.status.busy": "2021-01-08T18:43:35.234313Z",
     "iopub.status.idle": "2021-01-08T18:43:35.391436Z",
     "shell.execute_reply": "2021-01-08T18:43:35.391807Z"
    }
   },
   "outputs": [
    {
     "data": {
      "image/png": "[encoded data removed]",
      "text/plain": [
       "<Figure size 432x288 with 1 Axes>"
      ]
     },
     "metadata": {
      "needs_background": "light"
     },
     "output_type": "display_data"
    }
   ],
   "source": [
    "fig, ax = plt.subplots(1,1)\n",
    "ax.plot(sizes, t_numeric, 'o-', label='Inserting row-by-row')\n",
    "ax.plot(sizes, t_numeric_add, 'o-', label='Inserting row-by-row: add_result only')\n",
    "ax.plot(sizes, t_array, 'd-', label='Inserting as binary blob')\n",
    "ax.plot(sizes, t_array_add, 'd-', label='Inserting as binary blob: add_result only')\n",
    "ax.legend()\n",
    "ax.set_xlabel('Array length')\n",
    "ax.set_ylabel('Time (s)')\n",
    "fig.tight_layout()"
   ]
  },
  {
   "cell_type": "markdown",
   "metadata": {},
   "source": [
    "As shown in the latter figure, the time to setup and and close the experiment is approximately 0.4 sec. In case of small array sizes, the difference between inserting values of data as arrays and inserting them row-by-row is relatively unimportant. At larger array sizes, i.e. above 10000 points, the cost of writing data as individual datapoints starts to become important.\n"
   ]
  },
  {
   "cell_type": "markdown",
   "metadata": {},
   "source": [
    "### Case2: Long experiment time "
   ]
  },
  {
   "cell_type": "code",
   "execution_count": 7,
   "metadata": {
    "execution": {
     "iopub.execute_input": "2021-01-08T18:43:35.398010Z",
     "iopub.status.busy": "2021-01-08T18:43:35.397554Z",
     "iopub.status.idle": "2021-01-08T18:44:28.307031Z",
     "shell.execute_reply": "2021-01-08T18:44:28.307510Z"
    }
   },
   "outputs": [
    {
     "name": "stdout",
     "output_type": "stream",
     "text": [
      "Starting experimental run with id: 15. \n"
     ]
    },
    {
     "name": "stdout",
     "output_type": "stream",
     "text": [
      "Starting experimental run with id: 16. \n",
      "Starting experimental run with id: 17. \n"
     ]
    },
    {
     "name": "stdout",
     "output_type": "stream",
     "text": [
      "Starting experimental run with id: 18. \n",
      "Starting experimental run with id: 19. \n"
     ]
    },
    {
     "name": "stdout",
     "output_type": "stream",
     "text": [
      "Starting experimental run with id: 20. \n"
     ]
    },
    {
     "name": "stdout",
     "output_type": "stream",
     "text": [
      "Starting experimental run with id: 21. \n"
     ]
    },
    {
     "name": "stdout",
     "output_type": "stream",
     "text": [
      "Starting experimental run with id: 22. \n"
     ]
    },
    {
     "name": "stdout",
     "output_type": "stream",
     "text": [
      "Starting experimental run with id: 23. \n"
     ]
    },
    {
     "name": "stdout",
     "output_type": "stream",
     "text": [
      "Starting experimental run with id: 24. \n"
     ]
    },
    {
     "name": "stdout",
     "output_type": "stream",
     "text": [
      "Starting experimental run with id: 25. \n"
     ]
    },
    {
     "name": "stdout",
     "output_type": "stream",
     "text": [
      "Starting experimental run with id: 26. \n"
     ]
    },
    {
     "name": "stdout",
     "output_type": "stream",
     "text": [
      "Starting experimental run with id: 27. \n"
     ]
    },
    {
     "name": "stdout",
     "output_type": "stream",
     "text": [
      "Starting experimental run with id: 28. \n"
     ]
    }
   ],
   "source": [
    "sizes = [1,500,1000,2000,3000,4000,5000]\n",
    "nreps = 100\n",
    "t_numeric = []\n",
    "t_numeric_add = []\n",
    "t_numeric_run_ids = []\n",
    "t_array = []\n",
    "t_array_add = []\n",
    "t_array_run_ids = []\n",
    "for size in sizes:\n",
    "    tn, tna, run_id_n =  insert_data('numeric', size, nreps=nreps)\n",
    "    t_numeric.append(tn)\n",
    "    t_numeric_add.append(tna)\n",
    "    t_numeric_run_ids.append(run_id_n)\n",
    "\n",
    "    ta, taa, run_id_a =  insert_data('array', size, nreps=nreps)\n",
    "    t_array.append(ta)\n",
    "    t_array_add.append(taa)\n",
    "    t_array_run_ids.append(run_id_a)"
   ]
  },
  {
   "cell_type": "code",
   "execution_count": 8,
   "metadata": {
    "execution": {
     "iopub.execute_input": "2021-01-08T18:44:28.321884Z",
     "iopub.status.busy": "2021-01-08T18:44:28.316632Z",
     "iopub.status.idle": "2021-01-08T18:44:28.483145Z",
     "shell.execute_reply": "2021-01-08T18:44:28.482718Z"
    },
    "scrolled": true
   },
   "outputs": [
    {
     "data": {
      "image/png": "[encoded data removed]",
      "text/plain": [
       "<Figure size 432x288 with 1 Axes>"
      ]
     },
     "metadata": {
      "needs_background": "light"
     },
     "output_type": "display_data"
    }
   ],
   "source": [
    "fig, ax = plt.subplots(1,1)\n",
    "ax.plot(sizes, t_numeric, 'o-', label='Inserting row-by-row')\n",
    "ax.plot(sizes, t_numeric_add, 'o-', label='Inserting row-by-row: add_result only')\n",
    "ax.plot(sizes, t_array, 'd-', label='Inserting as binary blob')\n",
    "ax.plot(sizes, t_array_add, 'd-', label='Inserting as binary blob: add_result only')\n",
    "ax.legend()\n",
    "ax.set_xlabel('Array length')\n",
    "ax.set_ylabel('Time (s)')\n",
    "fig.tight_layout()"
   ]
  },
  {
   "cell_type": "markdown",
   "metadata": {},
   "source": [
    "However, as we increase the length of the experiment, as seen here by repeating the insertion 100 times, we see a big difference between inserting values of the data row-by-row and inserting it as a binary blob."
   ]
  },
  {
   "cell_type": "markdown",
   "metadata": {},
   "source": [
    "## Loading the data "
   ]
  },
  {
   "cell_type": "code",
   "execution_count": 9,
   "metadata": {
    "execution": {
     "iopub.execute_input": "2021-01-08T18:44:28.486689Z",
     "iopub.status.busy": "2021-01-08T18:44:28.485549Z",
     "iopub.status.idle": "2021-01-08T18:44:28.489143Z",
     "shell.execute_reply": "2021-01-08T18:44:28.488762Z"
    }
   },
   "outputs": [],
   "source": [
    "from qcodes.dataset.data_set import load_by_id\n",
    "from qcodes.dataset.data_export import get_data_by_id"
   ]
  },
  {
   "cell_type": "markdown",
   "metadata": {},
   "source": [
    "As usual you can load the data by using the ``load_by_id`` function but you will notice that the different storage methods\n",
    "are reflected in shape of the data as it is retrieved. "
   ]
  },
  {
   "cell_type": "code",
   "execution_count": 10,
   "metadata": {
    "execution": {
     "iopub.execute_input": "2021-01-08T18:44:28.492659Z",
     "iopub.status.busy": "2021-01-08T18:44:28.491891Z",
     "iopub.status.idle": "2021-01-08T18:44:28.493373Z",
     "shell.execute_reply": "2021-01-08T18:44:28.493825Z"
    }
   },
   "outputs": [],
   "source": [
    "run_id_n = t_numeric_run_ids[0]\n",
    "run_id_a = t_array_run_ids[0]"
   ]
  },
  {
   "cell_type": "code",
   "execution_count": 11,
   "metadata": {
    "execution": {
     "iopub.execute_input": "2021-01-08T18:44:28.496503Z",
     "iopub.status.busy": "2021-01-08T18:44:28.496069Z",
     "iopub.status.idle": "2021-01-08T18:44:28.504222Z",
     "shell.execute_reply": "2021-01-08T18:44:28.503843Z"
    },
    "scrolled": true
   },
   "outputs": [
    {
     "data": {
      "text/plain": [
       "{'x1': {'x1': array([8.84487234e-01, 8.84487234e-01, 4.75703165e-01, 4.75703165e-01,\n",
       "         3.29421779e-01, 3.29421779e-01, 3.14351513e-01, 3.14351513e-01,\n",
       "         1.78685057e-02, 1.78685057e-02, 5.78920520e-01, 5.78920520e-01,\n",
       "         7.78697951e-02, 7.78697951e-02, 9.67312004e-01, 9.67312004e-01,\n",
       "         7.56659700e-01, 7.56659700e-01, 8.30671505e-01, 8.30671505e-01,\n",
       "         7.84412768e-01, 7.84412768e-01, 8.69564520e-01, 8.69564520e-01,\n",
       "         8.55097540e-01, 8.55097540e-01, 9.86692763e-01, 9.86692763e-01,\n",
       "         3.07474740e-01, 3.07474740e-01, 7.94144939e-01, 7.94144939e-01,\n",
       "         9.48641973e-02, 9.48641973e-02, 6.14271132e-01, 6.14271132e-01,\n",
       "         4.91403540e-01, 4.91403540e-01, 7.43981504e-01, 7.43981504e-01,\n",
       "         8.26686911e-01, 8.26686911e-01, 8.31595933e-03, 8.31595933e-03,\n",
       "         9.33733067e-01, 9.33733067e-01, 3.40767077e-01, 3.40767077e-01,\n",
       "         3.04211277e-01, 3.04211277e-01, 8.78018798e-01, 8.78018798e-01,\n",
       "         4.47087318e-01, 4.47087318e-01, 4.84213662e-01, 4.84213662e-01,\n",
       "         4.50673203e-01, 4.50673203e-01, 6.11366393e-01, 6.11366393e-01,\n",
       "         6.24309038e-01, 6.24309038e-01, 9.69021668e-01, 9.69021668e-01,\n",
       "         8.59198916e-01, 8.59198916e-01, 1.47555374e-01, 1.47555374e-01,\n",
       "         3.61410528e-01, 3.61410528e-01, 5.25681674e-01, 5.25681674e-01,\n",
       "         1.46720638e-01, 1.46720638e-01, 5.26521663e-01, 5.26521663e-01,\n",
       "         5.46546053e-01, 5.46546053e-01, 8.51868144e-01, 8.51868144e-01,\n",
       "         3.21601168e-01, 3.21601168e-01, 6.04110155e-01, 6.04110155e-01,\n",
       "         1.38426320e-02, 1.38426320e-02, 1.78917301e-01, 1.78917301e-01,\n",
       "         9.17815112e-01, 9.17815112e-01, 2.33098806e-01, 2.33098806e-01,\n",
       "         5.37760335e-01, 5.37760335e-01, 9.74765440e-01, 9.74765440e-01,\n",
       "         1.73217087e-01, 1.73217087e-01, 6.05835576e-01, 6.05835576e-01,\n",
       "         2.98062743e-01, 2.98062743e-01, 7.47344190e-01, 7.47344190e-01,\n",
       "         4.60829185e-01, 4.60829185e-01, 9.49362669e-01, 9.49362669e-01,\n",
       "         2.37954467e-01, 2.37954467e-01, 9.74959713e-01, 9.74959713e-01,\n",
       "         4.32884715e-01, 4.32884715e-01, 1.64787210e-02, 1.64787210e-02,\n",
       "         2.10642476e-01, 2.10642476e-01, 6.09196537e-01, 6.09196537e-01,\n",
       "         9.10724301e-01, 9.10724301e-01, 6.88207701e-01, 6.88207701e-01,\n",
       "         8.24444585e-01, 8.24444585e-01, 5.26453561e-01, 5.26453561e-01,\n",
       "         5.70288132e-01, 5.70288132e-01, 7.79282324e-01, 7.79282324e-01,\n",
       "         2.60186712e-01, 2.60186712e-01, 5.47221959e-01, 5.47221959e-01,\n",
       "         3.75550493e-01, 3.75550493e-01, 2.31463017e-01, 2.31463017e-01,\n",
       "         4.60104606e-01, 4.60104606e-01, 1.62558868e-01, 1.62558868e-01,\n",
       "         1.80649787e-01, 1.80649787e-01, 6.56164611e-01, 6.56164611e-01,\n",
       "         2.02138469e-04, 2.02138469e-04, 2.31144094e-01, 2.31144094e-01,\n",
       "         5.21587245e-02, 5.21587245e-02, 3.23272738e-01, 3.23272738e-01,\n",
       "         9.69023130e-01, 9.69023130e-01, 9.94373606e-01, 9.94373606e-01,\n",
       "         6.49094432e-01, 6.49094432e-01, 4.42846931e-01, 4.42846931e-01,\n",
       "         2.57984791e-01, 2.57984791e-01, 9.26815343e-01, 9.26815343e-01,\n",
       "         8.63860560e-01, 8.63860560e-01, 7.10586978e-02, 7.10586978e-02,\n",
       "         3.04836189e-01, 3.04836189e-01, 4.45885120e-01, 4.45885120e-01,\n",
       "         3.31455478e-01, 3.31455478e-01, 6.66711842e-01, 6.66711842e-01,\n",
       "         9.18768667e-01, 9.18768667e-01, 7.30904024e-01, 7.30904024e-01,\n",
       "         8.70935767e-02, 8.70935767e-02, 4.56278201e-02, 4.56278201e-02,\n",
       "         9.40063780e-01, 9.40063780e-01, 8.44897350e-01, 8.44897350e-01,\n",
       "         5.34507977e-02, 5.34507977e-02, 5.68256127e-01, 5.68256127e-01,\n",
       "         4.46041821e-01, 4.46041821e-01, 6.80820991e-02, 6.80820991e-02])}}"
      ]
     },
     "execution_count": 1,
     "metadata": {},
     "output_type": "execute_result"
    }
   ],
   "source": [
    "ds = load_by_id(run_id_n)\n",
    "ds.get_parameter_data('x1')"
   ]
  },
  {
   "cell_type": "markdown",
   "metadata": {},
   "source": [
    "And a dataset stored as binary arrays"
   ]
  },
  {
   "cell_type": "code",
   "execution_count": 12,
   "metadata": {
    "execution": {
     "iopub.execute_input": "2021-01-08T18:44:28.506896Z",
     "iopub.status.busy": "2021-01-08T18:44:28.506438Z",
     "iopub.status.idle": "2021-01-08T18:44:28.552086Z",
     "shell.execute_reply": "2021-01-08T18:44:28.552621Z"
    },
    "scrolled": true
   },
   "outputs": [
    {
     "data": {
      "text/plain": [
       "{'x1': {'x1': array([[0.70664188],\n",
       "         [0.70664188],\n",
       "         [0.24860944],\n",
       "         [0.24860944],\n",
       "         [0.3929904 ],\n",
       "         [0.3929904 ],\n",
       "         [0.69510106],\n",
       "         [0.69510106],\n",
       "         [0.22529329],\n",
       "         [0.22529329],\n",
       "         [0.48337008],\n",
       "         [0.48337008],\n",
       "         [0.35046176],\n",
       "         [0.35046176],\n",
       "         [0.77460862],\n",
       "         [0.77460862],\n",
       "         [0.15312102],\n",
       "         [0.15312102],\n",
       "         [0.38179336],\n",
       "         [0.38179336],\n",
       "         [0.06843597],\n",
       "         [0.06843597],\n",
       "         [0.84923826],\n",
       "         [0.84923826],\n",
       "         [0.33889935],\n",
       "         [0.33889935],\n",
       "         [0.93515612],\n",
       "         [0.93515612],\n",
       "         [0.93052516],\n",
       "         [0.93052516],\n",
       "         [0.2201773 ],\n",
       "         [0.2201773 ],\n",
       "         [0.07225818],\n",
       "         [0.07225818],\n",
       "         [0.85453159],\n",
       "         [0.85453159],\n",
       "         [0.49499522],\n",
       "         [0.49499522],\n",
       "         [0.03788918],\n",
       "         [0.03788918],\n",
       "         [0.83019881],\n",
       "         [0.83019881],\n",
       "         [0.55404011],\n",
       "         [0.55404011],\n",
       "         [0.33784132],\n",
       "         [0.33784132],\n",
       "         [0.3561056 ],\n",
       "         [0.3561056 ],\n",
       "         [0.10769734],\n",
       "         [0.10769734],\n",
       "         [0.65044118],\n",
       "         [0.65044118],\n",
       "         [0.43416284],\n",
       "         [0.43416284],\n",
       "         [0.84380479],\n",
       "         [0.84380479],\n",
       "         [0.67784191],\n",
       "         [0.67784191],\n",
       "         [0.8475505 ],\n",
       "         [0.8475505 ],\n",
       "         [0.89879557],\n",
       "         [0.89879557],\n",
       "         [0.8276241 ],\n",
       "         [0.8276241 ],\n",
       "         [0.9555243 ],\n",
       "         [0.9555243 ],\n",
       "         [0.83493055],\n",
       "         [0.83493055],\n",
       "         [0.87553302],\n",
       "         [0.87553302],\n",
       "         [0.75168375],\n",
       "         [0.75168375],\n",
       "         [0.77895755],\n",
       "         [0.77895755],\n",
       "         [0.21270265],\n",
       "         [0.21270265],\n",
       "         [0.44720432],\n",
       "         [0.44720432],\n",
       "         [0.6054595 ],\n",
       "         [0.6054595 ],\n",
       "         [0.39015518],\n",
       "         [0.39015518],\n",
       "         [0.64292434],\n",
       "         [0.64292434],\n",
       "         [0.33060303],\n",
       "         [0.33060303],\n",
       "         [0.69324532],\n",
       "         [0.69324532],\n",
       "         [0.32697345],\n",
       "         [0.32697345],\n",
       "         [0.19898994],\n",
       "         [0.19898994],\n",
       "         [0.9841175 ],\n",
       "         [0.9841175 ],\n",
       "         [0.60960546],\n",
       "         [0.60960546],\n",
       "         [0.40066453],\n",
       "         [0.40066453],\n",
       "         [0.15166052],\n",
       "         [0.15166052],\n",
       "         [0.55084641],\n",
       "         [0.55084641],\n",
       "         [0.72576052],\n",
       "         [0.72576052],\n",
       "         [0.31454666],\n",
       "         [0.31454666],\n",
       "         [0.96859431],\n",
       "         [0.96859431],\n",
       "         [0.14864988],\n",
       "         [0.14864988],\n",
       "         [0.41023035],\n",
       "         [0.41023035],\n",
       "         [0.39872493],\n",
       "         [0.39872493],\n",
       "         [0.21843956],\n",
       "         [0.21843956],\n",
       "         [0.24095468],\n",
       "         [0.24095468],\n",
       "         [0.56779252],\n",
       "         [0.56779252],\n",
       "         [0.43333993],\n",
       "         [0.43333993],\n",
       "         [0.57919313],\n",
       "         [0.57919313],\n",
       "         [0.87929807],\n",
       "         [0.87929807],\n",
       "         [0.26497155],\n",
       "         [0.26497155],\n",
       "         [0.4583487 ],\n",
       "         [0.4583487 ],\n",
       "         [0.16869234],\n",
       "         [0.16869234],\n",
       "         [0.53906013],\n",
       "         [0.53906013],\n",
       "         [0.55635298],\n",
       "         [0.55635298],\n",
       "         [0.61043957],\n",
       "         [0.61043957],\n",
       "         [0.35452989],\n",
       "         [0.35452989],\n",
       "         [0.42088914],\n",
       "         [0.42088914],\n",
       "         [0.96389462],\n",
       "         [0.96389462],\n",
       "         [0.07383381],\n",
       "         [0.07383381],\n",
       "         [0.56735598],\n",
       "         [0.56735598],\n",
       "         [0.51908824],\n",
       "         [0.51908824],\n",
       "         [0.86034863],\n",
       "         [0.86034863],\n",
       "         [0.4091069 ],\n",
       "         [0.4091069 ],\n",
       "         [0.52847479],\n",
       "         [0.52847479],\n",
       "         [0.17909503],\n",
       "         [0.17909503],\n",
       "         [0.62315659],\n",
       "         [0.62315659],\n",
       "         [0.11812811],\n",
       "         [0.11812811],\n",
       "         [0.09806842],\n",
       "         [0.09806842],\n",
       "         [0.33172332],\n",
       "         [0.33172332],\n",
       "         [0.96005566],\n",
       "         [0.96005566],\n",
       "         [0.58369513],\n",
       "         [0.58369513],\n",
       "         [0.48545603],\n",
       "         [0.48545603],\n",
       "         [0.00315689],\n",
       "         [0.00315689],\n",
       "         [0.2870089 ],\n",
       "         [0.2870089 ],\n",
       "         [0.42696427],\n",
       "         [0.42696427],\n",
       "         [0.6658728 ],\n",
       "         [0.6658728 ],\n",
       "         [0.64001073],\n",
       "         [0.64001073],\n",
       "         [0.59501856],\n",
       "         [0.59501856],\n",
       "         [0.57363025],\n",
       "         [0.57363025],\n",
       "         [0.11837355],\n",
       "         [0.11837355],\n",
       "         [0.74460443],\n",
       "         [0.74460443],\n",
       "         [0.92067818],\n",
       "         [0.92067818],\n",
       "         [0.10215164],\n",
       "         [0.10215164],\n",
       "         [0.20367315],\n",
       "         [0.20367315],\n",
       "         [0.10386531],\n",
       "         [0.10386531],\n",
       "         [0.91274625],\n",
       "         [0.91274625]])}}"
      ]
     },
     "execution_count": 1,
     "metadata": {},
     "output_type": "execute_result"
    }
   ],
   "source": [
    "ds = load_by_id(run_id_a)\n",
    "ds.get_parameter_data('x1')"
   ]
  },
  {
   "cell_type": "code",
   "execution_count": null,
   "metadata": {},
   "outputs": [],
   "source": []
  }
 ],
 "metadata": {
  "kernelspec": {
   "display_name": "Python 3",
   "language": "python",
   "name": "python3"
  },
  "language_info": {
   "codemirror_mode": {
    "name": "ipython",
    "version": 3
   },
   "file_extension": ".py",
   "mimetype": "text/x-python",
   "name": "python",
   "nbconvert_exporter": "python",
   "pygments_lexer": "ipython3",
   "version": "3.7.9"
  },
  "nbsphinx": {
   "timeout": 600
  },
  "toc": {
   "base_numbering": 1,
   "nav_menu": {},
   "number_sections": true,
   "sideBar": true,
   "skip_h1_title": false,
   "title_cell": "Table of Contents",
   "title_sidebar": "Contents",
   "toc_cell": false,
   "toc_position": {},
   "toc_section_display": true,
   "toc_window_display": false
  },
  "varInspector": {
   "cols": {
    "lenName": 16,
    "lenType": 16,
    "lenVar": 40
   },
   "kernels_config": {
    "python": {
     "delete_cmd_postfix": "",
     "delete_cmd_prefix": "del ",
     "library": "var_list.py",
     "varRefreshCmd": "print(var_dic_list())"
    },
    "r": {
     "delete_cmd_postfix": ") ",
     "delete_cmd_prefix": "rm(",
     "library": "var_list.r",
     "varRefreshCmd": "cat(var_dic_list()) "
    }
   },
   "types_to_exclude": [
    "module",
    "function",
    "builtin_function_or_method",
    "instance",
    "_Feature"
   ],
   "window_display": false
  }
 },
 "nbformat": 4,
 "nbformat_minor": 2
}
