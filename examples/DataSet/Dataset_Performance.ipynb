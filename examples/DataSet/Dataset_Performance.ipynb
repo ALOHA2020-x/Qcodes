{
 "cells": [
  {
   "cell_type": "markdown",
   "metadata": {},
   "source": [
    "# DataSet Performance\n",
    "\n",
    "This notebook shows the trade-off between inserting data into a database row-by-row and as binary blobs. Inserting the data row-by-row means that we have direct access to all the data and may perform queries directly on the values of the data. On the other hand, as we shall see, this is much slower than inserting the data directly as binary blobs."
   ]
  },
  {
   "cell_type": "markdown",
   "metadata": {},
   "source": [
    "First, we choose a new location for the database to ensure that we don't add a bunch of benchmarking data to the default one."
   ]
  },
  {
   "cell_type": "code",
   "execution_count": 1,
   "metadata": {
    "execution": {
     "iopub.execute_input": "2021-05-17T08:15:58.076352Z",
     "iopub.status.busy": "2021-05-17T08:15:58.075872Z",
     "iopub.status.idle": "2021-05-17T08:15:59.071272Z",
     "shell.execute_reply": "2021-05-17T08:15:59.071750Z"
    }
   },
   "outputs": [
    {
     "name": "stdout",
     "output_type": "stream",
     "text": [
      "Logging hadn't been started.\n",
      "Activating auto-logging. Current session state plus future input saved.\n",
      "Filename       : /home/runner/.qcodes/logs/command_history.log\n",
      "Mode           : append\n",
      "Output logging : True\n",
      "Raw input log  : False\n",
      "Timestamping   : True\n",
      "State          : active\n"
     ]
    },
    {
     "name": "stdout",
     "output_type": "stream",
     "text": [
      "Qcodes Logfile : /home/runner/.qcodes/logs/210517-4627-qcodes.log\n"
     ]
    }
   ],
   "source": [
    "import os\n",
    "cwd = os.getcwd()\n",
    "import qcodes as qc\n",
    "qc.config[\"core\"][\"db_location\"] = os.path.join(cwd, 'testing.db')\n"
   ]
  },
  {
   "cell_type": "code",
   "execution_count": 2,
   "metadata": {
    "execution": {
     "iopub.execute_input": "2021-05-17T08:15:59.078117Z",
     "iopub.status.busy": "2021-05-17T08:15:59.077143Z",
     "iopub.status.idle": "2021-05-17T08:15:59.238380Z",
     "shell.execute_reply": "2021-05-17T08:15:59.238859Z"
    }
   },
   "outputs": [],
   "source": [
    "%matplotlib inline\n",
    "import time\n",
    "import matplotlib.pyplot as plt\n",
    "import numpy as np\n",
    "\n",
    "import qcodes as qc\n",
    "from qcodes.instrument.parameter import ManualParameter\n",
    "from qcodes.dataset.experiment_container import (Experiment,\n",
    "                                                 load_last_experiment,\n",
    "                                                 new_experiment)\n",
    "from qcodes.dataset.sqlite.database import initialise_database\n",
    "from qcodes import load_or_create_experiment\n",
    "from qcodes.dataset.measurements import Measurement"
   ]
  },
  {
   "cell_type": "code",
   "execution_count": 3,
   "metadata": {
    "execution": {
     "iopub.execute_input": "2021-05-17T08:15:59.242604Z",
     "iopub.status.busy": "2021-05-17T08:15:59.241921Z",
     "iopub.status.idle": "2021-05-17T08:15:59.298309Z",
     "shell.execute_reply": "2021-05-17T08:15:59.298796Z"
    }
   },
   "outputs": [
    {
     "name": "stdout",
     "output_type": "stream",
     "text": [
      "\r",
      "0it [00:00, ?it/s]"
     ]
    },
    {
     "name": "stdout",
     "output_type": "stream",
     "text": [
      "\r",
      "Upgrading database; v0 -> v1: : 0it [00:00, ?it/s]"
     ]
    },
    {
     "name": "stdout",
     "output_type": "stream",
     "text": [
      "\r",
      "Upgrading database; v0 -> v1: : 0it [00:00, ?it/s]"
     ]
    },
    {
     "name": "stdout",
     "output_type": "stream",
     "text": [
      "\n",
      "\r",
      "  0%|          | 0/1 [00:00<?, ?it/s]"
     ]
    },
    {
     "name": "stdout",
     "output_type": "stream",
     "text": [
      "\r",
      "Upgrading database; v1 -> v2:   0%|          | 0/1 [00:00<?, ?it/s]"
     ]
    },
    {
     "name": "stdout",
     "output_type": "stream",
     "text": [
      "\r",
      "Upgrading database; v1 -> v2: 100%|██████████| 1/1 [00:00<00:00, 1027.01it/s]"
     ]
    },
    {
     "name": "stdout",
     "output_type": "stream",
     "text": [
      "\n",
      "\r",
      "0it [00:00, ?it/s]"
     ]
    },
    {
     "name": "stdout",
     "output_type": "stream",
     "text": [
      "\r",
      "Upgrading database; v2 -> v3: : 0it [00:00, ?it/s]"
     ]
    },
    {
     "name": "stdout",
     "output_type": "stream",
     "text": [
      "\r",
      "Upgrading database; v2 -> v3: : 0it [00:00, ?it/s]"
     ]
    },
    {
     "name": "stdout",
     "output_type": "stream",
     "text": [
      "\n",
      "\r",
      "0it [00:00, ?it/s]"
     ]
    },
    {
     "name": "stdout",
     "output_type": "stream",
     "text": [
      "\r",
      "Upgrading database; v3 -> v4: : 0it [00:00, ?it/s]"
     ]
    },
    {
     "name": "stdout",
     "output_type": "stream",
     "text": [
      "\r",
      "Upgrading database; v3 -> v4: : 0it [00:00, ?it/s]"
     ]
    },
    {
     "name": "stdout",
     "output_type": "stream",
     "text": [
      "\n",
      "\r",
      "  0%|          | 0/1 [00:00<?, ?it/s]"
     ]
    },
    {
     "name": "stdout",
     "output_type": "stream",
     "text": [
      "\r",
      "Upgrading database; v4 -> v5:   0%|          | 0/1 [00:00<?, ?it/s]"
     ]
    },
    {
     "name": "stdout",
     "output_type": "stream",
     "text": [
      "\r",
      "Upgrading database; v4 -> v5: 100%|██████████| 1/1 [00:00<00:00, 990.39it/s]"
     ]
    },
    {
     "name": "stdout",
     "output_type": "stream",
     "text": [
      "\n",
      "\r",
      "0it [00:00, ?it/s]"
     ]
    },
    {
     "name": "stdout",
     "output_type": "stream",
     "text": [
      "\r",
      "Upgrading database; v5 -> v6: : 0it [00:00, ?it/s]"
     ]
    },
    {
     "name": "stdout",
     "output_type": "stream",
     "text": [
      "\r",
      "Upgrading database; v5 -> v6: : 0it [00:00, ?it/s]"
     ]
    },
    {
     "name": "stdout",
     "output_type": "stream",
     "text": [
      "\n",
      "\r",
      "  0%|          | 0/1 [00:00<?, ?it/s]"
     ]
    },
    {
     "name": "stdout",
     "output_type": "stream",
     "text": [
      "\r",
      "Upgrading database; v6 -> v7:   0%|          | 0/1 [00:00<?, ?it/s]"
     ]
    },
    {
     "name": "stdout",
     "output_type": "stream",
     "text": [
      "\r",
      "Upgrading database; v6 -> v7: 100%|██████████| 1/1 [00:00<00:00, 453.10it/s]"
     ]
    },
    {
     "name": "stdout",
     "output_type": "stream",
     "text": [
      "\n",
      "\r",
      "  0%|          | 0/1 [00:00<?, ?it/s]"
     ]
    },
    {
     "name": "stdout",
     "output_type": "stream",
     "text": [
      "\r",
      "Upgrading database; v7 -> v8:   0%|          | 0/1 [00:00<?, ?it/s]"
     ]
    },
    {
     "name": "stdout",
     "output_type": "stream",
     "text": [
      "\r",
      "Upgrading database; v7 -> v8: 100%|██████████| 1/1 [00:00<00:00, 1016.80it/s]"
     ]
    },
    {
     "name": "stdout",
     "output_type": "stream",
     "text": [
      "\n",
      "\r",
      "  0%|          | 0/1 [00:00<?, ?it/s]"
     ]
    },
    {
     "name": "stdout",
     "output_type": "stream",
     "text": [
      "\r",
      "Upgrading database; v8 -> v9:   0%|          | 0/1 [00:00<?, ?it/s]"
     ]
    },
    {
     "name": "stdout",
     "output_type": "stream",
     "text": [
      "\r",
      "Upgrading database; v8 -> v9: 100%|██████████| 1/1 [00:00<00:00, 1122.67it/s]"
     ]
    },
    {
     "name": "stdout",
     "output_type": "stream",
     "text": [
      "\n"
     ]
    }
   ],
   "source": [
    "initialise_database()\n",
    "exp = load_or_create_experiment(experiment_name='tutorial_exp', sample_name=\"no sample\")"
   ]
  },
  {
   "cell_type": "markdown",
   "metadata": {},
   "source": [
    "Here, we define a simple function to benchmark the time it takes to insert n points with either numeric or array data type.\n",
    "We will compare both the time used to call ``add_result`` and the time used for the full measurement."
   ]
  },
  {
   "cell_type": "code",
   "execution_count": 4,
   "metadata": {
    "execution": {
     "iopub.execute_input": "2021-05-17T08:15:59.307219Z",
     "iopub.status.busy": "2021-05-17T08:15:59.306454Z",
     "iopub.status.idle": "2021-05-17T08:15:59.308422Z",
     "shell.execute_reply": "2021-05-17T08:15:59.308039Z"
    }
   },
   "outputs": [],
   "source": [
    "def insert_data(paramtype, npoints, nreps=1):\n",
    "\n",
    "    meas = Measurement(exp=exp)\n",
    "\n",
    "    x1 = ManualParameter('x1')\n",
    "    x2 = ManualParameter('x2')\n",
    "    x3 = ManualParameter('x3')\n",
    "    y1 = ManualParameter('y1')\n",
    "    y2 = ManualParameter('y2')\n",
    "\n",
    "    meas.register_parameter(x1, paramtype=paramtype)\n",
    "    meas.register_parameter(x2, paramtype=paramtype)\n",
    "    meas.register_parameter(x3, paramtype=paramtype)\n",
    "    meas.register_parameter(y1, setpoints=[x1, x2, x3],\n",
    "                            paramtype=paramtype)\n",
    "    meas.register_parameter(y2, setpoints=[x1, x2, x3],\n",
    "                            paramtype=paramtype)\n",
    "    start = time.perf_counter()\n",
    "    with meas.run() as datasaver:\n",
    "        start_adding = time.perf_counter()\n",
    "        for i in range(nreps):\n",
    "            datasaver.add_result((x1, np.random.rand(npoints)),\n",
    "                                 (x2, np.random.rand(npoints)),\n",
    "                                 (x3, np.random.rand(npoints)),\n",
    "                                 (y1, np.random.rand(npoints)),\n",
    "                                 (y2, np.random.rand(npoints)))\n",
    "        stop_adding = time.perf_counter()\n",
    "        run_id = datasaver.run_id\n",
    "    stop = time.perf_counter()\n",
    "    tot_time = stop - start\n",
    "    add_time = stop_adding - start_adding\n",
    "    return tot_time, add_time, run_id"
   ]
  },
  {
   "cell_type": "markdown",
   "metadata": {},
   "source": [
    "## Comparison between numeric/array data and binary blob"
   ]
  },
  {
   "cell_type": "markdown",
   "metadata": {},
   "source": [
    "### Case1: Short experiment time"
   ]
  },
  {
   "cell_type": "code",
   "execution_count": 5,
   "metadata": {
    "execution": {
     "iopub.execute_input": "2021-05-17T08:15:59.313416Z",
     "iopub.status.busy": "2021-05-17T08:15:59.312984Z",
     "iopub.status.idle": "2021-05-17T08:16:00.050998Z",
     "shell.execute_reply": "2021-05-17T08:16:00.051350Z"
    }
   },
   "outputs": [
    {
     "name": "stdout",
     "output_type": "stream",
     "text": [
      "Starting experimental run with id: 1. \n",
      "Starting experimental run with id: 2. \n",
      "Starting experimental run with id: 3. \n",
      "Starting experimental run with id: 4. \n"
     ]
    },
    {
     "name": "stdout",
     "output_type": "stream",
     "text": [
      "Starting experimental run with id: 5. \n"
     ]
    },
    {
     "name": "stdout",
     "output_type": "stream",
     "text": [
      "Starting experimental run with id: 6. \n"
     ]
    },
    {
     "name": "stdout",
     "output_type": "stream",
     "text": [
      "Starting experimental run with id: 7. \n",
      "Starting experimental run with id: 8. \n",
      "Starting experimental run with id: 9. \n"
     ]
    },
    {
     "name": "stdout",
     "output_type": "stream",
     "text": [
      "Starting experimental run with id: 10. \n"
     ]
    },
    {
     "name": "stdout",
     "output_type": "stream",
     "text": [
      "Starting experimental run with id: 11. \n",
      "Starting experimental run with id: 12. \n",
      "Starting experimental run with id: 13. \n"
     ]
    },
    {
     "name": "stdout",
     "output_type": "stream",
     "text": [
      "Starting experimental run with id: 14. \n"
     ]
    }
   ],
   "source": [
    "sizes = [1,500,1000,2000,3000,4000,5000]\n",
    "t_numeric = []\n",
    "t_numeric_add = []\n",
    "t_array = []\n",
    "t_array_add = []\n",
    "for size in sizes:\n",
    "    tn, tna, run_id_n =  insert_data('numeric', size)\n",
    "    t_numeric.append(tn)\n",
    "    t_numeric_add.append(tna)\n",
    "\n",
    "    ta, taa, run_id_a =  insert_data('array', size)\n",
    "    t_array.append(ta)\n",
    "    t_array_add.append(taa)"
   ]
  },
  {
   "cell_type": "code",
   "execution_count": 6,
   "metadata": {
    "execution": {
     "iopub.execute_input": "2021-05-17T08:16:00.094553Z",
     "iopub.status.busy": "2021-05-17T08:16:00.067810Z",
     "iopub.status.idle": "2021-05-17T08:16:00.271195Z",
     "shell.execute_reply": "2021-05-17T08:16:00.271596Z"
    }
   },
   "outputs": [
    {
     "data": {
      "image/png": "[encoded data removed]",
      "text/plain": [
       "<Figure size 432x288 with 1 Axes>"
      ]
     },
     "metadata": {
      "needs_background": "light"
     },
     "output_type": "display_data"
    }
   ],
   "source": [
    "fig, ax = plt.subplots(1,1)\n",
    "ax.plot(sizes, t_numeric, 'o-', label='Inserting row-by-row')\n",
    "ax.plot(sizes, t_numeric_add, 'o-', label='Inserting row-by-row: add_result only')\n",
    "ax.plot(sizes, t_array, 'd-', label='Inserting as binary blob')\n",
    "ax.plot(sizes, t_array_add, 'd-', label='Inserting as binary blob: add_result only')\n",
    "ax.legend()\n",
    "ax.set_xlabel('Array length')\n",
    "ax.set_ylabel('Time (s)')\n",
    "fig.tight_layout()"
   ]
  },
  {
   "cell_type": "markdown",
   "metadata": {},
   "source": [
    "As shown in the latter figure, the time to setup and and close the experiment is approximately 0.4 sec. In case of small array sizes, the difference between inserting values of data as arrays and inserting them row-by-row is relatively unimportant. At larger array sizes, i.e. above 10000 points, the cost of writing data as individual datapoints starts to become important.\n"
   ]
  },
  {
   "cell_type": "markdown",
   "metadata": {},
   "source": [
    "### Case2: Long experiment time "
   ]
  },
  {
   "cell_type": "code",
   "execution_count": 7,
   "metadata": {
    "execution": {
     "iopub.execute_input": "2021-05-17T08:16:00.278462Z",
     "iopub.status.busy": "2021-05-17T08:16:00.276259Z",
     "iopub.status.idle": "2021-05-17T08:16:47.598728Z",
     "shell.execute_reply": "2021-05-17T08:16:47.599202Z"
    }
   },
   "outputs": [
    {
     "name": "stdout",
     "output_type": "stream",
     "text": [
      "Starting experimental run with id: 15. \n",
      "Starting experimental run with id: 16. \n",
      "Starting experimental run with id: 17. \n"
     ]
    },
    {
     "name": "stdout",
     "output_type": "stream",
     "text": [
      "Starting experimental run with id: 18. \n",
      "Starting experimental run with id: 19. \n"
     ]
    },
    {
     "name": "stdout",
     "output_type": "stream",
     "text": [
      "Starting experimental run with id: 20. \n"
     ]
    },
    {
     "name": "stdout",
     "output_type": "stream",
     "text": [
      "Starting experimental run with id: 21. \n"
     ]
    },
    {
     "name": "stdout",
     "output_type": "stream",
     "text": [
      "Starting experimental run with id: 22. \n"
     ]
    },
    {
     "name": "stdout",
     "output_type": "stream",
     "text": [
      "Starting experimental run with id: 23. \n"
     ]
    },
    {
     "name": "stdout",
     "output_type": "stream",
     "text": [
      "Starting experimental run with id: 24. \n"
     ]
    },
    {
     "name": "stdout",
     "output_type": "stream",
     "text": [
      "Starting experimental run with id: 25. \n"
     ]
    },
    {
     "name": "stdout",
     "output_type": "stream",
     "text": [
      "Starting experimental run with id: 26. \n"
     ]
    },
    {
     "name": "stdout",
     "output_type": "stream",
     "text": [
      "Starting experimental run with id: 27. \n"
     ]
    },
    {
     "name": "stdout",
     "output_type": "stream",
     "text": [
      "Starting experimental run with id: 28. \n"
     ]
    }
   ],
   "source": [
    "sizes = [1,500,1000,2000,3000,4000,5000]\n",
    "nreps = 100\n",
    "t_numeric = []\n",
    "t_numeric_add = []\n",
    "t_numeric_run_ids = []\n",
    "t_array = []\n",
    "t_array_add = []\n",
    "t_array_run_ids = []\n",
    "for size in sizes:\n",
    "    tn, tna, run_id_n =  insert_data('numeric', size, nreps=nreps)\n",
    "    t_numeric.append(tn)\n",
    "    t_numeric_add.append(tna)\n",
    "    t_numeric_run_ids.append(run_id_n)\n",
    "\n",
    "    ta, taa, run_id_a =  insert_data('array', size, nreps=nreps)\n",
    "    t_array.append(ta)\n",
    "    t_array_add.append(taa)\n",
    "    t_array_run_ids.append(run_id_a)"
   ]
  },
  {
   "cell_type": "code",
   "execution_count": 8,
   "metadata": {
    "execution": {
     "iopub.execute_input": "2021-05-17T08:16:47.638501Z",
     "iopub.status.busy": "2021-05-17T08:16:47.637668Z",
     "iopub.status.idle": "2021-05-17T08:16:47.790848Z",
     "shell.execute_reply": "2021-05-17T08:16:47.790465Z"
    },
    "scrolled": true
   },
   "outputs": [
    {
     "data": {
      "image/png": "[encoded data removed]",
      "text/plain": [
       "<Figure size 432x288 with 1 Axes>"
      ]
     },
     "metadata": {
      "needs_background": "light"
     },
     "output_type": "display_data"
    }
   ],
   "source": [
    "fig, ax = plt.subplots(1,1)\n",
    "ax.plot(sizes, t_numeric, 'o-', label='Inserting row-by-row')\n",
    "ax.plot(sizes, t_numeric_add, 'o-', label='Inserting row-by-row: add_result only')\n",
    "ax.plot(sizes, t_array, 'd-', label='Inserting as binary blob')\n",
    "ax.plot(sizes, t_array_add, 'd-', label='Inserting as binary blob: add_result only')\n",
    "ax.legend()\n",
    "ax.set_xlabel('Array length')\n",
    "ax.set_ylabel('Time (s)')\n",
    "fig.tight_layout()"
   ]
  },
  {
   "cell_type": "markdown",
   "metadata": {},
   "source": [
    "However, as we increase the length of the experiment, as seen here by repeating the insertion 100 times, we see a big difference between inserting values of the data row-by-row and inserting it as a binary blob."
   ]
  },
  {
   "cell_type": "markdown",
   "metadata": {},
   "source": [
    "## Loading the data "
   ]
  },
  {
   "cell_type": "code",
   "execution_count": 9,
   "metadata": {
    "execution": {
     "iopub.execute_input": "2021-05-17T08:16:47.794528Z",
     "iopub.status.busy": "2021-05-17T08:16:47.794095Z",
     "iopub.status.idle": "2021-05-17T08:16:47.797094Z",
     "shell.execute_reply": "2021-05-17T08:16:47.796690Z"
    }
   },
   "outputs": [],
   "source": [
    "from qcodes.dataset.data_set import load_by_id"
   ]
  },
  {
   "cell_type": "markdown",
   "metadata": {},
   "source": [
    "As usual you can load the data by using the ``load_by_id`` function but you will notice that the different storage methods\n",
    "are reflected in shape of the data as it is retrieved. "
   ]
  },
  {
   "cell_type": "code",
   "execution_count": 10,
   "metadata": {
    "execution": {
     "iopub.execute_input": "2021-05-17T08:16:47.801132Z",
     "iopub.status.busy": "2021-05-17T08:16:47.799962Z",
     "iopub.status.idle": "2021-05-17T08:16:47.801627Z",
     "shell.execute_reply": "2021-05-17T08:16:47.801988Z"
    }
   },
   "outputs": [],
   "source": [
    "run_id_n = t_numeric_run_ids[0]\n",
    "run_id_a = t_array_run_ids[0]"
   ]
  },
  {
   "cell_type": "code",
   "execution_count": 11,
   "metadata": {
    "execution": {
     "iopub.execute_input": "2021-05-17T08:16:47.804784Z",
     "iopub.status.busy": "2021-05-17T08:16:47.804330Z",
     "iopub.status.idle": "2021-05-17T08:16:47.812514Z",
     "shell.execute_reply": "2021-05-17T08:16:47.812876Z"
    },
    "scrolled": true
   },
   "outputs": [
    {
     "data": {
      "text/plain": [
       "{'x1': {'x1': array([0.12110654, 0.12110654, 0.56601305, 0.56601305, 0.66152569,\n",
       "         0.66152569, 0.95166036, 0.95166036, 0.40094443, 0.40094443,\n",
       "         0.43353189, 0.43353189, 0.85737304, 0.85737304, 0.16569981,\n",
       "         0.16569981, 0.34350419, 0.34350419, 0.1086121 , 0.1086121 ,\n",
       "         0.49288102, 0.49288102, 0.61361087, 0.61361087, 0.79731119,\n",
       "         0.79731119, 0.59177178, 0.59177178, 0.48083624, 0.48083624,\n",
       "         0.11416392, 0.11416392, 0.29319141, 0.29319141, 0.86841042,\n",
       "         0.86841042, 0.834218  , 0.834218  , 0.44072732, 0.44072732,\n",
       "         0.8032751 , 0.8032751 , 0.90597125, 0.90597125, 0.09177026,\n",
       "         0.09177026, 0.7523083 , 0.7523083 , 0.1449189 , 0.1449189 ,\n",
       "         0.17518539, 0.17518539, 0.64600648, 0.64600648, 0.00357114,\n",
       "         0.00357114, 0.41359247, 0.41359247, 0.63077696, 0.63077696,\n",
       "         0.45079598, 0.45079598, 0.85154002, 0.85154002, 0.47692148,\n",
       "         0.47692148, 0.47417068, 0.47417068, 0.9295184 , 0.9295184 ,\n",
       "         0.48162651, 0.48162651, 0.80065635, 0.80065635, 0.84010508,\n",
       "         0.84010508, 0.17479536, 0.17479536, 0.28314123, 0.28314123,\n",
       "         0.32078116, 0.32078116, 0.49609908, 0.49609908, 0.79618492,\n",
       "         0.79618492, 0.51083377, 0.51083377, 0.13449978, 0.13449978,\n",
       "         0.27507518, 0.27507518, 0.56863767, 0.56863767, 0.45449117,\n",
       "         0.45449117, 0.31535114, 0.31535114, 0.50103873, 0.50103873,\n",
       "         0.03879521, 0.03879521, 0.67895465, 0.67895465, 0.53729184,\n",
       "         0.53729184, 0.09003561, 0.09003561, 0.84662546, 0.84662546,\n",
       "         0.4258054 , 0.4258054 , 0.74951154, 0.74951154, 0.05859122,\n",
       "         0.05859122, 0.84013992, 0.84013992, 0.71001871, 0.71001871,\n",
       "         0.76994603, 0.76994603, 0.01025555, 0.01025555, 0.28521393,\n",
       "         0.28521393, 0.34233305, 0.34233305, 0.97020731, 0.97020731,\n",
       "         0.64254023, 0.64254023, 0.54422791, 0.54422791, 0.2329548 ,\n",
       "         0.2329548 , 0.88798411, 0.88798411, 0.81635439, 0.81635439,\n",
       "         0.46821361, 0.46821361, 0.03789114, 0.03789114, 0.91277576,\n",
       "         0.91277576, 0.18710037, 0.18710037, 0.90667497, 0.90667497,\n",
       "         0.02233069, 0.02233069, 0.7648633 , 0.7648633 , 0.56390951,\n",
       "         0.56390951, 0.22251997, 0.22251997, 0.71001096, 0.71001096,\n",
       "         0.85195135, 0.85195135, 0.27671191, 0.27671191, 0.81842698,\n",
       "         0.81842698, 0.58023603, 0.58023603, 0.10515366, 0.10515366,\n",
       "         0.73814308, 0.73814308, 0.19496115, 0.19496115, 0.87910711,\n",
       "         0.87910711, 0.36800619, 0.36800619, 0.04163959, 0.04163959,\n",
       "         0.53366568, 0.53366568, 0.17178426, 0.17178426, 0.57323652,\n",
       "         0.57323652, 0.24400689, 0.24400689, 0.60087044, 0.60087044,\n",
       "         0.53500688, 0.53500688, 0.89831186, 0.89831186, 0.30593679,\n",
       "         0.30593679, 0.58154674, 0.58154674, 0.4811484 , 0.4811484 ])}}"
      ]
     },
     "execution_count": 1,
     "metadata": {},
     "output_type": "execute_result"
    }
   ],
   "source": [
    "ds = load_by_id(run_id_n)\n",
    "ds.get_parameter_data('x1')"
   ]
  },
  {
   "cell_type": "markdown",
   "metadata": {},
   "source": [
    "And a dataset stored as binary arrays"
   ]
  },
  {
   "cell_type": "code",
   "execution_count": 12,
   "metadata": {
    "execution": {
     "iopub.execute_input": "2021-05-17T08:16:47.815644Z",
     "iopub.status.busy": "2021-05-17T08:16:47.815199Z",
     "iopub.status.idle": "2021-05-17T08:16:47.864497Z",
     "shell.execute_reply": "2021-05-17T08:16:47.865017Z"
    },
    "scrolled": true
   },
   "outputs": [
    {
     "data": {
      "text/plain": [
       "{'x1': {'x1': array([[0.06495758],\n",
       "         [0.06495758],\n",
       "         [0.10594879],\n",
       "         [0.10594879],\n",
       "         [0.25409918],\n",
       "         [0.25409918],\n",
       "         [0.93184276],\n",
       "         [0.93184276],\n",
       "         [0.27503059],\n",
       "         [0.27503059],\n",
       "         [0.04880764],\n",
       "         [0.04880764],\n",
       "         [0.74265959],\n",
       "         [0.74265959],\n",
       "         [0.93006328],\n",
       "         [0.93006328],\n",
       "         [0.39445504],\n",
       "         [0.39445504],\n",
       "         [0.15644434],\n",
       "         [0.15644434],\n",
       "         [0.32454282],\n",
       "         [0.32454282],\n",
       "         [0.83785831],\n",
       "         [0.83785831],\n",
       "         [0.26845722],\n",
       "         [0.26845722],\n",
       "         [0.78387602],\n",
       "         [0.78387602],\n",
       "         [0.71740778],\n",
       "         [0.71740778],\n",
       "         [0.41301795],\n",
       "         [0.41301795],\n",
       "         [0.92867301],\n",
       "         [0.92867301],\n",
       "         [0.86678006],\n",
       "         [0.86678006],\n",
       "         [0.17539499],\n",
       "         [0.17539499],\n",
       "         [0.1091822 ],\n",
       "         [0.1091822 ],\n",
       "         [0.35466906],\n",
       "         [0.35466906],\n",
       "         [0.64602743],\n",
       "         [0.64602743],\n",
       "         [0.92651987],\n",
       "         [0.92651987],\n",
       "         [0.12826398],\n",
       "         [0.12826398],\n",
       "         [0.44651382],\n",
       "         [0.44651382],\n",
       "         [0.18515572],\n",
       "         [0.18515572],\n",
       "         [0.19328267],\n",
       "         [0.19328267],\n",
       "         [0.56015651],\n",
       "         [0.56015651],\n",
       "         [0.2991245 ],\n",
       "         [0.2991245 ],\n",
       "         [0.97771296],\n",
       "         [0.97771296],\n",
       "         [0.79854973],\n",
       "         [0.79854973],\n",
       "         [0.70940544],\n",
       "         [0.70940544],\n",
       "         [0.81747469],\n",
       "         [0.81747469],\n",
       "         [0.31174596],\n",
       "         [0.31174596],\n",
       "         [0.95084717],\n",
       "         [0.95084717],\n",
       "         [0.66961764],\n",
       "         [0.66961764],\n",
       "         [0.10485066],\n",
       "         [0.10485066],\n",
       "         [0.43753167],\n",
       "         [0.43753167],\n",
       "         [0.26366742],\n",
       "         [0.26366742],\n",
       "         [0.00922519],\n",
       "         [0.00922519],\n",
       "         [0.68526464],\n",
       "         [0.68526464],\n",
       "         [0.1275651 ],\n",
       "         [0.1275651 ],\n",
       "         [0.62034677],\n",
       "         [0.62034677],\n",
       "         [0.16235841],\n",
       "         [0.16235841],\n",
       "         [0.21569395],\n",
       "         [0.21569395],\n",
       "         [0.88698436],\n",
       "         [0.88698436],\n",
       "         [0.12620423],\n",
       "         [0.12620423],\n",
       "         [0.49869877],\n",
       "         [0.49869877],\n",
       "         [0.24109954],\n",
       "         [0.24109954],\n",
       "         [0.71444724],\n",
       "         [0.71444724],\n",
       "         [0.2881619 ],\n",
       "         [0.2881619 ],\n",
       "         [0.7605073 ],\n",
       "         [0.7605073 ],\n",
       "         [0.2276864 ],\n",
       "         [0.2276864 ],\n",
       "         [0.33445555],\n",
       "         [0.33445555],\n",
       "         [0.88174965],\n",
       "         [0.88174965],\n",
       "         [0.3963499 ],\n",
       "         [0.3963499 ],\n",
       "         [0.18869932],\n",
       "         [0.18869932],\n",
       "         [0.52955984],\n",
       "         [0.52955984],\n",
       "         [0.71681044],\n",
       "         [0.71681044],\n",
       "         [0.16783526],\n",
       "         [0.16783526],\n",
       "         [0.59866188],\n",
       "         [0.59866188],\n",
       "         [0.09689118],\n",
       "         [0.09689118],\n",
       "         [0.83627981],\n",
       "         [0.83627981],\n",
       "         [0.08072796],\n",
       "         [0.08072796],\n",
       "         [0.88441203],\n",
       "         [0.88441203],\n",
       "         [0.25859956],\n",
       "         [0.25859956],\n",
       "         [0.04503297],\n",
       "         [0.04503297],\n",
       "         [0.88190687],\n",
       "         [0.88190687],\n",
       "         [0.44838339],\n",
       "         [0.44838339],\n",
       "         [0.63665679],\n",
       "         [0.63665679],\n",
       "         [0.1232021 ],\n",
       "         [0.1232021 ],\n",
       "         [0.43730523],\n",
       "         [0.43730523],\n",
       "         [0.10656024],\n",
       "         [0.10656024],\n",
       "         [0.21636085],\n",
       "         [0.21636085],\n",
       "         [0.80153441],\n",
       "         [0.80153441],\n",
       "         [0.84044704],\n",
       "         [0.84044704],\n",
       "         [0.25399185],\n",
       "         [0.25399185],\n",
       "         [0.15828587],\n",
       "         [0.15828587],\n",
       "         [0.01601526],\n",
       "         [0.01601526],\n",
       "         [0.97432929],\n",
       "         [0.97432929],\n",
       "         [0.33266231],\n",
       "         [0.33266231],\n",
       "         [0.79811016],\n",
       "         [0.79811016],\n",
       "         [0.69747613],\n",
       "         [0.69747613],\n",
       "         [0.57806431],\n",
       "         [0.57806431],\n",
       "         [0.78631672],\n",
       "         [0.78631672],\n",
       "         [0.66729962],\n",
       "         [0.66729962],\n",
       "         [0.89657203],\n",
       "         [0.89657203],\n",
       "         [0.75989856],\n",
       "         [0.75989856],\n",
       "         [0.70180181],\n",
       "         [0.70180181],\n",
       "         [0.73546342],\n",
       "         [0.73546342],\n",
       "         [0.96808017],\n",
       "         [0.96808017],\n",
       "         [0.74627605],\n",
       "         [0.74627605],\n",
       "         [0.29828921],\n",
       "         [0.29828921],\n",
       "         [0.4557419 ],\n",
       "         [0.4557419 ],\n",
       "         [0.31282855],\n",
       "         [0.31282855],\n",
       "         [0.87941239],\n",
       "         [0.87941239],\n",
       "         [0.93027298],\n",
       "         [0.93027298],\n",
       "         [0.90236963],\n",
       "         [0.90236963],\n",
       "         [0.52097396],\n",
       "         [0.52097396],\n",
       "         [0.05786535],\n",
       "         [0.05786535]])}}"
      ]
     },
     "execution_count": 1,
     "metadata": {},
     "output_type": "execute_result"
    }
   ],
   "source": [
    "ds = load_by_id(run_id_a)\n",
    "ds.get_parameter_data('x1')"
   ]
  },
  {
   "cell_type": "code",
   "execution_count": null,
   "metadata": {},
   "outputs": [],
   "source": []
  }
 ],
 "metadata": {
  "kernelspec": {
   "display_name": "Python 3",
   "language": "python",
   "name": "python3"
  },
  "language_info": {
   "codemirror_mode": {
    "name": "ipython",
    "version": 3
   },
   "file_extension": ".py",
   "mimetype": "text/x-python",
   "name": "python",
   "nbconvert_exporter": "python",
   "pygments_lexer": "ipython3",
   "version": "3.7.10"
  },
  "nbsphinx": {
   "timeout": 600
  },
  "toc": {
   "base_numbering": 1,
   "nav_menu": {},
   "number_sections": true,
   "sideBar": true,
   "skip_h1_title": false,
   "title_cell": "Table of Contents",
   "title_sidebar": "Contents",
   "toc_cell": false,
   "toc_position": {},
   "toc_section_display": true,
   "toc_window_display": false
  },
  "varInspector": {
   "cols": {
    "lenName": 16,
    "lenType": 16,
    "lenVar": 40
   },
   "kernels_config": {
    "python": {
     "delete_cmd_postfix": "",
     "delete_cmd_prefix": "del ",
     "library": "var_list.py",
     "varRefreshCmd": "print(var_dic_list())"
    },
    "r": {
     "delete_cmd_postfix": ") ",
     "delete_cmd_prefix": "rm(",
     "library": "var_list.r",
     "varRefreshCmd": "cat(var_dic_list()) "
    }
   },
   "types_to_exclude": [
    "module",
    "function",
    "builtin_function_or_method",
    "instance",
    "_Feature"
   ],
   "window_display": false
  }
 },
 "nbformat": 4,
 "nbformat_minor": 4
}
