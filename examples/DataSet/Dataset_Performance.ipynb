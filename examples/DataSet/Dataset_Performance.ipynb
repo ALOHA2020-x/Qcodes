{
 "cells": [
  {
   "cell_type": "markdown",
   "metadata": {},
   "source": [
    "# DataSet Performance\n",
    "\n",
    "This notebook shows the trade-off between inserting data into a database row-by-row and as binary blobs. Inserting the data row-by-row means that we have direct access to all the data and may perform queries directly on the values of the data. On the other hand, as we shall see, this is much slower than inserting the data directly as binary blobs."
   ]
  },
  {
   "cell_type": "markdown",
   "metadata": {},
   "source": [
    "First, we choose a new location for the database to ensure that we don't add a bunch of benchmarking data to the default one."
   ]
  },
  {
   "cell_type": "code",
   "execution_count": 1,
   "metadata": {},
   "outputs": [
    {
     "name": "stdout",
     "output_type": "stream",
     "text": [
      "Logging hadn't been started.\n",
      "Activating auto-logging. Current session state plus future input saved.\n",
      "Filename       : /home/vsts/.qcodes/logs/command_history.log\n",
      "Mode           : append\n",
      "Output logging : True\n",
      "Raw input log  : False\n",
      "Timestamping   : True\n",
      "State          : active\n"
     ]
    },
    {
     "name": "stdout",
     "output_type": "stream",
     "text": [
      "Qcodes Logfile : /home/vsts/.qcodes/logs/200323-19200-qcodes.log\n"
     ]
    }
   ],
   "source": [
    "import os\n",
    "cwd = os.getcwd()\n",
    "import qcodes as qc\n",
    "qc.config[\"core\"][\"db_location\"] = os.path.join(cwd, 'testing.db')\n"
   ]
  },
  {
   "cell_type": "code",
   "execution_count": 2,
   "metadata": {},
   "outputs": [],
   "source": [
    "%matplotlib inline\n",
    "import time\n",
    "import matplotlib.pyplot as plt\n",
    "import numpy as np\n",
    "\n",
    "import qcodes as qc\n",
    "from qcodes.instrument.parameter import ManualParameter\n",
    "from qcodes.dataset.experiment_container import (Experiment,\n",
    "                                                 load_last_experiment,\n",
    "                                                 new_experiment)\n",
    "from qcodes.dataset.sqlite.database import initialise_database\n",
    "from qcodes import load_or_create_experiment\n",
    "from qcodes.dataset.measurements import Measurement"
   ]
  },
  {
   "cell_type": "code",
   "execution_count": 3,
   "metadata": {},
   "outputs": [
    {
     "name": "stdout",
     "output_type": "stream",
     "text": [
      "\r",
      "0it [00:00, ?it/s]"
     ]
    },
    {
     "name": "stdout",
     "output_type": "stream",
     "text": [
      "\r",
      "Upgrading database; v0 -> v1: : 0it [00:00, ?it/s]"
     ]
    },
    {
     "name": "stdout",
     "output_type": "stream",
     "text": [
      "\r",
      "Upgrading database; v0 -> v1: : 0it [00:00, ?it/s]"
     ]
    },
    {
     "name": "stdout",
     "output_type": "stream",
     "text": [
      "\n",
      "\r",
      "  0%|          | 0/1 [00:00<?, ?it/s]"
     ]
    },
    {
     "name": "stdout",
     "output_type": "stream",
     "text": [
      "\r",
      "Upgrading database; v1 -> v2:   0%|          | 0/1 [00:00<?, ?it/s]"
     ]
    },
    {
     "name": "stdout",
     "output_type": "stream",
     "text": [
      "\r",
      "Upgrading database; v1 -> v2: 100%|██████████| 1/1 [00:00<00:00, 718.08it/s]"
     ]
    },
    {
     "name": "stdout",
     "output_type": "stream",
     "text": [
      "\n",
      "\r",
      "0it [00:00, ?it/s]"
     ]
    },
    {
     "name": "stdout",
     "output_type": "stream",
     "text": [
      "\r",
      "Upgrading database; v2 -> v3: : 0it [00:00, ?it/s]"
     ]
    },
    {
     "name": "stdout",
     "output_type": "stream",
     "text": [
      "\r",
      "Upgrading database; v2 -> v3: : 0it [00:00, ?it/s]"
     ]
    },
    {
     "name": "stdout",
     "output_type": "stream",
     "text": [
      "\n",
      "\r",
      "0it [00:00, ?it/s]"
     ]
    },
    {
     "name": "stdout",
     "output_type": "stream",
     "text": [
      "\r",
      "Upgrading database; v3 -> v4: : 0it [00:00, ?it/s]"
     ]
    },
    {
     "name": "stdout",
     "output_type": "stream",
     "text": [
      "\r",
      "Upgrading database; v3 -> v4: : 0it [00:00, ?it/s]"
     ]
    },
    {
     "name": "stdout",
     "output_type": "stream",
     "text": [
      "\n",
      "\r",
      "  0%|          | 0/1 [00:00<?, ?it/s]"
     ]
    },
    {
     "name": "stdout",
     "output_type": "stream",
     "text": [
      "\r",
      "Upgrading database; v4 -> v5:   0%|          | 0/1 [00:00<?, ?it/s]"
     ]
    },
    {
     "name": "stdout",
     "output_type": "stream",
     "text": [
      "\r",
      "Upgrading database; v4 -> v5: 100%|██████████| 1/1 [00:00<00:00, 453.29it/s]"
     ]
    },
    {
     "name": "stdout",
     "output_type": "stream",
     "text": [
      "\n",
      "\r",
      "0it [00:00, ?it/s]"
     ]
    },
    {
     "name": "stdout",
     "output_type": "stream",
     "text": [
      "\r",
      "Upgrading database; v5 -> v6: : 0it [00:00, ?it/s]"
     ]
    },
    {
     "name": "stdout",
     "output_type": "stream",
     "text": [
      "\r",
      "Upgrading database; v5 -> v6: : 0it [00:00, ?it/s]"
     ]
    },
    {
     "name": "stdout",
     "output_type": "stream",
     "text": [
      "\n",
      "\r",
      "  0%|          | 0/1 [00:00<?, ?it/s]"
     ]
    },
    {
     "name": "stdout",
     "output_type": "stream",
     "text": [
      "\r",
      "Upgrading database; v6 -> v7:   0%|          | 0/1 [00:00<?, ?it/s]"
     ]
    },
    {
     "name": "stdout",
     "output_type": "stream",
     "text": [
      "\r",
      "Upgrading database; v6 -> v7: 100%|██████████| 1/1 [00:00<00:00, 348.86it/s]"
     ]
    },
    {
     "name": "stdout",
     "output_type": "stream",
     "text": [
      "\n",
      "\r",
      "  0%|          | 0/1 [00:00<?, ?it/s]"
     ]
    },
    {
     "name": "stdout",
     "output_type": "stream",
     "text": [
      "\r",
      "Upgrading database; v7 -> v8:   0%|          | 0/1 [00:00<?, ?it/s]"
     ]
    },
    {
     "name": "stdout",
     "output_type": "stream",
     "text": [
      "\r",
      "Upgrading database; v7 -> v8: 100%|██████████| 1/1 [00:00<00:00, 614.37it/s]"
     ]
    },
    {
     "name": "stdout",
     "output_type": "stream",
     "text": [
      "\n",
      "\r",
      "  0%|          | 0/1 [00:00<?, ?it/s]"
     ]
    },
    {
     "name": "stdout",
     "output_type": "stream",
     "text": [
      "\r",
      "Upgrading database; v8 -> v9:   0%|          | 0/1 [00:00<?, ?it/s]"
     ]
    },
    {
     "name": "stdout",
     "output_type": "stream",
     "text": [
      "\r",
      "Upgrading database; v8 -> v9: 100%|██████████| 1/1 [00:00<00:00, 787.51it/s]"
     ]
    },
    {
     "name": "stdout",
     "output_type": "stream",
     "text": [
      "\n"
     ]
    }
   ],
   "source": [
    "initialise_database()\n",
    "exp = load_or_create_experiment(experiment_name='tutorial_exp', sample_name=\"no sample\")"
   ]
  },
  {
   "cell_type": "markdown",
   "metadata": {},
   "source": [
    "Here, we define a simple function to benchmark the time it takes to insert n points with either numeric or array data type.\n",
    "We will compare both the time used to call ``add_result`` and the time used for the full measurement."
   ]
  },
  {
   "cell_type": "code",
   "execution_count": 4,
   "metadata": {},
   "outputs": [],
   "source": [
    "def insert_data(paramtype, npoints, nreps=1):\n",
    "\n",
    "    meas = Measurement(exp=exp)\n",
    "\n",
    "    x1 = ManualParameter('x1')\n",
    "    x2 = ManualParameter('x2')\n",
    "    x3 = ManualParameter('x3')\n",
    "    y1 = ManualParameter('y1')\n",
    "    y2 = ManualParameter('y2')\n",
    "\n",
    "    meas.register_parameter(x1, paramtype=paramtype)\n",
    "    meas.register_parameter(x2, paramtype=paramtype)\n",
    "    meas.register_parameter(x3, paramtype=paramtype)\n",
    "    meas.register_parameter(y1, setpoints=[x1, x2, x3],\n",
    "                            paramtype=paramtype)\n",
    "    meas.register_parameter(y2, setpoints=[x1, x2, x3],\n",
    "                            paramtype=paramtype)\n",
    "    start = time.perf_counter()\n",
    "    with meas.run() as datasaver:\n",
    "        start_adding = time.perf_counter()\n",
    "        for i in range(nreps):\n",
    "            datasaver.add_result((x1, np.random.rand(npoints)),\n",
    "                                 (x2, np.random.rand(npoints)),\n",
    "                                 (x3, np.random.rand(npoints)),\n",
    "                                 (y1, np.random.rand(npoints)),\n",
    "                                 (y2, np.random.rand(npoints)))\n",
    "        stop_adding = time.perf_counter()\n",
    "        run_id = datasaver.run_id\n",
    "    stop = time.perf_counter()\n",
    "    tot_time = stop - start\n",
    "    add_time = stop_adding - start_adding\n",
    "    return tot_time, add_time, run_id"
   ]
  },
  {
   "cell_type": "markdown",
   "metadata": {},
   "source": [
    "## Comparison between numeric/array data and binary blob"
   ]
  },
  {
   "cell_type": "markdown",
   "metadata": {},
   "source": [
    "### Case1: Short experiment time"
   ]
  },
  {
   "cell_type": "code",
   "execution_count": 5,
   "metadata": {},
   "outputs": [
    {
     "name": "stdout",
     "output_type": "stream",
     "text": [
      "Starting experimental run with id: 1. \n",
      "Starting experimental run with id: 2. \n",
      "Starting experimental run with id: 3. \n"
     ]
    },
    {
     "name": "stdout",
     "output_type": "stream",
     "text": [
      "Starting experimental run with id: 4. \n"
     ]
    },
    {
     "name": "stdout",
     "output_type": "stream",
     "text": [
      "Starting experimental run with id: 5. "
     ]
    },
    {
     "name": "stdout",
     "output_type": "stream",
     "text": [
      "\n"
     ]
    },
    {
     "name": "stdout",
     "output_type": "stream",
     "text": [
      "Starting experimental run with id: 6. \n"
     ]
    },
    {
     "name": "stdout",
     "output_type": "stream",
     "text": [
      "Starting experimental run with id: 7. \n"
     ]
    },
    {
     "name": "stdout",
     "output_type": "stream",
     "text": [
      "Starting experimental run with id: 8. \n",
      "Starting experimental run with id: 9. \n"
     ]
    },
    {
     "name": "stdout",
     "output_type": "stream",
     "text": [
      "Starting experimental run with id: 10. \n",
      "Starting experimental run with id: 11. \n"
     ]
    },
    {
     "name": "stdout",
     "output_type": "stream",
     "text": [
      "Starting experimental run with id: 12. \n",
      "Starting experimental run with id: 13. \n"
     ]
    },
    {
     "name": "stdout",
     "output_type": "stream",
     "text": [
      "Starting experimental run with id: 14. \n"
     ]
    }
   ],
   "source": [
    "sizes = [1,500,1000,2000,3000,4000,5000]\n",
    "t_numeric = []\n",
    "t_numeric_add = []\n",
    "t_array = []\n",
    "t_array_add = []\n",
    "for size in sizes:\n",
    "    tn, tna, run_id_n =  insert_data('numeric', size)\n",
    "    t_numeric.append(tn)\n",
    "    t_numeric_add.append(tna)\n",
    "\n",
    "    ta, taa, run_id_a =  insert_data('array', size)\n",
    "    t_array.append(ta)\n",
    "    t_array_add.append(taa)"
   ]
  },
  {
   "cell_type": "code",
   "execution_count": 6,
   "metadata": {},
   "outputs": [
    {
     "data": {
      "image/png": "[encoded data removed]",
      "text/plain": [
       "<Figure size 432x288 with 1 Axes>"
      ]
     },
     "metadata": {
      "needs_background": "light"
     },
     "output_type": "display_data"
    }
   ],
   "source": [
    "fig, ax = plt.subplots(1,1)\n",
    "ax.plot(sizes, t_numeric, 'o-', label='Inserting row-by-row')\n",
    "ax.plot(sizes, t_numeric_add, 'o-', label='Inserting row-by-row: add_result only')\n",
    "ax.plot(sizes, t_array, 'd-', label='Inserting as binary blob')\n",
    "ax.plot(sizes, t_array_add, 'd-', label='Inserting as binary blob: add_result only')\n",
    "ax.legend()\n",
    "ax.set_xlabel('Array length')\n",
    "ax.set_ylabel('Time (s)')\n",
    "fig.tight_layout()"
   ]
  },
  {
   "cell_type": "markdown",
   "metadata": {},
   "source": [
    "As shown in the latter figure, the time to setup and and close the experiment is approximately 0.4 sec. In case of small array sizes, the difference between inserting values of data as arrays and inserting them row-by-row is relatively unimportant. At larger array sizes, i.e. above 10000 points, the cost of writing data as individual datapoints starts to become important.\n"
   ]
  },
  {
   "cell_type": "markdown",
   "metadata": {},
   "source": [
    "### Case2: Long experiment time "
   ]
  },
  {
   "cell_type": "code",
   "execution_count": 7,
   "metadata": {},
   "outputs": [
    {
     "name": "stdout",
     "output_type": "stream",
     "text": [
      "Starting experimental run with id: 15. \n",
      "Starting experimental run with id: 16. \n",
      "Starting experimental run with id: 17. \n"
     ]
    },
    {
     "name": "stdout",
     "output_type": "stream",
     "text": [
      "Starting experimental run with id: 18. \n",
      "Starting experimental run with id: 19. \n"
     ]
    },
    {
     "name": "stdout",
     "output_type": "stream",
     "text": [
      "Starting experimental run with id: 20. \n"
     ]
    },
    {
     "name": "stdout",
     "output_type": "stream",
     "text": [
      "Starting experimental run with id: 21. \n"
     ]
    },
    {
     "name": "stdout",
     "output_type": "stream",
     "text": [
      "Starting experimental run with id: 22. \n"
     ]
    },
    {
     "name": "stdout",
     "output_type": "stream",
     "text": [
      "Starting experimental run with id: 23. \n"
     ]
    },
    {
     "name": "stdout",
     "output_type": "stream",
     "text": [
      "Starting experimental run with id: 24. \n"
     ]
    },
    {
     "name": "stdout",
     "output_type": "stream",
     "text": [
      "Starting experimental run with id: 25. \n"
     ]
    },
    {
     "name": "stdout",
     "output_type": "stream",
     "text": [
      "Starting experimental run with id: 26. \n"
     ]
    },
    {
     "name": "stdout",
     "output_type": "stream",
     "text": [
      "Starting experimental run with id: 27. \n"
     ]
    },
    {
     "name": "stdout",
     "output_type": "stream",
     "text": [
      "Starting experimental run with id: 28. \n"
     ]
    }
   ],
   "source": [
    "sizes = [1,500,1000,2000,3000,4000,5000]\n",
    "nreps = 100\n",
    "t_numeric = []\n",
    "t_numeric_add = []\n",
    "t_numeric_run_ids = []\n",
    "t_array = []\n",
    "t_array_add = []\n",
    "t_array_run_ids = []\n",
    "for size in sizes:\n",
    "    tn, tna, run_id_n =  insert_data('numeric', size, nreps=nreps)\n",
    "    t_numeric.append(tn)\n",
    "    t_numeric_add.append(tna)\n",
    "    t_numeric_run_ids.append(run_id_n)\n",
    "\n",
    "    ta, taa, run_id_a =  insert_data('array', size, nreps=nreps)\n",
    "    t_array.append(ta)\n",
    "    t_array_add.append(taa)\n",
    "    t_array_run_ids.append(run_id_a)"
   ]
  },
  {
   "cell_type": "code",
   "execution_count": 8,
   "metadata": {
    "scrolled": true
   },
   "outputs": [
    {
     "data": {
      "image/png": "[encoded data removed]",
      "text/plain": [
       "<Figure size 432x288 with 1 Axes>"
      ]
     },
     "metadata": {
      "needs_background": "light"
     },
     "output_type": "display_data"
    }
   ],
   "source": [
    "fig, ax = plt.subplots(1,1)\n",
    "ax.plot(sizes, t_numeric, 'o-', label='Inserting row-by-row')\n",
    "ax.plot(sizes, t_numeric_add, 'o-', label='Inserting row-by-row: add_result only')\n",
    "ax.plot(sizes, t_array, 'd-', label='Inserting as binary blob')\n",
    "ax.plot(sizes, t_array_add, 'd-', label='Inserting as binary blob: add_result only')\n",
    "ax.legend()\n",
    "ax.set_xlabel('Array length')\n",
    "ax.set_ylabel('Time (s)')\n",
    "fig.tight_layout()"
   ]
  },
  {
   "cell_type": "markdown",
   "metadata": {},
   "source": [
    "However, as we increase the length of the experiment, as seen here by repeating the insertion 100 times, we see a big difference between inserting values of the data row-by-row and inserting it as a binary blob."
   ]
  },
  {
   "cell_type": "markdown",
   "metadata": {},
   "source": [
    "## Loading the data "
   ]
  },
  {
   "cell_type": "code",
   "execution_count": 9,
   "metadata": {},
   "outputs": [],
   "source": [
    "from qcodes.dataset.data_set import load_by_id\n",
    "from qcodes.dataset.data_export import get_data_by_id"
   ]
  },
  {
   "cell_type": "markdown",
   "metadata": {},
   "source": [
    "As usual you can load the data by using the ``load_by_id`` function but you will notice that the different storage methods\n",
    "are reflected in shape of the data as it is retrieved. "
   ]
  },
  {
   "cell_type": "code",
   "execution_count": 10,
   "metadata": {},
   "outputs": [],
   "source": [
    "run_id_n = t_numeric_run_ids[0]\n",
    "run_id_a = t_array_run_ids[0]"
   ]
  },
  {
   "cell_type": "code",
   "execution_count": 11,
   "metadata": {
    "scrolled": true
   },
   "outputs": [
    {
     "data": {
      "text/plain": [
       "{'x1': {'x1': array([0.41431024, 0.41431024, 0.63582277, 0.63582277, 0.58684504,\n",
       "         0.58684504, 0.07891498, 0.07891498, 0.87020225, 0.87020225,\n",
       "         0.83979221, 0.83979221, 0.43726681, 0.43726681, 0.96255369,\n",
       "         0.96255369, 0.84317841, 0.84317841, 0.48959605, 0.48959605,\n",
       "         0.30078305, 0.30078305, 0.18298674, 0.18298674, 0.17588163,\n",
       "         0.17588163, 0.37908172, 0.37908172, 0.50723526, 0.50723526,\n",
       "         0.62443181, 0.62443181, 0.7793625 , 0.7793625 , 0.4582813 ,\n",
       "         0.4582813 , 0.36920811, 0.36920811, 0.22260892, 0.22260892,\n",
       "         0.29782652, 0.29782652, 0.18568939, 0.18568939, 0.55545231,\n",
       "         0.55545231, 0.89937647, 0.89937647, 0.65507012, 0.65507012,\n",
       "         0.91907692, 0.91907692, 0.24795654, 0.24795654, 0.881495  ,\n",
       "         0.881495  , 0.8550399 , 0.8550399 , 0.59355275, 0.59355275,\n",
       "         0.54031213, 0.54031213, 0.08200855, 0.08200855, 0.1589138 ,\n",
       "         0.1589138 , 0.04702243, 0.04702243, 0.69097499, 0.69097499,\n",
       "         0.87001226, 0.87001226, 0.3954666 , 0.3954666 , 0.68994299,\n",
       "         0.68994299, 0.07316536, 0.07316536, 0.51484627, 0.51484627,\n",
       "         0.60129498, 0.60129498, 0.00265751, 0.00265751, 0.99661156,\n",
       "         0.99661156, 0.90497734, 0.90497734, 0.32986522, 0.32986522,\n",
       "         0.91246879, 0.91246879, 0.22541345, 0.22541345, 0.4953209 ,\n",
       "         0.4953209 , 0.34442101, 0.34442101, 0.51269346, 0.51269346,\n",
       "         0.70489529, 0.70489529, 0.39732049, 0.39732049, 0.45923388,\n",
       "         0.45923388, 0.79040986, 0.79040986, 0.97799563, 0.97799563,\n",
       "         0.97791761, 0.97791761, 0.61150298, 0.61150298, 0.3050837 ,\n",
       "         0.3050837 , 0.23966867, 0.23966867, 0.93440224, 0.93440224,\n",
       "         0.74910727, 0.74910727, 0.82417673, 0.82417673, 0.37518093,\n",
       "         0.37518093, 0.16867438, 0.16867438, 0.55393385, 0.55393385,\n",
       "         0.37307548, 0.37307548, 0.53008414, 0.53008414, 0.56968889,\n",
       "         0.56968889, 0.63859195, 0.63859195, 0.49071403, 0.49071403,\n",
       "         0.09653435, 0.09653435, 0.06880354, 0.06880354, 0.39672072,\n",
       "         0.39672072, 0.273456  , 0.273456  , 0.40910815, 0.40910815,\n",
       "         0.82212892, 0.82212892, 0.33352423, 0.33352423, 0.92450632,\n",
       "         0.92450632, 0.22360793, 0.22360793, 0.04170485, 0.04170485,\n",
       "         0.58894571, 0.58894571, 0.2459552 , 0.2459552 , 0.53599376,\n",
       "         0.53599376, 0.56820084, 0.56820084, 0.40167222, 0.40167222,\n",
       "         0.30023367, 0.30023367, 0.24486866, 0.24486866, 0.92361165,\n",
       "         0.92361165, 0.23913488, 0.23913488, 0.86108545, 0.86108545,\n",
       "         0.73265936, 0.73265936, 0.46696482, 0.46696482, 0.22066904,\n",
       "         0.22066904, 0.79119511, 0.79119511, 0.59188148, 0.59188148,\n",
       "         0.13288433, 0.13288433, 0.86625444, 0.86625444, 0.92320353,\n",
       "         0.92320353, 0.53081529, 0.53081529, 0.41465975, 0.41465975])}}"
      ]
     },
     "execution_count": 11,
     "metadata": {},
     "output_type": "execute_result"
    }
   ],
   "source": [
    "ds = load_by_id(run_id_n)\n",
    "ds.get_parameter_data('x1')"
   ]
  },
  {
   "cell_type": "markdown",
   "metadata": {},
   "source": [
    "And a dataset stored as binary arrays"
   ]
  },
  {
   "cell_type": "code",
   "execution_count": 12,
   "metadata": {
    "scrolled": true
   },
   "outputs": [
    {
     "data": {
      "text/plain": [
       "{'x1': {'x1': array([[0.21658714],\n",
       "         [0.21658714],\n",
       "         [0.29648414],\n",
       "         [0.29648414],\n",
       "         [0.90658021],\n",
       "         [0.90658021],\n",
       "         [0.5638386 ],\n",
       "         [0.5638386 ],\n",
       "         [0.01250547],\n",
       "         [0.01250547],\n",
       "         [0.42581671],\n",
       "         [0.42581671],\n",
       "         [0.15685892],\n",
       "         [0.15685892],\n",
       "         [0.73026131],\n",
       "         [0.73026131],\n",
       "         [0.57399143],\n",
       "         [0.57399143],\n",
       "         [0.53619247],\n",
       "         [0.53619247],\n",
       "         [0.15924411],\n",
       "         [0.15924411],\n",
       "         [0.33280077],\n",
       "         [0.33280077],\n",
       "         [0.81979048],\n",
       "         [0.81979048],\n",
       "         [0.8207468 ],\n",
       "         [0.8207468 ],\n",
       "         [0.9585387 ],\n",
       "         [0.9585387 ],\n",
       "         [0.27540546],\n",
       "         [0.27540546],\n",
       "         [0.00646599],\n",
       "         [0.00646599],\n",
       "         [0.00768064],\n",
       "         [0.00768064],\n",
       "         [0.5821378 ],\n",
       "         [0.5821378 ],\n",
       "         [0.23247768],\n",
       "         [0.23247768],\n",
       "         [0.69999851],\n",
       "         [0.69999851],\n",
       "         [0.14403727],\n",
       "         [0.14403727],\n",
       "         [0.27964107],\n",
       "         [0.27964107],\n",
       "         [0.60410288],\n",
       "         [0.60410288],\n",
       "         [0.38488931],\n",
       "         [0.38488931],\n",
       "         [0.84617309],\n",
       "         [0.84617309],\n",
       "         [0.29818375],\n",
       "         [0.29818375],\n",
       "         [0.62120586],\n",
       "         [0.62120586],\n",
       "         [0.46687179],\n",
       "         [0.46687179],\n",
       "         [0.8526552 ],\n",
       "         [0.8526552 ],\n",
       "         [0.5966437 ],\n",
       "         [0.5966437 ],\n",
       "         [0.87394413],\n",
       "         [0.87394413],\n",
       "         [0.47403086],\n",
       "         [0.47403086],\n",
       "         [0.51362758],\n",
       "         [0.51362758],\n",
       "         [0.69301915],\n",
       "         [0.69301915],\n",
       "         [0.72433344],\n",
       "         [0.72433344],\n",
       "         [0.92069621],\n",
       "         [0.92069621],\n",
       "         [0.61083463],\n",
       "         [0.61083463],\n",
       "         [0.57871683],\n",
       "         [0.57871683],\n",
       "         [0.73997373],\n",
       "         [0.73997373],\n",
       "         [0.53660981],\n",
       "         [0.53660981],\n",
       "         [0.50948953],\n",
       "         [0.50948953],\n",
       "         [0.85427867],\n",
       "         [0.85427867],\n",
       "         [0.18771085],\n",
       "         [0.18771085],\n",
       "         [0.76920617],\n",
       "         [0.76920617],\n",
       "         [0.50863997],\n",
       "         [0.50863997],\n",
       "         [0.61100148],\n",
       "         [0.61100148],\n",
       "         [0.08680528],\n",
       "         [0.08680528],\n",
       "         [0.5868788 ],\n",
       "         [0.5868788 ],\n",
       "         [0.61558123],\n",
       "         [0.61558123],\n",
       "         [0.05469859],\n",
       "         [0.05469859],\n",
       "         [0.47595344],\n",
       "         [0.47595344],\n",
       "         [0.23624157],\n",
       "         [0.23624157],\n",
       "         [0.83152918],\n",
       "         [0.83152918],\n",
       "         [0.11383566],\n",
       "         [0.11383566],\n",
       "         [0.48937516],\n",
       "         [0.48937516],\n",
       "         [0.64120467],\n",
       "         [0.64120467],\n",
       "         [0.90103214],\n",
       "         [0.90103214],\n",
       "         [0.31232777],\n",
       "         [0.31232777],\n",
       "         [0.64371709],\n",
       "         [0.64371709],\n",
       "         [0.81127157],\n",
       "         [0.81127157],\n",
       "         [0.29274347],\n",
       "         [0.29274347],\n",
       "         [0.62258223],\n",
       "         [0.62258223],\n",
       "         [0.02794902],\n",
       "         [0.02794902],\n",
       "         [0.81427529],\n",
       "         [0.81427529],\n",
       "         [0.49347013],\n",
       "         [0.49347013],\n",
       "         [0.62792182],\n",
       "         [0.62792182],\n",
       "         [0.14214332],\n",
       "         [0.14214332],\n",
       "         [0.73397836],\n",
       "         [0.73397836],\n",
       "         [0.10023458],\n",
       "         [0.10023458],\n",
       "         [0.36270645],\n",
       "         [0.36270645],\n",
       "         [0.08893121],\n",
       "         [0.08893121],\n",
       "         [0.2893313 ],\n",
       "         [0.2893313 ],\n",
       "         [0.78472039],\n",
       "         [0.78472039],\n",
       "         [0.45976733],\n",
       "         [0.45976733],\n",
       "         [0.12967507],\n",
       "         [0.12967507],\n",
       "         [0.79594502],\n",
       "         [0.79594502],\n",
       "         [0.59757853],\n",
       "         [0.59757853],\n",
       "         [0.53462209],\n",
       "         [0.53462209],\n",
       "         [0.31589999],\n",
       "         [0.31589999],\n",
       "         [0.10840679],\n",
       "         [0.10840679],\n",
       "         [0.34252188],\n",
       "         [0.34252188],\n",
       "         [0.88489662],\n",
       "         [0.88489662],\n",
       "         [0.34399814],\n",
       "         [0.34399814],\n",
       "         [0.14177789],\n",
       "         [0.14177789],\n",
       "         [0.23225821],\n",
       "         [0.23225821],\n",
       "         [0.07120789],\n",
       "         [0.07120789],\n",
       "         [0.27427897],\n",
       "         [0.27427897],\n",
       "         [0.38833297],\n",
       "         [0.38833297],\n",
       "         [0.56790081],\n",
       "         [0.56790081],\n",
       "         [0.94172739],\n",
       "         [0.94172739],\n",
       "         [0.20462726],\n",
       "         [0.20462726],\n",
       "         [0.81431317],\n",
       "         [0.81431317],\n",
       "         [0.71236658],\n",
       "         [0.71236658],\n",
       "         [0.96342813],\n",
       "         [0.96342813],\n",
       "         [0.9533371 ],\n",
       "         [0.9533371 ],\n",
       "         [0.26377136],\n",
       "         [0.26377136],\n",
       "         [0.99322155],\n",
       "         [0.99322155],\n",
       "         [0.32246488],\n",
       "         [0.32246488],\n",
       "         [0.41212483],\n",
       "         [0.41212483]])}}"
      ]
     },
     "execution_count": 12,
     "metadata": {},
     "output_type": "execute_result"
    }
   ],
   "source": [
    "ds = load_by_id(run_id_a)\n",
    "ds.get_parameter_data('x1')"
   ]
  },
  {
   "cell_type": "code",
   "execution_count": null,
   "metadata": {},
   "outputs": [],
   "source": []
  }
 ],
 "metadata": {
  "kernelspec": {
   "display_name": "Python 3",
   "language": "python",
   "name": "python3"
  },
  "language_info": {
   "codemirror_mode": {
    "name": "ipython",
    "version": 3
   },
   "file_extension": ".py",
   "mimetype": "text/x-python",
   "name": "python",
   "nbconvert_exporter": "python",
   "pygments_lexer": "ipython3",
   "version": "3.7.5"
  },
  "nbsphinx": {
   "timeout": 600
  },
  "toc": {
   "base_numbering": 1,
   "nav_menu": {},
   "number_sections": true,
   "sideBar": true,
   "skip_h1_title": false,
   "title_cell": "Table of Contents",
   "title_sidebar": "Contents",
   "toc_cell": false,
   "toc_position": {},
   "toc_section_display": true,
   "toc_window_display": false
  },
  "varInspector": {
   "cols": {
    "lenName": 16,
    "lenType": 16,
    "lenVar": 40
   },
   "kernels_config": {
    "python": {
     "delete_cmd_postfix": "",
     "delete_cmd_prefix": "del ",
     "library": "var_list.py",
     "varRefreshCmd": "print(var_dic_list())"
    },
    "r": {
     "delete_cmd_postfix": ") ",
     "delete_cmd_prefix": "rm(",
     "library": "var_list.r",
     "varRefreshCmd": "cat(var_dic_list()) "
    }
   },
   "types_to_exclude": [
    "module",
    "function",
    "builtin_function_or_method",
    "instance",
    "_Feature"
   ],
   "window_display": false
  }
 },
 "nbformat": 4,
 "nbformat_minor": 2
}
