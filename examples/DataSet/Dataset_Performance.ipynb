{
 "cells": [
  {
   "cell_type": "markdown",
   "metadata": {},
   "source": [
    "# DataSet Performance\n",
    "\n",
    "This notebook shows the trade-off between inserting data into a database row-by-row and as binary blobs. Inserting the data row-by-row means that we have direct access to all the data and may perform queries directly on the values of the data. On the other hand, as we shall see, this is much slower than inserting the data directly as binary blobs."
   ]
  },
  {
   "cell_type": "markdown",
   "metadata": {},
   "source": [
    "First, we choose a new location for the database to ensure that we don't add a bunch of benchmarking data to the default one."
   ]
  },
  {
   "cell_type": "code",
   "execution_count": 1,
   "metadata": {
    "execution": {
     "iopub.execute_input": "2021-05-25T06:42:49.872543Z",
     "iopub.status.busy": "2021-05-25T06:42:49.871816Z",
     "iopub.status.idle": "2021-05-25T06:42:50.889676Z",
     "shell.execute_reply": "2021-05-25T06:42:50.888490Z"
    }
   },
   "outputs": [
    {
     "name": "stdout",
     "output_type": "stream",
     "text": [
      "Logging hadn't been started.\n",
      "Activating auto-logging. Current session state plus future input saved.\n",
      "Filename       : /home/runner/.qcodes/logs/command_history.log\n",
      "Mode           : append\n",
      "Output logging : True\n",
      "Raw input log  : False\n",
      "Timestamping   : True\n",
      "State          : active\n"
     ]
    },
    {
     "name": "stdout",
     "output_type": "stream",
     "text": [
      "Qcodes Logfile : /home/runner/.qcodes/logs/210525-4510-qcodes.log\n"
     ]
    }
   ],
   "source": [
    "import os\n",
    "cwd = os.getcwd()\n",
    "import qcodes as qc\n",
    "qc.config[\"core\"][\"db_location\"] = os.path.join(cwd, 'testing.db')\n"
   ]
  },
  {
   "cell_type": "code",
   "execution_count": 2,
   "metadata": {
    "execution": {
     "iopub.execute_input": "2021-05-25T06:42:50.896465Z",
     "iopub.status.busy": "2021-05-25T06:42:50.895177Z",
     "iopub.status.idle": "2021-05-25T06:42:51.060689Z",
     "shell.execute_reply": "2021-05-25T06:42:51.059529Z"
    }
   },
   "outputs": [],
   "source": [
    "%matplotlib inline\n",
    "import time\n",
    "import matplotlib.pyplot as plt\n",
    "import numpy as np\n",
    "\n",
    "import qcodes as qc\n",
    "from qcodes.instrument.parameter import ManualParameter\n",
    "from qcodes.dataset.experiment_container import (Experiment,\n",
    "                                                 load_last_experiment,\n",
    "                                                 new_experiment)\n",
    "from qcodes.dataset.sqlite.database import initialise_database\n",
    "from qcodes import load_or_create_experiment\n",
    "from qcodes.dataset.measurements import Measurement"
   ]
  },
  {
   "cell_type": "code",
   "execution_count": 3,
   "metadata": {
    "execution": {
     "iopub.execute_input": "2021-05-25T06:42:51.064853Z",
     "iopub.status.busy": "2021-05-25T06:42:51.064032Z",
     "iopub.status.idle": "2021-05-25T06:42:51.119835Z",
     "shell.execute_reply": "2021-05-25T06:42:51.119410Z"
    }
   },
   "outputs": [
    {
     "name": "stdout",
     "output_type": "stream",
     "text": [
      "\r",
      "0it [00:00, ?it/s]"
     ]
    },
    {
     "name": "stdout",
     "output_type": "stream",
     "text": [
      "\r",
      "Upgrading database; v0 -> v1: : 0it [00:00, ?it/s]"
     ]
    },
    {
     "name": "stdout",
     "output_type": "stream",
     "text": [
      "\r",
      "Upgrading database; v0 -> v1: : 0it [00:00, ?it/s]"
     ]
    },
    {
     "name": "stdout",
     "output_type": "stream",
     "text": [
      "\n",
      "\r",
      "  0%|          | 0/1 [00:00<?, ?it/s]"
     ]
    },
    {
     "name": "stdout",
     "output_type": "stream",
     "text": [
      "\r",
      "Upgrading database; v1 -> v2:   0%|          | 0/1 [00:00<?, ?it/s]"
     ]
    },
    {
     "name": "stdout",
     "output_type": "stream",
     "text": [
      "\r",
      "Upgrading database; v1 -> v2: 100%|██████████| 1/1 [00:00<00:00, 676.94it/s]"
     ]
    },
    {
     "name": "stdout",
     "output_type": "stream",
     "text": [
      "\n",
      "\r",
      "0it [00:00, ?it/s]"
     ]
    },
    {
     "name": "stdout",
     "output_type": "stream",
     "text": [
      "\r",
      "Upgrading database; v2 -> v3: : 0it [00:00, ?it/s]"
     ]
    },
    {
     "name": "stdout",
     "output_type": "stream",
     "text": [
      "\r",
      "Upgrading database; v2 -> v3: : 0it [00:00, ?it/s]"
     ]
    },
    {
     "name": "stdout",
     "output_type": "stream",
     "text": [
      "\n",
      "\r",
      "0it [00:00, ?it/s]"
     ]
    },
    {
     "name": "stdout",
     "output_type": "stream",
     "text": [
      "\r",
      "Upgrading database; v3 -> v4: : 0it [00:00, ?it/s]"
     ]
    },
    {
     "name": "stdout",
     "output_type": "stream",
     "text": [
      "\r",
      "Upgrading database; v3 -> v4: : 0it [00:00, ?it/s]"
     ]
    },
    {
     "name": "stdout",
     "output_type": "stream",
     "text": [
      "\n",
      "\r",
      "  0%|          | 0/1 [00:00<?, ?it/s]"
     ]
    },
    {
     "name": "stdout",
     "output_type": "stream",
     "text": [
      "\r",
      "Upgrading database; v4 -> v5:   0%|          | 0/1 [00:00<?, ?it/s]"
     ]
    },
    {
     "name": "stdout",
     "output_type": "stream",
     "text": [
      "\r",
      "Upgrading database; v4 -> v5: 100%|██████████| 1/1 [00:00<00:00, 1274.48it/s]"
     ]
    },
    {
     "name": "stdout",
     "output_type": "stream",
     "text": [
      "\n",
      "\r",
      "0it [00:00, ?it/s]"
     ]
    },
    {
     "name": "stdout",
     "output_type": "stream",
     "text": [
      "\r",
      "Upgrading database; v5 -> v6: : 0it [00:00, ?it/s]"
     ]
    },
    {
     "name": "stdout",
     "output_type": "stream",
     "text": [
      "\r",
      "Upgrading database; v5 -> v6: : 0it [00:00, ?it/s]"
     ]
    },
    {
     "name": "stdout",
     "output_type": "stream",
     "text": [
      "\n",
      "\r",
      "  0%|          | 0/1 [00:00<?, ?it/s]"
     ]
    },
    {
     "name": "stdout",
     "output_type": "stream",
     "text": [
      "\r",
      "Upgrading database; v6 -> v7:   0%|          | 0/1 [00:00<?, ?it/s]"
     ]
    },
    {
     "name": "stdout",
     "output_type": "stream",
     "text": [
      "\r",
      "Upgrading database; v6 -> v7: 100%|██████████| 1/1 [00:00<00:00, 508.28it/s]"
     ]
    },
    {
     "name": "stdout",
     "output_type": "stream",
     "text": [
      "\n",
      "\r",
      "  0%|          | 0/1 [00:00<?, ?it/s]"
     ]
    },
    {
     "name": "stdout",
     "output_type": "stream",
     "text": [
      "\r",
      "Upgrading database; v7 -> v8:   0%|          | 0/1 [00:00<?, ?it/s]"
     ]
    },
    {
     "name": "stdout",
     "output_type": "stream",
     "text": [
      "\r",
      "Upgrading database; v7 -> v8: 100%|██████████| 1/1 [00:00<00:00, 918.19it/s]"
     ]
    },
    {
     "name": "stdout",
     "output_type": "stream",
     "text": [
      "\n",
      "\r",
      "  0%|          | 0/1 [00:00<?, ?it/s]"
     ]
    },
    {
     "name": "stdout",
     "output_type": "stream",
     "text": [
      "\r",
      "Upgrading database; v8 -> v9:   0%|          | 0/1 [00:00<?, ?it/s]"
     ]
    },
    {
     "name": "stdout",
     "output_type": "stream",
     "text": [
      "\r",
      "Upgrading database; v8 -> v9: 100%|██████████| 1/1 [00:00<00:00, 960.89it/s]"
     ]
    },
    {
     "name": "stdout",
     "output_type": "stream",
     "text": [
      "\n"
     ]
    }
   ],
   "source": [
    "initialise_database()\n",
    "exp = load_or_create_experiment(experiment_name='tutorial_exp', sample_name=\"no sample\")"
   ]
  },
  {
   "cell_type": "markdown",
   "metadata": {},
   "source": [
    "Here, we define a simple function to benchmark the time it takes to insert n points with either numeric or array data type.\n",
    "We will compare both the time used to call ``add_result`` and the time used for the full measurement."
   ]
  },
  {
   "cell_type": "code",
   "execution_count": 4,
   "metadata": {
    "execution": {
     "iopub.execute_input": "2021-05-25T06:42:51.127946Z",
     "iopub.status.busy": "2021-05-25T06:42:51.126814Z",
     "iopub.status.idle": "2021-05-25T06:42:51.128468Z",
     "shell.execute_reply": "2021-05-25T06:42:51.128848Z"
    }
   },
   "outputs": [],
   "source": [
    "def insert_data(paramtype, npoints, nreps=1):\n",
    "\n",
    "    meas = Measurement(exp=exp)\n",
    "\n",
    "    x1 = ManualParameter('x1')\n",
    "    x2 = ManualParameter('x2')\n",
    "    x3 = ManualParameter('x3')\n",
    "    y1 = ManualParameter('y1')\n",
    "    y2 = ManualParameter('y2')\n",
    "\n",
    "    meas.register_parameter(x1, paramtype=paramtype)\n",
    "    meas.register_parameter(x2, paramtype=paramtype)\n",
    "    meas.register_parameter(x3, paramtype=paramtype)\n",
    "    meas.register_parameter(y1, setpoints=[x1, x2, x3],\n",
    "                            paramtype=paramtype)\n",
    "    meas.register_parameter(y2, setpoints=[x1, x2, x3],\n",
    "                            paramtype=paramtype)\n",
    "    start = time.perf_counter()\n",
    "    with meas.run() as datasaver:\n",
    "        start_adding = time.perf_counter()\n",
    "        for i in range(nreps):\n",
    "            datasaver.add_result((x1, np.random.rand(npoints)),\n",
    "                                 (x2, np.random.rand(npoints)),\n",
    "                                 (x3, np.random.rand(npoints)),\n",
    "                                 (y1, np.random.rand(npoints)),\n",
    "                                 (y2, np.random.rand(npoints)))\n",
    "        stop_adding = time.perf_counter()\n",
    "        run_id = datasaver.run_id\n",
    "    stop = time.perf_counter()\n",
    "    tot_time = stop - start\n",
    "    add_time = stop_adding - start_adding\n",
    "    return tot_time, add_time, run_id"
   ]
  },
  {
   "cell_type": "markdown",
   "metadata": {},
   "source": [
    "## Comparison between numeric/array data and binary blob"
   ]
  },
  {
   "cell_type": "markdown",
   "metadata": {},
   "source": [
    "### Case1: Short experiment time"
   ]
  },
  {
   "cell_type": "code",
   "execution_count": 5,
   "metadata": {
    "execution": {
     "iopub.execute_input": "2021-05-25T06:42:51.133300Z",
     "iopub.status.busy": "2021-05-25T06:42:51.132870Z",
     "iopub.status.idle": "2021-05-25T06:42:51.860712Z",
     "shell.execute_reply": "2021-05-25T06:42:51.860270Z"
    }
   },
   "outputs": [
    {
     "name": "stdout",
     "output_type": "stream",
     "text": [
      "Starting experimental run with id: 1. \n",
      "Starting experimental run with id: 2. \n",
      "Starting experimental run with id: 3. \n",
      "Starting experimental run with id: 4. \n"
     ]
    },
    {
     "name": "stdout",
     "output_type": "stream",
     "text": [
      "Starting experimental run with id: 5. \n"
     ]
    },
    {
     "name": "stdout",
     "output_type": "stream",
     "text": [
      "Starting experimental run with id: 6. \n",
      "Starting experimental run with id: 7. \n"
     ]
    },
    {
     "name": "stdout",
     "output_type": "stream",
     "text": [
      "Starting experimental run with id: 8. \n",
      "Starting experimental run with id: 9. \n"
     ]
    },
    {
     "name": "stdout",
     "output_type": "stream",
     "text": [
      "Starting experimental run with id: 10. \n",
      "Starting experimental run with id: 11. \n"
     ]
    },
    {
     "name": "stdout",
     "output_type": "stream",
     "text": [
      "Starting experimental run with id: 12. \n",
      "Starting experimental run with id: 13. \n"
     ]
    },
    {
     "name": "stdout",
     "output_type": "stream",
     "text": [
      "Starting experimental run with id: 14. \n"
     ]
    }
   ],
   "source": [
    "sizes = [1,500,1000,2000,3000,4000,5000]\n",
    "t_numeric = []\n",
    "t_numeric_add = []\n",
    "t_array = []\n",
    "t_array_add = []\n",
    "for size in sizes:\n",
    "    tn, tna, run_id_n =  insert_data('numeric', size)\n",
    "    t_numeric.append(tn)\n",
    "    t_numeric_add.append(tna)\n",
    "\n",
    "    ta, taa, run_id_a =  insert_data('array', size)\n",
    "    t_array.append(ta)\n",
    "    t_array_add.append(taa)"
   ]
  },
  {
   "cell_type": "code",
   "execution_count": 6,
   "metadata": {
    "execution": {
     "iopub.execute_input": "2021-05-25T06:42:51.877386Z",
     "iopub.status.busy": "2021-05-25T06:42:51.876964Z",
     "iopub.status.idle": "2021-05-25T06:42:52.067359Z",
     "shell.execute_reply": "2021-05-25T06:42:52.067788Z"
    }
   },
   "outputs": [
    {
     "data": {
      "image/png": "[encoded data removed]",
      "text/plain": [
       "<Figure size 432x288 with 1 Axes>"
      ]
     },
     "metadata": {
      "needs_background": "light"
     },
     "output_type": "display_data"
    }
   ],
   "source": [
    "fig, ax = plt.subplots(1,1)\n",
    "ax.plot(sizes, t_numeric, 'o-', label='Inserting row-by-row')\n",
    "ax.plot(sizes, t_numeric_add, 'o-', label='Inserting row-by-row: add_result only')\n",
    "ax.plot(sizes, t_array, 'd-', label='Inserting as binary blob')\n",
    "ax.plot(sizes, t_array_add, 'd-', label='Inserting as binary blob: add_result only')\n",
    "ax.legend()\n",
    "ax.set_xlabel('Array length')\n",
    "ax.set_ylabel('Time (s)')\n",
    "fig.tight_layout()"
   ]
  },
  {
   "cell_type": "markdown",
   "metadata": {},
   "source": [
    "As shown in the latter figure, the time to setup and and close the experiment is approximately 0.4 sec. In case of small array sizes, the difference between inserting values of data as arrays and inserting them row-by-row is relatively unimportant. At larger array sizes, i.e. above 10000 points, the cost of writing data as individual datapoints starts to become important.\n"
   ]
  },
  {
   "cell_type": "markdown",
   "metadata": {},
   "source": [
    "### Case2: Long experiment time "
   ]
  },
  {
   "cell_type": "code",
   "execution_count": 7,
   "metadata": {
    "execution": {
     "iopub.execute_input": "2021-05-25T06:42:52.073979Z",
     "iopub.status.busy": "2021-05-25T06:42:52.072959Z",
     "iopub.status.idle": "2021-05-25T06:43:42.557881Z",
     "shell.execute_reply": "2021-05-25T06:43:42.558447Z"
    }
   },
   "outputs": [
    {
     "name": "stdout",
     "output_type": "stream",
     "text": [
      "Starting experimental run with id: 15. \n",
      "Starting experimental run with id: 16. \n",
      "Starting experimental run with id: 17. \n"
     ]
    },
    {
     "name": "stdout",
     "output_type": "stream",
     "text": [
      "Starting experimental run with id: 18. \n",
      "Starting experimental run with id: 19. \n"
     ]
    },
    {
     "name": "stdout",
     "output_type": "stream",
     "text": [
      "Starting experimental run with id: 20. \n"
     ]
    },
    {
     "name": "stdout",
     "output_type": "stream",
     "text": [
      "Starting experimental run with id: 21. \n"
     ]
    },
    {
     "name": "stdout",
     "output_type": "stream",
     "text": [
      "Starting experimental run with id: 22. \n"
     ]
    },
    {
     "name": "stdout",
     "output_type": "stream",
     "text": [
      "Starting experimental run with id: 23. \n"
     ]
    },
    {
     "name": "stdout",
     "output_type": "stream",
     "text": [
      "Starting experimental run with id: 24. \n"
     ]
    },
    {
     "name": "stdout",
     "output_type": "stream",
     "text": [
      "Starting experimental run with id: 25. \n"
     ]
    },
    {
     "name": "stdout",
     "output_type": "stream",
     "text": [
      "Starting experimental run with id: 26. \n"
     ]
    },
    {
     "name": "stdout",
     "output_type": "stream",
     "text": [
      "Starting experimental run with id: 27. \n"
     ]
    },
    {
     "name": "stdout",
     "output_type": "stream",
     "text": [
      "Starting experimental run with id: 28. \n"
     ]
    }
   ],
   "source": [
    "sizes = [1,500,1000,2000,3000,4000,5000]\n",
    "nreps = 100\n",
    "t_numeric = []\n",
    "t_numeric_add = []\n",
    "t_numeric_run_ids = []\n",
    "t_array = []\n",
    "t_array_add = []\n",
    "t_array_run_ids = []\n",
    "for size in sizes:\n",
    "    tn, tna, run_id_n =  insert_data('numeric', size, nreps=nreps)\n",
    "    t_numeric.append(tn)\n",
    "    t_numeric_add.append(tna)\n",
    "    t_numeric_run_ids.append(run_id_n)\n",
    "\n",
    "    ta, taa, run_id_a =  insert_data('array', size, nreps=nreps)\n",
    "    t_array.append(ta)\n",
    "    t_array_add.append(taa)\n",
    "    t_array_run_ids.append(run_id_a)"
   ]
  },
  {
   "cell_type": "code",
   "execution_count": 8,
   "metadata": {
    "execution": {
     "iopub.execute_input": "2021-05-25T06:43:42.597443Z",
     "iopub.status.busy": "2021-05-25T06:43:42.584357Z",
     "iopub.status.idle": "2021-05-25T06:43:42.744877Z",
     "shell.execute_reply": "2021-05-25T06:43:42.745433Z"
    },
    "scrolled": true
   },
   "outputs": [
    {
     "data": {
      "image/png": "[encoded data removed]",
      "text/plain": [
       "<Figure size 432x288 with 1 Axes>"
      ]
     },
     "metadata": {
      "needs_background": "light"
     },
     "output_type": "display_data"
    }
   ],
   "source": [
    "fig, ax = plt.subplots(1,1)\n",
    "ax.plot(sizes, t_numeric, 'o-', label='Inserting row-by-row')\n",
    "ax.plot(sizes, t_numeric_add, 'o-', label='Inserting row-by-row: add_result only')\n",
    "ax.plot(sizes, t_array, 'd-', label='Inserting as binary blob')\n",
    "ax.plot(sizes, t_array_add, 'd-', label='Inserting as binary blob: add_result only')\n",
    "ax.legend()\n",
    "ax.set_xlabel('Array length')\n",
    "ax.set_ylabel('Time (s)')\n",
    "fig.tight_layout()"
   ]
  },
  {
   "cell_type": "markdown",
   "metadata": {},
   "source": [
    "However, as we increase the length of the experiment, as seen here by repeating the insertion 100 times, we see a big difference between inserting values of the data row-by-row and inserting it as a binary blob."
   ]
  },
  {
   "cell_type": "markdown",
   "metadata": {},
   "source": [
    "## Loading the data "
   ]
  },
  {
   "cell_type": "code",
   "execution_count": 9,
   "metadata": {
    "execution": {
     "iopub.execute_input": "2021-05-25T06:43:42.748452Z",
     "iopub.status.busy": "2021-05-25T06:43:42.747322Z",
     "iopub.status.idle": "2021-05-25T06:43:42.751633Z",
     "shell.execute_reply": "2021-05-25T06:43:42.752341Z"
    }
   },
   "outputs": [],
   "source": [
    "from qcodes.dataset.data_set import load_by_id"
   ]
  },
  {
   "cell_type": "markdown",
   "metadata": {},
   "source": [
    "As usual you can load the data by using the ``load_by_id`` function but you will notice that the different storage methods\n",
    "are reflected in shape of the data as it is retrieved. "
   ]
  },
  {
   "cell_type": "code",
   "execution_count": 10,
   "metadata": {
    "execution": {
     "iopub.execute_input": "2021-05-25T06:43:42.755209Z",
     "iopub.status.busy": "2021-05-25T06:43:42.754730Z",
     "iopub.status.idle": "2021-05-25T06:43:42.758411Z",
     "shell.execute_reply": "2021-05-25T06:43:42.757864Z"
    }
   },
   "outputs": [],
   "source": [
    "run_id_n = t_numeric_run_ids[0]\n",
    "run_id_a = t_array_run_ids[0]"
   ]
  },
  {
   "cell_type": "code",
   "execution_count": 11,
   "metadata": {
    "execution": {
     "iopub.execute_input": "2021-05-25T06:43:42.761794Z",
     "iopub.status.busy": "2021-05-25T06:43:42.761276Z",
     "iopub.status.idle": "2021-05-25T06:43:42.769878Z",
     "shell.execute_reply": "2021-05-25T06:43:42.769436Z"
    },
    "scrolled": true
   },
   "outputs": [
    {
     "data": {
      "text/plain": [
       "{'x1': {'x1': array([0.93001373, 0.93001373, 0.86190388, 0.86190388, 0.29354798,\n",
       "         0.29354798, 0.24772304, 0.24772304, 0.43116561, 0.43116561,\n",
       "         0.19791055, 0.19791055, 0.75504739, 0.75504739, 0.35858759,\n",
       "         0.35858759, 0.91010217, 0.91010217, 0.11968161, 0.11968161,\n",
       "         0.18888746, 0.18888746, 0.02997102, 0.02997102, 0.73881356,\n",
       "         0.73881356, 0.71560234, 0.71560234, 0.93082476, 0.93082476,\n",
       "         0.98054607, 0.98054607, 0.58270551, 0.58270551, 0.33738342,\n",
       "         0.33738342, 0.54490817, 0.54490817, 0.9392747 , 0.9392747 ,\n",
       "         0.41109352, 0.41109352, 0.92749387, 0.92749387, 0.54767094,\n",
       "         0.54767094, 0.48466423, 0.48466423, 0.76270336, 0.76270336,\n",
       "         0.19119305, 0.19119305, 0.20023047, 0.20023047, 0.63324936,\n",
       "         0.63324936, 0.57970127, 0.57970127, 0.1776098 , 0.1776098 ,\n",
       "         0.88666351, 0.88666351, 0.19962312, 0.19962312, 0.13343609,\n",
       "         0.13343609, 0.7945439 , 0.7945439 , 0.25126203, 0.25126203,\n",
       "         0.29077857, 0.29077857, 0.68983938, 0.68983938, 0.86118173,\n",
       "         0.86118173, 0.21796996, 0.21796996, 0.27857745, 0.27857745,\n",
       "         0.09689745, 0.09689745, 0.57290371, 0.57290371, 0.76872124,\n",
       "         0.76872124, 0.09981521, 0.09981521, 0.83382479, 0.83382479,\n",
       "         0.14564595, 0.14564595, 0.76959461, 0.76959461, 0.44659172,\n",
       "         0.44659172, 0.13278318, 0.13278318, 0.03435308, 0.03435308,\n",
       "         0.64435042, 0.64435042, 0.1115174 , 0.1115174 , 0.28919918,\n",
       "         0.28919918, 0.00331508, 0.00331508, 0.92889506, 0.92889506,\n",
       "         0.81857853, 0.81857853, 0.89053271, 0.89053271, 0.80874165,\n",
       "         0.80874165, 0.10840159, 0.10840159, 0.09465759, 0.09465759,\n",
       "         0.5795271 , 0.5795271 , 0.24181858, 0.24181858, 0.02354175,\n",
       "         0.02354175, 0.500007  , 0.500007  , 0.33624437, 0.33624437,\n",
       "         0.63229822, 0.63229822, 0.78177746, 0.78177746, 0.59059825,\n",
       "         0.59059825, 0.04474516, 0.04474516, 0.9495149 , 0.9495149 ,\n",
       "         0.94504237, 0.94504237, 0.08418322, 0.08418322, 0.47342651,\n",
       "         0.47342651, 0.90530048, 0.90530048, 0.30677065, 0.30677065,\n",
       "         0.77869017, 0.77869017, 0.19675781, 0.19675781, 0.97692445,\n",
       "         0.97692445, 0.1974919 , 0.1974919 , 0.26561814, 0.26561814,\n",
       "         0.52782922, 0.52782922, 0.54524853, 0.54524853, 0.59223662,\n",
       "         0.59223662, 0.06104274, 0.06104274, 0.51401961, 0.51401961,\n",
       "         0.25518712, 0.25518712, 0.65024492, 0.65024492, 0.78485231,\n",
       "         0.78485231, 0.86724953, 0.86724953, 0.04052432, 0.04052432,\n",
       "         0.75266602, 0.75266602, 0.48555476, 0.48555476, 0.00401486,\n",
       "         0.00401486, 0.99603602, 0.99603602, 0.84592091, 0.84592091,\n",
       "         0.10253168, 0.10253168, 0.02958561, 0.02958561, 0.6098807 ,\n",
       "         0.6098807 , 0.05549726, 0.05549726, 0.0548354 , 0.0548354 ])}}"
      ]
     },
     "execution_count": 1,
     "metadata": {},
     "output_type": "execute_result"
    }
   ],
   "source": [
    "ds = load_by_id(run_id_n)\n",
    "ds.get_parameter_data('x1')"
   ]
  },
  {
   "cell_type": "markdown",
   "metadata": {},
   "source": [
    "And a dataset stored as binary arrays"
   ]
  },
  {
   "cell_type": "code",
   "execution_count": 12,
   "metadata": {
    "execution": {
     "iopub.execute_input": "2021-05-25T06:43:42.773029Z",
     "iopub.status.busy": "2021-05-25T06:43:42.772486Z",
     "iopub.status.idle": "2021-05-25T06:43:42.820200Z",
     "shell.execute_reply": "2021-05-25T06:43:42.820643Z"
    },
    "scrolled": true
   },
   "outputs": [
    {
     "data": {
      "text/plain": [
       "{'x1': {'x1': array([[0.2374225 ],\n",
       "         [0.2374225 ],\n",
       "         [0.62937656],\n",
       "         [0.62937656],\n",
       "         [0.21164916],\n",
       "         [0.21164916],\n",
       "         [0.9690441 ],\n",
       "         [0.9690441 ],\n",
       "         [0.69349955],\n",
       "         [0.69349955],\n",
       "         [0.73538782],\n",
       "         [0.73538782],\n",
       "         [0.21347008],\n",
       "         [0.21347008],\n",
       "         [0.29838774],\n",
       "         [0.29838774],\n",
       "         [0.36290052],\n",
       "         [0.36290052],\n",
       "         [0.88450432],\n",
       "         [0.88450432],\n",
       "         [0.74308169],\n",
       "         [0.74308169],\n",
       "         [0.87161174],\n",
       "         [0.87161174],\n",
       "         [0.94713229],\n",
       "         [0.94713229],\n",
       "         [0.42895417],\n",
       "         [0.42895417],\n",
       "         [0.33405432],\n",
       "         [0.33405432],\n",
       "         [0.68806631],\n",
       "         [0.68806631],\n",
       "         [0.45013418],\n",
       "         [0.45013418],\n",
       "         [0.45134923],\n",
       "         [0.45134923],\n",
       "         [0.15760781],\n",
       "         [0.15760781],\n",
       "         [0.76357499],\n",
       "         [0.76357499],\n",
       "         [0.75334899],\n",
       "         [0.75334899],\n",
       "         [0.89389377],\n",
       "         [0.89389377],\n",
       "         [0.17787651],\n",
       "         [0.17787651],\n",
       "         [0.81558585],\n",
       "         [0.81558585],\n",
       "         [0.86452221],\n",
       "         [0.86452221],\n",
       "         [0.72573647],\n",
       "         [0.72573647],\n",
       "         [0.03521851],\n",
       "         [0.03521851],\n",
       "         [0.76993906],\n",
       "         [0.76993906],\n",
       "         [0.54577248],\n",
       "         [0.54577248],\n",
       "         [0.00507815],\n",
       "         [0.00507815],\n",
       "         [0.15792897],\n",
       "         [0.15792897],\n",
       "         [0.66422798],\n",
       "         [0.66422798],\n",
       "         [0.93307284],\n",
       "         [0.93307284],\n",
       "         [0.02132407],\n",
       "         [0.02132407],\n",
       "         [0.26734198],\n",
       "         [0.26734198],\n",
       "         [0.94177985],\n",
       "         [0.94177985],\n",
       "         [0.42317806],\n",
       "         [0.42317806],\n",
       "         [0.20269447],\n",
       "         [0.20269447],\n",
       "         [0.4736106 ],\n",
       "         [0.4736106 ],\n",
       "         [0.89667871],\n",
       "         [0.89667871],\n",
       "         [0.88011537],\n",
       "         [0.88011537],\n",
       "         [0.67928231],\n",
       "         [0.67928231],\n",
       "         [0.63147646],\n",
       "         [0.63147646],\n",
       "         [0.99360194],\n",
       "         [0.99360194],\n",
       "         [0.76049293],\n",
       "         [0.76049293],\n",
       "         [0.41267355],\n",
       "         [0.41267355],\n",
       "         [0.29401004],\n",
       "         [0.29401004],\n",
       "         [0.74853274],\n",
       "         [0.74853274],\n",
       "         [0.45393001],\n",
       "         [0.45393001],\n",
       "         [0.41309011],\n",
       "         [0.41309011],\n",
       "         [0.52514507],\n",
       "         [0.52514507],\n",
       "         [0.64759508],\n",
       "         [0.64759508],\n",
       "         [0.38983742],\n",
       "         [0.38983742],\n",
       "         [0.99663877],\n",
       "         [0.99663877],\n",
       "         [0.38815631],\n",
       "         [0.38815631],\n",
       "         [0.87494698],\n",
       "         [0.87494698],\n",
       "         [0.94199146],\n",
       "         [0.94199146],\n",
       "         [0.6457801 ],\n",
       "         [0.6457801 ],\n",
       "         [0.01049213],\n",
       "         [0.01049213],\n",
       "         [0.49155368],\n",
       "         [0.49155368],\n",
       "         [0.01387568],\n",
       "         [0.01387568],\n",
       "         [0.99600528],\n",
       "         [0.99600528],\n",
       "         [0.39953708],\n",
       "         [0.39953708],\n",
       "         [0.28448144],\n",
       "         [0.28448144],\n",
       "         [0.39743779],\n",
       "         [0.39743779],\n",
       "         [0.25205135],\n",
       "         [0.25205135],\n",
       "         [0.29245591],\n",
       "         [0.29245591],\n",
       "         [0.50639119],\n",
       "         [0.50639119],\n",
       "         [0.77970121],\n",
       "         [0.77970121],\n",
       "         [0.23977203],\n",
       "         [0.23977203],\n",
       "         [0.86065847],\n",
       "         [0.86065847],\n",
       "         [0.05978119],\n",
       "         [0.05978119],\n",
       "         [0.89315496],\n",
       "         [0.89315496],\n",
       "         [0.29172336],\n",
       "         [0.29172336],\n",
       "         [0.04296383],\n",
       "         [0.04296383],\n",
       "         [0.46559716],\n",
       "         [0.46559716],\n",
       "         [0.08910689],\n",
       "         [0.08910689],\n",
       "         [0.44395213],\n",
       "         [0.44395213],\n",
       "         [0.25503843],\n",
       "         [0.25503843],\n",
       "         [0.20845467],\n",
       "         [0.20845467],\n",
       "         [0.50768017],\n",
       "         [0.50768017],\n",
       "         [0.8491863 ],\n",
       "         [0.8491863 ],\n",
       "         [0.2983909 ],\n",
       "         [0.2983909 ],\n",
       "         [0.94369326],\n",
       "         [0.94369326],\n",
       "         [0.90347905],\n",
       "         [0.90347905],\n",
       "         [0.31356442],\n",
       "         [0.31356442],\n",
       "         [0.2959251 ],\n",
       "         [0.2959251 ],\n",
       "         [0.73240002],\n",
       "         [0.73240002],\n",
       "         [0.83019776],\n",
       "         [0.83019776],\n",
       "         [0.77157423],\n",
       "         [0.77157423],\n",
       "         [0.78425865],\n",
       "         [0.78425865],\n",
       "         [0.96992232],\n",
       "         [0.96992232],\n",
       "         [0.23292398],\n",
       "         [0.23292398],\n",
       "         [0.57495454],\n",
       "         [0.57495454],\n",
       "         [0.1417991 ],\n",
       "         [0.1417991 ],\n",
       "         [0.56894029],\n",
       "         [0.56894029],\n",
       "         [0.87556765],\n",
       "         [0.87556765],\n",
       "         [0.14442006],\n",
       "         [0.14442006],\n",
       "         [0.71699792],\n",
       "         [0.71699792],\n",
       "         [0.50963657],\n",
       "         [0.50963657]])}}"
      ]
     },
     "execution_count": 1,
     "metadata": {},
     "output_type": "execute_result"
    }
   ],
   "source": [
    "ds = load_by_id(run_id_a)\n",
    "ds.get_parameter_data('x1')"
   ]
  },
  {
   "cell_type": "code",
   "execution_count": null,
   "metadata": {},
   "outputs": [],
   "source": []
  }
 ],
 "metadata": {
  "kernelspec": {
   "display_name": "Python 3",
   "language": "python",
   "name": "python3"
  },
  "language_info": {
   "codemirror_mode": {
    "name": "ipython",
    "version": 3
   },
   "file_extension": ".py",
   "mimetype": "text/x-python",
   "name": "python",
   "nbconvert_exporter": "python",
   "pygments_lexer": "ipython3",
   "version": "3.7.10"
  },
  "nbsphinx": {
   "timeout": 600
  },
  "toc": {
   "base_numbering": 1,
   "nav_menu": {},
   "number_sections": true,
   "sideBar": true,
   "skip_h1_title": false,
   "title_cell": "Table of Contents",
   "title_sidebar": "Contents",
   "toc_cell": false,
   "toc_position": {},
   "toc_section_display": true,
   "toc_window_display": false
  },
  "varInspector": {
   "cols": {
    "lenName": 16,
    "lenType": 16,
    "lenVar": 40
   },
   "kernels_config": {
    "python": {
     "delete_cmd_postfix": "",
     "delete_cmd_prefix": "del ",
     "library": "var_list.py",
     "varRefreshCmd": "print(var_dic_list())"
    },
    "r": {
     "delete_cmd_postfix": ") ",
     "delete_cmd_prefix": "rm(",
     "library": "var_list.r",
     "varRefreshCmd": "cat(var_dic_list()) "
    }
   },
   "types_to_exclude": [
    "module",
    "function",
    "builtin_function_or_method",
    "instance",
    "_Feature"
   ],
   "window_display": false
  }
 },
 "nbformat": 4,
 "nbformat_minor": 4
}
