{
 "cells": [
  {
   "cell_type": "markdown",
   "metadata": {},
   "source": [
    "# DataSet Performance\n",
    "\n",
    "This notebook shows the trade-off between inserting data into a database row-by-row and as binary blobs. Inserting the data row-by-row means that we have direct access to all the data and may perform queries directly on the values of the data. On the other hand, as we shall see, this is much slower than inserting the data directly as binary blobs."
   ]
  },
  {
   "cell_type": "markdown",
   "metadata": {},
   "source": [
    "First, we choose a new location for the database to ensure that we don't add a bunch of benchmarking data to the default one."
   ]
  },
  {
   "cell_type": "code",
   "execution_count": 1,
   "metadata": {},
   "outputs": [
    {
     "name": "stdout",
     "output_type": "stream",
     "text": [
      "Logging hadn't been started.\n",
      "Activating auto-logging. Current session state plus future input saved.\n",
      "Filename       : /home/vsts/.qcodes/logs/command_history.log\n",
      "Mode           : append\n",
      "Output logging : True\n",
      "Raw input log  : False\n",
      "Timestamping   : True\n",
      "State          : active\n"
     ]
    },
    {
     "name": "stdout",
     "output_type": "stream",
     "text": [
      "Qcodes Logfile : /home/vsts/.qcodes/logs/200518-18731-qcodes.log\n"
     ]
    }
   ],
   "source": [
    "import os\n",
    "cwd = os.getcwd()\n",
    "import qcodes as qc\n",
    "qc.config[\"core\"][\"db_location\"] = os.path.join(cwd, 'testing.db')\n"
   ]
  },
  {
   "cell_type": "code",
   "execution_count": 2,
   "metadata": {},
   "outputs": [],
   "source": [
    "%matplotlib inline\n",
    "import time\n",
    "import matplotlib.pyplot as plt\n",
    "import numpy as np\n",
    "\n",
    "import qcodes as qc\n",
    "from qcodes.instrument.parameter import ManualParameter\n",
    "from qcodes.dataset.experiment_container import (Experiment,\n",
    "                                                 load_last_experiment,\n",
    "                                                 new_experiment)\n",
    "from qcodes.dataset.sqlite.database import initialise_database\n",
    "from qcodes import load_or_create_experiment\n",
    "from qcodes.dataset.measurements import Measurement"
   ]
  },
  {
   "cell_type": "code",
   "execution_count": 3,
   "metadata": {},
   "outputs": [
    {
     "name": "stdout",
     "output_type": "stream",
     "text": [
      "\r",
      "0it [00:00, ?it/s]"
     ]
    },
    {
     "name": "stdout",
     "output_type": "stream",
     "text": [
      "\r",
      "Upgrading database; v0 -> v1: : 0it [00:00, ?it/s]"
     ]
    },
    {
     "name": "stdout",
     "output_type": "stream",
     "text": [
      "\r",
      "Upgrading database; v0 -> v1: : 0it [00:00, ?it/s]"
     ]
    },
    {
     "name": "stdout",
     "output_type": "stream",
     "text": [
      "\n",
      "\r",
      "  0%|          | 0/1 [00:00<?, ?it/s]"
     ]
    },
    {
     "name": "stdout",
     "output_type": "stream",
     "text": [
      "\r",
      "Upgrading database; v1 -> v2:   0%|          | 0/1 [00:00<?, ?it/s]"
     ]
    },
    {
     "name": "stdout",
     "output_type": "stream",
     "text": [
      "\r",
      "Upgrading database; v1 -> v2: 100%|██████████| 1/1 [00:00<00:00, 758.33it/s]"
     ]
    },
    {
     "name": "stdout",
     "output_type": "stream",
     "text": [
      "\n",
      "\r",
      "0it [00:00, ?it/s]"
     ]
    },
    {
     "name": "stdout",
     "output_type": "stream",
     "text": [
      "\r",
      "Upgrading database; v2 -> v3: : 0it [00:00, ?it/s]"
     ]
    },
    {
     "name": "stdout",
     "output_type": "stream",
     "text": [
      "\r",
      "Upgrading database; v2 -> v3: : 0it [00:00, ?it/s]"
     ]
    },
    {
     "name": "stdout",
     "output_type": "stream",
     "text": [
      "\n",
      "\r",
      "0it [00:00, ?it/s]"
     ]
    },
    {
     "name": "stdout",
     "output_type": "stream",
     "text": [
      "\r",
      "Upgrading database; v3 -> v4: : 0it [00:00, ?it/s]"
     ]
    },
    {
     "name": "stdout",
     "output_type": "stream",
     "text": [
      "\r",
      "Upgrading database; v3 -> v4: : 0it [00:00, ?it/s]"
     ]
    },
    {
     "name": "stdout",
     "output_type": "stream",
     "text": [
      "\n",
      "\r",
      "  0%|          | 0/1 [00:00<?, ?it/s]"
     ]
    },
    {
     "name": "stdout",
     "output_type": "stream",
     "text": [
      "\r",
      "Upgrading database; v4 -> v5:   0%|          | 0/1 [00:00<?, ?it/s]"
     ]
    },
    {
     "name": "stdout",
     "output_type": "stream",
     "text": [
      "\r",
      "Upgrading database; v4 -> v5: 100%|██████████| 1/1 [00:00<00:00, 852.50it/s]"
     ]
    },
    {
     "name": "stdout",
     "output_type": "stream",
     "text": [
      "\n",
      "\r",
      "0it [00:00, ?it/s]"
     ]
    },
    {
     "name": "stdout",
     "output_type": "stream",
     "text": [
      "\r",
      "Upgrading database; v5 -> v6: : 0it [00:00, ?it/s]"
     ]
    },
    {
     "name": "stdout",
     "output_type": "stream",
     "text": [
      "\r",
      "Upgrading database; v5 -> v6: : 0it [00:00, ?it/s]"
     ]
    },
    {
     "name": "stdout",
     "output_type": "stream",
     "text": [
      "\n",
      "\r",
      "  0%|          | 0/1 [00:00<?, ?it/s]"
     ]
    },
    {
     "name": "stdout",
     "output_type": "stream",
     "text": [
      "\r",
      "Upgrading database; v6 -> v7:   0%|          | 0/1 [00:00<?, ?it/s]"
     ]
    },
    {
     "name": "stdout",
     "output_type": "stream",
     "text": [
      "\r",
      "Upgrading database; v6 -> v7: 100%|██████████| 1/1 [00:00<00:00, 441.51it/s]"
     ]
    },
    {
     "name": "stdout",
     "output_type": "stream",
     "text": [
      "\n",
      "\r",
      "  0%|          | 0/1 [00:00<?, ?it/s]"
     ]
    },
    {
     "name": "stdout",
     "output_type": "stream",
     "text": [
      "\r",
      "Upgrading database; v7 -> v8:   0%|          | 0/1 [00:00<?, ?it/s]"
     ]
    },
    {
     "name": "stdout",
     "output_type": "stream",
     "text": [
      "\r",
      "Upgrading database; v7 -> v8: 100%|██████████| 1/1 [00:00<00:00, 855.98it/s]"
     ]
    },
    {
     "name": "stdout",
     "output_type": "stream",
     "text": [
      "\n",
      "\r",
      "  0%|          | 0/1 [00:00<?, ?it/s]"
     ]
    },
    {
     "name": "stdout",
     "output_type": "stream",
     "text": [
      "\r",
      "Upgrading database; v8 -> v9:   0%|          | 0/1 [00:00<?, ?it/s]"
     ]
    },
    {
     "name": "stdout",
     "output_type": "stream",
     "text": [
      "\r",
      "Upgrading database; v8 -> v9: 100%|██████████| 1/1 [00:00<00:00, 1132.68it/s]"
     ]
    },
    {
     "name": "stdout",
     "output_type": "stream",
     "text": [
      "\n"
     ]
    }
   ],
   "source": [
    "initialise_database()\n",
    "exp = load_or_create_experiment(experiment_name='tutorial_exp', sample_name=\"no sample\")"
   ]
  },
  {
   "cell_type": "markdown",
   "metadata": {},
   "source": [
    "Here, we define a simple function to benchmark the time it takes to insert n points with either numeric or array data type.\n",
    "We will compare both the time used to call ``add_result`` and the time used for the full measurement."
   ]
  },
  {
   "cell_type": "code",
   "execution_count": 4,
   "metadata": {},
   "outputs": [],
   "source": [
    "def insert_data(paramtype, npoints, nreps=1):\n",
    "\n",
    "    meas = Measurement(exp=exp)\n",
    "\n",
    "    x1 = ManualParameter('x1')\n",
    "    x2 = ManualParameter('x2')\n",
    "    x3 = ManualParameter('x3')\n",
    "    y1 = ManualParameter('y1')\n",
    "    y2 = ManualParameter('y2')\n",
    "\n",
    "    meas.register_parameter(x1, paramtype=paramtype)\n",
    "    meas.register_parameter(x2, paramtype=paramtype)\n",
    "    meas.register_parameter(x3, paramtype=paramtype)\n",
    "    meas.register_parameter(y1, setpoints=[x1, x2, x3],\n",
    "                            paramtype=paramtype)\n",
    "    meas.register_parameter(y2, setpoints=[x1, x2, x3],\n",
    "                            paramtype=paramtype)\n",
    "    start = time.perf_counter()\n",
    "    with meas.run() as datasaver:\n",
    "        start_adding = time.perf_counter()\n",
    "        for i in range(nreps):\n",
    "            datasaver.add_result((x1, np.random.rand(npoints)),\n",
    "                                 (x2, np.random.rand(npoints)),\n",
    "                                 (x3, np.random.rand(npoints)),\n",
    "                                 (y1, np.random.rand(npoints)),\n",
    "                                 (y2, np.random.rand(npoints)))\n",
    "        stop_adding = time.perf_counter()\n",
    "        run_id = datasaver.run_id\n",
    "    stop = time.perf_counter()\n",
    "    tot_time = stop - start\n",
    "    add_time = stop_adding - start_adding\n",
    "    return tot_time, add_time, run_id"
   ]
  },
  {
   "cell_type": "markdown",
   "metadata": {},
   "source": [
    "## Comparison between numeric/array data and binary blob"
   ]
  },
  {
   "cell_type": "markdown",
   "metadata": {},
   "source": [
    "### Case1: Short experiment time"
   ]
  },
  {
   "cell_type": "code",
   "execution_count": 5,
   "metadata": {},
   "outputs": [
    {
     "name": "stdout",
     "output_type": "stream",
     "text": [
      "Starting experimental run with id: 1. \n",
      "Starting experimental run with id: 2. \n",
      "Starting experimental run with id: 3. \n",
      "Starting experimental run with id: 4. \n"
     ]
    },
    {
     "name": "stdout",
     "output_type": "stream",
     "text": [
      "Starting experimental run with id: 5. \n"
     ]
    },
    {
     "name": "stdout",
     "output_type": "stream",
     "text": [
      "Starting experimental run with id: 6. \n",
      "Starting experimental run with id: 7. \n"
     ]
    },
    {
     "name": "stdout",
     "output_type": "stream",
     "text": [
      "Starting experimental run with id: 8. \n"
     ]
    },
    {
     "name": "stdout",
     "output_type": "stream",
     "text": [
      "Starting experimental run with id: 9. \n"
     ]
    },
    {
     "name": "stdout",
     "output_type": "stream",
     "text": [
      "Starting experimental run with id: 10. \n",
      "Starting experimental run with id: 11. \n"
     ]
    },
    {
     "name": "stdout",
     "output_type": "stream",
     "text": [
      "Starting experimental run with id: 12. \n"
     ]
    },
    {
     "name": "stdout",
     "output_type": "stream",
     "text": [
      "Starting experimental run with id: 13. \n"
     ]
    },
    {
     "name": "stdout",
     "output_type": "stream",
     "text": [
      "Starting experimental run with id: 14. \n"
     ]
    }
   ],
   "source": [
    "sizes = [1,500,1000,2000,3000,4000,5000]\n",
    "t_numeric = []\n",
    "t_numeric_add = []\n",
    "t_array = []\n",
    "t_array_add = []\n",
    "for size in sizes:\n",
    "    tn, tna, run_id_n =  insert_data('numeric', size)\n",
    "    t_numeric.append(tn)\n",
    "    t_numeric_add.append(tna)\n",
    "\n",
    "    ta, taa, run_id_a =  insert_data('array', size)\n",
    "    t_array.append(ta)\n",
    "    t_array_add.append(taa)"
   ]
  },
  {
   "cell_type": "code",
   "execution_count": 6,
   "metadata": {},
   "outputs": [
    {
     "data": {
      "image/png": "[encoded data removed]",
      "text/plain": [
       "<Figure size 432x288 with 1 Axes>"
      ]
     },
     "metadata": {
      "needs_background": "light"
     },
     "output_type": "display_data"
    }
   ],
   "source": [
    "fig, ax = plt.subplots(1,1)\n",
    "ax.plot(sizes, t_numeric, 'o-', label='Inserting row-by-row')\n",
    "ax.plot(sizes, t_numeric_add, 'o-', label='Inserting row-by-row: add_result only')\n",
    "ax.plot(sizes, t_array, 'd-', label='Inserting as binary blob')\n",
    "ax.plot(sizes, t_array_add, 'd-', label='Inserting as binary blob: add_result only')\n",
    "ax.legend()\n",
    "ax.set_xlabel('Array length')\n",
    "ax.set_ylabel('Time (s)')\n",
    "fig.tight_layout()"
   ]
  },
  {
   "cell_type": "markdown",
   "metadata": {},
   "source": [
    "As shown in the latter figure, the time to setup and and close the experiment is approximately 0.4 sec. In case of small array sizes, the difference between inserting values of data as arrays and inserting them row-by-row is relatively unimportant. At larger array sizes, i.e. above 10000 points, the cost of writing data as individual datapoints starts to become important.\n"
   ]
  },
  {
   "cell_type": "markdown",
   "metadata": {},
   "source": [
    "### Case2: Long experiment time "
   ]
  },
  {
   "cell_type": "code",
   "execution_count": 7,
   "metadata": {},
   "outputs": [
    {
     "name": "stdout",
     "output_type": "stream",
     "text": [
      "Starting experimental run with id: 15. \n",
      "Starting experimental run with id: 16. \n",
      "Starting experimental run with id: 17. \n"
     ]
    },
    {
     "name": "stdout",
     "output_type": "stream",
     "text": [
      "Starting experimental run with id: 18. \n",
      "Starting experimental run with id: 19. \n"
     ]
    },
    {
     "name": "stdout",
     "output_type": "stream",
     "text": [
      "Starting experimental run with id: 20. \n"
     ]
    },
    {
     "name": "stdout",
     "output_type": "stream",
     "text": [
      "Starting experimental run with id: 21. \n"
     ]
    },
    {
     "name": "stdout",
     "output_type": "stream",
     "text": [
      "Starting experimental run with id: 22. \n"
     ]
    },
    {
     "name": "stdout",
     "output_type": "stream",
     "text": [
      "Starting experimental run with id: 23. \n"
     ]
    },
    {
     "name": "stdout",
     "output_type": "stream",
     "text": [
      "Starting experimental run with id: 24. \n"
     ]
    },
    {
     "name": "stdout",
     "output_type": "stream",
     "text": [
      "Starting experimental run with id: 25. \n"
     ]
    },
    {
     "name": "stdout",
     "output_type": "stream",
     "text": [
      "Starting experimental run with id: 26. \n"
     ]
    },
    {
     "name": "stdout",
     "output_type": "stream",
     "text": [
      "Starting experimental run with id: 27. \n"
     ]
    },
    {
     "name": "stdout",
     "output_type": "stream",
     "text": [
      "Starting experimental run with id: 28. \n"
     ]
    }
   ],
   "source": [
    "sizes = [1,500,1000,2000,3000,4000,5000]\n",
    "nreps = 100\n",
    "t_numeric = []\n",
    "t_numeric_add = []\n",
    "t_numeric_run_ids = []\n",
    "t_array = []\n",
    "t_array_add = []\n",
    "t_array_run_ids = []\n",
    "for size in sizes:\n",
    "    tn, tna, run_id_n =  insert_data('numeric', size, nreps=nreps)\n",
    "    t_numeric.append(tn)\n",
    "    t_numeric_add.append(tna)\n",
    "    t_numeric_run_ids.append(run_id_n)\n",
    "\n",
    "    ta, taa, run_id_a =  insert_data('array', size, nreps=nreps)\n",
    "    t_array.append(ta)\n",
    "    t_array_add.append(taa)\n",
    "    t_array_run_ids.append(run_id_a)"
   ]
  },
  {
   "cell_type": "code",
   "execution_count": 8,
   "metadata": {
    "scrolled": true
   },
   "outputs": [
    {
     "data": {
      "image/png": "[encoded data removed]",
      "text/plain": [
       "<Figure size 432x288 with 1 Axes>"
      ]
     },
     "metadata": {
      "needs_background": "light"
     },
     "output_type": "display_data"
    }
   ],
   "source": [
    "fig, ax = plt.subplots(1,1)\n",
    "ax.plot(sizes, t_numeric, 'o-', label='Inserting row-by-row')\n",
    "ax.plot(sizes, t_numeric_add, 'o-', label='Inserting row-by-row: add_result only')\n",
    "ax.plot(sizes, t_array, 'd-', label='Inserting as binary blob')\n",
    "ax.plot(sizes, t_array_add, 'd-', label='Inserting as binary blob: add_result only')\n",
    "ax.legend()\n",
    "ax.set_xlabel('Array length')\n",
    "ax.set_ylabel('Time (s)')\n",
    "fig.tight_layout()"
   ]
  },
  {
   "cell_type": "markdown",
   "metadata": {},
   "source": [
    "However, as we increase the length of the experiment, as seen here by repeating the insertion 100 times, we see a big difference between inserting values of the data row-by-row and inserting it as a binary blob."
   ]
  },
  {
   "cell_type": "markdown",
   "metadata": {},
   "source": [
    "## Loading the data "
   ]
  },
  {
   "cell_type": "code",
   "execution_count": 9,
   "metadata": {},
   "outputs": [],
   "source": [
    "from qcodes.dataset.data_set import load_by_id\n",
    "from qcodes.dataset.data_export import get_data_by_id"
   ]
  },
  {
   "cell_type": "markdown",
   "metadata": {},
   "source": [
    "As usual you can load the data by using the ``load_by_id`` function but you will notice that the different storage methods\n",
    "are reflected in shape of the data as it is retrieved. "
   ]
  },
  {
   "cell_type": "code",
   "execution_count": 10,
   "metadata": {},
   "outputs": [],
   "source": [
    "run_id_n = t_numeric_run_ids[0]\n",
    "run_id_a = t_array_run_ids[0]"
   ]
  },
  {
   "cell_type": "code",
   "execution_count": 11,
   "metadata": {
    "scrolled": true
   },
   "outputs": [
    {
     "data": {
      "text/plain": [
       "{'x1': {'x1': array([0.57064472, 0.57064472, 0.54195804, 0.54195804, 0.54541054,\n",
       "         0.54541054, 0.93005079, 0.93005079, 0.25350314, 0.25350314,\n",
       "         0.30506851, 0.30506851, 0.46843995, 0.46843995, 0.41246027,\n",
       "         0.41246027, 0.93961903, 0.93961903, 0.17513522, 0.17513522,\n",
       "         0.35707803, 0.35707803, 0.91198231, 0.91198231, 0.5464634 ,\n",
       "         0.5464634 , 0.99473223, 0.99473223, 0.30826916, 0.30826916,\n",
       "         0.22018822, 0.22018822, 0.89454948, 0.89454948, 0.27328292,\n",
       "         0.27328292, 0.40707528, 0.40707528, 0.31698212, 0.31698212,\n",
       "         0.40078341, 0.40078341, 0.20259757, 0.20259757, 0.49041469,\n",
       "         0.49041469, 0.11322045, 0.11322045, 0.00108302, 0.00108302,\n",
       "         0.58149312, 0.58149312, 0.13308025, 0.13308025, 0.60227041,\n",
       "         0.60227041, 0.40539986, 0.40539986, 0.67755675, 0.67755675,\n",
       "         0.06688456, 0.06688456, 0.66567687, 0.66567687, 0.64998315,\n",
       "         0.64998315, 0.11036336, 0.11036336, 0.08291018, 0.08291018,\n",
       "         0.5332472 , 0.5332472 , 0.21009254, 0.21009254, 0.31522082,\n",
       "         0.31522082, 0.53476725, 0.53476725, 0.34783205, 0.34783205,\n",
       "         0.34630464, 0.34630464, 0.5322131 , 0.5322131 , 0.62377016,\n",
       "         0.62377016, 0.64645669, 0.64645669, 0.56694821, 0.56694821,\n",
       "         0.59709249, 0.59709249, 0.81579144, 0.81579144, 0.37017295,\n",
       "         0.37017295, 0.21667616, 0.21667616, 0.64201789, 0.64201789,\n",
       "         0.5465493 , 0.5465493 , 0.12410724, 0.12410724, 0.56854985,\n",
       "         0.56854985, 0.09231874, 0.09231874, 0.79756332, 0.79756332,\n",
       "         0.49138038, 0.49138038, 0.73083726, 0.73083726, 0.01339927,\n",
       "         0.01339927, 0.71259866, 0.71259866, 0.86791425, 0.86791425,\n",
       "         0.33627058, 0.33627058, 0.96391881, 0.96391881, 0.84476963,\n",
       "         0.84476963, 0.60875036, 0.60875036, 0.21592671, 0.21592671,\n",
       "         0.50995965, 0.50995965, 0.71884507, 0.71884507, 0.70809333,\n",
       "         0.70809333, 0.4929405 , 0.4929405 , 0.47824117, 0.47824117,\n",
       "         0.57427292, 0.57427292, 0.38963663, 0.38963663, 0.21608858,\n",
       "         0.21608858, 0.43424114, 0.43424114, 0.70677467, 0.70677467,\n",
       "         0.90970309, 0.90970309, 0.39035564, 0.39035564, 0.76286792,\n",
       "         0.76286792, 0.76967528, 0.76967528, 0.27605478, 0.27605478,\n",
       "         0.20719123, 0.20719123, 0.50786125, 0.50786125, 0.57925824,\n",
       "         0.57925824, 0.58409459, 0.58409459, 0.28735146, 0.28735146,\n",
       "         0.06285322, 0.06285322, 0.68909216, 0.68909216, 0.8210325 ,\n",
       "         0.8210325 , 0.04515556, 0.04515556, 0.63624402, 0.63624402,\n",
       "         0.90587923, 0.90587923, 0.23752601, 0.23752601, 0.90174892,\n",
       "         0.90174892, 0.50409093, 0.50409093, 0.38074728, 0.38074728,\n",
       "         0.04603177, 0.04603177, 0.28079277, 0.28079277, 0.22029729,\n",
       "         0.22029729, 0.16220205, 0.16220205, 0.06374105, 0.06374105])}}"
      ]
     },
     "execution_count": 11,
     "metadata": {},
     "output_type": "execute_result"
    }
   ],
   "source": [
    "ds = load_by_id(run_id_n)\n",
    "ds.get_parameter_data('x1')"
   ]
  },
  {
   "cell_type": "markdown",
   "metadata": {},
   "source": [
    "And a dataset stored as binary arrays"
   ]
  },
  {
   "cell_type": "code",
   "execution_count": 12,
   "metadata": {
    "scrolled": true
   },
   "outputs": [
    {
     "data": {
      "text/plain": [
       "{'x1': {'x1': array([[7.88534425e-01],\n",
       "         [7.88534425e-01],\n",
       "         [2.74176103e-01],\n",
       "         [2.74176103e-01],\n",
       "         [4.96980063e-02],\n",
       "         [4.96980063e-02],\n",
       "         [9.03926570e-01],\n",
       "         [9.03926570e-01],\n",
       "         [7.12210421e-01],\n",
       "         [7.12210421e-01],\n",
       "         [1.52627300e-01],\n",
       "         [1.52627300e-01],\n",
       "         [5.38437133e-01],\n",
       "         [5.38437133e-01],\n",
       "         [1.40920519e-03],\n",
       "         [1.40920519e-03],\n",
       "         [5.35279356e-02],\n",
       "         [5.35279356e-02],\n",
       "         [3.35273886e-01],\n",
       "         [3.35273886e-01],\n",
       "         [1.59172238e-01],\n",
       "         [1.59172238e-01],\n",
       "         [6.67422618e-02],\n",
       "         [6.67422618e-02],\n",
       "         [7.07449879e-01],\n",
       "         [7.07449879e-01],\n",
       "         [8.91001074e-01],\n",
       "         [8.91001074e-01],\n",
       "         [1.84528912e-01],\n",
       "         [1.84528912e-01],\n",
       "         [7.31351121e-01],\n",
       "         [7.31351121e-01],\n",
       "         [2.69610013e-01],\n",
       "         [2.69610013e-01],\n",
       "         [4.53884396e-01],\n",
       "         [4.53884396e-01],\n",
       "         [6.28254529e-01],\n",
       "         [6.28254529e-01],\n",
       "         [8.75147539e-01],\n",
       "         [8.75147539e-01],\n",
       "         [8.64071595e-01],\n",
       "         [8.64071595e-01],\n",
       "         [4.09741201e-01],\n",
       "         [4.09741201e-01],\n",
       "         [4.93604321e-02],\n",
       "         [4.93604321e-02],\n",
       "         [5.70901494e-01],\n",
       "         [5.70901494e-01],\n",
       "         [4.36622713e-01],\n",
       "         [4.36622713e-01],\n",
       "         [2.61179294e-01],\n",
       "         [2.61179294e-01],\n",
       "         [4.97342494e-01],\n",
       "         [4.97342494e-01],\n",
       "         [2.03595971e-01],\n",
       "         [2.03595971e-01],\n",
       "         [1.43407018e-01],\n",
       "         [1.43407018e-01],\n",
       "         [9.12360517e-01],\n",
       "         [9.12360517e-01],\n",
       "         [4.26846462e-01],\n",
       "         [4.26846462e-01],\n",
       "         [2.17455077e-01],\n",
       "         [2.17455077e-01],\n",
       "         [5.56967919e-01],\n",
       "         [5.56967919e-01],\n",
       "         [7.23727878e-01],\n",
       "         [7.23727878e-01],\n",
       "         [2.01011546e-01],\n",
       "         [2.01011546e-01],\n",
       "         [5.92178550e-01],\n",
       "         [5.92178550e-01],\n",
       "         [4.27410718e-01],\n",
       "         [4.27410718e-01],\n",
       "         [8.91062594e-02],\n",
       "         [8.91062594e-02],\n",
       "         [4.65088691e-01],\n",
       "         [4.65088691e-01],\n",
       "         [3.57113207e-01],\n",
       "         [3.57113207e-01],\n",
       "         [5.23872532e-01],\n",
       "         [5.23872532e-01],\n",
       "         [7.90280686e-02],\n",
       "         [7.90280686e-02],\n",
       "         [1.67553381e-01],\n",
       "         [1.67553381e-01],\n",
       "         [2.18074055e-01],\n",
       "         [2.18074055e-01],\n",
       "         [8.29922291e-02],\n",
       "         [8.29922291e-02],\n",
       "         [9.13913094e-01],\n",
       "         [9.13913094e-01],\n",
       "         [8.64652541e-02],\n",
       "         [8.64652541e-02],\n",
       "         [7.21821098e-01],\n",
       "         [7.21821098e-01],\n",
       "         [5.50169533e-01],\n",
       "         [5.50169533e-01],\n",
       "         [2.53169457e-01],\n",
       "         [2.53169457e-01],\n",
       "         [7.28262853e-01],\n",
       "         [7.28262853e-01],\n",
       "         [7.07421836e-01],\n",
       "         [7.07421836e-01],\n",
       "         [1.39994816e-02],\n",
       "         [1.39994816e-02],\n",
       "         [9.31778111e-01],\n",
       "         [9.31778111e-01],\n",
       "         [1.64820422e-01],\n",
       "         [1.64820422e-01],\n",
       "         [5.05332513e-01],\n",
       "         [5.05332513e-01],\n",
       "         [1.83006143e-01],\n",
       "         [1.83006143e-01],\n",
       "         [6.36987786e-01],\n",
       "         [6.36987786e-01],\n",
       "         [7.29255952e-01],\n",
       "         [7.29255952e-01],\n",
       "         [3.27856983e-02],\n",
       "         [3.27856983e-02],\n",
       "         [8.30719055e-01],\n",
       "         [8.30719055e-01],\n",
       "         [3.00868581e-01],\n",
       "         [3.00868581e-01],\n",
       "         [3.83109799e-01],\n",
       "         [3.83109799e-01],\n",
       "         [4.39418555e-02],\n",
       "         [4.39418555e-02],\n",
       "         [5.33622474e-01],\n",
       "         [5.33622474e-01],\n",
       "         [3.66681772e-01],\n",
       "         [3.66681772e-01],\n",
       "         [4.78052410e-01],\n",
       "         [4.78052410e-01],\n",
       "         [5.83272739e-01],\n",
       "         [5.83272739e-01],\n",
       "         [2.68346703e-01],\n",
       "         [2.68346703e-01],\n",
       "         [4.66402273e-01],\n",
       "         [4.66402273e-01],\n",
       "         [6.94474760e-01],\n",
       "         [6.94474760e-01],\n",
       "         [6.10887163e-01],\n",
       "         [6.10887163e-01],\n",
       "         [2.91459238e-01],\n",
       "         [2.91459238e-01],\n",
       "         [7.08374158e-01],\n",
       "         [7.08374158e-01],\n",
       "         [4.62987762e-01],\n",
       "         [4.62987762e-01],\n",
       "         [7.44422653e-01],\n",
       "         [7.44422653e-01],\n",
       "         [2.25945589e-01],\n",
       "         [2.25945589e-01],\n",
       "         [5.52569083e-04],\n",
       "         [5.52569083e-04],\n",
       "         [4.63657330e-01],\n",
       "         [4.63657330e-01],\n",
       "         [6.40042339e-01],\n",
       "         [6.40042339e-01],\n",
       "         [9.48524805e-01],\n",
       "         [9.48524805e-01],\n",
       "         [3.73656975e-01],\n",
       "         [3.73656975e-01],\n",
       "         [5.38581960e-01],\n",
       "         [5.38581960e-01],\n",
       "         [7.31815630e-01],\n",
       "         [7.31815630e-01],\n",
       "         [8.01013581e-01],\n",
       "         [8.01013581e-01],\n",
       "         [5.24818785e-01],\n",
       "         [5.24818785e-01],\n",
       "         [6.44923159e-01],\n",
       "         [6.44923159e-01],\n",
       "         [2.13696120e-01],\n",
       "         [2.13696120e-01],\n",
       "         [3.82856375e-01],\n",
       "         [3.82856375e-01],\n",
       "         [1.23516847e-02],\n",
       "         [1.23516847e-02],\n",
       "         [2.80185346e-01],\n",
       "         [2.80185346e-01],\n",
       "         [4.86688681e-01],\n",
       "         [4.86688681e-01],\n",
       "         [4.22823605e-01],\n",
       "         [4.22823605e-01],\n",
       "         [9.38454272e-01],\n",
       "         [9.38454272e-01],\n",
       "         [7.09787438e-01],\n",
       "         [7.09787438e-01],\n",
       "         [3.45500212e-01],\n",
       "         [3.45500212e-01],\n",
       "         [5.21195818e-01],\n",
       "         [5.21195818e-01],\n",
       "         [2.45279108e-01],\n",
       "         [2.45279108e-01],\n",
       "         [7.77376478e-01],\n",
       "         [7.77376478e-01],\n",
       "         [5.66015610e-01],\n",
       "         [5.66015610e-01]])}}"
      ]
     },
     "execution_count": 12,
     "metadata": {},
     "output_type": "execute_result"
    }
   ],
   "source": [
    "ds = load_by_id(run_id_a)\n",
    "ds.get_parameter_data('x1')"
   ]
  },
  {
   "cell_type": "code",
   "execution_count": null,
   "metadata": {},
   "outputs": [],
   "source": []
  }
 ],
 "metadata": {
  "kernelspec": {
   "display_name": "Python 3",
   "language": "python",
   "name": "python3"
  },
  "language_info": {
   "codemirror_mode": {
    "name": "ipython",
    "version": 3
   },
   "file_extension": ".py",
   "mimetype": "text/x-python",
   "name": "python",
   "nbconvert_exporter": "python",
   "pygments_lexer": "ipython3",
   "version": "3.7.7"
  },
  "nbsphinx": {
   "timeout": 600
  },
  "toc": {
   "base_numbering": 1,
   "nav_menu": {},
   "number_sections": true,
   "sideBar": true,
   "skip_h1_title": false,
   "title_cell": "Table of Contents",
   "title_sidebar": "Contents",
   "toc_cell": false,
   "toc_position": {},
   "toc_section_display": true,
   "toc_window_display": false
  },
  "varInspector": {
   "cols": {
    "lenName": 16,
    "lenType": 16,
    "lenVar": 40
   },
   "kernels_config": {
    "python": {
     "delete_cmd_postfix": "",
     "delete_cmd_prefix": "del ",
     "library": "var_list.py",
     "varRefreshCmd": "print(var_dic_list())"
    },
    "r": {
     "delete_cmd_postfix": ") ",
     "delete_cmd_prefix": "rm(",
     "library": "var_list.r",
     "varRefreshCmd": "cat(var_dic_list()) "
    }
   },
   "types_to_exclude": [
    "module",
    "function",
    "builtin_function_or_method",
    "instance",
    "_Feature"
   ],
   "window_display": false
  }
 },
 "nbformat": 4,
 "nbformat_minor": 2
}
