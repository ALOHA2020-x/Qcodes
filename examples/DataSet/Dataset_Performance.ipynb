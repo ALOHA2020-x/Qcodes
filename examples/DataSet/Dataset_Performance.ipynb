{
 "cells": [
  {
   "cell_type": "markdown",
   "metadata": {},
   "source": [
    "# DataSet Performance\n",
    "\n",
    "This notebook shows the trade-off between inserting data into a database row-by-row and as binary blobs. Inserting the data row-by-row means that we have direct access to all the data and may perform queries directly on the values of the data. On the other hand, as we shall see, this is much slower than inserting the data directly as binary blobs."
   ]
  },
  {
   "cell_type": "markdown",
   "metadata": {},
   "source": [
    "First, we choose a new location for the database to ensure that we don't add a bunch of benchmarking data to the default one."
   ]
  },
  {
   "cell_type": "code",
   "execution_count": 1,
   "metadata": {
    "execution": {
     "iopub.execute_input": "2021-05-25T07:02:56.049441Z",
     "iopub.status.busy": "2021-05-25T07:02:56.048669Z",
     "iopub.status.idle": "2021-05-25T07:02:57.309104Z",
     "shell.execute_reply": "2021-05-25T07:02:57.309620Z"
    }
   },
   "outputs": [
    {
     "name": "stdout",
     "output_type": "stream",
     "text": [
      "Logging hadn't been started.\n",
      "Activating auto-logging. Current session state plus future input saved.\n",
      "Filename       : /home/runner/.qcodes/logs/command_history.log\n",
      "Mode           : append\n",
      "Output logging : True\n",
      "Raw input log  : False\n",
      "Timestamping   : True\n",
      "State          : active\n"
     ]
    },
    {
     "name": "stdout",
     "output_type": "stream",
     "text": [
      "Qcodes Logfile : /home/runner/.qcodes/logs/210525-4491-qcodes.log\n"
     ]
    }
   ],
   "source": [
    "import os\n",
    "cwd = os.getcwd()\n",
    "import qcodes as qc\n",
    "qc.config[\"core\"][\"db_location\"] = os.path.join(cwd, 'testing.db')\n"
   ]
  },
  {
   "cell_type": "code",
   "execution_count": 2,
   "metadata": {
    "execution": {
     "iopub.execute_input": "2021-05-25T07:02:57.317559Z",
     "iopub.status.busy": "2021-05-25T07:02:57.316431Z",
     "iopub.status.idle": "2021-05-25T07:02:57.538245Z",
     "shell.execute_reply": "2021-05-25T07:02:57.537268Z"
    }
   },
   "outputs": [],
   "source": [
    "%matplotlib inline\n",
    "import time\n",
    "import matplotlib.pyplot as plt\n",
    "import numpy as np\n",
    "\n",
    "import qcodes as qc\n",
    "from qcodes.instrument.parameter import ManualParameter\n",
    "from qcodes.dataset.experiment_container import (Experiment,\n",
    "                                                 load_last_experiment,\n",
    "                                                 new_experiment)\n",
    "from qcodes.dataset.sqlite.database import initialise_database\n",
    "from qcodes import load_or_create_experiment\n",
    "from qcodes.dataset.measurements import Measurement"
   ]
  },
  {
   "cell_type": "code",
   "execution_count": 3,
   "metadata": {
    "execution": {
     "iopub.execute_input": "2021-05-25T07:02:57.542828Z",
     "iopub.status.busy": "2021-05-25T07:02:57.541969Z",
     "iopub.status.idle": "2021-05-25T07:02:57.605953Z",
     "shell.execute_reply": "2021-05-25T07:02:57.606400Z"
    }
   },
   "outputs": [
    {
     "name": "stdout",
     "output_type": "stream",
     "text": [
      "\r",
      "0it [00:00, ?it/s]"
     ]
    },
    {
     "name": "stdout",
     "output_type": "stream",
     "text": [
      "\r",
      "Upgrading database; v0 -> v1: : 0it [00:00, ?it/s]"
     ]
    },
    {
     "name": "stdout",
     "output_type": "stream",
     "text": [
      "\r",
      "Upgrading database; v0 -> v1: : 0it [00:00, ?it/s]"
     ]
    },
    {
     "name": "stdout",
     "output_type": "stream",
     "text": [
      "\n",
      "\r",
      "  0%|          | 0/1 [00:00<?, ?it/s]"
     ]
    },
    {
     "name": "stdout",
     "output_type": "stream",
     "text": [
      "\r",
      "Upgrading database; v1 -> v2:   0%|          | 0/1 [00:00<?, ?it/s]"
     ]
    },
    {
     "name": "stdout",
     "output_type": "stream",
     "text": [
      "\r",
      "Upgrading database; v1 -> v2: 100%|██████████| 1/1 [00:00<00:00, 773.57it/s]"
     ]
    },
    {
     "name": "stdout",
     "output_type": "stream",
     "text": [
      "\n",
      "\r",
      "0it [00:00, ?it/s]"
     ]
    },
    {
     "name": "stdout",
     "output_type": "stream",
     "text": [
      "\r",
      "Upgrading database; v2 -> v3: : 0it [00:00, ?it/s]"
     ]
    },
    {
     "name": "stdout",
     "output_type": "stream",
     "text": [
      "\r",
      "Upgrading database; v2 -> v3: : 0it [00:00, ?it/s]"
     ]
    },
    {
     "name": "stdout",
     "output_type": "stream",
     "text": [
      "\n",
      "\r",
      "0it [00:00, ?it/s]"
     ]
    },
    {
     "name": "stdout",
     "output_type": "stream",
     "text": [
      "\r",
      "Upgrading database; v3 -> v4: : 0it [00:00, ?it/s]"
     ]
    },
    {
     "name": "stdout",
     "output_type": "stream",
     "text": [
      "\r",
      "Upgrading database; v3 -> v4: : 0it [00:00, ?it/s]"
     ]
    },
    {
     "name": "stdout",
     "output_type": "stream",
     "text": [
      "\n",
      "\r",
      "  0%|          | 0/1 [00:00<?, ?it/s]"
     ]
    },
    {
     "name": "stdout",
     "output_type": "stream",
     "text": [
      "\r",
      "Upgrading database; v4 -> v5:   0%|          | 0/1 [00:00<?, ?it/s]"
     ]
    },
    {
     "name": "stdout",
     "output_type": "stream",
     "text": [
      "\r",
      "Upgrading database; v4 -> v5: 100%|██████████| 1/1 [00:00<00:00, 619.73it/s]"
     ]
    },
    {
     "name": "stdout",
     "output_type": "stream",
     "text": [
      "\n",
      "\r",
      "0it [00:00, ?it/s]"
     ]
    },
    {
     "name": "stdout",
     "output_type": "stream",
     "text": [
      "\r",
      "Upgrading database; v5 -> v6: : 0it [00:00, ?it/s]"
     ]
    },
    {
     "name": "stdout",
     "output_type": "stream",
     "text": [
      "\r",
      "Upgrading database; v5 -> v6: : 0it [00:00, ?it/s]"
     ]
    },
    {
     "name": "stdout",
     "output_type": "stream",
     "text": [
      "\n",
      "\r",
      "  0%|          | 0/1 [00:00<?, ?it/s]"
     ]
    },
    {
     "name": "stdout",
     "output_type": "stream",
     "text": [
      "\r",
      "Upgrading database; v6 -> v7:   0%|          | 0/1 [00:00<?, ?it/s]"
     ]
    },
    {
     "name": "stdout",
     "output_type": "stream",
     "text": [
      "\r",
      "Upgrading database; v6 -> v7: 100%|██████████| 1/1 [00:00<00:00, 399.50it/s]"
     ]
    },
    {
     "name": "stdout",
     "output_type": "stream",
     "text": [
      "\n",
      "\r",
      "  0%|          | 0/1 [00:00<?, ?it/s]"
     ]
    },
    {
     "name": "stdout",
     "output_type": "stream",
     "text": [
      "\r",
      "Upgrading database; v7 -> v8:   0%|          | 0/1 [00:00<?, ?it/s]"
     ]
    },
    {
     "name": "stdout",
     "output_type": "stream",
     "text": [
      "\r",
      "Upgrading database; v7 -> v8: 100%|██████████| 1/1 [00:00<00:00, 608.84it/s]"
     ]
    },
    {
     "name": "stdout",
     "output_type": "stream",
     "text": [
      "\n",
      "\r",
      "  0%|          | 0/1 [00:00<?, ?it/s]"
     ]
    },
    {
     "name": "stdout",
     "output_type": "stream",
     "text": [
      "\r",
      "Upgrading database; v8 -> v9:   0%|          | 0/1 [00:00<?, ?it/s]"
     ]
    },
    {
     "name": "stdout",
     "output_type": "stream",
     "text": [
      "\r",
      "Upgrading database; v8 -> v9: 100%|██████████| 1/1 [00:00<00:00, 911.21it/s]"
     ]
    },
    {
     "name": "stdout",
     "output_type": "stream",
     "text": [
      "\n"
     ]
    }
   ],
   "source": [
    "initialise_database()\n",
    "exp = load_or_create_experiment(experiment_name='tutorial_exp', sample_name=\"no sample\")"
   ]
  },
  {
   "cell_type": "markdown",
   "metadata": {},
   "source": [
    "Here, we define a simple function to benchmark the time it takes to insert n points with either numeric or array data type.\n",
    "We will compare both the time used to call ``add_result`` and the time used for the full measurement."
   ]
  },
  {
   "cell_type": "code",
   "execution_count": 4,
   "metadata": {
    "execution": {
     "iopub.execute_input": "2021-05-25T07:02:57.615531Z",
     "iopub.status.busy": "2021-05-25T07:02:57.614118Z",
     "iopub.status.idle": "2021-05-25T07:02:57.616432Z",
     "shell.execute_reply": "2021-05-25T07:02:57.617032Z"
    }
   },
   "outputs": [],
   "source": [
    "def insert_data(paramtype, npoints, nreps=1):\n",
    "\n",
    "    meas = Measurement(exp=exp)\n",
    "\n",
    "    x1 = ManualParameter('x1')\n",
    "    x2 = ManualParameter('x2')\n",
    "    x3 = ManualParameter('x3')\n",
    "    y1 = ManualParameter('y1')\n",
    "    y2 = ManualParameter('y2')\n",
    "\n",
    "    meas.register_parameter(x1, paramtype=paramtype)\n",
    "    meas.register_parameter(x2, paramtype=paramtype)\n",
    "    meas.register_parameter(x3, paramtype=paramtype)\n",
    "    meas.register_parameter(y1, setpoints=[x1, x2, x3],\n",
    "                            paramtype=paramtype)\n",
    "    meas.register_parameter(y2, setpoints=[x1, x2, x3],\n",
    "                            paramtype=paramtype)\n",
    "    start = time.perf_counter()\n",
    "    with meas.run() as datasaver:\n",
    "        start_adding = time.perf_counter()\n",
    "        for i in range(nreps):\n",
    "            datasaver.add_result((x1, np.random.rand(npoints)),\n",
    "                                 (x2, np.random.rand(npoints)),\n",
    "                                 (x3, np.random.rand(npoints)),\n",
    "                                 (y1, np.random.rand(npoints)),\n",
    "                                 (y2, np.random.rand(npoints)))\n",
    "        stop_adding = time.perf_counter()\n",
    "        run_id = datasaver.run_id\n",
    "    stop = time.perf_counter()\n",
    "    tot_time = stop - start\n",
    "    add_time = stop_adding - start_adding\n",
    "    return tot_time, add_time, run_id"
   ]
  },
  {
   "cell_type": "markdown",
   "metadata": {},
   "source": [
    "## Comparison between numeric/array data and binary blob"
   ]
  },
  {
   "cell_type": "markdown",
   "metadata": {},
   "source": [
    "### Case1: Short experiment time"
   ]
  },
  {
   "cell_type": "code",
   "execution_count": 5,
   "metadata": {
    "execution": {
     "iopub.execute_input": "2021-05-25T07:02:57.624300Z",
     "iopub.status.busy": "2021-05-25T07:02:57.623590Z",
     "iopub.status.idle": "2021-05-25T07:02:58.528182Z",
     "shell.execute_reply": "2021-05-25T07:02:58.527593Z"
    }
   },
   "outputs": [
    {
     "name": "stdout",
     "output_type": "stream",
     "text": [
      "Starting experimental run with id: 1. \n",
      "Starting experimental run with id: 2. \n",
      "Starting experimental run with id: 3. \n"
     ]
    },
    {
     "name": "stdout",
     "output_type": "stream",
     "text": [
      "Starting experimental run with id: 4. \n"
     ]
    },
    {
     "name": "stdout",
     "output_type": "stream",
     "text": [
      "Starting experimental run with id: 5. \n"
     ]
    },
    {
     "name": "stdout",
     "output_type": "stream",
     "text": [
      "Starting experimental run with id: 6. \n",
      "Starting experimental run with id: 7. \n",
      "Starting experimental run with id: 8. \n"
     ]
    },
    {
     "name": "stdout",
     "output_type": "stream",
     "text": [
      "Starting experimental run with id: 9. \n"
     ]
    },
    {
     "name": "stdout",
     "output_type": "stream",
     "text": [
      "Starting experimental run with id: 10. \n",
      "Starting experimental run with id: 11. \n"
     ]
    },
    {
     "name": "stdout",
     "output_type": "stream",
     "text": [
      "Starting experimental run with id: 12. \n"
     ]
    },
    {
     "name": "stdout",
     "output_type": "stream",
     "text": [
      "Starting experimental run with id: 13. \n"
     ]
    },
    {
     "name": "stdout",
     "output_type": "stream",
     "text": [
      "Starting experimental run with id: 14. \n"
     ]
    }
   ],
   "source": [
    "sizes = [1,500,1000,2000,3000,4000,5000]\n",
    "t_numeric = []\n",
    "t_numeric_add = []\n",
    "t_array = []\n",
    "t_array_add = []\n",
    "for size in sizes:\n",
    "    tn, tna, run_id_n =  insert_data('numeric', size)\n",
    "    t_numeric.append(tn)\n",
    "    t_numeric_add.append(tna)\n",
    "\n",
    "    ta, taa, run_id_a =  insert_data('array', size)\n",
    "    t_array.append(ta)\n",
    "    t_array_add.append(taa)"
   ]
  },
  {
   "cell_type": "code",
   "execution_count": 6,
   "metadata": {
    "execution": {
     "iopub.execute_input": "2021-05-25T07:02:58.548725Z",
     "iopub.status.busy": "2021-05-25T07:02:58.533317Z",
     "iopub.status.idle": "2021-05-25T07:02:58.824555Z",
     "shell.execute_reply": "2021-05-25T07:02:58.823956Z"
    }
   },
   "outputs": [
    {
     "data": {
      "image/png": "[encoded data removed]",
      "text/plain": [
       "<Figure size 432x288 with 1 Axes>"
      ]
     },
     "metadata": {
      "needs_background": "light"
     },
     "output_type": "display_data"
    }
   ],
   "source": [
    "fig, ax = plt.subplots(1,1)\n",
    "ax.plot(sizes, t_numeric, 'o-', label='Inserting row-by-row')\n",
    "ax.plot(sizes, t_numeric_add, 'o-', label='Inserting row-by-row: add_result only')\n",
    "ax.plot(sizes, t_array, 'd-', label='Inserting as binary blob')\n",
    "ax.plot(sizes, t_array_add, 'd-', label='Inserting as binary blob: add_result only')\n",
    "ax.legend()\n",
    "ax.set_xlabel('Array length')\n",
    "ax.set_ylabel('Time (s)')\n",
    "fig.tight_layout()"
   ]
  },
  {
   "cell_type": "markdown",
   "metadata": {},
   "source": [
    "As shown in the latter figure, the time to setup and and close the experiment is approximately 0.4 sec. In case of small array sizes, the difference between inserting values of data as arrays and inserting them row-by-row is relatively unimportant. At larger array sizes, i.e. above 10000 points, the cost of writing data as individual datapoints starts to become important.\n"
   ]
  },
  {
   "cell_type": "markdown",
   "metadata": {},
   "source": [
    "### Case2: Long experiment time "
   ]
  },
  {
   "cell_type": "code",
   "execution_count": 7,
   "metadata": {
    "execution": {
     "iopub.execute_input": "2021-05-25T07:02:58.832290Z",
     "iopub.status.busy": "2021-05-25T07:02:58.829278Z",
     "iopub.status.idle": "2021-05-25T07:04:02.999878Z",
     "shell.execute_reply": "2021-05-25T07:04:02.998851Z"
    }
   },
   "outputs": [
    {
     "name": "stdout",
     "output_type": "stream",
     "text": [
      "Starting experimental run with id: 15. \n",
      "Starting experimental run with id: 16. \n"
     ]
    },
    {
     "name": "stdout",
     "output_type": "stream",
     "text": [
      "Starting experimental run with id: 17. \n"
     ]
    },
    {
     "name": "stdout",
     "output_type": "stream",
     "text": [
      "Starting experimental run with id: 18. \n"
     ]
    },
    {
     "name": "stdout",
     "output_type": "stream",
     "text": [
      "Starting experimental run with id: 19. \n"
     ]
    },
    {
     "name": "stdout",
     "output_type": "stream",
     "text": [
      "Starting experimental run with id: 20. \n"
     ]
    },
    {
     "name": "stdout",
     "output_type": "stream",
     "text": [
      "Starting experimental run with id: 21. \n"
     ]
    },
    {
     "name": "stdout",
     "output_type": "stream",
     "text": [
      "Starting experimental run with id: 22. \n"
     ]
    },
    {
     "name": "stdout",
     "output_type": "stream",
     "text": [
      "Starting experimental run with id: 23. \n"
     ]
    },
    {
     "name": "stdout",
     "output_type": "stream",
     "text": [
      "Starting experimental run with id: 24. \n"
     ]
    },
    {
     "name": "stdout",
     "output_type": "stream",
     "text": [
      "Starting experimental run with id: 25. \n"
     ]
    },
    {
     "name": "stdout",
     "output_type": "stream",
     "text": [
      "Starting experimental run with id: 26. \n"
     ]
    },
    {
     "name": "stdout",
     "output_type": "stream",
     "text": [
      "Starting experimental run with id: 27. \n"
     ]
    },
    {
     "name": "stdout",
     "output_type": "stream",
     "text": [
      "Starting experimental run with id: 28. \n"
     ]
    }
   ],
   "source": [
    "sizes = [1,500,1000,2000,3000,4000,5000]\n",
    "nreps = 100\n",
    "t_numeric = []\n",
    "t_numeric_add = []\n",
    "t_numeric_run_ids = []\n",
    "t_array = []\n",
    "t_array_add = []\n",
    "t_array_run_ids = []\n",
    "for size in sizes:\n",
    "    tn, tna, run_id_n =  insert_data('numeric', size, nreps=nreps)\n",
    "    t_numeric.append(tn)\n",
    "    t_numeric_add.append(tna)\n",
    "    t_numeric_run_ids.append(run_id_n)\n",
    "\n",
    "    ta, taa, run_id_a =  insert_data('array', size, nreps=nreps)\n",
    "    t_array.append(ta)\n",
    "    t_array_add.append(taa)\n",
    "    t_array_run_ids.append(run_id_a)"
   ]
  },
  {
   "cell_type": "code",
   "execution_count": 8,
   "metadata": {
    "execution": {
     "iopub.execute_input": "2021-05-25T07:04:03.052490Z",
     "iopub.status.busy": "2021-05-25T07:04:03.034511Z",
     "iopub.status.idle": "2021-05-25T07:04:03.283333Z",
     "shell.execute_reply": "2021-05-25T07:04:03.283890Z"
    },
    "scrolled": true
   },
   "outputs": [
    {
     "data": {
      "image/png": "[encoded data removed]",
      "text/plain": [
       "<Figure size 432x288 with 1 Axes>"
      ]
     },
     "metadata": {
      "needs_background": "light"
     },
     "output_type": "display_data"
    }
   ],
   "source": [
    "fig, ax = plt.subplots(1,1)\n",
    "ax.plot(sizes, t_numeric, 'o-', label='Inserting row-by-row')\n",
    "ax.plot(sizes, t_numeric_add, 'o-', label='Inserting row-by-row: add_result only')\n",
    "ax.plot(sizes, t_array, 'd-', label='Inserting as binary blob')\n",
    "ax.plot(sizes, t_array_add, 'd-', label='Inserting as binary blob: add_result only')\n",
    "ax.legend()\n",
    "ax.set_xlabel('Array length')\n",
    "ax.set_ylabel('Time (s)')\n",
    "fig.tight_layout()"
   ]
  },
  {
   "cell_type": "markdown",
   "metadata": {},
   "source": [
    "However, as we increase the length of the experiment, as seen here by repeating the insertion 100 times, we see a big difference between inserting values of the data row-by-row and inserting it as a binary blob."
   ]
  },
  {
   "cell_type": "markdown",
   "metadata": {},
   "source": [
    "## Loading the data "
   ]
  },
  {
   "cell_type": "code",
   "execution_count": 9,
   "metadata": {
    "execution": {
     "iopub.execute_input": "2021-05-25T07:04:03.289012Z",
     "iopub.status.busy": "2021-05-25T07:04:03.288083Z",
     "iopub.status.idle": "2021-05-25T07:04:03.290983Z",
     "shell.execute_reply": "2021-05-25T07:04:03.290410Z"
    }
   },
   "outputs": [],
   "source": [
    "from qcodes.dataset.data_set import load_by_id"
   ]
  },
  {
   "cell_type": "markdown",
   "metadata": {},
   "source": [
    "As usual you can load the data by using the ``load_by_id`` function but you will notice that the different storage methods\n",
    "are reflected in shape of the data as it is retrieved. "
   ]
  },
  {
   "cell_type": "code",
   "execution_count": 10,
   "metadata": {
    "execution": {
     "iopub.execute_input": "2021-05-25T07:04:03.296331Z",
     "iopub.status.busy": "2021-05-25T07:04:03.294921Z",
     "iopub.status.idle": "2021-05-25T07:04:03.297047Z",
     "shell.execute_reply": "2021-05-25T07:04:03.297584Z"
    }
   },
   "outputs": [],
   "source": [
    "run_id_n = t_numeric_run_ids[0]\n",
    "run_id_a = t_array_run_ids[0]"
   ]
  },
  {
   "cell_type": "code",
   "execution_count": 11,
   "metadata": {
    "execution": {
     "iopub.execute_input": "2021-05-25T07:04:03.301367Z",
     "iopub.status.busy": "2021-05-25T07:04:03.300732Z",
     "iopub.status.idle": "2021-05-25T07:04:03.311553Z",
     "shell.execute_reply": "2021-05-25T07:04:03.312047Z"
    },
    "scrolled": true
   },
   "outputs": [
    {
     "data": {
      "text/plain": [
       "{'x1': {'x1': array([0.38465365, 0.38465365, 0.89460719, 0.89460719, 0.16340687,\n",
       "         0.16340687, 0.81130383, 0.81130383, 0.9821588 , 0.9821588 ,\n",
       "         0.08394816, 0.08394816, 0.84496621, 0.84496621, 0.58348848,\n",
       "         0.58348848, 0.47685076, 0.47685076, 0.33511871, 0.33511871,\n",
       "         0.68212687, 0.68212687, 0.2432575 , 0.2432575 , 0.13377665,\n",
       "         0.13377665, 0.71396011, 0.71396011, 0.81975693, 0.81975693,\n",
       "         0.38637839, 0.38637839, 0.00799134, 0.00799134, 0.47403609,\n",
       "         0.47403609, 0.82467161, 0.82467161, 0.54553553, 0.54553553,\n",
       "         0.2234265 , 0.2234265 , 0.08058195, 0.08058195, 0.59284823,\n",
       "         0.59284823, 0.69560776, 0.69560776, 0.40135121, 0.40135121,\n",
       "         0.69794597, 0.69794597, 0.76278441, 0.76278441, 0.85052519,\n",
       "         0.85052519, 0.58361709, 0.58361709, 0.51286753, 0.51286753,\n",
       "         0.51802701, 0.51802701, 0.02918953, 0.02918953, 0.99359359,\n",
       "         0.99359359, 0.83366403, 0.83366403, 0.14528462, 0.14528462,\n",
       "         0.97246462, 0.97246462, 0.33124948, 0.33124948, 0.68047169,\n",
       "         0.68047169, 0.71325381, 0.71325381, 0.63015608, 0.63015608,\n",
       "         0.46506955, 0.46506955, 0.23943321, 0.23943321, 0.97326833,\n",
       "         0.97326833, 0.6848252 , 0.6848252 , 0.97661691, 0.97661691,\n",
       "         0.85719096, 0.85719096, 0.22430359, 0.22430359, 0.06771738,\n",
       "         0.06771738, 0.3097331 , 0.3097331 , 0.98075838, 0.98075838,\n",
       "         0.53612324, 0.53612324, 0.75178406, 0.75178406, 0.64633375,\n",
       "         0.64633375, 0.32679286, 0.32679286, 0.99111775, 0.99111775,\n",
       "         0.71364754, 0.71364754, 0.04280857, 0.04280857, 0.99016339,\n",
       "         0.99016339, 0.90430138, 0.90430138, 0.04094852, 0.04094852,\n",
       "         0.47293265, 0.47293265, 0.13267364, 0.13267364, 0.12695674,\n",
       "         0.12695674, 0.1910606 , 0.1910606 , 0.69075759, 0.69075759,\n",
       "         0.92655998, 0.92655998, 0.54257695, 0.54257695, 0.77628741,\n",
       "         0.77628741, 0.24973328, 0.24973328, 0.34835609, 0.34835609,\n",
       "         0.38929012, 0.38929012, 0.85493244, 0.85493244, 0.68730997,\n",
       "         0.68730997, 0.05657937, 0.05657937, 0.30955921, 0.30955921,\n",
       "         0.19363091, 0.19363091, 0.60116625, 0.60116625, 0.37703012,\n",
       "         0.37703012, 0.53305506, 0.53305506, 0.57779873, 0.57779873,\n",
       "         0.93275082, 0.93275082, 0.08480695, 0.08480695, 0.18291867,\n",
       "         0.18291867, 0.11759334, 0.11759334, 0.4299137 , 0.4299137 ,\n",
       "         0.31798687, 0.31798687, 0.9156643 , 0.9156643 , 0.47211145,\n",
       "         0.47211145, 0.99911221, 0.99911221, 0.53796494, 0.53796494,\n",
       "         0.7580518 , 0.7580518 , 0.034482  , 0.034482  , 0.01659757,\n",
       "         0.01659757, 0.13079572, 0.13079572, 0.2990701 , 0.2990701 ,\n",
       "         0.25645525, 0.25645525, 0.5714922 , 0.5714922 , 0.81925256,\n",
       "         0.81925256, 0.1768765 , 0.1768765 , 0.49691596, 0.49691596])}}"
      ]
     },
     "execution_count": 1,
     "metadata": {},
     "output_type": "execute_result"
    }
   ],
   "source": [
    "ds = load_by_id(run_id_n)\n",
    "ds.get_parameter_data('x1')"
   ]
  },
  {
   "cell_type": "markdown",
   "metadata": {},
   "source": [
    "And a dataset stored as binary arrays"
   ]
  },
  {
   "cell_type": "code",
   "execution_count": 12,
   "metadata": {
    "execution": {
     "iopub.execute_input": "2021-05-25T07:04:03.316233Z",
     "iopub.status.busy": "2021-05-25T07:04:03.315422Z",
     "iopub.status.idle": "2021-05-25T07:04:03.384069Z",
     "shell.execute_reply": "2021-05-25T07:04:03.384657Z"
    },
    "scrolled": true
   },
   "outputs": [
    {
     "data": {
      "text/plain": [
       "{'x1': {'x1': array([[0.15623042],\n",
       "         [0.15623042],\n",
       "         [0.62385905],\n",
       "         [0.62385905],\n",
       "         [0.23164626],\n",
       "         [0.23164626],\n",
       "         [0.48785353],\n",
       "         [0.48785353],\n",
       "         [0.65306453],\n",
       "         [0.65306453],\n",
       "         [0.54668251],\n",
       "         [0.54668251],\n",
       "         [0.85294724],\n",
       "         [0.85294724],\n",
       "         [0.27262034],\n",
       "         [0.27262034],\n",
       "         [0.62499503],\n",
       "         [0.62499503],\n",
       "         [0.30600376],\n",
       "         [0.30600376],\n",
       "         [0.71989649],\n",
       "         [0.71989649],\n",
       "         [0.38388923],\n",
       "         [0.38388923],\n",
       "         [0.03469199],\n",
       "         [0.03469199],\n",
       "         [0.22308826],\n",
       "         [0.22308826],\n",
       "         [0.91155736],\n",
       "         [0.91155736],\n",
       "         [0.64219233],\n",
       "         [0.64219233],\n",
       "         [0.92478251],\n",
       "         [0.92478251],\n",
       "         [0.25082595],\n",
       "         [0.25082595],\n",
       "         [0.88041156],\n",
       "         [0.88041156],\n",
       "         [0.23570772],\n",
       "         [0.23570772],\n",
       "         [0.92732585],\n",
       "         [0.92732585],\n",
       "         [0.76246415],\n",
       "         [0.76246415],\n",
       "         [0.34503632],\n",
       "         [0.34503632],\n",
       "         [0.78318477],\n",
       "         [0.78318477],\n",
       "         [0.57142392],\n",
       "         [0.57142392],\n",
       "         [0.86069366],\n",
       "         [0.86069366],\n",
       "         [0.00451876],\n",
       "         [0.00451876],\n",
       "         [0.77231631],\n",
       "         [0.77231631],\n",
       "         [0.80566964],\n",
       "         [0.80566964],\n",
       "         [0.49897682],\n",
       "         [0.49897682],\n",
       "         [0.7956036 ],\n",
       "         [0.7956036 ],\n",
       "         [0.04649708],\n",
       "         [0.04649708],\n",
       "         [0.28023283],\n",
       "         [0.28023283],\n",
       "         [0.73661139],\n",
       "         [0.73661139],\n",
       "         [0.31692332],\n",
       "         [0.31692332],\n",
       "         [0.08067213],\n",
       "         [0.08067213],\n",
       "         [0.23044782],\n",
       "         [0.23044782],\n",
       "         [0.66564105],\n",
       "         [0.66564105],\n",
       "         [0.02130611],\n",
       "         [0.02130611],\n",
       "         [0.85483477],\n",
       "         [0.85483477],\n",
       "         [0.043422  ],\n",
       "         [0.043422  ],\n",
       "         [0.63244975],\n",
       "         [0.63244975],\n",
       "         [0.15786357],\n",
       "         [0.15786357],\n",
       "         [0.74365788],\n",
       "         [0.74365788],\n",
       "         [0.76743207],\n",
       "         [0.76743207],\n",
       "         [0.05784582],\n",
       "         [0.05784582],\n",
       "         [0.30826599],\n",
       "         [0.30826599],\n",
       "         [0.33527356],\n",
       "         [0.33527356],\n",
       "         [0.73821298],\n",
       "         [0.73821298],\n",
       "         [0.6233686 ],\n",
       "         [0.6233686 ],\n",
       "         [0.12994136],\n",
       "         [0.12994136],\n",
       "         [0.95349865],\n",
       "         [0.95349865],\n",
       "         [0.98739463],\n",
       "         [0.98739463],\n",
       "         [0.47545024],\n",
       "         [0.47545024],\n",
       "         [0.60186485],\n",
       "         [0.60186485],\n",
       "         [0.3769201 ],\n",
       "         [0.3769201 ],\n",
       "         [0.93156253],\n",
       "         [0.93156253],\n",
       "         [0.70854493],\n",
       "         [0.70854493],\n",
       "         [0.69959905],\n",
       "         [0.69959905],\n",
       "         [0.0176986 ],\n",
       "         [0.0176986 ],\n",
       "         [0.83609498],\n",
       "         [0.83609498],\n",
       "         [0.25148879],\n",
       "         [0.25148879],\n",
       "         [0.45114104],\n",
       "         [0.45114104],\n",
       "         [0.09398212],\n",
       "         [0.09398212],\n",
       "         [0.34477215],\n",
       "         [0.34477215],\n",
       "         [0.35009018],\n",
       "         [0.35009018],\n",
       "         [0.91154735],\n",
       "         [0.91154735],\n",
       "         [0.52408445],\n",
       "         [0.52408445],\n",
       "         [0.16570656],\n",
       "         [0.16570656],\n",
       "         [0.5554474 ],\n",
       "         [0.5554474 ],\n",
       "         [0.36122941],\n",
       "         [0.36122941],\n",
       "         [0.70244566],\n",
       "         [0.70244566],\n",
       "         [0.04661379],\n",
       "         [0.04661379],\n",
       "         [0.03382571],\n",
       "         [0.03382571],\n",
       "         [0.99004831],\n",
       "         [0.99004831],\n",
       "         [0.88958393],\n",
       "         [0.88958393],\n",
       "         [0.49385544],\n",
       "         [0.49385544],\n",
       "         [0.66416981],\n",
       "         [0.66416981],\n",
       "         [0.0677988 ],\n",
       "         [0.0677988 ],\n",
       "         [0.99894712],\n",
       "         [0.99894712],\n",
       "         [0.43849268],\n",
       "         [0.43849268],\n",
       "         [0.11765703],\n",
       "         [0.11765703],\n",
       "         [0.60110347],\n",
       "         [0.60110347],\n",
       "         [0.10384819],\n",
       "         [0.10384819],\n",
       "         [0.19588315],\n",
       "         [0.19588315],\n",
       "         [0.77829141],\n",
       "         [0.77829141],\n",
       "         [0.85384101],\n",
       "         [0.85384101],\n",
       "         [0.35104416],\n",
       "         [0.35104416],\n",
       "         [0.28206967],\n",
       "         [0.28206967],\n",
       "         [0.18928925],\n",
       "         [0.18928925],\n",
       "         [0.42753282],\n",
       "         [0.42753282],\n",
       "         [0.09395665],\n",
       "         [0.09395665],\n",
       "         [0.8517273 ],\n",
       "         [0.8517273 ],\n",
       "         [0.59886438],\n",
       "         [0.59886438],\n",
       "         [0.84184858],\n",
       "         [0.84184858],\n",
       "         [0.71764664],\n",
       "         [0.71764664],\n",
       "         [0.06843397],\n",
       "         [0.06843397],\n",
       "         [0.4005423 ],\n",
       "         [0.4005423 ],\n",
       "         [0.06391559],\n",
       "         [0.06391559],\n",
       "         [0.09884915],\n",
       "         [0.09884915]])}}"
      ]
     },
     "execution_count": 1,
     "metadata": {},
     "output_type": "execute_result"
    }
   ],
   "source": [
    "ds = load_by_id(run_id_a)\n",
    "ds.get_parameter_data('x1')"
   ]
  },
  {
   "cell_type": "code",
   "execution_count": null,
   "metadata": {},
   "outputs": [],
   "source": []
  }
 ],
 "metadata": {
  "kernelspec": {
   "display_name": "Python 3",
   "language": "python",
   "name": "python3"
  },
  "language_info": {
   "codemirror_mode": {
    "name": "ipython",
    "version": 3
   },
   "file_extension": ".py",
   "mimetype": "text/x-python",
   "name": "python",
   "nbconvert_exporter": "python",
   "pygments_lexer": "ipython3",
   "version": "3.7.10"
  },
  "nbsphinx": {
   "timeout": 600
  },
  "toc": {
   "base_numbering": 1,
   "nav_menu": {},
   "number_sections": true,
   "sideBar": true,
   "skip_h1_title": false,
   "title_cell": "Table of Contents",
   "title_sidebar": "Contents",
   "toc_cell": false,
   "toc_position": {},
   "toc_section_display": true,
   "toc_window_display": false
  },
  "varInspector": {
   "cols": {
    "lenName": 16,
    "lenType": 16,
    "lenVar": 40
   },
   "kernels_config": {
    "python": {
     "delete_cmd_postfix": "",
     "delete_cmd_prefix": "del ",
     "library": "var_list.py",
     "varRefreshCmd": "print(var_dic_list())"
    },
    "r": {
     "delete_cmd_postfix": ") ",
     "delete_cmd_prefix": "rm(",
     "library": "var_list.r",
     "varRefreshCmd": "cat(var_dic_list()) "
    }
   },
   "types_to_exclude": [
    "module",
    "function",
    "builtin_function_or_method",
    "instance",
    "_Feature"
   ],
   "window_display": false
  }
 },
 "nbformat": 4,
 "nbformat_minor": 4
}
