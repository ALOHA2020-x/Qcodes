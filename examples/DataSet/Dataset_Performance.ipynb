{
 "cells": [
  {
   "cell_type": "markdown",
   "metadata": {},
   "source": [
    "# DataSet Performance\n",
    "\n",
    "This notebook shows the trade-off between inserting data into a database row-by-row and as binary blobs. Inserting the data row-by-row means that we have direct access to all the data and may perform queries directly on the values of the data. On the other hand, as we shall see, this is much slower than inserting the data directly as binary blobs."
   ]
  },
  {
   "cell_type": "markdown",
   "metadata": {},
   "source": [
    "First, we choose a new location for the database to ensure that we don't add a bunch of benchmarking data to the default one."
   ]
  },
  {
   "cell_type": "code",
   "execution_count": 1,
   "metadata": {
    "execution": {
     "iopub.execute_input": "2020-11-12T17:37:45.707608Z",
     "iopub.status.busy": "2020-11-12T17:37:45.706924Z",
     "iopub.status.idle": "2020-11-12T17:37:46.831321Z",
     "shell.execute_reply": "2020-11-12T17:37:46.831802Z"
    }
   },
   "outputs": [
    {
     "name": "stdout",
     "output_type": "stream",
     "text": [
      "Logging hadn't been started.\n",
      "Activating auto-logging. Current session state plus future input saved.\n",
      "Filename       : /home/vsts/.qcodes/logs/command_history.log\n",
      "Mode           : append\n",
      "Output logging : True\n",
      "Raw input log  : False\n",
      "Timestamping   : True\n",
      "State          : active\n"
     ]
    },
    {
     "name": "stdout",
     "output_type": "stream",
     "text": [
      "Qcodes Logfile : /home/vsts/.qcodes/logs/201112-14676-qcodes.log\n"
     ]
    }
   ],
   "source": [
    "import os\n",
    "cwd = os.getcwd()\n",
    "import qcodes as qc\n",
    "qc.config[\"core\"][\"db_location\"] = os.path.join(cwd, 'testing.db')\n"
   ]
  },
  {
   "cell_type": "code",
   "execution_count": 2,
   "metadata": {
    "execution": {
     "iopub.execute_input": "2020-11-12T17:37:46.838544Z",
     "iopub.status.busy": "2020-11-12T17:37:46.837870Z",
     "iopub.status.idle": "2020-11-12T17:37:47.046631Z",
     "shell.execute_reply": "2020-11-12T17:37:47.046029Z"
    }
   },
   "outputs": [],
   "source": [
    "%matplotlib inline\n",
    "import time\n",
    "import matplotlib.pyplot as plt\n",
    "import numpy as np\n",
    "\n",
    "import qcodes as qc\n",
    "from qcodes.instrument.parameter import ManualParameter\n",
    "from qcodes.dataset.experiment_container import (Experiment,\n",
    "                                                 load_last_experiment,\n",
    "                                                 new_experiment)\n",
    "from qcodes.dataset.sqlite.database import initialise_database\n",
    "from qcodes import load_or_create_experiment\n",
    "from qcodes.dataset.measurements import Measurement"
   ]
  },
  {
   "cell_type": "code",
   "execution_count": 3,
   "metadata": {
    "execution": {
     "iopub.execute_input": "2020-11-12T17:37:47.050938Z",
     "iopub.status.busy": "2020-11-12T17:37:47.050214Z",
     "iopub.status.idle": "2020-11-12T17:37:47.201479Z",
     "shell.execute_reply": "2020-11-12T17:37:47.200874Z"
    }
   },
   "outputs": [
    {
     "name": "stdout",
     "output_type": "stream",
     "text": [
      "\r",
      "0it [00:00, ?it/s]"
     ]
    },
    {
     "name": "stdout",
     "output_type": "stream",
     "text": [
      "\r",
      "Upgrading database; v0 -> v1: : 0it [00:00, ?it/s]"
     ]
    },
    {
     "name": "stdout",
     "output_type": "stream",
     "text": [
      "\r",
      "Upgrading database; v0 -> v1: : 0it [00:00, ?it/s]"
     ]
    },
    {
     "name": "stdout",
     "output_type": "stream",
     "text": [
      "\n",
      "\r",
      "  0%|          | 0/1 [00:00<?, ?it/s]"
     ]
    },
    {
     "name": "stdout",
     "output_type": "stream",
     "text": [
      "\r",
      "Upgrading database; v1 -> v2:   0%|          | 0/1 [00:00<?, ?it/s]"
     ]
    },
    {
     "name": "stdout",
     "output_type": "stream",
     "text": [
      "\r",
      "Upgrading database; v1 -> v2: 100%|██████████| 1/1 [00:00<00:00, 1082.40it/s]"
     ]
    },
    {
     "name": "stdout",
     "output_type": "stream",
     "text": [
      "\n",
      "\r",
      "0it [00:00, ?it/s]"
     ]
    },
    {
     "name": "stdout",
     "output_type": "stream",
     "text": [
      "\r",
      "Upgrading database; v2 -> v3: : 0it [00:00, ?it/s]"
     ]
    },
    {
     "name": "stdout",
     "output_type": "stream",
     "text": [
      "\r",
      "Upgrading database; v2 -> v3: : 0it [00:00, ?it/s]"
     ]
    },
    {
     "name": "stdout",
     "output_type": "stream",
     "text": [
      "\n",
      "\r",
      "0it [00:00, ?it/s]"
     ]
    },
    {
     "name": "stdout",
     "output_type": "stream",
     "text": [
      "\r",
      "Upgrading database; v3 -> v4: : 0it [00:00, ?it/s]"
     ]
    },
    {
     "name": "stdout",
     "output_type": "stream",
     "text": [
      "\r",
      "Upgrading database; v3 -> v4: : 0it [00:00, ?it/s]"
     ]
    },
    {
     "name": "stdout",
     "output_type": "stream",
     "text": [
      "\n",
      "\r",
      "  0%|          | 0/1 [00:00<?, ?it/s]"
     ]
    },
    {
     "name": "stdout",
     "output_type": "stream",
     "text": [
      "\r",
      "Upgrading database; v4 -> v5:   0%|          | 0/1 [00:00<?, ?it/s]"
     ]
    },
    {
     "name": "stdout",
     "output_type": "stream",
     "text": [
      "\r",
      "Upgrading database; v4 -> v5: 100%|██████████| 1/1 [00:00<00:00, 413.27it/s]"
     ]
    },
    {
     "name": "stdout",
     "output_type": "stream",
     "text": [
      "\n",
      "\r",
      "0it [00:00, ?it/s]"
     ]
    },
    {
     "name": "stdout",
     "output_type": "stream",
     "text": [
      "\r",
      "Upgrading database; v5 -> v6: : 0it [00:00, ?it/s]"
     ]
    },
    {
     "name": "stdout",
     "output_type": "stream",
     "text": [
      "\r",
      "Upgrading database; v5 -> v6: : 0it [00:00, ?it/s]"
     ]
    },
    {
     "name": "stdout",
     "output_type": "stream",
     "text": [
      "\n",
      "\r",
      "  0%|          | 0/1 [00:00<?, ?it/s]"
     ]
    },
    {
     "name": "stdout",
     "output_type": "stream",
     "text": [
      "\r",
      "Upgrading database; v6 -> v7:   0%|          | 0/1 [00:00<?, ?it/s]"
     ]
    },
    {
     "name": "stdout",
     "output_type": "stream",
     "text": [
      "\r",
      "Upgrading database; v6 -> v7: 100%|██████████| 1/1 [00:00<00:00, 284.65it/s]"
     ]
    },
    {
     "name": "stdout",
     "output_type": "stream",
     "text": [
      "\n",
      "\r",
      "  0%|          | 0/1 [00:00<?, ?it/s]"
     ]
    },
    {
     "name": "stdout",
     "output_type": "stream",
     "text": [
      "\r",
      "Upgrading database; v7 -> v8:   0%|          | 0/1 [00:00<?, ?it/s]"
     ]
    },
    {
     "name": "stdout",
     "output_type": "stream",
     "text": [
      "\r",
      "Upgrading database; v7 -> v8: 100%|██████████| 1/1 [00:00<00:00, 526.46it/s]"
     ]
    },
    {
     "name": "stdout",
     "output_type": "stream",
     "text": [
      "\n",
      "\r",
      "  0%|          | 0/1 [00:00<?, ?it/s]"
     ]
    },
    {
     "name": "stdout",
     "output_type": "stream",
     "text": [
      "\r",
      "Upgrading database; v8 -> v9:   0%|          | 0/1 [00:00<?, ?it/s]"
     ]
    },
    {
     "name": "stdout",
     "output_type": "stream",
     "text": [
      "\r",
      "Upgrading database; v8 -> v9: 100%|██████████| 1/1 [00:00<00:00, 429.30it/s]"
     ]
    },
    {
     "name": "stdout",
     "output_type": "stream",
     "text": [
      "\n"
     ]
    }
   ],
   "source": [
    "initialise_database()\n",
    "exp = load_or_create_experiment(experiment_name='tutorial_exp', sample_name=\"no sample\")"
   ]
  },
  {
   "cell_type": "markdown",
   "metadata": {},
   "source": [
    "Here, we define a simple function to benchmark the time it takes to insert n points with either numeric or array data type.\n",
    "We will compare both the time used to call ``add_result`` and the time used for the full measurement."
   ]
  },
  {
   "cell_type": "code",
   "execution_count": 4,
   "metadata": {
    "execution": {
     "iopub.execute_input": "2020-11-12T17:37:47.211041Z",
     "iopub.status.busy": "2020-11-12T17:37:47.208537Z",
     "iopub.status.idle": "2020-11-12T17:37:47.212675Z",
     "shell.execute_reply": "2020-11-12T17:37:47.213725Z"
    }
   },
   "outputs": [],
   "source": [
    "def insert_data(paramtype, npoints, nreps=1):\n",
    "\n",
    "    meas = Measurement(exp=exp)\n",
    "\n",
    "    x1 = ManualParameter('x1')\n",
    "    x2 = ManualParameter('x2')\n",
    "    x3 = ManualParameter('x3')\n",
    "    y1 = ManualParameter('y1')\n",
    "    y2 = ManualParameter('y2')\n",
    "\n",
    "    meas.register_parameter(x1, paramtype=paramtype)\n",
    "    meas.register_parameter(x2, paramtype=paramtype)\n",
    "    meas.register_parameter(x3, paramtype=paramtype)\n",
    "    meas.register_parameter(y1, setpoints=[x1, x2, x3],\n",
    "                            paramtype=paramtype)\n",
    "    meas.register_parameter(y2, setpoints=[x1, x2, x3],\n",
    "                            paramtype=paramtype)\n",
    "    start = time.perf_counter()\n",
    "    with meas.run() as datasaver:\n",
    "        start_adding = time.perf_counter()\n",
    "        for i in range(nreps):\n",
    "            datasaver.add_result((x1, np.random.rand(npoints)),\n",
    "                                 (x2, np.random.rand(npoints)),\n",
    "                                 (x3, np.random.rand(npoints)),\n",
    "                                 (y1, np.random.rand(npoints)),\n",
    "                                 (y2, np.random.rand(npoints)))\n",
    "        stop_adding = time.perf_counter()\n",
    "        run_id = datasaver.run_id\n",
    "    stop = time.perf_counter()\n",
    "    tot_time = stop - start\n",
    "    add_time = stop_adding - start_adding\n",
    "    return tot_time, add_time, run_id"
   ]
  },
  {
   "cell_type": "markdown",
   "metadata": {},
   "source": [
    "## Comparison between numeric/array data and binary blob"
   ]
  },
  {
   "cell_type": "markdown",
   "metadata": {},
   "source": [
    "### Case1: Short experiment time"
   ]
  },
  {
   "cell_type": "code",
   "execution_count": 5,
   "metadata": {
    "execution": {
     "iopub.execute_input": "2020-11-12T17:37:47.219583Z",
     "iopub.status.busy": "2020-11-12T17:37:47.218952Z",
     "iopub.status.idle": "2020-11-12T17:37:48.143469Z",
     "shell.execute_reply": "2020-11-12T17:37:48.142900Z"
    }
   },
   "outputs": [
    {
     "name": "stdout",
     "output_type": "stream",
     "text": [
      "Starting experimental run with id: 1. \n",
      "Starting experimental run with id: 2. \n",
      "Starting experimental run with id: 3. \n"
     ]
    },
    {
     "name": "stdout",
     "output_type": "stream",
     "text": [
      "Starting experimental run with id: 4. \n"
     ]
    },
    {
     "name": "stdout",
     "output_type": "stream",
     "text": [
      "Starting experimental run with id: 5. \n"
     ]
    },
    {
     "name": "stdout",
     "output_type": "stream",
     "text": [
      "Starting experimental run with id: 6. \n"
     ]
    },
    {
     "name": "stdout",
     "output_type": "stream",
     "text": [
      "Starting experimental run with id: 7. \n"
     ]
    },
    {
     "name": "stdout",
     "output_type": "stream",
     "text": [
      "Starting experimental run with id: 8. \n"
     ]
    },
    {
     "name": "stdout",
     "output_type": "stream",
     "text": [
      "Starting experimental run with id: 9. \n"
     ]
    },
    {
     "name": "stdout",
     "output_type": "stream",
     "text": [
      "Starting experimental run with id: 10. \n",
      "Starting experimental run with id: 11. \n"
     ]
    },
    {
     "name": "stdout",
     "output_type": "stream",
     "text": [
      "Starting experimental run with id: 12. \n",
      "Starting experimental run with id: 13. \n"
     ]
    },
    {
     "name": "stdout",
     "output_type": "stream",
     "text": [
      "Starting experimental run with id: 14. \n"
     ]
    }
   ],
   "source": [
    "sizes = [1,500,1000,2000,3000,4000,5000]\n",
    "t_numeric = []\n",
    "t_numeric_add = []\n",
    "t_array = []\n",
    "t_array_add = []\n",
    "for size in sizes:\n",
    "    tn, tna, run_id_n =  insert_data('numeric', size)\n",
    "    t_numeric.append(tn)\n",
    "    t_numeric_add.append(tna)\n",
    "\n",
    "    ta, taa, run_id_a =  insert_data('array', size)\n",
    "    t_array.append(ta)\n",
    "    t_array_add.append(taa)"
   ]
  },
  {
   "cell_type": "code",
   "execution_count": 6,
   "metadata": {
    "execution": {
     "iopub.execute_input": "2020-11-12T17:37:48.148997Z",
     "iopub.status.busy": "2020-11-12T17:37:48.148345Z",
     "iopub.status.idle": "2020-11-12T17:37:48.371887Z",
     "shell.execute_reply": "2020-11-12T17:37:48.371160Z"
    }
   },
   "outputs": [
    {
     "data": {
      "image/png": "[encoded data removed]",
      "text/plain": [
       "<Figure size 432x288 with 1 Axes>"
      ]
     },
     "metadata": {
      "needs_background": "light"
     },
     "output_type": "display_data"
    }
   ],
   "source": [
    "fig, ax = plt.subplots(1,1)\n",
    "ax.plot(sizes, t_numeric, 'o-', label='Inserting row-by-row')\n",
    "ax.plot(sizes, t_numeric_add, 'o-', label='Inserting row-by-row: add_result only')\n",
    "ax.plot(sizes, t_array, 'd-', label='Inserting as binary blob')\n",
    "ax.plot(sizes, t_array_add, 'd-', label='Inserting as binary blob: add_result only')\n",
    "ax.legend()\n",
    "ax.set_xlabel('Array length')\n",
    "ax.set_ylabel('Time (s)')\n",
    "fig.tight_layout()"
   ]
  },
  {
   "cell_type": "markdown",
   "metadata": {},
   "source": [
    "As shown in the latter figure, the time to setup and and close the experiment is approximately 0.4 sec. In case of small array sizes, the difference between inserting values of data as arrays and inserting them row-by-row is relatively unimportant. At larger array sizes, i.e. above 10000 points, the cost of writing data as individual datapoints starts to become important.\n"
   ]
  },
  {
   "cell_type": "markdown",
   "metadata": {},
   "source": [
    "### Case2: Long experiment time "
   ]
  },
  {
   "cell_type": "code",
   "execution_count": 7,
   "metadata": {
    "execution": {
     "iopub.execute_input": "2020-11-12T17:37:48.379588Z",
     "iopub.status.busy": "2020-11-12T17:37:48.378244Z",
     "iopub.status.idle": "2020-11-12T17:38:47.672359Z",
     "shell.execute_reply": "2020-11-12T17:38:47.672893Z"
    }
   },
   "outputs": [
    {
     "name": "stdout",
     "output_type": "stream",
     "text": [
      "Starting experimental run with id: 15. \n",
      "Starting experimental run with id: 16. \n",
      "Starting experimental run with id: 17. \n"
     ]
    },
    {
     "name": "stdout",
     "output_type": "stream",
     "text": [
      "Starting experimental run with id: 18. \n",
      "Starting experimental run with id: 19. \n"
     ]
    },
    {
     "name": "stdout",
     "output_type": "stream",
     "text": [
      "Starting experimental run with id: 20. \n"
     ]
    },
    {
     "name": "stdout",
     "output_type": "stream",
     "text": [
      "Starting experimental run with id: 21. \n"
     ]
    },
    {
     "name": "stdout",
     "output_type": "stream",
     "text": [
      "Starting experimental run with id: 22. \n"
     ]
    },
    {
     "name": "stdout",
     "output_type": "stream",
     "text": [
      "Starting experimental run with id: 23. \n"
     ]
    },
    {
     "name": "stdout",
     "output_type": "stream",
     "text": [
      "Starting experimental run with id: 24. \n"
     ]
    },
    {
     "name": "stdout",
     "output_type": "stream",
     "text": [
      "Starting experimental run with id: 25. \n"
     ]
    },
    {
     "name": "stdout",
     "output_type": "stream",
     "text": [
      "Starting experimental run with id: 26. \n"
     ]
    },
    {
     "name": "stdout",
     "output_type": "stream",
     "text": [
      "Starting experimental run with id: 27. \n"
     ]
    },
    {
     "name": "stdout",
     "output_type": "stream",
     "text": [
      "Starting experimental run with id: 28. \n"
     ]
    }
   ],
   "source": [
    "sizes = [1,500,1000,2000,3000,4000,5000]\n",
    "nreps = 100\n",
    "t_numeric = []\n",
    "t_numeric_add = []\n",
    "t_numeric_run_ids = []\n",
    "t_array = []\n",
    "t_array_add = []\n",
    "t_array_run_ids = []\n",
    "for size in sizes:\n",
    "    tn, tna, run_id_n =  insert_data('numeric', size, nreps=nreps)\n",
    "    t_numeric.append(tn)\n",
    "    t_numeric_add.append(tna)\n",
    "    t_numeric_run_ids.append(run_id_n)\n",
    "\n",
    "    ta, taa, run_id_a =  insert_data('array', size, nreps=nreps)\n",
    "    t_array.append(ta)\n",
    "    t_array_add.append(taa)\n",
    "    t_array_run_ids.append(run_id_a)"
   ]
  },
  {
   "cell_type": "code",
   "execution_count": 8,
   "metadata": {
    "execution": {
     "iopub.execute_input": "2020-11-12T17:38:47.697450Z",
     "iopub.status.busy": "2020-11-12T17:38:47.691807Z",
     "iopub.status.idle": "2020-11-12T17:38:47.899922Z",
     "shell.execute_reply": "2020-11-12T17:38:47.899414Z"
    },
    "scrolled": true
   },
   "outputs": [
    {
     "data": {
      "image/png": "[encoded data removed]",
      "text/plain": [
       "<Figure size 432x288 with 1 Axes>"
      ]
     },
     "metadata": {
      "needs_background": "light"
     },
     "output_type": "display_data"
    }
   ],
   "source": [
    "fig, ax = plt.subplots(1,1)\n",
    "ax.plot(sizes, t_numeric, 'o-', label='Inserting row-by-row')\n",
    "ax.plot(sizes, t_numeric_add, 'o-', label='Inserting row-by-row: add_result only')\n",
    "ax.plot(sizes, t_array, 'd-', label='Inserting as binary blob')\n",
    "ax.plot(sizes, t_array_add, 'd-', label='Inserting as binary blob: add_result only')\n",
    "ax.legend()\n",
    "ax.set_xlabel('Array length')\n",
    "ax.set_ylabel('Time (s)')\n",
    "fig.tight_layout()"
   ]
  },
  {
   "cell_type": "markdown",
   "metadata": {},
   "source": [
    "However, as we increase the length of the experiment, as seen here by repeating the insertion 100 times, we see a big difference between inserting values of the data row-by-row and inserting it as a binary blob."
   ]
  },
  {
   "cell_type": "markdown",
   "metadata": {},
   "source": [
    "## Loading the data "
   ]
  },
  {
   "cell_type": "code",
   "execution_count": 9,
   "metadata": {
    "execution": {
     "iopub.execute_input": "2020-11-12T17:38:47.905050Z",
     "iopub.status.busy": "2020-11-12T17:38:47.904406Z",
     "iopub.status.idle": "2020-11-12T17:38:47.906802Z",
     "shell.execute_reply": "2020-11-12T17:38:47.907391Z"
    }
   },
   "outputs": [],
   "source": [
    "from qcodes.dataset.data_set import load_by_id\n",
    "from qcodes.dataset.data_export import get_data_by_id"
   ]
  },
  {
   "cell_type": "markdown",
   "metadata": {},
   "source": [
    "As usual you can load the data by using the ``load_by_id`` function but you will notice that the different storage methods\n",
    "are reflected in shape of the data as it is retrieved. "
   ]
  },
  {
   "cell_type": "code",
   "execution_count": 10,
   "metadata": {
    "execution": {
     "iopub.execute_input": "2020-11-12T17:38:47.912893Z",
     "iopub.status.busy": "2020-11-12T17:38:47.911570Z",
     "iopub.status.idle": "2020-11-12T17:38:47.913548Z",
     "shell.execute_reply": "2020-11-12T17:38:47.914300Z"
    }
   },
   "outputs": [],
   "source": [
    "run_id_n = t_numeric_run_ids[0]\n",
    "run_id_a = t_array_run_ids[0]"
   ]
  },
  {
   "cell_type": "code",
   "execution_count": 11,
   "metadata": {
    "execution": {
     "iopub.execute_input": "2020-11-12T17:38:47.917706Z",
     "iopub.status.busy": "2020-11-12T17:38:47.917074Z",
     "iopub.status.idle": "2020-11-12T17:38:47.927244Z",
     "shell.execute_reply": "2020-11-12T17:38:47.926660Z"
    },
    "scrolled": true
   },
   "outputs": [
    {
     "data": {
      "text/plain": [
       "{'x1': {'x1': array([0.26379991, 0.26379991, 0.28397179, 0.28397179, 0.25424677,\n",
       "         0.25424677, 0.22104388, 0.22104388, 0.9518136 , 0.9518136 ,\n",
       "         0.72246683, 0.72246683, 0.30190367, 0.30190367, 0.93312462,\n",
       "         0.93312462, 0.44833681, 0.44833681, 0.50050476, 0.50050476,\n",
       "         0.08890784, 0.08890784, 0.05017604, 0.05017604, 0.15276831,\n",
       "         0.15276831, 0.79208158, 0.79208158, 0.62588261, 0.62588261,\n",
       "         0.85034173, 0.85034173, 0.23728292, 0.23728292, 0.49105653,\n",
       "         0.49105653, 0.41212196, 0.41212196, 0.30646396, 0.30646396,\n",
       "         0.63509452, 0.63509452, 0.79391796, 0.79391796, 0.23622111,\n",
       "         0.23622111, 0.65972548, 0.65972548, 0.74578658, 0.74578658,\n",
       "         0.72975976, 0.72975976, 0.74648194, 0.74648194, 0.20528036,\n",
       "         0.20528036, 0.686993  , 0.686993  , 0.4419541 , 0.4419541 ,\n",
       "         0.72512494, 0.72512494, 0.17521226, 0.17521226, 0.41942307,\n",
       "         0.41942307, 0.72434516, 0.72434516, 0.19876588, 0.19876588,\n",
       "         0.94236671, 0.94236671, 0.4037152 , 0.4037152 , 0.45723752,\n",
       "         0.45723752, 0.07751436, 0.07751436, 0.38898281, 0.38898281,\n",
       "         0.86087263, 0.86087263, 0.11812643, 0.11812643, 0.92031715,\n",
       "         0.92031715, 0.08968924, 0.08968924, 0.69967764, 0.69967764,\n",
       "         0.66987088, 0.66987088, 0.4539422 , 0.4539422 , 0.494494  ,\n",
       "         0.494494  , 0.27161035, 0.27161035, 0.78615068, 0.78615068,\n",
       "         0.33432269, 0.33432269, 0.21327024, 0.21327024, 0.20665328,\n",
       "         0.20665328, 0.52667685, 0.52667685, 0.77329351, 0.77329351,\n",
       "         0.9746261 , 0.9746261 , 0.60377318, 0.60377318, 0.58295123,\n",
       "         0.58295123, 0.86988911, 0.86988911, 0.93137407, 0.93137407,\n",
       "         0.36492238, 0.36492238, 0.19631905, 0.19631905, 0.51299167,\n",
       "         0.51299167, 0.85059838, 0.85059838, 0.98491345, 0.98491345,\n",
       "         0.09614638, 0.09614638, 0.81174388, 0.81174388, 0.5807493 ,\n",
       "         0.5807493 , 0.22842129, 0.22842129, 0.88206561, 0.88206561,\n",
       "         0.93990869, 0.93990869, 0.86220071, 0.86220071, 0.29113246,\n",
       "         0.29113246, 0.62600025, 0.62600025, 0.12218773, 0.12218773,\n",
       "         0.97799694, 0.97799694, 0.75003832, 0.75003832, 0.94081288,\n",
       "         0.94081288, 0.0107838 , 0.0107838 , 0.77951259, 0.77951259,\n",
       "         0.97374238, 0.97374238, 0.17983049, 0.17983049, 0.86291789,\n",
       "         0.86291789, 0.406925  , 0.406925  , 0.02723254, 0.02723254,\n",
       "         0.23162529, 0.23162529, 0.03577351, 0.03577351, 0.13269371,\n",
       "         0.13269371, 0.807784  , 0.807784  , 0.03211067, 0.03211067,\n",
       "         0.55302339, 0.55302339, 0.6129268 , 0.6129268 , 0.01532577,\n",
       "         0.01532577, 0.48188892, 0.48188892, 0.53952865, 0.53952865,\n",
       "         0.49025195, 0.49025195, 0.14081973, 0.14081973, 0.4311634 ,\n",
       "         0.4311634 , 0.40031215, 0.40031215, 0.45458678, 0.45458678])}}"
      ]
     },
     "execution_count": 1,
     "metadata": {},
     "output_type": "execute_result"
    }
   ],
   "source": [
    "ds = load_by_id(run_id_n)\n",
    "ds.get_parameter_data('x1')"
   ]
  },
  {
   "cell_type": "markdown",
   "metadata": {},
   "source": [
    "And a dataset stored as binary arrays"
   ]
  },
  {
   "cell_type": "code",
   "execution_count": 12,
   "metadata": {
    "execution": {
     "iopub.execute_input": "2020-11-12T17:38:47.931509Z",
     "iopub.status.busy": "2020-11-12T17:38:47.930494Z",
     "iopub.status.idle": "2020-11-12T17:38:47.993157Z",
     "shell.execute_reply": "2020-11-12T17:38:47.993648Z"
    },
    "scrolled": true
   },
   "outputs": [
    {
     "data": {
      "text/plain": [
       "{'x1': {'x1': array([[0.41664024],\n",
       "         [0.41664024],\n",
       "         [0.98310282],\n",
       "         [0.98310282],\n",
       "         [0.90056121],\n",
       "         [0.90056121],\n",
       "         [0.87517235],\n",
       "         [0.87517235],\n",
       "         [0.97161453],\n",
       "         [0.97161453],\n",
       "         [0.92333894],\n",
       "         [0.92333894],\n",
       "         [0.86932417],\n",
       "         [0.86932417],\n",
       "         [0.82381981],\n",
       "         [0.82381981],\n",
       "         [0.14600688],\n",
       "         [0.14600688],\n",
       "         [0.97183388],\n",
       "         [0.97183388],\n",
       "         [0.82663812],\n",
       "         [0.82663812],\n",
       "         [0.29324317],\n",
       "         [0.29324317],\n",
       "         [0.12552461],\n",
       "         [0.12552461],\n",
       "         [0.84976642],\n",
       "         [0.84976642],\n",
       "         [0.23591071],\n",
       "         [0.23591071],\n",
       "         [0.21454931],\n",
       "         [0.21454931],\n",
       "         [0.27156063],\n",
       "         [0.27156063],\n",
       "         [0.01995325],\n",
       "         [0.01995325],\n",
       "         [0.13906891],\n",
       "         [0.13906891],\n",
       "         [0.68492941],\n",
       "         [0.68492941],\n",
       "         [0.12389955],\n",
       "         [0.12389955],\n",
       "         [0.38888962],\n",
       "         [0.38888962],\n",
       "         [0.40106423],\n",
       "         [0.40106423],\n",
       "         [0.00143984],\n",
       "         [0.00143984],\n",
       "         [0.71597076],\n",
       "         [0.71597076],\n",
       "         [0.30594016],\n",
       "         [0.30594016],\n",
       "         [0.98342011],\n",
       "         [0.98342011],\n",
       "         [0.27464089],\n",
       "         [0.27464089],\n",
       "         [0.50405924],\n",
       "         [0.50405924],\n",
       "         [0.99140941],\n",
       "         [0.99140941],\n",
       "         [0.37793534],\n",
       "         [0.37793534],\n",
       "         [0.16709958],\n",
       "         [0.16709958],\n",
       "         [0.11395488],\n",
       "         [0.11395488],\n",
       "         [0.46263156],\n",
       "         [0.46263156],\n",
       "         [0.76818212],\n",
       "         [0.76818212],\n",
       "         [0.63914591],\n",
       "         [0.63914591],\n",
       "         [0.81872084],\n",
       "         [0.81872084],\n",
       "         [0.04530269],\n",
       "         [0.04530269],\n",
       "         [0.26364636],\n",
       "         [0.26364636],\n",
       "         [0.2134877 ],\n",
       "         [0.2134877 ],\n",
       "         [0.39276953],\n",
       "         [0.39276953],\n",
       "         [0.05631313],\n",
       "         [0.05631313],\n",
       "         [0.63379021],\n",
       "         [0.63379021],\n",
       "         [0.65721029],\n",
       "         [0.65721029],\n",
       "         [0.08107542],\n",
       "         [0.08107542],\n",
       "         [0.13682075],\n",
       "         [0.13682075],\n",
       "         [0.14284304],\n",
       "         [0.14284304],\n",
       "         [0.58235693],\n",
       "         [0.58235693],\n",
       "         [0.20596631],\n",
       "         [0.20596631],\n",
       "         [0.79836909],\n",
       "         [0.79836909],\n",
       "         [0.5401323 ],\n",
       "         [0.5401323 ],\n",
       "         [0.25065418],\n",
       "         [0.25065418],\n",
       "         [0.38269184],\n",
       "         [0.38269184],\n",
       "         [0.46086842],\n",
       "         [0.46086842],\n",
       "         [0.04790803],\n",
       "         [0.04790803],\n",
       "         [0.60851383],\n",
       "         [0.60851383],\n",
       "         [0.13486157],\n",
       "         [0.13486157],\n",
       "         [0.9997075 ],\n",
       "         [0.9997075 ],\n",
       "         [0.74364811],\n",
       "         [0.74364811],\n",
       "         [0.9519867 ],\n",
       "         [0.9519867 ],\n",
       "         [0.87930477],\n",
       "         [0.87930477],\n",
       "         [0.12534983],\n",
       "         [0.12534983],\n",
       "         [0.55801452],\n",
       "         [0.55801452],\n",
       "         [0.28812414],\n",
       "         [0.28812414],\n",
       "         [0.75524004],\n",
       "         [0.75524004],\n",
       "         [0.53035665],\n",
       "         [0.53035665],\n",
       "         [0.52299602],\n",
       "         [0.52299602],\n",
       "         [0.3445697 ],\n",
       "         [0.3445697 ],\n",
       "         [0.17496595],\n",
       "         [0.17496595],\n",
       "         [0.7707502 ],\n",
       "         [0.7707502 ],\n",
       "         [0.01901556],\n",
       "         [0.01901556],\n",
       "         [0.10266393],\n",
       "         [0.10266393],\n",
       "         [0.92700627],\n",
       "         [0.92700627],\n",
       "         [0.57743231],\n",
       "         [0.57743231],\n",
       "         [0.23869938],\n",
       "         [0.23869938],\n",
       "         [0.59833264],\n",
       "         [0.59833264],\n",
       "         [0.39004209],\n",
       "         [0.39004209],\n",
       "         [0.05232953],\n",
       "         [0.05232953],\n",
       "         [0.73645785],\n",
       "         [0.73645785],\n",
       "         [0.96138809],\n",
       "         [0.96138809],\n",
       "         [0.23960787],\n",
       "         [0.23960787],\n",
       "         [0.5747295 ],\n",
       "         [0.5747295 ],\n",
       "         [0.34779296],\n",
       "         [0.34779296],\n",
       "         [0.25625374],\n",
       "         [0.25625374],\n",
       "         [0.97205643],\n",
       "         [0.97205643],\n",
       "         [0.66515273],\n",
       "         [0.66515273],\n",
       "         [0.39603006],\n",
       "         [0.39603006],\n",
       "         [0.75847732],\n",
       "         [0.75847732],\n",
       "         [0.29655153],\n",
       "         [0.29655153],\n",
       "         [0.36100379],\n",
       "         [0.36100379],\n",
       "         [0.21910393],\n",
       "         [0.21910393],\n",
       "         [0.81761197],\n",
       "         [0.81761197],\n",
       "         [0.71869713],\n",
       "         [0.71869713],\n",
       "         [0.22350194],\n",
       "         [0.22350194],\n",
       "         [0.27842847],\n",
       "         [0.27842847],\n",
       "         [0.13350882],\n",
       "         [0.13350882],\n",
       "         [0.26198825],\n",
       "         [0.26198825],\n",
       "         [0.65428494],\n",
       "         [0.65428494],\n",
       "         [0.11111647],\n",
       "         [0.11111647],\n",
       "         [0.20826255],\n",
       "         [0.20826255]])}}"
      ]
     },
     "execution_count": 1,
     "metadata": {},
     "output_type": "execute_result"
    }
   ],
   "source": [
    "ds = load_by_id(run_id_a)\n",
    "ds.get_parameter_data('x1')"
   ]
  },
  {
   "cell_type": "code",
   "execution_count": null,
   "metadata": {},
   "outputs": [],
   "source": []
  }
 ],
 "metadata": {
  "kernelspec": {
   "display_name": "Python 3",
   "language": "python",
   "name": "python3"
  },
  "language_info": {
   "codemirror_mode": {
    "name": "ipython",
    "version": 3
   },
   "file_extension": ".py",
   "mimetype": "text/x-python",
   "name": "python",
   "nbconvert_exporter": "python",
   "pygments_lexer": "ipython3",
   "version": "3.7.9"
  },
  "nbsphinx": {
   "timeout": 600
  },
  "toc": {
   "base_numbering": 1,
   "nav_menu": {},
   "number_sections": true,
   "sideBar": true,
   "skip_h1_title": false,
   "title_cell": "Table of Contents",
   "title_sidebar": "Contents",
   "toc_cell": false,
   "toc_position": {},
   "toc_section_display": true,
   "toc_window_display": false
  },
  "varInspector": {
   "cols": {
    "lenName": 16,
    "lenType": 16,
    "lenVar": 40
   },
   "kernels_config": {
    "python": {
     "delete_cmd_postfix": "",
     "delete_cmd_prefix": "del ",
     "library": "var_list.py",
     "varRefreshCmd": "print(var_dic_list())"
    },
    "r": {
     "delete_cmd_postfix": ") ",
     "delete_cmd_prefix": "rm(",
     "library": "var_list.r",
     "varRefreshCmd": "cat(var_dic_list()) "
    }
   },
   "types_to_exclude": [
    "module",
    "function",
    "builtin_function_or_method",
    "instance",
    "_Feature"
   ],
   "window_display": false
  }
 },
 "nbformat": 4,
 "nbformat_minor": 2
}
