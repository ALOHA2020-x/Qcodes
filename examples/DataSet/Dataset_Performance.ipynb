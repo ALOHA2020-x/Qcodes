{
 "cells": [
  {
   "cell_type": "markdown",
   "metadata": {},
   "source": [
    "# DataSet Performance\n",
    "\n",
    "This notebook shows the trade-off between inserting data into a database row-by-row and as binary blobs. Inserting the data row-by-row means that we have direct access to all the data and may perform queries directly on the values of the data. On the other hand, as we shall see, this is much slower than inserting the data directly as binary blobs."
   ]
  },
  {
   "cell_type": "markdown",
   "metadata": {},
   "source": [
    "First, we choose a new location for the database to ensure that we don't add a bunch of benchmarking data to the default one."
   ]
  },
  {
   "cell_type": "code",
   "execution_count": 1,
   "metadata": {},
   "outputs": [
    {
     "name": "stdout",
     "output_type": "stream",
     "text": [
      "Logging hadn't been started.\n",
      "Activating auto-logging. Current session state plus future input saved.\n",
      "Filename       : /home/vsts/.qcodes/logs/command_history.log\n",
      "Mode           : append\n",
      "Output logging : True\n",
      "Raw input log  : False\n",
      "Timestamping   : True\n",
      "State          : active\n"
     ]
    },
    {
     "name": "stdout",
     "output_type": "stream",
     "text": [
      "Qcodes Logfile : /home/vsts/.qcodes/logs/200318-19639-qcodes.log\n"
     ]
    }
   ],
   "source": [
    "import os\n",
    "cwd = os.getcwd()\n",
    "import qcodes as qc\n",
    "qc.config[\"core\"][\"db_location\"] = os.path.join(cwd, 'testing.db')\n"
   ]
  },
  {
   "cell_type": "code",
   "execution_count": 2,
   "metadata": {},
   "outputs": [],
   "source": [
    "%matplotlib inline\n",
    "import time\n",
    "import matplotlib.pyplot as plt\n",
    "import numpy as np\n",
    "\n",
    "import qcodes as qc\n",
    "from qcodes.instrument.parameter import ManualParameter\n",
    "from qcodes.dataset.experiment_container import (Experiment,\n",
    "                                                 load_last_experiment,\n",
    "                                                 new_experiment)\n",
    "from qcodes.dataset.sqlite.database import initialise_database\n",
    "from qcodes import load_or_create_experiment\n",
    "from qcodes.dataset.measurements import Measurement"
   ]
  },
  {
   "cell_type": "code",
   "execution_count": 3,
   "metadata": {},
   "outputs": [
    {
     "name": "stdout",
     "output_type": "stream",
     "text": [
      "\r",
      "0it [00:00, ?it/s]"
     ]
    },
    {
     "name": "stdout",
     "output_type": "stream",
     "text": [
      "\r",
      "Upgrading database; v0 -> v1: : 0it [00:00, ?it/s]"
     ]
    },
    {
     "name": "stdout",
     "output_type": "stream",
     "text": [
      "\r",
      "Upgrading database; v0 -> v1: : 0it [00:00, ?it/s]"
     ]
    },
    {
     "name": "stdout",
     "output_type": "stream",
     "text": [
      "\n",
      "\r",
      "  0%|          | 0/1 [00:00<?, ?it/s]"
     ]
    },
    {
     "name": "stdout",
     "output_type": "stream",
     "text": [
      "\r",
      "Upgrading database; v1 -> v2:   0%|          | 0/1 [00:00<?, ?it/s]"
     ]
    },
    {
     "name": "stdout",
     "output_type": "stream",
     "text": [
      "\r",
      "Upgrading database; v1 -> v2: 100%|██████████| 1/1 [00:00<00:00, 827.28it/s]"
     ]
    },
    {
     "name": "stdout",
     "output_type": "stream",
     "text": [
      "\n",
      "\r",
      "0it [00:00, ?it/s]"
     ]
    },
    {
     "name": "stdout",
     "output_type": "stream",
     "text": [
      "\r",
      "Upgrading database; v2 -> v3: : 0it [00:00, ?it/s]"
     ]
    },
    {
     "name": "stdout",
     "output_type": "stream",
     "text": [
      "\r",
      "Upgrading database; v2 -> v3: : 0it [00:00, ?it/s]"
     ]
    },
    {
     "name": "stdout",
     "output_type": "stream",
     "text": [
      "\n",
      "\r",
      "0it [00:00, ?it/s]"
     ]
    },
    {
     "name": "stdout",
     "output_type": "stream",
     "text": [
      "\r",
      "Upgrading database; v3 -> v4: : 0it [00:00, ?it/s]"
     ]
    },
    {
     "name": "stdout",
     "output_type": "stream",
     "text": [
      "\r",
      "Upgrading database; v3 -> v4: : 0it [00:00, ?it/s]"
     ]
    },
    {
     "name": "stdout",
     "output_type": "stream",
     "text": [
      "\n",
      "\r",
      "  0%|          | 0/1 [00:00<?, ?it/s]"
     ]
    },
    {
     "name": "stdout",
     "output_type": "stream",
     "text": [
      "\r",
      "Upgrading database; v4 -> v5:   0%|          | 0/1 [00:00<?, ?it/s]"
     ]
    },
    {
     "name": "stdout",
     "output_type": "stream",
     "text": [
      "\r",
      "Upgrading database; v4 -> v5: 100%|██████████| 1/1 [00:00<00:00, 1078.78it/s]"
     ]
    },
    {
     "name": "stdout",
     "output_type": "stream",
     "text": [
      "\n",
      "\r",
      "0it [00:00, ?it/s]"
     ]
    },
    {
     "name": "stdout",
     "output_type": "stream",
     "text": [
      "\r",
      "Upgrading database; v5 -> v6: : 0it [00:00, ?it/s]"
     ]
    },
    {
     "name": "stdout",
     "output_type": "stream",
     "text": [
      "\r",
      "Upgrading database; v5 -> v6: : 0it [00:00, ?it/s]"
     ]
    },
    {
     "name": "stdout",
     "output_type": "stream",
     "text": [
      "\n",
      "\r",
      "  0%|          | 0/1 [00:00<?, ?it/s]"
     ]
    },
    {
     "name": "stdout",
     "output_type": "stream",
     "text": [
      "\r",
      "Upgrading database; v6 -> v7:   0%|          | 0/1 [00:00<?, ?it/s]"
     ]
    },
    {
     "name": "stdout",
     "output_type": "stream",
     "text": [
      "\r",
      "Upgrading database; v6 -> v7: 100%|██████████| 1/1 [00:00<00:00, 412.58it/s]"
     ]
    },
    {
     "name": "stdout",
     "output_type": "stream",
     "text": [
      "\n",
      "\r",
      "  0%|          | 0/1 [00:00<?, ?it/s]"
     ]
    },
    {
     "name": "stdout",
     "output_type": "stream",
     "text": [
      "\r",
      "Upgrading database; v7 -> v8:   0%|          | 0/1 [00:00<?, ?it/s]"
     ]
    },
    {
     "name": "stdout",
     "output_type": "stream",
     "text": [
      "\r",
      "Upgrading database; v7 -> v8: 100%|██████████| 1/1 [00:00<00:00, 1073.26it/s]"
     ]
    },
    {
     "name": "stdout",
     "output_type": "stream",
     "text": [
      "\n",
      "\r",
      "  0%|          | 0/1 [00:00<?, ?it/s]"
     ]
    },
    {
     "name": "stdout",
     "output_type": "stream",
     "text": [
      "\r",
      "Upgrading database; v8 -> v9:   0%|          | 0/1 [00:00<?, ?it/s]"
     ]
    },
    {
     "name": "stdout",
     "output_type": "stream",
     "text": [
      "\r",
      "Upgrading database; v8 -> v9: 100%|██████████| 1/1 [00:00<00:00, 1040.25it/s]"
     ]
    },
    {
     "name": "stdout",
     "output_type": "stream",
     "text": [
      "\n"
     ]
    }
   ],
   "source": [
    "initialise_database()\n",
    "exp = load_or_create_experiment(experiment_name='tutorial_exp', sample_name=\"no sample\")"
   ]
  },
  {
   "cell_type": "markdown",
   "metadata": {},
   "source": [
    "Here, we define a simple function to benchmark the time it takes to insert n points with either numeric or array data type.\n",
    "We will compare both the time used to call ``add_result`` and the time used for the full measurement."
   ]
  },
  {
   "cell_type": "code",
   "execution_count": 4,
   "metadata": {},
   "outputs": [],
   "source": [
    "def insert_data(paramtype, npoints, nreps=1):\n",
    "\n",
    "    meas = Measurement(exp=exp)\n",
    "\n",
    "    x1 = ManualParameter('x1')\n",
    "    x2 = ManualParameter('x2')\n",
    "    x3 = ManualParameter('x3')\n",
    "    y1 = ManualParameter('y1')\n",
    "    y2 = ManualParameter('y2')\n",
    "\n",
    "    meas.register_parameter(x1, paramtype=paramtype)\n",
    "    meas.register_parameter(x2, paramtype=paramtype)\n",
    "    meas.register_parameter(x3, paramtype=paramtype)\n",
    "    meas.register_parameter(y1, setpoints=[x1, x2, x3],\n",
    "                            paramtype=paramtype)\n",
    "    meas.register_parameter(y2, setpoints=[x1, x2, x3],\n",
    "                            paramtype=paramtype)\n",
    "    start = time.perf_counter()\n",
    "    with meas.run() as datasaver:\n",
    "        start_adding = time.perf_counter()\n",
    "        for i in range(nreps):\n",
    "            datasaver.add_result((x1, np.random.rand(npoints)),\n",
    "                                 (x2, np.random.rand(npoints)),\n",
    "                                 (x3, np.random.rand(npoints)),\n",
    "                                 (y1, np.random.rand(npoints)),\n",
    "                                 (y2, np.random.rand(npoints)))\n",
    "        stop_adding = time.perf_counter()\n",
    "        run_id = datasaver.run_id\n",
    "    stop = time.perf_counter()\n",
    "    tot_time = stop - start\n",
    "    add_time = stop_adding - start_adding\n",
    "    return tot_time, add_time, run_id"
   ]
  },
  {
   "cell_type": "markdown",
   "metadata": {},
   "source": [
    "## Comparison between numeric/array data and binary blob"
   ]
  },
  {
   "cell_type": "markdown",
   "metadata": {},
   "source": [
    "### Case1: Short experiment time"
   ]
  },
  {
   "cell_type": "code",
   "execution_count": 5,
   "metadata": {},
   "outputs": [
    {
     "name": "stdout",
     "output_type": "stream",
     "text": [
      "Starting experimental run with id: 1. \n",
      "Starting experimental run with id: 2. \n",
      "Starting experimental run with id: 3. \n",
      "Starting experimental run with id: 4. \n",
      "Starting experimental run with id: 5. \n"
     ]
    },
    {
     "name": "stdout",
     "output_type": "stream",
     "text": [
      "Starting experimental run with id: 6. \n"
     ]
    },
    {
     "name": "stdout",
     "output_type": "stream",
     "text": [
      "Starting experimental run with id: 7. \n"
     ]
    },
    {
     "name": "stdout",
     "output_type": "stream",
     "text": [
      "Starting experimental run with id: 8. \n",
      "Starting experimental run with id: 9. \n"
     ]
    },
    {
     "name": "stdout",
     "output_type": "stream",
     "text": [
      "Starting experimental run with id: 10. \n",
      "Starting experimental run with id: 11. \n"
     ]
    },
    {
     "name": "stdout",
     "output_type": "stream",
     "text": [
      "Starting experimental run with id: 12. \n",
      "Starting experimental run with id: 13. \n"
     ]
    },
    {
     "name": "stdout",
     "output_type": "stream",
     "text": [
      "Starting experimental run with id: 14. \n"
     ]
    }
   ],
   "source": [
    "sizes = [1,500,1000,2000,3000,4000,5000]\n",
    "t_numeric = []\n",
    "t_numeric_add = []\n",
    "t_array = []\n",
    "t_array_add = []\n",
    "for size in sizes:\n",
    "    tn, tna, run_id_n =  insert_data('numeric', size)\n",
    "    t_numeric.append(tn)\n",
    "    t_numeric_add.append(tna)\n",
    "\n",
    "    ta, taa, run_id_a =  insert_data('array', size)\n",
    "    t_array.append(ta)\n",
    "    t_array_add.append(taa)"
   ]
  },
  {
   "cell_type": "code",
   "execution_count": 6,
   "metadata": {},
   "outputs": [
    {
     "data": {
      "image/png": "[encoded data removed]",
      "text/plain": [
       "<Figure size 432x288 with 1 Axes>"
      ]
     },
     "metadata": {
      "needs_background": "light"
     },
     "output_type": "display_data"
    }
   ],
   "source": [
    "fig, ax = plt.subplots(1,1)\n",
    "ax.plot(sizes, t_numeric, 'o-', label='Inserting row-by-row')\n",
    "ax.plot(sizes, t_numeric_add, 'o-', label='Inserting row-by-row: add_result only')\n",
    "ax.plot(sizes, t_array, 'd-', label='Inserting as binary blob')\n",
    "ax.plot(sizes, t_array_add, 'd-', label='Inserting as binary blob: add_result only')\n",
    "ax.legend()\n",
    "ax.set_xlabel('Array length')\n",
    "ax.set_ylabel('Time (s)')\n",
    "fig.tight_layout()"
   ]
  },
  {
   "cell_type": "markdown",
   "metadata": {},
   "source": [
    "As shown in the latter figure, the time to setup and and close the experiment is approximately 0.4 sec. In case of small array sizes, the difference between inserting values of data as arrays and inserting them row-by-row is relatively unimportant. At larger array sizes, i.e. above 10000 points, the cost of writing data as individual datapoints starts to become important.\n"
   ]
  },
  {
   "cell_type": "markdown",
   "metadata": {},
   "source": [
    "### Case2: Long experiment time "
   ]
  },
  {
   "cell_type": "code",
   "execution_count": 7,
   "metadata": {},
   "outputs": [
    {
     "name": "stdout",
     "output_type": "stream",
     "text": [
      "Starting experimental run with id: 15. \n",
      "Starting experimental run with id: 16. \n",
      "Starting experimental run with id: 17. \n"
     ]
    },
    {
     "name": "stdout",
     "output_type": "stream",
     "text": [
      "Starting experimental run with id: 18. \n",
      "Starting experimental run with id: 19. \n"
     ]
    },
    {
     "name": "stdout",
     "output_type": "stream",
     "text": [
      "Starting experimental run with id: 20. \n"
     ]
    },
    {
     "name": "stdout",
     "output_type": "stream",
     "text": [
      "Starting experimental run with id: 21. \n"
     ]
    },
    {
     "name": "stdout",
     "output_type": "stream",
     "text": [
      "Starting experimental run with id: 22. \n"
     ]
    },
    {
     "name": "stdout",
     "output_type": "stream",
     "text": [
      "Starting experimental run with id: 23. \n"
     ]
    },
    {
     "name": "stdout",
     "output_type": "stream",
     "text": [
      "Starting experimental run with id: 24. \n"
     ]
    },
    {
     "name": "stdout",
     "output_type": "stream",
     "text": [
      "Starting experimental run with id: 25. \n"
     ]
    },
    {
     "name": "stdout",
     "output_type": "stream",
     "text": [
      "Starting experimental run with id: 26. \n"
     ]
    },
    {
     "name": "stdout",
     "output_type": "stream",
     "text": [
      "Starting experimental run with id: 27. \n"
     ]
    },
    {
     "name": "stdout",
     "output_type": "stream",
     "text": [
      "Starting experimental run with id: 28. \n"
     ]
    }
   ],
   "source": [
    "sizes = [1,500,1000,2000,3000,4000,5000]\n",
    "nreps = 100\n",
    "t_numeric = []\n",
    "t_numeric_add = []\n",
    "t_numeric_run_ids = []\n",
    "t_array = []\n",
    "t_array_add = []\n",
    "t_array_run_ids = []\n",
    "for size in sizes:\n",
    "    tn, tna, run_id_n =  insert_data('numeric', size, nreps=nreps)\n",
    "    t_numeric.append(tn)\n",
    "    t_numeric_add.append(tna)\n",
    "    t_numeric_run_ids.append(run_id_n)\n",
    "\n",
    "    ta, taa, run_id_a =  insert_data('array', size, nreps=nreps)\n",
    "    t_array.append(ta)\n",
    "    t_array_add.append(taa)\n",
    "    t_array_run_ids.append(run_id_a)"
   ]
  },
  {
   "cell_type": "code",
   "execution_count": 8,
   "metadata": {
    "scrolled": true
   },
   "outputs": [
    {
     "data": {
      "image/png": "[encoded data removed]",
      "text/plain": [
       "<Figure size 432x288 with 1 Axes>"
      ]
     },
     "metadata": {
      "needs_background": "light"
     },
     "output_type": "display_data"
    }
   ],
   "source": [
    "fig, ax = plt.subplots(1,1)\n",
    "ax.plot(sizes, t_numeric, 'o-', label='Inserting row-by-row')\n",
    "ax.plot(sizes, t_numeric_add, 'o-', label='Inserting row-by-row: add_result only')\n",
    "ax.plot(sizes, t_array, 'd-', label='Inserting as binary blob')\n",
    "ax.plot(sizes, t_array_add, 'd-', label='Inserting as binary blob: add_result only')\n",
    "ax.legend()\n",
    "ax.set_xlabel('Array length')\n",
    "ax.set_ylabel('Time (s)')\n",
    "fig.tight_layout()"
   ]
  },
  {
   "cell_type": "markdown",
   "metadata": {},
   "source": [
    "However, as we increase the length of the experiment, as seen here by repeating the insertion 100 times, we see a big difference between inserting values of the data row-by-row and inserting it as a binary blob."
   ]
  },
  {
   "cell_type": "markdown",
   "metadata": {},
   "source": [
    "## Loading the data "
   ]
  },
  {
   "cell_type": "code",
   "execution_count": 9,
   "metadata": {},
   "outputs": [],
   "source": [
    "from qcodes.dataset.data_set import load_by_id\n",
    "from qcodes.dataset.data_export import get_data_by_id"
   ]
  },
  {
   "cell_type": "markdown",
   "metadata": {},
   "source": [
    "As usual you can load the data by using the ``load_by_id`` function but you will notice that the different storage methods\n",
    "are reflected in shape of the data as it is retrieved. "
   ]
  },
  {
   "cell_type": "code",
   "execution_count": 10,
   "metadata": {},
   "outputs": [],
   "source": [
    "run_id_n = t_numeric_run_ids[0]\n",
    "run_id_a = t_array_run_ids[0]"
   ]
  },
  {
   "cell_type": "code",
   "execution_count": 11,
   "metadata": {
    "scrolled": true
   },
   "outputs": [
    {
     "data": {
      "text/plain": [
       "{'x1': {'x1': array([0.40878016, 0.40878016, 0.72804381, 0.72804381, 0.12354661,\n",
       "         0.12354661, 0.0297201 , 0.0297201 , 0.55458335, 0.55458335,\n",
       "         0.73593668, 0.73593668, 0.82892789, 0.82892789, 0.40478381,\n",
       "         0.40478381, 0.71558644, 0.71558644, 0.21823332, 0.21823332,\n",
       "         0.18601443, 0.18601443, 0.04906217, 0.04906217, 0.96027365,\n",
       "         0.96027365, 0.20153106, 0.20153106, 0.30641778, 0.30641778,\n",
       "         0.54074118, 0.54074118, 0.33305079, 0.33305079, 0.97804028,\n",
       "         0.97804028, 0.39976895, 0.39976895, 0.95227693, 0.95227693,\n",
       "         0.06390294, 0.06390294, 0.84937894, 0.84937894, 0.19259049,\n",
       "         0.19259049, 0.50626058, 0.50626058, 0.92527935, 0.92527935,\n",
       "         0.53741546, 0.53741546, 0.53015594, 0.53015594, 0.00786817,\n",
       "         0.00786817, 0.83251464, 0.83251464, 0.9086762 , 0.9086762 ,\n",
       "         0.03429411, 0.03429411, 0.40857783, 0.40857783, 0.68291255,\n",
       "         0.68291255, 0.214695  , 0.214695  , 0.55371637, 0.55371637,\n",
       "         0.49179886, 0.49179886, 0.43757453, 0.43757453, 0.86124893,\n",
       "         0.86124893, 0.88092163, 0.88092163, 0.42736922, 0.42736922,\n",
       "         0.61213833, 0.61213833, 0.50788571, 0.50788571, 0.84322629,\n",
       "         0.84322629, 0.01958248, 0.01958248, 0.74482874, 0.74482874,\n",
       "         0.0479454 , 0.0479454 , 0.64645323, 0.64645323, 0.89043523,\n",
       "         0.89043523, 0.19815243, 0.19815243, 0.88274829, 0.88274829,\n",
       "         0.70612485, 0.70612485, 0.08844113, 0.08844113, 0.62207436,\n",
       "         0.62207436, 0.86371545, 0.86371545, 0.10975046, 0.10975046,\n",
       "         0.30372688, 0.30372688, 0.5068483 , 0.5068483 , 0.48024468,\n",
       "         0.48024468, 0.99416544, 0.99416544, 0.69625873, 0.69625873,\n",
       "         0.85255655, 0.85255655, 0.07416052, 0.07416052, 0.4768833 ,\n",
       "         0.4768833 , 0.0425727 , 0.0425727 , 0.52290836, 0.52290836,\n",
       "         0.11081505, 0.11081505, 0.14537457, 0.14537457, 0.63885078,\n",
       "         0.63885078, 0.10407405, 0.10407405, 0.21747122, 0.21747122,\n",
       "         0.72656194, 0.72656194, 0.13496212, 0.13496212, 0.33378623,\n",
       "         0.33378623, 0.25444551, 0.25444551, 0.67892882, 0.67892882,\n",
       "         0.34213498, 0.34213498, 0.17505969, 0.17505969, 0.83963895,\n",
       "         0.83963895, 0.04154862, 0.04154862, 0.87827514, 0.87827514,\n",
       "         0.38794916, 0.38794916, 0.66160832, 0.66160832, 0.40232894,\n",
       "         0.40232894, 0.24764977, 0.24764977, 0.70513736, 0.70513736,\n",
       "         0.33812177, 0.33812177, 0.20732608, 0.20732608, 0.17989751,\n",
       "         0.17989751, 0.65956916, 0.65956916, 0.00394506, 0.00394506,\n",
       "         0.69075327, 0.69075327, 0.81434426, 0.81434426, 0.48534569,\n",
       "         0.48534569, 0.59899213, 0.59899213, 0.80352261, 0.80352261,\n",
       "         0.93021692, 0.93021692, 0.55050326, 0.55050326, 0.45291751,\n",
       "         0.45291751, 0.59944358, 0.59944358, 0.09337265, 0.09337265])}}"
      ]
     },
     "execution_count": 11,
     "metadata": {},
     "output_type": "execute_result"
    }
   ],
   "source": [
    "ds = load_by_id(run_id_n)\n",
    "ds.get_parameter_data('x1')"
   ]
  },
  {
   "cell_type": "markdown",
   "metadata": {},
   "source": [
    "And a dataset stored as binary arrays"
   ]
  },
  {
   "cell_type": "code",
   "execution_count": 12,
   "metadata": {
    "scrolled": true
   },
   "outputs": [
    {
     "data": {
      "text/plain": [
       "{'x1': {'x1': array([[0.68108067],\n",
       "         [0.68108067],\n",
       "         [0.52112319],\n",
       "         [0.52112319],\n",
       "         [0.1024881 ],\n",
       "         [0.1024881 ],\n",
       "         [0.63975493],\n",
       "         [0.63975493],\n",
       "         [0.16224185],\n",
       "         [0.16224185],\n",
       "         [0.89425292],\n",
       "         [0.89425292],\n",
       "         [0.9545523 ],\n",
       "         [0.9545523 ],\n",
       "         [0.05277418],\n",
       "         [0.05277418],\n",
       "         [0.98103131],\n",
       "         [0.98103131],\n",
       "         [0.84643878],\n",
       "         [0.84643878],\n",
       "         [0.83017062],\n",
       "         [0.83017062],\n",
       "         [0.42014206],\n",
       "         [0.42014206],\n",
       "         [0.63149868],\n",
       "         [0.63149868],\n",
       "         [0.94930363],\n",
       "         [0.94930363],\n",
       "         [0.81301774],\n",
       "         [0.81301774],\n",
       "         [0.76974596],\n",
       "         [0.76974596],\n",
       "         [0.8327599 ],\n",
       "         [0.8327599 ],\n",
       "         [0.45502972],\n",
       "         [0.45502972],\n",
       "         [0.70538972],\n",
       "         [0.70538972],\n",
       "         [0.68905132],\n",
       "         [0.68905132],\n",
       "         [0.99410022],\n",
       "         [0.99410022],\n",
       "         [0.13365531],\n",
       "         [0.13365531],\n",
       "         [0.70060639],\n",
       "         [0.70060639],\n",
       "         [0.80330849],\n",
       "         [0.80330849],\n",
       "         [0.15688231],\n",
       "         [0.15688231],\n",
       "         [0.45350254],\n",
       "         [0.45350254],\n",
       "         [0.83439069],\n",
       "         [0.83439069],\n",
       "         [0.07137658],\n",
       "         [0.07137658],\n",
       "         [0.7531251 ],\n",
       "         [0.7531251 ],\n",
       "         [0.39065808],\n",
       "         [0.39065808],\n",
       "         [0.25266749],\n",
       "         [0.25266749],\n",
       "         [0.38623596],\n",
       "         [0.38623596],\n",
       "         [0.67304403],\n",
       "         [0.67304403],\n",
       "         [0.28697463],\n",
       "         [0.28697463],\n",
       "         [0.25284656],\n",
       "         [0.25284656],\n",
       "         [0.00811857],\n",
       "         [0.00811857],\n",
       "         [0.0458543 ],\n",
       "         [0.0458543 ],\n",
       "         [0.92752333],\n",
       "         [0.92752333],\n",
       "         [0.54137903],\n",
       "         [0.54137903],\n",
       "         [0.58947623],\n",
       "         [0.58947623],\n",
       "         [0.34613841],\n",
       "         [0.34613841],\n",
       "         [0.17953092],\n",
       "         [0.17953092],\n",
       "         [0.92276122],\n",
       "         [0.92276122],\n",
       "         [0.92148286],\n",
       "         [0.92148286],\n",
       "         [0.17325519],\n",
       "         [0.17325519],\n",
       "         [0.00842467],\n",
       "         [0.00842467],\n",
       "         [0.24779853],\n",
       "         [0.24779853],\n",
       "         [0.85542281],\n",
       "         [0.85542281],\n",
       "         [0.86484006],\n",
       "         [0.86484006],\n",
       "         [0.31186174],\n",
       "         [0.31186174],\n",
       "         [0.11220068],\n",
       "         [0.11220068],\n",
       "         [0.08416327],\n",
       "         [0.08416327],\n",
       "         [0.38355546],\n",
       "         [0.38355546],\n",
       "         [0.43528174],\n",
       "         [0.43528174],\n",
       "         [0.29518278],\n",
       "         [0.29518278],\n",
       "         [0.02286034],\n",
       "         [0.02286034],\n",
       "         [0.37383455],\n",
       "         [0.37383455],\n",
       "         [0.85961674],\n",
       "         [0.85961674],\n",
       "         [0.58565177],\n",
       "         [0.58565177],\n",
       "         [0.18512418],\n",
       "         [0.18512418],\n",
       "         [0.52390434],\n",
       "         [0.52390434],\n",
       "         [0.14365384],\n",
       "         [0.14365384],\n",
       "         [0.72229786],\n",
       "         [0.72229786],\n",
       "         [0.76284495],\n",
       "         [0.76284495],\n",
       "         [0.42214084],\n",
       "         [0.42214084],\n",
       "         [0.89180101],\n",
       "         [0.89180101],\n",
       "         [0.18073266],\n",
       "         [0.18073266],\n",
       "         [0.50764472],\n",
       "         [0.50764472],\n",
       "         [0.94527632],\n",
       "         [0.94527632],\n",
       "         [0.57088784],\n",
       "         [0.57088784],\n",
       "         [0.9760511 ],\n",
       "         [0.9760511 ],\n",
       "         [0.56299996],\n",
       "         [0.56299996],\n",
       "         [0.53947411],\n",
       "         [0.53947411],\n",
       "         [0.51589401],\n",
       "         [0.51589401],\n",
       "         [0.69739551],\n",
       "         [0.69739551],\n",
       "         [0.12852024],\n",
       "         [0.12852024],\n",
       "         [0.17634565],\n",
       "         [0.17634565],\n",
       "         [0.91868303],\n",
       "         [0.91868303],\n",
       "         [0.57927417],\n",
       "         [0.57927417],\n",
       "         [0.53360562],\n",
       "         [0.53360562],\n",
       "         [0.40746869],\n",
       "         [0.40746869],\n",
       "         [0.41666112],\n",
       "         [0.41666112],\n",
       "         [0.24009399],\n",
       "         [0.24009399],\n",
       "         [0.69829729],\n",
       "         [0.69829729],\n",
       "         [0.83180664],\n",
       "         [0.83180664],\n",
       "         [0.06368716],\n",
       "         [0.06368716],\n",
       "         [0.13576571],\n",
       "         [0.13576571],\n",
       "         [0.13619007],\n",
       "         [0.13619007],\n",
       "         [0.12141788],\n",
       "         [0.12141788],\n",
       "         [0.14254333],\n",
       "         [0.14254333],\n",
       "         [0.58962824],\n",
       "         [0.58962824],\n",
       "         [0.22211785],\n",
       "         [0.22211785],\n",
       "         [0.82902656],\n",
       "         [0.82902656],\n",
       "         [0.76073978],\n",
       "         [0.76073978],\n",
       "         [0.29299056],\n",
       "         [0.29299056],\n",
       "         [0.3476915 ],\n",
       "         [0.3476915 ],\n",
       "         [0.53044957],\n",
       "         [0.53044957],\n",
       "         [0.25398285],\n",
       "         [0.25398285],\n",
       "         [0.79745778],\n",
       "         [0.79745778],\n",
       "         [0.1387268 ],\n",
       "         [0.1387268 ]])}}"
      ]
     },
     "execution_count": 12,
     "metadata": {},
     "output_type": "execute_result"
    }
   ],
   "source": [
    "ds = load_by_id(run_id_a)\n",
    "ds.get_parameter_data('x1')"
   ]
  },
  {
   "cell_type": "code",
   "execution_count": null,
   "metadata": {},
   "outputs": [],
   "source": []
  }
 ],
 "metadata": {
  "kernelspec": {
   "display_name": "Python 3",
   "language": "python",
   "name": "python3"
  },
  "language_info": {
   "codemirror_mode": {
    "name": "ipython",
    "version": 3
   },
   "file_extension": ".py",
   "mimetype": "text/x-python",
   "name": "python",
   "nbconvert_exporter": "python",
   "pygments_lexer": "ipython3",
   "version": "3.7.5"
  },
  "nbsphinx": {
   "timeout": 600
  },
  "toc": {
   "base_numbering": 1,
   "nav_menu": {},
   "number_sections": true,
   "sideBar": true,
   "skip_h1_title": false,
   "title_cell": "Table of Contents",
   "title_sidebar": "Contents",
   "toc_cell": false,
   "toc_position": {},
   "toc_section_display": true,
   "toc_window_display": false
  },
  "varInspector": {
   "cols": {
    "lenName": 16,
    "lenType": 16,
    "lenVar": 40
   },
   "kernels_config": {
    "python": {
     "delete_cmd_postfix": "",
     "delete_cmd_prefix": "del ",
     "library": "var_list.py",
     "varRefreshCmd": "print(var_dic_list())"
    },
    "r": {
     "delete_cmd_postfix": ") ",
     "delete_cmd_prefix": "rm(",
     "library": "var_list.r",
     "varRefreshCmd": "cat(var_dic_list()) "
    }
   },
   "types_to_exclude": [
    "module",
    "function",
    "builtin_function_or_method",
    "instance",
    "_Feature"
   ],
   "window_display": false
  }
 },
 "nbformat": 4,
 "nbformat_minor": 2
}
