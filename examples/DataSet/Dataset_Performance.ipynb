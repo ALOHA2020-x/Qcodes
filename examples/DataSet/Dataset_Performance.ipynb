{
 "cells": [
  {
   "cell_type": "markdown",
   "metadata": {},
   "source": [
    "# DataSet Performance\n",
    "\n",
    "This notebook shows the trade-off between inserting data into a database row-by-row and as binary blobs. Inserting the data row-by-row means that we have direct access to all the data and may perform queries directly on the values of the data. On the other hand, as we shall see, this is much slower than inserting the data directly as binary blobs."
   ]
  },
  {
   "cell_type": "markdown",
   "metadata": {},
   "source": [
    "First, we choose a new location for the database to ensure that we don't add a bunch of benchmarking data to the default one."
   ]
  },
  {
   "cell_type": "code",
   "execution_count": 1,
   "metadata": {
    "execution": {
     "iopub.execute_input": "2020-11-12T14:14:36.161926Z",
     "iopub.status.busy": "2020-11-12T14:14:36.161462Z",
     "iopub.status.idle": "2020-11-12T14:14:37.051974Z",
     "shell.execute_reply": "2020-11-12T14:14:37.052433Z"
    }
   },
   "outputs": [
    {
     "name": "stdout",
     "output_type": "stream",
     "text": [
      "Logging hadn't been started.\n",
      "Activating auto-logging. Current session state plus future input saved.\n",
      "Filename       : /home/vsts/.qcodes/logs/command_history.log\n",
      "Mode           : append\n",
      "Output logging : True\n",
      "Raw input log  : False\n",
      "Timestamping   : True\n",
      "State          : active\n"
     ]
    },
    {
     "name": "stdout",
     "output_type": "stream",
     "text": [
      "Qcodes Logfile : /home/vsts/.qcodes/logs/201112-14216-qcodes.log\n"
     ]
    }
   ],
   "source": [
    "import os\n",
    "cwd = os.getcwd()\n",
    "import qcodes as qc\n",
    "qc.config[\"core\"][\"db_location\"] = os.path.join(cwd, 'testing.db')\n"
   ]
  },
  {
   "cell_type": "code",
   "execution_count": 2,
   "metadata": {
    "execution": {
     "iopub.execute_input": "2020-11-12T14:14:37.057948Z",
     "iopub.status.busy": "2020-11-12T14:14:37.057186Z",
     "iopub.status.idle": "2020-11-12T14:14:37.215031Z",
     "shell.execute_reply": "2020-11-12T14:14:37.214056Z"
    }
   },
   "outputs": [],
   "source": [
    "%matplotlib inline\n",
    "import time\n",
    "import matplotlib.pyplot as plt\n",
    "import numpy as np\n",
    "\n",
    "import qcodes as qc\n",
    "from qcodes.instrument.parameter import ManualParameter\n",
    "from qcodes.dataset.experiment_container import (Experiment,\n",
    "                                                 load_last_experiment,\n",
    "                                                 new_experiment)\n",
    "from qcodes.dataset.sqlite.database import initialise_database\n",
    "from qcodes import load_or_create_experiment\n",
    "from qcodes.dataset.measurements import Measurement"
   ]
  },
  {
   "cell_type": "code",
   "execution_count": 3,
   "metadata": {
    "execution": {
     "iopub.execute_input": "2020-11-12T14:14:37.218894Z",
     "iopub.status.busy": "2020-11-12T14:14:37.218323Z",
     "iopub.status.idle": "2020-11-12T14:14:37.324921Z",
     "shell.execute_reply": "2020-11-12T14:14:37.324527Z"
    }
   },
   "outputs": [
    {
     "name": "stdout",
     "output_type": "stream",
     "text": [
      "\r",
      "0it [00:00, ?it/s]"
     ]
    },
    {
     "name": "stdout",
     "output_type": "stream",
     "text": [
      "\r",
      "Upgrading database; v0 -> v1: : 0it [00:00, ?it/s]"
     ]
    },
    {
     "name": "stdout",
     "output_type": "stream",
     "text": [
      "\r",
      "Upgrading database; v0 -> v1: : 0it [00:00, ?it/s]"
     ]
    },
    {
     "name": "stdout",
     "output_type": "stream",
     "text": [
      "\n",
      "\r",
      "  0%|          | 0/1 [00:00<?, ?it/s]"
     ]
    },
    {
     "name": "stdout",
     "output_type": "stream",
     "text": [
      "\r",
      "Upgrading database; v1 -> v2:   0%|          | 0/1 [00:00<?, ?it/s]"
     ]
    },
    {
     "name": "stdout",
     "output_type": "stream",
     "text": [
      "\r",
      "Upgrading database; v1 -> v2: 100%|██████████| 1/1 [00:00<00:00, 757.92it/s]"
     ]
    },
    {
     "name": "stdout",
     "output_type": "stream",
     "text": [
      "\n",
      "\r",
      "0it [00:00, ?it/s]"
     ]
    },
    {
     "name": "stdout",
     "output_type": "stream",
     "text": [
      "\r",
      "Upgrading database; v2 -> v3: : 0it [00:00, ?it/s]"
     ]
    },
    {
     "name": "stdout",
     "output_type": "stream",
     "text": [
      "\r",
      "Upgrading database; v2 -> v3: : 0it [00:00, ?it/s]"
     ]
    },
    {
     "name": "stdout",
     "output_type": "stream",
     "text": [
      "\n",
      "\r",
      "0it [00:00, ?it/s]"
     ]
    },
    {
     "name": "stdout",
     "output_type": "stream",
     "text": [
      "\r",
      "Upgrading database; v3 -> v4: : 0it [00:00, ?it/s]"
     ]
    },
    {
     "name": "stdout",
     "output_type": "stream",
     "text": [
      "\r",
      "Upgrading database; v3 -> v4: : 0it [00:00, ?it/s]"
     ]
    },
    {
     "name": "stdout",
     "output_type": "stream",
     "text": [
      "\n",
      "\r",
      "  0%|          | 0/1 [00:00<?, ?it/s]"
     ]
    },
    {
     "name": "stdout",
     "output_type": "stream",
     "text": [
      "\r",
      "Upgrading database; v4 -> v5:   0%|          | 0/1 [00:00<?, ?it/s]"
     ]
    },
    {
     "name": "stdout",
     "output_type": "stream",
     "text": [
      "\r",
      "Upgrading database; v4 -> v5: 100%|██████████| 1/1 [00:00<00:00, 1054.38it/s]"
     ]
    },
    {
     "name": "stdout",
     "output_type": "stream",
     "text": [
      "\n",
      "\r",
      "0it [00:00, ?it/s]"
     ]
    },
    {
     "name": "stdout",
     "output_type": "stream",
     "text": [
      "\r",
      "Upgrading database; v5 -> v6: : 0it [00:00, ?it/s]"
     ]
    },
    {
     "name": "stdout",
     "output_type": "stream",
     "text": [
      "\r",
      "Upgrading database; v5 -> v6: : 0it [00:00, ?it/s]"
     ]
    },
    {
     "name": "stdout",
     "output_type": "stream",
     "text": [
      "\n",
      "\r",
      "  0%|          | 0/1 [00:00<?, ?it/s]"
     ]
    },
    {
     "name": "stdout",
     "output_type": "stream",
     "text": [
      "\r",
      "Upgrading database; v6 -> v7:   0%|          | 0/1 [00:00<?, ?it/s]"
     ]
    },
    {
     "name": "stdout",
     "output_type": "stream",
     "text": [
      "\r",
      "Upgrading database; v6 -> v7: 100%|██████████| 1/1 [00:00<00:00, 437.18it/s]"
     ]
    },
    {
     "name": "stdout",
     "output_type": "stream",
     "text": [
      "\n",
      "\r",
      "  0%|          | 0/1 [00:00<?, ?it/s]"
     ]
    },
    {
     "name": "stdout",
     "output_type": "stream",
     "text": [
      "\r",
      "Upgrading database; v7 -> v8:   0%|          | 0/1 [00:00<?, ?it/s]"
     ]
    },
    {
     "name": "stdout",
     "output_type": "stream",
     "text": [
      "\r",
      "Upgrading database; v7 -> v8: 100%|██████████| 1/1 [00:00<00:00, 950.23it/s]"
     ]
    },
    {
     "name": "stdout",
     "output_type": "stream",
     "text": [
      "\n",
      "\r",
      "  0%|          | 0/1 [00:00<?, ?it/s]"
     ]
    },
    {
     "name": "stdout",
     "output_type": "stream",
     "text": [
      "\r",
      "Upgrading database; v8 -> v9:   0%|          | 0/1 [00:00<?, ?it/s]"
     ]
    },
    {
     "name": "stdout",
     "output_type": "stream",
     "text": [
      "\r",
      "Upgrading database; v8 -> v9: 100%|██████████| 1/1 [00:00<00:00, 625.27it/s]"
     ]
    },
    {
     "name": "stdout",
     "output_type": "stream",
     "text": [
      "\n"
     ]
    }
   ],
   "source": [
    "initialise_database()\n",
    "exp = load_or_create_experiment(experiment_name='tutorial_exp', sample_name=\"no sample\")"
   ]
  },
  {
   "cell_type": "markdown",
   "metadata": {},
   "source": [
    "Here, we define a simple function to benchmark the time it takes to insert n points with either numeric or array data type.\n",
    "We will compare both the time used to call ``add_result`` and the time used for the full measurement."
   ]
  },
  {
   "cell_type": "code",
   "execution_count": 4,
   "metadata": {
    "execution": {
     "iopub.execute_input": "2020-11-12T14:14:37.333621Z",
     "iopub.status.busy": "2020-11-12T14:14:37.332378Z",
     "iopub.status.idle": "2020-11-12T14:14:37.334223Z",
     "shell.execute_reply": "2020-11-12T14:14:37.334699Z"
    }
   },
   "outputs": [],
   "source": [
    "def insert_data(paramtype, npoints, nreps=1):\n",
    "\n",
    "    meas = Measurement(exp=exp)\n",
    "\n",
    "    x1 = ManualParameter('x1')\n",
    "    x2 = ManualParameter('x2')\n",
    "    x3 = ManualParameter('x3')\n",
    "    y1 = ManualParameter('y1')\n",
    "    y2 = ManualParameter('y2')\n",
    "\n",
    "    meas.register_parameter(x1, paramtype=paramtype)\n",
    "    meas.register_parameter(x2, paramtype=paramtype)\n",
    "    meas.register_parameter(x3, paramtype=paramtype)\n",
    "    meas.register_parameter(y1, setpoints=[x1, x2, x3],\n",
    "                            paramtype=paramtype)\n",
    "    meas.register_parameter(y2, setpoints=[x1, x2, x3],\n",
    "                            paramtype=paramtype)\n",
    "    start = time.perf_counter()\n",
    "    with meas.run() as datasaver:\n",
    "        start_adding = time.perf_counter()\n",
    "        for i in range(nreps):\n",
    "            datasaver.add_result((x1, np.random.rand(npoints)),\n",
    "                                 (x2, np.random.rand(npoints)),\n",
    "                                 (x3, np.random.rand(npoints)),\n",
    "                                 (y1, np.random.rand(npoints)),\n",
    "                                 (y2, np.random.rand(npoints)))\n",
    "        stop_adding = time.perf_counter()\n",
    "        run_id = datasaver.run_id\n",
    "    stop = time.perf_counter()\n",
    "    tot_time = stop - start\n",
    "    add_time = stop_adding - start_adding\n",
    "    return tot_time, add_time, run_id"
   ]
  },
  {
   "cell_type": "markdown",
   "metadata": {},
   "source": [
    "## Comparison between numeric/array data and binary blob"
   ]
  },
  {
   "cell_type": "markdown",
   "metadata": {},
   "source": [
    "### Case1: Short experiment time"
   ]
  },
  {
   "cell_type": "code",
   "execution_count": 5,
   "metadata": {
    "execution": {
     "iopub.execute_input": "2020-11-12T14:14:37.340521Z",
     "iopub.status.busy": "2020-11-12T14:14:37.339452Z",
     "iopub.status.idle": "2020-11-12T14:14:38.086609Z",
     "shell.execute_reply": "2020-11-12T14:14:38.085687Z"
    }
   },
   "outputs": [
    {
     "name": "stdout",
     "output_type": "stream",
     "text": [
      "Starting experimental run with id: 1. \n",
      "Starting experimental run with id: 2. \n",
      "Starting experimental run with id: 3. \n",
      "Starting experimental run with id: 4. \n",
      "Starting experimental run with id: 5. \n"
     ]
    },
    {
     "name": "stdout",
     "output_type": "stream",
     "text": [
      "Starting experimental run with id: 6. \n"
     ]
    },
    {
     "name": "stdout",
     "output_type": "stream",
     "text": [
      "Starting experimental run with id: 7. \n"
     ]
    },
    {
     "name": "stdout",
     "output_type": "stream",
     "text": [
      "Starting experimental run with id: 8. \n",
      "Starting experimental run with id: 9. \n"
     ]
    },
    {
     "name": "stdout",
     "output_type": "stream",
     "text": [
      "Starting experimental run with id: 10. \n"
     ]
    },
    {
     "name": "stdout",
     "output_type": "stream",
     "text": [
      "Starting experimental run with id: 11. \n"
     ]
    },
    {
     "name": "stdout",
     "output_type": "stream",
     "text": [
      "Starting experimental run with id: 12. \n",
      "Starting experimental run with id: 13. \n"
     ]
    },
    {
     "name": "stdout",
     "output_type": "stream",
     "text": [
      "Starting experimental run with id: 14. \n"
     ]
    }
   ],
   "source": [
    "sizes = [1,500,1000,2000,3000,4000,5000]\n",
    "t_numeric = []\n",
    "t_numeric_add = []\n",
    "t_array = []\n",
    "t_array_add = []\n",
    "for size in sizes:\n",
    "    tn, tna, run_id_n =  insert_data('numeric', size)\n",
    "    t_numeric.append(tn)\n",
    "    t_numeric_add.append(tna)\n",
    "\n",
    "    ta, taa, run_id_a =  insert_data('array', size)\n",
    "    t_array.append(ta)\n",
    "    t_array_add.append(taa)"
   ]
  },
  {
   "cell_type": "code",
   "execution_count": 6,
   "metadata": {
    "execution": {
     "iopub.execute_input": "2020-11-12T14:14:38.114521Z",
     "iopub.status.busy": "2020-11-12T14:14:38.102971Z",
     "iopub.status.idle": "2020-11-12T14:14:38.254715Z",
     "shell.execute_reply": "2020-11-12T14:14:38.255035Z"
    }
   },
   "outputs": [
    {
     "data": {
      "image/png": "[encoded data removed]",
      "text/plain": [
       "<Figure size 432x288 with 1 Axes>"
      ]
     },
     "metadata": {
      "needs_background": "light"
     },
     "output_type": "display_data"
    }
   ],
   "source": [
    "fig, ax = plt.subplots(1,1)\n",
    "ax.plot(sizes, t_numeric, 'o-', label='Inserting row-by-row')\n",
    "ax.plot(sizes, t_numeric_add, 'o-', label='Inserting row-by-row: add_result only')\n",
    "ax.plot(sizes, t_array, 'd-', label='Inserting as binary blob')\n",
    "ax.plot(sizes, t_array_add, 'd-', label='Inserting as binary blob: add_result only')\n",
    "ax.legend()\n",
    "ax.set_xlabel('Array length')\n",
    "ax.set_ylabel('Time (s)')\n",
    "fig.tight_layout()"
   ]
  },
  {
   "cell_type": "markdown",
   "metadata": {},
   "source": [
    "As shown in the latter figure, the time to setup and and close the experiment is approximately 0.4 sec. In case of small array sizes, the difference between inserting values of data as arrays and inserting them row-by-row is relatively unimportant. At larger array sizes, i.e. above 10000 points, the cost of writing data as individual datapoints starts to become important.\n"
   ]
  },
  {
   "cell_type": "markdown",
   "metadata": {},
   "source": [
    "### Case2: Long experiment time "
   ]
  },
  {
   "cell_type": "code",
   "execution_count": 7,
   "metadata": {
    "execution": {
     "iopub.execute_input": "2020-11-12T14:14:38.257296Z",
     "iopub.status.busy": "2020-11-12T14:14:38.256839Z",
     "iopub.status.idle": "2020-11-12T14:15:34.154293Z",
     "shell.execute_reply": "2020-11-12T14:15:34.153776Z"
    }
   },
   "outputs": [
    {
     "name": "stdout",
     "output_type": "stream",
     "text": [
      "Starting experimental run with id: 15. \n"
     ]
    },
    {
     "name": "stdout",
     "output_type": "stream",
     "text": [
      "Starting experimental run with id: 16. \n",
      "Starting experimental run with id: 17. \n"
     ]
    },
    {
     "name": "stdout",
     "output_type": "stream",
     "text": [
      "Starting experimental run with id: 18. \n",
      "Starting experimental run with id: 19. \n"
     ]
    },
    {
     "name": "stdout",
     "output_type": "stream",
     "text": [
      "Starting experimental run with id: 20. \n"
     ]
    },
    {
     "name": "stdout",
     "output_type": "stream",
     "text": [
      "Starting experimental run with id: 21. \n"
     ]
    },
    {
     "name": "stdout",
     "output_type": "stream",
     "text": [
      "Starting experimental run with id: 22. \n"
     ]
    },
    {
     "name": "stdout",
     "output_type": "stream",
     "text": [
      "Starting experimental run with id: 23. \n"
     ]
    },
    {
     "name": "stdout",
     "output_type": "stream",
     "text": [
      "Starting experimental run with id: 24. \n"
     ]
    },
    {
     "name": "stdout",
     "output_type": "stream",
     "text": [
      "Starting experimental run with id: 25. \n"
     ]
    },
    {
     "name": "stdout",
     "output_type": "stream",
     "text": [
      "Starting experimental run with id: 26. \n"
     ]
    },
    {
     "name": "stdout",
     "output_type": "stream",
     "text": [
      "Starting experimental run with id: 27. \n"
     ]
    },
    {
     "name": "stdout",
     "output_type": "stream",
     "text": [
      "Starting experimental run with id: 28. \n"
     ]
    }
   ],
   "source": [
    "sizes = [1,500,1000,2000,3000,4000,5000]\n",
    "nreps = 100\n",
    "t_numeric = []\n",
    "t_numeric_add = []\n",
    "t_numeric_run_ids = []\n",
    "t_array = []\n",
    "t_array_add = []\n",
    "t_array_run_ids = []\n",
    "for size in sizes:\n",
    "    tn, tna, run_id_n =  insert_data('numeric', size, nreps=nreps)\n",
    "    t_numeric.append(tn)\n",
    "    t_numeric_add.append(tna)\n",
    "    t_numeric_run_ids.append(run_id_n)\n",
    "\n",
    "    ta, taa, run_id_a =  insert_data('array', size, nreps=nreps)\n",
    "    t_array.append(ta)\n",
    "    t_array_add.append(taa)\n",
    "    t_array_run_ids.append(run_id_a)"
   ]
  },
  {
   "cell_type": "code",
   "execution_count": 8,
   "metadata": {
    "execution": {
     "iopub.execute_input": "2020-11-12T14:15:34.191020Z",
     "iopub.status.busy": "2020-11-12T14:15:34.181311Z",
     "iopub.status.idle": "2020-11-12T14:15:34.345573Z",
     "shell.execute_reply": "2020-11-12T14:15:34.346409Z"
    },
    "scrolled": true
   },
   "outputs": [
    {
     "data": {
      "image/png": "[encoded data removed]",
      "text/plain": [
       "<Figure size 432x288 with 1 Axes>"
      ]
     },
     "metadata": {
      "needs_background": "light"
     },
     "output_type": "display_data"
    }
   ],
   "source": [
    "fig, ax = plt.subplots(1,1)\n",
    "ax.plot(sizes, t_numeric, 'o-', label='Inserting row-by-row')\n",
    "ax.plot(sizes, t_numeric_add, 'o-', label='Inserting row-by-row: add_result only')\n",
    "ax.plot(sizes, t_array, 'd-', label='Inserting as binary blob')\n",
    "ax.plot(sizes, t_array_add, 'd-', label='Inserting as binary blob: add_result only')\n",
    "ax.legend()\n",
    "ax.set_xlabel('Array length')\n",
    "ax.set_ylabel('Time (s)')\n",
    "fig.tight_layout()"
   ]
  },
  {
   "cell_type": "markdown",
   "metadata": {},
   "source": [
    "However, as we increase the length of the experiment, as seen here by repeating the insertion 100 times, we see a big difference between inserting values of the data row-by-row and inserting it as a binary blob."
   ]
  },
  {
   "cell_type": "markdown",
   "metadata": {},
   "source": [
    "## Loading the data "
   ]
  },
  {
   "cell_type": "code",
   "execution_count": 9,
   "metadata": {
    "execution": {
     "iopub.execute_input": "2020-11-12T14:15:34.350337Z",
     "iopub.status.busy": "2020-11-12T14:15:34.348981Z",
     "iopub.status.idle": "2020-11-12T14:15:34.354974Z",
     "shell.execute_reply": "2020-11-12T14:15:34.354492Z"
    }
   },
   "outputs": [],
   "source": [
    "from qcodes.dataset.data_set import load_by_id\n",
    "from qcodes.dataset.data_export import get_data_by_id"
   ]
  },
  {
   "cell_type": "markdown",
   "metadata": {},
   "source": [
    "As usual you can load the data by using the ``load_by_id`` function but you will notice that the different storage methods\n",
    "are reflected in shape of the data as it is retrieved. "
   ]
  },
  {
   "cell_type": "code",
   "execution_count": 10,
   "metadata": {
    "execution": {
     "iopub.execute_input": "2020-11-12T14:15:34.359451Z",
     "iopub.status.busy": "2020-11-12T14:15:34.358210Z",
     "iopub.status.idle": "2020-11-12T14:15:34.360086Z",
     "shell.execute_reply": "2020-11-12T14:15:34.360549Z"
    }
   },
   "outputs": [],
   "source": [
    "run_id_n = t_numeric_run_ids[0]\n",
    "run_id_a = t_array_run_ids[0]"
   ]
  },
  {
   "cell_type": "code",
   "execution_count": 11,
   "metadata": {
    "execution": {
     "iopub.execute_input": "2020-11-12T14:15:34.363873Z",
     "iopub.status.busy": "2020-11-12T14:15:34.363357Z",
     "iopub.status.idle": "2020-11-12T14:15:34.371826Z",
     "shell.execute_reply": "2020-11-12T14:15:34.372228Z"
    },
    "scrolled": true
   },
   "outputs": [
    {
     "data": {
      "text/plain": [
       "{'x1': {'x1': array([0.11715335, 0.11715335, 0.91564274, 0.91564274, 0.49376325,\n",
       "         0.49376325, 0.0701087 , 0.0701087 , 0.06920502, 0.06920502,\n",
       "         0.06341508, 0.06341508, 0.24895013, 0.24895013, 0.82821088,\n",
       "         0.82821088, 0.74866052, 0.74866052, 0.04918309, 0.04918309,\n",
       "         0.76074153, 0.76074153, 0.97564133, 0.97564133, 0.45736857,\n",
       "         0.45736857, 0.20272255, 0.20272255, 0.123733  , 0.123733  ,\n",
       "         0.21282082, 0.21282082, 0.1005594 , 0.1005594 , 0.61148457,\n",
       "         0.61148457, 0.62229623, 0.62229623, 0.4498783 , 0.4498783 ,\n",
       "         0.11485617, 0.11485617, 0.9216751 , 0.9216751 , 0.86427776,\n",
       "         0.86427776, 0.6054211 , 0.6054211 , 0.57427701, 0.57427701,\n",
       "         0.05210706, 0.05210706, 0.17444654, 0.17444654, 0.64925141,\n",
       "         0.64925141, 0.68224352, 0.68224352, 0.96291661, 0.96291661,\n",
       "         0.70647283, 0.70647283, 0.53911459, 0.53911459, 0.30103687,\n",
       "         0.30103687, 0.21326092, 0.21326092, 0.64909069, 0.64909069,\n",
       "         0.16314251, 0.16314251, 0.86080654, 0.86080654, 0.00600588,\n",
       "         0.00600588, 0.62465596, 0.62465596, 0.59919952, 0.59919952,\n",
       "         0.32247597, 0.32247597, 0.88976688, 0.88976688, 0.90078671,\n",
       "         0.90078671, 0.135829  , 0.135829  , 0.20588989, 0.20588989,\n",
       "         0.93429804, 0.93429804, 0.73476265, 0.73476265, 0.93136422,\n",
       "         0.93136422, 0.39455588, 0.39455588, 0.70828994, 0.70828994,\n",
       "         0.2451007 , 0.2451007 , 0.91017514, 0.91017514, 0.53570984,\n",
       "         0.53570984, 0.59830159, 0.59830159, 0.44672671, 0.44672671,\n",
       "         0.05799204, 0.05799204, 0.53577111, 0.53577111, 0.71471989,\n",
       "         0.71471989, 0.18791107, 0.18791107, 0.06310838, 0.06310838,\n",
       "         0.18786982, 0.18786982, 0.58362507, 0.58362507, 0.82528561,\n",
       "         0.82528561, 0.48054901, 0.48054901, 0.96389172, 0.96389172,\n",
       "         0.66901485, 0.66901485, 0.33521224, 0.33521224, 0.92804857,\n",
       "         0.92804857, 0.48173122, 0.48173122, 0.44955852, 0.44955852,\n",
       "         0.6483873 , 0.6483873 , 0.45530225, 0.45530225, 0.69295594,\n",
       "         0.69295594, 0.38344018, 0.38344018, 0.46442573, 0.46442573,\n",
       "         0.47683526, 0.47683526, 0.80897014, 0.80897014, 0.12646423,\n",
       "         0.12646423, 0.20182522, 0.20182522, 0.94414967, 0.94414967,\n",
       "         0.1043314 , 0.1043314 , 0.51363665, 0.51363665, 0.13086871,\n",
       "         0.13086871, 0.15604854, 0.15604854, 0.37868359, 0.37868359,\n",
       "         0.01569634, 0.01569634, 0.33212509, 0.33212509, 0.39805236,\n",
       "         0.39805236, 0.76249104, 0.76249104, 0.73285527, 0.73285527,\n",
       "         0.62511633, 0.62511633, 0.92160651, 0.92160651, 0.70907865,\n",
       "         0.70907865, 0.23182463, 0.23182463, 0.19207751, 0.19207751,\n",
       "         0.4996941 , 0.4996941 , 0.75617372, 0.75617372, 0.70074157,\n",
       "         0.70074157, 0.20067473, 0.20067473, 0.66854082, 0.66854082])}}"
      ]
     },
     "execution_count": 1,
     "metadata": {},
     "output_type": "execute_result"
    }
   ],
   "source": [
    "ds = load_by_id(run_id_n)\n",
    "ds.get_parameter_data('x1')"
   ]
  },
  {
   "cell_type": "markdown",
   "metadata": {},
   "source": [
    "And a dataset stored as binary arrays"
   ]
  },
  {
   "cell_type": "code",
   "execution_count": 12,
   "metadata": {
    "execution": {
     "iopub.execute_input": "2020-11-12T14:15:34.375419Z",
     "iopub.status.busy": "2020-11-12T14:15:34.374847Z",
     "iopub.status.idle": "2020-11-12T14:15:34.427844Z",
     "shell.execute_reply": "2020-11-12T14:15:34.428276Z"
    },
    "scrolled": true
   },
   "outputs": [
    {
     "data": {
      "text/plain": [
       "{'x1': {'x1': array([[0.87253841],\n",
       "         [0.87253841],\n",
       "         [0.56300982],\n",
       "         [0.56300982],\n",
       "         [0.65469811],\n",
       "         [0.65469811],\n",
       "         [0.16777606],\n",
       "         [0.16777606],\n",
       "         [0.94422729],\n",
       "         [0.94422729],\n",
       "         [0.54305786],\n",
       "         [0.54305786],\n",
       "         [0.36900801],\n",
       "         [0.36900801],\n",
       "         [0.3570789 ],\n",
       "         [0.3570789 ],\n",
       "         [0.16854333],\n",
       "         [0.16854333],\n",
       "         [0.48847977],\n",
       "         [0.48847977],\n",
       "         [0.37682704],\n",
       "         [0.37682704],\n",
       "         [0.89065054],\n",
       "         [0.89065054],\n",
       "         [0.91179021],\n",
       "         [0.91179021],\n",
       "         [0.79015032],\n",
       "         [0.79015032],\n",
       "         [0.80657109],\n",
       "         [0.80657109],\n",
       "         [0.51523461],\n",
       "         [0.51523461],\n",
       "         [0.45447793],\n",
       "         [0.45447793],\n",
       "         [0.65055473],\n",
       "         [0.65055473],\n",
       "         [0.03124411],\n",
       "         [0.03124411],\n",
       "         [0.58718469],\n",
       "         [0.58718469],\n",
       "         [0.69115001],\n",
       "         [0.69115001],\n",
       "         [0.49340722],\n",
       "         [0.49340722],\n",
       "         [0.23685717],\n",
       "         [0.23685717],\n",
       "         [0.21701276],\n",
       "         [0.21701276],\n",
       "         [0.59983675],\n",
       "         [0.59983675],\n",
       "         [0.06684012],\n",
       "         [0.06684012],\n",
       "         [0.9977697 ],\n",
       "         [0.9977697 ],\n",
       "         [0.35841168],\n",
       "         [0.35841168],\n",
       "         [0.66269153],\n",
       "         [0.66269153],\n",
       "         [0.42634882],\n",
       "         [0.42634882],\n",
       "         [0.75524384],\n",
       "         [0.75524384],\n",
       "         [0.22999824],\n",
       "         [0.22999824],\n",
       "         [0.6498092 ],\n",
       "         [0.6498092 ],\n",
       "         [0.83683316],\n",
       "         [0.83683316],\n",
       "         [0.28017618],\n",
       "         [0.28017618],\n",
       "         [0.84158257],\n",
       "         [0.84158257],\n",
       "         [0.61577809],\n",
       "         [0.61577809],\n",
       "         [0.44547201],\n",
       "         [0.44547201],\n",
       "         [0.79442499],\n",
       "         [0.79442499],\n",
       "         [0.31810975],\n",
       "         [0.31810975],\n",
       "         [0.3753511 ],\n",
       "         [0.3753511 ],\n",
       "         [0.25313683],\n",
       "         [0.25313683],\n",
       "         [0.21487658],\n",
       "         [0.21487658],\n",
       "         [0.936202  ],\n",
       "         [0.936202  ],\n",
       "         [0.76784798],\n",
       "         [0.76784798],\n",
       "         [0.93320936],\n",
       "         [0.93320936],\n",
       "         [0.68386399],\n",
       "         [0.68386399],\n",
       "         [0.16900388],\n",
       "         [0.16900388],\n",
       "         [0.49947771],\n",
       "         [0.49947771],\n",
       "         [0.99326258],\n",
       "         [0.99326258],\n",
       "         [0.39817156],\n",
       "         [0.39817156],\n",
       "         [0.78087391],\n",
       "         [0.78087391],\n",
       "         [0.21448133],\n",
       "         [0.21448133],\n",
       "         [0.43447711],\n",
       "         [0.43447711],\n",
       "         [0.12929584],\n",
       "         [0.12929584],\n",
       "         [0.37458622],\n",
       "         [0.37458622],\n",
       "         [0.15642479],\n",
       "         [0.15642479],\n",
       "         [0.77496233],\n",
       "         [0.77496233],\n",
       "         [0.18572591],\n",
       "         [0.18572591],\n",
       "         [0.65185566],\n",
       "         [0.65185566],\n",
       "         [0.75518251],\n",
       "         [0.75518251],\n",
       "         [0.54411675],\n",
       "         [0.54411675],\n",
       "         [0.0104348 ],\n",
       "         [0.0104348 ],\n",
       "         [0.25222788],\n",
       "         [0.25222788],\n",
       "         [0.7032643 ],\n",
       "         [0.7032643 ],\n",
       "         [0.0772072 ],\n",
       "         [0.0772072 ],\n",
       "         [0.9045613 ],\n",
       "         [0.9045613 ],\n",
       "         [0.28639061],\n",
       "         [0.28639061],\n",
       "         [0.95153288],\n",
       "         [0.95153288],\n",
       "         [0.60414947],\n",
       "         [0.60414947],\n",
       "         [0.161502  ],\n",
       "         [0.161502  ],\n",
       "         [0.80467394],\n",
       "         [0.80467394],\n",
       "         [0.97904198],\n",
       "         [0.97904198],\n",
       "         [0.58468599],\n",
       "         [0.58468599],\n",
       "         [0.42344007],\n",
       "         [0.42344007],\n",
       "         [0.69765035],\n",
       "         [0.69765035],\n",
       "         [0.32044053],\n",
       "         [0.32044053],\n",
       "         [0.76668513],\n",
       "         [0.76668513],\n",
       "         [0.394538  ],\n",
       "         [0.394538  ],\n",
       "         [0.87457337],\n",
       "         [0.87457337],\n",
       "         [0.08315096],\n",
       "         [0.08315096],\n",
       "         [0.84266881],\n",
       "         [0.84266881],\n",
       "         [0.79245846],\n",
       "         [0.79245846],\n",
       "         [0.71273963],\n",
       "         [0.71273963],\n",
       "         [0.73984672],\n",
       "         [0.73984672],\n",
       "         [0.71338036],\n",
       "         [0.71338036],\n",
       "         [0.70238717],\n",
       "         [0.70238717],\n",
       "         [0.84866421],\n",
       "         [0.84866421],\n",
       "         [0.09492133],\n",
       "         [0.09492133],\n",
       "         [0.14381974],\n",
       "         [0.14381974],\n",
       "         [0.35483251],\n",
       "         [0.35483251],\n",
       "         [0.58041118],\n",
       "         [0.58041118],\n",
       "         [0.42605285],\n",
       "         [0.42605285],\n",
       "         [0.95289787],\n",
       "         [0.95289787],\n",
       "         [0.46980636],\n",
       "         [0.46980636],\n",
       "         [0.32513325],\n",
       "         [0.32513325],\n",
       "         [0.7108591 ],\n",
       "         [0.7108591 ],\n",
       "         [0.49383198],\n",
       "         [0.49383198],\n",
       "         [0.90501464],\n",
       "         [0.90501464],\n",
       "         [0.4548632 ],\n",
       "         [0.4548632 ]])}}"
      ]
     },
     "execution_count": 1,
     "metadata": {},
     "output_type": "execute_result"
    }
   ],
   "source": [
    "ds = load_by_id(run_id_a)\n",
    "ds.get_parameter_data('x1')"
   ]
  },
  {
   "cell_type": "code",
   "execution_count": null,
   "metadata": {},
   "outputs": [],
   "source": []
  }
 ],
 "metadata": {
  "kernelspec": {
   "display_name": "Python 3",
   "language": "python",
   "name": "python3"
  },
  "language_info": {
   "codemirror_mode": {
    "name": "ipython",
    "version": 3
   },
   "file_extension": ".py",
   "mimetype": "text/x-python",
   "name": "python",
   "nbconvert_exporter": "python",
   "pygments_lexer": "ipython3",
   "version": "3.7.9"
  },
  "nbsphinx": {
   "timeout": 600
  },
  "toc": {
   "base_numbering": 1,
   "nav_menu": {},
   "number_sections": true,
   "sideBar": true,
   "skip_h1_title": false,
   "title_cell": "Table of Contents",
   "title_sidebar": "Contents",
   "toc_cell": false,
   "toc_position": {},
   "toc_section_display": true,
   "toc_window_display": false
  },
  "varInspector": {
   "cols": {
    "lenName": 16,
    "lenType": 16,
    "lenVar": 40
   },
   "kernels_config": {
    "python": {
     "delete_cmd_postfix": "",
     "delete_cmd_prefix": "del ",
     "library": "var_list.py",
     "varRefreshCmd": "print(var_dic_list())"
    },
    "r": {
     "delete_cmd_postfix": ") ",
     "delete_cmd_prefix": "rm(",
     "library": "var_list.r",
     "varRefreshCmd": "cat(var_dic_list()) "
    }
   },
   "types_to_exclude": [
    "module",
    "function",
    "builtin_function_or_method",
    "instance",
    "_Feature"
   ],
   "window_display": false
  }
 },
 "nbformat": 4,
 "nbformat_minor": 2
}
