{
 "cells": [
  {
   "cell_type": "markdown",
   "metadata": {},
   "source": [
    "# DataSet Performance\n",
    "\n",
    "This notebook shows the trade-off between inserting data into a database row-by-row and as binary blobs. Inserting the data row-by-row means that we have direct access to all the data and may perform queries directly on the values of the data. On the other hand, as we shall see, this is much slower than inserting the data directly as binary blobs."
   ]
  },
  {
   "cell_type": "markdown",
   "metadata": {},
   "source": [
    "First, we choose a new location for the database to ensure that we don't add a bunch of benchmarking data to the default one."
   ]
  },
  {
   "cell_type": "code",
   "execution_count": 1,
   "metadata": {},
   "outputs": [
    {
     "name": "stdout",
     "output_type": "stream",
     "text": [
      "Logging hadn't been started.\n",
      "Activating auto-logging. Current session state plus future input saved.\n",
      "Filename       : /home/vsts/.qcodes/logs/command_history.log\n",
      "Mode           : append\n",
      "Output logging : True\n",
      "Raw input log  : False\n",
      "Timestamping   : True\n",
      "State          : active\n"
     ]
    },
    {
     "name": "stdout",
     "output_type": "stream",
     "text": [
      "Qcodes Logfile : /home/vsts/.qcodes/logs/200416-18769-qcodes.log\n"
     ]
    }
   ],
   "source": [
    "import os\n",
    "cwd = os.getcwd()\n",
    "import qcodes as qc\n",
    "qc.config[\"core\"][\"db_location\"] = os.path.join(cwd, 'testing.db')\n"
   ]
  },
  {
   "cell_type": "code",
   "execution_count": 2,
   "metadata": {},
   "outputs": [],
   "source": [
    "%matplotlib inline\n",
    "import time\n",
    "import matplotlib.pyplot as plt\n",
    "import numpy as np\n",
    "\n",
    "import qcodes as qc\n",
    "from qcodes.instrument.parameter import ManualParameter\n",
    "from qcodes.dataset.experiment_container import (Experiment,\n",
    "                                                 load_last_experiment,\n",
    "                                                 new_experiment)\n",
    "from qcodes.dataset.sqlite.database import initialise_database\n",
    "from qcodes import load_or_create_experiment\n",
    "from qcodes.dataset.measurements import Measurement"
   ]
  },
  {
   "cell_type": "code",
   "execution_count": 3,
   "metadata": {},
   "outputs": [
    {
     "name": "stdout",
     "output_type": "stream",
     "text": [
      "\r",
      "0it [00:00, ?it/s]"
     ]
    },
    {
     "name": "stdout",
     "output_type": "stream",
     "text": [
      "\r",
      "Upgrading database; v0 -> v1: : 0it [00:00, ?it/s]"
     ]
    },
    {
     "name": "stdout",
     "output_type": "stream",
     "text": [
      "\r",
      "Upgrading database; v0 -> v1: : 0it [00:00, ?it/s]"
     ]
    },
    {
     "name": "stdout",
     "output_type": "stream",
     "text": [
      "\n",
      "\r",
      "  0%|          | 0/1 [00:00<?, ?it/s]"
     ]
    },
    {
     "name": "stdout",
     "output_type": "stream",
     "text": [
      "\r",
      "Upgrading database; v1 -> v2:   0%|          | 0/1 [00:00<?, ?it/s]"
     ]
    },
    {
     "name": "stdout",
     "output_type": "stream",
     "text": [
      "\r",
      "Upgrading database; v1 -> v2: 100%|██████████| 1/1 [00:00<00:00, 1044.92it/s]"
     ]
    },
    {
     "name": "stdout",
     "output_type": "stream",
     "text": [
      "\n",
      "\r",
      "0it [00:00, ?it/s]"
     ]
    },
    {
     "name": "stdout",
     "output_type": "stream",
     "text": [
      "\r",
      "Upgrading database; v2 -> v3: : 0it [00:00, ?it/s]"
     ]
    },
    {
     "name": "stdout",
     "output_type": "stream",
     "text": [
      "\r",
      "Upgrading database; v2 -> v3: : 0it [00:00, ?it/s]"
     ]
    },
    {
     "name": "stdout",
     "output_type": "stream",
     "text": [
      "\n",
      "\r",
      "0it [00:00, ?it/s]"
     ]
    },
    {
     "name": "stdout",
     "output_type": "stream",
     "text": [
      "\r",
      "Upgrading database; v3 -> v4: : 0it [00:00, ?it/s]"
     ]
    },
    {
     "name": "stdout",
     "output_type": "stream",
     "text": [
      "\r",
      "Upgrading database; v3 -> v4: : 0it [00:00, ?it/s]"
     ]
    },
    {
     "name": "stdout",
     "output_type": "stream",
     "text": [
      "\n",
      "\r",
      "  0%|          | 0/1 [00:00<?, ?it/s]"
     ]
    },
    {
     "name": "stdout",
     "output_type": "stream",
     "text": [
      "\r",
      "Upgrading database; v4 -> v5:   0%|          | 0/1 [00:00<?, ?it/s]"
     ]
    },
    {
     "name": "stdout",
     "output_type": "stream",
     "text": [
      "\r",
      "Upgrading database; v4 -> v5: 100%|██████████| 1/1 [00:00<00:00, 1043.36it/s]"
     ]
    },
    {
     "name": "stdout",
     "output_type": "stream",
     "text": [
      "\n",
      "\r",
      "0it [00:00, ?it/s]"
     ]
    },
    {
     "name": "stdout",
     "output_type": "stream",
     "text": [
      "\r",
      "Upgrading database; v5 -> v6: : 0it [00:00, ?it/s]"
     ]
    },
    {
     "name": "stdout",
     "output_type": "stream",
     "text": [
      "\r",
      "Upgrading database; v5 -> v6: : 0it [00:00, ?it/s]"
     ]
    },
    {
     "name": "stdout",
     "output_type": "stream",
     "text": [
      "\n",
      "\r",
      "  0%|          | 0/1 [00:00<?, ?it/s]"
     ]
    },
    {
     "name": "stdout",
     "output_type": "stream",
     "text": [
      "\r",
      "Upgrading database; v6 -> v7:   0%|          | 0/1 [00:00<?, ?it/s]"
     ]
    },
    {
     "name": "stdout",
     "output_type": "stream",
     "text": [
      "\r",
      "Upgrading database; v6 -> v7: 100%|██████████| 1/1 [00:00<00:00, 503.34it/s]"
     ]
    },
    {
     "name": "stdout",
     "output_type": "stream",
     "text": [
      "\n",
      "\r",
      "  0%|          | 0/1 [00:00<?, ?it/s]"
     ]
    },
    {
     "name": "stdout",
     "output_type": "stream",
     "text": [
      "\r",
      "Upgrading database; v7 -> v8:   0%|          | 0/1 [00:00<?, ?it/s]"
     ]
    },
    {
     "name": "stdout",
     "output_type": "stream",
     "text": [
      "\r",
      "Upgrading database; v7 -> v8: 100%|██████████| 1/1 [00:00<00:00, 876.37it/s]"
     ]
    },
    {
     "name": "stdout",
     "output_type": "stream",
     "text": [
      "\n",
      "\r",
      "  0%|          | 0/1 [00:00<?, ?it/s]"
     ]
    },
    {
     "name": "stdout",
     "output_type": "stream",
     "text": [
      "\r",
      "Upgrading database; v8 -> v9:   0%|          | 0/1 [00:00<?, ?it/s]"
     ]
    },
    {
     "name": "stdout",
     "output_type": "stream",
     "text": [
      "\r",
      "Upgrading database; v8 -> v9: 100%|██████████| 1/1 [00:00<00:00, 1059.70it/s]"
     ]
    },
    {
     "name": "stdout",
     "output_type": "stream",
     "text": [
      "\n"
     ]
    }
   ],
   "source": [
    "initialise_database()\n",
    "exp = load_or_create_experiment(experiment_name='tutorial_exp', sample_name=\"no sample\")"
   ]
  },
  {
   "cell_type": "markdown",
   "metadata": {},
   "source": [
    "Here, we define a simple function to benchmark the time it takes to insert n points with either numeric or array data type.\n",
    "We will compare both the time used to call ``add_result`` and the time used for the full measurement."
   ]
  },
  {
   "cell_type": "code",
   "execution_count": 4,
   "metadata": {},
   "outputs": [],
   "source": [
    "def insert_data(paramtype, npoints, nreps=1):\n",
    "\n",
    "    meas = Measurement(exp=exp)\n",
    "\n",
    "    x1 = ManualParameter('x1')\n",
    "    x2 = ManualParameter('x2')\n",
    "    x3 = ManualParameter('x3')\n",
    "    y1 = ManualParameter('y1')\n",
    "    y2 = ManualParameter('y2')\n",
    "\n",
    "    meas.register_parameter(x1, paramtype=paramtype)\n",
    "    meas.register_parameter(x2, paramtype=paramtype)\n",
    "    meas.register_parameter(x3, paramtype=paramtype)\n",
    "    meas.register_parameter(y1, setpoints=[x1, x2, x3],\n",
    "                            paramtype=paramtype)\n",
    "    meas.register_parameter(y2, setpoints=[x1, x2, x3],\n",
    "                            paramtype=paramtype)\n",
    "    start = time.perf_counter()\n",
    "    with meas.run() as datasaver:\n",
    "        start_adding = time.perf_counter()\n",
    "        for i in range(nreps):\n",
    "            datasaver.add_result((x1, np.random.rand(npoints)),\n",
    "                                 (x2, np.random.rand(npoints)),\n",
    "                                 (x3, np.random.rand(npoints)),\n",
    "                                 (y1, np.random.rand(npoints)),\n",
    "                                 (y2, np.random.rand(npoints)))\n",
    "        stop_adding = time.perf_counter()\n",
    "        run_id = datasaver.run_id\n",
    "    stop = time.perf_counter()\n",
    "    tot_time = stop - start\n",
    "    add_time = stop_adding - start_adding\n",
    "    return tot_time, add_time, run_id"
   ]
  },
  {
   "cell_type": "markdown",
   "metadata": {},
   "source": [
    "## Comparison between numeric/array data and binary blob"
   ]
  },
  {
   "cell_type": "markdown",
   "metadata": {},
   "source": [
    "### Case1: Short experiment time"
   ]
  },
  {
   "cell_type": "code",
   "execution_count": 5,
   "metadata": {},
   "outputs": [
    {
     "name": "stdout",
     "output_type": "stream",
     "text": [
      "Starting experimental run with id: 1. \n",
      "Starting experimental run with id: 2. \n",
      "Starting experimental run with id: 3. \n",
      "Starting experimental run with id: 4. \n",
      "Starting experimental run with id: 5. \n"
     ]
    },
    {
     "name": "stdout",
     "output_type": "stream",
     "text": [
      "Starting experimental run with id: 6. \n",
      "Starting experimental run with id: 7. \n"
     ]
    },
    {
     "name": "stdout",
     "output_type": "stream",
     "text": [
      "Starting experimental run with id: 8. \n",
      "Starting experimental run with id: 9. \n"
     ]
    },
    {
     "name": "stdout",
     "output_type": "stream",
     "text": [
      "Starting experimental run with id: 10. \n",
      "Starting experimental run with id: 11. \n"
     ]
    },
    {
     "name": "stdout",
     "output_type": "stream",
     "text": [
      "Starting experimental run with id: 12. \n",
      "Starting experimental run with id: 13. \n"
     ]
    },
    {
     "name": "stdout",
     "output_type": "stream",
     "text": [
      "Starting experimental run with id: 14. \n"
     ]
    }
   ],
   "source": [
    "sizes = [1,500,1000,2000,3000,4000,5000]\n",
    "t_numeric = []\n",
    "t_numeric_add = []\n",
    "t_array = []\n",
    "t_array_add = []\n",
    "for size in sizes:\n",
    "    tn, tna, run_id_n =  insert_data('numeric', size)\n",
    "    t_numeric.append(tn)\n",
    "    t_numeric_add.append(tna)\n",
    "\n",
    "    ta, taa, run_id_a =  insert_data('array', size)\n",
    "    t_array.append(ta)\n",
    "    t_array_add.append(taa)"
   ]
  },
  {
   "cell_type": "code",
   "execution_count": 6,
   "metadata": {},
   "outputs": [
    {
     "data": {
      "image/png": "[encoded data removed]",
      "text/plain": [
       "<Figure size 432x288 with 1 Axes>"
      ]
     },
     "metadata": {
      "needs_background": "light"
     },
     "output_type": "display_data"
    }
   ],
   "source": [
    "fig, ax = plt.subplots(1,1)\n",
    "ax.plot(sizes, t_numeric, 'o-', label='Inserting row-by-row')\n",
    "ax.plot(sizes, t_numeric_add, 'o-', label='Inserting row-by-row: add_result only')\n",
    "ax.plot(sizes, t_array, 'd-', label='Inserting as binary blob')\n",
    "ax.plot(sizes, t_array_add, 'd-', label='Inserting as binary blob: add_result only')\n",
    "ax.legend()\n",
    "ax.set_xlabel('Array length')\n",
    "ax.set_ylabel('Time (s)')\n",
    "fig.tight_layout()"
   ]
  },
  {
   "cell_type": "markdown",
   "metadata": {},
   "source": [
    "As shown in the latter figure, the time to setup and and close the experiment is approximately 0.4 sec. In case of small array sizes, the difference between inserting values of data as arrays and inserting them row-by-row is relatively unimportant. At larger array sizes, i.e. above 10000 points, the cost of writing data as individual datapoints starts to become important.\n"
   ]
  },
  {
   "cell_type": "markdown",
   "metadata": {},
   "source": [
    "### Case2: Long experiment time "
   ]
  },
  {
   "cell_type": "code",
   "execution_count": 7,
   "metadata": {},
   "outputs": [
    {
     "name": "stdout",
     "output_type": "stream",
     "text": [
      "Starting experimental run with id: 15. \n",
      "Starting experimental run with id: 16. \n",
      "Starting experimental run with id: 17. \n"
     ]
    },
    {
     "name": "stdout",
     "output_type": "stream",
     "text": [
      "Starting experimental run with id: 18. \n",
      "Starting experimental run with id: 19. \n"
     ]
    },
    {
     "name": "stdout",
     "output_type": "stream",
     "text": [
      "Starting experimental run with id: 20. \n"
     ]
    },
    {
     "name": "stdout",
     "output_type": "stream",
     "text": [
      "Starting experimental run with id: 21. \n"
     ]
    },
    {
     "name": "stdout",
     "output_type": "stream",
     "text": [
      "Starting experimental run with id: 22. \n"
     ]
    },
    {
     "name": "stdout",
     "output_type": "stream",
     "text": [
      "Starting experimental run with id: 23. \n"
     ]
    },
    {
     "name": "stdout",
     "output_type": "stream",
     "text": [
      "Starting experimental run with id: 24. \n"
     ]
    },
    {
     "name": "stdout",
     "output_type": "stream",
     "text": [
      "Starting experimental run with id: 25. \n"
     ]
    },
    {
     "name": "stdout",
     "output_type": "stream",
     "text": [
      "Starting experimental run with id: 26. \n"
     ]
    },
    {
     "name": "stdout",
     "output_type": "stream",
     "text": [
      "Starting experimental run with id: 27. \n"
     ]
    },
    {
     "name": "stdout",
     "output_type": "stream",
     "text": [
      "Starting experimental run with id: 28. \n"
     ]
    }
   ],
   "source": [
    "sizes = [1,500,1000,2000,3000,4000,5000]\n",
    "nreps = 100\n",
    "t_numeric = []\n",
    "t_numeric_add = []\n",
    "t_numeric_run_ids = []\n",
    "t_array = []\n",
    "t_array_add = []\n",
    "t_array_run_ids = []\n",
    "for size in sizes:\n",
    "    tn, tna, run_id_n =  insert_data('numeric', size, nreps=nreps)\n",
    "    t_numeric.append(tn)\n",
    "    t_numeric_add.append(tna)\n",
    "    t_numeric_run_ids.append(run_id_n)\n",
    "\n",
    "    ta, taa, run_id_a =  insert_data('array', size, nreps=nreps)\n",
    "    t_array.append(ta)\n",
    "    t_array_add.append(taa)\n",
    "    t_array_run_ids.append(run_id_a)"
   ]
  },
  {
   "cell_type": "code",
   "execution_count": 8,
   "metadata": {
    "scrolled": true
   },
   "outputs": [
    {
     "data": {
      "image/png": "[encoded data removed]",
      "text/plain": [
       "<Figure size 432x288 with 1 Axes>"
      ]
     },
     "metadata": {
      "needs_background": "light"
     },
     "output_type": "display_data"
    }
   ],
   "source": [
    "fig, ax = plt.subplots(1,1)\n",
    "ax.plot(sizes, t_numeric, 'o-', label='Inserting row-by-row')\n",
    "ax.plot(sizes, t_numeric_add, 'o-', label='Inserting row-by-row: add_result only')\n",
    "ax.plot(sizes, t_array, 'd-', label='Inserting as binary blob')\n",
    "ax.plot(sizes, t_array_add, 'd-', label='Inserting as binary blob: add_result only')\n",
    "ax.legend()\n",
    "ax.set_xlabel('Array length')\n",
    "ax.set_ylabel('Time (s)')\n",
    "fig.tight_layout()"
   ]
  },
  {
   "cell_type": "markdown",
   "metadata": {},
   "source": [
    "However, as we increase the length of the experiment, as seen here by repeating the insertion 100 times, we see a big difference between inserting values of the data row-by-row and inserting it as a binary blob."
   ]
  },
  {
   "cell_type": "markdown",
   "metadata": {},
   "source": [
    "## Loading the data "
   ]
  },
  {
   "cell_type": "code",
   "execution_count": 9,
   "metadata": {},
   "outputs": [],
   "source": [
    "from qcodes.dataset.data_set import load_by_id\n",
    "from qcodes.dataset.data_export import get_data_by_id"
   ]
  },
  {
   "cell_type": "markdown",
   "metadata": {},
   "source": [
    "As usual you can load the data by using the ``load_by_id`` function but you will notice that the different storage methods\n",
    "are reflected in shape of the data as it is retrieved. "
   ]
  },
  {
   "cell_type": "code",
   "execution_count": 10,
   "metadata": {},
   "outputs": [],
   "source": [
    "run_id_n = t_numeric_run_ids[0]\n",
    "run_id_a = t_array_run_ids[0]"
   ]
  },
  {
   "cell_type": "code",
   "execution_count": 11,
   "metadata": {
    "scrolled": true
   },
   "outputs": [
    {
     "data": {
      "text/plain": [
       "{'x1': {'x1': array([0.21917711, 0.21917711, 0.71000318, 0.71000318, 0.45869561,\n",
       "         0.45869561, 0.46541318, 0.46541318, 0.01435677, 0.01435677,\n",
       "         0.80006966, 0.80006966, 0.70902119, 0.70902119, 0.72706709,\n",
       "         0.72706709, 0.04574   , 0.04574   , 0.97270924, 0.97270924,\n",
       "         0.47256286, 0.47256286, 0.87412139, 0.87412139, 0.74876569,\n",
       "         0.74876569, 0.98441178, 0.98441178, 0.25460718, 0.25460718,\n",
       "         0.37158985, 0.37158985, 0.04581973, 0.04581973, 0.19797541,\n",
       "         0.19797541, 0.06658092, 0.06658092, 0.79243501, 0.79243501,\n",
       "         0.9576366 , 0.9576366 , 0.05208114, 0.05208114, 0.41849725,\n",
       "         0.41849725, 0.34904776, 0.34904776, 0.97784762, 0.97784762,\n",
       "         0.92159063, 0.92159063, 0.59271113, 0.59271113, 0.94375457,\n",
       "         0.94375457, 0.19764391, 0.19764391, 0.43841546, 0.43841546,\n",
       "         0.33702928, 0.33702928, 0.02046913, 0.02046913, 0.55565582,\n",
       "         0.55565582, 0.97252728, 0.97252728, 0.45275467, 0.45275467,\n",
       "         0.65701641, 0.65701641, 0.37833288, 0.37833288, 0.00138279,\n",
       "         0.00138279, 0.34237951, 0.34237951, 0.97669523, 0.97669523,\n",
       "         0.44014607, 0.44014607, 0.49559519, 0.49559519, 0.64218453,\n",
       "         0.64218453, 0.18289021, 0.18289021, 0.88032995, 0.88032995,\n",
       "         0.48772029, 0.48772029, 0.97137783, 0.97137783, 0.33111035,\n",
       "         0.33111035, 0.87548444, 0.87548444, 0.84551788, 0.84551788,\n",
       "         0.08286582, 0.08286582, 0.11213925, 0.11213925, 0.73254096,\n",
       "         0.73254096, 0.33685845, 0.33685845, 0.04400135, 0.04400135,\n",
       "         0.99764309, 0.99764309, 0.31881902, 0.31881902, 0.52348328,\n",
       "         0.52348328, 0.3608381 , 0.3608381 , 0.57741571, 0.57741571,\n",
       "         0.99088698, 0.99088698, 0.24405139, 0.24405139, 0.39564515,\n",
       "         0.39564515, 0.97564139, 0.97564139, 0.95598708, 0.95598708,\n",
       "         0.96202242, 0.96202242, 0.13305134, 0.13305134, 0.84628919,\n",
       "         0.84628919, 0.61463666, 0.61463666, 0.29594377, 0.29594377,\n",
       "         0.70196994, 0.70196994, 0.30590665, 0.30590665, 0.29294656,\n",
       "         0.29294656, 0.99564991, 0.99564991, 0.04666201, 0.04666201,\n",
       "         0.3311755 , 0.3311755 , 0.72968593, 0.72968593, 0.50977171,\n",
       "         0.50977171, 0.67231866, 0.67231866, 0.35602997, 0.35602997,\n",
       "         0.26610424, 0.26610424, 0.50022378, 0.50022378, 0.00604761,\n",
       "         0.00604761, 0.41024507, 0.41024507, 0.45709079, 0.45709079,\n",
       "         0.70375744, 0.70375744, 0.4084979 , 0.4084979 , 0.96071837,\n",
       "         0.96071837, 0.57880995, 0.57880995, 0.91275495, 0.91275495,\n",
       "         0.01195358, 0.01195358, 0.84904063, 0.84904063, 0.75348872,\n",
       "         0.75348872, 0.19761474, 0.19761474, 0.96957586, 0.96957586,\n",
       "         0.83057532, 0.83057532, 0.27275021, 0.27275021, 0.73386125,\n",
       "         0.73386125, 0.73550272, 0.73550272, 0.86751943, 0.86751943])}}"
      ]
     },
     "execution_count": 11,
     "metadata": {},
     "output_type": "execute_result"
    }
   ],
   "source": [
    "ds = load_by_id(run_id_n)\n",
    "ds.get_parameter_data('x1')"
   ]
  },
  {
   "cell_type": "markdown",
   "metadata": {},
   "source": [
    "And a dataset stored as binary arrays"
   ]
  },
  {
   "cell_type": "code",
   "execution_count": 12,
   "metadata": {
    "scrolled": true
   },
   "outputs": [
    {
     "data": {
      "text/plain": [
       "{'x1': {'x1': array([[0.47377076],\n",
       "         [0.47377076],\n",
       "         [0.24117205],\n",
       "         [0.24117205],\n",
       "         [0.01164663],\n",
       "         [0.01164663],\n",
       "         [0.13107428],\n",
       "         [0.13107428],\n",
       "         [0.65497324],\n",
       "         [0.65497324],\n",
       "         [0.67641737],\n",
       "         [0.67641737],\n",
       "         [0.12180395],\n",
       "         [0.12180395],\n",
       "         [0.91297191],\n",
       "         [0.91297191],\n",
       "         [0.0577049 ],\n",
       "         [0.0577049 ],\n",
       "         [0.56276431],\n",
       "         [0.56276431],\n",
       "         [0.90034975],\n",
       "         [0.90034975],\n",
       "         [0.4989825 ],\n",
       "         [0.4989825 ],\n",
       "         [0.05513846],\n",
       "         [0.05513846],\n",
       "         [0.42677743],\n",
       "         [0.42677743],\n",
       "         [0.41396302],\n",
       "         [0.41396302],\n",
       "         [0.69450759],\n",
       "         [0.69450759],\n",
       "         [0.43857033],\n",
       "         [0.43857033],\n",
       "         [0.15187199],\n",
       "         [0.15187199],\n",
       "         [0.58304875],\n",
       "         [0.58304875],\n",
       "         [0.12226838],\n",
       "         [0.12226838],\n",
       "         [0.1176305 ],\n",
       "         [0.1176305 ],\n",
       "         [0.27872681],\n",
       "         [0.27872681],\n",
       "         [0.12831322],\n",
       "         [0.12831322],\n",
       "         [0.44683903],\n",
       "         [0.44683903],\n",
       "         [0.79019255],\n",
       "         [0.79019255],\n",
       "         [0.12335824],\n",
       "         [0.12335824],\n",
       "         [0.22595014],\n",
       "         [0.22595014],\n",
       "         [0.95072406],\n",
       "         [0.95072406],\n",
       "         [0.41201226],\n",
       "         [0.41201226],\n",
       "         [0.6867357 ],\n",
       "         [0.6867357 ],\n",
       "         [0.49928037],\n",
       "         [0.49928037],\n",
       "         [0.13334096],\n",
       "         [0.13334096],\n",
       "         [0.4761584 ],\n",
       "         [0.4761584 ],\n",
       "         [0.048175  ],\n",
       "         [0.048175  ],\n",
       "         [0.81874912],\n",
       "         [0.81874912],\n",
       "         [0.47254805],\n",
       "         [0.47254805],\n",
       "         [0.95419877],\n",
       "         [0.95419877],\n",
       "         [0.34242042],\n",
       "         [0.34242042],\n",
       "         [0.73976282],\n",
       "         [0.73976282],\n",
       "         [0.69247017],\n",
       "         [0.69247017],\n",
       "         [0.8976706 ],\n",
       "         [0.8976706 ],\n",
       "         [0.53191644],\n",
       "         [0.53191644],\n",
       "         [0.06338157],\n",
       "         [0.06338157],\n",
       "         [0.16494532],\n",
       "         [0.16494532],\n",
       "         [0.08690346],\n",
       "         [0.08690346],\n",
       "         [0.58024954],\n",
       "         [0.58024954],\n",
       "         [0.95294728],\n",
       "         [0.95294728],\n",
       "         [0.87906961],\n",
       "         [0.87906961],\n",
       "         [0.20579451],\n",
       "         [0.20579451],\n",
       "         [0.44988374],\n",
       "         [0.44988374],\n",
       "         [0.96205043],\n",
       "         [0.96205043],\n",
       "         [0.73959872],\n",
       "         [0.73959872],\n",
       "         [0.48493435],\n",
       "         [0.48493435],\n",
       "         [0.1525365 ],\n",
       "         [0.1525365 ],\n",
       "         [0.81374824],\n",
       "         [0.81374824],\n",
       "         [0.06393129],\n",
       "         [0.06393129],\n",
       "         [0.63411202],\n",
       "         [0.63411202],\n",
       "         [0.82677788],\n",
       "         [0.82677788],\n",
       "         [0.15280132],\n",
       "         [0.15280132],\n",
       "         [0.25477728],\n",
       "         [0.25477728],\n",
       "         [0.61134489],\n",
       "         [0.61134489],\n",
       "         [0.83639828],\n",
       "         [0.83639828],\n",
       "         [0.35836043],\n",
       "         [0.35836043],\n",
       "         [0.54951969],\n",
       "         [0.54951969],\n",
       "         [0.70949676],\n",
       "         [0.70949676],\n",
       "         [0.42650423],\n",
       "         [0.42650423],\n",
       "         [0.82680326],\n",
       "         [0.82680326],\n",
       "         [0.12063877],\n",
       "         [0.12063877],\n",
       "         [0.57830326],\n",
       "         [0.57830326],\n",
       "         [0.95240622],\n",
       "         [0.95240622],\n",
       "         [0.52242245],\n",
       "         [0.52242245],\n",
       "         [0.00989418],\n",
       "         [0.00989418],\n",
       "         [0.10427908],\n",
       "         [0.10427908],\n",
       "         [0.49018964],\n",
       "         [0.49018964],\n",
       "         [0.41488913],\n",
       "         [0.41488913],\n",
       "         [0.28611785],\n",
       "         [0.28611785],\n",
       "         [0.5700656 ],\n",
       "         [0.5700656 ],\n",
       "         [0.35780649],\n",
       "         [0.35780649],\n",
       "         [0.53431989],\n",
       "         [0.53431989],\n",
       "         [0.96977972],\n",
       "         [0.96977972],\n",
       "         [0.90396588],\n",
       "         [0.90396588],\n",
       "         [0.1620078 ],\n",
       "         [0.1620078 ],\n",
       "         [0.6788679 ],\n",
       "         [0.6788679 ],\n",
       "         [0.32129968],\n",
       "         [0.32129968],\n",
       "         [0.9233832 ],\n",
       "         [0.9233832 ],\n",
       "         [0.85444314],\n",
       "         [0.85444314],\n",
       "         [0.46179328],\n",
       "         [0.46179328],\n",
       "         [0.43763813],\n",
       "         [0.43763813],\n",
       "         [0.96322738],\n",
       "         [0.96322738],\n",
       "         [0.20535525],\n",
       "         [0.20535525],\n",
       "         [0.19718709],\n",
       "         [0.19718709],\n",
       "         [0.88608509],\n",
       "         [0.88608509],\n",
       "         [0.22653997],\n",
       "         [0.22653997],\n",
       "         [0.86063606],\n",
       "         [0.86063606],\n",
       "         [0.82861079],\n",
       "         [0.82861079],\n",
       "         [0.15525689],\n",
       "         [0.15525689],\n",
       "         [0.78965968],\n",
       "         [0.78965968],\n",
       "         [0.54786349],\n",
       "         [0.54786349],\n",
       "         [0.53028026],\n",
       "         [0.53028026],\n",
       "         [0.50417934],\n",
       "         [0.50417934]])}}"
      ]
     },
     "execution_count": 12,
     "metadata": {},
     "output_type": "execute_result"
    }
   ],
   "source": [
    "ds = load_by_id(run_id_a)\n",
    "ds.get_parameter_data('x1')"
   ]
  },
  {
   "cell_type": "code",
   "execution_count": null,
   "metadata": {},
   "outputs": [],
   "source": []
  }
 ],
 "metadata": {
  "kernelspec": {
   "display_name": "Python 3",
   "language": "python",
   "name": "python3"
  },
  "language_info": {
   "codemirror_mode": {
    "name": "ipython",
    "version": 3
   },
   "file_extension": ".py",
   "mimetype": "text/x-python",
   "name": "python",
   "nbconvert_exporter": "python",
   "pygments_lexer": "ipython3",
   "version": "3.7.7"
  },
  "nbsphinx": {
   "timeout": 600
  },
  "toc": {
   "base_numbering": 1,
   "nav_menu": {},
   "number_sections": true,
   "sideBar": true,
   "skip_h1_title": false,
   "title_cell": "Table of Contents",
   "title_sidebar": "Contents",
   "toc_cell": false,
   "toc_position": {},
   "toc_section_display": true,
   "toc_window_display": false
  },
  "varInspector": {
   "cols": {
    "lenName": 16,
    "lenType": 16,
    "lenVar": 40
   },
   "kernels_config": {
    "python": {
     "delete_cmd_postfix": "",
     "delete_cmd_prefix": "del ",
     "library": "var_list.py",
     "varRefreshCmd": "print(var_dic_list())"
    },
    "r": {
     "delete_cmd_postfix": ") ",
     "delete_cmd_prefix": "rm(",
     "library": "var_list.r",
     "varRefreshCmd": "cat(var_dic_list()) "
    }
   },
   "types_to_exclude": [
    "module",
    "function",
    "builtin_function_or_method",
    "instance",
    "_Feature"
   ],
   "window_display": false
  }
 },
 "nbformat": 4,
 "nbformat_minor": 2
}
