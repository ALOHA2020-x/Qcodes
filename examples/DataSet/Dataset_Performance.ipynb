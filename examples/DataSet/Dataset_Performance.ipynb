{
 "cells": [
  {
   "cell_type": "markdown",
   "metadata": {},
   "source": [
    "# DataSet Performance\n",
    "\n",
    "This notebook shows the trade-off between inserting data into a database row-by-row and as binary blobs. Inserting the data row-by-row means that we have direct access to all the data and may perform queries directly on the values of the data. On the other hand, as we shall see, this is much slower than inserting the data directly as binary blobs."
   ]
  },
  {
   "cell_type": "markdown",
   "metadata": {},
   "source": [
    "First, we choose a new location for the database to ensure that we don't add a bunch of benchmarking data to the default one."
   ]
  },
  {
   "cell_type": "code",
   "execution_count": 1,
   "metadata": {
    "execution": {
     "iopub.execute_input": "2021-01-04T13:38:12.894019Z",
     "iopub.status.busy": "2021-01-04T13:38:12.893507Z",
     "iopub.status.idle": "2021-01-04T13:38:14.000235Z",
     "shell.execute_reply": "2021-01-04T13:38:13.999601Z"
    }
   },
   "outputs": [
    {
     "name": "stdout",
     "output_type": "stream",
     "text": [
      "Logging hadn't been started.\n",
      "Activating auto-logging. Current session state plus future input saved.\n",
      "Filename       : /home/vsts/.qcodes/logs/command_history.log\n",
      "Mode           : append\n",
      "Output logging : True\n",
      "Raw input log  : False\n",
      "Timestamping   : True\n",
      "State          : active\n"
     ]
    },
    {
     "name": "stdout",
     "output_type": "stream",
     "text": [
      "Qcodes Logfile : /home/vsts/.qcodes/logs/210104-13150-qcodes.log\n"
     ]
    }
   ],
   "source": [
    "import os\n",
    "cwd = os.getcwd()\n",
    "import qcodes as qc\n",
    "qc.config[\"core\"][\"db_location\"] = os.path.join(cwd, 'testing.db')\n"
   ]
  },
  {
   "cell_type": "code",
   "execution_count": 2,
   "metadata": {
    "execution": {
     "iopub.execute_input": "2021-01-04T13:38:14.006975Z",
     "iopub.status.busy": "2021-01-04T13:38:14.005882Z",
     "iopub.status.idle": "2021-01-04T13:38:14.200733Z",
     "shell.execute_reply": "2021-01-04T13:38:14.200165Z"
    }
   },
   "outputs": [],
   "source": [
    "%matplotlib inline\n",
    "import time\n",
    "import matplotlib.pyplot as plt\n",
    "import numpy as np\n",
    "\n",
    "import qcodes as qc\n",
    "from qcodes.instrument.parameter import ManualParameter\n",
    "from qcodes.dataset.experiment_container import (Experiment,\n",
    "                                                 load_last_experiment,\n",
    "                                                 new_experiment)\n",
    "from qcodes.dataset.sqlite.database import initialise_database\n",
    "from qcodes import load_or_create_experiment\n",
    "from qcodes.dataset.measurements import Measurement"
   ]
  },
  {
   "cell_type": "code",
   "execution_count": 3,
   "metadata": {
    "execution": {
     "iopub.execute_input": "2021-01-04T13:38:14.204885Z",
     "iopub.status.busy": "2021-01-04T13:38:14.204231Z",
     "iopub.status.idle": "2021-01-04T13:38:14.322765Z",
     "shell.execute_reply": "2021-01-04T13:38:14.322210Z"
    }
   },
   "outputs": [
    {
     "name": "stdout",
     "output_type": "stream",
     "text": [
      "\r",
      "0it [00:00, ?it/s]"
     ]
    },
    {
     "name": "stdout",
     "output_type": "stream",
     "text": [
      "\r",
      "Upgrading database; v0 -> v1: : 0it [00:00, ?it/s]"
     ]
    },
    {
     "name": "stdout",
     "output_type": "stream",
     "text": [
      "\r",
      "Upgrading database; v0 -> v1: : 0it [00:00, ?it/s]"
     ]
    },
    {
     "name": "stdout",
     "output_type": "stream",
     "text": [
      "\n",
      "\r",
      "  0%|          | 0/1 [00:00<?, ?it/s]"
     ]
    },
    {
     "name": "stdout",
     "output_type": "stream",
     "text": [
      "\r",
      "Upgrading database; v1 -> v2:   0%|          | 0/1 [00:00<?, ?it/s]"
     ]
    },
    {
     "name": "stdout",
     "output_type": "stream",
     "text": [
      "\r",
      "Upgrading database; v1 -> v2: 100%|██████████| 1/1 [00:00<00:00, 625.08it/s]"
     ]
    },
    {
     "name": "stdout",
     "output_type": "stream",
     "text": [
      "\n",
      "\r",
      "0it [00:00, ?it/s]"
     ]
    },
    {
     "name": "stdout",
     "output_type": "stream",
     "text": [
      "\r",
      "Upgrading database; v2 -> v3: : 0it [00:00, ?it/s]"
     ]
    },
    {
     "name": "stdout",
     "output_type": "stream",
     "text": [
      "\r",
      "Upgrading database; v2 -> v3: : 0it [00:00, ?it/s]"
     ]
    },
    {
     "name": "stdout",
     "output_type": "stream",
     "text": [
      "\n",
      "\r",
      "0it [00:00, ?it/s]"
     ]
    },
    {
     "name": "stdout",
     "output_type": "stream",
     "text": [
      "\r",
      "Upgrading database; v3 -> v4: : 0it [00:00, ?it/s]"
     ]
    },
    {
     "name": "stdout",
     "output_type": "stream",
     "text": [
      "\r",
      "Upgrading database; v3 -> v4: : 0it [00:00, ?it/s]"
     ]
    },
    {
     "name": "stdout",
     "output_type": "stream",
     "text": [
      "\n",
      "\r",
      "  0%|          | 0/1 [00:00<?, ?it/s]"
     ]
    },
    {
     "name": "stdout",
     "output_type": "stream",
     "text": [
      "\r",
      "Upgrading database; v4 -> v5:   0%|          | 0/1 [00:00<?, ?it/s]"
     ]
    },
    {
     "name": "stdout",
     "output_type": "stream",
     "text": [
      "\r",
      "Upgrading database; v4 -> v5: 100%|██████████| 1/1 [00:00<00:00, 750.46it/s]"
     ]
    },
    {
     "name": "stdout",
     "output_type": "stream",
     "text": [
      "\n",
      "\r",
      "0it [00:00, ?it/s]"
     ]
    },
    {
     "name": "stdout",
     "output_type": "stream",
     "text": [
      "\r",
      "Upgrading database; v5 -> v6: : 0it [00:00, ?it/s]"
     ]
    },
    {
     "name": "stdout",
     "output_type": "stream",
     "text": [
      "\r",
      "Upgrading database; v5 -> v6: : 0it [00:00, ?it/s]"
     ]
    },
    {
     "name": "stdout",
     "output_type": "stream",
     "text": [
      "\n",
      "\r",
      "  0%|          | 0/1 [00:00<?, ?it/s]"
     ]
    },
    {
     "name": "stdout",
     "output_type": "stream",
     "text": [
      "\r",
      "Upgrading database; v6 -> v7:   0%|          | 0/1 [00:00<?, ?it/s]"
     ]
    },
    {
     "name": "stdout",
     "output_type": "stream",
     "text": [
      "\r",
      "Upgrading database; v6 -> v7: 100%|██████████| 1/1 [00:00<00:00, 300.22it/s]"
     ]
    },
    {
     "name": "stdout",
     "output_type": "stream",
     "text": [
      "\n",
      "\r",
      "  0%|          | 0/1 [00:00<?, ?it/s]"
     ]
    },
    {
     "name": "stdout",
     "output_type": "stream",
     "text": [
      "\r",
      "Upgrading database; v7 -> v8:   0%|          | 0/1 [00:00<?, ?it/s]"
     ]
    },
    {
     "name": "stdout",
     "output_type": "stream",
     "text": [
      "\r",
      "Upgrading database; v7 -> v8: 100%|██████████| 1/1 [00:00<00:00, 892.41it/s]"
     ]
    },
    {
     "name": "stdout",
     "output_type": "stream",
     "text": [
      "\n",
      "\r",
      "  0%|          | 0/1 [00:00<?, ?it/s]"
     ]
    },
    {
     "name": "stdout",
     "output_type": "stream",
     "text": [
      "\r",
      "Upgrading database; v8 -> v9:   0%|          | 0/1 [00:00<?, ?it/s]"
     ]
    },
    {
     "name": "stdout",
     "output_type": "stream",
     "text": [
      "\r",
      "Upgrading database; v8 -> v9: 100%|██████████| 1/1 [00:00<00:00, 438.28it/s]"
     ]
    },
    {
     "name": "stdout",
     "output_type": "stream",
     "text": [
      "\n"
     ]
    }
   ],
   "source": [
    "initialise_database()\n",
    "exp = load_or_create_experiment(experiment_name='tutorial_exp', sample_name=\"no sample\")"
   ]
  },
  {
   "cell_type": "markdown",
   "metadata": {},
   "source": [
    "Here, we define a simple function to benchmark the time it takes to insert n points with either numeric or array data type.\n",
    "We will compare both the time used to call ``add_result`` and the time used for the full measurement."
   ]
  },
  {
   "cell_type": "code",
   "execution_count": 4,
   "metadata": {
    "execution": {
     "iopub.execute_input": "2021-01-04T13:38:14.331449Z",
     "iopub.status.busy": "2021-01-04T13:38:14.330924Z",
     "iopub.status.idle": "2021-01-04T13:38:14.334399Z",
     "shell.execute_reply": "2021-01-04T13:38:14.333866Z"
    }
   },
   "outputs": [],
   "source": [
    "def insert_data(paramtype, npoints, nreps=1):\n",
    "\n",
    "    meas = Measurement(exp=exp)\n",
    "\n",
    "    x1 = ManualParameter('x1')\n",
    "    x2 = ManualParameter('x2')\n",
    "    x3 = ManualParameter('x3')\n",
    "    y1 = ManualParameter('y1')\n",
    "    y2 = ManualParameter('y2')\n",
    "\n",
    "    meas.register_parameter(x1, paramtype=paramtype)\n",
    "    meas.register_parameter(x2, paramtype=paramtype)\n",
    "    meas.register_parameter(x3, paramtype=paramtype)\n",
    "    meas.register_parameter(y1, setpoints=[x1, x2, x3],\n",
    "                            paramtype=paramtype)\n",
    "    meas.register_parameter(y2, setpoints=[x1, x2, x3],\n",
    "                            paramtype=paramtype)\n",
    "    start = time.perf_counter()\n",
    "    with meas.run() as datasaver:\n",
    "        start_adding = time.perf_counter()\n",
    "        for i in range(nreps):\n",
    "            datasaver.add_result((x1, np.random.rand(npoints)),\n",
    "                                 (x2, np.random.rand(npoints)),\n",
    "                                 (x3, np.random.rand(npoints)),\n",
    "                                 (y1, np.random.rand(npoints)),\n",
    "                                 (y2, np.random.rand(npoints)))\n",
    "        stop_adding = time.perf_counter()\n",
    "        run_id = datasaver.run_id\n",
    "    stop = time.perf_counter()\n",
    "    tot_time = stop - start\n",
    "    add_time = stop_adding - start_adding\n",
    "    return tot_time, add_time, run_id"
   ]
  },
  {
   "cell_type": "markdown",
   "metadata": {},
   "source": [
    "## Comparison between numeric/array data and binary blob"
   ]
  },
  {
   "cell_type": "markdown",
   "metadata": {},
   "source": [
    "### Case1: Short experiment time"
   ]
  },
  {
   "cell_type": "code",
   "execution_count": 5,
   "metadata": {
    "execution": {
     "iopub.execute_input": "2021-01-04T13:38:14.341175Z",
     "iopub.status.busy": "2021-01-04T13:38:14.340632Z",
     "iopub.status.idle": "2021-01-04T13:38:15.239915Z",
     "shell.execute_reply": "2021-01-04T13:38:15.239042Z"
    }
   },
   "outputs": [
    {
     "name": "stdout",
     "output_type": "stream",
     "text": [
      "Starting experimental run with id: 1. \n",
      "Starting experimental run with id: 2. \n",
      "Starting experimental run with id: 3. \n",
      "Starting experimental run with id: 4. \n",
      "Starting experimental run with id: 5. \n"
     ]
    },
    {
     "name": "stdout",
     "output_type": "stream",
     "text": [
      "Starting experimental run with id: 6. \n"
     ]
    },
    {
     "name": "stdout",
     "output_type": "stream",
     "text": [
      "Starting experimental run with id: 7. \n"
     ]
    },
    {
     "name": "stdout",
     "output_type": "stream",
     "text": [
      "Starting experimental run with id: 8. \n",
      "Starting experimental run with id: 9. \n"
     ]
    },
    {
     "name": "stdout",
     "output_type": "stream",
     "text": [
      "Starting experimental run with id: 10. \n",
      "Starting experimental run with id: 11. \n"
     ]
    },
    {
     "name": "stdout",
     "output_type": "stream",
     "text": [
      "Starting experimental run with id: 12. \n"
     ]
    },
    {
     "name": "stdout",
     "output_type": "stream",
     "text": [
      "Starting experimental run with id: 13. \n"
     ]
    },
    {
     "name": "stdout",
     "output_type": "stream",
     "text": [
      "Starting experimental run with id: 14. \n"
     ]
    }
   ],
   "source": [
    "sizes = [1,500,1000,2000,3000,4000,5000]\n",
    "t_numeric = []\n",
    "t_numeric_add = []\n",
    "t_array = []\n",
    "t_array_add = []\n",
    "for size in sizes:\n",
    "    tn, tna, run_id_n =  insert_data('numeric', size)\n",
    "    t_numeric.append(tn)\n",
    "    t_numeric_add.append(tna)\n",
    "\n",
    "    ta, taa, run_id_a =  insert_data('array', size)\n",
    "    t_array.append(ta)\n",
    "    t_array_add.append(taa)"
   ]
  },
  {
   "cell_type": "code",
   "execution_count": 6,
   "metadata": {
    "execution": {
     "iopub.execute_input": "2021-01-04T13:38:15.272170Z",
     "iopub.status.busy": "2021-01-04T13:38:15.267618Z",
     "iopub.status.idle": "2021-01-04T13:38:15.455832Z",
     "shell.execute_reply": "2021-01-04T13:38:15.455374Z"
    }
   },
   "outputs": [
    {
     "data": {
      "image/png": "[encoded data removed]",
      "text/plain": [
       "<Figure size 432x288 with 1 Axes>"
      ]
     },
     "metadata": {
      "needs_background": "light"
     },
     "output_type": "display_data"
    }
   ],
   "source": [
    "fig, ax = plt.subplots(1,1)\n",
    "ax.plot(sizes, t_numeric, 'o-', label='Inserting row-by-row')\n",
    "ax.plot(sizes, t_numeric_add, 'o-', label='Inserting row-by-row: add_result only')\n",
    "ax.plot(sizes, t_array, 'd-', label='Inserting as binary blob')\n",
    "ax.plot(sizes, t_array_add, 'd-', label='Inserting as binary blob: add_result only')\n",
    "ax.legend()\n",
    "ax.set_xlabel('Array length')\n",
    "ax.set_ylabel('Time (s)')\n",
    "fig.tight_layout()"
   ]
  },
  {
   "cell_type": "markdown",
   "metadata": {},
   "source": [
    "As shown in the latter figure, the time to setup and and close the experiment is approximately 0.4 sec. In case of small array sizes, the difference between inserting values of data as arrays and inserting them row-by-row is relatively unimportant. At larger array sizes, i.e. above 10000 points, the cost of writing data as individual datapoints starts to become important.\n"
   ]
  },
  {
   "cell_type": "markdown",
   "metadata": {},
   "source": [
    "### Case2: Long experiment time "
   ]
  },
  {
   "cell_type": "code",
   "execution_count": 7,
   "metadata": {
    "execution": {
     "iopub.execute_input": "2021-01-04T13:38:15.462926Z",
     "iopub.status.busy": "2021-01-04T13:38:15.461843Z",
     "iopub.status.idle": "2021-01-04T13:39:17.427466Z",
     "shell.execute_reply": "2021-01-04T13:39:17.426611Z"
    }
   },
   "outputs": [
    {
     "name": "stdout",
     "output_type": "stream",
     "text": [
      "Starting experimental run with id: 15. \n",
      "Starting experimental run with id: 16. \n",
      "Starting experimental run with id: 17. \n"
     ]
    },
    {
     "name": "stdout",
     "output_type": "stream",
     "text": [
      "Starting experimental run with id: 18. \n",
      "Starting experimental run with id: 19. \n"
     ]
    },
    {
     "name": "stdout",
     "output_type": "stream",
     "text": [
      "Starting experimental run with id: 20. \n"
     ]
    },
    {
     "name": "stdout",
     "output_type": "stream",
     "text": [
      "Starting experimental run with id: 21. \n"
     ]
    },
    {
     "name": "stdout",
     "output_type": "stream",
     "text": [
      "Starting experimental run with id: 22. \n"
     ]
    },
    {
     "name": "stdout",
     "output_type": "stream",
     "text": [
      "Starting experimental run with id: 23. \n"
     ]
    },
    {
     "name": "stdout",
     "output_type": "stream",
     "text": [
      "Starting experimental run with id: 24. \n"
     ]
    },
    {
     "name": "stdout",
     "output_type": "stream",
     "text": [
      "Starting experimental run with id: 25. \n"
     ]
    },
    {
     "name": "stdout",
     "output_type": "stream",
     "text": [
      "Starting experimental run with id: 26. \n"
     ]
    },
    {
     "name": "stdout",
     "output_type": "stream",
     "text": [
      "Starting experimental run with id: 27. \n"
     ]
    },
    {
     "name": "stdout",
     "output_type": "stream",
     "text": [
      "Starting experimental run with id: 28. \n"
     ]
    }
   ],
   "source": [
    "sizes = [1,500,1000,2000,3000,4000,5000]\n",
    "nreps = 100\n",
    "t_numeric = []\n",
    "t_numeric_add = []\n",
    "t_numeric_run_ids = []\n",
    "t_array = []\n",
    "t_array_add = []\n",
    "t_array_run_ids = []\n",
    "for size in sizes:\n",
    "    tn, tna, run_id_n =  insert_data('numeric', size, nreps=nreps)\n",
    "    t_numeric.append(tn)\n",
    "    t_numeric_add.append(tna)\n",
    "    t_numeric_run_ids.append(run_id_n)\n",
    "\n",
    "    ta, taa, run_id_a =  insert_data('array', size, nreps=nreps)\n",
    "    t_array.append(ta)\n",
    "    t_array_add.append(taa)\n",
    "    t_array_run_ids.append(run_id_a)"
   ]
  },
  {
   "cell_type": "code",
   "execution_count": 8,
   "metadata": {
    "execution": {
     "iopub.execute_input": "2021-01-04T13:39:17.457430Z",
     "iopub.status.busy": "2021-01-04T13:39:17.443880Z",
     "iopub.status.idle": "2021-01-04T13:39:17.629843Z",
     "shell.execute_reply": "2021-01-04T13:39:17.630573Z"
    },
    "scrolled": true
   },
   "outputs": [
    {
     "data": {
      "image/png": "[encoded data removed]",
      "text/plain": [
       "<Figure size 432x288 with 1 Axes>"
      ]
     },
     "metadata": {
      "needs_background": "light"
     },
     "output_type": "display_data"
    }
   ],
   "source": [
    "fig, ax = plt.subplots(1,1)\n",
    "ax.plot(sizes, t_numeric, 'o-', label='Inserting row-by-row')\n",
    "ax.plot(sizes, t_numeric_add, 'o-', label='Inserting row-by-row: add_result only')\n",
    "ax.plot(sizes, t_array, 'd-', label='Inserting as binary blob')\n",
    "ax.plot(sizes, t_array_add, 'd-', label='Inserting as binary blob: add_result only')\n",
    "ax.legend()\n",
    "ax.set_xlabel('Array length')\n",
    "ax.set_ylabel('Time (s)')\n",
    "fig.tight_layout()"
   ]
  },
  {
   "cell_type": "markdown",
   "metadata": {},
   "source": [
    "However, as we increase the length of the experiment, as seen here by repeating the insertion 100 times, we see a big difference between inserting values of the data row-by-row and inserting it as a binary blob."
   ]
  },
  {
   "cell_type": "markdown",
   "metadata": {},
   "source": [
    "## Loading the data "
   ]
  },
  {
   "cell_type": "code",
   "execution_count": 9,
   "metadata": {
    "execution": {
     "iopub.execute_input": "2021-01-04T13:39:17.634406Z",
     "iopub.status.busy": "2021-01-04T13:39:17.633902Z",
     "iopub.status.idle": "2021-01-04T13:39:17.637932Z",
     "shell.execute_reply": "2021-01-04T13:39:17.637493Z"
    }
   },
   "outputs": [],
   "source": [
    "from qcodes.dataset.data_set import load_by_id\n",
    "from qcodes.dataset.data_export import get_data_by_id"
   ]
  },
  {
   "cell_type": "markdown",
   "metadata": {},
   "source": [
    "As usual you can load the data by using the ``load_by_id`` function but you will notice that the different storage methods\n",
    "are reflected in shape of the data as it is retrieved. "
   ]
  },
  {
   "cell_type": "code",
   "execution_count": 10,
   "metadata": {
    "execution": {
     "iopub.execute_input": "2021-01-04T13:39:17.641936Z",
     "iopub.status.busy": "2021-01-04T13:39:17.641408Z",
     "iopub.status.idle": "2021-01-04T13:39:17.643738Z",
     "shell.execute_reply": "2021-01-04T13:39:17.643304Z"
    }
   },
   "outputs": [],
   "source": [
    "run_id_n = t_numeric_run_ids[0]\n",
    "run_id_a = t_array_run_ids[0]"
   ]
  },
  {
   "cell_type": "code",
   "execution_count": 11,
   "metadata": {
    "execution": {
     "iopub.execute_input": "2021-01-04T13:39:17.646807Z",
     "iopub.status.busy": "2021-01-04T13:39:17.646296Z",
     "iopub.status.idle": "2021-01-04T13:39:17.656441Z",
     "shell.execute_reply": "2021-01-04T13:39:17.655987Z"
    },
    "scrolled": true
   },
   "outputs": [
    {
     "data": {
      "text/plain": [
       "{'x1': {'x1': array([0.63679495, 0.63679495, 0.26500914, 0.26500914, 0.0781529 ,\n",
       "         0.0781529 , 0.59682828, 0.59682828, 0.49084579, 0.49084579,\n",
       "         0.85039228, 0.85039228, 0.86797629, 0.86797629, 0.80715615,\n",
       "         0.80715615, 0.37848935, 0.37848935, 0.81180205, 0.81180205,\n",
       "         0.39956573, 0.39956573, 0.78256546, 0.78256546, 0.65172659,\n",
       "         0.65172659, 0.09861608, 0.09861608, 0.7751557 , 0.7751557 ,\n",
       "         0.87799896, 0.87799896, 0.83756884, 0.83756884, 0.10307635,\n",
       "         0.10307635, 0.77859349, 0.77859349, 0.0257442 , 0.0257442 ,\n",
       "         0.85898059, 0.85898059, 0.60138342, 0.60138342, 0.61186652,\n",
       "         0.61186652, 0.90811059, 0.90811059, 0.547714  , 0.547714  ,\n",
       "         0.16547771, 0.16547771, 0.4557236 , 0.4557236 , 0.11522283,\n",
       "         0.11522283, 0.58710184, 0.58710184, 0.69595915, 0.69595915,\n",
       "         0.83576303, 0.83576303, 0.77047736, 0.77047736, 0.82545801,\n",
       "         0.82545801, 0.13898217, 0.13898217, 0.48507569, 0.48507569,\n",
       "         0.07028498, 0.07028498, 0.67853914, 0.67853914, 0.56628771,\n",
       "         0.56628771, 0.62249743, 0.62249743, 0.12222407, 0.12222407,\n",
       "         0.45303569, 0.45303569, 0.85304798, 0.85304798, 0.27814943,\n",
       "         0.27814943, 0.94564486, 0.94564486, 0.67556732, 0.67556732,\n",
       "         0.85546865, 0.85546865, 0.24646077, 0.24646077, 0.87320657,\n",
       "         0.87320657, 0.0505591 , 0.0505591 , 0.13727922, 0.13727922,\n",
       "         0.27282027, 0.27282027, 0.71816442, 0.71816442, 0.03058202,\n",
       "         0.03058202, 0.48674136, 0.48674136, 0.7590459 , 0.7590459 ,\n",
       "         0.48140998, 0.48140998, 0.07142171, 0.07142171, 0.73251283,\n",
       "         0.73251283, 0.70755472, 0.70755472, 0.98019785, 0.98019785,\n",
       "         0.76979575, 0.76979575, 0.09570512, 0.09570512, 0.37453757,\n",
       "         0.37453757, 0.38524661, 0.38524661, 0.52903766, 0.52903766,\n",
       "         0.73899806, 0.73899806, 0.42714431, 0.42714431, 0.77615939,\n",
       "         0.77615939, 0.68123362, 0.68123362, 0.18760097, 0.18760097,\n",
       "         0.13026035, 0.13026035, 0.23367452, 0.23367452, 0.32732039,\n",
       "         0.32732039, 0.17390226, 0.17390226, 0.5582726 , 0.5582726 ,\n",
       "         0.81255029, 0.81255029, 0.04256925, 0.04256925, 0.78826964,\n",
       "         0.78826964, 0.68566869, 0.68566869, 0.7527667 , 0.7527667 ,\n",
       "         0.04561499, 0.04561499, 0.16294278, 0.16294278, 0.437833  ,\n",
       "         0.437833  , 0.96384598, 0.96384598, 0.50139862, 0.50139862,\n",
       "         0.33977416, 0.33977416, 0.84011477, 0.84011477, 0.05026475,\n",
       "         0.05026475, 0.42504858, 0.42504858, 0.5762979 , 0.5762979 ,\n",
       "         0.35745801, 0.35745801, 0.07698971, 0.07698971, 0.91121256,\n",
       "         0.91121256, 0.17361369, 0.17361369, 0.41550843, 0.41550843,\n",
       "         0.37260982, 0.37260982, 0.64689415, 0.64689415, 0.6892893 ,\n",
       "         0.6892893 , 0.4437706 , 0.4437706 , 0.99427275, 0.99427275])}}"
      ]
     },
     "execution_count": 1,
     "metadata": {},
     "output_type": "execute_result"
    }
   ],
   "source": [
    "ds = load_by_id(run_id_n)\n",
    "ds.get_parameter_data('x1')"
   ]
  },
  {
   "cell_type": "markdown",
   "metadata": {},
   "source": [
    "And a dataset stored as binary arrays"
   ]
  },
  {
   "cell_type": "code",
   "execution_count": 12,
   "metadata": {
    "execution": {
     "iopub.execute_input": "2021-01-04T13:39:17.659707Z",
     "iopub.status.busy": "2021-01-04T13:39:17.659214Z",
     "iopub.status.idle": "2021-01-04T13:39:17.715572Z",
     "shell.execute_reply": "2021-01-04T13:39:17.716067Z"
    },
    "scrolled": true
   },
   "outputs": [
    {
     "data": {
      "text/plain": [
       "{'x1': {'x1': array([[0.68051625],\n",
       "         [0.68051625],\n",
       "         [0.31468845],\n",
       "         [0.31468845],\n",
       "         [0.45647325],\n",
       "         [0.45647325],\n",
       "         [0.5448597 ],\n",
       "         [0.5448597 ],\n",
       "         [0.58443012],\n",
       "         [0.58443012],\n",
       "         [0.10243465],\n",
       "         [0.10243465],\n",
       "         [0.1332341 ],\n",
       "         [0.1332341 ],\n",
       "         [0.76102836],\n",
       "         [0.76102836],\n",
       "         [0.66245969],\n",
       "         [0.66245969],\n",
       "         [0.70497755],\n",
       "         [0.70497755],\n",
       "         [0.50279862],\n",
       "         [0.50279862],\n",
       "         [0.54441784],\n",
       "         [0.54441784],\n",
       "         [0.45449079],\n",
       "         [0.45449079],\n",
       "         [0.64351139],\n",
       "         [0.64351139],\n",
       "         [0.48720694],\n",
       "         [0.48720694],\n",
       "         [0.99850843],\n",
       "         [0.99850843],\n",
       "         [0.56857973],\n",
       "         [0.56857973],\n",
       "         [0.37885087],\n",
       "         [0.37885087],\n",
       "         [0.24605878],\n",
       "         [0.24605878],\n",
       "         [0.22601684],\n",
       "         [0.22601684],\n",
       "         [0.79488641],\n",
       "         [0.79488641],\n",
       "         [0.33904581],\n",
       "         [0.33904581],\n",
       "         [0.08052564],\n",
       "         [0.08052564],\n",
       "         [0.81627011],\n",
       "         [0.81627011],\n",
       "         [0.22312756],\n",
       "         [0.22312756],\n",
       "         [0.18650512],\n",
       "         [0.18650512],\n",
       "         [0.38674424],\n",
       "         [0.38674424],\n",
       "         [0.15753466],\n",
       "         [0.15753466],\n",
       "         [0.95190404],\n",
       "         [0.95190404],\n",
       "         [0.5522129 ],\n",
       "         [0.5522129 ],\n",
       "         [0.32607424],\n",
       "         [0.32607424],\n",
       "         [0.56109369],\n",
       "         [0.56109369],\n",
       "         [0.12710963],\n",
       "         [0.12710963],\n",
       "         [0.48906485],\n",
       "         [0.48906485],\n",
       "         [0.83069839],\n",
       "         [0.83069839],\n",
       "         [0.89780528],\n",
       "         [0.89780528],\n",
       "         [0.58288905],\n",
       "         [0.58288905],\n",
       "         [0.72432244],\n",
       "         [0.72432244],\n",
       "         [0.43176083],\n",
       "         [0.43176083],\n",
       "         [0.54245909],\n",
       "         [0.54245909],\n",
       "         [0.42495945],\n",
       "         [0.42495945],\n",
       "         [0.05089718],\n",
       "         [0.05089718],\n",
       "         [0.35841893],\n",
       "         [0.35841893],\n",
       "         [0.02199248],\n",
       "         [0.02199248],\n",
       "         [0.16054536],\n",
       "         [0.16054536],\n",
       "         [0.00998501],\n",
       "         [0.00998501],\n",
       "         [0.37107709],\n",
       "         [0.37107709],\n",
       "         [0.89298666],\n",
       "         [0.89298666],\n",
       "         [0.62347205],\n",
       "         [0.62347205],\n",
       "         [0.67880778],\n",
       "         [0.67880778],\n",
       "         [0.34154894],\n",
       "         [0.34154894],\n",
       "         [0.4201401 ],\n",
       "         [0.4201401 ],\n",
       "         [0.50018895],\n",
       "         [0.50018895],\n",
       "         [0.38078719],\n",
       "         [0.38078719],\n",
       "         [0.58594651],\n",
       "         [0.58594651],\n",
       "         [0.60009178],\n",
       "         [0.60009178],\n",
       "         [0.84743736],\n",
       "         [0.84743736],\n",
       "         [0.98677129],\n",
       "         [0.98677129],\n",
       "         [0.4895444 ],\n",
       "         [0.4895444 ],\n",
       "         [0.18805405],\n",
       "         [0.18805405],\n",
       "         [0.85992212],\n",
       "         [0.85992212],\n",
       "         [0.44353427],\n",
       "         [0.44353427],\n",
       "         [0.4511637 ],\n",
       "         [0.4511637 ],\n",
       "         [0.07588256],\n",
       "         [0.07588256],\n",
       "         [0.67619806],\n",
       "         [0.67619806],\n",
       "         [0.6675756 ],\n",
       "         [0.6675756 ],\n",
       "         [0.10973194],\n",
       "         [0.10973194],\n",
       "         [0.06678404],\n",
       "         [0.06678404],\n",
       "         [0.23073992],\n",
       "         [0.23073992],\n",
       "         [0.27767001],\n",
       "         [0.27767001],\n",
       "         [0.86876633],\n",
       "         [0.86876633],\n",
       "         [0.39072775],\n",
       "         [0.39072775],\n",
       "         [0.55864867],\n",
       "         [0.55864867],\n",
       "         [0.59455892],\n",
       "         [0.59455892],\n",
       "         [0.72893343],\n",
       "         [0.72893343],\n",
       "         [0.10452867],\n",
       "         [0.10452867],\n",
       "         [0.77351485],\n",
       "         [0.77351485],\n",
       "         [0.55486195],\n",
       "         [0.55486195],\n",
       "         [0.98539311],\n",
       "         [0.98539311],\n",
       "         [0.89936405],\n",
       "         [0.89936405],\n",
       "         [0.13686815],\n",
       "         [0.13686815],\n",
       "         [0.31072316],\n",
       "         [0.31072316],\n",
       "         [0.76762355],\n",
       "         [0.76762355],\n",
       "         [0.89630493],\n",
       "         [0.89630493],\n",
       "         [0.72317279],\n",
       "         [0.72317279],\n",
       "         [0.12627482],\n",
       "         [0.12627482],\n",
       "         [0.11476603],\n",
       "         [0.11476603],\n",
       "         [0.05371595],\n",
       "         [0.05371595],\n",
       "         [0.95041087],\n",
       "         [0.95041087],\n",
       "         [0.95884467],\n",
       "         [0.95884467],\n",
       "         [0.5616701 ],\n",
       "         [0.5616701 ],\n",
       "         [0.12059502],\n",
       "         [0.12059502],\n",
       "         [0.62381249],\n",
       "         [0.62381249],\n",
       "         [0.31948615],\n",
       "         [0.31948615],\n",
       "         [0.01652022],\n",
       "         [0.01652022],\n",
       "         [0.16076023],\n",
       "         [0.16076023],\n",
       "         [0.86919021],\n",
       "         [0.86919021],\n",
       "         [0.75488287],\n",
       "         [0.75488287],\n",
       "         [0.25238414],\n",
       "         [0.25238414],\n",
       "         [0.13051859],\n",
       "         [0.13051859]])}}"
      ]
     },
     "execution_count": 1,
     "metadata": {},
     "output_type": "execute_result"
    }
   ],
   "source": [
    "ds = load_by_id(run_id_a)\n",
    "ds.get_parameter_data('x1')"
   ]
  },
  {
   "cell_type": "code",
   "execution_count": null,
   "metadata": {},
   "outputs": [],
   "source": []
  }
 ],
 "metadata": {
  "kernelspec": {
   "display_name": "Python 3",
   "language": "python",
   "name": "python3"
  },
  "language_info": {
   "codemirror_mode": {
    "name": "ipython",
    "version": 3
   },
   "file_extension": ".py",
   "mimetype": "text/x-python",
   "name": "python",
   "nbconvert_exporter": "python",
   "pygments_lexer": "ipython3",
   "version": "3.7.9"
  },
  "nbsphinx": {
   "timeout": 600
  },
  "toc": {
   "base_numbering": 1,
   "nav_menu": {},
   "number_sections": true,
   "sideBar": true,
   "skip_h1_title": false,
   "title_cell": "Table of Contents",
   "title_sidebar": "Contents",
   "toc_cell": false,
   "toc_position": {},
   "toc_section_display": true,
   "toc_window_display": false
  },
  "varInspector": {
   "cols": {
    "lenName": 16,
    "lenType": 16,
    "lenVar": 40
   },
   "kernels_config": {
    "python": {
     "delete_cmd_postfix": "",
     "delete_cmd_prefix": "del ",
     "library": "var_list.py",
     "varRefreshCmd": "print(var_dic_list())"
    },
    "r": {
     "delete_cmd_postfix": ") ",
     "delete_cmd_prefix": "rm(",
     "library": "var_list.r",
     "varRefreshCmd": "cat(var_dic_list()) "
    }
   },
   "types_to_exclude": [
    "module",
    "function",
    "builtin_function_or_method",
    "instance",
    "_Feature"
   ],
   "window_display": false
  }
 },
 "nbformat": 4,
 "nbformat_minor": 2
}
