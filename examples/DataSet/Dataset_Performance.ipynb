{
 "cells": [
  {
   "cell_type": "markdown",
   "metadata": {},
   "source": [
    "# DataSet Performance\n",
    "\n",
    "This notebook shows the trade-off between inserting data into a database row-by-row and as binary blobs. Inserting the data row-by-row means that we have direct access to all the data and may perform queries directly on the values of the data. On the other hand, as we shall see, this is much slower than inserting the data directly as binary blobs."
   ]
  },
  {
   "cell_type": "markdown",
   "metadata": {},
   "source": [
    "First, we choose a new location for the database to ensure that we don't add a bunch of benchmarking data to the default one."
   ]
  },
  {
   "cell_type": "code",
   "execution_count": 1,
   "metadata": {
    "execution": {
     "iopub.execute_input": "2020-12-23T08:13:28.596665Z",
     "iopub.status.busy": "2020-12-23T08:13:28.595649Z",
     "iopub.status.idle": "2020-12-23T08:13:29.784085Z",
     "shell.execute_reply": "2020-12-23T08:13:29.784601Z"
    }
   },
   "outputs": [
    {
     "name": "stdout",
     "output_type": "stream",
     "text": [
      "Logging hadn't been started.\n",
      "Activating auto-logging. Current session state plus future input saved.\n",
      "Filename       : /home/vsts/.qcodes/logs/command_history.log\n",
      "Mode           : append\n",
      "Output logging : True\n",
      "Raw input log  : False\n",
      "Timestamping   : True\n",
      "State          : active\n"
     ]
    },
    {
     "name": "stdout",
     "output_type": "stream",
     "text": [
      "Qcodes Logfile : /home/vsts/.qcodes/logs/201223-13366-qcodes.log\n"
     ]
    }
   ],
   "source": [
    "import os\n",
    "cwd = os.getcwd()\n",
    "import qcodes as qc\n",
    "qc.config[\"core\"][\"db_location\"] = os.path.join(cwd, 'testing.db')\n"
   ]
  },
  {
   "cell_type": "code",
   "execution_count": 2,
   "metadata": {
    "execution": {
     "iopub.execute_input": "2020-12-23T08:13:29.793973Z",
     "iopub.status.busy": "2020-12-23T08:13:29.792194Z",
     "iopub.status.idle": "2020-12-23T08:13:30.016356Z",
     "shell.execute_reply": "2020-12-23T08:13:30.015777Z"
    }
   },
   "outputs": [],
   "source": [
    "%matplotlib inline\n",
    "import time\n",
    "import matplotlib.pyplot as plt\n",
    "import numpy as np\n",
    "\n",
    "import qcodes as qc\n",
    "from qcodes.instrument.parameter import ManualParameter\n",
    "from qcodes.dataset.experiment_container import (Experiment,\n",
    "                                                 load_last_experiment,\n",
    "                                                 new_experiment)\n",
    "from qcodes.dataset.sqlite.database import initialise_database\n",
    "from qcodes import load_or_create_experiment\n",
    "from qcodes.dataset.measurements import Measurement"
   ]
  },
  {
   "cell_type": "code",
   "execution_count": 3,
   "metadata": {
    "execution": {
     "iopub.execute_input": "2020-12-23T08:13:30.020852Z",
     "iopub.status.busy": "2020-12-23T08:13:30.020184Z",
     "iopub.status.idle": "2020-12-23T08:13:30.165195Z",
     "shell.execute_reply": "2020-12-23T08:13:30.164365Z"
    }
   },
   "outputs": [
    {
     "name": "stdout",
     "output_type": "stream",
     "text": [
      "\r",
      "0it [00:00, ?it/s]"
     ]
    },
    {
     "name": "stdout",
     "output_type": "stream",
     "text": [
      "\r",
      "Upgrading database; v0 -> v1: : 0it [00:00, ?it/s]"
     ]
    },
    {
     "name": "stdout",
     "output_type": "stream",
     "text": [
      "\r",
      "Upgrading database; v0 -> v1: : 0it [00:00, ?it/s]"
     ]
    },
    {
     "name": "stdout",
     "output_type": "stream",
     "text": [
      "\n",
      "\r",
      "  0%|          | 0/1 [00:00<?, ?it/s]"
     ]
    },
    {
     "name": "stdout",
     "output_type": "stream",
     "text": [
      "\r",
      "Upgrading database; v1 -> v2:   0%|          | 0/1 [00:00<?, ?it/s]"
     ]
    },
    {
     "name": "stdout",
     "output_type": "stream",
     "text": [
      "\r",
      "Upgrading database; v1 -> v2: 100%|██████████| 1/1 [00:00<00:00, 472.97it/s]"
     ]
    },
    {
     "name": "stdout",
     "output_type": "stream",
     "text": [
      "\n",
      "\r",
      "0it [00:00, ?it/s]"
     ]
    },
    {
     "name": "stdout",
     "output_type": "stream",
     "text": [
      "\r",
      "Upgrading database; v2 -> v3: : 0it [00:00, ?it/s]"
     ]
    },
    {
     "name": "stdout",
     "output_type": "stream",
     "text": [
      "\r",
      "Upgrading database; v2 -> v3: : 0it [00:00, ?it/s]"
     ]
    },
    {
     "name": "stdout",
     "output_type": "stream",
     "text": [
      "\n",
      "\r",
      "0it [00:00, ?it/s]"
     ]
    },
    {
     "name": "stdout",
     "output_type": "stream",
     "text": [
      "\r",
      "Upgrading database; v3 -> v4: : 0it [00:00, ?it/s]"
     ]
    },
    {
     "name": "stdout",
     "output_type": "stream",
     "text": [
      "\r",
      "Upgrading database; v3 -> v4: : 0it [00:00, ?it/s]"
     ]
    },
    {
     "name": "stdout",
     "output_type": "stream",
     "text": [
      "\n",
      "\r",
      "  0%|          | 0/1 [00:00<?, ?it/s]"
     ]
    },
    {
     "name": "stdout",
     "output_type": "stream",
     "text": [
      "\r",
      "Upgrading database; v4 -> v5:   0%|          | 0/1 [00:00<?, ?it/s]"
     ]
    },
    {
     "name": "stdout",
     "output_type": "stream",
     "text": [
      "\r",
      "Upgrading database; v4 -> v5: 100%|██████████| 1/1 [00:00<00:00, 480.34it/s]"
     ]
    },
    {
     "name": "stdout",
     "output_type": "stream",
     "text": [
      "\n",
      "\r",
      "0it [00:00, ?it/s]"
     ]
    },
    {
     "name": "stdout",
     "output_type": "stream",
     "text": [
      "\r",
      "Upgrading database; v5 -> v6: : 0it [00:00, ?it/s]"
     ]
    },
    {
     "name": "stdout",
     "output_type": "stream",
     "text": [
      "\r",
      "Upgrading database; v5 -> v6: : 0it [00:00, ?it/s]"
     ]
    },
    {
     "name": "stdout",
     "output_type": "stream",
     "text": [
      "\n",
      "\r",
      "  0%|          | 0/1 [00:00<?, ?it/s]"
     ]
    },
    {
     "name": "stdout",
     "output_type": "stream",
     "text": [
      "\r",
      "Upgrading database; v6 -> v7:   0%|          | 0/1 [00:00<?, ?it/s]"
     ]
    },
    {
     "name": "stdout",
     "output_type": "stream",
     "text": [
      "\r",
      "Upgrading database; v6 -> v7: 100%|██████████| 1/1 [00:00<00:00, 231.59it/s]"
     ]
    },
    {
     "name": "stdout",
     "output_type": "stream",
     "text": [
      "\n",
      "\r",
      "  0%|          | 0/1 [00:00<?, ?it/s]"
     ]
    },
    {
     "name": "stdout",
     "output_type": "stream",
     "text": [
      "\r",
      "Upgrading database; v7 -> v8:   0%|          | 0/1 [00:00<?, ?it/s]"
     ]
    },
    {
     "name": "stdout",
     "output_type": "stream",
     "text": [
      "\r",
      "Upgrading database; v7 -> v8: 100%|██████████| 1/1 [00:00<00:00, 345.61it/s]"
     ]
    },
    {
     "name": "stdout",
     "output_type": "stream",
     "text": [
      "\n",
      "\r",
      "  0%|          | 0/1 [00:00<?, ?it/s]"
     ]
    },
    {
     "name": "stdout",
     "output_type": "stream",
     "text": [
      "\r",
      "Upgrading database; v8 -> v9:   0%|          | 0/1 [00:00<?, ?it/s]"
     ]
    },
    {
     "name": "stdout",
     "output_type": "stream",
     "text": [
      "\r",
      "Upgrading database; v8 -> v9: 100%|██████████| 1/1 [00:00<00:00, 411.49it/s]"
     ]
    },
    {
     "name": "stdout",
     "output_type": "stream",
     "text": [
      "\n"
     ]
    }
   ],
   "source": [
    "initialise_database()\n",
    "exp = load_or_create_experiment(experiment_name='tutorial_exp', sample_name=\"no sample\")"
   ]
  },
  {
   "cell_type": "markdown",
   "metadata": {},
   "source": [
    "Here, we define a simple function to benchmark the time it takes to insert n points with either numeric or array data type.\n",
    "We will compare both the time used to call ``add_result`` and the time used for the full measurement."
   ]
  },
  {
   "cell_type": "code",
   "execution_count": 4,
   "metadata": {
    "execution": {
     "iopub.execute_input": "2020-12-23T08:13:30.175462Z",
     "iopub.status.busy": "2020-12-23T08:13:30.173873Z",
     "iopub.status.idle": "2020-12-23T08:13:30.176098Z",
     "shell.execute_reply": "2020-12-23T08:13:30.176863Z"
    }
   },
   "outputs": [],
   "source": [
    "def insert_data(paramtype, npoints, nreps=1):\n",
    "\n",
    "    meas = Measurement(exp=exp)\n",
    "\n",
    "    x1 = ManualParameter('x1')\n",
    "    x2 = ManualParameter('x2')\n",
    "    x3 = ManualParameter('x3')\n",
    "    y1 = ManualParameter('y1')\n",
    "    y2 = ManualParameter('y2')\n",
    "\n",
    "    meas.register_parameter(x1, paramtype=paramtype)\n",
    "    meas.register_parameter(x2, paramtype=paramtype)\n",
    "    meas.register_parameter(x3, paramtype=paramtype)\n",
    "    meas.register_parameter(y1, setpoints=[x1, x2, x3],\n",
    "                            paramtype=paramtype)\n",
    "    meas.register_parameter(y2, setpoints=[x1, x2, x3],\n",
    "                            paramtype=paramtype)\n",
    "    start = time.perf_counter()\n",
    "    with meas.run() as datasaver:\n",
    "        start_adding = time.perf_counter()\n",
    "        for i in range(nreps):\n",
    "            datasaver.add_result((x1, np.random.rand(npoints)),\n",
    "                                 (x2, np.random.rand(npoints)),\n",
    "                                 (x3, np.random.rand(npoints)),\n",
    "                                 (y1, np.random.rand(npoints)),\n",
    "                                 (y2, np.random.rand(npoints)))\n",
    "        stop_adding = time.perf_counter()\n",
    "        run_id = datasaver.run_id\n",
    "    stop = time.perf_counter()\n",
    "    tot_time = stop - start\n",
    "    add_time = stop_adding - start_adding\n",
    "    return tot_time, add_time, run_id"
   ]
  },
  {
   "cell_type": "markdown",
   "metadata": {},
   "source": [
    "## Comparison between numeric/array data and binary blob"
   ]
  },
  {
   "cell_type": "markdown",
   "metadata": {},
   "source": [
    "### Case1: Short experiment time"
   ]
  },
  {
   "cell_type": "code",
   "execution_count": 5,
   "metadata": {
    "execution": {
     "iopub.execute_input": "2020-12-23T08:13:30.184685Z",
     "iopub.status.busy": "2020-12-23T08:13:30.183986Z",
     "iopub.status.idle": "2020-12-23T08:13:31.142857Z",
     "shell.execute_reply": "2020-12-23T08:13:31.143571Z"
    }
   },
   "outputs": [
    {
     "name": "stdout",
     "output_type": "stream",
     "text": [
      "Starting experimental run with id: 1. \n",
      "Starting experimental run with id: 2. \n",
      "Starting experimental run with id: 3. \n"
     ]
    },
    {
     "name": "stdout",
     "output_type": "stream",
     "text": [
      "Starting experimental run with id: 4. \n"
     ]
    },
    {
     "name": "stdout",
     "output_type": "stream",
     "text": [
      "Starting experimental run with id: 5. \n"
     ]
    },
    {
     "name": "stdout",
     "output_type": "stream",
     "text": [
      "Starting experimental run with id: 6. \n",
      "Starting experimental run with id: 7. \n"
     ]
    },
    {
     "name": "stdout",
     "output_type": "stream",
     "text": [
      "Starting experimental run with id: 8. \n"
     ]
    },
    {
     "name": "stdout",
     "output_type": "stream",
     "text": [
      "Starting experimental run with id: 9. \n"
     ]
    },
    {
     "name": "stdout",
     "output_type": "stream",
     "text": [
      "Starting experimental run with id: 10. \n",
      "Starting experimental run with id: 11. \n"
     ]
    },
    {
     "name": "stdout",
     "output_type": "stream",
     "text": [
      "Starting experimental run with id: 12. \n"
     ]
    },
    {
     "name": "stdout",
     "output_type": "stream",
     "text": [
      "Starting experimental run with id: 13. \n"
     ]
    },
    {
     "name": "stdout",
     "output_type": "stream",
     "text": [
      "Starting experimental run with id: 14. \n"
     ]
    }
   ],
   "source": [
    "sizes = [1,500,1000,2000,3000,4000,5000]\n",
    "t_numeric = []\n",
    "t_numeric_add = []\n",
    "t_array = []\n",
    "t_array_add = []\n",
    "for size in sizes:\n",
    "    tn, tna, run_id_n =  insert_data('numeric', size)\n",
    "    t_numeric.append(tn)\n",
    "    t_numeric_add.append(tna)\n",
    "\n",
    "    ta, taa, run_id_a =  insert_data('array', size)\n",
    "    t_array.append(ta)\n",
    "    t_array_add.append(taa)"
   ]
  },
  {
   "cell_type": "code",
   "execution_count": 6,
   "metadata": {
    "execution": {
     "iopub.execute_input": "2020-12-23T08:13:31.175507Z",
     "iopub.status.busy": "2020-12-23T08:13:31.163113Z",
     "iopub.status.idle": "2020-12-23T08:13:31.399336Z",
     "shell.execute_reply": "2020-12-23T08:13:31.398358Z"
    }
   },
   "outputs": [
    {
     "data": {
      "image/png": "[encoded data removed]",
      "text/plain": [
       "<Figure size 432x288 with 1 Axes>"
      ]
     },
     "metadata": {
      "needs_background": "light"
     },
     "output_type": "display_data"
    }
   ],
   "source": [
    "fig, ax = plt.subplots(1,1)\n",
    "ax.plot(sizes, t_numeric, 'o-', label='Inserting row-by-row')\n",
    "ax.plot(sizes, t_numeric_add, 'o-', label='Inserting row-by-row: add_result only')\n",
    "ax.plot(sizes, t_array, 'd-', label='Inserting as binary blob')\n",
    "ax.plot(sizes, t_array_add, 'd-', label='Inserting as binary blob: add_result only')\n",
    "ax.legend()\n",
    "ax.set_xlabel('Array length')\n",
    "ax.set_ylabel('Time (s)')\n",
    "fig.tight_layout()"
   ]
  },
  {
   "cell_type": "markdown",
   "metadata": {},
   "source": [
    "As shown in the latter figure, the time to setup and and close the experiment is approximately 0.4 sec. In case of small array sizes, the difference between inserting values of data as arrays and inserting them row-by-row is relatively unimportant. At larger array sizes, i.e. above 10000 points, the cost of writing data as individual datapoints starts to become important.\n"
   ]
  },
  {
   "cell_type": "markdown",
   "metadata": {},
   "source": [
    "### Case2: Long experiment time "
   ]
  },
  {
   "cell_type": "code",
   "execution_count": 7,
   "metadata": {
    "execution": {
     "iopub.execute_input": "2020-12-23T08:13:31.407260Z",
     "iopub.status.busy": "2020-12-23T08:13:31.405823Z",
     "iopub.status.idle": "2020-12-23T08:14:38.184455Z",
     "shell.execute_reply": "2020-12-23T08:14:38.183332Z"
    }
   },
   "outputs": [
    {
     "name": "stdout",
     "output_type": "stream",
     "text": [
      "Starting experimental run with id: 15. \n",
      "Starting experimental run with id: 16. \n",
      "Starting experimental run with id: 17. \n"
     ]
    },
    {
     "name": "stdout",
     "output_type": "stream",
     "text": [
      "Starting experimental run with id: 18. \n",
      "Starting experimental run with id: 19. \n"
     ]
    },
    {
     "name": "stdout",
     "output_type": "stream",
     "text": [
      "Starting experimental run with id: 20. \n"
     ]
    },
    {
     "name": "stdout",
     "output_type": "stream",
     "text": [
      "Starting experimental run with id: 21. \n"
     ]
    },
    {
     "name": "stdout",
     "output_type": "stream",
     "text": [
      "Starting experimental run with id: 22. \n"
     ]
    },
    {
     "name": "stdout",
     "output_type": "stream",
     "text": [
      "Starting experimental run with id: 23. \n"
     ]
    },
    {
     "name": "stdout",
     "output_type": "stream",
     "text": [
      "Starting experimental run with id: 24. \n"
     ]
    },
    {
     "name": "stdout",
     "output_type": "stream",
     "text": [
      "Starting experimental run with id: 25. \n"
     ]
    },
    {
     "name": "stdout",
     "output_type": "stream",
     "text": [
      "Starting experimental run with id: 26. \n"
     ]
    },
    {
     "name": "stdout",
     "output_type": "stream",
     "text": [
      "Starting experimental run with id: 27. \n"
     ]
    },
    {
     "name": "stdout",
     "output_type": "stream",
     "text": [
      "Starting experimental run with id: 28. \n"
     ]
    }
   ],
   "source": [
    "sizes = [1,500,1000,2000,3000,4000,5000]\n",
    "nreps = 100\n",
    "t_numeric = []\n",
    "t_numeric_add = []\n",
    "t_numeric_run_ids = []\n",
    "t_array = []\n",
    "t_array_add = []\n",
    "t_array_run_ids = []\n",
    "for size in sizes:\n",
    "    tn, tna, run_id_n =  insert_data('numeric', size, nreps=nreps)\n",
    "    t_numeric.append(tn)\n",
    "    t_numeric_add.append(tna)\n",
    "    t_numeric_run_ids.append(run_id_n)\n",
    "\n",
    "    ta, taa, run_id_a =  insert_data('array', size, nreps=nreps)\n",
    "    t_array.append(ta)\n",
    "    t_array_add.append(taa)\n",
    "    t_array_run_ids.append(run_id_a)"
   ]
  },
  {
   "cell_type": "code",
   "execution_count": 8,
   "metadata": {
    "execution": {
     "iopub.execute_input": "2020-12-23T08:14:38.213956Z",
     "iopub.status.busy": "2020-12-23T08:14:38.207859Z",
     "iopub.status.idle": "2020-12-23T08:14:38.442917Z",
     "shell.execute_reply": "2020-12-23T08:14:38.443593Z"
    },
    "scrolled": true
   },
   "outputs": [
    {
     "data": {
      "image/png": "[encoded data removed]",
      "text/plain": [
       "<Figure size 432x288 with 1 Axes>"
      ]
     },
     "metadata": {
      "needs_background": "light"
     },
     "output_type": "display_data"
    }
   ],
   "source": [
    "fig, ax = plt.subplots(1,1)\n",
    "ax.plot(sizes, t_numeric, 'o-', label='Inserting row-by-row')\n",
    "ax.plot(sizes, t_numeric_add, 'o-', label='Inserting row-by-row: add_result only')\n",
    "ax.plot(sizes, t_array, 'd-', label='Inserting as binary blob')\n",
    "ax.plot(sizes, t_array_add, 'd-', label='Inserting as binary blob: add_result only')\n",
    "ax.legend()\n",
    "ax.set_xlabel('Array length')\n",
    "ax.set_ylabel('Time (s)')\n",
    "fig.tight_layout()"
   ]
  },
  {
   "cell_type": "markdown",
   "metadata": {},
   "source": [
    "However, as we increase the length of the experiment, as seen here by repeating the insertion 100 times, we see a big difference between inserting values of the data row-by-row and inserting it as a binary blob."
   ]
  },
  {
   "cell_type": "markdown",
   "metadata": {},
   "source": [
    "## Loading the data "
   ]
  },
  {
   "cell_type": "code",
   "execution_count": 9,
   "metadata": {
    "execution": {
     "iopub.execute_input": "2020-12-23T08:14:38.448685Z",
     "iopub.status.busy": "2020-12-23T08:14:38.448090Z",
     "iopub.status.idle": "2020-12-23T08:14:38.451960Z",
     "shell.execute_reply": "2020-12-23T08:14:38.451366Z"
    }
   },
   "outputs": [],
   "source": [
    "from qcodes.dataset.data_set import load_by_id\n",
    "from qcodes.dataset.data_export import get_data_by_id"
   ]
  },
  {
   "cell_type": "markdown",
   "metadata": {},
   "source": [
    "As usual you can load the data by using the ``load_by_id`` function but you will notice that the different storage methods\n",
    "are reflected in shape of the data as it is retrieved. "
   ]
  },
  {
   "cell_type": "code",
   "execution_count": 10,
   "metadata": {
    "execution": {
     "iopub.execute_input": "2020-12-23T08:14:38.456834Z",
     "iopub.status.busy": "2020-12-23T08:14:38.455495Z",
     "iopub.status.idle": "2020-12-23T08:14:38.457458Z",
     "shell.execute_reply": "2020-12-23T08:14:38.458088Z"
    }
   },
   "outputs": [],
   "source": [
    "run_id_n = t_numeric_run_ids[0]\n",
    "run_id_a = t_array_run_ids[0]"
   ]
  },
  {
   "cell_type": "code",
   "execution_count": 11,
   "metadata": {
    "execution": {
     "iopub.execute_input": "2020-12-23T08:14:38.461870Z",
     "iopub.status.busy": "2020-12-23T08:14:38.461294Z",
     "iopub.status.idle": "2020-12-23T08:14:38.471197Z",
     "shell.execute_reply": "2020-12-23T08:14:38.471834Z"
    },
    "scrolled": true
   },
   "outputs": [
    {
     "data": {
      "text/plain": [
       "{'x1': {'x1': array([0.10473021, 0.10473021, 0.0979025 , 0.0979025 , 0.09223255,\n",
       "         0.09223255, 0.64689502, 0.64689502, 0.48955385, 0.48955385,\n",
       "         0.72412216, 0.72412216, 0.76203628, 0.76203628, 0.45612888,\n",
       "         0.45612888, 0.1063998 , 0.1063998 , 0.91879104, 0.91879104,\n",
       "         0.48975815, 0.48975815, 0.61833588, 0.61833588, 0.7169666 ,\n",
       "         0.7169666 , 0.5182444 , 0.5182444 , 0.46677189, 0.46677189,\n",
       "         0.17325961, 0.17325961, 0.13653534, 0.13653534, 0.1479731 ,\n",
       "         0.1479731 , 0.88828821, 0.88828821, 0.30032799, 0.30032799,\n",
       "         0.60855414, 0.60855414, 0.64528188, 0.64528188, 0.29807204,\n",
       "         0.29807204, 0.09506776, 0.09506776, 0.57439003, 0.57439003,\n",
       "         0.75355033, 0.75355033, 0.99195031, 0.99195031, 0.14165001,\n",
       "         0.14165001, 0.18633105, 0.18633105, 0.94416208, 0.94416208,\n",
       "         0.91382725, 0.91382725, 0.91056222, 0.91056222, 0.16557054,\n",
       "         0.16557054, 0.36251186, 0.36251186, 0.73628902, 0.73628902,\n",
       "         0.95720962, 0.95720962, 0.81782438, 0.81782438, 0.8373135 ,\n",
       "         0.8373135 , 0.99321049, 0.99321049, 0.66459986, 0.66459986,\n",
       "         0.1959509 , 0.1959509 , 0.3200685 , 0.3200685 , 0.37690197,\n",
       "         0.37690197, 0.96691843, 0.96691843, 0.81174818, 0.81174818,\n",
       "         0.12284603, 0.12284603, 0.9821443 , 0.9821443 , 0.31748754,\n",
       "         0.31748754, 0.32916107, 0.32916107, 0.43502776, 0.43502776,\n",
       "         0.14655413, 0.14655413, 0.34880234, 0.34880234, 0.29352736,\n",
       "         0.29352736, 0.14885445, 0.14885445, 0.58959702, 0.58959702,\n",
       "         0.70507484, 0.70507484, 0.22734996, 0.22734996, 0.45801577,\n",
       "         0.45801577, 0.44367311, 0.44367311, 0.30846268, 0.30846268,\n",
       "         0.55251185, 0.55251185, 0.491581  , 0.491581  , 0.73665605,\n",
       "         0.73665605, 0.59295575, 0.59295575, 0.91817445, 0.91817445,\n",
       "         0.63223706, 0.63223706, 0.90020453, 0.90020453, 0.4744575 ,\n",
       "         0.4744575 , 0.75696653, 0.75696653, 0.57154388, 0.57154388,\n",
       "         0.38732712, 0.38732712, 0.95917616, 0.95917616, 0.56753302,\n",
       "         0.56753302, 0.44364052, 0.44364052, 0.17087191, 0.17087191,\n",
       "         0.91997986, 0.91997986, 0.72563027, 0.72563027, 0.47859813,\n",
       "         0.47859813, 0.8419656 , 0.8419656 , 0.81894188, 0.81894188,\n",
       "         0.66040891, 0.66040891, 0.77430813, 0.77430813, 0.1912887 ,\n",
       "         0.1912887 , 0.77565273, 0.77565273, 0.33037499, 0.33037499,\n",
       "         0.335397  , 0.335397  , 0.98721052, 0.98721052, 0.041959  ,\n",
       "         0.041959  , 0.00483965, 0.00483965, 0.43587576, 0.43587576,\n",
       "         0.95721137, 0.95721137, 0.75254973, 0.75254973, 0.60977677,\n",
       "         0.60977677, 0.67828141, 0.67828141, 0.10513317, 0.10513317,\n",
       "         0.78479793, 0.78479793, 0.73985729, 0.73985729, 0.48885838,\n",
       "         0.48885838, 0.15896204, 0.15896204, 0.33555491, 0.33555491])}}"
      ]
     },
     "execution_count": 1,
     "metadata": {},
     "output_type": "execute_result"
    }
   ],
   "source": [
    "ds = load_by_id(run_id_n)\n",
    "ds.get_parameter_data('x1')"
   ]
  },
  {
   "cell_type": "markdown",
   "metadata": {},
   "source": [
    "And a dataset stored as binary arrays"
   ]
  },
  {
   "cell_type": "code",
   "execution_count": 12,
   "metadata": {
    "execution": {
     "iopub.execute_input": "2020-12-23T08:14:38.475738Z",
     "iopub.status.busy": "2020-12-23T08:14:38.475135Z",
     "iopub.status.idle": "2020-12-23T08:14:38.541917Z",
     "shell.execute_reply": "2020-12-23T08:14:38.542524Z"
    },
    "scrolled": true
   },
   "outputs": [
    {
     "data": {
      "text/plain": [
       "{'x1': {'x1': array([[0.91044682],\n",
       "         [0.91044682],\n",
       "         [0.40539082],\n",
       "         [0.40539082],\n",
       "         [0.71497761],\n",
       "         [0.71497761],\n",
       "         [0.73016698],\n",
       "         [0.73016698],\n",
       "         [0.21517499],\n",
       "         [0.21517499],\n",
       "         [0.62273616],\n",
       "         [0.62273616],\n",
       "         [0.18329952],\n",
       "         [0.18329952],\n",
       "         [0.31991278],\n",
       "         [0.31991278],\n",
       "         [0.83170133],\n",
       "         [0.83170133],\n",
       "         [0.27236165],\n",
       "         [0.27236165],\n",
       "         [0.44444983],\n",
       "         [0.44444983],\n",
       "         [0.4648358 ],\n",
       "         [0.4648358 ],\n",
       "         [0.91875468],\n",
       "         [0.91875468],\n",
       "         [0.49558592],\n",
       "         [0.49558592],\n",
       "         [0.43875058],\n",
       "         [0.43875058],\n",
       "         [0.51892436],\n",
       "         [0.51892436],\n",
       "         [0.1492407 ],\n",
       "         [0.1492407 ],\n",
       "         [0.95935648],\n",
       "         [0.95935648],\n",
       "         [0.52404665],\n",
       "         [0.52404665],\n",
       "         [0.00932047],\n",
       "         [0.00932047],\n",
       "         [0.5716442 ],\n",
       "         [0.5716442 ],\n",
       "         [0.68211677],\n",
       "         [0.68211677],\n",
       "         [0.91307055],\n",
       "         [0.91307055],\n",
       "         [0.69499545],\n",
       "         [0.69499545],\n",
       "         [0.08821829],\n",
       "         [0.08821829],\n",
       "         [0.4994025 ],\n",
       "         [0.4994025 ],\n",
       "         [0.65766272],\n",
       "         [0.65766272],\n",
       "         [0.97880395],\n",
       "         [0.97880395],\n",
       "         [0.93266644],\n",
       "         [0.93266644],\n",
       "         [0.33184858],\n",
       "         [0.33184858],\n",
       "         [0.44750205],\n",
       "         [0.44750205],\n",
       "         [0.99056586],\n",
       "         [0.99056586],\n",
       "         [0.98791252],\n",
       "         [0.98791252],\n",
       "         [0.11996694],\n",
       "         [0.11996694],\n",
       "         [0.63678347],\n",
       "         [0.63678347],\n",
       "         [0.81408904],\n",
       "         [0.81408904],\n",
       "         [0.63181301],\n",
       "         [0.63181301],\n",
       "         [0.94323147],\n",
       "         [0.94323147],\n",
       "         [0.58776665],\n",
       "         [0.58776665],\n",
       "         [0.06159801],\n",
       "         [0.06159801],\n",
       "         [0.91064354],\n",
       "         [0.91064354],\n",
       "         [0.78314497],\n",
       "         [0.78314497],\n",
       "         [0.78909459],\n",
       "         [0.78909459],\n",
       "         [0.36282765],\n",
       "         [0.36282765],\n",
       "         [0.64840097],\n",
       "         [0.64840097],\n",
       "         [0.20158735],\n",
       "         [0.20158735],\n",
       "         [0.979055  ],\n",
       "         [0.979055  ],\n",
       "         [0.81988003],\n",
       "         [0.81988003],\n",
       "         [0.41870273],\n",
       "         [0.41870273],\n",
       "         [0.1461443 ],\n",
       "         [0.1461443 ],\n",
       "         [0.34829648],\n",
       "         [0.34829648],\n",
       "         [0.3848616 ],\n",
       "         [0.3848616 ],\n",
       "         [0.1033091 ],\n",
       "         [0.1033091 ],\n",
       "         [0.7183631 ],\n",
       "         [0.7183631 ],\n",
       "         [0.48307713],\n",
       "         [0.48307713],\n",
       "         [0.21312515],\n",
       "         [0.21312515],\n",
       "         [0.13434107],\n",
       "         [0.13434107],\n",
       "         [0.5581491 ],\n",
       "         [0.5581491 ],\n",
       "         [0.190299  ],\n",
       "         [0.190299  ],\n",
       "         [0.04675051],\n",
       "         [0.04675051],\n",
       "         [0.49367705],\n",
       "         [0.49367705],\n",
       "         [0.12325726],\n",
       "         [0.12325726],\n",
       "         [0.27468503],\n",
       "         [0.27468503],\n",
       "         [0.14984494],\n",
       "         [0.14984494],\n",
       "         [0.25889765],\n",
       "         [0.25889765],\n",
       "         [0.00849373],\n",
       "         [0.00849373],\n",
       "         [0.69877093],\n",
       "         [0.69877093],\n",
       "         [0.32608628],\n",
       "         [0.32608628],\n",
       "         [0.8423864 ],\n",
       "         [0.8423864 ],\n",
       "         [0.91585818],\n",
       "         [0.91585818],\n",
       "         [0.65696164],\n",
       "         [0.65696164],\n",
       "         [0.25003639],\n",
       "         [0.25003639],\n",
       "         [0.77149026],\n",
       "         [0.77149026],\n",
       "         [0.46649899],\n",
       "         [0.46649899],\n",
       "         [0.36716584],\n",
       "         [0.36716584],\n",
       "         [0.95976121],\n",
       "         [0.95976121],\n",
       "         [0.94343901],\n",
       "         [0.94343901],\n",
       "         [0.00722816],\n",
       "         [0.00722816],\n",
       "         [0.804171  ],\n",
       "         [0.804171  ],\n",
       "         [0.55298768],\n",
       "         [0.55298768],\n",
       "         [0.85117769],\n",
       "         [0.85117769],\n",
       "         [0.95602328],\n",
       "         [0.95602328],\n",
       "         [0.47371548],\n",
       "         [0.47371548],\n",
       "         [0.36711975],\n",
       "         [0.36711975],\n",
       "         [0.34962563],\n",
       "         [0.34962563],\n",
       "         [0.55718128],\n",
       "         [0.55718128],\n",
       "         [0.99846774],\n",
       "         [0.99846774],\n",
       "         [0.92557814],\n",
       "         [0.92557814],\n",
       "         [0.09700855],\n",
       "         [0.09700855],\n",
       "         [0.42234155],\n",
       "         [0.42234155],\n",
       "         [0.34029497],\n",
       "         [0.34029497],\n",
       "         [0.44185413],\n",
       "         [0.44185413],\n",
       "         [0.23463556],\n",
       "         [0.23463556],\n",
       "         [0.46834932],\n",
       "         [0.46834932],\n",
       "         [0.67850536],\n",
       "         [0.67850536],\n",
       "         [0.1711561 ],\n",
       "         [0.1711561 ],\n",
       "         [0.22789553],\n",
       "         [0.22789553],\n",
       "         [0.67664029],\n",
       "         [0.67664029],\n",
       "         [0.00902985],\n",
       "         [0.00902985],\n",
       "         [0.18368281],\n",
       "         [0.18368281]])}}"
      ]
     },
     "execution_count": 1,
     "metadata": {},
     "output_type": "execute_result"
    }
   ],
   "source": [
    "ds = load_by_id(run_id_a)\n",
    "ds.get_parameter_data('x1')"
   ]
  },
  {
   "cell_type": "code",
   "execution_count": null,
   "metadata": {},
   "outputs": [],
   "source": []
  }
 ],
 "metadata": {
  "kernelspec": {
   "display_name": "Python 3",
   "language": "python",
   "name": "python3"
  },
  "language_info": {
   "codemirror_mode": {
    "name": "ipython",
    "version": 3
   },
   "file_extension": ".py",
   "mimetype": "text/x-python",
   "name": "python",
   "nbconvert_exporter": "python",
   "pygments_lexer": "ipython3",
   "version": "3.7.9"
  },
  "nbsphinx": {
   "timeout": 600
  },
  "toc": {
   "base_numbering": 1,
   "nav_menu": {},
   "number_sections": true,
   "sideBar": true,
   "skip_h1_title": false,
   "title_cell": "Table of Contents",
   "title_sidebar": "Contents",
   "toc_cell": false,
   "toc_position": {},
   "toc_section_display": true,
   "toc_window_display": false
  },
  "varInspector": {
   "cols": {
    "lenName": 16,
    "lenType": 16,
    "lenVar": 40
   },
   "kernels_config": {
    "python": {
     "delete_cmd_postfix": "",
     "delete_cmd_prefix": "del ",
     "library": "var_list.py",
     "varRefreshCmd": "print(var_dic_list())"
    },
    "r": {
     "delete_cmd_postfix": ") ",
     "delete_cmd_prefix": "rm(",
     "library": "var_list.r",
     "varRefreshCmd": "cat(var_dic_list()) "
    }
   },
   "types_to_exclude": [
    "module",
    "function",
    "builtin_function_or_method",
    "instance",
    "_Feature"
   ],
   "window_display": false
  }
 },
 "nbformat": 4,
 "nbformat_minor": 2
}
