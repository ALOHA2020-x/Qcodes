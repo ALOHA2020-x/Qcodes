{
 "cells": [
  {
   "cell_type": "markdown",
   "metadata": {},
   "source": [
    "# DataSet Performance\n",
    "\n",
    "This notebook shows the trade-off between inserting data into a database row-by-row and as binary blobs. Inserting the data row-by-row means that we have direct access to all the data and may perform queries directly on the values of the data. On the other hand, as we shall see, this is much slower than inserting the data directly as binary blobs."
   ]
  },
  {
   "cell_type": "markdown",
   "metadata": {},
   "source": [
    "First, we choose a new location for the database to ensure that we don't add a bunch of benchmarking data to the default one."
   ]
  },
  {
   "cell_type": "code",
   "execution_count": 1,
   "metadata": {
    "execution": {
     "iopub.execute_input": "2020-09-23T16:48:50.228197Z",
     "iopub.status.busy": "2020-09-23T16:48:50.227576Z",
     "iopub.status.idle": "2020-09-23T16:48:51.370039Z",
     "shell.execute_reply": "2020-09-23T16:48:51.370611Z"
    }
   },
   "outputs": [
    {
     "name": "stdout",
     "output_type": "stream",
     "text": [
      "Logging hadn't been started.\n",
      "Activating auto-logging. Current session state plus future input saved.\n",
      "Filename       : /home/vsts/.qcodes/logs/command_history.log\n",
      "Mode           : append\n",
      "Output logging : True\n",
      "Raw input log  : False\n",
      "Timestamping   : True\n",
      "State          : active\n"
     ]
    },
    {
     "name": "stdout",
     "output_type": "stream",
     "text": [
      "Qcodes Logfile : /home/vsts/.qcodes/logs/200923-18990-qcodes.log\n"
     ]
    }
   ],
   "source": [
    "import os\n",
    "cwd = os.getcwd()\n",
    "import qcodes as qc\n",
    "qc.config[\"core\"][\"db_location\"] = os.path.join(cwd, 'testing.db')\n"
   ]
  },
  {
   "cell_type": "code",
   "execution_count": 2,
   "metadata": {
    "execution": {
     "iopub.execute_input": "2020-09-23T16:48:51.378925Z",
     "iopub.status.busy": "2020-09-23T16:48:51.376522Z",
     "iopub.status.idle": "2020-09-23T16:48:51.580640Z",
     "shell.execute_reply": "2020-09-23T16:48:51.579740Z"
    }
   },
   "outputs": [],
   "source": [
    "%matplotlib inline\n",
    "import time\n",
    "import matplotlib.pyplot as plt\n",
    "import numpy as np\n",
    "\n",
    "import qcodes as qc\n",
    "from qcodes.instrument.parameter import ManualParameter\n",
    "from qcodes.dataset.experiment_container import (Experiment,\n",
    "                                                 load_last_experiment,\n",
    "                                                 new_experiment)\n",
    "from qcodes.dataset.sqlite.database import initialise_database\n",
    "from qcodes import load_or_create_experiment\n",
    "from qcodes.dataset.measurements import Measurement"
   ]
  },
  {
   "cell_type": "code",
   "execution_count": 3,
   "metadata": {
    "execution": {
     "iopub.execute_input": "2020-09-23T16:48:51.585352Z",
     "iopub.status.busy": "2020-09-23T16:48:51.584430Z",
     "iopub.status.idle": "2020-09-23T16:48:51.697876Z",
     "shell.execute_reply": "2020-09-23T16:48:51.697204Z"
    }
   },
   "outputs": [
    {
     "name": "stdout",
     "output_type": "stream",
     "text": [
      "\r",
      "0it [00:00, ?it/s]"
     ]
    },
    {
     "name": "stdout",
     "output_type": "stream",
     "text": [
      "\r",
      "Upgrading database; v0 -> v1: : 0it [00:00, ?it/s]"
     ]
    },
    {
     "name": "stdout",
     "output_type": "stream",
     "text": [
      "\r",
      "Upgrading database; v0 -> v1: : 0it [00:00, ?it/s]"
     ]
    },
    {
     "name": "stdout",
     "output_type": "stream",
     "text": [
      "\n",
      "\r",
      "  0%|          | 0/1 [00:00<?, ?it/s]"
     ]
    },
    {
     "name": "stdout",
     "output_type": "stream",
     "text": [
      "\r",
      "Upgrading database; v1 -> v2:   0%|          | 0/1 [00:00<?, ?it/s]"
     ]
    },
    {
     "name": "stdout",
     "output_type": "stream",
     "text": [
      "\r",
      "Upgrading database; v1 -> v2: 100%|██████████| 1/1 [00:00<00:00, 344.39it/s]"
     ]
    },
    {
     "name": "stdout",
     "output_type": "stream",
     "text": [
      "\n",
      "\r",
      "0it [00:00, ?it/s]"
     ]
    },
    {
     "name": "stdout",
     "output_type": "stream",
     "text": [
      "\r",
      "Upgrading database; v2 -> v3: : 0it [00:00, ?it/s]"
     ]
    },
    {
     "name": "stdout",
     "output_type": "stream",
     "text": [
      "\r",
      "Upgrading database; v2 -> v3: : 0it [00:00, ?it/s]"
     ]
    },
    {
     "name": "stdout",
     "output_type": "stream",
     "text": [
      "\n",
      "\r",
      "0it [00:00, ?it/s]"
     ]
    },
    {
     "name": "stdout",
     "output_type": "stream",
     "text": [
      "\r",
      "Upgrading database; v3 -> v4: : 0it [00:00, ?it/s]"
     ]
    },
    {
     "name": "stdout",
     "output_type": "stream",
     "text": [
      "\r",
      "Upgrading database; v3 -> v4: : 0it [00:00, ?it/s]"
     ]
    },
    {
     "name": "stdout",
     "output_type": "stream",
     "text": [
      "\n",
      "\r",
      "  0%|          | 0/1 [00:00<?, ?it/s]"
     ]
    },
    {
     "name": "stdout",
     "output_type": "stream",
     "text": [
      "\r",
      "Upgrading database; v4 -> v5:   0%|          | 0/1 [00:00<?, ?it/s]"
     ]
    },
    {
     "name": "stdout",
     "output_type": "stream",
     "text": [
      "\r",
      "Upgrading database; v4 -> v5: 100%|██████████| 1/1 [00:00<00:00, 282.58it/s]"
     ]
    },
    {
     "name": "stdout",
     "output_type": "stream",
     "text": [
      "\n",
      "\r",
      "0it [00:00, ?it/s]"
     ]
    },
    {
     "name": "stdout",
     "output_type": "stream",
     "text": [
      "\r",
      "Upgrading database; v5 -> v6: : 0it [00:00, ?it/s]"
     ]
    },
    {
     "name": "stdout",
     "output_type": "stream",
     "text": [
      "\r",
      "Upgrading database; v5 -> v6: : 0it [00:00, ?it/s]"
     ]
    },
    {
     "name": "stdout",
     "output_type": "stream",
     "text": [
      "\n",
      "\r",
      "  0%|          | 0/1 [00:00<?, ?it/s]"
     ]
    },
    {
     "name": "stdout",
     "output_type": "stream",
     "text": [
      "\r",
      "Upgrading database; v6 -> v7:   0%|          | 0/1 [00:00<?, ?it/s]"
     ]
    },
    {
     "name": "stdout",
     "output_type": "stream",
     "text": [
      "\r",
      "Upgrading database; v6 -> v7: 100%|██████████| 1/1 [00:00<00:00, 327.55it/s]"
     ]
    },
    {
     "name": "stdout",
     "output_type": "stream",
     "text": [
      "\n",
      "\r",
      "  0%|          | 0/1 [00:00<?, ?it/s]"
     ]
    },
    {
     "name": "stdout",
     "output_type": "stream",
     "text": [
      "\r",
      "Upgrading database; v7 -> v8:   0%|          | 0/1 [00:00<?, ?it/s]"
     ]
    },
    {
     "name": "stdout",
     "output_type": "stream",
     "text": [
      "\r",
      "Upgrading database; v7 -> v8: 100%|██████████| 1/1 [00:00<00:00, 659.38it/s]"
     ]
    },
    {
     "name": "stdout",
     "output_type": "stream",
     "text": [
      "\n",
      "\r",
      "  0%|          | 0/1 [00:00<?, ?it/s]"
     ]
    },
    {
     "name": "stdout",
     "output_type": "stream",
     "text": [
      "\r",
      "Upgrading database; v8 -> v9:   0%|          | 0/1 [00:00<?, ?it/s]"
     ]
    },
    {
     "name": "stdout",
     "output_type": "stream",
     "text": [
      "\r",
      "Upgrading database; v8 -> v9: 100%|██████████| 1/1 [00:00<00:00, 489.25it/s]"
     ]
    },
    {
     "name": "stdout",
     "output_type": "stream",
     "text": [
      "\n"
     ]
    }
   ],
   "source": [
    "initialise_database()\n",
    "exp = load_or_create_experiment(experiment_name='tutorial_exp', sample_name=\"no sample\")"
   ]
  },
  {
   "cell_type": "markdown",
   "metadata": {},
   "source": [
    "Here, we define a simple function to benchmark the time it takes to insert n points with either numeric or array data type.\n",
    "We will compare both the time used to call ``add_result`` and the time used for the full measurement."
   ]
  },
  {
   "cell_type": "code",
   "execution_count": 4,
   "metadata": {
    "execution": {
     "iopub.execute_input": "2020-09-23T16:48:51.706994Z",
     "iopub.status.busy": "2020-09-23T16:48:51.705608Z",
     "iopub.status.idle": "2020-09-23T16:48:51.714095Z",
     "shell.execute_reply": "2020-09-23T16:48:51.713198Z"
    }
   },
   "outputs": [],
   "source": [
    "def insert_data(paramtype, npoints, nreps=1):\n",
    "\n",
    "    meas = Measurement(exp=exp)\n",
    "\n",
    "    x1 = ManualParameter('x1')\n",
    "    x2 = ManualParameter('x2')\n",
    "    x3 = ManualParameter('x3')\n",
    "    y1 = ManualParameter('y1')\n",
    "    y2 = ManualParameter('y2')\n",
    "\n",
    "    meas.register_parameter(x1, paramtype=paramtype)\n",
    "    meas.register_parameter(x2, paramtype=paramtype)\n",
    "    meas.register_parameter(x3, paramtype=paramtype)\n",
    "    meas.register_parameter(y1, setpoints=[x1, x2, x3],\n",
    "                            paramtype=paramtype)\n",
    "    meas.register_parameter(y2, setpoints=[x1, x2, x3],\n",
    "                            paramtype=paramtype)\n",
    "    start = time.perf_counter()\n",
    "    with meas.run() as datasaver:\n",
    "        start_adding = time.perf_counter()\n",
    "        for i in range(nreps):\n",
    "            datasaver.add_result((x1, np.random.rand(npoints)),\n",
    "                                 (x2, np.random.rand(npoints)),\n",
    "                                 (x3, np.random.rand(npoints)),\n",
    "                                 (y1, np.random.rand(npoints)),\n",
    "                                 (y2, np.random.rand(npoints)))\n",
    "        stop_adding = time.perf_counter()\n",
    "        run_id = datasaver.run_id\n",
    "    stop = time.perf_counter()\n",
    "    tot_time = stop - start\n",
    "    add_time = stop_adding - start_adding\n",
    "    return tot_time, add_time, run_id"
   ]
  },
  {
   "cell_type": "markdown",
   "metadata": {},
   "source": [
    "## Comparison between numeric/array data and binary blob"
   ]
  },
  {
   "cell_type": "markdown",
   "metadata": {},
   "source": [
    "### Case1: Short experiment time"
   ]
  },
  {
   "cell_type": "code",
   "execution_count": 5,
   "metadata": {
    "execution": {
     "iopub.execute_input": "2020-09-23T16:48:51.721409Z",
     "iopub.status.busy": "2020-09-23T16:48:51.720583Z",
     "iopub.status.idle": "2020-09-23T16:48:52.623684Z",
     "shell.execute_reply": "2020-09-23T16:48:52.623157Z"
    }
   },
   "outputs": [
    {
     "name": "stdout",
     "output_type": "stream",
     "text": [
      "Starting experimental run with id: 1. \n",
      "Starting experimental run with id: 2. \n",
      "Starting experimental run with id: 3. \n",
      "Starting experimental run with id: 4. \n"
     ]
    },
    {
     "name": "stdout",
     "output_type": "stream",
     "text": [
      "Starting experimental run with id: 5. \n"
     ]
    },
    {
     "name": "stdout",
     "output_type": "stream",
     "text": [
      "Starting experimental run with id: 6. \n",
      "Starting experimental run with id: 7. \n"
     ]
    },
    {
     "name": "stdout",
     "output_type": "stream",
     "text": [
      "Starting experimental run with id: 8. \n",
      "Starting experimental run with id: 9. \n"
     ]
    },
    {
     "name": "stdout",
     "output_type": "stream",
     "text": [
      "Starting experimental run with id: 10. \n",
      "Starting experimental run with id: 11. \n"
     ]
    },
    {
     "name": "stdout",
     "output_type": "stream",
     "text": [
      "Starting experimental run with id: 12. \n"
     ]
    },
    {
     "name": "stdout",
     "output_type": "stream",
     "text": [
      "Starting experimental run with id: 13. \n"
     ]
    },
    {
     "name": "stdout",
     "output_type": "stream",
     "text": [
      "Starting experimental run with id: 14. \n"
     ]
    }
   ],
   "source": [
    "sizes = [1,500,1000,2000,3000,4000,5000]\n",
    "t_numeric = []\n",
    "t_numeric_add = []\n",
    "t_array = []\n",
    "t_array_add = []\n",
    "for size in sizes:\n",
    "    tn, tna, run_id_n =  insert_data('numeric', size)\n",
    "    t_numeric.append(tn)\n",
    "    t_numeric_add.append(tna)\n",
    "\n",
    "    ta, taa, run_id_a =  insert_data('array', size)\n",
    "    t_array.append(ta)\n",
    "    t_array_add.append(taa)"
   ]
  },
  {
   "cell_type": "code",
   "execution_count": 6,
   "metadata": {
    "execution": {
     "iopub.execute_input": "2020-09-23T16:48:52.643843Z",
     "iopub.status.busy": "2020-09-23T16:48:52.642893Z",
     "iopub.status.idle": "2020-09-23T16:48:52.873201Z",
     "shell.execute_reply": "2020-09-23T16:48:52.873761Z"
    }
   },
   "outputs": [
    {
     "data": {
      "image/png": "[encoded data removed]",
      "text/plain": [
       "<Figure size 432x288 with 1 Axes>"
      ]
     },
     "metadata": {
      "needs_background": "light"
     },
     "output_type": "display_data"
    }
   ],
   "source": [
    "fig, ax = plt.subplots(1,1)\n",
    "ax.plot(sizes, t_numeric, 'o-', label='Inserting row-by-row')\n",
    "ax.plot(sizes, t_numeric_add, 'o-', label='Inserting row-by-row: add_result only')\n",
    "ax.plot(sizes, t_array, 'd-', label='Inserting as binary blob')\n",
    "ax.plot(sizes, t_array_add, 'd-', label='Inserting as binary blob: add_result only')\n",
    "ax.legend()\n",
    "ax.set_xlabel('Array length')\n",
    "ax.set_ylabel('Time (s)')\n",
    "fig.tight_layout()"
   ]
  },
  {
   "cell_type": "markdown",
   "metadata": {},
   "source": [
    "As shown in the latter figure, the time to setup and and close the experiment is approximately 0.4 sec. In case of small array sizes, the difference between inserting values of data as arrays and inserting them row-by-row is relatively unimportant. At larger array sizes, i.e. above 10000 points, the cost of writing data as individual datapoints starts to become important.\n"
   ]
  },
  {
   "cell_type": "markdown",
   "metadata": {},
   "source": [
    "### Case2: Long experiment time "
   ]
  },
  {
   "cell_type": "code",
   "execution_count": 7,
   "metadata": {
    "execution": {
     "iopub.execute_input": "2020-09-23T16:48:52.882359Z",
     "iopub.status.busy": "2020-09-23T16:48:52.881285Z",
     "iopub.status.idle": "2020-09-23T16:49:54.964086Z",
     "shell.execute_reply": "2020-09-23T16:49:54.963563Z"
    }
   },
   "outputs": [
    {
     "name": "stdout",
     "output_type": "stream",
     "text": [
      "Starting experimental run with id: 15. \n",
      "Starting experimental run with id: 16. \n",
      "Starting experimental run with id: 17. \n"
     ]
    },
    {
     "name": "stdout",
     "output_type": "stream",
     "text": [
      "Starting experimental run with id: 18. \n",
      "Starting experimental run with id: 19. \n"
     ]
    },
    {
     "name": "stdout",
     "output_type": "stream",
     "text": [
      "Starting experimental run with id: 20. \n"
     ]
    },
    {
     "name": "stdout",
     "output_type": "stream",
     "text": [
      "Starting experimental run with id: 21. \n"
     ]
    },
    {
     "name": "stdout",
     "output_type": "stream",
     "text": [
      "Starting experimental run with id: 22. \n"
     ]
    },
    {
     "name": "stdout",
     "output_type": "stream",
     "text": [
      "Starting experimental run with id: 23. \n"
     ]
    },
    {
     "name": "stdout",
     "output_type": "stream",
     "text": [
      "Starting experimental run with id: 24. \n"
     ]
    },
    {
     "name": "stdout",
     "output_type": "stream",
     "text": [
      "Starting experimental run with id: 25. \n"
     ]
    },
    {
     "name": "stdout",
     "output_type": "stream",
     "text": [
      "Starting experimental run with id: 26. \n"
     ]
    },
    {
     "name": "stdout",
     "output_type": "stream",
     "text": [
      "Starting experimental run with id: 27. \n"
     ]
    },
    {
     "name": "stdout",
     "output_type": "stream",
     "text": [
      "Starting experimental run with id: 28. \n"
     ]
    }
   ],
   "source": [
    "sizes = [1,500,1000,2000,3000,4000,5000]\n",
    "nreps = 100\n",
    "t_numeric = []\n",
    "t_numeric_add = []\n",
    "t_numeric_run_ids = []\n",
    "t_array = []\n",
    "t_array_add = []\n",
    "t_array_run_ids = []\n",
    "for size in sizes:\n",
    "    tn, tna, run_id_n =  insert_data('numeric', size, nreps=nreps)\n",
    "    t_numeric.append(tn)\n",
    "    t_numeric_add.append(tna)\n",
    "    t_numeric_run_ids.append(run_id_n)\n",
    "\n",
    "    ta, taa, run_id_a =  insert_data('array', size, nreps=nreps)\n",
    "    t_array.append(ta)\n",
    "    t_array_add.append(taa)\n",
    "    t_array_run_ids.append(run_id_a)"
   ]
  },
  {
   "cell_type": "code",
   "execution_count": 8,
   "metadata": {
    "execution": {
     "iopub.execute_input": "2020-09-23T16:49:54.986053Z",
     "iopub.status.busy": "2020-09-23T16:49:54.984367Z",
     "iopub.status.idle": "2020-09-23T16:49:55.203354Z",
     "shell.execute_reply": "2020-09-23T16:49:55.202821Z"
    },
    "scrolled": true
   },
   "outputs": [
    {
     "data": {
      "image/png": "[encoded data removed]",
      "text/plain": [
       "<Figure size 432x288 with 1 Axes>"
      ]
     },
     "metadata": {
      "needs_background": "light"
     },
     "output_type": "display_data"
    }
   ],
   "source": [
    "fig, ax = plt.subplots(1,1)\n",
    "ax.plot(sizes, t_numeric, 'o-', label='Inserting row-by-row')\n",
    "ax.plot(sizes, t_numeric_add, 'o-', label='Inserting row-by-row: add_result only')\n",
    "ax.plot(sizes, t_array, 'd-', label='Inserting as binary blob')\n",
    "ax.plot(sizes, t_array_add, 'd-', label='Inserting as binary blob: add_result only')\n",
    "ax.legend()\n",
    "ax.set_xlabel('Array length')\n",
    "ax.set_ylabel('Time (s)')\n",
    "fig.tight_layout()"
   ]
  },
  {
   "cell_type": "markdown",
   "metadata": {},
   "source": [
    "However, as we increase the length of the experiment, as seen here by repeating the insertion 100 times, we see a big difference between inserting values of the data row-by-row and inserting it as a binary blob."
   ]
  },
  {
   "cell_type": "markdown",
   "metadata": {},
   "source": [
    "## Loading the data "
   ]
  },
  {
   "cell_type": "code",
   "execution_count": 9,
   "metadata": {
    "execution": {
     "iopub.execute_input": "2020-09-23T16:49:55.208605Z",
     "iopub.status.busy": "2020-09-23T16:49:55.207245Z",
     "iopub.status.idle": "2020-09-23T16:49:55.211110Z",
     "shell.execute_reply": "2020-09-23T16:49:55.210465Z"
    }
   },
   "outputs": [],
   "source": [
    "from qcodes.dataset.data_set import load_by_id\n",
    "from qcodes.dataset.data_export import get_data_by_id"
   ]
  },
  {
   "cell_type": "markdown",
   "metadata": {},
   "source": [
    "As usual you can load the data by using the ``load_by_id`` function but you will notice that the different storage methods\n",
    "are reflected in shape of the data as it is retrieved. "
   ]
  },
  {
   "cell_type": "code",
   "execution_count": 10,
   "metadata": {
    "execution": {
     "iopub.execute_input": "2020-09-23T16:49:55.216159Z",
     "iopub.status.busy": "2020-09-23T16:49:55.214535Z",
     "iopub.status.idle": "2020-09-23T16:49:55.216845Z",
     "shell.execute_reply": "2020-09-23T16:49:55.217466Z"
    }
   },
   "outputs": [],
   "source": [
    "run_id_n = t_numeric_run_ids[0]\n",
    "run_id_a = t_array_run_ids[0]"
   ]
  },
  {
   "cell_type": "code",
   "execution_count": 11,
   "metadata": {
    "execution": {
     "iopub.execute_input": "2020-09-23T16:49:55.221013Z",
     "iopub.status.busy": "2020-09-23T16:49:55.220419Z",
     "iopub.status.idle": "2020-09-23T16:49:55.230528Z",
     "shell.execute_reply": "2020-09-23T16:49:55.229822Z"
    },
    "scrolled": true
   },
   "outputs": [
    {
     "data": {
      "text/plain": [
       "{'x1': {'x1': array([0.55276642, 0.55276642, 0.45406829, 0.45406829, 0.74952057,\n",
       "         0.74952057, 0.15534246, 0.15534246, 0.60860511, 0.60860511,\n",
       "         0.91599588, 0.91599588, 0.16060551, 0.16060551, 0.89219508,\n",
       "         0.89219508, 0.31935802, 0.31935802, 0.86573259, 0.86573259,\n",
       "         0.87341081, 0.87341081, 0.5477209 , 0.5477209 , 0.78583832,\n",
       "         0.78583832, 0.47449306, 0.47449306, 0.26368959, 0.26368959,\n",
       "         0.28434786, 0.28434786, 0.84812482, 0.84812482, 0.87764399,\n",
       "         0.87764399, 0.28074718, 0.28074718, 0.06300222, 0.06300222,\n",
       "         0.71353418, 0.71353418, 0.73659222, 0.73659222, 0.25436183,\n",
       "         0.25436183, 0.20584898, 0.20584898, 0.92948325, 0.92948325,\n",
       "         0.54993456, 0.54993456, 0.73607111, 0.73607111, 0.79243452,\n",
       "         0.79243452, 0.79902327, 0.79902327, 0.776115  , 0.776115  ,\n",
       "         0.70290513, 0.70290513, 0.01160187, 0.01160187, 0.22502274,\n",
       "         0.22502274, 0.92590456, 0.92590456, 0.4434568 , 0.4434568 ,\n",
       "         0.13379972, 0.13379972, 0.14281651, 0.14281651, 0.06188067,\n",
       "         0.06188067, 0.14745713, 0.14745713, 0.17804665, 0.17804665,\n",
       "         0.11585992, 0.11585992, 0.1975058 , 0.1975058 , 0.15038602,\n",
       "         0.15038602, 0.81552361, 0.81552361, 0.82529497, 0.82529497,\n",
       "         0.65684734, 0.65684734, 0.37969128, 0.37969128, 0.12456837,\n",
       "         0.12456837, 0.03136946, 0.03136946, 0.8270247 , 0.8270247 ,\n",
       "         0.13138618, 0.13138618, 0.48582011, 0.48582011, 0.94010324,\n",
       "         0.94010324, 0.14616351, 0.14616351, 0.53824176, 0.53824176,\n",
       "         0.86378522, 0.86378522, 0.57766176, 0.57766176, 0.40171186,\n",
       "         0.40171186, 0.6352994 , 0.6352994 , 0.27143881, 0.27143881,\n",
       "         0.83211239, 0.83211239, 0.17756156, 0.17756156, 0.86043032,\n",
       "         0.86043032, 0.10220193, 0.10220193, 0.44846931, 0.44846931,\n",
       "         0.39875714, 0.39875714, 0.23715539, 0.23715539, 0.12514937,\n",
       "         0.12514937, 0.49957074, 0.49957074, 0.27000608, 0.27000608,\n",
       "         0.02497192, 0.02497192, 0.10477599, 0.10477599, 0.35394424,\n",
       "         0.35394424, 0.96734652, 0.96734652, 0.05427063, 0.05427063,\n",
       "         0.10496245, 0.10496245, 0.23598319, 0.23598319, 0.98344959,\n",
       "         0.98344959, 0.88345135, 0.88345135, 0.10992307, 0.10992307,\n",
       "         0.08608024, 0.08608024, 0.62237498, 0.62237498, 0.23762896,\n",
       "         0.23762896, 0.21388678, 0.21388678, 0.33844642, 0.33844642,\n",
       "         0.47333181, 0.47333181, 0.83131105, 0.83131105, 0.71386995,\n",
       "         0.71386995, 0.59539593, 0.59539593, 0.70311002, 0.70311002,\n",
       "         0.66751295, 0.66751295, 0.17276876, 0.17276876, 0.24730955,\n",
       "         0.24730955, 0.47037482, 0.47037482, 0.69687471, 0.69687471,\n",
       "         0.30652565, 0.30652565, 0.4610956 , 0.4610956 , 0.77696635,\n",
       "         0.77696635, 0.92419833, 0.92419833, 0.47873465, 0.47873465])}}"
      ]
     },
     "execution_count": 1,
     "metadata": {},
     "output_type": "execute_result"
    }
   ],
   "source": [
    "ds = load_by_id(run_id_n)\n",
    "ds.get_parameter_data('x1')"
   ]
  },
  {
   "cell_type": "markdown",
   "metadata": {},
   "source": [
    "And a dataset stored as binary arrays"
   ]
  },
  {
   "cell_type": "code",
   "execution_count": 12,
   "metadata": {
    "execution": {
     "iopub.execute_input": "2020-09-23T16:49:55.234337Z",
     "iopub.status.busy": "2020-09-23T16:49:55.233729Z",
     "iopub.status.idle": "2020-09-23T16:49:55.295848Z",
     "shell.execute_reply": "2020-09-23T16:49:55.296432Z"
    },
    "scrolled": true
   },
   "outputs": [
    {
     "data": {
      "text/plain": [
       "{'x1': {'x1': array([[0.11363386],\n",
       "         [0.11363386],\n",
       "         [0.31494888],\n",
       "         [0.31494888],\n",
       "         [0.96964048],\n",
       "         [0.96964048],\n",
       "         [0.0710292 ],\n",
       "         [0.0710292 ],\n",
       "         [0.09340738],\n",
       "         [0.09340738],\n",
       "         [0.98171931],\n",
       "         [0.98171931],\n",
       "         [0.05673176],\n",
       "         [0.05673176],\n",
       "         [0.91417548],\n",
       "         [0.91417548],\n",
       "         [0.13682203],\n",
       "         [0.13682203],\n",
       "         [0.77374978],\n",
       "         [0.77374978],\n",
       "         [0.46100691],\n",
       "         [0.46100691],\n",
       "         [0.45645304],\n",
       "         [0.45645304],\n",
       "         [0.33496445],\n",
       "         [0.33496445],\n",
       "         [0.0125448 ],\n",
       "         [0.0125448 ],\n",
       "         [0.07273659],\n",
       "         [0.07273659],\n",
       "         [0.76148567],\n",
       "         [0.76148567],\n",
       "         [0.89224797],\n",
       "         [0.89224797],\n",
       "         [0.45130751],\n",
       "         [0.45130751],\n",
       "         [0.3061527 ],\n",
       "         [0.3061527 ],\n",
       "         [0.97858687],\n",
       "         [0.97858687],\n",
       "         [0.10748073],\n",
       "         [0.10748073],\n",
       "         [0.28815363],\n",
       "         [0.28815363],\n",
       "         [0.96180827],\n",
       "         [0.96180827],\n",
       "         [0.06202626],\n",
       "         [0.06202626],\n",
       "         [0.48266747],\n",
       "         [0.48266747],\n",
       "         [0.07519836],\n",
       "         [0.07519836],\n",
       "         [0.07783352],\n",
       "         [0.07783352],\n",
       "         [0.20198793],\n",
       "         [0.20198793],\n",
       "         [0.67808978],\n",
       "         [0.67808978],\n",
       "         [0.35765748],\n",
       "         [0.35765748],\n",
       "         [0.46467459],\n",
       "         [0.46467459],\n",
       "         [0.50402491],\n",
       "         [0.50402491],\n",
       "         [0.013202  ],\n",
       "         [0.013202  ],\n",
       "         [0.46563839],\n",
       "         [0.46563839],\n",
       "         [0.92913238],\n",
       "         [0.92913238],\n",
       "         [0.74060798],\n",
       "         [0.74060798],\n",
       "         [0.76746856],\n",
       "         [0.76746856],\n",
       "         [0.67854879],\n",
       "         [0.67854879],\n",
       "         [0.21303688],\n",
       "         [0.21303688],\n",
       "         [0.96039189],\n",
       "         [0.96039189],\n",
       "         [0.39920759],\n",
       "         [0.39920759],\n",
       "         [0.9146932 ],\n",
       "         [0.9146932 ],\n",
       "         [0.24480503],\n",
       "         [0.24480503],\n",
       "         [0.69499356],\n",
       "         [0.69499356],\n",
       "         [0.96035305],\n",
       "         [0.96035305],\n",
       "         [0.97423832],\n",
       "         [0.97423832],\n",
       "         [0.14011284],\n",
       "         [0.14011284],\n",
       "         [0.44808866],\n",
       "         [0.44808866],\n",
       "         [0.94661989],\n",
       "         [0.94661989],\n",
       "         [0.69375915],\n",
       "         [0.69375915],\n",
       "         [0.46687069],\n",
       "         [0.46687069],\n",
       "         [0.82735463],\n",
       "         [0.82735463],\n",
       "         [0.23674095],\n",
       "         [0.23674095],\n",
       "         [0.02909598],\n",
       "         [0.02909598],\n",
       "         [0.3447359 ],\n",
       "         [0.3447359 ],\n",
       "         [0.98064021],\n",
       "         [0.98064021],\n",
       "         [0.9594915 ],\n",
       "         [0.9594915 ],\n",
       "         [0.27381579],\n",
       "         [0.27381579],\n",
       "         [0.48107339],\n",
       "         [0.48107339],\n",
       "         [0.55248819],\n",
       "         [0.55248819],\n",
       "         [0.81967841],\n",
       "         [0.81967841],\n",
       "         [0.25449162],\n",
       "         [0.25449162],\n",
       "         [0.51682572],\n",
       "         [0.51682572],\n",
       "         [0.86442724],\n",
       "         [0.86442724],\n",
       "         [0.55309375],\n",
       "         [0.55309375],\n",
       "         [0.70957211],\n",
       "         [0.70957211],\n",
       "         [0.21576634],\n",
       "         [0.21576634],\n",
       "         [0.38027419],\n",
       "         [0.38027419],\n",
       "         [0.08814964],\n",
       "         [0.08814964],\n",
       "         [0.53738154],\n",
       "         [0.53738154],\n",
       "         [0.58462709],\n",
       "         [0.58462709],\n",
       "         [0.99195504],\n",
       "         [0.99195504],\n",
       "         [0.90377999],\n",
       "         [0.90377999],\n",
       "         [0.87929884],\n",
       "         [0.87929884],\n",
       "         [0.92368687],\n",
       "         [0.92368687],\n",
       "         [0.36135706],\n",
       "         [0.36135706],\n",
       "         [0.42085468],\n",
       "         [0.42085468],\n",
       "         [0.15984322],\n",
       "         [0.15984322],\n",
       "         [0.33097269],\n",
       "         [0.33097269],\n",
       "         [0.67776154],\n",
       "         [0.67776154],\n",
       "         [0.44523157],\n",
       "         [0.44523157],\n",
       "         [0.80114514],\n",
       "         [0.80114514],\n",
       "         [0.92241376],\n",
       "         [0.92241376],\n",
       "         [0.8797422 ],\n",
       "         [0.8797422 ],\n",
       "         [0.98627904],\n",
       "         [0.98627904],\n",
       "         [0.37048752],\n",
       "         [0.37048752],\n",
       "         [0.81171506],\n",
       "         [0.81171506],\n",
       "         [0.96552946],\n",
       "         [0.96552946],\n",
       "         [0.50582153],\n",
       "         [0.50582153],\n",
       "         [0.28070489],\n",
       "         [0.28070489],\n",
       "         [0.01778145],\n",
       "         [0.01778145],\n",
       "         [0.85817205],\n",
       "         [0.85817205],\n",
       "         [0.02677937],\n",
       "         [0.02677937],\n",
       "         [0.69936156],\n",
       "         [0.69936156],\n",
       "         [0.39351975],\n",
       "         [0.39351975],\n",
       "         [0.44339033],\n",
       "         [0.44339033],\n",
       "         [0.2769284 ],\n",
       "         [0.2769284 ],\n",
       "         [0.89455836],\n",
       "         [0.89455836],\n",
       "         [0.56739017],\n",
       "         [0.56739017],\n",
       "         [0.78377669],\n",
       "         [0.78377669]])}}"
      ]
     },
     "execution_count": 1,
     "metadata": {},
     "output_type": "execute_result"
    }
   ],
   "source": [
    "ds = load_by_id(run_id_a)\n",
    "ds.get_parameter_data('x1')"
   ]
  },
  {
   "cell_type": "code",
   "execution_count": null,
   "metadata": {},
   "outputs": [],
   "source": []
  }
 ],
 "metadata": {
  "kernelspec": {
   "display_name": "Python 3",
   "language": "python",
   "name": "python3"
  },
  "language_info": {
   "codemirror_mode": {
    "name": "ipython",
    "version": 3
   },
   "file_extension": ".py",
   "mimetype": "text/x-python",
   "name": "python",
   "nbconvert_exporter": "python",
   "pygments_lexer": "ipython3",
   "version": "3.7.7"
  },
  "nbsphinx": {
   "timeout": 600
  },
  "toc": {
   "base_numbering": 1,
   "nav_menu": {},
   "number_sections": true,
   "sideBar": true,
   "skip_h1_title": false,
   "title_cell": "Table of Contents",
   "title_sidebar": "Contents",
   "toc_cell": false,
   "toc_position": {},
   "toc_section_display": true,
   "toc_window_display": false
  },
  "varInspector": {
   "cols": {
    "lenName": 16,
    "lenType": 16,
    "lenVar": 40
   },
   "kernels_config": {
    "python": {
     "delete_cmd_postfix": "",
     "delete_cmd_prefix": "del ",
     "library": "var_list.py",
     "varRefreshCmd": "print(var_dic_list())"
    },
    "r": {
     "delete_cmd_postfix": ") ",
     "delete_cmd_prefix": "rm(",
     "library": "var_list.r",
     "varRefreshCmd": "cat(var_dic_list()) "
    }
   },
   "types_to_exclude": [
    "module",
    "function",
    "builtin_function_or_method",
    "instance",
    "_Feature"
   ],
   "window_display": false
  }
 },
 "nbformat": 4,
 "nbformat_minor": 2
}
