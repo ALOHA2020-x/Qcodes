{
 "cells": [
  {
   "cell_type": "markdown",
   "metadata": {},
   "source": [
    "# DataSet Performance\n",
    "\n",
    "This notebook shows the trade-off between inserting data into a database row-by-row and as binary blobs. Inserting the data row-by-row means that we have direct access to all the data and may perform queries directly on the values of the data. On the other hand, as we shall see, this is much slower than inserting the data directly as binary blobs."
   ]
  },
  {
   "cell_type": "markdown",
   "metadata": {},
   "source": [
    "First, we choose a new location for the database to ensure that we don't add a bunch of benchmarking data to the default one."
   ]
  },
  {
   "cell_type": "code",
   "execution_count": 1,
   "metadata": {
    "execution": {
     "iopub.execute_input": "2021-05-10T11:46:02.323815Z",
     "iopub.status.busy": "2021-05-10T11:46:02.323210Z",
     "iopub.status.idle": "2021-05-10T11:46:03.665328Z",
     "shell.execute_reply": "2021-05-10T11:46:03.664177Z"
    }
   },
   "outputs": [
    {
     "name": "stdout",
     "output_type": "stream",
     "text": [
      "Logging hadn't been started.\n",
      "Activating auto-logging. Current session state plus future input saved.\n",
      "Filename       : /home/runner/.qcodes/logs/command_history.log\n",
      "Mode           : append\n",
      "Output logging : True\n",
      "Raw input log  : False\n",
      "Timestamping   : True\n",
      "State          : active\n"
     ]
    },
    {
     "name": "stdout",
     "output_type": "stream",
     "text": [
      "Qcodes Logfile : /home/runner/.qcodes/logs/210510-5212-qcodes.log\n"
     ]
    }
   ],
   "source": [
    "import os\n",
    "cwd = os.getcwd()\n",
    "import qcodes as qc\n",
    "qc.config[\"core\"][\"db_location\"] = os.path.join(cwd, 'testing.db')\n"
   ]
  },
  {
   "cell_type": "code",
   "execution_count": 2,
   "metadata": {
    "execution": {
     "iopub.execute_input": "2021-05-10T11:46:03.671830Z",
     "iopub.status.busy": "2021-05-10T11:46:03.670692Z",
     "iopub.status.idle": "2021-05-10T11:46:03.898340Z",
     "shell.execute_reply": "2021-05-10T11:46:03.897758Z"
    }
   },
   "outputs": [],
   "source": [
    "%matplotlib inline\n",
    "import time\n",
    "import matplotlib.pyplot as plt\n",
    "import numpy as np\n",
    "\n",
    "import qcodes as qc\n",
    "from qcodes.instrument.parameter import ManualParameter\n",
    "from qcodes.dataset.experiment_container import (Experiment,\n",
    "                                                 load_last_experiment,\n",
    "                                                 new_experiment)\n",
    "from qcodes.dataset.sqlite.database import initialise_database\n",
    "from qcodes import load_or_create_experiment\n",
    "from qcodes.dataset.measurements import Measurement"
   ]
  },
  {
   "cell_type": "code",
   "execution_count": 3,
   "metadata": {
    "execution": {
     "iopub.execute_input": "2021-05-10T11:46:03.902826Z",
     "iopub.status.busy": "2021-05-10T11:46:03.902148Z",
     "iopub.status.idle": "2021-05-10T11:46:03.980179Z",
     "shell.execute_reply": "2021-05-10T11:46:03.980746Z"
    }
   },
   "outputs": [
    {
     "name": "stdout",
     "output_type": "stream",
     "text": [
      "\r",
      "0it [00:00, ?it/s]"
     ]
    },
    {
     "name": "stdout",
     "output_type": "stream",
     "text": [
      "\r",
      "Upgrading database; v0 -> v1: : 0it [00:00, ?it/s]"
     ]
    },
    {
     "name": "stdout",
     "output_type": "stream",
     "text": [
      "\r",
      "Upgrading database; v0 -> v1: : 0it [00:00, ?it/s]"
     ]
    },
    {
     "name": "stdout",
     "output_type": "stream",
     "text": [
      "\n",
      "\r",
      "  0%|          | 0/1 [00:00<?, ?it/s]"
     ]
    },
    {
     "name": "stdout",
     "output_type": "stream",
     "text": [
      "\r",
      "Upgrading database; v1 -> v2:   0%|          | 0/1 [00:00<?, ?it/s]"
     ]
    },
    {
     "name": "stdout",
     "output_type": "stream",
     "text": [
      "\r",
      "Upgrading database; v1 -> v2: 100%|██████████| 1/1 [00:00<00:00, 987.82it/s]"
     ]
    },
    {
     "name": "stdout",
     "output_type": "stream",
     "text": [
      "\n",
      "\r",
      "0it [00:00, ?it/s]"
     ]
    },
    {
     "name": "stdout",
     "output_type": "stream",
     "text": [
      "\r",
      "Upgrading database; v2 -> v3: : 0it [00:00, ?it/s]"
     ]
    },
    {
     "name": "stdout",
     "output_type": "stream",
     "text": [
      "\r",
      "Upgrading database; v2 -> v3: : 0it [00:00, ?it/s]"
     ]
    },
    {
     "name": "stdout",
     "output_type": "stream",
     "text": [
      "\n",
      "\r",
      "0it [00:00, ?it/s]"
     ]
    },
    {
     "name": "stdout",
     "output_type": "stream",
     "text": [
      "\r",
      "Upgrading database; v3 -> v4: : 0it [00:00, ?it/s]"
     ]
    },
    {
     "name": "stdout",
     "output_type": "stream",
     "text": [
      "\r",
      "Upgrading database; v3 -> v4: : 0it [00:00, ?it/s]"
     ]
    },
    {
     "name": "stdout",
     "output_type": "stream",
     "text": [
      "\n",
      "\r",
      "  0%|          | 0/1 [00:00<?, ?it/s]"
     ]
    },
    {
     "name": "stdout",
     "output_type": "stream",
     "text": [
      "\r",
      "Upgrading database; v4 -> v5:   0%|          | 0/1 [00:00<?, ?it/s]"
     ]
    },
    {
     "name": "stdout",
     "output_type": "stream",
     "text": [
      "\r",
      "Upgrading database; v4 -> v5: 100%|██████████| 1/1 [00:00<00:00, 671.41it/s]"
     ]
    },
    {
     "name": "stdout",
     "output_type": "stream",
     "text": [
      "\n",
      "\r",
      "0it [00:00, ?it/s]"
     ]
    },
    {
     "name": "stdout",
     "output_type": "stream",
     "text": [
      "\r",
      "Upgrading database; v5 -> v6: : 0it [00:00, ?it/s]"
     ]
    },
    {
     "name": "stdout",
     "output_type": "stream",
     "text": [
      "\r",
      "Upgrading database; v5 -> v6: : 0it [00:00, ?it/s]"
     ]
    },
    {
     "name": "stdout",
     "output_type": "stream",
     "text": [
      "\n",
      "\r",
      "  0%|          | 0/1 [00:00<?, ?it/s]"
     ]
    },
    {
     "name": "stdout",
     "output_type": "stream",
     "text": [
      "\r",
      "Upgrading database; v6 -> v7:   0%|          | 0/1 [00:00<?, ?it/s]"
     ]
    },
    {
     "name": "stdout",
     "output_type": "stream",
     "text": [
      "\r",
      "Upgrading database; v6 -> v7: 100%|██████████| 1/1 [00:00<00:00, 263.18it/s]"
     ]
    },
    {
     "name": "stdout",
     "output_type": "stream",
     "text": [
      "\n",
      "\r",
      "  0%|          | 0/1 [00:00<?, ?it/s]"
     ]
    },
    {
     "name": "stdout",
     "output_type": "stream",
     "text": [
      "\r",
      "Upgrading database; v7 -> v8:   0%|          | 0/1 [00:00<?, ?it/s]"
     ]
    },
    {
     "name": "stdout",
     "output_type": "stream",
     "text": [
      "\r",
      "Upgrading database; v7 -> v8: 100%|██████████| 1/1 [00:00<00:00, 701.62it/s]"
     ]
    },
    {
     "name": "stdout",
     "output_type": "stream",
     "text": [
      "\n",
      "\r",
      "  0%|          | 0/1 [00:00<?, ?it/s]"
     ]
    },
    {
     "name": "stdout",
     "output_type": "stream",
     "text": [
      "\r",
      "Upgrading database; v8 -> v9:   0%|          | 0/1 [00:00<?, ?it/s]"
     ]
    },
    {
     "name": "stdout",
     "output_type": "stream",
     "text": [
      "\r",
      "Upgrading database; v8 -> v9: 100%|██████████| 1/1 [00:00<00:00, 414.50it/s]"
     ]
    },
    {
     "name": "stdout",
     "output_type": "stream",
     "text": [
      "\n"
     ]
    }
   ],
   "source": [
    "initialise_database()\n",
    "exp = load_or_create_experiment(experiment_name='tutorial_exp', sample_name=\"no sample\")"
   ]
  },
  {
   "cell_type": "markdown",
   "metadata": {},
   "source": [
    "Here, we define a simple function to benchmark the time it takes to insert n points with either numeric or array data type.\n",
    "We will compare both the time used to call ``add_result`` and the time used for the full measurement."
   ]
  },
  {
   "cell_type": "code",
   "execution_count": 4,
   "metadata": {
    "execution": {
     "iopub.execute_input": "2021-05-10T11:46:03.990726Z",
     "iopub.status.busy": "2021-05-10T11:46:03.990067Z",
     "iopub.status.idle": "2021-05-10T11:46:03.993720Z",
     "shell.execute_reply": "2021-05-10T11:46:03.994461Z"
    }
   },
   "outputs": [],
   "source": [
    "def insert_data(paramtype, npoints, nreps=1):\n",
    "\n",
    "    meas = Measurement(exp=exp)\n",
    "\n",
    "    x1 = ManualParameter('x1')\n",
    "    x2 = ManualParameter('x2')\n",
    "    x3 = ManualParameter('x3')\n",
    "    y1 = ManualParameter('y1')\n",
    "    y2 = ManualParameter('y2')\n",
    "\n",
    "    meas.register_parameter(x1, paramtype=paramtype)\n",
    "    meas.register_parameter(x2, paramtype=paramtype)\n",
    "    meas.register_parameter(x3, paramtype=paramtype)\n",
    "    meas.register_parameter(y1, setpoints=[x1, x2, x3],\n",
    "                            paramtype=paramtype)\n",
    "    meas.register_parameter(y2, setpoints=[x1, x2, x3],\n",
    "                            paramtype=paramtype)\n",
    "    start = time.perf_counter()\n",
    "    with meas.run() as datasaver:\n",
    "        start_adding = time.perf_counter()\n",
    "        for i in range(nreps):\n",
    "            datasaver.add_result((x1, np.random.rand(npoints)),\n",
    "                                 (x2, np.random.rand(npoints)),\n",
    "                                 (x3, np.random.rand(npoints)),\n",
    "                                 (y1, np.random.rand(npoints)),\n",
    "                                 (y2, np.random.rand(npoints)))\n",
    "        stop_adding = time.perf_counter()\n",
    "        run_id = datasaver.run_id\n",
    "    stop = time.perf_counter()\n",
    "    tot_time = stop - start\n",
    "    add_time = stop_adding - start_adding\n",
    "    return tot_time, add_time, run_id"
   ]
  },
  {
   "cell_type": "markdown",
   "metadata": {},
   "source": [
    "## Comparison between numeric/array data and binary blob"
   ]
  },
  {
   "cell_type": "markdown",
   "metadata": {},
   "source": [
    "### Case1: Short experiment time"
   ]
  },
  {
   "cell_type": "code",
   "execution_count": 5,
   "metadata": {
    "execution": {
     "iopub.execute_input": "2021-05-10T11:46:04.001796Z",
     "iopub.status.busy": "2021-05-10T11:46:04.000634Z",
     "iopub.status.idle": "2021-05-10T11:46:04.951111Z",
     "shell.execute_reply": "2021-05-10T11:46:04.950160Z"
    }
   },
   "outputs": [
    {
     "name": "stdout",
     "output_type": "stream",
     "text": [
      "Starting experimental run with id: 1. \n",
      "Starting experimental run with id: 2. \n",
      "Starting experimental run with id: 3. \n"
     ]
    },
    {
     "name": "stdout",
     "output_type": "stream",
     "text": [
      "Starting experimental run with id: 4. \n"
     ]
    },
    {
     "name": "stdout",
     "output_type": "stream",
     "text": [
      "Starting experimental run with id: 5. \n"
     ]
    },
    {
     "name": "stdout",
     "output_type": "stream",
     "text": [
      "Starting experimental run with id: 6. \n",
      "Starting experimental run with id: 7. \n"
     ]
    },
    {
     "name": "stdout",
     "output_type": "stream",
     "text": [
      "Starting experimental run with id: 8. \n"
     ]
    },
    {
     "name": "stdout",
     "output_type": "stream",
     "text": [
      "Starting experimental run with id: 9. \n"
     ]
    },
    {
     "name": "stdout",
     "output_type": "stream",
     "text": [
      "Starting experimental run with id: 10. \n",
      "Starting experimental run with id: 11. \n"
     ]
    },
    {
     "name": "stdout",
     "output_type": "stream",
     "text": [
      "Starting experimental run with id: 12. \n"
     ]
    },
    {
     "name": "stdout",
     "output_type": "stream",
     "text": [
      "Starting experimental run with id: 13. \n"
     ]
    },
    {
     "name": "stdout",
     "output_type": "stream",
     "text": [
      "Starting experimental run with id: 14. \n"
     ]
    }
   ],
   "source": [
    "sizes = [1,500,1000,2000,3000,4000,5000]\n",
    "t_numeric = []\n",
    "t_numeric_add = []\n",
    "t_array = []\n",
    "t_array_add = []\n",
    "for size in sizes:\n",
    "    tn, tna, run_id_n =  insert_data('numeric', size)\n",
    "    t_numeric.append(tn)\n",
    "    t_numeric_add.append(tna)\n",
    "\n",
    "    ta, taa, run_id_a =  insert_data('array', size)\n",
    "    t_array.append(ta)\n",
    "    t_array_add.append(taa)"
   ]
  },
  {
   "cell_type": "code",
   "execution_count": 6,
   "metadata": {
    "execution": {
     "iopub.execute_input": "2021-05-10T11:46:05.008059Z",
     "iopub.status.busy": "2021-05-10T11:46:04.974783Z",
     "iopub.status.idle": "2021-05-10T11:46:05.279028Z",
     "shell.execute_reply": "2021-05-10T11:46:05.278438Z"
    }
   },
   "outputs": [
    {
     "data": {
      "image/png": "[encoded data removed]",
      "text/plain": [
       "<Figure size 432x288 with 1 Axes>"
      ]
     },
     "metadata": {
      "needs_background": "light"
     },
     "output_type": "display_data"
    }
   ],
   "source": [
    "fig, ax = plt.subplots(1,1)\n",
    "ax.plot(sizes, t_numeric, 'o-', label='Inserting row-by-row')\n",
    "ax.plot(sizes, t_numeric_add, 'o-', label='Inserting row-by-row: add_result only')\n",
    "ax.plot(sizes, t_array, 'd-', label='Inserting as binary blob')\n",
    "ax.plot(sizes, t_array_add, 'd-', label='Inserting as binary blob: add_result only')\n",
    "ax.legend()\n",
    "ax.set_xlabel('Array length')\n",
    "ax.set_ylabel('Time (s)')\n",
    "fig.tight_layout()"
   ]
  },
  {
   "cell_type": "markdown",
   "metadata": {},
   "source": [
    "As shown in the latter figure, the time to setup and and close the experiment is approximately 0.4 sec. In case of small array sizes, the difference between inserting values of data as arrays and inserting them row-by-row is relatively unimportant. At larger array sizes, i.e. above 10000 points, the cost of writing data as individual datapoints starts to become important.\n"
   ]
  },
  {
   "cell_type": "markdown",
   "metadata": {},
   "source": [
    "### Case2: Long experiment time "
   ]
  },
  {
   "cell_type": "code",
   "execution_count": 7,
   "metadata": {
    "execution": {
     "iopub.execute_input": "2021-05-10T11:46:05.287612Z",
     "iopub.status.busy": "2021-05-10T11:46:05.286933Z",
     "iopub.status.idle": "2021-05-10T11:47:07.576609Z",
     "shell.execute_reply": "2021-05-10T11:47:07.575504Z"
    }
   },
   "outputs": [
    {
     "name": "stdout",
     "output_type": "stream",
     "text": [
      "Starting experimental run with id: 15. \n",
      "Starting experimental run with id: 16. \n"
     ]
    },
    {
     "name": "stdout",
     "output_type": "stream",
     "text": [
      "Starting experimental run with id: 17. \n"
     ]
    },
    {
     "name": "stdout",
     "output_type": "stream",
     "text": [
      "Starting experimental run with id: 18. \n"
     ]
    },
    {
     "name": "stdout",
     "output_type": "stream",
     "text": [
      "Starting experimental run with id: 19. \n"
     ]
    },
    {
     "name": "stdout",
     "output_type": "stream",
     "text": [
      "Starting experimental run with id: 20. \n"
     ]
    },
    {
     "name": "stdout",
     "output_type": "stream",
     "text": [
      "Starting experimental run with id: 21. \n"
     ]
    },
    {
     "name": "stdout",
     "output_type": "stream",
     "text": [
      "Starting experimental run with id: 22. \n"
     ]
    },
    {
     "name": "stdout",
     "output_type": "stream",
     "text": [
      "Starting experimental run with id: 23. \n"
     ]
    },
    {
     "name": "stdout",
     "output_type": "stream",
     "text": [
      "Starting experimental run with id: 24. \n"
     ]
    },
    {
     "name": "stdout",
     "output_type": "stream",
     "text": [
      "Starting experimental run with id: 25. \n"
     ]
    },
    {
     "name": "stdout",
     "output_type": "stream",
     "text": [
      "Starting experimental run with id: 26. \n"
     ]
    },
    {
     "name": "stdout",
     "output_type": "stream",
     "text": [
      "Starting experimental run with id: 27. \n"
     ]
    },
    {
     "name": "stdout",
     "output_type": "stream",
     "text": [
      "Starting experimental run with id: 28. \n"
     ]
    }
   ],
   "source": [
    "sizes = [1,500,1000,2000,3000,4000,5000]\n",
    "nreps = 100\n",
    "t_numeric = []\n",
    "t_numeric_add = []\n",
    "t_numeric_run_ids = []\n",
    "t_array = []\n",
    "t_array_add = []\n",
    "t_array_run_ids = []\n",
    "for size in sizes:\n",
    "    tn, tna, run_id_n =  insert_data('numeric', size, nreps=nreps)\n",
    "    t_numeric.append(tn)\n",
    "    t_numeric_add.append(tna)\n",
    "    t_numeric_run_ids.append(run_id_n)\n",
    "\n",
    "    ta, taa, run_id_a =  insert_data('array', size, nreps=nreps)\n",
    "    t_array.append(ta)\n",
    "    t_array_add.append(taa)\n",
    "    t_array_run_ids.append(run_id_a)"
   ]
  },
  {
   "cell_type": "code",
   "execution_count": 8,
   "metadata": {
    "execution": {
     "iopub.execute_input": "2021-05-10T11:47:07.612073Z",
     "iopub.status.busy": "2021-05-10T11:47:07.597022Z",
     "iopub.status.idle": "2021-05-10T11:47:07.857340Z",
     "shell.execute_reply": "2021-05-10T11:47:07.857836Z"
    },
    "scrolled": true
   },
   "outputs": [
    {
     "data": {
      "image/png": "[encoded data removed]",
      "text/plain": [
       "<Figure size 432x288 with 1 Axes>"
      ]
     },
     "metadata": {
      "needs_background": "light"
     },
     "output_type": "display_data"
    }
   ],
   "source": [
    "fig, ax = plt.subplots(1,1)\n",
    "ax.plot(sizes, t_numeric, 'o-', label='Inserting row-by-row')\n",
    "ax.plot(sizes, t_numeric_add, 'o-', label='Inserting row-by-row: add_result only')\n",
    "ax.plot(sizes, t_array, 'd-', label='Inserting as binary blob')\n",
    "ax.plot(sizes, t_array_add, 'd-', label='Inserting as binary blob: add_result only')\n",
    "ax.legend()\n",
    "ax.set_xlabel('Array length')\n",
    "ax.set_ylabel('Time (s)')\n",
    "fig.tight_layout()"
   ]
  },
  {
   "cell_type": "markdown",
   "metadata": {},
   "source": [
    "However, as we increase the length of the experiment, as seen here by repeating the insertion 100 times, we see a big difference between inserting values of the data row-by-row and inserting it as a binary blob."
   ]
  },
  {
   "cell_type": "markdown",
   "metadata": {},
   "source": [
    "## Loading the data "
   ]
  },
  {
   "cell_type": "code",
   "execution_count": 9,
   "metadata": {
    "execution": {
     "iopub.execute_input": "2021-05-10T11:47:07.862676Z",
     "iopub.status.busy": "2021-05-10T11:47:07.862128Z",
     "iopub.status.idle": "2021-05-10T11:47:07.865571Z",
     "shell.execute_reply": "2021-05-10T11:47:07.866044Z"
    }
   },
   "outputs": [],
   "source": [
    "from qcodes.dataset.data_set import load_by_id"
   ]
  },
  {
   "cell_type": "markdown",
   "metadata": {},
   "source": [
    "As usual you can load the data by using the ``load_by_id`` function but you will notice that the different storage methods\n",
    "are reflected in shape of the data as it is retrieved. "
   ]
  },
  {
   "cell_type": "code",
   "execution_count": 10,
   "metadata": {
    "execution": {
     "iopub.execute_input": "2021-05-10T11:47:07.870755Z",
     "iopub.status.busy": "2021-05-10T11:47:07.870106Z",
     "iopub.status.idle": "2021-05-10T11:47:07.874055Z",
     "shell.execute_reply": "2021-05-10T11:47:07.873546Z"
    }
   },
   "outputs": [],
   "source": [
    "run_id_n = t_numeric_run_ids[0]\n",
    "run_id_a = t_array_run_ids[0]"
   ]
  },
  {
   "cell_type": "code",
   "execution_count": 11,
   "metadata": {
    "execution": {
     "iopub.execute_input": "2021-05-10T11:47:07.878041Z",
     "iopub.status.busy": "2021-05-10T11:47:07.877462Z",
     "iopub.status.idle": "2021-05-10T11:47:07.889403Z",
     "shell.execute_reply": "2021-05-10T11:47:07.888693Z"
    },
    "scrolled": true
   },
   "outputs": [
    {
     "data": {
      "text/plain": [
       "{'x1': {'x1': array([3.51367304e-01, 3.51367304e-01, 9.16278649e-01, 9.16278649e-01,\n",
       "         1.68877646e-01, 1.68877646e-01, 9.43069059e-01, 9.43069059e-01,\n",
       "         5.16625317e-01, 5.16625317e-01, 5.21446780e-01, 5.21446780e-01,\n",
       "         8.80764592e-01, 8.80764592e-01, 3.56564712e-01, 3.56564712e-01,\n",
       "         2.89291861e-01, 2.89291861e-01, 3.63368478e-01, 3.63368478e-01,\n",
       "         6.10358674e-01, 6.10358674e-01, 5.18961764e-01, 5.18961764e-01,\n",
       "         1.27707683e-01, 1.27707683e-01, 7.89657863e-01, 7.89657863e-01,\n",
       "         8.04403366e-01, 8.04403366e-01, 4.55069391e-01, 4.55069391e-01,\n",
       "         7.62574006e-01, 7.62574006e-01, 2.94523089e-01, 2.94523089e-01,\n",
       "         5.17803190e-01, 5.17803190e-01, 8.89605961e-01, 8.89605961e-01,\n",
       "         9.40793075e-02, 9.40793075e-02, 2.50555420e-01, 2.50555420e-01,\n",
       "         8.85497943e-01, 8.85497943e-01, 9.27592849e-01, 9.27592849e-01,\n",
       "         4.10831299e-01, 4.10831299e-01, 4.96690675e-01, 4.96690675e-01,\n",
       "         9.25356440e-01, 9.25356440e-01, 5.12049346e-01, 5.12049346e-01,\n",
       "         1.57198249e-01, 1.57198249e-01, 9.48127552e-01, 9.48127552e-01,\n",
       "         9.47195853e-01, 9.47195853e-01, 4.10146405e-01, 4.10146405e-01,\n",
       "         9.93734262e-01, 9.93734262e-01, 5.05918827e-01, 5.05918827e-01,\n",
       "         4.79825617e-01, 4.79825617e-01, 5.84783885e-01, 5.84783885e-01,\n",
       "         3.25832977e-01, 3.25832977e-01, 5.56783447e-01, 5.56783447e-01,\n",
       "         4.40516733e-01, 4.40516733e-01, 4.90095342e-01, 4.90095342e-01,\n",
       "         8.17347516e-03, 8.17347516e-03, 5.61571706e-01, 5.61571706e-01,\n",
       "         1.05421855e-04, 1.05421855e-04, 6.04760403e-01, 6.04760403e-01,\n",
       "         3.06972212e-02, 3.06972212e-02, 4.41101202e-01, 4.41101202e-01,\n",
       "         2.87843647e-01, 2.87843647e-01, 1.84979389e-01, 1.84979389e-01,\n",
       "         5.17648441e-01, 5.17648441e-01, 7.40432950e-01, 7.40432950e-01,\n",
       "         4.18049593e-01, 4.18049593e-01, 3.64993924e-01, 3.64993924e-01,\n",
       "         9.39911165e-02, 9.39911165e-02, 7.83291072e-01, 7.83291072e-01,\n",
       "         5.55779501e-01, 5.55779501e-01, 6.79203582e-01, 6.79203582e-01,\n",
       "         1.85175769e-01, 1.85175769e-01, 7.02522045e-01, 7.02522045e-01,\n",
       "         1.88440282e-01, 1.88440282e-01, 4.17744575e-01, 4.17744575e-01,\n",
       "         8.50699296e-01, 8.50699296e-01, 7.17811370e-01, 7.17811370e-01,\n",
       "         7.83871539e-01, 7.83871539e-01, 7.39275812e-01, 7.39275812e-01,\n",
       "         1.29892063e-01, 1.29892063e-01, 2.33359459e-01, 2.33359459e-01,\n",
       "         6.48784703e-01, 6.48784703e-01, 2.55792674e-01, 2.55792674e-01,\n",
       "         6.68568123e-01, 6.68568123e-01, 5.45947318e-01, 5.45947318e-01,\n",
       "         4.90945952e-02, 4.90945952e-02, 1.03963000e-02, 1.03963000e-02,\n",
       "         8.90259571e-01, 8.90259571e-01, 7.96796004e-01, 7.96796004e-01,\n",
       "         8.96794848e-01, 8.96794848e-01, 8.61086431e-01, 8.61086431e-01,\n",
       "         6.12436701e-01, 6.12436701e-01, 4.47345594e-01, 4.47345594e-01,\n",
       "         1.35920452e-01, 1.35920452e-01, 4.24080672e-01, 4.24080672e-01,\n",
       "         1.76877698e-01, 1.76877698e-01, 3.13318112e-01, 3.13318112e-01,\n",
       "         6.32536729e-02, 6.32536729e-02, 4.60531286e-01, 4.60531286e-01,\n",
       "         5.43835242e-01, 5.43835242e-01, 8.70585841e-01, 8.70585841e-01,\n",
       "         8.13059927e-01, 8.13059927e-01, 5.25307961e-01, 5.25307961e-01,\n",
       "         2.61669504e-01, 2.61669504e-01, 9.63333022e-01, 9.63333022e-01,\n",
       "         3.26186321e-01, 3.26186321e-01, 3.60004271e-01, 3.60004271e-01,\n",
       "         5.05941516e-01, 5.05941516e-01, 8.14563255e-01, 8.14563255e-01,\n",
       "         5.02389092e-01, 5.02389092e-01, 9.11622464e-01, 9.11622464e-01,\n",
       "         1.05062013e-01, 1.05062013e-01, 1.17897750e-01, 1.17897750e-01,\n",
       "         6.92028597e-01, 6.92028597e-01, 5.40107059e-01, 5.40107059e-01])}}"
      ]
     },
     "execution_count": 1,
     "metadata": {},
     "output_type": "execute_result"
    }
   ],
   "source": [
    "ds = load_by_id(run_id_n)\n",
    "ds.get_parameter_data('x1')"
   ]
  },
  {
   "cell_type": "markdown",
   "metadata": {},
   "source": [
    "And a dataset stored as binary arrays"
   ]
  },
  {
   "cell_type": "code",
   "execution_count": 12,
   "metadata": {
    "execution": {
     "iopub.execute_input": "2021-05-10T11:47:07.893308Z",
     "iopub.status.busy": "2021-05-10T11:47:07.892691Z",
     "iopub.status.idle": "2021-05-10T11:47:07.966096Z",
     "shell.execute_reply": "2021-05-10T11:47:07.966600Z"
    },
    "scrolled": true
   },
   "outputs": [
    {
     "data": {
      "text/plain": [
       "{'x1': {'x1': array([[0.36855466],\n",
       "         [0.36855466],\n",
       "         [0.49325514],\n",
       "         [0.49325514],\n",
       "         [0.31093211],\n",
       "         [0.31093211],\n",
       "         [0.24360198],\n",
       "         [0.24360198],\n",
       "         [0.06327933],\n",
       "         [0.06327933],\n",
       "         [0.0387225 ],\n",
       "         [0.0387225 ],\n",
       "         [0.48432242],\n",
       "         [0.48432242],\n",
       "         [0.36097709],\n",
       "         [0.36097709],\n",
       "         [0.0656443 ],\n",
       "         [0.0656443 ],\n",
       "         [0.06067793],\n",
       "         [0.06067793],\n",
       "         [0.34622865],\n",
       "         [0.34622865],\n",
       "         [0.77240184],\n",
       "         [0.77240184],\n",
       "         [0.66985698],\n",
       "         [0.66985698],\n",
       "         [0.11947545],\n",
       "         [0.11947545],\n",
       "         [0.97457058],\n",
       "         [0.97457058],\n",
       "         [0.96856167],\n",
       "         [0.96856167],\n",
       "         [0.83934212],\n",
       "         [0.83934212],\n",
       "         [0.35171788],\n",
       "         [0.35171788],\n",
       "         [0.16180436],\n",
       "         [0.16180436],\n",
       "         [0.93247021],\n",
       "         [0.93247021],\n",
       "         [0.98068056],\n",
       "         [0.98068056],\n",
       "         [0.48973465],\n",
       "         [0.48973465],\n",
       "         [0.19731922],\n",
       "         [0.19731922],\n",
       "         [0.45886809],\n",
       "         [0.45886809],\n",
       "         [0.37439288],\n",
       "         [0.37439288],\n",
       "         [0.00908758],\n",
       "         [0.00908758],\n",
       "         [0.63004424],\n",
       "         [0.63004424],\n",
       "         [0.6894109 ],\n",
       "         [0.6894109 ],\n",
       "         [0.7067691 ],\n",
       "         [0.7067691 ],\n",
       "         [0.7168552 ],\n",
       "         [0.7168552 ],\n",
       "         [0.25639989],\n",
       "         [0.25639989],\n",
       "         [0.09176286],\n",
       "         [0.09176286],\n",
       "         [0.89804858],\n",
       "         [0.89804858],\n",
       "         [0.97603019],\n",
       "         [0.97603019],\n",
       "         [0.00929634],\n",
       "         [0.00929634],\n",
       "         [0.61545514],\n",
       "         [0.61545514],\n",
       "         [0.93795071],\n",
       "         [0.93795071],\n",
       "         [0.7991663 ],\n",
       "         [0.7991663 ],\n",
       "         [0.93416044],\n",
       "         [0.93416044],\n",
       "         [0.57768348],\n",
       "         [0.57768348],\n",
       "         [0.06643321],\n",
       "         [0.06643321],\n",
       "         [0.47403697],\n",
       "         [0.47403697],\n",
       "         [0.05620343],\n",
       "         [0.05620343],\n",
       "         [0.92991377],\n",
       "         [0.92991377],\n",
       "         [0.63186036],\n",
       "         [0.63186036],\n",
       "         [0.6595112 ],\n",
       "         [0.6595112 ],\n",
       "         [0.51146852],\n",
       "         [0.51146852],\n",
       "         [0.40120586],\n",
       "         [0.40120586],\n",
       "         [0.14670252],\n",
       "         [0.14670252],\n",
       "         [0.00907585],\n",
       "         [0.00907585],\n",
       "         [0.17936346],\n",
       "         [0.17936346],\n",
       "         [0.7056659 ],\n",
       "         [0.7056659 ],\n",
       "         [0.26581912],\n",
       "         [0.26581912],\n",
       "         [0.35328082],\n",
       "         [0.35328082],\n",
       "         [0.77084224],\n",
       "         [0.77084224],\n",
       "         [0.55715081],\n",
       "         [0.55715081],\n",
       "         [0.3739258 ],\n",
       "         [0.3739258 ],\n",
       "         [0.71979361],\n",
       "         [0.71979361],\n",
       "         [0.42203675],\n",
       "         [0.42203675],\n",
       "         [0.38181575],\n",
       "         [0.38181575],\n",
       "         [0.79955538],\n",
       "         [0.79955538],\n",
       "         [0.19681415],\n",
       "         [0.19681415],\n",
       "         [0.6444887 ],\n",
       "         [0.6444887 ],\n",
       "         [0.91111219],\n",
       "         [0.91111219],\n",
       "         [0.49857149],\n",
       "         [0.49857149],\n",
       "         [0.30235156],\n",
       "         [0.30235156],\n",
       "         [0.93714815],\n",
       "         [0.93714815],\n",
       "         [0.47065734],\n",
       "         [0.47065734],\n",
       "         [0.66597387],\n",
       "         [0.66597387],\n",
       "         [0.17218782],\n",
       "         [0.17218782],\n",
       "         [0.77521027],\n",
       "         [0.77521027],\n",
       "         [0.97488691],\n",
       "         [0.97488691],\n",
       "         [0.50669147],\n",
       "         [0.50669147],\n",
       "         [0.65320381],\n",
       "         [0.65320381],\n",
       "         [0.19895918],\n",
       "         [0.19895918],\n",
       "         [0.05961914],\n",
       "         [0.05961914],\n",
       "         [0.66037304],\n",
       "         [0.66037304],\n",
       "         [0.76930219],\n",
       "         [0.76930219],\n",
       "         [0.00573448],\n",
       "         [0.00573448],\n",
       "         [0.8567479 ],\n",
       "         [0.8567479 ],\n",
       "         [0.81908006],\n",
       "         [0.81908006],\n",
       "         [0.38522287],\n",
       "         [0.38522287],\n",
       "         [0.2996711 ],\n",
       "         [0.2996711 ],\n",
       "         [0.33534804],\n",
       "         [0.33534804],\n",
       "         [0.7572919 ],\n",
       "         [0.7572919 ],\n",
       "         [0.28424407],\n",
       "         [0.28424407],\n",
       "         [0.94670123],\n",
       "         [0.94670123],\n",
       "         [0.37365251],\n",
       "         [0.37365251],\n",
       "         [0.87614279],\n",
       "         [0.87614279],\n",
       "         [0.05752472],\n",
       "         [0.05752472],\n",
       "         [0.49196724],\n",
       "         [0.49196724],\n",
       "         [0.42208972],\n",
       "         [0.42208972],\n",
       "         [0.18444145],\n",
       "         [0.18444145],\n",
       "         [0.16932519],\n",
       "         [0.16932519],\n",
       "         [0.48663611],\n",
       "         [0.48663611],\n",
       "         [0.21617824],\n",
       "         [0.21617824],\n",
       "         [0.29131439],\n",
       "         [0.29131439],\n",
       "         [0.68683764],\n",
       "         [0.68683764],\n",
       "         [0.20310589],\n",
       "         [0.20310589],\n",
       "         [0.2218648 ],\n",
       "         [0.2218648 ]])}}"
      ]
     },
     "execution_count": 1,
     "metadata": {},
     "output_type": "execute_result"
    }
   ],
   "source": [
    "ds = load_by_id(run_id_a)\n",
    "ds.get_parameter_data('x1')"
   ]
  },
  {
   "cell_type": "code",
   "execution_count": null,
   "metadata": {},
   "outputs": [],
   "source": []
  }
 ],
 "metadata": {
  "kernelspec": {
   "display_name": "Python 3",
   "language": "python",
   "name": "python3"
  },
  "language_info": {
   "codemirror_mode": {
    "name": "ipython",
    "version": 3
   },
   "file_extension": ".py",
   "mimetype": "text/x-python",
   "name": "python",
   "nbconvert_exporter": "python",
   "pygments_lexer": "ipython3",
   "version": "3.7.10"
  },
  "nbsphinx": {
   "timeout": 600
  },
  "toc": {
   "base_numbering": 1,
   "nav_menu": {},
   "number_sections": true,
   "sideBar": true,
   "skip_h1_title": false,
   "title_cell": "Table of Contents",
   "title_sidebar": "Contents",
   "toc_cell": false,
   "toc_position": {},
   "toc_section_display": true,
   "toc_window_display": false
  },
  "varInspector": {
   "cols": {
    "lenName": 16,
    "lenType": 16,
    "lenVar": 40
   },
   "kernels_config": {
    "python": {
     "delete_cmd_postfix": "",
     "delete_cmd_prefix": "del ",
     "library": "var_list.py",
     "varRefreshCmd": "print(var_dic_list())"
    },
    "r": {
     "delete_cmd_postfix": ") ",
     "delete_cmd_prefix": "rm(",
     "library": "var_list.r",
     "varRefreshCmd": "cat(var_dic_list()) "
    }
   },
   "types_to_exclude": [
    "module",
    "function",
    "builtin_function_or_method",
    "instance",
    "_Feature"
   ],
   "window_display": false
  }
 },
 "nbformat": 4,
 "nbformat_minor": 4
}
