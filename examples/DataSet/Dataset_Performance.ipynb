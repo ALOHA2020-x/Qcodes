{
 "cells": [
  {
   "cell_type": "markdown",
   "metadata": {},
   "source": [
    "# DataSet Performance\n",
    "\n",
    "This notebook shows the trade-off between inserting data into a database row-by-row and as binary blobs. Inserting the data row-by-row means that we have direct access to all the data and may perform queries directly on the values of the data. On the other hand, as we shall see, this is much slower than inserting the data directly as binary blobs."
   ]
  },
  {
   "cell_type": "markdown",
   "metadata": {},
   "source": [
    "First, we choose a new location for the database to ensure that we don't add a bunch of benchmarking data to the default one."
   ]
  },
  {
   "cell_type": "code",
   "execution_count": 1,
   "metadata": {
    "execution": {
     "iopub.execute_input": "2020-12-16T12:53:10.104232Z",
     "iopub.status.busy": "2020-12-16T12:53:10.103174Z",
     "iopub.status.idle": "2020-12-16T12:53:11.107560Z",
     "shell.execute_reply": "2020-12-16T12:53:11.108014Z"
    }
   },
   "outputs": [
    {
     "name": "stdout",
     "output_type": "stream",
     "text": [
      "Logging hadn't been started.\n",
      "Activating auto-logging. Current session state plus future input saved.\n",
      "Filename       : /home/vsts/.qcodes/logs/command_history.log\n",
      "Mode           : append\n",
      "Output logging : True\n",
      "Raw input log  : False\n",
      "Timestamping   : True\n",
      "State          : active\n"
     ]
    },
    {
     "name": "stdout",
     "output_type": "stream",
     "text": [
      "Qcodes Logfile : /home/vsts/.qcodes/logs/201216-14676-qcodes.log\n"
     ]
    }
   ],
   "source": [
    "import os\n",
    "cwd = os.getcwd()\n",
    "import qcodes as qc\n",
    "qc.config[\"core\"][\"db_location\"] = os.path.join(cwd, 'testing.db')\n"
   ]
  },
  {
   "cell_type": "code",
   "execution_count": 2,
   "metadata": {
    "execution": {
     "iopub.execute_input": "2020-12-16T12:53:11.114895Z",
     "iopub.status.busy": "2020-12-16T12:53:11.113660Z",
     "iopub.status.idle": "2020-12-16T12:53:11.283155Z",
     "shell.execute_reply": "2020-12-16T12:53:11.283647Z"
    }
   },
   "outputs": [],
   "source": [
    "%matplotlib inline\n",
    "import time\n",
    "import matplotlib.pyplot as plt\n",
    "import numpy as np\n",
    "\n",
    "import qcodes as qc\n",
    "from qcodes.instrument.parameter import ManualParameter\n",
    "from qcodes.dataset.experiment_container import (Experiment,\n",
    "                                                 load_last_experiment,\n",
    "                                                 new_experiment)\n",
    "from qcodes.dataset.sqlite.database import initialise_database\n",
    "from qcodes import load_or_create_experiment\n",
    "from qcodes.dataset.measurements import Measurement"
   ]
  },
  {
   "cell_type": "code",
   "execution_count": 3,
   "metadata": {
    "execution": {
     "iopub.execute_input": "2020-12-16T12:53:11.288151Z",
     "iopub.status.busy": "2020-12-16T12:53:11.287216Z",
     "iopub.status.idle": "2020-12-16T12:53:11.406820Z",
     "shell.execute_reply": "2020-12-16T12:53:11.406279Z"
    }
   },
   "outputs": [
    {
     "name": "stdout",
     "output_type": "stream",
     "text": [
      "\r",
      "0it [00:00, ?it/s]"
     ]
    },
    {
     "name": "stdout",
     "output_type": "stream",
     "text": [
      "\r",
      "Upgrading database; v0 -> v1: : 0it [00:00, ?it/s]"
     ]
    },
    {
     "name": "stdout",
     "output_type": "stream",
     "text": [
      "\r",
      "Upgrading database; v0 -> v1: : 0it [00:00, ?it/s]"
     ]
    },
    {
     "name": "stdout",
     "output_type": "stream",
     "text": [
      "\n",
      "\r",
      "  0%|          | 0/1 [00:00<?, ?it/s]"
     ]
    },
    {
     "name": "stdout",
     "output_type": "stream",
     "text": [
      "\r",
      "Upgrading database; v1 -> v2:   0%|          | 0/1 [00:00<?, ?it/s]"
     ]
    },
    {
     "name": "stdout",
     "output_type": "stream",
     "text": [
      "\r",
      "Upgrading database; v1 -> v2: 100%|██████████| 1/1 [00:00<00:00, 862.32it/s]"
     ]
    },
    {
     "name": "stdout",
     "output_type": "stream",
     "text": [
      "\n",
      "\r",
      "0it [00:00, ?it/s]"
     ]
    },
    {
     "name": "stdout",
     "output_type": "stream",
     "text": [
      "\r",
      "Upgrading database; v2 -> v3: : 0it [00:00, ?it/s]"
     ]
    },
    {
     "name": "stdout",
     "output_type": "stream",
     "text": [
      "\r",
      "Upgrading database; v2 -> v3: : 0it [00:00, ?it/s]"
     ]
    },
    {
     "name": "stdout",
     "output_type": "stream",
     "text": [
      "\n",
      "\r",
      "0it [00:00, ?it/s]"
     ]
    },
    {
     "name": "stdout",
     "output_type": "stream",
     "text": [
      "\r",
      "Upgrading database; v3 -> v4: : 0it [00:00, ?it/s]"
     ]
    },
    {
     "name": "stdout",
     "output_type": "stream",
     "text": [
      "\r",
      "Upgrading database; v3 -> v4: : 0it [00:00, ?it/s]"
     ]
    },
    {
     "name": "stdout",
     "output_type": "stream",
     "text": [
      "\n",
      "\r",
      "  0%|          | 0/1 [00:00<?, ?it/s]"
     ]
    },
    {
     "name": "stdout",
     "output_type": "stream",
     "text": [
      "\r",
      "Upgrading database; v4 -> v5:   0%|          | 0/1 [00:00<?, ?it/s]"
     ]
    },
    {
     "name": "stdout",
     "output_type": "stream",
     "text": [
      "\r",
      "Upgrading database; v4 -> v5: 100%|██████████| 1/1 [00:00<00:00, 617.17it/s]"
     ]
    },
    {
     "name": "stdout",
     "output_type": "stream",
     "text": [
      "\n",
      "\r",
      "0it [00:00, ?it/s]"
     ]
    },
    {
     "name": "stdout",
     "output_type": "stream",
     "text": [
      "\r",
      "Upgrading database; v5 -> v6: : 0it [00:00, ?it/s]"
     ]
    },
    {
     "name": "stdout",
     "output_type": "stream",
     "text": [
      "\r",
      "Upgrading database; v5 -> v6: : 0it [00:00, ?it/s]"
     ]
    },
    {
     "name": "stdout",
     "output_type": "stream",
     "text": [
      "\n",
      "\r",
      "  0%|          | 0/1 [00:00<?, ?it/s]"
     ]
    },
    {
     "name": "stdout",
     "output_type": "stream",
     "text": [
      "\r",
      "Upgrading database; v6 -> v7:   0%|          | 0/1 [00:00<?, ?it/s]"
     ]
    },
    {
     "name": "stdout",
     "output_type": "stream",
     "text": [
      "\r",
      "Upgrading database; v6 -> v7: 100%|██████████| 1/1 [00:00<00:00, 225.55it/s]"
     ]
    },
    {
     "name": "stdout",
     "output_type": "stream",
     "text": [
      "\n",
      "\r",
      "  0%|          | 0/1 [00:00<?, ?it/s]"
     ]
    },
    {
     "name": "stdout",
     "output_type": "stream",
     "text": [
      "\r",
      "Upgrading database; v7 -> v8:   0%|          | 0/1 [00:00<?, ?it/s]"
     ]
    },
    {
     "name": "stdout",
     "output_type": "stream",
     "text": [
      "\r",
      "Upgrading database; v7 -> v8: 100%|██████████| 1/1 [00:00<00:00, 466.34it/s]"
     ]
    },
    {
     "name": "stdout",
     "output_type": "stream",
     "text": [
      "\n",
      "\r",
      "  0%|          | 0/1 [00:00<?, ?it/s]"
     ]
    },
    {
     "name": "stdout",
     "output_type": "stream",
     "text": [
      "\r",
      "Upgrading database; v8 -> v9:   0%|          | 0/1 [00:00<?, ?it/s]"
     ]
    },
    {
     "name": "stdout",
     "output_type": "stream",
     "text": [
      "\r",
      "Upgrading database; v8 -> v9: 100%|██████████| 1/1 [00:00<00:00, 472.54it/s]"
     ]
    },
    {
     "name": "stdout",
     "output_type": "stream",
     "text": [
      "\n"
     ]
    }
   ],
   "source": [
    "initialise_database()\n",
    "exp = load_or_create_experiment(experiment_name='tutorial_exp', sample_name=\"no sample\")"
   ]
  },
  {
   "cell_type": "markdown",
   "metadata": {},
   "source": [
    "Here, we define a simple function to benchmark the time it takes to insert n points with either numeric or array data type.\n",
    "We will compare both the time used to call ``add_result`` and the time used for the full measurement."
   ]
  },
  {
   "cell_type": "code",
   "execution_count": 4,
   "metadata": {
    "execution": {
     "iopub.execute_input": "2020-12-16T12:53:11.415971Z",
     "iopub.status.busy": "2020-12-16T12:53:11.415271Z",
     "iopub.status.idle": "2020-12-16T12:53:11.420620Z",
     "shell.execute_reply": "2020-12-16T12:53:11.419233Z"
    }
   },
   "outputs": [],
   "source": [
    "def insert_data(paramtype, npoints, nreps=1):\n",
    "\n",
    "    meas = Measurement(exp=exp)\n",
    "\n",
    "    x1 = ManualParameter('x1')\n",
    "    x2 = ManualParameter('x2')\n",
    "    x3 = ManualParameter('x3')\n",
    "    y1 = ManualParameter('y1')\n",
    "    y2 = ManualParameter('y2')\n",
    "\n",
    "    meas.register_parameter(x1, paramtype=paramtype)\n",
    "    meas.register_parameter(x2, paramtype=paramtype)\n",
    "    meas.register_parameter(x3, paramtype=paramtype)\n",
    "    meas.register_parameter(y1, setpoints=[x1, x2, x3],\n",
    "                            paramtype=paramtype)\n",
    "    meas.register_parameter(y2, setpoints=[x1, x2, x3],\n",
    "                            paramtype=paramtype)\n",
    "    start = time.perf_counter()\n",
    "    with meas.run() as datasaver:\n",
    "        start_adding = time.perf_counter()\n",
    "        for i in range(nreps):\n",
    "            datasaver.add_result((x1, np.random.rand(npoints)),\n",
    "                                 (x2, np.random.rand(npoints)),\n",
    "                                 (x3, np.random.rand(npoints)),\n",
    "                                 (y1, np.random.rand(npoints)),\n",
    "                                 (y2, np.random.rand(npoints)))\n",
    "        stop_adding = time.perf_counter()\n",
    "        run_id = datasaver.run_id\n",
    "    stop = time.perf_counter()\n",
    "    tot_time = stop - start\n",
    "    add_time = stop_adding - start_adding\n",
    "    return tot_time, add_time, run_id"
   ]
  },
  {
   "cell_type": "markdown",
   "metadata": {},
   "source": [
    "## Comparison between numeric/array data and binary blob"
   ]
  },
  {
   "cell_type": "markdown",
   "metadata": {},
   "source": [
    "### Case1: Short experiment time"
   ]
  },
  {
   "cell_type": "code",
   "execution_count": 5,
   "metadata": {
    "execution": {
     "iopub.execute_input": "2020-12-16T12:53:11.427096Z",
     "iopub.status.busy": "2020-12-16T12:53:11.426571Z",
     "iopub.status.idle": "2020-12-16T12:53:12.226946Z",
     "shell.execute_reply": "2020-12-16T12:53:12.226081Z"
    }
   },
   "outputs": [
    {
     "name": "stdout",
     "output_type": "stream",
     "text": [
      "Starting experimental run with id: 1. \n",
      "Starting experimental run with id: 2. \n",
      "Starting experimental run with id: 3. \n",
      "Starting experimental run with id: 4. \n"
     ]
    },
    {
     "name": "stdout",
     "output_type": "stream",
     "text": [
      "Starting experimental run with id: 5. \n"
     ]
    },
    {
     "name": "stdout",
     "output_type": "stream",
     "text": [
      "Starting experimental run with id: 6. \n"
     ]
    },
    {
     "name": "stdout",
     "output_type": "stream",
     "text": [
      "Starting experimental run with id: 7. \n"
     ]
    },
    {
     "name": "stdout",
     "output_type": "stream",
     "text": [
      "Starting experimental run with id: 8. \n",
      "Starting experimental run with id: 9. \n"
     ]
    },
    {
     "name": "stdout",
     "output_type": "stream",
     "text": [
      "Starting experimental run with id: 10. \n",
      "Starting experimental run with id: 11. \n"
     ]
    },
    {
     "name": "stdout",
     "output_type": "stream",
     "text": [
      "Starting experimental run with id: 12. \n",
      "Starting experimental run with id: 13. \n"
     ]
    },
    {
     "name": "stdout",
     "output_type": "stream",
     "text": [
      "Starting experimental run with id: 14. \n"
     ]
    }
   ],
   "source": [
    "sizes = [1,500,1000,2000,3000,4000,5000]\n",
    "t_numeric = []\n",
    "t_numeric_add = []\n",
    "t_array = []\n",
    "t_array_add = []\n",
    "for size in sizes:\n",
    "    tn, tna, run_id_n =  insert_data('numeric', size)\n",
    "    t_numeric.append(tn)\n",
    "    t_numeric_add.append(tna)\n",
    "\n",
    "    ta, taa, run_id_a =  insert_data('array', size)\n",
    "    t_array.append(ta)\n",
    "    t_array_add.append(taa)"
   ]
  },
  {
   "cell_type": "code",
   "execution_count": 6,
   "metadata": {
    "execution": {
     "iopub.execute_input": "2020-12-16T12:53:12.254966Z",
     "iopub.status.busy": "2020-12-16T12:53:12.244666Z",
     "iopub.status.idle": "2020-12-16T12:53:12.484622Z",
     "shell.execute_reply": "2020-12-16T12:53:12.483707Z"
    }
   },
   "outputs": [
    {
     "data": {
      "image/png": "[encoded data removed]",
      "text/plain": [
       "<Figure size 432x288 with 1 Axes>"
      ]
     },
     "metadata": {
      "needs_background": "light"
     },
     "output_type": "display_data"
    }
   ],
   "source": [
    "fig, ax = plt.subplots(1,1)\n",
    "ax.plot(sizes, t_numeric, 'o-', label='Inserting row-by-row')\n",
    "ax.plot(sizes, t_numeric_add, 'o-', label='Inserting row-by-row: add_result only')\n",
    "ax.plot(sizes, t_array, 'd-', label='Inserting as binary blob')\n",
    "ax.plot(sizes, t_array_add, 'd-', label='Inserting as binary blob: add_result only')\n",
    "ax.legend()\n",
    "ax.set_xlabel('Array length')\n",
    "ax.set_ylabel('Time (s)')\n",
    "fig.tight_layout()"
   ]
  },
  {
   "cell_type": "markdown",
   "metadata": {},
   "source": [
    "As shown in the latter figure, the time to setup and and close the experiment is approximately 0.4 sec. In case of small array sizes, the difference between inserting values of data as arrays and inserting them row-by-row is relatively unimportant. At larger array sizes, i.e. above 10000 points, the cost of writing data as individual datapoints starts to become important.\n"
   ]
  },
  {
   "cell_type": "markdown",
   "metadata": {},
   "source": [
    "### Case2: Long experiment time "
   ]
  },
  {
   "cell_type": "code",
   "execution_count": 7,
   "metadata": {
    "execution": {
     "iopub.execute_input": "2020-12-16T12:53:12.491073Z",
     "iopub.status.busy": "2020-12-16T12:53:12.489456Z",
     "iopub.status.idle": "2020-12-16T12:54:05.345740Z",
     "shell.execute_reply": "2020-12-16T12:54:05.344745Z"
    }
   },
   "outputs": [
    {
     "name": "stdout",
     "output_type": "stream",
     "text": [
      "Starting experimental run with id: 15. \n",
      "Starting experimental run with id: 16. \n",
      "Starting experimental run with id: 17. \n"
     ]
    },
    {
     "name": "stdout",
     "output_type": "stream",
     "text": [
      "Starting experimental run with id: 18. \n",
      "Starting experimental run with id: 19. \n"
     ]
    },
    {
     "name": "stdout",
     "output_type": "stream",
     "text": [
      "Starting experimental run with id: 20. \n"
     ]
    },
    {
     "name": "stdout",
     "output_type": "stream",
     "text": [
      "Starting experimental run with id: 21. \n"
     ]
    },
    {
     "name": "stdout",
     "output_type": "stream",
     "text": [
      "Starting experimental run with id: 22. \n"
     ]
    },
    {
     "name": "stdout",
     "output_type": "stream",
     "text": [
      "Starting experimental run with id: 23. \n"
     ]
    },
    {
     "name": "stdout",
     "output_type": "stream",
     "text": [
      "Starting experimental run with id: 24. \n"
     ]
    },
    {
     "name": "stdout",
     "output_type": "stream",
     "text": [
      "Starting experimental run with id: 25. \n"
     ]
    },
    {
     "name": "stdout",
     "output_type": "stream",
     "text": [
      "Starting experimental run with id: 26. \n"
     ]
    },
    {
     "name": "stdout",
     "output_type": "stream",
     "text": [
      "Starting experimental run with id: 27. \n"
     ]
    },
    {
     "name": "stdout",
     "output_type": "stream",
     "text": [
      "Starting experimental run with id: 28. \n"
     ]
    }
   ],
   "source": [
    "sizes = [1,500,1000,2000,3000,4000,5000]\n",
    "nreps = 100\n",
    "t_numeric = []\n",
    "t_numeric_add = []\n",
    "t_numeric_run_ids = []\n",
    "t_array = []\n",
    "t_array_add = []\n",
    "t_array_run_ids = []\n",
    "for size in sizes:\n",
    "    tn, tna, run_id_n =  insert_data('numeric', size, nreps=nreps)\n",
    "    t_numeric.append(tn)\n",
    "    t_numeric_add.append(tna)\n",
    "    t_numeric_run_ids.append(run_id_n)\n",
    "\n",
    "    ta, taa, run_id_a =  insert_data('array', size, nreps=nreps)\n",
    "    t_array.append(ta)\n",
    "    t_array_add.append(taa)\n",
    "    t_array_run_ids.append(run_id_a)"
   ]
  },
  {
   "cell_type": "code",
   "execution_count": 8,
   "metadata": {
    "execution": {
     "iopub.execute_input": "2020-12-16T12:54:05.394168Z",
     "iopub.status.busy": "2020-12-16T12:54:05.381254Z",
     "iopub.status.idle": "2020-12-16T12:54:05.594215Z",
     "shell.execute_reply": "2020-12-16T12:54:05.593778Z"
    },
    "scrolled": true
   },
   "outputs": [
    {
     "data": {
      "image/png": "[encoded data removed]",
      "text/plain": [
       "<Figure size 432x288 with 1 Axes>"
      ]
     },
     "metadata": {
      "needs_background": "light"
     },
     "output_type": "display_data"
    }
   ],
   "source": [
    "fig, ax = plt.subplots(1,1)\n",
    "ax.plot(sizes, t_numeric, 'o-', label='Inserting row-by-row')\n",
    "ax.plot(sizes, t_numeric_add, 'o-', label='Inserting row-by-row: add_result only')\n",
    "ax.plot(sizes, t_array, 'd-', label='Inserting as binary blob')\n",
    "ax.plot(sizes, t_array_add, 'd-', label='Inserting as binary blob: add_result only')\n",
    "ax.legend()\n",
    "ax.set_xlabel('Array length')\n",
    "ax.set_ylabel('Time (s)')\n",
    "fig.tight_layout()"
   ]
  },
  {
   "cell_type": "markdown",
   "metadata": {},
   "source": [
    "However, as we increase the length of the experiment, as seen here by repeating the insertion 100 times, we see a big difference between inserting values of the data row-by-row and inserting it as a binary blob."
   ]
  },
  {
   "cell_type": "markdown",
   "metadata": {},
   "source": [
    "## Loading the data "
   ]
  },
  {
   "cell_type": "code",
   "execution_count": 9,
   "metadata": {
    "execution": {
     "iopub.execute_input": "2020-12-16T12:54:05.597963Z",
     "iopub.status.busy": "2020-12-16T12:54:05.597239Z",
     "iopub.status.idle": "2020-12-16T12:54:05.601251Z",
     "shell.execute_reply": "2020-12-16T12:54:05.600580Z"
    }
   },
   "outputs": [],
   "source": [
    "from qcodes.dataset.data_set import load_by_id\n",
    "from qcodes.dataset.data_export import get_data_by_id"
   ]
  },
  {
   "cell_type": "markdown",
   "metadata": {},
   "source": [
    "As usual you can load the data by using the ``load_by_id`` function but you will notice that the different storage methods\n",
    "are reflected in shape of the data as it is retrieved. "
   ]
  },
  {
   "cell_type": "code",
   "execution_count": 10,
   "metadata": {
    "execution": {
     "iopub.execute_input": "2020-12-16T12:54:05.605524Z",
     "iopub.status.busy": "2020-12-16T12:54:05.604266Z",
     "iopub.status.idle": "2020-12-16T12:54:05.606260Z",
     "shell.execute_reply": "2020-12-16T12:54:05.606905Z"
    }
   },
   "outputs": [],
   "source": [
    "run_id_n = t_numeric_run_ids[0]\n",
    "run_id_a = t_array_run_ids[0]"
   ]
  },
  {
   "cell_type": "code",
   "execution_count": 11,
   "metadata": {
    "execution": {
     "iopub.execute_input": "2020-12-16T12:54:05.610220Z",
     "iopub.status.busy": "2020-12-16T12:54:05.609509Z",
     "iopub.status.idle": "2020-12-16T12:54:05.619593Z",
     "shell.execute_reply": "2020-12-16T12:54:05.619157Z"
    },
    "scrolled": true
   },
   "outputs": [
    {
     "data": {
      "text/plain": [
       "{'x1': {'x1': array([0.37268635, 0.37268635, 0.45256995, 0.45256995, 0.72661687,\n",
       "         0.72661687, 0.07541585, 0.07541585, 0.33209632, 0.33209632,\n",
       "         0.81394865, 0.81394865, 0.43344679, 0.43344679, 0.24390785,\n",
       "         0.24390785, 0.37610843, 0.37610843, 0.63840031, 0.63840031,\n",
       "         0.68067285, 0.68067285, 0.34595843, 0.34595843, 0.36060272,\n",
       "         0.36060272, 0.66836259, 0.66836259, 0.233107  , 0.233107  ,\n",
       "         0.45601705, 0.45601705, 0.5957614 , 0.5957614 , 0.7468366 ,\n",
       "         0.7468366 , 0.74227341, 0.74227341, 0.9501304 , 0.9501304 ,\n",
       "         0.68599795, 0.68599795, 0.74126398, 0.74126398, 0.51441522,\n",
       "         0.51441522, 0.8965091 , 0.8965091 , 0.35766516, 0.35766516,\n",
       "         0.73020022, 0.73020022, 0.78031116, 0.78031116, 0.09782409,\n",
       "         0.09782409, 0.95272471, 0.95272471, 0.19371785, 0.19371785,\n",
       "         0.19812034, 0.19812034, 0.6455093 , 0.6455093 , 0.29745453,\n",
       "         0.29745453, 0.61774254, 0.61774254, 0.71493292, 0.71493292,\n",
       "         0.44208018, 0.44208018, 0.74383284, 0.74383284, 0.41445536,\n",
       "         0.41445536, 0.50246993, 0.50246993, 0.45706252, 0.45706252,\n",
       "         0.73263316, 0.73263316, 0.03544067, 0.03544067, 0.21891785,\n",
       "         0.21891785, 0.34307269, 0.34307269, 0.70696861, 0.70696861,\n",
       "         0.89308636, 0.89308636, 0.3224144 , 0.3224144 , 0.67642966,\n",
       "         0.67642966, 0.12683459, 0.12683459, 0.95695971, 0.95695971,\n",
       "         0.76026147, 0.76026147, 0.85668348, 0.85668348, 0.7927406 ,\n",
       "         0.7927406 , 0.73855822, 0.73855822, 0.17543684, 0.17543684,\n",
       "         0.81228767, 0.81228767, 0.31644233, 0.31644233, 0.8091804 ,\n",
       "         0.8091804 , 0.51757271, 0.51757271, 0.95305794, 0.95305794,\n",
       "         0.19627466, 0.19627466, 0.69892869, 0.69892869, 0.86692698,\n",
       "         0.86692698, 0.10491803, 0.10491803, 0.59995534, 0.59995534,\n",
       "         0.491537  , 0.491537  , 0.3434755 , 0.3434755 , 0.64458885,\n",
       "         0.64458885, 0.91356635, 0.91356635, 0.39584009, 0.39584009,\n",
       "         0.32804256, 0.32804256, 0.60218694, 0.60218694, 0.66763882,\n",
       "         0.66763882, 0.09244855, 0.09244855, 0.33738422, 0.33738422,\n",
       "         0.66896629, 0.66896629, 0.34686373, 0.34686373, 0.377714  ,\n",
       "         0.377714  , 0.20783749, 0.20783749, 0.91449121, 0.91449121,\n",
       "         0.08656115, 0.08656115, 0.63127558, 0.63127558, 0.06577048,\n",
       "         0.06577048, 0.27151069, 0.27151069, 0.47917108, 0.47917108,\n",
       "         0.34259563, 0.34259563, 0.28256171, 0.28256171, 0.43071481,\n",
       "         0.43071481, 0.99197966, 0.99197966, 0.07149644, 0.07149644,\n",
       "         0.19087357, 0.19087357, 0.62958816, 0.62958816, 0.50949644,\n",
       "         0.50949644, 0.46894183, 0.46894183, 0.3335099 , 0.3335099 ,\n",
       "         0.85098153, 0.85098153, 0.99353787, 0.99353787, 0.74336228,\n",
       "         0.74336228, 0.09207005, 0.09207005, 0.20482479, 0.20482479])}}"
      ]
     },
     "execution_count": 1,
     "metadata": {},
     "output_type": "execute_result"
    }
   ],
   "source": [
    "ds = load_by_id(run_id_n)\n",
    "ds.get_parameter_data('x1')"
   ]
  },
  {
   "cell_type": "markdown",
   "metadata": {},
   "source": [
    "And a dataset stored as binary arrays"
   ]
  },
  {
   "cell_type": "code",
   "execution_count": 12,
   "metadata": {
    "execution": {
     "iopub.execute_input": "2020-12-16T12:54:05.622654Z",
     "iopub.status.busy": "2020-12-16T12:54:05.622130Z",
     "iopub.status.idle": "2020-12-16T12:54:05.674386Z",
     "shell.execute_reply": "2020-12-16T12:54:05.674809Z"
    },
    "scrolled": true
   },
   "outputs": [
    {
     "data": {
      "text/plain": [
       "{'x1': {'x1': array([[0.78342677],\n",
       "         [0.78342677],\n",
       "         [0.47571892],\n",
       "         [0.47571892],\n",
       "         [0.00531061],\n",
       "         [0.00531061],\n",
       "         [0.81037667],\n",
       "         [0.81037667],\n",
       "         [0.70363727],\n",
       "         [0.70363727],\n",
       "         [0.81073155],\n",
       "         [0.81073155],\n",
       "         [0.97574139],\n",
       "         [0.97574139],\n",
       "         [0.07569093],\n",
       "         [0.07569093],\n",
       "         [0.30073509],\n",
       "         [0.30073509],\n",
       "         [0.63670999],\n",
       "         [0.63670999],\n",
       "         [0.34093346],\n",
       "         [0.34093346],\n",
       "         [0.46429629],\n",
       "         [0.46429629],\n",
       "         [0.48256526],\n",
       "         [0.48256526],\n",
       "         [0.2838956 ],\n",
       "         [0.2838956 ],\n",
       "         [0.14792924],\n",
       "         [0.14792924],\n",
       "         [0.37805936],\n",
       "         [0.37805936],\n",
       "         [0.52250023],\n",
       "         [0.52250023],\n",
       "         [0.66884704],\n",
       "         [0.66884704],\n",
       "         [0.57706693],\n",
       "         [0.57706693],\n",
       "         [0.73984615],\n",
       "         [0.73984615],\n",
       "         [0.72633051],\n",
       "         [0.72633051],\n",
       "         [0.73773707],\n",
       "         [0.73773707],\n",
       "         [0.49990369],\n",
       "         [0.49990369],\n",
       "         [0.8510642 ],\n",
       "         [0.8510642 ],\n",
       "         [0.14900258],\n",
       "         [0.14900258],\n",
       "         [0.20042181],\n",
       "         [0.20042181],\n",
       "         [0.32836853],\n",
       "         [0.32836853],\n",
       "         [0.02776187],\n",
       "         [0.02776187],\n",
       "         [0.56738378],\n",
       "         [0.56738378],\n",
       "         [0.35265654],\n",
       "         [0.35265654],\n",
       "         [0.34523019],\n",
       "         [0.34523019],\n",
       "         [0.86115422],\n",
       "         [0.86115422],\n",
       "         [0.80805361],\n",
       "         [0.80805361],\n",
       "         [0.93051587],\n",
       "         [0.93051587],\n",
       "         [0.23784684],\n",
       "         [0.23784684],\n",
       "         [0.23458016],\n",
       "         [0.23458016],\n",
       "         [0.13934975],\n",
       "         [0.13934975],\n",
       "         [0.1667336 ],\n",
       "         [0.1667336 ],\n",
       "         [0.11366629],\n",
       "         [0.11366629],\n",
       "         [0.99393104],\n",
       "         [0.99393104],\n",
       "         [0.61915369],\n",
       "         [0.61915369],\n",
       "         [0.08359842],\n",
       "         [0.08359842],\n",
       "         [0.96194394],\n",
       "         [0.96194394],\n",
       "         [0.75175779],\n",
       "         [0.75175779],\n",
       "         [0.53777874],\n",
       "         [0.53777874],\n",
       "         [0.22841101],\n",
       "         [0.22841101],\n",
       "         [0.84284256],\n",
       "         [0.84284256],\n",
       "         [0.25091329],\n",
       "         [0.25091329],\n",
       "         [0.34796845],\n",
       "         [0.34796845],\n",
       "         [0.60417919],\n",
       "         [0.60417919],\n",
       "         [0.11184942],\n",
       "         [0.11184942],\n",
       "         [0.99723601],\n",
       "         [0.99723601],\n",
       "         [0.0418309 ],\n",
       "         [0.0418309 ],\n",
       "         [0.22547578],\n",
       "         [0.22547578],\n",
       "         [0.48974386],\n",
       "         [0.48974386],\n",
       "         [0.65785168],\n",
       "         [0.65785168],\n",
       "         [0.90317967],\n",
       "         [0.90317967],\n",
       "         [0.87909942],\n",
       "         [0.87909942],\n",
       "         [0.64917741],\n",
       "         [0.64917741],\n",
       "         [0.2787614 ],\n",
       "         [0.2787614 ],\n",
       "         [0.35290612],\n",
       "         [0.35290612],\n",
       "         [0.69469104],\n",
       "         [0.69469104],\n",
       "         [0.99327078],\n",
       "         [0.99327078],\n",
       "         [0.92155016],\n",
       "         [0.92155016],\n",
       "         [0.98030093],\n",
       "         [0.98030093],\n",
       "         [0.92954193],\n",
       "         [0.92954193],\n",
       "         [0.08019225],\n",
       "         [0.08019225],\n",
       "         [0.49424559],\n",
       "         [0.49424559],\n",
       "         [0.52222194],\n",
       "         [0.52222194],\n",
       "         [0.42395782],\n",
       "         [0.42395782],\n",
       "         [0.85704338],\n",
       "         [0.85704338],\n",
       "         [0.60100184],\n",
       "         [0.60100184],\n",
       "         [0.91956551],\n",
       "         [0.91956551],\n",
       "         [0.28592562],\n",
       "         [0.28592562],\n",
       "         [0.68423623],\n",
       "         [0.68423623],\n",
       "         [0.43343387],\n",
       "         [0.43343387],\n",
       "         [0.687721  ],\n",
       "         [0.687721  ],\n",
       "         [0.86008116],\n",
       "         [0.86008116],\n",
       "         [0.58444909],\n",
       "         [0.58444909],\n",
       "         [0.72903733],\n",
       "         [0.72903733],\n",
       "         [0.82165787],\n",
       "         [0.82165787],\n",
       "         [0.84972761],\n",
       "         [0.84972761],\n",
       "         [0.11979815],\n",
       "         [0.11979815],\n",
       "         [0.75989413],\n",
       "         [0.75989413],\n",
       "         [0.14692144],\n",
       "         [0.14692144],\n",
       "         [0.94249902],\n",
       "         [0.94249902],\n",
       "         [0.72628735],\n",
       "         [0.72628735],\n",
       "         [0.77890955],\n",
       "         [0.77890955],\n",
       "         [0.30130947],\n",
       "         [0.30130947],\n",
       "         [0.04919286],\n",
       "         [0.04919286],\n",
       "         [0.96332239],\n",
       "         [0.96332239],\n",
       "         [0.29712292],\n",
       "         [0.29712292],\n",
       "         [0.305608  ],\n",
       "         [0.305608  ],\n",
       "         [0.08229361],\n",
       "         [0.08229361],\n",
       "         [0.28069981],\n",
       "         [0.28069981],\n",
       "         [0.45003761],\n",
       "         [0.45003761],\n",
       "         [0.14178566],\n",
       "         [0.14178566],\n",
       "         [0.28852682],\n",
       "         [0.28852682],\n",
       "         [0.24979303],\n",
       "         [0.24979303],\n",
       "         [0.54386241],\n",
       "         [0.54386241]])}}"
      ]
     },
     "execution_count": 1,
     "metadata": {},
     "output_type": "execute_result"
    }
   ],
   "source": [
    "ds = load_by_id(run_id_a)\n",
    "ds.get_parameter_data('x1')"
   ]
  },
  {
   "cell_type": "code",
   "execution_count": null,
   "metadata": {},
   "outputs": [],
   "source": []
  }
 ],
 "metadata": {
  "kernelspec": {
   "display_name": "Python 3",
   "language": "python",
   "name": "python3"
  },
  "language_info": {
   "codemirror_mode": {
    "name": "ipython",
    "version": 3
   },
   "file_extension": ".py",
   "mimetype": "text/x-python",
   "name": "python",
   "nbconvert_exporter": "python",
   "pygments_lexer": "ipython3",
   "version": "3.7.9"
  },
  "nbsphinx": {
   "timeout": 600
  },
  "toc": {
   "base_numbering": 1,
   "nav_menu": {},
   "number_sections": true,
   "sideBar": true,
   "skip_h1_title": false,
   "title_cell": "Table of Contents",
   "title_sidebar": "Contents",
   "toc_cell": false,
   "toc_position": {},
   "toc_section_display": true,
   "toc_window_display": false
  },
  "varInspector": {
   "cols": {
    "lenName": 16,
    "lenType": 16,
    "lenVar": 40
   },
   "kernels_config": {
    "python": {
     "delete_cmd_postfix": "",
     "delete_cmd_prefix": "del ",
     "library": "var_list.py",
     "varRefreshCmd": "print(var_dic_list())"
    },
    "r": {
     "delete_cmd_postfix": ") ",
     "delete_cmd_prefix": "rm(",
     "library": "var_list.r",
     "varRefreshCmd": "cat(var_dic_list()) "
    }
   },
   "types_to_exclude": [
    "module",
    "function",
    "builtin_function_or_method",
    "instance",
    "_Feature"
   ],
   "window_display": false
  }
 },
 "nbformat": 4,
 "nbformat_minor": 2
}
