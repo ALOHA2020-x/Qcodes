{
 "cells": [
  {
   "cell_type": "markdown",
   "metadata": {},
   "source": [
    "# DataSet Performance\n",
    "\n",
    "This notebook shows the trade-off between inserting data into a database row-by-row and as binary blobs. Inserting the data row-by-row means that we have direct access to all the data and may perform queries directly on the values of the data. On the other hand, as we shall see, this is much slower than inserting the data directly as binary blobs."
   ]
  },
  {
   "cell_type": "markdown",
   "metadata": {},
   "source": [
    "First, we choose a new location for the database to ensure that we don't add a bunch of benchmarking data to the default one."
   ]
  },
  {
   "cell_type": "code",
   "execution_count": 1,
   "metadata": {
    "execution": {
     "iopub.execute_input": "2020-09-26T05:48:08.933784Z",
     "iopub.status.busy": "2020-09-26T05:48:08.933253Z",
     "iopub.status.idle": "2020-09-26T05:48:09.923672Z",
     "shell.execute_reply": "2020-09-26T05:48:09.924100Z"
    }
   },
   "outputs": [
    {
     "name": "stdout",
     "output_type": "stream",
     "text": [
      "Logging hadn't been started.\n",
      "Activating auto-logging. Current session state plus future input saved.\n",
      "Filename       : /home/vsts/.qcodes/logs/command_history.log\n",
      "Mode           : append\n",
      "Output logging : True\n",
      "Raw input log  : False\n",
      "Timestamping   : True\n",
      "State          : active\n"
     ]
    },
    {
     "name": "stdout",
     "output_type": "stream",
     "text": [
      "Qcodes Logfile : /home/vsts/.qcodes/logs/200926-18896-qcodes.log\n"
     ]
    }
   ],
   "source": [
    "import os\n",
    "cwd = os.getcwd()\n",
    "import qcodes as qc\n",
    "qc.config[\"core\"][\"db_location\"] = os.path.join(cwd, 'testing.db')\n"
   ]
  },
  {
   "cell_type": "code",
   "execution_count": 2,
   "metadata": {
    "execution": {
     "iopub.execute_input": "2020-09-26T05:48:09.931097Z",
     "iopub.status.busy": "2020-09-26T05:48:09.929715Z",
     "iopub.status.idle": "2020-09-26T05:48:10.112464Z",
     "shell.execute_reply": "2020-09-26T05:48:10.111576Z"
    }
   },
   "outputs": [],
   "source": [
    "%matplotlib inline\n",
    "import time\n",
    "import matplotlib.pyplot as plt\n",
    "import numpy as np\n",
    "\n",
    "import qcodes as qc\n",
    "from qcodes.instrument.parameter import ManualParameter\n",
    "from qcodes.dataset.experiment_container import (Experiment,\n",
    "                                                 load_last_experiment,\n",
    "                                                 new_experiment)\n",
    "from qcodes.dataset.sqlite.database import initialise_database\n",
    "from qcodes import load_or_create_experiment\n",
    "from qcodes.dataset.measurements import Measurement"
   ]
  },
  {
   "cell_type": "code",
   "execution_count": 3,
   "metadata": {
    "execution": {
     "iopub.execute_input": "2020-09-26T05:48:10.117024Z",
     "iopub.status.busy": "2020-09-26T05:48:10.116359Z",
     "iopub.status.idle": "2020-09-26T05:48:10.252389Z",
     "shell.execute_reply": "2020-09-26T05:48:10.252788Z"
    }
   },
   "outputs": [
    {
     "name": "stdout",
     "output_type": "stream",
     "text": [
      "\r",
      "0it [00:00, ?it/s]"
     ]
    },
    {
     "name": "stdout",
     "output_type": "stream",
     "text": [
      "\r",
      "Upgrading database; v0 -> v1: : 0it [00:00, ?it/s]"
     ]
    },
    {
     "name": "stdout",
     "output_type": "stream",
     "text": [
      "\r",
      "Upgrading database; v0 -> v1: : 0it [00:00, ?it/s]"
     ]
    },
    {
     "name": "stdout",
     "output_type": "stream",
     "text": [
      "\n",
      "\r",
      "  0%|          | 0/1 [00:00<?, ?it/s]"
     ]
    },
    {
     "name": "stdout",
     "output_type": "stream",
     "text": [
      "\r",
      "Upgrading database; v1 -> v2:   0%|          | 0/1 [00:00<?, ?it/s]"
     ]
    },
    {
     "name": "stdout",
     "output_type": "stream",
     "text": [
      "\r",
      "Upgrading database; v1 -> v2: 100%|██████████| 1/1 [00:00<00:00, 449.89it/s]"
     ]
    },
    {
     "name": "stdout",
     "output_type": "stream",
     "text": [
      "\n",
      "\r",
      "0it [00:00, ?it/s]"
     ]
    },
    {
     "name": "stdout",
     "output_type": "stream",
     "text": [
      "\r",
      "Upgrading database; v2 -> v3: : 0it [00:00, ?it/s]"
     ]
    },
    {
     "name": "stdout",
     "output_type": "stream",
     "text": [
      "\r",
      "Upgrading database; v2 -> v3: : 0it [00:00, ?it/s]"
     ]
    },
    {
     "name": "stdout",
     "output_type": "stream",
     "text": [
      "\n",
      "\r",
      "0it [00:00, ?it/s]"
     ]
    },
    {
     "name": "stdout",
     "output_type": "stream",
     "text": [
      "\r",
      "Upgrading database; v3 -> v4: : 0it [00:00, ?it/s]"
     ]
    },
    {
     "name": "stdout",
     "output_type": "stream",
     "text": [
      "\r",
      "Upgrading database; v3 -> v4: : 0it [00:00, ?it/s]"
     ]
    },
    {
     "name": "stdout",
     "output_type": "stream",
     "text": [
      "\n",
      "\r",
      "  0%|          | 0/1 [00:00<?, ?it/s]"
     ]
    },
    {
     "name": "stdout",
     "output_type": "stream",
     "text": [
      "\r",
      "Upgrading database; v4 -> v5:   0%|          | 0/1 [00:00<?, ?it/s]"
     ]
    },
    {
     "name": "stdout",
     "output_type": "stream",
     "text": [
      "\r",
      "Upgrading database; v4 -> v5: 100%|██████████| 1/1 [00:00<00:00, 505.58it/s]"
     ]
    },
    {
     "name": "stdout",
     "output_type": "stream",
     "text": [
      "\n",
      "\r",
      "0it [00:00, ?it/s]"
     ]
    },
    {
     "name": "stdout",
     "output_type": "stream",
     "text": [
      "\r",
      "Upgrading database; v5 -> v6: : 0it [00:00, ?it/s]"
     ]
    },
    {
     "name": "stdout",
     "output_type": "stream",
     "text": [
      "\r",
      "Upgrading database; v5 -> v6: : 0it [00:00, ?it/s]"
     ]
    },
    {
     "name": "stdout",
     "output_type": "stream",
     "text": [
      "\n",
      "\r",
      "  0%|          | 0/1 [00:00<?, ?it/s]"
     ]
    },
    {
     "name": "stdout",
     "output_type": "stream",
     "text": [
      "\r",
      "Upgrading database; v6 -> v7:   0%|          | 0/1 [00:00<?, ?it/s]"
     ]
    },
    {
     "name": "stdout",
     "output_type": "stream",
     "text": [
      "\r",
      "Upgrading database; v6 -> v7: 100%|██████████| 1/1 [00:00<00:00, 413.84it/s]"
     ]
    },
    {
     "name": "stdout",
     "output_type": "stream",
     "text": [
      "\n",
      "\r",
      "  0%|          | 0/1 [00:00<?, ?it/s]"
     ]
    },
    {
     "name": "stdout",
     "output_type": "stream",
     "text": [
      "\r",
      "Upgrading database; v7 -> v8:   0%|          | 0/1 [00:00<?, ?it/s]"
     ]
    },
    {
     "name": "stdout",
     "output_type": "stream",
     "text": [
      "\r",
      "Upgrading database; v7 -> v8: 100%|██████████| 1/1 [00:00<00:00, 849.39it/s]"
     ]
    },
    {
     "name": "stdout",
     "output_type": "stream",
     "text": [
      "\n",
      "\r",
      "  0%|          | 0/1 [00:00<?, ?it/s]"
     ]
    },
    {
     "name": "stdout",
     "output_type": "stream",
     "text": [
      "\r",
      "Upgrading database; v8 -> v9:   0%|          | 0/1 [00:00<?, ?it/s]"
     ]
    },
    {
     "name": "stdout",
     "output_type": "stream",
     "text": [
      "\r",
      "Upgrading database; v8 -> v9: 100%|██████████| 1/1 [00:00<00:00, 445.02it/s]"
     ]
    },
    {
     "name": "stdout",
     "output_type": "stream",
     "text": [
      "\n"
     ]
    }
   ],
   "source": [
    "initialise_database()\n",
    "exp = load_or_create_experiment(experiment_name='tutorial_exp', sample_name=\"no sample\")"
   ]
  },
  {
   "cell_type": "markdown",
   "metadata": {},
   "source": [
    "Here, we define a simple function to benchmark the time it takes to insert n points with either numeric or array data type.\n",
    "We will compare both the time used to call ``add_result`` and the time used for the full measurement."
   ]
  },
  {
   "cell_type": "code",
   "execution_count": 4,
   "metadata": {
    "execution": {
     "iopub.execute_input": "2020-09-26T05:48:10.261577Z",
     "iopub.status.busy": "2020-09-26T05:48:10.261015Z",
     "iopub.status.idle": "2020-09-26T05:48:10.263768Z",
     "shell.execute_reply": "2020-09-26T05:48:10.264202Z"
    }
   },
   "outputs": [],
   "source": [
    "def insert_data(paramtype, npoints, nreps=1):\n",
    "\n",
    "    meas = Measurement(exp=exp)\n",
    "\n",
    "    x1 = ManualParameter('x1')\n",
    "    x2 = ManualParameter('x2')\n",
    "    x3 = ManualParameter('x3')\n",
    "    y1 = ManualParameter('y1')\n",
    "    y2 = ManualParameter('y2')\n",
    "\n",
    "    meas.register_parameter(x1, paramtype=paramtype)\n",
    "    meas.register_parameter(x2, paramtype=paramtype)\n",
    "    meas.register_parameter(x3, paramtype=paramtype)\n",
    "    meas.register_parameter(y1, setpoints=[x1, x2, x3],\n",
    "                            paramtype=paramtype)\n",
    "    meas.register_parameter(y2, setpoints=[x1, x2, x3],\n",
    "                            paramtype=paramtype)\n",
    "    start = time.perf_counter()\n",
    "    with meas.run() as datasaver:\n",
    "        start_adding = time.perf_counter()\n",
    "        for i in range(nreps):\n",
    "            datasaver.add_result((x1, np.random.rand(npoints)),\n",
    "                                 (x2, np.random.rand(npoints)),\n",
    "                                 (x3, np.random.rand(npoints)),\n",
    "                                 (y1, np.random.rand(npoints)),\n",
    "                                 (y2, np.random.rand(npoints)))\n",
    "        stop_adding = time.perf_counter()\n",
    "        run_id = datasaver.run_id\n",
    "    stop = time.perf_counter()\n",
    "    tot_time = stop - start\n",
    "    add_time = stop_adding - start_adding\n",
    "    return tot_time, add_time, run_id"
   ]
  },
  {
   "cell_type": "markdown",
   "metadata": {},
   "source": [
    "## Comparison between numeric/array data and binary blob"
   ]
  },
  {
   "cell_type": "markdown",
   "metadata": {},
   "source": [
    "### Case1: Short experiment time"
   ]
  },
  {
   "cell_type": "code",
   "execution_count": 5,
   "metadata": {
    "execution": {
     "iopub.execute_input": "2020-09-26T05:48:10.270257Z",
     "iopub.status.busy": "2020-09-26T05:48:10.269753Z",
     "iopub.status.idle": "2020-09-26T05:48:11.115483Z",
     "shell.execute_reply": "2020-09-26T05:48:11.115982Z"
    }
   },
   "outputs": [
    {
     "name": "stdout",
     "output_type": "stream",
     "text": [
      "Starting experimental run with id: 1. \n",
      "Starting experimental run with id: 2. \n",
      "Starting experimental run with id: 3. \n",
      "Starting experimental run with id: 4. \n",
      "Starting experimental run with id: 5. \n"
     ]
    },
    {
     "name": "stdout",
     "output_type": "stream",
     "text": [
      "Starting experimental run with id: 6. \n"
     ]
    },
    {
     "name": "stdout",
     "output_type": "stream",
     "text": [
      "Starting experimental run with id: 7. \n"
     ]
    },
    {
     "name": "stdout",
     "output_type": "stream",
     "text": [
      "Starting experimental run with id: 8. \n",
      "Starting experimental run with id: 9. \n"
     ]
    },
    {
     "name": "stdout",
     "output_type": "stream",
     "text": [
      "Starting experimental run with id: 10. \n",
      "Starting experimental run with id: 11. \n"
     ]
    },
    {
     "name": "stdout",
     "output_type": "stream",
     "text": [
      "Starting experimental run with id: 12. \n"
     ]
    },
    {
     "name": "stdout",
     "output_type": "stream",
     "text": [
      "Starting experimental run with id: 13. \n"
     ]
    },
    {
     "name": "stdout",
     "output_type": "stream",
     "text": [
      "Starting experimental run with id: 14. \n"
     ]
    }
   ],
   "source": [
    "sizes = [1,500,1000,2000,3000,4000,5000]\n",
    "t_numeric = []\n",
    "t_numeric_add = []\n",
    "t_array = []\n",
    "t_array_add = []\n",
    "for size in sizes:\n",
    "    tn, tna, run_id_n =  insert_data('numeric', size)\n",
    "    t_numeric.append(tn)\n",
    "    t_numeric_add.append(tna)\n",
    "\n",
    "    ta, taa, run_id_a =  insert_data('array', size)\n",
    "    t_array.append(ta)\n",
    "    t_array_add.append(taa)"
   ]
  },
  {
   "cell_type": "code",
   "execution_count": 6,
   "metadata": {
    "execution": {
     "iopub.execute_input": "2020-09-26T05:48:11.121775Z",
     "iopub.status.busy": "2020-09-26T05:48:11.120377Z",
     "iopub.status.idle": "2020-09-26T05:48:11.294802Z",
     "shell.execute_reply": "2020-09-26T05:48:11.294149Z"
    }
   },
   "outputs": [
    {
     "data": {
      "image/png": "[encoded data removed]",
      "text/plain": [
       "<Figure size 432x288 with 1 Axes>"
      ]
     },
     "metadata": {
      "needs_background": "light"
     },
     "output_type": "display_data"
    }
   ],
   "source": [
    "fig, ax = plt.subplots(1,1)\n",
    "ax.plot(sizes, t_numeric, 'o-', label='Inserting row-by-row')\n",
    "ax.plot(sizes, t_numeric_add, 'o-', label='Inserting row-by-row: add_result only')\n",
    "ax.plot(sizes, t_array, 'd-', label='Inserting as binary blob')\n",
    "ax.plot(sizes, t_array_add, 'd-', label='Inserting as binary blob: add_result only')\n",
    "ax.legend()\n",
    "ax.set_xlabel('Array length')\n",
    "ax.set_ylabel('Time (s)')\n",
    "fig.tight_layout()"
   ]
  },
  {
   "cell_type": "markdown",
   "metadata": {},
   "source": [
    "As shown in the latter figure, the time to setup and and close the experiment is approximately 0.4 sec. In case of small array sizes, the difference between inserting values of data as arrays and inserting them row-by-row is relatively unimportant. At larger array sizes, i.e. above 10000 points, the cost of writing data as individual datapoints starts to become important.\n"
   ]
  },
  {
   "cell_type": "markdown",
   "metadata": {},
   "source": [
    "### Case2: Long experiment time "
   ]
  },
  {
   "cell_type": "code",
   "execution_count": 7,
   "metadata": {
    "execution": {
     "iopub.execute_input": "2020-09-26T05:48:11.300693Z",
     "iopub.status.busy": "2020-09-26T05:48:11.298773Z",
     "iopub.status.idle": "2020-09-26T05:49:08.069959Z",
     "shell.execute_reply": "2020-09-26T05:49:08.068943Z"
    }
   },
   "outputs": [
    {
     "name": "stdout",
     "output_type": "stream",
     "text": [
      "Starting experimental run with id: 15. \n",
      "Starting experimental run with id: 16. \n",
      "Starting experimental run with id: 17. \n"
     ]
    },
    {
     "name": "stdout",
     "output_type": "stream",
     "text": [
      "Starting experimental run with id: 18. \n",
      "Starting experimental run with id: 19. \n"
     ]
    },
    {
     "name": "stdout",
     "output_type": "stream",
     "text": [
      "Starting experimental run with id: 20. \n"
     ]
    },
    {
     "name": "stdout",
     "output_type": "stream",
     "text": [
      "Starting experimental run with id: 21. \n"
     ]
    },
    {
     "name": "stdout",
     "output_type": "stream",
     "text": [
      "Starting experimental run with id: 22. \n"
     ]
    },
    {
     "name": "stdout",
     "output_type": "stream",
     "text": [
      "Starting experimental run with id: 23. \n"
     ]
    },
    {
     "name": "stdout",
     "output_type": "stream",
     "text": [
      "Starting experimental run with id: 24. \n"
     ]
    },
    {
     "name": "stdout",
     "output_type": "stream",
     "text": [
      "Starting experimental run with id: 25. \n"
     ]
    },
    {
     "name": "stdout",
     "output_type": "stream",
     "text": [
      "Starting experimental run with id: 26. \n"
     ]
    },
    {
     "name": "stdout",
     "output_type": "stream",
     "text": [
      "Starting experimental run with id: 27. \n"
     ]
    },
    {
     "name": "stdout",
     "output_type": "stream",
     "text": [
      "Starting experimental run with id: 28. \n"
     ]
    }
   ],
   "source": [
    "sizes = [1,500,1000,2000,3000,4000,5000]\n",
    "nreps = 100\n",
    "t_numeric = []\n",
    "t_numeric_add = []\n",
    "t_numeric_run_ids = []\n",
    "t_array = []\n",
    "t_array_add = []\n",
    "t_array_run_ids = []\n",
    "for size in sizes:\n",
    "    tn, tna, run_id_n =  insert_data('numeric', size, nreps=nreps)\n",
    "    t_numeric.append(tn)\n",
    "    t_numeric_add.append(tna)\n",
    "    t_numeric_run_ids.append(run_id_n)\n",
    "\n",
    "    ta, taa, run_id_a =  insert_data('array', size, nreps=nreps)\n",
    "    t_array.append(ta)\n",
    "    t_array_add.append(taa)\n",
    "    t_array_run_ids.append(run_id_a)"
   ]
  },
  {
   "cell_type": "code",
   "execution_count": 8,
   "metadata": {
    "execution": {
     "iopub.execute_input": "2020-09-26T05:49:08.089531Z",
     "iopub.status.busy": "2020-09-26T05:49:08.086815Z",
     "iopub.status.idle": "2020-09-26T05:49:08.263003Z",
     "shell.execute_reply": "2020-09-26T05:49:08.262257Z"
    },
    "scrolled": true
   },
   "outputs": [
    {
     "data": {
      "image/png": "[encoded data removed]",
      "text/plain": [
       "<Figure size 432x288 with 1 Axes>"
      ]
     },
     "metadata": {
      "needs_background": "light"
     },
     "output_type": "display_data"
    }
   ],
   "source": [
    "fig, ax = plt.subplots(1,1)\n",
    "ax.plot(sizes, t_numeric, 'o-', label='Inserting row-by-row')\n",
    "ax.plot(sizes, t_numeric_add, 'o-', label='Inserting row-by-row: add_result only')\n",
    "ax.plot(sizes, t_array, 'd-', label='Inserting as binary blob')\n",
    "ax.plot(sizes, t_array_add, 'd-', label='Inserting as binary blob: add_result only')\n",
    "ax.legend()\n",
    "ax.set_xlabel('Array length')\n",
    "ax.set_ylabel('Time (s)')\n",
    "fig.tight_layout()"
   ]
  },
  {
   "cell_type": "markdown",
   "metadata": {},
   "source": [
    "However, as we increase the length of the experiment, as seen here by repeating the insertion 100 times, we see a big difference between inserting values of the data row-by-row and inserting it as a binary blob."
   ]
  },
  {
   "cell_type": "markdown",
   "metadata": {},
   "source": [
    "## Loading the data "
   ]
  },
  {
   "cell_type": "code",
   "execution_count": 9,
   "metadata": {
    "execution": {
     "iopub.execute_input": "2020-09-26T05:49:08.267237Z",
     "iopub.status.busy": "2020-09-26T05:49:08.266327Z",
     "iopub.status.idle": "2020-09-26T05:49:08.269259Z",
     "shell.execute_reply": "2020-09-26T05:49:08.268801Z"
    }
   },
   "outputs": [],
   "source": [
    "from qcodes.dataset.data_set import load_by_id\n",
    "from qcodes.dataset.data_export import get_data_by_id"
   ]
  },
  {
   "cell_type": "markdown",
   "metadata": {},
   "source": [
    "As usual you can load the data by using the ``load_by_id`` function but you will notice that the different storage methods\n",
    "are reflected in shape of the data as it is retrieved. "
   ]
  },
  {
   "cell_type": "code",
   "execution_count": 10,
   "metadata": {
    "execution": {
     "iopub.execute_input": "2020-09-26T05:49:08.273980Z",
     "iopub.status.busy": "2020-09-26T05:49:08.272786Z",
     "iopub.status.idle": "2020-09-26T05:49:08.274586Z",
     "shell.execute_reply": "2020-09-26T05:49:08.275112Z"
    }
   },
   "outputs": [],
   "source": [
    "run_id_n = t_numeric_run_ids[0]\n",
    "run_id_a = t_array_run_ids[0]"
   ]
  },
  {
   "cell_type": "code",
   "execution_count": 11,
   "metadata": {
    "execution": {
     "iopub.execute_input": "2020-09-26T05:49:08.278694Z",
     "iopub.status.busy": "2020-09-26T05:49:08.278060Z",
     "iopub.status.idle": "2020-09-26T05:49:08.286840Z",
     "shell.execute_reply": "2020-09-26T05:49:08.287256Z"
    },
    "scrolled": true
   },
   "outputs": [
    {
     "data": {
      "text/plain": [
       "{'x1': {'x1': array([0.13872242, 0.13872242, 0.24625989, 0.24625989, 0.75133894,\n",
       "         0.75133894, 0.01015874, 0.01015874, 0.71193548, 0.71193548,\n",
       "         0.81820171, 0.81820171, 0.62477504, 0.62477504, 0.06976989,\n",
       "         0.06976989, 0.91683992, 0.91683992, 0.68112872, 0.68112872,\n",
       "         0.13969788, 0.13969788, 0.33740613, 0.33740613, 0.04242947,\n",
       "         0.04242947, 0.23989338, 0.23989338, 0.94987849, 0.94987849,\n",
       "         0.50809245, 0.50809245, 0.62826816, 0.62826816, 0.58874322,\n",
       "         0.58874322, 0.42687338, 0.42687338, 0.98284469, 0.98284469,\n",
       "         0.7957509 , 0.7957509 , 0.74014967, 0.74014967, 0.74681289,\n",
       "         0.74681289, 0.00332801, 0.00332801, 0.26091394, 0.26091394,\n",
       "         0.64188094, 0.64188094, 0.60612915, 0.60612915, 0.14220896,\n",
       "         0.14220896, 0.86929086, 0.86929086, 0.13116696, 0.13116696,\n",
       "         0.38896987, 0.38896987, 0.76957054, 0.76957054, 0.21404986,\n",
       "         0.21404986, 0.57259741, 0.57259741, 0.07416402, 0.07416402,\n",
       "         0.11699804, 0.11699804, 0.93571924, 0.93571924, 0.72300525,\n",
       "         0.72300525, 0.23442553, 0.23442553, 0.18780699, 0.18780699,\n",
       "         0.62432977, 0.62432977, 0.63327397, 0.63327397, 0.34044934,\n",
       "         0.34044934, 0.27803927, 0.27803927, 0.07555844, 0.07555844,\n",
       "         0.81123431, 0.81123431, 0.51018984, 0.51018984, 0.15069271,\n",
       "         0.15069271, 0.72895526, 0.72895526, 0.45088189, 0.45088189,\n",
       "         0.61118668, 0.61118668, 0.76301344, 0.76301344, 0.93312649,\n",
       "         0.93312649, 0.25019008, 0.25019008, 0.05097642, 0.05097642,\n",
       "         0.4543545 , 0.4543545 , 0.96889029, 0.96889029, 0.71473463,\n",
       "         0.71473463, 0.40007518, 0.40007518, 0.61170654, 0.61170654,\n",
       "         0.94749787, 0.94749787, 0.36263082, 0.36263082, 0.47523102,\n",
       "         0.47523102, 0.92525249, 0.92525249, 0.3000064 , 0.3000064 ,\n",
       "         0.25540316, 0.25540316, 0.91138673, 0.91138673, 0.40264068,\n",
       "         0.40264068, 0.32340356, 0.32340356, 0.95404698, 0.95404698,\n",
       "         0.88906502, 0.88906502, 0.18048256, 0.18048256, 0.98997651,\n",
       "         0.98997651, 0.22276621, 0.22276621, 0.07404043, 0.07404043,\n",
       "         0.29029181, 0.29029181, 0.76341127, 0.76341127, 0.47680953,\n",
       "         0.47680953, 0.08374075, 0.08374075, 0.92389263, 0.92389263,\n",
       "         0.13604965, 0.13604965, 0.15363402, 0.15363402, 0.6479039 ,\n",
       "         0.6479039 , 0.47212079, 0.47212079, 0.37932105, 0.37932105,\n",
       "         0.66987719, 0.66987719, 0.18926398, 0.18926398, 0.2001299 ,\n",
       "         0.2001299 , 0.93893344, 0.93893344, 0.74107383, 0.74107383,\n",
       "         0.47359822, 0.47359822, 0.3027364 , 0.3027364 , 0.72702034,\n",
       "         0.72702034, 0.27620288, 0.27620288, 0.75043337, 0.75043337,\n",
       "         0.00852464, 0.00852464, 0.85862774, 0.85862774, 0.38662067,\n",
       "         0.38662067, 0.16234805, 0.16234805, 0.02024112, 0.02024112])}}"
      ]
     },
     "execution_count": 1,
     "metadata": {},
     "output_type": "execute_result"
    }
   ],
   "source": [
    "ds = load_by_id(run_id_n)\n",
    "ds.get_parameter_data('x1')"
   ]
  },
  {
   "cell_type": "markdown",
   "metadata": {},
   "source": [
    "And a dataset stored as binary arrays"
   ]
  },
  {
   "cell_type": "code",
   "execution_count": 12,
   "metadata": {
    "execution": {
     "iopub.execute_input": "2020-09-26T05:49:08.290487Z",
     "iopub.status.busy": "2020-09-26T05:49:08.289954Z",
     "iopub.status.idle": "2020-09-26T05:49:08.342405Z",
     "shell.execute_reply": "2020-09-26T05:49:08.343033Z"
    },
    "scrolled": true
   },
   "outputs": [
    {
     "data": {
      "text/plain": [
       "{'x1': {'x1': array([[9.87021589e-01],\n",
       "         [9.87021589e-01],\n",
       "         [7.42852068e-01],\n",
       "         [7.42852068e-01],\n",
       "         [5.64808599e-01],\n",
       "         [5.64808599e-01],\n",
       "         [1.61637464e-01],\n",
       "         [1.61637464e-01],\n",
       "         [2.17828188e-01],\n",
       "         [2.17828188e-01],\n",
       "         [3.91274129e-01],\n",
       "         [3.91274129e-01],\n",
       "         [5.73455899e-01],\n",
       "         [5.73455899e-01],\n",
       "         [3.28304360e-02],\n",
       "         [3.28304360e-02],\n",
       "         [6.01903366e-01],\n",
       "         [6.01903366e-01],\n",
       "         [5.22101784e-01],\n",
       "         [5.22101784e-01],\n",
       "         [3.62310694e-01],\n",
       "         [3.62310694e-01],\n",
       "         [1.48289134e-01],\n",
       "         [1.48289134e-01],\n",
       "         [3.64001233e-01],\n",
       "         [3.64001233e-01],\n",
       "         [1.34331125e-01],\n",
       "         [1.34331125e-01],\n",
       "         [1.81326819e-01],\n",
       "         [1.81326819e-01],\n",
       "         [5.45240098e-01],\n",
       "         [5.45240098e-01],\n",
       "         [4.35571909e-01],\n",
       "         [4.35571909e-01],\n",
       "         [3.62387629e-01],\n",
       "         [3.62387629e-01],\n",
       "         [6.33867156e-01],\n",
       "         [6.33867156e-01],\n",
       "         [9.86333327e-01],\n",
       "         [9.86333327e-01],\n",
       "         [7.71651212e-01],\n",
       "         [7.71651212e-01],\n",
       "         [8.58364103e-02],\n",
       "         [8.58364103e-02],\n",
       "         [6.24900147e-01],\n",
       "         [6.24900147e-01],\n",
       "         [5.30881321e-01],\n",
       "         [5.30881321e-01],\n",
       "         [4.24082743e-01],\n",
       "         [4.24082743e-01],\n",
       "         [7.85731778e-01],\n",
       "         [7.85731778e-01],\n",
       "         [5.18023208e-01],\n",
       "         [5.18023208e-01],\n",
       "         [9.55727185e-01],\n",
       "         [9.55727185e-01],\n",
       "         [8.30701890e-01],\n",
       "         [8.30701890e-01],\n",
       "         [8.28824319e-01],\n",
       "         [8.28824319e-01],\n",
       "         [1.19630436e-01],\n",
       "         [1.19630436e-01],\n",
       "         [6.96578773e-01],\n",
       "         [6.96578773e-01],\n",
       "         [6.91266751e-01],\n",
       "         [6.91266751e-01],\n",
       "         [6.55896937e-01],\n",
       "         [6.55896937e-01],\n",
       "         [6.00543694e-01],\n",
       "         [6.00543694e-01],\n",
       "         [8.36677103e-01],\n",
       "         [8.36677103e-01],\n",
       "         [5.10330090e-01],\n",
       "         [5.10330090e-01],\n",
       "         [3.48951280e-01],\n",
       "         [3.48951280e-01],\n",
       "         [1.47406235e-02],\n",
       "         [1.47406235e-02],\n",
       "         [1.71209313e-01],\n",
       "         [1.71209313e-01],\n",
       "         [2.94749656e-01],\n",
       "         [2.94749656e-01],\n",
       "         [3.72726102e-02],\n",
       "         [3.72726102e-02],\n",
       "         [5.27835984e-01],\n",
       "         [5.27835984e-01],\n",
       "         [1.76070193e-01],\n",
       "         [1.76070193e-01],\n",
       "         [5.50171270e-01],\n",
       "         [5.50171270e-01],\n",
       "         [1.03841445e-01],\n",
       "         [1.03841445e-01],\n",
       "         [2.53839500e-01],\n",
       "         [2.53839500e-01],\n",
       "         [9.74901931e-01],\n",
       "         [9.74901931e-01],\n",
       "         [2.48550246e-01],\n",
       "         [2.48550246e-01],\n",
       "         [6.91667049e-01],\n",
       "         [6.91667049e-01],\n",
       "         [5.67501848e-01],\n",
       "         [5.67501848e-01],\n",
       "         [7.76421999e-01],\n",
       "         [7.76421999e-01],\n",
       "         [3.76128892e-01],\n",
       "         [3.76128892e-01],\n",
       "         [6.21730823e-01],\n",
       "         [6.21730823e-01],\n",
       "         [8.68850247e-01],\n",
       "         [8.68850247e-01],\n",
       "         [6.75016392e-02],\n",
       "         [6.75016392e-02],\n",
       "         [1.79828067e-01],\n",
       "         [1.79828067e-01],\n",
       "         [5.79900587e-01],\n",
       "         [5.79900587e-01],\n",
       "         [4.05537222e-01],\n",
       "         [4.05537222e-01],\n",
       "         [5.60379208e-01],\n",
       "         [5.60379208e-01],\n",
       "         [7.11762854e-01],\n",
       "         [7.11762854e-01],\n",
       "         [1.69224987e-02],\n",
       "         [1.69224987e-02],\n",
       "         [9.80117353e-01],\n",
       "         [9.80117353e-01],\n",
       "         [6.56306847e-01],\n",
       "         [6.56306847e-01],\n",
       "         [7.03234588e-01],\n",
       "         [7.03234588e-01],\n",
       "         [8.01271697e-04],\n",
       "         [8.01271697e-04],\n",
       "         [4.70177553e-01],\n",
       "         [4.70177553e-01],\n",
       "         [8.40763828e-01],\n",
       "         [8.40763828e-01],\n",
       "         [8.31575128e-01],\n",
       "         [8.31575128e-01],\n",
       "         [4.94713837e-01],\n",
       "         [4.94713837e-01],\n",
       "         [7.77922012e-01],\n",
       "         [7.77922012e-01],\n",
       "         [9.47409317e-02],\n",
       "         [9.47409317e-02],\n",
       "         [9.18833361e-01],\n",
       "         [9.18833361e-01],\n",
       "         [9.43607564e-01],\n",
       "         [9.43607564e-01],\n",
       "         [7.36252605e-02],\n",
       "         [7.36252605e-02],\n",
       "         [5.16483363e-01],\n",
       "         [5.16483363e-01],\n",
       "         [5.23661459e-01],\n",
       "         [5.23661459e-01],\n",
       "         [7.93139029e-01],\n",
       "         [7.93139029e-01],\n",
       "         [2.39139665e-01],\n",
       "         [2.39139665e-01],\n",
       "         [8.51723162e-01],\n",
       "         [8.51723162e-01],\n",
       "         [1.10457746e-01],\n",
       "         [1.10457746e-01],\n",
       "         [9.64781038e-01],\n",
       "         [9.64781038e-01],\n",
       "         [3.61038664e-01],\n",
       "         [3.61038664e-01],\n",
       "         [6.39387747e-01],\n",
       "         [6.39387747e-01],\n",
       "         [5.01355015e-01],\n",
       "         [5.01355015e-01],\n",
       "         [5.52072356e-01],\n",
       "         [5.52072356e-01],\n",
       "         [5.48128704e-01],\n",
       "         [5.48128704e-01],\n",
       "         [5.60442370e-01],\n",
       "         [5.60442370e-01],\n",
       "         [7.41046282e-01],\n",
       "         [7.41046282e-01],\n",
       "         [4.20826892e-01],\n",
       "         [4.20826892e-01],\n",
       "         [9.07965999e-01],\n",
       "         [9.07965999e-01],\n",
       "         [9.05965680e-01],\n",
       "         [9.05965680e-01],\n",
       "         [9.53125891e-01],\n",
       "         [9.53125891e-01],\n",
       "         [6.25996268e-01],\n",
       "         [6.25996268e-01],\n",
       "         [4.24495155e-01],\n",
       "         [4.24495155e-01],\n",
       "         [3.09862365e-01],\n",
       "         [3.09862365e-01],\n",
       "         [5.93971052e-01],\n",
       "         [5.93971052e-01],\n",
       "         [5.47460311e-02],\n",
       "         [5.47460311e-02],\n",
       "         [4.70435420e-01],\n",
       "         [4.70435420e-01],\n",
       "         [3.58507822e-01],\n",
       "         [3.58507822e-01]])}}"
      ]
     },
     "execution_count": 1,
     "metadata": {},
     "output_type": "execute_result"
    }
   ],
   "source": [
    "ds = load_by_id(run_id_a)\n",
    "ds.get_parameter_data('x1')"
   ]
  },
  {
   "cell_type": "code",
   "execution_count": null,
   "metadata": {},
   "outputs": [],
   "source": []
  }
 ],
 "metadata": {
  "kernelspec": {
   "display_name": "Python 3",
   "language": "python",
   "name": "python3"
  },
  "language_info": {
   "codemirror_mode": {
    "name": "ipython",
    "version": 3
   },
   "file_extension": ".py",
   "mimetype": "text/x-python",
   "name": "python",
   "nbconvert_exporter": "python",
   "pygments_lexer": "ipython3",
   "version": "3.7.7"
  },
  "nbsphinx": {
   "timeout": 600
  },
  "toc": {
   "base_numbering": 1,
   "nav_menu": {},
   "number_sections": true,
   "sideBar": true,
   "skip_h1_title": false,
   "title_cell": "Table of Contents",
   "title_sidebar": "Contents",
   "toc_cell": false,
   "toc_position": {},
   "toc_section_display": true,
   "toc_window_display": false
  },
  "varInspector": {
   "cols": {
    "lenName": 16,
    "lenType": 16,
    "lenVar": 40
   },
   "kernels_config": {
    "python": {
     "delete_cmd_postfix": "",
     "delete_cmd_prefix": "del ",
     "library": "var_list.py",
     "varRefreshCmd": "print(var_dic_list())"
    },
    "r": {
     "delete_cmd_postfix": ") ",
     "delete_cmd_prefix": "rm(",
     "library": "var_list.r",
     "varRefreshCmd": "cat(var_dic_list()) "
    }
   },
   "types_to_exclude": [
    "module",
    "function",
    "builtin_function_or_method",
    "instance",
    "_Feature"
   ],
   "window_display": false
  }
 },
 "nbformat": 4,
 "nbformat_minor": 2
}
