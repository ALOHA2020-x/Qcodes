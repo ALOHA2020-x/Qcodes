{
 "cells": [
  {
   "cell_type": "markdown",
   "metadata": {},
   "source": [
    "# DataSet Performance\n",
    "\n",
    "This notebook shows the trade-off between inserting data into a database row-by-row and as binary blobs. Inserting the data row-by-row means that we have direct access to all the data and may perform queries directly on the values of the data. On the other hand, as we shall see, this is much slower than inserting the data directly as binary blobs."
   ]
  },
  {
   "cell_type": "markdown",
   "metadata": {},
   "source": [
    "First, we choose a new location for the database to ensure that we don't add a bunch of benchmarking data to the default one."
   ]
  },
  {
   "cell_type": "code",
   "execution_count": 1,
   "metadata": {
    "execution": {
     "iopub.execute_input": "2021-05-28T06:59:54.222750Z",
     "iopub.status.busy": "2021-05-28T06:59:54.222259Z",
     "iopub.status.idle": "2021-05-28T06:59:55.305774Z",
     "shell.execute_reply": "2021-05-28T06:59:55.305094Z"
    }
   },
   "outputs": [
    {
     "name": "stdout",
     "output_type": "stream",
     "text": [
      "Logging hadn't been started.\n",
      "Activating auto-logging. Current session state plus future input saved.\n",
      "Filename       : /home/runner/.qcodes/logs/command_history.log\n",
      "Mode           : append\n",
      "Output logging : True\n",
      "Raw input log  : False\n",
      "Timestamping   : True\n",
      "State          : active\n"
     ]
    },
    {
     "name": "stdout",
     "output_type": "stream",
     "text": [
      "Qcodes Logfile : /home/runner/.qcodes/logs/210528-4651-qcodes.log\n"
     ]
    }
   ],
   "source": [
    "import os\n",
    "cwd = os.getcwd()\n",
    "import qcodes as qc\n",
    "qc.config[\"core\"][\"db_location\"] = os.path.join(cwd, 'testing.db')\n"
   ]
  },
  {
   "cell_type": "code",
   "execution_count": 2,
   "metadata": {
    "execution": {
     "iopub.execute_input": "2021-05-28T06:59:55.312366Z",
     "iopub.status.busy": "2021-05-28T06:59:55.311466Z",
     "iopub.status.idle": "2021-05-28T06:59:55.493021Z",
     "shell.execute_reply": "2021-05-28T06:59:55.492120Z"
    }
   },
   "outputs": [],
   "source": [
    "%matplotlib inline\n",
    "import time\n",
    "import matplotlib.pyplot as plt\n",
    "import numpy as np\n",
    "\n",
    "import qcodes as qc\n",
    "from qcodes.instrument.parameter import ManualParameter\n",
    "from qcodes.dataset.experiment_container import (Experiment,\n",
    "                                                 load_last_experiment,\n",
    "                                                 new_experiment)\n",
    "from qcodes.dataset.sqlite.database import initialise_database\n",
    "from qcodes import load_or_create_experiment\n",
    "from qcodes.dataset.measurements import Measurement"
   ]
  },
  {
   "cell_type": "code",
   "execution_count": 3,
   "metadata": {
    "execution": {
     "iopub.execute_input": "2021-05-28T06:59:55.497488Z",
     "iopub.status.busy": "2021-05-28T06:59:55.496976Z",
     "iopub.status.idle": "2021-05-28T06:59:55.548154Z",
     "shell.execute_reply": "2021-05-28T06:59:55.548573Z"
    }
   },
   "outputs": [
    {
     "name": "stdout",
     "output_type": "stream",
     "text": [
      "\r",
      "0it [00:00, ?it/s]"
     ]
    },
    {
     "name": "stdout",
     "output_type": "stream",
     "text": [
      "\r",
      "Upgrading database; v0 -> v1: : 0it [00:00, ?it/s]"
     ]
    },
    {
     "name": "stdout",
     "output_type": "stream",
     "text": [
      "\r",
      "Upgrading database; v0 -> v1: : 0it [00:00, ?it/s]"
     ]
    },
    {
     "name": "stdout",
     "output_type": "stream",
     "text": [
      "\n",
      "\r",
      "  0%|          | 0/1 [00:00<?, ?it/s]"
     ]
    },
    {
     "name": "stdout",
     "output_type": "stream",
     "text": [
      "\r",
      "Upgrading database; v1 -> v2:   0%|          | 0/1 [00:00<?, ?it/s]"
     ]
    },
    {
     "name": "stdout",
     "output_type": "stream",
     "text": [
      "\r",
      "Upgrading database; v1 -> v2: 100%|██████████| 1/1 [00:00<00:00, 838.69it/s]"
     ]
    },
    {
     "name": "stdout",
     "output_type": "stream",
     "text": [
      "\n",
      "\r",
      "0it [00:00, ?it/s]"
     ]
    },
    {
     "name": "stdout",
     "output_type": "stream",
     "text": [
      "\r",
      "Upgrading database; v2 -> v3: : 0it [00:00, ?it/s]"
     ]
    },
    {
     "name": "stdout",
     "output_type": "stream",
     "text": [
      "\r",
      "Upgrading database; v2 -> v3: : 0it [00:00, ?it/s]"
     ]
    },
    {
     "name": "stdout",
     "output_type": "stream",
     "text": [
      "\n",
      "\r",
      "0it [00:00, ?it/s]"
     ]
    },
    {
     "name": "stdout",
     "output_type": "stream",
     "text": [
      "\r",
      "Upgrading database; v3 -> v4: : 0it [00:00, ?it/s]"
     ]
    },
    {
     "name": "stdout",
     "output_type": "stream",
     "text": [
      "\r",
      "Upgrading database; v3 -> v4: : 0it [00:00, ?it/s]"
     ]
    },
    {
     "name": "stdout",
     "output_type": "stream",
     "text": [
      "\n",
      "\r",
      "  0%|          | 0/1 [00:00<?, ?it/s]"
     ]
    },
    {
     "name": "stdout",
     "output_type": "stream",
     "text": [
      "\r",
      "Upgrading database; v4 -> v5:   0%|          | 0/1 [00:00<?, ?it/s]"
     ]
    },
    {
     "name": "stdout",
     "output_type": "stream",
     "text": [
      "\r",
      "Upgrading database; v4 -> v5: 100%|██████████| 1/1 [00:00<00:00, 806.75it/s]"
     ]
    },
    {
     "name": "stdout",
     "output_type": "stream",
     "text": [
      "\n",
      "\r",
      "0it [00:00, ?it/s]"
     ]
    },
    {
     "name": "stdout",
     "output_type": "stream",
     "text": [
      "\r",
      "Upgrading database; v5 -> v6: : 0it [00:00, ?it/s]"
     ]
    },
    {
     "name": "stdout",
     "output_type": "stream",
     "text": [
      "\r",
      "Upgrading database; v5 -> v6: : 0it [00:00, ?it/s]"
     ]
    },
    {
     "name": "stdout",
     "output_type": "stream",
     "text": [
      "\n",
      "\r",
      "  0%|          | 0/1 [00:00<?, ?it/s]"
     ]
    },
    {
     "name": "stdout",
     "output_type": "stream",
     "text": [
      "\r",
      "Upgrading database; v6 -> v7:   0%|          | 0/1 [00:00<?, ?it/s]"
     ]
    },
    {
     "name": "stdout",
     "output_type": "stream",
     "text": [
      "\r",
      "Upgrading database; v6 -> v7: 100%|██████████| 1/1 [00:00<00:00, 472.01it/s]"
     ]
    },
    {
     "name": "stdout",
     "output_type": "stream",
     "text": [
      "\n",
      "\r",
      "  0%|          | 0/1 [00:00<?, ?it/s]"
     ]
    },
    {
     "name": "stdout",
     "output_type": "stream",
     "text": [
      "\r",
      "Upgrading database; v7 -> v8:   0%|          | 0/1 [00:00<?, ?it/s]"
     ]
    },
    {
     "name": "stdout",
     "output_type": "stream",
     "text": [
      "\r",
      "Upgrading database; v7 -> v8: 100%|██████████| 1/1 [00:00<00:00, 862.32it/s]"
     ]
    },
    {
     "name": "stdout",
     "output_type": "stream",
     "text": [
      "\n",
      "\r",
      "  0%|          | 0/1 [00:00<?, ?it/s]"
     ]
    },
    {
     "name": "stdout",
     "output_type": "stream",
     "text": [
      "\r",
      "Upgrading database; v8 -> v9:   0%|          | 0/1 [00:00<?, ?it/s]"
     ]
    },
    {
     "name": "stdout",
     "output_type": "stream",
     "text": [
      "\r",
      "Upgrading database; v8 -> v9: 100%|██████████| 1/1 [00:00<00:00, 1014.83it/s]"
     ]
    },
    {
     "name": "stdout",
     "output_type": "stream",
     "text": [
      "\n"
     ]
    }
   ],
   "source": [
    "initialise_database()\n",
    "exp = load_or_create_experiment(experiment_name='tutorial_exp', sample_name=\"no sample\")"
   ]
  },
  {
   "cell_type": "markdown",
   "metadata": {},
   "source": [
    "Here, we define a simple function to benchmark the time it takes to insert n points with either numeric or array data type.\n",
    "We will compare both the time used to call ``add_result`` and the time used for the full measurement."
   ]
  },
  {
   "cell_type": "code",
   "execution_count": 4,
   "metadata": {
    "execution": {
     "iopub.execute_input": "2021-05-28T06:59:55.557197Z",
     "iopub.status.busy": "2021-05-28T06:59:55.556110Z",
     "iopub.status.idle": "2021-05-28T06:59:55.557773Z",
     "shell.execute_reply": "2021-05-28T06:59:55.558183Z"
    }
   },
   "outputs": [],
   "source": [
    "def insert_data(paramtype, npoints, nreps=1):\n",
    "\n",
    "    meas = Measurement(exp=exp)\n",
    "\n",
    "    x1 = ManualParameter('x1')\n",
    "    x2 = ManualParameter('x2')\n",
    "    x3 = ManualParameter('x3')\n",
    "    y1 = ManualParameter('y1')\n",
    "    y2 = ManualParameter('y2')\n",
    "\n",
    "    meas.register_parameter(x1, paramtype=paramtype)\n",
    "    meas.register_parameter(x2, paramtype=paramtype)\n",
    "    meas.register_parameter(x3, paramtype=paramtype)\n",
    "    meas.register_parameter(y1, setpoints=[x1, x2, x3],\n",
    "                            paramtype=paramtype)\n",
    "    meas.register_parameter(y2, setpoints=[x1, x2, x3],\n",
    "                            paramtype=paramtype)\n",
    "    start = time.perf_counter()\n",
    "    with meas.run() as datasaver:\n",
    "        start_adding = time.perf_counter()\n",
    "        for i in range(nreps):\n",
    "            datasaver.add_result((x1, np.random.rand(npoints)),\n",
    "                                 (x2, np.random.rand(npoints)),\n",
    "                                 (x3, np.random.rand(npoints)),\n",
    "                                 (y1, np.random.rand(npoints)),\n",
    "                                 (y2, np.random.rand(npoints)))\n",
    "        stop_adding = time.perf_counter()\n",
    "        run_id = datasaver.run_id\n",
    "    stop = time.perf_counter()\n",
    "    tot_time = stop - start\n",
    "    add_time = stop_adding - start_adding\n",
    "    return tot_time, add_time, run_id"
   ]
  },
  {
   "cell_type": "markdown",
   "metadata": {},
   "source": [
    "## Comparison between numeric/array data and binary blob"
   ]
  },
  {
   "cell_type": "markdown",
   "metadata": {},
   "source": [
    "### Case1: Short experiment time"
   ]
  },
  {
   "cell_type": "code",
   "execution_count": 5,
   "metadata": {
    "execution": {
     "iopub.execute_input": "2021-05-28T06:59:55.564639Z",
     "iopub.status.busy": "2021-05-28T06:59:55.564040Z",
     "iopub.status.idle": "2021-05-28T06:59:56.285103Z",
     "shell.execute_reply": "2021-05-28T06:59:56.284624Z"
    }
   },
   "outputs": [
    {
     "name": "stdout",
     "output_type": "stream",
     "text": [
      "Starting experimental run with id: 1. \n",
      "Starting experimental run with id: 2. \n",
      "Starting experimental run with id: 3. \n",
      "Starting experimental run with id: 4. \n",
      "Starting experimental run with id: 5. \n"
     ]
    },
    {
     "name": "stdout",
     "output_type": "stream",
     "text": [
      "Starting experimental run with id: 6. \n"
     ]
    },
    {
     "name": "stdout",
     "output_type": "stream",
     "text": [
      "Starting experimental run with id: 7. \n"
     ]
    },
    {
     "name": "stdout",
     "output_type": "stream",
     "text": [
      "Starting experimental run with id: 8. \n",
      "Starting experimental run with id: 9. \n"
     ]
    },
    {
     "name": "stdout",
     "output_type": "stream",
     "text": [
      "Starting experimental run with id: 10. \n"
     ]
    },
    {
     "name": "stdout",
     "output_type": "stream",
     "text": [
      "Starting experimental run with id: 11. \n"
     ]
    },
    {
     "name": "stdout",
     "output_type": "stream",
     "text": [
      "Starting experimental run with id: 12. \n",
      "Starting experimental run with id: 13. \n"
     ]
    },
    {
     "name": "stdout",
     "output_type": "stream",
     "text": [
      "Starting experimental run with id: 14. \n"
     ]
    }
   ],
   "source": [
    "sizes = [1,500,1000,2000,3000,4000,5000]\n",
    "t_numeric = []\n",
    "t_numeric_add = []\n",
    "t_array = []\n",
    "t_array_add = []\n",
    "for size in sizes:\n",
    "    tn, tna, run_id_n =  insert_data('numeric', size)\n",
    "    t_numeric.append(tn)\n",
    "    t_numeric_add.append(tna)\n",
    "\n",
    "    ta, taa, run_id_a =  insert_data('array', size)\n",
    "    t_array.append(ta)\n",
    "    t_array_add.append(taa)"
   ]
  },
  {
   "cell_type": "code",
   "execution_count": 6,
   "metadata": {
    "execution": {
     "iopub.execute_input": "2021-05-28T06:59:56.315010Z",
     "iopub.status.busy": "2021-05-28T06:59:56.302086Z",
     "iopub.status.idle": "2021-05-28T06:59:56.508402Z",
     "shell.execute_reply": "2021-05-28T06:59:56.507892Z"
    }
   },
   "outputs": [
    {
     "data": {
      "image/png": "[encoded data removed]",
      "text/plain": [
       "<Figure size 432x288 with 1 Axes>"
      ]
     },
     "metadata": {
      "needs_background": "light"
     },
     "output_type": "display_data"
    }
   ],
   "source": [
    "fig, ax = plt.subplots(1,1)\n",
    "ax.plot(sizes, t_numeric, 'o-', label='Inserting row-by-row')\n",
    "ax.plot(sizes, t_numeric_add, 'o-', label='Inserting row-by-row: add_result only')\n",
    "ax.plot(sizes, t_array, 'd-', label='Inserting as binary blob')\n",
    "ax.plot(sizes, t_array_add, 'd-', label='Inserting as binary blob: add_result only')\n",
    "ax.legend()\n",
    "ax.set_xlabel('Array length')\n",
    "ax.set_ylabel('Time (s)')\n",
    "fig.tight_layout()"
   ]
  },
  {
   "cell_type": "markdown",
   "metadata": {},
   "source": [
    "As shown in the latter figure, the time to setup and and close the experiment is approximately 0.4 sec. In case of small array sizes, the difference between inserting values of data as arrays and inserting them row-by-row is relatively unimportant. At larger array sizes, i.e. above 10000 points, the cost of writing data as individual datapoints starts to become important.\n"
   ]
  },
  {
   "cell_type": "markdown",
   "metadata": {},
   "source": [
    "### Case2: Long experiment time "
   ]
  },
  {
   "cell_type": "code",
   "execution_count": 7,
   "metadata": {
    "execution": {
     "iopub.execute_input": "2021-05-28T06:59:56.514973Z",
     "iopub.status.busy": "2021-05-28T06:59:56.514450Z",
     "iopub.status.idle": "2021-05-28T07:00:48.831501Z",
     "shell.execute_reply": "2021-05-28T07:00:48.831016Z"
    }
   },
   "outputs": [
    {
     "name": "stdout",
     "output_type": "stream",
     "text": [
      "Starting experimental run with id: 15. \n",
      "Starting experimental run with id: 16. \n",
      "Starting experimental run with id: 17. \n"
     ]
    },
    {
     "name": "stdout",
     "output_type": "stream",
     "text": [
      "Starting experimental run with id: 18. \n",
      "Starting experimental run with id: 19. \n"
     ]
    },
    {
     "name": "stdout",
     "output_type": "stream",
     "text": [
      "Starting experimental run with id: 20. \n"
     ]
    },
    {
     "name": "stdout",
     "output_type": "stream",
     "text": [
      "Starting experimental run with id: 21. \n"
     ]
    },
    {
     "name": "stdout",
     "output_type": "stream",
     "text": [
      "Starting experimental run with id: 22. \n"
     ]
    },
    {
     "name": "stdout",
     "output_type": "stream",
     "text": [
      "Starting experimental run with id: 23. \n"
     ]
    },
    {
     "name": "stdout",
     "output_type": "stream",
     "text": [
      "Starting experimental run with id: 24. \n"
     ]
    },
    {
     "name": "stdout",
     "output_type": "stream",
     "text": [
      "Starting experimental run with id: 25. \n"
     ]
    },
    {
     "name": "stdout",
     "output_type": "stream",
     "text": [
      "Starting experimental run with id: 26. \n"
     ]
    },
    {
     "name": "stdout",
     "output_type": "stream",
     "text": [
      "Starting experimental run with id: 27. \n"
     ]
    },
    {
     "name": "stdout",
     "output_type": "stream",
     "text": [
      "Starting experimental run with id: 28. \n"
     ]
    }
   ],
   "source": [
    "sizes = [1,500,1000,2000,3000,4000,5000]\n",
    "nreps = 100\n",
    "t_numeric = []\n",
    "t_numeric_add = []\n",
    "t_numeric_run_ids = []\n",
    "t_array = []\n",
    "t_array_add = []\n",
    "t_array_run_ids = []\n",
    "for size in sizes:\n",
    "    tn, tna, run_id_n =  insert_data('numeric', size, nreps=nreps)\n",
    "    t_numeric.append(tn)\n",
    "    t_numeric_add.append(tna)\n",
    "    t_numeric_run_ids.append(run_id_n)\n",
    "\n",
    "    ta, taa, run_id_a =  insert_data('array', size, nreps=nreps)\n",
    "    t_array.append(ta)\n",
    "    t_array_add.append(taa)\n",
    "    t_array_run_ids.append(run_id_a)"
   ]
  },
  {
   "cell_type": "code",
   "execution_count": 8,
   "metadata": {
    "execution": {
     "iopub.execute_input": "2021-05-28T07:00:48.870633Z",
     "iopub.status.busy": "2021-05-28T07:00:48.870062Z",
     "iopub.status.idle": "2021-05-28T07:00:49.030914Z",
     "shell.execute_reply": "2021-05-28T07:00:49.030424Z"
    },
    "scrolled": true
   },
   "outputs": [
    {
     "data": {
      "image/png": "[encoded data removed]",
      "text/plain": [
       "<Figure size 432x288 with 1 Axes>"
      ]
     },
     "metadata": {
      "needs_background": "light"
     },
     "output_type": "display_data"
    }
   ],
   "source": [
    "fig, ax = plt.subplots(1,1)\n",
    "ax.plot(sizes, t_numeric, 'o-', label='Inserting row-by-row')\n",
    "ax.plot(sizes, t_numeric_add, 'o-', label='Inserting row-by-row: add_result only')\n",
    "ax.plot(sizes, t_array, 'd-', label='Inserting as binary blob')\n",
    "ax.plot(sizes, t_array_add, 'd-', label='Inserting as binary blob: add_result only')\n",
    "ax.legend()\n",
    "ax.set_xlabel('Array length')\n",
    "ax.set_ylabel('Time (s)')\n",
    "fig.tight_layout()"
   ]
  },
  {
   "cell_type": "markdown",
   "metadata": {},
   "source": [
    "However, as we increase the length of the experiment, as seen here by repeating the insertion 100 times, we see a big difference between inserting values of the data row-by-row and inserting it as a binary blob."
   ]
  },
  {
   "cell_type": "markdown",
   "metadata": {},
   "source": [
    "## Loading the data "
   ]
  },
  {
   "cell_type": "code",
   "execution_count": 9,
   "metadata": {
    "execution": {
     "iopub.execute_input": "2021-05-28T07:00:49.034899Z",
     "iopub.status.busy": "2021-05-28T07:00:49.034391Z",
     "iopub.status.idle": "2021-05-28T07:00:49.036629Z",
     "shell.execute_reply": "2021-05-28T07:00:49.036225Z"
    }
   },
   "outputs": [],
   "source": [
    "from qcodes.dataset.data_set import load_by_id"
   ]
  },
  {
   "cell_type": "markdown",
   "metadata": {},
   "source": [
    "As usual you can load the data by using the ``load_by_id`` function but you will notice that the different storage methods\n",
    "are reflected in shape of the data as it is retrieved. "
   ]
  },
  {
   "cell_type": "code",
   "execution_count": 10,
   "metadata": {
    "execution": {
     "iopub.execute_input": "2021-05-28T07:00:49.040735Z",
     "iopub.status.busy": "2021-05-28T07:00:49.039671Z",
     "iopub.status.idle": "2021-05-28T07:00:49.041400Z",
     "shell.execute_reply": "2021-05-28T07:00:49.041810Z"
    }
   },
   "outputs": [],
   "source": [
    "run_id_n = t_numeric_run_ids[0]\n",
    "run_id_a = t_array_run_ids[0]"
   ]
  },
  {
   "cell_type": "code",
   "execution_count": 11,
   "metadata": {
    "execution": {
     "iopub.execute_input": "2021-05-28T07:00:49.044752Z",
     "iopub.status.busy": "2021-05-28T07:00:49.044257Z",
     "iopub.status.idle": "2021-05-28T07:00:49.053308Z",
     "shell.execute_reply": "2021-05-28T07:00:49.052903Z"
    },
    "scrolled": true
   },
   "outputs": [
    {
     "data": {
      "text/plain": [
       "{'x1': {'x1': array([0.95689272, 0.95689272, 0.71722016, 0.71722016, 0.20422351,\n",
       "         0.20422351, 0.77273255, 0.77273255, 0.73527793, 0.73527793,\n",
       "         0.51631226, 0.51631226, 0.73850877, 0.73850877, 0.16431677,\n",
       "         0.16431677, 0.77173079, 0.77173079, 0.71095542, 0.71095542,\n",
       "         0.4569636 , 0.4569636 , 0.22963678, 0.22963678, 0.8079149 ,\n",
       "         0.8079149 , 0.17517567, 0.17517567, 0.87951138, 0.87951138,\n",
       "         0.71413499, 0.71413499, 0.25165059, 0.25165059, 0.72079028,\n",
       "         0.72079028, 0.98116911, 0.98116911, 0.79294433, 0.79294433,\n",
       "         0.54542395, 0.54542395, 0.10958848, 0.10958848, 0.07350784,\n",
       "         0.07350784, 0.53704771, 0.53704771, 0.66641385, 0.66641385,\n",
       "         0.35125245, 0.35125245, 0.9805052 , 0.9805052 , 0.4667984 ,\n",
       "         0.4667984 , 0.92537306, 0.92537306, 0.50258972, 0.50258972,\n",
       "         0.78914577, 0.78914577, 0.79058219, 0.79058219, 0.41950747,\n",
       "         0.41950747, 0.89010045, 0.89010045, 0.59221299, 0.59221299,\n",
       "         0.26455285, 0.26455285, 0.40894327, 0.40894327, 0.86775428,\n",
       "         0.86775428, 0.08835914, 0.08835914, 0.83243632, 0.83243632,\n",
       "         0.2940352 , 0.2940352 , 0.00313302, 0.00313302, 0.09645539,\n",
       "         0.09645539, 0.83995381, 0.83995381, 0.58603536, 0.58603536,\n",
       "         0.79679788, 0.79679788, 0.27007586, 0.27007586, 0.2367112 ,\n",
       "         0.2367112 , 0.28759083, 0.28759083, 0.0207347 , 0.0207347 ,\n",
       "         0.61319743, 0.61319743, 0.43216533, 0.43216533, 0.07157719,\n",
       "         0.07157719, 0.94556469, 0.94556469, 0.49568853, 0.49568853,\n",
       "         0.40714294, 0.40714294, 0.37263707, 0.37263707, 0.99539536,\n",
       "         0.99539536, 0.23684944, 0.23684944, 0.6598347 , 0.6598347 ,\n",
       "         0.80103846, 0.80103846, 0.22683161, 0.22683161, 0.59862459,\n",
       "         0.59862459, 0.48376312, 0.48376312, 0.98804135, 0.98804135,\n",
       "         0.95927946, 0.95927946, 0.36855847, 0.36855847, 0.7850675 ,\n",
       "         0.7850675 , 0.83344196, 0.83344196, 0.75232952, 0.75232952,\n",
       "         0.93169395, 0.93169395, 0.77582075, 0.77582075, 0.19168796,\n",
       "         0.19168796, 0.73502204, 0.73502204, 0.63751308, 0.63751308,\n",
       "         0.33415602, 0.33415602, 0.61266185, 0.61266185, 0.62712632,\n",
       "         0.62712632, 0.54860804, 0.54860804, 0.38801999, 0.38801999,\n",
       "         0.13311909, 0.13311909, 0.2086293 , 0.2086293 , 0.12062569,\n",
       "         0.12062569, 0.1684585 , 0.1684585 , 0.23883395, 0.23883395,\n",
       "         0.5394848 , 0.5394848 , 0.15671148, 0.15671148, 0.39653102,\n",
       "         0.39653102, 0.63264065, 0.63264065, 0.94363007, 0.94363007,\n",
       "         0.18610322, 0.18610322, 0.84306048, 0.84306048, 0.24055918,\n",
       "         0.24055918, 0.96616774, 0.96616774, 0.61456195, 0.61456195,\n",
       "         0.85359581, 0.85359581, 0.6387191 , 0.6387191 , 0.18014279,\n",
       "         0.18014279, 0.92686885, 0.92686885, 0.15407701, 0.15407701])}}"
      ]
     },
     "execution_count": 1,
     "metadata": {},
     "output_type": "execute_result"
    }
   ],
   "source": [
    "ds = load_by_id(run_id_n)\n",
    "ds.get_parameter_data('x1')"
   ]
  },
  {
   "cell_type": "markdown",
   "metadata": {},
   "source": [
    "And a dataset stored as binary arrays"
   ]
  },
  {
   "cell_type": "code",
   "execution_count": 12,
   "metadata": {
    "execution": {
     "iopub.execute_input": "2021-05-28T07:00:49.056446Z",
     "iopub.status.busy": "2021-05-28T07:00:49.055964Z",
     "iopub.status.idle": "2021-05-28T07:00:49.106041Z",
     "shell.execute_reply": "2021-05-28T07:00:49.106438Z"
    },
    "scrolled": true
   },
   "outputs": [
    {
     "data": {
      "text/plain": [
       "{'x1': {'x1': array([[0.77437561],\n",
       "         [0.77437561],\n",
       "         [0.543922  ],\n",
       "         [0.543922  ],\n",
       "         [0.23141151],\n",
       "         [0.23141151],\n",
       "         [0.68144023],\n",
       "         [0.68144023],\n",
       "         [0.95800125],\n",
       "         [0.95800125],\n",
       "         [0.3908748 ],\n",
       "         [0.3908748 ],\n",
       "         [0.00323883],\n",
       "         [0.00323883],\n",
       "         [0.24827612],\n",
       "         [0.24827612],\n",
       "         [0.51162228],\n",
       "         [0.51162228],\n",
       "         [0.20579049],\n",
       "         [0.20579049],\n",
       "         [0.9203046 ],\n",
       "         [0.9203046 ],\n",
       "         [0.84120223],\n",
       "         [0.84120223],\n",
       "         [0.51019876],\n",
       "         [0.51019876],\n",
       "         [0.25776378],\n",
       "         [0.25776378],\n",
       "         [0.1722704 ],\n",
       "         [0.1722704 ],\n",
       "         [0.64752594],\n",
       "         [0.64752594],\n",
       "         [0.94373219],\n",
       "         [0.94373219],\n",
       "         [0.89588494],\n",
       "         [0.89588494],\n",
       "         [0.19134917],\n",
       "         [0.19134917],\n",
       "         [0.50214976],\n",
       "         [0.50214976],\n",
       "         [0.17148854],\n",
       "         [0.17148854],\n",
       "         [0.22445045],\n",
       "         [0.22445045],\n",
       "         [0.02743285],\n",
       "         [0.02743285],\n",
       "         [0.04790251],\n",
       "         [0.04790251],\n",
       "         [0.74055705],\n",
       "         [0.74055705],\n",
       "         [0.29692405],\n",
       "         [0.29692405],\n",
       "         [0.91484105],\n",
       "         [0.91484105],\n",
       "         [0.40742326],\n",
       "         [0.40742326],\n",
       "         [0.14033629],\n",
       "         [0.14033629],\n",
       "         [0.46848904],\n",
       "         [0.46848904],\n",
       "         [0.93099574],\n",
       "         [0.93099574],\n",
       "         [0.16080863],\n",
       "         [0.16080863],\n",
       "         [0.71531554],\n",
       "         [0.71531554],\n",
       "         [0.22405725],\n",
       "         [0.22405725],\n",
       "         [0.29834875],\n",
       "         [0.29834875],\n",
       "         [0.25675889],\n",
       "         [0.25675889],\n",
       "         [0.1255641 ],\n",
       "         [0.1255641 ],\n",
       "         [0.41904152],\n",
       "         [0.41904152],\n",
       "         [0.17917914],\n",
       "         [0.17917914],\n",
       "         [0.0261384 ],\n",
       "         [0.0261384 ],\n",
       "         [0.5559168 ],\n",
       "         [0.5559168 ],\n",
       "         [0.72187535],\n",
       "         [0.72187535],\n",
       "         [0.27011022],\n",
       "         [0.27011022],\n",
       "         [0.02841876],\n",
       "         [0.02841876],\n",
       "         [0.53605259],\n",
       "         [0.53605259],\n",
       "         [0.56398396],\n",
       "         [0.56398396],\n",
       "         [0.03849558],\n",
       "         [0.03849558],\n",
       "         [0.37223699],\n",
       "         [0.37223699],\n",
       "         [0.46009729],\n",
       "         [0.46009729],\n",
       "         [0.06808368],\n",
       "         [0.06808368],\n",
       "         [0.75259612],\n",
       "         [0.75259612],\n",
       "         [0.07205271],\n",
       "         [0.07205271],\n",
       "         [0.97041123],\n",
       "         [0.97041123],\n",
       "         [0.06864635],\n",
       "         [0.06864635],\n",
       "         [0.79310328],\n",
       "         [0.79310328],\n",
       "         [0.09038328],\n",
       "         [0.09038328],\n",
       "         [0.7642967 ],\n",
       "         [0.7642967 ],\n",
       "         [0.37201541],\n",
       "         [0.37201541],\n",
       "         [0.76659269],\n",
       "         [0.76659269],\n",
       "         [0.21767999],\n",
       "         [0.21767999],\n",
       "         [0.4482221 ],\n",
       "         [0.4482221 ],\n",
       "         [0.69965648],\n",
       "         [0.69965648],\n",
       "         [0.06823933],\n",
       "         [0.06823933],\n",
       "         [0.63450373],\n",
       "         [0.63450373],\n",
       "         [0.44001944],\n",
       "         [0.44001944],\n",
       "         [0.89588791],\n",
       "         [0.89588791],\n",
       "         [0.12330906],\n",
       "         [0.12330906],\n",
       "         [0.36689459],\n",
       "         [0.36689459],\n",
       "         [0.73358913],\n",
       "         [0.73358913],\n",
       "         [0.00855232],\n",
       "         [0.00855232],\n",
       "         [0.39616464],\n",
       "         [0.39616464],\n",
       "         [0.90851319],\n",
       "         [0.90851319],\n",
       "         [0.75301415],\n",
       "         [0.75301415],\n",
       "         [0.25937367],\n",
       "         [0.25937367],\n",
       "         [0.57911487],\n",
       "         [0.57911487],\n",
       "         [0.55883113],\n",
       "         [0.55883113],\n",
       "         [0.4268893 ],\n",
       "         [0.4268893 ],\n",
       "         [0.87792616],\n",
       "         [0.87792616],\n",
       "         [0.5856541 ],\n",
       "         [0.5856541 ],\n",
       "         [0.54487625],\n",
       "         [0.54487625],\n",
       "         [0.55547003],\n",
       "         [0.55547003],\n",
       "         [0.612579  ],\n",
       "         [0.612579  ],\n",
       "         [0.04078337],\n",
       "         [0.04078337],\n",
       "         [0.27786101],\n",
       "         [0.27786101],\n",
       "         [0.38680252],\n",
       "         [0.38680252],\n",
       "         [0.7758877 ],\n",
       "         [0.7758877 ],\n",
       "         [0.08343386],\n",
       "         [0.08343386],\n",
       "         [0.44066394],\n",
       "         [0.44066394],\n",
       "         [0.25615832],\n",
       "         [0.25615832],\n",
       "         [0.76673535],\n",
       "         [0.76673535],\n",
       "         [0.66002442],\n",
       "         [0.66002442],\n",
       "         [0.964204  ],\n",
       "         [0.964204  ],\n",
       "         [0.86972973],\n",
       "         [0.86972973],\n",
       "         [0.91962492],\n",
       "         [0.91962492],\n",
       "         [0.18539028],\n",
       "         [0.18539028],\n",
       "         [0.7759409 ],\n",
       "         [0.7759409 ],\n",
       "         [0.01968918],\n",
       "         [0.01968918],\n",
       "         [0.0978721 ],\n",
       "         [0.0978721 ],\n",
       "         [0.66001508],\n",
       "         [0.66001508],\n",
       "         [0.1150368 ],\n",
       "         [0.1150368 ]])}}"
      ]
     },
     "execution_count": 1,
     "metadata": {},
     "output_type": "execute_result"
    }
   ],
   "source": [
    "ds = load_by_id(run_id_a)\n",
    "ds.get_parameter_data('x1')"
   ]
  },
  {
   "cell_type": "code",
   "execution_count": null,
   "metadata": {},
   "outputs": [],
   "source": []
  }
 ],
 "metadata": {
  "kernelspec": {
   "display_name": "Python 3",
   "language": "python",
   "name": "python3"
  },
  "language_info": {
   "codemirror_mode": {
    "name": "ipython",
    "version": 3
   },
   "file_extension": ".py",
   "mimetype": "text/x-python",
   "name": "python",
   "nbconvert_exporter": "python",
   "pygments_lexer": "ipython3",
   "version": "3.7.10"
  },
  "nbsphinx": {
   "timeout": 600
  },
  "toc": {
   "base_numbering": 1,
   "nav_menu": {},
   "number_sections": true,
   "sideBar": true,
   "skip_h1_title": false,
   "title_cell": "Table of Contents",
   "title_sidebar": "Contents",
   "toc_cell": false,
   "toc_position": {},
   "toc_section_display": true,
   "toc_window_display": false
  },
  "varInspector": {
   "cols": {
    "lenName": 16,
    "lenType": 16,
    "lenVar": 40
   },
   "kernels_config": {
    "python": {
     "delete_cmd_postfix": "",
     "delete_cmd_prefix": "del ",
     "library": "var_list.py",
     "varRefreshCmd": "print(var_dic_list())"
    },
    "r": {
     "delete_cmd_postfix": ") ",
     "delete_cmd_prefix": "rm(",
     "library": "var_list.r",
     "varRefreshCmd": "cat(var_dic_list()) "
    }
   },
   "types_to_exclude": [
    "module",
    "function",
    "builtin_function_or_method",
    "instance",
    "_Feature"
   ],
   "window_display": false
  }
 },
 "nbformat": 4,
 "nbformat_minor": 4
}
