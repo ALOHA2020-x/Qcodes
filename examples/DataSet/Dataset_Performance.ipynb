{
 "cells": [
  {
   "cell_type": "markdown",
   "metadata": {},
   "source": [
    "# DataSet Performance\n",
    "\n",
    "This notebook shows the trade-off between inserting data into a database row-by-row and as binary blobs. Inserting the data row-by-row means that we have direct access to all the data and may perform queries directly on the values of the data. On the other hand, as we shall see, this is much slower than inserting the data directly as binary blobs."
   ]
  },
  {
   "cell_type": "markdown",
   "metadata": {},
   "source": [
    "First, we choose a new location for the database to ensure that we don't add a bunch of benchmarking data to the default one."
   ]
  },
  {
   "cell_type": "code",
   "execution_count": 1,
   "metadata": {
    "execution": {
     "iopub.execute_input": "2020-10-26T09:18:03.752382Z",
     "iopub.status.busy": "2020-10-26T09:18:03.751108Z",
     "iopub.status.idle": "2020-10-26T09:18:04.674618Z",
     "shell.execute_reply": "2020-10-26T09:18:04.674116Z"
    }
   },
   "outputs": [
    {
     "name": "stdout",
     "output_type": "stream",
     "text": [
      "Logging hadn't been started.\n",
      "Activating auto-logging. Current session state plus future input saved.\n",
      "Filename       : /home/vsts/.qcodes/logs/command_history.log\n",
      "Mode           : append\n",
      "Output logging : True\n",
      "Raw input log  : False\n",
      "Timestamping   : True\n",
      "State          : active\n"
     ]
    },
    {
     "name": "stdout",
     "output_type": "stream",
     "text": [
      "Qcodes Logfile : /home/vsts/.qcodes/logs/201026-14575-qcodes.log\n"
     ]
    }
   ],
   "source": [
    "import os\n",
    "cwd = os.getcwd()\n",
    "import qcodes as qc\n",
    "qc.config[\"core\"][\"db_location\"] = os.path.join(cwd, 'testing.db')\n"
   ]
  },
  {
   "cell_type": "code",
   "execution_count": 2,
   "metadata": {
    "execution": {
     "iopub.execute_input": "2020-10-26T09:18:04.680017Z",
     "iopub.status.busy": "2020-10-26T09:18:04.679539Z",
     "iopub.status.idle": "2020-10-26T09:18:04.842092Z",
     "shell.execute_reply": "2020-10-26T09:18:04.841539Z"
    }
   },
   "outputs": [],
   "source": [
    "%matplotlib inline\n",
    "import time\n",
    "import matplotlib.pyplot as plt\n",
    "import numpy as np\n",
    "\n",
    "import qcodes as qc\n",
    "from qcodes.instrument.parameter import ManualParameter\n",
    "from qcodes.dataset.experiment_container import (Experiment,\n",
    "                                                 load_last_experiment,\n",
    "                                                 new_experiment)\n",
    "from qcodes.dataset.sqlite.database import initialise_database\n",
    "from qcodes import load_or_create_experiment\n",
    "from qcodes.dataset.measurements import Measurement"
   ]
  },
  {
   "cell_type": "code",
   "execution_count": 3,
   "metadata": {
    "execution": {
     "iopub.execute_input": "2020-10-26T09:18:04.846001Z",
     "iopub.status.busy": "2020-10-26T09:18:04.845359Z",
     "iopub.status.idle": "2020-10-26T09:18:04.948671Z",
     "shell.execute_reply": "2020-10-26T09:18:04.948184Z"
    }
   },
   "outputs": [
    {
     "name": "stdout",
     "output_type": "stream",
     "text": [
      "\r",
      "0it [00:00, ?it/s]"
     ]
    },
    {
     "name": "stdout",
     "output_type": "stream",
     "text": [
      "\r",
      "Upgrading database; v0 -> v1: : 0it [00:00, ?it/s]"
     ]
    },
    {
     "name": "stdout",
     "output_type": "stream",
     "text": [
      "\r",
      "Upgrading database; v0 -> v1: : 0it [00:00, ?it/s]"
     ]
    },
    {
     "name": "stdout",
     "output_type": "stream",
     "text": [
      "\n",
      "\r",
      "  0%|          | 0/1 [00:00<?, ?it/s]"
     ]
    },
    {
     "name": "stdout",
     "output_type": "stream",
     "text": [
      "\r",
      "Upgrading database; v1 -> v2:   0%|          | 0/1 [00:00<?, ?it/s]"
     ]
    },
    {
     "name": "stdout",
     "output_type": "stream",
     "text": [
      "\r",
      "Upgrading database; v1 -> v2: 100%|██████████| 1/1 [00:00<00:00, 525.27it/s]"
     ]
    },
    {
     "name": "stdout",
     "output_type": "stream",
     "text": [
      "\n",
      "\r",
      "0it [00:00, ?it/s]"
     ]
    },
    {
     "name": "stdout",
     "output_type": "stream",
     "text": [
      "\r",
      "Upgrading database; v2 -> v3: : 0it [00:00, ?it/s]"
     ]
    },
    {
     "name": "stdout",
     "output_type": "stream",
     "text": [
      "\r",
      "Upgrading database; v2 -> v3: : 0it [00:00, ?it/s]"
     ]
    },
    {
     "name": "stdout",
     "output_type": "stream",
     "text": [
      "\n",
      "\r",
      "0it [00:00, ?it/s]"
     ]
    },
    {
     "name": "stdout",
     "output_type": "stream",
     "text": [
      "\r",
      "Upgrading database; v3 -> v4: : 0it [00:00, ?it/s]"
     ]
    },
    {
     "name": "stdout",
     "output_type": "stream",
     "text": [
      "\r",
      "Upgrading database; v3 -> v4: : 0it [00:00, ?it/s]"
     ]
    },
    {
     "name": "stdout",
     "output_type": "stream",
     "text": [
      "\n",
      "\r",
      "  0%|          | 0/1 [00:00<?, ?it/s]"
     ]
    },
    {
     "name": "stdout",
     "output_type": "stream",
     "text": [
      "\r",
      "Upgrading database; v4 -> v5:   0%|          | 0/1 [00:00<?, ?it/s]"
     ]
    },
    {
     "name": "stdout",
     "output_type": "stream",
     "text": [
      "\r",
      "Upgrading database; v4 -> v5: 100%|██████████| 1/1 [00:00<00:00, 873.45it/s]"
     ]
    },
    {
     "name": "stdout",
     "output_type": "stream",
     "text": [
      "\n",
      "\r",
      "0it [00:00, ?it/s]"
     ]
    },
    {
     "name": "stdout",
     "output_type": "stream",
     "text": [
      "\r",
      "Upgrading database; v5 -> v6: : 0it [00:00, ?it/s]"
     ]
    },
    {
     "name": "stdout",
     "output_type": "stream",
     "text": [
      "\r",
      "Upgrading database; v5 -> v6: : 0it [00:00, ?it/s]"
     ]
    },
    {
     "name": "stdout",
     "output_type": "stream",
     "text": [
      "\n",
      "\r",
      "  0%|          | 0/1 [00:00<?, ?it/s]"
     ]
    },
    {
     "name": "stdout",
     "output_type": "stream",
     "text": [
      "\r",
      "Upgrading database; v6 -> v7:   0%|          | 0/1 [00:00<?, ?it/s]"
     ]
    },
    {
     "name": "stdout",
     "output_type": "stream",
     "text": [
      "\r",
      "Upgrading database; v6 -> v7: 100%|██████████| 1/1 [00:00<00:00, 381.23it/s]"
     ]
    },
    {
     "name": "stdout",
     "output_type": "stream",
     "text": [
      "\n",
      "\r",
      "  0%|          | 0/1 [00:00<?, ?it/s]"
     ]
    },
    {
     "name": "stdout",
     "output_type": "stream",
     "text": [
      "\r",
      "Upgrading database; v7 -> v8:   0%|          | 0/1 [00:00<?, ?it/s]"
     ]
    },
    {
     "name": "stdout",
     "output_type": "stream",
     "text": [
      "\r",
      "Upgrading database; v7 -> v8: 100%|██████████| 1/1 [00:00<00:00, 582.22it/s]"
     ]
    },
    {
     "name": "stdout",
     "output_type": "stream",
     "text": [
      "\n",
      "\r",
      "  0%|          | 0/1 [00:00<?, ?it/s]"
     ]
    },
    {
     "name": "stdout",
     "output_type": "stream",
     "text": [
      "\r",
      "Upgrading database; v8 -> v9:   0%|          | 0/1 [00:00<?, ?it/s]"
     ]
    },
    {
     "name": "stdout",
     "output_type": "stream",
     "text": [
      "\r",
      "Upgrading database; v8 -> v9: 100%|██████████| 1/1 [00:00<00:00, 538.84it/s]"
     ]
    },
    {
     "name": "stdout",
     "output_type": "stream",
     "text": [
      "\n"
     ]
    }
   ],
   "source": [
    "initialise_database()\n",
    "exp = load_or_create_experiment(experiment_name='tutorial_exp', sample_name=\"no sample\")"
   ]
  },
  {
   "cell_type": "markdown",
   "metadata": {},
   "source": [
    "Here, we define a simple function to benchmark the time it takes to insert n points with either numeric or array data type.\n",
    "We will compare both the time used to call ``add_result`` and the time used for the full measurement."
   ]
  },
  {
   "cell_type": "code",
   "execution_count": 4,
   "metadata": {
    "execution": {
     "iopub.execute_input": "2020-10-26T09:18:04.956288Z",
     "iopub.status.busy": "2020-10-26T09:18:04.955772Z",
     "iopub.status.idle": "2020-10-26T09:18:04.958751Z",
     "shell.execute_reply": "2020-10-26T09:18:04.958342Z"
    }
   },
   "outputs": [],
   "source": [
    "def insert_data(paramtype, npoints, nreps=1):\n",
    "\n",
    "    meas = Measurement(exp=exp)\n",
    "\n",
    "    x1 = ManualParameter('x1')\n",
    "    x2 = ManualParameter('x2')\n",
    "    x3 = ManualParameter('x3')\n",
    "    y1 = ManualParameter('y1')\n",
    "    y2 = ManualParameter('y2')\n",
    "\n",
    "    meas.register_parameter(x1, paramtype=paramtype)\n",
    "    meas.register_parameter(x2, paramtype=paramtype)\n",
    "    meas.register_parameter(x3, paramtype=paramtype)\n",
    "    meas.register_parameter(y1, setpoints=[x1, x2, x3],\n",
    "                            paramtype=paramtype)\n",
    "    meas.register_parameter(y2, setpoints=[x1, x2, x3],\n",
    "                            paramtype=paramtype)\n",
    "    start = time.perf_counter()\n",
    "    with meas.run() as datasaver:\n",
    "        start_adding = time.perf_counter()\n",
    "        for i in range(nreps):\n",
    "            datasaver.add_result((x1, np.random.rand(npoints)),\n",
    "                                 (x2, np.random.rand(npoints)),\n",
    "                                 (x3, np.random.rand(npoints)),\n",
    "                                 (y1, np.random.rand(npoints)),\n",
    "                                 (y2, np.random.rand(npoints)))\n",
    "        stop_adding = time.perf_counter()\n",
    "        run_id = datasaver.run_id\n",
    "    stop = time.perf_counter()\n",
    "    tot_time = stop - start\n",
    "    add_time = stop_adding - start_adding\n",
    "    return tot_time, add_time, run_id"
   ]
  },
  {
   "cell_type": "markdown",
   "metadata": {},
   "source": [
    "## Comparison between numeric/array data and binary blob"
   ]
  },
  {
   "cell_type": "markdown",
   "metadata": {},
   "source": [
    "### Case1: Short experiment time"
   ]
  },
  {
   "cell_type": "code",
   "execution_count": 5,
   "metadata": {
    "execution": {
     "iopub.execute_input": "2020-10-26T09:18:04.963947Z",
     "iopub.status.busy": "2020-10-26T09:18:04.962917Z",
     "iopub.status.idle": "2020-10-26T09:18:05.656359Z",
     "shell.execute_reply": "2020-10-26T09:18:05.655904Z"
    }
   },
   "outputs": [
    {
     "name": "stdout",
     "output_type": "stream",
     "text": [
      "Starting experimental run with id: 1. \n",
      "Starting experimental run with id: 2. \n",
      "Starting experimental run with id: 3. \n",
      "Starting experimental run with id: 4. \n",
      "Starting experimental run with id: 5. \n",
      "Starting experimental run with id: 6. \n"
     ]
    },
    {
     "name": "stdout",
     "output_type": "stream",
     "text": [
      "Starting experimental run with id: 7. \n"
     ]
    },
    {
     "name": "stdout",
     "output_type": "stream",
     "text": [
      "Starting experimental run with id: 8. \n"
     ]
    },
    {
     "name": "stdout",
     "output_type": "stream",
     "text": [
      "Starting experimental run with id: 9. \n",
      "Starting experimental run with id: 10. \n"
     ]
    },
    {
     "name": "stdout",
     "output_type": "stream",
     "text": [
      "Starting experimental run with id: 11. \n"
     ]
    },
    {
     "name": "stdout",
     "output_type": "stream",
     "text": [
      "Starting experimental run with id: 12. \n",
      "Starting experimental run with id: 13. \n"
     ]
    },
    {
     "name": "stdout",
     "output_type": "stream",
     "text": [
      "Starting experimental run with id: 14. \n"
     ]
    }
   ],
   "source": [
    "sizes = [1,500,1000,2000,3000,4000,5000]\n",
    "t_numeric = []\n",
    "t_numeric_add = []\n",
    "t_array = []\n",
    "t_array_add = []\n",
    "for size in sizes:\n",
    "    tn, tna, run_id_n =  insert_data('numeric', size)\n",
    "    t_numeric.append(tn)\n",
    "    t_numeric_add.append(tna)\n",
    "\n",
    "    ta, taa, run_id_a =  insert_data('array', size)\n",
    "    t_array.append(ta)\n",
    "    t_array_add.append(taa)"
   ]
  },
  {
   "cell_type": "code",
   "execution_count": 6,
   "metadata": {
    "execution": {
     "iopub.execute_input": "2020-10-26T09:18:05.683339Z",
     "iopub.status.busy": "2020-10-26T09:18:05.670661Z",
     "iopub.status.idle": "2020-10-26T09:18:05.839743Z",
     "shell.execute_reply": "2020-10-26T09:18:05.840102Z"
    }
   },
   "outputs": [
    {
     "data": {
      "image/png": "[encoded data removed]",
      "text/plain": [
       "<Figure size 432x288 with 1 Axes>"
      ]
     },
     "metadata": {
      "needs_background": "light"
     },
     "output_type": "display_data"
    }
   ],
   "source": [
    "fig, ax = plt.subplots(1,1)\n",
    "ax.plot(sizes, t_numeric, 'o-', label='Inserting row-by-row')\n",
    "ax.plot(sizes, t_numeric_add, 'o-', label='Inserting row-by-row: add_result only')\n",
    "ax.plot(sizes, t_array, 'd-', label='Inserting as binary blob')\n",
    "ax.plot(sizes, t_array_add, 'd-', label='Inserting as binary blob: add_result only')\n",
    "ax.legend()\n",
    "ax.set_xlabel('Array length')\n",
    "ax.set_ylabel('Time (s)')\n",
    "fig.tight_layout()"
   ]
  },
  {
   "cell_type": "markdown",
   "metadata": {},
   "source": [
    "As shown in the latter figure, the time to setup and and close the experiment is approximately 0.4 sec. In case of small array sizes, the difference between inserting values of data as arrays and inserting them row-by-row is relatively unimportant. At larger array sizes, i.e. above 10000 points, the cost of writing data as individual datapoints starts to become important.\n"
   ]
  },
  {
   "cell_type": "markdown",
   "metadata": {},
   "source": [
    "### Case2: Long experiment time "
   ]
  },
  {
   "cell_type": "code",
   "execution_count": 7,
   "metadata": {
    "execution": {
     "iopub.execute_input": "2020-10-26T09:18:05.846408Z",
     "iopub.status.busy": "2020-10-26T09:18:05.845933Z",
     "iopub.status.idle": "2020-10-26T09:18:57.508744Z",
     "shell.execute_reply": "2020-10-26T09:18:57.508298Z"
    }
   },
   "outputs": [
    {
     "name": "stdout",
     "output_type": "stream",
     "text": [
      "Starting experimental run with id: 15. \n",
      "Starting experimental run with id: 16. \n",
      "Starting experimental run with id: 17. \n"
     ]
    },
    {
     "name": "stdout",
     "output_type": "stream",
     "text": [
      "Starting experimental run with id: 18. \n",
      "Starting experimental run with id: 19. \n"
     ]
    },
    {
     "name": "stdout",
     "output_type": "stream",
     "text": [
      "Starting experimental run with id: 20. \n"
     ]
    },
    {
     "name": "stdout",
     "output_type": "stream",
     "text": [
      "Starting experimental run with id: 21. \n"
     ]
    },
    {
     "name": "stdout",
     "output_type": "stream",
     "text": [
      "Starting experimental run with id: 22. \n"
     ]
    },
    {
     "name": "stdout",
     "output_type": "stream",
     "text": [
      "Starting experimental run with id: 23. \n"
     ]
    },
    {
     "name": "stdout",
     "output_type": "stream",
     "text": [
      "Starting experimental run with id: 24. \n"
     ]
    },
    {
     "name": "stdout",
     "output_type": "stream",
     "text": [
      "Starting experimental run with id: 25. \n"
     ]
    },
    {
     "name": "stdout",
     "output_type": "stream",
     "text": [
      "Starting experimental run with id: 26. \n"
     ]
    },
    {
     "name": "stdout",
     "output_type": "stream",
     "text": [
      "Starting experimental run with id: 27. \n"
     ]
    },
    {
     "name": "stdout",
     "output_type": "stream",
     "text": [
      "Starting experimental run with id: 28. \n"
     ]
    }
   ],
   "source": [
    "sizes = [1,500,1000,2000,3000,4000,5000]\n",
    "nreps = 100\n",
    "t_numeric = []\n",
    "t_numeric_add = []\n",
    "t_numeric_run_ids = []\n",
    "t_array = []\n",
    "t_array_add = []\n",
    "t_array_run_ids = []\n",
    "for size in sizes:\n",
    "    tn, tna, run_id_n =  insert_data('numeric', size, nreps=nreps)\n",
    "    t_numeric.append(tn)\n",
    "    t_numeric_add.append(tna)\n",
    "    t_numeric_run_ids.append(run_id_n)\n",
    "\n",
    "    ta, taa, run_id_a =  insert_data('array', size, nreps=nreps)\n",
    "    t_array.append(ta)\n",
    "    t_array_add.append(taa)\n",
    "    t_array_run_ids.append(run_id_a)"
   ]
  },
  {
   "cell_type": "code",
   "execution_count": 8,
   "metadata": {
    "execution": {
     "iopub.execute_input": "2020-10-26T09:18:57.532707Z",
     "iopub.status.busy": "2020-10-26T09:18:57.530484Z",
     "iopub.status.idle": "2020-10-26T09:18:57.676424Z",
     "shell.execute_reply": "2020-10-26T09:18:57.675994Z"
    },
    "scrolled": true
   },
   "outputs": [
    {
     "data": {
      "image/png": "[encoded data removed]",
      "text/plain": [
       "<Figure size 432x288 with 1 Axes>"
      ]
     },
     "metadata": {
      "needs_background": "light"
     },
     "output_type": "display_data"
    }
   ],
   "source": [
    "fig, ax = plt.subplots(1,1)\n",
    "ax.plot(sizes, t_numeric, 'o-', label='Inserting row-by-row')\n",
    "ax.plot(sizes, t_numeric_add, 'o-', label='Inserting row-by-row: add_result only')\n",
    "ax.plot(sizes, t_array, 'd-', label='Inserting as binary blob')\n",
    "ax.plot(sizes, t_array_add, 'd-', label='Inserting as binary blob: add_result only')\n",
    "ax.legend()\n",
    "ax.set_xlabel('Array length')\n",
    "ax.set_ylabel('Time (s)')\n",
    "fig.tight_layout()"
   ]
  },
  {
   "cell_type": "markdown",
   "metadata": {},
   "source": [
    "However, as we increase the length of the experiment, as seen here by repeating the insertion 100 times, we see a big difference between inserting values of the data row-by-row and inserting it as a binary blob."
   ]
  },
  {
   "cell_type": "markdown",
   "metadata": {},
   "source": [
    "## Loading the data "
   ]
  },
  {
   "cell_type": "code",
   "execution_count": 9,
   "metadata": {
    "execution": {
     "iopub.execute_input": "2020-10-26T09:18:57.679945Z",
     "iopub.status.busy": "2020-10-26T09:18:57.679084Z",
     "iopub.status.idle": "2020-10-26T09:18:57.681945Z",
     "shell.execute_reply": "2020-10-26T09:18:57.681476Z"
    }
   },
   "outputs": [],
   "source": [
    "from qcodes.dataset.data_set import load_by_id\n",
    "from qcodes.dataset.data_export import get_data_by_id"
   ]
  },
  {
   "cell_type": "markdown",
   "metadata": {},
   "source": [
    "As usual you can load the data by using the ``load_by_id`` function but you will notice that the different storage methods\n",
    "are reflected in shape of the data as it is retrieved. "
   ]
  },
  {
   "cell_type": "code",
   "execution_count": 10,
   "metadata": {
    "execution": {
     "iopub.execute_input": "2020-10-26T09:18:57.685071Z",
     "iopub.status.busy": "2020-10-26T09:18:57.684617Z",
     "iopub.status.idle": "2020-10-26T09:18:57.686543Z",
     "shell.execute_reply": "2020-10-26T09:18:57.686075Z"
    }
   },
   "outputs": [],
   "source": [
    "run_id_n = t_numeric_run_ids[0]\n",
    "run_id_a = t_array_run_ids[0]"
   ]
  },
  {
   "cell_type": "code",
   "execution_count": 11,
   "metadata": {
    "execution": {
     "iopub.execute_input": "2020-10-26T09:18:57.689261Z",
     "iopub.status.busy": "2020-10-26T09:18:57.688811Z",
     "iopub.status.idle": "2020-10-26T09:18:57.696657Z",
     "shell.execute_reply": "2020-10-26T09:18:57.696272Z"
    },
    "scrolled": true
   },
   "outputs": [
    {
     "data": {
      "text/plain": [
       "{'x1': {'x1': array([0.53628681, 0.53628681, 0.67993186, 0.67993186, 0.19206147,\n",
       "         0.19206147, 0.10681086, 0.10681086, 0.28894987, 0.28894987,\n",
       "         0.69600377, 0.69600377, 0.28691744, 0.28691744, 0.98269614,\n",
       "         0.98269614, 0.55540952, 0.55540952, 0.10579611, 0.10579611,\n",
       "         0.29543362, 0.29543362, 0.21249773, 0.21249773, 0.4726185 ,\n",
       "         0.4726185 , 0.51957314, 0.51957314, 0.5994643 , 0.5994643 ,\n",
       "         0.0626162 , 0.0626162 , 0.75160459, 0.75160459, 0.55983004,\n",
       "         0.55983004, 0.68400887, 0.68400887, 0.48619213, 0.48619213,\n",
       "         0.55870154, 0.55870154, 0.51164061, 0.51164061, 0.36139027,\n",
       "         0.36139027, 0.8038842 , 0.8038842 , 0.41756213, 0.41756213,\n",
       "         0.37432769, 0.37432769, 0.48976795, 0.48976795, 0.84291023,\n",
       "         0.84291023, 0.07458392, 0.07458392, 0.7093989 , 0.7093989 ,\n",
       "         0.12764776, 0.12764776, 0.99234894, 0.99234894, 0.5816982 ,\n",
       "         0.5816982 , 0.37445751, 0.37445751, 0.2492213 , 0.2492213 ,\n",
       "         0.48748966, 0.48748966, 0.57197237, 0.57197237, 0.96301211,\n",
       "         0.96301211, 0.64386601, 0.64386601, 0.12690794, 0.12690794,\n",
       "         0.37284039, 0.37284039, 0.08639432, 0.08639432, 0.43270098,\n",
       "         0.43270098, 0.92042239, 0.92042239, 0.51065954, 0.51065954,\n",
       "         0.88154482, 0.88154482, 0.61473169, 0.61473169, 0.73712346,\n",
       "         0.73712346, 0.82143396, 0.82143396, 0.10701861, 0.10701861,\n",
       "         0.97622096, 0.97622096, 0.36431108, 0.36431108, 0.33731119,\n",
       "         0.33731119, 0.7890553 , 0.7890553 , 0.97024544, 0.97024544,\n",
       "         0.04650023, 0.04650023, 0.47870835, 0.47870835, 0.06965519,\n",
       "         0.06965519, 0.33112537, 0.33112537, 0.24231421, 0.24231421,\n",
       "         0.97760748, 0.97760748, 0.54265986, 0.54265986, 0.22304601,\n",
       "         0.22304601, 0.41698434, 0.41698434, 0.82706601, 0.82706601,\n",
       "         0.61526393, 0.61526393, 0.33639114, 0.33639114, 0.85796698,\n",
       "         0.85796698, 0.35146231, 0.35146231, 0.57749736, 0.57749736,\n",
       "         0.80253544, 0.80253544, 0.69302212, 0.69302212, 0.87936926,\n",
       "         0.87936926, 0.39892062, 0.39892062, 0.85450962, 0.85450962,\n",
       "         0.32256395, 0.32256395, 0.94766981, 0.94766981, 0.78175307,\n",
       "         0.78175307, 0.80526278, 0.80526278, 0.54191092, 0.54191092,\n",
       "         0.77828248, 0.77828248, 0.72432398, 0.72432398, 0.34390172,\n",
       "         0.34390172, 0.02833112, 0.02833112, 0.08356548, 0.08356548,\n",
       "         0.46555092, 0.46555092, 0.13586769, 0.13586769, 0.61905122,\n",
       "         0.61905122, 0.5311365 , 0.5311365 , 0.81773703, 0.81773703,\n",
       "         0.62260556, 0.62260556, 0.26024504, 0.26024504, 0.7663141 ,\n",
       "         0.7663141 , 0.14866582, 0.14866582, 0.2839674 , 0.2839674 ,\n",
       "         0.19842332, 0.19842332, 0.77144114, 0.77144114, 0.10646438,\n",
       "         0.10646438, 0.55872887, 0.55872887, 0.56598731, 0.56598731])}}"
      ]
     },
     "execution_count": 1,
     "metadata": {},
     "output_type": "execute_result"
    }
   ],
   "source": [
    "ds = load_by_id(run_id_n)\n",
    "ds.get_parameter_data('x1')"
   ]
  },
  {
   "cell_type": "markdown",
   "metadata": {},
   "source": [
    "And a dataset stored as binary arrays"
   ]
  },
  {
   "cell_type": "code",
   "execution_count": 12,
   "metadata": {
    "execution": {
     "iopub.execute_input": "2020-10-26T09:18:57.699508Z",
     "iopub.status.busy": "2020-10-26T09:18:57.699059Z",
     "iopub.status.idle": "2020-10-26T09:18:57.744748Z",
     "shell.execute_reply": "2020-10-26T09:18:57.745196Z"
    },
    "scrolled": true
   },
   "outputs": [
    {
     "data": {
      "text/plain": [
       "{'x1': {'x1': array([[1.08013786e-01],\n",
       "         [1.08013786e-01],\n",
       "         [9.26181815e-01],\n",
       "         [9.26181815e-01],\n",
       "         [2.55548341e-04],\n",
       "         [2.55548341e-04],\n",
       "         [6.34762728e-01],\n",
       "         [6.34762728e-01],\n",
       "         [4.20441105e-01],\n",
       "         [4.20441105e-01],\n",
       "         [1.54692852e-01],\n",
       "         [1.54692852e-01],\n",
       "         [3.45575564e-01],\n",
       "         [3.45575564e-01],\n",
       "         [2.48354345e-01],\n",
       "         [2.48354345e-01],\n",
       "         [3.85200631e-01],\n",
       "         [3.85200631e-01],\n",
       "         [3.57377265e-01],\n",
       "         [3.57377265e-01],\n",
       "         [8.55527096e-01],\n",
       "         [8.55527096e-01],\n",
       "         [8.25100955e-01],\n",
       "         [8.25100955e-01],\n",
       "         [8.88128898e-01],\n",
       "         [8.88128898e-01],\n",
       "         [5.41280564e-01],\n",
       "         [5.41280564e-01],\n",
       "         [7.08087154e-01],\n",
       "         [7.08087154e-01],\n",
       "         [5.20172703e-02],\n",
       "         [5.20172703e-02],\n",
       "         [1.98854997e-01],\n",
       "         [1.98854997e-01],\n",
       "         [6.24498848e-02],\n",
       "         [6.24498848e-02],\n",
       "         [9.64837277e-01],\n",
       "         [9.64837277e-01],\n",
       "         [7.12711699e-01],\n",
       "         [7.12711699e-01],\n",
       "         [4.73989558e-01],\n",
       "         [4.73989558e-01],\n",
       "         [3.27599371e-01],\n",
       "         [3.27599371e-01],\n",
       "         [7.21891769e-01],\n",
       "         [7.21891769e-01],\n",
       "         [3.48780259e-01],\n",
       "         [3.48780259e-01],\n",
       "         [2.04256877e-01],\n",
       "         [2.04256877e-01],\n",
       "         [2.43011431e-01],\n",
       "         [2.43011431e-01],\n",
       "         [4.12072049e-01],\n",
       "         [4.12072049e-01],\n",
       "         [2.74804042e-01],\n",
       "         [2.74804042e-01],\n",
       "         [7.52021863e-01],\n",
       "         [7.52021863e-01],\n",
       "         [8.49272555e-01],\n",
       "         [8.49272555e-01],\n",
       "         [8.22969917e-01],\n",
       "         [8.22969917e-01],\n",
       "         [6.65061030e-01],\n",
       "         [6.65061030e-01],\n",
       "         [7.38762307e-01],\n",
       "         [7.38762307e-01],\n",
       "         [4.85350348e-02],\n",
       "         [4.85350348e-02],\n",
       "         [1.84526602e-01],\n",
       "         [1.84526602e-01],\n",
       "         [3.32061862e-01],\n",
       "         [3.32061862e-01],\n",
       "         [8.73842970e-01],\n",
       "         [8.73842970e-01],\n",
       "         [3.92048756e-01],\n",
       "         [3.92048756e-01],\n",
       "         [9.44500207e-01],\n",
       "         [9.44500207e-01],\n",
       "         [2.98781206e-01],\n",
       "         [2.98781206e-01],\n",
       "         [7.74615121e-01],\n",
       "         [7.74615121e-01],\n",
       "         [2.38288483e-01],\n",
       "         [2.38288483e-01],\n",
       "         [5.09021652e-01],\n",
       "         [5.09021652e-01],\n",
       "         [1.04450592e-01],\n",
       "         [1.04450592e-01],\n",
       "         [2.00699896e-01],\n",
       "         [2.00699896e-01],\n",
       "         [5.88048982e-01],\n",
       "         [5.88048982e-01],\n",
       "         [9.47039532e-01],\n",
       "         [9.47039532e-01],\n",
       "         [9.69955950e-01],\n",
       "         [9.69955950e-01],\n",
       "         [8.82086883e-01],\n",
       "         [8.82086883e-01],\n",
       "         [6.04431621e-01],\n",
       "         [6.04431621e-01],\n",
       "         [6.96709812e-01],\n",
       "         [6.96709812e-01],\n",
       "         [2.34964418e-01],\n",
       "         [2.34964418e-01],\n",
       "         [6.68575300e-01],\n",
       "         [6.68575300e-01],\n",
       "         [9.66564317e-02],\n",
       "         [9.66564317e-02],\n",
       "         [2.35289707e-01],\n",
       "         [2.35289707e-01],\n",
       "         [9.59374905e-01],\n",
       "         [9.59374905e-01],\n",
       "         [1.12033064e-01],\n",
       "         [1.12033064e-01],\n",
       "         [2.73842261e-02],\n",
       "         [2.73842261e-02],\n",
       "         [2.64341087e-01],\n",
       "         [2.64341087e-01],\n",
       "         [3.48243725e-01],\n",
       "         [3.48243725e-01],\n",
       "         [7.63119994e-02],\n",
       "         [7.63119994e-02],\n",
       "         [3.70653159e-01],\n",
       "         [3.70653159e-01],\n",
       "         [3.18357447e-02],\n",
       "         [3.18357447e-02],\n",
       "         [5.62734867e-01],\n",
       "         [5.62734867e-01],\n",
       "         [2.47132165e-01],\n",
       "         [2.47132165e-01],\n",
       "         [5.17377031e-01],\n",
       "         [5.17377031e-01],\n",
       "         [7.43507821e-01],\n",
       "         [7.43507821e-01],\n",
       "         [3.07979655e-01],\n",
       "         [3.07979655e-01],\n",
       "         [4.52554556e-01],\n",
       "         [4.52554556e-01],\n",
       "         [8.82865953e-01],\n",
       "         [8.82865953e-01],\n",
       "         [1.66069192e-01],\n",
       "         [1.66069192e-01],\n",
       "         [3.49934862e-01],\n",
       "         [3.49934862e-01],\n",
       "         [7.73351317e-01],\n",
       "         [7.73351317e-01],\n",
       "         [4.17018814e-01],\n",
       "         [4.17018814e-01],\n",
       "         [2.92539432e-01],\n",
       "         [2.92539432e-01],\n",
       "         [7.07620320e-01],\n",
       "         [7.07620320e-01],\n",
       "         [3.23869729e-01],\n",
       "         [3.23869729e-01],\n",
       "         [4.79796396e-01],\n",
       "         [4.79796396e-01],\n",
       "         [9.75943404e-01],\n",
       "         [9.75943404e-01],\n",
       "         [3.63344949e-01],\n",
       "         [3.63344949e-01],\n",
       "         [3.55662986e-01],\n",
       "         [3.55662986e-01],\n",
       "         [8.71218381e-02],\n",
       "         [8.71218381e-02],\n",
       "         [6.20036934e-01],\n",
       "         [6.20036934e-01],\n",
       "         [1.44578642e-01],\n",
       "         [1.44578642e-01],\n",
       "         [6.00230263e-02],\n",
       "         [6.00230263e-02],\n",
       "         [9.04666151e-01],\n",
       "         [9.04666151e-01],\n",
       "         [1.97945601e-01],\n",
       "         [1.97945601e-01],\n",
       "         [9.47093149e-01],\n",
       "         [9.47093149e-01],\n",
       "         [9.43444974e-01],\n",
       "         [9.43444974e-01],\n",
       "         [3.09685394e-01],\n",
       "         [3.09685394e-01],\n",
       "         [3.09477932e-01],\n",
       "         [3.09477932e-01],\n",
       "         [7.27404464e-01],\n",
       "         [7.27404464e-01],\n",
       "         [7.13731590e-01],\n",
       "         [7.13731590e-01],\n",
       "         [1.25897892e-01],\n",
       "         [1.25897892e-01],\n",
       "         [1.65780862e-01],\n",
       "         [1.65780862e-01],\n",
       "         [5.15436394e-01],\n",
       "         [5.15436394e-01],\n",
       "         [4.23682247e-01],\n",
       "         [4.23682247e-01],\n",
       "         [1.91315873e-01],\n",
       "         [1.91315873e-01],\n",
       "         [2.05423270e-01],\n",
       "         [2.05423270e-01],\n",
       "         [3.18786929e-01],\n",
       "         [3.18786929e-01]])}}"
      ]
     },
     "execution_count": 1,
     "metadata": {},
     "output_type": "execute_result"
    }
   ],
   "source": [
    "ds = load_by_id(run_id_a)\n",
    "ds.get_parameter_data('x1')"
   ]
  },
  {
   "cell_type": "code",
   "execution_count": null,
   "metadata": {},
   "outputs": [],
   "source": []
  }
 ],
 "metadata": {
  "kernelspec": {
   "display_name": "Python 3",
   "language": "python",
   "name": "python3"
  },
  "language_info": {
   "codemirror_mode": {
    "name": "ipython",
    "version": 3
   },
   "file_extension": ".py",
   "mimetype": "text/x-python",
   "name": "python",
   "nbconvert_exporter": "python",
   "pygments_lexer": "ipython3",
   "version": "3.7.7"
  },
  "nbsphinx": {
   "timeout": 600
  },
  "toc": {
   "base_numbering": 1,
   "nav_menu": {},
   "number_sections": true,
   "sideBar": true,
   "skip_h1_title": false,
   "title_cell": "Table of Contents",
   "title_sidebar": "Contents",
   "toc_cell": false,
   "toc_position": {},
   "toc_section_display": true,
   "toc_window_display": false
  },
  "varInspector": {
   "cols": {
    "lenName": 16,
    "lenType": 16,
    "lenVar": 40
   },
   "kernels_config": {
    "python": {
     "delete_cmd_postfix": "",
     "delete_cmd_prefix": "del ",
     "library": "var_list.py",
     "varRefreshCmd": "print(var_dic_list())"
    },
    "r": {
     "delete_cmd_postfix": ") ",
     "delete_cmd_prefix": "rm(",
     "library": "var_list.r",
     "varRefreshCmd": "cat(var_dic_list()) "
    }
   },
   "types_to_exclude": [
    "module",
    "function",
    "builtin_function_or_method",
    "instance",
    "_Feature"
   ],
   "window_display": false
  }
 },
 "nbformat": 4,
 "nbformat_minor": 2
}
