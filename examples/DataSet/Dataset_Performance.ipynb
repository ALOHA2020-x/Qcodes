{
 "cells": [
  {
   "cell_type": "markdown",
   "metadata": {},
   "source": [
    "# DataSet Performance\n",
    "\n",
    "This notebook shows the trade-off between inserting data into a database row-by-row and as binary blobs. Inserting the data row-by-row means that we have direct access to all the data and may perform queries directly on the values of the data. On the other hand, as we shall see, this is much slower than inserting the data directly as binary blobs."
   ]
  },
  {
   "cell_type": "markdown",
   "metadata": {},
   "source": [
    "First, we choose a new location for the database to ensure that we don't add a bunch of benchmarking data to the default one."
   ]
  },
  {
   "cell_type": "code",
   "execution_count": 1,
   "metadata": {
    "execution": {
     "iopub.execute_input": "2020-11-12T12:05:05.851728Z",
     "iopub.status.busy": "2020-11-12T12:05:05.851166Z",
     "iopub.status.idle": "2020-11-12T12:05:06.862431Z",
     "shell.execute_reply": "2020-11-12T12:05:06.862872Z"
    }
   },
   "outputs": [
    {
     "name": "stdout",
     "output_type": "stream",
     "text": [
      "Logging hadn't been started.\n",
      "Activating auto-logging. Current session state plus future input saved.\n",
      "Filename       : /home/vsts/.qcodes/logs/command_history.log\n",
      "Mode           : append\n",
      "Output logging : True\n",
      "Raw input log  : False\n",
      "Timestamping   : True\n",
      "State          : active\n"
     ]
    },
    {
     "name": "stdout",
     "output_type": "stream",
     "text": [
      "Qcodes Logfile : /home/vsts/.qcodes/logs/201112-14201-qcodes.log\n"
     ]
    }
   ],
   "source": [
    "import os\n",
    "cwd = os.getcwd()\n",
    "import qcodes as qc\n",
    "qc.config[\"core\"][\"db_location\"] = os.path.join(cwd, 'testing.db')\n"
   ]
  },
  {
   "cell_type": "code",
   "execution_count": 2,
   "metadata": {
    "execution": {
     "iopub.execute_input": "2020-11-12T12:05:06.870474Z",
     "iopub.status.busy": "2020-11-12T12:05:06.869117Z",
     "iopub.status.idle": "2020-11-12T12:05:07.054835Z",
     "shell.execute_reply": "2020-11-12T12:05:07.053734Z"
    }
   },
   "outputs": [],
   "source": [
    "%matplotlib inline\n",
    "import time\n",
    "import matplotlib.pyplot as plt\n",
    "import numpy as np\n",
    "\n",
    "import qcodes as qc\n",
    "from qcodes.instrument.parameter import ManualParameter\n",
    "from qcodes.dataset.experiment_container import (Experiment,\n",
    "                                                 load_last_experiment,\n",
    "                                                 new_experiment)\n",
    "from qcodes.dataset.sqlite.database import initialise_database\n",
    "from qcodes import load_or_create_experiment\n",
    "from qcodes.dataset.measurements import Measurement"
   ]
  },
  {
   "cell_type": "code",
   "execution_count": 3,
   "metadata": {
    "execution": {
     "iopub.execute_input": "2020-11-12T12:05:07.059858Z",
     "iopub.status.busy": "2020-11-12T12:05:07.059312Z",
     "iopub.status.idle": "2020-11-12T12:05:07.171849Z",
     "shell.execute_reply": "2020-11-12T12:05:07.171387Z"
    }
   },
   "outputs": [
    {
     "name": "stdout",
     "output_type": "stream",
     "text": [
      "\r",
      "0it [00:00, ?it/s]"
     ]
    },
    {
     "name": "stdout",
     "output_type": "stream",
     "text": [
      "\r",
      "Upgrading database; v0 -> v1: : 0it [00:00, ?it/s]"
     ]
    },
    {
     "name": "stdout",
     "output_type": "stream",
     "text": [
      "\r",
      "Upgrading database; v0 -> v1: : 0it [00:00, ?it/s]"
     ]
    },
    {
     "name": "stdout",
     "output_type": "stream",
     "text": [
      "\n",
      "\r",
      "  0%|          | 0/1 [00:00<?, ?it/s]"
     ]
    },
    {
     "name": "stdout",
     "output_type": "stream",
     "text": [
      "\r",
      "Upgrading database; v1 -> v2:   0%|          | 0/1 [00:00<?, ?it/s]"
     ]
    },
    {
     "name": "stdout",
     "output_type": "stream",
     "text": [
      "\r",
      "Upgrading database; v1 -> v2: 100%|██████████| 1/1 [00:00<00:00, 926.30it/s]"
     ]
    },
    {
     "name": "stdout",
     "output_type": "stream",
     "text": [
      "\n",
      "\r",
      "0it [00:00, ?it/s]"
     ]
    },
    {
     "name": "stdout",
     "output_type": "stream",
     "text": [
      "\r",
      "Upgrading database; v2 -> v3: : 0it [00:00, ?it/s]"
     ]
    },
    {
     "name": "stdout",
     "output_type": "stream",
     "text": [
      "\r",
      "Upgrading database; v2 -> v3: : 0it [00:00, ?it/s]"
     ]
    },
    {
     "name": "stdout",
     "output_type": "stream",
     "text": [
      "\n",
      "\r",
      "0it [00:00, ?it/s]"
     ]
    },
    {
     "name": "stdout",
     "output_type": "stream",
     "text": [
      "\r",
      "Upgrading database; v3 -> v4: : 0it [00:00, ?it/s]"
     ]
    },
    {
     "name": "stdout",
     "output_type": "stream",
     "text": [
      "\r",
      "Upgrading database; v3 -> v4: : 0it [00:00, ?it/s]"
     ]
    },
    {
     "name": "stdout",
     "output_type": "stream",
     "text": [
      "\n",
      "\r",
      "  0%|          | 0/1 [00:00<?, ?it/s]"
     ]
    },
    {
     "name": "stdout",
     "output_type": "stream",
     "text": [
      "\r",
      "Upgrading database; v4 -> v5:   0%|          | 0/1 [00:00<?, ?it/s]"
     ]
    },
    {
     "name": "stdout",
     "output_type": "stream",
     "text": [
      "\r",
      "Upgrading database; v4 -> v5: 100%|██████████| 1/1 [00:00<00:00, 580.13it/s]"
     ]
    },
    {
     "name": "stdout",
     "output_type": "stream",
     "text": [
      "\n",
      "\r",
      "0it [00:00, ?it/s]"
     ]
    },
    {
     "name": "stdout",
     "output_type": "stream",
     "text": [
      "\r",
      "Upgrading database; v5 -> v6: : 0it [00:00, ?it/s]"
     ]
    },
    {
     "name": "stdout",
     "output_type": "stream",
     "text": [
      "\r",
      "Upgrading database; v5 -> v6: : 0it [00:00, ?it/s]"
     ]
    },
    {
     "name": "stdout",
     "output_type": "stream",
     "text": [
      "\n",
      "\r",
      "  0%|          | 0/1 [00:00<?, ?it/s]"
     ]
    },
    {
     "name": "stdout",
     "output_type": "stream",
     "text": [
      "\r",
      "Upgrading database; v6 -> v7:   0%|          | 0/1 [00:00<?, ?it/s]"
     ]
    },
    {
     "name": "stdout",
     "output_type": "stream",
     "text": [
      "\r",
      "Upgrading database; v6 -> v7: 100%|██████████| 1/1 [00:00<00:00, 143.65it/s]"
     ]
    },
    {
     "name": "stdout",
     "output_type": "stream",
     "text": [
      "\n",
      "\r",
      "  0%|          | 0/1 [00:00<?, ?it/s]"
     ]
    },
    {
     "name": "stdout",
     "output_type": "stream",
     "text": [
      "\r",
      "Upgrading database; v7 -> v8:   0%|          | 0/1 [00:00<?, ?it/s]"
     ]
    },
    {
     "name": "stdout",
     "output_type": "stream",
     "text": [
      "\r",
      "Upgrading database; v7 -> v8: 100%|██████████| 1/1 [00:00<00:00, 575.11it/s]"
     ]
    },
    {
     "name": "stdout",
     "output_type": "stream",
     "text": [
      "\n",
      "\r",
      "  0%|          | 0/1 [00:00<?, ?it/s]"
     ]
    },
    {
     "name": "stdout",
     "output_type": "stream",
     "text": [
      "\r",
      "Upgrading database; v8 -> v9:   0%|          | 0/1 [00:00<?, ?it/s]"
     ]
    },
    {
     "name": "stdout",
     "output_type": "stream",
     "text": [
      "\r",
      "Upgrading database; v8 -> v9: 100%|██████████| 1/1 [00:00<00:00, 486.24it/s]"
     ]
    },
    {
     "name": "stdout",
     "output_type": "stream",
     "text": [
      "\n"
     ]
    }
   ],
   "source": [
    "initialise_database()\n",
    "exp = load_or_create_experiment(experiment_name='tutorial_exp', sample_name=\"no sample\")"
   ]
  },
  {
   "cell_type": "markdown",
   "metadata": {},
   "source": [
    "Here, we define a simple function to benchmark the time it takes to insert n points with either numeric or array data type.\n",
    "We will compare both the time used to call ``add_result`` and the time used for the full measurement."
   ]
  },
  {
   "cell_type": "code",
   "execution_count": 4,
   "metadata": {
    "execution": {
     "iopub.execute_input": "2020-11-12T12:05:07.179723Z",
     "iopub.status.busy": "2020-11-12T12:05:07.179154Z",
     "iopub.status.idle": "2020-11-12T12:05:07.182408Z",
     "shell.execute_reply": "2020-11-12T12:05:07.181961Z"
    }
   },
   "outputs": [],
   "source": [
    "def insert_data(paramtype, npoints, nreps=1):\n",
    "\n",
    "    meas = Measurement(exp=exp)\n",
    "\n",
    "    x1 = ManualParameter('x1')\n",
    "    x2 = ManualParameter('x2')\n",
    "    x3 = ManualParameter('x3')\n",
    "    y1 = ManualParameter('y1')\n",
    "    y2 = ManualParameter('y2')\n",
    "\n",
    "    meas.register_parameter(x1, paramtype=paramtype)\n",
    "    meas.register_parameter(x2, paramtype=paramtype)\n",
    "    meas.register_parameter(x3, paramtype=paramtype)\n",
    "    meas.register_parameter(y1, setpoints=[x1, x2, x3],\n",
    "                            paramtype=paramtype)\n",
    "    meas.register_parameter(y2, setpoints=[x1, x2, x3],\n",
    "                            paramtype=paramtype)\n",
    "    start = time.perf_counter()\n",
    "    with meas.run() as datasaver:\n",
    "        start_adding = time.perf_counter()\n",
    "        for i in range(nreps):\n",
    "            datasaver.add_result((x1, np.random.rand(npoints)),\n",
    "                                 (x2, np.random.rand(npoints)),\n",
    "                                 (x3, np.random.rand(npoints)),\n",
    "                                 (y1, np.random.rand(npoints)),\n",
    "                                 (y2, np.random.rand(npoints)))\n",
    "        stop_adding = time.perf_counter()\n",
    "        run_id = datasaver.run_id\n",
    "    stop = time.perf_counter()\n",
    "    tot_time = stop - start\n",
    "    add_time = stop_adding - start_adding\n",
    "    return tot_time, add_time, run_id"
   ]
  },
  {
   "cell_type": "markdown",
   "metadata": {},
   "source": [
    "## Comparison between numeric/array data and binary blob"
   ]
  },
  {
   "cell_type": "markdown",
   "metadata": {},
   "source": [
    "### Case1: Short experiment time"
   ]
  },
  {
   "cell_type": "code",
   "execution_count": 5,
   "metadata": {
    "execution": {
     "iopub.execute_input": "2020-11-12T12:05:07.188760Z",
     "iopub.status.busy": "2020-11-12T12:05:07.188165Z",
     "iopub.status.idle": "2020-11-12T12:05:08.033141Z",
     "shell.execute_reply": "2020-11-12T12:05:08.031883Z"
    }
   },
   "outputs": [
    {
     "name": "stdout",
     "output_type": "stream",
     "text": [
      "Starting experimental run with id: 1. \n",
      "Starting experimental run with id: 2. \n",
      "Starting experimental run with id: 3. \n",
      "Starting experimental run with id: 4. \n",
      "Starting experimental run with id: 5. \n"
     ]
    },
    {
     "name": "stdout",
     "output_type": "stream",
     "text": [
      "Starting experimental run with id: 6. \n"
     ]
    },
    {
     "name": "stdout",
     "output_type": "stream",
     "text": [
      "Starting experimental run with id: 7. \n"
     ]
    },
    {
     "name": "stdout",
     "output_type": "stream",
     "text": [
      "Starting experimental run with id: 8. \n",
      "Starting experimental run with id: 9. \n"
     ]
    },
    {
     "name": "stdout",
     "output_type": "stream",
     "text": [
      "Starting experimental run with id: 10. \n",
      "Starting experimental run with id: 11. \n"
     ]
    },
    {
     "name": "stdout",
     "output_type": "stream",
     "text": [
      "Starting experimental run with id: 12. \n",
      "Starting experimental run with id: 13. \n"
     ]
    },
    {
     "name": "stdout",
     "output_type": "stream",
     "text": [
      "Starting experimental run with id: 14. \n"
     ]
    }
   ],
   "source": [
    "sizes = [1,500,1000,2000,3000,4000,5000]\n",
    "t_numeric = []\n",
    "t_numeric_add = []\n",
    "t_array = []\n",
    "t_array_add = []\n",
    "for size in sizes:\n",
    "    tn, tna, run_id_n =  insert_data('numeric', size)\n",
    "    t_numeric.append(tn)\n",
    "    t_numeric_add.append(tna)\n",
    "\n",
    "    ta, taa, run_id_a =  insert_data('array', size)\n",
    "    t_array.append(ta)\n",
    "    t_array_add.append(taa)"
   ]
  },
  {
   "cell_type": "code",
   "execution_count": 6,
   "metadata": {
    "execution": {
     "iopub.execute_input": "2020-11-12T12:05:08.050220Z",
     "iopub.status.busy": "2020-11-12T12:05:08.037729Z",
     "iopub.status.idle": "2020-11-12T12:05:08.219238Z",
     "shell.execute_reply": "2020-11-12T12:05:08.220025Z"
    }
   },
   "outputs": [
    {
     "data": {
      "image/png": "[encoded data removed]",
      "text/plain": [
       "<Figure size 432x288 with 1 Axes>"
      ]
     },
     "metadata": {
      "needs_background": "light"
     },
     "output_type": "display_data"
    }
   ],
   "source": [
    "fig, ax = plt.subplots(1,1)\n",
    "ax.plot(sizes, t_numeric, 'o-', label='Inserting row-by-row')\n",
    "ax.plot(sizes, t_numeric_add, 'o-', label='Inserting row-by-row: add_result only')\n",
    "ax.plot(sizes, t_array, 'd-', label='Inserting as binary blob')\n",
    "ax.plot(sizes, t_array_add, 'd-', label='Inserting as binary blob: add_result only')\n",
    "ax.legend()\n",
    "ax.set_xlabel('Array length')\n",
    "ax.set_ylabel('Time (s)')\n",
    "fig.tight_layout()"
   ]
  },
  {
   "cell_type": "markdown",
   "metadata": {},
   "source": [
    "As shown in the latter figure, the time to setup and and close the experiment is approximately 0.4 sec. In case of small array sizes, the difference between inserting values of data as arrays and inserting them row-by-row is relatively unimportant. At larger array sizes, i.e. above 10000 points, the cost of writing data as individual datapoints starts to become important.\n"
   ]
  },
  {
   "cell_type": "markdown",
   "metadata": {},
   "source": [
    "### Case2: Long experiment time "
   ]
  },
  {
   "cell_type": "code",
   "execution_count": 7,
   "metadata": {
    "execution": {
     "iopub.execute_input": "2020-11-12T12:05:08.223561Z",
     "iopub.status.busy": "2020-11-12T12:05:08.222466Z",
     "iopub.status.idle": "2020-11-12T12:06:05.785715Z",
     "shell.execute_reply": "2020-11-12T12:06:05.786285Z"
    }
   },
   "outputs": [
    {
     "name": "stdout",
     "output_type": "stream",
     "text": [
      "Starting experimental run with id: 15. \n",
      "Starting experimental run with id: 16. \n",
      "Starting experimental run with id: 17. \n"
     ]
    },
    {
     "name": "stdout",
     "output_type": "stream",
     "text": [
      "Starting experimental run with id: 18. \n",
      "Starting experimental run with id: 19. \n"
     ]
    },
    {
     "name": "stdout",
     "output_type": "stream",
     "text": [
      "Starting experimental run with id: 20. \n"
     ]
    },
    {
     "name": "stdout",
     "output_type": "stream",
     "text": [
      "Starting experimental run with id: 21. \n"
     ]
    },
    {
     "name": "stdout",
     "output_type": "stream",
     "text": [
      "Starting experimental run with id: 22. \n"
     ]
    },
    {
     "name": "stdout",
     "output_type": "stream",
     "text": [
      "Starting experimental run with id: 23. \n"
     ]
    },
    {
     "name": "stdout",
     "output_type": "stream",
     "text": [
      "Starting experimental run with id: 24. \n"
     ]
    },
    {
     "name": "stdout",
     "output_type": "stream",
     "text": [
      "Starting experimental run with id: 25. \n"
     ]
    },
    {
     "name": "stdout",
     "output_type": "stream",
     "text": [
      "Starting experimental run with id: 26. \n"
     ]
    },
    {
     "name": "stdout",
     "output_type": "stream",
     "text": [
      "Starting experimental run with id: 27. \n"
     ]
    },
    {
     "name": "stdout",
     "output_type": "stream",
     "text": [
      "Starting experimental run with id: 28. \n"
     ]
    }
   ],
   "source": [
    "sizes = [1,500,1000,2000,3000,4000,5000]\n",
    "nreps = 100\n",
    "t_numeric = []\n",
    "t_numeric_add = []\n",
    "t_numeric_run_ids = []\n",
    "t_array = []\n",
    "t_array_add = []\n",
    "t_array_run_ids = []\n",
    "for size in sizes:\n",
    "    tn, tna, run_id_n =  insert_data('numeric', size, nreps=nreps)\n",
    "    t_numeric.append(tn)\n",
    "    t_numeric_add.append(tna)\n",
    "    t_numeric_run_ids.append(run_id_n)\n",
    "\n",
    "    ta, taa, run_id_a =  insert_data('array', size, nreps=nreps)\n",
    "    t_array.append(ta)\n",
    "    t_array_add.append(taa)\n",
    "    t_array_run_ids.append(run_id_a)"
   ]
  },
  {
   "cell_type": "code",
   "execution_count": 8,
   "metadata": {
    "execution": {
     "iopub.execute_input": "2020-11-12T12:06:05.814179Z",
     "iopub.status.busy": "2020-11-12T12:06:05.810824Z",
     "iopub.status.idle": "2020-11-12T12:06:05.977315Z",
     "shell.execute_reply": "2020-11-12T12:06:05.977847Z"
    },
    "scrolled": true
   },
   "outputs": [
    {
     "data": {
      "image/png": "[encoded data removed]",
      "text/plain": [
       "<Figure size 432x288 with 1 Axes>"
      ]
     },
     "metadata": {
      "needs_background": "light"
     },
     "output_type": "display_data"
    }
   ],
   "source": [
    "fig, ax = plt.subplots(1,1)\n",
    "ax.plot(sizes, t_numeric, 'o-', label='Inserting row-by-row')\n",
    "ax.plot(sizes, t_numeric_add, 'o-', label='Inserting row-by-row: add_result only')\n",
    "ax.plot(sizes, t_array, 'd-', label='Inserting as binary blob')\n",
    "ax.plot(sizes, t_array_add, 'd-', label='Inserting as binary blob: add_result only')\n",
    "ax.legend()\n",
    "ax.set_xlabel('Array length')\n",
    "ax.set_ylabel('Time (s)')\n",
    "fig.tight_layout()"
   ]
  },
  {
   "cell_type": "markdown",
   "metadata": {},
   "source": [
    "However, as we increase the length of the experiment, as seen here by repeating the insertion 100 times, we see a big difference between inserting values of the data row-by-row and inserting it as a binary blob."
   ]
  },
  {
   "cell_type": "markdown",
   "metadata": {},
   "source": [
    "## Loading the data "
   ]
  },
  {
   "cell_type": "code",
   "execution_count": 9,
   "metadata": {
    "execution": {
     "iopub.execute_input": "2020-11-12T12:06:05.981261Z",
     "iopub.status.busy": "2020-11-12T12:06:05.980219Z",
     "iopub.status.idle": "2020-11-12T12:06:05.983218Z",
     "shell.execute_reply": "2020-11-12T12:06:05.983744Z"
    }
   },
   "outputs": [],
   "source": [
    "from qcodes.dataset.data_set import load_by_id\n",
    "from qcodes.dataset.data_export import get_data_by_id"
   ]
  },
  {
   "cell_type": "markdown",
   "metadata": {},
   "source": [
    "As usual you can load the data by using the ``load_by_id`` function but you will notice that the different storage methods\n",
    "are reflected in shape of the data as it is retrieved. "
   ]
  },
  {
   "cell_type": "code",
   "execution_count": 10,
   "metadata": {
    "execution": {
     "iopub.execute_input": "2020-11-12T12:06:05.986242Z",
     "iopub.status.busy": "2020-11-12T12:06:05.985633Z",
     "iopub.status.idle": "2020-11-12T12:06:05.989195Z",
     "shell.execute_reply": "2020-11-12T12:06:05.988683Z"
    }
   },
   "outputs": [],
   "source": [
    "run_id_n = t_numeric_run_ids[0]\n",
    "run_id_a = t_array_run_ids[0]"
   ]
  },
  {
   "cell_type": "code",
   "execution_count": 11,
   "metadata": {
    "execution": {
     "iopub.execute_input": "2020-11-12T12:06:05.992161Z",
     "iopub.status.busy": "2020-11-12T12:06:05.991602Z",
     "iopub.status.idle": "2020-11-12T12:06:06.001135Z",
     "shell.execute_reply": "2020-11-12T12:06:06.000596Z"
    },
    "scrolled": true
   },
   "outputs": [
    {
     "data": {
      "text/plain": [
       "{'x1': {'x1': array([0.75666058, 0.75666058, 0.58306133, 0.58306133, 0.5559743 ,\n",
       "         0.5559743 , 0.36674881, 0.36674881, 0.3215714 , 0.3215714 ,\n",
       "         0.44135443, 0.44135443, 0.63842523, 0.63842523, 0.74579486,\n",
       "         0.74579486, 0.14378552, 0.14378552, 0.4208238 , 0.4208238 ,\n",
       "         0.74043533, 0.74043533, 0.01991107, 0.01991107, 0.64544532,\n",
       "         0.64544532, 0.35336691, 0.35336691, 0.37813056, 0.37813056,\n",
       "         0.87153983, 0.87153983, 0.33065884, 0.33065884, 0.81439923,\n",
       "         0.81439923, 0.27509726, 0.27509726, 0.37704406, 0.37704406,\n",
       "         0.71339772, 0.71339772, 0.54865335, 0.54865335, 0.48202601,\n",
       "         0.48202601, 0.04049616, 0.04049616, 0.51018951, 0.51018951,\n",
       "         0.37816902, 0.37816902, 0.09483242, 0.09483242, 0.04696916,\n",
       "         0.04696916, 0.33704688, 0.33704688, 0.0496099 , 0.0496099 ,\n",
       "         0.02775501, 0.02775501, 0.65743815, 0.65743815, 0.6991873 ,\n",
       "         0.6991873 , 0.51235717, 0.51235717, 0.99686682, 0.99686682,\n",
       "         0.76487429, 0.76487429, 0.23737341, 0.23737341, 0.23329374,\n",
       "         0.23329374, 0.84918221, 0.84918221, 0.38252073, 0.38252073,\n",
       "         0.12914772, 0.12914772, 0.07774842, 0.07774842, 0.80382951,\n",
       "         0.80382951, 0.0775251 , 0.0775251 , 0.77234921, 0.77234921,\n",
       "         0.723586  , 0.723586  , 0.41976341, 0.41976341, 0.24391309,\n",
       "         0.24391309, 0.8565577 , 0.8565577 , 0.77797755, 0.77797755,\n",
       "         0.78980113, 0.78980113, 0.13992669, 0.13992669, 0.15764994,\n",
       "         0.15764994, 0.15269755, 0.15269755, 0.66968347, 0.66968347,\n",
       "         0.76504504, 0.76504504, 0.14136223, 0.14136223, 0.64248019,\n",
       "         0.64248019, 0.96550631, 0.96550631, 0.00199072, 0.00199072,\n",
       "         0.06487153, 0.06487153, 0.21873645, 0.21873645, 0.6811775 ,\n",
       "         0.6811775 , 0.04062715, 0.04062715, 0.69513653, 0.69513653,\n",
       "         0.6226826 , 0.6226826 , 0.29449336, 0.29449336, 0.64893966,\n",
       "         0.64893966, 0.47454842, 0.47454842, 0.73967957, 0.73967957,\n",
       "         0.68255486, 0.68255486, 0.86137705, 0.86137705, 0.08590692,\n",
       "         0.08590692, 0.69625769, 0.69625769, 0.11563299, 0.11563299,\n",
       "         0.80532431, 0.80532431, 0.08489571, 0.08489571, 0.19806302,\n",
       "         0.19806302, 0.12121321, 0.12121321, 0.86909841, 0.86909841,\n",
       "         0.56781553, 0.56781553, 0.04955075, 0.04955075, 0.7168532 ,\n",
       "         0.7168532 , 0.91243525, 0.91243525, 0.03916364, 0.03916364,\n",
       "         0.49327042, 0.49327042, 0.97410682, 0.97410682, 0.11529861,\n",
       "         0.11529861, 0.19789964, 0.19789964, 0.97383736, 0.97383736,\n",
       "         0.28474894, 0.28474894, 0.56126637, 0.56126637, 0.53163131,\n",
       "         0.53163131, 0.81454943, 0.81454943, 0.48613512, 0.48613512,\n",
       "         0.31914309, 0.31914309, 0.45341873, 0.45341873, 0.48407092,\n",
       "         0.48407092, 0.94530088, 0.94530088, 0.90744022, 0.90744022])}}"
      ]
     },
     "execution_count": 1,
     "metadata": {},
     "output_type": "execute_result"
    }
   ],
   "source": [
    "ds = load_by_id(run_id_n)\n",
    "ds.get_parameter_data('x1')"
   ]
  },
  {
   "cell_type": "markdown",
   "metadata": {},
   "source": [
    "And a dataset stored as binary arrays"
   ]
  },
  {
   "cell_type": "code",
   "execution_count": 12,
   "metadata": {
    "execution": {
     "iopub.execute_input": "2020-11-12T12:06:06.004185Z",
     "iopub.status.busy": "2020-11-12T12:06:06.003684Z",
     "iopub.status.idle": "2020-11-12T12:06:06.056188Z",
     "shell.execute_reply": "2020-11-12T12:06:06.057044Z"
    },
    "scrolled": true
   },
   "outputs": [
    {
     "data": {
      "text/plain": [
       "{'x1': {'x1': array([[0.32151308],\n",
       "         [0.32151308],\n",
       "         [0.01430147],\n",
       "         [0.01430147],\n",
       "         [0.08942535],\n",
       "         [0.08942535],\n",
       "         [0.05122936],\n",
       "         [0.05122936],\n",
       "         [0.26473624],\n",
       "         [0.26473624],\n",
       "         [0.37777143],\n",
       "         [0.37777143],\n",
       "         [0.45599563],\n",
       "         [0.45599563],\n",
       "         [0.67981704],\n",
       "         [0.67981704],\n",
       "         [0.74960833],\n",
       "         [0.74960833],\n",
       "         [0.07892878],\n",
       "         [0.07892878],\n",
       "         [0.95527996],\n",
       "         [0.95527996],\n",
       "         [0.90785806],\n",
       "         [0.90785806],\n",
       "         [0.89952911],\n",
       "         [0.89952911],\n",
       "         [0.94086622],\n",
       "         [0.94086622],\n",
       "         [0.98660123],\n",
       "         [0.98660123],\n",
       "         [0.22685895],\n",
       "         [0.22685895],\n",
       "         [0.79490831],\n",
       "         [0.79490831],\n",
       "         [0.64317914],\n",
       "         [0.64317914],\n",
       "         [0.79191495],\n",
       "         [0.79191495],\n",
       "         [0.33060063],\n",
       "         [0.33060063],\n",
       "         [0.5296031 ],\n",
       "         [0.5296031 ],\n",
       "         [0.4816387 ],\n",
       "         [0.4816387 ],\n",
       "         [0.81519096],\n",
       "         [0.81519096],\n",
       "         [0.73377187],\n",
       "         [0.73377187],\n",
       "         [0.71498338],\n",
       "         [0.71498338],\n",
       "         [0.81887572],\n",
       "         [0.81887572],\n",
       "         [0.77557656],\n",
       "         [0.77557656],\n",
       "         [0.77090559],\n",
       "         [0.77090559],\n",
       "         [0.4752034 ],\n",
       "         [0.4752034 ],\n",
       "         [0.35293461],\n",
       "         [0.35293461],\n",
       "         [0.43690928],\n",
       "         [0.43690928],\n",
       "         [0.83418534],\n",
       "         [0.83418534],\n",
       "         [0.45792831],\n",
       "         [0.45792831],\n",
       "         [0.22409364],\n",
       "         [0.22409364],\n",
       "         [0.35757234],\n",
       "         [0.35757234],\n",
       "         [0.60955457],\n",
       "         [0.60955457],\n",
       "         [0.87042706],\n",
       "         [0.87042706],\n",
       "         [0.73624953],\n",
       "         [0.73624953],\n",
       "         [0.71690669],\n",
       "         [0.71690669],\n",
       "         [0.9396533 ],\n",
       "         [0.9396533 ],\n",
       "         [0.01389312],\n",
       "         [0.01389312],\n",
       "         [0.82188548],\n",
       "         [0.82188548],\n",
       "         [0.23383067],\n",
       "         [0.23383067],\n",
       "         [0.06064037],\n",
       "         [0.06064037],\n",
       "         [0.85394887],\n",
       "         [0.85394887],\n",
       "         [0.1983405 ],\n",
       "         [0.1983405 ],\n",
       "         [0.89542392],\n",
       "         [0.89542392],\n",
       "         [0.05152326],\n",
       "         [0.05152326],\n",
       "         [0.61473854],\n",
       "         [0.61473854],\n",
       "         [0.52852671],\n",
       "         [0.52852671],\n",
       "         [0.15977177],\n",
       "         [0.15977177],\n",
       "         [0.47909134],\n",
       "         [0.47909134],\n",
       "         [0.86653025],\n",
       "         [0.86653025],\n",
       "         [0.13251921],\n",
       "         [0.13251921],\n",
       "         [0.6700479 ],\n",
       "         [0.6700479 ],\n",
       "         [0.75793312],\n",
       "         [0.75793312],\n",
       "         [0.8544769 ],\n",
       "         [0.8544769 ],\n",
       "         [0.91049205],\n",
       "         [0.91049205],\n",
       "         [0.96904579],\n",
       "         [0.96904579],\n",
       "         [0.38387096],\n",
       "         [0.38387096],\n",
       "         [0.68982827],\n",
       "         [0.68982827],\n",
       "         [0.45298776],\n",
       "         [0.45298776],\n",
       "         [0.90802422],\n",
       "         [0.90802422],\n",
       "         [0.33387678],\n",
       "         [0.33387678],\n",
       "         [0.1312072 ],\n",
       "         [0.1312072 ],\n",
       "         [0.41786973],\n",
       "         [0.41786973],\n",
       "         [0.77570686],\n",
       "         [0.77570686],\n",
       "         [0.13968789],\n",
       "         [0.13968789],\n",
       "         [0.54518307],\n",
       "         [0.54518307],\n",
       "         [0.48491931],\n",
       "         [0.48491931],\n",
       "         [0.73259666],\n",
       "         [0.73259666],\n",
       "         [0.26098128],\n",
       "         [0.26098128],\n",
       "         [0.83268355],\n",
       "         [0.83268355],\n",
       "         [0.1926867 ],\n",
       "         [0.1926867 ],\n",
       "         [0.90398171],\n",
       "         [0.90398171],\n",
       "         [0.73743789],\n",
       "         [0.73743789],\n",
       "         [0.69923687],\n",
       "         [0.69923687],\n",
       "         [0.62774797],\n",
       "         [0.62774797],\n",
       "         [0.15816687],\n",
       "         [0.15816687],\n",
       "         [0.19234941],\n",
       "         [0.19234941],\n",
       "         [0.79122604],\n",
       "         [0.79122604],\n",
       "         [0.112774  ],\n",
       "         [0.112774  ],\n",
       "         [0.31512017],\n",
       "         [0.31512017],\n",
       "         [0.30075284],\n",
       "         [0.30075284],\n",
       "         [0.98079003],\n",
       "         [0.98079003],\n",
       "         [0.0357271 ],\n",
       "         [0.0357271 ],\n",
       "         [0.96828287],\n",
       "         [0.96828287],\n",
       "         [0.32254967],\n",
       "         [0.32254967],\n",
       "         [0.70458638],\n",
       "         [0.70458638],\n",
       "         [0.20145369],\n",
       "         [0.20145369],\n",
       "         [0.13594039],\n",
       "         [0.13594039],\n",
       "         [0.63996711],\n",
       "         [0.63996711],\n",
       "         [0.93382213],\n",
       "         [0.93382213],\n",
       "         [0.65043725],\n",
       "         [0.65043725],\n",
       "         [0.88103538],\n",
       "         [0.88103538],\n",
       "         [0.74347238],\n",
       "         [0.74347238],\n",
       "         [0.74567105],\n",
       "         [0.74567105],\n",
       "         [0.8899323 ],\n",
       "         [0.8899323 ],\n",
       "         [0.58663644],\n",
       "         [0.58663644],\n",
       "         [0.49348223],\n",
       "         [0.49348223]])}}"
      ]
     },
     "execution_count": 1,
     "metadata": {},
     "output_type": "execute_result"
    }
   ],
   "source": [
    "ds = load_by_id(run_id_a)\n",
    "ds.get_parameter_data('x1')"
   ]
  },
  {
   "cell_type": "code",
   "execution_count": null,
   "metadata": {},
   "outputs": [],
   "source": []
  }
 ],
 "metadata": {
  "kernelspec": {
   "display_name": "Python 3",
   "language": "python",
   "name": "python3"
  },
  "language_info": {
   "codemirror_mode": {
    "name": "ipython",
    "version": 3
   },
   "file_extension": ".py",
   "mimetype": "text/x-python",
   "name": "python",
   "nbconvert_exporter": "python",
   "pygments_lexer": "ipython3",
   "version": "3.7.9"
  },
  "nbsphinx": {
   "timeout": 600
  },
  "toc": {
   "base_numbering": 1,
   "nav_menu": {},
   "number_sections": true,
   "sideBar": true,
   "skip_h1_title": false,
   "title_cell": "Table of Contents",
   "title_sidebar": "Contents",
   "toc_cell": false,
   "toc_position": {},
   "toc_section_display": true,
   "toc_window_display": false
  },
  "varInspector": {
   "cols": {
    "lenName": 16,
    "lenType": 16,
    "lenVar": 40
   },
   "kernels_config": {
    "python": {
     "delete_cmd_postfix": "",
     "delete_cmd_prefix": "del ",
     "library": "var_list.py",
     "varRefreshCmd": "print(var_dic_list())"
    },
    "r": {
     "delete_cmd_postfix": ") ",
     "delete_cmd_prefix": "rm(",
     "library": "var_list.r",
     "varRefreshCmd": "cat(var_dic_list()) "
    }
   },
   "types_to_exclude": [
    "module",
    "function",
    "builtin_function_or_method",
    "instance",
    "_Feature"
   ],
   "window_display": false
  }
 },
 "nbformat": 4,
 "nbformat_minor": 2
}
