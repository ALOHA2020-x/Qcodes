{
 "cells": [
  {
   "cell_type": "markdown",
   "metadata": {},
   "source": [
    "# DataSet Performance\n",
    "\n",
    "This notebook shows the trade-off between inserting data into a database row-by-row and as binary blobs. Inserting the data row-by-row means that we have direct access to all the data and may perform queries directly on the values of the data. On the other hand, as we shall see, this is much slower than inserting the data directly as binary blobs."
   ]
  },
  {
   "cell_type": "markdown",
   "metadata": {},
   "source": [
    "First, we choose a new location for the database to ensure that we don't add a bunch of benchmarking data to the default one."
   ]
  },
  {
   "cell_type": "code",
   "execution_count": 1,
   "metadata": {
    "execution": {
     "iopub.execute_input": "2020-11-19T15:31:06.485617Z",
     "iopub.status.busy": "2020-11-19T15:31:06.484417Z",
     "iopub.status.idle": "2020-11-19T15:31:07.374271Z",
     "shell.execute_reply": "2020-11-19T15:31:07.373543Z"
    }
   },
   "outputs": [
    {
     "name": "stdout",
     "output_type": "stream",
     "text": [
      "Logging hadn't been started.\n",
      "Activating auto-logging. Current session state plus future input saved.\n",
      "Filename       : /home/vsts/.qcodes/logs/command_history.log\n",
      "Mode           : append\n",
      "Output logging : True\n",
      "Raw input log  : False\n",
      "Timestamping   : True\n",
      "State          : active\n"
     ]
    },
    {
     "name": "stdout",
     "output_type": "stream",
     "text": [
      "Qcodes Logfile : /home/vsts/.qcodes/logs/201119-14207-qcodes.log\n"
     ]
    }
   ],
   "source": [
    "import os\n",
    "cwd = os.getcwd()\n",
    "import qcodes as qc\n",
    "qc.config[\"core\"][\"db_location\"] = os.path.join(cwd, 'testing.db')\n"
   ]
  },
  {
   "cell_type": "code",
   "execution_count": 2,
   "metadata": {
    "execution": {
     "iopub.execute_input": "2020-11-19T15:31:07.383399Z",
     "iopub.status.busy": "2020-11-19T15:31:07.382251Z",
     "iopub.status.idle": "2020-11-19T15:31:07.532486Z",
     "shell.execute_reply": "2020-11-19T15:31:07.532839Z"
    }
   },
   "outputs": [],
   "source": [
    "%matplotlib inline\n",
    "import time\n",
    "import matplotlib.pyplot as plt\n",
    "import numpy as np\n",
    "\n",
    "import qcodes as qc\n",
    "from qcodes.instrument.parameter import ManualParameter\n",
    "from qcodes.dataset.experiment_container import (Experiment,\n",
    "                                                 load_last_experiment,\n",
    "                                                 new_experiment)\n",
    "from qcodes.dataset.sqlite.database import initialise_database\n",
    "from qcodes import load_or_create_experiment\n",
    "from qcodes.dataset.measurements import Measurement"
   ]
  },
  {
   "cell_type": "code",
   "execution_count": 3,
   "metadata": {
    "execution": {
     "iopub.execute_input": "2020-11-19T15:31:07.536265Z",
     "iopub.status.busy": "2020-11-19T15:31:07.535677Z",
     "iopub.status.idle": "2020-11-19T15:31:07.641288Z",
     "shell.execute_reply": "2020-11-19T15:31:07.640656Z"
    }
   },
   "outputs": [
    {
     "name": "stdout",
     "output_type": "stream",
     "text": [
      "\r",
      "0it [00:00, ?it/s]"
     ]
    },
    {
     "name": "stdout",
     "output_type": "stream",
     "text": [
      "\r",
      "Upgrading database; v0 -> v1: : 0it [00:00, ?it/s]"
     ]
    },
    {
     "name": "stdout",
     "output_type": "stream",
     "text": [
      "\r",
      "Upgrading database; v0 -> v1: : 0it [00:00, ?it/s]"
     ]
    },
    {
     "name": "stdout",
     "output_type": "stream",
     "text": [
      "\n",
      "\r",
      "  0%|          | 0/1 [00:00<?, ?it/s]"
     ]
    },
    {
     "name": "stdout",
     "output_type": "stream",
     "text": [
      "\r",
      "Upgrading database; v1 -> v2:   0%|          | 0/1 [00:00<?, ?it/s]"
     ]
    },
    {
     "name": "stdout",
     "output_type": "stream",
     "text": [
      "\r",
      "Upgrading database; v1 -> v2: 100%|██████████| 1/1 [00:00<00:00, 639.57it/s]"
     ]
    },
    {
     "name": "stdout",
     "output_type": "stream",
     "text": [
      "\n",
      "\r",
      "0it [00:00, ?it/s]"
     ]
    },
    {
     "name": "stdout",
     "output_type": "stream",
     "text": [
      "\r",
      "Upgrading database; v2 -> v3: : 0it [00:00, ?it/s]"
     ]
    },
    {
     "name": "stdout",
     "output_type": "stream",
     "text": [
      "\r",
      "Upgrading database; v2 -> v3: : 0it [00:00, ?it/s]"
     ]
    },
    {
     "name": "stdout",
     "output_type": "stream",
     "text": [
      "\n",
      "\r",
      "0it [00:00, ?it/s]"
     ]
    },
    {
     "name": "stdout",
     "output_type": "stream",
     "text": [
      "\r",
      "Upgrading database; v3 -> v4: : 0it [00:00, ?it/s]"
     ]
    },
    {
     "name": "stdout",
     "output_type": "stream",
     "text": [
      "\r",
      "Upgrading database; v3 -> v4: : 0it [00:00, ?it/s]"
     ]
    },
    {
     "name": "stdout",
     "output_type": "stream",
     "text": [
      "\n",
      "\r",
      "  0%|          | 0/1 [00:00<?, ?it/s]"
     ]
    },
    {
     "name": "stdout",
     "output_type": "stream",
     "text": [
      "\r",
      "Upgrading database; v4 -> v5:   0%|          | 0/1 [00:00<?, ?it/s]"
     ]
    },
    {
     "name": "stdout",
     "output_type": "stream",
     "text": [
      "\r",
      "Upgrading database; v4 -> v5: 100%|██████████| 1/1 [00:00<00:00, 511.38it/s]"
     ]
    },
    {
     "name": "stdout",
     "output_type": "stream",
     "text": [
      "\n",
      "\r",
      "0it [00:00, ?it/s]"
     ]
    },
    {
     "name": "stdout",
     "output_type": "stream",
     "text": [
      "\r",
      "Upgrading database; v5 -> v6: : 0it [00:00, ?it/s]"
     ]
    },
    {
     "name": "stdout",
     "output_type": "stream",
     "text": [
      "\r",
      "Upgrading database; v5 -> v6: : 0it [00:00, ?it/s]"
     ]
    },
    {
     "name": "stdout",
     "output_type": "stream",
     "text": [
      "\n",
      "\r",
      "  0%|          | 0/1 [00:00<?, ?it/s]"
     ]
    },
    {
     "name": "stdout",
     "output_type": "stream",
     "text": [
      "\r",
      "Upgrading database; v6 -> v7:   0%|          | 0/1 [00:00<?, ?it/s]"
     ]
    },
    {
     "name": "stdout",
     "output_type": "stream",
     "text": [
      "\r",
      "Upgrading database; v6 -> v7: 100%|██████████| 1/1 [00:00<00:00, 297.91it/s]"
     ]
    },
    {
     "name": "stdout",
     "output_type": "stream",
     "text": [
      "\n",
      "\r",
      "  0%|          | 0/1 [00:00<?, ?it/s]"
     ]
    },
    {
     "name": "stdout",
     "output_type": "stream",
     "text": [
      "\r",
      "Upgrading database; v7 -> v8:   0%|          | 0/1 [00:00<?, ?it/s]"
     ]
    },
    {
     "name": "stdout",
     "output_type": "stream",
     "text": [
      "\r",
      "Upgrading database; v7 -> v8: 100%|██████████| 1/1 [00:00<00:00, 545.57it/s]"
     ]
    },
    {
     "name": "stdout",
     "output_type": "stream",
     "text": [
      "\n",
      "\r",
      "  0%|          | 0/1 [00:00<?, ?it/s]"
     ]
    },
    {
     "name": "stdout",
     "output_type": "stream",
     "text": [
      "\r",
      "Upgrading database; v8 -> v9:   0%|          | 0/1 [00:00<?, ?it/s]"
     ]
    },
    {
     "name": "stdout",
     "output_type": "stream",
     "text": [
      "\r",
      "Upgrading database; v8 -> v9: 100%|██████████| 1/1 [00:00<00:00, 562.24it/s]"
     ]
    },
    {
     "name": "stdout",
     "output_type": "stream",
     "text": [
      "\n"
     ]
    }
   ],
   "source": [
    "initialise_database()\n",
    "exp = load_or_create_experiment(experiment_name='tutorial_exp', sample_name=\"no sample\")"
   ]
  },
  {
   "cell_type": "markdown",
   "metadata": {},
   "source": [
    "Here, we define a simple function to benchmark the time it takes to insert n points with either numeric or array data type.\n",
    "We will compare both the time used to call ``add_result`` and the time used for the full measurement."
   ]
  },
  {
   "cell_type": "code",
   "execution_count": 4,
   "metadata": {
    "execution": {
     "iopub.execute_input": "2020-11-19T15:31:07.647745Z",
     "iopub.status.busy": "2020-11-19T15:31:07.647313Z",
     "iopub.status.idle": "2020-11-19T15:31:07.651025Z",
     "shell.execute_reply": "2020-11-19T15:31:07.650583Z"
    }
   },
   "outputs": [],
   "source": [
    "def insert_data(paramtype, npoints, nreps=1):\n",
    "\n",
    "    meas = Measurement(exp=exp)\n",
    "\n",
    "    x1 = ManualParameter('x1')\n",
    "    x2 = ManualParameter('x2')\n",
    "    x3 = ManualParameter('x3')\n",
    "    y1 = ManualParameter('y1')\n",
    "    y2 = ManualParameter('y2')\n",
    "\n",
    "    meas.register_parameter(x1, paramtype=paramtype)\n",
    "    meas.register_parameter(x2, paramtype=paramtype)\n",
    "    meas.register_parameter(x3, paramtype=paramtype)\n",
    "    meas.register_parameter(y1, setpoints=[x1, x2, x3],\n",
    "                            paramtype=paramtype)\n",
    "    meas.register_parameter(y2, setpoints=[x1, x2, x3],\n",
    "                            paramtype=paramtype)\n",
    "    start = time.perf_counter()\n",
    "    with meas.run() as datasaver:\n",
    "        start_adding = time.perf_counter()\n",
    "        for i in range(nreps):\n",
    "            datasaver.add_result((x1, np.random.rand(npoints)),\n",
    "                                 (x2, np.random.rand(npoints)),\n",
    "                                 (x3, np.random.rand(npoints)),\n",
    "                                 (y1, np.random.rand(npoints)),\n",
    "                                 (y2, np.random.rand(npoints)))\n",
    "        stop_adding = time.perf_counter()\n",
    "        run_id = datasaver.run_id\n",
    "    stop = time.perf_counter()\n",
    "    tot_time = stop - start\n",
    "    add_time = stop_adding - start_adding\n",
    "    return tot_time, add_time, run_id"
   ]
  },
  {
   "cell_type": "markdown",
   "metadata": {},
   "source": [
    "## Comparison between numeric/array data and binary blob"
   ]
  },
  {
   "cell_type": "markdown",
   "metadata": {},
   "source": [
    "### Case1: Short experiment time"
   ]
  },
  {
   "cell_type": "code",
   "execution_count": 5,
   "metadata": {
    "execution": {
     "iopub.execute_input": "2020-11-19T15:31:07.656469Z",
     "iopub.status.busy": "2020-11-19T15:31:07.655868Z",
     "iopub.status.idle": "2020-11-19T15:31:08.372840Z",
     "shell.execute_reply": "2020-11-19T15:31:08.372437Z"
    }
   },
   "outputs": [
    {
     "name": "stdout",
     "output_type": "stream",
     "text": [
      "Starting experimental run with id: 1. \n",
      "Starting experimental run with id: 2. \n",
      "Starting experimental run with id: 3. \n",
      "Starting experimental run with id: 4. \n",
      "Starting experimental run with id: 5. \n"
     ]
    },
    {
     "name": "stdout",
     "output_type": "stream",
     "text": [
      "Starting experimental run with id: 6. \n"
     ]
    },
    {
     "name": "stdout",
     "output_type": "stream",
     "text": [
      "Starting experimental run with id: 7. \n"
     ]
    },
    {
     "name": "stdout",
     "output_type": "stream",
     "text": [
      "Starting experimental run with id: 8. \n",
      "Starting experimental run with id: 9. \n"
     ]
    },
    {
     "name": "stdout",
     "output_type": "stream",
     "text": [
      "Starting experimental run with id: 10. \n"
     ]
    },
    {
     "name": "stdout",
     "output_type": "stream",
     "text": [
      "Starting experimental run with id: 11. \n"
     ]
    },
    {
     "name": "stdout",
     "output_type": "stream",
     "text": [
      "Starting experimental run with id: 12. \n",
      "Starting experimental run with id: 13. \n"
     ]
    },
    {
     "name": "stdout",
     "output_type": "stream",
     "text": [
      "Starting experimental run with id: 14. \n"
     ]
    }
   ],
   "source": [
    "sizes = [1,500,1000,2000,3000,4000,5000]\n",
    "t_numeric = []\n",
    "t_numeric_add = []\n",
    "t_array = []\n",
    "t_array_add = []\n",
    "for size in sizes:\n",
    "    tn, tna, run_id_n =  insert_data('numeric', size)\n",
    "    t_numeric.append(tn)\n",
    "    t_numeric_add.append(tna)\n",
    "\n",
    "    ta, taa, run_id_a =  insert_data('array', size)\n",
    "    t_array.append(ta)\n",
    "    t_array_add.append(taa)"
   ]
  },
  {
   "cell_type": "code",
   "execution_count": 6,
   "metadata": {
    "execution": {
     "iopub.execute_input": "2020-11-19T15:31:08.397242Z",
     "iopub.status.busy": "2020-11-19T15:31:08.386415Z",
     "iopub.status.idle": "2020-11-19T15:31:08.543964Z",
     "shell.execute_reply": "2020-11-19T15:31:08.544290Z"
    }
   },
   "outputs": [
    {
     "data": {
      "image/png": "[encoded data removed]",
      "text/plain": [
       "<Figure size 432x288 with 1 Axes>"
      ]
     },
     "metadata": {
      "needs_background": "light"
     },
     "output_type": "display_data"
    }
   ],
   "source": [
    "fig, ax = plt.subplots(1,1)\n",
    "ax.plot(sizes, t_numeric, 'o-', label='Inserting row-by-row')\n",
    "ax.plot(sizes, t_numeric_add, 'o-', label='Inserting row-by-row: add_result only')\n",
    "ax.plot(sizes, t_array, 'd-', label='Inserting as binary blob')\n",
    "ax.plot(sizes, t_array_add, 'd-', label='Inserting as binary blob: add_result only')\n",
    "ax.legend()\n",
    "ax.set_xlabel('Array length')\n",
    "ax.set_ylabel('Time (s)')\n",
    "fig.tight_layout()"
   ]
  },
  {
   "cell_type": "markdown",
   "metadata": {},
   "source": [
    "As shown in the latter figure, the time to setup and and close the experiment is approximately 0.4 sec. In case of small array sizes, the difference between inserting values of data as arrays and inserting them row-by-row is relatively unimportant. At larger array sizes, i.e. above 10000 points, the cost of writing data as individual datapoints starts to become important.\n"
   ]
  },
  {
   "cell_type": "markdown",
   "metadata": {},
   "source": [
    "### Case2: Long experiment time "
   ]
  },
  {
   "cell_type": "code",
   "execution_count": 7,
   "metadata": {
    "execution": {
     "iopub.execute_input": "2020-11-19T15:31:08.546674Z",
     "iopub.status.busy": "2020-11-19T15:31:08.546113Z",
     "iopub.status.idle": "2020-11-19T15:31:58.852949Z",
     "shell.execute_reply": "2020-11-19T15:31:58.852486Z"
    }
   },
   "outputs": [
    {
     "name": "stdout",
     "output_type": "stream",
     "text": [
      "Starting experimental run with id: 15. \n",
      "Starting experimental run with id: 16. \n",
      "Starting experimental run with id: 17. \n"
     ]
    },
    {
     "name": "stdout",
     "output_type": "stream",
     "text": [
      "Starting experimental run with id: 18. \n",
      "Starting experimental run with id: 19. \n"
     ]
    },
    {
     "name": "stdout",
     "output_type": "stream",
     "text": [
      "Starting experimental run with id: 20. \n"
     ]
    },
    {
     "name": "stdout",
     "output_type": "stream",
     "text": [
      "Starting experimental run with id: 21. \n"
     ]
    },
    {
     "name": "stdout",
     "output_type": "stream",
     "text": [
      "Starting experimental run with id: 22. \n"
     ]
    },
    {
     "name": "stdout",
     "output_type": "stream",
     "text": [
      "Starting experimental run with id: 23. \n"
     ]
    },
    {
     "name": "stdout",
     "output_type": "stream",
     "text": [
      "Starting experimental run with id: 24. \n"
     ]
    },
    {
     "name": "stdout",
     "output_type": "stream",
     "text": [
      "Starting experimental run with id: 25. \n"
     ]
    },
    {
     "name": "stdout",
     "output_type": "stream",
     "text": [
      "Starting experimental run with id: 26. \n"
     ]
    },
    {
     "name": "stdout",
     "output_type": "stream",
     "text": [
      "Starting experimental run with id: 27. \n"
     ]
    },
    {
     "name": "stdout",
     "output_type": "stream",
     "text": [
      "Starting experimental run with id: 28. \n"
     ]
    }
   ],
   "source": [
    "sizes = [1,500,1000,2000,3000,4000,5000]\n",
    "nreps = 100\n",
    "t_numeric = []\n",
    "t_numeric_add = []\n",
    "t_numeric_run_ids = []\n",
    "t_array = []\n",
    "t_array_add = []\n",
    "t_array_run_ids = []\n",
    "for size in sizes:\n",
    "    tn, tna, run_id_n =  insert_data('numeric', size, nreps=nreps)\n",
    "    t_numeric.append(tn)\n",
    "    t_numeric_add.append(tna)\n",
    "    t_numeric_run_ids.append(run_id_n)\n",
    "\n",
    "    ta, taa, run_id_a =  insert_data('array', size, nreps=nreps)\n",
    "    t_array.append(ta)\n",
    "    t_array_add.append(taa)\n",
    "    t_array_run_ids.append(run_id_a)"
   ]
  },
  {
   "cell_type": "code",
   "execution_count": 8,
   "metadata": {
    "execution": {
     "iopub.execute_input": "2020-11-19T15:31:58.884737Z",
     "iopub.status.busy": "2020-11-19T15:31:58.866318Z",
     "iopub.status.idle": "2020-11-19T15:31:59.012855Z",
     "shell.execute_reply": "2020-11-19T15:31:59.013256Z"
    },
    "scrolled": true
   },
   "outputs": [
    {
     "data": {
      "image/png": "[encoded data removed]",
      "text/plain": [
       "<Figure size 432x288 with 1 Axes>"
      ]
     },
     "metadata": {
      "needs_background": "light"
     },
     "output_type": "display_data"
    }
   ],
   "source": [
    "fig, ax = plt.subplots(1,1)\n",
    "ax.plot(sizes, t_numeric, 'o-', label='Inserting row-by-row')\n",
    "ax.plot(sizes, t_numeric_add, 'o-', label='Inserting row-by-row: add_result only')\n",
    "ax.plot(sizes, t_array, 'd-', label='Inserting as binary blob')\n",
    "ax.plot(sizes, t_array_add, 'd-', label='Inserting as binary blob: add_result only')\n",
    "ax.legend()\n",
    "ax.set_xlabel('Array length')\n",
    "ax.set_ylabel('Time (s)')\n",
    "fig.tight_layout()"
   ]
  },
  {
   "cell_type": "markdown",
   "metadata": {},
   "source": [
    "However, as we increase the length of the experiment, as seen here by repeating the insertion 100 times, we see a big difference between inserting values of the data row-by-row and inserting it as a binary blob."
   ]
  },
  {
   "cell_type": "markdown",
   "metadata": {},
   "source": [
    "## Loading the data "
   ]
  },
  {
   "cell_type": "code",
   "execution_count": 9,
   "metadata": {
    "execution": {
     "iopub.execute_input": "2020-11-19T15:31:59.017107Z",
     "iopub.status.busy": "2020-11-19T15:31:59.016185Z",
     "iopub.status.idle": "2020-11-19T15:31:59.019104Z",
     "shell.execute_reply": "2020-11-19T15:31:59.019503Z"
    }
   },
   "outputs": [],
   "source": [
    "from qcodes.dataset.data_set import load_by_id\n",
    "from qcodes.dataset.data_export import get_data_by_id"
   ]
  },
  {
   "cell_type": "markdown",
   "metadata": {},
   "source": [
    "As usual you can load the data by using the ``load_by_id`` function but you will notice that the different storage methods\n",
    "are reflected in shape of the data as it is retrieved. "
   ]
  },
  {
   "cell_type": "code",
   "execution_count": 10,
   "metadata": {
    "execution": {
     "iopub.execute_input": "2020-11-19T15:31:59.023204Z",
     "iopub.status.busy": "2020-11-19T15:31:59.022385Z",
     "iopub.status.idle": "2020-11-19T15:31:59.025559Z",
     "shell.execute_reply": "2020-11-19T15:31:59.026314Z"
    }
   },
   "outputs": [],
   "source": [
    "run_id_n = t_numeric_run_ids[0]\n",
    "run_id_a = t_array_run_ids[0]"
   ]
  },
  {
   "cell_type": "code",
   "execution_count": 11,
   "metadata": {
    "execution": {
     "iopub.execute_input": "2020-11-19T15:31:59.029652Z",
     "iopub.status.busy": "2020-11-19T15:31:59.028632Z",
     "iopub.status.idle": "2020-11-19T15:31:59.039568Z",
     "shell.execute_reply": "2020-11-19T15:31:59.040210Z"
    },
    "scrolled": true
   },
   "outputs": [
    {
     "data": {
      "text/plain": [
       "{'x1': {'x1': array([0.14480881, 0.14480881, 0.8103696 , 0.8103696 , 0.62615799,\n",
       "         0.62615799, 0.02631115, 0.02631115, 0.19486751, 0.19486751,\n",
       "         0.22327461, 0.22327461, 0.78819228, 0.78819228, 0.78214251,\n",
       "         0.78214251, 0.09073988, 0.09073988, 0.77125279, 0.77125279,\n",
       "         0.82878373, 0.82878373, 0.55902937, 0.55902937, 0.90644925,\n",
       "         0.90644925, 0.77574915, 0.77574915, 0.72218553, 0.72218553,\n",
       "         0.20973439, 0.20973439, 0.24232388, 0.24232388, 0.47897207,\n",
       "         0.47897207, 0.18322126, 0.18322126, 0.14396334, 0.14396334,\n",
       "         0.77660441, 0.77660441, 0.43325896, 0.43325896, 0.31078944,\n",
       "         0.31078944, 0.86672313, 0.86672313, 0.88359951, 0.88359951,\n",
       "         0.8783741 , 0.8783741 , 0.25883956, 0.25883956, 0.2354948 ,\n",
       "         0.2354948 , 0.34407168, 0.34407168, 0.27316686, 0.27316686,\n",
       "         0.94956405, 0.94956405, 0.3417047 , 0.3417047 , 0.82200716,\n",
       "         0.82200716, 0.68038731, 0.68038731, 0.07573389, 0.07573389,\n",
       "         0.15697726, 0.15697726, 0.59518252, 0.59518252, 0.03847074,\n",
       "         0.03847074, 0.38425412, 0.38425412, 0.23670128, 0.23670128,\n",
       "         0.38369792, 0.38369792, 0.06396051, 0.06396051, 0.68570531,\n",
       "         0.68570531, 0.29777768, 0.29777768, 0.12094758, 0.12094758,\n",
       "         0.63107751, 0.63107751, 0.94441295, 0.94441295, 0.69731916,\n",
       "         0.69731916, 0.23690864, 0.23690864, 0.26920363, 0.26920363,\n",
       "         0.65853902, 0.65853902, 0.20837323, 0.20837323, 0.25448185,\n",
       "         0.25448185, 0.85001212, 0.85001212, 0.36022647, 0.36022647,\n",
       "         0.83370866, 0.83370866, 0.68109095, 0.68109095, 0.15082186,\n",
       "         0.15082186, 0.53688166, 0.53688166, 0.61317666, 0.61317666,\n",
       "         0.4364192 , 0.4364192 , 0.93579248, 0.93579248, 0.10503378,\n",
       "         0.10503378, 0.8307932 , 0.8307932 , 0.96462735, 0.96462735,\n",
       "         0.08447794, 0.08447794, 0.30560819, 0.30560819, 0.84339007,\n",
       "         0.84339007, 0.35214868, 0.35214868, 0.66519792, 0.66519792,\n",
       "         0.28403124, 0.28403124, 0.19504488, 0.19504488, 0.10517724,\n",
       "         0.10517724, 0.86778255, 0.86778255, 0.27923279, 0.27923279,\n",
       "         0.94164103, 0.94164103, 0.40061308, 0.40061308, 0.27261897,\n",
       "         0.27261897, 0.98190297, 0.98190297, 0.06447942, 0.06447942,\n",
       "         0.88662556, 0.88662556, 0.5425092 , 0.5425092 , 0.6461018 ,\n",
       "         0.6461018 , 0.60956243, 0.60956243, 0.62000255, 0.62000255,\n",
       "         0.51888214, 0.51888214, 0.34793485, 0.34793485, 0.46838579,\n",
       "         0.46838579, 0.51243061, 0.51243061, 0.26603231, 0.26603231,\n",
       "         0.30950297, 0.30950297, 0.27001577, 0.27001577, 0.45001871,\n",
       "         0.45001871, 0.49026759, 0.49026759, 0.12613091, 0.12613091,\n",
       "         0.68261353, 0.68261353, 0.04674162, 0.04674162, 0.8247284 ,\n",
       "         0.8247284 , 0.5573061 , 0.5573061 , 0.0568287 , 0.0568287 ])}}"
      ]
     },
     "execution_count": 1,
     "metadata": {},
     "output_type": "execute_result"
    }
   ],
   "source": [
    "ds = load_by_id(run_id_n)\n",
    "ds.get_parameter_data('x1')"
   ]
  },
  {
   "cell_type": "markdown",
   "metadata": {},
   "source": [
    "And a dataset stored as binary arrays"
   ]
  },
  {
   "cell_type": "code",
   "execution_count": 12,
   "metadata": {
    "execution": {
     "iopub.execute_input": "2020-11-19T15:31:59.043366Z",
     "iopub.status.busy": "2020-11-19T15:31:59.042838Z",
     "iopub.status.idle": "2020-11-19T15:31:59.093345Z",
     "shell.execute_reply": "2020-11-19T15:31:59.094113Z"
    },
    "scrolled": true
   },
   "outputs": [
    {
     "data": {
      "text/plain": [
       "{'x1': {'x1': array([[0.72615592],\n",
       "         [0.72615592],\n",
       "         [0.13205083],\n",
       "         [0.13205083],\n",
       "         [0.76820086],\n",
       "         [0.76820086],\n",
       "         [0.82178957],\n",
       "         [0.82178957],\n",
       "         [0.62161325],\n",
       "         [0.62161325],\n",
       "         [0.43432766],\n",
       "         [0.43432766],\n",
       "         [0.15539237],\n",
       "         [0.15539237],\n",
       "         [0.78698356],\n",
       "         [0.78698356],\n",
       "         [0.7243698 ],\n",
       "         [0.7243698 ],\n",
       "         [0.80234075],\n",
       "         [0.80234075],\n",
       "         [0.13463956],\n",
       "         [0.13463956],\n",
       "         [0.5255928 ],\n",
       "         [0.5255928 ],\n",
       "         [0.81469802],\n",
       "         [0.81469802],\n",
       "         [0.05763006],\n",
       "         [0.05763006],\n",
       "         [0.90434072],\n",
       "         [0.90434072],\n",
       "         [0.11634493],\n",
       "         [0.11634493],\n",
       "         [0.24506148],\n",
       "         [0.24506148],\n",
       "         [0.81756877],\n",
       "         [0.81756877],\n",
       "         [0.3832312 ],\n",
       "         [0.3832312 ],\n",
       "         [0.86776767],\n",
       "         [0.86776767],\n",
       "         [0.44888386],\n",
       "         [0.44888386],\n",
       "         [0.79136306],\n",
       "         [0.79136306],\n",
       "         [0.97578683],\n",
       "         [0.97578683],\n",
       "         [0.32944566],\n",
       "         [0.32944566],\n",
       "         [0.44536332],\n",
       "         [0.44536332],\n",
       "         [0.13706373],\n",
       "         [0.13706373],\n",
       "         [0.54776235],\n",
       "         [0.54776235],\n",
       "         [0.928848  ],\n",
       "         [0.928848  ],\n",
       "         [0.24418219],\n",
       "         [0.24418219],\n",
       "         [0.7207834 ],\n",
       "         [0.7207834 ],\n",
       "         [0.14062526],\n",
       "         [0.14062526],\n",
       "         [0.88781515],\n",
       "         [0.88781515],\n",
       "         [0.04005357],\n",
       "         [0.04005357],\n",
       "         [0.66240553],\n",
       "         [0.66240553],\n",
       "         [0.94632041],\n",
       "         [0.94632041],\n",
       "         [0.3231327 ],\n",
       "         [0.3231327 ],\n",
       "         [0.1968897 ],\n",
       "         [0.1968897 ],\n",
       "         [0.77351584],\n",
       "         [0.77351584],\n",
       "         [0.17367253],\n",
       "         [0.17367253],\n",
       "         [0.51777059],\n",
       "         [0.51777059],\n",
       "         [0.01908897],\n",
       "         [0.01908897],\n",
       "         [0.8855929 ],\n",
       "         [0.8855929 ],\n",
       "         [0.13636835],\n",
       "         [0.13636835],\n",
       "         [0.28702859],\n",
       "         [0.28702859],\n",
       "         [0.06591995],\n",
       "         [0.06591995],\n",
       "         [0.24361068],\n",
       "         [0.24361068],\n",
       "         [0.88193176],\n",
       "         [0.88193176],\n",
       "         [0.6725092 ],\n",
       "         [0.6725092 ],\n",
       "         [0.39076017],\n",
       "         [0.39076017],\n",
       "         [0.8664959 ],\n",
       "         [0.8664959 ],\n",
       "         [0.9335808 ],\n",
       "         [0.9335808 ],\n",
       "         [0.74492759],\n",
       "         [0.74492759],\n",
       "         [0.42929179],\n",
       "         [0.42929179],\n",
       "         [0.7613942 ],\n",
       "         [0.7613942 ],\n",
       "         [0.57814923],\n",
       "         [0.57814923],\n",
       "         [0.95553774],\n",
       "         [0.95553774],\n",
       "         [0.79298515],\n",
       "         [0.79298515],\n",
       "         [0.16639588],\n",
       "         [0.16639588],\n",
       "         [0.10494063],\n",
       "         [0.10494063],\n",
       "         [0.71086233],\n",
       "         [0.71086233],\n",
       "         [0.29865201],\n",
       "         [0.29865201],\n",
       "         [0.72326627],\n",
       "         [0.72326627],\n",
       "         [0.9863944 ],\n",
       "         [0.9863944 ],\n",
       "         [0.56711862],\n",
       "         [0.56711862],\n",
       "         [0.84777181],\n",
       "         [0.84777181],\n",
       "         [0.9154671 ],\n",
       "         [0.9154671 ],\n",
       "         [0.45022883],\n",
       "         [0.45022883],\n",
       "         [0.18261598],\n",
       "         [0.18261598],\n",
       "         [0.12008808],\n",
       "         [0.12008808],\n",
       "         [0.29806226],\n",
       "         [0.29806226],\n",
       "         [0.48106979],\n",
       "         [0.48106979],\n",
       "         [0.56559365],\n",
       "         [0.56559365],\n",
       "         [0.68900166],\n",
       "         [0.68900166],\n",
       "         [0.29770102],\n",
       "         [0.29770102],\n",
       "         [0.19645277],\n",
       "         [0.19645277],\n",
       "         [0.15711865],\n",
       "         [0.15711865],\n",
       "         [0.97736176],\n",
       "         [0.97736176],\n",
       "         [0.96633005],\n",
       "         [0.96633005],\n",
       "         [0.37260158],\n",
       "         [0.37260158],\n",
       "         [0.28549353],\n",
       "         [0.28549353],\n",
       "         [0.54138242],\n",
       "         [0.54138242],\n",
       "         [0.83177541],\n",
       "         [0.83177541],\n",
       "         [0.97808363],\n",
       "         [0.97808363],\n",
       "         [0.25288583],\n",
       "         [0.25288583],\n",
       "         [0.7576215 ],\n",
       "         [0.7576215 ],\n",
       "         [0.53988159],\n",
       "         [0.53988159],\n",
       "         [0.80830094],\n",
       "         [0.80830094],\n",
       "         [0.83294985],\n",
       "         [0.83294985],\n",
       "         [0.70913937],\n",
       "         [0.70913937],\n",
       "         [0.16461636],\n",
       "         [0.16461636],\n",
       "         [0.96693463],\n",
       "         [0.96693463],\n",
       "         [0.20991796],\n",
       "         [0.20991796],\n",
       "         [0.54073971],\n",
       "         [0.54073971],\n",
       "         [0.47189406],\n",
       "         [0.47189406],\n",
       "         [0.66227089],\n",
       "         [0.66227089],\n",
       "         [0.32400607],\n",
       "         [0.32400607],\n",
       "         [0.60398455],\n",
       "         [0.60398455],\n",
       "         [0.77999196],\n",
       "         [0.77999196],\n",
       "         [0.26994734],\n",
       "         [0.26994734],\n",
       "         [0.63497519],\n",
       "         [0.63497519]])}}"
      ]
     },
     "execution_count": 1,
     "metadata": {},
     "output_type": "execute_result"
    }
   ],
   "source": [
    "ds = load_by_id(run_id_a)\n",
    "ds.get_parameter_data('x1')"
   ]
  },
  {
   "cell_type": "code",
   "execution_count": null,
   "metadata": {},
   "outputs": [],
   "source": []
  }
 ],
 "metadata": {
  "kernelspec": {
   "display_name": "Python 3",
   "language": "python",
   "name": "python3"
  },
  "language_info": {
   "codemirror_mode": {
    "name": "ipython",
    "version": 3
   },
   "file_extension": ".py",
   "mimetype": "text/x-python",
   "name": "python",
   "nbconvert_exporter": "python",
   "pygments_lexer": "ipython3",
   "version": "3.7.9"
  },
  "nbsphinx": {
   "timeout": 600
  },
  "toc": {
   "base_numbering": 1,
   "nav_menu": {},
   "number_sections": true,
   "sideBar": true,
   "skip_h1_title": false,
   "title_cell": "Table of Contents",
   "title_sidebar": "Contents",
   "toc_cell": false,
   "toc_position": {},
   "toc_section_display": true,
   "toc_window_display": false
  },
  "varInspector": {
   "cols": {
    "lenName": 16,
    "lenType": 16,
    "lenVar": 40
   },
   "kernels_config": {
    "python": {
     "delete_cmd_postfix": "",
     "delete_cmd_prefix": "del ",
     "library": "var_list.py",
     "varRefreshCmd": "print(var_dic_list())"
    },
    "r": {
     "delete_cmd_postfix": ") ",
     "delete_cmd_prefix": "rm(",
     "library": "var_list.r",
     "varRefreshCmd": "cat(var_dic_list()) "
    }
   },
   "types_to_exclude": [
    "module",
    "function",
    "builtin_function_or_method",
    "instance",
    "_Feature"
   ],
   "window_display": false
  }
 },
 "nbformat": 4,
 "nbformat_minor": 2
}
