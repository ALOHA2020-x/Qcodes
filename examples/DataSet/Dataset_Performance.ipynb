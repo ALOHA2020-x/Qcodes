{
 "cells": [
  {
   "cell_type": "markdown",
   "metadata": {},
   "source": [
    "# DataSet Performance\n",
    "\n",
    "This notebook shows the trade-off between inserting data into a database row-by-row and as binary blobs. Inserting the data row-by-row means that we have direct access to all the data and may perform queries directly on the values of the data. On the other hand, as we shall see, this is much slower than inserting the data directly as binary blobs."
   ]
  },
  {
   "cell_type": "markdown",
   "metadata": {},
   "source": [
    "First, we choose a new location for the database to ensure that we don't add a bunch of benchmarking data to the default one."
   ]
  },
  {
   "cell_type": "code",
   "execution_count": 1,
   "metadata": {
    "execution": {
     "iopub.execute_input": "2021-02-19T18:17:35.416211Z",
     "iopub.status.busy": "2021-02-19T18:17:35.415650Z",
     "iopub.status.idle": "2021-02-19T18:17:36.384781Z",
     "shell.execute_reply": "2021-02-19T18:17:36.384195Z"
    }
   },
   "outputs": [
    {
     "name": "stdout",
     "output_type": "stream",
     "text": [
      "Logging hadn't been started.\n",
      "Activating auto-logging. Current session state plus future input saved.\n",
      "Filename       : /home/runner/.qcodes/logs/command_history.log\n",
      "Mode           : append\n",
      "Output logging : True\n",
      "Raw input log  : False\n",
      "Timestamping   : True\n",
      "State          : active\n"
     ]
    },
    {
     "name": "stdout",
     "output_type": "stream",
     "text": [
      "Qcodes Logfile : /home/runner/.qcodes/logs/210219-4472-qcodes.log\n"
     ]
    }
   ],
   "source": [
    "import os\n",
    "cwd = os.getcwd()\n",
    "import qcodes as qc\n",
    "qc.config[\"core\"][\"db_location\"] = os.path.join(cwd, 'testing.db')\n"
   ]
  },
  {
   "cell_type": "code",
   "execution_count": 2,
   "metadata": {
    "execution": {
     "iopub.execute_input": "2021-02-19T18:17:36.392949Z",
     "iopub.status.busy": "2021-02-19T18:17:36.391970Z",
     "iopub.status.idle": "2021-02-19T18:17:36.604737Z",
     "shell.execute_reply": "2021-02-19T18:17:36.603750Z"
    }
   },
   "outputs": [],
   "source": [
    "%matplotlib inline\n",
    "import time\n",
    "import matplotlib.pyplot as plt\n",
    "import numpy as np\n",
    "\n",
    "import qcodes as qc\n",
    "from qcodes.instrument.parameter import ManualParameter\n",
    "from qcodes.dataset.experiment_container import (Experiment,\n",
    "                                                 load_last_experiment,\n",
    "                                                 new_experiment)\n",
    "from qcodes.dataset.sqlite.database import initialise_database\n",
    "from qcodes import load_or_create_experiment\n",
    "from qcodes.dataset.measurements import Measurement"
   ]
  },
  {
   "cell_type": "code",
   "execution_count": 3,
   "metadata": {
    "execution": {
     "iopub.execute_input": "2021-02-19T18:17:36.610246Z",
     "iopub.status.busy": "2021-02-19T18:17:36.609519Z",
     "iopub.status.idle": "2021-02-19T18:17:36.748721Z",
     "shell.execute_reply": "2021-02-19T18:17:36.748082Z"
    }
   },
   "outputs": [
    {
     "name": "stdout",
     "output_type": "stream",
     "text": [
      "\r",
      "0it [00:00, ?it/s]"
     ]
    },
    {
     "name": "stdout",
     "output_type": "stream",
     "text": [
      "\r",
      "Upgrading database; v0 -> v1: : 0it [00:00, ?it/s]"
     ]
    },
    {
     "name": "stdout",
     "output_type": "stream",
     "text": [
      "\r",
      "Upgrading database; v0 -> v1: : 0it [00:00, ?it/s]"
     ]
    },
    {
     "name": "stdout",
     "output_type": "stream",
     "text": [
      "\n",
      "\r",
      "  0%|          | 0/1 [00:00<?, ?it/s]"
     ]
    },
    {
     "name": "stdout",
     "output_type": "stream",
     "text": [
      "\r",
      "Upgrading database; v1 -> v2:   0%|          | 0/1 [00:00<?, ?it/s]"
     ]
    },
    {
     "name": "stdout",
     "output_type": "stream",
     "text": [
      "\r",
      "Upgrading database; v1 -> v2: 100%|██████████| 1/1 [00:00<00:00, 547.56it/s]"
     ]
    },
    {
     "name": "stdout",
     "output_type": "stream",
     "text": [
      "\n",
      "\r",
      "0it [00:00, ?it/s]"
     ]
    },
    {
     "name": "stdout",
     "output_type": "stream",
     "text": [
      "\r",
      "Upgrading database; v2 -> v3: : 0it [00:00, ?it/s]"
     ]
    },
    {
     "name": "stdout",
     "output_type": "stream",
     "text": [
      "\r",
      "Upgrading database; v2 -> v3: : 0it [00:00, ?it/s]"
     ]
    },
    {
     "name": "stdout",
     "output_type": "stream",
     "text": [
      "\n",
      "\r",
      "0it [00:00, ?it/s]"
     ]
    },
    {
     "name": "stdout",
     "output_type": "stream",
     "text": [
      "\r",
      "Upgrading database; v3 -> v4: : 0it [00:00, ?it/s]"
     ]
    },
    {
     "name": "stdout",
     "output_type": "stream",
     "text": [
      "\r",
      "Upgrading database; v3 -> v4: : 0it [00:00, ?it/s]"
     ]
    },
    {
     "name": "stdout",
     "output_type": "stream",
     "text": [
      "\n",
      "\r",
      "  0%|          | 0/1 [00:00<?, ?it/s]"
     ]
    },
    {
     "name": "stdout",
     "output_type": "stream",
     "text": [
      "\r",
      "Upgrading database; v4 -> v5:   0%|          | 0/1 [00:00<?, ?it/s]"
     ]
    },
    {
     "name": "stdout",
     "output_type": "stream",
     "text": [
      "\r",
      "Upgrading database; v4 -> v5: 100%|██████████| 1/1 [00:00<00:00, 654.95it/s]"
     ]
    },
    {
     "name": "stdout",
     "output_type": "stream",
     "text": [
      "\n",
      "\r",
      "0it [00:00, ?it/s]"
     ]
    },
    {
     "name": "stdout",
     "output_type": "stream",
     "text": [
      "\r",
      "Upgrading database; v5 -> v6: : 0it [00:00, ?it/s]"
     ]
    },
    {
     "name": "stdout",
     "output_type": "stream",
     "text": [
      "\r",
      "Upgrading database; v5 -> v6: : 0it [00:00, ?it/s]"
     ]
    },
    {
     "name": "stdout",
     "output_type": "stream",
     "text": [
      "\n",
      "\r",
      "  0%|          | 0/1 [00:00<?, ?it/s]"
     ]
    },
    {
     "name": "stdout",
     "output_type": "stream",
     "text": [
      "\r",
      "Upgrading database; v6 -> v7:   0%|          | 0/1 [00:00<?, ?it/s]"
     ]
    },
    {
     "name": "stdout",
     "output_type": "stream",
     "text": [
      "\r",
      "Upgrading database; v6 -> v7: 100%|██████████| 1/1 [00:00<00:00, 230.08it/s]"
     ]
    },
    {
     "name": "stdout",
     "output_type": "stream",
     "text": [
      "\n",
      "\r",
      "  0%|          | 0/1 [00:00<?, ?it/s]"
     ]
    },
    {
     "name": "stdout",
     "output_type": "stream",
     "text": [
      "\r",
      "Upgrading database; v7 -> v8:   0%|          | 0/1 [00:00<?, ?it/s]"
     ]
    },
    {
     "name": "stdout",
     "output_type": "stream",
     "text": [
      "\r",
      "Upgrading database; v7 -> v8: 100%|██████████| 1/1 [00:00<00:00, 411.61it/s]"
     ]
    },
    {
     "name": "stdout",
     "output_type": "stream",
     "text": [
      "\n",
      "\r",
      "  0%|          | 0/1 [00:00<?, ?it/s]"
     ]
    },
    {
     "name": "stdout",
     "output_type": "stream",
     "text": [
      "\r",
      "Upgrading database; v8 -> v9:   0%|          | 0/1 [00:00<?, ?it/s]"
     ]
    },
    {
     "name": "stdout",
     "output_type": "stream",
     "text": [
      "\r",
      "Upgrading database; v8 -> v9: 100%|██████████| 1/1 [00:00<00:00, 498.85it/s]"
     ]
    },
    {
     "name": "stdout",
     "output_type": "stream",
     "text": [
      "\n"
     ]
    }
   ],
   "source": [
    "initialise_database()\n",
    "exp = load_or_create_experiment(experiment_name='tutorial_exp', sample_name=\"no sample\")"
   ]
  },
  {
   "cell_type": "markdown",
   "metadata": {},
   "source": [
    "Here, we define a simple function to benchmark the time it takes to insert n points with either numeric or array data type.\n",
    "We will compare both the time used to call ``add_result`` and the time used for the full measurement."
   ]
  },
  {
   "cell_type": "code",
   "execution_count": 4,
   "metadata": {
    "execution": {
     "iopub.execute_input": "2021-02-19T18:17:36.759192Z",
     "iopub.status.busy": "2021-02-19T18:17:36.757711Z",
     "iopub.status.idle": "2021-02-19T18:17:36.759857Z",
     "shell.execute_reply": "2021-02-19T18:17:36.760480Z"
    }
   },
   "outputs": [],
   "source": [
    "def insert_data(paramtype, npoints, nreps=1):\n",
    "\n",
    "    meas = Measurement(exp=exp)\n",
    "\n",
    "    x1 = ManualParameter('x1')\n",
    "    x2 = ManualParameter('x2')\n",
    "    x3 = ManualParameter('x3')\n",
    "    y1 = ManualParameter('y1')\n",
    "    y2 = ManualParameter('y2')\n",
    "\n",
    "    meas.register_parameter(x1, paramtype=paramtype)\n",
    "    meas.register_parameter(x2, paramtype=paramtype)\n",
    "    meas.register_parameter(x3, paramtype=paramtype)\n",
    "    meas.register_parameter(y1, setpoints=[x1, x2, x3],\n",
    "                            paramtype=paramtype)\n",
    "    meas.register_parameter(y2, setpoints=[x1, x2, x3],\n",
    "                            paramtype=paramtype)\n",
    "    start = time.perf_counter()\n",
    "    with meas.run() as datasaver:\n",
    "        start_adding = time.perf_counter()\n",
    "        for i in range(nreps):\n",
    "            datasaver.add_result((x1, np.random.rand(npoints)),\n",
    "                                 (x2, np.random.rand(npoints)),\n",
    "                                 (x3, np.random.rand(npoints)),\n",
    "                                 (y1, np.random.rand(npoints)),\n",
    "                                 (y2, np.random.rand(npoints)))\n",
    "        stop_adding = time.perf_counter()\n",
    "        run_id = datasaver.run_id\n",
    "    stop = time.perf_counter()\n",
    "    tot_time = stop - start\n",
    "    add_time = stop_adding - start_adding\n",
    "    return tot_time, add_time, run_id"
   ]
  },
  {
   "cell_type": "markdown",
   "metadata": {},
   "source": [
    "## Comparison between numeric/array data and binary blob"
   ]
  },
  {
   "cell_type": "markdown",
   "metadata": {},
   "source": [
    "### Case1: Short experiment time"
   ]
  },
  {
   "cell_type": "code",
   "execution_count": 5,
   "metadata": {
    "execution": {
     "iopub.execute_input": "2021-02-19T18:17:36.768034Z",
     "iopub.status.busy": "2021-02-19T18:17:36.767414Z",
     "iopub.status.idle": "2021-02-19T18:17:37.678702Z",
     "shell.execute_reply": "2021-02-19T18:17:37.678197Z"
    }
   },
   "outputs": [
    {
     "name": "stdout",
     "output_type": "stream",
     "text": [
      "Starting experimental run with id: 1. \n",
      "Starting experimental run with id: 2. \n",
      "Starting experimental run with id: 3. \n",
      "Starting experimental run with id: 4. \n"
     ]
    },
    {
     "name": "stdout",
     "output_type": "stream",
     "text": [
      "Starting experimental run with id: 5. \n"
     ]
    },
    {
     "name": "stdout",
     "output_type": "stream",
     "text": [
      "Starting experimental run with id: 6. \n",
      "Starting experimental run with id: 7. \n"
     ]
    },
    {
     "name": "stdout",
     "output_type": "stream",
     "text": [
      "Starting experimental run with id: 8. \n",
      "Starting experimental run with id: 9. \n"
     ]
    },
    {
     "name": "stdout",
     "output_type": "stream",
     "text": [
      "Starting experimental run with id: 10. \n",
      "Starting experimental run with id: 11. \n"
     ]
    },
    {
     "name": "stdout",
     "output_type": "stream",
     "text": [
      "Starting experimental run with id: 12. \n"
     ]
    },
    {
     "name": "stdout",
     "output_type": "stream",
     "text": [
      "Starting experimental run with id: 13. \n"
     ]
    },
    {
     "name": "stdout",
     "output_type": "stream",
     "text": [
      "Starting experimental run with id: 14. \n"
     ]
    }
   ],
   "source": [
    "sizes = [1,500,1000,2000,3000,4000,5000]\n",
    "t_numeric = []\n",
    "t_numeric_add = []\n",
    "t_array = []\n",
    "t_array_add = []\n",
    "for size in sizes:\n",
    "    tn, tna, run_id_n =  insert_data('numeric', size)\n",
    "    t_numeric.append(tn)\n",
    "    t_numeric_add.append(tna)\n",
    "\n",
    "    ta, taa, run_id_a =  insert_data('array', size)\n",
    "    t_array.append(ta)\n",
    "    t_array_add.append(taa)"
   ]
  },
  {
   "cell_type": "code",
   "execution_count": 6,
   "metadata": {
    "execution": {
     "iopub.execute_input": "2021-02-19T18:17:37.707921Z",
     "iopub.status.busy": "2021-02-19T18:17:37.697676Z",
     "iopub.status.idle": "2021-02-19T18:17:37.906667Z",
     "shell.execute_reply": "2021-02-19T18:17:37.906165Z"
    }
   },
   "outputs": [
    {
     "data": {
      "image/png": "[encoded data removed]",
      "text/plain": [
       "<Figure size 432x288 with 1 Axes>"
      ]
     },
     "metadata": {
      "needs_background": "light"
     },
     "output_type": "display_data"
    }
   ],
   "source": [
    "fig, ax = plt.subplots(1,1)\n",
    "ax.plot(sizes, t_numeric, 'o-', label='Inserting row-by-row')\n",
    "ax.plot(sizes, t_numeric_add, 'o-', label='Inserting row-by-row: add_result only')\n",
    "ax.plot(sizes, t_array, 'd-', label='Inserting as binary blob')\n",
    "ax.plot(sizes, t_array_add, 'd-', label='Inserting as binary blob: add_result only')\n",
    "ax.legend()\n",
    "ax.set_xlabel('Array length')\n",
    "ax.set_ylabel('Time (s)')\n",
    "fig.tight_layout()"
   ]
  },
  {
   "cell_type": "markdown",
   "metadata": {},
   "source": [
    "As shown in the latter figure, the time to setup and and close the experiment is approximately 0.4 sec. In case of small array sizes, the difference between inserting values of data as arrays and inserting them row-by-row is relatively unimportant. At larger array sizes, i.e. above 10000 points, the cost of writing data as individual datapoints starts to become important.\n"
   ]
  },
  {
   "cell_type": "markdown",
   "metadata": {},
   "source": [
    "### Case2: Long experiment time "
   ]
  },
  {
   "cell_type": "code",
   "execution_count": 7,
   "metadata": {
    "execution": {
     "iopub.execute_input": "2021-02-19T18:17:37.914158Z",
     "iopub.status.busy": "2021-02-19T18:17:37.912936Z",
     "iopub.status.idle": "2021-02-19T18:18:39.116665Z",
     "shell.execute_reply": "2021-02-19T18:18:39.117182Z"
    }
   },
   "outputs": [
    {
     "name": "stdout",
     "output_type": "stream",
     "text": [
      "Starting experimental run with id: 15. \n",
      "Starting experimental run with id: 16. \n"
     ]
    },
    {
     "name": "stdout",
     "output_type": "stream",
     "text": [
      "Starting experimental run with id: 17. \n"
     ]
    },
    {
     "name": "stdout",
     "output_type": "stream",
     "text": [
      "Starting experimental run with id: 18. \n"
     ]
    },
    {
     "name": "stdout",
     "output_type": "stream",
     "text": [
      "Starting experimental run with id: 19. \n"
     ]
    },
    {
     "name": "stdout",
     "output_type": "stream",
     "text": [
      "Starting experimental run with id: 20. \n"
     ]
    },
    {
     "name": "stdout",
     "output_type": "stream",
     "text": [
      "Starting experimental run with id: 21. \n"
     ]
    },
    {
     "name": "stdout",
     "output_type": "stream",
     "text": [
      "Starting experimental run with id: 22. \n"
     ]
    },
    {
     "name": "stdout",
     "output_type": "stream",
     "text": [
      "Starting experimental run with id: 23. \n"
     ]
    },
    {
     "name": "stdout",
     "output_type": "stream",
     "text": [
      "Starting experimental run with id: 24. \n"
     ]
    },
    {
     "name": "stdout",
     "output_type": "stream",
     "text": [
      "Starting experimental run with id: 25. \n"
     ]
    },
    {
     "name": "stdout",
     "output_type": "stream",
     "text": [
      "Starting experimental run with id: 26. \n"
     ]
    },
    {
     "name": "stdout",
     "output_type": "stream",
     "text": [
      "Starting experimental run with id: 27. \n"
     ]
    },
    {
     "name": "stdout",
     "output_type": "stream",
     "text": [
      "Starting experimental run with id: 28. \n"
     ]
    }
   ],
   "source": [
    "sizes = [1,500,1000,2000,3000,4000,5000]\n",
    "nreps = 100\n",
    "t_numeric = []\n",
    "t_numeric_add = []\n",
    "t_numeric_run_ids = []\n",
    "t_array = []\n",
    "t_array_add = []\n",
    "t_array_run_ids = []\n",
    "for size in sizes:\n",
    "    tn, tna, run_id_n =  insert_data('numeric', size, nreps=nreps)\n",
    "    t_numeric.append(tn)\n",
    "    t_numeric_add.append(tna)\n",
    "    t_numeric_run_ids.append(run_id_n)\n",
    "\n",
    "    ta, taa, run_id_a =  insert_data('array', size, nreps=nreps)\n",
    "    t_array.append(ta)\n",
    "    t_array_add.append(taa)\n",
    "    t_array_run_ids.append(run_id_a)"
   ]
  },
  {
   "cell_type": "code",
   "execution_count": 8,
   "metadata": {
    "execution": {
     "iopub.execute_input": "2021-02-19T18:18:39.160121Z",
     "iopub.status.busy": "2021-02-19T18:18:39.159142Z",
     "iopub.status.idle": "2021-02-19T18:18:39.342967Z",
     "shell.execute_reply": "2021-02-19T18:18:39.342080Z"
    },
    "scrolled": true
   },
   "outputs": [
    {
     "data": {
      "image/png": "[encoded data removed]",
      "text/plain": [
       "<Figure size 432x288 with 1 Axes>"
      ]
     },
     "metadata": {
      "needs_background": "light"
     },
     "output_type": "display_data"
    }
   ],
   "source": [
    "fig, ax = plt.subplots(1,1)\n",
    "ax.plot(sizes, t_numeric, 'o-', label='Inserting row-by-row')\n",
    "ax.plot(sizes, t_numeric_add, 'o-', label='Inserting row-by-row: add_result only')\n",
    "ax.plot(sizes, t_array, 'd-', label='Inserting as binary blob')\n",
    "ax.plot(sizes, t_array_add, 'd-', label='Inserting as binary blob: add_result only')\n",
    "ax.legend()\n",
    "ax.set_xlabel('Array length')\n",
    "ax.set_ylabel('Time (s)')\n",
    "fig.tight_layout()"
   ]
  },
  {
   "cell_type": "markdown",
   "metadata": {},
   "source": [
    "However, as we increase the length of the experiment, as seen here by repeating the insertion 100 times, we see a big difference between inserting values of the data row-by-row and inserting it as a binary blob."
   ]
  },
  {
   "cell_type": "markdown",
   "metadata": {},
   "source": [
    "## Loading the data "
   ]
  },
  {
   "cell_type": "code",
   "execution_count": 9,
   "metadata": {
    "execution": {
     "iopub.execute_input": "2021-02-19T18:18:39.347868Z",
     "iopub.status.busy": "2021-02-19T18:18:39.346714Z",
     "iopub.status.idle": "2021-02-19T18:18:39.350826Z",
     "shell.execute_reply": "2021-02-19T18:18:39.350369Z"
    }
   },
   "outputs": [],
   "source": [
    "from qcodes.dataset.data_set import load_by_id\n",
    "from qcodes.dataset.data_export import get_data_by_id"
   ]
  },
  {
   "cell_type": "markdown",
   "metadata": {},
   "source": [
    "As usual you can load the data by using the ``load_by_id`` function but you will notice that the different storage methods\n",
    "are reflected in shape of the data as it is retrieved. "
   ]
  },
  {
   "cell_type": "code",
   "execution_count": 10,
   "metadata": {
    "execution": {
     "iopub.execute_input": "2021-02-19T18:18:39.354673Z",
     "iopub.status.busy": "2021-02-19T18:18:39.354097Z",
     "iopub.status.idle": "2021-02-19T18:18:39.356638Z",
     "shell.execute_reply": "2021-02-19T18:18:39.356153Z"
    }
   },
   "outputs": [],
   "source": [
    "run_id_n = t_numeric_run_ids[0]\n",
    "run_id_a = t_array_run_ids[0]"
   ]
  },
  {
   "cell_type": "code",
   "execution_count": 11,
   "metadata": {
    "execution": {
     "iopub.execute_input": "2021-02-19T18:18:39.360205Z",
     "iopub.status.busy": "2021-02-19T18:18:39.359650Z",
     "iopub.status.idle": "2021-02-19T18:18:39.371032Z",
     "shell.execute_reply": "2021-02-19T18:18:39.371534Z"
    },
    "scrolled": true
   },
   "outputs": [
    {
     "data": {
      "text/plain": [
       "{'x1': {'x1': array([0.61167487, 0.61167487, 0.14489061, 0.14489061, 0.92557554,\n",
       "         0.92557554, 0.22051   , 0.22051   , 0.9148569 , 0.9148569 ,\n",
       "         0.1558981 , 0.1558981 , 0.80344652, 0.80344652, 0.84704593,\n",
       "         0.84704593, 0.22423429, 0.22423429, 0.43811524, 0.43811524,\n",
       "         0.1538467 , 0.1538467 , 0.71910823, 0.71910823, 0.67252423,\n",
       "         0.67252423, 0.60911437, 0.60911437, 0.80341797, 0.80341797,\n",
       "         0.93413302, 0.93413302, 0.8741226 , 0.8741226 , 0.37882151,\n",
       "         0.37882151, 0.76712683, 0.76712683, 0.79830386, 0.79830386,\n",
       "         0.89202573, 0.89202573, 0.56272999, 0.56272999, 0.44183854,\n",
       "         0.44183854, 0.29407333, 0.29407333, 0.59820983, 0.59820983,\n",
       "         0.54536842, 0.54536842, 0.7816256 , 0.7816256 , 0.20583024,\n",
       "         0.20583024, 0.95457867, 0.95457867, 0.98300971, 0.98300971,\n",
       "         0.19107145, 0.19107145, 0.69621369, 0.69621369, 0.90191358,\n",
       "         0.90191358, 0.0010994 , 0.0010994 , 0.42289903, 0.42289903,\n",
       "         0.08559379, 0.08559379, 0.56656955, 0.56656955, 0.12975392,\n",
       "         0.12975392, 0.37999322, 0.37999322, 0.45505483, 0.45505483,\n",
       "         0.1772216 , 0.1772216 , 0.03479957, 0.03479957, 0.89655751,\n",
       "         0.89655751, 0.27945207, 0.27945207, 0.53865645, 0.53865645,\n",
       "         0.8761186 , 0.8761186 , 0.09298244, 0.09298244, 0.43520332,\n",
       "         0.43520332, 0.73922308, 0.73922308, 0.39220357, 0.39220357,\n",
       "         0.23694424, 0.23694424, 0.64738917, 0.64738917, 0.54082439,\n",
       "         0.54082439, 0.06117163, 0.06117163, 0.59870639, 0.59870639,\n",
       "         0.62769248, 0.62769248, 0.59250213, 0.59250213, 0.97761547,\n",
       "         0.97761547, 0.46947037, 0.46947037, 0.62740165, 0.62740165,\n",
       "         0.87988472, 0.87988472, 0.68050584, 0.68050584, 0.97652616,\n",
       "         0.97652616, 0.97442975, 0.97442975, 0.26473557, 0.26473557,\n",
       "         0.82008483, 0.82008483, 0.0019911 , 0.0019911 , 0.52926465,\n",
       "         0.52926465, 0.35856096, 0.35856096, 0.81783941, 0.81783941,\n",
       "         0.13046002, 0.13046002, 0.74776174, 0.74776174, 0.28714114,\n",
       "         0.28714114, 0.19620643, 0.19620643, 0.56250444, 0.56250444,\n",
       "         0.70650401, 0.70650401, 0.18394136, 0.18394136, 0.12190893,\n",
       "         0.12190893, 0.31466974, 0.31466974, 0.88805129, 0.88805129,\n",
       "         0.34374626, 0.34374626, 0.16892435, 0.16892435, 0.72790616,\n",
       "         0.72790616, 0.88664633, 0.88664633, 0.38049259, 0.38049259,\n",
       "         0.74217427, 0.74217427, 0.02483236, 0.02483236, 0.48173427,\n",
       "         0.48173427, 0.1362241 , 0.1362241 , 0.07105029, 0.07105029,\n",
       "         0.629513  , 0.629513  , 0.44744889, 0.44744889, 0.46911239,\n",
       "         0.46911239, 0.52794134, 0.52794134, 0.51139177, 0.51139177,\n",
       "         0.98426549, 0.98426549, 0.19047467, 0.19047467, 0.23645116,\n",
       "         0.23645116, 0.12329108, 0.12329108, 0.49500974, 0.49500974])}}"
      ]
     },
     "execution_count": 1,
     "metadata": {},
     "output_type": "execute_result"
    }
   ],
   "source": [
    "ds = load_by_id(run_id_n)\n",
    "ds.get_parameter_data('x1')"
   ]
  },
  {
   "cell_type": "markdown",
   "metadata": {},
   "source": [
    "And a dataset stored as binary arrays"
   ]
  },
  {
   "cell_type": "code",
   "execution_count": 12,
   "metadata": {
    "execution": {
     "iopub.execute_input": "2021-02-19T18:18:39.376083Z",
     "iopub.status.busy": "2021-02-19T18:18:39.375448Z",
     "iopub.status.idle": "2021-02-19T18:18:39.434051Z",
     "shell.execute_reply": "2021-02-19T18:18:39.434531Z"
    },
    "scrolled": true
   },
   "outputs": [
    {
     "data": {
      "text/plain": [
       "{'x1': {'x1': array([[0.18128123],\n",
       "         [0.18128123],\n",
       "         [0.02452486],\n",
       "         [0.02452486],\n",
       "         [0.26166885],\n",
       "         [0.26166885],\n",
       "         [0.6663861 ],\n",
       "         [0.6663861 ],\n",
       "         [0.80878375],\n",
       "         [0.80878375],\n",
       "         [0.40788296],\n",
       "         [0.40788296],\n",
       "         [0.31820112],\n",
       "         [0.31820112],\n",
       "         [0.24528381],\n",
       "         [0.24528381],\n",
       "         [0.12105314],\n",
       "         [0.12105314],\n",
       "         [0.21652369],\n",
       "         [0.21652369],\n",
       "         [0.67504235],\n",
       "         [0.67504235],\n",
       "         [0.24260278],\n",
       "         [0.24260278],\n",
       "         [0.69627564],\n",
       "         [0.69627564],\n",
       "         [0.87366586],\n",
       "         [0.87366586],\n",
       "         [0.99444858],\n",
       "         [0.99444858],\n",
       "         [0.25615019],\n",
       "         [0.25615019],\n",
       "         [0.25061514],\n",
       "         [0.25061514],\n",
       "         [0.93703853],\n",
       "         [0.93703853],\n",
       "         [0.2514996 ],\n",
       "         [0.2514996 ],\n",
       "         [0.6956583 ],\n",
       "         [0.6956583 ],\n",
       "         [0.53930473],\n",
       "         [0.53930473],\n",
       "         [0.86554207],\n",
       "         [0.86554207],\n",
       "         [0.75622897],\n",
       "         [0.75622897],\n",
       "         [0.37115236],\n",
       "         [0.37115236],\n",
       "         [0.91950783],\n",
       "         [0.91950783],\n",
       "         [0.74866624],\n",
       "         [0.74866624],\n",
       "         [0.83218999],\n",
       "         [0.83218999],\n",
       "         [0.39539796],\n",
       "         [0.39539796],\n",
       "         [0.87577806],\n",
       "         [0.87577806],\n",
       "         [0.13242833],\n",
       "         [0.13242833],\n",
       "         [0.84510051],\n",
       "         [0.84510051],\n",
       "         [0.94936313],\n",
       "         [0.94936313],\n",
       "         [0.9613976 ],\n",
       "         [0.9613976 ],\n",
       "         [0.26207347],\n",
       "         [0.26207347],\n",
       "         [0.54072569],\n",
       "         [0.54072569],\n",
       "         [0.72200898],\n",
       "         [0.72200898],\n",
       "         [0.33540647],\n",
       "         [0.33540647],\n",
       "         [0.94350135],\n",
       "         [0.94350135],\n",
       "         [0.28433958],\n",
       "         [0.28433958],\n",
       "         [0.00690708],\n",
       "         [0.00690708],\n",
       "         [0.25368266],\n",
       "         [0.25368266],\n",
       "         [0.97145655],\n",
       "         [0.97145655],\n",
       "         [0.13388248],\n",
       "         [0.13388248],\n",
       "         [0.25755342],\n",
       "         [0.25755342],\n",
       "         [0.84423541],\n",
       "         [0.84423541],\n",
       "         [0.33914728],\n",
       "         [0.33914728],\n",
       "         [0.14317646],\n",
       "         [0.14317646],\n",
       "         [0.41752328],\n",
       "         [0.41752328],\n",
       "         [0.61432967],\n",
       "         [0.61432967],\n",
       "         [0.4543647 ],\n",
       "         [0.4543647 ],\n",
       "         [0.04829567],\n",
       "         [0.04829567],\n",
       "         [0.40485857],\n",
       "         [0.40485857],\n",
       "         [0.46405222],\n",
       "         [0.46405222],\n",
       "         [0.53847601],\n",
       "         [0.53847601],\n",
       "         [0.99698555],\n",
       "         [0.99698555],\n",
       "         [0.84054251],\n",
       "         [0.84054251],\n",
       "         [0.8795967 ],\n",
       "         [0.8795967 ],\n",
       "         [0.09024774],\n",
       "         [0.09024774],\n",
       "         [0.13774302],\n",
       "         [0.13774302],\n",
       "         [0.10626232],\n",
       "         [0.10626232],\n",
       "         [0.79786361],\n",
       "         [0.79786361],\n",
       "         [0.94898256],\n",
       "         [0.94898256],\n",
       "         [0.94728399],\n",
       "         [0.94728399],\n",
       "         [0.47046765],\n",
       "         [0.47046765],\n",
       "         [0.82880775],\n",
       "         [0.82880775],\n",
       "         [0.71382456],\n",
       "         [0.71382456],\n",
       "         [0.1744611 ],\n",
       "         [0.1744611 ],\n",
       "         [0.65708278],\n",
       "         [0.65708278],\n",
       "         [0.22391001],\n",
       "         [0.22391001],\n",
       "         [0.76343351],\n",
       "         [0.76343351],\n",
       "         [0.31814584],\n",
       "         [0.31814584],\n",
       "         [0.18469907],\n",
       "         [0.18469907],\n",
       "         [0.52660248],\n",
       "         [0.52660248],\n",
       "         [0.14999024],\n",
       "         [0.14999024],\n",
       "         [0.06997225],\n",
       "         [0.06997225],\n",
       "         [0.45633345],\n",
       "         [0.45633345],\n",
       "         [0.87707407],\n",
       "         [0.87707407],\n",
       "         [0.35831411],\n",
       "         [0.35831411],\n",
       "         [0.43163057],\n",
       "         [0.43163057],\n",
       "         [0.79487272],\n",
       "         [0.79487272],\n",
       "         [0.15467924],\n",
       "         [0.15467924],\n",
       "         [0.81482081],\n",
       "         [0.81482081],\n",
       "         [0.64866293],\n",
       "         [0.64866293],\n",
       "         [0.53746534],\n",
       "         [0.53746534],\n",
       "         [0.21119354],\n",
       "         [0.21119354],\n",
       "         [0.19708053],\n",
       "         [0.19708053],\n",
       "         [0.54992522],\n",
       "         [0.54992522],\n",
       "         [0.73733435],\n",
       "         [0.73733435],\n",
       "         [0.32496888],\n",
       "         [0.32496888],\n",
       "         [0.70193183],\n",
       "         [0.70193183],\n",
       "         [0.81099903],\n",
       "         [0.81099903],\n",
       "         [0.58088958],\n",
       "         [0.58088958],\n",
       "         [0.44369835],\n",
       "         [0.44369835],\n",
       "         [0.23276985],\n",
       "         [0.23276985],\n",
       "         [0.64489135],\n",
       "         [0.64489135],\n",
       "         [0.84470645],\n",
       "         [0.84470645],\n",
       "         [0.62778234],\n",
       "         [0.62778234],\n",
       "         [0.56196202],\n",
       "         [0.56196202],\n",
       "         [0.87370871],\n",
       "         [0.87370871],\n",
       "         [0.99676544],\n",
       "         [0.99676544]])}}"
      ]
     },
     "execution_count": 1,
     "metadata": {},
     "output_type": "execute_result"
    }
   ],
   "source": [
    "ds = load_by_id(run_id_a)\n",
    "ds.get_parameter_data('x1')"
   ]
  },
  {
   "cell_type": "code",
   "execution_count": null,
   "metadata": {},
   "outputs": [],
   "source": []
  }
 ],
 "metadata": {
  "kernelspec": {
   "display_name": "Python 3",
   "language": "python",
   "name": "python3"
  },
  "language_info": {
   "codemirror_mode": {
    "name": "ipython",
    "version": 3
   },
   "file_extension": ".py",
   "mimetype": "text/x-python",
   "name": "python",
   "nbconvert_exporter": "python",
   "pygments_lexer": "ipython3",
   "version": "3.7.9"
  },
  "nbsphinx": {
   "timeout": 600
  },
  "toc": {
   "base_numbering": 1,
   "nav_menu": {},
   "number_sections": true,
   "sideBar": true,
   "skip_h1_title": false,
   "title_cell": "Table of Contents",
   "title_sidebar": "Contents",
   "toc_cell": false,
   "toc_position": {},
   "toc_section_display": true,
   "toc_window_display": false
  },
  "varInspector": {
   "cols": {
    "lenName": 16,
    "lenType": 16,
    "lenVar": 40
   },
   "kernels_config": {
    "python": {
     "delete_cmd_postfix": "",
     "delete_cmd_prefix": "del ",
     "library": "var_list.py",
     "varRefreshCmd": "print(var_dic_list())"
    },
    "r": {
     "delete_cmd_postfix": ") ",
     "delete_cmd_prefix": "rm(",
     "library": "var_list.r",
     "varRefreshCmd": "cat(var_dic_list()) "
    }
   },
   "types_to_exclude": [
    "module",
    "function",
    "builtin_function_or_method",
    "instance",
    "_Feature"
   ],
   "window_display": false
  }
 },
 "nbformat": 4,
 "nbformat_minor": 2
}
