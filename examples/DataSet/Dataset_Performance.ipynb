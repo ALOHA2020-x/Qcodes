{
 "cells": [
  {
   "cell_type": "markdown",
   "metadata": {},
   "source": [
    "# DataSet Performance\n",
    "\n",
    "This notebook shows the trade-off between inserting data into a database row-by-row and as binary blobs. Inserting the data row-by-row means that we have direct access to all the data and may perform queries directly on the values of the data. On the other hand, as we shall see, this is much slower than inserting the data directly as binary blobs."
   ]
  },
  {
   "cell_type": "markdown",
   "metadata": {},
   "source": [
    "First, we choose a new location for the database to ensure that we don't add a bunch of benchmarking data to the default one."
   ]
  },
  {
   "cell_type": "code",
   "execution_count": 1,
   "metadata": {
    "execution": {
     "iopub.execute_input": "2020-09-18T11:43:25.710307Z",
     "iopub.status.busy": "2020-09-18T11:43:25.709621Z",
     "iopub.status.idle": "2020-09-18T11:43:26.701344Z",
     "shell.execute_reply": "2020-09-18T11:43:26.700581Z"
    }
   },
   "outputs": [
    {
     "name": "stdout",
     "output_type": "stream",
     "text": [
      "Logging hadn't been started.\n",
      "Activating auto-logging. Current session state plus future input saved.\n",
      "Filename       : /home/vsts/.qcodes/logs/command_history.log\n",
      "Mode           : append\n",
      "Output logging : True\n",
      "Raw input log  : False\n",
      "Timestamping   : True\n",
      "State          : active\n"
     ]
    },
    {
     "name": "stdout",
     "output_type": "stream",
     "text": [
      "Qcodes Logfile : /home/vsts/.qcodes/logs/200918-18827-qcodes.log\n"
     ]
    }
   ],
   "source": [
    "import os\n",
    "cwd = os.getcwd()\n",
    "import qcodes as qc\n",
    "qc.config[\"core\"][\"db_location\"] = os.path.join(cwd, 'testing.db')\n"
   ]
  },
  {
   "cell_type": "code",
   "execution_count": 2,
   "metadata": {
    "execution": {
     "iopub.execute_input": "2020-09-18T11:43:26.712263Z",
     "iopub.status.busy": "2020-09-18T11:43:26.710030Z",
     "iopub.status.idle": "2020-09-18T11:43:26.879165Z",
     "shell.execute_reply": "2020-09-18T11:43:26.878071Z"
    }
   },
   "outputs": [],
   "source": [
    "%matplotlib inline\n",
    "import time\n",
    "import matplotlib.pyplot as plt\n",
    "import numpy as np\n",
    "\n",
    "import qcodes as qc\n",
    "from qcodes.instrument.parameter import ManualParameter\n",
    "from qcodes.dataset.experiment_container import (Experiment,\n",
    "                                                 load_last_experiment,\n",
    "                                                 new_experiment)\n",
    "from qcodes.dataset.sqlite.database import initialise_database\n",
    "from qcodes import load_or_create_experiment\n",
    "from qcodes.dataset.measurements import Measurement"
   ]
  },
  {
   "cell_type": "code",
   "execution_count": 3,
   "metadata": {
    "execution": {
     "iopub.execute_input": "2020-09-18T11:43:26.883318Z",
     "iopub.status.busy": "2020-09-18T11:43:26.882554Z",
     "iopub.status.idle": "2020-09-18T11:43:26.974496Z",
     "shell.execute_reply": "2020-09-18T11:43:26.973995Z"
    }
   },
   "outputs": [
    {
     "name": "stdout",
     "output_type": "stream",
     "text": [
      "\r",
      "0it [00:00, ?it/s]"
     ]
    },
    {
     "name": "stdout",
     "output_type": "stream",
     "text": [
      "\r",
      "Upgrading database; v0 -> v1: : 0it [00:00, ?it/s]"
     ]
    },
    {
     "name": "stdout",
     "output_type": "stream",
     "text": [
      "\r",
      "Upgrading database; v0 -> v1: : 0it [00:00, ?it/s]"
     ]
    },
    {
     "name": "stdout",
     "output_type": "stream",
     "text": [
      "\n",
      "\r",
      "  0%|          | 0/1 [00:00<?, ?it/s]"
     ]
    },
    {
     "name": "stdout",
     "output_type": "stream",
     "text": [
      "\r",
      "Upgrading database; v1 -> v2:   0%|          | 0/1 [00:00<?, ?it/s]"
     ]
    },
    {
     "name": "stdout",
     "output_type": "stream",
     "text": [
      "\r",
      "Upgrading database; v1 -> v2: 100%|██████████| 1/1 [00:00<00:00, 432.76it/s]"
     ]
    },
    {
     "name": "stdout",
     "output_type": "stream",
     "text": [
      "\n",
      "\r",
      "0it [00:00, ?it/s]"
     ]
    },
    {
     "name": "stdout",
     "output_type": "stream",
     "text": [
      "\r",
      "Upgrading database; v2 -> v3: : 0it [00:00, ?it/s]"
     ]
    },
    {
     "name": "stdout",
     "output_type": "stream",
     "text": [
      "\r",
      "Upgrading database; v2 -> v3: : 0it [00:00, ?it/s]"
     ]
    },
    {
     "name": "stdout",
     "output_type": "stream",
     "text": [
      "\n",
      "\r",
      "0it [00:00, ?it/s]"
     ]
    },
    {
     "name": "stdout",
     "output_type": "stream",
     "text": [
      "\r",
      "Upgrading database; v3 -> v4: : 0it [00:00, ?it/s]"
     ]
    },
    {
     "name": "stdout",
     "output_type": "stream",
     "text": [
      "\r",
      "Upgrading database; v3 -> v4: : 0it [00:00, ?it/s]"
     ]
    },
    {
     "name": "stdout",
     "output_type": "stream",
     "text": [
      "\n",
      "\r",
      "  0%|          | 0/1 [00:00<?, ?it/s]"
     ]
    },
    {
     "name": "stdout",
     "output_type": "stream",
     "text": [
      "\r",
      "Upgrading database; v4 -> v5:   0%|          | 0/1 [00:00<?, ?it/s]"
     ]
    },
    {
     "name": "stdout",
     "output_type": "stream",
     "text": [
      "\r",
      "Upgrading database; v4 -> v5: 100%|██████████| 1/1 [00:00<00:00, 379.09it/s]"
     ]
    },
    {
     "name": "stdout",
     "output_type": "stream",
     "text": [
      "\n",
      "\r",
      "0it [00:00, ?it/s]"
     ]
    },
    {
     "name": "stdout",
     "output_type": "stream",
     "text": [
      "\r",
      "Upgrading database; v5 -> v6: : 0it [00:00, ?it/s]"
     ]
    },
    {
     "name": "stdout",
     "output_type": "stream",
     "text": [
      "\r",
      "Upgrading database; v5 -> v6: : 0it [00:00, ?it/s]"
     ]
    },
    {
     "name": "stdout",
     "output_type": "stream",
     "text": [
      "\n",
      "\r",
      "  0%|          | 0/1 [00:00<?, ?it/s]"
     ]
    },
    {
     "name": "stdout",
     "output_type": "stream",
     "text": [
      "\r",
      "Upgrading database; v6 -> v7:   0%|          | 0/1 [00:00<?, ?it/s]"
     ]
    },
    {
     "name": "stdout",
     "output_type": "stream",
     "text": [
      "\r",
      "Upgrading database; v6 -> v7: 100%|██████████| 1/1 [00:00<00:00, 336.65it/s]"
     ]
    },
    {
     "name": "stdout",
     "output_type": "stream",
     "text": [
      "\n",
      "\r",
      "  0%|          | 0/1 [00:00<?, ?it/s]"
     ]
    },
    {
     "name": "stdout",
     "output_type": "stream",
     "text": [
      "\r",
      "Upgrading database; v7 -> v8:   0%|          | 0/1 [00:00<?, ?it/s]"
     ]
    },
    {
     "name": "stdout",
     "output_type": "stream",
     "text": [
      "\r",
      "Upgrading database; v7 -> v8: 100%|██████████| 1/1 [00:00<00:00, 672.27it/s]"
     ]
    },
    {
     "name": "stdout",
     "output_type": "stream",
     "text": [
      "\n",
      "\r",
      "  0%|          | 0/1 [00:00<?, ?it/s]"
     ]
    },
    {
     "name": "stdout",
     "output_type": "stream",
     "text": [
      "\r",
      "Upgrading database; v8 -> v9:   0%|          | 0/1 [00:00<?, ?it/s]"
     ]
    },
    {
     "name": "stdout",
     "output_type": "stream",
     "text": [
      "\r",
      "Upgrading database; v8 -> v9: 100%|██████████| 1/1 [00:00<00:00, 1122.97it/s]"
     ]
    },
    {
     "name": "stdout",
     "output_type": "stream",
     "text": [
      "\n"
     ]
    }
   ],
   "source": [
    "initialise_database()\n",
    "exp = load_or_create_experiment(experiment_name='tutorial_exp', sample_name=\"no sample\")"
   ]
  },
  {
   "cell_type": "markdown",
   "metadata": {},
   "source": [
    "Here, we define a simple function to benchmark the time it takes to insert n points with either numeric or array data type.\n",
    "We will compare both the time used to call ``add_result`` and the time used for the full measurement."
   ]
  },
  {
   "cell_type": "code",
   "execution_count": 4,
   "metadata": {
    "execution": {
     "iopub.execute_input": "2020-09-18T11:43:26.982775Z",
     "iopub.status.busy": "2020-09-18T11:43:26.982213Z",
     "iopub.status.idle": "2020-09-18T11:43:26.989974Z",
     "shell.execute_reply": "2020-09-18T11:43:26.989459Z"
    }
   },
   "outputs": [],
   "source": [
    "def insert_data(paramtype, npoints, nreps=1):\n",
    "\n",
    "    meas = Measurement(exp=exp)\n",
    "\n",
    "    x1 = ManualParameter('x1')\n",
    "    x2 = ManualParameter('x2')\n",
    "    x3 = ManualParameter('x3')\n",
    "    y1 = ManualParameter('y1')\n",
    "    y2 = ManualParameter('y2')\n",
    "\n",
    "    meas.register_parameter(x1, paramtype=paramtype)\n",
    "    meas.register_parameter(x2, paramtype=paramtype)\n",
    "    meas.register_parameter(x3, paramtype=paramtype)\n",
    "    meas.register_parameter(y1, setpoints=[x1, x2, x3],\n",
    "                            paramtype=paramtype)\n",
    "    meas.register_parameter(y2, setpoints=[x1, x2, x3],\n",
    "                            paramtype=paramtype)\n",
    "    start = time.perf_counter()\n",
    "    with meas.run() as datasaver:\n",
    "        start_adding = time.perf_counter()\n",
    "        for i in range(nreps):\n",
    "            datasaver.add_result((x1, np.random.rand(npoints)),\n",
    "                                 (x2, np.random.rand(npoints)),\n",
    "                                 (x3, np.random.rand(npoints)),\n",
    "                                 (y1, np.random.rand(npoints)),\n",
    "                                 (y2, np.random.rand(npoints)))\n",
    "        stop_adding = time.perf_counter()\n",
    "        run_id = datasaver.run_id\n",
    "    stop = time.perf_counter()\n",
    "    tot_time = stop - start\n",
    "    add_time = stop_adding - start_adding\n",
    "    return tot_time, add_time, run_id"
   ]
  },
  {
   "cell_type": "markdown",
   "metadata": {},
   "source": [
    "## Comparison between numeric/array data and binary blob"
   ]
  },
  {
   "cell_type": "markdown",
   "metadata": {},
   "source": [
    "### Case1: Short experiment time"
   ]
  },
  {
   "cell_type": "code",
   "execution_count": 5,
   "metadata": {
    "execution": {
     "iopub.execute_input": "2020-09-18T11:43:26.996830Z",
     "iopub.status.busy": "2020-09-18T11:43:26.996152Z",
     "iopub.status.idle": "2020-09-18T11:43:27.863905Z",
     "shell.execute_reply": "2020-09-18T11:43:27.863432Z"
    }
   },
   "outputs": [
    {
     "name": "stdout",
     "output_type": "stream",
     "text": [
      "Starting experimental run with id: 1. \n",
      "Starting experimental run with id: 2. \n",
      "Starting experimental run with id: 3. \n"
     ]
    },
    {
     "name": "stdout",
     "output_type": "stream",
     "text": [
      "Starting experimental run with id: 4. \n"
     ]
    },
    {
     "name": "stdout",
     "output_type": "stream",
     "text": [
      "Starting experimental run with id: 5. \n"
     ]
    },
    {
     "name": "stdout",
     "output_type": "stream",
     "text": [
      "Starting experimental run with id: 6. \n",
      "Starting experimental run with id: 7. \n"
     ]
    },
    {
     "name": "stdout",
     "output_type": "stream",
     "text": [
      "Starting experimental run with id: 8. \n",
      "Starting experimental run with id: 9. \n"
     ]
    },
    {
     "name": "stdout",
     "output_type": "stream",
     "text": [
      "Starting experimental run with id: 10. \n",
      "Starting experimental run with id: 11. \n",
      "Starting experimental run with id: 12. \n",
      "Starting experimental run with id: 13. \n"
     ]
    },
    {
     "name": "stdout",
     "output_type": "stream",
     "text": [
      "Starting experimental run with id: 14. \n"
     ]
    }
   ],
   "source": [
    "sizes = [1,500,1000,2000,3000,4000,5000]\n",
    "t_numeric = []\n",
    "t_numeric_add = []\n",
    "t_array = []\n",
    "t_array_add = []\n",
    "for size in sizes:\n",
    "    tn, tna, run_id_n =  insert_data('numeric', size)\n",
    "    t_numeric.append(tn)\n",
    "    t_numeric_add.append(tna)\n",
    "\n",
    "    ta, taa, run_id_a =  insert_data('array', size)\n",
    "    t_array.append(ta)\n",
    "    t_array_add.append(taa)"
   ]
  },
  {
   "cell_type": "code",
   "execution_count": 6,
   "metadata": {
    "execution": {
     "iopub.execute_input": "2020-09-18T11:43:27.869309Z",
     "iopub.status.busy": "2020-09-18T11:43:27.868796Z",
     "iopub.status.idle": "2020-09-18T11:43:28.054049Z",
     "shell.execute_reply": "2020-09-18T11:43:28.053216Z"
    }
   },
   "outputs": [
    {
     "data": {
      "image/png": "[encoded data removed]",
      "text/plain": [
       "<Figure size 432x288 with 1 Axes>"
      ]
     },
     "metadata": {
      "needs_background": "light"
     },
     "output_type": "display_data"
    }
   ],
   "source": [
    "fig, ax = plt.subplots(1,1)\n",
    "ax.plot(sizes, t_numeric, 'o-', label='Inserting row-by-row')\n",
    "ax.plot(sizes, t_numeric_add, 'o-', label='Inserting row-by-row: add_result only')\n",
    "ax.plot(sizes, t_array, 'd-', label='Inserting as binary blob')\n",
    "ax.plot(sizes, t_array_add, 'd-', label='Inserting as binary blob: add_result only')\n",
    "ax.legend()\n",
    "ax.set_xlabel('Array length')\n",
    "ax.set_ylabel('Time (s)')\n",
    "fig.tight_layout()"
   ]
  },
  {
   "cell_type": "markdown",
   "metadata": {},
   "source": [
    "As shown in the latter figure, the time to setup and and close the experiment is approximately 0.4 sec. In case of small array sizes, the difference between inserting values of data as arrays and inserting them row-by-row is relatively unimportant. At larger array sizes, i.e. above 10000 points, the cost of writing data as individual datapoints starts to become important.\n"
   ]
  },
  {
   "cell_type": "markdown",
   "metadata": {},
   "source": [
    "### Case2: Long experiment time "
   ]
  },
  {
   "cell_type": "code",
   "execution_count": 7,
   "metadata": {
    "execution": {
     "iopub.execute_input": "2020-09-18T11:43:28.059406Z",
     "iopub.status.busy": "2020-09-18T11:43:28.058873Z",
     "iopub.status.idle": "2020-09-18T11:44:24.945901Z",
     "shell.execute_reply": "2020-09-18T11:44:24.945061Z"
    }
   },
   "outputs": [
    {
     "name": "stdout",
     "output_type": "stream",
     "text": [
      "Starting experimental run with id: 15. \n",
      "Starting experimental run with id: 16. \n",
      "Starting experimental run with id: 17. \n"
     ]
    },
    {
     "name": "stdout",
     "output_type": "stream",
     "text": [
      "Starting experimental run with id: 18. \n",
      "Starting experimental run with id: 19. \n"
     ]
    },
    {
     "name": "stdout",
     "output_type": "stream",
     "text": [
      "Starting experimental run with id: 20. \n"
     ]
    },
    {
     "name": "stdout",
     "output_type": "stream",
     "text": [
      "Starting experimental run with id: 21. \n"
     ]
    },
    {
     "name": "stdout",
     "output_type": "stream",
     "text": [
      "Starting experimental run with id: 22. \n"
     ]
    },
    {
     "name": "stdout",
     "output_type": "stream",
     "text": [
      "Starting experimental run with id: 23. \n"
     ]
    },
    {
     "name": "stdout",
     "output_type": "stream",
     "text": [
      "Starting experimental run with id: 24. \n"
     ]
    },
    {
     "name": "stdout",
     "output_type": "stream",
     "text": [
      "Starting experimental run with id: 25. \n"
     ]
    },
    {
     "name": "stdout",
     "output_type": "stream",
     "text": [
      "Starting experimental run with id: 26. \n"
     ]
    },
    {
     "name": "stdout",
     "output_type": "stream",
     "text": [
      "Starting experimental run with id: 27. \n"
     ]
    },
    {
     "name": "stdout",
     "output_type": "stream",
     "text": [
      "Starting experimental run with id: 28. \n"
     ]
    }
   ],
   "source": [
    "sizes = [1,500,1000,2000,3000,4000,5000]\n",
    "nreps = 100\n",
    "t_numeric = []\n",
    "t_numeric_add = []\n",
    "t_numeric_run_ids = []\n",
    "t_array = []\n",
    "t_array_add = []\n",
    "t_array_run_ids = []\n",
    "for size in sizes:\n",
    "    tn, tna, run_id_n =  insert_data('numeric', size, nreps=nreps)\n",
    "    t_numeric.append(tn)\n",
    "    t_numeric_add.append(tna)\n",
    "    t_numeric_run_ids.append(run_id_n)\n",
    "\n",
    "    ta, taa, run_id_a =  insert_data('array', size, nreps=nreps)\n",
    "    t_array.append(ta)\n",
    "    t_array_add.append(taa)\n",
    "    t_array_run_ids.append(run_id_a)"
   ]
  },
  {
   "cell_type": "code",
   "execution_count": 8,
   "metadata": {
    "execution": {
     "iopub.execute_input": "2020-09-18T11:44:24.955960Z",
     "iopub.status.busy": "2020-09-18T11:44:24.955047Z",
     "iopub.status.idle": "2020-09-18T11:44:25.145446Z",
     "shell.execute_reply": "2020-09-18T11:44:25.145867Z"
    },
    "scrolled": true
   },
   "outputs": [
    {
     "data": {
      "image/png": "[encoded data removed]",
      "text/plain": [
       "<Figure size 432x288 with 1 Axes>"
      ]
     },
     "metadata": {
      "needs_background": "light"
     },
     "output_type": "display_data"
    }
   ],
   "source": [
    "fig, ax = plt.subplots(1,1)\n",
    "ax.plot(sizes, t_numeric, 'o-', label='Inserting row-by-row')\n",
    "ax.plot(sizes, t_numeric_add, 'o-', label='Inserting row-by-row: add_result only')\n",
    "ax.plot(sizes, t_array, 'd-', label='Inserting as binary blob')\n",
    "ax.plot(sizes, t_array_add, 'd-', label='Inserting as binary blob: add_result only')\n",
    "ax.legend()\n",
    "ax.set_xlabel('Array length')\n",
    "ax.set_ylabel('Time (s)')\n",
    "fig.tight_layout()"
   ]
  },
  {
   "cell_type": "markdown",
   "metadata": {},
   "source": [
    "However, as we increase the length of the experiment, as seen here by repeating the insertion 100 times, we see a big difference between inserting values of the data row-by-row and inserting it as a binary blob."
   ]
  },
  {
   "cell_type": "markdown",
   "metadata": {},
   "source": [
    "## Loading the data "
   ]
  },
  {
   "cell_type": "code",
   "execution_count": 9,
   "metadata": {
    "execution": {
     "iopub.execute_input": "2020-09-18T11:44:25.149955Z",
     "iopub.status.busy": "2020-09-18T11:44:25.149004Z",
     "iopub.status.idle": "2020-09-18T11:44:25.152358Z",
     "shell.execute_reply": "2020-09-18T11:44:25.151827Z"
    }
   },
   "outputs": [],
   "source": [
    "from qcodes.dataset.data_set import load_by_id\n",
    "from qcodes.dataset.data_export import get_data_by_id"
   ]
  },
  {
   "cell_type": "markdown",
   "metadata": {},
   "source": [
    "As usual you can load the data by using the ``load_by_id`` function but you will notice that the different storage methods\n",
    "are reflected in shape of the data as it is retrieved. "
   ]
  },
  {
   "cell_type": "code",
   "execution_count": 10,
   "metadata": {
    "execution": {
     "iopub.execute_input": "2020-09-18T11:44:25.157397Z",
     "iopub.status.busy": "2020-09-18T11:44:25.155935Z",
     "iopub.status.idle": "2020-09-18T11:44:25.157895Z",
     "shell.execute_reply": "2020-09-18T11:44:25.158413Z"
    }
   },
   "outputs": [],
   "source": [
    "run_id_n = t_numeric_run_ids[0]\n",
    "run_id_a = t_array_run_ids[0]"
   ]
  },
  {
   "cell_type": "code",
   "execution_count": 11,
   "metadata": {
    "execution": {
     "iopub.execute_input": "2020-09-18T11:44:25.161449Z",
     "iopub.status.busy": "2020-09-18T11:44:25.160942Z",
     "iopub.status.idle": "2020-09-18T11:44:25.169849Z",
     "shell.execute_reply": "2020-09-18T11:44:25.169401Z"
    },
    "scrolled": true
   },
   "outputs": [
    {
     "data": {
      "text/plain": [
       "{'x1': {'x1': array([0.10983247, 0.10983247, 0.11491405, 0.11491405, 0.33560643,\n",
       "         0.33560643, 0.00941648, 0.00941648, 0.43966444, 0.43966444,\n",
       "         0.65959008, 0.65959008, 0.1409118 , 0.1409118 , 0.86709381,\n",
       "         0.86709381, 0.01437821, 0.01437821, 0.7642031 , 0.7642031 ,\n",
       "         0.79315918, 0.79315918, 0.552863  , 0.552863  , 0.39030699,\n",
       "         0.39030699, 0.72718243, 0.72718243, 0.95214159, 0.95214159,\n",
       "         0.74702501, 0.74702501, 0.49492844, 0.49492844, 0.18686268,\n",
       "         0.18686268, 0.12427019, 0.12427019, 0.49622993, 0.49622993,\n",
       "         0.54022558, 0.54022558, 0.2114919 , 0.2114919 , 0.93867246,\n",
       "         0.93867246, 0.24628092, 0.24628092, 0.54857866, 0.54857866,\n",
       "         0.46687399, 0.46687399, 0.6980353 , 0.6980353 , 0.25481933,\n",
       "         0.25481933, 0.33284716, 0.33284716, 0.86625763, 0.86625763,\n",
       "         0.36525332, 0.36525332, 0.26373237, 0.26373237, 0.42475896,\n",
       "         0.42475896, 0.79017245, 0.79017245, 0.62923476, 0.62923476,\n",
       "         0.84641162, 0.84641162, 0.86668122, 0.86668122, 0.70070703,\n",
       "         0.70070703, 0.60058845, 0.60058845, 0.08405594, 0.08405594,\n",
       "         0.77489286, 0.77489286, 0.53709707, 0.53709707, 0.03695491,\n",
       "         0.03695491, 0.89514463, 0.89514463, 0.07408068, 0.07408068,\n",
       "         0.339576  , 0.339576  , 0.07311768, 0.07311768, 0.12309088,\n",
       "         0.12309088, 0.75781123, 0.75781123, 0.81995987, 0.81995987,\n",
       "         0.08940802, 0.08940802, 0.67188519, 0.67188519, 0.50684585,\n",
       "         0.50684585, 0.66712659, 0.66712659, 0.7106736 , 0.7106736 ,\n",
       "         0.7085897 , 0.7085897 , 0.30611157, 0.30611157, 0.96085203,\n",
       "         0.96085203, 0.5428375 , 0.5428375 , 0.11186583, 0.11186583,\n",
       "         0.76037014, 0.76037014, 0.92087837, 0.92087837, 0.03045512,\n",
       "         0.03045512, 0.44657997, 0.44657997, 0.88912314, 0.88912314,\n",
       "         0.69914279, 0.69914279, 0.89778183, 0.89778183, 0.2116003 ,\n",
       "         0.2116003 , 0.09683865, 0.09683865, 0.41449948, 0.41449948,\n",
       "         0.64260605, 0.64260605, 0.16081323, 0.16081323, 0.25889478,\n",
       "         0.25889478, 0.48841818, 0.48841818, 0.71536169, 0.71536169,\n",
       "         0.88676455, 0.88676455, 0.21075811, 0.21075811, 0.44039967,\n",
       "         0.44039967, 0.67784236, 0.67784236, 0.28228757, 0.28228757,\n",
       "         0.91202908, 0.91202908, 0.82962804, 0.82962804, 0.81787272,\n",
       "         0.81787272, 0.1103081 , 0.1103081 , 0.46921926, 0.46921926,\n",
       "         0.94142862, 0.94142862, 0.02998921, 0.02998921, 0.23371849,\n",
       "         0.23371849, 0.17245835, 0.17245835, 0.29836014, 0.29836014,\n",
       "         0.14356707, 0.14356707, 0.59117869, 0.59117869, 0.82624618,\n",
       "         0.82624618, 0.93690788, 0.93690788, 0.38078497, 0.38078497,\n",
       "         0.50720608, 0.50720608, 0.16201687, 0.16201687, 0.93080606,\n",
       "         0.93080606, 0.2401148 , 0.2401148 , 0.55773669, 0.55773669])}}"
      ]
     },
     "execution_count": 1,
     "metadata": {},
     "output_type": "execute_result"
    }
   ],
   "source": [
    "ds = load_by_id(run_id_n)\n",
    "ds.get_parameter_data('x1')"
   ]
  },
  {
   "cell_type": "markdown",
   "metadata": {},
   "source": [
    "And a dataset stored as binary arrays"
   ]
  },
  {
   "cell_type": "code",
   "execution_count": 12,
   "metadata": {
    "execution": {
     "iopub.execute_input": "2020-09-18T11:44:25.173080Z",
     "iopub.status.busy": "2020-09-18T11:44:25.172586Z",
     "iopub.status.idle": "2020-09-18T11:44:25.227397Z",
     "shell.execute_reply": "2020-09-18T11:44:25.226845Z"
    },
    "scrolled": true
   },
   "outputs": [
    {
     "data": {
      "text/plain": [
       "{'x1': {'x1': array([[0.77669402],\n",
       "         [0.77669402],\n",
       "         [0.24767991],\n",
       "         [0.24767991],\n",
       "         [0.48731506],\n",
       "         [0.48731506],\n",
       "         [0.41400634],\n",
       "         [0.41400634],\n",
       "         [0.60657884],\n",
       "         [0.60657884],\n",
       "         [0.65829011],\n",
       "         [0.65829011],\n",
       "         [0.80574284],\n",
       "         [0.80574284],\n",
       "         [0.6923655 ],\n",
       "         [0.6923655 ],\n",
       "         [0.4666571 ],\n",
       "         [0.4666571 ],\n",
       "         [0.77276431],\n",
       "         [0.77276431],\n",
       "         [0.40834072],\n",
       "         [0.40834072],\n",
       "         [0.48321146],\n",
       "         [0.48321146],\n",
       "         [0.91326322],\n",
       "         [0.91326322],\n",
       "         [0.75696635],\n",
       "         [0.75696635],\n",
       "         [0.64966986],\n",
       "         [0.64966986],\n",
       "         [0.46014218],\n",
       "         [0.46014218],\n",
       "         [0.9405571 ],\n",
       "         [0.9405571 ],\n",
       "         [0.27202988],\n",
       "         [0.27202988],\n",
       "         [0.92631354],\n",
       "         [0.92631354],\n",
       "         [0.42831492],\n",
       "         [0.42831492],\n",
       "         [0.88034377],\n",
       "         [0.88034377],\n",
       "         [0.8565868 ],\n",
       "         [0.8565868 ],\n",
       "         [0.74917451],\n",
       "         [0.74917451],\n",
       "         [0.82525148],\n",
       "         [0.82525148],\n",
       "         [0.91234949],\n",
       "         [0.91234949],\n",
       "         [0.49520849],\n",
       "         [0.49520849],\n",
       "         [0.46939703],\n",
       "         [0.46939703],\n",
       "         [0.78737377],\n",
       "         [0.78737377],\n",
       "         [0.43429054],\n",
       "         [0.43429054],\n",
       "         [0.07772166],\n",
       "         [0.07772166],\n",
       "         [0.03917073],\n",
       "         [0.03917073],\n",
       "         [0.8820143 ],\n",
       "         [0.8820143 ],\n",
       "         [0.48755406],\n",
       "         [0.48755406],\n",
       "         [0.64638184],\n",
       "         [0.64638184],\n",
       "         [0.66318521],\n",
       "         [0.66318521],\n",
       "         [0.67317152],\n",
       "         [0.67317152],\n",
       "         [0.1062908 ],\n",
       "         [0.1062908 ],\n",
       "         [0.21434819],\n",
       "         [0.21434819],\n",
       "         [0.90766368],\n",
       "         [0.90766368],\n",
       "         [0.86272929],\n",
       "         [0.86272929],\n",
       "         [0.63066976],\n",
       "         [0.63066976],\n",
       "         [0.24573998],\n",
       "         [0.24573998],\n",
       "         [0.60498379],\n",
       "         [0.60498379],\n",
       "         [0.84221441],\n",
       "         [0.84221441],\n",
       "         [0.52563003],\n",
       "         [0.52563003],\n",
       "         [0.84714815],\n",
       "         [0.84714815],\n",
       "         [0.14749639],\n",
       "         [0.14749639],\n",
       "         [0.36098506],\n",
       "         [0.36098506],\n",
       "         [0.34124497],\n",
       "         [0.34124497],\n",
       "         [0.23397994],\n",
       "         [0.23397994],\n",
       "         [0.86189783],\n",
       "         [0.86189783],\n",
       "         [0.68680226],\n",
       "         [0.68680226],\n",
       "         [0.48733346],\n",
       "         [0.48733346],\n",
       "         [0.28216584],\n",
       "         [0.28216584],\n",
       "         [0.08169438],\n",
       "         [0.08169438],\n",
       "         [0.7234905 ],\n",
       "         [0.7234905 ],\n",
       "         [0.33448763],\n",
       "         [0.33448763],\n",
       "         [0.87300161],\n",
       "         [0.87300161],\n",
       "         [0.19004501],\n",
       "         [0.19004501],\n",
       "         [0.0895563 ],\n",
       "         [0.0895563 ],\n",
       "         [0.59389006],\n",
       "         [0.59389006],\n",
       "         [0.71618626],\n",
       "         [0.71618626],\n",
       "         [0.89928329],\n",
       "         [0.89928329],\n",
       "         [0.03245553],\n",
       "         [0.03245553],\n",
       "         [0.72921924],\n",
       "         [0.72921924],\n",
       "         [0.62636224],\n",
       "         [0.62636224],\n",
       "         [0.66227602],\n",
       "         [0.66227602],\n",
       "         [0.3610157 ],\n",
       "         [0.3610157 ],\n",
       "         [0.71355554],\n",
       "         [0.71355554],\n",
       "         [0.12096395],\n",
       "         [0.12096395],\n",
       "         [0.46562555],\n",
       "         [0.46562555],\n",
       "         [0.70239298],\n",
       "         [0.70239298],\n",
       "         [0.52483764],\n",
       "         [0.52483764],\n",
       "         [0.46447201],\n",
       "         [0.46447201],\n",
       "         [0.7230218 ],\n",
       "         [0.7230218 ],\n",
       "         [0.8784387 ],\n",
       "         [0.8784387 ],\n",
       "         [0.03415839],\n",
       "         [0.03415839],\n",
       "         [0.39683824],\n",
       "         [0.39683824],\n",
       "         [0.46586293],\n",
       "         [0.46586293],\n",
       "         [0.08641251],\n",
       "         [0.08641251],\n",
       "         [0.07128768],\n",
       "         [0.07128768],\n",
       "         [0.10243611],\n",
       "         [0.10243611],\n",
       "         [0.52733847],\n",
       "         [0.52733847],\n",
       "         [0.44221233],\n",
       "         [0.44221233],\n",
       "         [0.70945384],\n",
       "         [0.70945384],\n",
       "         [0.39887657],\n",
       "         [0.39887657],\n",
       "         [0.04207178],\n",
       "         [0.04207178],\n",
       "         [0.66967463],\n",
       "         [0.66967463],\n",
       "         [0.97425344],\n",
       "         [0.97425344],\n",
       "         [0.1836341 ],\n",
       "         [0.1836341 ],\n",
       "         [0.73411832],\n",
       "         [0.73411832],\n",
       "         [0.5684592 ],\n",
       "         [0.5684592 ],\n",
       "         [0.01593179],\n",
       "         [0.01593179],\n",
       "         [0.66438405],\n",
       "         [0.66438405],\n",
       "         [0.19618634],\n",
       "         [0.19618634],\n",
       "         [0.97442937],\n",
       "         [0.97442937],\n",
       "         [0.56990659],\n",
       "         [0.56990659],\n",
       "         [0.08393941],\n",
       "         [0.08393941],\n",
       "         [0.12444821],\n",
       "         [0.12444821],\n",
       "         [0.1349344 ],\n",
       "         [0.1349344 ]])}}"
      ]
     },
     "execution_count": 1,
     "metadata": {},
     "output_type": "execute_result"
    }
   ],
   "source": [
    "ds = load_by_id(run_id_a)\n",
    "ds.get_parameter_data('x1')"
   ]
  },
  {
   "cell_type": "code",
   "execution_count": null,
   "metadata": {},
   "outputs": [],
   "source": []
  }
 ],
 "metadata": {
  "kernelspec": {
   "display_name": "Python 3",
   "language": "python",
   "name": "python3"
  },
  "language_info": {
   "codemirror_mode": {
    "name": "ipython",
    "version": 3
   },
   "file_extension": ".py",
   "mimetype": "text/x-python",
   "name": "python",
   "nbconvert_exporter": "python",
   "pygments_lexer": "ipython3",
   "version": "3.7.7"
  },
  "nbsphinx": {
   "timeout": 600
  },
  "toc": {
   "base_numbering": 1,
   "nav_menu": {},
   "number_sections": true,
   "sideBar": true,
   "skip_h1_title": false,
   "title_cell": "Table of Contents",
   "title_sidebar": "Contents",
   "toc_cell": false,
   "toc_position": {},
   "toc_section_display": true,
   "toc_window_display": false
  },
  "varInspector": {
   "cols": {
    "lenName": 16,
    "lenType": 16,
    "lenVar": 40
   },
   "kernels_config": {
    "python": {
     "delete_cmd_postfix": "",
     "delete_cmd_prefix": "del ",
     "library": "var_list.py",
     "varRefreshCmd": "print(var_dic_list())"
    },
    "r": {
     "delete_cmd_postfix": ") ",
     "delete_cmd_prefix": "rm(",
     "library": "var_list.r",
     "varRefreshCmd": "cat(var_dic_list()) "
    }
   },
   "types_to_exclude": [
    "module",
    "function",
    "builtin_function_or_method",
    "instance",
    "_Feature"
   ],
   "window_display": false
  }
 },
 "nbformat": 4,
 "nbformat_minor": 2
}
