{
 "cells": [
  {
   "cell_type": "markdown",
   "metadata": {},
   "source": [
    "# DataSet Performance\n",
    "\n",
    "This notebook shows the trade-off between inserting data into a database row-by-row and as binary blobs. Inserting the data row-by-row means that we have direct access to all the data and may perform queries directly on the values of the data. On the other hand, as we shall see, this is much slower than inserting the data directly as binary blobs."
   ]
  },
  {
   "cell_type": "markdown",
   "metadata": {},
   "source": [
    "First, we choose a new location for the database to ensure that we don't add a bunch of benchmarking data to the default one."
   ]
  },
  {
   "cell_type": "code",
   "execution_count": 1,
   "metadata": {
    "execution": {
     "iopub.execute_input": "2021-02-11T12:45:31.083338Z",
     "iopub.status.busy": "2021-02-11T12:45:31.082823Z",
     "iopub.status.idle": "2021-02-11T12:45:32.060190Z",
     "shell.execute_reply": "2021-02-11T12:45:32.060667Z"
    }
   },
   "outputs": [
    {
     "name": "stdout",
     "output_type": "stream",
     "text": [
      "Logging hadn't been started.\n",
      "Activating auto-logging. Current session state plus future input saved.\n",
      "Filename       : /home/vsts/.qcodes/logs/command_history.log\n",
      "Mode           : append\n",
      "Output logging : True\n",
      "Raw input log  : False\n",
      "Timestamping   : True\n",
      "State          : active\n"
     ]
    },
    {
     "name": "stdout",
     "output_type": "stream",
     "text": [
      "Qcodes Logfile : /home/vsts/.qcodes/logs/210211-7126-qcodes.log\n"
     ]
    }
   ],
   "source": [
    "import os\n",
    "cwd = os.getcwd()\n",
    "import qcodes as qc\n",
    "qc.config[\"core\"][\"db_location\"] = os.path.join(cwd, 'testing.db')\n"
   ]
  },
  {
   "cell_type": "code",
   "execution_count": 2,
   "metadata": {
    "execution": {
     "iopub.execute_input": "2021-02-11T12:45:32.068289Z",
     "iopub.status.busy": "2021-02-11T12:45:32.066701Z",
     "iopub.status.idle": "2021-02-11T12:45:32.259510Z",
     "shell.execute_reply": "2021-02-11T12:45:32.258914Z"
    }
   },
   "outputs": [],
   "source": [
    "%matplotlib inline\n",
    "import time\n",
    "import matplotlib.pyplot as plt\n",
    "import numpy as np\n",
    "\n",
    "import qcodes as qc\n",
    "from qcodes.instrument.parameter import ManualParameter\n",
    "from qcodes.dataset.experiment_container import (Experiment,\n",
    "                                                 load_last_experiment,\n",
    "                                                 new_experiment)\n",
    "from qcodes.dataset.sqlite.database import initialise_database\n",
    "from qcodes import load_or_create_experiment\n",
    "from qcodes.dataset.measurements import Measurement"
   ]
  },
  {
   "cell_type": "code",
   "execution_count": 3,
   "metadata": {
    "execution": {
     "iopub.execute_input": "2021-02-11T12:45:32.263670Z",
     "iopub.status.busy": "2021-02-11T12:45:32.263032Z",
     "iopub.status.idle": "2021-02-11T12:45:32.377982Z",
     "shell.execute_reply": "2021-02-11T12:45:32.377505Z"
    }
   },
   "outputs": [
    {
     "name": "stdout",
     "output_type": "stream",
     "text": [
      "\r",
      "0it [00:00, ?it/s]"
     ]
    },
    {
     "name": "stdout",
     "output_type": "stream",
     "text": [
      "\r",
      "Upgrading database; v0 -> v1: : 0it [00:00, ?it/s]"
     ]
    },
    {
     "name": "stdout",
     "output_type": "stream",
     "text": [
      "\r",
      "Upgrading database; v0 -> v1: : 0it [00:00, ?it/s]"
     ]
    },
    {
     "name": "stdout",
     "output_type": "stream",
     "text": [
      "\n",
      "\r",
      "  0%|          | 0/1 [00:00<?, ?it/s]"
     ]
    },
    {
     "name": "stdout",
     "output_type": "stream",
     "text": [
      "\r",
      "Upgrading database; v1 -> v2:   0%|          | 0/1 [00:00<?, ?it/s]"
     ]
    },
    {
     "name": "stdout",
     "output_type": "stream",
     "text": [
      "\r",
      "Upgrading database; v1 -> v2: 100%|██████████| 1/1 [00:00<00:00, 459.35it/s]"
     ]
    },
    {
     "name": "stdout",
     "output_type": "stream",
     "text": [
      "\n",
      "\r",
      "0it [00:00, ?it/s]"
     ]
    },
    {
     "name": "stdout",
     "output_type": "stream",
     "text": [
      "\r",
      "Upgrading database; v2 -> v3: : 0it [00:00, ?it/s]"
     ]
    },
    {
     "name": "stdout",
     "output_type": "stream",
     "text": [
      "\r",
      "Upgrading database; v2 -> v3: : 0it [00:00, ?it/s]"
     ]
    },
    {
     "name": "stdout",
     "output_type": "stream",
     "text": [
      "\n",
      "\r",
      "0it [00:00, ?it/s]"
     ]
    },
    {
     "name": "stdout",
     "output_type": "stream",
     "text": [
      "\r",
      "Upgrading database; v3 -> v4: : 0it [00:00, ?it/s]"
     ]
    },
    {
     "name": "stdout",
     "output_type": "stream",
     "text": [
      "\r",
      "Upgrading database; v3 -> v4: : 0it [00:00, ?it/s]"
     ]
    },
    {
     "name": "stdout",
     "output_type": "stream",
     "text": [
      "\n",
      "\r",
      "  0%|          | 0/1 [00:00<?, ?it/s]"
     ]
    },
    {
     "name": "stdout",
     "output_type": "stream",
     "text": [
      "\r",
      "Upgrading database; v4 -> v5:   0%|          | 0/1 [00:00<?, ?it/s]"
     ]
    },
    {
     "name": "stdout",
     "output_type": "stream",
     "text": [
      "\r",
      "Upgrading database; v4 -> v5: 100%|██████████| 1/1 [00:00<00:00, 442.76it/s]"
     ]
    },
    {
     "name": "stdout",
     "output_type": "stream",
     "text": [
      "\n",
      "\r",
      "0it [00:00, ?it/s]"
     ]
    },
    {
     "name": "stdout",
     "output_type": "stream",
     "text": [
      "\r",
      "Upgrading database; v5 -> v6: : 0it [00:00, ?it/s]"
     ]
    },
    {
     "name": "stdout",
     "output_type": "stream",
     "text": [
      "\r",
      "Upgrading database; v5 -> v6: : 0it [00:00, ?it/s]"
     ]
    },
    {
     "name": "stdout",
     "output_type": "stream",
     "text": [
      "\n",
      "\r",
      "  0%|          | 0/1 [00:00<?, ?it/s]"
     ]
    },
    {
     "name": "stdout",
     "output_type": "stream",
     "text": [
      "\r",
      "Upgrading database; v6 -> v7:   0%|          | 0/1 [00:00<?, ?it/s]"
     ]
    },
    {
     "name": "stdout",
     "output_type": "stream",
     "text": [
      "\r",
      "Upgrading database; v6 -> v7: 100%|██████████| 1/1 [00:00<00:00, 407.81it/s]"
     ]
    },
    {
     "name": "stdout",
     "output_type": "stream",
     "text": [
      "\n",
      "\r",
      "  0%|          | 0/1 [00:00<?, ?it/s]"
     ]
    },
    {
     "name": "stdout",
     "output_type": "stream",
     "text": [
      "\r",
      "Upgrading database; v7 -> v8:   0%|          | 0/1 [00:00<?, ?it/s]"
     ]
    },
    {
     "name": "stdout",
     "output_type": "stream",
     "text": [
      "\r",
      "Upgrading database; v7 -> v8: 100%|██████████| 1/1 [00:00<00:00, 819.04it/s]"
     ]
    },
    {
     "name": "stdout",
     "output_type": "stream",
     "text": [
      "\n",
      "\r",
      "  0%|          | 0/1 [00:00<?, ?it/s]"
     ]
    },
    {
     "name": "stdout",
     "output_type": "stream",
     "text": [
      "\r",
      "Upgrading database; v8 -> v9:   0%|          | 0/1 [00:00<?, ?it/s]"
     ]
    },
    {
     "name": "stdout",
     "output_type": "stream",
     "text": [
      "\r",
      "Upgrading database; v8 -> v9: 100%|██████████| 1/1 [00:00<00:00, 483.33it/s]"
     ]
    },
    {
     "name": "stdout",
     "output_type": "stream",
     "text": [
      "\n"
     ]
    }
   ],
   "source": [
    "initialise_database()\n",
    "exp = load_or_create_experiment(experiment_name='tutorial_exp', sample_name=\"no sample\")"
   ]
  },
  {
   "cell_type": "markdown",
   "metadata": {},
   "source": [
    "Here, we define a simple function to benchmark the time it takes to insert n points with either numeric or array data type.\n",
    "We will compare both the time used to call ``add_result`` and the time used for the full measurement."
   ]
  },
  {
   "cell_type": "code",
   "execution_count": 4,
   "metadata": {
    "execution": {
     "iopub.execute_input": "2021-02-11T12:45:32.385963Z",
     "iopub.status.busy": "2021-02-11T12:45:32.385453Z",
     "iopub.status.idle": "2021-02-11T12:45:32.389375Z",
     "shell.execute_reply": "2021-02-11T12:45:32.388998Z"
    }
   },
   "outputs": [],
   "source": [
    "def insert_data(paramtype, npoints, nreps=1):\n",
    "\n",
    "    meas = Measurement(exp=exp)\n",
    "\n",
    "    x1 = ManualParameter('x1')\n",
    "    x2 = ManualParameter('x2')\n",
    "    x3 = ManualParameter('x3')\n",
    "    y1 = ManualParameter('y1')\n",
    "    y2 = ManualParameter('y2')\n",
    "\n",
    "    meas.register_parameter(x1, paramtype=paramtype)\n",
    "    meas.register_parameter(x2, paramtype=paramtype)\n",
    "    meas.register_parameter(x3, paramtype=paramtype)\n",
    "    meas.register_parameter(y1, setpoints=[x1, x2, x3],\n",
    "                            paramtype=paramtype)\n",
    "    meas.register_parameter(y2, setpoints=[x1, x2, x3],\n",
    "                            paramtype=paramtype)\n",
    "    start = time.perf_counter()\n",
    "    with meas.run() as datasaver:\n",
    "        start_adding = time.perf_counter()\n",
    "        for i in range(nreps):\n",
    "            datasaver.add_result((x1, np.random.rand(npoints)),\n",
    "                                 (x2, np.random.rand(npoints)),\n",
    "                                 (x3, np.random.rand(npoints)),\n",
    "                                 (y1, np.random.rand(npoints)),\n",
    "                                 (y2, np.random.rand(npoints)))\n",
    "        stop_adding = time.perf_counter()\n",
    "        run_id = datasaver.run_id\n",
    "    stop = time.perf_counter()\n",
    "    tot_time = stop - start\n",
    "    add_time = stop_adding - start_adding\n",
    "    return tot_time, add_time, run_id"
   ]
  },
  {
   "cell_type": "markdown",
   "metadata": {},
   "source": [
    "## Comparison between numeric/array data and binary blob"
   ]
  },
  {
   "cell_type": "markdown",
   "metadata": {},
   "source": [
    "### Case1: Short experiment time"
   ]
  },
  {
   "cell_type": "code",
   "execution_count": 5,
   "metadata": {
    "execution": {
     "iopub.execute_input": "2021-02-11T12:45:32.395936Z",
     "iopub.status.busy": "2021-02-11T12:45:32.395201Z",
     "iopub.status.idle": "2021-02-11T12:45:33.131892Z",
     "shell.execute_reply": "2021-02-11T12:45:33.131379Z"
    }
   },
   "outputs": [
    {
     "name": "stdout",
     "output_type": "stream",
     "text": [
      "Starting experimental run with id: 1. \n",
      "Starting experimental run with id: 2. \n",
      "Starting experimental run with id: 3. \n",
      "Starting experimental run with id: 4. \n",
      "Starting experimental run with id: 5. \n"
     ]
    },
    {
     "name": "stdout",
     "output_type": "stream",
     "text": [
      "Starting experimental run with id: 6. \n"
     ]
    },
    {
     "name": "stdout",
     "output_type": "stream",
     "text": [
      "Starting experimental run with id: 7. \n"
     ]
    },
    {
     "name": "stdout",
     "output_type": "stream",
     "text": [
      "Starting experimental run with id: 8. \n",
      "Starting experimental run with id: 9. \n"
     ]
    },
    {
     "name": "stdout",
     "output_type": "stream",
     "text": [
      "Starting experimental run with id: 10. \n"
     ]
    },
    {
     "name": "stdout",
     "output_type": "stream",
     "text": [
      "Starting experimental run with id: 11. \n"
     ]
    },
    {
     "name": "stdout",
     "output_type": "stream",
     "text": [
      "Starting experimental run with id: 12. \n",
      "Starting experimental run with id: 13. \n"
     ]
    },
    {
     "name": "stdout",
     "output_type": "stream",
     "text": [
      "Starting experimental run with id: 14. \n"
     ]
    }
   ],
   "source": [
    "sizes = [1,500,1000,2000,3000,4000,5000]\n",
    "t_numeric = []\n",
    "t_numeric_add = []\n",
    "t_array = []\n",
    "t_array_add = []\n",
    "for size in sizes:\n",
    "    tn, tna, run_id_n =  insert_data('numeric', size)\n",
    "    t_numeric.append(tn)\n",
    "    t_numeric_add.append(tna)\n",
    "\n",
    "    ta, taa, run_id_a =  insert_data('array', size)\n",
    "    t_array.append(ta)\n",
    "    t_array_add.append(taa)"
   ]
  },
  {
   "cell_type": "code",
   "execution_count": 6,
   "metadata": {
    "execution": {
     "iopub.execute_input": "2021-02-11T12:45:33.148403Z",
     "iopub.status.busy": "2021-02-11T12:45:33.143904Z",
     "iopub.status.idle": "2021-02-11T12:45:33.321087Z",
     "shell.execute_reply": "2021-02-11T12:45:33.321619Z"
    }
   },
   "outputs": [
    {
     "data": {
      "image/png": "[encoded data removed]",
      "text/plain": [
       "<Figure size 432x288 with 1 Axes>"
      ]
     },
     "metadata": {
      "needs_background": "light"
     },
     "output_type": "display_data"
    }
   ],
   "source": [
    "fig, ax = plt.subplots(1,1)\n",
    "ax.plot(sizes, t_numeric, 'o-', label='Inserting row-by-row')\n",
    "ax.plot(sizes, t_numeric_add, 'o-', label='Inserting row-by-row: add_result only')\n",
    "ax.plot(sizes, t_array, 'd-', label='Inserting as binary blob')\n",
    "ax.plot(sizes, t_array_add, 'd-', label='Inserting as binary blob: add_result only')\n",
    "ax.legend()\n",
    "ax.set_xlabel('Array length')\n",
    "ax.set_ylabel('Time (s)')\n",
    "fig.tight_layout()"
   ]
  },
  {
   "cell_type": "markdown",
   "metadata": {},
   "source": [
    "As shown in the latter figure, the time to setup and and close the experiment is approximately 0.4 sec. In case of small array sizes, the difference between inserting values of data as arrays and inserting them row-by-row is relatively unimportant. At larger array sizes, i.e. above 10000 points, the cost of writing data as individual datapoints starts to become important.\n"
   ]
  },
  {
   "cell_type": "markdown",
   "metadata": {},
   "source": [
    "### Case2: Long experiment time "
   ]
  },
  {
   "cell_type": "code",
   "execution_count": 7,
   "metadata": {
    "execution": {
     "iopub.execute_input": "2021-02-11T12:45:33.328893Z",
     "iopub.status.busy": "2021-02-11T12:45:33.328179Z",
     "iopub.status.idle": "2021-02-11T12:46:30.916950Z",
     "shell.execute_reply": "2021-02-11T12:46:30.917476Z"
    }
   },
   "outputs": [
    {
     "name": "stdout",
     "output_type": "stream",
     "text": [
      "Starting experimental run with id: 15. \n",
      "Starting experimental run with id: 16. \n"
     ]
    },
    {
     "name": "stdout",
     "output_type": "stream",
     "text": [
      "Starting experimental run with id: 17. \n"
     ]
    },
    {
     "name": "stdout",
     "output_type": "stream",
     "text": [
      "Starting experimental run with id: 18. \n",
      "Starting experimental run with id: 19. \n"
     ]
    },
    {
     "name": "stdout",
     "output_type": "stream",
     "text": [
      "Starting experimental run with id: 20. \n"
     ]
    },
    {
     "name": "stdout",
     "output_type": "stream",
     "text": [
      "Starting experimental run with id: 21. \n"
     ]
    },
    {
     "name": "stdout",
     "output_type": "stream",
     "text": [
      "Starting experimental run with id: 22. \n"
     ]
    },
    {
     "name": "stdout",
     "output_type": "stream",
     "text": [
      "Starting experimental run with id: 23. \n"
     ]
    },
    {
     "name": "stdout",
     "output_type": "stream",
     "text": [
      "Starting experimental run with id: 24. \n"
     ]
    },
    {
     "name": "stdout",
     "output_type": "stream",
     "text": [
      "Starting experimental run with id: 25. \n"
     ]
    },
    {
     "name": "stdout",
     "output_type": "stream",
     "text": [
      "Starting experimental run with id: 26. \n"
     ]
    },
    {
     "name": "stdout",
     "output_type": "stream",
     "text": [
      "Starting experimental run with id: 27. \n"
     ]
    },
    {
     "name": "stdout",
     "output_type": "stream",
     "text": [
      "Starting experimental run with id: 28. \n"
     ]
    }
   ],
   "source": [
    "sizes = [1,500,1000,2000,3000,4000,5000]\n",
    "nreps = 100\n",
    "t_numeric = []\n",
    "t_numeric_add = []\n",
    "t_numeric_run_ids = []\n",
    "t_array = []\n",
    "t_array_add = []\n",
    "t_array_run_ids = []\n",
    "for size in sizes:\n",
    "    tn, tna, run_id_n =  insert_data('numeric', size, nreps=nreps)\n",
    "    t_numeric.append(tn)\n",
    "    t_numeric_add.append(tna)\n",
    "    t_numeric_run_ids.append(run_id_n)\n",
    "\n",
    "    ta, taa, run_id_a =  insert_data('array', size, nreps=nreps)\n",
    "    t_array.append(ta)\n",
    "    t_array_add.append(taa)\n",
    "    t_array_run_ids.append(run_id_a)"
   ]
  },
  {
   "cell_type": "code",
   "execution_count": 8,
   "metadata": {
    "execution": {
     "iopub.execute_input": "2021-02-11T12:46:30.956905Z",
     "iopub.status.busy": "2021-02-11T12:46:30.955867Z",
     "iopub.status.idle": "2021-02-11T12:46:31.113214Z",
     "shell.execute_reply": "2021-02-11T12:46:31.113969Z"
    },
    "scrolled": true
   },
   "outputs": [
    {
     "data": {
      "image/png": "[encoded data removed]",
      "text/plain": [
       "<Figure size 432x288 with 1 Axes>"
      ]
     },
     "metadata": {
      "needs_background": "light"
     },
     "output_type": "display_data"
    }
   ],
   "source": [
    "fig, ax = plt.subplots(1,1)\n",
    "ax.plot(sizes, t_numeric, 'o-', label='Inserting row-by-row')\n",
    "ax.plot(sizes, t_numeric_add, 'o-', label='Inserting row-by-row: add_result only')\n",
    "ax.plot(sizes, t_array, 'd-', label='Inserting as binary blob')\n",
    "ax.plot(sizes, t_array_add, 'd-', label='Inserting as binary blob: add_result only')\n",
    "ax.legend()\n",
    "ax.set_xlabel('Array length')\n",
    "ax.set_ylabel('Time (s)')\n",
    "fig.tight_layout()"
   ]
  },
  {
   "cell_type": "markdown",
   "metadata": {},
   "source": [
    "However, as we increase the length of the experiment, as seen here by repeating the insertion 100 times, we see a big difference between inserting values of the data row-by-row and inserting it as a binary blob."
   ]
  },
  {
   "cell_type": "markdown",
   "metadata": {},
   "source": [
    "## Loading the data "
   ]
  },
  {
   "cell_type": "code",
   "execution_count": 9,
   "metadata": {
    "execution": {
     "iopub.execute_input": "2021-02-11T12:46:31.117599Z",
     "iopub.status.busy": "2021-02-11T12:46:31.116524Z",
     "iopub.status.idle": "2021-02-11T12:46:31.122521Z",
     "shell.execute_reply": "2021-02-11T12:46:31.121767Z"
    }
   },
   "outputs": [],
   "source": [
    "from qcodes.dataset.data_set import load_by_id\n",
    "from qcodes.dataset.data_export import get_data_by_id"
   ]
  },
  {
   "cell_type": "markdown",
   "metadata": {},
   "source": [
    "As usual you can load the data by using the ``load_by_id`` function but you will notice that the different storage methods\n",
    "are reflected in shape of the data as it is retrieved. "
   ]
  },
  {
   "cell_type": "code",
   "execution_count": 10,
   "metadata": {
    "execution": {
     "iopub.execute_input": "2021-02-11T12:46:31.126340Z",
     "iopub.status.busy": "2021-02-11T12:46:31.125798Z",
     "iopub.status.idle": "2021-02-11T12:46:31.128308Z",
     "shell.execute_reply": "2021-02-11T12:46:31.127856Z"
    }
   },
   "outputs": [],
   "source": [
    "run_id_n = t_numeric_run_ids[0]\n",
    "run_id_a = t_array_run_ids[0]"
   ]
  },
  {
   "cell_type": "code",
   "execution_count": 11,
   "metadata": {
    "execution": {
     "iopub.execute_input": "2021-02-11T12:46:31.131832Z",
     "iopub.status.busy": "2021-02-11T12:46:31.131284Z",
     "iopub.status.idle": "2021-02-11T12:46:31.139636Z",
     "shell.execute_reply": "2021-02-11T12:46:31.140113Z"
    },
    "scrolled": true
   },
   "outputs": [
    {
     "data": {
      "text/plain": [
       "{'x1': {'x1': array([0.63510938, 0.63510938, 0.75003223, 0.75003223, 0.60788706,\n",
       "         0.60788706, 0.72151786, 0.72151786, 0.84123916, 0.84123916,\n",
       "         0.69380207, 0.69380207, 0.00438285, 0.00438285, 0.27289438,\n",
       "         0.27289438, 0.27371539, 0.27371539, 0.08197502, 0.08197502,\n",
       "         0.99464325, 0.99464325, 0.25588857, 0.25588857, 0.39830219,\n",
       "         0.39830219, 0.90556584, 0.90556584, 0.21469918, 0.21469918,\n",
       "         0.79436805, 0.79436805, 0.10441491, 0.10441491, 0.32541463,\n",
       "         0.32541463, 0.76279121, 0.76279121, 0.43288956, 0.43288956,\n",
       "         0.92980155, 0.92980155, 0.73818232, 0.73818232, 0.46351782,\n",
       "         0.46351782, 0.08976813, 0.08976813, 0.67300945, 0.67300945,\n",
       "         0.71904323, 0.71904323, 0.73243472, 0.73243472, 0.42314355,\n",
       "         0.42314355, 0.28975296, 0.28975296, 0.80655482, 0.80655482,\n",
       "         0.34786744, 0.34786744, 0.1306133 , 0.1306133 , 0.03459759,\n",
       "         0.03459759, 0.42985009, 0.42985009, 0.29063534, 0.29063534,\n",
       "         0.34373352, 0.34373352, 0.23775355, 0.23775355, 0.1706308 ,\n",
       "         0.1706308 , 0.75940438, 0.75940438, 0.28195472, 0.28195472,\n",
       "         0.21384404, 0.21384404, 0.26984593, 0.26984593, 0.92570493,\n",
       "         0.92570493, 0.31955402, 0.31955402, 0.56312067, 0.56312067,\n",
       "         0.75965474, 0.75965474, 0.53129782, 0.53129782, 0.17951142,\n",
       "         0.17951142, 0.27315093, 0.27315093, 0.2261633 , 0.2261633 ,\n",
       "         0.33557729, 0.33557729, 0.41949151, 0.41949151, 0.63164369,\n",
       "         0.63164369, 0.15654172, 0.15654172, 0.40346685, 0.40346685,\n",
       "         0.56413531, 0.56413531, 0.06950047, 0.06950047, 0.10620538,\n",
       "         0.10620538, 0.4390797 , 0.4390797 , 0.42105064, 0.42105064,\n",
       "         0.55362619, 0.55362619, 0.67942831, 0.67942831, 0.21577956,\n",
       "         0.21577956, 0.15684668, 0.15684668, 0.02093221, 0.02093221,\n",
       "         0.93929868, 0.93929868, 0.12887677, 0.12887677, 0.00219838,\n",
       "         0.00219838, 0.68678917, 0.68678917, 0.52486296, 0.52486296,\n",
       "         0.64324114, 0.64324114, 0.65250822, 0.65250822, 0.12485422,\n",
       "         0.12485422, 0.63546105, 0.63546105, 0.11718245, 0.11718245,\n",
       "         0.19800442, 0.19800442, 0.63851356, 0.63851356, 0.43006538,\n",
       "         0.43006538, 0.12380148, 0.12380148, 0.99199228, 0.99199228,\n",
       "         0.30019151, 0.30019151, 0.78911747, 0.78911747, 0.01599784,\n",
       "         0.01599784, 0.56956037, 0.56956037, 0.67668965, 0.67668965,\n",
       "         0.70539   , 0.70539   , 0.35582379, 0.35582379, 0.63546849,\n",
       "         0.63546849, 0.88809961, 0.88809961, 0.14944857, 0.14944857,\n",
       "         0.42073475, 0.42073475, 0.97284402, 0.97284402, 0.83649308,\n",
       "         0.83649308, 0.02791264, 0.02791264, 0.29352356, 0.29352356,\n",
       "         0.41862736, 0.41862736, 0.4225724 , 0.4225724 , 0.43297565,\n",
       "         0.43297565, 0.27699551, 0.27699551, 0.88279888, 0.88279888])}}"
      ]
     },
     "execution_count": 1,
     "metadata": {},
     "output_type": "execute_result"
    }
   ],
   "source": [
    "ds = load_by_id(run_id_n)\n",
    "ds.get_parameter_data('x1')"
   ]
  },
  {
   "cell_type": "markdown",
   "metadata": {},
   "source": [
    "And a dataset stored as binary arrays"
   ]
  },
  {
   "cell_type": "code",
   "execution_count": 12,
   "metadata": {
    "execution": {
     "iopub.execute_input": "2021-02-11T12:46:31.143252Z",
     "iopub.status.busy": "2021-02-11T12:46:31.142703Z",
     "iopub.status.idle": "2021-02-11T12:46:31.200540Z",
     "shell.execute_reply": "2021-02-11T12:46:31.201071Z"
    },
    "scrolled": true
   },
   "outputs": [
    {
     "data": {
      "text/plain": [
       "{'x1': {'x1': array([[0.57324975],\n",
       "         [0.57324975],\n",
       "         [0.43545487],\n",
       "         [0.43545487],\n",
       "         [0.88237798],\n",
       "         [0.88237798],\n",
       "         [0.48923538],\n",
       "         [0.48923538],\n",
       "         [0.35518062],\n",
       "         [0.35518062],\n",
       "         [0.19683533],\n",
       "         [0.19683533],\n",
       "         [0.3650265 ],\n",
       "         [0.3650265 ],\n",
       "         [0.60090343],\n",
       "         [0.60090343],\n",
       "         [0.32500234],\n",
       "         [0.32500234],\n",
       "         [0.28915479],\n",
       "         [0.28915479],\n",
       "         [0.96591408],\n",
       "         [0.96591408],\n",
       "         [0.0321862 ],\n",
       "         [0.0321862 ],\n",
       "         [0.48238706],\n",
       "         [0.48238706],\n",
       "         [0.50719292],\n",
       "         [0.50719292],\n",
       "         [0.56943006],\n",
       "         [0.56943006],\n",
       "         [0.22822247],\n",
       "         [0.22822247],\n",
       "         [0.86766496],\n",
       "         [0.86766496],\n",
       "         [0.67221476],\n",
       "         [0.67221476],\n",
       "         [0.98047376],\n",
       "         [0.98047376],\n",
       "         [0.35599009],\n",
       "         [0.35599009],\n",
       "         [0.63700146],\n",
       "         [0.63700146],\n",
       "         [0.14006607],\n",
       "         [0.14006607],\n",
       "         [0.25060942],\n",
       "         [0.25060942],\n",
       "         [0.00367789],\n",
       "         [0.00367789],\n",
       "         [0.09250749],\n",
       "         [0.09250749],\n",
       "         [0.93997734],\n",
       "         [0.93997734],\n",
       "         [0.39177025],\n",
       "         [0.39177025],\n",
       "         [0.18727649],\n",
       "         [0.18727649],\n",
       "         [0.94209847],\n",
       "         [0.94209847],\n",
       "         [0.4638026 ],\n",
       "         [0.4638026 ],\n",
       "         [0.85973102],\n",
       "         [0.85973102],\n",
       "         [0.34929563],\n",
       "         [0.34929563],\n",
       "         [0.11397589],\n",
       "         [0.11397589],\n",
       "         [0.35344552],\n",
       "         [0.35344552],\n",
       "         [0.8847087 ],\n",
       "         [0.8847087 ],\n",
       "         [0.25611021],\n",
       "         [0.25611021],\n",
       "         [0.22096705],\n",
       "         [0.22096705],\n",
       "         [0.16014884],\n",
       "         [0.16014884],\n",
       "         [0.28933068],\n",
       "         [0.28933068],\n",
       "         [0.73628818],\n",
       "         [0.73628818],\n",
       "         [0.85374577],\n",
       "         [0.85374577],\n",
       "         [0.94457442],\n",
       "         [0.94457442],\n",
       "         [0.35314518],\n",
       "         [0.35314518],\n",
       "         [0.78761098],\n",
       "         [0.78761098],\n",
       "         [0.0203232 ],\n",
       "         [0.0203232 ],\n",
       "         [0.77752666],\n",
       "         [0.77752666],\n",
       "         [0.9996091 ],\n",
       "         [0.9996091 ],\n",
       "         [0.46550526],\n",
       "         [0.46550526],\n",
       "         [0.6816211 ],\n",
       "         [0.6816211 ],\n",
       "         [0.96918492],\n",
       "         [0.96918492],\n",
       "         [0.86632983],\n",
       "         [0.86632983],\n",
       "         [0.35095854],\n",
       "         [0.35095854],\n",
       "         [0.7807384 ],\n",
       "         [0.7807384 ],\n",
       "         [0.2584413 ],\n",
       "         [0.2584413 ],\n",
       "         [0.82300775],\n",
       "         [0.82300775],\n",
       "         [0.99723119],\n",
       "         [0.99723119],\n",
       "         [0.02547716],\n",
       "         [0.02547716],\n",
       "         [0.06363397],\n",
       "         [0.06363397],\n",
       "         [0.12101066],\n",
       "         [0.12101066],\n",
       "         [0.92102641],\n",
       "         [0.92102641],\n",
       "         [0.25978183],\n",
       "         [0.25978183],\n",
       "         [0.25038878],\n",
       "         [0.25038878],\n",
       "         [0.78286162],\n",
       "         [0.78286162],\n",
       "         [0.36788343],\n",
       "         [0.36788343],\n",
       "         [0.55054148],\n",
       "         [0.55054148],\n",
       "         [0.22330942],\n",
       "         [0.22330942],\n",
       "         [0.9608228 ],\n",
       "         [0.9608228 ],\n",
       "         [0.50124225],\n",
       "         [0.50124225],\n",
       "         [0.68917204],\n",
       "         [0.68917204],\n",
       "         [0.73284887],\n",
       "         [0.73284887],\n",
       "         [0.03549788],\n",
       "         [0.03549788],\n",
       "         [0.13572845],\n",
       "         [0.13572845],\n",
       "         [0.73346232],\n",
       "         [0.73346232],\n",
       "         [0.41015364],\n",
       "         [0.41015364],\n",
       "         [0.53376558],\n",
       "         [0.53376558],\n",
       "         [0.44882345],\n",
       "         [0.44882345],\n",
       "         [0.01875142],\n",
       "         [0.01875142],\n",
       "         [0.0694608 ],\n",
       "         [0.0694608 ],\n",
       "         [0.57826355],\n",
       "         [0.57826355],\n",
       "         [0.1971203 ],\n",
       "         [0.1971203 ],\n",
       "         [0.18157811],\n",
       "         [0.18157811],\n",
       "         [0.96014349],\n",
       "         [0.96014349],\n",
       "         [0.57245817],\n",
       "         [0.57245817],\n",
       "         [0.84613228],\n",
       "         [0.84613228],\n",
       "         [0.40486702],\n",
       "         [0.40486702],\n",
       "         [0.80856369],\n",
       "         [0.80856369],\n",
       "         [0.03480697],\n",
       "         [0.03480697],\n",
       "         [0.30327374],\n",
       "         [0.30327374],\n",
       "         [0.5441735 ],\n",
       "         [0.5441735 ],\n",
       "         [0.89701182],\n",
       "         [0.89701182],\n",
       "         [0.23214013],\n",
       "         [0.23214013],\n",
       "         [0.04795086],\n",
       "         [0.04795086],\n",
       "         [0.41732045],\n",
       "         [0.41732045],\n",
       "         [0.28015917],\n",
       "         [0.28015917],\n",
       "         [0.63823567],\n",
       "         [0.63823567],\n",
       "         [0.55705305],\n",
       "         [0.55705305],\n",
       "         [0.79620102],\n",
       "         [0.79620102],\n",
       "         [0.90709353],\n",
       "         [0.90709353],\n",
       "         [0.31054638],\n",
       "         [0.31054638],\n",
       "         [0.97171083],\n",
       "         [0.97171083]])}}"
      ]
     },
     "execution_count": 1,
     "metadata": {},
     "output_type": "execute_result"
    }
   ],
   "source": [
    "ds = load_by_id(run_id_a)\n",
    "ds.get_parameter_data('x1')"
   ]
  },
  {
   "cell_type": "code",
   "execution_count": null,
   "metadata": {},
   "outputs": [],
   "source": []
  }
 ],
 "metadata": {
  "kernelspec": {
   "display_name": "Python 3",
   "language": "python",
   "name": "python3"
  },
  "language_info": {
   "codemirror_mode": {
    "name": "ipython",
    "version": 3
   },
   "file_extension": ".py",
   "mimetype": "text/x-python",
   "name": "python",
   "nbconvert_exporter": "python",
   "pygments_lexer": "ipython3",
   "version": "3.7.9"
  },
  "nbsphinx": {
   "timeout": 600
  },
  "toc": {
   "base_numbering": 1,
   "nav_menu": {},
   "number_sections": true,
   "sideBar": true,
   "skip_h1_title": false,
   "title_cell": "Table of Contents",
   "title_sidebar": "Contents",
   "toc_cell": false,
   "toc_position": {},
   "toc_section_display": true,
   "toc_window_display": false
  },
  "varInspector": {
   "cols": {
    "lenName": 16,
    "lenType": 16,
    "lenVar": 40
   },
   "kernels_config": {
    "python": {
     "delete_cmd_postfix": "",
     "delete_cmd_prefix": "del ",
     "library": "var_list.py",
     "varRefreshCmd": "print(var_dic_list())"
    },
    "r": {
     "delete_cmd_postfix": ") ",
     "delete_cmd_prefix": "rm(",
     "library": "var_list.r",
     "varRefreshCmd": "cat(var_dic_list()) "
    }
   },
   "types_to_exclude": [
    "module",
    "function",
    "builtin_function_or_method",
    "instance",
    "_Feature"
   ],
   "window_display": false
  }
 },
 "nbformat": 4,
 "nbformat_minor": 2
}
