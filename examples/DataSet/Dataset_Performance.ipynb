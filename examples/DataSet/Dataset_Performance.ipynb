{
 "cells": [
  {
   "cell_type": "markdown",
   "metadata": {},
   "source": [
    "# DataSet Performance\n",
    "\n",
    "This notebook shows the trade-off between inserting data into a database row-by-row and as binary blobs. Inserting the data row-by-row means that we have direct access to all the data and may perform queries directly on the values of the data. On the other hand, as we shall see, this is much slower than inserting the data directly as binary blobs."
   ]
  },
  {
   "cell_type": "markdown",
   "metadata": {},
   "source": [
    "First, we choose a new location for the database to ensure that we don't add a bunch of benchmarking data to the default one."
   ]
  },
  {
   "cell_type": "code",
   "execution_count": 1,
   "metadata": {
    "execution": {
     "iopub.execute_input": "2020-12-11T07:24:11.785758Z",
     "iopub.status.busy": "2020-12-11T07:24:11.785300Z",
     "iopub.status.idle": "2020-12-11T07:24:12.668599Z",
     "shell.execute_reply": "2020-12-11T07:24:12.667995Z"
    }
   },
   "outputs": [
    {
     "name": "stdout",
     "output_type": "stream",
     "text": [
      "Logging hadn't been started.\n",
      "Activating auto-logging. Current session state plus future input saved.\n",
      "Filename       : /home/vsts/.qcodes/logs/command_history.log\n",
      "Mode           : append\n",
      "Output logging : True\n",
      "Raw input log  : False\n",
      "Timestamping   : True\n",
      "State          : active\n"
     ]
    },
    {
     "name": "stdout",
     "output_type": "stream",
     "text": [
      "Qcodes Logfile : /home/vsts/.qcodes/logs/201211-14431-qcodes.log\n"
     ]
    }
   ],
   "source": [
    "import os\n",
    "cwd = os.getcwd()\n",
    "import qcodes as qc\n",
    "qc.config[\"core\"][\"db_location\"] = os.path.join(cwd, 'testing.db')\n"
   ]
  },
  {
   "cell_type": "code",
   "execution_count": 2,
   "metadata": {
    "execution": {
     "iopub.execute_input": "2020-12-11T07:24:12.675352Z",
     "iopub.status.busy": "2020-12-11T07:24:12.673295Z",
     "iopub.status.idle": "2020-12-11T07:24:12.830923Z",
     "shell.execute_reply": "2020-12-11T07:24:12.830119Z"
    }
   },
   "outputs": [],
   "source": [
    "%matplotlib inline\n",
    "import time\n",
    "import matplotlib.pyplot as plt\n",
    "import numpy as np\n",
    "\n",
    "import qcodes as qc\n",
    "from qcodes.instrument.parameter import ManualParameter\n",
    "from qcodes.dataset.experiment_container import (Experiment,\n",
    "                                                 load_last_experiment,\n",
    "                                                 new_experiment)\n",
    "from qcodes.dataset.sqlite.database import initialise_database\n",
    "from qcodes import load_or_create_experiment\n",
    "from qcodes.dataset.measurements import Measurement"
   ]
  },
  {
   "cell_type": "code",
   "execution_count": 3,
   "metadata": {
    "execution": {
     "iopub.execute_input": "2020-12-11T07:24:12.834259Z",
     "iopub.status.busy": "2020-12-11T07:24:12.833721Z",
     "iopub.status.idle": "2020-12-11T07:24:12.924595Z",
     "shell.execute_reply": "2020-12-11T07:24:12.924185Z"
    }
   },
   "outputs": [
    {
     "name": "stdout",
     "output_type": "stream",
     "text": [
      "\r",
      "0it [00:00, ?it/s]"
     ]
    },
    {
     "name": "stdout",
     "output_type": "stream",
     "text": [
      "\r",
      "Upgrading database; v0 -> v1: : 0it [00:00, ?it/s]"
     ]
    },
    {
     "name": "stdout",
     "output_type": "stream",
     "text": [
      "\r",
      "Upgrading database; v0 -> v1: : 0it [00:00, ?it/s]"
     ]
    },
    {
     "name": "stdout",
     "output_type": "stream",
     "text": [
      "\n",
      "\r",
      "  0%|          | 0/1 [00:00<?, ?it/s]"
     ]
    },
    {
     "name": "stdout",
     "output_type": "stream",
     "text": [
      "\r",
      "Upgrading database; v1 -> v2:   0%|          | 0/1 [00:00<?, ?it/s]"
     ]
    },
    {
     "name": "stdout",
     "output_type": "stream",
     "text": [
      "\r",
      "Upgrading database; v1 -> v2: 100%|██████████| 1/1 [00:00<00:00, 1363.11it/s]"
     ]
    },
    {
     "name": "stdout",
     "output_type": "stream",
     "text": [
      "\n",
      "\r",
      "0it [00:00, ?it/s]"
     ]
    },
    {
     "name": "stdout",
     "output_type": "stream",
     "text": [
      "\r",
      "Upgrading database; v2 -> v3: : 0it [00:00, ?it/s]"
     ]
    },
    {
     "name": "stdout",
     "output_type": "stream",
     "text": [
      "\r",
      "Upgrading database; v2 -> v3: : 0it [00:00, ?it/s]"
     ]
    },
    {
     "name": "stdout",
     "output_type": "stream",
     "text": [
      "\n",
      "\r",
      "0it [00:00, ?it/s]"
     ]
    },
    {
     "name": "stdout",
     "output_type": "stream",
     "text": [
      "\r",
      "Upgrading database; v3 -> v4: : 0it [00:00, ?it/s]"
     ]
    },
    {
     "name": "stdout",
     "output_type": "stream",
     "text": [
      "\r",
      "Upgrading database; v3 -> v4: : 0it [00:00, ?it/s]"
     ]
    },
    {
     "name": "stdout",
     "output_type": "stream",
     "text": [
      "\n",
      "\r",
      "  0%|          | 0/1 [00:00<?, ?it/s]"
     ]
    },
    {
     "name": "stdout",
     "output_type": "stream",
     "text": [
      "\r",
      "Upgrading database; v4 -> v5:   0%|          | 0/1 [00:00<?, ?it/s]"
     ]
    },
    {
     "name": "stdout",
     "output_type": "stream",
     "text": [
      "\r",
      "Upgrading database; v4 -> v5: 100%|██████████| 1/1 [00:00<00:00, 1047.01it/s]"
     ]
    },
    {
     "name": "stdout",
     "output_type": "stream",
     "text": [
      "\n",
      "\r",
      "0it [00:00, ?it/s]"
     ]
    },
    {
     "name": "stdout",
     "output_type": "stream",
     "text": [
      "\r",
      "Upgrading database; v5 -> v6: : 0it [00:00, ?it/s]"
     ]
    },
    {
     "name": "stdout",
     "output_type": "stream",
     "text": [
      "\r",
      "Upgrading database; v5 -> v6: : 0it [00:00, ?it/s]"
     ]
    },
    {
     "name": "stdout",
     "output_type": "stream",
     "text": [
      "\n",
      "\r",
      "  0%|          | 0/1 [00:00<?, ?it/s]"
     ]
    },
    {
     "name": "stdout",
     "output_type": "stream",
     "text": [
      "\r",
      "Upgrading database; v6 -> v7:   0%|          | 0/1 [00:00<?, ?it/s]"
     ]
    },
    {
     "name": "stdout",
     "output_type": "stream",
     "text": [
      "\r",
      "Upgrading database; v6 -> v7: 100%|██████████| 1/1 [00:00<00:00, 529.85it/s]"
     ]
    },
    {
     "name": "stdout",
     "output_type": "stream",
     "text": [
      "\n",
      "\r",
      "  0%|          | 0/1 [00:00<?, ?it/s]"
     ]
    },
    {
     "name": "stdout",
     "output_type": "stream",
     "text": [
      "\r",
      "Upgrading database; v7 -> v8:   0%|          | 0/1 [00:00<?, ?it/s]"
     ]
    },
    {
     "name": "stdout",
     "output_type": "stream",
     "text": [
      "\r",
      "Upgrading database; v7 -> v8: 100%|██████████| 1/1 [00:00<00:00, 1174.88it/s]"
     ]
    },
    {
     "name": "stdout",
     "output_type": "stream",
     "text": [
      "\n",
      "\r",
      "  0%|          | 0/1 [00:00<?, ?it/s]"
     ]
    },
    {
     "name": "stdout",
     "output_type": "stream",
     "text": [
      "\r",
      "Upgrading database; v8 -> v9:   0%|          | 0/1 [00:00<?, ?it/s]"
     ]
    },
    {
     "name": "stdout",
     "output_type": "stream",
     "text": [
      "\r",
      "Upgrading database; v8 -> v9: 100%|██████████| 1/1 [00:00<00:00, 1234.71it/s]"
     ]
    },
    {
     "name": "stdout",
     "output_type": "stream",
     "text": [
      "\n"
     ]
    }
   ],
   "source": [
    "initialise_database()\n",
    "exp = load_or_create_experiment(experiment_name='tutorial_exp', sample_name=\"no sample\")"
   ]
  },
  {
   "cell_type": "markdown",
   "metadata": {},
   "source": [
    "Here, we define a simple function to benchmark the time it takes to insert n points with either numeric or array data type.\n",
    "We will compare both the time used to call ``add_result`` and the time used for the full measurement."
   ]
  },
  {
   "cell_type": "code",
   "execution_count": 4,
   "metadata": {
    "execution": {
     "iopub.execute_input": "2020-12-11T07:24:12.931684Z",
     "iopub.status.busy": "2020-12-11T07:24:12.931206Z",
     "iopub.status.idle": "2020-12-11T07:24:12.934170Z",
     "shell.execute_reply": "2020-12-11T07:24:12.934534Z"
    }
   },
   "outputs": [],
   "source": [
    "def insert_data(paramtype, npoints, nreps=1):\n",
    "\n",
    "    meas = Measurement(exp=exp)\n",
    "\n",
    "    x1 = ManualParameter('x1')\n",
    "    x2 = ManualParameter('x2')\n",
    "    x3 = ManualParameter('x3')\n",
    "    y1 = ManualParameter('y1')\n",
    "    y2 = ManualParameter('y2')\n",
    "\n",
    "    meas.register_parameter(x1, paramtype=paramtype)\n",
    "    meas.register_parameter(x2, paramtype=paramtype)\n",
    "    meas.register_parameter(x3, paramtype=paramtype)\n",
    "    meas.register_parameter(y1, setpoints=[x1, x2, x3],\n",
    "                            paramtype=paramtype)\n",
    "    meas.register_parameter(y2, setpoints=[x1, x2, x3],\n",
    "                            paramtype=paramtype)\n",
    "    start = time.perf_counter()\n",
    "    with meas.run() as datasaver:\n",
    "        start_adding = time.perf_counter()\n",
    "        for i in range(nreps):\n",
    "            datasaver.add_result((x1, np.random.rand(npoints)),\n",
    "                                 (x2, np.random.rand(npoints)),\n",
    "                                 (x3, np.random.rand(npoints)),\n",
    "                                 (y1, np.random.rand(npoints)),\n",
    "                                 (y2, np.random.rand(npoints)))\n",
    "        stop_adding = time.perf_counter()\n",
    "        run_id = datasaver.run_id\n",
    "    stop = time.perf_counter()\n",
    "    tot_time = stop - start\n",
    "    add_time = stop_adding - start_adding\n",
    "    return tot_time, add_time, run_id"
   ]
  },
  {
   "cell_type": "markdown",
   "metadata": {},
   "source": [
    "## Comparison between numeric/array data and binary blob"
   ]
  },
  {
   "cell_type": "markdown",
   "metadata": {},
   "source": [
    "### Case1: Short experiment time"
   ]
  },
  {
   "cell_type": "code",
   "execution_count": 5,
   "metadata": {
    "execution": {
     "iopub.execute_input": "2020-12-11T07:24:12.939587Z",
     "iopub.status.busy": "2020-12-11T07:24:12.938586Z",
     "iopub.status.idle": "2020-12-11T07:24:13.640636Z",
     "shell.execute_reply": "2020-12-11T07:24:13.640184Z"
    }
   },
   "outputs": [
    {
     "name": "stdout",
     "output_type": "stream",
     "text": [
      "Starting experimental run with id: 1. \n",
      "Starting experimental run with id: 2. \n",
      "Starting experimental run with id: 3. \n",
      "Starting experimental run with id: 4. \n",
      "Starting experimental run with id: 5. \n",
      "Starting experimental run with id: 6. \n"
     ]
    },
    {
     "name": "stdout",
     "output_type": "stream",
     "text": [
      "Starting experimental run with id: 7. "
     ]
    },
    {
     "name": "stdout",
     "output_type": "stream",
     "text": [
      "\n"
     ]
    },
    {
     "name": "stdout",
     "output_type": "stream",
     "text": [
      "Starting experimental run with id: 8. \n",
      "Starting experimental run with id: 9. \n",
      "Starting experimental run with id: 10. \n"
     ]
    },
    {
     "name": "stdout",
     "output_type": "stream",
     "text": [
      "Starting experimental run with id: 11. \n"
     ]
    },
    {
     "name": "stdout",
     "output_type": "stream",
     "text": [
      "Starting experimental run with id: 12. \n",
      "Starting experimental run with id: 13. \n"
     ]
    },
    {
     "name": "stdout",
     "output_type": "stream",
     "text": [
      "Starting experimental run with id: 14. \n"
     ]
    }
   ],
   "source": [
    "sizes = [1,500,1000,2000,3000,4000,5000]\n",
    "t_numeric = []\n",
    "t_numeric_add = []\n",
    "t_array = []\n",
    "t_array_add = []\n",
    "for size in sizes:\n",
    "    tn, tna, run_id_n =  insert_data('numeric', size)\n",
    "    t_numeric.append(tn)\n",
    "    t_numeric_add.append(tna)\n",
    "\n",
    "    ta, taa, run_id_a =  insert_data('array', size)\n",
    "    t_array.append(ta)\n",
    "    t_array_add.append(taa)"
   ]
  },
  {
   "cell_type": "code",
   "execution_count": 6,
   "metadata": {
    "execution": {
     "iopub.execute_input": "2020-12-11T07:24:13.662767Z",
     "iopub.status.busy": "2020-12-11T07:24:13.650545Z",
     "iopub.status.idle": "2020-12-11T07:24:13.826304Z",
     "shell.execute_reply": "2020-12-11T07:24:13.825815Z"
    }
   },
   "outputs": [
    {
     "data": {
      "image/png": "[encoded data removed]",
      "text/plain": [
       "<Figure size 432x288 with 1 Axes>"
      ]
     },
     "metadata": {
      "needs_background": "light"
     },
     "output_type": "display_data"
    }
   ],
   "source": [
    "fig, ax = plt.subplots(1,1)\n",
    "ax.plot(sizes, t_numeric, 'o-', label='Inserting row-by-row')\n",
    "ax.plot(sizes, t_numeric_add, 'o-', label='Inserting row-by-row: add_result only')\n",
    "ax.plot(sizes, t_array, 'd-', label='Inserting as binary blob')\n",
    "ax.plot(sizes, t_array_add, 'd-', label='Inserting as binary blob: add_result only')\n",
    "ax.legend()\n",
    "ax.set_xlabel('Array length')\n",
    "ax.set_ylabel('Time (s)')\n",
    "fig.tight_layout()"
   ]
  },
  {
   "cell_type": "markdown",
   "metadata": {},
   "source": [
    "As shown in the latter figure, the time to setup and and close the experiment is approximately 0.4 sec. In case of small array sizes, the difference between inserting values of data as arrays and inserting them row-by-row is relatively unimportant. At larger array sizes, i.e. above 10000 points, the cost of writing data as individual datapoints starts to become important.\n"
   ]
  },
  {
   "cell_type": "markdown",
   "metadata": {},
   "source": [
    "### Case2: Long experiment time "
   ]
  },
  {
   "cell_type": "code",
   "execution_count": 7,
   "metadata": {
    "execution": {
     "iopub.execute_input": "2020-12-11T07:24:13.831969Z",
     "iopub.status.busy": "2020-12-11T07:24:13.830103Z",
     "iopub.status.idle": "2020-12-11T07:25:06.367511Z",
     "shell.execute_reply": "2020-12-11T07:25:06.366987Z"
    }
   },
   "outputs": [
    {
     "name": "stdout",
     "output_type": "stream",
     "text": [
      "Starting experimental run with id: 15. \n",
      "Starting experimental run with id: 16. \n",
      "Starting experimental run with id: 17. \n"
     ]
    },
    {
     "name": "stdout",
     "output_type": "stream",
     "text": [
      "Starting experimental run with id: 18. \n",
      "Starting experimental run with id: 19. \n"
     ]
    },
    {
     "name": "stdout",
     "output_type": "stream",
     "text": [
      "Starting experimental run with id: 20. \n"
     ]
    },
    {
     "name": "stdout",
     "output_type": "stream",
     "text": [
      "Starting experimental run with id: 21. \n"
     ]
    },
    {
     "name": "stdout",
     "output_type": "stream",
     "text": [
      "Starting experimental run with id: 22. \n"
     ]
    },
    {
     "name": "stdout",
     "output_type": "stream",
     "text": [
      "Starting experimental run with id: 23. \n"
     ]
    },
    {
     "name": "stdout",
     "output_type": "stream",
     "text": [
      "Starting experimental run with id: 24. \n"
     ]
    },
    {
     "name": "stdout",
     "output_type": "stream",
     "text": [
      "Starting experimental run with id: 25. \n"
     ]
    },
    {
     "name": "stdout",
     "output_type": "stream",
     "text": [
      "Starting experimental run with id: 26. \n"
     ]
    },
    {
     "name": "stdout",
     "output_type": "stream",
     "text": [
      "Starting experimental run with id: 27. \n"
     ]
    },
    {
     "name": "stdout",
     "output_type": "stream",
     "text": [
      "Starting experimental run with id: 28. \n"
     ]
    }
   ],
   "source": [
    "sizes = [1,500,1000,2000,3000,4000,5000]\n",
    "nreps = 100\n",
    "t_numeric = []\n",
    "t_numeric_add = []\n",
    "t_numeric_run_ids = []\n",
    "t_array = []\n",
    "t_array_add = []\n",
    "t_array_run_ids = []\n",
    "for size in sizes:\n",
    "    tn, tna, run_id_n =  insert_data('numeric', size, nreps=nreps)\n",
    "    t_numeric.append(tn)\n",
    "    t_numeric_add.append(tna)\n",
    "    t_numeric_run_ids.append(run_id_n)\n",
    "\n",
    "    ta, taa, run_id_a =  insert_data('array', size, nreps=nreps)\n",
    "    t_array.append(ta)\n",
    "    t_array_add.append(taa)\n",
    "    t_array_run_ids.append(run_id_a)"
   ]
  },
  {
   "cell_type": "code",
   "execution_count": 8,
   "metadata": {
    "execution": {
     "iopub.execute_input": "2020-12-11T07:25:06.400668Z",
     "iopub.status.busy": "2020-12-11T07:25:06.392172Z",
     "iopub.status.idle": "2020-12-11T07:25:06.542184Z",
     "shell.execute_reply": "2020-12-11T07:25:06.541777Z"
    },
    "scrolled": true
   },
   "outputs": [
    {
     "data": {
      "image/png": "[encoded data removed]",
      "text/plain": [
       "<Figure size 432x288 with 1 Axes>"
      ]
     },
     "metadata": {
      "needs_background": "light"
     },
     "output_type": "display_data"
    }
   ],
   "source": [
    "fig, ax = plt.subplots(1,1)\n",
    "ax.plot(sizes, t_numeric, 'o-', label='Inserting row-by-row')\n",
    "ax.plot(sizes, t_numeric_add, 'o-', label='Inserting row-by-row: add_result only')\n",
    "ax.plot(sizes, t_array, 'd-', label='Inserting as binary blob')\n",
    "ax.plot(sizes, t_array_add, 'd-', label='Inserting as binary blob: add_result only')\n",
    "ax.legend()\n",
    "ax.set_xlabel('Array length')\n",
    "ax.set_ylabel('Time (s)')\n",
    "fig.tight_layout()"
   ]
  },
  {
   "cell_type": "markdown",
   "metadata": {},
   "source": [
    "However, as we increase the length of the experiment, as seen here by repeating the insertion 100 times, we see a big difference between inserting values of the data row-by-row and inserting it as a binary blob."
   ]
  },
  {
   "cell_type": "markdown",
   "metadata": {},
   "source": [
    "## Loading the data "
   ]
  },
  {
   "cell_type": "code",
   "execution_count": 9,
   "metadata": {
    "execution": {
     "iopub.execute_input": "2020-12-11T07:25:06.545549Z",
     "iopub.status.busy": "2020-12-11T07:25:06.544764Z",
     "iopub.status.idle": "2020-12-11T07:25:06.548261Z",
     "shell.execute_reply": "2020-12-11T07:25:06.547871Z"
    }
   },
   "outputs": [],
   "source": [
    "from qcodes.dataset.data_set import load_by_id\n",
    "from qcodes.dataset.data_export import get_data_by_id"
   ]
  },
  {
   "cell_type": "markdown",
   "metadata": {},
   "source": [
    "As usual you can load the data by using the ``load_by_id`` function but you will notice that the different storage methods\n",
    "are reflected in shape of the data as it is retrieved. "
   ]
  },
  {
   "cell_type": "code",
   "execution_count": 10,
   "metadata": {
    "execution": {
     "iopub.execute_input": "2020-12-11T07:25:06.551911Z",
     "iopub.status.busy": "2020-12-11T07:25:06.551010Z",
     "iopub.status.idle": "2020-12-11T07:25:06.552443Z",
     "shell.execute_reply": "2020-12-11T07:25:06.552902Z"
    }
   },
   "outputs": [],
   "source": [
    "run_id_n = t_numeric_run_ids[0]\n",
    "run_id_a = t_array_run_ids[0]"
   ]
  },
  {
   "cell_type": "code",
   "execution_count": 11,
   "metadata": {
    "execution": {
     "iopub.execute_input": "2020-12-11T07:25:06.555731Z",
     "iopub.status.busy": "2020-12-11T07:25:06.555266Z",
     "iopub.status.idle": "2020-12-11T07:25:06.563031Z",
     "shell.execute_reply": "2020-12-11T07:25:06.562625Z"
    },
    "scrolled": true
   },
   "outputs": [
    {
     "data": {
      "text/plain": [
       "{'x1': {'x1': array([0.24035506, 0.24035506, 0.89209658, 0.89209658, 0.85875218,\n",
       "         0.85875218, 0.33632057, 0.33632057, 0.7472041 , 0.7472041 ,\n",
       "         0.70015913, 0.70015913, 0.84044049, 0.84044049, 0.14204252,\n",
       "         0.14204252, 0.97996837, 0.97996837, 0.0156337 , 0.0156337 ,\n",
       "         0.54365001, 0.54365001, 0.7215774 , 0.7215774 , 0.38082979,\n",
       "         0.38082979, 0.67985795, 0.67985795, 0.1615903 , 0.1615903 ,\n",
       "         0.93969251, 0.93969251, 0.63809151, 0.63809151, 0.9737351 ,\n",
       "         0.9737351 , 0.75760112, 0.75760112, 0.69447534, 0.69447534,\n",
       "         0.74967947, 0.74967947, 0.66611411, 0.66611411, 0.64892442,\n",
       "         0.64892442, 0.88124665, 0.88124665, 0.13872905, 0.13872905,\n",
       "         0.36239328, 0.36239328, 0.74526799, 0.74526799, 0.87463986,\n",
       "         0.87463986, 0.81122265, 0.81122265, 0.12011778, 0.12011778,\n",
       "         0.28032118, 0.28032118, 0.28341849, 0.28341849, 0.34615133,\n",
       "         0.34615133, 0.59252947, 0.59252947, 0.22882402, 0.22882402,\n",
       "         0.99902648, 0.99902648, 0.21623635, 0.21623635, 0.92713631,\n",
       "         0.92713631, 0.58800631, 0.58800631, 0.60491455, 0.60491455,\n",
       "         0.5342578 , 0.5342578 , 0.58553626, 0.58553626, 0.20117234,\n",
       "         0.20117234, 0.13497203, 0.13497203, 0.00776045, 0.00776045,\n",
       "         0.56067036, 0.56067036, 0.32520611, 0.32520611, 0.43782394,\n",
       "         0.43782394, 0.83632699, 0.83632699, 0.6429783 , 0.6429783 ,\n",
       "         0.04203093, 0.04203093, 0.20027705, 0.20027705, 0.91196143,\n",
       "         0.91196143, 0.83205357, 0.83205357, 0.35538299, 0.35538299,\n",
       "         0.66540983, 0.66540983, 0.31591162, 0.31591162, 0.09680866,\n",
       "         0.09680866, 0.22742925, 0.22742925, 0.20004817, 0.20004817,\n",
       "         0.20217703, 0.20217703, 0.72299112, 0.72299112, 0.57542915,\n",
       "         0.57542915, 0.77260972, 0.77260972, 0.45282275, 0.45282275,\n",
       "         0.61738678, 0.61738678, 0.67427216, 0.67427216, 0.82907357,\n",
       "         0.82907357, 0.84713657, 0.84713657, 0.97541203, 0.97541203,\n",
       "         0.03548628, 0.03548628, 0.4922441 , 0.4922441 , 0.91432236,\n",
       "         0.91432236, 0.45179333, 0.45179333, 0.9898215 , 0.9898215 ,\n",
       "         0.69619646, 0.69619646, 0.65718772, 0.65718772, 0.32702092,\n",
       "         0.32702092, 0.41799015, 0.41799015, 0.72118175, 0.72118175,\n",
       "         0.65948989, 0.65948989, 0.59862831, 0.59862831, 0.98946145,\n",
       "         0.98946145, 0.83451086, 0.83451086, 0.16244269, 0.16244269,\n",
       "         0.68123597, 0.68123597, 0.23018623, 0.23018623, 0.38589384,\n",
       "         0.38589384, 0.68996259, 0.68996259, 0.57412711, 0.57412711,\n",
       "         0.93473808, 0.93473808, 0.43852851, 0.43852851, 0.37789569,\n",
       "         0.37789569, 0.31700654, 0.31700654, 0.95993872, 0.95993872,\n",
       "         0.29894363, 0.29894363, 0.56869375, 0.56869375, 0.88577794,\n",
       "         0.88577794, 0.32669151, 0.32669151, 0.35204162, 0.35204162])}}"
      ]
     },
     "execution_count": 1,
     "metadata": {},
     "output_type": "execute_result"
    }
   ],
   "source": [
    "ds = load_by_id(run_id_n)\n",
    "ds.get_parameter_data('x1')"
   ]
  },
  {
   "cell_type": "markdown",
   "metadata": {},
   "source": [
    "And a dataset stored as binary arrays"
   ]
  },
  {
   "cell_type": "code",
   "execution_count": 12,
   "metadata": {
    "execution": {
     "iopub.execute_input": "2020-12-11T07:25:06.565729Z",
     "iopub.status.busy": "2020-12-11T07:25:06.565285Z",
     "iopub.status.idle": "2020-12-11T07:25:06.610634Z",
     "shell.execute_reply": "2020-12-11T07:25:06.610099Z"
    },
    "scrolled": true
   },
   "outputs": [
    {
     "data": {
      "text/plain": [
       "{'x1': {'x1': array([[0.24788835],\n",
       "         [0.24788835],\n",
       "         [0.97238189],\n",
       "         [0.97238189],\n",
       "         [0.90819818],\n",
       "         [0.90819818],\n",
       "         [0.48148124],\n",
       "         [0.48148124],\n",
       "         [0.81242363],\n",
       "         [0.81242363],\n",
       "         [0.6987498 ],\n",
       "         [0.6987498 ],\n",
       "         [0.81119967],\n",
       "         [0.81119967],\n",
       "         [0.53531451],\n",
       "         [0.53531451],\n",
       "         [0.60084184],\n",
       "         [0.60084184],\n",
       "         [0.57135149],\n",
       "         [0.57135149],\n",
       "         [0.60175389],\n",
       "         [0.60175389],\n",
       "         [0.61125166],\n",
       "         [0.61125166],\n",
       "         [0.31172113],\n",
       "         [0.31172113],\n",
       "         [0.7735668 ],\n",
       "         [0.7735668 ],\n",
       "         [0.2454183 ],\n",
       "         [0.2454183 ],\n",
       "         [0.37316974],\n",
       "         [0.37316974],\n",
       "         [0.16459842],\n",
       "         [0.16459842],\n",
       "         [0.4847805 ],\n",
       "         [0.4847805 ],\n",
       "         [0.17269642],\n",
       "         [0.17269642],\n",
       "         [0.25477045],\n",
       "         [0.25477045],\n",
       "         [0.01113154],\n",
       "         [0.01113154],\n",
       "         [0.59978608],\n",
       "         [0.59978608],\n",
       "         [0.22459763],\n",
       "         [0.22459763],\n",
       "         [0.25463709],\n",
       "         [0.25463709],\n",
       "         [0.07685562],\n",
       "         [0.07685562],\n",
       "         [0.74219273],\n",
       "         [0.74219273],\n",
       "         [0.89673637],\n",
       "         [0.89673637],\n",
       "         [0.79067378],\n",
       "         [0.79067378],\n",
       "         [0.11908746],\n",
       "         [0.11908746],\n",
       "         [0.15085001],\n",
       "         [0.15085001],\n",
       "         [0.65795149],\n",
       "         [0.65795149],\n",
       "         [0.49691159],\n",
       "         [0.49691159],\n",
       "         [0.24311187],\n",
       "         [0.24311187],\n",
       "         [0.40437762],\n",
       "         [0.40437762],\n",
       "         [0.30842529],\n",
       "         [0.30842529],\n",
       "         [0.22508158],\n",
       "         [0.22508158],\n",
       "         [0.17760131],\n",
       "         [0.17760131],\n",
       "         [0.35915148],\n",
       "         [0.35915148],\n",
       "         [0.85346621],\n",
       "         [0.85346621],\n",
       "         [0.81795466],\n",
       "         [0.81795466],\n",
       "         [0.13438617],\n",
       "         [0.13438617],\n",
       "         [0.72853679],\n",
       "         [0.72853679],\n",
       "         [0.85926   ],\n",
       "         [0.85926   ],\n",
       "         [0.01837517],\n",
       "         [0.01837517],\n",
       "         [0.94899779],\n",
       "         [0.94899779],\n",
       "         [0.41609401],\n",
       "         [0.41609401],\n",
       "         [0.17810524],\n",
       "         [0.17810524],\n",
       "         [0.52415664],\n",
       "         [0.52415664],\n",
       "         [0.04244582],\n",
       "         [0.04244582],\n",
       "         [0.94510198],\n",
       "         [0.94510198],\n",
       "         [0.89081314],\n",
       "         [0.89081314],\n",
       "         [0.15276409],\n",
       "         [0.15276409],\n",
       "         [0.4989941 ],\n",
       "         [0.4989941 ],\n",
       "         [0.74265151],\n",
       "         [0.74265151],\n",
       "         [0.81929328],\n",
       "         [0.81929328],\n",
       "         [0.80583299],\n",
       "         [0.80583299],\n",
       "         [0.06788999],\n",
       "         [0.06788999],\n",
       "         [0.60602166],\n",
       "         [0.60602166],\n",
       "         [0.82954139],\n",
       "         [0.82954139],\n",
       "         [0.73897784],\n",
       "         [0.73897784],\n",
       "         [0.44376871],\n",
       "         [0.44376871],\n",
       "         [0.71392101],\n",
       "         [0.71392101],\n",
       "         [0.02546366],\n",
       "         [0.02546366],\n",
       "         [0.59323918],\n",
       "         [0.59323918],\n",
       "         [0.43693716],\n",
       "         [0.43693716],\n",
       "         [0.14412519],\n",
       "         [0.14412519],\n",
       "         [0.36238849],\n",
       "         [0.36238849],\n",
       "         [0.26634895],\n",
       "         [0.26634895],\n",
       "         [0.40493949],\n",
       "         [0.40493949],\n",
       "         [0.07397314],\n",
       "         [0.07397314],\n",
       "         [0.79347147],\n",
       "         [0.79347147],\n",
       "         [0.20686407],\n",
       "         [0.20686407],\n",
       "         [0.23087343],\n",
       "         [0.23087343],\n",
       "         [0.87478816],\n",
       "         [0.87478816],\n",
       "         [0.11242046],\n",
       "         [0.11242046],\n",
       "         [0.04918935],\n",
       "         [0.04918935],\n",
       "         [0.13118225],\n",
       "         [0.13118225],\n",
       "         [0.64882568],\n",
       "         [0.64882568],\n",
       "         [0.59567652],\n",
       "         [0.59567652],\n",
       "         [0.21944726],\n",
       "         [0.21944726],\n",
       "         [0.9552616 ],\n",
       "         [0.9552616 ],\n",
       "         [0.36964704],\n",
       "         [0.36964704],\n",
       "         [0.46719508],\n",
       "         [0.46719508],\n",
       "         [0.37888224],\n",
       "         [0.37888224],\n",
       "         [0.3464301 ],\n",
       "         [0.3464301 ],\n",
       "         [0.96868493],\n",
       "         [0.96868493],\n",
       "         [0.26942139],\n",
       "         [0.26942139],\n",
       "         [0.1811146 ],\n",
       "         [0.1811146 ],\n",
       "         [0.31216883],\n",
       "         [0.31216883],\n",
       "         [0.37936963],\n",
       "         [0.37936963],\n",
       "         [0.55832498],\n",
       "         [0.55832498],\n",
       "         [0.73217902],\n",
       "         [0.73217902],\n",
       "         [0.59606882],\n",
       "         [0.59606882],\n",
       "         [0.69656151],\n",
       "         [0.69656151],\n",
       "         [0.13075376],\n",
       "         [0.13075376],\n",
       "         [0.61764621],\n",
       "         [0.61764621],\n",
       "         [0.93461287],\n",
       "         [0.93461287],\n",
       "         [0.9141483 ],\n",
       "         [0.9141483 ],\n",
       "         [0.32567531],\n",
       "         [0.32567531],\n",
       "         [0.55567122],\n",
       "         [0.55567122]])}}"
      ]
     },
     "execution_count": 1,
     "metadata": {},
     "output_type": "execute_result"
    }
   ],
   "source": [
    "ds = load_by_id(run_id_a)\n",
    "ds.get_parameter_data('x1')"
   ]
  },
  {
   "cell_type": "code",
   "execution_count": null,
   "metadata": {},
   "outputs": [],
   "source": []
  }
 ],
 "metadata": {
  "kernelspec": {
   "display_name": "Python 3",
   "language": "python",
   "name": "python3"
  },
  "language_info": {
   "codemirror_mode": {
    "name": "ipython",
    "version": 3
   },
   "file_extension": ".py",
   "mimetype": "text/x-python",
   "name": "python",
   "nbconvert_exporter": "python",
   "pygments_lexer": "ipython3",
   "version": "3.7.9"
  },
  "nbsphinx": {
   "timeout": 600
  },
  "toc": {
   "base_numbering": 1,
   "nav_menu": {},
   "number_sections": true,
   "sideBar": true,
   "skip_h1_title": false,
   "title_cell": "Table of Contents",
   "title_sidebar": "Contents",
   "toc_cell": false,
   "toc_position": {},
   "toc_section_display": true,
   "toc_window_display": false
  },
  "varInspector": {
   "cols": {
    "lenName": 16,
    "lenType": 16,
    "lenVar": 40
   },
   "kernels_config": {
    "python": {
     "delete_cmd_postfix": "",
     "delete_cmd_prefix": "del ",
     "library": "var_list.py",
     "varRefreshCmd": "print(var_dic_list())"
    },
    "r": {
     "delete_cmd_postfix": ") ",
     "delete_cmd_prefix": "rm(",
     "library": "var_list.r",
     "varRefreshCmd": "cat(var_dic_list()) "
    }
   },
   "types_to_exclude": [
    "module",
    "function",
    "builtin_function_or_method",
    "instance",
    "_Feature"
   ],
   "window_display": false
  }
 },
 "nbformat": 4,
 "nbformat_minor": 2
}
