{
 "cells": [
  {
   "cell_type": "markdown",
   "metadata": {},
   "source": [
    "# DataSet Performance\n",
    "\n",
    "This notebook shows the trade-off between inserting data into a database row-by-row and as binary blobs. Inserting the data row-by-row means that we have direct access to all the data and may perform queries directly on the values of the data. On the other hand, as we shall see, this is much slower than inserting the data directly as binary blobs."
   ]
  },
  {
   "cell_type": "markdown",
   "metadata": {},
   "source": [
    "First, we choose a new location for the database to ensure that we don't add a bunch of benchmarking data to the default one."
   ]
  },
  {
   "cell_type": "code",
   "execution_count": 1,
   "metadata": {
    "execution": {
     "iopub.execute_input": "2021-04-06T06:32:35.180600Z",
     "iopub.status.busy": "2021-04-06T06:32:35.180028Z",
     "iopub.status.idle": "2021-04-06T06:32:36.272593Z",
     "shell.execute_reply": "2021-04-06T06:32:36.271346Z"
    }
   },
   "outputs": [
    {
     "name": "stdout",
     "output_type": "stream",
     "text": [
      "Logging hadn't been started.\n",
      "Activating auto-logging. Current session state plus future input saved.\n",
      "Filename       : /home/runner/.qcodes/logs/command_history.log\n",
      "Mode           : append\n",
      "Output logging : True\n",
      "Raw input log  : False\n",
      "Timestamping   : True\n",
      "State          : active\n"
     ]
    },
    {
     "name": "stdout",
     "output_type": "stream",
     "text": [
      "Qcodes Logfile : /home/runner/.qcodes/logs/210406-5032-qcodes.log\n"
     ]
    }
   ],
   "source": [
    "import os\n",
    "cwd = os.getcwd()\n",
    "import qcodes as qc\n",
    "qc.config[\"core\"][\"db_location\"] = os.path.join(cwd, 'testing.db')\n"
   ]
  },
  {
   "cell_type": "code",
   "execution_count": 2,
   "metadata": {
    "execution": {
     "iopub.execute_input": "2021-04-06T06:32:36.279960Z",
     "iopub.status.busy": "2021-04-06T06:32:36.279039Z",
     "iopub.status.idle": "2021-04-06T06:32:36.538078Z",
     "shell.execute_reply": "2021-04-06T06:32:36.537451Z"
    }
   },
   "outputs": [],
   "source": [
    "%matplotlib inline\n",
    "import time\n",
    "import matplotlib.pyplot as plt\n",
    "import numpy as np\n",
    "\n",
    "import qcodes as qc\n",
    "from qcodes.instrument.parameter import ManualParameter\n",
    "from qcodes.dataset.experiment_container import (Experiment,\n",
    "                                                 load_last_experiment,\n",
    "                                                 new_experiment)\n",
    "from qcodes.dataset.sqlite.database import initialise_database\n",
    "from qcodes import load_or_create_experiment\n",
    "from qcodes.dataset.measurements import Measurement"
   ]
  },
  {
   "cell_type": "code",
   "execution_count": 3,
   "metadata": {
    "execution": {
     "iopub.execute_input": "2021-04-06T06:32:36.542377Z",
     "iopub.status.busy": "2021-04-06T06:32:36.541469Z",
     "iopub.status.idle": "2021-04-06T06:32:36.615767Z",
     "shell.execute_reply": "2021-04-06T06:32:36.615264Z"
    }
   },
   "outputs": [
    {
     "name": "stdout",
     "output_type": "stream",
     "text": [
      "\r",
      "0it [00:00, ?it/s]"
     ]
    },
    {
     "name": "stdout",
     "output_type": "stream",
     "text": [
      "\r",
      "Upgrading database; v0 -> v1: : 0it [00:00, ?it/s]"
     ]
    },
    {
     "name": "stdout",
     "output_type": "stream",
     "text": [
      "\r",
      "Upgrading database; v0 -> v1: : 0it [00:00, ?it/s]"
     ]
    },
    {
     "name": "stdout",
     "output_type": "stream",
     "text": [
      "\n",
      "\r",
      "  0%|          | 0/1 [00:00<?, ?it/s]"
     ]
    },
    {
     "name": "stdout",
     "output_type": "stream",
     "text": [
      "\r",
      "Upgrading database; v1 -> v2:   0%|          | 0/1 [00:00<?, ?it/s]"
     ]
    },
    {
     "name": "stdout",
     "output_type": "stream",
     "text": [
      "\r",
      "Upgrading database; v1 -> v2: 100%|██████████| 1/1 [00:00<00:00, 1144.11it/s]"
     ]
    },
    {
     "name": "stdout",
     "output_type": "stream",
     "text": [
      "\n",
      "\r",
      "0it [00:00, ?it/s]"
     ]
    },
    {
     "name": "stdout",
     "output_type": "stream",
     "text": [
      "\r",
      "Upgrading database; v2 -> v3: : 0it [00:00, ?it/s]"
     ]
    },
    {
     "name": "stdout",
     "output_type": "stream",
     "text": [
      "\r",
      "Upgrading database; v2 -> v3: : 0it [00:00, ?it/s]"
     ]
    },
    {
     "name": "stdout",
     "output_type": "stream",
     "text": [
      "\n",
      "\r",
      "0it [00:00, ?it/s]"
     ]
    },
    {
     "name": "stdout",
     "output_type": "stream",
     "text": [
      "\r",
      "Upgrading database; v3 -> v4: : 0it [00:00, ?it/s]"
     ]
    },
    {
     "name": "stdout",
     "output_type": "stream",
     "text": [
      "\r",
      "Upgrading database; v3 -> v4: : 0it [00:00, ?it/s]"
     ]
    },
    {
     "name": "stdout",
     "output_type": "stream",
     "text": [
      "\n",
      "\r",
      "  0%|          | 0/1 [00:00<?, ?it/s]"
     ]
    },
    {
     "name": "stdout",
     "output_type": "stream",
     "text": [
      "\r",
      "Upgrading database; v4 -> v5:   0%|          | 0/1 [00:00<?, ?it/s]"
     ]
    },
    {
     "name": "stdout",
     "output_type": "stream",
     "text": [
      "\r",
      "Upgrading database; v4 -> v5: 100%|██████████| 1/1 [00:00<00:00, 527.39it/s]"
     ]
    },
    {
     "name": "stdout",
     "output_type": "stream",
     "text": [
      "\n",
      "\r",
      "0it [00:00, ?it/s]"
     ]
    },
    {
     "name": "stdout",
     "output_type": "stream",
     "text": [
      "\r",
      "Upgrading database; v5 -> v6: : 0it [00:00, ?it/s]"
     ]
    },
    {
     "name": "stdout",
     "output_type": "stream",
     "text": [
      "\r",
      "Upgrading database; v5 -> v6: : 0it [00:00, ?it/s]"
     ]
    },
    {
     "name": "stdout",
     "output_type": "stream",
     "text": [
      "\n",
      "\r",
      "  0%|          | 0/1 [00:00<?, ?it/s]"
     ]
    },
    {
     "name": "stdout",
     "output_type": "stream",
     "text": [
      "\r",
      "Upgrading database; v6 -> v7:   0%|          | 0/1 [00:00<?, ?it/s]"
     ]
    },
    {
     "name": "stdout",
     "output_type": "stream",
     "text": [
      "\r",
      "Upgrading database; v6 -> v7: 100%|██████████| 1/1 [00:00<00:00, 275.14it/s]"
     ]
    },
    {
     "name": "stdout",
     "output_type": "stream",
     "text": [
      "\n",
      "\r",
      "  0%|          | 0/1 [00:00<?, ?it/s]"
     ]
    },
    {
     "name": "stdout",
     "output_type": "stream",
     "text": [
      "\r",
      "Upgrading database; v7 -> v8:   0%|          | 0/1 [00:00<?, ?it/s]"
     ]
    },
    {
     "name": "stdout",
     "output_type": "stream",
     "text": [
      "\r",
      "Upgrading database; v7 -> v8: 100%|██████████| 1/1 [00:00<00:00, 421.75it/s]"
     ]
    },
    {
     "name": "stdout",
     "output_type": "stream",
     "text": [
      "\n",
      "\r",
      "  0%|          | 0/1 [00:00<?, ?it/s]"
     ]
    },
    {
     "name": "stdout",
     "output_type": "stream",
     "text": [
      "\r",
      "Upgrading database; v8 -> v9:   0%|          | 0/1 [00:00<?, ?it/s]"
     ]
    },
    {
     "name": "stdout",
     "output_type": "stream",
     "text": [
      "\r",
      "Upgrading database; v8 -> v9: 100%|██████████| 1/1 [00:00<00:00, 334.50it/s]"
     ]
    },
    {
     "name": "stdout",
     "output_type": "stream",
     "text": [
      "\n"
     ]
    }
   ],
   "source": [
    "initialise_database()\n",
    "exp = load_or_create_experiment(experiment_name='tutorial_exp', sample_name=\"no sample\")"
   ]
  },
  {
   "cell_type": "markdown",
   "metadata": {},
   "source": [
    "Here, we define a simple function to benchmark the time it takes to insert n points with either numeric or array data type.\n",
    "We will compare both the time used to call ``add_result`` and the time used for the full measurement."
   ]
  },
  {
   "cell_type": "code",
   "execution_count": 4,
   "metadata": {
    "execution": {
     "iopub.execute_input": "2021-04-06T06:32:36.625419Z",
     "iopub.status.busy": "2021-04-06T06:32:36.624821Z",
     "iopub.status.idle": "2021-04-06T06:32:36.628518Z",
     "shell.execute_reply": "2021-04-06T06:32:36.628034Z"
    }
   },
   "outputs": [],
   "source": [
    "def insert_data(paramtype, npoints, nreps=1):\n",
    "\n",
    "    meas = Measurement(exp=exp)\n",
    "\n",
    "    x1 = ManualParameter('x1')\n",
    "    x2 = ManualParameter('x2')\n",
    "    x3 = ManualParameter('x3')\n",
    "    y1 = ManualParameter('y1')\n",
    "    y2 = ManualParameter('y2')\n",
    "\n",
    "    meas.register_parameter(x1, paramtype=paramtype)\n",
    "    meas.register_parameter(x2, paramtype=paramtype)\n",
    "    meas.register_parameter(x3, paramtype=paramtype)\n",
    "    meas.register_parameter(y1, setpoints=[x1, x2, x3],\n",
    "                            paramtype=paramtype)\n",
    "    meas.register_parameter(y2, setpoints=[x1, x2, x3],\n",
    "                            paramtype=paramtype)\n",
    "    start = time.perf_counter()\n",
    "    with meas.run() as datasaver:\n",
    "        start_adding = time.perf_counter()\n",
    "        for i in range(nreps):\n",
    "            datasaver.add_result((x1, np.random.rand(npoints)),\n",
    "                                 (x2, np.random.rand(npoints)),\n",
    "                                 (x3, np.random.rand(npoints)),\n",
    "                                 (y1, np.random.rand(npoints)),\n",
    "                                 (y2, np.random.rand(npoints)))\n",
    "        stop_adding = time.perf_counter()\n",
    "        run_id = datasaver.run_id\n",
    "    stop = time.perf_counter()\n",
    "    tot_time = stop - start\n",
    "    add_time = stop_adding - start_adding\n",
    "    return tot_time, add_time, run_id"
   ]
  },
  {
   "cell_type": "markdown",
   "metadata": {},
   "source": [
    "## Comparison between numeric/array data and binary blob"
   ]
  },
  {
   "cell_type": "markdown",
   "metadata": {},
   "source": [
    "### Case1: Short experiment time"
   ]
  },
  {
   "cell_type": "code",
   "execution_count": 5,
   "metadata": {
    "execution": {
     "iopub.execute_input": "2021-04-06T06:32:36.635510Z",
     "iopub.status.busy": "2021-04-06T06:32:36.634918Z",
     "iopub.status.idle": "2021-04-06T06:32:37.489906Z",
     "shell.execute_reply": "2021-04-06T06:32:37.489065Z"
    }
   },
   "outputs": [
    {
     "name": "stdout",
     "output_type": "stream",
     "text": [
      "Starting experimental run with id: 1. \n",
      "Starting experimental run with id: 2. \n",
      "Starting experimental run with id: 3. \n",
      "Starting experimental run with id: 4. \n",
      "Starting experimental run with id: 5. \n"
     ]
    },
    {
     "name": "stdout",
     "output_type": "stream",
     "text": [
      "Starting experimental run with id: 6. \n"
     ]
    },
    {
     "name": "stdout",
     "output_type": "stream",
     "text": [
      "Starting experimental run with id: 7. \n"
     ]
    },
    {
     "name": "stdout",
     "output_type": "stream",
     "text": [
      "Starting experimental run with id: 8. \n",
      "Starting experimental run with id: 9. \n"
     ]
    },
    {
     "name": "stdout",
     "output_type": "stream",
     "text": [
      "Starting experimental run with id: 10. \n",
      "Starting experimental run with id: 11. \n"
     ]
    },
    {
     "name": "stdout",
     "output_type": "stream",
     "text": [
      "Starting experimental run with id: 12. \n",
      "Starting experimental run with id: 13. \n"
     ]
    },
    {
     "name": "stdout",
     "output_type": "stream",
     "text": [
      "Starting experimental run with id: 14. \n"
     ]
    }
   ],
   "source": [
    "sizes = [1,500,1000,2000,3000,4000,5000]\n",
    "t_numeric = []\n",
    "t_numeric_add = []\n",
    "t_array = []\n",
    "t_array_add = []\n",
    "for size in sizes:\n",
    "    tn, tna, run_id_n =  insert_data('numeric', size)\n",
    "    t_numeric.append(tn)\n",
    "    t_numeric_add.append(tna)\n",
    "\n",
    "    ta, taa, run_id_a =  insert_data('array', size)\n",
    "    t_array.append(ta)\n",
    "    t_array_add.append(taa)"
   ]
  },
  {
   "cell_type": "code",
   "execution_count": 6,
   "metadata": {
    "execution": {
     "iopub.execute_input": "2021-04-06T06:32:37.508371Z",
     "iopub.status.busy": "2021-04-06T06:32:37.495814Z",
     "iopub.status.idle": "2021-04-06T06:32:37.691747Z",
     "shell.execute_reply": "2021-04-06T06:32:37.692197Z"
    }
   },
   "outputs": [
    {
     "data": {
      "image/png": "[encoded data removed]",
      "text/plain": [
       "<Figure size 432x288 with 1 Axes>"
      ]
     },
     "metadata": {
      "needs_background": "light"
     },
     "output_type": "display_data"
    }
   ],
   "source": [
    "fig, ax = plt.subplots(1,1)\n",
    "ax.plot(sizes, t_numeric, 'o-', label='Inserting row-by-row')\n",
    "ax.plot(sizes, t_numeric_add, 'o-', label='Inserting row-by-row: add_result only')\n",
    "ax.plot(sizes, t_array, 'd-', label='Inserting as binary blob')\n",
    "ax.plot(sizes, t_array_add, 'd-', label='Inserting as binary blob: add_result only')\n",
    "ax.legend()\n",
    "ax.set_xlabel('Array length')\n",
    "ax.set_ylabel('Time (s)')\n",
    "fig.tight_layout()"
   ]
  },
  {
   "cell_type": "markdown",
   "metadata": {},
   "source": [
    "As shown in the latter figure, the time to setup and and close the experiment is approximately 0.4 sec. In case of small array sizes, the difference between inserting values of data as arrays and inserting them row-by-row is relatively unimportant. At larger array sizes, i.e. above 10000 points, the cost of writing data as individual datapoints starts to become important.\n"
   ]
  },
  {
   "cell_type": "markdown",
   "metadata": {},
   "source": [
    "### Case2: Long experiment time "
   ]
  },
  {
   "cell_type": "code",
   "execution_count": 7,
   "metadata": {
    "execution": {
     "iopub.execute_input": "2021-04-06T06:32:37.695069Z",
     "iopub.status.busy": "2021-04-06T06:32:37.694495Z",
     "iopub.status.idle": "2021-04-06T06:33:35.132570Z",
     "shell.execute_reply": "2021-04-06T06:33:35.131464Z"
    }
   },
   "outputs": [
    {
     "name": "stdout",
     "output_type": "stream",
     "text": [
      "Starting experimental run with id: 15. \n",
      "Starting experimental run with id: 16. \n",
      "Starting experimental run with id: 17. \n"
     ]
    },
    {
     "name": "stdout",
     "output_type": "stream",
     "text": [
      "Starting experimental run with id: 18. \n",
      "Starting experimental run with id: 19. \n"
     ]
    },
    {
     "name": "stdout",
     "output_type": "stream",
     "text": [
      "Starting experimental run with id: 20. \n"
     ]
    },
    {
     "name": "stdout",
     "output_type": "stream",
     "text": [
      "Starting experimental run with id: 21. \n"
     ]
    },
    {
     "name": "stdout",
     "output_type": "stream",
     "text": [
      "Starting experimental run with id: 22. \n"
     ]
    },
    {
     "name": "stdout",
     "output_type": "stream",
     "text": [
      "Starting experimental run with id: 23. \n"
     ]
    },
    {
     "name": "stdout",
     "output_type": "stream",
     "text": [
      "Starting experimental run with id: 24. \n"
     ]
    },
    {
     "name": "stdout",
     "output_type": "stream",
     "text": [
      "Starting experimental run with id: 25. \n"
     ]
    },
    {
     "name": "stdout",
     "output_type": "stream",
     "text": [
      "Starting experimental run with id: 26. \n"
     ]
    },
    {
     "name": "stdout",
     "output_type": "stream",
     "text": [
      "Starting experimental run with id: 27. \n"
     ]
    },
    {
     "name": "stdout",
     "output_type": "stream",
     "text": [
      "Starting experimental run with id: 28. \n"
     ]
    }
   ],
   "source": [
    "sizes = [1,500,1000,2000,3000,4000,5000]\n",
    "nreps = 100\n",
    "t_numeric = []\n",
    "t_numeric_add = []\n",
    "t_numeric_run_ids = []\n",
    "t_array = []\n",
    "t_array_add = []\n",
    "t_array_run_ids = []\n",
    "for size in sizes:\n",
    "    tn, tna, run_id_n =  insert_data('numeric', size, nreps=nreps)\n",
    "    t_numeric.append(tn)\n",
    "    t_numeric_add.append(tna)\n",
    "    t_numeric_run_ids.append(run_id_n)\n",
    "\n",
    "    ta, taa, run_id_a =  insert_data('array', size, nreps=nreps)\n",
    "    t_array.append(ta)\n",
    "    t_array_add.append(taa)\n",
    "    t_array_run_ids.append(run_id_a)"
   ]
  },
  {
   "cell_type": "code",
   "execution_count": 8,
   "metadata": {
    "execution": {
     "iopub.execute_input": "2021-04-06T06:33:35.166081Z",
     "iopub.status.busy": "2021-04-06T06:33:35.156456Z",
     "iopub.status.idle": "2021-04-06T06:33:35.328708Z",
     "shell.execute_reply": "2021-04-06T06:33:35.329559Z"
    },
    "scrolled": true
   },
   "outputs": [
    {
     "data": {
      "image/png": "[encoded data removed]",
      "text/plain": [
       "<Figure size 432x288 with 1 Axes>"
      ]
     },
     "metadata": {
      "needs_background": "light"
     },
     "output_type": "display_data"
    }
   ],
   "source": [
    "fig, ax = plt.subplots(1,1)\n",
    "ax.plot(sizes, t_numeric, 'o-', label='Inserting row-by-row')\n",
    "ax.plot(sizes, t_numeric_add, 'o-', label='Inserting row-by-row: add_result only')\n",
    "ax.plot(sizes, t_array, 'd-', label='Inserting as binary blob')\n",
    "ax.plot(sizes, t_array_add, 'd-', label='Inserting as binary blob: add_result only')\n",
    "ax.legend()\n",
    "ax.set_xlabel('Array length')\n",
    "ax.set_ylabel('Time (s)')\n",
    "fig.tight_layout()"
   ]
  },
  {
   "cell_type": "markdown",
   "metadata": {},
   "source": [
    "However, as we increase the length of the experiment, as seen here by repeating the insertion 100 times, we see a big difference between inserting values of the data row-by-row and inserting it as a binary blob."
   ]
  },
  {
   "cell_type": "markdown",
   "metadata": {},
   "source": [
    "## Loading the data "
   ]
  },
  {
   "cell_type": "code",
   "execution_count": 9,
   "metadata": {
    "execution": {
     "iopub.execute_input": "2021-04-06T06:33:35.333383Z",
     "iopub.status.busy": "2021-04-06T06:33:35.332232Z",
     "iopub.status.idle": "2021-04-06T06:33:35.337488Z",
     "shell.execute_reply": "2021-04-06T06:33:35.338308Z"
    }
   },
   "outputs": [],
   "source": [
    "from qcodes.dataset.data_set import load_by_id\n",
    "from qcodes.dataset.data_export import get_data_by_id"
   ]
  },
  {
   "cell_type": "markdown",
   "metadata": {},
   "source": [
    "As usual you can load the data by using the ``load_by_id`` function but you will notice that the different storage methods\n",
    "are reflected in shape of the data as it is retrieved. "
   ]
  },
  {
   "cell_type": "code",
   "execution_count": 10,
   "metadata": {
    "execution": {
     "iopub.execute_input": "2021-04-06T06:33:35.343207Z",
     "iopub.status.busy": "2021-04-06T06:33:35.340914Z",
     "iopub.status.idle": "2021-04-06T06:33:35.346958Z",
     "shell.execute_reply": "2021-04-06T06:33:35.345733Z"
    }
   },
   "outputs": [],
   "source": [
    "run_id_n = t_numeric_run_ids[0]\n",
    "run_id_a = t_array_run_ids[0]"
   ]
  },
  {
   "cell_type": "code",
   "execution_count": 11,
   "metadata": {
    "execution": {
     "iopub.execute_input": "2021-04-06T06:33:35.350604Z",
     "iopub.status.busy": "2021-04-06T06:33:35.350050Z",
     "iopub.status.idle": "2021-04-06T06:33:35.359936Z",
     "shell.execute_reply": "2021-04-06T06:33:35.359431Z"
    },
    "scrolled": true
   },
   "outputs": [
    {
     "data": {
      "text/plain": [
       "{'x1': {'x1': array([0.88749707, 0.88749707, 0.3967648 , 0.3967648 , 0.21413021,\n",
       "         0.21413021, 0.08825168, 0.08825168, 0.20661356, 0.20661356,\n",
       "         0.77021044, 0.77021044, 0.43783363, 0.43783363, 0.76737616,\n",
       "         0.76737616, 0.42297412, 0.42297412, 0.53530986, 0.53530986,\n",
       "         0.57903728, 0.57903728, 0.53009449, 0.53009449, 0.90191853,\n",
       "         0.90191853, 0.53422354, 0.53422354, 0.06231406, 0.06231406,\n",
       "         0.59947107, 0.59947107, 0.45320209, 0.45320209, 0.63832048,\n",
       "         0.63832048, 0.46704571, 0.46704571, 0.58034806, 0.58034806,\n",
       "         0.06726778, 0.06726778, 0.22405729, 0.22405729, 0.95491513,\n",
       "         0.95491513, 0.67980765, 0.67980765, 0.94773288, 0.94773288,\n",
       "         0.29169765, 0.29169765, 0.56973857, 0.56973857, 0.71955889,\n",
       "         0.71955889, 0.543746  , 0.543746  , 0.39867807, 0.39867807,\n",
       "         0.6226641 , 0.6226641 , 0.70097554, 0.70097554, 0.06218845,\n",
       "         0.06218845, 0.14793105, 0.14793105, 0.38233504, 0.38233504,\n",
       "         0.25250766, 0.25250766, 0.69188273, 0.69188273, 0.62746665,\n",
       "         0.62746665, 0.26191746, 0.26191746, 0.35962199, 0.35962199,\n",
       "         0.95391601, 0.95391601, 0.43150643, 0.43150643, 0.69663111,\n",
       "         0.69663111, 0.11741465, 0.11741465, 0.17329452, 0.17329452,\n",
       "         0.45464316, 0.45464316, 0.62828956, 0.62828956, 0.19275092,\n",
       "         0.19275092, 0.62061882, 0.62061882, 0.86922729, 0.86922729,\n",
       "         0.03198962, 0.03198962, 0.05304857, 0.05304857, 0.80031039,\n",
       "         0.80031039, 0.2636553 , 0.2636553 , 0.65386812, 0.65386812,\n",
       "         0.6347324 , 0.6347324 , 0.88388411, 0.88388411, 0.47884246,\n",
       "         0.47884246, 0.83095049, 0.83095049, 0.93797263, 0.93797263,\n",
       "         0.23423456, 0.23423456, 0.0961709 , 0.0961709 , 0.79961697,\n",
       "         0.79961697, 0.25729956, 0.25729956, 0.47233796, 0.47233796,\n",
       "         0.75617174, 0.75617174, 0.11036714, 0.11036714, 0.22095595,\n",
       "         0.22095595, 0.6298681 , 0.6298681 , 0.80417245, 0.80417245,\n",
       "         0.94276987, 0.94276987, 0.49568527, 0.49568527, 0.99630999,\n",
       "         0.99630999, 0.55697093, 0.55697093, 0.10894791, 0.10894791,\n",
       "         0.74570428, 0.74570428, 0.13418214, 0.13418214, 0.03003686,\n",
       "         0.03003686, 0.44364769, 0.44364769, 0.42847523, 0.42847523,\n",
       "         0.36530327, 0.36530327, 0.66668761, 0.66668761, 0.8666055 ,\n",
       "         0.8666055 , 0.50199369, 0.50199369, 0.42158465, 0.42158465,\n",
       "         0.52370299, 0.52370299, 0.23989165, 0.23989165, 0.04338008,\n",
       "         0.04338008, 0.40514369, 0.40514369, 0.63755113, 0.63755113,\n",
       "         0.56460854, 0.56460854, 0.41770503, 0.41770503, 0.74207474,\n",
       "         0.74207474, 0.0044285 , 0.0044285 , 0.69048395, 0.69048395,\n",
       "         0.93745974, 0.93745974, 0.98109737, 0.98109737, 0.39078153,\n",
       "         0.39078153, 0.82841099, 0.82841099, 0.58324083, 0.58324083])}}"
      ]
     },
     "execution_count": 1,
     "metadata": {},
     "output_type": "execute_result"
    }
   ],
   "source": [
    "ds = load_by_id(run_id_n)\n",
    "ds.get_parameter_data('x1')"
   ]
  },
  {
   "cell_type": "markdown",
   "metadata": {},
   "source": [
    "And a dataset stored as binary arrays"
   ]
  },
  {
   "cell_type": "code",
   "execution_count": 12,
   "metadata": {
    "execution": {
     "iopub.execute_input": "2021-04-06T06:33:35.363583Z",
     "iopub.status.busy": "2021-04-06T06:33:35.363021Z",
     "iopub.status.idle": "2021-04-06T06:33:35.421091Z",
     "shell.execute_reply": "2021-04-06T06:33:35.421868Z"
    },
    "scrolled": true
   },
   "outputs": [
    {
     "data": {
      "text/plain": [
       "{'x1': {'x1': array([[0.80337492],\n",
       "         [0.80337492],\n",
       "         [0.47637155],\n",
       "         [0.47637155],\n",
       "         [0.22041839],\n",
       "         [0.22041839],\n",
       "         [0.85482304],\n",
       "         [0.85482304],\n",
       "         [0.84368751],\n",
       "         [0.84368751],\n",
       "         [0.5546171 ],\n",
       "         [0.5546171 ],\n",
       "         [0.01290039],\n",
       "         [0.01290039],\n",
       "         [0.4984741 ],\n",
       "         [0.4984741 ],\n",
       "         [0.84847214],\n",
       "         [0.84847214],\n",
       "         [0.24962673],\n",
       "         [0.24962673],\n",
       "         [0.64118793],\n",
       "         [0.64118793],\n",
       "         [0.41682209],\n",
       "         [0.41682209],\n",
       "         [0.1011525 ],\n",
       "         [0.1011525 ],\n",
       "         [0.81595614],\n",
       "         [0.81595614],\n",
       "         [0.93885918],\n",
       "         [0.93885918],\n",
       "         [0.34302844],\n",
       "         [0.34302844],\n",
       "         [0.12498796],\n",
       "         [0.12498796],\n",
       "         [0.13349108],\n",
       "         [0.13349108],\n",
       "         [0.75866561],\n",
       "         [0.75866561],\n",
       "         [0.76560505],\n",
       "         [0.76560505],\n",
       "         [0.53174556],\n",
       "         [0.53174556],\n",
       "         [0.55587423],\n",
       "         [0.55587423],\n",
       "         [0.55500002],\n",
       "         [0.55500002],\n",
       "         [0.29938566],\n",
       "         [0.29938566],\n",
       "         [0.41253498],\n",
       "         [0.41253498],\n",
       "         [0.57227866],\n",
       "         [0.57227866],\n",
       "         [0.6853874 ],\n",
       "         [0.6853874 ],\n",
       "         [0.15034968],\n",
       "         [0.15034968],\n",
       "         [0.20449317],\n",
       "         [0.20449317],\n",
       "         [0.33917041],\n",
       "         [0.33917041],\n",
       "         [0.65647243],\n",
       "         [0.65647243],\n",
       "         [0.61614345],\n",
       "         [0.61614345],\n",
       "         [0.76959224],\n",
       "         [0.76959224],\n",
       "         [0.84517659],\n",
       "         [0.84517659],\n",
       "         [0.53899926],\n",
       "         [0.53899926],\n",
       "         [0.87711336],\n",
       "         [0.87711336],\n",
       "         [0.16054806],\n",
       "         [0.16054806],\n",
       "         [0.72371593],\n",
       "         [0.72371593],\n",
       "         [0.42378385],\n",
       "         [0.42378385],\n",
       "         [0.05013399],\n",
       "         [0.05013399],\n",
       "         [0.39913577],\n",
       "         [0.39913577],\n",
       "         [0.83977629],\n",
       "         [0.83977629],\n",
       "         [0.71569779],\n",
       "         [0.71569779],\n",
       "         [0.55546051],\n",
       "         [0.55546051],\n",
       "         [0.50192854],\n",
       "         [0.50192854],\n",
       "         [0.57418245],\n",
       "         [0.57418245],\n",
       "         [0.25107957],\n",
       "         [0.25107957],\n",
       "         [0.3693024 ],\n",
       "         [0.3693024 ],\n",
       "         [0.63128277],\n",
       "         [0.63128277],\n",
       "         [0.14167148],\n",
       "         [0.14167148],\n",
       "         [0.37935894],\n",
       "         [0.37935894],\n",
       "         [0.7071317 ],\n",
       "         [0.7071317 ],\n",
       "         [0.65783669],\n",
       "         [0.65783669],\n",
       "         [0.00330931],\n",
       "         [0.00330931],\n",
       "         [0.53238088],\n",
       "         [0.53238088],\n",
       "         [0.44965875],\n",
       "         [0.44965875],\n",
       "         [0.81519083],\n",
       "         [0.81519083],\n",
       "         [0.98174396],\n",
       "         [0.98174396],\n",
       "         [0.33704428],\n",
       "         [0.33704428],\n",
       "         [0.63275233],\n",
       "         [0.63275233],\n",
       "         [0.83943488],\n",
       "         [0.83943488],\n",
       "         [0.75876474],\n",
       "         [0.75876474],\n",
       "         [0.4312065 ],\n",
       "         [0.4312065 ],\n",
       "         [0.77677815],\n",
       "         [0.77677815],\n",
       "         [0.29444797],\n",
       "         [0.29444797],\n",
       "         [0.99958358],\n",
       "         [0.99958358],\n",
       "         [0.82575748],\n",
       "         [0.82575748],\n",
       "         [0.81695636],\n",
       "         [0.81695636],\n",
       "         [0.70899086],\n",
       "         [0.70899086],\n",
       "         [0.63641794],\n",
       "         [0.63641794],\n",
       "         [0.42427981],\n",
       "         [0.42427981],\n",
       "         [0.98390075],\n",
       "         [0.98390075],\n",
       "         [0.51745524],\n",
       "         [0.51745524],\n",
       "         [0.0912432 ],\n",
       "         [0.0912432 ],\n",
       "         [0.44375788],\n",
       "         [0.44375788],\n",
       "         [0.76853813],\n",
       "         [0.76853813],\n",
       "         [0.71005403],\n",
       "         [0.71005403],\n",
       "         [0.90544717],\n",
       "         [0.90544717],\n",
       "         [0.4057864 ],\n",
       "         [0.4057864 ],\n",
       "         [0.32119307],\n",
       "         [0.32119307],\n",
       "         [0.65625172],\n",
       "         [0.65625172],\n",
       "         [0.36594426],\n",
       "         [0.36594426],\n",
       "         [0.2630092 ],\n",
       "         [0.2630092 ],\n",
       "         [0.02702665],\n",
       "         [0.02702665],\n",
       "         [0.98614153],\n",
       "         [0.98614153],\n",
       "         [0.55008956],\n",
       "         [0.55008956],\n",
       "         [0.73985497],\n",
       "         [0.73985497],\n",
       "         [0.04451886],\n",
       "         [0.04451886],\n",
       "         [0.36060328],\n",
       "         [0.36060328],\n",
       "         [0.31162541],\n",
       "         [0.31162541],\n",
       "         [0.531987  ],\n",
       "         [0.531987  ],\n",
       "         [0.55122924],\n",
       "         [0.55122924],\n",
       "         [0.32182816],\n",
       "         [0.32182816],\n",
       "         [0.78171348],\n",
       "         [0.78171348],\n",
       "         [0.2384135 ],\n",
       "         [0.2384135 ],\n",
       "         [0.74497576],\n",
       "         [0.74497576],\n",
       "         [0.19232326],\n",
       "         [0.19232326],\n",
       "         [0.09387837],\n",
       "         [0.09387837],\n",
       "         [0.27919853],\n",
       "         [0.27919853],\n",
       "         [0.07808275],\n",
       "         [0.07808275]])}}"
      ]
     },
     "execution_count": 1,
     "metadata": {},
     "output_type": "execute_result"
    }
   ],
   "source": [
    "ds = load_by_id(run_id_a)\n",
    "ds.get_parameter_data('x1')"
   ]
  },
  {
   "cell_type": "code",
   "execution_count": null,
   "metadata": {},
   "outputs": [],
   "source": []
  }
 ],
 "metadata": {
  "kernelspec": {
   "display_name": "Python 3",
   "language": "python",
   "name": "python3"
  },
  "language_info": {
   "codemirror_mode": {
    "name": "ipython",
    "version": 3
   },
   "file_extension": ".py",
   "mimetype": "text/x-python",
   "name": "python",
   "nbconvert_exporter": "python",
   "pygments_lexer": "ipython3",
   "version": "3.7.10"
  },
  "nbsphinx": {
   "timeout": 600
  },
  "toc": {
   "base_numbering": 1,
   "nav_menu": {},
   "number_sections": true,
   "sideBar": true,
   "skip_h1_title": false,
   "title_cell": "Table of Contents",
   "title_sidebar": "Contents",
   "toc_cell": false,
   "toc_position": {},
   "toc_section_display": true,
   "toc_window_display": false
  },
  "varInspector": {
   "cols": {
    "lenName": 16,
    "lenType": 16,
    "lenVar": 40
   },
   "kernels_config": {
    "python": {
     "delete_cmd_postfix": "",
     "delete_cmd_prefix": "del ",
     "library": "var_list.py",
     "varRefreshCmd": "print(var_dic_list())"
    },
    "r": {
     "delete_cmd_postfix": ") ",
     "delete_cmd_prefix": "rm(",
     "library": "var_list.r",
     "varRefreshCmd": "cat(var_dic_list()) "
    }
   },
   "types_to_exclude": [
    "module",
    "function",
    "builtin_function_or_method",
    "instance",
    "_Feature"
   ],
   "window_display": false
  }
 },
 "nbformat": 4,
 "nbformat_minor": 2
}
