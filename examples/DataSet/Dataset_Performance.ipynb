{
 "cells": [
  {
   "cell_type": "markdown",
   "metadata": {},
   "source": [
    "# DataSet Performance\n",
    "\n",
    "This notebook shows the trade-off between inserting data into a database row-by-row and as binary blobs. Inserting the data row-by-row means that we have direct access to all the data and may perform queries directly on the values of the data. On the other hand, as we shall see, this is much slower than inserting the data directly as binary blobs."
   ]
  },
  {
   "cell_type": "markdown",
   "metadata": {},
   "source": [
    "First, we choose a new location for the database to ensure that we don't add a bunch of benchmarking data to the default one."
   ]
  },
  {
   "cell_type": "code",
   "execution_count": 1,
   "metadata": {},
   "outputs": [
    {
     "name": "stdout",
     "output_type": "stream",
     "text": [
      "Logging hadn't been started.\n",
      "Activating auto-logging. Current session state plus future input saved.\n",
      "Filename       : /home/vsts/.qcodes/logs/command_history.log\n",
      "Mode           : append\n",
      "Output logging : True\n",
      "Raw input log  : False\n",
      "Timestamping   : True\n",
      "State          : active\n"
     ]
    },
    {
     "name": "stdout",
     "output_type": "stream",
     "text": [
      "Qcodes Logfile : /home/vsts/.qcodes/logs/200325-18653-qcodes.log\n"
     ]
    }
   ],
   "source": [
    "import os\n",
    "cwd = os.getcwd()\n",
    "import qcodes as qc\n",
    "qc.config[\"core\"][\"db_location\"] = os.path.join(cwd, 'testing.db')\n"
   ]
  },
  {
   "cell_type": "code",
   "execution_count": 2,
   "metadata": {},
   "outputs": [],
   "source": [
    "%matplotlib inline\n",
    "import time\n",
    "import matplotlib.pyplot as plt\n",
    "import numpy as np\n",
    "\n",
    "import qcodes as qc\n",
    "from qcodes.instrument.parameter import ManualParameter\n",
    "from qcodes.dataset.experiment_container import (Experiment,\n",
    "                                                 load_last_experiment,\n",
    "                                                 new_experiment)\n",
    "from qcodes.dataset.sqlite.database import initialise_database\n",
    "from qcodes import load_or_create_experiment\n",
    "from qcodes.dataset.measurements import Measurement"
   ]
  },
  {
   "cell_type": "code",
   "execution_count": 3,
   "metadata": {},
   "outputs": [
    {
     "name": "stdout",
     "output_type": "stream",
     "text": [
      "\r",
      "0it [00:00, ?it/s]"
     ]
    },
    {
     "name": "stdout",
     "output_type": "stream",
     "text": [
      "\r",
      "Upgrading database; v0 -> v1: : 0it [00:00, ?it/s]"
     ]
    },
    {
     "name": "stdout",
     "output_type": "stream",
     "text": [
      "\r",
      "Upgrading database; v0 -> v1: : 0it [00:00, ?it/s]"
     ]
    },
    {
     "name": "stdout",
     "output_type": "stream",
     "text": [
      "\n",
      "\r",
      "  0%|          | 0/1 [00:00<?, ?it/s]"
     ]
    },
    {
     "name": "stdout",
     "output_type": "stream",
     "text": [
      "\r",
      "Upgrading database; v1 -> v2:   0%|          | 0/1 [00:00<?, ?it/s]"
     ]
    },
    {
     "name": "stdout",
     "output_type": "stream",
     "text": [
      "\r",
      "Upgrading database; v1 -> v2: 100%|██████████| 1/1 [00:00<00:00, 847.68it/s]"
     ]
    },
    {
     "name": "stdout",
     "output_type": "stream",
     "text": [
      "\n",
      "\r",
      "0it [00:00, ?it/s]"
     ]
    },
    {
     "name": "stdout",
     "output_type": "stream",
     "text": [
      "\r",
      "Upgrading database; v2 -> v3: : 0it [00:00, ?it/s]"
     ]
    },
    {
     "name": "stdout",
     "output_type": "stream",
     "text": [
      "\r",
      "Upgrading database; v2 -> v3: : 0it [00:00, ?it/s]"
     ]
    },
    {
     "name": "stdout",
     "output_type": "stream",
     "text": [
      "\n",
      "\r",
      "0it [00:00, ?it/s]"
     ]
    },
    {
     "name": "stdout",
     "output_type": "stream",
     "text": [
      "\r",
      "Upgrading database; v3 -> v4: : 0it [00:00, ?it/s]"
     ]
    },
    {
     "name": "stdout",
     "output_type": "stream",
     "text": [
      "\r",
      "Upgrading database; v3 -> v4: : 0it [00:00, ?it/s]"
     ]
    },
    {
     "name": "stdout",
     "output_type": "stream",
     "text": [
      "\n",
      "\r",
      "  0%|          | 0/1 [00:00<?, ?it/s]"
     ]
    },
    {
     "name": "stdout",
     "output_type": "stream",
     "text": [
      "\r",
      "Upgrading database; v4 -> v5:   0%|          | 0/1 [00:00<?, ?it/s]"
     ]
    },
    {
     "name": "stdout",
     "output_type": "stream",
     "text": [
      "\r",
      "Upgrading database; v4 -> v5: 100%|██████████| 1/1 [00:00<00:00, 773.57it/s]"
     ]
    },
    {
     "name": "stdout",
     "output_type": "stream",
     "text": [
      "\n",
      "\r",
      "0it [00:00, ?it/s]"
     ]
    },
    {
     "name": "stdout",
     "output_type": "stream",
     "text": [
      "\r",
      "Upgrading database; v5 -> v6: : 0it [00:00, ?it/s]"
     ]
    },
    {
     "name": "stdout",
     "output_type": "stream",
     "text": [
      "\r",
      "Upgrading database; v5 -> v6: : 0it [00:00, ?it/s]"
     ]
    },
    {
     "name": "stdout",
     "output_type": "stream",
     "text": [
      "\n",
      "\r",
      "  0%|          | 0/1 [00:00<?, ?it/s]"
     ]
    },
    {
     "name": "stdout",
     "output_type": "stream",
     "text": [
      "\r",
      "Upgrading database; v6 -> v7:   0%|          | 0/1 [00:00<?, ?it/s]"
     ]
    },
    {
     "name": "stdout",
     "output_type": "stream",
     "text": [
      "\r",
      "Upgrading database; v6 -> v7: 100%|██████████| 1/1 [00:00<00:00, 372.13it/s]"
     ]
    },
    {
     "name": "stdout",
     "output_type": "stream",
     "text": [
      "\n",
      "\r",
      "  0%|          | 0/1 [00:00<?, ?it/s]"
     ]
    },
    {
     "name": "stdout",
     "output_type": "stream",
     "text": [
      "\r",
      "Upgrading database; v7 -> v8:   0%|          | 0/1 [00:00<?, ?it/s]"
     ]
    },
    {
     "name": "stdout",
     "output_type": "stream",
     "text": [
      "\r",
      "Upgrading database; v7 -> v8: 100%|██████████| 1/1 [00:00<00:00, 587.11it/s]"
     ]
    },
    {
     "name": "stdout",
     "output_type": "stream",
     "text": [
      "\n",
      "\r",
      "  0%|          | 0/1 [00:00<?, ?it/s]"
     ]
    },
    {
     "name": "stdout",
     "output_type": "stream",
     "text": [
      "\r",
      "Upgrading database; v8 -> v9:   0%|          | 0/1 [00:00<?, ?it/s]"
     ]
    },
    {
     "name": "stdout",
     "output_type": "stream",
     "text": [
      "\r",
      "Upgrading database; v8 -> v9: 100%|██████████| 1/1 [00:00<00:00, 746.05it/s]"
     ]
    },
    {
     "name": "stdout",
     "output_type": "stream",
     "text": [
      "\n"
     ]
    }
   ],
   "source": [
    "initialise_database()\n",
    "exp = load_or_create_experiment(experiment_name='tutorial_exp', sample_name=\"no sample\")"
   ]
  },
  {
   "cell_type": "markdown",
   "metadata": {},
   "source": [
    "Here, we define a simple function to benchmark the time it takes to insert n points with either numeric or array data type.\n",
    "We will compare both the time used to call ``add_result`` and the time used for the full measurement."
   ]
  },
  {
   "cell_type": "code",
   "execution_count": 4,
   "metadata": {},
   "outputs": [],
   "source": [
    "def insert_data(paramtype, npoints, nreps=1):\n",
    "\n",
    "    meas = Measurement(exp=exp)\n",
    "\n",
    "    x1 = ManualParameter('x1')\n",
    "    x2 = ManualParameter('x2')\n",
    "    x3 = ManualParameter('x3')\n",
    "    y1 = ManualParameter('y1')\n",
    "    y2 = ManualParameter('y2')\n",
    "\n",
    "    meas.register_parameter(x1, paramtype=paramtype)\n",
    "    meas.register_parameter(x2, paramtype=paramtype)\n",
    "    meas.register_parameter(x3, paramtype=paramtype)\n",
    "    meas.register_parameter(y1, setpoints=[x1, x2, x3],\n",
    "                            paramtype=paramtype)\n",
    "    meas.register_parameter(y2, setpoints=[x1, x2, x3],\n",
    "                            paramtype=paramtype)\n",
    "    start = time.perf_counter()\n",
    "    with meas.run() as datasaver:\n",
    "        start_adding = time.perf_counter()\n",
    "        for i in range(nreps):\n",
    "            datasaver.add_result((x1, np.random.rand(npoints)),\n",
    "                                 (x2, np.random.rand(npoints)),\n",
    "                                 (x3, np.random.rand(npoints)),\n",
    "                                 (y1, np.random.rand(npoints)),\n",
    "                                 (y2, np.random.rand(npoints)))\n",
    "        stop_adding = time.perf_counter()\n",
    "        run_id = datasaver.run_id\n",
    "    stop = time.perf_counter()\n",
    "    tot_time = stop - start\n",
    "    add_time = stop_adding - start_adding\n",
    "    return tot_time, add_time, run_id"
   ]
  },
  {
   "cell_type": "markdown",
   "metadata": {},
   "source": [
    "## Comparison between numeric/array data and binary blob"
   ]
  },
  {
   "cell_type": "markdown",
   "metadata": {},
   "source": [
    "### Case1: Short experiment time"
   ]
  },
  {
   "cell_type": "code",
   "execution_count": 5,
   "metadata": {},
   "outputs": [
    {
     "name": "stdout",
     "output_type": "stream",
     "text": [
      "Starting experimental run with id: 1. \n",
      "Starting experimental run with id: 2. \n",
      "Starting experimental run with id: 3. \n"
     ]
    },
    {
     "name": "stdout",
     "output_type": "stream",
     "text": [
      "Starting experimental run with id: 4. \n"
     ]
    },
    {
     "name": "stdout",
     "output_type": "stream",
     "text": [
      "Starting experimental run with id: 5. \n"
     ]
    },
    {
     "name": "stdout",
     "output_type": "stream",
     "text": [
      "Starting experimental run with id: 6. \n",
      "Starting experimental run with id: 7. \n"
     ]
    },
    {
     "name": "stdout",
     "output_type": "stream",
     "text": [
      "Starting experimental run with id: 8. \n"
     ]
    },
    {
     "name": "stdout",
     "output_type": "stream",
     "text": [
      "Starting experimental run with id: 9. \n"
     ]
    },
    {
     "name": "stdout",
     "output_type": "stream",
     "text": [
      "Starting experimental run with id: 10. \n",
      "Starting experimental run with id: 11. \n"
     ]
    },
    {
     "name": "stdout",
     "output_type": "stream",
     "text": [
      "Starting experimental run with id: 12. \n"
     ]
    },
    {
     "name": "stdout",
     "output_type": "stream",
     "text": [
      "Starting experimental run with id: 13. \n"
     ]
    },
    {
     "name": "stdout",
     "output_type": "stream",
     "text": [
      "Starting experimental run with id: 14. \n"
     ]
    }
   ],
   "source": [
    "sizes = [1,500,1000,2000,3000,4000,5000]\n",
    "t_numeric = []\n",
    "t_numeric_add = []\n",
    "t_array = []\n",
    "t_array_add = []\n",
    "for size in sizes:\n",
    "    tn, tna, run_id_n =  insert_data('numeric', size)\n",
    "    t_numeric.append(tn)\n",
    "    t_numeric_add.append(tna)\n",
    "\n",
    "    ta, taa, run_id_a =  insert_data('array', size)\n",
    "    t_array.append(ta)\n",
    "    t_array_add.append(taa)"
   ]
  },
  {
   "cell_type": "code",
   "execution_count": 6,
   "metadata": {},
   "outputs": [
    {
     "data": {
      "image/png": "[encoded data removed]",
      "text/plain": [
       "<Figure size 432x288 with 1 Axes>"
      ]
     },
     "metadata": {
      "needs_background": "light"
     },
     "output_type": "display_data"
    }
   ],
   "source": [
    "fig, ax = plt.subplots(1,1)\n",
    "ax.plot(sizes, t_numeric, 'o-', label='Inserting row-by-row')\n",
    "ax.plot(sizes, t_numeric_add, 'o-', label='Inserting row-by-row: add_result only')\n",
    "ax.plot(sizes, t_array, 'd-', label='Inserting as binary blob')\n",
    "ax.plot(sizes, t_array_add, 'd-', label='Inserting as binary blob: add_result only')\n",
    "ax.legend()\n",
    "ax.set_xlabel('Array length')\n",
    "ax.set_ylabel('Time (s)')\n",
    "fig.tight_layout()"
   ]
  },
  {
   "cell_type": "markdown",
   "metadata": {},
   "source": [
    "As shown in the latter figure, the time to setup and and close the experiment is approximately 0.4 sec. In case of small array sizes, the difference between inserting values of data as arrays and inserting them row-by-row is relatively unimportant. At larger array sizes, i.e. above 10000 points, the cost of writing data as individual datapoints starts to become important.\n"
   ]
  },
  {
   "cell_type": "markdown",
   "metadata": {},
   "source": [
    "### Case2: Long experiment time "
   ]
  },
  {
   "cell_type": "code",
   "execution_count": 7,
   "metadata": {},
   "outputs": [
    {
     "name": "stdout",
     "output_type": "stream",
     "text": [
      "Starting experimental run with id: 15. \n",
      "Starting experimental run with id: 16. \n",
      "Starting experimental run with id: 17. \n"
     ]
    },
    {
     "name": "stdout",
     "output_type": "stream",
     "text": [
      "Starting experimental run with id: 18. \n",
      "Starting experimental run with id: 19. \n"
     ]
    },
    {
     "name": "stdout",
     "output_type": "stream",
     "text": [
      "Starting experimental run with id: 20. \n"
     ]
    },
    {
     "name": "stdout",
     "output_type": "stream",
     "text": [
      "Starting experimental run with id: 21. \n"
     ]
    },
    {
     "name": "stdout",
     "output_type": "stream",
     "text": [
      "Starting experimental run with id: 22. \n"
     ]
    },
    {
     "name": "stdout",
     "output_type": "stream",
     "text": [
      "Starting experimental run with id: 23. \n"
     ]
    },
    {
     "name": "stdout",
     "output_type": "stream",
     "text": [
      "Starting experimental run with id: 24. \n"
     ]
    },
    {
     "name": "stdout",
     "output_type": "stream",
     "text": [
      "Starting experimental run with id: 25. \n"
     ]
    },
    {
     "name": "stdout",
     "output_type": "stream",
     "text": [
      "Starting experimental run with id: 26. \n"
     ]
    },
    {
     "name": "stdout",
     "output_type": "stream",
     "text": [
      "Starting experimental run with id: 27. \n"
     ]
    },
    {
     "name": "stdout",
     "output_type": "stream",
     "text": [
      "Starting experimental run with id: 28. \n"
     ]
    }
   ],
   "source": [
    "sizes = [1,500,1000,2000,3000,4000,5000]\n",
    "nreps = 100\n",
    "t_numeric = []\n",
    "t_numeric_add = []\n",
    "t_numeric_run_ids = []\n",
    "t_array = []\n",
    "t_array_add = []\n",
    "t_array_run_ids = []\n",
    "for size in sizes:\n",
    "    tn, tna, run_id_n =  insert_data('numeric', size, nreps=nreps)\n",
    "    t_numeric.append(tn)\n",
    "    t_numeric_add.append(tna)\n",
    "    t_numeric_run_ids.append(run_id_n)\n",
    "\n",
    "    ta, taa, run_id_a =  insert_data('array', size, nreps=nreps)\n",
    "    t_array.append(ta)\n",
    "    t_array_add.append(taa)\n",
    "    t_array_run_ids.append(run_id_a)"
   ]
  },
  {
   "cell_type": "code",
   "execution_count": 8,
   "metadata": {
    "scrolled": true
   },
   "outputs": [
    {
     "data": {
      "image/png": "[encoded data removed]",
      "text/plain": [
       "<Figure size 432x288 with 1 Axes>"
      ]
     },
     "metadata": {
      "needs_background": "light"
     },
     "output_type": "display_data"
    }
   ],
   "source": [
    "fig, ax = plt.subplots(1,1)\n",
    "ax.plot(sizes, t_numeric, 'o-', label='Inserting row-by-row')\n",
    "ax.plot(sizes, t_numeric_add, 'o-', label='Inserting row-by-row: add_result only')\n",
    "ax.plot(sizes, t_array, 'd-', label='Inserting as binary blob')\n",
    "ax.plot(sizes, t_array_add, 'd-', label='Inserting as binary blob: add_result only')\n",
    "ax.legend()\n",
    "ax.set_xlabel('Array length')\n",
    "ax.set_ylabel('Time (s)')\n",
    "fig.tight_layout()"
   ]
  },
  {
   "cell_type": "markdown",
   "metadata": {},
   "source": [
    "However, as we increase the length of the experiment, as seen here by repeating the insertion 100 times, we see a big difference between inserting values of the data row-by-row and inserting it as a binary blob."
   ]
  },
  {
   "cell_type": "markdown",
   "metadata": {},
   "source": [
    "## Loading the data "
   ]
  },
  {
   "cell_type": "code",
   "execution_count": 9,
   "metadata": {},
   "outputs": [],
   "source": [
    "from qcodes.dataset.data_set import load_by_id\n",
    "from qcodes.dataset.data_export import get_data_by_id"
   ]
  },
  {
   "cell_type": "markdown",
   "metadata": {},
   "source": [
    "As usual you can load the data by using the ``load_by_id`` function but you will notice that the different storage methods\n",
    "are reflected in shape of the data as it is retrieved. "
   ]
  },
  {
   "cell_type": "code",
   "execution_count": 10,
   "metadata": {},
   "outputs": [],
   "source": [
    "run_id_n = t_numeric_run_ids[0]\n",
    "run_id_a = t_array_run_ids[0]"
   ]
  },
  {
   "cell_type": "code",
   "execution_count": 11,
   "metadata": {
    "scrolled": true
   },
   "outputs": [
    {
     "data": {
      "text/plain": [
       "{'x1': {'x1': array([0.75941689, 0.75941689, 0.6821782 , 0.6821782 , 0.80126891,\n",
       "         0.80126891, 0.33438514, 0.33438514, 0.292827  , 0.292827  ,\n",
       "         0.62867773, 0.62867773, 0.23300764, 0.23300764, 0.73542978,\n",
       "         0.73542978, 0.6498098 , 0.6498098 , 0.40083893, 0.40083893,\n",
       "         0.92355302, 0.92355302, 0.25363682, 0.25363682, 0.39385425,\n",
       "         0.39385425, 0.0633457 , 0.0633457 , 0.22247292, 0.22247292,\n",
       "         0.84514741, 0.84514741, 0.33409235, 0.33409235, 0.74085252,\n",
       "         0.74085252, 0.61525322, 0.61525322, 0.5515233 , 0.5515233 ,\n",
       "         0.82177006, 0.82177006, 0.4229945 , 0.4229945 , 0.71597517,\n",
       "         0.71597517, 0.8148125 , 0.8148125 , 0.84044246, 0.84044246,\n",
       "         0.2942691 , 0.2942691 , 0.153159  , 0.153159  , 0.04743103,\n",
       "         0.04743103, 0.22247789, 0.22247789, 0.56366552, 0.56366552,\n",
       "         0.88513819, 0.88513819, 0.82637272, 0.82637272, 0.5147169 ,\n",
       "         0.5147169 , 0.40639139, 0.40639139, 0.37067395, 0.37067395,\n",
       "         0.73324902, 0.73324902, 0.96321921, 0.96321921, 0.10505043,\n",
       "         0.10505043, 0.0756937 , 0.0756937 , 0.5140249 , 0.5140249 ,\n",
       "         0.98869567, 0.98869567, 0.37591464, 0.37591464, 0.01290143,\n",
       "         0.01290143, 0.23733629, 0.23733629, 0.88286054, 0.88286054,\n",
       "         0.565905  , 0.565905  , 0.44615827, 0.44615827, 0.67298807,\n",
       "         0.67298807, 0.71435412, 0.71435412, 0.05295554, 0.05295554,\n",
       "         0.23563768, 0.23563768, 0.02856645, 0.02856645, 0.14383165,\n",
       "         0.14383165, 0.6111906 , 0.6111906 , 0.76650093, 0.76650093,\n",
       "         0.58876626, 0.58876626, 0.29375401, 0.29375401, 0.80186721,\n",
       "         0.80186721, 0.46501949, 0.46501949, 0.37996509, 0.37996509,\n",
       "         0.42627813, 0.42627813, 0.00724919, 0.00724919, 0.76589621,\n",
       "         0.76589621, 0.20953518, 0.20953518, 0.06899554, 0.06899554,\n",
       "         0.19727998, 0.19727998, 0.48574154, 0.48574154, 0.04162932,\n",
       "         0.04162932, 0.65720888, 0.65720888, 0.96166984, 0.96166984,\n",
       "         0.52181872, 0.52181872, 0.80322331, 0.80322331, 0.992773  ,\n",
       "         0.992773  , 0.93648223, 0.93648223, 0.96697603, 0.96697603,\n",
       "         0.35263242, 0.35263242, 0.08555378, 0.08555378, 0.12462303,\n",
       "         0.12462303, 0.5709117 , 0.5709117 , 0.09536923, 0.09536923,\n",
       "         0.60716673, 0.60716673, 0.96760553, 0.96760553, 0.14309008,\n",
       "         0.14309008, 0.18255937, 0.18255937, 0.26482105, 0.26482105,\n",
       "         0.5112307 , 0.5112307 , 0.08840986, 0.08840986, 0.69238857,\n",
       "         0.69238857, 0.57971076, 0.57971076, 0.43825603, 0.43825603,\n",
       "         0.51502658, 0.51502658, 0.02049845, 0.02049845, 0.82194833,\n",
       "         0.82194833, 0.49349581, 0.49349581, 0.71900712, 0.71900712,\n",
       "         0.58693631, 0.58693631, 0.98607396, 0.98607396, 0.39322621,\n",
       "         0.39322621, 0.21510055, 0.21510055, 0.88862769, 0.88862769])}}"
      ]
     },
     "execution_count": 11,
     "metadata": {},
     "output_type": "execute_result"
    }
   ],
   "source": [
    "ds = load_by_id(run_id_n)\n",
    "ds.get_parameter_data('x1')"
   ]
  },
  {
   "cell_type": "markdown",
   "metadata": {},
   "source": [
    "And a dataset stored as binary arrays"
   ]
  },
  {
   "cell_type": "code",
   "execution_count": 12,
   "metadata": {
    "scrolled": true
   },
   "outputs": [
    {
     "data": {
      "text/plain": [
       "{'x1': {'x1': array([[0.95071157],\n",
       "         [0.95071157],\n",
       "         [0.02591189],\n",
       "         [0.02591189],\n",
       "         [0.22454942],\n",
       "         [0.22454942],\n",
       "         [0.45452047],\n",
       "         [0.45452047],\n",
       "         [0.27288844],\n",
       "         [0.27288844],\n",
       "         [0.66233578],\n",
       "         [0.66233578],\n",
       "         [0.35064365],\n",
       "         [0.35064365],\n",
       "         [0.55372236],\n",
       "         [0.55372236],\n",
       "         [0.24903495],\n",
       "         [0.24903495],\n",
       "         [0.74877371],\n",
       "         [0.74877371],\n",
       "         [0.91767575],\n",
       "         [0.91767575],\n",
       "         [0.18614476],\n",
       "         [0.18614476],\n",
       "         [0.64822485],\n",
       "         [0.64822485],\n",
       "         [0.75045645],\n",
       "         [0.75045645],\n",
       "         [0.94626407],\n",
       "         [0.94626407],\n",
       "         [0.53466069],\n",
       "         [0.53466069],\n",
       "         [0.45011965],\n",
       "         [0.45011965],\n",
       "         [0.11472833],\n",
       "         [0.11472833],\n",
       "         [0.12551911],\n",
       "         [0.12551911],\n",
       "         [0.40184874],\n",
       "         [0.40184874],\n",
       "         [0.37913991],\n",
       "         [0.37913991],\n",
       "         [0.99008963],\n",
       "         [0.99008963],\n",
       "         [0.29722241],\n",
       "         [0.29722241],\n",
       "         [0.77722821],\n",
       "         [0.77722821],\n",
       "         [0.15457401],\n",
       "         [0.15457401],\n",
       "         [0.38607712],\n",
       "         [0.38607712],\n",
       "         [0.96216441],\n",
       "         [0.96216441],\n",
       "         [0.92225865],\n",
       "         [0.92225865],\n",
       "         [0.2019494 ],\n",
       "         [0.2019494 ],\n",
       "         [0.07624568],\n",
       "         [0.07624568],\n",
       "         [0.98694917],\n",
       "         [0.98694917],\n",
       "         [0.98235099],\n",
       "         [0.98235099],\n",
       "         [0.02127666],\n",
       "         [0.02127666],\n",
       "         [0.16245264],\n",
       "         [0.16245264],\n",
       "         [0.47055749],\n",
       "         [0.47055749],\n",
       "         [0.34733355],\n",
       "         [0.34733355],\n",
       "         [0.2477312 ],\n",
       "         [0.2477312 ],\n",
       "         [0.99596165],\n",
       "         [0.99596165],\n",
       "         [0.36107502],\n",
       "         [0.36107502],\n",
       "         [0.15349264],\n",
       "         [0.15349264],\n",
       "         [0.83454991],\n",
       "         [0.83454991],\n",
       "         [0.31745204],\n",
       "         [0.31745204],\n",
       "         [0.70054953],\n",
       "         [0.70054953],\n",
       "         [0.66068263],\n",
       "         [0.66068263],\n",
       "         [0.39960952],\n",
       "         [0.39960952],\n",
       "         [0.12416705],\n",
       "         [0.12416705],\n",
       "         [0.56738633],\n",
       "         [0.56738633],\n",
       "         [0.21858415],\n",
       "         [0.21858415],\n",
       "         [0.37383528],\n",
       "         [0.37383528],\n",
       "         [0.29992668],\n",
       "         [0.29992668],\n",
       "         [0.48209455],\n",
       "         [0.48209455],\n",
       "         [0.60924927],\n",
       "         [0.60924927],\n",
       "         [0.62659851],\n",
       "         [0.62659851],\n",
       "         [0.37904735],\n",
       "         [0.37904735],\n",
       "         [0.58793695],\n",
       "         [0.58793695],\n",
       "         [0.62139895],\n",
       "         [0.62139895],\n",
       "         [0.05474763],\n",
       "         [0.05474763],\n",
       "         [0.99953005],\n",
       "         [0.99953005],\n",
       "         [0.3486327 ],\n",
       "         [0.3486327 ],\n",
       "         [0.79754663],\n",
       "         [0.79754663],\n",
       "         [0.13881294],\n",
       "         [0.13881294],\n",
       "         [0.75480202],\n",
       "         [0.75480202],\n",
       "         [0.11865445],\n",
       "         [0.11865445],\n",
       "         [0.03267854],\n",
       "         [0.03267854],\n",
       "         [0.46151077],\n",
       "         [0.46151077],\n",
       "         [0.09267399],\n",
       "         [0.09267399],\n",
       "         [0.75047316],\n",
       "         [0.75047316],\n",
       "         [0.41434931],\n",
       "         [0.41434931],\n",
       "         [0.25834355],\n",
       "         [0.25834355],\n",
       "         [0.17486589],\n",
       "         [0.17486589],\n",
       "         [0.6185218 ],\n",
       "         [0.6185218 ],\n",
       "         [0.04075533],\n",
       "         [0.04075533],\n",
       "         [0.74535046],\n",
       "         [0.74535046],\n",
       "         [0.76705212],\n",
       "         [0.76705212],\n",
       "         [0.54072001],\n",
       "         [0.54072001],\n",
       "         [0.97931862],\n",
       "         [0.97931862],\n",
       "         [0.68516226],\n",
       "         [0.68516226],\n",
       "         [0.83881214],\n",
       "         [0.83881214],\n",
       "         [0.20974812],\n",
       "         [0.20974812],\n",
       "         [0.08054865],\n",
       "         [0.08054865],\n",
       "         [0.65062533],\n",
       "         [0.65062533],\n",
       "         [0.70391886],\n",
       "         [0.70391886],\n",
       "         [0.2708614 ],\n",
       "         [0.2708614 ],\n",
       "         [0.42244204],\n",
       "         [0.42244204],\n",
       "         [0.43069522],\n",
       "         [0.43069522],\n",
       "         [0.19844306],\n",
       "         [0.19844306],\n",
       "         [0.58521327],\n",
       "         [0.58521327],\n",
       "         [0.78606079],\n",
       "         [0.78606079],\n",
       "         [0.71435107],\n",
       "         [0.71435107],\n",
       "         [0.11851941],\n",
       "         [0.11851941],\n",
       "         [0.35809939],\n",
       "         [0.35809939],\n",
       "         [0.30023019],\n",
       "         [0.30023019],\n",
       "         [0.72007755],\n",
       "         [0.72007755],\n",
       "         [0.83197919],\n",
       "         [0.83197919],\n",
       "         [0.79409644],\n",
       "         [0.79409644],\n",
       "         [0.09172236],\n",
       "         [0.09172236],\n",
       "         [0.23128168],\n",
       "         [0.23128168],\n",
       "         [0.29474955],\n",
       "         [0.29474955],\n",
       "         [0.43962532],\n",
       "         [0.43962532],\n",
       "         [0.37865214],\n",
       "         [0.37865214]])}}"
      ]
     },
     "execution_count": 12,
     "metadata": {},
     "output_type": "execute_result"
    }
   ],
   "source": [
    "ds = load_by_id(run_id_a)\n",
    "ds.get_parameter_data('x1')"
   ]
  },
  {
   "cell_type": "code",
   "execution_count": null,
   "metadata": {},
   "outputs": [],
   "source": []
  }
 ],
 "metadata": {
  "kernelspec": {
   "display_name": "Python 3",
   "language": "python",
   "name": "python3"
  },
  "language_info": {
   "codemirror_mode": {
    "name": "ipython",
    "version": 3
   },
   "file_extension": ".py",
   "mimetype": "text/x-python",
   "name": "python",
   "nbconvert_exporter": "python",
   "pygments_lexer": "ipython3",
   "version": "3.7.5"
  },
  "nbsphinx": {
   "timeout": 600
  },
  "toc": {
   "base_numbering": 1,
   "nav_menu": {},
   "number_sections": true,
   "sideBar": true,
   "skip_h1_title": false,
   "title_cell": "Table of Contents",
   "title_sidebar": "Contents",
   "toc_cell": false,
   "toc_position": {},
   "toc_section_display": true,
   "toc_window_display": false
  },
  "varInspector": {
   "cols": {
    "lenName": 16,
    "lenType": 16,
    "lenVar": 40
   },
   "kernels_config": {
    "python": {
     "delete_cmd_postfix": "",
     "delete_cmd_prefix": "del ",
     "library": "var_list.py",
     "varRefreshCmd": "print(var_dic_list())"
    },
    "r": {
     "delete_cmd_postfix": ") ",
     "delete_cmd_prefix": "rm(",
     "library": "var_list.r",
     "varRefreshCmd": "cat(var_dic_list()) "
    }
   },
   "types_to_exclude": [
    "module",
    "function",
    "builtin_function_or_method",
    "instance",
    "_Feature"
   ],
   "window_display": false
  }
 },
 "nbformat": 4,
 "nbformat_minor": 2
}
