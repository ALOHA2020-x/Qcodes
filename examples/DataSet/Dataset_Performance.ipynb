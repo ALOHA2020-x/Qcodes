{
 "cells": [
  {
   "cell_type": "markdown",
   "metadata": {},
   "source": [
    "# DataSet Performance\n",
    "\n",
    "This notebook shows the trade-off between inserting data into a database row-by-row and as binary blobs. Inserting the data row-by-row means that we have direct access to all the data and may perform queries directly on the values of the data. On the other hand, as we shall see, this is much slower than inserting the data directly as binary blobs."
   ]
  },
  {
   "cell_type": "markdown",
   "metadata": {},
   "source": [
    "First, we choose a new location for the database to ensure that we don't add a bunch of benchmarking data to the default one."
   ]
  },
  {
   "cell_type": "code",
   "execution_count": 1,
   "metadata": {
    "execution": {
     "iopub.execute_input": "2020-12-17T11:31:02.590739Z",
     "iopub.status.busy": "2020-12-17T11:31:02.590027Z",
     "iopub.status.idle": "2020-12-17T11:31:03.786853Z",
     "shell.execute_reply": "2020-12-17T11:31:03.787398Z"
    }
   },
   "outputs": [
    {
     "name": "stdout",
     "output_type": "stream",
     "text": [
      "Logging hadn't been started.\n",
      "Activating auto-logging. Current session state plus future input saved.\n",
      "Filename       : /home/vsts/.qcodes/logs/command_history.log\n",
      "Mode           : append\n",
      "Output logging : True\n",
      "Raw input log  : False\n",
      "Timestamping   : True\n",
      "State          : active\n"
     ]
    },
    {
     "name": "stdout",
     "output_type": "stream",
     "text": [
      "Qcodes Logfile : /home/vsts/.qcodes/logs/201217-14231-qcodes.log\n"
     ]
    }
   ],
   "source": [
    "import os\n",
    "cwd = os.getcwd()\n",
    "import qcodes as qc\n",
    "qc.config[\"core\"][\"db_location\"] = os.path.join(cwd, 'testing.db')\n"
   ]
  },
  {
   "cell_type": "code",
   "execution_count": 2,
   "metadata": {
    "execution": {
     "iopub.execute_input": "2020-12-17T11:31:03.794438Z",
     "iopub.status.busy": "2020-12-17T11:31:03.793822Z",
     "iopub.status.idle": "2020-12-17T11:31:04.006769Z",
     "shell.execute_reply": "2020-12-17T11:31:04.005909Z"
    }
   },
   "outputs": [],
   "source": [
    "%matplotlib inline\n",
    "import time\n",
    "import matplotlib.pyplot as plt\n",
    "import numpy as np\n",
    "\n",
    "import qcodes as qc\n",
    "from qcodes.instrument.parameter import ManualParameter\n",
    "from qcodes.dataset.experiment_container import (Experiment,\n",
    "                                                 load_last_experiment,\n",
    "                                                 new_experiment)\n",
    "from qcodes.dataset.sqlite.database import initialise_database\n",
    "from qcodes import load_or_create_experiment\n",
    "from qcodes.dataset.measurements import Measurement"
   ]
  },
  {
   "cell_type": "code",
   "execution_count": 3,
   "metadata": {
    "execution": {
     "iopub.execute_input": "2020-12-17T11:31:04.011361Z",
     "iopub.status.busy": "2020-12-17T11:31:04.010684Z",
     "iopub.status.idle": "2020-12-17T11:31:04.138029Z",
     "shell.execute_reply": "2020-12-17T11:31:04.137195Z"
    }
   },
   "outputs": [
    {
     "name": "stdout",
     "output_type": "stream",
     "text": [
      "\r",
      "0it [00:00, ?it/s]"
     ]
    },
    {
     "name": "stdout",
     "output_type": "stream",
     "text": [
      "\r",
      "Upgrading database; v0 -> v1: : 0it [00:00, ?it/s]"
     ]
    },
    {
     "name": "stdout",
     "output_type": "stream",
     "text": [
      "\r",
      "Upgrading database; v0 -> v1: : 0it [00:00, ?it/s]"
     ]
    },
    {
     "name": "stdout",
     "output_type": "stream",
     "text": [
      "\n",
      "\r",
      "  0%|          | 0/1 [00:00<?, ?it/s]"
     ]
    },
    {
     "name": "stdout",
     "output_type": "stream",
     "text": [
      "\r",
      "Upgrading database; v1 -> v2:   0%|          | 0/1 [00:00<?, ?it/s]"
     ]
    },
    {
     "name": "stdout",
     "output_type": "stream",
     "text": [
      "\r",
      "Upgrading database; v1 -> v2: 100%|██████████| 1/1 [00:00<00:00, 1077.67it/s]"
     ]
    },
    {
     "name": "stdout",
     "output_type": "stream",
     "text": [
      "\n",
      "\r",
      "0it [00:00, ?it/s]"
     ]
    },
    {
     "name": "stdout",
     "output_type": "stream",
     "text": [
      "\r",
      "Upgrading database; v2 -> v3: : 0it [00:00, ?it/s]"
     ]
    },
    {
     "name": "stdout",
     "output_type": "stream",
     "text": [
      "\r",
      "Upgrading database; v2 -> v3: : 0it [00:00, ?it/s]"
     ]
    },
    {
     "name": "stdout",
     "output_type": "stream",
     "text": [
      "\n",
      "\r",
      "0it [00:00, ?it/s]"
     ]
    },
    {
     "name": "stdout",
     "output_type": "stream",
     "text": [
      "\r",
      "Upgrading database; v3 -> v4: : 0it [00:00, ?it/s]"
     ]
    },
    {
     "name": "stdout",
     "output_type": "stream",
     "text": [
      "\r",
      "Upgrading database; v3 -> v4: : 0it [00:00, ?it/s]"
     ]
    },
    {
     "name": "stdout",
     "output_type": "stream",
     "text": [
      "\n",
      "\r",
      "  0%|          | 0/1 [00:00<?, ?it/s]"
     ]
    },
    {
     "name": "stdout",
     "output_type": "stream",
     "text": [
      "\r",
      "Upgrading database; v4 -> v5:   0%|          | 0/1 [00:00<?, ?it/s]"
     ]
    },
    {
     "name": "stdout",
     "output_type": "stream",
     "text": [
      "\r",
      "Upgrading database; v4 -> v5: 100%|██████████| 1/1 [00:00<00:00, 654.95it/s]"
     ]
    },
    {
     "name": "stdout",
     "output_type": "stream",
     "text": [
      "\n",
      "\r",
      "0it [00:00, ?it/s]"
     ]
    },
    {
     "name": "stdout",
     "output_type": "stream",
     "text": [
      "\r",
      "Upgrading database; v5 -> v6: : 0it [00:00, ?it/s]"
     ]
    },
    {
     "name": "stdout",
     "output_type": "stream",
     "text": [
      "\r",
      "Upgrading database; v5 -> v6: : 0it [00:00, ?it/s]"
     ]
    },
    {
     "name": "stdout",
     "output_type": "stream",
     "text": [
      "\n",
      "\r",
      "  0%|          | 0/1 [00:00<?, ?it/s]"
     ]
    },
    {
     "name": "stdout",
     "output_type": "stream",
     "text": [
      "\r",
      "Upgrading database; v6 -> v7:   0%|          | 0/1 [00:00<?, ?it/s]"
     ]
    },
    {
     "name": "stdout",
     "output_type": "stream",
     "text": [
      "\r",
      "Upgrading database; v6 -> v7: 100%|██████████| 1/1 [00:00<00:00, 208.72it/s]"
     ]
    },
    {
     "name": "stdout",
     "output_type": "stream",
     "text": [
      "\n",
      "\r",
      "  0%|          | 0/1 [00:00<?, ?it/s]"
     ]
    },
    {
     "name": "stdout",
     "output_type": "stream",
     "text": [
      "\r",
      "Upgrading database; v7 -> v8:   0%|          | 0/1 [00:00<?, ?it/s]"
     ]
    },
    {
     "name": "stdout",
     "output_type": "stream",
     "text": [
      "\r",
      "Upgrading database; v7 -> v8: 100%|██████████| 1/1 [00:00<00:00, 826.79it/s]"
     ]
    },
    {
     "name": "stdout",
     "output_type": "stream",
     "text": [
      "\n",
      "\r",
      "  0%|          | 0/1 [00:00<?, ?it/s]"
     ]
    },
    {
     "name": "stdout",
     "output_type": "stream",
     "text": [
      "\r",
      "Upgrading database; v8 -> v9:   0%|          | 0/1 [00:00<?, ?it/s]"
     ]
    },
    {
     "name": "stdout",
     "output_type": "stream",
     "text": [
      "\r",
      "Upgrading database; v8 -> v9: 100%|██████████| 1/1 [00:00<00:00, 417.26it/s]"
     ]
    },
    {
     "name": "stdout",
     "output_type": "stream",
     "text": [
      "\n"
     ]
    }
   ],
   "source": [
    "initialise_database()\n",
    "exp = load_or_create_experiment(experiment_name='tutorial_exp', sample_name=\"no sample\")"
   ]
  },
  {
   "cell_type": "markdown",
   "metadata": {},
   "source": [
    "Here, we define a simple function to benchmark the time it takes to insert n points with either numeric or array data type.\n",
    "We will compare both the time used to call ``add_result`` and the time used for the full measurement."
   ]
  },
  {
   "cell_type": "code",
   "execution_count": 4,
   "metadata": {
    "execution": {
     "iopub.execute_input": "2020-12-17T11:31:04.146789Z",
     "iopub.status.busy": "2020-12-17T11:31:04.144922Z",
     "iopub.status.idle": "2020-12-17T11:31:04.148838Z",
     "shell.execute_reply": "2020-12-17T11:31:04.149540Z"
    }
   },
   "outputs": [],
   "source": [
    "def insert_data(paramtype, npoints, nreps=1):\n",
    "\n",
    "    meas = Measurement(exp=exp)\n",
    "\n",
    "    x1 = ManualParameter('x1')\n",
    "    x2 = ManualParameter('x2')\n",
    "    x3 = ManualParameter('x3')\n",
    "    y1 = ManualParameter('y1')\n",
    "    y2 = ManualParameter('y2')\n",
    "\n",
    "    meas.register_parameter(x1, paramtype=paramtype)\n",
    "    meas.register_parameter(x2, paramtype=paramtype)\n",
    "    meas.register_parameter(x3, paramtype=paramtype)\n",
    "    meas.register_parameter(y1, setpoints=[x1, x2, x3],\n",
    "                            paramtype=paramtype)\n",
    "    meas.register_parameter(y2, setpoints=[x1, x2, x3],\n",
    "                            paramtype=paramtype)\n",
    "    start = time.perf_counter()\n",
    "    with meas.run() as datasaver:\n",
    "        start_adding = time.perf_counter()\n",
    "        for i in range(nreps):\n",
    "            datasaver.add_result((x1, np.random.rand(npoints)),\n",
    "                                 (x2, np.random.rand(npoints)),\n",
    "                                 (x3, np.random.rand(npoints)),\n",
    "                                 (y1, np.random.rand(npoints)),\n",
    "                                 (y2, np.random.rand(npoints)))\n",
    "        stop_adding = time.perf_counter()\n",
    "        run_id = datasaver.run_id\n",
    "    stop = time.perf_counter()\n",
    "    tot_time = stop - start\n",
    "    add_time = stop_adding - start_adding\n",
    "    return tot_time, add_time, run_id"
   ]
  },
  {
   "cell_type": "markdown",
   "metadata": {},
   "source": [
    "## Comparison between numeric/array data and binary blob"
   ]
  },
  {
   "cell_type": "markdown",
   "metadata": {},
   "source": [
    "### Case1: Short experiment time"
   ]
  },
  {
   "cell_type": "code",
   "execution_count": 5,
   "metadata": {
    "execution": {
     "iopub.execute_input": "2020-12-17T11:31:04.156283Z",
     "iopub.status.busy": "2020-12-17T11:31:04.155201Z",
     "iopub.status.idle": "2020-12-17T11:31:05.077729Z",
     "shell.execute_reply": "2020-12-17T11:31:05.077075Z"
    }
   },
   "outputs": [
    {
     "name": "stdout",
     "output_type": "stream",
     "text": [
      "Starting experimental run with id: 1. \n",
      "Starting experimental run with id: 2. \n",
      "Starting experimental run with id: 3. \n",
      "Starting experimental run with id: 4. \n"
     ]
    },
    {
     "name": "stdout",
     "output_type": "stream",
     "text": [
      "Starting experimental run with id: 5. \n"
     ]
    },
    {
     "name": "stdout",
     "output_type": "stream",
     "text": [
      "Starting experimental run with id: 6. \n",
      "Starting experimental run with id: 7. \n"
     ]
    },
    {
     "name": "stdout",
     "output_type": "stream",
     "text": [
      "Starting experimental run with id: 8. \n"
     ]
    },
    {
     "name": "stdout",
     "output_type": "stream",
     "text": [
      "Starting experimental run with id: 9. \n"
     ]
    },
    {
     "name": "stdout",
     "output_type": "stream",
     "text": [
      "Starting experimental run with id: 10. \n",
      "Starting experimental run with id: 11. \n"
     ]
    },
    {
     "name": "stdout",
     "output_type": "stream",
     "text": [
      "Starting experimental run with id: 12. \n"
     ]
    },
    {
     "name": "stdout",
     "output_type": "stream",
     "text": [
      "Starting experimental run with id: 13. \n"
     ]
    },
    {
     "name": "stdout",
     "output_type": "stream",
     "text": [
      "Starting experimental run with id: 14. \n"
     ]
    }
   ],
   "source": [
    "sizes = [1,500,1000,2000,3000,4000,5000]\n",
    "t_numeric = []\n",
    "t_numeric_add = []\n",
    "t_array = []\n",
    "t_array_add = []\n",
    "for size in sizes:\n",
    "    tn, tna, run_id_n =  insert_data('numeric', size)\n",
    "    t_numeric.append(tn)\n",
    "    t_numeric_add.append(tna)\n",
    "\n",
    "    ta, taa, run_id_a =  insert_data('array', size)\n",
    "    t_array.append(ta)\n",
    "    t_array_add.append(taa)"
   ]
  },
  {
   "cell_type": "code",
   "execution_count": 6,
   "metadata": {
    "execution": {
     "iopub.execute_input": "2020-12-17T11:31:05.098927Z",
     "iopub.status.busy": "2020-12-17T11:31:05.096463Z",
     "iopub.status.idle": "2020-12-17T11:31:05.327396Z",
     "shell.execute_reply": "2020-12-17T11:31:05.328287Z"
    }
   },
   "outputs": [
    {
     "data": {
      "image/png": "[encoded data removed]",
      "text/plain": [
       "<Figure size 432x288 with 1 Axes>"
      ]
     },
     "metadata": {
      "needs_background": "light"
     },
     "output_type": "display_data"
    }
   ],
   "source": [
    "fig, ax = plt.subplots(1,1)\n",
    "ax.plot(sizes, t_numeric, 'o-', label='Inserting row-by-row')\n",
    "ax.plot(sizes, t_numeric_add, 'o-', label='Inserting row-by-row: add_result only')\n",
    "ax.plot(sizes, t_array, 'd-', label='Inserting as binary blob')\n",
    "ax.plot(sizes, t_array_add, 'd-', label='Inserting as binary blob: add_result only')\n",
    "ax.legend()\n",
    "ax.set_xlabel('Array length')\n",
    "ax.set_ylabel('Time (s)')\n",
    "fig.tight_layout()"
   ]
  },
  {
   "cell_type": "markdown",
   "metadata": {},
   "source": [
    "As shown in the latter figure, the time to setup and and close the experiment is approximately 0.4 sec. In case of small array sizes, the difference between inserting values of data as arrays and inserting them row-by-row is relatively unimportant. At larger array sizes, i.e. above 10000 points, the cost of writing data as individual datapoints starts to become important.\n"
   ]
  },
  {
   "cell_type": "markdown",
   "metadata": {},
   "source": [
    "### Case2: Long experiment time "
   ]
  },
  {
   "cell_type": "code",
   "execution_count": 7,
   "metadata": {
    "execution": {
     "iopub.execute_input": "2020-12-17T11:31:05.336288Z",
     "iopub.status.busy": "2020-12-17T11:31:05.335140Z",
     "iopub.status.idle": "2020-12-17T11:32:06.373743Z",
     "shell.execute_reply": "2020-12-17T11:32:06.372690Z"
    }
   },
   "outputs": [
    {
     "name": "stdout",
     "output_type": "stream",
     "text": [
      "Starting experimental run with id: 15. \n",
      "Starting experimental run with id: 16. \n",
      "Starting experimental run with id: 17. \n"
     ]
    },
    {
     "name": "stdout",
     "output_type": "stream",
     "text": [
      "Starting experimental run with id: 18. \n",
      "Starting experimental run with id: 19. \n"
     ]
    },
    {
     "name": "stdout",
     "output_type": "stream",
     "text": [
      "Starting experimental run with id: 20. \n"
     ]
    },
    {
     "name": "stdout",
     "output_type": "stream",
     "text": [
      "Starting experimental run with id: 21. \n"
     ]
    },
    {
     "name": "stdout",
     "output_type": "stream",
     "text": [
      "Starting experimental run with id: 22. \n"
     ]
    },
    {
     "name": "stdout",
     "output_type": "stream",
     "text": [
      "Starting experimental run with id: 23. \n"
     ]
    },
    {
     "name": "stdout",
     "output_type": "stream",
     "text": [
      "Starting experimental run with id: 24. \n"
     ]
    },
    {
     "name": "stdout",
     "output_type": "stream",
     "text": [
      "Starting experimental run with id: 25. \n"
     ]
    },
    {
     "name": "stdout",
     "output_type": "stream",
     "text": [
      "Starting experimental run with id: 26. \n"
     ]
    },
    {
     "name": "stdout",
     "output_type": "stream",
     "text": [
      "Starting experimental run with id: 27. \n"
     ]
    },
    {
     "name": "stdout",
     "output_type": "stream",
     "text": [
      "Starting experimental run with id: 28. \n"
     ]
    }
   ],
   "source": [
    "sizes = [1,500,1000,2000,3000,4000,5000]\n",
    "nreps = 100\n",
    "t_numeric = []\n",
    "t_numeric_add = []\n",
    "t_numeric_run_ids = []\n",
    "t_array = []\n",
    "t_array_add = []\n",
    "t_array_run_ids = []\n",
    "for size in sizes:\n",
    "    tn, tna, run_id_n =  insert_data('numeric', size, nreps=nreps)\n",
    "    t_numeric.append(tn)\n",
    "    t_numeric_add.append(tna)\n",
    "    t_numeric_run_ids.append(run_id_n)\n",
    "\n",
    "    ta, taa, run_id_a =  insert_data('array', size, nreps=nreps)\n",
    "    t_array.append(ta)\n",
    "    t_array_add.append(taa)\n",
    "    t_array_run_ids.append(run_id_a)"
   ]
  },
  {
   "cell_type": "code",
   "execution_count": 8,
   "metadata": {
    "execution": {
     "iopub.execute_input": "2020-12-17T11:32:06.395235Z",
     "iopub.status.busy": "2020-12-17T11:32:06.393580Z",
     "iopub.status.idle": "2020-12-17T11:32:06.631866Z",
     "shell.execute_reply": "2020-12-17T11:32:06.633554Z"
    },
    "scrolled": true
   },
   "outputs": [
    {
     "data": {
      "image/png": "[encoded data removed]",
      "text/plain": [
       "<Figure size 432x288 with 1 Axes>"
      ]
     },
     "metadata": {
      "needs_background": "light"
     },
     "output_type": "display_data"
    }
   ],
   "source": [
    "fig, ax = plt.subplots(1,1)\n",
    "ax.plot(sizes, t_numeric, 'o-', label='Inserting row-by-row')\n",
    "ax.plot(sizes, t_numeric_add, 'o-', label='Inserting row-by-row: add_result only')\n",
    "ax.plot(sizes, t_array, 'd-', label='Inserting as binary blob')\n",
    "ax.plot(sizes, t_array_add, 'd-', label='Inserting as binary blob: add_result only')\n",
    "ax.legend()\n",
    "ax.set_xlabel('Array length')\n",
    "ax.set_ylabel('Time (s)')\n",
    "fig.tight_layout()"
   ]
  },
  {
   "cell_type": "markdown",
   "metadata": {},
   "source": [
    "However, as we increase the length of the experiment, as seen here by repeating the insertion 100 times, we see a big difference between inserting values of the data row-by-row and inserting it as a binary blob."
   ]
  },
  {
   "cell_type": "markdown",
   "metadata": {},
   "source": [
    "## Loading the data "
   ]
  },
  {
   "cell_type": "code",
   "execution_count": 9,
   "metadata": {
    "execution": {
     "iopub.execute_input": "2020-12-17T11:32:06.638010Z",
     "iopub.status.busy": "2020-12-17T11:32:06.637040Z",
     "iopub.status.idle": "2020-12-17T11:32:06.640641Z",
     "shell.execute_reply": "2020-12-17T11:32:06.640155Z"
    }
   },
   "outputs": [],
   "source": [
    "from qcodes.dataset.data_set import load_by_id\n",
    "from qcodes.dataset.data_export import get_data_by_id"
   ]
  },
  {
   "cell_type": "markdown",
   "metadata": {},
   "source": [
    "As usual you can load the data by using the ``load_by_id`` function but you will notice that the different storage methods\n",
    "are reflected in shape of the data as it is retrieved. "
   ]
  },
  {
   "cell_type": "code",
   "execution_count": 10,
   "metadata": {
    "execution": {
     "iopub.execute_input": "2020-12-17T11:32:06.646286Z",
     "iopub.status.busy": "2020-12-17T11:32:06.644918Z",
     "iopub.status.idle": "2020-12-17T11:32:06.646868Z",
     "shell.execute_reply": "2020-12-17T11:32:06.647424Z"
    }
   },
   "outputs": [],
   "source": [
    "run_id_n = t_numeric_run_ids[0]\n",
    "run_id_a = t_array_run_ids[0]"
   ]
  },
  {
   "cell_type": "code",
   "execution_count": 11,
   "metadata": {
    "execution": {
     "iopub.execute_input": "2020-12-17T11:32:06.650836Z",
     "iopub.status.busy": "2020-12-17T11:32:06.650285Z",
     "iopub.status.idle": "2020-12-17T11:32:06.660658Z",
     "shell.execute_reply": "2020-12-17T11:32:06.661205Z"
    },
    "scrolled": true
   },
   "outputs": [
    {
     "data": {
      "text/plain": [
       "{'x1': {'x1': array([1.52506195e-01, 1.52506195e-01, 3.61325121e-01, 3.61325121e-01,\n",
       "         1.23402914e-01, 1.23402914e-01, 8.93960340e-01, 8.93960340e-01,\n",
       "         2.35668916e-01, 2.35668916e-01, 4.10706475e-01, 4.10706475e-01,\n",
       "         3.61042181e-01, 3.61042181e-01, 8.40911116e-01, 8.40911116e-01,\n",
       "         1.24764594e-01, 1.24764594e-01, 1.13846714e-01, 1.13846714e-01,\n",
       "         3.94549957e-01, 3.94549957e-01, 7.21681645e-01, 7.21681645e-01,\n",
       "         8.14606173e-01, 8.14606173e-01, 8.28134542e-01, 8.28134542e-01,\n",
       "         9.23138890e-01, 9.23138890e-01, 8.46596622e-01, 8.46596622e-01,\n",
       "         3.84577244e-01, 3.84577244e-01, 3.33873962e-01, 3.33873962e-01,\n",
       "         1.56116945e-01, 1.56116945e-01, 6.11743408e-02, 6.11743408e-02,\n",
       "         4.94283285e-01, 4.94283285e-01, 4.43339469e-01, 4.43339469e-01,\n",
       "         8.48403980e-01, 8.48403980e-01, 3.33009874e-01, 3.33009874e-01,\n",
       "         9.43285753e-01, 9.43285753e-01, 2.68133126e-02, 2.68133126e-02,\n",
       "         1.89108434e-01, 1.89108434e-01, 9.60047546e-01, 9.60047546e-01,\n",
       "         7.33622722e-01, 7.33622722e-01, 5.48272784e-01, 5.48272784e-01,\n",
       "         3.05297209e-01, 3.05297209e-01, 9.11725549e-01, 9.11725549e-01,\n",
       "         3.35450930e-01, 3.35450930e-01, 4.45481509e-01, 4.45481509e-01,\n",
       "         4.79371484e-01, 4.79371484e-01, 9.67528884e-01, 9.67528884e-01,\n",
       "         8.57453915e-02, 8.57453915e-02, 9.26152689e-01, 9.26152689e-01,\n",
       "         4.82494327e-01, 4.82494327e-01, 4.61859591e-02, 4.61859591e-02,\n",
       "         9.88366901e-02, 9.88366901e-02, 5.36017305e-01, 5.36017305e-01,\n",
       "         8.26407277e-01, 8.26407277e-01, 8.57698963e-01, 8.57698963e-01,\n",
       "         2.78394229e-01, 2.78394229e-01, 2.34348317e-01, 2.34348317e-01,\n",
       "         4.46808953e-01, 4.46808953e-01, 2.80516281e-01, 2.80516281e-01,\n",
       "         6.25232238e-01, 6.25232238e-01, 2.31277280e-01, 2.31277280e-01,\n",
       "         9.72178247e-01, 9.72178247e-01, 1.05375815e-01, 1.05375815e-01,\n",
       "         1.52582746e-01, 1.52582746e-01, 7.56999972e-01, 7.56999972e-01,\n",
       "         4.81935872e-01, 4.81935872e-01, 9.73436705e-04, 9.73436705e-04,\n",
       "         3.32594798e-01, 3.32594798e-01, 9.01416705e-01, 9.01416705e-01,\n",
       "         9.02373418e-01, 9.02373418e-01, 4.70499321e-01, 4.70499321e-01,\n",
       "         2.96801389e-02, 2.96801389e-02, 3.49256950e-01, 3.49256950e-01,\n",
       "         6.89700621e-01, 6.89700621e-01, 2.84030616e-01, 2.84030616e-01,\n",
       "         8.67852845e-01, 8.67852845e-01, 5.77265255e-01, 5.77265255e-01,\n",
       "         8.39487070e-01, 8.39487070e-01, 5.96380399e-01, 5.96380399e-01,\n",
       "         6.01813525e-01, 6.01813525e-01, 8.03419613e-01, 8.03419613e-01,\n",
       "         8.24124456e-01, 8.24124456e-01, 5.88240797e-02, 5.88240797e-02,\n",
       "         9.30637946e-01, 9.30637946e-01, 1.67292923e-01, 1.67292923e-01,\n",
       "         4.45722836e-01, 4.45722836e-01, 3.68839027e-01, 3.68839027e-01,\n",
       "         1.33295942e-01, 1.33295942e-01, 5.53192373e-01, 5.53192373e-01,\n",
       "         2.81149220e-01, 2.81149220e-01, 7.04091774e-01, 7.04091774e-01,\n",
       "         7.05442470e-01, 7.05442470e-01, 9.74023723e-01, 9.74023723e-01,\n",
       "         4.66338009e-01, 4.66338009e-01, 3.99898714e-01, 3.99898714e-01,\n",
       "         1.31932982e-01, 1.31932982e-01, 7.08821888e-01, 7.08821888e-01,\n",
       "         2.47472583e-01, 2.47472583e-01, 7.21550794e-01, 7.21550794e-01,\n",
       "         9.61539775e-01, 9.61539775e-01, 3.13556856e-01, 3.13556856e-01,\n",
       "         9.95306626e-01, 9.95306626e-01, 1.32963434e-01, 1.32963434e-01,\n",
       "         2.72302288e-02, 2.72302288e-02, 6.34532734e-01, 6.34532734e-01,\n",
       "         2.25028785e-01, 2.25028785e-01, 2.80670744e-01, 2.80670744e-01,\n",
       "         1.32556926e-01, 1.32556926e-01, 2.95323083e-01, 2.95323083e-01,\n",
       "         6.99937330e-01, 6.99937330e-01, 4.88109769e-02, 4.88109769e-02])}}"
      ]
     },
     "execution_count": 1,
     "metadata": {},
     "output_type": "execute_result"
    }
   ],
   "source": [
    "ds = load_by_id(run_id_n)\n",
    "ds.get_parameter_data('x1')"
   ]
  },
  {
   "cell_type": "markdown",
   "metadata": {},
   "source": [
    "And a dataset stored as binary arrays"
   ]
  },
  {
   "cell_type": "code",
   "execution_count": 12,
   "metadata": {
    "execution": {
     "iopub.execute_input": "2020-12-17T11:32:06.664731Z",
     "iopub.status.busy": "2020-12-17T11:32:06.664173Z",
     "iopub.status.idle": "2020-12-17T11:32:06.725137Z",
     "shell.execute_reply": "2020-12-17T11:32:06.725767Z"
    },
    "scrolled": true
   },
   "outputs": [
    {
     "data": {
      "text/plain": [
       "{'x1': {'x1': array([[0.24605709],\n",
       "         [0.24605709],\n",
       "         [0.3727864 ],\n",
       "         [0.3727864 ],\n",
       "         [0.99774862],\n",
       "         [0.99774862],\n",
       "         [0.97934488],\n",
       "         [0.97934488],\n",
       "         [0.32905688],\n",
       "         [0.32905688],\n",
       "         [0.08942716],\n",
       "         [0.08942716],\n",
       "         [0.25162145],\n",
       "         [0.25162145],\n",
       "         [0.64810534],\n",
       "         [0.64810534],\n",
       "         [0.77562668],\n",
       "         [0.77562668],\n",
       "         [0.69096276],\n",
       "         [0.69096276],\n",
       "         [0.42890481],\n",
       "         [0.42890481],\n",
       "         [0.07826363],\n",
       "         [0.07826363],\n",
       "         [0.7808827 ],\n",
       "         [0.7808827 ],\n",
       "         [0.48215352],\n",
       "         [0.48215352],\n",
       "         [0.68965019],\n",
       "         [0.68965019],\n",
       "         [0.60921616],\n",
       "         [0.60921616],\n",
       "         [0.55858921],\n",
       "         [0.55858921],\n",
       "         [0.98810486],\n",
       "         [0.98810486],\n",
       "         [0.29851286],\n",
       "         [0.29851286],\n",
       "         [0.85834634],\n",
       "         [0.85834634],\n",
       "         [0.33788016],\n",
       "         [0.33788016],\n",
       "         [0.36300708],\n",
       "         [0.36300708],\n",
       "         [0.21305058],\n",
       "         [0.21305058],\n",
       "         [0.84352825],\n",
       "         [0.84352825],\n",
       "         [0.51693271],\n",
       "         [0.51693271],\n",
       "         [0.29489945],\n",
       "         [0.29489945],\n",
       "         [0.72676115],\n",
       "         [0.72676115],\n",
       "         [0.44653306],\n",
       "         [0.44653306],\n",
       "         [0.16071606],\n",
       "         [0.16071606],\n",
       "         [0.56009775],\n",
       "         [0.56009775],\n",
       "         [0.5493524 ],\n",
       "         [0.5493524 ],\n",
       "         [0.46354522],\n",
       "         [0.46354522],\n",
       "         [0.34747179],\n",
       "         [0.34747179],\n",
       "         [0.48151065],\n",
       "         [0.48151065],\n",
       "         [0.11347579],\n",
       "         [0.11347579],\n",
       "         [0.14689911],\n",
       "         [0.14689911],\n",
       "         [0.54962576],\n",
       "         [0.54962576],\n",
       "         [0.85981799],\n",
       "         [0.85981799],\n",
       "         [0.05358217],\n",
       "         [0.05358217],\n",
       "         [0.2150892 ],\n",
       "         [0.2150892 ],\n",
       "         [0.60968636],\n",
       "         [0.60968636],\n",
       "         [0.74776035],\n",
       "         [0.74776035],\n",
       "         [0.47828687],\n",
       "         [0.47828687],\n",
       "         [0.75107928],\n",
       "         [0.75107928],\n",
       "         [0.23949008],\n",
       "         [0.23949008],\n",
       "         [0.99759097],\n",
       "         [0.99759097],\n",
       "         [0.41408115],\n",
       "         [0.41408115],\n",
       "         [0.78228132],\n",
       "         [0.78228132],\n",
       "         [0.03224159],\n",
       "         [0.03224159],\n",
       "         [0.01999177],\n",
       "         [0.01999177],\n",
       "         [0.38168343],\n",
       "         [0.38168343],\n",
       "         [0.43601975],\n",
       "         [0.43601975],\n",
       "         [0.74148828],\n",
       "         [0.74148828],\n",
       "         [0.17031876],\n",
       "         [0.17031876],\n",
       "         [0.51105077],\n",
       "         [0.51105077],\n",
       "         [0.40354374],\n",
       "         [0.40354374],\n",
       "         [0.95043382],\n",
       "         [0.95043382],\n",
       "         [0.12867034],\n",
       "         [0.12867034],\n",
       "         [0.04258683],\n",
       "         [0.04258683],\n",
       "         [0.65322478],\n",
       "         [0.65322478],\n",
       "         [0.69294505],\n",
       "         [0.69294505],\n",
       "         [0.89984058],\n",
       "         [0.89984058],\n",
       "         [0.18287715],\n",
       "         [0.18287715],\n",
       "         [0.33679654],\n",
       "         [0.33679654],\n",
       "         [0.06761032],\n",
       "         [0.06761032],\n",
       "         [0.7597425 ],\n",
       "         [0.7597425 ],\n",
       "         [0.38561484],\n",
       "         [0.38561484],\n",
       "         [0.00592122],\n",
       "         [0.00592122],\n",
       "         [0.12147465],\n",
       "         [0.12147465],\n",
       "         [0.97979967],\n",
       "         [0.97979967],\n",
       "         [0.99473766],\n",
       "         [0.99473766],\n",
       "         [0.02270438],\n",
       "         [0.02270438],\n",
       "         [0.48024504],\n",
       "         [0.48024504],\n",
       "         [0.75106065],\n",
       "         [0.75106065],\n",
       "         [0.57315703],\n",
       "         [0.57315703],\n",
       "         [0.06728989],\n",
       "         [0.06728989],\n",
       "         [0.81015123],\n",
       "         [0.81015123],\n",
       "         [0.76972787],\n",
       "         [0.76972787],\n",
       "         [0.65269151],\n",
       "         [0.65269151],\n",
       "         [0.6784984 ],\n",
       "         [0.6784984 ],\n",
       "         [0.83281813],\n",
       "         [0.83281813],\n",
       "         [0.07270577],\n",
       "         [0.07270577],\n",
       "         [0.93505764],\n",
       "         [0.93505764],\n",
       "         [0.39167244],\n",
       "         [0.39167244],\n",
       "         [0.90293411],\n",
       "         [0.90293411],\n",
       "         [0.35030448],\n",
       "         [0.35030448],\n",
       "         [0.90516517],\n",
       "         [0.90516517],\n",
       "         [0.4699412 ],\n",
       "         [0.4699412 ],\n",
       "         [0.63891481],\n",
       "         [0.63891481],\n",
       "         [0.44066753],\n",
       "         [0.44066753],\n",
       "         [0.76021323],\n",
       "         [0.76021323],\n",
       "         [0.75454813],\n",
       "         [0.75454813],\n",
       "         [0.87838982],\n",
       "         [0.87838982],\n",
       "         [0.53733024],\n",
       "         [0.53733024],\n",
       "         [0.99635592],\n",
       "         [0.99635592],\n",
       "         [0.34146409],\n",
       "         [0.34146409],\n",
       "         [0.64368464],\n",
       "         [0.64368464],\n",
       "         [0.54426936],\n",
       "         [0.54426936],\n",
       "         [0.92962848],\n",
       "         [0.92962848],\n",
       "         [0.71473505],\n",
       "         [0.71473505]])}}"
      ]
     },
     "execution_count": 1,
     "metadata": {},
     "output_type": "execute_result"
    }
   ],
   "source": [
    "ds = load_by_id(run_id_a)\n",
    "ds.get_parameter_data('x1')"
   ]
  },
  {
   "cell_type": "code",
   "execution_count": null,
   "metadata": {},
   "outputs": [],
   "source": []
  }
 ],
 "metadata": {
  "kernelspec": {
   "display_name": "Python 3",
   "language": "python",
   "name": "python3"
  },
  "language_info": {
   "codemirror_mode": {
    "name": "ipython",
    "version": 3
   },
   "file_extension": ".py",
   "mimetype": "text/x-python",
   "name": "python",
   "nbconvert_exporter": "python",
   "pygments_lexer": "ipython3",
   "version": "3.7.9"
  },
  "nbsphinx": {
   "timeout": 600
  },
  "toc": {
   "base_numbering": 1,
   "nav_menu": {},
   "number_sections": true,
   "sideBar": true,
   "skip_h1_title": false,
   "title_cell": "Table of Contents",
   "title_sidebar": "Contents",
   "toc_cell": false,
   "toc_position": {},
   "toc_section_display": true,
   "toc_window_display": false
  },
  "varInspector": {
   "cols": {
    "lenName": 16,
    "lenType": 16,
    "lenVar": 40
   },
   "kernels_config": {
    "python": {
     "delete_cmd_postfix": "",
     "delete_cmd_prefix": "del ",
     "library": "var_list.py",
     "varRefreshCmd": "print(var_dic_list())"
    },
    "r": {
     "delete_cmd_postfix": ") ",
     "delete_cmd_prefix": "rm(",
     "library": "var_list.r",
     "varRefreshCmd": "cat(var_dic_list()) "
    }
   },
   "types_to_exclude": [
    "module",
    "function",
    "builtin_function_or_method",
    "instance",
    "_Feature"
   ],
   "window_display": false
  }
 },
 "nbformat": 4,
 "nbformat_minor": 2
}
