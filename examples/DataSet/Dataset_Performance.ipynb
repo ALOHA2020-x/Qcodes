{
 "cells": [
  {
   "cell_type": "markdown",
   "metadata": {},
   "source": [
    "# DataSet Performance\n",
    "\n",
    "This notebook shows the trade-off between inserting data into a database row-by-row and as binary blobs. Inserting the data row-by-row means that we have direct access to all the data and may perform queries directly on the values of the data. On the other hand, as we shall see, this is much slower than inserting the data directly as binary blobs."
   ]
  },
  {
   "cell_type": "markdown",
   "metadata": {},
   "source": [
    "First, we choose a new location for the database to ensure that we don't add a bunch of benchmarking data to the default one."
   ]
  },
  {
   "cell_type": "code",
   "execution_count": 1,
   "metadata": {
    "execution": {
     "iopub.execute_input": "2020-12-15T08:03:41.266195Z",
     "iopub.status.busy": "2020-12-15T08:03:41.264756Z",
     "iopub.status.idle": "2020-12-15T08:03:42.448899Z",
     "shell.execute_reply": "2020-12-15T08:03:42.449354Z"
    }
   },
   "outputs": [
    {
     "name": "stdout",
     "output_type": "stream",
     "text": [
      "Logging hadn't been started.\n",
      "Activating auto-logging. Current session state plus future input saved.\n",
      "Filename       : /home/vsts/.qcodes/logs/command_history.log\n",
      "Mode           : append\n",
      "Output logging : True\n",
      "Raw input log  : False\n",
      "Timestamping   : True\n",
      "State          : active\n"
     ]
    },
    {
     "name": "stdout",
     "output_type": "stream",
     "text": [
      "Qcodes Logfile : /home/vsts/.qcodes/logs/201215-14629-qcodes.log\n"
     ]
    }
   ],
   "source": [
    "import os\n",
    "cwd = os.getcwd()\n",
    "import qcodes as qc\n",
    "qc.config[\"core\"][\"db_location\"] = os.path.join(cwd, 'testing.db')\n"
   ]
  },
  {
   "cell_type": "code",
   "execution_count": 2,
   "metadata": {
    "execution": {
     "iopub.execute_input": "2020-12-15T08:03:42.455554Z",
     "iopub.status.busy": "2020-12-15T08:03:42.454591Z",
     "iopub.status.idle": "2020-12-15T08:03:42.658315Z",
     "shell.execute_reply": "2020-12-15T08:03:42.657367Z"
    }
   },
   "outputs": [],
   "source": [
    "%matplotlib inline\n",
    "import time\n",
    "import matplotlib.pyplot as plt\n",
    "import numpy as np\n",
    "\n",
    "import qcodes as qc\n",
    "from qcodes.instrument.parameter import ManualParameter\n",
    "from qcodes.dataset.experiment_container import (Experiment,\n",
    "                                                 load_last_experiment,\n",
    "                                                 new_experiment)\n",
    "from qcodes.dataset.sqlite.database import initialise_database\n",
    "from qcodes import load_or_create_experiment\n",
    "from qcodes.dataset.measurements import Measurement"
   ]
  },
  {
   "cell_type": "code",
   "execution_count": 3,
   "metadata": {
    "execution": {
     "iopub.execute_input": "2020-12-15T08:03:42.662540Z",
     "iopub.status.busy": "2020-12-15T08:03:42.661943Z",
     "iopub.status.idle": "2020-12-15T08:03:42.767594Z",
     "shell.execute_reply": "2020-12-15T08:03:42.768229Z"
    }
   },
   "outputs": [
    {
     "name": "stdout",
     "output_type": "stream",
     "text": [
      "\r",
      "0it [00:00, ?it/s]"
     ]
    },
    {
     "name": "stdout",
     "output_type": "stream",
     "text": [
      "\r",
      "Upgrading database; v0 -> v1: : 0it [00:00, ?it/s]"
     ]
    },
    {
     "name": "stdout",
     "output_type": "stream",
     "text": [
      "\r",
      "Upgrading database; v0 -> v1: : 0it [00:00, ?it/s]"
     ]
    },
    {
     "name": "stdout",
     "output_type": "stream",
     "text": [
      "\n",
      "\r",
      "  0%|          | 0/1 [00:00<?, ?it/s]"
     ]
    },
    {
     "name": "stdout",
     "output_type": "stream",
     "text": [
      "\r",
      "Upgrading database; v1 -> v2:   0%|          | 0/1 [00:00<?, ?it/s]"
     ]
    },
    {
     "name": "stdout",
     "output_type": "stream",
     "text": [
      "\r",
      "Upgrading database; v1 -> v2: 100%|██████████| 1/1 [00:00<00:00, 431.91it/s]"
     ]
    },
    {
     "name": "stdout",
     "output_type": "stream",
     "text": [
      "\n",
      "\r",
      "0it [00:00, ?it/s]"
     ]
    },
    {
     "name": "stdout",
     "output_type": "stream",
     "text": [
      "\r",
      "Upgrading database; v2 -> v3: : 0it [00:00, ?it/s]"
     ]
    },
    {
     "name": "stdout",
     "output_type": "stream",
     "text": [
      "\r",
      "Upgrading database; v2 -> v3: : 0it [00:00, ?it/s]"
     ]
    },
    {
     "name": "stdout",
     "output_type": "stream",
     "text": [
      "\n",
      "\r",
      "0it [00:00, ?it/s]"
     ]
    },
    {
     "name": "stdout",
     "output_type": "stream",
     "text": [
      "\r",
      "Upgrading database; v3 -> v4: : 0it [00:00, ?it/s]"
     ]
    },
    {
     "name": "stdout",
     "output_type": "stream",
     "text": [
      "\r",
      "Upgrading database; v3 -> v4: : 0it [00:00, ?it/s]"
     ]
    },
    {
     "name": "stdout",
     "output_type": "stream",
     "text": [
      "\n",
      "\r",
      "  0%|          | 0/1 [00:00<?, ?it/s]"
     ]
    },
    {
     "name": "stdout",
     "output_type": "stream",
     "text": [
      "\r",
      "Upgrading database; v4 -> v5:   0%|          | 0/1 [00:00<?, ?it/s]"
     ]
    },
    {
     "name": "stdout",
     "output_type": "stream",
     "text": [
      "\r",
      "Upgrading database; v4 -> v5: 100%|██████████| 1/1 [00:00<00:00, 377.12it/s]"
     ]
    },
    {
     "name": "stdout",
     "output_type": "stream",
     "text": [
      "\n",
      "\r",
      "0it [00:00, ?it/s]"
     ]
    },
    {
     "name": "stdout",
     "output_type": "stream",
     "text": [
      "\r",
      "Upgrading database; v5 -> v6: : 0it [00:00, ?it/s]"
     ]
    },
    {
     "name": "stdout",
     "output_type": "stream",
     "text": [
      "\r",
      "Upgrading database; v5 -> v6: : 0it [00:00, ?it/s]"
     ]
    },
    {
     "name": "stdout",
     "output_type": "stream",
     "text": [
      "\n",
      "\r",
      "  0%|          | 0/1 [00:00<?, ?it/s]"
     ]
    },
    {
     "name": "stdout",
     "output_type": "stream",
     "text": [
      "\r",
      "Upgrading database; v6 -> v7:   0%|          | 0/1 [00:00<?, ?it/s]"
     ]
    },
    {
     "name": "stdout",
     "output_type": "stream",
     "text": [
      "\r",
      "Upgrading database; v6 -> v7: 100%|██████████| 1/1 [00:00<00:00, 390.97it/s]"
     ]
    },
    {
     "name": "stdout",
     "output_type": "stream",
     "text": [
      "\n",
      "\r",
      "  0%|          | 0/1 [00:00<?, ?it/s]"
     ]
    },
    {
     "name": "stdout",
     "output_type": "stream",
     "text": [
      "\r",
      "Upgrading database; v7 -> v8:   0%|          | 0/1 [00:00<?, ?it/s]"
     ]
    },
    {
     "name": "stdout",
     "output_type": "stream",
     "text": [
      "\r",
      "Upgrading database; v7 -> v8: 100%|██████████| 1/1 [00:00<00:00, 493.51it/s]"
     ]
    },
    {
     "name": "stdout",
     "output_type": "stream",
     "text": [
      "\n",
      "\r",
      "  0%|          | 0/1 [00:00<?, ?it/s]"
     ]
    },
    {
     "name": "stdout",
     "output_type": "stream",
     "text": [
      "\r",
      "Upgrading database; v8 -> v9:   0%|          | 0/1 [00:00<?, ?it/s]"
     ]
    },
    {
     "name": "stdout",
     "output_type": "stream",
     "text": [
      "\r",
      "Upgrading database; v8 -> v9: 100%|██████████| 1/1 [00:00<00:00, 521.23it/s]"
     ]
    },
    {
     "name": "stdout",
     "output_type": "stream",
     "text": [
      "\n"
     ]
    }
   ],
   "source": [
    "initialise_database()\n",
    "exp = load_or_create_experiment(experiment_name='tutorial_exp', sample_name=\"no sample\")"
   ]
  },
  {
   "cell_type": "markdown",
   "metadata": {},
   "source": [
    "Here, we define a simple function to benchmark the time it takes to insert n points with either numeric or array data type.\n",
    "We will compare both the time used to call ``add_result`` and the time used for the full measurement."
   ]
  },
  {
   "cell_type": "code",
   "execution_count": 4,
   "metadata": {
    "execution": {
     "iopub.execute_input": "2020-12-15T08:03:42.776572Z",
     "iopub.status.busy": "2020-12-15T08:03:42.776025Z",
     "iopub.status.idle": "2020-12-15T08:03:42.780134Z",
     "shell.execute_reply": "2020-12-15T08:03:42.779477Z"
    }
   },
   "outputs": [],
   "source": [
    "def insert_data(paramtype, npoints, nreps=1):\n",
    "\n",
    "    meas = Measurement(exp=exp)\n",
    "\n",
    "    x1 = ManualParameter('x1')\n",
    "    x2 = ManualParameter('x2')\n",
    "    x3 = ManualParameter('x3')\n",
    "    y1 = ManualParameter('y1')\n",
    "    y2 = ManualParameter('y2')\n",
    "\n",
    "    meas.register_parameter(x1, paramtype=paramtype)\n",
    "    meas.register_parameter(x2, paramtype=paramtype)\n",
    "    meas.register_parameter(x3, paramtype=paramtype)\n",
    "    meas.register_parameter(y1, setpoints=[x1, x2, x3],\n",
    "                            paramtype=paramtype)\n",
    "    meas.register_parameter(y2, setpoints=[x1, x2, x3],\n",
    "                            paramtype=paramtype)\n",
    "    start = time.perf_counter()\n",
    "    with meas.run() as datasaver:\n",
    "        start_adding = time.perf_counter()\n",
    "        for i in range(nreps):\n",
    "            datasaver.add_result((x1, np.random.rand(npoints)),\n",
    "                                 (x2, np.random.rand(npoints)),\n",
    "                                 (x3, np.random.rand(npoints)),\n",
    "                                 (y1, np.random.rand(npoints)),\n",
    "                                 (y2, np.random.rand(npoints)))\n",
    "        stop_adding = time.perf_counter()\n",
    "        run_id = datasaver.run_id\n",
    "    stop = time.perf_counter()\n",
    "    tot_time = stop - start\n",
    "    add_time = stop_adding - start_adding\n",
    "    return tot_time, add_time, run_id"
   ]
  },
  {
   "cell_type": "markdown",
   "metadata": {},
   "source": [
    "## Comparison between numeric/array data and binary blob"
   ]
  },
  {
   "cell_type": "markdown",
   "metadata": {},
   "source": [
    "### Case1: Short experiment time"
   ]
  },
  {
   "cell_type": "code",
   "execution_count": 5,
   "metadata": {
    "execution": {
     "iopub.execute_input": "2020-12-15T08:03:42.787224Z",
     "iopub.status.busy": "2020-12-15T08:03:42.786177Z",
     "iopub.status.idle": "2020-12-15T08:03:43.658043Z",
     "shell.execute_reply": "2020-12-15T08:03:43.658505Z"
    }
   },
   "outputs": [
    {
     "name": "stdout",
     "output_type": "stream",
     "text": [
      "Starting experimental run with id: 1. \n",
      "Starting experimental run with id: 2. \n",
      "Starting experimental run with id: 3. \n",
      "Starting experimental run with id: 4. \n",
      "Starting experimental run with id: 5. \n"
     ]
    },
    {
     "name": "stdout",
     "output_type": "stream",
     "text": [
      "Starting experimental run with id: 6. \n"
     ]
    },
    {
     "name": "stdout",
     "output_type": "stream",
     "text": [
      "Starting experimental run with id: 7. \n"
     ]
    },
    {
     "name": "stdout",
     "output_type": "stream",
     "text": [
      "Starting experimental run with id: 8. \n",
      "Starting experimental run with id: 9. \n"
     ]
    },
    {
     "name": "stdout",
     "output_type": "stream",
     "text": [
      "Starting experimental run with id: 10. \n",
      "Starting experimental run with id: 11. \n"
     ]
    },
    {
     "name": "stdout",
     "output_type": "stream",
     "text": [
      "Starting experimental run with id: 12. \n"
     ]
    },
    {
     "name": "stdout",
     "output_type": "stream",
     "text": [
      "Starting experimental run with id: 13. \n"
     ]
    },
    {
     "name": "stdout",
     "output_type": "stream",
     "text": [
      "Starting experimental run with id: 14. \n"
     ]
    }
   ],
   "source": [
    "sizes = [1,500,1000,2000,3000,4000,5000]\n",
    "t_numeric = []\n",
    "t_numeric_add = []\n",
    "t_array = []\n",
    "t_array_add = []\n",
    "for size in sizes:\n",
    "    tn, tna, run_id_n =  insert_data('numeric', size)\n",
    "    t_numeric.append(tn)\n",
    "    t_numeric_add.append(tna)\n",
    "\n",
    "    ta, taa, run_id_a =  insert_data('array', size)\n",
    "    t_array.append(ta)\n",
    "    t_array_add.append(taa)"
   ]
  },
  {
   "cell_type": "code",
   "execution_count": 6,
   "metadata": {
    "execution": {
     "iopub.execute_input": "2020-12-15T08:03:43.679994Z",
     "iopub.status.busy": "2020-12-15T08:03:43.677662Z",
     "iopub.status.idle": "2020-12-15T08:03:43.902122Z",
     "shell.execute_reply": "2020-12-15T08:03:43.902931Z"
    }
   },
   "outputs": [
    {
     "data": {
      "image/png": "[encoded data removed]",
      "text/plain": [
       "<Figure size 432x288 with 1 Axes>"
      ]
     },
     "metadata": {
      "needs_background": "light"
     },
     "output_type": "display_data"
    }
   ],
   "source": [
    "fig, ax = plt.subplots(1,1)\n",
    "ax.plot(sizes, t_numeric, 'o-', label='Inserting row-by-row')\n",
    "ax.plot(sizes, t_numeric_add, 'o-', label='Inserting row-by-row: add_result only')\n",
    "ax.plot(sizes, t_array, 'd-', label='Inserting as binary blob')\n",
    "ax.plot(sizes, t_array_add, 'd-', label='Inserting as binary blob: add_result only')\n",
    "ax.legend()\n",
    "ax.set_xlabel('Array length')\n",
    "ax.set_ylabel('Time (s)')\n",
    "fig.tight_layout()"
   ]
  },
  {
   "cell_type": "markdown",
   "metadata": {},
   "source": [
    "As shown in the latter figure, the time to setup and and close the experiment is approximately 0.4 sec. In case of small array sizes, the difference between inserting values of data as arrays and inserting them row-by-row is relatively unimportant. At larger array sizes, i.e. above 10000 points, the cost of writing data as individual datapoints starts to become important.\n"
   ]
  },
  {
   "cell_type": "markdown",
   "metadata": {},
   "source": [
    "### Case2: Long experiment time "
   ]
  },
  {
   "cell_type": "code",
   "execution_count": 7,
   "metadata": {
    "execution": {
     "iopub.execute_input": "2020-12-15T08:03:43.910271Z",
     "iopub.status.busy": "2020-12-15T08:03:43.908850Z",
     "iopub.status.idle": "2020-12-15T08:04:47.925707Z",
     "shell.execute_reply": "2020-12-15T08:04:47.925125Z"
    }
   },
   "outputs": [
    {
     "name": "stdout",
     "output_type": "stream",
     "text": [
      "Starting experimental run with id: 15. \n",
      "Starting experimental run with id: 16. \n",
      "Starting experimental run with id: 17. \n"
     ]
    },
    {
     "name": "stdout",
     "output_type": "stream",
     "text": [
      "Starting experimental run with id: 18. \n",
      "Starting experimental run with id: 19. \n"
     ]
    },
    {
     "name": "stdout",
     "output_type": "stream",
     "text": [
      "Starting experimental run with id: 20. \n"
     ]
    },
    {
     "name": "stdout",
     "output_type": "stream",
     "text": [
      "Starting experimental run with id: 21. \n"
     ]
    },
    {
     "name": "stdout",
     "output_type": "stream",
     "text": [
      "Starting experimental run with id: 22. \n"
     ]
    },
    {
     "name": "stdout",
     "output_type": "stream",
     "text": [
      "Starting experimental run with id: 23. \n"
     ]
    },
    {
     "name": "stdout",
     "output_type": "stream",
     "text": [
      "Starting experimental run with id: 24. \n"
     ]
    },
    {
     "name": "stdout",
     "output_type": "stream",
     "text": [
      "Starting experimental run with id: 25. \n"
     ]
    },
    {
     "name": "stdout",
     "output_type": "stream",
     "text": [
      "Starting experimental run with id: 26. \n"
     ]
    },
    {
     "name": "stdout",
     "output_type": "stream",
     "text": [
      "Starting experimental run with id: 27. \n"
     ]
    },
    {
     "name": "stdout",
     "output_type": "stream",
     "text": [
      "Starting experimental run with id: 28. \n"
     ]
    }
   ],
   "source": [
    "sizes = [1,500,1000,2000,3000,4000,5000]\n",
    "nreps = 100\n",
    "t_numeric = []\n",
    "t_numeric_add = []\n",
    "t_numeric_run_ids = []\n",
    "t_array = []\n",
    "t_array_add = []\n",
    "t_array_run_ids = []\n",
    "for size in sizes:\n",
    "    tn, tna, run_id_n =  insert_data('numeric', size, nreps=nreps)\n",
    "    t_numeric.append(tn)\n",
    "    t_numeric_add.append(tna)\n",
    "    t_numeric_run_ids.append(run_id_n)\n",
    "\n",
    "    ta, taa, run_id_a =  insert_data('array', size, nreps=nreps)\n",
    "    t_array.append(ta)\n",
    "    t_array_add.append(taa)\n",
    "    t_array_run_ids.append(run_id_a)"
   ]
  },
  {
   "cell_type": "code",
   "execution_count": 8,
   "metadata": {
    "execution": {
     "iopub.execute_input": "2020-12-15T08:04:47.957986Z",
     "iopub.status.busy": "2020-12-15T08:04:47.948914Z",
     "iopub.status.idle": "2020-12-15T08:04:48.193236Z",
     "shell.execute_reply": "2020-12-15T08:04:48.192695Z"
    },
    "scrolled": true
   },
   "outputs": [
    {
     "data": {
      "image/png": "[encoded data removed]",
      "text/plain": [
       "<Figure size 432x288 with 1 Axes>"
      ]
     },
     "metadata": {
      "needs_background": "light"
     },
     "output_type": "display_data"
    }
   ],
   "source": [
    "fig, ax = plt.subplots(1,1)\n",
    "ax.plot(sizes, t_numeric, 'o-', label='Inserting row-by-row')\n",
    "ax.plot(sizes, t_numeric_add, 'o-', label='Inserting row-by-row: add_result only')\n",
    "ax.plot(sizes, t_array, 'd-', label='Inserting as binary blob')\n",
    "ax.plot(sizes, t_array_add, 'd-', label='Inserting as binary blob: add_result only')\n",
    "ax.legend()\n",
    "ax.set_xlabel('Array length')\n",
    "ax.set_ylabel('Time (s)')\n",
    "fig.tight_layout()"
   ]
  },
  {
   "cell_type": "markdown",
   "metadata": {},
   "source": [
    "However, as we increase the length of the experiment, as seen here by repeating the insertion 100 times, we see a big difference between inserting values of the data row-by-row and inserting it as a binary blob."
   ]
  },
  {
   "cell_type": "markdown",
   "metadata": {},
   "source": [
    "## Loading the data "
   ]
  },
  {
   "cell_type": "code",
   "execution_count": 9,
   "metadata": {
    "execution": {
     "iopub.execute_input": "2020-12-15T08:04:48.197917Z",
     "iopub.status.busy": "2020-12-15T08:04:48.196944Z",
     "iopub.status.idle": "2020-12-15T08:04:48.201304Z",
     "shell.execute_reply": "2020-12-15T08:04:48.200773Z"
    }
   },
   "outputs": [],
   "source": [
    "from qcodes.dataset.data_set import load_by_id\n",
    "from qcodes.dataset.data_export import get_data_by_id"
   ]
  },
  {
   "cell_type": "markdown",
   "metadata": {},
   "source": [
    "As usual you can load the data by using the ``load_by_id`` function but you will notice that the different storage methods\n",
    "are reflected in shape of the data as it is retrieved. "
   ]
  },
  {
   "cell_type": "code",
   "execution_count": 10,
   "metadata": {
    "execution": {
     "iopub.execute_input": "2020-12-15T08:04:48.206417Z",
     "iopub.status.busy": "2020-12-15T08:04:48.205088Z",
     "iopub.status.idle": "2020-12-15T08:04:48.207190Z",
     "shell.execute_reply": "2020-12-15T08:04:48.207839Z"
    }
   },
   "outputs": [],
   "source": [
    "run_id_n = t_numeric_run_ids[0]\n",
    "run_id_a = t_array_run_ids[0]"
   ]
  },
  {
   "cell_type": "code",
   "execution_count": 11,
   "metadata": {
    "execution": {
     "iopub.execute_input": "2020-12-15T08:04:48.211520Z",
     "iopub.status.busy": "2020-12-15T08:04:48.210898Z",
     "iopub.status.idle": "2020-12-15T08:04:48.223041Z",
     "shell.execute_reply": "2020-12-15T08:04:48.223747Z"
    },
    "scrolled": true
   },
   "outputs": [
    {
     "data": {
      "text/plain": [
       "{'x1': {'x1': array([0.24267612, 0.24267612, 0.19287224, 0.19287224, 0.7873157 ,\n",
       "         0.7873157 , 0.24574733, 0.24574733, 0.29844667, 0.29844667,\n",
       "         0.24808094, 0.24808094, 0.5478027 , 0.5478027 , 0.24648965,\n",
       "         0.24648965, 0.53634992, 0.53634992, 0.06328471, 0.06328471,\n",
       "         0.58333834, 0.58333834, 0.06175247, 0.06175247, 0.73773509,\n",
       "         0.73773509, 0.69242309, 0.69242309, 0.69721978, 0.69721978,\n",
       "         0.5591662 , 0.5591662 , 0.33478398, 0.33478398, 0.86064449,\n",
       "         0.86064449, 0.49266677, 0.49266677, 0.67399748, 0.67399748,\n",
       "         0.47498589, 0.47498589, 0.94587659, 0.94587659, 0.69363676,\n",
       "         0.69363676, 0.61658798, 0.61658798, 0.70123723, 0.70123723,\n",
       "         0.81308401, 0.81308401, 0.334138  , 0.334138  , 0.45273817,\n",
       "         0.45273817, 0.8628099 , 0.8628099 , 0.69047756, 0.69047756,\n",
       "         0.22352207, 0.22352207, 0.02775863, 0.02775863, 0.07242675,\n",
       "         0.07242675, 0.61501112, 0.61501112, 0.90593867, 0.90593867,\n",
       "         0.87286942, 0.87286942, 0.15339815, 0.15339815, 0.71923545,\n",
       "         0.71923545, 0.08884702, 0.08884702, 0.24867107, 0.24867107,\n",
       "         0.2305096 , 0.2305096 , 0.8147447 , 0.8147447 , 0.19786215,\n",
       "         0.19786215, 0.1322017 , 0.1322017 , 0.58896779, 0.58896779,\n",
       "         0.96166709, 0.96166709, 0.56896547, 0.56896547, 0.46033268,\n",
       "         0.46033268, 0.4119354 , 0.4119354 , 0.55044138, 0.55044138,\n",
       "         0.11874026, 0.11874026, 0.2959449 , 0.2959449 , 0.99421363,\n",
       "         0.99421363, 0.33876611, 0.33876611, 0.0569788 , 0.0569788 ,\n",
       "         0.58981604, 0.58981604, 0.2201415 , 0.2201415 , 0.1048406 ,\n",
       "         0.1048406 , 0.10243319, 0.10243319, 0.85983762, 0.85983762,\n",
       "         0.93046663, 0.93046663, 0.87447422, 0.87447422, 0.49186587,\n",
       "         0.49186587, 0.96237575, 0.96237575, 0.81832892, 0.81832892,\n",
       "         0.22517972, 0.22517972, 0.49022187, 0.49022187, 0.07919084,\n",
       "         0.07919084, 0.37247385, 0.37247385, 0.53817869, 0.53817869,\n",
       "         0.07211465, 0.07211465, 0.80734325, 0.80734325, 0.7141437 ,\n",
       "         0.7141437 , 0.87434905, 0.87434905, 0.90729716, 0.90729716,\n",
       "         0.70890261, 0.70890261, 0.39021453, 0.39021453, 0.29827694,\n",
       "         0.29827694, 0.6901307 , 0.6901307 , 0.77769334, 0.77769334,\n",
       "         0.04219034, 0.04219034, 0.19149321, 0.19149321, 0.28142482,\n",
       "         0.28142482, 0.43196118, 0.43196118, 0.67158722, 0.67158722,\n",
       "         0.55667341, 0.55667341, 0.60786703, 0.60786703, 0.1165712 ,\n",
       "         0.1165712 , 0.31783978, 0.31783978, 0.04669029, 0.04669029,\n",
       "         0.12751956, 0.12751956, 0.80706988, 0.80706988, 0.80427701,\n",
       "         0.80427701, 0.55249276, 0.55249276, 0.13766532, 0.13766532,\n",
       "         0.11439323, 0.11439323, 0.89960775, 0.89960775, 0.18308368,\n",
       "         0.18308368, 0.10292505, 0.10292505, 0.73434087, 0.73434087])}}"
      ]
     },
     "execution_count": 1,
     "metadata": {},
     "output_type": "execute_result"
    }
   ],
   "source": [
    "ds = load_by_id(run_id_n)\n",
    "ds.get_parameter_data('x1')"
   ]
  },
  {
   "cell_type": "markdown",
   "metadata": {},
   "source": [
    "And a dataset stored as binary arrays"
   ]
  },
  {
   "cell_type": "code",
   "execution_count": 12,
   "metadata": {
    "execution": {
     "iopub.execute_input": "2020-12-15T08:04:48.227591Z",
     "iopub.status.busy": "2020-12-15T08:04:48.226946Z",
     "iopub.status.idle": "2020-12-15T08:04:48.315926Z",
     "shell.execute_reply": "2020-12-15T08:04:48.316568Z"
    },
    "scrolled": true
   },
   "outputs": [
    {
     "data": {
      "text/plain": [
       "{'x1': {'x1': array([[3.29033827e-01],\n",
       "         [3.29033827e-01],\n",
       "         [4.80524682e-01],\n",
       "         [4.80524682e-01],\n",
       "         [5.03077306e-01],\n",
       "         [5.03077306e-01],\n",
       "         [3.49938844e-01],\n",
       "         [3.49938844e-01],\n",
       "         [1.38856791e-01],\n",
       "         [1.38856791e-01],\n",
       "         [5.76114764e-01],\n",
       "         [5.76114764e-01],\n",
       "         [7.51286862e-01],\n",
       "         [7.51286862e-01],\n",
       "         [2.97602941e-01],\n",
       "         [2.97602941e-01],\n",
       "         [1.62198966e-01],\n",
       "         [1.62198966e-01],\n",
       "         [8.27309689e-01],\n",
       "         [8.27309689e-01],\n",
       "         [5.21041455e-01],\n",
       "         [5.21041455e-01],\n",
       "         [5.26648305e-01],\n",
       "         [5.26648305e-01],\n",
       "         [3.31788371e-01],\n",
       "         [3.31788371e-01],\n",
       "         [7.62758979e-01],\n",
       "         [7.62758979e-01],\n",
       "         [4.63610540e-01],\n",
       "         [4.63610540e-01],\n",
       "         [9.88790321e-01],\n",
       "         [9.88790321e-01],\n",
       "         [7.86454806e-01],\n",
       "         [7.86454806e-01],\n",
       "         [7.17631194e-01],\n",
       "         [7.17631194e-01],\n",
       "         [7.54944760e-01],\n",
       "         [7.54944760e-01],\n",
       "         [4.81438556e-01],\n",
       "         [4.81438556e-01],\n",
       "         [8.13575150e-01],\n",
       "         [8.13575150e-01],\n",
       "         [1.38435475e-03],\n",
       "         [1.38435475e-03],\n",
       "         [3.76422540e-01],\n",
       "         [3.76422540e-01],\n",
       "         [6.61444110e-01],\n",
       "         [6.61444110e-01],\n",
       "         [6.98588851e-01],\n",
       "         [6.98588851e-01],\n",
       "         [1.53205533e-01],\n",
       "         [1.53205533e-01],\n",
       "         [4.39836941e-01],\n",
       "         [4.39836941e-01],\n",
       "         [4.48719484e-01],\n",
       "         [4.48719484e-01],\n",
       "         [4.23249257e-01],\n",
       "         [4.23249257e-01],\n",
       "         [8.31139971e-01],\n",
       "         [8.31139971e-01],\n",
       "         [7.42023758e-02],\n",
       "         [7.42023758e-02],\n",
       "         [8.08066821e-01],\n",
       "         [8.08066821e-01],\n",
       "         [3.32976506e-01],\n",
       "         [3.32976506e-01],\n",
       "         [8.26702996e-01],\n",
       "         [8.26702996e-01],\n",
       "         [3.14480786e-02],\n",
       "         [3.14480786e-02],\n",
       "         [5.75132563e-01],\n",
       "         [5.75132563e-01],\n",
       "         [5.31398376e-02],\n",
       "         [5.31398376e-02],\n",
       "         [5.83645765e-01],\n",
       "         [5.83645765e-01],\n",
       "         [4.42324423e-02],\n",
       "         [4.42324423e-02],\n",
       "         [7.37525797e-01],\n",
       "         [7.37525797e-01],\n",
       "         [8.91887210e-06],\n",
       "         [8.91887210e-06],\n",
       "         [6.83506124e-01],\n",
       "         [6.83506124e-01],\n",
       "         [4.51583020e-01],\n",
       "         [4.51583020e-01],\n",
       "         [8.96918482e-01],\n",
       "         [8.96918482e-01],\n",
       "         [5.08983946e-01],\n",
       "         [5.08983946e-01],\n",
       "         [1.55521442e-01],\n",
       "         [1.55521442e-01],\n",
       "         [5.92923742e-01],\n",
       "         [5.92923742e-01],\n",
       "         [5.38307484e-01],\n",
       "         [5.38307484e-01],\n",
       "         [8.55262689e-01],\n",
       "         [8.55262689e-01],\n",
       "         [7.09467384e-01],\n",
       "         [7.09467384e-01],\n",
       "         [9.80156075e-01],\n",
       "         [9.80156075e-01],\n",
       "         [2.20271363e-01],\n",
       "         [2.20271363e-01],\n",
       "         [1.63995406e-01],\n",
       "         [1.63995406e-01],\n",
       "         [5.57772726e-02],\n",
       "         [5.57772726e-02],\n",
       "         [7.24223224e-01],\n",
       "         [7.24223224e-01],\n",
       "         [9.05913632e-01],\n",
       "         [9.05913632e-01],\n",
       "         [4.71388395e-01],\n",
       "         [4.71388395e-01],\n",
       "         [8.47602748e-01],\n",
       "         [8.47602748e-01],\n",
       "         [1.95521142e-01],\n",
       "         [1.95521142e-01],\n",
       "         [4.01531353e-01],\n",
       "         [4.01531353e-01],\n",
       "         [7.19496310e-01],\n",
       "         [7.19496310e-01],\n",
       "         [1.92617064e-01],\n",
       "         [1.92617064e-01],\n",
       "         [4.10522169e-01],\n",
       "         [4.10522169e-01],\n",
       "         [3.07430810e-01],\n",
       "         [3.07430810e-01],\n",
       "         [1.93573163e-01],\n",
       "         [1.93573163e-01],\n",
       "         [6.51416840e-01],\n",
       "         [6.51416840e-01],\n",
       "         [4.12189961e-01],\n",
       "         [4.12189961e-01],\n",
       "         [6.45888676e-01],\n",
       "         [6.45888676e-01],\n",
       "         [5.91067199e-01],\n",
       "         [5.91067199e-01],\n",
       "         [4.37234720e-01],\n",
       "         [4.37234720e-01],\n",
       "         [3.03593398e-01],\n",
       "         [3.03593398e-01],\n",
       "         [1.22008793e-03],\n",
       "         [1.22008793e-03],\n",
       "         [3.85119998e-01],\n",
       "         [3.85119998e-01],\n",
       "         [5.90766948e-01],\n",
       "         [5.90766948e-01],\n",
       "         [9.60789812e-01],\n",
       "         [9.60789812e-01],\n",
       "         [5.52302214e-01],\n",
       "         [5.52302214e-01],\n",
       "         [7.68389019e-01],\n",
       "         [7.68389019e-01],\n",
       "         [9.20524721e-01],\n",
       "         [9.20524721e-01],\n",
       "         [3.80782713e-01],\n",
       "         [3.80782713e-01],\n",
       "         [1.01386094e-01],\n",
       "         [1.01386094e-01],\n",
       "         [4.70976597e-02],\n",
       "         [4.70976597e-02],\n",
       "         [4.42903760e-01],\n",
       "         [4.42903760e-01],\n",
       "         [4.21467720e-01],\n",
       "         [4.21467720e-01],\n",
       "         [3.68139723e-01],\n",
       "         [3.68139723e-01],\n",
       "         [7.87996068e-01],\n",
       "         [7.87996068e-01],\n",
       "         [5.68987988e-02],\n",
       "         [5.68987988e-02],\n",
       "         [3.46587678e-01],\n",
       "         [3.46587678e-01],\n",
       "         [9.18956681e-01],\n",
       "         [9.18956681e-01],\n",
       "         [4.52592614e-01],\n",
       "         [4.52592614e-01],\n",
       "         [5.23817375e-03],\n",
       "         [5.23817375e-03],\n",
       "         [8.14087416e-01],\n",
       "         [8.14087416e-01],\n",
       "         [9.04716888e-01],\n",
       "         [9.04716888e-01],\n",
       "         [4.61189539e-01],\n",
       "         [4.61189539e-01],\n",
       "         [2.53482609e-01],\n",
       "         [2.53482609e-01],\n",
       "         [9.00298295e-01],\n",
       "         [9.00298295e-01],\n",
       "         [5.63098709e-01],\n",
       "         [5.63098709e-01],\n",
       "         [7.51271518e-01],\n",
       "         [7.51271518e-01],\n",
       "         [7.15946634e-01],\n",
       "         [7.15946634e-01],\n",
       "         [1.43970437e-03],\n",
       "         [1.43970437e-03],\n",
       "         [5.04021832e-01],\n",
       "         [5.04021832e-01]])}}"
      ]
     },
     "execution_count": 1,
     "metadata": {},
     "output_type": "execute_result"
    }
   ],
   "source": [
    "ds = load_by_id(run_id_a)\n",
    "ds.get_parameter_data('x1')"
   ]
  },
  {
   "cell_type": "code",
   "execution_count": null,
   "metadata": {},
   "outputs": [],
   "source": []
  }
 ],
 "metadata": {
  "kernelspec": {
   "display_name": "Python 3",
   "language": "python",
   "name": "python3"
  },
  "language_info": {
   "codemirror_mode": {
    "name": "ipython",
    "version": 3
   },
   "file_extension": ".py",
   "mimetype": "text/x-python",
   "name": "python",
   "nbconvert_exporter": "python",
   "pygments_lexer": "ipython3",
   "version": "3.7.9"
  },
  "nbsphinx": {
   "timeout": 600
  },
  "toc": {
   "base_numbering": 1,
   "nav_menu": {},
   "number_sections": true,
   "sideBar": true,
   "skip_h1_title": false,
   "title_cell": "Table of Contents",
   "title_sidebar": "Contents",
   "toc_cell": false,
   "toc_position": {},
   "toc_section_display": true,
   "toc_window_display": false
  },
  "varInspector": {
   "cols": {
    "lenName": 16,
    "lenType": 16,
    "lenVar": 40
   },
   "kernels_config": {
    "python": {
     "delete_cmd_postfix": "",
     "delete_cmd_prefix": "del ",
     "library": "var_list.py",
     "varRefreshCmd": "print(var_dic_list())"
    },
    "r": {
     "delete_cmd_postfix": ") ",
     "delete_cmd_prefix": "rm(",
     "library": "var_list.r",
     "varRefreshCmd": "cat(var_dic_list()) "
    }
   },
   "types_to_exclude": [
    "module",
    "function",
    "builtin_function_or_method",
    "instance",
    "_Feature"
   ],
   "window_display": false
  }
 },
 "nbformat": 4,
 "nbformat_minor": 2
}
