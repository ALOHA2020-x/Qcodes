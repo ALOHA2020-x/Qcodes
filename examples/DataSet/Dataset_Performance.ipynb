{
 "cells": [
  {
   "cell_type": "markdown",
   "metadata": {},
   "source": [
    "# DataSet Performance\n",
    "\n",
    "This notebook shows the trade-off between inserting data into a database row-by-row and as binary blobs. Inserting the data row-by-row means that we have direct access to all the data and may perform queries directly on the values of the data. On the other hand, as we shall see, this is much slower than inserting the data directly as binary blobs."
   ]
  },
  {
   "cell_type": "markdown",
   "metadata": {},
   "source": [
    "First, we choose a new location for the database to ensure that we don't add a bunch of benchmarking data to the default one."
   ]
  },
  {
   "cell_type": "code",
   "execution_count": 1,
   "metadata": {
    "execution": {
     "iopub.execute_input": "2021-02-18T06:22:51.369652Z",
     "iopub.status.busy": "2021-02-18T06:22:51.369043Z",
     "iopub.status.idle": "2021-02-18T06:22:52.262897Z",
     "shell.execute_reply": "2021-02-18T06:22:52.262178Z"
    }
   },
   "outputs": [
    {
     "name": "stdout",
     "output_type": "stream",
     "text": [
      "Logging hadn't been started.\n",
      "Activating auto-logging. Current session state plus future input saved.\n",
      "Filename       : /home/runner/.qcodes/logs/command_history.log\n",
      "Mode           : append\n",
      "Output logging : True\n",
      "Raw input log  : False\n",
      "Timestamping   : True\n",
      "State          : active\n"
     ]
    },
    {
     "name": "stdout",
     "output_type": "stream",
     "text": [
      "Qcodes Logfile : /home/runner/.qcodes/logs/210218-3872-qcodes.log\n"
     ]
    }
   ],
   "source": [
    "import os\n",
    "cwd = os.getcwd()\n",
    "import qcodes as qc\n",
    "qc.config[\"core\"][\"db_location\"] = os.path.join(cwd, 'testing.db')\n"
   ]
  },
  {
   "cell_type": "code",
   "execution_count": 2,
   "metadata": {
    "execution": {
     "iopub.execute_input": "2021-02-18T06:22:52.270657Z",
     "iopub.status.busy": "2021-02-18T06:22:52.269035Z",
     "iopub.status.idle": "2021-02-18T06:22:52.468520Z",
     "shell.execute_reply": "2021-02-18T06:22:52.467456Z"
    }
   },
   "outputs": [],
   "source": [
    "%matplotlib inline\n",
    "import time\n",
    "import matplotlib.pyplot as plt\n",
    "import numpy as np\n",
    "\n",
    "import qcodes as qc\n",
    "from qcodes.instrument.parameter import ManualParameter\n",
    "from qcodes.dataset.experiment_container import (Experiment,\n",
    "                                                 load_last_experiment,\n",
    "                                                 new_experiment)\n",
    "from qcodes.dataset.sqlite.database import initialise_database\n",
    "from qcodes import load_or_create_experiment\n",
    "from qcodes.dataset.measurements import Measurement"
   ]
  },
  {
   "cell_type": "code",
   "execution_count": 3,
   "metadata": {
    "execution": {
     "iopub.execute_input": "2021-02-18T06:22:52.473010Z",
     "iopub.status.busy": "2021-02-18T06:22:52.471994Z",
     "iopub.status.idle": "2021-02-18T06:22:52.591813Z",
     "shell.execute_reply": "2021-02-18T06:22:52.591261Z"
    }
   },
   "outputs": [
    {
     "name": "stdout",
     "output_type": "stream",
     "text": [
      "\r",
      "0it [00:00, ?it/s]"
     ]
    },
    {
     "name": "stdout",
     "output_type": "stream",
     "text": [
      "\r",
      "Upgrading database; v0 -> v1: : 0it [00:00, ?it/s]"
     ]
    },
    {
     "name": "stdout",
     "output_type": "stream",
     "text": [
      "\r",
      "Upgrading database; v0 -> v1: : 0it [00:00, ?it/s]"
     ]
    },
    {
     "name": "stdout",
     "output_type": "stream",
     "text": [
      "\n",
      "\r",
      "  0%|          | 0/1 [00:00<?, ?it/s]"
     ]
    },
    {
     "name": "stdout",
     "output_type": "stream",
     "text": [
      "\r",
      "Upgrading database; v1 -> v2:   0%|          | 0/1 [00:00<?, ?it/s]"
     ]
    },
    {
     "name": "stdout",
     "output_type": "stream",
     "text": [
      "\r",
      "Upgrading database; v1 -> v2: 100%|██████████| 1/1 [00:00<00:00, 395.39it/s]"
     ]
    },
    {
     "name": "stdout",
     "output_type": "stream",
     "text": [
      "\n",
      "\r",
      "0it [00:00, ?it/s]"
     ]
    },
    {
     "name": "stdout",
     "output_type": "stream",
     "text": [
      "\r",
      "Upgrading database; v2 -> v3: : 0it [00:00, ?it/s]"
     ]
    },
    {
     "name": "stdout",
     "output_type": "stream",
     "text": [
      "\r",
      "Upgrading database; v2 -> v3: : 0it [00:00, ?it/s]"
     ]
    },
    {
     "name": "stdout",
     "output_type": "stream",
     "text": [
      "\n",
      "\r",
      "0it [00:00, ?it/s]"
     ]
    },
    {
     "name": "stdout",
     "output_type": "stream",
     "text": [
      "\r",
      "Upgrading database; v3 -> v4: : 0it [00:00, ?it/s]"
     ]
    },
    {
     "name": "stdout",
     "output_type": "stream",
     "text": [
      "\r",
      "Upgrading database; v3 -> v4: : 0it [00:00, ?it/s]"
     ]
    },
    {
     "name": "stdout",
     "output_type": "stream",
     "text": [
      "\n",
      "\r",
      "  0%|          | 0/1 [00:00<?, ?it/s]"
     ]
    },
    {
     "name": "stdout",
     "output_type": "stream",
     "text": [
      "\r",
      "Upgrading database; v4 -> v5:   0%|          | 0/1 [00:00<?, ?it/s]"
     ]
    },
    {
     "name": "stdout",
     "output_type": "stream",
     "text": [
      "\r",
      "Upgrading database; v4 -> v5: 100%|██████████| 1/1 [00:00<00:00, 412.42it/s]"
     ]
    },
    {
     "name": "stdout",
     "output_type": "stream",
     "text": [
      "\n",
      "\r",
      "0it [00:00, ?it/s]"
     ]
    },
    {
     "name": "stdout",
     "output_type": "stream",
     "text": [
      "\r",
      "Upgrading database; v5 -> v6: : 0it [00:00, ?it/s]"
     ]
    },
    {
     "name": "stdout",
     "output_type": "stream",
     "text": [
      "\r",
      "Upgrading database; v5 -> v6: : 0it [00:00, ?it/s]"
     ]
    },
    {
     "name": "stdout",
     "output_type": "stream",
     "text": [
      "\n",
      "\r",
      "  0%|          | 0/1 [00:00<?, ?it/s]"
     ]
    },
    {
     "name": "stdout",
     "output_type": "stream",
     "text": [
      "\r",
      "Upgrading database; v6 -> v7:   0%|          | 0/1 [00:00<?, ?it/s]"
     ]
    },
    {
     "name": "stdout",
     "output_type": "stream",
     "text": [
      "\r",
      "Upgrading database; v6 -> v7: 100%|██████████| 1/1 [00:00<00:00, 334.79it/s]"
     ]
    },
    {
     "name": "stdout",
     "output_type": "stream",
     "text": [
      "\n",
      "\r",
      "  0%|          | 0/1 [00:00<?, ?it/s]"
     ]
    },
    {
     "name": "stdout",
     "output_type": "stream",
     "text": [
      "\r",
      "Upgrading database; v7 -> v8:   0%|          | 0/1 [00:00<?, ?it/s]"
     ]
    },
    {
     "name": "stdout",
     "output_type": "stream",
     "text": [
      "\r",
      "Upgrading database; v7 -> v8: 100%|██████████| 1/1 [00:00<00:00, 412.91it/s]"
     ]
    },
    {
     "name": "stdout",
     "output_type": "stream",
     "text": [
      "\n",
      "\r",
      "  0%|          | 0/1 [00:00<?, ?it/s]"
     ]
    },
    {
     "name": "stdout",
     "output_type": "stream",
     "text": [
      "\r",
      "Upgrading database; v8 -> v9:   0%|          | 0/1 [00:00<?, ?it/s]"
     ]
    },
    {
     "name": "stdout",
     "output_type": "stream",
     "text": [
      "\r",
      "Upgrading database; v8 -> v9: 100%|██████████| 1/1 [00:00<00:00, 401.14it/s]"
     ]
    },
    {
     "name": "stdout",
     "output_type": "stream",
     "text": [
      "\n"
     ]
    }
   ],
   "source": [
    "initialise_database()\n",
    "exp = load_or_create_experiment(experiment_name='tutorial_exp', sample_name=\"no sample\")"
   ]
  },
  {
   "cell_type": "markdown",
   "metadata": {},
   "source": [
    "Here, we define a simple function to benchmark the time it takes to insert n points with either numeric or array data type.\n",
    "We will compare both the time used to call ``add_result`` and the time used for the full measurement."
   ]
  },
  {
   "cell_type": "code",
   "execution_count": 4,
   "metadata": {
    "execution": {
     "iopub.execute_input": "2021-02-18T06:22:52.601828Z",
     "iopub.status.busy": "2021-02-18T06:22:52.600499Z",
     "iopub.status.idle": "2021-02-18T06:22:52.602490Z",
     "shell.execute_reply": "2021-02-18T06:22:52.602975Z"
    }
   },
   "outputs": [],
   "source": [
    "def insert_data(paramtype, npoints, nreps=1):\n",
    "\n",
    "    meas = Measurement(exp=exp)\n",
    "\n",
    "    x1 = ManualParameter('x1')\n",
    "    x2 = ManualParameter('x2')\n",
    "    x3 = ManualParameter('x3')\n",
    "    y1 = ManualParameter('y1')\n",
    "    y2 = ManualParameter('y2')\n",
    "\n",
    "    meas.register_parameter(x1, paramtype=paramtype)\n",
    "    meas.register_parameter(x2, paramtype=paramtype)\n",
    "    meas.register_parameter(x3, paramtype=paramtype)\n",
    "    meas.register_parameter(y1, setpoints=[x1, x2, x3],\n",
    "                            paramtype=paramtype)\n",
    "    meas.register_parameter(y2, setpoints=[x1, x2, x3],\n",
    "                            paramtype=paramtype)\n",
    "    start = time.perf_counter()\n",
    "    with meas.run() as datasaver:\n",
    "        start_adding = time.perf_counter()\n",
    "        for i in range(nreps):\n",
    "            datasaver.add_result((x1, np.random.rand(npoints)),\n",
    "                                 (x2, np.random.rand(npoints)),\n",
    "                                 (x3, np.random.rand(npoints)),\n",
    "                                 (y1, np.random.rand(npoints)),\n",
    "                                 (y2, np.random.rand(npoints)))\n",
    "        stop_adding = time.perf_counter()\n",
    "        run_id = datasaver.run_id\n",
    "    stop = time.perf_counter()\n",
    "    tot_time = stop - start\n",
    "    add_time = stop_adding - start_adding\n",
    "    return tot_time, add_time, run_id"
   ]
  },
  {
   "cell_type": "markdown",
   "metadata": {},
   "source": [
    "## Comparison between numeric/array data and binary blob"
   ]
  },
  {
   "cell_type": "markdown",
   "metadata": {},
   "source": [
    "### Case1: Short experiment time"
   ]
  },
  {
   "cell_type": "code",
   "execution_count": 5,
   "metadata": {
    "execution": {
     "iopub.execute_input": "2021-02-18T06:22:52.610704Z",
     "iopub.status.busy": "2021-02-18T06:22:52.609970Z",
     "iopub.status.idle": "2021-02-18T06:22:53.460056Z",
     "shell.execute_reply": "2021-02-18T06:22:53.459351Z"
    }
   },
   "outputs": [
    {
     "name": "stdout",
     "output_type": "stream",
     "text": [
      "Starting experimental run with id: 1. \n",
      "Starting experimental run with id: 2. \n",
      "Starting experimental run with id: 3. \n",
      "Starting experimental run with id: 4. \n",
      "Starting experimental run with id: 5. \n"
     ]
    },
    {
     "name": "stdout",
     "output_type": "stream",
     "text": [
      "Starting experimental run with id: 6. "
     ]
    },
    {
     "name": "stdout",
     "output_type": "stream",
     "text": [
      "\n"
     ]
    },
    {
     "name": "stdout",
     "output_type": "stream",
     "text": [
      "Starting experimental run with id: 7. \n"
     ]
    },
    {
     "name": "stdout",
     "output_type": "stream",
     "text": [
      "Starting experimental run with id: 8. \n",
      "Starting experimental run with id: 9. \n"
     ]
    },
    {
     "name": "stdout",
     "output_type": "stream",
     "text": [
      "Starting experimental run with id: 10. \n",
      "Starting experimental run with id: 11. \n"
     ]
    },
    {
     "name": "stdout",
     "output_type": "stream",
     "text": [
      "Starting experimental run with id: 12. \n",
      "Starting experimental run with id: 13. \n"
     ]
    },
    {
     "name": "stdout",
     "output_type": "stream",
     "text": [
      "Starting experimental run with id: 14. \n"
     ]
    }
   ],
   "source": [
    "sizes = [1,500,1000,2000,3000,4000,5000]\n",
    "t_numeric = []\n",
    "t_numeric_add = []\n",
    "t_array = []\n",
    "t_array_add = []\n",
    "for size in sizes:\n",
    "    tn, tna, run_id_n =  insert_data('numeric', size)\n",
    "    t_numeric.append(tn)\n",
    "    t_numeric_add.append(tna)\n",
    "\n",
    "    ta, taa, run_id_a =  insert_data('array', size)\n",
    "    t_array.append(ta)\n",
    "    t_array_add.append(taa)"
   ]
  },
  {
   "cell_type": "code",
   "execution_count": 6,
   "metadata": {
    "execution": {
     "iopub.execute_input": "2021-02-18T06:22:53.504926Z",
     "iopub.status.busy": "2021-02-18T06:22:53.478898Z",
     "iopub.status.idle": "2021-02-18T06:22:53.668636Z",
     "shell.execute_reply": "2021-02-18T06:22:53.669093Z"
    }
   },
   "outputs": [
    {
     "data": {
      "image/png": "[encoded data removed]",
      "text/plain": [
       "<Figure size 432x288 with 1 Axes>"
      ]
     },
     "metadata": {
      "needs_background": "light"
     },
     "output_type": "display_data"
    }
   ],
   "source": [
    "fig, ax = plt.subplots(1,1)\n",
    "ax.plot(sizes, t_numeric, 'o-', label='Inserting row-by-row')\n",
    "ax.plot(sizes, t_numeric_add, 'o-', label='Inserting row-by-row: add_result only')\n",
    "ax.plot(sizes, t_array, 'd-', label='Inserting as binary blob')\n",
    "ax.plot(sizes, t_array_add, 'd-', label='Inserting as binary blob: add_result only')\n",
    "ax.legend()\n",
    "ax.set_xlabel('Array length')\n",
    "ax.set_ylabel('Time (s)')\n",
    "fig.tight_layout()"
   ]
  },
  {
   "cell_type": "markdown",
   "metadata": {},
   "source": [
    "As shown in the latter figure, the time to setup and and close the experiment is approximately 0.4 sec. In case of small array sizes, the difference between inserting values of data as arrays and inserting them row-by-row is relatively unimportant. At larger array sizes, i.e. above 10000 points, the cost of writing data as individual datapoints starts to become important.\n"
   ]
  },
  {
   "cell_type": "markdown",
   "metadata": {},
   "source": [
    "### Case2: Long experiment time "
   ]
  },
  {
   "cell_type": "code",
   "execution_count": 7,
   "metadata": {
    "execution": {
     "iopub.execute_input": "2021-02-18T06:22:53.677108Z",
     "iopub.status.busy": "2021-02-18T06:22:53.676495Z",
     "iopub.status.idle": "2021-02-18T06:23:53.166714Z",
     "shell.execute_reply": "2021-02-18T06:23:53.166161Z"
    }
   },
   "outputs": [
    {
     "name": "stdout",
     "output_type": "stream",
     "text": [
      "Starting experimental run with id: 15. \n",
      "Starting experimental run with id: 16. \n",
      "Starting experimental run with id: 17. \n"
     ]
    },
    {
     "name": "stdout",
     "output_type": "stream",
     "text": [
      "Starting experimental run with id: 18. \n"
     ]
    },
    {
     "name": "stdout",
     "output_type": "stream",
     "text": [
      "Starting experimental run with id: 19. \n"
     ]
    },
    {
     "name": "stdout",
     "output_type": "stream",
     "text": [
      "Starting experimental run with id: 20. \n"
     ]
    },
    {
     "name": "stdout",
     "output_type": "stream",
     "text": [
      "Starting experimental run with id: 21. \n"
     ]
    },
    {
     "name": "stdout",
     "output_type": "stream",
     "text": [
      "Starting experimental run with id: 22. \n"
     ]
    },
    {
     "name": "stdout",
     "output_type": "stream",
     "text": [
      "Starting experimental run with id: 23. \n"
     ]
    },
    {
     "name": "stdout",
     "output_type": "stream",
     "text": [
      "Starting experimental run with id: 24. \n"
     ]
    },
    {
     "name": "stdout",
     "output_type": "stream",
     "text": [
      "Starting experimental run with id: 25. \n"
     ]
    },
    {
     "name": "stdout",
     "output_type": "stream",
     "text": [
      "Starting experimental run with id: 26. \n"
     ]
    },
    {
     "name": "stdout",
     "output_type": "stream",
     "text": [
      "Starting experimental run with id: 27. \n"
     ]
    },
    {
     "name": "stdout",
     "output_type": "stream",
     "text": [
      "Starting experimental run with id: 28. \n"
     ]
    }
   ],
   "source": [
    "sizes = [1,500,1000,2000,3000,4000,5000]\n",
    "nreps = 100\n",
    "t_numeric = []\n",
    "t_numeric_add = []\n",
    "t_numeric_run_ids = []\n",
    "t_array = []\n",
    "t_array_add = []\n",
    "t_array_run_ids = []\n",
    "for size in sizes:\n",
    "    tn, tna, run_id_n =  insert_data('numeric', size, nreps=nreps)\n",
    "    t_numeric.append(tn)\n",
    "    t_numeric_add.append(tna)\n",
    "    t_numeric_run_ids.append(run_id_n)\n",
    "\n",
    "    ta, taa, run_id_a =  insert_data('array', size, nreps=nreps)\n",
    "    t_array.append(ta)\n",
    "    t_array_add.append(taa)\n",
    "    t_array_run_ids.append(run_id_a)"
   ]
  },
  {
   "cell_type": "code",
   "execution_count": 8,
   "metadata": {
    "execution": {
     "iopub.execute_input": "2021-02-18T06:23:53.208342Z",
     "iopub.status.busy": "2021-02-18T06:23:53.177081Z",
     "iopub.status.idle": "2021-02-18T06:23:53.377134Z",
     "shell.execute_reply": "2021-02-18T06:23:53.376642Z"
    },
    "scrolled": true
   },
   "outputs": [
    {
     "data": {
      "image/png": "[encoded data removed]",
      "text/plain": [
       "<Figure size 432x288 with 1 Axes>"
      ]
     },
     "metadata": {
      "needs_background": "light"
     },
     "output_type": "display_data"
    }
   ],
   "source": [
    "fig, ax = plt.subplots(1,1)\n",
    "ax.plot(sizes, t_numeric, 'o-', label='Inserting row-by-row')\n",
    "ax.plot(sizes, t_numeric_add, 'o-', label='Inserting row-by-row: add_result only')\n",
    "ax.plot(sizes, t_array, 'd-', label='Inserting as binary blob')\n",
    "ax.plot(sizes, t_array_add, 'd-', label='Inserting as binary blob: add_result only')\n",
    "ax.legend()\n",
    "ax.set_xlabel('Array length')\n",
    "ax.set_ylabel('Time (s)')\n",
    "fig.tight_layout()"
   ]
  },
  {
   "cell_type": "markdown",
   "metadata": {},
   "source": [
    "However, as we increase the length of the experiment, as seen here by repeating the insertion 100 times, we see a big difference between inserting values of the data row-by-row and inserting it as a binary blob."
   ]
  },
  {
   "cell_type": "markdown",
   "metadata": {},
   "source": [
    "## Loading the data "
   ]
  },
  {
   "cell_type": "code",
   "execution_count": 9,
   "metadata": {
    "execution": {
     "iopub.execute_input": "2021-02-18T06:23:53.381748Z",
     "iopub.status.busy": "2021-02-18T06:23:53.380727Z",
     "iopub.status.idle": "2021-02-18T06:23:53.384121Z",
     "shell.execute_reply": "2021-02-18T06:23:53.383571Z"
    }
   },
   "outputs": [],
   "source": [
    "from qcodes.dataset.data_set import load_by_id\n",
    "from qcodes.dataset.data_export import get_data_by_id"
   ]
  },
  {
   "cell_type": "markdown",
   "metadata": {},
   "source": [
    "As usual you can load the data by using the ``load_by_id`` function but you will notice that the different storage methods\n",
    "are reflected in shape of the data as it is retrieved. "
   ]
  },
  {
   "cell_type": "code",
   "execution_count": 10,
   "metadata": {
    "execution": {
     "iopub.execute_input": "2021-02-18T06:23:53.388869Z",
     "iopub.status.busy": "2021-02-18T06:23:53.387630Z",
     "iopub.status.idle": "2021-02-18T06:23:53.389518Z",
     "shell.execute_reply": "2021-02-18T06:23:53.389987Z"
    }
   },
   "outputs": [],
   "source": [
    "run_id_n = t_numeric_run_ids[0]\n",
    "run_id_a = t_array_run_ids[0]"
   ]
  },
  {
   "cell_type": "code",
   "execution_count": 11,
   "metadata": {
    "execution": {
     "iopub.execute_input": "2021-02-18T06:23:53.393505Z",
     "iopub.status.busy": "2021-02-18T06:23:53.392857Z",
     "iopub.status.idle": "2021-02-18T06:23:53.401918Z",
     "shell.execute_reply": "2021-02-18T06:23:53.402407Z"
    },
    "scrolled": true
   },
   "outputs": [
    {
     "data": {
      "text/plain": [
       "{'x1': {'x1': array([0.70947534, 0.70947534, 0.10805832, 0.10805832, 0.83907779,\n",
       "         0.83907779, 0.0461787 , 0.0461787 , 0.3163424 , 0.3163424 ,\n",
       "         0.39790845, 0.39790845, 0.98860781, 0.98860781, 0.1749439 ,\n",
       "         0.1749439 , 0.71347272, 0.71347272, 0.71740184, 0.71740184,\n",
       "         0.76504385, 0.76504385, 0.84980232, 0.84980232, 0.74297374,\n",
       "         0.74297374, 0.30356274, 0.30356274, 0.45340717, 0.45340717,\n",
       "         0.40296236, 0.40296236, 0.19836656, 0.19836656, 0.89225111,\n",
       "         0.89225111, 0.70603024, 0.70603024, 0.078469  , 0.078469  ,\n",
       "         0.94012732, 0.94012732, 0.91658312, 0.91658312, 0.75340036,\n",
       "         0.75340036, 0.17493255, 0.17493255, 0.36995954, 0.36995954,\n",
       "         0.55711916, 0.55711916, 0.79910547, 0.79910547, 0.36643644,\n",
       "         0.36643644, 0.06696512, 0.06696512, 0.25075889, 0.25075889,\n",
       "         0.9691312 , 0.9691312 , 0.29007464, 0.29007464, 0.59952775,\n",
       "         0.59952775, 0.15665797, 0.15665797, 0.09835624, 0.09835624,\n",
       "         0.59063299, 0.59063299, 0.4975132 , 0.4975132 , 0.94204498,\n",
       "         0.94204498, 0.79680714, 0.79680714, 0.48597993, 0.48597993,\n",
       "         0.30800696, 0.30800696, 0.21225178, 0.21225178, 0.37424084,\n",
       "         0.37424084, 0.3929847 , 0.3929847 , 0.32220508, 0.32220508,\n",
       "         0.89114709, 0.89114709, 0.04273882, 0.04273882, 0.82751509,\n",
       "         0.82751509, 0.04268041, 0.04268041, 0.19894827, 0.19894827,\n",
       "         0.13336266, 0.13336266, 0.08658821, 0.08658821, 0.99118809,\n",
       "         0.99118809, 0.38699753, 0.38699753, 0.01111772, 0.01111772,\n",
       "         0.34786977, 0.34786977, 0.80164539, 0.80164539, 0.57822677,\n",
       "         0.57822677, 0.0767559 , 0.0767559 , 0.92995819, 0.92995819,\n",
       "         0.20578462, 0.20578462, 0.29177496, 0.29177496, 0.16904716,\n",
       "         0.16904716, 0.25510509, 0.25510509, 0.56104056, 0.56104056,\n",
       "         0.20146702, 0.20146702, 0.70844683, 0.70844683, 0.06641409,\n",
       "         0.06641409, 0.25117117, 0.25117117, 0.49523162, 0.49523162,\n",
       "         0.42776723, 0.42776723, 0.51951421, 0.51951421, 0.66647438,\n",
       "         0.66647438, 0.14668546, 0.14668546, 0.9104979 , 0.9104979 ,\n",
       "         0.23723008, 0.23723008, 0.85677786, 0.85677786, 0.84814615,\n",
       "         0.84814615, 0.43417351, 0.43417351, 0.87961205, 0.87961205,\n",
       "         0.63764378, 0.63764378, 0.16255934, 0.16255934, 0.49633912,\n",
       "         0.49633912, 0.81886354, 0.81886354, 0.80212034, 0.80212034,\n",
       "         0.97611253, 0.97611253, 0.26760403, 0.26760403, 0.61051311,\n",
       "         0.61051311, 0.08462472, 0.08462472, 0.31338923, 0.31338923,\n",
       "         0.2680678 , 0.2680678 , 0.07112653, 0.07112653, 0.71678459,\n",
       "         0.71678459, 0.90817199, 0.90817199, 0.63013561, 0.63013561,\n",
       "         0.35491166, 0.35491166, 0.48131521, 0.48131521, 0.25498873,\n",
       "         0.25498873, 0.17480943, 0.17480943, 0.56254852, 0.56254852])}}"
      ]
     },
     "execution_count": 1,
     "metadata": {},
     "output_type": "execute_result"
    }
   ],
   "source": [
    "ds = load_by_id(run_id_n)\n",
    "ds.get_parameter_data('x1')"
   ]
  },
  {
   "cell_type": "markdown",
   "metadata": {},
   "source": [
    "And a dataset stored as binary arrays"
   ]
  },
  {
   "cell_type": "code",
   "execution_count": 12,
   "metadata": {
    "execution": {
     "iopub.execute_input": "2021-02-18T06:23:53.405853Z",
     "iopub.status.busy": "2021-02-18T06:23:53.405312Z",
     "iopub.status.idle": "2021-02-18T06:23:53.463323Z",
     "shell.execute_reply": "2021-02-18T06:23:53.463834Z"
    },
    "scrolled": true
   },
   "outputs": [
    {
     "data": {
      "text/plain": [
       "{'x1': {'x1': array([[5.14841610e-01],\n",
       "         [5.14841610e-01],\n",
       "         [4.08054821e-01],\n",
       "         [4.08054821e-01],\n",
       "         [4.29554214e-01],\n",
       "         [4.29554214e-01],\n",
       "         [8.74583511e-01],\n",
       "         [8.74583511e-01],\n",
       "         [3.40462915e-01],\n",
       "         [3.40462915e-01],\n",
       "         [7.51117661e-02],\n",
       "         [7.51117661e-02],\n",
       "         [7.25084330e-01],\n",
       "         [7.25084330e-01],\n",
       "         [5.36011025e-01],\n",
       "         [5.36011025e-01],\n",
       "         [9.44648666e-01],\n",
       "         [9.44648666e-01],\n",
       "         [7.60177743e-01],\n",
       "         [7.60177743e-01],\n",
       "         [2.54944503e-01],\n",
       "         [2.54944503e-01],\n",
       "         [2.85909739e-01],\n",
       "         [2.85909739e-01],\n",
       "         [2.85968356e-01],\n",
       "         [2.85968356e-01],\n",
       "         [5.73022616e-01],\n",
       "         [5.73022616e-01],\n",
       "         [6.00173409e-01],\n",
       "         [6.00173409e-01],\n",
       "         [3.33931373e-01],\n",
       "         [3.33931373e-01],\n",
       "         [8.49254050e-01],\n",
       "         [8.49254050e-01],\n",
       "         [6.47224128e-01],\n",
       "         [6.47224128e-01],\n",
       "         [1.17434353e-01],\n",
       "         [1.17434353e-01],\n",
       "         [8.77572683e-01],\n",
       "         [8.77572683e-01],\n",
       "         [5.71333855e-01],\n",
       "         [5.71333855e-01],\n",
       "         [3.47345800e-02],\n",
       "         [3.47345800e-02],\n",
       "         [5.16669941e-02],\n",
       "         [5.16669941e-02],\n",
       "         [2.43160134e-01],\n",
       "         [2.43160134e-01],\n",
       "         [7.59695948e-01],\n",
       "         [7.59695948e-01],\n",
       "         [2.81345365e-01],\n",
       "         [2.81345365e-01],\n",
       "         [3.65630180e-01],\n",
       "         [3.65630180e-01],\n",
       "         [5.30346218e-01],\n",
       "         [5.30346218e-01],\n",
       "         [7.28015639e-01],\n",
       "         [7.28015639e-01],\n",
       "         [2.47912932e-01],\n",
       "         [2.47912932e-01],\n",
       "         [6.78287512e-01],\n",
       "         [6.78287512e-01],\n",
       "         [3.25304035e-01],\n",
       "         [3.25304035e-01],\n",
       "         [9.07522905e-01],\n",
       "         [9.07522905e-01],\n",
       "         [5.56326062e-01],\n",
       "         [5.56326062e-01],\n",
       "         [2.35260187e-01],\n",
       "         [2.35260187e-01],\n",
       "         [4.02600451e-01],\n",
       "         [4.02600451e-01],\n",
       "         [2.94785596e-01],\n",
       "         [2.94785596e-01],\n",
       "         [5.91177474e-01],\n",
       "         [5.91177474e-01],\n",
       "         [8.16739239e-01],\n",
       "         [8.16739239e-01],\n",
       "         [6.70652156e-02],\n",
       "         [6.70652156e-02],\n",
       "         [6.15833626e-01],\n",
       "         [6.15833626e-01],\n",
       "         [5.88747327e-02],\n",
       "         [5.88747327e-02],\n",
       "         [5.28697951e-01],\n",
       "         [5.28697951e-01],\n",
       "         [1.84687526e-01],\n",
       "         [1.84687526e-01],\n",
       "         [2.41146452e-01],\n",
       "         [2.41146452e-01],\n",
       "         [5.34138327e-01],\n",
       "         [5.34138327e-01],\n",
       "         [1.91973894e-01],\n",
       "         [1.91973894e-01],\n",
       "         [9.57716877e-01],\n",
       "         [9.57716877e-01],\n",
       "         [7.16529266e-02],\n",
       "         [7.16529266e-02],\n",
       "         [6.88748118e-01],\n",
       "         [6.88748118e-01],\n",
       "         [5.25620478e-01],\n",
       "         [5.25620478e-01],\n",
       "         [5.09133626e-01],\n",
       "         [5.09133626e-01],\n",
       "         [5.96563947e-01],\n",
       "         [5.96563947e-01],\n",
       "         [5.46264907e-01],\n",
       "         [5.46264907e-01],\n",
       "         [3.74852490e-01],\n",
       "         [3.74852490e-01],\n",
       "         [8.63753557e-01],\n",
       "         [8.63753557e-01],\n",
       "         [7.40863524e-01],\n",
       "         [7.40863524e-01],\n",
       "         [1.98628850e-01],\n",
       "         [1.98628850e-01],\n",
       "         [7.62839185e-01],\n",
       "         [7.62839185e-01],\n",
       "         [6.80920235e-01],\n",
       "         [6.80920235e-01],\n",
       "         [7.57197432e-01],\n",
       "         [7.57197432e-01],\n",
       "         [1.32755728e-01],\n",
       "         [1.32755728e-01],\n",
       "         [5.43913033e-01],\n",
       "         [5.43913033e-01],\n",
       "         [8.82823485e-01],\n",
       "         [8.82823485e-01],\n",
       "         [3.19001599e-01],\n",
       "         [3.19001599e-01],\n",
       "         [9.41259113e-01],\n",
       "         [9.41259113e-01],\n",
       "         [4.00149857e-01],\n",
       "         [4.00149857e-01],\n",
       "         [6.15754486e-01],\n",
       "         [6.15754486e-01],\n",
       "         [5.84448855e-01],\n",
       "         [5.84448855e-01],\n",
       "         [6.79365501e-01],\n",
       "         [6.79365501e-01],\n",
       "         [4.44230907e-01],\n",
       "         [4.44230907e-01],\n",
       "         [9.32249207e-01],\n",
       "         [9.32249207e-01],\n",
       "         [4.50913547e-01],\n",
       "         [4.50913547e-01],\n",
       "         [5.83168864e-01],\n",
       "         [5.83168864e-01],\n",
       "         [4.07433121e-01],\n",
       "         [4.07433121e-01],\n",
       "         [4.95707767e-01],\n",
       "         [4.95707767e-01],\n",
       "         [3.77888401e-02],\n",
       "         [3.77888401e-02],\n",
       "         [4.68681363e-01],\n",
       "         [4.68681363e-01],\n",
       "         [2.24393535e-01],\n",
       "         [2.24393535e-01],\n",
       "         [4.88667261e-01],\n",
       "         [4.88667261e-01],\n",
       "         [2.96139712e-01],\n",
       "         [2.96139712e-01],\n",
       "         [5.66163202e-01],\n",
       "         [5.66163202e-01],\n",
       "         [5.27536270e-02],\n",
       "         [5.27536270e-02],\n",
       "         [2.21887126e-01],\n",
       "         [2.21887126e-01],\n",
       "         [3.37839396e-01],\n",
       "         [3.37839396e-01],\n",
       "         [5.32763511e-01],\n",
       "         [5.32763511e-01],\n",
       "         [7.93027820e-02],\n",
       "         [7.93027820e-02],\n",
       "         [7.43653370e-01],\n",
       "         [7.43653370e-01],\n",
       "         [2.38816110e-01],\n",
       "         [2.38816110e-01],\n",
       "         [3.04841164e-01],\n",
       "         [3.04841164e-01],\n",
       "         [9.72594102e-01],\n",
       "         [9.72594102e-01],\n",
       "         [6.03920745e-01],\n",
       "         [6.03920745e-01],\n",
       "         [7.09229737e-01],\n",
       "         [7.09229737e-01],\n",
       "         [7.10671669e-01],\n",
       "         [7.10671669e-01],\n",
       "         [2.30790710e-01],\n",
       "         [2.30790710e-01],\n",
       "         [8.88772343e-01],\n",
       "         [8.88772343e-01],\n",
       "         [2.82960026e-04],\n",
       "         [2.82960026e-04],\n",
       "         [3.94649593e-01],\n",
       "         [3.94649593e-01],\n",
       "         [3.34661664e-01],\n",
       "         [3.34661664e-01],\n",
       "         [7.81254495e-01],\n",
       "         [7.81254495e-01]])}}"
      ]
     },
     "execution_count": 1,
     "metadata": {},
     "output_type": "execute_result"
    }
   ],
   "source": [
    "ds = load_by_id(run_id_a)\n",
    "ds.get_parameter_data('x1')"
   ]
  },
  {
   "cell_type": "code",
   "execution_count": null,
   "metadata": {},
   "outputs": [],
   "source": []
  }
 ],
 "metadata": {
  "kernelspec": {
   "display_name": "Python 3",
   "language": "python",
   "name": "python3"
  },
  "language_info": {
   "codemirror_mode": {
    "name": "ipython",
    "version": 3
   },
   "file_extension": ".py",
   "mimetype": "text/x-python",
   "name": "python",
   "nbconvert_exporter": "python",
   "pygments_lexer": "ipython3",
   "version": "3.7.9"
  },
  "nbsphinx": {
   "timeout": 600
  },
  "toc": {
   "base_numbering": 1,
   "nav_menu": {},
   "number_sections": true,
   "sideBar": true,
   "skip_h1_title": false,
   "title_cell": "Table of Contents",
   "title_sidebar": "Contents",
   "toc_cell": false,
   "toc_position": {},
   "toc_section_display": true,
   "toc_window_display": false
  },
  "varInspector": {
   "cols": {
    "lenName": 16,
    "lenType": 16,
    "lenVar": 40
   },
   "kernels_config": {
    "python": {
     "delete_cmd_postfix": "",
     "delete_cmd_prefix": "del ",
     "library": "var_list.py",
     "varRefreshCmd": "print(var_dic_list())"
    },
    "r": {
     "delete_cmd_postfix": ") ",
     "delete_cmd_prefix": "rm(",
     "library": "var_list.r",
     "varRefreshCmd": "cat(var_dic_list()) "
    }
   },
   "types_to_exclude": [
    "module",
    "function",
    "builtin_function_or_method",
    "instance",
    "_Feature"
   ],
   "window_display": false
  }
 },
 "nbformat": 4,
 "nbformat_minor": 2
}
