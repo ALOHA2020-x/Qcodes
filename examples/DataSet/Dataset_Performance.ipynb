{
 "cells": [
  {
   "cell_type": "markdown",
   "metadata": {},
   "source": [
    "# DataSet Performance\n",
    "\n",
    "This notebook shows the trade-off between inserting data into a database row-by-row and as binary blobs. Inserting the data row-by-row means that we have direct access to all the data and may perform queries directly on the values of the data. On the other hand, as we shall see, this is much slower than inserting the data directly as binary blobs."
   ]
  },
  {
   "cell_type": "markdown",
   "metadata": {},
   "source": [
    "First, we choose a new location for the database to ensure that we don't add a bunch of benchmarking data to the default one."
   ]
  },
  {
   "cell_type": "code",
   "execution_count": 1,
   "metadata": {
    "execution": {
     "iopub.execute_input": "2020-11-30T07:54:59.154578Z",
     "iopub.status.busy": "2020-11-30T07:54:59.154193Z",
     "iopub.status.idle": "2020-11-30T07:54:59.961297Z",
     "shell.execute_reply": "2020-11-30T07:54:59.961766Z"
    }
   },
   "outputs": [
    {
     "name": "stdout",
     "output_type": "stream",
     "text": [
      "Logging hadn't been started.\n",
      "Activating auto-logging. Current session state plus future input saved.\n",
      "Filename       : /home/vsts/.qcodes/logs/command_history.log\n",
      "Mode           : append\n",
      "Output logging : True\n",
      "Raw input log  : False\n",
      "Timestamping   : True\n",
      "State          : active\n"
     ]
    },
    {
     "name": "stdout",
     "output_type": "stream",
     "text": [
      "Qcodes Logfile : /home/vsts/.qcodes/logs/201130-14158-qcodes.log\n"
     ]
    }
   ],
   "source": [
    "import os\n",
    "cwd = os.getcwd()\n",
    "import qcodes as qc\n",
    "qc.config[\"core\"][\"db_location\"] = os.path.join(cwd, 'testing.db')\n"
   ]
  },
  {
   "cell_type": "code",
   "execution_count": 2,
   "metadata": {
    "execution": {
     "iopub.execute_input": "2020-11-30T07:54:59.967546Z",
     "iopub.status.busy": "2020-11-30T07:54:59.966665Z",
     "iopub.status.idle": "2020-11-30T07:55:00.114151Z",
     "shell.execute_reply": "2020-11-30T07:55:00.112958Z"
    }
   },
   "outputs": [],
   "source": [
    "%matplotlib inline\n",
    "import time\n",
    "import matplotlib.pyplot as plt\n",
    "import numpy as np\n",
    "\n",
    "import qcodes as qc\n",
    "from qcodes.instrument.parameter import ManualParameter\n",
    "from qcodes.dataset.experiment_container import (Experiment,\n",
    "                                                 load_last_experiment,\n",
    "                                                 new_experiment)\n",
    "from qcodes.dataset.sqlite.database import initialise_database\n",
    "from qcodes import load_or_create_experiment\n",
    "from qcodes.dataset.measurements import Measurement"
   ]
  },
  {
   "cell_type": "code",
   "execution_count": 3,
   "metadata": {
    "execution": {
     "iopub.execute_input": "2020-11-30T07:55:00.118624Z",
     "iopub.status.busy": "2020-11-30T07:55:00.117464Z",
     "iopub.status.idle": "2020-11-30T07:55:00.212379Z",
     "shell.execute_reply": "2020-11-30T07:55:00.211807Z"
    }
   },
   "outputs": [
    {
     "name": "stdout",
     "output_type": "stream",
     "text": [
      "\r",
      "0it [00:00, ?it/s]"
     ]
    },
    {
     "name": "stdout",
     "output_type": "stream",
     "text": [
      "\r",
      "Upgrading database; v0 -> v1: : 0it [00:00, ?it/s]"
     ]
    },
    {
     "name": "stdout",
     "output_type": "stream",
     "text": [
      "\r",
      "Upgrading database; v0 -> v1: : 0it [00:00, ?it/s]"
     ]
    },
    {
     "name": "stdout",
     "output_type": "stream",
     "text": [
      "\n",
      "\r",
      "  0%|          | 0/1 [00:00<?, ?it/s]"
     ]
    },
    {
     "name": "stdout",
     "output_type": "stream",
     "text": [
      "\r",
      "Upgrading database; v1 -> v2:   0%|          | 0/1 [00:00<?, ?it/s]"
     ]
    },
    {
     "name": "stdout",
     "output_type": "stream",
     "text": [
      "\r",
      "Upgrading database; v1 -> v2: 100%|██████████| 1/1 [00:00<00:00, 1022.25it/s]"
     ]
    },
    {
     "name": "stdout",
     "output_type": "stream",
     "text": [
      "\n",
      "\r",
      "0it [00:00, ?it/s]"
     ]
    },
    {
     "name": "stdout",
     "output_type": "stream",
     "text": [
      "\r",
      "Upgrading database; v2 -> v3: : 0it [00:00, ?it/s]"
     ]
    },
    {
     "name": "stdout",
     "output_type": "stream",
     "text": [
      "\r",
      "Upgrading database; v2 -> v3: : 0it [00:00, ?it/s]"
     ]
    },
    {
     "name": "stdout",
     "output_type": "stream",
     "text": [
      "\n",
      "\r",
      "0it [00:00, ?it/s]"
     ]
    },
    {
     "name": "stdout",
     "output_type": "stream",
     "text": [
      "\r",
      "Upgrading database; v3 -> v4: : 0it [00:00, ?it/s]"
     ]
    },
    {
     "name": "stdout",
     "output_type": "stream",
     "text": [
      "\r",
      "Upgrading database; v3 -> v4: : 0it [00:00, ?it/s]"
     ]
    },
    {
     "name": "stdout",
     "output_type": "stream",
     "text": [
      "\n",
      "\r",
      "  0%|          | 0/1 [00:00<?, ?it/s]"
     ]
    },
    {
     "name": "stdout",
     "output_type": "stream",
     "text": [
      "\r",
      "Upgrading database; v4 -> v5:   0%|          | 0/1 [00:00<?, ?it/s]"
     ]
    },
    {
     "name": "stdout",
     "output_type": "stream",
     "text": [
      "\r",
      "Upgrading database; v4 -> v5: 100%|██████████| 1/1 [00:00<00:00, 746.18it/s]"
     ]
    },
    {
     "name": "stdout",
     "output_type": "stream",
     "text": [
      "\n",
      "\r",
      "0it [00:00, ?it/s]"
     ]
    },
    {
     "name": "stdout",
     "output_type": "stream",
     "text": [
      "\r",
      "Upgrading database; v5 -> v6: : 0it [00:00, ?it/s]"
     ]
    },
    {
     "name": "stdout",
     "output_type": "stream",
     "text": [
      "\r",
      "Upgrading database; v5 -> v6: : 0it [00:00, ?it/s]"
     ]
    },
    {
     "name": "stdout",
     "output_type": "stream",
     "text": [
      "\n",
      "\r",
      "  0%|          | 0/1 [00:00<?, ?it/s]"
     ]
    },
    {
     "name": "stdout",
     "output_type": "stream",
     "text": [
      "\r",
      "Upgrading database; v6 -> v7:   0%|          | 0/1 [00:00<?, ?it/s]"
     ]
    },
    {
     "name": "stdout",
     "output_type": "stream",
     "text": [
      "\r",
      "Upgrading database; v6 -> v7: 100%|██████████| 1/1 [00:00<00:00, 382.62it/s]"
     ]
    },
    {
     "name": "stdout",
     "output_type": "stream",
     "text": [
      "\n",
      "\r",
      "  0%|          | 0/1 [00:00<?, ?it/s]"
     ]
    },
    {
     "name": "stdout",
     "output_type": "stream",
     "text": [
      "\r",
      "Upgrading database; v7 -> v8:   0%|          | 0/1 [00:00<?, ?it/s]"
     ]
    },
    {
     "name": "stdout",
     "output_type": "stream",
     "text": [
      "\r",
      "Upgrading database; v7 -> v8: 100%|██████████| 1/1 [00:00<00:00, 1199.74it/s]"
     ]
    },
    {
     "name": "stdout",
     "output_type": "stream",
     "text": [
      "\n",
      "\r",
      "  0%|          | 0/1 [00:00<?, ?it/s]"
     ]
    },
    {
     "name": "stdout",
     "output_type": "stream",
     "text": [
      "\r",
      "Upgrading database; v8 -> v9:   0%|          | 0/1 [00:00<?, ?it/s]"
     ]
    },
    {
     "name": "stdout",
     "output_type": "stream",
     "text": [
      "\r",
      "Upgrading database; v8 -> v9: 100%|██████████| 1/1 [00:00<00:00, 1518.03it/s]"
     ]
    },
    {
     "name": "stdout",
     "output_type": "stream",
     "text": [
      "\n"
     ]
    }
   ],
   "source": [
    "initialise_database()\n",
    "exp = load_or_create_experiment(experiment_name='tutorial_exp', sample_name=\"no sample\")"
   ]
  },
  {
   "cell_type": "markdown",
   "metadata": {},
   "source": [
    "Here, we define a simple function to benchmark the time it takes to insert n points with either numeric or array data type.\n",
    "We will compare both the time used to call ``add_result`` and the time used for the full measurement."
   ]
  },
  {
   "cell_type": "code",
   "execution_count": 4,
   "metadata": {
    "execution": {
     "iopub.execute_input": "2020-11-30T07:55:00.218338Z",
     "iopub.status.busy": "2020-11-30T07:55:00.217380Z",
     "iopub.status.idle": "2020-11-30T07:55:00.221284Z",
     "shell.execute_reply": "2020-11-30T07:55:00.220955Z"
    }
   },
   "outputs": [],
   "source": [
    "def insert_data(paramtype, npoints, nreps=1):\n",
    "\n",
    "    meas = Measurement(exp=exp)\n",
    "\n",
    "    x1 = ManualParameter('x1')\n",
    "    x2 = ManualParameter('x2')\n",
    "    x3 = ManualParameter('x3')\n",
    "    y1 = ManualParameter('y1')\n",
    "    y2 = ManualParameter('y2')\n",
    "\n",
    "    meas.register_parameter(x1, paramtype=paramtype)\n",
    "    meas.register_parameter(x2, paramtype=paramtype)\n",
    "    meas.register_parameter(x3, paramtype=paramtype)\n",
    "    meas.register_parameter(y1, setpoints=[x1, x2, x3],\n",
    "                            paramtype=paramtype)\n",
    "    meas.register_parameter(y2, setpoints=[x1, x2, x3],\n",
    "                            paramtype=paramtype)\n",
    "    start = time.perf_counter()\n",
    "    with meas.run() as datasaver:\n",
    "        start_adding = time.perf_counter()\n",
    "        for i in range(nreps):\n",
    "            datasaver.add_result((x1, np.random.rand(npoints)),\n",
    "                                 (x2, np.random.rand(npoints)),\n",
    "                                 (x3, np.random.rand(npoints)),\n",
    "                                 (y1, np.random.rand(npoints)),\n",
    "                                 (y2, np.random.rand(npoints)))\n",
    "        stop_adding = time.perf_counter()\n",
    "        run_id = datasaver.run_id\n",
    "    stop = time.perf_counter()\n",
    "    tot_time = stop - start\n",
    "    add_time = stop_adding - start_adding\n",
    "    return tot_time, add_time, run_id"
   ]
  },
  {
   "cell_type": "markdown",
   "metadata": {},
   "source": [
    "## Comparison between numeric/array data and binary blob"
   ]
  },
  {
   "cell_type": "markdown",
   "metadata": {},
   "source": [
    "### Case1: Short experiment time"
   ]
  },
  {
   "cell_type": "code",
   "execution_count": 5,
   "metadata": {
    "execution": {
     "iopub.execute_input": "2020-11-30T07:55:00.226440Z",
     "iopub.status.busy": "2020-11-30T07:55:00.225512Z",
     "iopub.status.idle": "2020-11-30T07:55:00.901331Z",
     "shell.execute_reply": "2020-11-30T07:55:00.900736Z"
    }
   },
   "outputs": [
    {
     "name": "stdout",
     "output_type": "stream",
     "text": [
      "Starting experimental run with id: 1. \n",
      "Starting experimental run with id: 2. \n",
      "Starting experimental run with id: 3. \n",
      "Starting experimental run with id: 4. \n",
      "Starting experimental run with id: 5. \n",
      "Starting experimental run with id: 6. \n"
     ]
    },
    {
     "name": "stdout",
     "output_type": "stream",
     "text": [
      "Starting experimental run with id: 7. \n"
     ]
    },
    {
     "name": "stdout",
     "output_type": "stream",
     "text": [
      "Starting experimental run with id: 8. \n"
     ]
    },
    {
     "name": "stdout",
     "output_type": "stream",
     "text": [
      "Starting experimental run with id: 9. \n",
      "Starting experimental run with id: 10. \n",
      "Starting experimental run with id: 11. \n"
     ]
    },
    {
     "name": "stdout",
     "output_type": "stream",
     "text": [
      "Starting experimental run with id: 12. \n",
      "Starting experimental run with id: 13. \n"
     ]
    },
    {
     "name": "stdout",
     "output_type": "stream",
     "text": [
      "Starting experimental run with id: 14. \n"
     ]
    }
   ],
   "source": [
    "sizes = [1,500,1000,2000,3000,4000,5000]\n",
    "t_numeric = []\n",
    "t_numeric_add = []\n",
    "t_array = []\n",
    "t_array_add = []\n",
    "for size in sizes:\n",
    "    tn, tna, run_id_n =  insert_data('numeric', size)\n",
    "    t_numeric.append(tn)\n",
    "    t_numeric_add.append(tna)\n",
    "\n",
    "    ta, taa, run_id_a =  insert_data('array', size)\n",
    "    t_array.append(ta)\n",
    "    t_array_add.append(taa)"
   ]
  },
  {
   "cell_type": "code",
   "execution_count": 6,
   "metadata": {
    "execution": {
     "iopub.execute_input": "2020-11-30T07:55:00.918111Z",
     "iopub.status.busy": "2020-11-30T07:55:00.917675Z",
     "iopub.status.idle": "2020-11-30T07:55:01.074614Z",
     "shell.execute_reply": "2020-11-30T07:55:01.075038Z"
    }
   },
   "outputs": [
    {
     "data": {
      "image/png": "[encoded data removed]",
      "text/plain": [
       "<Figure size 432x288 with 1 Axes>"
      ]
     },
     "metadata": {
      "needs_background": "light"
     },
     "output_type": "display_data"
    }
   ],
   "source": [
    "fig, ax = plt.subplots(1,1)\n",
    "ax.plot(sizes, t_numeric, 'o-', label='Inserting row-by-row')\n",
    "ax.plot(sizes, t_numeric_add, 'o-', label='Inserting row-by-row: add_result only')\n",
    "ax.plot(sizes, t_array, 'd-', label='Inserting as binary blob')\n",
    "ax.plot(sizes, t_array_add, 'd-', label='Inserting as binary blob: add_result only')\n",
    "ax.legend()\n",
    "ax.set_xlabel('Array length')\n",
    "ax.set_ylabel('Time (s)')\n",
    "fig.tight_layout()"
   ]
  },
  {
   "cell_type": "markdown",
   "metadata": {},
   "source": [
    "As shown in the latter figure, the time to setup and and close the experiment is approximately 0.4 sec. In case of small array sizes, the difference between inserting values of data as arrays and inserting them row-by-row is relatively unimportant. At larger array sizes, i.e. above 10000 points, the cost of writing data as individual datapoints starts to become important.\n"
   ]
  },
  {
   "cell_type": "markdown",
   "metadata": {},
   "source": [
    "### Case2: Long experiment time "
   ]
  },
  {
   "cell_type": "code",
   "execution_count": 7,
   "metadata": {
    "execution": {
     "iopub.execute_input": "2020-11-30T07:55:01.076974Z",
     "iopub.status.busy": "2020-11-30T07:55:01.076600Z",
     "iopub.status.idle": "2020-11-30T07:55:48.407081Z",
     "shell.execute_reply": "2020-11-30T07:55:48.406518Z"
    }
   },
   "outputs": [
    {
     "name": "stdout",
     "output_type": "stream",
     "text": [
      "Starting experimental run with id: 15. \n",
      "Starting experimental run with id: 16. \n",
      "Starting experimental run with id: 17. \n"
     ]
    },
    {
     "name": "stdout",
     "output_type": "stream",
     "text": [
      "Starting experimental run with id: 18. \n",
      "Starting experimental run with id: 19. \n"
     ]
    },
    {
     "name": "stdout",
     "output_type": "stream",
     "text": [
      "Starting experimental run with id: 20. \n"
     ]
    },
    {
     "name": "stdout",
     "output_type": "stream",
     "text": [
      "Starting experimental run with id: 21. \n"
     ]
    },
    {
     "name": "stdout",
     "output_type": "stream",
     "text": [
      "Starting experimental run with id: 22. \n"
     ]
    },
    {
     "name": "stdout",
     "output_type": "stream",
     "text": [
      "Starting experimental run with id: 23. \n"
     ]
    },
    {
     "name": "stdout",
     "output_type": "stream",
     "text": [
      "Starting experimental run with id: 24. \n"
     ]
    },
    {
     "name": "stdout",
     "output_type": "stream",
     "text": [
      "Starting experimental run with id: 25. \n"
     ]
    },
    {
     "name": "stdout",
     "output_type": "stream",
     "text": [
      "Starting experimental run with id: 26. \n"
     ]
    },
    {
     "name": "stdout",
     "output_type": "stream",
     "text": [
      "Starting experimental run with id: 27. \n"
     ]
    },
    {
     "name": "stdout",
     "output_type": "stream",
     "text": [
      "Starting experimental run with id: 28. \n"
     ]
    }
   ],
   "source": [
    "sizes = [1,500,1000,2000,3000,4000,5000]\n",
    "nreps = 100\n",
    "t_numeric = []\n",
    "t_numeric_add = []\n",
    "t_numeric_run_ids = []\n",
    "t_array = []\n",
    "t_array_add = []\n",
    "t_array_run_ids = []\n",
    "for size in sizes:\n",
    "    tn, tna, run_id_n =  insert_data('numeric', size, nreps=nreps)\n",
    "    t_numeric.append(tn)\n",
    "    t_numeric_add.append(tna)\n",
    "    t_numeric_run_ids.append(run_id_n)\n",
    "\n",
    "    ta, taa, run_id_a =  insert_data('array', size, nreps=nreps)\n",
    "    t_array.append(ta)\n",
    "    t_array_add.append(taa)\n",
    "    t_array_run_ids.append(run_id_a)"
   ]
  },
  {
   "cell_type": "code",
   "execution_count": 8,
   "metadata": {
    "execution": {
     "iopub.execute_input": "2020-11-30T07:55:48.430867Z",
     "iopub.status.busy": "2020-11-30T07:55:48.411496Z",
     "iopub.status.idle": "2020-11-30T07:55:48.561094Z",
     "shell.execute_reply": "2020-11-30T07:55:48.561618Z"
    },
    "scrolled": true
   },
   "outputs": [
    {
     "data": {
      "image/png": "[encoded data removed]",
      "text/plain": [
       "<Figure size 432x288 with 1 Axes>"
      ]
     },
     "metadata": {
      "needs_background": "light"
     },
     "output_type": "display_data"
    }
   ],
   "source": [
    "fig, ax = plt.subplots(1,1)\n",
    "ax.plot(sizes, t_numeric, 'o-', label='Inserting row-by-row')\n",
    "ax.plot(sizes, t_numeric_add, 'o-', label='Inserting row-by-row: add_result only')\n",
    "ax.plot(sizes, t_array, 'd-', label='Inserting as binary blob')\n",
    "ax.plot(sizes, t_array_add, 'd-', label='Inserting as binary blob: add_result only')\n",
    "ax.legend()\n",
    "ax.set_xlabel('Array length')\n",
    "ax.set_ylabel('Time (s)')\n",
    "fig.tight_layout()"
   ]
  },
  {
   "cell_type": "markdown",
   "metadata": {},
   "source": [
    "However, as we increase the length of the experiment, as seen here by repeating the insertion 100 times, we see a big difference between inserting values of the data row-by-row and inserting it as a binary blob."
   ]
  },
  {
   "cell_type": "markdown",
   "metadata": {},
   "source": [
    "## Loading the data "
   ]
  },
  {
   "cell_type": "code",
   "execution_count": 9,
   "metadata": {
    "execution": {
     "iopub.execute_input": "2020-11-30T07:55:48.565932Z",
     "iopub.status.busy": "2020-11-30T07:55:48.564695Z",
     "iopub.status.idle": "2020-11-30T07:55:48.567865Z",
     "shell.execute_reply": "2020-11-30T07:55:48.568435Z"
    }
   },
   "outputs": [],
   "source": [
    "from qcodes.dataset.data_set import load_by_id\n",
    "from qcodes.dataset.data_export import get_data_by_id"
   ]
  },
  {
   "cell_type": "markdown",
   "metadata": {},
   "source": [
    "As usual you can load the data by using the ``load_by_id`` function but you will notice that the different storage methods\n",
    "are reflected in shape of the data as it is retrieved. "
   ]
  },
  {
   "cell_type": "code",
   "execution_count": 10,
   "metadata": {
    "execution": {
     "iopub.execute_input": "2020-11-30T07:55:48.571220Z",
     "iopub.status.busy": "2020-11-30T07:55:48.570331Z",
     "iopub.status.idle": "2020-11-30T07:55:48.573622Z",
     "shell.execute_reply": "2020-11-30T07:55:48.574159Z"
    }
   },
   "outputs": [],
   "source": [
    "run_id_n = t_numeric_run_ids[0]\n",
    "run_id_a = t_array_run_ids[0]"
   ]
  },
  {
   "cell_type": "code",
   "execution_count": 11,
   "metadata": {
    "execution": {
     "iopub.execute_input": "2020-11-30T07:55:48.577103Z",
     "iopub.status.busy": "2020-11-30T07:55:48.576151Z",
     "iopub.status.idle": "2020-11-30T07:55:48.585511Z",
     "shell.execute_reply": "2020-11-30T07:55:48.586218Z"
    },
    "scrolled": true
   },
   "outputs": [
    {
     "data": {
      "text/plain": [
       "{'x1': {'x1': array([0.3312047 , 0.3312047 , 0.01409826, 0.01409826, 0.04725752,\n",
       "         0.04725752, 0.13609627, 0.13609627, 0.069031  , 0.069031  ,\n",
       "         0.239799  , 0.239799  , 0.47963603, 0.47963603, 0.78928565,\n",
       "         0.78928565, 0.29955268, 0.29955268, 0.54353849, 0.54353849,\n",
       "         0.89961706, 0.89961706, 0.90865757, 0.90865757, 0.82319873,\n",
       "         0.82319873, 0.32889801, 0.32889801, 0.81261366, 0.81261366,\n",
       "         0.59312326, 0.59312326, 0.09579058, 0.09579058, 0.351915  ,\n",
       "         0.351915  , 0.50449294, 0.50449294, 0.73797514, 0.73797514,\n",
       "         0.75065031, 0.75065031, 0.15604469, 0.15604469, 0.93413328,\n",
       "         0.93413328, 0.79373163, 0.79373163, 0.69023693, 0.69023693,\n",
       "         0.68502617, 0.68502617, 0.2550515 , 0.2550515 , 0.64134216,\n",
       "         0.64134216, 0.4094379 , 0.4094379 , 0.97631781, 0.97631781,\n",
       "         0.74433734, 0.74433734, 0.64778873, 0.64778873, 0.68351288,\n",
       "         0.68351288, 0.1078351 , 0.1078351 , 0.99160758, 0.99160758,\n",
       "         0.60385643, 0.60385643, 0.66775575, 0.66775575, 0.34603765,\n",
       "         0.34603765, 0.76924809, 0.76924809, 0.21601277, 0.21601277,\n",
       "         0.81507207, 0.81507207, 0.67554176, 0.67554176, 0.1993907 ,\n",
       "         0.1993907 , 0.3736823 , 0.3736823 , 0.3951394 , 0.3951394 ,\n",
       "         0.31552724, 0.31552724, 0.45134288, 0.45134288, 0.15201668,\n",
       "         0.15201668, 0.4926393 , 0.4926393 , 0.88912001, 0.88912001,\n",
       "         0.07368395, 0.07368395, 0.91393368, 0.91393368, 0.82012965,\n",
       "         0.82012965, 0.59290404, 0.59290404, 0.89621408, 0.89621408,\n",
       "         0.26359484, 0.26359484, 0.3265005 , 0.3265005 , 0.94397246,\n",
       "         0.94397246, 0.75819876, 0.75819876, 0.07410205, 0.07410205,\n",
       "         0.16737024, 0.16737024, 0.65652486, 0.65652486, 0.56497923,\n",
       "         0.56497923, 0.36623903, 0.36623903, 0.31147076, 0.31147076,\n",
       "         0.55115918, 0.55115918, 0.96072644, 0.96072644, 0.35809168,\n",
       "         0.35809168, 0.52813316, 0.52813316, 0.7345792 , 0.7345792 ,\n",
       "         0.93737951, 0.93737951, 0.24860836, 0.24860836, 0.3699164 ,\n",
       "         0.3699164 , 0.27931294, 0.27931294, 0.40651195, 0.40651195,\n",
       "         0.60829498, 0.60829498, 0.42381331, 0.42381331, 0.38118735,\n",
       "         0.38118735, 0.69324465, 0.69324465, 0.50999221, 0.50999221,\n",
       "         0.19792481, 0.19792481, 0.21670076, 0.21670076, 0.75064491,\n",
       "         0.75064491, 0.19086303, 0.19086303, 0.86663777, 0.86663777,\n",
       "         0.87265356, 0.87265356, 0.2677443 , 0.2677443 , 0.80219811,\n",
       "         0.80219811, 0.66810388, 0.66810388, 0.68587199, 0.68587199,\n",
       "         0.30985083, 0.30985083, 0.6697542 , 0.6697542 , 0.41854192,\n",
       "         0.41854192, 0.73683206, 0.73683206, 0.57643961, 0.57643961,\n",
       "         0.34775571, 0.34775571, 0.64435278, 0.64435278, 0.94752475,\n",
       "         0.94752475, 0.17246145, 0.17246145, 0.02954926, 0.02954926])}}"
      ]
     },
     "execution_count": 1,
     "metadata": {},
     "output_type": "execute_result"
    }
   ],
   "source": [
    "ds = load_by_id(run_id_n)\n",
    "ds.get_parameter_data('x1')"
   ]
  },
  {
   "cell_type": "markdown",
   "metadata": {},
   "source": [
    "And a dataset stored as binary arrays"
   ]
  },
  {
   "cell_type": "code",
   "execution_count": 12,
   "metadata": {
    "execution": {
     "iopub.execute_input": "2020-11-30T07:55:48.588753Z",
     "iopub.status.busy": "2020-11-30T07:55:48.587904Z",
     "iopub.status.idle": "2020-11-30T07:55:48.633691Z",
     "shell.execute_reply": "2020-11-30T07:55:48.632729Z"
    },
    "scrolled": true
   },
   "outputs": [
    {
     "data": {
      "text/plain": [
       "{'x1': {'x1': array([[6.25399744e-01],\n",
       "         [6.25399744e-01],\n",
       "         [7.16824653e-01],\n",
       "         [7.16824653e-01],\n",
       "         [9.76901166e-01],\n",
       "         [9.76901166e-01],\n",
       "         [8.75592435e-01],\n",
       "         [8.75592435e-01],\n",
       "         [7.87898994e-01],\n",
       "         [7.87898994e-01],\n",
       "         [1.82151811e-01],\n",
       "         [1.82151811e-01],\n",
       "         [5.19241324e-01],\n",
       "         [5.19241324e-01],\n",
       "         [2.94544734e-01],\n",
       "         [2.94544734e-01],\n",
       "         [8.74966020e-01],\n",
       "         [8.74966020e-01],\n",
       "         [8.49408941e-01],\n",
       "         [8.49408941e-01],\n",
       "         [7.35397003e-01],\n",
       "         [7.35397003e-01],\n",
       "         [9.60098701e-02],\n",
       "         [9.60098701e-02],\n",
       "         [1.54521632e-01],\n",
       "         [1.54521632e-01],\n",
       "         [6.54089287e-02],\n",
       "         [6.54089287e-02],\n",
       "         [1.95950680e-01],\n",
       "         [1.95950680e-01],\n",
       "         [8.60586116e-01],\n",
       "         [8.60586116e-01],\n",
       "         [4.32498849e-01],\n",
       "         [4.32498849e-01],\n",
       "         [6.14874496e-01],\n",
       "         [6.14874496e-01],\n",
       "         [9.32314380e-02],\n",
       "         [9.32314380e-02],\n",
       "         [9.63779793e-01],\n",
       "         [9.63779793e-01],\n",
       "         [5.51430509e-01],\n",
       "         [5.51430509e-01],\n",
       "         [6.50146611e-01],\n",
       "         [6.50146611e-01],\n",
       "         [2.36285430e-01],\n",
       "         [2.36285430e-01],\n",
       "         [9.14232486e-01],\n",
       "         [9.14232486e-01],\n",
       "         [9.23140794e-01],\n",
       "         [9.23140794e-01],\n",
       "         [9.39257501e-01],\n",
       "         [9.39257501e-01],\n",
       "         [7.46429943e-02],\n",
       "         [7.46429943e-02],\n",
       "         [9.16461316e-02],\n",
       "         [9.16461316e-02],\n",
       "         [4.05942345e-01],\n",
       "         [4.05942345e-01],\n",
       "         [7.79126914e-01],\n",
       "         [7.79126914e-01],\n",
       "         [5.25515432e-01],\n",
       "         [5.25515432e-01],\n",
       "         [9.05199028e-01],\n",
       "         [9.05199028e-01],\n",
       "         [5.03792732e-01],\n",
       "         [5.03792732e-01],\n",
       "         [8.65200999e-01],\n",
       "         [8.65200999e-01],\n",
       "         [6.04318282e-01],\n",
       "         [6.04318282e-01],\n",
       "         [3.57185065e-01],\n",
       "         [3.57185065e-01],\n",
       "         [2.60980566e-01],\n",
       "         [2.60980566e-01],\n",
       "         [5.83213976e-01],\n",
       "         [5.83213976e-01],\n",
       "         [6.30981515e-01],\n",
       "         [6.30981515e-01],\n",
       "         [3.11856730e-02],\n",
       "         [3.11856730e-02],\n",
       "         [9.03814157e-01],\n",
       "         [9.03814157e-01],\n",
       "         [7.28313213e-01],\n",
       "         [7.28313213e-01],\n",
       "         [6.67860684e-02],\n",
       "         [6.67860684e-02],\n",
       "         [7.43286118e-01],\n",
       "         [7.43286118e-01],\n",
       "         [5.48527959e-01],\n",
       "         [5.48527959e-01],\n",
       "         [1.45314964e-04],\n",
       "         [1.45314964e-04],\n",
       "         [8.28491246e-01],\n",
       "         [8.28491246e-01],\n",
       "         [1.07368478e-01],\n",
       "         [1.07368478e-01],\n",
       "         [9.48127598e-01],\n",
       "         [9.48127598e-01],\n",
       "         [8.15949783e-01],\n",
       "         [8.15949783e-01],\n",
       "         [8.14660908e-01],\n",
       "         [8.14660908e-01],\n",
       "         [7.22086052e-01],\n",
       "         [7.22086052e-01],\n",
       "         [8.35413455e-01],\n",
       "         [8.35413455e-01],\n",
       "         [7.23406781e-01],\n",
       "         [7.23406781e-01],\n",
       "         [4.21225337e-01],\n",
       "         [4.21225337e-01],\n",
       "         [4.59712442e-01],\n",
       "         [4.59712442e-01],\n",
       "         [5.30498390e-01],\n",
       "         [5.30498390e-01],\n",
       "         [4.39405323e-01],\n",
       "         [4.39405323e-01],\n",
       "         [5.87767001e-01],\n",
       "         [5.87767001e-01],\n",
       "         [7.44569943e-01],\n",
       "         [7.44569943e-01],\n",
       "         [9.72516263e-02],\n",
       "         [9.72516263e-02],\n",
       "         [6.51553138e-01],\n",
       "         [6.51553138e-01],\n",
       "         [4.71178593e-02],\n",
       "         [4.71178593e-02],\n",
       "         [3.78244920e-01],\n",
       "         [3.78244920e-01],\n",
       "         [3.23759301e-01],\n",
       "         [3.23759301e-01],\n",
       "         [2.80498053e-01],\n",
       "         [2.80498053e-01],\n",
       "         [4.87328588e-01],\n",
       "         [4.87328588e-01],\n",
       "         [2.00905305e-01],\n",
       "         [2.00905305e-01],\n",
       "         [1.68468716e-01],\n",
       "         [1.68468716e-01],\n",
       "         [8.21732331e-01],\n",
       "         [8.21732331e-01],\n",
       "         [6.50865897e-01],\n",
       "         [6.50865897e-01],\n",
       "         [9.28330809e-01],\n",
       "         [9.28330809e-01],\n",
       "         [8.53691955e-01],\n",
       "         [8.53691955e-01],\n",
       "         [7.62974772e-01],\n",
       "         [7.62974772e-01],\n",
       "         [7.86310008e-01],\n",
       "         [7.86310008e-01],\n",
       "         [8.24947286e-01],\n",
       "         [8.24947286e-01],\n",
       "         [7.54800840e-01],\n",
       "         [7.54800840e-01],\n",
       "         [3.77472861e-01],\n",
       "         [3.77472861e-01],\n",
       "         [3.41130690e-01],\n",
       "         [3.41130690e-01],\n",
       "         [9.91789192e-02],\n",
       "         [9.91789192e-02],\n",
       "         [2.32758659e-01],\n",
       "         [2.32758659e-01],\n",
       "         [7.33152813e-01],\n",
       "         [7.33152813e-01],\n",
       "         [9.37371320e-02],\n",
       "         [9.37371320e-02],\n",
       "         [6.23457004e-01],\n",
       "         [6.23457004e-01],\n",
       "         [3.17655773e-02],\n",
       "         [3.17655773e-02],\n",
       "         [6.31364959e-01],\n",
       "         [6.31364959e-01],\n",
       "         [3.15949431e-01],\n",
       "         [3.15949431e-01],\n",
       "         [4.34688404e-01],\n",
       "         [4.34688404e-01],\n",
       "         [6.43057541e-01],\n",
       "         [6.43057541e-01],\n",
       "         [1.54877910e-01],\n",
       "         [1.54877910e-01],\n",
       "         [9.14233806e-01],\n",
       "         [9.14233806e-01],\n",
       "         [6.92289814e-02],\n",
       "         [6.92289814e-02],\n",
       "         [7.04974562e-01],\n",
       "         [7.04974562e-01],\n",
       "         [6.74702327e-01],\n",
       "         [6.74702327e-01],\n",
       "         [9.53824219e-01],\n",
       "         [9.53824219e-01],\n",
       "         [4.76617392e-01],\n",
       "         [4.76617392e-01],\n",
       "         [1.53053162e-01],\n",
       "         [1.53053162e-01],\n",
       "         [4.53462719e-01],\n",
       "         [4.53462719e-01],\n",
       "         [7.75964695e-01],\n",
       "         [7.75964695e-01],\n",
       "         [1.17315131e-02],\n",
       "         [1.17315131e-02]])}}"
      ]
     },
     "execution_count": 1,
     "metadata": {},
     "output_type": "execute_result"
    }
   ],
   "source": [
    "ds = load_by_id(run_id_a)\n",
    "ds.get_parameter_data('x1')"
   ]
  },
  {
   "cell_type": "code",
   "execution_count": null,
   "metadata": {},
   "outputs": [],
   "source": []
  }
 ],
 "metadata": {
  "kernelspec": {
   "display_name": "Python 3",
   "language": "python",
   "name": "python3"
  },
  "language_info": {
   "codemirror_mode": {
    "name": "ipython",
    "version": 3
   },
   "file_extension": ".py",
   "mimetype": "text/x-python",
   "name": "python",
   "nbconvert_exporter": "python",
   "pygments_lexer": "ipython3",
   "version": "3.7.9"
  },
  "nbsphinx": {
   "timeout": 600
  },
  "toc": {
   "base_numbering": 1,
   "nav_menu": {},
   "number_sections": true,
   "sideBar": true,
   "skip_h1_title": false,
   "title_cell": "Table of Contents",
   "title_sidebar": "Contents",
   "toc_cell": false,
   "toc_position": {},
   "toc_section_display": true,
   "toc_window_display": false
  },
  "varInspector": {
   "cols": {
    "lenName": 16,
    "lenType": 16,
    "lenVar": 40
   },
   "kernels_config": {
    "python": {
     "delete_cmd_postfix": "",
     "delete_cmd_prefix": "del ",
     "library": "var_list.py",
     "varRefreshCmd": "print(var_dic_list())"
    },
    "r": {
     "delete_cmd_postfix": ") ",
     "delete_cmd_prefix": "rm(",
     "library": "var_list.r",
     "varRefreshCmd": "cat(var_dic_list()) "
    }
   },
   "types_to_exclude": [
    "module",
    "function",
    "builtin_function_or_method",
    "instance",
    "_Feature"
   ],
   "window_display": false
  }
 },
 "nbformat": 4,
 "nbformat_minor": 2
}
