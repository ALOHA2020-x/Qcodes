{
 "cells": [
  {
   "cell_type": "markdown",
   "metadata": {},
   "source": [
    "# DataSet Performance\n",
    "\n",
    "This notebook shows the trade-off between inserting data into a database row-by-row and as binary blobs. Inserting the data row-by-row means that we have direct access to all the data and may perform queries directly on the values of the data. On the other hand, as we shall see, this is much slower than inserting the data directly as binary blobs."
   ]
  },
  {
   "cell_type": "markdown",
   "metadata": {},
   "source": [
    "First, we choose a new location for the database to ensure that we don't add a bunch of benchmarking data to the default one."
   ]
  },
  {
   "cell_type": "code",
   "execution_count": 1,
   "metadata": {
    "execution": {
     "iopub.execute_input": "2021-05-07T09:38:03.301825Z",
     "iopub.status.busy": "2021-05-07T09:38:03.301051Z",
     "iopub.status.idle": "2021-05-07T09:38:04.576427Z",
     "shell.execute_reply": "2021-05-07T09:38:04.575470Z"
    }
   },
   "outputs": [
    {
     "name": "stdout",
     "output_type": "stream",
     "text": [
      "Logging hadn't been started.\n",
      "Activating auto-logging. Current session state plus future input saved.\n",
      "Filename       : /home/runner/.qcodes/logs/command_history.log\n",
      "Mode           : append\n",
      "Output logging : True\n",
      "Raw input log  : False\n",
      "Timestamping   : True\n",
      "State          : active\n"
     ]
    },
    {
     "name": "stdout",
     "output_type": "stream",
     "text": [
      "Qcodes Logfile : /home/runner/.qcodes/logs/210507-5117-qcodes.log\n"
     ]
    }
   ],
   "source": [
    "import os\n",
    "cwd = os.getcwd()\n",
    "import qcodes as qc\n",
    "qc.config[\"core\"][\"db_location\"] = os.path.join(cwd, 'testing.db')\n"
   ]
  },
  {
   "cell_type": "code",
   "execution_count": 2,
   "metadata": {
    "execution": {
     "iopub.execute_input": "2021-05-07T09:38:04.582913Z",
     "iopub.status.busy": "2021-05-07T09:38:04.582222Z",
     "iopub.status.idle": "2021-05-07T09:38:04.797147Z",
     "shell.execute_reply": "2021-05-07T09:38:04.796211Z"
    }
   },
   "outputs": [],
   "source": [
    "%matplotlib inline\n",
    "import time\n",
    "import matplotlib.pyplot as plt\n",
    "import numpy as np\n",
    "\n",
    "import qcodes as qc\n",
    "from qcodes.instrument.parameter import ManualParameter\n",
    "from qcodes.dataset.experiment_container import (Experiment,\n",
    "                                                 load_last_experiment,\n",
    "                                                 new_experiment)\n",
    "from qcodes.dataset.sqlite.database import initialise_database\n",
    "from qcodes import load_or_create_experiment\n",
    "from qcodes.dataset.measurements import Measurement"
   ]
  },
  {
   "cell_type": "code",
   "execution_count": 3,
   "metadata": {
    "execution": {
     "iopub.execute_input": "2021-05-07T09:38:04.801297Z",
     "iopub.status.busy": "2021-05-07T09:38:04.800341Z",
     "iopub.status.idle": "2021-05-07T09:38:04.893596Z",
     "shell.execute_reply": "2021-05-07T09:38:04.894090Z"
    }
   },
   "outputs": [
    {
     "name": "stdout",
     "output_type": "stream",
     "text": [
      "\r",
      "0it [00:00, ?it/s]"
     ]
    },
    {
     "name": "stdout",
     "output_type": "stream",
     "text": [
      "\r",
      "Upgrading database; v0 -> v1: : 0it [00:00, ?it/s]"
     ]
    },
    {
     "name": "stdout",
     "output_type": "stream",
     "text": [
      "\r",
      "Upgrading database; v0 -> v1: : 0it [00:00, ?it/s]"
     ]
    },
    {
     "name": "stdout",
     "output_type": "stream",
     "text": [
      "\n",
      "\r",
      "  0%|          | 0/1 [00:00<?, ?it/s]"
     ]
    },
    {
     "name": "stdout",
     "output_type": "stream",
     "text": [
      "\r",
      "Upgrading database; v1 -> v2:   0%|          | 0/1 [00:00<?, ?it/s]"
     ]
    },
    {
     "name": "stdout",
     "output_type": "stream",
     "text": [
      "\r",
      "Upgrading database; v1 -> v2: 100%|██████████| 1/1 [00:00<00:00, 418.26it/s]"
     ]
    },
    {
     "name": "stdout",
     "output_type": "stream",
     "text": [
      "\n",
      "\r",
      "0it [00:00, ?it/s]"
     ]
    },
    {
     "name": "stdout",
     "output_type": "stream",
     "text": [
      "\r",
      "Upgrading database; v2 -> v3: : 0it [00:00, ?it/s]"
     ]
    },
    {
     "name": "stdout",
     "output_type": "stream",
     "text": [
      "\r",
      "Upgrading database; v2 -> v3: : 0it [00:00, ?it/s]"
     ]
    },
    {
     "name": "stdout",
     "output_type": "stream",
     "text": [
      "\n",
      "\r",
      "0it [00:00, ?it/s]"
     ]
    },
    {
     "name": "stdout",
     "output_type": "stream",
     "text": [
      "\r",
      "Upgrading database; v3 -> v4: : 0it [00:00, ?it/s]"
     ]
    },
    {
     "name": "stdout",
     "output_type": "stream",
     "text": [
      "\r",
      "Upgrading database; v3 -> v4: : 0it [00:00, ?it/s]"
     ]
    },
    {
     "name": "stdout",
     "output_type": "stream",
     "text": [
      "\n",
      "\r",
      "  0%|          | 0/1 [00:00<?, ?it/s]"
     ]
    },
    {
     "name": "stdout",
     "output_type": "stream",
     "text": [
      "\r",
      "Upgrading database; v4 -> v5:   0%|          | 0/1 [00:00<?, ?it/s]"
     ]
    },
    {
     "name": "stdout",
     "output_type": "stream",
     "text": [
      "\r",
      "Upgrading database; v4 -> v5: 100%|██████████| 1/1 [00:00<00:00, 198.19it/s]"
     ]
    },
    {
     "name": "stdout",
     "output_type": "stream",
     "text": [
      "\n",
      "\r",
      "0it [00:00, ?it/s]"
     ]
    },
    {
     "name": "stdout",
     "output_type": "stream",
     "text": [
      "\r",
      "Upgrading database; v5 -> v6: : 0it [00:00, ?it/s]"
     ]
    },
    {
     "name": "stdout",
     "output_type": "stream",
     "text": [
      "\r",
      "Upgrading database; v5 -> v6: : 0it [00:00, ?it/s]"
     ]
    },
    {
     "name": "stdout",
     "output_type": "stream",
     "text": [
      "\n",
      "\r",
      "  0%|          | 0/1 [00:00<?, ?it/s]"
     ]
    },
    {
     "name": "stdout",
     "output_type": "stream",
     "text": [
      "\r",
      "Upgrading database; v6 -> v7:   0%|          | 0/1 [00:00<?, ?it/s]"
     ]
    },
    {
     "name": "stdout",
     "output_type": "stream",
     "text": [
      "\r",
      "Upgrading database; v6 -> v7: 100%|██████████| 1/1 [00:00<00:00, 274.48it/s]"
     ]
    },
    {
     "name": "stdout",
     "output_type": "stream",
     "text": [
      "\n",
      "\r",
      "  0%|          | 0/1 [00:00<?, ?it/s]"
     ]
    },
    {
     "name": "stdout",
     "output_type": "stream",
     "text": [
      "\r",
      "Upgrading database; v7 -> v8:   0%|          | 0/1 [00:00<?, ?it/s]"
     ]
    },
    {
     "name": "stdout",
     "output_type": "stream",
     "text": [
      "\r",
      "Upgrading database; v7 -> v8: 100%|██████████| 1/1 [00:00<00:00, 920.41it/s]"
     ]
    },
    {
     "name": "stdout",
     "output_type": "stream",
     "text": [
      "\n",
      "\r",
      "  0%|          | 0/1 [00:00<?, ?it/s]"
     ]
    },
    {
     "name": "stdout",
     "output_type": "stream",
     "text": [
      "\r",
      "Upgrading database; v8 -> v9:   0%|          | 0/1 [00:00<?, ?it/s]"
     ]
    },
    {
     "name": "stdout",
     "output_type": "stream",
     "text": [
      "\r",
      "Upgrading database; v8 -> v9: 100%|██████████| 1/1 [00:00<00:00, 455.61it/s]"
     ]
    },
    {
     "name": "stdout",
     "output_type": "stream",
     "text": [
      "\n"
     ]
    }
   ],
   "source": [
    "initialise_database()\n",
    "exp = load_or_create_experiment(experiment_name='tutorial_exp', sample_name=\"no sample\")"
   ]
  },
  {
   "cell_type": "markdown",
   "metadata": {},
   "source": [
    "Here, we define a simple function to benchmark the time it takes to insert n points with either numeric or array data type.\n",
    "We will compare both the time used to call ``add_result`` and the time used for the full measurement."
   ]
  },
  {
   "cell_type": "code",
   "execution_count": 4,
   "metadata": {
    "execution": {
     "iopub.execute_input": "2021-05-07T09:38:04.902631Z",
     "iopub.status.busy": "2021-05-07T09:38:04.896328Z",
     "iopub.status.idle": "2021-05-07T09:38:04.905476Z",
     "shell.execute_reply": "2021-05-07T09:38:04.904833Z"
    }
   },
   "outputs": [],
   "source": [
    "def insert_data(paramtype, npoints, nreps=1):\n",
    "\n",
    "    meas = Measurement(exp=exp)\n",
    "\n",
    "    x1 = ManualParameter('x1')\n",
    "    x2 = ManualParameter('x2')\n",
    "    x3 = ManualParameter('x3')\n",
    "    y1 = ManualParameter('y1')\n",
    "    y2 = ManualParameter('y2')\n",
    "\n",
    "    meas.register_parameter(x1, paramtype=paramtype)\n",
    "    meas.register_parameter(x2, paramtype=paramtype)\n",
    "    meas.register_parameter(x3, paramtype=paramtype)\n",
    "    meas.register_parameter(y1, setpoints=[x1, x2, x3],\n",
    "                            paramtype=paramtype)\n",
    "    meas.register_parameter(y2, setpoints=[x1, x2, x3],\n",
    "                            paramtype=paramtype)\n",
    "    start = time.perf_counter()\n",
    "    with meas.run() as datasaver:\n",
    "        start_adding = time.perf_counter()\n",
    "        for i in range(nreps):\n",
    "            datasaver.add_result((x1, np.random.rand(npoints)),\n",
    "                                 (x2, np.random.rand(npoints)),\n",
    "                                 (x3, np.random.rand(npoints)),\n",
    "                                 (y1, np.random.rand(npoints)),\n",
    "                                 (y2, np.random.rand(npoints)))\n",
    "        stop_adding = time.perf_counter()\n",
    "        run_id = datasaver.run_id\n",
    "    stop = time.perf_counter()\n",
    "    tot_time = stop - start\n",
    "    add_time = stop_adding - start_adding\n",
    "    return tot_time, add_time, run_id"
   ]
  },
  {
   "cell_type": "markdown",
   "metadata": {},
   "source": [
    "## Comparison between numeric/array data and binary blob"
   ]
  },
  {
   "cell_type": "markdown",
   "metadata": {},
   "source": [
    "### Case1: Short experiment time"
   ]
  },
  {
   "cell_type": "code",
   "execution_count": 5,
   "metadata": {
    "execution": {
     "iopub.execute_input": "2021-05-07T09:38:04.914587Z",
     "iopub.status.busy": "2021-05-07T09:38:04.913802Z",
     "iopub.status.idle": "2021-05-07T09:38:05.808119Z",
     "shell.execute_reply": "2021-05-07T09:38:05.809002Z"
    }
   },
   "outputs": [
    {
     "name": "stdout",
     "output_type": "stream",
     "text": [
      "Starting experimental run with id: 1. \n",
      "Starting experimental run with id: 2. \n",
      "Starting experimental run with id: 3. \n"
     ]
    },
    {
     "name": "stdout",
     "output_type": "stream",
     "text": [
      "Starting experimental run with id: 4. \n"
     ]
    },
    {
     "name": "stdout",
     "output_type": "stream",
     "text": [
      "Starting experimental run with id: 5. \n"
     ]
    },
    {
     "name": "stdout",
     "output_type": "stream",
     "text": [
      "Starting experimental run with id: 6. \n",
      "Starting experimental run with id: 7. \n",
      "Starting experimental run with id: 8. \n",
      "Starting experimental run with id: 9. \n"
     ]
    },
    {
     "name": "stdout",
     "output_type": "stream",
     "text": [
      "Starting experimental run with id: 10. \n",
      "Starting experimental run with id: 11. \n",
      "Starting experimental run with id: 12. \n"
     ]
    },
    {
     "name": "stdout",
     "output_type": "stream",
     "text": [
      "Starting experimental run with id: 13. \n",
      "Starting experimental run with id: 14. \n"
     ]
    }
   ],
   "source": [
    "sizes = [1,500,1000,2000,3000,4000,5000]\n",
    "t_numeric = []\n",
    "t_numeric_add = []\n",
    "t_array = []\n",
    "t_array_add = []\n",
    "for size in sizes:\n",
    "    tn, tna, run_id_n =  insert_data('numeric', size)\n",
    "    t_numeric.append(tn)\n",
    "    t_numeric_add.append(tna)\n",
    "\n",
    "    ta, taa, run_id_a =  insert_data('array', size)\n",
    "    t_array.append(ta)\n",
    "    t_array_add.append(taa)"
   ]
  },
  {
   "cell_type": "code",
   "execution_count": 6,
   "metadata": {
    "execution": {
     "iopub.execute_input": "2021-05-07T09:38:05.832443Z",
     "iopub.status.busy": "2021-05-07T09:38:05.830102Z",
     "iopub.status.idle": "2021-05-07T09:38:06.138509Z",
     "shell.execute_reply": "2021-05-07T09:38:06.137945Z"
    }
   },
   "outputs": [
    {
     "data": {
      "image/png": "[encoded data removed]",
      "text/plain": [
       "<Figure size 432x288 with 1 Axes>"
      ]
     },
     "metadata": {
      "needs_background": "light"
     },
     "output_type": "display_data"
    }
   ],
   "source": [
    "fig, ax = plt.subplots(1,1)\n",
    "ax.plot(sizes, t_numeric, 'o-', label='Inserting row-by-row')\n",
    "ax.plot(sizes, t_numeric_add, 'o-', label='Inserting row-by-row: add_result only')\n",
    "ax.plot(sizes, t_array, 'd-', label='Inserting as binary blob')\n",
    "ax.plot(sizes, t_array_add, 'd-', label='Inserting as binary blob: add_result only')\n",
    "ax.legend()\n",
    "ax.set_xlabel('Array length')\n",
    "ax.set_ylabel('Time (s)')\n",
    "fig.tight_layout()"
   ]
  },
  {
   "cell_type": "markdown",
   "metadata": {},
   "source": [
    "As shown in the latter figure, the time to setup and and close the experiment is approximately 0.4 sec. In case of small array sizes, the difference between inserting values of data as arrays and inserting them row-by-row is relatively unimportant. At larger array sizes, i.e. above 10000 points, the cost of writing data as individual datapoints starts to become important.\n"
   ]
  },
  {
   "cell_type": "markdown",
   "metadata": {},
   "source": [
    "### Case2: Long experiment time "
   ]
  },
  {
   "cell_type": "code",
   "execution_count": 7,
   "metadata": {
    "execution": {
     "iopub.execute_input": "2021-05-07T09:38:06.151300Z",
     "iopub.status.busy": "2021-05-07T09:38:06.150600Z",
     "iopub.status.idle": "2021-05-07T09:39:04.445852Z",
     "shell.execute_reply": "2021-05-07T09:39:04.444818Z"
    }
   },
   "outputs": [
    {
     "name": "stdout",
     "output_type": "stream",
     "text": [
      "Starting experimental run with id: 15. \n",
      "Starting experimental run with id: 16. \n"
     ]
    },
    {
     "name": "stdout",
     "output_type": "stream",
     "text": [
      "Starting experimental run with id: 17. \n"
     ]
    },
    {
     "name": "stdout",
     "output_type": "stream",
     "text": [
      "Starting experimental run with id: 18. \n"
     ]
    },
    {
     "name": "stdout",
     "output_type": "stream",
     "text": [
      "Starting experimental run with id: 19. \n"
     ]
    },
    {
     "name": "stdout",
     "output_type": "stream",
     "text": [
      "Starting experimental run with id: 20. \n"
     ]
    },
    {
     "name": "stdout",
     "output_type": "stream",
     "text": [
      "Starting experimental run with id: 21. \n"
     ]
    },
    {
     "name": "stdout",
     "output_type": "stream",
     "text": [
      "Starting experimental run with id: 22. \n"
     ]
    },
    {
     "name": "stdout",
     "output_type": "stream",
     "text": [
      "Starting experimental run with id: 23. \n"
     ]
    },
    {
     "name": "stdout",
     "output_type": "stream",
     "text": [
      "Starting experimental run with id: 24. \n"
     ]
    },
    {
     "name": "stdout",
     "output_type": "stream",
     "text": [
      "Starting experimental run with id: 25. \n"
     ]
    },
    {
     "name": "stdout",
     "output_type": "stream",
     "text": [
      "Starting experimental run with id: 26. \n"
     ]
    },
    {
     "name": "stdout",
     "output_type": "stream",
     "text": [
      "Starting experimental run with id: 27. \n"
     ]
    },
    {
     "name": "stdout",
     "output_type": "stream",
     "text": [
      "Starting experimental run with id: 28. \n"
     ]
    }
   ],
   "source": [
    "sizes = [1,500,1000,2000,3000,4000,5000]\n",
    "nreps = 100\n",
    "t_numeric = []\n",
    "t_numeric_add = []\n",
    "t_numeric_run_ids = []\n",
    "t_array = []\n",
    "t_array_add = []\n",
    "t_array_run_ids = []\n",
    "for size in sizes:\n",
    "    tn, tna, run_id_n =  insert_data('numeric', size, nreps=nreps)\n",
    "    t_numeric.append(tn)\n",
    "    t_numeric_add.append(tna)\n",
    "    t_numeric_run_ids.append(run_id_n)\n",
    "\n",
    "    ta, taa, run_id_a =  insert_data('array', size, nreps=nreps)\n",
    "    t_array.append(ta)\n",
    "    t_array_add.append(taa)\n",
    "    t_array_run_ids.append(run_id_a)"
   ]
  },
  {
   "cell_type": "code",
   "execution_count": 8,
   "metadata": {
    "execution": {
     "iopub.execute_input": "2021-05-07T09:39:04.497628Z",
     "iopub.status.busy": "2021-05-07T09:39:04.481620Z",
     "iopub.status.idle": "2021-05-07T09:39:04.731098Z",
     "shell.execute_reply": "2021-05-07T09:39:04.730595Z"
    },
    "scrolled": true
   },
   "outputs": [
    {
     "data": {
      "image/png": "[encoded data removed]",
      "text/plain": [
       "<Figure size 432x288 with 1 Axes>"
      ]
     },
     "metadata": {
      "needs_background": "light"
     },
     "output_type": "display_data"
    }
   ],
   "source": [
    "fig, ax = plt.subplots(1,1)\n",
    "ax.plot(sizes, t_numeric, 'o-', label='Inserting row-by-row')\n",
    "ax.plot(sizes, t_numeric_add, 'o-', label='Inserting row-by-row: add_result only')\n",
    "ax.plot(sizes, t_array, 'd-', label='Inserting as binary blob')\n",
    "ax.plot(sizes, t_array_add, 'd-', label='Inserting as binary blob: add_result only')\n",
    "ax.legend()\n",
    "ax.set_xlabel('Array length')\n",
    "ax.set_ylabel('Time (s)')\n",
    "fig.tight_layout()"
   ]
  },
  {
   "cell_type": "markdown",
   "metadata": {},
   "source": [
    "However, as we increase the length of the experiment, as seen here by repeating the insertion 100 times, we see a big difference between inserting values of the data row-by-row and inserting it as a binary blob."
   ]
  },
  {
   "cell_type": "markdown",
   "metadata": {},
   "source": [
    "## Loading the data "
   ]
  },
  {
   "cell_type": "code",
   "execution_count": 9,
   "metadata": {
    "execution": {
     "iopub.execute_input": "2021-05-07T09:39:04.735781Z",
     "iopub.status.busy": "2021-05-07T09:39:04.735216Z",
     "iopub.status.idle": "2021-05-07T09:39:04.738999Z",
     "shell.execute_reply": "2021-05-07T09:39:04.739600Z"
    }
   },
   "outputs": [],
   "source": [
    "from qcodes.dataset.data_set import load_by_id"
   ]
  },
  {
   "cell_type": "markdown",
   "metadata": {},
   "source": [
    "As usual you can load the data by using the ``load_by_id`` function but you will notice that the different storage methods\n",
    "are reflected in shape of the data as it is retrieved. "
   ]
  },
  {
   "cell_type": "code",
   "execution_count": 10,
   "metadata": {
    "execution": {
     "iopub.execute_input": "2021-05-07T09:39:04.745069Z",
     "iopub.status.busy": "2021-05-07T09:39:04.743732Z",
     "iopub.status.idle": "2021-05-07T09:39:04.745768Z",
     "shell.execute_reply": "2021-05-07T09:39:04.746267Z"
    }
   },
   "outputs": [],
   "source": [
    "run_id_n = t_numeric_run_ids[0]\n",
    "run_id_a = t_array_run_ids[0]"
   ]
  },
  {
   "cell_type": "code",
   "execution_count": 11,
   "metadata": {
    "execution": {
     "iopub.execute_input": "2021-05-07T09:39:04.750312Z",
     "iopub.status.busy": "2021-05-07T09:39:04.749728Z",
     "iopub.status.idle": "2021-05-07T09:39:04.760955Z",
     "shell.execute_reply": "2021-05-07T09:39:04.761485Z"
    },
    "scrolled": true
   },
   "outputs": [
    {
     "data": {
      "text/plain": [
       "{'x1': {'x1': array([0.63998266, 0.63998266, 0.01955493, 0.01955493, 0.81097217,\n",
       "         0.81097217, 0.4042005 , 0.4042005 , 0.53017807, 0.53017807,\n",
       "         0.04246033, 0.04246033, 0.38683271, 0.38683271, 0.46202118,\n",
       "         0.46202118, 0.48135431, 0.48135431, 0.73017583, 0.73017583,\n",
       "         0.41558054, 0.41558054, 0.75725279, 0.75725279, 0.8822156 ,\n",
       "         0.8822156 , 0.30921649, 0.30921649, 0.17211664, 0.17211664,\n",
       "         0.92270874, 0.92270874, 0.12890387, 0.12890387, 0.94952763,\n",
       "         0.94952763, 0.90364265, 0.90364265, 0.35245314, 0.35245314,\n",
       "         0.46774881, 0.46774881, 0.42739734, 0.42739734, 0.02519664,\n",
       "         0.02519664, 0.95645287, 0.95645287, 0.16814437, 0.16814437,\n",
       "         0.645014  , 0.645014  , 0.5389584 , 0.5389584 , 0.34454007,\n",
       "         0.34454007, 0.87655934, 0.87655934, 0.92046528, 0.92046528,\n",
       "         0.47112521, 0.47112521, 0.9389779 , 0.9389779 , 0.73081524,\n",
       "         0.73081524, 0.832324  , 0.832324  , 0.29257405, 0.29257405,\n",
       "         0.45870811, 0.45870811, 0.75432974, 0.75432974, 0.36476854,\n",
       "         0.36476854, 0.19443965, 0.19443965, 0.12211827, 0.12211827,\n",
       "         0.40038606, 0.40038606, 0.95327283, 0.95327283, 0.46878344,\n",
       "         0.46878344, 0.34334325, 0.34334325, 0.56699093, 0.56699093,\n",
       "         0.38668969, 0.38668969, 0.88242816, 0.88242816, 0.61087929,\n",
       "         0.61087929, 0.94011603, 0.94011603, 0.78119202, 0.78119202,\n",
       "         0.8459221 , 0.8459221 , 0.04677651, 0.04677651, 0.85453335,\n",
       "         0.85453335, 0.49656642, 0.49656642, 0.2378663 , 0.2378663 ,\n",
       "         0.7011251 , 0.7011251 , 0.97468395, 0.97468395, 0.64383935,\n",
       "         0.64383935, 0.85184657, 0.85184657, 0.2852539 , 0.2852539 ,\n",
       "         0.0998081 , 0.0998081 , 0.58118124, 0.58118124, 0.59111767,\n",
       "         0.59111767, 0.08785836, 0.08785836, 0.78608366, 0.78608366,\n",
       "         0.1823011 , 0.1823011 , 0.60385016, 0.60385016, 0.86677258,\n",
       "         0.86677258, 0.6127568 , 0.6127568 , 0.75734564, 0.75734564,\n",
       "         0.53407862, 0.53407862, 0.08147642, 0.08147642, 0.73583583,\n",
       "         0.73583583, 0.49377691, 0.49377691, 0.91611973, 0.91611973,\n",
       "         0.29188972, 0.29188972, 0.59053596, 0.59053596, 0.2152258 ,\n",
       "         0.2152258 , 0.75751175, 0.75751175, 0.88428087, 0.88428087,\n",
       "         0.94888928, 0.94888928, 0.52397636, 0.52397636, 0.5802926 ,\n",
       "         0.5802926 , 0.97944846, 0.97944846, 0.25196091, 0.25196091,\n",
       "         0.6128601 , 0.6128601 , 0.27192224, 0.27192224, 0.47235522,\n",
       "         0.47235522, 0.81047579, 0.81047579, 0.87036315, 0.87036315,\n",
       "         0.14592285, 0.14592285, 0.14725627, 0.14725627, 0.75154648,\n",
       "         0.75154648, 0.84151314, 0.84151314, 0.00142126, 0.00142126,\n",
       "         0.33529479, 0.33529479, 0.25597758, 0.25597758, 0.87264407,\n",
       "         0.87264407, 0.12241632, 0.12241632, 0.06223144, 0.06223144])}}"
      ]
     },
     "execution_count": 1,
     "metadata": {},
     "output_type": "execute_result"
    }
   ],
   "source": [
    "ds = load_by_id(run_id_n)\n",
    "ds.get_parameter_data('x1')"
   ]
  },
  {
   "cell_type": "markdown",
   "metadata": {},
   "source": [
    "And a dataset stored as binary arrays"
   ]
  },
  {
   "cell_type": "code",
   "execution_count": 12,
   "metadata": {
    "execution": {
     "iopub.execute_input": "2021-05-07T09:39:04.765682Z",
     "iopub.status.busy": "2021-05-07T09:39:04.764980Z",
     "iopub.status.idle": "2021-05-07T09:39:04.835033Z",
     "shell.execute_reply": "2021-05-07T09:39:04.835484Z"
    },
    "scrolled": true
   },
   "outputs": [
    {
     "data": {
      "text/plain": [
       "{'x1': {'x1': array([[0.40879364],\n",
       "         [0.40879364],\n",
       "         [0.81242157],\n",
       "         [0.81242157],\n",
       "         [0.23983503],\n",
       "         [0.23983503],\n",
       "         [0.59405911],\n",
       "         [0.59405911],\n",
       "         [0.79277799],\n",
       "         [0.79277799],\n",
       "         [0.60731957],\n",
       "         [0.60731957],\n",
       "         [0.99575352],\n",
       "         [0.99575352],\n",
       "         [0.21408235],\n",
       "         [0.21408235],\n",
       "         [0.85704153],\n",
       "         [0.85704153],\n",
       "         [0.34226432],\n",
       "         [0.34226432],\n",
       "         [0.79959067],\n",
       "         [0.79959067],\n",
       "         [0.35798645],\n",
       "         [0.35798645],\n",
       "         [0.19561905],\n",
       "         [0.19561905],\n",
       "         [0.52120035],\n",
       "         [0.52120035],\n",
       "         [0.57187117],\n",
       "         [0.57187117],\n",
       "         [0.45255213],\n",
       "         [0.45255213],\n",
       "         [0.09954944],\n",
       "         [0.09954944],\n",
       "         [0.88700923],\n",
       "         [0.88700923],\n",
       "         [0.61538555],\n",
       "         [0.61538555],\n",
       "         [0.81708079],\n",
       "         [0.81708079],\n",
       "         [0.21825231],\n",
       "         [0.21825231],\n",
       "         [0.78695388],\n",
       "         [0.78695388],\n",
       "         [0.26645052],\n",
       "         [0.26645052],\n",
       "         [0.33874101],\n",
       "         [0.33874101],\n",
       "         [0.90059879],\n",
       "         [0.90059879],\n",
       "         [0.6225048 ],\n",
       "         [0.6225048 ],\n",
       "         [0.46928869],\n",
       "         [0.46928869],\n",
       "         [0.68960095],\n",
       "         [0.68960095],\n",
       "         [0.85324602],\n",
       "         [0.85324602],\n",
       "         [0.393401  ],\n",
       "         [0.393401  ],\n",
       "         [0.9136252 ],\n",
       "         [0.9136252 ],\n",
       "         [0.88122334],\n",
       "         [0.88122334],\n",
       "         [0.56587262],\n",
       "         [0.56587262],\n",
       "         [0.25143948],\n",
       "         [0.25143948],\n",
       "         [0.90901758],\n",
       "         [0.90901758],\n",
       "         [0.70766206],\n",
       "         [0.70766206],\n",
       "         [0.17669576],\n",
       "         [0.17669576],\n",
       "         [0.69924213],\n",
       "         [0.69924213],\n",
       "         [0.45585298],\n",
       "         [0.45585298],\n",
       "         [0.95930204],\n",
       "         [0.95930204],\n",
       "         [0.99667682],\n",
       "         [0.99667682],\n",
       "         [0.16985516],\n",
       "         [0.16985516],\n",
       "         [0.7401387 ],\n",
       "         [0.7401387 ],\n",
       "         [0.88220351],\n",
       "         [0.88220351],\n",
       "         [0.34546221],\n",
       "         [0.34546221],\n",
       "         [0.44846598],\n",
       "         [0.44846598],\n",
       "         [0.22306119],\n",
       "         [0.22306119],\n",
       "         [0.7772865 ],\n",
       "         [0.7772865 ],\n",
       "         [0.39635245],\n",
       "         [0.39635245],\n",
       "         [0.27743623],\n",
       "         [0.27743623],\n",
       "         [0.6967967 ],\n",
       "         [0.6967967 ],\n",
       "         [0.09286214],\n",
       "         [0.09286214],\n",
       "         [0.05592205],\n",
       "         [0.05592205],\n",
       "         [0.67848005],\n",
       "         [0.67848005],\n",
       "         [0.61038183],\n",
       "         [0.61038183],\n",
       "         [0.23599392],\n",
       "         [0.23599392],\n",
       "         [0.99719983],\n",
       "         [0.99719983],\n",
       "         [0.37290324],\n",
       "         [0.37290324],\n",
       "         [0.84863878],\n",
       "         [0.84863878],\n",
       "         [0.16129079],\n",
       "         [0.16129079],\n",
       "         [0.69947083],\n",
       "         [0.69947083],\n",
       "         [0.93391777],\n",
       "         [0.93391777],\n",
       "         [0.59390531],\n",
       "         [0.59390531],\n",
       "         [0.53711055],\n",
       "         [0.53711055],\n",
       "         [0.39727767],\n",
       "         [0.39727767],\n",
       "         [0.90645494],\n",
       "         [0.90645494],\n",
       "         [0.70150774],\n",
       "         [0.70150774],\n",
       "         [0.43079619],\n",
       "         [0.43079619],\n",
       "         [0.55117883],\n",
       "         [0.55117883],\n",
       "         [0.99194484],\n",
       "         [0.99194484],\n",
       "         [0.06846013],\n",
       "         [0.06846013],\n",
       "         [0.31305772],\n",
       "         [0.31305772],\n",
       "         [0.83123874],\n",
       "         [0.83123874],\n",
       "         [0.56669748],\n",
       "         [0.56669748],\n",
       "         [0.94458424],\n",
       "         [0.94458424],\n",
       "         [0.43259645],\n",
       "         [0.43259645],\n",
       "         [0.45618813],\n",
       "         [0.45618813],\n",
       "         [0.29274923],\n",
       "         [0.29274923],\n",
       "         [0.0220122 ],\n",
       "         [0.0220122 ],\n",
       "         [0.96375572],\n",
       "         [0.96375572],\n",
       "         [0.83831333],\n",
       "         [0.83831333],\n",
       "         [0.48341326],\n",
       "         [0.48341326],\n",
       "         [0.76280717],\n",
       "         [0.76280717],\n",
       "         [0.4365275 ],\n",
       "         [0.4365275 ],\n",
       "         [0.08428656],\n",
       "         [0.08428656],\n",
       "         [0.82088058],\n",
       "         [0.82088058],\n",
       "         [0.18321331],\n",
       "         [0.18321331],\n",
       "         [0.23196814],\n",
       "         [0.23196814],\n",
       "         [0.63071933],\n",
       "         [0.63071933],\n",
       "         [0.87514664],\n",
       "         [0.87514664],\n",
       "         [0.36436639],\n",
       "         [0.36436639],\n",
       "         [0.68790314],\n",
       "         [0.68790314],\n",
       "         [0.81853795],\n",
       "         [0.81853795],\n",
       "         [0.84620973],\n",
       "         [0.84620973],\n",
       "         [0.72141348],\n",
       "         [0.72141348],\n",
       "         [0.08675261],\n",
       "         [0.08675261],\n",
       "         [0.48117109],\n",
       "         [0.48117109],\n",
       "         [0.14719696],\n",
       "         [0.14719696],\n",
       "         [0.29481366],\n",
       "         [0.29481366],\n",
       "         [0.49586072],\n",
       "         [0.49586072]])}}"
      ]
     },
     "execution_count": 1,
     "metadata": {},
     "output_type": "execute_result"
    }
   ],
   "source": [
    "ds = load_by_id(run_id_a)\n",
    "ds.get_parameter_data('x1')"
   ]
  },
  {
   "cell_type": "code",
   "execution_count": null,
   "metadata": {},
   "outputs": [],
   "source": []
  }
 ],
 "metadata": {
  "kernelspec": {
   "display_name": "Python 3",
   "language": "python",
   "name": "python3"
  },
  "language_info": {
   "codemirror_mode": {
    "name": "ipython",
    "version": 3
   },
   "file_extension": ".py",
   "mimetype": "text/x-python",
   "name": "python",
   "nbconvert_exporter": "python",
   "pygments_lexer": "ipython3",
   "version": "3.7.10"
  },
  "nbsphinx": {
   "timeout": 600
  },
  "toc": {
   "base_numbering": 1,
   "nav_menu": {},
   "number_sections": true,
   "sideBar": true,
   "skip_h1_title": false,
   "title_cell": "Table of Contents",
   "title_sidebar": "Contents",
   "toc_cell": false,
   "toc_position": {},
   "toc_section_display": true,
   "toc_window_display": false
  },
  "varInspector": {
   "cols": {
    "lenName": 16,
    "lenType": 16,
    "lenVar": 40
   },
   "kernels_config": {
    "python": {
     "delete_cmd_postfix": "",
     "delete_cmd_prefix": "del ",
     "library": "var_list.py",
     "varRefreshCmd": "print(var_dic_list())"
    },
    "r": {
     "delete_cmd_postfix": ") ",
     "delete_cmd_prefix": "rm(",
     "library": "var_list.r",
     "varRefreshCmd": "cat(var_dic_list()) "
    }
   },
   "types_to_exclude": [
    "module",
    "function",
    "builtin_function_or_method",
    "instance",
    "_Feature"
   ],
   "window_display": false
  }
 },
 "nbformat": 4,
 "nbformat_minor": 4
}
