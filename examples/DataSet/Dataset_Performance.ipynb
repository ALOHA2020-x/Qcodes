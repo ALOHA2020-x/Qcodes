{
 "cells": [
  {
   "cell_type": "markdown",
   "metadata": {},
   "source": [
    "# DataSet Performance\n",
    "\n",
    "This notebook shows the trade-off between inserting data into a database row-by-row and as binary blobs. Inserting the data row-by-row means that we have direct access to all the data and may perform queries directly on the values of the data. On the other hand, as we shall see, this is much slower than inserting the data directly as binary blobs."
   ]
  },
  {
   "cell_type": "markdown",
   "metadata": {},
   "source": [
    "First, we choose a new location for the database to ensure that we don't add a bunch of benchmarking data to the default one."
   ]
  },
  {
   "cell_type": "code",
   "execution_count": 1,
   "metadata": {
    "execution": {
     "iopub.execute_input": "2020-10-17T19:00:05.170680Z",
     "iopub.status.busy": "2020-10-17T19:00:05.170041Z",
     "iopub.status.idle": "2020-10-17T19:00:06.248517Z",
     "shell.execute_reply": "2020-10-17T19:00:06.248989Z"
    }
   },
   "outputs": [
    {
     "name": "stdout",
     "output_type": "stream",
     "text": [
      "Logging hadn't been started.\n",
      "Activating auto-logging. Current session state plus future input saved.\n",
      "Filename       : /home/vsts/.qcodes/logs/command_history.log\n",
      "Mode           : append\n",
      "Output logging : True\n",
      "Raw input log  : False\n",
      "Timestamping   : True\n",
      "State          : active\n"
     ]
    },
    {
     "name": "stdout",
     "output_type": "stream",
     "text": [
      "Qcodes Logfile : /home/vsts/.qcodes/logs/201017-15608-qcodes.log\n"
     ]
    }
   ],
   "source": [
    "import os\n",
    "cwd = os.getcwd()\n",
    "import qcodes as qc\n",
    "qc.config[\"core\"][\"db_location\"] = os.path.join(cwd, 'testing.db')\n"
   ]
  },
  {
   "cell_type": "code",
   "execution_count": 2,
   "metadata": {
    "execution": {
     "iopub.execute_input": "2020-10-17T19:00:06.255629Z",
     "iopub.status.busy": "2020-10-17T19:00:06.254849Z",
     "iopub.status.idle": "2020-10-17T19:00:06.446818Z",
     "shell.execute_reply": "2020-10-17T19:00:06.445901Z"
    }
   },
   "outputs": [],
   "source": [
    "%matplotlib inline\n",
    "import time\n",
    "import matplotlib.pyplot as plt\n",
    "import numpy as np\n",
    "\n",
    "import qcodes as qc\n",
    "from qcodes.instrument.parameter import ManualParameter\n",
    "from qcodes.dataset.experiment_container import (Experiment,\n",
    "                                                 load_last_experiment,\n",
    "                                                 new_experiment)\n",
    "from qcodes.dataset.sqlite.database import initialise_database\n",
    "from qcodes import load_or_create_experiment\n",
    "from qcodes.dataset.measurements import Measurement"
   ]
  },
  {
   "cell_type": "code",
   "execution_count": 3,
   "metadata": {
    "execution": {
     "iopub.execute_input": "2020-10-17T19:00:06.451116Z",
     "iopub.status.busy": "2020-10-17T19:00:06.450448Z",
     "iopub.status.idle": "2020-10-17T19:00:06.589984Z",
     "shell.execute_reply": "2020-10-17T19:00:06.590632Z"
    }
   },
   "outputs": [
    {
     "name": "stdout",
     "output_type": "stream",
     "text": [
      "\r",
      "0it [00:00, ?it/s]"
     ]
    },
    {
     "name": "stdout",
     "output_type": "stream",
     "text": [
      "\r",
      "Upgrading database; v0 -> v1: : 0it [00:00, ?it/s]"
     ]
    },
    {
     "name": "stdout",
     "output_type": "stream",
     "text": [
      "\r",
      "Upgrading database; v0 -> v1: : 0it [00:00, ?it/s]"
     ]
    },
    {
     "name": "stdout",
     "output_type": "stream",
     "text": [
      "\n",
      "\r",
      "  0%|          | 0/1 [00:00<?, ?it/s]"
     ]
    },
    {
     "name": "stdout",
     "output_type": "stream",
     "text": [
      "\r",
      "Upgrading database; v1 -> v2:   0%|          | 0/1 [00:00<?, ?it/s]"
     ]
    },
    {
     "name": "stdout",
     "output_type": "stream",
     "text": [
      "\r",
      "Upgrading database; v1 -> v2: 100%|██████████| 1/1 [00:00<00:00, 578.84it/s]"
     ]
    },
    {
     "name": "stdout",
     "output_type": "stream",
     "text": [
      "\n",
      "\r",
      "0it [00:00, ?it/s]"
     ]
    },
    {
     "name": "stdout",
     "output_type": "stream",
     "text": [
      "\r",
      "Upgrading database; v2 -> v3: : 0it [00:00, ?it/s]"
     ]
    },
    {
     "name": "stdout",
     "output_type": "stream",
     "text": [
      "\r",
      "Upgrading database; v2 -> v3: : 0it [00:00, ?it/s]"
     ]
    },
    {
     "name": "stdout",
     "output_type": "stream",
     "text": [
      "\n",
      "\r",
      "0it [00:00, ?it/s]"
     ]
    },
    {
     "name": "stdout",
     "output_type": "stream",
     "text": [
      "\r",
      "Upgrading database; v3 -> v4: : 0it [00:00, ?it/s]"
     ]
    },
    {
     "name": "stdout",
     "output_type": "stream",
     "text": [
      "\r",
      "Upgrading database; v3 -> v4: : 0it [00:00, ?it/s]"
     ]
    },
    {
     "name": "stdout",
     "output_type": "stream",
     "text": [
      "\n",
      "\r",
      "  0%|          | 0/1 [00:00<?, ?it/s]"
     ]
    },
    {
     "name": "stdout",
     "output_type": "stream",
     "text": [
      "\r",
      "Upgrading database; v4 -> v5:   0%|          | 0/1 [00:00<?, ?it/s]"
     ]
    },
    {
     "name": "stdout",
     "output_type": "stream",
     "text": [
      "\r",
      "Upgrading database; v4 -> v5: 100%|██████████| 1/1 [00:00<00:00, 409.84it/s]"
     ]
    },
    {
     "name": "stdout",
     "output_type": "stream",
     "text": [
      "\n",
      "\r",
      "0it [00:00, ?it/s]"
     ]
    },
    {
     "name": "stdout",
     "output_type": "stream",
     "text": [
      "\r",
      "Upgrading database; v5 -> v6: : 0it [00:00, ?it/s]"
     ]
    },
    {
     "name": "stdout",
     "output_type": "stream",
     "text": [
      "\r",
      "Upgrading database; v5 -> v6: : 0it [00:00, ?it/s]"
     ]
    },
    {
     "name": "stdout",
     "output_type": "stream",
     "text": [
      "\n",
      "\r",
      "  0%|          | 0/1 [00:00<?, ?it/s]"
     ]
    },
    {
     "name": "stdout",
     "output_type": "stream",
     "text": [
      "\r",
      "Upgrading database; v6 -> v7:   0%|          | 0/1 [00:00<?, ?it/s]"
     ]
    },
    {
     "name": "stdout",
     "output_type": "stream",
     "text": [
      "\r",
      "Upgrading database; v6 -> v7: 100%|██████████| 1/1 [00:00<00:00, 251.70it/s]"
     ]
    },
    {
     "name": "stdout",
     "output_type": "stream",
     "text": [
      "\n",
      "\r",
      "  0%|          | 0/1 [00:00<?, ?it/s]"
     ]
    },
    {
     "name": "stdout",
     "output_type": "stream",
     "text": [
      "\r",
      "Upgrading database; v7 -> v8:   0%|          | 0/1 [00:00<?, ?it/s]"
     ]
    },
    {
     "name": "stdout",
     "output_type": "stream",
     "text": [
      "\r",
      "Upgrading database; v7 -> v8: 100%|██████████| 1/1 [00:00<00:00, 423.37it/s]"
     ]
    },
    {
     "name": "stdout",
     "output_type": "stream",
     "text": [
      "\n",
      "\r",
      "  0%|          | 0/1 [00:00<?, ?it/s]"
     ]
    },
    {
     "name": "stdout",
     "output_type": "stream",
     "text": [
      "\r",
      "Upgrading database; v8 -> v9:   0%|          | 0/1 [00:00<?, ?it/s]"
     ]
    },
    {
     "name": "stdout",
     "output_type": "stream",
     "text": [
      "\r",
      "Upgrading database; v8 -> v9: 100%|██████████| 1/1 [00:00<00:00, 456.40it/s]"
     ]
    },
    {
     "name": "stdout",
     "output_type": "stream",
     "text": [
      "\n"
     ]
    }
   ],
   "source": [
    "initialise_database()\n",
    "exp = load_or_create_experiment(experiment_name='tutorial_exp', sample_name=\"no sample\")"
   ]
  },
  {
   "cell_type": "markdown",
   "metadata": {},
   "source": [
    "Here, we define a simple function to benchmark the time it takes to insert n points with either numeric or array data type.\n",
    "We will compare both the time used to call ``add_result`` and the time used for the full measurement."
   ]
  },
  {
   "cell_type": "code",
   "execution_count": 4,
   "metadata": {
    "execution": {
     "iopub.execute_input": "2020-10-17T19:00:06.599999Z",
     "iopub.status.busy": "2020-10-17T19:00:06.599363Z",
     "iopub.status.idle": "2020-10-17T19:00:06.602836Z",
     "shell.execute_reply": "2020-10-17T19:00:06.603441Z"
    }
   },
   "outputs": [],
   "source": [
    "def insert_data(paramtype, npoints, nreps=1):\n",
    "\n",
    "    meas = Measurement(exp=exp)\n",
    "\n",
    "    x1 = ManualParameter('x1')\n",
    "    x2 = ManualParameter('x2')\n",
    "    x3 = ManualParameter('x3')\n",
    "    y1 = ManualParameter('y1')\n",
    "    y2 = ManualParameter('y2')\n",
    "\n",
    "    meas.register_parameter(x1, paramtype=paramtype)\n",
    "    meas.register_parameter(x2, paramtype=paramtype)\n",
    "    meas.register_parameter(x3, paramtype=paramtype)\n",
    "    meas.register_parameter(y1, setpoints=[x1, x2, x3],\n",
    "                            paramtype=paramtype)\n",
    "    meas.register_parameter(y2, setpoints=[x1, x2, x3],\n",
    "                            paramtype=paramtype)\n",
    "    start = time.perf_counter()\n",
    "    with meas.run() as datasaver:\n",
    "        start_adding = time.perf_counter()\n",
    "        for i in range(nreps):\n",
    "            datasaver.add_result((x1, np.random.rand(npoints)),\n",
    "                                 (x2, np.random.rand(npoints)),\n",
    "                                 (x3, np.random.rand(npoints)),\n",
    "                                 (y1, np.random.rand(npoints)),\n",
    "                                 (y2, np.random.rand(npoints)))\n",
    "        stop_adding = time.perf_counter()\n",
    "        run_id = datasaver.run_id\n",
    "    stop = time.perf_counter()\n",
    "    tot_time = stop - start\n",
    "    add_time = stop_adding - start_adding\n",
    "    return tot_time, add_time, run_id"
   ]
  },
  {
   "cell_type": "markdown",
   "metadata": {},
   "source": [
    "## Comparison between numeric/array data and binary blob"
   ]
  },
  {
   "cell_type": "markdown",
   "metadata": {},
   "source": [
    "### Case1: Short experiment time"
   ]
  },
  {
   "cell_type": "code",
   "execution_count": 5,
   "metadata": {
    "execution": {
     "iopub.execute_input": "2020-10-17T19:00:06.609466Z",
     "iopub.status.busy": "2020-10-17T19:00:06.608750Z",
     "iopub.status.idle": "2020-10-17T19:00:07.427705Z",
     "shell.execute_reply": "2020-10-17T19:00:07.427069Z"
    }
   },
   "outputs": [
    {
     "name": "stdout",
     "output_type": "stream",
     "text": [
      "Starting experimental run with id: 1. \n",
      "Starting experimental run with id: 2. \n",
      "Starting experimental run with id: 3. \n",
      "Starting experimental run with id: 4. \n",
      "Starting experimental run with id: 5. \n"
     ]
    },
    {
     "name": "stdout",
     "output_type": "stream",
     "text": [
      "Starting experimental run with id: 6. \n"
     ]
    },
    {
     "name": "stdout",
     "output_type": "stream",
     "text": [
      "Starting experimental run with id: 7. \n"
     ]
    },
    {
     "name": "stdout",
     "output_type": "stream",
     "text": [
      "Starting experimental run with id: 8. \n",
      "Starting experimental run with id: 9. \n"
     ]
    },
    {
     "name": "stdout",
     "output_type": "stream",
     "text": [
      "Starting experimental run with id: 10. \n",
      "Starting experimental run with id: 11. \n"
     ]
    },
    {
     "name": "stdout",
     "output_type": "stream",
     "text": [
      "Starting experimental run with id: 12. \n",
      "Starting experimental run with id: 13. \n"
     ]
    },
    {
     "name": "stdout",
     "output_type": "stream",
     "text": [
      "Starting experimental run with id: 14. \n"
     ]
    }
   ],
   "source": [
    "sizes = [1,500,1000,2000,3000,4000,5000]\n",
    "t_numeric = []\n",
    "t_numeric_add = []\n",
    "t_array = []\n",
    "t_array_add = []\n",
    "for size in sizes:\n",
    "    tn, tna, run_id_n =  insert_data('numeric', size)\n",
    "    t_numeric.append(tn)\n",
    "    t_numeric_add.append(tna)\n",
    "\n",
    "    ta, taa, run_id_a =  insert_data('array', size)\n",
    "    t_array.append(ta)\n",
    "    t_array_add.append(taa)"
   ]
  },
  {
   "cell_type": "code",
   "execution_count": 6,
   "metadata": {
    "execution": {
     "iopub.execute_input": "2020-10-17T19:00:07.450042Z",
     "iopub.status.busy": "2020-10-17T19:00:07.443176Z",
     "iopub.status.idle": "2020-10-17T19:00:07.663806Z",
     "shell.execute_reply": "2020-10-17T19:00:07.664484Z"
    }
   },
   "outputs": [
    {
     "data": {
      "image/png": "[encoded data removed]",
      "text/plain": [
       "<Figure size 432x288 with 1 Axes>"
      ]
     },
     "metadata": {
      "needs_background": "light"
     },
     "output_type": "display_data"
    }
   ],
   "source": [
    "fig, ax = plt.subplots(1,1)\n",
    "ax.plot(sizes, t_numeric, 'o-', label='Inserting row-by-row')\n",
    "ax.plot(sizes, t_numeric_add, 'o-', label='Inserting row-by-row: add_result only')\n",
    "ax.plot(sizes, t_array, 'd-', label='Inserting as binary blob')\n",
    "ax.plot(sizes, t_array_add, 'd-', label='Inserting as binary blob: add_result only')\n",
    "ax.legend()\n",
    "ax.set_xlabel('Array length')\n",
    "ax.set_ylabel('Time (s)')\n",
    "fig.tight_layout()"
   ]
  },
  {
   "cell_type": "markdown",
   "metadata": {},
   "source": [
    "As shown in the latter figure, the time to setup and and close the experiment is approximately 0.4 sec. In case of small array sizes, the difference between inserting values of data as arrays and inserting them row-by-row is relatively unimportant. At larger array sizes, i.e. above 10000 points, the cost of writing data as individual datapoints starts to become important.\n"
   ]
  },
  {
   "cell_type": "markdown",
   "metadata": {},
   "source": [
    "### Case2: Long experiment time "
   ]
  },
  {
   "cell_type": "code",
   "execution_count": 7,
   "metadata": {
    "execution": {
     "iopub.execute_input": "2020-10-17T19:00:07.670786Z",
     "iopub.status.busy": "2020-10-17T19:00:07.669277Z",
     "iopub.status.idle": "2020-10-17T19:01:09.618308Z",
     "shell.execute_reply": "2020-10-17T19:01:09.617696Z"
    }
   },
   "outputs": [
    {
     "name": "stdout",
     "output_type": "stream",
     "text": [
      "Starting experimental run with id: 15. \n",
      "Starting experimental run with id: 16. \n",
      "Starting experimental run with id: 17. \n"
     ]
    },
    {
     "name": "stdout",
     "output_type": "stream",
     "text": [
      "Starting experimental run with id: 18. \n",
      "Starting experimental run with id: 19. \n"
     ]
    },
    {
     "name": "stdout",
     "output_type": "stream",
     "text": [
      "Starting experimental run with id: 20. \n"
     ]
    },
    {
     "name": "stdout",
     "output_type": "stream",
     "text": [
      "Starting experimental run with id: 21. \n"
     ]
    },
    {
     "name": "stdout",
     "output_type": "stream",
     "text": [
      "Starting experimental run with id: 22. \n"
     ]
    },
    {
     "name": "stdout",
     "output_type": "stream",
     "text": [
      "Starting experimental run with id: 23. \n"
     ]
    },
    {
     "name": "stdout",
     "output_type": "stream",
     "text": [
      "Starting experimental run with id: 24. \n"
     ]
    },
    {
     "name": "stdout",
     "output_type": "stream",
     "text": [
      "Starting experimental run with id: 25. \n"
     ]
    },
    {
     "name": "stdout",
     "output_type": "stream",
     "text": [
      "Starting experimental run with id: 26. \n"
     ]
    },
    {
     "name": "stdout",
     "output_type": "stream",
     "text": [
      "Starting experimental run with id: 27. \n"
     ]
    },
    {
     "name": "stdout",
     "output_type": "stream",
     "text": [
      "Starting experimental run with id: 28. \n"
     ]
    }
   ],
   "source": [
    "sizes = [1,500,1000,2000,3000,4000,5000]\n",
    "nreps = 100\n",
    "t_numeric = []\n",
    "t_numeric_add = []\n",
    "t_numeric_run_ids = []\n",
    "t_array = []\n",
    "t_array_add = []\n",
    "t_array_run_ids = []\n",
    "for size in sizes:\n",
    "    tn, tna, run_id_n =  insert_data('numeric', size, nreps=nreps)\n",
    "    t_numeric.append(tn)\n",
    "    t_numeric_add.append(tna)\n",
    "    t_numeric_run_ids.append(run_id_n)\n",
    "\n",
    "    ta, taa, run_id_a =  insert_data('array', size, nreps=nreps)\n",
    "    t_array.append(ta)\n",
    "    t_array_add.append(taa)\n",
    "    t_array_run_ids.append(run_id_a)"
   ]
  },
  {
   "cell_type": "code",
   "execution_count": 8,
   "metadata": {
    "execution": {
     "iopub.execute_input": "2020-10-17T19:01:09.650610Z",
     "iopub.status.busy": "2020-10-17T19:01:09.647002Z",
     "iopub.status.idle": "2020-10-17T19:01:09.848234Z",
     "shell.execute_reply": "2020-10-17T19:01:09.848720Z"
    },
    "scrolled": true
   },
   "outputs": [
    {
     "data": {
      "image/png": "[encoded data removed]",
      "text/plain": [
       "<Figure size 432x288 with 1 Axes>"
      ]
     },
     "metadata": {
      "needs_background": "light"
     },
     "output_type": "display_data"
    }
   ],
   "source": [
    "fig, ax = plt.subplots(1,1)\n",
    "ax.plot(sizes, t_numeric, 'o-', label='Inserting row-by-row')\n",
    "ax.plot(sizes, t_numeric_add, 'o-', label='Inserting row-by-row: add_result only')\n",
    "ax.plot(sizes, t_array, 'd-', label='Inserting as binary blob')\n",
    "ax.plot(sizes, t_array_add, 'd-', label='Inserting as binary blob: add_result only')\n",
    "ax.legend()\n",
    "ax.set_xlabel('Array length')\n",
    "ax.set_ylabel('Time (s)')\n",
    "fig.tight_layout()"
   ]
  },
  {
   "cell_type": "markdown",
   "metadata": {},
   "source": [
    "However, as we increase the length of the experiment, as seen here by repeating the insertion 100 times, we see a big difference between inserting values of the data row-by-row and inserting it as a binary blob."
   ]
  },
  {
   "cell_type": "markdown",
   "metadata": {},
   "source": [
    "## Loading the data "
   ]
  },
  {
   "cell_type": "code",
   "execution_count": 9,
   "metadata": {
    "execution": {
     "iopub.execute_input": "2020-10-17T19:01:09.853224Z",
     "iopub.status.busy": "2020-10-17T19:01:09.852143Z",
     "iopub.status.idle": "2020-10-17T19:01:09.855936Z",
     "shell.execute_reply": "2020-10-17T19:01:09.855443Z"
    }
   },
   "outputs": [],
   "source": [
    "from qcodes.dataset.data_set import load_by_id\n",
    "from qcodes.dataset.data_export import get_data_by_id"
   ]
  },
  {
   "cell_type": "markdown",
   "metadata": {},
   "source": [
    "As usual you can load the data by using the ``load_by_id`` function but you will notice that the different storage methods\n",
    "are reflected in shape of the data as it is retrieved. "
   ]
  },
  {
   "cell_type": "code",
   "execution_count": 10,
   "metadata": {
    "execution": {
     "iopub.execute_input": "2020-10-17T19:01:09.860539Z",
     "iopub.status.busy": "2020-10-17T19:01:09.859250Z",
     "iopub.status.idle": "2020-10-17T19:01:09.861111Z",
     "shell.execute_reply": "2020-10-17T19:01:09.861689Z"
    }
   },
   "outputs": [],
   "source": [
    "run_id_n = t_numeric_run_ids[0]\n",
    "run_id_a = t_array_run_ids[0]"
   ]
  },
  {
   "cell_type": "code",
   "execution_count": 11,
   "metadata": {
    "execution": {
     "iopub.execute_input": "2020-10-17T19:01:09.865056Z",
     "iopub.status.busy": "2020-10-17T19:01:09.864479Z",
     "iopub.status.idle": "2020-10-17T19:01:09.873937Z",
     "shell.execute_reply": "2020-10-17T19:01:09.874569Z"
    },
    "scrolled": true
   },
   "outputs": [
    {
     "data": {
      "text/plain": [
       "{'x1': {'x1': array([0.05764277, 0.05764277, 0.30623642, 0.30623642, 0.52509324,\n",
       "         0.52509324, 0.43622963, 0.43622963, 0.76527717, 0.76527717,\n",
       "         0.93098617, 0.93098617, 0.31216225, 0.31216225, 0.56330838,\n",
       "         0.56330838, 0.99899058, 0.99899058, 0.86710275, 0.86710275,\n",
       "         0.98985169, 0.98985169, 0.44138705, 0.44138705, 0.97172757,\n",
       "         0.97172757, 0.7720637 , 0.7720637 , 0.2462356 , 0.2462356 ,\n",
       "         0.21903653, 0.21903653, 0.59094493, 0.59094493, 0.69683224,\n",
       "         0.69683224, 0.07245983, 0.07245983, 0.44511323, 0.44511323,\n",
       "         0.46203125, 0.46203125, 0.85904063, 0.85904063, 0.28221692,\n",
       "         0.28221692, 0.9001267 , 0.9001267 , 0.07632613, 0.07632613,\n",
       "         0.75153332, 0.75153332, 0.03653515, 0.03653515, 0.56608051,\n",
       "         0.56608051, 0.97673855, 0.97673855, 0.75291124, 0.75291124,\n",
       "         0.27849354, 0.27849354, 0.78166846, 0.78166846, 0.4615725 ,\n",
       "         0.4615725 , 0.65624088, 0.65624088, 0.3889354 , 0.3889354 ,\n",
       "         0.81345538, 0.81345538, 0.84810204, 0.84810204, 0.30970817,\n",
       "         0.30970817, 0.58007092, 0.58007092, 0.18900917, 0.18900917,\n",
       "         0.49761706, 0.49761706, 0.73816114, 0.73816114, 0.58408977,\n",
       "         0.58408977, 0.65309144, 0.65309144, 0.07109567, 0.07109567,\n",
       "         0.12040273, 0.12040273, 0.74023203, 0.74023203, 0.08716689,\n",
       "         0.08716689, 0.77587406, 0.77587406, 0.47697198, 0.47697198,\n",
       "         0.15960783, 0.15960783, 0.06558352, 0.06558352, 0.97715484,\n",
       "         0.97715484, 0.99861989, 0.99861989, 0.5942721 , 0.5942721 ,\n",
       "         0.637083  , 0.637083  , 0.71306828, 0.71306828, 0.70596223,\n",
       "         0.70596223, 0.44823333, 0.44823333, 0.87994474, 0.87994474,\n",
       "         0.92893165, 0.92893165, 0.98393675, 0.98393675, 0.91062325,\n",
       "         0.91062325, 0.83378775, 0.83378775, 0.74667901, 0.74667901,\n",
       "         0.75606419, 0.75606419, 0.50062482, 0.50062482, 0.30455951,\n",
       "         0.30455951, 0.97782406, 0.97782406, 0.20442825, 0.20442825,\n",
       "         0.10437023, 0.10437023, 0.56605159, 0.56605159, 0.07750699,\n",
       "         0.07750699, 0.03279874, 0.03279874, 0.43715155, 0.43715155,\n",
       "         0.20330318, 0.20330318, 0.95286732, 0.95286732, 0.46904385,\n",
       "         0.46904385, 0.56818132, 0.56818132, 0.82389041, 0.82389041,\n",
       "         0.38638207, 0.38638207, 0.15273442, 0.15273442, 0.11359916,\n",
       "         0.11359916, 0.70618921, 0.70618921, 0.35615971, 0.35615971,\n",
       "         0.88535973, 0.88535973, 0.66226259, 0.66226259, 0.21332644,\n",
       "         0.21332644, 0.05207577, 0.05207577, 0.96103786, 0.96103786,\n",
       "         0.05163383, 0.05163383, 0.6928327 , 0.6928327 , 0.4952937 ,\n",
       "         0.4952937 , 0.11204016, 0.11204016, 0.08372377, 0.08372377,\n",
       "         0.45586739, 0.45586739, 0.02270834, 0.02270834, 0.95133146,\n",
       "         0.95133146, 0.75647571, 0.75647571, 0.52225965, 0.52225965])}}"
      ]
     },
     "execution_count": 1,
     "metadata": {},
     "output_type": "execute_result"
    }
   ],
   "source": [
    "ds = load_by_id(run_id_n)\n",
    "ds.get_parameter_data('x1')"
   ]
  },
  {
   "cell_type": "markdown",
   "metadata": {},
   "source": [
    "And a dataset stored as binary arrays"
   ]
  },
  {
   "cell_type": "code",
   "execution_count": 12,
   "metadata": {
    "execution": {
     "iopub.execute_input": "2020-10-17T19:01:09.878286Z",
     "iopub.status.busy": "2020-10-17T19:01:09.877677Z",
     "iopub.status.idle": "2020-10-17T19:01:09.941208Z",
     "shell.execute_reply": "2020-10-17T19:01:09.941821Z"
    },
    "scrolled": true
   },
   "outputs": [
    {
     "data": {
      "text/plain": [
       "{'x1': {'x1': array([[0.90977587],\n",
       "         [0.90977587],\n",
       "         [0.29006306],\n",
       "         [0.29006306],\n",
       "         [0.9582931 ],\n",
       "         [0.9582931 ],\n",
       "         [0.79399932],\n",
       "         [0.79399932],\n",
       "         [0.15629313],\n",
       "         [0.15629313],\n",
       "         [0.24353989],\n",
       "         [0.24353989],\n",
       "         [0.99378999],\n",
       "         [0.99378999],\n",
       "         [0.10662499],\n",
       "         [0.10662499],\n",
       "         [0.70334568],\n",
       "         [0.70334568],\n",
       "         [0.7567317 ],\n",
       "         [0.7567317 ],\n",
       "         [0.79352095],\n",
       "         [0.79352095],\n",
       "         [0.54128916],\n",
       "         [0.54128916],\n",
       "         [0.81873983],\n",
       "         [0.81873983],\n",
       "         [0.04177255],\n",
       "         [0.04177255],\n",
       "         [0.74673798],\n",
       "         [0.74673798],\n",
       "         [0.58514229],\n",
       "         [0.58514229],\n",
       "         [0.68237645],\n",
       "         [0.68237645],\n",
       "         [0.80984205],\n",
       "         [0.80984205],\n",
       "         [0.90943765],\n",
       "         [0.90943765],\n",
       "         [0.3483361 ],\n",
       "         [0.3483361 ],\n",
       "         [0.89490229],\n",
       "         [0.89490229],\n",
       "         [0.92117727],\n",
       "         [0.92117727],\n",
       "         [0.48537282],\n",
       "         [0.48537282],\n",
       "         [0.2372378 ],\n",
       "         [0.2372378 ],\n",
       "         [0.25131487],\n",
       "         [0.25131487],\n",
       "         [0.15669348],\n",
       "         [0.15669348],\n",
       "         [0.65711988],\n",
       "         [0.65711988],\n",
       "         [0.37947333],\n",
       "         [0.37947333],\n",
       "         [0.96535068],\n",
       "         [0.96535068],\n",
       "         [0.46881118],\n",
       "         [0.46881118],\n",
       "         [0.34334782],\n",
       "         [0.34334782],\n",
       "         [0.37032222],\n",
       "         [0.37032222],\n",
       "         [0.88891495],\n",
       "         [0.88891495],\n",
       "         [0.35582126],\n",
       "         [0.35582126],\n",
       "         [0.82741261],\n",
       "         [0.82741261],\n",
       "         [0.62839487],\n",
       "         [0.62839487],\n",
       "         [0.61018251],\n",
       "         [0.61018251],\n",
       "         [0.39713925],\n",
       "         [0.39713925],\n",
       "         [0.84492106],\n",
       "         [0.84492106],\n",
       "         [0.16096488],\n",
       "         [0.16096488],\n",
       "         [0.18795788],\n",
       "         [0.18795788],\n",
       "         [0.97241392],\n",
       "         [0.97241392],\n",
       "         [0.92022875],\n",
       "         [0.92022875],\n",
       "         [0.82234122],\n",
       "         [0.82234122],\n",
       "         [0.53053351],\n",
       "         [0.53053351],\n",
       "         [0.173014  ],\n",
       "         [0.173014  ],\n",
       "         [0.82211943],\n",
       "         [0.82211943],\n",
       "         [0.99379529],\n",
       "         [0.99379529],\n",
       "         [0.76251783],\n",
       "         [0.76251783],\n",
       "         [0.2775939 ],\n",
       "         [0.2775939 ],\n",
       "         [0.45882729],\n",
       "         [0.45882729],\n",
       "         [0.07299867],\n",
       "         [0.07299867],\n",
       "         [0.02145744],\n",
       "         [0.02145744],\n",
       "         [0.81323071],\n",
       "         [0.81323071],\n",
       "         [0.96897912],\n",
       "         [0.96897912],\n",
       "         [0.62212661],\n",
       "         [0.62212661],\n",
       "         [0.54822676],\n",
       "         [0.54822676],\n",
       "         [0.19125662],\n",
       "         [0.19125662],\n",
       "         [0.72165146],\n",
       "         [0.72165146],\n",
       "         [0.60785386],\n",
       "         [0.60785386],\n",
       "         [0.80783247],\n",
       "         [0.80783247],\n",
       "         [0.43200379],\n",
       "         [0.43200379],\n",
       "         [0.69115511],\n",
       "         [0.69115511],\n",
       "         [0.89000612],\n",
       "         [0.89000612],\n",
       "         [0.61595943],\n",
       "         [0.61595943],\n",
       "         [0.9516254 ],\n",
       "         [0.9516254 ],\n",
       "         [0.92504304],\n",
       "         [0.92504304],\n",
       "         [0.72167533],\n",
       "         [0.72167533],\n",
       "         [0.90494835],\n",
       "         [0.90494835],\n",
       "         [0.87420288],\n",
       "         [0.87420288],\n",
       "         [0.10949626],\n",
       "         [0.10949626],\n",
       "         [0.61630112],\n",
       "         [0.61630112],\n",
       "         [0.41290357],\n",
       "         [0.41290357],\n",
       "         [0.68250909],\n",
       "         [0.68250909],\n",
       "         [0.00279783],\n",
       "         [0.00279783],\n",
       "         [0.87578092],\n",
       "         [0.87578092],\n",
       "         [0.40700739],\n",
       "         [0.40700739],\n",
       "         [0.5414621 ],\n",
       "         [0.5414621 ],\n",
       "         [0.68801958],\n",
       "         [0.68801958],\n",
       "         [0.50640817],\n",
       "         [0.50640817],\n",
       "         [0.5776509 ],\n",
       "         [0.5776509 ],\n",
       "         [0.5819685 ],\n",
       "         [0.5819685 ],\n",
       "         [0.154077  ],\n",
       "         [0.154077  ],\n",
       "         [0.9265037 ],\n",
       "         [0.9265037 ],\n",
       "         [0.42184027],\n",
       "         [0.42184027],\n",
       "         [0.29801821],\n",
       "         [0.29801821],\n",
       "         [0.04127679],\n",
       "         [0.04127679],\n",
       "         [0.69982279],\n",
       "         [0.69982279],\n",
       "         [0.19885319],\n",
       "         [0.19885319],\n",
       "         [0.34012324],\n",
       "         [0.34012324],\n",
       "         [0.47638198],\n",
       "         [0.47638198],\n",
       "         [0.92302535],\n",
       "         [0.92302535],\n",
       "         [0.81746811],\n",
       "         [0.81746811],\n",
       "         [0.35685283],\n",
       "         [0.35685283],\n",
       "         [0.10084915],\n",
       "         [0.10084915],\n",
       "         [0.63652548],\n",
       "         [0.63652548],\n",
       "         [0.95366359],\n",
       "         [0.95366359],\n",
       "         [0.47137849],\n",
       "         [0.47137849],\n",
       "         [0.94987318],\n",
       "         [0.94987318],\n",
       "         [0.81670094],\n",
       "         [0.81670094]])}}"
      ]
     },
     "execution_count": 1,
     "metadata": {},
     "output_type": "execute_result"
    }
   ],
   "source": [
    "ds = load_by_id(run_id_a)\n",
    "ds.get_parameter_data('x1')"
   ]
  },
  {
   "cell_type": "code",
   "execution_count": null,
   "metadata": {},
   "outputs": [],
   "source": []
  }
 ],
 "metadata": {
  "kernelspec": {
   "display_name": "Python 3",
   "language": "python",
   "name": "python3"
  },
  "language_info": {
   "codemirror_mode": {
    "name": "ipython",
    "version": 3
   },
   "file_extension": ".py",
   "mimetype": "text/x-python",
   "name": "python",
   "nbconvert_exporter": "python",
   "pygments_lexer": "ipython3",
   "version": "3.7.7"
  },
  "nbsphinx": {
   "timeout": 600
  },
  "toc": {
   "base_numbering": 1,
   "nav_menu": {},
   "number_sections": true,
   "sideBar": true,
   "skip_h1_title": false,
   "title_cell": "Table of Contents",
   "title_sidebar": "Contents",
   "toc_cell": false,
   "toc_position": {},
   "toc_section_display": true,
   "toc_window_display": false
  },
  "varInspector": {
   "cols": {
    "lenName": 16,
    "lenType": 16,
    "lenVar": 40
   },
   "kernels_config": {
    "python": {
     "delete_cmd_postfix": "",
     "delete_cmd_prefix": "del ",
     "library": "var_list.py",
     "varRefreshCmd": "print(var_dic_list())"
    },
    "r": {
     "delete_cmd_postfix": ") ",
     "delete_cmd_prefix": "rm(",
     "library": "var_list.r",
     "varRefreshCmd": "cat(var_dic_list()) "
    }
   },
   "types_to_exclude": [
    "module",
    "function",
    "builtin_function_or_method",
    "instance",
    "_Feature"
   ],
   "window_display": false
  }
 },
 "nbformat": 4,
 "nbformat_minor": 2
}
