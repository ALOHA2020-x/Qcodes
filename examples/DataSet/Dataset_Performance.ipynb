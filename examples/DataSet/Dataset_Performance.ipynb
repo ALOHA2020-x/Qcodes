{
 "cells": [
  {
   "cell_type": "markdown",
   "metadata": {},
   "source": [
    "# DataSet Performance\n",
    "\n",
    "This notebook shows the trade-off between inserting data into a database row-by-row and as binary blobs. Inserting the data row-by-row means that we have direct access to all the data and may perform queries directly on the values of the data. On the other hand, as we shall see, this is much slower than inserting the data directly as binary blobs."
   ]
  },
  {
   "cell_type": "markdown",
   "metadata": {},
   "source": [
    "First, we choose a new location for the database to ensure that we don't add a bunch of benchmarking data to the default one."
   ]
  },
  {
   "cell_type": "code",
   "execution_count": 1,
   "metadata": {
    "execution": {
     "iopub.execute_input": "2021-02-05T16:37:53.719533Z",
     "iopub.status.busy": "2021-02-05T16:37:53.718998Z",
     "iopub.status.idle": "2021-02-05T16:37:54.732370Z",
     "shell.execute_reply": "2021-02-05T16:37:54.731807Z"
    }
   },
   "outputs": [
    {
     "name": "stdout",
     "output_type": "stream",
     "text": [
      "Logging hadn't been started.\n",
      "Activating auto-logging. Current session state plus future input saved.\n",
      "Filename       : /home/vsts/.qcodes/logs/command_history.log\n",
      "Mode           : append\n",
      "Output logging : True\n",
      "Raw input log  : False\n",
      "Timestamping   : True\n",
      "State          : active\n"
     ]
    },
    {
     "name": "stdout",
     "output_type": "stream",
     "text": [
      "Qcodes Logfile : /home/vsts/.qcodes/logs/210205-13697-qcodes.log\n"
     ]
    }
   ],
   "source": [
    "import os\n",
    "cwd = os.getcwd()\n",
    "import qcodes as qc\n",
    "qc.config[\"core\"][\"db_location\"] = os.path.join(cwd, 'testing.db')\n"
   ]
  },
  {
   "cell_type": "code",
   "execution_count": 2,
   "metadata": {
    "execution": {
     "iopub.execute_input": "2021-02-05T16:37:54.738950Z",
     "iopub.status.busy": "2021-02-05T16:37:54.738074Z",
     "iopub.status.idle": "2021-02-05T16:37:54.925904Z",
     "shell.execute_reply": "2021-02-05T16:37:54.925048Z"
    }
   },
   "outputs": [],
   "source": [
    "%matplotlib inline\n",
    "import time\n",
    "import matplotlib.pyplot as plt\n",
    "import numpy as np\n",
    "\n",
    "import qcodes as qc\n",
    "from qcodes.instrument.parameter import ManualParameter\n",
    "from qcodes.dataset.experiment_container import (Experiment,\n",
    "                                                 load_last_experiment,\n",
    "                                                 new_experiment)\n",
    "from qcodes.dataset.sqlite.database import initialise_database\n",
    "from qcodes import load_or_create_experiment\n",
    "from qcodes.dataset.measurements import Measurement"
   ]
  },
  {
   "cell_type": "code",
   "execution_count": 3,
   "metadata": {
    "execution": {
     "iopub.execute_input": "2021-02-05T16:37:54.931221Z",
     "iopub.status.busy": "2021-02-05T16:37:54.930038Z",
     "iopub.status.idle": "2021-02-05T16:37:55.032155Z",
     "shell.execute_reply": "2021-02-05T16:37:55.031667Z"
    }
   },
   "outputs": [
    {
     "name": "stdout",
     "output_type": "stream",
     "text": [
      "\r",
      "0it [00:00, ?it/s]"
     ]
    },
    {
     "name": "stdout",
     "output_type": "stream",
     "text": [
      "\r",
      "Upgrading database; v0 -> v1: : 0it [00:00, ?it/s]"
     ]
    },
    {
     "name": "stdout",
     "output_type": "stream",
     "text": [
      "\r",
      "Upgrading database; v0 -> v1: : 0it [00:00, ?it/s]"
     ]
    },
    {
     "name": "stdout",
     "output_type": "stream",
     "text": [
      "\n",
      "\r",
      "  0%|          | 0/1 [00:00<?, ?it/s]"
     ]
    },
    {
     "name": "stdout",
     "output_type": "stream",
     "text": [
      "\r",
      "Upgrading database; v1 -> v2:   0%|          | 0/1 [00:00<?, ?it/s]"
     ]
    },
    {
     "name": "stdout",
     "output_type": "stream",
     "text": [
      "\r",
      "Upgrading database; v1 -> v2: 100%|██████████| 1/1 [00:00<00:00, 1203.88it/s]"
     ]
    },
    {
     "name": "stdout",
     "output_type": "stream",
     "text": [
      "\n",
      "\r",
      "0it [00:00, ?it/s]"
     ]
    },
    {
     "name": "stdout",
     "output_type": "stream",
     "text": [
      "\r",
      "Upgrading database; v2 -> v3: : 0it [00:00, ?it/s]"
     ]
    },
    {
     "name": "stdout",
     "output_type": "stream",
     "text": [
      "\r",
      "Upgrading database; v2 -> v3: : 0it [00:00, ?it/s]"
     ]
    },
    {
     "name": "stdout",
     "output_type": "stream",
     "text": [
      "\n",
      "\r",
      "0it [00:00, ?it/s]"
     ]
    },
    {
     "name": "stdout",
     "output_type": "stream",
     "text": [
      "\r",
      "Upgrading database; v3 -> v4: : 0it [00:00, ?it/s]"
     ]
    },
    {
     "name": "stdout",
     "output_type": "stream",
     "text": [
      "\r",
      "Upgrading database; v3 -> v4: : 0it [00:00, ?it/s]"
     ]
    },
    {
     "name": "stdout",
     "output_type": "stream",
     "text": [
      "\n",
      "\r",
      "  0%|          | 0/1 [00:00<?, ?it/s]"
     ]
    },
    {
     "name": "stdout",
     "output_type": "stream",
     "text": [
      "\r",
      "Upgrading database; v4 -> v5:   0%|          | 0/1 [00:00<?, ?it/s]"
     ]
    },
    {
     "name": "stdout",
     "output_type": "stream",
     "text": [
      "\r",
      "Upgrading database; v4 -> v5: 100%|██████████| 1/1 [00:00<00:00, 1131.46it/s]"
     ]
    },
    {
     "name": "stdout",
     "output_type": "stream",
     "text": [
      "\n",
      "\r",
      "0it [00:00, ?it/s]"
     ]
    },
    {
     "name": "stdout",
     "output_type": "stream",
     "text": [
      "\r",
      "Upgrading database; v5 -> v6: : 0it [00:00, ?it/s]"
     ]
    },
    {
     "name": "stdout",
     "output_type": "stream",
     "text": [
      "\r",
      "Upgrading database; v5 -> v6: : 0it [00:00, ?it/s]"
     ]
    },
    {
     "name": "stdout",
     "output_type": "stream",
     "text": [
      "\n",
      "\r",
      "  0%|          | 0/1 [00:00<?, ?it/s]"
     ]
    },
    {
     "name": "stdout",
     "output_type": "stream",
     "text": [
      "\r",
      "Upgrading database; v6 -> v7:   0%|          | 0/1 [00:00<?, ?it/s]"
     ]
    },
    {
     "name": "stdout",
     "output_type": "stream",
     "text": [
      "\r",
      "Upgrading database; v6 -> v7: 100%|██████████| 1/1 [00:00<00:00, 340.53it/s]"
     ]
    },
    {
     "name": "stdout",
     "output_type": "stream",
     "text": [
      "\n",
      "\r",
      "  0%|          | 0/1 [00:00<?, ?it/s]"
     ]
    },
    {
     "name": "stdout",
     "output_type": "stream",
     "text": [
      "\r",
      "Upgrading database; v7 -> v8:   0%|          | 0/1 [00:00<?, ?it/s]"
     ]
    },
    {
     "name": "stdout",
     "output_type": "stream",
     "text": [
      "\r",
      "Upgrading database; v7 -> v8: 100%|██████████| 1/1 [00:00<00:00, 434.06it/s]"
     ]
    },
    {
     "name": "stdout",
     "output_type": "stream",
     "text": [
      "\n",
      "\r",
      "  0%|          | 0/1 [00:00<?, ?it/s]"
     ]
    },
    {
     "name": "stdout",
     "output_type": "stream",
     "text": [
      "\r",
      "Upgrading database; v8 -> v9:   0%|          | 0/1 [00:00<?, ?it/s]"
     ]
    },
    {
     "name": "stdout",
     "output_type": "stream",
     "text": [
      "\r",
      "Upgrading database; v8 -> v9: 100%|██████████| 1/1 [00:00<00:00, 558.35it/s]"
     ]
    },
    {
     "name": "stdout",
     "output_type": "stream",
     "text": [
      "\n"
     ]
    }
   ],
   "source": [
    "initialise_database()\n",
    "exp = load_or_create_experiment(experiment_name='tutorial_exp', sample_name=\"no sample\")"
   ]
  },
  {
   "cell_type": "markdown",
   "metadata": {},
   "source": [
    "Here, we define a simple function to benchmark the time it takes to insert n points with either numeric or array data type.\n",
    "We will compare both the time used to call ``add_result`` and the time used for the full measurement."
   ]
  },
  {
   "cell_type": "code",
   "execution_count": 4,
   "metadata": {
    "execution": {
     "iopub.execute_input": "2021-02-05T16:37:55.040155Z",
     "iopub.status.busy": "2021-02-05T16:37:55.038753Z",
     "iopub.status.idle": "2021-02-05T16:37:55.043162Z",
     "shell.execute_reply": "2021-02-05T16:37:55.042661Z"
    }
   },
   "outputs": [],
   "source": [
    "def insert_data(paramtype, npoints, nreps=1):\n",
    "\n",
    "    meas = Measurement(exp=exp)\n",
    "\n",
    "    x1 = ManualParameter('x1')\n",
    "    x2 = ManualParameter('x2')\n",
    "    x3 = ManualParameter('x3')\n",
    "    y1 = ManualParameter('y1')\n",
    "    y2 = ManualParameter('y2')\n",
    "\n",
    "    meas.register_parameter(x1, paramtype=paramtype)\n",
    "    meas.register_parameter(x2, paramtype=paramtype)\n",
    "    meas.register_parameter(x3, paramtype=paramtype)\n",
    "    meas.register_parameter(y1, setpoints=[x1, x2, x3],\n",
    "                            paramtype=paramtype)\n",
    "    meas.register_parameter(y2, setpoints=[x1, x2, x3],\n",
    "                            paramtype=paramtype)\n",
    "    start = time.perf_counter()\n",
    "    with meas.run() as datasaver:\n",
    "        start_adding = time.perf_counter()\n",
    "        for i in range(nreps):\n",
    "            datasaver.add_result((x1, np.random.rand(npoints)),\n",
    "                                 (x2, np.random.rand(npoints)),\n",
    "                                 (x3, np.random.rand(npoints)),\n",
    "                                 (y1, np.random.rand(npoints)),\n",
    "                                 (y2, np.random.rand(npoints)))\n",
    "        stop_adding = time.perf_counter()\n",
    "        run_id = datasaver.run_id\n",
    "    stop = time.perf_counter()\n",
    "    tot_time = stop - start\n",
    "    add_time = stop_adding - start_adding\n",
    "    return tot_time, add_time, run_id"
   ]
  },
  {
   "cell_type": "markdown",
   "metadata": {},
   "source": [
    "## Comparison between numeric/array data and binary blob"
   ]
  },
  {
   "cell_type": "markdown",
   "metadata": {},
   "source": [
    "### Case1: Short experiment time"
   ]
  },
  {
   "cell_type": "code",
   "execution_count": 5,
   "metadata": {
    "execution": {
     "iopub.execute_input": "2021-02-05T16:37:55.048863Z",
     "iopub.status.busy": "2021-02-05T16:37:55.048275Z",
     "iopub.status.idle": "2021-02-05T16:37:55.805311Z",
     "shell.execute_reply": "2021-02-05T16:37:55.805743Z"
    }
   },
   "outputs": [
    {
     "name": "stdout",
     "output_type": "stream",
     "text": [
      "Starting experimental run with id: 1. \n",
      "Starting experimental run with id: 2. \n",
      "Starting experimental run with id: 3. \n",
      "Starting experimental run with id: 4. \n",
      "Starting experimental run with id: 5. \n"
     ]
    },
    {
     "name": "stdout",
     "output_type": "stream",
     "text": [
      "Starting experimental run with id: 6. \n"
     ]
    },
    {
     "name": "stdout",
     "output_type": "stream",
     "text": [
      "Starting experimental run with id: 7. \n"
     ]
    },
    {
     "name": "stdout",
     "output_type": "stream",
     "text": [
      "Starting experimental run with id: 8. \n",
      "Starting experimental run with id: 9. \n"
     ]
    },
    {
     "name": "stdout",
     "output_type": "stream",
     "text": [
      "Starting experimental run with id: 10. \n",
      "Starting experimental run with id: 11. \n"
     ]
    },
    {
     "name": "stdout",
     "output_type": "stream",
     "text": [
      "Starting experimental run with id: 12. \n",
      "Starting experimental run with id: 13. \n"
     ]
    },
    {
     "name": "stdout",
     "output_type": "stream",
     "text": [
      "Starting experimental run with id: 14. \n"
     ]
    }
   ],
   "source": [
    "sizes = [1,500,1000,2000,3000,4000,5000]\n",
    "t_numeric = []\n",
    "t_numeric_add = []\n",
    "t_array = []\n",
    "t_array_add = []\n",
    "for size in sizes:\n",
    "    tn, tna, run_id_n =  insert_data('numeric', size)\n",
    "    t_numeric.append(tn)\n",
    "    t_numeric_add.append(tna)\n",
    "\n",
    "    ta, taa, run_id_a =  insert_data('array', size)\n",
    "    t_array.append(ta)\n",
    "    t_array_add.append(taa)"
   ]
  },
  {
   "cell_type": "code",
   "execution_count": 6,
   "metadata": {
    "execution": {
     "iopub.execute_input": "2021-02-05T16:37:55.832250Z",
     "iopub.status.busy": "2021-02-05T16:37:55.822423Z",
     "iopub.status.idle": "2021-02-05T16:37:55.995750Z",
     "shell.execute_reply": "2021-02-05T16:37:55.996183Z"
    }
   },
   "outputs": [
    {
     "data": {
      "image/png": "[encoded data removed]",
      "text/plain": [
       "<Figure size 432x288 with 1 Axes>"
      ]
     },
     "metadata": {
      "needs_background": "light"
     },
     "output_type": "display_data"
    }
   ],
   "source": [
    "fig, ax = plt.subplots(1,1)\n",
    "ax.plot(sizes, t_numeric, 'o-', label='Inserting row-by-row')\n",
    "ax.plot(sizes, t_numeric_add, 'o-', label='Inserting row-by-row: add_result only')\n",
    "ax.plot(sizes, t_array, 'd-', label='Inserting as binary blob')\n",
    "ax.plot(sizes, t_array_add, 'd-', label='Inserting as binary blob: add_result only')\n",
    "ax.legend()\n",
    "ax.set_xlabel('Array length')\n",
    "ax.set_ylabel('Time (s)')\n",
    "fig.tight_layout()"
   ]
  },
  {
   "cell_type": "markdown",
   "metadata": {},
   "source": [
    "As shown in the latter figure, the time to setup and and close the experiment is approximately 0.4 sec. In case of small array sizes, the difference between inserting values of data as arrays and inserting them row-by-row is relatively unimportant. At larger array sizes, i.e. above 10000 points, the cost of writing data as individual datapoints starts to become important.\n"
   ]
  },
  {
   "cell_type": "markdown",
   "metadata": {},
   "source": [
    "### Case2: Long experiment time "
   ]
  },
  {
   "cell_type": "code",
   "execution_count": 7,
   "metadata": {
    "execution": {
     "iopub.execute_input": "2021-02-05T16:37:55.998911Z",
     "iopub.status.busy": "2021-02-05T16:37:55.998338Z",
     "iopub.status.idle": "2021-02-05T16:38:49.766094Z",
     "shell.execute_reply": "2021-02-05T16:38:49.765225Z"
    }
   },
   "outputs": [
    {
     "name": "stdout",
     "output_type": "stream",
     "text": [
      "Starting experimental run with id: 15. \n",
      "Starting experimental run with id: 16. \n",
      "Starting experimental run with id: 17. \n"
     ]
    },
    {
     "name": "stdout",
     "output_type": "stream",
     "text": [
      "Starting experimental run with id: 18. \n",
      "Starting experimental run with id: 19. \n"
     ]
    },
    {
     "name": "stdout",
     "output_type": "stream",
     "text": [
      "Starting experimental run with id: 20. \n"
     ]
    },
    {
     "name": "stdout",
     "output_type": "stream",
     "text": [
      "Starting experimental run with id: 21. \n"
     ]
    },
    {
     "name": "stdout",
     "output_type": "stream",
     "text": [
      "Starting experimental run with id: 22. \n"
     ]
    },
    {
     "name": "stdout",
     "output_type": "stream",
     "text": [
      "Starting experimental run with id: 23. \n"
     ]
    },
    {
     "name": "stdout",
     "output_type": "stream",
     "text": [
      "Starting experimental run with id: 24. \n"
     ]
    },
    {
     "name": "stdout",
     "output_type": "stream",
     "text": [
      "Starting experimental run with id: 25. \n"
     ]
    },
    {
     "name": "stdout",
     "output_type": "stream",
     "text": [
      "Starting experimental run with id: 26. \n"
     ]
    },
    {
     "name": "stdout",
     "output_type": "stream",
     "text": [
      "Starting experimental run with id: 27. \n"
     ]
    },
    {
     "name": "stdout",
     "output_type": "stream",
     "text": [
      "Starting experimental run with id: 28. \n"
     ]
    }
   ],
   "source": [
    "sizes = [1,500,1000,2000,3000,4000,5000]\n",
    "nreps = 100\n",
    "t_numeric = []\n",
    "t_numeric_add = []\n",
    "t_numeric_run_ids = []\n",
    "t_array = []\n",
    "t_array_add = []\n",
    "t_array_run_ids = []\n",
    "for size in sizes:\n",
    "    tn, tna, run_id_n =  insert_data('numeric', size, nreps=nreps)\n",
    "    t_numeric.append(tn)\n",
    "    t_numeric_add.append(tna)\n",
    "    t_numeric_run_ids.append(run_id_n)\n",
    "\n",
    "    ta, taa, run_id_a =  insert_data('array', size, nreps=nreps)\n",
    "    t_array.append(ta)\n",
    "    t_array_add.append(taa)\n",
    "    t_array_run_ids.append(run_id_a)"
   ]
  },
  {
   "cell_type": "code",
   "execution_count": 8,
   "metadata": {
    "execution": {
     "iopub.execute_input": "2021-02-05T16:38:49.804520Z",
     "iopub.status.busy": "2021-02-05T16:38:49.803594Z",
     "iopub.status.idle": "2021-02-05T16:38:49.956925Z",
     "shell.execute_reply": "2021-02-05T16:38:49.957393Z"
    },
    "scrolled": true
   },
   "outputs": [
    {
     "data": {
      "image/png": "[encoded data removed]",
      "text/plain": [
       "<Figure size 432x288 with 1 Axes>"
      ]
     },
     "metadata": {
      "needs_background": "light"
     },
     "output_type": "display_data"
    }
   ],
   "source": [
    "fig, ax = plt.subplots(1,1)\n",
    "ax.plot(sizes, t_numeric, 'o-', label='Inserting row-by-row')\n",
    "ax.plot(sizes, t_numeric_add, 'o-', label='Inserting row-by-row: add_result only')\n",
    "ax.plot(sizes, t_array, 'd-', label='Inserting as binary blob')\n",
    "ax.plot(sizes, t_array_add, 'd-', label='Inserting as binary blob: add_result only')\n",
    "ax.legend()\n",
    "ax.set_xlabel('Array length')\n",
    "ax.set_ylabel('Time (s)')\n",
    "fig.tight_layout()"
   ]
  },
  {
   "cell_type": "markdown",
   "metadata": {},
   "source": [
    "However, as we increase the length of the experiment, as seen here by repeating the insertion 100 times, we see a big difference between inserting values of the data row-by-row and inserting it as a binary blob."
   ]
  },
  {
   "cell_type": "markdown",
   "metadata": {},
   "source": [
    "## Loading the data "
   ]
  },
  {
   "cell_type": "code",
   "execution_count": 9,
   "metadata": {
    "execution": {
     "iopub.execute_input": "2021-02-05T16:38:49.960068Z",
     "iopub.status.busy": "2021-02-05T16:38:49.959528Z",
     "iopub.status.idle": "2021-02-05T16:38:49.963022Z",
     "shell.execute_reply": "2021-02-05T16:38:49.963566Z"
    }
   },
   "outputs": [],
   "source": [
    "from qcodes.dataset.data_set import load_by_id\n",
    "from qcodes.dataset.data_export import get_data_by_id"
   ]
  },
  {
   "cell_type": "markdown",
   "metadata": {},
   "source": [
    "As usual you can load the data by using the ``load_by_id`` function but you will notice that the different storage methods\n",
    "are reflected in shape of the data as it is retrieved. "
   ]
  },
  {
   "cell_type": "code",
   "execution_count": 10,
   "metadata": {
    "execution": {
     "iopub.execute_input": "2021-02-05T16:38:49.966028Z",
     "iopub.status.busy": "2021-02-05T16:38:49.965492Z",
     "iopub.status.idle": "2021-02-05T16:38:49.969070Z",
     "shell.execute_reply": "2021-02-05T16:38:49.968582Z"
    }
   },
   "outputs": [],
   "source": [
    "run_id_n = t_numeric_run_ids[0]\n",
    "run_id_a = t_array_run_ids[0]"
   ]
  },
  {
   "cell_type": "code",
   "execution_count": 11,
   "metadata": {
    "execution": {
     "iopub.execute_input": "2021-02-05T16:38:49.972182Z",
     "iopub.status.busy": "2021-02-05T16:38:49.971653Z",
     "iopub.status.idle": "2021-02-05T16:38:49.980483Z",
     "shell.execute_reply": "2021-02-05T16:38:49.980944Z"
    },
    "scrolled": true
   },
   "outputs": [
    {
     "data": {
      "text/plain": [
       "{'x1': {'x1': array([0.75273787, 0.75273787, 0.19014602, 0.19014602, 0.62538765,\n",
       "         0.62538765, 0.84757905, 0.84757905, 0.29077634, 0.29077634,\n",
       "         0.37206683, 0.37206683, 0.41455013, 0.41455013, 0.08267539,\n",
       "         0.08267539, 0.18137179, 0.18137179, 0.29239791, 0.29239791,\n",
       "         0.11325259, 0.11325259, 0.56510285, 0.56510285, 0.75296841,\n",
       "         0.75296841, 0.71033816, 0.71033816, 0.71192152, 0.71192152,\n",
       "         0.1689641 , 0.1689641 , 0.52516829, 0.52516829, 0.51472288,\n",
       "         0.51472288, 0.1169133 , 0.1169133 , 0.83457611, 0.83457611,\n",
       "         0.41511072, 0.41511072, 0.34942281, 0.34942281, 0.39921365,\n",
       "         0.39921365, 0.65032468, 0.65032468, 0.92688168, 0.92688168,\n",
       "         0.86226568, 0.86226568, 0.69651136, 0.69651136, 0.99185875,\n",
       "         0.99185875, 0.8442587 , 0.8442587 , 0.58370397, 0.58370397,\n",
       "         0.75625916, 0.75625916, 0.14477739, 0.14477739, 0.76575725,\n",
       "         0.76575725, 0.55072913, 0.55072913, 0.14671804, 0.14671804,\n",
       "         0.08771247, 0.08771247, 0.80466015, 0.80466015, 0.05820264,\n",
       "         0.05820264, 0.63700402, 0.63700402, 0.11799739, 0.11799739,\n",
       "         0.84863675, 0.84863675, 0.7681504 , 0.7681504 , 0.54986301,\n",
       "         0.54986301, 0.21846888, 0.21846888, 0.85815578, 0.85815578,\n",
       "         0.89695169, 0.89695169, 0.64798118, 0.64798118, 0.20563263,\n",
       "         0.20563263, 0.58270883, 0.58270883, 0.54711812, 0.54711812,\n",
       "         0.00843273, 0.00843273, 0.75111867, 0.75111867, 0.34745083,\n",
       "         0.34745083, 0.29242557, 0.29242557, 0.93771388, 0.93771388,\n",
       "         0.88987283, 0.88987283, 0.91171553, 0.91171553, 0.30695267,\n",
       "         0.30695267, 0.28291253, 0.28291253, 0.28352237, 0.28352237,\n",
       "         0.19506185, 0.19506185, 0.48450555, 0.48450555, 0.20586152,\n",
       "         0.20586152, 0.61975592, 0.61975592, 0.79407183, 0.79407183,\n",
       "         0.04611077, 0.04611077, 0.71375581, 0.71375581, 0.1800354 ,\n",
       "         0.1800354 , 0.11172709, 0.11172709, 0.46992809, 0.46992809,\n",
       "         0.72299661, 0.72299661, 0.46945392, 0.46945392, 0.33157026,\n",
       "         0.33157026, 0.58274567, 0.58274567, 0.99291696, 0.99291696,\n",
       "         0.52659379, 0.52659379, 0.26588179, 0.26588179, 0.42534448,\n",
       "         0.42534448, 0.4624071 , 0.4624071 , 0.76894226, 0.76894226,\n",
       "         0.51790943, 0.51790943, 0.49567719, 0.49567719, 0.04243767,\n",
       "         0.04243767, 0.51246147, 0.51246147, 0.10049613, 0.10049613,\n",
       "         0.20947869, 0.20947869, 0.71028887, 0.71028887, 0.77042479,\n",
       "         0.77042479, 0.45385072, 0.45385072, 0.20079104, 0.20079104,\n",
       "         0.34209364, 0.34209364, 0.39419189, 0.39419189, 0.26849754,\n",
       "         0.26849754, 0.65140205, 0.65140205, 0.46876322, 0.46876322,\n",
       "         0.0048234 , 0.0048234 , 0.94055627, 0.94055627, 0.2955333 ,\n",
       "         0.2955333 , 0.3780659 , 0.3780659 , 0.00380895, 0.00380895])}}"
      ]
     },
     "execution_count": 1,
     "metadata": {},
     "output_type": "execute_result"
    }
   ],
   "source": [
    "ds = load_by_id(run_id_n)\n",
    "ds.get_parameter_data('x1')"
   ]
  },
  {
   "cell_type": "markdown",
   "metadata": {},
   "source": [
    "And a dataset stored as binary arrays"
   ]
  },
  {
   "cell_type": "code",
   "execution_count": 12,
   "metadata": {
    "execution": {
     "iopub.execute_input": "2021-02-05T16:38:49.984193Z",
     "iopub.status.busy": "2021-02-05T16:38:49.983650Z",
     "iopub.status.idle": "2021-02-05T16:38:50.034658Z",
     "shell.execute_reply": "2021-02-05T16:38:50.034233Z"
    },
    "scrolled": true
   },
   "outputs": [
    {
     "data": {
      "text/plain": [
       "{'x1': {'x1': array([[0.41735844],\n",
       "         [0.41735844],\n",
       "         [0.25166959],\n",
       "         [0.25166959],\n",
       "         [0.36420342],\n",
       "         [0.36420342],\n",
       "         [0.01458174],\n",
       "         [0.01458174],\n",
       "         [0.90429286],\n",
       "         [0.90429286],\n",
       "         [0.02939053],\n",
       "         [0.02939053],\n",
       "         [0.83356512],\n",
       "         [0.83356512],\n",
       "         [0.05738399],\n",
       "         [0.05738399],\n",
       "         [0.25873584],\n",
       "         [0.25873584],\n",
       "         [0.71697559],\n",
       "         [0.71697559],\n",
       "         [0.91162292],\n",
       "         [0.91162292],\n",
       "         [0.5989584 ],\n",
       "         [0.5989584 ],\n",
       "         [0.51168312],\n",
       "         [0.51168312],\n",
       "         [0.62645999],\n",
       "         [0.62645999],\n",
       "         [0.30249603],\n",
       "         [0.30249603],\n",
       "         [0.99610592],\n",
       "         [0.99610592],\n",
       "         [0.67484819],\n",
       "         [0.67484819],\n",
       "         [0.66847062],\n",
       "         [0.66847062],\n",
       "         [0.74616226],\n",
       "         [0.74616226],\n",
       "         [0.18234692],\n",
       "         [0.18234692],\n",
       "         [0.66314675],\n",
       "         [0.66314675],\n",
       "         [0.59008455],\n",
       "         [0.59008455],\n",
       "         [0.17832187],\n",
       "         [0.17832187],\n",
       "         [0.2319578 ],\n",
       "         [0.2319578 ],\n",
       "         [0.96333059],\n",
       "         [0.96333059],\n",
       "         [0.22908548],\n",
       "         [0.22908548],\n",
       "         [0.76539331],\n",
       "         [0.76539331],\n",
       "         [0.5503354 ],\n",
       "         [0.5503354 ],\n",
       "         [0.63009527],\n",
       "         [0.63009527],\n",
       "         [0.69716252],\n",
       "         [0.69716252],\n",
       "         [0.51677808],\n",
       "         [0.51677808],\n",
       "         [0.78947731],\n",
       "         [0.78947731],\n",
       "         [0.53498912],\n",
       "         [0.53498912],\n",
       "         [0.71094188],\n",
       "         [0.71094188],\n",
       "         [0.52817551],\n",
       "         [0.52817551],\n",
       "         [0.30389445],\n",
       "         [0.30389445],\n",
       "         [0.81599341],\n",
       "         [0.81599341],\n",
       "         [0.18196542],\n",
       "         [0.18196542],\n",
       "         [0.52463875],\n",
       "         [0.52463875],\n",
       "         [0.31065998],\n",
       "         [0.31065998],\n",
       "         [0.29893382],\n",
       "         [0.29893382],\n",
       "         [0.83635798],\n",
       "         [0.83635798],\n",
       "         [0.16461496],\n",
       "         [0.16461496],\n",
       "         [0.56292823],\n",
       "         [0.56292823],\n",
       "         [0.67616708],\n",
       "         [0.67616708],\n",
       "         [0.34647373],\n",
       "         [0.34647373],\n",
       "         [0.05678559],\n",
       "         [0.05678559],\n",
       "         [0.14042799],\n",
       "         [0.14042799],\n",
       "         [0.45234808],\n",
       "         [0.45234808],\n",
       "         [0.3506966 ],\n",
       "         [0.3506966 ],\n",
       "         [0.61673373],\n",
       "         [0.61673373],\n",
       "         [0.94157578],\n",
       "         [0.94157578],\n",
       "         [0.7054038 ],\n",
       "         [0.7054038 ],\n",
       "         [0.97200618],\n",
       "         [0.97200618],\n",
       "         [0.01490306],\n",
       "         [0.01490306],\n",
       "         [0.78080388],\n",
       "         [0.78080388],\n",
       "         [0.27093466],\n",
       "         [0.27093466],\n",
       "         [0.69762156],\n",
       "         [0.69762156],\n",
       "         [0.09613974],\n",
       "         [0.09613974],\n",
       "         [0.57993885],\n",
       "         [0.57993885],\n",
       "         [0.29096204],\n",
       "         [0.29096204],\n",
       "         [0.06114225],\n",
       "         [0.06114225],\n",
       "         [0.87831964],\n",
       "         [0.87831964],\n",
       "         [0.48672438],\n",
       "         [0.48672438],\n",
       "         [0.50071326],\n",
       "         [0.50071326],\n",
       "         [0.21624359],\n",
       "         [0.21624359],\n",
       "         [0.8055139 ],\n",
       "         [0.8055139 ],\n",
       "         [0.70689668],\n",
       "         [0.70689668],\n",
       "         [0.05726322],\n",
       "         [0.05726322],\n",
       "         [0.15450475],\n",
       "         [0.15450475],\n",
       "         [0.67824942],\n",
       "         [0.67824942],\n",
       "         [0.37907694],\n",
       "         [0.37907694],\n",
       "         [0.54974027],\n",
       "         [0.54974027],\n",
       "         [0.1515911 ],\n",
       "         [0.1515911 ],\n",
       "         [0.99887733],\n",
       "         [0.99887733],\n",
       "         [0.84903119],\n",
       "         [0.84903119],\n",
       "         [0.33764647],\n",
       "         [0.33764647],\n",
       "         [0.64981304],\n",
       "         [0.64981304],\n",
       "         [0.88823833],\n",
       "         [0.88823833],\n",
       "         [0.41157172],\n",
       "         [0.41157172],\n",
       "         [0.07550026],\n",
       "         [0.07550026],\n",
       "         [0.17660885],\n",
       "         [0.17660885],\n",
       "         [0.6063528 ],\n",
       "         [0.6063528 ],\n",
       "         [0.03007098],\n",
       "         [0.03007098],\n",
       "         [0.45884929],\n",
       "         [0.45884929],\n",
       "         [0.81151046],\n",
       "         [0.81151046],\n",
       "         [0.61968396],\n",
       "         [0.61968396],\n",
       "         [0.15019295],\n",
       "         [0.15019295],\n",
       "         [0.25030153],\n",
       "         [0.25030153],\n",
       "         [0.87166025],\n",
       "         [0.87166025],\n",
       "         [0.96879308],\n",
       "         [0.96879308],\n",
       "         [0.19077814],\n",
       "         [0.19077814],\n",
       "         [0.42466408],\n",
       "         [0.42466408],\n",
       "         [0.32459965],\n",
       "         [0.32459965],\n",
       "         [0.27147878],\n",
       "         [0.27147878],\n",
       "         [0.77198545],\n",
       "         [0.77198545],\n",
       "         [0.07883567],\n",
       "         [0.07883567],\n",
       "         [0.93243706],\n",
       "         [0.93243706],\n",
       "         [0.6475564 ],\n",
       "         [0.6475564 ],\n",
       "         [0.4202287 ],\n",
       "         [0.4202287 ]])}}"
      ]
     },
     "execution_count": 1,
     "metadata": {},
     "output_type": "execute_result"
    }
   ],
   "source": [
    "ds = load_by_id(run_id_a)\n",
    "ds.get_parameter_data('x1')"
   ]
  },
  {
   "cell_type": "code",
   "execution_count": null,
   "metadata": {},
   "outputs": [],
   "source": []
  }
 ],
 "metadata": {
  "kernelspec": {
   "display_name": "Python 3",
   "language": "python",
   "name": "python3"
  },
  "language_info": {
   "codemirror_mode": {
    "name": "ipython",
    "version": 3
   },
   "file_extension": ".py",
   "mimetype": "text/x-python",
   "name": "python",
   "nbconvert_exporter": "python",
   "pygments_lexer": "ipython3",
   "version": "3.7.9"
  },
  "nbsphinx": {
   "timeout": 600
  },
  "toc": {
   "base_numbering": 1,
   "nav_menu": {},
   "number_sections": true,
   "sideBar": true,
   "skip_h1_title": false,
   "title_cell": "Table of Contents",
   "title_sidebar": "Contents",
   "toc_cell": false,
   "toc_position": {},
   "toc_section_display": true,
   "toc_window_display": false
  },
  "varInspector": {
   "cols": {
    "lenName": 16,
    "lenType": 16,
    "lenVar": 40
   },
   "kernels_config": {
    "python": {
     "delete_cmd_postfix": "",
     "delete_cmd_prefix": "del ",
     "library": "var_list.py",
     "varRefreshCmd": "print(var_dic_list())"
    },
    "r": {
     "delete_cmd_postfix": ") ",
     "delete_cmd_prefix": "rm(",
     "library": "var_list.r",
     "varRefreshCmd": "cat(var_dic_list()) "
    }
   },
   "types_to_exclude": [
    "module",
    "function",
    "builtin_function_or_method",
    "instance",
    "_Feature"
   ],
   "window_display": false
  }
 },
 "nbformat": 4,
 "nbformat_minor": 2
}
