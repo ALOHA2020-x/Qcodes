{
 "cells": [
  {
   "cell_type": "markdown",
   "metadata": {},
   "source": [
    "# DataSet Performance\n",
    "\n",
    "This notebook shows the trade-off between inserting data into a database row-by-row and as binary blobs. Inserting the data row-by-row means that we have direct access to all the data and may perform queries directly on the values of the data. On the other hand, as we shall see, this is much slower than inserting the data directly as binary blobs."
   ]
  },
  {
   "cell_type": "markdown",
   "metadata": {},
   "source": [
    "First, we choose a new location for the database to ensure that we don't add a bunch of benchmarking data to the default one."
   ]
  },
  {
   "cell_type": "code",
   "execution_count": 1,
   "metadata": {
    "execution": {
     "iopub.execute_input": "2021-04-14T07:40:30.309827Z",
     "iopub.status.busy": "2021-04-14T07:40:30.309261Z",
     "iopub.status.idle": "2021-04-14T07:40:31.354571Z",
     "shell.execute_reply": "2021-04-14T07:40:31.355411Z"
    }
   },
   "outputs": [
    {
     "name": "stdout",
     "output_type": "stream",
     "text": [
      "Logging hadn't been started.\n",
      "Activating auto-logging. Current session state plus future input saved.\n",
      "Filename       : /home/runner/.qcodes/logs/command_history.log\n",
      "Mode           : append\n",
      "Output logging : True\n",
      "Raw input log  : False\n",
      "Timestamping   : True\n",
      "State          : active\n"
     ]
    },
    {
     "name": "stdout",
     "output_type": "stream",
     "text": [
      "Qcodes Logfile : /home/runner/.qcodes/logs/210414-4486-qcodes.log\n"
     ]
    }
   ],
   "source": [
    "import os\n",
    "cwd = os.getcwd()\n",
    "import qcodes as qc\n",
    "qc.config[\"core\"][\"db_location\"] = os.path.join(cwd, 'testing.db')\n"
   ]
  },
  {
   "cell_type": "code",
   "execution_count": 2,
   "metadata": {
    "execution": {
     "iopub.execute_input": "2021-04-14T07:40:31.363129Z",
     "iopub.status.busy": "2021-04-14T07:40:31.362530Z",
     "iopub.status.idle": "2021-04-14T07:40:31.613947Z",
     "shell.execute_reply": "2021-04-14T07:40:31.612842Z"
    }
   },
   "outputs": [],
   "source": [
    "%matplotlib inline\n",
    "import time\n",
    "import matplotlib.pyplot as plt\n",
    "import numpy as np\n",
    "\n",
    "import qcodes as qc\n",
    "from qcodes.instrument.parameter import ManualParameter\n",
    "from qcodes.dataset.experiment_container import (Experiment,\n",
    "                                                 load_last_experiment,\n",
    "                                                 new_experiment)\n",
    "from qcodes.dataset.sqlite.database import initialise_database\n",
    "from qcodes import load_or_create_experiment\n",
    "from qcodes.dataset.measurements import Measurement"
   ]
  },
  {
   "cell_type": "code",
   "execution_count": 3,
   "metadata": {
    "execution": {
     "iopub.execute_input": "2021-04-14T07:40:31.618061Z",
     "iopub.status.busy": "2021-04-14T07:40:31.617413Z",
     "iopub.status.idle": "2021-04-14T07:40:31.687328Z",
     "shell.execute_reply": "2021-04-14T07:40:31.686809Z"
    }
   },
   "outputs": [
    {
     "name": "stdout",
     "output_type": "stream",
     "text": [
      "\r",
      "0it [00:00, ?it/s]"
     ]
    },
    {
     "name": "stdout",
     "output_type": "stream",
     "text": [
      "\r",
      "Upgrading database; v0 -> v1: : 0it [00:00, ?it/s]"
     ]
    },
    {
     "name": "stdout",
     "output_type": "stream",
     "text": [
      "\r",
      "Upgrading database; v0 -> v1: : 0it [00:00, ?it/s]"
     ]
    },
    {
     "name": "stdout",
     "output_type": "stream",
     "text": [
      "\n",
      "\r",
      "  0%|          | 0/1 [00:00<?, ?it/s]"
     ]
    },
    {
     "name": "stdout",
     "output_type": "stream",
     "text": [
      "\r",
      "Upgrading database; v1 -> v2:   0%|          | 0/1 [00:00<?, ?it/s]"
     ]
    },
    {
     "name": "stdout",
     "output_type": "stream",
     "text": [
      "\r",
      "Upgrading database; v1 -> v2: 100%|██████████| 1/1 [00:00<00:00, 638.79it/s]"
     ]
    },
    {
     "name": "stdout",
     "output_type": "stream",
     "text": [
      "\n",
      "\r",
      "0it [00:00, ?it/s]"
     ]
    },
    {
     "name": "stdout",
     "output_type": "stream",
     "text": [
      "\r",
      "Upgrading database; v2 -> v3: : 0it [00:00, ?it/s]"
     ]
    },
    {
     "name": "stdout",
     "output_type": "stream",
     "text": [
      "\r",
      "Upgrading database; v2 -> v3: : 0it [00:00, ?it/s]"
     ]
    },
    {
     "name": "stdout",
     "output_type": "stream",
     "text": [
      "\n",
      "\r",
      "0it [00:00, ?it/s]"
     ]
    },
    {
     "name": "stdout",
     "output_type": "stream",
     "text": [
      "\r",
      "Upgrading database; v3 -> v4: : 0it [00:00, ?it/s]"
     ]
    },
    {
     "name": "stdout",
     "output_type": "stream",
     "text": [
      "\r",
      "Upgrading database; v3 -> v4: : 0it [00:00, ?it/s]"
     ]
    },
    {
     "name": "stdout",
     "output_type": "stream",
     "text": [
      "\n",
      "\r",
      "  0%|          | 0/1 [00:00<?, ?it/s]"
     ]
    },
    {
     "name": "stdout",
     "output_type": "stream",
     "text": [
      "\r",
      "Upgrading database; v4 -> v5:   0%|          | 0/1 [00:00<?, ?it/s]"
     ]
    },
    {
     "name": "stdout",
     "output_type": "stream",
     "text": [
      "\r",
      "Upgrading database; v4 -> v5: 100%|██████████| 1/1 [00:00<00:00, 416.31it/s]"
     ]
    },
    {
     "name": "stdout",
     "output_type": "stream",
     "text": [
      "\n",
      "\r",
      "0it [00:00, ?it/s]"
     ]
    },
    {
     "name": "stdout",
     "output_type": "stream",
     "text": [
      "\r",
      "Upgrading database; v5 -> v6: : 0it [00:00, ?it/s]"
     ]
    },
    {
     "name": "stdout",
     "output_type": "stream",
     "text": [
      "\r",
      "Upgrading database; v5 -> v6: : 0it [00:00, ?it/s]"
     ]
    },
    {
     "name": "stdout",
     "output_type": "stream",
     "text": [
      "\n",
      "\r",
      "  0%|          | 0/1 [00:00<?, ?it/s]"
     ]
    },
    {
     "name": "stdout",
     "output_type": "stream",
     "text": [
      "\r",
      "Upgrading database; v6 -> v7:   0%|          | 0/1 [00:00<?, ?it/s]"
     ]
    },
    {
     "name": "stdout",
     "output_type": "stream",
     "text": [
      "\r",
      "Upgrading database; v6 -> v7: 100%|██████████| 1/1 [00:00<00:00, 251.13it/s]"
     ]
    },
    {
     "name": "stdout",
     "output_type": "stream",
     "text": [
      "\n",
      "\r",
      "  0%|          | 0/1 [00:00<?, ?it/s]"
     ]
    },
    {
     "name": "stdout",
     "output_type": "stream",
     "text": [
      "\r",
      "Upgrading database; v7 -> v8:   0%|          | 0/1 [00:00<?, ?it/s]"
     ]
    },
    {
     "name": "stdout",
     "output_type": "stream",
     "text": [
      "\r",
      "Upgrading database; v7 -> v8: 100%|██████████| 1/1 [00:00<00:00, 412.30it/s]"
     ]
    },
    {
     "name": "stdout",
     "output_type": "stream",
     "text": [
      "\n",
      "\r",
      "  0%|          | 0/1 [00:00<?, ?it/s]"
     ]
    },
    {
     "name": "stdout",
     "output_type": "stream",
     "text": [
      "\r",
      "Upgrading database; v8 -> v9:   0%|          | 0/1 [00:00<?, ?it/s]"
     ]
    },
    {
     "name": "stdout",
     "output_type": "stream",
     "text": [
      "\r",
      "Upgrading database; v8 -> v9: 100%|██████████| 1/1 [00:00<00:00, 439.42it/s]"
     ]
    },
    {
     "name": "stdout",
     "output_type": "stream",
     "text": [
      "\n"
     ]
    }
   ],
   "source": [
    "initialise_database()\n",
    "exp = load_or_create_experiment(experiment_name='tutorial_exp', sample_name=\"no sample\")"
   ]
  },
  {
   "cell_type": "markdown",
   "metadata": {},
   "source": [
    "Here, we define a simple function to benchmark the time it takes to insert n points with either numeric or array data type.\n",
    "We will compare both the time used to call ``add_result`` and the time used for the full measurement."
   ]
  },
  {
   "cell_type": "code",
   "execution_count": 4,
   "metadata": {
    "execution": {
     "iopub.execute_input": "2021-04-14T07:40:31.696598Z",
     "iopub.status.busy": "2021-04-14T07:40:31.695973Z",
     "iopub.status.idle": "2021-04-14T07:40:31.699654Z",
     "shell.execute_reply": "2021-04-14T07:40:31.699143Z"
    }
   },
   "outputs": [],
   "source": [
    "def insert_data(paramtype, npoints, nreps=1):\n",
    "\n",
    "    meas = Measurement(exp=exp)\n",
    "\n",
    "    x1 = ManualParameter('x1')\n",
    "    x2 = ManualParameter('x2')\n",
    "    x3 = ManualParameter('x3')\n",
    "    y1 = ManualParameter('y1')\n",
    "    y2 = ManualParameter('y2')\n",
    "\n",
    "    meas.register_parameter(x1, paramtype=paramtype)\n",
    "    meas.register_parameter(x2, paramtype=paramtype)\n",
    "    meas.register_parameter(x3, paramtype=paramtype)\n",
    "    meas.register_parameter(y1, setpoints=[x1, x2, x3],\n",
    "                            paramtype=paramtype)\n",
    "    meas.register_parameter(y2, setpoints=[x1, x2, x3],\n",
    "                            paramtype=paramtype)\n",
    "    start = time.perf_counter()\n",
    "    with meas.run() as datasaver:\n",
    "        start_adding = time.perf_counter()\n",
    "        for i in range(nreps):\n",
    "            datasaver.add_result((x1, np.random.rand(npoints)),\n",
    "                                 (x2, np.random.rand(npoints)),\n",
    "                                 (x3, np.random.rand(npoints)),\n",
    "                                 (y1, np.random.rand(npoints)),\n",
    "                                 (y2, np.random.rand(npoints)))\n",
    "        stop_adding = time.perf_counter()\n",
    "        run_id = datasaver.run_id\n",
    "    stop = time.perf_counter()\n",
    "    tot_time = stop - start\n",
    "    add_time = stop_adding - start_adding\n",
    "    return tot_time, add_time, run_id"
   ]
  },
  {
   "cell_type": "markdown",
   "metadata": {},
   "source": [
    "## Comparison between numeric/array data and binary blob"
   ]
  },
  {
   "cell_type": "markdown",
   "metadata": {},
   "source": [
    "### Case1: Short experiment time"
   ]
  },
  {
   "cell_type": "code",
   "execution_count": 5,
   "metadata": {
    "execution": {
     "iopub.execute_input": "2021-04-14T07:40:31.706835Z",
     "iopub.status.busy": "2021-04-14T07:40:31.706220Z",
     "iopub.status.idle": "2021-04-14T07:40:32.509491Z",
     "shell.execute_reply": "2021-04-14T07:40:32.508946Z"
    }
   },
   "outputs": [
    {
     "name": "stdout",
     "output_type": "stream",
     "text": [
      "Starting experimental run with id: 1. \n",
      "Starting experimental run with id: 2. \n",
      "Starting experimental run with id: 3. \n",
      "Starting experimental run with id: 4. \n",
      "Starting experimental run with id: 5. \n"
     ]
    },
    {
     "name": "stdout",
     "output_type": "stream",
     "text": [
      "Starting experimental run with id: 6. \n"
     ]
    },
    {
     "name": "stdout",
     "output_type": "stream",
     "text": [
      "Starting experimental run with id: 7. \n"
     ]
    },
    {
     "name": "stdout",
     "output_type": "stream",
     "text": [
      "Starting experimental run with id: 8. \n",
      "Starting experimental run with id: 9. \n"
     ]
    },
    {
     "name": "stdout",
     "output_type": "stream",
     "text": [
      "Starting experimental run with id: 10. \n",
      "Starting experimental run with id: 11. \n"
     ]
    },
    {
     "name": "stdout",
     "output_type": "stream",
     "text": [
      "Starting experimental run with id: 12. \n",
      "Starting experimental run with id: 13. \n"
     ]
    },
    {
     "name": "stdout",
     "output_type": "stream",
     "text": [
      "Starting experimental run with id: 14. \n"
     ]
    }
   ],
   "source": [
    "sizes = [1,500,1000,2000,3000,4000,5000]\n",
    "t_numeric = []\n",
    "t_numeric_add = []\n",
    "t_array = []\n",
    "t_array_add = []\n",
    "for size in sizes:\n",
    "    tn, tna, run_id_n =  insert_data('numeric', size)\n",
    "    t_numeric.append(tn)\n",
    "    t_numeric_add.append(tna)\n",
    "\n",
    "    ta, taa, run_id_a =  insert_data('array', size)\n",
    "    t_array.append(ta)\n",
    "    t_array_add.append(taa)"
   ]
  },
  {
   "cell_type": "code",
   "execution_count": 6,
   "metadata": {
    "execution": {
     "iopub.execute_input": "2021-04-14T07:40:32.532401Z",
     "iopub.status.busy": "2021-04-14T07:40:32.528056Z",
     "iopub.status.idle": "2021-04-14T07:40:32.728624Z",
     "shell.execute_reply": "2021-04-14T07:40:32.729243Z"
    }
   },
   "outputs": [
    {
     "data": {
      "image/png": "[encoded data removed]",
      "text/plain": [
       "<Figure size 432x288 with 1 Axes>"
      ]
     },
     "metadata": {
      "needs_background": "light"
     },
     "output_type": "display_data"
    }
   ],
   "source": [
    "fig, ax = plt.subplots(1,1)\n",
    "ax.plot(sizes, t_numeric, 'o-', label='Inserting row-by-row')\n",
    "ax.plot(sizes, t_numeric_add, 'o-', label='Inserting row-by-row: add_result only')\n",
    "ax.plot(sizes, t_array, 'd-', label='Inserting as binary blob')\n",
    "ax.plot(sizes, t_array_add, 'd-', label='Inserting as binary blob: add_result only')\n",
    "ax.legend()\n",
    "ax.set_xlabel('Array length')\n",
    "ax.set_ylabel('Time (s)')\n",
    "fig.tight_layout()"
   ]
  },
  {
   "cell_type": "markdown",
   "metadata": {},
   "source": [
    "As shown in the latter figure, the time to setup and and close the experiment is approximately 0.4 sec. In case of small array sizes, the difference between inserting values of data as arrays and inserting them row-by-row is relatively unimportant. At larger array sizes, i.e. above 10000 points, the cost of writing data as individual datapoints starts to become important.\n"
   ]
  },
  {
   "cell_type": "markdown",
   "metadata": {},
   "source": [
    "### Case2: Long experiment time "
   ]
  },
  {
   "cell_type": "code",
   "execution_count": 7,
   "metadata": {
    "execution": {
     "iopub.execute_input": "2021-04-14T07:40:32.736574Z",
     "iopub.status.busy": "2021-04-14T07:40:32.735226Z",
     "iopub.status.idle": "2021-04-14T07:41:29.135646Z",
     "shell.execute_reply": "2021-04-14T07:41:29.134575Z"
    }
   },
   "outputs": [
    {
     "name": "stdout",
     "output_type": "stream",
     "text": [
      "Starting experimental run with id: 15. \n",
      "Starting experimental run with id: 16. \n",
      "Starting experimental run with id: 17. \n"
     ]
    },
    {
     "name": "stdout",
     "output_type": "stream",
     "text": [
      "Starting experimental run with id: 18. \n",
      "Starting experimental run with id: 19. \n"
     ]
    },
    {
     "name": "stdout",
     "output_type": "stream",
     "text": [
      "Starting experimental run with id: 20. \n"
     ]
    },
    {
     "name": "stdout",
     "output_type": "stream",
     "text": [
      "Starting experimental run with id: 21. \n"
     ]
    },
    {
     "name": "stdout",
     "output_type": "stream",
     "text": [
      "Starting experimental run with id: 22. \n"
     ]
    },
    {
     "name": "stdout",
     "output_type": "stream",
     "text": [
      "Starting experimental run with id: 23. \n"
     ]
    },
    {
     "name": "stdout",
     "output_type": "stream",
     "text": [
      "Starting experimental run with id: 24. \n"
     ]
    },
    {
     "name": "stdout",
     "output_type": "stream",
     "text": [
      "Starting experimental run with id: 25. \n"
     ]
    },
    {
     "name": "stdout",
     "output_type": "stream",
     "text": [
      "Starting experimental run with id: 26. \n"
     ]
    },
    {
     "name": "stdout",
     "output_type": "stream",
     "text": [
      "Starting experimental run with id: 27. \n"
     ]
    },
    {
     "name": "stdout",
     "output_type": "stream",
     "text": [
      "Starting experimental run with id: 28. \n"
     ]
    }
   ],
   "source": [
    "sizes = [1,500,1000,2000,3000,4000,5000]\n",
    "nreps = 100\n",
    "t_numeric = []\n",
    "t_numeric_add = []\n",
    "t_numeric_run_ids = []\n",
    "t_array = []\n",
    "t_array_add = []\n",
    "t_array_run_ids = []\n",
    "for size in sizes:\n",
    "    tn, tna, run_id_n =  insert_data('numeric', size, nreps=nreps)\n",
    "    t_numeric.append(tn)\n",
    "    t_numeric_add.append(tna)\n",
    "    t_numeric_run_ids.append(run_id_n)\n",
    "\n",
    "    ta, taa, run_id_a =  insert_data('array', size, nreps=nreps)\n",
    "    t_array.append(ta)\n",
    "    t_array_add.append(taa)\n",
    "    t_array_run_ids.append(run_id_a)"
   ]
  },
  {
   "cell_type": "code",
   "execution_count": 8,
   "metadata": {
    "execution": {
     "iopub.execute_input": "2021-04-14T07:41:29.156358Z",
     "iopub.status.busy": "2021-04-14T07:41:29.140022Z",
     "iopub.status.idle": "2021-04-14T07:41:29.327039Z",
     "shell.execute_reply": "2021-04-14T07:41:29.327860Z"
    },
    "scrolled": true
   },
   "outputs": [
    {
     "data": {
      "image/png": "[encoded data removed]",
      "text/plain": [
       "<Figure size 432x288 with 1 Axes>"
      ]
     },
     "metadata": {
      "needs_background": "light"
     },
     "output_type": "display_data"
    }
   ],
   "source": [
    "fig, ax = plt.subplots(1,1)\n",
    "ax.plot(sizes, t_numeric, 'o-', label='Inserting row-by-row')\n",
    "ax.plot(sizes, t_numeric_add, 'o-', label='Inserting row-by-row: add_result only')\n",
    "ax.plot(sizes, t_array, 'd-', label='Inserting as binary blob')\n",
    "ax.plot(sizes, t_array_add, 'd-', label='Inserting as binary blob: add_result only')\n",
    "ax.legend()\n",
    "ax.set_xlabel('Array length')\n",
    "ax.set_ylabel('Time (s)')\n",
    "fig.tight_layout()"
   ]
  },
  {
   "cell_type": "markdown",
   "metadata": {},
   "source": [
    "However, as we increase the length of the experiment, as seen here by repeating the insertion 100 times, we see a big difference between inserting values of the data row-by-row and inserting it as a binary blob."
   ]
  },
  {
   "cell_type": "markdown",
   "metadata": {},
   "source": [
    "## Loading the data "
   ]
  },
  {
   "cell_type": "code",
   "execution_count": 9,
   "metadata": {
    "execution": {
     "iopub.execute_input": "2021-04-14T07:41:29.332879Z",
     "iopub.status.busy": "2021-04-14T07:41:29.331899Z",
     "iopub.status.idle": "2021-04-14T07:41:29.335395Z",
     "shell.execute_reply": "2021-04-14T07:41:29.336123Z"
    }
   },
   "outputs": [],
   "source": [
    "from qcodes.dataset.data_set import load_by_id"
   ]
  },
  {
   "cell_type": "markdown",
   "metadata": {},
   "source": [
    "As usual you can load the data by using the ``load_by_id`` function but you will notice that the different storage methods\n",
    "are reflected in shape of the data as it is retrieved. "
   ]
  },
  {
   "cell_type": "code",
   "execution_count": 10,
   "metadata": {
    "execution": {
     "iopub.execute_input": "2021-04-14T07:41:29.340472Z",
     "iopub.status.busy": "2021-04-14T07:41:29.339879Z",
     "iopub.status.idle": "2021-04-14T07:41:29.343471Z",
     "shell.execute_reply": "2021-04-14T07:41:29.342962Z"
    }
   },
   "outputs": [],
   "source": [
    "run_id_n = t_numeric_run_ids[0]\n",
    "run_id_a = t_array_run_ids[0]"
   ]
  },
  {
   "cell_type": "code",
   "execution_count": 11,
   "metadata": {
    "execution": {
     "iopub.execute_input": "2021-04-14T07:41:29.346988Z",
     "iopub.status.busy": "2021-04-14T07:41:29.346416Z",
     "iopub.status.idle": "2021-04-14T07:41:29.355701Z",
     "shell.execute_reply": "2021-04-14T07:41:29.356153Z"
    },
    "scrolled": true
   },
   "outputs": [
    {
     "data": {
      "text/plain": [
       "{'x1': {'x1': array([0.24058447, 0.24058447, 0.61892804, 0.61892804, 0.11377751,\n",
       "         0.11377751, 0.86542178, 0.86542178, 0.59728084, 0.59728084,\n",
       "         0.6248496 , 0.6248496 , 0.33083622, 0.33083622, 0.85501265,\n",
       "         0.85501265, 0.21241269, 0.21241269, 0.3264716 , 0.3264716 ,\n",
       "         0.93522913, 0.93522913, 0.87964914, 0.87964914, 0.09759992,\n",
       "         0.09759992, 0.40462797, 0.40462797, 0.33777195, 0.33777195,\n",
       "         0.92506032, 0.92506032, 0.56849818, 0.56849818, 0.71915514,\n",
       "         0.71915514, 0.29067379, 0.29067379, 0.94230032, 0.94230032,\n",
       "         0.64409648, 0.64409648, 0.40845067, 0.40845067, 0.39853007,\n",
       "         0.39853007, 0.81751068, 0.81751068, 0.332788  , 0.332788  ,\n",
       "         0.77942713, 0.77942713, 0.88444256, 0.88444256, 0.92796184,\n",
       "         0.92796184, 0.83633918, 0.83633918, 0.15349037, 0.15349037,\n",
       "         0.89779374, 0.89779374, 0.33374917, 0.33374917, 0.45333967,\n",
       "         0.45333967, 0.79113979, 0.79113979, 0.63993863, 0.63993863,\n",
       "         0.54873121, 0.54873121, 0.38371039, 0.38371039, 0.09076193,\n",
       "         0.09076193, 0.54717074, 0.54717074, 0.12710871, 0.12710871,\n",
       "         0.50514184, 0.50514184, 0.72661146, 0.72661146, 0.1352907 ,\n",
       "         0.1352907 , 0.24126456, 0.24126456, 0.19507356, 0.19507356,\n",
       "         0.06686168, 0.06686168, 0.95697907, 0.95697907, 0.69978875,\n",
       "         0.69978875, 0.44958107, 0.44958107, 0.64849146, 0.64849146,\n",
       "         0.20816355, 0.20816355, 0.17678276, 0.17678276, 0.82248849,\n",
       "         0.82248849, 0.96180884, 0.96180884, 0.92420618, 0.92420618,\n",
       "         0.04799156, 0.04799156, 0.60520212, 0.60520212, 0.56334192,\n",
       "         0.56334192, 0.78561889, 0.78561889, 0.79745538, 0.79745538,\n",
       "         0.69134859, 0.69134859, 0.00105287, 0.00105287, 0.85076219,\n",
       "         0.85076219, 0.01184093, 0.01184093, 0.7270277 , 0.7270277 ,\n",
       "         0.88932004, 0.88932004, 0.77728751, 0.77728751, 0.89641383,\n",
       "         0.89641383, 0.33426338, 0.33426338, 0.07818277, 0.07818277,\n",
       "         0.51587857, 0.51587857, 0.27801359, 0.27801359, 0.86941246,\n",
       "         0.86941246, 0.74570849, 0.74570849, 0.09790628, 0.09790628,\n",
       "         0.46056099, 0.46056099, 0.66944097, 0.66944097, 0.78566878,\n",
       "         0.78566878, 0.72610807, 0.72610807, 0.45509451, 0.45509451,\n",
       "         0.52590323, 0.52590323, 0.28536622, 0.28536622, 0.77207313,\n",
       "         0.77207313, 0.29896462, 0.29896462, 0.32550013, 0.32550013,\n",
       "         0.57927504, 0.57927504, 0.08160924, 0.08160924, 0.50811403,\n",
       "         0.50811403, 0.0426929 , 0.0426929 , 0.0697737 , 0.0697737 ,\n",
       "         0.15502441, 0.15502441, 0.71283758, 0.71283758, 0.02952569,\n",
       "         0.02952569, 0.13841019, 0.13841019, 0.84507807, 0.84507807,\n",
       "         0.0464614 , 0.0464614 , 0.77422579, 0.77422579, 0.0306258 ,\n",
       "         0.0306258 , 0.20698308, 0.20698308, 0.88923388, 0.88923388])}}"
      ]
     },
     "execution_count": 1,
     "metadata": {},
     "output_type": "execute_result"
    }
   ],
   "source": [
    "ds = load_by_id(run_id_n)\n",
    "ds.get_parameter_data('x1')"
   ]
  },
  {
   "cell_type": "markdown",
   "metadata": {},
   "source": [
    "And a dataset stored as binary arrays"
   ]
  },
  {
   "cell_type": "code",
   "execution_count": 12,
   "metadata": {
    "execution": {
     "iopub.execute_input": "2021-04-14T07:41:29.359644Z",
     "iopub.status.busy": "2021-04-14T07:41:29.359077Z",
     "iopub.status.idle": "2021-04-14T07:41:29.416800Z",
     "shell.execute_reply": "2021-04-14T07:41:29.417288Z"
    },
    "scrolled": true
   },
   "outputs": [
    {
     "data": {
      "text/plain": [
       "{'x1': {'x1': array([[0.66476493],\n",
       "         [0.66476493],\n",
       "         [0.56512346],\n",
       "         [0.56512346],\n",
       "         [0.07986918],\n",
       "         [0.07986918],\n",
       "         [0.09006638],\n",
       "         [0.09006638],\n",
       "         [0.61782791],\n",
       "         [0.61782791],\n",
       "         [0.71375251],\n",
       "         [0.71375251],\n",
       "         [0.05068796],\n",
       "         [0.05068796],\n",
       "         [0.67305718],\n",
       "         [0.67305718],\n",
       "         [0.43192562],\n",
       "         [0.43192562],\n",
       "         [0.71079312],\n",
       "         [0.71079312],\n",
       "         [0.66890907],\n",
       "         [0.66890907],\n",
       "         [0.15611816],\n",
       "         [0.15611816],\n",
       "         [0.73042287],\n",
       "         [0.73042287],\n",
       "         [0.35573974],\n",
       "         [0.35573974],\n",
       "         [0.27752329],\n",
       "         [0.27752329],\n",
       "         [0.51432573],\n",
       "         [0.51432573],\n",
       "         [0.85011588],\n",
       "         [0.85011588],\n",
       "         [0.88399941],\n",
       "         [0.88399941],\n",
       "         [0.86009788],\n",
       "         [0.86009788],\n",
       "         [0.79867477],\n",
       "         [0.79867477],\n",
       "         [0.62292915],\n",
       "         [0.62292915],\n",
       "         [0.84024911],\n",
       "         [0.84024911],\n",
       "         [0.56321658],\n",
       "         [0.56321658],\n",
       "         [0.25709145],\n",
       "         [0.25709145],\n",
       "         [0.70125808],\n",
       "         [0.70125808],\n",
       "         [0.59173659],\n",
       "         [0.59173659],\n",
       "         [0.95968452],\n",
       "         [0.95968452],\n",
       "         [0.51511873],\n",
       "         [0.51511873],\n",
       "         [0.98775597],\n",
       "         [0.98775597],\n",
       "         [0.85436003],\n",
       "         [0.85436003],\n",
       "         [0.87421151],\n",
       "         [0.87421151],\n",
       "         [0.88028558],\n",
       "         [0.88028558],\n",
       "         [0.84966314],\n",
       "         [0.84966314],\n",
       "         [0.98953113],\n",
       "         [0.98953113],\n",
       "         [0.85698006],\n",
       "         [0.85698006],\n",
       "         [0.97747437],\n",
       "         [0.97747437],\n",
       "         [0.75972783],\n",
       "         [0.75972783],\n",
       "         [0.33203639],\n",
       "         [0.33203639],\n",
       "         [0.15931352],\n",
       "         [0.15931352],\n",
       "         [0.73231332],\n",
       "         [0.73231332],\n",
       "         [0.95208929],\n",
       "         [0.95208929],\n",
       "         [0.98175364],\n",
       "         [0.98175364],\n",
       "         [0.03882691],\n",
       "         [0.03882691],\n",
       "         [0.99752208],\n",
       "         [0.99752208],\n",
       "         [0.1897233 ],\n",
       "         [0.1897233 ],\n",
       "         [0.90801002],\n",
       "         [0.90801002],\n",
       "         [0.77586198],\n",
       "         [0.77586198],\n",
       "         [0.25822972],\n",
       "         [0.25822972],\n",
       "         [0.47935098],\n",
       "         [0.47935098],\n",
       "         [0.58368095],\n",
       "         [0.58368095],\n",
       "         [0.6514516 ],\n",
       "         [0.6514516 ],\n",
       "         [0.95139872],\n",
       "         [0.95139872],\n",
       "         [0.77304029],\n",
       "         [0.77304029],\n",
       "         [0.95826638],\n",
       "         [0.95826638],\n",
       "         [0.00648489],\n",
       "         [0.00648489],\n",
       "         [0.80424917],\n",
       "         [0.80424917],\n",
       "         [0.38734114],\n",
       "         [0.38734114],\n",
       "         [0.73140969],\n",
       "         [0.73140969],\n",
       "         [0.39638668],\n",
       "         [0.39638668],\n",
       "         [0.80812834],\n",
       "         [0.80812834],\n",
       "         [0.92940827],\n",
       "         [0.92940827],\n",
       "         [0.53900388],\n",
       "         [0.53900388],\n",
       "         [0.91353712],\n",
       "         [0.91353712],\n",
       "         [0.69980485],\n",
       "         [0.69980485],\n",
       "         [0.03023998],\n",
       "         [0.03023998],\n",
       "         [0.8457666 ],\n",
       "         [0.8457666 ],\n",
       "         [0.80432984],\n",
       "         [0.80432984],\n",
       "         [0.13899046],\n",
       "         [0.13899046],\n",
       "         [0.78348683],\n",
       "         [0.78348683],\n",
       "         [0.92991433],\n",
       "         [0.92991433],\n",
       "         [0.62493461],\n",
       "         [0.62493461],\n",
       "         [0.63921591],\n",
       "         [0.63921591],\n",
       "         [0.87011343],\n",
       "         [0.87011343],\n",
       "         [0.05310674],\n",
       "         [0.05310674],\n",
       "         [0.01322541],\n",
       "         [0.01322541],\n",
       "         [0.87861214],\n",
       "         [0.87861214],\n",
       "         [0.35160129],\n",
       "         [0.35160129],\n",
       "         [0.57678614],\n",
       "         [0.57678614],\n",
       "         [0.13026798],\n",
       "         [0.13026798],\n",
       "         [0.77667153],\n",
       "         [0.77667153],\n",
       "         [0.98456851],\n",
       "         [0.98456851],\n",
       "         [0.94438185],\n",
       "         [0.94438185],\n",
       "         [0.69322539],\n",
       "         [0.69322539],\n",
       "         [0.2891726 ],\n",
       "         [0.2891726 ],\n",
       "         [0.63366022],\n",
       "         [0.63366022],\n",
       "         [0.61732742],\n",
       "         [0.61732742],\n",
       "         [0.05446264],\n",
       "         [0.05446264],\n",
       "         [0.99765514],\n",
       "         [0.99765514],\n",
       "         [0.34414899],\n",
       "         [0.34414899],\n",
       "         [0.68686931],\n",
       "         [0.68686931],\n",
       "         [0.90259487],\n",
       "         [0.90259487],\n",
       "         [0.85311506],\n",
       "         [0.85311506],\n",
       "         [0.04883095],\n",
       "         [0.04883095],\n",
       "         [0.7836044 ],\n",
       "         [0.7836044 ],\n",
       "         [0.57184066],\n",
       "         [0.57184066],\n",
       "         [0.75837977],\n",
       "         [0.75837977],\n",
       "         [0.92435366],\n",
       "         [0.92435366],\n",
       "         [0.14409834],\n",
       "         [0.14409834],\n",
       "         [0.456367  ],\n",
       "         [0.456367  ],\n",
       "         [0.60468195],\n",
       "         [0.60468195]])}}"
      ]
     },
     "execution_count": 1,
     "metadata": {},
     "output_type": "execute_result"
    }
   ],
   "source": [
    "ds = load_by_id(run_id_a)\n",
    "ds.get_parameter_data('x1')"
   ]
  },
  {
   "cell_type": "code",
   "execution_count": null,
   "metadata": {},
   "outputs": [],
   "source": []
  }
 ],
 "metadata": {
  "kernelspec": {
   "display_name": "Python 3",
   "language": "python",
   "name": "python3"
  },
  "language_info": {
   "codemirror_mode": {
    "name": "ipython",
    "version": 3
   },
   "file_extension": ".py",
   "mimetype": "text/x-python",
   "name": "python",
   "nbconvert_exporter": "python",
   "pygments_lexer": "ipython3",
   "version": "3.7.10"
  },
  "nbsphinx": {
   "timeout": 600
  },
  "toc": {
   "base_numbering": 1,
   "nav_menu": {},
   "number_sections": true,
   "sideBar": true,
   "skip_h1_title": false,
   "title_cell": "Table of Contents",
   "title_sidebar": "Contents",
   "toc_cell": false,
   "toc_position": {},
   "toc_section_display": true,
   "toc_window_display": false
  },
  "varInspector": {
   "cols": {
    "lenName": 16,
    "lenType": 16,
    "lenVar": 40
   },
   "kernels_config": {
    "python": {
     "delete_cmd_postfix": "",
     "delete_cmd_prefix": "del ",
     "library": "var_list.py",
     "varRefreshCmd": "print(var_dic_list())"
    },
    "r": {
     "delete_cmd_postfix": ") ",
     "delete_cmd_prefix": "rm(",
     "library": "var_list.r",
     "varRefreshCmd": "cat(var_dic_list()) "
    }
   },
   "types_to_exclude": [
    "module",
    "function",
    "builtin_function_or_method",
    "instance",
    "_Feature"
   ],
   "window_display": false
  }
 },
 "nbformat": 4,
 "nbformat_minor": 4
}
