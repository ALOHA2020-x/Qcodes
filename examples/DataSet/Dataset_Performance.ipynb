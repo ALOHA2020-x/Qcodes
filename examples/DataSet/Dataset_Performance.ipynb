{
 "cells": [
  {
   "cell_type": "markdown",
   "metadata": {},
   "source": [
    "# DataSet Performance\n",
    "\n",
    "This notebook shows the trade-off between inserting data into a database row-by-row and as binary blobs. Inserting the data row-by-row means that we have direct access to all the data and may perform queries directly on the values of the data. On the other hand, as we shall see, this is much slower than inserting the data directly as binary blobs."
   ]
  },
  {
   "cell_type": "markdown",
   "metadata": {},
   "source": [
    "First, we choose a new location for the database to ensure that we don't add a bunch of benchmarking data to the default one."
   ]
  },
  {
   "cell_type": "code",
   "execution_count": 1,
   "metadata": {
    "execution": {
     "iopub.execute_input": "2020-11-10T11:58:09.692552Z",
     "iopub.status.busy": "2020-11-10T11:58:09.691956Z",
     "iopub.status.idle": "2020-11-10T11:58:10.731064Z",
     "shell.execute_reply": "2020-11-10T11:58:10.731859Z"
    }
   },
   "outputs": [
    {
     "name": "stdout",
     "output_type": "stream",
     "text": [
      "Logging hadn't been started.\n",
      "Activating auto-logging. Current session state plus future input saved.\n",
      "Filename       : /home/vsts/.qcodes/logs/command_history.log\n",
      "Mode           : append\n",
      "Output logging : True\n",
      "Raw input log  : False\n",
      "Timestamping   : True\n",
      "State          : active\n"
     ]
    },
    {
     "name": "stdout",
     "output_type": "stream",
     "text": [
      "Qcodes Logfile : /home/vsts/.qcodes/logs/201110-14324-qcodes.log\n"
     ]
    }
   ],
   "source": [
    "import os\n",
    "cwd = os.getcwd()\n",
    "import qcodes as qc\n",
    "qc.config[\"core\"][\"db_location\"] = os.path.join(cwd, 'testing.db')\n"
   ]
  },
  {
   "cell_type": "code",
   "execution_count": 2,
   "metadata": {
    "execution": {
     "iopub.execute_input": "2020-11-10T11:58:10.740149Z",
     "iopub.status.busy": "2020-11-10T11:58:10.738710Z",
     "iopub.status.idle": "2020-11-10T11:58:10.925790Z",
     "shell.execute_reply": "2020-11-10T11:58:10.925176Z"
    }
   },
   "outputs": [],
   "source": [
    "%matplotlib inline\n",
    "import time\n",
    "import matplotlib.pyplot as plt\n",
    "import numpy as np\n",
    "\n",
    "import qcodes as qc\n",
    "from qcodes.instrument.parameter import ManualParameter\n",
    "from qcodes.dataset.experiment_container import (Experiment,\n",
    "                                                 load_last_experiment,\n",
    "                                                 new_experiment)\n",
    "from qcodes.dataset.sqlite.database import initialise_database\n",
    "from qcodes import load_or_create_experiment\n",
    "from qcodes.dataset.measurements import Measurement"
   ]
  },
  {
   "cell_type": "code",
   "execution_count": 3,
   "metadata": {
    "execution": {
     "iopub.execute_input": "2020-11-10T11:58:10.929873Z",
     "iopub.status.busy": "2020-11-10T11:58:10.929059Z",
     "iopub.status.idle": "2020-11-10T11:58:11.039184Z",
     "shell.execute_reply": "2020-11-10T11:58:11.039691Z"
    }
   },
   "outputs": [
    {
     "name": "stdout",
     "output_type": "stream",
     "text": [
      "\r",
      "0it [00:00, ?it/s]"
     ]
    },
    {
     "name": "stdout",
     "output_type": "stream",
     "text": [
      "\r",
      "Upgrading database; v0 -> v1: : 0it [00:00, ?it/s]"
     ]
    },
    {
     "name": "stdout",
     "output_type": "stream",
     "text": [
      "\r",
      "Upgrading database; v0 -> v1: : 0it [00:00, ?it/s]"
     ]
    },
    {
     "name": "stdout",
     "output_type": "stream",
     "text": [
      "\n",
      "\r",
      "  0%|          | 0/1 [00:00<?, ?it/s]"
     ]
    },
    {
     "name": "stdout",
     "output_type": "stream",
     "text": [
      "\r",
      "Upgrading database; v1 -> v2:   0%|          | 0/1 [00:00<?, ?it/s]"
     ]
    },
    {
     "name": "stdout",
     "output_type": "stream",
     "text": [
      "\r",
      "Upgrading database; v1 -> v2: 100%|██████████| 1/1 [00:00<00:00, 455.41it/s]"
     ]
    },
    {
     "name": "stdout",
     "output_type": "stream",
     "text": [
      "\n",
      "\r",
      "0it [00:00, ?it/s]"
     ]
    },
    {
     "name": "stdout",
     "output_type": "stream",
     "text": [
      "\r",
      "Upgrading database; v2 -> v3: : 0it [00:00, ?it/s]"
     ]
    },
    {
     "name": "stdout",
     "output_type": "stream",
     "text": [
      "\r",
      "Upgrading database; v2 -> v3: : 0it [00:00, ?it/s]"
     ]
    },
    {
     "name": "stdout",
     "output_type": "stream",
     "text": [
      "\n",
      "\r",
      "0it [00:00, ?it/s]"
     ]
    },
    {
     "name": "stdout",
     "output_type": "stream",
     "text": [
      "\r",
      "Upgrading database; v3 -> v4: : 0it [00:00, ?it/s]"
     ]
    },
    {
     "name": "stdout",
     "output_type": "stream",
     "text": [
      "\r",
      "Upgrading database; v3 -> v4: : 0it [00:00, ?it/s]"
     ]
    },
    {
     "name": "stdout",
     "output_type": "stream",
     "text": [
      "\n",
      "\r",
      "  0%|          | 0/1 [00:00<?, ?it/s]"
     ]
    },
    {
     "name": "stdout",
     "output_type": "stream",
     "text": [
      "\r",
      "Upgrading database; v4 -> v5:   0%|          | 0/1 [00:00<?, ?it/s]"
     ]
    },
    {
     "name": "stdout",
     "output_type": "stream",
     "text": [
      "\r",
      "Upgrading database; v4 -> v5: 100%|██████████| 1/1 [00:00<00:00, 544.71it/s]"
     ]
    },
    {
     "name": "stdout",
     "output_type": "stream",
     "text": [
      "\n",
      "\r",
      "0it [00:00, ?it/s]"
     ]
    },
    {
     "name": "stdout",
     "output_type": "stream",
     "text": [
      "\r",
      "Upgrading database; v5 -> v6: : 0it [00:00, ?it/s]"
     ]
    },
    {
     "name": "stdout",
     "output_type": "stream",
     "text": [
      "\r",
      "Upgrading database; v5 -> v6: : 0it [00:00, ?it/s]"
     ]
    },
    {
     "name": "stdout",
     "output_type": "stream",
     "text": [
      "\n",
      "\r",
      "  0%|          | 0/1 [00:00<?, ?it/s]"
     ]
    },
    {
     "name": "stdout",
     "output_type": "stream",
     "text": [
      "\r",
      "Upgrading database; v6 -> v7:   0%|          | 0/1 [00:00<?, ?it/s]"
     ]
    },
    {
     "name": "stdout",
     "output_type": "stream",
     "text": [
      "\r",
      "Upgrading database; v6 -> v7: 100%|██████████| 1/1 [00:00<00:00, 226.76it/s]"
     ]
    },
    {
     "name": "stdout",
     "output_type": "stream",
     "text": [
      "\n",
      "\r",
      "  0%|          | 0/1 [00:00<?, ?it/s]"
     ]
    },
    {
     "name": "stdout",
     "output_type": "stream",
     "text": [
      "\r",
      "Upgrading database; v7 -> v8:   0%|          | 0/1 [00:00<?, ?it/s]"
     ]
    },
    {
     "name": "stdout",
     "output_type": "stream",
     "text": [
      "\r",
      "Upgrading database; v7 -> v8: 100%|██████████| 1/1 [00:00<00:00, 397.94it/s]"
     ]
    },
    {
     "name": "stdout",
     "output_type": "stream",
     "text": [
      "\n",
      "\r",
      "  0%|          | 0/1 [00:00<?, ?it/s]"
     ]
    },
    {
     "name": "stdout",
     "output_type": "stream",
     "text": [
      "\r",
      "Upgrading database; v8 -> v9:   0%|          | 0/1 [00:00<?, ?it/s]"
     ]
    },
    {
     "name": "stdout",
     "output_type": "stream",
     "text": [
      "\r",
      "Upgrading database; v8 -> v9: 100%|██████████| 1/1 [00:00<00:00, 573.07it/s]"
     ]
    },
    {
     "name": "stdout",
     "output_type": "stream",
     "text": [
      "\n"
     ]
    }
   ],
   "source": [
    "initialise_database()\n",
    "exp = load_or_create_experiment(experiment_name='tutorial_exp', sample_name=\"no sample\")"
   ]
  },
  {
   "cell_type": "markdown",
   "metadata": {},
   "source": [
    "Here, we define a simple function to benchmark the time it takes to insert n points with either numeric or array data type.\n",
    "We will compare both the time used to call ``add_result`` and the time used for the full measurement."
   ]
  },
  {
   "cell_type": "code",
   "execution_count": 4,
   "metadata": {
    "execution": {
     "iopub.execute_input": "2020-11-10T11:58:11.047756Z",
     "iopub.status.busy": "2020-11-10T11:58:11.047065Z",
     "iopub.status.idle": "2020-11-10T11:58:11.050941Z",
     "shell.execute_reply": "2020-11-10T11:58:11.050408Z"
    }
   },
   "outputs": [],
   "source": [
    "def insert_data(paramtype, npoints, nreps=1):\n",
    "\n",
    "    meas = Measurement(exp=exp)\n",
    "\n",
    "    x1 = ManualParameter('x1')\n",
    "    x2 = ManualParameter('x2')\n",
    "    x3 = ManualParameter('x3')\n",
    "    y1 = ManualParameter('y1')\n",
    "    y2 = ManualParameter('y2')\n",
    "\n",
    "    meas.register_parameter(x1, paramtype=paramtype)\n",
    "    meas.register_parameter(x2, paramtype=paramtype)\n",
    "    meas.register_parameter(x3, paramtype=paramtype)\n",
    "    meas.register_parameter(y1, setpoints=[x1, x2, x3],\n",
    "                            paramtype=paramtype)\n",
    "    meas.register_parameter(y2, setpoints=[x1, x2, x3],\n",
    "                            paramtype=paramtype)\n",
    "    start = time.perf_counter()\n",
    "    with meas.run() as datasaver:\n",
    "        start_adding = time.perf_counter()\n",
    "        for i in range(nreps):\n",
    "            datasaver.add_result((x1, np.random.rand(npoints)),\n",
    "                                 (x2, np.random.rand(npoints)),\n",
    "                                 (x3, np.random.rand(npoints)),\n",
    "                                 (y1, np.random.rand(npoints)),\n",
    "                                 (y2, np.random.rand(npoints)))\n",
    "        stop_adding = time.perf_counter()\n",
    "        run_id = datasaver.run_id\n",
    "    stop = time.perf_counter()\n",
    "    tot_time = stop - start\n",
    "    add_time = stop_adding - start_adding\n",
    "    return tot_time, add_time, run_id"
   ]
  },
  {
   "cell_type": "markdown",
   "metadata": {},
   "source": [
    "## Comparison between numeric/array data and binary blob"
   ]
  },
  {
   "cell_type": "markdown",
   "metadata": {},
   "source": [
    "### Case1: Short experiment time"
   ]
  },
  {
   "cell_type": "code",
   "execution_count": 5,
   "metadata": {
    "execution": {
     "iopub.execute_input": "2020-11-10T11:58:11.058727Z",
     "iopub.status.busy": "2020-11-10T11:58:11.057993Z",
     "iopub.status.idle": "2020-11-10T11:58:11.872731Z",
     "shell.execute_reply": "2020-11-10T11:58:11.871857Z"
    }
   },
   "outputs": [
    {
     "name": "stdout",
     "output_type": "stream",
     "text": [
      "Starting experimental run with id: 1. \n",
      "Starting experimental run with id: 2. \n",
      "Starting experimental run with id: 3. \n",
      "Starting experimental run with id: 4. \n",
      "Starting experimental run with id: 5. \n"
     ]
    },
    {
     "name": "stdout",
     "output_type": "stream",
     "text": [
      "Starting experimental run with id: 6. \n"
     ]
    },
    {
     "name": "stdout",
     "output_type": "stream",
     "text": [
      "Starting experimental run with id: 7. \n"
     ]
    },
    {
     "name": "stdout",
     "output_type": "stream",
     "text": [
      "Starting experimental run with id: 8. \n",
      "Starting experimental run with id: 9. \n"
     ]
    },
    {
     "name": "stdout",
     "output_type": "stream",
     "text": [
      "Starting experimental run with id: 10. \n",
      "Starting experimental run with id: 11. \n"
     ]
    },
    {
     "name": "stdout",
     "output_type": "stream",
     "text": [
      "Starting experimental run with id: 12. \n",
      "Starting experimental run with id: 13. \n"
     ]
    },
    {
     "name": "stdout",
     "output_type": "stream",
     "text": [
      "Starting experimental run with id: 14. \n"
     ]
    }
   ],
   "source": [
    "sizes = [1,500,1000,2000,3000,4000,5000]\n",
    "t_numeric = []\n",
    "t_numeric_add = []\n",
    "t_array = []\n",
    "t_array_add = []\n",
    "for size in sizes:\n",
    "    tn, tna, run_id_n =  insert_data('numeric', size)\n",
    "    t_numeric.append(tn)\n",
    "    t_numeric_add.append(tna)\n",
    "\n",
    "    ta, taa, run_id_a =  insert_data('array', size)\n",
    "    t_array.append(ta)\n",
    "    t_array_add.append(taa)"
   ]
  },
  {
   "cell_type": "code",
   "execution_count": 6,
   "metadata": {
    "execution": {
     "iopub.execute_input": "2020-11-10T11:58:11.896039Z",
     "iopub.status.busy": "2020-11-10T11:58:11.895478Z",
     "iopub.status.idle": "2020-11-10T11:58:12.112400Z",
     "shell.execute_reply": "2020-11-10T11:58:12.113268Z"
    }
   },
   "outputs": [
    {
     "data": {
      "image/png": "[encoded data removed]",
      "text/plain": [
       "<Figure size 432x288 with 1 Axes>"
      ]
     },
     "metadata": {
      "needs_background": "light"
     },
     "output_type": "display_data"
    }
   ],
   "source": [
    "fig, ax = plt.subplots(1,1)\n",
    "ax.plot(sizes, t_numeric, 'o-', label='Inserting row-by-row')\n",
    "ax.plot(sizes, t_numeric_add, 'o-', label='Inserting row-by-row: add_result only')\n",
    "ax.plot(sizes, t_array, 'd-', label='Inserting as binary blob')\n",
    "ax.plot(sizes, t_array_add, 'd-', label='Inserting as binary blob: add_result only')\n",
    "ax.legend()\n",
    "ax.set_xlabel('Array length')\n",
    "ax.set_ylabel('Time (s)')\n",
    "fig.tight_layout()"
   ]
  },
  {
   "cell_type": "markdown",
   "metadata": {},
   "source": [
    "As shown in the latter figure, the time to setup and and close the experiment is approximately 0.4 sec. In case of small array sizes, the difference between inserting values of data as arrays and inserting them row-by-row is relatively unimportant. At larger array sizes, i.e. above 10000 points, the cost of writing data as individual datapoints starts to become important.\n"
   ]
  },
  {
   "cell_type": "markdown",
   "metadata": {},
   "source": [
    "### Case2: Long experiment time "
   ]
  },
  {
   "cell_type": "code",
   "execution_count": 7,
   "metadata": {
    "execution": {
     "iopub.execute_input": "2020-11-10T11:58:12.120934Z",
     "iopub.status.busy": "2020-11-10T11:58:12.119972Z",
     "iopub.status.idle": "2020-11-10T11:59:08.060781Z",
     "shell.execute_reply": "2020-11-10T11:59:08.061197Z"
    }
   },
   "outputs": [
    {
     "name": "stdout",
     "output_type": "stream",
     "text": [
      "Starting experimental run with id: 15. \n",
      "Starting experimental run with id: 16. \n",
      "Starting experimental run with id: 17. \n"
     ]
    },
    {
     "name": "stdout",
     "output_type": "stream",
     "text": [
      "Starting experimental run with id: 18. \n",
      "Starting experimental run with id: 19. \n"
     ]
    },
    {
     "name": "stdout",
     "output_type": "stream",
     "text": [
      "Starting experimental run with id: 20. \n"
     ]
    },
    {
     "name": "stdout",
     "output_type": "stream",
     "text": [
      "Starting experimental run with id: 21. \n"
     ]
    },
    {
     "name": "stdout",
     "output_type": "stream",
     "text": [
      "Starting experimental run with id: 22. \n"
     ]
    },
    {
     "name": "stdout",
     "output_type": "stream",
     "text": [
      "Starting experimental run with id: 23. \n"
     ]
    },
    {
     "name": "stdout",
     "output_type": "stream",
     "text": [
      "Starting experimental run with id: 24. \n"
     ]
    },
    {
     "name": "stdout",
     "output_type": "stream",
     "text": [
      "Starting experimental run with id: 25. \n"
     ]
    },
    {
     "name": "stdout",
     "output_type": "stream",
     "text": [
      "Starting experimental run with id: 26. \n"
     ]
    },
    {
     "name": "stdout",
     "output_type": "stream",
     "text": [
      "Starting experimental run with id: 27. \n"
     ]
    },
    {
     "name": "stdout",
     "output_type": "stream",
     "text": [
      "Starting experimental run with id: 28. \n"
     ]
    }
   ],
   "source": [
    "sizes = [1,500,1000,2000,3000,4000,5000]\n",
    "nreps = 100\n",
    "t_numeric = []\n",
    "t_numeric_add = []\n",
    "t_numeric_run_ids = []\n",
    "t_array = []\n",
    "t_array_add = []\n",
    "t_array_run_ids = []\n",
    "for size in sizes:\n",
    "    tn, tna, run_id_n =  insert_data('numeric', size, nreps=nreps)\n",
    "    t_numeric.append(tn)\n",
    "    t_numeric_add.append(tna)\n",
    "    t_numeric_run_ids.append(run_id_n)\n",
    "\n",
    "    ta, taa, run_id_a =  insert_data('array', size, nreps=nreps)\n",
    "    t_array.append(ta)\n",
    "    t_array_add.append(taa)\n",
    "    t_array_run_ids.append(run_id_a)"
   ]
  },
  {
   "cell_type": "code",
   "execution_count": 8,
   "metadata": {
    "execution": {
     "iopub.execute_input": "2020-11-10T11:59:08.096994Z",
     "iopub.status.busy": "2020-11-10T11:59:08.090265Z",
     "iopub.status.idle": "2020-11-10T11:59:08.299340Z",
     "shell.execute_reply": "2020-11-10T11:59:08.298770Z"
    },
    "scrolled": true
   },
   "outputs": [
    {
     "data": {
      "image/png": "[encoded data removed]",
      "text/plain": [
       "<Figure size 432x288 with 1 Axes>"
      ]
     },
     "metadata": {
      "needs_background": "light"
     },
     "output_type": "display_data"
    }
   ],
   "source": [
    "fig, ax = plt.subplots(1,1)\n",
    "ax.plot(sizes, t_numeric, 'o-', label='Inserting row-by-row')\n",
    "ax.plot(sizes, t_numeric_add, 'o-', label='Inserting row-by-row: add_result only')\n",
    "ax.plot(sizes, t_array, 'd-', label='Inserting as binary blob')\n",
    "ax.plot(sizes, t_array_add, 'd-', label='Inserting as binary blob: add_result only')\n",
    "ax.legend()\n",
    "ax.set_xlabel('Array length')\n",
    "ax.set_ylabel('Time (s)')\n",
    "fig.tight_layout()"
   ]
  },
  {
   "cell_type": "markdown",
   "metadata": {},
   "source": [
    "However, as we increase the length of the experiment, as seen here by repeating the insertion 100 times, we see a big difference between inserting values of the data row-by-row and inserting it as a binary blob."
   ]
  },
  {
   "cell_type": "markdown",
   "metadata": {},
   "source": [
    "## Loading the data "
   ]
  },
  {
   "cell_type": "code",
   "execution_count": 9,
   "metadata": {
    "execution": {
     "iopub.execute_input": "2020-11-10T11:59:08.303960Z",
     "iopub.status.busy": "2020-11-10T11:59:08.303203Z",
     "iopub.status.idle": "2020-11-10T11:59:08.306236Z",
     "shell.execute_reply": "2020-11-10T11:59:08.305688Z"
    }
   },
   "outputs": [],
   "source": [
    "from qcodes.dataset.data_set import load_by_id\n",
    "from qcodes.dataset.data_export import get_data_by_id"
   ]
  },
  {
   "cell_type": "markdown",
   "metadata": {},
   "source": [
    "As usual you can load the data by using the ``load_by_id`` function but you will notice that the different storage methods\n",
    "are reflected in shape of the data as it is retrieved. "
   ]
  },
  {
   "cell_type": "code",
   "execution_count": 10,
   "metadata": {
    "execution": {
     "iopub.execute_input": "2020-11-10T11:59:08.310442Z",
     "iopub.status.busy": "2020-11-10T11:59:08.309166Z",
     "iopub.status.idle": "2020-11-10T11:59:08.311147Z",
     "shell.execute_reply": "2020-11-10T11:59:08.311605Z"
    }
   },
   "outputs": [],
   "source": [
    "run_id_n = t_numeric_run_ids[0]\n",
    "run_id_a = t_array_run_ids[0]"
   ]
  },
  {
   "cell_type": "code",
   "execution_count": 11,
   "metadata": {
    "execution": {
     "iopub.execute_input": "2020-11-10T11:59:08.314478Z",
     "iopub.status.busy": "2020-11-10T11:59:08.313869Z",
     "iopub.status.idle": "2020-11-10T11:59:08.323280Z",
     "shell.execute_reply": "2020-11-10T11:59:08.323724Z"
    },
    "scrolled": true
   },
   "outputs": [
    {
     "data": {
      "text/plain": [
       "{'x1': {'x1': array([0.61510768, 0.61510768, 0.59136864, 0.59136864, 0.10569663,\n",
       "         0.10569663, 0.33671921, 0.33671921, 0.01557431, 0.01557431,\n",
       "         0.78021479, 0.78021479, 0.34196082, 0.34196082, 0.48205164,\n",
       "         0.48205164, 0.35367288, 0.35367288, 0.9536541 , 0.9536541 ,\n",
       "         0.51651672, 0.51651672, 0.9553942 , 0.9553942 , 0.70049541,\n",
       "         0.70049541, 0.1908501 , 0.1908501 , 0.5792518 , 0.5792518 ,\n",
       "         0.95226746, 0.95226746, 0.15575374, 0.15575374, 0.96278714,\n",
       "         0.96278714, 0.51819078, 0.51819078, 0.914571  , 0.914571  ,\n",
       "         0.09402166, 0.09402166, 0.06120203, 0.06120203, 0.94661485,\n",
       "         0.94661485, 0.70863551, 0.70863551, 0.66485252, 0.66485252,\n",
       "         0.94198077, 0.94198077, 0.74886533, 0.74886533, 0.75696419,\n",
       "         0.75696419, 0.24013633, 0.24013633, 0.54776258, 0.54776258,\n",
       "         0.04298331, 0.04298331, 0.35747429, 0.35747429, 0.52703357,\n",
       "         0.52703357, 0.43619771, 0.43619771, 0.17156608, 0.17156608,\n",
       "         0.83995232, 0.83995232, 0.60604681, 0.60604681, 0.25511707,\n",
       "         0.25511707, 0.22296679, 0.22296679, 0.21787581, 0.21787581,\n",
       "         0.29071378, 0.29071378, 0.76513563, 0.76513563, 0.17272843,\n",
       "         0.17272843, 0.84052627, 0.84052627, 0.868961  , 0.868961  ,\n",
       "         0.11128586, 0.11128586, 0.25746865, 0.25746865, 0.82815032,\n",
       "         0.82815032, 0.19042274, 0.19042274, 0.54501063, 0.54501063,\n",
       "         0.96397579, 0.96397579, 0.551033  , 0.551033  , 0.5504562 ,\n",
       "         0.5504562 , 0.22843023, 0.22843023, 0.4553912 , 0.4553912 ,\n",
       "         0.99977066, 0.99977066, 0.88869087, 0.88869087, 0.01775823,\n",
       "         0.01775823, 0.51331719, 0.51331719, 0.063518  , 0.063518  ,\n",
       "         0.24226272, 0.24226272, 0.73601588, 0.73601588, 0.90777434,\n",
       "         0.90777434, 0.35844516, 0.35844516, 0.49919619, 0.49919619,\n",
       "         0.89626919, 0.89626919, 0.0380184 , 0.0380184 , 0.7511321 ,\n",
       "         0.7511321 , 0.93132151, 0.93132151, 0.18542998, 0.18542998,\n",
       "         0.24464987, 0.24464987, 0.70647828, 0.70647828, 0.01763531,\n",
       "         0.01763531, 0.15994613, 0.15994613, 0.70076691, 0.70076691,\n",
       "         0.08874044, 0.08874044, 0.33899226, 0.33899226, 0.95899627,\n",
       "         0.95899627, 0.35602279, 0.35602279, 0.99608338, 0.99608338,\n",
       "         0.52310595, 0.52310595, 0.79718135, 0.79718135, 0.06814364,\n",
       "         0.06814364, 0.15616125, 0.15616125, 0.65251946, 0.65251946,\n",
       "         0.57375627, 0.57375627, 0.69379375, 0.69379375, 0.40353262,\n",
       "         0.40353262, 0.01201559, 0.01201559, 0.02218731, 0.02218731,\n",
       "         0.5689132 , 0.5689132 , 0.50974311, 0.50974311, 0.37262316,\n",
       "         0.37262316, 0.0893362 , 0.0893362 , 0.45435532, 0.45435532,\n",
       "         0.01289938, 0.01289938, 0.6372462 , 0.6372462 , 0.83639133,\n",
       "         0.83639133, 0.91686273, 0.91686273, 0.50190758, 0.50190758])}}"
      ]
     },
     "execution_count": 1,
     "metadata": {},
     "output_type": "execute_result"
    }
   ],
   "source": [
    "ds = load_by_id(run_id_n)\n",
    "ds.get_parameter_data('x1')"
   ]
  },
  {
   "cell_type": "markdown",
   "metadata": {},
   "source": [
    "And a dataset stored as binary arrays"
   ]
  },
  {
   "cell_type": "code",
   "execution_count": 12,
   "metadata": {
    "execution": {
     "iopub.execute_input": "2020-11-10T11:59:08.326784Z",
     "iopub.status.busy": "2020-11-10T11:59:08.326209Z",
     "iopub.status.idle": "2020-11-10T11:59:08.393611Z",
     "shell.execute_reply": "2020-11-10T11:59:08.393159Z"
    },
    "scrolled": true
   },
   "outputs": [
    {
     "data": {
      "text/plain": [
       "{'x1': {'x1': array([[0.46712457],\n",
       "         [0.46712457],\n",
       "         [0.61711966],\n",
       "         [0.61711966],\n",
       "         [0.14377917],\n",
       "         [0.14377917],\n",
       "         [0.71074833],\n",
       "         [0.71074833],\n",
       "         [0.03395055],\n",
       "         [0.03395055],\n",
       "         [0.24968877],\n",
       "         [0.24968877],\n",
       "         [0.2553366 ],\n",
       "         [0.2553366 ],\n",
       "         [0.01687718],\n",
       "         [0.01687718],\n",
       "         [0.98952487],\n",
       "         [0.98952487],\n",
       "         [0.95899556],\n",
       "         [0.95899556],\n",
       "         [0.54125175],\n",
       "         [0.54125175],\n",
       "         [0.60891723],\n",
       "         [0.60891723],\n",
       "         [0.63208044],\n",
       "         [0.63208044],\n",
       "         [0.39399379],\n",
       "         [0.39399379],\n",
       "         [0.66922289],\n",
       "         [0.66922289],\n",
       "         [0.93248694],\n",
       "         [0.93248694],\n",
       "         [0.08609775],\n",
       "         [0.08609775],\n",
       "         [0.81249147],\n",
       "         [0.81249147],\n",
       "         [0.69409911],\n",
       "         [0.69409911],\n",
       "         [0.00283208],\n",
       "         [0.00283208],\n",
       "         [0.17609291],\n",
       "         [0.17609291],\n",
       "         [0.43803051],\n",
       "         [0.43803051],\n",
       "         [0.64484066],\n",
       "         [0.64484066],\n",
       "         [0.45667278],\n",
       "         [0.45667278],\n",
       "         [0.80399095],\n",
       "         [0.80399095],\n",
       "         [0.96393464],\n",
       "         [0.96393464],\n",
       "         [0.91975221],\n",
       "         [0.91975221],\n",
       "         [0.30045972],\n",
       "         [0.30045972],\n",
       "         [0.38861998],\n",
       "         [0.38861998],\n",
       "         [0.07543415],\n",
       "         [0.07543415],\n",
       "         [0.84660315],\n",
       "         [0.84660315],\n",
       "         [0.19824924],\n",
       "         [0.19824924],\n",
       "         [0.52862605],\n",
       "         [0.52862605],\n",
       "         [0.0012716 ],\n",
       "         [0.0012716 ],\n",
       "         [0.06275033],\n",
       "         [0.06275033],\n",
       "         [0.05576744],\n",
       "         [0.05576744],\n",
       "         [0.76368323],\n",
       "         [0.76368323],\n",
       "         [0.14091602],\n",
       "         [0.14091602],\n",
       "         [0.38249324],\n",
       "         [0.38249324],\n",
       "         [0.74049503],\n",
       "         [0.74049503],\n",
       "         [0.85735155],\n",
       "         [0.85735155],\n",
       "         [0.08996878],\n",
       "         [0.08996878],\n",
       "         [0.97529852],\n",
       "         [0.97529852],\n",
       "         [0.26888099],\n",
       "         [0.26888099],\n",
       "         [0.09168665],\n",
       "         [0.09168665],\n",
       "         [0.01724378],\n",
       "         [0.01724378],\n",
       "         [0.40241277],\n",
       "         [0.40241277],\n",
       "         [0.60087184],\n",
       "         [0.60087184],\n",
       "         [0.53106183],\n",
       "         [0.53106183],\n",
       "         [0.30212574],\n",
       "         [0.30212574],\n",
       "         [0.49183733],\n",
       "         [0.49183733],\n",
       "         [0.82118698],\n",
       "         [0.82118698],\n",
       "         [0.08501791],\n",
       "         [0.08501791],\n",
       "         [0.98818433],\n",
       "         [0.98818433],\n",
       "         [0.95451905],\n",
       "         [0.95451905],\n",
       "         [0.29811644],\n",
       "         [0.29811644],\n",
       "         [0.28630716],\n",
       "         [0.28630716],\n",
       "         [0.36379   ],\n",
       "         [0.36379   ],\n",
       "         [0.64471753],\n",
       "         [0.64471753],\n",
       "         [0.61581847],\n",
       "         [0.61581847],\n",
       "         [0.47209159],\n",
       "         [0.47209159],\n",
       "         [0.59303813],\n",
       "         [0.59303813],\n",
       "         [0.28508918],\n",
       "         [0.28508918],\n",
       "         [0.46878466],\n",
       "         [0.46878466],\n",
       "         [0.35156482],\n",
       "         [0.35156482],\n",
       "         [0.21717447],\n",
       "         [0.21717447],\n",
       "         [0.83387287],\n",
       "         [0.83387287],\n",
       "         [0.19633705],\n",
       "         [0.19633705],\n",
       "         [0.06337374],\n",
       "         [0.06337374],\n",
       "         [0.27646408],\n",
       "         [0.27646408],\n",
       "         [0.77033887],\n",
       "         [0.77033887],\n",
       "         [0.4521906 ],\n",
       "         [0.4521906 ],\n",
       "         [0.53236199],\n",
       "         [0.53236199],\n",
       "         [0.38219324],\n",
       "         [0.38219324],\n",
       "         [0.25624592],\n",
       "         [0.25624592],\n",
       "         [0.95376673],\n",
       "         [0.95376673],\n",
       "         [0.27845676],\n",
       "         [0.27845676],\n",
       "         [0.89223883],\n",
       "         [0.89223883],\n",
       "         [0.52723287],\n",
       "         [0.52723287],\n",
       "         [0.25013063],\n",
       "         [0.25013063],\n",
       "         [0.75078091],\n",
       "         [0.75078091],\n",
       "         [0.43580846],\n",
       "         [0.43580846],\n",
       "         [0.37578578],\n",
       "         [0.37578578],\n",
       "         [0.97020549],\n",
       "         [0.97020549],\n",
       "         [0.79190341],\n",
       "         [0.79190341],\n",
       "         [0.11277154],\n",
       "         [0.11277154],\n",
       "         [0.61529731],\n",
       "         [0.61529731],\n",
       "         [0.98572902],\n",
       "         [0.98572902],\n",
       "         [0.45158124],\n",
       "         [0.45158124],\n",
       "         [0.1258541 ],\n",
       "         [0.1258541 ],\n",
       "         [0.55821308],\n",
       "         [0.55821308],\n",
       "         [0.46841618],\n",
       "         [0.46841618],\n",
       "         [0.72046411],\n",
       "         [0.72046411],\n",
       "         [0.56025392],\n",
       "         [0.56025392],\n",
       "         [0.58994052],\n",
       "         [0.58994052],\n",
       "         [0.59338559],\n",
       "         [0.59338559],\n",
       "         [0.20651991],\n",
       "         [0.20651991],\n",
       "         [0.80787914],\n",
       "         [0.80787914],\n",
       "         [0.13469195],\n",
       "         [0.13469195],\n",
       "         [0.05537057],\n",
       "         [0.05537057]])}}"
      ]
     },
     "execution_count": 1,
     "metadata": {},
     "output_type": "execute_result"
    }
   ],
   "source": [
    "ds = load_by_id(run_id_a)\n",
    "ds.get_parameter_data('x1')"
   ]
  },
  {
   "cell_type": "code",
   "execution_count": null,
   "metadata": {},
   "outputs": [],
   "source": []
  }
 ],
 "metadata": {
  "kernelspec": {
   "display_name": "Python 3",
   "language": "python",
   "name": "python3"
  },
  "language_info": {
   "codemirror_mode": {
    "name": "ipython",
    "version": 3
   },
   "file_extension": ".py",
   "mimetype": "text/x-python",
   "name": "python",
   "nbconvert_exporter": "python",
   "pygments_lexer": "ipython3",
   "version": "3.7.9"
  },
  "nbsphinx": {
   "timeout": 600
  },
  "toc": {
   "base_numbering": 1,
   "nav_menu": {},
   "number_sections": true,
   "sideBar": true,
   "skip_h1_title": false,
   "title_cell": "Table of Contents",
   "title_sidebar": "Contents",
   "toc_cell": false,
   "toc_position": {},
   "toc_section_display": true,
   "toc_window_display": false
  },
  "varInspector": {
   "cols": {
    "lenName": 16,
    "lenType": 16,
    "lenVar": 40
   },
   "kernels_config": {
    "python": {
     "delete_cmd_postfix": "",
     "delete_cmd_prefix": "del ",
     "library": "var_list.py",
     "varRefreshCmd": "print(var_dic_list())"
    },
    "r": {
     "delete_cmd_postfix": ") ",
     "delete_cmd_prefix": "rm(",
     "library": "var_list.r",
     "varRefreshCmd": "cat(var_dic_list()) "
    }
   },
   "types_to_exclude": [
    "module",
    "function",
    "builtin_function_or_method",
    "instance",
    "_Feature"
   ],
   "window_display": false
  }
 },
 "nbformat": 4,
 "nbformat_minor": 2
}
