{
 "cells": [
  {
   "cell_type": "markdown",
   "metadata": {},
   "source": [
    "# DataSet Performance\n",
    "\n",
    "This notebook shows the trade-off between inserting data into a database row-by-row and as binary blobs. Inserting the data row-by-row means that we have direct access to all the data and may perform queries directly on the values of the data. On the other hand, as we shall see, this is much slower than inserting the data directly as binary blobs."
   ]
  },
  {
   "cell_type": "markdown",
   "metadata": {},
   "source": [
    "First, we choose a new location for the database to ensure that we don't add a bunch of benchmarking data to the default one."
   ]
  },
  {
   "cell_type": "code",
   "execution_count": 1,
   "metadata": {
    "execution": {
     "iopub.execute_input": "2020-11-09T13:37:30.780127Z",
     "iopub.status.busy": "2020-11-09T13:37:30.779618Z",
     "iopub.status.idle": "2020-11-09T13:37:31.768509Z",
     "shell.execute_reply": "2020-11-09T13:37:31.769154Z"
    }
   },
   "outputs": [
    {
     "name": "stdout",
     "output_type": "stream",
     "text": [
      "Logging hadn't been started.\n",
      "Activating auto-logging. Current session state plus future input saved.\n",
      "Filename       : /home/vsts/.qcodes/logs/command_history.log\n",
      "Mode           : append\n",
      "Output logging : True\n",
      "Raw input log  : False\n",
      "Timestamping   : True\n",
      "State          : active\n"
     ]
    },
    {
     "name": "stdout",
     "output_type": "stream",
     "text": [
      "Qcodes Logfile : /home/vsts/.qcodes/logs/201109-14362-qcodes.log\n"
     ]
    }
   ],
   "source": [
    "import os\n",
    "cwd = os.getcwd()\n",
    "import qcodes as qc\n",
    "qc.config[\"core\"][\"db_location\"] = os.path.join(cwd, 'testing.db')\n"
   ]
  },
  {
   "cell_type": "code",
   "execution_count": 2,
   "metadata": {
    "execution": {
     "iopub.execute_input": "2020-11-09T13:37:31.777252Z",
     "iopub.status.busy": "2020-11-09T13:37:31.776551Z",
     "iopub.status.idle": "2020-11-09T13:37:31.956841Z",
     "shell.execute_reply": "2020-11-09T13:37:31.956318Z"
    }
   },
   "outputs": [],
   "source": [
    "%matplotlib inline\n",
    "import time\n",
    "import matplotlib.pyplot as plt\n",
    "import numpy as np\n",
    "\n",
    "import qcodes as qc\n",
    "from qcodes.instrument.parameter import ManualParameter\n",
    "from qcodes.dataset.experiment_container import (Experiment,\n",
    "                                                 load_last_experiment,\n",
    "                                                 new_experiment)\n",
    "from qcodes.dataset.sqlite.database import initialise_database\n",
    "from qcodes import load_or_create_experiment\n",
    "from qcodes.dataset.measurements import Measurement"
   ]
  },
  {
   "cell_type": "code",
   "execution_count": 3,
   "metadata": {
    "execution": {
     "iopub.execute_input": "2020-11-09T13:37:31.960277Z",
     "iopub.status.busy": "2020-11-09T13:37:31.959699Z",
     "iopub.status.idle": "2020-11-09T13:37:32.078913Z",
     "shell.execute_reply": "2020-11-09T13:37:32.078405Z"
    }
   },
   "outputs": [
    {
     "name": "stdout",
     "output_type": "stream",
     "text": [
      "\r",
      "0it [00:00, ?it/s]"
     ]
    },
    {
     "name": "stdout",
     "output_type": "stream",
     "text": [
      "\r",
      "Upgrading database; v0 -> v1: : 0it [00:00, ?it/s]"
     ]
    },
    {
     "name": "stdout",
     "output_type": "stream",
     "text": [
      "\r",
      "Upgrading database; v0 -> v1: : 0it [00:00, ?it/s]"
     ]
    },
    {
     "name": "stdout",
     "output_type": "stream",
     "text": [
      "\n",
      "\r",
      "  0%|          | 0/1 [00:00<?, ?it/s]"
     ]
    },
    {
     "name": "stdout",
     "output_type": "stream",
     "text": [
      "\r",
      "Upgrading database; v1 -> v2:   0%|          | 0/1 [00:00<?, ?it/s]"
     ]
    },
    {
     "name": "stdout",
     "output_type": "stream",
     "text": [
      "\r",
      "Upgrading database; v1 -> v2: 100%|██████████| 1/1 [00:00<00:00, 591.00it/s]"
     ]
    },
    {
     "name": "stdout",
     "output_type": "stream",
     "text": [
      "\n",
      "\r",
      "0it [00:00, ?it/s]"
     ]
    },
    {
     "name": "stdout",
     "output_type": "stream",
     "text": [
      "\r",
      "Upgrading database; v2 -> v3: : 0it [00:00, ?it/s]"
     ]
    },
    {
     "name": "stdout",
     "output_type": "stream",
     "text": [
      "\r",
      "Upgrading database; v2 -> v3: : 0it [00:00, ?it/s]"
     ]
    },
    {
     "name": "stdout",
     "output_type": "stream",
     "text": [
      "\n",
      "\r",
      "0it [00:00, ?it/s]"
     ]
    },
    {
     "name": "stdout",
     "output_type": "stream",
     "text": [
      "\r",
      "Upgrading database; v3 -> v4: : 0it [00:00, ?it/s]"
     ]
    },
    {
     "name": "stdout",
     "output_type": "stream",
     "text": [
      "\r",
      "Upgrading database; v3 -> v4: : 0it [00:00, ?it/s]"
     ]
    },
    {
     "name": "stdout",
     "output_type": "stream",
     "text": [
      "\n",
      "\r",
      "  0%|          | 0/1 [00:00<?, ?it/s]"
     ]
    },
    {
     "name": "stdout",
     "output_type": "stream",
     "text": [
      "\r",
      "Upgrading database; v4 -> v5:   0%|          | 0/1 [00:00<?, ?it/s]"
     ]
    },
    {
     "name": "stdout",
     "output_type": "stream",
     "text": [
      "\r",
      "Upgrading database; v4 -> v5: 100%|██████████| 1/1 [00:00<00:00, 597.65it/s]"
     ]
    },
    {
     "name": "stdout",
     "output_type": "stream",
     "text": [
      "\n",
      "\r",
      "0it [00:00, ?it/s]"
     ]
    },
    {
     "name": "stdout",
     "output_type": "stream",
     "text": [
      "\r",
      "Upgrading database; v5 -> v6: : 0it [00:00, ?it/s]"
     ]
    },
    {
     "name": "stdout",
     "output_type": "stream",
     "text": [
      "\r",
      "Upgrading database; v5 -> v6: : 0it [00:00, ?it/s]"
     ]
    },
    {
     "name": "stdout",
     "output_type": "stream",
     "text": [
      "\n",
      "\r",
      "  0%|          | 0/1 [00:00<?, ?it/s]"
     ]
    },
    {
     "name": "stdout",
     "output_type": "stream",
     "text": [
      "\r",
      "Upgrading database; v6 -> v7:   0%|          | 0/1 [00:00<?, ?it/s]"
     ]
    },
    {
     "name": "stdout",
     "output_type": "stream",
     "text": [
      "\r",
      "Upgrading database; v6 -> v7: 100%|██████████| 1/1 [00:00<00:00, 218.67it/s]"
     ]
    },
    {
     "name": "stdout",
     "output_type": "stream",
     "text": [
      "\n",
      "\r",
      "  0%|          | 0/1 [00:00<?, ?it/s]"
     ]
    },
    {
     "name": "stdout",
     "output_type": "stream",
     "text": [
      "\r",
      "Upgrading database; v7 -> v8:   0%|          | 0/1 [00:00<?, ?it/s]"
     ]
    },
    {
     "name": "stdout",
     "output_type": "stream",
     "text": [
      "\r",
      "Upgrading database; v7 -> v8: 100%|██████████| 1/1 [00:00<00:00, 514.20it/s]"
     ]
    },
    {
     "name": "stdout",
     "output_type": "stream",
     "text": [
      "\n",
      "\r",
      "  0%|          | 0/1 [00:00<?, ?it/s]"
     ]
    },
    {
     "name": "stdout",
     "output_type": "stream",
     "text": [
      "\r",
      "Upgrading database; v8 -> v9:   0%|          | 0/1 [00:00<?, ?it/s]"
     ]
    },
    {
     "name": "stdout",
     "output_type": "stream",
     "text": [
      "\r",
      "Upgrading database; v8 -> v9: 100%|██████████| 1/1 [00:00<00:00, 1233.98it/s]"
     ]
    },
    {
     "name": "stdout",
     "output_type": "stream",
     "text": [
      "\n"
     ]
    }
   ],
   "source": [
    "initialise_database()\n",
    "exp = load_or_create_experiment(experiment_name='tutorial_exp', sample_name=\"no sample\")"
   ]
  },
  {
   "cell_type": "markdown",
   "metadata": {},
   "source": [
    "Here, we define a simple function to benchmark the time it takes to insert n points with either numeric or array data type.\n",
    "We will compare both the time used to call ``add_result`` and the time used for the full measurement."
   ]
  },
  {
   "cell_type": "code",
   "execution_count": 4,
   "metadata": {
    "execution": {
     "iopub.execute_input": "2020-11-09T13:37:32.086747Z",
     "iopub.status.busy": "2020-11-09T13:37:32.085402Z",
     "iopub.status.idle": "2020-11-09T13:37:32.090093Z",
     "shell.execute_reply": "2020-11-09T13:37:32.089318Z"
    }
   },
   "outputs": [],
   "source": [
    "def insert_data(paramtype, npoints, nreps=1):\n",
    "\n",
    "    meas = Measurement(exp=exp)\n",
    "\n",
    "    x1 = ManualParameter('x1')\n",
    "    x2 = ManualParameter('x2')\n",
    "    x3 = ManualParameter('x3')\n",
    "    y1 = ManualParameter('y1')\n",
    "    y2 = ManualParameter('y2')\n",
    "\n",
    "    meas.register_parameter(x1, paramtype=paramtype)\n",
    "    meas.register_parameter(x2, paramtype=paramtype)\n",
    "    meas.register_parameter(x3, paramtype=paramtype)\n",
    "    meas.register_parameter(y1, setpoints=[x1, x2, x3],\n",
    "                            paramtype=paramtype)\n",
    "    meas.register_parameter(y2, setpoints=[x1, x2, x3],\n",
    "                            paramtype=paramtype)\n",
    "    start = time.perf_counter()\n",
    "    with meas.run() as datasaver:\n",
    "        start_adding = time.perf_counter()\n",
    "        for i in range(nreps):\n",
    "            datasaver.add_result((x1, np.random.rand(npoints)),\n",
    "                                 (x2, np.random.rand(npoints)),\n",
    "                                 (x3, np.random.rand(npoints)),\n",
    "                                 (y1, np.random.rand(npoints)),\n",
    "                                 (y2, np.random.rand(npoints)))\n",
    "        stop_adding = time.perf_counter()\n",
    "        run_id = datasaver.run_id\n",
    "    stop = time.perf_counter()\n",
    "    tot_time = stop - start\n",
    "    add_time = stop_adding - start_adding\n",
    "    return tot_time, add_time, run_id"
   ]
  },
  {
   "cell_type": "markdown",
   "metadata": {},
   "source": [
    "## Comparison between numeric/array data and binary blob"
   ]
  },
  {
   "cell_type": "markdown",
   "metadata": {},
   "source": [
    "### Case1: Short experiment time"
   ]
  },
  {
   "cell_type": "code",
   "execution_count": 5,
   "metadata": {
    "execution": {
     "iopub.execute_input": "2020-11-09T13:37:32.095907Z",
     "iopub.status.busy": "2020-11-09T13:37:32.094815Z",
     "iopub.status.idle": "2020-11-09T13:37:32.965146Z",
     "shell.execute_reply": "2020-11-09T13:37:32.965778Z"
    }
   },
   "outputs": [
    {
     "name": "stdout",
     "output_type": "stream",
     "text": [
      "Starting experimental run with id: 1. \n",
      "Starting experimental run with id: 2. \n",
      "Starting experimental run with id: 3. \n",
      "Starting experimental run with id: 4. \n",
      "Starting experimental run with id: 5. \n"
     ]
    },
    {
     "name": "stdout",
     "output_type": "stream",
     "text": [
      "Starting experimental run with id: 6. \n"
     ]
    },
    {
     "name": "stdout",
     "output_type": "stream",
     "text": [
      "Starting experimental run with id: 7. \n"
     ]
    },
    {
     "name": "stdout",
     "output_type": "stream",
     "text": [
      "Starting experimental run with id: 8. \n",
      "Starting experimental run with id: 9. \n"
     ]
    },
    {
     "name": "stdout",
     "output_type": "stream",
     "text": [
      "Starting experimental run with id: 10. \n",
      "Starting experimental run with id: 11. \n"
     ]
    },
    {
     "name": "stdout",
     "output_type": "stream",
     "text": [
      "Starting experimental run with id: 12. \n"
     ]
    },
    {
     "name": "stdout",
     "output_type": "stream",
     "text": [
      "Starting experimental run with id: 13. \n"
     ]
    },
    {
     "name": "stdout",
     "output_type": "stream",
     "text": [
      "Starting experimental run with id: 14. \n"
     ]
    }
   ],
   "source": [
    "sizes = [1,500,1000,2000,3000,4000,5000]\n",
    "t_numeric = []\n",
    "t_numeric_add = []\n",
    "t_array = []\n",
    "t_array_add = []\n",
    "for size in sizes:\n",
    "    tn, tna, run_id_n =  insert_data('numeric', size)\n",
    "    t_numeric.append(tn)\n",
    "    t_numeric_add.append(tna)\n",
    "\n",
    "    ta, taa, run_id_a =  insert_data('array', size)\n",
    "    t_array.append(ta)\n",
    "    t_array_add.append(taa)"
   ]
  },
  {
   "cell_type": "code",
   "execution_count": 6,
   "metadata": {
    "execution": {
     "iopub.execute_input": "2020-11-09T13:37:32.981723Z",
     "iopub.status.busy": "2020-11-09T13:37:32.981182Z",
     "iopub.status.idle": "2020-11-09T13:37:33.147552Z",
     "shell.execute_reply": "2020-11-09T13:37:33.148086Z"
    }
   },
   "outputs": [
    {
     "data": {
      "image/png": "[encoded data removed]",
      "text/plain": [
       "<Figure size 432x288 with 1 Axes>"
      ]
     },
     "metadata": {
      "needs_background": "light"
     },
     "output_type": "display_data"
    }
   ],
   "source": [
    "fig, ax = plt.subplots(1,1)\n",
    "ax.plot(sizes, t_numeric, 'o-', label='Inserting row-by-row')\n",
    "ax.plot(sizes, t_numeric_add, 'o-', label='Inserting row-by-row: add_result only')\n",
    "ax.plot(sizes, t_array, 'd-', label='Inserting as binary blob')\n",
    "ax.plot(sizes, t_array_add, 'd-', label='Inserting as binary blob: add_result only')\n",
    "ax.legend()\n",
    "ax.set_xlabel('Array length')\n",
    "ax.set_ylabel('Time (s)')\n",
    "fig.tight_layout()"
   ]
  },
  {
   "cell_type": "markdown",
   "metadata": {},
   "source": [
    "As shown in the latter figure, the time to setup and and close the experiment is approximately 0.4 sec. In case of small array sizes, the difference between inserting values of data as arrays and inserting them row-by-row is relatively unimportant. At larger array sizes, i.e. above 10000 points, the cost of writing data as individual datapoints starts to become important.\n"
   ]
  },
  {
   "cell_type": "markdown",
   "metadata": {},
   "source": [
    "### Case2: Long experiment time "
   ]
  },
  {
   "cell_type": "code",
   "execution_count": 7,
   "metadata": {
    "execution": {
     "iopub.execute_input": "2020-11-09T13:37:33.150658Z",
     "iopub.status.busy": "2020-11-09T13:37:33.150110Z",
     "iopub.status.idle": "2020-11-09T13:38:30.408340Z",
     "shell.execute_reply": "2020-11-09T13:38:30.407495Z"
    }
   },
   "outputs": [
    {
     "name": "stdout",
     "output_type": "stream",
     "text": [
      "Starting experimental run with id: 15. \n",
      "Starting experimental run with id: 16. \n",
      "Starting experimental run with id: 17. \n"
     ]
    },
    {
     "name": "stdout",
     "output_type": "stream",
     "text": [
      "Starting experimental run with id: 18. \n",
      "Starting experimental run with id: 19. \n"
     ]
    },
    {
     "name": "stdout",
     "output_type": "stream",
     "text": [
      "Starting experimental run with id: 20. \n"
     ]
    },
    {
     "name": "stdout",
     "output_type": "stream",
     "text": [
      "Starting experimental run with id: 21. \n"
     ]
    },
    {
     "name": "stdout",
     "output_type": "stream",
     "text": [
      "Starting experimental run with id: 22. \n"
     ]
    },
    {
     "name": "stdout",
     "output_type": "stream",
     "text": [
      "Starting experimental run with id: 23. \n"
     ]
    },
    {
     "name": "stdout",
     "output_type": "stream",
     "text": [
      "Starting experimental run with id: 24. \n"
     ]
    },
    {
     "name": "stdout",
     "output_type": "stream",
     "text": [
      "Starting experimental run with id: 25. \n"
     ]
    },
    {
     "name": "stdout",
     "output_type": "stream",
     "text": [
      "Starting experimental run with id: 26. \n"
     ]
    },
    {
     "name": "stdout",
     "output_type": "stream",
     "text": [
      "Starting experimental run with id: 27. \n"
     ]
    },
    {
     "name": "stdout",
     "output_type": "stream",
     "text": [
      "Starting experimental run with id: 28. \n"
     ]
    }
   ],
   "source": [
    "sizes = [1,500,1000,2000,3000,4000,5000]\n",
    "nreps = 100\n",
    "t_numeric = []\n",
    "t_numeric_add = []\n",
    "t_numeric_run_ids = []\n",
    "t_array = []\n",
    "t_array_add = []\n",
    "t_array_run_ids = []\n",
    "for size in sizes:\n",
    "    tn, tna, run_id_n =  insert_data('numeric', size, nreps=nreps)\n",
    "    t_numeric.append(tn)\n",
    "    t_numeric_add.append(tna)\n",
    "    t_numeric_run_ids.append(run_id_n)\n",
    "\n",
    "    ta, taa, run_id_a =  insert_data('array', size, nreps=nreps)\n",
    "    t_array.append(ta)\n",
    "    t_array_add.append(taa)\n",
    "    t_array_run_ids.append(run_id_a)"
   ]
  },
  {
   "cell_type": "code",
   "execution_count": 8,
   "metadata": {
    "execution": {
     "iopub.execute_input": "2020-11-09T13:38:30.449110Z",
     "iopub.status.busy": "2020-11-09T13:38:30.438561Z",
     "iopub.status.idle": "2020-11-09T13:38:30.612282Z",
     "shell.execute_reply": "2020-11-09T13:38:30.613050Z"
    },
    "scrolled": true
   },
   "outputs": [
    {
     "data": {
      "image/png": "[encoded data removed]",
      "text/plain": [
       "<Figure size 432x288 with 1 Axes>"
      ]
     },
     "metadata": {
      "needs_background": "light"
     },
     "output_type": "display_data"
    }
   ],
   "source": [
    "fig, ax = plt.subplots(1,1)\n",
    "ax.plot(sizes, t_numeric, 'o-', label='Inserting row-by-row')\n",
    "ax.plot(sizes, t_numeric_add, 'o-', label='Inserting row-by-row: add_result only')\n",
    "ax.plot(sizes, t_array, 'd-', label='Inserting as binary blob')\n",
    "ax.plot(sizes, t_array_add, 'd-', label='Inserting as binary blob: add_result only')\n",
    "ax.legend()\n",
    "ax.set_xlabel('Array length')\n",
    "ax.set_ylabel('Time (s)')\n",
    "fig.tight_layout()"
   ]
  },
  {
   "cell_type": "markdown",
   "metadata": {},
   "source": [
    "However, as we increase the length of the experiment, as seen here by repeating the insertion 100 times, we see a big difference between inserting values of the data row-by-row and inserting it as a binary blob."
   ]
  },
  {
   "cell_type": "markdown",
   "metadata": {},
   "source": [
    "## Loading the data "
   ]
  },
  {
   "cell_type": "code",
   "execution_count": 9,
   "metadata": {
    "execution": {
     "iopub.execute_input": "2020-11-09T13:38:30.617772Z",
     "iopub.status.busy": "2020-11-09T13:38:30.616902Z",
     "iopub.status.idle": "2020-11-09T13:38:30.619338Z",
     "shell.execute_reply": "2020-11-09T13:38:30.619799Z"
    }
   },
   "outputs": [],
   "source": [
    "from qcodes.dataset.data_set import load_by_id\n",
    "from qcodes.dataset.data_export import get_data_by_id"
   ]
  },
  {
   "cell_type": "markdown",
   "metadata": {},
   "source": [
    "As usual you can load the data by using the ``load_by_id`` function but you will notice that the different storage methods\n",
    "are reflected in shape of the data as it is retrieved. "
   ]
  },
  {
   "cell_type": "code",
   "execution_count": 10,
   "metadata": {
    "execution": {
     "iopub.execute_input": "2020-11-09T13:38:30.623946Z",
     "iopub.status.busy": "2020-11-09T13:38:30.623161Z",
     "iopub.status.idle": "2020-11-09T13:38:30.624603Z",
     "shell.execute_reply": "2020-11-09T13:38:30.625132Z"
    }
   },
   "outputs": [],
   "source": [
    "run_id_n = t_numeric_run_ids[0]\n",
    "run_id_a = t_array_run_ids[0]"
   ]
  },
  {
   "cell_type": "code",
   "execution_count": 11,
   "metadata": {
    "execution": {
     "iopub.execute_input": "2020-11-09T13:38:30.628403Z",
     "iopub.status.busy": "2020-11-09T13:38:30.627844Z",
     "iopub.status.idle": "2020-11-09T13:38:30.636963Z",
     "shell.execute_reply": "2020-11-09T13:38:30.636508Z"
    },
    "scrolled": true
   },
   "outputs": [
    {
     "data": {
      "text/plain": [
       "{'x1': {'x1': array([0.30704437, 0.30704437, 0.60703547, 0.60703547, 0.77766692,\n",
       "         0.77766692, 0.8510511 , 0.8510511 , 0.66142117, 0.66142117,\n",
       "         0.42875323, 0.42875323, 0.1326485 , 0.1326485 , 0.51084425,\n",
       "         0.51084425, 0.71407983, 0.71407983, 0.67853117, 0.67853117,\n",
       "         0.15293353, 0.15293353, 0.10269591, 0.10269591, 0.87099944,\n",
       "         0.87099944, 0.99622162, 0.99622162, 0.26966156, 0.26966156,\n",
       "         0.61362879, 0.61362879, 0.67571403, 0.67571403, 0.02393304,\n",
       "         0.02393304, 0.5433048 , 0.5433048 , 0.97031351, 0.97031351,\n",
       "         0.98212566, 0.98212566, 0.35055602, 0.35055602, 0.16833555,\n",
       "         0.16833555, 0.27098673, 0.27098673, 0.7612848 , 0.7612848 ,\n",
       "         0.64800697, 0.64800697, 0.19594382, 0.19594382, 0.19123234,\n",
       "         0.19123234, 0.11338195, 0.11338195, 0.37636314, 0.37636314,\n",
       "         0.13493891, 0.13493891, 0.15282692, 0.15282692, 0.54018056,\n",
       "         0.54018056, 0.39437806, 0.39437806, 0.06849248, 0.06849248,\n",
       "         0.50227532, 0.50227532, 0.78136026, 0.78136026, 0.51429494,\n",
       "         0.51429494, 0.90565769, 0.90565769, 0.54650537, 0.54650537,\n",
       "         0.1053429 , 0.1053429 , 0.22317129, 0.22317129, 0.93948832,\n",
       "         0.93948832, 0.79829599, 0.79829599, 0.87876456, 0.87876456,\n",
       "         0.63394326, 0.63394326, 0.58578737, 0.58578737, 0.02153352,\n",
       "         0.02153352, 0.06565461, 0.06565461, 0.23968131, 0.23968131,\n",
       "         0.70539093, 0.70539093, 0.95137786, 0.95137786, 0.42977529,\n",
       "         0.42977529, 0.84049956, 0.84049956, 0.11432415, 0.11432415,\n",
       "         0.68584671, 0.68584671, 0.86553622, 0.86553622, 0.0741585 ,\n",
       "         0.0741585 , 0.23518758, 0.23518758, 0.51285765, 0.51285765,\n",
       "         0.46660266, 0.46660266, 0.34383177, 0.34383177, 0.28094589,\n",
       "         0.28094589, 0.46459969, 0.46459969, 0.2791038 , 0.2791038 ,\n",
       "         0.47342277, 0.47342277, 0.22870581, 0.22870581, 0.14323464,\n",
       "         0.14323464, 0.93905454, 0.93905454, 0.11858122, 0.11858122,\n",
       "         0.07430458, 0.07430458, 0.97044452, 0.97044452, 0.2820556 ,\n",
       "         0.2820556 , 0.40197985, 0.40197985, 0.53024094, 0.53024094,\n",
       "         0.51155826, 0.51155826, 0.56256644, 0.56256644, 0.4765456 ,\n",
       "         0.4765456 , 0.80338229, 0.80338229, 0.70453507, 0.70453507,\n",
       "         0.24655959, 0.24655959, 0.51169842, 0.51169842, 0.68463497,\n",
       "         0.68463497, 0.00110306, 0.00110306, 0.75715571, 0.75715571,\n",
       "         0.92619672, 0.92619672, 0.32311853, 0.32311853, 0.96832111,\n",
       "         0.96832111, 0.83357601, 0.83357601, 0.60609828, 0.60609828,\n",
       "         0.9044996 , 0.9044996 , 0.4323534 , 0.4323534 , 0.8220409 ,\n",
       "         0.8220409 , 0.70221778, 0.70221778, 0.68191527, 0.68191527,\n",
       "         0.47968636, 0.47968636, 0.05774627, 0.05774627, 0.94658758,\n",
       "         0.94658758, 0.1946854 , 0.1946854 , 0.91927908, 0.91927908])}}"
      ]
     },
     "execution_count": 1,
     "metadata": {},
     "output_type": "execute_result"
    }
   ],
   "source": [
    "ds = load_by_id(run_id_n)\n",
    "ds.get_parameter_data('x1')"
   ]
  },
  {
   "cell_type": "markdown",
   "metadata": {},
   "source": [
    "And a dataset stored as binary arrays"
   ]
  },
  {
   "cell_type": "code",
   "execution_count": 12,
   "metadata": {
    "execution": {
     "iopub.execute_input": "2020-11-09T13:38:30.640230Z",
     "iopub.status.busy": "2020-11-09T13:38:30.639653Z",
     "iopub.status.idle": "2020-11-09T13:38:30.692672Z",
     "shell.execute_reply": "2020-11-09T13:38:30.693137Z"
    },
    "scrolled": true
   },
   "outputs": [
    {
     "data": {
      "text/plain": [
       "{'x1': {'x1': array([[0.05986085],\n",
       "         [0.05986085],\n",
       "         [0.12650554],\n",
       "         [0.12650554],\n",
       "         [0.39407205],\n",
       "         [0.39407205],\n",
       "         [0.44054592],\n",
       "         [0.44054592],\n",
       "         [0.55352899],\n",
       "         [0.55352899],\n",
       "         [0.28316101],\n",
       "         [0.28316101],\n",
       "         [0.37356574],\n",
       "         [0.37356574],\n",
       "         [0.89386378],\n",
       "         [0.89386378],\n",
       "         [0.02696056],\n",
       "         [0.02696056],\n",
       "         [0.00606981],\n",
       "         [0.00606981],\n",
       "         [0.092799  ],\n",
       "         [0.092799  ],\n",
       "         [0.82903952],\n",
       "         [0.82903952],\n",
       "         [0.46453301],\n",
       "         [0.46453301],\n",
       "         [0.53255557],\n",
       "         [0.53255557],\n",
       "         [0.01830595],\n",
       "         [0.01830595],\n",
       "         [0.73015247],\n",
       "         [0.73015247],\n",
       "         [0.36790852],\n",
       "         [0.36790852],\n",
       "         [0.87430866],\n",
       "         [0.87430866],\n",
       "         [0.55929064],\n",
       "         [0.55929064],\n",
       "         [0.3421327 ],\n",
       "         [0.3421327 ],\n",
       "         [0.85706396],\n",
       "         [0.85706396],\n",
       "         [0.30379505],\n",
       "         [0.30379505],\n",
       "         [0.66226702],\n",
       "         [0.66226702],\n",
       "         [0.13113768],\n",
       "         [0.13113768],\n",
       "         [0.05622916],\n",
       "         [0.05622916],\n",
       "         [0.14195548],\n",
       "         [0.14195548],\n",
       "         [0.74467972],\n",
       "         [0.74467972],\n",
       "         [0.3791686 ],\n",
       "         [0.3791686 ],\n",
       "         [0.9674804 ],\n",
       "         [0.9674804 ],\n",
       "         [0.28789514],\n",
       "         [0.28789514],\n",
       "         [0.97932292],\n",
       "         [0.97932292],\n",
       "         [0.92919591],\n",
       "         [0.92919591],\n",
       "         [0.95580639],\n",
       "         [0.95580639],\n",
       "         [0.64882573],\n",
       "         [0.64882573],\n",
       "         [0.09877732],\n",
       "         [0.09877732],\n",
       "         [0.25228064],\n",
       "         [0.25228064],\n",
       "         [0.59509252],\n",
       "         [0.59509252],\n",
       "         [0.11218193],\n",
       "         [0.11218193],\n",
       "         [0.89740804],\n",
       "         [0.89740804],\n",
       "         [0.18994757],\n",
       "         [0.18994757],\n",
       "         [0.94994117],\n",
       "         [0.94994117],\n",
       "         [0.3971313 ],\n",
       "         [0.3971313 ],\n",
       "         [0.92582964],\n",
       "         [0.92582964],\n",
       "         [0.03607375],\n",
       "         [0.03607375],\n",
       "         [0.46945345],\n",
       "         [0.46945345],\n",
       "         [0.57568262],\n",
       "         [0.57568262],\n",
       "         [0.09285598],\n",
       "         [0.09285598],\n",
       "         [0.94259239],\n",
       "         [0.94259239],\n",
       "         [0.85574627],\n",
       "         [0.85574627],\n",
       "         [0.80926874],\n",
       "         [0.80926874],\n",
       "         [0.90224962],\n",
       "         [0.90224962],\n",
       "         [0.51348385],\n",
       "         [0.51348385],\n",
       "         [0.3770451 ],\n",
       "         [0.3770451 ],\n",
       "         [0.11029012],\n",
       "         [0.11029012],\n",
       "         [0.37068714],\n",
       "         [0.37068714],\n",
       "         [0.04240871],\n",
       "         [0.04240871],\n",
       "         [0.42247856],\n",
       "         [0.42247856],\n",
       "         [0.44075956],\n",
       "         [0.44075956],\n",
       "         [0.58432338],\n",
       "         [0.58432338],\n",
       "         [0.47927291],\n",
       "         [0.47927291],\n",
       "         [0.69706195],\n",
       "         [0.69706195],\n",
       "         [0.61837363],\n",
       "         [0.61837363],\n",
       "         [0.62742865],\n",
       "         [0.62742865],\n",
       "         [0.33063119],\n",
       "         [0.33063119],\n",
       "         [0.59382191],\n",
       "         [0.59382191],\n",
       "         [0.56405346],\n",
       "         [0.56405346],\n",
       "         [0.77779589],\n",
       "         [0.77779589],\n",
       "         [0.81127006],\n",
       "         [0.81127006],\n",
       "         [0.87003841],\n",
       "         [0.87003841],\n",
       "         [0.12486796],\n",
       "         [0.12486796],\n",
       "         [0.39848125],\n",
       "         [0.39848125],\n",
       "         [0.35155239],\n",
       "         [0.35155239],\n",
       "         [0.57768059],\n",
       "         [0.57768059],\n",
       "         [0.95898488],\n",
       "         [0.95898488],\n",
       "         [0.28943724],\n",
       "         [0.28943724],\n",
       "         [0.00417202],\n",
       "         [0.00417202],\n",
       "         [0.45423587],\n",
       "         [0.45423587],\n",
       "         [0.42265758],\n",
       "         [0.42265758],\n",
       "         [0.06436922],\n",
       "         [0.06436922],\n",
       "         [0.99190182],\n",
       "         [0.99190182],\n",
       "         [0.22672485],\n",
       "         [0.22672485],\n",
       "         [0.31971009],\n",
       "         [0.31971009],\n",
       "         [0.0065821 ],\n",
       "         [0.0065821 ],\n",
       "         [0.12582062],\n",
       "         [0.12582062],\n",
       "         [0.0919595 ],\n",
       "         [0.0919595 ],\n",
       "         [0.1977582 ],\n",
       "         [0.1977582 ],\n",
       "         [0.751959  ],\n",
       "         [0.751959  ],\n",
       "         [0.97564683],\n",
       "         [0.97564683],\n",
       "         [0.21508965],\n",
       "         [0.21508965],\n",
       "         [0.68254638],\n",
       "         [0.68254638],\n",
       "         [0.23790612],\n",
       "         [0.23790612],\n",
       "         [0.66920295],\n",
       "         [0.66920295],\n",
       "         [0.04663865],\n",
       "         [0.04663865],\n",
       "         [0.02012947],\n",
       "         [0.02012947],\n",
       "         [0.67447339],\n",
       "         [0.67447339],\n",
       "         [0.62379439],\n",
       "         [0.62379439],\n",
       "         [0.34788863],\n",
       "         [0.34788863],\n",
       "         [0.30202642],\n",
       "         [0.30202642],\n",
       "         [0.16190833],\n",
       "         [0.16190833],\n",
       "         [0.04922133],\n",
       "         [0.04922133]])}}"
      ]
     },
     "execution_count": 1,
     "metadata": {},
     "output_type": "execute_result"
    }
   ],
   "source": [
    "ds = load_by_id(run_id_a)\n",
    "ds.get_parameter_data('x1')"
   ]
  },
  {
   "cell_type": "code",
   "execution_count": null,
   "metadata": {},
   "outputs": [],
   "source": []
  }
 ],
 "metadata": {
  "kernelspec": {
   "display_name": "Python 3",
   "language": "python",
   "name": "python3"
  },
  "language_info": {
   "codemirror_mode": {
    "name": "ipython",
    "version": 3
   },
   "file_extension": ".py",
   "mimetype": "text/x-python",
   "name": "python",
   "nbconvert_exporter": "python",
   "pygments_lexer": "ipython3",
   "version": "3.7.9"
  },
  "nbsphinx": {
   "timeout": 600
  },
  "toc": {
   "base_numbering": 1,
   "nav_menu": {},
   "number_sections": true,
   "sideBar": true,
   "skip_h1_title": false,
   "title_cell": "Table of Contents",
   "title_sidebar": "Contents",
   "toc_cell": false,
   "toc_position": {},
   "toc_section_display": true,
   "toc_window_display": false
  },
  "varInspector": {
   "cols": {
    "lenName": 16,
    "lenType": 16,
    "lenVar": 40
   },
   "kernels_config": {
    "python": {
     "delete_cmd_postfix": "",
     "delete_cmd_prefix": "del ",
     "library": "var_list.py",
     "varRefreshCmd": "print(var_dic_list())"
    },
    "r": {
     "delete_cmd_postfix": ") ",
     "delete_cmd_prefix": "rm(",
     "library": "var_list.r",
     "varRefreshCmd": "cat(var_dic_list()) "
    }
   },
   "types_to_exclude": [
    "module",
    "function",
    "builtin_function_or_method",
    "instance",
    "_Feature"
   ],
   "window_display": false
  }
 },
 "nbformat": 4,
 "nbformat_minor": 2
}
