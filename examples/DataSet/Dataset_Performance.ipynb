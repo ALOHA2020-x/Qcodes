{
 "cells": [
  {
   "cell_type": "markdown",
   "metadata": {},
   "source": [
    "# DataSet Performance\n",
    "\n",
    "This notebook shows the trade-off between inserting data into a database row-by-row and as binary blobs. Inserting the data row-by-row means that we have direct access to all the data and may perform queries directly on the values of the data. On the other hand, as we shall see, this is much slower than inserting the data directly as binary blobs."
   ]
  },
  {
   "cell_type": "markdown",
   "metadata": {},
   "source": [
    "First, we choose a new location for the database to ensure that we don't add a bunch of benchmarking data to the default one."
   ]
  },
  {
   "cell_type": "code",
   "execution_count": 1,
   "metadata": {
    "execution": {
     "iopub.execute_input": "2021-01-05T16:41:58.088397Z",
     "iopub.status.busy": "2021-01-05T16:41:58.087820Z",
     "iopub.status.idle": "2021-01-05T16:41:59.230085Z",
     "shell.execute_reply": "2021-01-05T16:41:59.230571Z"
    }
   },
   "outputs": [
    {
     "name": "stdout",
     "output_type": "stream",
     "text": [
      "Logging hadn't been started.\n",
      "Activating auto-logging. Current session state plus future input saved.\n",
      "Filename       : /home/vsts/.qcodes/logs/command_history.log\n",
      "Mode           : append\n",
      "Output logging : True\n",
      "Raw input log  : False\n",
      "Timestamping   : True\n",
      "State          : active\n"
     ]
    },
    {
     "name": "stdout",
     "output_type": "stream",
     "text": [
      "Qcodes Logfile : /home/vsts/.qcodes/logs/210105-13718-qcodes.log\n"
     ]
    }
   ],
   "source": [
    "import os\n",
    "cwd = os.getcwd()\n",
    "import qcodes as qc\n",
    "qc.config[\"core\"][\"db_location\"] = os.path.join(cwd, 'testing.db')\n"
   ]
  },
  {
   "cell_type": "code",
   "execution_count": 2,
   "metadata": {
    "execution": {
     "iopub.execute_input": "2021-01-05T16:41:59.237174Z",
     "iopub.status.busy": "2021-01-05T16:41:59.236355Z",
     "iopub.status.idle": "2021-01-05T16:41:59.439613Z",
     "shell.execute_reply": "2021-01-05T16:41:59.437908Z"
    }
   },
   "outputs": [],
   "source": [
    "%matplotlib inline\n",
    "import time\n",
    "import matplotlib.pyplot as plt\n",
    "import numpy as np\n",
    "\n",
    "import qcodes as qc\n",
    "from qcodes.instrument.parameter import ManualParameter\n",
    "from qcodes.dataset.experiment_container import (Experiment,\n",
    "                                                 load_last_experiment,\n",
    "                                                 new_experiment)\n",
    "from qcodes.dataset.sqlite.database import initialise_database\n",
    "from qcodes import load_or_create_experiment\n",
    "from qcodes.dataset.measurements import Measurement"
   ]
  },
  {
   "cell_type": "code",
   "execution_count": 3,
   "metadata": {
    "execution": {
     "iopub.execute_input": "2021-01-05T16:41:59.443773Z",
     "iopub.status.busy": "2021-01-05T16:41:59.443171Z",
     "iopub.status.idle": "2021-01-05T16:41:59.562648Z",
     "shell.execute_reply": "2021-01-05T16:41:59.561846Z"
    }
   },
   "outputs": [
    {
     "name": "stdout",
     "output_type": "stream",
     "text": [
      "\r",
      "0it [00:00, ?it/s]"
     ]
    },
    {
     "name": "stdout",
     "output_type": "stream",
     "text": [
      "\r",
      "Upgrading database; v0 -> v1: : 0it [00:00, ?it/s]"
     ]
    },
    {
     "name": "stdout",
     "output_type": "stream",
     "text": [
      "\r",
      "Upgrading database; v0 -> v1: : 0it [00:00, ?it/s]"
     ]
    },
    {
     "name": "stdout",
     "output_type": "stream",
     "text": [
      "\n",
      "\r",
      "  0%|          | 0/1 [00:00<?, ?it/s]"
     ]
    },
    {
     "name": "stdout",
     "output_type": "stream",
     "text": [
      "\r",
      "Upgrading database; v1 -> v2:   0%|          | 0/1 [00:00<?, ?it/s]"
     ]
    },
    {
     "name": "stdout",
     "output_type": "stream",
     "text": [
      "\r",
      "Upgrading database; v1 -> v2: 100%|██████████| 1/1 [00:00<00:00, 489.13it/s]"
     ]
    },
    {
     "name": "stdout",
     "output_type": "stream",
     "text": [
      "\n",
      "\r",
      "0it [00:00, ?it/s]"
     ]
    },
    {
     "name": "stdout",
     "output_type": "stream",
     "text": [
      "\r",
      "Upgrading database; v2 -> v3: : 0it [00:00, ?it/s]"
     ]
    },
    {
     "name": "stdout",
     "output_type": "stream",
     "text": [
      "\r",
      "Upgrading database; v2 -> v3: : 0it [00:00, ?it/s]"
     ]
    },
    {
     "name": "stdout",
     "output_type": "stream",
     "text": [
      "\n",
      "\r",
      "0it [00:00, ?it/s]"
     ]
    },
    {
     "name": "stdout",
     "output_type": "stream",
     "text": [
      "\r",
      "Upgrading database; v3 -> v4: : 0it [00:00, ?it/s]"
     ]
    },
    {
     "name": "stdout",
     "output_type": "stream",
     "text": [
      "\r",
      "Upgrading database; v3 -> v4: : 0it [00:00, ?it/s]"
     ]
    },
    {
     "name": "stdout",
     "output_type": "stream",
     "text": [
      "\n",
      "\r",
      "  0%|          | 0/1 [00:00<?, ?it/s]"
     ]
    },
    {
     "name": "stdout",
     "output_type": "stream",
     "text": [
      "\r",
      "Upgrading database; v4 -> v5:   0%|          | 0/1 [00:00<?, ?it/s]"
     ]
    },
    {
     "name": "stdout",
     "output_type": "stream",
     "text": [
      "\r",
      "Upgrading database; v4 -> v5: 100%|██████████| 1/1 [00:00<00:00, 420.02it/s]"
     ]
    },
    {
     "name": "stdout",
     "output_type": "stream",
     "text": [
      "\n",
      "\r",
      "0it [00:00, ?it/s]"
     ]
    },
    {
     "name": "stdout",
     "output_type": "stream",
     "text": [
      "\r",
      "Upgrading database; v5 -> v6: : 0it [00:00, ?it/s]"
     ]
    },
    {
     "name": "stdout",
     "output_type": "stream",
     "text": [
      "\r",
      "Upgrading database; v5 -> v6: : 0it [00:00, ?it/s]"
     ]
    },
    {
     "name": "stdout",
     "output_type": "stream",
     "text": [
      "\n",
      "\r",
      "  0%|          | 0/1 [00:00<?, ?it/s]"
     ]
    },
    {
     "name": "stdout",
     "output_type": "stream",
     "text": [
      "\r",
      "Upgrading database; v6 -> v7:   0%|          | 0/1 [00:00<?, ?it/s]"
     ]
    },
    {
     "name": "stdout",
     "output_type": "stream",
     "text": [
      "\r",
      "Upgrading database; v6 -> v7: 100%|██████████| 1/1 [00:00<00:00, 311.31it/s]"
     ]
    },
    {
     "name": "stdout",
     "output_type": "stream",
     "text": [
      "\n",
      "\r",
      "  0%|          | 0/1 [00:00<?, ?it/s]"
     ]
    },
    {
     "name": "stdout",
     "output_type": "stream",
     "text": [
      "\r",
      "Upgrading database; v7 -> v8:   0%|          | 0/1 [00:00<?, ?it/s]"
     ]
    },
    {
     "name": "stdout",
     "output_type": "stream",
     "text": [
      "\r",
      "Upgrading database; v7 -> v8: 100%|██████████| 1/1 [00:00<00:00, 431.11it/s]"
     ]
    },
    {
     "name": "stdout",
     "output_type": "stream",
     "text": [
      "\n",
      "\r",
      "  0%|          | 0/1 [00:00<?, ?it/s]"
     ]
    },
    {
     "name": "stdout",
     "output_type": "stream",
     "text": [
      "\r",
      "Upgrading database; v8 -> v9:   0%|          | 0/1 [00:00<?, ?it/s]"
     ]
    },
    {
     "name": "stdout",
     "output_type": "stream",
     "text": [
      "\r",
      "Upgrading database; v8 -> v9: 100%|██████████| 1/1 [00:00<00:00, 1225.69it/s]"
     ]
    },
    {
     "name": "stdout",
     "output_type": "stream",
     "text": [
      "\n"
     ]
    }
   ],
   "source": [
    "initialise_database()\n",
    "exp = load_or_create_experiment(experiment_name='tutorial_exp', sample_name=\"no sample\")"
   ]
  },
  {
   "cell_type": "markdown",
   "metadata": {},
   "source": [
    "Here, we define a simple function to benchmark the time it takes to insert n points with either numeric or array data type.\n",
    "We will compare both the time used to call ``add_result`` and the time used for the full measurement."
   ]
  },
  {
   "cell_type": "code",
   "execution_count": 4,
   "metadata": {
    "execution": {
     "iopub.execute_input": "2021-01-05T16:41:59.571260Z",
     "iopub.status.busy": "2021-01-05T16:41:59.570683Z",
     "iopub.status.idle": "2021-01-05T16:41:59.574542Z",
     "shell.execute_reply": "2021-01-05T16:41:59.574033Z"
    }
   },
   "outputs": [],
   "source": [
    "def insert_data(paramtype, npoints, nreps=1):\n",
    "\n",
    "    meas = Measurement(exp=exp)\n",
    "\n",
    "    x1 = ManualParameter('x1')\n",
    "    x2 = ManualParameter('x2')\n",
    "    x3 = ManualParameter('x3')\n",
    "    y1 = ManualParameter('y1')\n",
    "    y2 = ManualParameter('y2')\n",
    "\n",
    "    meas.register_parameter(x1, paramtype=paramtype)\n",
    "    meas.register_parameter(x2, paramtype=paramtype)\n",
    "    meas.register_parameter(x3, paramtype=paramtype)\n",
    "    meas.register_parameter(y1, setpoints=[x1, x2, x3],\n",
    "                            paramtype=paramtype)\n",
    "    meas.register_parameter(y2, setpoints=[x1, x2, x3],\n",
    "                            paramtype=paramtype)\n",
    "    start = time.perf_counter()\n",
    "    with meas.run() as datasaver:\n",
    "        start_adding = time.perf_counter()\n",
    "        for i in range(nreps):\n",
    "            datasaver.add_result((x1, np.random.rand(npoints)),\n",
    "                                 (x2, np.random.rand(npoints)),\n",
    "                                 (x3, np.random.rand(npoints)),\n",
    "                                 (y1, np.random.rand(npoints)),\n",
    "                                 (y2, np.random.rand(npoints)))\n",
    "        stop_adding = time.perf_counter()\n",
    "        run_id = datasaver.run_id\n",
    "    stop = time.perf_counter()\n",
    "    tot_time = stop - start\n",
    "    add_time = stop_adding - start_adding\n",
    "    return tot_time, add_time, run_id"
   ]
  },
  {
   "cell_type": "markdown",
   "metadata": {},
   "source": [
    "## Comparison between numeric/array data and binary blob"
   ]
  },
  {
   "cell_type": "markdown",
   "metadata": {},
   "source": [
    "### Case1: Short experiment time"
   ]
  },
  {
   "cell_type": "code",
   "execution_count": 5,
   "metadata": {
    "execution": {
     "iopub.execute_input": "2021-01-05T16:41:59.581199Z",
     "iopub.status.busy": "2021-01-05T16:41:59.580360Z",
     "iopub.status.idle": "2021-01-05T16:42:00.478919Z",
     "shell.execute_reply": "2021-01-05T16:42:00.478085Z"
    }
   },
   "outputs": [
    {
     "name": "stdout",
     "output_type": "stream",
     "text": [
      "Starting experimental run with id: 1. \n",
      "Starting experimental run with id: 2. \n",
      "Starting experimental run with id: 3. \n",
      "Starting experimental run with id: 4. \n",
      "Starting experimental run with id: 5. \n"
     ]
    },
    {
     "name": "stdout",
     "output_type": "stream",
     "text": [
      "Starting experimental run with id: 6. \n"
     ]
    },
    {
     "name": "stdout",
     "output_type": "stream",
     "text": [
      "Starting experimental run with id: 7. \n"
     ]
    },
    {
     "name": "stdout",
     "output_type": "stream",
     "text": [
      "Starting experimental run with id: 8. \n",
      "Starting experimental run with id: 9. \n"
     ]
    },
    {
     "name": "stdout",
     "output_type": "stream",
     "text": [
      "Starting experimental run with id: 10. \n",
      "Starting experimental run with id: 11. \n"
     ]
    },
    {
     "name": "stdout",
     "output_type": "stream",
     "text": [
      "Starting experimental run with id: 12. \n"
     ]
    },
    {
     "name": "stdout",
     "output_type": "stream",
     "text": [
      "Starting experimental run with id: 13. \n"
     ]
    },
    {
     "name": "stdout",
     "output_type": "stream",
     "text": [
      "Starting experimental run with id: 14. \n"
     ]
    }
   ],
   "source": [
    "sizes = [1,500,1000,2000,3000,4000,5000]\n",
    "t_numeric = []\n",
    "t_numeric_add = []\n",
    "t_array = []\n",
    "t_array_add = []\n",
    "for size in sizes:\n",
    "    tn, tna, run_id_n =  insert_data('numeric', size)\n",
    "    t_numeric.append(tn)\n",
    "    t_numeric_add.append(tna)\n",
    "\n",
    "    ta, taa, run_id_a =  insert_data('array', size)\n",
    "    t_array.append(ta)\n",
    "    t_array_add.append(taa)"
   ]
  },
  {
   "cell_type": "code",
   "execution_count": 6,
   "metadata": {
    "execution": {
     "iopub.execute_input": "2021-01-05T16:42:00.502558Z",
     "iopub.status.busy": "2021-01-05T16:42:00.499560Z",
     "iopub.status.idle": "2021-01-05T16:42:00.711182Z",
     "shell.execute_reply": "2021-01-05T16:42:00.710660Z"
    }
   },
   "outputs": [
    {
     "data": {
      "image/png": "[encoded data removed]",
      "text/plain": [
       "<Figure size 432x288 with 1 Axes>"
      ]
     },
     "metadata": {
      "needs_background": "light"
     },
     "output_type": "display_data"
    }
   ],
   "source": [
    "fig, ax = plt.subplots(1,1)\n",
    "ax.plot(sizes, t_numeric, 'o-', label='Inserting row-by-row')\n",
    "ax.plot(sizes, t_numeric_add, 'o-', label='Inserting row-by-row: add_result only')\n",
    "ax.plot(sizes, t_array, 'd-', label='Inserting as binary blob')\n",
    "ax.plot(sizes, t_array_add, 'd-', label='Inserting as binary blob: add_result only')\n",
    "ax.legend()\n",
    "ax.set_xlabel('Array length')\n",
    "ax.set_ylabel('Time (s)')\n",
    "fig.tight_layout()"
   ]
  },
  {
   "cell_type": "markdown",
   "metadata": {},
   "source": [
    "As shown in the latter figure, the time to setup and and close the experiment is approximately 0.4 sec. In case of small array sizes, the difference between inserting values of data as arrays and inserting them row-by-row is relatively unimportant. At larger array sizes, i.e. above 10000 points, the cost of writing data as individual datapoints starts to become important.\n"
   ]
  },
  {
   "cell_type": "markdown",
   "metadata": {},
   "source": [
    "### Case2: Long experiment time "
   ]
  },
  {
   "cell_type": "code",
   "execution_count": 7,
   "metadata": {
    "execution": {
     "iopub.execute_input": "2021-01-05T16:42:00.718195Z",
     "iopub.status.busy": "2021-01-05T16:42:00.716935Z",
     "iopub.status.idle": "2021-01-05T16:43:00.980332Z",
     "shell.execute_reply": "2021-01-05T16:43:00.979710Z"
    }
   },
   "outputs": [
    {
     "name": "stdout",
     "output_type": "stream",
     "text": [
      "Starting experimental run with id: 15. \n",
      "Starting experimental run with id: 16. \n",
      "Starting experimental run with id: 17. \n"
     ]
    },
    {
     "name": "stdout",
     "output_type": "stream",
     "text": [
      "Starting experimental run with id: 18. \n",
      "Starting experimental run with id: 19. \n"
     ]
    },
    {
     "name": "stdout",
     "output_type": "stream",
     "text": [
      "Starting experimental run with id: 20. \n"
     ]
    },
    {
     "name": "stdout",
     "output_type": "stream",
     "text": [
      "Starting experimental run with id: 21. \n"
     ]
    },
    {
     "name": "stdout",
     "output_type": "stream",
     "text": [
      "Starting experimental run with id: 22. \n"
     ]
    },
    {
     "name": "stdout",
     "output_type": "stream",
     "text": [
      "Starting experimental run with id: 23. \n"
     ]
    },
    {
     "name": "stdout",
     "output_type": "stream",
     "text": [
      "Starting experimental run with id: 24. \n"
     ]
    },
    {
     "name": "stdout",
     "output_type": "stream",
     "text": [
      "Starting experimental run with id: 25. \n"
     ]
    },
    {
     "name": "stdout",
     "output_type": "stream",
     "text": [
      "Starting experimental run with id: 26. \n"
     ]
    },
    {
     "name": "stdout",
     "output_type": "stream",
     "text": [
      "Starting experimental run with id: 27. \n"
     ]
    },
    {
     "name": "stdout",
     "output_type": "stream",
     "text": [
      "Starting experimental run with id: 28. \n"
     ]
    }
   ],
   "source": [
    "sizes = [1,500,1000,2000,3000,4000,5000]\n",
    "nreps = 100\n",
    "t_numeric = []\n",
    "t_numeric_add = []\n",
    "t_numeric_run_ids = []\n",
    "t_array = []\n",
    "t_array_add = []\n",
    "t_array_run_ids = []\n",
    "for size in sizes:\n",
    "    tn, tna, run_id_n =  insert_data('numeric', size, nreps=nreps)\n",
    "    t_numeric.append(tn)\n",
    "    t_numeric_add.append(tna)\n",
    "    t_numeric_run_ids.append(run_id_n)\n",
    "\n",
    "    ta, taa, run_id_a =  insert_data('array', size, nreps=nreps)\n",
    "    t_array.append(ta)\n",
    "    t_array_add.append(taa)\n",
    "    t_array_run_ids.append(run_id_a)"
   ]
  },
  {
   "cell_type": "code",
   "execution_count": 8,
   "metadata": {
    "execution": {
     "iopub.execute_input": "2021-01-05T16:43:01.005464Z",
     "iopub.status.busy": "2021-01-05T16:43:00.999374Z",
     "iopub.status.idle": "2021-01-05T16:43:01.213115Z",
     "shell.execute_reply": "2021-01-05T16:43:01.212246Z"
    },
    "scrolled": true
   },
   "outputs": [
    {
     "data": {
      "image/png": "[encoded data removed]",
      "text/plain": [
       "<Figure size 432x288 with 1 Axes>"
      ]
     },
     "metadata": {
      "needs_background": "light"
     },
     "output_type": "display_data"
    }
   ],
   "source": [
    "fig, ax = plt.subplots(1,1)\n",
    "ax.plot(sizes, t_numeric, 'o-', label='Inserting row-by-row')\n",
    "ax.plot(sizes, t_numeric_add, 'o-', label='Inserting row-by-row: add_result only')\n",
    "ax.plot(sizes, t_array, 'd-', label='Inserting as binary blob')\n",
    "ax.plot(sizes, t_array_add, 'd-', label='Inserting as binary blob: add_result only')\n",
    "ax.legend()\n",
    "ax.set_xlabel('Array length')\n",
    "ax.set_ylabel('Time (s)')\n",
    "fig.tight_layout()"
   ]
  },
  {
   "cell_type": "markdown",
   "metadata": {},
   "source": [
    "However, as we increase the length of the experiment, as seen here by repeating the insertion 100 times, we see a big difference between inserting values of the data row-by-row and inserting it as a binary blob."
   ]
  },
  {
   "cell_type": "markdown",
   "metadata": {},
   "source": [
    "## Loading the data "
   ]
  },
  {
   "cell_type": "code",
   "execution_count": 9,
   "metadata": {
    "execution": {
     "iopub.execute_input": "2021-01-05T16:43:01.217579Z",
     "iopub.status.busy": "2021-01-05T16:43:01.216732Z",
     "iopub.status.idle": "2021-01-05T16:43:01.221766Z",
     "shell.execute_reply": "2021-01-05T16:43:01.221049Z"
    }
   },
   "outputs": [],
   "source": [
    "from qcodes.dataset.data_set import load_by_id\n",
    "from qcodes.dataset.data_export import get_data_by_id"
   ]
  },
  {
   "cell_type": "markdown",
   "metadata": {},
   "source": [
    "As usual you can load the data by using the ``load_by_id`` function but you will notice that the different storage methods\n",
    "are reflected in shape of the data as it is retrieved. "
   ]
  },
  {
   "cell_type": "code",
   "execution_count": 10,
   "metadata": {
    "execution": {
     "iopub.execute_input": "2021-01-05T16:43:01.225983Z",
     "iopub.status.busy": "2021-01-05T16:43:01.225387Z",
     "iopub.status.idle": "2021-01-05T16:43:01.229121Z",
     "shell.execute_reply": "2021-01-05T16:43:01.229685Z"
    }
   },
   "outputs": [],
   "source": [
    "run_id_n = t_numeric_run_ids[0]\n",
    "run_id_a = t_array_run_ids[0]"
   ]
  },
  {
   "cell_type": "code",
   "execution_count": 11,
   "metadata": {
    "execution": {
     "iopub.execute_input": "2021-01-05T16:43:01.233192Z",
     "iopub.status.busy": "2021-01-05T16:43:01.232621Z",
     "iopub.status.idle": "2021-01-05T16:43:01.245050Z",
     "shell.execute_reply": "2021-01-05T16:43:01.244542Z"
    },
    "scrolled": true
   },
   "outputs": [
    {
     "data": {
      "text/plain": [
       "{'x1': {'x1': array([0.40448194, 0.40448194, 0.34010393, 0.34010393, 0.7482371 ,\n",
       "         0.7482371 , 0.65875212, 0.65875212, 0.87680886, 0.87680886,\n",
       "         0.24801267, 0.24801267, 0.79925338, 0.79925338, 0.60477376,\n",
       "         0.60477376, 0.3538283 , 0.3538283 , 0.76563394, 0.76563394,\n",
       "         0.02130153, 0.02130153, 0.63697408, 0.63697408, 0.86682773,\n",
       "         0.86682773, 0.67874846, 0.67874846, 0.11154645, 0.11154645,\n",
       "         0.03185823, 0.03185823, 0.26848126, 0.26848126, 0.03746741,\n",
       "         0.03746741, 0.47216862, 0.47216862, 0.92215664, 0.92215664,\n",
       "         0.42099733, 0.42099733, 0.55717247, 0.55717247, 0.45609157,\n",
       "         0.45609157, 0.51516495, 0.51516495, 0.89748184, 0.89748184,\n",
       "         0.70992127, 0.70992127, 0.72857889, 0.72857889, 0.78506256,\n",
       "         0.78506256, 0.66029941, 0.66029941, 0.6467661 , 0.6467661 ,\n",
       "         0.2681385 , 0.2681385 , 0.800951  , 0.800951  , 0.21272483,\n",
       "         0.21272483, 0.32408299, 0.32408299, 0.96318953, 0.96318953,\n",
       "         0.86956327, 0.86956327, 0.81249768, 0.81249768, 0.24232689,\n",
       "         0.24232689, 0.37590656, 0.37590656, 0.66973772, 0.66973772,\n",
       "         0.21112834, 0.21112834, 0.34482303, 0.34482303, 0.63900847,\n",
       "         0.63900847, 0.51717953, 0.51717953, 0.75283073, 0.75283073,\n",
       "         0.99602105, 0.99602105, 0.437716  , 0.437716  , 0.16599326,\n",
       "         0.16599326, 0.80822381, 0.80822381, 0.34099007, 0.34099007,\n",
       "         0.7149392 , 0.7149392 , 0.7754433 , 0.7754433 , 0.08381977,\n",
       "         0.08381977, 0.18365022, 0.18365022, 0.64906733, 0.64906733,\n",
       "         0.20881498, 0.20881498, 0.53897844, 0.53897844, 0.17255408,\n",
       "         0.17255408, 0.48726751, 0.48726751, 0.45123925, 0.45123925,\n",
       "         0.42977086, 0.42977086, 0.76798088, 0.76798088, 0.70664088,\n",
       "         0.70664088, 0.68471312, 0.68471312, 0.80112974, 0.80112974,\n",
       "         0.03564445, 0.03564445, 0.79354962, 0.79354962, 0.25418441,\n",
       "         0.25418441, 0.0941989 , 0.0941989 , 0.1233294 , 0.1233294 ,\n",
       "         0.88792941, 0.88792941, 0.0726863 , 0.0726863 , 0.87029456,\n",
       "         0.87029456, 0.10061821, 0.10061821, 0.40635557, 0.40635557,\n",
       "         0.09351749, 0.09351749, 0.40013643, 0.40013643, 0.05507798,\n",
       "         0.05507798, 0.98158955, 0.98158955, 0.13058381, 0.13058381,\n",
       "         0.93926078, 0.93926078, 0.29585736, 0.29585736, 0.01813376,\n",
       "         0.01813376, 0.82608582, 0.82608582, 0.49695284, 0.49695284,\n",
       "         0.05269454, 0.05269454, 0.55024633, 0.55024633, 0.97685038,\n",
       "         0.97685038, 0.95505372, 0.95505372, 0.51816121, 0.51816121,\n",
       "         0.15952209, 0.15952209, 0.50272099, 0.50272099, 0.45096319,\n",
       "         0.45096319, 0.1448876 , 0.1448876 , 0.07403035, 0.07403035,\n",
       "         0.93143169, 0.93143169, 0.47337615, 0.47337615, 0.4410071 ,\n",
       "         0.4410071 , 0.4223623 , 0.4223623 , 0.91128273, 0.91128273])}}"
      ]
     },
     "execution_count": 1,
     "metadata": {},
     "output_type": "execute_result"
    }
   ],
   "source": [
    "ds = load_by_id(run_id_n)\n",
    "ds.get_parameter_data('x1')"
   ]
  },
  {
   "cell_type": "markdown",
   "metadata": {},
   "source": [
    "And a dataset stored as binary arrays"
   ]
  },
  {
   "cell_type": "code",
   "execution_count": 12,
   "metadata": {
    "execution": {
     "iopub.execute_input": "2021-01-05T16:43:01.248834Z",
     "iopub.status.busy": "2021-01-05T16:43:01.248228Z",
     "iopub.status.idle": "2021-01-05T16:43:01.311937Z",
     "shell.execute_reply": "2021-01-05T16:43:01.312516Z"
    },
    "scrolled": true
   },
   "outputs": [
    {
     "data": {
      "text/plain": [
       "{'x1': {'x1': array([[0.78432225],\n",
       "         [0.78432225],\n",
       "         [0.24929536],\n",
       "         [0.24929536],\n",
       "         [0.97144755],\n",
       "         [0.97144755],\n",
       "         [0.45244491],\n",
       "         [0.45244491],\n",
       "         [0.89605751],\n",
       "         [0.89605751],\n",
       "         [0.95061311],\n",
       "         [0.95061311],\n",
       "         [0.16199576],\n",
       "         [0.16199576],\n",
       "         [0.7603789 ],\n",
       "         [0.7603789 ],\n",
       "         [0.62604468],\n",
       "         [0.62604468],\n",
       "         [0.850823  ],\n",
       "         [0.850823  ],\n",
       "         [0.86625841],\n",
       "         [0.86625841],\n",
       "         [0.99521476],\n",
       "         [0.99521476],\n",
       "         [0.06466907],\n",
       "         [0.06466907],\n",
       "         [0.06403768],\n",
       "         [0.06403768],\n",
       "         [0.95132846],\n",
       "         [0.95132846],\n",
       "         [0.67303058],\n",
       "         [0.67303058],\n",
       "         [0.78454141],\n",
       "         [0.78454141],\n",
       "         [0.73166241],\n",
       "         [0.73166241],\n",
       "         [0.35505966],\n",
       "         [0.35505966],\n",
       "         [0.24555161],\n",
       "         [0.24555161],\n",
       "         [0.04884034],\n",
       "         [0.04884034],\n",
       "         [0.29598644],\n",
       "         [0.29598644],\n",
       "         [0.90088804],\n",
       "         [0.90088804],\n",
       "         [0.96929954],\n",
       "         [0.96929954],\n",
       "         [0.71955564],\n",
       "         [0.71955564],\n",
       "         [0.01961413],\n",
       "         [0.01961413],\n",
       "         [0.3346445 ],\n",
       "         [0.3346445 ],\n",
       "         [0.2082127 ],\n",
       "         [0.2082127 ],\n",
       "         [0.0064124 ],\n",
       "         [0.0064124 ],\n",
       "         [0.68629786],\n",
       "         [0.68629786],\n",
       "         [0.92190859],\n",
       "         [0.92190859],\n",
       "         [0.23334041],\n",
       "         [0.23334041],\n",
       "         [0.71347852],\n",
       "         [0.71347852],\n",
       "         [0.386325  ],\n",
       "         [0.386325  ],\n",
       "         [0.50762383],\n",
       "         [0.50762383],\n",
       "         [0.54030271],\n",
       "         [0.54030271],\n",
       "         [0.35629038],\n",
       "         [0.35629038],\n",
       "         [0.40810539],\n",
       "         [0.40810539],\n",
       "         [0.68515189],\n",
       "         [0.68515189],\n",
       "         [0.24000389],\n",
       "         [0.24000389],\n",
       "         [0.25325189],\n",
       "         [0.25325189],\n",
       "         [0.44969818],\n",
       "         [0.44969818],\n",
       "         [0.58660749],\n",
       "         [0.58660749],\n",
       "         [0.66324946],\n",
       "         [0.66324946],\n",
       "         [0.16668796],\n",
       "         [0.16668796],\n",
       "         [0.57124445],\n",
       "         [0.57124445],\n",
       "         [0.20724084],\n",
       "         [0.20724084],\n",
       "         [0.14745198],\n",
       "         [0.14745198],\n",
       "         [0.68532808],\n",
       "         [0.68532808],\n",
       "         [0.38834307],\n",
       "         [0.38834307],\n",
       "         [0.48297569],\n",
       "         [0.48297569],\n",
       "         [0.39515747],\n",
       "         [0.39515747],\n",
       "         [0.38538263],\n",
       "         [0.38538263],\n",
       "         [0.60090426],\n",
       "         [0.60090426],\n",
       "         [0.31814721],\n",
       "         [0.31814721],\n",
       "         [0.3965065 ],\n",
       "         [0.3965065 ],\n",
       "         [0.07529041],\n",
       "         [0.07529041],\n",
       "         [0.67827874],\n",
       "         [0.67827874],\n",
       "         [0.51700532],\n",
       "         [0.51700532],\n",
       "         [0.36214398],\n",
       "         [0.36214398],\n",
       "         [0.75603894],\n",
       "         [0.75603894],\n",
       "         [0.83518134],\n",
       "         [0.83518134],\n",
       "         [0.31697596],\n",
       "         [0.31697596],\n",
       "         [0.57023127],\n",
       "         [0.57023127],\n",
       "         [0.72388515],\n",
       "         [0.72388515],\n",
       "         [0.71272112],\n",
       "         [0.71272112],\n",
       "         [0.13292523],\n",
       "         [0.13292523],\n",
       "         [0.23956283],\n",
       "         [0.23956283],\n",
       "         [0.53424244],\n",
       "         [0.53424244],\n",
       "         [0.21645206],\n",
       "         [0.21645206],\n",
       "         [0.04739964],\n",
       "         [0.04739964],\n",
       "         [0.6946689 ],\n",
       "         [0.6946689 ],\n",
       "         [0.6605467 ],\n",
       "         [0.6605467 ],\n",
       "         [0.04730766],\n",
       "         [0.04730766],\n",
       "         [0.99564655],\n",
       "         [0.99564655],\n",
       "         [0.74401434],\n",
       "         [0.74401434],\n",
       "         [0.23555025],\n",
       "         [0.23555025],\n",
       "         [0.8432355 ],\n",
       "         [0.8432355 ],\n",
       "         [0.60771784],\n",
       "         [0.60771784],\n",
       "         [0.81082307],\n",
       "         [0.81082307],\n",
       "         [0.68077837],\n",
       "         [0.68077837],\n",
       "         [0.49767739],\n",
       "         [0.49767739],\n",
       "         [0.69692914],\n",
       "         [0.69692914],\n",
       "         [0.23168301],\n",
       "         [0.23168301],\n",
       "         [0.22310385],\n",
       "         [0.22310385],\n",
       "         [0.82423286],\n",
       "         [0.82423286],\n",
       "         [0.67466441],\n",
       "         [0.67466441],\n",
       "         [0.75133617],\n",
       "         [0.75133617],\n",
       "         [0.70925637],\n",
       "         [0.70925637],\n",
       "         [0.50689941],\n",
       "         [0.50689941],\n",
       "         [0.7141527 ],\n",
       "         [0.7141527 ],\n",
       "         [0.96682632],\n",
       "         [0.96682632],\n",
       "         [0.62667807],\n",
       "         [0.62667807],\n",
       "         [0.3668064 ],\n",
       "         [0.3668064 ],\n",
       "         [0.22903161],\n",
       "         [0.22903161],\n",
       "         [0.0921882 ],\n",
       "         [0.0921882 ],\n",
       "         [0.93578643],\n",
       "         [0.93578643],\n",
       "         [0.52429024],\n",
       "         [0.52429024],\n",
       "         [0.85967519],\n",
       "         [0.85967519],\n",
       "         [0.1921878 ],\n",
       "         [0.1921878 ]])}}"
      ]
     },
     "execution_count": 1,
     "metadata": {},
     "output_type": "execute_result"
    }
   ],
   "source": [
    "ds = load_by_id(run_id_a)\n",
    "ds.get_parameter_data('x1')"
   ]
  },
  {
   "cell_type": "code",
   "execution_count": null,
   "metadata": {},
   "outputs": [],
   "source": []
  }
 ],
 "metadata": {
  "kernelspec": {
   "display_name": "Python 3",
   "language": "python",
   "name": "python3"
  },
  "language_info": {
   "codemirror_mode": {
    "name": "ipython",
    "version": 3
   },
   "file_extension": ".py",
   "mimetype": "text/x-python",
   "name": "python",
   "nbconvert_exporter": "python",
   "pygments_lexer": "ipython3",
   "version": "3.7.9"
  },
  "nbsphinx": {
   "timeout": 600
  },
  "toc": {
   "base_numbering": 1,
   "nav_menu": {},
   "number_sections": true,
   "sideBar": true,
   "skip_h1_title": false,
   "title_cell": "Table of Contents",
   "title_sidebar": "Contents",
   "toc_cell": false,
   "toc_position": {},
   "toc_section_display": true,
   "toc_window_display": false
  },
  "varInspector": {
   "cols": {
    "lenName": 16,
    "lenType": 16,
    "lenVar": 40
   },
   "kernels_config": {
    "python": {
     "delete_cmd_postfix": "",
     "delete_cmd_prefix": "del ",
     "library": "var_list.py",
     "varRefreshCmd": "print(var_dic_list())"
    },
    "r": {
     "delete_cmd_postfix": ") ",
     "delete_cmd_prefix": "rm(",
     "library": "var_list.r",
     "varRefreshCmd": "cat(var_dic_list()) "
    }
   },
   "types_to_exclude": [
    "module",
    "function",
    "builtin_function_or_method",
    "instance",
    "_Feature"
   ],
   "window_display": false
  }
 },
 "nbformat": 4,
 "nbformat_minor": 2
}
