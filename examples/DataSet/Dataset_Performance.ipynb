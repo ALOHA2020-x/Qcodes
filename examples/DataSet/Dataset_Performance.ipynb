{
 "cells": [
  {
   "cell_type": "markdown",
   "metadata": {},
   "source": [
    "# DataSet Performance\n",
    "\n",
    "This notebook shows the trade-off between inserting data into a database row-by-row and as binary blobs. Inserting the data row-by-row means that we have direct access to all the data and may perform queries directly on the values of the data. On the other hand, as we shall see, this is much slower than inserting the data directly as binary blobs."
   ]
  },
  {
   "cell_type": "markdown",
   "metadata": {},
   "source": [
    "First, we choose a new location for the database to ensure that we don't add a bunch of benchmarking data to the default one."
   ]
  },
  {
   "cell_type": "code",
   "execution_count": 1,
   "metadata": {
    "execution": {
     "iopub.execute_input": "2020-09-17T19:11:44.814123Z",
     "iopub.status.busy": "2020-09-17T19:11:44.813640Z",
     "iopub.status.idle": "2020-09-17T19:11:45.756368Z",
     "shell.execute_reply": "2020-09-17T19:11:45.755921Z"
    }
   },
   "outputs": [
    {
     "name": "stdout",
     "output_type": "stream",
     "text": [
      "Logging hadn't been started.\n",
      "Activating auto-logging. Current session state plus future input saved.\n",
      "Filename       : /home/vsts/.qcodes/logs/command_history.log\n",
      "Mode           : append\n",
      "Output logging : True\n",
      "Raw input log  : False\n",
      "Timestamping   : True\n",
      "State          : active\n"
     ]
    },
    {
     "name": "stdout",
     "output_type": "stream",
     "text": [
      "Qcodes Logfile : /home/vsts/.qcodes/logs/200917-18928-qcodes.log\n"
     ]
    }
   ],
   "source": [
    "import os\n",
    "cwd = os.getcwd()\n",
    "import qcodes as qc\n",
    "qc.config[\"core\"][\"db_location\"] = os.path.join(cwd, 'testing.db')\n"
   ]
  },
  {
   "cell_type": "code",
   "execution_count": 2,
   "metadata": {
    "execution": {
     "iopub.execute_input": "2020-09-17T19:11:45.762680Z",
     "iopub.status.busy": "2020-09-17T19:11:45.761531Z",
     "iopub.status.idle": "2020-09-17T19:11:45.909187Z",
     "shell.execute_reply": "2020-09-17T19:11:45.908675Z"
    }
   },
   "outputs": [],
   "source": [
    "%matplotlib inline\n",
    "import time\n",
    "import matplotlib.pyplot as plt\n",
    "import numpy as np\n",
    "\n",
    "import qcodes as qc\n",
    "from qcodes.instrument.parameter import ManualParameter\n",
    "from qcodes.dataset.experiment_container import (Experiment,\n",
    "                                                 load_last_experiment,\n",
    "                                                 new_experiment)\n",
    "from qcodes.dataset.sqlite.database import initialise_database\n",
    "from qcodes import load_or_create_experiment\n",
    "from qcodes.dataset.measurements import Measurement"
   ]
  },
  {
   "cell_type": "code",
   "execution_count": 3,
   "metadata": {
    "execution": {
     "iopub.execute_input": "2020-09-17T19:11:45.912745Z",
     "iopub.status.busy": "2020-09-17T19:11:45.912208Z",
     "iopub.status.idle": "2020-09-17T19:11:45.984199Z",
     "shell.execute_reply": "2020-09-17T19:11:45.983657Z"
    }
   },
   "outputs": [
    {
     "name": "stdout",
     "output_type": "stream",
     "text": [
      "\r",
      "0it [00:00, ?it/s]"
     ]
    },
    {
     "name": "stdout",
     "output_type": "stream",
     "text": [
      "\r",
      "Upgrading database; v0 -> v1: : 0it [00:00, ?it/s]"
     ]
    },
    {
     "name": "stdout",
     "output_type": "stream",
     "text": [
      "\r",
      "Upgrading database; v0 -> v1: : 0it [00:00, ?it/s]"
     ]
    },
    {
     "name": "stdout",
     "output_type": "stream",
     "text": [
      "\n",
      "\r",
      "  0%|          | 0/1 [00:00<?, ?it/s]"
     ]
    },
    {
     "name": "stdout",
     "output_type": "stream",
     "text": [
      "\r",
      "Upgrading database; v1 -> v2:   0%|          | 0/1 [00:00<?, ?it/s]"
     ]
    },
    {
     "name": "stdout",
     "output_type": "stream",
     "text": [
      "\r",
      "Upgrading database; v1 -> v2: 100%|██████████| 1/1 [00:00<00:00, 414.70it/s]"
     ]
    },
    {
     "name": "stdout",
     "output_type": "stream",
     "text": [
      "\n",
      "\r",
      "0it [00:00, ?it/s]"
     ]
    },
    {
     "name": "stdout",
     "output_type": "stream",
     "text": [
      "\r",
      "Upgrading database; v2 -> v3: : 0it [00:00, ?it/s]"
     ]
    },
    {
     "name": "stdout",
     "output_type": "stream",
     "text": [
      "\r",
      "Upgrading database; v2 -> v3: : 0it [00:00, ?it/s]"
     ]
    },
    {
     "name": "stdout",
     "output_type": "stream",
     "text": [
      "\n",
      "\r",
      "0it [00:00, ?it/s]"
     ]
    },
    {
     "name": "stdout",
     "output_type": "stream",
     "text": [
      "\r",
      "Upgrading database; v3 -> v4: : 0it [00:00, ?it/s]"
     ]
    },
    {
     "name": "stdout",
     "output_type": "stream",
     "text": [
      "\r",
      "Upgrading database; v3 -> v4: : 0it [00:00, ?it/s]"
     ]
    },
    {
     "name": "stdout",
     "output_type": "stream",
     "text": [
      "\n",
      "\r",
      "  0%|          | 0/1 [00:00<?, ?it/s]"
     ]
    },
    {
     "name": "stdout",
     "output_type": "stream",
     "text": [
      "\r",
      "Upgrading database; v4 -> v5:   0%|          | 0/1 [00:00<?, ?it/s]"
     ]
    },
    {
     "name": "stdout",
     "output_type": "stream",
     "text": [
      "\r",
      "Upgrading database; v4 -> v5: 100%|██████████| 1/1 [00:00<00:00, 485.96it/s]"
     ]
    },
    {
     "name": "stdout",
     "output_type": "stream",
     "text": [
      "\n",
      "\r",
      "0it [00:00, ?it/s]"
     ]
    },
    {
     "name": "stdout",
     "output_type": "stream",
     "text": [
      "\r",
      "Upgrading database; v5 -> v6: : 0it [00:00, ?it/s]"
     ]
    },
    {
     "name": "stdout",
     "output_type": "stream",
     "text": [
      "\r",
      "Upgrading database; v5 -> v6: : 0it [00:00, ?it/s]"
     ]
    },
    {
     "name": "stdout",
     "output_type": "stream",
     "text": [
      "\n",
      "\r",
      "  0%|          | 0/1 [00:00<?, ?it/s]"
     ]
    },
    {
     "name": "stdout",
     "output_type": "stream",
     "text": [
      "\r",
      "Upgrading database; v6 -> v7:   0%|          | 0/1 [00:00<?, ?it/s]"
     ]
    },
    {
     "name": "stdout",
     "output_type": "stream",
     "text": [
      "\r",
      "Upgrading database; v6 -> v7: 100%|██████████| 1/1 [00:00<00:00, 293.00it/s]"
     ]
    },
    {
     "name": "stdout",
     "output_type": "stream",
     "text": [
      "\n",
      "\r",
      "  0%|          | 0/1 [00:00<?, ?it/s]"
     ]
    },
    {
     "name": "stdout",
     "output_type": "stream",
     "text": [
      "\r",
      "Upgrading database; v7 -> v8:   0%|          | 0/1 [00:00<?, ?it/s]"
     ]
    },
    {
     "name": "stdout",
     "output_type": "stream",
     "text": [
      "\r",
      "Upgrading database; v7 -> v8: 100%|██████████| 1/1 [00:00<00:00, 413.68it/s]"
     ]
    },
    {
     "name": "stdout",
     "output_type": "stream",
     "text": [
      "\n",
      "\r",
      "  0%|          | 0/1 [00:00<?, ?it/s]"
     ]
    },
    {
     "name": "stdout",
     "output_type": "stream",
     "text": [
      "\r",
      "Upgrading database; v8 -> v9:   0%|          | 0/1 [00:00<?, ?it/s]"
     ]
    },
    {
     "name": "stdout",
     "output_type": "stream",
     "text": [
      "\r",
      "Upgrading database; v8 -> v9: 100%|██████████| 1/1 [00:00<00:00, 492.29it/s]"
     ]
    },
    {
     "name": "stdout",
     "output_type": "stream",
     "text": [
      "\n"
     ]
    }
   ],
   "source": [
    "initialise_database()\n",
    "exp = load_or_create_experiment(experiment_name='tutorial_exp', sample_name=\"no sample\")"
   ]
  },
  {
   "cell_type": "markdown",
   "metadata": {},
   "source": [
    "Here, we define a simple function to benchmark the time it takes to insert n points with either numeric or array data type.\n",
    "We will compare both the time used to call ``add_result`` and the time used for the full measurement."
   ]
  },
  {
   "cell_type": "code",
   "execution_count": 4,
   "metadata": {
    "execution": {
     "iopub.execute_input": "2020-09-17T19:11:45.991388Z",
     "iopub.status.busy": "2020-09-17T19:11:45.990874Z",
     "iopub.status.idle": "2020-09-17T19:11:45.995159Z",
     "shell.execute_reply": "2020-09-17T19:11:45.994041Z"
    }
   },
   "outputs": [],
   "source": [
    "def insert_data(paramtype, npoints, nreps=1):\n",
    "\n",
    "    meas = Measurement(exp=exp)\n",
    "\n",
    "    x1 = ManualParameter('x1')\n",
    "    x2 = ManualParameter('x2')\n",
    "    x3 = ManualParameter('x3')\n",
    "    y1 = ManualParameter('y1')\n",
    "    y2 = ManualParameter('y2')\n",
    "\n",
    "    meas.register_parameter(x1, paramtype=paramtype)\n",
    "    meas.register_parameter(x2, paramtype=paramtype)\n",
    "    meas.register_parameter(x3, paramtype=paramtype)\n",
    "    meas.register_parameter(y1, setpoints=[x1, x2, x3],\n",
    "                            paramtype=paramtype)\n",
    "    meas.register_parameter(y2, setpoints=[x1, x2, x3],\n",
    "                            paramtype=paramtype)\n",
    "    start = time.perf_counter()\n",
    "    with meas.run() as datasaver:\n",
    "        start_adding = time.perf_counter()\n",
    "        for i in range(nreps):\n",
    "            datasaver.add_result((x1, np.random.rand(npoints)),\n",
    "                                 (x2, np.random.rand(npoints)),\n",
    "                                 (x3, np.random.rand(npoints)),\n",
    "                                 (y1, np.random.rand(npoints)),\n",
    "                                 (y2, np.random.rand(npoints)))\n",
    "        stop_adding = time.perf_counter()\n",
    "        run_id = datasaver.run_id\n",
    "    stop = time.perf_counter()\n",
    "    tot_time = stop - start\n",
    "    add_time = stop_adding - start_adding\n",
    "    return tot_time, add_time, run_id"
   ]
  },
  {
   "cell_type": "markdown",
   "metadata": {},
   "source": [
    "## Comparison between numeric/array data and binary blob"
   ]
  },
  {
   "cell_type": "markdown",
   "metadata": {},
   "source": [
    "### Case1: Short experiment time"
   ]
  },
  {
   "cell_type": "code",
   "execution_count": 5,
   "metadata": {
    "execution": {
     "iopub.execute_input": "2020-09-17T19:11:46.001056Z",
     "iopub.status.busy": "2020-09-17T19:11:45.999563Z",
     "iopub.status.idle": "2020-09-17T19:11:46.743905Z",
     "shell.execute_reply": "2020-09-17T19:11:46.743477Z"
    }
   },
   "outputs": [
    {
     "name": "stdout",
     "output_type": "stream",
     "text": [
      "Starting experimental run with id: 1. \n",
      "Starting experimental run with id: 2. \n",
      "Starting experimental run with id: 3. \n",
      "Starting experimental run with id: 4. \n"
     ]
    },
    {
     "name": "stdout",
     "output_type": "stream",
     "text": [
      "Starting experimental run with id: 5. \n"
     ]
    },
    {
     "name": "stdout",
     "output_type": "stream",
     "text": [
      "Starting experimental run with id: 6. \n"
     ]
    },
    {
     "name": "stdout",
     "output_type": "stream",
     "text": [
      "Starting experimental run with id: 7. \n"
     ]
    },
    {
     "name": "stdout",
     "output_type": "stream",
     "text": [
      "Starting experimental run with id: 8. \n",
      "Starting experimental run with id: 9. \n"
     ]
    },
    {
     "name": "stdout",
     "output_type": "stream",
     "text": [
      "Starting experimental run with id: 10. \n"
     ]
    },
    {
     "name": "stdout",
     "output_type": "stream",
     "text": [
      "Starting experimental run with id: 11. \n"
     ]
    },
    {
     "name": "stdout",
     "output_type": "stream",
     "text": [
      "Starting experimental run with id: 12. \n",
      "Starting experimental run with id: 13. \n"
     ]
    },
    {
     "name": "stdout",
     "output_type": "stream",
     "text": [
      "Starting experimental run with id: 14. \n"
     ]
    }
   ],
   "source": [
    "sizes = [1,500,1000,2000,3000,4000,5000]\n",
    "t_numeric = []\n",
    "t_numeric_add = []\n",
    "t_array = []\n",
    "t_array_add = []\n",
    "for size in sizes:\n",
    "    tn, tna, run_id_n =  insert_data('numeric', size)\n",
    "    t_numeric.append(tn)\n",
    "    t_numeric_add.append(tna)\n",
    "\n",
    "    ta, taa, run_id_a =  insert_data('array', size)\n",
    "    t_array.append(ta)\n",
    "    t_array_add.append(taa)"
   ]
  },
  {
   "cell_type": "code",
   "execution_count": 6,
   "metadata": {
    "execution": {
     "iopub.execute_input": "2020-09-17T19:11:46.749194Z",
     "iopub.status.busy": "2020-09-17T19:11:46.748559Z",
     "iopub.status.idle": "2020-09-17T19:11:46.973885Z",
     "shell.execute_reply": "2020-09-17T19:11:46.974291Z"
    }
   },
   "outputs": [
    {
     "data": {
      "image/png": "[encoded data removed]",
      "text/plain": [
       "<Figure size 432x288 with 1 Axes>"
      ]
     },
     "metadata": {
      "needs_background": "light"
     },
     "output_type": "display_data"
    }
   ],
   "source": [
    "fig, ax = plt.subplots(1,1)\n",
    "ax.plot(sizes, t_numeric, 'o-', label='Inserting row-by-row')\n",
    "ax.plot(sizes, t_numeric_add, 'o-', label='Inserting row-by-row: add_result only')\n",
    "ax.plot(sizes, t_array, 'd-', label='Inserting as binary blob')\n",
    "ax.plot(sizes, t_array_add, 'd-', label='Inserting as binary blob: add_result only')\n",
    "ax.legend()\n",
    "ax.set_xlabel('Array length')\n",
    "ax.set_ylabel('Time (s)')\n",
    "fig.tight_layout()"
   ]
  },
  {
   "cell_type": "markdown",
   "metadata": {},
   "source": [
    "As shown in the latter figure, the time to setup and and close the experiment is approximately 0.4 sec. In case of small array sizes, the difference between inserting values of data as arrays and inserting them row-by-row is relatively unimportant. At larger array sizes, i.e. above 10000 points, the cost of writing data as individual datapoints starts to become important.\n"
   ]
  },
  {
   "cell_type": "markdown",
   "metadata": {},
   "source": [
    "### Case2: Long experiment time "
   ]
  },
  {
   "cell_type": "code",
   "execution_count": 7,
   "metadata": {
    "execution": {
     "iopub.execute_input": "2020-09-17T19:11:46.980640Z",
     "iopub.status.busy": "2020-09-17T19:11:46.980005Z",
     "iopub.status.idle": "2020-09-17T19:12:39.891452Z",
     "shell.execute_reply": "2020-09-17T19:12:39.890278Z"
    }
   },
   "outputs": [
    {
     "name": "stdout",
     "output_type": "stream",
     "text": [
      "Starting experimental run with id: 15. \n",
      "Starting experimental run with id: 16. \n",
      "Starting experimental run with id: 17. \n"
     ]
    },
    {
     "name": "stdout",
     "output_type": "stream",
     "text": [
      "Starting experimental run with id: 18. \n",
      "Starting experimental run with id: 19. \n"
     ]
    },
    {
     "name": "stdout",
     "output_type": "stream",
     "text": [
      "Starting experimental run with id: 20. \n"
     ]
    },
    {
     "name": "stdout",
     "output_type": "stream",
     "text": [
      "Starting experimental run with id: 21. \n"
     ]
    },
    {
     "name": "stdout",
     "output_type": "stream",
     "text": [
      "Starting experimental run with id: 22. \n"
     ]
    },
    {
     "name": "stdout",
     "output_type": "stream",
     "text": [
      "Starting experimental run with id: 23. \n"
     ]
    },
    {
     "name": "stdout",
     "output_type": "stream",
     "text": [
      "Starting experimental run with id: 24. \n"
     ]
    },
    {
     "name": "stdout",
     "output_type": "stream",
     "text": [
      "Starting experimental run with id: 25. \n"
     ]
    },
    {
     "name": "stdout",
     "output_type": "stream",
     "text": [
      "Starting experimental run with id: 26. \n"
     ]
    },
    {
     "name": "stdout",
     "output_type": "stream",
     "text": [
      "Starting experimental run with id: 27. \n"
     ]
    },
    {
     "name": "stdout",
     "output_type": "stream",
     "text": [
      "Starting experimental run with id: 28. \n"
     ]
    }
   ],
   "source": [
    "sizes = [1,500,1000,2000,3000,4000,5000]\n",
    "nreps = 100\n",
    "t_numeric = []\n",
    "t_numeric_add = []\n",
    "t_numeric_run_ids = []\n",
    "t_array = []\n",
    "t_array_add = []\n",
    "t_array_run_ids = []\n",
    "for size in sizes:\n",
    "    tn, tna, run_id_n =  insert_data('numeric', size, nreps=nreps)\n",
    "    t_numeric.append(tn)\n",
    "    t_numeric_add.append(tna)\n",
    "    t_numeric_run_ids.append(run_id_n)\n",
    "\n",
    "    ta, taa, run_id_a =  insert_data('array', size, nreps=nreps)\n",
    "    t_array.append(ta)\n",
    "    t_array_add.append(taa)\n",
    "    t_array_run_ids.append(run_id_a)"
   ]
  },
  {
   "cell_type": "code",
   "execution_count": 8,
   "metadata": {
    "execution": {
     "iopub.execute_input": "2020-09-17T19:12:39.906234Z",
     "iopub.status.busy": "2020-09-17T19:12:39.902544Z",
     "iopub.status.idle": "2020-09-17T19:12:40.123873Z",
     "shell.execute_reply": "2020-09-17T19:12:40.123216Z"
    },
    "scrolled": true
   },
   "outputs": [
    {
     "data": {
      "image/png": "[encoded data removed]",
      "text/plain": [
       "<Figure size 432x288 with 1 Axes>"
      ]
     },
     "metadata": {
      "needs_background": "light"
     },
     "output_type": "display_data"
    }
   ],
   "source": [
    "fig, ax = plt.subplots(1,1)\n",
    "ax.plot(sizes, t_numeric, 'o-', label='Inserting row-by-row')\n",
    "ax.plot(sizes, t_numeric_add, 'o-', label='Inserting row-by-row: add_result only')\n",
    "ax.plot(sizes, t_array, 'd-', label='Inserting as binary blob')\n",
    "ax.plot(sizes, t_array_add, 'd-', label='Inserting as binary blob: add_result only')\n",
    "ax.legend()\n",
    "ax.set_xlabel('Array length')\n",
    "ax.set_ylabel('Time (s)')\n",
    "fig.tight_layout()"
   ]
  },
  {
   "cell_type": "markdown",
   "metadata": {},
   "source": [
    "However, as we increase the length of the experiment, as seen here by repeating the insertion 100 times, we see a big difference between inserting values of the data row-by-row and inserting it as a binary blob."
   ]
  },
  {
   "cell_type": "markdown",
   "metadata": {},
   "source": [
    "## Loading the data "
   ]
  },
  {
   "cell_type": "code",
   "execution_count": 9,
   "metadata": {
    "execution": {
     "iopub.execute_input": "2020-09-17T19:12:40.128309Z",
     "iopub.status.busy": "2020-09-17T19:12:40.127349Z",
     "iopub.status.idle": "2020-09-17T19:12:40.130818Z",
     "shell.execute_reply": "2020-09-17T19:12:40.130251Z"
    }
   },
   "outputs": [],
   "source": [
    "from qcodes.dataset.data_set import load_by_id\n",
    "from qcodes.dataset.data_export import get_data_by_id"
   ]
  },
  {
   "cell_type": "markdown",
   "metadata": {},
   "source": [
    "As usual you can load the data by using the ``load_by_id`` function but you will notice that the different storage methods\n",
    "are reflected in shape of the data as it is retrieved. "
   ]
  },
  {
   "cell_type": "code",
   "execution_count": 10,
   "metadata": {
    "execution": {
     "iopub.execute_input": "2020-09-17T19:12:40.134937Z",
     "iopub.status.busy": "2020-09-17T19:12:40.133861Z",
     "iopub.status.idle": "2020-09-17T19:12:40.135741Z",
     "shell.execute_reply": "2020-09-17T19:12:40.136206Z"
    }
   },
   "outputs": [],
   "source": [
    "run_id_n = t_numeric_run_ids[0]\n",
    "run_id_a = t_array_run_ids[0]"
   ]
  },
  {
   "cell_type": "code",
   "execution_count": 11,
   "metadata": {
    "execution": {
     "iopub.execute_input": "2020-09-17T19:12:40.139035Z",
     "iopub.status.busy": "2020-09-17T19:12:40.138535Z",
     "iopub.status.idle": "2020-09-17T19:12:40.147030Z",
     "shell.execute_reply": "2020-09-17T19:12:40.146548Z"
    },
    "scrolled": true
   },
   "outputs": [
    {
     "data": {
      "text/plain": [
       "{'x1': {'x1': array([0.71415275, 0.71415275, 0.94670128, 0.94670128, 0.61938155,\n",
       "         0.61938155, 0.64491929, 0.64491929, 0.40690998, 0.40690998,\n",
       "         0.92287936, 0.92287936, 0.63618096, 0.63618096, 0.87080844,\n",
       "         0.87080844, 0.82208243, 0.82208243, 0.93427895, 0.93427895,\n",
       "         0.10793753, 0.10793753, 0.85830032, 0.85830032, 0.12146638,\n",
       "         0.12146638, 0.21257435, 0.21257435, 0.67332005, 0.67332005,\n",
       "         0.17130864, 0.17130864, 0.96170322, 0.96170322, 0.14116751,\n",
       "         0.14116751, 0.55365529, 0.55365529, 0.32853096, 0.32853096,\n",
       "         0.56804872, 0.56804872, 0.09762754, 0.09762754, 0.29409935,\n",
       "         0.29409935, 0.15761433, 0.15761433, 0.31304327, 0.31304327,\n",
       "         0.44819361, 0.44819361, 0.59512456, 0.59512456, 0.81965877,\n",
       "         0.81965877, 0.71462147, 0.71462147, 0.71951855, 0.71951855,\n",
       "         0.45829315, 0.45829315, 0.84369469, 0.84369469, 0.65800141,\n",
       "         0.65800141, 0.28943352, 0.28943352, 0.38674487, 0.38674487,\n",
       "         0.94350644, 0.94350644, 0.5813667 , 0.5813667 , 0.60541559,\n",
       "         0.60541559, 0.63643806, 0.63643806, 0.47973868, 0.47973868,\n",
       "         0.56026584, 0.56026584, 0.25926178, 0.25926178, 0.78051804,\n",
       "         0.78051804, 0.4627948 , 0.4627948 , 0.88140375, 0.88140375,\n",
       "         0.67044898, 0.67044898, 0.37290284, 0.37290284, 0.65097314,\n",
       "         0.65097314, 0.41290215, 0.41290215, 0.8096122 , 0.8096122 ,\n",
       "         0.44761343, 0.44761343, 0.07794316, 0.07794316, 0.68641735,\n",
       "         0.68641735, 0.6882476 , 0.6882476 , 0.30012816, 0.30012816,\n",
       "         0.7705063 , 0.7705063 , 0.25756206, 0.25756206, 0.11864502,\n",
       "         0.11864502, 0.99148163, 0.99148163, 0.90146053, 0.90146053,\n",
       "         0.84130484, 0.84130484, 0.68959668, 0.68959668, 0.86256192,\n",
       "         0.86256192, 0.6069773 , 0.6069773 , 0.34336734, 0.34336734,\n",
       "         0.39577418, 0.39577418, 0.15833365, 0.15833365, 0.50233381,\n",
       "         0.50233381, 0.38679575, 0.38679575, 0.66764186, 0.66764186,\n",
       "         0.84825045, 0.84825045, 0.36067338, 0.36067338, 0.70451851,\n",
       "         0.70451851, 0.7974452 , 0.7974452 , 0.44492883, 0.44492883,\n",
       "         0.27299353, 0.27299353, 0.97247215, 0.97247215, 0.69391169,\n",
       "         0.69391169, 0.87944407, 0.87944407, 0.17708081, 0.17708081,\n",
       "         0.86925832, 0.86925832, 0.07888682, 0.07888682, 0.31048797,\n",
       "         0.31048797, 0.6204286 , 0.6204286 , 0.21901193, 0.21901193,\n",
       "         0.95543441, 0.95543441, 0.16980528, 0.16980528, 0.86120527,\n",
       "         0.86120527, 0.81401558, 0.81401558, 0.21005764, 0.21005764,\n",
       "         0.41440563, 0.41440563, 0.88859336, 0.88859336, 0.73936501,\n",
       "         0.73936501, 0.81849749, 0.81849749, 0.32609993, 0.32609993,\n",
       "         0.61174109, 0.61174109, 0.07502625, 0.07502625, 0.82385507,\n",
       "         0.82385507, 0.35516478, 0.35516478, 0.57910911, 0.57910911])}}"
      ]
     },
     "execution_count": 1,
     "metadata": {},
     "output_type": "execute_result"
    }
   ],
   "source": [
    "ds = load_by_id(run_id_n)\n",
    "ds.get_parameter_data('x1')"
   ]
  },
  {
   "cell_type": "markdown",
   "metadata": {},
   "source": [
    "And a dataset stored as binary arrays"
   ]
  },
  {
   "cell_type": "code",
   "execution_count": 12,
   "metadata": {
    "execution": {
     "iopub.execute_input": "2020-09-17T19:12:40.150975Z",
     "iopub.status.busy": "2020-09-17T19:12:40.150370Z",
     "iopub.status.idle": "2020-09-17T19:12:40.203967Z",
     "shell.execute_reply": "2020-09-17T19:12:40.203356Z"
    },
    "scrolled": true
   },
   "outputs": [
    {
     "data": {
      "text/plain": [
       "{'x1': {'x1': array([[0.67677324],\n",
       "         [0.67677324],\n",
       "         [0.89645966],\n",
       "         [0.89645966],\n",
       "         [0.58163465],\n",
       "         [0.58163465],\n",
       "         [0.71153363],\n",
       "         [0.71153363],\n",
       "         [0.91265413],\n",
       "         [0.91265413],\n",
       "         [0.28090242],\n",
       "         [0.28090242],\n",
       "         [0.0148379 ],\n",
       "         [0.0148379 ],\n",
       "         [0.69383464],\n",
       "         [0.69383464],\n",
       "         [0.27114889],\n",
       "         [0.27114889],\n",
       "         [0.12802977],\n",
       "         [0.12802977],\n",
       "         [0.26956114],\n",
       "         [0.26956114],\n",
       "         [0.674997  ],\n",
       "         [0.674997  ],\n",
       "         [0.07359141],\n",
       "         [0.07359141],\n",
       "         [0.34123419],\n",
       "         [0.34123419],\n",
       "         [0.93824412],\n",
       "         [0.93824412],\n",
       "         [0.1731005 ],\n",
       "         [0.1731005 ],\n",
       "         [0.5087402 ],\n",
       "         [0.5087402 ],\n",
       "         [0.73641779],\n",
       "         [0.73641779],\n",
       "         [0.74784597],\n",
       "         [0.74784597],\n",
       "         [0.11313305],\n",
       "         [0.11313305],\n",
       "         [0.59151209],\n",
       "         [0.59151209],\n",
       "         [0.3838477 ],\n",
       "         [0.3838477 ],\n",
       "         [0.71158622],\n",
       "         [0.71158622],\n",
       "         [0.49113159],\n",
       "         [0.49113159],\n",
       "         [0.62801732],\n",
       "         [0.62801732],\n",
       "         [0.30905539],\n",
       "         [0.30905539],\n",
       "         [0.19094504],\n",
       "         [0.19094504],\n",
       "         [0.28796625],\n",
       "         [0.28796625],\n",
       "         [0.69530516],\n",
       "         [0.69530516],\n",
       "         [0.69907279],\n",
       "         [0.69907279],\n",
       "         [0.35804022],\n",
       "         [0.35804022],\n",
       "         [0.48016261],\n",
       "         [0.48016261],\n",
       "         [0.25778737],\n",
       "         [0.25778737],\n",
       "         [0.47692602],\n",
       "         [0.47692602],\n",
       "         [0.92163991],\n",
       "         [0.92163991],\n",
       "         [0.22862368],\n",
       "         [0.22862368],\n",
       "         [0.06824229],\n",
       "         [0.06824229],\n",
       "         [0.54926185],\n",
       "         [0.54926185],\n",
       "         [0.92226285],\n",
       "         [0.92226285],\n",
       "         [0.32768195],\n",
       "         [0.32768195],\n",
       "         [0.53232439],\n",
       "         [0.53232439],\n",
       "         [0.02970758],\n",
       "         [0.02970758],\n",
       "         [0.19618494],\n",
       "         [0.19618494],\n",
       "         [0.79803436],\n",
       "         [0.79803436],\n",
       "         [0.88581672],\n",
       "         [0.88581672],\n",
       "         [0.69729753],\n",
       "         [0.69729753],\n",
       "         [0.526928  ],\n",
       "         [0.526928  ],\n",
       "         [0.73880957],\n",
       "         [0.73880957],\n",
       "         [0.43677212],\n",
       "         [0.43677212],\n",
       "         [0.21276112],\n",
       "         [0.21276112],\n",
       "         [0.99487227],\n",
       "         [0.99487227],\n",
       "         [0.77551202],\n",
       "         [0.77551202],\n",
       "         [0.38693494],\n",
       "         [0.38693494],\n",
       "         [0.99877474],\n",
       "         [0.99877474],\n",
       "         [0.54757935],\n",
       "         [0.54757935],\n",
       "         [0.6999194 ],\n",
       "         [0.6999194 ],\n",
       "         [0.13441089],\n",
       "         [0.13441089],\n",
       "         [0.09520133],\n",
       "         [0.09520133],\n",
       "         [0.48595057],\n",
       "         [0.48595057],\n",
       "         [0.07028358],\n",
       "         [0.07028358],\n",
       "         [0.88867316],\n",
       "         [0.88867316],\n",
       "         [0.14315435],\n",
       "         [0.14315435],\n",
       "         [0.77761532],\n",
       "         [0.77761532],\n",
       "         [0.22009332],\n",
       "         [0.22009332],\n",
       "         [0.52662494],\n",
       "         [0.52662494],\n",
       "         [0.69100475],\n",
       "         [0.69100475],\n",
       "         [0.2804923 ],\n",
       "         [0.2804923 ],\n",
       "         [0.91011731],\n",
       "         [0.91011731],\n",
       "         [0.19377662],\n",
       "         [0.19377662],\n",
       "         [0.70350528],\n",
       "         [0.70350528],\n",
       "         [0.80574144],\n",
       "         [0.80574144],\n",
       "         [0.0877372 ],\n",
       "         [0.0877372 ],\n",
       "         [0.33950144],\n",
       "         [0.33950144],\n",
       "         [0.14088268],\n",
       "         [0.14088268],\n",
       "         [0.73535167],\n",
       "         [0.73535167],\n",
       "         [0.53211784],\n",
       "         [0.53211784],\n",
       "         [0.23608822],\n",
       "         [0.23608822],\n",
       "         [0.2822747 ],\n",
       "         [0.2822747 ],\n",
       "         [0.75873768],\n",
       "         [0.75873768],\n",
       "         [0.63400177],\n",
       "         [0.63400177],\n",
       "         [0.97687799],\n",
       "         [0.97687799],\n",
       "         [0.01087228],\n",
       "         [0.01087228],\n",
       "         [0.72005442],\n",
       "         [0.72005442],\n",
       "         [0.07414846],\n",
       "         [0.07414846],\n",
       "         [0.26595915],\n",
       "         [0.26595915],\n",
       "         [0.50358933],\n",
       "         [0.50358933],\n",
       "         [0.55977171],\n",
       "         [0.55977171],\n",
       "         [0.32452739],\n",
       "         [0.32452739],\n",
       "         [0.90915794],\n",
       "         [0.90915794],\n",
       "         [0.14794966],\n",
       "         [0.14794966],\n",
       "         [0.51127286],\n",
       "         [0.51127286],\n",
       "         [0.34437135],\n",
       "         [0.34437135],\n",
       "         [0.18987558],\n",
       "         [0.18987558],\n",
       "         [0.77380398],\n",
       "         [0.77380398],\n",
       "         [0.58964885],\n",
       "         [0.58964885],\n",
       "         [0.07980298],\n",
       "         [0.07980298],\n",
       "         [0.76055241],\n",
       "         [0.76055241],\n",
       "         [0.71465197],\n",
       "         [0.71465197],\n",
       "         [0.92937985],\n",
       "         [0.92937985],\n",
       "         [0.07699041],\n",
       "         [0.07699041]])}}"
      ]
     },
     "execution_count": 1,
     "metadata": {},
     "output_type": "execute_result"
    }
   ],
   "source": [
    "ds = load_by_id(run_id_a)\n",
    "ds.get_parameter_data('x1')"
   ]
  },
  {
   "cell_type": "code",
   "execution_count": null,
   "metadata": {},
   "outputs": [],
   "source": []
  }
 ],
 "metadata": {
  "kernelspec": {
   "display_name": "Python 3",
   "language": "python",
   "name": "python3"
  },
  "language_info": {
   "codemirror_mode": {
    "name": "ipython",
    "version": 3
   },
   "file_extension": ".py",
   "mimetype": "text/x-python",
   "name": "python",
   "nbconvert_exporter": "python",
   "pygments_lexer": "ipython3",
   "version": "3.7.7"
  },
  "nbsphinx": {
   "timeout": 600
  },
  "toc": {
   "base_numbering": 1,
   "nav_menu": {},
   "number_sections": true,
   "sideBar": true,
   "skip_h1_title": false,
   "title_cell": "Table of Contents",
   "title_sidebar": "Contents",
   "toc_cell": false,
   "toc_position": {},
   "toc_section_display": true,
   "toc_window_display": false
  },
  "varInspector": {
   "cols": {
    "lenName": 16,
    "lenType": 16,
    "lenVar": 40
   },
   "kernels_config": {
    "python": {
     "delete_cmd_postfix": "",
     "delete_cmd_prefix": "del ",
     "library": "var_list.py",
     "varRefreshCmd": "print(var_dic_list())"
    },
    "r": {
     "delete_cmd_postfix": ") ",
     "delete_cmd_prefix": "rm(",
     "library": "var_list.r",
     "varRefreshCmd": "cat(var_dic_list()) "
    }
   },
   "types_to_exclude": [
    "module",
    "function",
    "builtin_function_or_method",
    "instance",
    "_Feature"
   ],
   "window_display": false
  }
 },
 "nbformat": 4,
 "nbformat_minor": 2
}
