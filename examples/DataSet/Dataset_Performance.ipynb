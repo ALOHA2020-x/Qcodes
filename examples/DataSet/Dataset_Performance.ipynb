{
 "cells": [
  {
   "cell_type": "markdown",
   "metadata": {},
   "source": [
    "# DataSet Performance\n",
    "\n",
    "This notebook shows the trade-off between inserting data into a database row-by-row and as binary blobs. Inserting the data row-by-row means that we have direct access to all the data and may perform queries directly on the values of the data. On the other hand, as we shall see, this is much slower than inserting the data directly as binary blobs."
   ]
  },
  {
   "cell_type": "markdown",
   "metadata": {},
   "source": [
    "First, we choose a new location for the database to ensure that we don't add a bunch of benchmarking data to the default one."
   ]
  },
  {
   "cell_type": "code",
   "execution_count": 1,
   "metadata": {
    "execution": {
     "iopub.execute_input": "2021-02-10T08:18:33.695055Z",
     "iopub.status.busy": "2021-02-10T08:18:33.694373Z",
     "iopub.status.idle": "2021-02-10T08:18:34.766304Z",
     "shell.execute_reply": "2021-02-10T08:18:34.766739Z"
    }
   },
   "outputs": [
    {
     "name": "stdout",
     "output_type": "stream",
     "text": [
      "Logging hadn't been started.\n",
      "Activating auto-logging. Current session state plus future input saved.\n",
      "Filename       : /home/vsts/.qcodes/logs/command_history.log\n",
      "Mode           : append\n",
      "Output logging : True\n",
      "Raw input log  : False\n",
      "Timestamping   : True\n",
      "State          : active\n"
     ]
    },
    {
     "name": "stdout",
     "output_type": "stream",
     "text": [
      "Qcodes Logfile : /home/vsts/.qcodes/logs/210210-13936-qcodes.log\n"
     ]
    }
   ],
   "source": [
    "import os\n",
    "cwd = os.getcwd()\n",
    "import qcodes as qc\n",
    "qc.config[\"core\"][\"db_location\"] = os.path.join(cwd, 'testing.db')\n"
   ]
  },
  {
   "cell_type": "code",
   "execution_count": 2,
   "metadata": {
    "execution": {
     "iopub.execute_input": "2021-02-10T08:18:34.773929Z",
     "iopub.status.busy": "2021-02-10T08:18:34.773352Z",
     "iopub.status.idle": "2021-02-10T08:18:34.982558Z",
     "shell.execute_reply": "2021-02-10T08:18:34.982040Z"
    }
   },
   "outputs": [],
   "source": [
    "%matplotlib inline\n",
    "import time\n",
    "import matplotlib.pyplot as plt\n",
    "import numpy as np\n",
    "\n",
    "import qcodes as qc\n",
    "from qcodes.instrument.parameter import ManualParameter\n",
    "from qcodes.dataset.experiment_container import (Experiment,\n",
    "                                                 load_last_experiment,\n",
    "                                                 new_experiment)\n",
    "from qcodes.dataset.sqlite.database import initialise_database\n",
    "from qcodes import load_or_create_experiment\n",
    "from qcodes.dataset.measurements import Measurement"
   ]
  },
  {
   "cell_type": "code",
   "execution_count": 3,
   "metadata": {
    "execution": {
     "iopub.execute_input": "2021-02-10T08:18:34.986641Z",
     "iopub.status.busy": "2021-02-10T08:18:34.985964Z",
     "iopub.status.idle": "2021-02-10T08:18:35.103243Z",
     "shell.execute_reply": "2021-02-10T08:18:35.103703Z"
    }
   },
   "outputs": [
    {
     "name": "stdout",
     "output_type": "stream",
     "text": [
      "\r",
      "0it [00:00, ?it/s]"
     ]
    },
    {
     "name": "stdout",
     "output_type": "stream",
     "text": [
      "\r",
      "Upgrading database; v0 -> v1: : 0it [00:00, ?it/s]"
     ]
    },
    {
     "name": "stdout",
     "output_type": "stream",
     "text": [
      "\r",
      "Upgrading database; v0 -> v1: : 0it [00:00, ?it/s]"
     ]
    },
    {
     "name": "stdout",
     "output_type": "stream",
     "text": [
      "\n",
      "\r",
      "  0%|          | 0/1 [00:00<?, ?it/s]"
     ]
    },
    {
     "name": "stdout",
     "output_type": "stream",
     "text": [
      "\r",
      "Upgrading database; v1 -> v2:   0%|          | 0/1 [00:00<?, ?it/s]"
     ]
    },
    {
     "name": "stdout",
     "output_type": "stream",
     "text": [
      "\r",
      "Upgrading database; v1 -> v2: 100%|██████████| 1/1 [00:00<00:00, 996.75it/s]"
     ]
    },
    {
     "name": "stdout",
     "output_type": "stream",
     "text": [
      "\n",
      "\r",
      "0it [00:00, ?it/s]"
     ]
    },
    {
     "name": "stdout",
     "output_type": "stream",
     "text": [
      "\r",
      "Upgrading database; v2 -> v3: : 0it [00:00, ?it/s]"
     ]
    },
    {
     "name": "stdout",
     "output_type": "stream",
     "text": [
      "\r",
      "Upgrading database; v2 -> v3: : 0it [00:00, ?it/s]"
     ]
    },
    {
     "name": "stdout",
     "output_type": "stream",
     "text": [
      "\n",
      "\r",
      "0it [00:00, ?it/s]"
     ]
    },
    {
     "name": "stdout",
     "output_type": "stream",
     "text": [
      "\r",
      "Upgrading database; v3 -> v4: : 0it [00:00, ?it/s]"
     ]
    },
    {
     "name": "stdout",
     "output_type": "stream",
     "text": [
      "\r",
      "Upgrading database; v3 -> v4: : 0it [00:00, ?it/s]"
     ]
    },
    {
     "name": "stdout",
     "output_type": "stream",
     "text": [
      "\n",
      "\r",
      "  0%|          | 0/1 [00:00<?, ?it/s]"
     ]
    },
    {
     "name": "stdout",
     "output_type": "stream",
     "text": [
      "\r",
      "Upgrading database; v4 -> v5:   0%|          | 0/1 [00:00<?, ?it/s]"
     ]
    },
    {
     "name": "stdout",
     "output_type": "stream",
     "text": [
      "\r",
      "Upgrading database; v4 -> v5: 100%|██████████| 1/1 [00:00<00:00, 422.30it/s]"
     ]
    },
    {
     "name": "stdout",
     "output_type": "stream",
     "text": [
      "\n",
      "\r",
      "0it [00:00, ?it/s]"
     ]
    },
    {
     "name": "stdout",
     "output_type": "stream",
     "text": [
      "\r",
      "Upgrading database; v5 -> v6: : 0it [00:00, ?it/s]"
     ]
    },
    {
     "name": "stdout",
     "output_type": "stream",
     "text": [
      "\r",
      "Upgrading database; v5 -> v6: : 0it [00:00, ?it/s]"
     ]
    },
    {
     "name": "stdout",
     "output_type": "stream",
     "text": [
      "\n",
      "\r",
      "  0%|          | 0/1 [00:00<?, ?it/s]"
     ]
    },
    {
     "name": "stdout",
     "output_type": "stream",
     "text": [
      "\r",
      "Upgrading database; v6 -> v7:   0%|          | 0/1 [00:00<?, ?it/s]"
     ]
    },
    {
     "name": "stdout",
     "output_type": "stream",
     "text": [
      "\r",
      "Upgrading database; v6 -> v7: 100%|██████████| 1/1 [00:00<00:00, 506.19it/s]"
     ]
    },
    {
     "name": "stdout",
     "output_type": "stream",
     "text": [
      "\n",
      "\r",
      "  0%|          | 0/1 [00:00<?, ?it/s]"
     ]
    },
    {
     "name": "stdout",
     "output_type": "stream",
     "text": [
      "\r",
      "Upgrading database; v7 -> v8:   0%|          | 0/1 [00:00<?, ?it/s]"
     ]
    },
    {
     "name": "stdout",
     "output_type": "stream",
     "text": [
      "\r",
      "Upgrading database; v7 -> v8: 100%|██████████| 1/1 [00:00<00:00, 308.79it/s]"
     ]
    },
    {
     "name": "stdout",
     "output_type": "stream",
     "text": [
      "\n",
      "\r",
      "  0%|          | 0/1 [00:00<?, ?it/s]"
     ]
    },
    {
     "name": "stdout",
     "output_type": "stream",
     "text": [
      "\r",
      "Upgrading database; v8 -> v9:   0%|          | 0/1 [00:00<?, ?it/s]"
     ]
    },
    {
     "name": "stdout",
     "output_type": "stream",
     "text": [
      "\r",
      "Upgrading database; v8 -> v9: 100%|██████████| 1/1 [00:00<00:00, 511.13it/s]"
     ]
    },
    {
     "name": "stdout",
     "output_type": "stream",
     "text": [
      "\n"
     ]
    }
   ],
   "source": [
    "initialise_database()\n",
    "exp = load_or_create_experiment(experiment_name='tutorial_exp', sample_name=\"no sample\")"
   ]
  },
  {
   "cell_type": "markdown",
   "metadata": {},
   "source": [
    "Here, we define a simple function to benchmark the time it takes to insert n points with either numeric or array data type.\n",
    "We will compare both the time used to call ``add_result`` and the time used for the full measurement."
   ]
  },
  {
   "cell_type": "code",
   "execution_count": 4,
   "metadata": {
    "execution": {
     "iopub.execute_input": "2021-02-10T08:18:35.112005Z",
     "iopub.status.busy": "2021-02-10T08:18:35.110622Z",
     "iopub.status.idle": "2021-02-10T08:18:35.114989Z",
     "shell.execute_reply": "2021-02-10T08:18:35.114504Z"
    }
   },
   "outputs": [],
   "source": [
    "def insert_data(paramtype, npoints, nreps=1):\n",
    "\n",
    "    meas = Measurement(exp=exp)\n",
    "\n",
    "    x1 = ManualParameter('x1')\n",
    "    x2 = ManualParameter('x2')\n",
    "    x3 = ManualParameter('x3')\n",
    "    y1 = ManualParameter('y1')\n",
    "    y2 = ManualParameter('y2')\n",
    "\n",
    "    meas.register_parameter(x1, paramtype=paramtype)\n",
    "    meas.register_parameter(x2, paramtype=paramtype)\n",
    "    meas.register_parameter(x3, paramtype=paramtype)\n",
    "    meas.register_parameter(y1, setpoints=[x1, x2, x3],\n",
    "                            paramtype=paramtype)\n",
    "    meas.register_parameter(y2, setpoints=[x1, x2, x3],\n",
    "                            paramtype=paramtype)\n",
    "    start = time.perf_counter()\n",
    "    with meas.run() as datasaver:\n",
    "        start_adding = time.perf_counter()\n",
    "        for i in range(nreps):\n",
    "            datasaver.add_result((x1, np.random.rand(npoints)),\n",
    "                                 (x2, np.random.rand(npoints)),\n",
    "                                 (x3, np.random.rand(npoints)),\n",
    "                                 (y1, np.random.rand(npoints)),\n",
    "                                 (y2, np.random.rand(npoints)))\n",
    "        stop_adding = time.perf_counter()\n",
    "        run_id = datasaver.run_id\n",
    "    stop = time.perf_counter()\n",
    "    tot_time = stop - start\n",
    "    add_time = stop_adding - start_adding\n",
    "    return tot_time, add_time, run_id"
   ]
  },
  {
   "cell_type": "markdown",
   "metadata": {},
   "source": [
    "## Comparison between numeric/array data and binary blob"
   ]
  },
  {
   "cell_type": "markdown",
   "metadata": {},
   "source": [
    "### Case1: Short experiment time"
   ]
  },
  {
   "cell_type": "code",
   "execution_count": 5,
   "metadata": {
    "execution": {
     "iopub.execute_input": "2021-02-10T08:18:35.121674Z",
     "iopub.status.busy": "2021-02-10T08:18:35.120278Z",
     "iopub.status.idle": "2021-02-10T08:18:36.002429Z",
     "shell.execute_reply": "2021-02-10T08:18:36.001915Z"
    }
   },
   "outputs": [
    {
     "name": "stdout",
     "output_type": "stream",
     "text": [
      "Starting experimental run with id: 1. \n",
      "Starting experimental run with id: 2. \n",
      "Starting experimental run with id: 3. \n",
      "Starting experimental run with id: 4. \n",
      "Starting experimental run with id: 5. \n"
     ]
    },
    {
     "name": "stdout",
     "output_type": "stream",
     "text": [
      "Starting experimental run with id: 6. \n"
     ]
    },
    {
     "name": "stdout",
     "output_type": "stream",
     "text": [
      "Starting experimental run with id: 7. \n"
     ]
    },
    {
     "name": "stdout",
     "output_type": "stream",
     "text": [
      "Starting experimental run with id: 8. \n",
      "Starting experimental run with id: 9. \n"
     ]
    },
    {
     "name": "stdout",
     "output_type": "stream",
     "text": [
      "Starting experimental run with id: 10. \n",
      "Starting experimental run with id: 11. \n"
     ]
    },
    {
     "name": "stdout",
     "output_type": "stream",
     "text": [
      "Starting experimental run with id: 12. \n",
      "Starting experimental run with id: 13. \n"
     ]
    },
    {
     "name": "stdout",
     "output_type": "stream",
     "text": [
      "Starting experimental run with id: 14. \n"
     ]
    }
   ],
   "source": [
    "sizes = [1,500,1000,2000,3000,4000,5000]\n",
    "t_numeric = []\n",
    "t_numeric_add = []\n",
    "t_array = []\n",
    "t_array_add = []\n",
    "for size in sizes:\n",
    "    tn, tna, run_id_n =  insert_data('numeric', size)\n",
    "    t_numeric.append(tn)\n",
    "    t_numeric_add.append(tna)\n",
    "\n",
    "    ta, taa, run_id_a =  insert_data('array', size)\n",
    "    t_array.append(ta)\n",
    "    t_array_add.append(taa)"
   ]
  },
  {
   "cell_type": "code",
   "execution_count": 6,
   "metadata": {
    "execution": {
     "iopub.execute_input": "2021-02-10T08:18:36.038668Z",
     "iopub.status.busy": "2021-02-10T08:18:36.022257Z",
     "iopub.status.idle": "2021-02-10T08:18:36.208748Z",
     "shell.execute_reply": "2021-02-10T08:18:36.209312Z"
    }
   },
   "outputs": [
    {
     "data": {
      "image/png": "[encoded data removed]",
      "text/plain": [
       "<Figure size 432x288 with 1 Axes>"
      ]
     },
     "metadata": {
      "needs_background": "light"
     },
     "output_type": "display_data"
    }
   ],
   "source": [
    "fig, ax = plt.subplots(1,1)\n",
    "ax.plot(sizes, t_numeric, 'o-', label='Inserting row-by-row')\n",
    "ax.plot(sizes, t_numeric_add, 'o-', label='Inserting row-by-row: add_result only')\n",
    "ax.plot(sizes, t_array, 'd-', label='Inserting as binary blob')\n",
    "ax.plot(sizes, t_array_add, 'd-', label='Inserting as binary blob: add_result only')\n",
    "ax.legend()\n",
    "ax.set_xlabel('Array length')\n",
    "ax.set_ylabel('Time (s)')\n",
    "fig.tight_layout()"
   ]
  },
  {
   "cell_type": "markdown",
   "metadata": {},
   "source": [
    "As shown in the latter figure, the time to setup and and close the experiment is approximately 0.4 sec. In case of small array sizes, the difference between inserting values of data as arrays and inserting them row-by-row is relatively unimportant. At larger array sizes, i.e. above 10000 points, the cost of writing data as individual datapoints starts to become important.\n"
   ]
  },
  {
   "cell_type": "markdown",
   "metadata": {},
   "source": [
    "### Case2: Long experiment time "
   ]
  },
  {
   "cell_type": "code",
   "execution_count": 7,
   "metadata": {
    "execution": {
     "iopub.execute_input": "2021-02-10T08:18:36.212012Z",
     "iopub.status.busy": "2021-02-10T08:18:36.211438Z",
     "iopub.status.idle": "2021-02-10T08:19:36.705757Z",
     "shell.execute_reply": "2021-02-10T08:19:36.706227Z"
    }
   },
   "outputs": [
    {
     "name": "stdout",
     "output_type": "stream",
     "text": [
      "Starting experimental run with id: 15. \n",
      "Starting experimental run with id: 16. \n",
      "Starting experimental run with id: 17. \n"
     ]
    },
    {
     "name": "stdout",
     "output_type": "stream",
     "text": [
      "Starting experimental run with id: 18. \n"
     ]
    },
    {
     "name": "stdout",
     "output_type": "stream",
     "text": [
      "Starting experimental run with id: 19. \n"
     ]
    },
    {
     "name": "stdout",
     "output_type": "stream",
     "text": [
      "Starting experimental run with id: 20. \n"
     ]
    },
    {
     "name": "stdout",
     "output_type": "stream",
     "text": [
      "Starting experimental run with id: 21. \n"
     ]
    },
    {
     "name": "stdout",
     "output_type": "stream",
     "text": [
      "Starting experimental run with id: 22. \n"
     ]
    },
    {
     "name": "stdout",
     "output_type": "stream",
     "text": [
      "Starting experimental run with id: 23. \n"
     ]
    },
    {
     "name": "stdout",
     "output_type": "stream",
     "text": [
      "Starting experimental run with id: 24. \n"
     ]
    },
    {
     "name": "stdout",
     "output_type": "stream",
     "text": [
      "Starting experimental run with id: 25. \n"
     ]
    },
    {
     "name": "stdout",
     "output_type": "stream",
     "text": [
      "Starting experimental run with id: 26. \n"
     ]
    },
    {
     "name": "stdout",
     "output_type": "stream",
     "text": [
      "Starting experimental run with id: 27. \n"
     ]
    },
    {
     "name": "stdout",
     "output_type": "stream",
     "text": [
      "Starting experimental run with id: 28. \n"
     ]
    }
   ],
   "source": [
    "sizes = [1,500,1000,2000,3000,4000,5000]\n",
    "nreps = 100\n",
    "t_numeric = []\n",
    "t_numeric_add = []\n",
    "t_numeric_run_ids = []\n",
    "t_array = []\n",
    "t_array_add = []\n",
    "t_array_run_ids = []\n",
    "for size in sizes:\n",
    "    tn, tna, run_id_n =  insert_data('numeric', size, nreps=nreps)\n",
    "    t_numeric.append(tn)\n",
    "    t_numeric_add.append(tna)\n",
    "    t_numeric_run_ids.append(run_id_n)\n",
    "\n",
    "    ta, taa, run_id_a =  insert_data('array', size, nreps=nreps)\n",
    "    t_array.append(ta)\n",
    "    t_array_add.append(taa)\n",
    "    t_array_run_ids.append(run_id_a)"
   ]
  },
  {
   "cell_type": "code",
   "execution_count": 8,
   "metadata": {
    "execution": {
     "iopub.execute_input": "2021-02-10T08:19:36.726127Z",
     "iopub.status.busy": "2021-02-10T08:19:36.711138Z",
     "iopub.status.idle": "2021-02-10T08:19:36.902849Z",
     "shell.execute_reply": "2021-02-10T08:19:36.903280Z"
    },
    "scrolled": true
   },
   "outputs": [
    {
     "data": {
      "image/png": "[encoded data removed]",
      "text/plain": [
       "<Figure size 432x288 with 1 Axes>"
      ]
     },
     "metadata": {
      "needs_background": "light"
     },
     "output_type": "display_data"
    }
   ],
   "source": [
    "fig, ax = plt.subplots(1,1)\n",
    "ax.plot(sizes, t_numeric, 'o-', label='Inserting row-by-row')\n",
    "ax.plot(sizes, t_numeric_add, 'o-', label='Inserting row-by-row: add_result only')\n",
    "ax.plot(sizes, t_array, 'd-', label='Inserting as binary blob')\n",
    "ax.plot(sizes, t_array_add, 'd-', label='Inserting as binary blob: add_result only')\n",
    "ax.legend()\n",
    "ax.set_xlabel('Array length')\n",
    "ax.set_ylabel('Time (s)')\n",
    "fig.tight_layout()"
   ]
  },
  {
   "cell_type": "markdown",
   "metadata": {},
   "source": [
    "However, as we increase the length of the experiment, as seen here by repeating the insertion 100 times, we see a big difference between inserting values of the data row-by-row and inserting it as a binary blob."
   ]
  },
  {
   "cell_type": "markdown",
   "metadata": {},
   "source": [
    "## Loading the data "
   ]
  },
  {
   "cell_type": "code",
   "execution_count": 9,
   "metadata": {
    "execution": {
     "iopub.execute_input": "2021-02-10T08:19:36.907209Z",
     "iopub.status.busy": "2021-02-10T08:19:36.906672Z",
     "iopub.status.idle": "2021-02-10T08:19:36.909017Z",
     "shell.execute_reply": "2021-02-10T08:19:36.909481Z"
    }
   },
   "outputs": [],
   "source": [
    "from qcodes.dataset.data_set import load_by_id\n",
    "from qcodes.dataset.data_export import get_data_by_id"
   ]
  },
  {
   "cell_type": "markdown",
   "metadata": {},
   "source": [
    "As usual you can load the data by using the ``load_by_id`` function but you will notice that the different storage methods\n",
    "are reflected in shape of the data as it is retrieved. "
   ]
  },
  {
   "cell_type": "code",
   "execution_count": 10,
   "metadata": {
    "execution": {
     "iopub.execute_input": "2021-02-10T08:19:36.913226Z",
     "iopub.status.busy": "2021-02-10T08:19:36.912687Z",
     "iopub.status.idle": "2021-02-10T08:19:36.914973Z",
     "shell.execute_reply": "2021-02-10T08:19:36.914500Z"
    }
   },
   "outputs": [],
   "source": [
    "run_id_n = t_numeric_run_ids[0]\n",
    "run_id_a = t_array_run_ids[0]"
   ]
  },
  {
   "cell_type": "code",
   "execution_count": 11,
   "metadata": {
    "execution": {
     "iopub.execute_input": "2021-02-10T08:19:36.918204Z",
     "iopub.status.busy": "2021-02-10T08:19:36.917674Z",
     "iopub.status.idle": "2021-02-10T08:19:36.927111Z",
     "shell.execute_reply": "2021-02-10T08:19:36.926639Z"
    },
    "scrolled": true
   },
   "outputs": [
    {
     "data": {
      "text/plain": [
       "{'x1': {'x1': array([0.77531692, 0.77531692, 0.77745397, 0.77745397, 0.82298721,\n",
       "         0.82298721, 0.07206255, 0.07206255, 0.31562989, 0.31562989,\n",
       "         0.6105116 , 0.6105116 , 0.63198084, 0.63198084, 0.85158772,\n",
       "         0.85158772, 0.42764284, 0.42764284, 0.65864496, 0.65864496,\n",
       "         0.37748006, 0.37748006, 0.81431619, 0.81431619, 0.0529805 ,\n",
       "         0.0529805 , 0.18686001, 0.18686001, 0.46139061, 0.46139061,\n",
       "         0.10372101, 0.10372101, 0.55158279, 0.55158279, 0.40471535,\n",
       "         0.40471535, 0.57063062, 0.57063062, 0.09818329, 0.09818329,\n",
       "         0.02290564, 0.02290564, 0.74955771, 0.74955771, 0.90469535,\n",
       "         0.90469535, 0.69238687, 0.69238687, 0.18506783, 0.18506783,\n",
       "         0.62747883, 0.62747883, 0.03344313, 0.03344313, 0.16599256,\n",
       "         0.16599256, 0.82129853, 0.82129853, 0.80866819, 0.80866819,\n",
       "         0.66182576, 0.66182576, 0.13932806, 0.13932806, 0.76801552,\n",
       "         0.76801552, 0.59977375, 0.59977375, 0.79596992, 0.79596992,\n",
       "         0.47947955, 0.47947955, 0.91993576, 0.91993576, 0.64435616,\n",
       "         0.64435616, 0.56219048, 0.56219048, 0.61442676, 0.61442676,\n",
       "         0.50985174, 0.50985174, 0.29957181, 0.29957181, 0.61397424,\n",
       "         0.61397424, 0.01725748, 0.01725748, 0.00785138, 0.00785138,\n",
       "         0.75366401, 0.75366401, 0.86654633, 0.86654633, 0.32439188,\n",
       "         0.32439188, 0.88282637, 0.88282637, 0.25947159, 0.25947159,\n",
       "         0.23122459, 0.23122459, 0.76290433, 0.76290433, 0.65094396,\n",
       "         0.65094396, 0.66665149, 0.66665149, 0.31827625, 0.31827625,\n",
       "         0.91289325, 0.91289325, 0.38413741, 0.38413741, 0.36260092,\n",
       "         0.36260092, 0.33947611, 0.33947611, 0.06924551, 0.06924551,\n",
       "         0.21723866, 0.21723866, 0.73057527, 0.73057527, 0.90498212,\n",
       "         0.90498212, 0.80105839, 0.80105839, 0.78950582, 0.78950582,\n",
       "         0.79133936, 0.79133936, 0.1462454 , 0.1462454 , 0.04724281,\n",
       "         0.04724281, 0.30536975, 0.30536975, 0.5638013 , 0.5638013 ,\n",
       "         0.70729766, 0.70729766, 0.58151517, 0.58151517, 0.56977198,\n",
       "         0.56977198, 0.55616055, 0.55616055, 0.83156779, 0.83156779,\n",
       "         0.78240587, 0.78240587, 0.3040335 , 0.3040335 , 0.08161832,\n",
       "         0.08161832, 0.0425581 , 0.0425581 , 0.03094287, 0.03094287,\n",
       "         0.93383559, 0.93383559, 0.62861867, 0.62861867, 0.19599201,\n",
       "         0.19599201, 0.70065234, 0.70065234, 0.26614421, 0.26614421,\n",
       "         0.08381755, 0.08381755, 0.74858049, 0.74858049, 0.04033524,\n",
       "         0.04033524, 0.45270014, 0.45270014, 0.94559604, 0.94559604,\n",
       "         0.92501579, 0.92501579, 0.00881089, 0.00881089, 0.79298693,\n",
       "         0.79298693, 0.44864636, 0.44864636, 0.54438019, 0.54438019,\n",
       "         0.86274331, 0.86274331, 0.33452415, 0.33452415, 0.6251275 ,\n",
       "         0.6251275 , 0.10185004, 0.10185004, 0.69945713, 0.69945713])}}"
      ]
     },
     "execution_count": 1,
     "metadata": {},
     "output_type": "execute_result"
    }
   ],
   "source": [
    "ds = load_by_id(run_id_n)\n",
    "ds.get_parameter_data('x1')"
   ]
  },
  {
   "cell_type": "markdown",
   "metadata": {},
   "source": [
    "And a dataset stored as binary arrays"
   ]
  },
  {
   "cell_type": "code",
   "execution_count": 12,
   "metadata": {
    "execution": {
     "iopub.execute_input": "2021-02-10T08:19:36.930807Z",
     "iopub.status.busy": "2021-02-10T08:19:36.929891Z",
     "iopub.status.idle": "2021-02-10T08:19:36.983957Z",
     "shell.execute_reply": "2021-02-10T08:19:36.984428Z"
    },
    "scrolled": true
   },
   "outputs": [
    {
     "data": {
      "text/plain": [
       "{'x1': {'x1': array([[0.2629935 ],\n",
       "         [0.2629935 ],\n",
       "         [0.31012839],\n",
       "         [0.31012839],\n",
       "         [0.12432406],\n",
       "         [0.12432406],\n",
       "         [0.92857444],\n",
       "         [0.92857444],\n",
       "         [0.64831744],\n",
       "         [0.64831744],\n",
       "         [0.31274804],\n",
       "         [0.31274804],\n",
       "         [0.83587402],\n",
       "         [0.83587402],\n",
       "         [0.68747066],\n",
       "         [0.68747066],\n",
       "         [0.09207492],\n",
       "         [0.09207492],\n",
       "         [0.04758579],\n",
       "         [0.04758579],\n",
       "         [0.98989838],\n",
       "         [0.98989838],\n",
       "         [0.3863152 ],\n",
       "         [0.3863152 ],\n",
       "         [0.39862863],\n",
       "         [0.39862863],\n",
       "         [0.57494723],\n",
       "         [0.57494723],\n",
       "         [0.17211504],\n",
       "         [0.17211504],\n",
       "         [0.90442399],\n",
       "         [0.90442399],\n",
       "         [0.72433808],\n",
       "         [0.72433808],\n",
       "         [0.00865903],\n",
       "         [0.00865903],\n",
       "         [0.44895948],\n",
       "         [0.44895948],\n",
       "         [0.10520033],\n",
       "         [0.10520033],\n",
       "         [0.12658346],\n",
       "         [0.12658346],\n",
       "         [0.57999225],\n",
       "         [0.57999225],\n",
       "         [0.92284078],\n",
       "         [0.92284078],\n",
       "         [0.32546466],\n",
       "         [0.32546466],\n",
       "         [0.92880624],\n",
       "         [0.92880624],\n",
       "         [0.21064785],\n",
       "         [0.21064785],\n",
       "         [0.11822726],\n",
       "         [0.11822726],\n",
       "         [0.12876647],\n",
       "         [0.12876647],\n",
       "         [0.4557195 ],\n",
       "         [0.4557195 ],\n",
       "         [0.4344791 ],\n",
       "         [0.4344791 ],\n",
       "         [0.82982828],\n",
       "         [0.82982828],\n",
       "         [0.37185124],\n",
       "         [0.37185124],\n",
       "         [0.81074141],\n",
       "         [0.81074141],\n",
       "         [0.35233532],\n",
       "         [0.35233532],\n",
       "         [0.73556899],\n",
       "         [0.73556899],\n",
       "         [0.76407003],\n",
       "         [0.76407003],\n",
       "         [0.46197792],\n",
       "         [0.46197792],\n",
       "         [0.65409031],\n",
       "         [0.65409031],\n",
       "         [0.10499063],\n",
       "         [0.10499063],\n",
       "         [0.7989554 ],\n",
       "         [0.7989554 ],\n",
       "         [0.4762339 ],\n",
       "         [0.4762339 ],\n",
       "         [0.96186607],\n",
       "         [0.96186607],\n",
       "         [0.34221557],\n",
       "         [0.34221557],\n",
       "         [0.14646493],\n",
       "         [0.14646493],\n",
       "         [0.66410078],\n",
       "         [0.66410078],\n",
       "         [0.38724625],\n",
       "         [0.38724625],\n",
       "         [0.9355347 ],\n",
       "         [0.9355347 ],\n",
       "         [0.98932335],\n",
       "         [0.98932335],\n",
       "         [0.6979922 ],\n",
       "         [0.6979922 ],\n",
       "         [0.1504025 ],\n",
       "         [0.1504025 ],\n",
       "         [0.00193575],\n",
       "         [0.00193575],\n",
       "         [0.45123209],\n",
       "         [0.45123209],\n",
       "         [0.53985096],\n",
       "         [0.53985096],\n",
       "         [0.38537511],\n",
       "         [0.38537511],\n",
       "         [0.8228956 ],\n",
       "         [0.8228956 ],\n",
       "         [0.54525926],\n",
       "         [0.54525926],\n",
       "         [0.59410023],\n",
       "         [0.59410023],\n",
       "         [0.90210091],\n",
       "         [0.90210091],\n",
       "         [0.88968553],\n",
       "         [0.88968553],\n",
       "         [0.27492157],\n",
       "         [0.27492157],\n",
       "         [0.60763913],\n",
       "         [0.60763913],\n",
       "         [0.54941818],\n",
       "         [0.54941818],\n",
       "         [0.46650047],\n",
       "         [0.46650047],\n",
       "         [0.01709069],\n",
       "         [0.01709069],\n",
       "         [0.70913073],\n",
       "         [0.70913073],\n",
       "         [0.74730732],\n",
       "         [0.74730732],\n",
       "         [0.67948577],\n",
       "         [0.67948577],\n",
       "         [0.40168039],\n",
       "         [0.40168039],\n",
       "         [0.79716201],\n",
       "         [0.79716201],\n",
       "         [0.8916502 ],\n",
       "         [0.8916502 ],\n",
       "         [0.65909425],\n",
       "         [0.65909425],\n",
       "         [0.18050122],\n",
       "         [0.18050122],\n",
       "         [0.86069047],\n",
       "         [0.86069047],\n",
       "         [0.01900286],\n",
       "         [0.01900286],\n",
       "         [0.64452428],\n",
       "         [0.64452428],\n",
       "         [0.29077298],\n",
       "         [0.29077298],\n",
       "         [0.16852946],\n",
       "         [0.16852946],\n",
       "         [0.93550988],\n",
       "         [0.93550988],\n",
       "         [0.61167476],\n",
       "         [0.61167476],\n",
       "         [0.40652536],\n",
       "         [0.40652536],\n",
       "         [0.07873017],\n",
       "         [0.07873017],\n",
       "         [0.3738228 ],\n",
       "         [0.3738228 ],\n",
       "         [0.30126295],\n",
       "         [0.30126295],\n",
       "         [0.21576426],\n",
       "         [0.21576426],\n",
       "         [0.28287946],\n",
       "         [0.28287946],\n",
       "         [0.10608308],\n",
       "         [0.10608308],\n",
       "         [0.98209687],\n",
       "         [0.98209687],\n",
       "         [0.43052497],\n",
       "         [0.43052497],\n",
       "         [0.36225223],\n",
       "         [0.36225223],\n",
       "         [0.43549816],\n",
       "         [0.43549816],\n",
       "         [0.23348236],\n",
       "         [0.23348236],\n",
       "         [0.39629531],\n",
       "         [0.39629531],\n",
       "         [0.68573602],\n",
       "         [0.68573602],\n",
       "         [0.36919104],\n",
       "         [0.36919104],\n",
       "         [0.4396131 ],\n",
       "         [0.4396131 ],\n",
       "         [0.76056575],\n",
       "         [0.76056575],\n",
       "         [0.70027489],\n",
       "         [0.70027489],\n",
       "         [0.50973446],\n",
       "         [0.50973446],\n",
       "         [0.7425013 ],\n",
       "         [0.7425013 ],\n",
       "         [0.07220279],\n",
       "         [0.07220279]])}}"
      ]
     },
     "execution_count": 1,
     "metadata": {},
     "output_type": "execute_result"
    }
   ],
   "source": [
    "ds = load_by_id(run_id_a)\n",
    "ds.get_parameter_data('x1')"
   ]
  },
  {
   "cell_type": "code",
   "execution_count": null,
   "metadata": {},
   "outputs": [],
   "source": []
  }
 ],
 "metadata": {
  "kernelspec": {
   "display_name": "Python 3",
   "language": "python",
   "name": "python3"
  },
  "language_info": {
   "codemirror_mode": {
    "name": "ipython",
    "version": 3
   },
   "file_extension": ".py",
   "mimetype": "text/x-python",
   "name": "python",
   "nbconvert_exporter": "python",
   "pygments_lexer": "ipython3",
   "version": "3.7.9"
  },
  "nbsphinx": {
   "timeout": 600
  },
  "toc": {
   "base_numbering": 1,
   "nav_menu": {},
   "number_sections": true,
   "sideBar": true,
   "skip_h1_title": false,
   "title_cell": "Table of Contents",
   "title_sidebar": "Contents",
   "toc_cell": false,
   "toc_position": {},
   "toc_section_display": true,
   "toc_window_display": false
  },
  "varInspector": {
   "cols": {
    "lenName": 16,
    "lenType": 16,
    "lenVar": 40
   },
   "kernels_config": {
    "python": {
     "delete_cmd_postfix": "",
     "delete_cmd_prefix": "del ",
     "library": "var_list.py",
     "varRefreshCmd": "print(var_dic_list())"
    },
    "r": {
     "delete_cmd_postfix": ") ",
     "delete_cmd_prefix": "rm(",
     "library": "var_list.r",
     "varRefreshCmd": "cat(var_dic_list()) "
    }
   },
   "types_to_exclude": [
    "module",
    "function",
    "builtin_function_or_method",
    "instance",
    "_Feature"
   ],
   "window_display": false
  }
 },
 "nbformat": 4,
 "nbformat_minor": 2
}
