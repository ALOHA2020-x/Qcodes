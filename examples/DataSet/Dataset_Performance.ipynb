{
 "cells": [
  {
   "cell_type": "markdown",
   "metadata": {},
   "source": [
    "# DataSet Performance\n",
    "\n",
    "This notebook shows the trade-off between inserting data into a database row-by-row and as binary blobs. Inserting the data row-by-row means that we have direct access to all the data and may perform queries directly on the values of the data. On the other hand, as we shall see, this is much slower than inserting the data directly as binary blobs."
   ]
  },
  {
   "cell_type": "markdown",
   "metadata": {},
   "source": [
    "First, we choose a new location for the database to ensure that we don't add a bunch of benchmarking data to the default one."
   ]
  },
  {
   "cell_type": "code",
   "execution_count": 1,
   "metadata": {
    "execution": {
     "iopub.execute_input": "2020-10-28T14:37:32.722812Z",
     "iopub.status.busy": "2020-10-28T14:37:32.721651Z",
     "iopub.status.idle": "2020-10-28T14:37:33.754182Z",
     "shell.execute_reply": "2020-10-28T14:37:33.752823Z"
    }
   },
   "outputs": [
    {
     "name": "stdout",
     "output_type": "stream",
     "text": [
      "Logging hadn't been started.\n",
      "Activating auto-logging. Current session state plus future input saved.\n",
      "Filename       : /home/vsts/.qcodes/logs/command_history.log\n",
      "Mode           : append\n",
      "Output logging : True\n",
      "Raw input log  : False\n",
      "Timestamping   : True\n",
      "State          : active\n"
     ]
    },
    {
     "name": "stdout",
     "output_type": "stream",
     "text": [
      "Qcodes Logfile : /home/vsts/.qcodes/logs/201028-14471-qcodes.log\n"
     ]
    }
   ],
   "source": [
    "import os\n",
    "cwd = os.getcwd()\n",
    "import qcodes as qc\n",
    "qc.config[\"core\"][\"db_location\"] = os.path.join(cwd, 'testing.db')\n"
   ]
  },
  {
   "cell_type": "code",
   "execution_count": 2,
   "metadata": {
    "execution": {
     "iopub.execute_input": "2020-10-28T14:37:33.760656Z",
     "iopub.status.busy": "2020-10-28T14:37:33.760073Z",
     "iopub.status.idle": "2020-10-28T14:37:33.945388Z",
     "shell.execute_reply": "2020-10-28T14:37:33.944402Z"
    }
   },
   "outputs": [],
   "source": [
    "%matplotlib inline\n",
    "import time\n",
    "import matplotlib.pyplot as plt\n",
    "import numpy as np\n",
    "\n",
    "import qcodes as qc\n",
    "from qcodes.instrument.parameter import ManualParameter\n",
    "from qcodes.dataset.experiment_container import (Experiment,\n",
    "                                                 load_last_experiment,\n",
    "                                                 new_experiment)\n",
    "from qcodes.dataset.sqlite.database import initialise_database\n",
    "from qcodes import load_or_create_experiment\n",
    "from qcodes.dataset.measurements import Measurement"
   ]
  },
  {
   "cell_type": "code",
   "execution_count": 3,
   "metadata": {
    "execution": {
     "iopub.execute_input": "2020-10-28T14:37:33.950403Z",
     "iopub.status.busy": "2020-10-28T14:37:33.949533Z",
     "iopub.status.idle": "2020-10-28T14:37:34.067656Z",
     "shell.execute_reply": "2020-10-28T14:37:34.067056Z"
    }
   },
   "outputs": [
    {
     "name": "stdout",
     "output_type": "stream",
     "text": [
      "\r",
      "0it [00:00, ?it/s]"
     ]
    },
    {
     "name": "stdout",
     "output_type": "stream",
     "text": [
      "\r",
      "Upgrading database; v0 -> v1: : 0it [00:00, ?it/s]"
     ]
    },
    {
     "name": "stdout",
     "output_type": "stream",
     "text": [
      "\r",
      "Upgrading database; v0 -> v1: : 0it [00:00, ?it/s]"
     ]
    },
    {
     "name": "stdout",
     "output_type": "stream",
     "text": [
      "\n",
      "\r",
      "  0%|          | 0/1 [00:00<?, ?it/s]"
     ]
    },
    {
     "name": "stdout",
     "output_type": "stream",
     "text": [
      "\r",
      "Upgrading database; v1 -> v2:   0%|          | 0/1 [00:00<?, ?it/s]"
     ]
    },
    {
     "name": "stdout",
     "output_type": "stream",
     "text": [
      "\r",
      "Upgrading database; v1 -> v2: 100%|██████████| 1/1 [00:00<00:00, 431.51it/s]"
     ]
    },
    {
     "name": "stdout",
     "output_type": "stream",
     "text": [
      "\n",
      "\r",
      "0it [00:00, ?it/s]"
     ]
    },
    {
     "name": "stdout",
     "output_type": "stream",
     "text": [
      "\r",
      "Upgrading database; v2 -> v3: : 0it [00:00, ?it/s]"
     ]
    },
    {
     "name": "stdout",
     "output_type": "stream",
     "text": [
      "\r",
      "Upgrading database; v2 -> v3: : 0it [00:00, ?it/s]"
     ]
    },
    {
     "name": "stdout",
     "output_type": "stream",
     "text": [
      "\n",
      "\r",
      "0it [00:00, ?it/s]"
     ]
    },
    {
     "name": "stdout",
     "output_type": "stream",
     "text": [
      "\r",
      "Upgrading database; v3 -> v4: : 0it [00:00, ?it/s]"
     ]
    },
    {
     "name": "stdout",
     "output_type": "stream",
     "text": [
      "\r",
      "Upgrading database; v3 -> v4: : 0it [00:00, ?it/s]"
     ]
    },
    {
     "name": "stdout",
     "output_type": "stream",
     "text": [
      "\n",
      "\r",
      "  0%|          | 0/1 [00:00<?, ?it/s]"
     ]
    },
    {
     "name": "stdout",
     "output_type": "stream",
     "text": [
      "\r",
      "Upgrading database; v4 -> v5:   0%|          | 0/1 [00:00<?, ?it/s]"
     ]
    },
    {
     "name": "stdout",
     "output_type": "stream",
     "text": [
      "\r",
      "Upgrading database; v4 -> v5: 100%|██████████| 1/1 [00:00<00:00, 304.95it/s]"
     ]
    },
    {
     "name": "stdout",
     "output_type": "stream",
     "text": [
      "\n",
      "\r",
      "0it [00:00, ?it/s]"
     ]
    },
    {
     "name": "stdout",
     "output_type": "stream",
     "text": [
      "\r",
      "Upgrading database; v5 -> v6: : 0it [00:00, ?it/s]"
     ]
    },
    {
     "name": "stdout",
     "output_type": "stream",
     "text": [
      "\r",
      "Upgrading database; v5 -> v6: : 0it [00:00, ?it/s]"
     ]
    },
    {
     "name": "stdout",
     "output_type": "stream",
     "text": [
      "\n",
      "\r",
      "  0%|          | 0/1 [00:00<?, ?it/s]"
     ]
    },
    {
     "name": "stdout",
     "output_type": "stream",
     "text": [
      "\r",
      "Upgrading database; v6 -> v7:   0%|          | 0/1 [00:00<?, ?it/s]"
     ]
    },
    {
     "name": "stdout",
     "output_type": "stream",
     "text": [
      "\r",
      "Upgrading database; v6 -> v7: 100%|██████████| 1/1 [00:00<00:00, 286.91it/s]"
     ]
    },
    {
     "name": "stdout",
     "output_type": "stream",
     "text": [
      "\n",
      "\r",
      "  0%|          | 0/1 [00:00<?, ?it/s]"
     ]
    },
    {
     "name": "stdout",
     "output_type": "stream",
     "text": [
      "\r",
      "Upgrading database; v7 -> v8:   0%|          | 0/1 [00:00<?, ?it/s]"
     ]
    },
    {
     "name": "stdout",
     "output_type": "stream",
     "text": [
      "\r",
      "Upgrading database; v7 -> v8: 100%|██████████| 1/1 [00:00<00:00, 562.24it/s]"
     ]
    },
    {
     "name": "stdout",
     "output_type": "stream",
     "text": [
      "\n",
      "\r",
      "  0%|          | 0/1 [00:00<?, ?it/s]"
     ]
    },
    {
     "name": "stdout",
     "output_type": "stream",
     "text": [
      "\r",
      "Upgrading database; v8 -> v9:   0%|          | 0/1 [00:00<?, ?it/s]"
     ]
    },
    {
     "name": "stdout",
     "output_type": "stream",
     "text": [
      "\r",
      "Upgrading database; v8 -> v9: 100%|██████████| 1/1 [00:00<00:00, 473.83it/s]"
     ]
    },
    {
     "name": "stdout",
     "output_type": "stream",
     "text": [
      "\n"
     ]
    }
   ],
   "source": [
    "initialise_database()\n",
    "exp = load_or_create_experiment(experiment_name='tutorial_exp', sample_name=\"no sample\")"
   ]
  },
  {
   "cell_type": "markdown",
   "metadata": {},
   "source": [
    "Here, we define a simple function to benchmark the time it takes to insert n points with either numeric or array data type.\n",
    "We will compare both the time used to call ``add_result`` and the time used for the full measurement."
   ]
  },
  {
   "cell_type": "code",
   "execution_count": 4,
   "metadata": {
    "execution": {
     "iopub.execute_input": "2020-10-28T14:37:34.076720Z",
     "iopub.status.busy": "2020-10-28T14:37:34.075508Z",
     "iopub.status.idle": "2020-10-28T14:37:34.077347Z",
     "shell.execute_reply": "2020-10-28T14:37:34.077802Z"
    }
   },
   "outputs": [],
   "source": [
    "def insert_data(paramtype, npoints, nreps=1):\n",
    "\n",
    "    meas = Measurement(exp=exp)\n",
    "\n",
    "    x1 = ManualParameter('x1')\n",
    "    x2 = ManualParameter('x2')\n",
    "    x3 = ManualParameter('x3')\n",
    "    y1 = ManualParameter('y1')\n",
    "    y2 = ManualParameter('y2')\n",
    "\n",
    "    meas.register_parameter(x1, paramtype=paramtype)\n",
    "    meas.register_parameter(x2, paramtype=paramtype)\n",
    "    meas.register_parameter(x3, paramtype=paramtype)\n",
    "    meas.register_parameter(y1, setpoints=[x1, x2, x3],\n",
    "                            paramtype=paramtype)\n",
    "    meas.register_parameter(y2, setpoints=[x1, x2, x3],\n",
    "                            paramtype=paramtype)\n",
    "    start = time.perf_counter()\n",
    "    with meas.run() as datasaver:\n",
    "        start_adding = time.perf_counter()\n",
    "        for i in range(nreps):\n",
    "            datasaver.add_result((x1, np.random.rand(npoints)),\n",
    "                                 (x2, np.random.rand(npoints)),\n",
    "                                 (x3, np.random.rand(npoints)),\n",
    "                                 (y1, np.random.rand(npoints)),\n",
    "                                 (y2, np.random.rand(npoints)))\n",
    "        stop_adding = time.perf_counter()\n",
    "        run_id = datasaver.run_id\n",
    "    stop = time.perf_counter()\n",
    "    tot_time = stop - start\n",
    "    add_time = stop_adding - start_adding\n",
    "    return tot_time, add_time, run_id"
   ]
  },
  {
   "cell_type": "markdown",
   "metadata": {},
   "source": [
    "## Comparison between numeric/array data and binary blob"
   ]
  },
  {
   "cell_type": "markdown",
   "metadata": {},
   "source": [
    "### Case1: Short experiment time"
   ]
  },
  {
   "cell_type": "code",
   "execution_count": 5,
   "metadata": {
    "execution": {
     "iopub.execute_input": "2020-10-28T14:37:34.083541Z",
     "iopub.status.busy": "2020-10-28T14:37:34.082779Z",
     "iopub.status.idle": "2020-10-28T14:37:34.932423Z",
     "shell.execute_reply": "2020-10-28T14:37:34.932878Z"
    }
   },
   "outputs": [
    {
     "name": "stdout",
     "output_type": "stream",
     "text": [
      "Starting experimental run with id: 1. \n",
      "Starting experimental run with id: 2. \n",
      "Starting experimental run with id: 3. \n",
      "Starting experimental run with id: 4. \n",
      "Starting experimental run with id: 5. \n"
     ]
    },
    {
     "name": "stdout",
     "output_type": "stream",
     "text": [
      "Starting experimental run with id: 6. \n"
     ]
    },
    {
     "name": "stdout",
     "output_type": "stream",
     "text": [
      "Starting experimental run with id: 7. \n"
     ]
    },
    {
     "name": "stdout",
     "output_type": "stream",
     "text": [
      "Starting experimental run with id: 8. \n",
      "Starting experimental run with id: 9. \n"
     ]
    },
    {
     "name": "stdout",
     "output_type": "stream",
     "text": [
      "Starting experimental run with id: 10. \n",
      "Starting experimental run with id: 11. \n"
     ]
    },
    {
     "name": "stdout",
     "output_type": "stream",
     "text": [
      "Starting experimental run with id: 12. \n",
      "Starting experimental run with id: 13. \n"
     ]
    },
    {
     "name": "stdout",
     "output_type": "stream",
     "text": [
      "Starting experimental run with id: 14. \n"
     ]
    }
   ],
   "source": [
    "sizes = [1,500,1000,2000,3000,4000,5000]\n",
    "t_numeric = []\n",
    "t_numeric_add = []\n",
    "t_array = []\n",
    "t_array_add = []\n",
    "for size in sizes:\n",
    "    tn, tna, run_id_n =  insert_data('numeric', size)\n",
    "    t_numeric.append(tn)\n",
    "    t_numeric_add.append(tna)\n",
    "\n",
    "    ta, taa, run_id_a =  insert_data('array', size)\n",
    "    t_array.append(ta)\n",
    "    t_array_add.append(taa)"
   ]
  },
  {
   "cell_type": "code",
   "execution_count": 6,
   "metadata": {
    "execution": {
     "iopub.execute_input": "2020-10-28T14:37:34.952554Z",
     "iopub.status.busy": "2020-10-28T14:37:34.938728Z",
     "iopub.status.idle": "2020-10-28T14:37:35.129253Z",
     "shell.execute_reply": "2020-10-28T14:37:35.129700Z"
    }
   },
   "outputs": [
    {
     "data": {
      "image/png": "[encoded data removed]",
      "text/plain": [
       "<Figure size 432x288 with 1 Axes>"
      ]
     },
     "metadata": {
      "needs_background": "light"
     },
     "output_type": "display_data"
    }
   ],
   "source": [
    "fig, ax = plt.subplots(1,1)\n",
    "ax.plot(sizes, t_numeric, 'o-', label='Inserting row-by-row')\n",
    "ax.plot(sizes, t_numeric_add, 'o-', label='Inserting row-by-row: add_result only')\n",
    "ax.plot(sizes, t_array, 'd-', label='Inserting as binary blob')\n",
    "ax.plot(sizes, t_array_add, 'd-', label='Inserting as binary blob: add_result only')\n",
    "ax.legend()\n",
    "ax.set_xlabel('Array length')\n",
    "ax.set_ylabel('Time (s)')\n",
    "fig.tight_layout()"
   ]
  },
  {
   "cell_type": "markdown",
   "metadata": {},
   "source": [
    "As shown in the latter figure, the time to setup and and close the experiment is approximately 0.4 sec. In case of small array sizes, the difference between inserting values of data as arrays and inserting them row-by-row is relatively unimportant. At larger array sizes, i.e. above 10000 points, the cost of writing data as individual datapoints starts to become important.\n"
   ]
  },
  {
   "cell_type": "markdown",
   "metadata": {},
   "source": [
    "### Case2: Long experiment time "
   ]
  },
  {
   "cell_type": "code",
   "execution_count": 7,
   "metadata": {
    "execution": {
     "iopub.execute_input": "2020-10-28T14:37:35.136704Z",
     "iopub.status.busy": "2020-10-28T14:37:35.135939Z",
     "iopub.status.idle": "2020-10-28T14:38:33.417638Z",
     "shell.execute_reply": "2020-10-28T14:38:33.416206Z"
    }
   },
   "outputs": [
    {
     "name": "stdout",
     "output_type": "stream",
     "text": [
      "Starting experimental run with id: 15. \n",
      "Starting experimental run with id: 16. \n",
      "Starting experimental run with id: 17. \n"
     ]
    },
    {
     "name": "stdout",
     "output_type": "stream",
     "text": [
      "Starting experimental run with id: 18. \n",
      "Starting experimental run with id: 19. \n"
     ]
    },
    {
     "name": "stdout",
     "output_type": "stream",
     "text": [
      "Starting experimental run with id: 20. \n"
     ]
    },
    {
     "name": "stdout",
     "output_type": "stream",
     "text": [
      "Starting experimental run with id: 21. \n"
     ]
    },
    {
     "name": "stdout",
     "output_type": "stream",
     "text": [
      "Starting experimental run with id: 22. \n"
     ]
    },
    {
     "name": "stdout",
     "output_type": "stream",
     "text": [
      "Starting experimental run with id: 23. \n"
     ]
    },
    {
     "name": "stdout",
     "output_type": "stream",
     "text": [
      "Starting experimental run with id: 24. \n"
     ]
    },
    {
     "name": "stdout",
     "output_type": "stream",
     "text": [
      "Starting experimental run with id: 25. \n"
     ]
    },
    {
     "name": "stdout",
     "output_type": "stream",
     "text": [
      "Starting experimental run with id: 26. \n"
     ]
    },
    {
     "name": "stdout",
     "output_type": "stream",
     "text": [
      "Starting experimental run with id: 27. \n"
     ]
    },
    {
     "name": "stdout",
     "output_type": "stream",
     "text": [
      "Starting experimental run with id: 28. \n"
     ]
    }
   ],
   "source": [
    "sizes = [1,500,1000,2000,3000,4000,5000]\n",
    "nreps = 100\n",
    "t_numeric = []\n",
    "t_numeric_add = []\n",
    "t_numeric_run_ids = []\n",
    "t_array = []\n",
    "t_array_add = []\n",
    "t_array_run_ids = []\n",
    "for size in sizes:\n",
    "    tn, tna, run_id_n =  insert_data('numeric', size, nreps=nreps)\n",
    "    t_numeric.append(tn)\n",
    "    t_numeric_add.append(tna)\n",
    "    t_numeric_run_ids.append(run_id_n)\n",
    "\n",
    "    ta, taa, run_id_a =  insert_data('array', size, nreps=nreps)\n",
    "    t_array.append(ta)\n",
    "    t_array_add.append(taa)\n",
    "    t_array_run_ids.append(run_id_a)"
   ]
  },
  {
   "cell_type": "code",
   "execution_count": 8,
   "metadata": {
    "execution": {
     "iopub.execute_input": "2020-10-28T14:38:33.456040Z",
     "iopub.status.busy": "2020-10-28T14:38:33.446389Z",
     "iopub.status.idle": "2020-10-28T14:38:33.609988Z",
     "shell.execute_reply": "2020-10-28T14:38:33.610466Z"
    },
    "scrolled": true
   },
   "outputs": [
    {
     "data": {
      "image/png": "[encoded data removed]",
      "text/plain": [
       "<Figure size 432x288 with 1 Axes>"
      ]
     },
     "metadata": {
      "needs_background": "light"
     },
     "output_type": "display_data"
    }
   ],
   "source": [
    "fig, ax = plt.subplots(1,1)\n",
    "ax.plot(sizes, t_numeric, 'o-', label='Inserting row-by-row')\n",
    "ax.plot(sizes, t_numeric_add, 'o-', label='Inserting row-by-row: add_result only')\n",
    "ax.plot(sizes, t_array, 'd-', label='Inserting as binary blob')\n",
    "ax.plot(sizes, t_array_add, 'd-', label='Inserting as binary blob: add_result only')\n",
    "ax.legend()\n",
    "ax.set_xlabel('Array length')\n",
    "ax.set_ylabel('Time (s)')\n",
    "fig.tight_layout()"
   ]
  },
  {
   "cell_type": "markdown",
   "metadata": {},
   "source": [
    "However, as we increase the length of the experiment, as seen here by repeating the insertion 100 times, we see a big difference between inserting values of the data row-by-row and inserting it as a binary blob."
   ]
  },
  {
   "cell_type": "markdown",
   "metadata": {},
   "source": [
    "## Loading the data "
   ]
  },
  {
   "cell_type": "code",
   "execution_count": 9,
   "metadata": {
    "execution": {
     "iopub.execute_input": "2020-10-28T14:38:33.615001Z",
     "iopub.status.busy": "2020-10-28T14:38:33.613851Z",
     "iopub.status.idle": "2020-10-28T14:38:33.617704Z",
     "shell.execute_reply": "2020-10-28T14:38:33.618425Z"
    }
   },
   "outputs": [],
   "source": [
    "from qcodes.dataset.data_set import load_by_id\n",
    "from qcodes.dataset.data_export import get_data_by_id"
   ]
  },
  {
   "cell_type": "markdown",
   "metadata": {},
   "source": [
    "As usual you can load the data by using the ``load_by_id`` function but you will notice that the different storage methods\n",
    "are reflected in shape of the data as it is retrieved. "
   ]
  },
  {
   "cell_type": "code",
   "execution_count": 10,
   "metadata": {
    "execution": {
     "iopub.execute_input": "2020-10-28T14:38:33.622763Z",
     "iopub.status.busy": "2020-10-28T14:38:33.621688Z",
     "iopub.status.idle": "2020-10-28T14:38:33.623333Z",
     "shell.execute_reply": "2020-10-28T14:38:33.623768Z"
    }
   },
   "outputs": [],
   "source": [
    "run_id_n = t_numeric_run_ids[0]\n",
    "run_id_a = t_array_run_ids[0]"
   ]
  },
  {
   "cell_type": "code",
   "execution_count": 11,
   "metadata": {
    "execution": {
     "iopub.execute_input": "2020-10-28T14:38:33.626889Z",
     "iopub.status.busy": "2020-10-28T14:38:33.626367Z",
     "iopub.status.idle": "2020-10-28T14:38:33.634752Z",
     "shell.execute_reply": "2020-10-28T14:38:33.634326Z"
    },
    "scrolled": true
   },
   "outputs": [
    {
     "data": {
      "text/plain": [
       "{'x1': {'x1': array([0.41657059, 0.41657059, 0.66800576, 0.66800576, 0.70562836,\n",
       "         0.70562836, 0.17498856, 0.17498856, 0.75816071, 0.75816071,\n",
       "         0.54128027, 0.54128027, 0.84706361, 0.84706361, 0.09611117,\n",
       "         0.09611117, 0.91501834, 0.91501834, 0.13628495, 0.13628495,\n",
       "         0.71207281, 0.71207281, 0.98330427, 0.98330427, 0.13111352,\n",
       "         0.13111352, 0.76435399, 0.76435399, 0.11857683, 0.11857683,\n",
       "         0.99958684, 0.99958684, 0.9480055 , 0.9480055 , 0.37348409,\n",
       "         0.37348409, 0.26940649, 0.26940649, 0.3542235 , 0.3542235 ,\n",
       "         0.29153207, 0.29153207, 0.74171473, 0.74171473, 0.84784358,\n",
       "         0.84784358, 0.41925297, 0.41925297, 0.57048531, 0.57048531,\n",
       "         0.32261996, 0.32261996, 0.62530365, 0.62530365, 0.62808918,\n",
       "         0.62808918, 0.03724673, 0.03724673, 0.8084376 , 0.8084376 ,\n",
       "         0.13379944, 0.13379944, 0.47663699, 0.47663699, 0.91020971,\n",
       "         0.91020971, 0.0476617 , 0.0476617 , 0.41734154, 0.41734154,\n",
       "         0.51518602, 0.51518602, 0.8962754 , 0.8962754 , 0.31566404,\n",
       "         0.31566404, 0.23478112, 0.23478112, 0.62316017, 0.62316017,\n",
       "         0.97878161, 0.97878161, 0.23696484, 0.23696484, 0.65769082,\n",
       "         0.65769082, 0.36272348, 0.36272348, 0.43425947, 0.43425947,\n",
       "         0.06567345, 0.06567345, 0.22182178, 0.22182178, 0.54250371,\n",
       "         0.54250371, 0.77990049, 0.77990049, 0.98117903, 0.98117903,\n",
       "         0.34072842, 0.34072842, 0.23107996, 0.23107996, 0.63298699,\n",
       "         0.63298699, 0.76067398, 0.76067398, 0.88545745, 0.88545745,\n",
       "         0.95537557, 0.95537557, 0.0462182 , 0.0462182 , 0.68921985,\n",
       "         0.68921985, 0.22338576, 0.22338576, 0.66013794, 0.66013794,\n",
       "         0.11789074, 0.11789074, 0.72628209, 0.72628209, 0.80423512,\n",
       "         0.80423512, 0.24412812, 0.24412812, 0.60499867, 0.60499867,\n",
       "         0.0093371 , 0.0093371 , 0.07078618, 0.07078618, 0.58209897,\n",
       "         0.58209897, 0.15456345, 0.15456345, 0.31447937, 0.31447937,\n",
       "         0.57663459, 0.57663459, 0.59789638, 0.59789638, 0.1352972 ,\n",
       "         0.1352972 , 0.32602342, 0.32602342, 0.40436632, 0.40436632,\n",
       "         0.46310204, 0.46310204, 0.73426135, 0.73426135, 0.57658433,\n",
       "         0.57658433, 0.20057817, 0.20057817, 0.6104717 , 0.6104717 ,\n",
       "         0.60218409, 0.60218409, 0.68341091, 0.68341091, 0.87403061,\n",
       "         0.87403061, 0.05489871, 0.05489871, 0.28146111, 0.28146111,\n",
       "         0.84113158, 0.84113158, 0.10114707, 0.10114707, 0.51059843,\n",
       "         0.51059843, 0.50641912, 0.50641912, 0.69215069, 0.69215069,\n",
       "         0.47470925, 0.47470925, 0.99265034, 0.99265034, 0.33472885,\n",
       "         0.33472885, 0.3671904 , 0.3671904 , 0.88796524, 0.88796524,\n",
       "         0.48960906, 0.48960906, 0.29257799, 0.29257799, 0.08804929,\n",
       "         0.08804929, 0.58998386, 0.58998386, 0.7508656 , 0.7508656 ])}}"
      ]
     },
     "execution_count": 1,
     "metadata": {},
     "output_type": "execute_result"
    }
   ],
   "source": [
    "ds = load_by_id(run_id_n)\n",
    "ds.get_parameter_data('x1')"
   ]
  },
  {
   "cell_type": "markdown",
   "metadata": {},
   "source": [
    "And a dataset stored as binary arrays"
   ]
  },
  {
   "cell_type": "code",
   "execution_count": 12,
   "metadata": {
    "execution": {
     "iopub.execute_input": "2020-10-28T14:38:33.637884Z",
     "iopub.status.busy": "2020-10-28T14:38:33.637378Z",
     "iopub.status.idle": "2020-10-28T14:38:33.691727Z",
     "shell.execute_reply": "2020-10-28T14:38:33.692542Z"
    },
    "scrolled": true
   },
   "outputs": [
    {
     "data": {
      "text/plain": [
       "{'x1': {'x1': array([[0.48983773],\n",
       "         [0.48983773],\n",
       "         [0.09779575],\n",
       "         [0.09779575],\n",
       "         [0.75737194],\n",
       "         [0.75737194],\n",
       "         [0.99504258],\n",
       "         [0.99504258],\n",
       "         [0.58885669],\n",
       "         [0.58885669],\n",
       "         [0.2565781 ],\n",
       "         [0.2565781 ],\n",
       "         [0.38076655],\n",
       "         [0.38076655],\n",
       "         [0.51264879],\n",
       "         [0.51264879],\n",
       "         [0.90133502],\n",
       "         [0.90133502],\n",
       "         [0.56023491],\n",
       "         [0.56023491],\n",
       "         [0.20396129],\n",
       "         [0.20396129],\n",
       "         [0.38109283],\n",
       "         [0.38109283],\n",
       "         [0.26872676],\n",
       "         [0.26872676],\n",
       "         [0.495413  ],\n",
       "         [0.495413  ],\n",
       "         [0.15700729],\n",
       "         [0.15700729],\n",
       "         [0.41160517],\n",
       "         [0.41160517],\n",
       "         [0.22630966],\n",
       "         [0.22630966],\n",
       "         [0.06822767],\n",
       "         [0.06822767],\n",
       "         [0.68811811],\n",
       "         [0.68811811],\n",
       "         [0.65129773],\n",
       "         [0.65129773],\n",
       "         [0.10987812],\n",
       "         [0.10987812],\n",
       "         [0.26277898],\n",
       "         [0.26277898],\n",
       "         [0.5231233 ],\n",
       "         [0.5231233 ],\n",
       "         [0.69108907],\n",
       "         [0.69108907],\n",
       "         [0.28464079],\n",
       "         [0.28464079],\n",
       "         [0.40377635],\n",
       "         [0.40377635],\n",
       "         [0.81556928],\n",
       "         [0.81556928],\n",
       "         [0.08737555],\n",
       "         [0.08737555],\n",
       "         [0.8610134 ],\n",
       "         [0.8610134 ],\n",
       "         [0.82223386],\n",
       "         [0.82223386],\n",
       "         [0.66929852],\n",
       "         [0.66929852],\n",
       "         [0.84105622],\n",
       "         [0.84105622],\n",
       "         [0.9722488 ],\n",
       "         [0.9722488 ],\n",
       "         [0.43683729],\n",
       "         [0.43683729],\n",
       "         [0.34700038],\n",
       "         [0.34700038],\n",
       "         [0.22933923],\n",
       "         [0.22933923],\n",
       "         [0.0569256 ],\n",
       "         [0.0569256 ],\n",
       "         [0.19942449],\n",
       "         [0.19942449],\n",
       "         [0.24733153],\n",
       "         [0.24733153],\n",
       "         [0.81170042],\n",
       "         [0.81170042],\n",
       "         [0.49172189],\n",
       "         [0.49172189],\n",
       "         [0.1739901 ],\n",
       "         [0.1739901 ],\n",
       "         [0.17935024],\n",
       "         [0.17935024],\n",
       "         [0.70584231],\n",
       "         [0.70584231],\n",
       "         [0.15273132],\n",
       "         [0.15273132],\n",
       "         [0.51926542],\n",
       "         [0.51926542],\n",
       "         [0.66482181],\n",
       "         [0.66482181],\n",
       "         [0.09585501],\n",
       "         [0.09585501],\n",
       "         [0.65518266],\n",
       "         [0.65518266],\n",
       "         [0.76816482],\n",
       "         [0.76816482],\n",
       "         [0.66185838],\n",
       "         [0.66185838],\n",
       "         [0.47969627],\n",
       "         [0.47969627],\n",
       "         [0.33653512],\n",
       "         [0.33653512],\n",
       "         [0.34433696],\n",
       "         [0.34433696],\n",
       "         [0.00844462],\n",
       "         [0.00844462],\n",
       "         [0.5163483 ],\n",
       "         [0.5163483 ],\n",
       "         [0.24266251],\n",
       "         [0.24266251],\n",
       "         [0.53126817],\n",
       "         [0.53126817],\n",
       "         [0.3654181 ],\n",
       "         [0.3654181 ],\n",
       "         [0.25251527],\n",
       "         [0.25251527],\n",
       "         [0.56869086],\n",
       "         [0.56869086],\n",
       "         [0.64240114],\n",
       "         [0.64240114],\n",
       "         [0.21053018],\n",
       "         [0.21053018],\n",
       "         [0.83733137],\n",
       "         [0.83733137],\n",
       "         [0.44338229],\n",
       "         [0.44338229],\n",
       "         [0.62499423],\n",
       "         [0.62499423],\n",
       "         [0.74050709],\n",
       "         [0.74050709],\n",
       "         [0.56253126],\n",
       "         [0.56253126],\n",
       "         [0.03410314],\n",
       "         [0.03410314],\n",
       "         [0.18960713],\n",
       "         [0.18960713],\n",
       "         [0.0543066 ],\n",
       "         [0.0543066 ],\n",
       "         [0.64623174],\n",
       "         [0.64623174],\n",
       "         [0.18586731],\n",
       "         [0.18586731],\n",
       "         [0.14972039],\n",
       "         [0.14972039],\n",
       "         [0.99821054],\n",
       "         [0.99821054],\n",
       "         [0.62590408],\n",
       "         [0.62590408],\n",
       "         [0.24372547],\n",
       "         [0.24372547],\n",
       "         [0.54058995],\n",
       "         [0.54058995],\n",
       "         [0.46885325],\n",
       "         [0.46885325],\n",
       "         [0.37358983],\n",
       "         [0.37358983],\n",
       "         [0.86460336],\n",
       "         [0.86460336],\n",
       "         [0.43329746],\n",
       "         [0.43329746],\n",
       "         [0.22329605],\n",
       "         [0.22329605],\n",
       "         [0.40250389],\n",
       "         [0.40250389],\n",
       "         [0.96338029],\n",
       "         [0.96338029],\n",
       "         [0.66310601],\n",
       "         [0.66310601],\n",
       "         [0.40409649],\n",
       "         [0.40409649],\n",
       "         [0.90602343],\n",
       "         [0.90602343],\n",
       "         [0.15117544],\n",
       "         [0.15117544],\n",
       "         [0.84103366],\n",
       "         [0.84103366],\n",
       "         [0.41233681],\n",
       "         [0.41233681],\n",
       "         [0.48083582],\n",
       "         [0.48083582],\n",
       "         [0.14669448],\n",
       "         [0.14669448],\n",
       "         [0.92708252],\n",
       "         [0.92708252],\n",
       "         [0.07014876],\n",
       "         [0.07014876],\n",
       "         [0.21110697],\n",
       "         [0.21110697],\n",
       "         [0.41431258],\n",
       "         [0.41431258],\n",
       "         [0.80047936],\n",
       "         [0.80047936],\n",
       "         [0.88552577],\n",
       "         [0.88552577],\n",
       "         [0.35246479],\n",
       "         [0.35246479]])}}"
      ]
     },
     "execution_count": 1,
     "metadata": {},
     "output_type": "execute_result"
    }
   ],
   "source": [
    "ds = load_by_id(run_id_a)\n",
    "ds.get_parameter_data('x1')"
   ]
  },
  {
   "cell_type": "code",
   "execution_count": null,
   "metadata": {},
   "outputs": [],
   "source": []
  }
 ],
 "metadata": {
  "kernelspec": {
   "display_name": "Python 3",
   "language": "python",
   "name": "python3"
  },
  "language_info": {
   "codemirror_mode": {
    "name": "ipython",
    "version": 3
   },
   "file_extension": ".py",
   "mimetype": "text/x-python",
   "name": "python",
   "nbconvert_exporter": "python",
   "pygments_lexer": "ipython3",
   "version": "3.7.9"
  },
  "nbsphinx": {
   "timeout": 600
  },
  "toc": {
   "base_numbering": 1,
   "nav_menu": {},
   "number_sections": true,
   "sideBar": true,
   "skip_h1_title": false,
   "title_cell": "Table of Contents",
   "title_sidebar": "Contents",
   "toc_cell": false,
   "toc_position": {},
   "toc_section_display": true,
   "toc_window_display": false
  },
  "varInspector": {
   "cols": {
    "lenName": 16,
    "lenType": 16,
    "lenVar": 40
   },
   "kernels_config": {
    "python": {
     "delete_cmd_postfix": "",
     "delete_cmd_prefix": "del ",
     "library": "var_list.py",
     "varRefreshCmd": "print(var_dic_list())"
    },
    "r": {
     "delete_cmd_postfix": ") ",
     "delete_cmd_prefix": "rm(",
     "library": "var_list.r",
     "varRefreshCmd": "cat(var_dic_list()) "
    }
   },
   "types_to_exclude": [
    "module",
    "function",
    "builtin_function_or_method",
    "instance",
    "_Feature"
   ],
   "window_display": false
  }
 },
 "nbformat": 4,
 "nbformat_minor": 2
}
