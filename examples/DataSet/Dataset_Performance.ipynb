{
 "cells": [
  {
   "cell_type": "markdown",
   "metadata": {},
   "source": [
    "# DataSet Performance\n",
    "\n",
    "This notebook shows the trade-off between inserting data into a database row-by-row and as binary blobs. Inserting the data row-by-row means that we have direct access to all the data and may perform queries directly on the values of the data. On the other hand, as we shall see, this is much slower than inserting the data directly as binary blobs."
   ]
  },
  {
   "cell_type": "markdown",
   "metadata": {},
   "source": [
    "First, we choose a new location for the database to ensure that we don't add a bunch of benchmarking data to the default one."
   ]
  },
  {
   "cell_type": "code",
   "execution_count": 1,
   "metadata": {
    "execution": {
     "iopub.execute_input": "2021-04-27T06:36:11.095528Z",
     "iopub.status.busy": "2021-04-27T06:36:11.094852Z",
     "iopub.status.idle": "2021-04-27T06:36:12.396435Z",
     "shell.execute_reply": "2021-04-27T06:36:12.395429Z"
    }
   },
   "outputs": [
    {
     "name": "stdout",
     "output_type": "stream",
     "text": [
      "Logging hadn't been started.\n",
      "Activating auto-logging. Current session state plus future input saved.\n",
      "Filename       : /home/runner/.qcodes/logs/command_history.log\n",
      "Mode           : append\n",
      "Output logging : True\n",
      "Raw input log  : False\n",
      "Timestamping   : True\n",
      "State          : active\n"
     ]
    },
    {
     "name": "stdout",
     "output_type": "stream",
     "text": [
      "Qcodes Logfile : /home/runner/.qcodes/logs/210427-4637-qcodes.log\n"
     ]
    }
   ],
   "source": [
    "import os\n",
    "cwd = os.getcwd()\n",
    "import qcodes as qc\n",
    "qc.config[\"core\"][\"db_location\"] = os.path.join(cwd, 'testing.db')\n"
   ]
  },
  {
   "cell_type": "code",
   "execution_count": 2,
   "metadata": {
    "execution": {
     "iopub.execute_input": "2021-04-27T06:36:12.403245Z",
     "iopub.status.busy": "2021-04-27T06:36:12.402597Z",
     "iopub.status.idle": "2021-04-27T06:36:12.618630Z",
     "shell.execute_reply": "2021-04-27T06:36:12.617539Z"
    }
   },
   "outputs": [],
   "source": [
    "%matplotlib inline\n",
    "import time\n",
    "import matplotlib.pyplot as plt\n",
    "import numpy as np\n",
    "\n",
    "import qcodes as qc\n",
    "from qcodes.instrument.parameter import ManualParameter\n",
    "from qcodes.dataset.experiment_container import (Experiment,\n",
    "                                                 load_last_experiment,\n",
    "                                                 new_experiment)\n",
    "from qcodes.dataset.sqlite.database import initialise_database\n",
    "from qcodes import load_or_create_experiment\n",
    "from qcodes.dataset.measurements import Measurement"
   ]
  },
  {
   "cell_type": "code",
   "execution_count": 3,
   "metadata": {
    "execution": {
     "iopub.execute_input": "2021-04-27T06:36:12.622791Z",
     "iopub.status.busy": "2021-04-27T06:36:12.622122Z",
     "iopub.status.idle": "2021-04-27T06:36:12.756584Z",
     "shell.execute_reply": "2021-04-27T06:36:12.755997Z"
    }
   },
   "outputs": [
    {
     "name": "stdout",
     "output_type": "stream",
     "text": [
      "\r",
      "0it [00:00, ?it/s]"
     ]
    },
    {
     "name": "stdout",
     "output_type": "stream",
     "text": [
      "\r",
      "Upgrading database; v0 -> v1: : 0it [00:00, ?it/s]"
     ]
    },
    {
     "name": "stdout",
     "output_type": "stream",
     "text": [
      "\r",
      "Upgrading database; v0 -> v1: : 0it [00:00, ?it/s]"
     ]
    },
    {
     "name": "stdout",
     "output_type": "stream",
     "text": [
      "\n",
      "\r",
      "  0%|          | 0/1 [00:00<?, ?it/s]"
     ]
    },
    {
     "name": "stdout",
     "output_type": "stream",
     "text": [
      "\r",
      "Upgrading database; v1 -> v2:   0%|          | 0/1 [00:00<?, ?it/s]"
     ]
    },
    {
     "name": "stdout",
     "output_type": "stream",
     "text": [
      "\r",
      "Upgrading database; v1 -> v2: 100%|██████████| 1/1 [00:00<00:00, 438.73it/s]"
     ]
    },
    {
     "name": "stdout",
     "output_type": "stream",
     "text": [
      "\n",
      "\r",
      "0it [00:00, ?it/s]"
     ]
    },
    {
     "name": "stdout",
     "output_type": "stream",
     "text": [
      "\r",
      "Upgrading database; v2 -> v3: : 0it [00:00, ?it/s]"
     ]
    },
    {
     "name": "stdout",
     "output_type": "stream",
     "text": [
      "\r",
      "Upgrading database; v2 -> v3: : 0it [00:00, ?it/s]"
     ]
    },
    {
     "name": "stdout",
     "output_type": "stream",
     "text": [
      "\n",
      "\r",
      "0it [00:00, ?it/s]"
     ]
    },
    {
     "name": "stdout",
     "output_type": "stream",
     "text": [
      "\r",
      "Upgrading database; v3 -> v4: : 0it [00:00, ?it/s]"
     ]
    },
    {
     "name": "stdout",
     "output_type": "stream",
     "text": [
      "\r",
      "Upgrading database; v3 -> v4: : 0it [00:00, ?it/s]"
     ]
    },
    {
     "name": "stdout",
     "output_type": "stream",
     "text": [
      "\n",
      "\r",
      "  0%|          | 0/1 [00:00<?, ?it/s]"
     ]
    },
    {
     "name": "stdout",
     "output_type": "stream",
     "text": [
      "\r",
      "Upgrading database; v4 -> v5:   0%|          | 0/1 [00:00<?, ?it/s]"
     ]
    },
    {
     "name": "stdout",
     "output_type": "stream",
     "text": [
      "\r",
      "Upgrading database; v4 -> v5: 100%|██████████| 1/1 [00:00<00:00, 569.80it/s]"
     ]
    },
    {
     "name": "stdout",
     "output_type": "stream",
     "text": [
      "\n",
      "\r",
      "0it [00:00, ?it/s]"
     ]
    },
    {
     "name": "stdout",
     "output_type": "stream",
     "text": [
      "\r",
      "Upgrading database; v5 -> v6: : 0it [00:00, ?it/s]"
     ]
    },
    {
     "name": "stdout",
     "output_type": "stream",
     "text": [
      "\r",
      "Upgrading database; v5 -> v6: : 0it [00:00, ?it/s]"
     ]
    },
    {
     "name": "stdout",
     "output_type": "stream",
     "text": [
      "\n",
      "\r",
      "  0%|          | 0/1 [00:00<?, ?it/s]"
     ]
    },
    {
     "name": "stdout",
     "output_type": "stream",
     "text": [
      "\r",
      "Upgrading database; v6 -> v7:   0%|          | 0/1 [00:00<?, ?it/s]"
     ]
    },
    {
     "name": "stdout",
     "output_type": "stream",
     "text": [
      "\r",
      "Upgrading database; v6 -> v7: 100%|██████████| 1/1 [00:00<00:00, 340.53it/s]"
     ]
    },
    {
     "name": "stdout",
     "output_type": "stream",
     "text": [
      "\n",
      "\r",
      "  0%|          | 0/1 [00:00<?, ?it/s]"
     ]
    },
    {
     "name": "stdout",
     "output_type": "stream",
     "text": [
      "\r",
      "Upgrading database; v7 -> v8:   0%|          | 0/1 [00:00<?, ?it/s]"
     ]
    },
    {
     "name": "stdout",
     "output_type": "stream",
     "text": [
      "\r",
      "Upgrading database; v7 -> v8: 100%|██████████| 1/1 [00:00<00:00, 595.70it/s]"
     ]
    },
    {
     "name": "stdout",
     "output_type": "stream",
     "text": [
      "\n",
      "\r",
      "  0%|          | 0/1 [00:00<?, ?it/s]"
     ]
    },
    {
     "name": "stdout",
     "output_type": "stream",
     "text": [
      "\r",
      "Upgrading database; v8 -> v9:   0%|          | 0/1 [00:00<?, ?it/s]"
     ]
    },
    {
     "name": "stdout",
     "output_type": "stream",
     "text": [
      "\r",
      "Upgrading database; v8 -> v9: 100%|██████████| 1/1 [00:00<00:00, 943.39it/s]"
     ]
    },
    {
     "name": "stdout",
     "output_type": "stream",
     "text": [
      "\n"
     ]
    }
   ],
   "source": [
    "initialise_database()\n",
    "exp = load_or_create_experiment(experiment_name='tutorial_exp', sample_name=\"no sample\")"
   ]
  },
  {
   "cell_type": "markdown",
   "metadata": {},
   "source": [
    "Here, we define a simple function to benchmark the time it takes to insert n points with either numeric or array data type.\n",
    "We will compare both the time used to call ``add_result`` and the time used for the full measurement."
   ]
  },
  {
   "cell_type": "code",
   "execution_count": 4,
   "metadata": {
    "execution": {
     "iopub.execute_input": "2021-04-27T06:36:12.767161Z",
     "iopub.status.busy": "2021-04-27T06:36:12.765711Z",
     "iopub.status.idle": "2021-04-27T06:36:12.767859Z",
     "shell.execute_reply": "2021-04-27T06:36:12.768391Z"
    }
   },
   "outputs": [],
   "source": [
    "def insert_data(paramtype, npoints, nreps=1):\n",
    "\n",
    "    meas = Measurement(exp=exp)\n",
    "\n",
    "    x1 = ManualParameter('x1')\n",
    "    x2 = ManualParameter('x2')\n",
    "    x3 = ManualParameter('x3')\n",
    "    y1 = ManualParameter('y1')\n",
    "    y2 = ManualParameter('y2')\n",
    "\n",
    "    meas.register_parameter(x1, paramtype=paramtype)\n",
    "    meas.register_parameter(x2, paramtype=paramtype)\n",
    "    meas.register_parameter(x3, paramtype=paramtype)\n",
    "    meas.register_parameter(y1, setpoints=[x1, x2, x3],\n",
    "                            paramtype=paramtype)\n",
    "    meas.register_parameter(y2, setpoints=[x1, x2, x3],\n",
    "                            paramtype=paramtype)\n",
    "    start = time.perf_counter()\n",
    "    with meas.run() as datasaver:\n",
    "        start_adding = time.perf_counter()\n",
    "        for i in range(nreps):\n",
    "            datasaver.add_result((x1, np.random.rand(npoints)),\n",
    "                                 (x2, np.random.rand(npoints)),\n",
    "                                 (x3, np.random.rand(npoints)),\n",
    "                                 (y1, np.random.rand(npoints)),\n",
    "                                 (y2, np.random.rand(npoints)))\n",
    "        stop_adding = time.perf_counter()\n",
    "        run_id = datasaver.run_id\n",
    "    stop = time.perf_counter()\n",
    "    tot_time = stop - start\n",
    "    add_time = stop_adding - start_adding\n",
    "    return tot_time, add_time, run_id"
   ]
  },
  {
   "cell_type": "markdown",
   "metadata": {},
   "source": [
    "## Comparison between numeric/array data and binary blob"
   ]
  },
  {
   "cell_type": "markdown",
   "metadata": {},
   "source": [
    "### Case1: Short experiment time"
   ]
  },
  {
   "cell_type": "code",
   "execution_count": 5,
   "metadata": {
    "execution": {
     "iopub.execute_input": "2021-04-27T06:36:12.775658Z",
     "iopub.status.busy": "2021-04-27T06:36:12.774760Z",
     "iopub.status.idle": "2021-04-27T06:36:13.633110Z",
     "shell.execute_reply": "2021-04-27T06:36:13.632474Z"
    }
   },
   "outputs": [
    {
     "name": "stdout",
     "output_type": "stream",
     "text": [
      "Starting experimental run with id: 1. \n",
      "Starting experimental run with id: 2. \n",
      "Starting experimental run with id: 3. \n",
      "Starting experimental run with id: 4. \n"
     ]
    },
    {
     "name": "stdout",
     "output_type": "stream",
     "text": [
      "Starting experimental run with id: 5. \n"
     ]
    },
    {
     "name": "stdout",
     "output_type": "stream",
     "text": [
      "Starting experimental run with id: 6. \n"
     ]
    },
    {
     "name": "stdout",
     "output_type": "stream",
     "text": [
      "Starting experimental run with id: 7. \n"
     ]
    },
    {
     "name": "stdout",
     "output_type": "stream",
     "text": [
      "Starting experimental run with id: 8. \n",
      "Starting experimental run with id: 9. \n"
     ]
    },
    {
     "name": "stdout",
     "output_type": "stream",
     "text": [
      "Starting experimental run with id: 10. \n",
      "Starting experimental run with id: 11. \n"
     ]
    },
    {
     "name": "stdout",
     "output_type": "stream",
     "text": [
      "Starting experimental run with id: 12. \n"
     ]
    },
    {
     "name": "stdout",
     "output_type": "stream",
     "text": [
      "Starting experimental run with id: 13. \n"
     ]
    },
    {
     "name": "stdout",
     "output_type": "stream",
     "text": [
      "Starting experimental run with id: 14. \n"
     ]
    }
   ],
   "source": [
    "sizes = [1,500,1000,2000,3000,4000,5000]\n",
    "t_numeric = []\n",
    "t_numeric_add = []\n",
    "t_array = []\n",
    "t_array_add = []\n",
    "for size in sizes:\n",
    "    tn, tna, run_id_n =  insert_data('numeric', size)\n",
    "    t_numeric.append(tn)\n",
    "    t_numeric_add.append(tna)\n",
    "\n",
    "    ta, taa, run_id_a =  insert_data('array', size)\n",
    "    t_array.append(ta)\n",
    "    t_array_add.append(taa)"
   ]
  },
  {
   "cell_type": "code",
   "execution_count": 6,
   "metadata": {
    "execution": {
     "iopub.execute_input": "2021-04-27T06:36:13.668546Z",
     "iopub.status.busy": "2021-04-27T06:36:13.667859Z",
     "iopub.status.idle": "2021-04-27T06:36:13.898215Z",
     "shell.execute_reply": "2021-04-27T06:36:13.897661Z"
    }
   },
   "outputs": [
    {
     "data": {
      "image/png": "[encoded data removed]",
      "text/plain": [
       "<Figure size 432x288 with 1 Axes>"
      ]
     },
     "metadata": {
      "needs_background": "light"
     },
     "output_type": "display_data"
    }
   ],
   "source": [
    "fig, ax = plt.subplots(1,1)\n",
    "ax.plot(sizes, t_numeric, 'o-', label='Inserting row-by-row')\n",
    "ax.plot(sizes, t_numeric_add, 'o-', label='Inserting row-by-row: add_result only')\n",
    "ax.plot(sizes, t_array, 'd-', label='Inserting as binary blob')\n",
    "ax.plot(sizes, t_array_add, 'd-', label='Inserting as binary blob: add_result only')\n",
    "ax.legend()\n",
    "ax.set_xlabel('Array length')\n",
    "ax.set_ylabel('Time (s)')\n",
    "fig.tight_layout()"
   ]
  },
  {
   "cell_type": "markdown",
   "metadata": {},
   "source": [
    "As shown in the latter figure, the time to setup and and close the experiment is approximately 0.4 sec. In case of small array sizes, the difference between inserting values of data as arrays and inserting them row-by-row is relatively unimportant. At larger array sizes, i.e. above 10000 points, the cost of writing data as individual datapoints starts to become important.\n"
   ]
  },
  {
   "cell_type": "markdown",
   "metadata": {},
   "source": [
    "### Case2: Long experiment time "
   ]
  },
  {
   "cell_type": "code",
   "execution_count": 7,
   "metadata": {
    "execution": {
     "iopub.execute_input": "2021-04-27T06:36:13.904145Z",
     "iopub.status.busy": "2021-04-27T06:36:13.903505Z",
     "iopub.status.idle": "2021-04-27T06:37:13.437400Z",
     "shell.execute_reply": "2021-04-27T06:37:13.436786Z"
    }
   },
   "outputs": [
    {
     "name": "stdout",
     "output_type": "stream",
     "text": [
      "Starting experimental run with id: 15. \n",
      "Starting experimental run with id: 16. \n"
     ]
    },
    {
     "name": "stdout",
     "output_type": "stream",
     "text": [
      "Starting experimental run with id: 17. \n"
     ]
    },
    {
     "name": "stdout",
     "output_type": "stream",
     "text": [
      "Starting experimental run with id: 18. \n"
     ]
    },
    {
     "name": "stdout",
     "output_type": "stream",
     "text": [
      "Starting experimental run with id: 19. \n"
     ]
    },
    {
     "name": "stdout",
     "output_type": "stream",
     "text": [
      "Starting experimental run with id: 20. \n"
     ]
    },
    {
     "name": "stdout",
     "output_type": "stream",
     "text": [
      "Starting experimental run with id: 21. \n"
     ]
    },
    {
     "name": "stdout",
     "output_type": "stream",
     "text": [
      "Starting experimental run with id: 22. \n"
     ]
    },
    {
     "name": "stdout",
     "output_type": "stream",
     "text": [
      "Starting experimental run with id: 23. \n"
     ]
    },
    {
     "name": "stdout",
     "output_type": "stream",
     "text": [
      "Starting experimental run with id: 24. \n"
     ]
    },
    {
     "name": "stdout",
     "output_type": "stream",
     "text": [
      "Starting experimental run with id: 25. \n"
     ]
    },
    {
     "name": "stdout",
     "output_type": "stream",
     "text": [
      "Starting experimental run with id: 26. \n"
     ]
    },
    {
     "name": "stdout",
     "output_type": "stream",
     "text": [
      "Starting experimental run with id: 27. \n"
     ]
    },
    {
     "name": "stdout",
     "output_type": "stream",
     "text": [
      "Starting experimental run with id: 28. \n"
     ]
    }
   ],
   "source": [
    "sizes = [1,500,1000,2000,3000,4000,5000]\n",
    "nreps = 100\n",
    "t_numeric = []\n",
    "t_numeric_add = []\n",
    "t_numeric_run_ids = []\n",
    "t_array = []\n",
    "t_array_add = []\n",
    "t_array_run_ids = []\n",
    "for size in sizes:\n",
    "    tn, tna, run_id_n =  insert_data('numeric', size, nreps=nreps)\n",
    "    t_numeric.append(tn)\n",
    "    t_numeric_add.append(tna)\n",
    "    t_numeric_run_ids.append(run_id_n)\n",
    "\n",
    "    ta, taa, run_id_a =  insert_data('array', size, nreps=nreps)\n",
    "    t_array.append(ta)\n",
    "    t_array_add.append(taa)\n",
    "    t_array_run_ids.append(run_id_a)"
   ]
  },
  {
   "cell_type": "code",
   "execution_count": 8,
   "metadata": {
    "execution": {
     "iopub.execute_input": "2021-04-27T06:37:13.491139Z",
     "iopub.status.busy": "2021-04-27T06:37:13.473106Z",
     "iopub.status.idle": "2021-04-27T06:37:13.664964Z",
     "shell.execute_reply": "2021-04-27T06:37:13.665763Z"
    },
    "scrolled": true
   },
   "outputs": [
    {
     "data": {
      "image/png": "[encoded data removed]",
      "text/plain": [
       "<Figure size 432x288 with 1 Axes>"
      ]
     },
     "metadata": {
      "needs_background": "light"
     },
     "output_type": "display_data"
    }
   ],
   "source": [
    "fig, ax = plt.subplots(1,1)\n",
    "ax.plot(sizes, t_numeric, 'o-', label='Inserting row-by-row')\n",
    "ax.plot(sizes, t_numeric_add, 'o-', label='Inserting row-by-row: add_result only')\n",
    "ax.plot(sizes, t_array, 'd-', label='Inserting as binary blob')\n",
    "ax.plot(sizes, t_array_add, 'd-', label='Inserting as binary blob: add_result only')\n",
    "ax.legend()\n",
    "ax.set_xlabel('Array length')\n",
    "ax.set_ylabel('Time (s)')\n",
    "fig.tight_layout()"
   ]
  },
  {
   "cell_type": "markdown",
   "metadata": {},
   "source": [
    "However, as we increase the length of the experiment, as seen here by repeating the insertion 100 times, we see a big difference between inserting values of the data row-by-row and inserting it as a binary blob."
   ]
  },
  {
   "cell_type": "markdown",
   "metadata": {},
   "source": [
    "## Loading the data "
   ]
  },
  {
   "cell_type": "code",
   "execution_count": 9,
   "metadata": {
    "execution": {
     "iopub.execute_input": "2021-04-27T06:37:13.671365Z",
     "iopub.status.busy": "2021-04-27T06:37:13.670194Z",
     "iopub.status.idle": "2021-04-27T06:37:13.672738Z",
     "shell.execute_reply": "2021-04-27T06:37:13.673331Z"
    }
   },
   "outputs": [],
   "source": [
    "from qcodes.dataset.data_set import load_by_id"
   ]
  },
  {
   "cell_type": "markdown",
   "metadata": {},
   "source": [
    "As usual you can load the data by using the ``load_by_id`` function but you will notice that the different storage methods\n",
    "are reflected in shape of the data as it is retrieved. "
   ]
  },
  {
   "cell_type": "code",
   "execution_count": 10,
   "metadata": {
    "execution": {
     "iopub.execute_input": "2021-04-27T06:37:13.677734Z",
     "iopub.status.busy": "2021-04-27T06:37:13.676859Z",
     "iopub.status.idle": "2021-04-27T06:37:13.679822Z",
     "shell.execute_reply": "2021-04-27T06:37:13.679171Z"
    }
   },
   "outputs": [],
   "source": [
    "run_id_n = t_numeric_run_ids[0]\n",
    "run_id_a = t_array_run_ids[0]"
   ]
  },
  {
   "cell_type": "code",
   "execution_count": 11,
   "metadata": {
    "execution": {
     "iopub.execute_input": "2021-04-27T06:37:13.684021Z",
     "iopub.status.busy": "2021-04-27T06:37:13.683394Z",
     "iopub.status.idle": "2021-04-27T06:37:13.693781Z",
     "shell.execute_reply": "2021-04-27T06:37:13.694277Z"
    },
    "scrolled": true
   },
   "outputs": [
    {
     "data": {
      "text/plain": [
       "{'x1': {'x1': array([0.73574946, 0.73574946, 0.45838537, 0.45838537, 0.50963825,\n",
       "         0.50963825, 0.51106549, 0.51106549, 0.16577913, 0.16577913,\n",
       "         0.4697742 , 0.4697742 , 0.40221663, 0.40221663, 0.54830949,\n",
       "         0.54830949, 0.20584035, 0.20584035, 0.76289443, 0.76289443,\n",
       "         0.80457356, 0.80457356, 0.22700328, 0.22700328, 0.57630332,\n",
       "         0.57630332, 0.38918261, 0.38918261, 0.74744747, 0.74744747,\n",
       "         0.24388038, 0.24388038, 0.14383194, 0.14383194, 0.24082411,\n",
       "         0.24082411, 0.17304145, 0.17304145, 0.44592084, 0.44592084,\n",
       "         0.41377474, 0.41377474, 0.26837227, 0.26837227, 0.83471015,\n",
       "         0.83471015, 0.94718017, 0.94718017, 0.98553017, 0.98553017,\n",
       "         0.8609202 , 0.8609202 , 0.60360866, 0.60360866, 0.19192811,\n",
       "         0.19192811, 0.51107145, 0.51107145, 0.6388648 , 0.6388648 ,\n",
       "         0.85695823, 0.85695823, 0.10378619, 0.10378619, 0.29788755,\n",
       "         0.29788755, 0.03188128, 0.03188128, 0.64038429, 0.64038429,\n",
       "         0.18582531, 0.18582531, 0.18771986, 0.18771986, 0.00596097,\n",
       "         0.00596097, 0.10522981, 0.10522981, 0.76831133, 0.76831133,\n",
       "         0.42338112, 0.42338112, 0.02287984, 0.02287984, 0.91784298,\n",
       "         0.91784298, 0.89964402, 0.89964402, 0.66847889, 0.66847889,\n",
       "         0.16737956, 0.16737956, 0.252739  , 0.252739  , 0.47033083,\n",
       "         0.47033083, 0.07340959, 0.07340959, 0.33168226, 0.33168226,\n",
       "         0.1026727 , 0.1026727 , 0.36037524, 0.36037524, 0.81233498,\n",
       "         0.81233498, 0.50766978, 0.50766978, 0.60456339, 0.60456339,\n",
       "         0.9605407 , 0.9605407 , 0.6226303 , 0.6226303 , 0.58082952,\n",
       "         0.58082952, 0.79210791, 0.79210791, 0.69214498, 0.69214498,\n",
       "         0.11368281, 0.11368281, 0.04118197, 0.04118197, 0.81695173,\n",
       "         0.81695173, 0.44376298, 0.44376298, 0.99691079, 0.99691079,\n",
       "         0.79325701, 0.79325701, 0.91015803, 0.91015803, 0.23857296,\n",
       "         0.23857296, 0.63674806, 0.63674806, 0.11439291, 0.11439291,\n",
       "         0.25232881, 0.25232881, 0.56447111, 0.56447111, 0.90241907,\n",
       "         0.90241907, 0.5310175 , 0.5310175 , 0.39862936, 0.39862936,\n",
       "         0.05328366, 0.05328366, 0.62733468, 0.62733468, 0.79828252,\n",
       "         0.79828252, 0.87301902, 0.87301902, 0.81279568, 0.81279568,\n",
       "         0.20987707, 0.20987707, 0.97123748, 0.97123748, 0.88476422,\n",
       "         0.88476422, 0.13546598, 0.13546598, 0.34701011, 0.34701011,\n",
       "         0.55097661, 0.55097661, 0.8094002 , 0.8094002 , 0.22489415,\n",
       "         0.22489415, 0.35128597, 0.35128597, 0.87355964, 0.87355964,\n",
       "         0.12835257, 0.12835257, 0.6243465 , 0.6243465 , 0.855715  ,\n",
       "         0.855715  , 0.02107214, 0.02107214, 0.84327842, 0.84327842,\n",
       "         0.74417064, 0.74417064, 0.38170267, 0.38170267, 0.65254966,\n",
       "         0.65254966, 0.55603904, 0.55603904, 0.33714299, 0.33714299])}}"
      ]
     },
     "execution_count": 1,
     "metadata": {},
     "output_type": "execute_result"
    }
   ],
   "source": [
    "ds = load_by_id(run_id_n)\n",
    "ds.get_parameter_data('x1')"
   ]
  },
  {
   "cell_type": "markdown",
   "metadata": {},
   "source": [
    "And a dataset stored as binary arrays"
   ]
  },
  {
   "cell_type": "code",
   "execution_count": 12,
   "metadata": {
    "execution": {
     "iopub.execute_input": "2021-04-27T06:37:13.698176Z",
     "iopub.status.busy": "2021-04-27T06:37:13.697530Z",
     "iopub.status.idle": "2021-04-27T06:37:13.765294Z",
     "shell.execute_reply": "2021-04-27T06:37:13.765858Z"
    },
    "scrolled": true
   },
   "outputs": [
    {
     "data": {
      "text/plain": [
       "{'x1': {'x1': array([[0.19175119],\n",
       "         [0.19175119],\n",
       "         [0.04977191],\n",
       "         [0.04977191],\n",
       "         [0.41280691],\n",
       "         [0.41280691],\n",
       "         [0.00614961],\n",
       "         [0.00614961],\n",
       "         [0.63754513],\n",
       "         [0.63754513],\n",
       "         [0.86695001],\n",
       "         [0.86695001],\n",
       "         [0.02876754],\n",
       "         [0.02876754],\n",
       "         [0.78602871],\n",
       "         [0.78602871],\n",
       "         [0.97260466],\n",
       "         [0.97260466],\n",
       "         [0.62980059],\n",
       "         [0.62980059],\n",
       "         [0.69788787],\n",
       "         [0.69788787],\n",
       "         [0.68189859],\n",
       "         [0.68189859],\n",
       "         [0.2052315 ],\n",
       "         [0.2052315 ],\n",
       "         [0.0599275 ],\n",
       "         [0.0599275 ],\n",
       "         [0.42205155],\n",
       "         [0.42205155],\n",
       "         [0.79140685],\n",
       "         [0.79140685],\n",
       "         [0.41743175],\n",
       "         [0.41743175],\n",
       "         [0.89395339],\n",
       "         [0.89395339],\n",
       "         [0.83882377],\n",
       "         [0.83882377],\n",
       "         [0.72798852],\n",
       "         [0.72798852],\n",
       "         [0.53805022],\n",
       "         [0.53805022],\n",
       "         [0.95418509],\n",
       "         [0.95418509],\n",
       "         [0.35241239],\n",
       "         [0.35241239],\n",
       "         [0.23219214],\n",
       "         [0.23219214],\n",
       "         [0.97615158],\n",
       "         [0.97615158],\n",
       "         [0.96150991],\n",
       "         [0.96150991],\n",
       "         [0.39578226],\n",
       "         [0.39578226],\n",
       "         [0.60708529],\n",
       "         [0.60708529],\n",
       "         [0.71257005],\n",
       "         [0.71257005],\n",
       "         [0.23299593],\n",
       "         [0.23299593],\n",
       "         [0.4397689 ],\n",
       "         [0.4397689 ],\n",
       "         [0.67893184],\n",
       "         [0.67893184],\n",
       "         [0.93204623],\n",
       "         [0.93204623],\n",
       "         [0.80117997],\n",
       "         [0.80117997],\n",
       "         [0.40400345],\n",
       "         [0.40400345],\n",
       "         [0.07214164],\n",
       "         [0.07214164],\n",
       "         [0.61758077],\n",
       "         [0.61758077],\n",
       "         [0.95354708],\n",
       "         [0.95354708],\n",
       "         [0.69671844],\n",
       "         [0.69671844],\n",
       "         [0.77011972],\n",
       "         [0.77011972],\n",
       "         [0.07560353],\n",
       "         [0.07560353],\n",
       "         [0.1565605 ],\n",
       "         [0.1565605 ],\n",
       "         [0.36040327],\n",
       "         [0.36040327],\n",
       "         [0.21222609],\n",
       "         [0.21222609],\n",
       "         [0.60346056],\n",
       "         [0.60346056],\n",
       "         [0.02053615],\n",
       "         [0.02053615],\n",
       "         [0.3146699 ],\n",
       "         [0.3146699 ],\n",
       "         [0.45275962],\n",
       "         [0.45275962],\n",
       "         [0.52728989],\n",
       "         [0.52728989],\n",
       "         [0.79407976],\n",
       "         [0.79407976],\n",
       "         [0.75717352],\n",
       "         [0.75717352],\n",
       "         [0.97423056],\n",
       "         [0.97423056],\n",
       "         [0.59722755],\n",
       "         [0.59722755],\n",
       "         [0.66692485],\n",
       "         [0.66692485],\n",
       "         [0.9388891 ],\n",
       "         [0.9388891 ],\n",
       "         [0.18331917],\n",
       "         [0.18331917],\n",
       "         [0.31118858],\n",
       "         [0.31118858],\n",
       "         [0.83907809],\n",
       "         [0.83907809],\n",
       "         [0.22187846],\n",
       "         [0.22187846],\n",
       "         [0.82862143],\n",
       "         [0.82862143],\n",
       "         [0.01696721],\n",
       "         [0.01696721],\n",
       "         [0.89092166],\n",
       "         [0.89092166],\n",
       "         [0.09332226],\n",
       "         [0.09332226],\n",
       "         [0.88967445],\n",
       "         [0.88967445],\n",
       "         [0.64487341],\n",
       "         [0.64487341],\n",
       "         [0.46758868],\n",
       "         [0.46758868],\n",
       "         [0.1341927 ],\n",
       "         [0.1341927 ],\n",
       "         [0.46014342],\n",
       "         [0.46014342],\n",
       "         [0.64294007],\n",
       "         [0.64294007],\n",
       "         [0.72031129],\n",
       "         [0.72031129],\n",
       "         [0.04005882],\n",
       "         [0.04005882],\n",
       "         [0.22744201],\n",
       "         [0.22744201],\n",
       "         [0.89485429],\n",
       "         [0.89485429],\n",
       "         [0.43862402],\n",
       "         [0.43862402],\n",
       "         [0.55836173],\n",
       "         [0.55836173],\n",
       "         [0.63279234],\n",
       "         [0.63279234],\n",
       "         [0.34932906],\n",
       "         [0.34932906],\n",
       "         [0.8285598 ],\n",
       "         [0.8285598 ],\n",
       "         [0.83247993],\n",
       "         [0.83247993],\n",
       "         [0.42870001],\n",
       "         [0.42870001],\n",
       "         [0.3346597 ],\n",
       "         [0.3346597 ],\n",
       "         [0.05774129],\n",
       "         [0.05774129],\n",
       "         [0.59806176],\n",
       "         [0.59806176],\n",
       "         [0.8324014 ],\n",
       "         [0.8324014 ],\n",
       "         [0.14020002],\n",
       "         [0.14020002],\n",
       "         [0.68418448],\n",
       "         [0.68418448],\n",
       "         [0.055359  ],\n",
       "         [0.055359  ],\n",
       "         [0.49053003],\n",
       "         [0.49053003],\n",
       "         [0.7951465 ],\n",
       "         [0.7951465 ],\n",
       "         [0.7823413 ],\n",
       "         [0.7823413 ],\n",
       "         [0.00254859],\n",
       "         [0.00254859],\n",
       "         [0.77290575],\n",
       "         [0.77290575],\n",
       "         [0.3513227 ],\n",
       "         [0.3513227 ],\n",
       "         [0.00592855],\n",
       "         [0.00592855],\n",
       "         [0.93225082],\n",
       "         [0.93225082],\n",
       "         [0.81112317],\n",
       "         [0.81112317],\n",
       "         [0.96395523],\n",
       "         [0.96395523],\n",
       "         [0.52874087],\n",
       "         [0.52874087],\n",
       "         [0.42019714],\n",
       "         [0.42019714],\n",
       "         [0.59892824],\n",
       "         [0.59892824]])}}"
      ]
     },
     "execution_count": 1,
     "metadata": {},
     "output_type": "execute_result"
    }
   ],
   "source": [
    "ds = load_by_id(run_id_a)\n",
    "ds.get_parameter_data('x1')"
   ]
  },
  {
   "cell_type": "code",
   "execution_count": null,
   "metadata": {},
   "outputs": [],
   "source": []
  }
 ],
 "metadata": {
  "kernelspec": {
   "display_name": "Python 3",
   "language": "python",
   "name": "python3"
  },
  "language_info": {
   "codemirror_mode": {
    "name": "ipython",
    "version": 3
   },
   "file_extension": ".py",
   "mimetype": "text/x-python",
   "name": "python",
   "nbconvert_exporter": "python",
   "pygments_lexer": "ipython3",
   "version": "3.7.10"
  },
  "nbsphinx": {
   "timeout": 600
  },
  "toc": {
   "base_numbering": 1,
   "nav_menu": {},
   "number_sections": true,
   "sideBar": true,
   "skip_h1_title": false,
   "title_cell": "Table of Contents",
   "title_sidebar": "Contents",
   "toc_cell": false,
   "toc_position": {},
   "toc_section_display": true,
   "toc_window_display": false
  },
  "varInspector": {
   "cols": {
    "lenName": 16,
    "lenType": 16,
    "lenVar": 40
   },
   "kernels_config": {
    "python": {
     "delete_cmd_postfix": "",
     "delete_cmd_prefix": "del ",
     "library": "var_list.py",
     "varRefreshCmd": "print(var_dic_list())"
    },
    "r": {
     "delete_cmd_postfix": ") ",
     "delete_cmd_prefix": "rm(",
     "library": "var_list.r",
     "varRefreshCmd": "cat(var_dic_list()) "
    }
   },
   "types_to_exclude": [
    "module",
    "function",
    "builtin_function_or_method",
    "instance",
    "_Feature"
   ],
   "window_display": false
  }
 },
 "nbformat": 4,
 "nbformat_minor": 4
}
