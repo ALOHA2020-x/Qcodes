{
 "cells": [
  {
   "cell_type": "markdown",
   "metadata": {},
   "source": [
    "# DataSet Performance\n",
    "\n",
    "This notebook shows the trade-off between inserting data into a database row-by-row and as binary blobs. Inserting the data row-by-row means that we have direct access to all the data and may perform queries directly on the values of the data. On the other hand, as we shall see, this is much slower than inserting the data directly as binary blobs."
   ]
  },
  {
   "cell_type": "markdown",
   "metadata": {},
   "source": [
    "First, we choose a new location for the database to ensure that we don't add a bunch of benchmarking data to the default one."
   ]
  },
  {
   "cell_type": "code",
   "execution_count": 1,
   "metadata": {
    "execution": {
     "iopub.execute_input": "2021-03-01T13:29:06.328411Z",
     "iopub.status.busy": "2021-03-01T13:29:06.327728Z",
     "iopub.status.idle": "2021-03-01T13:29:07.397335Z",
     "shell.execute_reply": "2021-03-01T13:29:07.396613Z"
    }
   },
   "outputs": [
    {
     "name": "stdout",
     "output_type": "stream",
     "text": [
      "Logging hadn't been started.\n",
      "Activating auto-logging. Current session state plus future input saved.\n",
      "Filename       : /home/runner/.qcodes/logs/command_history.log\n",
      "Mode           : append\n",
      "Output logging : True\n",
      "Raw input log  : False\n",
      "Timestamping   : True\n",
      "State          : active\n"
     ]
    },
    {
     "name": "stdout",
     "output_type": "stream",
     "text": [
      "Qcodes Logfile : /home/runner/.qcodes/logs/210301-4105-qcodes.log\n"
     ]
    }
   ],
   "source": [
    "import os\n",
    "cwd = os.getcwd()\n",
    "import qcodes as qc\n",
    "qc.config[\"core\"][\"db_location\"] = os.path.join(cwd, 'testing.db')\n"
   ]
  },
  {
   "cell_type": "code",
   "execution_count": 2,
   "metadata": {
    "execution": {
     "iopub.execute_input": "2021-03-01T13:29:07.406701Z",
     "iopub.status.busy": "2021-03-01T13:29:07.404586Z",
     "iopub.status.idle": "2021-03-01T13:29:07.633011Z",
     "shell.execute_reply": "2021-03-01T13:29:07.632384Z"
    }
   },
   "outputs": [],
   "source": [
    "%matplotlib inline\n",
    "import time\n",
    "import matplotlib.pyplot as plt\n",
    "import numpy as np\n",
    "\n",
    "import qcodes as qc\n",
    "from qcodes.instrument.parameter import ManualParameter\n",
    "from qcodes.dataset.experiment_container import (Experiment,\n",
    "                                                 load_last_experiment,\n",
    "                                                 new_experiment)\n",
    "from qcodes.dataset.sqlite.database import initialise_database\n",
    "from qcodes import load_or_create_experiment\n",
    "from qcodes.dataset.measurements import Measurement"
   ]
  },
  {
   "cell_type": "code",
   "execution_count": 3,
   "metadata": {
    "execution": {
     "iopub.execute_input": "2021-03-01T13:29:07.638237Z",
     "iopub.status.busy": "2021-03-01T13:29:07.637480Z",
     "iopub.status.idle": "2021-03-01T13:29:07.793962Z",
     "shell.execute_reply": "2021-03-01T13:29:07.792987Z"
    }
   },
   "outputs": [
    {
     "name": "stdout",
     "output_type": "stream",
     "text": [
      "\r",
      "0it [00:00, ?it/s]"
     ]
    },
    {
     "name": "stdout",
     "output_type": "stream",
     "text": [
      "\r",
      "Upgrading database; v0 -> v1: : 0it [00:00, ?it/s]"
     ]
    },
    {
     "name": "stdout",
     "output_type": "stream",
     "text": [
      "\r",
      "Upgrading database; v0 -> v1: : 0it [00:00, ?it/s]"
     ]
    },
    {
     "name": "stdout",
     "output_type": "stream",
     "text": [
      "\n",
      "\r",
      "  0%|          | 0/1 [00:00<?, ?it/s]"
     ]
    },
    {
     "name": "stdout",
     "output_type": "stream",
     "text": [
      "\r",
      "Upgrading database; v1 -> v2:   0%|          | 0/1 [00:00<?, ?it/s]"
     ]
    },
    {
     "name": "stdout",
     "output_type": "stream",
     "text": [
      "\r",
      "Upgrading database; v1 -> v2: 100%|██████████| 1/1 [00:00<00:00, 513.38it/s]"
     ]
    },
    {
     "name": "stdout",
     "output_type": "stream",
     "text": [
      "\n",
      "\r",
      "0it [00:00, ?it/s]"
     ]
    },
    {
     "name": "stdout",
     "output_type": "stream",
     "text": [
      "\r",
      "Upgrading database; v2 -> v3: : 0it [00:00, ?it/s]"
     ]
    },
    {
     "name": "stdout",
     "output_type": "stream",
     "text": [
      "\r",
      "Upgrading database; v2 -> v3: : 0it [00:00, ?it/s]"
     ]
    },
    {
     "name": "stdout",
     "output_type": "stream",
     "text": [
      "\n",
      "\r",
      "0it [00:00, ?it/s]"
     ]
    },
    {
     "name": "stdout",
     "output_type": "stream",
     "text": [
      "\r",
      "Upgrading database; v3 -> v4: : 0it [00:00, ?it/s]"
     ]
    },
    {
     "name": "stdout",
     "output_type": "stream",
     "text": [
      "\r",
      "Upgrading database; v3 -> v4: : 0it [00:00, ?it/s]"
     ]
    },
    {
     "name": "stdout",
     "output_type": "stream",
     "text": [
      "\n",
      "\r",
      "  0%|          | 0/1 [00:00<?, ?it/s]"
     ]
    },
    {
     "name": "stdout",
     "output_type": "stream",
     "text": [
      "\r",
      "Upgrading database; v4 -> v5:   0%|          | 0/1 [00:00<?, ?it/s]"
     ]
    },
    {
     "name": "stdout",
     "output_type": "stream",
     "text": [
      "\r",
      "Upgrading database; v4 -> v5: 100%|██████████| 1/1 [00:00<00:00, 604.98it/s]"
     ]
    },
    {
     "name": "stdout",
     "output_type": "stream",
     "text": [
      "\n",
      "\r",
      "0it [00:00, ?it/s]"
     ]
    },
    {
     "name": "stdout",
     "output_type": "stream",
     "text": [
      "\r",
      "Upgrading database; v5 -> v6: : 0it [00:00, ?it/s]"
     ]
    },
    {
     "name": "stdout",
     "output_type": "stream",
     "text": [
      "\r",
      "Upgrading database; v5 -> v6: : 0it [00:00, ?it/s]"
     ]
    },
    {
     "name": "stdout",
     "output_type": "stream",
     "text": [
      "\n",
      "\r",
      "  0%|          | 0/1 [00:00<?, ?it/s]"
     ]
    },
    {
     "name": "stdout",
     "output_type": "stream",
     "text": [
      "\r",
      "Upgrading database; v6 -> v7:   0%|          | 0/1 [00:00<?, ?it/s]"
     ]
    },
    {
     "name": "stdout",
     "output_type": "stream",
     "text": [
      "\r",
      "Upgrading database; v6 -> v7: 100%|██████████| 1/1 [00:00<00:00, 142.96it/s]"
     ]
    },
    {
     "name": "stdout",
     "output_type": "stream",
     "text": [
      "\n",
      "\r",
      "  0%|          | 0/1 [00:00<?, ?it/s]"
     ]
    },
    {
     "name": "stdout",
     "output_type": "stream",
     "text": [
      "\r",
      "Upgrading database; v7 -> v8:   0%|          | 0/1 [00:00<?, ?it/s]"
     ]
    },
    {
     "name": "stdout",
     "output_type": "stream",
     "text": [
      "\r",
      "Upgrading database; v7 -> v8: 100%|██████████| 1/1 [00:00<00:00, 352.55it/s]"
     ]
    },
    {
     "name": "stdout",
     "output_type": "stream",
     "text": [
      "\n",
      "\r",
      "  0%|          | 0/1 [00:00<?, ?it/s]"
     ]
    },
    {
     "name": "stdout",
     "output_type": "stream",
     "text": [
      "\r",
      "Upgrading database; v8 -> v9:   0%|          | 0/1 [00:00<?, ?it/s]"
     ]
    },
    {
     "name": "stdout",
     "output_type": "stream",
     "text": [
      "\r",
      "Upgrading database; v8 -> v9: 100%|██████████| 1/1 [00:00<00:00, 348.57it/s]"
     ]
    },
    {
     "name": "stdout",
     "output_type": "stream",
     "text": [
      "\n"
     ]
    }
   ],
   "source": [
    "initialise_database()\n",
    "exp = load_or_create_experiment(experiment_name='tutorial_exp', sample_name=\"no sample\")"
   ]
  },
  {
   "cell_type": "markdown",
   "metadata": {},
   "source": [
    "Here, we define a simple function to benchmark the time it takes to insert n points with either numeric or array data type.\n",
    "We will compare both the time used to call ``add_result`` and the time used for the full measurement."
   ]
  },
  {
   "cell_type": "code",
   "execution_count": 4,
   "metadata": {
    "execution": {
     "iopub.execute_input": "2021-03-01T13:29:07.804558Z",
     "iopub.status.busy": "2021-03-01T13:29:07.803150Z",
     "iopub.status.idle": "2021-03-01T13:29:07.808202Z",
     "shell.execute_reply": "2021-03-01T13:29:07.808726Z"
    }
   },
   "outputs": [],
   "source": [
    "def insert_data(paramtype, npoints, nreps=1):\n",
    "\n",
    "    meas = Measurement(exp=exp)\n",
    "\n",
    "    x1 = ManualParameter('x1')\n",
    "    x2 = ManualParameter('x2')\n",
    "    x3 = ManualParameter('x3')\n",
    "    y1 = ManualParameter('y1')\n",
    "    y2 = ManualParameter('y2')\n",
    "\n",
    "    meas.register_parameter(x1, paramtype=paramtype)\n",
    "    meas.register_parameter(x2, paramtype=paramtype)\n",
    "    meas.register_parameter(x3, paramtype=paramtype)\n",
    "    meas.register_parameter(y1, setpoints=[x1, x2, x3],\n",
    "                            paramtype=paramtype)\n",
    "    meas.register_parameter(y2, setpoints=[x1, x2, x3],\n",
    "                            paramtype=paramtype)\n",
    "    start = time.perf_counter()\n",
    "    with meas.run() as datasaver:\n",
    "        start_adding = time.perf_counter()\n",
    "        for i in range(nreps):\n",
    "            datasaver.add_result((x1, np.random.rand(npoints)),\n",
    "                                 (x2, np.random.rand(npoints)),\n",
    "                                 (x3, np.random.rand(npoints)),\n",
    "                                 (y1, np.random.rand(npoints)),\n",
    "                                 (y2, np.random.rand(npoints)))\n",
    "        stop_adding = time.perf_counter()\n",
    "        run_id = datasaver.run_id\n",
    "    stop = time.perf_counter()\n",
    "    tot_time = stop - start\n",
    "    add_time = stop_adding - start_adding\n",
    "    return tot_time, add_time, run_id"
   ]
  },
  {
   "cell_type": "markdown",
   "metadata": {},
   "source": [
    "## Comparison between numeric/array data and binary blob"
   ]
  },
  {
   "cell_type": "markdown",
   "metadata": {},
   "source": [
    "### Case1: Short experiment time"
   ]
  },
  {
   "cell_type": "code",
   "execution_count": 5,
   "metadata": {
    "execution": {
     "iopub.execute_input": "2021-03-01T13:29:07.816511Z",
     "iopub.status.busy": "2021-03-01T13:29:07.814998Z",
     "iopub.status.idle": "2021-03-01T13:29:08.782882Z",
     "shell.execute_reply": "2021-03-01T13:29:08.781990Z"
    }
   },
   "outputs": [
    {
     "name": "stdout",
     "output_type": "stream",
     "text": [
      "Starting experimental run with id: 1. \n",
      "Starting experimental run with id: 2. \n",
      "Starting experimental run with id: 3. \n"
     ]
    },
    {
     "name": "stdout",
     "output_type": "stream",
     "text": [
      "Starting experimental run with id: 4. \n"
     ]
    },
    {
     "name": "stdout",
     "output_type": "stream",
     "text": [
      "Starting experimental run with id: 5. \n"
     ]
    },
    {
     "name": "stdout",
     "output_type": "stream",
     "text": [
      "Starting experimental run with id: 6. \n"
     ]
    },
    {
     "name": "stdout",
     "output_type": "stream",
     "text": [
      "Starting experimental run with id: 7. \n"
     ]
    },
    {
     "name": "stdout",
     "output_type": "stream",
     "text": [
      "Starting experimental run with id: 8. \n"
     ]
    },
    {
     "name": "stdout",
     "output_type": "stream",
     "text": [
      "Starting experimental run with id: 9. \n"
     ]
    },
    {
     "name": "stdout",
     "output_type": "stream",
     "text": [
      "Starting experimental run with id: 10. \n",
      "Starting experimental run with id: 11. \n"
     ]
    },
    {
     "name": "stdout",
     "output_type": "stream",
     "text": [
      "Starting experimental run with id: 12. \n"
     ]
    },
    {
     "name": "stdout",
     "output_type": "stream",
     "text": [
      "Starting experimental run with id: 13. \n"
     ]
    },
    {
     "name": "stdout",
     "output_type": "stream",
     "text": [
      "Starting experimental run with id: 14. \n"
     ]
    }
   ],
   "source": [
    "sizes = [1,500,1000,2000,3000,4000,5000]\n",
    "t_numeric = []\n",
    "t_numeric_add = []\n",
    "t_array = []\n",
    "t_array_add = []\n",
    "for size in sizes:\n",
    "    tn, tna, run_id_n =  insert_data('numeric', size)\n",
    "    t_numeric.append(tn)\n",
    "    t_numeric_add.append(tna)\n",
    "\n",
    "    ta, taa, run_id_a =  insert_data('array', size)\n",
    "    t_array.append(ta)\n",
    "    t_array_add.append(taa)"
   ]
  },
  {
   "cell_type": "code",
   "execution_count": 6,
   "metadata": {
    "execution": {
     "iopub.execute_input": "2021-03-01T13:29:08.806513Z",
     "iopub.status.busy": "2021-03-01T13:29:08.804504Z",
     "iopub.status.idle": "2021-03-01T13:29:09.063805Z",
     "shell.execute_reply": "2021-03-01T13:29:09.063223Z"
    }
   },
   "outputs": [
    {
     "data": {
      "image/png": "[encoded data removed]",
      "text/plain": [
       "<Figure size 432x288 with 1 Axes>"
      ]
     },
     "metadata": {
      "needs_background": "light"
     },
     "output_type": "display_data"
    }
   ],
   "source": [
    "fig, ax = plt.subplots(1,1)\n",
    "ax.plot(sizes, t_numeric, 'o-', label='Inserting row-by-row')\n",
    "ax.plot(sizes, t_numeric_add, 'o-', label='Inserting row-by-row: add_result only')\n",
    "ax.plot(sizes, t_array, 'd-', label='Inserting as binary blob')\n",
    "ax.plot(sizes, t_array_add, 'd-', label='Inserting as binary blob: add_result only')\n",
    "ax.legend()\n",
    "ax.set_xlabel('Array length')\n",
    "ax.set_ylabel('Time (s)')\n",
    "fig.tight_layout()"
   ]
  },
  {
   "cell_type": "markdown",
   "metadata": {},
   "source": [
    "As shown in the latter figure, the time to setup and and close the experiment is approximately 0.4 sec. In case of small array sizes, the difference between inserting values of data as arrays and inserting them row-by-row is relatively unimportant. At larger array sizes, i.e. above 10000 points, the cost of writing data as individual datapoints starts to become important.\n"
   ]
  },
  {
   "cell_type": "markdown",
   "metadata": {},
   "source": [
    "### Case2: Long experiment time "
   ]
  },
  {
   "cell_type": "code",
   "execution_count": 7,
   "metadata": {
    "execution": {
     "iopub.execute_input": "2021-03-01T13:29:09.071618Z",
     "iopub.status.busy": "2021-03-01T13:29:09.069173Z",
     "iopub.status.idle": "2021-03-01T13:30:17.207019Z",
     "shell.execute_reply": "2021-03-01T13:30:17.207579Z"
    }
   },
   "outputs": [
    {
     "name": "stdout",
     "output_type": "stream",
     "text": [
      "Starting experimental run with id: 15. \n",
      "Starting experimental run with id: 16. \n"
     ]
    },
    {
     "name": "stdout",
     "output_type": "stream",
     "text": [
      "Starting experimental run with id: 17. \n"
     ]
    },
    {
     "name": "stdout",
     "output_type": "stream",
     "text": [
      "Starting experimental run with id: 18. \n"
     ]
    },
    {
     "name": "stdout",
     "output_type": "stream",
     "text": [
      "Starting experimental run with id: 19. \n"
     ]
    },
    {
     "name": "stdout",
     "output_type": "stream",
     "text": [
      "Starting experimental run with id: 20. \n"
     ]
    },
    {
     "name": "stdout",
     "output_type": "stream",
     "text": [
      "Starting experimental run with id: 21. \n"
     ]
    },
    {
     "name": "stdout",
     "output_type": "stream",
     "text": [
      "Starting experimental run with id: 22. \n"
     ]
    },
    {
     "name": "stdout",
     "output_type": "stream",
     "text": [
      "Starting experimental run with id: 23. \n"
     ]
    },
    {
     "name": "stdout",
     "output_type": "stream",
     "text": [
      "Starting experimental run with id: 24. \n"
     ]
    },
    {
     "name": "stdout",
     "output_type": "stream",
     "text": [
      "Starting experimental run with id: 25. \n"
     ]
    },
    {
     "name": "stdout",
     "output_type": "stream",
     "text": [
      "Starting experimental run with id: 26. \n"
     ]
    },
    {
     "name": "stdout",
     "output_type": "stream",
     "text": [
      "Starting experimental run with id: 27. \n"
     ]
    },
    {
     "name": "stdout",
     "output_type": "stream",
     "text": [
      "Starting experimental run with id: 28. \n"
     ]
    }
   ],
   "source": [
    "sizes = [1,500,1000,2000,3000,4000,5000]\n",
    "nreps = 100\n",
    "t_numeric = []\n",
    "t_numeric_add = []\n",
    "t_numeric_run_ids = []\n",
    "t_array = []\n",
    "t_array_add = []\n",
    "t_array_run_ids = []\n",
    "for size in sizes:\n",
    "    tn, tna, run_id_n =  insert_data('numeric', size, nreps=nreps)\n",
    "    t_numeric.append(tn)\n",
    "    t_numeric_add.append(tna)\n",
    "    t_numeric_run_ids.append(run_id_n)\n",
    "\n",
    "    ta, taa, run_id_a =  insert_data('array', size, nreps=nreps)\n",
    "    t_array.append(ta)\n",
    "    t_array_add.append(taa)\n",
    "    t_array_run_ids.append(run_id_a)"
   ]
  },
  {
   "cell_type": "code",
   "execution_count": 8,
   "metadata": {
    "execution": {
     "iopub.execute_input": "2021-03-01T13:30:17.237156Z",
     "iopub.status.busy": "2021-03-01T13:30:17.234180Z",
     "iopub.status.idle": "2021-03-01T13:30:17.496277Z",
     "shell.execute_reply": "2021-03-01T13:30:17.495189Z"
    },
    "scrolled": true
   },
   "outputs": [
    {
     "data": {
      "image/png": "[encoded data removed]",
      "text/plain": [
       "<Figure size 432x288 with 1 Axes>"
      ]
     },
     "metadata": {
      "needs_background": "light"
     },
     "output_type": "display_data"
    }
   ],
   "source": [
    "fig, ax = plt.subplots(1,1)\n",
    "ax.plot(sizes, t_numeric, 'o-', label='Inserting row-by-row')\n",
    "ax.plot(sizes, t_numeric_add, 'o-', label='Inserting row-by-row: add_result only')\n",
    "ax.plot(sizes, t_array, 'd-', label='Inserting as binary blob')\n",
    "ax.plot(sizes, t_array_add, 'd-', label='Inserting as binary blob: add_result only')\n",
    "ax.legend()\n",
    "ax.set_xlabel('Array length')\n",
    "ax.set_ylabel('Time (s)')\n",
    "fig.tight_layout()"
   ]
  },
  {
   "cell_type": "markdown",
   "metadata": {},
   "source": [
    "However, as we increase the length of the experiment, as seen here by repeating the insertion 100 times, we see a big difference between inserting values of the data row-by-row and inserting it as a binary blob."
   ]
  },
  {
   "cell_type": "markdown",
   "metadata": {},
   "source": [
    "## Loading the data "
   ]
  },
  {
   "cell_type": "code",
   "execution_count": 9,
   "metadata": {
    "execution": {
     "iopub.execute_input": "2021-03-01T13:30:17.502412Z",
     "iopub.status.busy": "2021-03-01T13:30:17.501014Z",
     "iopub.status.idle": "2021-03-01T13:30:17.503633Z",
     "shell.execute_reply": "2021-03-01T13:30:17.504207Z"
    }
   },
   "outputs": [],
   "source": [
    "from qcodes.dataset.data_set import load_by_id\n",
    "from qcodes.dataset.data_export import get_data_by_id"
   ]
  },
  {
   "cell_type": "markdown",
   "metadata": {},
   "source": [
    "As usual you can load the data by using the ``load_by_id`` function but you will notice that the different storage methods\n",
    "are reflected in shape of the data as it is retrieved. "
   ]
  },
  {
   "cell_type": "code",
   "execution_count": 10,
   "metadata": {
    "execution": {
     "iopub.execute_input": "2021-03-01T13:30:17.509111Z",
     "iopub.status.busy": "2021-03-01T13:30:17.508412Z",
     "iopub.status.idle": "2021-03-01T13:30:17.511835Z",
     "shell.execute_reply": "2021-03-01T13:30:17.511182Z"
    }
   },
   "outputs": [],
   "source": [
    "run_id_n = t_numeric_run_ids[0]\n",
    "run_id_a = t_array_run_ids[0]"
   ]
  },
  {
   "cell_type": "code",
   "execution_count": 11,
   "metadata": {
    "execution": {
     "iopub.execute_input": "2021-03-01T13:30:17.515920Z",
     "iopub.status.busy": "2021-03-01T13:30:17.515232Z",
     "iopub.status.idle": "2021-03-01T13:30:17.526630Z",
     "shell.execute_reply": "2021-03-01T13:30:17.527224Z"
    },
    "scrolled": true
   },
   "outputs": [
    {
     "data": {
      "text/plain": [
       "{'x1': {'x1': array([0.31227989, 0.31227989, 0.97965108, 0.97965108, 0.75083124,\n",
       "         0.75083124, 0.39169387, 0.39169387, 0.45775723, 0.45775723,\n",
       "         0.3901847 , 0.3901847 , 0.0932527 , 0.0932527 , 0.56634418,\n",
       "         0.56634418, 0.11527247, 0.11527247, 0.30383415, 0.30383415,\n",
       "         0.61065518, 0.61065518, 0.07433924, 0.07433924, 0.42588712,\n",
       "         0.42588712, 0.14502901, 0.14502901, 0.56465158, 0.56465158,\n",
       "         0.4169049 , 0.4169049 , 0.11352122, 0.11352122, 0.74887658,\n",
       "         0.74887658, 0.00247294, 0.00247294, 0.10090078, 0.10090078,\n",
       "         0.64781407, 0.64781407, 0.87828899, 0.87828899, 0.78155689,\n",
       "         0.78155689, 0.90418733, 0.90418733, 0.08849796, 0.08849796,\n",
       "         0.38276012, 0.38276012, 0.62817808, 0.62817808, 0.30634939,\n",
       "         0.30634939, 0.62843122, 0.62843122, 0.70073365, 0.70073365,\n",
       "         0.87013144, 0.87013144, 0.16354738, 0.16354738, 0.19591242,\n",
       "         0.19591242, 0.71751865, 0.71751865, 0.68088207, 0.68088207,\n",
       "         0.72801244, 0.72801244, 0.27717492, 0.27717492, 0.76955888,\n",
       "         0.76955888, 0.23066251, 0.23066251, 0.6605466 , 0.6605466 ,\n",
       "         0.98788087, 0.98788087, 0.94987371, 0.94987371, 0.14248479,\n",
       "         0.14248479, 0.63415964, 0.63415964, 0.40145089, 0.40145089,\n",
       "         0.35143556, 0.35143556, 0.58430855, 0.58430855, 0.77956928,\n",
       "         0.77956928, 0.35537619, 0.35537619, 0.03643678, 0.03643678,\n",
       "         0.7578499 , 0.7578499 , 0.77532657, 0.77532657, 0.67230355,\n",
       "         0.67230355, 0.94698381, 0.94698381, 0.60147982, 0.60147982,\n",
       "         0.9353443 , 0.9353443 , 0.21681353, 0.21681353, 0.43667986,\n",
       "         0.43667986, 0.24518933, 0.24518933, 0.92750084, 0.92750084,\n",
       "         0.66516239, 0.66516239, 0.30598401, 0.30598401, 0.0027942 ,\n",
       "         0.0027942 , 0.76549039, 0.76549039, 0.43487998, 0.43487998,\n",
       "         0.58242777, 0.58242777, 0.63189689, 0.63189689, 0.69345037,\n",
       "         0.69345037, 0.35814967, 0.35814967, 0.40194927, 0.40194927,\n",
       "         0.96107482, 0.96107482, 0.06643091, 0.06643091, 0.64576434,\n",
       "         0.64576434, 0.53472939, 0.53472939, 0.84460987, 0.84460987,\n",
       "         0.62528885, 0.62528885, 0.01255752, 0.01255752, 0.62392137,\n",
       "         0.62392137, 0.55069628, 0.55069628, 0.11645351, 0.11645351,\n",
       "         0.32050444, 0.32050444, 0.03458677, 0.03458677, 0.85998   ,\n",
       "         0.85998   , 0.09462058, 0.09462058, 0.68887238, 0.68887238,\n",
       "         0.00115055, 0.00115055, 0.70289261, 0.70289261, 0.94922342,\n",
       "         0.94922342, 0.20619859, 0.20619859, 0.66451064, 0.66451064,\n",
       "         0.39333437, 0.39333437, 0.67173058, 0.67173058, 0.52253699,\n",
       "         0.52253699, 0.2531028 , 0.2531028 , 0.25321751, 0.25321751,\n",
       "         0.14147439, 0.14147439, 0.04108563, 0.04108563, 0.32366542,\n",
       "         0.32366542, 0.9909745 , 0.9909745 , 0.46585709, 0.46585709])}}"
      ]
     },
     "execution_count": 1,
     "metadata": {},
     "output_type": "execute_result"
    }
   ],
   "source": [
    "ds = load_by_id(run_id_n)\n",
    "ds.get_parameter_data('x1')"
   ]
  },
  {
   "cell_type": "markdown",
   "metadata": {},
   "source": [
    "And a dataset stored as binary arrays"
   ]
  },
  {
   "cell_type": "code",
   "execution_count": 12,
   "metadata": {
    "execution": {
     "iopub.execute_input": "2021-03-01T13:30:17.531765Z",
     "iopub.status.busy": "2021-03-01T13:30:17.531077Z",
     "iopub.status.idle": "2021-03-01T13:30:17.605543Z",
     "shell.execute_reply": "2021-03-01T13:30:17.606200Z"
    },
    "scrolled": true
   },
   "outputs": [
    {
     "data": {
      "text/plain": [
       "{'x1': {'x1': array([[4.85678223e-01],\n",
       "         [4.85678223e-01],\n",
       "         [3.69148694e-01],\n",
       "         [3.69148694e-01],\n",
       "         [2.16068817e-01],\n",
       "         [2.16068817e-01],\n",
       "         [8.76955992e-01],\n",
       "         [8.76955992e-01],\n",
       "         [1.04178253e-01],\n",
       "         [1.04178253e-01],\n",
       "         [8.43864723e-01],\n",
       "         [8.43864723e-01],\n",
       "         [1.90790357e-01],\n",
       "         [1.90790357e-01],\n",
       "         [3.54394717e-02],\n",
       "         [3.54394717e-02],\n",
       "         [1.11831941e-01],\n",
       "         [1.11831941e-01],\n",
       "         [5.51918327e-01],\n",
       "         [5.51918327e-01],\n",
       "         [6.03549928e-01],\n",
       "         [6.03549928e-01],\n",
       "         [2.42602498e-01],\n",
       "         [2.42602498e-01],\n",
       "         [4.71594918e-01],\n",
       "         [4.71594918e-01],\n",
       "         [9.54302583e-02],\n",
       "         [9.54302583e-02],\n",
       "         [5.30657423e-01],\n",
       "         [5.30657423e-01],\n",
       "         [2.31349112e-01],\n",
       "         [2.31349112e-01],\n",
       "         [9.65944600e-01],\n",
       "         [9.65944600e-01],\n",
       "         [2.63752986e-01],\n",
       "         [2.63752986e-01],\n",
       "         [6.04497168e-01],\n",
       "         [6.04497168e-01],\n",
       "         [6.65963589e-01],\n",
       "         [6.65963589e-01],\n",
       "         [3.55018893e-01],\n",
       "         [3.55018893e-01],\n",
       "         [2.81304203e-01],\n",
       "         [2.81304203e-01],\n",
       "         [5.46578896e-01],\n",
       "         [5.46578896e-01],\n",
       "         [1.33507536e-01],\n",
       "         [1.33507536e-01],\n",
       "         [3.39170519e-01],\n",
       "         [3.39170519e-01],\n",
       "         [3.80547467e-01],\n",
       "         [3.80547467e-01],\n",
       "         [7.80678661e-01],\n",
       "         [7.80678661e-01],\n",
       "         [5.37873226e-01],\n",
       "         [5.37873226e-01],\n",
       "         [2.54067552e-01],\n",
       "         [2.54067552e-01],\n",
       "         [3.46045794e-01],\n",
       "         [3.46045794e-01],\n",
       "         [8.46962444e-01],\n",
       "         [8.46962444e-01],\n",
       "         [4.52085529e-01],\n",
       "         [4.52085529e-01],\n",
       "         [7.33126439e-01],\n",
       "         [7.33126439e-01],\n",
       "         [8.85248177e-01],\n",
       "         [8.85248177e-01],\n",
       "         [9.25974378e-01],\n",
       "         [9.25974378e-01],\n",
       "         [3.62830420e-01],\n",
       "         [3.62830420e-01],\n",
       "         [4.69323040e-01],\n",
       "         [4.69323040e-01],\n",
       "         [3.32604929e-01],\n",
       "         [3.32604929e-01],\n",
       "         [5.57361015e-01],\n",
       "         [5.57361015e-01],\n",
       "         [1.95733469e-01],\n",
       "         [1.95733469e-01],\n",
       "         [3.62557011e-01],\n",
       "         [3.62557011e-01],\n",
       "         [2.39538155e-01],\n",
       "         [2.39538155e-01],\n",
       "         [5.81509097e-01],\n",
       "         [5.81509097e-01],\n",
       "         [2.76728996e-01],\n",
       "         [2.76728996e-01],\n",
       "         [2.79444055e-01],\n",
       "         [2.79444055e-01],\n",
       "         [1.83648212e-01],\n",
       "         [1.83648212e-01],\n",
       "         [5.69162750e-01],\n",
       "         [5.69162750e-01],\n",
       "         [5.85739717e-01],\n",
       "         [5.85739717e-01],\n",
       "         [7.48564532e-01],\n",
       "         [7.48564532e-01],\n",
       "         [1.18152826e-01],\n",
       "         [1.18152826e-01],\n",
       "         [5.19713496e-01],\n",
       "         [5.19713496e-01],\n",
       "         [2.57106974e-01],\n",
       "         [2.57106974e-01],\n",
       "         [7.52155873e-01],\n",
       "         [7.52155873e-01],\n",
       "         [2.23303478e-01],\n",
       "         [2.23303478e-01],\n",
       "         [9.19107700e-01],\n",
       "         [9.19107700e-01],\n",
       "         [5.29401300e-01],\n",
       "         [5.29401300e-01],\n",
       "         [1.51490842e-01],\n",
       "         [1.51490842e-01],\n",
       "         [7.59072425e-01],\n",
       "         [7.59072425e-01],\n",
       "         [3.23606346e-01],\n",
       "         [3.23606346e-01],\n",
       "         [9.43929539e-01],\n",
       "         [9.43929539e-01],\n",
       "         [2.10175017e-01],\n",
       "         [2.10175017e-01],\n",
       "         [9.42663540e-01],\n",
       "         [9.42663540e-01],\n",
       "         [4.92456268e-01],\n",
       "         [4.92456268e-01],\n",
       "         [3.24262134e-01],\n",
       "         [3.24262134e-01],\n",
       "         [1.53432497e-01],\n",
       "         [1.53432497e-01],\n",
       "         [7.39052067e-01],\n",
       "         [7.39052067e-01],\n",
       "         [5.94613709e-01],\n",
       "         [5.94613709e-01],\n",
       "         [9.31115290e-01],\n",
       "         [9.31115290e-01],\n",
       "         [5.99986773e-01],\n",
       "         [5.99986773e-01],\n",
       "         [5.84311380e-01],\n",
       "         [5.84311380e-01],\n",
       "         [7.21312668e-01],\n",
       "         [7.21312668e-01],\n",
       "         [5.87378232e-01],\n",
       "         [5.87378232e-01],\n",
       "         [6.95782137e-01],\n",
       "         [6.95782137e-01],\n",
       "         [4.71072774e-01],\n",
       "         [4.71072774e-01],\n",
       "         [7.82679260e-01],\n",
       "         [7.82679260e-01],\n",
       "         [3.46836655e-02],\n",
       "         [3.46836655e-02],\n",
       "         [5.13207574e-01],\n",
       "         [5.13207574e-01],\n",
       "         [3.31899340e-01],\n",
       "         [3.31899340e-01],\n",
       "         [5.99005024e-01],\n",
       "         [5.99005024e-01],\n",
       "         [2.82038906e-01],\n",
       "         [2.82038906e-01],\n",
       "         [7.38147216e-01],\n",
       "         [7.38147216e-01],\n",
       "         [8.87463788e-02],\n",
       "         [8.87463788e-02],\n",
       "         [3.78347239e-01],\n",
       "         [3.78347239e-01],\n",
       "         [8.30785526e-02],\n",
       "         [8.30785526e-02],\n",
       "         [9.94164028e-01],\n",
       "         [9.94164028e-01],\n",
       "         [4.76763657e-02],\n",
       "         [4.76763657e-02],\n",
       "         [5.82685106e-02],\n",
       "         [5.82685106e-02],\n",
       "         [6.86113677e-01],\n",
       "         [6.86113677e-01],\n",
       "         [3.64123009e-01],\n",
       "         [3.64123009e-01],\n",
       "         [1.28827531e-01],\n",
       "         [1.28827531e-01],\n",
       "         [8.02887507e-02],\n",
       "         [8.02887507e-02],\n",
       "         [9.75347328e-01],\n",
       "         [9.75347328e-01],\n",
       "         [5.80299507e-01],\n",
       "         [5.80299507e-01],\n",
       "         [7.81240145e-01],\n",
       "         [7.81240145e-01],\n",
       "         [3.84570023e-04],\n",
       "         [3.84570023e-04],\n",
       "         [1.25842284e-01],\n",
       "         [1.25842284e-01],\n",
       "         [1.14916608e-03],\n",
       "         [1.14916608e-03],\n",
       "         [2.88318383e-01],\n",
       "         [2.88318383e-01],\n",
       "         [6.41516853e-01],\n",
       "         [6.41516853e-01],\n",
       "         [9.52488842e-01],\n",
       "         [9.52488842e-01]])}}"
      ]
     },
     "execution_count": 1,
     "metadata": {},
     "output_type": "execute_result"
    }
   ],
   "source": [
    "ds = load_by_id(run_id_a)\n",
    "ds.get_parameter_data('x1')"
   ]
  },
  {
   "cell_type": "code",
   "execution_count": null,
   "metadata": {},
   "outputs": [],
   "source": []
  }
 ],
 "metadata": {
  "kernelspec": {
   "display_name": "Python 3",
   "language": "python",
   "name": "python3"
  },
  "language_info": {
   "codemirror_mode": {
    "name": "ipython",
    "version": 3
   },
   "file_extension": ".py",
   "mimetype": "text/x-python",
   "name": "python",
   "nbconvert_exporter": "python",
   "pygments_lexer": "ipython3",
   "version": "3.7.10"
  },
  "nbsphinx": {
   "timeout": 600
  },
  "toc": {
   "base_numbering": 1,
   "nav_menu": {},
   "number_sections": true,
   "sideBar": true,
   "skip_h1_title": false,
   "title_cell": "Table of Contents",
   "title_sidebar": "Contents",
   "toc_cell": false,
   "toc_position": {},
   "toc_section_display": true,
   "toc_window_display": false
  },
  "varInspector": {
   "cols": {
    "lenName": 16,
    "lenType": 16,
    "lenVar": 40
   },
   "kernels_config": {
    "python": {
     "delete_cmd_postfix": "",
     "delete_cmd_prefix": "del ",
     "library": "var_list.py",
     "varRefreshCmd": "print(var_dic_list())"
    },
    "r": {
     "delete_cmd_postfix": ") ",
     "delete_cmd_prefix": "rm(",
     "library": "var_list.r",
     "varRefreshCmd": "cat(var_dic_list()) "
    }
   },
   "types_to_exclude": [
    "module",
    "function",
    "builtin_function_or_method",
    "instance",
    "_Feature"
   ],
   "window_display": false
  }
 },
 "nbformat": 4,
 "nbformat_minor": 2
}
