{
 "cells": [
  {
   "cell_type": "markdown",
   "metadata": {},
   "source": [
    "# DataSet Performance\n",
    "\n",
    "This notebook shows the trade-off between inserting data into a database row-by-row and as binary blobs. Inserting the data row-by-row means that we have direct access to all the data and may perform queries directly on the values of the data. On the other hand, as we shall see, this is much slower than inserting the data directly as binary blobs."
   ]
  },
  {
   "cell_type": "markdown",
   "metadata": {},
   "source": [
    "First, we choose a new location for the database to ensure that we don't add a bunch of benchmarking data to the default one."
   ]
  },
  {
   "cell_type": "code",
   "execution_count": 1,
   "metadata": {
    "execution": {
     "iopub.execute_input": "2020-12-14T09:05:34.697558Z",
     "iopub.status.busy": "2020-12-14T09:05:34.696776Z",
     "iopub.status.idle": "2020-12-14T09:05:35.603416Z",
     "shell.execute_reply": "2020-12-14T09:05:35.602833Z"
    }
   },
   "outputs": [
    {
     "name": "stdout",
     "output_type": "stream",
     "text": [
      "Logging hadn't been started.\n",
      "Activating auto-logging. Current session state plus future input saved.\n",
      "Filename       : /home/vsts/.qcodes/logs/command_history.log\n",
      "Mode           : append\n",
      "Output logging : True\n",
      "Raw input log  : False\n",
      "Timestamping   : True\n",
      "State          : active\n"
     ]
    },
    {
     "name": "stdout",
     "output_type": "stream",
     "text": [
      "Qcodes Logfile : /home/vsts/.qcodes/logs/201214-14017-qcodes.log\n"
     ]
    }
   ],
   "source": [
    "import os\n",
    "cwd = os.getcwd()\n",
    "import qcodes as qc\n",
    "qc.config[\"core\"][\"db_location\"] = os.path.join(cwd, 'testing.db')\n"
   ]
  },
  {
   "cell_type": "code",
   "execution_count": 2,
   "metadata": {
    "execution": {
     "iopub.execute_input": "2020-12-14T09:05:35.609119Z",
     "iopub.status.busy": "2020-12-14T09:05:35.608270Z",
     "iopub.status.idle": "2020-12-14T09:05:35.771008Z",
     "shell.execute_reply": "2020-12-14T09:05:35.770553Z"
    }
   },
   "outputs": [],
   "source": [
    "%matplotlib inline\n",
    "import time\n",
    "import matplotlib.pyplot as plt\n",
    "import numpy as np\n",
    "\n",
    "import qcodes as qc\n",
    "from qcodes.instrument.parameter import ManualParameter\n",
    "from qcodes.dataset.experiment_container import (Experiment,\n",
    "                                                 load_last_experiment,\n",
    "                                                 new_experiment)\n",
    "from qcodes.dataset.sqlite.database import initialise_database\n",
    "from qcodes import load_or_create_experiment\n",
    "from qcodes.dataset.measurements import Measurement"
   ]
  },
  {
   "cell_type": "code",
   "execution_count": 3,
   "metadata": {
    "execution": {
     "iopub.execute_input": "2020-12-14T09:05:35.774277Z",
     "iopub.status.busy": "2020-12-14T09:05:35.773837Z",
     "iopub.status.idle": "2020-12-14T09:05:35.877822Z",
     "shell.execute_reply": "2020-12-14T09:05:35.878289Z"
    }
   },
   "outputs": [
    {
     "name": "stdout",
     "output_type": "stream",
     "text": [
      "\r",
      "0it [00:00, ?it/s]"
     ]
    },
    {
     "name": "stdout",
     "output_type": "stream",
     "text": [
      "\r",
      "Upgrading database; v0 -> v1: : 0it [00:00, ?it/s]"
     ]
    },
    {
     "name": "stdout",
     "output_type": "stream",
     "text": [
      "\r",
      "Upgrading database; v0 -> v1: : 0it [00:00, ?it/s]"
     ]
    },
    {
     "name": "stdout",
     "output_type": "stream",
     "text": [
      "\n",
      "\r",
      "  0%|          | 0/1 [00:00<?, ?it/s]"
     ]
    },
    {
     "name": "stdout",
     "output_type": "stream",
     "text": [
      "\r",
      "Upgrading database; v1 -> v2:   0%|          | 0/1 [00:00<?, ?it/s]"
     ]
    },
    {
     "name": "stdout",
     "output_type": "stream",
     "text": [
      "\r",
      "Upgrading database; v1 -> v2: 100%|██████████| 1/1 [00:00<00:00, 689.97it/s]"
     ]
    },
    {
     "name": "stdout",
     "output_type": "stream",
     "text": [
      "\n",
      "\r",
      "0it [00:00, ?it/s]"
     ]
    },
    {
     "name": "stdout",
     "output_type": "stream",
     "text": [
      "\r",
      "Upgrading database; v2 -> v3: : 0it [00:00, ?it/s]"
     ]
    },
    {
     "name": "stdout",
     "output_type": "stream",
     "text": [
      "\r",
      "Upgrading database; v2 -> v3: : 0it [00:00, ?it/s]"
     ]
    },
    {
     "name": "stdout",
     "output_type": "stream",
     "text": [
      "\n",
      "\r",
      "0it [00:00, ?it/s]"
     ]
    },
    {
     "name": "stdout",
     "output_type": "stream",
     "text": [
      "\r",
      "Upgrading database; v3 -> v4: : 0it [00:00, ?it/s]"
     ]
    },
    {
     "name": "stdout",
     "output_type": "stream",
     "text": [
      "\r",
      "Upgrading database; v3 -> v4: : 0it [00:00, ?it/s]"
     ]
    },
    {
     "name": "stdout",
     "output_type": "stream",
     "text": [
      "\n",
      "\r",
      "  0%|          | 0/1 [00:00<?, ?it/s]"
     ]
    },
    {
     "name": "stdout",
     "output_type": "stream",
     "text": [
      "\r",
      "Upgrading database; v4 -> v5:   0%|          | 0/1 [00:00<?, ?it/s]"
     ]
    },
    {
     "name": "stdout",
     "output_type": "stream",
     "text": [
      "\r",
      "Upgrading database; v4 -> v5: 100%|██████████| 1/1 [00:00<00:00, 1276.03it/s]"
     ]
    },
    {
     "name": "stdout",
     "output_type": "stream",
     "text": [
      "\n",
      "\r",
      "0it [00:00, ?it/s]"
     ]
    },
    {
     "name": "stdout",
     "output_type": "stream",
     "text": [
      "\r",
      "Upgrading database; v5 -> v6: : 0it [00:00, ?it/s]"
     ]
    },
    {
     "name": "stdout",
     "output_type": "stream",
     "text": [
      "\r",
      "Upgrading database; v5 -> v6: : 0it [00:00, ?it/s]"
     ]
    },
    {
     "name": "stdout",
     "output_type": "stream",
     "text": [
      "\n",
      "\r",
      "  0%|          | 0/1 [00:00<?, ?it/s]"
     ]
    },
    {
     "name": "stdout",
     "output_type": "stream",
     "text": [
      "\r",
      "Upgrading database; v6 -> v7:   0%|          | 0/1 [00:00<?, ?it/s]"
     ]
    },
    {
     "name": "stdout",
     "output_type": "stream",
     "text": [
      "\r",
      "Upgrading database; v6 -> v7: 100%|██████████| 1/1 [00:00<00:00, 446.44it/s]"
     ]
    },
    {
     "name": "stdout",
     "output_type": "stream",
     "text": [
      "\n",
      "\r",
      "  0%|          | 0/1 [00:00<?, ?it/s]"
     ]
    },
    {
     "name": "stdout",
     "output_type": "stream",
     "text": [
      "\r",
      "Upgrading database; v7 -> v8:   0%|          | 0/1 [00:00<?, ?it/s]"
     ]
    },
    {
     "name": "stdout",
     "output_type": "stream",
     "text": [
      "\r",
      "Upgrading database; v7 -> v8: 100%|██████████| 1/1 [00:00<00:00, 530.19it/s]"
     ]
    },
    {
     "name": "stdout",
     "output_type": "stream",
     "text": [
      "\n",
      "\r",
      "  0%|          | 0/1 [00:00<?, ?it/s]"
     ]
    },
    {
     "name": "stdout",
     "output_type": "stream",
     "text": [
      "\r",
      "Upgrading database; v8 -> v9:   0%|          | 0/1 [00:00<?, ?it/s]"
     ]
    },
    {
     "name": "stdout",
     "output_type": "stream",
     "text": [
      "\r",
      "Upgrading database; v8 -> v9: 100%|██████████| 1/1 [00:00<00:00, 562.01it/s]"
     ]
    },
    {
     "name": "stdout",
     "output_type": "stream",
     "text": [
      "\n"
     ]
    }
   ],
   "source": [
    "initialise_database()\n",
    "exp = load_or_create_experiment(experiment_name='tutorial_exp', sample_name=\"no sample\")"
   ]
  },
  {
   "cell_type": "markdown",
   "metadata": {},
   "source": [
    "Here, we define a simple function to benchmark the time it takes to insert n points with either numeric or array data type.\n",
    "We will compare both the time used to call ``add_result`` and the time used for the full measurement."
   ]
  },
  {
   "cell_type": "code",
   "execution_count": 4,
   "metadata": {
    "execution": {
     "iopub.execute_input": "2020-12-14T09:05:35.886121Z",
     "iopub.status.busy": "2020-12-14T09:05:35.885199Z",
     "iopub.status.idle": "2020-12-14T09:05:35.886695Z",
     "shell.execute_reply": "2020-12-14T09:05:35.887140Z"
    }
   },
   "outputs": [],
   "source": [
    "def insert_data(paramtype, npoints, nreps=1):\n",
    "\n",
    "    meas = Measurement(exp=exp)\n",
    "\n",
    "    x1 = ManualParameter('x1')\n",
    "    x2 = ManualParameter('x2')\n",
    "    x3 = ManualParameter('x3')\n",
    "    y1 = ManualParameter('y1')\n",
    "    y2 = ManualParameter('y2')\n",
    "\n",
    "    meas.register_parameter(x1, paramtype=paramtype)\n",
    "    meas.register_parameter(x2, paramtype=paramtype)\n",
    "    meas.register_parameter(x3, paramtype=paramtype)\n",
    "    meas.register_parameter(y1, setpoints=[x1, x2, x3],\n",
    "                            paramtype=paramtype)\n",
    "    meas.register_parameter(y2, setpoints=[x1, x2, x3],\n",
    "                            paramtype=paramtype)\n",
    "    start = time.perf_counter()\n",
    "    with meas.run() as datasaver:\n",
    "        start_adding = time.perf_counter()\n",
    "        for i in range(nreps):\n",
    "            datasaver.add_result((x1, np.random.rand(npoints)),\n",
    "                                 (x2, np.random.rand(npoints)),\n",
    "                                 (x3, np.random.rand(npoints)),\n",
    "                                 (y1, np.random.rand(npoints)),\n",
    "                                 (y2, np.random.rand(npoints)))\n",
    "        stop_adding = time.perf_counter()\n",
    "        run_id = datasaver.run_id\n",
    "    stop = time.perf_counter()\n",
    "    tot_time = stop - start\n",
    "    add_time = stop_adding - start_adding\n",
    "    return tot_time, add_time, run_id"
   ]
  },
  {
   "cell_type": "markdown",
   "metadata": {},
   "source": [
    "## Comparison between numeric/array data and binary blob"
   ]
  },
  {
   "cell_type": "markdown",
   "metadata": {},
   "source": [
    "### Case1: Short experiment time"
   ]
  },
  {
   "cell_type": "code",
   "execution_count": 5,
   "metadata": {
    "execution": {
     "iopub.execute_input": "2020-12-14T09:05:35.892596Z",
     "iopub.status.busy": "2020-12-14T09:05:35.892131Z",
     "iopub.status.idle": "2020-12-14T09:05:36.636909Z",
     "shell.execute_reply": "2020-12-14T09:05:36.636450Z"
    }
   },
   "outputs": [
    {
     "name": "stdout",
     "output_type": "stream",
     "text": [
      "Starting experimental run with id: 1. \n",
      "Starting experimental run with id: 2. \n",
      "Starting experimental run with id: 3. \n",
      "Starting experimental run with id: 4. \n",
      "Starting experimental run with id: 5. \n",
      "Starting experimental run with id: 6. \n"
     ]
    },
    {
     "name": "stdout",
     "output_type": "stream",
     "text": [
      "Starting experimental run with id: 7. "
     ]
    },
    {
     "name": "stdout",
     "output_type": "stream",
     "text": [
      "\n"
     ]
    },
    {
     "name": "stdout",
     "output_type": "stream",
     "text": [
      "Starting experimental run with id: 8. \n",
      "Starting experimental run with id: 9. \n"
     ]
    },
    {
     "name": "stdout",
     "output_type": "stream",
     "text": [
      "Starting experimental run with id: 10. \n",
      "Starting experimental run with id: 11. \n"
     ]
    },
    {
     "name": "stdout",
     "output_type": "stream",
     "text": [
      "Starting experimental run with id: 12. \n",
      "Starting experimental run with id: 13. \n"
     ]
    },
    {
     "name": "stdout",
     "output_type": "stream",
     "text": [
      "Starting experimental run with id: 14. \n"
     ]
    }
   ],
   "source": [
    "sizes = [1,500,1000,2000,3000,4000,5000]\n",
    "t_numeric = []\n",
    "t_numeric_add = []\n",
    "t_array = []\n",
    "t_array_add = []\n",
    "for size in sizes:\n",
    "    tn, tna, run_id_n =  insert_data('numeric', size)\n",
    "    t_numeric.append(tn)\n",
    "    t_numeric_add.append(tna)\n",
    "\n",
    "    ta, taa, run_id_a =  insert_data('array', size)\n",
    "    t_array.append(ta)\n",
    "    t_array_add.append(taa)"
   ]
  },
  {
   "cell_type": "code",
   "execution_count": 6,
   "metadata": {
    "execution": {
     "iopub.execute_input": "2020-12-14T09:05:36.662538Z",
     "iopub.status.busy": "2020-12-14T09:05:36.651232Z",
     "iopub.status.idle": "2020-12-14T09:05:36.822261Z",
     "shell.execute_reply": "2020-12-14T09:05:36.821842Z"
    }
   },
   "outputs": [
    {
     "data": {
      "image/png": "[encoded data removed]",
      "text/plain": [
       "<Figure size 432x288 with 1 Axes>"
      ]
     },
     "metadata": {
      "needs_background": "light"
     },
     "output_type": "display_data"
    }
   ],
   "source": [
    "fig, ax = plt.subplots(1,1)\n",
    "ax.plot(sizes, t_numeric, 'o-', label='Inserting row-by-row')\n",
    "ax.plot(sizes, t_numeric_add, 'o-', label='Inserting row-by-row: add_result only')\n",
    "ax.plot(sizes, t_array, 'd-', label='Inserting as binary blob')\n",
    "ax.plot(sizes, t_array_add, 'd-', label='Inserting as binary blob: add_result only')\n",
    "ax.legend()\n",
    "ax.set_xlabel('Array length')\n",
    "ax.set_ylabel('Time (s)')\n",
    "fig.tight_layout()"
   ]
  },
  {
   "cell_type": "markdown",
   "metadata": {},
   "source": [
    "As shown in the latter figure, the time to setup and and close the experiment is approximately 0.4 sec. In case of small array sizes, the difference between inserting values of data as arrays and inserting them row-by-row is relatively unimportant. At larger array sizes, i.e. above 10000 points, the cost of writing data as individual datapoints starts to become important.\n"
   ]
  },
  {
   "cell_type": "markdown",
   "metadata": {},
   "source": [
    "### Case2: Long experiment time "
   ]
  },
  {
   "cell_type": "code",
   "execution_count": 7,
   "metadata": {
    "execution": {
     "iopub.execute_input": "2020-12-14T09:05:36.827654Z",
     "iopub.status.busy": "2020-12-14T09:05:36.827202Z",
     "iopub.status.idle": "2020-12-14T09:06:29.628590Z",
     "shell.execute_reply": "2020-12-14T09:06:29.628050Z"
    }
   },
   "outputs": [
    {
     "name": "stdout",
     "output_type": "stream",
     "text": [
      "Starting experimental run with id: 15. \n",
      "Starting experimental run with id: 16. \n",
      "Starting experimental run with id: 17. \n"
     ]
    },
    {
     "name": "stdout",
     "output_type": "stream",
     "text": [
      "Starting experimental run with id: 18. \n",
      "Starting experimental run with id: 19. \n"
     ]
    },
    {
     "name": "stdout",
     "output_type": "stream",
     "text": [
      "Starting experimental run with id: 20. \n"
     ]
    },
    {
     "name": "stdout",
     "output_type": "stream",
     "text": [
      "Starting experimental run with id: 21. \n"
     ]
    },
    {
     "name": "stdout",
     "output_type": "stream",
     "text": [
      "Starting experimental run with id: 22. \n"
     ]
    },
    {
     "name": "stdout",
     "output_type": "stream",
     "text": [
      "Starting experimental run with id: 23. \n"
     ]
    },
    {
     "name": "stdout",
     "output_type": "stream",
     "text": [
      "Starting experimental run with id: 24. \n"
     ]
    },
    {
     "name": "stdout",
     "output_type": "stream",
     "text": [
      "Starting experimental run with id: 25. \n"
     ]
    },
    {
     "name": "stdout",
     "output_type": "stream",
     "text": [
      "Starting experimental run with id: 26. \n"
     ]
    },
    {
     "name": "stdout",
     "output_type": "stream",
     "text": [
      "Starting experimental run with id: 27. \n"
     ]
    },
    {
     "name": "stdout",
     "output_type": "stream",
     "text": [
      "Starting experimental run with id: 28. \n"
     ]
    }
   ],
   "source": [
    "sizes = [1,500,1000,2000,3000,4000,5000]\n",
    "nreps = 100\n",
    "t_numeric = []\n",
    "t_numeric_add = []\n",
    "t_numeric_run_ids = []\n",
    "t_array = []\n",
    "t_array_add = []\n",
    "t_array_run_ids = []\n",
    "for size in sizes:\n",
    "    tn, tna, run_id_n =  insert_data('numeric', size, nreps=nreps)\n",
    "    t_numeric.append(tn)\n",
    "    t_numeric_add.append(tna)\n",
    "    t_numeric_run_ids.append(run_id_n)\n",
    "\n",
    "    ta, taa, run_id_a =  insert_data('array', size, nreps=nreps)\n",
    "    t_array.append(ta)\n",
    "    t_array_add.append(taa)\n",
    "    t_array_run_ids.append(run_id_a)"
   ]
  },
  {
   "cell_type": "code",
   "execution_count": 8,
   "metadata": {
    "execution": {
     "iopub.execute_input": "2020-12-14T09:06:29.654218Z",
     "iopub.status.busy": "2020-12-14T09:06:29.650961Z",
     "iopub.status.idle": "2020-12-14T09:06:29.807157Z",
     "shell.execute_reply": "2020-12-14T09:06:29.806437Z"
    },
    "scrolled": true
   },
   "outputs": [
    {
     "data": {
      "image/png": "[encoded data removed]",
      "text/plain": [
       "<Figure size 432x288 with 1 Axes>"
      ]
     },
     "metadata": {
      "needs_background": "light"
     },
     "output_type": "display_data"
    }
   ],
   "source": [
    "fig, ax = plt.subplots(1,1)\n",
    "ax.plot(sizes, t_numeric, 'o-', label='Inserting row-by-row')\n",
    "ax.plot(sizes, t_numeric_add, 'o-', label='Inserting row-by-row: add_result only')\n",
    "ax.plot(sizes, t_array, 'd-', label='Inserting as binary blob')\n",
    "ax.plot(sizes, t_array_add, 'd-', label='Inserting as binary blob: add_result only')\n",
    "ax.legend()\n",
    "ax.set_xlabel('Array length')\n",
    "ax.set_ylabel('Time (s)')\n",
    "fig.tight_layout()"
   ]
  },
  {
   "cell_type": "markdown",
   "metadata": {},
   "source": [
    "However, as we increase the length of the experiment, as seen here by repeating the insertion 100 times, we see a big difference between inserting values of the data row-by-row and inserting it as a binary blob."
   ]
  },
  {
   "cell_type": "markdown",
   "metadata": {},
   "source": [
    "## Loading the data "
   ]
  },
  {
   "cell_type": "code",
   "execution_count": 9,
   "metadata": {
    "execution": {
     "iopub.execute_input": "2020-12-14T09:06:29.810371Z",
     "iopub.status.busy": "2020-12-14T09:06:29.809934Z",
     "iopub.status.idle": "2020-12-14T09:06:29.814286Z",
     "shell.execute_reply": "2020-12-14T09:06:29.813494Z"
    }
   },
   "outputs": [],
   "source": [
    "from qcodes.dataset.data_set import load_by_id\n",
    "from qcodes.dataset.data_export import get_data_by_id"
   ]
  },
  {
   "cell_type": "markdown",
   "metadata": {},
   "source": [
    "As usual you can load the data by using the ``load_by_id`` function but you will notice that the different storage methods\n",
    "are reflected in shape of the data as it is retrieved. "
   ]
  },
  {
   "cell_type": "code",
   "execution_count": 10,
   "metadata": {
    "execution": {
     "iopub.execute_input": "2020-12-14T09:06:29.817803Z",
     "iopub.status.busy": "2020-12-14T09:06:29.817368Z",
     "iopub.status.idle": "2020-12-14T09:06:29.820332Z",
     "shell.execute_reply": "2020-12-14T09:06:29.819874Z"
    }
   },
   "outputs": [],
   "source": [
    "run_id_n = t_numeric_run_ids[0]\n",
    "run_id_a = t_array_run_ids[0]"
   ]
  },
  {
   "cell_type": "code",
   "execution_count": 11,
   "metadata": {
    "execution": {
     "iopub.execute_input": "2020-12-14T09:06:29.823063Z",
     "iopub.status.busy": "2020-12-14T09:06:29.822631Z",
     "iopub.status.idle": "2020-12-14T09:06:29.830890Z",
     "shell.execute_reply": "2020-12-14T09:06:29.830513Z"
    },
    "scrolled": true
   },
   "outputs": [
    {
     "data": {
      "text/plain": [
       "{'x1': {'x1': array([0.97176285, 0.97176285, 0.44763578, 0.44763578, 0.61785145,\n",
       "         0.61785145, 0.55873368, 0.55873368, 0.58553872, 0.58553872,\n",
       "         0.2202317 , 0.2202317 , 0.46324301, 0.46324301, 0.29821773,\n",
       "         0.29821773, 0.41647849, 0.41647849, 0.42601601, 0.42601601,\n",
       "         0.00495892, 0.00495892, 0.79738441, 0.79738441, 0.53981584,\n",
       "         0.53981584, 0.44815371, 0.44815371, 0.96759281, 0.96759281,\n",
       "         0.00336252, 0.00336252, 0.07951247, 0.07951247, 0.04247945,\n",
       "         0.04247945, 0.97463128, 0.97463128, 0.88149755, 0.88149755,\n",
       "         0.03503973, 0.03503973, 0.39023871, 0.39023871, 0.09530787,\n",
       "         0.09530787, 0.214315  , 0.214315  , 0.85208139, 0.85208139,\n",
       "         0.5353489 , 0.5353489 , 0.15941562, 0.15941562, 0.89847775,\n",
       "         0.89847775, 0.50213192, 0.50213192, 0.88327915, 0.88327915,\n",
       "         0.68210014, 0.68210014, 0.8032749 , 0.8032749 , 0.61582501,\n",
       "         0.61582501, 0.75263579, 0.75263579, 0.44798364, 0.44798364,\n",
       "         0.24780221, 0.24780221, 0.96409455, 0.96409455, 0.88901561,\n",
       "         0.88901561, 0.88388458, 0.88388458, 0.66560896, 0.66560896,\n",
       "         0.25180182, 0.25180182, 0.20638205, 0.20638205, 0.45539467,\n",
       "         0.45539467, 0.07053544, 0.07053544, 0.51095013, 0.51095013,\n",
       "         0.13478887, 0.13478887, 0.97236929, 0.97236929, 0.25804712,\n",
       "         0.25804712, 0.00768839, 0.00768839, 0.56615263, 0.56615263,\n",
       "         0.46109225, 0.46109225, 0.15053302, 0.15053302, 0.71369888,\n",
       "         0.71369888, 0.71456749, 0.71456749, 0.22826961, 0.22826961,\n",
       "         0.32347751, 0.32347751, 0.43688144, 0.43688144, 0.17563122,\n",
       "         0.17563122, 0.88253694, 0.88253694, 0.5757848 , 0.5757848 ,\n",
       "         0.84649262, 0.84649262, 0.86825376, 0.86825376, 0.22967206,\n",
       "         0.22967206, 0.31167712, 0.31167712, 0.12393884, 0.12393884,\n",
       "         0.59939836, 0.59939836, 0.8831452 , 0.8831452 , 0.85667907,\n",
       "         0.85667907, 0.36861479, 0.36861479, 0.63253998, 0.63253998,\n",
       "         0.63344969, 0.63344969, 0.26247758, 0.26247758, 0.21030547,\n",
       "         0.21030547, 0.99842978, 0.99842978, 0.43875277, 0.43875277,\n",
       "         0.73811046, 0.73811046, 0.72688257, 0.72688257, 0.8462488 ,\n",
       "         0.8462488 , 0.77183133, 0.77183133, 0.80771127, 0.80771127,\n",
       "         0.89734506, 0.89734506, 0.29162164, 0.29162164, 0.5745747 ,\n",
       "         0.5745747 , 0.77923033, 0.77923033, 0.11991954, 0.11991954,\n",
       "         0.93743807, 0.93743807, 0.41046161, 0.41046161, 0.09288817,\n",
       "         0.09288817, 0.63007761, 0.63007761, 0.18966324, 0.18966324,\n",
       "         0.3935946 , 0.3935946 , 0.36775254, 0.36775254, 0.28020603,\n",
       "         0.28020603, 0.85390513, 0.85390513, 0.63261836, 0.63261836,\n",
       "         0.64678971, 0.64678971, 0.72801777, 0.72801777, 0.28653502,\n",
       "         0.28653502, 0.77297805, 0.77297805, 0.50241814, 0.50241814])}}"
      ]
     },
     "execution_count": 1,
     "metadata": {},
     "output_type": "execute_result"
    }
   ],
   "source": [
    "ds = load_by_id(run_id_n)\n",
    "ds.get_parameter_data('x1')"
   ]
  },
  {
   "cell_type": "markdown",
   "metadata": {},
   "source": [
    "And a dataset stored as binary arrays"
   ]
  },
  {
   "cell_type": "code",
   "execution_count": 12,
   "metadata": {
    "execution": {
     "iopub.execute_input": "2020-12-14T09:06:29.833611Z",
     "iopub.status.busy": "2020-12-14T09:06:29.833180Z",
     "iopub.status.idle": "2020-12-14T09:06:29.879465Z",
     "shell.execute_reply": "2020-12-14T09:06:29.880005Z"
    },
    "scrolled": true
   },
   "outputs": [
    {
     "data": {
      "text/plain": [
       "{'x1': {'x1': array([[0.49570839],\n",
       "         [0.49570839],\n",
       "         [0.1611592 ],\n",
       "         [0.1611592 ],\n",
       "         [0.12164627],\n",
       "         [0.12164627],\n",
       "         [0.37451925],\n",
       "         [0.37451925],\n",
       "         [0.23719972],\n",
       "         [0.23719972],\n",
       "         [0.25205714],\n",
       "         [0.25205714],\n",
       "         [0.7525206 ],\n",
       "         [0.7525206 ],\n",
       "         [0.46556148],\n",
       "         [0.46556148],\n",
       "         [0.48426773],\n",
       "         [0.48426773],\n",
       "         [0.00562104],\n",
       "         [0.00562104],\n",
       "         [0.36310165],\n",
       "         [0.36310165],\n",
       "         [0.53195452],\n",
       "         [0.53195452],\n",
       "         [0.90588008],\n",
       "         [0.90588008],\n",
       "         [0.61276055],\n",
       "         [0.61276055],\n",
       "         [0.27392102],\n",
       "         [0.27392102],\n",
       "         [0.7205824 ],\n",
       "         [0.7205824 ],\n",
       "         [0.29054817],\n",
       "         [0.29054817],\n",
       "         [0.66683276],\n",
       "         [0.66683276],\n",
       "         [0.6442895 ],\n",
       "         [0.6442895 ],\n",
       "         [0.327955  ],\n",
       "         [0.327955  ],\n",
       "         [0.98278606],\n",
       "         [0.98278606],\n",
       "         [0.94850535],\n",
       "         [0.94850535],\n",
       "         [0.79878851],\n",
       "         [0.79878851],\n",
       "         [0.73100568],\n",
       "         [0.73100568],\n",
       "         [0.79390556],\n",
       "         [0.79390556],\n",
       "         [0.92665753],\n",
       "         [0.92665753],\n",
       "         [0.22941926],\n",
       "         [0.22941926],\n",
       "         [0.63178482],\n",
       "         [0.63178482],\n",
       "         [0.77251299],\n",
       "         [0.77251299],\n",
       "         [0.33439663],\n",
       "         [0.33439663],\n",
       "         [0.00509575],\n",
       "         [0.00509575],\n",
       "         [0.44254344],\n",
       "         [0.44254344],\n",
       "         [0.35845862],\n",
       "         [0.35845862],\n",
       "         [0.03886179],\n",
       "         [0.03886179],\n",
       "         [0.52414844],\n",
       "         [0.52414844],\n",
       "         [0.5255405 ],\n",
       "         [0.5255405 ],\n",
       "         [0.93106206],\n",
       "         [0.93106206],\n",
       "         [0.49304669],\n",
       "         [0.49304669],\n",
       "         [0.10053116],\n",
       "         [0.10053116],\n",
       "         [0.02921589],\n",
       "         [0.02921589],\n",
       "         [0.5311336 ],\n",
       "         [0.5311336 ],\n",
       "         [0.44258856],\n",
       "         [0.44258856],\n",
       "         [0.70032244],\n",
       "         [0.70032244],\n",
       "         [0.73379631],\n",
       "         [0.73379631],\n",
       "         [0.05481628],\n",
       "         [0.05481628],\n",
       "         [0.51709236],\n",
       "         [0.51709236],\n",
       "         [0.69334862],\n",
       "         [0.69334862],\n",
       "         [0.33456223],\n",
       "         [0.33456223],\n",
       "         [0.49520304],\n",
       "         [0.49520304],\n",
       "         [0.55369367],\n",
       "         [0.55369367],\n",
       "         [0.30531363],\n",
       "         [0.30531363],\n",
       "         [0.71535737],\n",
       "         [0.71535737],\n",
       "         [0.31489471],\n",
       "         [0.31489471],\n",
       "         [0.64457624],\n",
       "         [0.64457624],\n",
       "         [0.99447042],\n",
       "         [0.99447042],\n",
       "         [0.90287289],\n",
       "         [0.90287289],\n",
       "         [0.34372208],\n",
       "         [0.34372208],\n",
       "         [0.37690752],\n",
       "         [0.37690752],\n",
       "         [0.18897782],\n",
       "         [0.18897782],\n",
       "         [0.03206043],\n",
       "         [0.03206043],\n",
       "         [0.32434065],\n",
       "         [0.32434065],\n",
       "         [0.47792653],\n",
       "         [0.47792653],\n",
       "         [0.57325173],\n",
       "         [0.57325173],\n",
       "         [0.67233764],\n",
       "         [0.67233764],\n",
       "         [0.46019673],\n",
       "         [0.46019673],\n",
       "         [0.61111812],\n",
       "         [0.61111812],\n",
       "         [0.9310423 ],\n",
       "         [0.9310423 ],\n",
       "         [0.69502612],\n",
       "         [0.69502612],\n",
       "         [0.2410968 ],\n",
       "         [0.2410968 ],\n",
       "         [0.5888977 ],\n",
       "         [0.5888977 ],\n",
       "         [0.10956042],\n",
       "         [0.10956042],\n",
       "         [0.13735385],\n",
       "         [0.13735385],\n",
       "         [0.86086043],\n",
       "         [0.86086043],\n",
       "         [0.19602667],\n",
       "         [0.19602667],\n",
       "         [0.4263205 ],\n",
       "         [0.4263205 ],\n",
       "         [0.23255384],\n",
       "         [0.23255384],\n",
       "         [0.44212599],\n",
       "         [0.44212599],\n",
       "         [0.0593977 ],\n",
       "         [0.0593977 ],\n",
       "         [0.14884554],\n",
       "         [0.14884554],\n",
       "         [0.7160268 ],\n",
       "         [0.7160268 ],\n",
       "         [0.68497783],\n",
       "         [0.68497783],\n",
       "         [0.52111739],\n",
       "         [0.52111739],\n",
       "         [0.50169225],\n",
       "         [0.50169225],\n",
       "         [0.60314259],\n",
       "         [0.60314259],\n",
       "         [0.60208775],\n",
       "         [0.60208775],\n",
       "         [0.04774525],\n",
       "         [0.04774525],\n",
       "         [0.76183309],\n",
       "         [0.76183309],\n",
       "         [0.55297475],\n",
       "         [0.55297475],\n",
       "         [0.35357587],\n",
       "         [0.35357587],\n",
       "         [0.91197332],\n",
       "         [0.91197332],\n",
       "         [0.25084966],\n",
       "         [0.25084966],\n",
       "         [0.65882829],\n",
       "         [0.65882829],\n",
       "         [0.71710192],\n",
       "         [0.71710192],\n",
       "         [0.37250327],\n",
       "         [0.37250327],\n",
       "         [0.67290035],\n",
       "         [0.67290035],\n",
       "         [0.11274216],\n",
       "         [0.11274216],\n",
       "         [0.33385772],\n",
       "         [0.33385772],\n",
       "         [0.98000831],\n",
       "         [0.98000831],\n",
       "         [0.43886993],\n",
       "         [0.43886993],\n",
       "         [0.36035498],\n",
       "         [0.36035498]])}}"
      ]
     },
     "execution_count": 1,
     "metadata": {},
     "output_type": "execute_result"
    }
   ],
   "source": [
    "ds = load_by_id(run_id_a)\n",
    "ds.get_parameter_data('x1')"
   ]
  },
  {
   "cell_type": "code",
   "execution_count": null,
   "metadata": {},
   "outputs": [],
   "source": []
  }
 ],
 "metadata": {
  "kernelspec": {
   "display_name": "Python 3",
   "language": "python",
   "name": "python3"
  },
  "language_info": {
   "codemirror_mode": {
    "name": "ipython",
    "version": 3
   },
   "file_extension": ".py",
   "mimetype": "text/x-python",
   "name": "python",
   "nbconvert_exporter": "python",
   "pygments_lexer": "ipython3",
   "version": "3.7.9"
  },
  "nbsphinx": {
   "timeout": 600
  },
  "toc": {
   "base_numbering": 1,
   "nav_menu": {},
   "number_sections": true,
   "sideBar": true,
   "skip_h1_title": false,
   "title_cell": "Table of Contents",
   "title_sidebar": "Contents",
   "toc_cell": false,
   "toc_position": {},
   "toc_section_display": true,
   "toc_window_display": false
  },
  "varInspector": {
   "cols": {
    "lenName": 16,
    "lenType": 16,
    "lenVar": 40
   },
   "kernels_config": {
    "python": {
     "delete_cmd_postfix": "",
     "delete_cmd_prefix": "del ",
     "library": "var_list.py",
     "varRefreshCmd": "print(var_dic_list())"
    },
    "r": {
     "delete_cmd_postfix": ") ",
     "delete_cmd_prefix": "rm(",
     "library": "var_list.r",
     "varRefreshCmd": "cat(var_dic_list()) "
    }
   },
   "types_to_exclude": [
    "module",
    "function",
    "builtin_function_or_method",
    "instance",
    "_Feature"
   ],
   "window_display": false
  }
 },
 "nbformat": 4,
 "nbformat_minor": 2
}
