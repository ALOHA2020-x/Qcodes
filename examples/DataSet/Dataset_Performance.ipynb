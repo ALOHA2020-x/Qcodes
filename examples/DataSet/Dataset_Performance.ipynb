{
 "cells": [
  {
   "cell_type": "markdown",
   "metadata": {},
   "source": [
    "# DataSet Performance\n",
    "\n",
    "This notebook shows the trade-off between inserting data into a database row-by-row and as binary blobs. Inserting the data row-by-row means that we have direct access to all the data and may perform queries directly on the values of the data. On the other hand, as we shall see, this is much slower than inserting the data directly as binary blobs."
   ]
  },
  {
   "cell_type": "markdown",
   "metadata": {},
   "source": [
    "First, we choose a new location for the database to ensure that we don't add a bunch of benchmarking data to the default one."
   ]
  },
  {
   "cell_type": "code",
   "execution_count": 1,
   "metadata": {
    "execution": {
     "iopub.execute_input": "2021-02-10T10:08:43.416076Z",
     "iopub.status.busy": "2021-02-10T10:08:43.415483Z",
     "iopub.status.idle": "2021-02-10T10:08:44.422603Z",
     "shell.execute_reply": "2021-02-10T10:08:44.422024Z"
    }
   },
   "outputs": [
    {
     "name": "stdout",
     "output_type": "stream",
     "text": [
      "Logging hadn't been started.\n",
      "Activating auto-logging. Current session state plus future input saved.\n",
      "Filename       : /home/vsts/.qcodes/logs/command_history.log\n",
      "Mode           : append\n",
      "Output logging : True\n",
      "Raw input log  : False\n",
      "Timestamping   : True\n",
      "State          : active\n"
     ]
    },
    {
     "name": "stdout",
     "output_type": "stream",
     "text": [
      "Qcodes Logfile : /home/vsts/.qcodes/logs/210210-13825-qcodes.log\n"
     ]
    }
   ],
   "source": [
    "import os\n",
    "cwd = os.getcwd()\n",
    "import qcodes as qc\n",
    "qc.config[\"core\"][\"db_location\"] = os.path.join(cwd, 'testing.db')\n"
   ]
  },
  {
   "cell_type": "code",
   "execution_count": 2,
   "metadata": {
    "execution": {
     "iopub.execute_input": "2021-02-10T10:08:44.428958Z",
     "iopub.status.busy": "2021-02-10T10:08:44.428363Z",
     "iopub.status.idle": "2021-02-10T10:08:44.615617Z",
     "shell.execute_reply": "2021-02-10T10:08:44.614777Z"
    }
   },
   "outputs": [],
   "source": [
    "%matplotlib inline\n",
    "import time\n",
    "import matplotlib.pyplot as plt\n",
    "import numpy as np\n",
    "\n",
    "import qcodes as qc\n",
    "from qcodes.instrument.parameter import ManualParameter\n",
    "from qcodes.dataset.experiment_container import (Experiment,\n",
    "                                                 load_last_experiment,\n",
    "                                                 new_experiment)\n",
    "from qcodes.dataset.sqlite.database import initialise_database\n",
    "from qcodes import load_or_create_experiment\n",
    "from qcodes.dataset.measurements import Measurement"
   ]
  },
  {
   "cell_type": "code",
   "execution_count": 3,
   "metadata": {
    "execution": {
     "iopub.execute_input": "2021-02-10T10:08:44.619505Z",
     "iopub.status.busy": "2021-02-10T10:08:44.618843Z",
     "iopub.status.idle": "2021-02-10T10:08:44.731241Z",
     "shell.execute_reply": "2021-02-10T10:08:44.731775Z"
    }
   },
   "outputs": [
    {
     "name": "stdout",
     "output_type": "stream",
     "text": [
      "\r",
      "0it [00:00, ?it/s]"
     ]
    },
    {
     "name": "stdout",
     "output_type": "stream",
     "text": [
      "\r",
      "Upgrading database; v0 -> v1: : 0it [00:00, ?it/s]"
     ]
    },
    {
     "name": "stdout",
     "output_type": "stream",
     "text": [
      "\r",
      "Upgrading database; v0 -> v1: : 0it [00:00, ?it/s]"
     ]
    },
    {
     "name": "stdout",
     "output_type": "stream",
     "text": [
      "\n",
      "\r",
      "  0%|          | 0/1 [00:00<?, ?it/s]"
     ]
    },
    {
     "name": "stdout",
     "output_type": "stream",
     "text": [
      "\r",
      "Upgrading database; v1 -> v2:   0%|          | 0/1 [00:00<?, ?it/s]"
     ]
    },
    {
     "name": "stdout",
     "output_type": "stream",
     "text": [
      "\r",
      "Upgrading database; v1 -> v2: 100%|██████████| 1/1 [00:00<00:00, 443.14it/s]"
     ]
    },
    {
     "name": "stdout",
     "output_type": "stream",
     "text": [
      "\n",
      "\r",
      "0it [00:00, ?it/s]"
     ]
    },
    {
     "name": "stdout",
     "output_type": "stream",
     "text": [
      "\r",
      "Upgrading database; v2 -> v3: : 0it [00:00, ?it/s]"
     ]
    },
    {
     "name": "stdout",
     "output_type": "stream",
     "text": [
      "\r",
      "Upgrading database; v2 -> v3: : 0it [00:00, ?it/s]"
     ]
    },
    {
     "name": "stdout",
     "output_type": "stream",
     "text": [
      "\n",
      "\r",
      "0it [00:00, ?it/s]"
     ]
    },
    {
     "name": "stdout",
     "output_type": "stream",
     "text": [
      "\r",
      "Upgrading database; v3 -> v4: : 0it [00:00, ?it/s]"
     ]
    },
    {
     "name": "stdout",
     "output_type": "stream",
     "text": [
      "\r",
      "Upgrading database; v3 -> v4: : 0it [00:00, ?it/s]"
     ]
    },
    {
     "name": "stdout",
     "output_type": "stream",
     "text": [
      "\n",
      "\r",
      "  0%|          | 0/1 [00:00<?, ?it/s]"
     ]
    },
    {
     "name": "stdout",
     "output_type": "stream",
     "text": [
      "\r",
      "Upgrading database; v4 -> v5:   0%|          | 0/1 [00:00<?, ?it/s]"
     ]
    },
    {
     "name": "stdout",
     "output_type": "stream",
     "text": [
      "\r",
      "Upgrading database; v4 -> v5: 100%|██████████| 1/1 [00:00<00:00, 418.30it/s]"
     ]
    },
    {
     "name": "stdout",
     "output_type": "stream",
     "text": [
      "\n",
      "\r",
      "0it [00:00, ?it/s]"
     ]
    },
    {
     "name": "stdout",
     "output_type": "stream",
     "text": [
      "\r",
      "Upgrading database; v5 -> v6: : 0it [00:00, ?it/s]"
     ]
    },
    {
     "name": "stdout",
     "output_type": "stream",
     "text": [
      "\r",
      "Upgrading database; v5 -> v6: : 0it [00:00, ?it/s]"
     ]
    },
    {
     "name": "stdout",
     "output_type": "stream",
     "text": [
      "\n",
      "\r",
      "  0%|          | 0/1 [00:00<?, ?it/s]"
     ]
    },
    {
     "name": "stdout",
     "output_type": "stream",
     "text": [
      "\r",
      "Upgrading database; v6 -> v7:   0%|          | 0/1 [00:00<?, ?it/s]"
     ]
    },
    {
     "name": "stdout",
     "output_type": "stream",
     "text": [
      "\r",
      "Upgrading database; v6 -> v7: 100%|██████████| 1/1 [00:00<00:00, 400.53it/s]"
     ]
    },
    {
     "name": "stdout",
     "output_type": "stream",
     "text": [
      "\n",
      "\r",
      "  0%|          | 0/1 [00:00<?, ?it/s]"
     ]
    },
    {
     "name": "stdout",
     "output_type": "stream",
     "text": [
      "\r",
      "Upgrading database; v7 -> v8:   0%|          | 0/1 [00:00<?, ?it/s]"
     ]
    },
    {
     "name": "stdout",
     "output_type": "stream",
     "text": [
      "\r",
      "Upgrading database; v7 -> v8: 100%|██████████| 1/1 [00:00<00:00, 988.29it/s]"
     ]
    },
    {
     "name": "stdout",
     "output_type": "stream",
     "text": [
      "\n",
      "\r",
      "  0%|          | 0/1 [00:00<?, ?it/s]"
     ]
    },
    {
     "name": "stdout",
     "output_type": "stream",
     "text": [
      "\r",
      "Upgrading database; v8 -> v9:   0%|          | 0/1 [00:00<?, ?it/s]"
     ]
    },
    {
     "name": "stdout",
     "output_type": "stream",
     "text": [
      "\r",
      "Upgrading database; v8 -> v9: 100%|██████████| 1/1 [00:00<00:00, 941.69it/s]"
     ]
    },
    {
     "name": "stdout",
     "output_type": "stream",
     "text": [
      "\n"
     ]
    }
   ],
   "source": [
    "initialise_database()\n",
    "exp = load_or_create_experiment(experiment_name='tutorial_exp', sample_name=\"no sample\")"
   ]
  },
  {
   "cell_type": "markdown",
   "metadata": {},
   "source": [
    "Here, we define a simple function to benchmark the time it takes to insert n points with either numeric or array data type.\n",
    "We will compare both the time used to call ``add_result`` and the time used for the full measurement."
   ]
  },
  {
   "cell_type": "code",
   "execution_count": 4,
   "metadata": {
    "execution": {
     "iopub.execute_input": "2021-02-10T10:08:44.741272Z",
     "iopub.status.busy": "2021-02-10T10:08:44.739921Z",
     "iopub.status.idle": "2021-02-10T10:08:44.741939Z",
     "shell.execute_reply": "2021-02-10T10:08:44.742436Z"
    }
   },
   "outputs": [],
   "source": [
    "def insert_data(paramtype, npoints, nreps=1):\n",
    "\n",
    "    meas = Measurement(exp=exp)\n",
    "\n",
    "    x1 = ManualParameter('x1')\n",
    "    x2 = ManualParameter('x2')\n",
    "    x3 = ManualParameter('x3')\n",
    "    y1 = ManualParameter('y1')\n",
    "    y2 = ManualParameter('y2')\n",
    "\n",
    "    meas.register_parameter(x1, paramtype=paramtype)\n",
    "    meas.register_parameter(x2, paramtype=paramtype)\n",
    "    meas.register_parameter(x3, paramtype=paramtype)\n",
    "    meas.register_parameter(y1, setpoints=[x1, x2, x3],\n",
    "                            paramtype=paramtype)\n",
    "    meas.register_parameter(y2, setpoints=[x1, x2, x3],\n",
    "                            paramtype=paramtype)\n",
    "    start = time.perf_counter()\n",
    "    with meas.run() as datasaver:\n",
    "        start_adding = time.perf_counter()\n",
    "        for i in range(nreps):\n",
    "            datasaver.add_result((x1, np.random.rand(npoints)),\n",
    "                                 (x2, np.random.rand(npoints)),\n",
    "                                 (x3, np.random.rand(npoints)),\n",
    "                                 (y1, np.random.rand(npoints)),\n",
    "                                 (y2, np.random.rand(npoints)))\n",
    "        stop_adding = time.perf_counter()\n",
    "        run_id = datasaver.run_id\n",
    "    stop = time.perf_counter()\n",
    "    tot_time = stop - start\n",
    "    add_time = stop_adding - start_adding\n",
    "    return tot_time, add_time, run_id"
   ]
  },
  {
   "cell_type": "markdown",
   "metadata": {},
   "source": [
    "## Comparison between numeric/array data and binary blob"
   ]
  },
  {
   "cell_type": "markdown",
   "metadata": {},
   "source": [
    "### Case1: Short experiment time"
   ]
  },
  {
   "cell_type": "code",
   "execution_count": 5,
   "metadata": {
    "execution": {
     "iopub.execute_input": "2021-02-10T10:08:44.749304Z",
     "iopub.status.busy": "2021-02-10T10:08:44.748671Z",
     "iopub.status.idle": "2021-02-10T10:08:45.585929Z",
     "shell.execute_reply": "2021-02-10T10:08:45.585390Z"
    }
   },
   "outputs": [
    {
     "name": "stdout",
     "output_type": "stream",
     "text": [
      "Starting experimental run with id: 1. \n",
      "Starting experimental run with id: 2. \n",
      "Starting experimental run with id: 3. \n",
      "Starting experimental run with id: 4. \n"
     ]
    },
    {
     "name": "stdout",
     "output_type": "stream",
     "text": [
      "Starting experimental run with id: 5. \n"
     ]
    },
    {
     "name": "stdout",
     "output_type": "stream",
     "text": [
      "Starting experimental run with id: 6. \n"
     ]
    },
    {
     "name": "stdout",
     "output_type": "stream",
     "text": [
      "Starting experimental run with id: 7. \n"
     ]
    },
    {
     "name": "stdout",
     "output_type": "stream",
     "text": [
      "Starting experimental run with id: 8. \n",
      "Starting experimental run with id: 9. \n"
     ]
    },
    {
     "name": "stdout",
     "output_type": "stream",
     "text": [
      "Starting experimental run with id: 10. \n",
      "Starting experimental run with id: 11. \n"
     ]
    },
    {
     "name": "stdout",
     "output_type": "stream",
     "text": [
      "Starting experimental run with id: 12. \n",
      "Starting experimental run with id: 13. \n"
     ]
    },
    {
     "name": "stdout",
     "output_type": "stream",
     "text": [
      "Starting experimental run with id: 14. \n"
     ]
    }
   ],
   "source": [
    "sizes = [1,500,1000,2000,3000,4000,5000]\n",
    "t_numeric = []\n",
    "t_numeric_add = []\n",
    "t_array = []\n",
    "t_array_add = []\n",
    "for size in sizes:\n",
    "    tn, tna, run_id_n =  insert_data('numeric', size)\n",
    "    t_numeric.append(tn)\n",
    "    t_numeric_add.append(tna)\n",
    "\n",
    "    ta, taa, run_id_a =  insert_data('array', size)\n",
    "    t_array.append(ta)\n",
    "    t_array_add.append(taa)"
   ]
  },
  {
   "cell_type": "code",
   "execution_count": 6,
   "metadata": {
    "execution": {
     "iopub.execute_input": "2021-02-10T10:08:45.612077Z",
     "iopub.status.busy": "2021-02-10T10:08:45.598227Z",
     "iopub.status.idle": "2021-02-10T10:08:45.795511Z",
     "shell.execute_reply": "2021-02-10T10:08:45.794744Z"
    }
   },
   "outputs": [
    {
     "data": {
      "image/png": "[encoded data removed]",
      "text/plain": [
       "<Figure size 432x288 with 1 Axes>"
      ]
     },
     "metadata": {
      "needs_background": "light"
     },
     "output_type": "display_data"
    }
   ],
   "source": [
    "fig, ax = plt.subplots(1,1)\n",
    "ax.plot(sizes, t_numeric, 'o-', label='Inserting row-by-row')\n",
    "ax.plot(sizes, t_numeric_add, 'o-', label='Inserting row-by-row: add_result only')\n",
    "ax.plot(sizes, t_array, 'd-', label='Inserting as binary blob')\n",
    "ax.plot(sizes, t_array_add, 'd-', label='Inserting as binary blob: add_result only')\n",
    "ax.legend()\n",
    "ax.set_xlabel('Array length')\n",
    "ax.set_ylabel('Time (s)')\n",
    "fig.tight_layout()"
   ]
  },
  {
   "cell_type": "markdown",
   "metadata": {},
   "source": [
    "As shown in the latter figure, the time to setup and and close the experiment is approximately 0.4 sec. In case of small array sizes, the difference between inserting values of data as arrays and inserting them row-by-row is relatively unimportant. At larger array sizes, i.e. above 10000 points, the cost of writing data as individual datapoints starts to become important.\n"
   ]
  },
  {
   "cell_type": "markdown",
   "metadata": {},
   "source": [
    "### Case2: Long experiment time "
   ]
  },
  {
   "cell_type": "code",
   "execution_count": 7,
   "metadata": {
    "execution": {
     "iopub.execute_input": "2021-02-10T10:08:45.803665Z",
     "iopub.status.busy": "2021-02-10T10:08:45.802639Z",
     "iopub.status.idle": "2021-02-10T10:09:40.325979Z",
     "shell.execute_reply": "2021-02-10T10:09:40.325372Z"
    }
   },
   "outputs": [
    {
     "name": "stdout",
     "output_type": "stream",
     "text": [
      "Starting experimental run with id: 15. \n",
      "Starting experimental run with id: 16. \n",
      "Starting experimental run with id: 17. \n"
     ]
    },
    {
     "name": "stdout",
     "output_type": "stream",
     "text": [
      "Starting experimental run with id: 18. \n",
      "Starting experimental run with id: 19. \n"
     ]
    },
    {
     "name": "stdout",
     "output_type": "stream",
     "text": [
      "Starting experimental run with id: 20. \n"
     ]
    },
    {
     "name": "stdout",
     "output_type": "stream",
     "text": [
      "Starting experimental run with id: 21. \n"
     ]
    },
    {
     "name": "stdout",
     "output_type": "stream",
     "text": [
      "Starting experimental run with id: 22. \n"
     ]
    },
    {
     "name": "stdout",
     "output_type": "stream",
     "text": [
      "Starting experimental run with id: 23. \n"
     ]
    },
    {
     "name": "stdout",
     "output_type": "stream",
     "text": [
      "Starting experimental run with id: 24. \n"
     ]
    },
    {
     "name": "stdout",
     "output_type": "stream",
     "text": [
      "Starting experimental run with id: 25. \n"
     ]
    },
    {
     "name": "stdout",
     "output_type": "stream",
     "text": [
      "Starting experimental run with id: 26. \n"
     ]
    },
    {
     "name": "stdout",
     "output_type": "stream",
     "text": [
      "Starting experimental run with id: 27. \n"
     ]
    },
    {
     "name": "stdout",
     "output_type": "stream",
     "text": [
      "Starting experimental run with id: 28. \n"
     ]
    }
   ],
   "source": [
    "sizes = [1,500,1000,2000,3000,4000,5000]\n",
    "nreps = 100\n",
    "t_numeric = []\n",
    "t_numeric_add = []\n",
    "t_numeric_run_ids = []\n",
    "t_array = []\n",
    "t_array_add = []\n",
    "t_array_run_ids = []\n",
    "for size in sizes:\n",
    "    tn, tna, run_id_n =  insert_data('numeric', size, nreps=nreps)\n",
    "    t_numeric.append(tn)\n",
    "    t_numeric_add.append(tna)\n",
    "    t_numeric_run_ids.append(run_id_n)\n",
    "\n",
    "    ta, taa, run_id_a =  insert_data('array', size, nreps=nreps)\n",
    "    t_array.append(ta)\n",
    "    t_array_add.append(taa)\n",
    "    t_array_run_ids.append(run_id_a)"
   ]
  },
  {
   "cell_type": "code",
   "execution_count": 8,
   "metadata": {
    "execution": {
     "iopub.execute_input": "2021-02-10T10:09:40.359088Z",
     "iopub.status.busy": "2021-02-10T10:09:40.344108Z",
     "iopub.status.idle": "2021-02-10T10:09:40.548430Z",
     "shell.execute_reply": "2021-02-10T10:09:40.547914Z"
    },
    "scrolled": true
   },
   "outputs": [
    {
     "data": {
      "image/png": "[encoded data removed]",
      "text/plain": [
       "<Figure size 432x288 with 1 Axes>"
      ]
     },
     "metadata": {
      "needs_background": "light"
     },
     "output_type": "display_data"
    }
   ],
   "source": [
    "fig, ax = plt.subplots(1,1)\n",
    "ax.plot(sizes, t_numeric, 'o-', label='Inserting row-by-row')\n",
    "ax.plot(sizes, t_numeric_add, 'o-', label='Inserting row-by-row: add_result only')\n",
    "ax.plot(sizes, t_array, 'd-', label='Inserting as binary blob')\n",
    "ax.plot(sizes, t_array_add, 'd-', label='Inserting as binary blob: add_result only')\n",
    "ax.legend()\n",
    "ax.set_xlabel('Array length')\n",
    "ax.set_ylabel('Time (s)')\n",
    "fig.tight_layout()"
   ]
  },
  {
   "cell_type": "markdown",
   "metadata": {},
   "source": [
    "However, as we increase the length of the experiment, as seen here by repeating the insertion 100 times, we see a big difference between inserting values of the data row-by-row and inserting it as a binary blob."
   ]
  },
  {
   "cell_type": "markdown",
   "metadata": {},
   "source": [
    "## Loading the data "
   ]
  },
  {
   "cell_type": "code",
   "execution_count": 9,
   "metadata": {
    "execution": {
     "iopub.execute_input": "2021-02-10T10:09:40.552366Z",
     "iopub.status.busy": "2021-02-10T10:09:40.551452Z",
     "iopub.status.idle": "2021-02-10T10:09:40.555268Z",
     "shell.execute_reply": "2021-02-10T10:09:40.554775Z"
    }
   },
   "outputs": [],
   "source": [
    "from qcodes.dataset.data_set import load_by_id\n",
    "from qcodes.dataset.data_export import get_data_by_id"
   ]
  },
  {
   "cell_type": "markdown",
   "metadata": {},
   "source": [
    "As usual you can load the data by using the ``load_by_id`` function but you will notice that the different storage methods\n",
    "are reflected in shape of the data as it is retrieved. "
   ]
  },
  {
   "cell_type": "code",
   "execution_count": 10,
   "metadata": {
    "execution": {
     "iopub.execute_input": "2021-02-10T10:09:40.559891Z",
     "iopub.status.busy": "2021-02-10T10:09:40.558250Z",
     "iopub.status.idle": "2021-02-10T10:09:40.560544Z",
     "shell.execute_reply": "2021-02-10T10:09:40.560997Z"
    }
   },
   "outputs": [],
   "source": [
    "run_id_n = t_numeric_run_ids[0]\n",
    "run_id_a = t_array_run_ids[0]"
   ]
  },
  {
   "cell_type": "code",
   "execution_count": 11,
   "metadata": {
    "execution": {
     "iopub.execute_input": "2021-02-10T10:09:40.564276Z",
     "iopub.status.busy": "2021-02-10T10:09:40.563700Z",
     "iopub.status.idle": "2021-02-10T10:09:40.574089Z",
     "shell.execute_reply": "2021-02-10T10:09:40.573534Z"
    },
    "scrolled": true
   },
   "outputs": [
    {
     "data": {
      "text/plain": [
       "{'x1': {'x1': array([0.04307345, 0.04307345, 0.93607099, 0.93607099, 0.61184873,\n",
       "         0.61184873, 0.82572833, 0.82572833, 0.39765582, 0.39765582,\n",
       "         0.4193013 , 0.4193013 , 0.10339084, 0.10339084, 0.67739515,\n",
       "         0.67739515, 0.76487789, 0.76487789, 0.27465172, 0.27465172,\n",
       "         0.38829429, 0.38829429, 0.11062043, 0.11062043, 0.01782622,\n",
       "         0.01782622, 0.00611548, 0.00611548, 0.11161403, 0.11161403,\n",
       "         0.70135225, 0.70135225, 0.80039353, 0.80039353, 0.10510385,\n",
       "         0.10510385, 0.40155728, 0.40155728, 0.27567284, 0.27567284,\n",
       "         0.73025397, 0.73025397, 0.93370325, 0.93370325, 0.79781512,\n",
       "         0.79781512, 0.56606704, 0.56606704, 0.64665324, 0.64665324,\n",
       "         0.37519127, 0.37519127, 0.78547138, 0.78547138, 0.78231428,\n",
       "         0.78231428, 0.66025297, 0.66025297, 0.18572018, 0.18572018,\n",
       "         0.72958775, 0.72958775, 0.96169179, 0.96169179, 0.54636051,\n",
       "         0.54636051, 0.91556447, 0.91556447, 0.71137721, 0.71137721,\n",
       "         0.49142296, 0.49142296, 0.89318922, 0.89318922, 0.00554446,\n",
       "         0.00554446, 0.71661156, 0.71661156, 0.34287243, 0.34287243,\n",
       "         0.17598809, 0.17598809, 0.55027762, 0.55027762, 0.36751552,\n",
       "         0.36751552, 0.79505872, 0.79505872, 0.40336733, 0.40336733,\n",
       "         0.74327249, 0.74327249, 0.90590088, 0.90590088, 0.73345439,\n",
       "         0.73345439, 0.81412353, 0.81412353, 0.06018099, 0.06018099,\n",
       "         0.43007341, 0.43007341, 0.2950473 , 0.2950473 , 0.54735142,\n",
       "         0.54735142, 0.20807132, 0.20807132, 0.60829124, 0.60829124,\n",
       "         0.02291381, 0.02291381, 0.85683974, 0.85683974, 0.32155327,\n",
       "         0.32155327, 0.19403442, 0.19403442, 0.6450454 , 0.6450454 ,\n",
       "         0.04861277, 0.04861277, 0.49559302, 0.49559302, 0.5796302 ,\n",
       "         0.5796302 , 0.98816487, 0.98816487, 0.68801282, 0.68801282,\n",
       "         0.89847878, 0.89847878, 0.1902527 , 0.1902527 , 0.60931409,\n",
       "         0.60931409, 0.26260093, 0.26260093, 0.10932092, 0.10932092,\n",
       "         0.08647552, 0.08647552, 0.29066072, 0.29066072, 0.84273623,\n",
       "         0.84273623, 0.76232958, 0.76232958, 0.74284821, 0.74284821,\n",
       "         0.74002975, 0.74002975, 0.5623992 , 0.5623992 , 0.80732858,\n",
       "         0.80732858, 0.69099215, 0.69099215, 0.18473331, 0.18473331,\n",
       "         0.781538  , 0.781538  , 0.49060641, 0.49060641, 0.69811596,\n",
       "         0.69811596, 0.89918994, 0.89918994, 0.06651213, 0.06651213,\n",
       "         0.31274788, 0.31274788, 0.88602161, 0.88602161, 0.07878295,\n",
       "         0.07878295, 0.09327958, 0.09327958, 0.55205146, 0.55205146,\n",
       "         0.8247381 , 0.8247381 , 0.80821006, 0.80821006, 0.05042181,\n",
       "         0.05042181, 0.40257057, 0.40257057, 0.77763732, 0.77763732,\n",
       "         0.51776526, 0.51776526, 0.71710314, 0.71710314, 0.94353721,\n",
       "         0.94353721, 0.02475464, 0.02475464, 0.2514506 , 0.2514506 ])}}"
      ]
     },
     "execution_count": 1,
     "metadata": {},
     "output_type": "execute_result"
    }
   ],
   "source": [
    "ds = load_by_id(run_id_n)\n",
    "ds.get_parameter_data('x1')"
   ]
  },
  {
   "cell_type": "markdown",
   "metadata": {},
   "source": [
    "And a dataset stored as binary arrays"
   ]
  },
  {
   "cell_type": "code",
   "execution_count": 12,
   "metadata": {
    "execution": {
     "iopub.execute_input": "2021-02-10T10:09:40.577669Z",
     "iopub.status.busy": "2021-02-10T10:09:40.577053Z",
     "iopub.status.idle": "2021-02-10T10:09:40.639339Z",
     "shell.execute_reply": "2021-02-10T10:09:40.639765Z"
    },
    "scrolled": true
   },
   "outputs": [
    {
     "data": {
      "text/plain": [
       "{'x1': {'x1': array([[0.87748284],\n",
       "         [0.87748284],\n",
       "         [0.05921836],\n",
       "         [0.05921836],\n",
       "         [0.58760409],\n",
       "         [0.58760409],\n",
       "         [0.61808181],\n",
       "         [0.61808181],\n",
       "         [0.9563679 ],\n",
       "         [0.9563679 ],\n",
       "         [0.70198579],\n",
       "         [0.70198579],\n",
       "         [0.55199444],\n",
       "         [0.55199444],\n",
       "         [0.21599448],\n",
       "         [0.21599448],\n",
       "         [0.39805322],\n",
       "         [0.39805322],\n",
       "         [0.59169396],\n",
       "         [0.59169396],\n",
       "         [0.55286859],\n",
       "         [0.55286859],\n",
       "         [0.87296974],\n",
       "         [0.87296974],\n",
       "         [0.79410113],\n",
       "         [0.79410113],\n",
       "         [0.55484631],\n",
       "         [0.55484631],\n",
       "         [0.19701334],\n",
       "         [0.19701334],\n",
       "         [0.44010614],\n",
       "         [0.44010614],\n",
       "         [0.95052392],\n",
       "         [0.95052392],\n",
       "         [0.37086656],\n",
       "         [0.37086656],\n",
       "         [0.17821633],\n",
       "         [0.17821633],\n",
       "         [0.86110627],\n",
       "         [0.86110627],\n",
       "         [0.10118945],\n",
       "         [0.10118945],\n",
       "         [0.96009662],\n",
       "         [0.96009662],\n",
       "         [0.44302704],\n",
       "         [0.44302704],\n",
       "         [0.35122961],\n",
       "         [0.35122961],\n",
       "         [0.59025481],\n",
       "         [0.59025481],\n",
       "         [0.23418726],\n",
       "         [0.23418726],\n",
       "         [0.53898848],\n",
       "         [0.53898848],\n",
       "         [0.13817146],\n",
       "         [0.13817146],\n",
       "         [0.56437414],\n",
       "         [0.56437414],\n",
       "         [0.40724166],\n",
       "         [0.40724166],\n",
       "         [0.3033528 ],\n",
       "         [0.3033528 ],\n",
       "         [0.54085031],\n",
       "         [0.54085031],\n",
       "         [0.88476017],\n",
       "         [0.88476017],\n",
       "         [0.71038261],\n",
       "         [0.71038261],\n",
       "         [0.58292013],\n",
       "         [0.58292013],\n",
       "         [0.76536936],\n",
       "         [0.76536936],\n",
       "         [0.81058648],\n",
       "         [0.81058648],\n",
       "         [0.16582972],\n",
       "         [0.16582972],\n",
       "         [0.14624051],\n",
       "         [0.14624051],\n",
       "         [0.75940667],\n",
       "         [0.75940667],\n",
       "         [0.94890668],\n",
       "         [0.94890668],\n",
       "         [0.73765416],\n",
       "         [0.73765416],\n",
       "         [0.48026842],\n",
       "         [0.48026842],\n",
       "         [0.19750214],\n",
       "         [0.19750214],\n",
       "         [0.77903714],\n",
       "         [0.77903714],\n",
       "         [0.59473343],\n",
       "         [0.59473343],\n",
       "         [0.08101242],\n",
       "         [0.08101242],\n",
       "         [0.05290218],\n",
       "         [0.05290218],\n",
       "         [0.73571073],\n",
       "         [0.73571073],\n",
       "         [0.94550371],\n",
       "         [0.94550371],\n",
       "         [0.68339927],\n",
       "         [0.68339927],\n",
       "         [0.16183213],\n",
       "         [0.16183213],\n",
       "         [0.57339937],\n",
       "         [0.57339937],\n",
       "         [0.5649894 ],\n",
       "         [0.5649894 ],\n",
       "         [0.54424411],\n",
       "         [0.54424411],\n",
       "         [0.83988556],\n",
       "         [0.83988556],\n",
       "         [0.72683582],\n",
       "         [0.72683582],\n",
       "         [0.30048578],\n",
       "         [0.30048578],\n",
       "         [0.26460059],\n",
       "         [0.26460059],\n",
       "         [0.80271844],\n",
       "         [0.80271844],\n",
       "         [0.32237607],\n",
       "         [0.32237607],\n",
       "         [0.48485017],\n",
       "         [0.48485017],\n",
       "         [0.30957994],\n",
       "         [0.30957994],\n",
       "         [0.4239848 ],\n",
       "         [0.4239848 ],\n",
       "         [0.3796491 ],\n",
       "         [0.3796491 ],\n",
       "         [0.16088024],\n",
       "         [0.16088024],\n",
       "         [0.12297813],\n",
       "         [0.12297813],\n",
       "         [0.44286975],\n",
       "         [0.44286975],\n",
       "         [0.5710651 ],\n",
       "         [0.5710651 ],\n",
       "         [0.77315635],\n",
       "         [0.77315635],\n",
       "         [0.04427226],\n",
       "         [0.04427226],\n",
       "         [0.95526202],\n",
       "         [0.95526202],\n",
       "         [0.37310468],\n",
       "         [0.37310468],\n",
       "         [0.75716827],\n",
       "         [0.75716827],\n",
       "         [0.88653553],\n",
       "         [0.88653553],\n",
       "         [0.44656814],\n",
       "         [0.44656814],\n",
       "         [0.16711983],\n",
       "         [0.16711983],\n",
       "         [0.49093832],\n",
       "         [0.49093832],\n",
       "         [0.1309797 ],\n",
       "         [0.1309797 ],\n",
       "         [0.04430933],\n",
       "         [0.04430933],\n",
       "         [0.08402818],\n",
       "         [0.08402818],\n",
       "         [0.51658158],\n",
       "         [0.51658158],\n",
       "         [0.57941937],\n",
       "         [0.57941937],\n",
       "         [0.82024796],\n",
       "         [0.82024796],\n",
       "         [0.50228602],\n",
       "         [0.50228602],\n",
       "         [0.15081065],\n",
       "         [0.15081065],\n",
       "         [0.37931745],\n",
       "         [0.37931745],\n",
       "         [0.94412019],\n",
       "         [0.94412019],\n",
       "         [0.04376313],\n",
       "         [0.04376313],\n",
       "         [0.8134899 ],\n",
       "         [0.8134899 ],\n",
       "         [0.28425509],\n",
       "         [0.28425509],\n",
       "         [0.93287646],\n",
       "         [0.93287646],\n",
       "         [0.75635834],\n",
       "         [0.75635834],\n",
       "         [0.75383285],\n",
       "         [0.75383285],\n",
       "         [0.66464413],\n",
       "         [0.66464413],\n",
       "         [0.10141797],\n",
       "         [0.10141797],\n",
       "         [0.24799918],\n",
       "         [0.24799918],\n",
       "         [0.56170701],\n",
       "         [0.56170701],\n",
       "         [0.3600517 ],\n",
       "         [0.3600517 ],\n",
       "         [0.33955455],\n",
       "         [0.33955455]])}}"
      ]
     },
     "execution_count": 1,
     "metadata": {},
     "output_type": "execute_result"
    }
   ],
   "source": [
    "ds = load_by_id(run_id_a)\n",
    "ds.get_parameter_data('x1')"
   ]
  },
  {
   "cell_type": "code",
   "execution_count": null,
   "metadata": {},
   "outputs": [],
   "source": []
  }
 ],
 "metadata": {
  "kernelspec": {
   "display_name": "Python 3",
   "language": "python",
   "name": "python3"
  },
  "language_info": {
   "codemirror_mode": {
    "name": "ipython",
    "version": 3
   },
   "file_extension": ".py",
   "mimetype": "text/x-python",
   "name": "python",
   "nbconvert_exporter": "python",
   "pygments_lexer": "ipython3",
   "version": "3.7.9"
  },
  "nbsphinx": {
   "timeout": 600
  },
  "toc": {
   "base_numbering": 1,
   "nav_menu": {},
   "number_sections": true,
   "sideBar": true,
   "skip_h1_title": false,
   "title_cell": "Table of Contents",
   "title_sidebar": "Contents",
   "toc_cell": false,
   "toc_position": {},
   "toc_section_display": true,
   "toc_window_display": false
  },
  "varInspector": {
   "cols": {
    "lenName": 16,
    "lenType": 16,
    "lenVar": 40
   },
   "kernels_config": {
    "python": {
     "delete_cmd_postfix": "",
     "delete_cmd_prefix": "del ",
     "library": "var_list.py",
     "varRefreshCmd": "print(var_dic_list())"
    },
    "r": {
     "delete_cmd_postfix": ") ",
     "delete_cmd_prefix": "rm(",
     "library": "var_list.r",
     "varRefreshCmd": "cat(var_dic_list()) "
    }
   },
   "types_to_exclude": [
    "module",
    "function",
    "builtin_function_or_method",
    "instance",
    "_Feature"
   ],
   "window_display": false
  }
 },
 "nbformat": 4,
 "nbformat_minor": 2
}
