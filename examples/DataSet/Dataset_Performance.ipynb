{
 "cells": [
  {
   "cell_type": "markdown",
   "metadata": {},
   "source": [
    "# DataSet Performance\n",
    "\n",
    "This notebook shows the trade-off between inserting data into a database row-by-row and as binary blobs. Inserting the data row-by-row means that we have direct access to all the data and may perform queries directly on the values of the data. On the other hand, as we shall see, this is much slower than inserting the data directly as binary blobs."
   ]
  },
  {
   "cell_type": "markdown",
   "metadata": {},
   "source": [
    "First, we choose a new location for the database to ensure that we don't add a bunch of benchmarking data to the default one."
   ]
  },
  {
   "cell_type": "code",
   "execution_count": 1,
   "metadata": {
    "execution": {
     "iopub.execute_input": "2020-10-26T11:59:32.592304Z",
     "iopub.status.busy": "2020-10-26T11:59:32.591671Z",
     "iopub.status.idle": "2020-10-26T11:59:33.803465Z",
     "shell.execute_reply": "2020-10-26T11:59:33.802840Z"
    }
   },
   "outputs": [
    {
     "name": "stdout",
     "output_type": "stream",
     "text": [
      "Logging hadn't been started.\n",
      "Activating auto-logging. Current session state plus future input saved.\n",
      "Filename       : /home/vsts/.qcodes/logs/command_history.log\n",
      "Mode           : append\n",
      "Output logging : True\n",
      "Raw input log  : False\n",
      "Timestamping   : True\n",
      "State          : active\n"
     ]
    },
    {
     "name": "stdout",
     "output_type": "stream",
     "text": [
      "Qcodes Logfile : /home/vsts/.qcodes/logs/201026-15470-qcodes.log\n"
     ]
    }
   ],
   "source": [
    "import os\n",
    "cwd = os.getcwd()\n",
    "import qcodes as qc\n",
    "qc.config[\"core\"][\"db_location\"] = os.path.join(cwd, 'testing.db')\n"
   ]
  },
  {
   "cell_type": "code",
   "execution_count": 2,
   "metadata": {
    "execution": {
     "iopub.execute_input": "2020-10-26T11:59:33.811317Z",
     "iopub.status.busy": "2020-10-26T11:59:33.809526Z",
     "iopub.status.idle": "2020-10-26T11:59:34.028347Z",
     "shell.execute_reply": "2020-10-26T11:59:34.028910Z"
    }
   },
   "outputs": [],
   "source": [
    "%matplotlib inline\n",
    "import time\n",
    "import matplotlib.pyplot as plt\n",
    "import numpy as np\n",
    "\n",
    "import qcodes as qc\n",
    "from qcodes.instrument.parameter import ManualParameter\n",
    "from qcodes.dataset.experiment_container import (Experiment,\n",
    "                                                 load_last_experiment,\n",
    "                                                 new_experiment)\n",
    "from qcodes.dataset.sqlite.database import initialise_database\n",
    "from qcodes import load_or_create_experiment\n",
    "from qcodes.dataset.measurements import Measurement"
   ]
  },
  {
   "cell_type": "code",
   "execution_count": 3,
   "metadata": {
    "execution": {
     "iopub.execute_input": "2020-10-26T11:59:34.034043Z",
     "iopub.status.busy": "2020-10-26T11:59:34.033221Z",
     "iopub.status.idle": "2020-10-26T11:59:34.180991Z",
     "shell.execute_reply": "2020-10-26T11:59:34.181484Z"
    }
   },
   "outputs": [
    {
     "name": "stdout",
     "output_type": "stream",
     "text": [
      "\r",
      "0it [00:00, ?it/s]"
     ]
    },
    {
     "name": "stdout",
     "output_type": "stream",
     "text": [
      "\r",
      "Upgrading database; v0 -> v1: : 0it [00:00, ?it/s]"
     ]
    },
    {
     "name": "stdout",
     "output_type": "stream",
     "text": [
      "\r",
      "Upgrading database; v0 -> v1: : 0it [00:00, ?it/s]"
     ]
    },
    {
     "name": "stdout",
     "output_type": "stream",
     "text": [
      "\n",
      "\r",
      "  0%|          | 0/1 [00:00<?, ?it/s]"
     ]
    },
    {
     "name": "stdout",
     "output_type": "stream",
     "text": [
      "\r",
      "Upgrading database; v1 -> v2:   0%|          | 0/1 [00:00<?, ?it/s]"
     ]
    },
    {
     "name": "stdout",
     "output_type": "stream",
     "text": [
      "\r",
      "Upgrading database; v1 -> v2: 100%|██████████| 1/1 [00:00<00:00, 391.22it/s]"
     ]
    },
    {
     "name": "stdout",
     "output_type": "stream",
     "text": [
      "\n",
      "\r",
      "0it [00:00, ?it/s]"
     ]
    },
    {
     "name": "stdout",
     "output_type": "stream",
     "text": [
      "\r",
      "Upgrading database; v2 -> v3: : 0it [00:00, ?it/s]"
     ]
    },
    {
     "name": "stdout",
     "output_type": "stream",
     "text": [
      "\r",
      "Upgrading database; v2 -> v3: : 0it [00:00, ?it/s]"
     ]
    },
    {
     "name": "stdout",
     "output_type": "stream",
     "text": [
      "\n",
      "\r",
      "0it [00:00, ?it/s]"
     ]
    },
    {
     "name": "stdout",
     "output_type": "stream",
     "text": [
      "\r",
      "Upgrading database; v3 -> v4: : 0it [00:00, ?it/s]"
     ]
    },
    {
     "name": "stdout",
     "output_type": "stream",
     "text": [
      "\r",
      "Upgrading database; v3 -> v4: : 0it [00:00, ?it/s]"
     ]
    },
    {
     "name": "stdout",
     "output_type": "stream",
     "text": [
      "\n",
      "\r",
      "  0%|          | 0/1 [00:00<?, ?it/s]"
     ]
    },
    {
     "name": "stdout",
     "output_type": "stream",
     "text": [
      "\r",
      "Upgrading database; v4 -> v5:   0%|          | 0/1 [00:00<?, ?it/s]"
     ]
    },
    {
     "name": "stdout",
     "output_type": "stream",
     "text": [
      "\r",
      "Upgrading database; v4 -> v5: 100%|██████████| 1/1 [00:00<00:00, 853.37it/s]"
     ]
    },
    {
     "name": "stdout",
     "output_type": "stream",
     "text": [
      "\n",
      "\r",
      "0it [00:00, ?it/s]"
     ]
    },
    {
     "name": "stdout",
     "output_type": "stream",
     "text": [
      "\r",
      "Upgrading database; v5 -> v6: : 0it [00:00, ?it/s]"
     ]
    },
    {
     "name": "stdout",
     "output_type": "stream",
     "text": [
      "\r",
      "Upgrading database; v5 -> v6: : 0it [00:00, ?it/s]"
     ]
    },
    {
     "name": "stdout",
     "output_type": "stream",
     "text": [
      "\n",
      "\r",
      "  0%|          | 0/1 [00:00<?, ?it/s]"
     ]
    },
    {
     "name": "stdout",
     "output_type": "stream",
     "text": [
      "\r",
      "Upgrading database; v6 -> v7:   0%|          | 0/1 [00:00<?, ?it/s]"
     ]
    },
    {
     "name": "stdout",
     "output_type": "stream",
     "text": [
      "\r",
      "Upgrading database; v6 -> v7: 100%|██████████| 1/1 [00:00<00:00, 403.96it/s]"
     ]
    },
    {
     "name": "stdout",
     "output_type": "stream",
     "text": [
      "\n",
      "\r",
      "  0%|          | 0/1 [00:00<?, ?it/s]"
     ]
    },
    {
     "name": "stdout",
     "output_type": "stream",
     "text": [
      "\r",
      "Upgrading database; v7 -> v8:   0%|          | 0/1 [00:00<?, ?it/s]"
     ]
    },
    {
     "name": "stdout",
     "output_type": "stream",
     "text": [
      "\r",
      "Upgrading database; v7 -> v8: 100%|██████████| 1/1 [00:00<00:00, 605.15it/s]"
     ]
    },
    {
     "name": "stdout",
     "output_type": "stream",
     "text": [
      "\n",
      "\r",
      "  0%|          | 0/1 [00:00<?, ?it/s]"
     ]
    },
    {
     "name": "stdout",
     "output_type": "stream",
     "text": [
      "\r",
      "Upgrading database; v8 -> v9:   0%|          | 0/1 [00:00<?, ?it/s]"
     ]
    },
    {
     "name": "stdout",
     "output_type": "stream",
     "text": [
      "\r",
      "Upgrading database; v8 -> v9: 100%|██████████| 1/1 [00:00<00:00, 409.24it/s]"
     ]
    },
    {
     "name": "stdout",
     "output_type": "stream",
     "text": [
      "\n"
     ]
    }
   ],
   "source": [
    "initialise_database()\n",
    "exp = load_or_create_experiment(experiment_name='tutorial_exp', sample_name=\"no sample\")"
   ]
  },
  {
   "cell_type": "markdown",
   "metadata": {},
   "source": [
    "Here, we define a simple function to benchmark the time it takes to insert n points with either numeric or array data type.\n",
    "We will compare both the time used to call ``add_result`` and the time used for the full measurement."
   ]
  },
  {
   "cell_type": "code",
   "execution_count": 4,
   "metadata": {
    "execution": {
     "iopub.execute_input": "2020-10-26T11:59:34.191142Z",
     "iopub.status.busy": "2020-10-26T11:59:34.190496Z",
     "iopub.status.idle": "2020-10-26T11:59:34.194509Z",
     "shell.execute_reply": "2020-10-26T11:59:34.193981Z"
    }
   },
   "outputs": [],
   "source": [
    "def insert_data(paramtype, npoints, nreps=1):\n",
    "\n",
    "    meas = Measurement(exp=exp)\n",
    "\n",
    "    x1 = ManualParameter('x1')\n",
    "    x2 = ManualParameter('x2')\n",
    "    x3 = ManualParameter('x3')\n",
    "    y1 = ManualParameter('y1')\n",
    "    y2 = ManualParameter('y2')\n",
    "\n",
    "    meas.register_parameter(x1, paramtype=paramtype)\n",
    "    meas.register_parameter(x2, paramtype=paramtype)\n",
    "    meas.register_parameter(x3, paramtype=paramtype)\n",
    "    meas.register_parameter(y1, setpoints=[x1, x2, x3],\n",
    "                            paramtype=paramtype)\n",
    "    meas.register_parameter(y2, setpoints=[x1, x2, x3],\n",
    "                            paramtype=paramtype)\n",
    "    start = time.perf_counter()\n",
    "    with meas.run() as datasaver:\n",
    "        start_adding = time.perf_counter()\n",
    "        for i in range(nreps):\n",
    "            datasaver.add_result((x1, np.random.rand(npoints)),\n",
    "                                 (x2, np.random.rand(npoints)),\n",
    "                                 (x3, np.random.rand(npoints)),\n",
    "                                 (y1, np.random.rand(npoints)),\n",
    "                                 (y2, np.random.rand(npoints)))\n",
    "        stop_adding = time.perf_counter()\n",
    "        run_id = datasaver.run_id\n",
    "    stop = time.perf_counter()\n",
    "    tot_time = stop - start\n",
    "    add_time = stop_adding - start_adding\n",
    "    return tot_time, add_time, run_id"
   ]
  },
  {
   "cell_type": "markdown",
   "metadata": {},
   "source": [
    "## Comparison between numeric/array data and binary blob"
   ]
  },
  {
   "cell_type": "markdown",
   "metadata": {},
   "source": [
    "### Case1: Short experiment time"
   ]
  },
  {
   "cell_type": "code",
   "execution_count": 5,
   "metadata": {
    "execution": {
     "iopub.execute_input": "2020-10-26T11:59:34.201836Z",
     "iopub.status.busy": "2020-10-26T11:59:34.201191Z",
     "iopub.status.idle": "2020-10-26T11:59:35.187048Z",
     "shell.execute_reply": "2020-10-26T11:59:35.188136Z"
    }
   },
   "outputs": [
    {
     "name": "stdout",
     "output_type": "stream",
     "text": [
      "Starting experimental run with id: 1. \n",
      "Starting experimental run with id: 2. \n",
      "Starting experimental run with id: 3. \n"
     ]
    },
    {
     "name": "stdout",
     "output_type": "stream",
     "text": [
      "Starting experimental run with id: 4. \n"
     ]
    },
    {
     "name": "stdout",
     "output_type": "stream",
     "text": [
      "Starting experimental run with id: 5. \n"
     ]
    },
    {
     "name": "stdout",
     "output_type": "stream",
     "text": [
      "Starting experimental run with id: 6. \n"
     ]
    },
    {
     "name": "stdout",
     "output_type": "stream",
     "text": [
      "Starting experimental run with id: 7. \n"
     ]
    },
    {
     "name": "stdout",
     "output_type": "stream",
     "text": [
      "Starting experimental run with id: 8. \n",
      "Starting experimental run with id: 9. \n"
     ]
    },
    {
     "name": "stdout",
     "output_type": "stream",
     "text": [
      "Starting experimental run with id: 10. \n",
      "Starting experimental run with id: 11. \n"
     ]
    },
    {
     "name": "stdout",
     "output_type": "stream",
     "text": [
      "Starting experimental run with id: 12. \n"
     ]
    },
    {
     "name": "stdout",
     "output_type": "stream",
     "text": [
      "Starting experimental run with id: 13. \n"
     ]
    },
    {
     "name": "stdout",
     "output_type": "stream",
     "text": [
      "Starting experimental run with id: 14. \n"
     ]
    }
   ],
   "source": [
    "sizes = [1,500,1000,2000,3000,4000,5000]\n",
    "t_numeric = []\n",
    "t_numeric_add = []\n",
    "t_array = []\n",
    "t_array_add = []\n",
    "for size in sizes:\n",
    "    tn, tna, run_id_n =  insert_data('numeric', size)\n",
    "    t_numeric.append(tn)\n",
    "    t_numeric_add.append(tna)\n",
    "\n",
    "    ta, taa, run_id_a =  insert_data('array', size)\n",
    "    t_array.append(ta)\n",
    "    t_array_add.append(taa)"
   ]
  },
  {
   "cell_type": "code",
   "execution_count": 6,
   "metadata": {
    "execution": {
     "iopub.execute_input": "2020-10-26T11:59:35.222599Z",
     "iopub.status.busy": "2020-10-26T11:59:35.193343Z",
     "iopub.status.idle": "2020-10-26T11:59:35.436654Z",
     "shell.execute_reply": "2020-10-26T11:59:35.436066Z"
    }
   },
   "outputs": [
    {
     "data": {
      "image/png": "[encoded data removed]",
      "text/plain": [
       "<Figure size 432x288 with 1 Axes>"
      ]
     },
     "metadata": {
      "needs_background": "light"
     },
     "output_type": "display_data"
    }
   ],
   "source": [
    "fig, ax = plt.subplots(1,1)\n",
    "ax.plot(sizes, t_numeric, 'o-', label='Inserting row-by-row')\n",
    "ax.plot(sizes, t_numeric_add, 'o-', label='Inserting row-by-row: add_result only')\n",
    "ax.plot(sizes, t_array, 'd-', label='Inserting as binary blob')\n",
    "ax.plot(sizes, t_array_add, 'd-', label='Inserting as binary blob: add_result only')\n",
    "ax.legend()\n",
    "ax.set_xlabel('Array length')\n",
    "ax.set_ylabel('Time (s)')\n",
    "fig.tight_layout()"
   ]
  },
  {
   "cell_type": "markdown",
   "metadata": {},
   "source": [
    "As shown in the latter figure, the time to setup and and close the experiment is approximately 0.4 sec. In case of small array sizes, the difference between inserting values of data as arrays and inserting them row-by-row is relatively unimportant. At larger array sizes, i.e. above 10000 points, the cost of writing data as individual datapoints starts to become important.\n"
   ]
  },
  {
   "cell_type": "markdown",
   "metadata": {},
   "source": [
    "### Case2: Long experiment time "
   ]
  },
  {
   "cell_type": "code",
   "execution_count": 7,
   "metadata": {
    "execution": {
     "iopub.execute_input": "2020-10-26T11:59:35.445098Z",
     "iopub.status.busy": "2020-10-26T11:59:35.444440Z",
     "iopub.status.idle": "2020-10-26T12:00:39.616459Z",
     "shell.execute_reply": "2020-10-26T12:00:39.616957Z"
    }
   },
   "outputs": [
    {
     "name": "stdout",
     "output_type": "stream",
     "text": [
      "Starting experimental run with id: 15. \n",
      "Starting experimental run with id: 16. \n",
      "Starting experimental run with id: 17. \n"
     ]
    },
    {
     "name": "stdout",
     "output_type": "stream",
     "text": [
      "Starting experimental run with id: 18. \n",
      "Starting experimental run with id: 19. \n"
     ]
    },
    {
     "name": "stdout",
     "output_type": "stream",
     "text": [
      "Starting experimental run with id: 20. \n"
     ]
    },
    {
     "name": "stdout",
     "output_type": "stream",
     "text": [
      "Starting experimental run with id: 21. \n"
     ]
    },
    {
     "name": "stdout",
     "output_type": "stream",
     "text": [
      "Starting experimental run with id: 22. \n"
     ]
    },
    {
     "name": "stdout",
     "output_type": "stream",
     "text": [
      "Starting experimental run with id: 23. \n"
     ]
    },
    {
     "name": "stdout",
     "output_type": "stream",
     "text": [
      "Starting experimental run with id: 24. \n"
     ]
    },
    {
     "name": "stdout",
     "output_type": "stream",
     "text": [
      "Starting experimental run with id: 25. \n"
     ]
    },
    {
     "name": "stdout",
     "output_type": "stream",
     "text": [
      "Starting experimental run with id: 26. \n"
     ]
    },
    {
     "name": "stdout",
     "output_type": "stream",
     "text": [
      "Starting experimental run with id: 27. \n"
     ]
    },
    {
     "name": "stdout",
     "output_type": "stream",
     "text": [
      "Starting experimental run with id: 28. \n"
     ]
    }
   ],
   "source": [
    "sizes = [1,500,1000,2000,3000,4000,5000]\n",
    "nreps = 100\n",
    "t_numeric = []\n",
    "t_numeric_add = []\n",
    "t_numeric_run_ids = []\n",
    "t_array = []\n",
    "t_array_add = []\n",
    "t_array_run_ids = []\n",
    "for size in sizes:\n",
    "    tn, tna, run_id_n =  insert_data('numeric', size, nreps=nreps)\n",
    "    t_numeric.append(tn)\n",
    "    t_numeric_add.append(tna)\n",
    "    t_numeric_run_ids.append(run_id_n)\n",
    "\n",
    "    ta, taa, run_id_a =  insert_data('array', size, nreps=nreps)\n",
    "    t_array.append(ta)\n",
    "    t_array_add.append(taa)\n",
    "    t_array_run_ids.append(run_id_a)"
   ]
  },
  {
   "cell_type": "code",
   "execution_count": 8,
   "metadata": {
    "execution": {
     "iopub.execute_input": "2020-10-26T12:00:39.640649Z",
     "iopub.status.busy": "2020-10-26T12:00:39.638472Z",
     "iopub.status.idle": "2020-10-26T12:00:39.874099Z",
     "shell.execute_reply": "2020-10-26T12:00:39.874586Z"
    },
    "scrolled": true
   },
   "outputs": [
    {
     "data": {
      "image/png": "[encoded data removed]",
      "text/plain": [
       "<Figure size 432x288 with 1 Axes>"
      ]
     },
     "metadata": {
      "needs_background": "light"
     },
     "output_type": "display_data"
    }
   ],
   "source": [
    "fig, ax = plt.subplots(1,1)\n",
    "ax.plot(sizes, t_numeric, 'o-', label='Inserting row-by-row')\n",
    "ax.plot(sizes, t_numeric_add, 'o-', label='Inserting row-by-row: add_result only')\n",
    "ax.plot(sizes, t_array, 'd-', label='Inserting as binary blob')\n",
    "ax.plot(sizes, t_array_add, 'd-', label='Inserting as binary blob: add_result only')\n",
    "ax.legend()\n",
    "ax.set_xlabel('Array length')\n",
    "ax.set_ylabel('Time (s)')\n",
    "fig.tight_layout()"
   ]
  },
  {
   "cell_type": "markdown",
   "metadata": {},
   "source": [
    "However, as we increase the length of the experiment, as seen here by repeating the insertion 100 times, we see a big difference between inserting values of the data row-by-row and inserting it as a binary blob."
   ]
  },
  {
   "cell_type": "markdown",
   "metadata": {},
   "source": [
    "## Loading the data "
   ]
  },
  {
   "cell_type": "code",
   "execution_count": 9,
   "metadata": {
    "execution": {
     "iopub.execute_input": "2020-10-26T12:00:39.878273Z",
     "iopub.status.busy": "2020-10-26T12:00:39.877231Z",
     "iopub.status.idle": "2020-10-26T12:00:39.881815Z",
     "shell.execute_reply": "2020-10-26T12:00:39.881308Z"
    }
   },
   "outputs": [],
   "source": [
    "from qcodes.dataset.data_set import load_by_id\n",
    "from qcodes.dataset.data_export import get_data_by_id"
   ]
  },
  {
   "cell_type": "markdown",
   "metadata": {},
   "source": [
    "As usual you can load the data by using the ``load_by_id`` function but you will notice that the different storage methods\n",
    "are reflected in shape of the data as it is retrieved. "
   ]
  },
  {
   "cell_type": "code",
   "execution_count": 10,
   "metadata": {
    "execution": {
     "iopub.execute_input": "2020-10-26T12:00:39.886663Z",
     "iopub.status.busy": "2020-10-26T12:00:39.885334Z",
     "iopub.status.idle": "2020-10-26T12:00:39.887342Z",
     "shell.execute_reply": "2020-10-26T12:00:39.887851Z"
    }
   },
   "outputs": [],
   "source": [
    "run_id_n = t_numeric_run_ids[0]\n",
    "run_id_a = t_array_run_ids[0]"
   ]
  },
  {
   "cell_type": "code",
   "execution_count": 11,
   "metadata": {
    "execution": {
     "iopub.execute_input": "2020-10-26T12:00:39.891880Z",
     "iopub.status.busy": "2020-10-26T12:00:39.891251Z",
     "iopub.status.idle": "2020-10-26T12:00:39.901394Z",
     "shell.execute_reply": "2020-10-26T12:00:39.901924Z"
    },
    "scrolled": true
   },
   "outputs": [
    {
     "data": {
      "text/plain": [
       "{'x1': {'x1': array([0.74766748, 0.74766748, 0.60617748, 0.60617748, 0.32316159,\n",
       "         0.32316159, 0.71616244, 0.71616244, 0.46666688, 0.46666688,\n",
       "         0.6526016 , 0.6526016 , 0.08290247, 0.08290247, 0.26187631,\n",
       "         0.26187631, 0.48422214, 0.48422214, 0.30756709, 0.30756709,\n",
       "         0.38472978, 0.38472978, 0.11883135, 0.11883135, 0.70390276,\n",
       "         0.70390276, 0.99917035, 0.99917035, 0.4287053 , 0.4287053 ,\n",
       "         0.09603841, 0.09603841, 0.21160552, 0.21160552, 0.30019677,\n",
       "         0.30019677, 0.35229926, 0.35229926, 0.70284407, 0.70284407,\n",
       "         0.50845416, 0.50845416, 0.92682645, 0.92682645, 0.97336698,\n",
       "         0.97336698, 0.98222559, 0.98222559, 0.22206337, 0.22206337,\n",
       "         0.2740916 , 0.2740916 , 0.81740173, 0.81740173, 0.1399677 ,\n",
       "         0.1399677 , 0.49272492, 0.49272492, 0.22838877, 0.22838877,\n",
       "         0.9131775 , 0.9131775 , 0.25382537, 0.25382537, 0.02198139,\n",
       "         0.02198139, 0.74804264, 0.74804264, 0.12683671, 0.12683671,\n",
       "         0.75697512, 0.75697512, 0.92819827, 0.92819827, 0.97405119,\n",
       "         0.97405119, 0.88978623, 0.88978623, 0.80270004, 0.80270004,\n",
       "         0.62636975, 0.62636975, 0.49711653, 0.49711653, 0.32063196,\n",
       "         0.32063196, 0.889918  , 0.889918  , 0.49174348, 0.49174348,\n",
       "         0.18601502, 0.18601502, 0.17572664, 0.17572664, 0.49931891,\n",
       "         0.49931891, 0.73591418, 0.73591418, 0.50439137, 0.50439137,\n",
       "         0.86054435, 0.86054435, 0.59465769, 0.59465769, 0.61280237,\n",
       "         0.61280237, 0.97561867, 0.97561867, 0.24851003, 0.24851003,\n",
       "         0.96250068, 0.96250068, 0.8519291 , 0.8519291 , 0.55482833,\n",
       "         0.55482833, 0.78653341, 0.78653341, 0.60614362, 0.60614362,\n",
       "         0.90496767, 0.90496767, 0.18120185, 0.18120185, 0.33364573,\n",
       "         0.33364573, 0.27252691, 0.27252691, 0.99408498, 0.99408498,\n",
       "         0.54301682, 0.54301682, 0.83960013, 0.83960013, 0.04307931,\n",
       "         0.04307931, 0.13759251, 0.13759251, 0.75454984, 0.75454984,\n",
       "         0.60770915, 0.60770915, 0.06808285, 0.06808285, 0.3411274 ,\n",
       "         0.3411274 , 0.78767115, 0.78767115, 0.76340626, 0.76340626,\n",
       "         0.44329514, 0.44329514, 0.35226019, 0.35226019, 0.16091284,\n",
       "         0.16091284, 0.72481395, 0.72481395, 0.49114838, 0.49114838,\n",
       "         0.81681431, 0.81681431, 0.87907133, 0.87907133, 0.75346501,\n",
       "         0.75346501, 0.96356207, 0.96356207, 0.18637564, 0.18637564,\n",
       "         0.41219634, 0.41219634, 0.31853556, 0.31853556, 0.78304304,\n",
       "         0.78304304, 0.24699274, 0.24699274, 0.35249026, 0.35249026,\n",
       "         0.92659576, 0.92659576, 0.70261417, 0.70261417, 0.67695402,\n",
       "         0.67695402, 0.9947083 , 0.9947083 , 0.1169778 , 0.1169778 ,\n",
       "         0.91903354, 0.91903354, 0.36393768, 0.36393768, 0.50360447,\n",
       "         0.50360447, 0.92965265, 0.92965265, 0.84510817, 0.84510817])}}"
      ]
     },
     "execution_count": 1,
     "metadata": {},
     "output_type": "execute_result"
    }
   ],
   "source": [
    "ds = load_by_id(run_id_n)\n",
    "ds.get_parameter_data('x1')"
   ]
  },
  {
   "cell_type": "markdown",
   "metadata": {},
   "source": [
    "And a dataset stored as binary arrays"
   ]
  },
  {
   "cell_type": "code",
   "execution_count": 12,
   "metadata": {
    "execution": {
     "iopub.execute_input": "2020-10-26T12:00:39.905726Z",
     "iopub.status.busy": "2020-10-26T12:00:39.905112Z",
     "iopub.status.idle": "2020-10-26T12:00:39.969668Z",
     "shell.execute_reply": "2020-10-26T12:00:39.970192Z"
    },
    "scrolled": true
   },
   "outputs": [
    {
     "data": {
      "text/plain": [
       "{'x1': {'x1': array([[0.77158899],\n",
       "         [0.77158899],\n",
       "         [0.86153667],\n",
       "         [0.86153667],\n",
       "         [0.98122769],\n",
       "         [0.98122769],\n",
       "         [0.26519819],\n",
       "         [0.26519819],\n",
       "         [0.86817857],\n",
       "         [0.86817857],\n",
       "         [0.19971708],\n",
       "         [0.19971708],\n",
       "         [0.57864075],\n",
       "         [0.57864075],\n",
       "         [0.36151409],\n",
       "         [0.36151409],\n",
       "         [0.10787959],\n",
       "         [0.10787959],\n",
       "         [0.32999902],\n",
       "         [0.32999902],\n",
       "         [0.77557661],\n",
       "         [0.77557661],\n",
       "         [0.82006074],\n",
       "         [0.82006074],\n",
       "         [0.19223671],\n",
       "         [0.19223671],\n",
       "         [0.6809337 ],\n",
       "         [0.6809337 ],\n",
       "         [0.74699397],\n",
       "         [0.74699397],\n",
       "         [0.32250159],\n",
       "         [0.32250159],\n",
       "         [0.59512165],\n",
       "         [0.59512165],\n",
       "         [0.25726943],\n",
       "         [0.25726943],\n",
       "         [0.59651839],\n",
       "         [0.59651839],\n",
       "         [0.22245035],\n",
       "         [0.22245035],\n",
       "         [0.74725972],\n",
       "         [0.74725972],\n",
       "         [0.66226512],\n",
       "         [0.66226512],\n",
       "         [0.21468278],\n",
       "         [0.21468278],\n",
       "         [0.28107744],\n",
       "         [0.28107744],\n",
       "         [0.20403789],\n",
       "         [0.20403789],\n",
       "         [0.57100323],\n",
       "         [0.57100323],\n",
       "         [0.57935193],\n",
       "         [0.57935193],\n",
       "         [0.11072019],\n",
       "         [0.11072019],\n",
       "         [0.61557323],\n",
       "         [0.61557323],\n",
       "         [0.55108807],\n",
       "         [0.55108807],\n",
       "         [0.88758188],\n",
       "         [0.88758188],\n",
       "         [0.45694118],\n",
       "         [0.45694118],\n",
       "         [0.14262158],\n",
       "         [0.14262158],\n",
       "         [0.23023019],\n",
       "         [0.23023019],\n",
       "         [0.91720495],\n",
       "         [0.91720495],\n",
       "         [0.99752668],\n",
       "         [0.99752668],\n",
       "         [0.24275885],\n",
       "         [0.24275885],\n",
       "         [0.97277517],\n",
       "         [0.97277517],\n",
       "         [0.50954986],\n",
       "         [0.50954986],\n",
       "         [0.07080994],\n",
       "         [0.07080994],\n",
       "         [0.06719881],\n",
       "         [0.06719881],\n",
       "         [0.67880893],\n",
       "         [0.67880893],\n",
       "         [0.28665164],\n",
       "         [0.28665164],\n",
       "         [0.50954193],\n",
       "         [0.50954193],\n",
       "         [0.12940674],\n",
       "         [0.12940674],\n",
       "         [0.61880323],\n",
       "         [0.61880323],\n",
       "         [0.59827068],\n",
       "         [0.59827068],\n",
       "         [0.7760799 ],\n",
       "         [0.7760799 ],\n",
       "         [0.86563717],\n",
       "         [0.86563717],\n",
       "         [0.65915033],\n",
       "         [0.65915033],\n",
       "         [0.27465461],\n",
       "         [0.27465461],\n",
       "         [0.59357287],\n",
       "         [0.59357287],\n",
       "         [0.12743846],\n",
       "         [0.12743846],\n",
       "         [0.80127189],\n",
       "         [0.80127189],\n",
       "         [0.35682039],\n",
       "         [0.35682039],\n",
       "         [0.97279612],\n",
       "         [0.97279612],\n",
       "         [0.46871186],\n",
       "         [0.46871186],\n",
       "         [0.00124008],\n",
       "         [0.00124008],\n",
       "         [0.89834175],\n",
       "         [0.89834175],\n",
       "         [0.15154321],\n",
       "         [0.15154321],\n",
       "         [0.86228374],\n",
       "         [0.86228374],\n",
       "         [0.50131246],\n",
       "         [0.50131246],\n",
       "         [0.52448048],\n",
       "         [0.52448048],\n",
       "         [0.88433836],\n",
       "         [0.88433836],\n",
       "         [0.62532294],\n",
       "         [0.62532294],\n",
       "         [0.67230625],\n",
       "         [0.67230625],\n",
       "         [0.97989588],\n",
       "         [0.97989588],\n",
       "         [0.8891786 ],\n",
       "         [0.8891786 ],\n",
       "         [0.0739709 ],\n",
       "         [0.0739709 ],\n",
       "         [0.24350761],\n",
       "         [0.24350761],\n",
       "         [0.18751838],\n",
       "         [0.18751838],\n",
       "         [0.6329237 ],\n",
       "         [0.6329237 ],\n",
       "         [0.49886709],\n",
       "         [0.49886709],\n",
       "         [0.59897717],\n",
       "         [0.59897717],\n",
       "         [0.5933917 ],\n",
       "         [0.5933917 ],\n",
       "         [0.02770953],\n",
       "         [0.02770953],\n",
       "         [0.49077086],\n",
       "         [0.49077086],\n",
       "         [0.49847526],\n",
       "         [0.49847526],\n",
       "         [0.22877433],\n",
       "         [0.22877433],\n",
       "         [0.57286022],\n",
       "         [0.57286022],\n",
       "         [0.3480552 ],\n",
       "         [0.3480552 ],\n",
       "         [0.57919752],\n",
       "         [0.57919752],\n",
       "         [0.84870116],\n",
       "         [0.84870116],\n",
       "         [0.21306793],\n",
       "         [0.21306793],\n",
       "         [0.11673492],\n",
       "         [0.11673492],\n",
       "         [0.19555995],\n",
       "         [0.19555995],\n",
       "         [0.51587673],\n",
       "         [0.51587673],\n",
       "         [0.26430369],\n",
       "         [0.26430369],\n",
       "         [0.59340541],\n",
       "         [0.59340541],\n",
       "         [0.13894791],\n",
       "         [0.13894791],\n",
       "         [0.01631037],\n",
       "         [0.01631037],\n",
       "         [0.39607494],\n",
       "         [0.39607494],\n",
       "         [0.66519991],\n",
       "         [0.66519991],\n",
       "         [0.9942729 ],\n",
       "         [0.9942729 ],\n",
       "         [0.9516927 ],\n",
       "         [0.9516927 ],\n",
       "         [0.52134293],\n",
       "         [0.52134293],\n",
       "         [0.00707921],\n",
       "         [0.00707921],\n",
       "         [0.99703127],\n",
       "         [0.99703127],\n",
       "         [0.28766208],\n",
       "         [0.28766208],\n",
       "         [0.18452939],\n",
       "         [0.18452939]])}}"
      ]
     },
     "execution_count": 1,
     "metadata": {},
     "output_type": "execute_result"
    }
   ],
   "source": [
    "ds = load_by_id(run_id_a)\n",
    "ds.get_parameter_data('x1')"
   ]
  },
  {
   "cell_type": "code",
   "execution_count": null,
   "metadata": {},
   "outputs": [],
   "source": []
  }
 ],
 "metadata": {
  "kernelspec": {
   "display_name": "Python 3",
   "language": "python",
   "name": "python3"
  },
  "language_info": {
   "codemirror_mode": {
    "name": "ipython",
    "version": 3
   },
   "file_extension": ".py",
   "mimetype": "text/x-python",
   "name": "python",
   "nbconvert_exporter": "python",
   "pygments_lexer": "ipython3",
   "version": "3.7.7"
  },
  "nbsphinx": {
   "timeout": 600
  },
  "toc": {
   "base_numbering": 1,
   "nav_menu": {},
   "number_sections": true,
   "sideBar": true,
   "skip_h1_title": false,
   "title_cell": "Table of Contents",
   "title_sidebar": "Contents",
   "toc_cell": false,
   "toc_position": {},
   "toc_section_display": true,
   "toc_window_display": false
  },
  "varInspector": {
   "cols": {
    "lenName": 16,
    "lenType": 16,
    "lenVar": 40
   },
   "kernels_config": {
    "python": {
     "delete_cmd_postfix": "",
     "delete_cmd_prefix": "del ",
     "library": "var_list.py",
     "varRefreshCmd": "print(var_dic_list())"
    },
    "r": {
     "delete_cmd_postfix": ") ",
     "delete_cmd_prefix": "rm(",
     "library": "var_list.r",
     "varRefreshCmd": "cat(var_dic_list()) "
    }
   },
   "types_to_exclude": [
    "module",
    "function",
    "builtin_function_or_method",
    "instance",
    "_Feature"
   ],
   "window_display": false
  }
 },
 "nbformat": 4,
 "nbformat_minor": 2
}
