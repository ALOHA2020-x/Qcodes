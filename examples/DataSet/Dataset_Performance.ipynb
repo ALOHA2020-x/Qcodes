{
 "cells": [
  {
   "cell_type": "markdown",
   "metadata": {},
   "source": [
    "# DataSet Performance\n",
    "\n",
    "This notebook shows the trade-off between inserting data into a database row-by-row and as binary blobs. Inserting the data row-by-row means that we have direct access to all the data and may perform queries directly on the values of the data. On the other hand, as we shall see, this is much slower than inserting the data directly as binary blobs."
   ]
  },
  {
   "cell_type": "markdown",
   "metadata": {},
   "source": [
    "First, we choose a new location for the database to ensure that we don't add a bunch of benchmarking data to the default one."
   ]
  },
  {
   "cell_type": "code",
   "execution_count": 1,
   "metadata": {
    "execution": {
     "iopub.execute_input": "2021-04-07T12:55:38.701857Z",
     "iopub.status.busy": "2021-04-07T12:55:38.701208Z",
     "iopub.status.idle": "2021-04-07T12:55:39.834929Z",
     "shell.execute_reply": "2021-04-07T12:55:39.835491Z"
    }
   },
   "outputs": [
    {
     "name": "stdout",
     "output_type": "stream",
     "text": [
      "Logging hadn't been started.\n",
      "Activating auto-logging. Current session state plus future input saved.\n",
      "Filename       : /home/runner/.qcodes/logs/command_history.log\n",
      "Mode           : append\n",
      "Output logging : True\n",
      "Raw input log  : False\n",
      "Timestamping   : True\n",
      "State          : active\n"
     ]
    },
    {
     "name": "stdout",
     "output_type": "stream",
     "text": [
      "Qcodes Logfile : /home/runner/.qcodes/logs/210407-4486-qcodes.log\n"
     ]
    }
   ],
   "source": [
    "import os\n",
    "cwd = os.getcwd()\n",
    "import qcodes as qc\n",
    "qc.config[\"core\"][\"db_location\"] = os.path.join(cwd, 'testing.db')\n"
   ]
  },
  {
   "cell_type": "code",
   "execution_count": 2,
   "metadata": {
    "execution": {
     "iopub.execute_input": "2021-04-07T12:55:39.844497Z",
     "iopub.status.busy": "2021-04-07T12:55:39.842135Z",
     "iopub.status.idle": "2021-04-07T12:55:40.126046Z",
     "shell.execute_reply": "2021-04-07T12:55:40.125137Z"
    }
   },
   "outputs": [],
   "source": [
    "%matplotlib inline\n",
    "import time\n",
    "import matplotlib.pyplot as plt\n",
    "import numpy as np\n",
    "\n",
    "import qcodes as qc\n",
    "from qcodes.instrument.parameter import ManualParameter\n",
    "from qcodes.dataset.experiment_container import (Experiment,\n",
    "                                                 load_last_experiment,\n",
    "                                                 new_experiment)\n",
    "from qcodes.dataset.sqlite.database import initialise_database\n",
    "from qcodes import load_or_create_experiment\n",
    "from qcodes.dataset.measurements import Measurement"
   ]
  },
  {
   "cell_type": "code",
   "execution_count": 3,
   "metadata": {
    "execution": {
     "iopub.execute_input": "2021-04-07T12:55:40.130425Z",
     "iopub.status.busy": "2021-04-07T12:55:40.129599Z",
     "iopub.status.idle": "2021-04-07T12:55:40.209035Z",
     "shell.execute_reply": "2021-04-07T12:55:40.209656Z"
    }
   },
   "outputs": [
    {
     "name": "stdout",
     "output_type": "stream",
     "text": [
      "\r",
      "0it [00:00, ?it/s]"
     ]
    },
    {
     "name": "stdout",
     "output_type": "stream",
     "text": [
      "\r",
      "Upgrading database; v0 -> v1: : 0it [00:00, ?it/s]"
     ]
    },
    {
     "name": "stdout",
     "output_type": "stream",
     "text": [
      "\r",
      "Upgrading database; v0 -> v1: : 0it [00:00, ?it/s]"
     ]
    },
    {
     "name": "stdout",
     "output_type": "stream",
     "text": [
      "\n",
      "\r",
      "  0%|          | 0/1 [00:00<?, ?it/s]"
     ]
    },
    {
     "name": "stdout",
     "output_type": "stream",
     "text": [
      "\r",
      "Upgrading database; v1 -> v2:   0%|          | 0/1 [00:00<?, ?it/s]"
     ]
    },
    {
     "name": "stdout",
     "output_type": "stream",
     "text": [
      "\r",
      "Upgrading database; v1 -> v2: 100%|██████████| 1/1 [00:00<00:00, 397.11it/s]"
     ]
    },
    {
     "name": "stdout",
     "output_type": "stream",
     "text": [
      "\n",
      "\r",
      "0it [00:00, ?it/s]"
     ]
    },
    {
     "name": "stdout",
     "output_type": "stream",
     "text": [
      "\r",
      "Upgrading database; v2 -> v3: : 0it [00:00, ?it/s]"
     ]
    },
    {
     "name": "stdout",
     "output_type": "stream",
     "text": [
      "\r",
      "Upgrading database; v2 -> v3: : 0it [00:00, ?it/s]"
     ]
    },
    {
     "name": "stdout",
     "output_type": "stream",
     "text": [
      "\n",
      "\r",
      "0it [00:00, ?it/s]"
     ]
    },
    {
     "name": "stdout",
     "output_type": "stream",
     "text": [
      "\r",
      "Upgrading database; v3 -> v4: : 0it [00:00, ?it/s]"
     ]
    },
    {
     "name": "stdout",
     "output_type": "stream",
     "text": [
      "\r",
      "Upgrading database; v3 -> v4: : 0it [00:00, ?it/s]"
     ]
    },
    {
     "name": "stdout",
     "output_type": "stream",
     "text": [
      "\n",
      "\r",
      "  0%|          | 0/1 [00:00<?, ?it/s]"
     ]
    },
    {
     "name": "stdout",
     "output_type": "stream",
     "text": [
      "\r",
      "Upgrading database; v4 -> v5:   0%|          | 0/1 [00:00<?, ?it/s]"
     ]
    },
    {
     "name": "stdout",
     "output_type": "stream",
     "text": [
      "\r",
      "Upgrading database; v4 -> v5: 100%|██████████| 1/1 [00:00<00:00, 401.75it/s]"
     ]
    },
    {
     "name": "stdout",
     "output_type": "stream",
     "text": [
      "\n",
      "\r",
      "0it [00:00, ?it/s]"
     ]
    },
    {
     "name": "stdout",
     "output_type": "stream",
     "text": [
      "\r",
      "Upgrading database; v5 -> v6: : 0it [00:00, ?it/s]"
     ]
    },
    {
     "name": "stdout",
     "output_type": "stream",
     "text": [
      "\r",
      "Upgrading database; v5 -> v6: : 0it [00:00, ?it/s]"
     ]
    },
    {
     "name": "stdout",
     "output_type": "stream",
     "text": [
      "\n",
      "\r",
      "  0%|          | 0/1 [00:00<?, ?it/s]"
     ]
    },
    {
     "name": "stdout",
     "output_type": "stream",
     "text": [
      "\r",
      "Upgrading database; v6 -> v7:   0%|          | 0/1 [00:00<?, ?it/s]"
     ]
    },
    {
     "name": "stdout",
     "output_type": "stream",
     "text": [
      "\r",
      "Upgrading database; v6 -> v7: 100%|██████████| 1/1 [00:00<00:00, 315.36it/s]"
     ]
    },
    {
     "name": "stdout",
     "output_type": "stream",
     "text": [
      "\n",
      "\r",
      "  0%|          | 0/1 [00:00<?, ?it/s]"
     ]
    },
    {
     "name": "stdout",
     "output_type": "stream",
     "text": [
      "\r",
      "Upgrading database; v7 -> v8:   0%|          | 0/1 [00:00<?, ?it/s]"
     ]
    },
    {
     "name": "stdout",
     "output_type": "stream",
     "text": [
      "\r",
      "Upgrading database; v7 -> v8: 100%|██████████| 1/1 [00:00<00:00, 516.60it/s]"
     ]
    },
    {
     "name": "stdout",
     "output_type": "stream",
     "text": [
      "\n",
      "\r",
      "  0%|          | 0/1 [00:00<?, ?it/s]"
     ]
    },
    {
     "name": "stdout",
     "output_type": "stream",
     "text": [
      "\r",
      "Upgrading database; v8 -> v9:   0%|          | 0/1 [00:00<?, ?it/s]"
     ]
    },
    {
     "name": "stdout",
     "output_type": "stream",
     "text": [
      "\r",
      "Upgrading database; v8 -> v9: 100%|██████████| 1/1 [00:00<00:00, 539.81it/s]"
     ]
    },
    {
     "name": "stdout",
     "output_type": "stream",
     "text": [
      "\n"
     ]
    }
   ],
   "source": [
    "initialise_database()\n",
    "exp = load_or_create_experiment(experiment_name='tutorial_exp', sample_name=\"no sample\")"
   ]
  },
  {
   "cell_type": "markdown",
   "metadata": {},
   "source": [
    "Here, we define a simple function to benchmark the time it takes to insert n points with either numeric or array data type.\n",
    "We will compare both the time used to call ``add_result`` and the time used for the full measurement."
   ]
  },
  {
   "cell_type": "code",
   "execution_count": 4,
   "metadata": {
    "execution": {
     "iopub.execute_input": "2021-04-07T12:55:40.218385Z",
     "iopub.status.busy": "2021-04-07T12:55:40.217709Z",
     "iopub.status.idle": "2021-04-07T12:55:40.221487Z",
     "shell.execute_reply": "2021-04-07T12:55:40.222023Z"
    }
   },
   "outputs": [],
   "source": [
    "def insert_data(paramtype, npoints, nreps=1):\n",
    "\n",
    "    meas = Measurement(exp=exp)\n",
    "\n",
    "    x1 = ManualParameter('x1')\n",
    "    x2 = ManualParameter('x2')\n",
    "    x3 = ManualParameter('x3')\n",
    "    y1 = ManualParameter('y1')\n",
    "    y2 = ManualParameter('y2')\n",
    "\n",
    "    meas.register_parameter(x1, paramtype=paramtype)\n",
    "    meas.register_parameter(x2, paramtype=paramtype)\n",
    "    meas.register_parameter(x3, paramtype=paramtype)\n",
    "    meas.register_parameter(y1, setpoints=[x1, x2, x3],\n",
    "                            paramtype=paramtype)\n",
    "    meas.register_parameter(y2, setpoints=[x1, x2, x3],\n",
    "                            paramtype=paramtype)\n",
    "    start = time.perf_counter()\n",
    "    with meas.run() as datasaver:\n",
    "        start_adding = time.perf_counter()\n",
    "        for i in range(nreps):\n",
    "            datasaver.add_result((x1, np.random.rand(npoints)),\n",
    "                                 (x2, np.random.rand(npoints)),\n",
    "                                 (x3, np.random.rand(npoints)),\n",
    "                                 (y1, np.random.rand(npoints)),\n",
    "                                 (y2, np.random.rand(npoints)))\n",
    "        stop_adding = time.perf_counter()\n",
    "        run_id = datasaver.run_id\n",
    "    stop = time.perf_counter()\n",
    "    tot_time = stop - start\n",
    "    add_time = stop_adding - start_adding\n",
    "    return tot_time, add_time, run_id"
   ]
  },
  {
   "cell_type": "markdown",
   "metadata": {},
   "source": [
    "## Comparison between numeric/array data and binary blob"
   ]
  },
  {
   "cell_type": "markdown",
   "metadata": {},
   "source": [
    "### Case1: Short experiment time"
   ]
  },
  {
   "cell_type": "code",
   "execution_count": 5,
   "metadata": {
    "execution": {
     "iopub.execute_input": "2021-04-07T12:55:40.228943Z",
     "iopub.status.busy": "2021-04-07T12:55:40.227834Z",
     "iopub.status.idle": "2021-04-07T12:55:41.105626Z",
     "shell.execute_reply": "2021-04-07T12:55:41.106583Z"
    }
   },
   "outputs": [
    {
     "name": "stdout",
     "output_type": "stream",
     "text": [
      "Starting experimental run with id: 1. \n",
      "Starting experimental run with id: 2. \n",
      "Starting experimental run with id: 3. \n",
      "Starting experimental run with id: 4. \n",
      "Starting experimental run with id: 5. \n"
     ]
    },
    {
     "name": "stdout",
     "output_type": "stream",
     "text": [
      "Starting experimental run with id: 6. \n"
     ]
    },
    {
     "name": "stdout",
     "output_type": "stream",
     "text": [
      "Starting experimental run with id: 7. \n"
     ]
    },
    {
     "name": "stdout",
     "output_type": "stream",
     "text": [
      "Starting experimental run with id: 8. \n",
      "Starting experimental run with id: 9. \n"
     ]
    },
    {
     "name": "stdout",
     "output_type": "stream",
     "text": [
      "Starting experimental run with id: 10. \n",
      "Starting experimental run with id: 11. \n"
     ]
    },
    {
     "name": "stdout",
     "output_type": "stream",
     "text": [
      "Starting experimental run with id: 12. \n",
      "Starting experimental run with id: 13. \n"
     ]
    },
    {
     "name": "stdout",
     "output_type": "stream",
     "text": [
      "Starting experimental run with id: 14. \n"
     ]
    }
   ],
   "source": [
    "sizes = [1,500,1000,2000,3000,4000,5000]\n",
    "t_numeric = []\n",
    "t_numeric_add = []\n",
    "t_array = []\n",
    "t_array_add = []\n",
    "for size in sizes:\n",
    "    tn, tna, run_id_n =  insert_data('numeric', size)\n",
    "    t_numeric.append(tn)\n",
    "    t_numeric_add.append(tna)\n",
    "\n",
    "    ta, taa, run_id_a =  insert_data('array', size)\n",
    "    t_array.append(ta)\n",
    "    t_array_add.append(taa)"
   ]
  },
  {
   "cell_type": "code",
   "execution_count": 6,
   "metadata": {
    "execution": {
     "iopub.execute_input": "2021-04-07T12:55:41.132095Z",
     "iopub.status.busy": "2021-04-07T12:55:41.127598Z",
     "iopub.status.idle": "2021-04-07T12:55:41.327512Z",
     "shell.execute_reply": "2021-04-07T12:55:41.328022Z"
    }
   },
   "outputs": [
    {
     "data": {
      "image/png": "[encoded data removed]",
      "text/plain": [
       "<Figure size 432x288 with 1 Axes>"
      ]
     },
     "metadata": {
      "needs_background": "light"
     },
     "output_type": "display_data"
    }
   ],
   "source": [
    "fig, ax = plt.subplots(1,1)\n",
    "ax.plot(sizes, t_numeric, 'o-', label='Inserting row-by-row')\n",
    "ax.plot(sizes, t_numeric_add, 'o-', label='Inserting row-by-row: add_result only')\n",
    "ax.plot(sizes, t_array, 'd-', label='Inserting as binary blob')\n",
    "ax.plot(sizes, t_array_add, 'd-', label='Inserting as binary blob: add_result only')\n",
    "ax.legend()\n",
    "ax.set_xlabel('Array length')\n",
    "ax.set_ylabel('Time (s)')\n",
    "fig.tight_layout()"
   ]
  },
  {
   "cell_type": "markdown",
   "metadata": {},
   "source": [
    "As shown in the latter figure, the time to setup and and close the experiment is approximately 0.4 sec. In case of small array sizes, the difference between inserting values of data as arrays and inserting them row-by-row is relatively unimportant. At larger array sizes, i.e. above 10000 points, the cost of writing data as individual datapoints starts to become important.\n"
   ]
  },
  {
   "cell_type": "markdown",
   "metadata": {},
   "source": [
    "### Case2: Long experiment time "
   ]
  },
  {
   "cell_type": "code",
   "execution_count": 7,
   "metadata": {
    "execution": {
     "iopub.execute_input": "2021-04-07T12:55:41.335926Z",
     "iopub.status.busy": "2021-04-07T12:55:41.334734Z",
     "iopub.status.idle": "2021-04-07T12:56:41.662790Z",
     "shell.execute_reply": "2021-04-07T12:56:41.661772Z"
    }
   },
   "outputs": [
    {
     "name": "stdout",
     "output_type": "stream",
     "text": [
      "Starting experimental run with id: 15. \n",
      "Starting experimental run with id: 16. \n"
     ]
    },
    {
     "name": "stdout",
     "output_type": "stream",
     "text": [
      "Starting experimental run with id: 17. \n"
     ]
    },
    {
     "name": "stdout",
     "output_type": "stream",
     "text": [
      "Starting experimental run with id: 18. \n"
     ]
    },
    {
     "name": "stdout",
     "output_type": "stream",
     "text": [
      "Starting experimental run with id: 19. \n"
     ]
    },
    {
     "name": "stdout",
     "output_type": "stream",
     "text": [
      "Starting experimental run with id: 20. \n"
     ]
    },
    {
     "name": "stdout",
     "output_type": "stream",
     "text": [
      "Starting experimental run with id: 21. \n"
     ]
    },
    {
     "name": "stdout",
     "output_type": "stream",
     "text": [
      "Starting experimental run with id: 22. \n"
     ]
    },
    {
     "name": "stdout",
     "output_type": "stream",
     "text": [
      "Starting experimental run with id: 23. \n"
     ]
    },
    {
     "name": "stdout",
     "output_type": "stream",
     "text": [
      "Starting experimental run with id: 24. \n"
     ]
    },
    {
     "name": "stdout",
     "output_type": "stream",
     "text": [
      "Starting experimental run with id: 25. \n"
     ]
    },
    {
     "name": "stdout",
     "output_type": "stream",
     "text": [
      "Starting experimental run with id: 26. \n"
     ]
    },
    {
     "name": "stdout",
     "output_type": "stream",
     "text": [
      "Starting experimental run with id: 27. \n"
     ]
    },
    {
     "name": "stdout",
     "output_type": "stream",
     "text": [
      "Starting experimental run with id: 28. \n"
     ]
    }
   ],
   "source": [
    "sizes = [1,500,1000,2000,3000,4000,5000]\n",
    "nreps = 100\n",
    "t_numeric = []\n",
    "t_numeric_add = []\n",
    "t_numeric_run_ids = []\n",
    "t_array = []\n",
    "t_array_add = []\n",
    "t_array_run_ids = []\n",
    "for size in sizes:\n",
    "    tn, tna, run_id_n =  insert_data('numeric', size, nreps=nreps)\n",
    "    t_numeric.append(tn)\n",
    "    t_numeric_add.append(tna)\n",
    "    t_numeric_run_ids.append(run_id_n)\n",
    "\n",
    "    ta, taa, run_id_a =  insert_data('array', size, nreps=nreps)\n",
    "    t_array.append(ta)\n",
    "    t_array_add.append(taa)\n",
    "    t_array_run_ids.append(run_id_a)"
   ]
  },
  {
   "cell_type": "code",
   "execution_count": 8,
   "metadata": {
    "execution": {
     "iopub.execute_input": "2021-04-07T12:56:41.716516Z",
     "iopub.status.busy": "2021-04-07T12:56:41.715042Z",
     "iopub.status.idle": "2021-04-07T12:56:41.901114Z",
     "shell.execute_reply": "2021-04-07T12:56:41.901936Z"
    },
    "scrolled": true
   },
   "outputs": [
    {
     "data": {
      "image/png": "[encoded data removed]",
      "text/plain": [
       "<Figure size 432x288 with 1 Axes>"
      ]
     },
     "metadata": {
      "needs_background": "light"
     },
     "output_type": "display_data"
    }
   ],
   "source": [
    "fig, ax = plt.subplots(1,1)\n",
    "ax.plot(sizes, t_numeric, 'o-', label='Inserting row-by-row')\n",
    "ax.plot(sizes, t_numeric_add, 'o-', label='Inserting row-by-row: add_result only')\n",
    "ax.plot(sizes, t_array, 'd-', label='Inserting as binary blob')\n",
    "ax.plot(sizes, t_array_add, 'd-', label='Inserting as binary blob: add_result only')\n",
    "ax.legend()\n",
    "ax.set_xlabel('Array length')\n",
    "ax.set_ylabel('Time (s)')\n",
    "fig.tight_layout()"
   ]
  },
  {
   "cell_type": "markdown",
   "metadata": {},
   "source": [
    "However, as we increase the length of the experiment, as seen here by repeating the insertion 100 times, we see a big difference between inserting values of the data row-by-row and inserting it as a binary blob."
   ]
  },
  {
   "cell_type": "markdown",
   "metadata": {},
   "source": [
    "## Loading the data "
   ]
  },
  {
   "cell_type": "code",
   "execution_count": 9,
   "metadata": {
    "execution": {
     "iopub.execute_input": "2021-04-07T12:56:41.909861Z",
     "iopub.status.busy": "2021-04-07T12:56:41.909208Z",
     "iopub.status.idle": "2021-04-07T12:56:41.910695Z",
     "shell.execute_reply": "2021-04-07T12:56:41.911248Z"
    }
   },
   "outputs": [],
   "source": [
    "from qcodes.dataset.data_set import load_by_id\n",
    "from qcodes.dataset.data_export import get_data_by_id"
   ]
  },
  {
   "cell_type": "markdown",
   "metadata": {},
   "source": [
    "As usual you can load the data by using the ``load_by_id`` function but you will notice that the different storage methods\n",
    "are reflected in shape of the data as it is retrieved. "
   ]
  },
  {
   "cell_type": "code",
   "execution_count": 10,
   "metadata": {
    "execution": {
     "iopub.execute_input": "2021-04-07T12:56:41.915300Z",
     "iopub.status.busy": "2021-04-07T12:56:41.914654Z",
     "iopub.status.idle": "2021-04-07T12:56:41.919096Z",
     "shell.execute_reply": "2021-04-07T12:56:41.918232Z"
    }
   },
   "outputs": [],
   "source": [
    "run_id_n = t_numeric_run_ids[0]\n",
    "run_id_a = t_array_run_ids[0]"
   ]
  },
  {
   "cell_type": "code",
   "execution_count": 11,
   "metadata": {
    "execution": {
     "iopub.execute_input": "2021-04-07T12:56:41.922930Z",
     "iopub.status.busy": "2021-04-07T12:56:41.922283Z",
     "iopub.status.idle": "2021-04-07T12:56:41.932374Z",
     "shell.execute_reply": "2021-04-07T12:56:41.932941Z"
    },
    "scrolled": true
   },
   "outputs": [
    {
     "data": {
      "text/plain": [
       "{'x1': {'x1': array([0.60638915, 0.60638915, 0.96262217, 0.96262217, 0.01509526,\n",
       "         0.01509526, 0.06867721, 0.06867721, 0.54950894, 0.54950894,\n",
       "         0.84911986, 0.84911986, 0.57903006, 0.57903006, 0.87208385,\n",
       "         0.87208385, 0.35109395, 0.35109395, 0.39590672, 0.39590672,\n",
       "         0.69471763, 0.69471763, 0.5617703 , 0.5617703 , 0.46266962,\n",
       "         0.46266962, 0.8497805 , 0.8497805 , 0.53988187, 0.53988187,\n",
       "         0.15600322, 0.15600322, 0.87092939, 0.87092939, 0.17493284,\n",
       "         0.17493284, 0.78531742, 0.78531742, 0.77559087, 0.77559087,\n",
       "         0.59327078, 0.59327078, 0.55351272, 0.55351272, 0.371067  ,\n",
       "         0.371067  , 0.00459248, 0.00459248, 0.07785931, 0.07785931,\n",
       "         0.77654462, 0.77654462, 0.54196061, 0.54196061, 0.72801275,\n",
       "         0.72801275, 0.81163222, 0.81163222, 0.42001012, 0.42001012,\n",
       "         0.61048233, 0.61048233, 0.07765639, 0.07765639, 0.1394039 ,\n",
       "         0.1394039 , 0.58782032, 0.58782032, 0.79788806, 0.79788806,\n",
       "         0.27670186, 0.27670186, 0.64583102, 0.64583102, 0.53229374,\n",
       "         0.53229374, 0.31187019, 0.31187019, 0.09133593, 0.09133593,\n",
       "         0.21339389, 0.21339389, 0.72616602, 0.72616602, 0.54135726,\n",
       "         0.54135726, 0.45762583, 0.45762583, 0.69768487, 0.69768487,\n",
       "         0.74969348, 0.74969348, 0.84283816, 0.84283816, 0.02609049,\n",
       "         0.02609049, 0.69264069, 0.69264069, 0.65944935, 0.65944935,\n",
       "         0.21910613, 0.21910613, 0.75072662, 0.75072662, 0.00819417,\n",
       "         0.00819417, 0.25352383, 0.25352383, 0.67731239, 0.67731239,\n",
       "         0.489829  , 0.489829  , 0.57160772, 0.57160772, 0.31155124,\n",
       "         0.31155124, 0.5096727 , 0.5096727 , 0.76718702, 0.76718702,\n",
       "         0.99956158, 0.99956158, 0.45287934, 0.45287934, 0.91105005,\n",
       "         0.91105005, 0.579331  , 0.579331  , 0.05253476, 0.05253476,\n",
       "         0.48496413, 0.48496413, 0.56490727, 0.56490727, 0.82145629,\n",
       "         0.82145629, 0.1865017 , 0.1865017 , 0.60273306, 0.60273306,\n",
       "         0.60750104, 0.60750104, 0.7324032 , 0.7324032 , 0.37694365,\n",
       "         0.37694365, 0.29996016, 0.29996016, 0.60152784, 0.60152784,\n",
       "         0.79200079, 0.79200079, 0.21555437, 0.21555437, 0.79660243,\n",
       "         0.79660243, 0.58659604, 0.58659604, 0.252474  , 0.252474  ,\n",
       "         0.36584104, 0.36584104, 0.83619402, 0.83619402, 0.38033643,\n",
       "         0.38033643, 0.1892558 , 0.1892558 , 0.39455647, 0.39455647,\n",
       "         0.79457902, 0.79457902, 0.09563654, 0.09563654, 0.94606355,\n",
       "         0.94606355, 0.8779045 , 0.8779045 , 0.22753698, 0.22753698,\n",
       "         0.93168737, 0.93168737, 0.57913544, 0.57913544, 0.83817823,\n",
       "         0.83817823, 0.52410733, 0.52410733, 0.87421027, 0.87421027,\n",
       "         0.23972126, 0.23972126, 0.27855235, 0.27855235, 0.22949697,\n",
       "         0.22949697, 0.25685177, 0.25685177, 0.82513059, 0.82513059])}}"
      ]
     },
     "execution_count": 1,
     "metadata": {},
     "output_type": "execute_result"
    }
   ],
   "source": [
    "ds = load_by_id(run_id_n)\n",
    "ds.get_parameter_data('x1')"
   ]
  },
  {
   "cell_type": "markdown",
   "metadata": {},
   "source": [
    "And a dataset stored as binary arrays"
   ]
  },
  {
   "cell_type": "code",
   "execution_count": 12,
   "metadata": {
    "execution": {
     "iopub.execute_input": "2021-04-07T12:56:41.937027Z",
     "iopub.status.busy": "2021-04-07T12:56:41.936349Z",
     "iopub.status.idle": "2021-04-07T12:56:42.005645Z",
     "shell.execute_reply": "2021-04-07T12:56:42.006186Z"
    },
    "scrolled": true
   },
   "outputs": [
    {
     "data": {
      "text/plain": [
       "{'x1': {'x1': array([[0.54055753],\n",
       "         [0.54055753],\n",
       "         [0.6119413 ],\n",
       "         [0.6119413 ],\n",
       "         [0.02049513],\n",
       "         [0.02049513],\n",
       "         [0.5622621 ],\n",
       "         [0.5622621 ],\n",
       "         [0.42815981],\n",
       "         [0.42815981],\n",
       "         [0.13278415],\n",
       "         [0.13278415],\n",
       "         [0.33955286],\n",
       "         [0.33955286],\n",
       "         [0.24088248],\n",
       "         [0.24088248],\n",
       "         [0.33089136],\n",
       "         [0.33089136],\n",
       "         [0.59703638],\n",
       "         [0.59703638],\n",
       "         [0.43485143],\n",
       "         [0.43485143],\n",
       "         [0.15257258],\n",
       "         [0.15257258],\n",
       "         [0.5873272 ],\n",
       "         [0.5873272 ],\n",
       "         [0.61971414],\n",
       "         [0.61971414],\n",
       "         [0.68123466],\n",
       "         [0.68123466],\n",
       "         [0.31154028],\n",
       "         [0.31154028],\n",
       "         [0.65285987],\n",
       "         [0.65285987],\n",
       "         [0.24712078],\n",
       "         [0.24712078],\n",
       "         [0.85861993],\n",
       "         [0.85861993],\n",
       "         [0.98408655],\n",
       "         [0.98408655],\n",
       "         [0.39114122],\n",
       "         [0.39114122],\n",
       "         [0.1791245 ],\n",
       "         [0.1791245 ],\n",
       "         [0.9741449 ],\n",
       "         [0.9741449 ],\n",
       "         [0.38461523],\n",
       "         [0.38461523],\n",
       "         [0.65201424],\n",
       "         [0.65201424],\n",
       "         [0.10351787],\n",
       "         [0.10351787],\n",
       "         [0.96304756],\n",
       "         [0.96304756],\n",
       "         [0.28080434],\n",
       "         [0.28080434],\n",
       "         [0.77442269],\n",
       "         [0.77442269],\n",
       "         [0.84927578],\n",
       "         [0.84927578],\n",
       "         [0.34189465],\n",
       "         [0.34189465],\n",
       "         [0.99652801],\n",
       "         [0.99652801],\n",
       "         [0.67414377],\n",
       "         [0.67414377],\n",
       "         [0.06205667],\n",
       "         [0.06205667],\n",
       "         [0.79881079],\n",
       "         [0.79881079],\n",
       "         [0.38475323],\n",
       "         [0.38475323],\n",
       "         [0.56297653],\n",
       "         [0.56297653],\n",
       "         [0.2108298 ],\n",
       "         [0.2108298 ],\n",
       "         [0.35392122],\n",
       "         [0.35392122],\n",
       "         [0.2218531 ],\n",
       "         [0.2218531 ],\n",
       "         [0.53282625],\n",
       "         [0.53282625],\n",
       "         [0.28406147],\n",
       "         [0.28406147],\n",
       "         [0.2971262 ],\n",
       "         [0.2971262 ],\n",
       "         [0.55891395],\n",
       "         [0.55891395],\n",
       "         [0.74652257],\n",
       "         [0.74652257],\n",
       "         [0.83679831],\n",
       "         [0.83679831],\n",
       "         [0.88755447],\n",
       "         [0.88755447],\n",
       "         [0.85189011],\n",
       "         [0.85189011],\n",
       "         [0.09764196],\n",
       "         [0.09764196],\n",
       "         [0.3514707 ],\n",
       "         [0.3514707 ],\n",
       "         [0.42737473],\n",
       "         [0.42737473],\n",
       "         [0.19754981],\n",
       "         [0.19754981],\n",
       "         [0.15714213],\n",
       "         [0.15714213],\n",
       "         [0.17337877],\n",
       "         [0.17337877],\n",
       "         [0.7676848 ],\n",
       "         [0.7676848 ],\n",
       "         [0.67225936],\n",
       "         [0.67225936],\n",
       "         [0.18403794],\n",
       "         [0.18403794],\n",
       "         [0.93110586],\n",
       "         [0.93110586],\n",
       "         [0.01018243],\n",
       "         [0.01018243],\n",
       "         [0.16290887],\n",
       "         [0.16290887],\n",
       "         [0.87535988],\n",
       "         [0.87535988],\n",
       "         [0.51418045],\n",
       "         [0.51418045],\n",
       "         [0.21750436],\n",
       "         [0.21750436],\n",
       "         [0.53882447],\n",
       "         [0.53882447],\n",
       "         [0.95763804],\n",
       "         [0.95763804],\n",
       "         [0.08627121],\n",
       "         [0.08627121],\n",
       "         [0.86347668],\n",
       "         [0.86347668],\n",
       "         [0.39029523],\n",
       "         [0.39029523],\n",
       "         [0.6680742 ],\n",
       "         [0.6680742 ],\n",
       "         [0.60057036],\n",
       "         [0.60057036],\n",
       "         [0.86637559],\n",
       "         [0.86637559],\n",
       "         [0.78660794],\n",
       "         [0.78660794],\n",
       "         [0.13040781],\n",
       "         [0.13040781],\n",
       "         [0.78568098],\n",
       "         [0.78568098],\n",
       "         [0.20845144],\n",
       "         [0.20845144],\n",
       "         [0.93920451],\n",
       "         [0.93920451],\n",
       "         [0.11665334],\n",
       "         [0.11665334],\n",
       "         [0.58366301],\n",
       "         [0.58366301],\n",
       "         [0.40448064],\n",
       "         [0.40448064],\n",
       "         [0.78383348],\n",
       "         [0.78383348],\n",
       "         [0.65011349],\n",
       "         [0.65011349],\n",
       "         [0.55743452],\n",
       "         [0.55743452],\n",
       "         [0.32436562],\n",
       "         [0.32436562],\n",
       "         [0.83921972],\n",
       "         [0.83921972],\n",
       "         [0.73384071],\n",
       "         [0.73384071],\n",
       "         [0.7375247 ],\n",
       "         [0.7375247 ],\n",
       "         [0.73487803],\n",
       "         [0.73487803],\n",
       "         [0.82292171],\n",
       "         [0.82292171],\n",
       "         [0.64510161],\n",
       "         [0.64510161],\n",
       "         [0.23960125],\n",
       "         [0.23960125],\n",
       "         [0.6968692 ],\n",
       "         [0.6968692 ],\n",
       "         [0.72495018],\n",
       "         [0.72495018],\n",
       "         [0.84183635],\n",
       "         [0.84183635],\n",
       "         [0.49756044],\n",
       "         [0.49756044],\n",
       "         [0.75401265],\n",
       "         [0.75401265],\n",
       "         [0.0437263 ],\n",
       "         [0.0437263 ],\n",
       "         [0.09041443],\n",
       "         [0.09041443],\n",
       "         [0.59310673],\n",
       "         [0.59310673],\n",
       "         [0.67250175],\n",
       "         [0.67250175],\n",
       "         [0.42519594],\n",
       "         [0.42519594]])}}"
      ]
     },
     "execution_count": 1,
     "metadata": {},
     "output_type": "execute_result"
    }
   ],
   "source": [
    "ds = load_by_id(run_id_a)\n",
    "ds.get_parameter_data('x1')"
   ]
  },
  {
   "cell_type": "code",
   "execution_count": null,
   "metadata": {},
   "outputs": [],
   "source": []
  }
 ],
 "metadata": {
  "kernelspec": {
   "display_name": "Python 3",
   "language": "python",
   "name": "python3"
  },
  "language_info": {
   "codemirror_mode": {
    "name": "ipython",
    "version": 3
   },
   "file_extension": ".py",
   "mimetype": "text/x-python",
   "name": "python",
   "nbconvert_exporter": "python",
   "pygments_lexer": "ipython3",
   "version": "3.7.10"
  },
  "nbsphinx": {
   "timeout": 600
  },
  "toc": {
   "base_numbering": 1,
   "nav_menu": {},
   "number_sections": true,
   "sideBar": true,
   "skip_h1_title": false,
   "title_cell": "Table of Contents",
   "title_sidebar": "Contents",
   "toc_cell": false,
   "toc_position": {},
   "toc_section_display": true,
   "toc_window_display": false
  },
  "varInspector": {
   "cols": {
    "lenName": 16,
    "lenType": 16,
    "lenVar": 40
   },
   "kernels_config": {
    "python": {
     "delete_cmd_postfix": "",
     "delete_cmd_prefix": "del ",
     "library": "var_list.py",
     "varRefreshCmd": "print(var_dic_list())"
    },
    "r": {
     "delete_cmd_postfix": ") ",
     "delete_cmd_prefix": "rm(",
     "library": "var_list.r",
     "varRefreshCmd": "cat(var_dic_list()) "
    }
   },
   "types_to_exclude": [
    "module",
    "function",
    "builtin_function_or_method",
    "instance",
    "_Feature"
   ],
   "window_display": false
  }
 },
 "nbformat": 4,
 "nbformat_minor": 2
}
