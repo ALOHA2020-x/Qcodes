{
 "cells": [
  {
   "cell_type": "markdown",
   "metadata": {},
   "source": [
    "# DataSet Performance\n",
    "\n",
    "This notebook shows the trade-off between inserting data into a database row-by-row and as binary blobs. Inserting the data row-by-row means that we have direct access to all the data and may perform queries directly on the values of the data. On the other hand, as we shall see, this is much slower than inserting the data directly as binary blobs."
   ]
  },
  {
   "cell_type": "markdown",
   "metadata": {},
   "source": [
    "First, we choose a new location for the database to ensure that we don't add a bunch of benchmarking data to the default one."
   ]
  },
  {
   "cell_type": "code",
   "execution_count": 1,
   "metadata": {},
   "outputs": [
    {
     "name": "stdout",
     "output_type": "stream",
     "text": [
      "Logging hadn't been started.\n",
      "Activating auto-logging. Current session state plus future input saved.\n",
      "Filename       : /home/vsts/.qcodes/logs/command_history.log\n",
      "Mode           : append\n",
      "Output logging : True\n",
      "Raw input log  : False\n",
      "Timestamping   : True\n",
      "State          : active\n"
     ]
    },
    {
     "name": "stdout",
     "output_type": "stream",
     "text": [
      "Qcodes Logfile : /home/vsts/.qcodes/logs/200730-18972-qcodes.log\n"
     ]
    }
   ],
   "source": [
    "import os\n",
    "cwd = os.getcwd()\n",
    "import qcodes as qc\n",
    "qc.config[\"core\"][\"db_location\"] = os.path.join(cwd, 'testing.db')\n"
   ]
  },
  {
   "cell_type": "code",
   "execution_count": 2,
   "metadata": {},
   "outputs": [],
   "source": [
    "%matplotlib inline\n",
    "import time\n",
    "import matplotlib.pyplot as plt\n",
    "import numpy as np\n",
    "\n",
    "import qcodes as qc\n",
    "from qcodes.instrument.parameter import ManualParameter\n",
    "from qcodes.dataset.experiment_container import (Experiment,\n",
    "                                                 load_last_experiment,\n",
    "                                                 new_experiment)\n",
    "from qcodes.dataset.sqlite.database import initialise_database\n",
    "from qcodes import load_or_create_experiment\n",
    "from qcodes.dataset.measurements import Measurement"
   ]
  },
  {
   "cell_type": "code",
   "execution_count": 3,
   "metadata": {},
   "outputs": [
    {
     "name": "stdout",
     "output_type": "stream",
     "text": [
      "\r",
      "0it [00:00, ?it/s]"
     ]
    },
    {
     "name": "stdout",
     "output_type": "stream",
     "text": [
      "\r",
      "Upgrading database; v0 -> v1: : 0it [00:00, ?it/s]"
     ]
    },
    {
     "name": "stdout",
     "output_type": "stream",
     "text": [
      "\r",
      "Upgrading database; v0 -> v1: : 0it [00:00, ?it/s]"
     ]
    },
    {
     "name": "stdout",
     "output_type": "stream",
     "text": [
      "\n",
      "\r",
      "  0%|          | 0/1 [00:00<?, ?it/s]"
     ]
    },
    {
     "name": "stdout",
     "output_type": "stream",
     "text": [
      "\r",
      "Upgrading database; v1 -> v2:   0%|          | 0/1 [00:00<?, ?it/s]"
     ]
    },
    {
     "name": "stdout",
     "output_type": "stream",
     "text": [
      "\r",
      "Upgrading database; v1 -> v2: 100%|██████████| 1/1 [00:00<00:00, 725.91it/s]"
     ]
    },
    {
     "name": "stdout",
     "output_type": "stream",
     "text": [
      "\n",
      "\r",
      "0it [00:00, ?it/s]"
     ]
    },
    {
     "name": "stdout",
     "output_type": "stream",
     "text": [
      "\r",
      "Upgrading database; v2 -> v3: : 0it [00:00, ?it/s]"
     ]
    },
    {
     "name": "stdout",
     "output_type": "stream",
     "text": [
      "\r",
      "Upgrading database; v2 -> v3: : 0it [00:00, ?it/s]"
     ]
    },
    {
     "name": "stdout",
     "output_type": "stream",
     "text": [
      "\n",
      "\r",
      "0it [00:00, ?it/s]"
     ]
    },
    {
     "name": "stdout",
     "output_type": "stream",
     "text": [
      "\r",
      "Upgrading database; v3 -> v4: : 0it [00:00, ?it/s]"
     ]
    },
    {
     "name": "stdout",
     "output_type": "stream",
     "text": [
      "\r",
      "Upgrading database; v3 -> v4: : 0it [00:00, ?it/s]"
     ]
    },
    {
     "name": "stdout",
     "output_type": "stream",
     "text": [
      "\n",
      "\r",
      "  0%|          | 0/1 [00:00<?, ?it/s]"
     ]
    },
    {
     "name": "stdout",
     "output_type": "stream",
     "text": [
      "\r",
      "Upgrading database; v4 -> v5:   0%|          | 0/1 [00:00<?, ?it/s]"
     ]
    },
    {
     "name": "stdout",
     "output_type": "stream",
     "text": [
      "\r",
      "Upgrading database; v4 -> v5: 100%|██████████| 1/1 [00:00<00:00, 907.27it/s]"
     ]
    },
    {
     "name": "stdout",
     "output_type": "stream",
     "text": [
      "\n",
      "\r",
      "0it [00:00, ?it/s]"
     ]
    },
    {
     "name": "stdout",
     "output_type": "stream",
     "text": [
      "\r",
      "Upgrading database; v5 -> v6: : 0it [00:00, ?it/s]"
     ]
    },
    {
     "name": "stdout",
     "output_type": "stream",
     "text": [
      "\r",
      "Upgrading database; v5 -> v6: : 0it [00:00, ?it/s]"
     ]
    },
    {
     "name": "stdout",
     "output_type": "stream",
     "text": [
      "\n",
      "\r",
      "  0%|          | 0/1 [00:00<?, ?it/s]"
     ]
    },
    {
     "name": "stdout",
     "output_type": "stream",
     "text": [
      "\r",
      "Upgrading database; v6 -> v7:   0%|          | 0/1 [00:00<?, ?it/s]"
     ]
    },
    {
     "name": "stdout",
     "output_type": "stream",
     "text": [
      "\r",
      "Upgrading database; v6 -> v7: 100%|██████████| 1/1 [00:00<00:00, 340.70it/s]"
     ]
    },
    {
     "name": "stdout",
     "output_type": "stream",
     "text": [
      "\n",
      "\r",
      "  0%|          | 0/1 [00:00<?, ?it/s]"
     ]
    },
    {
     "name": "stdout",
     "output_type": "stream",
     "text": [
      "\r",
      "Upgrading database; v7 -> v8:   0%|          | 0/1 [00:00<?, ?it/s]"
     ]
    },
    {
     "name": "stdout",
     "output_type": "stream",
     "text": [
      "\r",
      "Upgrading database; v7 -> v8: 100%|██████████| 1/1 [00:00<00:00, 850.77it/s]"
     ]
    },
    {
     "name": "stdout",
     "output_type": "stream",
     "text": [
      "\n",
      "\r",
      "  0%|          | 0/1 [00:00<?, ?it/s]"
     ]
    },
    {
     "name": "stdout",
     "output_type": "stream",
     "text": [
      "\r",
      "Upgrading database; v8 -> v9:   0%|          | 0/1 [00:00<?, ?it/s]"
     ]
    },
    {
     "name": "stdout",
     "output_type": "stream",
     "text": [
      "\r",
      "Upgrading database; v8 -> v9: 100%|██████████| 1/1 [00:00<00:00, 1097.70it/s]"
     ]
    },
    {
     "name": "stdout",
     "output_type": "stream",
     "text": [
      "\n"
     ]
    }
   ],
   "source": [
    "initialise_database()\n",
    "exp = load_or_create_experiment(experiment_name='tutorial_exp', sample_name=\"no sample\")"
   ]
  },
  {
   "cell_type": "markdown",
   "metadata": {},
   "source": [
    "Here, we define a simple function to benchmark the time it takes to insert n points with either numeric or array data type.\n",
    "We will compare both the time used to call ``add_result`` and the time used for the full measurement."
   ]
  },
  {
   "cell_type": "code",
   "execution_count": 4,
   "metadata": {},
   "outputs": [],
   "source": [
    "def insert_data(paramtype, npoints, nreps=1):\n",
    "\n",
    "    meas = Measurement(exp=exp)\n",
    "\n",
    "    x1 = ManualParameter('x1')\n",
    "    x2 = ManualParameter('x2')\n",
    "    x3 = ManualParameter('x3')\n",
    "    y1 = ManualParameter('y1')\n",
    "    y2 = ManualParameter('y2')\n",
    "\n",
    "    meas.register_parameter(x1, paramtype=paramtype)\n",
    "    meas.register_parameter(x2, paramtype=paramtype)\n",
    "    meas.register_parameter(x3, paramtype=paramtype)\n",
    "    meas.register_parameter(y1, setpoints=[x1, x2, x3],\n",
    "                            paramtype=paramtype)\n",
    "    meas.register_parameter(y2, setpoints=[x1, x2, x3],\n",
    "                            paramtype=paramtype)\n",
    "    start = time.perf_counter()\n",
    "    with meas.run() as datasaver:\n",
    "        start_adding = time.perf_counter()\n",
    "        for i in range(nreps):\n",
    "            datasaver.add_result((x1, np.random.rand(npoints)),\n",
    "                                 (x2, np.random.rand(npoints)),\n",
    "                                 (x3, np.random.rand(npoints)),\n",
    "                                 (y1, np.random.rand(npoints)),\n",
    "                                 (y2, np.random.rand(npoints)))\n",
    "        stop_adding = time.perf_counter()\n",
    "        run_id = datasaver.run_id\n",
    "    stop = time.perf_counter()\n",
    "    tot_time = stop - start\n",
    "    add_time = stop_adding - start_adding\n",
    "    return tot_time, add_time, run_id"
   ]
  },
  {
   "cell_type": "markdown",
   "metadata": {},
   "source": [
    "## Comparison between numeric/array data and binary blob"
   ]
  },
  {
   "cell_type": "markdown",
   "metadata": {},
   "source": [
    "### Case1: Short experiment time"
   ]
  },
  {
   "cell_type": "code",
   "execution_count": 5,
   "metadata": {},
   "outputs": [
    {
     "name": "stdout",
     "output_type": "stream",
     "text": [
      "Starting experimental run with id: 1. \n",
      "Starting experimental run with id: 2. \n",
      "Starting experimental run with id: 3. \n"
     ]
    },
    {
     "name": "stdout",
     "output_type": "stream",
     "text": [
      "Starting experimental run with id: 4. \n"
     ]
    },
    {
     "name": "stdout",
     "output_type": "stream",
     "text": [
      "Starting experimental run with id: 5. \n"
     ]
    },
    {
     "name": "stdout",
     "output_type": "stream",
     "text": [
      "Starting experimental run with id: 6. \n",
      "Starting experimental run with id: 7. \n"
     ]
    },
    {
     "name": "stdout",
     "output_type": "stream",
     "text": [
      "Starting experimental run with id: 8. \n",
      "Starting experimental run with id: 9. \n"
     ]
    },
    {
     "name": "stdout",
     "output_type": "stream",
     "text": [
      "Starting experimental run with id: 10. \n",
      "Starting experimental run with id: 11. \n"
     ]
    },
    {
     "name": "stdout",
     "output_type": "stream",
     "text": [
      "Starting experimental run with id: 12. \n",
      "Starting experimental run with id: 13. \n"
     ]
    },
    {
     "name": "stdout",
     "output_type": "stream",
     "text": [
      "Starting experimental run with id: 14. \n"
     ]
    }
   ],
   "source": [
    "sizes = [1,500,1000,2000,3000,4000,5000]\n",
    "t_numeric = []\n",
    "t_numeric_add = []\n",
    "t_array = []\n",
    "t_array_add = []\n",
    "for size in sizes:\n",
    "    tn, tna, run_id_n =  insert_data('numeric', size)\n",
    "    t_numeric.append(tn)\n",
    "    t_numeric_add.append(tna)\n",
    "\n",
    "    ta, taa, run_id_a =  insert_data('array', size)\n",
    "    t_array.append(ta)\n",
    "    t_array_add.append(taa)"
   ]
  },
  {
   "cell_type": "code",
   "execution_count": 6,
   "metadata": {},
   "outputs": [
    {
     "data": {
      "image/png": "[encoded data removed]",
      "text/plain": [
       "<Figure size 432x288 with 1 Axes>"
      ]
     },
     "metadata": {
      "needs_background": "light"
     },
     "output_type": "display_data"
    }
   ],
   "source": [
    "fig, ax = plt.subplots(1,1)\n",
    "ax.plot(sizes, t_numeric, 'o-', label='Inserting row-by-row')\n",
    "ax.plot(sizes, t_numeric_add, 'o-', label='Inserting row-by-row: add_result only')\n",
    "ax.plot(sizes, t_array, 'd-', label='Inserting as binary blob')\n",
    "ax.plot(sizes, t_array_add, 'd-', label='Inserting as binary blob: add_result only')\n",
    "ax.legend()\n",
    "ax.set_xlabel('Array length')\n",
    "ax.set_ylabel('Time (s)')\n",
    "fig.tight_layout()"
   ]
  },
  {
   "cell_type": "markdown",
   "metadata": {},
   "source": [
    "As shown in the latter figure, the time to setup and and close the experiment is approximately 0.4 sec. In case of small array sizes, the difference between inserting values of data as arrays and inserting them row-by-row is relatively unimportant. At larger array sizes, i.e. above 10000 points, the cost of writing data as individual datapoints starts to become important.\n"
   ]
  },
  {
   "cell_type": "markdown",
   "metadata": {},
   "source": [
    "### Case2: Long experiment time "
   ]
  },
  {
   "cell_type": "code",
   "execution_count": 7,
   "metadata": {},
   "outputs": [
    {
     "name": "stdout",
     "output_type": "stream",
     "text": [
      "Starting experimental run with id: 15. \n",
      "Starting experimental run with id: 16. \n",
      "Starting experimental run with id: 17. \n"
     ]
    },
    {
     "name": "stdout",
     "output_type": "stream",
     "text": [
      "Starting experimental run with id: 18. \n",
      "Starting experimental run with id: 19. \n"
     ]
    },
    {
     "name": "stdout",
     "output_type": "stream",
     "text": [
      "Starting experimental run with id: 20. \n"
     ]
    },
    {
     "name": "stdout",
     "output_type": "stream",
     "text": [
      "Starting experimental run with id: 21. \n"
     ]
    },
    {
     "name": "stdout",
     "output_type": "stream",
     "text": [
      "Starting experimental run with id: 22. \n"
     ]
    },
    {
     "name": "stdout",
     "output_type": "stream",
     "text": [
      "Starting experimental run with id: 23. \n"
     ]
    },
    {
     "name": "stdout",
     "output_type": "stream",
     "text": [
      "Starting experimental run with id: 24. \n"
     ]
    },
    {
     "name": "stdout",
     "output_type": "stream",
     "text": [
      "Starting experimental run with id: 25. \n"
     ]
    },
    {
     "name": "stdout",
     "output_type": "stream",
     "text": [
      "Starting experimental run with id: 26. \n"
     ]
    },
    {
     "name": "stdout",
     "output_type": "stream",
     "text": [
      "Starting experimental run with id: 27. \n"
     ]
    },
    {
     "name": "stdout",
     "output_type": "stream",
     "text": [
      "Starting experimental run with id: 28. \n"
     ]
    }
   ],
   "source": [
    "sizes = [1,500,1000,2000,3000,4000,5000]\n",
    "nreps = 100\n",
    "t_numeric = []\n",
    "t_numeric_add = []\n",
    "t_numeric_run_ids = []\n",
    "t_array = []\n",
    "t_array_add = []\n",
    "t_array_run_ids = []\n",
    "for size in sizes:\n",
    "    tn, tna, run_id_n =  insert_data('numeric', size, nreps=nreps)\n",
    "    t_numeric.append(tn)\n",
    "    t_numeric_add.append(tna)\n",
    "    t_numeric_run_ids.append(run_id_n)\n",
    "\n",
    "    ta, taa, run_id_a =  insert_data('array', size, nreps=nreps)\n",
    "    t_array.append(ta)\n",
    "    t_array_add.append(taa)\n",
    "    t_array_run_ids.append(run_id_a)"
   ]
  },
  {
   "cell_type": "code",
   "execution_count": 8,
   "metadata": {
    "scrolled": true
   },
   "outputs": [
    {
     "data": {
      "image/png": "[encoded data removed]",
      "text/plain": [
       "<Figure size 432x288 with 1 Axes>"
      ]
     },
     "metadata": {
      "needs_background": "light"
     },
     "output_type": "display_data"
    }
   ],
   "source": [
    "fig, ax = plt.subplots(1,1)\n",
    "ax.plot(sizes, t_numeric, 'o-', label='Inserting row-by-row')\n",
    "ax.plot(sizes, t_numeric_add, 'o-', label='Inserting row-by-row: add_result only')\n",
    "ax.plot(sizes, t_array, 'd-', label='Inserting as binary blob')\n",
    "ax.plot(sizes, t_array_add, 'd-', label='Inserting as binary blob: add_result only')\n",
    "ax.legend()\n",
    "ax.set_xlabel('Array length')\n",
    "ax.set_ylabel('Time (s)')\n",
    "fig.tight_layout()"
   ]
  },
  {
   "cell_type": "markdown",
   "metadata": {},
   "source": [
    "However, as we increase the length of the experiment, as seen here by repeating the insertion 100 times, we see a big difference between inserting values of the data row-by-row and inserting it as a binary blob."
   ]
  },
  {
   "cell_type": "markdown",
   "metadata": {},
   "source": [
    "## Loading the data "
   ]
  },
  {
   "cell_type": "code",
   "execution_count": 9,
   "metadata": {},
   "outputs": [],
   "source": [
    "from qcodes.dataset.data_set import load_by_id\n",
    "from qcodes.dataset.data_export import get_data_by_id"
   ]
  },
  {
   "cell_type": "markdown",
   "metadata": {},
   "source": [
    "As usual you can load the data by using the ``load_by_id`` function but you will notice that the different storage methods\n",
    "are reflected in shape of the data as it is retrieved. "
   ]
  },
  {
   "cell_type": "code",
   "execution_count": 10,
   "metadata": {},
   "outputs": [],
   "source": [
    "run_id_n = t_numeric_run_ids[0]\n",
    "run_id_a = t_array_run_ids[0]"
   ]
  },
  {
   "cell_type": "code",
   "execution_count": 11,
   "metadata": {
    "scrolled": true
   },
   "outputs": [
    {
     "data": {
      "text/plain": [
       "{'x1': {'x1': array([0.7267485 , 0.7267485 , 0.49225756, 0.49225756, 0.09476427,\n",
       "         0.09476427, 0.04337121, 0.04337121, 0.96012768, 0.96012768,\n",
       "         0.58039517, 0.58039517, 0.47428363, 0.47428363, 0.93248718,\n",
       "         0.93248718, 0.13183335, 0.13183335, 0.81860067, 0.81860067,\n",
       "         0.56566466, 0.56566466, 0.60905639, 0.60905639, 0.99100728,\n",
       "         0.99100728, 0.6861853 , 0.6861853 , 0.32947498, 0.32947498,\n",
       "         0.15501802, 0.15501802, 0.61600945, 0.61600945, 0.03989514,\n",
       "         0.03989514, 0.41887357, 0.41887357, 0.09770174, 0.09770174,\n",
       "         0.90124366, 0.90124366, 0.63745448, 0.63745448, 0.94003882,\n",
       "         0.94003882, 0.38701183, 0.38701183, 0.06090843, 0.06090843,\n",
       "         0.86536557, 0.86536557, 0.1695341 , 0.1695341 , 0.75070467,\n",
       "         0.75070467, 0.57626897, 0.57626897, 0.04901627, 0.04901627,\n",
       "         0.81841041, 0.81841041, 0.27246566, 0.27246566, 0.68777724,\n",
       "         0.68777724, 0.59923302, 0.59923302, 0.70658992, 0.70658992,\n",
       "         0.06439216, 0.06439216, 0.35718491, 0.35718491, 0.84564155,\n",
       "         0.84564155, 0.48722727, 0.48722727, 0.06700841, 0.06700841,\n",
       "         0.84753459, 0.84753459, 0.06595863, 0.06595863, 0.01612805,\n",
       "         0.01612805, 0.1123428 , 0.1123428 , 0.07094378, 0.07094378,\n",
       "         0.94521636, 0.94521636, 0.81901112, 0.81901112, 0.42266396,\n",
       "         0.42266396, 0.52202287, 0.52202287, 0.84872721, 0.84872721,\n",
       "         0.08360051, 0.08360051, 0.81004779, 0.81004779, 0.95931724,\n",
       "         0.95931724, 0.50531244, 0.50531244, 0.84436383, 0.84436383,\n",
       "         0.93732947, 0.93732947, 0.84452402, 0.84452402, 0.6064164 ,\n",
       "         0.6064164 , 0.56039994, 0.56039994, 0.79384211, 0.79384211,\n",
       "         0.95977886, 0.95977886, 0.08725102, 0.08725102, 0.69689282,\n",
       "         0.69689282, 0.5822006 , 0.5822006 , 0.06443512, 0.06443512,\n",
       "         0.65972864, 0.65972864, 0.68440572, 0.68440572, 0.99464924,\n",
       "         0.99464924, 0.3752161 , 0.3752161 , 0.30784982, 0.30784982,\n",
       "         0.80083569, 0.80083569, 0.63867397, 0.63867397, 0.31128172,\n",
       "         0.31128172, 0.43191165, 0.43191165, 0.9234997 , 0.9234997 ,\n",
       "         0.12858706, 0.12858706, 0.6638986 , 0.6638986 , 0.27052705,\n",
       "         0.27052705, 0.58738985, 0.58738985, 0.63013274, 0.63013274,\n",
       "         0.80887088, 0.80887088, 0.82263634, 0.82263634, 0.12401095,\n",
       "         0.12401095, 0.77902343, 0.77902343, 0.30440302, 0.30440302,\n",
       "         0.38202884, 0.38202884, 0.83452437, 0.83452437, 0.46268426,\n",
       "         0.46268426, 0.664045  , 0.664045  , 0.0064159 , 0.0064159 ,\n",
       "         0.23108321, 0.23108321, 0.51654748, 0.51654748, 0.47630127,\n",
       "         0.47630127, 0.14383013, 0.14383013, 0.52641242, 0.52641242,\n",
       "         0.72024027, 0.72024027, 0.02734257, 0.02734257, 0.90011234,\n",
       "         0.90011234, 0.72538083, 0.72538083, 0.16231498, 0.16231498])}}"
      ]
     },
     "execution_count": 11,
     "metadata": {},
     "output_type": "execute_result"
    }
   ],
   "source": [
    "ds = load_by_id(run_id_n)\n",
    "ds.get_parameter_data('x1')"
   ]
  },
  {
   "cell_type": "markdown",
   "metadata": {},
   "source": [
    "And a dataset stored as binary arrays"
   ]
  },
  {
   "cell_type": "code",
   "execution_count": 12,
   "metadata": {
    "scrolled": true
   },
   "outputs": [
    {
     "data": {
      "text/plain": [
       "{'x1': {'x1': array([[0.51412881],\n",
       "         [0.51412881],\n",
       "         [0.5419254 ],\n",
       "         [0.5419254 ],\n",
       "         [0.6473301 ],\n",
       "         [0.6473301 ],\n",
       "         [0.16855786],\n",
       "         [0.16855786],\n",
       "         [0.47272854],\n",
       "         [0.47272854],\n",
       "         [0.52765205],\n",
       "         [0.52765205],\n",
       "         [0.43733485],\n",
       "         [0.43733485],\n",
       "         [0.50061069],\n",
       "         [0.50061069],\n",
       "         [0.24380725],\n",
       "         [0.24380725],\n",
       "         [0.8553785 ],\n",
       "         [0.8553785 ],\n",
       "         [0.01842432],\n",
       "         [0.01842432],\n",
       "         [0.99165865],\n",
       "         [0.99165865],\n",
       "         [0.85012948],\n",
       "         [0.85012948],\n",
       "         [0.5842272 ],\n",
       "         [0.5842272 ],\n",
       "         [0.66130986],\n",
       "         [0.66130986],\n",
       "         [0.47342232],\n",
       "         [0.47342232],\n",
       "         [0.16234188],\n",
       "         [0.16234188],\n",
       "         [0.34316494],\n",
       "         [0.34316494],\n",
       "         [0.60457267],\n",
       "         [0.60457267],\n",
       "         [0.44853187],\n",
       "         [0.44853187],\n",
       "         [0.31546212],\n",
       "         [0.31546212],\n",
       "         [0.59735889],\n",
       "         [0.59735889],\n",
       "         [0.49217357],\n",
       "         [0.49217357],\n",
       "         [0.81498689],\n",
       "         [0.81498689],\n",
       "         [0.14047268],\n",
       "         [0.14047268],\n",
       "         [0.65770792],\n",
       "         [0.65770792],\n",
       "         [0.610096  ],\n",
       "         [0.610096  ],\n",
       "         [0.97485086],\n",
       "         [0.97485086],\n",
       "         [0.69410811],\n",
       "         [0.69410811],\n",
       "         [0.2757943 ],\n",
       "         [0.2757943 ],\n",
       "         [0.27779602],\n",
       "         [0.27779602],\n",
       "         [0.01709436],\n",
       "         [0.01709436],\n",
       "         [0.4497113 ],\n",
       "         [0.4497113 ],\n",
       "         [0.7878429 ],\n",
       "         [0.7878429 ],\n",
       "         [0.0299668 ],\n",
       "         [0.0299668 ],\n",
       "         [0.69667156],\n",
       "         [0.69667156],\n",
       "         [0.50195681],\n",
       "         [0.50195681],\n",
       "         [0.91681401],\n",
       "         [0.91681401],\n",
       "         [0.48252696],\n",
       "         [0.48252696],\n",
       "         [0.93903584],\n",
       "         [0.93903584],\n",
       "         [0.04107078],\n",
       "         [0.04107078],\n",
       "         [0.07229947],\n",
       "         [0.07229947],\n",
       "         [0.03764058],\n",
       "         [0.03764058],\n",
       "         [0.54709819],\n",
       "         [0.54709819],\n",
       "         [0.4692685 ],\n",
       "         [0.4692685 ],\n",
       "         [0.19929668],\n",
       "         [0.19929668],\n",
       "         [0.47730526],\n",
       "         [0.47730526],\n",
       "         [0.61718332],\n",
       "         [0.61718332],\n",
       "         [0.08044039],\n",
       "         [0.08044039],\n",
       "         [0.49322361],\n",
       "         [0.49322361],\n",
       "         [0.99983867],\n",
       "         [0.99983867],\n",
       "         [0.33571466],\n",
       "         [0.33571466],\n",
       "         [0.79162823],\n",
       "         [0.79162823],\n",
       "         [0.66727395],\n",
       "         [0.66727395],\n",
       "         [0.93850588],\n",
       "         [0.93850588],\n",
       "         [0.0775038 ],\n",
       "         [0.0775038 ],\n",
       "         [0.21405768],\n",
       "         [0.21405768],\n",
       "         [0.59847845],\n",
       "         [0.59847845],\n",
       "         [0.32632535],\n",
       "         [0.32632535],\n",
       "         [0.26971252],\n",
       "         [0.26971252],\n",
       "         [0.44375296],\n",
       "         [0.44375296],\n",
       "         [0.20763605],\n",
       "         [0.20763605],\n",
       "         [0.39882533],\n",
       "         [0.39882533],\n",
       "         [0.07534523],\n",
       "         [0.07534523],\n",
       "         [0.23587684],\n",
       "         [0.23587684],\n",
       "         [0.14011169],\n",
       "         [0.14011169],\n",
       "         [0.70548471],\n",
       "         [0.70548471],\n",
       "         [0.41575818],\n",
       "         [0.41575818],\n",
       "         [0.919873  ],\n",
       "         [0.919873  ],\n",
       "         [0.51261505],\n",
       "         [0.51261505],\n",
       "         [0.00378045],\n",
       "         [0.00378045],\n",
       "         [0.40926979],\n",
       "         [0.40926979],\n",
       "         [0.57855109],\n",
       "         [0.57855109],\n",
       "         [0.00116763],\n",
       "         [0.00116763],\n",
       "         [0.66328216],\n",
       "         [0.66328216],\n",
       "         [0.62530344],\n",
       "         [0.62530344],\n",
       "         [0.99507198],\n",
       "         [0.99507198],\n",
       "         [0.49015274],\n",
       "         [0.49015274],\n",
       "         [0.68171261],\n",
       "         [0.68171261],\n",
       "         [0.86572824],\n",
       "         [0.86572824],\n",
       "         [0.88416195],\n",
       "         [0.88416195],\n",
       "         [0.68254658],\n",
       "         [0.68254658],\n",
       "         [0.41102811],\n",
       "         [0.41102811],\n",
       "         [0.90186839],\n",
       "         [0.90186839],\n",
       "         [0.71680779],\n",
       "         [0.71680779],\n",
       "         [0.88505925],\n",
       "         [0.88505925],\n",
       "         [0.45972737],\n",
       "         [0.45972737],\n",
       "         [0.73195407],\n",
       "         [0.73195407],\n",
       "         [0.86800127],\n",
       "         [0.86800127],\n",
       "         [0.21425444],\n",
       "         [0.21425444],\n",
       "         [0.21354699],\n",
       "         [0.21354699],\n",
       "         [0.504688  ],\n",
       "         [0.504688  ],\n",
       "         [0.38957129],\n",
       "         [0.38957129],\n",
       "         [0.94539656],\n",
       "         [0.94539656],\n",
       "         [0.83014267],\n",
       "         [0.83014267],\n",
       "         [0.50919861],\n",
       "         [0.50919861],\n",
       "         [0.12561428],\n",
       "         [0.12561428],\n",
       "         [0.85718285],\n",
       "         [0.85718285],\n",
       "         [0.95118802],\n",
       "         [0.95118802],\n",
       "         [0.69767539],\n",
       "         [0.69767539]])}}"
      ]
     },
     "execution_count": 12,
     "metadata": {},
     "output_type": "execute_result"
    }
   ],
   "source": [
    "ds = load_by_id(run_id_a)\n",
    "ds.get_parameter_data('x1')"
   ]
  },
  {
   "cell_type": "code",
   "execution_count": null,
   "metadata": {},
   "outputs": [],
   "source": []
  }
 ],
 "metadata": {
  "kernelspec": {
   "display_name": "Python 3",
   "language": "python",
   "name": "python3"
  },
  "language_info": {
   "codemirror_mode": {
    "name": "ipython",
    "version": 3
   },
   "file_extension": ".py",
   "mimetype": "text/x-python",
   "name": "python",
   "nbconvert_exporter": "python",
   "pygments_lexer": "ipython3",
   "version": "3.7.7"
  },
  "nbsphinx": {
   "timeout": 600
  },
  "toc": {
   "base_numbering": 1,
   "nav_menu": {},
   "number_sections": true,
   "sideBar": true,
   "skip_h1_title": false,
   "title_cell": "Table of Contents",
   "title_sidebar": "Contents",
   "toc_cell": false,
   "toc_position": {},
   "toc_section_display": true,
   "toc_window_display": false
  },
  "varInspector": {
   "cols": {
    "lenName": 16,
    "lenType": 16,
    "lenVar": 40
   },
   "kernels_config": {
    "python": {
     "delete_cmd_postfix": "",
     "delete_cmd_prefix": "del ",
     "library": "var_list.py",
     "varRefreshCmd": "print(var_dic_list())"
    },
    "r": {
     "delete_cmd_postfix": ") ",
     "delete_cmd_prefix": "rm(",
     "library": "var_list.r",
     "varRefreshCmd": "cat(var_dic_list()) "
    }
   },
   "types_to_exclude": [
    "module",
    "function",
    "builtin_function_or_method",
    "instance",
    "_Feature"
   ],
   "window_display": false
  }
 },
 "nbformat": 4,
 "nbformat_minor": 2
}
