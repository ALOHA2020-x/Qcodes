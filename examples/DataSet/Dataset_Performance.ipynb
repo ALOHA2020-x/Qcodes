{
 "cells": [
  {
   "cell_type": "markdown",
   "metadata": {},
   "source": [
    "# DataSet Performance\n",
    "\n",
    "This notebook shows the trade-off between inserting data into a database row-by-row and as binary blobs. Inserting the data row-by-row means that we have direct access to all the data and may perform queries directly on the values of the data. On the other hand, as we shall see, this is much slower than inserting the data directly as binary blobs."
   ]
  },
  {
   "cell_type": "markdown",
   "metadata": {},
   "source": [
    "First, we choose a new location for the database to ensure that we don't add a bunch of benchmarking data to the default one."
   ]
  },
  {
   "cell_type": "code",
   "execution_count": 1,
   "metadata": {
    "execution": {
     "iopub.execute_input": "2021-05-20T05:49:12.637028Z",
     "iopub.status.busy": "2021-05-20T05:49:12.636557Z",
     "iopub.status.idle": "2021-05-20T05:49:13.700021Z",
     "shell.execute_reply": "2021-05-20T05:49:13.699413Z"
    }
   },
   "outputs": [
    {
     "name": "stdout",
     "output_type": "stream",
     "text": [
      "Logging hadn't been started.\n",
      "Activating auto-logging. Current session state plus future input saved.\n",
      "Filename       : /home/runner/.qcodes/logs/command_history.log\n",
      "Mode           : append\n",
      "Output logging : True\n",
      "Raw input log  : False\n",
      "Timestamping   : True\n",
      "State          : active\n"
     ]
    },
    {
     "name": "stdout",
     "output_type": "stream",
     "text": [
      "Qcodes Logfile : /home/runner/.qcodes/logs/210520-4563-qcodes.log\n"
     ]
    }
   ],
   "source": [
    "import os\n",
    "cwd = os.getcwd()\n",
    "import qcodes as qc\n",
    "qc.config[\"core\"][\"db_location\"] = os.path.join(cwd, 'testing.db')\n"
   ]
  },
  {
   "cell_type": "code",
   "execution_count": 2,
   "metadata": {
    "execution": {
     "iopub.execute_input": "2021-05-20T05:49:13.706370Z",
     "iopub.status.busy": "2021-05-20T05:49:13.705523Z",
     "iopub.status.idle": "2021-05-20T05:49:13.885673Z",
     "shell.execute_reply": "2021-05-20T05:49:13.886142Z"
    }
   },
   "outputs": [],
   "source": [
    "%matplotlib inline\n",
    "import time\n",
    "import matplotlib.pyplot as plt\n",
    "import numpy as np\n",
    "\n",
    "import qcodes as qc\n",
    "from qcodes.instrument.parameter import ManualParameter\n",
    "from qcodes.dataset.experiment_container import (Experiment,\n",
    "                                                 load_last_experiment,\n",
    "                                                 new_experiment)\n",
    "from qcodes.dataset.sqlite.database import initialise_database\n",
    "from qcodes import load_or_create_experiment\n",
    "from qcodes.dataset.measurements import Measurement"
   ]
  },
  {
   "cell_type": "code",
   "execution_count": 3,
   "metadata": {
    "execution": {
     "iopub.execute_input": "2021-05-20T05:49:13.889597Z",
     "iopub.status.busy": "2021-05-20T05:49:13.889088Z",
     "iopub.status.idle": "2021-05-20T05:49:13.954431Z",
     "shell.execute_reply": "2021-05-20T05:49:13.954848Z"
    }
   },
   "outputs": [
    {
     "name": "stdout",
     "output_type": "stream",
     "text": [
      "\r",
      "0it [00:00, ?it/s]"
     ]
    },
    {
     "name": "stdout",
     "output_type": "stream",
     "text": [
      "\r",
      "Upgrading database; v0 -> v1: : 0it [00:00, ?it/s]"
     ]
    },
    {
     "name": "stdout",
     "output_type": "stream",
     "text": [
      "\r",
      "Upgrading database; v0 -> v1: : 0it [00:00, ?it/s]"
     ]
    },
    {
     "name": "stdout",
     "output_type": "stream",
     "text": [
      "\n",
      "\r",
      "  0%|          | 0/1 [00:00<?, ?it/s]"
     ]
    },
    {
     "name": "stdout",
     "output_type": "stream",
     "text": [
      "\r",
      "Upgrading database; v1 -> v2:   0%|          | 0/1 [00:00<?, ?it/s]"
     ]
    },
    {
     "name": "stdout",
     "output_type": "stream",
     "text": [
      "\r",
      "Upgrading database; v1 -> v2: 100%|██████████| 1/1 [00:00<00:00, 841.72it/s]"
     ]
    },
    {
     "name": "stdout",
     "output_type": "stream",
     "text": [
      "\n",
      "\r",
      "0it [00:00, ?it/s]"
     ]
    },
    {
     "name": "stdout",
     "output_type": "stream",
     "text": [
      "\r",
      "Upgrading database; v2 -> v3: : 0it [00:00, ?it/s]"
     ]
    },
    {
     "name": "stdout",
     "output_type": "stream",
     "text": [
      "\r",
      "Upgrading database; v2 -> v3: : 0it [00:00, ?it/s]"
     ]
    },
    {
     "name": "stdout",
     "output_type": "stream",
     "text": [
      "\n",
      "\r",
      "0it [00:00, ?it/s]"
     ]
    },
    {
     "name": "stdout",
     "output_type": "stream",
     "text": [
      "\r",
      "Upgrading database; v3 -> v4: : 0it [00:00, ?it/s]"
     ]
    },
    {
     "name": "stdout",
     "output_type": "stream",
     "text": [
      "\r",
      "Upgrading database; v3 -> v4: : 0it [00:00, ?it/s]"
     ]
    },
    {
     "name": "stdout",
     "output_type": "stream",
     "text": [
      "\n",
      "\r",
      "  0%|          | 0/1 [00:00<?, ?it/s]"
     ]
    },
    {
     "name": "stdout",
     "output_type": "stream",
     "text": [
      "\r",
      "Upgrading database; v4 -> v5:   0%|          | 0/1 [00:00<?, ?it/s]"
     ]
    },
    {
     "name": "stdout",
     "output_type": "stream",
     "text": [
      "\r",
      "Upgrading database; v4 -> v5: 100%|██████████| 1/1 [00:00<00:00, 901.42it/s]"
     ]
    },
    {
     "name": "stdout",
     "output_type": "stream",
     "text": [
      "\n",
      "\r",
      "0it [00:00, ?it/s]"
     ]
    },
    {
     "name": "stdout",
     "output_type": "stream",
     "text": [
      "\r",
      "Upgrading database; v5 -> v6: : 0it [00:00, ?it/s]"
     ]
    },
    {
     "name": "stdout",
     "output_type": "stream",
     "text": [
      "\r",
      "Upgrading database; v5 -> v6: : 0it [00:00, ?it/s]"
     ]
    },
    {
     "name": "stdout",
     "output_type": "stream",
     "text": [
      "\n",
      "\r",
      "  0%|          | 0/1 [00:00<?, ?it/s]"
     ]
    },
    {
     "name": "stdout",
     "output_type": "stream",
     "text": [
      "\r",
      "Upgrading database; v6 -> v7:   0%|          | 0/1 [00:00<?, ?it/s]"
     ]
    },
    {
     "name": "stdout",
     "output_type": "stream",
     "text": [
      "\r",
      "Upgrading database; v6 -> v7: 100%|██████████| 1/1 [00:00<00:00, 447.58it/s]"
     ]
    },
    {
     "name": "stdout",
     "output_type": "stream",
     "text": [
      "\n",
      "\r",
      "  0%|          | 0/1 [00:00<?, ?it/s]"
     ]
    },
    {
     "name": "stdout",
     "output_type": "stream",
     "text": [
      "\r",
      "Upgrading database; v7 -> v8:   0%|          | 0/1 [00:00<?, ?it/s]"
     ]
    },
    {
     "name": "stdout",
     "output_type": "stream",
     "text": [
      "\r",
      "Upgrading database; v7 -> v8: 100%|██████████| 1/1 [00:00<00:00, 489.65it/s]"
     ]
    },
    {
     "name": "stdout",
     "output_type": "stream",
     "text": [
      "\n",
      "\r",
      "  0%|          | 0/1 [00:00<?, ?it/s]"
     ]
    },
    {
     "name": "stdout",
     "output_type": "stream",
     "text": [
      "\r",
      "Upgrading database; v8 -> v9:   0%|          | 0/1 [00:00<?, ?it/s]"
     ]
    },
    {
     "name": "stdout",
     "output_type": "stream",
     "text": [
      "\r",
      "Upgrading database; v8 -> v9: 100%|██████████| 1/1 [00:00<00:00, 527.59it/s]"
     ]
    },
    {
     "name": "stdout",
     "output_type": "stream",
     "text": [
      "\n"
     ]
    }
   ],
   "source": [
    "initialise_database()\n",
    "exp = load_or_create_experiment(experiment_name='tutorial_exp', sample_name=\"no sample\")"
   ]
  },
  {
   "cell_type": "markdown",
   "metadata": {},
   "source": [
    "Here, we define a simple function to benchmark the time it takes to insert n points with either numeric or array data type.\n",
    "We will compare both the time used to call ``add_result`` and the time used for the full measurement."
   ]
  },
  {
   "cell_type": "code",
   "execution_count": 4,
   "metadata": {
    "execution": {
     "iopub.execute_input": "2021-05-20T05:49:13.962590Z",
     "iopub.status.busy": "2021-05-20T05:49:13.962090Z",
     "iopub.status.idle": "2021-05-20T05:49:13.965283Z",
     "shell.execute_reply": "2021-05-20T05:49:13.964859Z"
    }
   },
   "outputs": [],
   "source": [
    "def insert_data(paramtype, npoints, nreps=1):\n",
    "\n",
    "    meas = Measurement(exp=exp)\n",
    "\n",
    "    x1 = ManualParameter('x1')\n",
    "    x2 = ManualParameter('x2')\n",
    "    x3 = ManualParameter('x3')\n",
    "    y1 = ManualParameter('y1')\n",
    "    y2 = ManualParameter('y2')\n",
    "\n",
    "    meas.register_parameter(x1, paramtype=paramtype)\n",
    "    meas.register_parameter(x2, paramtype=paramtype)\n",
    "    meas.register_parameter(x3, paramtype=paramtype)\n",
    "    meas.register_parameter(y1, setpoints=[x1, x2, x3],\n",
    "                            paramtype=paramtype)\n",
    "    meas.register_parameter(y2, setpoints=[x1, x2, x3],\n",
    "                            paramtype=paramtype)\n",
    "    start = time.perf_counter()\n",
    "    with meas.run() as datasaver:\n",
    "        start_adding = time.perf_counter()\n",
    "        for i in range(nreps):\n",
    "            datasaver.add_result((x1, np.random.rand(npoints)),\n",
    "                                 (x2, np.random.rand(npoints)),\n",
    "                                 (x3, np.random.rand(npoints)),\n",
    "                                 (y1, np.random.rand(npoints)),\n",
    "                                 (y2, np.random.rand(npoints)))\n",
    "        stop_adding = time.perf_counter()\n",
    "        run_id = datasaver.run_id\n",
    "    stop = time.perf_counter()\n",
    "    tot_time = stop - start\n",
    "    add_time = stop_adding - start_adding\n",
    "    return tot_time, add_time, run_id"
   ]
  },
  {
   "cell_type": "markdown",
   "metadata": {},
   "source": [
    "## Comparison between numeric/array data and binary blob"
   ]
  },
  {
   "cell_type": "markdown",
   "metadata": {},
   "source": [
    "### Case1: Short experiment time"
   ]
  },
  {
   "cell_type": "code",
   "execution_count": 5,
   "metadata": {
    "execution": {
     "iopub.execute_input": "2021-05-20T05:49:13.971261Z",
     "iopub.status.busy": "2021-05-20T05:49:13.970720Z",
     "iopub.status.idle": "2021-05-20T05:49:14.696474Z",
     "shell.execute_reply": "2021-05-20T05:49:14.695771Z"
    }
   },
   "outputs": [
    {
     "name": "stdout",
     "output_type": "stream",
     "text": [
      "Starting experimental run with id: 1. \n",
      "Starting experimental run with id: 2. \n",
      "Starting experimental run with id: 3. \n",
      "Starting experimental run with id: 4. \n"
     ]
    },
    {
     "name": "stdout",
     "output_type": "stream",
     "text": [
      "Starting experimental run with id: 5. \n"
     ]
    },
    {
     "name": "stdout",
     "output_type": "stream",
     "text": [
      "Starting experimental run with id: 6. \n",
      "Starting experimental run with id: 7. \n"
     ]
    },
    {
     "name": "stdout",
     "output_type": "stream",
     "text": [
      "Starting experimental run with id: 8. \n",
      "Starting experimental run with id: 9. \n"
     ]
    },
    {
     "name": "stdout",
     "output_type": "stream",
     "text": [
      "Starting experimental run with id: 10. \n",
      "Starting experimental run with id: 11. \n"
     ]
    },
    {
     "name": "stdout",
     "output_type": "stream",
     "text": [
      "Starting experimental run with id: 12. \n",
      "Starting experimental run with id: 13. \n"
     ]
    },
    {
     "name": "stdout",
     "output_type": "stream",
     "text": [
      "Starting experimental run with id: 14. \n"
     ]
    }
   ],
   "source": [
    "sizes = [1,500,1000,2000,3000,4000,5000]\n",
    "t_numeric = []\n",
    "t_numeric_add = []\n",
    "t_array = []\n",
    "t_array_add = []\n",
    "for size in sizes:\n",
    "    tn, tna, run_id_n =  insert_data('numeric', size)\n",
    "    t_numeric.append(tn)\n",
    "    t_numeric_add.append(tna)\n",
    "\n",
    "    ta, taa, run_id_a =  insert_data('array', size)\n",
    "    t_array.append(ta)\n",
    "    t_array_add.append(taa)"
   ]
  },
  {
   "cell_type": "code",
   "execution_count": 6,
   "metadata": {
    "execution": {
     "iopub.execute_input": "2021-05-20T05:49:14.708797Z",
     "iopub.status.busy": "2021-05-20T05:49:14.700217Z",
     "iopub.status.idle": "2021-05-20T05:49:14.914220Z",
     "shell.execute_reply": "2021-05-20T05:49:14.913767Z"
    }
   },
   "outputs": [
    {
     "data": {
      "image/png": "[encoded data removed]",
      "text/plain": [
       "<Figure size 432x288 with 1 Axes>"
      ]
     },
     "metadata": {
      "needs_background": "light"
     },
     "output_type": "display_data"
    }
   ],
   "source": [
    "fig, ax = plt.subplots(1,1)\n",
    "ax.plot(sizes, t_numeric, 'o-', label='Inserting row-by-row')\n",
    "ax.plot(sizes, t_numeric_add, 'o-', label='Inserting row-by-row: add_result only')\n",
    "ax.plot(sizes, t_array, 'd-', label='Inserting as binary blob')\n",
    "ax.plot(sizes, t_array_add, 'd-', label='Inserting as binary blob: add_result only')\n",
    "ax.legend()\n",
    "ax.set_xlabel('Array length')\n",
    "ax.set_ylabel('Time (s)')\n",
    "fig.tight_layout()"
   ]
  },
  {
   "cell_type": "markdown",
   "metadata": {},
   "source": [
    "As shown in the latter figure, the time to setup and and close the experiment is approximately 0.4 sec. In case of small array sizes, the difference between inserting values of data as arrays and inserting them row-by-row is relatively unimportant. At larger array sizes, i.e. above 10000 points, the cost of writing data as individual datapoints starts to become important.\n"
   ]
  },
  {
   "cell_type": "markdown",
   "metadata": {},
   "source": [
    "### Case2: Long experiment time "
   ]
  },
  {
   "cell_type": "code",
   "execution_count": 7,
   "metadata": {
    "execution": {
     "iopub.execute_input": "2021-05-20T05:49:14.920720Z",
     "iopub.status.busy": "2021-05-20T05:49:14.919841Z",
     "iopub.status.idle": "2021-05-20T05:50:04.310468Z",
     "shell.execute_reply": "2021-05-20T05:50:04.310928Z"
    }
   },
   "outputs": [
    {
     "name": "stdout",
     "output_type": "stream",
     "text": [
      "Starting experimental run with id: 15. \n",
      "Starting experimental run with id: 16. \n",
      "Starting experimental run with id: 17. \n"
     ]
    },
    {
     "name": "stdout",
     "output_type": "stream",
     "text": [
      "Starting experimental run with id: 18. \n",
      "Starting experimental run with id: 19. \n"
     ]
    },
    {
     "name": "stdout",
     "output_type": "stream",
     "text": [
      "Starting experimental run with id: 20. \n"
     ]
    },
    {
     "name": "stdout",
     "output_type": "stream",
     "text": [
      "Starting experimental run with id: 21. \n"
     ]
    },
    {
     "name": "stdout",
     "output_type": "stream",
     "text": [
      "Starting experimental run with id: 22. \n"
     ]
    },
    {
     "name": "stdout",
     "output_type": "stream",
     "text": [
      "Starting experimental run with id: 23. \n"
     ]
    },
    {
     "name": "stdout",
     "output_type": "stream",
     "text": [
      "Starting experimental run with id: 24. \n"
     ]
    },
    {
     "name": "stdout",
     "output_type": "stream",
     "text": [
      "Starting experimental run with id: 25. \n"
     ]
    },
    {
     "name": "stdout",
     "output_type": "stream",
     "text": [
      "Starting experimental run with id: 26. \n"
     ]
    },
    {
     "name": "stdout",
     "output_type": "stream",
     "text": [
      "Starting experimental run with id: 27. \n"
     ]
    },
    {
     "name": "stdout",
     "output_type": "stream",
     "text": [
      "Starting experimental run with id: 28. \n"
     ]
    }
   ],
   "source": [
    "sizes = [1,500,1000,2000,3000,4000,5000]\n",
    "nreps = 100\n",
    "t_numeric = []\n",
    "t_numeric_add = []\n",
    "t_numeric_run_ids = []\n",
    "t_array = []\n",
    "t_array_add = []\n",
    "t_array_run_ids = []\n",
    "for size in sizes:\n",
    "    tn, tna, run_id_n =  insert_data('numeric', size, nreps=nreps)\n",
    "    t_numeric.append(tn)\n",
    "    t_numeric_add.append(tna)\n",
    "    t_numeric_run_ids.append(run_id_n)\n",
    "\n",
    "    ta, taa, run_id_a =  insert_data('array', size, nreps=nreps)\n",
    "    t_array.append(ta)\n",
    "    t_array_add.append(taa)\n",
    "    t_array_run_ids.append(run_id_a)"
   ]
  },
  {
   "cell_type": "code",
   "execution_count": 8,
   "metadata": {
    "execution": {
     "iopub.execute_input": "2021-05-20T05:50:04.326802Z",
     "iopub.status.busy": "2021-05-20T05:50:04.321438Z",
     "iopub.status.idle": "2021-05-20T05:50:04.503494Z",
     "shell.execute_reply": "2021-05-20T05:50:04.502986Z"
    },
    "scrolled": true
   },
   "outputs": [
    {
     "data": {
      "image/png": "[encoded data removed]",
      "text/plain": [
       "<Figure size 432x288 with 1 Axes>"
      ]
     },
     "metadata": {
      "needs_background": "light"
     },
     "output_type": "display_data"
    }
   ],
   "source": [
    "fig, ax = plt.subplots(1,1)\n",
    "ax.plot(sizes, t_numeric, 'o-', label='Inserting row-by-row')\n",
    "ax.plot(sizes, t_numeric_add, 'o-', label='Inserting row-by-row: add_result only')\n",
    "ax.plot(sizes, t_array, 'd-', label='Inserting as binary blob')\n",
    "ax.plot(sizes, t_array_add, 'd-', label='Inserting as binary blob: add_result only')\n",
    "ax.legend()\n",
    "ax.set_xlabel('Array length')\n",
    "ax.set_ylabel('Time (s)')\n",
    "fig.tight_layout()"
   ]
  },
  {
   "cell_type": "markdown",
   "metadata": {},
   "source": [
    "However, as we increase the length of the experiment, as seen here by repeating the insertion 100 times, we see a big difference between inserting values of the data row-by-row and inserting it as a binary blob."
   ]
  },
  {
   "cell_type": "markdown",
   "metadata": {},
   "source": [
    "## Loading the data "
   ]
  },
  {
   "cell_type": "code",
   "execution_count": 9,
   "metadata": {
    "execution": {
     "iopub.execute_input": "2021-05-20T05:50:04.507485Z",
     "iopub.status.busy": "2021-05-20T05:50:04.506994Z",
     "iopub.status.idle": "2021-05-20T05:50:04.510148Z",
     "shell.execute_reply": "2021-05-20T05:50:04.509750Z"
    }
   },
   "outputs": [],
   "source": [
    "from qcodes.dataset.data_set import load_by_id"
   ]
  },
  {
   "cell_type": "markdown",
   "metadata": {},
   "source": [
    "As usual you can load the data by using the ``load_by_id`` function but you will notice that the different storage methods\n",
    "are reflected in shape of the data as it is retrieved. "
   ]
  },
  {
   "cell_type": "code",
   "execution_count": 10,
   "metadata": {
    "execution": {
     "iopub.execute_input": "2021-05-20T05:50:04.514127Z",
     "iopub.status.busy": "2021-05-20T05:50:04.513160Z",
     "iopub.status.idle": "2021-05-20T05:50:04.514812Z",
     "shell.execute_reply": "2021-05-20T05:50:04.515183Z"
    }
   },
   "outputs": [],
   "source": [
    "run_id_n = t_numeric_run_ids[0]\n",
    "run_id_a = t_array_run_ids[0]"
   ]
  },
  {
   "cell_type": "code",
   "execution_count": 11,
   "metadata": {
    "execution": {
     "iopub.execute_input": "2021-05-20T05:50:04.518242Z",
     "iopub.status.busy": "2021-05-20T05:50:04.517662Z",
     "iopub.status.idle": "2021-05-20T05:50:04.526516Z",
     "shell.execute_reply": "2021-05-20T05:50:04.526094Z"
    },
    "scrolled": true
   },
   "outputs": [
    {
     "data": {
      "text/plain": [
       "{'x1': {'x1': array([0.61771902, 0.61771902, 0.63512124, 0.63512124, 0.54592875,\n",
       "         0.54592875, 0.24555902, 0.24555902, 0.97413847, 0.97413847,\n",
       "         0.08140074, 0.08140074, 0.434171  , 0.434171  , 0.3602906 ,\n",
       "         0.3602906 , 0.26920314, 0.26920314, 0.10246364, 0.10246364,\n",
       "         0.5672253 , 0.5672253 , 0.71976496, 0.71976496, 0.39408178,\n",
       "         0.39408178, 0.35877111, 0.35877111, 0.25730768, 0.25730768,\n",
       "         0.16109024, 0.16109024, 0.43290385, 0.43290385, 0.02257615,\n",
       "         0.02257615, 0.77295906, 0.77295906, 0.83974281, 0.83974281,\n",
       "         0.73948111, 0.73948111, 0.19162619, 0.19162619, 0.98105686,\n",
       "         0.98105686, 0.81803301, 0.81803301, 0.28946028, 0.28946028,\n",
       "         0.08006734, 0.08006734, 0.59985657, 0.59985657, 0.92776214,\n",
       "         0.92776214, 0.85085132, 0.85085132, 0.72710466, 0.72710466,\n",
       "         0.79447457, 0.79447457, 0.06337526, 0.06337526, 0.12557823,\n",
       "         0.12557823, 0.4381914 , 0.4381914 , 0.21633815, 0.21633815,\n",
       "         0.92186226, 0.92186226, 0.06901737, 0.06901737, 0.18626185,\n",
       "         0.18626185, 0.07506435, 0.07506435, 0.73314684, 0.73314684,\n",
       "         0.49695617, 0.49695617, 0.70695552, 0.70695552, 0.04494485,\n",
       "         0.04494485, 0.31178426, 0.31178426, 0.60918795, 0.60918795,\n",
       "         0.03786192, 0.03786192, 0.3731109 , 0.3731109 , 0.006681  ,\n",
       "         0.006681  , 0.41893357, 0.41893357, 0.6387741 , 0.6387741 ,\n",
       "         0.12398942, 0.12398942, 0.80926982, 0.80926982, 0.44271874,\n",
       "         0.44271874, 0.3218713 , 0.3218713 , 0.94422578, 0.94422578,\n",
       "         0.94802935, 0.94802935, 0.35393976, 0.35393976, 0.26169576,\n",
       "         0.26169576, 0.32023777, 0.32023777, 0.51910859, 0.51910859,\n",
       "         0.39685161, 0.39685161, 0.25920985, 0.25920985, 0.0214517 ,\n",
       "         0.0214517 , 0.26369962, 0.26369962, 0.21729015, 0.21729015,\n",
       "         0.2066335 , 0.2066335 , 0.1807512 , 0.1807512 , 0.28784948,\n",
       "         0.28784948, 0.09071696, 0.09071696, 0.82833164, 0.82833164,\n",
       "         0.66295483, 0.66295483, 0.2642481 , 0.2642481 , 0.36942719,\n",
       "         0.36942719, 0.6878287 , 0.6878287 , 0.20412115, 0.20412115,\n",
       "         0.99294077, 0.99294077, 0.70608519, 0.70608519, 0.47265306,\n",
       "         0.47265306, 0.65297835, 0.65297835, 0.31291895, 0.31291895,\n",
       "         0.17686247, 0.17686247, 0.58940843, 0.58940843, 0.49509263,\n",
       "         0.49509263, 0.29236571, 0.29236571, 0.34923565, 0.34923565,\n",
       "         0.59900407, 0.59900407, 0.62134691, 0.62134691, 0.92937699,\n",
       "         0.92937699, 0.42249271, 0.42249271, 0.44865868, 0.44865868,\n",
       "         0.56461588, 0.56461588, 0.35530633, 0.35530633, 0.4715072 ,\n",
       "         0.4715072 , 0.48727536, 0.48727536, 0.9942009 , 0.9942009 ,\n",
       "         0.02797859, 0.02797859, 0.59543018, 0.59543018, 0.45116811,\n",
       "         0.45116811, 0.51909848, 0.51909848, 0.51835576, 0.51835576])}}"
      ]
     },
     "execution_count": 1,
     "metadata": {},
     "output_type": "execute_result"
    }
   ],
   "source": [
    "ds = load_by_id(run_id_n)\n",
    "ds.get_parameter_data('x1')"
   ]
  },
  {
   "cell_type": "markdown",
   "metadata": {},
   "source": [
    "And a dataset stored as binary arrays"
   ]
  },
  {
   "cell_type": "code",
   "execution_count": 12,
   "metadata": {
    "execution": {
     "iopub.execute_input": "2021-05-20T05:50:04.529639Z",
     "iopub.status.busy": "2021-05-20T05:50:04.529142Z",
     "iopub.status.idle": "2021-05-20T05:50:04.578655Z",
     "shell.execute_reply": "2021-05-20T05:50:04.579120Z"
    },
    "scrolled": true
   },
   "outputs": [
    {
     "data": {
      "text/plain": [
       "{'x1': {'x1': array([[0.2309192 ],\n",
       "         [0.2309192 ],\n",
       "         [0.97083755],\n",
       "         [0.97083755],\n",
       "         [0.52222501],\n",
       "         [0.52222501],\n",
       "         [0.12591955],\n",
       "         [0.12591955],\n",
       "         [0.41044881],\n",
       "         [0.41044881],\n",
       "         [0.77825295],\n",
       "         [0.77825295],\n",
       "         [0.8125868 ],\n",
       "         [0.8125868 ],\n",
       "         [0.72746479],\n",
       "         [0.72746479],\n",
       "         [0.29317921],\n",
       "         [0.29317921],\n",
       "         [0.72836687],\n",
       "         [0.72836687],\n",
       "         [0.09365087],\n",
       "         [0.09365087],\n",
       "         [0.34295708],\n",
       "         [0.34295708],\n",
       "         [0.8615753 ],\n",
       "         [0.8615753 ],\n",
       "         [0.47893875],\n",
       "         [0.47893875],\n",
       "         [0.74232418],\n",
       "         [0.74232418],\n",
       "         [0.32846707],\n",
       "         [0.32846707],\n",
       "         [0.56668324],\n",
       "         [0.56668324],\n",
       "         [0.43415906],\n",
       "         [0.43415906],\n",
       "         [0.19342028],\n",
       "         [0.19342028],\n",
       "         [0.27871748],\n",
       "         [0.27871748],\n",
       "         [0.11950716],\n",
       "         [0.11950716],\n",
       "         [0.41142628],\n",
       "         [0.41142628],\n",
       "         [0.5076353 ],\n",
       "         [0.5076353 ],\n",
       "         [0.41248651],\n",
       "         [0.41248651],\n",
       "         [0.37811569],\n",
       "         [0.37811569],\n",
       "         [0.72690897],\n",
       "         [0.72690897],\n",
       "         [0.70401491],\n",
       "         [0.70401491],\n",
       "         [0.7424426 ],\n",
       "         [0.7424426 ],\n",
       "         [0.41322421],\n",
       "         [0.41322421],\n",
       "         [0.76573394],\n",
       "         [0.76573394],\n",
       "         [0.56853144],\n",
       "         [0.56853144],\n",
       "         [0.24539449],\n",
       "         [0.24539449],\n",
       "         [0.051116  ],\n",
       "         [0.051116  ],\n",
       "         [0.66907021],\n",
       "         [0.66907021],\n",
       "         [0.29223723],\n",
       "         [0.29223723],\n",
       "         [0.15439879],\n",
       "         [0.15439879],\n",
       "         [0.10917685],\n",
       "         [0.10917685],\n",
       "         [0.71167052],\n",
       "         [0.71167052],\n",
       "         [0.94506294],\n",
       "         [0.94506294],\n",
       "         [0.93481565],\n",
       "         [0.93481565],\n",
       "         [0.69853607],\n",
       "         [0.69853607],\n",
       "         [0.91095939],\n",
       "         [0.91095939],\n",
       "         [0.58078657],\n",
       "         [0.58078657],\n",
       "         [0.01250933],\n",
       "         [0.01250933],\n",
       "         [0.82637346],\n",
       "         [0.82637346],\n",
       "         [0.78749321],\n",
       "         [0.78749321],\n",
       "         [0.51402307],\n",
       "         [0.51402307],\n",
       "         [0.30129912],\n",
       "         [0.30129912],\n",
       "         [0.21917475],\n",
       "         [0.21917475],\n",
       "         [0.51965554],\n",
       "         [0.51965554],\n",
       "         [0.99894319],\n",
       "         [0.99894319],\n",
       "         [0.87049687],\n",
       "         [0.87049687],\n",
       "         [0.82838524],\n",
       "         [0.82838524],\n",
       "         [0.76529755],\n",
       "         [0.76529755],\n",
       "         [0.48642803],\n",
       "         [0.48642803],\n",
       "         [0.44938807],\n",
       "         [0.44938807],\n",
       "         [0.17090421],\n",
       "         [0.17090421],\n",
       "         [0.70109091],\n",
       "         [0.70109091],\n",
       "         [0.67654126],\n",
       "         [0.67654126],\n",
       "         [0.27020622],\n",
       "         [0.27020622],\n",
       "         [0.86213003],\n",
       "         [0.86213003],\n",
       "         [0.80170069],\n",
       "         [0.80170069],\n",
       "         [0.87647299],\n",
       "         [0.87647299],\n",
       "         [0.35139576],\n",
       "         [0.35139576],\n",
       "         [0.53497191],\n",
       "         [0.53497191],\n",
       "         [0.10321635],\n",
       "         [0.10321635],\n",
       "         [0.10139092],\n",
       "         [0.10139092],\n",
       "         [0.16758729],\n",
       "         [0.16758729],\n",
       "         [0.19354126],\n",
       "         [0.19354126],\n",
       "         [0.16497401],\n",
       "         [0.16497401],\n",
       "         [0.14331262],\n",
       "         [0.14331262],\n",
       "         [0.31685475],\n",
       "         [0.31685475],\n",
       "         [0.52391541],\n",
       "         [0.52391541],\n",
       "         [0.83027002],\n",
       "         [0.83027002],\n",
       "         [0.49711566],\n",
       "         [0.49711566],\n",
       "         [0.08299687],\n",
       "         [0.08299687],\n",
       "         [0.51947906],\n",
       "         [0.51947906],\n",
       "         [0.348828  ],\n",
       "         [0.348828  ],\n",
       "         [0.79429684],\n",
       "         [0.79429684],\n",
       "         [0.04313387],\n",
       "         [0.04313387],\n",
       "         [0.31981295],\n",
       "         [0.31981295],\n",
       "         [0.43957023],\n",
       "         [0.43957023],\n",
       "         [0.82110638],\n",
       "         [0.82110638],\n",
       "         [0.81119503],\n",
       "         [0.81119503],\n",
       "         [0.293664  ],\n",
       "         [0.293664  ],\n",
       "         [0.94087539],\n",
       "         [0.94087539],\n",
       "         [0.7286263 ],\n",
       "         [0.7286263 ],\n",
       "         [0.75938991],\n",
       "         [0.75938991],\n",
       "         [0.06720559],\n",
       "         [0.06720559],\n",
       "         [0.26808057],\n",
       "         [0.26808057],\n",
       "         [0.42416623],\n",
       "         [0.42416623],\n",
       "         [0.6608714 ],\n",
       "         [0.6608714 ],\n",
       "         [0.45919951],\n",
       "         [0.45919951],\n",
       "         [0.40973787],\n",
       "         [0.40973787],\n",
       "         [0.39669643],\n",
       "         [0.39669643],\n",
       "         [0.63226195],\n",
       "         [0.63226195],\n",
       "         [0.59455783],\n",
       "         [0.59455783],\n",
       "         [0.75753874],\n",
       "         [0.75753874],\n",
       "         [0.15809544],\n",
       "         [0.15809544],\n",
       "         [0.07687639],\n",
       "         [0.07687639]])}}"
      ]
     },
     "execution_count": 1,
     "metadata": {},
     "output_type": "execute_result"
    }
   ],
   "source": [
    "ds = load_by_id(run_id_a)\n",
    "ds.get_parameter_data('x1')"
   ]
  },
  {
   "cell_type": "code",
   "execution_count": null,
   "metadata": {},
   "outputs": [],
   "source": []
  }
 ],
 "metadata": {
  "kernelspec": {
   "display_name": "Python 3",
   "language": "python",
   "name": "python3"
  },
  "language_info": {
   "codemirror_mode": {
    "name": "ipython",
    "version": 3
   },
   "file_extension": ".py",
   "mimetype": "text/x-python",
   "name": "python",
   "nbconvert_exporter": "python",
   "pygments_lexer": "ipython3",
   "version": "3.7.10"
  },
  "nbsphinx": {
   "timeout": 600
  },
  "toc": {
   "base_numbering": 1,
   "nav_menu": {},
   "number_sections": true,
   "sideBar": true,
   "skip_h1_title": false,
   "title_cell": "Table of Contents",
   "title_sidebar": "Contents",
   "toc_cell": false,
   "toc_position": {},
   "toc_section_display": true,
   "toc_window_display": false
  },
  "varInspector": {
   "cols": {
    "lenName": 16,
    "lenType": 16,
    "lenVar": 40
   },
   "kernels_config": {
    "python": {
     "delete_cmd_postfix": "",
     "delete_cmd_prefix": "del ",
     "library": "var_list.py",
     "varRefreshCmd": "print(var_dic_list())"
    },
    "r": {
     "delete_cmd_postfix": ") ",
     "delete_cmd_prefix": "rm(",
     "library": "var_list.r",
     "varRefreshCmd": "cat(var_dic_list()) "
    }
   },
   "types_to_exclude": [
    "module",
    "function",
    "builtin_function_or_method",
    "instance",
    "_Feature"
   ],
   "window_display": false
  }
 },
 "nbformat": 4,
 "nbformat_minor": 4
}
