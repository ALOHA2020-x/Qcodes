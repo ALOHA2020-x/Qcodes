{
 "cells": [
  {
   "cell_type": "markdown",
   "metadata": {},
   "source": [
    "# DataSet Performance\n",
    "\n",
    "This notebook shows the trade-off between inserting data into a database row-by-row and as binary blobs. Inserting the data row-by-row means that we have direct access to all the data and may perform queries directly on the values of the data. On the other hand, as we shall see, this is much slower than inserting the data directly as binary blobs."
   ]
  },
  {
   "cell_type": "markdown",
   "metadata": {},
   "source": [
    "First, we choose a new location for the database to ensure that we don't add a bunch of benchmarking data to the default one."
   ]
  },
  {
   "cell_type": "code",
   "execution_count": 1,
   "metadata": {},
   "outputs": [
    {
     "name": "stdout",
     "output_type": "stream",
     "text": [
      "Logging hadn't been started.\n",
      "Activating auto-logging. Current session state plus future input saved.\n",
      "Filename       : /home/vsts/.qcodes/logs/command_history.log\n",
      "Mode           : append\n",
      "Output logging : True\n",
      "Raw input log  : False\n",
      "Timestamping   : True\n",
      "State          : active\n"
     ]
    },
    {
     "name": "stdout",
     "output_type": "stream",
     "text": [
      "Qcodes Logfile : /home/vsts/.qcodes/logs/200704-22532-qcodes.log\n"
     ]
    }
   ],
   "source": [
    "import os\n",
    "cwd = os.getcwd()\n",
    "import qcodes as qc\n",
    "qc.config[\"core\"][\"db_location\"] = os.path.join(cwd, 'testing.db')\n"
   ]
  },
  {
   "cell_type": "code",
   "execution_count": 2,
   "metadata": {},
   "outputs": [],
   "source": [
    "%matplotlib inline\n",
    "import time\n",
    "import matplotlib.pyplot as plt\n",
    "import numpy as np\n",
    "\n",
    "import qcodes as qc\n",
    "from qcodes.instrument.parameter import ManualParameter\n",
    "from qcodes.dataset.experiment_container import (Experiment,\n",
    "                                                 load_last_experiment,\n",
    "                                                 new_experiment)\n",
    "from qcodes.dataset.sqlite.database import initialise_database\n",
    "from qcodes import load_or_create_experiment\n",
    "from qcodes.dataset.measurements import Measurement"
   ]
  },
  {
   "cell_type": "code",
   "execution_count": 3,
   "metadata": {},
   "outputs": [
    {
     "name": "stdout",
     "output_type": "stream",
     "text": [
      "\r",
      "0it [00:00, ?it/s]"
     ]
    },
    {
     "name": "stdout",
     "output_type": "stream",
     "text": [
      "\r",
      "Upgrading database; v0 -> v1: : 0it [00:00, ?it/s]"
     ]
    },
    {
     "name": "stdout",
     "output_type": "stream",
     "text": [
      "\r",
      "Upgrading database; v0 -> v1: : 0it [00:00, ?it/s]"
     ]
    },
    {
     "name": "stdout",
     "output_type": "stream",
     "text": [
      "\n",
      "\r",
      "  0%|          | 0/1 [00:00<?, ?it/s]"
     ]
    },
    {
     "name": "stdout",
     "output_type": "stream",
     "text": [
      "\r",
      "Upgrading database; v1 -> v2:   0%|          | 0/1 [00:00<?, ?it/s]"
     ]
    },
    {
     "name": "stdout",
     "output_type": "stream",
     "text": [
      "\r",
      "Upgrading database; v1 -> v2: 100%|██████████| 1/1 [00:00<00:00, 754.51it/s]"
     ]
    },
    {
     "name": "stdout",
     "output_type": "stream",
     "text": [
      "\n",
      "\r",
      "0it [00:00, ?it/s]"
     ]
    },
    {
     "name": "stdout",
     "output_type": "stream",
     "text": [
      "\r",
      "Upgrading database; v2 -> v3: : 0it [00:00, ?it/s]"
     ]
    },
    {
     "name": "stdout",
     "output_type": "stream",
     "text": [
      "\r",
      "Upgrading database; v2 -> v3: : 0it [00:00, ?it/s]"
     ]
    },
    {
     "name": "stdout",
     "output_type": "stream",
     "text": [
      "\n",
      "\r",
      "0it [00:00, ?it/s]"
     ]
    },
    {
     "name": "stdout",
     "output_type": "stream",
     "text": [
      "\r",
      "Upgrading database; v3 -> v4: : 0it [00:00, ?it/s]"
     ]
    },
    {
     "name": "stdout",
     "output_type": "stream",
     "text": [
      "\r",
      "Upgrading database; v3 -> v4: : 0it [00:00, ?it/s]"
     ]
    },
    {
     "name": "stdout",
     "output_type": "stream",
     "text": [
      "\n",
      "\r",
      "  0%|          | 0/1 [00:00<?, ?it/s]"
     ]
    },
    {
     "name": "stdout",
     "output_type": "stream",
     "text": [
      "\r",
      "Upgrading database; v4 -> v5:   0%|          | 0/1 [00:00<?, ?it/s]"
     ]
    },
    {
     "name": "stdout",
     "output_type": "stream",
     "text": [
      "\r",
      "Upgrading database; v4 -> v5: 100%|██████████| 1/1 [00:00<00:00, 628.83it/s]"
     ]
    },
    {
     "name": "stdout",
     "output_type": "stream",
     "text": [
      "\n",
      "\r",
      "0it [00:00, ?it/s]"
     ]
    },
    {
     "name": "stdout",
     "output_type": "stream",
     "text": [
      "\r",
      "Upgrading database; v5 -> v6: : 0it [00:00, ?it/s]"
     ]
    },
    {
     "name": "stdout",
     "output_type": "stream",
     "text": [
      "\r",
      "Upgrading database; v5 -> v6: : 0it [00:00, ?it/s]"
     ]
    },
    {
     "name": "stdout",
     "output_type": "stream",
     "text": [
      "\n",
      "\r",
      "  0%|          | 0/1 [00:00<?, ?it/s]"
     ]
    },
    {
     "name": "stdout",
     "output_type": "stream",
     "text": [
      "\r",
      "Upgrading database; v6 -> v7:   0%|          | 0/1 [00:00<?, ?it/s]"
     ]
    },
    {
     "name": "stdout",
     "output_type": "stream",
     "text": [
      "\r",
      "Upgrading database; v6 -> v7: 100%|██████████| 1/1 [00:00<00:00, 336.84it/s]"
     ]
    },
    {
     "name": "stdout",
     "output_type": "stream",
     "text": [
      "\n",
      "\r",
      "  0%|          | 0/1 [00:00<?, ?it/s]"
     ]
    },
    {
     "name": "stdout",
     "output_type": "stream",
     "text": [
      "\r",
      "Upgrading database; v7 -> v8:   0%|          | 0/1 [00:00<?, ?it/s]"
     ]
    },
    {
     "name": "stdout",
     "output_type": "stream",
     "text": [
      "\r",
      "Upgrading database; v7 -> v8: 100%|██████████| 1/1 [00:00<00:00, 593.42it/s]"
     ]
    },
    {
     "name": "stdout",
     "output_type": "stream",
     "text": [
      "\n",
      "\r",
      "  0%|          | 0/1 [00:00<?, ?it/s]"
     ]
    },
    {
     "name": "stdout",
     "output_type": "stream",
     "text": [
      "\r",
      "Upgrading database; v8 -> v9:   0%|          | 0/1 [00:00<?, ?it/s]"
     ]
    },
    {
     "name": "stdout",
     "output_type": "stream",
     "text": [
      "\r",
      "Upgrading database; v8 -> v9: 100%|██████████| 1/1 [00:00<00:00, 892.03it/s]"
     ]
    },
    {
     "name": "stdout",
     "output_type": "stream",
     "text": [
      "\n"
     ]
    }
   ],
   "source": [
    "initialise_database()\n",
    "exp = load_or_create_experiment(experiment_name='tutorial_exp', sample_name=\"no sample\")"
   ]
  },
  {
   "cell_type": "markdown",
   "metadata": {},
   "source": [
    "Here, we define a simple function to benchmark the time it takes to insert n points with either numeric or array data type.\n",
    "We will compare both the time used to call ``add_result`` and the time used for the full measurement."
   ]
  },
  {
   "cell_type": "code",
   "execution_count": 4,
   "metadata": {},
   "outputs": [],
   "source": [
    "def insert_data(paramtype, npoints, nreps=1):\n",
    "\n",
    "    meas = Measurement(exp=exp)\n",
    "\n",
    "    x1 = ManualParameter('x1')\n",
    "    x2 = ManualParameter('x2')\n",
    "    x3 = ManualParameter('x3')\n",
    "    y1 = ManualParameter('y1')\n",
    "    y2 = ManualParameter('y2')\n",
    "\n",
    "    meas.register_parameter(x1, paramtype=paramtype)\n",
    "    meas.register_parameter(x2, paramtype=paramtype)\n",
    "    meas.register_parameter(x3, paramtype=paramtype)\n",
    "    meas.register_parameter(y1, setpoints=[x1, x2, x3],\n",
    "                            paramtype=paramtype)\n",
    "    meas.register_parameter(y2, setpoints=[x1, x2, x3],\n",
    "                            paramtype=paramtype)\n",
    "    start = time.perf_counter()\n",
    "    with meas.run() as datasaver:\n",
    "        start_adding = time.perf_counter()\n",
    "        for i in range(nreps):\n",
    "            datasaver.add_result((x1, np.random.rand(npoints)),\n",
    "                                 (x2, np.random.rand(npoints)),\n",
    "                                 (x3, np.random.rand(npoints)),\n",
    "                                 (y1, np.random.rand(npoints)),\n",
    "                                 (y2, np.random.rand(npoints)))\n",
    "        stop_adding = time.perf_counter()\n",
    "        run_id = datasaver.run_id\n",
    "    stop = time.perf_counter()\n",
    "    tot_time = stop - start\n",
    "    add_time = stop_adding - start_adding\n",
    "    return tot_time, add_time, run_id"
   ]
  },
  {
   "cell_type": "markdown",
   "metadata": {},
   "source": [
    "## Comparison between numeric/array data and binary blob"
   ]
  },
  {
   "cell_type": "markdown",
   "metadata": {},
   "source": [
    "### Case1: Short experiment time"
   ]
  },
  {
   "cell_type": "code",
   "execution_count": 5,
   "metadata": {},
   "outputs": [
    {
     "name": "stdout",
     "output_type": "stream",
     "text": [
      "Starting experimental run with id: 1. \n",
      "Starting experimental run with id: 2. \n",
      "Starting experimental run with id: 3. \n"
     ]
    },
    {
     "name": "stdout",
     "output_type": "stream",
     "text": [
      "Starting experimental run with id: 4. \n"
     ]
    },
    {
     "name": "stdout",
     "output_type": "stream",
     "text": [
      "Starting experimental run with id: 5. \n",
      "Starting experimental run with id: 6. \n"
     ]
    },
    {
     "name": "stdout",
     "output_type": "stream",
     "text": [
      "Starting experimental run with id: 7. \n",
      "Starting experimental run with id: 8. \n"
     ]
    },
    {
     "name": "stdout",
     "output_type": "stream",
     "text": [
      "Starting experimental run with id: 9. \n"
     ]
    },
    {
     "name": "stdout",
     "output_type": "stream",
     "text": [
      "Starting experimental run with id: 10. \n",
      "Starting experimental run with id: 11. \n"
     ]
    },
    {
     "name": "stdout",
     "output_type": "stream",
     "text": [
      "Starting experimental run with id: 12. \n"
     ]
    },
    {
     "name": "stdout",
     "output_type": "stream",
     "text": [
      "Starting experimental run with id: 13. \n"
     ]
    },
    {
     "name": "stdout",
     "output_type": "stream",
     "text": [
      "Starting experimental run with id: 14. \n"
     ]
    }
   ],
   "source": [
    "sizes = [1,500,1000,2000,3000,4000,5000]\n",
    "t_numeric = []\n",
    "t_numeric_add = []\n",
    "t_array = []\n",
    "t_array_add = []\n",
    "for size in sizes:\n",
    "    tn, tna, run_id_n =  insert_data('numeric', size)\n",
    "    t_numeric.append(tn)\n",
    "    t_numeric_add.append(tna)\n",
    "\n",
    "    ta, taa, run_id_a =  insert_data('array', size)\n",
    "    t_array.append(ta)\n",
    "    t_array_add.append(taa)"
   ]
  },
  {
   "cell_type": "code",
   "execution_count": 6,
   "metadata": {},
   "outputs": [
    {
     "data": {
      "image/png": "[encoded data removed]",
      "text/plain": [
       "<Figure size 432x288 with 1 Axes>"
      ]
     },
     "metadata": {
      "needs_background": "light"
     },
     "output_type": "display_data"
    }
   ],
   "source": [
    "fig, ax = plt.subplots(1,1)\n",
    "ax.plot(sizes, t_numeric, 'o-', label='Inserting row-by-row')\n",
    "ax.plot(sizes, t_numeric_add, 'o-', label='Inserting row-by-row: add_result only')\n",
    "ax.plot(sizes, t_array, 'd-', label='Inserting as binary blob')\n",
    "ax.plot(sizes, t_array_add, 'd-', label='Inserting as binary blob: add_result only')\n",
    "ax.legend()\n",
    "ax.set_xlabel('Array length')\n",
    "ax.set_ylabel('Time (s)')\n",
    "fig.tight_layout()"
   ]
  },
  {
   "cell_type": "markdown",
   "metadata": {},
   "source": [
    "As shown in the latter figure, the time to setup and and close the experiment is approximately 0.4 sec. In case of small array sizes, the difference between inserting values of data as arrays and inserting them row-by-row is relatively unimportant. At larger array sizes, i.e. above 10000 points, the cost of writing data as individual datapoints starts to become important.\n"
   ]
  },
  {
   "cell_type": "markdown",
   "metadata": {},
   "source": [
    "### Case2: Long experiment time "
   ]
  },
  {
   "cell_type": "code",
   "execution_count": 7,
   "metadata": {},
   "outputs": [
    {
     "name": "stdout",
     "output_type": "stream",
     "text": [
      "Starting experimental run with id: 15. \n",
      "Starting experimental run with id: 16. \n",
      "Starting experimental run with id: 17. \n"
     ]
    },
    {
     "name": "stdout",
     "output_type": "stream",
     "text": [
      "Starting experimental run with id: 18. \n",
      "Starting experimental run with id: 19. \n"
     ]
    },
    {
     "name": "stdout",
     "output_type": "stream",
     "text": [
      "Starting experimental run with id: 20. \n"
     ]
    },
    {
     "name": "stdout",
     "output_type": "stream",
     "text": [
      "Starting experimental run with id: 21. \n"
     ]
    },
    {
     "name": "stdout",
     "output_type": "stream",
     "text": [
      "Starting experimental run with id: 22. \n"
     ]
    },
    {
     "name": "stdout",
     "output_type": "stream",
     "text": [
      "Starting experimental run with id: 23. \n"
     ]
    },
    {
     "name": "stdout",
     "output_type": "stream",
     "text": [
      "Starting experimental run with id: 24. \n"
     ]
    },
    {
     "name": "stdout",
     "output_type": "stream",
     "text": [
      "Starting experimental run with id: 25. \n"
     ]
    },
    {
     "name": "stdout",
     "output_type": "stream",
     "text": [
      "Starting experimental run with id: 26. \n"
     ]
    },
    {
     "name": "stdout",
     "output_type": "stream",
     "text": [
      "Starting experimental run with id: 27. \n"
     ]
    },
    {
     "name": "stdout",
     "output_type": "stream",
     "text": [
      "Starting experimental run with id: 28. \n"
     ]
    }
   ],
   "source": [
    "sizes = [1,500,1000,2000,3000,4000,5000]\n",
    "nreps = 100\n",
    "t_numeric = []\n",
    "t_numeric_add = []\n",
    "t_numeric_run_ids = []\n",
    "t_array = []\n",
    "t_array_add = []\n",
    "t_array_run_ids = []\n",
    "for size in sizes:\n",
    "    tn, tna, run_id_n =  insert_data('numeric', size, nreps=nreps)\n",
    "    t_numeric.append(tn)\n",
    "    t_numeric_add.append(tna)\n",
    "    t_numeric_run_ids.append(run_id_n)\n",
    "\n",
    "    ta, taa, run_id_a =  insert_data('array', size, nreps=nreps)\n",
    "    t_array.append(ta)\n",
    "    t_array_add.append(taa)\n",
    "    t_array_run_ids.append(run_id_a)"
   ]
  },
  {
   "cell_type": "code",
   "execution_count": 8,
   "metadata": {
    "scrolled": true
   },
   "outputs": [
    {
     "data": {
      "image/png": "[encoded data removed]",
      "text/plain": [
       "<Figure size 432x288 with 1 Axes>"
      ]
     },
     "metadata": {
      "needs_background": "light"
     },
     "output_type": "display_data"
    }
   ],
   "source": [
    "fig, ax = plt.subplots(1,1)\n",
    "ax.plot(sizes, t_numeric, 'o-', label='Inserting row-by-row')\n",
    "ax.plot(sizes, t_numeric_add, 'o-', label='Inserting row-by-row: add_result only')\n",
    "ax.plot(sizes, t_array, 'd-', label='Inserting as binary blob')\n",
    "ax.plot(sizes, t_array_add, 'd-', label='Inserting as binary blob: add_result only')\n",
    "ax.legend()\n",
    "ax.set_xlabel('Array length')\n",
    "ax.set_ylabel('Time (s)')\n",
    "fig.tight_layout()"
   ]
  },
  {
   "cell_type": "markdown",
   "metadata": {},
   "source": [
    "However, as we increase the length of the experiment, as seen here by repeating the insertion 100 times, we see a big difference between inserting values of the data row-by-row and inserting it as a binary blob."
   ]
  },
  {
   "cell_type": "markdown",
   "metadata": {},
   "source": [
    "## Loading the data "
   ]
  },
  {
   "cell_type": "code",
   "execution_count": 9,
   "metadata": {},
   "outputs": [],
   "source": [
    "from qcodes.dataset.data_set import load_by_id\n",
    "from qcodes.dataset.data_export import get_data_by_id"
   ]
  },
  {
   "cell_type": "markdown",
   "metadata": {},
   "source": [
    "As usual you can load the data by using the ``load_by_id`` function but you will notice that the different storage methods\n",
    "are reflected in shape of the data as it is retrieved. "
   ]
  },
  {
   "cell_type": "code",
   "execution_count": 10,
   "metadata": {},
   "outputs": [],
   "source": [
    "run_id_n = t_numeric_run_ids[0]\n",
    "run_id_a = t_array_run_ids[0]"
   ]
  },
  {
   "cell_type": "code",
   "execution_count": 11,
   "metadata": {
    "scrolled": true
   },
   "outputs": [
    {
     "data": {
      "text/plain": [
       "{'x1': {'x1': array([0.49141628, 0.49141628, 0.95450367, 0.95450367, 0.91023645,\n",
       "         0.91023645, 0.26024348, 0.26024348, 0.77697622, 0.77697622,\n",
       "         0.01884625, 0.01884625, 0.2990822 , 0.2990822 , 0.11064333,\n",
       "         0.11064333, 0.81952893, 0.81952893, 0.23860103, 0.23860103,\n",
       "         0.80312235, 0.80312235, 0.36286846, 0.36286846, 0.2244606 ,\n",
       "         0.2244606 , 0.71308052, 0.71308052, 0.50272519, 0.50272519,\n",
       "         0.77922215, 0.77922215, 0.06681291, 0.06681291, 0.24232595,\n",
       "         0.24232595, 0.89343398, 0.89343398, 0.36683528, 0.36683528,\n",
       "         0.24842267, 0.24842267, 0.59807854, 0.59807854, 0.61316175,\n",
       "         0.61316175, 0.52952589, 0.52952589, 0.24176947, 0.24176947,\n",
       "         0.31736668, 0.31736668, 0.69345857, 0.69345857, 0.83095857,\n",
       "         0.83095857, 0.173597  , 0.173597  , 0.14316339, 0.14316339,\n",
       "         0.28889694, 0.28889694, 0.73826414, 0.73826414, 0.40019561,\n",
       "         0.40019561, 0.99588496, 0.99588496, 0.15820114, 0.15820114,\n",
       "         0.15331848, 0.15331848, 0.58841838, 0.58841838, 0.12742213,\n",
       "         0.12742213, 0.47408535, 0.47408535, 0.81751923, 0.81751923,\n",
       "         0.01025347, 0.01025347, 0.93222506, 0.93222506, 0.96764539,\n",
       "         0.96764539, 0.05758608, 0.05758608, 0.33593182, 0.33593182,\n",
       "         0.21924281, 0.21924281, 0.19043514, 0.19043514, 0.22463896,\n",
       "         0.22463896, 0.64883953, 0.64883953, 0.24996517, 0.24996517,\n",
       "         0.49905227, 0.49905227, 0.08034645, 0.08034645, 0.45811383,\n",
       "         0.45811383, 0.27760532, 0.27760532, 0.45910242, 0.45910242,\n",
       "         0.90392883, 0.90392883, 0.38252479, 0.38252479, 0.06273375,\n",
       "         0.06273375, 0.57744535, 0.57744535, 0.86142657, 0.86142657,\n",
       "         0.61422491, 0.61422491, 0.05830684, 0.05830684, 0.73984542,\n",
       "         0.73984542, 0.03752129, 0.03752129, 0.79915505, 0.79915505,\n",
       "         0.17869786, 0.17869786, 0.56949655, 0.56949655, 0.53431595,\n",
       "         0.53431595, 0.43838464, 0.43838464, 0.29596161, 0.29596161,\n",
       "         0.03391349, 0.03391349, 0.82441234, 0.82441234, 0.10906229,\n",
       "         0.10906229, 0.66634312, 0.66634312, 0.07813081, 0.07813081,\n",
       "         0.60637294, 0.60637294, 0.95748264, 0.95748264, 0.04609975,\n",
       "         0.04609975, 0.4898009 , 0.4898009 , 0.48580994, 0.48580994,\n",
       "         0.76896173, 0.76896173, 0.72343268, 0.72343268, 0.05020226,\n",
       "         0.05020226, 0.16157616, 0.16157616, 0.76449756, 0.76449756,\n",
       "         0.46070274, 0.46070274, 0.56540156, 0.56540156, 0.99713337,\n",
       "         0.99713337, 0.91167903, 0.91167903, 0.37982053, 0.37982053,\n",
       "         0.68372625, 0.68372625, 0.74040676, 0.74040676, 0.51456457,\n",
       "         0.51456457, 0.7693842 , 0.7693842 , 0.15449552, 0.15449552,\n",
       "         0.58867298, 0.58867298, 0.66007009, 0.66007009, 0.5884607 ,\n",
       "         0.5884607 , 0.07933483, 0.07933483, 0.71149082, 0.71149082])}}"
      ]
     },
     "execution_count": 11,
     "metadata": {},
     "output_type": "execute_result"
    }
   ],
   "source": [
    "ds = load_by_id(run_id_n)\n",
    "ds.get_parameter_data('x1')"
   ]
  },
  {
   "cell_type": "markdown",
   "metadata": {},
   "source": [
    "And a dataset stored as binary arrays"
   ]
  },
  {
   "cell_type": "code",
   "execution_count": 12,
   "metadata": {
    "scrolled": true
   },
   "outputs": [
    {
     "data": {
      "text/plain": [
       "{'x1': {'x1': array([[0.90000153],\n",
       "         [0.90000153],\n",
       "         [0.03762276],\n",
       "         [0.03762276],\n",
       "         [0.41205553],\n",
       "         [0.41205553],\n",
       "         [0.08339035],\n",
       "         [0.08339035],\n",
       "         [0.155696  ],\n",
       "         [0.155696  ],\n",
       "         [0.21440826],\n",
       "         [0.21440826],\n",
       "         [0.88546244],\n",
       "         [0.88546244],\n",
       "         [0.88854353],\n",
       "         [0.88854353],\n",
       "         [0.46931889],\n",
       "         [0.46931889],\n",
       "         [0.93318768],\n",
       "         [0.93318768],\n",
       "         [0.86902768],\n",
       "         [0.86902768],\n",
       "         [0.7365063 ],\n",
       "         [0.7365063 ],\n",
       "         [0.10252145],\n",
       "         [0.10252145],\n",
       "         [0.40558475],\n",
       "         [0.40558475],\n",
       "         [0.13861858],\n",
       "         [0.13861858],\n",
       "         [0.18568312],\n",
       "         [0.18568312],\n",
       "         [0.426038  ],\n",
       "         [0.426038  ],\n",
       "         [0.36826568],\n",
       "         [0.36826568],\n",
       "         [0.12909891],\n",
       "         [0.12909891],\n",
       "         [0.76145557],\n",
       "         [0.76145557],\n",
       "         [0.06845418],\n",
       "         [0.06845418],\n",
       "         [0.63851844],\n",
       "         [0.63851844],\n",
       "         [0.94468012],\n",
       "         [0.94468012],\n",
       "         [0.01534206],\n",
       "         [0.01534206],\n",
       "         [0.24686803],\n",
       "         [0.24686803],\n",
       "         [0.57078956],\n",
       "         [0.57078956],\n",
       "         [0.78476743],\n",
       "         [0.78476743],\n",
       "         [0.36972064],\n",
       "         [0.36972064],\n",
       "         [0.41282873],\n",
       "         [0.41282873],\n",
       "         [0.90027969],\n",
       "         [0.90027969],\n",
       "         [0.1257665 ],\n",
       "         [0.1257665 ],\n",
       "         [0.33760729],\n",
       "         [0.33760729],\n",
       "         [0.43042126],\n",
       "         [0.43042126],\n",
       "         [0.92288834],\n",
       "         [0.92288834],\n",
       "         [0.98443205],\n",
       "         [0.98443205],\n",
       "         [0.45013555],\n",
       "         [0.45013555],\n",
       "         [0.46892614],\n",
       "         [0.46892614],\n",
       "         [0.76818048],\n",
       "         [0.76818048],\n",
       "         [0.89347615],\n",
       "         [0.89347615],\n",
       "         [0.78581649],\n",
       "         [0.78581649],\n",
       "         [0.01677552],\n",
       "         [0.01677552],\n",
       "         [0.20184077],\n",
       "         [0.20184077],\n",
       "         [0.05793635],\n",
       "         [0.05793635],\n",
       "         [0.35916847],\n",
       "         [0.35916847],\n",
       "         [0.63309949],\n",
       "         [0.63309949],\n",
       "         [0.6038861 ],\n",
       "         [0.6038861 ],\n",
       "         [0.95196381],\n",
       "         [0.95196381],\n",
       "         [0.36153232],\n",
       "         [0.36153232],\n",
       "         [0.59284382],\n",
       "         [0.59284382],\n",
       "         [0.28751699],\n",
       "         [0.28751699],\n",
       "         [0.39388765],\n",
       "         [0.39388765],\n",
       "         [0.01472158],\n",
       "         [0.01472158],\n",
       "         [0.08986273],\n",
       "         [0.08986273],\n",
       "         [0.72935347],\n",
       "         [0.72935347],\n",
       "         [0.936604  ],\n",
       "         [0.936604  ],\n",
       "         [0.75871068],\n",
       "         [0.75871068],\n",
       "         [0.7523438 ],\n",
       "         [0.7523438 ],\n",
       "         [0.63233793],\n",
       "         [0.63233793],\n",
       "         [0.45666672],\n",
       "         [0.45666672],\n",
       "         [0.48857934],\n",
       "         [0.48857934],\n",
       "         [0.81299486],\n",
       "         [0.81299486],\n",
       "         [0.79377523],\n",
       "         [0.79377523],\n",
       "         [0.77815794],\n",
       "         [0.77815794],\n",
       "         [0.31033368],\n",
       "         [0.31033368],\n",
       "         [0.75048292],\n",
       "         [0.75048292],\n",
       "         [0.53976431],\n",
       "         [0.53976431],\n",
       "         [0.93804907],\n",
       "         [0.93804907],\n",
       "         [0.75179143],\n",
       "         [0.75179143],\n",
       "         [0.75787467],\n",
       "         [0.75787467],\n",
       "         [0.86295047],\n",
       "         [0.86295047],\n",
       "         [0.87758967],\n",
       "         [0.87758967],\n",
       "         [0.11741647],\n",
       "         [0.11741647],\n",
       "         [0.8026337 ],\n",
       "         [0.8026337 ],\n",
       "         [0.19054908],\n",
       "         [0.19054908],\n",
       "         [0.66269377],\n",
       "         [0.66269377],\n",
       "         [0.88064878],\n",
       "         [0.88064878],\n",
       "         [0.67137791],\n",
       "         [0.67137791],\n",
       "         [0.84433966],\n",
       "         [0.84433966],\n",
       "         [0.11464302],\n",
       "         [0.11464302],\n",
       "         [0.68674812],\n",
       "         [0.68674812],\n",
       "         [0.1542422 ],\n",
       "         [0.1542422 ],\n",
       "         [0.32413378],\n",
       "         [0.32413378],\n",
       "         [0.95120222],\n",
       "         [0.95120222],\n",
       "         [0.23278588],\n",
       "         [0.23278588],\n",
       "         [0.88662407],\n",
       "         [0.88662407],\n",
       "         [0.9636642 ],\n",
       "         [0.9636642 ],\n",
       "         [0.61937038],\n",
       "         [0.61937038],\n",
       "         [0.71327056],\n",
       "         [0.71327056],\n",
       "         [0.14256335],\n",
       "         [0.14256335],\n",
       "         [0.14070153],\n",
       "         [0.14070153],\n",
       "         [0.76376654],\n",
       "         [0.76376654],\n",
       "         [0.13381223],\n",
       "         [0.13381223],\n",
       "         [0.87958963],\n",
       "         [0.87958963],\n",
       "         [0.66502465],\n",
       "         [0.66502465],\n",
       "         [0.02225155],\n",
       "         [0.02225155],\n",
       "         [0.75840841],\n",
       "         [0.75840841],\n",
       "         [0.04827708],\n",
       "         [0.04827708],\n",
       "         [0.01970075],\n",
       "         [0.01970075],\n",
       "         [0.8950393 ],\n",
       "         [0.8950393 ],\n",
       "         [0.43989547],\n",
       "         [0.43989547]])}}"
      ]
     },
     "execution_count": 12,
     "metadata": {},
     "output_type": "execute_result"
    }
   ],
   "source": [
    "ds = load_by_id(run_id_a)\n",
    "ds.get_parameter_data('x1')"
   ]
  },
  {
   "cell_type": "code",
   "execution_count": null,
   "metadata": {},
   "outputs": [],
   "source": []
  }
 ],
 "metadata": {
  "kernelspec": {
   "display_name": "Python 3",
   "language": "python",
   "name": "python3"
  },
  "language_info": {
   "codemirror_mode": {
    "name": "ipython",
    "version": 3
   },
   "file_extension": ".py",
   "mimetype": "text/x-python",
   "name": "python",
   "nbconvert_exporter": "python",
   "pygments_lexer": "ipython3",
   "version": "3.7.7"
  },
  "nbsphinx": {
   "timeout": 600
  },
  "toc": {
   "base_numbering": 1,
   "nav_menu": {},
   "number_sections": true,
   "sideBar": true,
   "skip_h1_title": false,
   "title_cell": "Table of Contents",
   "title_sidebar": "Contents",
   "toc_cell": false,
   "toc_position": {},
   "toc_section_display": true,
   "toc_window_display": false
  },
  "varInspector": {
   "cols": {
    "lenName": 16,
    "lenType": 16,
    "lenVar": 40
   },
   "kernels_config": {
    "python": {
     "delete_cmd_postfix": "",
     "delete_cmd_prefix": "del ",
     "library": "var_list.py",
     "varRefreshCmd": "print(var_dic_list())"
    },
    "r": {
     "delete_cmd_postfix": ") ",
     "delete_cmd_prefix": "rm(",
     "library": "var_list.r",
     "varRefreshCmd": "cat(var_dic_list()) "
    }
   },
   "types_to_exclude": [
    "module",
    "function",
    "builtin_function_or_method",
    "instance",
    "_Feature"
   ],
   "window_display": false
  }
 },
 "nbformat": 4,
 "nbformat_minor": 2
}
