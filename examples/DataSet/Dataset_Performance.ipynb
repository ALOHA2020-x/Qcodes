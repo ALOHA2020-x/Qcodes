{
 "cells": [
  {
   "cell_type": "markdown",
   "metadata": {},
   "source": [
    "# DataSet Performance\n",
    "\n",
    "This notebook shows the trade-off between inserting data into a database row-by-row and as binary blobs. Inserting the data row-by-row means that we have direct access to all the data and may perform queries directly on the values of the data. On the other hand, as we shall see, this is much slower than inserting the data directly as binary blobs."
   ]
  },
  {
   "cell_type": "markdown",
   "metadata": {},
   "source": [
    "First, we choose a new location for the database to ensure that we don't add a bunch of benchmarking data to the default one."
   ]
  },
  {
   "cell_type": "code",
   "execution_count": 1,
   "metadata": {},
   "outputs": [
    {
     "name": "stdout",
     "output_type": "stream",
     "text": [
      "Logging hadn't been started.\n",
      "Activating auto-logging. Current session state plus future input saved.\n",
      "Filename       : /home/vsts/.qcodes/logs/command_history.log\n",
      "Mode           : append\n",
      "Output logging : True\n",
      "Raw input log  : False\n",
      "Timestamping   : True\n",
      "State          : active\n"
     ]
    },
    {
     "name": "stdout",
     "output_type": "stream",
     "text": [
      "Qcodes Logfile : /home/vsts/.qcodes/logs/200717-18948-qcodes.log\n"
     ]
    }
   ],
   "source": [
    "import os\n",
    "cwd = os.getcwd()\n",
    "import qcodes as qc\n",
    "qc.config[\"core\"][\"db_location\"] = os.path.join(cwd, 'testing.db')\n"
   ]
  },
  {
   "cell_type": "code",
   "execution_count": 2,
   "metadata": {},
   "outputs": [],
   "source": [
    "%matplotlib inline\n",
    "import time\n",
    "import matplotlib.pyplot as plt\n",
    "import numpy as np\n",
    "\n",
    "import qcodes as qc\n",
    "from qcodes.instrument.parameter import ManualParameter\n",
    "from qcodes.dataset.experiment_container import (Experiment,\n",
    "                                                 load_last_experiment,\n",
    "                                                 new_experiment)\n",
    "from qcodes.dataset.sqlite.database import initialise_database\n",
    "from qcodes import load_or_create_experiment\n",
    "from qcodes.dataset.measurements import Measurement"
   ]
  },
  {
   "cell_type": "code",
   "execution_count": 3,
   "metadata": {},
   "outputs": [
    {
     "name": "stdout",
     "output_type": "stream",
     "text": [
      "\r",
      "0it [00:00, ?it/s]"
     ]
    },
    {
     "name": "stdout",
     "output_type": "stream",
     "text": [
      "\r",
      "Upgrading database; v0 -> v1: : 0it [00:00, ?it/s]"
     ]
    },
    {
     "name": "stdout",
     "output_type": "stream",
     "text": [
      "\r",
      "Upgrading database; v0 -> v1: : 0it [00:00, ?it/s]"
     ]
    },
    {
     "name": "stdout",
     "output_type": "stream",
     "text": [
      "\n",
      "\r",
      "  0%|          | 0/1 [00:00<?, ?it/s]"
     ]
    },
    {
     "name": "stdout",
     "output_type": "stream",
     "text": [
      "\r",
      "Upgrading database; v1 -> v2:   0%|          | 0/1 [00:00<?, ?it/s]"
     ]
    },
    {
     "name": "stdout",
     "output_type": "stream",
     "text": [
      "\r",
      "Upgrading database; v1 -> v2: 100%|██████████| 1/1 [00:00<00:00, 918.80it/s]"
     ]
    },
    {
     "name": "stdout",
     "output_type": "stream",
     "text": [
      "\n",
      "\r",
      "0it [00:00, ?it/s]"
     ]
    },
    {
     "name": "stdout",
     "output_type": "stream",
     "text": [
      "\r",
      "Upgrading database; v2 -> v3: : 0it [00:00, ?it/s]"
     ]
    },
    {
     "name": "stdout",
     "output_type": "stream",
     "text": [
      "\r",
      "Upgrading database; v2 -> v3: : 0it [00:00, ?it/s]"
     ]
    },
    {
     "name": "stdout",
     "output_type": "stream",
     "text": [
      "\n",
      "\r",
      "0it [00:00, ?it/s]"
     ]
    },
    {
     "name": "stdout",
     "output_type": "stream",
     "text": [
      "\r",
      "Upgrading database; v3 -> v4: : 0it [00:00, ?it/s]"
     ]
    },
    {
     "name": "stdout",
     "output_type": "stream",
     "text": [
      "\r",
      "Upgrading database; v3 -> v4: : 0it [00:00, ?it/s]"
     ]
    },
    {
     "name": "stdout",
     "output_type": "stream",
     "text": [
      "\n",
      "\r",
      "  0%|          | 0/1 [00:00<?, ?it/s]"
     ]
    },
    {
     "name": "stdout",
     "output_type": "stream",
     "text": [
      "\r",
      "Upgrading database; v4 -> v5:   0%|          | 0/1 [00:00<?, ?it/s]"
     ]
    },
    {
     "name": "stdout",
     "output_type": "stream",
     "text": [
      "\r",
      "Upgrading database; v4 -> v5: 100%|██████████| 1/1 [00:00<00:00, 930.62it/s]"
     ]
    },
    {
     "name": "stdout",
     "output_type": "stream",
     "text": [
      "\n",
      "\r",
      "0it [00:00, ?it/s]"
     ]
    },
    {
     "name": "stdout",
     "output_type": "stream",
     "text": [
      "\r",
      "Upgrading database; v5 -> v6: : 0it [00:00, ?it/s]"
     ]
    },
    {
     "name": "stdout",
     "output_type": "stream",
     "text": [
      "\r",
      "Upgrading database; v5 -> v6: : 0it [00:00, ?it/s]"
     ]
    },
    {
     "name": "stdout",
     "output_type": "stream",
     "text": [
      "\n",
      "\r",
      "  0%|          | 0/1 [00:00<?, ?it/s]"
     ]
    },
    {
     "name": "stdout",
     "output_type": "stream",
     "text": [
      "\r",
      "Upgrading database; v6 -> v7:   0%|          | 0/1 [00:00<?, ?it/s]"
     ]
    },
    {
     "name": "stdout",
     "output_type": "stream",
     "text": [
      "\r",
      "Upgrading database; v6 -> v7: 100%|██████████| 1/1 [00:00<00:00, 422.73it/s]"
     ]
    },
    {
     "name": "stdout",
     "output_type": "stream",
     "text": [
      "\n",
      "\r",
      "  0%|          | 0/1 [00:00<?, ?it/s]"
     ]
    },
    {
     "name": "stdout",
     "output_type": "stream",
     "text": [
      "\r",
      "Upgrading database; v7 -> v8:   0%|          | 0/1 [00:00<?, ?it/s]"
     ]
    },
    {
     "name": "stdout",
     "output_type": "stream",
     "text": [
      "\r",
      "Upgrading database; v7 -> v8: 100%|██████████| 1/1 [00:00<00:00, 837.69it/s]"
     ]
    },
    {
     "name": "stdout",
     "output_type": "stream",
     "text": [
      "\n",
      "\r",
      "  0%|          | 0/1 [00:00<?, ?it/s]"
     ]
    },
    {
     "name": "stdout",
     "output_type": "stream",
     "text": [
      "\r",
      "Upgrading database; v8 -> v9:   0%|          | 0/1 [00:00<?, ?it/s]"
     ]
    },
    {
     "name": "stdout",
     "output_type": "stream",
     "text": [
      "\r",
      "Upgrading database; v8 -> v9: 100%|██████████| 1/1 [00:00<00:00, 1032.83it/s]"
     ]
    },
    {
     "name": "stdout",
     "output_type": "stream",
     "text": [
      "\n"
     ]
    }
   ],
   "source": [
    "initialise_database()\n",
    "exp = load_or_create_experiment(experiment_name='tutorial_exp', sample_name=\"no sample\")"
   ]
  },
  {
   "cell_type": "markdown",
   "metadata": {},
   "source": [
    "Here, we define a simple function to benchmark the time it takes to insert n points with either numeric or array data type.\n",
    "We will compare both the time used to call ``add_result`` and the time used for the full measurement."
   ]
  },
  {
   "cell_type": "code",
   "execution_count": 4,
   "metadata": {},
   "outputs": [],
   "source": [
    "def insert_data(paramtype, npoints, nreps=1):\n",
    "\n",
    "    meas = Measurement(exp=exp)\n",
    "\n",
    "    x1 = ManualParameter('x1')\n",
    "    x2 = ManualParameter('x2')\n",
    "    x3 = ManualParameter('x3')\n",
    "    y1 = ManualParameter('y1')\n",
    "    y2 = ManualParameter('y2')\n",
    "\n",
    "    meas.register_parameter(x1, paramtype=paramtype)\n",
    "    meas.register_parameter(x2, paramtype=paramtype)\n",
    "    meas.register_parameter(x3, paramtype=paramtype)\n",
    "    meas.register_parameter(y1, setpoints=[x1, x2, x3],\n",
    "                            paramtype=paramtype)\n",
    "    meas.register_parameter(y2, setpoints=[x1, x2, x3],\n",
    "                            paramtype=paramtype)\n",
    "    start = time.perf_counter()\n",
    "    with meas.run() as datasaver:\n",
    "        start_adding = time.perf_counter()\n",
    "        for i in range(nreps):\n",
    "            datasaver.add_result((x1, np.random.rand(npoints)),\n",
    "                                 (x2, np.random.rand(npoints)),\n",
    "                                 (x3, np.random.rand(npoints)),\n",
    "                                 (y1, np.random.rand(npoints)),\n",
    "                                 (y2, np.random.rand(npoints)))\n",
    "        stop_adding = time.perf_counter()\n",
    "        run_id = datasaver.run_id\n",
    "    stop = time.perf_counter()\n",
    "    tot_time = stop - start\n",
    "    add_time = stop_adding - start_adding\n",
    "    return tot_time, add_time, run_id"
   ]
  },
  {
   "cell_type": "markdown",
   "metadata": {},
   "source": [
    "## Comparison between numeric/array data and binary blob"
   ]
  },
  {
   "cell_type": "markdown",
   "metadata": {},
   "source": [
    "### Case1: Short experiment time"
   ]
  },
  {
   "cell_type": "code",
   "execution_count": 5,
   "metadata": {},
   "outputs": [
    {
     "name": "stdout",
     "output_type": "stream",
     "text": [
      "Starting experimental run with id: 1. \n",
      "Starting experimental run with id: 2. \n",
      "Starting experimental run with id: 3. \n",
      "Starting experimental run with id: 4. \n"
     ]
    },
    {
     "name": "stdout",
     "output_type": "stream",
     "text": [
      "Starting experimental run with id: 5. \n"
     ]
    },
    {
     "name": "stdout",
     "output_type": "stream",
     "text": [
      "Starting experimental run with id: 6. \n",
      "Starting experimental run with id: 7. \n"
     ]
    },
    {
     "name": "stdout",
     "output_type": "stream",
     "text": [
      "Starting experimental run with id: 8. \n",
      "Starting experimental run with id: 9. \n"
     ]
    },
    {
     "name": "stdout",
     "output_type": "stream",
     "text": [
      "Starting experimental run with id: 10. \n",
      "Starting experimental run with id: 11. \n"
     ]
    },
    {
     "name": "stdout",
     "output_type": "stream",
     "text": [
      "Starting experimental run with id: 12. \n",
      "Starting experimental run with id: 13. \n"
     ]
    },
    {
     "name": "stdout",
     "output_type": "stream",
     "text": [
      "Starting experimental run with id: 14. \n"
     ]
    }
   ],
   "source": [
    "sizes = [1,500,1000,2000,3000,4000,5000]\n",
    "t_numeric = []\n",
    "t_numeric_add = []\n",
    "t_array = []\n",
    "t_array_add = []\n",
    "for size in sizes:\n",
    "    tn, tna, run_id_n =  insert_data('numeric', size)\n",
    "    t_numeric.append(tn)\n",
    "    t_numeric_add.append(tna)\n",
    "\n",
    "    ta, taa, run_id_a =  insert_data('array', size)\n",
    "    t_array.append(ta)\n",
    "    t_array_add.append(taa)"
   ]
  },
  {
   "cell_type": "code",
   "execution_count": 6,
   "metadata": {},
   "outputs": [
    {
     "data": {
      "image/png": "[encoded data removed]",
      "text/plain": [
       "<Figure size 432x288 with 1 Axes>"
      ]
     },
     "metadata": {
      "needs_background": "light"
     },
     "output_type": "display_data"
    }
   ],
   "source": [
    "fig, ax = plt.subplots(1,1)\n",
    "ax.plot(sizes, t_numeric, 'o-', label='Inserting row-by-row')\n",
    "ax.plot(sizes, t_numeric_add, 'o-', label='Inserting row-by-row: add_result only')\n",
    "ax.plot(sizes, t_array, 'd-', label='Inserting as binary blob')\n",
    "ax.plot(sizes, t_array_add, 'd-', label='Inserting as binary blob: add_result only')\n",
    "ax.legend()\n",
    "ax.set_xlabel('Array length')\n",
    "ax.set_ylabel('Time (s)')\n",
    "fig.tight_layout()"
   ]
  },
  {
   "cell_type": "markdown",
   "metadata": {},
   "source": [
    "As shown in the latter figure, the time to setup and and close the experiment is approximately 0.4 sec. In case of small array sizes, the difference between inserting values of data as arrays and inserting them row-by-row is relatively unimportant. At larger array sizes, i.e. above 10000 points, the cost of writing data as individual datapoints starts to become important.\n"
   ]
  },
  {
   "cell_type": "markdown",
   "metadata": {},
   "source": [
    "### Case2: Long experiment time "
   ]
  },
  {
   "cell_type": "code",
   "execution_count": 7,
   "metadata": {},
   "outputs": [
    {
     "name": "stdout",
     "output_type": "stream",
     "text": [
      "Starting experimental run with id: 15. \n",
      "Starting experimental run with id: 16. \n",
      "Starting experimental run with id: 17. \n"
     ]
    },
    {
     "name": "stdout",
     "output_type": "stream",
     "text": [
      "Starting experimental run with id: 18. \n",
      "Starting experimental run with id: 19. \n"
     ]
    },
    {
     "name": "stdout",
     "output_type": "stream",
     "text": [
      "Starting experimental run with id: 20. \n"
     ]
    },
    {
     "name": "stdout",
     "output_type": "stream",
     "text": [
      "Starting experimental run with id: 21. \n"
     ]
    },
    {
     "name": "stdout",
     "output_type": "stream",
     "text": [
      "Starting experimental run with id: 22. \n"
     ]
    },
    {
     "name": "stdout",
     "output_type": "stream",
     "text": [
      "Starting experimental run with id: 23. \n"
     ]
    },
    {
     "name": "stdout",
     "output_type": "stream",
     "text": [
      "Starting experimental run with id: 24. \n"
     ]
    },
    {
     "name": "stdout",
     "output_type": "stream",
     "text": [
      "Starting experimental run with id: 25. \n"
     ]
    },
    {
     "name": "stdout",
     "output_type": "stream",
     "text": [
      "Starting experimental run with id: 26. \n"
     ]
    },
    {
     "name": "stdout",
     "output_type": "stream",
     "text": [
      "Starting experimental run with id: 27. \n"
     ]
    },
    {
     "name": "stdout",
     "output_type": "stream",
     "text": [
      "Starting experimental run with id: 28. \n"
     ]
    }
   ],
   "source": [
    "sizes = [1,500,1000,2000,3000,4000,5000]\n",
    "nreps = 100\n",
    "t_numeric = []\n",
    "t_numeric_add = []\n",
    "t_numeric_run_ids = []\n",
    "t_array = []\n",
    "t_array_add = []\n",
    "t_array_run_ids = []\n",
    "for size in sizes:\n",
    "    tn, tna, run_id_n =  insert_data('numeric', size, nreps=nreps)\n",
    "    t_numeric.append(tn)\n",
    "    t_numeric_add.append(tna)\n",
    "    t_numeric_run_ids.append(run_id_n)\n",
    "\n",
    "    ta, taa, run_id_a =  insert_data('array', size, nreps=nreps)\n",
    "    t_array.append(ta)\n",
    "    t_array_add.append(taa)\n",
    "    t_array_run_ids.append(run_id_a)"
   ]
  },
  {
   "cell_type": "code",
   "execution_count": 8,
   "metadata": {
    "scrolled": true
   },
   "outputs": [
    {
     "data": {
      "image/png": "[encoded data removed]",
      "text/plain": [
       "<Figure size 432x288 with 1 Axes>"
      ]
     },
     "metadata": {
      "needs_background": "light"
     },
     "output_type": "display_data"
    }
   ],
   "source": [
    "fig, ax = plt.subplots(1,1)\n",
    "ax.plot(sizes, t_numeric, 'o-', label='Inserting row-by-row')\n",
    "ax.plot(sizes, t_numeric_add, 'o-', label='Inserting row-by-row: add_result only')\n",
    "ax.plot(sizes, t_array, 'd-', label='Inserting as binary blob')\n",
    "ax.plot(sizes, t_array_add, 'd-', label='Inserting as binary blob: add_result only')\n",
    "ax.legend()\n",
    "ax.set_xlabel('Array length')\n",
    "ax.set_ylabel('Time (s)')\n",
    "fig.tight_layout()"
   ]
  },
  {
   "cell_type": "markdown",
   "metadata": {},
   "source": [
    "However, as we increase the length of the experiment, as seen here by repeating the insertion 100 times, we see a big difference between inserting values of the data row-by-row and inserting it as a binary blob."
   ]
  },
  {
   "cell_type": "markdown",
   "metadata": {},
   "source": [
    "## Loading the data "
   ]
  },
  {
   "cell_type": "code",
   "execution_count": 9,
   "metadata": {},
   "outputs": [],
   "source": [
    "from qcodes.dataset.data_set import load_by_id\n",
    "from qcodes.dataset.data_export import get_data_by_id"
   ]
  },
  {
   "cell_type": "markdown",
   "metadata": {},
   "source": [
    "As usual you can load the data by using the ``load_by_id`` function but you will notice that the different storage methods\n",
    "are reflected in shape of the data as it is retrieved. "
   ]
  },
  {
   "cell_type": "code",
   "execution_count": 10,
   "metadata": {},
   "outputs": [],
   "source": [
    "run_id_n = t_numeric_run_ids[0]\n",
    "run_id_a = t_array_run_ids[0]"
   ]
  },
  {
   "cell_type": "code",
   "execution_count": 11,
   "metadata": {
    "scrolled": true
   },
   "outputs": [
    {
     "data": {
      "text/plain": [
       "{'x1': {'x1': array([0.12491422, 0.12491422, 0.03692661, 0.03692661, 0.57839082,\n",
       "         0.57839082, 0.6413484 , 0.6413484 , 0.49330814, 0.49330814,\n",
       "         0.65369598, 0.65369598, 0.15310946, 0.15310946, 0.32992142,\n",
       "         0.32992142, 0.37987108, 0.37987108, 0.26517299, 0.26517299,\n",
       "         0.29304045, 0.29304045, 0.74918594, 0.74918594, 0.23288213,\n",
       "         0.23288213, 0.34602686, 0.34602686, 0.4877779 , 0.4877779 ,\n",
       "         0.4632794 , 0.4632794 , 0.84813431, 0.84813431, 0.86720757,\n",
       "         0.86720757, 0.98450815, 0.98450815, 0.05493861, 0.05493861,\n",
       "         0.25420889, 0.25420889, 0.73215203, 0.73215203, 0.82871974,\n",
       "         0.82871974, 0.50810062, 0.50810062, 0.94252389, 0.94252389,\n",
       "         0.32145287, 0.32145287, 0.8100455 , 0.8100455 , 0.4458687 ,\n",
       "         0.4458687 , 0.90976737, 0.90976737, 0.04817281, 0.04817281,\n",
       "         0.37867705, 0.37867705, 0.24665287, 0.24665287, 0.35934915,\n",
       "         0.35934915, 0.82007129, 0.82007129, 0.70166458, 0.70166458,\n",
       "         0.50686952, 0.50686952, 0.38530944, 0.38530944, 0.00615901,\n",
       "         0.00615901, 0.02460729, 0.02460729, 0.42356553, 0.42356553,\n",
       "         0.70800414, 0.70800414, 0.90147163, 0.90147163, 0.38611849,\n",
       "         0.38611849, 0.57477721, 0.57477721, 0.14142494, 0.14142494,\n",
       "         0.382647  , 0.382647  , 0.72990737, 0.72990737, 0.60958857,\n",
       "         0.60958857, 0.83870708, 0.83870708, 0.11880035, 0.11880035,\n",
       "         0.51440722, 0.51440722, 0.35283345, 0.35283345, 0.42686625,\n",
       "         0.42686625, 0.90249311, 0.90249311, 0.73544144, 0.73544144,\n",
       "         0.16760385, 0.16760385, 0.73288698, 0.73288698, 0.77052502,\n",
       "         0.77052502, 0.23946534, 0.23946534, 0.40577718, 0.40577718,\n",
       "         0.80427006, 0.80427006, 0.83834673, 0.83834673, 0.16747764,\n",
       "         0.16747764, 0.55177006, 0.55177006, 0.37659959, 0.37659959,\n",
       "         0.84253715, 0.84253715, 0.69099967, 0.69099967, 0.27029494,\n",
       "         0.27029494, 0.06749626, 0.06749626, 0.43275568, 0.43275568,\n",
       "         0.59250626, 0.59250626, 0.66115437, 0.66115437, 0.80653365,\n",
       "         0.80653365, 0.47488905, 0.47488905, 0.68724194, 0.68724194,\n",
       "         0.3872973 , 0.3872973 , 0.55716491, 0.55716491, 0.06738307,\n",
       "         0.06738307, 0.83725217, 0.83725217, 0.1428472 , 0.1428472 ,\n",
       "         0.26416732, 0.26416732, 0.3656589 , 0.3656589 , 0.5330187 ,\n",
       "         0.5330187 , 0.06559183, 0.06559183, 0.91707634, 0.91707634,\n",
       "         0.67556409, 0.67556409, 0.51999396, 0.51999396, 0.60611998,\n",
       "         0.60611998, 0.63365327, 0.63365327, 0.65594871, 0.65594871,\n",
       "         0.84308981, 0.84308981, 0.65714283, 0.65714283, 0.85329598,\n",
       "         0.85329598, 0.46091162, 0.46091162, 0.49114976, 0.49114976,\n",
       "         0.00245508, 0.00245508, 0.81666209, 0.81666209, 0.83111493,\n",
       "         0.83111493, 0.17841668, 0.17841668, 0.75526769, 0.75526769])}}"
      ]
     },
     "execution_count": 11,
     "metadata": {},
     "output_type": "execute_result"
    }
   ],
   "source": [
    "ds = load_by_id(run_id_n)\n",
    "ds.get_parameter_data('x1')"
   ]
  },
  {
   "cell_type": "markdown",
   "metadata": {},
   "source": [
    "And a dataset stored as binary arrays"
   ]
  },
  {
   "cell_type": "code",
   "execution_count": 12,
   "metadata": {
    "scrolled": true
   },
   "outputs": [
    {
     "data": {
      "text/plain": [
       "{'x1': {'x1': array([[0.62860044],\n",
       "         [0.62860044],\n",
       "         [0.62026875],\n",
       "         [0.62026875],\n",
       "         [0.50163293],\n",
       "         [0.50163293],\n",
       "         [0.21240382],\n",
       "         [0.21240382],\n",
       "         [0.07182342],\n",
       "         [0.07182342],\n",
       "         [0.12403443],\n",
       "         [0.12403443],\n",
       "         [0.42088797],\n",
       "         [0.42088797],\n",
       "         [0.80897743],\n",
       "         [0.80897743],\n",
       "         [0.52496389],\n",
       "         [0.52496389],\n",
       "         [0.17662713],\n",
       "         [0.17662713],\n",
       "         [0.09981515],\n",
       "         [0.09981515],\n",
       "         [0.22273696],\n",
       "         [0.22273696],\n",
       "         [0.08235447],\n",
       "         [0.08235447],\n",
       "         [0.06263473],\n",
       "         [0.06263473],\n",
       "         [0.61298117],\n",
       "         [0.61298117],\n",
       "         [0.58487979],\n",
       "         [0.58487979],\n",
       "         [0.98094158],\n",
       "         [0.98094158],\n",
       "         [0.4287554 ],\n",
       "         [0.4287554 ],\n",
       "         [0.86081412],\n",
       "         [0.86081412],\n",
       "         [0.21694294],\n",
       "         [0.21694294],\n",
       "         [0.03057248],\n",
       "         [0.03057248],\n",
       "         [0.99689998],\n",
       "         [0.99689998],\n",
       "         [0.76991012],\n",
       "         [0.76991012],\n",
       "         [0.26376174],\n",
       "         [0.26376174],\n",
       "         [0.31860984],\n",
       "         [0.31860984],\n",
       "         [0.35744465],\n",
       "         [0.35744465],\n",
       "         [0.20476147],\n",
       "         [0.20476147],\n",
       "         [0.51859904],\n",
       "         [0.51859904],\n",
       "         [0.18262618],\n",
       "         [0.18262618],\n",
       "         [0.7306789 ],\n",
       "         [0.7306789 ],\n",
       "         [0.45794218],\n",
       "         [0.45794218],\n",
       "         [0.28630816],\n",
       "         [0.28630816],\n",
       "         [0.44895917],\n",
       "         [0.44895917],\n",
       "         [0.57644225],\n",
       "         [0.57644225],\n",
       "         [0.62114442],\n",
       "         [0.62114442],\n",
       "         [0.01761815],\n",
       "         [0.01761815],\n",
       "         [0.76749806],\n",
       "         [0.76749806],\n",
       "         [0.01465076],\n",
       "         [0.01465076],\n",
       "         [0.0800377 ],\n",
       "         [0.0800377 ],\n",
       "         [0.89774161],\n",
       "         [0.89774161],\n",
       "         [0.55977309],\n",
       "         [0.55977309],\n",
       "         [0.7032883 ],\n",
       "         [0.7032883 ],\n",
       "         [0.6302928 ],\n",
       "         [0.6302928 ],\n",
       "         [0.72087913],\n",
       "         [0.72087913],\n",
       "         [0.20124818],\n",
       "         [0.20124818],\n",
       "         [0.20948781],\n",
       "         [0.20948781],\n",
       "         [0.29488955],\n",
       "         [0.29488955],\n",
       "         [0.24225688],\n",
       "         [0.24225688],\n",
       "         [0.30458598],\n",
       "         [0.30458598],\n",
       "         [0.37809677],\n",
       "         [0.37809677],\n",
       "         [0.83003396],\n",
       "         [0.83003396],\n",
       "         [0.89327427],\n",
       "         [0.89327427],\n",
       "         [0.34738164],\n",
       "         [0.34738164],\n",
       "         [0.65188134],\n",
       "         [0.65188134],\n",
       "         [0.15612433],\n",
       "         [0.15612433],\n",
       "         [0.66477851],\n",
       "         [0.66477851],\n",
       "         [0.22994856],\n",
       "         [0.22994856],\n",
       "         [0.22203476],\n",
       "         [0.22203476],\n",
       "         [0.67911825],\n",
       "         [0.67911825],\n",
       "         [0.40175576],\n",
       "         [0.40175576],\n",
       "         [0.61372778],\n",
       "         [0.61372778],\n",
       "         [0.60940118],\n",
       "         [0.60940118],\n",
       "         [0.00924042],\n",
       "         [0.00924042],\n",
       "         [0.00248156],\n",
       "         [0.00248156],\n",
       "         [0.91114204],\n",
       "         [0.91114204],\n",
       "         [0.94618672],\n",
       "         [0.94618672],\n",
       "         [0.82618391],\n",
       "         [0.82618391],\n",
       "         [0.27893071],\n",
       "         [0.27893071],\n",
       "         [0.57493638],\n",
       "         [0.57493638],\n",
       "         [0.97504725],\n",
       "         [0.97504725],\n",
       "         [0.54972198],\n",
       "         [0.54972198],\n",
       "         [0.91738178],\n",
       "         [0.91738178],\n",
       "         [0.374957  ],\n",
       "         [0.374957  ],\n",
       "         [0.55897046],\n",
       "         [0.55897046],\n",
       "         [0.09283367],\n",
       "         [0.09283367],\n",
       "         [0.34220231],\n",
       "         [0.34220231],\n",
       "         [0.83105119],\n",
       "         [0.83105119],\n",
       "         [0.61477163],\n",
       "         [0.61477163],\n",
       "         [0.5501118 ],\n",
       "         [0.5501118 ],\n",
       "         [0.34971927],\n",
       "         [0.34971927],\n",
       "         [0.78046598],\n",
       "         [0.78046598],\n",
       "         [0.37350645],\n",
       "         [0.37350645],\n",
       "         [0.66244199],\n",
       "         [0.66244199],\n",
       "         [0.76192466],\n",
       "         [0.76192466],\n",
       "         [0.81645405],\n",
       "         [0.81645405],\n",
       "         [0.19231375],\n",
       "         [0.19231375],\n",
       "         [0.16643704],\n",
       "         [0.16643704],\n",
       "         [0.99074091],\n",
       "         [0.99074091],\n",
       "         [0.67918539],\n",
       "         [0.67918539],\n",
       "         [0.93857345],\n",
       "         [0.93857345],\n",
       "         [0.01077636],\n",
       "         [0.01077636],\n",
       "         [0.41907376],\n",
       "         [0.41907376],\n",
       "         [0.46378853],\n",
       "         [0.46378853],\n",
       "         [0.10185943],\n",
       "         [0.10185943],\n",
       "         [0.83034684],\n",
       "         [0.83034684],\n",
       "         [0.54813115],\n",
       "         [0.54813115],\n",
       "         [0.73787732],\n",
       "         [0.73787732],\n",
       "         [0.74975761],\n",
       "         [0.74975761],\n",
       "         [0.45546682],\n",
       "         [0.45546682],\n",
       "         [0.16007904],\n",
       "         [0.16007904]])}}"
      ]
     },
     "execution_count": 12,
     "metadata": {},
     "output_type": "execute_result"
    }
   ],
   "source": [
    "ds = load_by_id(run_id_a)\n",
    "ds.get_parameter_data('x1')"
   ]
  },
  {
   "cell_type": "code",
   "execution_count": null,
   "metadata": {},
   "outputs": [],
   "source": []
  }
 ],
 "metadata": {
  "kernelspec": {
   "display_name": "Python 3",
   "language": "python",
   "name": "python3"
  },
  "language_info": {
   "codemirror_mode": {
    "name": "ipython",
    "version": 3
   },
   "file_extension": ".py",
   "mimetype": "text/x-python",
   "name": "python",
   "nbconvert_exporter": "python",
   "pygments_lexer": "ipython3",
   "version": "3.7.7"
  },
  "nbsphinx": {
   "timeout": 600
  },
  "toc": {
   "base_numbering": 1,
   "nav_menu": {},
   "number_sections": true,
   "sideBar": true,
   "skip_h1_title": false,
   "title_cell": "Table of Contents",
   "title_sidebar": "Contents",
   "toc_cell": false,
   "toc_position": {},
   "toc_section_display": true,
   "toc_window_display": false
  },
  "varInspector": {
   "cols": {
    "lenName": 16,
    "lenType": 16,
    "lenVar": 40
   },
   "kernels_config": {
    "python": {
     "delete_cmd_postfix": "",
     "delete_cmd_prefix": "del ",
     "library": "var_list.py",
     "varRefreshCmd": "print(var_dic_list())"
    },
    "r": {
     "delete_cmd_postfix": ") ",
     "delete_cmd_prefix": "rm(",
     "library": "var_list.r",
     "varRefreshCmd": "cat(var_dic_list()) "
    }
   },
   "types_to_exclude": [
    "module",
    "function",
    "builtin_function_or_method",
    "instance",
    "_Feature"
   ],
   "window_display": false
  }
 },
 "nbformat": 4,
 "nbformat_minor": 2
}
