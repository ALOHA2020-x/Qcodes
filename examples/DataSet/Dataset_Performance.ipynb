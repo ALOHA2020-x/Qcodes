{
 "cells": [
  {
   "cell_type": "markdown",
   "metadata": {},
   "source": [
    "# DataSet Performance\n",
    "\n",
    "This notebook shows the trade-off between inserting data into a database row-by-row and as binary blobs. Inserting the data row-by-row means that we have direct access to all the data and may perform queries directly on the values of the data. On the other hand, as we shall see, this is much slower than inserting the data directly as binary blobs."
   ]
  },
  {
   "cell_type": "markdown",
   "metadata": {},
   "source": [
    "First, we choose a new location for the database to ensure that we don't add a bunch of benchmarking data to the default one."
   ]
  },
  {
   "cell_type": "code",
   "execution_count": 1,
   "metadata": {
    "execution": {
     "iopub.execute_input": "2020-11-06T07:04:34.616347Z",
     "iopub.status.busy": "2020-11-06T07:04:34.615911Z",
     "iopub.status.idle": "2020-11-06T07:04:35.406655Z",
     "shell.execute_reply": "2020-11-06T07:04:35.407253Z"
    }
   },
   "outputs": [
    {
     "name": "stdout",
     "output_type": "stream",
     "text": [
      "Logging hadn't been started.\n",
      "Activating auto-logging. Current session state plus future input saved.\n",
      "Filename       : /home/vsts/.qcodes/logs/command_history.log\n",
      "Mode           : append\n",
      "Output logging : True\n",
      "Raw input log  : False\n",
      "Timestamping   : True\n",
      "State          : active\n"
     ]
    },
    {
     "name": "stdout",
     "output_type": "stream",
     "text": [
      "Qcodes Logfile : /home/vsts/.qcodes/logs/201106-15938-qcodes.log\n"
     ]
    }
   ],
   "source": [
    "import os\n",
    "cwd = os.getcwd()\n",
    "import qcodes as qc\n",
    "qc.config[\"core\"][\"db_location\"] = os.path.join(cwd, 'testing.db')\n"
   ]
  },
  {
   "cell_type": "code",
   "execution_count": 2,
   "metadata": {
    "execution": {
     "iopub.execute_input": "2020-11-06T07:04:35.414682Z",
     "iopub.status.busy": "2020-11-06T07:04:35.413972Z",
     "iopub.status.idle": "2020-11-06T07:04:35.557556Z",
     "shell.execute_reply": "2020-11-06T07:04:35.558328Z"
    }
   },
   "outputs": [],
   "source": [
    "%matplotlib inline\n",
    "import time\n",
    "import matplotlib.pyplot as plt\n",
    "import numpy as np\n",
    "\n",
    "import qcodes as qc\n",
    "from qcodes.instrument.parameter import ManualParameter\n",
    "from qcodes.dataset.experiment_container import (Experiment,\n",
    "                                                 load_last_experiment,\n",
    "                                                 new_experiment)\n",
    "from qcodes.dataset.sqlite.database import initialise_database\n",
    "from qcodes import load_or_create_experiment\n",
    "from qcodes.dataset.measurements import Measurement"
   ]
  },
  {
   "cell_type": "code",
   "execution_count": 3,
   "metadata": {
    "execution": {
     "iopub.execute_input": "2020-11-06T07:04:35.563267Z",
     "iopub.status.busy": "2020-11-06T07:04:35.562288Z",
     "iopub.status.idle": "2020-11-06T07:04:35.654568Z",
     "shell.execute_reply": "2020-11-06T07:04:35.654097Z"
    }
   },
   "outputs": [
    {
     "name": "stdout",
     "output_type": "stream",
     "text": [
      "\r",
      "0it [00:00, ?it/s]"
     ]
    },
    {
     "name": "stdout",
     "output_type": "stream",
     "text": [
      "\r",
      "Upgrading database; v0 -> v1: : 0it [00:00, ?it/s]"
     ]
    },
    {
     "name": "stdout",
     "output_type": "stream",
     "text": [
      "\r",
      "Upgrading database; v0 -> v1: : 0it [00:00, ?it/s]"
     ]
    },
    {
     "name": "stdout",
     "output_type": "stream",
     "text": [
      "\n",
      "\r",
      "  0%|          | 0/1 [00:00<?, ?it/s]"
     ]
    },
    {
     "name": "stdout",
     "output_type": "stream",
     "text": [
      "\r",
      "Upgrading database; v1 -> v2:   0%|          | 0/1 [00:00<?, ?it/s]"
     ]
    },
    {
     "name": "stdout",
     "output_type": "stream",
     "text": [
      "\r",
      "Upgrading database; v1 -> v2: 100%|██████████| 1/1 [00:00<00:00, 1224.26it/s]"
     ]
    },
    {
     "name": "stdout",
     "output_type": "stream",
     "text": [
      "\n",
      "\r",
      "0it [00:00, ?it/s]"
     ]
    },
    {
     "name": "stdout",
     "output_type": "stream",
     "text": [
      "\r",
      "Upgrading database; v2 -> v3: : 0it [00:00, ?it/s]"
     ]
    },
    {
     "name": "stdout",
     "output_type": "stream",
     "text": [
      "\r",
      "Upgrading database; v2 -> v3: : 0it [00:00, ?it/s]"
     ]
    },
    {
     "name": "stdout",
     "output_type": "stream",
     "text": [
      "\n",
      "\r",
      "0it [00:00, ?it/s]"
     ]
    },
    {
     "name": "stdout",
     "output_type": "stream",
     "text": [
      "\r",
      "Upgrading database; v3 -> v4: : 0it [00:00, ?it/s]"
     ]
    },
    {
     "name": "stdout",
     "output_type": "stream",
     "text": [
      "\r",
      "Upgrading database; v3 -> v4: : 0it [00:00, ?it/s]"
     ]
    },
    {
     "name": "stdout",
     "output_type": "stream",
     "text": [
      "\n",
      "\r",
      "  0%|          | 0/1 [00:00<?, ?it/s]"
     ]
    },
    {
     "name": "stdout",
     "output_type": "stream",
     "text": [
      "\r",
      "Upgrading database; v4 -> v5:   0%|          | 0/1 [00:00<?, ?it/s]"
     ]
    },
    {
     "name": "stdout",
     "output_type": "stream",
     "text": [
      "\r",
      "Upgrading database; v4 -> v5: 100%|██████████| 1/1 [00:00<00:00, 545.85it/s]"
     ]
    },
    {
     "name": "stdout",
     "output_type": "stream",
     "text": [
      "\n",
      "\r",
      "0it [00:00, ?it/s]"
     ]
    },
    {
     "name": "stdout",
     "output_type": "stream",
     "text": [
      "\r",
      "Upgrading database; v5 -> v6: : 0it [00:00, ?it/s]"
     ]
    },
    {
     "name": "stdout",
     "output_type": "stream",
     "text": [
      "\r",
      "Upgrading database; v5 -> v6: : 0it [00:00, ?it/s]"
     ]
    },
    {
     "name": "stdout",
     "output_type": "stream",
     "text": [
      "\n",
      "\r",
      "  0%|          | 0/1 [00:00<?, ?it/s]"
     ]
    },
    {
     "name": "stdout",
     "output_type": "stream",
     "text": [
      "\r",
      "Upgrading database; v6 -> v7:   0%|          | 0/1 [00:00<?, ?it/s]"
     ]
    },
    {
     "name": "stdout",
     "output_type": "stream",
     "text": [
      "\r",
      "Upgrading database; v6 -> v7: 100%|██████████| 1/1 [00:00<00:00, 310.67it/s]"
     ]
    },
    {
     "name": "stdout",
     "output_type": "stream",
     "text": [
      "\n",
      "\r",
      "  0%|          | 0/1 [00:00<?, ?it/s]"
     ]
    },
    {
     "name": "stdout",
     "output_type": "stream",
     "text": [
      "\r",
      "Upgrading database; v7 -> v8:   0%|          | 0/1 [00:00<?, ?it/s]"
     ]
    },
    {
     "name": "stdout",
     "output_type": "stream",
     "text": [
      "\r",
      "Upgrading database; v7 -> v8: 100%|██████████| 1/1 [00:00<00:00, 571.51it/s]"
     ]
    },
    {
     "name": "stdout",
     "output_type": "stream",
     "text": [
      "\n",
      "\r",
      "  0%|          | 0/1 [00:00<?, ?it/s]"
     ]
    },
    {
     "name": "stdout",
     "output_type": "stream",
     "text": [
      "\r",
      "Upgrading database; v8 -> v9:   0%|          | 0/1 [00:00<?, ?it/s]"
     ]
    },
    {
     "name": "stdout",
     "output_type": "stream",
     "text": [
      "\r",
      "Upgrading database; v8 -> v9: 100%|██████████| 1/1 [00:00<00:00, 569.80it/s]"
     ]
    },
    {
     "name": "stdout",
     "output_type": "stream",
     "text": [
      "\n"
     ]
    }
   ],
   "source": [
    "initialise_database()\n",
    "exp = load_or_create_experiment(experiment_name='tutorial_exp', sample_name=\"no sample\")"
   ]
  },
  {
   "cell_type": "markdown",
   "metadata": {},
   "source": [
    "Here, we define a simple function to benchmark the time it takes to insert n points with either numeric or array data type.\n",
    "We will compare both the time used to call ``add_result`` and the time used for the full measurement."
   ]
  },
  {
   "cell_type": "code",
   "execution_count": 4,
   "metadata": {
    "execution": {
     "iopub.execute_input": "2020-11-06T07:04:35.660910Z",
     "iopub.status.busy": "2020-11-06T07:04:35.660494Z",
     "iopub.status.idle": "2020-11-06T07:04:35.663416Z",
     "shell.execute_reply": "2020-11-06T07:04:35.663057Z"
    }
   },
   "outputs": [],
   "source": [
    "def insert_data(paramtype, npoints, nreps=1):\n",
    "\n",
    "    meas = Measurement(exp=exp)\n",
    "\n",
    "    x1 = ManualParameter('x1')\n",
    "    x2 = ManualParameter('x2')\n",
    "    x3 = ManualParameter('x3')\n",
    "    y1 = ManualParameter('y1')\n",
    "    y2 = ManualParameter('y2')\n",
    "\n",
    "    meas.register_parameter(x1, paramtype=paramtype)\n",
    "    meas.register_parameter(x2, paramtype=paramtype)\n",
    "    meas.register_parameter(x3, paramtype=paramtype)\n",
    "    meas.register_parameter(y1, setpoints=[x1, x2, x3],\n",
    "                            paramtype=paramtype)\n",
    "    meas.register_parameter(y2, setpoints=[x1, x2, x3],\n",
    "                            paramtype=paramtype)\n",
    "    start = time.perf_counter()\n",
    "    with meas.run() as datasaver:\n",
    "        start_adding = time.perf_counter()\n",
    "        for i in range(nreps):\n",
    "            datasaver.add_result((x1, np.random.rand(npoints)),\n",
    "                                 (x2, np.random.rand(npoints)),\n",
    "                                 (x3, np.random.rand(npoints)),\n",
    "                                 (y1, np.random.rand(npoints)),\n",
    "                                 (y2, np.random.rand(npoints)))\n",
    "        stop_adding = time.perf_counter()\n",
    "        run_id = datasaver.run_id\n",
    "    stop = time.perf_counter()\n",
    "    tot_time = stop - start\n",
    "    add_time = stop_adding - start_adding\n",
    "    return tot_time, add_time, run_id"
   ]
  },
  {
   "cell_type": "markdown",
   "metadata": {},
   "source": [
    "## Comparison between numeric/array data and binary blob"
   ]
  },
  {
   "cell_type": "markdown",
   "metadata": {},
   "source": [
    "### Case1: Short experiment time"
   ]
  },
  {
   "cell_type": "code",
   "execution_count": 5,
   "metadata": {
    "execution": {
     "iopub.execute_input": "2020-11-06T07:04:35.668089Z",
     "iopub.status.busy": "2020-11-06T07:04:35.667503Z",
     "iopub.status.idle": "2020-11-06T07:04:36.335353Z",
     "shell.execute_reply": "2020-11-06T07:04:36.334654Z"
    }
   },
   "outputs": [
    {
     "name": "stdout",
     "output_type": "stream",
     "text": [
      "Starting experimental run with id: 1. \n",
      "Starting experimental run with id: 2. \n",
      "Starting experimental run with id: 3. \n",
      "Starting experimental run with id: 4. \n",
      "Starting experimental run with id: 5. \n"
     ]
    },
    {
     "name": "stdout",
     "output_type": "stream",
     "text": [
      "Starting experimental run with id: 6. \n"
     ]
    },
    {
     "name": "stdout",
     "output_type": "stream",
     "text": [
      "Starting experimental run with id: 7. "
     ]
    },
    {
     "name": "stdout",
     "output_type": "stream",
     "text": [
      "\n"
     ]
    },
    {
     "name": "stdout",
     "output_type": "stream",
     "text": [
      "Starting experimental run with id: 8. \n",
      "Starting experimental run with id: 9. \n",
      "Starting experimental run with id: 10. \n"
     ]
    },
    {
     "name": "stdout",
     "output_type": "stream",
     "text": [
      "Starting experimental run with id: 11. \n"
     ]
    },
    {
     "name": "stdout",
     "output_type": "stream",
     "text": [
      "Starting experimental run with id: 12. \n",
      "Starting experimental run with id: 13. \n"
     ]
    },
    {
     "name": "stdout",
     "output_type": "stream",
     "text": [
      "Starting experimental run with id: 14. \n"
     ]
    }
   ],
   "source": [
    "sizes = [1,500,1000,2000,3000,4000,5000]\n",
    "t_numeric = []\n",
    "t_numeric_add = []\n",
    "t_array = []\n",
    "t_array_add = []\n",
    "for size in sizes:\n",
    "    tn, tna, run_id_n =  insert_data('numeric', size)\n",
    "    t_numeric.append(tn)\n",
    "    t_numeric_add.append(tna)\n",
    "\n",
    "    ta, taa, run_id_a =  insert_data('array', size)\n",
    "    t_array.append(ta)\n",
    "    t_array_add.append(taa)"
   ]
  },
  {
   "cell_type": "code",
   "execution_count": 6,
   "metadata": {
    "execution": {
     "iopub.execute_input": "2020-11-06T07:04:36.364115Z",
     "iopub.status.busy": "2020-11-06T07:04:36.357350Z",
     "iopub.status.idle": "2020-11-06T07:04:36.489708Z",
     "shell.execute_reply": "2020-11-06T07:04:36.490021Z"
    }
   },
   "outputs": [
    {
     "data": {
      "image/png": "[encoded data removed]",
      "text/plain": [
       "<Figure size 432x288 with 1 Axes>"
      ]
     },
     "metadata": {
      "needs_background": "light"
     },
     "output_type": "display_data"
    }
   ],
   "source": [
    "fig, ax = plt.subplots(1,1)\n",
    "ax.plot(sizes, t_numeric, 'o-', label='Inserting row-by-row')\n",
    "ax.plot(sizes, t_numeric_add, 'o-', label='Inserting row-by-row: add_result only')\n",
    "ax.plot(sizes, t_array, 'd-', label='Inserting as binary blob')\n",
    "ax.plot(sizes, t_array_add, 'd-', label='Inserting as binary blob: add_result only')\n",
    "ax.legend()\n",
    "ax.set_xlabel('Array length')\n",
    "ax.set_ylabel('Time (s)')\n",
    "fig.tight_layout()"
   ]
  },
  {
   "cell_type": "markdown",
   "metadata": {},
   "source": [
    "As shown in the latter figure, the time to setup and and close the experiment is approximately 0.4 sec. In case of small array sizes, the difference between inserting values of data as arrays and inserting them row-by-row is relatively unimportant. At larger array sizes, i.e. above 10000 points, the cost of writing data as individual datapoints starts to become important.\n"
   ]
  },
  {
   "cell_type": "markdown",
   "metadata": {},
   "source": [
    "### Case2: Long experiment time "
   ]
  },
  {
   "cell_type": "code",
   "execution_count": 7,
   "metadata": {
    "execution": {
     "iopub.execute_input": "2020-11-06T07:04:36.491941Z",
     "iopub.status.busy": "2020-11-06T07:04:36.491546Z",
     "iopub.status.idle": "2020-11-06T07:05:23.774846Z",
     "shell.execute_reply": "2020-11-06T07:05:23.775556Z"
    }
   },
   "outputs": [
    {
     "name": "stdout",
     "output_type": "stream",
     "text": [
      "Starting experimental run with id: 15. \n",
      "Starting experimental run with id: 16. \n"
     ]
    },
    {
     "name": "stdout",
     "output_type": "stream",
     "text": [
      "Starting experimental run with id: 17. \n"
     ]
    },
    {
     "name": "stdout",
     "output_type": "stream",
     "text": [
      "Starting experimental run with id: 18. \n",
      "Starting experimental run with id: 19. \n"
     ]
    },
    {
     "name": "stdout",
     "output_type": "stream",
     "text": [
      "Starting experimental run with id: 20. \n"
     ]
    },
    {
     "name": "stdout",
     "output_type": "stream",
     "text": [
      "Starting experimental run with id: 21. \n"
     ]
    },
    {
     "name": "stdout",
     "output_type": "stream",
     "text": [
      "Starting experimental run with id: 22. \n"
     ]
    },
    {
     "name": "stdout",
     "output_type": "stream",
     "text": [
      "Starting experimental run with id: 23. \n"
     ]
    },
    {
     "name": "stdout",
     "output_type": "stream",
     "text": [
      "Starting experimental run with id: 24. \n"
     ]
    },
    {
     "name": "stdout",
     "output_type": "stream",
     "text": [
      "Starting experimental run with id: 25. \n"
     ]
    },
    {
     "name": "stdout",
     "output_type": "stream",
     "text": [
      "Starting experimental run with id: 26. \n"
     ]
    },
    {
     "name": "stdout",
     "output_type": "stream",
     "text": [
      "Starting experimental run with id: 27. \n"
     ]
    },
    {
     "name": "stdout",
     "output_type": "stream",
     "text": [
      "Starting experimental run with id: 28. \n"
     ]
    }
   ],
   "source": [
    "sizes = [1,500,1000,2000,3000,4000,5000]\n",
    "nreps = 100\n",
    "t_numeric = []\n",
    "t_numeric_add = []\n",
    "t_numeric_run_ids = []\n",
    "t_array = []\n",
    "t_array_add = []\n",
    "t_array_run_ids = []\n",
    "for size in sizes:\n",
    "    tn, tna, run_id_n =  insert_data('numeric', size, nreps=nreps)\n",
    "    t_numeric.append(tn)\n",
    "    t_numeric_add.append(tna)\n",
    "    t_numeric_run_ids.append(run_id_n)\n",
    "\n",
    "    ta, taa, run_id_a =  insert_data('array', size, nreps=nreps)\n",
    "    t_array.append(ta)\n",
    "    t_array_add.append(taa)\n",
    "    t_array_run_ids.append(run_id_a)"
   ]
  },
  {
   "cell_type": "code",
   "execution_count": 8,
   "metadata": {
    "execution": {
     "iopub.execute_input": "2020-11-06T07:05:23.804502Z",
     "iopub.status.busy": "2020-11-06T07:05:23.796782Z",
     "iopub.status.idle": "2020-11-06T07:05:23.920483Z",
     "shell.execute_reply": "2020-11-06T07:05:23.920871Z"
    },
    "scrolled": true
   },
   "outputs": [
    {
     "data": {
      "image/png": "[encoded data removed]",
      "text/plain": [
       "<Figure size 432x288 with 1 Axes>"
      ]
     },
     "metadata": {
      "needs_background": "light"
     },
     "output_type": "display_data"
    }
   ],
   "source": [
    "fig, ax = plt.subplots(1,1)\n",
    "ax.plot(sizes, t_numeric, 'o-', label='Inserting row-by-row')\n",
    "ax.plot(sizes, t_numeric_add, 'o-', label='Inserting row-by-row: add_result only')\n",
    "ax.plot(sizes, t_array, 'd-', label='Inserting as binary blob')\n",
    "ax.plot(sizes, t_array_add, 'd-', label='Inserting as binary blob: add_result only')\n",
    "ax.legend()\n",
    "ax.set_xlabel('Array length')\n",
    "ax.set_ylabel('Time (s)')\n",
    "fig.tight_layout()"
   ]
  },
  {
   "cell_type": "markdown",
   "metadata": {},
   "source": [
    "However, as we increase the length of the experiment, as seen here by repeating the insertion 100 times, we see a big difference between inserting values of the data row-by-row and inserting it as a binary blob."
   ]
  },
  {
   "cell_type": "markdown",
   "metadata": {},
   "source": [
    "## Loading the data "
   ]
  },
  {
   "cell_type": "code",
   "execution_count": 9,
   "metadata": {
    "execution": {
     "iopub.execute_input": "2020-11-06T07:05:23.923006Z",
     "iopub.status.busy": "2020-11-06T07:05:23.922463Z",
     "iopub.status.idle": "2020-11-06T07:05:23.925345Z",
     "shell.execute_reply": "2020-11-06T07:05:23.925728Z"
    }
   },
   "outputs": [],
   "source": [
    "from qcodes.dataset.data_set import load_by_id\n",
    "from qcodes.dataset.data_export import get_data_by_id"
   ]
  },
  {
   "cell_type": "markdown",
   "metadata": {},
   "source": [
    "As usual you can load the data by using the ``load_by_id`` function but you will notice that the different storage methods\n",
    "are reflected in shape of the data as it is retrieved. "
   ]
  },
  {
   "cell_type": "code",
   "execution_count": 10,
   "metadata": {
    "execution": {
     "iopub.execute_input": "2020-11-06T07:05:23.927458Z",
     "iopub.status.busy": "2020-11-06T07:05:23.927069Z",
     "iopub.status.idle": "2020-11-06T07:05:23.929137Z",
     "shell.execute_reply": "2020-11-06T07:05:23.929516Z"
    }
   },
   "outputs": [],
   "source": [
    "run_id_n = t_numeric_run_ids[0]\n",
    "run_id_a = t_array_run_ids[0]"
   ]
  },
  {
   "cell_type": "code",
   "execution_count": 11,
   "metadata": {
    "execution": {
     "iopub.execute_input": "2020-11-06T07:05:23.931187Z",
     "iopub.status.busy": "2020-11-06T07:05:23.930804Z",
     "iopub.status.idle": "2020-11-06T07:05:23.937920Z",
     "shell.execute_reply": "2020-11-06T07:05:23.938455Z"
    },
    "scrolled": true
   },
   "outputs": [
    {
     "data": {
      "text/plain": [
       "{'x1': {'x1': array([0.29862994, 0.29862994, 0.51141827, 0.51141827, 0.88175048,\n",
       "         0.88175048, 0.27586467, 0.27586467, 0.09392601, 0.09392601,\n",
       "         0.84635539, 0.84635539, 0.85481076, 0.85481076, 0.69565765,\n",
       "         0.69565765, 0.42047656, 0.42047656, 0.36211164, 0.36211164,\n",
       "         0.87442645, 0.87442645, 0.51257671, 0.51257671, 0.50959759,\n",
       "         0.50959759, 0.62992945, 0.62992945, 0.4492835 , 0.4492835 ,\n",
       "         0.71603923, 0.71603923, 0.02811676, 0.02811676, 0.22336704,\n",
       "         0.22336704, 0.68583071, 0.68583071, 0.10595364, 0.10595364,\n",
       "         0.79656109, 0.79656109, 0.68034736, 0.68034736, 0.1956875 ,\n",
       "         0.1956875 , 0.326789  , 0.326789  , 0.52821027, 0.52821027,\n",
       "         0.5108512 , 0.5108512 , 0.02114617, 0.02114617, 0.37780154,\n",
       "         0.37780154, 0.08942643, 0.08942643, 0.04464037, 0.04464037,\n",
       "         0.4445187 , 0.4445187 , 0.7163965 , 0.7163965 , 0.03410392,\n",
       "         0.03410392, 0.16958243, 0.16958243, 0.39451988, 0.39451988,\n",
       "         0.27867475, 0.27867475, 0.97487897, 0.97487897, 0.33490535,\n",
       "         0.33490535, 0.20528896, 0.20528896, 0.4040109 , 0.4040109 ,\n",
       "         0.16387213, 0.16387213, 0.2058932 , 0.2058932 , 0.21406837,\n",
       "         0.21406837, 0.47803742, 0.47803742, 0.79503468, 0.79503468,\n",
       "         0.98801485, 0.98801485, 0.60908864, 0.60908864, 0.73036536,\n",
       "         0.73036536, 0.7598521 , 0.7598521 , 0.67742641, 0.67742641,\n",
       "         0.98325341, 0.98325341, 0.17217129, 0.17217129, 0.71198611,\n",
       "         0.71198611, 0.6568004 , 0.6568004 , 0.02636349, 0.02636349,\n",
       "         0.97666811, 0.97666811, 0.03135668, 0.03135668, 0.85562793,\n",
       "         0.85562793, 0.77180076, 0.77180076, 0.08875788, 0.08875788,\n",
       "         0.43726876, 0.43726876, 0.64613363, 0.64613363, 0.35185935,\n",
       "         0.35185935, 0.05477047, 0.05477047, 0.91250628, 0.91250628,\n",
       "         0.70775154, 0.70775154, 0.5972743 , 0.5972743 , 0.81359594,\n",
       "         0.81359594, 0.88285469, 0.88285469, 0.17081921, 0.17081921,\n",
       "         0.12784898, 0.12784898, 0.23233069, 0.23233069, 0.04389178,\n",
       "         0.04389178, 0.6833563 , 0.6833563 , 0.78167564, 0.78167564,\n",
       "         0.93575452, 0.93575452, 0.99083176, 0.99083176, 0.21632986,\n",
       "         0.21632986, 0.20828382, 0.20828382, 0.32177008, 0.32177008,\n",
       "         0.06550826, 0.06550826, 0.34007756, 0.34007756, 0.19458607,\n",
       "         0.19458607, 0.86215475, 0.86215475, 0.99894902, 0.99894902,\n",
       "         0.81732007, 0.81732007, 0.99595374, 0.99595374, 0.12587379,\n",
       "         0.12587379, 0.41598157, 0.41598157, 0.90321838, 0.90321838,\n",
       "         0.9900346 , 0.9900346 , 0.8640688 , 0.8640688 , 0.87766185,\n",
       "         0.87766185, 0.73249624, 0.73249624, 0.83525522, 0.83525522,\n",
       "         0.93354464, 0.93354464, 0.6055539 , 0.6055539 , 0.38951779,\n",
       "         0.38951779, 0.90977725, 0.90977725, 0.82802408, 0.82802408])}}"
      ]
     },
     "execution_count": 1,
     "metadata": {},
     "output_type": "execute_result"
    }
   ],
   "source": [
    "ds = load_by_id(run_id_n)\n",
    "ds.get_parameter_data('x1')"
   ]
  },
  {
   "cell_type": "markdown",
   "metadata": {},
   "source": [
    "And a dataset stored as binary arrays"
   ]
  },
  {
   "cell_type": "code",
   "execution_count": 12,
   "metadata": {
    "execution": {
     "iopub.execute_input": "2020-11-06T07:05:23.940591Z",
     "iopub.status.busy": "2020-11-06T07:05:23.940202Z",
     "iopub.status.idle": "2020-11-06T07:05:23.982658Z",
     "shell.execute_reply": "2020-11-06T07:05:23.982195Z"
    },
    "scrolled": true
   },
   "outputs": [
    {
     "data": {
      "text/plain": [
       "{'x1': {'x1': array([[0.13342037],\n",
       "         [0.13342037],\n",
       "         [0.12500995],\n",
       "         [0.12500995],\n",
       "         [0.37674584],\n",
       "         [0.37674584],\n",
       "         [0.76603105],\n",
       "         [0.76603105],\n",
       "         [0.81227753],\n",
       "         [0.81227753],\n",
       "         [0.59137453],\n",
       "         [0.59137453],\n",
       "         [0.32549869],\n",
       "         [0.32549869],\n",
       "         [0.28509432],\n",
       "         [0.28509432],\n",
       "         [0.68587415],\n",
       "         [0.68587415],\n",
       "         [0.8335528 ],\n",
       "         [0.8335528 ],\n",
       "         [0.62272565],\n",
       "         [0.62272565],\n",
       "         [0.92888312],\n",
       "         [0.92888312],\n",
       "         [0.66660451],\n",
       "         [0.66660451],\n",
       "         [0.72906656],\n",
       "         [0.72906656],\n",
       "         [0.15070961],\n",
       "         [0.15070961],\n",
       "         [0.95670755],\n",
       "         [0.95670755],\n",
       "         [0.21809012],\n",
       "         [0.21809012],\n",
       "         [0.014308  ],\n",
       "         [0.014308  ],\n",
       "         [0.42012801],\n",
       "         [0.42012801],\n",
       "         [0.96301275],\n",
       "         [0.96301275],\n",
       "         [0.96701868],\n",
       "         [0.96701868],\n",
       "         [0.50685089],\n",
       "         [0.50685089],\n",
       "         [0.43784735],\n",
       "         [0.43784735],\n",
       "         [0.05991763],\n",
       "         [0.05991763],\n",
       "         [0.33643771],\n",
       "         [0.33643771],\n",
       "         [0.87062891],\n",
       "         [0.87062891],\n",
       "         [0.06187229],\n",
       "         [0.06187229],\n",
       "         [0.65458605],\n",
       "         [0.65458605],\n",
       "         [0.43822438],\n",
       "         [0.43822438],\n",
       "         [0.01243455],\n",
       "         [0.01243455],\n",
       "         [0.7216122 ],\n",
       "         [0.7216122 ],\n",
       "         [0.82626027],\n",
       "         [0.82626027],\n",
       "         [0.93386943],\n",
       "         [0.93386943],\n",
       "         [0.64954629],\n",
       "         [0.64954629],\n",
       "         [0.66868119],\n",
       "         [0.66868119],\n",
       "         [0.05467343],\n",
       "         [0.05467343],\n",
       "         [0.43123661],\n",
       "         [0.43123661],\n",
       "         [0.69987272],\n",
       "         [0.69987272],\n",
       "         [0.41474806],\n",
       "         [0.41474806],\n",
       "         [0.52470778],\n",
       "         [0.52470778],\n",
       "         [0.59290139],\n",
       "         [0.59290139],\n",
       "         [0.61161534],\n",
       "         [0.61161534],\n",
       "         [0.38714597],\n",
       "         [0.38714597],\n",
       "         [0.83181155],\n",
       "         [0.83181155],\n",
       "         [0.67403364],\n",
       "         [0.67403364],\n",
       "         [0.63372963],\n",
       "         [0.63372963],\n",
       "         [0.81745857],\n",
       "         [0.81745857],\n",
       "         [0.39161176],\n",
       "         [0.39161176],\n",
       "         [0.57877921],\n",
       "         [0.57877921],\n",
       "         [0.73063913],\n",
       "         [0.73063913],\n",
       "         [0.18497049],\n",
       "         [0.18497049],\n",
       "         [0.72974221],\n",
       "         [0.72974221],\n",
       "         [0.4626983 ],\n",
       "         [0.4626983 ],\n",
       "         [0.21160891],\n",
       "         [0.21160891],\n",
       "         [0.50785817],\n",
       "         [0.50785817],\n",
       "         [0.1580383 ],\n",
       "         [0.1580383 ],\n",
       "         [0.86303219],\n",
       "         [0.86303219],\n",
       "         [0.80574179],\n",
       "         [0.80574179],\n",
       "         [0.18497293],\n",
       "         [0.18497293],\n",
       "         [0.12952062],\n",
       "         [0.12952062],\n",
       "         [0.28004886],\n",
       "         [0.28004886],\n",
       "         [0.7871078 ],\n",
       "         [0.7871078 ],\n",
       "         [0.327714  ],\n",
       "         [0.327714  ],\n",
       "         [0.44734725],\n",
       "         [0.44734725],\n",
       "         [0.78390049],\n",
       "         [0.78390049],\n",
       "         [0.04492549],\n",
       "         [0.04492549],\n",
       "         [0.14312392],\n",
       "         [0.14312392],\n",
       "         [0.55317253],\n",
       "         [0.55317253],\n",
       "         [0.694411  ],\n",
       "         [0.694411  ],\n",
       "         [0.93812449],\n",
       "         [0.93812449],\n",
       "         [0.56981647],\n",
       "         [0.56981647],\n",
       "         [0.72538828],\n",
       "         [0.72538828],\n",
       "         [0.68434921],\n",
       "         [0.68434921],\n",
       "         [0.87276106],\n",
       "         [0.87276106],\n",
       "         [0.45930929],\n",
       "         [0.45930929],\n",
       "         [0.65696011],\n",
       "         [0.65696011],\n",
       "         [0.90039087],\n",
       "         [0.90039087],\n",
       "         [0.97171174],\n",
       "         [0.97171174],\n",
       "         [0.44248196],\n",
       "         [0.44248196],\n",
       "         [0.59227806],\n",
       "         [0.59227806],\n",
       "         [0.37129482],\n",
       "         [0.37129482],\n",
       "         [0.75486991],\n",
       "         [0.75486991],\n",
       "         [0.29653838],\n",
       "         [0.29653838],\n",
       "         [0.62586687],\n",
       "         [0.62586687],\n",
       "         [0.05510189],\n",
       "         [0.05510189],\n",
       "         [0.34820519],\n",
       "         [0.34820519],\n",
       "         [0.67608476],\n",
       "         [0.67608476],\n",
       "         [0.88246567],\n",
       "         [0.88246567],\n",
       "         [0.64858572],\n",
       "         [0.64858572],\n",
       "         [0.41329606],\n",
       "         [0.41329606],\n",
       "         [0.81005573],\n",
       "         [0.81005573],\n",
       "         [0.38415401],\n",
       "         [0.38415401],\n",
       "         [0.31045798],\n",
       "         [0.31045798],\n",
       "         [0.90347278],\n",
       "         [0.90347278],\n",
       "         [0.23053585],\n",
       "         [0.23053585],\n",
       "         [0.53683142],\n",
       "         [0.53683142],\n",
       "         [0.82080558],\n",
       "         [0.82080558],\n",
       "         [0.1021912 ],\n",
       "         [0.1021912 ],\n",
       "         [0.79684801],\n",
       "         [0.79684801],\n",
       "         [0.25802458],\n",
       "         [0.25802458]])}}"
      ]
     },
     "execution_count": 1,
     "metadata": {},
     "output_type": "execute_result"
    }
   ],
   "source": [
    "ds = load_by_id(run_id_a)\n",
    "ds.get_parameter_data('x1')"
   ]
  },
  {
   "cell_type": "code",
   "execution_count": null,
   "metadata": {},
   "outputs": [],
   "source": []
  }
 ],
 "metadata": {
  "kernelspec": {
   "display_name": "Python 3",
   "language": "python",
   "name": "python3"
  },
  "language_info": {
   "codemirror_mode": {
    "name": "ipython",
    "version": 3
   },
   "file_extension": ".py",
   "mimetype": "text/x-python",
   "name": "python",
   "nbconvert_exporter": "python",
   "pygments_lexer": "ipython3",
   "version": "3.7.9"
  },
  "nbsphinx": {
   "timeout": 600
  },
  "toc": {
   "base_numbering": 1,
   "nav_menu": {},
   "number_sections": true,
   "sideBar": true,
   "skip_h1_title": false,
   "title_cell": "Table of Contents",
   "title_sidebar": "Contents",
   "toc_cell": false,
   "toc_position": {},
   "toc_section_display": true,
   "toc_window_display": false
  },
  "varInspector": {
   "cols": {
    "lenName": 16,
    "lenType": 16,
    "lenVar": 40
   },
   "kernels_config": {
    "python": {
     "delete_cmd_postfix": "",
     "delete_cmd_prefix": "del ",
     "library": "var_list.py",
     "varRefreshCmd": "print(var_dic_list())"
    },
    "r": {
     "delete_cmd_postfix": ") ",
     "delete_cmd_prefix": "rm(",
     "library": "var_list.r",
     "varRefreshCmd": "cat(var_dic_list()) "
    }
   },
   "types_to_exclude": [
    "module",
    "function",
    "builtin_function_or_method",
    "instance",
    "_Feature"
   ],
   "window_display": false
  }
 },
 "nbformat": 4,
 "nbformat_minor": 2
}
