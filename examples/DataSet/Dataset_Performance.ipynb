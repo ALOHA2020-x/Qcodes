{
 "cells": [
  {
   "cell_type": "markdown",
   "metadata": {},
   "source": [
    "# DataSet Performance\n",
    "\n",
    "This notebook shows the trade-off between inserting data into a database row-by-row and as binary blobs. Inserting the data row-by-row means that we have direct access to all the data and may perform queries directly on the values of the data. On the other hand, as we shall see, this is much slower than inserting the data directly as binary blobs."
   ]
  },
  {
   "cell_type": "markdown",
   "metadata": {},
   "source": [
    "First, we choose a new location for the database to ensure that we don't add a bunch of benchmarking data to the default one."
   ]
  },
  {
   "cell_type": "code",
   "execution_count": 1,
   "metadata": {
    "execution": {
     "iopub.execute_input": "2021-05-03T07:16:37.926627Z",
     "iopub.status.busy": "2021-05-03T07:16:37.925726Z",
     "iopub.status.idle": "2021-05-03T07:16:39.267584Z",
     "shell.execute_reply": "2021-05-03T07:16:39.266916Z"
    }
   },
   "outputs": [
    {
     "name": "stdout",
     "output_type": "stream",
     "text": [
      "Logging hadn't been started.\n",
      "Activating auto-logging. Current session state plus future input saved.\n",
      "Filename       : /home/runner/.qcodes/logs/command_history.log\n",
      "Mode           : append\n",
      "Output logging : True\n",
      "Raw input log  : False\n",
      "Timestamping   : True\n",
      "State          : active\n"
     ]
    },
    {
     "name": "stdout",
     "output_type": "stream",
     "text": [
      "Qcodes Logfile : /home/runner/.qcodes/logs/210503-4693-qcodes.log\n"
     ]
    }
   ],
   "source": [
    "import os\n",
    "cwd = os.getcwd()\n",
    "import qcodes as qc\n",
    "qc.config[\"core\"][\"db_location\"] = os.path.join(cwd, 'testing.db')\n"
   ]
  },
  {
   "cell_type": "code",
   "execution_count": 2,
   "metadata": {
    "execution": {
     "iopub.execute_input": "2021-05-03T07:16:39.274999Z",
     "iopub.status.busy": "2021-05-03T07:16:39.274015Z",
     "iopub.status.idle": "2021-05-03T07:16:39.492278Z",
     "shell.execute_reply": "2021-05-03T07:16:39.491625Z"
    }
   },
   "outputs": [],
   "source": [
    "%matplotlib inline\n",
    "import time\n",
    "import matplotlib.pyplot as plt\n",
    "import numpy as np\n",
    "\n",
    "import qcodes as qc\n",
    "from qcodes.instrument.parameter import ManualParameter\n",
    "from qcodes.dataset.experiment_container import (Experiment,\n",
    "                                                 load_last_experiment,\n",
    "                                                 new_experiment)\n",
    "from qcodes.dataset.sqlite.database import initialise_database\n",
    "from qcodes import load_or_create_experiment\n",
    "from qcodes.dataset.measurements import Measurement"
   ]
  },
  {
   "cell_type": "code",
   "execution_count": 3,
   "metadata": {
    "execution": {
     "iopub.execute_input": "2021-05-03T07:16:39.497060Z",
     "iopub.status.busy": "2021-05-03T07:16:39.496218Z",
     "iopub.status.idle": "2021-05-03T07:16:39.630099Z",
     "shell.execute_reply": "2021-05-03T07:16:39.629436Z"
    }
   },
   "outputs": [
    {
     "name": "stdout",
     "output_type": "stream",
     "text": [
      "\r",
      "0it [00:00, ?it/s]"
     ]
    },
    {
     "name": "stdout",
     "output_type": "stream",
     "text": [
      "\r",
      "Upgrading database; v0 -> v1: : 0it [00:00, ?it/s]"
     ]
    },
    {
     "name": "stdout",
     "output_type": "stream",
     "text": [
      "\r",
      "Upgrading database; v0 -> v1: : 0it [00:00, ?it/s]"
     ]
    },
    {
     "name": "stdout",
     "output_type": "stream",
     "text": [
      "\n",
      "\r",
      "  0%|          | 0/1 [00:00<?, ?it/s]"
     ]
    },
    {
     "name": "stdout",
     "output_type": "stream",
     "text": [
      "\r",
      "Upgrading database; v1 -> v2:   0%|          | 0/1 [00:00<?, ?it/s]"
     ]
    },
    {
     "name": "stdout",
     "output_type": "stream",
     "text": [
      "\r",
      "Upgrading database; v1 -> v2: 100%|██████████| 1/1 [00:00<00:00, 881.71it/s]"
     ]
    },
    {
     "name": "stdout",
     "output_type": "stream",
     "text": [
      "\n",
      "\r",
      "0it [00:00, ?it/s]"
     ]
    },
    {
     "name": "stdout",
     "output_type": "stream",
     "text": [
      "\r",
      "Upgrading database; v2 -> v3: : 0it [00:00, ?it/s]"
     ]
    },
    {
     "name": "stdout",
     "output_type": "stream",
     "text": [
      "\r",
      "Upgrading database; v2 -> v3: : 0it [00:00, ?it/s]"
     ]
    },
    {
     "name": "stdout",
     "output_type": "stream",
     "text": [
      "\n",
      "\r",
      "0it [00:00, ?it/s]"
     ]
    },
    {
     "name": "stdout",
     "output_type": "stream",
     "text": [
      "\r",
      "Upgrading database; v3 -> v4: : 0it [00:00, ?it/s]"
     ]
    },
    {
     "name": "stdout",
     "output_type": "stream",
     "text": [
      "\r",
      "Upgrading database; v3 -> v4: : 0it [00:00, ?it/s]"
     ]
    },
    {
     "name": "stdout",
     "output_type": "stream",
     "text": [
      "\n",
      "\r",
      "  0%|          | 0/1 [00:00<?, ?it/s]"
     ]
    },
    {
     "name": "stdout",
     "output_type": "stream",
     "text": [
      "\r",
      "Upgrading database; v4 -> v5:   0%|          | 0/1 [00:00<?, ?it/s]"
     ]
    },
    {
     "name": "stdout",
     "output_type": "stream",
     "text": [
      "\r",
      "Upgrading database; v4 -> v5: 100%|██████████| 1/1 [00:00<00:00, 892.22it/s]"
     ]
    },
    {
     "name": "stdout",
     "output_type": "stream",
     "text": [
      "\n",
      "\r",
      "0it [00:00, ?it/s]"
     ]
    },
    {
     "name": "stdout",
     "output_type": "stream",
     "text": [
      "\r",
      "Upgrading database; v5 -> v6: : 0it [00:00, ?it/s]"
     ]
    },
    {
     "name": "stdout",
     "output_type": "stream",
     "text": [
      "\r",
      "Upgrading database; v5 -> v6: : 0it [00:00, ?it/s]"
     ]
    },
    {
     "name": "stdout",
     "output_type": "stream",
     "text": [
      "\n",
      "\r",
      "  0%|          | 0/1 [00:00<?, ?it/s]"
     ]
    },
    {
     "name": "stdout",
     "output_type": "stream",
     "text": [
      "\r",
      "Upgrading database; v6 -> v7:   0%|          | 0/1 [00:00<?, ?it/s]"
     ]
    },
    {
     "name": "stdout",
     "output_type": "stream",
     "text": [
      "\r",
      "Upgrading database; v6 -> v7: 100%|██████████| 1/1 [00:00<00:00, 219.22it/s]"
     ]
    },
    {
     "name": "stdout",
     "output_type": "stream",
     "text": [
      "\n",
      "\r",
      "  0%|          | 0/1 [00:00<?, ?it/s]"
     ]
    },
    {
     "name": "stdout",
     "output_type": "stream",
     "text": [
      "\r",
      "Upgrading database; v7 -> v8:   0%|          | 0/1 [00:00<?, ?it/s]"
     ]
    },
    {
     "name": "stdout",
     "output_type": "stream",
     "text": [
      "\r",
      "Upgrading database; v7 -> v8: 100%|██████████| 1/1 [00:00<00:00, 716.24it/s]"
     ]
    },
    {
     "name": "stdout",
     "output_type": "stream",
     "text": [
      "\n",
      "\r",
      "  0%|          | 0/1 [00:00<?, ?it/s]"
     ]
    },
    {
     "name": "stdout",
     "output_type": "stream",
     "text": [
      "\r",
      "Upgrading database; v8 -> v9:   0%|          | 0/1 [00:00<?, ?it/s]"
     ]
    },
    {
     "name": "stdout",
     "output_type": "stream",
     "text": [
      "\r",
      "Upgrading database; v8 -> v9: 100%|██████████| 1/1 [00:00<00:00, 663.55it/s]"
     ]
    },
    {
     "name": "stdout",
     "output_type": "stream",
     "text": [
      "\n"
     ]
    }
   ],
   "source": [
    "initialise_database()\n",
    "exp = load_or_create_experiment(experiment_name='tutorial_exp', sample_name=\"no sample\")"
   ]
  },
  {
   "cell_type": "markdown",
   "metadata": {},
   "source": [
    "Here, we define a simple function to benchmark the time it takes to insert n points with either numeric or array data type.\n",
    "We will compare both the time used to call ``add_result`` and the time used for the full measurement."
   ]
  },
  {
   "cell_type": "code",
   "execution_count": 4,
   "metadata": {
    "execution": {
     "iopub.execute_input": "2021-05-03T07:16:39.639005Z",
     "iopub.status.busy": "2021-05-03T07:16:39.637685Z",
     "iopub.status.idle": "2021-05-03T07:16:39.641781Z",
     "shell.execute_reply": "2021-05-03T07:16:39.641214Z"
    }
   },
   "outputs": [],
   "source": [
    "def insert_data(paramtype, npoints, nreps=1):\n",
    "\n",
    "    meas = Measurement(exp=exp)\n",
    "\n",
    "    x1 = ManualParameter('x1')\n",
    "    x2 = ManualParameter('x2')\n",
    "    x3 = ManualParameter('x3')\n",
    "    y1 = ManualParameter('y1')\n",
    "    y2 = ManualParameter('y2')\n",
    "\n",
    "    meas.register_parameter(x1, paramtype=paramtype)\n",
    "    meas.register_parameter(x2, paramtype=paramtype)\n",
    "    meas.register_parameter(x3, paramtype=paramtype)\n",
    "    meas.register_parameter(y1, setpoints=[x1, x2, x3],\n",
    "                            paramtype=paramtype)\n",
    "    meas.register_parameter(y2, setpoints=[x1, x2, x3],\n",
    "                            paramtype=paramtype)\n",
    "    start = time.perf_counter()\n",
    "    with meas.run() as datasaver:\n",
    "        start_adding = time.perf_counter()\n",
    "        for i in range(nreps):\n",
    "            datasaver.add_result((x1, np.random.rand(npoints)),\n",
    "                                 (x2, np.random.rand(npoints)),\n",
    "                                 (x3, np.random.rand(npoints)),\n",
    "                                 (y1, np.random.rand(npoints)),\n",
    "                                 (y2, np.random.rand(npoints)))\n",
    "        stop_adding = time.perf_counter()\n",
    "        run_id = datasaver.run_id\n",
    "    stop = time.perf_counter()\n",
    "    tot_time = stop - start\n",
    "    add_time = stop_adding - start_adding\n",
    "    return tot_time, add_time, run_id"
   ]
  },
  {
   "cell_type": "markdown",
   "metadata": {},
   "source": [
    "## Comparison between numeric/array data and binary blob"
   ]
  },
  {
   "cell_type": "markdown",
   "metadata": {},
   "source": [
    "### Case1: Short experiment time"
   ]
  },
  {
   "cell_type": "code",
   "execution_count": 5,
   "metadata": {
    "execution": {
     "iopub.execute_input": "2021-05-03T07:16:39.649462Z",
     "iopub.status.busy": "2021-05-03T07:16:39.648256Z",
     "iopub.status.idle": "2021-05-03T07:16:40.515758Z",
     "shell.execute_reply": "2021-05-03T07:16:40.515206Z"
    }
   },
   "outputs": [
    {
     "name": "stdout",
     "output_type": "stream",
     "text": [
      "Starting experimental run with id: 1. \n",
      "Starting experimental run with id: 2. \n",
      "Starting experimental run with id: 3. \n",
      "Starting experimental run with id: 4. \n"
     ]
    },
    {
     "name": "stdout",
     "output_type": "stream",
     "text": [
      "Starting experimental run with id: 5. \n"
     ]
    },
    {
     "name": "stdout",
     "output_type": "stream",
     "text": [
      "Starting experimental run with id: 6. \n",
      "Starting experimental run with id: 7. \n"
     ]
    },
    {
     "name": "stdout",
     "output_type": "stream",
     "text": [
      "Starting experimental run with id: 8. \n",
      "Starting experimental run with id: 9. \n"
     ]
    },
    {
     "name": "stdout",
     "output_type": "stream",
     "text": [
      "Starting experimental run with id: 10. \n",
      "Starting experimental run with id: 11. \n"
     ]
    },
    {
     "name": "stdout",
     "output_type": "stream",
     "text": [
      "Starting experimental run with id: 12. \n"
     ]
    },
    {
     "name": "stdout",
     "output_type": "stream",
     "text": [
      "Starting experimental run with id: 13. \n"
     ]
    },
    {
     "name": "stdout",
     "output_type": "stream",
     "text": [
      "Starting experimental run with id: 14. \n"
     ]
    }
   ],
   "source": [
    "sizes = [1,500,1000,2000,3000,4000,5000]\n",
    "t_numeric = []\n",
    "t_numeric_add = []\n",
    "t_array = []\n",
    "t_array_add = []\n",
    "for size in sizes:\n",
    "    tn, tna, run_id_n =  insert_data('numeric', size)\n",
    "    t_numeric.append(tn)\n",
    "    t_numeric_add.append(tna)\n",
    "\n",
    "    ta, taa, run_id_a =  insert_data('array', size)\n",
    "    t_array.append(ta)\n",
    "    t_array_add.append(taa)"
   ]
  },
  {
   "cell_type": "code",
   "execution_count": 6,
   "metadata": {
    "execution": {
     "iopub.execute_input": "2021-05-03T07:16:40.575313Z",
     "iopub.status.busy": "2021-05-03T07:16:40.537464Z",
     "iopub.status.idle": "2021-05-03T07:16:40.776145Z",
     "shell.execute_reply": "2021-05-03T07:16:40.775575Z"
    }
   },
   "outputs": [
    {
     "data": {
      "image/png": "[encoded data removed]",
      "text/plain": [
       "<Figure size 432x288 with 1 Axes>"
      ]
     },
     "metadata": {
      "needs_background": "light"
     },
     "output_type": "display_data"
    }
   ],
   "source": [
    "fig, ax = plt.subplots(1,1)\n",
    "ax.plot(sizes, t_numeric, 'o-', label='Inserting row-by-row')\n",
    "ax.plot(sizes, t_numeric_add, 'o-', label='Inserting row-by-row: add_result only')\n",
    "ax.plot(sizes, t_array, 'd-', label='Inserting as binary blob')\n",
    "ax.plot(sizes, t_array_add, 'd-', label='Inserting as binary blob: add_result only')\n",
    "ax.legend()\n",
    "ax.set_xlabel('Array length')\n",
    "ax.set_ylabel('Time (s)')\n",
    "fig.tight_layout()"
   ]
  },
  {
   "cell_type": "markdown",
   "metadata": {},
   "source": [
    "As shown in the latter figure, the time to setup and and close the experiment is approximately 0.4 sec. In case of small array sizes, the difference between inserting values of data as arrays and inserting them row-by-row is relatively unimportant. At larger array sizes, i.e. above 10000 points, the cost of writing data as individual datapoints starts to become important.\n"
   ]
  },
  {
   "cell_type": "markdown",
   "metadata": {},
   "source": [
    "### Case2: Long experiment time "
   ]
  },
  {
   "cell_type": "code",
   "execution_count": 7,
   "metadata": {
    "execution": {
     "iopub.execute_input": "2021-05-03T07:16:40.784439Z",
     "iopub.status.busy": "2021-05-03T07:16:40.782078Z",
     "iopub.status.idle": "2021-05-03T07:17:41.401386Z",
     "shell.execute_reply": "2021-05-03T07:17:41.401853Z"
    }
   },
   "outputs": [
    {
     "name": "stdout",
     "output_type": "stream",
     "text": [
      "Starting experimental run with id: 15. \n",
      "Starting experimental run with id: 16. \n"
     ]
    },
    {
     "name": "stdout",
     "output_type": "stream",
     "text": [
      "Starting experimental run with id: 17. \n"
     ]
    },
    {
     "name": "stdout",
     "output_type": "stream",
     "text": [
      "Starting experimental run with id: 18. \n"
     ]
    },
    {
     "name": "stdout",
     "output_type": "stream",
     "text": [
      "Starting experimental run with id: 19. \n"
     ]
    },
    {
     "name": "stdout",
     "output_type": "stream",
     "text": [
      "Starting experimental run with id: 20. \n"
     ]
    },
    {
     "name": "stdout",
     "output_type": "stream",
     "text": [
      "Starting experimental run with id: 21. \n"
     ]
    },
    {
     "name": "stdout",
     "output_type": "stream",
     "text": [
      "Starting experimental run with id: 22. \n"
     ]
    },
    {
     "name": "stdout",
     "output_type": "stream",
     "text": [
      "Starting experimental run with id: 23. \n"
     ]
    },
    {
     "name": "stdout",
     "output_type": "stream",
     "text": [
      "Starting experimental run with id: 24. \n"
     ]
    },
    {
     "name": "stdout",
     "output_type": "stream",
     "text": [
      "Starting experimental run with id: 25. \n"
     ]
    },
    {
     "name": "stdout",
     "output_type": "stream",
     "text": [
      "Starting experimental run with id: 26. \n"
     ]
    },
    {
     "name": "stdout",
     "output_type": "stream",
     "text": [
      "Starting experimental run with id: 27. \n"
     ]
    },
    {
     "name": "stdout",
     "output_type": "stream",
     "text": [
      "Starting experimental run with id: 28. \n"
     ]
    }
   ],
   "source": [
    "sizes = [1,500,1000,2000,3000,4000,5000]\n",
    "nreps = 100\n",
    "t_numeric = []\n",
    "t_numeric_add = []\n",
    "t_numeric_run_ids = []\n",
    "t_array = []\n",
    "t_array_add = []\n",
    "t_array_run_ids = []\n",
    "for size in sizes:\n",
    "    tn, tna, run_id_n =  insert_data('numeric', size, nreps=nreps)\n",
    "    t_numeric.append(tn)\n",
    "    t_numeric_add.append(tna)\n",
    "    t_numeric_run_ids.append(run_id_n)\n",
    "\n",
    "    ta, taa, run_id_a =  insert_data('array', size, nreps=nreps)\n",
    "    t_array.append(ta)\n",
    "    t_array_add.append(taa)\n",
    "    t_array_run_ids.append(run_id_a)"
   ]
  },
  {
   "cell_type": "code",
   "execution_count": 8,
   "metadata": {
    "execution": {
     "iopub.execute_input": "2021-05-03T07:17:41.432488Z",
     "iopub.status.busy": "2021-05-03T07:17:41.422651Z",
     "iopub.status.idle": "2021-05-03T07:17:41.646136Z",
     "shell.execute_reply": "2021-05-03T07:17:41.645497Z"
    },
    "scrolled": true
   },
   "outputs": [
    {
     "data": {
      "image/png": "[encoded data removed]",
      "text/plain": [
       "<Figure size 432x288 with 1 Axes>"
      ]
     },
     "metadata": {
      "needs_background": "light"
     },
     "output_type": "display_data"
    }
   ],
   "source": [
    "fig, ax = plt.subplots(1,1)\n",
    "ax.plot(sizes, t_numeric, 'o-', label='Inserting row-by-row')\n",
    "ax.plot(sizes, t_numeric_add, 'o-', label='Inserting row-by-row: add_result only')\n",
    "ax.plot(sizes, t_array, 'd-', label='Inserting as binary blob')\n",
    "ax.plot(sizes, t_array_add, 'd-', label='Inserting as binary blob: add_result only')\n",
    "ax.legend()\n",
    "ax.set_xlabel('Array length')\n",
    "ax.set_ylabel('Time (s)')\n",
    "fig.tight_layout()"
   ]
  },
  {
   "cell_type": "markdown",
   "metadata": {},
   "source": [
    "However, as we increase the length of the experiment, as seen here by repeating the insertion 100 times, we see a big difference between inserting values of the data row-by-row and inserting it as a binary blob."
   ]
  },
  {
   "cell_type": "markdown",
   "metadata": {},
   "source": [
    "## Loading the data "
   ]
  },
  {
   "cell_type": "code",
   "execution_count": 9,
   "metadata": {
    "execution": {
     "iopub.execute_input": "2021-05-03T07:17:41.651247Z",
     "iopub.status.busy": "2021-05-03T07:17:41.650517Z",
     "iopub.status.idle": "2021-05-03T07:17:41.654307Z",
     "shell.execute_reply": "2021-05-03T07:17:41.654849Z"
    }
   },
   "outputs": [],
   "source": [
    "from qcodes.dataset.data_set import load_by_id"
   ]
  },
  {
   "cell_type": "markdown",
   "metadata": {},
   "source": [
    "As usual you can load the data by using the ``load_by_id`` function but you will notice that the different storage methods\n",
    "are reflected in shape of the data as it is retrieved. "
   ]
  },
  {
   "cell_type": "code",
   "execution_count": 10,
   "metadata": {
    "execution": {
     "iopub.execute_input": "2021-05-03T07:17:41.660439Z",
     "iopub.status.busy": "2021-05-03T07:17:41.658920Z",
     "iopub.status.idle": "2021-05-03T07:17:41.661187Z",
     "shell.execute_reply": "2021-05-03T07:17:41.661737Z"
    }
   },
   "outputs": [],
   "source": [
    "run_id_n = t_numeric_run_ids[0]\n",
    "run_id_a = t_array_run_ids[0]"
   ]
  },
  {
   "cell_type": "code",
   "execution_count": 11,
   "metadata": {
    "execution": {
     "iopub.execute_input": "2021-05-03T07:17:41.665560Z",
     "iopub.status.busy": "2021-05-03T07:17:41.664940Z",
     "iopub.status.idle": "2021-05-03T07:17:41.676089Z",
     "shell.execute_reply": "2021-05-03T07:17:41.676926Z"
    },
    "scrolled": true
   },
   "outputs": [
    {
     "data": {
      "text/plain": [
       "{'x1': {'x1': array([0.4040809 , 0.4040809 , 0.13056674, 0.13056674, 0.80533448,\n",
       "         0.80533448, 0.69467489, 0.69467489, 0.31925384, 0.31925384,\n",
       "         0.67547982, 0.67547982, 0.83011945, 0.83011945, 0.28388466,\n",
       "         0.28388466, 0.36460256, 0.36460256, 0.67287946, 0.67287946,\n",
       "         0.64800702, 0.64800702, 0.69188693, 0.69188693, 0.48189571,\n",
       "         0.48189571, 0.22196655, 0.22196655, 0.1369454 , 0.1369454 ,\n",
       "         0.21922581, 0.21922581, 0.83902401, 0.83902401, 0.55679552,\n",
       "         0.55679552, 0.76055917, 0.76055917, 0.06611517, 0.06611517,\n",
       "         0.61225935, 0.61225935, 0.82210941, 0.82210941, 0.94465178,\n",
       "         0.94465178, 0.36987118, 0.36987118, 0.41147952, 0.41147952,\n",
       "         0.88893228, 0.88893228, 0.32659802, 0.32659802, 0.82530542,\n",
       "         0.82530542, 0.35347063, 0.35347063, 0.20848182, 0.20848182,\n",
       "         0.73365019, 0.73365019, 0.66582374, 0.66582374, 0.64932621,\n",
       "         0.64932621, 0.76861798, 0.76861798, 0.80477756, 0.80477756,\n",
       "         0.16399493, 0.16399493, 0.87681798, 0.87681798, 0.66699926,\n",
       "         0.66699926, 0.03213148, 0.03213148, 0.2382543 , 0.2382543 ,\n",
       "         0.07305261, 0.07305261, 0.83440112, 0.83440112, 0.76623971,\n",
       "         0.76623971, 0.58265011, 0.58265011, 0.04190839, 0.04190839,\n",
       "         0.43978862, 0.43978862, 0.54443428, 0.54443428, 0.42220108,\n",
       "         0.42220108, 0.58613319, 0.58613319, 0.43915149, 0.43915149,\n",
       "         0.643258  , 0.643258  , 0.46277416, 0.46277416, 0.40653552,\n",
       "         0.40653552, 0.98759593, 0.98759593, 0.95630807, 0.95630807,\n",
       "         0.6542335 , 0.6542335 , 0.78389822, 0.78389822, 0.6850993 ,\n",
       "         0.6850993 , 0.08685178, 0.08685178, 0.78715087, 0.78715087,\n",
       "         0.04613647, 0.04613647, 0.7225664 , 0.7225664 , 0.09136072,\n",
       "         0.09136072, 0.31044663, 0.31044663, 0.07873292, 0.07873292,\n",
       "         0.8266331 , 0.8266331 , 0.42193353, 0.42193353, 0.32968545,\n",
       "         0.32968545, 0.13604348, 0.13604348, 0.17837275, 0.17837275,\n",
       "         0.52438101, 0.52438101, 0.77445324, 0.77445324, 0.27431879,\n",
       "         0.27431879, 0.16149612, 0.16149612, 0.73544284, 0.73544284,\n",
       "         0.94259968, 0.94259968, 0.57901258, 0.57901258, 0.34581194,\n",
       "         0.34581194, 0.47613789, 0.47613789, 0.65378833, 0.65378833,\n",
       "         0.24740075, 0.24740075, 0.00139133, 0.00139133, 0.67619533,\n",
       "         0.67619533, 0.28455841, 0.28455841, 0.69055109, 0.69055109,\n",
       "         0.03532327, 0.03532327, 0.37395628, 0.37395628, 0.7475848 ,\n",
       "         0.7475848 , 0.08984886, 0.08984886, 0.42495475, 0.42495475,\n",
       "         0.32851285, 0.32851285, 0.27306268, 0.27306268, 0.2336444 ,\n",
       "         0.2336444 , 0.11196618, 0.11196618, 0.39822298, 0.39822298,\n",
       "         0.07189142, 0.07189142, 0.02968287, 0.02968287, 0.72116703,\n",
       "         0.72116703, 0.00275885, 0.00275885, 0.67161542, 0.67161542])}}"
      ]
     },
     "execution_count": 1,
     "metadata": {},
     "output_type": "execute_result"
    }
   ],
   "source": [
    "ds = load_by_id(run_id_n)\n",
    "ds.get_parameter_data('x1')"
   ]
  },
  {
   "cell_type": "markdown",
   "metadata": {},
   "source": [
    "And a dataset stored as binary arrays"
   ]
  },
  {
   "cell_type": "code",
   "execution_count": 12,
   "metadata": {
    "execution": {
     "iopub.execute_input": "2021-05-03T07:17:41.681080Z",
     "iopub.status.busy": "2021-05-03T07:17:41.680254Z",
     "iopub.status.idle": "2021-05-03T07:17:41.752940Z",
     "shell.execute_reply": "2021-05-03T07:17:41.753513Z"
    },
    "scrolled": true
   },
   "outputs": [
    {
     "data": {
      "text/plain": [
       "{'x1': {'x1': array([[0.497326  ],\n",
       "         [0.497326  ],\n",
       "         [0.8055913 ],\n",
       "         [0.8055913 ],\n",
       "         [0.90639192],\n",
       "         [0.90639192],\n",
       "         [0.20836808],\n",
       "         [0.20836808],\n",
       "         [0.45279818],\n",
       "         [0.45279818],\n",
       "         [0.52141401],\n",
       "         [0.52141401],\n",
       "         [0.74462526],\n",
       "         [0.74462526],\n",
       "         [0.1181766 ],\n",
       "         [0.1181766 ],\n",
       "         [0.04832275],\n",
       "         [0.04832275],\n",
       "         [0.99736424],\n",
       "         [0.99736424],\n",
       "         [0.18496393],\n",
       "         [0.18496393],\n",
       "         [0.92871314],\n",
       "         [0.92871314],\n",
       "         [0.18762178],\n",
       "         [0.18762178],\n",
       "         [0.78066772],\n",
       "         [0.78066772],\n",
       "         [0.23087721],\n",
       "         [0.23087721],\n",
       "         [0.69623447],\n",
       "         [0.69623447],\n",
       "         [0.72078621],\n",
       "         [0.72078621],\n",
       "         [0.1085671 ],\n",
       "         [0.1085671 ],\n",
       "         [0.25173971],\n",
       "         [0.25173971],\n",
       "         [0.14269211],\n",
       "         [0.14269211],\n",
       "         [0.27326339],\n",
       "         [0.27326339],\n",
       "         [0.92211451],\n",
       "         [0.92211451],\n",
       "         [0.51450826],\n",
       "         [0.51450826],\n",
       "         [0.77381169],\n",
       "         [0.77381169],\n",
       "         [0.70880739],\n",
       "         [0.70880739],\n",
       "         [0.78866974],\n",
       "         [0.78866974],\n",
       "         [0.5683457 ],\n",
       "         [0.5683457 ],\n",
       "         [0.88885283],\n",
       "         [0.88885283],\n",
       "         [0.35263266],\n",
       "         [0.35263266],\n",
       "         [0.16817584],\n",
       "         [0.16817584],\n",
       "         [0.54017214],\n",
       "         [0.54017214],\n",
       "         [0.21387056],\n",
       "         [0.21387056],\n",
       "         [0.36431067],\n",
       "         [0.36431067],\n",
       "         [0.04289804],\n",
       "         [0.04289804],\n",
       "         [0.7386375 ],\n",
       "         [0.7386375 ],\n",
       "         [0.82671685],\n",
       "         [0.82671685],\n",
       "         [0.29708413],\n",
       "         [0.29708413],\n",
       "         [0.02115878],\n",
       "         [0.02115878],\n",
       "         [0.55295213],\n",
       "         [0.55295213],\n",
       "         [0.02078043],\n",
       "         [0.02078043],\n",
       "         [0.32017222],\n",
       "         [0.32017222],\n",
       "         [0.77501331],\n",
       "         [0.77501331],\n",
       "         [0.67893824],\n",
       "         [0.67893824],\n",
       "         [0.42259243],\n",
       "         [0.42259243],\n",
       "         [0.79241477],\n",
       "         [0.79241477],\n",
       "         [0.84038327],\n",
       "         [0.84038327],\n",
       "         [0.77266627],\n",
       "         [0.77266627],\n",
       "         [0.07206129],\n",
       "         [0.07206129],\n",
       "         [0.55153727],\n",
       "         [0.55153727],\n",
       "         [0.89681901],\n",
       "         [0.89681901],\n",
       "         [0.0954083 ],\n",
       "         [0.0954083 ],\n",
       "         [0.29394275],\n",
       "         [0.29394275],\n",
       "         [0.43828479],\n",
       "         [0.43828479],\n",
       "         [0.91998053],\n",
       "         [0.91998053],\n",
       "         [0.34219202],\n",
       "         [0.34219202],\n",
       "         [0.15415637],\n",
       "         [0.15415637],\n",
       "         [0.7973463 ],\n",
       "         [0.7973463 ],\n",
       "         [0.67039458],\n",
       "         [0.67039458],\n",
       "         [0.33388711],\n",
       "         [0.33388711],\n",
       "         [0.47701193],\n",
       "         [0.47701193],\n",
       "         [0.12279473],\n",
       "         [0.12279473],\n",
       "         [0.4075876 ],\n",
       "         [0.4075876 ],\n",
       "         [0.99245955],\n",
       "         [0.99245955],\n",
       "         [0.36400531],\n",
       "         [0.36400531],\n",
       "         [0.58647506],\n",
       "         [0.58647506],\n",
       "         [0.16074065],\n",
       "         [0.16074065],\n",
       "         [0.24277122],\n",
       "         [0.24277122],\n",
       "         [0.67553275],\n",
       "         [0.67553275],\n",
       "         [0.52191971],\n",
       "         [0.52191971],\n",
       "         [0.79292341],\n",
       "         [0.79292341],\n",
       "         [0.76808529],\n",
       "         [0.76808529],\n",
       "         [0.68213338],\n",
       "         [0.68213338],\n",
       "         [0.40419638],\n",
       "         [0.40419638],\n",
       "         [0.90787579],\n",
       "         [0.90787579],\n",
       "         [0.1652069 ],\n",
       "         [0.1652069 ],\n",
       "         [0.14162924],\n",
       "         [0.14162924],\n",
       "         [0.33065161],\n",
       "         [0.33065161],\n",
       "         [0.06346333],\n",
       "         [0.06346333],\n",
       "         [0.85404431],\n",
       "         [0.85404431],\n",
       "         [0.28805475],\n",
       "         [0.28805475],\n",
       "         [0.61546779],\n",
       "         [0.61546779],\n",
       "         [0.02870491],\n",
       "         [0.02870491],\n",
       "         [0.03141567],\n",
       "         [0.03141567],\n",
       "         [0.1238311 ],\n",
       "         [0.1238311 ],\n",
       "         [0.50112485],\n",
       "         [0.50112485],\n",
       "         [0.48419623],\n",
       "         [0.48419623],\n",
       "         [0.97042911],\n",
       "         [0.97042911],\n",
       "         [0.18138534],\n",
       "         [0.18138534],\n",
       "         [0.59447883],\n",
       "         [0.59447883],\n",
       "         [0.13398421],\n",
       "         [0.13398421],\n",
       "         [0.26340224],\n",
       "         [0.26340224],\n",
       "         [0.90578549],\n",
       "         [0.90578549],\n",
       "         [0.13250757],\n",
       "         [0.13250757],\n",
       "         [0.80926584],\n",
       "         [0.80926584],\n",
       "         [0.90982703],\n",
       "         [0.90982703],\n",
       "         [0.52385493],\n",
       "         [0.52385493],\n",
       "         [0.15240887],\n",
       "         [0.15240887],\n",
       "         [0.75090225],\n",
       "         [0.75090225],\n",
       "         [0.89338948],\n",
       "         [0.89338948],\n",
       "         [0.84193225],\n",
       "         [0.84193225]])}}"
      ]
     },
     "execution_count": 1,
     "metadata": {},
     "output_type": "execute_result"
    }
   ],
   "source": [
    "ds = load_by_id(run_id_a)\n",
    "ds.get_parameter_data('x1')"
   ]
  },
  {
   "cell_type": "code",
   "execution_count": null,
   "metadata": {},
   "outputs": [],
   "source": []
  }
 ],
 "metadata": {
  "kernelspec": {
   "display_name": "Python 3",
   "language": "python",
   "name": "python3"
  },
  "language_info": {
   "codemirror_mode": {
    "name": "ipython",
    "version": 3
   },
   "file_extension": ".py",
   "mimetype": "text/x-python",
   "name": "python",
   "nbconvert_exporter": "python",
   "pygments_lexer": "ipython3",
   "version": "3.7.10"
  },
  "nbsphinx": {
   "timeout": 600
  },
  "toc": {
   "base_numbering": 1,
   "nav_menu": {},
   "number_sections": true,
   "sideBar": true,
   "skip_h1_title": false,
   "title_cell": "Table of Contents",
   "title_sidebar": "Contents",
   "toc_cell": false,
   "toc_position": {},
   "toc_section_display": true,
   "toc_window_display": false
  },
  "varInspector": {
   "cols": {
    "lenName": 16,
    "lenType": 16,
    "lenVar": 40
   },
   "kernels_config": {
    "python": {
     "delete_cmd_postfix": "",
     "delete_cmd_prefix": "del ",
     "library": "var_list.py",
     "varRefreshCmd": "print(var_dic_list())"
    },
    "r": {
     "delete_cmd_postfix": ") ",
     "delete_cmd_prefix": "rm(",
     "library": "var_list.r",
     "varRefreshCmd": "cat(var_dic_list()) "
    }
   },
   "types_to_exclude": [
    "module",
    "function",
    "builtin_function_or_method",
    "instance",
    "_Feature"
   ],
   "window_display": false
  }
 },
 "nbformat": 4,
 "nbformat_minor": 4
}
