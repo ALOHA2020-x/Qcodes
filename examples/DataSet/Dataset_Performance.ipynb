{
 "cells": [
  {
   "cell_type": "markdown",
   "metadata": {},
   "source": [
    "# DataSet Performance\n",
    "\n",
    "This notebook shows the trade-off between inserting data into a database row-by-row and as binary blobs. Inserting the data row-by-row means that we have direct access to all the data and may perform queries directly on the values of the data. On the other hand, as we shall see, this is much slower than inserting the data directly as binary blobs."
   ]
  },
  {
   "cell_type": "markdown",
   "metadata": {},
   "source": [
    "First, we choose a new location for the database to ensure that we don't add a bunch of benchmarking data to the default one."
   ]
  },
  {
   "cell_type": "code",
   "execution_count": 1,
   "metadata": {
    "execution": {
     "iopub.execute_input": "2020-09-23T13:32:41.561736Z",
     "iopub.status.busy": "2020-09-23T13:32:41.561264Z",
     "iopub.status.idle": "2020-09-23T13:32:42.449585Z",
     "shell.execute_reply": "2020-09-23T13:32:42.448809Z"
    }
   },
   "outputs": [
    {
     "name": "stdout",
     "output_type": "stream",
     "text": [
      "Logging hadn't been started.\n",
      "Activating auto-logging. Current session state plus future input saved.\n",
      "Filename       : /home/vsts/.qcodes/logs/command_history.log\n",
      "Mode           : append\n",
      "Output logging : True\n",
      "Raw input log  : False\n",
      "Timestamping   : True\n",
      "State          : active\n"
     ]
    },
    {
     "name": "stdout",
     "output_type": "stream",
     "text": [
      "Qcodes Logfile : /home/vsts/.qcodes/logs/200923-19485-qcodes.log\n"
     ]
    }
   ],
   "source": [
    "import os\n",
    "cwd = os.getcwd()\n",
    "import qcodes as qc\n",
    "qc.config[\"core\"][\"db_location\"] = os.path.join(cwd, 'testing.db')\n"
   ]
  },
  {
   "cell_type": "code",
   "execution_count": 2,
   "metadata": {
    "execution": {
     "iopub.execute_input": "2020-09-23T13:32:42.456959Z",
     "iopub.status.busy": "2020-09-23T13:32:42.455885Z",
     "iopub.status.idle": "2020-09-23T13:32:42.620919Z",
     "shell.execute_reply": "2020-09-23T13:32:42.620216Z"
    }
   },
   "outputs": [],
   "source": [
    "%matplotlib inline\n",
    "import time\n",
    "import matplotlib.pyplot as plt\n",
    "import numpy as np\n",
    "\n",
    "import qcodes as qc\n",
    "from qcodes.instrument.parameter import ManualParameter\n",
    "from qcodes.dataset.experiment_container import (Experiment,\n",
    "                                                 load_last_experiment,\n",
    "                                                 new_experiment)\n",
    "from qcodes.dataset.sqlite.database import initialise_database\n",
    "from qcodes import load_or_create_experiment\n",
    "from qcodes.dataset.measurements import Measurement"
   ]
  },
  {
   "cell_type": "code",
   "execution_count": 3,
   "metadata": {
    "execution": {
     "iopub.execute_input": "2020-09-23T13:32:42.624556Z",
     "iopub.status.busy": "2020-09-23T13:32:42.623702Z",
     "iopub.status.idle": "2020-09-23T13:32:42.719833Z",
     "shell.execute_reply": "2020-09-23T13:32:42.720223Z"
    }
   },
   "outputs": [
    {
     "name": "stdout",
     "output_type": "stream",
     "text": [
      "\r",
      "0it [00:00, ?it/s]"
     ]
    },
    {
     "name": "stdout",
     "output_type": "stream",
     "text": [
      "\r",
      "Upgrading database; v0 -> v1: : 0it [00:00, ?it/s]"
     ]
    },
    {
     "name": "stdout",
     "output_type": "stream",
     "text": [
      "\r",
      "Upgrading database; v0 -> v1: : 0it [00:00, ?it/s]"
     ]
    },
    {
     "name": "stdout",
     "output_type": "stream",
     "text": [
      "\n",
      "\r",
      "  0%|          | 0/1 [00:00<?, ?it/s]"
     ]
    },
    {
     "name": "stdout",
     "output_type": "stream",
     "text": [
      "\r",
      "Upgrading database; v1 -> v2:   0%|          | 0/1 [00:00<?, ?it/s]"
     ]
    },
    {
     "name": "stdout",
     "output_type": "stream",
     "text": [
      "\r",
      "Upgrading database; v1 -> v2: 100%|██████████| 1/1 [00:00<00:00, 467.96it/s]"
     ]
    },
    {
     "name": "stdout",
     "output_type": "stream",
     "text": [
      "\n",
      "\r",
      "0it [00:00, ?it/s]"
     ]
    },
    {
     "name": "stdout",
     "output_type": "stream",
     "text": [
      "\r",
      "Upgrading database; v2 -> v3: : 0it [00:00, ?it/s]"
     ]
    },
    {
     "name": "stdout",
     "output_type": "stream",
     "text": [
      "\r",
      "Upgrading database; v2 -> v3: : 0it [00:00, ?it/s]"
     ]
    },
    {
     "name": "stdout",
     "output_type": "stream",
     "text": [
      "\n",
      "\r",
      "0it [00:00, ?it/s]"
     ]
    },
    {
     "name": "stdout",
     "output_type": "stream",
     "text": [
      "\r",
      "Upgrading database; v3 -> v4: : 0it [00:00, ?it/s]"
     ]
    },
    {
     "name": "stdout",
     "output_type": "stream",
     "text": [
      "\r",
      "Upgrading database; v3 -> v4: : 0it [00:00, ?it/s]"
     ]
    },
    {
     "name": "stdout",
     "output_type": "stream",
     "text": [
      "\n",
      "\r",
      "  0%|          | 0/1 [00:00<?, ?it/s]"
     ]
    },
    {
     "name": "stdout",
     "output_type": "stream",
     "text": [
      "\r",
      "Upgrading database; v4 -> v5:   0%|          | 0/1 [00:00<?, ?it/s]"
     ]
    },
    {
     "name": "stdout",
     "output_type": "stream",
     "text": [
      "\r",
      "Upgrading database; v4 -> v5: 100%|██████████| 1/1 [00:00<00:00, 473.88it/s]"
     ]
    },
    {
     "name": "stdout",
     "output_type": "stream",
     "text": [
      "\n",
      "\r",
      "0it [00:00, ?it/s]"
     ]
    },
    {
     "name": "stdout",
     "output_type": "stream",
     "text": [
      "\r",
      "Upgrading database; v5 -> v6: : 0it [00:00, ?it/s]"
     ]
    },
    {
     "name": "stdout",
     "output_type": "stream",
     "text": [
      "\r",
      "Upgrading database; v5 -> v6: : 0it [00:00, ?it/s]"
     ]
    },
    {
     "name": "stdout",
     "output_type": "stream",
     "text": [
      "\n",
      "\r",
      "  0%|          | 0/1 [00:00<?, ?it/s]"
     ]
    },
    {
     "name": "stdout",
     "output_type": "stream",
     "text": [
      "\r",
      "Upgrading database; v6 -> v7:   0%|          | 0/1 [00:00<?, ?it/s]"
     ]
    },
    {
     "name": "stdout",
     "output_type": "stream",
     "text": [
      "\r",
      "Upgrading database; v6 -> v7: 100%|██████████| 1/1 [00:00<00:00, 256.41it/s]"
     ]
    },
    {
     "name": "stdout",
     "output_type": "stream",
     "text": [
      "\n",
      "\r",
      "  0%|          | 0/1 [00:00<?, ?it/s]"
     ]
    },
    {
     "name": "stdout",
     "output_type": "stream",
     "text": [
      "\r",
      "Upgrading database; v7 -> v8:   0%|          | 0/1 [00:00<?, ?it/s]"
     ]
    },
    {
     "name": "stdout",
     "output_type": "stream",
     "text": [
      "\r",
      "Upgrading database; v7 -> v8: 100%|██████████| 1/1 [00:00<00:00, 467.49it/s]"
     ]
    },
    {
     "name": "stdout",
     "output_type": "stream",
     "text": [
      "\n",
      "\r",
      "  0%|          | 0/1 [00:00<?, ?it/s]"
     ]
    },
    {
     "name": "stdout",
     "output_type": "stream",
     "text": [
      "\r",
      "Upgrading database; v8 -> v9:   0%|          | 0/1 [00:00<?, ?it/s]"
     ]
    },
    {
     "name": "stdout",
     "output_type": "stream",
     "text": [
      "\r",
      "Upgrading database; v8 -> v9: 100%|██████████| 1/1 [00:00<00:00, 462.95it/s]"
     ]
    },
    {
     "name": "stdout",
     "output_type": "stream",
     "text": [
      "\n"
     ]
    }
   ],
   "source": [
    "initialise_database()\n",
    "exp = load_or_create_experiment(experiment_name='tutorial_exp', sample_name=\"no sample\")"
   ]
  },
  {
   "cell_type": "markdown",
   "metadata": {},
   "source": [
    "Here, we define a simple function to benchmark the time it takes to insert n points with either numeric or array data type.\n",
    "We will compare both the time used to call ``add_result`` and the time used for the full measurement."
   ]
  },
  {
   "cell_type": "code",
   "execution_count": 4,
   "metadata": {
    "execution": {
     "iopub.execute_input": "2020-09-23T13:32:42.728893Z",
     "iopub.status.busy": "2020-09-23T13:32:42.727773Z",
     "iopub.status.idle": "2020-09-23T13:32:42.729369Z",
     "shell.execute_reply": "2020-09-23T13:32:42.729847Z"
    }
   },
   "outputs": [],
   "source": [
    "def insert_data(paramtype, npoints, nreps=1):\n",
    "\n",
    "    meas = Measurement(exp=exp)\n",
    "\n",
    "    x1 = ManualParameter('x1')\n",
    "    x2 = ManualParameter('x2')\n",
    "    x3 = ManualParameter('x3')\n",
    "    y1 = ManualParameter('y1')\n",
    "    y2 = ManualParameter('y2')\n",
    "\n",
    "    meas.register_parameter(x1, paramtype=paramtype)\n",
    "    meas.register_parameter(x2, paramtype=paramtype)\n",
    "    meas.register_parameter(x3, paramtype=paramtype)\n",
    "    meas.register_parameter(y1, setpoints=[x1, x2, x3],\n",
    "                            paramtype=paramtype)\n",
    "    meas.register_parameter(y2, setpoints=[x1, x2, x3],\n",
    "                            paramtype=paramtype)\n",
    "    start = time.perf_counter()\n",
    "    with meas.run() as datasaver:\n",
    "        start_adding = time.perf_counter()\n",
    "        for i in range(nreps):\n",
    "            datasaver.add_result((x1, np.random.rand(npoints)),\n",
    "                                 (x2, np.random.rand(npoints)),\n",
    "                                 (x3, np.random.rand(npoints)),\n",
    "                                 (y1, np.random.rand(npoints)),\n",
    "                                 (y2, np.random.rand(npoints)))\n",
    "        stop_adding = time.perf_counter()\n",
    "        run_id = datasaver.run_id\n",
    "    stop = time.perf_counter()\n",
    "    tot_time = stop - start\n",
    "    add_time = stop_adding - start_adding\n",
    "    return tot_time, add_time, run_id"
   ]
  },
  {
   "cell_type": "markdown",
   "metadata": {},
   "source": [
    "## Comparison between numeric/array data and binary blob"
   ]
  },
  {
   "cell_type": "markdown",
   "metadata": {},
   "source": [
    "### Case1: Short experiment time"
   ]
  },
  {
   "cell_type": "code",
   "execution_count": 5,
   "metadata": {
    "execution": {
     "iopub.execute_input": "2020-09-23T13:32:42.735144Z",
     "iopub.status.busy": "2020-09-23T13:32:42.733938Z",
     "iopub.status.idle": "2020-09-23T13:32:43.389529Z",
     "shell.execute_reply": "2020-09-23T13:32:43.388937Z"
    }
   },
   "outputs": [
    {
     "name": "stdout",
     "output_type": "stream",
     "text": [
      "Starting experimental run with id: 1. \n",
      "Starting experimental run with id: 2. \n",
      "Starting experimental run with id: 3. \n",
      "Starting experimental run with id: 4. \n",
      "Starting experimental run with id: 5. \n"
     ]
    },
    {
     "name": "stdout",
     "output_type": "stream",
     "text": [
      "Starting experimental run with id: 6. "
     ]
    },
    {
     "name": "stdout",
     "output_type": "stream",
     "text": [
      "\n"
     ]
    },
    {
     "name": "stdout",
     "output_type": "stream",
     "text": [
      "Starting experimental run with id: 7. \n"
     ]
    },
    {
     "name": "stdout",
     "output_type": "stream",
     "text": [
      "Starting experimental run with id: 8. \n"
     ]
    },
    {
     "name": "stdout",
     "output_type": "stream",
     "text": [
      "Starting experimental run with id: 9. \n",
      "Starting experimental run with id: 10. \n"
     ]
    },
    {
     "name": "stdout",
     "output_type": "stream",
     "text": [
      "Starting experimental run with id: 11. \n"
     ]
    },
    {
     "name": "stdout",
     "output_type": "stream",
     "text": [
      "Starting experimental run with id: 12. \n",
      "Starting experimental run with id: 13. \n"
     ]
    },
    {
     "name": "stdout",
     "output_type": "stream",
     "text": [
      "Starting experimental run with id: 14. \n"
     ]
    }
   ],
   "source": [
    "sizes = [1,500,1000,2000,3000,4000,5000]\n",
    "t_numeric = []\n",
    "t_numeric_add = []\n",
    "t_array = []\n",
    "t_array_add = []\n",
    "for size in sizes:\n",
    "    tn, tna, run_id_n =  insert_data('numeric', size)\n",
    "    t_numeric.append(tn)\n",
    "    t_numeric_add.append(tna)\n",
    "\n",
    "    ta, taa, run_id_a =  insert_data('array', size)\n",
    "    t_array.append(ta)\n",
    "    t_array_add.append(taa)"
   ]
  },
  {
   "cell_type": "code",
   "execution_count": 6,
   "metadata": {
    "execution": {
     "iopub.execute_input": "2020-09-23T13:32:43.404359Z",
     "iopub.status.busy": "2020-09-23T13:32:43.393342Z",
     "iopub.status.idle": "2020-09-23T13:32:43.604562Z",
     "shell.execute_reply": "2020-09-23T13:32:43.604935Z"
    }
   },
   "outputs": [
    {
     "data": {
      "image/png": "[encoded data removed]",
      "text/plain": [
       "<Figure size 432x288 with 1 Axes>"
      ]
     },
     "metadata": {
      "needs_background": "light"
     },
     "output_type": "display_data"
    }
   ],
   "source": [
    "fig, ax = plt.subplots(1,1)\n",
    "ax.plot(sizes, t_numeric, 'o-', label='Inserting row-by-row')\n",
    "ax.plot(sizes, t_numeric_add, 'o-', label='Inserting row-by-row: add_result only')\n",
    "ax.plot(sizes, t_array, 'd-', label='Inserting as binary blob')\n",
    "ax.plot(sizes, t_array_add, 'd-', label='Inserting as binary blob: add_result only')\n",
    "ax.legend()\n",
    "ax.set_xlabel('Array length')\n",
    "ax.set_ylabel('Time (s)')\n",
    "fig.tight_layout()"
   ]
  },
  {
   "cell_type": "markdown",
   "metadata": {},
   "source": [
    "As shown in the latter figure, the time to setup and and close the experiment is approximately 0.4 sec. In case of small array sizes, the difference between inserting values of data as arrays and inserting them row-by-row is relatively unimportant. At larger array sizes, i.e. above 10000 points, the cost of writing data as individual datapoints starts to become important.\n"
   ]
  },
  {
   "cell_type": "markdown",
   "metadata": {},
   "source": [
    "### Case2: Long experiment time "
   ]
  },
  {
   "cell_type": "code",
   "execution_count": 7,
   "metadata": {
    "execution": {
     "iopub.execute_input": "2020-09-23T13:32:43.610581Z",
     "iopub.status.busy": "2020-09-23T13:32:43.609761Z",
     "iopub.status.idle": "2020-09-23T13:33:32.469161Z",
     "shell.execute_reply": "2020-09-23T13:33:32.469577Z"
    }
   },
   "outputs": [
    {
     "name": "stdout",
     "output_type": "stream",
     "text": [
      "Starting experimental run with id: 15. \n",
      "Starting experimental run with id: 16. \n",
      "Starting experimental run with id: 17. \n"
     ]
    },
    {
     "name": "stdout",
     "output_type": "stream",
     "text": [
      "Starting experimental run with id: 18. \n",
      "Starting experimental run with id: 19. \n"
     ]
    },
    {
     "name": "stdout",
     "output_type": "stream",
     "text": [
      "Starting experimental run with id: 20. \n"
     ]
    },
    {
     "name": "stdout",
     "output_type": "stream",
     "text": [
      "Starting experimental run with id: 21. \n"
     ]
    },
    {
     "name": "stdout",
     "output_type": "stream",
     "text": [
      "Starting experimental run with id: 22. \n"
     ]
    },
    {
     "name": "stdout",
     "output_type": "stream",
     "text": [
      "Starting experimental run with id: 23. \n"
     ]
    },
    {
     "name": "stdout",
     "output_type": "stream",
     "text": [
      "Starting experimental run with id: 24. \n"
     ]
    },
    {
     "name": "stdout",
     "output_type": "stream",
     "text": [
      "Starting experimental run with id: 25. \n"
     ]
    },
    {
     "name": "stdout",
     "output_type": "stream",
     "text": [
      "Starting experimental run with id: 26. \n"
     ]
    },
    {
     "name": "stdout",
     "output_type": "stream",
     "text": [
      "Starting experimental run with id: 27. \n"
     ]
    },
    {
     "name": "stdout",
     "output_type": "stream",
     "text": [
      "Starting experimental run with id: 28. \n"
     ]
    }
   ],
   "source": [
    "sizes = [1,500,1000,2000,3000,4000,5000]\n",
    "nreps = 100\n",
    "t_numeric = []\n",
    "t_numeric_add = []\n",
    "t_numeric_run_ids = []\n",
    "t_array = []\n",
    "t_array_add = []\n",
    "t_array_run_ids = []\n",
    "for size in sizes:\n",
    "    tn, tna, run_id_n =  insert_data('numeric', size, nreps=nreps)\n",
    "    t_numeric.append(tn)\n",
    "    t_numeric_add.append(tna)\n",
    "    t_numeric_run_ids.append(run_id_n)\n",
    "\n",
    "    ta, taa, run_id_a =  insert_data('array', size, nreps=nreps)\n",
    "    t_array.append(ta)\n",
    "    t_array_add.append(taa)\n",
    "    t_array_run_ids.append(run_id_a)"
   ]
  },
  {
   "cell_type": "code",
   "execution_count": 8,
   "metadata": {
    "execution": {
     "iopub.execute_input": "2020-09-23T13:33:32.487463Z",
     "iopub.status.busy": "2020-09-23T13:33:32.485359Z",
     "iopub.status.idle": "2020-09-23T13:33:32.683309Z",
     "shell.execute_reply": "2020-09-23T13:33:32.683712Z"
    },
    "scrolled": true
   },
   "outputs": [
    {
     "data": {
      "image/png": "[encoded data removed]",
      "text/plain": [
       "<Figure size 432x288 with 1 Axes>"
      ]
     },
     "metadata": {
      "needs_background": "light"
     },
     "output_type": "display_data"
    }
   ],
   "source": [
    "fig, ax = plt.subplots(1,1)\n",
    "ax.plot(sizes, t_numeric, 'o-', label='Inserting row-by-row')\n",
    "ax.plot(sizes, t_numeric_add, 'o-', label='Inserting row-by-row: add_result only')\n",
    "ax.plot(sizes, t_array, 'd-', label='Inserting as binary blob')\n",
    "ax.plot(sizes, t_array_add, 'd-', label='Inserting as binary blob: add_result only')\n",
    "ax.legend()\n",
    "ax.set_xlabel('Array length')\n",
    "ax.set_ylabel('Time (s)')\n",
    "fig.tight_layout()"
   ]
  },
  {
   "cell_type": "markdown",
   "metadata": {},
   "source": [
    "However, as we increase the length of the experiment, as seen here by repeating the insertion 100 times, we see a big difference between inserting values of the data row-by-row and inserting it as a binary blob."
   ]
  },
  {
   "cell_type": "markdown",
   "metadata": {},
   "source": [
    "## Loading the data "
   ]
  },
  {
   "cell_type": "code",
   "execution_count": 9,
   "metadata": {
    "execution": {
     "iopub.execute_input": "2020-09-23T13:33:32.687472Z",
     "iopub.status.busy": "2020-09-23T13:33:32.686649Z",
     "iopub.status.idle": "2020-09-23T13:33:32.690227Z",
     "shell.execute_reply": "2020-09-23T13:33:32.689761Z"
    }
   },
   "outputs": [],
   "source": [
    "from qcodes.dataset.data_set import load_by_id\n",
    "from qcodes.dataset.data_export import get_data_by_id"
   ]
  },
  {
   "cell_type": "markdown",
   "metadata": {},
   "source": [
    "As usual you can load the data by using the ``load_by_id`` function but you will notice that the different storage methods\n",
    "are reflected in shape of the data as it is retrieved. "
   ]
  },
  {
   "cell_type": "code",
   "execution_count": 10,
   "metadata": {
    "execution": {
     "iopub.execute_input": "2020-09-23T13:33:32.694068Z",
     "iopub.status.busy": "2020-09-23T13:33:32.693009Z",
     "iopub.status.idle": "2020-09-23T13:33:32.694632Z",
     "shell.execute_reply": "2020-09-23T13:33:32.695228Z"
    }
   },
   "outputs": [],
   "source": [
    "run_id_n = t_numeric_run_ids[0]\n",
    "run_id_a = t_array_run_ids[0]"
   ]
  },
  {
   "cell_type": "code",
   "execution_count": 11,
   "metadata": {
    "execution": {
     "iopub.execute_input": "2020-09-23T13:33:32.698811Z",
     "iopub.status.busy": "2020-09-23T13:33:32.698042Z",
     "iopub.status.idle": "2020-09-23T13:33:32.706049Z",
     "shell.execute_reply": "2020-09-23T13:33:32.705621Z"
    },
    "scrolled": true
   },
   "outputs": [
    {
     "data": {
      "text/plain": [
       "{'x1': {'x1': array([0.21827678, 0.21827678, 0.95279396, 0.95279396, 0.60449228,\n",
       "         0.60449228, 0.42530503, 0.42530503, 0.87510854, 0.87510854,\n",
       "         0.98570686, 0.98570686, 0.58928493, 0.58928493, 0.89864061,\n",
       "         0.89864061, 0.28087876, 0.28087876, 0.6372475 , 0.6372475 ,\n",
       "         0.65536244, 0.65536244, 0.75124607, 0.75124607, 0.91822514,\n",
       "         0.91822514, 0.49418251, 0.49418251, 0.2417052 , 0.2417052 ,\n",
       "         0.80682202, 0.80682202, 0.50339196, 0.50339196, 0.28498585,\n",
       "         0.28498585, 0.8682806 , 0.8682806 , 0.4570641 , 0.4570641 ,\n",
       "         0.21705223, 0.21705223, 0.29494006, 0.29494006, 0.55453429,\n",
       "         0.55453429, 0.14507841, 0.14507841, 0.02180491, 0.02180491,\n",
       "         0.71132166, 0.71132166, 0.56787967, 0.56787967, 0.33382082,\n",
       "         0.33382082, 0.72711469, 0.72711469, 0.33888465, 0.33888465,\n",
       "         0.85483887, 0.85483887, 0.76450236, 0.76450236, 0.33515783,\n",
       "         0.33515783, 0.73878082, 0.73878082, 0.32941116, 0.32941116,\n",
       "         0.65765735, 0.65765735, 0.46117916, 0.46117916, 0.12450365,\n",
       "         0.12450365, 0.38896452, 0.38896452, 0.34076891, 0.34076891,\n",
       "         0.55532947, 0.55532947, 0.72934838, 0.72934838, 0.11292354,\n",
       "         0.11292354, 0.31843006, 0.31843006, 0.75860927, 0.75860927,\n",
       "         0.18727646, 0.18727646, 0.70550959, 0.70550959, 0.9753839 ,\n",
       "         0.9753839 , 0.56111848, 0.56111848, 0.23615958, 0.23615958,\n",
       "         0.17824786, 0.17824786, 0.36423598, 0.36423598, 0.47884806,\n",
       "         0.47884806, 0.85069457, 0.85069457, 0.75953898, 0.75953898,\n",
       "         0.77377967, 0.77377967, 0.32403406, 0.32403406, 0.65819839,\n",
       "         0.65819839, 0.0895025 , 0.0895025 , 0.60163843, 0.60163843,\n",
       "         0.18645538, 0.18645538, 0.276955  , 0.276955  , 0.62447934,\n",
       "         0.62447934, 0.46485181, 0.46485181, 0.57234938, 0.57234938,\n",
       "         0.5494438 , 0.5494438 , 0.18738192, 0.18738192, 0.36262867,\n",
       "         0.36262867, 0.31164736, 0.31164736, 0.69572362, 0.69572362,\n",
       "         0.81763043, 0.81763043, 0.62017087, 0.62017087, 0.8468856 ,\n",
       "         0.8468856 , 0.94715982, 0.94715982, 0.47760819, 0.47760819,\n",
       "         0.93074151, 0.93074151, 0.03090036, 0.03090036, 0.80100654,\n",
       "         0.80100654, 0.89025412, 0.89025412, 0.14393106, 0.14393106,\n",
       "         0.02445063, 0.02445063, 0.09517975, 0.09517975, 0.99474692,\n",
       "         0.99474692, 0.09262416, 0.09262416, 0.2587134 , 0.2587134 ,\n",
       "         0.34809168, 0.34809168, 0.1466446 , 0.1466446 , 0.07305221,\n",
       "         0.07305221, 0.87123105, 0.87123105, 0.64348055, 0.64348055,\n",
       "         0.36237977, 0.36237977, 0.47517685, 0.47517685, 0.81230292,\n",
       "         0.81230292, 0.34458813, 0.34458813, 0.61066672, 0.61066672,\n",
       "         0.91044668, 0.91044668, 0.38359141, 0.38359141, 0.93573717,\n",
       "         0.93573717, 0.41586751, 0.41586751, 0.75706976, 0.75706976])}}"
      ]
     },
     "execution_count": 1,
     "metadata": {},
     "output_type": "execute_result"
    }
   ],
   "source": [
    "ds = load_by_id(run_id_n)\n",
    "ds.get_parameter_data('x1')"
   ]
  },
  {
   "cell_type": "markdown",
   "metadata": {},
   "source": [
    "And a dataset stored as binary arrays"
   ]
  },
  {
   "cell_type": "code",
   "execution_count": 12,
   "metadata": {
    "execution": {
     "iopub.execute_input": "2020-09-23T13:33:32.709035Z",
     "iopub.status.busy": "2020-09-23T13:33:32.708557Z",
     "iopub.status.idle": "2020-09-23T13:33:32.759088Z",
     "shell.execute_reply": "2020-09-23T13:33:32.759705Z"
    },
    "scrolled": true
   },
   "outputs": [
    {
     "data": {
      "text/plain": [
       "{'x1': {'x1': array([[0.97777979],\n",
       "         [0.97777979],\n",
       "         [0.88494009],\n",
       "         [0.88494009],\n",
       "         [0.05497593],\n",
       "         [0.05497593],\n",
       "         [0.8523713 ],\n",
       "         [0.8523713 ],\n",
       "         [0.57486761],\n",
       "         [0.57486761],\n",
       "         [0.18442316],\n",
       "         [0.18442316],\n",
       "         [0.50441057],\n",
       "         [0.50441057],\n",
       "         [0.26847172],\n",
       "         [0.26847172],\n",
       "         [0.79930477],\n",
       "         [0.79930477],\n",
       "         [0.6305134 ],\n",
       "         [0.6305134 ],\n",
       "         [0.56212553],\n",
       "         [0.56212553],\n",
       "         [0.56638137],\n",
       "         [0.56638137],\n",
       "         [0.69738571],\n",
       "         [0.69738571],\n",
       "         [0.42785376],\n",
       "         [0.42785376],\n",
       "         [0.06959699],\n",
       "         [0.06959699],\n",
       "         [0.03386172],\n",
       "         [0.03386172],\n",
       "         [0.85633343],\n",
       "         [0.85633343],\n",
       "         [0.10806747],\n",
       "         [0.10806747],\n",
       "         [0.8041512 ],\n",
       "         [0.8041512 ],\n",
       "         [0.36389186],\n",
       "         [0.36389186],\n",
       "         [0.57654793],\n",
       "         [0.57654793],\n",
       "         [0.66089989],\n",
       "         [0.66089989],\n",
       "         [0.85975337],\n",
       "         [0.85975337],\n",
       "         [0.78238713],\n",
       "         [0.78238713],\n",
       "         [0.72773312],\n",
       "         [0.72773312],\n",
       "         [0.69290468],\n",
       "         [0.69290468],\n",
       "         [0.56754187],\n",
       "         [0.56754187],\n",
       "         [0.26355615],\n",
       "         [0.26355615],\n",
       "         [0.28318397],\n",
       "         [0.28318397],\n",
       "         [0.81946747],\n",
       "         [0.81946747],\n",
       "         [0.82756718],\n",
       "         [0.82756718],\n",
       "         [0.05050109],\n",
       "         [0.05050109],\n",
       "         [0.0923596 ],\n",
       "         [0.0923596 ],\n",
       "         [0.39544337],\n",
       "         [0.39544337],\n",
       "         [0.57377481],\n",
       "         [0.57377481],\n",
       "         [0.68249732],\n",
       "         [0.68249732],\n",
       "         [0.83845158],\n",
       "         [0.83845158],\n",
       "         [0.29276734],\n",
       "         [0.29276734],\n",
       "         [0.12392985],\n",
       "         [0.12392985],\n",
       "         [0.3770645 ],\n",
       "         [0.3770645 ],\n",
       "         [0.98638511],\n",
       "         [0.98638511],\n",
       "         [0.68606549],\n",
       "         [0.68606549],\n",
       "         [0.54078911],\n",
       "         [0.54078911],\n",
       "         [0.06231378],\n",
       "         [0.06231378],\n",
       "         [0.8497103 ],\n",
       "         [0.8497103 ],\n",
       "         [0.04509116],\n",
       "         [0.04509116],\n",
       "         [0.71938892],\n",
       "         [0.71938892],\n",
       "         [0.48627975],\n",
       "         [0.48627975],\n",
       "         [0.80343318],\n",
       "         [0.80343318],\n",
       "         [0.32477612],\n",
       "         [0.32477612],\n",
       "         [0.339584  ],\n",
       "         [0.339584  ],\n",
       "         [0.81646603],\n",
       "         [0.81646603],\n",
       "         [0.16308932],\n",
       "         [0.16308932],\n",
       "         [0.40487612],\n",
       "         [0.40487612],\n",
       "         [0.61409829],\n",
       "         [0.61409829],\n",
       "         [0.57952925],\n",
       "         [0.57952925],\n",
       "         [0.88624056],\n",
       "         [0.88624056],\n",
       "         [0.84420903],\n",
       "         [0.84420903],\n",
       "         [0.56604912],\n",
       "         [0.56604912],\n",
       "         [0.1559167 ],\n",
       "         [0.1559167 ],\n",
       "         [0.50117405],\n",
       "         [0.50117405],\n",
       "         [0.36039823],\n",
       "         [0.36039823],\n",
       "         [0.00126943],\n",
       "         [0.00126943],\n",
       "         [0.72065314],\n",
       "         [0.72065314],\n",
       "         [0.09427131],\n",
       "         [0.09427131],\n",
       "         [0.25265333],\n",
       "         [0.25265333],\n",
       "         [0.3723751 ],\n",
       "         [0.3723751 ],\n",
       "         [0.8764355 ],\n",
       "         [0.8764355 ],\n",
       "         [0.06599875],\n",
       "         [0.06599875],\n",
       "         [0.25388367],\n",
       "         [0.25388367],\n",
       "         [0.08905405],\n",
       "         [0.08905405],\n",
       "         [0.33416749],\n",
       "         [0.33416749],\n",
       "         [0.58103105],\n",
       "         [0.58103105],\n",
       "         [0.82905113],\n",
       "         [0.82905113],\n",
       "         [0.98352734],\n",
       "         [0.98352734],\n",
       "         [0.28243927],\n",
       "         [0.28243927],\n",
       "         [0.09898591],\n",
       "         [0.09898591],\n",
       "         [0.9247358 ],\n",
       "         [0.9247358 ],\n",
       "         [0.48495214],\n",
       "         [0.48495214],\n",
       "         [0.75239734],\n",
       "         [0.75239734],\n",
       "         [0.75641044],\n",
       "         [0.75641044],\n",
       "         [0.5420391 ],\n",
       "         [0.5420391 ],\n",
       "         [0.57261505],\n",
       "         [0.57261505],\n",
       "         [0.49010152],\n",
       "         [0.49010152],\n",
       "         [0.5920687 ],\n",
       "         [0.5920687 ],\n",
       "         [0.4781751 ],\n",
       "         [0.4781751 ],\n",
       "         [0.12219312],\n",
       "         [0.12219312],\n",
       "         [0.90662704],\n",
       "         [0.90662704],\n",
       "         [0.09931481],\n",
       "         [0.09931481],\n",
       "         [0.90284253],\n",
       "         [0.90284253],\n",
       "         [0.3391764 ],\n",
       "         [0.3391764 ],\n",
       "         [0.92525429],\n",
       "         [0.92525429],\n",
       "         [0.82723778],\n",
       "         [0.82723778],\n",
       "         [0.18146016],\n",
       "         [0.18146016],\n",
       "         [0.06484356],\n",
       "         [0.06484356],\n",
       "         [0.0978666 ],\n",
       "         [0.0978666 ],\n",
       "         [0.73678312],\n",
       "         [0.73678312],\n",
       "         [0.38978143],\n",
       "         [0.38978143],\n",
       "         [0.95382967],\n",
       "         [0.95382967],\n",
       "         [0.62375019],\n",
       "         [0.62375019]])}}"
      ]
     },
     "execution_count": 1,
     "metadata": {},
     "output_type": "execute_result"
    }
   ],
   "source": [
    "ds = load_by_id(run_id_a)\n",
    "ds.get_parameter_data('x1')"
   ]
  },
  {
   "cell_type": "code",
   "execution_count": null,
   "metadata": {},
   "outputs": [],
   "source": []
  }
 ],
 "metadata": {
  "kernelspec": {
   "display_name": "Python 3",
   "language": "python",
   "name": "python3"
  },
  "language_info": {
   "codemirror_mode": {
    "name": "ipython",
    "version": 3
   },
   "file_extension": ".py",
   "mimetype": "text/x-python",
   "name": "python",
   "nbconvert_exporter": "python",
   "pygments_lexer": "ipython3",
   "version": "3.7.7"
  },
  "nbsphinx": {
   "timeout": 600
  },
  "toc": {
   "base_numbering": 1,
   "nav_menu": {},
   "number_sections": true,
   "sideBar": true,
   "skip_h1_title": false,
   "title_cell": "Table of Contents",
   "title_sidebar": "Contents",
   "toc_cell": false,
   "toc_position": {},
   "toc_section_display": true,
   "toc_window_display": false
  },
  "varInspector": {
   "cols": {
    "lenName": 16,
    "lenType": 16,
    "lenVar": 40
   },
   "kernels_config": {
    "python": {
     "delete_cmd_postfix": "",
     "delete_cmd_prefix": "del ",
     "library": "var_list.py",
     "varRefreshCmd": "print(var_dic_list())"
    },
    "r": {
     "delete_cmd_postfix": ") ",
     "delete_cmd_prefix": "rm(",
     "library": "var_list.r",
     "varRefreshCmd": "cat(var_dic_list()) "
    }
   },
   "types_to_exclude": [
    "module",
    "function",
    "builtin_function_or_method",
    "instance",
    "_Feature"
   ],
   "window_display": false
  }
 },
 "nbformat": 4,
 "nbformat_minor": 2
}
