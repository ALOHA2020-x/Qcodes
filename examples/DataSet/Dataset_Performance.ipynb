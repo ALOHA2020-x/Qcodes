{
 "cells": [
  {
   "cell_type": "markdown",
   "metadata": {},
   "source": [
    "# DataSet Performance\n",
    "\n",
    "This notebook shows the trade-off between inserting data into a database row-by-row and as binary blobs. Inserting the data row-by-row means that we have direct access to all the data and may perform queries directly on the values of the data. On the other hand, as we shall see, this is much slower than inserting the data directly as binary blobs."
   ]
  },
  {
   "cell_type": "markdown",
   "metadata": {},
   "source": [
    "First, we choose a new location for the database to ensure that we don't add a bunch of benchmarking data to the default one."
   ]
  },
  {
   "cell_type": "code",
   "execution_count": 1,
   "metadata": {
    "execution": {
     "iopub.execute_input": "2020-12-16T07:07:00.023398Z",
     "iopub.status.busy": "2020-12-16T07:07:00.022949Z",
     "iopub.status.idle": "2020-12-16T07:07:00.938613Z",
     "shell.execute_reply": "2020-12-16T07:07:00.939069Z"
    }
   },
   "outputs": [
    {
     "name": "stdout",
     "output_type": "stream",
     "text": [
      "Logging hadn't been started.\n",
      "Activating auto-logging. Current session state plus future input saved.\n",
      "Filename       : /home/vsts/.qcodes/logs/command_history.log\n",
      "Mode           : append\n",
      "Output logging : True\n",
      "Raw input log  : False\n",
      "Timestamping   : True\n",
      "State          : active\n"
     ]
    },
    {
     "name": "stdout",
     "output_type": "stream",
     "text": [
      "Qcodes Logfile : /home/vsts/.qcodes/logs/201216-14333-qcodes.log\n"
     ]
    }
   ],
   "source": [
    "import os\n",
    "cwd = os.getcwd()\n",
    "import qcodes as qc\n",
    "qc.config[\"core\"][\"db_location\"] = os.path.join(cwd, 'testing.db')\n"
   ]
  },
  {
   "cell_type": "code",
   "execution_count": 2,
   "metadata": {
    "execution": {
     "iopub.execute_input": "2020-12-16T07:07:00.946196Z",
     "iopub.status.busy": "2020-12-16T07:07:00.944220Z",
     "iopub.status.idle": "2020-12-16T07:07:01.101474Z",
     "shell.execute_reply": "2020-12-16T07:07:01.101956Z"
    }
   },
   "outputs": [],
   "source": [
    "%matplotlib inline\n",
    "import time\n",
    "import matplotlib.pyplot as plt\n",
    "import numpy as np\n",
    "\n",
    "import qcodes as qc\n",
    "from qcodes.instrument.parameter import ManualParameter\n",
    "from qcodes.dataset.experiment_container import (Experiment,\n",
    "                                                 load_last_experiment,\n",
    "                                                 new_experiment)\n",
    "from qcodes.dataset.sqlite.database import initialise_database\n",
    "from qcodes import load_or_create_experiment\n",
    "from qcodes.dataset.measurements import Measurement"
   ]
  },
  {
   "cell_type": "code",
   "execution_count": 3,
   "metadata": {
    "execution": {
     "iopub.execute_input": "2020-12-16T07:07:01.105450Z",
     "iopub.status.busy": "2020-12-16T07:07:01.104885Z",
     "iopub.status.idle": "2020-12-16T07:07:01.187447Z",
     "shell.execute_reply": "2020-12-16T07:07:01.186962Z"
    }
   },
   "outputs": [
    {
     "name": "stdout",
     "output_type": "stream",
     "text": [
      "\r",
      "0it [00:00, ?it/s]"
     ]
    },
    {
     "name": "stdout",
     "output_type": "stream",
     "text": [
      "\r",
      "Upgrading database; v0 -> v1: : 0it [00:00, ?it/s]"
     ]
    },
    {
     "name": "stdout",
     "output_type": "stream",
     "text": [
      "\r",
      "Upgrading database; v0 -> v1: : 0it [00:00, ?it/s]"
     ]
    },
    {
     "name": "stdout",
     "output_type": "stream",
     "text": [
      "\n",
      "\r",
      "  0%|          | 0/1 [00:00<?, ?it/s]"
     ]
    },
    {
     "name": "stdout",
     "output_type": "stream",
     "text": [
      "\r",
      "Upgrading database; v1 -> v2:   0%|          | 0/1 [00:00<?, ?it/s]"
     ]
    },
    {
     "name": "stdout",
     "output_type": "stream",
     "text": [
      "\r",
      "Upgrading database; v1 -> v2: 100%|██████████| 1/1 [00:00<00:00, 1268.31it/s]"
     ]
    },
    {
     "name": "stdout",
     "output_type": "stream",
     "text": [
      "\n",
      "\r",
      "0it [00:00, ?it/s]"
     ]
    },
    {
     "name": "stdout",
     "output_type": "stream",
     "text": [
      "\r",
      "Upgrading database; v2 -> v3: : 0it [00:00, ?it/s]"
     ]
    },
    {
     "name": "stdout",
     "output_type": "stream",
     "text": [
      "\r",
      "Upgrading database; v2 -> v3: : 0it [00:00, ?it/s]"
     ]
    },
    {
     "name": "stdout",
     "output_type": "stream",
     "text": [
      "\n",
      "\r",
      "0it [00:00, ?it/s]"
     ]
    },
    {
     "name": "stdout",
     "output_type": "stream",
     "text": [
      "\r",
      "Upgrading database; v3 -> v4: : 0it [00:00, ?it/s]"
     ]
    },
    {
     "name": "stdout",
     "output_type": "stream",
     "text": [
      "\r",
      "Upgrading database; v3 -> v4: : 0it [00:00, ?it/s]"
     ]
    },
    {
     "name": "stdout",
     "output_type": "stream",
     "text": [
      "\n",
      "\r",
      "  0%|          | 0/1 [00:00<?, ?it/s]"
     ]
    },
    {
     "name": "stdout",
     "output_type": "stream",
     "text": [
      "\r",
      "Upgrading database; v4 -> v5:   0%|          | 0/1 [00:00<?, ?it/s]"
     ]
    },
    {
     "name": "stdout",
     "output_type": "stream",
     "text": [
      "\r",
      "Upgrading database; v4 -> v5: 100%|██████████| 1/1 [00:00<00:00, 1073.26it/s]"
     ]
    },
    {
     "name": "stdout",
     "output_type": "stream",
     "text": [
      "\n",
      "\r",
      "0it [00:00, ?it/s]"
     ]
    },
    {
     "name": "stdout",
     "output_type": "stream",
     "text": [
      "\r",
      "Upgrading database; v5 -> v6: : 0it [00:00, ?it/s]"
     ]
    },
    {
     "name": "stdout",
     "output_type": "stream",
     "text": [
      "\r",
      "Upgrading database; v5 -> v6: : 0it [00:00, ?it/s]"
     ]
    },
    {
     "name": "stdout",
     "output_type": "stream",
     "text": [
      "\n",
      "\r",
      "  0%|          | 0/1 [00:00<?, ?it/s]"
     ]
    },
    {
     "name": "stdout",
     "output_type": "stream",
     "text": [
      "\r",
      "Upgrading database; v6 -> v7:   0%|          | 0/1 [00:00<?, ?it/s]"
     ]
    },
    {
     "name": "stdout",
     "output_type": "stream",
     "text": [
      "\r",
      "Upgrading database; v6 -> v7: 100%|██████████| 1/1 [00:00<00:00, 458.80it/s]"
     ]
    },
    {
     "name": "stdout",
     "output_type": "stream",
     "text": [
      "\n",
      "\r",
      "  0%|          | 0/1 [00:00<?, ?it/s]"
     ]
    },
    {
     "name": "stdout",
     "output_type": "stream",
     "text": [
      "\r",
      "Upgrading database; v7 -> v8:   0%|          | 0/1 [00:00<?, ?it/s]"
     ]
    },
    {
     "name": "stdout",
     "output_type": "stream",
     "text": [
      "\r",
      "Upgrading database; v7 -> v8: 100%|██████████| 1/1 [00:00<00:00, 525.67it/s]"
     ]
    },
    {
     "name": "stdout",
     "output_type": "stream",
     "text": [
      "\n",
      "\r",
      "  0%|          | 0/1 [00:00<?, ?it/s]"
     ]
    },
    {
     "name": "stdout",
     "output_type": "stream",
     "text": [
      "\r",
      "Upgrading database; v8 -> v9:   0%|          | 0/1 [00:00<?, ?it/s]"
     ]
    },
    {
     "name": "stdout",
     "output_type": "stream",
     "text": [
      "\r",
      "Upgrading database; v8 -> v9: 100%|██████████| 1/1 [00:00<00:00, 556.05it/s]"
     ]
    },
    {
     "name": "stdout",
     "output_type": "stream",
     "text": [
      "\n"
     ]
    }
   ],
   "source": [
    "initialise_database()\n",
    "exp = load_or_create_experiment(experiment_name='tutorial_exp', sample_name=\"no sample\")"
   ]
  },
  {
   "cell_type": "markdown",
   "metadata": {},
   "source": [
    "Here, we define a simple function to benchmark the time it takes to insert n points with either numeric or array data type.\n",
    "We will compare both the time used to call ``add_result`` and the time used for the full measurement."
   ]
  },
  {
   "cell_type": "code",
   "execution_count": 4,
   "metadata": {
    "execution": {
     "iopub.execute_input": "2020-12-16T07:07:01.195140Z",
     "iopub.status.busy": "2020-12-16T07:07:01.194321Z",
     "iopub.status.idle": "2020-12-16T07:07:01.195826Z",
     "shell.execute_reply": "2020-12-16T07:07:01.196274Z"
    }
   },
   "outputs": [],
   "source": [
    "def insert_data(paramtype, npoints, nreps=1):\n",
    "\n",
    "    meas = Measurement(exp=exp)\n",
    "\n",
    "    x1 = ManualParameter('x1')\n",
    "    x2 = ManualParameter('x2')\n",
    "    x3 = ManualParameter('x3')\n",
    "    y1 = ManualParameter('y1')\n",
    "    y2 = ManualParameter('y2')\n",
    "\n",
    "    meas.register_parameter(x1, paramtype=paramtype)\n",
    "    meas.register_parameter(x2, paramtype=paramtype)\n",
    "    meas.register_parameter(x3, paramtype=paramtype)\n",
    "    meas.register_parameter(y1, setpoints=[x1, x2, x3],\n",
    "                            paramtype=paramtype)\n",
    "    meas.register_parameter(y2, setpoints=[x1, x2, x3],\n",
    "                            paramtype=paramtype)\n",
    "    start = time.perf_counter()\n",
    "    with meas.run() as datasaver:\n",
    "        start_adding = time.perf_counter()\n",
    "        for i in range(nreps):\n",
    "            datasaver.add_result((x1, np.random.rand(npoints)),\n",
    "                                 (x2, np.random.rand(npoints)),\n",
    "                                 (x3, np.random.rand(npoints)),\n",
    "                                 (y1, np.random.rand(npoints)),\n",
    "                                 (y2, np.random.rand(npoints)))\n",
    "        stop_adding = time.perf_counter()\n",
    "        run_id = datasaver.run_id\n",
    "    stop = time.perf_counter()\n",
    "    tot_time = stop - start\n",
    "    add_time = stop_adding - start_adding\n",
    "    return tot_time, add_time, run_id"
   ]
  },
  {
   "cell_type": "markdown",
   "metadata": {},
   "source": [
    "## Comparison between numeric/array data and binary blob"
   ]
  },
  {
   "cell_type": "markdown",
   "metadata": {},
   "source": [
    "### Case1: Short experiment time"
   ]
  },
  {
   "cell_type": "code",
   "execution_count": 5,
   "metadata": {
    "execution": {
     "iopub.execute_input": "2020-12-16T07:07:01.201625Z",
     "iopub.status.busy": "2020-12-16T07:07:01.201180Z",
     "iopub.status.idle": "2020-12-16T07:07:01.870344Z",
     "shell.execute_reply": "2020-12-16T07:07:01.870726Z"
    }
   },
   "outputs": [
    {
     "name": "stdout",
     "output_type": "stream",
     "text": [
      "Starting experimental run with id: 1. \n",
      "Starting experimental run with id: 2. \n",
      "Starting experimental run with id: 3. \n",
      "Starting experimental run with id: 4. \n",
      "Starting experimental run with id: 5. \n",
      "Starting experimental run with id: 6. \n",
      "Starting experimental run with id: 7. \n"
     ]
    },
    {
     "name": "stdout",
     "output_type": "stream",
     "text": [
      "Starting experimental run with id: 8. \n",
      "Starting experimental run with id: 9. \n"
     ]
    },
    {
     "name": "stdout",
     "output_type": "stream",
     "text": [
      "Starting experimental run with id: 10. \n",
      "Starting experimental run with id: 11. \n"
     ]
    },
    {
     "name": "stdout",
     "output_type": "stream",
     "text": [
      "Starting experimental run with id: 12. \n",
      "Starting experimental run with id: 13. \n"
     ]
    },
    {
     "name": "stdout",
     "output_type": "stream",
     "text": [
      "Starting experimental run with id: 14. \n"
     ]
    }
   ],
   "source": [
    "sizes = [1,500,1000,2000,3000,4000,5000]\n",
    "t_numeric = []\n",
    "t_numeric_add = []\n",
    "t_array = []\n",
    "t_array_add = []\n",
    "for size in sizes:\n",
    "    tn, tna, run_id_n =  insert_data('numeric', size)\n",
    "    t_numeric.append(tn)\n",
    "    t_numeric_add.append(tna)\n",
    "\n",
    "    ta, taa, run_id_a =  insert_data('array', size)\n",
    "    t_array.append(ta)\n",
    "    t_array_add.append(taa)"
   ]
  },
  {
   "cell_type": "code",
   "execution_count": 6,
   "metadata": {
    "execution": {
     "iopub.execute_input": "2020-12-16T07:07:01.885454Z",
     "iopub.status.busy": "2020-12-16T07:07:01.885004Z",
     "iopub.status.idle": "2020-12-16T07:07:02.055500Z",
     "shell.execute_reply": "2020-12-16T07:07:02.055007Z"
    }
   },
   "outputs": [
    {
     "data": {
      "image/png": "[encoded data removed]",
      "text/plain": [
       "<Figure size 432x288 with 1 Axes>"
      ]
     },
     "metadata": {
      "needs_background": "light"
     },
     "output_type": "display_data"
    }
   ],
   "source": [
    "fig, ax = plt.subplots(1,1)\n",
    "ax.plot(sizes, t_numeric, 'o-', label='Inserting row-by-row')\n",
    "ax.plot(sizes, t_numeric_add, 'o-', label='Inserting row-by-row: add_result only')\n",
    "ax.plot(sizes, t_array, 'd-', label='Inserting as binary blob')\n",
    "ax.plot(sizes, t_array_add, 'd-', label='Inserting as binary blob: add_result only')\n",
    "ax.legend()\n",
    "ax.set_xlabel('Array length')\n",
    "ax.set_ylabel('Time (s)')\n",
    "fig.tight_layout()"
   ]
  },
  {
   "cell_type": "markdown",
   "metadata": {},
   "source": [
    "As shown in the latter figure, the time to setup and and close the experiment is approximately 0.4 sec. In case of small array sizes, the difference between inserting values of data as arrays and inserting them row-by-row is relatively unimportant. At larger array sizes, i.e. above 10000 points, the cost of writing data as individual datapoints starts to become important.\n"
   ]
  },
  {
   "cell_type": "markdown",
   "metadata": {},
   "source": [
    "### Case2: Long experiment time "
   ]
  },
  {
   "cell_type": "code",
   "execution_count": 7,
   "metadata": {
    "execution": {
     "iopub.execute_input": "2020-12-16T07:07:02.061805Z",
     "iopub.status.busy": "2020-12-16T07:07:02.061013Z",
     "iopub.status.idle": "2020-12-16T07:07:54.261598Z",
     "shell.execute_reply": "2020-12-16T07:07:54.260992Z"
    }
   },
   "outputs": [
    {
     "name": "stdout",
     "output_type": "stream",
     "text": [
      "Starting experimental run with id: 15. \n",
      "Starting experimental run with id: 16. \n",
      "Starting experimental run with id: 17. \n"
     ]
    },
    {
     "name": "stdout",
     "output_type": "stream",
     "text": [
      "Starting experimental run with id: 18. \n",
      "Starting experimental run with id: 19. \n"
     ]
    },
    {
     "name": "stdout",
     "output_type": "stream",
     "text": [
      "Starting experimental run with id: 20. \n"
     ]
    },
    {
     "name": "stdout",
     "output_type": "stream",
     "text": [
      "Starting experimental run with id: 21. \n"
     ]
    },
    {
     "name": "stdout",
     "output_type": "stream",
     "text": [
      "Starting experimental run with id: 22. \n"
     ]
    },
    {
     "name": "stdout",
     "output_type": "stream",
     "text": [
      "Starting experimental run with id: 23. \n"
     ]
    },
    {
     "name": "stdout",
     "output_type": "stream",
     "text": [
      "Starting experimental run with id: 24. \n"
     ]
    },
    {
     "name": "stdout",
     "output_type": "stream",
     "text": [
      "Starting experimental run with id: 25. \n"
     ]
    },
    {
     "name": "stdout",
     "output_type": "stream",
     "text": [
      "Starting experimental run with id: 26. \n"
     ]
    },
    {
     "name": "stdout",
     "output_type": "stream",
     "text": [
      "Starting experimental run with id: 27. \n"
     ]
    },
    {
     "name": "stdout",
     "output_type": "stream",
     "text": [
      "Starting experimental run with id: 28. \n"
     ]
    }
   ],
   "source": [
    "sizes = [1,500,1000,2000,3000,4000,5000]\n",
    "nreps = 100\n",
    "t_numeric = []\n",
    "t_numeric_add = []\n",
    "t_numeric_run_ids = []\n",
    "t_array = []\n",
    "t_array_add = []\n",
    "t_array_run_ids = []\n",
    "for size in sizes:\n",
    "    tn, tna, run_id_n =  insert_data('numeric', size, nreps=nreps)\n",
    "    t_numeric.append(tn)\n",
    "    t_numeric_add.append(tna)\n",
    "    t_numeric_run_ids.append(run_id_n)\n",
    "\n",
    "    ta, taa, run_id_a =  insert_data('array', size, nreps=nreps)\n",
    "    t_array.append(ta)\n",
    "    t_array_add.append(taa)\n",
    "    t_array_run_ids.append(run_id_a)"
   ]
  },
  {
   "cell_type": "code",
   "execution_count": 8,
   "metadata": {
    "execution": {
     "iopub.execute_input": "2020-12-16T07:07:54.295435Z",
     "iopub.status.busy": "2020-12-16T07:07:54.294984Z",
     "iopub.status.idle": "2020-12-16T07:07:54.438414Z",
     "shell.execute_reply": "2020-12-16T07:07:54.438005Z"
    },
    "scrolled": true
   },
   "outputs": [
    {
     "data": {
      "image/png": "[encoded data removed]",
      "text/plain": [
       "<Figure size 432x288 with 1 Axes>"
      ]
     },
     "metadata": {
      "needs_background": "light"
     },
     "output_type": "display_data"
    }
   ],
   "source": [
    "fig, ax = plt.subplots(1,1)\n",
    "ax.plot(sizes, t_numeric, 'o-', label='Inserting row-by-row')\n",
    "ax.plot(sizes, t_numeric_add, 'o-', label='Inserting row-by-row: add_result only')\n",
    "ax.plot(sizes, t_array, 'd-', label='Inserting as binary blob')\n",
    "ax.plot(sizes, t_array_add, 'd-', label='Inserting as binary blob: add_result only')\n",
    "ax.legend()\n",
    "ax.set_xlabel('Array length')\n",
    "ax.set_ylabel('Time (s)')\n",
    "fig.tight_layout()"
   ]
  },
  {
   "cell_type": "markdown",
   "metadata": {},
   "source": [
    "However, as we increase the length of the experiment, as seen here by repeating the insertion 100 times, we see a big difference between inserting values of the data row-by-row and inserting it as a binary blob."
   ]
  },
  {
   "cell_type": "markdown",
   "metadata": {},
   "source": [
    "## Loading the data "
   ]
  },
  {
   "cell_type": "code",
   "execution_count": 9,
   "metadata": {
    "execution": {
     "iopub.execute_input": "2020-12-16T07:07:54.442053Z",
     "iopub.status.busy": "2020-12-16T07:07:54.441345Z",
     "iopub.status.idle": "2020-12-16T07:07:54.445756Z",
     "shell.execute_reply": "2020-12-16T07:07:54.444948Z"
    }
   },
   "outputs": [],
   "source": [
    "from qcodes.dataset.data_set import load_by_id\n",
    "from qcodes.dataset.data_export import get_data_by_id"
   ]
  },
  {
   "cell_type": "markdown",
   "metadata": {},
   "source": [
    "As usual you can load the data by using the ``load_by_id`` function but you will notice that the different storage methods\n",
    "are reflected in shape of the data as it is retrieved. "
   ]
  },
  {
   "cell_type": "code",
   "execution_count": 10,
   "metadata": {
    "execution": {
     "iopub.execute_input": "2020-12-16T07:07:54.449056Z",
     "iopub.status.busy": "2020-12-16T07:07:54.448270Z",
     "iopub.status.idle": "2020-12-16T07:07:54.452198Z",
     "shell.execute_reply": "2020-12-16T07:07:54.451820Z"
    }
   },
   "outputs": [],
   "source": [
    "run_id_n = t_numeric_run_ids[0]\n",
    "run_id_a = t_array_run_ids[0]"
   ]
  },
  {
   "cell_type": "code",
   "execution_count": 11,
   "metadata": {
    "execution": {
     "iopub.execute_input": "2020-12-16T07:07:54.454857Z",
     "iopub.status.busy": "2020-12-16T07:07:54.454423Z",
     "iopub.status.idle": "2020-12-16T07:07:54.463302Z",
     "shell.execute_reply": "2020-12-16T07:07:54.462920Z"
    },
    "scrolled": true
   },
   "outputs": [
    {
     "data": {
      "text/plain": [
       "{'x1': {'x1': array([0.08536037, 0.08536037, 0.9628835 , 0.9628835 , 0.03481708,\n",
       "         0.03481708, 0.98525573, 0.98525573, 0.31846224, 0.31846224,\n",
       "         0.85267551, 0.85267551, 0.28445379, 0.28445379, 0.98403255,\n",
       "         0.98403255, 0.43319808, 0.43319808, 0.11367123, 0.11367123,\n",
       "         0.09082328, 0.09082328, 0.27790222, 0.27790222, 0.14034614,\n",
       "         0.14034614, 0.80878471, 0.80878471, 0.7533023 , 0.7533023 ,\n",
       "         0.71872562, 0.71872562, 0.54779824, 0.54779824, 0.82776688,\n",
       "         0.82776688, 0.76734056, 0.76734056, 0.87895698, 0.87895698,\n",
       "         0.2668329 , 0.2668329 , 0.22542056, 0.22542056, 0.06094954,\n",
       "         0.06094954, 0.99600614, 0.99600614, 0.21766102, 0.21766102,\n",
       "         0.96362198, 0.96362198, 0.28373254, 0.28373254, 0.1684797 ,\n",
       "         0.1684797 , 0.45549138, 0.45549138, 0.01830338, 0.01830338,\n",
       "         0.90012157, 0.90012157, 0.1130462 , 0.1130462 , 0.65981829,\n",
       "         0.65981829, 0.45182499, 0.45182499, 0.13783479, 0.13783479,\n",
       "         0.32104639, 0.32104639, 0.2286009 , 0.2286009 , 0.44066465,\n",
       "         0.44066465, 0.94217508, 0.94217508, 0.23026252, 0.23026252,\n",
       "         0.90509885, 0.90509885, 0.82584224, 0.82584224, 0.0203971 ,\n",
       "         0.0203971 , 0.23101144, 0.23101144, 0.0902048 , 0.0902048 ,\n",
       "         0.1234694 , 0.1234694 , 0.98264801, 0.98264801, 0.17429951,\n",
       "         0.17429951, 0.30338105, 0.30338105, 0.23133321, 0.23133321,\n",
       "         0.17798311, 0.17798311, 0.09319201, 0.09319201, 0.85959067,\n",
       "         0.85959067, 0.91181559, 0.91181559, 0.16689537, 0.16689537,\n",
       "         0.14884451, 0.14884451, 0.99445739, 0.99445739, 0.94950837,\n",
       "         0.94950837, 0.51326916, 0.51326916, 0.98467435, 0.98467435,\n",
       "         0.07656705, 0.07656705, 0.82641422, 0.82641422, 0.46743686,\n",
       "         0.46743686, 0.33878312, 0.33878312, 0.10776332, 0.10776332,\n",
       "         0.86888603, 0.86888603, 0.96298098, 0.96298098, 0.05225387,\n",
       "         0.05225387, 0.49114677, 0.49114677, 0.3666196 , 0.3666196 ,\n",
       "         0.15038556, 0.15038556, 0.02256282, 0.02256282, 0.78892877,\n",
       "         0.78892877, 0.04866754, 0.04866754, 0.19998083, 0.19998083,\n",
       "         0.64961801, 0.64961801, 0.18791448, 0.18791448, 0.67150559,\n",
       "         0.67150559, 0.81776629, 0.81776629, 0.09780269, 0.09780269,\n",
       "         0.11160092, 0.11160092, 0.46477555, 0.46477555, 0.47651565,\n",
       "         0.47651565, 0.83890031, 0.83890031, 0.18828764, 0.18828764,\n",
       "         0.59440093, 0.59440093, 0.05264625, 0.05264625, 0.18785798,\n",
       "         0.18785798, 0.30613312, 0.30613312, 0.87006047, 0.87006047,\n",
       "         0.86746333, 0.86746333, 0.03429121, 0.03429121, 0.7194701 ,\n",
       "         0.7194701 , 0.49487632, 0.49487632, 0.06879041, 0.06879041,\n",
       "         0.1536818 , 0.1536818 , 0.06192068, 0.06192068, 0.68853425,\n",
       "         0.68853425, 0.17147031, 0.17147031, 0.56109925, 0.56109925])}}"
      ]
     },
     "execution_count": 1,
     "metadata": {},
     "output_type": "execute_result"
    }
   ],
   "source": [
    "ds = load_by_id(run_id_n)\n",
    "ds.get_parameter_data('x1')"
   ]
  },
  {
   "cell_type": "markdown",
   "metadata": {},
   "source": [
    "And a dataset stored as binary arrays"
   ]
  },
  {
   "cell_type": "code",
   "execution_count": 12,
   "metadata": {
    "execution": {
     "iopub.execute_input": "2020-12-16T07:07:54.465995Z",
     "iopub.status.busy": "2020-12-16T07:07:54.465544Z",
     "iopub.status.idle": "2020-12-16T07:07:54.511404Z",
     "shell.execute_reply": "2020-12-16T07:07:54.511919Z"
    },
    "scrolled": true
   },
   "outputs": [
    {
     "data": {
      "text/plain": [
       "{'x1': {'x1': array([[0.58470275],\n",
       "         [0.58470275],\n",
       "         [0.99015443],\n",
       "         [0.99015443],\n",
       "         [0.47681412],\n",
       "         [0.47681412],\n",
       "         [0.67134376],\n",
       "         [0.67134376],\n",
       "         [0.96915136],\n",
       "         [0.96915136],\n",
       "         [0.27032587],\n",
       "         [0.27032587],\n",
       "         [0.58232068],\n",
       "         [0.58232068],\n",
       "         [0.26307302],\n",
       "         [0.26307302],\n",
       "         [0.24375582],\n",
       "         [0.24375582],\n",
       "         [0.39581535],\n",
       "         [0.39581535],\n",
       "         [0.79954096],\n",
       "         [0.79954096],\n",
       "         [0.26250838],\n",
       "         [0.26250838],\n",
       "         [0.42644688],\n",
       "         [0.42644688],\n",
       "         [0.85227118],\n",
       "         [0.85227118],\n",
       "         [0.28867031],\n",
       "         [0.28867031],\n",
       "         [0.57036257],\n",
       "         [0.57036257],\n",
       "         [0.21272935],\n",
       "         [0.21272935],\n",
       "         [0.5865054 ],\n",
       "         [0.5865054 ],\n",
       "         [0.00814668],\n",
       "         [0.00814668],\n",
       "         [0.38173171],\n",
       "         [0.38173171],\n",
       "         [0.95604131],\n",
       "         [0.95604131],\n",
       "         [0.58257083],\n",
       "         [0.58257083],\n",
       "         [0.71124445],\n",
       "         [0.71124445],\n",
       "         [0.94040776],\n",
       "         [0.94040776],\n",
       "         [0.61976529],\n",
       "         [0.61976529],\n",
       "         [0.8439234 ],\n",
       "         [0.8439234 ],\n",
       "         [0.08747299],\n",
       "         [0.08747299],\n",
       "         [0.48295027],\n",
       "         [0.48295027],\n",
       "         [0.78434285],\n",
       "         [0.78434285],\n",
       "         [0.26940709],\n",
       "         [0.26940709],\n",
       "         [0.50023004],\n",
       "         [0.50023004],\n",
       "         [0.34573151],\n",
       "         [0.34573151],\n",
       "         [0.15067973],\n",
       "         [0.15067973],\n",
       "         [0.09072948],\n",
       "         [0.09072948],\n",
       "         [0.93860471],\n",
       "         [0.93860471],\n",
       "         [0.97509974],\n",
       "         [0.97509974],\n",
       "         [0.24091944],\n",
       "         [0.24091944],\n",
       "         [0.27991258],\n",
       "         [0.27991258],\n",
       "         [0.78422564],\n",
       "         [0.78422564],\n",
       "         [0.37525801],\n",
       "         [0.37525801],\n",
       "         [0.9713426 ],\n",
       "         [0.9713426 ],\n",
       "         [0.50519906],\n",
       "         [0.50519906],\n",
       "         [0.68376218],\n",
       "         [0.68376218],\n",
       "         [0.27047437],\n",
       "         [0.27047437],\n",
       "         [0.53530652],\n",
       "         [0.53530652],\n",
       "         [0.26633141],\n",
       "         [0.26633141],\n",
       "         [0.22125666],\n",
       "         [0.22125666],\n",
       "         [0.21038179],\n",
       "         [0.21038179],\n",
       "         [0.67800971],\n",
       "         [0.67800971],\n",
       "         [0.12092964],\n",
       "         [0.12092964],\n",
       "         [0.29881267],\n",
       "         [0.29881267],\n",
       "         [0.86809616],\n",
       "         [0.86809616],\n",
       "         [0.15458425],\n",
       "         [0.15458425],\n",
       "         [0.13701403],\n",
       "         [0.13701403],\n",
       "         [0.00306623],\n",
       "         [0.00306623],\n",
       "         [0.71711512],\n",
       "         [0.71711512],\n",
       "         [0.65702881],\n",
       "         [0.65702881],\n",
       "         [0.65012675],\n",
       "         [0.65012675],\n",
       "         [0.70555049],\n",
       "         [0.70555049],\n",
       "         [0.23276884],\n",
       "         [0.23276884],\n",
       "         [0.38796531],\n",
       "         [0.38796531],\n",
       "         [0.08334066],\n",
       "         [0.08334066],\n",
       "         [0.01045614],\n",
       "         [0.01045614],\n",
       "         [0.82929329],\n",
       "         [0.82929329],\n",
       "         [0.56075593],\n",
       "         [0.56075593],\n",
       "         [0.5385896 ],\n",
       "         [0.5385896 ],\n",
       "         [0.87119591],\n",
       "         [0.87119591],\n",
       "         [0.66718904],\n",
       "         [0.66718904],\n",
       "         [0.94832883],\n",
       "         [0.94832883],\n",
       "         [0.75233976],\n",
       "         [0.75233976],\n",
       "         [0.47375936],\n",
       "         [0.47375936],\n",
       "         [0.8224044 ],\n",
       "         [0.8224044 ],\n",
       "         [0.83522549],\n",
       "         [0.83522549],\n",
       "         [0.62739199],\n",
       "         [0.62739199],\n",
       "         [0.22307905],\n",
       "         [0.22307905],\n",
       "         [0.25629923],\n",
       "         [0.25629923],\n",
       "         [0.16638909],\n",
       "         [0.16638909],\n",
       "         [0.70034043],\n",
       "         [0.70034043],\n",
       "         [0.16734984],\n",
       "         [0.16734984],\n",
       "         [0.80498691],\n",
       "         [0.80498691],\n",
       "         [0.10035595],\n",
       "         [0.10035595],\n",
       "         [0.82704155],\n",
       "         [0.82704155],\n",
       "         [0.03736477],\n",
       "         [0.03736477],\n",
       "         [0.40316321],\n",
       "         [0.40316321],\n",
       "         [0.16534291],\n",
       "         [0.16534291],\n",
       "         [0.77321711],\n",
       "         [0.77321711],\n",
       "         [0.30261719],\n",
       "         [0.30261719],\n",
       "         [0.77710116],\n",
       "         [0.77710116],\n",
       "         [0.97703698],\n",
       "         [0.97703698],\n",
       "         [0.18957936],\n",
       "         [0.18957936],\n",
       "         [0.9065401 ],\n",
       "         [0.9065401 ],\n",
       "         [0.65060248],\n",
       "         [0.65060248],\n",
       "         [0.1009497 ],\n",
       "         [0.1009497 ],\n",
       "         [0.41825397],\n",
       "         [0.41825397],\n",
       "         [0.84796631],\n",
       "         [0.84796631],\n",
       "         [0.00207768],\n",
       "         [0.00207768],\n",
       "         [0.44268208],\n",
       "         [0.44268208],\n",
       "         [0.48755167],\n",
       "         [0.48755167],\n",
       "         [0.61352008],\n",
       "         [0.61352008],\n",
       "         [0.60616725],\n",
       "         [0.60616725]])}}"
      ]
     },
     "execution_count": 1,
     "metadata": {},
     "output_type": "execute_result"
    }
   ],
   "source": [
    "ds = load_by_id(run_id_a)\n",
    "ds.get_parameter_data('x1')"
   ]
  },
  {
   "cell_type": "code",
   "execution_count": null,
   "metadata": {},
   "outputs": [],
   "source": []
  }
 ],
 "metadata": {
  "kernelspec": {
   "display_name": "Python 3",
   "language": "python",
   "name": "python3"
  },
  "language_info": {
   "codemirror_mode": {
    "name": "ipython",
    "version": 3
   },
   "file_extension": ".py",
   "mimetype": "text/x-python",
   "name": "python",
   "nbconvert_exporter": "python",
   "pygments_lexer": "ipython3",
   "version": "3.7.9"
  },
  "nbsphinx": {
   "timeout": 600
  },
  "toc": {
   "base_numbering": 1,
   "nav_menu": {},
   "number_sections": true,
   "sideBar": true,
   "skip_h1_title": false,
   "title_cell": "Table of Contents",
   "title_sidebar": "Contents",
   "toc_cell": false,
   "toc_position": {},
   "toc_section_display": true,
   "toc_window_display": false
  },
  "varInspector": {
   "cols": {
    "lenName": 16,
    "lenType": 16,
    "lenVar": 40
   },
   "kernels_config": {
    "python": {
     "delete_cmd_postfix": "",
     "delete_cmd_prefix": "del ",
     "library": "var_list.py",
     "varRefreshCmd": "print(var_dic_list())"
    },
    "r": {
     "delete_cmd_postfix": ") ",
     "delete_cmd_prefix": "rm(",
     "library": "var_list.r",
     "varRefreshCmd": "cat(var_dic_list()) "
    }
   },
   "types_to_exclude": [
    "module",
    "function",
    "builtin_function_or_method",
    "instance",
    "_Feature"
   ],
   "window_display": false
  }
 },
 "nbformat": 4,
 "nbformat_minor": 2
}
