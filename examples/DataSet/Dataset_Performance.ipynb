{
 "cells": [
  {
   "cell_type": "markdown",
   "metadata": {},
   "source": [
    "# DataSet Performance\n",
    "\n",
    "This notebook shows the trade-off between inserting data into a database row-by-row and as binary blobs. Inserting the data row-by-row means that we have direct access to all the data and may perform queries directly on the values of the data. On the other hand, as we shall see, this is much slower than inserting the data directly as binary blobs."
   ]
  },
  {
   "cell_type": "markdown",
   "metadata": {},
   "source": [
    "First, we choose a new location for the database to ensure that we don't add a bunch of benchmarking data to the default one."
   ]
  },
  {
   "cell_type": "code",
   "execution_count": 1,
   "metadata": {
    "execution": {
     "iopub.execute_input": "2020-10-22T11:00:32.585433Z",
     "iopub.status.busy": "2020-10-22T11:00:32.584750Z",
     "iopub.status.idle": "2020-10-22T11:00:33.697976Z",
     "shell.execute_reply": "2020-10-22T11:00:33.698485Z"
    }
   },
   "outputs": [
    {
     "name": "stdout",
     "output_type": "stream",
     "text": [
      "Logging hadn't been started.\n",
      "Activating auto-logging. Current session state plus future input saved.\n",
      "Filename       : /home/vsts/.qcodes/logs/command_history.log\n",
      "Mode           : append\n",
      "Output logging : True\n",
      "Raw input log  : False\n",
      "Timestamping   : True\n",
      "State          : active\n"
     ]
    },
    {
     "name": "stdout",
     "output_type": "stream",
     "text": [
      "Qcodes Logfile : /home/vsts/.qcodes/logs/201022-14848-qcodes.log\n"
     ]
    }
   ],
   "source": [
    "import os\n",
    "cwd = os.getcwd()\n",
    "import qcodes as qc\n",
    "qc.config[\"core\"][\"db_location\"] = os.path.join(cwd, 'testing.db')\n"
   ]
  },
  {
   "cell_type": "code",
   "execution_count": 2,
   "metadata": {
    "execution": {
     "iopub.execute_input": "2020-10-22T11:00:33.705187Z",
     "iopub.status.busy": "2020-10-22T11:00:33.704356Z",
     "iopub.status.idle": "2020-10-22T11:00:33.908462Z",
     "shell.execute_reply": "2020-10-22T11:00:33.907656Z"
    }
   },
   "outputs": [],
   "source": [
    "%matplotlib inline\n",
    "import time\n",
    "import matplotlib.pyplot as plt\n",
    "import numpy as np\n",
    "\n",
    "import qcodes as qc\n",
    "from qcodes.instrument.parameter import ManualParameter\n",
    "from qcodes.dataset.experiment_container import (Experiment,\n",
    "                                                 load_last_experiment,\n",
    "                                                 new_experiment)\n",
    "from qcodes.dataset.sqlite.database import initialise_database\n",
    "from qcodes import load_or_create_experiment\n",
    "from qcodes.dataset.measurements import Measurement"
   ]
  },
  {
   "cell_type": "code",
   "execution_count": 3,
   "metadata": {
    "execution": {
     "iopub.execute_input": "2020-10-22T11:00:33.912524Z",
     "iopub.status.busy": "2020-10-22T11:00:33.911802Z",
     "iopub.status.idle": "2020-10-22T11:00:34.038458Z",
     "shell.execute_reply": "2020-10-22T11:00:34.038926Z"
    }
   },
   "outputs": [
    {
     "name": "stdout",
     "output_type": "stream",
     "text": [
      "\r",
      "0it [00:00, ?it/s]"
     ]
    },
    {
     "name": "stdout",
     "output_type": "stream",
     "text": [
      "\r",
      "Upgrading database; v0 -> v1: : 0it [00:00, ?it/s]"
     ]
    },
    {
     "name": "stdout",
     "output_type": "stream",
     "text": [
      "\r",
      "Upgrading database; v0 -> v1: : 0it [00:00, ?it/s]"
     ]
    },
    {
     "name": "stdout",
     "output_type": "stream",
     "text": [
      "\n",
      "\r",
      "  0%|          | 0/1 [00:00<?, ?it/s]"
     ]
    },
    {
     "name": "stdout",
     "output_type": "stream",
     "text": [
      "\r",
      "Upgrading database; v1 -> v2:   0%|          | 0/1 [00:00<?, ?it/s]"
     ]
    },
    {
     "name": "stdout",
     "output_type": "stream",
     "text": [
      "\r",
      "Upgrading database; v1 -> v2: 100%|██████████| 1/1 [00:00<00:00, 594.35it/s]"
     ]
    },
    {
     "name": "stdout",
     "output_type": "stream",
     "text": [
      "\n",
      "\r",
      "0it [00:00, ?it/s]"
     ]
    },
    {
     "name": "stdout",
     "output_type": "stream",
     "text": [
      "\r",
      "Upgrading database; v2 -> v3: : 0it [00:00, ?it/s]"
     ]
    },
    {
     "name": "stdout",
     "output_type": "stream",
     "text": [
      "\r",
      "Upgrading database; v2 -> v3: : 0it [00:00, ?it/s]"
     ]
    },
    {
     "name": "stdout",
     "output_type": "stream",
     "text": [
      "\n",
      "\r",
      "0it [00:00, ?it/s]"
     ]
    },
    {
     "name": "stdout",
     "output_type": "stream",
     "text": [
      "\r",
      "Upgrading database; v3 -> v4: : 0it [00:00, ?it/s]"
     ]
    },
    {
     "name": "stdout",
     "output_type": "stream",
     "text": [
      "\r",
      "Upgrading database; v3 -> v4: : 0it [00:00, ?it/s]"
     ]
    },
    {
     "name": "stdout",
     "output_type": "stream",
     "text": [
      "\n",
      "\r",
      "  0%|          | 0/1 [00:00<?, ?it/s]"
     ]
    },
    {
     "name": "stdout",
     "output_type": "stream",
     "text": [
      "\r",
      "Upgrading database; v4 -> v5:   0%|          | 0/1 [00:00<?, ?it/s]"
     ]
    },
    {
     "name": "stdout",
     "output_type": "stream",
     "text": [
      "\r",
      "Upgrading database; v4 -> v5: 100%|██████████| 1/1 [00:00<00:00, 666.19it/s]"
     ]
    },
    {
     "name": "stdout",
     "output_type": "stream",
     "text": [
      "\n",
      "\r",
      "0it [00:00, ?it/s]"
     ]
    },
    {
     "name": "stdout",
     "output_type": "stream",
     "text": [
      "\r",
      "Upgrading database; v5 -> v6: : 0it [00:00, ?it/s]"
     ]
    },
    {
     "name": "stdout",
     "output_type": "stream",
     "text": [
      "\r",
      "Upgrading database; v5 -> v6: : 0it [00:00, ?it/s]"
     ]
    },
    {
     "name": "stdout",
     "output_type": "stream",
     "text": [
      "\n",
      "\r",
      "  0%|          | 0/1 [00:00<?, ?it/s]"
     ]
    },
    {
     "name": "stdout",
     "output_type": "stream",
     "text": [
      "\r",
      "Upgrading database; v6 -> v7:   0%|          | 0/1 [00:00<?, ?it/s]"
     ]
    },
    {
     "name": "stdout",
     "output_type": "stream",
     "text": [
      "\r",
      "Upgrading database; v6 -> v7: 100%|██████████| 1/1 [00:00<00:00, 313.85it/s]"
     ]
    },
    {
     "name": "stdout",
     "output_type": "stream",
     "text": [
      "\n",
      "\r",
      "  0%|          | 0/1 [00:00<?, ?it/s]"
     ]
    },
    {
     "name": "stdout",
     "output_type": "stream",
     "text": [
      "\r",
      "Upgrading database; v7 -> v8:   0%|          | 0/1 [00:00<?, ?it/s]"
     ]
    },
    {
     "name": "stdout",
     "output_type": "stream",
     "text": [
      "\r",
      "Upgrading database; v7 -> v8: 100%|██████████| 1/1 [00:00<00:00, 437.73it/s]"
     ]
    },
    {
     "name": "stdout",
     "output_type": "stream",
     "text": [
      "\n",
      "\r",
      "  0%|          | 0/1 [00:00<?, ?it/s]"
     ]
    },
    {
     "name": "stdout",
     "output_type": "stream",
     "text": [
      "\r",
      "Upgrading database; v8 -> v9:   0%|          | 0/1 [00:00<?, ?it/s]"
     ]
    },
    {
     "name": "stdout",
     "output_type": "stream",
     "text": [
      "\r",
      "Upgrading database; v8 -> v9: 100%|██████████| 1/1 [00:00<00:00, 452.85it/s]"
     ]
    },
    {
     "name": "stdout",
     "output_type": "stream",
     "text": [
      "\n"
     ]
    }
   ],
   "source": [
    "initialise_database()\n",
    "exp = load_or_create_experiment(experiment_name='tutorial_exp', sample_name=\"no sample\")"
   ]
  },
  {
   "cell_type": "markdown",
   "metadata": {},
   "source": [
    "Here, we define a simple function to benchmark the time it takes to insert n points with either numeric or array data type.\n",
    "We will compare both the time used to call ``add_result`` and the time used for the full measurement."
   ]
  },
  {
   "cell_type": "code",
   "execution_count": 4,
   "metadata": {
    "execution": {
     "iopub.execute_input": "2020-10-22T11:00:34.048520Z",
     "iopub.status.busy": "2020-10-22T11:00:34.047220Z",
     "iopub.status.idle": "2020-10-22T11:00:34.049109Z",
     "shell.execute_reply": "2020-10-22T11:00:34.049688Z"
    }
   },
   "outputs": [],
   "source": [
    "def insert_data(paramtype, npoints, nreps=1):\n",
    "\n",
    "    meas = Measurement(exp=exp)\n",
    "\n",
    "    x1 = ManualParameter('x1')\n",
    "    x2 = ManualParameter('x2')\n",
    "    x3 = ManualParameter('x3')\n",
    "    y1 = ManualParameter('y1')\n",
    "    y2 = ManualParameter('y2')\n",
    "\n",
    "    meas.register_parameter(x1, paramtype=paramtype)\n",
    "    meas.register_parameter(x2, paramtype=paramtype)\n",
    "    meas.register_parameter(x3, paramtype=paramtype)\n",
    "    meas.register_parameter(y1, setpoints=[x1, x2, x3],\n",
    "                            paramtype=paramtype)\n",
    "    meas.register_parameter(y2, setpoints=[x1, x2, x3],\n",
    "                            paramtype=paramtype)\n",
    "    start = time.perf_counter()\n",
    "    with meas.run() as datasaver:\n",
    "        start_adding = time.perf_counter()\n",
    "        for i in range(nreps):\n",
    "            datasaver.add_result((x1, np.random.rand(npoints)),\n",
    "                                 (x2, np.random.rand(npoints)),\n",
    "                                 (x3, np.random.rand(npoints)),\n",
    "                                 (y1, np.random.rand(npoints)),\n",
    "                                 (y2, np.random.rand(npoints)))\n",
    "        stop_adding = time.perf_counter()\n",
    "        run_id = datasaver.run_id\n",
    "    stop = time.perf_counter()\n",
    "    tot_time = stop - start\n",
    "    add_time = stop_adding - start_adding\n",
    "    return tot_time, add_time, run_id"
   ]
  },
  {
   "cell_type": "markdown",
   "metadata": {},
   "source": [
    "## Comparison between numeric/array data and binary blob"
   ]
  },
  {
   "cell_type": "markdown",
   "metadata": {},
   "source": [
    "### Case1: Short experiment time"
   ]
  },
  {
   "cell_type": "code",
   "execution_count": 5,
   "metadata": {
    "execution": {
     "iopub.execute_input": "2020-10-22T11:00:34.058065Z",
     "iopub.status.busy": "2020-10-22T11:00:34.057366Z",
     "iopub.status.idle": "2020-10-22T11:00:34.933177Z",
     "shell.execute_reply": "2020-10-22T11:00:34.932292Z"
    }
   },
   "outputs": [
    {
     "name": "stdout",
     "output_type": "stream",
     "text": [
      "Starting experimental run with id: 1. \n",
      "Starting experimental run with id: 2. \n",
      "Starting experimental run with id: 3. \n",
      "Starting experimental run with id: 4. \n"
     ]
    },
    {
     "name": "stdout",
     "output_type": "stream",
     "text": [
      "Starting experimental run with id: 5. \n"
     ]
    },
    {
     "name": "stdout",
     "output_type": "stream",
     "text": [
      "Starting experimental run with id: 6. \n",
      "Starting experimental run with id: 7. \n"
     ]
    },
    {
     "name": "stdout",
     "output_type": "stream",
     "text": [
      "Starting experimental run with id: 8. \n",
      "Starting experimental run with id: 9. \n"
     ]
    },
    {
     "name": "stdout",
     "output_type": "stream",
     "text": [
      "Starting experimental run with id: 10. \n",
      "Starting experimental run with id: 11. \n"
     ]
    },
    {
     "name": "stdout",
     "output_type": "stream",
     "text": [
      "Starting experimental run with id: 12. \n",
      "Starting experimental run with id: 13. \n"
     ]
    },
    {
     "name": "stdout",
     "output_type": "stream",
     "text": [
      "Starting experimental run with id: 14. \n"
     ]
    }
   ],
   "source": [
    "sizes = [1,500,1000,2000,3000,4000,5000]\n",
    "t_numeric = []\n",
    "t_numeric_add = []\n",
    "t_array = []\n",
    "t_array_add = []\n",
    "for size in sizes:\n",
    "    tn, tna, run_id_n =  insert_data('numeric', size)\n",
    "    t_numeric.append(tn)\n",
    "    t_numeric_add.append(tna)\n",
    "\n",
    "    ta, taa, run_id_a =  insert_data('array', size)\n",
    "    t_array.append(ta)\n",
    "    t_array_add.append(taa)"
   ]
  },
  {
   "cell_type": "code",
   "execution_count": 6,
   "metadata": {
    "execution": {
     "iopub.execute_input": "2020-10-22T11:00:34.954258Z",
     "iopub.status.busy": "2020-10-22T11:00:34.953626Z",
     "iopub.status.idle": "2020-10-22T11:00:35.153853Z",
     "shell.execute_reply": "2020-10-22T11:00:35.153181Z"
    }
   },
   "outputs": [
    {
     "data": {
      "image/png": "[encoded data removed]",
      "text/plain": [
       "<Figure size 432x288 with 1 Axes>"
      ]
     },
     "metadata": {
      "needs_background": "light"
     },
     "output_type": "display_data"
    }
   ],
   "source": [
    "fig, ax = plt.subplots(1,1)\n",
    "ax.plot(sizes, t_numeric, 'o-', label='Inserting row-by-row')\n",
    "ax.plot(sizes, t_numeric_add, 'o-', label='Inserting row-by-row: add_result only')\n",
    "ax.plot(sizes, t_array, 'd-', label='Inserting as binary blob')\n",
    "ax.plot(sizes, t_array_add, 'd-', label='Inserting as binary blob: add_result only')\n",
    "ax.legend()\n",
    "ax.set_xlabel('Array length')\n",
    "ax.set_ylabel('Time (s)')\n",
    "fig.tight_layout()"
   ]
  },
  {
   "cell_type": "markdown",
   "metadata": {},
   "source": [
    "As shown in the latter figure, the time to setup and and close the experiment is approximately 0.4 sec. In case of small array sizes, the difference between inserting values of data as arrays and inserting them row-by-row is relatively unimportant. At larger array sizes, i.e. above 10000 points, the cost of writing data as individual datapoints starts to become important.\n"
   ]
  },
  {
   "cell_type": "markdown",
   "metadata": {},
   "source": [
    "### Case2: Long experiment time "
   ]
  },
  {
   "cell_type": "code",
   "execution_count": 7,
   "metadata": {
    "execution": {
     "iopub.execute_input": "2020-10-22T11:00:35.161579Z",
     "iopub.status.busy": "2020-10-22T11:00:35.160699Z",
     "iopub.status.idle": "2020-10-22T11:01:36.123220Z",
     "shell.execute_reply": "2020-10-22T11:01:36.123991Z"
    }
   },
   "outputs": [
    {
     "name": "stdout",
     "output_type": "stream",
     "text": [
      "Starting experimental run with id: 15. \n",
      "Starting experimental run with id: 16. \n",
      "Starting experimental run with id: 17. \n"
     ]
    },
    {
     "name": "stdout",
     "output_type": "stream",
     "text": [
      "Starting experimental run with id: 18. \n",
      "Starting experimental run with id: 19. \n"
     ]
    },
    {
     "name": "stdout",
     "output_type": "stream",
     "text": [
      "Starting experimental run with id: 20. \n"
     ]
    },
    {
     "name": "stdout",
     "output_type": "stream",
     "text": [
      "Starting experimental run with id: 21. \n"
     ]
    },
    {
     "name": "stdout",
     "output_type": "stream",
     "text": [
      "Starting experimental run with id: 22. \n"
     ]
    },
    {
     "name": "stdout",
     "output_type": "stream",
     "text": [
      "Starting experimental run with id: 23. \n"
     ]
    },
    {
     "name": "stdout",
     "output_type": "stream",
     "text": [
      "Starting experimental run with id: 24. \n"
     ]
    },
    {
     "name": "stdout",
     "output_type": "stream",
     "text": [
      "Starting experimental run with id: 25. \n"
     ]
    },
    {
     "name": "stdout",
     "output_type": "stream",
     "text": [
      "Starting experimental run with id: 26. \n"
     ]
    },
    {
     "name": "stdout",
     "output_type": "stream",
     "text": [
      "Starting experimental run with id: 27. \n"
     ]
    },
    {
     "name": "stdout",
     "output_type": "stream",
     "text": [
      "Starting experimental run with id: 28. \n"
     ]
    }
   ],
   "source": [
    "sizes = [1,500,1000,2000,3000,4000,5000]\n",
    "nreps = 100\n",
    "t_numeric = []\n",
    "t_numeric_add = []\n",
    "t_numeric_run_ids = []\n",
    "t_array = []\n",
    "t_array_add = []\n",
    "t_array_run_ids = []\n",
    "for size in sizes:\n",
    "    tn, tna, run_id_n =  insert_data('numeric', size, nreps=nreps)\n",
    "    t_numeric.append(tn)\n",
    "    t_numeric_add.append(tna)\n",
    "    t_numeric_run_ids.append(run_id_n)\n",
    "\n",
    "    ta, taa, run_id_a =  insert_data('array', size, nreps=nreps)\n",
    "    t_array.append(ta)\n",
    "    t_array_add.append(taa)\n",
    "    t_array_run_ids.append(run_id_a)"
   ]
  },
  {
   "cell_type": "code",
   "execution_count": 8,
   "metadata": {
    "execution": {
     "iopub.execute_input": "2020-10-22T11:01:36.156479Z",
     "iopub.status.busy": "2020-10-22T11:01:36.146595Z",
     "iopub.status.idle": "2020-10-22T11:01:36.358827Z",
     "shell.execute_reply": "2020-10-22T11:01:36.359555Z"
    },
    "scrolled": true
   },
   "outputs": [
    {
     "data": {
      "image/png": "[encoded data removed]",
      "text/plain": [
       "<Figure size 432x288 with 1 Axes>"
      ]
     },
     "metadata": {
      "needs_background": "light"
     },
     "output_type": "display_data"
    }
   ],
   "source": [
    "fig, ax = plt.subplots(1,1)\n",
    "ax.plot(sizes, t_numeric, 'o-', label='Inserting row-by-row')\n",
    "ax.plot(sizes, t_numeric_add, 'o-', label='Inserting row-by-row: add_result only')\n",
    "ax.plot(sizes, t_array, 'd-', label='Inserting as binary blob')\n",
    "ax.plot(sizes, t_array_add, 'd-', label='Inserting as binary blob: add_result only')\n",
    "ax.legend()\n",
    "ax.set_xlabel('Array length')\n",
    "ax.set_ylabel('Time (s)')\n",
    "fig.tight_layout()"
   ]
  },
  {
   "cell_type": "markdown",
   "metadata": {},
   "source": [
    "However, as we increase the length of the experiment, as seen here by repeating the insertion 100 times, we see a big difference between inserting values of the data row-by-row and inserting it as a binary blob."
   ]
  },
  {
   "cell_type": "markdown",
   "metadata": {},
   "source": [
    "## Loading the data "
   ]
  },
  {
   "cell_type": "code",
   "execution_count": 9,
   "metadata": {
    "execution": {
     "iopub.execute_input": "2020-10-22T11:01:36.364013Z",
     "iopub.status.busy": "2020-10-22T11:01:36.363384Z",
     "iopub.status.idle": "2020-10-22T11:01:36.367459Z",
     "shell.execute_reply": "2020-10-22T11:01:36.366946Z"
    }
   },
   "outputs": [],
   "source": [
    "from qcodes.dataset.data_set import load_by_id\n",
    "from qcodes.dataset.data_export import get_data_by_id"
   ]
  },
  {
   "cell_type": "markdown",
   "metadata": {},
   "source": [
    "As usual you can load the data by using the ``load_by_id`` function but you will notice that the different storage methods\n",
    "are reflected in shape of the data as it is retrieved. "
   ]
  },
  {
   "cell_type": "code",
   "execution_count": 10,
   "metadata": {
    "execution": {
     "iopub.execute_input": "2020-10-22T11:01:36.371401Z",
     "iopub.status.busy": "2020-10-22T11:01:36.370813Z",
     "iopub.status.idle": "2020-10-22T11:01:36.377431Z",
     "shell.execute_reply": "2020-10-22T11:01:36.377969Z"
    }
   },
   "outputs": [],
   "source": [
    "run_id_n = t_numeric_run_ids[0]\n",
    "run_id_a = t_array_run_ids[0]"
   ]
  },
  {
   "cell_type": "code",
   "execution_count": 11,
   "metadata": {
    "execution": {
     "iopub.execute_input": "2020-10-22T11:01:36.383080Z",
     "iopub.status.busy": "2020-10-22T11:01:36.382504Z",
     "iopub.status.idle": "2020-10-22T11:01:36.391731Z",
     "shell.execute_reply": "2020-10-22T11:01:36.391119Z"
    },
    "scrolled": true
   },
   "outputs": [
    {
     "data": {
      "text/plain": [
       "{'x1': {'x1': array([0.34457308, 0.34457308, 0.07428875, 0.07428875, 0.27934929,\n",
       "         0.27934929, 0.55395436, 0.55395436, 0.29261299, 0.29261299,\n",
       "         0.79788483, 0.79788483, 0.86320395, 0.86320395, 0.1076796 ,\n",
       "         0.1076796 , 0.96822198, 0.96822198, 0.68793592, 0.68793592,\n",
       "         0.04821423, 0.04821423, 0.66300983, 0.66300983, 0.61177478,\n",
       "         0.61177478, 0.92636521, 0.92636521, 0.70010321, 0.70010321,\n",
       "         0.97395308, 0.97395308, 0.62803103, 0.62803103, 0.95643063,\n",
       "         0.95643063, 0.65900435, 0.65900435, 0.89634377, 0.89634377,\n",
       "         0.30708989, 0.30708989, 0.73060733, 0.73060733, 0.18156592,\n",
       "         0.18156592, 0.87295317, 0.87295317, 0.0871221 , 0.0871221 ,\n",
       "         0.69358579, 0.69358579, 0.86372587, 0.86372587, 0.75969487,\n",
       "         0.75969487, 0.87188114, 0.87188114, 0.07827627, 0.07827627,\n",
       "         0.94709503, 0.94709503, 0.68495801, 0.68495801, 0.62172553,\n",
       "         0.62172553, 0.78406127, 0.78406127, 0.97718842, 0.97718842,\n",
       "         0.3373406 , 0.3373406 , 0.58202169, 0.58202169, 0.31138378,\n",
       "         0.31138378, 0.43311735, 0.43311735, 0.4997534 , 0.4997534 ,\n",
       "         0.02884962, 0.02884962, 0.55608058, 0.55608058, 0.21718619,\n",
       "         0.21718619, 0.42462032, 0.42462032, 0.79335506, 0.79335506,\n",
       "         0.55119087, 0.55119087, 0.17728481, 0.17728481, 0.812135  ,\n",
       "         0.812135  , 0.69503896, 0.69503896, 0.55491748, 0.55491748,\n",
       "         0.70739326, 0.70739326, 0.56255534, 0.56255534, 0.32239732,\n",
       "         0.32239732, 0.36376222, 0.36376222, 0.13597044, 0.13597044,\n",
       "         0.69634713, 0.69634713, 0.84950687, 0.84950687, 0.84372403,\n",
       "         0.84372403, 0.09114966, 0.09114966, 0.34068768, 0.34068768,\n",
       "         0.79905935, 0.79905935, 0.21912939, 0.21912939, 0.32098184,\n",
       "         0.32098184, 0.78915963, 0.78915963, 0.4240491 , 0.4240491 ,\n",
       "         0.35814653, 0.35814653, 0.6628815 , 0.6628815 , 0.81122091,\n",
       "         0.81122091, 0.10162855, 0.10162855, 0.02717653, 0.02717653,\n",
       "         0.12694018, 0.12694018, 0.69086606, 0.69086606, 0.49906783,\n",
       "         0.49906783, 0.31536727, 0.31536727, 0.96210714, 0.96210714,\n",
       "         0.83362619, 0.83362619, 0.26970987, 0.26970987, 0.16869635,\n",
       "         0.16869635, 0.17539735, 0.17539735, 0.07202974, 0.07202974,\n",
       "         0.74849649, 0.74849649, 0.10335387, 0.10335387, 0.26902261,\n",
       "         0.26902261, 0.56226968, 0.56226968, 0.22834752, 0.22834752,\n",
       "         0.2607142 , 0.2607142 , 0.20952426, 0.20952426, 0.50175486,\n",
       "         0.50175486, 0.40863266, 0.40863266, 0.66526681, 0.66526681,\n",
       "         0.08104733, 0.08104733, 0.0267271 , 0.0267271 , 0.48181945,\n",
       "         0.48181945, 0.08412174, 0.08412174, 0.20858006, 0.20858006,\n",
       "         0.63765801, 0.63765801, 0.05943291, 0.05943291, 0.98936315,\n",
       "         0.98936315, 0.7842951 , 0.7842951 , 0.82902652, 0.82902652])}}"
      ]
     },
     "execution_count": 1,
     "metadata": {},
     "output_type": "execute_result"
    }
   ],
   "source": [
    "ds = load_by_id(run_id_n)\n",
    "ds.get_parameter_data('x1')"
   ]
  },
  {
   "cell_type": "markdown",
   "metadata": {},
   "source": [
    "And a dataset stored as binary arrays"
   ]
  },
  {
   "cell_type": "code",
   "execution_count": 12,
   "metadata": {
    "execution": {
     "iopub.execute_input": "2020-10-22T11:01:36.399110Z",
     "iopub.status.busy": "2020-10-22T11:01:36.398545Z",
     "iopub.status.idle": "2020-10-22T11:01:36.461034Z",
     "shell.execute_reply": "2020-10-22T11:01:36.461651Z"
    },
    "scrolled": true
   },
   "outputs": [
    {
     "data": {
      "text/plain": [
       "{'x1': {'x1': array([[0.73665305],\n",
       "         [0.73665305],\n",
       "         [0.37152964],\n",
       "         [0.37152964],\n",
       "         [0.39372625],\n",
       "         [0.39372625],\n",
       "         [0.38655975],\n",
       "         [0.38655975],\n",
       "         [0.31078057],\n",
       "         [0.31078057],\n",
       "         [0.590146  ],\n",
       "         [0.590146  ],\n",
       "         [0.20009848],\n",
       "         [0.20009848],\n",
       "         [0.17271161],\n",
       "         [0.17271161],\n",
       "         [0.89207172],\n",
       "         [0.89207172],\n",
       "         [0.81835788],\n",
       "         [0.81835788],\n",
       "         [0.01191626],\n",
       "         [0.01191626],\n",
       "         [0.76896803],\n",
       "         [0.76896803],\n",
       "         [0.89202725],\n",
       "         [0.89202725],\n",
       "         [0.40716604],\n",
       "         [0.40716604],\n",
       "         [0.73287712],\n",
       "         [0.73287712],\n",
       "         [0.32019597],\n",
       "         [0.32019597],\n",
       "         [0.55609515],\n",
       "         [0.55609515],\n",
       "         [0.77875215],\n",
       "         [0.77875215],\n",
       "         [0.37143892],\n",
       "         [0.37143892],\n",
       "         [0.47829855],\n",
       "         [0.47829855],\n",
       "         [0.37701306],\n",
       "         [0.37701306],\n",
       "         [0.81840506],\n",
       "         [0.81840506],\n",
       "         [0.28994978],\n",
       "         [0.28994978],\n",
       "         [0.64767275],\n",
       "         [0.64767275],\n",
       "         [0.35089925],\n",
       "         [0.35089925],\n",
       "         [0.14261403],\n",
       "         [0.14261403],\n",
       "         [0.44037686],\n",
       "         [0.44037686],\n",
       "         [0.06262517],\n",
       "         [0.06262517],\n",
       "         [0.87195747],\n",
       "         [0.87195747],\n",
       "         [0.4707547 ],\n",
       "         [0.4707547 ],\n",
       "         [0.02036601],\n",
       "         [0.02036601],\n",
       "         [0.76149636],\n",
       "         [0.76149636],\n",
       "         [0.20902704],\n",
       "         [0.20902704],\n",
       "         [0.30611663],\n",
       "         [0.30611663],\n",
       "         [0.52872805],\n",
       "         [0.52872805],\n",
       "         [0.29454524],\n",
       "         [0.29454524],\n",
       "         [0.90152991],\n",
       "         [0.90152991],\n",
       "         [0.43908851],\n",
       "         [0.43908851],\n",
       "         [0.30820059],\n",
       "         [0.30820059],\n",
       "         [0.81001454],\n",
       "         [0.81001454],\n",
       "         [0.81717184],\n",
       "         [0.81717184],\n",
       "         [0.21671362],\n",
       "         [0.21671362],\n",
       "         [0.99077232],\n",
       "         [0.99077232],\n",
       "         [0.07641217],\n",
       "         [0.07641217],\n",
       "         [0.40854195],\n",
       "         [0.40854195],\n",
       "         [0.79924528],\n",
       "         [0.79924528],\n",
       "         [0.11692825],\n",
       "         [0.11692825],\n",
       "         [0.21977489],\n",
       "         [0.21977489],\n",
       "         [0.13962081],\n",
       "         [0.13962081],\n",
       "         [0.46041684],\n",
       "         [0.46041684],\n",
       "         [0.24152205],\n",
       "         [0.24152205],\n",
       "         [0.18714434],\n",
       "         [0.18714434],\n",
       "         [0.67186742],\n",
       "         [0.67186742],\n",
       "         [0.02027134],\n",
       "         [0.02027134],\n",
       "         [0.60698252],\n",
       "         [0.60698252],\n",
       "         [0.85122429],\n",
       "         [0.85122429],\n",
       "         [0.57774369],\n",
       "         [0.57774369],\n",
       "         [0.25356553],\n",
       "         [0.25356553],\n",
       "         [0.66658742],\n",
       "         [0.66658742],\n",
       "         [0.09199578],\n",
       "         [0.09199578],\n",
       "         [0.9919619 ],\n",
       "         [0.9919619 ],\n",
       "         [0.73522793],\n",
       "         [0.73522793],\n",
       "         [0.28916527],\n",
       "         [0.28916527],\n",
       "         [0.62263168],\n",
       "         [0.62263168],\n",
       "         [0.58150779],\n",
       "         [0.58150779],\n",
       "         [0.98803381],\n",
       "         [0.98803381],\n",
       "         [0.86617698],\n",
       "         [0.86617698],\n",
       "         [0.24548651],\n",
       "         [0.24548651],\n",
       "         [0.28264723],\n",
       "         [0.28264723],\n",
       "         [0.51938047],\n",
       "         [0.51938047],\n",
       "         [0.85999293],\n",
       "         [0.85999293],\n",
       "         [0.06150088],\n",
       "         [0.06150088],\n",
       "         [0.41005705],\n",
       "         [0.41005705],\n",
       "         [0.81149337],\n",
       "         [0.81149337],\n",
       "         [0.88765539],\n",
       "         [0.88765539],\n",
       "         [0.07853238],\n",
       "         [0.07853238],\n",
       "         [0.10952178],\n",
       "         [0.10952178],\n",
       "         [0.56172512],\n",
       "         [0.56172512],\n",
       "         [0.69916886],\n",
       "         [0.69916886],\n",
       "         [0.50814174],\n",
       "         [0.50814174],\n",
       "         [0.18895025],\n",
       "         [0.18895025],\n",
       "         [0.13351531],\n",
       "         [0.13351531],\n",
       "         [0.27128479],\n",
       "         [0.27128479],\n",
       "         [0.77222646],\n",
       "         [0.77222646],\n",
       "         [0.9893928 ],\n",
       "         [0.9893928 ],\n",
       "         [0.58614276],\n",
       "         [0.58614276],\n",
       "         [0.29148189],\n",
       "         [0.29148189],\n",
       "         [0.50850327],\n",
       "         [0.50850327],\n",
       "         [0.10152098],\n",
       "         [0.10152098],\n",
       "         [0.05040919],\n",
       "         [0.05040919],\n",
       "         [0.06629278],\n",
       "         [0.06629278],\n",
       "         [0.26519131],\n",
       "         [0.26519131],\n",
       "         [0.94157258],\n",
       "         [0.94157258],\n",
       "         [0.59588868],\n",
       "         [0.59588868],\n",
       "         [0.33811139],\n",
       "         [0.33811139],\n",
       "         [0.9480936 ],\n",
       "         [0.9480936 ],\n",
       "         [0.71200267],\n",
       "         [0.71200267],\n",
       "         [0.02110009],\n",
       "         [0.02110009],\n",
       "         [0.93310974],\n",
       "         [0.93310974],\n",
       "         [0.70664292],\n",
       "         [0.70664292]])}}"
      ]
     },
     "execution_count": 1,
     "metadata": {},
     "output_type": "execute_result"
    }
   ],
   "source": [
    "ds = load_by_id(run_id_a)\n",
    "ds.get_parameter_data('x1')"
   ]
  },
  {
   "cell_type": "code",
   "execution_count": null,
   "metadata": {},
   "outputs": [],
   "source": []
  }
 ],
 "metadata": {
  "kernelspec": {
   "display_name": "Python 3",
   "language": "python",
   "name": "python3"
  },
  "language_info": {
   "codemirror_mode": {
    "name": "ipython",
    "version": 3
   },
   "file_extension": ".py",
   "mimetype": "text/x-python",
   "name": "python",
   "nbconvert_exporter": "python",
   "pygments_lexer": "ipython3",
   "version": "3.7.7"
  },
  "nbsphinx": {
   "timeout": 600
  },
  "toc": {
   "base_numbering": 1,
   "nav_menu": {},
   "number_sections": true,
   "sideBar": true,
   "skip_h1_title": false,
   "title_cell": "Table of Contents",
   "title_sidebar": "Contents",
   "toc_cell": false,
   "toc_position": {},
   "toc_section_display": true,
   "toc_window_display": false
  },
  "varInspector": {
   "cols": {
    "lenName": 16,
    "lenType": 16,
    "lenVar": 40
   },
   "kernels_config": {
    "python": {
     "delete_cmd_postfix": "",
     "delete_cmd_prefix": "del ",
     "library": "var_list.py",
     "varRefreshCmd": "print(var_dic_list())"
    },
    "r": {
     "delete_cmd_postfix": ") ",
     "delete_cmd_prefix": "rm(",
     "library": "var_list.r",
     "varRefreshCmd": "cat(var_dic_list()) "
    }
   },
   "types_to_exclude": [
    "module",
    "function",
    "builtin_function_or_method",
    "instance",
    "_Feature"
   ],
   "window_display": false
  }
 },
 "nbformat": 4,
 "nbformat_minor": 2
}
