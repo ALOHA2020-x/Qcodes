{
 "cells": [
  {
   "cell_type": "markdown",
   "metadata": {},
   "source": [
    "# DataSet Performance\n",
    "\n",
    "This notebook shows the trade-off between inserting data into a database row-by-row and as binary blobs. Inserting the data row-by-row means that we have direct access to all the data and may perform queries directly on the values of the data. On the other hand, as we shall see, this is much slower than inserting the data directly as binary blobs."
   ]
  },
  {
   "cell_type": "markdown",
   "metadata": {},
   "source": [
    "First, we choose a new location for the database to ensure that we don't add a bunch of benchmarking data to the default one."
   ]
  },
  {
   "cell_type": "code",
   "execution_count": 1,
   "metadata": {},
   "outputs": [
    {
     "name": "stdout",
     "output_type": "stream",
     "text": [
      "Logging hadn't been started.\n",
      "Activating auto-logging. Current session state plus future input saved.\n",
      "Filename       : /home/vsts/.qcodes/logs/command_history.log\n",
      "Mode           : append\n",
      "Output logging : True\n",
      "Raw input log  : False\n",
      "Timestamping   : True\n",
      "State          : active\n"
     ]
    },
    {
     "name": "stdout",
     "output_type": "stream",
     "text": [
      "Qcodes Logfile : /home/vsts/.qcodes/logs/200604-18800-qcodes.log\n"
     ]
    }
   ],
   "source": [
    "import os\n",
    "cwd = os.getcwd()\n",
    "import qcodes as qc\n",
    "qc.config[\"core\"][\"db_location\"] = os.path.join(cwd, 'testing.db')\n"
   ]
  },
  {
   "cell_type": "code",
   "execution_count": 2,
   "metadata": {},
   "outputs": [],
   "source": [
    "%matplotlib inline\n",
    "import time\n",
    "import matplotlib.pyplot as plt\n",
    "import numpy as np\n",
    "\n",
    "import qcodes as qc\n",
    "from qcodes.instrument.parameter import ManualParameter\n",
    "from qcodes.dataset.experiment_container import (Experiment,\n",
    "                                                 load_last_experiment,\n",
    "                                                 new_experiment)\n",
    "from qcodes.dataset.sqlite.database import initialise_database\n",
    "from qcodes import load_or_create_experiment\n",
    "from qcodes.dataset.measurements import Measurement"
   ]
  },
  {
   "cell_type": "code",
   "execution_count": 3,
   "metadata": {},
   "outputs": [
    {
     "name": "stdout",
     "output_type": "stream",
     "text": [
      "\r",
      "0it [00:00, ?it/s]"
     ]
    },
    {
     "name": "stdout",
     "output_type": "stream",
     "text": [
      "\r",
      "Upgrading database; v0 -> v1: : 0it [00:00, ?it/s]"
     ]
    },
    {
     "name": "stdout",
     "output_type": "stream",
     "text": [
      "\r",
      "Upgrading database; v0 -> v1: : 0it [00:00, ?it/s]"
     ]
    },
    {
     "name": "stdout",
     "output_type": "stream",
     "text": [
      "\n",
      "\r",
      "  0%|          | 0/1 [00:00<?, ?it/s]"
     ]
    },
    {
     "name": "stdout",
     "output_type": "stream",
     "text": [
      "\r",
      "Upgrading database; v1 -> v2:   0%|          | 0/1 [00:00<?, ?it/s]"
     ]
    },
    {
     "name": "stdout",
     "output_type": "stream",
     "text": [
      "\r",
      "Upgrading database; v1 -> v2: 100%|██████████| 1/1 [00:00<00:00, 881.90it/s]"
     ]
    },
    {
     "name": "stdout",
     "output_type": "stream",
     "text": [
      "\n",
      "\r",
      "0it [00:00, ?it/s]"
     ]
    },
    {
     "name": "stdout",
     "output_type": "stream",
     "text": [
      "\r",
      "Upgrading database; v2 -> v3: : 0it [00:00, ?it/s]"
     ]
    },
    {
     "name": "stdout",
     "output_type": "stream",
     "text": [
      "\r",
      "Upgrading database; v2 -> v3: : 0it [00:00, ?it/s]"
     ]
    },
    {
     "name": "stdout",
     "output_type": "stream",
     "text": [
      "\n",
      "\r",
      "0it [00:00, ?it/s]"
     ]
    },
    {
     "name": "stdout",
     "output_type": "stream",
     "text": [
      "\r",
      "Upgrading database; v3 -> v4: : 0it [00:00, ?it/s]"
     ]
    },
    {
     "name": "stdout",
     "output_type": "stream",
     "text": [
      "\r",
      "Upgrading database; v3 -> v4: : 0it [00:00, ?it/s]"
     ]
    },
    {
     "name": "stdout",
     "output_type": "stream",
     "text": [
      "\n",
      "\r",
      "  0%|          | 0/1 [00:00<?, ?it/s]"
     ]
    },
    {
     "name": "stdout",
     "output_type": "stream",
     "text": [
      "\r",
      "Upgrading database; v4 -> v5:   0%|          | 0/1 [00:00<?, ?it/s]"
     ]
    },
    {
     "name": "stdout",
     "output_type": "stream",
     "text": [
      "\r",
      "Upgrading database; v4 -> v5: 100%|██████████| 1/1 [00:00<00:00, 870.55it/s]"
     ]
    },
    {
     "name": "stdout",
     "output_type": "stream",
     "text": [
      "\n",
      "\r",
      "0it [00:00, ?it/s]"
     ]
    },
    {
     "name": "stdout",
     "output_type": "stream",
     "text": [
      "\r",
      "Upgrading database; v5 -> v6: : 0it [00:00, ?it/s]"
     ]
    },
    {
     "name": "stdout",
     "output_type": "stream",
     "text": [
      "\r",
      "Upgrading database; v5 -> v6: : 0it [00:00, ?it/s]"
     ]
    },
    {
     "name": "stdout",
     "output_type": "stream",
     "text": [
      "\n",
      "\r",
      "  0%|          | 0/1 [00:00<?, ?it/s]"
     ]
    },
    {
     "name": "stdout",
     "output_type": "stream",
     "text": [
      "\r",
      "Upgrading database; v6 -> v7:   0%|          | 0/1 [00:00<?, ?it/s]"
     ]
    },
    {
     "name": "stdout",
     "output_type": "stream",
     "text": [
      "\r",
      "Upgrading database; v6 -> v7: 100%|██████████| 1/1 [00:00<00:00, 342.22it/s]"
     ]
    },
    {
     "name": "stdout",
     "output_type": "stream",
     "text": [
      "\n",
      "\r",
      "  0%|          | 0/1 [00:00<?, ?it/s]"
     ]
    },
    {
     "name": "stdout",
     "output_type": "stream",
     "text": [
      "\r",
      "Upgrading database; v7 -> v8:   0%|          | 0/1 [00:00<?, ?it/s]"
     ]
    },
    {
     "name": "stdout",
     "output_type": "stream",
     "text": [
      "\r",
      "Upgrading database; v7 -> v8: 100%|██████████| 1/1 [00:00<00:00, 385.12it/s]"
     ]
    },
    {
     "name": "stdout",
     "output_type": "stream",
     "text": [
      "\n",
      "\r",
      "  0%|          | 0/1 [00:00<?, ?it/s]"
     ]
    },
    {
     "name": "stdout",
     "output_type": "stream",
     "text": [
      "\r",
      "Upgrading database; v8 -> v9:   0%|          | 0/1 [00:00<?, ?it/s]"
     ]
    },
    {
     "name": "stdout",
     "output_type": "stream",
     "text": [
      "\r",
      "Upgrading database; v8 -> v9: 100%|██████████| 1/1 [00:00<00:00, 1069.16it/s]"
     ]
    },
    {
     "name": "stdout",
     "output_type": "stream",
     "text": [
      "\n"
     ]
    }
   ],
   "source": [
    "initialise_database()\n",
    "exp = load_or_create_experiment(experiment_name='tutorial_exp', sample_name=\"no sample\")"
   ]
  },
  {
   "cell_type": "markdown",
   "metadata": {},
   "source": [
    "Here, we define a simple function to benchmark the time it takes to insert n points with either numeric or array data type.\n",
    "We will compare both the time used to call ``add_result`` and the time used for the full measurement."
   ]
  },
  {
   "cell_type": "code",
   "execution_count": 4,
   "metadata": {},
   "outputs": [],
   "source": [
    "def insert_data(paramtype, npoints, nreps=1):\n",
    "\n",
    "    meas = Measurement(exp=exp)\n",
    "\n",
    "    x1 = ManualParameter('x1')\n",
    "    x2 = ManualParameter('x2')\n",
    "    x3 = ManualParameter('x3')\n",
    "    y1 = ManualParameter('y1')\n",
    "    y2 = ManualParameter('y2')\n",
    "\n",
    "    meas.register_parameter(x1, paramtype=paramtype)\n",
    "    meas.register_parameter(x2, paramtype=paramtype)\n",
    "    meas.register_parameter(x3, paramtype=paramtype)\n",
    "    meas.register_parameter(y1, setpoints=[x1, x2, x3],\n",
    "                            paramtype=paramtype)\n",
    "    meas.register_parameter(y2, setpoints=[x1, x2, x3],\n",
    "                            paramtype=paramtype)\n",
    "    start = time.perf_counter()\n",
    "    with meas.run() as datasaver:\n",
    "        start_adding = time.perf_counter()\n",
    "        for i in range(nreps):\n",
    "            datasaver.add_result((x1, np.random.rand(npoints)),\n",
    "                                 (x2, np.random.rand(npoints)),\n",
    "                                 (x3, np.random.rand(npoints)),\n",
    "                                 (y1, np.random.rand(npoints)),\n",
    "                                 (y2, np.random.rand(npoints)))\n",
    "        stop_adding = time.perf_counter()\n",
    "        run_id = datasaver.run_id\n",
    "    stop = time.perf_counter()\n",
    "    tot_time = stop - start\n",
    "    add_time = stop_adding - start_adding\n",
    "    return tot_time, add_time, run_id"
   ]
  },
  {
   "cell_type": "markdown",
   "metadata": {},
   "source": [
    "## Comparison between numeric/array data and binary blob"
   ]
  },
  {
   "cell_type": "markdown",
   "metadata": {},
   "source": [
    "### Case1: Short experiment time"
   ]
  },
  {
   "cell_type": "code",
   "execution_count": 5,
   "metadata": {},
   "outputs": [
    {
     "name": "stdout",
     "output_type": "stream",
     "text": [
      "Starting experimental run with id: 1. \n",
      "Starting experimental run with id: 2. \n",
      "Starting experimental run with id: 3. \n"
     ]
    },
    {
     "name": "stdout",
     "output_type": "stream",
     "text": [
      "Starting experimental run with id: 4. \n"
     ]
    },
    {
     "name": "stdout",
     "output_type": "stream",
     "text": [
      "Starting experimental run with id: 5. \n",
      "Starting experimental run with id: 6. \n"
     ]
    },
    {
     "name": "stdout",
     "output_type": "stream",
     "text": [
      "Starting experimental run with id: 7. \n"
     ]
    },
    {
     "name": "stdout",
     "output_type": "stream",
     "text": [
      "Starting experimental run with id: 8. \n",
      "Starting experimental run with id: 9. \n"
     ]
    },
    {
     "name": "stdout",
     "output_type": "stream",
     "text": [
      "Starting experimental run with id: 10. \n",
      "Starting experimental run with id: 11. \n"
     ]
    },
    {
     "name": "stdout",
     "output_type": "stream",
     "text": [
      "Starting experimental run with id: 12. \n"
     ]
    },
    {
     "name": "stdout",
     "output_type": "stream",
     "text": [
      "Starting experimental run with id: 13. \n"
     ]
    },
    {
     "name": "stdout",
     "output_type": "stream",
     "text": [
      "Starting experimental run with id: 14. \n"
     ]
    }
   ],
   "source": [
    "sizes = [1,500,1000,2000,3000,4000,5000]\n",
    "t_numeric = []\n",
    "t_numeric_add = []\n",
    "t_array = []\n",
    "t_array_add = []\n",
    "for size in sizes:\n",
    "    tn, tna, run_id_n =  insert_data('numeric', size)\n",
    "    t_numeric.append(tn)\n",
    "    t_numeric_add.append(tna)\n",
    "\n",
    "    ta, taa, run_id_a =  insert_data('array', size)\n",
    "    t_array.append(ta)\n",
    "    t_array_add.append(taa)"
   ]
  },
  {
   "cell_type": "code",
   "execution_count": 6,
   "metadata": {},
   "outputs": [
    {
     "data": {
      "image/png": "[encoded data removed]",
      "text/plain": [
       "<Figure size 432x288 with 1 Axes>"
      ]
     },
     "metadata": {
      "needs_background": "light"
     },
     "output_type": "display_data"
    }
   ],
   "source": [
    "fig, ax = plt.subplots(1,1)\n",
    "ax.plot(sizes, t_numeric, 'o-', label='Inserting row-by-row')\n",
    "ax.plot(sizes, t_numeric_add, 'o-', label='Inserting row-by-row: add_result only')\n",
    "ax.plot(sizes, t_array, 'd-', label='Inserting as binary blob')\n",
    "ax.plot(sizes, t_array_add, 'd-', label='Inserting as binary blob: add_result only')\n",
    "ax.legend()\n",
    "ax.set_xlabel('Array length')\n",
    "ax.set_ylabel('Time (s)')\n",
    "fig.tight_layout()"
   ]
  },
  {
   "cell_type": "markdown",
   "metadata": {},
   "source": [
    "As shown in the latter figure, the time to setup and and close the experiment is approximately 0.4 sec. In case of small array sizes, the difference between inserting values of data as arrays and inserting them row-by-row is relatively unimportant. At larger array sizes, i.e. above 10000 points, the cost of writing data as individual datapoints starts to become important.\n"
   ]
  },
  {
   "cell_type": "markdown",
   "metadata": {},
   "source": [
    "### Case2: Long experiment time "
   ]
  },
  {
   "cell_type": "code",
   "execution_count": 7,
   "metadata": {},
   "outputs": [
    {
     "name": "stdout",
     "output_type": "stream",
     "text": [
      "Starting experimental run with id: 15. \n",
      "Starting experimental run with id: 16. \n",
      "Starting experimental run with id: 17. \n"
     ]
    },
    {
     "name": "stdout",
     "output_type": "stream",
     "text": [
      "Starting experimental run with id: 18. \n",
      "Starting experimental run with id: 19. \n"
     ]
    },
    {
     "name": "stdout",
     "output_type": "stream",
     "text": [
      "Starting experimental run with id: 20. \n"
     ]
    },
    {
     "name": "stdout",
     "output_type": "stream",
     "text": [
      "Starting experimental run with id: 21. \n"
     ]
    },
    {
     "name": "stdout",
     "output_type": "stream",
     "text": [
      "Starting experimental run with id: 22. \n"
     ]
    },
    {
     "name": "stdout",
     "output_type": "stream",
     "text": [
      "Starting experimental run with id: 23. \n"
     ]
    },
    {
     "name": "stdout",
     "output_type": "stream",
     "text": [
      "Starting experimental run with id: 24. \n"
     ]
    },
    {
     "name": "stdout",
     "output_type": "stream",
     "text": [
      "Starting experimental run with id: 25. \n"
     ]
    },
    {
     "name": "stdout",
     "output_type": "stream",
     "text": [
      "Starting experimental run with id: 26. \n"
     ]
    },
    {
     "name": "stdout",
     "output_type": "stream",
     "text": [
      "Starting experimental run with id: 27. \n"
     ]
    },
    {
     "name": "stdout",
     "output_type": "stream",
     "text": [
      "Starting experimental run with id: 28. \n"
     ]
    }
   ],
   "source": [
    "sizes = [1,500,1000,2000,3000,4000,5000]\n",
    "nreps = 100\n",
    "t_numeric = []\n",
    "t_numeric_add = []\n",
    "t_numeric_run_ids = []\n",
    "t_array = []\n",
    "t_array_add = []\n",
    "t_array_run_ids = []\n",
    "for size in sizes:\n",
    "    tn, tna, run_id_n =  insert_data('numeric', size, nreps=nreps)\n",
    "    t_numeric.append(tn)\n",
    "    t_numeric_add.append(tna)\n",
    "    t_numeric_run_ids.append(run_id_n)\n",
    "\n",
    "    ta, taa, run_id_a =  insert_data('array', size, nreps=nreps)\n",
    "    t_array.append(ta)\n",
    "    t_array_add.append(taa)\n",
    "    t_array_run_ids.append(run_id_a)"
   ]
  },
  {
   "cell_type": "code",
   "execution_count": 8,
   "metadata": {
    "scrolled": true
   },
   "outputs": [
    {
     "data": {
      "image/png": "[encoded data removed]",
      "text/plain": [
       "<Figure size 432x288 with 1 Axes>"
      ]
     },
     "metadata": {
      "needs_background": "light"
     },
     "output_type": "display_data"
    }
   ],
   "source": [
    "fig, ax = plt.subplots(1,1)\n",
    "ax.plot(sizes, t_numeric, 'o-', label='Inserting row-by-row')\n",
    "ax.plot(sizes, t_numeric_add, 'o-', label='Inserting row-by-row: add_result only')\n",
    "ax.plot(sizes, t_array, 'd-', label='Inserting as binary blob')\n",
    "ax.plot(sizes, t_array_add, 'd-', label='Inserting as binary blob: add_result only')\n",
    "ax.legend()\n",
    "ax.set_xlabel('Array length')\n",
    "ax.set_ylabel('Time (s)')\n",
    "fig.tight_layout()"
   ]
  },
  {
   "cell_type": "markdown",
   "metadata": {},
   "source": [
    "However, as we increase the length of the experiment, as seen here by repeating the insertion 100 times, we see a big difference between inserting values of the data row-by-row and inserting it as a binary blob."
   ]
  },
  {
   "cell_type": "markdown",
   "metadata": {},
   "source": [
    "## Loading the data "
   ]
  },
  {
   "cell_type": "code",
   "execution_count": 9,
   "metadata": {},
   "outputs": [],
   "source": [
    "from qcodes.dataset.data_set import load_by_id\n",
    "from qcodes.dataset.data_export import get_data_by_id"
   ]
  },
  {
   "cell_type": "markdown",
   "metadata": {},
   "source": [
    "As usual you can load the data by using the ``load_by_id`` function but you will notice that the different storage methods\n",
    "are reflected in shape of the data as it is retrieved. "
   ]
  },
  {
   "cell_type": "code",
   "execution_count": 10,
   "metadata": {},
   "outputs": [],
   "source": [
    "run_id_n = t_numeric_run_ids[0]\n",
    "run_id_a = t_array_run_ids[0]"
   ]
  },
  {
   "cell_type": "code",
   "execution_count": 11,
   "metadata": {
    "scrolled": true
   },
   "outputs": [
    {
     "data": {
      "text/plain": [
       "{'x1': {'x1': array([0.99960151, 0.99960151, 0.5366727 , 0.5366727 , 0.6981827 ,\n",
       "         0.6981827 , 0.96168371, 0.96168371, 0.21333991, 0.21333991,\n",
       "         0.99857206, 0.99857206, 0.00313116, 0.00313116, 0.55062519,\n",
       "         0.55062519, 0.61649076, 0.61649076, 0.12360899, 0.12360899,\n",
       "         0.94635497, 0.94635497, 0.77355438, 0.77355438, 0.20255127,\n",
       "         0.20255127, 0.71956822, 0.71956822, 0.36008126, 0.36008126,\n",
       "         0.36373668, 0.36373668, 0.4535693 , 0.4535693 , 0.54894752,\n",
       "         0.54894752, 0.26477188, 0.26477188, 0.79076194, 0.79076194,\n",
       "         0.76769703, 0.76769703, 0.92923886, 0.92923886, 0.29894883,\n",
       "         0.29894883, 0.18839345, 0.18839345, 0.40131552, 0.40131552,\n",
       "         0.96396542, 0.96396542, 0.69027542, 0.69027542, 0.66185313,\n",
       "         0.66185313, 0.47472928, 0.47472928, 0.50077846, 0.50077846,\n",
       "         0.7912882 , 0.7912882 , 0.09291513, 0.09291513, 0.65805303,\n",
       "         0.65805303, 0.28080095, 0.28080095, 0.93429157, 0.93429157,\n",
       "         0.65122577, 0.65122577, 0.25742109, 0.25742109, 0.42294954,\n",
       "         0.42294954, 0.26650759, 0.26650759, 0.86888264, 0.86888264,\n",
       "         0.76428558, 0.76428558, 0.75209307, 0.75209307, 0.64517622,\n",
       "         0.64517622, 0.616526  , 0.616526  , 0.06317229, 0.06317229,\n",
       "         0.01207072, 0.01207072, 0.10034245, 0.10034245, 0.73764221,\n",
       "         0.73764221, 0.56978668, 0.56978668, 0.52694459, 0.52694459,\n",
       "         0.0177126 , 0.0177126 , 0.88821557, 0.88821557, 0.08362973,\n",
       "         0.08362973, 0.03359186, 0.03359186, 0.64291007, 0.64291007,\n",
       "         0.62469962, 0.62469962, 0.18598601, 0.18598601, 0.07435079,\n",
       "         0.07435079, 0.23119969, 0.23119969, 0.38253624, 0.38253624,\n",
       "         0.4867763 , 0.4867763 , 0.30349587, 0.30349587, 0.7763237 ,\n",
       "         0.7763237 , 0.9656137 , 0.9656137 , 0.71716631, 0.71716631,\n",
       "         0.69738912, 0.69738912, 0.0645073 , 0.0645073 , 0.67061524,\n",
       "         0.67061524, 0.7278311 , 0.7278311 , 0.22332357, 0.22332357,\n",
       "         0.12076185, 0.12076185, 0.41723678, 0.41723678, 0.83312374,\n",
       "         0.83312374, 0.80917436, 0.80917436, 0.93009434, 0.93009434,\n",
       "         0.66188754, 0.66188754, 0.67662917, 0.67662917, 0.23663427,\n",
       "         0.23663427, 0.41460413, 0.41460413, 0.12187587, 0.12187587,\n",
       "         0.64846996, 0.64846996, 0.51011457, 0.51011457, 0.2894555 ,\n",
       "         0.2894555 , 0.23812431, 0.23812431, 0.41686848, 0.41686848,\n",
       "         0.40005802, 0.40005802, 0.43957751, 0.43957751, 0.307672  ,\n",
       "         0.307672  , 0.26897858, 0.26897858, 0.6862993 , 0.6862993 ,\n",
       "         0.33307168, 0.33307168, 0.14271473, 0.14271473, 0.48923597,\n",
       "         0.48923597, 0.79933253, 0.79933253, 0.68024427, 0.68024427,\n",
       "         0.606267  , 0.606267  , 0.52968823, 0.52968823, 0.94224389,\n",
       "         0.94224389, 0.97472903, 0.97472903, 0.71360132, 0.71360132])}}"
      ]
     },
     "execution_count": 11,
     "metadata": {},
     "output_type": "execute_result"
    }
   ],
   "source": [
    "ds = load_by_id(run_id_n)\n",
    "ds.get_parameter_data('x1')"
   ]
  },
  {
   "cell_type": "markdown",
   "metadata": {},
   "source": [
    "And a dataset stored as binary arrays"
   ]
  },
  {
   "cell_type": "code",
   "execution_count": 12,
   "metadata": {
    "scrolled": true
   },
   "outputs": [
    {
     "data": {
      "text/plain": [
       "{'x1': {'x1': array([[0.41433094],\n",
       "         [0.41433094],\n",
       "         [0.15034031],\n",
       "         [0.15034031],\n",
       "         [0.78969098],\n",
       "         [0.78969098],\n",
       "         [0.32179731],\n",
       "         [0.32179731],\n",
       "         [0.96631624],\n",
       "         [0.96631624],\n",
       "         [0.82585001],\n",
       "         [0.82585001],\n",
       "         [0.44472644],\n",
       "         [0.44472644],\n",
       "         [0.55631757],\n",
       "         [0.55631757],\n",
       "         [0.54687856],\n",
       "         [0.54687856],\n",
       "         [0.94883   ],\n",
       "         [0.94883   ],\n",
       "         [0.61970331],\n",
       "         [0.61970331],\n",
       "         [0.06384223],\n",
       "         [0.06384223],\n",
       "         [0.8887461 ],\n",
       "         [0.8887461 ],\n",
       "         [0.80690615],\n",
       "         [0.80690615],\n",
       "         [0.45216891],\n",
       "         [0.45216891],\n",
       "         [0.13646811],\n",
       "         [0.13646811],\n",
       "         [0.86756337],\n",
       "         [0.86756337],\n",
       "         [0.52032622],\n",
       "         [0.52032622],\n",
       "         [0.57167615],\n",
       "         [0.57167615],\n",
       "         [0.60142992],\n",
       "         [0.60142992],\n",
       "         [0.90301609],\n",
       "         [0.90301609],\n",
       "         [0.80849543],\n",
       "         [0.80849543],\n",
       "         [0.26111693],\n",
       "         [0.26111693],\n",
       "         [0.67970865],\n",
       "         [0.67970865],\n",
       "         [0.02823767],\n",
       "         [0.02823767],\n",
       "         [0.98409339],\n",
       "         [0.98409339],\n",
       "         [0.4003537 ],\n",
       "         [0.4003537 ],\n",
       "         [0.64641367],\n",
       "         [0.64641367],\n",
       "         [0.20508291],\n",
       "         [0.20508291],\n",
       "         [0.53717958],\n",
       "         [0.53717958],\n",
       "         [0.74116114],\n",
       "         [0.74116114],\n",
       "         [0.4713407 ],\n",
       "         [0.4713407 ],\n",
       "         [0.5253493 ],\n",
       "         [0.5253493 ],\n",
       "         [0.97480337],\n",
       "         [0.97480337],\n",
       "         [0.16981838],\n",
       "         [0.16981838],\n",
       "         [0.25255658],\n",
       "         [0.25255658],\n",
       "         [0.8814369 ],\n",
       "         [0.8814369 ],\n",
       "         [0.1890371 ],\n",
       "         [0.1890371 ],\n",
       "         [0.64150793],\n",
       "         [0.64150793],\n",
       "         [0.49505021],\n",
       "         [0.49505021],\n",
       "         [0.77412572],\n",
       "         [0.77412572],\n",
       "         [0.22508117],\n",
       "         [0.22508117],\n",
       "         [0.21814103],\n",
       "         [0.21814103],\n",
       "         [0.89540744],\n",
       "         [0.89540744],\n",
       "         [0.57172245],\n",
       "         [0.57172245],\n",
       "         [0.85293805],\n",
       "         [0.85293805],\n",
       "         [0.05972499],\n",
       "         [0.05972499],\n",
       "         [0.02121129],\n",
       "         [0.02121129],\n",
       "         [0.24142734],\n",
       "         [0.24142734],\n",
       "         [0.29307002],\n",
       "         [0.29307002],\n",
       "         [0.40158519],\n",
       "         [0.40158519],\n",
       "         [0.35436931],\n",
       "         [0.35436931],\n",
       "         [0.68497661],\n",
       "         [0.68497661],\n",
       "         [0.30979879],\n",
       "         [0.30979879],\n",
       "         [0.08097698],\n",
       "         [0.08097698],\n",
       "         [0.41201761],\n",
       "         [0.41201761],\n",
       "         [0.2769514 ],\n",
       "         [0.2769514 ],\n",
       "         [0.02467305],\n",
       "         [0.02467305],\n",
       "         [0.17922995],\n",
       "         [0.17922995],\n",
       "         [0.02261309],\n",
       "         [0.02261309],\n",
       "         [0.7139574 ],\n",
       "         [0.7139574 ],\n",
       "         [0.18635708],\n",
       "         [0.18635708],\n",
       "         [0.46624742],\n",
       "         [0.46624742],\n",
       "         [0.84185844],\n",
       "         [0.84185844],\n",
       "         [0.92534535],\n",
       "         [0.92534535],\n",
       "         [0.15033561],\n",
       "         [0.15033561],\n",
       "         [0.22977057],\n",
       "         [0.22977057],\n",
       "         [0.90540127],\n",
       "         [0.90540127],\n",
       "         [0.25281759],\n",
       "         [0.25281759],\n",
       "         [0.41222132],\n",
       "         [0.41222132],\n",
       "         [0.58207894],\n",
       "         [0.58207894],\n",
       "         [0.58990645],\n",
       "         [0.58990645],\n",
       "         [0.19446795],\n",
       "         [0.19446795],\n",
       "         [0.46972369],\n",
       "         [0.46972369],\n",
       "         [0.0214366 ],\n",
       "         [0.0214366 ],\n",
       "         [0.46581013],\n",
       "         [0.46581013],\n",
       "         [0.62832093],\n",
       "         [0.62832093],\n",
       "         [0.82253671],\n",
       "         [0.82253671],\n",
       "         [0.95959286],\n",
       "         [0.95959286],\n",
       "         [0.8195664 ],\n",
       "         [0.8195664 ],\n",
       "         [0.14600871],\n",
       "         [0.14600871],\n",
       "         [0.25047503],\n",
       "         [0.25047503],\n",
       "         [0.52152223],\n",
       "         [0.52152223],\n",
       "         [0.94751313],\n",
       "         [0.94751313],\n",
       "         [0.01210815],\n",
       "         [0.01210815],\n",
       "         [0.55013284],\n",
       "         [0.55013284],\n",
       "         [0.32055497],\n",
       "         [0.32055497],\n",
       "         [0.3329638 ],\n",
       "         [0.3329638 ],\n",
       "         [0.81273626],\n",
       "         [0.81273626],\n",
       "         [0.76296147],\n",
       "         [0.76296147],\n",
       "         [0.45813582],\n",
       "         [0.45813582],\n",
       "         [0.02028523],\n",
       "         [0.02028523],\n",
       "         [0.57083587],\n",
       "         [0.57083587],\n",
       "         [0.69271372],\n",
       "         [0.69271372],\n",
       "         [0.66559943],\n",
       "         [0.66559943],\n",
       "         [0.36116263],\n",
       "         [0.36116263],\n",
       "         [0.50383388],\n",
       "         [0.50383388],\n",
       "         [0.27071752],\n",
       "         [0.27071752],\n",
       "         [0.17585734],\n",
       "         [0.17585734],\n",
       "         [0.99573773],\n",
       "         [0.99573773]])}}"
      ]
     },
     "execution_count": 12,
     "metadata": {},
     "output_type": "execute_result"
    }
   ],
   "source": [
    "ds = load_by_id(run_id_a)\n",
    "ds.get_parameter_data('x1')"
   ]
  },
  {
   "cell_type": "code",
   "execution_count": null,
   "metadata": {},
   "outputs": [],
   "source": []
  }
 ],
 "metadata": {
  "kernelspec": {
   "display_name": "Python 3",
   "language": "python",
   "name": "python3"
  },
  "language_info": {
   "codemirror_mode": {
    "name": "ipython",
    "version": 3
   },
   "file_extension": ".py",
   "mimetype": "text/x-python",
   "name": "python",
   "nbconvert_exporter": "python",
   "pygments_lexer": "ipython3",
   "version": "3.7.7"
  },
  "nbsphinx": {
   "timeout": 600
  },
  "toc": {
   "base_numbering": 1,
   "nav_menu": {},
   "number_sections": true,
   "sideBar": true,
   "skip_h1_title": false,
   "title_cell": "Table of Contents",
   "title_sidebar": "Contents",
   "toc_cell": false,
   "toc_position": {},
   "toc_section_display": true,
   "toc_window_display": false
  },
  "varInspector": {
   "cols": {
    "lenName": 16,
    "lenType": 16,
    "lenVar": 40
   },
   "kernels_config": {
    "python": {
     "delete_cmd_postfix": "",
     "delete_cmd_prefix": "del ",
     "library": "var_list.py",
     "varRefreshCmd": "print(var_dic_list())"
    },
    "r": {
     "delete_cmd_postfix": ") ",
     "delete_cmd_prefix": "rm(",
     "library": "var_list.r",
     "varRefreshCmd": "cat(var_dic_list()) "
    }
   },
   "types_to_exclude": [
    "module",
    "function",
    "builtin_function_or_method",
    "instance",
    "_Feature"
   ],
   "window_display": false
  }
 },
 "nbformat": 4,
 "nbformat_minor": 2
}
