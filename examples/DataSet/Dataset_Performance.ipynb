{
 "cells": [
  {
   "cell_type": "markdown",
   "metadata": {},
   "source": [
    "# DataSet Performance\n",
    "\n",
    "This notebook shows the trade-off between inserting data into a database row-by-row and as binary blobs. Inserting the data row-by-row means that we have direct access to all the data and may perform queries directly on the values of the data. On the other hand, as we shall see, this is much slower than inserting the data directly as binary blobs."
   ]
  },
  {
   "cell_type": "markdown",
   "metadata": {},
   "source": [
    "First, we choose a new location for the database to ensure that we don't add a bunch of benchmarking data to the default one."
   ]
  },
  {
   "cell_type": "code",
   "execution_count": 1,
   "metadata": {
    "execution": {
     "iopub.execute_input": "2021-02-09T07:08:02.111632Z",
     "iopub.status.busy": "2021-02-09T07:08:02.111025Z",
     "iopub.status.idle": "2021-02-09T07:08:02.967017Z",
     "shell.execute_reply": "2021-02-09T07:08:02.966527Z"
    }
   },
   "outputs": [
    {
     "name": "stdout",
     "output_type": "stream",
     "text": [
      "Logging hadn't been started.\n",
      "Activating auto-logging. Current session state plus future input saved.\n",
      "Filename       : /home/vsts/.qcodes/logs/command_history.log\n",
      "Mode           : append\n",
      "Output logging : True\n",
      "Raw input log  : False\n",
      "Timestamping   : True\n",
      "State          : active\n"
     ]
    },
    {
     "name": "stdout",
     "output_type": "stream",
     "text": [
      "Qcodes Logfile : /home/vsts/.qcodes/logs/210209-14229-qcodes.log\n"
     ]
    }
   ],
   "source": [
    "import os\n",
    "cwd = os.getcwd()\n",
    "import qcodes as qc\n",
    "qc.config[\"core\"][\"db_location\"] = os.path.join(cwd, 'testing.db')\n"
   ]
  },
  {
   "cell_type": "code",
   "execution_count": 2,
   "metadata": {
    "execution": {
     "iopub.execute_input": "2021-02-09T07:08:02.972208Z",
     "iopub.status.busy": "2021-02-09T07:08:02.971714Z",
     "iopub.status.idle": "2021-02-09T07:08:03.122560Z",
     "shell.execute_reply": "2021-02-09T07:08:03.122145Z"
    }
   },
   "outputs": [],
   "source": [
    "%matplotlib inline\n",
    "import time\n",
    "import matplotlib.pyplot as plt\n",
    "import numpy as np\n",
    "\n",
    "import qcodes as qc\n",
    "from qcodes.instrument.parameter import ManualParameter\n",
    "from qcodes.dataset.experiment_container import (Experiment,\n",
    "                                                 load_last_experiment,\n",
    "                                                 new_experiment)\n",
    "from qcodes.dataset.sqlite.database import initialise_database\n",
    "from qcodes import load_or_create_experiment\n",
    "from qcodes.dataset.measurements import Measurement"
   ]
  },
  {
   "cell_type": "code",
   "execution_count": 3,
   "metadata": {
    "execution": {
     "iopub.execute_input": "2021-02-09T07:08:03.126083Z",
     "iopub.status.busy": "2021-02-09T07:08:03.125347Z",
     "iopub.status.idle": "2021-02-09T07:08:03.223893Z",
     "shell.execute_reply": "2021-02-09T07:08:03.224436Z"
    }
   },
   "outputs": [
    {
     "name": "stdout",
     "output_type": "stream",
     "text": [
      "\r",
      "0it [00:00, ?it/s]"
     ]
    },
    {
     "name": "stdout",
     "output_type": "stream",
     "text": [
      "\r",
      "Upgrading database; v0 -> v1: : 0it [00:00, ?it/s]"
     ]
    },
    {
     "name": "stdout",
     "output_type": "stream",
     "text": [
      "\r",
      "Upgrading database; v0 -> v1: : 0it [00:00, ?it/s]"
     ]
    },
    {
     "name": "stdout",
     "output_type": "stream",
     "text": [
      "\n",
      "\r",
      "  0%|          | 0/1 [00:00<?, ?it/s]"
     ]
    },
    {
     "name": "stdout",
     "output_type": "stream",
     "text": [
      "\r",
      "Upgrading database; v1 -> v2:   0%|          | 0/1 [00:00<?, ?it/s]"
     ]
    },
    {
     "name": "stdout",
     "output_type": "stream",
     "text": [
      "\r",
      "Upgrading database; v1 -> v2: 100%|██████████| 1/1 [00:00<00:00, 1327.31it/s]"
     ]
    },
    {
     "name": "stdout",
     "output_type": "stream",
     "text": [
      "\n",
      "\r",
      "0it [00:00, ?it/s]"
     ]
    },
    {
     "name": "stdout",
     "output_type": "stream",
     "text": [
      "\r",
      "Upgrading database; v2 -> v3: : 0it [00:00, ?it/s]"
     ]
    },
    {
     "name": "stdout",
     "output_type": "stream",
     "text": [
      "\r",
      "Upgrading database; v2 -> v3: : 0it [00:00, ?it/s]"
     ]
    },
    {
     "name": "stdout",
     "output_type": "stream",
     "text": [
      "\n",
      "\r",
      "0it [00:00, ?it/s]"
     ]
    },
    {
     "name": "stdout",
     "output_type": "stream",
     "text": [
      "\r",
      "Upgrading database; v3 -> v4: : 0it [00:00, ?it/s]"
     ]
    },
    {
     "name": "stdout",
     "output_type": "stream",
     "text": [
      "\r",
      "Upgrading database; v3 -> v4: : 0it [00:00, ?it/s]"
     ]
    },
    {
     "name": "stdout",
     "output_type": "stream",
     "text": [
      "\n",
      "\r",
      "  0%|          | 0/1 [00:00<?, ?it/s]"
     ]
    },
    {
     "name": "stdout",
     "output_type": "stream",
     "text": [
      "\r",
      "Upgrading database; v4 -> v5:   0%|          | 0/1 [00:00<?, ?it/s]"
     ]
    },
    {
     "name": "stdout",
     "output_type": "stream",
     "text": [
      "\r",
      "Upgrading database; v4 -> v5: 100%|██████████| 1/1 [00:00<00:00, 473.93it/s]"
     ]
    },
    {
     "name": "stdout",
     "output_type": "stream",
     "text": [
      "\n",
      "\r",
      "0it [00:00, ?it/s]"
     ]
    },
    {
     "name": "stdout",
     "output_type": "stream",
     "text": [
      "\r",
      "Upgrading database; v5 -> v6: : 0it [00:00, ?it/s]"
     ]
    },
    {
     "name": "stdout",
     "output_type": "stream",
     "text": [
      "\r",
      "Upgrading database; v5 -> v6: : 0it [00:00, ?it/s]"
     ]
    },
    {
     "name": "stdout",
     "output_type": "stream",
     "text": [
      "\n",
      "\r",
      "  0%|          | 0/1 [00:00<?, ?it/s]"
     ]
    },
    {
     "name": "stdout",
     "output_type": "stream",
     "text": [
      "\r",
      "Upgrading database; v6 -> v7:   0%|          | 0/1 [00:00<?, ?it/s]"
     ]
    },
    {
     "name": "stdout",
     "output_type": "stream",
     "text": [
      "\r",
      "Upgrading database; v6 -> v7: 100%|██████████| 1/1 [00:00<00:00, 300.95it/s]"
     ]
    },
    {
     "name": "stdout",
     "output_type": "stream",
     "text": [
      "\n",
      "\r",
      "  0%|          | 0/1 [00:00<?, ?it/s]"
     ]
    },
    {
     "name": "stdout",
     "output_type": "stream",
     "text": [
      "\r",
      "Upgrading database; v7 -> v8:   0%|          | 0/1 [00:00<?, ?it/s]"
     ]
    },
    {
     "name": "stdout",
     "output_type": "stream",
     "text": [
      "\r",
      "Upgrading database; v7 -> v8: 100%|██████████| 1/1 [00:00<00:00, 540.29it/s]"
     ]
    },
    {
     "name": "stdout",
     "output_type": "stream",
     "text": [
      "\n",
      "\r",
      "  0%|          | 0/1 [00:00<?, ?it/s]"
     ]
    },
    {
     "name": "stdout",
     "output_type": "stream",
     "text": [
      "\r",
      "Upgrading database; v8 -> v9:   0%|          | 0/1 [00:00<?, ?it/s]"
     ]
    },
    {
     "name": "stdout",
     "output_type": "stream",
     "text": [
      "\r",
      "Upgrading database; v8 -> v9: 100%|██████████| 1/1 [00:00<00:00, 543.09it/s]"
     ]
    },
    {
     "name": "stdout",
     "output_type": "stream",
     "text": [
      "\n"
     ]
    }
   ],
   "source": [
    "initialise_database()\n",
    "exp = load_or_create_experiment(experiment_name='tutorial_exp', sample_name=\"no sample\")"
   ]
  },
  {
   "cell_type": "markdown",
   "metadata": {},
   "source": [
    "Here, we define a simple function to benchmark the time it takes to insert n points with either numeric or array data type.\n",
    "We will compare both the time used to call ``add_result`` and the time used for the full measurement."
   ]
  },
  {
   "cell_type": "code",
   "execution_count": 4,
   "metadata": {
    "execution": {
     "iopub.execute_input": "2021-02-09T07:08:03.232077Z",
     "iopub.status.busy": "2021-02-09T07:08:03.231551Z",
     "iopub.status.idle": "2021-02-09T07:08:03.235186Z",
     "shell.execute_reply": "2021-02-09T07:08:03.234742Z"
    }
   },
   "outputs": [],
   "source": [
    "def insert_data(paramtype, npoints, nreps=1):\n",
    "\n",
    "    meas = Measurement(exp=exp)\n",
    "\n",
    "    x1 = ManualParameter('x1')\n",
    "    x2 = ManualParameter('x2')\n",
    "    x3 = ManualParameter('x3')\n",
    "    y1 = ManualParameter('y1')\n",
    "    y2 = ManualParameter('y2')\n",
    "\n",
    "    meas.register_parameter(x1, paramtype=paramtype)\n",
    "    meas.register_parameter(x2, paramtype=paramtype)\n",
    "    meas.register_parameter(x3, paramtype=paramtype)\n",
    "    meas.register_parameter(y1, setpoints=[x1, x2, x3],\n",
    "                            paramtype=paramtype)\n",
    "    meas.register_parameter(y2, setpoints=[x1, x2, x3],\n",
    "                            paramtype=paramtype)\n",
    "    start = time.perf_counter()\n",
    "    with meas.run() as datasaver:\n",
    "        start_adding = time.perf_counter()\n",
    "        for i in range(nreps):\n",
    "            datasaver.add_result((x1, np.random.rand(npoints)),\n",
    "                                 (x2, np.random.rand(npoints)),\n",
    "                                 (x3, np.random.rand(npoints)),\n",
    "                                 (y1, np.random.rand(npoints)),\n",
    "                                 (y2, np.random.rand(npoints)))\n",
    "        stop_adding = time.perf_counter()\n",
    "        run_id = datasaver.run_id\n",
    "    stop = time.perf_counter()\n",
    "    tot_time = stop - start\n",
    "    add_time = stop_adding - start_adding\n",
    "    return tot_time, add_time, run_id"
   ]
  },
  {
   "cell_type": "markdown",
   "metadata": {},
   "source": [
    "## Comparison between numeric/array data and binary blob"
   ]
  },
  {
   "cell_type": "markdown",
   "metadata": {},
   "source": [
    "### Case1: Short experiment time"
   ]
  },
  {
   "cell_type": "code",
   "execution_count": 5,
   "metadata": {
    "execution": {
     "iopub.execute_input": "2021-02-09T07:08:03.240449Z",
     "iopub.status.busy": "2021-02-09T07:08:03.239591Z",
     "iopub.status.idle": "2021-02-09T07:08:03.874424Z",
     "shell.execute_reply": "2021-02-09T07:08:03.873990Z"
    }
   },
   "outputs": [
    {
     "name": "stdout",
     "output_type": "stream",
     "text": [
      "Starting experimental run with id: 1. \n",
      "Starting experimental run with id: 2. \n",
      "Starting experimental run with id: 3. \n",
      "Starting experimental run with id: 4. \n",
      "Starting experimental run with id: 5. \n"
     ]
    },
    {
     "name": "stdout",
     "output_type": "stream",
     "text": [
      "Starting experimental run with id: 6. \n"
     ]
    },
    {
     "name": "stdout",
     "output_type": "stream",
     "text": [
      "Starting experimental run with id: 7. \n"
     ]
    },
    {
     "name": "stdout",
     "output_type": "stream",
     "text": [
      "Starting experimental run with id: 8. \n"
     ]
    },
    {
     "name": "stdout",
     "output_type": "stream",
     "text": [
      "Starting experimental run with id: 9. \n",
      "Starting experimental run with id: 10. \n",
      "Starting experimental run with id: 11. \n"
     ]
    },
    {
     "name": "stdout",
     "output_type": "stream",
     "text": [
      "Starting experimental run with id: 12. \n",
      "Starting experimental run with id: 13. \n"
     ]
    },
    {
     "name": "stdout",
     "output_type": "stream",
     "text": [
      "Starting experimental run with id: 14. \n"
     ]
    }
   ],
   "source": [
    "sizes = [1,500,1000,2000,3000,4000,5000]\n",
    "t_numeric = []\n",
    "t_numeric_add = []\n",
    "t_array = []\n",
    "t_array_add = []\n",
    "for size in sizes:\n",
    "    tn, tna, run_id_n =  insert_data('numeric', size)\n",
    "    t_numeric.append(tn)\n",
    "    t_numeric_add.append(tna)\n",
    "\n",
    "    ta, taa, run_id_a =  insert_data('array', size)\n",
    "    t_array.append(ta)\n",
    "    t_array_add.append(taa)"
   ]
  },
  {
   "cell_type": "code",
   "execution_count": 6,
   "metadata": {
    "execution": {
     "iopub.execute_input": "2021-02-09T07:08:03.886333Z",
     "iopub.status.busy": "2021-02-09T07:08:03.877927Z",
     "iopub.status.idle": "2021-02-09T07:08:04.092772Z",
     "shell.execute_reply": "2021-02-09T07:08:04.092342Z"
    }
   },
   "outputs": [
    {
     "data": {
      "image/png": "[encoded data removed]",
      "text/plain": [
       "<Figure size 432x288 with 1 Axes>"
      ]
     },
     "metadata": {
      "needs_background": "light"
     },
     "output_type": "display_data"
    }
   ],
   "source": [
    "fig, ax = plt.subplots(1,1)\n",
    "ax.plot(sizes, t_numeric, 'o-', label='Inserting row-by-row')\n",
    "ax.plot(sizes, t_numeric_add, 'o-', label='Inserting row-by-row: add_result only')\n",
    "ax.plot(sizes, t_array, 'd-', label='Inserting as binary blob')\n",
    "ax.plot(sizes, t_array_add, 'd-', label='Inserting as binary blob: add_result only')\n",
    "ax.legend()\n",
    "ax.set_xlabel('Array length')\n",
    "ax.set_ylabel('Time (s)')\n",
    "fig.tight_layout()"
   ]
  },
  {
   "cell_type": "markdown",
   "metadata": {},
   "source": [
    "As shown in the latter figure, the time to setup and and close the experiment is approximately 0.4 sec. In case of small array sizes, the difference between inserting values of data as arrays and inserting them row-by-row is relatively unimportant. At larger array sizes, i.e. above 10000 points, the cost of writing data as individual datapoints starts to become important.\n"
   ]
  },
  {
   "cell_type": "markdown",
   "metadata": {},
   "source": [
    "### Case2: Long experiment time "
   ]
  },
  {
   "cell_type": "code",
   "execution_count": 7,
   "metadata": {
    "execution": {
     "iopub.execute_input": "2021-02-09T07:08:04.098845Z",
     "iopub.status.busy": "2021-02-09T07:08:04.097816Z",
     "iopub.status.idle": "2021-02-09T07:08:51.485796Z",
     "shell.execute_reply": "2021-02-09T07:08:51.486346Z"
    }
   },
   "outputs": [
    {
     "name": "stdout",
     "output_type": "stream",
     "text": [
      "Starting experimental run with id: 15. \n",
      "Starting experimental run with id: 16. \n",
      "Starting experimental run with id: 17. \n"
     ]
    },
    {
     "name": "stdout",
     "output_type": "stream",
     "text": [
      "Starting experimental run with id: 18. \n",
      "Starting experimental run with id: 19. \n"
     ]
    },
    {
     "name": "stdout",
     "output_type": "stream",
     "text": [
      "Starting experimental run with id: 20. \n"
     ]
    },
    {
     "name": "stdout",
     "output_type": "stream",
     "text": [
      "Starting experimental run with id: 21. \n"
     ]
    },
    {
     "name": "stdout",
     "output_type": "stream",
     "text": [
      "Starting experimental run with id: 22. \n"
     ]
    },
    {
     "name": "stdout",
     "output_type": "stream",
     "text": [
      "Starting experimental run with id: 23. \n"
     ]
    },
    {
     "name": "stdout",
     "output_type": "stream",
     "text": [
      "Starting experimental run with id: 24. \n"
     ]
    },
    {
     "name": "stdout",
     "output_type": "stream",
     "text": [
      "Starting experimental run with id: 25. \n"
     ]
    },
    {
     "name": "stdout",
     "output_type": "stream",
     "text": [
      "Starting experimental run with id: 26. \n"
     ]
    },
    {
     "name": "stdout",
     "output_type": "stream",
     "text": [
      "Starting experimental run with id: 27. \n"
     ]
    },
    {
     "name": "stdout",
     "output_type": "stream",
     "text": [
      "Starting experimental run with id: 28. \n"
     ]
    }
   ],
   "source": [
    "sizes = [1,500,1000,2000,3000,4000,5000]\n",
    "nreps = 100\n",
    "t_numeric = []\n",
    "t_numeric_add = []\n",
    "t_numeric_run_ids = []\n",
    "t_array = []\n",
    "t_array_add = []\n",
    "t_array_run_ids = []\n",
    "for size in sizes:\n",
    "    tn, tna, run_id_n =  insert_data('numeric', size, nreps=nreps)\n",
    "    t_numeric.append(tn)\n",
    "    t_numeric_add.append(tna)\n",
    "    t_numeric_run_ids.append(run_id_n)\n",
    "\n",
    "    ta, taa, run_id_a =  insert_data('array', size, nreps=nreps)\n",
    "    t_array.append(ta)\n",
    "    t_array_add.append(taa)\n",
    "    t_array_run_ids.append(run_id_a)"
   ]
  },
  {
   "cell_type": "code",
   "execution_count": 8,
   "metadata": {
    "execution": {
     "iopub.execute_input": "2021-02-09T07:08:51.509294Z",
     "iopub.status.busy": "2021-02-09T07:08:51.506738Z",
     "iopub.status.idle": "2021-02-09T07:08:51.701330Z",
     "shell.execute_reply": "2021-02-09T07:08:51.701715Z"
    },
    "scrolled": true
   },
   "outputs": [
    {
     "data": {
      "image/png": "[encoded data removed]",
      "text/plain": [
       "<Figure size 432x288 with 1 Axes>"
      ]
     },
     "metadata": {
      "needs_background": "light"
     },
     "output_type": "display_data"
    }
   ],
   "source": [
    "fig, ax = plt.subplots(1,1)\n",
    "ax.plot(sizes, t_numeric, 'o-', label='Inserting row-by-row')\n",
    "ax.plot(sizes, t_numeric_add, 'o-', label='Inserting row-by-row: add_result only')\n",
    "ax.plot(sizes, t_array, 'd-', label='Inserting as binary blob')\n",
    "ax.plot(sizes, t_array_add, 'd-', label='Inserting as binary blob: add_result only')\n",
    "ax.legend()\n",
    "ax.set_xlabel('Array length')\n",
    "ax.set_ylabel('Time (s)')\n",
    "fig.tight_layout()"
   ]
  },
  {
   "cell_type": "markdown",
   "metadata": {},
   "source": [
    "However, as we increase the length of the experiment, as seen here by repeating the insertion 100 times, we see a big difference between inserting values of the data row-by-row and inserting it as a binary blob."
   ]
  },
  {
   "cell_type": "markdown",
   "metadata": {},
   "source": [
    "## Loading the data "
   ]
  },
  {
   "cell_type": "code",
   "execution_count": 9,
   "metadata": {
    "execution": {
     "iopub.execute_input": "2021-02-09T07:08:51.705115Z",
     "iopub.status.busy": "2021-02-09T07:08:51.704248Z",
     "iopub.status.idle": "2021-02-09T07:08:51.707884Z",
     "shell.execute_reply": "2021-02-09T07:08:51.707445Z"
    }
   },
   "outputs": [],
   "source": [
    "from qcodes.dataset.data_set import load_by_id\n",
    "from qcodes.dataset.data_export import get_data_by_id"
   ]
  },
  {
   "cell_type": "markdown",
   "metadata": {},
   "source": [
    "As usual you can load the data by using the ``load_by_id`` function but you will notice that the different storage methods\n",
    "are reflected in shape of the data as it is retrieved. "
   ]
  },
  {
   "cell_type": "code",
   "execution_count": 10,
   "metadata": {
    "execution": {
     "iopub.execute_input": "2021-02-09T07:08:51.712103Z",
     "iopub.status.busy": "2021-02-09T07:08:51.710817Z",
     "iopub.status.idle": "2021-02-09T07:08:51.712795Z",
     "shell.execute_reply": "2021-02-09T07:08:51.713469Z"
    }
   },
   "outputs": [],
   "source": [
    "run_id_n = t_numeric_run_ids[0]\n",
    "run_id_a = t_array_run_ids[0]"
   ]
  },
  {
   "cell_type": "code",
   "execution_count": 11,
   "metadata": {
    "execution": {
     "iopub.execute_input": "2021-02-09T07:08:51.716298Z",
     "iopub.status.busy": "2021-02-09T07:08:51.715809Z",
     "iopub.status.idle": "2021-02-09T07:08:51.723569Z",
     "shell.execute_reply": "2021-02-09T07:08:51.724009Z"
    },
    "scrolled": true
   },
   "outputs": [
    {
     "data": {
      "text/plain": [
       "{'x1': {'x1': array([0.87562592, 0.87562592, 0.62721246, 0.62721246, 0.65713391,\n",
       "         0.65713391, 0.02867517, 0.02867517, 0.25881868, 0.25881868,\n",
       "         0.0079191 , 0.0079191 , 0.5328    , 0.5328    , 0.70375649,\n",
       "         0.70375649, 0.35252734, 0.35252734, 0.09113907, 0.09113907,\n",
       "         0.72819192, 0.72819192, 0.33630777, 0.33630777, 0.92120744,\n",
       "         0.92120744, 0.50015659, 0.50015659, 0.99698635, 0.99698635,\n",
       "         0.59837254, 0.59837254, 0.19593352, 0.19593352, 0.05427088,\n",
       "         0.05427088, 0.25282836, 0.25282836, 0.62591117, 0.62591117,\n",
       "         0.45964029, 0.45964029, 0.98520302, 0.98520302, 0.57316504,\n",
       "         0.57316504, 0.64480141, 0.64480141, 0.95353916, 0.95353916,\n",
       "         0.3195462 , 0.3195462 , 0.12050539, 0.12050539, 0.72484154,\n",
       "         0.72484154, 0.82322529, 0.82322529, 0.59270121, 0.59270121,\n",
       "         0.77658552, 0.77658552, 0.07602818, 0.07602818, 0.34780191,\n",
       "         0.34780191, 0.55015663, 0.55015663, 0.9584511 , 0.9584511 ,\n",
       "         0.78443652, 0.78443652, 0.78423308, 0.78423308, 0.92570918,\n",
       "         0.92570918, 0.94617922, 0.94617922, 0.02977778, 0.02977778,\n",
       "         0.91719398, 0.91719398, 0.41924914, 0.41924914, 0.10101249,\n",
       "         0.10101249, 0.95836868, 0.95836868, 0.16274139, 0.16274139,\n",
       "         0.9635066 , 0.9635066 , 0.71213439, 0.71213439, 0.78248248,\n",
       "         0.78248248, 0.51034514, 0.51034514, 0.20838501, 0.20838501,\n",
       "         0.94260792, 0.94260792, 0.96631569, 0.96631569, 0.51437023,\n",
       "         0.51437023, 0.4374044 , 0.4374044 , 0.24452443, 0.24452443,\n",
       "         0.53214419, 0.53214419, 0.6180861 , 0.6180861 , 0.74831151,\n",
       "         0.74831151, 0.19580879, 0.19580879, 0.37757578, 0.37757578,\n",
       "         0.81391995, 0.81391995, 0.33772649, 0.33772649, 0.53093978,\n",
       "         0.53093978, 0.5392953 , 0.5392953 , 0.46776445, 0.46776445,\n",
       "         0.97447191, 0.97447191, 0.47065394, 0.47065394, 0.34868983,\n",
       "         0.34868983, 0.93227481, 0.93227481, 0.252449  , 0.252449  ,\n",
       "         0.43454451, 0.43454451, 0.08423781, 0.08423781, 0.49991728,\n",
       "         0.49991728, 0.27371103, 0.27371103, 0.19870285, 0.19870285,\n",
       "         0.89239926, 0.89239926, 0.93397089, 0.93397089, 0.0126491 ,\n",
       "         0.0126491 , 0.37654843, 0.37654843, 0.62765626, 0.62765626,\n",
       "         0.78062664, 0.78062664, 0.74309237, 0.74309237, 0.01549832,\n",
       "         0.01549832, 0.78305439, 0.78305439, 0.37203199, 0.37203199,\n",
       "         0.23876086, 0.23876086, 0.4395108 , 0.4395108 , 0.25231023,\n",
       "         0.25231023, 0.9201475 , 0.9201475 , 0.56505622, 0.56505622,\n",
       "         0.27191264, 0.27191264, 0.2271619 , 0.2271619 , 0.15728544,\n",
       "         0.15728544, 0.51223012, 0.51223012, 0.54202304, 0.54202304,\n",
       "         0.07739063, 0.07739063, 0.29036678, 0.29036678, 0.99536968,\n",
       "         0.99536968, 0.29307629, 0.29307629, 0.62068406, 0.62068406])}}"
      ]
     },
     "execution_count": 1,
     "metadata": {},
     "output_type": "execute_result"
    }
   ],
   "source": [
    "ds = load_by_id(run_id_n)\n",
    "ds.get_parameter_data('x1')"
   ]
  },
  {
   "cell_type": "markdown",
   "metadata": {},
   "source": [
    "And a dataset stored as binary arrays"
   ]
  },
  {
   "cell_type": "code",
   "execution_count": 12,
   "metadata": {
    "execution": {
     "iopub.execute_input": "2021-02-09T07:08:51.727012Z",
     "iopub.status.busy": "2021-02-09T07:08:51.726530Z",
     "iopub.status.idle": "2021-02-09T07:08:51.785680Z",
     "shell.execute_reply": "2021-02-09T07:08:51.785245Z"
    },
    "scrolled": true
   },
   "outputs": [
    {
     "data": {
      "text/plain": [
       "{'x1': {'x1': array([[0.29081303],\n",
       "         [0.29081303],\n",
       "         [0.56154029],\n",
       "         [0.56154029],\n",
       "         [0.22688421],\n",
       "         [0.22688421],\n",
       "         [0.91033974],\n",
       "         [0.91033974],\n",
       "         [0.91395016],\n",
       "         [0.91395016],\n",
       "         [0.88408939],\n",
       "         [0.88408939],\n",
       "         [0.20281647],\n",
       "         [0.20281647],\n",
       "         [0.63739805],\n",
       "         [0.63739805],\n",
       "         [0.16626033],\n",
       "         [0.16626033],\n",
       "         [0.34812746],\n",
       "         [0.34812746],\n",
       "         [0.78317813],\n",
       "         [0.78317813],\n",
       "         [0.66731232],\n",
       "         [0.66731232],\n",
       "         [0.42170507],\n",
       "         [0.42170507],\n",
       "         [0.88921729],\n",
       "         [0.88921729],\n",
       "         [0.54101358],\n",
       "         [0.54101358],\n",
       "         [0.33986464],\n",
       "         [0.33986464],\n",
       "         [0.26308522],\n",
       "         [0.26308522],\n",
       "         [0.15525065],\n",
       "         [0.15525065],\n",
       "         [0.37608729],\n",
       "         [0.37608729],\n",
       "         [0.94270616],\n",
       "         [0.94270616],\n",
       "         [0.98713841],\n",
       "         [0.98713841],\n",
       "         [0.29635857],\n",
       "         [0.29635857],\n",
       "         [0.11616755],\n",
       "         [0.11616755],\n",
       "         [0.54057053],\n",
       "         [0.54057053],\n",
       "         [0.89164801],\n",
       "         [0.89164801],\n",
       "         [0.60850323],\n",
       "         [0.60850323],\n",
       "         [0.66713806],\n",
       "         [0.66713806],\n",
       "         [0.28801251],\n",
       "         [0.28801251],\n",
       "         [0.12356815],\n",
       "         [0.12356815],\n",
       "         [0.33428537],\n",
       "         [0.33428537],\n",
       "         [0.32020498],\n",
       "         [0.32020498],\n",
       "         [0.56448633],\n",
       "         [0.56448633],\n",
       "         [0.8762686 ],\n",
       "         [0.8762686 ],\n",
       "         [0.01805132],\n",
       "         [0.01805132],\n",
       "         [0.48503188],\n",
       "         [0.48503188],\n",
       "         [0.71100884],\n",
       "         [0.71100884],\n",
       "         [0.17782597],\n",
       "         [0.17782597],\n",
       "         [0.70207502],\n",
       "         [0.70207502],\n",
       "         [0.56483008],\n",
       "         [0.56483008],\n",
       "         [0.43013045],\n",
       "         [0.43013045],\n",
       "         [0.88490798],\n",
       "         [0.88490798],\n",
       "         [0.55252697],\n",
       "         [0.55252697],\n",
       "         [0.5275381 ],\n",
       "         [0.5275381 ],\n",
       "         [0.16045282],\n",
       "         [0.16045282],\n",
       "         [0.4455142 ],\n",
       "         [0.4455142 ],\n",
       "         [0.15308489],\n",
       "         [0.15308489],\n",
       "         [0.75031599],\n",
       "         [0.75031599],\n",
       "         [0.93065794],\n",
       "         [0.93065794],\n",
       "         [0.44133745],\n",
       "         [0.44133745],\n",
       "         [0.23279109],\n",
       "         [0.23279109],\n",
       "         [0.69178495],\n",
       "         [0.69178495],\n",
       "         [0.32465461],\n",
       "         [0.32465461],\n",
       "         [0.95910876],\n",
       "         [0.95910876],\n",
       "         [0.35575449],\n",
       "         [0.35575449],\n",
       "         [0.5156496 ],\n",
       "         [0.5156496 ],\n",
       "         [0.72829104],\n",
       "         [0.72829104],\n",
       "         [0.09742269],\n",
       "         [0.09742269],\n",
       "         [0.69029329],\n",
       "         [0.69029329],\n",
       "         [0.131444  ],\n",
       "         [0.131444  ],\n",
       "         [0.06084452],\n",
       "         [0.06084452],\n",
       "         [0.75078828],\n",
       "         [0.75078828],\n",
       "         [0.03088083],\n",
       "         [0.03088083],\n",
       "         [0.07898665],\n",
       "         [0.07898665],\n",
       "         [0.12808367],\n",
       "         [0.12808367],\n",
       "         [0.48611903],\n",
       "         [0.48611903],\n",
       "         [0.0935522 ],\n",
       "         [0.0935522 ],\n",
       "         [0.25219479],\n",
       "         [0.25219479],\n",
       "         [0.99148588],\n",
       "         [0.99148588],\n",
       "         [0.20448461],\n",
       "         [0.20448461],\n",
       "         [0.9359315 ],\n",
       "         [0.9359315 ],\n",
       "         [0.50677094],\n",
       "         [0.50677094],\n",
       "         [0.10975511],\n",
       "         [0.10975511],\n",
       "         [0.74589429],\n",
       "         [0.74589429],\n",
       "         [0.49341179],\n",
       "         [0.49341179],\n",
       "         [0.23112666],\n",
       "         [0.23112666],\n",
       "         [0.80008381],\n",
       "         [0.80008381],\n",
       "         [0.157153  ],\n",
       "         [0.157153  ],\n",
       "         [0.28858536],\n",
       "         [0.28858536],\n",
       "         [0.12110709],\n",
       "         [0.12110709],\n",
       "         [0.53981869],\n",
       "         [0.53981869],\n",
       "         [0.53087303],\n",
       "         [0.53087303],\n",
       "         [0.83501021],\n",
       "         [0.83501021],\n",
       "         [0.19526471],\n",
       "         [0.19526471],\n",
       "         [0.99768482],\n",
       "         [0.99768482],\n",
       "         [0.40087323],\n",
       "         [0.40087323],\n",
       "         [0.98035347],\n",
       "         [0.98035347],\n",
       "         [0.06029323],\n",
       "         [0.06029323],\n",
       "         [0.20149671],\n",
       "         [0.20149671],\n",
       "         [0.58730374],\n",
       "         [0.58730374],\n",
       "         [0.79779807],\n",
       "         [0.79779807],\n",
       "         [0.64216184],\n",
       "         [0.64216184],\n",
       "         [0.27915404],\n",
       "         [0.27915404],\n",
       "         [0.20202706],\n",
       "         [0.20202706],\n",
       "         [0.3251455 ],\n",
       "         [0.3251455 ],\n",
       "         [0.15665443],\n",
       "         [0.15665443],\n",
       "         [0.94346763],\n",
       "         [0.94346763],\n",
       "         [0.82476762],\n",
       "         [0.82476762],\n",
       "         [0.38880369],\n",
       "         [0.38880369],\n",
       "         [0.85101618],\n",
       "         [0.85101618],\n",
       "         [0.92396234],\n",
       "         [0.92396234]])}}"
      ]
     },
     "execution_count": 1,
     "metadata": {},
     "output_type": "execute_result"
    }
   ],
   "source": [
    "ds = load_by_id(run_id_a)\n",
    "ds.get_parameter_data('x1')"
   ]
  },
  {
   "cell_type": "code",
   "execution_count": null,
   "metadata": {},
   "outputs": [],
   "source": []
  }
 ],
 "metadata": {
  "kernelspec": {
   "display_name": "Python 3",
   "language": "python",
   "name": "python3"
  },
  "language_info": {
   "codemirror_mode": {
    "name": "ipython",
    "version": 3
   },
   "file_extension": ".py",
   "mimetype": "text/x-python",
   "name": "python",
   "nbconvert_exporter": "python",
   "pygments_lexer": "ipython3",
   "version": "3.7.9"
  },
  "nbsphinx": {
   "timeout": 600
  },
  "toc": {
   "base_numbering": 1,
   "nav_menu": {},
   "number_sections": true,
   "sideBar": true,
   "skip_h1_title": false,
   "title_cell": "Table of Contents",
   "title_sidebar": "Contents",
   "toc_cell": false,
   "toc_position": {},
   "toc_section_display": true,
   "toc_window_display": false
  },
  "varInspector": {
   "cols": {
    "lenName": 16,
    "lenType": 16,
    "lenVar": 40
   },
   "kernels_config": {
    "python": {
     "delete_cmd_postfix": "",
     "delete_cmd_prefix": "del ",
     "library": "var_list.py",
     "varRefreshCmd": "print(var_dic_list())"
    },
    "r": {
     "delete_cmd_postfix": ") ",
     "delete_cmd_prefix": "rm(",
     "library": "var_list.r",
     "varRefreshCmd": "cat(var_dic_list()) "
    }
   },
   "types_to_exclude": [
    "module",
    "function",
    "builtin_function_or_method",
    "instance",
    "_Feature"
   ],
   "window_display": false
  }
 },
 "nbformat": 4,
 "nbformat_minor": 2
}
