{
 "cells": [
  {
   "cell_type": "markdown",
   "execution_count": 1,
   "metadata": {},
   "source": [
    "# DataSet Performance\n",
    "\n",
    "This notebook shows the trade-off between inserting data into a database row-by-row and as binary blobs. Inserting the data row-by-row means that we have direct access to all the data and may perform queries directly on the values of the data. On the other hand, as we shall see, this is much slower than inserting the data directly as binary blobs."
   ]
  },
  {
   "cell_type": "markdown",
   "execution_count": 1,
   "metadata": {},
   "source": [
    "First, we choose a new location for the database to ensure that we don't add a bunch of benchmarking data to the default one."
   ]
  },
  {
   "cell_type": "code",
   "execution_count": 1,
   "metadata": {
    "execution": {
     "iopub.execute_input": "2020-09-16T08:37:19.930153Z",
     "iopub.status.busy": "2020-09-16T08:37:19.929663Z",
     "iopub.status.idle": "2020-09-16T08:37:20.884095Z",
     "shell.execute_reply": "2020-09-16T08:37:20.884735Z"
    }
   },
   "outputs": [
    {
     "name": "stdout",
     "output_type": "stream",
     "text": [
      "Logging hadn't been started.\n",
      "Activating auto-logging. Current session state plus future input saved.\n",
      "Filename       : /home/vsts/.qcodes/logs/command_history.log\n",
      "Mode           : append\n",
      "Output logging : True\n",
      "Raw input log  : False\n",
      "Timestamping   : True\n",
      "State          : active\n"
     ]
    },
    {
     "name": "stdout",
     "output_type": "stream",
     "text": [
      "Qcodes Logfile : /home/vsts/.qcodes/logs/200916-18373-qcodes.log\n"
     ]
    }
   ],
   "source": [
    "import os\n",
    "cwd = os.getcwd()\n",
    "import qcodes as qc\n",
    "qc.config[\"core\"][\"db_location\"] = os.path.join(cwd, 'testing.db')\n"
   ]
  },
  {
   "cell_type": "code",
   "execution_count": 2,
   "metadata": {
    "execution": {
     "iopub.execute_input": "2020-09-16T08:37:20.892239Z",
     "iopub.status.busy": "2020-09-16T08:37:20.891411Z",
     "iopub.status.idle": "2020-09-16T08:37:21.053897Z",
     "shell.execute_reply": "2020-09-16T08:37:21.053048Z"
    }
   },
   "outputs": [],
   "source": [
    "%matplotlib inline\n",
    "import time\n",
    "import matplotlib.pyplot as plt\n",
    "import numpy as np\n",
    "\n",
    "import qcodes as qc\n",
    "from qcodes.instrument.parameter import ManualParameter\n",
    "from qcodes.dataset.experiment_container import (Experiment,\n",
    "                                                 load_last_experiment,\n",
    "                                                 new_experiment)\n",
    "from qcodes.dataset.sqlite.database import initialise_database\n",
    "from qcodes import load_or_create_experiment\n",
    "from qcodes.dataset.measurements import Measurement"
   ]
  },
  {
   "cell_type": "code",
   "execution_count": 3,
   "metadata": {
    "execution": {
     "iopub.execute_input": "2020-09-16T08:37:21.057786Z",
     "iopub.status.busy": "2020-09-16T08:37:21.057159Z",
     "iopub.status.idle": "2020-09-16T08:37:21.139258Z",
     "shell.execute_reply": "2020-09-16T08:37:21.139644Z"
    }
   },
   "outputs": [
    {
     "name": "stdout",
     "output_type": "stream",
     "text": [
      "\r",
      "0it [00:00, ?it/s]"
     ]
    },
    {
     "name": "stdout",
     "output_type": "stream",
     "text": [
      "\r",
      "Upgrading database; v0 -> v1: : 0it [00:00, ?it/s]"
     ]
    },
    {
     "name": "stdout",
     "output_type": "stream",
     "text": [
      "\r",
      "Upgrading database; v0 -> v1: : 0it [00:00, ?it/s]"
     ]
    },
    {
     "name": "stdout",
     "output_type": "stream",
     "text": [
      "\n",
      "\r",
      "  0%|          | 0/1 [00:00<?, ?it/s]"
     ]
    },
    {
     "name": "stdout",
     "output_type": "stream",
     "text": [
      "\r",
      "Upgrading database; v1 -> v2:   0%|          | 0/1 [00:00<?, ?it/s]"
     ]
    },
    {
     "name": "stdout",
     "output_type": "stream",
     "text": [
      "\r",
      "Upgrading database; v1 -> v2: 100%|██████████| 1/1 [00:00<00:00, 420.27it/s]"
     ]
    },
    {
     "name": "stdout",
     "output_type": "stream",
     "text": [
      "\n",
      "\r",
      "0it [00:00, ?it/s]"
     ]
    },
    {
     "name": "stdout",
     "output_type": "stream",
     "text": [
      "\r",
      "Upgrading database; v2 -> v3: : 0it [00:00, ?it/s]"
     ]
    },
    {
     "name": "stdout",
     "output_type": "stream",
     "text": [
      "\r",
      "Upgrading database; v2 -> v3: : 0it [00:00, ?it/s]"
     ]
    },
    {
     "name": "stdout",
     "output_type": "stream",
     "text": [
      "\n",
      "\r",
      "0it [00:00, ?it/s]"
     ]
    },
    {
     "name": "stdout",
     "output_type": "stream",
     "text": [
      "\r",
      "Upgrading database; v3 -> v4: : 0it [00:00, ?it/s]"
     ]
    },
    {
     "name": "stdout",
     "output_type": "stream",
     "text": [
      "\r",
      "Upgrading database; v3 -> v4: : 0it [00:00, ?it/s]"
     ]
    },
    {
     "name": "stdout",
     "output_type": "stream",
     "text": [
      "\n",
      "\r",
      "  0%|          | 0/1 [00:00<?, ?it/s]"
     ]
    },
    {
     "name": "stdout",
     "output_type": "stream",
     "text": [
      "\r",
      "Upgrading database; v4 -> v5:   0%|          | 0/1 [00:00<?, ?it/s]"
     ]
    },
    {
     "name": "stdout",
     "output_type": "stream",
     "text": [
      "\r",
      "Upgrading database; v4 -> v5: 100%|██████████| 1/1 [00:00<00:00, 620.55it/s]"
     ]
    },
    {
     "name": "stdout",
     "output_type": "stream",
     "text": [
      "\n",
      "\r",
      "0it [00:00, ?it/s]"
     ]
    },
    {
     "name": "stdout",
     "output_type": "stream",
     "text": [
      "\r",
      "Upgrading database; v5 -> v6: : 0it [00:00, ?it/s]"
     ]
    },
    {
     "name": "stdout",
     "output_type": "stream",
     "text": [
      "\r",
      "Upgrading database; v5 -> v6: : 0it [00:00, ?it/s]"
     ]
    },
    {
     "name": "stdout",
     "output_type": "stream",
     "text": [
      "\n",
      "\r",
      "  0%|          | 0/1 [00:00<?, ?it/s]"
     ]
    },
    {
     "name": "stdout",
     "output_type": "stream",
     "text": [
      "\r",
      "Upgrading database; v6 -> v7:   0%|          | 0/1 [00:00<?, ?it/s]"
     ]
    },
    {
     "name": "stdout",
     "output_type": "stream",
     "text": [
      "\r",
      "Upgrading database; v6 -> v7: 100%|██████████| 1/1 [00:00<00:00, 247.82it/s]"
     ]
    },
    {
     "name": "stdout",
     "output_type": "stream",
     "text": [
      "\n",
      "\r",
      "  0%|          | 0/1 [00:00<?, ?it/s]"
     ]
    },
    {
     "name": "stdout",
     "output_type": "stream",
     "text": [
      "\r",
      "Upgrading database; v7 -> v8:   0%|          | 0/1 [00:00<?, ?it/s]"
     ]
    },
    {
     "name": "stdout",
     "output_type": "stream",
     "text": [
      "\r",
      "Upgrading database; v7 -> v8: 100%|██████████| 1/1 [00:00<00:00, 520.84it/s]"
     ]
    },
    {
     "name": "stdout",
     "output_type": "stream",
     "text": [
      "\n",
      "\r",
      "  0%|          | 0/1 [00:00<?, ?it/s]"
     ]
    },
    {
     "name": "stdout",
     "output_type": "stream",
     "text": [
      "\r",
      "Upgrading database; v8 -> v9:   0%|          | 0/1 [00:00<?, ?it/s]"
     ]
    },
    {
     "name": "stdout",
     "output_type": "stream",
     "text": [
      "\r",
      "Upgrading database; v8 -> v9: 100%|██████████| 1/1 [00:00<00:00, 1110.49it/s]"
     ]
    },
    {
     "name": "stdout",
     "output_type": "stream",
     "text": [
      "\n"
     ]
    }
   ],
   "source": [
    "initialise_database()\n",
    "exp = load_or_create_experiment(experiment_name='tutorial_exp', sample_name=\"no sample\")"
   ]
  },
  {
   "cell_type": "markdown",
   "execution_count": 4,
   "metadata": {},
   "source": [
    "Here, we define a simple function to benchmark the time it takes to insert n points with either numeric or array data type.\n",
    "We will compare both the time used to call ``add_result`` and the time used for the full measurement."
   ]
  },
  {
   "cell_type": "code",
   "execution_count": 4,
   "metadata": {
    "execution": {
     "iopub.execute_input": "2020-09-16T08:37:21.148887Z",
     "iopub.status.busy": "2020-09-16T08:37:21.147842Z",
     "iopub.status.idle": "2020-09-16T08:37:21.149373Z",
     "shell.execute_reply": "2020-09-16T08:37:21.149790Z"
    }
   },
   "outputs": [],
   "source": [
    "def insert_data(paramtype, npoints, nreps=1):\n",
    "\n",
    "    meas = Measurement(exp=exp)\n",
    "\n",
    "    x1 = ManualParameter('x1')\n",
    "    x2 = ManualParameter('x2')\n",
    "    x3 = ManualParameter('x3')\n",
    "    y1 = ManualParameter('y1')\n",
    "    y2 = ManualParameter('y2')\n",
    "\n",
    "    meas.register_parameter(x1, paramtype=paramtype)\n",
    "    meas.register_parameter(x2, paramtype=paramtype)\n",
    "    meas.register_parameter(x3, paramtype=paramtype)\n",
    "    meas.register_parameter(y1, setpoints=[x1, x2, x3],\n",
    "                            paramtype=paramtype)\n",
    "    meas.register_parameter(y2, setpoints=[x1, x2, x3],\n",
    "                            paramtype=paramtype)\n",
    "    start = time.perf_counter()\n",
    "    with meas.run() as datasaver:\n",
    "        start_adding = time.perf_counter()\n",
    "        for i in range(nreps):\n",
    "            datasaver.add_result((x1, np.random.rand(npoints)),\n",
    "                                 (x2, np.random.rand(npoints)),\n",
    "                                 (x3, np.random.rand(npoints)),\n",
    "                                 (y1, np.random.rand(npoints)),\n",
    "                                 (y2, np.random.rand(npoints)))\n",
    "        stop_adding = time.perf_counter()\n",
    "        run_id = datasaver.run_id\n",
    "    stop = time.perf_counter()\n",
    "    tot_time = stop - start\n",
    "    add_time = stop_adding - start_adding\n",
    "    return tot_time, add_time, run_id"
   ]
  },
  {
   "cell_type": "markdown",
   "execution_count": 5,
   "metadata": {},
   "source": [
    "## Comparison between numeric/array data and binary blob"
   ]
  },
  {
   "cell_type": "markdown",
   "execution_count": 5,
   "metadata": {},
   "source": [
    "### Case1: Short experiment time"
   ]
  },
  {
   "cell_type": "code",
   "execution_count": 5,
   "metadata": {
    "execution": {
     "iopub.execute_input": "2020-09-16T08:37:21.155186Z",
     "iopub.status.busy": "2020-09-16T08:37:21.154339Z",
     "iopub.status.idle": "2020-09-16T08:37:21.961116Z",
     "shell.execute_reply": "2020-09-16T08:37:21.960645Z"
    }
   },
   "outputs": [
    {
     "name": "stdout",
     "output_type": "stream",
     "text": [
      "Starting experimental run with id: 1. \n",
      "Starting experimental run with id: 2. \n",
      "Starting experimental run with id: 3. \n"
     ]
    },
    {
     "name": "stdout",
     "output_type": "stream",
     "text": [
      "Starting experimental run with id: 4. \n"
     ]
    },
    {
     "name": "stdout",
     "output_type": "stream",
     "text": [
      "Starting experimental run with id: 5. "
     ]
    },
    {
     "name": "stdout",
     "output_type": "stream",
     "text": [
      "\n"
     ]
    },
    {
     "name": "stdout",
     "output_type": "stream",
     "text": [
      "Starting experimental run with id: 6. \n",
      "Starting experimental run with id: 7. \n"
     ]
    },
    {
     "name": "stdout",
     "output_type": "stream",
     "text": [
      "Starting experimental run with id: 8. \n",
      "Starting experimental run with id: 9. \n"
     ]
    },
    {
     "name": "stdout",
     "output_type": "stream",
     "text": [
      "Starting experimental run with id: 10. \n",
      "Starting experimental run with id: 11. \n"
     ]
    },
    {
     "name": "stdout",
     "output_type": "stream",
     "text": [
      "Starting experimental run with id: 12. \n",
      "Starting experimental run with id: 13. \n"
     ]
    },
    {
     "name": "stdout",
     "output_type": "stream",
     "text": [
      "Starting experimental run with id: 14. \n"
     ]
    }
   ],
   "source": [
    "sizes = [1,500,1000,2000,3000,4000,5000]\n",
    "t_numeric = []\n",
    "t_numeric_add = []\n",
    "t_array = []\n",
    "t_array_add = []\n",
    "for size in sizes:\n",
    "    tn, tna, run_id_n =  insert_data('numeric', size)\n",
    "    t_numeric.append(tn)\n",
    "    t_numeric_add.append(tna)\n",
    "\n",
    "    ta, taa, run_id_a =  insert_data('array', size)\n",
    "    t_array.append(ta)\n",
    "    t_array_add.append(taa)"
   ]
  },
  {
   "cell_type": "code",
   "execution_count": 6,
   "metadata": {
    "execution": {
     "iopub.execute_input": "2020-09-16T08:37:21.966124Z",
     "iopub.status.busy": "2020-09-16T08:37:21.965304Z",
     "iopub.status.idle": "2020-09-16T08:37:22.161396Z",
     "shell.execute_reply": "2020-09-16T08:37:22.160832Z"
    }
   },
   "outputs": [
    {
     "data": {
      "image/png": "[encoded data removed]",
      "text/plain": [
       "<Figure size 432x288 with 1 Axes>"
      ]
     },
     "metadata": {
      "needs_background": "light"
     },
     "output_type": "display_data"
    }
   ],
   "source": [
    "fig, ax = plt.subplots(1,1)\n",
    "ax.plot(sizes, t_numeric, 'o-', label='Inserting row-by-row')\n",
    "ax.plot(sizes, t_numeric_add, 'o-', label='Inserting row-by-row: add_result only')\n",
    "ax.plot(sizes, t_array, 'd-', label='Inserting as binary blob')\n",
    "ax.plot(sizes, t_array_add, 'd-', label='Inserting as binary blob: add_result only')\n",
    "ax.legend()\n",
    "ax.set_xlabel('Array length')\n",
    "ax.set_ylabel('Time (s)')\n",
    "fig.tight_layout()"
   ]
  },
  {
   "cell_type": "markdown",
   "execution_count": 7,
   "metadata": {},
   "source": [
    "As shown in the latter figure, the time to setup and and close the experiment is approximately 0.4 sec. In case of small array sizes, the difference between inserting values of data as arrays and inserting them row-by-row is relatively unimportant. At larger array sizes, i.e. above 10000 points, the cost of writing data as individual datapoints starts to become important.\n"
   ]
  },
  {
   "cell_type": "markdown",
   "execution_count": 7,
   "metadata": {},
   "source": [
    "### Case2: Long experiment time "
   ]
  },
  {
   "cell_type": "code",
   "execution_count": 7,
   "metadata": {
    "execution": {
     "iopub.execute_input": "2020-09-16T08:37:22.168841Z",
     "iopub.status.busy": "2020-09-16T08:37:22.168030Z",
     "iopub.status.idle": "2020-09-16T08:38:18.643014Z",
     "shell.execute_reply": "2020-09-16T08:38:18.641494Z"
    }
   },
   "outputs": [
    {
     "name": "stdout",
     "output_type": "stream",
     "text": [
      "Starting experimental run with id: 15. \n",
      "Starting experimental run with id: 16. \n",
      "Starting experimental run with id: 17. \n"
     ]
    },
    {
     "name": "stdout",
     "output_type": "stream",
     "text": [
      "Starting experimental run with id: 18. \n",
      "Starting experimental run with id: 19. \n"
     ]
    },
    {
     "name": "stdout",
     "output_type": "stream",
     "text": [
      "Starting experimental run with id: 20. \n"
     ]
    },
    {
     "name": "stdout",
     "output_type": "stream",
     "text": [
      "Starting experimental run with id: 21. \n"
     ]
    },
    {
     "name": "stdout",
     "output_type": "stream",
     "text": [
      "Starting experimental run with id: 22. \n"
     ]
    },
    {
     "name": "stdout",
     "output_type": "stream",
     "text": [
      "Starting experimental run with id: 23. \n"
     ]
    },
    {
     "name": "stdout",
     "output_type": "stream",
     "text": [
      "Starting experimental run with id: 24. \n"
     ]
    },
    {
     "name": "stdout",
     "output_type": "stream",
     "text": [
      "Starting experimental run with id: 25. \n"
     ]
    },
    {
     "name": "stdout",
     "output_type": "stream",
     "text": [
      "Starting experimental run with id: 26. \n"
     ]
    },
    {
     "name": "stdout",
     "output_type": "stream",
     "text": [
      "Starting experimental run with id: 27. \n"
     ]
    },
    {
     "name": "stdout",
     "output_type": "stream",
     "text": [
      "Starting experimental run with id: 28. \n"
     ]
    }
   ],
   "source": [
    "sizes = [1,500,1000,2000,3000,4000,5000]\n",
    "nreps = 100\n",
    "t_numeric = []\n",
    "t_numeric_add = []\n",
    "t_numeric_run_ids = []\n",
    "t_array = []\n",
    "t_array_add = []\n",
    "t_array_run_ids = []\n",
    "for size in sizes:\n",
    "    tn, tna, run_id_n =  insert_data('numeric', size, nreps=nreps)\n",
    "    t_numeric.append(tn)\n",
    "    t_numeric_add.append(tna)\n",
    "    t_numeric_run_ids.append(run_id_n)\n",
    "\n",
    "    ta, taa, run_id_a =  insert_data('array', size, nreps=nreps)\n",
    "    t_array.append(ta)\n",
    "    t_array_add.append(taa)\n",
    "    t_array_run_ids.append(run_id_a)"
   ]
  },
  {
   "cell_type": "code",
   "execution_count": 8,
   "metadata": {
    "execution": {
     "iopub.execute_input": "2020-09-16T08:38:18.656635Z",
     "iopub.status.busy": "2020-09-16T08:38:18.647907Z",
     "iopub.status.idle": "2020-09-16T08:38:18.840732Z",
     "shell.execute_reply": "2020-09-16T08:38:18.841386Z"
    },
    "scrolled": true
   },
   "outputs": [
    {
     "data": {
      "image/png": "[encoded data removed]",
      "text/plain": [
       "<Figure size 432x288 with 1 Axes>"
      ]
     },
     "metadata": {
      "needs_background": "light"
     },
     "output_type": "display_data"
    }
   ],
   "source": [
    "fig, ax = plt.subplots(1,1)\n",
    "ax.plot(sizes, t_numeric, 'o-', label='Inserting row-by-row')\n",
    "ax.plot(sizes, t_numeric_add, 'o-', label='Inserting row-by-row: add_result only')\n",
    "ax.plot(sizes, t_array, 'd-', label='Inserting as binary blob')\n",
    "ax.plot(sizes, t_array_add, 'd-', label='Inserting as binary blob: add_result only')\n",
    "ax.legend()\n",
    "ax.set_xlabel('Array length')\n",
    "ax.set_ylabel('Time (s)')\n",
    "fig.tight_layout()"
   ]
  },
  {
   "cell_type": "markdown",
   "execution_count": 9,
   "metadata": {},
   "source": [
    "However, as we increase the length of the experiment, as seen here by repeating the insertion 100 times, we see a big difference between inserting values of the data row-by-row and inserting it as a binary blob."
   ]
  },
  {
   "cell_type": "markdown",
   "execution_count": 9,
   "metadata": {},
   "source": [
    "## Loading the data "
   ]
  },
  {
   "cell_type": "code",
   "execution_count": 9,
   "metadata": {
    "execution": {
     "iopub.execute_input": "2020-09-16T08:38:18.846399Z",
     "iopub.status.busy": "2020-09-16T08:38:18.845155Z",
     "iopub.status.idle": "2020-09-16T08:38:18.849173Z",
     "shell.execute_reply": "2020-09-16T08:38:18.848730Z"
    }
   },
   "outputs": [],
   "source": [
    "from qcodes.dataset.data_set import load_by_id\n",
    "from qcodes.dataset.data_export import get_data_by_id"
   ]
  },
  {
   "cell_type": "markdown",
   "execution_count": 10,
   "metadata": {},
   "source": [
    "As usual you can load the data by using the ``load_by_id`` function but you will notice that the different storage methods\n",
    "are reflected in shape of the data as it is retrieved. "
   ]
  },
  {
   "cell_type": "code",
   "execution_count": 10,
   "metadata": {
    "execution": {
     "iopub.execute_input": "2020-09-16T08:38:18.853380Z",
     "iopub.status.busy": "2020-09-16T08:38:18.852385Z",
     "iopub.status.idle": "2020-09-16T08:38:18.854638Z",
     "shell.execute_reply": "2020-09-16T08:38:18.854085Z"
    }
   },
   "outputs": [],
   "source": [
    "run_id_n = t_numeric_run_ids[0]\n",
    "run_id_a = t_array_run_ids[0]"
   ]
  },
  {
   "cell_type": "code",
   "execution_count": 11,
   "metadata": {
    "execution": {
     "iopub.execute_input": "2020-09-16T08:38:18.857596Z",
     "iopub.status.busy": "2020-09-16T08:38:18.857069Z",
     "iopub.status.idle": "2020-09-16T08:38:18.866434Z",
     "shell.execute_reply": "2020-09-16T08:38:18.865961Z"
    },
    "scrolled": true
   },
   "outputs": [
    {
     "data": {
      "text/plain": [
       "{'x1': {'x1': array([0.50050702, 0.50050702, 0.59883232, 0.59883232, 0.4711379 ,\n",
       "         0.4711379 , 0.55899087, 0.55899087, 0.49111386, 0.49111386,\n",
       "         0.18165512, 0.18165512, 0.70238341, 0.70238341, 0.76581549,\n",
       "         0.76581549, 0.02037008, 0.02037008, 0.45624207, 0.45624207,\n",
       "         0.52286909, 0.52286909, 0.06319636, 0.06319636, 0.01793448,\n",
       "         0.01793448, 0.24593115, 0.24593115, 0.62156369, 0.62156369,\n",
       "         0.49471591, 0.49471591, 0.3438487 , 0.3438487 , 0.47918729,\n",
       "         0.47918729, 0.59222316, 0.59222316, 0.04039603, 0.04039603,\n",
       "         0.17736408, 0.17736408, 0.87971276, 0.87971276, 0.51438071,\n",
       "         0.51438071, 0.36588376, 0.36588376, 0.48730676, 0.48730676,\n",
       "         0.81756696, 0.81756696, 0.61604464, 0.61604464, 0.47231447,\n",
       "         0.47231447, 0.30825175, 0.30825175, 0.49043392, 0.49043392,\n",
       "         0.40618518, 0.40618518, 0.87531211, 0.87531211, 0.53136892,\n",
       "         0.53136892, 0.84379759, 0.84379759, 0.22652216, 0.22652216,\n",
       "         0.65073646, 0.65073646, 0.43307062, 0.43307062, 0.88140468,\n",
       "         0.88140468, 0.4514419 , 0.4514419 , 0.93924012, 0.93924012,\n",
       "         0.88043451, 0.88043451, 0.2335054 , 0.2335054 , 0.47058652,\n",
       "         0.47058652, 0.84271566, 0.84271566, 0.88697412, 0.88697412,\n",
       "         0.89694131, 0.89694131, 0.25509991, 0.25509991, 0.31731293,\n",
       "         0.31731293, 0.43609894, 0.43609894, 0.66833242, 0.66833242,\n",
       "         0.5511518 , 0.5511518 , 0.40598673, 0.40598673, 0.0127484 ,\n",
       "         0.0127484 , 0.11483401, 0.11483401, 0.40815946, 0.40815946,\n",
       "         0.35951397, 0.35951397, 0.22228039, 0.22228039, 0.22133742,\n",
       "         0.22133742, 0.1149015 , 0.1149015 , 0.66373752, 0.66373752,\n",
       "         0.90500259, 0.90500259, 0.34583144, 0.34583144, 0.21155978,\n",
       "         0.21155978, 0.60943542, 0.60943542, 0.22465202, 0.22465202,\n",
       "         0.18484915, 0.18484915, 0.31813877, 0.31813877, 0.95483177,\n",
       "         0.95483177, 0.81735015, 0.81735015, 0.38787287, 0.38787287,\n",
       "         0.53275441, 0.53275441, 0.02711509, 0.02711509, 0.87441881,\n",
       "         0.87441881, 0.62825122, 0.62825122, 0.61025899, 0.61025899,\n",
       "         0.4345568 , 0.4345568 , 0.30304845, 0.30304845, 0.62593712,\n",
       "         0.62593712, 0.79243389, 0.79243389, 0.49198258, 0.49198258,\n",
       "         0.35120628, 0.35120628, 0.87863603, 0.87863603, 0.86361823,\n",
       "         0.86361823, 0.8119923 , 0.8119923 , 0.46361595, 0.46361595,\n",
       "         0.71998849, 0.71998849, 0.05586117, 0.05586117, 0.52719264,\n",
       "         0.52719264, 0.27206482, 0.27206482, 0.42467314, 0.42467314,\n",
       "         0.55143661, 0.55143661, 0.54523713, 0.54523713, 0.70024404,\n",
       "         0.70024404, 0.99972783, 0.99972783, 0.912408  , 0.912408  ,\n",
       "         0.9105133 , 0.9105133 , 0.15621322, 0.15621322, 0.15287571,\n",
       "         0.15287571, 0.86254486, 0.86254486, 0.77585377, 0.77585377])}}"
      ]
     },
     "execution_count": 1,
     "metadata": {},
     "output_type": "execute_result"
    }
   ],
   "source": [
    "ds = load_by_id(run_id_n)\n",
    "ds.get_parameter_data('x1')"
   ]
  },
  {
   "cell_type": "markdown",
   "execution_count": 12,
   "metadata": {},
   "source": [
    "And a dataset stored as binary arrays"
   ]
  },
  {
   "cell_type": "code",
   "execution_count": 12,
   "metadata": {
    "execution": {
     "iopub.execute_input": "2020-09-16T08:38:18.869796Z",
     "iopub.status.busy": "2020-09-16T08:38:18.869286Z",
     "iopub.status.idle": "2020-09-16T08:38:18.924040Z",
     "shell.execute_reply": "2020-09-16T08:38:18.924970Z"
    },
    "scrolled": true
   },
   "outputs": [
    {
     "data": {
      "text/plain": [
       "{'x1': {'x1': array([[0.4691488 ],\n",
       "         [0.4691488 ],\n",
       "         [0.68635152],\n",
       "         [0.68635152],\n",
       "         [0.72621568],\n",
       "         [0.72621568],\n",
       "         [0.41830418],\n",
       "         [0.41830418],\n",
       "         [0.87754126],\n",
       "         [0.87754126],\n",
       "         [0.86747584],\n",
       "         [0.86747584],\n",
       "         [0.1289522 ],\n",
       "         [0.1289522 ],\n",
       "         [0.40571373],\n",
       "         [0.40571373],\n",
       "         [0.9072695 ],\n",
       "         [0.9072695 ],\n",
       "         [0.37716846],\n",
       "         [0.37716846],\n",
       "         [0.5532692 ],\n",
       "         [0.5532692 ],\n",
       "         [0.06736984],\n",
       "         [0.06736984],\n",
       "         [0.69603844],\n",
       "         [0.69603844],\n",
       "         [0.61313699],\n",
       "         [0.61313699],\n",
       "         [0.42057988],\n",
       "         [0.42057988],\n",
       "         [0.39015739],\n",
       "         [0.39015739],\n",
       "         [0.24674001],\n",
       "         [0.24674001],\n",
       "         [0.76958679],\n",
       "         [0.76958679],\n",
       "         [0.08373325],\n",
       "         [0.08373325],\n",
       "         [0.30039438],\n",
       "         [0.30039438],\n",
       "         [0.53259204],\n",
       "         [0.53259204],\n",
       "         [0.70570261],\n",
       "         [0.70570261],\n",
       "         [0.88296833],\n",
       "         [0.88296833],\n",
       "         [0.41147168],\n",
       "         [0.41147168],\n",
       "         [0.91735485],\n",
       "         [0.91735485],\n",
       "         [0.7349731 ],\n",
       "         [0.7349731 ],\n",
       "         [0.95906741],\n",
       "         [0.95906741],\n",
       "         [0.48486678],\n",
       "         [0.48486678],\n",
       "         [0.66445723],\n",
       "         [0.66445723],\n",
       "         [0.725264  ],\n",
       "         [0.725264  ],\n",
       "         [0.08535199],\n",
       "         [0.08535199],\n",
       "         [0.10143244],\n",
       "         [0.10143244],\n",
       "         [0.80237002],\n",
       "         [0.80237002],\n",
       "         [0.03816977],\n",
       "         [0.03816977],\n",
       "         [0.37357075],\n",
       "         [0.37357075],\n",
       "         [0.99308749],\n",
       "         [0.99308749],\n",
       "         [0.12064224],\n",
       "         [0.12064224],\n",
       "         [0.76979126],\n",
       "         [0.76979126],\n",
       "         [0.5537128 ],\n",
       "         [0.5537128 ],\n",
       "         [0.92012529],\n",
       "         [0.92012529],\n",
       "         [0.86349915],\n",
       "         [0.86349915],\n",
       "         [0.72237595],\n",
       "         [0.72237595],\n",
       "         [0.38722066],\n",
       "         [0.38722066],\n",
       "         [0.08349474],\n",
       "         [0.08349474],\n",
       "         [0.89390521],\n",
       "         [0.89390521],\n",
       "         [0.31479225],\n",
       "         [0.31479225],\n",
       "         [0.91205082],\n",
       "         [0.91205082],\n",
       "         [0.96221708],\n",
       "         [0.96221708],\n",
       "         [0.12375292],\n",
       "         [0.12375292],\n",
       "         [0.03879434],\n",
       "         [0.03879434],\n",
       "         [0.93282669],\n",
       "         [0.93282669],\n",
       "         [0.43040203],\n",
       "         [0.43040203],\n",
       "         [0.47719024],\n",
       "         [0.47719024],\n",
       "         [0.29069696],\n",
       "         [0.29069696],\n",
       "         [0.3798503 ],\n",
       "         [0.3798503 ],\n",
       "         [0.64316074],\n",
       "         [0.64316074],\n",
       "         [0.67020987],\n",
       "         [0.67020987],\n",
       "         [0.13359964],\n",
       "         [0.13359964],\n",
       "         [0.41632825],\n",
       "         [0.41632825],\n",
       "         [0.3078489 ],\n",
       "         [0.3078489 ],\n",
       "         [0.55559806],\n",
       "         [0.55559806],\n",
       "         [0.58503514],\n",
       "         [0.58503514],\n",
       "         [0.84257733],\n",
       "         [0.84257733],\n",
       "         [0.4748547 ],\n",
       "         [0.4748547 ],\n",
       "         [0.38508438],\n",
       "         [0.38508438],\n",
       "         [0.46151785],\n",
       "         [0.46151785],\n",
       "         [0.29567931],\n",
       "         [0.29567931],\n",
       "         [0.65863487],\n",
       "         [0.65863487],\n",
       "         [0.97041163],\n",
       "         [0.97041163],\n",
       "         [0.844968  ],\n",
       "         [0.844968  ],\n",
       "         [0.28641382],\n",
       "         [0.28641382],\n",
       "         [0.83916847],\n",
       "         [0.83916847],\n",
       "         [0.70659858],\n",
       "         [0.70659858],\n",
       "         [0.99081285],\n",
       "         [0.99081285],\n",
       "         [0.6768983 ],\n",
       "         [0.6768983 ],\n",
       "         [0.89683744],\n",
       "         [0.89683744],\n",
       "         [0.04809998],\n",
       "         [0.04809998],\n",
       "         [0.43332899],\n",
       "         [0.43332899],\n",
       "         [0.75466061],\n",
       "         [0.75466061],\n",
       "         [0.25507143],\n",
       "         [0.25507143],\n",
       "         [0.68186971],\n",
       "         [0.68186971],\n",
       "         [0.16312823],\n",
       "         [0.16312823],\n",
       "         [0.22753366],\n",
       "         [0.22753366],\n",
       "         [0.77852456],\n",
       "         [0.77852456],\n",
       "         [0.70981391],\n",
       "         [0.70981391],\n",
       "         [0.25462282],\n",
       "         [0.25462282],\n",
       "         [0.96521744],\n",
       "         [0.96521744],\n",
       "         [0.11736492],\n",
       "         [0.11736492],\n",
       "         [0.82199716],\n",
       "         [0.82199716],\n",
       "         [0.38995001],\n",
       "         [0.38995001],\n",
       "         [0.82197145],\n",
       "         [0.82197145],\n",
       "         [0.63587955],\n",
       "         [0.63587955],\n",
       "         [0.41243454],\n",
       "         [0.41243454],\n",
       "         [0.93575054],\n",
       "         [0.93575054],\n",
       "         [0.59779966],\n",
       "         [0.59779966],\n",
       "         [0.59497268],\n",
       "         [0.59497268],\n",
       "         [0.85269214],\n",
       "         [0.85269214],\n",
       "         [0.70612278],\n",
       "         [0.70612278],\n",
       "         [0.80411579],\n",
       "         [0.80411579],\n",
       "         [0.94967368],\n",
       "         [0.94967368]])}}"
      ]
     },
     "execution_count": 1,
     "metadata": {},
     "output_type": "execute_result"
    }
   ],
   "source": [
    "ds = load_by_id(run_id_a)\n",
    "ds.get_parameter_data('x1')"
   ]
  },
  {
   "cell_type": "code",
   "execution_count": 13,
   "metadata": {},
   "outputs": [],
   "source": []
  }
 ],
 "metadata": {
  "kernelspec": {
   "display_name": "Python 3",
   "language": "python",
   "name": "python3"
  },
  "language_info": {
   "codemirror_mode": {
    "name": "ipython",
    "version": 3
   },
   "file_extension": ".py",
   "mimetype": "text/x-python",
   "name": "python",
   "nbconvert_exporter": "python",
   "pygments_lexer": "ipython3",
   "version": "3.7.7"
  },
  "nbsphinx": {
   "timeout": 600
  },
  "toc": {
   "base_numbering": 1,
   "nav_menu": {},
   "number_sections": true,
   "sideBar": true,
   "skip_h1_title": false,
   "title_cell": "Table of Contents",
   "title_sidebar": "Contents",
   "toc_cell": false,
   "toc_position": {},
   "toc_section_display": true,
   "toc_window_display": false
  },
  "varInspector": {
   "cols": {
    "lenName": 16,
    "lenType": 16,
    "lenVar": 40
   },
   "kernels_config": {
    "python": {
     "delete_cmd_postfix": "",
     "delete_cmd_prefix": "del ",
     "library": "var_list.py",
     "varRefreshCmd": "print(var_dic_list())"
    },
    "r": {
     "delete_cmd_postfix": ") ",
     "delete_cmd_prefix": "rm(",
     "library": "var_list.r",
     "varRefreshCmd": "cat(var_dic_list()) "
    }
   },
   "types_to_exclude": [
    "module",
    "function",
    "builtin_function_or_method",
    "instance",
    "_Feature"
   ],
   "window_display": false
  }
 },
 "nbformat": 4,
 "nbformat_minor": 2
}
