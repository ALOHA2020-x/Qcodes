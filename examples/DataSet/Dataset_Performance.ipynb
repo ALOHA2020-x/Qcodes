{
 "cells": [
  {
   "cell_type": "markdown",
   "metadata": {},
   "source": [
    "# DataSet Performance\n",
    "\n",
    "This notebook shows the trade-off between inserting data into a database row-by-row and as binary blobs. Inserting the data row-by-row means that we have direct access to all the data and may perform queries directly on the values of the data. On the other hand, as we shall see, this is much slower than inserting the data directly as binary blobs."
   ]
  },
  {
   "cell_type": "markdown",
   "metadata": {},
   "source": [
    "First, we choose a new location for the database to ensure that we don't add a bunch of benchmarking data to the default one."
   ]
  },
  {
   "cell_type": "code",
   "execution_count": 1,
   "metadata": {
    "execution": {
     "iopub.execute_input": "2020-10-26T16:10:04.552299Z",
     "iopub.status.busy": "2020-10-26T16:10:04.551660Z",
     "iopub.status.idle": "2020-10-26T16:10:05.630930Z",
     "shell.execute_reply": "2020-10-26T16:10:05.631437Z"
    }
   },
   "outputs": [
    {
     "name": "stdout",
     "output_type": "stream",
     "text": [
      "Logging hadn't been started.\n",
      "Activating auto-logging. Current session state plus future input saved.\n",
      "Filename       : /home/vsts/.qcodes/logs/command_history.log\n",
      "Mode           : append\n",
      "Output logging : True\n",
      "Raw input log  : False\n",
      "Timestamping   : True\n",
      "State          : active\n"
     ]
    },
    {
     "name": "stdout",
     "output_type": "stream",
     "text": [
      "Qcodes Logfile : /home/vsts/.qcodes/logs/201026-15046-qcodes.log\n"
     ]
    }
   ],
   "source": [
    "import os\n",
    "cwd = os.getcwd()\n",
    "import qcodes as qc\n",
    "qc.config[\"core\"][\"db_location\"] = os.path.join(cwd, 'testing.db')\n"
   ]
  },
  {
   "cell_type": "code",
   "execution_count": 2,
   "metadata": {
    "execution": {
     "iopub.execute_input": "2020-10-26T16:10:05.639957Z",
     "iopub.status.busy": "2020-10-26T16:10:05.638583Z",
     "iopub.status.idle": "2020-10-26T16:10:05.830373Z",
     "shell.execute_reply": "2020-10-26T16:10:05.829551Z"
    }
   },
   "outputs": [],
   "source": [
    "%matplotlib inline\n",
    "import time\n",
    "import matplotlib.pyplot as plt\n",
    "import numpy as np\n",
    "\n",
    "import qcodes as qc\n",
    "from qcodes.instrument.parameter import ManualParameter\n",
    "from qcodes.dataset.experiment_container import (Experiment,\n",
    "                                                 load_last_experiment,\n",
    "                                                 new_experiment)\n",
    "from qcodes.dataset.sqlite.database import initialise_database\n",
    "from qcodes import load_or_create_experiment\n",
    "from qcodes.dataset.measurements import Measurement"
   ]
  },
  {
   "cell_type": "code",
   "execution_count": 3,
   "metadata": {
    "execution": {
     "iopub.execute_input": "2020-10-26T16:10:05.834606Z",
     "iopub.status.busy": "2020-10-26T16:10:05.833824Z",
     "iopub.status.idle": "2020-10-26T16:10:05.956817Z",
     "shell.execute_reply": "2020-10-26T16:10:05.957354Z"
    }
   },
   "outputs": [
    {
     "name": "stdout",
     "output_type": "stream",
     "text": [
      "\r",
      "0it [00:00, ?it/s]"
     ]
    },
    {
     "name": "stdout",
     "output_type": "stream",
     "text": [
      "\r",
      "Upgrading database; v0 -> v1: : 0it [00:00, ?it/s]"
     ]
    },
    {
     "name": "stdout",
     "output_type": "stream",
     "text": [
      "\r",
      "Upgrading database; v0 -> v1: : 0it [00:00, ?it/s]"
     ]
    },
    {
     "name": "stdout",
     "output_type": "stream",
     "text": [
      "\n",
      "\r",
      "  0%|          | 0/1 [00:00<?, ?it/s]"
     ]
    },
    {
     "name": "stdout",
     "output_type": "stream",
     "text": [
      "\r",
      "Upgrading database; v1 -> v2:   0%|          | 0/1 [00:00<?, ?it/s]"
     ]
    },
    {
     "name": "stdout",
     "output_type": "stream",
     "text": [
      "\r",
      "Upgrading database; v1 -> v2: 100%|██████████| 1/1 [00:00<00:00, 486.18it/s]"
     ]
    },
    {
     "name": "stdout",
     "output_type": "stream",
     "text": [
      "\n",
      "\r",
      "0it [00:00, ?it/s]"
     ]
    },
    {
     "name": "stdout",
     "output_type": "stream",
     "text": [
      "\r",
      "Upgrading database; v2 -> v3: : 0it [00:00, ?it/s]"
     ]
    },
    {
     "name": "stdout",
     "output_type": "stream",
     "text": [
      "\r",
      "Upgrading database; v2 -> v3: : 0it [00:00, ?it/s]"
     ]
    },
    {
     "name": "stdout",
     "output_type": "stream",
     "text": [
      "\n",
      "\r",
      "0it [00:00, ?it/s]"
     ]
    },
    {
     "name": "stdout",
     "output_type": "stream",
     "text": [
      "\r",
      "Upgrading database; v3 -> v4: : 0it [00:00, ?it/s]"
     ]
    },
    {
     "name": "stdout",
     "output_type": "stream",
     "text": [
      "\r",
      "Upgrading database; v3 -> v4: : 0it [00:00, ?it/s]"
     ]
    },
    {
     "name": "stdout",
     "output_type": "stream",
     "text": [
      "\n",
      "\r",
      "  0%|          | 0/1 [00:00<?, ?it/s]"
     ]
    },
    {
     "name": "stdout",
     "output_type": "stream",
     "text": [
      "\r",
      "Upgrading database; v4 -> v5:   0%|          | 0/1 [00:00<?, ?it/s]"
     ]
    },
    {
     "name": "stdout",
     "output_type": "stream",
     "text": [
      "\r",
      "Upgrading database; v4 -> v5: 100%|██████████| 1/1 [00:00<00:00, 388.65it/s]"
     ]
    },
    {
     "name": "stdout",
     "output_type": "stream",
     "text": [
      "\n",
      "\r",
      "0it [00:00, ?it/s]"
     ]
    },
    {
     "name": "stdout",
     "output_type": "stream",
     "text": [
      "\r",
      "Upgrading database; v5 -> v6: : 0it [00:00, ?it/s]"
     ]
    },
    {
     "name": "stdout",
     "output_type": "stream",
     "text": [
      "\r",
      "Upgrading database; v5 -> v6: : 0it [00:00, ?it/s]"
     ]
    },
    {
     "name": "stdout",
     "output_type": "stream",
     "text": [
      "\n",
      "\r",
      "  0%|          | 0/1 [00:00<?, ?it/s]"
     ]
    },
    {
     "name": "stdout",
     "output_type": "stream",
     "text": [
      "\r",
      "Upgrading database; v6 -> v7:   0%|          | 0/1 [00:00<?, ?it/s]"
     ]
    },
    {
     "name": "stdout",
     "output_type": "stream",
     "text": [
      "\r",
      "Upgrading database; v6 -> v7: 100%|██████████| 1/1 [00:00<00:00, 326.96it/s]"
     ]
    },
    {
     "name": "stdout",
     "output_type": "stream",
     "text": [
      "\n",
      "\r",
      "  0%|          | 0/1 [00:00<?, ?it/s]"
     ]
    },
    {
     "name": "stdout",
     "output_type": "stream",
     "text": [
      "\r",
      "Upgrading database; v7 -> v8:   0%|          | 0/1 [00:00<?, ?it/s]"
     ]
    },
    {
     "name": "stdout",
     "output_type": "stream",
     "text": [
      "\r",
      "Upgrading database; v7 -> v8: 100%|██████████| 1/1 [00:00<00:00, 718.20it/s]"
     ]
    },
    {
     "name": "stdout",
     "output_type": "stream",
     "text": [
      "\n",
      "\r",
      "  0%|          | 0/1 [00:00<?, ?it/s]"
     ]
    },
    {
     "name": "stdout",
     "output_type": "stream",
     "text": [
      "\r",
      "Upgrading database; v8 -> v9:   0%|          | 0/1 [00:00<?, ?it/s]"
     ]
    },
    {
     "name": "stdout",
     "output_type": "stream",
     "text": [
      "\r",
      "Upgrading database; v8 -> v9: 100%|██████████| 1/1 [00:00<00:00, 544.93it/s]"
     ]
    },
    {
     "name": "stdout",
     "output_type": "stream",
     "text": [
      "\n"
     ]
    }
   ],
   "source": [
    "initialise_database()\n",
    "exp = load_or_create_experiment(experiment_name='tutorial_exp', sample_name=\"no sample\")"
   ]
  },
  {
   "cell_type": "markdown",
   "metadata": {},
   "source": [
    "Here, we define a simple function to benchmark the time it takes to insert n points with either numeric or array data type.\n",
    "We will compare both the time used to call ``add_result`` and the time used for the full measurement."
   ]
  },
  {
   "cell_type": "code",
   "execution_count": 4,
   "metadata": {
    "execution": {
     "iopub.execute_input": "2020-10-26T16:10:05.967106Z",
     "iopub.status.busy": "2020-10-26T16:10:05.965853Z",
     "iopub.status.idle": "2020-10-26T16:10:05.970003Z",
     "shell.execute_reply": "2020-10-26T16:10:05.969442Z"
    }
   },
   "outputs": [],
   "source": [
    "def insert_data(paramtype, npoints, nreps=1):\n",
    "\n",
    "    meas = Measurement(exp=exp)\n",
    "\n",
    "    x1 = ManualParameter('x1')\n",
    "    x2 = ManualParameter('x2')\n",
    "    x3 = ManualParameter('x3')\n",
    "    y1 = ManualParameter('y1')\n",
    "    y2 = ManualParameter('y2')\n",
    "\n",
    "    meas.register_parameter(x1, paramtype=paramtype)\n",
    "    meas.register_parameter(x2, paramtype=paramtype)\n",
    "    meas.register_parameter(x3, paramtype=paramtype)\n",
    "    meas.register_parameter(y1, setpoints=[x1, x2, x3],\n",
    "                            paramtype=paramtype)\n",
    "    meas.register_parameter(y2, setpoints=[x1, x2, x3],\n",
    "                            paramtype=paramtype)\n",
    "    start = time.perf_counter()\n",
    "    with meas.run() as datasaver:\n",
    "        start_adding = time.perf_counter()\n",
    "        for i in range(nreps):\n",
    "            datasaver.add_result((x1, np.random.rand(npoints)),\n",
    "                                 (x2, np.random.rand(npoints)),\n",
    "                                 (x3, np.random.rand(npoints)),\n",
    "                                 (y1, np.random.rand(npoints)),\n",
    "                                 (y2, np.random.rand(npoints)))\n",
    "        stop_adding = time.perf_counter()\n",
    "        run_id = datasaver.run_id\n",
    "    stop = time.perf_counter()\n",
    "    tot_time = stop - start\n",
    "    add_time = stop_adding - start_adding\n",
    "    return tot_time, add_time, run_id"
   ]
  },
  {
   "cell_type": "markdown",
   "metadata": {},
   "source": [
    "## Comparison between numeric/array data and binary blob"
   ]
  },
  {
   "cell_type": "markdown",
   "metadata": {},
   "source": [
    "### Case1: Short experiment time"
   ]
  },
  {
   "cell_type": "code",
   "execution_count": 5,
   "metadata": {
    "execution": {
     "iopub.execute_input": "2020-10-26T16:10:05.976635Z",
     "iopub.status.busy": "2020-10-26T16:10:05.976025Z",
     "iopub.status.idle": "2020-10-26T16:10:06.846926Z",
     "shell.execute_reply": "2020-10-26T16:10:06.846082Z"
    }
   },
   "outputs": [
    {
     "name": "stdout",
     "output_type": "stream",
     "text": [
      "Starting experimental run with id: 1. \n",
      "Starting experimental run with id: 2. \n",
      "Starting experimental run with id: 3. \n",
      "Starting experimental run with id: 4. \n"
     ]
    },
    {
     "name": "stdout",
     "output_type": "stream",
     "text": [
      "Starting experimental run with id: 5. \n"
     ]
    },
    {
     "name": "stdout",
     "output_type": "stream",
     "text": [
      "Starting experimental run with id: 6. \n"
     ]
    },
    {
     "name": "stdout",
     "output_type": "stream",
     "text": [
      "Starting experimental run with id: 7. \n"
     ]
    },
    {
     "name": "stdout",
     "output_type": "stream",
     "text": [
      "Starting experimental run with id: 8. \n",
      "Starting experimental run with id: 9. \n"
     ]
    },
    {
     "name": "stdout",
     "output_type": "stream",
     "text": [
      "Starting experimental run with id: 10. \n",
      "Starting experimental run with id: 11. \n"
     ]
    },
    {
     "name": "stdout",
     "output_type": "stream",
     "text": [
      "Starting experimental run with id: 12. \n"
     ]
    },
    {
     "name": "stdout",
     "output_type": "stream",
     "text": [
      "Starting experimental run with id: 13. \n"
     ]
    },
    {
     "name": "stdout",
     "output_type": "stream",
     "text": [
      "Starting experimental run with id: 14. \n"
     ]
    }
   ],
   "source": [
    "sizes = [1,500,1000,2000,3000,4000,5000]\n",
    "t_numeric = []\n",
    "t_numeric_add = []\n",
    "t_array = []\n",
    "t_array_add = []\n",
    "for size in sizes:\n",
    "    tn, tna, run_id_n =  insert_data('numeric', size)\n",
    "    t_numeric.append(tn)\n",
    "    t_numeric_add.append(tna)\n",
    "\n",
    "    ta, taa, run_id_a =  insert_data('array', size)\n",
    "    t_array.append(ta)\n",
    "    t_array_add.append(taa)"
   ]
  },
  {
   "cell_type": "code",
   "execution_count": 6,
   "metadata": {
    "execution": {
     "iopub.execute_input": "2020-10-26T16:10:06.869281Z",
     "iopub.status.busy": "2020-10-26T16:10:06.864788Z",
     "iopub.status.idle": "2020-10-26T16:10:07.075910Z",
     "shell.execute_reply": "2020-10-26T16:10:07.075373Z"
    }
   },
   "outputs": [
    {
     "data": {
      "image/png": "[encoded data removed]",
      "text/plain": [
       "<Figure size 432x288 with 1 Axes>"
      ]
     },
     "metadata": {
      "needs_background": "light"
     },
     "output_type": "display_data"
    }
   ],
   "source": [
    "fig, ax = plt.subplots(1,1)\n",
    "ax.plot(sizes, t_numeric, 'o-', label='Inserting row-by-row')\n",
    "ax.plot(sizes, t_numeric_add, 'o-', label='Inserting row-by-row: add_result only')\n",
    "ax.plot(sizes, t_array, 'd-', label='Inserting as binary blob')\n",
    "ax.plot(sizes, t_array_add, 'd-', label='Inserting as binary blob: add_result only')\n",
    "ax.legend()\n",
    "ax.set_xlabel('Array length')\n",
    "ax.set_ylabel('Time (s)')\n",
    "fig.tight_layout()"
   ]
  },
  {
   "cell_type": "markdown",
   "metadata": {},
   "source": [
    "As shown in the latter figure, the time to setup and and close the experiment is approximately 0.4 sec. In case of small array sizes, the difference between inserting values of data as arrays and inserting them row-by-row is relatively unimportant. At larger array sizes, i.e. above 10000 points, the cost of writing data as individual datapoints starts to become important.\n"
   ]
  },
  {
   "cell_type": "markdown",
   "metadata": {},
   "source": [
    "### Case2: Long experiment time "
   ]
  },
  {
   "cell_type": "code",
   "execution_count": 7,
   "metadata": {
    "execution": {
     "iopub.execute_input": "2020-10-26T16:10:07.083008Z",
     "iopub.status.busy": "2020-10-26T16:10:07.081943Z",
     "iopub.status.idle": "2020-10-26T16:11:06.549380Z",
     "shell.execute_reply": "2020-10-26T16:11:06.549918Z"
    }
   },
   "outputs": [
    {
     "name": "stdout",
     "output_type": "stream",
     "text": [
      "Starting experimental run with id: 15. \n",
      "Starting experimental run with id: 16. \n",
      "Starting experimental run with id: 17. \n"
     ]
    },
    {
     "name": "stdout",
     "output_type": "stream",
     "text": [
      "Starting experimental run with id: 18. \n",
      "Starting experimental run with id: 19. \n"
     ]
    },
    {
     "name": "stdout",
     "output_type": "stream",
     "text": [
      "Starting experimental run with id: 20. \n"
     ]
    },
    {
     "name": "stdout",
     "output_type": "stream",
     "text": [
      "Starting experimental run with id: 21. \n"
     ]
    },
    {
     "name": "stdout",
     "output_type": "stream",
     "text": [
      "Starting experimental run with id: 22. \n"
     ]
    },
    {
     "name": "stdout",
     "output_type": "stream",
     "text": [
      "Starting experimental run with id: 23. \n"
     ]
    },
    {
     "name": "stdout",
     "output_type": "stream",
     "text": [
      "Starting experimental run with id: 24. \n"
     ]
    },
    {
     "name": "stdout",
     "output_type": "stream",
     "text": [
      "Starting experimental run with id: 25. \n"
     ]
    },
    {
     "name": "stdout",
     "output_type": "stream",
     "text": [
      "Starting experimental run with id: 26. \n"
     ]
    },
    {
     "name": "stdout",
     "output_type": "stream",
     "text": [
      "Starting experimental run with id: 27. \n"
     ]
    },
    {
     "name": "stdout",
     "output_type": "stream",
     "text": [
      "Starting experimental run with id: 28. \n"
     ]
    }
   ],
   "source": [
    "sizes = [1,500,1000,2000,3000,4000,5000]\n",
    "nreps = 100\n",
    "t_numeric = []\n",
    "t_numeric_add = []\n",
    "t_numeric_run_ids = []\n",
    "t_array = []\n",
    "t_array_add = []\n",
    "t_array_run_ids = []\n",
    "for size in sizes:\n",
    "    tn, tna, run_id_n =  insert_data('numeric', size, nreps=nreps)\n",
    "    t_numeric.append(tn)\n",
    "    t_numeric_add.append(tna)\n",
    "    t_numeric_run_ids.append(run_id_n)\n",
    "\n",
    "    ta, taa, run_id_a =  insert_data('array', size, nreps=nreps)\n",
    "    t_array.append(ta)\n",
    "    t_array_add.append(taa)\n",
    "    t_array_run_ids.append(run_id_a)"
   ]
  },
  {
   "cell_type": "code",
   "execution_count": 8,
   "metadata": {
    "execution": {
     "iopub.execute_input": "2020-10-26T16:11:06.568307Z",
     "iopub.status.busy": "2020-10-26T16:11:06.566773Z",
     "iopub.status.idle": "2020-10-26T16:11:06.780233Z",
     "shell.execute_reply": "2020-10-26T16:11:06.780675Z"
    },
    "scrolled": true
   },
   "outputs": [
    {
     "data": {
      "image/png": "[encoded data removed]",
      "text/plain": [
       "<Figure size 432x288 with 1 Axes>"
      ]
     },
     "metadata": {
      "needs_background": "light"
     },
     "output_type": "display_data"
    }
   ],
   "source": [
    "fig, ax = plt.subplots(1,1)\n",
    "ax.plot(sizes, t_numeric, 'o-', label='Inserting row-by-row')\n",
    "ax.plot(sizes, t_numeric_add, 'o-', label='Inserting row-by-row: add_result only')\n",
    "ax.plot(sizes, t_array, 'd-', label='Inserting as binary blob')\n",
    "ax.plot(sizes, t_array_add, 'd-', label='Inserting as binary blob: add_result only')\n",
    "ax.legend()\n",
    "ax.set_xlabel('Array length')\n",
    "ax.set_ylabel('Time (s)')\n",
    "fig.tight_layout()"
   ]
  },
  {
   "cell_type": "markdown",
   "metadata": {},
   "source": [
    "However, as we increase the length of the experiment, as seen here by repeating the insertion 100 times, we see a big difference between inserting values of the data row-by-row and inserting it as a binary blob."
   ]
  },
  {
   "cell_type": "markdown",
   "metadata": {},
   "source": [
    "## Loading the data "
   ]
  },
  {
   "cell_type": "code",
   "execution_count": 9,
   "metadata": {
    "execution": {
     "iopub.execute_input": "2020-10-26T16:11:06.784826Z",
     "iopub.status.busy": "2020-10-26T16:11:06.784019Z",
     "iopub.status.idle": "2020-10-26T16:11:06.788179Z",
     "shell.execute_reply": "2020-10-26T16:11:06.787726Z"
    }
   },
   "outputs": [],
   "source": [
    "from qcodes.dataset.data_set import load_by_id\n",
    "from qcodes.dataset.data_export import get_data_by_id"
   ]
  },
  {
   "cell_type": "markdown",
   "metadata": {},
   "source": [
    "As usual you can load the data by using the ``load_by_id`` function but you will notice that the different storage methods\n",
    "are reflected in shape of the data as it is retrieved. "
   ]
  },
  {
   "cell_type": "code",
   "execution_count": 10,
   "metadata": {
    "execution": {
     "iopub.execute_input": "2020-10-26T16:11:06.791775Z",
     "iopub.status.busy": "2020-10-26T16:11:06.791142Z",
     "iopub.status.idle": "2020-10-26T16:11:06.795113Z",
     "shell.execute_reply": "2020-10-26T16:11:06.794426Z"
    }
   },
   "outputs": [],
   "source": [
    "run_id_n = t_numeric_run_ids[0]\n",
    "run_id_a = t_array_run_ids[0]"
   ]
  },
  {
   "cell_type": "code",
   "execution_count": 11,
   "metadata": {
    "execution": {
     "iopub.execute_input": "2020-10-26T16:11:06.798362Z",
     "iopub.status.busy": "2020-10-26T16:11:06.797806Z",
     "iopub.status.idle": "2020-10-26T16:11:06.808290Z",
     "shell.execute_reply": "2020-10-26T16:11:06.807773Z"
    },
    "scrolled": true
   },
   "outputs": [
    {
     "data": {
      "text/plain": [
       "{'x1': {'x1': array([0.24778355, 0.24778355, 0.63628759, 0.63628759, 0.44537815,\n",
       "         0.44537815, 0.27508218, 0.27508218, 0.29843143, 0.29843143,\n",
       "         0.62156769, 0.62156769, 0.08610713, 0.08610713, 0.02795575,\n",
       "         0.02795575, 0.78926445, 0.78926445, 0.03039282, 0.03039282,\n",
       "         0.99128019, 0.99128019, 0.31819577, 0.31819577, 0.15485059,\n",
       "         0.15485059, 0.44392236, 0.44392236, 0.48751446, 0.48751446,\n",
       "         0.95816992, 0.95816992, 0.04376207, 0.04376207, 0.20641244,\n",
       "         0.20641244, 0.28752388, 0.28752388, 0.08529059, 0.08529059,\n",
       "         0.24758405, 0.24758405, 0.06788032, 0.06788032, 0.91285495,\n",
       "         0.91285495, 0.99106535, 0.99106535, 0.30291708, 0.30291708,\n",
       "         0.52195301, 0.52195301, 0.25713255, 0.25713255, 0.97058587,\n",
       "         0.97058587, 0.703761  , 0.703761  , 0.47256288, 0.47256288,\n",
       "         0.1277811 , 0.1277811 , 0.68047493, 0.68047493, 0.54350533,\n",
       "         0.54350533, 0.51317844, 0.51317844, 0.61721869, 0.61721869,\n",
       "         0.98469164, 0.98469164, 0.13719553, 0.13719553, 0.04221268,\n",
       "         0.04221268, 0.12638584, 0.12638584, 0.31779682, 0.31779682,\n",
       "         0.55711627, 0.55711627, 0.46608175, 0.46608175, 0.88012111,\n",
       "         0.88012111, 0.93766348, 0.93766348, 0.01743254, 0.01743254,\n",
       "         0.3204696 , 0.3204696 , 0.65837411, 0.65837411, 0.95107716,\n",
       "         0.95107716, 0.50949538, 0.50949538, 0.6732728 , 0.6732728 ,\n",
       "         0.49905022, 0.49905022, 0.51281771, 0.51281771, 0.24321856,\n",
       "         0.24321856, 0.2403244 , 0.2403244 , 0.14505796, 0.14505796,\n",
       "         0.16307308, 0.16307308, 0.37106922, 0.37106922, 0.99678181,\n",
       "         0.99678181, 0.14336511, 0.14336511, 0.07199321, 0.07199321,\n",
       "         0.62115651, 0.62115651, 0.29515084, 0.29515084, 0.0778053 ,\n",
       "         0.0778053 , 0.60272888, 0.60272888, 0.94855057, 0.94855057,\n",
       "         0.66353153, 0.66353153, 0.62331227, 0.62331227, 0.82937718,\n",
       "         0.82937718, 0.83302911, 0.83302911, 0.07221089, 0.07221089,\n",
       "         0.47720803, 0.47720803, 0.76440721, 0.76440721, 0.04880856,\n",
       "         0.04880856, 0.72984075, 0.72984075, 0.5888953 , 0.5888953 ,\n",
       "         0.75963506, 0.75963506, 0.79783259, 0.79783259, 0.89848114,\n",
       "         0.89848114, 0.40820664, 0.40820664, 0.78181391, 0.78181391,\n",
       "         0.05924829, 0.05924829, 0.30613972, 0.30613972, 0.44475478,\n",
       "         0.44475478, 0.62932567, 0.62932567, 0.15328652, 0.15328652,\n",
       "         0.25684684, 0.25684684, 0.34653313, 0.34653313, 0.83346984,\n",
       "         0.83346984, 0.72381151, 0.72381151, 0.27247981, 0.27247981,\n",
       "         0.98321032, 0.98321032, 0.50811602, 0.50811602, 0.36210794,\n",
       "         0.36210794, 0.43203024, 0.43203024, 0.58291132, 0.58291132,\n",
       "         0.70463631, 0.70463631, 0.15960801, 0.15960801, 0.03492655,\n",
       "         0.03492655, 0.73821623, 0.73821623, 0.97492101, 0.97492101])}}"
      ]
     },
     "execution_count": 1,
     "metadata": {},
     "output_type": "execute_result"
    }
   ],
   "source": [
    "ds = load_by_id(run_id_n)\n",
    "ds.get_parameter_data('x1')"
   ]
  },
  {
   "cell_type": "markdown",
   "metadata": {},
   "source": [
    "And a dataset stored as binary arrays"
   ]
  },
  {
   "cell_type": "code",
   "execution_count": 12,
   "metadata": {
    "execution": {
     "iopub.execute_input": "2020-10-26T16:11:06.812352Z",
     "iopub.status.busy": "2020-10-26T16:11:06.811807Z",
     "iopub.status.idle": "2020-10-26T16:11:06.869886Z",
     "shell.execute_reply": "2020-10-26T16:11:06.869412Z"
    },
    "scrolled": true
   },
   "outputs": [
    {
     "data": {
      "text/plain": [
       "{'x1': {'x1': array([[0.30980764],\n",
       "         [0.30980764],\n",
       "         [0.35476656],\n",
       "         [0.35476656],\n",
       "         [0.53249182],\n",
       "         [0.53249182],\n",
       "         [0.52083004],\n",
       "         [0.52083004],\n",
       "         [0.565382  ],\n",
       "         [0.565382  ],\n",
       "         [0.34445119],\n",
       "         [0.34445119],\n",
       "         [0.66328736],\n",
       "         [0.66328736],\n",
       "         [0.0344881 ],\n",
       "         [0.0344881 ],\n",
       "         [0.69031501],\n",
       "         [0.69031501],\n",
       "         [0.42179786],\n",
       "         [0.42179786],\n",
       "         [0.20067263],\n",
       "         [0.20067263],\n",
       "         [0.61058022],\n",
       "         [0.61058022],\n",
       "         [0.60799006],\n",
       "         [0.60799006],\n",
       "         [0.22233907],\n",
       "         [0.22233907],\n",
       "         [0.80539819],\n",
       "         [0.80539819],\n",
       "         [0.42008524],\n",
       "         [0.42008524],\n",
       "         [0.67379596],\n",
       "         [0.67379596],\n",
       "         [0.68205598],\n",
       "         [0.68205598],\n",
       "         [0.79445024],\n",
       "         [0.79445024],\n",
       "         [0.8834781 ],\n",
       "         [0.8834781 ],\n",
       "         [0.72864263],\n",
       "         [0.72864263],\n",
       "         [0.40885896],\n",
       "         [0.40885896],\n",
       "         [0.13285795],\n",
       "         [0.13285795],\n",
       "         [0.29476379],\n",
       "         [0.29476379],\n",
       "         [0.75387932],\n",
       "         [0.75387932],\n",
       "         [0.48412786],\n",
       "         [0.48412786],\n",
       "         [0.4612892 ],\n",
       "         [0.4612892 ],\n",
       "         [0.05862855],\n",
       "         [0.05862855],\n",
       "         [0.89626751],\n",
       "         [0.89626751],\n",
       "         [0.85748653],\n",
       "         [0.85748653],\n",
       "         [0.08527285],\n",
       "         [0.08527285],\n",
       "         [0.49659518],\n",
       "         [0.49659518],\n",
       "         [0.11260829],\n",
       "         [0.11260829],\n",
       "         [0.56614992],\n",
       "         [0.56614992],\n",
       "         [0.78530674],\n",
       "         [0.78530674],\n",
       "         [0.24098569],\n",
       "         [0.24098569],\n",
       "         [0.71161036],\n",
       "         [0.71161036],\n",
       "         [0.69959014],\n",
       "         [0.69959014],\n",
       "         [0.63494308],\n",
       "         [0.63494308],\n",
       "         [0.15589719],\n",
       "         [0.15589719],\n",
       "         [0.66369782],\n",
       "         [0.66369782],\n",
       "         [0.97911424],\n",
       "         [0.97911424],\n",
       "         [0.85157493],\n",
       "         [0.85157493],\n",
       "         [0.4035201 ],\n",
       "         [0.4035201 ],\n",
       "         [0.56278402],\n",
       "         [0.56278402],\n",
       "         [0.57147157],\n",
       "         [0.57147157],\n",
       "         [0.38590522],\n",
       "         [0.38590522],\n",
       "         [0.88727985],\n",
       "         [0.88727985],\n",
       "         [0.75363058],\n",
       "         [0.75363058],\n",
       "         [0.79052558],\n",
       "         [0.79052558],\n",
       "         [0.68059228],\n",
       "         [0.68059228],\n",
       "         [0.67467923],\n",
       "         [0.67467923],\n",
       "         [0.30852406],\n",
       "         [0.30852406],\n",
       "         [0.77395386],\n",
       "         [0.77395386],\n",
       "         [0.19552126],\n",
       "         [0.19552126],\n",
       "         [0.78505378],\n",
       "         [0.78505378],\n",
       "         [0.13289256],\n",
       "         [0.13289256],\n",
       "         [0.17220561],\n",
       "         [0.17220561],\n",
       "         [0.16507297],\n",
       "         [0.16507297],\n",
       "         [0.59263049],\n",
       "         [0.59263049],\n",
       "         [0.9035598 ],\n",
       "         [0.9035598 ],\n",
       "         [0.73558439],\n",
       "         [0.73558439],\n",
       "         [0.18061732],\n",
       "         [0.18061732],\n",
       "         [0.010062  ],\n",
       "         [0.010062  ],\n",
       "         [0.61399372],\n",
       "         [0.61399372],\n",
       "         [0.27541982],\n",
       "         [0.27541982],\n",
       "         [0.43921607],\n",
       "         [0.43921607],\n",
       "         [0.27388335],\n",
       "         [0.27388335],\n",
       "         [0.47919169],\n",
       "         [0.47919169],\n",
       "         [0.06991651],\n",
       "         [0.06991651],\n",
       "         [0.34066987],\n",
       "         [0.34066987],\n",
       "         [0.51166564],\n",
       "         [0.51166564],\n",
       "         [0.66692216],\n",
       "         [0.66692216],\n",
       "         [0.33234862],\n",
       "         [0.33234862],\n",
       "         [0.19439335],\n",
       "         [0.19439335],\n",
       "         [0.76806089],\n",
       "         [0.76806089],\n",
       "         [0.48433195],\n",
       "         [0.48433195],\n",
       "         [0.45092868],\n",
       "         [0.45092868],\n",
       "         [0.32122286],\n",
       "         [0.32122286],\n",
       "         [0.50049849],\n",
       "         [0.50049849],\n",
       "         [0.12338034],\n",
       "         [0.12338034],\n",
       "         [0.12812451],\n",
       "         [0.12812451],\n",
       "         [0.31172644],\n",
       "         [0.31172644],\n",
       "         [0.45081249],\n",
       "         [0.45081249],\n",
       "         [0.97916051],\n",
       "         [0.97916051],\n",
       "         [0.41794061],\n",
       "         [0.41794061],\n",
       "         [0.61970771],\n",
       "         [0.61970771],\n",
       "         [0.67410034],\n",
       "         [0.67410034],\n",
       "         [0.26372513],\n",
       "         [0.26372513],\n",
       "         [0.20683302],\n",
       "         [0.20683302],\n",
       "         [0.9518899 ],\n",
       "         [0.9518899 ],\n",
       "         [0.20135629],\n",
       "         [0.20135629],\n",
       "         [0.46742828],\n",
       "         [0.46742828],\n",
       "         [0.39028243],\n",
       "         [0.39028243],\n",
       "         [0.05906446],\n",
       "         [0.05906446],\n",
       "         [0.41458209],\n",
       "         [0.41458209],\n",
       "         [0.67449505],\n",
       "         [0.67449505],\n",
       "         [0.05876966],\n",
       "         [0.05876966],\n",
       "         [0.57520699],\n",
       "         [0.57520699],\n",
       "         [0.3414848 ],\n",
       "         [0.3414848 ]])}}"
      ]
     },
     "execution_count": 1,
     "metadata": {},
     "output_type": "execute_result"
    }
   ],
   "source": [
    "ds = load_by_id(run_id_a)\n",
    "ds.get_parameter_data('x1')"
   ]
  },
  {
   "cell_type": "code",
   "execution_count": null,
   "metadata": {},
   "outputs": [],
   "source": []
  }
 ],
 "metadata": {
  "kernelspec": {
   "display_name": "Python 3",
   "language": "python",
   "name": "python3"
  },
  "language_info": {
   "codemirror_mode": {
    "name": "ipython",
    "version": 3
   },
   "file_extension": ".py",
   "mimetype": "text/x-python",
   "name": "python",
   "nbconvert_exporter": "python",
   "pygments_lexer": "ipython3",
   "version": "3.7.7"
  },
  "nbsphinx": {
   "timeout": 600
  },
  "toc": {
   "base_numbering": 1,
   "nav_menu": {},
   "number_sections": true,
   "sideBar": true,
   "skip_h1_title": false,
   "title_cell": "Table of Contents",
   "title_sidebar": "Contents",
   "toc_cell": false,
   "toc_position": {},
   "toc_section_display": true,
   "toc_window_display": false
  },
  "varInspector": {
   "cols": {
    "lenName": 16,
    "lenType": 16,
    "lenVar": 40
   },
   "kernels_config": {
    "python": {
     "delete_cmd_postfix": "",
     "delete_cmd_prefix": "del ",
     "library": "var_list.py",
     "varRefreshCmd": "print(var_dic_list())"
    },
    "r": {
     "delete_cmd_postfix": ") ",
     "delete_cmd_prefix": "rm(",
     "library": "var_list.r",
     "varRefreshCmd": "cat(var_dic_list()) "
    }
   },
   "types_to_exclude": [
    "module",
    "function",
    "builtin_function_or_method",
    "instance",
    "_Feature"
   ],
   "window_display": false
  }
 },
 "nbformat": 4,
 "nbformat_minor": 2
}
