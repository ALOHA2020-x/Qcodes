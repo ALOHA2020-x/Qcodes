{
 "cells": [
  {
   "cell_type": "markdown",
   "metadata": {},
   "source": [
    "# DataSet Performance\n",
    "\n",
    "This notebook shows the trade-off between inserting data into a database row-by-row and as binary blobs. Inserting the data row-by-row means that we have direct access to all the data and may perform queries directly on the values of the data. On the other hand, as we shall see, this is much slower than inserting the data directly as binary blobs."
   ]
  },
  {
   "cell_type": "markdown",
   "metadata": {},
   "source": [
    "First, we choose a new location for the database to ensure that we don't add a bunch of benchmarking data to the default one."
   ]
  },
  {
   "cell_type": "code",
   "execution_count": 1,
   "metadata": {
    "execution": {
     "iopub.execute_input": "2021-01-30T10:25:33.043665Z",
     "iopub.status.busy": "2021-01-30T10:25:33.043167Z",
     "iopub.status.idle": "2021-01-30T10:25:33.994706Z",
     "shell.execute_reply": "2021-01-30T10:25:33.993638Z"
    }
   },
   "outputs": [
    {
     "name": "stdout",
     "output_type": "stream",
     "text": [
      "Logging hadn't been started.\n",
      "Activating auto-logging. Current session state plus future input saved.\n",
      "Filename       : /home/vsts/.qcodes/logs/command_history.log\n",
      "Mode           : append\n",
      "Output logging : True\n",
      "Raw input log  : False\n",
      "Timestamping   : True\n",
      "State          : active\n"
     ]
    },
    {
     "name": "stdout",
     "output_type": "stream",
     "text": [
      "Qcodes Logfile : /home/vsts/.qcodes/logs/210130-14650-qcodes.log\n"
     ]
    }
   ],
   "source": [
    "import os\n",
    "cwd = os.getcwd()\n",
    "import qcodes as qc\n",
    "qc.config[\"core\"][\"db_location\"] = os.path.join(cwd, 'testing.db')\n"
   ]
  },
  {
   "cell_type": "code",
   "execution_count": 2,
   "metadata": {
    "execution": {
     "iopub.execute_input": "2021-01-30T10:25:34.001307Z",
     "iopub.status.busy": "2021-01-30T10:25:33.999790Z",
     "iopub.status.idle": "2021-01-30T10:25:34.186978Z",
     "shell.execute_reply": "2021-01-30T10:25:34.186019Z"
    }
   },
   "outputs": [],
   "source": [
    "%matplotlib inline\n",
    "import time\n",
    "import matplotlib.pyplot as plt\n",
    "import numpy as np\n",
    "\n",
    "import qcodes as qc\n",
    "from qcodes.instrument.parameter import ManualParameter\n",
    "from qcodes.dataset.experiment_container import (Experiment,\n",
    "                                                 load_last_experiment,\n",
    "                                                 new_experiment)\n",
    "from qcodes.dataset.sqlite.database import initialise_database\n",
    "from qcodes import load_or_create_experiment\n",
    "from qcodes.dataset.measurements import Measurement"
   ]
  },
  {
   "cell_type": "code",
   "execution_count": 3,
   "metadata": {
    "execution": {
     "iopub.execute_input": "2021-01-30T10:25:34.191000Z",
     "iopub.status.busy": "2021-01-30T10:25:34.190436Z",
     "iopub.status.idle": "2021-01-30T10:25:34.292662Z",
     "shell.execute_reply": "2021-01-30T10:25:34.292201Z"
    }
   },
   "outputs": [
    {
     "name": "stdout",
     "output_type": "stream",
     "text": [
      "\r",
      "0it [00:00, ?it/s]"
     ]
    },
    {
     "name": "stdout",
     "output_type": "stream",
     "text": [
      "\r",
      "Upgrading database; v0 -> v1: : 0it [00:00, ?it/s]"
     ]
    },
    {
     "name": "stdout",
     "output_type": "stream",
     "text": [
      "\r",
      "Upgrading database; v0 -> v1: : 0it [00:00, ?it/s]"
     ]
    },
    {
     "name": "stdout",
     "output_type": "stream",
     "text": [
      "\n",
      "\r",
      "  0%|          | 0/1 [00:00<?, ?it/s]"
     ]
    },
    {
     "name": "stdout",
     "output_type": "stream",
     "text": [
      "\r",
      "Upgrading database; v1 -> v2:   0%|          | 0/1 [00:00<?, ?it/s]"
     ]
    },
    {
     "name": "stdout",
     "output_type": "stream",
     "text": [
      "\r",
      "Upgrading database; v1 -> v2: 100%|██████████| 1/1 [00:00<00:00, 879.12it/s]"
     ]
    },
    {
     "name": "stdout",
     "output_type": "stream",
     "text": [
      "\n",
      "\r",
      "0it [00:00, ?it/s]"
     ]
    },
    {
     "name": "stdout",
     "output_type": "stream",
     "text": [
      "\r",
      "Upgrading database; v2 -> v3: : 0it [00:00, ?it/s]"
     ]
    },
    {
     "name": "stdout",
     "output_type": "stream",
     "text": [
      "\r",
      "Upgrading database; v2 -> v3: : 0it [00:00, ?it/s]"
     ]
    },
    {
     "name": "stdout",
     "output_type": "stream",
     "text": [
      "\n",
      "\r",
      "0it [00:00, ?it/s]"
     ]
    },
    {
     "name": "stdout",
     "output_type": "stream",
     "text": [
      "\r",
      "Upgrading database; v3 -> v4: : 0it [00:00, ?it/s]"
     ]
    },
    {
     "name": "stdout",
     "output_type": "stream",
     "text": [
      "\r",
      "Upgrading database; v3 -> v4: : 0it [00:00, ?it/s]"
     ]
    },
    {
     "name": "stdout",
     "output_type": "stream",
     "text": [
      "\n",
      "\r",
      "  0%|          | 0/1 [00:00<?, ?it/s]"
     ]
    },
    {
     "name": "stdout",
     "output_type": "stream",
     "text": [
      "\r",
      "Upgrading database; v4 -> v5:   0%|          | 0/1 [00:00<?, ?it/s]"
     ]
    },
    {
     "name": "stdout",
     "output_type": "stream",
     "text": [
      "\r",
      "Upgrading database; v4 -> v5: 100%|██████████| 1/1 [00:00<00:00, 530.99it/s]"
     ]
    },
    {
     "name": "stdout",
     "output_type": "stream",
     "text": [
      "\n",
      "\r",
      "0it [00:00, ?it/s]"
     ]
    },
    {
     "name": "stdout",
     "output_type": "stream",
     "text": [
      "\r",
      "Upgrading database; v5 -> v6: : 0it [00:00, ?it/s]"
     ]
    },
    {
     "name": "stdout",
     "output_type": "stream",
     "text": [
      "\r",
      "Upgrading database; v5 -> v6: : 0it [00:00, ?it/s]"
     ]
    },
    {
     "name": "stdout",
     "output_type": "stream",
     "text": [
      "\n",
      "\r",
      "  0%|          | 0/1 [00:00<?, ?it/s]"
     ]
    },
    {
     "name": "stdout",
     "output_type": "stream",
     "text": [
      "\r",
      "Upgrading database; v6 -> v7:   0%|          | 0/1 [00:00<?, ?it/s]"
     ]
    },
    {
     "name": "stdout",
     "output_type": "stream",
     "text": [
      "\r",
      "Upgrading database; v6 -> v7: 100%|██████████| 1/1 [00:00<00:00, 407.21it/s]"
     ]
    },
    {
     "name": "stdout",
     "output_type": "stream",
     "text": [
      "\n",
      "\r",
      "  0%|          | 0/1 [00:00<?, ?it/s]"
     ]
    },
    {
     "name": "stdout",
     "output_type": "stream",
     "text": [
      "\r",
      "Upgrading database; v7 -> v8:   0%|          | 0/1 [00:00<?, ?it/s]"
     ]
    },
    {
     "name": "stdout",
     "output_type": "stream",
     "text": [
      "\r",
      "Upgrading database; v7 -> v8: 100%|██████████| 1/1 [00:00<00:00, 510.19it/s]"
     ]
    },
    {
     "name": "stdout",
     "output_type": "stream",
     "text": [
      "\n",
      "\r",
      "  0%|          | 0/1 [00:00<?, ?it/s]"
     ]
    },
    {
     "name": "stdout",
     "output_type": "stream",
     "text": [
      "\r",
      "Upgrading database; v8 -> v9:   0%|          | 0/1 [00:00<?, ?it/s]"
     ]
    },
    {
     "name": "stdout",
     "output_type": "stream",
     "text": [
      "\r",
      "Upgrading database; v8 -> v9: 100%|██████████| 1/1 [00:00<00:00, 1352.56it/s]"
     ]
    },
    {
     "name": "stdout",
     "output_type": "stream",
     "text": [
      "\n"
     ]
    }
   ],
   "source": [
    "initialise_database()\n",
    "exp = load_or_create_experiment(experiment_name='tutorial_exp', sample_name=\"no sample\")"
   ]
  },
  {
   "cell_type": "markdown",
   "metadata": {},
   "source": [
    "Here, we define a simple function to benchmark the time it takes to insert n points with either numeric or array data type.\n",
    "We will compare both the time used to call ``add_result`` and the time used for the full measurement."
   ]
  },
  {
   "cell_type": "code",
   "execution_count": 4,
   "metadata": {
    "execution": {
     "iopub.execute_input": "2021-01-30T10:25:34.301387Z",
     "iopub.status.busy": "2021-01-30T10:25:34.300136Z",
     "iopub.status.idle": "2021-01-30T10:25:34.302013Z",
     "shell.execute_reply": "2021-01-30T10:25:34.302491Z"
    }
   },
   "outputs": [],
   "source": [
    "def insert_data(paramtype, npoints, nreps=1):\n",
    "\n",
    "    meas = Measurement(exp=exp)\n",
    "\n",
    "    x1 = ManualParameter('x1')\n",
    "    x2 = ManualParameter('x2')\n",
    "    x3 = ManualParameter('x3')\n",
    "    y1 = ManualParameter('y1')\n",
    "    y2 = ManualParameter('y2')\n",
    "\n",
    "    meas.register_parameter(x1, paramtype=paramtype)\n",
    "    meas.register_parameter(x2, paramtype=paramtype)\n",
    "    meas.register_parameter(x3, paramtype=paramtype)\n",
    "    meas.register_parameter(y1, setpoints=[x1, x2, x3],\n",
    "                            paramtype=paramtype)\n",
    "    meas.register_parameter(y2, setpoints=[x1, x2, x3],\n",
    "                            paramtype=paramtype)\n",
    "    start = time.perf_counter()\n",
    "    with meas.run() as datasaver:\n",
    "        start_adding = time.perf_counter()\n",
    "        for i in range(nreps):\n",
    "            datasaver.add_result((x1, np.random.rand(npoints)),\n",
    "                                 (x2, np.random.rand(npoints)),\n",
    "                                 (x3, np.random.rand(npoints)),\n",
    "                                 (y1, np.random.rand(npoints)),\n",
    "                                 (y2, np.random.rand(npoints)))\n",
    "        stop_adding = time.perf_counter()\n",
    "        run_id = datasaver.run_id\n",
    "    stop = time.perf_counter()\n",
    "    tot_time = stop - start\n",
    "    add_time = stop_adding - start_adding\n",
    "    return tot_time, add_time, run_id"
   ]
  },
  {
   "cell_type": "markdown",
   "metadata": {},
   "source": [
    "## Comparison between numeric/array data and binary blob"
   ]
  },
  {
   "cell_type": "markdown",
   "metadata": {},
   "source": [
    "### Case1: Short experiment time"
   ]
  },
  {
   "cell_type": "code",
   "execution_count": 5,
   "metadata": {
    "execution": {
     "iopub.execute_input": "2021-01-30T10:25:34.309119Z",
     "iopub.status.busy": "2021-01-30T10:25:34.308425Z",
     "iopub.status.idle": "2021-01-30T10:25:35.112134Z",
     "shell.execute_reply": "2021-01-30T10:25:35.111615Z"
    }
   },
   "outputs": [
    {
     "name": "stdout",
     "output_type": "stream",
     "text": [
      "Starting experimental run with id: 1. \n",
      "Starting experimental run with id: 2. \n",
      "Starting experimental run with id: 3. \n",
      "Starting experimental run with id: 4. \n",
      "Starting experimental run with id: 5. \n"
     ]
    },
    {
     "name": "stdout",
     "output_type": "stream",
     "text": [
      "Starting experimental run with id: 6. \n"
     ]
    },
    {
     "name": "stdout",
     "output_type": "stream",
     "text": [
      "Starting experimental run with id: 7. \n"
     ]
    },
    {
     "name": "stdout",
     "output_type": "stream",
     "text": [
      "Starting experimental run with id: 8. \n",
      "Starting experimental run with id: 9. \n"
     ]
    },
    {
     "name": "stdout",
     "output_type": "stream",
     "text": [
      "Starting experimental run with id: 10. \n",
      "Starting experimental run with id: 11. \n"
     ]
    },
    {
     "name": "stdout",
     "output_type": "stream",
     "text": [
      "Starting experimental run with id: 12. \n",
      "Starting experimental run with id: 13. \n"
     ]
    },
    {
     "name": "stdout",
     "output_type": "stream",
     "text": [
      "Starting experimental run with id: 14. \n"
     ]
    }
   ],
   "source": [
    "sizes = [1,500,1000,2000,3000,4000,5000]\n",
    "t_numeric = []\n",
    "t_numeric_add = []\n",
    "t_array = []\n",
    "t_array_add = []\n",
    "for size in sizes:\n",
    "    tn, tna, run_id_n =  insert_data('numeric', size)\n",
    "    t_numeric.append(tn)\n",
    "    t_numeric_add.append(tna)\n",
    "\n",
    "    ta, taa, run_id_a =  insert_data('array', size)\n",
    "    t_array.append(ta)\n",
    "    t_array_add.append(taa)"
   ]
  },
  {
   "cell_type": "code",
   "execution_count": 6,
   "metadata": {
    "execution": {
     "iopub.execute_input": "2021-01-30T10:25:35.130636Z",
     "iopub.status.busy": "2021-01-30T10:25:35.130146Z",
     "iopub.status.idle": "2021-01-30T10:25:35.309693Z",
     "shell.execute_reply": "2021-01-30T10:25:35.310256Z"
    }
   },
   "outputs": [
    {
     "data": {
      "image/png": "[encoded data removed]",
      "text/plain": [
       "<Figure size 432x288 with 1 Axes>"
      ]
     },
     "metadata": {
      "needs_background": "light"
     },
     "output_type": "display_data"
    }
   ],
   "source": [
    "fig, ax = plt.subplots(1,1)\n",
    "ax.plot(sizes, t_numeric, 'o-', label='Inserting row-by-row')\n",
    "ax.plot(sizes, t_numeric_add, 'o-', label='Inserting row-by-row: add_result only')\n",
    "ax.plot(sizes, t_array, 'd-', label='Inserting as binary blob')\n",
    "ax.plot(sizes, t_array_add, 'd-', label='Inserting as binary blob: add_result only')\n",
    "ax.legend()\n",
    "ax.set_xlabel('Array length')\n",
    "ax.set_ylabel('Time (s)')\n",
    "fig.tight_layout()"
   ]
  },
  {
   "cell_type": "markdown",
   "metadata": {},
   "source": [
    "As shown in the latter figure, the time to setup and and close the experiment is approximately 0.4 sec. In case of small array sizes, the difference between inserting values of data as arrays and inserting them row-by-row is relatively unimportant. At larger array sizes, i.e. above 10000 points, the cost of writing data as individual datapoints starts to become important.\n"
   ]
  },
  {
   "cell_type": "markdown",
   "metadata": {},
   "source": [
    "### Case2: Long experiment time "
   ]
  },
  {
   "cell_type": "code",
   "execution_count": 7,
   "metadata": {
    "execution": {
     "iopub.execute_input": "2021-01-30T10:25:35.319213Z",
     "iopub.status.busy": "2021-01-30T10:25:35.318140Z",
     "iopub.status.idle": "2021-01-30T10:26:31.654857Z",
     "shell.execute_reply": "2021-01-30T10:26:31.653993Z"
    }
   },
   "outputs": [
    {
     "name": "stdout",
     "output_type": "stream",
     "text": [
      "Starting experimental run with id: 15. \n",
      "Starting experimental run with id: 16. \n",
      "Starting experimental run with id: 17. \n"
     ]
    },
    {
     "name": "stdout",
     "output_type": "stream",
     "text": [
      "Starting experimental run with id: 18. \n",
      "Starting experimental run with id: 19. \n"
     ]
    },
    {
     "name": "stdout",
     "output_type": "stream",
     "text": [
      "Starting experimental run with id: 20. \n"
     ]
    },
    {
     "name": "stdout",
     "output_type": "stream",
     "text": [
      "Starting experimental run with id: 21. \n"
     ]
    },
    {
     "name": "stdout",
     "output_type": "stream",
     "text": [
      "Starting experimental run with id: 22. \n"
     ]
    },
    {
     "name": "stdout",
     "output_type": "stream",
     "text": [
      "Starting experimental run with id: 23. \n"
     ]
    },
    {
     "name": "stdout",
     "output_type": "stream",
     "text": [
      "Starting experimental run with id: 24. \n"
     ]
    },
    {
     "name": "stdout",
     "output_type": "stream",
     "text": [
      "Starting experimental run with id: 25. \n"
     ]
    },
    {
     "name": "stdout",
     "output_type": "stream",
     "text": [
      "Starting experimental run with id: 26. \n"
     ]
    },
    {
     "name": "stdout",
     "output_type": "stream",
     "text": [
      "Starting experimental run with id: 27. \n"
     ]
    },
    {
     "name": "stdout",
     "output_type": "stream",
     "text": [
      "Starting experimental run with id: 28. \n"
     ]
    }
   ],
   "source": [
    "sizes = [1,500,1000,2000,3000,4000,5000]\n",
    "nreps = 100\n",
    "t_numeric = []\n",
    "t_numeric_add = []\n",
    "t_numeric_run_ids = []\n",
    "t_array = []\n",
    "t_array_add = []\n",
    "t_array_run_ids = []\n",
    "for size in sizes:\n",
    "    tn, tna, run_id_n =  insert_data('numeric', size, nreps=nreps)\n",
    "    t_numeric.append(tn)\n",
    "    t_numeric_add.append(tna)\n",
    "    t_numeric_run_ids.append(run_id_n)\n",
    "\n",
    "    ta, taa, run_id_a =  insert_data('array', size, nreps=nreps)\n",
    "    t_array.append(ta)\n",
    "    t_array_add.append(taa)\n",
    "    t_array_run_ids.append(run_id_a)"
   ]
  },
  {
   "cell_type": "code",
   "execution_count": 8,
   "metadata": {
    "execution": {
     "iopub.execute_input": "2021-01-30T10:26:31.678196Z",
     "iopub.status.busy": "2021-01-30T10:26:31.660683Z",
     "iopub.status.idle": "2021-01-30T10:26:31.848224Z",
     "shell.execute_reply": "2021-01-30T10:26:31.848682Z"
    },
    "scrolled": true
   },
   "outputs": [
    {
     "data": {
      "image/png": "[encoded data removed]",
      "text/plain": [
       "<Figure size 432x288 with 1 Axes>"
      ]
     },
     "metadata": {
      "needs_background": "light"
     },
     "output_type": "display_data"
    }
   ],
   "source": [
    "fig, ax = plt.subplots(1,1)\n",
    "ax.plot(sizes, t_numeric, 'o-', label='Inserting row-by-row')\n",
    "ax.plot(sizes, t_numeric_add, 'o-', label='Inserting row-by-row: add_result only')\n",
    "ax.plot(sizes, t_array, 'd-', label='Inserting as binary blob')\n",
    "ax.plot(sizes, t_array_add, 'd-', label='Inserting as binary blob: add_result only')\n",
    "ax.legend()\n",
    "ax.set_xlabel('Array length')\n",
    "ax.set_ylabel('Time (s)')\n",
    "fig.tight_layout()"
   ]
  },
  {
   "cell_type": "markdown",
   "metadata": {},
   "source": [
    "However, as we increase the length of the experiment, as seen here by repeating the insertion 100 times, we see a big difference between inserting values of the data row-by-row and inserting it as a binary blob."
   ]
  },
  {
   "cell_type": "markdown",
   "metadata": {},
   "source": [
    "## Loading the data "
   ]
  },
  {
   "cell_type": "code",
   "execution_count": 9,
   "metadata": {
    "execution": {
     "iopub.execute_input": "2021-01-30T10:26:31.851535Z",
     "iopub.status.busy": "2021-01-30T10:26:31.850964Z",
     "iopub.status.idle": "2021-01-30T10:26:31.854411Z",
     "shell.execute_reply": "2021-01-30T10:26:31.854881Z"
    }
   },
   "outputs": [],
   "source": [
    "from qcodes.dataset.data_set import load_by_id\n",
    "from qcodes.dataset.data_export import get_data_by_id"
   ]
  },
  {
   "cell_type": "markdown",
   "metadata": {},
   "source": [
    "As usual you can load the data by using the ``load_by_id`` function but you will notice that the different storage methods\n",
    "are reflected in shape of the data as it is retrieved. "
   ]
  },
  {
   "cell_type": "code",
   "execution_count": 10,
   "metadata": {
    "execution": {
     "iopub.execute_input": "2021-01-30T10:26:31.859094Z",
     "iopub.status.busy": "2021-01-30T10:26:31.858158Z",
     "iopub.status.idle": "2021-01-30T10:26:31.859667Z",
     "shell.execute_reply": "2021-01-30T10:26:31.860067Z"
    }
   },
   "outputs": [],
   "source": [
    "run_id_n = t_numeric_run_ids[0]\n",
    "run_id_a = t_array_run_ids[0]"
   ]
  },
  {
   "cell_type": "code",
   "execution_count": 11,
   "metadata": {
    "execution": {
     "iopub.execute_input": "2021-01-30T10:26:31.863064Z",
     "iopub.status.busy": "2021-01-30T10:26:31.862558Z",
     "iopub.status.idle": "2021-01-30T10:26:31.871698Z",
     "shell.execute_reply": "2021-01-30T10:26:31.871231Z"
    },
    "scrolled": true
   },
   "outputs": [
    {
     "data": {
      "text/plain": [
       "{'x1': {'x1': array([0.99061874, 0.99061874, 0.73750125, 0.73750125, 0.81879737,\n",
       "         0.81879737, 0.46082138, 0.46082138, 0.39627228, 0.39627228,\n",
       "         0.19717477, 0.19717477, 0.76809292, 0.76809292, 0.70474505,\n",
       "         0.70474505, 0.7204544 , 0.7204544 , 0.10607632, 0.10607632,\n",
       "         0.17635601, 0.17635601, 0.70320074, 0.70320074, 0.81811995,\n",
       "         0.81811995, 0.1352628 , 0.1352628 , 0.28011684, 0.28011684,\n",
       "         0.72153156, 0.72153156, 0.80139759, 0.80139759, 0.24497039,\n",
       "         0.24497039, 0.29966191, 0.29966191, 0.74459975, 0.74459975,\n",
       "         0.91462931, 0.91462931, 0.76960634, 0.76960634, 0.2152787 ,\n",
       "         0.2152787 , 0.01841722, 0.01841722, 0.89742561, 0.89742561,\n",
       "         0.31893577, 0.31893577, 0.67020011, 0.67020011, 0.49776283,\n",
       "         0.49776283, 0.2353473 , 0.2353473 , 0.7671592 , 0.7671592 ,\n",
       "         0.44007484, 0.44007484, 0.33891927, 0.33891927, 0.54945934,\n",
       "         0.54945934, 0.57347753, 0.57347753, 0.43626   , 0.43626   ,\n",
       "         0.67839903, 0.67839903, 0.47617569, 0.47617569, 0.78785707,\n",
       "         0.78785707, 0.61446747, 0.61446747, 0.52290199, 0.52290199,\n",
       "         0.8674569 , 0.8674569 , 0.30198774, 0.30198774, 0.03905893,\n",
       "         0.03905893, 0.46791651, 0.46791651, 0.00362611, 0.00362611,\n",
       "         0.23419927, 0.23419927, 0.08317929, 0.08317929, 0.36286017,\n",
       "         0.36286017, 0.0281872 , 0.0281872 , 0.05063773, 0.05063773,\n",
       "         0.6499775 , 0.6499775 , 0.43509946, 0.43509946, 0.41512647,\n",
       "         0.41512647, 0.87946465, 0.87946465, 0.87614248, 0.87614248,\n",
       "         0.84907859, 0.84907859, 0.63693233, 0.63693233, 0.85513347,\n",
       "         0.85513347, 0.43737924, 0.43737924, 0.08292576, 0.08292576,\n",
       "         0.57735157, 0.57735157, 0.75916376, 0.75916376, 0.28618427,\n",
       "         0.28618427, 0.44989995, 0.44989995, 0.08477386, 0.08477386,\n",
       "         0.17415153, 0.17415153, 0.1101274 , 0.1101274 , 0.11383523,\n",
       "         0.11383523, 0.7493045 , 0.7493045 , 0.18313902, 0.18313902,\n",
       "         0.29240105, 0.29240105, 0.10035143, 0.10035143, 0.19218666,\n",
       "         0.19218666, 0.56808069, 0.56808069, 0.14431867, 0.14431867,\n",
       "         0.86010874, 0.86010874, 0.55969835, 0.55969835, 0.96525106,\n",
       "         0.96525106, 0.53603114, 0.53603114, 0.49357465, 0.49357465,\n",
       "         0.48546094, 0.48546094, 0.49236734, 0.49236734, 0.47000105,\n",
       "         0.47000105, 0.12421549, 0.12421549, 0.68751022, 0.68751022,\n",
       "         0.54168063, 0.54168063, 0.80311053, 0.80311053, 0.97910469,\n",
       "         0.97910469, 0.59407091, 0.59407091, 0.66706878, 0.66706878,\n",
       "         0.83473118, 0.83473118, 0.69826292, 0.69826292, 0.19022582,\n",
       "         0.19022582, 0.40552061, 0.40552061, 0.99798364, 0.99798364,\n",
       "         0.2166966 , 0.2166966 , 0.00581669, 0.00581669, 0.92704443,\n",
       "         0.92704443, 0.03535705, 0.03535705, 0.73710384, 0.73710384])}}"
      ]
     },
     "execution_count": 1,
     "metadata": {},
     "output_type": "execute_result"
    }
   ],
   "source": [
    "ds = load_by_id(run_id_n)\n",
    "ds.get_parameter_data('x1')"
   ]
  },
  {
   "cell_type": "markdown",
   "metadata": {},
   "source": [
    "And a dataset stored as binary arrays"
   ]
  },
  {
   "cell_type": "code",
   "execution_count": 12,
   "metadata": {
    "execution": {
     "iopub.execute_input": "2021-01-30T10:26:31.874889Z",
     "iopub.status.busy": "2021-01-30T10:26:31.874375Z",
     "iopub.status.idle": "2021-01-30T10:26:31.925580Z",
     "shell.execute_reply": "2021-01-30T10:26:31.926065Z"
    },
    "scrolled": true
   },
   "outputs": [
    {
     "data": {
      "text/plain": [
       "{'x1': {'x1': array([[0.83297522],\n",
       "         [0.83297522],\n",
       "         [0.84647677],\n",
       "         [0.84647677],\n",
       "         [0.8931545 ],\n",
       "         [0.8931545 ],\n",
       "         [0.08212045],\n",
       "         [0.08212045],\n",
       "         [0.71395942],\n",
       "         [0.71395942],\n",
       "         [0.93375336],\n",
       "         [0.93375336],\n",
       "         [0.12148069],\n",
       "         [0.12148069],\n",
       "         [0.64167274],\n",
       "         [0.64167274],\n",
       "         [0.67182496],\n",
       "         [0.67182496],\n",
       "         [0.56052051],\n",
       "         [0.56052051],\n",
       "         [0.93976892],\n",
       "         [0.93976892],\n",
       "         [0.40604858],\n",
       "         [0.40604858],\n",
       "         [0.19638213],\n",
       "         [0.19638213],\n",
       "         [0.09319867],\n",
       "         [0.09319867],\n",
       "         [0.32550906],\n",
       "         [0.32550906],\n",
       "         [0.09724564],\n",
       "         [0.09724564],\n",
       "         [0.11589462],\n",
       "         [0.11589462],\n",
       "         [0.91052066],\n",
       "         [0.91052066],\n",
       "         [0.49544395],\n",
       "         [0.49544395],\n",
       "         [0.26908012],\n",
       "         [0.26908012],\n",
       "         [0.86511372],\n",
       "         [0.86511372],\n",
       "         [0.33659207],\n",
       "         [0.33659207],\n",
       "         [0.65406358],\n",
       "         [0.65406358],\n",
       "         [0.36722619],\n",
       "         [0.36722619],\n",
       "         [0.48251319],\n",
       "         [0.48251319],\n",
       "         [0.92165534],\n",
       "         [0.92165534],\n",
       "         [0.54384164],\n",
       "         [0.54384164],\n",
       "         [0.78471026],\n",
       "         [0.78471026],\n",
       "         [0.80149199],\n",
       "         [0.80149199],\n",
       "         [0.49276047],\n",
       "         [0.49276047],\n",
       "         [0.65611355],\n",
       "         [0.65611355],\n",
       "         [0.60743317],\n",
       "         [0.60743317],\n",
       "         [0.78991706],\n",
       "         [0.78991706],\n",
       "         [0.66395336],\n",
       "         [0.66395336],\n",
       "         [0.11985657],\n",
       "         [0.11985657],\n",
       "         [0.6012968 ],\n",
       "         [0.6012968 ],\n",
       "         [0.04796723],\n",
       "         [0.04796723],\n",
       "         [0.35378499],\n",
       "         [0.35378499],\n",
       "         [0.62227144],\n",
       "         [0.62227144],\n",
       "         [0.40397506],\n",
       "         [0.40397506],\n",
       "         [0.08840004],\n",
       "         [0.08840004],\n",
       "         [0.76847144],\n",
       "         [0.76847144],\n",
       "         [0.66414923],\n",
       "         [0.66414923],\n",
       "         [0.70679005],\n",
       "         [0.70679005],\n",
       "         [0.27287435],\n",
       "         [0.27287435],\n",
       "         [0.7479912 ],\n",
       "         [0.7479912 ],\n",
       "         [0.11477667],\n",
       "         [0.11477667],\n",
       "         [0.10288084],\n",
       "         [0.10288084],\n",
       "         [0.97127457],\n",
       "         [0.97127457],\n",
       "         [0.1765127 ],\n",
       "         [0.1765127 ],\n",
       "         [0.83514954],\n",
       "         [0.83514954],\n",
       "         [0.2863908 ],\n",
       "         [0.2863908 ],\n",
       "         [0.15625976],\n",
       "         [0.15625976],\n",
       "         [0.43755882],\n",
       "         [0.43755882],\n",
       "         [0.84330559],\n",
       "         [0.84330559],\n",
       "         [0.44762761],\n",
       "         [0.44762761],\n",
       "         [0.90596   ],\n",
       "         [0.90596   ],\n",
       "         [0.86318991],\n",
       "         [0.86318991],\n",
       "         [0.83748452],\n",
       "         [0.83748452],\n",
       "         [0.65334352],\n",
       "         [0.65334352],\n",
       "         [0.3254146 ],\n",
       "         [0.3254146 ],\n",
       "         [0.2324373 ],\n",
       "         [0.2324373 ],\n",
       "         [0.37620776],\n",
       "         [0.37620776],\n",
       "         [0.27529127],\n",
       "         [0.27529127],\n",
       "         [0.84004898],\n",
       "         [0.84004898],\n",
       "         [0.69212711],\n",
       "         [0.69212711],\n",
       "         [0.78530551],\n",
       "         [0.78530551],\n",
       "         [0.76860851],\n",
       "         [0.76860851],\n",
       "         [0.70495293],\n",
       "         [0.70495293],\n",
       "         [0.84174414],\n",
       "         [0.84174414],\n",
       "         [0.4626043 ],\n",
       "         [0.4626043 ],\n",
       "         [0.40169534],\n",
       "         [0.40169534],\n",
       "         [0.16716167],\n",
       "         [0.16716167],\n",
       "         [0.31427575],\n",
       "         [0.31427575],\n",
       "         [0.0456771 ],\n",
       "         [0.0456771 ],\n",
       "         [0.94017362],\n",
       "         [0.94017362],\n",
       "         [0.24930218],\n",
       "         [0.24930218],\n",
       "         [0.22635778],\n",
       "         [0.22635778],\n",
       "         [0.56709834],\n",
       "         [0.56709834],\n",
       "         [0.57993239],\n",
       "         [0.57993239],\n",
       "         [0.94516881],\n",
       "         [0.94516881],\n",
       "         [0.09916332],\n",
       "         [0.09916332],\n",
       "         [0.41170676],\n",
       "         [0.41170676],\n",
       "         [0.65959244],\n",
       "         [0.65959244],\n",
       "         [0.49505806],\n",
       "         [0.49505806],\n",
       "         [0.90921963],\n",
       "         [0.90921963],\n",
       "         [0.34653589],\n",
       "         [0.34653589],\n",
       "         [0.39968782],\n",
       "         [0.39968782],\n",
       "         [0.83809841],\n",
       "         [0.83809841],\n",
       "         [0.77014715],\n",
       "         [0.77014715],\n",
       "         [0.68792042],\n",
       "         [0.68792042],\n",
       "         [0.6630476 ],\n",
       "         [0.6630476 ],\n",
       "         [0.08582705],\n",
       "         [0.08582705],\n",
       "         [0.96343431],\n",
       "         [0.96343431],\n",
       "         [0.61245835],\n",
       "         [0.61245835],\n",
       "         [0.84085263],\n",
       "         [0.84085263],\n",
       "         [0.31793629],\n",
       "         [0.31793629],\n",
       "         [0.2638652 ],\n",
       "         [0.2638652 ],\n",
       "         [0.62727537],\n",
       "         [0.62727537],\n",
       "         [0.52887794],\n",
       "         [0.52887794]])}}"
      ]
     },
     "execution_count": 1,
     "metadata": {},
     "output_type": "execute_result"
    }
   ],
   "source": [
    "ds = load_by_id(run_id_a)\n",
    "ds.get_parameter_data('x1')"
   ]
  },
  {
   "cell_type": "code",
   "execution_count": null,
   "metadata": {},
   "outputs": [],
   "source": []
  }
 ],
 "metadata": {
  "kernelspec": {
   "display_name": "Python 3",
   "language": "python",
   "name": "python3"
  },
  "language_info": {
   "codemirror_mode": {
    "name": "ipython",
    "version": 3
   },
   "file_extension": ".py",
   "mimetype": "text/x-python",
   "name": "python",
   "nbconvert_exporter": "python",
   "pygments_lexer": "ipython3",
   "version": "3.7.9"
  },
  "nbsphinx": {
   "timeout": 600
  },
  "toc": {
   "base_numbering": 1,
   "nav_menu": {},
   "number_sections": true,
   "sideBar": true,
   "skip_h1_title": false,
   "title_cell": "Table of Contents",
   "title_sidebar": "Contents",
   "toc_cell": false,
   "toc_position": {},
   "toc_section_display": true,
   "toc_window_display": false
  },
  "varInspector": {
   "cols": {
    "lenName": 16,
    "lenType": 16,
    "lenVar": 40
   },
   "kernels_config": {
    "python": {
     "delete_cmd_postfix": "",
     "delete_cmd_prefix": "del ",
     "library": "var_list.py",
     "varRefreshCmd": "print(var_dic_list())"
    },
    "r": {
     "delete_cmd_postfix": ") ",
     "delete_cmd_prefix": "rm(",
     "library": "var_list.r",
     "varRefreshCmd": "cat(var_dic_list()) "
    }
   },
   "types_to_exclude": [
    "module",
    "function",
    "builtin_function_or_method",
    "instance",
    "_Feature"
   ],
   "window_display": false
  }
 },
 "nbformat": 4,
 "nbformat_minor": 2
}
