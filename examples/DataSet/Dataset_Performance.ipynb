{
 "cells": [
  {
   "cell_type": "markdown",
   "metadata": {},
   "source": [
    "# DataSet Performance\n",
    "\n",
    "This notebook shows the trade-off between inserting data into a database row-by-row and as binary blobs. Inserting the data row-by-row means that we have direct access to all the data and may perform queries directly on the values of the data. On the other hand, as we shall see, this is much slower than inserting the data directly as binary blobs."
   ]
  },
  {
   "cell_type": "markdown",
   "metadata": {},
   "source": [
    "First, we choose a new location for the database to ensure that we don't add a bunch of benchmarking data to the default one."
   ]
  },
  {
   "cell_type": "code",
   "execution_count": 1,
   "metadata": {
    "execution": {
     "iopub.execute_input": "2021-02-26T07:36:31.925831Z",
     "iopub.status.busy": "2021-02-26T07:36:31.924623Z",
     "iopub.status.idle": "2021-02-26T07:36:32.887153Z",
     "shell.execute_reply": "2021-02-26T07:36:32.886518Z"
    }
   },
   "outputs": [
    {
     "name": "stdout",
     "output_type": "stream",
     "text": [
      "Logging hadn't been started.\n",
      "Activating auto-logging. Current session state plus future input saved.\n",
      "Filename       : /home/runner/.qcodes/logs/command_history.log\n",
      "Mode           : append\n",
      "Output logging : True\n",
      "Raw input log  : False\n",
      "Timestamping   : True\n",
      "State          : active\n"
     ]
    },
    {
     "name": "stdout",
     "output_type": "stream",
     "text": [
      "Qcodes Logfile : /home/runner/.qcodes/logs/210226-4085-qcodes.log\n"
     ]
    }
   ],
   "source": [
    "import os\n",
    "cwd = os.getcwd()\n",
    "import qcodes as qc\n",
    "qc.config[\"core\"][\"db_location\"] = os.path.join(cwd, 'testing.db')\n"
   ]
  },
  {
   "cell_type": "code",
   "execution_count": 2,
   "metadata": {
    "execution": {
     "iopub.execute_input": "2021-02-26T07:36:32.895504Z",
     "iopub.status.busy": "2021-02-26T07:36:32.893458Z",
     "iopub.status.idle": "2021-02-26T07:36:33.101637Z",
     "shell.execute_reply": "2021-02-26T07:36:33.102149Z"
    }
   },
   "outputs": [],
   "source": [
    "%matplotlib inline\n",
    "import time\n",
    "import matplotlib.pyplot as plt\n",
    "import numpy as np\n",
    "\n",
    "import qcodes as qc\n",
    "from qcodes.instrument.parameter import ManualParameter\n",
    "from qcodes.dataset.experiment_container import (Experiment,\n",
    "                                                 load_last_experiment,\n",
    "                                                 new_experiment)\n",
    "from qcodes.dataset.sqlite.database import initialise_database\n",
    "from qcodes import load_or_create_experiment\n",
    "from qcodes.dataset.measurements import Measurement"
   ]
  },
  {
   "cell_type": "code",
   "execution_count": 3,
   "metadata": {
    "execution": {
     "iopub.execute_input": "2021-02-26T07:36:33.106453Z",
     "iopub.status.busy": "2021-02-26T07:36:33.105731Z",
     "iopub.status.idle": "2021-02-26T07:36:33.406864Z",
     "shell.execute_reply": "2021-02-26T07:36:33.405957Z"
    }
   },
   "outputs": [
    {
     "name": "stdout",
     "output_type": "stream",
     "text": [
      "\r",
      "0it [00:00, ?it/s]"
     ]
    },
    {
     "name": "stdout",
     "output_type": "stream",
     "text": [
      "\r",
      "Upgrading database; v0 -> v1: : 0it [00:00, ?it/s]"
     ]
    },
    {
     "name": "stdout",
     "output_type": "stream",
     "text": [
      "\r",
      "Upgrading database; v0 -> v1: : 0it [00:00, ?it/s]"
     ]
    },
    {
     "name": "stdout",
     "output_type": "stream",
     "text": [
      "\n",
      "\r",
      "  0%|          | 0/1 [00:00<?, ?it/s]"
     ]
    },
    {
     "name": "stdout",
     "output_type": "stream",
     "text": [
      "\r",
      "Upgrading database; v1 -> v2:   0%|          | 0/1 [00:00<?, ?it/s]"
     ]
    },
    {
     "name": "stdout",
     "output_type": "stream",
     "text": [
      "\r",
      "Upgrading database; v1 -> v2: 100%|██████████| 1/1 [00:00<00:00, 373.92it/s]"
     ]
    },
    {
     "name": "stdout",
     "output_type": "stream",
     "text": [
      "\n",
      "\r",
      "0it [00:00, ?it/s]"
     ]
    },
    {
     "name": "stdout",
     "output_type": "stream",
     "text": [
      "\r",
      "Upgrading database; v2 -> v3: : 0it [00:00, ?it/s]"
     ]
    },
    {
     "name": "stdout",
     "output_type": "stream",
     "text": [
      "\r",
      "Upgrading database; v2 -> v3: : 0it [00:00, ?it/s]"
     ]
    },
    {
     "name": "stdout",
     "output_type": "stream",
     "text": [
      "\n",
      "\r",
      "0it [00:00, ?it/s]"
     ]
    },
    {
     "name": "stdout",
     "output_type": "stream",
     "text": [
      "\r",
      "Upgrading database; v3 -> v4: : 0it [00:00, ?it/s]"
     ]
    },
    {
     "name": "stdout",
     "output_type": "stream",
     "text": [
      "\r",
      "Upgrading database; v3 -> v4: : 0it [00:00, ?it/s]"
     ]
    },
    {
     "name": "stdout",
     "output_type": "stream",
     "text": [
      "\n",
      "\r",
      "  0%|          | 0/1 [00:00<?, ?it/s]"
     ]
    },
    {
     "name": "stdout",
     "output_type": "stream",
     "text": [
      "\r",
      "Upgrading database; v4 -> v5:   0%|          | 0/1 [00:00<?, ?it/s]"
     ]
    },
    {
     "name": "stdout",
     "output_type": "stream",
     "text": [
      "\r",
      "Upgrading database; v4 -> v5: 100%|██████████| 1/1 [00:00<00:00, 562.84it/s]"
     ]
    },
    {
     "name": "stdout",
     "output_type": "stream",
     "text": [
      "\n",
      "\r",
      "0it [00:00, ?it/s]"
     ]
    },
    {
     "name": "stdout",
     "output_type": "stream",
     "text": [
      "\r",
      "Upgrading database; v5 -> v6: : 0it [00:00, ?it/s]"
     ]
    },
    {
     "name": "stdout",
     "output_type": "stream",
     "text": [
      "\r",
      "Upgrading database; v5 -> v6: : 0it [00:00, ?it/s]"
     ]
    },
    {
     "name": "stdout",
     "output_type": "stream",
     "text": [
      "\n",
      "\r",
      "  0%|          | 0/1 [00:00<?, ?it/s]"
     ]
    },
    {
     "name": "stdout",
     "output_type": "stream",
     "text": [
      "\r",
      "Upgrading database; v6 -> v7:   0%|          | 0/1 [00:00<?, ?it/s]"
     ]
    },
    {
     "name": "stdout",
     "output_type": "stream",
     "text": [
      "\r",
      "Upgrading database; v6 -> v7: 100%|██████████| 1/1 [00:00<00:00, 74.41it/s]"
     ]
    },
    {
     "name": "stdout",
     "output_type": "stream",
     "text": [
      "\n",
      "\r",
      "  0%|          | 0/1 [00:00<?, ?it/s]"
     ]
    },
    {
     "name": "stdout",
     "output_type": "stream",
     "text": [
      "\r",
      "Upgrading database; v7 -> v8:   0%|          | 0/1 [00:00<?, ?it/s]"
     ]
    },
    {
     "name": "stdout",
     "output_type": "stream",
     "text": [
      "\r",
      "Upgrading database; v7 -> v8: 100%|██████████| 1/1 [00:00<00:00, 385.79it/s]"
     ]
    },
    {
     "name": "stdout",
     "output_type": "stream",
     "text": [
      "\n",
      "\r",
      "  0%|          | 0/1 [00:00<?, ?it/s]"
     ]
    },
    {
     "name": "stdout",
     "output_type": "stream",
     "text": [
      "\r",
      "Upgrading database; v8 -> v9:   0%|          | 0/1 [00:00<?, ?it/s]"
     ]
    },
    {
     "name": "stdout",
     "output_type": "stream",
     "text": [
      "\r",
      "Upgrading database; v8 -> v9: 100%|██████████| 1/1 [00:00<00:00, 766.50it/s]"
     ]
    },
    {
     "name": "stdout",
     "output_type": "stream",
     "text": [
      "\n"
     ]
    }
   ],
   "source": [
    "initialise_database()\n",
    "exp = load_or_create_experiment(experiment_name='tutorial_exp', sample_name=\"no sample\")"
   ]
  },
  {
   "cell_type": "markdown",
   "metadata": {},
   "source": [
    "Here, we define a simple function to benchmark the time it takes to insert n points with either numeric or array data type.\n",
    "We will compare both the time used to call ``add_result`` and the time used for the full measurement."
   ]
  },
  {
   "cell_type": "code",
   "execution_count": 4,
   "metadata": {
    "execution": {
     "iopub.execute_input": "2021-02-26T07:36:33.415971Z",
     "iopub.status.busy": "2021-02-26T07:36:33.415299Z",
     "iopub.status.idle": "2021-02-26T07:36:33.418705Z",
     "shell.execute_reply": "2021-02-26T07:36:33.419252Z"
    }
   },
   "outputs": [],
   "source": [
    "def insert_data(paramtype, npoints, nreps=1):\n",
    "\n",
    "    meas = Measurement(exp=exp)\n",
    "\n",
    "    x1 = ManualParameter('x1')\n",
    "    x2 = ManualParameter('x2')\n",
    "    x3 = ManualParameter('x3')\n",
    "    y1 = ManualParameter('y1')\n",
    "    y2 = ManualParameter('y2')\n",
    "\n",
    "    meas.register_parameter(x1, paramtype=paramtype)\n",
    "    meas.register_parameter(x2, paramtype=paramtype)\n",
    "    meas.register_parameter(x3, paramtype=paramtype)\n",
    "    meas.register_parameter(y1, setpoints=[x1, x2, x3],\n",
    "                            paramtype=paramtype)\n",
    "    meas.register_parameter(y2, setpoints=[x1, x2, x3],\n",
    "                            paramtype=paramtype)\n",
    "    start = time.perf_counter()\n",
    "    with meas.run() as datasaver:\n",
    "        start_adding = time.perf_counter()\n",
    "        for i in range(nreps):\n",
    "            datasaver.add_result((x1, np.random.rand(npoints)),\n",
    "                                 (x2, np.random.rand(npoints)),\n",
    "                                 (x3, np.random.rand(npoints)),\n",
    "                                 (y1, np.random.rand(npoints)),\n",
    "                                 (y2, np.random.rand(npoints)))\n",
    "        stop_adding = time.perf_counter()\n",
    "        run_id = datasaver.run_id\n",
    "    stop = time.perf_counter()\n",
    "    tot_time = stop - start\n",
    "    add_time = stop_adding - start_adding\n",
    "    return tot_time, add_time, run_id"
   ]
  },
  {
   "cell_type": "markdown",
   "metadata": {},
   "source": [
    "## Comparison between numeric/array data and binary blob"
   ]
  },
  {
   "cell_type": "markdown",
   "metadata": {},
   "source": [
    "### Case1: Short experiment time"
   ]
  },
  {
   "cell_type": "code",
   "execution_count": 5,
   "metadata": {
    "execution": {
     "iopub.execute_input": "2021-02-26T07:36:33.426633Z",
     "iopub.status.busy": "2021-02-26T07:36:33.425402Z",
     "iopub.status.idle": "2021-02-26T07:36:34.793122Z",
     "shell.execute_reply": "2021-02-26T07:36:34.792554Z"
    }
   },
   "outputs": [
    {
     "name": "stdout",
     "output_type": "stream",
     "text": [
      "Starting experimental run with id: 1. \n"
     ]
    },
    {
     "name": "stdout",
     "output_type": "stream",
     "text": [
      "Starting experimental run with id: 2. \n"
     ]
    },
    {
     "name": "stdout",
     "output_type": "stream",
     "text": [
      "Starting experimental run with id: 3. \n"
     ]
    },
    {
     "name": "stdout",
     "output_type": "stream",
     "text": [
      "Starting experimental run with id: 4. \n"
     ]
    },
    {
     "name": "stdout",
     "output_type": "stream",
     "text": [
      "Starting experimental run with id: 5. \n"
     ]
    },
    {
     "name": "stdout",
     "output_type": "stream",
     "text": [
      "Starting experimental run with id: 6. \n",
      "Starting experimental run with id: 7. \n"
     ]
    },
    {
     "name": "stdout",
     "output_type": "stream",
     "text": [
      "Starting experimental run with id: 8. \n"
     ]
    },
    {
     "name": "stdout",
     "output_type": "stream",
     "text": [
      "Starting experimental run with id: 9. \n"
     ]
    },
    {
     "name": "stdout",
     "output_type": "stream",
     "text": [
      "Starting experimental run with id: 10. \n"
     ]
    },
    {
     "name": "stdout",
     "output_type": "stream",
     "text": [
      "Starting experimental run with id: 11. \n"
     ]
    },
    {
     "name": "stdout",
     "output_type": "stream",
     "text": [
      "Starting experimental run with id: 12. \n"
     ]
    },
    {
     "name": "stdout",
     "output_type": "stream",
     "text": [
      "Starting experimental run with id: 13. \n"
     ]
    },
    {
     "name": "stdout",
     "output_type": "stream",
     "text": [
      "Starting experimental run with id: 14. \n"
     ]
    }
   ],
   "source": [
    "sizes = [1,500,1000,2000,3000,4000,5000]\n",
    "t_numeric = []\n",
    "t_numeric_add = []\n",
    "t_array = []\n",
    "t_array_add = []\n",
    "for size in sizes:\n",
    "    tn, tna, run_id_n =  insert_data('numeric', size)\n",
    "    t_numeric.append(tn)\n",
    "    t_numeric_add.append(tna)\n",
    "\n",
    "    ta, taa, run_id_a =  insert_data('array', size)\n",
    "    t_array.append(ta)\n",
    "    t_array_add.append(taa)"
   ]
  },
  {
   "cell_type": "code",
   "execution_count": 6,
   "metadata": {
    "execution": {
     "iopub.execute_input": "2021-02-26T07:36:34.814611Z",
     "iopub.status.busy": "2021-02-26T07:36:34.813872Z",
     "iopub.status.idle": "2021-02-26T07:36:35.029333Z",
     "shell.execute_reply": "2021-02-26T07:36:35.029843Z"
    }
   },
   "outputs": [
    {
     "data": {
      "image/png": "[encoded data removed]",
      "text/plain": [
       "<Figure size 432x288 with 1 Axes>"
      ]
     },
     "metadata": {
      "needs_background": "light"
     },
     "output_type": "display_data"
    }
   ],
   "source": [
    "fig, ax = plt.subplots(1,1)\n",
    "ax.plot(sizes, t_numeric, 'o-', label='Inserting row-by-row')\n",
    "ax.plot(sizes, t_numeric_add, 'o-', label='Inserting row-by-row: add_result only')\n",
    "ax.plot(sizes, t_array, 'd-', label='Inserting as binary blob')\n",
    "ax.plot(sizes, t_array_add, 'd-', label='Inserting as binary blob: add_result only')\n",
    "ax.legend()\n",
    "ax.set_xlabel('Array length')\n",
    "ax.set_ylabel('Time (s)')\n",
    "fig.tight_layout()"
   ]
  },
  {
   "cell_type": "markdown",
   "metadata": {},
   "source": [
    "As shown in the latter figure, the time to setup and and close the experiment is approximately 0.4 sec. In case of small array sizes, the difference between inserting values of data as arrays and inserting them row-by-row is relatively unimportant. At larger array sizes, i.e. above 10000 points, the cost of writing data as individual datapoints starts to become important.\n"
   ]
  },
  {
   "cell_type": "markdown",
   "metadata": {},
   "source": [
    "### Case2: Long experiment time "
   ]
  },
  {
   "cell_type": "code",
   "execution_count": 7,
   "metadata": {
    "execution": {
     "iopub.execute_input": "2021-02-26T07:36:35.037724Z",
     "iopub.status.busy": "2021-02-26T07:36:35.035421Z",
     "iopub.status.idle": "2021-02-26T07:37:42.687783Z",
     "shell.execute_reply": "2021-02-26T07:37:42.687178Z"
    }
   },
   "outputs": [
    {
     "name": "stdout",
     "output_type": "stream",
     "text": [
      "Starting experimental run with id: 15. \n",
      "Starting experimental run with id: 16. \n"
     ]
    },
    {
     "name": "stdout",
     "output_type": "stream",
     "text": [
      "Starting experimental run with id: 17. \n"
     ]
    },
    {
     "name": "stdout",
     "output_type": "stream",
     "text": [
      "Starting experimental run with id: 18. \n"
     ]
    },
    {
     "name": "stdout",
     "output_type": "stream",
     "text": [
      "Starting experimental run with id: 19. \n"
     ]
    },
    {
     "name": "stdout",
     "output_type": "stream",
     "text": [
      "Starting experimental run with id: 20. \n"
     ]
    },
    {
     "name": "stdout",
     "output_type": "stream",
     "text": [
      "Starting experimental run with id: 21. \n"
     ]
    },
    {
     "name": "stdout",
     "output_type": "stream",
     "text": [
      "Starting experimental run with id: 22. \n"
     ]
    },
    {
     "name": "stdout",
     "output_type": "stream",
     "text": [
      "Starting experimental run with id: 23. \n"
     ]
    },
    {
     "name": "stdout",
     "output_type": "stream",
     "text": [
      "Starting experimental run with id: 24. \n"
     ]
    },
    {
     "name": "stdout",
     "output_type": "stream",
     "text": [
      "Starting experimental run with id: 25. \n"
     ]
    },
    {
     "name": "stdout",
     "output_type": "stream",
     "text": [
      "Starting experimental run with id: 26. \n"
     ]
    },
    {
     "name": "stdout",
     "output_type": "stream",
     "text": [
      "Starting experimental run with id: 27. \n"
     ]
    },
    {
     "name": "stdout",
     "output_type": "stream",
     "text": [
      "Starting experimental run with id: 28. \n"
     ]
    }
   ],
   "source": [
    "sizes = [1,500,1000,2000,3000,4000,5000]\n",
    "nreps = 100\n",
    "t_numeric = []\n",
    "t_numeric_add = []\n",
    "t_numeric_run_ids = []\n",
    "t_array = []\n",
    "t_array_add = []\n",
    "t_array_run_ids = []\n",
    "for size in sizes:\n",
    "    tn, tna, run_id_n =  insert_data('numeric', size, nreps=nreps)\n",
    "    t_numeric.append(tn)\n",
    "    t_numeric_add.append(tna)\n",
    "    t_numeric_run_ids.append(run_id_n)\n",
    "\n",
    "    ta, taa, run_id_a =  insert_data('array', size, nreps=nreps)\n",
    "    t_array.append(ta)\n",
    "    t_array_add.append(taa)\n",
    "    t_array_run_ids.append(run_id_a)"
   ]
  },
  {
   "cell_type": "code",
   "execution_count": 8,
   "metadata": {
    "execution": {
     "iopub.execute_input": "2021-02-26T07:37:42.711067Z",
     "iopub.status.busy": "2021-02-26T07:37:42.707043Z",
     "iopub.status.idle": "2021-02-26T07:37:42.938946Z",
     "shell.execute_reply": "2021-02-26T07:37:42.938364Z"
    },
    "scrolled": true
   },
   "outputs": [
    {
     "data": {
      "image/png": "[encoded data removed]",
      "text/plain": [
       "<Figure size 432x288 with 1 Axes>"
      ]
     },
     "metadata": {
      "needs_background": "light"
     },
     "output_type": "display_data"
    }
   ],
   "source": [
    "fig, ax = plt.subplots(1,1)\n",
    "ax.plot(sizes, t_numeric, 'o-', label='Inserting row-by-row')\n",
    "ax.plot(sizes, t_numeric_add, 'o-', label='Inserting row-by-row: add_result only')\n",
    "ax.plot(sizes, t_array, 'd-', label='Inserting as binary blob')\n",
    "ax.plot(sizes, t_array_add, 'd-', label='Inserting as binary blob: add_result only')\n",
    "ax.legend()\n",
    "ax.set_xlabel('Array length')\n",
    "ax.set_ylabel('Time (s)')\n",
    "fig.tight_layout()"
   ]
  },
  {
   "cell_type": "markdown",
   "metadata": {},
   "source": [
    "However, as we increase the length of the experiment, as seen here by repeating the insertion 100 times, we see a big difference between inserting values of the data row-by-row and inserting it as a binary blob."
   ]
  },
  {
   "cell_type": "markdown",
   "metadata": {},
   "source": [
    "## Loading the data "
   ]
  },
  {
   "cell_type": "code",
   "execution_count": 9,
   "metadata": {
    "execution": {
     "iopub.execute_input": "2021-02-26T07:37:42.944017Z",
     "iopub.status.busy": "2021-02-26T07:37:42.943256Z",
     "iopub.status.idle": "2021-02-26T07:37:42.946321Z",
     "shell.execute_reply": "2021-02-26T07:37:42.945618Z"
    }
   },
   "outputs": [],
   "source": [
    "from qcodes.dataset.data_set import load_by_id\n",
    "from qcodes.dataset.data_export import get_data_by_id"
   ]
  },
  {
   "cell_type": "markdown",
   "metadata": {},
   "source": [
    "As usual you can load the data by using the ``load_by_id`` function but you will notice that the different storage methods\n",
    "are reflected in shape of the data as it is retrieved. "
   ]
  },
  {
   "cell_type": "code",
   "execution_count": 10,
   "metadata": {
    "execution": {
     "iopub.execute_input": "2021-02-26T07:37:42.951403Z",
     "iopub.status.busy": "2021-02-26T07:37:42.949928Z",
     "iopub.status.idle": "2021-02-26T07:37:42.952248Z",
     "shell.execute_reply": "2021-02-26T07:37:42.952872Z"
    }
   },
   "outputs": [],
   "source": [
    "run_id_n = t_numeric_run_ids[0]\n",
    "run_id_a = t_array_run_ids[0]"
   ]
  },
  {
   "cell_type": "code",
   "execution_count": 11,
   "metadata": {
    "execution": {
     "iopub.execute_input": "2021-02-26T07:37:42.956568Z",
     "iopub.status.busy": "2021-02-26T07:37:42.955938Z",
     "iopub.status.idle": "2021-02-26T07:37:42.967795Z",
     "shell.execute_reply": "2021-02-26T07:37:42.968337Z"
    },
    "scrolled": true
   },
   "outputs": [
    {
     "data": {
      "text/plain": [
       "{'x1': {'x1': array([1.04054458e-01, 1.04054458e-01, 4.31684581e-01, 4.31684581e-01,\n",
       "         6.08398038e-02, 6.08398038e-02, 1.68400042e-01, 1.68400042e-01,\n",
       "         5.96006700e-01, 5.96006700e-01, 8.17961910e-01, 8.17961910e-01,\n",
       "         7.16930583e-01, 7.16930583e-01, 5.65484387e-01, 5.65484387e-01,\n",
       "         7.60147252e-01, 7.60147252e-01, 4.93223019e-01, 4.93223019e-01,\n",
       "         7.97062072e-01, 7.97062072e-01, 2.20947294e-01, 2.20947294e-01,\n",
       "         3.11216568e-03, 3.11216568e-03, 9.50424554e-01, 9.50424554e-01,\n",
       "         2.04806745e-02, 2.04806745e-02, 5.02991155e-01, 5.02991155e-01,\n",
       "         6.82794245e-01, 6.82794245e-01, 3.54707114e-01, 3.54707114e-01,\n",
       "         2.08414370e-01, 2.08414370e-01, 7.42450086e-01, 7.42450086e-01,\n",
       "         5.15026270e-01, 5.15026270e-01, 5.04240869e-01, 5.04240869e-01,\n",
       "         6.21110310e-01, 6.21110310e-01, 4.75171962e-01, 4.75171962e-01,\n",
       "         1.49579626e-01, 1.49579626e-01, 7.96493269e-03, 7.96493269e-03,\n",
       "         3.92603699e-01, 3.92603699e-01, 9.00540941e-01, 9.00540941e-01,\n",
       "         3.84763241e-01, 3.84763241e-01, 5.05072245e-01, 5.05072245e-01,\n",
       "         2.27024832e-01, 2.27024832e-01, 8.49337763e-01, 8.49337763e-01,\n",
       "         4.13162804e-01, 4.13162804e-01, 1.69392160e-01, 1.69392160e-01,\n",
       "         5.86749649e-01, 5.86749649e-01, 7.89486657e-01, 7.89486657e-01,\n",
       "         4.48205634e-02, 4.48205634e-02, 6.56525807e-01, 6.56525807e-01,\n",
       "         7.62122527e-01, 7.62122527e-01, 8.04724019e-02, 8.04724019e-02,\n",
       "         6.80017161e-02, 6.80017161e-02, 3.09981702e-01, 3.09981702e-01,\n",
       "         7.74258516e-01, 7.74258516e-01, 5.07584176e-01, 5.07584176e-01,\n",
       "         6.97008325e-02, 6.97008325e-02, 7.20329927e-01, 7.20329927e-01,\n",
       "         6.30801748e-02, 6.30801748e-02, 9.42447856e-01, 9.42447856e-01,\n",
       "         7.11417922e-01, 7.11417922e-01, 8.88084251e-01, 8.88084251e-01,\n",
       "         4.63464739e-01, 4.63464739e-01, 1.40447779e-01, 1.40447779e-01,\n",
       "         4.36768770e-01, 4.36768770e-01, 4.98899127e-02, 4.98899127e-02,\n",
       "         6.66545139e-01, 6.66545139e-01, 2.53184742e-01, 2.53184742e-01,\n",
       "         9.37559798e-01, 9.37559798e-01, 3.57689960e-02, 3.57689960e-02,\n",
       "         6.22977266e-01, 6.22977266e-01, 8.16290405e-01, 8.16290405e-01,\n",
       "         3.39401145e-01, 3.39401145e-01, 4.68068429e-01, 4.68068429e-01,\n",
       "         1.89275605e-01, 1.89275605e-01, 8.59645059e-01, 8.59645059e-01,\n",
       "         1.13918668e-01, 1.13918668e-01, 9.83135276e-01, 9.83135276e-01,\n",
       "         1.55648408e-01, 1.55648408e-01, 3.20886346e-01, 3.20886346e-01,\n",
       "         2.84010811e-01, 2.84010811e-01, 4.13370039e-01, 4.13370039e-01,\n",
       "         7.86303802e-01, 7.86303802e-01, 9.93644601e-01, 9.93644601e-01,\n",
       "         1.67014407e-02, 1.67014407e-02, 8.61602170e-01, 8.61602170e-01,\n",
       "         2.87046404e-01, 2.87046404e-01, 8.48372825e-01, 8.48372825e-01,\n",
       "         6.42912564e-01, 6.42912564e-01, 4.21121681e-01, 4.21121681e-01,\n",
       "         1.60393088e-01, 1.60393088e-01, 6.93406352e-01, 6.93406352e-01,\n",
       "         9.73175188e-01, 9.73175188e-01, 2.43131500e-04, 2.43131500e-04,\n",
       "         9.06599661e-01, 9.06599661e-01, 6.57050591e-01, 6.57050591e-01,\n",
       "         7.60319743e-01, 7.60319743e-01, 6.59604281e-01, 6.59604281e-01,\n",
       "         8.00474727e-04, 8.00474727e-04, 5.17419018e-01, 5.17419018e-01,\n",
       "         9.77981480e-01, 9.77981480e-01, 9.59945503e-02, 9.59945503e-02,\n",
       "         5.89877150e-01, 5.89877150e-01, 6.29495245e-01, 6.29495245e-01,\n",
       "         7.97164648e-01, 7.97164648e-01, 4.91607753e-01, 4.91607753e-01,\n",
       "         3.10275986e-01, 3.10275986e-01, 5.89799205e-01, 5.89799205e-01,\n",
       "         4.18560209e-01, 4.18560209e-01, 1.75838944e-01, 1.75838944e-01,\n",
       "         9.65311878e-01, 9.65311878e-01, 6.99209612e-01, 6.99209612e-01])}}"
      ]
     },
     "execution_count": 1,
     "metadata": {},
     "output_type": "execute_result"
    }
   ],
   "source": [
    "ds = load_by_id(run_id_n)\n",
    "ds.get_parameter_data('x1')"
   ]
  },
  {
   "cell_type": "markdown",
   "metadata": {},
   "source": [
    "And a dataset stored as binary arrays"
   ]
  },
  {
   "cell_type": "code",
   "execution_count": 12,
   "metadata": {
    "execution": {
     "iopub.execute_input": "2021-02-26T07:37:42.972585Z",
     "iopub.status.busy": "2021-02-26T07:37:42.971569Z",
     "iopub.status.idle": "2021-02-26T07:37:43.043162Z",
     "shell.execute_reply": "2021-02-26T07:37:43.043817Z"
    },
    "scrolled": true
   },
   "outputs": [
    {
     "data": {
      "text/plain": [
       "{'x1': {'x1': array([[0.85698775],\n",
       "         [0.85698775],\n",
       "         [0.34908266],\n",
       "         [0.34908266],\n",
       "         [0.00938325],\n",
       "         [0.00938325],\n",
       "         [0.87282826],\n",
       "         [0.87282826],\n",
       "         [0.8342681 ],\n",
       "         [0.8342681 ],\n",
       "         [0.56549006],\n",
       "         [0.56549006],\n",
       "         [0.25619651],\n",
       "         [0.25619651],\n",
       "         [0.31142794],\n",
       "         [0.31142794],\n",
       "         [0.58219771],\n",
       "         [0.58219771],\n",
       "         [0.07340818],\n",
       "         [0.07340818],\n",
       "         [0.38259587],\n",
       "         [0.38259587],\n",
       "         [0.54178347],\n",
       "         [0.54178347],\n",
       "         [0.43213757],\n",
       "         [0.43213757],\n",
       "         [0.73580085],\n",
       "         [0.73580085],\n",
       "         [0.25551887],\n",
       "         [0.25551887],\n",
       "         [0.54759948],\n",
       "         [0.54759948],\n",
       "         [0.47810791],\n",
       "         [0.47810791],\n",
       "         [0.1367104 ],\n",
       "         [0.1367104 ],\n",
       "         [0.10003678],\n",
       "         [0.10003678],\n",
       "         [0.13168991],\n",
       "         [0.13168991],\n",
       "         [0.74421923],\n",
       "         [0.74421923],\n",
       "         [0.86482316],\n",
       "         [0.86482316],\n",
       "         [0.40598697],\n",
       "         [0.40598697],\n",
       "         [0.74870592],\n",
       "         [0.74870592],\n",
       "         [0.38634378],\n",
       "         [0.38634378],\n",
       "         [0.43555882],\n",
       "         [0.43555882],\n",
       "         [0.36533046],\n",
       "         [0.36533046],\n",
       "         [0.2291775 ],\n",
       "         [0.2291775 ],\n",
       "         [0.6562162 ],\n",
       "         [0.6562162 ],\n",
       "         [0.66393123],\n",
       "         [0.66393123],\n",
       "         [0.7538174 ],\n",
       "         [0.7538174 ],\n",
       "         [0.66116805],\n",
       "         [0.66116805],\n",
       "         [0.54358159],\n",
       "         [0.54358159],\n",
       "         [0.42122261],\n",
       "         [0.42122261],\n",
       "         [0.4172719 ],\n",
       "         [0.4172719 ],\n",
       "         [0.88732492],\n",
       "         [0.88732492],\n",
       "         [0.29694057],\n",
       "         [0.29694057],\n",
       "         [0.44429731],\n",
       "         [0.44429731],\n",
       "         [0.39285051],\n",
       "         [0.39285051],\n",
       "         [0.89478895],\n",
       "         [0.89478895],\n",
       "         [0.21175863],\n",
       "         [0.21175863],\n",
       "         [0.52962488],\n",
       "         [0.52962488],\n",
       "         [0.34867011],\n",
       "         [0.34867011],\n",
       "         [0.4497863 ],\n",
       "         [0.4497863 ],\n",
       "         [0.85714498],\n",
       "         [0.85714498],\n",
       "         [0.4663479 ],\n",
       "         [0.4663479 ],\n",
       "         [0.65377951],\n",
       "         [0.65377951],\n",
       "         [0.74881309],\n",
       "         [0.74881309],\n",
       "         [0.2943943 ],\n",
       "         [0.2943943 ],\n",
       "         [0.0765152 ],\n",
       "         [0.0765152 ],\n",
       "         [0.65493345],\n",
       "         [0.65493345],\n",
       "         [0.29390147],\n",
       "         [0.29390147],\n",
       "         [0.60990745],\n",
       "         [0.60990745],\n",
       "         [0.8029697 ],\n",
       "         [0.8029697 ],\n",
       "         [0.86269602],\n",
       "         [0.86269602],\n",
       "         [0.02266808],\n",
       "         [0.02266808],\n",
       "         [0.9356716 ],\n",
       "         [0.9356716 ],\n",
       "         [0.71176681],\n",
       "         [0.71176681],\n",
       "         [0.53118522],\n",
       "         [0.53118522],\n",
       "         [0.09445066],\n",
       "         [0.09445066],\n",
       "         [0.27613157],\n",
       "         [0.27613157],\n",
       "         [0.60105148],\n",
       "         [0.60105148],\n",
       "         [0.50528927],\n",
       "         [0.50528927],\n",
       "         [0.55159736],\n",
       "         [0.55159736],\n",
       "         [0.87424684],\n",
       "         [0.87424684],\n",
       "         [0.68297243],\n",
       "         [0.68297243],\n",
       "         [0.1056549 ],\n",
       "         [0.1056549 ],\n",
       "         [0.98708938],\n",
       "         [0.98708938],\n",
       "         [0.54840525],\n",
       "         [0.54840525],\n",
       "         [0.54167596],\n",
       "         [0.54167596],\n",
       "         [0.58087514],\n",
       "         [0.58087514],\n",
       "         [0.96962905],\n",
       "         [0.96962905],\n",
       "         [0.13020047],\n",
       "         [0.13020047],\n",
       "         [0.86128381],\n",
       "         [0.86128381],\n",
       "         [0.8867193 ],\n",
       "         [0.8867193 ],\n",
       "         [0.08320575],\n",
       "         [0.08320575],\n",
       "         [0.75721296],\n",
       "         [0.75721296],\n",
       "         [0.19640302],\n",
       "         [0.19640302],\n",
       "         [0.55718933],\n",
       "         [0.55718933],\n",
       "         [0.77224797],\n",
       "         [0.77224797],\n",
       "         [0.1653967 ],\n",
       "         [0.1653967 ],\n",
       "         [0.92328781],\n",
       "         [0.92328781],\n",
       "         [0.87521531],\n",
       "         [0.87521531],\n",
       "         [0.22079654],\n",
       "         [0.22079654],\n",
       "         [0.56939544],\n",
       "         [0.56939544],\n",
       "         [0.04902413],\n",
       "         [0.04902413],\n",
       "         [0.15255727],\n",
       "         [0.15255727],\n",
       "         [0.4061704 ],\n",
       "         [0.4061704 ],\n",
       "         [0.28977043],\n",
       "         [0.28977043],\n",
       "         [0.1867593 ],\n",
       "         [0.1867593 ],\n",
       "         [0.37637876],\n",
       "         [0.37637876],\n",
       "         [0.79166798],\n",
       "         [0.79166798],\n",
       "         [0.76919296],\n",
       "         [0.76919296],\n",
       "         [0.35381419],\n",
       "         [0.35381419],\n",
       "         [0.96700765],\n",
       "         [0.96700765],\n",
       "         [0.91814134],\n",
       "         [0.91814134],\n",
       "         [0.2007489 ],\n",
       "         [0.2007489 ],\n",
       "         [0.44447479],\n",
       "         [0.44447479],\n",
       "         [0.81913925],\n",
       "         [0.81913925],\n",
       "         [0.59703411],\n",
       "         [0.59703411]])}}"
      ]
     },
     "execution_count": 1,
     "metadata": {},
     "output_type": "execute_result"
    }
   ],
   "source": [
    "ds = load_by_id(run_id_a)\n",
    "ds.get_parameter_data('x1')"
   ]
  },
  {
   "cell_type": "code",
   "execution_count": null,
   "metadata": {},
   "outputs": [],
   "source": []
  }
 ],
 "metadata": {
  "kernelspec": {
   "display_name": "Python 3",
   "language": "python",
   "name": "python3"
  },
  "language_info": {
   "codemirror_mode": {
    "name": "ipython",
    "version": 3
   },
   "file_extension": ".py",
   "mimetype": "text/x-python",
   "name": "python",
   "nbconvert_exporter": "python",
   "pygments_lexer": "ipython3",
   "version": "3.7.10"
  },
  "nbsphinx": {
   "timeout": 600
  },
  "toc": {
   "base_numbering": 1,
   "nav_menu": {},
   "number_sections": true,
   "sideBar": true,
   "skip_h1_title": false,
   "title_cell": "Table of Contents",
   "title_sidebar": "Contents",
   "toc_cell": false,
   "toc_position": {},
   "toc_section_display": true,
   "toc_window_display": false
  },
  "varInspector": {
   "cols": {
    "lenName": 16,
    "lenType": 16,
    "lenVar": 40
   },
   "kernels_config": {
    "python": {
     "delete_cmd_postfix": "",
     "delete_cmd_prefix": "del ",
     "library": "var_list.py",
     "varRefreshCmd": "print(var_dic_list())"
    },
    "r": {
     "delete_cmd_postfix": ") ",
     "delete_cmd_prefix": "rm(",
     "library": "var_list.r",
     "varRefreshCmd": "cat(var_dic_list()) "
    }
   },
   "types_to_exclude": [
    "module",
    "function",
    "builtin_function_or_method",
    "instance",
    "_Feature"
   ],
   "window_display": false
  }
 },
 "nbformat": 4,
 "nbformat_minor": 2
}
