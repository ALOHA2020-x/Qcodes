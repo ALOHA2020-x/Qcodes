{
 "cells": [
  {
   "cell_type": "markdown",
   "metadata": {},
   "source": [
    "# DataSet Performance\n",
    "\n",
    "This notebook shows the trade-off between inserting data into a database row-by-row and as binary blobs. Inserting the data row-by-row means that we have direct access to all the data and may perform queries directly on the values of the data. On the other hand, as we shall see, this is much slower than inserting the data directly as binary blobs."
   ]
  },
  {
   "cell_type": "markdown",
   "metadata": {},
   "source": [
    "First, we choose a new location for the database to ensure that we don't add a bunch of benchmarking data to the default one."
   ]
  },
  {
   "cell_type": "code",
   "execution_count": 1,
   "metadata": {
    "execution": {
     "iopub.execute_input": "2020-12-17T10:04:31.031887Z",
     "iopub.status.busy": "2020-12-17T10:04:31.031269Z",
     "iopub.status.idle": "2020-12-17T10:04:32.118730Z",
     "shell.execute_reply": "2020-12-17T10:04:32.119283Z"
    }
   },
   "outputs": [
    {
     "name": "stdout",
     "output_type": "stream",
     "text": [
      "Logging hadn't been started.\n",
      "Activating auto-logging. Current session state plus future input saved.\n",
      "Filename       : /home/vsts/.qcodes/logs/command_history.log\n",
      "Mode           : append\n",
      "Output logging : True\n",
      "Raw input log  : False\n",
      "Timestamping   : True\n",
      "State          : active\n"
     ]
    },
    {
     "name": "stdout",
     "output_type": "stream",
     "text": [
      "Qcodes Logfile : /home/vsts/.qcodes/logs/201217-14007-qcodes.log\n"
     ]
    }
   ],
   "source": [
    "import os\n",
    "cwd = os.getcwd()\n",
    "import qcodes as qc\n",
    "qc.config[\"core\"][\"db_location\"] = os.path.join(cwd, 'testing.db')\n"
   ]
  },
  {
   "cell_type": "code",
   "execution_count": 2,
   "metadata": {
    "execution": {
     "iopub.execute_input": "2020-12-17T10:04:32.125880Z",
     "iopub.status.busy": "2020-12-17T10:04:32.125352Z",
     "iopub.status.idle": "2020-12-17T10:04:32.349850Z",
     "shell.execute_reply": "2020-12-17T10:04:32.349092Z"
    }
   },
   "outputs": [],
   "source": [
    "%matplotlib inline\n",
    "import time\n",
    "import matplotlib.pyplot as plt\n",
    "import numpy as np\n",
    "\n",
    "import qcodes as qc\n",
    "from qcodes.instrument.parameter import ManualParameter\n",
    "from qcodes.dataset.experiment_container import (Experiment,\n",
    "                                                 load_last_experiment,\n",
    "                                                 new_experiment)\n",
    "from qcodes.dataset.sqlite.database import initialise_database\n",
    "from qcodes import load_or_create_experiment\n",
    "from qcodes.dataset.measurements import Measurement"
   ]
  },
  {
   "cell_type": "code",
   "execution_count": 3,
   "metadata": {
    "execution": {
     "iopub.execute_input": "2020-12-17T10:04:32.353580Z",
     "iopub.status.busy": "2020-12-17T10:04:32.352941Z",
     "iopub.status.idle": "2020-12-17T10:04:32.473329Z",
     "shell.execute_reply": "2020-12-17T10:04:32.472822Z"
    }
   },
   "outputs": [
    {
     "name": "stdout",
     "output_type": "stream",
     "text": [
      "\r",
      "0it [00:00, ?it/s]"
     ]
    },
    {
     "name": "stdout",
     "output_type": "stream",
     "text": [
      "\r",
      "Upgrading database; v0 -> v1: : 0it [00:00, ?it/s]"
     ]
    },
    {
     "name": "stdout",
     "output_type": "stream",
     "text": [
      "\r",
      "Upgrading database; v0 -> v1: : 0it [00:00, ?it/s]"
     ]
    },
    {
     "name": "stdout",
     "output_type": "stream",
     "text": [
      "\n",
      "\r",
      "  0%|          | 0/1 [00:00<?, ?it/s]"
     ]
    },
    {
     "name": "stdout",
     "output_type": "stream",
     "text": [
      "\r",
      "Upgrading database; v1 -> v2:   0%|          | 0/1 [00:00<?, ?it/s]"
     ]
    },
    {
     "name": "stdout",
     "output_type": "stream",
     "text": [
      "\r",
      "Upgrading database; v1 -> v2: 100%|██████████| 1/1 [00:00<00:00, 363.90it/s]"
     ]
    },
    {
     "name": "stdout",
     "output_type": "stream",
     "text": [
      "\n",
      "\r",
      "0it [00:00, ?it/s]"
     ]
    },
    {
     "name": "stdout",
     "output_type": "stream",
     "text": [
      "\r",
      "Upgrading database; v2 -> v3: : 0it [00:00, ?it/s]"
     ]
    },
    {
     "name": "stdout",
     "output_type": "stream",
     "text": [
      "\r",
      "Upgrading database; v2 -> v3: : 0it [00:00, ?it/s]"
     ]
    },
    {
     "name": "stdout",
     "output_type": "stream",
     "text": [
      "\n",
      "\r",
      "0it [00:00, ?it/s]"
     ]
    },
    {
     "name": "stdout",
     "output_type": "stream",
     "text": [
      "\r",
      "Upgrading database; v3 -> v4: : 0it [00:00, ?it/s]"
     ]
    },
    {
     "name": "stdout",
     "output_type": "stream",
     "text": [
      "\r",
      "Upgrading database; v3 -> v4: : 0it [00:00, ?it/s]"
     ]
    },
    {
     "name": "stdout",
     "output_type": "stream",
     "text": [
      "\n",
      "\r",
      "  0%|          | 0/1 [00:00<?, ?it/s]"
     ]
    },
    {
     "name": "stdout",
     "output_type": "stream",
     "text": [
      "\r",
      "Upgrading database; v4 -> v5:   0%|          | 0/1 [00:00<?, ?it/s]"
     ]
    },
    {
     "name": "stdout",
     "output_type": "stream",
     "text": [
      "\r",
      "Upgrading database; v4 -> v5: 100%|██████████| 1/1 [00:00<00:00, 410.64it/s]"
     ]
    },
    {
     "name": "stdout",
     "output_type": "stream",
     "text": [
      "\n",
      "\r",
      "0it [00:00, ?it/s]"
     ]
    },
    {
     "name": "stdout",
     "output_type": "stream",
     "text": [
      "\r",
      "Upgrading database; v5 -> v6: : 0it [00:00, ?it/s]"
     ]
    },
    {
     "name": "stdout",
     "output_type": "stream",
     "text": [
      "\r",
      "Upgrading database; v5 -> v6: : 0it [00:00, ?it/s]"
     ]
    },
    {
     "name": "stdout",
     "output_type": "stream",
     "text": [
      "\n",
      "\r",
      "  0%|          | 0/1 [00:00<?, ?it/s]"
     ]
    },
    {
     "name": "stdout",
     "output_type": "stream",
     "text": [
      "\r",
      "Upgrading database; v6 -> v7:   0%|          | 0/1 [00:00<?, ?it/s]"
     ]
    },
    {
     "name": "stdout",
     "output_type": "stream",
     "text": [
      "\r",
      "Upgrading database; v6 -> v7: 100%|██████████| 1/1 [00:00<00:00, 265.71it/s]"
     ]
    },
    {
     "name": "stdout",
     "output_type": "stream",
     "text": [
      "\n",
      "\r",
      "  0%|          | 0/1 [00:00<?, ?it/s]"
     ]
    },
    {
     "name": "stdout",
     "output_type": "stream",
     "text": [
      "\r",
      "Upgrading database; v7 -> v8:   0%|          | 0/1 [00:00<?, ?it/s]"
     ]
    },
    {
     "name": "stdout",
     "output_type": "stream",
     "text": [
      "\r",
      "Upgrading database; v7 -> v8: 100%|██████████| 1/1 [00:00<00:00, 463.87it/s]"
     ]
    },
    {
     "name": "stdout",
     "output_type": "stream",
     "text": [
      "\n",
      "\r",
      "  0%|          | 0/1 [00:00<?, ?it/s]"
     ]
    },
    {
     "name": "stdout",
     "output_type": "stream",
     "text": [
      "\r",
      "Upgrading database; v8 -> v9:   0%|          | 0/1 [00:00<?, ?it/s]"
     ]
    },
    {
     "name": "stdout",
     "output_type": "stream",
     "text": [
      "\r",
      "Upgrading database; v8 -> v9: 100%|██████████| 1/1 [00:00<00:00, 523.05it/s]"
     ]
    },
    {
     "name": "stdout",
     "output_type": "stream",
     "text": [
      "\n"
     ]
    }
   ],
   "source": [
    "initialise_database()\n",
    "exp = load_or_create_experiment(experiment_name='tutorial_exp', sample_name=\"no sample\")"
   ]
  },
  {
   "cell_type": "markdown",
   "metadata": {},
   "source": [
    "Here, we define a simple function to benchmark the time it takes to insert n points with either numeric or array data type.\n",
    "We will compare both the time used to call ``add_result`` and the time used for the full measurement."
   ]
  },
  {
   "cell_type": "code",
   "execution_count": 4,
   "metadata": {
    "execution": {
     "iopub.execute_input": "2020-12-17T10:04:32.482399Z",
     "iopub.status.busy": "2020-12-17T10:04:32.481813Z",
     "iopub.status.idle": "2020-12-17T10:04:32.485798Z",
     "shell.execute_reply": "2020-12-17T10:04:32.485333Z"
    }
   },
   "outputs": [],
   "source": [
    "def insert_data(paramtype, npoints, nreps=1):\n",
    "\n",
    "    meas = Measurement(exp=exp)\n",
    "\n",
    "    x1 = ManualParameter('x1')\n",
    "    x2 = ManualParameter('x2')\n",
    "    x3 = ManualParameter('x3')\n",
    "    y1 = ManualParameter('y1')\n",
    "    y2 = ManualParameter('y2')\n",
    "\n",
    "    meas.register_parameter(x1, paramtype=paramtype)\n",
    "    meas.register_parameter(x2, paramtype=paramtype)\n",
    "    meas.register_parameter(x3, paramtype=paramtype)\n",
    "    meas.register_parameter(y1, setpoints=[x1, x2, x3],\n",
    "                            paramtype=paramtype)\n",
    "    meas.register_parameter(y2, setpoints=[x1, x2, x3],\n",
    "                            paramtype=paramtype)\n",
    "    start = time.perf_counter()\n",
    "    with meas.run() as datasaver:\n",
    "        start_adding = time.perf_counter()\n",
    "        for i in range(nreps):\n",
    "            datasaver.add_result((x1, np.random.rand(npoints)),\n",
    "                                 (x2, np.random.rand(npoints)),\n",
    "                                 (x3, np.random.rand(npoints)),\n",
    "                                 (y1, np.random.rand(npoints)),\n",
    "                                 (y2, np.random.rand(npoints)))\n",
    "        stop_adding = time.perf_counter()\n",
    "        run_id = datasaver.run_id\n",
    "    stop = time.perf_counter()\n",
    "    tot_time = stop - start\n",
    "    add_time = stop_adding - start_adding\n",
    "    return tot_time, add_time, run_id"
   ]
  },
  {
   "cell_type": "markdown",
   "metadata": {},
   "source": [
    "## Comparison between numeric/array data and binary blob"
   ]
  },
  {
   "cell_type": "markdown",
   "metadata": {},
   "source": [
    "### Case1: Short experiment time"
   ]
  },
  {
   "cell_type": "code",
   "execution_count": 5,
   "metadata": {
    "execution": {
     "iopub.execute_input": "2020-12-17T10:04:32.492370Z",
     "iopub.status.busy": "2020-12-17T10:04:32.491654Z",
     "iopub.status.idle": "2020-12-17T10:04:33.345674Z",
     "shell.execute_reply": "2020-12-17T10:04:33.345162Z"
    }
   },
   "outputs": [
    {
     "name": "stdout",
     "output_type": "stream",
     "text": [
      "Starting experimental run with id: 1. \n",
      "Starting experimental run with id: 2. \n",
      "Starting experimental run with id: 3. \n"
     ]
    },
    {
     "name": "stdout",
     "output_type": "stream",
     "text": [
      "Starting experimental run with id: 4. \n"
     ]
    },
    {
     "name": "stdout",
     "output_type": "stream",
     "text": [
      "Starting experimental run with id: 5. \n"
     ]
    },
    {
     "name": "stdout",
     "output_type": "stream",
     "text": [
      "Starting experimental run with id: 6. \n",
      "Starting experimental run with id: 7. \n"
     ]
    },
    {
     "name": "stdout",
     "output_type": "stream",
     "text": [
      "Starting experimental run with id: 8. \n"
     ]
    },
    {
     "name": "stdout",
     "output_type": "stream",
     "text": [
      "Starting experimental run with id: 9. \n"
     ]
    },
    {
     "name": "stdout",
     "output_type": "stream",
     "text": [
      "Starting experimental run with id: 10. \n",
      "Starting experimental run with id: 11. \n"
     ]
    },
    {
     "name": "stdout",
     "output_type": "stream",
     "text": [
      "Starting experimental run with id: 12. \n",
      "Starting experimental run with id: 13. \n"
     ]
    },
    {
     "name": "stdout",
     "output_type": "stream",
     "text": [
      "Starting experimental run with id: 14. \n"
     ]
    }
   ],
   "source": [
    "sizes = [1,500,1000,2000,3000,4000,5000]\n",
    "t_numeric = []\n",
    "t_numeric_add = []\n",
    "t_array = []\n",
    "t_array_add = []\n",
    "for size in sizes:\n",
    "    tn, tna, run_id_n =  insert_data('numeric', size)\n",
    "    t_numeric.append(tn)\n",
    "    t_numeric_add.append(tna)\n",
    "\n",
    "    ta, taa, run_id_a =  insert_data('array', size)\n",
    "    t_array.append(ta)\n",
    "    t_array_add.append(taa)"
   ]
  },
  {
   "cell_type": "code",
   "execution_count": 6,
   "metadata": {
    "execution": {
     "iopub.execute_input": "2020-12-17T10:04:33.357555Z",
     "iopub.status.busy": "2020-12-17T10:04:33.350835Z",
     "iopub.status.idle": "2020-12-17T10:04:33.601341Z",
     "shell.execute_reply": "2020-12-17T10:04:33.602018Z"
    }
   },
   "outputs": [
    {
     "data": {
      "image/png": "[encoded data removed]",
      "text/plain": [
       "<Figure size 432x288 with 1 Axes>"
      ]
     },
     "metadata": {
      "needs_background": "light"
     },
     "output_type": "display_data"
    }
   ],
   "source": [
    "fig, ax = plt.subplots(1,1)\n",
    "ax.plot(sizes, t_numeric, 'o-', label='Inserting row-by-row')\n",
    "ax.plot(sizes, t_numeric_add, 'o-', label='Inserting row-by-row: add_result only')\n",
    "ax.plot(sizes, t_array, 'd-', label='Inserting as binary blob')\n",
    "ax.plot(sizes, t_array_add, 'd-', label='Inserting as binary blob: add_result only')\n",
    "ax.legend()\n",
    "ax.set_xlabel('Array length')\n",
    "ax.set_ylabel('Time (s)')\n",
    "fig.tight_layout()"
   ]
  },
  {
   "cell_type": "markdown",
   "metadata": {},
   "source": [
    "As shown in the latter figure, the time to setup and and close the experiment is approximately 0.4 sec. In case of small array sizes, the difference between inserting values of data as arrays and inserting them row-by-row is relatively unimportant. At larger array sizes, i.e. above 10000 points, the cost of writing data as individual datapoints starts to become important.\n"
   ]
  },
  {
   "cell_type": "markdown",
   "metadata": {},
   "source": [
    "### Case2: Long experiment time "
   ]
  },
  {
   "cell_type": "code",
   "execution_count": 7,
   "metadata": {
    "execution": {
     "iopub.execute_input": "2020-12-17T10:04:33.609544Z",
     "iopub.status.busy": "2020-12-17T10:04:33.608443Z",
     "iopub.status.idle": "2020-12-17T10:05:26.017370Z",
     "shell.execute_reply": "2020-12-17T10:05:26.016722Z"
    }
   },
   "outputs": [
    {
     "name": "stdout",
     "output_type": "stream",
     "text": [
      "Starting experimental run with id: 15. \n",
      "Starting experimental run with id: 16. \n",
      "Starting experimental run with id: 17. \n"
     ]
    },
    {
     "name": "stdout",
     "output_type": "stream",
     "text": [
      "Starting experimental run with id: 18. \n",
      "Starting experimental run with id: 19. \n"
     ]
    },
    {
     "name": "stdout",
     "output_type": "stream",
     "text": [
      "Starting experimental run with id: 20. \n"
     ]
    },
    {
     "name": "stdout",
     "output_type": "stream",
     "text": [
      "Starting experimental run with id: 21. \n"
     ]
    },
    {
     "name": "stdout",
     "output_type": "stream",
     "text": [
      "Starting experimental run with id: 22. \n"
     ]
    },
    {
     "name": "stdout",
     "output_type": "stream",
     "text": [
      "Starting experimental run with id: 23. \n"
     ]
    },
    {
     "name": "stdout",
     "output_type": "stream",
     "text": [
      "Starting experimental run with id: 24. \n"
     ]
    },
    {
     "name": "stdout",
     "output_type": "stream",
     "text": [
      "Starting experimental run with id: 25. \n"
     ]
    },
    {
     "name": "stdout",
     "output_type": "stream",
     "text": [
      "Starting experimental run with id: 26. \n"
     ]
    },
    {
     "name": "stdout",
     "output_type": "stream",
     "text": [
      "Starting experimental run with id: 27. \n"
     ]
    },
    {
     "name": "stdout",
     "output_type": "stream",
     "text": [
      "Starting experimental run with id: 28. \n"
     ]
    }
   ],
   "source": [
    "sizes = [1,500,1000,2000,3000,4000,5000]\n",
    "nreps = 100\n",
    "t_numeric = []\n",
    "t_numeric_add = []\n",
    "t_numeric_run_ids = []\n",
    "t_array = []\n",
    "t_array_add = []\n",
    "t_array_run_ids = []\n",
    "for size in sizes:\n",
    "    tn, tna, run_id_n =  insert_data('numeric', size, nreps=nreps)\n",
    "    t_numeric.append(tn)\n",
    "    t_numeric_add.append(tna)\n",
    "    t_numeric_run_ids.append(run_id_n)\n",
    "\n",
    "    ta, taa, run_id_a =  insert_data('array', size, nreps=nreps)\n",
    "    t_array.append(ta)\n",
    "    t_array_add.append(taa)\n",
    "    t_array_run_ids.append(run_id_a)"
   ]
  },
  {
   "cell_type": "code",
   "execution_count": 8,
   "metadata": {
    "execution": {
     "iopub.execute_input": "2020-12-17T10:05:26.041119Z",
     "iopub.status.busy": "2020-12-17T10:05:26.035410Z",
     "iopub.status.idle": "2020-12-17T10:05:26.261804Z",
     "shell.execute_reply": "2020-12-17T10:05:26.261286Z"
    },
    "scrolled": true
   },
   "outputs": [
    {
     "data": {
      "image/png": "[encoded data removed]",
      "text/plain": [
       "<Figure size 432x288 with 1 Axes>"
      ]
     },
     "metadata": {
      "needs_background": "light"
     },
     "output_type": "display_data"
    }
   ],
   "source": [
    "fig, ax = plt.subplots(1,1)\n",
    "ax.plot(sizes, t_numeric, 'o-', label='Inserting row-by-row')\n",
    "ax.plot(sizes, t_numeric_add, 'o-', label='Inserting row-by-row: add_result only')\n",
    "ax.plot(sizes, t_array, 'd-', label='Inserting as binary blob')\n",
    "ax.plot(sizes, t_array_add, 'd-', label='Inserting as binary blob: add_result only')\n",
    "ax.legend()\n",
    "ax.set_xlabel('Array length')\n",
    "ax.set_ylabel('Time (s)')\n",
    "fig.tight_layout()"
   ]
  },
  {
   "cell_type": "markdown",
   "metadata": {},
   "source": [
    "However, as we increase the length of the experiment, as seen here by repeating the insertion 100 times, we see a big difference between inserting values of the data row-by-row and inserting it as a binary blob."
   ]
  },
  {
   "cell_type": "markdown",
   "metadata": {},
   "source": [
    "## Loading the data "
   ]
  },
  {
   "cell_type": "code",
   "execution_count": 9,
   "metadata": {
    "execution": {
     "iopub.execute_input": "2020-12-17T10:05:26.265579Z",
     "iopub.status.busy": "2020-12-17T10:05:26.265082Z",
     "iopub.status.idle": "2020-12-17T10:05:26.268768Z",
     "shell.execute_reply": "2020-12-17T10:05:26.268109Z"
    }
   },
   "outputs": [],
   "source": [
    "from qcodes.dataset.data_set import load_by_id\n",
    "from qcodes.dataset.data_export import get_data_by_id"
   ]
  },
  {
   "cell_type": "markdown",
   "metadata": {},
   "source": [
    "As usual you can load the data by using the ``load_by_id`` function but you will notice that the different storage methods\n",
    "are reflected in shape of the data as it is retrieved. "
   ]
  },
  {
   "cell_type": "code",
   "execution_count": 10,
   "metadata": {
    "execution": {
     "iopub.execute_input": "2020-12-17T10:05:26.273168Z",
     "iopub.status.busy": "2020-12-17T10:05:26.271849Z",
     "iopub.status.idle": "2020-12-17T10:05:26.273719Z",
     "shell.execute_reply": "2020-12-17T10:05:26.274229Z"
    }
   },
   "outputs": [],
   "source": [
    "run_id_n = t_numeric_run_ids[0]\n",
    "run_id_a = t_array_run_ids[0]"
   ]
  },
  {
   "cell_type": "code",
   "execution_count": 11,
   "metadata": {
    "execution": {
     "iopub.execute_input": "2020-12-17T10:05:26.278009Z",
     "iopub.status.busy": "2020-12-17T10:05:26.277469Z",
     "iopub.status.idle": "2020-12-17T10:05:26.288611Z",
     "shell.execute_reply": "2020-12-17T10:05:26.288102Z"
    },
    "scrolled": true
   },
   "outputs": [
    {
     "data": {
      "text/plain": [
       "{'x1': {'x1': array([0.80427625, 0.80427625, 0.59366658, 0.59366658, 0.12253848,\n",
       "         0.12253848, 0.37515412, 0.37515412, 0.52821259, 0.52821259,\n",
       "         0.03822434, 0.03822434, 0.34881259, 0.34881259, 0.32449501,\n",
       "         0.32449501, 0.00407447, 0.00407447, 0.99261985, 0.99261985,\n",
       "         0.82936919, 0.82936919, 0.3155191 , 0.3155191 , 0.88501424,\n",
       "         0.88501424, 0.71836495, 0.71836495, 0.99705316, 0.99705316,\n",
       "         0.52467556, 0.52467556, 0.57673182, 0.57673182, 0.14668179,\n",
       "         0.14668179, 0.91200602, 0.91200602, 0.18846469, 0.18846469,\n",
       "         0.31171613, 0.31171613, 0.41734301, 0.41734301, 0.24368496,\n",
       "         0.24368496, 0.4406555 , 0.4406555 , 0.59751843, 0.59751843,\n",
       "         0.40618886, 0.40618886, 0.98600998, 0.98600998, 0.05869276,\n",
       "         0.05869276, 0.43082613, 0.43082613, 0.53092586, 0.53092586,\n",
       "         0.41684808, 0.41684808, 0.48464391, 0.48464391, 0.57904077,\n",
       "         0.57904077, 0.94349325, 0.94349325, 0.26649853, 0.26649853,\n",
       "         0.3007223 , 0.3007223 , 0.94346802, 0.94346802, 0.33440877,\n",
       "         0.33440877, 0.78203058, 0.78203058, 0.56446947, 0.56446947,\n",
       "         0.96704253, 0.96704253, 0.70870465, 0.70870465, 0.33019513,\n",
       "         0.33019513, 0.3610276 , 0.3610276 , 0.1108266 , 0.1108266 ,\n",
       "         0.83567842, 0.83567842, 0.9680182 , 0.9680182 , 0.29381654,\n",
       "         0.29381654, 0.89360684, 0.89360684, 0.56320974, 0.56320974,\n",
       "         0.66324439, 0.66324439, 0.74364265, 0.74364265, 0.02609944,\n",
       "         0.02609944, 0.53000406, 0.53000406, 0.58017528, 0.58017528,\n",
       "         0.65734019, 0.65734019, 0.2789307 , 0.2789307 , 0.31388895,\n",
       "         0.31388895, 0.89250214, 0.89250214, 0.29262458, 0.29262458,\n",
       "         0.48999669, 0.48999669, 0.05490722, 0.05490722, 0.72945275,\n",
       "         0.72945275, 0.60295047, 0.60295047, 0.8067545 , 0.8067545 ,\n",
       "         0.12472307, 0.12472307, 0.88217195, 0.88217195, 0.10718601,\n",
       "         0.10718601, 0.27563286, 0.27563286, 0.14103809, 0.14103809,\n",
       "         0.35729736, 0.35729736, 0.15878265, 0.15878265, 0.29813985,\n",
       "         0.29813985, 0.52212477, 0.52212477, 0.60275007, 0.60275007,\n",
       "         0.70256216, 0.70256216, 0.34613451, 0.34613451, 0.02070733,\n",
       "         0.02070733, 0.75597271, 0.75597271, 0.0459283 , 0.0459283 ,\n",
       "         0.62453504, 0.62453504, 0.28315871, 0.28315871, 0.49044973,\n",
       "         0.49044973, 0.80278933, 0.80278933, 0.15800691, 0.15800691,\n",
       "         0.98517997, 0.98517997, 0.87881605, 0.87881605, 0.14323335,\n",
       "         0.14323335, 0.99334344, 0.99334344, 0.85288343, 0.85288343,\n",
       "         0.791352  , 0.791352  , 0.05649953, 0.05649953, 0.96868713,\n",
       "         0.96868713, 0.69278286, 0.69278286, 0.1215411 , 0.1215411 ,\n",
       "         0.12975373, 0.12975373, 0.80215114, 0.80215114, 0.38494414,\n",
       "         0.38494414, 0.96935807, 0.96935807, 0.00990362, 0.00990362])}}"
      ]
     },
     "execution_count": 1,
     "metadata": {},
     "output_type": "execute_result"
    }
   ],
   "source": [
    "ds = load_by_id(run_id_n)\n",
    "ds.get_parameter_data('x1')"
   ]
  },
  {
   "cell_type": "markdown",
   "metadata": {},
   "source": [
    "And a dataset stored as binary arrays"
   ]
  },
  {
   "cell_type": "code",
   "execution_count": 12,
   "metadata": {
    "execution": {
     "iopub.execute_input": "2020-12-17T10:05:26.292050Z",
     "iopub.status.busy": "2020-12-17T10:05:26.291300Z",
     "iopub.status.idle": "2020-12-17T10:05:26.362154Z",
     "shell.execute_reply": "2020-12-17T10:05:26.362621Z"
    },
    "scrolled": true
   },
   "outputs": [
    {
     "data": {
      "text/plain": [
       "{'x1': {'x1': array([[0.84856005],\n",
       "         [0.84856005],\n",
       "         [0.78526952],\n",
       "         [0.78526952],\n",
       "         [0.11716767],\n",
       "         [0.11716767],\n",
       "         [0.72562998],\n",
       "         [0.72562998],\n",
       "         [0.13233681],\n",
       "         [0.13233681],\n",
       "         [0.81347133],\n",
       "         [0.81347133],\n",
       "         [0.25850628],\n",
       "         [0.25850628],\n",
       "         [0.95393149],\n",
       "         [0.95393149],\n",
       "         [0.13544332],\n",
       "         [0.13544332],\n",
       "         [0.68924003],\n",
       "         [0.68924003],\n",
       "         [0.75897431],\n",
       "         [0.75897431],\n",
       "         [0.16320196],\n",
       "         [0.16320196],\n",
       "         [0.53920885],\n",
       "         [0.53920885],\n",
       "         [0.29318843],\n",
       "         [0.29318843],\n",
       "         [0.22325463],\n",
       "         [0.22325463],\n",
       "         [0.85486542],\n",
       "         [0.85486542],\n",
       "         [0.86912665],\n",
       "         [0.86912665],\n",
       "         [0.94749745],\n",
       "         [0.94749745],\n",
       "         [0.86832565],\n",
       "         [0.86832565],\n",
       "         [0.03571066],\n",
       "         [0.03571066],\n",
       "         [0.75961848],\n",
       "         [0.75961848],\n",
       "         [0.51286768],\n",
       "         [0.51286768],\n",
       "         [0.80896828],\n",
       "         [0.80896828],\n",
       "         [0.59580471],\n",
       "         [0.59580471],\n",
       "         [0.81760135],\n",
       "         [0.81760135],\n",
       "         [0.7243313 ],\n",
       "         [0.7243313 ],\n",
       "         [0.61926438],\n",
       "         [0.61926438],\n",
       "         [0.5631774 ],\n",
       "         [0.5631774 ],\n",
       "         [0.01649028],\n",
       "         [0.01649028],\n",
       "         [0.51749418],\n",
       "         [0.51749418],\n",
       "         [0.24642105],\n",
       "         [0.24642105],\n",
       "         [0.71413287],\n",
       "         [0.71413287],\n",
       "         [0.84026206],\n",
       "         [0.84026206],\n",
       "         [0.34960743],\n",
       "         [0.34960743],\n",
       "         [0.43307015],\n",
       "         [0.43307015],\n",
       "         [0.41571236],\n",
       "         [0.41571236],\n",
       "         [0.28980488],\n",
       "         [0.28980488],\n",
       "         [0.51576273],\n",
       "         [0.51576273],\n",
       "         [0.03154844],\n",
       "         [0.03154844],\n",
       "         [0.67156461],\n",
       "         [0.67156461],\n",
       "         [0.05519992],\n",
       "         [0.05519992],\n",
       "         [0.69423528],\n",
       "         [0.69423528],\n",
       "         [0.18145716],\n",
       "         [0.18145716],\n",
       "         [0.27337159],\n",
       "         [0.27337159],\n",
       "         [0.57827848],\n",
       "         [0.57827848],\n",
       "         [0.92890846],\n",
       "         [0.92890846],\n",
       "         [0.32839738],\n",
       "         [0.32839738],\n",
       "         [0.04207116],\n",
       "         [0.04207116],\n",
       "         [0.82558977],\n",
       "         [0.82558977],\n",
       "         [0.00746928],\n",
       "         [0.00746928],\n",
       "         [0.58832879],\n",
       "         [0.58832879],\n",
       "         [0.54638506],\n",
       "         [0.54638506],\n",
       "         [0.95940784],\n",
       "         [0.95940784],\n",
       "         [0.26667606],\n",
       "         [0.26667606],\n",
       "         [0.36120738],\n",
       "         [0.36120738],\n",
       "         [0.1546108 ],\n",
       "         [0.1546108 ],\n",
       "         [0.83354532],\n",
       "         [0.83354532],\n",
       "         [0.07857861],\n",
       "         [0.07857861],\n",
       "         [0.40469907],\n",
       "         [0.40469907],\n",
       "         [0.96533627],\n",
       "         [0.96533627],\n",
       "         [0.46922873],\n",
       "         [0.46922873],\n",
       "         [0.26322992],\n",
       "         [0.26322992],\n",
       "         [0.66677087],\n",
       "         [0.66677087],\n",
       "         [0.58587939],\n",
       "         [0.58587939],\n",
       "         [0.22609921],\n",
       "         [0.22609921],\n",
       "         [0.6192098 ],\n",
       "         [0.6192098 ],\n",
       "         [0.82388561],\n",
       "         [0.82388561],\n",
       "         [0.60129119],\n",
       "         [0.60129119],\n",
       "         [0.71559183],\n",
       "         [0.71559183],\n",
       "         [0.4230738 ],\n",
       "         [0.4230738 ],\n",
       "         [0.1767414 ],\n",
       "         [0.1767414 ],\n",
       "         [0.26738313],\n",
       "         [0.26738313],\n",
       "         [0.81142381],\n",
       "         [0.81142381],\n",
       "         [0.74219772],\n",
       "         [0.74219772],\n",
       "         [0.37281528],\n",
       "         [0.37281528],\n",
       "         [0.9201682 ],\n",
       "         [0.9201682 ],\n",
       "         [0.39174495],\n",
       "         [0.39174495],\n",
       "         [0.29352646],\n",
       "         [0.29352646],\n",
       "         [0.3084118 ],\n",
       "         [0.3084118 ],\n",
       "         [0.74108124],\n",
       "         [0.74108124],\n",
       "         [0.87912914],\n",
       "         [0.87912914],\n",
       "         [0.50817416],\n",
       "         [0.50817416],\n",
       "         [0.12427344],\n",
       "         [0.12427344],\n",
       "         [0.16723007],\n",
       "         [0.16723007],\n",
       "         [0.2820598 ],\n",
       "         [0.2820598 ],\n",
       "         [0.04231291],\n",
       "         [0.04231291],\n",
       "         [0.74829023],\n",
       "         [0.74829023],\n",
       "         [0.19692218],\n",
       "         [0.19692218],\n",
       "         [0.80945738],\n",
       "         [0.80945738],\n",
       "         [0.60731848],\n",
       "         [0.60731848],\n",
       "         [0.45159135],\n",
       "         [0.45159135],\n",
       "         [0.48449191],\n",
       "         [0.48449191],\n",
       "         [0.36530539],\n",
       "         [0.36530539],\n",
       "         [0.43374995],\n",
       "         [0.43374995],\n",
       "         [0.97247436],\n",
       "         [0.97247436],\n",
       "         [0.03997265],\n",
       "         [0.03997265],\n",
       "         [0.32184787],\n",
       "         [0.32184787],\n",
       "         [0.31217796],\n",
       "         [0.31217796],\n",
       "         [0.84306323],\n",
       "         [0.84306323],\n",
       "         [0.93855932],\n",
       "         [0.93855932]])}}"
      ]
     },
     "execution_count": 1,
     "metadata": {},
     "output_type": "execute_result"
    }
   ],
   "source": [
    "ds = load_by_id(run_id_a)\n",
    "ds.get_parameter_data('x1')"
   ]
  },
  {
   "cell_type": "code",
   "execution_count": null,
   "metadata": {},
   "outputs": [],
   "source": []
  }
 ],
 "metadata": {
  "kernelspec": {
   "display_name": "Python 3",
   "language": "python",
   "name": "python3"
  },
  "language_info": {
   "codemirror_mode": {
    "name": "ipython",
    "version": 3
   },
   "file_extension": ".py",
   "mimetype": "text/x-python",
   "name": "python",
   "nbconvert_exporter": "python",
   "pygments_lexer": "ipython3",
   "version": "3.7.9"
  },
  "nbsphinx": {
   "timeout": 600
  },
  "toc": {
   "base_numbering": 1,
   "nav_menu": {},
   "number_sections": true,
   "sideBar": true,
   "skip_h1_title": false,
   "title_cell": "Table of Contents",
   "title_sidebar": "Contents",
   "toc_cell": false,
   "toc_position": {},
   "toc_section_display": true,
   "toc_window_display": false
  },
  "varInspector": {
   "cols": {
    "lenName": 16,
    "lenType": 16,
    "lenVar": 40
   },
   "kernels_config": {
    "python": {
     "delete_cmd_postfix": "",
     "delete_cmd_prefix": "del ",
     "library": "var_list.py",
     "varRefreshCmd": "print(var_dic_list())"
    },
    "r": {
     "delete_cmd_postfix": ") ",
     "delete_cmd_prefix": "rm(",
     "library": "var_list.r",
     "varRefreshCmd": "cat(var_dic_list()) "
    }
   },
   "types_to_exclude": [
    "module",
    "function",
    "builtin_function_or_method",
    "instance",
    "_Feature"
   ],
   "window_display": false
  }
 },
 "nbformat": 4,
 "nbformat_minor": 2
}
