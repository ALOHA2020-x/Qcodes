{
 "cells": [
  {
   "cell_type": "markdown",
   "metadata": {},
   "source": [
    "# DataSet Performance\n",
    "\n",
    "This notebook shows the trade-off between inserting data into a database row-by-row and as binary blobs. Inserting the data row-by-row means that we have direct access to all the data and may perform queries directly on the values of the data. On the other hand, as we shall see, this is much slower than inserting the data directly as binary blobs."
   ]
  },
  {
   "cell_type": "markdown",
   "metadata": {},
   "source": [
    "First, we choose a new location for the database to ensure that we don't add a bunch of benchmarking data to the default one."
   ]
  },
  {
   "cell_type": "code",
   "execution_count": 1,
   "metadata": {
    "execution": {
     "iopub.execute_input": "2020-10-02T09:39:10.086747Z",
     "iopub.status.busy": "2020-10-02T09:39:10.085830Z",
     "iopub.status.idle": "2020-10-02T09:39:11.130673Z",
     "shell.execute_reply": "2020-10-02T09:39:11.131157Z"
    }
   },
   "outputs": [
    {
     "name": "stdout",
     "output_type": "stream",
     "text": [
      "Logging hadn't been started.\n",
      "Activating auto-logging. Current session state plus future input saved.\n",
      "Filename       : /home/vsts/.qcodes/logs/command_history.log\n",
      "Mode           : append\n",
      "Output logging : True\n",
      "Raw input log  : False\n",
      "Timestamping   : True\n",
      "State          : active\n"
     ]
    },
    {
     "name": "stdout",
     "output_type": "stream",
     "text": [
      "Qcodes Logfile : /home/vsts/.qcodes/logs/201002-19343-qcodes.log\n"
     ]
    }
   ],
   "source": [
    "import os\n",
    "cwd = os.getcwd()\n",
    "import qcodes as qc\n",
    "qc.config[\"core\"][\"db_location\"] = os.path.join(cwd, 'testing.db')\n"
   ]
  },
  {
   "cell_type": "code",
   "execution_count": 2,
   "metadata": {
    "execution": {
     "iopub.execute_input": "2020-10-02T09:39:11.137423Z",
     "iopub.status.busy": "2020-10-02T09:39:11.136620Z",
     "iopub.status.idle": "2020-10-02T09:39:11.329226Z",
     "shell.execute_reply": "2020-10-02T09:39:11.328368Z"
    }
   },
   "outputs": [],
   "source": [
    "%matplotlib inline\n",
    "import time\n",
    "import matplotlib.pyplot as plt\n",
    "import numpy as np\n",
    "\n",
    "import qcodes as qc\n",
    "from qcodes.instrument.parameter import ManualParameter\n",
    "from qcodes.dataset.experiment_container import (Experiment,\n",
    "                                                 load_last_experiment,\n",
    "                                                 new_experiment)\n",
    "from qcodes.dataset.sqlite.database import initialise_database\n",
    "from qcodes import load_or_create_experiment\n",
    "from qcodes.dataset.measurements import Measurement"
   ]
  },
  {
   "cell_type": "code",
   "execution_count": 3,
   "metadata": {
    "execution": {
     "iopub.execute_input": "2020-10-02T09:39:11.333499Z",
     "iopub.status.busy": "2020-10-02T09:39:11.332856Z",
     "iopub.status.idle": "2020-10-02T09:39:11.446130Z",
     "shell.execute_reply": "2020-10-02T09:39:11.445553Z"
    }
   },
   "outputs": [
    {
     "name": "stdout",
     "output_type": "stream",
     "text": [
      "\r",
      "0it [00:00, ?it/s]"
     ]
    },
    {
     "name": "stdout",
     "output_type": "stream",
     "text": [
      "\r",
      "Upgrading database; v0 -> v1: : 0it [00:00, ?it/s]"
     ]
    },
    {
     "name": "stdout",
     "output_type": "stream",
     "text": [
      "\r",
      "Upgrading database; v0 -> v1: : 0it [00:00, ?it/s]"
     ]
    },
    {
     "name": "stdout",
     "output_type": "stream",
     "text": [
      "\n",
      "\r",
      "  0%|          | 0/1 [00:00<?, ?it/s]"
     ]
    },
    {
     "name": "stdout",
     "output_type": "stream",
     "text": [
      "\r",
      "Upgrading database; v1 -> v2:   0%|          | 0/1 [00:00<?, ?it/s]"
     ]
    },
    {
     "name": "stdout",
     "output_type": "stream",
     "text": [
      "\r",
      "Upgrading database; v1 -> v2: 100%|██████████| 1/1 [00:00<00:00, 571.28it/s]"
     ]
    },
    {
     "name": "stdout",
     "output_type": "stream",
     "text": [
      "\n",
      "\r",
      "0it [00:00, ?it/s]"
     ]
    },
    {
     "name": "stdout",
     "output_type": "stream",
     "text": [
      "\r",
      "Upgrading database; v2 -> v3: : 0it [00:00, ?it/s]"
     ]
    },
    {
     "name": "stdout",
     "output_type": "stream",
     "text": [
      "\r",
      "Upgrading database; v2 -> v3: : 0it [00:00, ?it/s]"
     ]
    },
    {
     "name": "stdout",
     "output_type": "stream",
     "text": [
      "\n",
      "\r",
      "0it [00:00, ?it/s]"
     ]
    },
    {
     "name": "stdout",
     "output_type": "stream",
     "text": [
      "\r",
      "Upgrading database; v3 -> v4: : 0it [00:00, ?it/s]"
     ]
    },
    {
     "name": "stdout",
     "output_type": "stream",
     "text": [
      "\r",
      "Upgrading database; v3 -> v4: : 0it [00:00, ?it/s]"
     ]
    },
    {
     "name": "stdout",
     "output_type": "stream",
     "text": [
      "\n",
      "\r",
      "  0%|          | 0/1 [00:00<?, ?it/s]"
     ]
    },
    {
     "name": "stdout",
     "output_type": "stream",
     "text": [
      "\r",
      "Upgrading database; v4 -> v5:   0%|          | 0/1 [00:00<?, ?it/s]"
     ]
    },
    {
     "name": "stdout",
     "output_type": "stream",
     "text": [
      "\r",
      "Upgrading database; v4 -> v5: 100%|██████████| 1/1 [00:00<00:00, 312.36it/s]"
     ]
    },
    {
     "name": "stdout",
     "output_type": "stream",
     "text": [
      "\n",
      "\r",
      "0it [00:00, ?it/s]"
     ]
    },
    {
     "name": "stdout",
     "output_type": "stream",
     "text": [
      "\r",
      "Upgrading database; v5 -> v6: : 0it [00:00, ?it/s]"
     ]
    },
    {
     "name": "stdout",
     "output_type": "stream",
     "text": [
      "\r",
      "Upgrading database; v5 -> v6: : 0it [00:00, ?it/s]"
     ]
    },
    {
     "name": "stdout",
     "output_type": "stream",
     "text": [
      "\n",
      "\r",
      "  0%|          | 0/1 [00:00<?, ?it/s]"
     ]
    },
    {
     "name": "stdout",
     "output_type": "stream",
     "text": [
      "\r",
      "Upgrading database; v6 -> v7:   0%|          | 0/1 [00:00<?, ?it/s]"
     ]
    },
    {
     "name": "stdout",
     "output_type": "stream",
     "text": [
      "\r",
      "Upgrading database; v6 -> v7: 100%|██████████| 1/1 [00:00<00:00, 282.54it/s]"
     ]
    },
    {
     "name": "stdout",
     "output_type": "stream",
     "text": [
      "\n",
      "\r",
      "  0%|          | 0/1 [00:00<?, ?it/s]"
     ]
    },
    {
     "name": "stdout",
     "output_type": "stream",
     "text": [
      "\r",
      "Upgrading database; v7 -> v8:   0%|          | 0/1 [00:00<?, ?it/s]"
     ]
    },
    {
     "name": "stdout",
     "output_type": "stream",
     "text": [
      "\r",
      "Upgrading database; v7 -> v8: 100%|██████████| 1/1 [00:00<00:00, 397.38it/s]"
     ]
    },
    {
     "name": "stdout",
     "output_type": "stream",
     "text": [
      "\n",
      "\r",
      "  0%|          | 0/1 [00:00<?, ?it/s]"
     ]
    },
    {
     "name": "stdout",
     "output_type": "stream",
     "text": [
      "\r",
      "Upgrading database; v8 -> v9:   0%|          | 0/1 [00:00<?, ?it/s]"
     ]
    },
    {
     "name": "stdout",
     "output_type": "stream",
     "text": [
      "\r",
      "Upgrading database; v8 -> v9: 100%|██████████| 1/1 [00:00<00:00, 874.36it/s]"
     ]
    },
    {
     "name": "stdout",
     "output_type": "stream",
     "text": [
      "\n"
     ]
    }
   ],
   "source": [
    "initialise_database()\n",
    "exp = load_or_create_experiment(experiment_name='tutorial_exp', sample_name=\"no sample\")"
   ]
  },
  {
   "cell_type": "markdown",
   "metadata": {},
   "source": [
    "Here, we define a simple function to benchmark the time it takes to insert n points with either numeric or array data type.\n",
    "We will compare both the time used to call ``add_result`` and the time used for the full measurement."
   ]
  },
  {
   "cell_type": "code",
   "execution_count": 4,
   "metadata": {
    "execution": {
     "iopub.execute_input": "2020-10-02T09:39:11.455114Z",
     "iopub.status.busy": "2020-10-02T09:39:11.454542Z",
     "iopub.status.idle": "2020-10-02T09:39:11.458117Z",
     "shell.execute_reply": "2020-10-02T09:39:11.457555Z"
    }
   },
   "outputs": [],
   "source": [
    "def insert_data(paramtype, npoints, nreps=1):\n",
    "\n",
    "    meas = Measurement(exp=exp)\n",
    "\n",
    "    x1 = ManualParameter('x1')\n",
    "    x2 = ManualParameter('x2')\n",
    "    x3 = ManualParameter('x3')\n",
    "    y1 = ManualParameter('y1')\n",
    "    y2 = ManualParameter('y2')\n",
    "\n",
    "    meas.register_parameter(x1, paramtype=paramtype)\n",
    "    meas.register_parameter(x2, paramtype=paramtype)\n",
    "    meas.register_parameter(x3, paramtype=paramtype)\n",
    "    meas.register_parameter(y1, setpoints=[x1, x2, x3],\n",
    "                            paramtype=paramtype)\n",
    "    meas.register_parameter(y2, setpoints=[x1, x2, x3],\n",
    "                            paramtype=paramtype)\n",
    "    start = time.perf_counter()\n",
    "    with meas.run() as datasaver:\n",
    "        start_adding = time.perf_counter()\n",
    "        for i in range(nreps):\n",
    "            datasaver.add_result((x1, np.random.rand(npoints)),\n",
    "                                 (x2, np.random.rand(npoints)),\n",
    "                                 (x3, np.random.rand(npoints)),\n",
    "                                 (y1, np.random.rand(npoints)),\n",
    "                                 (y2, np.random.rand(npoints)))\n",
    "        stop_adding = time.perf_counter()\n",
    "        run_id = datasaver.run_id\n",
    "    stop = time.perf_counter()\n",
    "    tot_time = stop - start\n",
    "    add_time = stop_adding - start_adding\n",
    "    return tot_time, add_time, run_id"
   ]
  },
  {
   "cell_type": "markdown",
   "metadata": {},
   "source": [
    "## Comparison between numeric/array data and binary blob"
   ]
  },
  {
   "cell_type": "markdown",
   "metadata": {},
   "source": [
    "### Case1: Short experiment time"
   ]
  },
  {
   "cell_type": "code",
   "execution_count": 5,
   "metadata": {
    "execution": {
     "iopub.execute_input": "2020-10-02T09:39:11.463110Z",
     "iopub.status.busy": "2020-10-02T09:39:11.461839Z",
     "iopub.status.idle": "2020-10-02T09:39:12.316345Z",
     "shell.execute_reply": "2020-10-02T09:39:12.315820Z"
    }
   },
   "outputs": [
    {
     "name": "stdout",
     "output_type": "stream",
     "text": [
      "Starting experimental run with id: 1. \n",
      "Starting experimental run with id: 2. \n",
      "Starting experimental run with id: 3. \n",
      "Starting experimental run with id: 4. \n",
      "Starting experimental run with id: 5. \n"
     ]
    },
    {
     "name": "stdout",
     "output_type": "stream",
     "text": [
      "Starting experimental run with id: 6. \n"
     ]
    },
    {
     "name": "stdout",
     "output_type": "stream",
     "text": [
      "Starting experimental run with id: 7. \n"
     ]
    },
    {
     "name": "stdout",
     "output_type": "stream",
     "text": [
      "Starting experimental run with id: 8. \n",
      "Starting experimental run with id: 9. \n"
     ]
    },
    {
     "name": "stdout",
     "output_type": "stream",
     "text": [
      "Starting experimental run with id: 10. \n",
      "Starting experimental run with id: 11. \n"
     ]
    },
    {
     "name": "stdout",
     "output_type": "stream",
     "text": [
      "Starting experimental run with id: 12. \n",
      "Starting experimental run with id: 13. \n"
     ]
    },
    {
     "name": "stdout",
     "output_type": "stream",
     "text": [
      "Starting experimental run with id: 14. \n"
     ]
    }
   ],
   "source": [
    "sizes = [1,500,1000,2000,3000,4000,5000]\n",
    "t_numeric = []\n",
    "t_numeric_add = []\n",
    "t_array = []\n",
    "t_array_add = []\n",
    "for size in sizes:\n",
    "    tn, tna, run_id_n =  insert_data('numeric', size)\n",
    "    t_numeric.append(tn)\n",
    "    t_numeric_add.append(tna)\n",
    "\n",
    "    ta, taa, run_id_a =  insert_data('array', size)\n",
    "    t_array.append(ta)\n",
    "    t_array_add.append(taa)"
   ]
  },
  {
   "cell_type": "code",
   "execution_count": 6,
   "metadata": {
    "execution": {
     "iopub.execute_input": "2020-10-02T09:39:12.334116Z",
     "iopub.status.busy": "2020-10-02T09:39:12.321909Z",
     "iopub.status.idle": "2020-10-02T09:39:12.534814Z",
     "shell.execute_reply": "2020-10-02T09:39:12.534229Z"
    }
   },
   "outputs": [
    {
     "data": {
      "image/png": "[encoded data removed]",
      "text/plain": [
       "<Figure size 432x288 with 1 Axes>"
      ]
     },
     "metadata": {
      "needs_background": "light"
     },
     "output_type": "display_data"
    }
   ],
   "source": [
    "fig, ax = plt.subplots(1,1)\n",
    "ax.plot(sizes, t_numeric, 'o-', label='Inserting row-by-row')\n",
    "ax.plot(sizes, t_numeric_add, 'o-', label='Inserting row-by-row: add_result only')\n",
    "ax.plot(sizes, t_array, 'd-', label='Inserting as binary blob')\n",
    "ax.plot(sizes, t_array_add, 'd-', label='Inserting as binary blob: add_result only')\n",
    "ax.legend()\n",
    "ax.set_xlabel('Array length')\n",
    "ax.set_ylabel('Time (s)')\n",
    "fig.tight_layout()"
   ]
  },
  {
   "cell_type": "markdown",
   "metadata": {},
   "source": [
    "As shown in the latter figure, the time to setup and and close the experiment is approximately 0.4 sec. In case of small array sizes, the difference between inserting values of data as arrays and inserting them row-by-row is relatively unimportant. At larger array sizes, i.e. above 10000 points, the cost of writing data as individual datapoints starts to become important.\n"
   ]
  },
  {
   "cell_type": "markdown",
   "metadata": {},
   "source": [
    "### Case2: Long experiment time "
   ]
  },
  {
   "cell_type": "code",
   "execution_count": 7,
   "metadata": {
    "execution": {
     "iopub.execute_input": "2020-10-02T09:39:12.539937Z",
     "iopub.status.busy": "2020-10-02T09:39:12.539358Z",
     "iopub.status.idle": "2020-10-02T09:40:11.211756Z",
     "shell.execute_reply": "2020-10-02T09:40:11.211229Z"
    }
   },
   "outputs": [
    {
     "name": "stdout",
     "output_type": "stream",
     "text": [
      "Starting experimental run with id: 15. \n",
      "Starting experimental run with id: 16. \n",
      "Starting experimental run with id: 17. \n"
     ]
    },
    {
     "name": "stdout",
     "output_type": "stream",
     "text": [
      "Starting experimental run with id: 18. \n",
      "Starting experimental run with id: 19. \n"
     ]
    },
    {
     "name": "stdout",
     "output_type": "stream",
     "text": [
      "Starting experimental run with id: 20. \n"
     ]
    },
    {
     "name": "stdout",
     "output_type": "stream",
     "text": [
      "Starting experimental run with id: 21. \n"
     ]
    },
    {
     "name": "stdout",
     "output_type": "stream",
     "text": [
      "Starting experimental run with id: 22. \n"
     ]
    },
    {
     "name": "stdout",
     "output_type": "stream",
     "text": [
      "Starting experimental run with id: 23. \n"
     ]
    },
    {
     "name": "stdout",
     "output_type": "stream",
     "text": [
      "Starting experimental run with id: 24. \n"
     ]
    },
    {
     "name": "stdout",
     "output_type": "stream",
     "text": [
      "Starting experimental run with id: 25. \n"
     ]
    },
    {
     "name": "stdout",
     "output_type": "stream",
     "text": [
      "Starting experimental run with id: 26. \n"
     ]
    },
    {
     "name": "stdout",
     "output_type": "stream",
     "text": [
      "Starting experimental run with id: 27. \n"
     ]
    },
    {
     "name": "stdout",
     "output_type": "stream",
     "text": [
      "Starting experimental run with id: 28. \n"
     ]
    }
   ],
   "source": [
    "sizes = [1,500,1000,2000,3000,4000,5000]\n",
    "nreps = 100\n",
    "t_numeric = []\n",
    "t_numeric_add = []\n",
    "t_numeric_run_ids = []\n",
    "t_array = []\n",
    "t_array_add = []\n",
    "t_array_run_ids = []\n",
    "for size in sizes:\n",
    "    tn, tna, run_id_n =  insert_data('numeric', size, nreps=nreps)\n",
    "    t_numeric.append(tn)\n",
    "    t_numeric_add.append(tna)\n",
    "    t_numeric_run_ids.append(run_id_n)\n",
    "\n",
    "    ta, taa, run_id_a =  insert_data('array', size, nreps=nreps)\n",
    "    t_array.append(ta)\n",
    "    t_array_add.append(taa)\n",
    "    t_array_run_ids.append(run_id_a)"
   ]
  },
  {
   "cell_type": "code",
   "execution_count": 8,
   "metadata": {
    "execution": {
     "iopub.execute_input": "2020-10-02T09:40:11.232629Z",
     "iopub.status.busy": "2020-10-02T09:40:11.230469Z",
     "iopub.status.idle": "2020-10-02T09:40:11.442952Z",
     "shell.execute_reply": "2020-10-02T09:40:11.442446Z"
    },
    "scrolled": true
   },
   "outputs": [
    {
     "data": {
      "image/png": "[encoded data removed]",
      "text/plain": [
       "<Figure size 432x288 with 1 Axes>"
      ]
     },
     "metadata": {
      "needs_background": "light"
     },
     "output_type": "display_data"
    }
   ],
   "source": [
    "fig, ax = plt.subplots(1,1)\n",
    "ax.plot(sizes, t_numeric, 'o-', label='Inserting row-by-row')\n",
    "ax.plot(sizes, t_numeric_add, 'o-', label='Inserting row-by-row: add_result only')\n",
    "ax.plot(sizes, t_array, 'd-', label='Inserting as binary blob')\n",
    "ax.plot(sizes, t_array_add, 'd-', label='Inserting as binary blob: add_result only')\n",
    "ax.legend()\n",
    "ax.set_xlabel('Array length')\n",
    "ax.set_ylabel('Time (s)')\n",
    "fig.tight_layout()"
   ]
  },
  {
   "cell_type": "markdown",
   "metadata": {},
   "source": [
    "However, as we increase the length of the experiment, as seen here by repeating the insertion 100 times, we see a big difference between inserting values of the data row-by-row and inserting it as a binary blob."
   ]
  },
  {
   "cell_type": "markdown",
   "metadata": {},
   "source": [
    "## Loading the data "
   ]
  },
  {
   "cell_type": "code",
   "execution_count": 9,
   "metadata": {
    "execution": {
     "iopub.execute_input": "2020-10-02T09:40:11.447597Z",
     "iopub.status.busy": "2020-10-02T09:40:11.446819Z",
     "iopub.status.idle": "2020-10-02T09:40:11.449807Z",
     "shell.execute_reply": "2020-10-02T09:40:11.449304Z"
    }
   },
   "outputs": [],
   "source": [
    "from qcodes.dataset.data_set import load_by_id\n",
    "from qcodes.dataset.data_export import get_data_by_id"
   ]
  },
  {
   "cell_type": "markdown",
   "metadata": {},
   "source": [
    "As usual you can load the data by using the ``load_by_id`` function but you will notice that the different storage methods\n",
    "are reflected in shape of the data as it is retrieved. "
   ]
  },
  {
   "cell_type": "code",
   "execution_count": 10,
   "metadata": {
    "execution": {
     "iopub.execute_input": "2020-10-02T09:40:11.454798Z",
     "iopub.status.busy": "2020-10-02T09:40:11.453205Z",
     "iopub.status.idle": "2020-10-02T09:40:11.455438Z",
     "shell.execute_reply": "2020-10-02T09:40:11.456041Z"
    }
   },
   "outputs": [],
   "source": [
    "run_id_n = t_numeric_run_ids[0]\n",
    "run_id_a = t_array_run_ids[0]"
   ]
  },
  {
   "cell_type": "code",
   "execution_count": 11,
   "metadata": {
    "execution": {
     "iopub.execute_input": "2020-10-02T09:40:11.459509Z",
     "iopub.status.busy": "2020-10-02T09:40:11.458955Z",
     "iopub.status.idle": "2020-10-02T09:40:11.468661Z",
     "shell.execute_reply": "2020-10-02T09:40:11.468188Z"
    },
    "scrolled": true
   },
   "outputs": [
    {
     "data": {
      "text/plain": [
       "{'x1': {'x1': array([0.69411188, 0.69411188, 0.62329774, 0.62329774, 0.9302666 ,\n",
       "         0.9302666 , 0.38816122, 0.38816122, 0.94572204, 0.94572204,\n",
       "         0.44182472, 0.44182472, 0.04058668, 0.04058668, 0.51178813,\n",
       "         0.51178813, 0.9615089 , 0.9615089 , 0.93796715, 0.93796715,\n",
       "         0.94103   , 0.94103   , 0.0018026 , 0.0018026 , 0.23747125,\n",
       "         0.23747125, 0.54797857, 0.54797857, 0.57510729, 0.57510729,\n",
       "         0.20689273, 0.20689273, 0.62522317, 0.62522317, 0.38927521,\n",
       "         0.38927521, 0.70390047, 0.70390047, 0.95477021, 0.95477021,\n",
       "         0.80149638, 0.80149638, 0.75141552, 0.75141552, 0.32602431,\n",
       "         0.32602431, 0.58693196, 0.58693196, 0.39655634, 0.39655634,\n",
       "         0.71779975, 0.71779975, 0.60541489, 0.60541489, 0.00249197,\n",
       "         0.00249197, 0.90300959, 0.90300959, 0.39445749, 0.39445749,\n",
       "         0.35195277, 0.35195277, 0.83179616, 0.83179616, 0.80024894,\n",
       "         0.80024894, 0.34001327, 0.34001327, 0.47101548, 0.47101548,\n",
       "         0.91102076, 0.91102076, 0.24776863, 0.24776863, 0.16808853,\n",
       "         0.16808853, 0.04451151, 0.04451151, 0.17314219, 0.17314219,\n",
       "         0.13059815, 0.13059815, 0.62391794, 0.62391794, 0.44501004,\n",
       "         0.44501004, 0.15761318, 0.15761318, 0.78965948, 0.78965948,\n",
       "         0.75541698, 0.75541698, 0.72381712, 0.72381712, 0.01172056,\n",
       "         0.01172056, 0.96748397, 0.96748397, 0.39512129, 0.39512129,\n",
       "         0.9567987 , 0.9567987 , 0.53989487, 0.53989487, 0.81532908,\n",
       "         0.81532908, 0.16676649, 0.16676649, 0.55817737, 0.55817737,\n",
       "         0.78229898, 0.78229898, 0.65526374, 0.65526374, 0.90004451,\n",
       "         0.90004451, 0.03259172, 0.03259172, 0.5024823 , 0.5024823 ,\n",
       "         0.83672798, 0.83672798, 0.9830663 , 0.9830663 , 0.00941728,\n",
       "         0.00941728, 0.78879999, 0.78879999, 0.71085397, 0.71085397,\n",
       "         0.91112102, 0.91112102, 0.43377948, 0.43377948, 0.03114787,\n",
       "         0.03114787, 0.49260035, 0.49260035, 0.84735987, 0.84735987,\n",
       "         0.59458919, 0.59458919, 0.99231266, 0.99231266, 0.14313427,\n",
       "         0.14313427, 0.46882296, 0.46882296, 0.69299365, 0.69299365,\n",
       "         0.30897815, 0.30897815, 0.64519952, 0.64519952, 0.34533134,\n",
       "         0.34533134, 0.15067406, 0.15067406, 0.3038066 , 0.3038066 ,\n",
       "         0.87847797, 0.87847797, 0.45821222, 0.45821222, 0.63830485,\n",
       "         0.63830485, 0.49495777, 0.49495777, 0.53479497, 0.53479497,\n",
       "         0.62066191, 0.62066191, 0.71023023, 0.71023023, 0.25966913,\n",
       "         0.25966913, 0.47680435, 0.47680435, 0.42600997, 0.42600997,\n",
       "         0.52986514, 0.52986514, 0.41380675, 0.41380675, 0.39499464,\n",
       "         0.39499464, 0.07183014, 0.07183014, 0.83455498, 0.83455498,\n",
       "         0.52044152, 0.52044152, 0.86992015, 0.86992015, 0.99857987,\n",
       "         0.99857987, 0.78815722, 0.78815722, 0.79188214, 0.79188214])}}"
      ]
     },
     "execution_count": 1,
     "metadata": {},
     "output_type": "execute_result"
    }
   ],
   "source": [
    "ds = load_by_id(run_id_n)\n",
    "ds.get_parameter_data('x1')"
   ]
  },
  {
   "cell_type": "markdown",
   "metadata": {},
   "source": [
    "And a dataset stored as binary arrays"
   ]
  },
  {
   "cell_type": "code",
   "execution_count": 12,
   "metadata": {
    "execution": {
     "iopub.execute_input": "2020-10-02T09:40:11.471881Z",
     "iopub.status.busy": "2020-10-02T09:40:11.471291Z",
     "iopub.status.idle": "2020-10-02T09:40:11.533080Z",
     "shell.execute_reply": "2020-10-02T09:40:11.533656Z"
    },
    "scrolled": true
   },
   "outputs": [
    {
     "data": {
      "text/plain": [
       "{'x1': {'x1': array([[0.71487928],\n",
       "         [0.71487928],\n",
       "         [0.27017173],\n",
       "         [0.27017173],\n",
       "         [0.05821828],\n",
       "         [0.05821828],\n",
       "         [0.90122524],\n",
       "         [0.90122524],\n",
       "         [0.58841664],\n",
       "         [0.58841664],\n",
       "         [0.69876254],\n",
       "         [0.69876254],\n",
       "         [0.94059057],\n",
       "         [0.94059057],\n",
       "         [0.6234236 ],\n",
       "         [0.6234236 ],\n",
       "         [0.39009777],\n",
       "         [0.39009777],\n",
       "         [0.15077824],\n",
       "         [0.15077824],\n",
       "         [0.30621365],\n",
       "         [0.30621365],\n",
       "         [0.48972018],\n",
       "         [0.48972018],\n",
       "         [0.64163138],\n",
       "         [0.64163138],\n",
       "         [0.21649442],\n",
       "         [0.21649442],\n",
       "         [0.39767432],\n",
       "         [0.39767432],\n",
       "         [0.09393173],\n",
       "         [0.09393173],\n",
       "         [0.26190176],\n",
       "         [0.26190176],\n",
       "         [0.35545207],\n",
       "         [0.35545207],\n",
       "         [0.7676626 ],\n",
       "         [0.7676626 ],\n",
       "         [0.93699265],\n",
       "         [0.93699265],\n",
       "         [0.99263155],\n",
       "         [0.99263155],\n",
       "         [0.75263729],\n",
       "         [0.75263729],\n",
       "         [0.19538033],\n",
       "         [0.19538033],\n",
       "         [0.46729884],\n",
       "         [0.46729884],\n",
       "         [0.21090188],\n",
       "         [0.21090188],\n",
       "         [0.40798422],\n",
       "         [0.40798422],\n",
       "         [0.16066686],\n",
       "         [0.16066686],\n",
       "         [0.32012192],\n",
       "         [0.32012192],\n",
       "         [0.52516685],\n",
       "         [0.52516685],\n",
       "         [0.96245804],\n",
       "         [0.96245804],\n",
       "         [0.13818533],\n",
       "         [0.13818533],\n",
       "         [0.31965649],\n",
       "         [0.31965649],\n",
       "         [0.57993881],\n",
       "         [0.57993881],\n",
       "         [0.92682459],\n",
       "         [0.92682459],\n",
       "         [0.44118715],\n",
       "         [0.44118715],\n",
       "         [0.75589357],\n",
       "         [0.75589357],\n",
       "         [0.21939738],\n",
       "         [0.21939738],\n",
       "         [0.43657259],\n",
       "         [0.43657259],\n",
       "         [0.77241918],\n",
       "         [0.77241918],\n",
       "         [0.59119406],\n",
       "         [0.59119406],\n",
       "         [0.22273322],\n",
       "         [0.22273322],\n",
       "         [0.13713023],\n",
       "         [0.13713023],\n",
       "         [0.06131584],\n",
       "         [0.06131584],\n",
       "         [0.96336335],\n",
       "         [0.96336335],\n",
       "         [0.51091084],\n",
       "         [0.51091084],\n",
       "         [0.07623839],\n",
       "         [0.07623839],\n",
       "         [0.22715535],\n",
       "         [0.22715535],\n",
       "         [0.53549458],\n",
       "         [0.53549458],\n",
       "         [0.65420218],\n",
       "         [0.65420218],\n",
       "         [0.02658858],\n",
       "         [0.02658858],\n",
       "         [0.61980981],\n",
       "         [0.61980981],\n",
       "         [0.68271465],\n",
       "         [0.68271465],\n",
       "         [0.31443573],\n",
       "         [0.31443573],\n",
       "         [0.12804879],\n",
       "         [0.12804879],\n",
       "         [0.48617787],\n",
       "         [0.48617787],\n",
       "         [0.89920538],\n",
       "         [0.89920538],\n",
       "         [0.57307471],\n",
       "         [0.57307471],\n",
       "         [0.26903429],\n",
       "         [0.26903429],\n",
       "         [0.38909753],\n",
       "         [0.38909753],\n",
       "         [0.2547138 ],\n",
       "         [0.2547138 ],\n",
       "         [0.1817797 ],\n",
       "         [0.1817797 ],\n",
       "         [0.73855167],\n",
       "         [0.73855167],\n",
       "         [0.02277262],\n",
       "         [0.02277262],\n",
       "         [0.29102866],\n",
       "         [0.29102866],\n",
       "         [0.78011063],\n",
       "         [0.78011063],\n",
       "         [0.55496791],\n",
       "         [0.55496791],\n",
       "         [0.28368667],\n",
       "         [0.28368667],\n",
       "         [0.3052371 ],\n",
       "         [0.3052371 ],\n",
       "         [0.19383954],\n",
       "         [0.19383954],\n",
       "         [0.93237113],\n",
       "         [0.93237113],\n",
       "         [0.45817602],\n",
       "         [0.45817602],\n",
       "         [0.8837848 ],\n",
       "         [0.8837848 ],\n",
       "         [0.21089154],\n",
       "         [0.21089154],\n",
       "         [0.52551594],\n",
       "         [0.52551594],\n",
       "         [0.18398619],\n",
       "         [0.18398619],\n",
       "         [0.59905917],\n",
       "         [0.59905917],\n",
       "         [0.70777955],\n",
       "         [0.70777955],\n",
       "         [0.08325335],\n",
       "         [0.08325335],\n",
       "         [0.99999996],\n",
       "         [0.99999996],\n",
       "         [0.79282217],\n",
       "         [0.79282217],\n",
       "         [0.65847191],\n",
       "         [0.65847191],\n",
       "         [0.17600004],\n",
       "         [0.17600004],\n",
       "         [0.13399808],\n",
       "         [0.13399808],\n",
       "         [0.75399439],\n",
       "         [0.75399439],\n",
       "         [0.62677505],\n",
       "         [0.62677505],\n",
       "         [0.34306444],\n",
       "         [0.34306444],\n",
       "         [0.46003565],\n",
       "         [0.46003565],\n",
       "         [0.31741702],\n",
       "         [0.31741702],\n",
       "         [0.90115775],\n",
       "         [0.90115775],\n",
       "         [0.67601871],\n",
       "         [0.67601871],\n",
       "         [0.24238039],\n",
       "         [0.24238039],\n",
       "         [0.01268546],\n",
       "         [0.01268546],\n",
       "         [0.61609941],\n",
       "         [0.61609941],\n",
       "         [0.57735884],\n",
       "         [0.57735884],\n",
       "         [0.32179276],\n",
       "         [0.32179276],\n",
       "         [0.06012646],\n",
       "         [0.06012646],\n",
       "         [0.71887877],\n",
       "         [0.71887877],\n",
       "         [0.14885147],\n",
       "         [0.14885147],\n",
       "         [0.44587478],\n",
       "         [0.44587478],\n",
       "         [0.82332613],\n",
       "         [0.82332613]])}}"
      ]
     },
     "execution_count": 1,
     "metadata": {},
     "output_type": "execute_result"
    }
   ],
   "source": [
    "ds = load_by_id(run_id_a)\n",
    "ds.get_parameter_data('x1')"
   ]
  },
  {
   "cell_type": "code",
   "execution_count": null,
   "metadata": {},
   "outputs": [],
   "source": []
  }
 ],
 "metadata": {
  "kernelspec": {
   "display_name": "Python 3",
   "language": "python",
   "name": "python3"
  },
  "language_info": {
   "codemirror_mode": {
    "name": "ipython",
    "version": 3
   },
   "file_extension": ".py",
   "mimetype": "text/x-python",
   "name": "python",
   "nbconvert_exporter": "python",
   "pygments_lexer": "ipython3",
   "version": "3.7.7"
  },
  "nbsphinx": {
   "timeout": 600
  },
  "toc": {
   "base_numbering": 1,
   "nav_menu": {},
   "number_sections": true,
   "sideBar": true,
   "skip_h1_title": false,
   "title_cell": "Table of Contents",
   "title_sidebar": "Contents",
   "toc_cell": false,
   "toc_position": {},
   "toc_section_display": true,
   "toc_window_display": false
  },
  "varInspector": {
   "cols": {
    "lenName": 16,
    "lenType": 16,
    "lenVar": 40
   },
   "kernels_config": {
    "python": {
     "delete_cmd_postfix": "",
     "delete_cmd_prefix": "del ",
     "library": "var_list.py",
     "varRefreshCmd": "print(var_dic_list())"
    },
    "r": {
     "delete_cmd_postfix": ") ",
     "delete_cmd_prefix": "rm(",
     "library": "var_list.r",
     "varRefreshCmd": "cat(var_dic_list()) "
    }
   },
   "types_to_exclude": [
    "module",
    "function",
    "builtin_function_or_method",
    "instance",
    "_Feature"
   ],
   "window_display": false
  }
 },
 "nbformat": 4,
 "nbformat_minor": 2
}
