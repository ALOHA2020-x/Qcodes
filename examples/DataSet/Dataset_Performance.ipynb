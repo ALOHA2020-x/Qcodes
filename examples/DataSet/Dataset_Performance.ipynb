{
 "cells": [
  {
   "cell_type": "markdown",
   "metadata": {},
   "source": [
    "# DataSet Performance\n",
    "\n",
    "This notebook shows the trade-off between inserting data into a database row-by-row and as binary blobs. Inserting the data row-by-row means that we have direct access to all the data and may perform queries directly on the values of the data. On the other hand, as we shall see, this is much slower than inserting the data directly as binary blobs."
   ]
  },
  {
   "cell_type": "markdown",
   "metadata": {},
   "source": [
    "First, we choose a new location for the database to ensure that we don't add a bunch of benchmarking data to the default one."
   ]
  },
  {
   "cell_type": "code",
   "execution_count": 1,
   "metadata": {
    "execution": {
     "iopub.execute_input": "2021-03-08T11:16:03.497759Z",
     "iopub.status.busy": "2021-03-08T11:16:03.497130Z",
     "iopub.status.idle": "2021-03-08T11:16:04.396836Z",
     "shell.execute_reply": "2021-03-08T11:16:04.397306Z"
    }
   },
   "outputs": [
    {
     "name": "stdout",
     "output_type": "stream",
     "text": [
      "Logging hadn't been started.\n",
      "Activating auto-logging. Current session state plus future input saved.\n",
      "Filename       : /home/runner/.qcodes/logs/command_history.log\n",
      "Mode           : append\n",
      "Output logging : True\n",
      "Raw input log  : False\n",
      "Timestamping   : True\n",
      "State          : active\n"
     ]
    },
    {
     "name": "stdout",
     "output_type": "stream",
     "text": [
      "Qcodes Logfile : /home/runner/.qcodes/logs/210308-4228-qcodes.log\n"
     ]
    }
   ],
   "source": [
    "import os\n",
    "cwd = os.getcwd()\n",
    "import qcodes as qc\n",
    "qc.config[\"core\"][\"db_location\"] = os.path.join(cwd, 'testing.db')\n"
   ]
  },
  {
   "cell_type": "code",
   "execution_count": 2,
   "metadata": {
    "execution": {
     "iopub.execute_input": "2021-03-08T11:16:04.404015Z",
     "iopub.status.busy": "2021-03-08T11:16:04.403118Z",
     "iopub.status.idle": "2021-03-08T11:16:04.601643Z",
     "shell.execute_reply": "2021-03-08T11:16:04.602403Z"
    }
   },
   "outputs": [],
   "source": [
    "%matplotlib inline\n",
    "import time\n",
    "import matplotlib.pyplot as plt\n",
    "import numpy as np\n",
    "\n",
    "import qcodes as qc\n",
    "from qcodes.instrument.parameter import ManualParameter\n",
    "from qcodes.dataset.experiment_container import (Experiment,\n",
    "                                                 load_last_experiment,\n",
    "                                                 new_experiment)\n",
    "from qcodes.dataset.sqlite.database import initialise_database\n",
    "from qcodes import load_or_create_experiment\n",
    "from qcodes.dataset.measurements import Measurement"
   ]
  },
  {
   "cell_type": "code",
   "execution_count": 3,
   "metadata": {
    "execution": {
     "iopub.execute_input": "2021-03-08T11:16:04.608006Z",
     "iopub.status.busy": "2021-03-08T11:16:04.606718Z",
     "iopub.status.idle": "2021-03-08T11:16:04.716081Z",
     "shell.execute_reply": "2021-03-08T11:16:04.715563Z"
    }
   },
   "outputs": [
    {
     "name": "stdout",
     "output_type": "stream",
     "text": [
      "\r",
      "0it [00:00, ?it/s]"
     ]
    },
    {
     "name": "stdout",
     "output_type": "stream",
     "text": [
      "\r",
      "Upgrading database; v0 -> v1: : 0it [00:00, ?it/s]"
     ]
    },
    {
     "name": "stdout",
     "output_type": "stream",
     "text": [
      "\r",
      "Upgrading database; v0 -> v1: : 0it [00:00, ?it/s]"
     ]
    },
    {
     "name": "stdout",
     "output_type": "stream",
     "text": [
      "\n",
      "\r",
      "  0%|          | 0/1 [00:00<?, ?it/s]"
     ]
    },
    {
     "name": "stdout",
     "output_type": "stream",
     "text": [
      "\r",
      "Upgrading database; v1 -> v2:   0%|          | 0/1 [00:00<?, ?it/s]"
     ]
    },
    {
     "name": "stdout",
     "output_type": "stream",
     "text": [
      "\r",
      "Upgrading database; v1 -> v2: 100%|██████████| 1/1 [00:00<00:00, 1145.05it/s]"
     ]
    },
    {
     "name": "stdout",
     "output_type": "stream",
     "text": [
      "\n",
      "\r",
      "0it [00:00, ?it/s]"
     ]
    },
    {
     "name": "stdout",
     "output_type": "stream",
     "text": [
      "\r",
      "Upgrading database; v2 -> v3: : 0it [00:00, ?it/s]"
     ]
    },
    {
     "name": "stdout",
     "output_type": "stream",
     "text": [
      "\r",
      "Upgrading database; v2 -> v3: : 0it [00:00, ?it/s]"
     ]
    },
    {
     "name": "stdout",
     "output_type": "stream",
     "text": [
      "\n",
      "\r",
      "0it [00:00, ?it/s]"
     ]
    },
    {
     "name": "stdout",
     "output_type": "stream",
     "text": [
      "\r",
      "Upgrading database; v3 -> v4: : 0it [00:00, ?it/s]"
     ]
    },
    {
     "name": "stdout",
     "output_type": "stream",
     "text": [
      "\r",
      "Upgrading database; v3 -> v4: : 0it [00:00, ?it/s]"
     ]
    },
    {
     "name": "stdout",
     "output_type": "stream",
     "text": [
      "\n",
      "\r",
      "  0%|          | 0/1 [00:00<?, ?it/s]"
     ]
    },
    {
     "name": "stdout",
     "output_type": "stream",
     "text": [
      "\r",
      "Upgrading database; v4 -> v5:   0%|          | 0/1 [00:00<?, ?it/s]"
     ]
    },
    {
     "name": "stdout",
     "output_type": "stream",
     "text": [
      "\r",
      "Upgrading database; v4 -> v5: 100%|██████████| 1/1 [00:00<00:00, 834.85it/s]"
     ]
    },
    {
     "name": "stdout",
     "output_type": "stream",
     "text": [
      "\n",
      "\r",
      "0it [00:00, ?it/s]"
     ]
    },
    {
     "name": "stdout",
     "output_type": "stream",
     "text": [
      "\r",
      "Upgrading database; v5 -> v6: : 0it [00:00, ?it/s]"
     ]
    },
    {
     "name": "stdout",
     "output_type": "stream",
     "text": [
      "\r",
      "Upgrading database; v5 -> v6: : 0it [00:00, ?it/s]"
     ]
    },
    {
     "name": "stdout",
     "output_type": "stream",
     "text": [
      "\n",
      "\r",
      "  0%|          | 0/1 [00:00<?, ?it/s]"
     ]
    },
    {
     "name": "stdout",
     "output_type": "stream",
     "text": [
      "\r",
      "Upgrading database; v6 -> v7:   0%|          | 0/1 [00:00<?, ?it/s]"
     ]
    },
    {
     "name": "stdout",
     "output_type": "stream",
     "text": [
      "\r",
      "Upgrading database; v6 -> v7: 100%|██████████| 1/1 [00:00<00:00, 415.94it/s]"
     ]
    },
    {
     "name": "stdout",
     "output_type": "stream",
     "text": [
      "\n",
      "\r",
      "  0%|          | 0/1 [00:00<?, ?it/s]"
     ]
    },
    {
     "name": "stdout",
     "output_type": "stream",
     "text": [
      "\r",
      "Upgrading database; v7 -> v8:   0%|          | 0/1 [00:00<?, ?it/s]"
     ]
    },
    {
     "name": "stdout",
     "output_type": "stream",
     "text": [
      "\r",
      "Upgrading database; v7 -> v8: 100%|██████████| 1/1 [00:00<00:00, 757.64it/s]"
     ]
    },
    {
     "name": "stdout",
     "output_type": "stream",
     "text": [
      "\n",
      "\r",
      "  0%|          | 0/1 [00:00<?, ?it/s]"
     ]
    },
    {
     "name": "stdout",
     "output_type": "stream",
     "text": [
      "\r",
      "Upgrading database; v8 -> v9:   0%|          | 0/1 [00:00<?, ?it/s]"
     ]
    },
    {
     "name": "stdout",
     "output_type": "stream",
     "text": [
      "\r",
      "Upgrading database; v8 -> v9: 100%|██████████| 1/1 [00:00<00:00, 385.97it/s]"
     ]
    },
    {
     "name": "stdout",
     "output_type": "stream",
     "text": [
      "\n"
     ]
    }
   ],
   "source": [
    "initialise_database()\n",
    "exp = load_or_create_experiment(experiment_name='tutorial_exp', sample_name=\"no sample\")"
   ]
  },
  {
   "cell_type": "markdown",
   "metadata": {},
   "source": [
    "Here, we define a simple function to benchmark the time it takes to insert n points with either numeric or array data type.\n",
    "We will compare both the time used to call ``add_result`` and the time used for the full measurement."
   ]
  },
  {
   "cell_type": "code",
   "execution_count": 4,
   "metadata": {
    "execution": {
     "iopub.execute_input": "2021-03-08T11:16:04.726228Z",
     "iopub.status.busy": "2021-03-08T11:16:04.724889Z",
     "iopub.status.idle": "2021-03-08T11:16:04.726879Z",
     "shell.execute_reply": "2021-03-08T11:16:04.727352Z"
    }
   },
   "outputs": [],
   "source": [
    "def insert_data(paramtype, npoints, nreps=1):\n",
    "\n",
    "    meas = Measurement(exp=exp)\n",
    "\n",
    "    x1 = ManualParameter('x1')\n",
    "    x2 = ManualParameter('x2')\n",
    "    x3 = ManualParameter('x3')\n",
    "    y1 = ManualParameter('y1')\n",
    "    y2 = ManualParameter('y2')\n",
    "\n",
    "    meas.register_parameter(x1, paramtype=paramtype)\n",
    "    meas.register_parameter(x2, paramtype=paramtype)\n",
    "    meas.register_parameter(x3, paramtype=paramtype)\n",
    "    meas.register_parameter(y1, setpoints=[x1, x2, x3],\n",
    "                            paramtype=paramtype)\n",
    "    meas.register_parameter(y2, setpoints=[x1, x2, x3],\n",
    "                            paramtype=paramtype)\n",
    "    start = time.perf_counter()\n",
    "    with meas.run() as datasaver:\n",
    "        start_adding = time.perf_counter()\n",
    "        for i in range(nreps):\n",
    "            datasaver.add_result((x1, np.random.rand(npoints)),\n",
    "                                 (x2, np.random.rand(npoints)),\n",
    "                                 (x3, np.random.rand(npoints)),\n",
    "                                 (y1, np.random.rand(npoints)),\n",
    "                                 (y2, np.random.rand(npoints)))\n",
    "        stop_adding = time.perf_counter()\n",
    "        run_id = datasaver.run_id\n",
    "    stop = time.perf_counter()\n",
    "    tot_time = stop - start\n",
    "    add_time = stop_adding - start_adding\n",
    "    return tot_time, add_time, run_id"
   ]
  },
  {
   "cell_type": "markdown",
   "metadata": {},
   "source": [
    "## Comparison between numeric/array data and binary blob"
   ]
  },
  {
   "cell_type": "markdown",
   "metadata": {},
   "source": [
    "### Case1: Short experiment time"
   ]
  },
  {
   "cell_type": "code",
   "execution_count": 5,
   "metadata": {
    "execution": {
     "iopub.execute_input": "2021-03-08T11:16:04.734721Z",
     "iopub.status.busy": "2021-03-08T11:16:04.734075Z",
     "iopub.status.idle": "2021-03-08T11:16:05.561131Z",
     "shell.execute_reply": "2021-03-08T11:16:05.560264Z"
    }
   },
   "outputs": [
    {
     "name": "stdout",
     "output_type": "stream",
     "text": [
      "Starting experimental run with id: 1. \n",
      "Starting experimental run with id: 2. \n",
      "Starting experimental run with id: 3. \n",
      "Starting experimental run with id: 4. \n",
      "Starting experimental run with id: 5. \n"
     ]
    },
    {
     "name": "stdout",
     "output_type": "stream",
     "text": [
      "Starting experimental run with id: 6. "
     ]
    },
    {
     "name": "stdout",
     "output_type": "stream",
     "text": [
      "\n"
     ]
    },
    {
     "name": "stdout",
     "output_type": "stream",
     "text": [
      "Starting experimental run with id: 7. "
     ]
    },
    {
     "name": "stdout",
     "output_type": "stream",
     "text": [
      "\n"
     ]
    },
    {
     "name": "stdout",
     "output_type": "stream",
     "text": [
      "Starting experimental run with id: 8. \n",
      "Starting experimental run with id: 9. \n"
     ]
    },
    {
     "name": "stdout",
     "output_type": "stream",
     "text": [
      "Starting experimental run with id: 10. \n",
      "Starting experimental run with id: 11. \n"
     ]
    },
    {
     "name": "stdout",
     "output_type": "stream",
     "text": [
      "Starting experimental run with id: 12. \n",
      "Starting experimental run with id: 13. \n"
     ]
    },
    {
     "name": "stdout",
     "output_type": "stream",
     "text": [
      "Starting experimental run with id: 14. \n"
     ]
    }
   ],
   "source": [
    "sizes = [1,500,1000,2000,3000,4000,5000]\n",
    "t_numeric = []\n",
    "t_numeric_add = []\n",
    "t_array = []\n",
    "t_array_add = []\n",
    "for size in sizes:\n",
    "    tn, tna, run_id_n =  insert_data('numeric', size)\n",
    "    t_numeric.append(tn)\n",
    "    t_numeric_add.append(tna)\n",
    "\n",
    "    ta, taa, run_id_a =  insert_data('array', size)\n",
    "    t_array.append(ta)\n",
    "    t_array_add.append(taa)"
   ]
  },
  {
   "cell_type": "code",
   "execution_count": 6,
   "metadata": {
    "execution": {
     "iopub.execute_input": "2021-03-08T11:16:05.592710Z",
     "iopub.status.busy": "2021-03-08T11:16:05.582595Z",
     "iopub.status.idle": "2021-03-08T11:16:05.777297Z",
     "shell.execute_reply": "2021-03-08T11:16:05.776787Z"
    }
   },
   "outputs": [
    {
     "data": {
      "image/png": "[encoded data removed]",
      "text/plain": [
       "<Figure size 432x288 with 1 Axes>"
      ]
     },
     "metadata": {
      "needs_background": "light"
     },
     "output_type": "display_data"
    }
   ],
   "source": [
    "fig, ax = plt.subplots(1,1)\n",
    "ax.plot(sizes, t_numeric, 'o-', label='Inserting row-by-row')\n",
    "ax.plot(sizes, t_numeric_add, 'o-', label='Inserting row-by-row: add_result only')\n",
    "ax.plot(sizes, t_array, 'd-', label='Inserting as binary blob')\n",
    "ax.plot(sizes, t_array_add, 'd-', label='Inserting as binary blob: add_result only')\n",
    "ax.legend()\n",
    "ax.set_xlabel('Array length')\n",
    "ax.set_ylabel('Time (s)')\n",
    "fig.tight_layout()"
   ]
  },
  {
   "cell_type": "markdown",
   "metadata": {},
   "source": [
    "As shown in the latter figure, the time to setup and and close the experiment is approximately 0.4 sec. In case of small array sizes, the difference between inserting values of data as arrays and inserting them row-by-row is relatively unimportant. At larger array sizes, i.e. above 10000 points, the cost of writing data as individual datapoints starts to become important.\n"
   ]
  },
  {
   "cell_type": "markdown",
   "metadata": {},
   "source": [
    "### Case2: Long experiment time "
   ]
  },
  {
   "cell_type": "code",
   "execution_count": 7,
   "metadata": {
    "execution": {
     "iopub.execute_input": "2021-03-08T11:16:05.784167Z",
     "iopub.status.busy": "2021-03-08T11:16:05.783582Z",
     "iopub.status.idle": "2021-03-08T11:17:06.393435Z",
     "shell.execute_reply": "2021-03-08T11:17:06.392247Z"
    }
   },
   "outputs": [
    {
     "name": "stdout",
     "output_type": "stream",
     "text": [
      "Starting experimental run with id: 15. \n",
      "Starting experimental run with id: 16. \n",
      "Starting experimental run with id: 17. \n"
     ]
    },
    {
     "name": "stdout",
     "output_type": "stream",
     "text": [
      "Starting experimental run with id: 18. \n"
     ]
    },
    {
     "name": "stdout",
     "output_type": "stream",
     "text": [
      "Starting experimental run with id: 19. \n"
     ]
    },
    {
     "name": "stdout",
     "output_type": "stream",
     "text": [
      "Starting experimental run with id: 20. \n"
     ]
    },
    {
     "name": "stdout",
     "output_type": "stream",
     "text": [
      "Starting experimental run with id: 21. \n"
     ]
    },
    {
     "name": "stdout",
     "output_type": "stream",
     "text": [
      "Starting experimental run with id: 22. \n"
     ]
    },
    {
     "name": "stdout",
     "output_type": "stream",
     "text": [
      "Starting experimental run with id: 23. \n"
     ]
    },
    {
     "name": "stdout",
     "output_type": "stream",
     "text": [
      "Starting experimental run with id: 24. \n"
     ]
    },
    {
     "name": "stdout",
     "output_type": "stream",
     "text": [
      "Starting experimental run with id: 25. \n"
     ]
    },
    {
     "name": "stdout",
     "output_type": "stream",
     "text": [
      "Starting experimental run with id: 26. \n"
     ]
    },
    {
     "name": "stdout",
     "output_type": "stream",
     "text": [
      "Starting experimental run with id: 27. \n"
     ]
    },
    {
     "name": "stdout",
     "output_type": "stream",
     "text": [
      "Starting experimental run with id: 28. \n"
     ]
    }
   ],
   "source": [
    "sizes = [1,500,1000,2000,3000,4000,5000]\n",
    "nreps = 100\n",
    "t_numeric = []\n",
    "t_numeric_add = []\n",
    "t_numeric_run_ids = []\n",
    "t_array = []\n",
    "t_array_add = []\n",
    "t_array_run_ids = []\n",
    "for size in sizes:\n",
    "    tn, tna, run_id_n =  insert_data('numeric', size, nreps=nreps)\n",
    "    t_numeric.append(tn)\n",
    "    t_numeric_add.append(tna)\n",
    "    t_numeric_run_ids.append(run_id_n)\n",
    "\n",
    "    ta, taa, run_id_a =  insert_data('array', size, nreps=nreps)\n",
    "    t_array.append(ta)\n",
    "    t_array_add.append(taa)\n",
    "    t_array_run_ids.append(run_id_a)"
   ]
  },
  {
   "cell_type": "code",
   "execution_count": 8,
   "metadata": {
    "execution": {
     "iopub.execute_input": "2021-03-08T11:17:06.434874Z",
     "iopub.status.busy": "2021-03-08T11:17:06.433877Z",
     "iopub.status.idle": "2021-03-08T11:17:06.605130Z",
     "shell.execute_reply": "2021-03-08T11:17:06.604620Z"
    },
    "scrolled": true
   },
   "outputs": [
    {
     "data": {
      "image/png": "[encoded data removed]",
      "text/plain": [
       "<Figure size 432x288 with 1 Axes>"
      ]
     },
     "metadata": {
      "needs_background": "light"
     },
     "output_type": "display_data"
    }
   ],
   "source": [
    "fig, ax = plt.subplots(1,1)\n",
    "ax.plot(sizes, t_numeric, 'o-', label='Inserting row-by-row')\n",
    "ax.plot(sizes, t_numeric_add, 'o-', label='Inserting row-by-row: add_result only')\n",
    "ax.plot(sizes, t_array, 'd-', label='Inserting as binary blob')\n",
    "ax.plot(sizes, t_array_add, 'd-', label='Inserting as binary blob: add_result only')\n",
    "ax.legend()\n",
    "ax.set_xlabel('Array length')\n",
    "ax.set_ylabel('Time (s)')\n",
    "fig.tight_layout()"
   ]
  },
  {
   "cell_type": "markdown",
   "metadata": {},
   "source": [
    "However, as we increase the length of the experiment, as seen here by repeating the insertion 100 times, we see a big difference between inserting values of the data row-by-row and inserting it as a binary blob."
   ]
  },
  {
   "cell_type": "markdown",
   "metadata": {},
   "source": [
    "## Loading the data "
   ]
  },
  {
   "cell_type": "code",
   "execution_count": 9,
   "metadata": {
    "execution": {
     "iopub.execute_input": "2021-03-08T11:17:06.610039Z",
     "iopub.status.busy": "2021-03-08T11:17:06.609382Z",
     "iopub.status.idle": "2021-03-08T11:17:06.611716Z",
     "shell.execute_reply": "2021-03-08T11:17:06.612162Z"
    }
   },
   "outputs": [],
   "source": [
    "from qcodes.dataset.data_set import load_by_id\n",
    "from qcodes.dataset.data_export import get_data_by_id"
   ]
  },
  {
   "cell_type": "markdown",
   "metadata": {},
   "source": [
    "As usual you can load the data by using the ``load_by_id`` function but you will notice that the different storage methods\n",
    "are reflected in shape of the data as it is retrieved. "
   ]
  },
  {
   "cell_type": "code",
   "execution_count": 10,
   "metadata": {
    "execution": {
     "iopub.execute_input": "2021-03-08T11:17:06.617115Z",
     "iopub.status.busy": "2021-03-08T11:17:06.615870Z",
     "iopub.status.idle": "2021-03-08T11:17:06.617767Z",
     "shell.execute_reply": "2021-03-08T11:17:06.618264Z"
    }
   },
   "outputs": [],
   "source": [
    "run_id_n = t_numeric_run_ids[0]\n",
    "run_id_a = t_array_run_ids[0]"
   ]
  },
  {
   "cell_type": "code",
   "execution_count": 11,
   "metadata": {
    "execution": {
     "iopub.execute_input": "2021-03-08T11:17:06.621737Z",
     "iopub.status.busy": "2021-03-08T11:17:06.621172Z",
     "iopub.status.idle": "2021-03-08T11:17:06.630727Z",
     "shell.execute_reply": "2021-03-08T11:17:06.631172Z"
    },
    "scrolled": true
   },
   "outputs": [
    {
     "data": {
      "text/plain": [
       "{'x1': {'x1': array([0.42815047, 0.42815047, 0.87446047, 0.87446047, 0.66274428,\n",
       "         0.66274428, 0.8219692 , 0.8219692 , 0.24903787, 0.24903787,\n",
       "         0.96577986, 0.96577986, 0.16351561, 0.16351561, 0.11269105,\n",
       "         0.11269105, 0.32319822, 0.32319822, 0.37983922, 0.37983922,\n",
       "         0.92852101, 0.92852101, 0.29071241, 0.29071241, 0.26699569,\n",
       "         0.26699569, 0.03025684, 0.03025684, 0.83165259, 0.83165259,\n",
       "         0.25139814, 0.25139814, 0.02407397, 0.02407397, 0.96696622,\n",
       "         0.96696622, 0.39287067, 0.39287067, 0.08062056, 0.08062056,\n",
       "         0.71389276, 0.71389276, 0.79535555, 0.79535555, 0.84682203,\n",
       "         0.84682203, 0.8595479 , 0.8595479 , 0.72120505, 0.72120505,\n",
       "         0.21313515, 0.21313515, 0.50003548, 0.50003548, 0.6455646 ,\n",
       "         0.6455646 , 0.24471143, 0.24471143, 0.03063259, 0.03063259,\n",
       "         0.91889137, 0.91889137, 0.39370357, 0.39370357, 0.79850896,\n",
       "         0.79850896, 0.55232724, 0.55232724, 0.80702233, 0.80702233,\n",
       "         0.41887814, 0.41887814, 0.78614126, 0.78614126, 0.51014535,\n",
       "         0.51014535, 0.46488747, 0.46488747, 0.86912399, 0.86912399,\n",
       "         0.27482644, 0.27482644, 0.56699737, 0.56699737, 0.06717253,\n",
       "         0.06717253, 0.83356234, 0.83356234, 0.61181392, 0.61181392,\n",
       "         0.51764586, 0.51764586, 0.72914606, 0.72914606, 0.02691295,\n",
       "         0.02691295, 0.37086433, 0.37086433, 0.95403984, 0.95403984,\n",
       "         0.70398438, 0.70398438, 0.26941827, 0.26941827, 0.25718235,\n",
       "         0.25718235, 0.30140262, 0.30140262, 0.73388396, 0.73388396,\n",
       "         0.27104908, 0.27104908, 0.44115429, 0.44115429, 0.99690501,\n",
       "         0.99690501, 0.89082096, 0.89082096, 0.79020943, 0.79020943,\n",
       "         0.40874442, 0.40874442, 0.69329696, 0.69329696, 0.55272981,\n",
       "         0.55272981, 0.57713396, 0.57713396, 0.13906071, 0.13906071,\n",
       "         0.26416841, 0.26416841, 0.37880973, 0.37880973, 0.97578281,\n",
       "         0.97578281, 0.48142394, 0.48142394, 0.583834  , 0.583834  ,\n",
       "         0.17082533, 0.17082533, 0.62246751, 0.62246751, 0.74143492,\n",
       "         0.74143492, 0.13499225, 0.13499225, 0.94845853, 0.94845853,\n",
       "         0.89583323, 0.89583323, 0.99425218, 0.99425218, 0.99395117,\n",
       "         0.99395117, 0.92312222, 0.92312222, 0.55392715, 0.55392715,\n",
       "         0.9328189 , 0.9328189 , 0.09571931, 0.09571931, 0.83183707,\n",
       "         0.83183707, 0.95691369, 0.95691369, 0.08286684, 0.08286684,\n",
       "         0.25762122, 0.25762122, 0.18820621, 0.18820621, 0.31767538,\n",
       "         0.31767538, 0.64467911, 0.64467911, 0.57829101, 0.57829101,\n",
       "         0.93779081, 0.93779081, 0.77710873, 0.77710873, 0.89981845,\n",
       "         0.89981845, 0.79274473, 0.79274473, 0.14375021, 0.14375021,\n",
       "         0.17983595, 0.17983595, 0.72534512, 0.72534512, 0.01704219,\n",
       "         0.01704219, 0.9152955 , 0.9152955 , 0.16867463, 0.16867463])}}"
      ]
     },
     "execution_count": 1,
     "metadata": {},
     "output_type": "execute_result"
    }
   ],
   "source": [
    "ds = load_by_id(run_id_n)\n",
    "ds.get_parameter_data('x1')"
   ]
  },
  {
   "cell_type": "markdown",
   "metadata": {},
   "source": [
    "And a dataset stored as binary arrays"
   ]
  },
  {
   "cell_type": "code",
   "execution_count": 12,
   "metadata": {
    "execution": {
     "iopub.execute_input": "2021-03-08T11:17:06.634739Z",
     "iopub.status.busy": "2021-03-08T11:17:06.634170Z",
     "iopub.status.idle": "2021-03-08T11:17:06.692500Z",
     "shell.execute_reply": "2021-03-08T11:17:06.693104Z"
    },
    "scrolled": true
   },
   "outputs": [
    {
     "data": {
      "text/plain": [
       "{'x1': {'x1': array([[0.97771265],\n",
       "         [0.97771265],\n",
       "         [0.68626106],\n",
       "         [0.68626106],\n",
       "         [0.15953902],\n",
       "         [0.15953902],\n",
       "         [0.59621965],\n",
       "         [0.59621965],\n",
       "         [0.98995809],\n",
       "         [0.98995809],\n",
       "         [0.58153006],\n",
       "         [0.58153006],\n",
       "         [0.17446812],\n",
       "         [0.17446812],\n",
       "         [0.16557998],\n",
       "         [0.16557998],\n",
       "         [0.48030699],\n",
       "         [0.48030699],\n",
       "         [0.42361574],\n",
       "         [0.42361574],\n",
       "         [0.93145428],\n",
       "         [0.93145428],\n",
       "         [0.74525628],\n",
       "         [0.74525628],\n",
       "         [0.86069305],\n",
       "         [0.86069305],\n",
       "         [0.70541525],\n",
       "         [0.70541525],\n",
       "         [0.37770705],\n",
       "         [0.37770705],\n",
       "         [0.42199017],\n",
       "         [0.42199017],\n",
       "         [0.46892364],\n",
       "         [0.46892364],\n",
       "         [0.33569547],\n",
       "         [0.33569547],\n",
       "         [0.84667037],\n",
       "         [0.84667037],\n",
       "         [0.16758218],\n",
       "         [0.16758218],\n",
       "         [0.79955647],\n",
       "         [0.79955647],\n",
       "         [0.5080308 ],\n",
       "         [0.5080308 ],\n",
       "         [0.15854549],\n",
       "         [0.15854549],\n",
       "         [0.52599289],\n",
       "         [0.52599289],\n",
       "         [0.98837566],\n",
       "         [0.98837566],\n",
       "         [0.00414354],\n",
       "         [0.00414354],\n",
       "         [0.25426557],\n",
       "         [0.25426557],\n",
       "         [0.32815737],\n",
       "         [0.32815737],\n",
       "         [0.25819561],\n",
       "         [0.25819561],\n",
       "         [0.51478629],\n",
       "         [0.51478629],\n",
       "         [0.6578134 ],\n",
       "         [0.6578134 ],\n",
       "         [0.5318842 ],\n",
       "         [0.5318842 ],\n",
       "         [0.90221592],\n",
       "         [0.90221592],\n",
       "         [0.75582692],\n",
       "         [0.75582692],\n",
       "         [0.647407  ],\n",
       "         [0.647407  ],\n",
       "         [0.04372149],\n",
       "         [0.04372149],\n",
       "         [0.11747096],\n",
       "         [0.11747096],\n",
       "         [0.18377164],\n",
       "         [0.18377164],\n",
       "         [0.3881254 ],\n",
       "         [0.3881254 ],\n",
       "         [0.33782146],\n",
       "         [0.33782146],\n",
       "         [0.79666788],\n",
       "         [0.79666788],\n",
       "         [0.15702066],\n",
       "         [0.15702066],\n",
       "         [0.62766248],\n",
       "         [0.62766248],\n",
       "         [0.00241361],\n",
       "         [0.00241361],\n",
       "         [0.94872513],\n",
       "         [0.94872513],\n",
       "         [0.85806787],\n",
       "         [0.85806787],\n",
       "         [0.54411331],\n",
       "         [0.54411331],\n",
       "         [0.0438275 ],\n",
       "         [0.0438275 ],\n",
       "         [0.72395646],\n",
       "         [0.72395646],\n",
       "         [0.23943491],\n",
       "         [0.23943491],\n",
       "         [0.55407175],\n",
       "         [0.55407175],\n",
       "         [0.55125398],\n",
       "         [0.55125398],\n",
       "         [0.74016613],\n",
       "         [0.74016613],\n",
       "         [0.599246  ],\n",
       "         [0.599246  ],\n",
       "         [0.65505641],\n",
       "         [0.65505641],\n",
       "         [0.65478748],\n",
       "         [0.65478748],\n",
       "         [0.69743846],\n",
       "         [0.69743846],\n",
       "         [0.39171164],\n",
       "         [0.39171164],\n",
       "         [0.01644672],\n",
       "         [0.01644672],\n",
       "         [0.08099699],\n",
       "         [0.08099699],\n",
       "         [0.90198982],\n",
       "         [0.90198982],\n",
       "         [0.24267679],\n",
       "         [0.24267679],\n",
       "         [0.33828046],\n",
       "         [0.33828046],\n",
       "         [0.20749882],\n",
       "         [0.20749882],\n",
       "         [0.67670233],\n",
       "         [0.67670233],\n",
       "         [0.57645737],\n",
       "         [0.57645737],\n",
       "         [0.68665738],\n",
       "         [0.68665738],\n",
       "         [0.14994591],\n",
       "         [0.14994591],\n",
       "         [0.72381622],\n",
       "         [0.72381622],\n",
       "         [0.90638215],\n",
       "         [0.90638215],\n",
       "         [0.81643296],\n",
       "         [0.81643296],\n",
       "         [0.31307292],\n",
       "         [0.31307292],\n",
       "         [0.31324775],\n",
       "         [0.31324775],\n",
       "         [0.61969774],\n",
       "         [0.61969774],\n",
       "         [0.53813772],\n",
       "         [0.53813772],\n",
       "         [0.76253057],\n",
       "         [0.76253057],\n",
       "         [0.84228165],\n",
       "         [0.84228165],\n",
       "         [0.36704251],\n",
       "         [0.36704251],\n",
       "         [0.64778947],\n",
       "         [0.64778947],\n",
       "         [0.91252894],\n",
       "         [0.91252894],\n",
       "         [0.48099927],\n",
       "         [0.48099927],\n",
       "         [0.42387271],\n",
       "         [0.42387271],\n",
       "         [0.87078235],\n",
       "         [0.87078235],\n",
       "         [0.60727708],\n",
       "         [0.60727708],\n",
       "         [0.43565226],\n",
       "         [0.43565226],\n",
       "         [0.37266727],\n",
       "         [0.37266727],\n",
       "         [0.3100101 ],\n",
       "         [0.3100101 ],\n",
       "         [0.59285762],\n",
       "         [0.59285762],\n",
       "         [0.29048605],\n",
       "         [0.29048605],\n",
       "         [0.27844323],\n",
       "         [0.27844323],\n",
       "         [0.16405734],\n",
       "         [0.16405734],\n",
       "         [0.10287285],\n",
       "         [0.10287285],\n",
       "         [0.33696334],\n",
       "         [0.33696334],\n",
       "         [0.5909877 ],\n",
       "         [0.5909877 ],\n",
       "         [0.42530314],\n",
       "         [0.42530314],\n",
       "         [0.31389258],\n",
       "         [0.31389258],\n",
       "         [0.3315298 ],\n",
       "         [0.3315298 ],\n",
       "         [0.12218479],\n",
       "         [0.12218479],\n",
       "         [0.24547257],\n",
       "         [0.24547257],\n",
       "         [0.69730768],\n",
       "         [0.69730768]])}}"
      ]
     },
     "execution_count": 1,
     "metadata": {},
     "output_type": "execute_result"
    }
   ],
   "source": [
    "ds = load_by_id(run_id_a)\n",
    "ds.get_parameter_data('x1')"
   ]
  },
  {
   "cell_type": "code",
   "execution_count": null,
   "metadata": {},
   "outputs": [],
   "source": []
  }
 ],
 "metadata": {
  "kernelspec": {
   "display_name": "Python 3",
   "language": "python",
   "name": "python3"
  },
  "language_info": {
   "codemirror_mode": {
    "name": "ipython",
    "version": 3
   },
   "file_extension": ".py",
   "mimetype": "text/x-python",
   "name": "python",
   "nbconvert_exporter": "python",
   "pygments_lexer": "ipython3",
   "version": "3.7.10"
  },
  "nbsphinx": {
   "timeout": 600
  },
  "toc": {
   "base_numbering": 1,
   "nav_menu": {},
   "number_sections": true,
   "sideBar": true,
   "skip_h1_title": false,
   "title_cell": "Table of Contents",
   "title_sidebar": "Contents",
   "toc_cell": false,
   "toc_position": {},
   "toc_section_display": true,
   "toc_window_display": false
  },
  "varInspector": {
   "cols": {
    "lenName": 16,
    "lenType": 16,
    "lenVar": 40
   },
   "kernels_config": {
    "python": {
     "delete_cmd_postfix": "",
     "delete_cmd_prefix": "del ",
     "library": "var_list.py",
     "varRefreshCmd": "print(var_dic_list())"
    },
    "r": {
     "delete_cmd_postfix": ") ",
     "delete_cmd_prefix": "rm(",
     "library": "var_list.r",
     "varRefreshCmd": "cat(var_dic_list()) "
    }
   },
   "types_to_exclude": [
    "module",
    "function",
    "builtin_function_or_method",
    "instance",
    "_Feature"
   ],
   "window_display": false
  }
 },
 "nbformat": 4,
 "nbformat_minor": 2
}
