{
 "cells": [
  {
   "cell_type": "markdown",
   "metadata": {},
   "source": [
    "# DataSet Performance\n",
    "\n",
    "This notebook shows the trade-off between inserting data into a database row-by-row and as binary blobs. Inserting the data row-by-row means that we have direct access to all the data and may perform queries directly on the values of the data. On the other hand, as we shall see, this is much slower than inserting the data directly as binary blobs."
   ]
  },
  {
   "cell_type": "markdown",
   "metadata": {},
   "source": [
    "First, we choose a new location for the database to ensure that we don't add a bunch of benchmarking data to the default one."
   ]
  },
  {
   "cell_type": "code",
   "execution_count": 1,
   "metadata": {},
   "outputs": [
    {
     "name": "stdout",
     "output_type": "stream",
     "text": [
      "Logging hadn't been started.\n",
      "Activating auto-logging. Current session state plus future input saved.\n",
      "Filename       : /home/vsts/.qcodes/logs/command_history.log\n",
      "Mode           : append\n",
      "Output logging : True\n",
      "Raw input log  : False\n",
      "Timestamping   : True\n",
      "State          : active\n"
     ]
    },
    {
     "name": "stdout",
     "output_type": "stream",
     "text": [
      "Qcodes Logfile : /home/vsts/.qcodes/logs/200804-17501-qcodes.log\n"
     ]
    }
   ],
   "source": [
    "import os\n",
    "cwd = os.getcwd()\n",
    "import qcodes as qc\n",
    "qc.config[\"core\"][\"db_location\"] = os.path.join(cwd, 'testing.db')\n"
   ]
  },
  {
   "cell_type": "code",
   "execution_count": 2,
   "metadata": {},
   "outputs": [],
   "source": [
    "%matplotlib inline\n",
    "import time\n",
    "import matplotlib.pyplot as plt\n",
    "import numpy as np\n",
    "\n",
    "import qcodes as qc\n",
    "from qcodes.instrument.parameter import ManualParameter\n",
    "from qcodes.dataset.experiment_container import (Experiment,\n",
    "                                                 load_last_experiment,\n",
    "                                                 new_experiment)\n",
    "from qcodes.dataset.sqlite.database import initialise_database\n",
    "from qcodes import load_or_create_experiment\n",
    "from qcodes.dataset.measurements import Measurement"
   ]
  },
  {
   "cell_type": "code",
   "execution_count": 3,
   "metadata": {},
   "outputs": [
    {
     "name": "stdout",
     "output_type": "stream",
     "text": [
      "\r",
      "0it [00:00, ?it/s]"
     ]
    },
    {
     "name": "stdout",
     "output_type": "stream",
     "text": [
      "\r",
      "Upgrading database; v0 -> v1: : 0it [00:00, ?it/s]"
     ]
    },
    {
     "name": "stdout",
     "output_type": "stream",
     "text": [
      "\r",
      "Upgrading database; v0 -> v1: : 0it [00:00, ?it/s]"
     ]
    },
    {
     "name": "stdout",
     "output_type": "stream",
     "text": [
      "\n",
      "\r",
      "  0%|          | 0/1 [00:00<?, ?it/s]"
     ]
    },
    {
     "name": "stdout",
     "output_type": "stream",
     "text": [
      "\r",
      "Upgrading database; v1 -> v2:   0%|          | 0/1 [00:00<?, ?it/s]"
     ]
    },
    {
     "name": "stdout",
     "output_type": "stream",
     "text": [
      "\r",
      "Upgrading database; v1 -> v2: 100%|██████████| 1/1 [00:00<00:00, 955.86it/s]"
     ]
    },
    {
     "name": "stdout",
     "output_type": "stream",
     "text": [
      "\n",
      "\r",
      "0it [00:00, ?it/s]"
     ]
    },
    {
     "name": "stdout",
     "output_type": "stream",
     "text": [
      "\r",
      "Upgrading database; v2 -> v3: : 0it [00:00, ?it/s]"
     ]
    },
    {
     "name": "stdout",
     "output_type": "stream",
     "text": [
      "\r",
      "Upgrading database; v2 -> v3: : 0it [00:00, ?it/s]"
     ]
    },
    {
     "name": "stdout",
     "output_type": "stream",
     "text": [
      "\n",
      "\r",
      "0it [00:00, ?it/s]"
     ]
    },
    {
     "name": "stdout",
     "output_type": "stream",
     "text": [
      "\r",
      "Upgrading database; v3 -> v4: : 0it [00:00, ?it/s]"
     ]
    },
    {
     "name": "stdout",
     "output_type": "stream",
     "text": [
      "\r",
      "Upgrading database; v3 -> v4: : 0it [00:00, ?it/s]"
     ]
    },
    {
     "name": "stdout",
     "output_type": "stream",
     "text": [
      "\n",
      "\r",
      "  0%|          | 0/1 [00:00<?, ?it/s]"
     ]
    },
    {
     "name": "stdout",
     "output_type": "stream",
     "text": [
      "\r",
      "Upgrading database; v4 -> v5:   0%|          | 0/1 [00:00<?, ?it/s]"
     ]
    },
    {
     "name": "stdout",
     "output_type": "stream",
     "text": [
      "\r",
      "Upgrading database; v4 -> v5: 100%|██████████| 1/1 [00:00<00:00, 610.17it/s]"
     ]
    },
    {
     "name": "stdout",
     "output_type": "stream",
     "text": [
      "\n",
      "\r",
      "0it [00:00, ?it/s]"
     ]
    },
    {
     "name": "stdout",
     "output_type": "stream",
     "text": [
      "\r",
      "Upgrading database; v5 -> v6: : 0it [00:00, ?it/s]"
     ]
    },
    {
     "name": "stdout",
     "output_type": "stream",
     "text": [
      "\r",
      "Upgrading database; v5 -> v6: : 0it [00:00, ?it/s]"
     ]
    },
    {
     "name": "stdout",
     "output_type": "stream",
     "text": [
      "\n",
      "\r",
      "  0%|          | 0/1 [00:00<?, ?it/s]"
     ]
    },
    {
     "name": "stdout",
     "output_type": "stream",
     "text": [
      "\r",
      "Upgrading database; v6 -> v7:   0%|          | 0/1 [00:00<?, ?it/s]"
     ]
    },
    {
     "name": "stdout",
     "output_type": "stream",
     "text": [
      "\r",
      "Upgrading database; v6 -> v7: 100%|██████████| 1/1 [00:00<00:00, 291.78it/s]"
     ]
    },
    {
     "name": "stdout",
     "output_type": "stream",
     "text": [
      "\n",
      "\r",
      "  0%|          | 0/1 [00:00<?, ?it/s]"
     ]
    },
    {
     "name": "stdout",
     "output_type": "stream",
     "text": [
      "\r",
      "Upgrading database; v7 -> v8:   0%|          | 0/1 [00:00<?, ?it/s]"
     ]
    },
    {
     "name": "stdout",
     "output_type": "stream",
     "text": [
      "\r",
      "Upgrading database; v7 -> v8: 100%|██████████| 1/1 [00:00<00:00, 774.14it/s]"
     ]
    },
    {
     "name": "stdout",
     "output_type": "stream",
     "text": [
      "\n",
      "\r",
      "  0%|          | 0/1 [00:00<?, ?it/s]"
     ]
    },
    {
     "name": "stdout",
     "output_type": "stream",
     "text": [
      "\r",
      "Upgrading database; v8 -> v9:   0%|          | 0/1 [00:00<?, ?it/s]"
     ]
    },
    {
     "name": "stdout",
     "output_type": "stream",
     "text": [
      "\r",
      "Upgrading database; v8 -> v9: 100%|██████████| 1/1 [00:00<00:00, 1048.84it/s]"
     ]
    },
    {
     "name": "stdout",
     "output_type": "stream",
     "text": [
      "\n"
     ]
    }
   ],
   "source": [
    "initialise_database()\n",
    "exp = load_or_create_experiment(experiment_name='tutorial_exp', sample_name=\"no sample\")"
   ]
  },
  {
   "cell_type": "markdown",
   "metadata": {},
   "source": [
    "Here, we define a simple function to benchmark the time it takes to insert n points with either numeric or array data type.\n",
    "We will compare both the time used to call ``add_result`` and the time used for the full measurement."
   ]
  },
  {
   "cell_type": "code",
   "execution_count": 4,
   "metadata": {},
   "outputs": [],
   "source": [
    "def insert_data(paramtype, npoints, nreps=1):\n",
    "\n",
    "    meas = Measurement(exp=exp)\n",
    "\n",
    "    x1 = ManualParameter('x1')\n",
    "    x2 = ManualParameter('x2')\n",
    "    x3 = ManualParameter('x3')\n",
    "    y1 = ManualParameter('y1')\n",
    "    y2 = ManualParameter('y2')\n",
    "\n",
    "    meas.register_parameter(x1, paramtype=paramtype)\n",
    "    meas.register_parameter(x2, paramtype=paramtype)\n",
    "    meas.register_parameter(x3, paramtype=paramtype)\n",
    "    meas.register_parameter(y1, setpoints=[x1, x2, x3],\n",
    "                            paramtype=paramtype)\n",
    "    meas.register_parameter(y2, setpoints=[x1, x2, x3],\n",
    "                            paramtype=paramtype)\n",
    "    start = time.perf_counter()\n",
    "    with meas.run() as datasaver:\n",
    "        start_adding = time.perf_counter()\n",
    "        for i in range(nreps):\n",
    "            datasaver.add_result((x1, np.random.rand(npoints)),\n",
    "                                 (x2, np.random.rand(npoints)),\n",
    "                                 (x3, np.random.rand(npoints)),\n",
    "                                 (y1, np.random.rand(npoints)),\n",
    "                                 (y2, np.random.rand(npoints)))\n",
    "        stop_adding = time.perf_counter()\n",
    "        run_id = datasaver.run_id\n",
    "    stop = time.perf_counter()\n",
    "    tot_time = stop - start\n",
    "    add_time = stop_adding - start_adding\n",
    "    return tot_time, add_time, run_id"
   ]
  },
  {
   "cell_type": "markdown",
   "metadata": {},
   "source": [
    "## Comparison between numeric/array data and binary blob"
   ]
  },
  {
   "cell_type": "markdown",
   "metadata": {},
   "source": [
    "### Case1: Short experiment time"
   ]
  },
  {
   "cell_type": "code",
   "execution_count": 5,
   "metadata": {},
   "outputs": [
    {
     "name": "stdout",
     "output_type": "stream",
     "text": [
      "Starting experimental run with id: 1. \n",
      "Starting experimental run with id: 2. \n",
      "Starting experimental run with id: 3. \n"
     ]
    },
    {
     "name": "stdout",
     "output_type": "stream",
     "text": [
      "Starting experimental run with id: 4. \n"
     ]
    },
    {
     "name": "stdout",
     "output_type": "stream",
     "text": [
      "Starting experimental run with id: 5. \n"
     ]
    },
    {
     "name": "stdout",
     "output_type": "stream",
     "text": [
      "Starting experimental run with id: 6. \n"
     ]
    },
    {
     "name": "stdout",
     "output_type": "stream",
     "text": [
      "Starting experimental run with id: 7. \n",
      "Starting experimental run with id: 8. \n",
      "Starting experimental run with id: 9. \n"
     ]
    },
    {
     "name": "stdout",
     "output_type": "stream",
     "text": [
      "Starting experimental run with id: 10. \n",
      "Starting experimental run with id: 11. \n",
      "Starting experimental run with id: 12. \n",
      "Starting experimental run with id: 13. \n"
     ]
    },
    {
     "name": "stdout",
     "output_type": "stream",
     "text": [
      "Starting experimental run with id: 14. \n"
     ]
    }
   ],
   "source": [
    "sizes = [1,500,1000,2000,3000,4000,5000]\n",
    "t_numeric = []\n",
    "t_numeric_add = []\n",
    "t_array = []\n",
    "t_array_add = []\n",
    "for size in sizes:\n",
    "    tn, tna, run_id_n =  insert_data('numeric', size)\n",
    "    t_numeric.append(tn)\n",
    "    t_numeric_add.append(tna)\n",
    "\n",
    "    ta, taa, run_id_a =  insert_data('array', size)\n",
    "    t_array.append(ta)\n",
    "    t_array_add.append(taa)"
   ]
  },
  {
   "cell_type": "code",
   "execution_count": 6,
   "metadata": {},
   "outputs": [
    {
     "data": {
      "image/png": "[encoded data removed]",
      "text/plain": [
       "<Figure size 432x288 with 1 Axes>"
      ]
     },
     "metadata": {
      "needs_background": "light"
     },
     "output_type": "display_data"
    }
   ],
   "source": [
    "fig, ax = plt.subplots(1,1)\n",
    "ax.plot(sizes, t_numeric, 'o-', label='Inserting row-by-row')\n",
    "ax.plot(sizes, t_numeric_add, 'o-', label='Inserting row-by-row: add_result only')\n",
    "ax.plot(sizes, t_array, 'd-', label='Inserting as binary blob')\n",
    "ax.plot(sizes, t_array_add, 'd-', label='Inserting as binary blob: add_result only')\n",
    "ax.legend()\n",
    "ax.set_xlabel('Array length')\n",
    "ax.set_ylabel('Time (s)')\n",
    "fig.tight_layout()"
   ]
  },
  {
   "cell_type": "markdown",
   "metadata": {},
   "source": [
    "As shown in the latter figure, the time to setup and and close the experiment is approximately 0.4 sec. In case of small array sizes, the difference between inserting values of data as arrays and inserting them row-by-row is relatively unimportant. At larger array sizes, i.e. above 10000 points, the cost of writing data as individual datapoints starts to become important.\n"
   ]
  },
  {
   "cell_type": "markdown",
   "metadata": {},
   "source": [
    "### Case2: Long experiment time "
   ]
  },
  {
   "cell_type": "code",
   "execution_count": 7,
   "metadata": {},
   "outputs": [
    {
     "name": "stdout",
     "output_type": "stream",
     "text": [
      "Starting experimental run with id: 15. \n",
      "Starting experimental run with id: 16. \n",
      "Starting experimental run with id: 17. \n"
     ]
    },
    {
     "name": "stdout",
     "output_type": "stream",
     "text": [
      "Starting experimental run with id: 18. \n",
      "Starting experimental run with id: 19. \n"
     ]
    },
    {
     "name": "stdout",
     "output_type": "stream",
     "text": [
      "Starting experimental run with id: 20. \n"
     ]
    },
    {
     "name": "stdout",
     "output_type": "stream",
     "text": [
      "Starting experimental run with id: 21. \n"
     ]
    },
    {
     "name": "stdout",
     "output_type": "stream",
     "text": [
      "Starting experimental run with id: 22. \n"
     ]
    },
    {
     "name": "stdout",
     "output_type": "stream",
     "text": [
      "Starting experimental run with id: 23. \n"
     ]
    },
    {
     "name": "stdout",
     "output_type": "stream",
     "text": [
      "Starting experimental run with id: 24. \n"
     ]
    },
    {
     "name": "stdout",
     "output_type": "stream",
     "text": [
      "Starting experimental run with id: 25. \n"
     ]
    },
    {
     "name": "stdout",
     "output_type": "stream",
     "text": [
      "Starting experimental run with id: 26. \n"
     ]
    },
    {
     "name": "stdout",
     "output_type": "stream",
     "text": [
      "Starting experimental run with id: 27. \n"
     ]
    },
    {
     "name": "stdout",
     "output_type": "stream",
     "text": [
      "Starting experimental run with id: 28. \n"
     ]
    }
   ],
   "source": [
    "sizes = [1,500,1000,2000,3000,4000,5000]\n",
    "nreps = 100\n",
    "t_numeric = []\n",
    "t_numeric_add = []\n",
    "t_numeric_run_ids = []\n",
    "t_array = []\n",
    "t_array_add = []\n",
    "t_array_run_ids = []\n",
    "for size in sizes:\n",
    "    tn, tna, run_id_n =  insert_data('numeric', size, nreps=nreps)\n",
    "    t_numeric.append(tn)\n",
    "    t_numeric_add.append(tna)\n",
    "    t_numeric_run_ids.append(run_id_n)\n",
    "\n",
    "    ta, taa, run_id_a =  insert_data('array', size, nreps=nreps)\n",
    "    t_array.append(ta)\n",
    "    t_array_add.append(taa)\n",
    "    t_array_run_ids.append(run_id_a)"
   ]
  },
  {
   "cell_type": "code",
   "execution_count": 8,
   "metadata": {
    "scrolled": true
   },
   "outputs": [
    {
     "data": {
      "image/png": "[encoded data removed]",
      "text/plain": [
       "<Figure size 432x288 with 1 Axes>"
      ]
     },
     "metadata": {
      "needs_background": "light"
     },
     "output_type": "display_data"
    }
   ],
   "source": [
    "fig, ax = plt.subplots(1,1)\n",
    "ax.plot(sizes, t_numeric, 'o-', label='Inserting row-by-row')\n",
    "ax.plot(sizes, t_numeric_add, 'o-', label='Inserting row-by-row: add_result only')\n",
    "ax.plot(sizes, t_array, 'd-', label='Inserting as binary blob')\n",
    "ax.plot(sizes, t_array_add, 'd-', label='Inserting as binary blob: add_result only')\n",
    "ax.legend()\n",
    "ax.set_xlabel('Array length')\n",
    "ax.set_ylabel('Time (s)')\n",
    "fig.tight_layout()"
   ]
  },
  {
   "cell_type": "markdown",
   "metadata": {},
   "source": [
    "However, as we increase the length of the experiment, as seen here by repeating the insertion 100 times, we see a big difference between inserting values of the data row-by-row and inserting it as a binary blob."
   ]
  },
  {
   "cell_type": "markdown",
   "metadata": {},
   "source": [
    "## Loading the data "
   ]
  },
  {
   "cell_type": "code",
   "execution_count": 9,
   "metadata": {},
   "outputs": [],
   "source": [
    "from qcodes.dataset.data_set import load_by_id\n",
    "from qcodes.dataset.data_export import get_data_by_id"
   ]
  },
  {
   "cell_type": "markdown",
   "metadata": {},
   "source": [
    "As usual you can load the data by using the ``load_by_id`` function but you will notice that the different storage methods\n",
    "are reflected in shape of the data as it is retrieved. "
   ]
  },
  {
   "cell_type": "code",
   "execution_count": 10,
   "metadata": {},
   "outputs": [],
   "source": [
    "run_id_n = t_numeric_run_ids[0]\n",
    "run_id_a = t_array_run_ids[0]"
   ]
  },
  {
   "cell_type": "code",
   "execution_count": 11,
   "metadata": {
    "scrolled": true
   },
   "outputs": [
    {
     "data": {
      "text/plain": [
       "{'x1': {'x1': array([0.76447613, 0.76447613, 0.3784662 , 0.3784662 , 0.66539855,\n",
       "         0.66539855, 0.03806451, 0.03806451, 0.16692523, 0.16692523,\n",
       "         0.18948341, 0.18948341, 0.56907523, 0.56907523, 0.31188703,\n",
       "         0.31188703, 0.56249457, 0.56249457, 0.28285318, 0.28285318,\n",
       "         0.43061825, 0.43061825, 0.16308462, 0.16308462, 0.89956751,\n",
       "         0.89956751, 0.89677905, 0.89677905, 0.10346787, 0.10346787,\n",
       "         0.15952487, 0.15952487, 0.05007476, 0.05007476, 0.27245667,\n",
       "         0.27245667, 0.28220657, 0.28220657, 0.84337319, 0.84337319,\n",
       "         0.23967836, 0.23967836, 0.46964881, 0.46964881, 0.08735924,\n",
       "         0.08735924, 0.83663627, 0.83663627, 0.21745909, 0.21745909,\n",
       "         0.63649331, 0.63649331, 0.11394084, 0.11394084, 0.35380559,\n",
       "         0.35380559, 0.91331424, 0.91331424, 0.830521  , 0.830521  ,\n",
       "         0.73998631, 0.73998631, 0.83789027, 0.83789027, 0.24705687,\n",
       "         0.24705687, 0.89183214, 0.89183214, 0.96120661, 0.96120661,\n",
       "         0.95669091, 0.95669091, 0.06851152, 0.06851152, 0.18871636,\n",
       "         0.18871636, 0.1793298 , 0.1793298 , 0.5306521 , 0.5306521 ,\n",
       "         0.62566463, 0.62566463, 0.71338147, 0.71338147, 0.05312424,\n",
       "         0.05312424, 0.89386166, 0.89386166, 0.05652445, 0.05652445,\n",
       "         0.48077877, 0.48077877, 0.04552053, 0.04552053, 0.89088044,\n",
       "         0.89088044, 0.20400098, 0.20400098, 0.66761172, 0.66761172,\n",
       "         0.85036027, 0.85036027, 0.01814329, 0.01814329, 0.9654694 ,\n",
       "         0.9654694 , 0.98838515, 0.98838515, 0.02520065, 0.02520065,\n",
       "         0.12578939, 0.12578939, 0.00266579, 0.00266579, 0.62296405,\n",
       "         0.62296405, 0.5991065 , 0.5991065 , 0.11821171, 0.11821171,\n",
       "         0.57821995, 0.57821995, 0.52098122, 0.52098122, 0.91105494,\n",
       "         0.91105494, 0.22055927, 0.22055927, 0.46280242, 0.46280242,\n",
       "         0.98848771, 0.98848771, 0.15599583, 0.15599583, 0.66782107,\n",
       "         0.66782107, 0.28296381, 0.28296381, 0.36761882, 0.36761882,\n",
       "         0.88420103, 0.88420103, 0.41269601, 0.41269601, 0.46630871,\n",
       "         0.46630871, 0.73179448, 0.73179448, 0.87303852, 0.87303852,\n",
       "         0.10023465, 0.10023465, 0.90770285, 0.90770285, 0.36940595,\n",
       "         0.36940595, 0.50250784, 0.50250784, 0.06057357, 0.06057357,\n",
       "         0.9137294 , 0.9137294 , 0.96932032, 0.96932032, 0.05829538,\n",
       "         0.05829538, 0.23763728, 0.23763728, 0.03141927, 0.03141927,\n",
       "         0.30316997, 0.30316997, 0.17969813, 0.17969813, 0.44504505,\n",
       "         0.44504505, 0.96287754, 0.96287754, 0.08098758, 0.08098758,\n",
       "         0.12820592, 0.12820592, 0.58092292, 0.58092292, 0.15432376,\n",
       "         0.15432376, 0.63018143, 0.63018143, 0.61258915, 0.61258915,\n",
       "         0.97876068, 0.97876068, 0.79609047, 0.79609047, 0.30906431,\n",
       "         0.30906431, 0.38301811, 0.38301811, 0.89424742, 0.89424742])}}"
      ]
     },
     "execution_count": 11,
     "metadata": {},
     "output_type": "execute_result"
    }
   ],
   "source": [
    "ds = load_by_id(run_id_n)\n",
    "ds.get_parameter_data('x1')"
   ]
  },
  {
   "cell_type": "markdown",
   "metadata": {},
   "source": [
    "And a dataset stored as binary arrays"
   ]
  },
  {
   "cell_type": "code",
   "execution_count": 12,
   "metadata": {
    "scrolled": true
   },
   "outputs": [
    {
     "data": {
      "text/plain": [
       "{'x1': {'x1': array([[0.72163466],\n",
       "         [0.72163466],\n",
       "         [0.52492521],\n",
       "         [0.52492521],\n",
       "         [0.474823  ],\n",
       "         [0.474823  ],\n",
       "         [0.34569901],\n",
       "         [0.34569901],\n",
       "         [0.94146607],\n",
       "         [0.94146607],\n",
       "         [0.54251127],\n",
       "         [0.54251127],\n",
       "         [0.16598891],\n",
       "         [0.16598891],\n",
       "         [0.56062843],\n",
       "         [0.56062843],\n",
       "         [0.02153095],\n",
       "         [0.02153095],\n",
       "         [0.25773376],\n",
       "         [0.25773376],\n",
       "         [0.9740755 ],\n",
       "         [0.9740755 ],\n",
       "         [0.04749495],\n",
       "         [0.04749495],\n",
       "         [0.07717018],\n",
       "         [0.07717018],\n",
       "         [0.40621158],\n",
       "         [0.40621158],\n",
       "         [0.85778107],\n",
       "         [0.85778107],\n",
       "         [0.45579746],\n",
       "         [0.45579746],\n",
       "         [0.2003142 ],\n",
       "         [0.2003142 ],\n",
       "         [0.04164914],\n",
       "         [0.04164914],\n",
       "         [0.1453663 ],\n",
       "         [0.1453663 ],\n",
       "         [0.91634911],\n",
       "         [0.91634911],\n",
       "         [0.57300547],\n",
       "         [0.57300547],\n",
       "         [0.12914867],\n",
       "         [0.12914867],\n",
       "         [0.23792351],\n",
       "         [0.23792351],\n",
       "         [0.66068645],\n",
       "         [0.66068645],\n",
       "         [0.04687265],\n",
       "         [0.04687265],\n",
       "         [0.95590436],\n",
       "         [0.95590436],\n",
       "         [0.02090533],\n",
       "         [0.02090533],\n",
       "         [0.690698  ],\n",
       "         [0.690698  ],\n",
       "         [0.81419108],\n",
       "         [0.81419108],\n",
       "         [0.49311399],\n",
       "         [0.49311399],\n",
       "         [0.56494792],\n",
       "         [0.56494792],\n",
       "         [0.14629529],\n",
       "         [0.14629529],\n",
       "         [0.70437416],\n",
       "         [0.70437416],\n",
       "         [0.66175971],\n",
       "         [0.66175971],\n",
       "         [0.9642043 ],\n",
       "         [0.9642043 ],\n",
       "         [0.42288701],\n",
       "         [0.42288701],\n",
       "         [0.13705723],\n",
       "         [0.13705723],\n",
       "         [0.91598002],\n",
       "         [0.91598002],\n",
       "         [0.86287621],\n",
       "         [0.86287621],\n",
       "         [0.16188872],\n",
       "         [0.16188872],\n",
       "         [0.11250777],\n",
       "         [0.11250777],\n",
       "         [0.93766072],\n",
       "         [0.93766072],\n",
       "         [0.95724143],\n",
       "         [0.95724143],\n",
       "         [0.64562332],\n",
       "         [0.64562332],\n",
       "         [0.80945027],\n",
       "         [0.80945027],\n",
       "         [0.67760052],\n",
       "         [0.67760052],\n",
       "         [0.73462264],\n",
       "         [0.73462264],\n",
       "         [0.50329217],\n",
       "         [0.50329217],\n",
       "         [0.27790923],\n",
       "         [0.27790923],\n",
       "         [0.95117734],\n",
       "         [0.95117734],\n",
       "         [0.80831533],\n",
       "         [0.80831533],\n",
       "         [0.85358985],\n",
       "         [0.85358985],\n",
       "         [0.41881291],\n",
       "         [0.41881291],\n",
       "         [0.83337061],\n",
       "         [0.83337061],\n",
       "         [0.62591153],\n",
       "         [0.62591153],\n",
       "         [0.37664217],\n",
       "         [0.37664217],\n",
       "         [0.71873257],\n",
       "         [0.71873257],\n",
       "         [0.19325762],\n",
       "         [0.19325762],\n",
       "         [0.31426145],\n",
       "         [0.31426145],\n",
       "         [0.96370485],\n",
       "         [0.96370485],\n",
       "         [0.4715054 ],\n",
       "         [0.4715054 ],\n",
       "         [0.90626839],\n",
       "         [0.90626839],\n",
       "         [0.26106856],\n",
       "         [0.26106856],\n",
       "         [0.70129227],\n",
       "         [0.70129227],\n",
       "         [0.03037411],\n",
       "         [0.03037411],\n",
       "         [0.55989833],\n",
       "         [0.55989833],\n",
       "         [0.77387763],\n",
       "         [0.77387763],\n",
       "         [0.7239872 ],\n",
       "         [0.7239872 ],\n",
       "         [0.23141247],\n",
       "         [0.23141247],\n",
       "         [0.45689129],\n",
       "         [0.45689129],\n",
       "         [0.72359249],\n",
       "         [0.72359249],\n",
       "         [0.30010507],\n",
       "         [0.30010507],\n",
       "         [0.00859412],\n",
       "         [0.00859412],\n",
       "         [0.84315588],\n",
       "         [0.84315588],\n",
       "         [0.49307064],\n",
       "         [0.49307064],\n",
       "         [0.79521075],\n",
       "         [0.79521075],\n",
       "         [0.55159498],\n",
       "         [0.55159498],\n",
       "         [0.8919206 ],\n",
       "         [0.8919206 ],\n",
       "         [0.52235137],\n",
       "         [0.52235137],\n",
       "         [0.93543809],\n",
       "         [0.93543809],\n",
       "         [0.28186448],\n",
       "         [0.28186448],\n",
       "         [0.55759298],\n",
       "         [0.55759298],\n",
       "         [0.39438178],\n",
       "         [0.39438178],\n",
       "         [0.20897105],\n",
       "         [0.20897105],\n",
       "         [0.90901012],\n",
       "         [0.90901012],\n",
       "         [0.69939763],\n",
       "         [0.69939763],\n",
       "         [0.51046076],\n",
       "         [0.51046076],\n",
       "         [0.24391207],\n",
       "         [0.24391207],\n",
       "         [0.36893292],\n",
       "         [0.36893292],\n",
       "         [0.52828168],\n",
       "         [0.52828168],\n",
       "         [0.12527779],\n",
       "         [0.12527779],\n",
       "         [0.31441362],\n",
       "         [0.31441362],\n",
       "         [0.29494402],\n",
       "         [0.29494402],\n",
       "         [0.71564891],\n",
       "         [0.71564891],\n",
       "         [0.59797391],\n",
       "         [0.59797391],\n",
       "         [0.64493177],\n",
       "         [0.64493177],\n",
       "         [0.04687001],\n",
       "         [0.04687001],\n",
       "         [0.21956412],\n",
       "         [0.21956412],\n",
       "         [0.28894746],\n",
       "         [0.28894746],\n",
       "         [0.55666807],\n",
       "         [0.55666807]])}}"
      ]
     },
     "execution_count": 12,
     "metadata": {},
     "output_type": "execute_result"
    }
   ],
   "source": [
    "ds = load_by_id(run_id_a)\n",
    "ds.get_parameter_data('x1')"
   ]
  },
  {
   "cell_type": "code",
   "execution_count": null,
   "metadata": {},
   "outputs": [],
   "source": []
  }
 ],
 "metadata": {
  "kernelspec": {
   "display_name": "Python 3",
   "language": "python",
   "name": "python3"
  },
  "language_info": {
   "codemirror_mode": {
    "name": "ipython",
    "version": 3
   },
   "file_extension": ".py",
   "mimetype": "text/x-python",
   "name": "python",
   "nbconvert_exporter": "python",
   "pygments_lexer": "ipython3",
   "version": "3.7.7"
  },
  "nbsphinx": {
   "timeout": 600
  },
  "toc": {
   "base_numbering": 1,
   "nav_menu": {},
   "number_sections": true,
   "sideBar": true,
   "skip_h1_title": false,
   "title_cell": "Table of Contents",
   "title_sidebar": "Contents",
   "toc_cell": false,
   "toc_position": {},
   "toc_section_display": true,
   "toc_window_display": false
  },
  "varInspector": {
   "cols": {
    "lenName": 16,
    "lenType": 16,
    "lenVar": 40
   },
   "kernels_config": {
    "python": {
     "delete_cmd_postfix": "",
     "delete_cmd_prefix": "del ",
     "library": "var_list.py",
     "varRefreshCmd": "print(var_dic_list())"
    },
    "r": {
     "delete_cmd_postfix": ") ",
     "delete_cmd_prefix": "rm(",
     "library": "var_list.r",
     "varRefreshCmd": "cat(var_dic_list()) "
    }
   },
   "types_to_exclude": [
    "module",
    "function",
    "builtin_function_or_method",
    "instance",
    "_Feature"
   ],
   "window_display": false
  }
 },
 "nbformat": 4,
 "nbformat_minor": 2
}
