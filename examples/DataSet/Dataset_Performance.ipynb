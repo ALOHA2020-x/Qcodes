{
 "cells": [
  {
   "cell_type": "markdown",
   "metadata": {},
   "source": [
    "# DataSet Performance\n",
    "\n",
    "This notebook shows the trade-off between inserting data into a database row-by-row and as binary blobs. Inserting the data row-by-row means that we have direct access to all the data and may perform queries directly on the values of the data. On the other hand, as we shall see, this is much slower than inserting the data directly as binary blobs."
   ]
  },
  {
   "cell_type": "markdown",
   "metadata": {},
   "source": [
    "First, we choose a new location for the database to ensure that we don't add a bunch of benchmarking data to the default one."
   ]
  },
  {
   "cell_type": "code",
   "execution_count": 1,
   "metadata": {
    "execution": {
     "iopub.execute_input": "2021-01-15T17:10:43.256530Z",
     "iopub.status.busy": "2021-01-15T17:10:43.256022Z",
     "iopub.status.idle": "2021-01-15T17:10:44.322666Z",
     "shell.execute_reply": "2021-01-15T17:10:44.321947Z"
    }
   },
   "outputs": [
    {
     "name": "stdout",
     "output_type": "stream",
     "text": [
      "Logging hadn't been started.\n",
      "Activating auto-logging. Current session state plus future input saved.\n",
      "Filename       : /home/vsts/.qcodes/logs/command_history.log\n",
      "Mode           : append\n",
      "Output logging : True\n",
      "Raw input log  : False\n",
      "Timestamping   : True\n",
      "State          : active\n"
     ]
    },
    {
     "name": "stdout",
     "output_type": "stream",
     "text": [
      "Qcodes Logfile : /home/vsts/.qcodes/logs/210115-13415-qcodes.log\n"
     ]
    }
   ],
   "source": [
    "import os\n",
    "cwd = os.getcwd()\n",
    "import qcodes as qc\n",
    "qc.config[\"core\"][\"db_location\"] = os.path.join(cwd, 'testing.db')\n"
   ]
  },
  {
   "cell_type": "code",
   "execution_count": 2,
   "metadata": {
    "execution": {
     "iopub.execute_input": "2021-01-15T17:10:44.328639Z",
     "iopub.status.busy": "2021-01-15T17:10:44.327527Z",
     "iopub.status.idle": "2021-01-15T17:10:44.533178Z",
     "shell.execute_reply": "2021-01-15T17:10:44.533663Z"
    }
   },
   "outputs": [],
   "source": [
    "%matplotlib inline\n",
    "import time\n",
    "import matplotlib.pyplot as plt\n",
    "import numpy as np\n",
    "\n",
    "import qcodes as qc\n",
    "from qcodes.instrument.parameter import ManualParameter\n",
    "from qcodes.dataset.experiment_container import (Experiment,\n",
    "                                                 load_last_experiment,\n",
    "                                                 new_experiment)\n",
    "from qcodes.dataset.sqlite.database import initialise_database\n",
    "from qcodes import load_or_create_experiment\n",
    "from qcodes.dataset.measurements import Measurement"
   ]
  },
  {
   "cell_type": "code",
   "execution_count": 3,
   "metadata": {
    "execution": {
     "iopub.execute_input": "2021-01-15T17:10:44.538102Z",
     "iopub.status.busy": "2021-01-15T17:10:44.537372Z",
     "iopub.status.idle": "2021-01-15T17:10:44.656672Z",
     "shell.execute_reply": "2021-01-15T17:10:44.656099Z"
    }
   },
   "outputs": [
    {
     "name": "stdout",
     "output_type": "stream",
     "text": [
      "\r",
      "0it [00:00, ?it/s]"
     ]
    },
    {
     "name": "stdout",
     "output_type": "stream",
     "text": [
      "\r",
      "Upgrading database; v0 -> v1: : 0it [00:00, ?it/s]"
     ]
    },
    {
     "name": "stdout",
     "output_type": "stream",
     "text": [
      "\r",
      "Upgrading database; v0 -> v1: : 0it [00:00, ?it/s]"
     ]
    },
    {
     "name": "stdout",
     "output_type": "stream",
     "text": [
      "\n",
      "\r",
      "  0%|          | 0/1 [00:00<?, ?it/s]"
     ]
    },
    {
     "name": "stdout",
     "output_type": "stream",
     "text": [
      "\r",
      "Upgrading database; v1 -> v2:   0%|          | 0/1 [00:00<?, ?it/s]"
     ]
    },
    {
     "name": "stdout",
     "output_type": "stream",
     "text": [
      "\r",
      "Upgrading database; v1 -> v2: 100%|██████████| 1/1 [00:00<00:00, 348.45it/s]"
     ]
    },
    {
     "name": "stdout",
     "output_type": "stream",
     "text": [
      "\n",
      "\r",
      "0it [00:00, ?it/s]"
     ]
    },
    {
     "name": "stdout",
     "output_type": "stream",
     "text": [
      "\r",
      "Upgrading database; v2 -> v3: : 0it [00:00, ?it/s]"
     ]
    },
    {
     "name": "stdout",
     "output_type": "stream",
     "text": [
      "\r",
      "Upgrading database; v2 -> v3: : 0it [00:00, ?it/s]"
     ]
    },
    {
     "name": "stdout",
     "output_type": "stream",
     "text": [
      "\n",
      "\r",
      "0it [00:00, ?it/s]"
     ]
    },
    {
     "name": "stdout",
     "output_type": "stream",
     "text": [
      "\r",
      "Upgrading database; v3 -> v4: : 0it [00:00, ?it/s]"
     ]
    },
    {
     "name": "stdout",
     "output_type": "stream",
     "text": [
      "\r",
      "Upgrading database; v3 -> v4: : 0it [00:00, ?it/s]"
     ]
    },
    {
     "name": "stdout",
     "output_type": "stream",
     "text": [
      "\n",
      "\r",
      "  0%|          | 0/1 [00:00<?, ?it/s]"
     ]
    },
    {
     "name": "stdout",
     "output_type": "stream",
     "text": [
      "\r",
      "Upgrading database; v4 -> v5:   0%|          | 0/1 [00:00<?, ?it/s]"
     ]
    },
    {
     "name": "stdout",
     "output_type": "stream",
     "text": [
      "\r",
      "Upgrading database; v4 -> v5: 100%|██████████| 1/1 [00:00<00:00, 529.58it/s]"
     ]
    },
    {
     "name": "stdout",
     "output_type": "stream",
     "text": [
      "\n",
      "\r",
      "0it [00:00, ?it/s]"
     ]
    },
    {
     "name": "stdout",
     "output_type": "stream",
     "text": [
      "\r",
      "Upgrading database; v5 -> v6: : 0it [00:00, ?it/s]"
     ]
    },
    {
     "name": "stdout",
     "output_type": "stream",
     "text": [
      "\r",
      "Upgrading database; v5 -> v6: : 0it [00:00, ?it/s]"
     ]
    },
    {
     "name": "stdout",
     "output_type": "stream",
     "text": [
      "\n",
      "\r",
      "  0%|          | 0/1 [00:00<?, ?it/s]"
     ]
    },
    {
     "name": "stdout",
     "output_type": "stream",
     "text": [
      "\r",
      "Upgrading database; v6 -> v7:   0%|          | 0/1 [00:00<?, ?it/s]"
     ]
    },
    {
     "name": "stdout",
     "output_type": "stream",
     "text": [
      "\r",
      "Upgrading database; v6 -> v7: 100%|██████████| 1/1 [00:00<00:00, 307.41it/s]"
     ]
    },
    {
     "name": "stdout",
     "output_type": "stream",
     "text": [
      "\n",
      "\r",
      "  0%|          | 0/1 [00:00<?, ?it/s]"
     ]
    },
    {
     "name": "stdout",
     "output_type": "stream",
     "text": [
      "\r",
      "Upgrading database; v7 -> v8:   0%|          | 0/1 [00:00<?, ?it/s]"
     ]
    },
    {
     "name": "stdout",
     "output_type": "stream",
     "text": [
      "\r",
      "Upgrading database; v7 -> v8: 100%|██████████| 1/1 [00:00<00:00, 442.76it/s]"
     ]
    },
    {
     "name": "stdout",
     "output_type": "stream",
     "text": [
      "\n",
      "\r",
      "  0%|          | 0/1 [00:00<?, ?it/s]"
     ]
    },
    {
     "name": "stdout",
     "output_type": "stream",
     "text": [
      "\r",
      "Upgrading database; v8 -> v9:   0%|          | 0/1 [00:00<?, ?it/s]"
     ]
    },
    {
     "name": "stdout",
     "output_type": "stream",
     "text": [
      "\r",
      "Upgrading database; v8 -> v9: 100%|██████████| 1/1 [00:00<00:00, 1028.02it/s]"
     ]
    },
    {
     "name": "stdout",
     "output_type": "stream",
     "text": [
      "\n"
     ]
    }
   ],
   "source": [
    "initialise_database()\n",
    "exp = load_or_create_experiment(experiment_name='tutorial_exp', sample_name=\"no sample\")"
   ]
  },
  {
   "cell_type": "markdown",
   "metadata": {},
   "source": [
    "Here, we define a simple function to benchmark the time it takes to insert n points with either numeric or array data type.\n",
    "We will compare both the time used to call ``add_result`` and the time used for the full measurement."
   ]
  },
  {
   "cell_type": "code",
   "execution_count": 4,
   "metadata": {
    "execution": {
     "iopub.execute_input": "2021-01-15T17:10:44.665739Z",
     "iopub.status.busy": "2021-01-15T17:10:44.664784Z",
     "iopub.status.idle": "2021-01-15T17:10:44.666603Z",
     "shell.execute_reply": "2021-01-15T17:10:44.667153Z"
    }
   },
   "outputs": [],
   "source": [
    "def insert_data(paramtype, npoints, nreps=1):\n",
    "\n",
    "    meas = Measurement(exp=exp)\n",
    "\n",
    "    x1 = ManualParameter('x1')\n",
    "    x2 = ManualParameter('x2')\n",
    "    x3 = ManualParameter('x3')\n",
    "    y1 = ManualParameter('y1')\n",
    "    y2 = ManualParameter('y2')\n",
    "\n",
    "    meas.register_parameter(x1, paramtype=paramtype)\n",
    "    meas.register_parameter(x2, paramtype=paramtype)\n",
    "    meas.register_parameter(x3, paramtype=paramtype)\n",
    "    meas.register_parameter(y1, setpoints=[x1, x2, x3],\n",
    "                            paramtype=paramtype)\n",
    "    meas.register_parameter(y2, setpoints=[x1, x2, x3],\n",
    "                            paramtype=paramtype)\n",
    "    start = time.perf_counter()\n",
    "    with meas.run() as datasaver:\n",
    "        start_adding = time.perf_counter()\n",
    "        for i in range(nreps):\n",
    "            datasaver.add_result((x1, np.random.rand(npoints)),\n",
    "                                 (x2, np.random.rand(npoints)),\n",
    "                                 (x3, np.random.rand(npoints)),\n",
    "                                 (y1, np.random.rand(npoints)),\n",
    "                                 (y2, np.random.rand(npoints)))\n",
    "        stop_adding = time.perf_counter()\n",
    "        run_id = datasaver.run_id\n",
    "    stop = time.perf_counter()\n",
    "    tot_time = stop - start\n",
    "    add_time = stop_adding - start_adding\n",
    "    return tot_time, add_time, run_id"
   ]
  },
  {
   "cell_type": "markdown",
   "metadata": {},
   "source": [
    "## Comparison between numeric/array data and binary blob"
   ]
  },
  {
   "cell_type": "markdown",
   "metadata": {},
   "source": [
    "### Case1: Short experiment time"
   ]
  },
  {
   "cell_type": "code",
   "execution_count": 5,
   "metadata": {
    "execution": {
     "iopub.execute_input": "2021-01-15T17:10:44.673936Z",
     "iopub.status.busy": "2021-01-15T17:10:44.673354Z",
     "iopub.status.idle": "2021-01-15T17:10:45.587270Z",
     "shell.execute_reply": "2021-01-15T17:10:45.586217Z"
    }
   },
   "outputs": [
    {
     "name": "stdout",
     "output_type": "stream",
     "text": [
      "Starting experimental run with id: 1. \n",
      "Starting experimental run with id: 2. \n",
      "Starting experimental run with id: 3. \n",
      "Starting experimental run with id: 4. \n",
      "Starting experimental run with id: 5. \n"
     ]
    },
    {
     "name": "stdout",
     "output_type": "stream",
     "text": [
      "Starting experimental run with id: 6. \n"
     ]
    },
    {
     "name": "stdout",
     "output_type": "stream",
     "text": [
      "Starting experimental run with id: 7. \n"
     ]
    },
    {
     "name": "stdout",
     "output_type": "stream",
     "text": [
      "Starting experimental run with id: 8. \n",
      "Starting experimental run with id: 9. \n"
     ]
    },
    {
     "name": "stdout",
     "output_type": "stream",
     "text": [
      "Starting experimental run with id: 10. \n",
      "Starting experimental run with id: 11. \n"
     ]
    },
    {
     "name": "stdout",
     "output_type": "stream",
     "text": [
      "Starting experimental run with id: 12. \n"
     ]
    },
    {
     "name": "stdout",
     "output_type": "stream",
     "text": [
      "Starting experimental run with id: 13. \n"
     ]
    },
    {
     "name": "stdout",
     "output_type": "stream",
     "text": [
      "Starting experimental run with id: 14. \n"
     ]
    }
   ],
   "source": [
    "sizes = [1,500,1000,2000,3000,4000,5000]\n",
    "t_numeric = []\n",
    "t_numeric_add = []\n",
    "t_array = []\n",
    "t_array_add = []\n",
    "for size in sizes:\n",
    "    tn, tna, run_id_n =  insert_data('numeric', size)\n",
    "    t_numeric.append(tn)\n",
    "    t_numeric_add.append(tna)\n",
    "\n",
    "    ta, taa, run_id_a =  insert_data('array', size)\n",
    "    t_array.append(ta)\n",
    "    t_array_add.append(taa)"
   ]
  },
  {
   "cell_type": "code",
   "execution_count": 6,
   "metadata": {
    "execution": {
     "iopub.execute_input": "2021-01-15T17:10:45.593280Z",
     "iopub.status.busy": "2021-01-15T17:10:45.591650Z",
     "iopub.status.idle": "2021-01-15T17:10:45.790176Z",
     "shell.execute_reply": "2021-01-15T17:10:45.791043Z"
    }
   },
   "outputs": [
    {
     "data": {
      "image/png": "[encoded data removed]",
      "text/plain": [
       "<Figure size 432x288 with 1 Axes>"
      ]
     },
     "metadata": {
      "needs_background": "light"
     },
     "output_type": "display_data"
    }
   ],
   "source": [
    "fig, ax = plt.subplots(1,1)\n",
    "ax.plot(sizes, t_numeric, 'o-', label='Inserting row-by-row')\n",
    "ax.plot(sizes, t_numeric_add, 'o-', label='Inserting row-by-row: add_result only')\n",
    "ax.plot(sizes, t_array, 'd-', label='Inserting as binary blob')\n",
    "ax.plot(sizes, t_array_add, 'd-', label='Inserting as binary blob: add_result only')\n",
    "ax.legend()\n",
    "ax.set_xlabel('Array length')\n",
    "ax.set_ylabel('Time (s)')\n",
    "fig.tight_layout()"
   ]
  },
  {
   "cell_type": "markdown",
   "metadata": {},
   "source": [
    "As shown in the latter figure, the time to setup and and close the experiment is approximately 0.4 sec. In case of small array sizes, the difference between inserting values of data as arrays and inserting them row-by-row is relatively unimportant. At larger array sizes, i.e. above 10000 points, the cost of writing data as individual datapoints starts to become important.\n"
   ]
  },
  {
   "cell_type": "markdown",
   "metadata": {},
   "source": [
    "### Case2: Long experiment time "
   ]
  },
  {
   "cell_type": "code",
   "execution_count": 7,
   "metadata": {
    "execution": {
     "iopub.execute_input": "2021-01-15T17:10:45.797627Z",
     "iopub.status.busy": "2021-01-15T17:10:45.796865Z",
     "iopub.status.idle": "2021-01-15T17:11:46.174062Z",
     "shell.execute_reply": "2021-01-15T17:11:46.172679Z"
    }
   },
   "outputs": [
    {
     "name": "stdout",
     "output_type": "stream",
     "text": [
      "Starting experimental run with id: 15. \n",
      "Starting experimental run with id: 16. \n",
      "Starting experimental run with id: 17. \n"
     ]
    },
    {
     "name": "stdout",
     "output_type": "stream",
     "text": [
      "Starting experimental run with id: 18. \n",
      "Starting experimental run with id: 19. \n"
     ]
    },
    {
     "name": "stdout",
     "output_type": "stream",
     "text": [
      "Starting experimental run with id: 20. \n"
     ]
    },
    {
     "name": "stdout",
     "output_type": "stream",
     "text": [
      "Starting experimental run with id: 21. \n"
     ]
    },
    {
     "name": "stdout",
     "output_type": "stream",
     "text": [
      "Starting experimental run with id: 22. \n"
     ]
    },
    {
     "name": "stdout",
     "output_type": "stream",
     "text": [
      "Starting experimental run with id: 23. \n"
     ]
    },
    {
     "name": "stdout",
     "output_type": "stream",
     "text": [
      "Starting experimental run with id: 24. \n"
     ]
    },
    {
     "name": "stdout",
     "output_type": "stream",
     "text": [
      "Starting experimental run with id: 25. \n"
     ]
    },
    {
     "name": "stdout",
     "output_type": "stream",
     "text": [
      "Starting experimental run with id: 26. \n"
     ]
    },
    {
     "name": "stdout",
     "output_type": "stream",
     "text": [
      "Starting experimental run with id: 27. \n"
     ]
    },
    {
     "name": "stdout",
     "output_type": "stream",
     "text": [
      "Starting experimental run with id: 28. \n"
     ]
    }
   ],
   "source": [
    "sizes = [1,500,1000,2000,3000,4000,5000]\n",
    "nreps = 100\n",
    "t_numeric = []\n",
    "t_numeric_add = []\n",
    "t_numeric_run_ids = []\n",
    "t_array = []\n",
    "t_array_add = []\n",
    "t_array_run_ids = []\n",
    "for size in sizes:\n",
    "    tn, tna, run_id_n =  insert_data('numeric', size, nreps=nreps)\n",
    "    t_numeric.append(tn)\n",
    "    t_numeric_add.append(tna)\n",
    "    t_numeric_run_ids.append(run_id_n)\n",
    "\n",
    "    ta, taa, run_id_a =  insert_data('array', size, nreps=nreps)\n",
    "    t_array.append(ta)\n",
    "    t_array_add.append(taa)\n",
    "    t_array_run_ids.append(run_id_a)"
   ]
  },
  {
   "cell_type": "code",
   "execution_count": 8,
   "metadata": {
    "execution": {
     "iopub.execute_input": "2021-01-15T17:11:46.203721Z",
     "iopub.status.busy": "2021-01-15T17:11:46.179676Z",
     "iopub.status.idle": "2021-01-15T17:11:46.400414Z",
     "shell.execute_reply": "2021-01-15T17:11:46.399930Z"
    },
    "scrolled": true
   },
   "outputs": [
    {
     "data": {
      "image/png": "[encoded data removed]",
      "text/plain": [
       "<Figure size 432x288 with 1 Axes>"
      ]
     },
     "metadata": {
      "needs_background": "light"
     },
     "output_type": "display_data"
    }
   ],
   "source": [
    "fig, ax = plt.subplots(1,1)\n",
    "ax.plot(sizes, t_numeric, 'o-', label='Inserting row-by-row')\n",
    "ax.plot(sizes, t_numeric_add, 'o-', label='Inserting row-by-row: add_result only')\n",
    "ax.plot(sizes, t_array, 'd-', label='Inserting as binary blob')\n",
    "ax.plot(sizes, t_array_add, 'd-', label='Inserting as binary blob: add_result only')\n",
    "ax.legend()\n",
    "ax.set_xlabel('Array length')\n",
    "ax.set_ylabel('Time (s)')\n",
    "fig.tight_layout()"
   ]
  },
  {
   "cell_type": "markdown",
   "metadata": {},
   "source": [
    "However, as we increase the length of the experiment, as seen here by repeating the insertion 100 times, we see a big difference between inserting values of the data row-by-row and inserting it as a binary blob."
   ]
  },
  {
   "cell_type": "markdown",
   "metadata": {},
   "source": [
    "## Loading the data "
   ]
  },
  {
   "cell_type": "code",
   "execution_count": 9,
   "metadata": {
    "execution": {
     "iopub.execute_input": "2021-01-15T17:11:46.404869Z",
     "iopub.status.busy": "2021-01-15T17:11:46.403913Z",
     "iopub.status.idle": "2021-01-15T17:11:46.407034Z",
     "shell.execute_reply": "2021-01-15T17:11:46.406572Z"
    }
   },
   "outputs": [],
   "source": [
    "from qcodes.dataset.data_set import load_by_id\n",
    "from qcodes.dataset.data_export import get_data_by_id"
   ]
  },
  {
   "cell_type": "markdown",
   "metadata": {},
   "source": [
    "As usual you can load the data by using the ``load_by_id`` function but you will notice that the different storage methods\n",
    "are reflected in shape of the data as it is retrieved. "
   ]
  },
  {
   "cell_type": "code",
   "execution_count": 10,
   "metadata": {
    "execution": {
     "iopub.execute_input": "2021-01-15T17:11:46.411490Z",
     "iopub.status.busy": "2021-01-15T17:11:46.410335Z",
     "iopub.status.idle": "2021-01-15T17:11:46.412045Z",
     "shell.execute_reply": "2021-01-15T17:11:46.412582Z"
    }
   },
   "outputs": [],
   "source": [
    "run_id_n = t_numeric_run_ids[0]\n",
    "run_id_a = t_array_run_ids[0]"
   ]
  },
  {
   "cell_type": "code",
   "execution_count": 11,
   "metadata": {
    "execution": {
     "iopub.execute_input": "2021-01-15T17:11:46.415894Z",
     "iopub.status.busy": "2021-01-15T17:11:46.415363Z",
     "iopub.status.idle": "2021-01-15T17:11:46.424535Z",
     "shell.execute_reply": "2021-01-15T17:11:46.425076Z"
    },
    "scrolled": true
   },
   "outputs": [
    {
     "data": {
      "text/plain": [
       "{'x1': {'x1': array([0.28526572, 0.28526572, 0.11824529, 0.11824529, 0.31737007,\n",
       "         0.31737007, 0.07956729, 0.07956729, 0.26195324, 0.26195324,\n",
       "         0.7258825 , 0.7258825 , 0.66971453, 0.66971453, 0.76063043,\n",
       "         0.76063043, 0.60112502, 0.60112502, 0.198948  , 0.198948  ,\n",
       "         0.95164802, 0.95164802, 0.92865964, 0.92865964, 0.57069865,\n",
       "         0.57069865, 0.79174355, 0.79174355, 0.0931787 , 0.0931787 ,\n",
       "         0.55859068, 0.55859068, 0.07930289, 0.07930289, 0.31361899,\n",
       "         0.31361899, 0.39267165, 0.39267165, 0.04279361, 0.04279361,\n",
       "         0.5289048 , 0.5289048 , 0.87224054, 0.87224054, 0.12762737,\n",
       "         0.12762737, 0.03163965, 0.03163965, 0.34756381, 0.34756381,\n",
       "         0.44888063, 0.44888063, 0.10037901, 0.10037901, 0.37831726,\n",
       "         0.37831726, 0.61686333, 0.61686333, 0.0872641 , 0.0872641 ,\n",
       "         0.78634108, 0.78634108, 0.27075881, 0.27075881, 0.33231497,\n",
       "         0.33231497, 0.71593453, 0.71593453, 0.32002285, 0.32002285,\n",
       "         0.76198754, 0.76198754, 0.05063782, 0.05063782, 0.89331612,\n",
       "         0.89331612, 0.06881477, 0.06881477, 0.65739382, 0.65739382,\n",
       "         0.42197059, 0.42197059, 0.63461969, 0.63461969, 0.82278627,\n",
       "         0.82278627, 0.10725659, 0.10725659, 0.61276615, 0.61276615,\n",
       "         0.3210101 , 0.3210101 , 0.28784031, 0.28784031, 0.8892201 ,\n",
       "         0.8892201 , 0.19002398, 0.19002398, 0.76529063, 0.76529063,\n",
       "         0.85230326, 0.85230326, 0.47962838, 0.47962838, 0.85996949,\n",
       "         0.85996949, 0.99350148, 0.99350148, 0.50538   , 0.50538   ,\n",
       "         0.07299749, 0.07299749, 0.31298783, 0.31298783, 0.14725748,\n",
       "         0.14725748, 0.28600387, 0.28600387, 0.77848427, 0.77848427,\n",
       "         0.36306576, 0.36306576, 0.33627063, 0.33627063, 0.37046368,\n",
       "         0.37046368, 0.19772021, 0.19772021, 0.23213466, 0.23213466,\n",
       "         0.54551929, 0.54551929, 0.33077844, 0.33077844, 0.93854169,\n",
       "         0.93854169, 0.45161441, 0.45161441, 0.61190594, 0.61190594,\n",
       "         0.82899729, 0.82899729, 0.64412059, 0.64412059, 0.68902763,\n",
       "         0.68902763, 0.58221518, 0.58221518, 0.59511648, 0.59511648,\n",
       "         0.08751479, 0.08751479, 0.96418627, 0.96418627, 0.21658403,\n",
       "         0.21658403, 0.44279372, 0.44279372, 0.92442754, 0.92442754,\n",
       "         0.99573771, 0.99573771, 0.39048244, 0.39048244, 0.39482643,\n",
       "         0.39482643, 0.56530276, 0.56530276, 0.21136102, 0.21136102,\n",
       "         0.23305595, 0.23305595, 0.05239429, 0.05239429, 0.35805071,\n",
       "         0.35805071, 0.16976603, 0.16976603, 0.4426798 , 0.4426798 ,\n",
       "         0.79361852, 0.79361852, 0.95697793, 0.95697793, 0.46701296,\n",
       "         0.46701296, 0.93733086, 0.93733086, 0.4727054 , 0.4727054 ,\n",
       "         0.09782594, 0.09782594, 0.87107042, 0.87107042, 0.32933407,\n",
       "         0.32933407, 0.77517916, 0.77517916, 0.44030087, 0.44030087])}}"
      ]
     },
     "execution_count": 1,
     "metadata": {},
     "output_type": "execute_result"
    }
   ],
   "source": [
    "ds = load_by_id(run_id_n)\n",
    "ds.get_parameter_data('x1')"
   ]
  },
  {
   "cell_type": "markdown",
   "metadata": {},
   "source": [
    "And a dataset stored as binary arrays"
   ]
  },
  {
   "cell_type": "code",
   "execution_count": 12,
   "metadata": {
    "execution": {
     "iopub.execute_input": "2021-01-15T17:11:46.428544Z",
     "iopub.status.busy": "2021-01-15T17:11:46.428030Z",
     "iopub.status.idle": "2021-01-15T17:11:46.484422Z",
     "shell.execute_reply": "2021-01-15T17:11:46.485383Z"
    },
    "scrolled": true
   },
   "outputs": [
    {
     "data": {
      "text/plain": [
       "{'x1': {'x1': array([[0.30148149],\n",
       "         [0.30148149],\n",
       "         [0.64667704],\n",
       "         [0.64667704],\n",
       "         [0.03108863],\n",
       "         [0.03108863],\n",
       "         [0.77021137],\n",
       "         [0.77021137],\n",
       "         [0.12633809],\n",
       "         [0.12633809],\n",
       "         [0.34301583],\n",
       "         [0.34301583],\n",
       "         [0.10962289],\n",
       "         [0.10962289],\n",
       "         [0.24196284],\n",
       "         [0.24196284],\n",
       "         [0.70699688],\n",
       "         [0.70699688],\n",
       "         [0.39942546],\n",
       "         [0.39942546],\n",
       "         [0.18065221],\n",
       "         [0.18065221],\n",
       "         [0.41691295],\n",
       "         [0.41691295],\n",
       "         [0.50087364],\n",
       "         [0.50087364],\n",
       "         [0.50150571],\n",
       "         [0.50150571],\n",
       "         [0.64300847],\n",
       "         [0.64300847],\n",
       "         [0.07606121],\n",
       "         [0.07606121],\n",
       "         [0.54786637],\n",
       "         [0.54786637],\n",
       "         [0.99986538],\n",
       "         [0.99986538],\n",
       "         [0.38624253],\n",
       "         [0.38624253],\n",
       "         [0.81292947],\n",
       "         [0.81292947],\n",
       "         [0.41032669],\n",
       "         [0.41032669],\n",
       "         [0.70383201],\n",
       "         [0.70383201],\n",
       "         [0.73246062],\n",
       "         [0.73246062],\n",
       "         [0.2722808 ],\n",
       "         [0.2722808 ],\n",
       "         [0.09809728],\n",
       "         [0.09809728],\n",
       "         [0.75449023],\n",
       "         [0.75449023],\n",
       "         [0.44668094],\n",
       "         [0.44668094],\n",
       "         [0.39562221],\n",
       "         [0.39562221],\n",
       "         [0.60348149],\n",
       "         [0.60348149],\n",
       "         [0.86933644],\n",
       "         [0.86933644],\n",
       "         [0.77374679],\n",
       "         [0.77374679],\n",
       "         [0.2725679 ],\n",
       "         [0.2725679 ],\n",
       "         [0.63906352],\n",
       "         [0.63906352],\n",
       "         [0.3323736 ],\n",
       "         [0.3323736 ],\n",
       "         [0.4565948 ],\n",
       "         [0.4565948 ],\n",
       "         [0.37498364],\n",
       "         [0.37498364],\n",
       "         [0.55654394],\n",
       "         [0.55654394],\n",
       "         [0.191197  ],\n",
       "         [0.191197  ],\n",
       "         [0.83572732],\n",
       "         [0.83572732],\n",
       "         [0.11352531],\n",
       "         [0.11352531],\n",
       "         [0.20698083],\n",
       "         [0.20698083],\n",
       "         [0.45262777],\n",
       "         [0.45262777],\n",
       "         [0.28238172],\n",
       "         [0.28238172],\n",
       "         [0.14084716],\n",
       "         [0.14084716],\n",
       "         [0.21860945],\n",
       "         [0.21860945],\n",
       "         [0.07104843],\n",
       "         [0.07104843],\n",
       "         [0.986828  ],\n",
       "         [0.986828  ],\n",
       "         [0.05205281],\n",
       "         [0.05205281],\n",
       "         [0.85193824],\n",
       "         [0.85193824],\n",
       "         [0.66901516],\n",
       "         [0.66901516],\n",
       "         [0.42023217],\n",
       "         [0.42023217],\n",
       "         [0.39516465],\n",
       "         [0.39516465],\n",
       "         [0.9639375 ],\n",
       "         [0.9639375 ],\n",
       "         [0.95743515],\n",
       "         [0.95743515],\n",
       "         [0.07535711],\n",
       "         [0.07535711],\n",
       "         [0.19937533],\n",
       "         [0.19937533],\n",
       "         [0.09156211],\n",
       "         [0.09156211],\n",
       "         [0.48768369],\n",
       "         [0.48768369],\n",
       "         [0.62882824],\n",
       "         [0.62882824],\n",
       "         [0.46673809],\n",
       "         [0.46673809],\n",
       "         [0.96784212],\n",
       "         [0.96784212],\n",
       "         [0.24631819],\n",
       "         [0.24631819],\n",
       "         [0.74670802],\n",
       "         [0.74670802],\n",
       "         [0.08232882],\n",
       "         [0.08232882],\n",
       "         [0.80529182],\n",
       "         [0.80529182],\n",
       "         [0.22741541],\n",
       "         [0.22741541],\n",
       "         [0.62551396],\n",
       "         [0.62551396],\n",
       "         [0.07970833],\n",
       "         [0.07970833],\n",
       "         [0.34048562],\n",
       "         [0.34048562],\n",
       "         [0.40453974],\n",
       "         [0.40453974],\n",
       "         [0.66611499],\n",
       "         [0.66611499],\n",
       "         [0.6849156 ],\n",
       "         [0.6849156 ],\n",
       "         [0.58593618],\n",
       "         [0.58593618],\n",
       "         [0.90323033],\n",
       "         [0.90323033],\n",
       "         [0.5734978 ],\n",
       "         [0.5734978 ],\n",
       "         [0.36091853],\n",
       "         [0.36091853],\n",
       "         [0.68996118],\n",
       "         [0.68996118],\n",
       "         [0.53274262],\n",
       "         [0.53274262],\n",
       "         [0.18247943],\n",
       "         [0.18247943],\n",
       "         [0.16318797],\n",
       "         [0.16318797],\n",
       "         [0.10057155],\n",
       "         [0.10057155],\n",
       "         [0.09160067],\n",
       "         [0.09160067],\n",
       "         [0.01789902],\n",
       "         [0.01789902],\n",
       "         [0.68516239],\n",
       "         [0.68516239],\n",
       "         [0.89232045],\n",
       "         [0.89232045],\n",
       "         [0.47698027],\n",
       "         [0.47698027],\n",
       "         [0.3852043 ],\n",
       "         [0.3852043 ],\n",
       "         [0.73196403],\n",
       "         [0.73196403],\n",
       "         [0.85951561],\n",
       "         [0.85951561],\n",
       "         [0.55405917],\n",
       "         [0.55405917],\n",
       "         [0.66784025],\n",
       "         [0.66784025],\n",
       "         [0.75411541],\n",
       "         [0.75411541],\n",
       "         [0.6945795 ],\n",
       "         [0.6945795 ],\n",
       "         [0.28674114],\n",
       "         [0.28674114],\n",
       "         [0.43527486],\n",
       "         [0.43527486],\n",
       "         [0.96392188],\n",
       "         [0.96392188],\n",
       "         [0.94418966],\n",
       "         [0.94418966],\n",
       "         [0.13158563],\n",
       "         [0.13158563],\n",
       "         [0.99396044],\n",
       "         [0.99396044],\n",
       "         [0.77732967],\n",
       "         [0.77732967]])}}"
      ]
     },
     "execution_count": 1,
     "metadata": {},
     "output_type": "execute_result"
    }
   ],
   "source": [
    "ds = load_by_id(run_id_a)\n",
    "ds.get_parameter_data('x1')"
   ]
  },
  {
   "cell_type": "code",
   "execution_count": null,
   "metadata": {},
   "outputs": [],
   "source": []
  }
 ],
 "metadata": {
  "kernelspec": {
   "display_name": "Python 3",
   "language": "python",
   "name": "python3"
  },
  "language_info": {
   "codemirror_mode": {
    "name": "ipython",
    "version": 3
   },
   "file_extension": ".py",
   "mimetype": "text/x-python",
   "name": "python",
   "nbconvert_exporter": "python",
   "pygments_lexer": "ipython3",
   "version": "3.7.9"
  },
  "nbsphinx": {
   "timeout": 600
  },
  "toc": {
   "base_numbering": 1,
   "nav_menu": {},
   "number_sections": true,
   "sideBar": true,
   "skip_h1_title": false,
   "title_cell": "Table of Contents",
   "title_sidebar": "Contents",
   "toc_cell": false,
   "toc_position": {},
   "toc_section_display": true,
   "toc_window_display": false
  },
  "varInspector": {
   "cols": {
    "lenName": 16,
    "lenType": 16,
    "lenVar": 40
   },
   "kernels_config": {
    "python": {
     "delete_cmd_postfix": "",
     "delete_cmd_prefix": "del ",
     "library": "var_list.py",
     "varRefreshCmd": "print(var_dic_list())"
    },
    "r": {
     "delete_cmd_postfix": ") ",
     "delete_cmd_prefix": "rm(",
     "library": "var_list.r",
     "varRefreshCmd": "cat(var_dic_list()) "
    }
   },
   "types_to_exclude": [
    "module",
    "function",
    "builtin_function_or_method",
    "instance",
    "_Feature"
   ],
   "window_display": false
  }
 },
 "nbformat": 4,
 "nbformat_minor": 2
}
