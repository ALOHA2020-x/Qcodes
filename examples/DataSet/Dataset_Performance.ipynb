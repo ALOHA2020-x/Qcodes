{
 "cells": [
  {
   "cell_type": "markdown",
   "metadata": {},
   "source": [
    "# DataSet Performance\n",
    "\n",
    "This notebook shows the trade-off between inserting data into a database row-by-row and as binary blobs. Inserting the data row-by-row means that we have direct access to all the data and may perform queries directly on the values of the data. On the other hand, as we shall see, this is much slower than inserting the data directly as binary blobs."
   ]
  },
  {
   "cell_type": "markdown",
   "metadata": {},
   "source": [
    "First, we choose a new location for the database to ensure that we don't add a bunch of benchmarking data to the default one."
   ]
  },
  {
   "cell_type": "code",
   "execution_count": 1,
   "metadata": {
    "execution": {
     "iopub.execute_input": "2021-01-03T12:48:21.086824Z",
     "iopub.status.busy": "2021-01-03T12:48:21.086304Z",
     "iopub.status.idle": "2021-01-03T12:48:22.153017Z",
     "shell.execute_reply": "2021-01-03T12:48:22.152348Z"
    }
   },
   "outputs": [
    {
     "name": "stdout",
     "output_type": "stream",
     "text": [
      "Logging hadn't been started.\n",
      "Activating auto-logging. Current session state plus future input saved.\n",
      "Filename       : /home/vsts/.qcodes/logs/command_history.log\n",
      "Mode           : append\n",
      "Output logging : True\n",
      "Raw input log  : False\n",
      "Timestamping   : True\n",
      "State          : active\n"
     ]
    },
    {
     "name": "stdout",
     "output_type": "stream",
     "text": [
      "Qcodes Logfile : /home/vsts/.qcodes/logs/210103-13505-qcodes.log\n"
     ]
    }
   ],
   "source": [
    "import os\n",
    "cwd = os.getcwd()\n",
    "import qcodes as qc\n",
    "qc.config[\"core\"][\"db_location\"] = os.path.join(cwd, 'testing.db')\n"
   ]
  },
  {
   "cell_type": "code",
   "execution_count": 2,
   "metadata": {
    "execution": {
     "iopub.execute_input": "2021-01-03T12:48:22.168266Z",
     "iopub.status.busy": "2021-01-03T12:48:22.167422Z",
     "iopub.status.idle": "2021-01-03T12:48:22.376707Z",
     "shell.execute_reply": "2021-01-03T12:48:22.375722Z"
    }
   },
   "outputs": [],
   "source": [
    "%matplotlib inline\n",
    "import time\n",
    "import matplotlib.pyplot as plt\n",
    "import numpy as np\n",
    "\n",
    "import qcodes as qc\n",
    "from qcodes.instrument.parameter import ManualParameter\n",
    "from qcodes.dataset.experiment_container import (Experiment,\n",
    "                                                 load_last_experiment,\n",
    "                                                 new_experiment)\n",
    "from qcodes.dataset.sqlite.database import initialise_database\n",
    "from qcodes import load_or_create_experiment\n",
    "from qcodes.dataset.measurements import Measurement"
   ]
  },
  {
   "cell_type": "code",
   "execution_count": 3,
   "metadata": {
    "execution": {
     "iopub.execute_input": "2021-01-03T12:48:22.380682Z",
     "iopub.status.busy": "2021-01-03T12:48:22.380143Z",
     "iopub.status.idle": "2021-01-03T12:48:22.509245Z",
     "shell.execute_reply": "2021-01-03T12:48:22.509794Z"
    }
   },
   "outputs": [
    {
     "name": "stdout",
     "output_type": "stream",
     "text": [
      "\r",
      "0it [00:00, ?it/s]"
     ]
    },
    {
     "name": "stdout",
     "output_type": "stream",
     "text": [
      "\r",
      "Upgrading database; v0 -> v1: : 0it [00:00, ?it/s]"
     ]
    },
    {
     "name": "stdout",
     "output_type": "stream",
     "text": [
      "\r",
      "Upgrading database; v0 -> v1: : 0it [00:00, ?it/s]"
     ]
    },
    {
     "name": "stdout",
     "output_type": "stream",
     "text": [
      "\n",
      "\r",
      "  0%|          | 0/1 [00:00<?, ?it/s]"
     ]
    },
    {
     "name": "stdout",
     "output_type": "stream",
     "text": [
      "\r",
      "Upgrading database; v1 -> v2:   0%|          | 0/1 [00:00<?, ?it/s]"
     ]
    },
    {
     "name": "stdout",
     "output_type": "stream",
     "text": [
      "\r",
      "Upgrading database; v1 -> v2: 100%|██████████| 1/1 [00:00<00:00, 577.25it/s]"
     ]
    },
    {
     "name": "stdout",
     "output_type": "stream",
     "text": [
      "\n",
      "\r",
      "0it [00:00, ?it/s]"
     ]
    },
    {
     "name": "stdout",
     "output_type": "stream",
     "text": [
      "\r",
      "Upgrading database; v2 -> v3: : 0it [00:00, ?it/s]"
     ]
    },
    {
     "name": "stdout",
     "output_type": "stream",
     "text": [
      "\r",
      "Upgrading database; v2 -> v3: : 0it [00:00, ?it/s]"
     ]
    },
    {
     "name": "stdout",
     "output_type": "stream",
     "text": [
      "\n",
      "\r",
      "0it [00:00, ?it/s]"
     ]
    },
    {
     "name": "stdout",
     "output_type": "stream",
     "text": [
      "\r",
      "Upgrading database; v3 -> v4: : 0it [00:00, ?it/s]"
     ]
    },
    {
     "name": "stdout",
     "output_type": "stream",
     "text": [
      "\r",
      "Upgrading database; v3 -> v4: : 0it [00:00, ?it/s]"
     ]
    },
    {
     "name": "stdout",
     "output_type": "stream",
     "text": [
      "\n",
      "\r",
      "  0%|          | 0/1 [00:00<?, ?it/s]"
     ]
    },
    {
     "name": "stdout",
     "output_type": "stream",
     "text": [
      "\r",
      "Upgrading database; v4 -> v5:   0%|          | 0/1 [00:00<?, ?it/s]"
     ]
    },
    {
     "name": "stdout",
     "output_type": "stream",
     "text": [
      "\r",
      "Upgrading database; v4 -> v5: 100%|██████████| 1/1 [00:00<00:00, 532.00it/s]"
     ]
    },
    {
     "name": "stdout",
     "output_type": "stream",
     "text": [
      "\n",
      "\r",
      "0it [00:00, ?it/s]"
     ]
    },
    {
     "name": "stdout",
     "output_type": "stream",
     "text": [
      "\r",
      "Upgrading database; v5 -> v6: : 0it [00:00, ?it/s]"
     ]
    },
    {
     "name": "stdout",
     "output_type": "stream",
     "text": [
      "\r",
      "Upgrading database; v5 -> v6: : 0it [00:00, ?it/s]"
     ]
    },
    {
     "name": "stdout",
     "output_type": "stream",
     "text": [
      "\n",
      "\r",
      "  0%|          | 0/1 [00:00<?, ?it/s]"
     ]
    },
    {
     "name": "stdout",
     "output_type": "stream",
     "text": [
      "\r",
      "Upgrading database; v6 -> v7:   0%|          | 0/1 [00:00<?, ?it/s]"
     ]
    },
    {
     "name": "stdout",
     "output_type": "stream",
     "text": [
      "\r",
      "Upgrading database; v6 -> v7: 100%|██████████| 1/1 [00:00<00:00, 275.09it/s]"
     ]
    },
    {
     "name": "stdout",
     "output_type": "stream",
     "text": [
      "\n",
      "\r",
      "  0%|          | 0/1 [00:00<?, ?it/s]"
     ]
    },
    {
     "name": "stdout",
     "output_type": "stream",
     "text": [
      "\r",
      "Upgrading database; v7 -> v8:   0%|          | 0/1 [00:00<?, ?it/s]"
     ]
    },
    {
     "name": "stdout",
     "output_type": "stream",
     "text": [
      "\r",
      "Upgrading database; v7 -> v8: 100%|██████████| 1/1 [00:00<00:00, 372.40it/s]"
     ]
    },
    {
     "name": "stdout",
     "output_type": "stream",
     "text": [
      "\n",
      "\r",
      "  0%|          | 0/1 [00:00<?, ?it/s]"
     ]
    },
    {
     "name": "stdout",
     "output_type": "stream",
     "text": [
      "\r",
      "Upgrading database; v8 -> v9:   0%|          | 0/1 [00:00<?, ?it/s]"
     ]
    },
    {
     "name": "stdout",
     "output_type": "stream",
     "text": [
      "\r",
      "Upgrading database; v8 -> v9: 100%|██████████| 1/1 [00:00<00:00, 669.91it/s]"
     ]
    },
    {
     "name": "stdout",
     "output_type": "stream",
     "text": [
      "\n"
     ]
    }
   ],
   "source": [
    "initialise_database()\n",
    "exp = load_or_create_experiment(experiment_name='tutorial_exp', sample_name=\"no sample\")"
   ]
  },
  {
   "cell_type": "markdown",
   "metadata": {},
   "source": [
    "Here, we define a simple function to benchmark the time it takes to insert n points with either numeric or array data type.\n",
    "We will compare both the time used to call ``add_result`` and the time used for the full measurement."
   ]
  },
  {
   "cell_type": "code",
   "execution_count": 4,
   "metadata": {
    "execution": {
     "iopub.execute_input": "2021-01-03T12:48:22.518530Z",
     "iopub.status.busy": "2021-01-03T12:48:22.517859Z",
     "iopub.status.idle": "2021-01-03T12:48:22.521523Z",
     "shell.execute_reply": "2021-01-03T12:48:22.520807Z"
    }
   },
   "outputs": [],
   "source": [
    "def insert_data(paramtype, npoints, nreps=1):\n",
    "\n",
    "    meas = Measurement(exp=exp)\n",
    "\n",
    "    x1 = ManualParameter('x1')\n",
    "    x2 = ManualParameter('x2')\n",
    "    x3 = ManualParameter('x3')\n",
    "    y1 = ManualParameter('y1')\n",
    "    y2 = ManualParameter('y2')\n",
    "\n",
    "    meas.register_parameter(x1, paramtype=paramtype)\n",
    "    meas.register_parameter(x2, paramtype=paramtype)\n",
    "    meas.register_parameter(x3, paramtype=paramtype)\n",
    "    meas.register_parameter(y1, setpoints=[x1, x2, x3],\n",
    "                            paramtype=paramtype)\n",
    "    meas.register_parameter(y2, setpoints=[x1, x2, x3],\n",
    "                            paramtype=paramtype)\n",
    "    start = time.perf_counter()\n",
    "    with meas.run() as datasaver:\n",
    "        start_adding = time.perf_counter()\n",
    "        for i in range(nreps):\n",
    "            datasaver.add_result((x1, np.random.rand(npoints)),\n",
    "                                 (x2, np.random.rand(npoints)),\n",
    "                                 (x3, np.random.rand(npoints)),\n",
    "                                 (y1, np.random.rand(npoints)),\n",
    "                                 (y2, np.random.rand(npoints)))\n",
    "        stop_adding = time.perf_counter()\n",
    "        run_id = datasaver.run_id\n",
    "    stop = time.perf_counter()\n",
    "    tot_time = stop - start\n",
    "    add_time = stop_adding - start_adding\n",
    "    return tot_time, add_time, run_id"
   ]
  },
  {
   "cell_type": "markdown",
   "metadata": {},
   "source": [
    "## Comparison between numeric/array data and binary blob"
   ]
  },
  {
   "cell_type": "markdown",
   "metadata": {},
   "source": [
    "### Case1: Short experiment time"
   ]
  },
  {
   "cell_type": "code",
   "execution_count": 5,
   "metadata": {
    "execution": {
     "iopub.execute_input": "2021-01-03T12:48:22.528217Z",
     "iopub.status.busy": "2021-01-03T12:48:22.527574Z",
     "iopub.status.idle": "2021-01-03T12:48:23.456460Z",
     "shell.execute_reply": "2021-01-03T12:48:23.457038Z"
    }
   },
   "outputs": [
    {
     "name": "stdout",
     "output_type": "stream",
     "text": [
      "Starting experimental run with id: 1. \n",
      "Starting experimental run with id: 2. \n",
      "Starting experimental run with id: 3. \n"
     ]
    },
    {
     "name": "stdout",
     "output_type": "stream",
     "text": [
      "Starting experimental run with id: 4. \n"
     ]
    },
    {
     "name": "stdout",
     "output_type": "stream",
     "text": [
      "Starting experimental run with id: 5. "
     ]
    },
    {
     "name": "stdout",
     "output_type": "stream",
     "text": [
      "\n"
     ]
    },
    {
     "name": "stdout",
     "output_type": "stream",
     "text": [
      "Starting experimental run with id: 6. \n",
      "Starting experimental run with id: 7. \n"
     ]
    },
    {
     "name": "stdout",
     "output_type": "stream",
     "text": [
      "Starting experimental run with id: 8. \n"
     ]
    },
    {
     "name": "stdout",
     "output_type": "stream",
     "text": [
      "Starting experimental run with id: 9. \n"
     ]
    },
    {
     "name": "stdout",
     "output_type": "stream",
     "text": [
      "Starting experimental run with id: 10. \n",
      "Starting experimental run with id: 11. \n"
     ]
    },
    {
     "name": "stdout",
     "output_type": "stream",
     "text": [
      "Starting experimental run with id: 12. \n"
     ]
    },
    {
     "name": "stdout",
     "output_type": "stream",
     "text": [
      "Starting experimental run with id: 13. \n"
     ]
    },
    {
     "name": "stdout",
     "output_type": "stream",
     "text": [
      "Starting experimental run with id: 14. \n"
     ]
    }
   ],
   "source": [
    "sizes = [1,500,1000,2000,3000,4000,5000]\n",
    "t_numeric = []\n",
    "t_numeric_add = []\n",
    "t_array = []\n",
    "t_array_add = []\n",
    "for size in sizes:\n",
    "    tn, tna, run_id_n =  insert_data('numeric', size)\n",
    "    t_numeric.append(tn)\n",
    "    t_numeric_add.append(tna)\n",
    "\n",
    "    ta, taa, run_id_a =  insert_data('array', size)\n",
    "    t_array.append(ta)\n",
    "    t_array_add.append(taa)"
   ]
  },
  {
   "cell_type": "code",
   "execution_count": 6,
   "metadata": {
    "execution": {
     "iopub.execute_input": "2021-01-03T12:48:23.462959Z",
     "iopub.status.busy": "2021-01-03T12:48:23.462429Z",
     "iopub.status.idle": "2021-01-03T12:48:23.684593Z",
     "shell.execute_reply": "2021-01-03T12:48:23.685358Z"
    }
   },
   "outputs": [
    {
     "data": {
      "image/png": "[encoded data removed]",
      "text/plain": [
       "<Figure size 432x288 with 1 Axes>"
      ]
     },
     "metadata": {
      "needs_background": "light"
     },
     "output_type": "display_data"
    }
   ],
   "source": [
    "fig, ax = plt.subplots(1,1)\n",
    "ax.plot(sizes, t_numeric, 'o-', label='Inserting row-by-row')\n",
    "ax.plot(sizes, t_numeric_add, 'o-', label='Inserting row-by-row: add_result only')\n",
    "ax.plot(sizes, t_array, 'd-', label='Inserting as binary blob')\n",
    "ax.plot(sizes, t_array_add, 'd-', label='Inserting as binary blob: add_result only')\n",
    "ax.legend()\n",
    "ax.set_xlabel('Array length')\n",
    "ax.set_ylabel('Time (s)')\n",
    "fig.tight_layout()"
   ]
  },
  {
   "cell_type": "markdown",
   "metadata": {},
   "source": [
    "As shown in the latter figure, the time to setup and and close the experiment is approximately 0.4 sec. In case of small array sizes, the difference between inserting values of data as arrays and inserting them row-by-row is relatively unimportant. At larger array sizes, i.e. above 10000 points, the cost of writing data as individual datapoints starts to become important.\n"
   ]
  },
  {
   "cell_type": "markdown",
   "metadata": {},
   "source": [
    "### Case2: Long experiment time "
   ]
  },
  {
   "cell_type": "code",
   "execution_count": 7,
   "metadata": {
    "execution": {
     "iopub.execute_input": "2021-01-03T12:48:23.692511Z",
     "iopub.status.busy": "2021-01-03T12:48:23.691981Z",
     "iopub.status.idle": "2021-01-03T12:49:23.936206Z",
     "shell.execute_reply": "2021-01-03T12:49:23.935533Z"
    }
   },
   "outputs": [
    {
     "name": "stdout",
     "output_type": "stream",
     "text": [
      "Starting experimental run with id: 15. \n",
      "Starting experimental run with id: 16. \n",
      "Starting experimental run with id: 17. \n"
     ]
    },
    {
     "name": "stdout",
     "output_type": "stream",
     "text": [
      "Starting experimental run with id: 18. \n",
      "Starting experimental run with id: 19. \n"
     ]
    },
    {
     "name": "stdout",
     "output_type": "stream",
     "text": [
      "Starting experimental run with id: 20. \n"
     ]
    },
    {
     "name": "stdout",
     "output_type": "stream",
     "text": [
      "Starting experimental run with id: 21. \n"
     ]
    },
    {
     "name": "stdout",
     "output_type": "stream",
     "text": [
      "Starting experimental run with id: 22. \n"
     ]
    },
    {
     "name": "stdout",
     "output_type": "stream",
     "text": [
      "Starting experimental run with id: 23. \n"
     ]
    },
    {
     "name": "stdout",
     "output_type": "stream",
     "text": [
      "Starting experimental run with id: 24. \n"
     ]
    },
    {
     "name": "stdout",
     "output_type": "stream",
     "text": [
      "Starting experimental run with id: 25. \n"
     ]
    },
    {
     "name": "stdout",
     "output_type": "stream",
     "text": [
      "Starting experimental run with id: 26. \n"
     ]
    },
    {
     "name": "stdout",
     "output_type": "stream",
     "text": [
      "Starting experimental run with id: 27. \n"
     ]
    },
    {
     "name": "stdout",
     "output_type": "stream",
     "text": [
      "Starting experimental run with id: 28. \n"
     ]
    }
   ],
   "source": [
    "sizes = [1,500,1000,2000,3000,4000,5000]\n",
    "nreps = 100\n",
    "t_numeric = []\n",
    "t_numeric_add = []\n",
    "t_numeric_run_ids = []\n",
    "t_array = []\n",
    "t_array_add = []\n",
    "t_array_run_ids = []\n",
    "for size in sizes:\n",
    "    tn, tna, run_id_n =  insert_data('numeric', size, nreps=nreps)\n",
    "    t_numeric.append(tn)\n",
    "    t_numeric_add.append(tna)\n",
    "    t_numeric_run_ids.append(run_id_n)\n",
    "\n",
    "    ta, taa, run_id_a =  insert_data('array', size, nreps=nreps)\n",
    "    t_array.append(ta)\n",
    "    t_array_add.append(taa)\n",
    "    t_array_run_ids.append(run_id_a)"
   ]
  },
  {
   "cell_type": "code",
   "execution_count": 8,
   "metadata": {
    "execution": {
     "iopub.execute_input": "2021-01-03T12:49:23.975429Z",
     "iopub.status.busy": "2021-01-03T12:49:23.965811Z",
     "iopub.status.idle": "2021-01-03T12:49:24.153548Z",
     "shell.execute_reply": "2021-01-03T12:49:24.153043Z"
    },
    "scrolled": true
   },
   "outputs": [
    {
     "data": {
      "image/png": "[encoded data removed]",
      "text/plain": [
       "<Figure size 432x288 with 1 Axes>"
      ]
     },
     "metadata": {
      "needs_background": "light"
     },
     "output_type": "display_data"
    }
   ],
   "source": [
    "fig, ax = plt.subplots(1,1)\n",
    "ax.plot(sizes, t_numeric, 'o-', label='Inserting row-by-row')\n",
    "ax.plot(sizes, t_numeric_add, 'o-', label='Inserting row-by-row: add_result only')\n",
    "ax.plot(sizes, t_array, 'd-', label='Inserting as binary blob')\n",
    "ax.plot(sizes, t_array_add, 'd-', label='Inserting as binary blob: add_result only')\n",
    "ax.legend()\n",
    "ax.set_xlabel('Array length')\n",
    "ax.set_ylabel('Time (s)')\n",
    "fig.tight_layout()"
   ]
  },
  {
   "cell_type": "markdown",
   "metadata": {},
   "source": [
    "However, as we increase the length of the experiment, as seen here by repeating the insertion 100 times, we see a big difference between inserting values of the data row-by-row and inserting it as a binary blob."
   ]
  },
  {
   "cell_type": "markdown",
   "metadata": {},
   "source": [
    "## Loading the data "
   ]
  },
  {
   "cell_type": "code",
   "execution_count": 9,
   "metadata": {
    "execution": {
     "iopub.execute_input": "2021-01-03T12:49:24.158018Z",
     "iopub.status.busy": "2021-01-03T12:49:24.157056Z",
     "iopub.status.idle": "2021-01-03T12:49:24.160158Z",
     "shell.execute_reply": "2021-01-03T12:49:24.159606Z"
    }
   },
   "outputs": [],
   "source": [
    "from qcodes.dataset.data_set import load_by_id\n",
    "from qcodes.dataset.data_export import get_data_by_id"
   ]
  },
  {
   "cell_type": "markdown",
   "metadata": {},
   "source": [
    "As usual you can load the data by using the ``load_by_id`` function but you will notice that the different storage methods\n",
    "are reflected in shape of the data as it is retrieved. "
   ]
  },
  {
   "cell_type": "code",
   "execution_count": 10,
   "metadata": {
    "execution": {
     "iopub.execute_input": "2021-01-03T12:49:24.164429Z",
     "iopub.status.busy": "2021-01-03T12:49:24.163919Z",
     "iopub.status.idle": "2021-01-03T12:49:24.166582Z",
     "shell.execute_reply": "2021-01-03T12:49:24.166136Z"
    }
   },
   "outputs": [],
   "source": [
    "run_id_n = t_numeric_run_ids[0]\n",
    "run_id_a = t_array_run_ids[0]"
   ]
  },
  {
   "cell_type": "code",
   "execution_count": 11,
   "metadata": {
    "execution": {
     "iopub.execute_input": "2021-01-03T12:49:24.169895Z",
     "iopub.status.busy": "2021-01-03T12:49:24.169381Z",
     "iopub.status.idle": "2021-01-03T12:49:24.179217Z",
     "shell.execute_reply": "2021-01-03T12:49:24.178653Z"
    },
    "scrolled": true
   },
   "outputs": [
    {
     "data": {
      "text/plain": [
       "{'x1': {'x1': array([7.63213081e-01, 7.63213081e-01, 4.38543221e-01, 4.38543221e-01,\n",
       "         5.77714851e-01, 5.77714851e-01, 7.83984283e-01, 7.83984283e-01,\n",
       "         4.44840813e-01, 4.44840813e-01, 8.64474621e-01, 8.64474621e-01,\n",
       "         9.21506150e-01, 9.21506150e-01, 9.85325382e-01, 9.85325382e-01,\n",
       "         1.36064001e-01, 1.36064001e-01, 7.65115743e-01, 7.65115743e-01,\n",
       "         4.34168524e-01, 4.34168524e-01, 5.43163854e-01, 5.43163854e-01,\n",
       "         2.89685038e-01, 2.89685038e-01, 2.51401763e-01, 2.51401763e-01,\n",
       "         7.90524808e-01, 7.90524808e-01, 5.54317664e-01, 5.54317664e-01,\n",
       "         1.42504712e-01, 1.42504712e-01, 9.10138426e-01, 9.10138426e-01,\n",
       "         1.16196691e-01, 1.16196691e-01, 1.66881451e-02, 1.66881451e-02,\n",
       "         9.43704030e-01, 9.43704030e-01, 3.66806076e-02, 3.66806076e-02,\n",
       "         5.32160928e-02, 5.32160928e-02, 7.77062359e-02, 7.77062359e-02,\n",
       "         7.77905222e-01, 7.77905222e-01, 1.35245575e-01, 1.35245575e-01,\n",
       "         4.07534345e-01, 4.07534345e-01, 3.21925123e-01, 3.21925123e-01,\n",
       "         6.77499952e-01, 6.77499952e-01, 1.09065688e-01, 1.09065688e-01,\n",
       "         2.72633828e-01, 2.72633828e-01, 2.66782533e-01, 2.66782533e-01,\n",
       "         9.15012073e-01, 9.15012073e-01, 4.89457809e-02, 4.89457809e-02,\n",
       "         5.86199605e-01, 5.86199605e-01, 9.63074706e-01, 9.63074706e-01,\n",
       "         8.10265718e-01, 8.10265718e-01, 2.16856547e-01, 2.16856547e-01,\n",
       "         6.74385067e-01, 6.74385067e-01, 8.24596987e-01, 8.24596987e-01,\n",
       "         9.30320748e-01, 9.30320748e-01, 2.02188827e-01, 2.02188827e-01,\n",
       "         3.93754973e-01, 3.93754973e-01, 1.43500545e-01, 1.43500545e-01,\n",
       "         6.79540395e-01, 6.79540395e-01, 4.31777548e-01, 4.31777548e-01,\n",
       "         2.53537909e-01, 2.53537909e-01, 5.78041614e-01, 5.78041614e-01,\n",
       "         6.58832195e-01, 6.58832195e-01, 6.85043653e-01, 6.85043653e-01,\n",
       "         6.86654279e-01, 6.86654279e-01, 3.62439307e-01, 3.62439307e-01,\n",
       "         8.40508380e-01, 8.40508380e-01, 1.47976948e-01, 1.47976948e-01,\n",
       "         6.46955891e-01, 6.46955891e-01, 3.24008784e-01, 3.24008784e-01,\n",
       "         7.54867706e-01, 7.54867706e-01, 1.64160999e-01, 1.64160999e-01,\n",
       "         7.67921016e-02, 7.67921016e-02, 2.04022111e-01, 2.04022111e-01,\n",
       "         6.27748655e-01, 6.27748655e-01, 2.42871124e-01, 2.42871124e-01,\n",
       "         6.74327965e-01, 6.74327965e-01, 6.04728624e-01, 6.04728624e-01,\n",
       "         4.60346157e-01, 4.60346157e-01, 9.07410656e-01, 9.07410656e-01,\n",
       "         1.88453836e-01, 1.88453836e-01, 5.91596850e-01, 5.91596850e-01,\n",
       "         4.52108821e-01, 4.52108821e-01, 9.35202049e-01, 9.35202049e-01,\n",
       "         3.03245579e-01, 3.03245579e-01, 4.71601642e-01, 4.71601642e-01,\n",
       "         5.53064103e-02, 5.53064103e-02, 9.36730899e-05, 9.36730899e-05,\n",
       "         3.84666255e-01, 3.84666255e-01, 7.68999913e-01, 7.68999913e-01,\n",
       "         8.78989908e-02, 8.78989908e-02, 7.92573186e-01, 7.92573186e-01,\n",
       "         7.15008665e-01, 7.15008665e-01, 2.15092434e-01, 2.15092434e-01,\n",
       "         9.49492664e-01, 9.49492664e-01, 6.13374812e-01, 6.13374812e-01,\n",
       "         3.84698135e-01, 3.84698135e-01, 2.94148128e-01, 2.94148128e-01,\n",
       "         3.80722840e-02, 3.80722840e-02, 8.52210979e-01, 8.52210979e-01,\n",
       "         5.05913554e-01, 5.05913554e-01, 3.76669770e-01, 3.76669770e-01,\n",
       "         7.60439268e-01, 7.60439268e-01, 5.40659417e-01, 5.40659417e-01,\n",
       "         8.25470607e-01, 8.25470607e-01, 3.66011020e-01, 3.66011020e-01,\n",
       "         4.39438878e-01, 4.39438878e-01, 7.51987569e-01, 7.51987569e-01,\n",
       "         4.52821845e-01, 4.52821845e-01, 3.38425117e-01, 3.38425117e-01,\n",
       "         7.42388552e-01, 7.42388552e-01, 4.56432786e-01, 4.56432786e-01,\n",
       "         9.21644012e-01, 9.21644012e-01, 4.09215728e-01, 4.09215728e-01])}}"
      ]
     },
     "execution_count": 1,
     "metadata": {},
     "output_type": "execute_result"
    }
   ],
   "source": [
    "ds = load_by_id(run_id_n)\n",
    "ds.get_parameter_data('x1')"
   ]
  },
  {
   "cell_type": "markdown",
   "metadata": {},
   "source": [
    "And a dataset stored as binary arrays"
   ]
  },
  {
   "cell_type": "code",
   "execution_count": 12,
   "metadata": {
    "execution": {
     "iopub.execute_input": "2021-01-03T12:49:24.182814Z",
     "iopub.status.busy": "2021-01-03T12:49:24.182179Z",
     "iopub.status.idle": "2021-01-03T12:49:24.245642Z",
     "shell.execute_reply": "2021-01-03T12:49:24.246188Z"
    },
    "scrolled": true
   },
   "outputs": [
    {
     "data": {
      "text/plain": [
       "{'x1': {'x1': array([[0.12627656],\n",
       "         [0.12627656],\n",
       "         [0.76020373],\n",
       "         [0.76020373],\n",
       "         [0.96398231],\n",
       "         [0.96398231],\n",
       "         [0.5124665 ],\n",
       "         [0.5124665 ],\n",
       "         [0.06067543],\n",
       "         [0.06067543],\n",
       "         [0.27997625],\n",
       "         [0.27997625],\n",
       "         [0.4614369 ],\n",
       "         [0.4614369 ],\n",
       "         [0.24631496],\n",
       "         [0.24631496],\n",
       "         [0.71826893],\n",
       "         [0.71826893],\n",
       "         [0.14115199],\n",
       "         [0.14115199],\n",
       "         [0.56118587],\n",
       "         [0.56118587],\n",
       "         [0.94444467],\n",
       "         [0.94444467],\n",
       "         [0.62355392],\n",
       "         [0.62355392],\n",
       "         [0.23177993],\n",
       "         [0.23177993],\n",
       "         [0.87146371],\n",
       "         [0.87146371],\n",
       "         [0.28072004],\n",
       "         [0.28072004],\n",
       "         [0.05660969],\n",
       "         [0.05660969],\n",
       "         [0.53217615],\n",
       "         [0.53217615],\n",
       "         [0.0697997 ],\n",
       "         [0.0697997 ],\n",
       "         [0.50691314],\n",
       "         [0.50691314],\n",
       "         [0.85945385],\n",
       "         [0.85945385],\n",
       "         [0.84882398],\n",
       "         [0.84882398],\n",
       "         [0.39222717],\n",
       "         [0.39222717],\n",
       "         [0.12054231],\n",
       "         [0.12054231],\n",
       "         [0.57057198],\n",
       "         [0.57057198],\n",
       "         [0.31967689],\n",
       "         [0.31967689],\n",
       "         [0.14233885],\n",
       "         [0.14233885],\n",
       "         [0.44036724],\n",
       "         [0.44036724],\n",
       "         [0.72232113],\n",
       "         [0.72232113],\n",
       "         [0.14873814],\n",
       "         [0.14873814],\n",
       "         [0.37166314],\n",
       "         [0.37166314],\n",
       "         [0.45856066],\n",
       "         [0.45856066],\n",
       "         [0.87030746],\n",
       "         [0.87030746],\n",
       "         [0.80051076],\n",
       "         [0.80051076],\n",
       "         [0.04001371],\n",
       "         [0.04001371],\n",
       "         [0.70418901],\n",
       "         [0.70418901],\n",
       "         [0.53115553],\n",
       "         [0.53115553],\n",
       "         [0.32076682],\n",
       "         [0.32076682],\n",
       "         [0.3222975 ],\n",
       "         [0.3222975 ],\n",
       "         [0.4688201 ],\n",
       "         [0.4688201 ],\n",
       "         [0.48108108],\n",
       "         [0.48108108],\n",
       "         [0.31467429],\n",
       "         [0.31467429],\n",
       "         [0.23450103],\n",
       "         [0.23450103],\n",
       "         [0.27528798],\n",
       "         [0.27528798],\n",
       "         [0.01435843],\n",
       "         [0.01435843],\n",
       "         [0.25295154],\n",
       "         [0.25295154],\n",
       "         [0.80356949],\n",
       "         [0.80356949],\n",
       "         [0.27646043],\n",
       "         [0.27646043],\n",
       "         [0.62545977],\n",
       "         [0.62545977],\n",
       "         [0.8306113 ],\n",
       "         [0.8306113 ],\n",
       "         [0.62043465],\n",
       "         [0.62043465],\n",
       "         [0.03027357],\n",
       "         [0.03027357],\n",
       "         [0.64391971],\n",
       "         [0.64391971],\n",
       "         [0.60790316],\n",
       "         [0.60790316],\n",
       "         [0.8128806 ],\n",
       "         [0.8128806 ],\n",
       "         [0.39117581],\n",
       "         [0.39117581],\n",
       "         [0.98317465],\n",
       "         [0.98317465],\n",
       "         [0.41034073],\n",
       "         [0.41034073],\n",
       "         [0.75927522],\n",
       "         [0.75927522],\n",
       "         [0.31676362],\n",
       "         [0.31676362],\n",
       "         [0.4427836 ],\n",
       "         [0.4427836 ],\n",
       "         [0.441977  ],\n",
       "         [0.441977  ],\n",
       "         [0.51245552],\n",
       "         [0.51245552],\n",
       "         [0.72647142],\n",
       "         [0.72647142],\n",
       "         [0.94677137],\n",
       "         [0.94677137],\n",
       "         [0.51825564],\n",
       "         [0.51825564],\n",
       "         [0.59407296],\n",
       "         [0.59407296],\n",
       "         [0.13742185],\n",
       "         [0.13742185],\n",
       "         [0.98641818],\n",
       "         [0.98641818],\n",
       "         [0.42650783],\n",
       "         [0.42650783],\n",
       "         [0.47475808],\n",
       "         [0.47475808],\n",
       "         [0.11185038],\n",
       "         [0.11185038],\n",
       "         [0.60256508],\n",
       "         [0.60256508],\n",
       "         [0.37703368],\n",
       "         [0.37703368],\n",
       "         [0.77721669],\n",
       "         [0.77721669],\n",
       "         [0.23888884],\n",
       "         [0.23888884],\n",
       "         [0.97319779],\n",
       "         [0.97319779],\n",
       "         [0.05329205],\n",
       "         [0.05329205],\n",
       "         [0.92757702],\n",
       "         [0.92757702],\n",
       "         [0.59265134],\n",
       "         [0.59265134],\n",
       "         [0.23498304],\n",
       "         [0.23498304],\n",
       "         [0.32770887],\n",
       "         [0.32770887],\n",
       "         [0.84798288],\n",
       "         [0.84798288],\n",
       "         [0.26368602],\n",
       "         [0.26368602],\n",
       "         [0.23498473],\n",
       "         [0.23498473],\n",
       "         [0.45148352],\n",
       "         [0.45148352],\n",
       "         [0.17355899],\n",
       "         [0.17355899],\n",
       "         [0.54666144],\n",
       "         [0.54666144],\n",
       "         [0.39774236],\n",
       "         [0.39774236],\n",
       "         [0.38697792],\n",
       "         [0.38697792],\n",
       "         [0.51347134],\n",
       "         [0.51347134],\n",
       "         [0.41499965],\n",
       "         [0.41499965],\n",
       "         [0.95531573],\n",
       "         [0.95531573],\n",
       "         [0.84885215],\n",
       "         [0.84885215],\n",
       "         [0.36029034],\n",
       "         [0.36029034],\n",
       "         [0.37962186],\n",
       "         [0.37962186],\n",
       "         [0.65027564],\n",
       "         [0.65027564],\n",
       "         [0.01873099],\n",
       "         [0.01873099],\n",
       "         [0.14681874],\n",
       "         [0.14681874],\n",
       "         [0.48333552],\n",
       "         [0.48333552]])}}"
      ]
     },
     "execution_count": 1,
     "metadata": {},
     "output_type": "execute_result"
    }
   ],
   "source": [
    "ds = load_by_id(run_id_a)\n",
    "ds.get_parameter_data('x1')"
   ]
  },
  {
   "cell_type": "code",
   "execution_count": null,
   "metadata": {},
   "outputs": [],
   "source": []
  }
 ],
 "metadata": {
  "kernelspec": {
   "display_name": "Python 3",
   "language": "python",
   "name": "python3"
  },
  "language_info": {
   "codemirror_mode": {
    "name": "ipython",
    "version": 3
   },
   "file_extension": ".py",
   "mimetype": "text/x-python",
   "name": "python",
   "nbconvert_exporter": "python",
   "pygments_lexer": "ipython3",
   "version": "3.7.9"
  },
  "nbsphinx": {
   "timeout": 600
  },
  "toc": {
   "base_numbering": 1,
   "nav_menu": {},
   "number_sections": true,
   "sideBar": true,
   "skip_h1_title": false,
   "title_cell": "Table of Contents",
   "title_sidebar": "Contents",
   "toc_cell": false,
   "toc_position": {},
   "toc_section_display": true,
   "toc_window_display": false
  },
  "varInspector": {
   "cols": {
    "lenName": 16,
    "lenType": 16,
    "lenVar": 40
   },
   "kernels_config": {
    "python": {
     "delete_cmd_postfix": "",
     "delete_cmd_prefix": "del ",
     "library": "var_list.py",
     "varRefreshCmd": "print(var_dic_list())"
    },
    "r": {
     "delete_cmd_postfix": ") ",
     "delete_cmd_prefix": "rm(",
     "library": "var_list.r",
     "varRefreshCmd": "cat(var_dic_list()) "
    }
   },
   "types_to_exclude": [
    "module",
    "function",
    "builtin_function_or_method",
    "instance",
    "_Feature"
   ],
   "window_display": false
  }
 },
 "nbformat": 4,
 "nbformat_minor": 2
}
