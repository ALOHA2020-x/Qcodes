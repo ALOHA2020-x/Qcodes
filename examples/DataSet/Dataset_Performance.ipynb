{
 "cells": [
  {
   "cell_type": "markdown",
   "metadata": {},
   "source": [
    "# DataSet Performance\n",
    "\n",
    "This notebook shows the trade-off between inserting data into a database row-by-row and as binary blobs. Inserting the data row-by-row means that we have direct access to all the data and may perform queries directly on the values of the data. On the other hand, as we shall see, this is much slower than inserting the data directly as binary blobs."
   ]
  },
  {
   "cell_type": "markdown",
   "metadata": {},
   "source": [
    "First, we choose a new location for the database to ensure that we don't add a bunch of benchmarking data to the default one."
   ]
  },
  {
   "cell_type": "code",
   "execution_count": 1,
   "metadata": {
    "execution": {
     "iopub.execute_input": "2021-03-31T06:21:56.976161Z",
     "iopub.status.busy": "2021-03-31T06:21:56.975382Z",
     "iopub.status.idle": "2021-03-31T06:21:57.970591Z",
     "shell.execute_reply": "2021-03-31T06:21:57.969520Z"
    }
   },
   "outputs": [
    {
     "name": "stdout",
     "output_type": "stream",
     "text": [
      "Logging hadn't been started.\n",
      "Activating auto-logging. Current session state plus future input saved.\n",
      "Filename       : /home/runner/.qcodes/logs/command_history.log\n",
      "Mode           : append\n",
      "Output logging : True\n",
      "Raw input log  : False\n",
      "Timestamping   : True\n",
      "State          : active\n"
     ]
    },
    {
     "name": "stdout",
     "output_type": "stream",
     "text": [
      "Qcodes Logfile : /home/runner/.qcodes/logs/210331-4531-qcodes.log\n"
     ]
    }
   ],
   "source": [
    "import os\n",
    "cwd = os.getcwd()\n",
    "import qcodes as qc\n",
    "qc.config[\"core\"][\"db_location\"] = os.path.join(cwd, 'testing.db')\n"
   ]
  },
  {
   "cell_type": "code",
   "execution_count": 2,
   "metadata": {
    "execution": {
     "iopub.execute_input": "2021-03-31T06:21:57.977715Z",
     "iopub.status.busy": "2021-03-31T06:21:57.976320Z",
     "iopub.status.idle": "2021-03-31T06:21:58.216491Z",
     "shell.execute_reply": "2021-03-31T06:21:58.215447Z"
    }
   },
   "outputs": [],
   "source": [
    "%matplotlib inline\n",
    "import time\n",
    "import matplotlib.pyplot as plt\n",
    "import numpy as np\n",
    "\n",
    "import qcodes as qc\n",
    "from qcodes.instrument.parameter import ManualParameter\n",
    "from qcodes.dataset.experiment_container import (Experiment,\n",
    "                                                 load_last_experiment,\n",
    "                                                 new_experiment)\n",
    "from qcodes.dataset.sqlite.database import initialise_database\n",
    "from qcodes import load_or_create_experiment\n",
    "from qcodes.dataset.measurements import Measurement"
   ]
  },
  {
   "cell_type": "code",
   "execution_count": 3,
   "metadata": {
    "execution": {
     "iopub.execute_input": "2021-03-31T06:21:58.221376Z",
     "iopub.status.busy": "2021-03-31T06:21:58.220532Z",
     "iopub.status.idle": "2021-03-31T06:21:58.299263Z",
     "shell.execute_reply": "2021-03-31T06:21:58.298769Z"
    }
   },
   "outputs": [
    {
     "name": "stdout",
     "output_type": "stream",
     "text": [
      "\r",
      "0it [00:00, ?it/s]"
     ]
    },
    {
     "name": "stdout",
     "output_type": "stream",
     "text": [
      "\r",
      "Upgrading database; v0 -> v1: : 0it [00:00, ?it/s]"
     ]
    },
    {
     "name": "stdout",
     "output_type": "stream",
     "text": [
      "\r",
      "Upgrading database; v0 -> v1: : 0it [00:00, ?it/s]"
     ]
    },
    {
     "name": "stdout",
     "output_type": "stream",
     "text": [
      "\n",
      "\r",
      "  0%|          | 0/1 [00:00<?, ?it/s]"
     ]
    },
    {
     "name": "stdout",
     "output_type": "stream",
     "text": [
      "\r",
      "Upgrading database; v1 -> v2:   0%|          | 0/1 [00:00<?, ?it/s]"
     ]
    },
    {
     "name": "stdout",
     "output_type": "stream",
     "text": [
      "\r",
      "Upgrading database; v1 -> v2: 100%|██████████| 1/1 [00:00<00:00, 784.72it/s]"
     ]
    },
    {
     "name": "stdout",
     "output_type": "stream",
     "text": [
      "\n",
      "\r",
      "0it [00:00, ?it/s]"
     ]
    },
    {
     "name": "stdout",
     "output_type": "stream",
     "text": [
      "\r",
      "Upgrading database; v2 -> v3: : 0it [00:00, ?it/s]"
     ]
    },
    {
     "name": "stdout",
     "output_type": "stream",
     "text": [
      "\r",
      "Upgrading database; v2 -> v3: : 0it [00:00, ?it/s]"
     ]
    },
    {
     "name": "stdout",
     "output_type": "stream",
     "text": [
      "\n",
      "\r",
      "0it [00:00, ?it/s]"
     ]
    },
    {
     "name": "stdout",
     "output_type": "stream",
     "text": [
      "\r",
      "Upgrading database; v3 -> v4: : 0it [00:00, ?it/s]"
     ]
    },
    {
     "name": "stdout",
     "output_type": "stream",
     "text": [
      "\r",
      "Upgrading database; v3 -> v4: : 0it [00:00, ?it/s]"
     ]
    },
    {
     "name": "stdout",
     "output_type": "stream",
     "text": [
      "\n",
      "\r",
      "  0%|          | 0/1 [00:00<?, ?it/s]"
     ]
    },
    {
     "name": "stdout",
     "output_type": "stream",
     "text": [
      "\r",
      "Upgrading database; v4 -> v5:   0%|          | 0/1 [00:00<?, ?it/s]"
     ]
    },
    {
     "name": "stdout",
     "output_type": "stream",
     "text": [
      "\r",
      "Upgrading database; v4 -> v5: 100%|██████████| 1/1 [00:00<00:00, 516.29it/s]"
     ]
    },
    {
     "name": "stdout",
     "output_type": "stream",
     "text": [
      "\n",
      "\r",
      "0it [00:00, ?it/s]"
     ]
    },
    {
     "name": "stdout",
     "output_type": "stream",
     "text": [
      "\r",
      "Upgrading database; v5 -> v6: : 0it [00:00, ?it/s]"
     ]
    },
    {
     "name": "stdout",
     "output_type": "stream",
     "text": [
      "\r",
      "Upgrading database; v5 -> v6: : 0it [00:00, ?it/s]"
     ]
    },
    {
     "name": "stdout",
     "output_type": "stream",
     "text": [
      "\n",
      "\r",
      "  0%|          | 0/1 [00:00<?, ?it/s]"
     ]
    },
    {
     "name": "stdout",
     "output_type": "stream",
     "text": [
      "\r",
      "Upgrading database; v6 -> v7:   0%|          | 0/1 [00:00<?, ?it/s]"
     ]
    },
    {
     "name": "stdout",
     "output_type": "stream",
     "text": [
      "\r",
      "Upgrading database; v6 -> v7: 100%|██████████| 1/1 [00:00<00:00, 290.75it/s]"
     ]
    },
    {
     "name": "stdout",
     "output_type": "stream",
     "text": [
      "\n",
      "\r",
      "  0%|          | 0/1 [00:00<?, ?it/s]"
     ]
    },
    {
     "name": "stdout",
     "output_type": "stream",
     "text": [
      "\r",
      "Upgrading database; v7 -> v8:   0%|          | 0/1 [00:00<?, ?it/s]"
     ]
    },
    {
     "name": "stdout",
     "output_type": "stream",
     "text": [
      "\r",
      "Upgrading database; v7 -> v8: 100%|██████████| 1/1 [00:00<00:00, 400.56it/s]"
     ]
    },
    {
     "name": "stdout",
     "output_type": "stream",
     "text": [
      "\n",
      "\r",
      "  0%|          | 0/1 [00:00<?, ?it/s]"
     ]
    },
    {
     "name": "stdout",
     "output_type": "stream",
     "text": [
      "\r",
      "Upgrading database; v8 -> v9:   0%|          | 0/1 [00:00<?, ?it/s]"
     ]
    },
    {
     "name": "stdout",
     "output_type": "stream",
     "text": [
      "\r",
      "Upgrading database; v8 -> v9: 100%|██████████| 1/1 [00:00<00:00, 513.63it/s]"
     ]
    },
    {
     "name": "stdout",
     "output_type": "stream",
     "text": [
      "\n"
     ]
    }
   ],
   "source": [
    "initialise_database()\n",
    "exp = load_or_create_experiment(experiment_name='tutorial_exp', sample_name=\"no sample\")"
   ]
  },
  {
   "cell_type": "markdown",
   "metadata": {},
   "source": [
    "Here, we define a simple function to benchmark the time it takes to insert n points with either numeric or array data type.\n",
    "We will compare both the time used to call ``add_result`` and the time used for the full measurement."
   ]
  },
  {
   "cell_type": "code",
   "execution_count": 4,
   "metadata": {
    "execution": {
     "iopub.execute_input": "2021-03-31T06:21:58.308026Z",
     "iopub.status.busy": "2021-03-31T06:21:58.306251Z",
     "iopub.status.idle": "2021-03-31T06:21:58.310173Z",
     "shell.execute_reply": "2021-03-31T06:21:58.309705Z"
    }
   },
   "outputs": [],
   "source": [
    "def insert_data(paramtype, npoints, nreps=1):\n",
    "\n",
    "    meas = Measurement(exp=exp)\n",
    "\n",
    "    x1 = ManualParameter('x1')\n",
    "    x2 = ManualParameter('x2')\n",
    "    x3 = ManualParameter('x3')\n",
    "    y1 = ManualParameter('y1')\n",
    "    y2 = ManualParameter('y2')\n",
    "\n",
    "    meas.register_parameter(x1, paramtype=paramtype)\n",
    "    meas.register_parameter(x2, paramtype=paramtype)\n",
    "    meas.register_parameter(x3, paramtype=paramtype)\n",
    "    meas.register_parameter(y1, setpoints=[x1, x2, x3],\n",
    "                            paramtype=paramtype)\n",
    "    meas.register_parameter(y2, setpoints=[x1, x2, x3],\n",
    "                            paramtype=paramtype)\n",
    "    start = time.perf_counter()\n",
    "    with meas.run() as datasaver:\n",
    "        start_adding = time.perf_counter()\n",
    "        for i in range(nreps):\n",
    "            datasaver.add_result((x1, np.random.rand(npoints)),\n",
    "                                 (x2, np.random.rand(npoints)),\n",
    "                                 (x3, np.random.rand(npoints)),\n",
    "                                 (y1, np.random.rand(npoints)),\n",
    "                                 (y2, np.random.rand(npoints)))\n",
    "        stop_adding = time.perf_counter()\n",
    "        run_id = datasaver.run_id\n",
    "    stop = time.perf_counter()\n",
    "    tot_time = stop - start\n",
    "    add_time = stop_adding - start_adding\n",
    "    return tot_time, add_time, run_id"
   ]
  },
  {
   "cell_type": "markdown",
   "metadata": {},
   "source": [
    "## Comparison between numeric/array data and binary blob"
   ]
  },
  {
   "cell_type": "markdown",
   "metadata": {},
   "source": [
    "### Case1: Short experiment time"
   ]
  },
  {
   "cell_type": "code",
   "execution_count": 5,
   "metadata": {
    "execution": {
     "iopub.execute_input": "2021-03-31T06:21:58.315826Z",
     "iopub.status.busy": "2021-03-31T06:21:58.314439Z",
     "iopub.status.idle": "2021-03-31T06:21:59.135666Z",
     "shell.execute_reply": "2021-03-31T06:21:59.135165Z"
    }
   },
   "outputs": [
    {
     "name": "stdout",
     "output_type": "stream",
     "text": [
      "Starting experimental run with id: 1. \n",
      "Starting experimental run with id: 2. \n",
      "Starting experimental run with id: 3. \n",
      "Starting experimental run with id: 4. \n",
      "Starting experimental run with id: 5. \n"
     ]
    },
    {
     "name": "stdout",
     "output_type": "stream",
     "text": [
      "Starting experimental run with id: 6. \n"
     ]
    },
    {
     "name": "stdout",
     "output_type": "stream",
     "text": [
      "Starting experimental run with id: 7. \n"
     ]
    },
    {
     "name": "stdout",
     "output_type": "stream",
     "text": [
      "Starting experimental run with id: 8. \n",
      "Starting experimental run with id: 9. \n"
     ]
    },
    {
     "name": "stdout",
     "output_type": "stream",
     "text": [
      "Starting experimental run with id: 10. \n",
      "Starting experimental run with id: 11. \n"
     ]
    },
    {
     "name": "stdout",
     "output_type": "stream",
     "text": [
      "Starting experimental run with id: 12. \n",
      "Starting experimental run with id: 13. \n",
      "Starting experimental run with id: 14. \n"
     ]
    }
   ],
   "source": [
    "sizes = [1,500,1000,2000,3000,4000,5000]\n",
    "t_numeric = []\n",
    "t_numeric_add = []\n",
    "t_array = []\n",
    "t_array_add = []\n",
    "for size in sizes:\n",
    "    tn, tna, run_id_n =  insert_data('numeric', size)\n",
    "    t_numeric.append(tn)\n",
    "    t_numeric_add.append(tna)\n",
    "\n",
    "    ta, taa, run_id_a =  insert_data('array', size)\n",
    "    t_array.append(ta)\n",
    "    t_array_add.append(taa)"
   ]
  },
  {
   "cell_type": "code",
   "execution_count": 6,
   "metadata": {
    "execution": {
     "iopub.execute_input": "2021-03-31T06:21:59.154062Z",
     "iopub.status.busy": "2021-03-31T06:21:59.139817Z",
     "iopub.status.idle": "2021-03-31T06:21:59.349644Z",
     "shell.execute_reply": "2021-03-31T06:21:59.348869Z"
    }
   },
   "outputs": [
    {
     "data": {
      "image/png": "[encoded data removed]",
      "text/plain": [
       "<Figure size 432x288 with 1 Axes>"
      ]
     },
     "metadata": {
      "needs_background": "light"
     },
     "output_type": "display_data"
    }
   ],
   "source": [
    "fig, ax = plt.subplots(1,1)\n",
    "ax.plot(sizes, t_numeric, 'o-', label='Inserting row-by-row')\n",
    "ax.plot(sizes, t_numeric_add, 'o-', label='Inserting row-by-row: add_result only')\n",
    "ax.plot(sizes, t_array, 'd-', label='Inserting as binary blob')\n",
    "ax.plot(sizes, t_array_add, 'd-', label='Inserting as binary blob: add_result only')\n",
    "ax.legend()\n",
    "ax.set_xlabel('Array length')\n",
    "ax.set_ylabel('Time (s)')\n",
    "fig.tight_layout()"
   ]
  },
  {
   "cell_type": "markdown",
   "metadata": {},
   "source": [
    "As shown in the latter figure, the time to setup and and close the experiment is approximately 0.4 sec. In case of small array sizes, the difference between inserting values of data as arrays and inserting them row-by-row is relatively unimportant. At larger array sizes, i.e. above 10000 points, the cost of writing data as individual datapoints starts to become important.\n"
   ]
  },
  {
   "cell_type": "markdown",
   "metadata": {},
   "source": [
    "### Case2: Long experiment time "
   ]
  },
  {
   "cell_type": "code",
   "execution_count": 7,
   "metadata": {
    "execution": {
     "iopub.execute_input": "2021-03-31T06:21:59.356771Z",
     "iopub.status.busy": "2021-03-31T06:21:59.355604Z",
     "iopub.status.idle": "2021-03-31T06:23:00.371880Z",
     "shell.execute_reply": "2021-03-31T06:23:00.371172Z"
    }
   },
   "outputs": [
    {
     "name": "stdout",
     "output_type": "stream",
     "text": [
      "Starting experimental run with id: 15. \n",
      "Starting experimental run with id: 16. \n",
      "Starting experimental run with id: 17. \n"
     ]
    },
    {
     "name": "stdout",
     "output_type": "stream",
     "text": [
      "Starting experimental run with id: 18. \n",
      "Starting experimental run with id: 19. \n"
     ]
    },
    {
     "name": "stdout",
     "output_type": "stream",
     "text": [
      "Starting experimental run with id: 20. \n"
     ]
    },
    {
     "name": "stdout",
     "output_type": "stream",
     "text": [
      "Starting experimental run with id: 21. \n"
     ]
    },
    {
     "name": "stdout",
     "output_type": "stream",
     "text": [
      "Starting experimental run with id: 22. \n"
     ]
    },
    {
     "name": "stdout",
     "output_type": "stream",
     "text": [
      "Starting experimental run with id: 23. \n"
     ]
    },
    {
     "name": "stdout",
     "output_type": "stream",
     "text": [
      "Starting experimental run with id: 24. \n"
     ]
    },
    {
     "name": "stdout",
     "output_type": "stream",
     "text": [
      "Starting experimental run with id: 25. \n"
     ]
    },
    {
     "name": "stdout",
     "output_type": "stream",
     "text": [
      "Starting experimental run with id: 26. \n"
     ]
    },
    {
     "name": "stdout",
     "output_type": "stream",
     "text": [
      "Starting experimental run with id: 27. \n"
     ]
    },
    {
     "name": "stdout",
     "output_type": "stream",
     "text": [
      "Starting experimental run with id: 28. \n"
     ]
    }
   ],
   "source": [
    "sizes = [1,500,1000,2000,3000,4000,5000]\n",
    "nreps = 100\n",
    "t_numeric = []\n",
    "t_numeric_add = []\n",
    "t_numeric_run_ids = []\n",
    "t_array = []\n",
    "t_array_add = []\n",
    "t_array_run_ids = []\n",
    "for size in sizes:\n",
    "    tn, tna, run_id_n =  insert_data('numeric', size, nreps=nreps)\n",
    "    t_numeric.append(tn)\n",
    "    t_numeric_add.append(tna)\n",
    "    t_numeric_run_ids.append(run_id_n)\n",
    "\n",
    "    ta, taa, run_id_a =  insert_data('array', size, nreps=nreps)\n",
    "    t_array.append(ta)\n",
    "    t_array_add.append(taa)\n",
    "    t_array_run_ids.append(run_id_a)"
   ]
  },
  {
   "cell_type": "code",
   "execution_count": 8,
   "metadata": {
    "execution": {
     "iopub.execute_input": "2021-03-31T06:23:00.403752Z",
     "iopub.status.busy": "2021-03-31T06:23:00.392269Z",
     "iopub.status.idle": "2021-03-31T06:23:00.560646Z",
     "shell.execute_reply": "2021-03-31T06:23:00.561378Z"
    },
    "scrolled": true
   },
   "outputs": [
    {
     "data": {
      "image/png": "[encoded data removed]",
      "text/plain": [
       "<Figure size 432x288 with 1 Axes>"
      ]
     },
     "metadata": {
      "needs_background": "light"
     },
     "output_type": "display_data"
    }
   ],
   "source": [
    "fig, ax = plt.subplots(1,1)\n",
    "ax.plot(sizes, t_numeric, 'o-', label='Inserting row-by-row')\n",
    "ax.plot(sizes, t_numeric_add, 'o-', label='Inserting row-by-row: add_result only')\n",
    "ax.plot(sizes, t_array, 'd-', label='Inserting as binary blob')\n",
    "ax.plot(sizes, t_array_add, 'd-', label='Inserting as binary blob: add_result only')\n",
    "ax.legend()\n",
    "ax.set_xlabel('Array length')\n",
    "ax.set_ylabel('Time (s)')\n",
    "fig.tight_layout()"
   ]
  },
  {
   "cell_type": "markdown",
   "metadata": {},
   "source": [
    "However, as we increase the length of the experiment, as seen here by repeating the insertion 100 times, we see a big difference between inserting values of the data row-by-row and inserting it as a binary blob."
   ]
  },
  {
   "cell_type": "markdown",
   "metadata": {},
   "source": [
    "## Loading the data "
   ]
  },
  {
   "cell_type": "code",
   "execution_count": 9,
   "metadata": {
    "execution": {
     "iopub.execute_input": "2021-03-31T06:23:00.564241Z",
     "iopub.status.busy": "2021-03-31T06:23:00.563661Z",
     "iopub.status.idle": "2021-03-31T06:23:00.567204Z",
     "shell.execute_reply": "2021-03-31T06:23:00.567701Z"
    }
   },
   "outputs": [],
   "source": [
    "from qcodes.dataset.data_set import load_by_id\n",
    "from qcodes.dataset.data_export import get_data_by_id"
   ]
  },
  {
   "cell_type": "markdown",
   "metadata": {},
   "source": [
    "As usual you can load the data by using the ``load_by_id`` function but you will notice that the different storage methods\n",
    "are reflected in shape of the data as it is retrieved. "
   ]
  },
  {
   "cell_type": "code",
   "execution_count": 10,
   "metadata": {
    "execution": {
     "iopub.execute_input": "2021-03-31T06:23:00.570299Z",
     "iopub.status.busy": "2021-03-31T06:23:00.569732Z",
     "iopub.status.idle": "2021-03-31T06:23:00.572627Z",
     "shell.execute_reply": "2021-03-31T06:23:00.573107Z"
    }
   },
   "outputs": [],
   "source": [
    "run_id_n = t_numeric_run_ids[0]\n",
    "run_id_a = t_array_run_ids[0]"
   ]
  },
  {
   "cell_type": "code",
   "execution_count": 11,
   "metadata": {
    "execution": {
     "iopub.execute_input": "2021-03-31T06:23:00.576570Z",
     "iopub.status.busy": "2021-03-31T06:23:00.575993Z",
     "iopub.status.idle": "2021-03-31T06:23:00.585531Z",
     "shell.execute_reply": "2021-03-31T06:23:00.585974Z"
    },
    "scrolled": true
   },
   "outputs": [
    {
     "data": {
      "text/plain": [
       "{'x1': {'x1': array([0.00723164, 0.00723164, 0.88424012, 0.88424012, 0.75108379,\n",
       "         0.75108379, 0.49875698, 0.49875698, 0.70595712, 0.70595712,\n",
       "         0.41084786, 0.41084786, 0.41896926, 0.41896926, 0.37817107,\n",
       "         0.37817107, 0.64322641, 0.64322641, 0.74779343, 0.74779343,\n",
       "         0.20606646, 0.20606646, 0.79366695, 0.79366695, 0.29102625,\n",
       "         0.29102625, 0.81217182, 0.81217182, 0.7936772 , 0.7936772 ,\n",
       "         0.12840428, 0.12840428, 0.57460728, 0.57460728, 0.611613  ,\n",
       "         0.611613  , 0.60301257, 0.60301257, 0.80762408, 0.80762408,\n",
       "         0.36825208, 0.36825208, 0.87594757, 0.87594757, 0.29341579,\n",
       "         0.29341579, 0.35169632, 0.35169632, 0.10912554, 0.10912554,\n",
       "         0.99842871, 0.99842871, 0.5950831 , 0.5950831 , 0.48978512,\n",
       "         0.48978512, 0.75750322, 0.75750322, 0.77737052, 0.77737052,\n",
       "         0.98127995, 0.98127995, 0.4452434 , 0.4452434 , 0.33746141,\n",
       "         0.33746141, 0.31916322, 0.31916322, 0.54995847, 0.54995847,\n",
       "         0.96508246, 0.96508246, 0.18154409, 0.18154409, 0.25824308,\n",
       "         0.25824308, 0.62644914, 0.62644914, 0.46668943, 0.46668943,\n",
       "         0.16626614, 0.16626614, 0.72765259, 0.72765259, 0.52533833,\n",
       "         0.52533833, 0.38416994, 0.38416994, 0.63898919, 0.63898919,\n",
       "         0.81430936, 0.81430936, 0.62899437, 0.62899437, 0.76216205,\n",
       "         0.76216205, 0.80089466, 0.80089466, 0.75490487, 0.75490487,\n",
       "         0.88478793, 0.88478793, 0.84352532, 0.84352532, 0.0289455 ,\n",
       "         0.0289455 , 0.3460497 , 0.3460497 , 0.25719672, 0.25719672,\n",
       "         0.1567055 , 0.1567055 , 0.796509  , 0.796509  , 0.8799801 ,\n",
       "         0.8799801 , 0.49410058, 0.49410058, 0.36598643, 0.36598643,\n",
       "         0.55717762, 0.55717762, 0.10768178, 0.10768178, 0.96011844,\n",
       "         0.96011844, 0.45469998, 0.45469998, 0.85292943, 0.85292943,\n",
       "         0.86419158, 0.86419158, 0.40243661, 0.40243661, 0.25590654,\n",
       "         0.25590654, 0.17840497, 0.17840497, 0.98664869, 0.98664869,\n",
       "         0.25608354, 0.25608354, 0.23452632, 0.23452632, 0.40177929,\n",
       "         0.40177929, 0.21344907, 0.21344907, 0.45971245, 0.45971245,\n",
       "         0.8223933 , 0.8223933 , 0.5463398 , 0.5463398 , 0.25952244,\n",
       "         0.25952244, 0.39266622, 0.39266622, 0.15977287, 0.15977287,\n",
       "         0.76276991, 0.76276991, 0.98130316, 0.98130316, 0.10615505,\n",
       "         0.10615505, 0.99417851, 0.99417851, 0.4675587 , 0.4675587 ,\n",
       "         0.85254085, 0.85254085, 0.89932127, 0.89932127, 0.22135219,\n",
       "         0.22135219, 0.5749978 , 0.5749978 , 0.53346453, 0.53346453,\n",
       "         0.60153571, 0.60153571, 0.87699322, 0.87699322, 0.32985079,\n",
       "         0.32985079, 0.37355438, 0.37355438, 0.20410768, 0.20410768,\n",
       "         0.82576807, 0.82576807, 0.32431468, 0.32431468, 0.188257  ,\n",
       "         0.188257  , 0.25753891, 0.25753891, 0.41043916, 0.41043916])}}"
      ]
     },
     "execution_count": 1,
     "metadata": {},
     "output_type": "execute_result"
    }
   ],
   "source": [
    "ds = load_by_id(run_id_n)\n",
    "ds.get_parameter_data('x1')"
   ]
  },
  {
   "cell_type": "markdown",
   "metadata": {},
   "source": [
    "And a dataset stored as binary arrays"
   ]
  },
  {
   "cell_type": "code",
   "execution_count": 12,
   "metadata": {
    "execution": {
     "iopub.execute_input": "2021-03-31T06:23:00.589469Z",
     "iopub.status.busy": "2021-03-31T06:23:00.588909Z",
     "iopub.status.idle": "2021-03-31T06:23:00.647099Z",
     "shell.execute_reply": "2021-03-31T06:23:00.647946Z"
    },
    "scrolled": true
   },
   "outputs": [
    {
     "data": {
      "text/plain": [
       "{'x1': {'x1': array([[0.46285903],\n",
       "         [0.46285903],\n",
       "         [0.15150892],\n",
       "         [0.15150892],\n",
       "         [0.76038672],\n",
       "         [0.76038672],\n",
       "         [0.96336659],\n",
       "         [0.96336659],\n",
       "         [0.43695817],\n",
       "         [0.43695817],\n",
       "         [0.64318016],\n",
       "         [0.64318016],\n",
       "         [0.02907551],\n",
       "         [0.02907551],\n",
       "         [0.24344114],\n",
       "         [0.24344114],\n",
       "         [0.58151955],\n",
       "         [0.58151955],\n",
       "         [0.07213788],\n",
       "         [0.07213788],\n",
       "         [0.14117356],\n",
       "         [0.14117356],\n",
       "         [0.98399035],\n",
       "         [0.98399035],\n",
       "         [0.4026582 ],\n",
       "         [0.4026582 ],\n",
       "         [0.90763631],\n",
       "         [0.90763631],\n",
       "         [0.17921766],\n",
       "         [0.17921766],\n",
       "         [0.003498  ],\n",
       "         [0.003498  ],\n",
       "         [0.25008328],\n",
       "         [0.25008328],\n",
       "         [0.01176932],\n",
       "         [0.01176932],\n",
       "         [0.33802322],\n",
       "         [0.33802322],\n",
       "         [0.33500079],\n",
       "         [0.33500079],\n",
       "         [0.99607771],\n",
       "         [0.99607771],\n",
       "         [0.1118857 ],\n",
       "         [0.1118857 ],\n",
       "         [0.28416949],\n",
       "         [0.28416949],\n",
       "         [0.73715683],\n",
       "         [0.73715683],\n",
       "         [0.03038953],\n",
       "         [0.03038953],\n",
       "         [0.44896766],\n",
       "         [0.44896766],\n",
       "         [0.27970904],\n",
       "         [0.27970904],\n",
       "         [0.87681289],\n",
       "         [0.87681289],\n",
       "         [0.52420048],\n",
       "         [0.52420048],\n",
       "         [0.96432061],\n",
       "         [0.96432061],\n",
       "         [0.85105829],\n",
       "         [0.85105829],\n",
       "         [0.99516973],\n",
       "         [0.99516973],\n",
       "         [0.61544818],\n",
       "         [0.61544818],\n",
       "         [0.77544136],\n",
       "         [0.77544136],\n",
       "         [0.23046964],\n",
       "         [0.23046964],\n",
       "         [0.55502876],\n",
       "         [0.55502876],\n",
       "         [0.95063194],\n",
       "         [0.95063194],\n",
       "         [0.21199841],\n",
       "         [0.21199841],\n",
       "         [0.90129891],\n",
       "         [0.90129891],\n",
       "         [0.52574704],\n",
       "         [0.52574704],\n",
       "         [0.2193733 ],\n",
       "         [0.2193733 ],\n",
       "         [0.3477401 ],\n",
       "         [0.3477401 ],\n",
       "         [0.74050127],\n",
       "         [0.74050127],\n",
       "         [0.49459695],\n",
       "         [0.49459695],\n",
       "         [0.08054207],\n",
       "         [0.08054207],\n",
       "         [0.95161876],\n",
       "         [0.95161876],\n",
       "         [0.19828005],\n",
       "         [0.19828005],\n",
       "         [0.63216286],\n",
       "         [0.63216286],\n",
       "         [0.39711551],\n",
       "         [0.39711551],\n",
       "         [0.93097421],\n",
       "         [0.93097421],\n",
       "         [0.05320396],\n",
       "         [0.05320396],\n",
       "         [0.88990847],\n",
       "         [0.88990847],\n",
       "         [0.85850566],\n",
       "         [0.85850566],\n",
       "         [0.51326578],\n",
       "         [0.51326578],\n",
       "         [0.14744538],\n",
       "         [0.14744538],\n",
       "         [0.98076152],\n",
       "         [0.98076152],\n",
       "         [0.34365374],\n",
       "         [0.34365374],\n",
       "         [0.3145658 ],\n",
       "         [0.3145658 ],\n",
       "         [0.68704389],\n",
       "         [0.68704389],\n",
       "         [0.7552114 ],\n",
       "         [0.7552114 ],\n",
       "         [0.84834911],\n",
       "         [0.84834911],\n",
       "         [0.06524111],\n",
       "         [0.06524111],\n",
       "         [0.54256954],\n",
       "         [0.54256954],\n",
       "         [0.3371024 ],\n",
       "         [0.3371024 ],\n",
       "         [0.69666068],\n",
       "         [0.69666068],\n",
       "         [0.9671417 ],\n",
       "         [0.9671417 ],\n",
       "         [0.88657712],\n",
       "         [0.88657712],\n",
       "         [0.58150925],\n",
       "         [0.58150925],\n",
       "         [0.6106589 ],\n",
       "         [0.6106589 ],\n",
       "         [0.86219723],\n",
       "         [0.86219723],\n",
       "         [0.37610311],\n",
       "         [0.37610311],\n",
       "         [0.38473553],\n",
       "         [0.38473553],\n",
       "         [0.35936608],\n",
       "         [0.35936608],\n",
       "         [0.7066465 ],\n",
       "         [0.7066465 ],\n",
       "         [0.59584063],\n",
       "         [0.59584063],\n",
       "         [0.85391436],\n",
       "         [0.85391436],\n",
       "         [0.11351165],\n",
       "         [0.11351165],\n",
       "         [0.26704411],\n",
       "         [0.26704411],\n",
       "         [0.97900211],\n",
       "         [0.97900211],\n",
       "         [0.56985531],\n",
       "         [0.56985531],\n",
       "         [0.28412291],\n",
       "         [0.28412291],\n",
       "         [0.94956141],\n",
       "         [0.94956141],\n",
       "         [0.60865101],\n",
       "         [0.60865101],\n",
       "         [0.0738428 ],\n",
       "         [0.0738428 ],\n",
       "         [0.54430457],\n",
       "         [0.54430457],\n",
       "         [0.50867576],\n",
       "         [0.50867576],\n",
       "         [0.77682583],\n",
       "         [0.77682583],\n",
       "         [0.4048709 ],\n",
       "         [0.4048709 ],\n",
       "         [0.21468596],\n",
       "         [0.21468596],\n",
       "         [0.41512457],\n",
       "         [0.41512457],\n",
       "         [0.54675697],\n",
       "         [0.54675697],\n",
       "         [0.3682571 ],\n",
       "         [0.3682571 ],\n",
       "         [0.22883379],\n",
       "         [0.22883379],\n",
       "         [0.46497255],\n",
       "         [0.46497255],\n",
       "         [0.33440528],\n",
       "         [0.33440528],\n",
       "         [0.29232281],\n",
       "         [0.29232281],\n",
       "         [0.74264411],\n",
       "         [0.74264411],\n",
       "         [0.92779751],\n",
       "         [0.92779751],\n",
       "         [0.75199981],\n",
       "         [0.75199981],\n",
       "         [0.02798644],\n",
       "         [0.02798644]])}}"
      ]
     },
     "execution_count": 1,
     "metadata": {},
     "output_type": "execute_result"
    }
   ],
   "source": [
    "ds = load_by_id(run_id_a)\n",
    "ds.get_parameter_data('x1')"
   ]
  },
  {
   "cell_type": "code",
   "execution_count": null,
   "metadata": {},
   "outputs": [],
   "source": []
  }
 ],
 "metadata": {
  "kernelspec": {
   "display_name": "Python 3",
   "language": "python",
   "name": "python3"
  },
  "language_info": {
   "codemirror_mode": {
    "name": "ipython",
    "version": 3
   },
   "file_extension": ".py",
   "mimetype": "text/x-python",
   "name": "python",
   "nbconvert_exporter": "python",
   "pygments_lexer": "ipython3",
   "version": "3.7.10"
  },
  "nbsphinx": {
   "timeout": 600
  },
  "toc": {
   "base_numbering": 1,
   "nav_menu": {},
   "number_sections": true,
   "sideBar": true,
   "skip_h1_title": false,
   "title_cell": "Table of Contents",
   "title_sidebar": "Contents",
   "toc_cell": false,
   "toc_position": {},
   "toc_section_display": true,
   "toc_window_display": false
  },
  "varInspector": {
   "cols": {
    "lenName": 16,
    "lenType": 16,
    "lenVar": 40
   },
   "kernels_config": {
    "python": {
     "delete_cmd_postfix": "",
     "delete_cmd_prefix": "del ",
     "library": "var_list.py",
     "varRefreshCmd": "print(var_dic_list())"
    },
    "r": {
     "delete_cmd_postfix": ") ",
     "delete_cmd_prefix": "rm(",
     "library": "var_list.r",
     "varRefreshCmd": "cat(var_dic_list()) "
    }
   },
   "types_to_exclude": [
    "module",
    "function",
    "builtin_function_or_method",
    "instance",
    "_Feature"
   ],
   "window_display": false
  }
 },
 "nbformat": 4,
 "nbformat_minor": 2
}
