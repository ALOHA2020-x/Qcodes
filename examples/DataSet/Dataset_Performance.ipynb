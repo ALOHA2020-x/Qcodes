{
 "cells": [
  {
   "cell_type": "markdown",
   "metadata": {},
   "source": [
    "# DataSet Performance\n",
    "\n",
    "This notebook shows the trade-off between inserting data into a database row-by-row and as binary blobs. Inserting the data row-by-row means that we have direct access to all the data and may perform queries directly on the values of the data. On the other hand, as we shall see, this is much slower than inserting the data directly as binary blobs."
   ]
  },
  {
   "cell_type": "markdown",
   "metadata": {},
   "source": [
    "First, we choose a new location for the database to ensure that we don't add a bunch of benchmarking data to the default one."
   ]
  },
  {
   "cell_type": "code",
   "execution_count": 1,
   "metadata": {},
   "outputs": [
    {
     "name": "stdout",
     "output_type": "stream",
     "text": [
      "Logging hadn't been started.\n",
      "Activating auto-logging. Current session state plus future input saved.\n",
      "Filename       : /home/vsts/.qcodes/logs/command_history.log\n",
      "Mode           : append\n",
      "Output logging : True\n",
      "Raw input log  : False\n",
      "Timestamping   : True\n",
      "State          : active\n"
     ]
    },
    {
     "name": "stdout",
     "output_type": "stream",
     "text": [
      "Qcodes Logfile : /home/vsts/.qcodes/logs/200507-19003-qcodes.log\n"
     ]
    }
   ],
   "source": [
    "import os\n",
    "cwd = os.getcwd()\n",
    "import qcodes as qc\n",
    "qc.config[\"core\"][\"db_location\"] = os.path.join(cwd, 'testing.db')\n"
   ]
  },
  {
   "cell_type": "code",
   "execution_count": 2,
   "metadata": {},
   "outputs": [],
   "source": [
    "%matplotlib inline\n",
    "import time\n",
    "import matplotlib.pyplot as plt\n",
    "import numpy as np\n",
    "\n",
    "import qcodes as qc\n",
    "from qcodes.instrument.parameter import ManualParameter\n",
    "from qcodes.dataset.experiment_container import (Experiment,\n",
    "                                                 load_last_experiment,\n",
    "                                                 new_experiment)\n",
    "from qcodes.dataset.sqlite.database import initialise_database\n",
    "from qcodes import load_or_create_experiment\n",
    "from qcodes.dataset.measurements import Measurement"
   ]
  },
  {
   "cell_type": "code",
   "execution_count": 3,
   "metadata": {},
   "outputs": [
    {
     "name": "stdout",
     "output_type": "stream",
     "text": [
      "\r",
      "0it [00:00, ?it/s]"
     ]
    },
    {
     "name": "stdout",
     "output_type": "stream",
     "text": [
      "\r",
      "Upgrading database; v0 -> v1: : 0it [00:00, ?it/s]"
     ]
    },
    {
     "name": "stdout",
     "output_type": "stream",
     "text": [
      "\r",
      "Upgrading database; v0 -> v1: : 0it [00:00, ?it/s]"
     ]
    },
    {
     "name": "stdout",
     "output_type": "stream",
     "text": [
      "\n",
      "\r",
      "  0%|          | 0/1 [00:00<?, ?it/s]"
     ]
    },
    {
     "name": "stdout",
     "output_type": "stream",
     "text": [
      "\r",
      "Upgrading database; v1 -> v2:   0%|          | 0/1 [00:00<?, ?it/s]"
     ]
    },
    {
     "name": "stdout",
     "output_type": "stream",
     "text": [
      "\r",
      "Upgrading database; v1 -> v2: 100%|██████████| 1/1 [00:00<00:00, 1036.91it/s]"
     ]
    },
    {
     "name": "stdout",
     "output_type": "stream",
     "text": [
      "\n",
      "\r",
      "0it [00:00, ?it/s]"
     ]
    },
    {
     "name": "stdout",
     "output_type": "stream",
     "text": [
      "\r",
      "Upgrading database; v2 -> v3: : 0it [00:00, ?it/s]"
     ]
    },
    {
     "name": "stdout",
     "output_type": "stream",
     "text": [
      "\r",
      "Upgrading database; v2 -> v3: : 0it [00:00, ?it/s]"
     ]
    },
    {
     "name": "stdout",
     "output_type": "stream",
     "text": [
      "\n",
      "\r",
      "0it [00:00, ?it/s]"
     ]
    },
    {
     "name": "stdout",
     "output_type": "stream",
     "text": [
      "\r",
      "Upgrading database; v3 -> v4: : 0it [00:00, ?it/s]"
     ]
    },
    {
     "name": "stdout",
     "output_type": "stream",
     "text": [
      "\r",
      "Upgrading database; v3 -> v4: : 0it [00:00, ?it/s]"
     ]
    },
    {
     "name": "stdout",
     "output_type": "stream",
     "text": [
      "\n",
      "\r",
      "  0%|          | 0/1 [00:00<?, ?it/s]"
     ]
    },
    {
     "name": "stdout",
     "output_type": "stream",
     "text": [
      "\r",
      "Upgrading database; v4 -> v5:   0%|          | 0/1 [00:00<?, ?it/s]"
     ]
    },
    {
     "name": "stdout",
     "output_type": "stream",
     "text": [
      "\r",
      "Upgrading database; v4 -> v5: 100%|██████████| 1/1 [00:00<00:00, 882.27it/s]"
     ]
    },
    {
     "name": "stdout",
     "output_type": "stream",
     "text": [
      "\n",
      "\r",
      "0it [00:00, ?it/s]"
     ]
    },
    {
     "name": "stdout",
     "output_type": "stream",
     "text": [
      "\r",
      "Upgrading database; v5 -> v6: : 0it [00:00, ?it/s]"
     ]
    },
    {
     "name": "stdout",
     "output_type": "stream",
     "text": [
      "\r",
      "Upgrading database; v5 -> v6: : 0it [00:00, ?it/s]"
     ]
    },
    {
     "name": "stdout",
     "output_type": "stream",
     "text": [
      "\n",
      "\r",
      "  0%|          | 0/1 [00:00<?, ?it/s]"
     ]
    },
    {
     "name": "stdout",
     "output_type": "stream",
     "text": [
      "\r",
      "Upgrading database; v6 -> v7:   0%|          | 0/1 [00:00<?, ?it/s]"
     ]
    },
    {
     "name": "stdout",
     "output_type": "stream",
     "text": [
      "\r",
      "Upgrading database; v6 -> v7: 100%|██████████| 1/1 [00:00<00:00, 376.20it/s]"
     ]
    },
    {
     "name": "stdout",
     "output_type": "stream",
     "text": [
      "\n",
      "\r",
      "  0%|          | 0/1 [00:00<?, ?it/s]"
     ]
    },
    {
     "name": "stdout",
     "output_type": "stream",
     "text": [
      "\r",
      "Upgrading database; v7 -> v8:   0%|          | 0/1 [00:00<?, ?it/s]"
     ]
    },
    {
     "name": "stdout",
     "output_type": "stream",
     "text": [
      "\r",
      "Upgrading database; v7 -> v8: 100%|██████████| 1/1 [00:00<00:00, 837.02it/s]"
     ]
    },
    {
     "name": "stdout",
     "output_type": "stream",
     "text": [
      "\n",
      "\r",
      "  0%|          | 0/1 [00:00<?, ?it/s]"
     ]
    },
    {
     "name": "stdout",
     "output_type": "stream",
     "text": [
      "\r",
      "Upgrading database; v8 -> v9:   0%|          | 0/1 [00:00<?, ?it/s]"
     ]
    },
    {
     "name": "stdout",
     "output_type": "stream",
     "text": [
      "\r",
      "Upgrading database; v8 -> v9: 100%|██████████| 1/1 [00:00<00:00, 1056.50it/s]"
     ]
    },
    {
     "name": "stdout",
     "output_type": "stream",
     "text": [
      "\n"
     ]
    }
   ],
   "source": [
    "initialise_database()\n",
    "exp = load_or_create_experiment(experiment_name='tutorial_exp', sample_name=\"no sample\")"
   ]
  },
  {
   "cell_type": "markdown",
   "metadata": {},
   "source": [
    "Here, we define a simple function to benchmark the time it takes to insert n points with either numeric or array data type.\n",
    "We will compare both the time used to call ``add_result`` and the time used for the full measurement."
   ]
  },
  {
   "cell_type": "code",
   "execution_count": 4,
   "metadata": {},
   "outputs": [],
   "source": [
    "def insert_data(paramtype, npoints, nreps=1):\n",
    "\n",
    "    meas = Measurement(exp=exp)\n",
    "\n",
    "    x1 = ManualParameter('x1')\n",
    "    x2 = ManualParameter('x2')\n",
    "    x3 = ManualParameter('x3')\n",
    "    y1 = ManualParameter('y1')\n",
    "    y2 = ManualParameter('y2')\n",
    "\n",
    "    meas.register_parameter(x1, paramtype=paramtype)\n",
    "    meas.register_parameter(x2, paramtype=paramtype)\n",
    "    meas.register_parameter(x3, paramtype=paramtype)\n",
    "    meas.register_parameter(y1, setpoints=[x1, x2, x3],\n",
    "                            paramtype=paramtype)\n",
    "    meas.register_parameter(y2, setpoints=[x1, x2, x3],\n",
    "                            paramtype=paramtype)\n",
    "    start = time.perf_counter()\n",
    "    with meas.run() as datasaver:\n",
    "        start_adding = time.perf_counter()\n",
    "        for i in range(nreps):\n",
    "            datasaver.add_result((x1, np.random.rand(npoints)),\n",
    "                                 (x2, np.random.rand(npoints)),\n",
    "                                 (x3, np.random.rand(npoints)),\n",
    "                                 (y1, np.random.rand(npoints)),\n",
    "                                 (y2, np.random.rand(npoints)))\n",
    "        stop_adding = time.perf_counter()\n",
    "        run_id = datasaver.run_id\n",
    "    stop = time.perf_counter()\n",
    "    tot_time = stop - start\n",
    "    add_time = stop_adding - start_adding\n",
    "    return tot_time, add_time, run_id"
   ]
  },
  {
   "cell_type": "markdown",
   "metadata": {},
   "source": [
    "## Comparison between numeric/array data and binary blob"
   ]
  },
  {
   "cell_type": "markdown",
   "metadata": {},
   "source": [
    "### Case1: Short experiment time"
   ]
  },
  {
   "cell_type": "code",
   "execution_count": 5,
   "metadata": {},
   "outputs": [
    {
     "name": "stdout",
     "output_type": "stream",
     "text": [
      "Starting experimental run with id: 1. \n",
      "Starting experimental run with id: 2. \n",
      "Starting experimental run with id: 3. \n"
     ]
    },
    {
     "name": "stdout",
     "output_type": "stream",
     "text": [
      "Starting experimental run with id: 4. \n"
     ]
    },
    {
     "name": "stdout",
     "output_type": "stream",
     "text": [
      "Starting experimental run with id: 5. \n"
     ]
    },
    {
     "name": "stdout",
     "output_type": "stream",
     "text": [
      "Starting experimental run with id: 6. \n"
     ]
    },
    {
     "name": "stdout",
     "output_type": "stream",
     "text": [
      "Starting experimental run with id: 7. \n"
     ]
    },
    {
     "name": "stdout",
     "output_type": "stream",
     "text": [
      "Starting experimental run with id: 8. \n"
     ]
    },
    {
     "name": "stdout",
     "output_type": "stream",
     "text": [
      "Starting experimental run with id: 9. \n"
     ]
    },
    {
     "name": "stdout",
     "output_type": "stream",
     "text": [
      "Starting experimental run with id: 10. \n",
      "Starting experimental run with id: 11. \n"
     ]
    },
    {
     "name": "stdout",
     "output_type": "stream",
     "text": [
      "Starting experimental run with id: 12. \n"
     ]
    },
    {
     "name": "stdout",
     "output_type": "stream",
     "text": [
      "Starting experimental run with id: 13. \n"
     ]
    },
    {
     "name": "stdout",
     "output_type": "stream",
     "text": [
      "Starting experimental run with id: 14. \n"
     ]
    }
   ],
   "source": [
    "sizes = [1,500,1000,2000,3000,4000,5000]\n",
    "t_numeric = []\n",
    "t_numeric_add = []\n",
    "t_array = []\n",
    "t_array_add = []\n",
    "for size in sizes:\n",
    "    tn, tna, run_id_n =  insert_data('numeric', size)\n",
    "    t_numeric.append(tn)\n",
    "    t_numeric_add.append(tna)\n",
    "\n",
    "    ta, taa, run_id_a =  insert_data('array', size)\n",
    "    t_array.append(ta)\n",
    "    t_array_add.append(taa)"
   ]
  },
  {
   "cell_type": "code",
   "execution_count": 6,
   "metadata": {},
   "outputs": [
    {
     "data": {
      "image/png": "[encoded data removed]",
      "text/plain": [
       "<Figure size 432x288 with 1 Axes>"
      ]
     },
     "metadata": {
      "needs_background": "light"
     },
     "output_type": "display_data"
    }
   ],
   "source": [
    "fig, ax = plt.subplots(1,1)\n",
    "ax.plot(sizes, t_numeric, 'o-', label='Inserting row-by-row')\n",
    "ax.plot(sizes, t_numeric_add, 'o-', label='Inserting row-by-row: add_result only')\n",
    "ax.plot(sizes, t_array, 'd-', label='Inserting as binary blob')\n",
    "ax.plot(sizes, t_array_add, 'd-', label='Inserting as binary blob: add_result only')\n",
    "ax.legend()\n",
    "ax.set_xlabel('Array length')\n",
    "ax.set_ylabel('Time (s)')\n",
    "fig.tight_layout()"
   ]
  },
  {
   "cell_type": "markdown",
   "metadata": {},
   "source": [
    "As shown in the latter figure, the time to setup and and close the experiment is approximately 0.4 sec. In case of small array sizes, the difference between inserting values of data as arrays and inserting them row-by-row is relatively unimportant. At larger array sizes, i.e. above 10000 points, the cost of writing data as individual datapoints starts to become important.\n"
   ]
  },
  {
   "cell_type": "markdown",
   "metadata": {},
   "source": [
    "### Case2: Long experiment time "
   ]
  },
  {
   "cell_type": "code",
   "execution_count": 7,
   "metadata": {},
   "outputs": [
    {
     "name": "stdout",
     "output_type": "stream",
     "text": [
      "Starting experimental run with id: 15. \n",
      "Starting experimental run with id: 16. \n",
      "Starting experimental run with id: 17. \n"
     ]
    },
    {
     "name": "stdout",
     "output_type": "stream",
     "text": [
      "Starting experimental run with id: 18. \n",
      "Starting experimental run with id: 19. \n"
     ]
    },
    {
     "name": "stdout",
     "output_type": "stream",
     "text": [
      "Starting experimental run with id: 20. \n"
     ]
    },
    {
     "name": "stdout",
     "output_type": "stream",
     "text": [
      "Starting experimental run with id: 21. \n"
     ]
    },
    {
     "name": "stdout",
     "output_type": "stream",
     "text": [
      "Starting experimental run with id: 22. \n"
     ]
    },
    {
     "name": "stdout",
     "output_type": "stream",
     "text": [
      "Starting experimental run with id: 23. \n"
     ]
    },
    {
     "name": "stdout",
     "output_type": "stream",
     "text": [
      "Starting experimental run with id: 24. \n"
     ]
    },
    {
     "name": "stdout",
     "output_type": "stream",
     "text": [
      "Starting experimental run with id: 25. \n"
     ]
    },
    {
     "name": "stdout",
     "output_type": "stream",
     "text": [
      "Starting experimental run with id: 26. \n"
     ]
    },
    {
     "name": "stdout",
     "output_type": "stream",
     "text": [
      "Starting experimental run with id: 27. \n"
     ]
    },
    {
     "name": "stdout",
     "output_type": "stream",
     "text": [
      "Starting experimental run with id: 28. \n"
     ]
    }
   ],
   "source": [
    "sizes = [1,500,1000,2000,3000,4000,5000]\n",
    "nreps = 100\n",
    "t_numeric = []\n",
    "t_numeric_add = []\n",
    "t_numeric_run_ids = []\n",
    "t_array = []\n",
    "t_array_add = []\n",
    "t_array_run_ids = []\n",
    "for size in sizes:\n",
    "    tn, tna, run_id_n =  insert_data('numeric', size, nreps=nreps)\n",
    "    t_numeric.append(tn)\n",
    "    t_numeric_add.append(tna)\n",
    "    t_numeric_run_ids.append(run_id_n)\n",
    "\n",
    "    ta, taa, run_id_a =  insert_data('array', size, nreps=nreps)\n",
    "    t_array.append(ta)\n",
    "    t_array_add.append(taa)\n",
    "    t_array_run_ids.append(run_id_a)"
   ]
  },
  {
   "cell_type": "code",
   "execution_count": 8,
   "metadata": {
    "scrolled": true
   },
   "outputs": [
    {
     "data": {
      "image/png": "[encoded data removed]",
      "text/plain": [
       "<Figure size 432x288 with 1 Axes>"
      ]
     },
     "metadata": {
      "needs_background": "light"
     },
     "output_type": "display_data"
    }
   ],
   "source": [
    "fig, ax = plt.subplots(1,1)\n",
    "ax.plot(sizes, t_numeric, 'o-', label='Inserting row-by-row')\n",
    "ax.plot(sizes, t_numeric_add, 'o-', label='Inserting row-by-row: add_result only')\n",
    "ax.plot(sizes, t_array, 'd-', label='Inserting as binary blob')\n",
    "ax.plot(sizes, t_array_add, 'd-', label='Inserting as binary blob: add_result only')\n",
    "ax.legend()\n",
    "ax.set_xlabel('Array length')\n",
    "ax.set_ylabel('Time (s)')\n",
    "fig.tight_layout()"
   ]
  },
  {
   "cell_type": "markdown",
   "metadata": {},
   "source": [
    "However, as we increase the length of the experiment, as seen here by repeating the insertion 100 times, we see a big difference between inserting values of the data row-by-row and inserting it as a binary blob."
   ]
  },
  {
   "cell_type": "markdown",
   "metadata": {},
   "source": [
    "## Loading the data "
   ]
  },
  {
   "cell_type": "code",
   "execution_count": 9,
   "metadata": {},
   "outputs": [],
   "source": [
    "from qcodes.dataset.data_set import load_by_id\n",
    "from qcodes.dataset.data_export import get_data_by_id"
   ]
  },
  {
   "cell_type": "markdown",
   "metadata": {},
   "source": [
    "As usual you can load the data by using the ``load_by_id`` function but you will notice that the different storage methods\n",
    "are reflected in shape of the data as it is retrieved. "
   ]
  },
  {
   "cell_type": "code",
   "execution_count": 10,
   "metadata": {},
   "outputs": [],
   "source": [
    "run_id_n = t_numeric_run_ids[0]\n",
    "run_id_a = t_array_run_ids[0]"
   ]
  },
  {
   "cell_type": "code",
   "execution_count": 11,
   "metadata": {
    "scrolled": true
   },
   "outputs": [
    {
     "data": {
      "text/plain": [
       "{'x1': {'x1': array([6.13075459e-01, 6.13075459e-01, 4.81588095e-03, 4.81588095e-03,\n",
       "         2.88120446e-01, 2.88120446e-01, 8.14408743e-01, 8.14408743e-01,\n",
       "         8.56644383e-01, 8.56644383e-01, 7.86425609e-01, 7.86425609e-01,\n",
       "         3.31578884e-01, 3.31578884e-01, 6.57893175e-01, 6.57893175e-01,\n",
       "         5.28470886e-01, 5.28470886e-01, 1.03043229e-01, 1.03043229e-01,\n",
       "         8.81648541e-01, 8.81648541e-01, 9.71998585e-01, 9.71998585e-01,\n",
       "         5.04353763e-01, 5.04353763e-01, 2.39299431e-01, 2.39299431e-01,\n",
       "         6.33558138e-01, 6.33558138e-01, 9.62313519e-02, 9.62313519e-02,\n",
       "         5.22659758e-01, 5.22659758e-01, 6.70688323e-02, 6.70688323e-02,\n",
       "         8.66228204e-02, 8.66228204e-02, 5.78693440e-01, 5.78693440e-01,\n",
       "         3.64141537e-02, 3.64141537e-02, 8.03968845e-01, 8.03968845e-01,\n",
       "         6.64850245e-01, 6.64850245e-01, 9.79310435e-04, 9.79310435e-04,\n",
       "         6.75965132e-01, 6.75965132e-01, 8.88613810e-01, 8.88613810e-01,\n",
       "         2.53824660e-01, 2.53824660e-01, 2.01838685e-01, 2.01838685e-01,\n",
       "         5.17131354e-01, 5.17131354e-01, 6.60389918e-01, 6.60389918e-01,\n",
       "         9.25270654e-01, 9.25270654e-01, 2.97349672e-01, 2.97349672e-01,\n",
       "         8.06265294e-01, 8.06265294e-01, 4.26315710e-01, 4.26315710e-01,\n",
       "         7.47038770e-01, 7.47038770e-01, 8.55448421e-01, 8.55448421e-01,\n",
       "         1.72791973e-01, 1.72791973e-01, 8.08059068e-01, 8.08059068e-01,\n",
       "         1.41934437e-01, 1.41934437e-01, 3.43674878e-01, 3.43674878e-01,\n",
       "         1.64432019e-01, 1.64432019e-01, 2.42689701e-01, 2.42689701e-01,\n",
       "         4.03245111e-01, 4.03245111e-01, 4.51398445e-01, 4.51398445e-01,\n",
       "         4.38494414e-01, 4.38494414e-01, 1.32598385e-01, 1.32598385e-01,\n",
       "         3.19153972e-02, 3.19153972e-02, 7.73646769e-01, 7.73646769e-01,\n",
       "         6.31564226e-01, 6.31564226e-01, 3.29062745e-01, 3.29062745e-01,\n",
       "         5.86412247e-01, 5.86412247e-01, 4.36283419e-01, 4.36283419e-01,\n",
       "         6.23261673e-03, 6.23261673e-03, 5.63361455e-01, 5.63361455e-01,\n",
       "         1.08737041e-01, 1.08737041e-01, 6.88739378e-02, 6.88739378e-02,\n",
       "         7.75142296e-01, 7.75142296e-01, 8.29477034e-01, 8.29477034e-01,\n",
       "         9.90659978e-01, 9.90659978e-01, 1.87734662e-01, 1.87734662e-01,\n",
       "         6.82279059e-01, 6.82279059e-01, 5.44413280e-01, 5.44413280e-01,\n",
       "         5.97849149e-01, 5.97849149e-01, 3.72661871e-01, 3.72661871e-01,\n",
       "         6.80959487e-01, 6.80959487e-01, 8.05766129e-01, 8.05766129e-01,\n",
       "         1.25444531e-01, 1.25444531e-01, 8.47773879e-01, 8.47773879e-01,\n",
       "         4.71505618e-01, 4.71505618e-01, 5.53004290e-01, 5.53004290e-01,\n",
       "         2.59255069e-01, 2.59255069e-01, 4.34874069e-01, 4.34874069e-01,\n",
       "         8.00729173e-02, 8.00729173e-02, 9.46088449e-01, 9.46088449e-01,\n",
       "         7.34439437e-01, 7.34439437e-01, 9.83762202e-01, 9.83762202e-01,\n",
       "         7.27464902e-01, 7.27464902e-01, 9.95321468e-01, 9.95321468e-01,\n",
       "         8.23260909e-01, 8.23260909e-01, 9.41343528e-01, 9.41343528e-01,\n",
       "         9.25800126e-01, 9.25800126e-01, 2.25806199e-01, 2.25806199e-01,\n",
       "         3.73171268e-01, 3.73171268e-01, 5.20343270e-01, 5.20343270e-01,\n",
       "         7.73327024e-01, 7.73327024e-01, 6.62174197e-01, 6.62174197e-01,\n",
       "         5.74476632e-01, 5.74476632e-01, 8.43482387e-01, 8.43482387e-01,\n",
       "         5.17540606e-01, 5.17540606e-01, 3.98268865e-01, 3.98268865e-01,\n",
       "         4.75541252e-01, 4.75541252e-01, 3.85217971e-01, 3.85217971e-01,\n",
       "         1.07841810e-01, 1.07841810e-01, 3.49546316e-03, 3.49546316e-03,\n",
       "         5.36501693e-01, 5.36501693e-01, 8.90042604e-01, 8.90042604e-01,\n",
       "         8.78944857e-01, 8.78944857e-01, 7.79297729e-01, 7.79297729e-01,\n",
       "         6.63448502e-01, 6.63448502e-01, 8.79997120e-01, 8.79997120e-01])}}"
      ]
     },
     "execution_count": 11,
     "metadata": {},
     "output_type": "execute_result"
    }
   ],
   "source": [
    "ds = load_by_id(run_id_n)\n",
    "ds.get_parameter_data('x1')"
   ]
  },
  {
   "cell_type": "markdown",
   "metadata": {},
   "source": [
    "And a dataset stored as binary arrays"
   ]
  },
  {
   "cell_type": "code",
   "execution_count": 12,
   "metadata": {
    "scrolled": true
   },
   "outputs": [
    {
     "data": {
      "text/plain": [
       "{'x1': {'x1': array([[6.35675297e-01],\n",
       "         [6.35675297e-01],\n",
       "         [6.12042885e-02],\n",
       "         [6.12042885e-02],\n",
       "         [8.06279558e-01],\n",
       "         [8.06279558e-01],\n",
       "         [8.39771747e-01],\n",
       "         [8.39771747e-01],\n",
       "         [1.22373292e-01],\n",
       "         [1.22373292e-01],\n",
       "         [6.25426068e-01],\n",
       "         [6.25426068e-01],\n",
       "         [1.11463740e-01],\n",
       "         [1.11463740e-01],\n",
       "         [2.33544607e-01],\n",
       "         [2.33544607e-01],\n",
       "         [9.76301968e-01],\n",
       "         [9.76301968e-01],\n",
       "         [5.73274591e-01],\n",
       "         [5.73274591e-01],\n",
       "         [3.03846884e-01],\n",
       "         [3.03846884e-01],\n",
       "         [3.82187388e-01],\n",
       "         [3.82187388e-01],\n",
       "         [8.11474383e-01],\n",
       "         [8.11474383e-01],\n",
       "         [3.63962335e-01],\n",
       "         [3.63962335e-01],\n",
       "         [1.46432661e-01],\n",
       "         [1.46432661e-01],\n",
       "         [2.42112299e-01],\n",
       "         [2.42112299e-01],\n",
       "         [1.17149507e-01],\n",
       "         [1.17149507e-01],\n",
       "         [3.31749704e-01],\n",
       "         [3.31749704e-01],\n",
       "         [3.76573582e-01],\n",
       "         [3.76573582e-01],\n",
       "         [8.26311071e-01],\n",
       "         [8.26311071e-01],\n",
       "         [5.28225766e-01],\n",
       "         [5.28225766e-01],\n",
       "         [6.56045885e-01],\n",
       "         [6.56045885e-01],\n",
       "         [9.56471811e-01],\n",
       "         [9.56471811e-01],\n",
       "         [4.62717156e-01],\n",
       "         [4.62717156e-01],\n",
       "         [2.92845304e-01],\n",
       "         [2.92845304e-01],\n",
       "         [3.47695014e-01],\n",
       "         [3.47695014e-01],\n",
       "         [2.21509562e-01],\n",
       "         [2.21509562e-01],\n",
       "         [4.10791812e-01],\n",
       "         [4.10791812e-01],\n",
       "         [3.47869856e-01],\n",
       "         [3.47869856e-01],\n",
       "         [5.17672224e-01],\n",
       "         [5.17672224e-01],\n",
       "         [3.91788769e-01],\n",
       "         [3.91788769e-01],\n",
       "         [5.70681753e-01],\n",
       "         [5.70681753e-01],\n",
       "         [2.47642620e-01],\n",
       "         [2.47642620e-01],\n",
       "         [4.03345335e-01],\n",
       "         [4.03345335e-01],\n",
       "         [7.99978408e-01],\n",
       "         [7.99978408e-01],\n",
       "         [8.36031873e-02],\n",
       "         [8.36031873e-02],\n",
       "         [1.31753242e-01],\n",
       "         [1.31753242e-01],\n",
       "         [2.85169107e-01],\n",
       "         [2.85169107e-01],\n",
       "         [7.48190966e-01],\n",
       "         [7.48190966e-01],\n",
       "         [6.88208390e-01],\n",
       "         [6.88208390e-01],\n",
       "         [2.29709016e-01],\n",
       "         [2.29709016e-01],\n",
       "         [5.10228954e-01],\n",
       "         [5.10228954e-01],\n",
       "         [9.61911864e-01],\n",
       "         [9.61911864e-01],\n",
       "         [2.98726901e-01],\n",
       "         [2.98726901e-01],\n",
       "         [3.65018765e-01],\n",
       "         [3.65018765e-01],\n",
       "         [6.92201442e-01],\n",
       "         [6.92201442e-01],\n",
       "         [7.93134862e-01],\n",
       "         [7.93134862e-01],\n",
       "         [3.09345093e-01],\n",
       "         [3.09345093e-01],\n",
       "         [8.13217230e-02],\n",
       "         [8.13217230e-02],\n",
       "         [2.55650061e-01],\n",
       "         [2.55650061e-01],\n",
       "         [8.10389664e-01],\n",
       "         [8.10389664e-01],\n",
       "         [6.83771913e-02],\n",
       "         [6.83771913e-02],\n",
       "         [1.24099911e-01],\n",
       "         [1.24099911e-01],\n",
       "         [3.52162926e-01],\n",
       "         [3.52162926e-01],\n",
       "         [5.87230290e-01],\n",
       "         [5.87230290e-01],\n",
       "         [7.45577618e-01],\n",
       "         [7.45577618e-01],\n",
       "         [4.13823548e-01],\n",
       "         [4.13823548e-01],\n",
       "         [4.49477001e-01],\n",
       "         [4.49477001e-01],\n",
       "         [1.82885505e-01],\n",
       "         [1.82885505e-01],\n",
       "         [1.02337620e-01],\n",
       "         [1.02337620e-01],\n",
       "         [2.49659156e-01],\n",
       "         [2.49659156e-01],\n",
       "         [4.07338271e-04],\n",
       "         [4.07338271e-04],\n",
       "         [2.62641187e-02],\n",
       "         [2.62641187e-02],\n",
       "         [2.47042726e-01],\n",
       "         [2.47042726e-01],\n",
       "         [7.74099383e-01],\n",
       "         [7.74099383e-01],\n",
       "         [3.03260551e-01],\n",
       "         [3.03260551e-01],\n",
       "         [3.51902135e-01],\n",
       "         [3.51902135e-01],\n",
       "         [2.29491613e-01],\n",
       "         [2.29491613e-01],\n",
       "         [2.18988525e-01],\n",
       "         [2.18988525e-01],\n",
       "         [8.58863730e-01],\n",
       "         [8.58863730e-01],\n",
       "         [9.66309998e-01],\n",
       "         [9.66309998e-01],\n",
       "         [1.03231906e-02],\n",
       "         [1.03231906e-02],\n",
       "         [4.74668408e-01],\n",
       "         [4.74668408e-01],\n",
       "         [6.04720557e-04],\n",
       "         [6.04720557e-04],\n",
       "         [2.49891776e-01],\n",
       "         [2.49891776e-01],\n",
       "         [6.47320379e-01],\n",
       "         [6.47320379e-01],\n",
       "         [2.67689790e-01],\n",
       "         [2.67689790e-01],\n",
       "         [7.04999268e-01],\n",
       "         [7.04999268e-01],\n",
       "         [7.08725887e-01],\n",
       "         [7.08725887e-01],\n",
       "         [7.29402873e-02],\n",
       "         [7.29402873e-02],\n",
       "         [5.44020782e-01],\n",
       "         [5.44020782e-01],\n",
       "         [5.63583445e-01],\n",
       "         [5.63583445e-01],\n",
       "         [4.46737765e-01],\n",
       "         [4.46737765e-01],\n",
       "         [6.43537219e-01],\n",
       "         [6.43537219e-01],\n",
       "         [6.42487499e-01],\n",
       "         [6.42487499e-01],\n",
       "         [3.82816731e-01],\n",
       "         [3.82816731e-01],\n",
       "         [4.49035691e-01],\n",
       "         [4.49035691e-01],\n",
       "         [5.77067823e-01],\n",
       "         [5.77067823e-01],\n",
       "         [3.22290206e-01],\n",
       "         [3.22290206e-01],\n",
       "         [7.11870656e-01],\n",
       "         [7.11870656e-01],\n",
       "         [8.13374597e-01],\n",
       "         [8.13374597e-01],\n",
       "         [9.05856069e-01],\n",
       "         [9.05856069e-01],\n",
       "         [9.76265747e-01],\n",
       "         [9.76265747e-01],\n",
       "         [8.68833990e-01],\n",
       "         [8.68833990e-01],\n",
       "         [6.33971250e-01],\n",
       "         [6.33971250e-01],\n",
       "         [3.18055563e-01],\n",
       "         [3.18055563e-01],\n",
       "         [7.55648111e-01],\n",
       "         [7.55648111e-01],\n",
       "         [9.15814129e-01],\n",
       "         [9.15814129e-01],\n",
       "         [5.53499900e-02],\n",
       "         [5.53499900e-02],\n",
       "         [3.95745572e-01],\n",
       "         [3.95745572e-01]])}}"
      ]
     },
     "execution_count": 12,
     "metadata": {},
     "output_type": "execute_result"
    }
   ],
   "source": [
    "ds = load_by_id(run_id_a)\n",
    "ds.get_parameter_data('x1')"
   ]
  },
  {
   "cell_type": "code",
   "execution_count": null,
   "metadata": {},
   "outputs": [],
   "source": []
  }
 ],
 "metadata": {
  "kernelspec": {
   "display_name": "Python 3",
   "language": "python",
   "name": "python3"
  },
  "language_info": {
   "codemirror_mode": {
    "name": "ipython",
    "version": 3
   },
   "file_extension": ".py",
   "mimetype": "text/x-python",
   "name": "python",
   "nbconvert_exporter": "python",
   "pygments_lexer": "ipython3",
   "version": "3.7.7"
  },
  "nbsphinx": {
   "timeout": 600
  },
  "toc": {
   "base_numbering": 1,
   "nav_menu": {},
   "number_sections": true,
   "sideBar": true,
   "skip_h1_title": false,
   "title_cell": "Table of Contents",
   "title_sidebar": "Contents",
   "toc_cell": false,
   "toc_position": {},
   "toc_section_display": true,
   "toc_window_display": false
  },
  "varInspector": {
   "cols": {
    "lenName": 16,
    "lenType": 16,
    "lenVar": 40
   },
   "kernels_config": {
    "python": {
     "delete_cmd_postfix": "",
     "delete_cmd_prefix": "del ",
     "library": "var_list.py",
     "varRefreshCmd": "print(var_dic_list())"
    },
    "r": {
     "delete_cmd_postfix": ") ",
     "delete_cmd_prefix": "rm(",
     "library": "var_list.r",
     "varRefreshCmd": "cat(var_dic_list()) "
    }
   },
   "types_to_exclude": [
    "module",
    "function",
    "builtin_function_or_method",
    "instance",
    "_Feature"
   ],
   "window_display": false
  }
 },
 "nbformat": 4,
 "nbformat_minor": 2
}
