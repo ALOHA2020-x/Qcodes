{
 "cells": [
  {
   "cell_type": "markdown",
   "metadata": {},
   "source": [
    "# DataSet Performance\n",
    "\n",
    "This notebook shows the trade-off between inserting data into a database row-by-row and as binary blobs. Inserting the data row-by-row means that we have direct access to all the data and may perform queries directly on the values of the data. On the other hand, as we shall see, this is much slower than inserting the data directly as binary blobs."
   ]
  },
  {
   "cell_type": "markdown",
   "metadata": {},
   "source": [
    "First, we choose a new location for the database to ensure that we don't add a bunch of benchmarking data to the default one."
   ]
  },
  {
   "cell_type": "code",
   "execution_count": 1,
   "metadata": {
    "execution": {
     "iopub.execute_input": "2021-04-07T06:10:29.729414Z",
     "iopub.status.busy": "2021-04-07T06:10:29.728928Z",
     "iopub.status.idle": "2021-04-07T06:10:30.659933Z",
     "shell.execute_reply": "2021-04-07T06:10:30.658908Z"
    }
   },
   "outputs": [
    {
     "name": "stdout",
     "output_type": "stream",
     "text": [
      "Logging hadn't been started.\n",
      "Activating auto-logging. Current session state plus future input saved.\n",
      "Filename       : /home/runner/.qcodes/logs/command_history.log\n",
      "Mode           : append\n",
      "Output logging : True\n",
      "Raw input log  : False\n",
      "Timestamping   : True\n",
      "State          : active\n"
     ]
    },
    {
     "name": "stdout",
     "output_type": "stream",
     "text": [
      "Qcodes Logfile : /home/runner/.qcodes/logs/210407-4870-qcodes.log\n"
     ]
    }
   ],
   "source": [
    "import os\n",
    "cwd = os.getcwd()\n",
    "import qcodes as qc\n",
    "qc.config[\"core\"][\"db_location\"] = os.path.join(cwd, 'testing.db')\n"
   ]
  },
  {
   "cell_type": "code",
   "execution_count": 2,
   "metadata": {
    "execution": {
     "iopub.execute_input": "2021-04-07T06:10:30.667423Z",
     "iopub.status.busy": "2021-04-07T06:10:30.665651Z",
     "iopub.status.idle": "2021-04-07T06:10:30.896473Z",
     "shell.execute_reply": "2021-04-07T06:10:30.896952Z"
    }
   },
   "outputs": [],
   "source": [
    "%matplotlib inline\n",
    "import time\n",
    "import matplotlib.pyplot as plt\n",
    "import numpy as np\n",
    "\n",
    "import qcodes as qc\n",
    "from qcodes.instrument.parameter import ManualParameter\n",
    "from qcodes.dataset.experiment_container import (Experiment,\n",
    "                                                 load_last_experiment,\n",
    "                                                 new_experiment)\n",
    "from qcodes.dataset.sqlite.database import initialise_database\n",
    "from qcodes import load_or_create_experiment\n",
    "from qcodes.dataset.measurements import Measurement"
   ]
  },
  {
   "cell_type": "code",
   "execution_count": 3,
   "metadata": {
    "execution": {
     "iopub.execute_input": "2021-04-07T06:10:30.901016Z",
     "iopub.status.busy": "2021-04-07T06:10:30.900130Z",
     "iopub.status.idle": "2021-04-07T06:10:30.980180Z",
     "shell.execute_reply": "2021-04-07T06:10:30.979731Z"
    }
   },
   "outputs": [
    {
     "name": "stdout",
     "output_type": "stream",
     "text": [
      "\r",
      "0it [00:00, ?it/s]"
     ]
    },
    {
     "name": "stdout",
     "output_type": "stream",
     "text": [
      "\r",
      "Upgrading database; v0 -> v1: : 0it [00:00, ?it/s]"
     ]
    },
    {
     "name": "stdout",
     "output_type": "stream",
     "text": [
      "\r",
      "Upgrading database; v0 -> v1: : 0it [00:00, ?it/s]"
     ]
    },
    {
     "name": "stdout",
     "output_type": "stream",
     "text": [
      "\n",
      "\r",
      "  0%|          | 0/1 [00:00<?, ?it/s]"
     ]
    },
    {
     "name": "stdout",
     "output_type": "stream",
     "text": [
      "\r",
      "Upgrading database; v1 -> v2:   0%|          | 0/1 [00:00<?, ?it/s]"
     ]
    },
    {
     "name": "stdout",
     "output_type": "stream",
     "text": [
      "\r",
      "Upgrading database; v1 -> v2: 100%|██████████| 1/1 [00:00<00:00, 486.47it/s]"
     ]
    },
    {
     "name": "stdout",
     "output_type": "stream",
     "text": [
      "\n",
      "\r",
      "0it [00:00, ?it/s]"
     ]
    },
    {
     "name": "stdout",
     "output_type": "stream",
     "text": [
      "\r",
      "Upgrading database; v2 -> v3: : 0it [00:00, ?it/s]"
     ]
    },
    {
     "name": "stdout",
     "output_type": "stream",
     "text": [
      "\r",
      "Upgrading database; v2 -> v3: : 0it [00:00, ?it/s]"
     ]
    },
    {
     "name": "stdout",
     "output_type": "stream",
     "text": [
      "\n",
      "\r",
      "0it [00:00, ?it/s]"
     ]
    },
    {
     "name": "stdout",
     "output_type": "stream",
     "text": [
      "\r",
      "Upgrading database; v3 -> v4: : 0it [00:00, ?it/s]"
     ]
    },
    {
     "name": "stdout",
     "output_type": "stream",
     "text": [
      "\r",
      "Upgrading database; v3 -> v4: : 0it [00:00, ?it/s]"
     ]
    },
    {
     "name": "stdout",
     "output_type": "stream",
     "text": [
      "\n",
      "\r",
      "  0%|          | 0/1 [00:00<?, ?it/s]"
     ]
    },
    {
     "name": "stdout",
     "output_type": "stream",
     "text": [
      "\r",
      "Upgrading database; v4 -> v5:   0%|          | 0/1 [00:00<?, ?it/s]"
     ]
    },
    {
     "name": "stdout",
     "output_type": "stream",
     "text": [
      "\r",
      "Upgrading database; v4 -> v5: 100%|██████████| 1/1 [00:00<00:00, 466.86it/s]"
     ]
    },
    {
     "name": "stdout",
     "output_type": "stream",
     "text": [
      "\n",
      "\r",
      "0it [00:00, ?it/s]"
     ]
    },
    {
     "name": "stdout",
     "output_type": "stream",
     "text": [
      "\r",
      "Upgrading database; v5 -> v6: : 0it [00:00, ?it/s]"
     ]
    },
    {
     "name": "stdout",
     "output_type": "stream",
     "text": [
      "\r",
      "Upgrading database; v5 -> v6: : 0it [00:00, ?it/s]"
     ]
    },
    {
     "name": "stdout",
     "output_type": "stream",
     "text": [
      "\n",
      "\r",
      "  0%|          | 0/1 [00:00<?, ?it/s]"
     ]
    },
    {
     "name": "stdout",
     "output_type": "stream",
     "text": [
      "\r",
      "Upgrading database; v6 -> v7:   0%|          | 0/1 [00:00<?, ?it/s]"
     ]
    },
    {
     "name": "stdout",
     "output_type": "stream",
     "text": [
      "\r",
      "Upgrading database; v6 -> v7: 100%|██████████| 1/1 [00:00<00:00, 186.63it/s]"
     ]
    },
    {
     "name": "stdout",
     "output_type": "stream",
     "text": [
      "\n",
      "\r",
      "  0%|          | 0/1 [00:00<?, ?it/s]"
     ]
    },
    {
     "name": "stdout",
     "output_type": "stream",
     "text": [
      "\r",
      "Upgrading database; v7 -> v8:   0%|          | 0/1 [00:00<?, ?it/s]"
     ]
    },
    {
     "name": "stdout",
     "output_type": "stream",
     "text": [
      "\r",
      "Upgrading database; v7 -> v8: 100%|██████████| 1/1 [00:00<00:00, 345.10it/s]"
     ]
    },
    {
     "name": "stdout",
     "output_type": "stream",
     "text": [
      "\n",
      "\r",
      "  0%|          | 0/1 [00:00<?, ?it/s]"
     ]
    },
    {
     "name": "stdout",
     "output_type": "stream",
     "text": [
      "\r",
      "Upgrading database; v8 -> v9:   0%|          | 0/1 [00:00<?, ?it/s]"
     ]
    },
    {
     "name": "stdout",
     "output_type": "stream",
     "text": [
      "\r",
      "Upgrading database; v8 -> v9: 100%|██████████| 1/1 [00:00<00:00, 934.56it/s]"
     ]
    },
    {
     "name": "stdout",
     "output_type": "stream",
     "text": [
      "\n"
     ]
    }
   ],
   "source": [
    "initialise_database()\n",
    "exp = load_or_create_experiment(experiment_name='tutorial_exp', sample_name=\"no sample\")"
   ]
  },
  {
   "cell_type": "markdown",
   "metadata": {},
   "source": [
    "Here, we define a simple function to benchmark the time it takes to insert n points with either numeric or array data type.\n",
    "We will compare both the time used to call ``add_result`` and the time used for the full measurement."
   ]
  },
  {
   "cell_type": "code",
   "execution_count": 4,
   "metadata": {
    "execution": {
     "iopub.execute_input": "2021-04-07T06:10:30.988556Z",
     "iopub.status.busy": "2021-04-07T06:10:30.988063Z",
     "iopub.status.idle": "2021-04-07T06:10:30.991380Z",
     "shell.execute_reply": "2021-04-07T06:10:30.990969Z"
    }
   },
   "outputs": [],
   "source": [
    "def insert_data(paramtype, npoints, nreps=1):\n",
    "\n",
    "    meas = Measurement(exp=exp)\n",
    "\n",
    "    x1 = ManualParameter('x1')\n",
    "    x2 = ManualParameter('x2')\n",
    "    x3 = ManualParameter('x3')\n",
    "    y1 = ManualParameter('y1')\n",
    "    y2 = ManualParameter('y2')\n",
    "\n",
    "    meas.register_parameter(x1, paramtype=paramtype)\n",
    "    meas.register_parameter(x2, paramtype=paramtype)\n",
    "    meas.register_parameter(x3, paramtype=paramtype)\n",
    "    meas.register_parameter(y1, setpoints=[x1, x2, x3],\n",
    "                            paramtype=paramtype)\n",
    "    meas.register_parameter(y2, setpoints=[x1, x2, x3],\n",
    "                            paramtype=paramtype)\n",
    "    start = time.perf_counter()\n",
    "    with meas.run() as datasaver:\n",
    "        start_adding = time.perf_counter()\n",
    "        for i in range(nreps):\n",
    "            datasaver.add_result((x1, np.random.rand(npoints)),\n",
    "                                 (x2, np.random.rand(npoints)),\n",
    "                                 (x3, np.random.rand(npoints)),\n",
    "                                 (y1, np.random.rand(npoints)),\n",
    "                                 (y2, np.random.rand(npoints)))\n",
    "        stop_adding = time.perf_counter()\n",
    "        run_id = datasaver.run_id\n",
    "    stop = time.perf_counter()\n",
    "    tot_time = stop - start\n",
    "    add_time = stop_adding - start_adding\n",
    "    return tot_time, add_time, run_id"
   ]
  },
  {
   "cell_type": "markdown",
   "metadata": {},
   "source": [
    "## Comparison between numeric/array data and binary blob"
   ]
  },
  {
   "cell_type": "markdown",
   "metadata": {},
   "source": [
    "### Case1: Short experiment time"
   ]
  },
  {
   "cell_type": "code",
   "execution_count": 5,
   "metadata": {
    "execution": {
     "iopub.execute_input": "2021-04-07T06:10:30.996668Z",
     "iopub.status.busy": "2021-04-07T06:10:30.996192Z",
     "iopub.status.idle": "2021-04-07T06:10:31.788563Z",
     "shell.execute_reply": "2021-04-07T06:10:31.788108Z"
    }
   },
   "outputs": [
    {
     "name": "stdout",
     "output_type": "stream",
     "text": [
      "Starting experimental run with id: 1. \n",
      "Starting experimental run with id: 2. \n",
      "Starting experimental run with id: 3. \n",
      "Starting experimental run with id: 4. \n",
      "Starting experimental run with id: 5. \n"
     ]
    },
    {
     "name": "stdout",
     "output_type": "stream",
     "text": [
      "Starting experimental run with id: 6. \n"
     ]
    },
    {
     "name": "stdout",
     "output_type": "stream",
     "text": [
      "Starting experimental run with id: 7. \n"
     ]
    },
    {
     "name": "stdout",
     "output_type": "stream",
     "text": [
      "Starting experimental run with id: 8. \n",
      "Starting experimental run with id: 9. \n"
     ]
    },
    {
     "name": "stdout",
     "output_type": "stream",
     "text": [
      "Starting experimental run with id: 10. "
     ]
    },
    {
     "name": "stdout",
     "output_type": "stream",
     "text": [
      "\n",
      "Starting experimental run with id: 11. \n"
     ]
    },
    {
     "name": "stdout",
     "output_type": "stream",
     "text": [
      "Starting experimental run with id: 12. \n",
      "Starting experimental run with id: 13. \n",
      "Starting experimental run with id: 14. \n"
     ]
    }
   ],
   "source": [
    "sizes = [1,500,1000,2000,3000,4000,5000]\n",
    "t_numeric = []\n",
    "t_numeric_add = []\n",
    "t_array = []\n",
    "t_array_add = []\n",
    "for size in sizes:\n",
    "    tn, tna, run_id_n =  insert_data('numeric', size)\n",
    "    t_numeric.append(tn)\n",
    "    t_numeric_add.append(tna)\n",
    "\n",
    "    ta, taa, run_id_a =  insert_data('array', size)\n",
    "    t_array.append(ta)\n",
    "    t_array_add.append(taa)"
   ]
  },
  {
   "cell_type": "code",
   "execution_count": 6,
   "metadata": {
    "execution": {
     "iopub.execute_input": "2021-04-07T06:10:31.804896Z",
     "iopub.status.busy": "2021-04-07T06:10:31.793927Z",
     "iopub.status.idle": "2021-04-07T06:10:31.982306Z",
     "shell.execute_reply": "2021-04-07T06:10:31.983033Z"
    }
   },
   "outputs": [
    {
     "data": {
      "image/png": "[encoded data removed]",
      "text/plain": [
       "<Figure size 432x288 with 1 Axes>"
      ]
     },
     "metadata": {
      "needs_background": "light"
     },
     "output_type": "display_data"
    }
   ],
   "source": [
    "fig, ax = plt.subplots(1,1)\n",
    "ax.plot(sizes, t_numeric, 'o-', label='Inserting row-by-row')\n",
    "ax.plot(sizes, t_numeric_add, 'o-', label='Inserting row-by-row: add_result only')\n",
    "ax.plot(sizes, t_array, 'd-', label='Inserting as binary blob')\n",
    "ax.plot(sizes, t_array_add, 'd-', label='Inserting as binary blob: add_result only')\n",
    "ax.legend()\n",
    "ax.set_xlabel('Array length')\n",
    "ax.set_ylabel('Time (s)')\n",
    "fig.tight_layout()"
   ]
  },
  {
   "cell_type": "markdown",
   "metadata": {},
   "source": [
    "As shown in the latter figure, the time to setup and and close the experiment is approximately 0.4 sec. In case of small array sizes, the difference between inserting values of data as arrays and inserting them row-by-row is relatively unimportant. At larger array sizes, i.e. above 10000 points, the cost of writing data as individual datapoints starts to become important.\n"
   ]
  },
  {
   "cell_type": "markdown",
   "metadata": {},
   "source": [
    "### Case2: Long experiment time "
   ]
  },
  {
   "cell_type": "code",
   "execution_count": 7,
   "metadata": {
    "execution": {
     "iopub.execute_input": "2021-04-07T06:10:31.989666Z",
     "iopub.status.busy": "2021-04-07T06:10:31.987529Z",
     "iopub.status.idle": "2021-04-07T06:11:22.467559Z",
     "shell.execute_reply": "2021-04-07T06:11:22.467055Z"
    }
   },
   "outputs": [
    {
     "name": "stdout",
     "output_type": "stream",
     "text": [
      "Starting experimental run with id: 15. \n",
      "Starting experimental run with id: 16. \n",
      "Starting experimental run with id: 17. \n"
     ]
    },
    {
     "name": "stdout",
     "output_type": "stream",
     "text": [
      "Starting experimental run with id: 18. \n",
      "Starting experimental run with id: 19. \n"
     ]
    },
    {
     "name": "stdout",
     "output_type": "stream",
     "text": [
      "Starting experimental run with id: 20. \n"
     ]
    },
    {
     "name": "stdout",
     "output_type": "stream",
     "text": [
      "Starting experimental run with id: 21. \n"
     ]
    },
    {
     "name": "stdout",
     "output_type": "stream",
     "text": [
      "Starting experimental run with id: 22. \n"
     ]
    },
    {
     "name": "stdout",
     "output_type": "stream",
     "text": [
      "Starting experimental run with id: 23. \n"
     ]
    },
    {
     "name": "stdout",
     "output_type": "stream",
     "text": [
      "Starting experimental run with id: 24. \n"
     ]
    },
    {
     "name": "stdout",
     "output_type": "stream",
     "text": [
      "Starting experimental run with id: 25. \n"
     ]
    },
    {
     "name": "stdout",
     "output_type": "stream",
     "text": [
      "Starting experimental run with id: 26. \n"
     ]
    },
    {
     "name": "stdout",
     "output_type": "stream",
     "text": [
      "Starting experimental run with id: 27. \n"
     ]
    },
    {
     "name": "stdout",
     "output_type": "stream",
     "text": [
      "Starting experimental run with id: 28. \n"
     ]
    }
   ],
   "source": [
    "sizes = [1,500,1000,2000,3000,4000,5000]\n",
    "nreps = 100\n",
    "t_numeric = []\n",
    "t_numeric_add = []\n",
    "t_numeric_run_ids = []\n",
    "t_array = []\n",
    "t_array_add = []\n",
    "t_array_run_ids = []\n",
    "for size in sizes:\n",
    "    tn, tna, run_id_n =  insert_data('numeric', size, nreps=nreps)\n",
    "    t_numeric.append(tn)\n",
    "    t_numeric_add.append(tna)\n",
    "    t_numeric_run_ids.append(run_id_n)\n",
    "\n",
    "    ta, taa, run_id_a =  insert_data('array', size, nreps=nreps)\n",
    "    t_array.append(ta)\n",
    "    t_array_add.append(taa)\n",
    "    t_array_run_ids.append(run_id_a)"
   ]
  },
  {
   "cell_type": "code",
   "execution_count": 8,
   "metadata": {
    "execution": {
     "iopub.execute_input": "2021-04-07T06:11:22.506017Z",
     "iopub.status.busy": "2021-04-07T06:11:22.493549Z",
     "iopub.status.idle": "2021-04-07T06:11:22.636317Z",
     "shell.execute_reply": "2021-04-07T06:11:22.636733Z"
    },
    "scrolled": true
   },
   "outputs": [
    {
     "data": {
      "image/png": "[encoded data removed]",
      "text/plain": [
       "<Figure size 432x288 with 1 Axes>"
      ]
     },
     "metadata": {
      "needs_background": "light"
     },
     "output_type": "display_data"
    }
   ],
   "source": [
    "fig, ax = plt.subplots(1,1)\n",
    "ax.plot(sizes, t_numeric, 'o-', label='Inserting row-by-row')\n",
    "ax.plot(sizes, t_numeric_add, 'o-', label='Inserting row-by-row: add_result only')\n",
    "ax.plot(sizes, t_array, 'd-', label='Inserting as binary blob')\n",
    "ax.plot(sizes, t_array_add, 'd-', label='Inserting as binary blob: add_result only')\n",
    "ax.legend()\n",
    "ax.set_xlabel('Array length')\n",
    "ax.set_ylabel('Time (s)')\n",
    "fig.tight_layout()"
   ]
  },
  {
   "cell_type": "markdown",
   "metadata": {},
   "source": [
    "However, as we increase the length of the experiment, as seen here by repeating the insertion 100 times, we see a big difference between inserting values of the data row-by-row and inserting it as a binary blob."
   ]
  },
  {
   "cell_type": "markdown",
   "metadata": {},
   "source": [
    "## Loading the data "
   ]
  },
  {
   "cell_type": "code",
   "execution_count": 9,
   "metadata": {
    "execution": {
     "iopub.execute_input": "2021-04-07T06:11:22.640815Z",
     "iopub.status.busy": "2021-04-07T06:11:22.639949Z",
     "iopub.status.idle": "2021-04-07T06:11:22.642998Z",
     "shell.execute_reply": "2021-04-07T06:11:22.642557Z"
    }
   },
   "outputs": [],
   "source": [
    "from qcodes.dataset.data_set import load_by_id\n",
    "from qcodes.dataset.data_export import get_data_by_id"
   ]
  },
  {
   "cell_type": "markdown",
   "metadata": {},
   "source": [
    "As usual you can load the data by using the ``load_by_id`` function but you will notice that the different storage methods\n",
    "are reflected in shape of the data as it is retrieved. "
   ]
  },
  {
   "cell_type": "code",
   "execution_count": 10,
   "metadata": {
    "execution": {
     "iopub.execute_input": "2021-04-07T06:11:22.647149Z",
     "iopub.status.busy": "2021-04-07T06:11:22.646121Z",
     "iopub.status.idle": "2021-04-07T06:11:22.647759Z",
     "shell.execute_reply": "2021-04-07T06:11:22.648161Z"
    }
   },
   "outputs": [],
   "source": [
    "run_id_n = t_numeric_run_ids[0]\n",
    "run_id_a = t_array_run_ids[0]"
   ]
  },
  {
   "cell_type": "code",
   "execution_count": 11,
   "metadata": {
    "execution": {
     "iopub.execute_input": "2021-04-07T06:11:22.651246Z",
     "iopub.status.busy": "2021-04-07T06:11:22.650769Z",
     "iopub.status.idle": "2021-04-07T06:11:22.659393Z",
     "shell.execute_reply": "2021-04-07T06:11:22.659800Z"
    },
    "scrolled": true
   },
   "outputs": [
    {
     "data": {
      "text/plain": [
       "{'x1': {'x1': array([0.88657013, 0.88657013, 0.54279171, 0.54279171, 0.1777444 ,\n",
       "         0.1777444 , 0.12477396, 0.12477396, 0.88174347, 0.88174347,\n",
       "         0.34299364, 0.34299364, 0.11085681, 0.11085681, 0.68031331,\n",
       "         0.68031331, 0.04339386, 0.04339386, 0.67139421, 0.67139421,\n",
       "         0.49623848, 0.49623848, 0.30297216, 0.30297216, 0.98019182,\n",
       "         0.98019182, 0.26756661, 0.26756661, 0.92539898, 0.92539898,\n",
       "         0.1574451 , 0.1574451 , 0.63140132, 0.63140132, 0.50111079,\n",
       "         0.50111079, 0.43354114, 0.43354114, 0.03059009, 0.03059009,\n",
       "         0.35287092, 0.35287092, 0.02522379, 0.02522379, 0.0383639 ,\n",
       "         0.0383639 , 0.39106389, 0.39106389, 0.68649047, 0.68649047,\n",
       "         0.35273206, 0.35273206, 0.58689928, 0.58689928, 0.32370256,\n",
       "         0.32370256, 0.12851713, 0.12851713, 0.88059238, 0.88059238,\n",
       "         0.86511063, 0.86511063, 0.56761606, 0.56761606, 0.86710623,\n",
       "         0.86710623, 0.72629171, 0.72629171, 0.34459377, 0.34459377,\n",
       "         0.22860935, 0.22860935, 0.51853811, 0.51853811, 0.20022125,\n",
       "         0.20022125, 0.87976066, 0.87976066, 0.26127977, 0.26127977,\n",
       "         0.38383626, 0.38383626, 0.49054158, 0.49054158, 0.66166427,\n",
       "         0.66166427, 0.71653311, 0.71653311, 0.68942428, 0.68942428,\n",
       "         0.82867347, 0.82867347, 0.71943208, 0.71943208, 0.21238143,\n",
       "         0.21238143, 0.99843777, 0.99843777, 0.99684544, 0.99684544,\n",
       "         0.37878178, 0.37878178, 0.69985013, 0.69985013, 0.5804819 ,\n",
       "         0.5804819 , 0.93839406, 0.93839406, 0.06014014, 0.06014014,\n",
       "         0.76116465, 0.76116465, 0.59625946, 0.59625946, 0.55189236,\n",
       "         0.55189236, 0.18348573, 0.18348573, 0.56923468, 0.56923468,\n",
       "         0.73674972, 0.73674972, 0.74702526, 0.74702526, 0.09577374,\n",
       "         0.09577374, 0.4302356 , 0.4302356 , 0.42343044, 0.42343044,\n",
       "         0.92013094, 0.92013094, 0.82777552, 0.82777552, 0.61883225,\n",
       "         0.61883225, 0.24201012, 0.24201012, 0.37560843, 0.37560843,\n",
       "         0.93588273, 0.93588273, 0.89948043, 0.89948043, 0.17310021,\n",
       "         0.17310021, 0.65603078, 0.65603078, 0.84983031, 0.84983031,\n",
       "         0.64404953, 0.64404953, 0.45671099, 0.45671099, 0.69452576,\n",
       "         0.69452576, 0.50060253, 0.50060253, 0.72871236, 0.72871236,\n",
       "         0.06545174, 0.06545174, 0.91775202, 0.91775202, 0.44365948,\n",
       "         0.44365948, 0.14942856, 0.14942856, 0.94997606, 0.94997606,\n",
       "         0.3684327 , 0.3684327 , 0.72975715, 0.72975715, 0.80289262,\n",
       "         0.80289262, 0.62969429, 0.62969429, 0.80874444, 0.80874444,\n",
       "         0.07970806, 0.07970806, 0.00642262, 0.00642262, 0.0909441 ,\n",
       "         0.0909441 , 0.48473961, 0.48473961, 0.15215274, 0.15215274,\n",
       "         0.60473316, 0.60473316, 0.83546552, 0.83546552, 0.64660228,\n",
       "         0.64660228, 0.06408034, 0.06408034, 0.31752547, 0.31752547])}}"
      ]
     },
     "execution_count": 1,
     "metadata": {},
     "output_type": "execute_result"
    }
   ],
   "source": [
    "ds = load_by_id(run_id_n)\n",
    "ds.get_parameter_data('x1')"
   ]
  },
  {
   "cell_type": "markdown",
   "metadata": {},
   "source": [
    "And a dataset stored as binary arrays"
   ]
  },
  {
   "cell_type": "code",
   "execution_count": 12,
   "metadata": {
    "execution": {
     "iopub.execute_input": "2021-04-07T06:11:22.662947Z",
     "iopub.status.busy": "2021-04-07T06:11:22.662460Z",
     "iopub.status.idle": "2021-04-07T06:11:22.712628Z",
     "shell.execute_reply": "2021-04-07T06:11:22.713111Z"
    },
    "scrolled": true
   },
   "outputs": [
    {
     "data": {
      "text/plain": [
       "{'x1': {'x1': array([[0.73960294],\n",
       "         [0.73960294],\n",
       "         [0.69245193],\n",
       "         [0.69245193],\n",
       "         [0.45080784],\n",
       "         [0.45080784],\n",
       "         [0.17096742],\n",
       "         [0.17096742],\n",
       "         [0.85865027],\n",
       "         [0.85865027],\n",
       "         [0.69059632],\n",
       "         [0.69059632],\n",
       "         [0.12750716],\n",
       "         [0.12750716],\n",
       "         [0.2134515 ],\n",
       "         [0.2134515 ],\n",
       "         [0.68510832],\n",
       "         [0.68510832],\n",
       "         [0.0541144 ],\n",
       "         [0.0541144 ],\n",
       "         [0.96339437],\n",
       "         [0.96339437],\n",
       "         [0.17692552],\n",
       "         [0.17692552],\n",
       "         [0.74383108],\n",
       "         [0.74383108],\n",
       "         [0.85259311],\n",
       "         [0.85259311],\n",
       "         [0.35105899],\n",
       "         [0.35105899],\n",
       "         [0.80479403],\n",
       "         [0.80479403],\n",
       "         [0.60371094],\n",
       "         [0.60371094],\n",
       "         [0.56221165],\n",
       "         [0.56221165],\n",
       "         [0.71685211],\n",
       "         [0.71685211],\n",
       "         [0.28815091],\n",
       "         [0.28815091],\n",
       "         [0.21333318],\n",
       "         [0.21333318],\n",
       "         [0.87618958],\n",
       "         [0.87618958],\n",
       "         [0.81991673],\n",
       "         [0.81991673],\n",
       "         [0.55968545],\n",
       "         [0.55968545],\n",
       "         [0.3320695 ],\n",
       "         [0.3320695 ],\n",
       "         [0.57516828],\n",
       "         [0.57516828],\n",
       "         [0.18301389],\n",
       "         [0.18301389],\n",
       "         [0.68676682],\n",
       "         [0.68676682],\n",
       "         [0.13775661],\n",
       "         [0.13775661],\n",
       "         [0.40135255],\n",
       "         [0.40135255],\n",
       "         [0.2380844 ],\n",
       "         [0.2380844 ],\n",
       "         [0.10794135],\n",
       "         [0.10794135],\n",
       "         [0.79894107],\n",
       "         [0.79894107],\n",
       "         [0.60359975],\n",
       "         [0.60359975],\n",
       "         [0.61382997],\n",
       "         [0.61382997],\n",
       "         [0.46351055],\n",
       "         [0.46351055],\n",
       "         [0.6280368 ],\n",
       "         [0.6280368 ],\n",
       "         [0.37919902],\n",
       "         [0.37919902],\n",
       "         [0.64297253],\n",
       "         [0.64297253],\n",
       "         [0.66136171],\n",
       "         [0.66136171],\n",
       "         [0.82844085],\n",
       "         [0.82844085],\n",
       "         [0.31544305],\n",
       "         [0.31544305],\n",
       "         [0.82615123],\n",
       "         [0.82615123],\n",
       "         [0.5382406 ],\n",
       "         [0.5382406 ],\n",
       "         [0.11543429],\n",
       "         [0.11543429],\n",
       "         [0.66141779],\n",
       "         [0.66141779],\n",
       "         [0.09048297],\n",
       "         [0.09048297],\n",
       "         [0.11621734],\n",
       "         [0.11621734],\n",
       "         [0.34145691],\n",
       "         [0.34145691],\n",
       "         [0.97289727],\n",
       "         [0.97289727],\n",
       "         [0.417362  ],\n",
       "         [0.417362  ],\n",
       "         [0.14208745],\n",
       "         [0.14208745],\n",
       "         [0.24273245],\n",
       "         [0.24273245],\n",
       "         [0.98384801],\n",
       "         [0.98384801],\n",
       "         [0.62055037],\n",
       "         [0.62055037],\n",
       "         [0.36731624],\n",
       "         [0.36731624],\n",
       "         [0.0710163 ],\n",
       "         [0.0710163 ],\n",
       "         [0.174199  ],\n",
       "         [0.174199  ],\n",
       "         [0.61634288],\n",
       "         [0.61634288],\n",
       "         [0.52665878],\n",
       "         [0.52665878],\n",
       "         [0.41021043],\n",
       "         [0.41021043],\n",
       "         [0.38969998],\n",
       "         [0.38969998],\n",
       "         [0.6253104 ],\n",
       "         [0.6253104 ],\n",
       "         [0.70493911],\n",
       "         [0.70493911],\n",
       "         [0.67400869],\n",
       "         [0.67400869],\n",
       "         [0.29500115],\n",
       "         [0.29500115],\n",
       "         [0.81080713],\n",
       "         [0.81080713],\n",
       "         [0.7044868 ],\n",
       "         [0.7044868 ],\n",
       "         [0.42355212],\n",
       "         [0.42355212],\n",
       "         [0.04553259],\n",
       "         [0.04553259],\n",
       "         [0.96203485],\n",
       "         [0.96203485],\n",
       "         [0.43734779],\n",
       "         [0.43734779],\n",
       "         [0.41949928],\n",
       "         [0.41949928],\n",
       "         [0.27324086],\n",
       "         [0.27324086],\n",
       "         [0.97082392],\n",
       "         [0.97082392],\n",
       "         [0.75705151],\n",
       "         [0.75705151],\n",
       "         [0.93005842],\n",
       "         [0.93005842],\n",
       "         [0.89884555],\n",
       "         [0.89884555],\n",
       "         [0.55372144],\n",
       "         [0.55372144],\n",
       "         [0.15671804],\n",
       "         [0.15671804],\n",
       "         [0.61499651],\n",
       "         [0.61499651],\n",
       "         [0.26062367],\n",
       "         [0.26062367],\n",
       "         [0.73421044],\n",
       "         [0.73421044],\n",
       "         [0.64452862],\n",
       "         [0.64452862],\n",
       "         [0.65169067],\n",
       "         [0.65169067],\n",
       "         [0.83509611],\n",
       "         [0.83509611],\n",
       "         [0.08970484],\n",
       "         [0.08970484],\n",
       "         [0.73391673],\n",
       "         [0.73391673],\n",
       "         [0.64790192],\n",
       "         [0.64790192],\n",
       "         [0.77610112],\n",
       "         [0.77610112],\n",
       "         [0.87926634],\n",
       "         [0.87926634],\n",
       "         [0.04744924],\n",
       "         [0.04744924],\n",
       "         [0.29983744],\n",
       "         [0.29983744],\n",
       "         [0.54127987],\n",
       "         [0.54127987],\n",
       "         [0.34867527],\n",
       "         [0.34867527],\n",
       "         [0.24780614],\n",
       "         [0.24780614],\n",
       "         [0.63963628],\n",
       "         [0.63963628],\n",
       "         [0.48599332],\n",
       "         [0.48599332],\n",
       "         [0.17535879],\n",
       "         [0.17535879],\n",
       "         [0.96019673],\n",
       "         [0.96019673]])}}"
      ]
     },
     "execution_count": 1,
     "metadata": {},
     "output_type": "execute_result"
    }
   ],
   "source": [
    "ds = load_by_id(run_id_a)\n",
    "ds.get_parameter_data('x1')"
   ]
  },
  {
   "cell_type": "code",
   "execution_count": null,
   "metadata": {},
   "outputs": [],
   "source": []
  }
 ],
 "metadata": {
  "kernelspec": {
   "display_name": "Python 3",
   "language": "python",
   "name": "python3"
  },
  "language_info": {
   "codemirror_mode": {
    "name": "ipython",
    "version": 3
   },
   "file_extension": ".py",
   "mimetype": "text/x-python",
   "name": "python",
   "nbconvert_exporter": "python",
   "pygments_lexer": "ipython3",
   "version": "3.7.10"
  },
  "nbsphinx": {
   "timeout": 600
  },
  "toc": {
   "base_numbering": 1,
   "nav_menu": {},
   "number_sections": true,
   "sideBar": true,
   "skip_h1_title": false,
   "title_cell": "Table of Contents",
   "title_sidebar": "Contents",
   "toc_cell": false,
   "toc_position": {},
   "toc_section_display": true,
   "toc_window_display": false
  },
  "varInspector": {
   "cols": {
    "lenName": 16,
    "lenType": 16,
    "lenVar": 40
   },
   "kernels_config": {
    "python": {
     "delete_cmd_postfix": "",
     "delete_cmd_prefix": "del ",
     "library": "var_list.py",
     "varRefreshCmd": "print(var_dic_list())"
    },
    "r": {
     "delete_cmd_postfix": ") ",
     "delete_cmd_prefix": "rm(",
     "library": "var_list.r",
     "varRefreshCmd": "cat(var_dic_list()) "
    }
   },
   "types_to_exclude": [
    "module",
    "function",
    "builtin_function_or_method",
    "instance",
    "_Feature"
   ],
   "window_display": false
  }
 },
 "nbformat": 4,
 "nbformat_minor": 2
}
