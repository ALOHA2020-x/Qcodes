{
 "cells": [
  {
   "cell_type": "markdown",
   "metadata": {},
   "source": [
    "# DataSet Performance\n",
    "\n",
    "This notebook shows the trade-off between inserting data into a database row-by-row and as binary blobs. Inserting the data row-by-row means that we have direct access to all the data and may perform queries directly on the values of the data. On the other hand, as we shall see, this is much slower than inserting the data directly as binary blobs."
   ]
  },
  {
   "cell_type": "markdown",
   "metadata": {},
   "source": [
    "First, we choose a new location for the database to ensure that we don't add a bunch of benchmarking data to the default one."
   ]
  },
  {
   "cell_type": "code",
   "execution_count": 1,
   "metadata": {
    "execution": {
     "iopub.execute_input": "2021-05-10T07:41:15.119377Z",
     "iopub.status.busy": "2021-05-10T07:41:15.118675Z",
     "iopub.status.idle": "2021-05-10T07:41:16.557690Z",
     "shell.execute_reply": "2021-05-10T07:41:16.556928Z"
    }
   },
   "outputs": [
    {
     "name": "stdout",
     "output_type": "stream",
     "text": [
      "Logging hadn't been started.\n",
      "Activating auto-logging. Current session state plus future input saved.\n",
      "Filename       : /home/runner/.qcodes/logs/command_history.log\n",
      "Mode           : append\n",
      "Output logging : True\n",
      "Raw input log  : False\n",
      "Timestamping   : True\n",
      "State          : active\n"
     ]
    },
    {
     "name": "stdout",
     "output_type": "stream",
     "text": [
      "Qcodes Logfile : /home/runner/.qcodes/logs/210510-5187-qcodes.log\n"
     ]
    }
   ],
   "source": [
    "import os\n",
    "cwd = os.getcwd()\n",
    "import qcodes as qc\n",
    "qc.config[\"core\"][\"db_location\"] = os.path.join(cwd, 'testing.db')\n"
   ]
  },
  {
   "cell_type": "code",
   "execution_count": 2,
   "metadata": {
    "execution": {
     "iopub.execute_input": "2021-05-10T07:41:16.565669Z",
     "iopub.status.busy": "2021-05-10T07:41:16.564451Z",
     "iopub.status.idle": "2021-05-10T07:41:16.811014Z",
     "shell.execute_reply": "2021-05-10T07:41:16.810027Z"
    }
   },
   "outputs": [],
   "source": [
    "%matplotlib inline\n",
    "import time\n",
    "import matplotlib.pyplot as plt\n",
    "import numpy as np\n",
    "\n",
    "import qcodes as qc\n",
    "from qcodes.instrument.parameter import ManualParameter\n",
    "from qcodes.dataset.experiment_container import (Experiment,\n",
    "                                                 load_last_experiment,\n",
    "                                                 new_experiment)\n",
    "from qcodes.dataset.sqlite.database import initialise_database\n",
    "from qcodes import load_or_create_experiment\n",
    "from qcodes.dataset.measurements import Measurement"
   ]
  },
  {
   "cell_type": "code",
   "execution_count": 3,
   "metadata": {
    "execution": {
     "iopub.execute_input": "2021-05-10T07:41:16.815611Z",
     "iopub.status.busy": "2021-05-10T07:41:16.814910Z",
     "iopub.status.idle": "2021-05-10T07:41:16.908083Z",
     "shell.execute_reply": "2021-05-10T07:41:16.907429Z"
    }
   },
   "outputs": [
    {
     "name": "stdout",
     "output_type": "stream",
     "text": [
      "\r",
      "0it [00:00, ?it/s]"
     ]
    },
    {
     "name": "stdout",
     "output_type": "stream",
     "text": [
      "\r",
      "Upgrading database; v0 -> v1: : 0it [00:00, ?it/s]"
     ]
    },
    {
     "name": "stdout",
     "output_type": "stream",
     "text": [
      "\r",
      "Upgrading database; v0 -> v1: : 0it [00:00, ?it/s]"
     ]
    },
    {
     "name": "stdout",
     "output_type": "stream",
     "text": [
      "\n",
      "\r",
      "  0%|          | 0/1 [00:00<?, ?it/s]"
     ]
    },
    {
     "name": "stdout",
     "output_type": "stream",
     "text": [
      "\r",
      "Upgrading database; v1 -> v2:   0%|          | 0/1 [00:00<?, ?it/s]"
     ]
    },
    {
     "name": "stdout",
     "output_type": "stream",
     "text": [
      "\r",
      "Upgrading database; v1 -> v2: 100%|██████████| 1/1 [00:00<00:00, 313.15it/s]"
     ]
    },
    {
     "name": "stdout",
     "output_type": "stream",
     "text": [
      "\n",
      "\r",
      "0it [00:00, ?it/s]"
     ]
    },
    {
     "name": "stdout",
     "output_type": "stream",
     "text": [
      "\r",
      "Upgrading database; v2 -> v3: : 0it [00:00, ?it/s]"
     ]
    },
    {
     "name": "stdout",
     "output_type": "stream",
     "text": [
      "\r",
      "Upgrading database; v2 -> v3: : 0it [00:00, ?it/s]"
     ]
    },
    {
     "name": "stdout",
     "output_type": "stream",
     "text": [
      "\n",
      "\r",
      "0it [00:00, ?it/s]"
     ]
    },
    {
     "name": "stdout",
     "output_type": "stream",
     "text": [
      "\r",
      "Upgrading database; v3 -> v4: : 0it [00:00, ?it/s]"
     ]
    },
    {
     "name": "stdout",
     "output_type": "stream",
     "text": [
      "\r",
      "Upgrading database; v3 -> v4: : 0it [00:00, ?it/s]"
     ]
    },
    {
     "name": "stdout",
     "output_type": "stream",
     "text": [
      "\n",
      "\r",
      "  0%|          | 0/1 [00:00<?, ?it/s]"
     ]
    },
    {
     "name": "stdout",
     "output_type": "stream",
     "text": [
      "\r",
      "Upgrading database; v4 -> v5:   0%|          | 0/1 [00:00<?, ?it/s]"
     ]
    },
    {
     "name": "stdout",
     "output_type": "stream",
     "text": [
      "\r",
      "Upgrading database; v4 -> v5: 100%|██████████| 1/1 [00:00<00:00, 487.09it/s]"
     ]
    },
    {
     "name": "stdout",
     "output_type": "stream",
     "text": [
      "\n",
      "\r",
      "0it [00:00, ?it/s]"
     ]
    },
    {
     "name": "stdout",
     "output_type": "stream",
     "text": [
      "\r",
      "Upgrading database; v5 -> v6: : 0it [00:00, ?it/s]"
     ]
    },
    {
     "name": "stdout",
     "output_type": "stream",
     "text": [
      "\r",
      "Upgrading database; v5 -> v6: : 0it [00:00, ?it/s]"
     ]
    },
    {
     "name": "stdout",
     "output_type": "stream",
     "text": [
      "\n",
      "\r",
      "  0%|          | 0/1 [00:00<?, ?it/s]"
     ]
    },
    {
     "name": "stdout",
     "output_type": "stream",
     "text": [
      "\r",
      "Upgrading database; v6 -> v7:   0%|          | 0/1 [00:00<?, ?it/s]"
     ]
    },
    {
     "name": "stdout",
     "output_type": "stream",
     "text": [
      "\r",
      "Upgrading database; v6 -> v7: 100%|██████████| 1/1 [00:00<00:00, 278.04it/s]"
     ]
    },
    {
     "name": "stdout",
     "output_type": "stream",
     "text": [
      "\n",
      "\r",
      "  0%|          | 0/1 [00:00<?, ?it/s]"
     ]
    },
    {
     "name": "stdout",
     "output_type": "stream",
     "text": [
      "\r",
      "Upgrading database; v7 -> v8:   0%|          | 0/1 [00:00<?, ?it/s]"
     ]
    },
    {
     "name": "stdout",
     "output_type": "stream",
     "text": [
      "\r",
      "Upgrading database; v7 -> v8: 100%|██████████| 1/1 [00:00<00:00, 363.96it/s]"
     ]
    },
    {
     "name": "stdout",
     "output_type": "stream",
     "text": [
      "\n",
      "\r",
      "  0%|          | 0/1 [00:00<?, ?it/s]"
     ]
    },
    {
     "name": "stdout",
     "output_type": "stream",
     "text": [
      "\r",
      "Upgrading database; v8 -> v9:   0%|          | 0/1 [00:00<?, ?it/s]"
     ]
    },
    {
     "name": "stdout",
     "output_type": "stream",
     "text": [
      "\r",
      "Upgrading database; v8 -> v9: 100%|██████████| 1/1 [00:00<00:00, 908.45it/s]"
     ]
    },
    {
     "name": "stdout",
     "output_type": "stream",
     "text": [
      "\n"
     ]
    }
   ],
   "source": [
    "initialise_database()\n",
    "exp = load_or_create_experiment(experiment_name='tutorial_exp', sample_name=\"no sample\")"
   ]
  },
  {
   "cell_type": "markdown",
   "metadata": {},
   "source": [
    "Here, we define a simple function to benchmark the time it takes to insert n points with either numeric or array data type.\n",
    "We will compare both the time used to call ``add_result`` and the time used for the full measurement."
   ]
  },
  {
   "cell_type": "code",
   "execution_count": 4,
   "metadata": {
    "execution": {
     "iopub.execute_input": "2021-05-10T07:41:16.919132Z",
     "iopub.status.busy": "2021-05-10T07:41:16.917581Z",
     "iopub.status.idle": "2021-05-10T07:41:16.919845Z",
     "shell.execute_reply": "2021-05-10T07:41:16.920508Z"
    }
   },
   "outputs": [],
   "source": [
    "def insert_data(paramtype, npoints, nreps=1):\n",
    "\n",
    "    meas = Measurement(exp=exp)\n",
    "\n",
    "    x1 = ManualParameter('x1')\n",
    "    x2 = ManualParameter('x2')\n",
    "    x3 = ManualParameter('x3')\n",
    "    y1 = ManualParameter('y1')\n",
    "    y2 = ManualParameter('y2')\n",
    "\n",
    "    meas.register_parameter(x1, paramtype=paramtype)\n",
    "    meas.register_parameter(x2, paramtype=paramtype)\n",
    "    meas.register_parameter(x3, paramtype=paramtype)\n",
    "    meas.register_parameter(y1, setpoints=[x1, x2, x3],\n",
    "                            paramtype=paramtype)\n",
    "    meas.register_parameter(y2, setpoints=[x1, x2, x3],\n",
    "                            paramtype=paramtype)\n",
    "    start = time.perf_counter()\n",
    "    with meas.run() as datasaver:\n",
    "        start_adding = time.perf_counter()\n",
    "        for i in range(nreps):\n",
    "            datasaver.add_result((x1, np.random.rand(npoints)),\n",
    "                                 (x2, np.random.rand(npoints)),\n",
    "                                 (x3, np.random.rand(npoints)),\n",
    "                                 (y1, np.random.rand(npoints)),\n",
    "                                 (y2, np.random.rand(npoints)))\n",
    "        stop_adding = time.perf_counter()\n",
    "        run_id = datasaver.run_id\n",
    "    stop = time.perf_counter()\n",
    "    tot_time = stop - start\n",
    "    add_time = stop_adding - start_adding\n",
    "    return tot_time, add_time, run_id"
   ]
  },
  {
   "cell_type": "markdown",
   "metadata": {},
   "source": [
    "## Comparison between numeric/array data and binary blob"
   ]
  },
  {
   "cell_type": "markdown",
   "metadata": {},
   "source": [
    "### Case1: Short experiment time"
   ]
  },
  {
   "cell_type": "code",
   "execution_count": 5,
   "metadata": {
    "execution": {
     "iopub.execute_input": "2021-05-10T07:41:16.928253Z",
     "iopub.status.busy": "2021-05-10T07:41:16.927486Z",
     "iopub.status.idle": "2021-05-10T07:41:17.853241Z",
     "shell.execute_reply": "2021-05-10T07:41:17.853776Z"
    }
   },
   "outputs": [
    {
     "name": "stdout",
     "output_type": "stream",
     "text": [
      "Starting experimental run with id: 1. \n",
      "Starting experimental run with id: 2. \n",
      "Starting experimental run with id: 3. \n"
     ]
    },
    {
     "name": "stdout",
     "output_type": "stream",
     "text": [
      "Starting experimental run with id: 4. \n"
     ]
    },
    {
     "name": "stdout",
     "output_type": "stream",
     "text": [
      "Starting experimental run with id: 5. \n"
     ]
    },
    {
     "name": "stdout",
     "output_type": "stream",
     "text": [
      "Starting experimental run with id: 6. \n",
      "Starting experimental run with id: 7. \n",
      "Starting experimental run with id: 8. \n"
     ]
    },
    {
     "name": "stdout",
     "output_type": "stream",
     "text": [
      "Starting experimental run with id: 9. \n"
     ]
    },
    {
     "name": "stdout",
     "output_type": "stream",
     "text": [
      "Starting experimental run with id: 10. \n",
      "Starting experimental run with id: 11. \n"
     ]
    },
    {
     "name": "stdout",
     "output_type": "stream",
     "text": [
      "Starting experimental run with id: 12. \n"
     ]
    },
    {
     "name": "stdout",
     "output_type": "stream",
     "text": [
      "Starting experimental run with id: 13. \n"
     ]
    },
    {
     "name": "stdout",
     "output_type": "stream",
     "text": [
      "Starting experimental run with id: 14. \n"
     ]
    }
   ],
   "source": [
    "sizes = [1,500,1000,2000,3000,4000,5000]\n",
    "t_numeric = []\n",
    "t_numeric_add = []\n",
    "t_array = []\n",
    "t_array_add = []\n",
    "for size in sizes:\n",
    "    tn, tna, run_id_n =  insert_data('numeric', size)\n",
    "    t_numeric.append(tn)\n",
    "    t_numeric_add.append(tna)\n",
    "\n",
    "    ta, taa, run_id_a =  insert_data('array', size)\n",
    "    t_array.append(ta)\n",
    "    t_array_add.append(taa)"
   ]
  },
  {
   "cell_type": "code",
   "execution_count": 6,
   "metadata": {
    "execution": {
     "iopub.execute_input": "2021-05-10T07:41:17.876841Z",
     "iopub.status.busy": "2021-05-10T07:41:17.858698Z",
     "iopub.status.idle": "2021-05-10T07:41:18.166382Z",
     "shell.execute_reply": "2021-05-10T07:41:18.167156Z"
    }
   },
   "outputs": [
    {
     "data": {
      "image/png": "[encoded data removed]",
      "text/plain": [
       "<Figure size 432x288 with 1 Axes>"
      ]
     },
     "metadata": {
      "needs_background": "light"
     },
     "output_type": "display_data"
    }
   ],
   "source": [
    "fig, ax = plt.subplots(1,1)\n",
    "ax.plot(sizes, t_numeric, 'o-', label='Inserting row-by-row')\n",
    "ax.plot(sizes, t_numeric_add, 'o-', label='Inserting row-by-row: add_result only')\n",
    "ax.plot(sizes, t_array, 'd-', label='Inserting as binary blob')\n",
    "ax.plot(sizes, t_array_add, 'd-', label='Inserting as binary blob: add_result only')\n",
    "ax.legend()\n",
    "ax.set_xlabel('Array length')\n",
    "ax.set_ylabel('Time (s)')\n",
    "fig.tight_layout()"
   ]
  },
  {
   "cell_type": "markdown",
   "metadata": {},
   "source": [
    "As shown in the latter figure, the time to setup and and close the experiment is approximately 0.4 sec. In case of small array sizes, the difference between inserting values of data as arrays and inserting them row-by-row is relatively unimportant. At larger array sizes, i.e. above 10000 points, the cost of writing data as individual datapoints starts to become important.\n"
   ]
  },
  {
   "cell_type": "markdown",
   "metadata": {},
   "source": [
    "### Case2: Long experiment time "
   ]
  },
  {
   "cell_type": "code",
   "execution_count": 7,
   "metadata": {
    "execution": {
     "iopub.execute_input": "2021-05-10T07:41:18.177138Z",
     "iopub.status.busy": "2021-05-10T07:41:18.176324Z",
     "iopub.status.idle": "2021-05-10T07:42:21.525241Z",
     "shell.execute_reply": "2021-05-10T07:42:21.524157Z"
    }
   },
   "outputs": [
    {
     "name": "stdout",
     "output_type": "stream",
     "text": [
      "Starting experimental run with id: 15. \n",
      "Starting experimental run with id: 16. \n"
     ]
    },
    {
     "name": "stdout",
     "output_type": "stream",
     "text": [
      "Starting experimental run with id: 17. \n"
     ]
    },
    {
     "name": "stdout",
     "output_type": "stream",
     "text": [
      "Starting experimental run with id: 18. \n"
     ]
    },
    {
     "name": "stdout",
     "output_type": "stream",
     "text": [
      "Starting experimental run with id: 19. \n"
     ]
    },
    {
     "name": "stdout",
     "output_type": "stream",
     "text": [
      "Starting experimental run with id: 20. \n"
     ]
    },
    {
     "name": "stdout",
     "output_type": "stream",
     "text": [
      "Starting experimental run with id: 21. \n"
     ]
    },
    {
     "name": "stdout",
     "output_type": "stream",
     "text": [
      "Starting experimental run with id: 22. \n"
     ]
    },
    {
     "name": "stdout",
     "output_type": "stream",
     "text": [
      "Starting experimental run with id: 23. \n"
     ]
    },
    {
     "name": "stdout",
     "output_type": "stream",
     "text": [
      "Starting experimental run with id: 24. \n"
     ]
    },
    {
     "name": "stdout",
     "output_type": "stream",
     "text": [
      "Starting experimental run with id: 25. \n"
     ]
    },
    {
     "name": "stdout",
     "output_type": "stream",
     "text": [
      "Starting experimental run with id: 26. \n"
     ]
    },
    {
     "name": "stdout",
     "output_type": "stream",
     "text": [
      "Starting experimental run with id: 27. \n"
     ]
    },
    {
     "name": "stdout",
     "output_type": "stream",
     "text": [
      "Starting experimental run with id: 28. \n"
     ]
    }
   ],
   "source": [
    "sizes = [1,500,1000,2000,3000,4000,5000]\n",
    "nreps = 100\n",
    "t_numeric = []\n",
    "t_numeric_add = []\n",
    "t_numeric_run_ids = []\n",
    "t_array = []\n",
    "t_array_add = []\n",
    "t_array_run_ids = []\n",
    "for size in sizes:\n",
    "    tn, tna, run_id_n =  insert_data('numeric', size, nreps=nreps)\n",
    "    t_numeric.append(tn)\n",
    "    t_numeric_add.append(tna)\n",
    "    t_numeric_run_ids.append(run_id_n)\n",
    "\n",
    "    ta, taa, run_id_a =  insert_data('array', size, nreps=nreps)\n",
    "    t_array.append(ta)\n",
    "    t_array_add.append(taa)\n",
    "    t_array_run_ids.append(run_id_a)"
   ]
  },
  {
   "cell_type": "code",
   "execution_count": 8,
   "metadata": {
    "execution": {
     "iopub.execute_input": "2021-05-10T07:42:21.552359Z",
     "iopub.status.busy": "2021-05-10T07:42:21.548177Z",
     "iopub.status.idle": "2021-05-10T07:42:21.825680Z",
     "shell.execute_reply": "2021-05-10T07:42:21.824578Z"
    },
    "scrolled": true
   },
   "outputs": [
    {
     "data": {
      "image/png": "[encoded data removed]",
      "text/plain": [
       "<Figure size 432x288 with 1 Axes>"
      ]
     },
     "metadata": {
      "needs_background": "light"
     },
     "output_type": "display_data"
    }
   ],
   "source": [
    "fig, ax = plt.subplots(1,1)\n",
    "ax.plot(sizes, t_numeric, 'o-', label='Inserting row-by-row')\n",
    "ax.plot(sizes, t_numeric_add, 'o-', label='Inserting row-by-row: add_result only')\n",
    "ax.plot(sizes, t_array, 'd-', label='Inserting as binary blob')\n",
    "ax.plot(sizes, t_array_add, 'd-', label='Inserting as binary blob: add_result only')\n",
    "ax.legend()\n",
    "ax.set_xlabel('Array length')\n",
    "ax.set_ylabel('Time (s)')\n",
    "fig.tight_layout()"
   ]
  },
  {
   "cell_type": "markdown",
   "metadata": {},
   "source": [
    "However, as we increase the length of the experiment, as seen here by repeating the insertion 100 times, we see a big difference between inserting values of the data row-by-row and inserting it as a binary blob."
   ]
  },
  {
   "cell_type": "markdown",
   "metadata": {},
   "source": [
    "## Loading the data "
   ]
  },
  {
   "cell_type": "code",
   "execution_count": 9,
   "metadata": {
    "execution": {
     "iopub.execute_input": "2021-05-10T07:42:21.832595Z",
     "iopub.status.busy": "2021-05-10T07:42:21.830973Z",
     "iopub.status.idle": "2021-05-10T07:42:21.833548Z",
     "shell.execute_reply": "2021-05-10T07:42:21.834178Z"
    }
   },
   "outputs": [],
   "source": [
    "from qcodes.dataset.data_set import load_by_id"
   ]
  },
  {
   "cell_type": "markdown",
   "metadata": {},
   "source": [
    "As usual you can load the data by using the ``load_by_id`` function but you will notice that the different storage methods\n",
    "are reflected in shape of the data as it is retrieved. "
   ]
  },
  {
   "cell_type": "code",
   "execution_count": 10,
   "metadata": {
    "execution": {
     "iopub.execute_input": "2021-05-10T07:42:21.840006Z",
     "iopub.status.busy": "2021-05-10T07:42:21.838394Z",
     "iopub.status.idle": "2021-05-10T07:42:21.840749Z",
     "shell.execute_reply": "2021-05-10T07:42:21.841283Z"
    }
   },
   "outputs": [],
   "source": [
    "run_id_n = t_numeric_run_ids[0]\n",
    "run_id_a = t_array_run_ids[0]"
   ]
  },
  {
   "cell_type": "code",
   "execution_count": 11,
   "metadata": {
    "execution": {
     "iopub.execute_input": "2021-05-10T07:42:21.845383Z",
     "iopub.status.busy": "2021-05-10T07:42:21.844734Z",
     "iopub.status.idle": "2021-05-10T07:42:21.856709Z",
     "shell.execute_reply": "2021-05-10T07:42:21.855965Z"
    },
    "scrolled": true
   },
   "outputs": [
    {
     "data": {
      "text/plain": [
       "{'x1': {'x1': array([0.71989363, 0.71989363, 0.13807733, 0.13807733, 0.55890566,\n",
       "         0.55890566, 0.82552262, 0.82552262, 0.58433904, 0.58433904,\n",
       "         0.24024891, 0.24024891, 0.77648371, 0.77648371, 0.60156653,\n",
       "         0.60156653, 0.61862911, 0.61862911, 0.94231305, 0.94231305,\n",
       "         0.73758498, 0.73758498, 0.89025188, 0.89025188, 0.85374815,\n",
       "         0.85374815, 0.54263217, 0.54263217, 0.83694715, 0.83694715,\n",
       "         0.07715129, 0.07715129, 0.98547521, 0.98547521, 0.90660468,\n",
       "         0.90660468, 0.61567909, 0.61567909, 0.20160366, 0.20160366,\n",
       "         0.03126623, 0.03126623, 0.42693202, 0.42693202, 0.95632714,\n",
       "         0.95632714, 0.11250052, 0.11250052, 0.04019606, 0.04019606,\n",
       "         0.67017127, 0.67017127, 0.06945874, 0.06945874, 0.46141098,\n",
       "         0.46141098, 0.77801087, 0.77801087, 0.1495842 , 0.1495842 ,\n",
       "         0.17535329, 0.17535329, 0.66462112, 0.66462112, 0.34522991,\n",
       "         0.34522991, 0.03870627, 0.03870627, 0.74088308, 0.74088308,\n",
       "         0.15841278, 0.15841278, 0.65520263, 0.65520263, 0.11773945,\n",
       "         0.11773945, 0.78564802, 0.78564802, 0.39535397, 0.39535397,\n",
       "         0.04080649, 0.04080649, 0.69083787, 0.69083787, 0.55069357,\n",
       "         0.55069357, 0.01097342, 0.01097342, 0.79206672, 0.79206672,\n",
       "         0.7664092 , 0.7664092 , 0.03089731, 0.03089731, 0.9127919 ,\n",
       "         0.9127919 , 0.7392991 , 0.7392991 , 0.7045723 , 0.7045723 ,\n",
       "         0.95296009, 0.95296009, 0.30381469, 0.30381469, 0.57295971,\n",
       "         0.57295971, 0.39547149, 0.39547149, 0.78151608, 0.78151608,\n",
       "         0.15038688, 0.15038688, 0.55242131, 0.55242131, 0.96759428,\n",
       "         0.96759428, 0.13750861, 0.13750861, 0.54074064, 0.54074064,\n",
       "         0.91137786, 0.91137786, 0.74130883, 0.74130883, 0.55951   ,\n",
       "         0.55951   , 0.18612183, 0.18612183, 0.74425475, 0.74425475,\n",
       "         0.85567157, 0.85567157, 0.51096946, 0.51096946, 0.62017806,\n",
       "         0.62017806, 0.33621503, 0.33621503, 0.3737816 , 0.3737816 ,\n",
       "         0.92783114, 0.92783114, 0.02101614, 0.02101614, 0.05171839,\n",
       "         0.05171839, 0.50912666, 0.50912666, 0.38725191, 0.38725191,\n",
       "         0.29879993, 0.29879993, 0.37365814, 0.37365814, 0.23365993,\n",
       "         0.23365993, 0.731507  , 0.731507  , 0.70846773, 0.70846773,\n",
       "         0.17988062, 0.17988062, 0.17525332, 0.17525332, 0.558469  ,\n",
       "         0.558469  , 0.98874605, 0.98874605, 0.69717175, 0.69717175,\n",
       "         0.60259403, 0.60259403, 0.51769786, 0.51769786, 0.42995083,\n",
       "         0.42995083, 0.08299551, 0.08299551, 0.81553714, 0.81553714,\n",
       "         0.97257897, 0.97257897, 0.13023133, 0.13023133, 0.30575779,\n",
       "         0.30575779, 0.64384774, 0.64384774, 0.72998597, 0.72998597,\n",
       "         0.88524109, 0.88524109, 0.72874751, 0.72874751, 0.44794432,\n",
       "         0.44794432, 0.69957048, 0.69957048, 0.08206951, 0.08206951])}}"
      ]
     },
     "execution_count": 1,
     "metadata": {},
     "output_type": "execute_result"
    }
   ],
   "source": [
    "ds = load_by_id(run_id_n)\n",
    "ds.get_parameter_data('x1')"
   ]
  },
  {
   "cell_type": "markdown",
   "metadata": {},
   "source": [
    "And a dataset stored as binary arrays"
   ]
  },
  {
   "cell_type": "code",
   "execution_count": 12,
   "metadata": {
    "execution": {
     "iopub.execute_input": "2021-05-10T07:42:21.860677Z",
     "iopub.status.busy": "2021-05-10T07:42:21.859955Z",
     "iopub.status.idle": "2021-05-10T07:42:21.932605Z",
     "shell.execute_reply": "2021-05-10T07:42:21.933228Z"
    },
    "scrolled": true
   },
   "outputs": [
    {
     "data": {
      "text/plain": [
       "{'x1': {'x1': array([[0.96201232],\n",
       "         [0.96201232],\n",
       "         [0.04263242],\n",
       "         [0.04263242],\n",
       "         [0.90755276],\n",
       "         [0.90755276],\n",
       "         [0.08783536],\n",
       "         [0.08783536],\n",
       "         [0.01819756],\n",
       "         [0.01819756],\n",
       "         [0.0796802 ],\n",
       "         [0.0796802 ],\n",
       "         [0.20397195],\n",
       "         [0.20397195],\n",
       "         [0.27356564],\n",
       "         [0.27356564],\n",
       "         [0.45565385],\n",
       "         [0.45565385],\n",
       "         [0.64571953],\n",
       "         [0.64571953],\n",
       "         [0.77716539],\n",
       "         [0.77716539],\n",
       "         [0.87214735],\n",
       "         [0.87214735],\n",
       "         [0.11952677],\n",
       "         [0.11952677],\n",
       "         [0.62101986],\n",
       "         [0.62101986],\n",
       "         [0.49632138],\n",
       "         [0.49632138],\n",
       "         [0.75535408],\n",
       "         [0.75535408],\n",
       "         [0.82651351],\n",
       "         [0.82651351],\n",
       "         [0.85569674],\n",
       "         [0.85569674],\n",
       "         [0.55181628],\n",
       "         [0.55181628],\n",
       "         [0.4782599 ],\n",
       "         [0.4782599 ],\n",
       "         [0.23201157],\n",
       "         [0.23201157],\n",
       "         [0.71213578],\n",
       "         [0.71213578],\n",
       "         [0.62428858],\n",
       "         [0.62428858],\n",
       "         [0.8300499 ],\n",
       "         [0.8300499 ],\n",
       "         [0.71396846],\n",
       "         [0.71396846],\n",
       "         [0.03069627],\n",
       "         [0.03069627],\n",
       "         [0.32820363],\n",
       "         [0.32820363],\n",
       "         [0.2963627 ],\n",
       "         [0.2963627 ],\n",
       "         [0.19894089],\n",
       "         [0.19894089],\n",
       "         [0.71043498],\n",
       "         [0.71043498],\n",
       "         [0.15537433],\n",
       "         [0.15537433],\n",
       "         [0.62724011],\n",
       "         [0.62724011],\n",
       "         [0.83694836],\n",
       "         [0.83694836],\n",
       "         [0.55383447],\n",
       "         [0.55383447],\n",
       "         [0.86410974],\n",
       "         [0.86410974],\n",
       "         [0.89896869],\n",
       "         [0.89896869],\n",
       "         [0.69857557],\n",
       "         [0.69857557],\n",
       "         [0.85012497],\n",
       "         [0.85012497],\n",
       "         [0.46786917],\n",
       "         [0.46786917],\n",
       "         [0.15406407],\n",
       "         [0.15406407],\n",
       "         [0.4956083 ],\n",
       "         [0.4956083 ],\n",
       "         [0.01971144],\n",
       "         [0.01971144],\n",
       "         [0.79136262],\n",
       "         [0.79136262],\n",
       "         [0.47016929],\n",
       "         [0.47016929],\n",
       "         [0.27405847],\n",
       "         [0.27405847],\n",
       "         [0.93822056],\n",
       "         [0.93822056],\n",
       "         [0.17859512],\n",
       "         [0.17859512],\n",
       "         [0.39600644],\n",
       "         [0.39600644],\n",
       "         [0.41198896],\n",
       "         [0.41198896],\n",
       "         [0.75387278],\n",
       "         [0.75387278],\n",
       "         [0.99116722],\n",
       "         [0.99116722],\n",
       "         [0.32706954],\n",
       "         [0.32706954],\n",
       "         [0.59990982],\n",
       "         [0.59990982],\n",
       "         [0.93689376],\n",
       "         [0.93689376],\n",
       "         [0.95554622],\n",
       "         [0.95554622],\n",
       "         [0.48605724],\n",
       "         [0.48605724],\n",
       "         [0.28151645],\n",
       "         [0.28151645],\n",
       "         [0.24076493],\n",
       "         [0.24076493],\n",
       "         [0.98886844],\n",
       "         [0.98886844],\n",
       "         [0.16703186],\n",
       "         [0.16703186],\n",
       "         [0.78888403],\n",
       "         [0.78888403],\n",
       "         [0.76761256],\n",
       "         [0.76761256],\n",
       "         [0.95435604],\n",
       "         [0.95435604],\n",
       "         [0.60147936],\n",
       "         [0.60147936],\n",
       "         [0.27930006],\n",
       "         [0.27930006],\n",
       "         [0.32272033],\n",
       "         [0.32272033],\n",
       "         [0.93877412],\n",
       "         [0.93877412],\n",
       "         [0.50745397],\n",
       "         [0.50745397],\n",
       "         [0.55804191],\n",
       "         [0.55804191],\n",
       "         [0.67085513],\n",
       "         [0.67085513],\n",
       "         [0.12590618],\n",
       "         [0.12590618],\n",
       "         [0.56440818],\n",
       "         [0.56440818],\n",
       "         [0.64017292],\n",
       "         [0.64017292],\n",
       "         [0.24506802],\n",
       "         [0.24506802],\n",
       "         [0.95458364],\n",
       "         [0.95458364],\n",
       "         [0.53824084],\n",
       "         [0.53824084],\n",
       "         [0.18051803],\n",
       "         [0.18051803],\n",
       "         [0.70536933],\n",
       "         [0.70536933],\n",
       "         [0.96282361],\n",
       "         [0.96282361],\n",
       "         [0.02509194],\n",
       "         [0.02509194],\n",
       "         [0.94339709],\n",
       "         [0.94339709],\n",
       "         [0.04165952],\n",
       "         [0.04165952],\n",
       "         [0.41286393],\n",
       "         [0.41286393],\n",
       "         [0.54190845],\n",
       "         [0.54190845],\n",
       "         [0.9200711 ],\n",
       "         [0.9200711 ],\n",
       "         [0.1133134 ],\n",
       "         [0.1133134 ],\n",
       "         [0.51298393],\n",
       "         [0.51298393],\n",
       "         [0.59779095],\n",
       "         [0.59779095],\n",
       "         [0.87496273],\n",
       "         [0.87496273],\n",
       "         [0.03744349],\n",
       "         [0.03744349],\n",
       "         [0.61605593],\n",
       "         [0.61605593],\n",
       "         [0.38789196],\n",
       "         [0.38789196],\n",
       "         [0.01500171],\n",
       "         [0.01500171],\n",
       "         [0.64325428],\n",
       "         [0.64325428],\n",
       "         [0.57979046],\n",
       "         [0.57979046],\n",
       "         [0.14514447],\n",
       "         [0.14514447],\n",
       "         [0.3365387 ],\n",
       "         [0.3365387 ],\n",
       "         [0.62618332],\n",
       "         [0.62618332],\n",
       "         [0.09891447],\n",
       "         [0.09891447],\n",
       "         [0.57709213],\n",
       "         [0.57709213]])}}"
      ]
     },
     "execution_count": 1,
     "metadata": {},
     "output_type": "execute_result"
    }
   ],
   "source": [
    "ds = load_by_id(run_id_a)\n",
    "ds.get_parameter_data('x1')"
   ]
  },
  {
   "cell_type": "code",
   "execution_count": null,
   "metadata": {},
   "outputs": [],
   "source": []
  }
 ],
 "metadata": {
  "kernelspec": {
   "display_name": "Python 3",
   "language": "python",
   "name": "python3"
  },
  "language_info": {
   "codemirror_mode": {
    "name": "ipython",
    "version": 3
   },
   "file_extension": ".py",
   "mimetype": "text/x-python",
   "name": "python",
   "nbconvert_exporter": "python",
   "pygments_lexer": "ipython3",
   "version": "3.7.10"
  },
  "nbsphinx": {
   "timeout": 600
  },
  "toc": {
   "base_numbering": 1,
   "nav_menu": {},
   "number_sections": true,
   "sideBar": true,
   "skip_h1_title": false,
   "title_cell": "Table of Contents",
   "title_sidebar": "Contents",
   "toc_cell": false,
   "toc_position": {},
   "toc_section_display": true,
   "toc_window_display": false
  },
  "varInspector": {
   "cols": {
    "lenName": 16,
    "lenType": 16,
    "lenVar": 40
   },
   "kernels_config": {
    "python": {
     "delete_cmd_postfix": "",
     "delete_cmd_prefix": "del ",
     "library": "var_list.py",
     "varRefreshCmd": "print(var_dic_list())"
    },
    "r": {
     "delete_cmd_postfix": ") ",
     "delete_cmd_prefix": "rm(",
     "library": "var_list.r",
     "varRefreshCmd": "cat(var_dic_list()) "
    }
   },
   "types_to_exclude": [
    "module",
    "function",
    "builtin_function_or_method",
    "instance",
    "_Feature"
   ],
   "window_display": false
  }
 },
 "nbformat": 4,
 "nbformat_minor": 4
}
