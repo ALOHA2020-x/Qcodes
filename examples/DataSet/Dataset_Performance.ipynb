{
 "cells": [
  {
   "cell_type": "markdown",
   "metadata": {},
   "source": [
    "# DataSet Performance\n",
    "\n",
    "This notebook shows the trade-off between inserting data into a database row-by-row and as binary blobs. Inserting the data row-by-row means that we have direct access to all the data and may perform queries directly on the values of the data. On the other hand, as we shall see, this is much slower than inserting the data directly as binary blobs."
   ]
  },
  {
   "cell_type": "markdown",
   "metadata": {},
   "source": [
    "First, we choose a new location for the database to ensure that we don't add a bunch of benchmarking data to the default one."
   ]
  },
  {
   "cell_type": "code",
   "execution_count": 1,
   "metadata": {
    "execution": {
     "iopub.execute_input": "2020-12-09T09:38:37.510901Z",
     "iopub.status.busy": "2020-12-09T09:38:37.509992Z",
     "iopub.status.idle": "2020-12-09T09:38:38.519617Z",
     "shell.execute_reply": "2020-12-09T09:38:38.520053Z"
    }
   },
   "outputs": [
    {
     "name": "stdout",
     "output_type": "stream",
     "text": [
      "Logging hadn't been started.\n",
      "Activating auto-logging. Current session state plus future input saved.\n",
      "Filename       : /home/vsts/.qcodes/logs/command_history.log\n",
      "Mode           : append\n",
      "Output logging : True\n",
      "Raw input log  : False\n",
      "Timestamping   : True\n",
      "State          : active\n"
     ]
    },
    {
     "name": "stdout",
     "output_type": "stream",
     "text": [
      "Qcodes Logfile : /home/vsts/.qcodes/logs/201209-14158-qcodes.log\n"
     ]
    }
   ],
   "source": [
    "import os\n",
    "cwd = os.getcwd()\n",
    "import qcodes as qc\n",
    "qc.config[\"core\"][\"db_location\"] = os.path.join(cwd, 'testing.db')\n"
   ]
  },
  {
   "cell_type": "code",
   "execution_count": 2,
   "metadata": {
    "execution": {
     "iopub.execute_input": "2020-12-09T09:38:38.526533Z",
     "iopub.status.busy": "2020-12-09T09:38:38.525362Z",
     "iopub.status.idle": "2020-12-09T09:38:38.693311Z",
     "shell.execute_reply": "2020-12-09T09:38:38.692321Z"
    }
   },
   "outputs": [],
   "source": [
    "%matplotlib inline\n",
    "import time\n",
    "import matplotlib.pyplot as plt\n",
    "import numpy as np\n",
    "\n",
    "import qcodes as qc\n",
    "from qcodes.instrument.parameter import ManualParameter\n",
    "from qcodes.dataset.experiment_container import (Experiment,\n",
    "                                                 load_last_experiment,\n",
    "                                                 new_experiment)\n",
    "from qcodes.dataset.sqlite.database import initialise_database\n",
    "from qcodes import load_or_create_experiment\n",
    "from qcodes.dataset.measurements import Measurement"
   ]
  },
  {
   "cell_type": "code",
   "execution_count": 3,
   "metadata": {
    "execution": {
     "iopub.execute_input": "2020-12-09T09:38:38.697209Z",
     "iopub.status.busy": "2020-12-09T09:38:38.696673Z",
     "iopub.status.idle": "2020-12-09T09:38:38.802724Z",
     "shell.execute_reply": "2020-12-09T09:38:38.802113Z"
    }
   },
   "outputs": [
    {
     "name": "stdout",
     "output_type": "stream",
     "text": [
      "\r",
      "0it [00:00, ?it/s]"
     ]
    },
    {
     "name": "stdout",
     "output_type": "stream",
     "text": [
      "\r",
      "Upgrading database; v0 -> v1: : 0it [00:00, ?it/s]"
     ]
    },
    {
     "name": "stdout",
     "output_type": "stream",
     "text": [
      "\r",
      "Upgrading database; v0 -> v1: : 0it [00:00, ?it/s]"
     ]
    },
    {
     "name": "stdout",
     "output_type": "stream",
     "text": [
      "\n",
      "\r",
      "  0%|          | 0/1 [00:00<?, ?it/s]"
     ]
    },
    {
     "name": "stdout",
     "output_type": "stream",
     "text": [
      "\r",
      "Upgrading database; v1 -> v2:   0%|          | 0/1 [00:00<?, ?it/s]"
     ]
    },
    {
     "name": "stdout",
     "output_type": "stream",
     "text": [
      "\r",
      "Upgrading database; v1 -> v2: 100%|██████████| 1/1 [00:00<00:00, 467.02it/s]"
     ]
    },
    {
     "name": "stdout",
     "output_type": "stream",
     "text": [
      "\n",
      "\r",
      "0it [00:00, ?it/s]"
     ]
    },
    {
     "name": "stdout",
     "output_type": "stream",
     "text": [
      "\r",
      "Upgrading database; v2 -> v3: : 0it [00:00, ?it/s]"
     ]
    },
    {
     "name": "stdout",
     "output_type": "stream",
     "text": [
      "\r",
      "Upgrading database; v2 -> v3: : 0it [00:00, ?it/s]"
     ]
    },
    {
     "name": "stdout",
     "output_type": "stream",
     "text": [
      "\n",
      "\r",
      "0it [00:00, ?it/s]"
     ]
    },
    {
     "name": "stdout",
     "output_type": "stream",
     "text": [
      "\r",
      "Upgrading database; v3 -> v4: : 0it [00:00, ?it/s]"
     ]
    },
    {
     "name": "stdout",
     "output_type": "stream",
     "text": [
      "\r",
      "Upgrading database; v3 -> v4: : 0it [00:00, ?it/s]"
     ]
    },
    {
     "name": "stdout",
     "output_type": "stream",
     "text": [
      "\n",
      "\r",
      "  0%|          | 0/1 [00:00<?, ?it/s]"
     ]
    },
    {
     "name": "stdout",
     "output_type": "stream",
     "text": [
      "\r",
      "Upgrading database; v4 -> v5:   0%|          | 0/1 [00:00<?, ?it/s]"
     ]
    },
    {
     "name": "stdout",
     "output_type": "stream",
     "text": [
      "\r",
      "Upgrading database; v4 -> v5: 100%|██████████| 1/1 [00:00<00:00, 515.33it/s]"
     ]
    },
    {
     "name": "stdout",
     "output_type": "stream",
     "text": [
      "\n",
      "\r",
      "0it [00:00, ?it/s]"
     ]
    },
    {
     "name": "stdout",
     "output_type": "stream",
     "text": [
      "\r",
      "Upgrading database; v5 -> v6: : 0it [00:00, ?it/s]"
     ]
    },
    {
     "name": "stdout",
     "output_type": "stream",
     "text": [
      "\r",
      "Upgrading database; v5 -> v6: : 0it [00:00, ?it/s]"
     ]
    },
    {
     "name": "stdout",
     "output_type": "stream",
     "text": [
      "\n",
      "\r",
      "  0%|          | 0/1 [00:00<?, ?it/s]"
     ]
    },
    {
     "name": "stdout",
     "output_type": "stream",
     "text": [
      "\r",
      "Upgrading database; v6 -> v7:   0%|          | 0/1 [00:00<?, ?it/s]"
     ]
    },
    {
     "name": "stdout",
     "output_type": "stream",
     "text": [
      "\r",
      "Upgrading database; v6 -> v7: 100%|██████████| 1/1 [00:00<00:00, 283.84it/s]"
     ]
    },
    {
     "name": "stdout",
     "output_type": "stream",
     "text": [
      "\n",
      "\r",
      "  0%|          | 0/1 [00:00<?, ?it/s]"
     ]
    },
    {
     "name": "stdout",
     "output_type": "stream",
     "text": [
      "\r",
      "Upgrading database; v7 -> v8:   0%|          | 0/1 [00:00<?, ?it/s]"
     ]
    },
    {
     "name": "stdout",
     "output_type": "stream",
     "text": [
      "\r",
      "Upgrading database; v7 -> v8: 100%|██████████| 1/1 [00:00<00:00, 387.89it/s]"
     ]
    },
    {
     "name": "stdout",
     "output_type": "stream",
     "text": [
      "\n",
      "\r",
      "  0%|          | 0/1 [00:00<?, ?it/s]"
     ]
    },
    {
     "name": "stdout",
     "output_type": "stream",
     "text": [
      "\r",
      "Upgrading database; v8 -> v9:   0%|          | 0/1 [00:00<?, ?it/s]"
     ]
    },
    {
     "name": "stdout",
     "output_type": "stream",
     "text": [
      "\r",
      "Upgrading database; v8 -> v9: 100%|██████████| 1/1 [00:00<00:00, 479.62it/s]"
     ]
    },
    {
     "name": "stdout",
     "output_type": "stream",
     "text": [
      "\n"
     ]
    }
   ],
   "source": [
    "initialise_database()\n",
    "exp = load_or_create_experiment(experiment_name='tutorial_exp', sample_name=\"no sample\")"
   ]
  },
  {
   "cell_type": "markdown",
   "metadata": {},
   "source": [
    "Here, we define a simple function to benchmark the time it takes to insert n points with either numeric or array data type.\n",
    "We will compare both the time used to call ``add_result`` and the time used for the full measurement."
   ]
  },
  {
   "cell_type": "code",
   "execution_count": 4,
   "metadata": {
    "execution": {
     "iopub.execute_input": "2020-12-09T09:38:38.810787Z",
     "iopub.status.busy": "2020-12-09T09:38:38.810251Z",
     "iopub.status.idle": "2020-12-09T09:38:38.813436Z",
     "shell.execute_reply": "2020-12-09T09:38:38.812977Z"
    }
   },
   "outputs": [],
   "source": [
    "def insert_data(paramtype, npoints, nreps=1):\n",
    "\n",
    "    meas = Measurement(exp=exp)\n",
    "\n",
    "    x1 = ManualParameter('x1')\n",
    "    x2 = ManualParameter('x2')\n",
    "    x3 = ManualParameter('x3')\n",
    "    y1 = ManualParameter('y1')\n",
    "    y2 = ManualParameter('y2')\n",
    "\n",
    "    meas.register_parameter(x1, paramtype=paramtype)\n",
    "    meas.register_parameter(x2, paramtype=paramtype)\n",
    "    meas.register_parameter(x3, paramtype=paramtype)\n",
    "    meas.register_parameter(y1, setpoints=[x1, x2, x3],\n",
    "                            paramtype=paramtype)\n",
    "    meas.register_parameter(y2, setpoints=[x1, x2, x3],\n",
    "                            paramtype=paramtype)\n",
    "    start = time.perf_counter()\n",
    "    with meas.run() as datasaver:\n",
    "        start_adding = time.perf_counter()\n",
    "        for i in range(nreps):\n",
    "            datasaver.add_result((x1, np.random.rand(npoints)),\n",
    "                                 (x2, np.random.rand(npoints)),\n",
    "                                 (x3, np.random.rand(npoints)),\n",
    "                                 (y1, np.random.rand(npoints)),\n",
    "                                 (y2, np.random.rand(npoints)))\n",
    "        stop_adding = time.perf_counter()\n",
    "        run_id = datasaver.run_id\n",
    "    stop = time.perf_counter()\n",
    "    tot_time = stop - start\n",
    "    add_time = stop_adding - start_adding\n",
    "    return tot_time, add_time, run_id"
   ]
  },
  {
   "cell_type": "markdown",
   "metadata": {},
   "source": [
    "## Comparison between numeric/array data and binary blob"
   ]
  },
  {
   "cell_type": "markdown",
   "metadata": {},
   "source": [
    "### Case1: Short experiment time"
   ]
  },
  {
   "cell_type": "code",
   "execution_count": 5,
   "metadata": {
    "execution": {
     "iopub.execute_input": "2020-12-09T09:38:38.818743Z",
     "iopub.status.busy": "2020-12-09T09:38:38.818179Z",
     "iopub.status.idle": "2020-12-09T09:38:39.619105Z",
     "shell.execute_reply": "2020-12-09T09:38:39.618549Z"
    }
   },
   "outputs": [
    {
     "name": "stdout",
     "output_type": "stream",
     "text": [
      "Starting experimental run with id: 1. \n",
      "Starting experimental run with id: 2. \n",
      "Starting experimental run with id: 3. \n",
      "Starting experimental run with id: 4. \n",
      "Starting experimental run with id: 5. \n"
     ]
    },
    {
     "name": "stdout",
     "output_type": "stream",
     "text": [
      "Starting experimental run with id: 6. \n"
     ]
    },
    {
     "name": "stdout",
     "output_type": "stream",
     "text": [
      "Starting experimental run with id: 7. \n"
     ]
    },
    {
     "name": "stdout",
     "output_type": "stream",
     "text": [
      "Starting experimental run with id: 8. \n",
      "Starting experimental run with id: 9. \n"
     ]
    },
    {
     "name": "stdout",
     "output_type": "stream",
     "text": [
      "Starting experimental run with id: 10. \n",
      "Starting experimental run with id: 11. \n"
     ]
    },
    {
     "name": "stdout",
     "output_type": "stream",
     "text": [
      "Starting experimental run with id: 12. \n",
      "Starting experimental run with id: 13. \n"
     ]
    },
    {
     "name": "stdout",
     "output_type": "stream",
     "text": [
      "Starting experimental run with id: 14. \n"
     ]
    }
   ],
   "source": [
    "sizes = [1,500,1000,2000,3000,4000,5000]\n",
    "t_numeric = []\n",
    "t_numeric_add = []\n",
    "t_array = []\n",
    "t_array_add = []\n",
    "for size in sizes:\n",
    "    tn, tna, run_id_n =  insert_data('numeric', size)\n",
    "    t_numeric.append(tn)\n",
    "    t_numeric_add.append(tna)\n",
    "\n",
    "    ta, taa, run_id_a =  insert_data('array', size)\n",
    "    t_array.append(ta)\n",
    "    t_array_add.append(taa)"
   ]
  },
  {
   "cell_type": "code",
   "execution_count": 6,
   "metadata": {
    "execution": {
     "iopub.execute_input": "2020-12-09T09:38:39.658820Z",
     "iopub.status.busy": "2020-12-09T09:38:39.647202Z",
     "iopub.status.idle": "2020-12-09T09:38:39.826599Z",
     "shell.execute_reply": "2020-12-09T09:38:39.825776Z"
    }
   },
   "outputs": [
    {
     "data": {
      "image/png": "[encoded data removed]",
      "text/plain": [
       "<Figure size 432x288 with 1 Axes>"
      ]
     },
     "metadata": {
      "needs_background": "light"
     },
     "output_type": "display_data"
    }
   ],
   "source": [
    "fig, ax = plt.subplots(1,1)\n",
    "ax.plot(sizes, t_numeric, 'o-', label='Inserting row-by-row')\n",
    "ax.plot(sizes, t_numeric_add, 'o-', label='Inserting row-by-row: add_result only')\n",
    "ax.plot(sizes, t_array, 'd-', label='Inserting as binary blob')\n",
    "ax.plot(sizes, t_array_add, 'd-', label='Inserting as binary blob: add_result only')\n",
    "ax.legend()\n",
    "ax.set_xlabel('Array length')\n",
    "ax.set_ylabel('Time (s)')\n",
    "fig.tight_layout()"
   ]
  },
  {
   "cell_type": "markdown",
   "metadata": {},
   "source": [
    "As shown in the latter figure, the time to setup and and close the experiment is approximately 0.4 sec. In case of small array sizes, the difference between inserting values of data as arrays and inserting them row-by-row is relatively unimportant. At larger array sizes, i.e. above 10000 points, the cost of writing data as individual datapoints starts to become important.\n"
   ]
  },
  {
   "cell_type": "markdown",
   "metadata": {},
   "source": [
    "### Case2: Long experiment time "
   ]
  },
  {
   "cell_type": "code",
   "execution_count": 7,
   "metadata": {
    "execution": {
     "iopub.execute_input": "2020-12-09T09:38:39.833436Z",
     "iopub.status.busy": "2020-12-09T09:38:39.832281Z",
     "iopub.status.idle": "2020-12-09T09:39:39.117541Z",
     "shell.execute_reply": "2020-12-09T09:39:39.118109Z"
    }
   },
   "outputs": [
    {
     "name": "stdout",
     "output_type": "stream",
     "text": [
      "Starting experimental run with id: 15. \n",
      "Starting experimental run with id: 16. \n",
      "Starting experimental run with id: 17. \n"
     ]
    },
    {
     "name": "stdout",
     "output_type": "stream",
     "text": [
      "Starting experimental run with id: 18. \n",
      "Starting experimental run with id: 19. \n"
     ]
    },
    {
     "name": "stdout",
     "output_type": "stream",
     "text": [
      "Starting experimental run with id: 20. \n"
     ]
    },
    {
     "name": "stdout",
     "output_type": "stream",
     "text": [
      "Starting experimental run with id: 21. \n"
     ]
    },
    {
     "name": "stdout",
     "output_type": "stream",
     "text": [
      "Starting experimental run with id: 22. \n"
     ]
    },
    {
     "name": "stdout",
     "output_type": "stream",
     "text": [
      "Starting experimental run with id: 23. \n"
     ]
    },
    {
     "name": "stdout",
     "output_type": "stream",
     "text": [
      "Starting experimental run with id: 24. \n"
     ]
    },
    {
     "name": "stdout",
     "output_type": "stream",
     "text": [
      "Starting experimental run with id: 25. \n"
     ]
    },
    {
     "name": "stdout",
     "output_type": "stream",
     "text": [
      "Starting experimental run with id: 26. \n"
     ]
    },
    {
     "name": "stdout",
     "output_type": "stream",
     "text": [
      "Starting experimental run with id: 27. \n"
     ]
    },
    {
     "name": "stdout",
     "output_type": "stream",
     "text": [
      "Starting experimental run with id: 28. \n"
     ]
    }
   ],
   "source": [
    "sizes = [1,500,1000,2000,3000,4000,5000]\n",
    "nreps = 100\n",
    "t_numeric = []\n",
    "t_numeric_add = []\n",
    "t_numeric_run_ids = []\n",
    "t_array = []\n",
    "t_array_add = []\n",
    "t_array_run_ids = []\n",
    "for size in sizes:\n",
    "    tn, tna, run_id_n =  insert_data('numeric', size, nreps=nreps)\n",
    "    t_numeric.append(tn)\n",
    "    t_numeric_add.append(tna)\n",
    "    t_numeric_run_ids.append(run_id_n)\n",
    "\n",
    "    ta, taa, run_id_a =  insert_data('array', size, nreps=nreps)\n",
    "    t_array.append(ta)\n",
    "    t_array_add.append(taa)\n",
    "    t_array_run_ids.append(run_id_a)"
   ]
  },
  {
   "cell_type": "code",
   "execution_count": 8,
   "metadata": {
    "execution": {
     "iopub.execute_input": "2020-12-09T09:39:39.146547Z",
     "iopub.status.busy": "2020-12-09T09:39:39.144297Z",
     "iopub.status.idle": "2020-12-09T09:39:39.312523Z",
     "shell.execute_reply": "2020-12-09T09:39:39.313226Z"
    },
    "scrolled": true
   },
   "outputs": [
    {
     "data": {
      "image/png": "[encoded data removed]",
      "text/plain": [
       "<Figure size 432x288 with 1 Axes>"
      ]
     },
     "metadata": {
      "needs_background": "light"
     },
     "output_type": "display_data"
    }
   ],
   "source": [
    "fig, ax = plt.subplots(1,1)\n",
    "ax.plot(sizes, t_numeric, 'o-', label='Inserting row-by-row')\n",
    "ax.plot(sizes, t_numeric_add, 'o-', label='Inserting row-by-row: add_result only')\n",
    "ax.plot(sizes, t_array, 'd-', label='Inserting as binary blob')\n",
    "ax.plot(sizes, t_array_add, 'd-', label='Inserting as binary blob: add_result only')\n",
    "ax.legend()\n",
    "ax.set_xlabel('Array length')\n",
    "ax.set_ylabel('Time (s)')\n",
    "fig.tight_layout()"
   ]
  },
  {
   "cell_type": "markdown",
   "metadata": {},
   "source": [
    "However, as we increase the length of the experiment, as seen here by repeating the insertion 100 times, we see a big difference between inserting values of the data row-by-row and inserting it as a binary blob."
   ]
  },
  {
   "cell_type": "markdown",
   "metadata": {},
   "source": [
    "## Loading the data "
   ]
  },
  {
   "cell_type": "code",
   "execution_count": 9,
   "metadata": {
    "execution": {
     "iopub.execute_input": "2020-12-09T09:39:39.316989Z",
     "iopub.status.busy": "2020-12-09T09:39:39.315949Z",
     "iopub.status.idle": "2020-12-09T09:39:39.320052Z",
     "shell.execute_reply": "2020-12-09T09:39:39.320462Z"
    }
   },
   "outputs": [],
   "source": [
    "from qcodes.dataset.data_set import load_by_id\n",
    "from qcodes.dataset.data_export import get_data_by_id"
   ]
  },
  {
   "cell_type": "markdown",
   "metadata": {},
   "source": [
    "As usual you can load the data by using the ``load_by_id`` function but you will notice that the different storage methods\n",
    "are reflected in shape of the data as it is retrieved. "
   ]
  },
  {
   "cell_type": "code",
   "execution_count": 10,
   "metadata": {
    "execution": {
     "iopub.execute_input": "2020-12-09T09:39:39.323993Z",
     "iopub.status.busy": "2020-12-09T09:39:39.323479Z",
     "iopub.status.idle": "2020-12-09T09:39:39.326800Z",
     "shell.execute_reply": "2020-12-09T09:39:39.326345Z"
    }
   },
   "outputs": [],
   "source": [
    "run_id_n = t_numeric_run_ids[0]\n",
    "run_id_a = t_array_run_ids[0]"
   ]
  },
  {
   "cell_type": "code",
   "execution_count": 11,
   "metadata": {
    "execution": {
     "iopub.execute_input": "2020-12-09T09:39:39.329844Z",
     "iopub.status.busy": "2020-12-09T09:39:39.329321Z",
     "iopub.status.idle": "2020-12-09T09:39:39.338785Z",
     "shell.execute_reply": "2020-12-09T09:39:39.338325Z"
    },
    "scrolled": true
   },
   "outputs": [
    {
     "data": {
      "text/plain": [
       "{'x1': {'x1': array([0.59025096, 0.59025096, 0.40548223, 0.40548223, 0.0943428 ,\n",
       "         0.0943428 , 0.086149  , 0.086149  , 0.33937268, 0.33937268,\n",
       "         0.93649768, 0.93649768, 0.54314153, 0.54314153, 0.1723263 ,\n",
       "         0.1723263 , 0.71697119, 0.71697119, 0.52027963, 0.52027963,\n",
       "         0.61701484, 0.61701484, 0.30801183, 0.30801183, 0.61901339,\n",
       "         0.61901339, 0.95888087, 0.95888087, 0.87885972, 0.87885972,\n",
       "         0.39672663, 0.39672663, 0.94323566, 0.94323566, 0.93991431,\n",
       "         0.93991431, 0.17786176, 0.17786176, 0.2984017 , 0.2984017 ,\n",
       "         0.74662963, 0.74662963, 0.5931969 , 0.5931969 , 0.58847118,\n",
       "         0.58847118, 0.29194701, 0.29194701, 0.61243164, 0.61243164,\n",
       "         0.32961637, 0.32961637, 0.45940737, 0.45940737, 0.28973969,\n",
       "         0.28973969, 0.88398258, 0.88398258, 0.00860021, 0.00860021,\n",
       "         0.35434244, 0.35434244, 0.85342162, 0.85342162, 0.68716088,\n",
       "         0.68716088, 0.98144482, 0.98144482, 0.06221658, 0.06221658,\n",
       "         0.45506588, 0.45506588, 0.56169653, 0.56169653, 0.06225758,\n",
       "         0.06225758, 0.55845273, 0.55845273, 0.87603871, 0.87603871,\n",
       "         0.78537034, 0.78537034, 0.60473175, 0.60473175, 0.37083288,\n",
       "         0.37083288, 0.09201859, 0.09201859, 0.31881763, 0.31881763,\n",
       "         0.05475784, 0.05475784, 0.42047169, 0.42047169, 0.70713123,\n",
       "         0.70713123, 0.84840455, 0.84840455, 0.28781207, 0.28781207,\n",
       "         0.2830254 , 0.2830254 , 0.61127314, 0.61127314, 0.51735187,\n",
       "         0.51735187, 0.73247263, 0.73247263, 0.24117682, 0.24117682,\n",
       "         0.98422733, 0.98422733, 0.85709856, 0.85709856, 0.97850178,\n",
       "         0.97850178, 0.63228199, 0.63228199, 0.60215473, 0.60215473,\n",
       "         0.85950324, 0.85950324, 0.87661177, 0.87661177, 0.64182671,\n",
       "         0.64182671, 0.80393865, 0.80393865, 0.20060133, 0.20060133,\n",
       "         0.46722346, 0.46722346, 0.98412154, 0.98412154, 0.40520957,\n",
       "         0.40520957, 0.4634749 , 0.4634749 , 0.45112877, 0.45112877,\n",
       "         0.99771111, 0.99771111, 0.89555956, 0.89555956, 0.57431997,\n",
       "         0.57431997, 0.83463188, 0.83463188, 0.26714345, 0.26714345,\n",
       "         0.50425824, 0.50425824, 0.94588565, 0.94588565, 0.50407953,\n",
       "         0.50407953, 0.88134314, 0.88134314, 0.39737966, 0.39737966,\n",
       "         0.41129518, 0.41129518, 0.92116059, 0.92116059, 0.29917985,\n",
       "         0.29917985, 0.90833198, 0.90833198, 0.71523627, 0.71523627,\n",
       "         0.53295633, 0.53295633, 0.34103372, 0.34103372, 0.61628101,\n",
       "         0.61628101, 0.5226    , 0.5226    , 0.633765  , 0.633765  ,\n",
       "         0.9722513 , 0.9722513 , 0.79951714, 0.79951714, 0.57070378,\n",
       "         0.57070378, 0.08511389, 0.08511389, 0.88547952, 0.88547952,\n",
       "         0.70202319, 0.70202319, 0.10187407, 0.10187407, 0.86693502,\n",
       "         0.86693502, 0.94331354, 0.94331354, 0.11942619, 0.11942619])}}"
      ]
     },
     "execution_count": 1,
     "metadata": {},
     "output_type": "execute_result"
    }
   ],
   "source": [
    "ds = load_by_id(run_id_n)\n",
    "ds.get_parameter_data('x1')"
   ]
  },
  {
   "cell_type": "markdown",
   "metadata": {},
   "source": [
    "And a dataset stored as binary arrays"
   ]
  },
  {
   "cell_type": "code",
   "execution_count": 12,
   "metadata": {
    "execution": {
     "iopub.execute_input": "2020-12-09T09:39:39.341875Z",
     "iopub.status.busy": "2020-12-09T09:39:39.341348Z",
     "iopub.status.idle": "2020-12-09T09:39:39.391992Z",
     "shell.execute_reply": "2020-12-09T09:39:39.392541Z"
    },
    "scrolled": true
   },
   "outputs": [
    {
     "data": {
      "text/plain": [
       "{'x1': {'x1': array([[0.37725213],\n",
       "         [0.37725213],\n",
       "         [0.78542172],\n",
       "         [0.78542172],\n",
       "         [0.28994305],\n",
       "         [0.28994305],\n",
       "         [0.2941302 ],\n",
       "         [0.2941302 ],\n",
       "         [0.01354184],\n",
       "         [0.01354184],\n",
       "         [0.64593521],\n",
       "         [0.64593521],\n",
       "         [0.28553772],\n",
       "         [0.28553772],\n",
       "         [0.97421945],\n",
       "         [0.97421945],\n",
       "         [0.55606444],\n",
       "         [0.55606444],\n",
       "         [0.87167722],\n",
       "         [0.87167722],\n",
       "         [0.51389287],\n",
       "         [0.51389287],\n",
       "         [0.4307074 ],\n",
       "         [0.4307074 ],\n",
       "         [0.45183852],\n",
       "         [0.45183852],\n",
       "         [0.0150347 ],\n",
       "         [0.0150347 ],\n",
       "         [0.2450477 ],\n",
       "         [0.2450477 ],\n",
       "         [0.49507505],\n",
       "         [0.49507505],\n",
       "         [0.67308965],\n",
       "         [0.67308965],\n",
       "         [0.23171489],\n",
       "         [0.23171489],\n",
       "         [0.47716401],\n",
       "         [0.47716401],\n",
       "         [0.07803474],\n",
       "         [0.07803474],\n",
       "         [0.33748958],\n",
       "         [0.33748958],\n",
       "         [0.62388297],\n",
       "         [0.62388297],\n",
       "         [0.915058  ],\n",
       "         [0.915058  ],\n",
       "         [0.87125808],\n",
       "         [0.87125808],\n",
       "         [0.92857724],\n",
       "         [0.92857724],\n",
       "         [0.08889008],\n",
       "         [0.08889008],\n",
       "         [0.66959757],\n",
       "         [0.66959757],\n",
       "         [0.00133339],\n",
       "         [0.00133339],\n",
       "         [0.95448763],\n",
       "         [0.95448763],\n",
       "         [0.09056697],\n",
       "         [0.09056697],\n",
       "         [0.01478213],\n",
       "         [0.01478213],\n",
       "         [0.96530354],\n",
       "         [0.96530354],\n",
       "         [0.25098517],\n",
       "         [0.25098517],\n",
       "         [0.72659041],\n",
       "         [0.72659041],\n",
       "         [0.81460369],\n",
       "         [0.81460369],\n",
       "         [0.27065168],\n",
       "         [0.27065168],\n",
       "         [0.57074675],\n",
       "         [0.57074675],\n",
       "         [0.04273184],\n",
       "         [0.04273184],\n",
       "         [0.72528875],\n",
       "         [0.72528875],\n",
       "         [0.46788719],\n",
       "         [0.46788719],\n",
       "         [0.85209383],\n",
       "         [0.85209383],\n",
       "         [0.60809859],\n",
       "         [0.60809859],\n",
       "         [0.41908138],\n",
       "         [0.41908138],\n",
       "         [0.44968252],\n",
       "         [0.44968252],\n",
       "         [0.85338281],\n",
       "         [0.85338281],\n",
       "         [0.04587427],\n",
       "         [0.04587427],\n",
       "         [0.05070605],\n",
       "         [0.05070605],\n",
       "         [0.77387353],\n",
       "         [0.77387353],\n",
       "         [0.56466885],\n",
       "         [0.56466885],\n",
       "         [0.22891917],\n",
       "         [0.22891917],\n",
       "         [0.15307163],\n",
       "         [0.15307163],\n",
       "         [0.22282217],\n",
       "         [0.22282217],\n",
       "         [0.76520727],\n",
       "         [0.76520727],\n",
       "         [0.14701262],\n",
       "         [0.14701262],\n",
       "         [0.45222906],\n",
       "         [0.45222906],\n",
       "         [0.99756643],\n",
       "         [0.99756643],\n",
       "         [0.95255873],\n",
       "         [0.95255873],\n",
       "         [0.33027905],\n",
       "         [0.33027905],\n",
       "         [0.92479392],\n",
       "         [0.92479392],\n",
       "         [0.591231  ],\n",
       "         [0.591231  ],\n",
       "         [0.28061646],\n",
       "         [0.28061646],\n",
       "         [0.37401511],\n",
       "         [0.37401511],\n",
       "         [0.87880995],\n",
       "         [0.87880995],\n",
       "         [0.20504987],\n",
       "         [0.20504987],\n",
       "         [0.95906957],\n",
       "         [0.95906957],\n",
       "         [0.21154343],\n",
       "         [0.21154343],\n",
       "         [0.33846311],\n",
       "         [0.33846311],\n",
       "         [0.84345125],\n",
       "         [0.84345125],\n",
       "         [0.0220701 ],\n",
       "         [0.0220701 ],\n",
       "         [0.37648123],\n",
       "         [0.37648123],\n",
       "         [0.84587277],\n",
       "         [0.84587277],\n",
       "         [0.27118885],\n",
       "         [0.27118885],\n",
       "         [0.5477598 ],\n",
       "         [0.5477598 ],\n",
       "         [0.34949647],\n",
       "         [0.34949647],\n",
       "         [0.17332451],\n",
       "         [0.17332451],\n",
       "         [0.97237392],\n",
       "         [0.97237392],\n",
       "         [0.55108472],\n",
       "         [0.55108472],\n",
       "         [0.64959423],\n",
       "         [0.64959423],\n",
       "         [0.69329674],\n",
       "         [0.69329674],\n",
       "         [0.60496758],\n",
       "         [0.60496758],\n",
       "         [0.05837399],\n",
       "         [0.05837399],\n",
       "         [0.43617345],\n",
       "         [0.43617345],\n",
       "         [0.06859727],\n",
       "         [0.06859727],\n",
       "         [0.27522209],\n",
       "         [0.27522209],\n",
       "         [0.16264208],\n",
       "         [0.16264208],\n",
       "         [0.02252652],\n",
       "         [0.02252652],\n",
       "         [0.16975192],\n",
       "         [0.16975192],\n",
       "         [0.2872128 ],\n",
       "         [0.2872128 ],\n",
       "         [0.78441666],\n",
       "         [0.78441666],\n",
       "         [0.8965641 ],\n",
       "         [0.8965641 ],\n",
       "         [0.46041204],\n",
       "         [0.46041204],\n",
       "         [0.90634016],\n",
       "         [0.90634016],\n",
       "         [0.32818808],\n",
       "         [0.32818808],\n",
       "         [0.80556735],\n",
       "         [0.80556735],\n",
       "         [0.2577432 ],\n",
       "         [0.2577432 ],\n",
       "         [0.6927495 ],\n",
       "         [0.6927495 ],\n",
       "         [0.43097927],\n",
       "         [0.43097927],\n",
       "         [0.18484494],\n",
       "         [0.18484494],\n",
       "         [0.37532731],\n",
       "         [0.37532731],\n",
       "         [0.36519969],\n",
       "         [0.36519969]])}}"
      ]
     },
     "execution_count": 1,
     "metadata": {},
     "output_type": "execute_result"
    }
   ],
   "source": [
    "ds = load_by_id(run_id_a)\n",
    "ds.get_parameter_data('x1')"
   ]
  },
  {
   "cell_type": "code",
   "execution_count": null,
   "metadata": {},
   "outputs": [],
   "source": []
  }
 ],
 "metadata": {
  "kernelspec": {
   "display_name": "Python 3",
   "language": "python",
   "name": "python3"
  },
  "language_info": {
   "codemirror_mode": {
    "name": "ipython",
    "version": 3
   },
   "file_extension": ".py",
   "mimetype": "text/x-python",
   "name": "python",
   "nbconvert_exporter": "python",
   "pygments_lexer": "ipython3",
   "version": "3.7.9"
  },
  "nbsphinx": {
   "timeout": 600
  },
  "toc": {
   "base_numbering": 1,
   "nav_menu": {},
   "number_sections": true,
   "sideBar": true,
   "skip_h1_title": false,
   "title_cell": "Table of Contents",
   "title_sidebar": "Contents",
   "toc_cell": false,
   "toc_position": {},
   "toc_section_display": true,
   "toc_window_display": false
  },
  "varInspector": {
   "cols": {
    "lenName": 16,
    "lenType": 16,
    "lenVar": 40
   },
   "kernels_config": {
    "python": {
     "delete_cmd_postfix": "",
     "delete_cmd_prefix": "del ",
     "library": "var_list.py",
     "varRefreshCmd": "print(var_dic_list())"
    },
    "r": {
     "delete_cmd_postfix": ") ",
     "delete_cmd_prefix": "rm(",
     "library": "var_list.r",
     "varRefreshCmd": "cat(var_dic_list()) "
    }
   },
   "types_to_exclude": [
    "module",
    "function",
    "builtin_function_or_method",
    "instance",
    "_Feature"
   ],
   "window_display": false
  }
 },
 "nbformat": 4,
 "nbformat_minor": 2
}
