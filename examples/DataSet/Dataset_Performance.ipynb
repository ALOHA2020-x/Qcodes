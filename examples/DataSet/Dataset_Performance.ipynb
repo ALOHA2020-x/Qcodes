{
 "cells": [
  {
   "cell_type": "markdown",
   "metadata": {},
   "source": [
    "# DataSet Performance\n",
    "\n",
    "This notebook shows the trade-off between inserting data into a database row-by-row and as binary blobs. Inserting the data row-by-row means that we have direct access to all the data and may perform queries directly on the values of the data. On the other hand, as we shall see, this is much slower than inserting the data directly as binary blobs."
   ]
  },
  {
   "cell_type": "markdown",
   "metadata": {},
   "source": [
    "First, we choose a new location for the database to ensure that we don't add a bunch of benchmarking data to the default one."
   ]
  },
  {
   "cell_type": "code",
   "execution_count": 1,
   "metadata": {
    "execution": {
     "iopub.execute_input": "2021-02-02T07:29:30.791125Z",
     "iopub.status.busy": "2021-02-02T07:29:30.790684Z",
     "iopub.status.idle": "2021-02-02T07:29:31.671321Z",
     "shell.execute_reply": "2021-02-02T07:29:31.670737Z"
    }
   },
   "outputs": [
    {
     "name": "stdout",
     "output_type": "stream",
     "text": [
      "Logging hadn't been started.\n",
      "Activating auto-logging. Current session state plus future input saved.\n",
      "Filename       : /home/vsts/.qcodes/logs/command_history.log\n",
      "Mode           : append\n",
      "Output logging : True\n",
      "Raw input log  : False\n",
      "Timestamping   : True\n",
      "State          : active\n"
     ]
    },
    {
     "name": "stdout",
     "output_type": "stream",
     "text": [
      "Qcodes Logfile : /home/vsts/.qcodes/logs/210202-14256-qcodes.log\n"
     ]
    }
   ],
   "source": [
    "import os\n",
    "cwd = os.getcwd()\n",
    "import qcodes as qc\n",
    "qc.config[\"core\"][\"db_location\"] = os.path.join(cwd, 'testing.db')\n"
   ]
  },
  {
   "cell_type": "code",
   "execution_count": 2,
   "metadata": {
    "execution": {
     "iopub.execute_input": "2021-02-02T07:29:31.677038Z",
     "iopub.status.busy": "2021-02-02T07:29:31.676581Z",
     "iopub.status.idle": "2021-02-02T07:29:31.837120Z",
     "shell.execute_reply": "2021-02-02T07:29:31.836634Z"
    }
   },
   "outputs": [],
   "source": [
    "%matplotlib inline\n",
    "import time\n",
    "import matplotlib.pyplot as plt\n",
    "import numpy as np\n",
    "\n",
    "import qcodes as qc\n",
    "from qcodes.instrument.parameter import ManualParameter\n",
    "from qcodes.dataset.experiment_container import (Experiment,\n",
    "                                                 load_last_experiment,\n",
    "                                                 new_experiment)\n",
    "from qcodes.dataset.sqlite.database import initialise_database\n",
    "from qcodes import load_or_create_experiment\n",
    "from qcodes.dataset.measurements import Measurement"
   ]
  },
  {
   "cell_type": "code",
   "execution_count": 3,
   "metadata": {
    "execution": {
     "iopub.execute_input": "2021-02-02T07:29:31.840958Z",
     "iopub.status.busy": "2021-02-02T07:29:31.840422Z",
     "iopub.status.idle": "2021-02-02T07:29:31.947753Z",
     "shell.execute_reply": "2021-02-02T07:29:31.948137Z"
    }
   },
   "outputs": [
    {
     "name": "stdout",
     "output_type": "stream",
     "text": [
      "\r",
      "0it [00:00, ?it/s]"
     ]
    },
    {
     "name": "stdout",
     "output_type": "stream",
     "text": [
      "\r",
      "Upgrading database; v0 -> v1: : 0it [00:00, ?it/s]"
     ]
    },
    {
     "name": "stdout",
     "output_type": "stream",
     "text": [
      "\r",
      "Upgrading database; v0 -> v1: : 0it [00:00, ?it/s]"
     ]
    },
    {
     "name": "stdout",
     "output_type": "stream",
     "text": [
      "\n",
      "\r",
      "  0%|          | 0/1 [00:00<?, ?it/s]"
     ]
    },
    {
     "name": "stdout",
     "output_type": "stream",
     "text": [
      "\r",
      "Upgrading database; v1 -> v2:   0%|          | 0/1 [00:00<?, ?it/s]"
     ]
    },
    {
     "name": "stdout",
     "output_type": "stream",
     "text": [
      "\r",
      "Upgrading database; v1 -> v2: 100%|██████████| 1/1 [00:00<00:00, 1316.48it/s]"
     ]
    },
    {
     "name": "stdout",
     "output_type": "stream",
     "text": [
      "\n",
      "\r",
      "0it [00:00, ?it/s]"
     ]
    },
    {
     "name": "stdout",
     "output_type": "stream",
     "text": [
      "\r",
      "Upgrading database; v2 -> v3: : 0it [00:00, ?it/s]"
     ]
    },
    {
     "name": "stdout",
     "output_type": "stream",
     "text": [
      "\r",
      "Upgrading database; v2 -> v3: : 0it [00:00, ?it/s]"
     ]
    },
    {
     "name": "stdout",
     "output_type": "stream",
     "text": [
      "\n",
      "\r",
      "0it [00:00, ?it/s]"
     ]
    },
    {
     "name": "stdout",
     "output_type": "stream",
     "text": [
      "\r",
      "Upgrading database; v3 -> v4: : 0it [00:00, ?it/s]"
     ]
    },
    {
     "name": "stdout",
     "output_type": "stream",
     "text": [
      "\r",
      "Upgrading database; v3 -> v4: : 0it [00:00, ?it/s]"
     ]
    },
    {
     "name": "stdout",
     "output_type": "stream",
     "text": [
      "\n",
      "\r",
      "  0%|          | 0/1 [00:00<?, ?it/s]"
     ]
    },
    {
     "name": "stdout",
     "output_type": "stream",
     "text": [
      "\r",
      "Upgrading database; v4 -> v5:   0%|          | 0/1 [00:00<?, ?it/s]"
     ]
    },
    {
     "name": "stdout",
     "output_type": "stream",
     "text": [
      "\r",
      "Upgrading database; v4 -> v5: 100%|██████████| 1/1 [00:00<00:00, 654.34it/s]"
     ]
    },
    {
     "name": "stdout",
     "output_type": "stream",
     "text": [
      "\n",
      "\r",
      "0it [00:00, ?it/s]"
     ]
    },
    {
     "name": "stdout",
     "output_type": "stream",
     "text": [
      "\r",
      "Upgrading database; v5 -> v6: : 0it [00:00, ?it/s]"
     ]
    },
    {
     "name": "stdout",
     "output_type": "stream",
     "text": [
      "\r",
      "Upgrading database; v5 -> v6: : 0it [00:00, ?it/s]"
     ]
    },
    {
     "name": "stdout",
     "output_type": "stream",
     "text": [
      "\n",
      "\r",
      "  0%|          | 0/1 [00:00<?, ?it/s]"
     ]
    },
    {
     "name": "stdout",
     "output_type": "stream",
     "text": [
      "\r",
      "Upgrading database; v6 -> v7:   0%|          | 0/1 [00:00<?, ?it/s]"
     ]
    },
    {
     "name": "stdout",
     "output_type": "stream",
     "text": [
      "\r",
      "Upgrading database; v6 -> v7: 100%|██████████| 1/1 [00:00<00:00, 284.01it/s]"
     ]
    },
    {
     "name": "stdout",
     "output_type": "stream",
     "text": [
      "\n",
      "\r",
      "  0%|          | 0/1 [00:00<?, ?it/s]"
     ]
    },
    {
     "name": "stdout",
     "output_type": "stream",
     "text": [
      "\r",
      "Upgrading database; v7 -> v8:   0%|          | 0/1 [00:00<?, ?it/s]"
     ]
    },
    {
     "name": "stdout",
     "output_type": "stream",
     "text": [
      "\r",
      "Upgrading database; v7 -> v8: 100%|██████████| 1/1 [00:00<00:00, 1101.45it/s]"
     ]
    },
    {
     "name": "stdout",
     "output_type": "stream",
     "text": [
      "\n",
      "\r",
      "  0%|          | 0/1 [00:00<?, ?it/s]"
     ]
    },
    {
     "name": "stdout",
     "output_type": "stream",
     "text": [
      "\r",
      "Upgrading database; v8 -> v9:   0%|          | 0/1 [00:00<?, ?it/s]"
     ]
    },
    {
     "name": "stdout",
     "output_type": "stream",
     "text": [
      "\r",
      "Upgrading database; v8 -> v9: 100%|██████████| 1/1 [00:00<00:00, 544.08it/s]"
     ]
    },
    {
     "name": "stdout",
     "output_type": "stream",
     "text": [
      "\n"
     ]
    }
   ],
   "source": [
    "initialise_database()\n",
    "exp = load_or_create_experiment(experiment_name='tutorial_exp', sample_name=\"no sample\")"
   ]
  },
  {
   "cell_type": "markdown",
   "metadata": {},
   "source": [
    "Here, we define a simple function to benchmark the time it takes to insert n points with either numeric or array data type.\n",
    "We will compare both the time used to call ``add_result`` and the time used for the full measurement."
   ]
  },
  {
   "cell_type": "code",
   "execution_count": 4,
   "metadata": {
    "execution": {
     "iopub.execute_input": "2021-02-02T07:29:31.955590Z",
     "iopub.status.busy": "2021-02-02T07:29:31.954851Z",
     "iopub.status.idle": "2021-02-02T07:29:31.957898Z",
     "shell.execute_reply": "2021-02-02T07:29:31.958250Z"
    }
   },
   "outputs": [],
   "source": [
    "def insert_data(paramtype, npoints, nreps=1):\n",
    "\n",
    "    meas = Measurement(exp=exp)\n",
    "\n",
    "    x1 = ManualParameter('x1')\n",
    "    x2 = ManualParameter('x2')\n",
    "    x3 = ManualParameter('x3')\n",
    "    y1 = ManualParameter('y1')\n",
    "    y2 = ManualParameter('y2')\n",
    "\n",
    "    meas.register_parameter(x1, paramtype=paramtype)\n",
    "    meas.register_parameter(x2, paramtype=paramtype)\n",
    "    meas.register_parameter(x3, paramtype=paramtype)\n",
    "    meas.register_parameter(y1, setpoints=[x1, x2, x3],\n",
    "                            paramtype=paramtype)\n",
    "    meas.register_parameter(y2, setpoints=[x1, x2, x3],\n",
    "                            paramtype=paramtype)\n",
    "    start = time.perf_counter()\n",
    "    with meas.run() as datasaver:\n",
    "        start_adding = time.perf_counter()\n",
    "        for i in range(nreps):\n",
    "            datasaver.add_result((x1, np.random.rand(npoints)),\n",
    "                                 (x2, np.random.rand(npoints)),\n",
    "                                 (x3, np.random.rand(npoints)),\n",
    "                                 (y1, np.random.rand(npoints)),\n",
    "                                 (y2, np.random.rand(npoints)))\n",
    "        stop_adding = time.perf_counter()\n",
    "        run_id = datasaver.run_id\n",
    "    stop = time.perf_counter()\n",
    "    tot_time = stop - start\n",
    "    add_time = stop_adding - start_adding\n",
    "    return tot_time, add_time, run_id"
   ]
  },
  {
   "cell_type": "markdown",
   "metadata": {},
   "source": [
    "## Comparison between numeric/array data and binary blob"
   ]
  },
  {
   "cell_type": "markdown",
   "metadata": {},
   "source": [
    "### Case1: Short experiment time"
   ]
  },
  {
   "cell_type": "code",
   "execution_count": 5,
   "metadata": {
    "execution": {
     "iopub.execute_input": "2021-02-02T07:29:31.964011Z",
     "iopub.status.busy": "2021-02-02T07:29:31.963521Z",
     "iopub.status.idle": "2021-02-02T07:29:32.644539Z",
     "shell.execute_reply": "2021-02-02T07:29:32.643809Z"
    }
   },
   "outputs": [
    {
     "name": "stdout",
     "output_type": "stream",
     "text": [
      "Starting experimental run with id: 1. \n",
      "Starting experimental run with id: 2. \n",
      "Starting experimental run with id: 3. \n",
      "Starting experimental run with id: 4. \n",
      "Starting experimental run with id: 5. \n",
      "Starting experimental run with id: 6. \n"
     ]
    },
    {
     "name": "stdout",
     "output_type": "stream",
     "text": [
      "Starting experimental run with id: 7. \n"
     ]
    },
    {
     "name": "stdout",
     "output_type": "stream",
     "text": [
      "Starting experimental run with id: 8. \n"
     ]
    },
    {
     "name": "stdout",
     "output_type": "stream",
     "text": [
      "Starting experimental run with id: 9. \n",
      "Starting experimental run with id: 10. \n",
      "Starting experimental run with id: 11. \n"
     ]
    },
    {
     "name": "stdout",
     "output_type": "stream",
     "text": [
      "Starting experimental run with id: 12. \n",
      "Starting experimental run with id: 13. \n"
     ]
    },
    {
     "name": "stdout",
     "output_type": "stream",
     "text": [
      "Starting experimental run with id: 14. \n"
     ]
    }
   ],
   "source": [
    "sizes = [1,500,1000,2000,3000,4000,5000]\n",
    "t_numeric = []\n",
    "t_numeric_add = []\n",
    "t_array = []\n",
    "t_array_add = []\n",
    "for size in sizes:\n",
    "    tn, tna, run_id_n =  insert_data('numeric', size)\n",
    "    t_numeric.append(tn)\n",
    "    t_numeric_add.append(tna)\n",
    "\n",
    "    ta, taa, run_id_a =  insert_data('array', size)\n",
    "    t_array.append(ta)\n",
    "    t_array_add.append(taa)"
   ]
  },
  {
   "cell_type": "code",
   "execution_count": 6,
   "metadata": {
    "execution": {
     "iopub.execute_input": "2021-02-02T07:29:32.666962Z",
     "iopub.status.busy": "2021-02-02T07:29:32.658981Z",
     "iopub.status.idle": "2021-02-02T07:29:32.822417Z",
     "shell.execute_reply": "2021-02-02T07:29:32.823060Z"
    }
   },
   "outputs": [
    {
     "data": {
      "image/png": "[encoded data removed]",
      "text/plain": [
       "<Figure size 432x288 with 1 Axes>"
      ]
     },
     "metadata": {
      "needs_background": "light"
     },
     "output_type": "display_data"
    }
   ],
   "source": [
    "fig, ax = plt.subplots(1,1)\n",
    "ax.plot(sizes, t_numeric, 'o-', label='Inserting row-by-row')\n",
    "ax.plot(sizes, t_numeric_add, 'o-', label='Inserting row-by-row: add_result only')\n",
    "ax.plot(sizes, t_array, 'd-', label='Inserting as binary blob')\n",
    "ax.plot(sizes, t_array_add, 'd-', label='Inserting as binary blob: add_result only')\n",
    "ax.legend()\n",
    "ax.set_xlabel('Array length')\n",
    "ax.set_ylabel('Time (s)')\n",
    "fig.tight_layout()"
   ]
  },
  {
   "cell_type": "markdown",
   "metadata": {},
   "source": [
    "As shown in the latter figure, the time to setup and and close the experiment is approximately 0.4 sec. In case of small array sizes, the difference between inserting values of data as arrays and inserting them row-by-row is relatively unimportant. At larger array sizes, i.e. above 10000 points, the cost of writing data as individual datapoints starts to become important.\n"
   ]
  },
  {
   "cell_type": "markdown",
   "metadata": {},
   "source": [
    "### Case2: Long experiment time "
   ]
  },
  {
   "cell_type": "code",
   "execution_count": 7,
   "metadata": {
    "execution": {
     "iopub.execute_input": "2021-02-02T07:29:32.829577Z",
     "iopub.status.busy": "2021-02-02T07:29:32.829113Z",
     "iopub.status.idle": "2021-02-02T07:30:22.415050Z",
     "shell.execute_reply": "2021-02-02T07:30:22.415438Z"
    }
   },
   "outputs": [
    {
     "name": "stdout",
     "output_type": "stream",
     "text": [
      "Starting experimental run with id: 15. \n",
      "Starting experimental run with id: 16. \n",
      "Starting experimental run with id: 17. \n"
     ]
    },
    {
     "name": "stdout",
     "output_type": "stream",
     "text": [
      "Starting experimental run with id: 18. \n",
      "Starting experimental run with id: 19. \n"
     ]
    },
    {
     "name": "stdout",
     "output_type": "stream",
     "text": [
      "Starting experimental run with id: 20. \n"
     ]
    },
    {
     "name": "stdout",
     "output_type": "stream",
     "text": [
      "Starting experimental run with id: 21. \n"
     ]
    },
    {
     "name": "stdout",
     "output_type": "stream",
     "text": [
      "Starting experimental run with id: 22. \n"
     ]
    },
    {
     "name": "stdout",
     "output_type": "stream",
     "text": [
      "Starting experimental run with id: 23. \n"
     ]
    },
    {
     "name": "stdout",
     "output_type": "stream",
     "text": [
      "Starting experimental run with id: 24. \n"
     ]
    },
    {
     "name": "stdout",
     "output_type": "stream",
     "text": [
      "Starting experimental run with id: 25. \n"
     ]
    },
    {
     "name": "stdout",
     "output_type": "stream",
     "text": [
      "Starting experimental run with id: 26. \n"
     ]
    },
    {
     "name": "stdout",
     "output_type": "stream",
     "text": [
      "Starting experimental run with id: 27. \n"
     ]
    },
    {
     "name": "stdout",
     "output_type": "stream",
     "text": [
      "Starting experimental run with id: 28. \n"
     ]
    }
   ],
   "source": [
    "sizes = [1,500,1000,2000,3000,4000,5000]\n",
    "nreps = 100\n",
    "t_numeric = []\n",
    "t_numeric_add = []\n",
    "t_numeric_run_ids = []\n",
    "t_array = []\n",
    "t_array_add = []\n",
    "t_array_run_ids = []\n",
    "for size in sizes:\n",
    "    tn, tna, run_id_n =  insert_data('numeric', size, nreps=nreps)\n",
    "    t_numeric.append(tn)\n",
    "    t_numeric_add.append(tna)\n",
    "    t_numeric_run_ids.append(run_id_n)\n",
    "\n",
    "    ta, taa, run_id_a =  insert_data('array', size, nreps=nreps)\n",
    "    t_array.append(ta)\n",
    "    t_array_add.append(taa)\n",
    "    t_array_run_ids.append(run_id_a)"
   ]
  },
  {
   "cell_type": "code",
   "execution_count": 8,
   "metadata": {
    "execution": {
     "iopub.execute_input": "2021-02-02T07:30:22.434783Z",
     "iopub.status.busy": "2021-02-02T07:30:22.429750Z",
     "iopub.status.idle": "2021-02-02T07:30:22.583128Z",
     "shell.execute_reply": "2021-02-02T07:30:22.583479Z"
    },
    "scrolled": true
   },
   "outputs": [
    {
     "data": {
      "image/png": "[encoded data removed]",
      "text/plain": [
       "<Figure size 432x288 with 1 Axes>"
      ]
     },
     "metadata": {
      "needs_background": "light"
     },
     "output_type": "display_data"
    }
   ],
   "source": [
    "fig, ax = plt.subplots(1,1)\n",
    "ax.plot(sizes, t_numeric, 'o-', label='Inserting row-by-row')\n",
    "ax.plot(sizes, t_numeric_add, 'o-', label='Inserting row-by-row: add_result only')\n",
    "ax.plot(sizes, t_array, 'd-', label='Inserting as binary blob')\n",
    "ax.plot(sizes, t_array_add, 'd-', label='Inserting as binary blob: add_result only')\n",
    "ax.legend()\n",
    "ax.set_xlabel('Array length')\n",
    "ax.set_ylabel('Time (s)')\n",
    "fig.tight_layout()"
   ]
  },
  {
   "cell_type": "markdown",
   "metadata": {},
   "source": [
    "However, as we increase the length of the experiment, as seen here by repeating the insertion 100 times, we see a big difference between inserting values of the data row-by-row and inserting it as a binary blob."
   ]
  },
  {
   "cell_type": "markdown",
   "metadata": {},
   "source": [
    "## Loading the data "
   ]
  },
  {
   "cell_type": "code",
   "execution_count": 9,
   "metadata": {
    "execution": {
     "iopub.execute_input": "2021-02-02T07:30:22.586986Z",
     "iopub.status.busy": "2021-02-02T07:30:22.586540Z",
     "iopub.status.idle": "2021-02-02T07:30:22.588921Z",
     "shell.execute_reply": "2021-02-02T07:30:22.589298Z"
    }
   },
   "outputs": [],
   "source": [
    "from qcodes.dataset.data_set import load_by_id\n",
    "from qcodes.dataset.data_export import get_data_by_id"
   ]
  },
  {
   "cell_type": "markdown",
   "metadata": {},
   "source": [
    "As usual you can load the data by using the ``load_by_id`` function but you will notice that the different storage methods\n",
    "are reflected in shape of the data as it is retrieved. "
   ]
  },
  {
   "cell_type": "code",
   "execution_count": 10,
   "metadata": {
    "execution": {
     "iopub.execute_input": "2021-02-02T07:30:22.592961Z",
     "iopub.status.busy": "2021-02-02T07:30:22.592167Z",
     "iopub.status.idle": "2021-02-02T07:30:22.593773Z",
     "shell.execute_reply": "2021-02-02T07:30:22.594150Z"
    }
   },
   "outputs": [],
   "source": [
    "run_id_n = t_numeric_run_ids[0]\n",
    "run_id_a = t_array_run_ids[0]"
   ]
  },
  {
   "cell_type": "code",
   "execution_count": 11,
   "metadata": {
    "execution": {
     "iopub.execute_input": "2021-02-02T07:30:22.596943Z",
     "iopub.status.busy": "2021-02-02T07:30:22.596436Z",
     "iopub.status.idle": "2021-02-02T07:30:22.604676Z",
     "shell.execute_reply": "2021-02-02T07:30:22.604306Z"
    },
    "scrolled": true
   },
   "outputs": [
    {
     "data": {
      "text/plain": [
       "{'x1': {'x1': array([0.49751251, 0.49751251, 0.30833928, 0.30833928, 0.47602555,\n",
       "         0.47602555, 0.49239453, 0.49239453, 0.95398438, 0.95398438,\n",
       "         0.75425387, 0.75425387, 0.95920038, 0.95920038, 0.56337985,\n",
       "         0.56337985, 0.20095067, 0.20095067, 0.64837881, 0.64837881,\n",
       "         0.28375997, 0.28375997, 0.74581257, 0.74581257, 0.74713866,\n",
       "         0.74713866, 0.06845989, 0.06845989, 0.68751084, 0.68751084,\n",
       "         0.47924574, 0.47924574, 0.39705145, 0.39705145, 0.15888965,\n",
       "         0.15888965, 0.89946049, 0.89946049, 0.43027399, 0.43027399,\n",
       "         0.2525781 , 0.2525781 , 0.29374104, 0.29374104, 0.66446091,\n",
       "         0.66446091, 0.85011776, 0.85011776, 0.49530254, 0.49530254,\n",
       "         0.70339305, 0.70339305, 0.97671294, 0.97671294, 0.63235747,\n",
       "         0.63235747, 0.76628947, 0.76628947, 0.88694639, 0.88694639,\n",
       "         0.06149848, 0.06149848, 0.30030002, 0.30030002, 0.80198215,\n",
       "         0.80198215, 0.96377396, 0.96377396, 0.68744834, 0.68744834,\n",
       "         0.60500184, 0.60500184, 0.26577519, 0.26577519, 0.99039817,\n",
       "         0.99039817, 0.95374949, 0.95374949, 0.679502  , 0.679502  ,\n",
       "         0.55775439, 0.55775439, 0.35225886, 0.35225886, 0.99838975,\n",
       "         0.99838975, 0.05442036, 0.05442036, 0.01930296, 0.01930296,\n",
       "         0.91183462, 0.91183462, 0.81882136, 0.81882136, 0.02353331,\n",
       "         0.02353331, 0.57079941, 0.57079941, 0.19566073, 0.19566073,\n",
       "         0.12200192, 0.12200192, 0.41034667, 0.41034667, 0.79252274,\n",
       "         0.79252274, 0.86203295, 0.86203295, 0.87654618, 0.87654618,\n",
       "         0.86703903, 0.86703903, 0.74308566, 0.74308566, 0.79606987,\n",
       "         0.79606987, 0.57749162, 0.57749162, 0.46059689, 0.46059689,\n",
       "         0.66419281, 0.66419281, 0.5968156 , 0.5968156 , 0.98710585,\n",
       "         0.98710585, 0.98408766, 0.98408766, 0.89105937, 0.89105937,\n",
       "         0.91962372, 0.91962372, 0.6187281 , 0.6187281 , 0.67153395,\n",
       "         0.67153395, 0.22594287, 0.22594287, 0.49075426, 0.49075426,\n",
       "         0.37061861, 0.37061861, 0.86884254, 0.86884254, 0.28361112,\n",
       "         0.28361112, 0.4437261 , 0.4437261 , 0.75564528, 0.75564528,\n",
       "         0.45292263, 0.45292263, 0.03396105, 0.03396105, 0.37427872,\n",
       "         0.37427872, 0.13019127, 0.13019127, 0.58348737, 0.58348737,\n",
       "         0.47989435, 0.47989435, 0.27488262, 0.27488262, 0.02635305,\n",
       "         0.02635305, 0.54257583, 0.54257583, 0.52192337, 0.52192337,\n",
       "         0.86643446, 0.86643446, 0.79700117, 0.79700117, 0.04826868,\n",
       "         0.04826868, 0.71054051, 0.71054051, 0.78781977, 0.78781977,\n",
       "         0.09507612, 0.09507612, 0.00428791, 0.00428791, 0.77870136,\n",
       "         0.77870136, 0.97116591, 0.97116591, 0.78650279, 0.78650279,\n",
       "         0.53493837, 0.53493837, 0.95276297, 0.95276297, 0.02648334,\n",
       "         0.02648334, 0.82952888, 0.82952888, 0.03896159, 0.03896159])}}"
      ]
     },
     "execution_count": 1,
     "metadata": {},
     "output_type": "execute_result"
    }
   ],
   "source": [
    "ds = load_by_id(run_id_n)\n",
    "ds.get_parameter_data('x1')"
   ]
  },
  {
   "cell_type": "markdown",
   "metadata": {},
   "source": [
    "And a dataset stored as binary arrays"
   ]
  },
  {
   "cell_type": "code",
   "execution_count": 12,
   "metadata": {
    "execution": {
     "iopub.execute_input": "2021-02-02T07:30:22.607410Z",
     "iopub.status.busy": "2021-02-02T07:30:22.606954Z",
     "iopub.status.idle": "2021-02-02T07:30:22.653050Z",
     "shell.execute_reply": "2021-02-02T07:30:22.653476Z"
    },
    "scrolled": true
   },
   "outputs": [
    {
     "data": {
      "text/plain": [
       "{'x1': {'x1': array([[0.36055326],\n",
       "         [0.36055326],\n",
       "         [0.92245599],\n",
       "         [0.92245599],\n",
       "         [0.60744819],\n",
       "         [0.60744819],\n",
       "         [0.86103428],\n",
       "         [0.86103428],\n",
       "         [0.95110323],\n",
       "         [0.95110323],\n",
       "         [0.13828837],\n",
       "         [0.13828837],\n",
       "         [0.9520426 ],\n",
       "         [0.9520426 ],\n",
       "         [0.38862416],\n",
       "         [0.38862416],\n",
       "         [0.2975806 ],\n",
       "         [0.2975806 ],\n",
       "         [0.02881395],\n",
       "         [0.02881395],\n",
       "         [0.30288914],\n",
       "         [0.30288914],\n",
       "         [0.77831669],\n",
       "         [0.77831669],\n",
       "         [0.17618148],\n",
       "         [0.17618148],\n",
       "         [0.95357298],\n",
       "         [0.95357298],\n",
       "         [0.08992044],\n",
       "         [0.08992044],\n",
       "         [0.2734825 ],\n",
       "         [0.2734825 ],\n",
       "         [0.96320704],\n",
       "         [0.96320704],\n",
       "         [0.30589168],\n",
       "         [0.30589168],\n",
       "         [0.84995862],\n",
       "         [0.84995862],\n",
       "         [0.02603232],\n",
       "         [0.02603232],\n",
       "         [0.10087136],\n",
       "         [0.10087136],\n",
       "         [0.27592702],\n",
       "         [0.27592702],\n",
       "         [0.75014604],\n",
       "         [0.75014604],\n",
       "         [0.1063419 ],\n",
       "         [0.1063419 ],\n",
       "         [0.55378963],\n",
       "         [0.55378963],\n",
       "         [0.98779273],\n",
       "         [0.98779273],\n",
       "         [0.6578689 ],\n",
       "         [0.6578689 ],\n",
       "         [0.15489764],\n",
       "         [0.15489764],\n",
       "         [0.45934023],\n",
       "         [0.45934023],\n",
       "         [0.03604241],\n",
       "         [0.03604241],\n",
       "         [0.33846385],\n",
       "         [0.33846385],\n",
       "         [0.24339145],\n",
       "         [0.24339145],\n",
       "         [0.32226128],\n",
       "         [0.32226128],\n",
       "         [0.67285591],\n",
       "         [0.67285591],\n",
       "         [0.05929993],\n",
       "         [0.05929993],\n",
       "         [0.1353754 ],\n",
       "         [0.1353754 ],\n",
       "         [0.73074995],\n",
       "         [0.73074995],\n",
       "         [0.28732241],\n",
       "         [0.28732241],\n",
       "         [0.93567917],\n",
       "         [0.93567917],\n",
       "         [0.57282296],\n",
       "         [0.57282296],\n",
       "         [0.77068345],\n",
       "         [0.77068345],\n",
       "         [0.27534373],\n",
       "         [0.27534373],\n",
       "         [0.18613058],\n",
       "         [0.18613058],\n",
       "         [0.06412567],\n",
       "         [0.06412567],\n",
       "         [0.11606464],\n",
       "         [0.11606464],\n",
       "         [0.10017088],\n",
       "         [0.10017088],\n",
       "         [0.927103  ],\n",
       "         [0.927103  ],\n",
       "         [0.79326607],\n",
       "         [0.79326607],\n",
       "         [0.88620998],\n",
       "         [0.88620998],\n",
       "         [0.06347911],\n",
       "         [0.06347911],\n",
       "         [0.62625449],\n",
       "         [0.62625449],\n",
       "         [0.67221157],\n",
       "         [0.67221157],\n",
       "         [0.48808014],\n",
       "         [0.48808014],\n",
       "         [0.67787779],\n",
       "         [0.67787779],\n",
       "         [0.52168143],\n",
       "         [0.52168143],\n",
       "         [0.71159914],\n",
       "         [0.71159914],\n",
       "         [0.14760645],\n",
       "         [0.14760645],\n",
       "         [0.23661297],\n",
       "         [0.23661297],\n",
       "         [0.08535768],\n",
       "         [0.08535768],\n",
       "         [0.92961714],\n",
       "         [0.92961714],\n",
       "         [0.92286524],\n",
       "         [0.92286524],\n",
       "         [0.87527852],\n",
       "         [0.87527852],\n",
       "         [0.43313727],\n",
       "         [0.43313727],\n",
       "         [0.18899992],\n",
       "         [0.18899992],\n",
       "         [0.61317849],\n",
       "         [0.61317849],\n",
       "         [0.26186447],\n",
       "         [0.26186447],\n",
       "         [0.21272917],\n",
       "         [0.21272917],\n",
       "         [0.96119466],\n",
       "         [0.96119466],\n",
       "         [0.46302762],\n",
       "         [0.46302762],\n",
       "         [0.99646566],\n",
       "         [0.99646566],\n",
       "         [0.18374855],\n",
       "         [0.18374855],\n",
       "         [0.59443732],\n",
       "         [0.59443732],\n",
       "         [0.41702189],\n",
       "         [0.41702189],\n",
       "         [0.83092334],\n",
       "         [0.83092334],\n",
       "         [0.89022777],\n",
       "         [0.89022777],\n",
       "         [0.02962633],\n",
       "         [0.02962633],\n",
       "         [0.62201267],\n",
       "         [0.62201267],\n",
       "         [0.85847256],\n",
       "         [0.85847256],\n",
       "         [0.30936585],\n",
       "         [0.30936585],\n",
       "         [0.99272002],\n",
       "         [0.99272002],\n",
       "         [0.96832258],\n",
       "         [0.96832258],\n",
       "         [0.28925031],\n",
       "         [0.28925031],\n",
       "         [0.50363208],\n",
       "         [0.50363208],\n",
       "         [0.14742189],\n",
       "         [0.14742189],\n",
       "         [0.2754808 ],\n",
       "         [0.2754808 ],\n",
       "         [0.11312099],\n",
       "         [0.11312099],\n",
       "         [0.2083837 ],\n",
       "         [0.2083837 ],\n",
       "         [0.41048921],\n",
       "         [0.41048921],\n",
       "         [0.89252636],\n",
       "         [0.89252636],\n",
       "         [0.33284353],\n",
       "         [0.33284353],\n",
       "         [0.1314901 ],\n",
       "         [0.1314901 ],\n",
       "         [0.41641843],\n",
       "         [0.41641843],\n",
       "         [0.09938362],\n",
       "         [0.09938362],\n",
       "         [0.0291741 ],\n",
       "         [0.0291741 ],\n",
       "         [0.24559499],\n",
       "         [0.24559499],\n",
       "         [0.02730004],\n",
       "         [0.02730004],\n",
       "         [0.3873913 ],\n",
       "         [0.3873913 ],\n",
       "         [0.29638911],\n",
       "         [0.29638911],\n",
       "         [0.80693397],\n",
       "         [0.80693397],\n",
       "         [0.76372496],\n",
       "         [0.76372496]])}}"
      ]
     },
     "execution_count": 1,
     "metadata": {},
     "output_type": "execute_result"
    }
   ],
   "source": [
    "ds = load_by_id(run_id_a)\n",
    "ds.get_parameter_data('x1')"
   ]
  },
  {
   "cell_type": "code",
   "execution_count": null,
   "metadata": {},
   "outputs": [],
   "source": []
  }
 ],
 "metadata": {
  "kernelspec": {
   "display_name": "Python 3",
   "language": "python",
   "name": "python3"
  },
  "language_info": {
   "codemirror_mode": {
    "name": "ipython",
    "version": 3
   },
   "file_extension": ".py",
   "mimetype": "text/x-python",
   "name": "python",
   "nbconvert_exporter": "python",
   "pygments_lexer": "ipython3",
   "version": "3.7.9"
  },
  "nbsphinx": {
   "timeout": 600
  },
  "toc": {
   "base_numbering": 1,
   "nav_menu": {},
   "number_sections": true,
   "sideBar": true,
   "skip_h1_title": false,
   "title_cell": "Table of Contents",
   "title_sidebar": "Contents",
   "toc_cell": false,
   "toc_position": {},
   "toc_section_display": true,
   "toc_window_display": false
  },
  "varInspector": {
   "cols": {
    "lenName": 16,
    "lenType": 16,
    "lenVar": 40
   },
   "kernels_config": {
    "python": {
     "delete_cmd_postfix": "",
     "delete_cmd_prefix": "del ",
     "library": "var_list.py",
     "varRefreshCmd": "print(var_dic_list())"
    },
    "r": {
     "delete_cmd_postfix": ") ",
     "delete_cmd_prefix": "rm(",
     "library": "var_list.r",
     "varRefreshCmd": "cat(var_dic_list()) "
    }
   },
   "types_to_exclude": [
    "module",
    "function",
    "builtin_function_or_method",
    "instance",
    "_Feature"
   ],
   "window_display": false
  }
 },
 "nbformat": 4,
 "nbformat_minor": 2
}
