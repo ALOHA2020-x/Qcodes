{
 "cells": [
  {
   "cell_type": "markdown",
   "metadata": {},
   "source": [
    "# DataSet Performance\n",
    "\n",
    "This notebook shows the trade-off between inserting data into a database row-by-row and as binary blobs. Inserting the data row-by-row means that we have direct access to all the data and may perform queries directly on the values of the data. On the other hand, as we shall see, this is much slower than inserting the data directly as binary blobs."
   ]
  },
  {
   "cell_type": "markdown",
   "metadata": {},
   "source": [
    "First, we choose a new location for the database to ensure that we don't add a bunch of benchmarking data to the default one."
   ]
  },
  {
   "cell_type": "code",
   "execution_count": 1,
   "metadata": {},
   "outputs": [
    {
     "name": "stdout",
     "output_type": "stream",
     "text": [
      "Logging hadn't been started.\n",
      "Activating auto-logging. Current session state plus future input saved.\n",
      "Filename       : /home/vsts/.qcodes/logs/command_history.log\n",
      "Mode           : append\n",
      "Output logging : True\n",
      "Raw input log  : False\n",
      "Timestamping   : True\n",
      "State          : active\n"
     ]
    },
    {
     "name": "stdout",
     "output_type": "stream",
     "text": [
      "Qcodes Logfile : /home/vsts/.qcodes/logs/200319-20235-qcodes.log\n"
     ]
    }
   ],
   "source": [
    "import os\n",
    "cwd = os.getcwd()\n",
    "import qcodes as qc\n",
    "qc.config[\"core\"][\"db_location\"] = os.path.join(cwd, 'testing.db')\n"
   ]
  },
  {
   "cell_type": "code",
   "execution_count": 2,
   "metadata": {},
   "outputs": [],
   "source": [
    "%matplotlib inline\n",
    "import time\n",
    "import matplotlib.pyplot as plt\n",
    "import numpy as np\n",
    "\n",
    "import qcodes as qc\n",
    "from qcodes.instrument.parameter import ManualParameter\n",
    "from qcodes.dataset.experiment_container import (Experiment,\n",
    "                                                 load_last_experiment,\n",
    "                                                 new_experiment)\n",
    "from qcodes.dataset.sqlite.database import initialise_database\n",
    "from qcodes import load_or_create_experiment\n",
    "from qcodes.dataset.measurements import Measurement"
   ]
  },
  {
   "cell_type": "code",
   "execution_count": 3,
   "metadata": {},
   "outputs": [
    {
     "name": "stdout",
     "output_type": "stream",
     "text": [
      "\r",
      "0it [00:00, ?it/s]"
     ]
    },
    {
     "name": "stdout",
     "output_type": "stream",
     "text": [
      "\r",
      "Upgrading database; v0 -> v1: : 0it [00:00, ?it/s]"
     ]
    },
    {
     "name": "stdout",
     "output_type": "stream",
     "text": [
      "\r",
      "Upgrading database; v0 -> v1: : 0it [00:00, ?it/s]"
     ]
    },
    {
     "name": "stdout",
     "output_type": "stream",
     "text": [
      "\n",
      "\r",
      "  0%|          | 0/1 [00:00<?, ?it/s]"
     ]
    },
    {
     "name": "stdout",
     "output_type": "stream",
     "text": [
      "\r",
      "Upgrading database; v1 -> v2:   0%|          | 0/1 [00:00<?, ?it/s]"
     ]
    },
    {
     "name": "stdout",
     "output_type": "stream",
     "text": [
      "\r",
      "Upgrading database; v1 -> v2: 100%|██████████| 1/1 [00:00<00:00, 816.33it/s]"
     ]
    },
    {
     "name": "stdout",
     "output_type": "stream",
     "text": [
      "\n",
      "\r",
      "0it [00:00, ?it/s]"
     ]
    },
    {
     "name": "stdout",
     "output_type": "stream",
     "text": [
      "\r",
      "Upgrading database; v2 -> v3: : 0it [00:00, ?it/s]"
     ]
    },
    {
     "name": "stdout",
     "output_type": "stream",
     "text": [
      "\r",
      "Upgrading database; v2 -> v3: : 0it [00:00, ?it/s]"
     ]
    },
    {
     "name": "stdout",
     "output_type": "stream",
     "text": [
      "\n",
      "\r",
      "0it [00:00, ?it/s]"
     ]
    },
    {
     "name": "stdout",
     "output_type": "stream",
     "text": [
      "\r",
      "Upgrading database; v3 -> v4: : 0it [00:00, ?it/s]"
     ]
    },
    {
     "name": "stdout",
     "output_type": "stream",
     "text": [
      "\r",
      "Upgrading database; v3 -> v4: : 0it [00:00, ?it/s]"
     ]
    },
    {
     "name": "stdout",
     "output_type": "stream",
     "text": [
      "\n",
      "\r",
      "  0%|          | 0/1 [00:00<?, ?it/s]"
     ]
    },
    {
     "name": "stdout",
     "output_type": "stream",
     "text": [
      "\r",
      "Upgrading database; v4 -> v5:   0%|          | 0/1 [00:00<?, ?it/s]"
     ]
    },
    {
     "name": "stdout",
     "output_type": "stream",
     "text": [
      "\r",
      "Upgrading database; v4 -> v5: 100%|██████████| 1/1 [00:00<00:00, 617.26it/s]"
     ]
    },
    {
     "name": "stdout",
     "output_type": "stream",
     "text": [
      "\n",
      "\r",
      "0it [00:00, ?it/s]"
     ]
    },
    {
     "name": "stdout",
     "output_type": "stream",
     "text": [
      "\r",
      "Upgrading database; v5 -> v6: : 0it [00:00, ?it/s]"
     ]
    },
    {
     "name": "stdout",
     "output_type": "stream",
     "text": [
      "\r",
      "Upgrading database; v5 -> v6: : 0it [00:00, ?it/s]"
     ]
    },
    {
     "name": "stdout",
     "output_type": "stream",
     "text": [
      "\n",
      "\r",
      "  0%|          | 0/1 [00:00<?, ?it/s]"
     ]
    },
    {
     "name": "stdout",
     "output_type": "stream",
     "text": [
      "\r",
      "Upgrading database; v6 -> v7:   0%|          | 0/1 [00:00<?, ?it/s]"
     ]
    },
    {
     "name": "stdout",
     "output_type": "stream",
     "text": [
      "\r",
      "Upgrading database; v6 -> v7: 100%|██████████| 1/1 [00:00<00:00, 351.75it/s]"
     ]
    },
    {
     "name": "stdout",
     "output_type": "stream",
     "text": [
      "\n",
      "\r",
      "  0%|          | 0/1 [00:00<?, ?it/s]"
     ]
    },
    {
     "name": "stdout",
     "output_type": "stream",
     "text": [
      "\r",
      "Upgrading database; v7 -> v8:   0%|          | 0/1 [00:00<?, ?it/s]"
     ]
    },
    {
     "name": "stdout",
     "output_type": "stream",
     "text": [
      "\r",
      "Upgrading database; v7 -> v8: 100%|██████████| 1/1 [00:00<00:00, 703.27it/s]"
     ]
    },
    {
     "name": "stdout",
     "output_type": "stream",
     "text": [
      "\n",
      "\r",
      "  0%|          | 0/1 [00:00<?, ?it/s]"
     ]
    },
    {
     "name": "stdout",
     "output_type": "stream",
     "text": [
      "\r",
      "Upgrading database; v8 -> v9:   0%|          | 0/1 [00:00<?, ?it/s]"
     ]
    },
    {
     "name": "stdout",
     "output_type": "stream",
     "text": [
      "\r",
      "Upgrading database; v8 -> v9: 100%|██████████| 1/1 [00:00<00:00, 875.27it/s]"
     ]
    },
    {
     "name": "stdout",
     "output_type": "stream",
     "text": [
      "\n"
     ]
    }
   ],
   "source": [
    "initialise_database()\n",
    "exp = load_or_create_experiment(experiment_name='tutorial_exp', sample_name=\"no sample\")"
   ]
  },
  {
   "cell_type": "markdown",
   "metadata": {},
   "source": [
    "Here, we define a simple function to benchmark the time it takes to insert n points with either numeric or array data type.\n",
    "We will compare both the time used to call ``add_result`` and the time used for the full measurement."
   ]
  },
  {
   "cell_type": "code",
   "execution_count": 4,
   "metadata": {},
   "outputs": [],
   "source": [
    "def insert_data(paramtype, npoints, nreps=1):\n",
    "\n",
    "    meas = Measurement(exp=exp)\n",
    "\n",
    "    x1 = ManualParameter('x1')\n",
    "    x2 = ManualParameter('x2')\n",
    "    x3 = ManualParameter('x3')\n",
    "    y1 = ManualParameter('y1')\n",
    "    y2 = ManualParameter('y2')\n",
    "\n",
    "    meas.register_parameter(x1, paramtype=paramtype)\n",
    "    meas.register_parameter(x2, paramtype=paramtype)\n",
    "    meas.register_parameter(x3, paramtype=paramtype)\n",
    "    meas.register_parameter(y1, setpoints=[x1, x2, x3],\n",
    "                            paramtype=paramtype)\n",
    "    meas.register_parameter(y2, setpoints=[x1, x2, x3],\n",
    "                            paramtype=paramtype)\n",
    "    start = time.perf_counter()\n",
    "    with meas.run() as datasaver:\n",
    "        start_adding = time.perf_counter()\n",
    "        for i in range(nreps):\n",
    "            datasaver.add_result((x1, np.random.rand(npoints)),\n",
    "                                 (x2, np.random.rand(npoints)),\n",
    "                                 (x3, np.random.rand(npoints)),\n",
    "                                 (y1, np.random.rand(npoints)),\n",
    "                                 (y2, np.random.rand(npoints)))\n",
    "        stop_adding = time.perf_counter()\n",
    "        run_id = datasaver.run_id\n",
    "    stop = time.perf_counter()\n",
    "    tot_time = stop - start\n",
    "    add_time = stop_adding - start_adding\n",
    "    return tot_time, add_time, run_id"
   ]
  },
  {
   "cell_type": "markdown",
   "metadata": {},
   "source": [
    "## Comparison between numeric/array data and binary blob"
   ]
  },
  {
   "cell_type": "markdown",
   "metadata": {},
   "source": [
    "### Case1: Short experiment time"
   ]
  },
  {
   "cell_type": "code",
   "execution_count": 5,
   "metadata": {},
   "outputs": [
    {
     "name": "stdout",
     "output_type": "stream",
     "text": [
      "Starting experimental run with id: 1. \n",
      "Starting experimental run with id: 2. \n",
      "Starting experimental run with id: 3. \n",
      "Starting experimental run with id: 4. \n"
     ]
    },
    {
     "name": "stdout",
     "output_type": "stream",
     "text": [
      "Starting experimental run with id: 5. \n"
     ]
    },
    {
     "name": "stdout",
     "output_type": "stream",
     "text": [
      "Starting experimental run with id: 6. \n",
      "Starting experimental run with id: 7. \n"
     ]
    },
    {
     "name": "stdout",
     "output_type": "stream",
     "text": [
      "Starting experimental run with id: 8. \n"
     ]
    },
    {
     "name": "stdout",
     "output_type": "stream",
     "text": [
      "Starting experimental run with id: 9. \n"
     ]
    },
    {
     "name": "stdout",
     "output_type": "stream",
     "text": [
      "Starting experimental run with id: 10. \n",
      "Starting experimental run with id: 11. \n"
     ]
    },
    {
     "name": "stdout",
     "output_type": "stream",
     "text": [
      "Starting experimental run with id: 12. \n",
      "Starting experimental run with id: 13. \n"
     ]
    },
    {
     "name": "stdout",
     "output_type": "stream",
     "text": [
      "Starting experimental run with id: 14. \n"
     ]
    }
   ],
   "source": [
    "sizes = [1,500,1000,2000,3000,4000,5000]\n",
    "t_numeric = []\n",
    "t_numeric_add = []\n",
    "t_array = []\n",
    "t_array_add = []\n",
    "for size in sizes:\n",
    "    tn, tna, run_id_n =  insert_data('numeric', size)\n",
    "    t_numeric.append(tn)\n",
    "    t_numeric_add.append(tna)\n",
    "\n",
    "    ta, taa, run_id_a =  insert_data('array', size)\n",
    "    t_array.append(ta)\n",
    "    t_array_add.append(taa)"
   ]
  },
  {
   "cell_type": "code",
   "execution_count": 6,
   "metadata": {},
   "outputs": [
    {
     "data": {
      "image/png": "[encoded data removed]",
      "text/plain": [
       "<Figure size 432x288 with 1 Axes>"
      ]
     },
     "metadata": {
      "needs_background": "light"
     },
     "output_type": "display_data"
    }
   ],
   "source": [
    "fig, ax = plt.subplots(1,1)\n",
    "ax.plot(sizes, t_numeric, 'o-', label='Inserting row-by-row')\n",
    "ax.plot(sizes, t_numeric_add, 'o-', label='Inserting row-by-row: add_result only')\n",
    "ax.plot(sizes, t_array, 'd-', label='Inserting as binary blob')\n",
    "ax.plot(sizes, t_array_add, 'd-', label='Inserting as binary blob: add_result only')\n",
    "ax.legend()\n",
    "ax.set_xlabel('Array length')\n",
    "ax.set_ylabel('Time (s)')\n",
    "fig.tight_layout()"
   ]
  },
  {
   "cell_type": "markdown",
   "metadata": {},
   "source": [
    "As shown in the latter figure, the time to setup and and close the experiment is approximately 0.4 sec. In case of small array sizes, the difference between inserting values of data as arrays and inserting them row-by-row is relatively unimportant. At larger array sizes, i.e. above 10000 points, the cost of writing data as individual datapoints starts to become important.\n"
   ]
  },
  {
   "cell_type": "markdown",
   "metadata": {},
   "source": [
    "### Case2: Long experiment time "
   ]
  },
  {
   "cell_type": "code",
   "execution_count": 7,
   "metadata": {},
   "outputs": [
    {
     "name": "stdout",
     "output_type": "stream",
     "text": [
      "Starting experimental run with id: 15. \n",
      "Starting experimental run with id: 16. \n",
      "Starting experimental run with id: 17. \n"
     ]
    },
    {
     "name": "stdout",
     "output_type": "stream",
     "text": [
      "Starting experimental run with id: 18. \n",
      "Starting experimental run with id: 19. \n"
     ]
    },
    {
     "name": "stdout",
     "output_type": "stream",
     "text": [
      "Starting experimental run with id: 20. \n"
     ]
    },
    {
     "name": "stdout",
     "output_type": "stream",
     "text": [
      "Starting experimental run with id: 21. \n"
     ]
    },
    {
     "name": "stdout",
     "output_type": "stream",
     "text": [
      "Starting experimental run with id: 22. \n"
     ]
    },
    {
     "name": "stdout",
     "output_type": "stream",
     "text": [
      "Starting experimental run with id: 23. \n"
     ]
    },
    {
     "name": "stdout",
     "output_type": "stream",
     "text": [
      "Starting experimental run with id: 24. \n"
     ]
    },
    {
     "name": "stdout",
     "output_type": "stream",
     "text": [
      "Starting experimental run with id: 25. \n"
     ]
    },
    {
     "name": "stdout",
     "output_type": "stream",
     "text": [
      "Starting experimental run with id: 26. \n"
     ]
    },
    {
     "name": "stdout",
     "output_type": "stream",
     "text": [
      "Starting experimental run with id: 27. \n"
     ]
    },
    {
     "name": "stdout",
     "output_type": "stream",
     "text": [
      "Starting experimental run with id: 28. \n"
     ]
    }
   ],
   "source": [
    "sizes = [1,500,1000,2000,3000,4000,5000]\n",
    "nreps = 100\n",
    "t_numeric = []\n",
    "t_numeric_add = []\n",
    "t_numeric_run_ids = []\n",
    "t_array = []\n",
    "t_array_add = []\n",
    "t_array_run_ids = []\n",
    "for size in sizes:\n",
    "    tn, tna, run_id_n =  insert_data('numeric', size, nreps=nreps)\n",
    "    t_numeric.append(tn)\n",
    "    t_numeric_add.append(tna)\n",
    "    t_numeric_run_ids.append(run_id_n)\n",
    "\n",
    "    ta, taa, run_id_a =  insert_data('array', size, nreps=nreps)\n",
    "    t_array.append(ta)\n",
    "    t_array_add.append(taa)\n",
    "    t_array_run_ids.append(run_id_a)"
   ]
  },
  {
   "cell_type": "code",
   "execution_count": 8,
   "metadata": {
    "scrolled": true
   },
   "outputs": [
    {
     "data": {
      "image/png": "[encoded data removed]",
      "text/plain": [
       "<Figure size 432x288 with 1 Axes>"
      ]
     },
     "metadata": {
      "needs_background": "light"
     },
     "output_type": "display_data"
    }
   ],
   "source": [
    "fig, ax = plt.subplots(1,1)\n",
    "ax.plot(sizes, t_numeric, 'o-', label='Inserting row-by-row')\n",
    "ax.plot(sizes, t_numeric_add, 'o-', label='Inserting row-by-row: add_result only')\n",
    "ax.plot(sizes, t_array, 'd-', label='Inserting as binary blob')\n",
    "ax.plot(sizes, t_array_add, 'd-', label='Inserting as binary blob: add_result only')\n",
    "ax.legend()\n",
    "ax.set_xlabel('Array length')\n",
    "ax.set_ylabel('Time (s)')\n",
    "fig.tight_layout()"
   ]
  },
  {
   "cell_type": "markdown",
   "metadata": {},
   "source": [
    "However, as we increase the length of the experiment, as seen here by repeating the insertion 100 times, we see a big difference between inserting values of the data row-by-row and inserting it as a binary blob."
   ]
  },
  {
   "cell_type": "markdown",
   "metadata": {},
   "source": [
    "## Loading the data "
   ]
  },
  {
   "cell_type": "code",
   "execution_count": 9,
   "metadata": {},
   "outputs": [],
   "source": [
    "from qcodes.dataset.data_set import load_by_id\n",
    "from qcodes.dataset.data_export import get_data_by_id"
   ]
  },
  {
   "cell_type": "markdown",
   "metadata": {},
   "source": [
    "As usual you can load the data by using the ``load_by_id`` function but you will notice that the different storage methods\n",
    "are reflected in shape of the data as it is retrieved. "
   ]
  },
  {
   "cell_type": "code",
   "execution_count": 10,
   "metadata": {},
   "outputs": [],
   "source": [
    "run_id_n = t_numeric_run_ids[0]\n",
    "run_id_a = t_array_run_ids[0]"
   ]
  },
  {
   "cell_type": "code",
   "execution_count": 11,
   "metadata": {
    "scrolled": true
   },
   "outputs": [
    {
     "data": {
      "text/plain": [
       "{'x1': {'x1': array([0.5528092 , 0.5528092 , 0.51011231, 0.51011231, 0.40138167,\n",
       "         0.40138167, 0.53714985, 0.53714985, 0.1692255 , 0.1692255 ,\n",
       "         0.17707446, 0.17707446, 0.41053052, 0.41053052, 0.03434371,\n",
       "         0.03434371, 0.00220354, 0.00220354, 0.80603657, 0.80603657,\n",
       "         0.98412745, 0.98412745, 0.85700007, 0.85700007, 0.62086982,\n",
       "         0.62086982, 0.83928283, 0.83928283, 0.15007631, 0.15007631,\n",
       "         0.40069851, 0.40069851, 0.87271358, 0.87271358, 0.62569754,\n",
       "         0.62569754, 0.67576733, 0.67576733, 0.82150382, 0.82150382,\n",
       "         0.22877498, 0.22877498, 0.48028581, 0.48028581, 0.77554491,\n",
       "         0.77554491, 0.66598299, 0.66598299, 0.83377613, 0.83377613,\n",
       "         0.81357897, 0.81357897, 0.49031389, 0.49031389, 0.64351216,\n",
       "         0.64351216, 0.94020541, 0.94020541, 0.17800492, 0.17800492,\n",
       "         0.48000185, 0.48000185, 0.25779334, 0.25779334, 0.63115283,\n",
       "         0.63115283, 0.37086083, 0.37086083, 0.50704336, 0.50704336,\n",
       "         0.42524706, 0.42524706, 0.18742667, 0.18742667, 0.4038534 ,\n",
       "         0.4038534 , 0.17121206, 0.17121206, 0.18779583, 0.18779583,\n",
       "         0.63659447, 0.63659447, 0.63225607, 0.63225607, 0.95415288,\n",
       "         0.95415288, 0.65216659, 0.65216659, 0.32564827, 0.32564827,\n",
       "         0.81412792, 0.81412792, 0.16746512, 0.16746512, 0.78091034,\n",
       "         0.78091034, 0.59732842, 0.59732842, 0.41647556, 0.41647556,\n",
       "         0.82184079, 0.82184079, 0.59561894, 0.59561894, 0.5823969 ,\n",
       "         0.5823969 , 0.02528843, 0.02528843, 0.72632626, 0.72632626,\n",
       "         0.46832041, 0.46832041, 0.61664961, 0.61664961, 0.49020243,\n",
       "         0.49020243, 0.39674172, 0.39674172, 0.47621188, 0.47621188,\n",
       "         0.26540064, 0.26540064, 0.70984799, 0.70984799, 0.11231461,\n",
       "         0.11231461, 0.38650352, 0.38650352, 0.2321514 , 0.2321514 ,\n",
       "         0.71993758, 0.71993758, 0.14068076, 0.14068076, 0.99139643,\n",
       "         0.99139643, 0.33276214, 0.33276214, 0.84678711, 0.84678711,\n",
       "         0.35648091, 0.35648091, 0.24923696, 0.24923696, 0.83561048,\n",
       "         0.83561048, 0.87825474, 0.87825474, 0.33172416, 0.33172416,\n",
       "         0.45019682, 0.45019682, 0.18799489, 0.18799489, 0.17904087,\n",
       "         0.17904087, 0.19442025, 0.19442025, 0.00758796, 0.00758796,\n",
       "         0.44047467, 0.44047467, 0.18311547, 0.18311547, 0.24996422,\n",
       "         0.24996422, 0.97596811, 0.97596811, 0.38421616, 0.38421616,\n",
       "         0.8924384 , 0.8924384 , 0.62910865, 0.62910865, 0.03360045,\n",
       "         0.03360045, 0.14138518, 0.14138518, 0.1413056 , 0.1413056 ,\n",
       "         0.93627107, 0.93627107, 0.70298806, 0.70298806, 0.02356678,\n",
       "         0.02356678, 0.88256041, 0.88256041, 0.39962237, 0.39962237,\n",
       "         0.41161194, 0.41161194, 0.02951969, 0.02951969, 0.64263655,\n",
       "         0.64263655, 0.14617822, 0.14617822, 0.66386786, 0.66386786])}}"
      ]
     },
     "execution_count": 11,
     "metadata": {},
     "output_type": "execute_result"
    }
   ],
   "source": [
    "ds = load_by_id(run_id_n)\n",
    "ds.get_parameter_data('x1')"
   ]
  },
  {
   "cell_type": "markdown",
   "metadata": {},
   "source": [
    "And a dataset stored as binary arrays"
   ]
  },
  {
   "cell_type": "code",
   "execution_count": 12,
   "metadata": {
    "scrolled": true
   },
   "outputs": [
    {
     "data": {
      "text/plain": [
       "{'x1': {'x1': array([[7.83653703e-01],\n",
       "         [7.83653703e-01],\n",
       "         [1.37900023e-01],\n",
       "         [1.37900023e-01],\n",
       "         [6.66201799e-02],\n",
       "         [6.66201799e-02],\n",
       "         [5.02309710e-01],\n",
       "         [5.02309710e-01],\n",
       "         [4.51428917e-01],\n",
       "         [4.51428917e-01],\n",
       "         [1.20138359e-01],\n",
       "         [1.20138359e-01],\n",
       "         [1.27438215e-02],\n",
       "         [1.27438215e-02],\n",
       "         [9.92726954e-02],\n",
       "         [9.92726954e-02],\n",
       "         [9.01482032e-01],\n",
       "         [9.01482032e-01],\n",
       "         [4.89157735e-01],\n",
       "         [4.89157735e-01],\n",
       "         [5.46996522e-01],\n",
       "         [5.46996522e-01],\n",
       "         [3.60108620e-01],\n",
       "         [3.60108620e-01],\n",
       "         [3.89114235e-02],\n",
       "         [3.89114235e-02],\n",
       "         [8.97464001e-01],\n",
       "         [8.97464001e-01],\n",
       "         [2.55958644e-01],\n",
       "         [2.55958644e-01],\n",
       "         [5.60811728e-02],\n",
       "         [5.60811728e-02],\n",
       "         [3.90316979e-01],\n",
       "         [3.90316979e-01],\n",
       "         [1.77954476e-01],\n",
       "         [1.77954476e-01],\n",
       "         [5.13756792e-02],\n",
       "         [5.13756792e-02],\n",
       "         [8.99264018e-01],\n",
       "         [8.99264018e-01],\n",
       "         [1.14788276e-01],\n",
       "         [1.14788276e-01],\n",
       "         [1.15852538e-01],\n",
       "         [1.15852538e-01],\n",
       "         [2.09903675e-01],\n",
       "         [2.09903675e-01],\n",
       "         [6.57219692e-02],\n",
       "         [6.57219692e-02],\n",
       "         [6.71169484e-01],\n",
       "         [6.71169484e-01],\n",
       "         [2.28872117e-01],\n",
       "         [2.28872117e-01],\n",
       "         [1.76454427e-01],\n",
       "         [1.76454427e-01],\n",
       "         [1.25588715e-01],\n",
       "         [1.25588715e-01],\n",
       "         [6.20650213e-01],\n",
       "         [6.20650213e-01],\n",
       "         [3.22896669e-01],\n",
       "         [3.22896669e-01],\n",
       "         [8.75099418e-01],\n",
       "         [8.75099418e-01],\n",
       "         [3.70012590e-01],\n",
       "         [3.70012590e-01],\n",
       "         [9.14335439e-01],\n",
       "         [9.14335439e-01],\n",
       "         [8.92077602e-01],\n",
       "         [8.92077602e-01],\n",
       "         [5.63742144e-01],\n",
       "         [5.63742144e-01],\n",
       "         [3.61249130e-02],\n",
       "         [3.61249130e-02],\n",
       "         [3.08229343e-01],\n",
       "         [3.08229343e-01],\n",
       "         [8.62905173e-01],\n",
       "         [8.62905173e-01],\n",
       "         [4.57151625e-01],\n",
       "         [4.57151625e-01],\n",
       "         [8.88373882e-01],\n",
       "         [8.88373882e-01],\n",
       "         [8.70273138e-01],\n",
       "         [8.70273138e-01],\n",
       "         [6.46446412e-01],\n",
       "         [6.46446412e-01],\n",
       "         [2.76716559e-04],\n",
       "         [2.76716559e-04],\n",
       "         [8.26511542e-01],\n",
       "         [8.26511542e-01],\n",
       "         [9.13986811e-01],\n",
       "         [9.13986811e-01],\n",
       "         [2.47625240e-01],\n",
       "         [2.47625240e-01],\n",
       "         [3.44177889e-01],\n",
       "         [3.44177889e-01],\n",
       "         [9.80485507e-02],\n",
       "         [9.80485507e-02],\n",
       "         [1.48632160e-01],\n",
       "         [1.48632160e-01],\n",
       "         [3.36648981e-01],\n",
       "         [3.36648981e-01],\n",
       "         [7.64169835e-01],\n",
       "         [7.64169835e-01],\n",
       "         [8.83028402e-01],\n",
       "         [8.83028402e-01],\n",
       "         [2.34326539e-01],\n",
       "         [2.34326539e-01],\n",
       "         [3.98179605e-01],\n",
       "         [3.98179605e-01],\n",
       "         [5.12902063e-01],\n",
       "         [5.12902063e-01],\n",
       "         [2.80679982e-01],\n",
       "         [2.80679982e-01],\n",
       "         [5.56471971e-02],\n",
       "         [5.56471971e-02],\n",
       "         [9.58015889e-01],\n",
       "         [9.58015889e-01],\n",
       "         [1.95653473e-01],\n",
       "         [1.95653473e-01],\n",
       "         [9.75986210e-01],\n",
       "         [9.75986210e-01],\n",
       "         [8.97454052e-02],\n",
       "         [8.97454052e-02],\n",
       "         [6.86780219e-01],\n",
       "         [6.86780219e-01],\n",
       "         [7.41473746e-01],\n",
       "         [7.41473746e-01],\n",
       "         [6.82554087e-01],\n",
       "         [6.82554087e-01],\n",
       "         [6.69477335e-01],\n",
       "         [6.69477335e-01],\n",
       "         [6.82515163e-01],\n",
       "         [6.82515163e-01],\n",
       "         [2.90728397e-01],\n",
       "         [2.90728397e-01],\n",
       "         [4.32415146e-01],\n",
       "         [4.32415146e-01],\n",
       "         [8.86539933e-01],\n",
       "         [8.86539933e-01],\n",
       "         [2.94744771e-01],\n",
       "         [2.94744771e-01],\n",
       "         [7.14123817e-01],\n",
       "         [7.14123817e-01],\n",
       "         [6.88621266e-01],\n",
       "         [6.88621266e-01],\n",
       "         [1.28311216e-01],\n",
       "         [1.28311216e-01],\n",
       "         [9.24675480e-01],\n",
       "         [9.24675480e-01],\n",
       "         [7.36473742e-01],\n",
       "         [7.36473742e-01],\n",
       "         [5.93794608e-01],\n",
       "         [5.93794608e-01],\n",
       "         [9.13280443e-01],\n",
       "         [9.13280443e-01],\n",
       "         [5.06748039e-02],\n",
       "         [5.06748039e-02],\n",
       "         [3.47901013e-01],\n",
       "         [3.47901013e-01],\n",
       "         [8.11924402e-01],\n",
       "         [8.11924402e-01],\n",
       "         [2.88339445e-01],\n",
       "         [2.88339445e-01],\n",
       "         [7.91454232e-01],\n",
       "         [7.91454232e-01],\n",
       "         [6.22992672e-01],\n",
       "         [6.22992672e-01],\n",
       "         [8.16712026e-01],\n",
       "         [8.16712026e-01],\n",
       "         [3.67463097e-01],\n",
       "         [3.67463097e-01],\n",
       "         [2.64689523e-01],\n",
       "         [2.64689523e-01],\n",
       "         [2.97010310e-01],\n",
       "         [2.97010310e-01],\n",
       "         [7.44295054e-01],\n",
       "         [7.44295054e-01],\n",
       "         [4.65362430e-01],\n",
       "         [4.65362430e-01],\n",
       "         [6.10875036e-01],\n",
       "         [6.10875036e-01],\n",
       "         [3.24531120e-01],\n",
       "         [3.24531120e-01],\n",
       "         [9.59608346e-01],\n",
       "         [9.59608346e-01],\n",
       "         [7.40851573e-01],\n",
       "         [7.40851573e-01],\n",
       "         [6.04381279e-01],\n",
       "         [6.04381279e-01],\n",
       "         [1.13336046e-01],\n",
       "         [1.13336046e-01],\n",
       "         [3.03195073e-01],\n",
       "         [3.03195073e-01],\n",
       "         [3.68367385e-01],\n",
       "         [3.68367385e-01],\n",
       "         [9.27358942e-01],\n",
       "         [9.27358942e-01],\n",
       "         [6.75772048e-01],\n",
       "         [6.75772048e-01],\n",
       "         [7.82887451e-01],\n",
       "         [7.82887451e-01]])}}"
      ]
     },
     "execution_count": 12,
     "metadata": {},
     "output_type": "execute_result"
    }
   ],
   "source": [
    "ds = load_by_id(run_id_a)\n",
    "ds.get_parameter_data('x1')"
   ]
  },
  {
   "cell_type": "code",
   "execution_count": null,
   "metadata": {},
   "outputs": [],
   "source": []
  }
 ],
 "metadata": {
  "kernelspec": {
   "display_name": "Python 3",
   "language": "python",
   "name": "python3"
  },
  "language_info": {
   "codemirror_mode": {
    "name": "ipython",
    "version": 3
   },
   "file_extension": ".py",
   "mimetype": "text/x-python",
   "name": "python",
   "nbconvert_exporter": "python",
   "pygments_lexer": "ipython3",
   "version": "3.7.5"
  },
  "nbsphinx": {
   "timeout": 600
  },
  "toc": {
   "base_numbering": 1,
   "nav_menu": {},
   "number_sections": true,
   "sideBar": true,
   "skip_h1_title": false,
   "title_cell": "Table of Contents",
   "title_sidebar": "Contents",
   "toc_cell": false,
   "toc_position": {},
   "toc_section_display": true,
   "toc_window_display": false
  },
  "varInspector": {
   "cols": {
    "lenName": 16,
    "lenType": 16,
    "lenVar": 40
   },
   "kernels_config": {
    "python": {
     "delete_cmd_postfix": "",
     "delete_cmd_prefix": "del ",
     "library": "var_list.py",
     "varRefreshCmd": "print(var_dic_list())"
    },
    "r": {
     "delete_cmd_postfix": ") ",
     "delete_cmd_prefix": "rm(",
     "library": "var_list.r",
     "varRefreshCmd": "cat(var_dic_list()) "
    }
   },
   "types_to_exclude": [
    "module",
    "function",
    "builtin_function_or_method",
    "instance",
    "_Feature"
   ],
   "window_display": false
  }
 },
 "nbformat": 4,
 "nbformat_minor": 2
}
