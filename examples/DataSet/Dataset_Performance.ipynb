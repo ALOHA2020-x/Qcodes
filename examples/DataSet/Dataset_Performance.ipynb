{
 "cells": [
  {
   "cell_type": "markdown",
   "metadata": {},
   "source": [
    "# DataSet Performance\n",
    "\n",
    "This notebook shows the trade-off between inserting data into a database row-by-row and as binary blobs. Inserting the data row-by-row means that we have direct access to all the data and may perform queries directly on the values of the data. On the other hand, as we shall see, this is much slower than inserting the data directly as binary blobs."
   ]
  },
  {
   "cell_type": "markdown",
   "metadata": {},
   "source": [
    "First, we choose a new location for the database to ensure that we don't add a bunch of benchmarking data to the default one."
   ]
  },
  {
   "cell_type": "code",
   "execution_count": 1,
   "metadata": {
    "execution": {
     "iopub.execute_input": "2021-04-22T14:04:31.073169Z",
     "iopub.status.busy": "2021-04-22T14:04:31.072611Z",
     "iopub.status.idle": "2021-04-22T14:04:32.219347Z",
     "shell.execute_reply": "2021-04-22T14:04:32.218727Z"
    }
   },
   "outputs": [
    {
     "name": "stdout",
     "output_type": "stream",
     "text": [
      "Logging hadn't been started.\n",
      "Activating auto-logging. Current session state plus future input saved.\n",
      "Filename       : /home/runner/.qcodes/logs/command_history.log\n",
      "Mode           : append\n",
      "Output logging : True\n",
      "Raw input log  : False\n",
      "Timestamping   : True\n",
      "State          : active\n"
     ]
    },
    {
     "name": "stdout",
     "output_type": "stream",
     "text": [
      "Qcodes Logfile : /home/runner/.qcodes/logs/210422-4502-qcodes.log\n"
     ]
    }
   ],
   "source": [
    "import os\n",
    "cwd = os.getcwd()\n",
    "import qcodes as qc\n",
    "qc.config[\"core\"][\"db_location\"] = os.path.join(cwd, 'testing.db')\n"
   ]
  },
  {
   "cell_type": "code",
   "execution_count": 2,
   "metadata": {
    "execution": {
     "iopub.execute_input": "2021-04-22T14:04:32.226622Z",
     "iopub.status.busy": "2021-04-22T14:04:32.225588Z",
     "iopub.status.idle": "2021-04-22T14:04:32.420588Z",
     "shell.execute_reply": "2021-04-22T14:04:32.419773Z"
    }
   },
   "outputs": [],
   "source": [
    "%matplotlib inline\n",
    "import time\n",
    "import matplotlib.pyplot as plt\n",
    "import numpy as np\n",
    "\n",
    "import qcodes as qc\n",
    "from qcodes.instrument.parameter import ManualParameter\n",
    "from qcodes.dataset.experiment_container import (Experiment,\n",
    "                                                 load_last_experiment,\n",
    "                                                 new_experiment)\n",
    "from qcodes.dataset.sqlite.database import initialise_database\n",
    "from qcodes import load_or_create_experiment\n",
    "from qcodes.dataset.measurements import Measurement"
   ]
  },
  {
   "cell_type": "code",
   "execution_count": 3,
   "metadata": {
    "execution": {
     "iopub.execute_input": "2021-04-22T14:04:32.424287Z",
     "iopub.status.busy": "2021-04-22T14:04:32.423705Z",
     "iopub.status.idle": "2021-04-22T14:04:32.559853Z",
     "shell.execute_reply": "2021-04-22T14:04:32.559356Z"
    }
   },
   "outputs": [
    {
     "name": "stdout",
     "output_type": "stream",
     "text": [
      "\r",
      "0it [00:00, ?it/s]"
     ]
    },
    {
     "name": "stdout",
     "output_type": "stream",
     "text": [
      "\r",
      "Upgrading database; v0 -> v1: : 0it [00:00, ?it/s]"
     ]
    },
    {
     "name": "stdout",
     "output_type": "stream",
     "text": [
      "\r",
      "Upgrading database; v0 -> v1: : 0it [00:00, ?it/s]"
     ]
    },
    {
     "name": "stdout",
     "output_type": "stream",
     "text": [
      "\n",
      "\r",
      "  0%|          | 0/1 [00:00<?, ?it/s]"
     ]
    },
    {
     "name": "stdout",
     "output_type": "stream",
     "text": [
      "\r",
      "Upgrading database; v1 -> v2:   0%|          | 0/1 [00:00<?, ?it/s]"
     ]
    },
    {
     "name": "stdout",
     "output_type": "stream",
     "text": [
      "\r",
      "Upgrading database; v1 -> v2: 100%|██████████| 1/1 [00:00<00:00, 323.78it/s]"
     ]
    },
    {
     "name": "stdout",
     "output_type": "stream",
     "text": [
      "\n",
      "\r",
      "0it [00:00, ?it/s]"
     ]
    },
    {
     "name": "stdout",
     "output_type": "stream",
     "text": [
      "\r",
      "Upgrading database; v2 -> v3: : 0it [00:00, ?it/s]"
     ]
    },
    {
     "name": "stdout",
     "output_type": "stream",
     "text": [
      "\r",
      "Upgrading database; v2 -> v3: : 0it [00:00, ?it/s]"
     ]
    },
    {
     "name": "stdout",
     "output_type": "stream",
     "text": [
      "\n",
      "\r",
      "0it [00:00, ?it/s]"
     ]
    },
    {
     "name": "stdout",
     "output_type": "stream",
     "text": [
      "\r",
      "Upgrading database; v3 -> v4: : 0it [00:00, ?it/s]"
     ]
    },
    {
     "name": "stdout",
     "output_type": "stream",
     "text": [
      "\r",
      "Upgrading database; v3 -> v4: : 0it [00:00, ?it/s]"
     ]
    },
    {
     "name": "stdout",
     "output_type": "stream",
     "text": [
      "\n",
      "\r",
      "  0%|          | 0/1 [00:00<?, ?it/s]"
     ]
    },
    {
     "name": "stdout",
     "output_type": "stream",
     "text": [
      "\r",
      "Upgrading database; v4 -> v5:   0%|          | 0/1 [00:00<?, ?it/s]"
     ]
    },
    {
     "name": "stdout",
     "output_type": "stream",
     "text": [
      "\r",
      "Upgrading database; v4 -> v5: 100%|██████████| 1/1 [00:00<00:00, 554.58it/s]"
     ]
    },
    {
     "name": "stdout",
     "output_type": "stream",
     "text": [
      "\n",
      "\r",
      "0it [00:00, ?it/s]"
     ]
    },
    {
     "name": "stdout",
     "output_type": "stream",
     "text": [
      "\r",
      "Upgrading database; v5 -> v6: : 0it [00:00, ?it/s]"
     ]
    },
    {
     "name": "stdout",
     "output_type": "stream",
     "text": [
      "\r",
      "Upgrading database; v5 -> v6: : 0it [00:00, ?it/s]"
     ]
    },
    {
     "name": "stdout",
     "output_type": "stream",
     "text": [
      "\n",
      "\r",
      "  0%|          | 0/1 [00:00<?, ?it/s]"
     ]
    },
    {
     "name": "stdout",
     "output_type": "stream",
     "text": [
      "\r",
      "Upgrading database; v6 -> v7:   0%|          | 0/1 [00:00<?, ?it/s]"
     ]
    },
    {
     "name": "stdout",
     "output_type": "stream",
     "text": [
      "\r",
      "Upgrading database; v6 -> v7: 100%|██████████| 1/1 [00:00<00:00, 151.37it/s]"
     ]
    },
    {
     "name": "stdout",
     "output_type": "stream",
     "text": [
      "\n",
      "\r",
      "  0%|          | 0/1 [00:00<?, ?it/s]"
     ]
    },
    {
     "name": "stdout",
     "output_type": "stream",
     "text": [
      "\r",
      "Upgrading database; v7 -> v8:   0%|          | 0/1 [00:00<?, ?it/s]"
     ]
    },
    {
     "name": "stdout",
     "output_type": "stream",
     "text": [
      "\r",
      "Upgrading database; v7 -> v8: 100%|██████████| 1/1 [00:00<00:00, 293.68it/s]"
     ]
    },
    {
     "name": "stdout",
     "output_type": "stream",
     "text": [
      "\n",
      "\r",
      "  0%|          | 0/1 [00:00<?, ?it/s]"
     ]
    },
    {
     "name": "stdout",
     "output_type": "stream",
     "text": [
      "\r",
      "Upgrading database; v8 -> v9:   0%|          | 0/1 [00:00<?, ?it/s]"
     ]
    },
    {
     "name": "stdout",
     "output_type": "stream",
     "text": [
      "\r",
      "Upgrading database; v8 -> v9: 100%|██████████| 1/1 [00:00<00:00, 598.16it/s]"
     ]
    },
    {
     "name": "stdout",
     "output_type": "stream",
     "text": [
      "\n"
     ]
    }
   ],
   "source": [
    "initialise_database()\n",
    "exp = load_or_create_experiment(experiment_name='tutorial_exp', sample_name=\"no sample\")"
   ]
  },
  {
   "cell_type": "markdown",
   "metadata": {},
   "source": [
    "Here, we define a simple function to benchmark the time it takes to insert n points with either numeric or array data type.\n",
    "We will compare both the time used to call ``add_result`` and the time used for the full measurement."
   ]
  },
  {
   "cell_type": "code",
   "execution_count": 4,
   "metadata": {
    "execution": {
     "iopub.execute_input": "2021-04-22T14:04:32.568314Z",
     "iopub.status.busy": "2021-04-22T14:04:32.567706Z",
     "iopub.status.idle": "2021-04-22T14:04:32.571896Z",
     "shell.execute_reply": "2021-04-22T14:04:32.572379Z"
    }
   },
   "outputs": [],
   "source": [
    "def insert_data(paramtype, npoints, nreps=1):\n",
    "\n",
    "    meas = Measurement(exp=exp)\n",
    "\n",
    "    x1 = ManualParameter('x1')\n",
    "    x2 = ManualParameter('x2')\n",
    "    x3 = ManualParameter('x3')\n",
    "    y1 = ManualParameter('y1')\n",
    "    y2 = ManualParameter('y2')\n",
    "\n",
    "    meas.register_parameter(x1, paramtype=paramtype)\n",
    "    meas.register_parameter(x2, paramtype=paramtype)\n",
    "    meas.register_parameter(x3, paramtype=paramtype)\n",
    "    meas.register_parameter(y1, setpoints=[x1, x2, x3],\n",
    "                            paramtype=paramtype)\n",
    "    meas.register_parameter(y2, setpoints=[x1, x2, x3],\n",
    "                            paramtype=paramtype)\n",
    "    start = time.perf_counter()\n",
    "    with meas.run() as datasaver:\n",
    "        start_adding = time.perf_counter()\n",
    "        for i in range(nreps):\n",
    "            datasaver.add_result((x1, np.random.rand(npoints)),\n",
    "                                 (x2, np.random.rand(npoints)),\n",
    "                                 (x3, np.random.rand(npoints)),\n",
    "                                 (y1, np.random.rand(npoints)),\n",
    "                                 (y2, np.random.rand(npoints)))\n",
    "        stop_adding = time.perf_counter()\n",
    "        run_id = datasaver.run_id\n",
    "    stop = time.perf_counter()\n",
    "    tot_time = stop - start\n",
    "    add_time = stop_adding - start_adding\n",
    "    return tot_time, add_time, run_id"
   ]
  },
  {
   "cell_type": "markdown",
   "metadata": {},
   "source": [
    "## Comparison between numeric/array data and binary blob"
   ]
  },
  {
   "cell_type": "markdown",
   "metadata": {},
   "source": [
    "### Case1: Short experiment time"
   ]
  },
  {
   "cell_type": "code",
   "execution_count": 5,
   "metadata": {
    "execution": {
     "iopub.execute_input": "2021-04-22T14:04:32.578279Z",
     "iopub.status.busy": "2021-04-22T14:04:32.577697Z",
     "iopub.status.idle": "2021-04-22T14:04:33.389489Z",
     "shell.execute_reply": "2021-04-22T14:04:33.389944Z"
    }
   },
   "outputs": [
    {
     "name": "stdout",
     "output_type": "stream",
     "text": [
      "Starting experimental run with id: 1. \n",
      "Starting experimental run with id: 2. \n",
      "Starting experimental run with id: 3. \n",
      "Starting experimental run with id: 4. \n"
     ]
    },
    {
     "name": "stdout",
     "output_type": "stream",
     "text": [
      "Starting experimental run with id: 5. \n"
     ]
    },
    {
     "name": "stdout",
     "output_type": "stream",
     "text": [
      "Starting experimental run with id: 6. \n"
     ]
    },
    {
     "name": "stdout",
     "output_type": "stream",
     "text": [
      "Starting experimental run with id: 7. \n"
     ]
    },
    {
     "name": "stdout",
     "output_type": "stream",
     "text": [
      "Starting experimental run with id: 8. \n",
      "Starting experimental run with id: 9. \n"
     ]
    },
    {
     "name": "stdout",
     "output_type": "stream",
     "text": [
      "Starting experimental run with id: 10. \n",
      "Starting experimental run with id: 11. \n"
     ]
    },
    {
     "name": "stdout",
     "output_type": "stream",
     "text": [
      "Starting experimental run with id: 12. \n",
      "Starting experimental run with id: 13. \n"
     ]
    },
    {
     "name": "stdout",
     "output_type": "stream",
     "text": [
      "Starting experimental run with id: 14. \n"
     ]
    }
   ],
   "source": [
    "sizes = [1,500,1000,2000,3000,4000,5000]\n",
    "t_numeric = []\n",
    "t_numeric_add = []\n",
    "t_array = []\n",
    "t_array_add = []\n",
    "for size in sizes:\n",
    "    tn, tna, run_id_n =  insert_data('numeric', size)\n",
    "    t_numeric.append(tn)\n",
    "    t_numeric_add.append(tna)\n",
    "\n",
    "    ta, taa, run_id_a =  insert_data('array', size)\n",
    "    t_array.append(ta)\n",
    "    t_array_add.append(taa)"
   ]
  },
  {
   "cell_type": "code",
   "execution_count": 6,
   "metadata": {
    "execution": {
     "iopub.execute_input": "2021-04-22T14:04:33.408402Z",
     "iopub.status.busy": "2021-04-22T14:04:33.393751Z",
     "iopub.status.idle": "2021-04-22T14:04:33.649815Z",
     "shell.execute_reply": "2021-04-22T14:04:33.650345Z"
    }
   },
   "outputs": [
    {
     "data": {
      "image/png": "[encoded data removed]",
      "text/plain": [
       "<Figure size 432x288 with 1 Axes>"
      ]
     },
     "metadata": {
      "needs_background": "light"
     },
     "output_type": "display_data"
    }
   ],
   "source": [
    "fig, ax = plt.subplots(1,1)\n",
    "ax.plot(sizes, t_numeric, 'o-', label='Inserting row-by-row')\n",
    "ax.plot(sizes, t_numeric_add, 'o-', label='Inserting row-by-row: add_result only')\n",
    "ax.plot(sizes, t_array, 'd-', label='Inserting as binary blob')\n",
    "ax.plot(sizes, t_array_add, 'd-', label='Inserting as binary blob: add_result only')\n",
    "ax.legend()\n",
    "ax.set_xlabel('Array length')\n",
    "ax.set_ylabel('Time (s)')\n",
    "fig.tight_layout()"
   ]
  },
  {
   "cell_type": "markdown",
   "metadata": {},
   "source": [
    "As shown in the latter figure, the time to setup and and close the experiment is approximately 0.4 sec. In case of small array sizes, the difference between inserting values of data as arrays and inserting them row-by-row is relatively unimportant. At larger array sizes, i.e. above 10000 points, the cost of writing data as individual datapoints starts to become important.\n"
   ]
  },
  {
   "cell_type": "markdown",
   "metadata": {},
   "source": [
    "### Case2: Long experiment time "
   ]
  },
  {
   "cell_type": "code",
   "execution_count": 7,
   "metadata": {
    "execution": {
     "iopub.execute_input": "2021-04-22T14:04:33.656613Z",
     "iopub.status.busy": "2021-04-22T14:04:33.654944Z",
     "iopub.status.idle": "2021-04-22T14:05:28.025546Z",
     "shell.execute_reply": "2021-04-22T14:05:28.025995Z"
    }
   },
   "outputs": [
    {
     "name": "stdout",
     "output_type": "stream",
     "text": [
      "Starting experimental run with id: 15. \n",
      "Starting experimental run with id: 16. \n",
      "Starting experimental run with id: 17. \n"
     ]
    },
    {
     "name": "stdout",
     "output_type": "stream",
     "text": [
      "Starting experimental run with id: 18. \n",
      "Starting experimental run with id: 19. \n"
     ]
    },
    {
     "name": "stdout",
     "output_type": "stream",
     "text": [
      "Starting experimental run with id: 20. \n"
     ]
    },
    {
     "name": "stdout",
     "output_type": "stream",
     "text": [
      "Starting experimental run with id: 21. \n"
     ]
    },
    {
     "name": "stdout",
     "output_type": "stream",
     "text": [
      "Starting experimental run with id: 22. \n"
     ]
    },
    {
     "name": "stdout",
     "output_type": "stream",
     "text": [
      "Starting experimental run with id: 23. \n"
     ]
    },
    {
     "name": "stdout",
     "output_type": "stream",
     "text": [
      "Starting experimental run with id: 24. \n"
     ]
    },
    {
     "name": "stdout",
     "output_type": "stream",
     "text": [
      "Starting experimental run with id: 25. \n"
     ]
    },
    {
     "name": "stdout",
     "output_type": "stream",
     "text": [
      "Starting experimental run with id: 26. \n"
     ]
    },
    {
     "name": "stdout",
     "output_type": "stream",
     "text": [
      "Starting experimental run with id: 27. \n"
     ]
    },
    {
     "name": "stdout",
     "output_type": "stream",
     "text": [
      "Starting experimental run with id: 28. \n"
     ]
    }
   ],
   "source": [
    "sizes = [1,500,1000,2000,3000,4000,5000]\n",
    "nreps = 100\n",
    "t_numeric = []\n",
    "t_numeric_add = []\n",
    "t_numeric_run_ids = []\n",
    "t_array = []\n",
    "t_array_add = []\n",
    "t_array_run_ids = []\n",
    "for size in sizes:\n",
    "    tn, tna, run_id_n =  insert_data('numeric', size, nreps=nreps)\n",
    "    t_numeric.append(tn)\n",
    "    t_numeric_add.append(tna)\n",
    "    t_numeric_run_ids.append(run_id_n)\n",
    "\n",
    "    ta, taa, run_id_a =  insert_data('array', size, nreps=nreps)\n",
    "    t_array.append(ta)\n",
    "    t_array_add.append(taa)\n",
    "    t_array_run_ids.append(run_id_a)"
   ]
  },
  {
   "cell_type": "code",
   "execution_count": 8,
   "metadata": {
    "execution": {
     "iopub.execute_input": "2021-04-22T14:05:28.062507Z",
     "iopub.status.busy": "2021-04-22T14:05:28.031175Z",
     "iopub.status.idle": "2021-04-22T14:05:28.270493Z",
     "shell.execute_reply": "2021-04-22T14:05:28.269974Z"
    },
    "scrolled": true
   },
   "outputs": [
    {
     "data": {
      "image/png": "[encoded data removed]",
      "text/plain": [
       "<Figure size 432x288 with 1 Axes>"
      ]
     },
     "metadata": {
      "needs_background": "light"
     },
     "output_type": "display_data"
    }
   ],
   "source": [
    "fig, ax = plt.subplots(1,1)\n",
    "ax.plot(sizes, t_numeric, 'o-', label='Inserting row-by-row')\n",
    "ax.plot(sizes, t_numeric_add, 'o-', label='Inserting row-by-row: add_result only')\n",
    "ax.plot(sizes, t_array, 'd-', label='Inserting as binary blob')\n",
    "ax.plot(sizes, t_array_add, 'd-', label='Inserting as binary blob: add_result only')\n",
    "ax.legend()\n",
    "ax.set_xlabel('Array length')\n",
    "ax.set_ylabel('Time (s)')\n",
    "fig.tight_layout()"
   ]
  },
  {
   "cell_type": "markdown",
   "metadata": {},
   "source": [
    "However, as we increase the length of the experiment, as seen here by repeating the insertion 100 times, we see a big difference between inserting values of the data row-by-row and inserting it as a binary blob."
   ]
  },
  {
   "cell_type": "markdown",
   "metadata": {},
   "source": [
    "## Loading the data "
   ]
  },
  {
   "cell_type": "code",
   "execution_count": 9,
   "metadata": {
    "execution": {
     "iopub.execute_input": "2021-04-22T14:05:28.275076Z",
     "iopub.status.busy": "2021-04-22T14:05:28.274455Z",
     "iopub.status.idle": "2021-04-22T14:05:28.278215Z",
     "shell.execute_reply": "2021-04-22T14:05:28.278680Z"
    }
   },
   "outputs": [],
   "source": [
    "from qcodes.dataset.data_set import load_by_id"
   ]
  },
  {
   "cell_type": "markdown",
   "metadata": {},
   "source": [
    "As usual you can load the data by using the ``load_by_id`` function but you will notice that the different storage methods\n",
    "are reflected in shape of the data as it is retrieved. "
   ]
  },
  {
   "cell_type": "code",
   "execution_count": 10,
   "metadata": {
    "execution": {
     "iopub.execute_input": "2021-04-22T14:05:28.284021Z",
     "iopub.status.busy": "2021-04-22T14:05:28.282449Z",
     "iopub.status.idle": "2021-04-22T14:05:28.284694Z",
     "shell.execute_reply": "2021-04-22T14:05:28.285207Z"
    }
   },
   "outputs": [],
   "source": [
    "run_id_n = t_numeric_run_ids[0]\n",
    "run_id_a = t_array_run_ids[0]"
   ]
  },
  {
   "cell_type": "code",
   "execution_count": 11,
   "metadata": {
    "execution": {
     "iopub.execute_input": "2021-04-22T14:05:28.289072Z",
     "iopub.status.busy": "2021-04-22T14:05:28.288462Z",
     "iopub.status.idle": "2021-04-22T14:05:28.298072Z",
     "shell.execute_reply": "2021-04-22T14:05:28.298531Z"
    },
    "scrolled": true
   },
   "outputs": [
    {
     "data": {
      "text/plain": [
       "{'x1': {'x1': array([0.68555472, 0.68555472, 0.03742817, 0.03742817, 0.00485418,\n",
       "         0.00485418, 0.79335939, 0.79335939, 0.32481114, 0.32481114,\n",
       "         0.02043023, 0.02043023, 0.5147077 , 0.5147077 , 0.8529165 ,\n",
       "         0.8529165 , 0.42377366, 0.42377366, 0.77824937, 0.77824937,\n",
       "         0.47109021, 0.47109021, 0.05828389, 0.05828389, 0.13469412,\n",
       "         0.13469412, 0.71865661, 0.71865661, 0.03687747, 0.03687747,\n",
       "         0.56751512, 0.56751512, 0.74746699, 0.74746699, 0.53395471,\n",
       "         0.53395471, 0.83668193, 0.83668193, 0.73643966, 0.73643966,\n",
       "         0.64450789, 0.64450789, 0.15165708, 0.15165708, 0.2507463 ,\n",
       "         0.2507463 , 0.93090093, 0.93090093, 0.24329553, 0.24329553,\n",
       "         0.00477515, 0.00477515, 0.00313571, 0.00313571, 0.952498  ,\n",
       "         0.952498  , 0.96891214, 0.96891214, 0.27188772, 0.27188772,\n",
       "         0.31336395, 0.31336395, 0.26378244, 0.26378244, 0.23905305,\n",
       "         0.23905305, 0.17078675, 0.17078675, 0.6409041 , 0.6409041 ,\n",
       "         0.48618239, 0.48618239, 0.45403494, 0.45403494, 0.69931932,\n",
       "         0.69931932, 0.32641977, 0.32641977, 0.77834446, 0.77834446,\n",
       "         0.50612628, 0.50612628, 0.25194072, 0.25194072, 0.35061632,\n",
       "         0.35061632, 0.87994094, 0.87994094, 0.94253764, 0.94253764,\n",
       "         0.33533703, 0.33533703, 0.39938479, 0.39938479, 0.34211873,\n",
       "         0.34211873, 0.77936606, 0.77936606, 0.4064432 , 0.4064432 ,\n",
       "         0.99499943, 0.99499943, 0.82867921, 0.82867921, 0.3678859 ,\n",
       "         0.3678859 , 0.25115942, 0.25115942, 0.90949185, 0.90949185,\n",
       "         0.56498185, 0.56498185, 0.06810947, 0.06810947, 0.49742623,\n",
       "         0.49742623, 0.48933107, 0.48933107, 0.68428231, 0.68428231,\n",
       "         0.52130709, 0.52130709, 0.16558515, 0.16558515, 0.735321  ,\n",
       "         0.735321  , 0.16984059, 0.16984059, 0.41274623, 0.41274623,\n",
       "         0.45172049, 0.45172049, 0.29995607, 0.29995607, 0.7610481 ,\n",
       "         0.7610481 , 0.51172708, 0.51172708, 0.60484155, 0.60484155,\n",
       "         0.01832093, 0.01832093, 0.90889352, 0.90889352, 0.24559738,\n",
       "         0.24559738, 0.64368229, 0.64368229, 0.33269724, 0.33269724,\n",
       "         0.35389481, 0.35389481, 0.04253861, 0.04253861, 0.39469369,\n",
       "         0.39469369, 0.25960744, 0.25960744, 0.89524478, 0.89524478,\n",
       "         0.34743124, 0.34743124, 0.53019675, 0.53019675, 0.54263027,\n",
       "         0.54263027, 0.4657183 , 0.4657183 , 0.52583105, 0.52583105,\n",
       "         0.65818688, 0.65818688, 0.54427934, 0.54427934, 0.15729725,\n",
       "         0.15729725, 0.16351014, 0.16351014, 0.07516451, 0.07516451,\n",
       "         0.32100086, 0.32100086, 0.20129149, 0.20129149, 0.49014724,\n",
       "         0.49014724, 0.73646337, 0.73646337, 0.97085423, 0.97085423,\n",
       "         0.94806083, 0.94806083, 0.94814296, 0.94814296, 0.96285864,\n",
       "         0.96285864, 0.04189319, 0.04189319, 0.15422522, 0.15422522])}}"
      ]
     },
     "execution_count": 1,
     "metadata": {},
     "output_type": "execute_result"
    }
   ],
   "source": [
    "ds = load_by_id(run_id_n)\n",
    "ds.get_parameter_data('x1')"
   ]
  },
  {
   "cell_type": "markdown",
   "metadata": {},
   "source": [
    "And a dataset stored as binary arrays"
   ]
  },
  {
   "cell_type": "code",
   "execution_count": 12,
   "metadata": {
    "execution": {
     "iopub.execute_input": "2021-04-22T14:05:28.302212Z",
     "iopub.status.busy": "2021-04-22T14:05:28.301577Z",
     "iopub.status.idle": "2021-04-22T14:05:28.363554Z",
     "shell.execute_reply": "2021-04-22T14:05:28.362955Z"
    },
    "scrolled": true
   },
   "outputs": [
    {
     "data": {
      "text/plain": [
       "{'x1': {'x1': array([[0.87771637],\n",
       "         [0.87771637],\n",
       "         [0.85476703],\n",
       "         [0.85476703],\n",
       "         [0.81263702],\n",
       "         [0.81263702],\n",
       "         [0.69596224],\n",
       "         [0.69596224],\n",
       "         [0.2487307 ],\n",
       "         [0.2487307 ],\n",
       "         [0.79043268],\n",
       "         [0.79043268],\n",
       "         [0.87526184],\n",
       "         [0.87526184],\n",
       "         [0.02031118],\n",
       "         [0.02031118],\n",
       "         [0.6794935 ],\n",
       "         [0.6794935 ],\n",
       "         [0.77451601],\n",
       "         [0.77451601],\n",
       "         [0.78049278],\n",
       "         [0.78049278],\n",
       "         [0.54673896],\n",
       "         [0.54673896],\n",
       "         [0.89545077],\n",
       "         [0.89545077],\n",
       "         [0.76135761],\n",
       "         [0.76135761],\n",
       "         [0.69721693],\n",
       "         [0.69721693],\n",
       "         [0.05074666],\n",
       "         [0.05074666],\n",
       "         [0.3475207 ],\n",
       "         [0.3475207 ],\n",
       "         [0.99899291],\n",
       "         [0.99899291],\n",
       "         [0.5101591 ],\n",
       "         [0.5101591 ],\n",
       "         [0.80673562],\n",
       "         [0.80673562],\n",
       "         [0.39397313],\n",
       "         [0.39397313],\n",
       "         [0.03070429],\n",
       "         [0.03070429],\n",
       "         [0.62974957],\n",
       "         [0.62974957],\n",
       "         [0.42070239],\n",
       "         [0.42070239],\n",
       "         [0.53370995],\n",
       "         [0.53370995],\n",
       "         [0.66125527],\n",
       "         [0.66125527],\n",
       "         [0.98371687],\n",
       "         [0.98371687],\n",
       "         [0.60790953],\n",
       "         [0.60790953],\n",
       "         [0.13371803],\n",
       "         [0.13371803],\n",
       "         [0.72383315],\n",
       "         [0.72383315],\n",
       "         [0.09405815],\n",
       "         [0.09405815],\n",
       "         [0.17088816],\n",
       "         [0.17088816],\n",
       "         [0.11142865],\n",
       "         [0.11142865],\n",
       "         [0.71392958],\n",
       "         [0.71392958],\n",
       "         [0.72819002],\n",
       "         [0.72819002],\n",
       "         [0.62416818],\n",
       "         [0.62416818],\n",
       "         [0.74307235],\n",
       "         [0.74307235],\n",
       "         [0.52505832],\n",
       "         [0.52505832],\n",
       "         [0.65733122],\n",
       "         [0.65733122],\n",
       "         [0.47779777],\n",
       "         [0.47779777],\n",
       "         [0.73594701],\n",
       "         [0.73594701],\n",
       "         [0.88070608],\n",
       "         [0.88070608],\n",
       "         [0.0867078 ],\n",
       "         [0.0867078 ],\n",
       "         [0.49519614],\n",
       "         [0.49519614],\n",
       "         [0.95343759],\n",
       "         [0.95343759],\n",
       "         [0.95984182],\n",
       "         [0.95984182],\n",
       "         [0.93909875],\n",
       "         [0.93909875],\n",
       "         [0.86845293],\n",
       "         [0.86845293],\n",
       "         [0.46783455],\n",
       "         [0.46783455],\n",
       "         [0.73398167],\n",
       "         [0.73398167],\n",
       "         [0.84606536],\n",
       "         [0.84606536],\n",
       "         [0.44039844],\n",
       "         [0.44039844],\n",
       "         [0.16414681],\n",
       "         [0.16414681],\n",
       "         [0.68584502],\n",
       "         [0.68584502],\n",
       "         [0.29533401],\n",
       "         [0.29533401],\n",
       "         [0.98805935],\n",
       "         [0.98805935],\n",
       "         [0.67335001],\n",
       "         [0.67335001],\n",
       "         [0.85994756],\n",
       "         [0.85994756],\n",
       "         [0.36010694],\n",
       "         [0.36010694],\n",
       "         [0.84542726],\n",
       "         [0.84542726],\n",
       "         [0.92084431],\n",
       "         [0.92084431],\n",
       "         [0.03183787],\n",
       "         [0.03183787],\n",
       "         [0.09202523],\n",
       "         [0.09202523],\n",
       "         [0.22688051],\n",
       "         [0.22688051],\n",
       "         [0.62730718],\n",
       "         [0.62730718],\n",
       "         [0.44265738],\n",
       "         [0.44265738],\n",
       "         [0.29896045],\n",
       "         [0.29896045],\n",
       "         [0.41680187],\n",
       "         [0.41680187],\n",
       "         [0.06921023],\n",
       "         [0.06921023],\n",
       "         [0.54479619],\n",
       "         [0.54479619],\n",
       "         [0.72274613],\n",
       "         [0.72274613],\n",
       "         [0.29052239],\n",
       "         [0.29052239],\n",
       "         [0.10620342],\n",
       "         [0.10620342],\n",
       "         [0.23816717],\n",
       "         [0.23816717],\n",
       "         [0.52903159],\n",
       "         [0.52903159],\n",
       "         [0.84526739],\n",
       "         [0.84526739],\n",
       "         [0.5416068 ],\n",
       "         [0.5416068 ],\n",
       "         [0.03383291],\n",
       "         [0.03383291],\n",
       "         [0.48507942],\n",
       "         [0.48507942],\n",
       "         [0.74048491],\n",
       "         [0.74048491],\n",
       "         [0.16203231],\n",
       "         [0.16203231],\n",
       "         [0.10764085],\n",
       "         [0.10764085],\n",
       "         [0.91308261],\n",
       "         [0.91308261],\n",
       "         [0.12653361],\n",
       "         [0.12653361],\n",
       "         [0.97628035],\n",
       "         [0.97628035],\n",
       "         [0.47683752],\n",
       "         [0.47683752],\n",
       "         [0.35681471],\n",
       "         [0.35681471],\n",
       "         [0.59221766],\n",
       "         [0.59221766],\n",
       "         [0.80012624],\n",
       "         [0.80012624],\n",
       "         [0.8797154 ],\n",
       "         [0.8797154 ],\n",
       "         [0.70133359],\n",
       "         [0.70133359],\n",
       "         [0.7678542 ],\n",
       "         [0.7678542 ],\n",
       "         [0.83090942],\n",
       "         [0.83090942],\n",
       "         [0.73090164],\n",
       "         [0.73090164],\n",
       "         [0.45249295],\n",
       "         [0.45249295],\n",
       "         [0.03231663],\n",
       "         [0.03231663],\n",
       "         [0.74922736],\n",
       "         [0.74922736],\n",
       "         [0.97853713],\n",
       "         [0.97853713],\n",
       "         [0.55706868],\n",
       "         [0.55706868],\n",
       "         [0.55696936],\n",
       "         [0.55696936]])}}"
      ]
     },
     "execution_count": 1,
     "metadata": {},
     "output_type": "execute_result"
    }
   ],
   "source": [
    "ds = load_by_id(run_id_a)\n",
    "ds.get_parameter_data('x1')"
   ]
  },
  {
   "cell_type": "code",
   "execution_count": null,
   "metadata": {},
   "outputs": [],
   "source": []
  }
 ],
 "metadata": {
  "kernelspec": {
   "display_name": "Python 3",
   "language": "python",
   "name": "python3"
  },
  "language_info": {
   "codemirror_mode": {
    "name": "ipython",
    "version": 3
   },
   "file_extension": ".py",
   "mimetype": "text/x-python",
   "name": "python",
   "nbconvert_exporter": "python",
   "pygments_lexer": "ipython3",
   "version": "3.7.10"
  },
  "nbsphinx": {
   "timeout": 600
  },
  "toc": {
   "base_numbering": 1,
   "nav_menu": {},
   "number_sections": true,
   "sideBar": true,
   "skip_h1_title": false,
   "title_cell": "Table of Contents",
   "title_sidebar": "Contents",
   "toc_cell": false,
   "toc_position": {},
   "toc_section_display": true,
   "toc_window_display": false
  },
  "varInspector": {
   "cols": {
    "lenName": 16,
    "lenType": 16,
    "lenVar": 40
   },
   "kernels_config": {
    "python": {
     "delete_cmd_postfix": "",
     "delete_cmd_prefix": "del ",
     "library": "var_list.py",
     "varRefreshCmd": "print(var_dic_list())"
    },
    "r": {
     "delete_cmd_postfix": ") ",
     "delete_cmd_prefix": "rm(",
     "library": "var_list.r",
     "varRefreshCmd": "cat(var_dic_list()) "
    }
   },
   "types_to_exclude": [
    "module",
    "function",
    "builtin_function_or_method",
    "instance",
    "_Feature"
   ],
   "window_display": false
  }
 },
 "nbformat": 4,
 "nbformat_minor": 4
}
