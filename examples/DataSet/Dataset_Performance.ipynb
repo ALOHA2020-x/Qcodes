{
 "cells": [
  {
   "cell_type": "markdown",
   "metadata": {},
   "source": [
    "# DataSet Performance\n",
    "\n",
    "This notebook shows the trade-off between inserting data into a database row-by-row and as binary blobs. Inserting the data row-by-row means that we have direct access to all the data and may perform queries directly on the values of the data. On the other hand, as we shall see, this is much slower than inserting the data directly as binary blobs."
   ]
  },
  {
   "cell_type": "markdown",
   "metadata": {},
   "source": [
    "First, we choose a new location for the database to ensure that we don't add a bunch of benchmarking data to the default one."
   ]
  },
  {
   "cell_type": "code",
   "execution_count": 1,
   "metadata": {},
   "outputs": [
    {
     "name": "stdout",
     "output_type": "stream",
     "text": [
      "Logging hadn't been started.\n",
      "Activating auto-logging. Current session state plus future input saved.\n",
      "Filename       : /home/vsts/.qcodes/logs/command_history.log\n",
      "Mode           : append\n",
      "Output logging : True\n",
      "Raw input log  : False\n",
      "Timestamping   : True\n",
      "State          : active\n"
     ]
    },
    {
     "name": "stdout",
     "output_type": "stream",
     "text": [
      "Qcodes Logfile : /home/vsts/.qcodes/logs/200713-18565-qcodes.log\n"
     ]
    }
   ],
   "source": [
    "import os\n",
    "cwd = os.getcwd()\n",
    "import qcodes as qc\n",
    "qc.config[\"core\"][\"db_location\"] = os.path.join(cwd, 'testing.db')\n"
   ]
  },
  {
   "cell_type": "code",
   "execution_count": 2,
   "metadata": {},
   "outputs": [],
   "source": [
    "%matplotlib inline\n",
    "import time\n",
    "import matplotlib.pyplot as plt\n",
    "import numpy as np\n",
    "\n",
    "import qcodes as qc\n",
    "from qcodes.instrument.parameter import ManualParameter\n",
    "from qcodes.dataset.experiment_container import (Experiment,\n",
    "                                                 load_last_experiment,\n",
    "                                                 new_experiment)\n",
    "from qcodes.dataset.sqlite.database import initialise_database\n",
    "from qcodes import load_or_create_experiment\n",
    "from qcodes.dataset.measurements import Measurement"
   ]
  },
  {
   "cell_type": "code",
   "execution_count": 3,
   "metadata": {},
   "outputs": [
    {
     "name": "stdout",
     "output_type": "stream",
     "text": [
      "\r",
      "0it [00:00, ?it/s]"
     ]
    },
    {
     "name": "stdout",
     "output_type": "stream",
     "text": [
      "\r",
      "Upgrading database; v0 -> v1: : 0it [00:00, ?it/s]"
     ]
    },
    {
     "name": "stdout",
     "output_type": "stream",
     "text": [
      "\r",
      "Upgrading database; v0 -> v1: : 0it [00:00, ?it/s]"
     ]
    },
    {
     "name": "stdout",
     "output_type": "stream",
     "text": [
      "\n",
      "\r",
      "  0%|          | 0/1 [00:00<?, ?it/s]"
     ]
    },
    {
     "name": "stdout",
     "output_type": "stream",
     "text": [
      "\r",
      "Upgrading database; v1 -> v2:   0%|          | 0/1 [00:00<?, ?it/s]"
     ]
    },
    {
     "name": "stdout",
     "output_type": "stream",
     "text": [
      "\r",
      "Upgrading database; v1 -> v2: 100%|██████████| 1/1 [00:00<00:00, 783.69it/s]"
     ]
    },
    {
     "name": "stdout",
     "output_type": "stream",
     "text": [
      "\n",
      "\r",
      "0it [00:00, ?it/s]"
     ]
    },
    {
     "name": "stdout",
     "output_type": "stream",
     "text": [
      "\r",
      "Upgrading database; v2 -> v3: : 0it [00:00, ?it/s]"
     ]
    },
    {
     "name": "stdout",
     "output_type": "stream",
     "text": [
      "\r",
      "Upgrading database; v2 -> v3: : 0it [00:00, ?it/s]"
     ]
    },
    {
     "name": "stdout",
     "output_type": "stream",
     "text": [
      "\n",
      "\r",
      "0it [00:00, ?it/s]"
     ]
    },
    {
     "name": "stdout",
     "output_type": "stream",
     "text": [
      "\r",
      "Upgrading database; v3 -> v4: : 0it [00:00, ?it/s]"
     ]
    },
    {
     "name": "stdout",
     "output_type": "stream",
     "text": [
      "\r",
      "Upgrading database; v3 -> v4: : 0it [00:00, ?it/s]"
     ]
    },
    {
     "name": "stdout",
     "output_type": "stream",
     "text": [
      "\n",
      "\r",
      "  0%|          | 0/1 [00:00<?, ?it/s]"
     ]
    },
    {
     "name": "stdout",
     "output_type": "stream",
     "text": [
      "\r",
      "Upgrading database; v4 -> v5:   0%|          | 0/1 [00:00<?, ?it/s]"
     ]
    },
    {
     "name": "stdout",
     "output_type": "stream",
     "text": [
      "\r",
      "Upgrading database; v4 -> v5: 100%|██████████| 1/1 [00:00<00:00, 769.03it/s]"
     ]
    },
    {
     "name": "stdout",
     "output_type": "stream",
     "text": [
      "\n",
      "\r",
      "0it [00:00, ?it/s]"
     ]
    },
    {
     "name": "stdout",
     "output_type": "stream",
     "text": [
      "\r",
      "Upgrading database; v5 -> v6: : 0it [00:00, ?it/s]"
     ]
    },
    {
     "name": "stdout",
     "output_type": "stream",
     "text": [
      "\r",
      "Upgrading database; v5 -> v6: : 0it [00:00, ?it/s]"
     ]
    },
    {
     "name": "stdout",
     "output_type": "stream",
     "text": [
      "\n",
      "\r",
      "  0%|          | 0/1 [00:00<?, ?it/s]"
     ]
    },
    {
     "name": "stdout",
     "output_type": "stream",
     "text": [
      "\r",
      "Upgrading database; v6 -> v7:   0%|          | 0/1 [00:00<?, ?it/s]"
     ]
    },
    {
     "name": "stdout",
     "output_type": "stream",
     "text": [
      "\r",
      "Upgrading database; v6 -> v7: 100%|██████████| 1/1 [00:00<00:00, 294.98it/s]"
     ]
    },
    {
     "name": "stdout",
     "output_type": "stream",
     "text": [
      "\n",
      "\r",
      "  0%|          | 0/1 [00:00<?, ?it/s]"
     ]
    },
    {
     "name": "stdout",
     "output_type": "stream",
     "text": [
      "\r",
      "Upgrading database; v7 -> v8:   0%|          | 0/1 [00:00<?, ?it/s]"
     ]
    },
    {
     "name": "stdout",
     "output_type": "stream",
     "text": [
      "\r",
      "Upgrading database; v7 -> v8: 100%|██████████| 1/1 [00:00<00:00, 682.44it/s]"
     ]
    },
    {
     "name": "stdout",
     "output_type": "stream",
     "text": [
      "\n",
      "\r",
      "  0%|          | 0/1 [00:00<?, ?it/s]"
     ]
    },
    {
     "name": "stdout",
     "output_type": "stream",
     "text": [
      "\r",
      "Upgrading database; v8 -> v9:   0%|          | 0/1 [00:00<?, ?it/s]"
     ]
    },
    {
     "name": "stdout",
     "output_type": "stream",
     "text": [
      "\r",
      "Upgrading database; v8 -> v9: 100%|██████████| 1/1 [00:00<00:00, 742.22it/s]"
     ]
    },
    {
     "name": "stdout",
     "output_type": "stream",
     "text": [
      "\n"
     ]
    }
   ],
   "source": [
    "initialise_database()\n",
    "exp = load_or_create_experiment(experiment_name='tutorial_exp', sample_name=\"no sample\")"
   ]
  },
  {
   "cell_type": "markdown",
   "metadata": {},
   "source": [
    "Here, we define a simple function to benchmark the time it takes to insert n points with either numeric or array data type.\n",
    "We will compare both the time used to call ``add_result`` and the time used for the full measurement."
   ]
  },
  {
   "cell_type": "code",
   "execution_count": 4,
   "metadata": {},
   "outputs": [],
   "source": [
    "def insert_data(paramtype, npoints, nreps=1):\n",
    "\n",
    "    meas = Measurement(exp=exp)\n",
    "\n",
    "    x1 = ManualParameter('x1')\n",
    "    x2 = ManualParameter('x2')\n",
    "    x3 = ManualParameter('x3')\n",
    "    y1 = ManualParameter('y1')\n",
    "    y2 = ManualParameter('y2')\n",
    "\n",
    "    meas.register_parameter(x1, paramtype=paramtype)\n",
    "    meas.register_parameter(x2, paramtype=paramtype)\n",
    "    meas.register_parameter(x3, paramtype=paramtype)\n",
    "    meas.register_parameter(y1, setpoints=[x1, x2, x3],\n",
    "                            paramtype=paramtype)\n",
    "    meas.register_parameter(y2, setpoints=[x1, x2, x3],\n",
    "                            paramtype=paramtype)\n",
    "    start = time.perf_counter()\n",
    "    with meas.run() as datasaver:\n",
    "        start_adding = time.perf_counter()\n",
    "        for i in range(nreps):\n",
    "            datasaver.add_result((x1, np.random.rand(npoints)),\n",
    "                                 (x2, np.random.rand(npoints)),\n",
    "                                 (x3, np.random.rand(npoints)),\n",
    "                                 (y1, np.random.rand(npoints)),\n",
    "                                 (y2, np.random.rand(npoints)))\n",
    "        stop_adding = time.perf_counter()\n",
    "        run_id = datasaver.run_id\n",
    "    stop = time.perf_counter()\n",
    "    tot_time = stop - start\n",
    "    add_time = stop_adding - start_adding\n",
    "    return tot_time, add_time, run_id"
   ]
  },
  {
   "cell_type": "markdown",
   "metadata": {},
   "source": [
    "## Comparison between numeric/array data and binary blob"
   ]
  },
  {
   "cell_type": "markdown",
   "metadata": {},
   "source": [
    "### Case1: Short experiment time"
   ]
  },
  {
   "cell_type": "code",
   "execution_count": 5,
   "metadata": {},
   "outputs": [
    {
     "name": "stdout",
     "output_type": "stream",
     "text": [
      "Starting experimental run with id: 1. \n",
      "Starting experimental run with id: 2. \n",
      "Starting experimental run with id: 3. \n"
     ]
    },
    {
     "name": "stdout",
     "output_type": "stream",
     "text": [
      "Starting experimental run with id: 4. \n"
     ]
    },
    {
     "name": "stdout",
     "output_type": "stream",
     "text": [
      "Starting experimental run with id: 5. \n"
     ]
    },
    {
     "name": "stdout",
     "output_type": "stream",
     "text": [
      "Starting experimental run with id: 6. \n"
     ]
    },
    {
     "name": "stdout",
     "output_type": "stream",
     "text": [
      "Starting experimental run with id: 7. \n",
      "Starting experimental run with id: 8. \n"
     ]
    },
    {
     "name": "stdout",
     "output_type": "stream",
     "text": [
      "Starting experimental run with id: 9. \n"
     ]
    },
    {
     "name": "stdout",
     "output_type": "stream",
     "text": [
      "Starting experimental run with id: 10. \n",
      "Starting experimental run with id: 11. \n"
     ]
    },
    {
     "name": "stdout",
     "output_type": "stream",
     "text": [
      "Starting experimental run with id: 12. \n"
     ]
    },
    {
     "name": "stdout",
     "output_type": "stream",
     "text": [
      "Starting experimental run with id: 13. \n"
     ]
    },
    {
     "name": "stdout",
     "output_type": "stream",
     "text": [
      "Starting experimental run with id: 14. \n"
     ]
    }
   ],
   "source": [
    "sizes = [1,500,1000,2000,3000,4000,5000]\n",
    "t_numeric = []\n",
    "t_numeric_add = []\n",
    "t_array = []\n",
    "t_array_add = []\n",
    "for size in sizes:\n",
    "    tn, tna, run_id_n =  insert_data('numeric', size)\n",
    "    t_numeric.append(tn)\n",
    "    t_numeric_add.append(tna)\n",
    "\n",
    "    ta, taa, run_id_a =  insert_data('array', size)\n",
    "    t_array.append(ta)\n",
    "    t_array_add.append(taa)"
   ]
  },
  {
   "cell_type": "code",
   "execution_count": 6,
   "metadata": {},
   "outputs": [
    {
     "data": {
      "image/png": "[encoded data removed]",
      "text/plain": [
       "<Figure size 432x288 with 1 Axes>"
      ]
     },
     "metadata": {
      "needs_background": "light"
     },
     "output_type": "display_data"
    }
   ],
   "source": [
    "fig, ax = plt.subplots(1,1)\n",
    "ax.plot(sizes, t_numeric, 'o-', label='Inserting row-by-row')\n",
    "ax.plot(sizes, t_numeric_add, 'o-', label='Inserting row-by-row: add_result only')\n",
    "ax.plot(sizes, t_array, 'd-', label='Inserting as binary blob')\n",
    "ax.plot(sizes, t_array_add, 'd-', label='Inserting as binary blob: add_result only')\n",
    "ax.legend()\n",
    "ax.set_xlabel('Array length')\n",
    "ax.set_ylabel('Time (s)')\n",
    "fig.tight_layout()"
   ]
  },
  {
   "cell_type": "markdown",
   "metadata": {},
   "source": [
    "As shown in the latter figure, the time to setup and and close the experiment is approximately 0.4 sec. In case of small array sizes, the difference between inserting values of data as arrays and inserting them row-by-row is relatively unimportant. At larger array sizes, i.e. above 10000 points, the cost of writing data as individual datapoints starts to become important.\n"
   ]
  },
  {
   "cell_type": "markdown",
   "metadata": {},
   "source": [
    "### Case2: Long experiment time "
   ]
  },
  {
   "cell_type": "code",
   "execution_count": 7,
   "metadata": {},
   "outputs": [
    {
     "name": "stdout",
     "output_type": "stream",
     "text": [
      "Starting experimental run with id: 15. \n",
      "Starting experimental run with id: 16. \n",
      "Starting experimental run with id: 17. \n"
     ]
    },
    {
     "name": "stdout",
     "output_type": "stream",
     "text": [
      "Starting experimental run with id: 18. \n",
      "Starting experimental run with id: 19. \n"
     ]
    },
    {
     "name": "stdout",
     "output_type": "stream",
     "text": [
      "Starting experimental run with id: 20. \n"
     ]
    },
    {
     "name": "stdout",
     "output_type": "stream",
     "text": [
      "Starting experimental run with id: 21. \n"
     ]
    },
    {
     "name": "stdout",
     "output_type": "stream",
     "text": [
      "Starting experimental run with id: 22. \n"
     ]
    },
    {
     "name": "stdout",
     "output_type": "stream",
     "text": [
      "Starting experimental run with id: 23. \n"
     ]
    },
    {
     "name": "stdout",
     "output_type": "stream",
     "text": [
      "Starting experimental run with id: 24. \n"
     ]
    },
    {
     "name": "stdout",
     "output_type": "stream",
     "text": [
      "Starting experimental run with id: 25. \n"
     ]
    },
    {
     "name": "stdout",
     "output_type": "stream",
     "text": [
      "Starting experimental run with id: 26. \n"
     ]
    },
    {
     "name": "stdout",
     "output_type": "stream",
     "text": [
      "Starting experimental run with id: 27. \n"
     ]
    },
    {
     "name": "stdout",
     "output_type": "stream",
     "text": [
      "Starting experimental run with id: 28. \n"
     ]
    }
   ],
   "source": [
    "sizes = [1,500,1000,2000,3000,4000,5000]\n",
    "nreps = 100\n",
    "t_numeric = []\n",
    "t_numeric_add = []\n",
    "t_numeric_run_ids = []\n",
    "t_array = []\n",
    "t_array_add = []\n",
    "t_array_run_ids = []\n",
    "for size in sizes:\n",
    "    tn, tna, run_id_n =  insert_data('numeric', size, nreps=nreps)\n",
    "    t_numeric.append(tn)\n",
    "    t_numeric_add.append(tna)\n",
    "    t_numeric_run_ids.append(run_id_n)\n",
    "\n",
    "    ta, taa, run_id_a =  insert_data('array', size, nreps=nreps)\n",
    "    t_array.append(ta)\n",
    "    t_array_add.append(taa)\n",
    "    t_array_run_ids.append(run_id_a)"
   ]
  },
  {
   "cell_type": "code",
   "execution_count": 8,
   "metadata": {
    "scrolled": true
   },
   "outputs": [
    {
     "data": {
      "image/png": "[encoded data removed]",
      "text/plain": [
       "<Figure size 432x288 with 1 Axes>"
      ]
     },
     "metadata": {
      "needs_background": "light"
     },
     "output_type": "display_data"
    }
   ],
   "source": [
    "fig, ax = plt.subplots(1,1)\n",
    "ax.plot(sizes, t_numeric, 'o-', label='Inserting row-by-row')\n",
    "ax.plot(sizes, t_numeric_add, 'o-', label='Inserting row-by-row: add_result only')\n",
    "ax.plot(sizes, t_array, 'd-', label='Inserting as binary blob')\n",
    "ax.plot(sizes, t_array_add, 'd-', label='Inserting as binary blob: add_result only')\n",
    "ax.legend()\n",
    "ax.set_xlabel('Array length')\n",
    "ax.set_ylabel('Time (s)')\n",
    "fig.tight_layout()"
   ]
  },
  {
   "cell_type": "markdown",
   "metadata": {},
   "source": [
    "However, as we increase the length of the experiment, as seen here by repeating the insertion 100 times, we see a big difference between inserting values of the data row-by-row and inserting it as a binary blob."
   ]
  },
  {
   "cell_type": "markdown",
   "metadata": {},
   "source": [
    "## Loading the data "
   ]
  },
  {
   "cell_type": "code",
   "execution_count": 9,
   "metadata": {},
   "outputs": [],
   "source": [
    "from qcodes.dataset.data_set import load_by_id\n",
    "from qcodes.dataset.data_export import get_data_by_id"
   ]
  },
  {
   "cell_type": "markdown",
   "metadata": {},
   "source": [
    "As usual you can load the data by using the ``load_by_id`` function but you will notice that the different storage methods\n",
    "are reflected in shape of the data as it is retrieved. "
   ]
  },
  {
   "cell_type": "code",
   "execution_count": 10,
   "metadata": {},
   "outputs": [],
   "source": [
    "run_id_n = t_numeric_run_ids[0]\n",
    "run_id_a = t_array_run_ids[0]"
   ]
  },
  {
   "cell_type": "code",
   "execution_count": 11,
   "metadata": {
    "scrolled": true
   },
   "outputs": [
    {
     "data": {
      "text/plain": [
       "{'x1': {'x1': array([0.25996256, 0.25996256, 0.33695269, 0.33695269, 0.43893889,\n",
       "         0.43893889, 0.26894255, 0.26894255, 0.85860443, 0.85860443,\n",
       "         0.47011496, 0.47011496, 0.34389648, 0.34389648, 0.54390107,\n",
       "         0.54390107, 0.76567671, 0.76567671, 0.37426823, 0.37426823,\n",
       "         0.47483851, 0.47483851, 0.3554301 , 0.3554301 , 0.3059808 ,\n",
       "         0.3059808 , 0.0857922 , 0.0857922 , 0.44458596, 0.44458596,\n",
       "         0.26951064, 0.26951064, 0.33273805, 0.33273805, 0.71609291,\n",
       "         0.71609291, 0.59370727, 0.59370727, 0.79914954, 0.79914954,\n",
       "         0.67146534, 0.67146534, 0.56463828, 0.56463828, 0.42918816,\n",
       "         0.42918816, 0.6808153 , 0.6808153 , 0.32202458, 0.32202458,\n",
       "         0.3453916 , 0.3453916 , 0.65439254, 0.65439254, 0.35936291,\n",
       "         0.35936291, 0.19238539, 0.19238539, 0.1658666 , 0.1658666 ,\n",
       "         0.29068299, 0.29068299, 0.85743415, 0.85743415, 0.39671615,\n",
       "         0.39671615, 0.66278284, 0.66278284, 0.96346979, 0.96346979,\n",
       "         0.36077487, 0.36077487, 0.19194301, 0.19194301, 0.17713367,\n",
       "         0.17713367, 0.55814744, 0.55814744, 0.46767626, 0.46767626,\n",
       "         0.64116409, 0.64116409, 0.66253259, 0.66253259, 0.73887815,\n",
       "         0.73887815, 0.23170312, 0.23170312, 0.99542374, 0.99542374,\n",
       "         0.04428166, 0.04428166, 0.04994383, 0.04994383, 0.07954104,\n",
       "         0.07954104, 0.67249439, 0.67249439, 0.06030455, 0.06030455,\n",
       "         0.80672279, 0.80672279, 0.51466109, 0.51466109, 0.25065134,\n",
       "         0.25065134, 0.66186884, 0.66186884, 0.46483034, 0.46483034,\n",
       "         0.14672179, 0.14672179, 0.08694706, 0.08694706, 0.70295503,\n",
       "         0.70295503, 0.40587857, 0.40587857, 0.66066733, 0.66066733,\n",
       "         0.77779439, 0.77779439, 0.3563079 , 0.3563079 , 0.42463022,\n",
       "         0.42463022, 0.58581444, 0.58581444, 0.53796754, 0.53796754,\n",
       "         0.23147022, 0.23147022, 0.63362196, 0.63362196, 0.3795007 ,\n",
       "         0.3795007 , 0.03847331, 0.03847331, 0.48885458, 0.48885458,\n",
       "         0.58095959, 0.58095959, 0.85335341, 0.85335341, 0.56245926,\n",
       "         0.56245926, 0.9943255 , 0.9943255 , 0.29758446, 0.29758446,\n",
       "         0.13599936, 0.13599936, 0.04892273, 0.04892273, 0.9728578 ,\n",
       "         0.9728578 , 0.0642675 , 0.0642675 , 0.01045184, 0.01045184,\n",
       "         0.03173865, 0.03173865, 0.21114779, 0.21114779, 0.59890099,\n",
       "         0.59890099, 0.76012522, 0.76012522, 0.63948058, 0.63948058,\n",
       "         0.61642818, 0.61642818, 0.9218529 , 0.9218529 , 0.7030848 ,\n",
       "         0.7030848 , 0.07819543, 0.07819543, 0.13505995, 0.13505995,\n",
       "         0.03021064, 0.03021064, 0.23008093, 0.23008093, 0.34779358,\n",
       "         0.34779358, 0.87470805, 0.87470805, 0.38994097, 0.38994097,\n",
       "         0.71301717, 0.71301717, 0.51243457, 0.51243457, 0.67939302,\n",
       "         0.67939302, 0.61360385, 0.61360385, 0.04333889, 0.04333889])}}"
      ]
     },
     "execution_count": 11,
     "metadata": {},
     "output_type": "execute_result"
    }
   ],
   "source": [
    "ds = load_by_id(run_id_n)\n",
    "ds.get_parameter_data('x1')"
   ]
  },
  {
   "cell_type": "markdown",
   "metadata": {},
   "source": [
    "And a dataset stored as binary arrays"
   ]
  },
  {
   "cell_type": "code",
   "execution_count": 12,
   "metadata": {
    "scrolled": true
   },
   "outputs": [
    {
     "data": {
      "text/plain": [
       "{'x1': {'x1': array([[0.0946516 ],\n",
       "         [0.0946516 ],\n",
       "         [0.68638464],\n",
       "         [0.68638464],\n",
       "         [0.52586878],\n",
       "         [0.52586878],\n",
       "         [0.62249078],\n",
       "         [0.62249078],\n",
       "         [0.84075467],\n",
       "         [0.84075467],\n",
       "         [0.76717689],\n",
       "         [0.76717689],\n",
       "         [0.68387479],\n",
       "         [0.68387479],\n",
       "         [0.06370417],\n",
       "         [0.06370417],\n",
       "         [0.36644297],\n",
       "         [0.36644297],\n",
       "         [0.90143898],\n",
       "         [0.90143898],\n",
       "         [0.33591503],\n",
       "         [0.33591503],\n",
       "         [0.54376688],\n",
       "         [0.54376688],\n",
       "         [0.58416417],\n",
       "         [0.58416417],\n",
       "         [0.39301971],\n",
       "         [0.39301971],\n",
       "         [0.19191319],\n",
       "         [0.19191319],\n",
       "         [0.75437728],\n",
       "         [0.75437728],\n",
       "         [0.86118659],\n",
       "         [0.86118659],\n",
       "         [0.48590722],\n",
       "         [0.48590722],\n",
       "         [0.11086943],\n",
       "         [0.11086943],\n",
       "         [0.66674057],\n",
       "         [0.66674057],\n",
       "         [0.10090101],\n",
       "         [0.10090101],\n",
       "         [0.96026723],\n",
       "         [0.96026723],\n",
       "         [0.86887663],\n",
       "         [0.86887663],\n",
       "         [0.8103146 ],\n",
       "         [0.8103146 ],\n",
       "         [0.66473049],\n",
       "         [0.66473049],\n",
       "         [0.37058089],\n",
       "         [0.37058089],\n",
       "         [0.1431103 ],\n",
       "         [0.1431103 ],\n",
       "         [0.82094251],\n",
       "         [0.82094251],\n",
       "         [0.90704945],\n",
       "         [0.90704945],\n",
       "         [0.29020728],\n",
       "         [0.29020728],\n",
       "         [0.11897603],\n",
       "         [0.11897603],\n",
       "         [0.65804566],\n",
       "         [0.65804566],\n",
       "         [0.05873944],\n",
       "         [0.05873944],\n",
       "         [0.50652783],\n",
       "         [0.50652783],\n",
       "         [0.01118908],\n",
       "         [0.01118908],\n",
       "         [0.83630107],\n",
       "         [0.83630107],\n",
       "         [0.55050593],\n",
       "         [0.55050593],\n",
       "         [0.64692398],\n",
       "         [0.64692398],\n",
       "         [0.31507998],\n",
       "         [0.31507998],\n",
       "         [0.03785913],\n",
       "         [0.03785913],\n",
       "         [0.45983877],\n",
       "         [0.45983877],\n",
       "         [0.18890722],\n",
       "         [0.18890722],\n",
       "         [0.43432487],\n",
       "         [0.43432487],\n",
       "         [0.56811704],\n",
       "         [0.56811704],\n",
       "         [0.65955207],\n",
       "         [0.65955207],\n",
       "         [0.43187001],\n",
       "         [0.43187001],\n",
       "         [0.86329958],\n",
       "         [0.86329958],\n",
       "         [0.84274283],\n",
       "         [0.84274283],\n",
       "         [0.86653108],\n",
       "         [0.86653108],\n",
       "         [0.22892907],\n",
       "         [0.22892907],\n",
       "         [0.16160379],\n",
       "         [0.16160379],\n",
       "         [0.1248674 ],\n",
       "         [0.1248674 ],\n",
       "         [0.24477862],\n",
       "         [0.24477862],\n",
       "         [0.67574055],\n",
       "         [0.67574055],\n",
       "         [0.89554465],\n",
       "         [0.89554465],\n",
       "         [0.45111827],\n",
       "         [0.45111827],\n",
       "         [0.58999085],\n",
       "         [0.58999085],\n",
       "         [0.21721305],\n",
       "         [0.21721305],\n",
       "         [0.73517647],\n",
       "         [0.73517647],\n",
       "         [0.71277856],\n",
       "         [0.71277856],\n",
       "         [0.39571038],\n",
       "         [0.39571038],\n",
       "         [0.98474867],\n",
       "         [0.98474867],\n",
       "         [0.95785602],\n",
       "         [0.95785602],\n",
       "         [0.50372449],\n",
       "         [0.50372449],\n",
       "         [0.0834259 ],\n",
       "         [0.0834259 ],\n",
       "         [0.00607013],\n",
       "         [0.00607013],\n",
       "         [0.61844391],\n",
       "         [0.61844391],\n",
       "         [0.09007258],\n",
       "         [0.09007258],\n",
       "         [0.91646358],\n",
       "         [0.91646358],\n",
       "         [0.41436579],\n",
       "         [0.41436579],\n",
       "         [0.15004048],\n",
       "         [0.15004048],\n",
       "         [0.08536304],\n",
       "         [0.08536304],\n",
       "         [0.17493479],\n",
       "         [0.17493479],\n",
       "         [0.39853221],\n",
       "         [0.39853221],\n",
       "         [0.31501624],\n",
       "         [0.31501624],\n",
       "         [0.30532954],\n",
       "         [0.30532954],\n",
       "         [0.3602668 ],\n",
       "         [0.3602668 ],\n",
       "         [0.86025477],\n",
       "         [0.86025477],\n",
       "         [0.33770904],\n",
       "         [0.33770904],\n",
       "         [0.66838363],\n",
       "         [0.66838363],\n",
       "         [0.32653629],\n",
       "         [0.32653629],\n",
       "         [0.68733898],\n",
       "         [0.68733898],\n",
       "         [0.44826859],\n",
       "         [0.44826859],\n",
       "         [0.17872946],\n",
       "         [0.17872946],\n",
       "         [0.95227791],\n",
       "         [0.95227791],\n",
       "         [0.072367  ],\n",
       "         [0.072367  ],\n",
       "         [0.75702012],\n",
       "         [0.75702012],\n",
       "         [0.6027738 ],\n",
       "         [0.6027738 ],\n",
       "         [0.12053446],\n",
       "         [0.12053446],\n",
       "         [0.22573412],\n",
       "         [0.22573412],\n",
       "         [0.75365552],\n",
       "         [0.75365552],\n",
       "         [0.99609789],\n",
       "         [0.99609789],\n",
       "         [0.10464974],\n",
       "         [0.10464974],\n",
       "         [0.3153702 ],\n",
       "         [0.3153702 ],\n",
       "         [0.27531551],\n",
       "         [0.27531551],\n",
       "         [0.00945742],\n",
       "         [0.00945742],\n",
       "         [0.52509262],\n",
       "         [0.52509262],\n",
       "         [0.18371348],\n",
       "         [0.18371348],\n",
       "         [0.58082305],\n",
       "         [0.58082305],\n",
       "         [0.13966633],\n",
       "         [0.13966633]])}}"
      ]
     },
     "execution_count": 12,
     "metadata": {},
     "output_type": "execute_result"
    }
   ],
   "source": [
    "ds = load_by_id(run_id_a)\n",
    "ds.get_parameter_data('x1')"
   ]
  },
  {
   "cell_type": "code",
   "execution_count": null,
   "metadata": {},
   "outputs": [],
   "source": []
  }
 ],
 "metadata": {
  "kernelspec": {
   "display_name": "Python 3",
   "language": "python",
   "name": "python3"
  },
  "language_info": {
   "codemirror_mode": {
    "name": "ipython",
    "version": 3
   },
   "file_extension": ".py",
   "mimetype": "text/x-python",
   "name": "python",
   "nbconvert_exporter": "python",
   "pygments_lexer": "ipython3",
   "version": "3.7.7"
  },
  "nbsphinx": {
   "timeout": 600
  },
  "toc": {
   "base_numbering": 1,
   "nav_menu": {},
   "number_sections": true,
   "sideBar": true,
   "skip_h1_title": false,
   "title_cell": "Table of Contents",
   "title_sidebar": "Contents",
   "toc_cell": false,
   "toc_position": {},
   "toc_section_display": true,
   "toc_window_display": false
  },
  "varInspector": {
   "cols": {
    "lenName": 16,
    "lenType": 16,
    "lenVar": 40
   },
   "kernels_config": {
    "python": {
     "delete_cmd_postfix": "",
     "delete_cmd_prefix": "del ",
     "library": "var_list.py",
     "varRefreshCmd": "print(var_dic_list())"
    },
    "r": {
     "delete_cmd_postfix": ") ",
     "delete_cmd_prefix": "rm(",
     "library": "var_list.r",
     "varRefreshCmd": "cat(var_dic_list()) "
    }
   },
   "types_to_exclude": [
    "module",
    "function",
    "builtin_function_or_method",
    "instance",
    "_Feature"
   ],
   "window_display": false
  }
 },
 "nbformat": 4,
 "nbformat_minor": 2
}
