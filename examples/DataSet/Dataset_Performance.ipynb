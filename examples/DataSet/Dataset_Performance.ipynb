{
 "cells": [
  {
   "cell_type": "markdown",
   "metadata": {},
   "source": [
    "# DataSet Performance\n",
    "\n",
    "This notebook shows the trade-off between inserting data into a database row-by-row and as binary blobs. Inserting the data row-by-row means that we have direct access to all the data and may perform queries directly on the values of the data. On the other hand, as we shall see, this is much slower than inserting the data directly as binary blobs."
   ]
  },
  {
   "cell_type": "markdown",
   "metadata": {},
   "source": [
    "First, we choose a new location for the database to ensure that we don't add a bunch of benchmarking data to the default one."
   ]
  },
  {
   "cell_type": "code",
   "execution_count": 1,
   "metadata": {},
   "outputs": [
    {
     "name": "stdout",
     "output_type": "stream",
     "text": [
      "Logging hadn't been started.\n",
      "Activating auto-logging. Current session state plus future input saved.\n",
      "Filename       : /home/vsts/.qcodes/logs/command_history.log\n",
      "Mode           : append\n",
      "Output logging : True\n",
      "Raw input log  : False\n",
      "Timestamping   : True\n",
      "State          : active\n"
     ]
    },
    {
     "name": "stdout",
     "output_type": "stream",
     "text": [
      "Qcodes Logfile : /home/vsts/.qcodes/logs/200330-18189-qcodes.log\n"
     ]
    }
   ],
   "source": [
    "import os\n",
    "cwd = os.getcwd()\n",
    "import qcodes as qc\n",
    "qc.config[\"core\"][\"db_location\"] = os.path.join(cwd, 'testing.db')\n"
   ]
  },
  {
   "cell_type": "code",
   "execution_count": 2,
   "metadata": {},
   "outputs": [],
   "source": [
    "%matplotlib inline\n",
    "import time\n",
    "import matplotlib.pyplot as plt\n",
    "import numpy as np\n",
    "\n",
    "import qcodes as qc\n",
    "from qcodes.instrument.parameter import ManualParameter\n",
    "from qcodes.dataset.experiment_container import (Experiment,\n",
    "                                                 load_last_experiment,\n",
    "                                                 new_experiment)\n",
    "from qcodes.dataset.sqlite.database import initialise_database\n",
    "from qcodes import load_or_create_experiment\n",
    "from qcodes.dataset.measurements import Measurement"
   ]
  },
  {
   "cell_type": "code",
   "execution_count": 3,
   "metadata": {},
   "outputs": [
    {
     "name": "stdout",
     "output_type": "stream",
     "text": [
      "\r",
      "0it [00:00, ?it/s]"
     ]
    },
    {
     "name": "stdout",
     "output_type": "stream",
     "text": [
      "\r",
      "Upgrading database; v0 -> v1: : 0it [00:00, ?it/s]"
     ]
    },
    {
     "name": "stdout",
     "output_type": "stream",
     "text": [
      "\r",
      "Upgrading database; v0 -> v1: : 0it [00:00, ?it/s]"
     ]
    },
    {
     "name": "stdout",
     "output_type": "stream",
     "text": [
      "\n",
      "\r",
      "  0%|          | 0/1 [00:00<?, ?it/s]"
     ]
    },
    {
     "name": "stdout",
     "output_type": "stream",
     "text": [
      "\r",
      "Upgrading database; v1 -> v2:   0%|          | 0/1 [00:00<?, ?it/s]"
     ]
    },
    {
     "name": "stdout",
     "output_type": "stream",
     "text": [
      "\r",
      "Upgrading database; v1 -> v2: 100%|██████████| 1/1 [00:00<00:00, 841.89it/s]"
     ]
    },
    {
     "name": "stdout",
     "output_type": "stream",
     "text": [
      "\n",
      "\r",
      "0it [00:00, ?it/s]"
     ]
    },
    {
     "name": "stdout",
     "output_type": "stream",
     "text": [
      "\r",
      "Upgrading database; v2 -> v3: : 0it [00:00, ?it/s]"
     ]
    },
    {
     "name": "stdout",
     "output_type": "stream",
     "text": [
      "\r",
      "Upgrading database; v2 -> v3: : 0it [00:00, ?it/s]"
     ]
    },
    {
     "name": "stdout",
     "output_type": "stream",
     "text": [
      "\n",
      "\r",
      "0it [00:00, ?it/s]"
     ]
    },
    {
     "name": "stdout",
     "output_type": "stream",
     "text": [
      "\r",
      "Upgrading database; v3 -> v4: : 0it [00:00, ?it/s]"
     ]
    },
    {
     "name": "stdout",
     "output_type": "stream",
     "text": [
      "\r",
      "Upgrading database; v3 -> v4: : 0it [00:00, ?it/s]"
     ]
    },
    {
     "name": "stdout",
     "output_type": "stream",
     "text": [
      "\n",
      "\r",
      "  0%|          | 0/1 [00:00<?, ?it/s]"
     ]
    },
    {
     "name": "stdout",
     "output_type": "stream",
     "text": [
      "\r",
      "Upgrading database; v4 -> v5:   0%|          | 0/1 [00:00<?, ?it/s]"
     ]
    },
    {
     "name": "stdout",
     "output_type": "stream",
     "text": [
      "\r",
      "Upgrading database; v4 -> v5: 100%|██████████| 1/1 [00:00<00:00, 630.15it/s]"
     ]
    },
    {
     "name": "stdout",
     "output_type": "stream",
     "text": [
      "\n",
      "\r",
      "0it [00:00, ?it/s]"
     ]
    },
    {
     "name": "stdout",
     "output_type": "stream",
     "text": [
      "\r",
      "Upgrading database; v5 -> v6: : 0it [00:00, ?it/s]"
     ]
    },
    {
     "name": "stdout",
     "output_type": "stream",
     "text": [
      "\r",
      "Upgrading database; v5 -> v6: : 0it [00:00, ?it/s]"
     ]
    },
    {
     "name": "stdout",
     "output_type": "stream",
     "text": [
      "\n",
      "\r",
      "  0%|          | 0/1 [00:00<?, ?it/s]"
     ]
    },
    {
     "name": "stdout",
     "output_type": "stream",
     "text": [
      "\r",
      "Upgrading database; v6 -> v7:   0%|          | 0/1 [00:00<?, ?it/s]"
     ]
    },
    {
     "name": "stdout",
     "output_type": "stream",
     "text": [
      "\r",
      "Upgrading database; v6 -> v7: 100%|██████████| 1/1 [00:00<00:00, 412.74it/s]"
     ]
    },
    {
     "name": "stdout",
     "output_type": "stream",
     "text": [
      "\n",
      "\r",
      "  0%|          | 0/1 [00:00<?, ?it/s]"
     ]
    },
    {
     "name": "stdout",
     "output_type": "stream",
     "text": [
      "\r",
      "Upgrading database; v7 -> v8:   0%|          | 0/1 [00:00<?, ?it/s]"
     ]
    },
    {
     "name": "stdout",
     "output_type": "stream",
     "text": [
      "\r",
      "Upgrading database; v7 -> v8: 100%|██████████| 1/1 [00:00<00:00, 641.63it/s]"
     ]
    },
    {
     "name": "stdout",
     "output_type": "stream",
     "text": [
      "\n",
      "\r",
      "  0%|          | 0/1 [00:00<?, ?it/s]"
     ]
    },
    {
     "name": "stdout",
     "output_type": "stream",
     "text": [
      "\r",
      "Upgrading database; v8 -> v9:   0%|          | 0/1 [00:00<?, ?it/s]"
     ]
    },
    {
     "name": "stdout",
     "output_type": "stream",
     "text": [
      "\r",
      "Upgrading database; v8 -> v9: 100%|██████████| 1/1 [00:00<00:00, 831.71it/s]"
     ]
    },
    {
     "name": "stdout",
     "output_type": "stream",
     "text": [
      "\n"
     ]
    }
   ],
   "source": [
    "initialise_database()\n",
    "exp = load_or_create_experiment(experiment_name='tutorial_exp', sample_name=\"no sample\")"
   ]
  },
  {
   "cell_type": "markdown",
   "metadata": {},
   "source": [
    "Here, we define a simple function to benchmark the time it takes to insert n points with either numeric or array data type.\n",
    "We will compare both the time used to call ``add_result`` and the time used for the full measurement."
   ]
  },
  {
   "cell_type": "code",
   "execution_count": 4,
   "metadata": {},
   "outputs": [],
   "source": [
    "def insert_data(paramtype, npoints, nreps=1):\n",
    "\n",
    "    meas = Measurement(exp=exp)\n",
    "\n",
    "    x1 = ManualParameter('x1')\n",
    "    x2 = ManualParameter('x2')\n",
    "    x3 = ManualParameter('x3')\n",
    "    y1 = ManualParameter('y1')\n",
    "    y2 = ManualParameter('y2')\n",
    "\n",
    "    meas.register_parameter(x1, paramtype=paramtype)\n",
    "    meas.register_parameter(x2, paramtype=paramtype)\n",
    "    meas.register_parameter(x3, paramtype=paramtype)\n",
    "    meas.register_parameter(y1, setpoints=[x1, x2, x3],\n",
    "                            paramtype=paramtype)\n",
    "    meas.register_parameter(y2, setpoints=[x1, x2, x3],\n",
    "                            paramtype=paramtype)\n",
    "    start = time.perf_counter()\n",
    "    with meas.run() as datasaver:\n",
    "        start_adding = time.perf_counter()\n",
    "        for i in range(nreps):\n",
    "            datasaver.add_result((x1, np.random.rand(npoints)),\n",
    "                                 (x2, np.random.rand(npoints)),\n",
    "                                 (x3, np.random.rand(npoints)),\n",
    "                                 (y1, np.random.rand(npoints)),\n",
    "                                 (y2, np.random.rand(npoints)))\n",
    "        stop_adding = time.perf_counter()\n",
    "        run_id = datasaver.run_id\n",
    "    stop = time.perf_counter()\n",
    "    tot_time = stop - start\n",
    "    add_time = stop_adding - start_adding\n",
    "    return tot_time, add_time, run_id"
   ]
  },
  {
   "cell_type": "markdown",
   "metadata": {},
   "source": [
    "## Comparison between numeric/array data and binary blob"
   ]
  },
  {
   "cell_type": "markdown",
   "metadata": {},
   "source": [
    "### Case1: Short experiment time"
   ]
  },
  {
   "cell_type": "code",
   "execution_count": 5,
   "metadata": {},
   "outputs": [
    {
     "name": "stdout",
     "output_type": "stream",
     "text": [
      "Starting experimental run with id: 1. \n",
      "Starting experimental run with id: 2. \n",
      "Starting experimental run with id: 3. \n"
     ]
    },
    {
     "name": "stdout",
     "output_type": "stream",
     "text": [
      "Starting experimental run with id: 4. \n"
     ]
    },
    {
     "name": "stdout",
     "output_type": "stream",
     "text": [
      "Starting experimental run with id: 5. \n"
     ]
    },
    {
     "name": "stdout",
     "output_type": "stream",
     "text": [
      "Starting experimental run with id: 6. \n"
     ]
    },
    {
     "name": "stdout",
     "output_type": "stream",
     "text": [
      "Starting experimental run with id: 7. \n"
     ]
    },
    {
     "name": "stdout",
     "output_type": "stream",
     "text": [
      "Starting experimental run with id: 8. \n",
      "Starting experimental run with id: 9. \n"
     ]
    },
    {
     "name": "stdout",
     "output_type": "stream",
     "text": [
      "Starting experimental run with id: 10. \n",
      "Starting experimental run with id: 11. \n"
     ]
    },
    {
     "name": "stdout",
     "output_type": "stream",
     "text": [
      "Starting experimental run with id: 12. \n"
     ]
    },
    {
     "name": "stdout",
     "output_type": "stream",
     "text": [
      "Starting experimental run with id: 13. \n"
     ]
    },
    {
     "name": "stdout",
     "output_type": "stream",
     "text": [
      "Starting experimental run with id: 14. \n"
     ]
    }
   ],
   "source": [
    "sizes = [1,500,1000,2000,3000,4000,5000]\n",
    "t_numeric = []\n",
    "t_numeric_add = []\n",
    "t_array = []\n",
    "t_array_add = []\n",
    "for size in sizes:\n",
    "    tn, tna, run_id_n =  insert_data('numeric', size)\n",
    "    t_numeric.append(tn)\n",
    "    t_numeric_add.append(tna)\n",
    "\n",
    "    ta, taa, run_id_a =  insert_data('array', size)\n",
    "    t_array.append(ta)\n",
    "    t_array_add.append(taa)"
   ]
  },
  {
   "cell_type": "code",
   "execution_count": 6,
   "metadata": {},
   "outputs": [
    {
     "data": {
      "image/png": "[encoded data removed]",
      "text/plain": [
       "<Figure size 432x288 with 1 Axes>"
      ]
     },
     "metadata": {
      "needs_background": "light"
     },
     "output_type": "display_data"
    }
   ],
   "source": [
    "fig, ax = plt.subplots(1,1)\n",
    "ax.plot(sizes, t_numeric, 'o-', label='Inserting row-by-row')\n",
    "ax.plot(sizes, t_numeric_add, 'o-', label='Inserting row-by-row: add_result only')\n",
    "ax.plot(sizes, t_array, 'd-', label='Inserting as binary blob')\n",
    "ax.plot(sizes, t_array_add, 'd-', label='Inserting as binary blob: add_result only')\n",
    "ax.legend()\n",
    "ax.set_xlabel('Array length')\n",
    "ax.set_ylabel('Time (s)')\n",
    "fig.tight_layout()"
   ]
  },
  {
   "cell_type": "markdown",
   "metadata": {},
   "source": [
    "As shown in the latter figure, the time to setup and and close the experiment is approximately 0.4 sec. In case of small array sizes, the difference between inserting values of data as arrays and inserting them row-by-row is relatively unimportant. At larger array sizes, i.e. above 10000 points, the cost of writing data as individual datapoints starts to become important.\n"
   ]
  },
  {
   "cell_type": "markdown",
   "metadata": {},
   "source": [
    "### Case2: Long experiment time "
   ]
  },
  {
   "cell_type": "code",
   "execution_count": 7,
   "metadata": {},
   "outputs": [
    {
     "name": "stdout",
     "output_type": "stream",
     "text": [
      "Starting experimental run with id: 15. \n",
      "Starting experimental run with id: 16. \n",
      "Starting experimental run with id: 17. \n"
     ]
    },
    {
     "name": "stdout",
     "output_type": "stream",
     "text": [
      "Starting experimental run with id: 18. \n",
      "Starting experimental run with id: 19. \n"
     ]
    },
    {
     "name": "stdout",
     "output_type": "stream",
     "text": [
      "Starting experimental run with id: 20. \n"
     ]
    },
    {
     "name": "stdout",
     "output_type": "stream",
     "text": [
      "Starting experimental run with id: 21. \n"
     ]
    },
    {
     "name": "stdout",
     "output_type": "stream",
     "text": [
      "Starting experimental run with id: 22. \n"
     ]
    },
    {
     "name": "stdout",
     "output_type": "stream",
     "text": [
      "Starting experimental run with id: 23. \n"
     ]
    },
    {
     "name": "stdout",
     "output_type": "stream",
     "text": [
      "Starting experimental run with id: 24. \n"
     ]
    },
    {
     "name": "stdout",
     "output_type": "stream",
     "text": [
      "Starting experimental run with id: 25. \n"
     ]
    },
    {
     "name": "stdout",
     "output_type": "stream",
     "text": [
      "Starting experimental run with id: 26. \n"
     ]
    },
    {
     "name": "stdout",
     "output_type": "stream",
     "text": [
      "Starting experimental run with id: 27. \n"
     ]
    },
    {
     "name": "stdout",
     "output_type": "stream",
     "text": [
      "Starting experimental run with id: 28. \n"
     ]
    }
   ],
   "source": [
    "sizes = [1,500,1000,2000,3000,4000,5000]\n",
    "nreps = 100\n",
    "t_numeric = []\n",
    "t_numeric_add = []\n",
    "t_numeric_run_ids = []\n",
    "t_array = []\n",
    "t_array_add = []\n",
    "t_array_run_ids = []\n",
    "for size in sizes:\n",
    "    tn, tna, run_id_n =  insert_data('numeric', size, nreps=nreps)\n",
    "    t_numeric.append(tn)\n",
    "    t_numeric_add.append(tna)\n",
    "    t_numeric_run_ids.append(run_id_n)\n",
    "\n",
    "    ta, taa, run_id_a =  insert_data('array', size, nreps=nreps)\n",
    "    t_array.append(ta)\n",
    "    t_array_add.append(taa)\n",
    "    t_array_run_ids.append(run_id_a)"
   ]
  },
  {
   "cell_type": "code",
   "execution_count": 8,
   "metadata": {
    "scrolled": true
   },
   "outputs": [
    {
     "data": {
      "image/png": "[encoded data removed]",
      "text/plain": [
       "<Figure size 432x288 with 1 Axes>"
      ]
     },
     "metadata": {
      "needs_background": "light"
     },
     "output_type": "display_data"
    }
   ],
   "source": [
    "fig, ax = plt.subplots(1,1)\n",
    "ax.plot(sizes, t_numeric, 'o-', label='Inserting row-by-row')\n",
    "ax.plot(sizes, t_numeric_add, 'o-', label='Inserting row-by-row: add_result only')\n",
    "ax.plot(sizes, t_array, 'd-', label='Inserting as binary blob')\n",
    "ax.plot(sizes, t_array_add, 'd-', label='Inserting as binary blob: add_result only')\n",
    "ax.legend()\n",
    "ax.set_xlabel('Array length')\n",
    "ax.set_ylabel('Time (s)')\n",
    "fig.tight_layout()"
   ]
  },
  {
   "cell_type": "markdown",
   "metadata": {},
   "source": [
    "However, as we increase the length of the experiment, as seen here by repeating the insertion 100 times, we see a big difference between inserting values of the data row-by-row and inserting it as a binary blob."
   ]
  },
  {
   "cell_type": "markdown",
   "metadata": {},
   "source": [
    "## Loading the data "
   ]
  },
  {
   "cell_type": "code",
   "execution_count": 9,
   "metadata": {},
   "outputs": [],
   "source": [
    "from qcodes.dataset.data_set import load_by_id\n",
    "from qcodes.dataset.data_export import get_data_by_id"
   ]
  },
  {
   "cell_type": "markdown",
   "metadata": {},
   "source": [
    "As usual you can load the data by using the ``load_by_id`` function but you will notice that the different storage methods\n",
    "are reflected in shape of the data as it is retrieved. "
   ]
  },
  {
   "cell_type": "code",
   "execution_count": 10,
   "metadata": {},
   "outputs": [],
   "source": [
    "run_id_n = t_numeric_run_ids[0]\n",
    "run_id_a = t_array_run_ids[0]"
   ]
  },
  {
   "cell_type": "code",
   "execution_count": 11,
   "metadata": {
    "scrolled": true
   },
   "outputs": [
    {
     "data": {
      "text/plain": [
       "{'x1': {'x1': array([0.12456852, 0.12456852, 0.14669101, 0.14669101, 0.72556928,\n",
       "         0.72556928, 0.32160408, 0.32160408, 0.10082555, 0.10082555,\n",
       "         0.48550825, 0.48550825, 0.20556276, 0.20556276, 0.21156848,\n",
       "         0.21156848, 0.75226959, 0.75226959, 0.96496341, 0.96496341,\n",
       "         0.00834936, 0.00834936, 0.20937911, 0.20937911, 0.58923998,\n",
       "         0.58923998, 0.95024602, 0.95024602, 0.36081458, 0.36081458,\n",
       "         0.84174681, 0.84174681, 0.16945247, 0.16945247, 0.62178654,\n",
       "         0.62178654, 0.48659112, 0.48659112, 0.26781516, 0.26781516,\n",
       "         0.51811462, 0.51811462, 0.9981128 , 0.9981128 , 0.94708377,\n",
       "         0.94708377, 0.63583757, 0.63583757, 0.45939527, 0.45939527,\n",
       "         0.6873392 , 0.6873392 , 0.24704981, 0.24704981, 0.89167796,\n",
       "         0.89167796, 0.04156655, 0.04156655, 0.90324181, 0.90324181,\n",
       "         0.63132106, 0.63132106, 0.39958942, 0.39958942, 0.33501024,\n",
       "         0.33501024, 0.85761363, 0.85761363, 0.87878385, 0.87878385,\n",
       "         0.79617412, 0.79617412, 0.72559674, 0.72559674, 0.42466581,\n",
       "         0.42466581, 0.88275572, 0.88275572, 0.43738944, 0.43738944,\n",
       "         0.47950462, 0.47950462, 0.89039262, 0.89039262, 0.01626469,\n",
       "         0.01626469, 0.73321192, 0.73321192, 0.90304079, 0.90304079,\n",
       "         0.45822086, 0.45822086, 0.25445442, 0.25445442, 0.48043421,\n",
       "         0.48043421, 0.04320683, 0.04320683, 0.90504783, 0.90504783,\n",
       "         0.68605702, 0.68605702, 0.90918121, 0.90918121, 0.53937559,\n",
       "         0.53937559, 0.89388988, 0.89388988, 0.25759829, 0.25759829,\n",
       "         0.5754055 , 0.5754055 , 0.32730533, 0.32730533, 0.48110753,\n",
       "         0.48110753, 0.47842731, 0.47842731, 0.90680181, 0.90680181,\n",
       "         0.98857583, 0.98857583, 0.70754937, 0.70754937, 0.09767822,\n",
       "         0.09767822, 0.05346353, 0.05346353, 0.53200505, 0.53200505,\n",
       "         0.54021177, 0.54021177, 0.66687188, 0.66687188, 0.44096998,\n",
       "         0.44096998, 0.75914957, 0.75914957, 0.73586841, 0.73586841,\n",
       "         0.17208647, 0.17208647, 0.83373164, 0.83373164, 0.7689605 ,\n",
       "         0.7689605 , 0.62694435, 0.62694435, 0.32885605, 0.32885605,\n",
       "         0.12797328, 0.12797328, 0.28452503, 0.28452503, 0.5650267 ,\n",
       "         0.5650267 , 0.08013467, 0.08013467, 0.36041842, 0.36041842,\n",
       "         0.89834112, 0.89834112, 0.12482552, 0.12482552, 0.08054299,\n",
       "         0.08054299, 0.25393115, 0.25393115, 0.76976885, 0.76976885,\n",
       "         0.26869943, 0.26869943, 0.43082002, 0.43082002, 0.11590363,\n",
       "         0.11590363, 0.09912233, 0.09912233, 0.99098322, 0.99098322,\n",
       "         0.16303997, 0.16303997, 0.59457184, 0.59457184, 0.43573284,\n",
       "         0.43573284, 0.64048808, 0.64048808, 0.83324458, 0.83324458,\n",
       "         0.70343513, 0.70343513, 0.49736756, 0.49736756, 0.7314404 ,\n",
       "         0.7314404 , 0.94561899, 0.94561899, 0.82695432, 0.82695432])}}"
      ]
     },
     "execution_count": 11,
     "metadata": {},
     "output_type": "execute_result"
    }
   ],
   "source": [
    "ds = load_by_id(run_id_n)\n",
    "ds.get_parameter_data('x1')"
   ]
  },
  {
   "cell_type": "markdown",
   "metadata": {},
   "source": [
    "And a dataset stored as binary arrays"
   ]
  },
  {
   "cell_type": "code",
   "execution_count": 12,
   "metadata": {
    "scrolled": true
   },
   "outputs": [
    {
     "data": {
      "text/plain": [
       "{'x1': {'x1': array([[0.55716471],\n",
       "         [0.55716471],\n",
       "         [0.38269287],\n",
       "         [0.38269287],\n",
       "         [0.39222302],\n",
       "         [0.39222302],\n",
       "         [0.19562877],\n",
       "         [0.19562877],\n",
       "         [0.54189377],\n",
       "         [0.54189377],\n",
       "         [0.68669144],\n",
       "         [0.68669144],\n",
       "         [0.75569628],\n",
       "         [0.75569628],\n",
       "         [0.55392124],\n",
       "         [0.55392124],\n",
       "         [0.51419282],\n",
       "         [0.51419282],\n",
       "         [0.18979785],\n",
       "         [0.18979785],\n",
       "         [0.94637908],\n",
       "         [0.94637908],\n",
       "         [0.88080686],\n",
       "         [0.88080686],\n",
       "         [0.18110656],\n",
       "         [0.18110656],\n",
       "         [0.8830755 ],\n",
       "         [0.8830755 ],\n",
       "         [0.3978294 ],\n",
       "         [0.3978294 ],\n",
       "         [0.98412682],\n",
       "         [0.98412682],\n",
       "         [0.48331876],\n",
       "         [0.48331876],\n",
       "         [0.11528358],\n",
       "         [0.11528358],\n",
       "         [0.89383137],\n",
       "         [0.89383137],\n",
       "         [0.42742958],\n",
       "         [0.42742958],\n",
       "         [0.81183435],\n",
       "         [0.81183435],\n",
       "         [0.31282652],\n",
       "         [0.31282652],\n",
       "         [0.74159336],\n",
       "         [0.74159336],\n",
       "         [0.01414103],\n",
       "         [0.01414103],\n",
       "         [0.673704  ],\n",
       "         [0.673704  ],\n",
       "         [0.52060081],\n",
       "         [0.52060081],\n",
       "         [0.16758088],\n",
       "         [0.16758088],\n",
       "         [0.47050112],\n",
       "         [0.47050112],\n",
       "         [0.7487953 ],\n",
       "         [0.7487953 ],\n",
       "         [0.90939202],\n",
       "         [0.90939202],\n",
       "         [0.54043653],\n",
       "         [0.54043653],\n",
       "         [0.3180825 ],\n",
       "         [0.3180825 ],\n",
       "         [0.33163744],\n",
       "         [0.33163744],\n",
       "         [0.79406924],\n",
       "         [0.79406924],\n",
       "         [0.12832686],\n",
       "         [0.12832686],\n",
       "         [0.8652247 ],\n",
       "         [0.8652247 ],\n",
       "         [0.48592365],\n",
       "         [0.48592365],\n",
       "         [0.72106673],\n",
       "         [0.72106673],\n",
       "         [0.92379957],\n",
       "         [0.92379957],\n",
       "         [0.35802481],\n",
       "         [0.35802481],\n",
       "         [0.07458562],\n",
       "         [0.07458562],\n",
       "         [0.83330406],\n",
       "         [0.83330406],\n",
       "         [0.93616786],\n",
       "         [0.93616786],\n",
       "         [0.2807188 ],\n",
       "         [0.2807188 ],\n",
       "         [0.36186578],\n",
       "         [0.36186578],\n",
       "         [0.43393902],\n",
       "         [0.43393902],\n",
       "         [0.87346599],\n",
       "         [0.87346599],\n",
       "         [0.02800303],\n",
       "         [0.02800303],\n",
       "         [0.05491   ],\n",
       "         [0.05491   ],\n",
       "         [0.13890634],\n",
       "         [0.13890634],\n",
       "         [0.6600979 ],\n",
       "         [0.6600979 ],\n",
       "         [0.58336506],\n",
       "         [0.58336506],\n",
       "         [0.12142095],\n",
       "         [0.12142095],\n",
       "         [0.65693575],\n",
       "         [0.65693575],\n",
       "         [0.53758768],\n",
       "         [0.53758768],\n",
       "         [0.50334375],\n",
       "         [0.50334375],\n",
       "         [0.96141045],\n",
       "         [0.96141045],\n",
       "         [0.01952775],\n",
       "         [0.01952775],\n",
       "         [0.90097333],\n",
       "         [0.90097333],\n",
       "         [0.0656436 ],\n",
       "         [0.0656436 ],\n",
       "         [0.55420263],\n",
       "         [0.55420263],\n",
       "         [0.48953135],\n",
       "         [0.48953135],\n",
       "         [0.17250809],\n",
       "         [0.17250809],\n",
       "         [0.94600807],\n",
       "         [0.94600807],\n",
       "         [0.06446633],\n",
       "         [0.06446633],\n",
       "         [0.02067526],\n",
       "         [0.02067526],\n",
       "         [0.94725338],\n",
       "         [0.94725338],\n",
       "         [0.10076917],\n",
       "         [0.10076917],\n",
       "         [0.48357495],\n",
       "         [0.48357495],\n",
       "         [0.53941113],\n",
       "         [0.53941113],\n",
       "         [0.8088228 ],\n",
       "         [0.8088228 ],\n",
       "         [0.25883253],\n",
       "         [0.25883253],\n",
       "         [0.20199338],\n",
       "         [0.20199338],\n",
       "         [0.1408002 ],\n",
       "         [0.1408002 ],\n",
       "         [0.70361534],\n",
       "         [0.70361534],\n",
       "         [0.42551809],\n",
       "         [0.42551809],\n",
       "         [0.24055463],\n",
       "         [0.24055463],\n",
       "         [0.55168172],\n",
       "         [0.55168172],\n",
       "         [0.56895889],\n",
       "         [0.56895889],\n",
       "         [0.50741809],\n",
       "         [0.50741809],\n",
       "         [0.84443946],\n",
       "         [0.84443946],\n",
       "         [0.49809682],\n",
       "         [0.49809682],\n",
       "         [0.56545611],\n",
       "         [0.56545611],\n",
       "         [0.9256901 ],\n",
       "         [0.9256901 ],\n",
       "         [0.91291918],\n",
       "         [0.91291918],\n",
       "         [0.31731208],\n",
       "         [0.31731208],\n",
       "         [0.60698192],\n",
       "         [0.60698192],\n",
       "         [0.48370498],\n",
       "         [0.48370498],\n",
       "         [0.673984  ],\n",
       "         [0.673984  ],\n",
       "         [0.51323574],\n",
       "         [0.51323574],\n",
       "         [0.31419368],\n",
       "         [0.31419368],\n",
       "         [0.7925454 ],\n",
       "         [0.7925454 ],\n",
       "         [0.57144909],\n",
       "         [0.57144909],\n",
       "         [0.83976132],\n",
       "         [0.83976132],\n",
       "         [0.20914857],\n",
       "         [0.20914857],\n",
       "         [0.94868431],\n",
       "         [0.94868431],\n",
       "         [0.33676599],\n",
       "         [0.33676599],\n",
       "         [0.83441797],\n",
       "         [0.83441797],\n",
       "         [0.14874004],\n",
       "         [0.14874004],\n",
       "         [0.49440768],\n",
       "         [0.49440768]])}}"
      ]
     },
     "execution_count": 12,
     "metadata": {},
     "output_type": "execute_result"
    }
   ],
   "source": [
    "ds = load_by_id(run_id_a)\n",
    "ds.get_parameter_data('x1')"
   ]
  },
  {
   "cell_type": "code",
   "execution_count": null,
   "metadata": {},
   "outputs": [],
   "source": []
  }
 ],
 "metadata": {
  "kernelspec": {
   "display_name": "Python 3",
   "language": "python",
   "name": "python3"
  },
  "language_info": {
   "codemirror_mode": {
    "name": "ipython",
    "version": 3
   },
   "file_extension": ".py",
   "mimetype": "text/x-python",
   "name": "python",
   "nbconvert_exporter": "python",
   "pygments_lexer": "ipython3",
   "version": "3.7.7"
  },
  "nbsphinx": {
   "timeout": 600
  },
  "toc": {
   "base_numbering": 1,
   "nav_menu": {},
   "number_sections": true,
   "sideBar": true,
   "skip_h1_title": false,
   "title_cell": "Table of Contents",
   "title_sidebar": "Contents",
   "toc_cell": false,
   "toc_position": {},
   "toc_section_display": true,
   "toc_window_display": false
  },
  "varInspector": {
   "cols": {
    "lenName": 16,
    "lenType": 16,
    "lenVar": 40
   },
   "kernels_config": {
    "python": {
     "delete_cmd_postfix": "",
     "delete_cmd_prefix": "del ",
     "library": "var_list.py",
     "varRefreshCmd": "print(var_dic_list())"
    },
    "r": {
     "delete_cmd_postfix": ") ",
     "delete_cmd_prefix": "rm(",
     "library": "var_list.r",
     "varRefreshCmd": "cat(var_dic_list()) "
    }
   },
   "types_to_exclude": [
    "module",
    "function",
    "builtin_function_or_method",
    "instance",
    "_Feature"
   ],
   "window_display": false
  }
 },
 "nbformat": 4,
 "nbformat_minor": 2
}
