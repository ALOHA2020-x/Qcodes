{
 "cells": [
  {
   "cell_type": "markdown",
   "metadata": {},
   "source": [
    "# DataSet Performance\n",
    "\n",
    "This notebook shows the trade-off between inserting data into a database row-by-row and as binary blobs. Inserting the data row-by-row means that we have direct access to all the data and may perform queries directly on the values of the data. On the other hand, as we shall see, this is much slower than inserting the data directly as binary blobs."
   ]
  },
  {
   "cell_type": "markdown",
   "metadata": {},
   "source": [
    "First, we choose a new location for the database to ensure that we don't add a bunch of benchmarking data to the default one."
   ]
  },
  {
   "cell_type": "code",
   "execution_count": 1,
   "metadata": {
    "execution": {
     "iopub.execute_input": "2021-02-04T08:05:53.410247Z",
     "iopub.status.busy": "2021-02-04T08:05:53.409649Z",
     "iopub.status.idle": "2021-02-04T08:05:54.404367Z",
     "shell.execute_reply": "2021-02-04T08:05:54.403670Z"
    }
   },
   "outputs": [
    {
     "name": "stdout",
     "output_type": "stream",
     "text": [
      "Logging hadn't been started.\n",
      "Activating auto-logging. Current session state plus future input saved.\n",
      "Filename       : /home/vsts/.qcodes/logs/command_history.log\n",
      "Mode           : append\n",
      "Output logging : True\n",
      "Raw input log  : False\n",
      "Timestamping   : True\n",
      "State          : active\n"
     ]
    },
    {
     "name": "stdout",
     "output_type": "stream",
     "text": [
      "Qcodes Logfile : /home/vsts/.qcodes/logs/210204-14218-qcodes.log\n"
     ]
    }
   ],
   "source": [
    "import os\n",
    "cwd = os.getcwd()\n",
    "import qcodes as qc\n",
    "qc.config[\"core\"][\"db_location\"] = os.path.join(cwd, 'testing.db')\n"
   ]
  },
  {
   "cell_type": "code",
   "execution_count": 2,
   "metadata": {
    "execution": {
     "iopub.execute_input": "2021-02-04T08:05:54.411646Z",
     "iopub.status.busy": "2021-02-04T08:05:54.410287Z",
     "iopub.status.idle": "2021-02-04T08:05:54.593857Z",
     "shell.execute_reply": "2021-02-04T08:05:54.592226Z"
    }
   },
   "outputs": [],
   "source": [
    "%matplotlib inline\n",
    "import time\n",
    "import matplotlib.pyplot as plt\n",
    "import numpy as np\n",
    "\n",
    "import qcodes as qc\n",
    "from qcodes.instrument.parameter import ManualParameter\n",
    "from qcodes.dataset.experiment_container import (Experiment,\n",
    "                                                 load_last_experiment,\n",
    "                                                 new_experiment)\n",
    "from qcodes.dataset.sqlite.database import initialise_database\n",
    "from qcodes import load_or_create_experiment\n",
    "from qcodes.dataset.measurements import Measurement"
   ]
  },
  {
   "cell_type": "code",
   "execution_count": 3,
   "metadata": {
    "execution": {
     "iopub.execute_input": "2021-02-04T08:05:54.598932Z",
     "iopub.status.busy": "2021-02-04T08:05:54.597575Z",
     "iopub.status.idle": "2021-02-04T08:05:54.704174Z",
     "shell.execute_reply": "2021-02-04T08:05:54.703704Z"
    }
   },
   "outputs": [
    {
     "name": "stdout",
     "output_type": "stream",
     "text": [
      "\r",
      "0it [00:00, ?it/s]"
     ]
    },
    {
     "name": "stdout",
     "output_type": "stream",
     "text": [
      "\r",
      "Upgrading database; v0 -> v1: : 0it [00:00, ?it/s]"
     ]
    },
    {
     "name": "stdout",
     "output_type": "stream",
     "text": [
      "\r",
      "Upgrading database; v0 -> v1: : 0it [00:00, ?it/s]"
     ]
    },
    {
     "name": "stdout",
     "output_type": "stream",
     "text": [
      "\n",
      "\r",
      "  0%|          | 0/1 [00:00<?, ?it/s]"
     ]
    },
    {
     "name": "stdout",
     "output_type": "stream",
     "text": [
      "\r",
      "Upgrading database; v1 -> v2:   0%|          | 0/1 [00:00<?, ?it/s]"
     ]
    },
    {
     "name": "stdout",
     "output_type": "stream",
     "text": [
      "\r",
      "Upgrading database; v1 -> v2: 100%|██████████| 1/1 [00:00<00:00, 657.11it/s]"
     ]
    },
    {
     "name": "stdout",
     "output_type": "stream",
     "text": [
      "\n",
      "\r",
      "0it [00:00, ?it/s]"
     ]
    },
    {
     "name": "stdout",
     "output_type": "stream",
     "text": [
      "\r",
      "Upgrading database; v2 -> v3: : 0it [00:00, ?it/s]"
     ]
    },
    {
     "name": "stdout",
     "output_type": "stream",
     "text": [
      "\r",
      "Upgrading database; v2 -> v3: : 0it [00:00, ?it/s]"
     ]
    },
    {
     "name": "stdout",
     "output_type": "stream",
     "text": [
      "\n",
      "\r",
      "0it [00:00, ?it/s]"
     ]
    },
    {
     "name": "stdout",
     "output_type": "stream",
     "text": [
      "\r",
      "Upgrading database; v3 -> v4: : 0it [00:00, ?it/s]"
     ]
    },
    {
     "name": "stdout",
     "output_type": "stream",
     "text": [
      "\r",
      "Upgrading database; v3 -> v4: : 0it [00:00, ?it/s]"
     ]
    },
    {
     "name": "stdout",
     "output_type": "stream",
     "text": [
      "\n",
      "\r",
      "  0%|          | 0/1 [00:00<?, ?it/s]"
     ]
    },
    {
     "name": "stdout",
     "output_type": "stream",
     "text": [
      "\r",
      "Upgrading database; v4 -> v5:   0%|          | 0/1 [00:00<?, ?it/s]"
     ]
    },
    {
     "name": "stdout",
     "output_type": "stream",
     "text": [
      "\r",
      "Upgrading database; v4 -> v5: 100%|██████████| 1/1 [00:00<00:00, 438.32it/s]"
     ]
    },
    {
     "name": "stdout",
     "output_type": "stream",
     "text": [
      "\n",
      "\r",
      "0it [00:00, ?it/s]"
     ]
    },
    {
     "name": "stdout",
     "output_type": "stream",
     "text": [
      "\r",
      "Upgrading database; v5 -> v6: : 0it [00:00, ?it/s]"
     ]
    },
    {
     "name": "stdout",
     "output_type": "stream",
     "text": [
      "\r",
      "Upgrading database; v5 -> v6: : 0it [00:00, ?it/s]"
     ]
    },
    {
     "name": "stdout",
     "output_type": "stream",
     "text": [
      "\n",
      "\r",
      "  0%|          | 0/1 [00:00<?, ?it/s]"
     ]
    },
    {
     "name": "stdout",
     "output_type": "stream",
     "text": [
      "\r",
      "Upgrading database; v6 -> v7:   0%|          | 0/1 [00:00<?, ?it/s]"
     ]
    },
    {
     "name": "stdout",
     "output_type": "stream",
     "text": [
      "\r",
      "Upgrading database; v6 -> v7: 100%|██████████| 1/1 [00:00<00:00, 440.76it/s]"
     ]
    },
    {
     "name": "stdout",
     "output_type": "stream",
     "text": [
      "\n",
      "\r",
      "  0%|          | 0/1 [00:00<?, ?it/s]"
     ]
    },
    {
     "name": "stdout",
     "output_type": "stream",
     "text": [
      "\r",
      "Upgrading database; v7 -> v8:   0%|          | 0/1 [00:00<?, ?it/s]"
     ]
    },
    {
     "name": "stdout",
     "output_type": "stream",
     "text": [
      "\r",
      "Upgrading database; v7 -> v8: 100%|██████████| 1/1 [00:00<00:00, 483.10it/s]"
     ]
    },
    {
     "name": "stdout",
     "output_type": "stream",
     "text": [
      "\n",
      "\r",
      "  0%|          | 0/1 [00:00<?, ?it/s]"
     ]
    },
    {
     "name": "stdout",
     "output_type": "stream",
     "text": [
      "\r",
      "Upgrading database; v8 -> v9:   0%|          | 0/1 [00:00<?, ?it/s]"
     ]
    },
    {
     "name": "stdout",
     "output_type": "stream",
     "text": [
      "\r",
      "Upgrading database; v8 -> v9: 100%|██████████| 1/1 [00:00<00:00, 454.13it/s]"
     ]
    },
    {
     "name": "stdout",
     "output_type": "stream",
     "text": [
      "\n"
     ]
    }
   ],
   "source": [
    "initialise_database()\n",
    "exp = load_or_create_experiment(experiment_name='tutorial_exp', sample_name=\"no sample\")"
   ]
  },
  {
   "cell_type": "markdown",
   "metadata": {},
   "source": [
    "Here, we define a simple function to benchmark the time it takes to insert n points with either numeric or array data type.\n",
    "We will compare both the time used to call ``add_result`` and the time used for the full measurement."
   ]
  },
  {
   "cell_type": "code",
   "execution_count": 4,
   "metadata": {
    "execution": {
     "iopub.execute_input": "2021-02-04T08:05:54.712028Z",
     "iopub.status.busy": "2021-02-04T08:05:54.710713Z",
     "iopub.status.idle": "2021-02-04T08:05:54.715005Z",
     "shell.execute_reply": "2021-02-04T08:05:54.714559Z"
    }
   },
   "outputs": [],
   "source": [
    "def insert_data(paramtype, npoints, nreps=1):\n",
    "\n",
    "    meas = Measurement(exp=exp)\n",
    "\n",
    "    x1 = ManualParameter('x1')\n",
    "    x2 = ManualParameter('x2')\n",
    "    x3 = ManualParameter('x3')\n",
    "    y1 = ManualParameter('y1')\n",
    "    y2 = ManualParameter('y2')\n",
    "\n",
    "    meas.register_parameter(x1, paramtype=paramtype)\n",
    "    meas.register_parameter(x2, paramtype=paramtype)\n",
    "    meas.register_parameter(x3, paramtype=paramtype)\n",
    "    meas.register_parameter(y1, setpoints=[x1, x2, x3],\n",
    "                            paramtype=paramtype)\n",
    "    meas.register_parameter(y2, setpoints=[x1, x2, x3],\n",
    "                            paramtype=paramtype)\n",
    "    start = time.perf_counter()\n",
    "    with meas.run() as datasaver:\n",
    "        start_adding = time.perf_counter()\n",
    "        for i in range(nreps):\n",
    "            datasaver.add_result((x1, np.random.rand(npoints)),\n",
    "                                 (x2, np.random.rand(npoints)),\n",
    "                                 (x3, np.random.rand(npoints)),\n",
    "                                 (y1, np.random.rand(npoints)),\n",
    "                                 (y2, np.random.rand(npoints)))\n",
    "        stop_adding = time.perf_counter()\n",
    "        run_id = datasaver.run_id\n",
    "    stop = time.perf_counter()\n",
    "    tot_time = stop - start\n",
    "    add_time = stop_adding - start_adding\n",
    "    return tot_time, add_time, run_id"
   ]
  },
  {
   "cell_type": "markdown",
   "metadata": {},
   "source": [
    "## Comparison between numeric/array data and binary blob"
   ]
  },
  {
   "cell_type": "markdown",
   "metadata": {},
   "source": [
    "### Case1: Short experiment time"
   ]
  },
  {
   "cell_type": "code",
   "execution_count": 5,
   "metadata": {
    "execution": {
     "iopub.execute_input": "2021-02-04T08:05:54.721702Z",
     "iopub.status.busy": "2021-02-04T08:05:54.721073Z",
     "iopub.status.idle": "2021-02-04T08:05:55.520678Z",
     "shell.execute_reply": "2021-02-04T08:05:55.520195Z"
    }
   },
   "outputs": [
    {
     "name": "stdout",
     "output_type": "stream",
     "text": [
      "Starting experimental run with id: 1. \n",
      "Starting experimental run with id: 2. \n",
      "Starting experimental run with id: 3. \n",
      "Starting experimental run with id: 4. \n",
      "Starting experimental run with id: 5. \n"
     ]
    },
    {
     "name": "stdout",
     "output_type": "stream",
     "text": [
      "Starting experimental run with id: 6. "
     ]
    },
    {
     "name": "stdout",
     "output_type": "stream",
     "text": [
      "\n"
     ]
    },
    {
     "name": "stdout",
     "output_type": "stream",
     "text": [
      "Starting experimental run with id: 7. \n"
     ]
    },
    {
     "name": "stdout",
     "output_type": "stream",
     "text": [
      "Starting experimental run with id: 8. \n",
      "Starting experimental run with id: 9. \n"
     ]
    },
    {
     "name": "stdout",
     "output_type": "stream",
     "text": [
      "Starting experimental run with id: 10. \n",
      "Starting experimental run with id: 11. \n"
     ]
    },
    {
     "name": "stdout",
     "output_type": "stream",
     "text": [
      "Starting experimental run with id: 12. \n",
      "Starting experimental run with id: 13. \n"
     ]
    },
    {
     "name": "stdout",
     "output_type": "stream",
     "text": [
      "Starting experimental run with id: 14. \n"
     ]
    }
   ],
   "source": [
    "sizes = [1,500,1000,2000,3000,4000,5000]\n",
    "t_numeric = []\n",
    "t_numeric_add = []\n",
    "t_array = []\n",
    "t_array_add = []\n",
    "for size in sizes:\n",
    "    tn, tna, run_id_n =  insert_data('numeric', size)\n",
    "    t_numeric.append(tn)\n",
    "    t_numeric_add.append(tna)\n",
    "\n",
    "    ta, taa, run_id_a =  insert_data('array', size)\n",
    "    t_array.append(ta)\n",
    "    t_array_add.append(taa)"
   ]
  },
  {
   "cell_type": "code",
   "execution_count": 6,
   "metadata": {
    "execution": {
     "iopub.execute_input": "2021-02-04T08:05:55.537230Z",
     "iopub.status.busy": "2021-02-04T08:05:55.524943Z",
     "iopub.status.idle": "2021-02-04T08:05:55.707688Z",
     "shell.execute_reply": "2021-02-04T08:05:55.708428Z"
    }
   },
   "outputs": [
    {
     "data": {
      "image/png": "[encoded data removed]",
      "text/plain": [
       "<Figure size 432x288 with 1 Axes>"
      ]
     },
     "metadata": {
      "needs_background": "light"
     },
     "output_type": "display_data"
    }
   ],
   "source": [
    "fig, ax = plt.subplots(1,1)\n",
    "ax.plot(sizes, t_numeric, 'o-', label='Inserting row-by-row')\n",
    "ax.plot(sizes, t_numeric_add, 'o-', label='Inserting row-by-row: add_result only')\n",
    "ax.plot(sizes, t_array, 'd-', label='Inserting as binary blob')\n",
    "ax.plot(sizes, t_array_add, 'd-', label='Inserting as binary blob: add_result only')\n",
    "ax.legend()\n",
    "ax.set_xlabel('Array length')\n",
    "ax.set_ylabel('Time (s)')\n",
    "fig.tight_layout()"
   ]
  },
  {
   "cell_type": "markdown",
   "metadata": {},
   "source": [
    "As shown in the latter figure, the time to setup and and close the experiment is approximately 0.4 sec. In case of small array sizes, the difference between inserting values of data as arrays and inserting them row-by-row is relatively unimportant. At larger array sizes, i.e. above 10000 points, the cost of writing data as individual datapoints starts to become important.\n"
   ]
  },
  {
   "cell_type": "markdown",
   "metadata": {},
   "source": [
    "### Case2: Long experiment time "
   ]
  },
  {
   "cell_type": "code",
   "execution_count": 7,
   "metadata": {
    "execution": {
     "iopub.execute_input": "2021-02-04T08:05:55.712011Z",
     "iopub.status.busy": "2021-02-04T08:05:55.710904Z",
     "iopub.status.idle": "2021-02-04T08:06:52.456776Z",
     "shell.execute_reply": "2021-02-04T08:06:52.455864Z"
    }
   },
   "outputs": [
    {
     "name": "stdout",
     "output_type": "stream",
     "text": [
      "Starting experimental run with id: 15. \n",
      "Starting experimental run with id: 16. \n",
      "Starting experimental run with id: 17. \n"
     ]
    },
    {
     "name": "stdout",
     "output_type": "stream",
     "text": [
      "Starting experimental run with id: 18. \n",
      "Starting experimental run with id: 19. \n"
     ]
    },
    {
     "name": "stdout",
     "output_type": "stream",
     "text": [
      "Starting experimental run with id: 20. \n"
     ]
    },
    {
     "name": "stdout",
     "output_type": "stream",
     "text": [
      "Starting experimental run with id: 21. \n"
     ]
    },
    {
     "name": "stdout",
     "output_type": "stream",
     "text": [
      "Starting experimental run with id: 22. \n"
     ]
    },
    {
     "name": "stdout",
     "output_type": "stream",
     "text": [
      "Starting experimental run with id: 23. \n"
     ]
    },
    {
     "name": "stdout",
     "output_type": "stream",
     "text": [
      "Starting experimental run with id: 24. \n"
     ]
    },
    {
     "name": "stdout",
     "output_type": "stream",
     "text": [
      "Starting experimental run with id: 25. \n"
     ]
    },
    {
     "name": "stdout",
     "output_type": "stream",
     "text": [
      "Starting experimental run with id: 26. \n"
     ]
    },
    {
     "name": "stdout",
     "output_type": "stream",
     "text": [
      "Starting experimental run with id: 27. \n"
     ]
    },
    {
     "name": "stdout",
     "output_type": "stream",
     "text": [
      "Starting experimental run with id: 28. \n"
     ]
    }
   ],
   "source": [
    "sizes = [1,500,1000,2000,3000,4000,5000]\n",
    "nreps = 100\n",
    "t_numeric = []\n",
    "t_numeric_add = []\n",
    "t_numeric_run_ids = []\n",
    "t_array = []\n",
    "t_array_add = []\n",
    "t_array_run_ids = []\n",
    "for size in sizes:\n",
    "    tn, tna, run_id_n =  insert_data('numeric', size, nreps=nreps)\n",
    "    t_numeric.append(tn)\n",
    "    t_numeric_add.append(tna)\n",
    "    t_numeric_run_ids.append(run_id_n)\n",
    "\n",
    "    ta, taa, run_id_a =  insert_data('array', size, nreps=nreps)\n",
    "    t_array.append(ta)\n",
    "    t_array_add.append(taa)\n",
    "    t_array_run_ids.append(run_id_a)"
   ]
  },
  {
   "cell_type": "code",
   "execution_count": 8,
   "metadata": {
    "execution": {
     "iopub.execute_input": "2021-02-04T08:06:52.491996Z",
     "iopub.status.busy": "2021-02-04T08:06:52.482809Z",
     "iopub.status.idle": "2021-02-04T08:06:52.641453Z",
     "shell.execute_reply": "2021-02-04T08:06:52.641915Z"
    },
    "scrolled": true
   },
   "outputs": [
    {
     "data": {
      "image/png": "[encoded data removed]",
      "text/plain": [
       "<Figure size 432x288 with 1 Axes>"
      ]
     },
     "metadata": {
      "needs_background": "light"
     },
     "output_type": "display_data"
    }
   ],
   "source": [
    "fig, ax = plt.subplots(1,1)\n",
    "ax.plot(sizes, t_numeric, 'o-', label='Inserting row-by-row')\n",
    "ax.plot(sizes, t_numeric_add, 'o-', label='Inserting row-by-row: add_result only')\n",
    "ax.plot(sizes, t_array, 'd-', label='Inserting as binary blob')\n",
    "ax.plot(sizes, t_array_add, 'd-', label='Inserting as binary blob: add_result only')\n",
    "ax.legend()\n",
    "ax.set_xlabel('Array length')\n",
    "ax.set_ylabel('Time (s)')\n",
    "fig.tight_layout()"
   ]
  },
  {
   "cell_type": "markdown",
   "metadata": {},
   "source": [
    "However, as we increase the length of the experiment, as seen here by repeating the insertion 100 times, we see a big difference between inserting values of the data row-by-row and inserting it as a binary blob."
   ]
  },
  {
   "cell_type": "markdown",
   "metadata": {},
   "source": [
    "## Loading the data "
   ]
  },
  {
   "cell_type": "code",
   "execution_count": 9,
   "metadata": {
    "execution": {
     "iopub.execute_input": "2021-02-04T08:06:52.645402Z",
     "iopub.status.busy": "2021-02-04T08:06:52.644891Z",
     "iopub.status.idle": "2021-02-04T08:06:52.646984Z",
     "shell.execute_reply": "2021-02-04T08:06:52.647407Z"
    }
   },
   "outputs": [],
   "source": [
    "from qcodes.dataset.data_set import load_by_id\n",
    "from qcodes.dataset.data_export import get_data_by_id"
   ]
  },
  {
   "cell_type": "markdown",
   "metadata": {},
   "source": [
    "As usual you can load the data by using the ``load_by_id`` function but you will notice that the different storage methods\n",
    "are reflected in shape of the data as it is retrieved. "
   ]
  },
  {
   "cell_type": "code",
   "execution_count": 10,
   "metadata": {
    "execution": {
     "iopub.execute_input": "2021-02-04T08:06:52.649651Z",
     "iopub.status.busy": "2021-02-04T08:06:52.649140Z",
     "iopub.status.idle": "2021-02-04T08:06:52.651767Z",
     "shell.execute_reply": "2021-02-04T08:06:52.652188Z"
    }
   },
   "outputs": [],
   "source": [
    "run_id_n = t_numeric_run_ids[0]\n",
    "run_id_a = t_array_run_ids[0]"
   ]
  },
  {
   "cell_type": "code",
   "execution_count": 11,
   "metadata": {
    "execution": {
     "iopub.execute_input": "2021-02-04T08:06:52.654427Z",
     "iopub.status.busy": "2021-02-04T08:06:52.653912Z",
     "iopub.status.idle": "2021-02-04T08:06:52.663117Z",
     "shell.execute_reply": "2021-02-04T08:06:52.663573Z"
    },
    "scrolled": true
   },
   "outputs": [
    {
     "data": {
      "text/plain": [
       "{'x1': {'x1': array([0.08602828, 0.08602828, 0.65300097, 0.65300097, 0.54267615,\n",
       "         0.54267615, 0.27929754, 0.27929754, 0.34660877, 0.34660877,\n",
       "         0.80602424, 0.80602424, 0.53273115, 0.53273115, 0.22012618,\n",
       "         0.22012618, 0.77117667, 0.77117667, 0.65403572, 0.65403572,\n",
       "         0.84044818, 0.84044818, 0.54419093, 0.54419093, 0.78937617,\n",
       "         0.78937617, 0.84565986, 0.84565986, 0.89143826, 0.89143826,\n",
       "         0.66956765, 0.66956765, 0.75568517, 0.75568517, 0.12910509,\n",
       "         0.12910509, 0.71438618, 0.71438618, 0.24964788, 0.24964788,\n",
       "         0.79587012, 0.79587012, 0.94889229, 0.94889229, 0.11960419,\n",
       "         0.11960419, 0.04820833, 0.04820833, 0.34468721, 0.34468721,\n",
       "         0.02068408, 0.02068408, 0.05234002, 0.05234002, 0.99569638,\n",
       "         0.99569638, 0.50297226, 0.50297226, 0.30624324, 0.30624324,\n",
       "         0.10777431, 0.10777431, 0.59195499, 0.59195499, 0.49512194,\n",
       "         0.49512194, 0.83823419, 0.83823419, 0.16888388, 0.16888388,\n",
       "         0.72850145, 0.72850145, 0.94085849, 0.94085849, 0.65560166,\n",
       "         0.65560166, 0.80007004, 0.80007004, 0.73759112, 0.73759112,\n",
       "         0.26807301, 0.26807301, 0.31471928, 0.31471928, 0.26752352,\n",
       "         0.26752352, 0.96833557, 0.96833557, 0.18203623, 0.18203623,\n",
       "         0.42349393, 0.42349393, 0.66937723, 0.66937723, 0.35263015,\n",
       "         0.35263015, 0.75809718, 0.75809718, 0.93203193, 0.93203193,\n",
       "         0.03437851, 0.03437851, 0.44566454, 0.44566454, 0.58406776,\n",
       "         0.58406776, 0.31043043, 0.31043043, 0.77540488, 0.77540488,\n",
       "         0.83995737, 0.83995737, 0.65891406, 0.65891406, 0.61967569,\n",
       "         0.61967569, 0.5354112 , 0.5354112 , 0.89393046, 0.89393046,\n",
       "         0.75924849, 0.75924849, 0.98341677, 0.98341677, 0.99850926,\n",
       "         0.99850926, 0.36863587, 0.36863587, 0.24260553, 0.24260553,\n",
       "         0.76358463, 0.76358463, 0.77459927, 0.77459927, 0.97665981,\n",
       "         0.97665981, 0.98958534, 0.98958534, 0.19255908, 0.19255908,\n",
       "         0.45388697, 0.45388697, 0.80798333, 0.80798333, 0.73646933,\n",
       "         0.73646933, 0.7640273 , 0.7640273 , 0.02074046, 0.02074046,\n",
       "         0.58537919, 0.58537919, 0.03752758, 0.03752758, 0.44312373,\n",
       "         0.44312373, 0.9667092 , 0.9667092 , 0.37286344, 0.37286344,\n",
       "         0.52766975, 0.52766975, 0.38239738, 0.38239738, 0.88560402,\n",
       "         0.88560402, 0.35315755, 0.35315755, 0.40409611, 0.40409611,\n",
       "         0.95598375, 0.95598375, 0.36263105, 0.36263105, 0.45180665,\n",
       "         0.45180665, 0.47981546, 0.47981546, 0.40398308, 0.40398308,\n",
       "         0.78673117, 0.78673117, 0.83210807, 0.83210807, 0.56842619,\n",
       "         0.56842619, 0.10121202, 0.10121202, 0.34941865, 0.34941865,\n",
       "         0.46776118, 0.46776118, 0.94612582, 0.94612582, 0.59472161,\n",
       "         0.59472161, 0.50984946, 0.50984946, 0.0456141 , 0.0456141 ])}}"
      ]
     },
     "execution_count": 1,
     "metadata": {},
     "output_type": "execute_result"
    }
   ],
   "source": [
    "ds = load_by_id(run_id_n)\n",
    "ds.get_parameter_data('x1')"
   ]
  },
  {
   "cell_type": "markdown",
   "metadata": {},
   "source": [
    "And a dataset stored as binary arrays"
   ]
  },
  {
   "cell_type": "code",
   "execution_count": 12,
   "metadata": {
    "execution": {
     "iopub.execute_input": "2021-02-04T08:06:52.666722Z",
     "iopub.status.busy": "2021-02-04T08:06:52.666205Z",
     "iopub.status.idle": "2021-02-04T08:06:52.716851Z",
     "shell.execute_reply": "2021-02-04T08:06:52.717444Z"
    },
    "scrolled": true
   },
   "outputs": [
    {
     "data": {
      "text/plain": [
       "{'x1': {'x1': array([[0.43365607],\n",
       "         [0.43365607],\n",
       "         [0.58582507],\n",
       "         [0.58582507],\n",
       "         [0.04877118],\n",
       "         [0.04877118],\n",
       "         [0.35346048],\n",
       "         [0.35346048],\n",
       "         [0.21418905],\n",
       "         [0.21418905],\n",
       "         [0.92480992],\n",
       "         [0.92480992],\n",
       "         [0.77050025],\n",
       "         [0.77050025],\n",
       "         [0.6543474 ],\n",
       "         [0.6543474 ],\n",
       "         [0.01564959],\n",
       "         [0.01564959],\n",
       "         [0.62952595],\n",
       "         [0.62952595],\n",
       "         [0.80455746],\n",
       "         [0.80455746],\n",
       "         [0.54821099],\n",
       "         [0.54821099],\n",
       "         [0.34065746],\n",
       "         [0.34065746],\n",
       "         [0.62802324],\n",
       "         [0.62802324],\n",
       "         [0.33090641],\n",
       "         [0.33090641],\n",
       "         [0.51459776],\n",
       "         [0.51459776],\n",
       "         [0.59018637],\n",
       "         [0.59018637],\n",
       "         [0.59428019],\n",
       "         [0.59428019],\n",
       "         [0.70203998],\n",
       "         [0.70203998],\n",
       "         [0.25291021],\n",
       "         [0.25291021],\n",
       "         [0.25293234],\n",
       "         [0.25293234],\n",
       "         [0.80092854],\n",
       "         [0.80092854],\n",
       "         [0.61224576],\n",
       "         [0.61224576],\n",
       "         [0.3250771 ],\n",
       "         [0.3250771 ],\n",
       "         [0.35072798],\n",
       "         [0.35072798],\n",
       "         [0.54946329],\n",
       "         [0.54946329],\n",
       "         [0.87358309],\n",
       "         [0.87358309],\n",
       "         [0.00578316],\n",
       "         [0.00578316],\n",
       "         [0.37001386],\n",
       "         [0.37001386],\n",
       "         [0.74104528],\n",
       "         [0.74104528],\n",
       "         [0.93381187],\n",
       "         [0.93381187],\n",
       "         [0.53263701],\n",
       "         [0.53263701],\n",
       "         [0.44510344],\n",
       "         [0.44510344],\n",
       "         [0.49244614],\n",
       "         [0.49244614],\n",
       "         [0.26833866],\n",
       "         [0.26833866],\n",
       "         [0.01206535],\n",
       "         [0.01206535],\n",
       "         [0.18891532],\n",
       "         [0.18891532],\n",
       "         [0.69433016],\n",
       "         [0.69433016],\n",
       "         [0.77511143],\n",
       "         [0.77511143],\n",
       "         [0.0779495 ],\n",
       "         [0.0779495 ],\n",
       "         [0.6866136 ],\n",
       "         [0.6866136 ],\n",
       "         [0.65187715],\n",
       "         [0.65187715],\n",
       "         [0.35470798],\n",
       "         [0.35470798],\n",
       "         [0.65840277],\n",
       "         [0.65840277],\n",
       "         [0.17736644],\n",
       "         [0.17736644],\n",
       "         [0.87785547],\n",
       "         [0.87785547],\n",
       "         [0.4221006 ],\n",
       "         [0.4221006 ],\n",
       "         [0.13763429],\n",
       "         [0.13763429],\n",
       "         [0.74217601],\n",
       "         [0.74217601],\n",
       "         [0.84654104],\n",
       "         [0.84654104],\n",
       "         [0.87096414],\n",
       "         [0.87096414],\n",
       "         [0.13244078],\n",
       "         [0.13244078],\n",
       "         [0.56406088],\n",
       "         [0.56406088],\n",
       "         [0.85019146],\n",
       "         [0.85019146],\n",
       "         [0.76045529],\n",
       "         [0.76045529],\n",
       "         [0.55142182],\n",
       "         [0.55142182],\n",
       "         [0.345087  ],\n",
       "         [0.345087  ],\n",
       "         [0.61783407],\n",
       "         [0.61783407],\n",
       "         [0.47634087],\n",
       "         [0.47634087],\n",
       "         [0.98503089],\n",
       "         [0.98503089],\n",
       "         [0.59920277],\n",
       "         [0.59920277],\n",
       "         [0.29220032],\n",
       "         [0.29220032],\n",
       "         [0.43916397],\n",
       "         [0.43916397],\n",
       "         [0.16542181],\n",
       "         [0.16542181],\n",
       "         [0.43425476],\n",
       "         [0.43425476],\n",
       "         [0.96340585],\n",
       "         [0.96340585],\n",
       "         [0.28315869],\n",
       "         [0.28315869],\n",
       "         [0.52103681],\n",
       "         [0.52103681],\n",
       "         [0.59369391],\n",
       "         [0.59369391],\n",
       "         [0.07390416],\n",
       "         [0.07390416],\n",
       "         [0.35855694],\n",
       "         [0.35855694],\n",
       "         [0.07272097],\n",
       "         [0.07272097],\n",
       "         [0.09981084],\n",
       "         [0.09981084],\n",
       "         [0.96279396],\n",
       "         [0.96279396],\n",
       "         [0.2835941 ],\n",
       "         [0.2835941 ],\n",
       "         [0.26805314],\n",
       "         [0.26805314],\n",
       "         [0.33081586],\n",
       "         [0.33081586],\n",
       "         [0.86395421],\n",
       "         [0.86395421],\n",
       "         [0.17717484],\n",
       "         [0.17717484],\n",
       "         [0.63442413],\n",
       "         [0.63442413],\n",
       "         [0.72529314],\n",
       "         [0.72529314],\n",
       "         [0.53304149],\n",
       "         [0.53304149],\n",
       "         [0.67435287],\n",
       "         [0.67435287],\n",
       "         [0.16999414],\n",
       "         [0.16999414],\n",
       "         [0.96663997],\n",
       "         [0.96663997],\n",
       "         [0.95423512],\n",
       "         [0.95423512],\n",
       "         [0.68173919],\n",
       "         [0.68173919],\n",
       "         [0.89811721],\n",
       "         [0.89811721],\n",
       "         [0.48619784],\n",
       "         [0.48619784],\n",
       "         [0.91832549],\n",
       "         [0.91832549],\n",
       "         [0.68992318],\n",
       "         [0.68992318],\n",
       "         [0.53086687],\n",
       "         [0.53086687],\n",
       "         [0.66995648],\n",
       "         [0.66995648],\n",
       "         [0.48304803],\n",
       "         [0.48304803],\n",
       "         [0.10554691],\n",
       "         [0.10554691],\n",
       "         [0.14077109],\n",
       "         [0.14077109],\n",
       "         [0.40789928],\n",
       "         [0.40789928],\n",
       "         [0.06750296],\n",
       "         [0.06750296],\n",
       "         [0.72182332],\n",
       "         [0.72182332],\n",
       "         [0.96038438],\n",
       "         [0.96038438]])}}"
      ]
     },
     "execution_count": 1,
     "metadata": {},
     "output_type": "execute_result"
    }
   ],
   "source": [
    "ds = load_by_id(run_id_a)\n",
    "ds.get_parameter_data('x1')"
   ]
  },
  {
   "cell_type": "code",
   "execution_count": null,
   "metadata": {},
   "outputs": [],
   "source": []
  }
 ],
 "metadata": {
  "kernelspec": {
   "display_name": "Python 3",
   "language": "python",
   "name": "python3"
  },
  "language_info": {
   "codemirror_mode": {
    "name": "ipython",
    "version": 3
   },
   "file_extension": ".py",
   "mimetype": "text/x-python",
   "name": "python",
   "nbconvert_exporter": "python",
   "pygments_lexer": "ipython3",
   "version": "3.7.9"
  },
  "nbsphinx": {
   "timeout": 600
  },
  "toc": {
   "base_numbering": 1,
   "nav_menu": {},
   "number_sections": true,
   "sideBar": true,
   "skip_h1_title": false,
   "title_cell": "Table of Contents",
   "title_sidebar": "Contents",
   "toc_cell": false,
   "toc_position": {},
   "toc_section_display": true,
   "toc_window_display": false
  },
  "varInspector": {
   "cols": {
    "lenName": 16,
    "lenType": 16,
    "lenVar": 40
   },
   "kernels_config": {
    "python": {
     "delete_cmd_postfix": "",
     "delete_cmd_prefix": "del ",
     "library": "var_list.py",
     "varRefreshCmd": "print(var_dic_list())"
    },
    "r": {
     "delete_cmd_postfix": ") ",
     "delete_cmd_prefix": "rm(",
     "library": "var_list.r",
     "varRefreshCmd": "cat(var_dic_list()) "
    }
   },
   "types_to_exclude": [
    "module",
    "function",
    "builtin_function_or_method",
    "instance",
    "_Feature"
   ],
   "window_display": false
  }
 },
 "nbformat": 4,
 "nbformat_minor": 2
}
