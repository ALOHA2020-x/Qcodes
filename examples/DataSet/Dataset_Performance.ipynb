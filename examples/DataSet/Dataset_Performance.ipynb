{
 "cells": [
  {
   "cell_type": "markdown",
   "metadata": {},
   "source": [
    "# DataSet Performance\n",
    "\n",
    "This notebook shows the trade-off between inserting data into a database row-by-row and as binary blobs. Inserting the data row-by-row means that we have direct access to all the data and may perform queries directly on the values of the data. On the other hand, as we shall see, this is much slower than inserting the data directly as binary blobs."
   ]
  },
  {
   "cell_type": "markdown",
   "metadata": {},
   "source": [
    "First, we choose a new location for the database to ensure that we don't add a bunch of benchmarking data to the default one."
   ]
  },
  {
   "cell_type": "code",
   "execution_count": 1,
   "metadata": {
    "execution": {
     "iopub.execute_input": "2021-02-26T21:26:37.504911Z",
     "iopub.status.busy": "2021-02-26T21:26:37.504076Z",
     "iopub.status.idle": "2021-02-26T21:26:38.390947Z",
     "shell.execute_reply": "2021-02-26T21:26:38.391310Z"
    }
   },
   "outputs": [
    {
     "name": "stdout",
     "output_type": "stream",
     "text": [
      "Logging hadn't been started.\n",
      "Activating auto-logging. Current session state plus future input saved.\n",
      "Filename       : /home/runner/.qcodes/logs/command_history.log\n",
      "Mode           : append\n",
      "Output logging : True\n",
      "Raw input log  : False\n",
      "Timestamping   : True\n",
      "State          : active\n"
     ]
    },
    {
     "name": "stdout",
     "output_type": "stream",
     "text": [
      "Qcodes Logfile : /home/runner/.qcodes/logs/210226-4104-qcodes.log\n"
     ]
    }
   ],
   "source": [
    "import os\n",
    "cwd = os.getcwd()\n",
    "import qcodes as qc\n",
    "qc.config[\"core\"][\"db_location\"] = os.path.join(cwd, 'testing.db')\n"
   ]
  },
  {
   "cell_type": "code",
   "execution_count": 2,
   "metadata": {
    "execution": {
     "iopub.execute_input": "2021-02-26T21:26:38.399467Z",
     "iopub.status.busy": "2021-02-26T21:26:38.398640Z",
     "iopub.status.idle": "2021-02-26T21:26:38.594708Z",
     "shell.execute_reply": "2021-02-26T21:26:38.593840Z"
    }
   },
   "outputs": [],
   "source": [
    "%matplotlib inline\n",
    "import time\n",
    "import matplotlib.pyplot as plt\n",
    "import numpy as np\n",
    "\n",
    "import qcodes as qc\n",
    "from qcodes.instrument.parameter import ManualParameter\n",
    "from qcodes.dataset.experiment_container import (Experiment,\n",
    "                                                 load_last_experiment,\n",
    "                                                 new_experiment)\n",
    "from qcodes.dataset.sqlite.database import initialise_database\n",
    "from qcodes import load_or_create_experiment\n",
    "from qcodes.dataset.measurements import Measurement"
   ]
  },
  {
   "cell_type": "code",
   "execution_count": 3,
   "metadata": {
    "execution": {
     "iopub.execute_input": "2021-02-26T21:26:38.600554Z",
     "iopub.status.busy": "2021-02-26T21:26:38.599732Z",
     "iopub.status.idle": "2021-02-26T21:26:38.730432Z",
     "shell.execute_reply": "2021-02-26T21:26:38.730880Z"
    }
   },
   "outputs": [
    {
     "name": "stdout",
     "output_type": "stream",
     "text": [
      "\r",
      "0it [00:00, ?it/s]"
     ]
    },
    {
     "name": "stdout",
     "output_type": "stream",
     "text": [
      "\r",
      "Upgrading database; v0 -> v1: : 0it [00:00, ?it/s]"
     ]
    },
    {
     "name": "stdout",
     "output_type": "stream",
     "text": [
      "\r",
      "Upgrading database; v0 -> v1: : 0it [00:00, ?it/s]"
     ]
    },
    {
     "name": "stdout",
     "output_type": "stream",
     "text": [
      "\n",
      "\r",
      "  0%|          | 0/1 [00:00<?, ?it/s]"
     ]
    },
    {
     "name": "stdout",
     "output_type": "stream",
     "text": [
      "\r",
      "Upgrading database; v1 -> v2:   0%|          | 0/1 [00:00<?, ?it/s]"
     ]
    },
    {
     "name": "stdout",
     "output_type": "stream",
     "text": [
      "\r",
      "Upgrading database; v1 -> v2: 100%|██████████| 1/1 [00:00<00:00, 552.90it/s]"
     ]
    },
    {
     "name": "stdout",
     "output_type": "stream",
     "text": [
      "\n",
      "\r",
      "0it [00:00, ?it/s]"
     ]
    },
    {
     "name": "stdout",
     "output_type": "stream",
     "text": [
      "\r",
      "Upgrading database; v2 -> v3: : 0it [00:00, ?it/s]"
     ]
    },
    {
     "name": "stdout",
     "output_type": "stream",
     "text": [
      "\r",
      "Upgrading database; v2 -> v3: : 0it [00:00, ?it/s]"
     ]
    },
    {
     "name": "stdout",
     "output_type": "stream",
     "text": [
      "\n",
      "\r",
      "0it [00:00, ?it/s]"
     ]
    },
    {
     "name": "stdout",
     "output_type": "stream",
     "text": [
      "\r",
      "Upgrading database; v3 -> v4: : 0it [00:00, ?it/s]"
     ]
    },
    {
     "name": "stdout",
     "output_type": "stream",
     "text": [
      "\r",
      "Upgrading database; v3 -> v4: : 0it [00:00, ?it/s]"
     ]
    },
    {
     "name": "stdout",
     "output_type": "stream",
     "text": [
      "\n",
      "\r",
      "  0%|          | 0/1 [00:00<?, ?it/s]"
     ]
    },
    {
     "name": "stdout",
     "output_type": "stream",
     "text": [
      "\r",
      "Upgrading database; v4 -> v5:   0%|          | 0/1 [00:00<?, ?it/s]"
     ]
    },
    {
     "name": "stdout",
     "output_type": "stream",
     "text": [
      "\r",
      "Upgrading database; v4 -> v5: 100%|██████████| 1/1 [00:00<00:00, 464.18it/s]"
     ]
    },
    {
     "name": "stdout",
     "output_type": "stream",
     "text": [
      "\n",
      "\r",
      "0it [00:00, ?it/s]"
     ]
    },
    {
     "name": "stdout",
     "output_type": "stream",
     "text": [
      "\r",
      "Upgrading database; v5 -> v6: : 0it [00:00, ?it/s]"
     ]
    },
    {
     "name": "stdout",
     "output_type": "stream",
     "text": [
      "\r",
      "Upgrading database; v5 -> v6: : 0it [00:00, ?it/s]"
     ]
    },
    {
     "name": "stdout",
     "output_type": "stream",
     "text": [
      "\n",
      "\r",
      "  0%|          | 0/1 [00:00<?, ?it/s]"
     ]
    },
    {
     "name": "stdout",
     "output_type": "stream",
     "text": [
      "\r",
      "Upgrading database; v6 -> v7:   0%|          | 0/1 [00:00<?, ?it/s]"
     ]
    },
    {
     "name": "stdout",
     "output_type": "stream",
     "text": [
      "\r",
      "Upgrading database; v6 -> v7: 100%|██████████| 1/1 [00:00<00:00, 288.98it/s]"
     ]
    },
    {
     "name": "stdout",
     "output_type": "stream",
     "text": [
      "\n",
      "\r",
      "  0%|          | 0/1 [00:00<?, ?it/s]"
     ]
    },
    {
     "name": "stdout",
     "output_type": "stream",
     "text": [
      "\r",
      "Upgrading database; v7 -> v8:   0%|          | 0/1 [00:00<?, ?it/s]"
     ]
    },
    {
     "name": "stdout",
     "output_type": "stream",
     "text": [
      "\r",
      "Upgrading database; v7 -> v8: 100%|██████████| 1/1 [00:00<00:00, 432.54it/s]"
     ]
    },
    {
     "name": "stdout",
     "output_type": "stream",
     "text": [
      "\n",
      "\r",
      "  0%|          | 0/1 [00:00<?, ?it/s]"
     ]
    },
    {
     "name": "stdout",
     "output_type": "stream",
     "text": [
      "\r",
      "Upgrading database; v8 -> v9:   0%|          | 0/1 [00:00<?, ?it/s]"
     ]
    },
    {
     "name": "stdout",
     "output_type": "stream",
     "text": [
      "\r",
      "Upgrading database; v8 -> v9: 100%|██████████| 1/1 [00:00<00:00, 638.79it/s]"
     ]
    },
    {
     "name": "stdout",
     "output_type": "stream",
     "text": [
      "\n"
     ]
    }
   ],
   "source": [
    "initialise_database()\n",
    "exp = load_or_create_experiment(experiment_name='tutorial_exp', sample_name=\"no sample\")"
   ]
  },
  {
   "cell_type": "markdown",
   "metadata": {},
   "source": [
    "Here, we define a simple function to benchmark the time it takes to insert n points with either numeric or array data type.\n",
    "We will compare both the time used to call ``add_result`` and the time used for the full measurement."
   ]
  },
  {
   "cell_type": "code",
   "execution_count": 4,
   "metadata": {
    "execution": {
     "iopub.execute_input": "2021-02-26T21:26:38.739160Z",
     "iopub.status.busy": "2021-02-26T21:26:38.738025Z",
     "iopub.status.idle": "2021-02-26T21:26:38.741078Z",
     "shell.execute_reply": "2021-02-26T21:26:38.741515Z"
    }
   },
   "outputs": [],
   "source": [
    "def insert_data(paramtype, npoints, nreps=1):\n",
    "\n",
    "    meas = Measurement(exp=exp)\n",
    "\n",
    "    x1 = ManualParameter('x1')\n",
    "    x2 = ManualParameter('x2')\n",
    "    x3 = ManualParameter('x3')\n",
    "    y1 = ManualParameter('y1')\n",
    "    y2 = ManualParameter('y2')\n",
    "\n",
    "    meas.register_parameter(x1, paramtype=paramtype)\n",
    "    meas.register_parameter(x2, paramtype=paramtype)\n",
    "    meas.register_parameter(x3, paramtype=paramtype)\n",
    "    meas.register_parameter(y1, setpoints=[x1, x2, x3],\n",
    "                            paramtype=paramtype)\n",
    "    meas.register_parameter(y2, setpoints=[x1, x2, x3],\n",
    "                            paramtype=paramtype)\n",
    "    start = time.perf_counter()\n",
    "    with meas.run() as datasaver:\n",
    "        start_adding = time.perf_counter()\n",
    "        for i in range(nreps):\n",
    "            datasaver.add_result((x1, np.random.rand(npoints)),\n",
    "                                 (x2, np.random.rand(npoints)),\n",
    "                                 (x3, np.random.rand(npoints)),\n",
    "                                 (y1, np.random.rand(npoints)),\n",
    "                                 (y2, np.random.rand(npoints)))\n",
    "        stop_adding = time.perf_counter()\n",
    "        run_id = datasaver.run_id\n",
    "    stop = time.perf_counter()\n",
    "    tot_time = stop - start\n",
    "    add_time = stop_adding - start_adding\n",
    "    return tot_time, add_time, run_id"
   ]
  },
  {
   "cell_type": "markdown",
   "metadata": {},
   "source": [
    "## Comparison between numeric/array data and binary blob"
   ]
  },
  {
   "cell_type": "markdown",
   "metadata": {},
   "source": [
    "### Case1: Short experiment time"
   ]
  },
  {
   "cell_type": "code",
   "execution_count": 5,
   "metadata": {
    "execution": {
     "iopub.execute_input": "2021-02-26T21:26:38.748166Z",
     "iopub.status.busy": "2021-02-26T21:26:38.747536Z",
     "iopub.status.idle": "2021-02-26T21:26:39.558048Z",
     "shell.execute_reply": "2021-02-26T21:26:39.557551Z"
    }
   },
   "outputs": [
    {
     "name": "stdout",
     "output_type": "stream",
     "text": [
      "Starting experimental run with id: 1. \n",
      "Starting experimental run with id: 2. \n",
      "Starting experimental run with id: 3. \n",
      "Starting experimental run with id: 4. \n",
      "Starting experimental run with id: 5. \n"
     ]
    },
    {
     "name": "stdout",
     "output_type": "stream",
     "text": [
      "Starting experimental run with id: 6. \n"
     ]
    },
    {
     "name": "stdout",
     "output_type": "stream",
     "text": [
      "Starting experimental run with id: 7. \n"
     ]
    },
    {
     "name": "stdout",
     "output_type": "stream",
     "text": [
      "Starting experimental run with id: 8. \n",
      "Starting experimental run with id: 9. \n"
     ]
    },
    {
     "name": "stdout",
     "output_type": "stream",
     "text": [
      "Starting experimental run with id: 10. \n",
      "Starting experimental run with id: 11. \n"
     ]
    },
    {
     "name": "stdout",
     "output_type": "stream",
     "text": [
      "Starting experimental run with id: 12. \n",
      "Starting experimental run with id: 13. \n"
     ]
    },
    {
     "name": "stdout",
     "output_type": "stream",
     "text": [
      "Starting experimental run with id: 14. \n"
     ]
    }
   ],
   "source": [
    "sizes = [1,500,1000,2000,3000,4000,5000]\n",
    "t_numeric = []\n",
    "t_numeric_add = []\n",
    "t_array = []\n",
    "t_array_add = []\n",
    "for size in sizes:\n",
    "    tn, tna, run_id_n =  insert_data('numeric', size)\n",
    "    t_numeric.append(tn)\n",
    "    t_numeric_add.append(tna)\n",
    "\n",
    "    ta, taa, run_id_a =  insert_data('array', size)\n",
    "    t_array.append(ta)\n",
    "    t_array_add.append(taa)"
   ]
  },
  {
   "cell_type": "code",
   "execution_count": 6,
   "metadata": {
    "execution": {
     "iopub.execute_input": "2021-02-26T21:26:39.577581Z",
     "iopub.status.busy": "2021-02-26T21:26:39.576702Z",
     "iopub.status.idle": "2021-02-26T21:26:39.782216Z",
     "shell.execute_reply": "2021-02-26T21:26:39.781719Z"
    }
   },
   "outputs": [
    {
     "data": {
      "image/png": "[encoded data removed]",
      "text/plain": [
       "<Figure size 432x288 with 1 Axes>"
      ]
     },
     "metadata": {
      "needs_background": "light"
     },
     "output_type": "display_data"
    }
   ],
   "source": [
    "fig, ax = plt.subplots(1,1)\n",
    "ax.plot(sizes, t_numeric, 'o-', label='Inserting row-by-row')\n",
    "ax.plot(sizes, t_numeric_add, 'o-', label='Inserting row-by-row: add_result only')\n",
    "ax.plot(sizes, t_array, 'd-', label='Inserting as binary blob')\n",
    "ax.plot(sizes, t_array_add, 'd-', label='Inserting as binary blob: add_result only')\n",
    "ax.legend()\n",
    "ax.set_xlabel('Array length')\n",
    "ax.set_ylabel('Time (s)')\n",
    "fig.tight_layout()"
   ]
  },
  {
   "cell_type": "markdown",
   "metadata": {},
   "source": [
    "As shown in the latter figure, the time to setup and and close the experiment is approximately 0.4 sec. In case of small array sizes, the difference between inserting values of data as arrays and inserting them row-by-row is relatively unimportant. At larger array sizes, i.e. above 10000 points, the cost of writing data as individual datapoints starts to become important.\n"
   ]
  },
  {
   "cell_type": "markdown",
   "metadata": {},
   "source": [
    "### Case2: Long experiment time "
   ]
  },
  {
   "cell_type": "code",
   "execution_count": 7,
   "metadata": {
    "execution": {
     "iopub.execute_input": "2021-02-26T21:26:39.790239Z",
     "iopub.status.busy": "2021-02-26T21:26:39.789199Z",
     "iopub.status.idle": "2021-02-26T21:27:38.562800Z",
     "shell.execute_reply": "2021-02-26T21:27:38.562123Z"
    }
   },
   "outputs": [
    {
     "name": "stdout",
     "output_type": "stream",
     "text": [
      "Starting experimental run with id: 15. \n",
      "Starting experimental run with id: 16. \n",
      "Starting experimental run with id: 17. \n"
     ]
    },
    {
     "name": "stdout",
     "output_type": "stream",
     "text": [
      "Starting experimental run with id: 18. \n"
     ]
    },
    {
     "name": "stdout",
     "output_type": "stream",
     "text": [
      "Starting experimental run with id: 19. \n"
     ]
    },
    {
     "name": "stdout",
     "output_type": "stream",
     "text": [
      "Starting experimental run with id: 20. \n"
     ]
    },
    {
     "name": "stdout",
     "output_type": "stream",
     "text": [
      "Starting experimental run with id: 21. \n"
     ]
    },
    {
     "name": "stdout",
     "output_type": "stream",
     "text": [
      "Starting experimental run with id: 22. \n"
     ]
    },
    {
     "name": "stdout",
     "output_type": "stream",
     "text": [
      "Starting experimental run with id: 23. \n"
     ]
    },
    {
     "name": "stdout",
     "output_type": "stream",
     "text": [
      "Starting experimental run with id: 24. \n"
     ]
    },
    {
     "name": "stdout",
     "output_type": "stream",
     "text": [
      "Starting experimental run with id: 25. \n"
     ]
    },
    {
     "name": "stdout",
     "output_type": "stream",
     "text": [
      "Starting experimental run with id: 26. \n"
     ]
    },
    {
     "name": "stdout",
     "output_type": "stream",
     "text": [
      "Starting experimental run with id: 27. \n"
     ]
    },
    {
     "name": "stdout",
     "output_type": "stream",
     "text": [
      "Starting experimental run with id: 28. \n"
     ]
    }
   ],
   "source": [
    "sizes = [1,500,1000,2000,3000,4000,5000]\n",
    "nreps = 100\n",
    "t_numeric = []\n",
    "t_numeric_add = []\n",
    "t_numeric_run_ids = []\n",
    "t_array = []\n",
    "t_array_add = []\n",
    "t_array_run_ids = []\n",
    "for size in sizes:\n",
    "    tn, tna, run_id_n =  insert_data('numeric', size, nreps=nreps)\n",
    "    t_numeric.append(tn)\n",
    "    t_numeric_add.append(tna)\n",
    "    t_numeric_run_ids.append(run_id_n)\n",
    "\n",
    "    ta, taa, run_id_a =  insert_data('array', size, nreps=nreps)\n",
    "    t_array.append(ta)\n",
    "    t_array_add.append(taa)\n",
    "    t_array_run_ids.append(run_id_a)"
   ]
  },
  {
   "cell_type": "code",
   "execution_count": 8,
   "metadata": {
    "execution": {
     "iopub.execute_input": "2021-02-26T21:27:38.605192Z",
     "iopub.status.busy": "2021-02-26T21:27:38.604133Z",
     "iopub.status.idle": "2021-02-26T21:27:38.783560Z",
     "shell.execute_reply": "2021-02-26T21:27:38.783065Z"
    },
    "scrolled": true
   },
   "outputs": [
    {
     "data": {
      "image/png": "[encoded data removed]",
      "text/plain": [
       "<Figure size 432x288 with 1 Axes>"
      ]
     },
     "metadata": {
      "needs_background": "light"
     },
     "output_type": "display_data"
    }
   ],
   "source": [
    "fig, ax = plt.subplots(1,1)\n",
    "ax.plot(sizes, t_numeric, 'o-', label='Inserting row-by-row')\n",
    "ax.plot(sizes, t_numeric_add, 'o-', label='Inserting row-by-row: add_result only')\n",
    "ax.plot(sizes, t_array, 'd-', label='Inserting as binary blob')\n",
    "ax.plot(sizes, t_array_add, 'd-', label='Inserting as binary blob: add_result only')\n",
    "ax.legend()\n",
    "ax.set_xlabel('Array length')\n",
    "ax.set_ylabel('Time (s)')\n",
    "fig.tight_layout()"
   ]
  },
  {
   "cell_type": "markdown",
   "metadata": {},
   "source": [
    "However, as we increase the length of the experiment, as seen here by repeating the insertion 100 times, we see a big difference between inserting values of the data row-by-row and inserting it as a binary blob."
   ]
  },
  {
   "cell_type": "markdown",
   "metadata": {},
   "source": [
    "## Loading the data "
   ]
  },
  {
   "cell_type": "code",
   "execution_count": 9,
   "metadata": {
    "execution": {
     "iopub.execute_input": "2021-02-26T21:27:38.787935Z",
     "iopub.status.busy": "2021-02-26T21:27:38.786984Z",
     "iopub.status.idle": "2021-02-26T21:27:38.789792Z",
     "shell.execute_reply": "2021-02-26T21:27:38.790223Z"
    }
   },
   "outputs": [],
   "source": [
    "from qcodes.dataset.data_set import load_by_id\n",
    "from qcodes.dataset.data_export import get_data_by_id"
   ]
  },
  {
   "cell_type": "markdown",
   "metadata": {},
   "source": [
    "As usual you can load the data by using the ``load_by_id`` function but you will notice that the different storage methods\n",
    "are reflected in shape of the data as it is retrieved. "
   ]
  },
  {
   "cell_type": "code",
   "execution_count": 10,
   "metadata": {
    "execution": {
     "iopub.execute_input": "2021-02-26T21:27:38.794717Z",
     "iopub.status.busy": "2021-02-26T21:27:38.793557Z",
     "iopub.status.idle": "2021-02-26T21:27:38.795351Z",
     "shell.execute_reply": "2021-02-26T21:27:38.795808Z"
    }
   },
   "outputs": [],
   "source": [
    "run_id_n = t_numeric_run_ids[0]\n",
    "run_id_a = t_array_run_ids[0]"
   ]
  },
  {
   "cell_type": "code",
   "execution_count": 11,
   "metadata": {
    "execution": {
     "iopub.execute_input": "2021-02-26T21:27:38.799163Z",
     "iopub.status.busy": "2021-02-26T21:27:38.798620Z",
     "iopub.status.idle": "2021-02-26T21:27:38.808135Z",
     "shell.execute_reply": "2021-02-26T21:27:38.808579Z"
    },
    "scrolled": true
   },
   "outputs": [
    {
     "data": {
      "text/plain": [
       "{'x1': {'x1': array([0.35185271, 0.35185271, 0.80119122, 0.80119122, 0.73737284,\n",
       "         0.73737284, 0.42173533, 0.42173533, 0.02810332, 0.02810332,\n",
       "         0.40660269, 0.40660269, 0.8288671 , 0.8288671 , 0.02724862,\n",
       "         0.02724862, 0.19379475, 0.19379475, 0.36521624, 0.36521624,\n",
       "         0.19042045, 0.19042045, 0.15947813, 0.15947813, 0.93235329,\n",
       "         0.93235329, 0.68822893, 0.68822893, 0.81412569, 0.81412569,\n",
       "         0.35670256, 0.35670256, 0.65388334, 0.65388334, 0.86538258,\n",
       "         0.86538258, 0.35213957, 0.35213957, 0.50099883, 0.50099883,\n",
       "         0.86748455, 0.86748455, 0.0728588 , 0.0728588 , 0.23487825,\n",
       "         0.23487825, 0.22161724, 0.22161724, 0.03807969, 0.03807969,\n",
       "         0.05925774, 0.05925774, 0.34611319, 0.34611319, 0.0872691 ,\n",
       "         0.0872691 , 0.02930465, 0.02930465, 0.1039538 , 0.1039538 ,\n",
       "         0.56493391, 0.56493391, 0.27489265, 0.27489265, 0.81785134,\n",
       "         0.81785134, 0.06904617, 0.06904617, 0.67058172, 0.67058172,\n",
       "         0.66643973, 0.66643973, 0.34213084, 0.34213084, 0.11169716,\n",
       "         0.11169716, 0.039994  , 0.039994  , 0.5217126 , 0.5217126 ,\n",
       "         0.92119175, 0.92119175, 0.71092084, 0.71092084, 0.86942004,\n",
       "         0.86942004, 0.01184731, 0.01184731, 0.62550994, 0.62550994,\n",
       "         0.65006868, 0.65006868, 0.18468022, 0.18468022, 0.63707071,\n",
       "         0.63707071, 0.22041565, 0.22041565, 0.17651084, 0.17651084,\n",
       "         0.18775057, 0.18775057, 0.68337428, 0.68337428, 0.13613241,\n",
       "         0.13613241, 0.88585237, 0.88585237, 0.98292081, 0.98292081,\n",
       "         0.58457385, 0.58457385, 0.84840045, 0.84840045, 0.53914074,\n",
       "         0.53914074, 0.94790847, 0.94790847, 0.96592923, 0.96592923,\n",
       "         0.1667347 , 0.1667347 , 0.99420272, 0.99420272, 0.9128043 ,\n",
       "         0.9128043 , 0.32264885, 0.32264885, 0.36125291, 0.36125291,\n",
       "         0.41815471, 0.41815471, 0.87194502, 0.87194502, 0.08453201,\n",
       "         0.08453201, 0.60130317, 0.60130317, 0.46580703, 0.46580703,\n",
       "         0.96120933, 0.96120933, 0.37469807, 0.37469807, 0.95402148,\n",
       "         0.95402148, 0.32701997, 0.32701997, 0.28720976, 0.28720976,\n",
       "         0.31775351, 0.31775351, 0.45701171, 0.45701171, 0.48453183,\n",
       "         0.48453183, 0.28294517, 0.28294517, 0.30080537, 0.30080537,\n",
       "         0.22275679, 0.22275679, 0.33159961, 0.33159961, 0.49085275,\n",
       "         0.49085275, 0.5004365 , 0.5004365 , 0.92120495, 0.92120495,\n",
       "         0.79204889, 0.79204889, 0.70041771, 0.70041771, 0.82762397,\n",
       "         0.82762397, 0.50250897, 0.50250897, 0.57326313, 0.57326313,\n",
       "         0.34033887, 0.34033887, 0.97642851, 0.97642851, 0.38429121,\n",
       "         0.38429121, 0.0534878 , 0.0534878 , 0.28925816, 0.28925816,\n",
       "         0.08302008, 0.08302008, 0.7390367 , 0.7390367 , 0.45765199,\n",
       "         0.45765199, 0.89840575, 0.89840575, 0.09072825, 0.09072825])}}"
      ]
     },
     "execution_count": 1,
     "metadata": {},
     "output_type": "execute_result"
    }
   ],
   "source": [
    "ds = load_by_id(run_id_n)\n",
    "ds.get_parameter_data('x1')"
   ]
  },
  {
   "cell_type": "markdown",
   "metadata": {},
   "source": [
    "And a dataset stored as binary arrays"
   ]
  },
  {
   "cell_type": "code",
   "execution_count": 12,
   "metadata": {
    "execution": {
     "iopub.execute_input": "2021-02-26T21:27:38.811955Z",
     "iopub.status.busy": "2021-02-26T21:27:38.811414Z",
     "iopub.status.idle": "2021-02-26T21:27:38.876350Z",
     "shell.execute_reply": "2021-02-26T21:27:38.877385Z"
    },
    "scrolled": true
   },
   "outputs": [
    {
     "data": {
      "text/plain": [
       "{'x1': {'x1': array([[0.00647204],\n",
       "         [0.00647204],\n",
       "         [0.08949037],\n",
       "         [0.08949037],\n",
       "         [0.94340553],\n",
       "         [0.94340553],\n",
       "         [0.43439703],\n",
       "         [0.43439703],\n",
       "         [0.48858743],\n",
       "         [0.48858743],\n",
       "         [0.75866721],\n",
       "         [0.75866721],\n",
       "         [0.21681663],\n",
       "         [0.21681663],\n",
       "         [0.35807163],\n",
       "         [0.35807163],\n",
       "         [0.1281296 ],\n",
       "         [0.1281296 ],\n",
       "         [0.47597511],\n",
       "         [0.47597511],\n",
       "         [0.62539118],\n",
       "         [0.62539118],\n",
       "         [0.32381795],\n",
       "         [0.32381795],\n",
       "         [0.65675479],\n",
       "         [0.65675479],\n",
       "         [0.3096172 ],\n",
       "         [0.3096172 ],\n",
       "         [0.58128345],\n",
       "         [0.58128345],\n",
       "         [0.78245471],\n",
       "         [0.78245471],\n",
       "         [0.13820312],\n",
       "         [0.13820312],\n",
       "         [0.81092491],\n",
       "         [0.81092491],\n",
       "         [0.44244743],\n",
       "         [0.44244743],\n",
       "         [0.69292243],\n",
       "         [0.69292243],\n",
       "         [0.26198988],\n",
       "         [0.26198988],\n",
       "         [0.17911244],\n",
       "         [0.17911244],\n",
       "         [0.09756916],\n",
       "         [0.09756916],\n",
       "         [0.89501046],\n",
       "         [0.89501046],\n",
       "         [0.3572646 ],\n",
       "         [0.3572646 ],\n",
       "         [0.36117321],\n",
       "         [0.36117321],\n",
       "         [0.84561968],\n",
       "         [0.84561968],\n",
       "         [0.82563391],\n",
       "         [0.82563391],\n",
       "         [0.89712362],\n",
       "         [0.89712362],\n",
       "         [0.42071713],\n",
       "         [0.42071713],\n",
       "         [0.98784248],\n",
       "         [0.98784248],\n",
       "         [0.9033321 ],\n",
       "         [0.9033321 ],\n",
       "         [0.69131562],\n",
       "         [0.69131562],\n",
       "         [0.67551943],\n",
       "         [0.67551943],\n",
       "         [0.88521421],\n",
       "         [0.88521421],\n",
       "         [0.01025571],\n",
       "         [0.01025571],\n",
       "         [0.2657381 ],\n",
       "         [0.2657381 ],\n",
       "         [0.6593732 ],\n",
       "         [0.6593732 ],\n",
       "         [0.36630651],\n",
       "         [0.36630651],\n",
       "         [0.67584723],\n",
       "         [0.67584723],\n",
       "         [0.2404517 ],\n",
       "         [0.2404517 ],\n",
       "         [0.39752976],\n",
       "         [0.39752976],\n",
       "         [0.69955275],\n",
       "         [0.69955275],\n",
       "         [0.51048646],\n",
       "         [0.51048646],\n",
       "         [0.75231601],\n",
       "         [0.75231601],\n",
       "         [0.52900646],\n",
       "         [0.52900646],\n",
       "         [0.79406176],\n",
       "         [0.79406176],\n",
       "         [0.76589246],\n",
       "         [0.76589246],\n",
       "         [0.30652359],\n",
       "         [0.30652359],\n",
       "         [0.1766594 ],\n",
       "         [0.1766594 ],\n",
       "         [0.08039957],\n",
       "         [0.08039957],\n",
       "         [0.73761666],\n",
       "         [0.73761666],\n",
       "         [0.61715947],\n",
       "         [0.61715947],\n",
       "         [0.91681635],\n",
       "         [0.91681635],\n",
       "         [0.94813323],\n",
       "         [0.94813323],\n",
       "         [0.97835296],\n",
       "         [0.97835296],\n",
       "         [0.48491685],\n",
       "         [0.48491685],\n",
       "         [0.75039218],\n",
       "         [0.75039218],\n",
       "         [0.96971982],\n",
       "         [0.96971982],\n",
       "         [0.1972241 ],\n",
       "         [0.1972241 ],\n",
       "         [0.57279385],\n",
       "         [0.57279385],\n",
       "         [0.91918703],\n",
       "         [0.91918703],\n",
       "         [0.57948386],\n",
       "         [0.57948386],\n",
       "         [0.06235633],\n",
       "         [0.06235633],\n",
       "         [0.15813986],\n",
       "         [0.15813986],\n",
       "         [0.90295837],\n",
       "         [0.90295837],\n",
       "         [0.77011554],\n",
       "         [0.77011554],\n",
       "         [0.26117843],\n",
       "         [0.26117843],\n",
       "         [0.83519725],\n",
       "         [0.83519725],\n",
       "         [0.20032506],\n",
       "         [0.20032506],\n",
       "         [0.22850045],\n",
       "         [0.22850045],\n",
       "         [0.02869362],\n",
       "         [0.02869362],\n",
       "         [0.88080426],\n",
       "         [0.88080426],\n",
       "         [0.97460296],\n",
       "         [0.97460296],\n",
       "         [0.3419185 ],\n",
       "         [0.3419185 ],\n",
       "         [0.34363078],\n",
       "         [0.34363078],\n",
       "         [0.92159668],\n",
       "         [0.92159668],\n",
       "         [0.63981302],\n",
       "         [0.63981302],\n",
       "         [0.25194001],\n",
       "         [0.25194001],\n",
       "         [0.89711385],\n",
       "         [0.89711385],\n",
       "         [0.29655086],\n",
       "         [0.29655086],\n",
       "         [0.92064195],\n",
       "         [0.92064195],\n",
       "         [0.3641011 ],\n",
       "         [0.3641011 ],\n",
       "         [0.00716424],\n",
       "         [0.00716424],\n",
       "         [0.36476567],\n",
       "         [0.36476567],\n",
       "         [0.64180533],\n",
       "         [0.64180533],\n",
       "         [0.629807  ],\n",
       "         [0.629807  ],\n",
       "         [0.19785659],\n",
       "         [0.19785659],\n",
       "         [0.98525521],\n",
       "         [0.98525521],\n",
       "         [0.30329074],\n",
       "         [0.30329074],\n",
       "         [0.65170954],\n",
       "         [0.65170954],\n",
       "         [0.11258113],\n",
       "         [0.11258113],\n",
       "         [0.20424302],\n",
       "         [0.20424302],\n",
       "         [0.21139702],\n",
       "         [0.21139702],\n",
       "         [0.43941477],\n",
       "         [0.43941477],\n",
       "         [0.03673059],\n",
       "         [0.03673059],\n",
       "         [0.42277312],\n",
       "         [0.42277312],\n",
       "         [0.81743597],\n",
       "         [0.81743597],\n",
       "         [0.32462422],\n",
       "         [0.32462422],\n",
       "         [0.17618353],\n",
       "         [0.17618353]])}}"
      ]
     },
     "execution_count": 1,
     "metadata": {},
     "output_type": "execute_result"
    }
   ],
   "source": [
    "ds = load_by_id(run_id_a)\n",
    "ds.get_parameter_data('x1')"
   ]
  },
  {
   "cell_type": "code",
   "execution_count": null,
   "metadata": {},
   "outputs": [],
   "source": []
  }
 ],
 "metadata": {
  "kernelspec": {
   "display_name": "Python 3",
   "language": "python",
   "name": "python3"
  },
  "language_info": {
   "codemirror_mode": {
    "name": "ipython",
    "version": 3
   },
   "file_extension": ".py",
   "mimetype": "text/x-python",
   "name": "python",
   "nbconvert_exporter": "python",
   "pygments_lexer": "ipython3",
   "version": "3.7.10"
  },
  "nbsphinx": {
   "timeout": 600
  },
  "toc": {
   "base_numbering": 1,
   "nav_menu": {},
   "number_sections": true,
   "sideBar": true,
   "skip_h1_title": false,
   "title_cell": "Table of Contents",
   "title_sidebar": "Contents",
   "toc_cell": false,
   "toc_position": {},
   "toc_section_display": true,
   "toc_window_display": false
  },
  "varInspector": {
   "cols": {
    "lenName": 16,
    "lenType": 16,
    "lenVar": 40
   },
   "kernels_config": {
    "python": {
     "delete_cmd_postfix": "",
     "delete_cmd_prefix": "del ",
     "library": "var_list.py",
     "varRefreshCmd": "print(var_dic_list())"
    },
    "r": {
     "delete_cmd_postfix": ") ",
     "delete_cmd_prefix": "rm(",
     "library": "var_list.r",
     "varRefreshCmd": "cat(var_dic_list()) "
    }
   },
   "types_to_exclude": [
    "module",
    "function",
    "builtin_function_or_method",
    "instance",
    "_Feature"
   ],
   "window_display": false
  }
 },
 "nbformat": 4,
 "nbformat_minor": 2
}
