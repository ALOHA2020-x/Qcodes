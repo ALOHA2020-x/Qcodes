{
 "cells": [
  {
   "cell_type": "markdown",
   "metadata": {},
   "source": [
    "# DataSet Performance\n",
    "\n",
    "This notebook shows the trade-off between inserting data into a database row-by-row and as binary blobs. Inserting the data row-by-row means that we have direct access to all the data and may perform queries directly on the values of the data. On the other hand, as we shall see, this is much slower than inserting the data directly as binary blobs."
   ]
  },
  {
   "cell_type": "markdown",
   "metadata": {},
   "source": [
    "First, we choose a new location for the database to ensure that we don't add a bunch of benchmarking data to the default one."
   ]
  },
  {
   "cell_type": "code",
   "execution_count": 1,
   "metadata": {
    "execution": {
     "iopub.execute_input": "2021-01-21T07:26:15.424719Z",
     "iopub.status.busy": "2021-01-21T07:26:15.423873Z",
     "iopub.status.idle": "2021-01-21T07:26:16.563834Z",
     "shell.execute_reply": "2021-01-21T07:26:16.564449Z"
    }
   },
   "outputs": [
    {
     "name": "stdout",
     "output_type": "stream",
     "text": [
      "Logging hadn't been started.\n",
      "Activating auto-logging. Current session state plus future input saved.\n",
      "Filename       : /home/vsts/.qcodes/logs/command_history.log\n",
      "Mode           : append\n",
      "Output logging : True\n",
      "Raw input log  : False\n",
      "Timestamping   : True\n",
      "State          : active\n"
     ]
    },
    {
     "name": "stdout",
     "output_type": "stream",
     "text": [
      "Qcodes Logfile : /home/vsts/.qcodes/logs/210121-14051-qcodes.log\n"
     ]
    }
   ],
   "source": [
    "import os\n",
    "cwd = os.getcwd()\n",
    "import qcodes as qc\n",
    "qc.config[\"core\"][\"db_location\"] = os.path.join(cwd, 'testing.db')\n"
   ]
  },
  {
   "cell_type": "code",
   "execution_count": 2,
   "metadata": {
    "execution": {
     "iopub.execute_input": "2021-01-21T07:26:16.572762Z",
     "iopub.status.busy": "2021-01-21T07:26:16.570658Z",
     "iopub.status.idle": "2021-01-21T07:26:16.773460Z",
     "shell.execute_reply": "2021-01-21T07:26:16.772839Z"
    }
   },
   "outputs": [],
   "source": [
    "%matplotlib inline\n",
    "import time\n",
    "import matplotlib.pyplot as plt\n",
    "import numpy as np\n",
    "\n",
    "import qcodes as qc\n",
    "from qcodes.instrument.parameter import ManualParameter\n",
    "from qcodes.dataset.experiment_container import (Experiment,\n",
    "                                                 load_last_experiment,\n",
    "                                                 new_experiment)\n",
    "from qcodes.dataset.sqlite.database import initialise_database\n",
    "from qcodes import load_or_create_experiment\n",
    "from qcodes.dataset.measurements import Measurement"
   ]
  },
  {
   "cell_type": "code",
   "execution_count": 3,
   "metadata": {
    "execution": {
     "iopub.execute_input": "2021-01-21T07:26:16.777687Z",
     "iopub.status.busy": "2021-01-21T07:26:16.777036Z",
     "iopub.status.idle": "2021-01-21T07:26:16.907707Z",
     "shell.execute_reply": "2021-01-21T07:26:16.907083Z"
    }
   },
   "outputs": [
    {
     "name": "stdout",
     "output_type": "stream",
     "text": [
      "\r",
      "0it [00:00, ?it/s]"
     ]
    },
    {
     "name": "stdout",
     "output_type": "stream",
     "text": [
      "\r",
      "Upgrading database; v0 -> v1: : 0it [00:00, ?it/s]"
     ]
    },
    {
     "name": "stdout",
     "output_type": "stream",
     "text": [
      "\r",
      "Upgrading database; v0 -> v1: : 0it [00:00, ?it/s]"
     ]
    },
    {
     "name": "stdout",
     "output_type": "stream",
     "text": [
      "\n",
      "\r",
      "  0%|          | 0/1 [00:00<?, ?it/s]"
     ]
    },
    {
     "name": "stdout",
     "output_type": "stream",
     "text": [
      "\r",
      "Upgrading database; v1 -> v2:   0%|          | 0/1 [00:00<?, ?it/s]"
     ]
    },
    {
     "name": "stdout",
     "output_type": "stream",
     "text": [
      "\r",
      "Upgrading database; v1 -> v2: 100%|██████████| 1/1 [00:00<00:00, 380.09it/s]"
     ]
    },
    {
     "name": "stdout",
     "output_type": "stream",
     "text": [
      "\n",
      "\r",
      "0it [00:00, ?it/s]"
     ]
    },
    {
     "name": "stdout",
     "output_type": "stream",
     "text": [
      "\r",
      "Upgrading database; v2 -> v3: : 0it [00:00, ?it/s]"
     ]
    },
    {
     "name": "stdout",
     "output_type": "stream",
     "text": [
      "\r",
      "Upgrading database; v2 -> v3: : 0it [00:00, ?it/s]"
     ]
    },
    {
     "name": "stdout",
     "output_type": "stream",
     "text": [
      "\n",
      "\r",
      "0it [00:00, ?it/s]"
     ]
    },
    {
     "name": "stdout",
     "output_type": "stream",
     "text": [
      "\r",
      "Upgrading database; v3 -> v4: : 0it [00:00, ?it/s]"
     ]
    },
    {
     "name": "stdout",
     "output_type": "stream",
     "text": [
      "\r",
      "Upgrading database; v3 -> v4: : 0it [00:00, ?it/s]"
     ]
    },
    {
     "name": "stdout",
     "output_type": "stream",
     "text": [
      "\n",
      "\r",
      "  0%|          | 0/1 [00:00<?, ?it/s]"
     ]
    },
    {
     "name": "stdout",
     "output_type": "stream",
     "text": [
      "\r",
      "Upgrading database; v4 -> v5:   0%|          | 0/1 [00:00<?, ?it/s]"
     ]
    },
    {
     "name": "stdout",
     "output_type": "stream",
     "text": [
      "\r",
      "Upgrading database; v4 -> v5: 100%|██████████| 1/1 [00:00<00:00, 334.55it/s]"
     ]
    },
    {
     "name": "stdout",
     "output_type": "stream",
     "text": [
      "\n",
      "\r",
      "0it [00:00, ?it/s]"
     ]
    },
    {
     "name": "stdout",
     "output_type": "stream",
     "text": [
      "\r",
      "Upgrading database; v5 -> v6: : 0it [00:00, ?it/s]"
     ]
    },
    {
     "name": "stdout",
     "output_type": "stream",
     "text": [
      "\r",
      "Upgrading database; v5 -> v6: : 0it [00:00, ?it/s]"
     ]
    },
    {
     "name": "stdout",
     "output_type": "stream",
     "text": [
      "\n",
      "\r",
      "  0%|          | 0/1 [00:00<?, ?it/s]"
     ]
    },
    {
     "name": "stdout",
     "output_type": "stream",
     "text": [
      "\r",
      "Upgrading database; v6 -> v7:   0%|          | 0/1 [00:00<?, ?it/s]"
     ]
    },
    {
     "name": "stdout",
     "output_type": "stream",
     "text": [
      "\r",
      "Upgrading database; v6 -> v7: 100%|██████████| 1/1 [00:00<00:00, 232.55it/s]"
     ]
    },
    {
     "name": "stdout",
     "output_type": "stream",
     "text": [
      "\n",
      "\r",
      "  0%|          | 0/1 [00:00<?, ?it/s]"
     ]
    },
    {
     "name": "stdout",
     "output_type": "stream",
     "text": [
      "\r",
      "Upgrading database; v7 -> v8:   0%|          | 0/1 [00:00<?, ?it/s]"
     ]
    },
    {
     "name": "stdout",
     "output_type": "stream",
     "text": [
      "\r",
      "Upgrading database; v7 -> v8: 100%|██████████| 1/1 [00:00<00:00, 936.44it/s]"
     ]
    },
    {
     "name": "stdout",
     "output_type": "stream",
     "text": [
      "\n",
      "\r",
      "  0%|          | 0/1 [00:00<?, ?it/s]"
     ]
    },
    {
     "name": "stdout",
     "output_type": "stream",
     "text": [
      "\r",
      "Upgrading database; v8 -> v9:   0%|          | 0/1 [00:00<?, ?it/s]"
     ]
    },
    {
     "name": "stdout",
     "output_type": "stream",
     "text": [
      "\r",
      "Upgrading database; v8 -> v9: 100%|██████████| 1/1 [00:00<00:00, 1079.34it/s]"
     ]
    },
    {
     "name": "stdout",
     "output_type": "stream",
     "text": [
      "\n"
     ]
    }
   ],
   "source": [
    "initialise_database()\n",
    "exp = load_or_create_experiment(experiment_name='tutorial_exp', sample_name=\"no sample\")"
   ]
  },
  {
   "cell_type": "markdown",
   "metadata": {},
   "source": [
    "Here, we define a simple function to benchmark the time it takes to insert n points with either numeric or array data type.\n",
    "We will compare both the time used to call ``add_result`` and the time used for the full measurement."
   ]
  },
  {
   "cell_type": "code",
   "execution_count": 4,
   "metadata": {
    "execution": {
     "iopub.execute_input": "2021-01-21T07:26:16.916718Z",
     "iopub.status.busy": "2021-01-21T07:26:16.916106Z",
     "iopub.status.idle": "2021-01-21T07:26:16.920131Z",
     "shell.execute_reply": "2021-01-21T07:26:16.919509Z"
    }
   },
   "outputs": [],
   "source": [
    "def insert_data(paramtype, npoints, nreps=1):\n",
    "\n",
    "    meas = Measurement(exp=exp)\n",
    "\n",
    "    x1 = ManualParameter('x1')\n",
    "    x2 = ManualParameter('x2')\n",
    "    x3 = ManualParameter('x3')\n",
    "    y1 = ManualParameter('y1')\n",
    "    y2 = ManualParameter('y2')\n",
    "\n",
    "    meas.register_parameter(x1, paramtype=paramtype)\n",
    "    meas.register_parameter(x2, paramtype=paramtype)\n",
    "    meas.register_parameter(x3, paramtype=paramtype)\n",
    "    meas.register_parameter(y1, setpoints=[x1, x2, x3],\n",
    "                            paramtype=paramtype)\n",
    "    meas.register_parameter(y2, setpoints=[x1, x2, x3],\n",
    "                            paramtype=paramtype)\n",
    "    start = time.perf_counter()\n",
    "    with meas.run() as datasaver:\n",
    "        start_adding = time.perf_counter()\n",
    "        for i in range(nreps):\n",
    "            datasaver.add_result((x1, np.random.rand(npoints)),\n",
    "                                 (x2, np.random.rand(npoints)),\n",
    "                                 (x3, np.random.rand(npoints)),\n",
    "                                 (y1, np.random.rand(npoints)),\n",
    "                                 (y2, np.random.rand(npoints)))\n",
    "        stop_adding = time.perf_counter()\n",
    "        run_id = datasaver.run_id\n",
    "    stop = time.perf_counter()\n",
    "    tot_time = stop - start\n",
    "    add_time = stop_adding - start_adding\n",
    "    return tot_time, add_time, run_id"
   ]
  },
  {
   "cell_type": "markdown",
   "metadata": {},
   "source": [
    "## Comparison between numeric/array data and binary blob"
   ]
  },
  {
   "cell_type": "markdown",
   "metadata": {},
   "source": [
    "### Case1: Short experiment time"
   ]
  },
  {
   "cell_type": "code",
   "execution_count": 5,
   "metadata": {
    "execution": {
     "iopub.execute_input": "2021-01-21T07:26:16.928134Z",
     "iopub.status.busy": "2021-01-21T07:26:16.927429Z",
     "iopub.status.idle": "2021-01-21T07:26:17.864250Z",
     "shell.execute_reply": "2021-01-21T07:26:17.863185Z"
    }
   },
   "outputs": [
    {
     "name": "stdout",
     "output_type": "stream",
     "text": [
      "Starting experimental run with id: 1. \n",
      "Starting experimental run with id: 2. \n",
      "Starting experimental run with id: 3. \n",
      "Starting experimental run with id: 4. \n"
     ]
    },
    {
     "name": "stdout",
     "output_type": "stream",
     "text": [
      "Starting experimental run with id: 5. \n"
     ]
    },
    {
     "name": "stdout",
     "output_type": "stream",
     "text": [
      "Starting experimental run with id: 6. \n",
      "Starting experimental run with id: 7. \n"
     ]
    },
    {
     "name": "stdout",
     "output_type": "stream",
     "text": [
      "Starting experimental run with id: 8. \n"
     ]
    },
    {
     "name": "stdout",
     "output_type": "stream",
     "text": [
      "Starting experimental run with id: 9. \n"
     ]
    },
    {
     "name": "stdout",
     "output_type": "stream",
     "text": [
      "Starting experimental run with id: 10. \n",
      "Starting experimental run with id: 11. \n"
     ]
    },
    {
     "name": "stdout",
     "output_type": "stream",
     "text": [
      "Starting experimental run with id: 12. \n"
     ]
    },
    {
     "name": "stdout",
     "output_type": "stream",
     "text": [
      "Starting experimental run with id: 13. \n"
     ]
    },
    {
     "name": "stdout",
     "output_type": "stream",
     "text": [
      "Starting experimental run with id: 14. \n"
     ]
    }
   ],
   "source": [
    "sizes = [1,500,1000,2000,3000,4000,5000]\n",
    "t_numeric = []\n",
    "t_numeric_add = []\n",
    "t_array = []\n",
    "t_array_add = []\n",
    "for size in sizes:\n",
    "    tn, tna, run_id_n =  insert_data('numeric', size)\n",
    "    t_numeric.append(tn)\n",
    "    t_numeric_add.append(tna)\n",
    "\n",
    "    ta, taa, run_id_a =  insert_data('array', size)\n",
    "    t_array.append(ta)\n",
    "    t_array_add.append(taa)"
   ]
  },
  {
   "cell_type": "code",
   "execution_count": 6,
   "metadata": {
    "execution": {
     "iopub.execute_input": "2021-01-21T07:26:17.885036Z",
     "iopub.status.busy": "2021-01-21T07:26:17.884325Z",
     "iopub.status.idle": "2021-01-21T07:26:18.136287Z",
     "shell.execute_reply": "2021-01-21T07:26:18.135295Z"
    }
   },
   "outputs": [
    {
     "data": {
      "image/png": "[encoded data removed]",
      "text/plain": [
       "<Figure size 432x288 with 1 Axes>"
      ]
     },
     "metadata": {
      "needs_background": "light"
     },
     "output_type": "display_data"
    }
   ],
   "source": [
    "fig, ax = plt.subplots(1,1)\n",
    "ax.plot(sizes, t_numeric, 'o-', label='Inserting row-by-row')\n",
    "ax.plot(sizes, t_numeric_add, 'o-', label='Inserting row-by-row: add_result only')\n",
    "ax.plot(sizes, t_array, 'd-', label='Inserting as binary blob')\n",
    "ax.plot(sizes, t_array_add, 'd-', label='Inserting as binary blob: add_result only')\n",
    "ax.legend()\n",
    "ax.set_xlabel('Array length')\n",
    "ax.set_ylabel('Time (s)')\n",
    "fig.tight_layout()"
   ]
  },
  {
   "cell_type": "markdown",
   "metadata": {},
   "source": [
    "As shown in the latter figure, the time to setup and and close the experiment is approximately 0.4 sec. In case of small array sizes, the difference between inserting values of data as arrays and inserting them row-by-row is relatively unimportant. At larger array sizes, i.e. above 10000 points, the cost of writing data as individual datapoints starts to become important.\n"
   ]
  },
  {
   "cell_type": "markdown",
   "metadata": {},
   "source": [
    "### Case2: Long experiment time "
   ]
  },
  {
   "cell_type": "code",
   "execution_count": 7,
   "metadata": {
    "execution": {
     "iopub.execute_input": "2021-01-21T07:26:18.145528Z",
     "iopub.status.busy": "2021-01-21T07:26:18.144730Z",
     "iopub.status.idle": "2021-01-21T07:27:23.888285Z",
     "shell.execute_reply": "2021-01-21T07:27:23.887528Z"
    }
   },
   "outputs": [
    {
     "name": "stdout",
     "output_type": "stream",
     "text": [
      "Starting experimental run with id: 15. \n",
      "Starting experimental run with id: 16. \n"
     ]
    },
    {
     "name": "stdout",
     "output_type": "stream",
     "text": [
      "Starting experimental run with id: 17. \n"
     ]
    },
    {
     "name": "stdout",
     "output_type": "stream",
     "text": [
      "Starting experimental run with id: 18. \n",
      "Starting experimental run with id: 19. \n"
     ]
    },
    {
     "name": "stdout",
     "output_type": "stream",
     "text": [
      "Starting experimental run with id: 20. \n"
     ]
    },
    {
     "name": "stdout",
     "output_type": "stream",
     "text": [
      "Starting experimental run with id: 21. \n"
     ]
    },
    {
     "name": "stdout",
     "output_type": "stream",
     "text": [
      "Starting experimental run with id: 22. \n"
     ]
    },
    {
     "name": "stdout",
     "output_type": "stream",
     "text": [
      "Starting experimental run with id: 23. \n"
     ]
    },
    {
     "name": "stdout",
     "output_type": "stream",
     "text": [
      "Starting experimental run with id: 24. \n"
     ]
    },
    {
     "name": "stdout",
     "output_type": "stream",
     "text": [
      "Starting experimental run with id: 25. \n"
     ]
    },
    {
     "name": "stdout",
     "output_type": "stream",
     "text": [
      "Starting experimental run with id: 26. \n"
     ]
    },
    {
     "name": "stdout",
     "output_type": "stream",
     "text": [
      "Starting experimental run with id: 27. \n"
     ]
    },
    {
     "name": "stdout",
     "output_type": "stream",
     "text": [
      "Starting experimental run with id: 28. \n"
     ]
    }
   ],
   "source": [
    "sizes = [1,500,1000,2000,3000,4000,5000]\n",
    "nreps = 100\n",
    "t_numeric = []\n",
    "t_numeric_add = []\n",
    "t_numeric_run_ids = []\n",
    "t_array = []\n",
    "t_array_add = []\n",
    "t_array_run_ids = []\n",
    "for size in sizes:\n",
    "    tn, tna, run_id_n =  insert_data('numeric', size, nreps=nreps)\n",
    "    t_numeric.append(tn)\n",
    "    t_numeric_add.append(tna)\n",
    "    t_numeric_run_ids.append(run_id_n)\n",
    "\n",
    "    ta, taa, run_id_a =  insert_data('array', size, nreps=nreps)\n",
    "    t_array.append(ta)\n",
    "    t_array_add.append(taa)\n",
    "    t_array_run_ids.append(run_id_a)"
   ]
  },
  {
   "cell_type": "code",
   "execution_count": 8,
   "metadata": {
    "execution": {
     "iopub.execute_input": "2021-01-21T07:27:23.919530Z",
     "iopub.status.busy": "2021-01-21T07:27:23.917111Z",
     "iopub.status.idle": "2021-01-21T07:27:24.155343Z",
     "shell.execute_reply": "2021-01-21T07:27:24.154828Z"
    },
    "scrolled": true
   },
   "outputs": [
    {
     "data": {
      "image/png": "[encoded data removed]",
      "text/plain": [
       "<Figure size 432x288 with 1 Axes>"
      ]
     },
     "metadata": {
      "needs_background": "light"
     },
     "output_type": "display_data"
    }
   ],
   "source": [
    "fig, ax = plt.subplots(1,1)\n",
    "ax.plot(sizes, t_numeric, 'o-', label='Inserting row-by-row')\n",
    "ax.plot(sizes, t_numeric_add, 'o-', label='Inserting row-by-row: add_result only')\n",
    "ax.plot(sizes, t_array, 'd-', label='Inserting as binary blob')\n",
    "ax.plot(sizes, t_array_add, 'd-', label='Inserting as binary blob: add_result only')\n",
    "ax.legend()\n",
    "ax.set_xlabel('Array length')\n",
    "ax.set_ylabel('Time (s)')\n",
    "fig.tight_layout()"
   ]
  },
  {
   "cell_type": "markdown",
   "metadata": {},
   "source": [
    "However, as we increase the length of the experiment, as seen here by repeating the insertion 100 times, we see a big difference between inserting values of the data row-by-row and inserting it as a binary blob."
   ]
  },
  {
   "cell_type": "markdown",
   "metadata": {},
   "source": [
    "## Loading the data "
   ]
  },
  {
   "cell_type": "code",
   "execution_count": 9,
   "metadata": {
    "execution": {
     "iopub.execute_input": "2021-01-21T07:27:24.160696Z",
     "iopub.status.busy": "2021-01-21T07:27:24.160050Z",
     "iopub.status.idle": "2021-01-21T07:27:24.163286Z",
     "shell.execute_reply": "2021-01-21T07:27:24.163960Z"
    }
   },
   "outputs": [],
   "source": [
    "from qcodes.dataset.data_set import load_by_id\n",
    "from qcodes.dataset.data_export import get_data_by_id"
   ]
  },
  {
   "cell_type": "markdown",
   "metadata": {},
   "source": [
    "As usual you can load the data by using the ``load_by_id`` function but you will notice that the different storage methods\n",
    "are reflected in shape of the data as it is retrieved. "
   ]
  },
  {
   "cell_type": "code",
   "execution_count": 10,
   "metadata": {
    "execution": {
     "iopub.execute_input": "2021-01-21T07:27:24.169436Z",
     "iopub.status.busy": "2021-01-21T07:27:24.167961Z",
     "iopub.status.idle": "2021-01-21T07:27:24.170008Z",
     "shell.execute_reply": "2021-01-21T07:27:24.170714Z"
    }
   },
   "outputs": [],
   "source": [
    "run_id_n = t_numeric_run_ids[0]\n",
    "run_id_a = t_array_run_ids[0]"
   ]
  },
  {
   "cell_type": "code",
   "execution_count": 11,
   "metadata": {
    "execution": {
     "iopub.execute_input": "2021-01-21T07:27:24.175226Z",
     "iopub.status.busy": "2021-01-21T07:27:24.174581Z",
     "iopub.status.idle": "2021-01-21T07:27:24.184914Z",
     "shell.execute_reply": "2021-01-21T07:27:24.185543Z"
    },
    "scrolled": true
   },
   "outputs": [
    {
     "data": {
      "text/plain": [
       "{'x1': {'x1': array([0.45955892, 0.45955892, 0.0407893 , 0.0407893 , 0.74124297,\n",
       "         0.74124297, 0.06329428, 0.06329428, 0.19823895, 0.19823895,\n",
       "         0.1294029 , 0.1294029 , 0.82130625, 0.82130625, 0.78190215,\n",
       "         0.78190215, 0.07559192, 0.07559192, 0.76631755, 0.76631755,\n",
       "         0.68173503, 0.68173503, 0.23646583, 0.23646583, 0.0321031 ,\n",
       "         0.0321031 , 0.13100734, 0.13100734, 0.52167406, 0.52167406,\n",
       "         0.85839698, 0.85839698, 0.81558605, 0.81558605, 0.51709693,\n",
       "         0.51709693, 0.39873934, 0.39873934, 0.01436802, 0.01436802,\n",
       "         0.55071717, 0.55071717, 0.01139802, 0.01139802, 0.78704119,\n",
       "         0.78704119, 0.1370603 , 0.1370603 , 0.12917994, 0.12917994,\n",
       "         0.87381268, 0.87381268, 0.88401699, 0.88401699, 0.67638052,\n",
       "         0.67638052, 0.09954323, 0.09954323, 0.1705583 , 0.1705583 ,\n",
       "         0.11869439, 0.11869439, 0.5043958 , 0.5043958 , 0.67153304,\n",
       "         0.67153304, 0.68543203, 0.68543203, 0.56410363, 0.56410363,\n",
       "         0.35315092, 0.35315092, 0.73428063, 0.73428063, 0.24157429,\n",
       "         0.24157429, 0.7450182 , 0.7450182 , 0.34097898, 0.34097898,\n",
       "         0.39465311, 0.39465311, 0.37464137, 0.37464137, 0.11516153,\n",
       "         0.11516153, 0.3479272 , 0.3479272 , 0.11172082, 0.11172082,\n",
       "         0.78364056, 0.78364056, 0.93477503, 0.93477503, 0.27255128,\n",
       "         0.27255128, 0.10726982, 0.10726982, 0.29559986, 0.29559986,\n",
       "         0.21081548, 0.21081548, 0.71859609, 0.71859609, 0.50296856,\n",
       "         0.50296856, 0.45199354, 0.45199354, 0.8077361 , 0.8077361 ,\n",
       "         0.57508411, 0.57508411, 0.14392397, 0.14392397, 0.95425385,\n",
       "         0.95425385, 0.64432539, 0.64432539, 0.03253367, 0.03253367,\n",
       "         0.21368054, 0.21368054, 0.28607066, 0.28607066, 0.55066402,\n",
       "         0.55066402, 0.43899161, 0.43899161, 0.15407387, 0.15407387,\n",
       "         0.46389588, 0.46389588, 0.72173812, 0.72173812, 0.83214728,\n",
       "         0.83214728, 0.49284735, 0.49284735, 0.68076469, 0.68076469,\n",
       "         0.54049468, 0.54049468, 0.70968871, 0.70968871, 0.28002159,\n",
       "         0.28002159, 0.19924534, 0.19924534, 0.64181409, 0.64181409,\n",
       "         0.98201026, 0.98201026, 0.88544229, 0.88544229, 0.1042074 ,\n",
       "         0.1042074 , 0.09582533, 0.09582533, 0.04046297, 0.04046297,\n",
       "         0.54127356, 0.54127356, 0.16041389, 0.16041389, 0.55892586,\n",
       "         0.55892586, 0.05527423, 0.05527423, 0.83238857, 0.83238857,\n",
       "         0.69466156, 0.69466156, 0.23483656, 0.23483656, 0.54411352,\n",
       "         0.54411352, 0.1619402 , 0.1619402 , 0.57965352, 0.57965352,\n",
       "         0.01327919, 0.01327919, 0.07195979, 0.07195979, 0.79685267,\n",
       "         0.79685267, 0.22899666, 0.22899666, 0.25661726, 0.25661726,\n",
       "         0.78001399, 0.78001399, 0.94819364, 0.94819364, 0.32260387,\n",
       "         0.32260387, 0.61834257, 0.61834257, 0.76725397, 0.76725397])}}"
      ]
     },
     "execution_count": 1,
     "metadata": {},
     "output_type": "execute_result"
    }
   ],
   "source": [
    "ds = load_by_id(run_id_n)\n",
    "ds.get_parameter_data('x1')"
   ]
  },
  {
   "cell_type": "markdown",
   "metadata": {},
   "source": [
    "And a dataset stored as binary arrays"
   ]
  },
  {
   "cell_type": "code",
   "execution_count": 12,
   "metadata": {
    "execution": {
     "iopub.execute_input": "2021-01-21T07:27:24.189628Z",
     "iopub.status.busy": "2021-01-21T07:27:24.189002Z",
     "iopub.status.idle": "2021-01-21T07:27:24.251542Z",
     "shell.execute_reply": "2021-01-21T07:27:24.252132Z"
    },
    "scrolled": true
   },
   "outputs": [
    {
     "data": {
      "text/plain": [
       "{'x1': {'x1': array([[0.88213574],\n",
       "         [0.88213574],\n",
       "         [0.41457588],\n",
       "         [0.41457588],\n",
       "         [0.27811895],\n",
       "         [0.27811895],\n",
       "         [0.72519498],\n",
       "         [0.72519498],\n",
       "         [0.66202056],\n",
       "         [0.66202056],\n",
       "         [0.84486848],\n",
       "         [0.84486848],\n",
       "         [0.00599812],\n",
       "         [0.00599812],\n",
       "         [0.81607489],\n",
       "         [0.81607489],\n",
       "         [0.23628166],\n",
       "         [0.23628166],\n",
       "         [0.1619566 ],\n",
       "         [0.1619566 ],\n",
       "         [0.3326126 ],\n",
       "         [0.3326126 ],\n",
       "         [0.55478997],\n",
       "         [0.55478997],\n",
       "         [0.01961834],\n",
       "         [0.01961834],\n",
       "         [0.88880954],\n",
       "         [0.88880954],\n",
       "         [0.70558723],\n",
       "         [0.70558723],\n",
       "         [0.80426344],\n",
       "         [0.80426344],\n",
       "         [0.64816216],\n",
       "         [0.64816216],\n",
       "         [0.83883175],\n",
       "         [0.83883175],\n",
       "         [0.04009292],\n",
       "         [0.04009292],\n",
       "         [0.10404585],\n",
       "         [0.10404585],\n",
       "         [0.27937864],\n",
       "         [0.27937864],\n",
       "         [0.9790307 ],\n",
       "         [0.9790307 ],\n",
       "         [0.29906675],\n",
       "         [0.29906675],\n",
       "         [0.507611  ],\n",
       "         [0.507611  ],\n",
       "         [0.90768705],\n",
       "         [0.90768705],\n",
       "         [0.65846922],\n",
       "         [0.65846922],\n",
       "         [0.84960724],\n",
       "         [0.84960724],\n",
       "         [0.02306936],\n",
       "         [0.02306936],\n",
       "         [0.13122198],\n",
       "         [0.13122198],\n",
       "         [0.77864027],\n",
       "         [0.77864027],\n",
       "         [0.43016006],\n",
       "         [0.43016006],\n",
       "         [0.21585337],\n",
       "         [0.21585337],\n",
       "         [0.04532209],\n",
       "         [0.04532209],\n",
       "         [0.02415251],\n",
       "         [0.02415251],\n",
       "         [0.19732438],\n",
       "         [0.19732438],\n",
       "         [0.99401446],\n",
       "         [0.99401446],\n",
       "         [0.49624342],\n",
       "         [0.49624342],\n",
       "         [0.41540875],\n",
       "         [0.41540875],\n",
       "         [0.31745355],\n",
       "         [0.31745355],\n",
       "         [0.92346287],\n",
       "         [0.92346287],\n",
       "         [0.81448514],\n",
       "         [0.81448514],\n",
       "         [0.26310016],\n",
       "         [0.26310016],\n",
       "         [0.46569853],\n",
       "         [0.46569853],\n",
       "         [0.6102647 ],\n",
       "         [0.6102647 ],\n",
       "         [0.70678954],\n",
       "         [0.70678954],\n",
       "         [0.37727187],\n",
       "         [0.37727187],\n",
       "         [0.5309058 ],\n",
       "         [0.5309058 ],\n",
       "         [0.04557281],\n",
       "         [0.04557281],\n",
       "         [0.31159431],\n",
       "         [0.31159431],\n",
       "         [0.18058482],\n",
       "         [0.18058482],\n",
       "         [0.39929217],\n",
       "         [0.39929217],\n",
       "         [0.49448292],\n",
       "         [0.49448292],\n",
       "         [0.21838828],\n",
       "         [0.21838828],\n",
       "         [0.48991541],\n",
       "         [0.48991541],\n",
       "         [0.1451617 ],\n",
       "         [0.1451617 ],\n",
       "         [0.37993633],\n",
       "         [0.37993633],\n",
       "         [0.98376169],\n",
       "         [0.98376169],\n",
       "         [0.09291762],\n",
       "         [0.09291762],\n",
       "         [0.0918337 ],\n",
       "         [0.0918337 ],\n",
       "         [0.88701163],\n",
       "         [0.88701163],\n",
       "         [0.25710627],\n",
       "         [0.25710627],\n",
       "         [0.26047736],\n",
       "         [0.26047736],\n",
       "         [0.14284968],\n",
       "         [0.14284968],\n",
       "         [0.49946876],\n",
       "         [0.49946876],\n",
       "         [0.05487856],\n",
       "         [0.05487856],\n",
       "         [0.60144467],\n",
       "         [0.60144467],\n",
       "         [0.30027818],\n",
       "         [0.30027818],\n",
       "         [0.19604173],\n",
       "         [0.19604173],\n",
       "         [0.76987192],\n",
       "         [0.76987192],\n",
       "         [0.17669962],\n",
       "         [0.17669962],\n",
       "         [0.62392837],\n",
       "         [0.62392837],\n",
       "         [0.28875385],\n",
       "         [0.28875385],\n",
       "         [0.99822924],\n",
       "         [0.99822924],\n",
       "         [0.56792566],\n",
       "         [0.56792566],\n",
       "         [0.75807609],\n",
       "         [0.75807609],\n",
       "         [0.79189696],\n",
       "         [0.79189696],\n",
       "         [0.9496286 ],\n",
       "         [0.9496286 ],\n",
       "         [0.55007857],\n",
       "         [0.55007857],\n",
       "         [0.36426787],\n",
       "         [0.36426787],\n",
       "         [0.78074462],\n",
       "         [0.78074462],\n",
       "         [0.0317216 ],\n",
       "         [0.0317216 ],\n",
       "         [0.76400176],\n",
       "         [0.76400176],\n",
       "         [0.25879465],\n",
       "         [0.25879465],\n",
       "         [0.54041421],\n",
       "         [0.54041421],\n",
       "         [0.11372359],\n",
       "         [0.11372359],\n",
       "         [0.43673926],\n",
       "         [0.43673926],\n",
       "         [0.52826717],\n",
       "         [0.52826717],\n",
       "         [0.10167846],\n",
       "         [0.10167846],\n",
       "         [0.20996966],\n",
       "         [0.20996966],\n",
       "         [0.34436968],\n",
       "         [0.34436968],\n",
       "         [0.79208696],\n",
       "         [0.79208696],\n",
       "         [0.67364795],\n",
       "         [0.67364795],\n",
       "         [0.15531126],\n",
       "         [0.15531126],\n",
       "         [0.54747748],\n",
       "         [0.54747748],\n",
       "         [0.67649991],\n",
       "         [0.67649991],\n",
       "         [0.17503007],\n",
       "         [0.17503007],\n",
       "         [0.55297802],\n",
       "         [0.55297802],\n",
       "         [0.70010955],\n",
       "         [0.70010955],\n",
       "         [0.74831501],\n",
       "         [0.74831501],\n",
       "         [0.9441323 ],\n",
       "         [0.9441323 ]])}}"
      ]
     },
     "execution_count": 1,
     "metadata": {},
     "output_type": "execute_result"
    }
   ],
   "source": [
    "ds = load_by_id(run_id_a)\n",
    "ds.get_parameter_data('x1')"
   ]
  },
  {
   "cell_type": "code",
   "execution_count": null,
   "metadata": {},
   "outputs": [],
   "source": []
  }
 ],
 "metadata": {
  "kernelspec": {
   "display_name": "Python 3",
   "language": "python",
   "name": "python3"
  },
  "language_info": {
   "codemirror_mode": {
    "name": "ipython",
    "version": 3
   },
   "file_extension": ".py",
   "mimetype": "text/x-python",
   "name": "python",
   "nbconvert_exporter": "python",
   "pygments_lexer": "ipython3",
   "version": "3.7.9"
  },
  "nbsphinx": {
   "timeout": 600
  },
  "toc": {
   "base_numbering": 1,
   "nav_menu": {},
   "number_sections": true,
   "sideBar": true,
   "skip_h1_title": false,
   "title_cell": "Table of Contents",
   "title_sidebar": "Contents",
   "toc_cell": false,
   "toc_position": {},
   "toc_section_display": true,
   "toc_window_display": false
  },
  "varInspector": {
   "cols": {
    "lenName": 16,
    "lenType": 16,
    "lenVar": 40
   },
   "kernels_config": {
    "python": {
     "delete_cmd_postfix": "",
     "delete_cmd_prefix": "del ",
     "library": "var_list.py",
     "varRefreshCmd": "print(var_dic_list())"
    },
    "r": {
     "delete_cmd_postfix": ") ",
     "delete_cmd_prefix": "rm(",
     "library": "var_list.r",
     "varRefreshCmd": "cat(var_dic_list()) "
    }
   },
   "types_to_exclude": [
    "module",
    "function",
    "builtin_function_or_method",
    "instance",
    "_Feature"
   ],
   "window_display": false
  }
 },
 "nbformat": 4,
 "nbformat_minor": 2
}
