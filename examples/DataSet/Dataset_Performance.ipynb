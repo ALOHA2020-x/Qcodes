{
 "cells": [
  {
   "cell_type": "markdown",
   "metadata": {},
   "source": [
    "# DataSet Performance\n",
    "\n",
    "This notebook shows the trade-off between inserting data into a database row-by-row and as binary blobs. Inserting the data row-by-row means that we have direct access to all the data and may perform queries directly on the values of the data. On the other hand, as we shall see, this is much slower than inserting the data directly as binary blobs."
   ]
  },
  {
   "cell_type": "markdown",
   "metadata": {},
   "source": [
    "First, we choose a new location for the database to ensure that we don't add a bunch of benchmarking data to the default one."
   ]
  },
  {
   "cell_type": "code",
   "execution_count": 1,
   "metadata": {
    "execution": {
     "iopub.execute_input": "2020-11-10T16:34:44.303403Z",
     "iopub.status.busy": "2020-11-10T16:34:44.302781Z",
     "iopub.status.idle": "2020-11-10T16:34:45.366788Z",
     "shell.execute_reply": "2020-11-10T16:34:45.366199Z"
    }
   },
   "outputs": [
    {
     "name": "stdout",
     "output_type": "stream",
     "text": [
      "Logging hadn't been started.\n",
      "Activating auto-logging. Current session state plus future input saved.\n",
      "Filename       : /home/vsts/.qcodes/logs/command_history.log\n",
      "Mode           : append\n",
      "Output logging : True\n",
      "Raw input log  : False\n",
      "Timestamping   : True\n",
      "State          : active\n"
     ]
    },
    {
     "name": "stdout",
     "output_type": "stream",
     "text": [
      "Qcodes Logfile : /home/vsts/.qcodes/logs/201110-14031-qcodes.log\n"
     ]
    }
   ],
   "source": [
    "import os\n",
    "cwd = os.getcwd()\n",
    "import qcodes as qc\n",
    "qc.config[\"core\"][\"db_location\"] = os.path.join(cwd, 'testing.db')\n"
   ]
  },
  {
   "cell_type": "code",
   "execution_count": 2,
   "metadata": {
    "execution": {
     "iopub.execute_input": "2020-11-10T16:34:45.373462Z",
     "iopub.status.busy": "2020-11-10T16:34:45.372867Z",
     "iopub.status.idle": "2020-11-10T16:34:45.565391Z",
     "shell.execute_reply": "2020-11-10T16:34:45.564638Z"
    }
   },
   "outputs": [],
   "source": [
    "%matplotlib inline\n",
    "import time\n",
    "import matplotlib.pyplot as plt\n",
    "import numpy as np\n",
    "\n",
    "import qcodes as qc\n",
    "from qcodes.instrument.parameter import ManualParameter\n",
    "from qcodes.dataset.experiment_container import (Experiment,\n",
    "                                                 load_last_experiment,\n",
    "                                                 new_experiment)\n",
    "from qcodes.dataset.sqlite.database import initialise_database\n",
    "from qcodes import load_or_create_experiment\n",
    "from qcodes.dataset.measurements import Measurement"
   ]
  },
  {
   "cell_type": "code",
   "execution_count": 3,
   "metadata": {
    "execution": {
     "iopub.execute_input": "2020-11-10T16:34:45.569735Z",
     "iopub.status.busy": "2020-11-10T16:34:45.569146Z",
     "iopub.status.idle": "2020-11-10T16:34:45.683763Z",
     "shell.execute_reply": "2020-11-10T16:34:45.683236Z"
    }
   },
   "outputs": [
    {
     "name": "stdout",
     "output_type": "stream",
     "text": [
      "\r",
      "0it [00:00, ?it/s]"
     ]
    },
    {
     "name": "stdout",
     "output_type": "stream",
     "text": [
      "\r",
      "Upgrading database; v0 -> v1: : 0it [00:00, ?it/s]"
     ]
    },
    {
     "name": "stdout",
     "output_type": "stream",
     "text": [
      "\r",
      "Upgrading database; v0 -> v1: : 0it [00:00, ?it/s]"
     ]
    },
    {
     "name": "stdout",
     "output_type": "stream",
     "text": [
      "\n",
      "\r",
      "  0%|          | 0/1 [00:00<?, ?it/s]"
     ]
    },
    {
     "name": "stdout",
     "output_type": "stream",
     "text": [
      "\r",
      "Upgrading database; v1 -> v2:   0%|          | 0/1 [00:00<?, ?it/s]"
     ]
    },
    {
     "name": "stdout",
     "output_type": "stream",
     "text": [
      "\r",
      "Upgrading database; v1 -> v2: 100%|██████████| 1/1 [00:00<00:00, 1141.93it/s]"
     ]
    },
    {
     "name": "stdout",
     "output_type": "stream",
     "text": [
      "\n",
      "\r",
      "0it [00:00, ?it/s]"
     ]
    },
    {
     "name": "stdout",
     "output_type": "stream",
     "text": [
      "\r",
      "Upgrading database; v2 -> v3: : 0it [00:00, ?it/s]"
     ]
    },
    {
     "name": "stdout",
     "output_type": "stream",
     "text": [
      "\r",
      "Upgrading database; v2 -> v3: : 0it [00:00, ?it/s]"
     ]
    },
    {
     "name": "stdout",
     "output_type": "stream",
     "text": [
      "\n",
      "\r",
      "0it [00:00, ?it/s]"
     ]
    },
    {
     "name": "stdout",
     "output_type": "stream",
     "text": [
      "\r",
      "Upgrading database; v3 -> v4: : 0it [00:00, ?it/s]"
     ]
    },
    {
     "name": "stdout",
     "output_type": "stream",
     "text": [
      "\r",
      "Upgrading database; v3 -> v4: : 0it [00:00, ?it/s]"
     ]
    },
    {
     "name": "stdout",
     "output_type": "stream",
     "text": [
      "\n",
      "\r",
      "  0%|          | 0/1 [00:00<?, ?it/s]"
     ]
    },
    {
     "name": "stdout",
     "output_type": "stream",
     "text": [
      "\r",
      "Upgrading database; v4 -> v5:   0%|          | 0/1 [00:00<?, ?it/s]"
     ]
    },
    {
     "name": "stdout",
     "output_type": "stream",
     "text": [
      "\r",
      "Upgrading database; v4 -> v5: 100%|██████████| 1/1 [00:00<00:00, 1051.73it/s]"
     ]
    },
    {
     "name": "stdout",
     "output_type": "stream",
     "text": [
      "\n",
      "\r",
      "0it [00:00, ?it/s]"
     ]
    },
    {
     "name": "stdout",
     "output_type": "stream",
     "text": [
      "\r",
      "Upgrading database; v5 -> v6: : 0it [00:00, ?it/s]"
     ]
    },
    {
     "name": "stdout",
     "output_type": "stream",
     "text": [
      "\r",
      "Upgrading database; v5 -> v6: : 0it [00:00, ?it/s]"
     ]
    },
    {
     "name": "stdout",
     "output_type": "stream",
     "text": [
      "\n",
      "\r",
      "  0%|          | 0/1 [00:00<?, ?it/s]"
     ]
    },
    {
     "name": "stdout",
     "output_type": "stream",
     "text": [
      "\r",
      "Upgrading database; v6 -> v7:   0%|          | 0/1 [00:00<?, ?it/s]"
     ]
    },
    {
     "name": "stdout",
     "output_type": "stream",
     "text": [
      "\r",
      "Upgrading database; v6 -> v7: 100%|██████████| 1/1 [00:00<00:00, 265.16it/s]"
     ]
    },
    {
     "name": "stdout",
     "output_type": "stream",
     "text": [
      "\n",
      "\r",
      "  0%|          | 0/1 [00:00<?, ?it/s]"
     ]
    },
    {
     "name": "stdout",
     "output_type": "stream",
     "text": [
      "\r",
      "Upgrading database; v7 -> v8:   0%|          | 0/1 [00:00<?, ?it/s]"
     ]
    },
    {
     "name": "stdout",
     "output_type": "stream",
     "text": [
      "\r",
      "Upgrading database; v7 -> v8: 100%|██████████| 1/1 [00:00<00:00, 1095.98it/s]"
     ]
    },
    {
     "name": "stdout",
     "output_type": "stream",
     "text": [
      "\n",
      "\r",
      "  0%|          | 0/1 [00:00<?, ?it/s]"
     ]
    },
    {
     "name": "stdout",
     "output_type": "stream",
     "text": [
      "\r",
      "Upgrading database; v8 -> v9:   0%|          | 0/1 [00:00<?, ?it/s]"
     ]
    },
    {
     "name": "stdout",
     "output_type": "stream",
     "text": [
      "\r",
      "Upgrading database; v8 -> v9: 100%|██████████| 1/1 [00:00<00:00, 378.00it/s]"
     ]
    },
    {
     "name": "stdout",
     "output_type": "stream",
     "text": [
      "\n"
     ]
    }
   ],
   "source": [
    "initialise_database()\n",
    "exp = load_or_create_experiment(experiment_name='tutorial_exp', sample_name=\"no sample\")"
   ]
  },
  {
   "cell_type": "markdown",
   "metadata": {},
   "source": [
    "Here, we define a simple function to benchmark the time it takes to insert n points with either numeric or array data type.\n",
    "We will compare both the time used to call ``add_result`` and the time used for the full measurement."
   ]
  },
  {
   "cell_type": "code",
   "execution_count": 4,
   "metadata": {
    "execution": {
     "iopub.execute_input": "2020-11-10T16:34:45.691112Z",
     "iopub.status.busy": "2020-11-10T16:34:45.690506Z",
     "iopub.status.idle": "2020-11-10T16:34:45.694317Z",
     "shell.execute_reply": "2020-11-10T16:34:45.693819Z"
    }
   },
   "outputs": [],
   "source": [
    "def insert_data(paramtype, npoints, nreps=1):\n",
    "\n",
    "    meas = Measurement(exp=exp)\n",
    "\n",
    "    x1 = ManualParameter('x1')\n",
    "    x2 = ManualParameter('x2')\n",
    "    x3 = ManualParameter('x3')\n",
    "    y1 = ManualParameter('y1')\n",
    "    y2 = ManualParameter('y2')\n",
    "\n",
    "    meas.register_parameter(x1, paramtype=paramtype)\n",
    "    meas.register_parameter(x2, paramtype=paramtype)\n",
    "    meas.register_parameter(x3, paramtype=paramtype)\n",
    "    meas.register_parameter(y1, setpoints=[x1, x2, x3],\n",
    "                            paramtype=paramtype)\n",
    "    meas.register_parameter(y2, setpoints=[x1, x2, x3],\n",
    "                            paramtype=paramtype)\n",
    "    start = time.perf_counter()\n",
    "    with meas.run() as datasaver:\n",
    "        start_adding = time.perf_counter()\n",
    "        for i in range(nreps):\n",
    "            datasaver.add_result((x1, np.random.rand(npoints)),\n",
    "                                 (x2, np.random.rand(npoints)),\n",
    "                                 (x3, np.random.rand(npoints)),\n",
    "                                 (y1, np.random.rand(npoints)),\n",
    "                                 (y2, np.random.rand(npoints)))\n",
    "        stop_adding = time.perf_counter()\n",
    "        run_id = datasaver.run_id\n",
    "    stop = time.perf_counter()\n",
    "    tot_time = stop - start\n",
    "    add_time = stop_adding - start_adding\n",
    "    return tot_time, add_time, run_id"
   ]
  },
  {
   "cell_type": "markdown",
   "metadata": {},
   "source": [
    "## Comparison between numeric/array data and binary blob"
   ]
  },
  {
   "cell_type": "markdown",
   "metadata": {},
   "source": [
    "### Case1: Short experiment time"
   ]
  },
  {
   "cell_type": "code",
   "execution_count": 5,
   "metadata": {
    "execution": {
     "iopub.execute_input": "2020-11-10T16:34:45.700476Z",
     "iopub.status.busy": "2020-11-10T16:34:45.699652Z",
     "iopub.status.idle": "2020-11-10T16:34:46.566615Z",
     "shell.execute_reply": "2020-11-10T16:34:46.565535Z"
    }
   },
   "outputs": [
    {
     "name": "stdout",
     "output_type": "stream",
     "text": [
      "Starting experimental run with id: 1. \n",
      "Starting experimental run with id: 2. \n",
      "Starting experimental run with id: 3. \n",
      "Starting experimental run with id: 4. \n",
      "Starting experimental run with id: 5. \n"
     ]
    },
    {
     "name": "stdout",
     "output_type": "stream",
     "text": [
      "Starting experimental run with id: 6. \n"
     ]
    },
    {
     "name": "stdout",
     "output_type": "stream",
     "text": [
      "Starting experimental run with id: 7. \n"
     ]
    },
    {
     "name": "stdout",
     "output_type": "stream",
     "text": [
      "Starting experimental run with id: 8. \n",
      "Starting experimental run with id: 9. \n"
     ]
    },
    {
     "name": "stdout",
     "output_type": "stream",
     "text": [
      "Starting experimental run with id: 10. \n",
      "Starting experimental run with id: 11. \n"
     ]
    },
    {
     "name": "stdout",
     "output_type": "stream",
     "text": [
      "Starting experimental run with id: 12. \n"
     ]
    },
    {
     "name": "stdout",
     "output_type": "stream",
     "text": [
      "Starting experimental run with id: 13. \n"
     ]
    },
    {
     "name": "stdout",
     "output_type": "stream",
     "text": [
      "Starting experimental run with id: 14. \n"
     ]
    }
   ],
   "source": [
    "sizes = [1,500,1000,2000,3000,4000,5000]\n",
    "t_numeric = []\n",
    "t_numeric_add = []\n",
    "t_array = []\n",
    "t_array_add = []\n",
    "for size in sizes:\n",
    "    tn, tna, run_id_n =  insert_data('numeric', size)\n",
    "    t_numeric.append(tn)\n",
    "    t_numeric_add.append(tna)\n",
    "\n",
    "    ta, taa, run_id_a =  insert_data('array', size)\n",
    "    t_array.append(ta)\n",
    "    t_array_add.append(taa)"
   ]
  },
  {
   "cell_type": "code",
   "execution_count": 6,
   "metadata": {
    "execution": {
     "iopub.execute_input": "2020-11-10T16:34:46.611082Z",
     "iopub.status.busy": "2020-11-10T16:34:46.609965Z",
     "iopub.status.idle": "2020-11-10T16:34:46.769203Z",
     "shell.execute_reply": "2020-11-10T16:34:46.769647Z"
    }
   },
   "outputs": [
    {
     "data": {
      "image/png": "[encoded data removed]",
      "text/plain": [
       "<Figure size 432x288 with 1 Axes>"
      ]
     },
     "metadata": {
      "needs_background": "light"
     },
     "output_type": "display_data"
    }
   ],
   "source": [
    "fig, ax = plt.subplots(1,1)\n",
    "ax.plot(sizes, t_numeric, 'o-', label='Inserting row-by-row')\n",
    "ax.plot(sizes, t_numeric_add, 'o-', label='Inserting row-by-row: add_result only')\n",
    "ax.plot(sizes, t_array, 'd-', label='Inserting as binary blob')\n",
    "ax.plot(sizes, t_array_add, 'd-', label='Inserting as binary blob: add_result only')\n",
    "ax.legend()\n",
    "ax.set_xlabel('Array length')\n",
    "ax.set_ylabel('Time (s)')\n",
    "fig.tight_layout()"
   ]
  },
  {
   "cell_type": "markdown",
   "metadata": {},
   "source": [
    "As shown in the latter figure, the time to setup and and close the experiment is approximately 0.4 sec. In case of small array sizes, the difference between inserting values of data as arrays and inserting them row-by-row is relatively unimportant. At larger array sizes, i.e. above 10000 points, the cost of writing data as individual datapoints starts to become important.\n"
   ]
  },
  {
   "cell_type": "markdown",
   "metadata": {},
   "source": [
    "### Case2: Long experiment time "
   ]
  },
  {
   "cell_type": "code",
   "execution_count": 7,
   "metadata": {
    "execution": {
     "iopub.execute_input": "2020-11-10T16:34:46.777589Z",
     "iopub.status.busy": "2020-11-10T16:34:46.776910Z",
     "iopub.status.idle": "2020-11-10T16:35:46.903274Z",
     "shell.execute_reply": "2020-11-10T16:35:46.902199Z"
    }
   },
   "outputs": [
    {
     "name": "stdout",
     "output_type": "stream",
     "text": [
      "Starting experimental run with id: 15. \n",
      "Starting experimental run with id: 16. \n",
      "Starting experimental run with id: 17. \n"
     ]
    },
    {
     "name": "stdout",
     "output_type": "stream",
     "text": [
      "Starting experimental run with id: 18. \n",
      "Starting experimental run with id: 19. \n"
     ]
    },
    {
     "name": "stdout",
     "output_type": "stream",
     "text": [
      "Starting experimental run with id: 20. \n"
     ]
    },
    {
     "name": "stdout",
     "output_type": "stream",
     "text": [
      "Starting experimental run with id: 21. \n"
     ]
    },
    {
     "name": "stdout",
     "output_type": "stream",
     "text": [
      "Starting experimental run with id: 22. \n"
     ]
    },
    {
     "name": "stdout",
     "output_type": "stream",
     "text": [
      "Starting experimental run with id: 23. \n"
     ]
    },
    {
     "name": "stdout",
     "output_type": "stream",
     "text": [
      "Starting experimental run with id: 24. \n"
     ]
    },
    {
     "name": "stdout",
     "output_type": "stream",
     "text": [
      "Starting experimental run with id: 25. \n"
     ]
    },
    {
     "name": "stdout",
     "output_type": "stream",
     "text": [
      "Starting experimental run with id: 26. \n"
     ]
    },
    {
     "name": "stdout",
     "output_type": "stream",
     "text": [
      "Starting experimental run with id: 27. \n"
     ]
    },
    {
     "name": "stdout",
     "output_type": "stream",
     "text": [
      "Starting experimental run with id: 28. \n"
     ]
    }
   ],
   "source": [
    "sizes = [1,500,1000,2000,3000,4000,5000]\n",
    "nreps = 100\n",
    "t_numeric = []\n",
    "t_numeric_add = []\n",
    "t_numeric_run_ids = []\n",
    "t_array = []\n",
    "t_array_add = []\n",
    "t_array_run_ids = []\n",
    "for size in sizes:\n",
    "    tn, tna, run_id_n =  insert_data('numeric', size, nreps=nreps)\n",
    "    t_numeric.append(tn)\n",
    "    t_numeric_add.append(tna)\n",
    "    t_numeric_run_ids.append(run_id_n)\n",
    "\n",
    "    ta, taa, run_id_a =  insert_data('array', size, nreps=nreps)\n",
    "    t_array.append(ta)\n",
    "    t_array_add.append(taa)\n",
    "    t_array_run_ids.append(run_id_a)"
   ]
  },
  {
   "cell_type": "code",
   "execution_count": 8,
   "metadata": {
    "execution": {
     "iopub.execute_input": "2020-11-10T16:35:46.910657Z",
     "iopub.status.busy": "2020-11-10T16:35:46.909008Z",
     "iopub.status.idle": "2020-11-10T16:35:47.122865Z",
     "shell.execute_reply": "2020-11-10T16:35:47.122349Z"
    },
    "scrolled": true
   },
   "outputs": [
    {
     "data": {
      "image/png": "[encoded data removed]",
      "text/plain": [
       "<Figure size 432x288 with 1 Axes>"
      ]
     },
     "metadata": {
      "needs_background": "light"
     },
     "output_type": "display_data"
    }
   ],
   "source": [
    "fig, ax = plt.subplots(1,1)\n",
    "ax.plot(sizes, t_numeric, 'o-', label='Inserting row-by-row')\n",
    "ax.plot(sizes, t_numeric_add, 'o-', label='Inserting row-by-row: add_result only')\n",
    "ax.plot(sizes, t_array, 'd-', label='Inserting as binary blob')\n",
    "ax.plot(sizes, t_array_add, 'd-', label='Inserting as binary blob: add_result only')\n",
    "ax.legend()\n",
    "ax.set_xlabel('Array length')\n",
    "ax.set_ylabel('Time (s)')\n",
    "fig.tight_layout()"
   ]
  },
  {
   "cell_type": "markdown",
   "metadata": {},
   "source": [
    "However, as we increase the length of the experiment, as seen here by repeating the insertion 100 times, we see a big difference between inserting values of the data row-by-row and inserting it as a binary blob."
   ]
  },
  {
   "cell_type": "markdown",
   "metadata": {},
   "source": [
    "## Loading the data "
   ]
  },
  {
   "cell_type": "code",
   "execution_count": 9,
   "metadata": {
    "execution": {
     "iopub.execute_input": "2020-11-10T16:35:47.127417Z",
     "iopub.status.busy": "2020-11-10T16:35:47.126370Z",
     "iopub.status.idle": "2020-11-10T16:35:47.129581Z",
     "shell.execute_reply": "2020-11-10T16:35:47.129077Z"
    }
   },
   "outputs": [],
   "source": [
    "from qcodes.dataset.data_set import load_by_id\n",
    "from qcodes.dataset.data_export import get_data_by_id"
   ]
  },
  {
   "cell_type": "markdown",
   "metadata": {},
   "source": [
    "As usual you can load the data by using the ``load_by_id`` function but you will notice that the different storage methods\n",
    "are reflected in shape of the data as it is retrieved. "
   ]
  },
  {
   "cell_type": "code",
   "execution_count": 10,
   "metadata": {
    "execution": {
     "iopub.execute_input": "2020-11-10T16:35:47.133681Z",
     "iopub.status.busy": "2020-11-10T16:35:47.133083Z",
     "iopub.status.idle": "2020-11-10T16:35:47.135244Z",
     "shell.execute_reply": "2020-11-10T16:35:47.135675Z"
    }
   },
   "outputs": [],
   "source": [
    "run_id_n = t_numeric_run_ids[0]\n",
    "run_id_a = t_array_run_ids[0]"
   ]
  },
  {
   "cell_type": "code",
   "execution_count": 11,
   "metadata": {
    "execution": {
     "iopub.execute_input": "2020-11-10T16:35:47.139222Z",
     "iopub.status.busy": "2020-11-10T16:35:47.138619Z",
     "iopub.status.idle": "2020-11-10T16:35:47.148559Z",
     "shell.execute_reply": "2020-11-10T16:35:47.148056Z"
    },
    "scrolled": true
   },
   "outputs": [
    {
     "data": {
      "text/plain": [
       "{'x1': {'x1': array([0.55489664, 0.55489664, 0.40574031, 0.40574031, 0.34072577,\n",
       "         0.34072577, 0.05668262, 0.05668262, 0.9816519 , 0.9816519 ,\n",
       "         0.03017385, 0.03017385, 0.37209201, 0.37209201, 0.49150784,\n",
       "         0.49150784, 0.49448826, 0.49448826, 0.79588204, 0.79588204,\n",
       "         0.83277865, 0.83277865, 0.50901075, 0.50901075, 0.07911054,\n",
       "         0.07911054, 0.37395876, 0.37395876, 0.55706186, 0.55706186,\n",
       "         0.56216406, 0.56216406, 0.50743248, 0.50743248, 0.83859495,\n",
       "         0.83859495, 0.28099095, 0.28099095, 0.17728461, 0.17728461,\n",
       "         0.18365091, 0.18365091, 0.45690327, 0.45690327, 0.31548594,\n",
       "         0.31548594, 0.05246325, 0.05246325, 0.783407  , 0.783407  ,\n",
       "         0.78952353, 0.78952353, 0.5093741 , 0.5093741 , 0.66242814,\n",
       "         0.66242814, 0.1323276 , 0.1323276 , 0.45544969, 0.45544969,\n",
       "         0.68587634, 0.68587634, 0.54909071, 0.54909071, 0.12316573,\n",
       "         0.12316573, 0.45680318, 0.45680318, 0.22343526, 0.22343526,\n",
       "         0.26092569, 0.26092569, 0.21367255, 0.21367255, 0.04447643,\n",
       "         0.04447643, 0.09413378, 0.09413378, 0.72641541, 0.72641541,\n",
       "         0.65481007, 0.65481007, 0.27817887, 0.27817887, 0.30439026,\n",
       "         0.30439026, 0.27851652, 0.27851652, 0.23892709, 0.23892709,\n",
       "         0.2930245 , 0.2930245 , 0.14625022, 0.14625022, 0.84860399,\n",
       "         0.84860399, 0.61830595, 0.61830595, 0.86488492, 0.86488492,\n",
       "         0.06984759, 0.06984759, 0.57612518, 0.57612518, 0.84423824,\n",
       "         0.84423824, 0.1372362 , 0.1372362 , 0.81511469, 0.81511469,\n",
       "         0.90129193, 0.90129193, 0.00942644, 0.00942644, 0.32413465,\n",
       "         0.32413465, 0.45362376, 0.45362376, 0.6368844 , 0.6368844 ,\n",
       "         0.8997713 , 0.8997713 , 0.93081907, 0.93081907, 0.42599374,\n",
       "         0.42599374, 0.6988806 , 0.6988806 , 0.33835527, 0.33835527,\n",
       "         0.00361847, 0.00361847, 0.3557063 , 0.3557063 , 0.68031661,\n",
       "         0.68031661, 0.14937761, 0.14937761, 0.80781946, 0.80781946,\n",
       "         0.13472159, 0.13472159, 0.55992438, 0.55992438, 0.65239222,\n",
       "         0.65239222, 0.63326598, 0.63326598, 0.12425463, 0.12425463,\n",
       "         0.35330258, 0.35330258, 0.52472697, 0.52472697, 0.34486379,\n",
       "         0.34486379, 0.45553559, 0.45553559, 0.71973867, 0.71973867,\n",
       "         0.39296687, 0.39296687, 0.60550874, 0.60550874, 0.31638984,\n",
       "         0.31638984, 0.69695348, 0.69695348, 0.1238636 , 0.1238636 ,\n",
       "         0.86099597, 0.86099597, 0.6126482 , 0.6126482 , 0.62464844,\n",
       "         0.62464844, 0.08261967, 0.08261967, 0.39630094, 0.39630094,\n",
       "         0.10581761, 0.10581761, 0.63922377, 0.63922377, 0.0863101 ,\n",
       "         0.0863101 , 0.052219  , 0.052219  , 0.59939868, 0.59939868,\n",
       "         0.50598731, 0.50598731, 0.16766953, 0.16766953, 0.06287798,\n",
       "         0.06287798, 0.12093776, 0.12093776, 0.17783732, 0.17783732])}}"
      ]
     },
     "execution_count": 1,
     "metadata": {},
     "output_type": "execute_result"
    }
   ],
   "source": [
    "ds = load_by_id(run_id_n)\n",
    "ds.get_parameter_data('x1')"
   ]
  },
  {
   "cell_type": "markdown",
   "metadata": {},
   "source": [
    "And a dataset stored as binary arrays"
   ]
  },
  {
   "cell_type": "code",
   "execution_count": 12,
   "metadata": {
    "execution": {
     "iopub.execute_input": "2020-11-10T16:35:47.152071Z",
     "iopub.status.busy": "2020-11-10T16:35:47.151516Z",
     "iopub.status.idle": "2020-11-10T16:35:47.209343Z",
     "shell.execute_reply": "2020-11-10T16:35:47.209819Z"
    },
    "scrolled": true
   },
   "outputs": [
    {
     "data": {
      "text/plain": [
       "{'x1': {'x1': array([[0.0859546 ],\n",
       "         [0.0859546 ],\n",
       "         [0.79979181],\n",
       "         [0.79979181],\n",
       "         [0.32279531],\n",
       "         [0.32279531],\n",
       "         [0.73197717],\n",
       "         [0.73197717],\n",
       "         [0.24480613],\n",
       "         [0.24480613],\n",
       "         [0.367857  ],\n",
       "         [0.367857  ],\n",
       "         [0.94600326],\n",
       "         [0.94600326],\n",
       "         [0.78816416],\n",
       "         [0.78816416],\n",
       "         [0.81068068],\n",
       "         [0.81068068],\n",
       "         [0.40685836],\n",
       "         [0.40685836],\n",
       "         [0.64142941],\n",
       "         [0.64142941],\n",
       "         [0.46542328],\n",
       "         [0.46542328],\n",
       "         [0.69498415],\n",
       "         [0.69498415],\n",
       "         [0.35965917],\n",
       "         [0.35965917],\n",
       "         [0.46533416],\n",
       "         [0.46533416],\n",
       "         [0.290092  ],\n",
       "         [0.290092  ],\n",
       "         [0.80295916],\n",
       "         [0.80295916],\n",
       "         [0.40886329],\n",
       "         [0.40886329],\n",
       "         [0.01319829],\n",
       "         [0.01319829],\n",
       "         [0.54765066],\n",
       "         [0.54765066],\n",
       "         [0.64500242],\n",
       "         [0.64500242],\n",
       "         [0.22202882],\n",
       "         [0.22202882],\n",
       "         [0.24088539],\n",
       "         [0.24088539],\n",
       "         [0.10884756],\n",
       "         [0.10884756],\n",
       "         [0.36152891],\n",
       "         [0.36152891],\n",
       "         [0.26573865],\n",
       "         [0.26573865],\n",
       "         [0.64370676],\n",
       "         [0.64370676],\n",
       "         [0.7015043 ],\n",
       "         [0.7015043 ],\n",
       "         [0.89386114],\n",
       "         [0.89386114],\n",
       "         [0.47146868],\n",
       "         [0.47146868],\n",
       "         [0.78018339],\n",
       "         [0.78018339],\n",
       "         [0.14189764],\n",
       "         [0.14189764],\n",
       "         [0.26745452],\n",
       "         [0.26745452],\n",
       "         [0.41682107],\n",
       "         [0.41682107],\n",
       "         [0.8124193 ],\n",
       "         [0.8124193 ],\n",
       "         [0.96894893],\n",
       "         [0.96894893],\n",
       "         [0.64074285],\n",
       "         [0.64074285],\n",
       "         [0.28692332],\n",
       "         [0.28692332],\n",
       "         [0.1421579 ],\n",
       "         [0.1421579 ],\n",
       "         [0.62954732],\n",
       "         [0.62954732],\n",
       "         [0.0528341 ],\n",
       "         [0.0528341 ],\n",
       "         [0.38535053],\n",
       "         [0.38535053],\n",
       "         [0.64792964],\n",
       "         [0.64792964],\n",
       "         [0.26502536],\n",
       "         [0.26502536],\n",
       "         [0.63994243],\n",
       "         [0.63994243],\n",
       "         [0.8223749 ],\n",
       "         [0.8223749 ],\n",
       "         [0.63910288],\n",
       "         [0.63910288],\n",
       "         [0.83446996],\n",
       "         [0.83446996],\n",
       "         [0.41041311],\n",
       "         [0.41041311],\n",
       "         [0.0871023 ],\n",
       "         [0.0871023 ],\n",
       "         [0.59464929],\n",
       "         [0.59464929],\n",
       "         [0.03197017],\n",
       "         [0.03197017],\n",
       "         [0.3239025 ],\n",
       "         [0.3239025 ],\n",
       "         [0.0786487 ],\n",
       "         [0.0786487 ],\n",
       "         [0.67084469],\n",
       "         [0.67084469],\n",
       "         [0.69564506],\n",
       "         [0.69564506],\n",
       "         [0.70619364],\n",
       "         [0.70619364],\n",
       "         [0.39410567],\n",
       "         [0.39410567],\n",
       "         [0.51121551],\n",
       "         [0.51121551],\n",
       "         [0.01497582],\n",
       "         [0.01497582],\n",
       "         [0.91146404],\n",
       "         [0.91146404],\n",
       "         [0.86481382],\n",
       "         [0.86481382],\n",
       "         [0.58092264],\n",
       "         [0.58092264],\n",
       "         [0.03795431],\n",
       "         [0.03795431],\n",
       "         [0.81402935],\n",
       "         [0.81402935],\n",
       "         [0.05010585],\n",
       "         [0.05010585],\n",
       "         [0.75354135],\n",
       "         [0.75354135],\n",
       "         [0.78311677],\n",
       "         [0.78311677],\n",
       "         [0.97184368],\n",
       "         [0.97184368],\n",
       "         [0.15806241],\n",
       "         [0.15806241],\n",
       "         [0.42074993],\n",
       "         [0.42074993],\n",
       "         [0.90057404],\n",
       "         [0.90057404],\n",
       "         [0.2484661 ],\n",
       "         [0.2484661 ],\n",
       "         [0.2251316 ],\n",
       "         [0.2251316 ],\n",
       "         [0.49408468],\n",
       "         [0.49408468],\n",
       "         [0.16325976],\n",
       "         [0.16325976],\n",
       "         [0.75885816],\n",
       "         [0.75885816],\n",
       "         [0.54790255],\n",
       "         [0.54790255],\n",
       "         [0.8971611 ],\n",
       "         [0.8971611 ],\n",
       "         [0.74662806],\n",
       "         [0.74662806],\n",
       "         [0.60637731],\n",
       "         [0.60637731],\n",
       "         [0.03995006],\n",
       "         [0.03995006],\n",
       "         [0.9043235 ],\n",
       "         [0.9043235 ],\n",
       "         [0.20131216],\n",
       "         [0.20131216],\n",
       "         [0.94536361],\n",
       "         [0.94536361],\n",
       "         [0.72341084],\n",
       "         [0.72341084],\n",
       "         [0.73618813],\n",
       "         [0.73618813],\n",
       "         [0.48183827],\n",
       "         [0.48183827],\n",
       "         [0.39253582],\n",
       "         [0.39253582],\n",
       "         [0.57911986],\n",
       "         [0.57911986],\n",
       "         [0.03786195],\n",
       "         [0.03786195],\n",
       "         [0.85743757],\n",
       "         [0.85743757],\n",
       "         [0.91309999],\n",
       "         [0.91309999],\n",
       "         [0.51908452],\n",
       "         [0.51908452],\n",
       "         [0.24280221],\n",
       "         [0.24280221],\n",
       "         [0.31951705],\n",
       "         [0.31951705],\n",
       "         [0.33115598],\n",
       "         [0.33115598],\n",
       "         [0.80578433],\n",
       "         [0.80578433],\n",
       "         [0.28672133],\n",
       "         [0.28672133],\n",
       "         [0.04730044],\n",
       "         [0.04730044]])}}"
      ]
     },
     "execution_count": 1,
     "metadata": {},
     "output_type": "execute_result"
    }
   ],
   "source": [
    "ds = load_by_id(run_id_a)\n",
    "ds.get_parameter_data('x1')"
   ]
  },
  {
   "cell_type": "code",
   "execution_count": null,
   "metadata": {},
   "outputs": [],
   "source": []
  }
 ],
 "metadata": {
  "kernelspec": {
   "display_name": "Python 3",
   "language": "python",
   "name": "python3"
  },
  "language_info": {
   "codemirror_mode": {
    "name": "ipython",
    "version": 3
   },
   "file_extension": ".py",
   "mimetype": "text/x-python",
   "name": "python",
   "nbconvert_exporter": "python",
   "pygments_lexer": "ipython3",
   "version": "3.7.9"
  },
  "nbsphinx": {
   "timeout": 600
  },
  "toc": {
   "base_numbering": 1,
   "nav_menu": {},
   "number_sections": true,
   "sideBar": true,
   "skip_h1_title": false,
   "title_cell": "Table of Contents",
   "title_sidebar": "Contents",
   "toc_cell": false,
   "toc_position": {},
   "toc_section_display": true,
   "toc_window_display": false
  },
  "varInspector": {
   "cols": {
    "lenName": 16,
    "lenType": 16,
    "lenVar": 40
   },
   "kernels_config": {
    "python": {
     "delete_cmd_postfix": "",
     "delete_cmd_prefix": "del ",
     "library": "var_list.py",
     "varRefreshCmd": "print(var_dic_list())"
    },
    "r": {
     "delete_cmd_postfix": ") ",
     "delete_cmd_prefix": "rm(",
     "library": "var_list.r",
     "varRefreshCmd": "cat(var_dic_list()) "
    }
   },
   "types_to_exclude": [
    "module",
    "function",
    "builtin_function_or_method",
    "instance",
    "_Feature"
   ],
   "window_display": false
  }
 },
 "nbformat": 4,
 "nbformat_minor": 2
}
