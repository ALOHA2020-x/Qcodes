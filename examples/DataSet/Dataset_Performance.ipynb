{
 "cells": [
  {
   "cell_type": "markdown",
   "metadata": {},
   "source": [
    "# DataSet Performance\n",
    "\n",
    "This notebook shows the trade-off between inserting data into a database row-by-row and as binary blobs. Inserting the data row-by-row means that we have direct access to all the data and may perform queries directly on the values of the data. On the other hand, as we shall see, this is much slower than inserting the data directly as binary blobs."
   ]
  },
  {
   "cell_type": "markdown",
   "metadata": {},
   "source": [
    "First, we choose a new location for the database to ensure that we don't add a bunch of benchmarking data to the default one."
   ]
  },
  {
   "cell_type": "code",
   "execution_count": 1,
   "metadata": {},
   "outputs": [
    {
     "name": "stdout",
     "output_type": "stream",
     "text": [
      "Logging hadn't been started.\n",
      "Activating auto-logging. Current session state plus future input saved.\n",
      "Filename       : /home/vsts/.qcodes/logs/command_history.log\n",
      "Mode           : append\n",
      "Output logging : True\n",
      "Raw input log  : False\n",
      "Timestamping   : True\n",
      "State          : active\n"
     ]
    },
    {
     "name": "stdout",
     "output_type": "stream",
     "text": [
      "Qcodes Logfile : /home/vsts/.qcodes/logs/200818-18479-qcodes.log\n"
     ]
    }
   ],
   "source": [
    "import os\n",
    "cwd = os.getcwd()\n",
    "import qcodes as qc\n",
    "qc.config[\"core\"][\"db_location\"] = os.path.join(cwd, 'testing.db')\n"
   ]
  },
  {
   "cell_type": "code",
   "execution_count": 2,
   "metadata": {},
   "outputs": [],
   "source": [
    "%matplotlib inline\n",
    "import time\n",
    "import matplotlib.pyplot as plt\n",
    "import numpy as np\n",
    "\n",
    "import qcodes as qc\n",
    "from qcodes.instrument.parameter import ManualParameter\n",
    "from qcodes.dataset.experiment_container import (Experiment,\n",
    "                                                 load_last_experiment,\n",
    "                                                 new_experiment)\n",
    "from qcodes.dataset.sqlite.database import initialise_database\n",
    "from qcodes import load_or_create_experiment\n",
    "from qcodes.dataset.measurements import Measurement"
   ]
  },
  {
   "cell_type": "code",
   "execution_count": 3,
   "metadata": {},
   "outputs": [
    {
     "name": "stdout",
     "output_type": "stream",
     "text": [
      "\r",
      "0it [00:00, ?it/s]"
     ]
    },
    {
     "name": "stdout",
     "output_type": "stream",
     "text": [
      "\r",
      "Upgrading database; v0 -> v1: : 0it [00:00, ?it/s]"
     ]
    },
    {
     "name": "stdout",
     "output_type": "stream",
     "text": [
      "\r",
      "Upgrading database; v0 -> v1: : 0it [00:00, ?it/s]"
     ]
    },
    {
     "name": "stdout",
     "output_type": "stream",
     "text": [
      "\n",
      "\r",
      "  0%|          | 0/1 [00:00<?, ?it/s]"
     ]
    },
    {
     "name": "stdout",
     "output_type": "stream",
     "text": [
      "\r",
      "Upgrading database; v1 -> v2:   0%|          | 0/1 [00:00<?, ?it/s]"
     ]
    },
    {
     "name": "stdout",
     "output_type": "stream",
     "text": [
      "\r",
      "Upgrading database; v1 -> v2: 100%|██████████| 1/1 [00:00<00:00, 836.35it/s]"
     ]
    },
    {
     "name": "stdout",
     "output_type": "stream",
     "text": [
      "\n",
      "\r",
      "0it [00:00, ?it/s]"
     ]
    },
    {
     "name": "stdout",
     "output_type": "stream",
     "text": [
      "\r",
      "Upgrading database; v2 -> v3: : 0it [00:00, ?it/s]"
     ]
    },
    {
     "name": "stdout",
     "output_type": "stream",
     "text": [
      "\r",
      "Upgrading database; v2 -> v3: : 0it [00:00, ?it/s]"
     ]
    },
    {
     "name": "stdout",
     "output_type": "stream",
     "text": [
      "\n",
      "\r",
      "0it [00:00, ?it/s]"
     ]
    },
    {
     "name": "stdout",
     "output_type": "stream",
     "text": [
      "\r",
      "Upgrading database; v3 -> v4: : 0it [00:00, ?it/s]"
     ]
    },
    {
     "name": "stdout",
     "output_type": "stream",
     "text": [
      "\r",
      "Upgrading database; v3 -> v4: : 0it [00:00, ?it/s]"
     ]
    },
    {
     "name": "stdout",
     "output_type": "stream",
     "text": [
      "\n",
      "\r",
      "  0%|          | 0/1 [00:00<?, ?it/s]"
     ]
    },
    {
     "name": "stdout",
     "output_type": "stream",
     "text": [
      "\r",
      "Upgrading database; v4 -> v5:   0%|          | 0/1 [00:00<?, ?it/s]"
     ]
    },
    {
     "name": "stdout",
     "output_type": "stream",
     "text": [
      "\r",
      "Upgrading database; v4 -> v5: 100%|██████████| 1/1 [00:00<00:00, 855.28it/s]"
     ]
    },
    {
     "name": "stdout",
     "output_type": "stream",
     "text": [
      "\n",
      "\r",
      "0it [00:00, ?it/s]"
     ]
    },
    {
     "name": "stdout",
     "output_type": "stream",
     "text": [
      "\r",
      "Upgrading database; v5 -> v6: : 0it [00:00, ?it/s]"
     ]
    },
    {
     "name": "stdout",
     "output_type": "stream",
     "text": [
      "\r",
      "Upgrading database; v5 -> v6: : 0it [00:00, ?it/s]"
     ]
    },
    {
     "name": "stdout",
     "output_type": "stream",
     "text": [
      "\n",
      "\r",
      "  0%|          | 0/1 [00:00<?, ?it/s]"
     ]
    },
    {
     "name": "stdout",
     "output_type": "stream",
     "text": [
      "\r",
      "Upgrading database; v6 -> v7:   0%|          | 0/1 [00:00<?, ?it/s]"
     ]
    },
    {
     "name": "stdout",
     "output_type": "stream",
     "text": [
      "\r",
      "Upgrading database; v6 -> v7: 100%|██████████| 1/1 [00:00<00:00, 481.88it/s]"
     ]
    },
    {
     "name": "stdout",
     "output_type": "stream",
     "text": [
      "\n",
      "\r",
      "  0%|          | 0/1 [00:00<?, ?it/s]"
     ]
    },
    {
     "name": "stdout",
     "output_type": "stream",
     "text": [
      "\r",
      "Upgrading database; v7 -> v8:   0%|          | 0/1 [00:00<?, ?it/s]"
     ]
    },
    {
     "name": "stdout",
     "output_type": "stream",
     "text": [
      "\r",
      "Upgrading database; v7 -> v8: 100%|██████████| 1/1 [00:00<00:00, 761.08it/s]"
     ]
    },
    {
     "name": "stdout",
     "output_type": "stream",
     "text": [
      "\n",
      "\r",
      "  0%|          | 0/1 [00:00<?, ?it/s]"
     ]
    },
    {
     "name": "stdout",
     "output_type": "stream",
     "text": [
      "\r",
      "Upgrading database; v8 -> v9:   0%|          | 0/1 [00:00<?, ?it/s]"
     ]
    },
    {
     "name": "stdout",
     "output_type": "stream",
     "text": [
      "\r",
      "Upgrading database; v8 -> v9: 100%|██████████| 1/1 [00:00<00:00, 988.29it/s]"
     ]
    },
    {
     "name": "stdout",
     "output_type": "stream",
     "text": [
      "\n"
     ]
    }
   ],
   "source": [
    "initialise_database()\n",
    "exp = load_or_create_experiment(experiment_name='tutorial_exp', sample_name=\"no sample\")"
   ]
  },
  {
   "cell_type": "markdown",
   "metadata": {},
   "source": [
    "Here, we define a simple function to benchmark the time it takes to insert n points with either numeric or array data type.\n",
    "We will compare both the time used to call ``add_result`` and the time used for the full measurement."
   ]
  },
  {
   "cell_type": "code",
   "execution_count": 4,
   "metadata": {},
   "outputs": [],
   "source": [
    "def insert_data(paramtype, npoints, nreps=1):\n",
    "\n",
    "    meas = Measurement(exp=exp)\n",
    "\n",
    "    x1 = ManualParameter('x1')\n",
    "    x2 = ManualParameter('x2')\n",
    "    x3 = ManualParameter('x3')\n",
    "    y1 = ManualParameter('y1')\n",
    "    y2 = ManualParameter('y2')\n",
    "\n",
    "    meas.register_parameter(x1, paramtype=paramtype)\n",
    "    meas.register_parameter(x2, paramtype=paramtype)\n",
    "    meas.register_parameter(x3, paramtype=paramtype)\n",
    "    meas.register_parameter(y1, setpoints=[x1, x2, x3],\n",
    "                            paramtype=paramtype)\n",
    "    meas.register_parameter(y2, setpoints=[x1, x2, x3],\n",
    "                            paramtype=paramtype)\n",
    "    start = time.perf_counter()\n",
    "    with meas.run() as datasaver:\n",
    "        start_adding = time.perf_counter()\n",
    "        for i in range(nreps):\n",
    "            datasaver.add_result((x1, np.random.rand(npoints)),\n",
    "                                 (x2, np.random.rand(npoints)),\n",
    "                                 (x3, np.random.rand(npoints)),\n",
    "                                 (y1, np.random.rand(npoints)),\n",
    "                                 (y2, np.random.rand(npoints)))\n",
    "        stop_adding = time.perf_counter()\n",
    "        run_id = datasaver.run_id\n",
    "    stop = time.perf_counter()\n",
    "    tot_time = stop - start\n",
    "    add_time = stop_adding - start_adding\n",
    "    return tot_time, add_time, run_id"
   ]
  },
  {
   "cell_type": "markdown",
   "metadata": {},
   "source": [
    "## Comparison between numeric/array data and binary blob"
   ]
  },
  {
   "cell_type": "markdown",
   "metadata": {},
   "source": [
    "### Case1: Short experiment time"
   ]
  },
  {
   "cell_type": "code",
   "execution_count": 5,
   "metadata": {},
   "outputs": [
    {
     "name": "stdout",
     "output_type": "stream",
     "text": [
      "Starting experimental run with id: 1. \n",
      "Starting experimental run with id: 2. \n",
      "Starting experimental run with id: 3. \n",
      "Starting experimental run with id: 4. \n"
     ]
    },
    {
     "name": "stdout",
     "output_type": "stream",
     "text": [
      "Starting experimental run with id: 5. \n"
     ]
    },
    {
     "name": "stdout",
     "output_type": "stream",
     "text": [
      "Starting experimental run with id: 6. \n",
      "Starting experimental run with id: 7. \n"
     ]
    },
    {
     "name": "stdout",
     "output_type": "stream",
     "text": [
      "Starting experimental run with id: 8. \n",
      "Starting experimental run with id: 9. \n"
     ]
    },
    {
     "name": "stdout",
     "output_type": "stream",
     "text": [
      "Starting experimental run with id: 10. \n",
      "Starting experimental run with id: 11. \n"
     ]
    },
    {
     "name": "stdout",
     "output_type": "stream",
     "text": [
      "Starting experimental run with id: 12. \n",
      "Starting experimental run with id: 13. \n"
     ]
    },
    {
     "name": "stdout",
     "output_type": "stream",
     "text": [
      "Starting experimental run with id: 14. \n"
     ]
    }
   ],
   "source": [
    "sizes = [1,500,1000,2000,3000,4000,5000]\n",
    "t_numeric = []\n",
    "t_numeric_add = []\n",
    "t_array = []\n",
    "t_array_add = []\n",
    "for size in sizes:\n",
    "    tn, tna, run_id_n =  insert_data('numeric', size)\n",
    "    t_numeric.append(tn)\n",
    "    t_numeric_add.append(tna)\n",
    "\n",
    "    ta, taa, run_id_a =  insert_data('array', size)\n",
    "    t_array.append(ta)\n",
    "    t_array_add.append(taa)"
   ]
  },
  {
   "cell_type": "code",
   "execution_count": 6,
   "metadata": {},
   "outputs": [
    {
     "data": {
      "image/png": "[encoded data removed]",
      "text/plain": [
       "<Figure size 432x288 with 1 Axes>"
      ]
     },
     "metadata": {
      "needs_background": "light"
     },
     "output_type": "display_data"
    }
   ],
   "source": [
    "fig, ax = plt.subplots(1,1)\n",
    "ax.plot(sizes, t_numeric, 'o-', label='Inserting row-by-row')\n",
    "ax.plot(sizes, t_numeric_add, 'o-', label='Inserting row-by-row: add_result only')\n",
    "ax.plot(sizes, t_array, 'd-', label='Inserting as binary blob')\n",
    "ax.plot(sizes, t_array_add, 'd-', label='Inserting as binary blob: add_result only')\n",
    "ax.legend()\n",
    "ax.set_xlabel('Array length')\n",
    "ax.set_ylabel('Time (s)')\n",
    "fig.tight_layout()"
   ]
  },
  {
   "cell_type": "markdown",
   "metadata": {},
   "source": [
    "As shown in the latter figure, the time to setup and and close the experiment is approximately 0.4 sec. In case of small array sizes, the difference between inserting values of data as arrays and inserting them row-by-row is relatively unimportant. At larger array sizes, i.e. above 10000 points, the cost of writing data as individual datapoints starts to become important.\n"
   ]
  },
  {
   "cell_type": "markdown",
   "metadata": {},
   "source": [
    "### Case2: Long experiment time "
   ]
  },
  {
   "cell_type": "code",
   "execution_count": 7,
   "metadata": {},
   "outputs": [
    {
     "name": "stdout",
     "output_type": "stream",
     "text": [
      "Starting experimental run with id: 15. \n",
      "Starting experimental run with id: 16. \n",
      "Starting experimental run with id: 17. \n"
     ]
    },
    {
     "name": "stdout",
     "output_type": "stream",
     "text": [
      "Starting experimental run with id: 18. \n",
      "Starting experimental run with id: 19. \n"
     ]
    },
    {
     "name": "stdout",
     "output_type": "stream",
     "text": [
      "Starting experimental run with id: 20. \n"
     ]
    },
    {
     "name": "stdout",
     "output_type": "stream",
     "text": [
      "Starting experimental run with id: 21. \n"
     ]
    },
    {
     "name": "stdout",
     "output_type": "stream",
     "text": [
      "Starting experimental run with id: 22. \n"
     ]
    },
    {
     "name": "stdout",
     "output_type": "stream",
     "text": [
      "Starting experimental run with id: 23. \n"
     ]
    },
    {
     "name": "stdout",
     "output_type": "stream",
     "text": [
      "Starting experimental run with id: 24. \n"
     ]
    },
    {
     "name": "stdout",
     "output_type": "stream",
     "text": [
      "Starting experimental run with id: 25. \n"
     ]
    },
    {
     "name": "stdout",
     "output_type": "stream",
     "text": [
      "Starting experimental run with id: 26. \n"
     ]
    },
    {
     "name": "stdout",
     "output_type": "stream",
     "text": [
      "Starting experimental run with id: 27. \n"
     ]
    },
    {
     "name": "stdout",
     "output_type": "stream",
     "text": [
      "Starting experimental run with id: 28. \n"
     ]
    }
   ],
   "source": [
    "sizes = [1,500,1000,2000,3000,4000,5000]\n",
    "nreps = 100\n",
    "t_numeric = []\n",
    "t_numeric_add = []\n",
    "t_numeric_run_ids = []\n",
    "t_array = []\n",
    "t_array_add = []\n",
    "t_array_run_ids = []\n",
    "for size in sizes:\n",
    "    tn, tna, run_id_n =  insert_data('numeric', size, nreps=nreps)\n",
    "    t_numeric.append(tn)\n",
    "    t_numeric_add.append(tna)\n",
    "    t_numeric_run_ids.append(run_id_n)\n",
    "\n",
    "    ta, taa, run_id_a =  insert_data('array', size, nreps=nreps)\n",
    "    t_array.append(ta)\n",
    "    t_array_add.append(taa)\n",
    "    t_array_run_ids.append(run_id_a)"
   ]
  },
  {
   "cell_type": "code",
   "execution_count": 8,
   "metadata": {
    "scrolled": true
   },
   "outputs": [
    {
     "data": {
      "image/png": "[encoded data removed]",
      "text/plain": [
       "<Figure size 432x288 with 1 Axes>"
      ]
     },
     "metadata": {
      "needs_background": "light"
     },
     "output_type": "display_data"
    }
   ],
   "source": [
    "fig, ax = plt.subplots(1,1)\n",
    "ax.plot(sizes, t_numeric, 'o-', label='Inserting row-by-row')\n",
    "ax.plot(sizes, t_numeric_add, 'o-', label='Inserting row-by-row: add_result only')\n",
    "ax.plot(sizes, t_array, 'd-', label='Inserting as binary blob')\n",
    "ax.plot(sizes, t_array_add, 'd-', label='Inserting as binary blob: add_result only')\n",
    "ax.legend()\n",
    "ax.set_xlabel('Array length')\n",
    "ax.set_ylabel('Time (s)')\n",
    "fig.tight_layout()"
   ]
  },
  {
   "cell_type": "markdown",
   "metadata": {},
   "source": [
    "However, as we increase the length of the experiment, as seen here by repeating the insertion 100 times, we see a big difference between inserting values of the data row-by-row and inserting it as a binary blob."
   ]
  },
  {
   "cell_type": "markdown",
   "metadata": {},
   "source": [
    "## Loading the data "
   ]
  },
  {
   "cell_type": "code",
   "execution_count": 9,
   "metadata": {},
   "outputs": [],
   "source": [
    "from qcodes.dataset.data_set import load_by_id\n",
    "from qcodes.dataset.data_export import get_data_by_id"
   ]
  },
  {
   "cell_type": "markdown",
   "metadata": {},
   "source": [
    "As usual you can load the data by using the ``load_by_id`` function but you will notice that the different storage methods\n",
    "are reflected in shape of the data as it is retrieved. "
   ]
  },
  {
   "cell_type": "code",
   "execution_count": 10,
   "metadata": {},
   "outputs": [],
   "source": [
    "run_id_n = t_numeric_run_ids[0]\n",
    "run_id_a = t_array_run_ids[0]"
   ]
  },
  {
   "cell_type": "code",
   "execution_count": 11,
   "metadata": {
    "scrolled": true
   },
   "outputs": [
    {
     "data": {
      "text/plain": [
       "{'x1': {'x1': array([0.99595016, 0.99595016, 0.79307745, 0.79307745, 0.11131227,\n",
       "         0.11131227, 0.39518089, 0.39518089, 0.84825212, 0.84825212,\n",
       "         0.39587107, 0.39587107, 0.80079152, 0.80079152, 0.01172467,\n",
       "         0.01172467, 0.59962038, 0.59962038, 0.42505103, 0.42505103,\n",
       "         0.82037413, 0.82037413, 0.46544121, 0.46544121, 0.18158005,\n",
       "         0.18158005, 0.50832736, 0.50832736, 0.35033318, 0.35033318,\n",
       "         0.95609342, 0.95609342, 0.77426263, 0.77426263, 0.1252753 ,\n",
       "         0.1252753 , 0.01371832, 0.01371832, 0.32615274, 0.32615274,\n",
       "         0.56594208, 0.56594208, 0.38251806, 0.38251806, 0.20777945,\n",
       "         0.20777945, 0.80505951, 0.80505951, 0.8783279 , 0.8783279 ,\n",
       "         0.00475739, 0.00475739, 0.83873151, 0.83873151, 0.3043747 ,\n",
       "         0.3043747 , 0.92066173, 0.92066173, 0.15493417, 0.15493417,\n",
       "         0.61190598, 0.61190598, 0.7759651 , 0.7759651 , 0.71636101,\n",
       "         0.71636101, 0.75200233, 0.75200233, 0.01684093, 0.01684093,\n",
       "         0.42193745, 0.42193745, 0.2413564 , 0.2413564 , 0.54173725,\n",
       "         0.54173725, 0.09736892, 0.09736892, 0.97028299, 0.97028299,\n",
       "         0.42739081, 0.42739081, 0.76378101, 0.76378101, 0.26162647,\n",
       "         0.26162647, 0.68474561, 0.68474561, 0.22875355, 0.22875355,\n",
       "         0.04793056, 0.04793056, 0.58821905, 0.58821905, 0.28887043,\n",
       "         0.28887043, 0.75071662, 0.75071662, 0.2243513 , 0.2243513 ,\n",
       "         0.82912368, 0.82912368, 0.51690259, 0.51690259, 0.08417282,\n",
       "         0.08417282, 0.30202084, 0.30202084, 0.69782806, 0.69782806,\n",
       "         0.30463843, 0.30463843, 0.79421424, 0.79421424, 0.76615009,\n",
       "         0.76615009, 0.47898191, 0.47898191, 0.47896115, 0.47896115,\n",
       "         0.67745326, 0.67745326, 0.80633535, 0.80633535, 0.74015472,\n",
       "         0.74015472, 0.2425161 , 0.2425161 , 0.71762437, 0.71762437,\n",
       "         0.07709587, 0.07709587, 0.40248859, 0.40248859, 0.72005665,\n",
       "         0.72005665, 0.39581111, 0.39581111, 0.54622562, 0.54622562,\n",
       "         0.37460554, 0.37460554, 0.18151369, 0.18151369, 0.91765286,\n",
       "         0.91765286, 0.66118405, 0.66118405, 0.86504873, 0.86504873,\n",
       "         0.85592996, 0.85592996, 0.80063716, 0.80063716, 0.71014708,\n",
       "         0.71014708, 0.52700029, 0.52700029, 0.3117352 , 0.3117352 ,\n",
       "         0.98549543, 0.98549543, 0.1147368 , 0.1147368 , 0.43751473,\n",
       "         0.43751473, 0.88455792, 0.88455792, 0.57294533, 0.57294533,\n",
       "         0.51081409, 0.51081409, 0.75321036, 0.75321036, 0.43642746,\n",
       "         0.43642746, 0.58053911, 0.58053911, 0.08381363, 0.08381363,\n",
       "         0.70970686, 0.70970686, 0.08667509, 0.08667509, 0.89104334,\n",
       "         0.89104334, 0.48712065, 0.48712065, 0.73906702, 0.73906702,\n",
       "         0.42602783, 0.42602783, 0.98364991, 0.98364991, 0.99301404,\n",
       "         0.99301404, 0.12097295, 0.12097295, 0.93678525, 0.93678525])}}"
      ]
     },
     "execution_count": 11,
     "metadata": {},
     "output_type": "execute_result"
    }
   ],
   "source": [
    "ds = load_by_id(run_id_n)\n",
    "ds.get_parameter_data('x1')"
   ]
  },
  {
   "cell_type": "markdown",
   "metadata": {},
   "source": [
    "And a dataset stored as binary arrays"
   ]
  },
  {
   "cell_type": "code",
   "execution_count": 12,
   "metadata": {
    "scrolled": true
   },
   "outputs": [
    {
     "data": {
      "text/plain": [
       "{'x1': {'x1': array([[0.09607361],\n",
       "         [0.09607361],\n",
       "         [0.87730273],\n",
       "         [0.87730273],\n",
       "         [0.7717029 ],\n",
       "         [0.7717029 ],\n",
       "         [0.10638674],\n",
       "         [0.10638674],\n",
       "         [0.95054657],\n",
       "         [0.95054657],\n",
       "         [0.22409194],\n",
       "         [0.22409194],\n",
       "         [0.60954524],\n",
       "         [0.60954524],\n",
       "         [0.02325038],\n",
       "         [0.02325038],\n",
       "         [0.42062583],\n",
       "         [0.42062583],\n",
       "         [0.03873014],\n",
       "         [0.03873014],\n",
       "         [0.48950582],\n",
       "         [0.48950582],\n",
       "         [0.31000161],\n",
       "         [0.31000161],\n",
       "         [0.76180492],\n",
       "         [0.76180492],\n",
       "         [0.28351934],\n",
       "         [0.28351934],\n",
       "         [0.53357708],\n",
       "         [0.53357708],\n",
       "         [0.41149156],\n",
       "         [0.41149156],\n",
       "         [0.00699573],\n",
       "         [0.00699573],\n",
       "         [0.53481301],\n",
       "         [0.53481301],\n",
       "         [0.25980419],\n",
       "         [0.25980419],\n",
       "         [0.74588542],\n",
       "         [0.74588542],\n",
       "         [0.26441563],\n",
       "         [0.26441563],\n",
       "         [0.20909044],\n",
       "         [0.20909044],\n",
       "         [0.12785382],\n",
       "         [0.12785382],\n",
       "         [0.29349941],\n",
       "         [0.29349941],\n",
       "         [0.03067552],\n",
       "         [0.03067552],\n",
       "         [0.23082085],\n",
       "         [0.23082085],\n",
       "         [0.31423357],\n",
       "         [0.31423357],\n",
       "         [0.05035895],\n",
       "         [0.05035895],\n",
       "         [0.57285669],\n",
       "         [0.57285669],\n",
       "         [0.70796223],\n",
       "         [0.70796223],\n",
       "         [0.61361384],\n",
       "         [0.61361384],\n",
       "         [0.09291133],\n",
       "         [0.09291133],\n",
       "         [0.68961879],\n",
       "         [0.68961879],\n",
       "         [0.38924104],\n",
       "         [0.38924104],\n",
       "         [0.16177012],\n",
       "         [0.16177012],\n",
       "         [0.44776671],\n",
       "         [0.44776671],\n",
       "         [0.58027983],\n",
       "         [0.58027983],\n",
       "         [0.31479002],\n",
       "         [0.31479002],\n",
       "         [0.18205373],\n",
       "         [0.18205373],\n",
       "         [0.28738555],\n",
       "         [0.28738555],\n",
       "         [0.76680873],\n",
       "         [0.76680873],\n",
       "         [0.8331239 ],\n",
       "         [0.8331239 ],\n",
       "         [0.26631906],\n",
       "         [0.26631906],\n",
       "         [0.38052987],\n",
       "         [0.38052987],\n",
       "         [0.94972961],\n",
       "         [0.94972961],\n",
       "         [0.39636102],\n",
       "         [0.39636102],\n",
       "         [0.37687705],\n",
       "         [0.37687705],\n",
       "         [0.16305789],\n",
       "         [0.16305789],\n",
       "         [0.28369408],\n",
       "         [0.28369408],\n",
       "         [0.22879811],\n",
       "         [0.22879811],\n",
       "         [0.69184899],\n",
       "         [0.69184899],\n",
       "         [0.34234044],\n",
       "         [0.34234044],\n",
       "         [0.72999161],\n",
       "         [0.72999161],\n",
       "         [0.08124077],\n",
       "         [0.08124077],\n",
       "         [0.83193539],\n",
       "         [0.83193539],\n",
       "         [0.33554033],\n",
       "         [0.33554033],\n",
       "         [0.94131826],\n",
       "         [0.94131826],\n",
       "         [0.13026669],\n",
       "         [0.13026669],\n",
       "         [0.32322457],\n",
       "         [0.32322457],\n",
       "         [0.20047865],\n",
       "         [0.20047865],\n",
       "         [0.15128139],\n",
       "         [0.15128139],\n",
       "         [0.11913093],\n",
       "         [0.11913093],\n",
       "         [0.40413386],\n",
       "         [0.40413386],\n",
       "         [0.60545793],\n",
       "         [0.60545793],\n",
       "         [0.54977331],\n",
       "         [0.54977331],\n",
       "         [0.30567345],\n",
       "         [0.30567345],\n",
       "         [0.26857726],\n",
       "         [0.26857726],\n",
       "         [0.07740466],\n",
       "         [0.07740466],\n",
       "         [0.08585754],\n",
       "         [0.08585754],\n",
       "         [0.68137066],\n",
       "         [0.68137066],\n",
       "         [0.70029405],\n",
       "         [0.70029405],\n",
       "         [0.99644691],\n",
       "         [0.99644691],\n",
       "         [0.53340712],\n",
       "         [0.53340712],\n",
       "         [0.97325316],\n",
       "         [0.97325316],\n",
       "         [0.51950518],\n",
       "         [0.51950518],\n",
       "         [0.94770345],\n",
       "         [0.94770345],\n",
       "         [0.98979499],\n",
       "         [0.98979499],\n",
       "         [0.0725607 ],\n",
       "         [0.0725607 ],\n",
       "         [0.14545556],\n",
       "         [0.14545556],\n",
       "         [0.54580731],\n",
       "         [0.54580731],\n",
       "         [0.01135243],\n",
       "         [0.01135243],\n",
       "         [0.95667711],\n",
       "         [0.95667711],\n",
       "         [0.54061531],\n",
       "         [0.54061531],\n",
       "         [0.7558021 ],\n",
       "         [0.7558021 ],\n",
       "         [0.35598669],\n",
       "         [0.35598669],\n",
       "         [0.12439959],\n",
       "         [0.12439959],\n",
       "         [0.45290126],\n",
       "         [0.45290126],\n",
       "         [0.71711489],\n",
       "         [0.71711489],\n",
       "         [0.72303541],\n",
       "         [0.72303541],\n",
       "         [0.9367166 ],\n",
       "         [0.9367166 ],\n",
       "         [0.40716383],\n",
       "         [0.40716383],\n",
       "         [0.49321096],\n",
       "         [0.49321096],\n",
       "         [0.09635142],\n",
       "         [0.09635142],\n",
       "         [0.07383256],\n",
       "         [0.07383256],\n",
       "         [0.52086132],\n",
       "         [0.52086132],\n",
       "         [0.64767497],\n",
       "         [0.64767497],\n",
       "         [0.69340845],\n",
       "         [0.69340845],\n",
       "         [0.75570198],\n",
       "         [0.75570198],\n",
       "         [0.82884451],\n",
       "         [0.82884451],\n",
       "         [0.61545579],\n",
       "         [0.61545579]])}}"
      ]
     },
     "execution_count": 12,
     "metadata": {},
     "output_type": "execute_result"
    }
   ],
   "source": [
    "ds = load_by_id(run_id_a)\n",
    "ds.get_parameter_data('x1')"
   ]
  },
  {
   "cell_type": "code",
   "execution_count": null,
   "metadata": {},
   "outputs": [],
   "source": []
  }
 ],
 "metadata": {
  "kernelspec": {
   "display_name": "Python 3",
   "language": "python",
   "name": "python3"
  },
  "language_info": {
   "codemirror_mode": {
    "name": "ipython",
    "version": 3
   },
   "file_extension": ".py",
   "mimetype": "text/x-python",
   "name": "python",
   "nbconvert_exporter": "python",
   "pygments_lexer": "ipython3",
   "version": "3.7.7"
  },
  "nbsphinx": {
   "timeout": 600
  },
  "toc": {
   "base_numbering": 1,
   "nav_menu": {},
   "number_sections": true,
   "sideBar": true,
   "skip_h1_title": false,
   "title_cell": "Table of Contents",
   "title_sidebar": "Contents",
   "toc_cell": false,
   "toc_position": {},
   "toc_section_display": true,
   "toc_window_display": false
  },
  "varInspector": {
   "cols": {
    "lenName": 16,
    "lenType": 16,
    "lenVar": 40
   },
   "kernels_config": {
    "python": {
     "delete_cmd_postfix": "",
     "delete_cmd_prefix": "del ",
     "library": "var_list.py",
     "varRefreshCmd": "print(var_dic_list())"
    },
    "r": {
     "delete_cmd_postfix": ") ",
     "delete_cmd_prefix": "rm(",
     "library": "var_list.r",
     "varRefreshCmd": "cat(var_dic_list()) "
    }
   },
   "types_to_exclude": [
    "module",
    "function",
    "builtin_function_or_method",
    "instance",
    "_Feature"
   ],
   "window_display": false
  }
 },
 "nbformat": 4,
 "nbformat_minor": 2
}
