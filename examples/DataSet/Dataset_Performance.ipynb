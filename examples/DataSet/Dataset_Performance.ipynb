{
 "cells": [
  {
   "cell_type": "markdown",
   "metadata": {},
   "source": [
    "# DataSet Performance\n",
    "\n",
    "This notebook shows the trade-off between inserting data into a database row-by-row and as binary blobs. Inserting the data row-by-row means that we have direct access to all the data and may perform queries directly on the values of the data. On the other hand, as we shall see, this is much slower than inserting the data directly as binary blobs."
   ]
  },
  {
   "cell_type": "markdown",
   "metadata": {},
   "source": [
    "First, we choose a new location for the database to ensure that we don't add a bunch of benchmarking data to the default one."
   ]
  },
  {
   "cell_type": "code",
   "execution_count": 1,
   "metadata": {
    "execution": {
     "iopub.execute_input": "2020-12-21T08:21:38.257137Z",
     "iopub.status.busy": "2020-12-21T08:21:38.256247Z",
     "iopub.status.idle": "2020-12-21T08:21:39.404169Z",
     "shell.execute_reply": "2020-12-21T08:21:39.403587Z"
    }
   },
   "outputs": [
    {
     "name": "stdout",
     "output_type": "stream",
     "text": [
      "Logging hadn't been started.\n",
      "Activating auto-logging. Current session state plus future input saved.\n",
      "Filename       : /home/vsts/.qcodes/logs/command_history.log\n",
      "Mode           : append\n",
      "Output logging : True\n",
      "Raw input log  : False\n",
      "Timestamping   : True\n",
      "State          : active\n"
     ]
    },
    {
     "name": "stdout",
     "output_type": "stream",
     "text": [
      "Qcodes Logfile : /home/vsts/.qcodes/logs/201221-13236-qcodes.log\n"
     ]
    }
   ],
   "source": [
    "import os\n",
    "cwd = os.getcwd()\n",
    "import qcodes as qc\n",
    "qc.config[\"core\"][\"db_location\"] = os.path.join(cwd, 'testing.db')\n"
   ]
  },
  {
   "cell_type": "code",
   "execution_count": 2,
   "metadata": {
    "execution": {
     "iopub.execute_input": "2020-12-21T08:21:39.414551Z",
     "iopub.status.busy": "2020-12-21T08:21:39.411320Z",
     "iopub.status.idle": "2020-12-21T08:21:39.598977Z",
     "shell.execute_reply": "2020-12-21T08:21:39.598450Z"
    }
   },
   "outputs": [],
   "source": [
    "%matplotlib inline\n",
    "import time\n",
    "import matplotlib.pyplot as plt\n",
    "import numpy as np\n",
    "\n",
    "import qcodes as qc\n",
    "from qcodes.instrument.parameter import ManualParameter\n",
    "from qcodes.dataset.experiment_container import (Experiment,\n",
    "                                                 load_last_experiment,\n",
    "                                                 new_experiment)\n",
    "from qcodes.dataset.sqlite.database import initialise_database\n",
    "from qcodes import load_or_create_experiment\n",
    "from qcodes.dataset.measurements import Measurement"
   ]
  },
  {
   "cell_type": "code",
   "execution_count": 3,
   "metadata": {
    "execution": {
     "iopub.execute_input": "2020-12-21T08:21:39.602867Z",
     "iopub.status.busy": "2020-12-21T08:21:39.602205Z",
     "iopub.status.idle": "2020-12-21T08:21:39.731320Z",
     "shell.execute_reply": "2020-12-21T08:21:39.730761Z"
    }
   },
   "outputs": [
    {
     "name": "stdout",
     "output_type": "stream",
     "text": [
      "\r",
      "0it [00:00, ?it/s]"
     ]
    },
    {
     "name": "stdout",
     "output_type": "stream",
     "text": [
      "\r",
      "Upgrading database; v0 -> v1: : 0it [00:00, ?it/s]"
     ]
    },
    {
     "name": "stdout",
     "output_type": "stream",
     "text": [
      "\r",
      "Upgrading database; v0 -> v1: : 0it [00:00, ?it/s]"
     ]
    },
    {
     "name": "stdout",
     "output_type": "stream",
     "text": [
      "\n",
      "\r",
      "  0%|          | 0/1 [00:00<?, ?it/s]"
     ]
    },
    {
     "name": "stdout",
     "output_type": "stream",
     "text": [
      "\r",
      "Upgrading database; v1 -> v2:   0%|          | 0/1 [00:00<?, ?it/s]"
     ]
    },
    {
     "name": "stdout",
     "output_type": "stream",
     "text": [
      "\r",
      "Upgrading database; v1 -> v2: 100%|██████████| 1/1 [00:00<00:00, 400.11it/s]"
     ]
    },
    {
     "name": "stdout",
     "output_type": "stream",
     "text": [
      "\n",
      "\r",
      "0it [00:00, ?it/s]"
     ]
    },
    {
     "name": "stdout",
     "output_type": "stream",
     "text": [
      "\r",
      "Upgrading database; v2 -> v3: : 0it [00:00, ?it/s]"
     ]
    },
    {
     "name": "stdout",
     "output_type": "stream",
     "text": [
      "\r",
      "Upgrading database; v2 -> v3: : 0it [00:00, ?it/s]"
     ]
    },
    {
     "name": "stdout",
     "output_type": "stream",
     "text": [
      "\n",
      "\r",
      "0it [00:00, ?it/s]"
     ]
    },
    {
     "name": "stdout",
     "output_type": "stream",
     "text": [
      "\r",
      "Upgrading database; v3 -> v4: : 0it [00:00, ?it/s]"
     ]
    },
    {
     "name": "stdout",
     "output_type": "stream",
     "text": [
      "\r",
      "Upgrading database; v3 -> v4: : 0it [00:00, ?it/s]"
     ]
    },
    {
     "name": "stdout",
     "output_type": "stream",
     "text": [
      "\n",
      "\r",
      "  0%|          | 0/1 [00:00<?, ?it/s]"
     ]
    },
    {
     "name": "stdout",
     "output_type": "stream",
     "text": [
      "\r",
      "Upgrading database; v4 -> v5:   0%|          | 0/1 [00:00<?, ?it/s]"
     ]
    },
    {
     "name": "stdout",
     "output_type": "stream",
     "text": [
      "\r",
      "Upgrading database; v4 -> v5: 100%|██████████| 1/1 [00:00<00:00, 496.90it/s]"
     ]
    },
    {
     "name": "stdout",
     "output_type": "stream",
     "text": [
      "\n",
      "\r",
      "0it [00:00, ?it/s]"
     ]
    },
    {
     "name": "stdout",
     "output_type": "stream",
     "text": [
      "\r",
      "Upgrading database; v5 -> v6: : 0it [00:00, ?it/s]"
     ]
    },
    {
     "name": "stdout",
     "output_type": "stream",
     "text": [
      "\r",
      "Upgrading database; v5 -> v6: : 0it [00:00, ?it/s]"
     ]
    },
    {
     "name": "stdout",
     "output_type": "stream",
     "text": [
      "\n",
      "\r",
      "  0%|          | 0/1 [00:00<?, ?it/s]"
     ]
    },
    {
     "name": "stdout",
     "output_type": "stream",
     "text": [
      "\r",
      "Upgrading database; v6 -> v7:   0%|          | 0/1 [00:00<?, ?it/s]"
     ]
    },
    {
     "name": "stdout",
     "output_type": "stream",
     "text": [
      "\r",
      "Upgrading database; v6 -> v7: 100%|██████████| 1/1 [00:00<00:00, 198.83it/s]"
     ]
    },
    {
     "name": "stdout",
     "output_type": "stream",
     "text": [
      "\n",
      "\r",
      "  0%|          | 0/1 [00:00<?, ?it/s]"
     ]
    },
    {
     "name": "stdout",
     "output_type": "stream",
     "text": [
      "\r",
      "Upgrading database; v7 -> v8:   0%|          | 0/1 [00:00<?, ?it/s]"
     ]
    },
    {
     "name": "stdout",
     "output_type": "stream",
     "text": [
      "\r",
      "Upgrading database; v7 -> v8: 100%|██████████| 1/1 [00:00<00:00, 1005.83it/s]"
     ]
    },
    {
     "name": "stdout",
     "output_type": "stream",
     "text": [
      "\n",
      "\r",
      "  0%|          | 0/1 [00:00<?, ?it/s]"
     ]
    },
    {
     "name": "stdout",
     "output_type": "stream",
     "text": [
      "\r",
      "Upgrading database; v8 -> v9:   0%|          | 0/1 [00:00<?, ?it/s]"
     ]
    },
    {
     "name": "stdout",
     "output_type": "stream",
     "text": [
      "\r",
      "Upgrading database; v8 -> v9: 100%|██████████| 1/1 [00:00<00:00, 482.21it/s]"
     ]
    },
    {
     "name": "stdout",
     "output_type": "stream",
     "text": [
      "\n"
     ]
    }
   ],
   "source": [
    "initialise_database()\n",
    "exp = load_or_create_experiment(experiment_name='tutorial_exp', sample_name=\"no sample\")"
   ]
  },
  {
   "cell_type": "markdown",
   "metadata": {},
   "source": [
    "Here, we define a simple function to benchmark the time it takes to insert n points with either numeric or array data type.\n",
    "We will compare both the time used to call ``add_result`` and the time used for the full measurement."
   ]
  },
  {
   "cell_type": "code",
   "execution_count": 4,
   "metadata": {
    "execution": {
     "iopub.execute_input": "2020-12-21T08:21:39.739102Z",
     "iopub.status.busy": "2020-12-21T08:21:39.738333Z",
     "iopub.status.idle": "2020-12-21T08:21:39.743779Z",
     "shell.execute_reply": "2020-12-21T08:21:39.742974Z"
    }
   },
   "outputs": [],
   "source": [
    "def insert_data(paramtype, npoints, nreps=1):\n",
    "\n",
    "    meas = Measurement(exp=exp)\n",
    "\n",
    "    x1 = ManualParameter('x1')\n",
    "    x2 = ManualParameter('x2')\n",
    "    x3 = ManualParameter('x3')\n",
    "    y1 = ManualParameter('y1')\n",
    "    y2 = ManualParameter('y2')\n",
    "\n",
    "    meas.register_parameter(x1, paramtype=paramtype)\n",
    "    meas.register_parameter(x2, paramtype=paramtype)\n",
    "    meas.register_parameter(x3, paramtype=paramtype)\n",
    "    meas.register_parameter(y1, setpoints=[x1, x2, x3],\n",
    "                            paramtype=paramtype)\n",
    "    meas.register_parameter(y2, setpoints=[x1, x2, x3],\n",
    "                            paramtype=paramtype)\n",
    "    start = time.perf_counter()\n",
    "    with meas.run() as datasaver:\n",
    "        start_adding = time.perf_counter()\n",
    "        for i in range(nreps):\n",
    "            datasaver.add_result((x1, np.random.rand(npoints)),\n",
    "                                 (x2, np.random.rand(npoints)),\n",
    "                                 (x3, np.random.rand(npoints)),\n",
    "                                 (y1, np.random.rand(npoints)),\n",
    "                                 (y2, np.random.rand(npoints)))\n",
    "        stop_adding = time.perf_counter()\n",
    "        run_id = datasaver.run_id\n",
    "    stop = time.perf_counter()\n",
    "    tot_time = stop - start\n",
    "    add_time = stop_adding - start_adding\n",
    "    return tot_time, add_time, run_id"
   ]
  },
  {
   "cell_type": "markdown",
   "metadata": {},
   "source": [
    "## Comparison between numeric/array data and binary blob"
   ]
  },
  {
   "cell_type": "markdown",
   "metadata": {},
   "source": [
    "### Case1: Short experiment time"
   ]
  },
  {
   "cell_type": "code",
   "execution_count": 5,
   "metadata": {
    "execution": {
     "iopub.execute_input": "2020-12-21T08:21:39.750684Z",
     "iopub.status.busy": "2020-12-21T08:21:39.749799Z",
     "iopub.status.idle": "2020-12-21T08:21:40.668735Z",
     "shell.execute_reply": "2020-12-21T08:21:40.668117Z"
    }
   },
   "outputs": [
    {
     "name": "stdout",
     "output_type": "stream",
     "text": [
      "Starting experimental run with id: 1. \n",
      "Starting experimental run with id: 2. \n",
      "Starting experimental run with id: 3. \n",
      "Starting experimental run with id: 4. \n",
      "Starting experimental run with id: 5. \n"
     ]
    },
    {
     "name": "stdout",
     "output_type": "stream",
     "text": [
      "Starting experimental run with id: 6. \n"
     ]
    },
    {
     "name": "stdout",
     "output_type": "stream",
     "text": [
      "Starting experimental run with id: 7. \n"
     ]
    },
    {
     "name": "stdout",
     "output_type": "stream",
     "text": [
      "Starting experimental run with id: 8. \n",
      "Starting experimental run with id: 9. \n"
     ]
    },
    {
     "name": "stdout",
     "output_type": "stream",
     "text": [
      "Starting experimental run with id: 10. \n",
      "Starting experimental run with id: 11. \n"
     ]
    },
    {
     "name": "stdout",
     "output_type": "stream",
     "text": [
      "Starting experimental run with id: 12. \n"
     ]
    },
    {
     "name": "stdout",
     "output_type": "stream",
     "text": [
      "Starting experimental run with id: 13. \n"
     ]
    },
    {
     "name": "stdout",
     "output_type": "stream",
     "text": [
      "Starting experimental run with id: 14. \n"
     ]
    }
   ],
   "source": [
    "sizes = [1,500,1000,2000,3000,4000,5000]\n",
    "t_numeric = []\n",
    "t_numeric_add = []\n",
    "t_array = []\n",
    "t_array_add = []\n",
    "for size in sizes:\n",
    "    tn, tna, run_id_n =  insert_data('numeric', size)\n",
    "    t_numeric.append(tn)\n",
    "    t_numeric_add.append(tna)\n",
    "\n",
    "    ta, taa, run_id_a =  insert_data('array', size)\n",
    "    t_array.append(ta)\n",
    "    t_array_add.append(taa)"
   ]
  },
  {
   "cell_type": "code",
   "execution_count": 6,
   "metadata": {
    "execution": {
     "iopub.execute_input": "2020-12-21T08:21:40.703730Z",
     "iopub.status.busy": "2020-12-21T08:21:40.686164Z",
     "iopub.status.idle": "2020-12-21T08:21:40.885592Z",
     "shell.execute_reply": "2020-12-21T08:21:40.886015Z"
    }
   },
   "outputs": [
    {
     "data": {
      "image/png": "[encoded data removed]",
      "text/plain": [
       "<Figure size 432x288 with 1 Axes>"
      ]
     },
     "metadata": {
      "needs_background": "light"
     },
     "output_type": "display_data"
    }
   ],
   "source": [
    "fig, ax = plt.subplots(1,1)\n",
    "ax.plot(sizes, t_numeric, 'o-', label='Inserting row-by-row')\n",
    "ax.plot(sizes, t_numeric_add, 'o-', label='Inserting row-by-row: add_result only')\n",
    "ax.plot(sizes, t_array, 'd-', label='Inserting as binary blob')\n",
    "ax.plot(sizes, t_array_add, 'd-', label='Inserting as binary blob: add_result only')\n",
    "ax.legend()\n",
    "ax.set_xlabel('Array length')\n",
    "ax.set_ylabel('Time (s)')\n",
    "fig.tight_layout()"
   ]
  },
  {
   "cell_type": "markdown",
   "metadata": {},
   "source": [
    "As shown in the latter figure, the time to setup and and close the experiment is approximately 0.4 sec. In case of small array sizes, the difference between inserting values of data as arrays and inserting them row-by-row is relatively unimportant. At larger array sizes, i.e. above 10000 points, the cost of writing data as individual datapoints starts to become important.\n"
   ]
  },
  {
   "cell_type": "markdown",
   "metadata": {},
   "source": [
    "### Case2: Long experiment time "
   ]
  },
  {
   "cell_type": "code",
   "execution_count": 7,
   "metadata": {
    "execution": {
     "iopub.execute_input": "2020-12-21T08:21:40.893976Z",
     "iopub.status.busy": "2020-12-21T08:21:40.893369Z",
     "iopub.status.idle": "2020-12-21T08:22:41.665424Z",
     "shell.execute_reply": "2020-12-21T08:22:41.665874Z"
    }
   },
   "outputs": [
    {
     "name": "stdout",
     "output_type": "stream",
     "text": [
      "Starting experimental run with id: 15. \n",
      "Starting experimental run with id: 16. \n",
      "Starting experimental run with id: 17. \n"
     ]
    },
    {
     "name": "stdout",
     "output_type": "stream",
     "text": [
      "Starting experimental run with id: 18. \n",
      "Starting experimental run with id: 19. \n"
     ]
    },
    {
     "name": "stdout",
     "output_type": "stream",
     "text": [
      "Starting experimental run with id: 20. \n"
     ]
    },
    {
     "name": "stdout",
     "output_type": "stream",
     "text": [
      "Starting experimental run with id: 21. \n"
     ]
    },
    {
     "name": "stdout",
     "output_type": "stream",
     "text": [
      "Starting experimental run with id: 22. \n"
     ]
    },
    {
     "name": "stdout",
     "output_type": "stream",
     "text": [
      "Starting experimental run with id: 23. \n"
     ]
    },
    {
     "name": "stdout",
     "output_type": "stream",
     "text": [
      "Starting experimental run with id: 24. \n"
     ]
    },
    {
     "name": "stdout",
     "output_type": "stream",
     "text": [
      "Starting experimental run with id: 25. \n"
     ]
    },
    {
     "name": "stdout",
     "output_type": "stream",
     "text": [
      "Starting experimental run with id: 26. \n"
     ]
    },
    {
     "name": "stdout",
     "output_type": "stream",
     "text": [
      "Starting experimental run with id: 27. \n"
     ]
    },
    {
     "name": "stdout",
     "output_type": "stream",
     "text": [
      "Starting experimental run with id: 28. \n"
     ]
    }
   ],
   "source": [
    "sizes = [1,500,1000,2000,3000,4000,5000]\n",
    "nreps = 100\n",
    "t_numeric = []\n",
    "t_numeric_add = []\n",
    "t_numeric_run_ids = []\n",
    "t_array = []\n",
    "t_array_add = []\n",
    "t_array_run_ids = []\n",
    "for size in sizes:\n",
    "    tn, tna, run_id_n =  insert_data('numeric', size, nreps=nreps)\n",
    "    t_numeric.append(tn)\n",
    "    t_numeric_add.append(tna)\n",
    "    t_numeric_run_ids.append(run_id_n)\n",
    "\n",
    "    ta, taa, run_id_a =  insert_data('array', size, nreps=nreps)\n",
    "    t_array.append(ta)\n",
    "    t_array_add.append(taa)\n",
    "    t_array_run_ids.append(run_id_a)"
   ]
  },
  {
   "cell_type": "code",
   "execution_count": 8,
   "metadata": {
    "execution": {
     "iopub.execute_input": "2020-12-21T08:22:41.709120Z",
     "iopub.status.busy": "2020-12-21T08:22:41.698884Z",
     "iopub.status.idle": "2020-12-21T08:22:41.877864Z",
     "shell.execute_reply": "2020-12-21T08:22:41.877211Z"
    },
    "scrolled": true
   },
   "outputs": [
    {
     "data": {
      "image/png": "[encoded data removed]",
      "text/plain": [
       "<Figure size 432x288 with 1 Axes>"
      ]
     },
     "metadata": {
      "needs_background": "light"
     },
     "output_type": "display_data"
    }
   ],
   "source": [
    "fig, ax = plt.subplots(1,1)\n",
    "ax.plot(sizes, t_numeric, 'o-', label='Inserting row-by-row')\n",
    "ax.plot(sizes, t_numeric_add, 'o-', label='Inserting row-by-row: add_result only')\n",
    "ax.plot(sizes, t_array, 'd-', label='Inserting as binary blob')\n",
    "ax.plot(sizes, t_array_add, 'd-', label='Inserting as binary blob: add_result only')\n",
    "ax.legend()\n",
    "ax.set_xlabel('Array length')\n",
    "ax.set_ylabel('Time (s)')\n",
    "fig.tight_layout()"
   ]
  },
  {
   "cell_type": "markdown",
   "metadata": {},
   "source": [
    "However, as we increase the length of the experiment, as seen here by repeating the insertion 100 times, we see a big difference between inserting values of the data row-by-row and inserting it as a binary blob."
   ]
  },
  {
   "cell_type": "markdown",
   "metadata": {},
   "source": [
    "## Loading the data "
   ]
  },
  {
   "cell_type": "code",
   "execution_count": 9,
   "metadata": {
    "execution": {
     "iopub.execute_input": "2020-12-21T08:22:41.881849Z",
     "iopub.status.busy": "2020-12-21T08:22:41.880918Z",
     "iopub.status.idle": "2020-12-21T08:22:41.884277Z",
     "shell.execute_reply": "2020-12-21T08:22:41.883825Z"
    }
   },
   "outputs": [],
   "source": [
    "from qcodes.dataset.data_set import load_by_id\n",
    "from qcodes.dataset.data_export import get_data_by_id"
   ]
  },
  {
   "cell_type": "markdown",
   "metadata": {},
   "source": [
    "As usual you can load the data by using the ``load_by_id`` function but you will notice that the different storage methods\n",
    "are reflected in shape of the data as it is retrieved. "
   ]
  },
  {
   "cell_type": "code",
   "execution_count": 10,
   "metadata": {
    "execution": {
     "iopub.execute_input": "2020-12-21T08:22:41.888629Z",
     "iopub.status.busy": "2020-12-21T08:22:41.888091Z",
     "iopub.status.idle": "2020-12-21T08:22:41.889973Z",
     "shell.execute_reply": "2020-12-21T08:22:41.890497Z"
    }
   },
   "outputs": [],
   "source": [
    "run_id_n = t_numeric_run_ids[0]\n",
    "run_id_a = t_array_run_ids[0]"
   ]
  },
  {
   "cell_type": "code",
   "execution_count": 11,
   "metadata": {
    "execution": {
     "iopub.execute_input": "2020-12-21T08:22:41.893729Z",
     "iopub.status.busy": "2020-12-21T08:22:41.893214Z",
     "iopub.status.idle": "2020-12-21T08:22:41.902250Z",
     "shell.execute_reply": "2020-12-21T08:22:41.902784Z"
    },
    "scrolled": true
   },
   "outputs": [
    {
     "data": {
      "text/plain": [
       "{'x1': {'x1': array([0.34525312, 0.34525312, 0.60427619, 0.60427619, 0.77545495,\n",
       "         0.77545495, 0.82877105, 0.82877105, 0.10065835, 0.10065835,\n",
       "         0.62189943, 0.62189943, 0.65429982, 0.65429982, 0.40425041,\n",
       "         0.40425041, 0.69268026, 0.69268026, 0.15446853, 0.15446853,\n",
       "         0.44875168, 0.44875168, 0.93700554, 0.93700554, 0.87924592,\n",
       "         0.87924592, 0.59888399, 0.59888399, 0.94388367, 0.94388367,\n",
       "         0.69893422, 0.69893422, 0.92979492, 0.92979492, 0.70566594,\n",
       "         0.70566594, 0.54828509, 0.54828509, 0.74191002, 0.74191002,\n",
       "         0.88552638, 0.88552638, 0.27827612, 0.27827612, 0.82803796,\n",
       "         0.82803796, 0.94308906, 0.94308906, 0.4038776 , 0.4038776 ,\n",
       "         0.02997822, 0.02997822, 0.20956241, 0.20956241, 0.08756452,\n",
       "         0.08756452, 0.19162973, 0.19162973, 0.6500389 , 0.6500389 ,\n",
       "         0.43547058, 0.43547058, 0.70945785, 0.70945785, 0.30675444,\n",
       "         0.30675444, 0.22963195, 0.22963195, 0.49925635, 0.49925635,\n",
       "         0.85948507, 0.85948507, 0.52354843, 0.52354843, 0.85976599,\n",
       "         0.85976599, 0.88092914, 0.88092914, 0.40645164, 0.40645164,\n",
       "         0.12619354, 0.12619354, 0.12665599, 0.12665599, 0.05789545,\n",
       "         0.05789545, 0.57057811, 0.57057811, 0.89845909, 0.89845909,\n",
       "         0.37979638, 0.37979638, 0.49453438, 0.49453438, 0.42837505,\n",
       "         0.42837505, 0.78346064, 0.78346064, 0.02461974, 0.02461974,\n",
       "         0.32133295, 0.32133295, 0.10916928, 0.10916928, 0.39579089,\n",
       "         0.39579089, 0.73474581, 0.73474581, 0.79502984, 0.79502984,\n",
       "         0.46476275, 0.46476275, 0.20705903, 0.20705903, 0.36059392,\n",
       "         0.36059392, 0.30496403, 0.30496403, 0.71061403, 0.71061403,\n",
       "         0.84074996, 0.84074996, 0.10700372, 0.10700372, 0.35067215,\n",
       "         0.35067215, 0.18325049, 0.18325049, 0.91125002, 0.91125002,\n",
       "         0.80916062, 0.80916062, 0.35443435, 0.35443435, 0.63099736,\n",
       "         0.63099736, 0.59032091, 0.59032091, 0.62816687, 0.62816687,\n",
       "         0.02669287, 0.02669287, 0.28110646, 0.28110646, 0.43806139,\n",
       "         0.43806139, 0.36582495, 0.36582495, 0.38783858, 0.38783858,\n",
       "         0.24426804, 0.24426804, 0.10829413, 0.10829413, 0.60761393,\n",
       "         0.60761393, 0.66407751, 0.66407751, 0.16777329, 0.16777329,\n",
       "         0.62050027, 0.62050027, 0.01751774, 0.01751774, 0.49961829,\n",
       "         0.49961829, 0.0280884 , 0.0280884 , 0.21888686, 0.21888686,\n",
       "         0.34219204, 0.34219204, 0.01005321, 0.01005321, 0.52024488,\n",
       "         0.52024488, 0.12886985, 0.12886985, 0.11228895, 0.11228895,\n",
       "         0.75448036, 0.75448036, 0.82424502, 0.82424502, 0.78218517,\n",
       "         0.78218517, 0.403601  , 0.403601  , 0.53333956, 0.53333956,\n",
       "         0.34879792, 0.34879792, 0.75553496, 0.75553496, 0.58776534,\n",
       "         0.58776534, 0.38010617, 0.38010617, 0.42754981, 0.42754981])}}"
      ]
     },
     "execution_count": 1,
     "metadata": {},
     "output_type": "execute_result"
    }
   ],
   "source": [
    "ds = load_by_id(run_id_n)\n",
    "ds.get_parameter_data('x1')"
   ]
  },
  {
   "cell_type": "markdown",
   "metadata": {},
   "source": [
    "And a dataset stored as binary arrays"
   ]
  },
  {
   "cell_type": "code",
   "execution_count": 12,
   "metadata": {
    "execution": {
     "iopub.execute_input": "2020-12-21T08:22:41.906089Z",
     "iopub.status.busy": "2020-12-21T08:22:41.905557Z",
     "iopub.status.idle": "2020-12-21T08:22:41.959971Z",
     "shell.execute_reply": "2020-12-21T08:22:41.961020Z"
    },
    "scrolled": true
   },
   "outputs": [
    {
     "data": {
      "text/plain": [
       "{'x1': {'x1': array([[2.09851791e-01],\n",
       "         [2.09851791e-01],\n",
       "         [2.27880897e-01],\n",
       "         [2.27880897e-01],\n",
       "         [1.89996628e-01],\n",
       "         [1.89996628e-01],\n",
       "         [9.04952910e-01],\n",
       "         [9.04952910e-01],\n",
       "         [9.64975930e-01],\n",
       "         [9.64975930e-01],\n",
       "         [9.16558721e-01],\n",
       "         [9.16558721e-01],\n",
       "         [5.72675685e-02],\n",
       "         [5.72675685e-02],\n",
       "         [3.80224699e-02],\n",
       "         [3.80224699e-02],\n",
       "         [3.03895989e-01],\n",
       "         [3.03895989e-01],\n",
       "         [9.02839429e-01],\n",
       "         [9.02839429e-01],\n",
       "         [5.11030292e-01],\n",
       "         [5.11030292e-01],\n",
       "         [6.06324079e-01],\n",
       "         [6.06324079e-01],\n",
       "         [1.72746092e-01],\n",
       "         [1.72746092e-01],\n",
       "         [3.32898339e-01],\n",
       "         [3.32898339e-01],\n",
       "         [3.46355949e-01],\n",
       "         [3.46355949e-01],\n",
       "         [8.00678642e-01],\n",
       "         [8.00678642e-01],\n",
       "         [8.17297205e-01],\n",
       "         [8.17297205e-01],\n",
       "         [7.74424297e-01],\n",
       "         [7.74424297e-01],\n",
       "         [2.66523073e-01],\n",
       "         [2.66523073e-01],\n",
       "         [8.08305219e-01],\n",
       "         [8.08305219e-01],\n",
       "         [7.86031443e-01],\n",
       "         [7.86031443e-01],\n",
       "         [8.45004145e-01],\n",
       "         [8.45004145e-01],\n",
       "         [1.41905288e-01],\n",
       "         [1.41905288e-01],\n",
       "         [2.19467136e-01],\n",
       "         [2.19467136e-01],\n",
       "         [7.74220598e-01],\n",
       "         [7.74220598e-01],\n",
       "         [1.21369875e-01],\n",
       "         [1.21369875e-01],\n",
       "         [5.29575455e-01],\n",
       "         [5.29575455e-01],\n",
       "         [9.87087878e-01],\n",
       "         [9.87087878e-01],\n",
       "         [5.94289110e-01],\n",
       "         [5.94289110e-01],\n",
       "         [1.18873707e-01],\n",
       "         [1.18873707e-01],\n",
       "         [1.26513582e-04],\n",
       "         [1.26513582e-04],\n",
       "         [5.44617070e-01],\n",
       "         [5.44617070e-01],\n",
       "         [8.18447110e-01],\n",
       "         [8.18447110e-01],\n",
       "         [2.65502434e-01],\n",
       "         [2.65502434e-01],\n",
       "         [6.90861156e-01],\n",
       "         [6.90861156e-01],\n",
       "         [2.13417559e-01],\n",
       "         [2.13417559e-01],\n",
       "         [2.85379811e-01],\n",
       "         [2.85379811e-01],\n",
       "         [4.30305025e-01],\n",
       "         [4.30305025e-01],\n",
       "         [5.74003242e-01],\n",
       "         [5.74003242e-01],\n",
       "         [4.21341605e-01],\n",
       "         [4.21341605e-01],\n",
       "         [1.43880635e-01],\n",
       "         [1.43880635e-01],\n",
       "         [1.91225651e-01],\n",
       "         [1.91225651e-01],\n",
       "         [3.77412107e-02],\n",
       "         [3.77412107e-02],\n",
       "         [4.68567036e-01],\n",
       "         [4.68567036e-01],\n",
       "         [6.73781446e-01],\n",
       "         [6.73781446e-01],\n",
       "         [3.32090094e-01],\n",
       "         [3.32090094e-01],\n",
       "         [2.81193908e-01],\n",
       "         [2.81193908e-01],\n",
       "         [7.46831627e-01],\n",
       "         [7.46831627e-01],\n",
       "         [1.78603203e-01],\n",
       "         [1.78603203e-01],\n",
       "         [3.84675216e-01],\n",
       "         [3.84675216e-01],\n",
       "         [3.36851600e-01],\n",
       "         [3.36851600e-01],\n",
       "         [8.37662310e-01],\n",
       "         [8.37662310e-01],\n",
       "         [2.02366328e-01],\n",
       "         [2.02366328e-01],\n",
       "         [7.65801024e-01],\n",
       "         [7.65801024e-01],\n",
       "         [1.33839326e-01],\n",
       "         [1.33839326e-01],\n",
       "         [7.11818112e-01],\n",
       "         [7.11818112e-01],\n",
       "         [3.42995190e-01],\n",
       "         [3.42995190e-01],\n",
       "         [1.74819223e-01],\n",
       "         [1.74819223e-01],\n",
       "         [2.37800199e-01],\n",
       "         [2.37800199e-01],\n",
       "         [2.43822934e-01],\n",
       "         [2.43822934e-01],\n",
       "         [6.57715031e-01],\n",
       "         [6.57715031e-01],\n",
       "         [9.18521579e-01],\n",
       "         [9.18521579e-01],\n",
       "         [5.77756309e-01],\n",
       "         [5.77756309e-01],\n",
       "         [9.06514307e-01],\n",
       "         [9.06514307e-01],\n",
       "         [7.99420614e-01],\n",
       "         [7.99420614e-01],\n",
       "         [8.31943931e-01],\n",
       "         [8.31943931e-01],\n",
       "         [4.61851165e-01],\n",
       "         [4.61851165e-01],\n",
       "         [8.24209066e-02],\n",
       "         [8.24209066e-02],\n",
       "         [7.80858172e-01],\n",
       "         [7.80858172e-01],\n",
       "         [9.66954375e-01],\n",
       "         [9.66954375e-01],\n",
       "         [7.94037499e-01],\n",
       "         [7.94037499e-01],\n",
       "         [1.21122338e-02],\n",
       "         [1.21122338e-02],\n",
       "         [8.53771548e-02],\n",
       "         [8.53771548e-02],\n",
       "         [3.38852764e-01],\n",
       "         [3.38852764e-01],\n",
       "         [4.56035825e-01],\n",
       "         [4.56035825e-01],\n",
       "         [8.34294404e-04],\n",
       "         [8.34294404e-04],\n",
       "         [6.08904302e-01],\n",
       "         [6.08904302e-01],\n",
       "         [1.17186219e-01],\n",
       "         [1.17186219e-01],\n",
       "         [2.81876071e-01],\n",
       "         [2.81876071e-01],\n",
       "         [6.26124819e-01],\n",
       "         [6.26124819e-01],\n",
       "         [4.16212034e-01],\n",
       "         [4.16212034e-01],\n",
       "         [6.58470625e-01],\n",
       "         [6.58470625e-01],\n",
       "         [2.46565838e-01],\n",
       "         [2.46565838e-01],\n",
       "         [6.09428820e-01],\n",
       "         [6.09428820e-01],\n",
       "         [7.95280819e-01],\n",
       "         [7.95280819e-01],\n",
       "         [7.63360854e-01],\n",
       "         [7.63360854e-01],\n",
       "         [7.10263581e-01],\n",
       "         [7.10263581e-01],\n",
       "         [4.09998276e-01],\n",
       "         [4.09998276e-01],\n",
       "         [7.23731182e-01],\n",
       "         [7.23731182e-01],\n",
       "         [5.07089122e-01],\n",
       "         [5.07089122e-01],\n",
       "         [3.01017328e-01],\n",
       "         [3.01017328e-01],\n",
       "         [3.23474957e-01],\n",
       "         [3.23474957e-01],\n",
       "         [5.43973053e-01],\n",
       "         [5.43973053e-01],\n",
       "         [1.87324666e-01],\n",
       "         [1.87324666e-01],\n",
       "         [4.03912008e-01],\n",
       "         [4.03912008e-01],\n",
       "         [2.18891702e-01],\n",
       "         [2.18891702e-01],\n",
       "         [2.40428637e-01],\n",
       "         [2.40428637e-01],\n",
       "         [8.48061650e-01],\n",
       "         [8.48061650e-01],\n",
       "         [4.35556351e-01],\n",
       "         [4.35556351e-01],\n",
       "         [6.58315685e-01],\n",
       "         [6.58315685e-01]])}}"
      ]
     },
     "execution_count": 1,
     "metadata": {},
     "output_type": "execute_result"
    }
   ],
   "source": [
    "ds = load_by_id(run_id_a)\n",
    "ds.get_parameter_data('x1')"
   ]
  },
  {
   "cell_type": "code",
   "execution_count": null,
   "metadata": {},
   "outputs": [],
   "source": []
  }
 ],
 "metadata": {
  "kernelspec": {
   "display_name": "Python 3",
   "language": "python",
   "name": "python3"
  },
  "language_info": {
   "codemirror_mode": {
    "name": "ipython",
    "version": 3
   },
   "file_extension": ".py",
   "mimetype": "text/x-python",
   "name": "python",
   "nbconvert_exporter": "python",
   "pygments_lexer": "ipython3",
   "version": "3.7.9"
  },
  "nbsphinx": {
   "timeout": 600
  },
  "toc": {
   "base_numbering": 1,
   "nav_menu": {},
   "number_sections": true,
   "sideBar": true,
   "skip_h1_title": false,
   "title_cell": "Table of Contents",
   "title_sidebar": "Contents",
   "toc_cell": false,
   "toc_position": {},
   "toc_section_display": true,
   "toc_window_display": false
  },
  "varInspector": {
   "cols": {
    "lenName": 16,
    "lenType": 16,
    "lenVar": 40
   },
   "kernels_config": {
    "python": {
     "delete_cmd_postfix": "",
     "delete_cmd_prefix": "del ",
     "library": "var_list.py",
     "varRefreshCmd": "print(var_dic_list())"
    },
    "r": {
     "delete_cmd_postfix": ") ",
     "delete_cmd_prefix": "rm(",
     "library": "var_list.r",
     "varRefreshCmd": "cat(var_dic_list()) "
    }
   },
   "types_to_exclude": [
    "module",
    "function",
    "builtin_function_or_method",
    "instance",
    "_Feature"
   ],
   "window_display": false
  }
 },
 "nbformat": 4,
 "nbformat_minor": 2
}
