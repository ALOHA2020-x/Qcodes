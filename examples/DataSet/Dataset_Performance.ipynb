{
 "cells": [
  {
   "cell_type": "markdown",
   "metadata": {},
   "source": [
    "# DataSet Performance\n",
    "\n",
    "This notebook shows the trade-off between inserting data into a database row-by-row and as binary blobs. Inserting the data row-by-row means that we have direct access to all the data and may perform queries directly on the values of the data. On the other hand, as we shall see, this is much slower than inserting the data directly as binary blobs."
   ]
  },
  {
   "cell_type": "markdown",
   "metadata": {},
   "source": [
    "First, we choose a new location for the database to ensure that we don't add a bunch of benchmarking data to the default one."
   ]
  },
  {
   "cell_type": "code",
   "execution_count": 1,
   "metadata": {
    "execution": {
     "iopub.execute_input": "2021-03-23T17:33:05.521887Z",
     "iopub.status.busy": "2021-03-23T17:33:05.521410Z",
     "iopub.status.idle": "2021-03-23T17:33:06.513044Z",
     "shell.execute_reply": "2021-03-23T17:33:06.511831Z"
    }
   },
   "outputs": [
    {
     "name": "stdout",
     "output_type": "stream",
     "text": [
      "Logging hadn't been started.\n",
      "Activating auto-logging. Current session state plus future input saved.\n",
      "Filename       : /home/runner/.qcodes/logs/command_history.log\n",
      "Mode           : append\n",
      "Output logging : True\n",
      "Raw input log  : False\n",
      "Timestamping   : True\n",
      "State          : active\n"
     ]
    },
    {
     "name": "stdout",
     "output_type": "stream",
     "text": [
      "Qcodes Logfile : /home/runner/.qcodes/logs/210323-4867-qcodes.log\n"
     ]
    }
   ],
   "source": [
    "import os\n",
    "cwd = os.getcwd()\n",
    "import qcodes as qc\n",
    "qc.config[\"core\"][\"db_location\"] = os.path.join(cwd, 'testing.db')\n"
   ]
  },
  {
   "cell_type": "code",
   "execution_count": 2,
   "metadata": {
    "execution": {
     "iopub.execute_input": "2021-03-23T17:33:06.520020Z",
     "iopub.status.busy": "2021-03-23T17:33:06.519005Z",
     "iopub.status.idle": "2021-03-23T17:33:06.764869Z",
     "shell.execute_reply": "2021-03-23T17:33:06.765677Z"
    }
   },
   "outputs": [],
   "source": [
    "%matplotlib inline\n",
    "import time\n",
    "import matplotlib.pyplot as plt\n",
    "import numpy as np\n",
    "\n",
    "import qcodes as qc\n",
    "from qcodes.instrument.parameter import ManualParameter\n",
    "from qcodes.dataset.experiment_container import (Experiment,\n",
    "                                                 load_last_experiment,\n",
    "                                                 new_experiment)\n",
    "from qcodes.dataset.sqlite.database import initialise_database\n",
    "from qcodes import load_or_create_experiment\n",
    "from qcodes.dataset.measurements import Measurement"
   ]
  },
  {
   "cell_type": "code",
   "execution_count": 3,
   "metadata": {
    "execution": {
     "iopub.execute_input": "2021-03-23T17:33:06.770019Z",
     "iopub.status.busy": "2021-03-23T17:33:06.769377Z",
     "iopub.status.idle": "2021-03-23T17:33:06.872192Z",
     "shell.execute_reply": "2021-03-23T17:33:06.871755Z"
    }
   },
   "outputs": [
    {
     "name": "stdout",
     "output_type": "stream",
     "text": [
      "\r",
      "0it [00:00, ?it/s]"
     ]
    },
    {
     "name": "stdout",
     "output_type": "stream",
     "text": [
      "\r",
      "Upgrading database; v0 -> v1: : 0it [00:00, ?it/s]"
     ]
    },
    {
     "name": "stdout",
     "output_type": "stream",
     "text": [
      "\r",
      "Upgrading database; v0 -> v1: : 0it [00:00, ?it/s]"
     ]
    },
    {
     "name": "stdout",
     "output_type": "stream",
     "text": [
      "\n",
      "\r",
      "  0%|          | 0/1 [00:00<?, ?it/s]"
     ]
    },
    {
     "name": "stdout",
     "output_type": "stream",
     "text": [
      "\r",
      "Upgrading database; v1 -> v2:   0%|          | 0/1 [00:00<?, ?it/s]"
     ]
    },
    {
     "name": "stdout",
     "output_type": "stream",
     "text": [
      "\r",
      "Upgrading database; v1 -> v2: 100%|██████████| 1/1 [00:00<00:00, 962.22it/s]"
     ]
    },
    {
     "name": "stdout",
     "output_type": "stream",
     "text": [
      "\n",
      "\r",
      "0it [00:00, ?it/s]"
     ]
    },
    {
     "name": "stdout",
     "output_type": "stream",
     "text": [
      "\r",
      "Upgrading database; v2 -> v3: : 0it [00:00, ?it/s]"
     ]
    },
    {
     "name": "stdout",
     "output_type": "stream",
     "text": [
      "\r",
      "Upgrading database; v2 -> v3: : 0it [00:00, ?it/s]"
     ]
    },
    {
     "name": "stdout",
     "output_type": "stream",
     "text": [
      "\n",
      "\r",
      "0it [00:00, ?it/s]"
     ]
    },
    {
     "name": "stdout",
     "output_type": "stream",
     "text": [
      "\r",
      "Upgrading database; v3 -> v4: : 0it [00:00, ?it/s]"
     ]
    },
    {
     "name": "stdout",
     "output_type": "stream",
     "text": [
      "\r",
      "Upgrading database; v3 -> v4: : 0it [00:00, ?it/s]"
     ]
    },
    {
     "name": "stdout",
     "output_type": "stream",
     "text": [
      "\n",
      "\r",
      "  0%|          | 0/1 [00:00<?, ?it/s]"
     ]
    },
    {
     "name": "stdout",
     "output_type": "stream",
     "text": [
      "\r",
      "Upgrading database; v4 -> v5:   0%|          | 0/1 [00:00<?, ?it/s]"
     ]
    },
    {
     "name": "stdout",
     "output_type": "stream",
     "text": [
      "\r",
      "Upgrading database; v4 -> v5: 100%|██████████| 1/1 [00:00<00:00, 597.82it/s]"
     ]
    },
    {
     "name": "stdout",
     "output_type": "stream",
     "text": [
      "\n",
      "\r",
      "0it [00:00, ?it/s]"
     ]
    },
    {
     "name": "stdout",
     "output_type": "stream",
     "text": [
      "\r",
      "Upgrading database; v5 -> v6: : 0it [00:00, ?it/s]"
     ]
    },
    {
     "name": "stdout",
     "output_type": "stream",
     "text": [
      "\r",
      "Upgrading database; v5 -> v6: : 0it [00:00, ?it/s]"
     ]
    },
    {
     "name": "stdout",
     "output_type": "stream",
     "text": [
      "\n",
      "\r",
      "  0%|          | 0/1 [00:00<?, ?it/s]"
     ]
    },
    {
     "name": "stdout",
     "output_type": "stream",
     "text": [
      "\r",
      "Upgrading database; v6 -> v7:   0%|          | 0/1 [00:00<?, ?it/s]"
     ]
    },
    {
     "name": "stdout",
     "output_type": "stream",
     "text": [
      "\r",
      "Upgrading database; v6 -> v7: 100%|██████████| 1/1 [00:00<00:00, 224.71it/s]"
     ]
    },
    {
     "name": "stdout",
     "output_type": "stream",
     "text": [
      "\n",
      "\r",
      "  0%|          | 0/1 [00:00<?, ?it/s]"
     ]
    },
    {
     "name": "stdout",
     "output_type": "stream",
     "text": [
      "\r",
      "Upgrading database; v7 -> v8:   0%|          | 0/1 [00:00<?, ?it/s]"
     ]
    },
    {
     "name": "stdout",
     "output_type": "stream",
     "text": [
      "\r",
      "Upgrading database; v7 -> v8: 100%|██████████| 1/1 [00:00<00:00, 537.39it/s]"
     ]
    },
    {
     "name": "stdout",
     "output_type": "stream",
     "text": [
      "\n",
      "\r",
      "  0%|          | 0/1 [00:00<?, ?it/s]"
     ]
    },
    {
     "name": "stdout",
     "output_type": "stream",
     "text": [
      "\r",
      "Upgrading database; v8 -> v9:   0%|          | 0/1 [00:00<?, ?it/s]"
     ]
    },
    {
     "name": "stdout",
     "output_type": "stream",
     "text": [
      "\r",
      "Upgrading database; v8 -> v9: 100%|██████████| 1/1 [00:00<00:00, 493.51it/s]"
     ]
    },
    {
     "name": "stdout",
     "output_type": "stream",
     "text": [
      "\n"
     ]
    }
   ],
   "source": [
    "initialise_database()\n",
    "exp = load_or_create_experiment(experiment_name='tutorial_exp', sample_name=\"no sample\")"
   ]
  },
  {
   "cell_type": "markdown",
   "metadata": {},
   "source": [
    "Here, we define a simple function to benchmark the time it takes to insert n points with either numeric or array data type.\n",
    "We will compare both the time used to call ``add_result`` and the time used for the full measurement."
   ]
  },
  {
   "cell_type": "code",
   "execution_count": 4,
   "metadata": {
    "execution": {
     "iopub.execute_input": "2021-03-23T17:33:06.881445Z",
     "iopub.status.busy": "2021-03-23T17:33:06.880843Z",
     "iopub.status.idle": "2021-03-23T17:33:06.884797Z",
     "shell.execute_reply": "2021-03-23T17:33:06.884284Z"
    }
   },
   "outputs": [],
   "source": [
    "def insert_data(paramtype, npoints, nreps=1):\n",
    "\n",
    "    meas = Measurement(exp=exp)\n",
    "\n",
    "    x1 = ManualParameter('x1')\n",
    "    x2 = ManualParameter('x2')\n",
    "    x3 = ManualParameter('x3')\n",
    "    y1 = ManualParameter('y1')\n",
    "    y2 = ManualParameter('y2')\n",
    "\n",
    "    meas.register_parameter(x1, paramtype=paramtype)\n",
    "    meas.register_parameter(x2, paramtype=paramtype)\n",
    "    meas.register_parameter(x3, paramtype=paramtype)\n",
    "    meas.register_parameter(y1, setpoints=[x1, x2, x3],\n",
    "                            paramtype=paramtype)\n",
    "    meas.register_parameter(y2, setpoints=[x1, x2, x3],\n",
    "                            paramtype=paramtype)\n",
    "    start = time.perf_counter()\n",
    "    with meas.run() as datasaver:\n",
    "        start_adding = time.perf_counter()\n",
    "        for i in range(nreps):\n",
    "            datasaver.add_result((x1, np.random.rand(npoints)),\n",
    "                                 (x2, np.random.rand(npoints)),\n",
    "                                 (x3, np.random.rand(npoints)),\n",
    "                                 (y1, np.random.rand(npoints)),\n",
    "                                 (y2, np.random.rand(npoints)))\n",
    "        stop_adding = time.perf_counter()\n",
    "        run_id = datasaver.run_id\n",
    "    stop = time.perf_counter()\n",
    "    tot_time = stop - start\n",
    "    add_time = stop_adding - start_adding\n",
    "    return tot_time, add_time, run_id"
   ]
  },
  {
   "cell_type": "markdown",
   "metadata": {},
   "source": [
    "## Comparison between numeric/array data and binary blob"
   ]
  },
  {
   "cell_type": "markdown",
   "metadata": {},
   "source": [
    "### Case1: Short experiment time"
   ]
  },
  {
   "cell_type": "code",
   "execution_count": 5,
   "metadata": {
    "execution": {
     "iopub.execute_input": "2021-03-23T17:33:06.891368Z",
     "iopub.status.busy": "2021-03-23T17:33:06.890832Z",
     "iopub.status.idle": "2021-03-23T17:33:07.745321Z",
     "shell.execute_reply": "2021-03-23T17:33:07.744803Z"
    }
   },
   "outputs": [
    {
     "name": "stdout",
     "output_type": "stream",
     "text": [
      "Starting experimental run with id: 1. \n",
      "Starting experimental run with id: 2. \n",
      "Starting experimental run with id: 3. \n",
      "Starting experimental run with id: 4. \n"
     ]
    },
    {
     "name": "stdout",
     "output_type": "stream",
     "text": [
      "Starting experimental run with id: 5. \n"
     ]
    },
    {
     "name": "stdout",
     "output_type": "stream",
     "text": [
      "Starting experimental run with id: 6. \n",
      "Starting experimental run with id: 7. \n"
     ]
    },
    {
     "name": "stdout",
     "output_type": "stream",
     "text": [
      "Starting experimental run with id: 8. \n",
      "Starting experimental run with id: 9. \n"
     ]
    },
    {
     "name": "stdout",
     "output_type": "stream",
     "text": [
      "Starting experimental run with id: 10. \n",
      "Starting experimental run with id: 11. \n"
     ]
    },
    {
     "name": "stdout",
     "output_type": "stream",
     "text": [
      "Starting experimental run with id: 12. \n",
      "Starting experimental run with id: 13. \n",
      "Starting experimental run with id: 14. \n"
     ]
    }
   ],
   "source": [
    "sizes = [1,500,1000,2000,3000,4000,5000]\n",
    "t_numeric = []\n",
    "t_numeric_add = []\n",
    "t_array = []\n",
    "t_array_add = []\n",
    "for size in sizes:\n",
    "    tn, tna, run_id_n =  insert_data('numeric', size)\n",
    "    t_numeric.append(tn)\n",
    "    t_numeric_add.append(tna)\n",
    "\n",
    "    ta, taa, run_id_a =  insert_data('array', size)\n",
    "    t_array.append(ta)\n",
    "    t_array_add.append(taa)"
   ]
  },
  {
   "cell_type": "code",
   "execution_count": 6,
   "metadata": {
    "execution": {
     "iopub.execute_input": "2021-03-23T17:33:07.764117Z",
     "iopub.status.busy": "2021-03-23T17:33:07.763239Z",
     "iopub.status.idle": "2021-03-23T17:33:07.968372Z",
     "shell.execute_reply": "2021-03-23T17:33:07.967900Z"
    }
   },
   "outputs": [
    {
     "data": {
      "image/png": "[encoded data removed]",
      "text/plain": [
       "<Figure size 432x288 with 1 Axes>"
      ]
     },
     "metadata": {
      "needs_background": "light"
     },
     "output_type": "display_data"
    }
   ],
   "source": [
    "fig, ax = plt.subplots(1,1)\n",
    "ax.plot(sizes, t_numeric, 'o-', label='Inserting row-by-row')\n",
    "ax.plot(sizes, t_numeric_add, 'o-', label='Inserting row-by-row: add_result only')\n",
    "ax.plot(sizes, t_array, 'd-', label='Inserting as binary blob')\n",
    "ax.plot(sizes, t_array_add, 'd-', label='Inserting as binary blob: add_result only')\n",
    "ax.legend()\n",
    "ax.set_xlabel('Array length')\n",
    "ax.set_ylabel('Time (s)')\n",
    "fig.tight_layout()"
   ]
  },
  {
   "cell_type": "markdown",
   "metadata": {},
   "source": [
    "As shown in the latter figure, the time to setup and and close the experiment is approximately 0.4 sec. In case of small array sizes, the difference between inserting values of data as arrays and inserting them row-by-row is relatively unimportant. At larger array sizes, i.e. above 10000 points, the cost of writing data as individual datapoints starts to become important.\n"
   ]
  },
  {
   "cell_type": "markdown",
   "metadata": {},
   "source": [
    "### Case2: Long experiment time "
   ]
  },
  {
   "cell_type": "code",
   "execution_count": 7,
   "metadata": {
    "execution": {
     "iopub.execute_input": "2021-03-23T17:33:07.975622Z",
     "iopub.status.busy": "2021-03-23T17:33:07.975081Z",
     "iopub.status.idle": "2021-03-23T17:34:05.614735Z",
     "shell.execute_reply": "2021-03-23T17:34:05.613616Z"
    }
   },
   "outputs": [
    {
     "name": "stdout",
     "output_type": "stream",
     "text": [
      "Starting experimental run with id: 15. \n",
      "Starting experimental run with id: 16. \n",
      "Starting experimental run with id: 17. \n"
     ]
    },
    {
     "name": "stdout",
     "output_type": "stream",
     "text": [
      "Starting experimental run with id: 18. \n",
      "Starting experimental run with id: 19. \n"
     ]
    },
    {
     "name": "stdout",
     "output_type": "stream",
     "text": [
      "Starting experimental run with id: 20. \n"
     ]
    },
    {
     "name": "stdout",
     "output_type": "stream",
     "text": [
      "Starting experimental run with id: 21. \n"
     ]
    },
    {
     "name": "stdout",
     "output_type": "stream",
     "text": [
      "Starting experimental run with id: 22. \n"
     ]
    },
    {
     "name": "stdout",
     "output_type": "stream",
     "text": [
      "Starting experimental run with id: 23. \n"
     ]
    },
    {
     "name": "stdout",
     "output_type": "stream",
     "text": [
      "Starting experimental run with id: 24. \n"
     ]
    },
    {
     "name": "stdout",
     "output_type": "stream",
     "text": [
      "Starting experimental run with id: 25. \n"
     ]
    },
    {
     "name": "stdout",
     "output_type": "stream",
     "text": [
      "Starting experimental run with id: 26. \n"
     ]
    },
    {
     "name": "stdout",
     "output_type": "stream",
     "text": [
      "Starting experimental run with id: 27. \n"
     ]
    },
    {
     "name": "stdout",
     "output_type": "stream",
     "text": [
      "Starting experimental run with id: 28. \n"
     ]
    }
   ],
   "source": [
    "sizes = [1,500,1000,2000,3000,4000,5000]\n",
    "nreps = 100\n",
    "t_numeric = []\n",
    "t_numeric_add = []\n",
    "t_numeric_run_ids = []\n",
    "t_array = []\n",
    "t_array_add = []\n",
    "t_array_run_ids = []\n",
    "for size in sizes:\n",
    "    tn, tna, run_id_n =  insert_data('numeric', size, nreps=nreps)\n",
    "    t_numeric.append(tn)\n",
    "    t_numeric_add.append(tna)\n",
    "    t_numeric_run_ids.append(run_id_n)\n",
    "\n",
    "    ta, taa, run_id_a =  insert_data('array', size, nreps=nreps)\n",
    "    t_array.append(ta)\n",
    "    t_array_add.append(taa)\n",
    "    t_array_run_ids.append(run_id_a)"
   ]
  },
  {
   "cell_type": "code",
   "execution_count": 8,
   "metadata": {
    "execution": {
     "iopub.execute_input": "2021-03-23T17:34:05.639729Z",
     "iopub.status.busy": "2021-03-23T17:34:05.637071Z",
     "iopub.status.idle": "2021-03-23T17:34:05.837011Z",
     "shell.execute_reply": "2021-03-23T17:34:05.836038Z"
    },
    "scrolled": true
   },
   "outputs": [
    {
     "data": {
      "image/png": "[encoded data removed]",
      "text/plain": [
       "<Figure size 432x288 with 1 Axes>"
      ]
     },
     "metadata": {
      "needs_background": "light"
     },
     "output_type": "display_data"
    }
   ],
   "source": [
    "fig, ax = plt.subplots(1,1)\n",
    "ax.plot(sizes, t_numeric, 'o-', label='Inserting row-by-row')\n",
    "ax.plot(sizes, t_numeric_add, 'o-', label='Inserting row-by-row: add_result only')\n",
    "ax.plot(sizes, t_array, 'd-', label='Inserting as binary blob')\n",
    "ax.plot(sizes, t_array_add, 'd-', label='Inserting as binary blob: add_result only')\n",
    "ax.legend()\n",
    "ax.set_xlabel('Array length')\n",
    "ax.set_ylabel('Time (s)')\n",
    "fig.tight_layout()"
   ]
  },
  {
   "cell_type": "markdown",
   "metadata": {},
   "source": [
    "However, as we increase the length of the experiment, as seen here by repeating the insertion 100 times, we see a big difference between inserting values of the data row-by-row and inserting it as a binary blob."
   ]
  },
  {
   "cell_type": "markdown",
   "metadata": {},
   "source": [
    "## Loading the data "
   ]
  },
  {
   "cell_type": "code",
   "execution_count": 9,
   "metadata": {
    "execution": {
     "iopub.execute_input": "2021-03-23T17:34:05.841278Z",
     "iopub.status.busy": "2021-03-23T17:34:05.840272Z",
     "iopub.status.idle": "2021-03-23T17:34:05.843999Z",
     "shell.execute_reply": "2021-03-23T17:34:05.843485Z"
    }
   },
   "outputs": [],
   "source": [
    "from qcodes.dataset.data_set import load_by_id\n",
    "from qcodes.dataset.data_export import get_data_by_id"
   ]
  },
  {
   "cell_type": "markdown",
   "metadata": {},
   "source": [
    "As usual you can load the data by using the ``load_by_id`` function but you will notice that the different storage methods\n",
    "are reflected in shape of the data as it is retrieved. "
   ]
  },
  {
   "cell_type": "code",
   "execution_count": 10,
   "metadata": {
    "execution": {
     "iopub.execute_input": "2021-03-23T17:34:05.848873Z",
     "iopub.status.busy": "2021-03-23T17:34:05.847665Z",
     "iopub.status.idle": "2021-03-23T17:34:05.849501Z",
     "shell.execute_reply": "2021-03-23T17:34:05.850022Z"
    }
   },
   "outputs": [],
   "source": [
    "run_id_n = t_numeric_run_ids[0]\n",
    "run_id_a = t_array_run_ids[0]"
   ]
  },
  {
   "cell_type": "code",
   "execution_count": 11,
   "metadata": {
    "execution": {
     "iopub.execute_input": "2021-03-23T17:34:05.853365Z",
     "iopub.status.busy": "2021-03-23T17:34:05.852805Z",
     "iopub.status.idle": "2021-03-23T17:34:05.863293Z",
     "shell.execute_reply": "2021-03-23T17:34:05.862836Z"
    },
    "scrolled": true
   },
   "outputs": [
    {
     "data": {
      "text/plain": [
       "{'x1': {'x1': array([0.2850402 , 0.2850402 , 0.40972541, 0.40972541, 0.43305422,\n",
       "         0.43305422, 0.72354073, 0.72354073, 0.37530515, 0.37530515,\n",
       "         0.93142297, 0.93142297, 0.79266365, 0.79266365, 0.38468098,\n",
       "         0.38468098, 0.09247541, 0.09247541, 0.18757396, 0.18757396,\n",
       "         0.09128223, 0.09128223, 0.1094886 , 0.1094886 , 0.05434734,\n",
       "         0.05434734, 0.01837102, 0.01837102, 0.97792066, 0.97792066,\n",
       "         0.03443433, 0.03443433, 0.13376069, 0.13376069, 0.76442584,\n",
       "         0.76442584, 0.43089912, 0.43089912, 0.10095176, 0.10095176,\n",
       "         0.79917674, 0.79917674, 0.58166915, 0.58166915, 0.38378554,\n",
       "         0.38378554, 0.33789392, 0.33789392, 0.33437898, 0.33437898,\n",
       "         0.75966152, 0.75966152, 0.56517245, 0.56517245, 0.72413638,\n",
       "         0.72413638, 0.60558093, 0.60558093, 0.28905643, 0.28905643,\n",
       "         0.93423338, 0.93423338, 0.77802744, 0.77802744, 0.78879928,\n",
       "         0.78879928, 0.81982726, 0.81982726, 0.93028763, 0.93028763,\n",
       "         0.86360537, 0.86360537, 0.11784027, 0.11784027, 0.80976698,\n",
       "         0.80976698, 0.71532   , 0.71532   , 0.88227375, 0.88227375,\n",
       "         0.54052847, 0.54052847, 0.07423302, 0.07423302, 0.84572066,\n",
       "         0.84572066, 0.48195568, 0.48195568, 0.14559762, 0.14559762,\n",
       "         0.08924918, 0.08924918, 0.83038232, 0.83038232, 0.27259355,\n",
       "         0.27259355, 0.48084864, 0.48084864, 0.85946146, 0.85946146,\n",
       "         0.64136443, 0.64136443, 0.14855635, 0.14855635, 0.94911257,\n",
       "         0.94911257, 0.88871825, 0.88871825, 0.56083832, 0.56083832,\n",
       "         0.23006334, 0.23006334, 0.6628497 , 0.6628497 , 0.84899989,\n",
       "         0.84899989, 0.56531939, 0.56531939, 0.27973346, 0.27973346,\n",
       "         0.88902263, 0.88902263, 0.41819621, 0.41819621, 0.8334504 ,\n",
       "         0.8334504 , 0.32399386, 0.32399386, 0.13802335, 0.13802335,\n",
       "         0.53311742, 0.53311742, 0.90745214, 0.90745214, 0.98466679,\n",
       "         0.98466679, 0.46502618, 0.46502618, 0.61963166, 0.61963166,\n",
       "         0.61345692, 0.61345692, 0.13722691, 0.13722691, 0.66244394,\n",
       "         0.66244394, 0.14346493, 0.14346493, 0.20331171, 0.20331171,\n",
       "         0.3151979 , 0.3151979 , 0.87272177, 0.87272177, 0.6908638 ,\n",
       "         0.6908638 , 0.08401181, 0.08401181, 0.61940911, 0.61940911,\n",
       "         0.32228867, 0.32228867, 0.64095167, 0.64095167, 0.28147867,\n",
       "         0.28147867, 0.29373659, 0.29373659, 0.70396352, 0.70396352,\n",
       "         0.73956759, 0.73956759, 0.39294226, 0.39294226, 0.39470164,\n",
       "         0.39470164, 0.01788496, 0.01788496, 0.85477678, 0.85477678,\n",
       "         0.68258188, 0.68258188, 0.54452705, 0.54452705, 0.26883334,\n",
       "         0.26883334, 0.23061147, 0.23061147, 0.25662402, 0.25662402,\n",
       "         0.68157327, 0.68157327, 0.02853987, 0.02853987, 0.65805818,\n",
       "         0.65805818, 0.11197379, 0.11197379, 0.29866553, 0.29866553])}}"
      ]
     },
     "execution_count": 1,
     "metadata": {},
     "output_type": "execute_result"
    }
   ],
   "source": [
    "ds = load_by_id(run_id_n)\n",
    "ds.get_parameter_data('x1')"
   ]
  },
  {
   "cell_type": "markdown",
   "metadata": {},
   "source": [
    "And a dataset stored as binary arrays"
   ]
  },
  {
   "cell_type": "code",
   "execution_count": 12,
   "metadata": {
    "execution": {
     "iopub.execute_input": "2021-03-23T17:34:05.866810Z",
     "iopub.status.busy": "2021-03-23T17:34:05.866272Z",
     "iopub.status.idle": "2021-03-23T17:34:05.927241Z",
     "shell.execute_reply": "2021-03-23T17:34:05.927711Z"
    },
    "scrolled": true
   },
   "outputs": [
    {
     "data": {
      "text/plain": [
       "{'x1': {'x1': array([[0.66347825],\n",
       "         [0.66347825],\n",
       "         [0.24051584],\n",
       "         [0.24051584],\n",
       "         [0.24674415],\n",
       "         [0.24674415],\n",
       "         [0.67380846],\n",
       "         [0.67380846],\n",
       "         [0.54046906],\n",
       "         [0.54046906],\n",
       "         [0.71926658],\n",
       "         [0.71926658],\n",
       "         [0.98539   ],\n",
       "         [0.98539   ],\n",
       "         [0.15236976],\n",
       "         [0.15236976],\n",
       "         [0.11128715],\n",
       "         [0.11128715],\n",
       "         [0.41549618],\n",
       "         [0.41549618],\n",
       "         [0.82648728],\n",
       "         [0.82648728],\n",
       "         [0.84014636],\n",
       "         [0.84014636],\n",
       "         [0.34334901],\n",
       "         [0.34334901],\n",
       "         [0.76106007],\n",
       "         [0.76106007],\n",
       "         [0.50364898],\n",
       "         [0.50364898],\n",
       "         [0.79948441],\n",
       "         [0.79948441],\n",
       "         [0.94317347],\n",
       "         [0.94317347],\n",
       "         [0.18237382],\n",
       "         [0.18237382],\n",
       "         [0.24490668],\n",
       "         [0.24490668],\n",
       "         [0.62884266],\n",
       "         [0.62884266],\n",
       "         [0.09065858],\n",
       "         [0.09065858],\n",
       "         [0.64853808],\n",
       "         [0.64853808],\n",
       "         [0.87886694],\n",
       "         [0.87886694],\n",
       "         [0.65220917],\n",
       "         [0.65220917],\n",
       "         [0.98616589],\n",
       "         [0.98616589],\n",
       "         [0.2444927 ],\n",
       "         [0.2444927 ],\n",
       "         [0.49573638],\n",
       "         [0.49573638],\n",
       "         [0.02385771],\n",
       "         [0.02385771],\n",
       "         [0.70762767],\n",
       "         [0.70762767],\n",
       "         [0.52723976],\n",
       "         [0.52723976],\n",
       "         [0.98678836],\n",
       "         [0.98678836],\n",
       "         [0.5593081 ],\n",
       "         [0.5593081 ],\n",
       "         [0.29353048],\n",
       "         [0.29353048],\n",
       "         [0.81275564],\n",
       "         [0.81275564],\n",
       "         [0.79818532],\n",
       "         [0.79818532],\n",
       "         [0.60864046],\n",
       "         [0.60864046],\n",
       "         [0.16540166],\n",
       "         [0.16540166],\n",
       "         [0.79988275],\n",
       "         [0.79988275],\n",
       "         [0.20706643],\n",
       "         [0.20706643],\n",
       "         [0.72384925],\n",
       "         [0.72384925],\n",
       "         [0.09704938],\n",
       "         [0.09704938],\n",
       "         [0.17932719],\n",
       "         [0.17932719],\n",
       "         [0.26194786],\n",
       "         [0.26194786],\n",
       "         [0.26640376],\n",
       "         [0.26640376],\n",
       "         [0.75810195],\n",
       "         [0.75810195],\n",
       "         [0.43264379],\n",
       "         [0.43264379],\n",
       "         [0.01641322],\n",
       "         [0.01641322],\n",
       "         [0.06285805],\n",
       "         [0.06285805],\n",
       "         [0.64231554],\n",
       "         [0.64231554],\n",
       "         [0.42129265],\n",
       "         [0.42129265],\n",
       "         [0.80701969],\n",
       "         [0.80701969],\n",
       "         [0.45451975],\n",
       "         [0.45451975],\n",
       "         [0.32069122],\n",
       "         [0.32069122],\n",
       "         [0.82425537],\n",
       "         [0.82425537],\n",
       "         [0.58551572],\n",
       "         [0.58551572],\n",
       "         [0.56685459],\n",
       "         [0.56685459],\n",
       "         [0.40702005],\n",
       "         [0.40702005],\n",
       "         [0.66317812],\n",
       "         [0.66317812],\n",
       "         [0.57798844],\n",
       "         [0.57798844],\n",
       "         [0.9660727 ],\n",
       "         [0.9660727 ],\n",
       "         [0.86078059],\n",
       "         [0.86078059],\n",
       "         [0.25662873],\n",
       "         [0.25662873],\n",
       "         [0.97398044],\n",
       "         [0.97398044],\n",
       "         [0.43751796],\n",
       "         [0.43751796],\n",
       "         [0.2266034 ],\n",
       "         [0.2266034 ],\n",
       "         [0.68741567],\n",
       "         [0.68741567],\n",
       "         [0.11987608],\n",
       "         [0.11987608],\n",
       "         [0.19935491],\n",
       "         [0.19935491],\n",
       "         [0.69529351],\n",
       "         [0.69529351],\n",
       "         [0.28230033],\n",
       "         [0.28230033],\n",
       "         [0.0272928 ],\n",
       "         [0.0272928 ],\n",
       "         [0.40051591],\n",
       "         [0.40051591],\n",
       "         [0.13819466],\n",
       "         [0.13819466],\n",
       "         [0.80455027],\n",
       "         [0.80455027],\n",
       "         [0.65582171],\n",
       "         [0.65582171],\n",
       "         [0.38454407],\n",
       "         [0.38454407],\n",
       "         [0.05114492],\n",
       "         [0.05114492],\n",
       "         [0.08524566],\n",
       "         [0.08524566],\n",
       "         [0.9262661 ],\n",
       "         [0.9262661 ],\n",
       "         [0.45511076],\n",
       "         [0.45511076],\n",
       "         [0.00160817],\n",
       "         [0.00160817],\n",
       "         [0.35285206],\n",
       "         [0.35285206],\n",
       "         [0.32763478],\n",
       "         [0.32763478],\n",
       "         [0.37089628],\n",
       "         [0.37089628],\n",
       "         [0.49356776],\n",
       "         [0.49356776],\n",
       "         [0.52370672],\n",
       "         [0.52370672],\n",
       "         [0.63633854],\n",
       "         [0.63633854],\n",
       "         [0.43027154],\n",
       "         [0.43027154],\n",
       "         [0.22451933],\n",
       "         [0.22451933],\n",
       "         [0.51608856],\n",
       "         [0.51608856],\n",
       "         [0.63894962],\n",
       "         [0.63894962],\n",
       "         [0.98192291],\n",
       "         [0.98192291],\n",
       "         [0.1714303 ],\n",
       "         [0.1714303 ],\n",
       "         [0.622665  ],\n",
       "         [0.622665  ],\n",
       "         [0.51966074],\n",
       "         [0.51966074],\n",
       "         [0.81070883],\n",
       "         [0.81070883],\n",
       "         [0.29874747],\n",
       "         [0.29874747],\n",
       "         [0.17930554],\n",
       "         [0.17930554],\n",
       "         [0.61761733],\n",
       "         [0.61761733],\n",
       "         [0.38653152],\n",
       "         [0.38653152]])}}"
      ]
     },
     "execution_count": 1,
     "metadata": {},
     "output_type": "execute_result"
    }
   ],
   "source": [
    "ds = load_by_id(run_id_a)\n",
    "ds.get_parameter_data('x1')"
   ]
  },
  {
   "cell_type": "code",
   "execution_count": null,
   "metadata": {},
   "outputs": [],
   "source": []
  }
 ],
 "metadata": {
  "kernelspec": {
   "display_name": "Python 3",
   "language": "python",
   "name": "python3"
  },
  "language_info": {
   "codemirror_mode": {
    "name": "ipython",
    "version": 3
   },
   "file_extension": ".py",
   "mimetype": "text/x-python",
   "name": "python",
   "nbconvert_exporter": "python",
   "pygments_lexer": "ipython3",
   "version": "3.7.10"
  },
  "nbsphinx": {
   "timeout": 600
  },
  "toc": {
   "base_numbering": 1,
   "nav_menu": {},
   "number_sections": true,
   "sideBar": true,
   "skip_h1_title": false,
   "title_cell": "Table of Contents",
   "title_sidebar": "Contents",
   "toc_cell": false,
   "toc_position": {},
   "toc_section_display": true,
   "toc_window_display": false
  },
  "varInspector": {
   "cols": {
    "lenName": 16,
    "lenType": 16,
    "lenVar": 40
   },
   "kernels_config": {
    "python": {
     "delete_cmd_postfix": "",
     "delete_cmd_prefix": "del ",
     "library": "var_list.py",
     "varRefreshCmd": "print(var_dic_list())"
    },
    "r": {
     "delete_cmd_postfix": ") ",
     "delete_cmd_prefix": "rm(",
     "library": "var_list.r",
     "varRefreshCmd": "cat(var_dic_list()) "
    }
   },
   "types_to_exclude": [
    "module",
    "function",
    "builtin_function_or_method",
    "instance",
    "_Feature"
   ],
   "window_display": false
  }
 },
 "nbformat": 4,
 "nbformat_minor": 2
}
