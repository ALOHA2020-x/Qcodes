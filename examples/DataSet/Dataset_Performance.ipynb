{
 "cells": [
  {
   "cell_type": "markdown",
   "metadata": {},
   "source": [
    "# DataSet Performance\n",
    "\n",
    "This notebook shows the trade-off between inserting data into a database row-by-row and as binary blobs. Inserting the data row-by-row means that we have direct access to all the data and may perform queries directly on the values of the data. On the other hand, as we shall see, this is much slower than inserting the data directly as binary blobs."
   ]
  },
  {
   "cell_type": "markdown",
   "metadata": {},
   "source": [
    "First, we choose a new location for the database to ensure that we don't add a bunch of benchmarking data to the default one."
   ]
  },
  {
   "cell_type": "code",
   "execution_count": 1,
   "metadata": {
    "execution": {
     "iopub.execute_input": "2020-12-14T10:11:21.531547Z",
     "iopub.status.busy": "2020-12-14T10:11:21.530590Z",
     "iopub.status.idle": "2020-12-14T10:11:22.468650Z",
     "shell.execute_reply": "2020-12-14T10:11:22.469082Z"
    }
   },
   "outputs": [
    {
     "name": "stdout",
     "output_type": "stream",
     "text": [
      "Logging hadn't been started.\n",
      "Activating auto-logging. Current session state plus future input saved.\n",
      "Filename       : /home/vsts/.qcodes/logs/command_history.log\n",
      "Mode           : append\n",
      "Output logging : True\n",
      "Raw input log  : False\n",
      "Timestamping   : True\n",
      "State          : active\n"
     ]
    },
    {
     "name": "stdout",
     "output_type": "stream",
     "text": [
      "Qcodes Logfile : /home/vsts/.qcodes/logs/201214-14231-qcodes.log\n"
     ]
    }
   ],
   "source": [
    "import os\n",
    "cwd = os.getcwd()\n",
    "import qcodes as qc\n",
    "qc.config[\"core\"][\"db_location\"] = os.path.join(cwd, 'testing.db')\n"
   ]
  },
  {
   "cell_type": "code",
   "execution_count": 2,
   "metadata": {
    "execution": {
     "iopub.execute_input": "2020-12-14T10:11:22.476331Z",
     "iopub.status.busy": "2020-12-14T10:11:22.474105Z",
     "iopub.status.idle": "2020-12-14T10:11:22.635280Z",
     "shell.execute_reply": "2020-12-14T10:11:22.634451Z"
    }
   },
   "outputs": [],
   "source": [
    "%matplotlib inline\n",
    "import time\n",
    "import matplotlib.pyplot as plt\n",
    "import numpy as np\n",
    "\n",
    "import qcodes as qc\n",
    "from qcodes.instrument.parameter import ManualParameter\n",
    "from qcodes.dataset.experiment_container import (Experiment,\n",
    "                                                 load_last_experiment,\n",
    "                                                 new_experiment)\n",
    "from qcodes.dataset.sqlite.database import initialise_database\n",
    "from qcodes import load_or_create_experiment\n",
    "from qcodes.dataset.measurements import Measurement"
   ]
  },
  {
   "cell_type": "code",
   "execution_count": 3,
   "metadata": {
    "execution": {
     "iopub.execute_input": "2020-12-14T10:11:22.638687Z",
     "iopub.status.busy": "2020-12-14T10:11:22.638233Z",
     "iopub.status.idle": "2020-12-14T10:11:22.732921Z",
     "shell.execute_reply": "2020-12-14T10:11:22.732517Z"
    }
   },
   "outputs": [
    {
     "name": "stdout",
     "output_type": "stream",
     "text": [
      "\r",
      "0it [00:00, ?it/s]"
     ]
    },
    {
     "name": "stdout",
     "output_type": "stream",
     "text": [
      "\r",
      "Upgrading database; v0 -> v1: : 0it [00:00, ?it/s]"
     ]
    },
    {
     "name": "stdout",
     "output_type": "stream",
     "text": [
      "\r",
      "Upgrading database; v0 -> v1: : 0it [00:00, ?it/s]"
     ]
    },
    {
     "name": "stdout",
     "output_type": "stream",
     "text": [
      "\n",
      "\r",
      "  0%|          | 0/1 [00:00<?, ?it/s]"
     ]
    },
    {
     "name": "stdout",
     "output_type": "stream",
     "text": [
      "\r",
      "Upgrading database; v1 -> v2:   0%|          | 0/1 [00:00<?, ?it/s]"
     ]
    },
    {
     "name": "stdout",
     "output_type": "stream",
     "text": [
      "\r",
      "Upgrading database; v1 -> v2: 100%|██████████| 1/1 [00:00<00:00, 697.77it/s]"
     ]
    },
    {
     "name": "stdout",
     "output_type": "stream",
     "text": [
      "\n",
      "\r",
      "0it [00:00, ?it/s]"
     ]
    },
    {
     "name": "stdout",
     "output_type": "stream",
     "text": [
      "\r",
      "Upgrading database; v2 -> v3: : 0it [00:00, ?it/s]"
     ]
    },
    {
     "name": "stdout",
     "output_type": "stream",
     "text": [
      "\r",
      "Upgrading database; v2 -> v3: : 0it [00:00, ?it/s]"
     ]
    },
    {
     "name": "stdout",
     "output_type": "stream",
     "text": [
      "\n",
      "\r",
      "0it [00:00, ?it/s]"
     ]
    },
    {
     "name": "stdout",
     "output_type": "stream",
     "text": [
      "\r",
      "Upgrading database; v3 -> v4: : 0it [00:00, ?it/s]"
     ]
    },
    {
     "name": "stdout",
     "output_type": "stream",
     "text": [
      "\r",
      "Upgrading database; v3 -> v4: : 0it [00:00, ?it/s]"
     ]
    },
    {
     "name": "stdout",
     "output_type": "stream",
     "text": [
      "\n",
      "\r",
      "  0%|          | 0/1 [00:00<?, ?it/s]"
     ]
    },
    {
     "name": "stdout",
     "output_type": "stream",
     "text": [
      "\r",
      "Upgrading database; v4 -> v5:   0%|          | 0/1 [00:00<?, ?it/s]"
     ]
    },
    {
     "name": "stdout",
     "output_type": "stream",
     "text": [
      "\r",
      "Upgrading database; v4 -> v5: 100%|██████████| 1/1 [00:00<00:00, 607.87it/s]"
     ]
    },
    {
     "name": "stdout",
     "output_type": "stream",
     "text": [
      "\n",
      "\r",
      "0it [00:00, ?it/s]"
     ]
    },
    {
     "name": "stdout",
     "output_type": "stream",
     "text": [
      "\r",
      "Upgrading database; v5 -> v6: : 0it [00:00, ?it/s]"
     ]
    },
    {
     "name": "stdout",
     "output_type": "stream",
     "text": [
      "\r",
      "Upgrading database; v5 -> v6: : 0it [00:00, ?it/s]"
     ]
    },
    {
     "name": "stdout",
     "output_type": "stream",
     "text": [
      "\n",
      "\r",
      "  0%|          | 0/1 [00:00<?, ?it/s]"
     ]
    },
    {
     "name": "stdout",
     "output_type": "stream",
     "text": [
      "\r",
      "Upgrading database; v6 -> v7:   0%|          | 0/1 [00:00<?, ?it/s]"
     ]
    },
    {
     "name": "stdout",
     "output_type": "stream",
     "text": [
      "\r",
      "Upgrading database; v6 -> v7: 100%|██████████| 1/1 [00:00<00:00, 318.67it/s]"
     ]
    },
    {
     "name": "stdout",
     "output_type": "stream",
     "text": [
      "\n",
      "\r",
      "  0%|          | 0/1 [00:00<?, ?it/s]"
     ]
    },
    {
     "name": "stdout",
     "output_type": "stream",
     "text": [
      "\r",
      "Upgrading database; v7 -> v8:   0%|          | 0/1 [00:00<?, ?it/s]"
     ]
    },
    {
     "name": "stdout",
     "output_type": "stream",
     "text": [
      "\r",
      "Upgrading database; v7 -> v8: 100%|██████████| 1/1 [00:00<00:00, 994.15it/s]"
     ]
    },
    {
     "name": "stdout",
     "output_type": "stream",
     "text": [
      "\n",
      "\r",
      "  0%|          | 0/1 [00:00<?, ?it/s]"
     ]
    },
    {
     "name": "stdout",
     "output_type": "stream",
     "text": [
      "\r",
      "Upgrading database; v8 -> v9:   0%|          | 0/1 [00:00<?, ?it/s]"
     ]
    },
    {
     "name": "stdout",
     "output_type": "stream",
     "text": [
      "\r",
      "Upgrading database; v8 -> v9: 100%|██████████| 1/1 [00:00<00:00, 550.22it/s]"
     ]
    },
    {
     "name": "stdout",
     "output_type": "stream",
     "text": [
      "\n"
     ]
    }
   ],
   "source": [
    "initialise_database()\n",
    "exp = load_or_create_experiment(experiment_name='tutorial_exp', sample_name=\"no sample\")"
   ]
  },
  {
   "cell_type": "markdown",
   "metadata": {},
   "source": [
    "Here, we define a simple function to benchmark the time it takes to insert n points with either numeric or array data type.\n",
    "We will compare both the time used to call ``add_result`` and the time used for the full measurement."
   ]
  },
  {
   "cell_type": "code",
   "execution_count": 4,
   "metadata": {
    "execution": {
     "iopub.execute_input": "2020-12-14T10:11:22.740253Z",
     "iopub.status.busy": "2020-12-14T10:11:22.739526Z",
     "iopub.status.idle": "2020-12-14T10:11:22.742494Z",
     "shell.execute_reply": "2020-12-14T10:11:22.742852Z"
    }
   },
   "outputs": [],
   "source": [
    "def insert_data(paramtype, npoints, nreps=1):\n",
    "\n",
    "    meas = Measurement(exp=exp)\n",
    "\n",
    "    x1 = ManualParameter('x1')\n",
    "    x2 = ManualParameter('x2')\n",
    "    x3 = ManualParameter('x3')\n",
    "    y1 = ManualParameter('y1')\n",
    "    y2 = ManualParameter('y2')\n",
    "\n",
    "    meas.register_parameter(x1, paramtype=paramtype)\n",
    "    meas.register_parameter(x2, paramtype=paramtype)\n",
    "    meas.register_parameter(x3, paramtype=paramtype)\n",
    "    meas.register_parameter(y1, setpoints=[x1, x2, x3],\n",
    "                            paramtype=paramtype)\n",
    "    meas.register_parameter(y2, setpoints=[x1, x2, x3],\n",
    "                            paramtype=paramtype)\n",
    "    start = time.perf_counter()\n",
    "    with meas.run() as datasaver:\n",
    "        start_adding = time.perf_counter()\n",
    "        for i in range(nreps):\n",
    "            datasaver.add_result((x1, np.random.rand(npoints)),\n",
    "                                 (x2, np.random.rand(npoints)),\n",
    "                                 (x3, np.random.rand(npoints)),\n",
    "                                 (y1, np.random.rand(npoints)),\n",
    "                                 (y2, np.random.rand(npoints)))\n",
    "        stop_adding = time.perf_counter()\n",
    "        run_id = datasaver.run_id\n",
    "    stop = time.perf_counter()\n",
    "    tot_time = stop - start\n",
    "    add_time = stop_adding - start_adding\n",
    "    return tot_time, add_time, run_id"
   ]
  },
  {
   "cell_type": "markdown",
   "metadata": {},
   "source": [
    "## Comparison between numeric/array data and binary blob"
   ]
  },
  {
   "cell_type": "markdown",
   "metadata": {},
   "source": [
    "### Case1: Short experiment time"
   ]
  },
  {
   "cell_type": "code",
   "execution_count": 5,
   "metadata": {
    "execution": {
     "iopub.execute_input": "2020-12-14T10:11:22.748183Z",
     "iopub.status.busy": "2020-12-14T10:11:22.747109Z",
     "iopub.status.idle": "2020-12-14T10:11:23.436615Z",
     "shell.execute_reply": "2020-12-14T10:11:23.437111Z"
    }
   },
   "outputs": [
    {
     "name": "stdout",
     "output_type": "stream",
     "text": [
      "Starting experimental run with id: 1. \n",
      "Starting experimental run with id: 2. \n",
      "Starting experimental run with id: 3. \n",
      "Starting experimental run with id: 4. \n",
      "Starting experimental run with id: 5. \n",
      "Starting experimental run with id: 6. \n",
      "Starting experimental run with id: 7. \n"
     ]
    },
    {
     "name": "stdout",
     "output_type": "stream",
     "text": [
      "Starting experimental run with id: 8. \n",
      "Starting experimental run with id: 9. \n"
     ]
    },
    {
     "name": "stdout",
     "output_type": "stream",
     "text": [
      "Starting experimental run with id: 10. \n",
      "Starting experimental run with id: 11. \n"
     ]
    },
    {
     "name": "stdout",
     "output_type": "stream",
     "text": [
      "Starting experimental run with id: 12. \n",
      "Starting experimental run with id: 13. \n"
     ]
    },
    {
     "name": "stdout",
     "output_type": "stream",
     "text": [
      "Starting experimental run with id: 14. \n"
     ]
    }
   ],
   "source": [
    "sizes = [1,500,1000,2000,3000,4000,5000]\n",
    "t_numeric = []\n",
    "t_numeric_add = []\n",
    "t_array = []\n",
    "t_array_add = []\n",
    "for size in sizes:\n",
    "    tn, tna, run_id_n =  insert_data('numeric', size)\n",
    "    t_numeric.append(tn)\n",
    "    t_numeric_add.append(tna)\n",
    "\n",
    "    ta, taa, run_id_a =  insert_data('array', size)\n",
    "    t_array.append(ta)\n",
    "    t_array_add.append(taa)"
   ]
  },
  {
   "cell_type": "code",
   "execution_count": 6,
   "metadata": {
    "execution": {
     "iopub.execute_input": "2020-12-14T10:11:23.452035Z",
     "iopub.status.busy": "2020-12-14T10:11:23.451572Z",
     "iopub.status.idle": "2020-12-14T10:11:23.622189Z",
     "shell.execute_reply": "2020-12-14T10:11:23.622567Z"
    }
   },
   "outputs": [
    {
     "data": {
      "image/png": "[encoded data removed]",
      "text/plain": [
       "<Figure size 432x288 with 1 Axes>"
      ]
     },
     "metadata": {
      "needs_background": "light"
     },
     "output_type": "display_data"
    }
   ],
   "source": [
    "fig, ax = plt.subplots(1,1)\n",
    "ax.plot(sizes, t_numeric, 'o-', label='Inserting row-by-row')\n",
    "ax.plot(sizes, t_numeric_add, 'o-', label='Inserting row-by-row: add_result only')\n",
    "ax.plot(sizes, t_array, 'd-', label='Inserting as binary blob')\n",
    "ax.plot(sizes, t_array_add, 'd-', label='Inserting as binary blob: add_result only')\n",
    "ax.legend()\n",
    "ax.set_xlabel('Array length')\n",
    "ax.set_ylabel('Time (s)')\n",
    "fig.tight_layout()"
   ]
  },
  {
   "cell_type": "markdown",
   "metadata": {},
   "source": [
    "As shown in the latter figure, the time to setup and and close the experiment is approximately 0.4 sec. In case of small array sizes, the difference between inserting values of data as arrays and inserting them row-by-row is relatively unimportant. At larger array sizes, i.e. above 10000 points, the cost of writing data as individual datapoints starts to become important.\n"
   ]
  },
  {
   "cell_type": "markdown",
   "metadata": {},
   "source": [
    "### Case2: Long experiment time "
   ]
  },
  {
   "cell_type": "code",
   "execution_count": 7,
   "metadata": {
    "execution": {
     "iopub.execute_input": "2020-12-14T10:11:23.628087Z",
     "iopub.status.busy": "2020-12-14T10:11:23.627624Z",
     "iopub.status.idle": "2020-12-14T10:12:16.628485Z",
     "shell.execute_reply": "2020-12-14T10:12:16.628998Z"
    }
   },
   "outputs": [
    {
     "name": "stdout",
     "output_type": "stream",
     "text": [
      "Starting experimental run with id: 15. \n",
      "Starting experimental run with id: 16. \n",
      "Starting experimental run with id: 17. \n"
     ]
    },
    {
     "name": "stdout",
     "output_type": "stream",
     "text": [
      "Starting experimental run with id: 18. \n",
      "Starting experimental run with id: 19. \n"
     ]
    },
    {
     "name": "stdout",
     "output_type": "stream",
     "text": [
      "Starting experimental run with id: 20. \n"
     ]
    },
    {
     "name": "stdout",
     "output_type": "stream",
     "text": [
      "Starting experimental run with id: 21. \n"
     ]
    },
    {
     "name": "stdout",
     "output_type": "stream",
     "text": [
      "Starting experimental run with id: 22. \n"
     ]
    },
    {
     "name": "stdout",
     "output_type": "stream",
     "text": [
      "Starting experimental run with id: 23. \n"
     ]
    },
    {
     "name": "stdout",
     "output_type": "stream",
     "text": [
      "Starting experimental run with id: 24. \n"
     ]
    },
    {
     "name": "stdout",
     "output_type": "stream",
     "text": [
      "Starting experimental run with id: 25. \n"
     ]
    },
    {
     "name": "stdout",
     "output_type": "stream",
     "text": [
      "Starting experimental run with id: 26. \n"
     ]
    },
    {
     "name": "stdout",
     "output_type": "stream",
     "text": [
      "Starting experimental run with id: 27. \n"
     ]
    },
    {
     "name": "stdout",
     "output_type": "stream",
     "text": [
      "Starting experimental run with id: 28. \n"
     ]
    }
   ],
   "source": [
    "sizes = [1,500,1000,2000,3000,4000,5000]\n",
    "nreps = 100\n",
    "t_numeric = []\n",
    "t_numeric_add = []\n",
    "t_numeric_run_ids = []\n",
    "t_array = []\n",
    "t_array_add = []\n",
    "t_array_run_ids = []\n",
    "for size in sizes:\n",
    "    tn, tna, run_id_n =  insert_data('numeric', size, nreps=nreps)\n",
    "    t_numeric.append(tn)\n",
    "    t_numeric_add.append(tna)\n",
    "    t_numeric_run_ids.append(run_id_n)\n",
    "\n",
    "    ta, taa, run_id_a =  insert_data('array', size, nreps=nreps)\n",
    "    t_array.append(ta)\n",
    "    t_array_add.append(taa)\n",
    "    t_array_run_ids.append(run_id_a)"
   ]
  },
  {
   "cell_type": "code",
   "execution_count": 8,
   "metadata": {
    "execution": {
     "iopub.execute_input": "2020-12-14T10:12:16.664067Z",
     "iopub.status.busy": "2020-12-14T10:12:16.651357Z",
     "iopub.status.idle": "2020-12-14T10:12:16.809968Z",
     "shell.execute_reply": "2020-12-14T10:12:16.809553Z"
    },
    "scrolled": true
   },
   "outputs": [
    {
     "data": {
      "image/png": "[encoded data removed]",
      "text/plain": [
       "<Figure size 432x288 with 1 Axes>"
      ]
     },
     "metadata": {
      "needs_background": "light"
     },
     "output_type": "display_data"
    }
   ],
   "source": [
    "fig, ax = plt.subplots(1,1)\n",
    "ax.plot(sizes, t_numeric, 'o-', label='Inserting row-by-row')\n",
    "ax.plot(sizes, t_numeric_add, 'o-', label='Inserting row-by-row: add_result only')\n",
    "ax.plot(sizes, t_array, 'd-', label='Inserting as binary blob')\n",
    "ax.plot(sizes, t_array_add, 'd-', label='Inserting as binary blob: add_result only')\n",
    "ax.legend()\n",
    "ax.set_xlabel('Array length')\n",
    "ax.set_ylabel('Time (s)')\n",
    "fig.tight_layout()"
   ]
  },
  {
   "cell_type": "markdown",
   "metadata": {},
   "source": [
    "However, as we increase the length of the experiment, as seen here by repeating the insertion 100 times, we see a big difference between inserting values of the data row-by-row and inserting it as a binary blob."
   ]
  },
  {
   "cell_type": "markdown",
   "metadata": {},
   "source": [
    "## Loading the data "
   ]
  },
  {
   "cell_type": "code",
   "execution_count": 9,
   "metadata": {
    "execution": {
     "iopub.execute_input": "2020-12-14T10:12:16.813605Z",
     "iopub.status.busy": "2020-12-14T10:12:16.812796Z",
     "iopub.status.idle": "2020-12-14T10:12:16.816113Z",
     "shell.execute_reply": "2020-12-14T10:12:16.815728Z"
    }
   },
   "outputs": [],
   "source": [
    "from qcodes.dataset.data_set import load_by_id\n",
    "from qcodes.dataset.data_export import get_data_by_id"
   ]
  },
  {
   "cell_type": "markdown",
   "metadata": {},
   "source": [
    "As usual you can load the data by using the ``load_by_id`` function but you will notice that the different storage methods\n",
    "are reflected in shape of the data as it is retrieved. "
   ]
  },
  {
   "cell_type": "code",
   "execution_count": 10,
   "metadata": {
    "execution": {
     "iopub.execute_input": "2020-12-14T10:12:16.820163Z",
     "iopub.status.busy": "2020-12-14T10:12:16.819198Z",
     "iopub.status.idle": "2020-12-14T10:12:16.820611Z",
     "shell.execute_reply": "2020-12-14T10:12:16.821056Z"
    }
   },
   "outputs": [],
   "source": [
    "run_id_n = t_numeric_run_ids[0]\n",
    "run_id_a = t_array_run_ids[0]"
   ]
  },
  {
   "cell_type": "code",
   "execution_count": 11,
   "metadata": {
    "execution": {
     "iopub.execute_input": "2020-12-14T10:12:16.823875Z",
     "iopub.status.busy": "2020-12-14T10:12:16.823442Z",
     "iopub.status.idle": "2020-12-14T10:12:16.831304Z",
     "shell.execute_reply": "2020-12-14T10:12:16.831753Z"
    },
    "scrolled": true
   },
   "outputs": [
    {
     "data": {
      "text/plain": [
       "{'x1': {'x1': array([0.37879946, 0.37879946, 0.71840096, 0.71840096, 0.35585586,\n",
       "         0.35585586, 0.73389289, 0.73389289, 0.43984704, 0.43984704,\n",
       "         0.44873796, 0.44873796, 0.02791421, 0.02791421, 0.65960425,\n",
       "         0.65960425, 0.18179421, 0.18179421, 0.30517056, 0.30517056,\n",
       "         0.30745047, 0.30745047, 0.97417289, 0.97417289, 0.37749361,\n",
       "         0.37749361, 0.11847346, 0.11847346, 0.46866985, 0.46866985,\n",
       "         0.19812956, 0.19812956, 0.90196751, 0.90196751, 0.15054319,\n",
       "         0.15054319, 0.85353123, 0.85353123, 0.89029488, 0.89029488,\n",
       "         0.18592977, 0.18592977, 0.50229874, 0.50229874, 0.61688245,\n",
       "         0.61688245, 0.36543727, 0.36543727, 0.3351208 , 0.3351208 ,\n",
       "         0.36717221, 0.36717221, 0.49991764, 0.49991764, 0.63437397,\n",
       "         0.63437397, 0.2392688 , 0.2392688 , 0.22344191, 0.22344191,\n",
       "         0.55940292, 0.55940292, 0.69615331, 0.69615331, 0.82714267,\n",
       "         0.82714267, 0.95448456, 0.95448456, 0.79283064, 0.79283064,\n",
       "         0.32324219, 0.32324219, 0.00155864, 0.00155864, 0.95637273,\n",
       "         0.95637273, 0.83512127, 0.83512127, 0.65217948, 0.65217948,\n",
       "         0.23979302, 0.23979302, 0.69033052, 0.69033052, 0.82880286,\n",
       "         0.82880286, 0.7492307 , 0.7492307 , 0.87061586, 0.87061586,\n",
       "         0.8865446 , 0.8865446 , 0.87319696, 0.87319696, 0.06355719,\n",
       "         0.06355719, 0.67032578, 0.67032578, 0.38730475, 0.38730475,\n",
       "         0.57813211, 0.57813211, 0.4936232 , 0.4936232 , 0.59087677,\n",
       "         0.59087677, 0.79513303, 0.79513303, 0.06317541, 0.06317541,\n",
       "         0.46322183, 0.46322183, 0.50223629, 0.50223629, 0.28352825,\n",
       "         0.28352825, 0.1640875 , 0.1640875 , 0.81945554, 0.81945554,\n",
       "         0.9866724 , 0.9866724 , 0.80528454, 0.80528454, 0.69291981,\n",
       "         0.69291981, 0.62592439, 0.62592439, 0.71961282, 0.71961282,\n",
       "         0.25280519, 0.25280519, 0.4565088 , 0.4565088 , 0.68748588,\n",
       "         0.68748588, 0.04271142, 0.04271142, 0.09383559, 0.09383559,\n",
       "         0.88229339, 0.88229339, 0.98650293, 0.98650293, 0.41356397,\n",
       "         0.41356397, 0.89196309, 0.89196309, 0.56299816, 0.56299816,\n",
       "         0.14179551, 0.14179551, 0.96495911, 0.96495911, 0.60591119,\n",
       "         0.60591119, 0.87928226, 0.87928226, 0.67290628, 0.67290628,\n",
       "         0.16744228, 0.16744228, 0.75524424, 0.75524424, 0.61582587,\n",
       "         0.61582587, 0.07019581, 0.07019581, 0.57201946, 0.57201946,\n",
       "         0.42098859, 0.42098859, 0.59276132, 0.59276132, 0.63826162,\n",
       "         0.63826162, 0.29017097, 0.29017097, 0.15231062, 0.15231062,\n",
       "         0.84223483, 0.84223483, 0.31420842, 0.31420842, 0.18585739,\n",
       "         0.18585739, 0.88861368, 0.88861368, 0.27721223, 0.27721223,\n",
       "         0.75730494, 0.75730494, 0.3010587 , 0.3010587 , 0.84863766,\n",
       "         0.84863766, 0.80395122, 0.80395122, 0.54011217, 0.54011217])}}"
      ]
     },
     "execution_count": 1,
     "metadata": {},
     "output_type": "execute_result"
    }
   ],
   "source": [
    "ds = load_by_id(run_id_n)\n",
    "ds.get_parameter_data('x1')"
   ]
  },
  {
   "cell_type": "markdown",
   "metadata": {},
   "source": [
    "And a dataset stored as binary arrays"
   ]
  },
  {
   "cell_type": "code",
   "execution_count": 12,
   "metadata": {
    "execution": {
     "iopub.execute_input": "2020-12-14T10:12:16.834639Z",
     "iopub.status.busy": "2020-12-14T10:12:16.834205Z",
     "iopub.status.idle": "2020-12-14T10:12:16.880680Z",
     "shell.execute_reply": "2020-12-14T10:12:16.881225Z"
    },
    "scrolled": true
   },
   "outputs": [
    {
     "data": {
      "text/plain": [
       "{'x1': {'x1': array([[0.83260379],\n",
       "         [0.83260379],\n",
       "         [0.59457549],\n",
       "         [0.59457549],\n",
       "         [0.1691925 ],\n",
       "         [0.1691925 ],\n",
       "         [0.71631163],\n",
       "         [0.71631163],\n",
       "         [0.68272045],\n",
       "         [0.68272045],\n",
       "         [0.67063688],\n",
       "         [0.67063688],\n",
       "         [0.82200357],\n",
       "         [0.82200357],\n",
       "         [0.44304508],\n",
       "         [0.44304508],\n",
       "         [0.44711842],\n",
       "         [0.44711842],\n",
       "         [0.22104987],\n",
       "         [0.22104987],\n",
       "         [0.58877286],\n",
       "         [0.58877286],\n",
       "         [0.21032953],\n",
       "         [0.21032953],\n",
       "         [0.482499  ],\n",
       "         [0.482499  ],\n",
       "         [0.59447788],\n",
       "         [0.59447788],\n",
       "         [0.41312616],\n",
       "         [0.41312616],\n",
       "         [0.86137341],\n",
       "         [0.86137341],\n",
       "         [0.91770869],\n",
       "         [0.91770869],\n",
       "         [0.5812906 ],\n",
       "         [0.5812906 ],\n",
       "         [0.57993477],\n",
       "         [0.57993477],\n",
       "         [0.49128621],\n",
       "         [0.49128621],\n",
       "         [0.98085962],\n",
       "         [0.98085962],\n",
       "         [0.248335  ],\n",
       "         [0.248335  ],\n",
       "         [0.01805325],\n",
       "         [0.01805325],\n",
       "         [0.82911491],\n",
       "         [0.82911491],\n",
       "         [0.3973101 ],\n",
       "         [0.3973101 ],\n",
       "         [0.06259518],\n",
       "         [0.06259518],\n",
       "         [0.42738825],\n",
       "         [0.42738825],\n",
       "         [0.23712648],\n",
       "         [0.23712648],\n",
       "         [0.57523556],\n",
       "         [0.57523556],\n",
       "         [0.64055955],\n",
       "         [0.64055955],\n",
       "         [0.49484587],\n",
       "         [0.49484587],\n",
       "         [0.99963309],\n",
       "         [0.99963309],\n",
       "         [0.45633378],\n",
       "         [0.45633378],\n",
       "         [0.82776792],\n",
       "         [0.82776792],\n",
       "         [0.46750243],\n",
       "         [0.46750243],\n",
       "         [0.95625497],\n",
       "         [0.95625497],\n",
       "         [0.24152447],\n",
       "         [0.24152447],\n",
       "         [0.67269501],\n",
       "         [0.67269501],\n",
       "         [0.93745653],\n",
       "         [0.93745653],\n",
       "         [0.98080269],\n",
       "         [0.98080269],\n",
       "         [0.22680897],\n",
       "         [0.22680897],\n",
       "         [0.00893365],\n",
       "         [0.00893365],\n",
       "         [0.48810203],\n",
       "         [0.48810203],\n",
       "         [0.18233471],\n",
       "         [0.18233471],\n",
       "         [0.67162027],\n",
       "         [0.67162027],\n",
       "         [0.66385702],\n",
       "         [0.66385702],\n",
       "         [0.87388655],\n",
       "         [0.87388655],\n",
       "         [0.67109992],\n",
       "         [0.67109992],\n",
       "         [0.93576397],\n",
       "         [0.93576397],\n",
       "         [0.58074866],\n",
       "         [0.58074866],\n",
       "         [0.38954901],\n",
       "         [0.38954901],\n",
       "         [0.51352405],\n",
       "         [0.51352405],\n",
       "         [0.97019843],\n",
       "         [0.97019843],\n",
       "         [0.74784772],\n",
       "         [0.74784772],\n",
       "         [0.24634081],\n",
       "         [0.24634081],\n",
       "         [0.90941534],\n",
       "         [0.90941534],\n",
       "         [0.66110123],\n",
       "         [0.66110123],\n",
       "         [0.68313712],\n",
       "         [0.68313712],\n",
       "         [0.34886155],\n",
       "         [0.34886155],\n",
       "         [0.54371253],\n",
       "         [0.54371253],\n",
       "         [0.01826637],\n",
       "         [0.01826637],\n",
       "         [0.25431145],\n",
       "         [0.25431145],\n",
       "         [0.78089281],\n",
       "         [0.78089281],\n",
       "         [0.42033479],\n",
       "         [0.42033479],\n",
       "         [0.30921114],\n",
       "         [0.30921114],\n",
       "         [0.18361723],\n",
       "         [0.18361723],\n",
       "         [0.75407548],\n",
       "         [0.75407548],\n",
       "         [0.42144816],\n",
       "         [0.42144816],\n",
       "         [0.09139491],\n",
       "         [0.09139491],\n",
       "         [0.57226851],\n",
       "         [0.57226851],\n",
       "         [0.50359075],\n",
       "         [0.50359075],\n",
       "         [0.0891074 ],\n",
       "         [0.0891074 ],\n",
       "         [0.5958697 ],\n",
       "         [0.5958697 ],\n",
       "         [0.75381618],\n",
       "         [0.75381618],\n",
       "         [0.69632521],\n",
       "         [0.69632521],\n",
       "         [0.01686754],\n",
       "         [0.01686754],\n",
       "         [0.98428893],\n",
       "         [0.98428893],\n",
       "         [0.36795269],\n",
       "         [0.36795269],\n",
       "         [0.8370141 ],\n",
       "         [0.8370141 ],\n",
       "         [0.00366603],\n",
       "         [0.00366603],\n",
       "         [0.79838834],\n",
       "         [0.79838834],\n",
       "         [0.45221067],\n",
       "         [0.45221067],\n",
       "         [0.03807557],\n",
       "         [0.03807557],\n",
       "         [0.84047225],\n",
       "         [0.84047225],\n",
       "         [0.28542279],\n",
       "         [0.28542279],\n",
       "         [0.22635258],\n",
       "         [0.22635258],\n",
       "         [0.51711005],\n",
       "         [0.51711005],\n",
       "         [0.53616853],\n",
       "         [0.53616853],\n",
       "         [0.01241796],\n",
       "         [0.01241796],\n",
       "         [0.31097551],\n",
       "         [0.31097551],\n",
       "         [0.89839229],\n",
       "         [0.89839229],\n",
       "         [0.95726685],\n",
       "         [0.95726685],\n",
       "         [0.2349807 ],\n",
       "         [0.2349807 ],\n",
       "         [0.86611199],\n",
       "         [0.86611199],\n",
       "         [0.32115246],\n",
       "         [0.32115246],\n",
       "         [0.1359839 ],\n",
       "         [0.1359839 ],\n",
       "         [0.42227177],\n",
       "         [0.42227177],\n",
       "         [0.54115281],\n",
       "         [0.54115281],\n",
       "         [0.54862598],\n",
       "         [0.54862598],\n",
       "         [0.33297145],\n",
       "         [0.33297145]])}}"
      ]
     },
     "execution_count": 1,
     "metadata": {},
     "output_type": "execute_result"
    }
   ],
   "source": [
    "ds = load_by_id(run_id_a)\n",
    "ds.get_parameter_data('x1')"
   ]
  },
  {
   "cell_type": "code",
   "execution_count": null,
   "metadata": {},
   "outputs": [],
   "source": []
  }
 ],
 "metadata": {
  "kernelspec": {
   "display_name": "Python 3",
   "language": "python",
   "name": "python3"
  },
  "language_info": {
   "codemirror_mode": {
    "name": "ipython",
    "version": 3
   },
   "file_extension": ".py",
   "mimetype": "text/x-python",
   "name": "python",
   "nbconvert_exporter": "python",
   "pygments_lexer": "ipython3",
   "version": "3.7.9"
  },
  "nbsphinx": {
   "timeout": 600
  },
  "toc": {
   "base_numbering": 1,
   "nav_menu": {},
   "number_sections": true,
   "sideBar": true,
   "skip_h1_title": false,
   "title_cell": "Table of Contents",
   "title_sidebar": "Contents",
   "toc_cell": false,
   "toc_position": {},
   "toc_section_display": true,
   "toc_window_display": false
  },
  "varInspector": {
   "cols": {
    "lenName": 16,
    "lenType": 16,
    "lenVar": 40
   },
   "kernels_config": {
    "python": {
     "delete_cmd_postfix": "",
     "delete_cmd_prefix": "del ",
     "library": "var_list.py",
     "varRefreshCmd": "print(var_dic_list())"
    },
    "r": {
     "delete_cmd_postfix": ") ",
     "delete_cmd_prefix": "rm(",
     "library": "var_list.r",
     "varRefreshCmd": "cat(var_dic_list()) "
    }
   },
   "types_to_exclude": [
    "module",
    "function",
    "builtin_function_or_method",
    "instance",
    "_Feature"
   ],
   "window_display": false
  }
 },
 "nbformat": 4,
 "nbformat_minor": 2
}
