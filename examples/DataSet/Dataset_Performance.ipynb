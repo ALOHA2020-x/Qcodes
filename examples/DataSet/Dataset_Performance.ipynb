{
 "cells": [
  {
   "cell_type": "markdown",
   "metadata": {},
   "source": [
    "# DataSet Performance\n",
    "\n",
    "This notebook shows the trade-off between inserting data into a database row-by-row and as binary blobs. Inserting the data row-by-row means that we have direct access to all the data and may perform queries directly on the values of the data. On the other hand, as we shall see, this is much slower than inserting the data directly as binary blobs."
   ]
  },
  {
   "cell_type": "markdown",
   "metadata": {},
   "source": [
    "First, we choose a new location for the database to ensure that we don't add a bunch of benchmarking data to the default one."
   ]
  },
  {
   "cell_type": "code",
   "execution_count": 1,
   "metadata": {},
   "outputs": [
    {
     "name": "stdout",
     "output_type": "stream",
     "text": [
      "Logging hadn't been started.\n",
      "Activating auto-logging. Current session state plus future input saved.\n",
      "Filename       : /home/vsts/.qcodes/logs/command_history.log\n",
      "Mode           : append\n",
      "Output logging : True\n",
      "Raw input log  : False\n",
      "Timestamping   : True\n",
      "State          : active\n"
     ]
    },
    {
     "name": "stdout",
     "output_type": "stream",
     "text": [
      "Qcodes Logfile : /home/vsts/.qcodes/logs/200907-18680-qcodes.log\n"
     ]
    }
   ],
   "source": [
    "import os\n",
    "cwd = os.getcwd()\n",
    "import qcodes as qc\n",
    "qc.config[\"core\"][\"db_location\"] = os.path.join(cwd, 'testing.db')\n"
   ]
  },
  {
   "cell_type": "code",
   "execution_count": 2,
   "metadata": {},
   "outputs": [],
   "source": [
    "%matplotlib inline\n",
    "import time\n",
    "import matplotlib.pyplot as plt\n",
    "import numpy as np\n",
    "\n",
    "import qcodes as qc\n",
    "from qcodes.instrument.parameter import ManualParameter\n",
    "from qcodes.dataset.experiment_container import (Experiment,\n",
    "                                                 load_last_experiment,\n",
    "                                                 new_experiment)\n",
    "from qcodes.dataset.sqlite.database import initialise_database\n",
    "from qcodes import load_or_create_experiment\n",
    "from qcodes.dataset.measurements import Measurement"
   ]
  },
  {
   "cell_type": "code",
   "execution_count": 3,
   "metadata": {},
   "outputs": [
    {
     "name": "stdout",
     "output_type": "stream",
     "text": [
      "\r",
      "0it [00:00, ?it/s]"
     ]
    },
    {
     "name": "stdout",
     "output_type": "stream",
     "text": [
      "\r",
      "Upgrading database; v0 -> v1: : 0it [00:00, ?it/s]"
     ]
    },
    {
     "name": "stdout",
     "output_type": "stream",
     "text": [
      "\r",
      "Upgrading database; v0 -> v1: : 0it [00:00, ?it/s]"
     ]
    },
    {
     "name": "stdout",
     "output_type": "stream",
     "text": [
      "\n",
      "\r",
      "  0%|          | 0/1 [00:00<?, ?it/s]"
     ]
    },
    {
     "name": "stdout",
     "output_type": "stream",
     "text": [
      "\r",
      "Upgrading database; v1 -> v2:   0%|          | 0/1 [00:00<?, ?it/s]"
     ]
    },
    {
     "name": "stdout",
     "output_type": "stream",
     "text": [
      "\r",
      "Upgrading database; v1 -> v2: 100%|██████████| 1/1 [00:00<00:00, 829.08it/s]"
     ]
    },
    {
     "name": "stdout",
     "output_type": "stream",
     "text": [
      "\n",
      "\r",
      "0it [00:00, ?it/s]"
     ]
    },
    {
     "name": "stdout",
     "output_type": "stream",
     "text": [
      "\r",
      "Upgrading database; v2 -> v3: : 0it [00:00, ?it/s]"
     ]
    },
    {
     "name": "stdout",
     "output_type": "stream",
     "text": [
      "\r",
      "Upgrading database; v2 -> v3: : 0it [00:00, ?it/s]"
     ]
    },
    {
     "name": "stdout",
     "output_type": "stream",
     "text": [
      "\n",
      "\r",
      "0it [00:00, ?it/s]"
     ]
    },
    {
     "name": "stdout",
     "output_type": "stream",
     "text": [
      "\r",
      "Upgrading database; v3 -> v4: : 0it [00:00, ?it/s]"
     ]
    },
    {
     "name": "stdout",
     "output_type": "stream",
     "text": [
      "\r",
      "Upgrading database; v3 -> v4: : 0it [00:00, ?it/s]"
     ]
    },
    {
     "name": "stdout",
     "output_type": "stream",
     "text": [
      "\n",
      "\r",
      "  0%|          | 0/1 [00:00<?, ?it/s]"
     ]
    },
    {
     "name": "stdout",
     "output_type": "stream",
     "text": [
      "\r",
      "Upgrading database; v4 -> v5:   0%|          | 0/1 [00:00<?, ?it/s]"
     ]
    },
    {
     "name": "stdout",
     "output_type": "stream",
     "text": [
      "\r",
      "Upgrading database; v4 -> v5: 100%|██████████| 1/1 [00:00<00:00, 735.20it/s]"
     ]
    },
    {
     "name": "stdout",
     "output_type": "stream",
     "text": [
      "\n",
      "\r",
      "0it [00:00, ?it/s]"
     ]
    },
    {
     "name": "stdout",
     "output_type": "stream",
     "text": [
      "\r",
      "Upgrading database; v5 -> v6: : 0it [00:00, ?it/s]"
     ]
    },
    {
     "name": "stdout",
     "output_type": "stream",
     "text": [
      "\r",
      "Upgrading database; v5 -> v6: : 0it [00:00, ?it/s]"
     ]
    },
    {
     "name": "stdout",
     "output_type": "stream",
     "text": [
      "\n",
      "\r",
      "  0%|          | 0/1 [00:00<?, ?it/s]"
     ]
    },
    {
     "name": "stdout",
     "output_type": "stream",
     "text": [
      "\r",
      "Upgrading database; v6 -> v7:   0%|          | 0/1 [00:00<?, ?it/s]"
     ]
    },
    {
     "name": "stdout",
     "output_type": "stream",
     "text": [
      "\r",
      "Upgrading database; v6 -> v7: 100%|██████████| 1/1 [00:00<00:00, 332.62it/s]"
     ]
    },
    {
     "name": "stdout",
     "output_type": "stream",
     "text": [
      "\n",
      "\r",
      "  0%|          | 0/1 [00:00<?, ?it/s]"
     ]
    },
    {
     "name": "stdout",
     "output_type": "stream",
     "text": [
      "\r",
      "Upgrading database; v7 -> v8:   0%|          | 0/1 [00:00<?, ?it/s]"
     ]
    },
    {
     "name": "stdout",
     "output_type": "stream",
     "text": [
      "\r",
      "Upgrading database; v7 -> v8: 100%|██████████| 1/1 [00:00<00:00, 632.82it/s]"
     ]
    },
    {
     "name": "stdout",
     "output_type": "stream",
     "text": [
      "\n",
      "\r",
      "  0%|          | 0/1 [00:00<?, ?it/s]"
     ]
    },
    {
     "name": "stdout",
     "output_type": "stream",
     "text": [
      "\r",
      "Upgrading database; v8 -> v9:   0%|          | 0/1 [00:00<?, ?it/s]"
     ]
    },
    {
     "name": "stdout",
     "output_type": "stream",
     "text": [
      "\r",
      "Upgrading database; v8 -> v9: 100%|██████████| 1/1 [00:00<00:00, 845.97it/s]"
     ]
    },
    {
     "name": "stdout",
     "output_type": "stream",
     "text": [
      "\n"
     ]
    }
   ],
   "source": [
    "initialise_database()\n",
    "exp = load_or_create_experiment(experiment_name='tutorial_exp', sample_name=\"no sample\")"
   ]
  },
  {
   "cell_type": "markdown",
   "metadata": {},
   "source": [
    "Here, we define a simple function to benchmark the time it takes to insert n points with either numeric or array data type.\n",
    "We will compare both the time used to call ``add_result`` and the time used for the full measurement."
   ]
  },
  {
   "cell_type": "code",
   "execution_count": 4,
   "metadata": {},
   "outputs": [],
   "source": [
    "def insert_data(paramtype, npoints, nreps=1):\n",
    "\n",
    "    meas = Measurement(exp=exp)\n",
    "\n",
    "    x1 = ManualParameter('x1')\n",
    "    x2 = ManualParameter('x2')\n",
    "    x3 = ManualParameter('x3')\n",
    "    y1 = ManualParameter('y1')\n",
    "    y2 = ManualParameter('y2')\n",
    "\n",
    "    meas.register_parameter(x1, paramtype=paramtype)\n",
    "    meas.register_parameter(x2, paramtype=paramtype)\n",
    "    meas.register_parameter(x3, paramtype=paramtype)\n",
    "    meas.register_parameter(y1, setpoints=[x1, x2, x3],\n",
    "                            paramtype=paramtype)\n",
    "    meas.register_parameter(y2, setpoints=[x1, x2, x3],\n",
    "                            paramtype=paramtype)\n",
    "    start = time.perf_counter()\n",
    "    with meas.run() as datasaver:\n",
    "        start_adding = time.perf_counter()\n",
    "        for i in range(nreps):\n",
    "            datasaver.add_result((x1, np.random.rand(npoints)),\n",
    "                                 (x2, np.random.rand(npoints)),\n",
    "                                 (x3, np.random.rand(npoints)),\n",
    "                                 (y1, np.random.rand(npoints)),\n",
    "                                 (y2, np.random.rand(npoints)))\n",
    "        stop_adding = time.perf_counter()\n",
    "        run_id = datasaver.run_id\n",
    "    stop = time.perf_counter()\n",
    "    tot_time = stop - start\n",
    "    add_time = stop_adding - start_adding\n",
    "    return tot_time, add_time, run_id"
   ]
  },
  {
   "cell_type": "markdown",
   "metadata": {},
   "source": [
    "## Comparison between numeric/array data and binary blob"
   ]
  },
  {
   "cell_type": "markdown",
   "metadata": {},
   "source": [
    "### Case1: Short experiment time"
   ]
  },
  {
   "cell_type": "code",
   "execution_count": 5,
   "metadata": {},
   "outputs": [
    {
     "name": "stdout",
     "output_type": "stream",
     "text": [
      "Starting experimental run with id: 1. \n",
      "Starting experimental run with id: 2. \n",
      "Starting experimental run with id: 3. \n"
     ]
    },
    {
     "name": "stdout",
     "output_type": "stream",
     "text": [
      "Starting experimental run with id: 4. \n"
     ]
    },
    {
     "name": "stdout",
     "output_type": "stream",
     "text": [
      "Starting experimental run with id: 5. \n"
     ]
    },
    {
     "name": "stdout",
     "output_type": "stream",
     "text": [
      "Starting experimental run with id: 6. \n"
     ]
    },
    {
     "name": "stdout",
     "output_type": "stream",
     "text": [
      "Starting experimental run with id: 7. \n",
      "Starting experimental run with id: 8. \n",
      "Starting experimental run with id: 9. \n"
     ]
    },
    {
     "name": "stdout",
     "output_type": "stream",
     "text": [
      "Starting experimental run with id: 10. \n",
      "Starting experimental run with id: 11. \n",
      "Starting experimental run with id: 12. \n",
      "Starting experimental run with id: 13. \n"
     ]
    },
    {
     "name": "stdout",
     "output_type": "stream",
     "text": [
      "Starting experimental run with id: 14. \n"
     ]
    }
   ],
   "source": [
    "sizes = [1,500,1000,2000,3000,4000,5000]\n",
    "t_numeric = []\n",
    "t_numeric_add = []\n",
    "t_array = []\n",
    "t_array_add = []\n",
    "for size in sizes:\n",
    "    tn, tna, run_id_n =  insert_data('numeric', size)\n",
    "    t_numeric.append(tn)\n",
    "    t_numeric_add.append(tna)\n",
    "\n",
    "    ta, taa, run_id_a =  insert_data('array', size)\n",
    "    t_array.append(ta)\n",
    "    t_array_add.append(taa)"
   ]
  },
  {
   "cell_type": "code",
   "execution_count": 6,
   "metadata": {},
   "outputs": [
    {
     "data": {
      "image/png": "[encoded data removed]",
      "text/plain": [
       "<Figure size 432x288 with 1 Axes>"
      ]
     },
     "metadata": {
      "needs_background": "light"
     },
     "output_type": "display_data"
    }
   ],
   "source": [
    "fig, ax = plt.subplots(1,1)\n",
    "ax.plot(sizes, t_numeric, 'o-', label='Inserting row-by-row')\n",
    "ax.plot(sizes, t_numeric_add, 'o-', label='Inserting row-by-row: add_result only')\n",
    "ax.plot(sizes, t_array, 'd-', label='Inserting as binary blob')\n",
    "ax.plot(sizes, t_array_add, 'd-', label='Inserting as binary blob: add_result only')\n",
    "ax.legend()\n",
    "ax.set_xlabel('Array length')\n",
    "ax.set_ylabel('Time (s)')\n",
    "fig.tight_layout()"
   ]
  },
  {
   "cell_type": "markdown",
   "metadata": {},
   "source": [
    "As shown in the latter figure, the time to setup and and close the experiment is approximately 0.4 sec. In case of small array sizes, the difference between inserting values of data as arrays and inserting them row-by-row is relatively unimportant. At larger array sizes, i.e. above 10000 points, the cost of writing data as individual datapoints starts to become important.\n"
   ]
  },
  {
   "cell_type": "markdown",
   "metadata": {},
   "source": [
    "### Case2: Long experiment time "
   ]
  },
  {
   "cell_type": "code",
   "execution_count": 7,
   "metadata": {},
   "outputs": [
    {
     "name": "stdout",
     "output_type": "stream",
     "text": [
      "Starting experimental run with id: 15. \n",
      "Starting experimental run with id: 16. \n",
      "Starting experimental run with id: 17. \n"
     ]
    },
    {
     "name": "stdout",
     "output_type": "stream",
     "text": [
      "Starting experimental run with id: 18. \n",
      "Starting experimental run with id: 19. \n"
     ]
    },
    {
     "name": "stdout",
     "output_type": "stream",
     "text": [
      "Starting experimental run with id: 20. \n"
     ]
    },
    {
     "name": "stdout",
     "output_type": "stream",
     "text": [
      "Starting experimental run with id: 21. \n"
     ]
    },
    {
     "name": "stdout",
     "output_type": "stream",
     "text": [
      "Starting experimental run with id: 22. \n"
     ]
    },
    {
     "name": "stdout",
     "output_type": "stream",
     "text": [
      "Starting experimental run with id: 23. \n"
     ]
    },
    {
     "name": "stdout",
     "output_type": "stream",
     "text": [
      "Starting experimental run with id: 24. \n"
     ]
    },
    {
     "name": "stdout",
     "output_type": "stream",
     "text": [
      "Starting experimental run with id: 25. \n"
     ]
    },
    {
     "name": "stdout",
     "output_type": "stream",
     "text": [
      "Starting experimental run with id: 26. \n"
     ]
    },
    {
     "name": "stdout",
     "output_type": "stream",
     "text": [
      "Starting experimental run with id: 27. \n"
     ]
    },
    {
     "name": "stdout",
     "output_type": "stream",
     "text": [
      "Starting experimental run with id: 28. \n"
     ]
    }
   ],
   "source": [
    "sizes = [1,500,1000,2000,3000,4000,5000]\n",
    "nreps = 100\n",
    "t_numeric = []\n",
    "t_numeric_add = []\n",
    "t_numeric_run_ids = []\n",
    "t_array = []\n",
    "t_array_add = []\n",
    "t_array_run_ids = []\n",
    "for size in sizes:\n",
    "    tn, tna, run_id_n =  insert_data('numeric', size, nreps=nreps)\n",
    "    t_numeric.append(tn)\n",
    "    t_numeric_add.append(tna)\n",
    "    t_numeric_run_ids.append(run_id_n)\n",
    "\n",
    "    ta, taa, run_id_a =  insert_data('array', size, nreps=nreps)\n",
    "    t_array.append(ta)\n",
    "    t_array_add.append(taa)\n",
    "    t_array_run_ids.append(run_id_a)"
   ]
  },
  {
   "cell_type": "code",
   "execution_count": 8,
   "metadata": {
    "scrolled": true
   },
   "outputs": [
    {
     "data": {
      "image/png": "[encoded data removed]",
      "text/plain": [
       "<Figure size 432x288 with 1 Axes>"
      ]
     },
     "metadata": {
      "needs_background": "light"
     },
     "output_type": "display_data"
    }
   ],
   "source": [
    "fig, ax = plt.subplots(1,1)\n",
    "ax.plot(sizes, t_numeric, 'o-', label='Inserting row-by-row')\n",
    "ax.plot(sizes, t_numeric_add, 'o-', label='Inserting row-by-row: add_result only')\n",
    "ax.plot(sizes, t_array, 'd-', label='Inserting as binary blob')\n",
    "ax.plot(sizes, t_array_add, 'd-', label='Inserting as binary blob: add_result only')\n",
    "ax.legend()\n",
    "ax.set_xlabel('Array length')\n",
    "ax.set_ylabel('Time (s)')\n",
    "fig.tight_layout()"
   ]
  },
  {
   "cell_type": "markdown",
   "metadata": {},
   "source": [
    "However, as we increase the length of the experiment, as seen here by repeating the insertion 100 times, we see a big difference between inserting values of the data row-by-row and inserting it as a binary blob."
   ]
  },
  {
   "cell_type": "markdown",
   "metadata": {},
   "source": [
    "## Loading the data "
   ]
  },
  {
   "cell_type": "code",
   "execution_count": 9,
   "metadata": {},
   "outputs": [],
   "source": [
    "from qcodes.dataset.data_set import load_by_id\n",
    "from qcodes.dataset.data_export import get_data_by_id"
   ]
  },
  {
   "cell_type": "markdown",
   "metadata": {},
   "source": [
    "As usual you can load the data by using the ``load_by_id`` function but you will notice that the different storage methods\n",
    "are reflected in shape of the data as it is retrieved. "
   ]
  },
  {
   "cell_type": "code",
   "execution_count": 10,
   "metadata": {},
   "outputs": [],
   "source": [
    "run_id_n = t_numeric_run_ids[0]\n",
    "run_id_a = t_array_run_ids[0]"
   ]
  },
  {
   "cell_type": "code",
   "execution_count": 11,
   "metadata": {
    "scrolled": true
   },
   "outputs": [
    {
     "data": {
      "text/plain": [
       "{'x1': {'x1': array([0.20379644, 0.20379644, 0.30113577, 0.30113577, 0.06843704,\n",
       "         0.06843704, 0.66377625, 0.66377625, 0.58996898, 0.58996898,\n",
       "         0.88921864, 0.88921864, 0.15688541, 0.15688541, 0.08807761,\n",
       "         0.08807761, 0.39269311, 0.39269311, 0.89857216, 0.89857216,\n",
       "         0.60696052, 0.60696052, 0.56834521, 0.56834521, 0.91949207,\n",
       "         0.91949207, 0.97919976, 0.97919976, 0.90137634, 0.90137634,\n",
       "         0.63268787, 0.63268787, 0.1062441 , 0.1062441 , 0.26198306,\n",
       "         0.26198306, 0.53606437, 0.53606437, 0.97939278, 0.97939278,\n",
       "         0.39969879, 0.39969879, 0.83023666, 0.83023666, 0.86411539,\n",
       "         0.86411539, 0.03305464, 0.03305464, 0.54646889, 0.54646889,\n",
       "         0.92235704, 0.92235704, 0.99057623, 0.99057623, 0.67508312,\n",
       "         0.67508312, 0.84267987, 0.84267987, 0.69831961, 0.69831961,\n",
       "         0.14407498, 0.14407498, 0.51999065, 0.51999065, 0.23307295,\n",
       "         0.23307295, 0.5977396 , 0.5977396 , 0.61596996, 0.61596996,\n",
       "         0.43413364, 0.43413364, 0.32082068, 0.32082068, 0.15403764,\n",
       "         0.15403764, 0.42358193, 0.42358193, 0.7775859 , 0.7775859 ,\n",
       "         0.18898427, 0.18898427, 0.39294084, 0.39294084, 0.28229828,\n",
       "         0.28229828, 0.92836937, 0.92836937, 0.84421315, 0.84421315,\n",
       "         0.01096677, 0.01096677, 0.57304648, 0.57304648, 0.69973942,\n",
       "         0.69973942, 0.13561752, 0.13561752, 0.5365769 , 0.5365769 ,\n",
       "         0.95532537, 0.95532537, 0.68481658, 0.68481658, 0.61336437,\n",
       "         0.61336437, 0.97419938, 0.97419938, 0.35149169, 0.35149169,\n",
       "         0.74783443, 0.74783443, 0.08151646, 0.08151646, 0.5186101 ,\n",
       "         0.5186101 , 0.5724342 , 0.5724342 , 0.35798384, 0.35798384,\n",
       "         0.32735953, 0.32735953, 0.93446958, 0.93446958, 0.31521989,\n",
       "         0.31521989, 0.54838233, 0.54838233, 0.10987967, 0.10987967,\n",
       "         0.41145615, 0.41145615, 0.73248378, 0.73248378, 0.52219563,\n",
       "         0.52219563, 0.06652257, 0.06652257, 0.3304694 , 0.3304694 ,\n",
       "         0.89095577, 0.89095577, 0.83176884, 0.83176884, 0.00230343,\n",
       "         0.00230343, 0.9051913 , 0.9051913 , 0.25288902, 0.25288902,\n",
       "         0.28116796, 0.28116796, 0.03304539, 0.03304539, 0.67244481,\n",
       "         0.67244481, 0.19266276, 0.19266276, 0.25182781, 0.25182781,\n",
       "         0.98857651, 0.98857651, 0.3099278 , 0.3099278 , 0.4527361 ,\n",
       "         0.4527361 , 0.7741139 , 0.7741139 , 0.45975578, 0.45975578,\n",
       "         0.78314182, 0.78314182, 0.69042433, 0.69042433, 0.37831632,\n",
       "         0.37831632, 0.09364097, 0.09364097, 0.86811425, 0.86811425,\n",
       "         0.88087719, 0.88087719, 0.70385257, 0.70385257, 0.13187358,\n",
       "         0.13187358, 0.12978476, 0.12978476, 0.23063655, 0.23063655,\n",
       "         0.16064655, 0.16064655, 0.16915792, 0.16915792, 0.63238402,\n",
       "         0.63238402, 0.24669085, 0.24669085, 0.65555394, 0.65555394])}}"
      ]
     },
     "execution_count": 11,
     "metadata": {},
     "output_type": "execute_result"
    }
   ],
   "source": [
    "ds = load_by_id(run_id_n)\n",
    "ds.get_parameter_data('x1')"
   ]
  },
  {
   "cell_type": "markdown",
   "metadata": {},
   "source": [
    "And a dataset stored as binary arrays"
   ]
  },
  {
   "cell_type": "code",
   "execution_count": 12,
   "metadata": {
    "scrolled": true
   },
   "outputs": [
    {
     "data": {
      "text/plain": [
       "{'x1': {'x1': array([[0.39256345],\n",
       "         [0.39256345],\n",
       "         [0.15551993],\n",
       "         [0.15551993],\n",
       "         [0.65544041],\n",
       "         [0.65544041],\n",
       "         [0.9457608 ],\n",
       "         [0.9457608 ],\n",
       "         [0.42244258],\n",
       "         [0.42244258],\n",
       "         [0.37804546],\n",
       "         [0.37804546],\n",
       "         [0.05259432],\n",
       "         [0.05259432],\n",
       "         [0.89886783],\n",
       "         [0.89886783],\n",
       "         [0.82769308],\n",
       "         [0.82769308],\n",
       "         [0.28516246],\n",
       "         [0.28516246],\n",
       "         [0.70639918],\n",
       "         [0.70639918],\n",
       "         [0.39649001],\n",
       "         [0.39649001],\n",
       "         [0.03375639],\n",
       "         [0.03375639],\n",
       "         [0.85373833],\n",
       "         [0.85373833],\n",
       "         [0.53444643],\n",
       "         [0.53444643],\n",
       "         [0.95544752],\n",
       "         [0.95544752],\n",
       "         [0.45883313],\n",
       "         [0.45883313],\n",
       "         [0.19641055],\n",
       "         [0.19641055],\n",
       "         [0.9630305 ],\n",
       "         [0.9630305 ],\n",
       "         [0.61416259],\n",
       "         [0.61416259],\n",
       "         [0.39439649],\n",
       "         [0.39439649],\n",
       "         [0.90147914],\n",
       "         [0.90147914],\n",
       "         [0.82685751],\n",
       "         [0.82685751],\n",
       "         [0.68522599],\n",
       "         [0.68522599],\n",
       "         [0.55422515],\n",
       "         [0.55422515],\n",
       "         [0.25247091],\n",
       "         [0.25247091],\n",
       "         [0.69015145],\n",
       "         [0.69015145],\n",
       "         [0.471257  ],\n",
       "         [0.471257  ],\n",
       "         [0.33093735],\n",
       "         [0.33093735],\n",
       "         [0.99726907],\n",
       "         [0.99726907],\n",
       "         [0.45575568],\n",
       "         [0.45575568],\n",
       "         [0.52197388],\n",
       "         [0.52197388],\n",
       "         [0.91867535],\n",
       "         [0.91867535],\n",
       "         [0.60197297],\n",
       "         [0.60197297],\n",
       "         [0.1574992 ],\n",
       "         [0.1574992 ],\n",
       "         [0.67057907],\n",
       "         [0.67057907],\n",
       "         [0.43355436],\n",
       "         [0.43355436],\n",
       "         [0.15420156],\n",
       "         [0.15420156],\n",
       "         [0.78301406],\n",
       "         [0.78301406],\n",
       "         [0.72333189],\n",
       "         [0.72333189],\n",
       "         [0.30223014],\n",
       "         [0.30223014],\n",
       "         [0.06133495],\n",
       "         [0.06133495],\n",
       "         [0.4874821 ],\n",
       "         [0.4874821 ],\n",
       "         [0.42219788],\n",
       "         [0.42219788],\n",
       "         [0.76403133],\n",
       "         [0.76403133],\n",
       "         [0.81620548],\n",
       "         [0.81620548],\n",
       "         [0.70129585],\n",
       "         [0.70129585],\n",
       "         [0.2693722 ],\n",
       "         [0.2693722 ],\n",
       "         [0.96672486],\n",
       "         [0.96672486],\n",
       "         [0.28723011],\n",
       "         [0.28723011],\n",
       "         [0.68956508],\n",
       "         [0.68956508],\n",
       "         [0.20575037],\n",
       "         [0.20575037],\n",
       "         [0.4119203 ],\n",
       "         [0.4119203 ],\n",
       "         [0.60119179],\n",
       "         [0.60119179],\n",
       "         [0.74894399],\n",
       "         [0.74894399],\n",
       "         [0.42692082],\n",
       "         [0.42692082],\n",
       "         [0.64206382],\n",
       "         [0.64206382],\n",
       "         [0.24246208],\n",
       "         [0.24246208],\n",
       "         [0.89978169],\n",
       "         [0.89978169],\n",
       "         [0.55075207],\n",
       "         [0.55075207],\n",
       "         [0.19095765],\n",
       "         [0.19095765],\n",
       "         [0.0899241 ],\n",
       "         [0.0899241 ],\n",
       "         [0.78681956],\n",
       "         [0.78681956],\n",
       "         [0.84684782],\n",
       "         [0.84684782],\n",
       "         [0.683399  ],\n",
       "         [0.683399  ],\n",
       "         [0.88309   ],\n",
       "         [0.88309   ],\n",
       "         [0.92114257],\n",
       "         [0.92114257],\n",
       "         [0.90969754],\n",
       "         [0.90969754],\n",
       "         [0.96062456],\n",
       "         [0.96062456],\n",
       "         [0.37287009],\n",
       "         [0.37287009],\n",
       "         [0.30304729],\n",
       "         [0.30304729],\n",
       "         [0.75757933],\n",
       "         [0.75757933],\n",
       "         [0.01992161],\n",
       "         [0.01992161],\n",
       "         [0.28861082],\n",
       "         [0.28861082],\n",
       "         [0.2775809 ],\n",
       "         [0.2775809 ],\n",
       "         [0.34388012],\n",
       "         [0.34388012],\n",
       "         [0.78483308],\n",
       "         [0.78483308],\n",
       "         [0.9836955 ],\n",
       "         [0.9836955 ],\n",
       "         [0.09367329],\n",
       "         [0.09367329],\n",
       "         [0.71179067],\n",
       "         [0.71179067],\n",
       "         [0.16328035],\n",
       "         [0.16328035],\n",
       "         [0.91701724],\n",
       "         [0.91701724],\n",
       "         [0.65794027],\n",
       "         [0.65794027],\n",
       "         [0.50156732],\n",
       "         [0.50156732],\n",
       "         [0.61984885],\n",
       "         [0.61984885],\n",
       "         [0.32669956],\n",
       "         [0.32669956],\n",
       "         [0.3460366 ],\n",
       "         [0.3460366 ],\n",
       "         [0.78612527],\n",
       "         [0.78612527],\n",
       "         [0.21700363],\n",
       "         [0.21700363],\n",
       "         [0.92449198],\n",
       "         [0.92449198],\n",
       "         [0.49036919],\n",
       "         [0.49036919],\n",
       "         [0.86921853],\n",
       "         [0.86921853],\n",
       "         [0.18915995],\n",
       "         [0.18915995],\n",
       "         [0.32554648],\n",
       "         [0.32554648],\n",
       "         [0.86316063],\n",
       "         [0.86316063],\n",
       "         [0.21607893],\n",
       "         [0.21607893],\n",
       "         [0.90851617],\n",
       "         [0.90851617],\n",
       "         [0.17279262],\n",
       "         [0.17279262],\n",
       "         [0.1867136 ],\n",
       "         [0.1867136 ],\n",
       "         [0.13326506],\n",
       "         [0.13326506]])}}"
      ]
     },
     "execution_count": 12,
     "metadata": {},
     "output_type": "execute_result"
    }
   ],
   "source": [
    "ds = load_by_id(run_id_a)\n",
    "ds.get_parameter_data('x1')"
   ]
  },
  {
   "cell_type": "code",
   "execution_count": null,
   "metadata": {},
   "outputs": [],
   "source": []
  }
 ],
 "metadata": {
  "kernelspec": {
   "display_name": "Python 3",
   "language": "python",
   "name": "python3"
  },
  "language_info": {
   "codemirror_mode": {
    "name": "ipython",
    "version": 3
   },
   "file_extension": ".py",
   "mimetype": "text/x-python",
   "name": "python",
   "nbconvert_exporter": "python",
   "pygments_lexer": "ipython3",
   "version": "3.7.7"
  },
  "nbsphinx": {
   "timeout": 600
  },
  "toc": {
   "base_numbering": 1,
   "nav_menu": {},
   "number_sections": true,
   "sideBar": true,
   "skip_h1_title": false,
   "title_cell": "Table of Contents",
   "title_sidebar": "Contents",
   "toc_cell": false,
   "toc_position": {},
   "toc_section_display": true,
   "toc_window_display": false
  },
  "varInspector": {
   "cols": {
    "lenName": 16,
    "lenType": 16,
    "lenVar": 40
   },
   "kernels_config": {
    "python": {
     "delete_cmd_postfix": "",
     "delete_cmd_prefix": "del ",
     "library": "var_list.py",
     "varRefreshCmd": "print(var_dic_list())"
    },
    "r": {
     "delete_cmd_postfix": ") ",
     "delete_cmd_prefix": "rm(",
     "library": "var_list.r",
     "varRefreshCmd": "cat(var_dic_list()) "
    }
   },
   "types_to_exclude": [
    "module",
    "function",
    "builtin_function_or_method",
    "instance",
    "_Feature"
   ],
   "window_display": false
  }
 },
 "nbformat": 4,
 "nbformat_minor": 2
}
