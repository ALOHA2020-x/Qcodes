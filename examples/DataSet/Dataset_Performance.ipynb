{
 "cells": [
  {
   "cell_type": "markdown",
   "metadata": {},
   "source": [
    "# DataSet Performance\n",
    "\n",
    "This notebook shows the trade-off between inserting data into a database row-by-row and as binary blobs. Inserting the data row-by-row means that we have direct access to all the data and may perform queries directly on the values of the data. On the other hand, as we shall see, this is much slower than inserting the data directly as binary blobs."
   ]
  },
  {
   "cell_type": "markdown",
   "metadata": {},
   "source": [
    "First, we choose a new location for the database to ensure that we don't add a bunch of benchmarking data to the default one."
   ]
  },
  {
   "cell_type": "code",
   "execution_count": 1,
   "metadata": {
    "execution": {
     "iopub.execute_input": "2021-03-23T08:15:35.514258Z",
     "iopub.status.busy": "2021-03-23T08:15:35.513591Z",
     "iopub.status.idle": "2021-03-23T08:15:36.405478Z",
     "shell.execute_reply": "2021-03-23T08:15:36.404867Z"
    }
   },
   "outputs": [
    {
     "name": "stdout",
     "output_type": "stream",
     "text": [
      "Logging hadn't been started.\n",
      "Activating auto-logging. Current session state plus future input saved.\n",
      "Filename       : /home/runner/.qcodes/logs/command_history.log\n",
      "Mode           : append\n",
      "Output logging : True\n",
      "Raw input log  : False\n",
      "Timestamping   : True\n",
      "State          : active\n"
     ]
    },
    {
     "name": "stdout",
     "output_type": "stream",
     "text": [
      "Qcodes Logfile : /home/runner/.qcodes/logs/210323-4574-qcodes.log\n"
     ]
    }
   ],
   "source": [
    "import os\n",
    "cwd = os.getcwd()\n",
    "import qcodes as qc\n",
    "qc.config[\"core\"][\"db_location\"] = os.path.join(cwd, 'testing.db')\n"
   ]
  },
  {
   "cell_type": "code",
   "execution_count": 2,
   "metadata": {
    "execution": {
     "iopub.execute_input": "2021-03-23T08:15:36.412766Z",
     "iopub.status.busy": "2021-03-23T08:15:36.411370Z",
     "iopub.status.idle": "2021-03-23T08:15:36.607432Z",
     "shell.execute_reply": "2021-03-23T08:15:36.606419Z"
    }
   },
   "outputs": [],
   "source": [
    "%matplotlib inline\n",
    "import time\n",
    "import matplotlib.pyplot as plt\n",
    "import numpy as np\n",
    "\n",
    "import qcodes as qc\n",
    "from qcodes.instrument.parameter import ManualParameter\n",
    "from qcodes.dataset.experiment_container import (Experiment,\n",
    "                                                 load_last_experiment,\n",
    "                                                 new_experiment)\n",
    "from qcodes.dataset.sqlite.database import initialise_database\n",
    "from qcodes import load_or_create_experiment\n",
    "from qcodes.dataset.measurements import Measurement"
   ]
  },
  {
   "cell_type": "code",
   "execution_count": 3,
   "metadata": {
    "execution": {
     "iopub.execute_input": "2021-03-23T08:15:36.611879Z",
     "iopub.status.busy": "2021-03-23T08:15:36.611282Z",
     "iopub.status.idle": "2021-03-23T08:15:36.719704Z",
     "shell.execute_reply": "2021-03-23T08:15:36.720193Z"
    }
   },
   "outputs": [
    {
     "name": "stdout",
     "output_type": "stream",
     "text": [
      "\r",
      "0it [00:00, ?it/s]"
     ]
    },
    {
     "name": "stdout",
     "output_type": "stream",
     "text": [
      "\r",
      "Upgrading database; v0 -> v1: : 0it [00:00, ?it/s]"
     ]
    },
    {
     "name": "stdout",
     "output_type": "stream",
     "text": [
      "\r",
      "Upgrading database; v0 -> v1: : 0it [00:00, ?it/s]"
     ]
    },
    {
     "name": "stdout",
     "output_type": "stream",
     "text": [
      "\n",
      "\r",
      "  0%|          | 0/1 [00:00<?, ?it/s]"
     ]
    },
    {
     "name": "stdout",
     "output_type": "stream",
     "text": [
      "\r",
      "Upgrading database; v1 -> v2:   0%|          | 0/1 [00:00<?, ?it/s]"
     ]
    },
    {
     "name": "stdout",
     "output_type": "stream",
     "text": [
      "\r",
      "Upgrading database; v1 -> v2: 100%|██████████| 1/1 [00:00<00:00, 601.16it/s]"
     ]
    },
    {
     "name": "stdout",
     "output_type": "stream",
     "text": [
      "\n",
      "\r",
      "0it [00:00, ?it/s]"
     ]
    },
    {
     "name": "stdout",
     "output_type": "stream",
     "text": [
      "\r",
      "Upgrading database; v2 -> v3: : 0it [00:00, ?it/s]"
     ]
    },
    {
     "name": "stdout",
     "output_type": "stream",
     "text": [
      "\r",
      "Upgrading database; v2 -> v3: : 0it [00:00, ?it/s]"
     ]
    },
    {
     "name": "stdout",
     "output_type": "stream",
     "text": [
      "\n",
      "\r",
      "0it [00:00, ?it/s]"
     ]
    },
    {
     "name": "stdout",
     "output_type": "stream",
     "text": [
      "\r",
      "Upgrading database; v3 -> v4: : 0it [00:00, ?it/s]"
     ]
    },
    {
     "name": "stdout",
     "output_type": "stream",
     "text": [
      "\r",
      "Upgrading database; v3 -> v4: : 0it [00:00, ?it/s]"
     ]
    },
    {
     "name": "stdout",
     "output_type": "stream",
     "text": [
      "\n",
      "\r",
      "  0%|          | 0/1 [00:00<?, ?it/s]"
     ]
    },
    {
     "name": "stdout",
     "output_type": "stream",
     "text": [
      "\r",
      "Upgrading database; v4 -> v5:   0%|          | 0/1 [00:00<?, ?it/s]"
     ]
    },
    {
     "name": "stdout",
     "output_type": "stream",
     "text": [
      "\r",
      "Upgrading database; v4 -> v5: 100%|██████████| 1/1 [00:00<00:00, 429.44it/s]"
     ]
    },
    {
     "name": "stdout",
     "output_type": "stream",
     "text": [
      "\n",
      "\r",
      "0it [00:00, ?it/s]"
     ]
    },
    {
     "name": "stdout",
     "output_type": "stream",
     "text": [
      "\r",
      "Upgrading database; v5 -> v6: : 0it [00:00, ?it/s]"
     ]
    },
    {
     "name": "stdout",
     "output_type": "stream",
     "text": [
      "\r",
      "Upgrading database; v5 -> v6: : 0it [00:00, ?it/s]"
     ]
    },
    {
     "name": "stdout",
     "output_type": "stream",
     "text": [
      "\n",
      "\r",
      "  0%|          | 0/1 [00:00<?, ?it/s]"
     ]
    },
    {
     "name": "stdout",
     "output_type": "stream",
     "text": [
      "\r",
      "Upgrading database; v6 -> v7:   0%|          | 0/1 [00:00<?, ?it/s]"
     ]
    },
    {
     "name": "stdout",
     "output_type": "stream",
     "text": [
      "\r",
      "Upgrading database; v6 -> v7: 100%|██████████| 1/1 [00:00<00:00, 442.72it/s]"
     ]
    },
    {
     "name": "stdout",
     "output_type": "stream",
     "text": [
      "\n",
      "\r",
      "  0%|          | 0/1 [00:00<?, ?it/s]"
     ]
    },
    {
     "name": "stdout",
     "output_type": "stream",
     "text": [
      "\r",
      "Upgrading database; v7 -> v8:   0%|          | 0/1 [00:00<?, ?it/s]"
     ]
    },
    {
     "name": "stdout",
     "output_type": "stream",
     "text": [
      "\r",
      "Upgrading database; v7 -> v8: 100%|██████████| 1/1 [00:00<00:00, 788.85it/s]"
     ]
    },
    {
     "name": "stdout",
     "output_type": "stream",
     "text": [
      "\n",
      "\r",
      "  0%|          | 0/1 [00:00<?, ?it/s]"
     ]
    },
    {
     "name": "stdout",
     "output_type": "stream",
     "text": [
      "\r",
      "Upgrading database; v8 -> v9:   0%|          | 0/1 [00:00<?, ?it/s]"
     ]
    },
    {
     "name": "stdout",
     "output_type": "stream",
     "text": [
      "\r",
      "Upgrading database; v8 -> v9: 100%|██████████| 1/1 [00:00<00:00, 940.85it/s]"
     ]
    },
    {
     "name": "stdout",
     "output_type": "stream",
     "text": [
      "\n"
     ]
    }
   ],
   "source": [
    "initialise_database()\n",
    "exp = load_or_create_experiment(experiment_name='tutorial_exp', sample_name=\"no sample\")"
   ]
  },
  {
   "cell_type": "markdown",
   "metadata": {},
   "source": [
    "Here, we define a simple function to benchmark the time it takes to insert n points with either numeric or array data type.\n",
    "We will compare both the time used to call ``add_result`` and the time used for the full measurement."
   ]
  },
  {
   "cell_type": "code",
   "execution_count": 4,
   "metadata": {
    "execution": {
     "iopub.execute_input": "2021-03-23T08:15:36.729357Z",
     "iopub.status.busy": "2021-03-23T08:15:36.728774Z",
     "iopub.status.idle": "2021-03-23T08:15:36.732421Z",
     "shell.execute_reply": "2021-03-23T08:15:36.731918Z"
    }
   },
   "outputs": [],
   "source": [
    "def insert_data(paramtype, npoints, nreps=1):\n",
    "\n",
    "    meas = Measurement(exp=exp)\n",
    "\n",
    "    x1 = ManualParameter('x1')\n",
    "    x2 = ManualParameter('x2')\n",
    "    x3 = ManualParameter('x3')\n",
    "    y1 = ManualParameter('y1')\n",
    "    y2 = ManualParameter('y2')\n",
    "\n",
    "    meas.register_parameter(x1, paramtype=paramtype)\n",
    "    meas.register_parameter(x2, paramtype=paramtype)\n",
    "    meas.register_parameter(x3, paramtype=paramtype)\n",
    "    meas.register_parameter(y1, setpoints=[x1, x2, x3],\n",
    "                            paramtype=paramtype)\n",
    "    meas.register_parameter(y2, setpoints=[x1, x2, x3],\n",
    "                            paramtype=paramtype)\n",
    "    start = time.perf_counter()\n",
    "    with meas.run() as datasaver:\n",
    "        start_adding = time.perf_counter()\n",
    "        for i in range(nreps):\n",
    "            datasaver.add_result((x1, np.random.rand(npoints)),\n",
    "                                 (x2, np.random.rand(npoints)),\n",
    "                                 (x3, np.random.rand(npoints)),\n",
    "                                 (y1, np.random.rand(npoints)),\n",
    "                                 (y2, np.random.rand(npoints)))\n",
    "        stop_adding = time.perf_counter()\n",
    "        run_id = datasaver.run_id\n",
    "    stop = time.perf_counter()\n",
    "    tot_time = stop - start\n",
    "    add_time = stop_adding - start_adding\n",
    "    return tot_time, add_time, run_id"
   ]
  },
  {
   "cell_type": "markdown",
   "metadata": {},
   "source": [
    "## Comparison between numeric/array data and binary blob"
   ]
  },
  {
   "cell_type": "markdown",
   "metadata": {},
   "source": [
    "### Case1: Short experiment time"
   ]
  },
  {
   "cell_type": "code",
   "execution_count": 5,
   "metadata": {
    "execution": {
     "iopub.execute_input": "2021-03-23T08:15:36.739494Z",
     "iopub.status.busy": "2021-03-23T08:15:36.738785Z",
     "iopub.status.idle": "2021-03-23T08:15:37.577216Z",
     "shell.execute_reply": "2021-03-23T08:15:37.576604Z"
    }
   },
   "outputs": [
    {
     "name": "stdout",
     "output_type": "stream",
     "text": [
      "Starting experimental run with id: 1. \n",
      "Starting experimental run with id: 2. \n",
      "Starting experimental run with id: 3. \n",
      "Starting experimental run with id: 4. \n",
      "Starting experimental run with id: 5. \n"
     ]
    },
    {
     "name": "stdout",
     "output_type": "stream",
     "text": [
      "Starting experimental run with id: 6. "
     ]
    },
    {
     "name": "stdout",
     "output_type": "stream",
     "text": [
      "\n"
     ]
    },
    {
     "name": "stdout",
     "output_type": "stream",
     "text": [
      "Starting experimental run with id: 7. \n"
     ]
    },
    {
     "name": "stdout",
     "output_type": "stream",
     "text": [
      "Starting experimental run with id: 8. \n",
      "Starting experimental run with id: 9. \n"
     ]
    },
    {
     "name": "stdout",
     "output_type": "stream",
     "text": [
      "Starting experimental run with id: 10. \n",
      "Starting experimental run with id: 11. \n"
     ]
    },
    {
     "name": "stdout",
     "output_type": "stream",
     "text": [
      "Starting experimental run with id: 12. \n",
      "Starting experimental run with id: 13. \n"
     ]
    },
    {
     "name": "stdout",
     "output_type": "stream",
     "text": [
      "Starting experimental run with id: 14. \n"
     ]
    }
   ],
   "source": [
    "sizes = [1,500,1000,2000,3000,4000,5000]\n",
    "t_numeric = []\n",
    "t_numeric_add = []\n",
    "t_array = []\n",
    "t_array_add = []\n",
    "for size in sizes:\n",
    "    tn, tna, run_id_n =  insert_data('numeric', size)\n",
    "    t_numeric.append(tn)\n",
    "    t_numeric_add.append(tna)\n",
    "\n",
    "    ta, taa, run_id_a =  insert_data('array', size)\n",
    "    t_array.append(ta)\n",
    "    t_array_add.append(taa)"
   ]
  },
  {
   "cell_type": "code",
   "execution_count": 6,
   "metadata": {
    "execution": {
     "iopub.execute_input": "2021-03-23T08:15:37.605396Z",
     "iopub.status.busy": "2021-03-23T08:15:37.604796Z",
     "iopub.status.idle": "2021-03-23T08:15:37.786010Z",
     "shell.execute_reply": "2021-03-23T08:15:37.785172Z"
    }
   },
   "outputs": [
    {
     "data": {
      "image/png": "[encoded data removed]",
      "text/plain": [
       "<Figure size 432x288 with 1 Axes>"
      ]
     },
     "metadata": {
      "needs_background": "light"
     },
     "output_type": "display_data"
    }
   ],
   "source": [
    "fig, ax = plt.subplots(1,1)\n",
    "ax.plot(sizes, t_numeric, 'o-', label='Inserting row-by-row')\n",
    "ax.plot(sizes, t_numeric_add, 'o-', label='Inserting row-by-row: add_result only')\n",
    "ax.plot(sizes, t_array, 'd-', label='Inserting as binary blob')\n",
    "ax.plot(sizes, t_array_add, 'd-', label='Inserting as binary blob: add_result only')\n",
    "ax.legend()\n",
    "ax.set_xlabel('Array length')\n",
    "ax.set_ylabel('Time (s)')\n",
    "fig.tight_layout()"
   ]
  },
  {
   "cell_type": "markdown",
   "metadata": {},
   "source": [
    "As shown in the latter figure, the time to setup and and close the experiment is approximately 0.4 sec. In case of small array sizes, the difference between inserting values of data as arrays and inserting them row-by-row is relatively unimportant. At larger array sizes, i.e. above 10000 points, the cost of writing data as individual datapoints starts to become important.\n"
   ]
  },
  {
   "cell_type": "markdown",
   "metadata": {},
   "source": [
    "### Case2: Long experiment time "
   ]
  },
  {
   "cell_type": "code",
   "execution_count": 7,
   "metadata": {
    "execution": {
     "iopub.execute_input": "2021-03-23T08:15:37.794372Z",
     "iopub.status.busy": "2021-03-23T08:15:37.793426Z",
     "iopub.status.idle": "2021-03-23T08:16:41.330082Z",
     "shell.execute_reply": "2021-03-23T08:16:41.329423Z"
    }
   },
   "outputs": [
    {
     "name": "stdout",
     "output_type": "stream",
     "text": [
      "Starting experimental run with id: 15. \n",
      "Starting experimental run with id: 16. \n",
      "Starting experimental run with id: 17. \n"
     ]
    },
    {
     "name": "stdout",
     "output_type": "stream",
     "text": [
      "Starting experimental run with id: 18. \n",
      "Starting experimental run with id: 19. \n"
     ]
    },
    {
     "name": "stdout",
     "output_type": "stream",
     "text": [
      "Starting experimental run with id: 20. \n"
     ]
    },
    {
     "name": "stdout",
     "output_type": "stream",
     "text": [
      "Starting experimental run with id: 21. \n"
     ]
    },
    {
     "name": "stdout",
     "output_type": "stream",
     "text": [
      "Starting experimental run with id: 22. \n"
     ]
    },
    {
     "name": "stdout",
     "output_type": "stream",
     "text": [
      "Starting experimental run with id: 23. \n"
     ]
    },
    {
     "name": "stdout",
     "output_type": "stream",
     "text": [
      "Starting experimental run with id: 24. \n"
     ]
    },
    {
     "name": "stdout",
     "output_type": "stream",
     "text": [
      "Starting experimental run with id: 25. \n"
     ]
    },
    {
     "name": "stdout",
     "output_type": "stream",
     "text": [
      "Starting experimental run with id: 26. \n"
     ]
    },
    {
     "name": "stdout",
     "output_type": "stream",
     "text": [
      "Starting experimental run with id: 27. \n"
     ]
    },
    {
     "name": "stdout",
     "output_type": "stream",
     "text": [
      "Starting experimental run with id: 28. \n"
     ]
    }
   ],
   "source": [
    "sizes = [1,500,1000,2000,3000,4000,5000]\n",
    "nreps = 100\n",
    "t_numeric = []\n",
    "t_numeric_add = []\n",
    "t_numeric_run_ids = []\n",
    "t_array = []\n",
    "t_array_add = []\n",
    "t_array_run_ids = []\n",
    "for size in sizes:\n",
    "    tn, tna, run_id_n =  insert_data('numeric', size, nreps=nreps)\n",
    "    t_numeric.append(tn)\n",
    "    t_numeric_add.append(tna)\n",
    "    t_numeric_run_ids.append(run_id_n)\n",
    "\n",
    "    ta, taa, run_id_a =  insert_data('array', size, nreps=nreps)\n",
    "    t_array.append(ta)\n",
    "    t_array_add.append(taa)\n",
    "    t_array_run_ids.append(run_id_a)"
   ]
  },
  {
   "cell_type": "code",
   "execution_count": 8,
   "metadata": {
    "execution": {
     "iopub.execute_input": "2021-03-23T08:16:41.348800Z",
     "iopub.status.busy": "2021-03-23T08:16:41.335562Z",
     "iopub.status.idle": "2021-03-23T08:16:41.551719Z",
     "shell.execute_reply": "2021-03-23T08:16:41.551215Z"
    },
    "scrolled": true
   },
   "outputs": [
    {
     "data": {
      "image/png": "[encoded data removed]",
      "text/plain": [
       "<Figure size 432x288 with 1 Axes>"
      ]
     },
     "metadata": {
      "needs_background": "light"
     },
     "output_type": "display_data"
    }
   ],
   "source": [
    "fig, ax = plt.subplots(1,1)\n",
    "ax.plot(sizes, t_numeric, 'o-', label='Inserting row-by-row')\n",
    "ax.plot(sizes, t_numeric_add, 'o-', label='Inserting row-by-row: add_result only')\n",
    "ax.plot(sizes, t_array, 'd-', label='Inserting as binary blob')\n",
    "ax.plot(sizes, t_array_add, 'd-', label='Inserting as binary blob: add_result only')\n",
    "ax.legend()\n",
    "ax.set_xlabel('Array length')\n",
    "ax.set_ylabel('Time (s)')\n",
    "fig.tight_layout()"
   ]
  },
  {
   "cell_type": "markdown",
   "metadata": {},
   "source": [
    "However, as we increase the length of the experiment, as seen here by repeating the insertion 100 times, we see a big difference between inserting values of the data row-by-row and inserting it as a binary blob."
   ]
  },
  {
   "cell_type": "markdown",
   "metadata": {},
   "source": [
    "## Loading the data "
   ]
  },
  {
   "cell_type": "code",
   "execution_count": 9,
   "metadata": {
    "execution": {
     "iopub.execute_input": "2021-03-23T08:16:41.556148Z",
     "iopub.status.busy": "2021-03-23T08:16:41.555124Z",
     "iopub.status.idle": "2021-03-23T08:16:41.558829Z",
     "shell.execute_reply": "2021-03-23T08:16:41.558235Z"
    }
   },
   "outputs": [],
   "source": [
    "from qcodes.dataset.data_set import load_by_id\n",
    "from qcodes.dataset.data_export import get_data_by_id"
   ]
  },
  {
   "cell_type": "markdown",
   "metadata": {},
   "source": [
    "As usual you can load the data by using the ``load_by_id`` function but you will notice that the different storage methods\n",
    "are reflected in shape of the data as it is retrieved. "
   ]
  },
  {
   "cell_type": "code",
   "execution_count": 10,
   "metadata": {
    "execution": {
     "iopub.execute_input": "2021-03-23T08:16:41.562742Z",
     "iopub.status.busy": "2021-03-23T08:16:41.562126Z",
     "iopub.status.idle": "2021-03-23T08:16:41.564308Z",
     "shell.execute_reply": "2021-03-23T08:16:41.564750Z"
    }
   },
   "outputs": [],
   "source": [
    "run_id_n = t_numeric_run_ids[0]\n",
    "run_id_a = t_array_run_ids[0]"
   ]
  },
  {
   "cell_type": "code",
   "execution_count": 11,
   "metadata": {
    "execution": {
     "iopub.execute_input": "2021-03-23T08:16:41.568208Z",
     "iopub.status.busy": "2021-03-23T08:16:41.567650Z",
     "iopub.status.idle": "2021-03-23T08:16:41.577966Z",
     "shell.execute_reply": "2021-03-23T08:16:41.577467Z"
    },
    "scrolled": true
   },
   "outputs": [
    {
     "data": {
      "text/plain": [
       "{'x1': {'x1': array([0.35724607, 0.35724607, 0.1964168 , 0.1964168 , 0.61782897,\n",
       "         0.61782897, 0.94010286, 0.94010286, 0.52649179, 0.52649179,\n",
       "         0.20917581, 0.20917581, 0.04888131, 0.04888131, 0.45985914,\n",
       "         0.45985914, 0.65535531, 0.65535531, 0.26320641, 0.26320641,\n",
       "         0.3783122 , 0.3783122 , 0.16806551, 0.16806551, 0.18862754,\n",
       "         0.18862754, 0.2479857 , 0.2479857 , 0.69912274, 0.69912274,\n",
       "         0.27965984, 0.27965984, 0.3401952 , 0.3401952 , 0.58433892,\n",
       "         0.58433892, 0.29958924, 0.29958924, 0.12012265, 0.12012265,\n",
       "         0.12775779, 0.12775779, 0.32137433, 0.32137433, 0.55416395,\n",
       "         0.55416395, 0.84608499, 0.84608499, 0.26248598, 0.26248598,\n",
       "         0.88092983, 0.88092983, 0.35041145, 0.35041145, 0.42740937,\n",
       "         0.42740937, 0.80331662, 0.80331662, 0.24957163, 0.24957163,\n",
       "         0.7759068 , 0.7759068 , 0.2620338 , 0.2620338 , 0.58010168,\n",
       "         0.58010168, 0.44024567, 0.44024567, 0.4103478 , 0.4103478 ,\n",
       "         0.1730854 , 0.1730854 , 0.69464981, 0.69464981, 0.99610439,\n",
       "         0.99610439, 0.02787814, 0.02787814, 0.08114483, 0.08114483,\n",
       "         0.12430652, 0.12430652, 0.85277066, 0.85277066, 0.23823055,\n",
       "         0.23823055, 0.24707115, 0.24707115, 0.95244448, 0.95244448,\n",
       "         0.08914849, 0.08914849, 0.54631403, 0.54631403, 0.07106236,\n",
       "         0.07106236, 0.62427919, 0.62427919, 0.67406276, 0.67406276,\n",
       "         0.37153689, 0.37153689, 0.79443249, 0.79443249, 0.66246852,\n",
       "         0.66246852, 0.77379331, 0.77379331, 0.82807813, 0.82807813,\n",
       "         0.88153262, 0.88153262, 0.64002685, 0.64002685, 0.93880818,\n",
       "         0.93880818, 0.78816644, 0.78816644, 0.83203512, 0.83203512,\n",
       "         0.87512665, 0.87512665, 0.72676241, 0.72676241, 0.52129512,\n",
       "         0.52129512, 0.60394413, 0.60394413, 0.5270202 , 0.5270202 ,\n",
       "         0.70885184, 0.70885184, 0.85942868, 0.85942868, 0.24051021,\n",
       "         0.24051021, 0.55872806, 0.55872806, 0.68385241, 0.68385241,\n",
       "         0.57897022, 0.57897022, 0.60382183, 0.60382183, 0.17494314,\n",
       "         0.17494314, 0.30291434, 0.30291434, 0.89791039, 0.89791039,\n",
       "         0.42907749, 0.42907749, 0.89620615, 0.89620615, 0.77352423,\n",
       "         0.77352423, 0.0611917 , 0.0611917 , 0.73727961, 0.73727961,\n",
       "         0.06441177, 0.06441177, 0.38136394, 0.38136394, 0.59334817,\n",
       "         0.59334817, 0.45806022, 0.45806022, 0.82997225, 0.82997225,\n",
       "         0.20880254, 0.20880254, 0.08235606, 0.08235606, 0.35765933,\n",
       "         0.35765933, 0.04559211, 0.04559211, 0.72748088, 0.72748088,\n",
       "         0.70376651, 0.70376651, 0.76618716, 0.76618716, 0.91647021,\n",
       "         0.91647021, 0.59643223, 0.59643223, 0.13786029, 0.13786029,\n",
       "         0.83065185, 0.83065185, 0.46794259, 0.46794259, 0.6868584 ,\n",
       "         0.6868584 , 0.89105926, 0.89105926, 0.34160113, 0.34160113])}}"
      ]
     },
     "execution_count": 1,
     "metadata": {},
     "output_type": "execute_result"
    }
   ],
   "source": [
    "ds = load_by_id(run_id_n)\n",
    "ds.get_parameter_data('x1')"
   ]
  },
  {
   "cell_type": "markdown",
   "metadata": {},
   "source": [
    "And a dataset stored as binary arrays"
   ]
  },
  {
   "cell_type": "code",
   "execution_count": 12,
   "metadata": {
    "execution": {
     "iopub.execute_input": "2021-03-23T08:16:41.581512Z",
     "iopub.status.busy": "2021-03-23T08:16:41.580955Z",
     "iopub.status.idle": "2021-03-23T08:16:41.638955Z",
     "shell.execute_reply": "2021-03-23T08:16:41.639528Z"
    },
    "scrolled": true
   },
   "outputs": [
    {
     "data": {
      "text/plain": [
       "{'x1': {'x1': array([[0.52125065],\n",
       "         [0.52125065],\n",
       "         [0.68230168],\n",
       "         [0.68230168],\n",
       "         [0.29964309],\n",
       "         [0.29964309],\n",
       "         [0.92850228],\n",
       "         [0.92850228],\n",
       "         [0.54134812],\n",
       "         [0.54134812],\n",
       "         [0.09353949],\n",
       "         [0.09353949],\n",
       "         [0.66691383],\n",
       "         [0.66691383],\n",
       "         [0.08787061],\n",
       "         [0.08787061],\n",
       "         [0.74549852],\n",
       "         [0.74549852],\n",
       "         [0.4359252 ],\n",
       "         [0.4359252 ],\n",
       "         [0.82576059],\n",
       "         [0.82576059],\n",
       "         [0.21815876],\n",
       "         [0.21815876],\n",
       "         [0.86456006],\n",
       "         [0.86456006],\n",
       "         [0.47016138],\n",
       "         [0.47016138],\n",
       "         [0.00263873],\n",
       "         [0.00263873],\n",
       "         [0.61142242],\n",
       "         [0.61142242],\n",
       "         [0.49636149],\n",
       "         [0.49636149],\n",
       "         [0.63377587],\n",
       "         [0.63377587],\n",
       "         [0.38636308],\n",
       "         [0.38636308],\n",
       "         [0.16326319],\n",
       "         [0.16326319],\n",
       "         [0.76952265],\n",
       "         [0.76952265],\n",
       "         [0.62152493],\n",
       "         [0.62152493],\n",
       "         [0.68290216],\n",
       "         [0.68290216],\n",
       "         [0.19191897],\n",
       "         [0.19191897],\n",
       "         [0.89054484],\n",
       "         [0.89054484],\n",
       "         [0.06252769],\n",
       "         [0.06252769],\n",
       "         [0.25317906],\n",
       "         [0.25317906],\n",
       "         [0.52303932],\n",
       "         [0.52303932],\n",
       "         [0.77899364],\n",
       "         [0.77899364],\n",
       "         [0.02509495],\n",
       "         [0.02509495],\n",
       "         [0.8801664 ],\n",
       "         [0.8801664 ],\n",
       "         [0.10621649],\n",
       "         [0.10621649],\n",
       "         [0.18267974],\n",
       "         [0.18267974],\n",
       "         [0.33322746],\n",
       "         [0.33322746],\n",
       "         [0.71216185],\n",
       "         [0.71216185],\n",
       "         [0.1711013 ],\n",
       "         [0.1711013 ],\n",
       "         [0.28122051],\n",
       "         [0.28122051],\n",
       "         [0.51160471],\n",
       "         [0.51160471],\n",
       "         [0.47170597],\n",
       "         [0.47170597],\n",
       "         [0.03843227],\n",
       "         [0.03843227],\n",
       "         [0.59455791],\n",
       "         [0.59455791],\n",
       "         [0.88269483],\n",
       "         [0.88269483],\n",
       "         [0.85680609],\n",
       "         [0.85680609],\n",
       "         [0.56449402],\n",
       "         [0.56449402],\n",
       "         [0.17512064],\n",
       "         [0.17512064],\n",
       "         [0.85202969],\n",
       "         [0.85202969],\n",
       "         [0.06020559],\n",
       "         [0.06020559],\n",
       "         [0.78959409],\n",
       "         [0.78959409],\n",
       "         [0.62953094],\n",
       "         [0.62953094],\n",
       "         [0.4318221 ],\n",
       "         [0.4318221 ],\n",
       "         [0.81596347],\n",
       "         [0.81596347],\n",
       "         [0.33812992],\n",
       "         [0.33812992],\n",
       "         [0.98946245],\n",
       "         [0.98946245],\n",
       "         [0.48443757],\n",
       "         [0.48443757],\n",
       "         [0.9632646 ],\n",
       "         [0.9632646 ],\n",
       "         [0.20104536],\n",
       "         [0.20104536],\n",
       "         [0.87329878],\n",
       "         [0.87329878],\n",
       "         [0.85817138],\n",
       "         [0.85817138],\n",
       "         [0.10831966],\n",
       "         [0.10831966],\n",
       "         [0.05812577],\n",
       "         [0.05812577],\n",
       "         [0.59535737],\n",
       "         [0.59535737],\n",
       "         [0.55357968],\n",
       "         [0.55357968],\n",
       "         [0.89432059],\n",
       "         [0.89432059],\n",
       "         [0.69818219],\n",
       "         [0.69818219],\n",
       "         [0.79541386],\n",
       "         [0.79541386],\n",
       "         [0.92879088],\n",
       "         [0.92879088],\n",
       "         [0.57302542],\n",
       "         [0.57302542],\n",
       "         [0.41621259],\n",
       "         [0.41621259],\n",
       "         [0.5431282 ],\n",
       "         [0.5431282 ],\n",
       "         [0.71500355],\n",
       "         [0.71500355],\n",
       "         [0.61464221],\n",
       "         [0.61464221],\n",
       "         [0.39329098],\n",
       "         [0.39329098],\n",
       "         [0.35181928],\n",
       "         [0.35181928],\n",
       "         [0.4685354 ],\n",
       "         [0.4685354 ],\n",
       "         [0.11286099],\n",
       "         [0.11286099],\n",
       "         [0.55846672],\n",
       "         [0.55846672],\n",
       "         [0.48203751],\n",
       "         [0.48203751],\n",
       "         [0.65710647],\n",
       "         [0.65710647],\n",
       "         [0.26868112],\n",
       "         [0.26868112],\n",
       "         [0.58637426],\n",
       "         [0.58637426],\n",
       "         [0.80550225],\n",
       "         [0.80550225],\n",
       "         [0.37323487],\n",
       "         [0.37323487],\n",
       "         [0.97802711],\n",
       "         [0.97802711],\n",
       "         [0.13526448],\n",
       "         [0.13526448],\n",
       "         [0.00900726],\n",
       "         [0.00900726],\n",
       "         [0.04391197],\n",
       "         [0.04391197],\n",
       "         [0.95084398],\n",
       "         [0.95084398],\n",
       "         [0.40467485],\n",
       "         [0.40467485],\n",
       "         [0.09520702],\n",
       "         [0.09520702],\n",
       "         [0.99431337],\n",
       "         [0.99431337],\n",
       "         [0.8381681 ],\n",
       "         [0.8381681 ],\n",
       "         [0.29338026],\n",
       "         [0.29338026],\n",
       "         [0.08282903],\n",
       "         [0.08282903],\n",
       "         [0.69872789],\n",
       "         [0.69872789],\n",
       "         [0.8160975 ],\n",
       "         [0.8160975 ],\n",
       "         [0.62332814],\n",
       "         [0.62332814],\n",
       "         [0.64259395],\n",
       "         [0.64259395],\n",
       "         [0.94716179],\n",
       "         [0.94716179],\n",
       "         [0.07117445],\n",
       "         [0.07117445],\n",
       "         [0.1549856 ],\n",
       "         [0.1549856 ]])}}"
      ]
     },
     "execution_count": 1,
     "metadata": {},
     "output_type": "execute_result"
    }
   ],
   "source": [
    "ds = load_by_id(run_id_a)\n",
    "ds.get_parameter_data('x1')"
   ]
  },
  {
   "cell_type": "code",
   "execution_count": null,
   "metadata": {},
   "outputs": [],
   "source": []
  }
 ],
 "metadata": {
  "kernelspec": {
   "display_name": "Python 3",
   "language": "python",
   "name": "python3"
  },
  "language_info": {
   "codemirror_mode": {
    "name": "ipython",
    "version": 3
   },
   "file_extension": ".py",
   "mimetype": "text/x-python",
   "name": "python",
   "nbconvert_exporter": "python",
   "pygments_lexer": "ipython3",
   "version": "3.7.10"
  },
  "nbsphinx": {
   "timeout": 600
  },
  "toc": {
   "base_numbering": 1,
   "nav_menu": {},
   "number_sections": true,
   "sideBar": true,
   "skip_h1_title": false,
   "title_cell": "Table of Contents",
   "title_sidebar": "Contents",
   "toc_cell": false,
   "toc_position": {},
   "toc_section_display": true,
   "toc_window_display": false
  },
  "varInspector": {
   "cols": {
    "lenName": 16,
    "lenType": 16,
    "lenVar": 40
   },
   "kernels_config": {
    "python": {
     "delete_cmd_postfix": "",
     "delete_cmd_prefix": "del ",
     "library": "var_list.py",
     "varRefreshCmd": "print(var_dic_list())"
    },
    "r": {
     "delete_cmd_postfix": ") ",
     "delete_cmd_prefix": "rm(",
     "library": "var_list.r",
     "varRefreshCmd": "cat(var_dic_list()) "
    }
   },
   "types_to_exclude": [
    "module",
    "function",
    "builtin_function_or_method",
    "instance",
    "_Feature"
   ],
   "window_display": false
  }
 },
 "nbformat": 4,
 "nbformat_minor": 2
}
