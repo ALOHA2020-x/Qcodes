{
 "cells": [
  {
   "cell_type": "markdown",
   "metadata": {},
   "source": [
    "# DataSet Performance\n",
    "\n",
    "This notebook shows the trade-off between inserting data into a database row-by-row and as binary blobs. Inserting the data row-by-row means that we have direct access to all the data and may perform queries directly on the values of the data. On the other hand, as we shall see, this is much slower than inserting the data directly as binary blobs."
   ]
  },
  {
   "cell_type": "markdown",
   "metadata": {},
   "source": [
    "First, we choose a new location for the database to ensure that we don't add a bunch of benchmarking data to the default one."
   ]
  },
  {
   "cell_type": "code",
   "execution_count": 1,
   "metadata": {},
   "outputs": [
    {
     "name": "stdout",
     "output_type": "stream",
     "text": [
      "Logging hadn't been started.\n",
      "Activating auto-logging. Current session state plus future input saved.\n",
      "Filename       : /home/vsts/.qcodes/logs/command_history.log\n",
      "Mode           : append\n",
      "Output logging : True\n",
      "Raw input log  : False\n",
      "Timestamping   : True\n",
      "State          : active\n"
     ]
    },
    {
     "name": "stdout",
     "output_type": "stream",
     "text": [
      "Qcodes Logfile : /home/vsts/.qcodes/logs/200529-19135-qcodes.log\n"
     ]
    }
   ],
   "source": [
    "import os\n",
    "cwd = os.getcwd()\n",
    "import qcodes as qc\n",
    "qc.config[\"core\"][\"db_location\"] = os.path.join(cwd, 'testing.db')\n"
   ]
  },
  {
   "cell_type": "code",
   "execution_count": 2,
   "metadata": {},
   "outputs": [],
   "source": [
    "%matplotlib inline\n",
    "import time\n",
    "import matplotlib.pyplot as plt\n",
    "import numpy as np\n",
    "\n",
    "import qcodes as qc\n",
    "from qcodes.instrument.parameter import ManualParameter\n",
    "from qcodes.dataset.experiment_container import (Experiment,\n",
    "                                                 load_last_experiment,\n",
    "                                                 new_experiment)\n",
    "from qcodes.dataset.sqlite.database import initialise_database\n",
    "from qcodes import load_or_create_experiment\n",
    "from qcodes.dataset.measurements import Measurement"
   ]
  },
  {
   "cell_type": "code",
   "execution_count": 3,
   "metadata": {},
   "outputs": [
    {
     "name": "stdout",
     "output_type": "stream",
     "text": [
      "\r",
      "0it [00:00, ?it/s]"
     ]
    },
    {
     "name": "stdout",
     "output_type": "stream",
     "text": [
      "\r",
      "Upgrading database; v0 -> v1: : 0it [00:00, ?it/s]"
     ]
    },
    {
     "name": "stdout",
     "output_type": "stream",
     "text": [
      "\r",
      "Upgrading database; v0 -> v1: : 0it [00:00, ?it/s]"
     ]
    },
    {
     "name": "stdout",
     "output_type": "stream",
     "text": [
      "\n",
      "\r",
      "  0%|          | 0/1 [00:00<?, ?it/s]"
     ]
    },
    {
     "name": "stdout",
     "output_type": "stream",
     "text": [
      "\r",
      "Upgrading database; v1 -> v2:   0%|          | 0/1 [00:00<?, ?it/s]"
     ]
    },
    {
     "name": "stdout",
     "output_type": "stream",
     "text": [
      "\r",
      "Upgrading database; v1 -> v2: 100%|██████████| 1/1 [00:00<00:00, 675.41it/s]"
     ]
    },
    {
     "name": "stdout",
     "output_type": "stream",
     "text": [
      "\n",
      "\r",
      "0it [00:00, ?it/s]"
     ]
    },
    {
     "name": "stdout",
     "output_type": "stream",
     "text": [
      "\r",
      "Upgrading database; v2 -> v3: : 0it [00:00, ?it/s]"
     ]
    },
    {
     "name": "stdout",
     "output_type": "stream",
     "text": [
      "\r",
      "Upgrading database; v2 -> v3: : 0it [00:00, ?it/s]"
     ]
    },
    {
     "name": "stdout",
     "output_type": "stream",
     "text": [
      "\n",
      "\r",
      "0it [00:00, ?it/s]"
     ]
    },
    {
     "name": "stdout",
     "output_type": "stream",
     "text": [
      "\r",
      "Upgrading database; v3 -> v4: : 0it [00:00, ?it/s]"
     ]
    },
    {
     "name": "stdout",
     "output_type": "stream",
     "text": [
      "\r",
      "Upgrading database; v3 -> v4: : 0it [00:00, ?it/s]"
     ]
    },
    {
     "name": "stdout",
     "output_type": "stream",
     "text": [
      "\n",
      "\r",
      "  0%|          | 0/1 [00:00<?, ?it/s]"
     ]
    },
    {
     "name": "stdout",
     "output_type": "stream",
     "text": [
      "\r",
      "Upgrading database; v4 -> v5:   0%|          | 0/1 [00:00<?, ?it/s]"
     ]
    },
    {
     "name": "stdout",
     "output_type": "stream",
     "text": [
      "\r",
      "Upgrading database; v4 -> v5: 100%|██████████| 1/1 [00:00<00:00, 660.00it/s]"
     ]
    },
    {
     "name": "stdout",
     "output_type": "stream",
     "text": [
      "\n",
      "\r",
      "0it [00:00, ?it/s]"
     ]
    },
    {
     "name": "stdout",
     "output_type": "stream",
     "text": [
      "\r",
      "Upgrading database; v5 -> v6: : 0it [00:00, ?it/s]"
     ]
    },
    {
     "name": "stdout",
     "output_type": "stream",
     "text": [
      "\r",
      "Upgrading database; v5 -> v6: : 0it [00:00, ?it/s]"
     ]
    },
    {
     "name": "stdout",
     "output_type": "stream",
     "text": [
      "\n",
      "\r",
      "  0%|          | 0/1 [00:00<?, ?it/s]"
     ]
    },
    {
     "name": "stdout",
     "output_type": "stream",
     "text": [
      "\r",
      "Upgrading database; v6 -> v7:   0%|          | 0/1 [00:00<?, ?it/s]"
     ]
    },
    {
     "name": "stdout",
     "output_type": "stream",
     "text": [
      "\r",
      "Upgrading database; v6 -> v7: 100%|██████████| 1/1 [00:00<00:00, 378.92it/s]"
     ]
    },
    {
     "name": "stdout",
     "output_type": "stream",
     "text": [
      "\n",
      "\r",
      "  0%|          | 0/1 [00:00<?, ?it/s]"
     ]
    },
    {
     "name": "stdout",
     "output_type": "stream",
     "text": [
      "\r",
      "Upgrading database; v7 -> v8:   0%|          | 0/1 [00:00<?, ?it/s]"
     ]
    },
    {
     "name": "stdout",
     "output_type": "stream",
     "text": [
      "\r",
      "Upgrading database; v7 -> v8: 100%|██████████| 1/1 [00:00<00:00, 754.78it/s]"
     ]
    },
    {
     "name": "stdout",
     "output_type": "stream",
     "text": [
      "\n",
      "\r",
      "  0%|          | 0/1 [00:00<?, ?it/s]"
     ]
    },
    {
     "name": "stdout",
     "output_type": "stream",
     "text": [
      "\r",
      "Upgrading database; v8 -> v9:   0%|          | 0/1 [00:00<?, ?it/s]"
     ]
    },
    {
     "name": "stdout",
     "output_type": "stream",
     "text": [
      "\r",
      "Upgrading database; v8 -> v9: 100%|██████████| 1/1 [00:00<00:00, 861.25it/s]"
     ]
    },
    {
     "name": "stdout",
     "output_type": "stream",
     "text": [
      "\n"
     ]
    }
   ],
   "source": [
    "initialise_database()\n",
    "exp = load_or_create_experiment(experiment_name='tutorial_exp', sample_name=\"no sample\")"
   ]
  },
  {
   "cell_type": "markdown",
   "metadata": {},
   "source": [
    "Here, we define a simple function to benchmark the time it takes to insert n points with either numeric or array data type.\n",
    "We will compare both the time used to call ``add_result`` and the time used for the full measurement."
   ]
  },
  {
   "cell_type": "code",
   "execution_count": 4,
   "metadata": {},
   "outputs": [],
   "source": [
    "def insert_data(paramtype, npoints, nreps=1):\n",
    "\n",
    "    meas = Measurement(exp=exp)\n",
    "\n",
    "    x1 = ManualParameter('x1')\n",
    "    x2 = ManualParameter('x2')\n",
    "    x3 = ManualParameter('x3')\n",
    "    y1 = ManualParameter('y1')\n",
    "    y2 = ManualParameter('y2')\n",
    "\n",
    "    meas.register_parameter(x1, paramtype=paramtype)\n",
    "    meas.register_parameter(x2, paramtype=paramtype)\n",
    "    meas.register_parameter(x3, paramtype=paramtype)\n",
    "    meas.register_parameter(y1, setpoints=[x1, x2, x3],\n",
    "                            paramtype=paramtype)\n",
    "    meas.register_parameter(y2, setpoints=[x1, x2, x3],\n",
    "                            paramtype=paramtype)\n",
    "    start = time.perf_counter()\n",
    "    with meas.run() as datasaver:\n",
    "        start_adding = time.perf_counter()\n",
    "        for i in range(nreps):\n",
    "            datasaver.add_result((x1, np.random.rand(npoints)),\n",
    "                                 (x2, np.random.rand(npoints)),\n",
    "                                 (x3, np.random.rand(npoints)),\n",
    "                                 (y1, np.random.rand(npoints)),\n",
    "                                 (y2, np.random.rand(npoints)))\n",
    "        stop_adding = time.perf_counter()\n",
    "        run_id = datasaver.run_id\n",
    "    stop = time.perf_counter()\n",
    "    tot_time = stop - start\n",
    "    add_time = stop_adding - start_adding\n",
    "    return tot_time, add_time, run_id"
   ]
  },
  {
   "cell_type": "markdown",
   "metadata": {},
   "source": [
    "## Comparison between numeric/array data and binary blob"
   ]
  },
  {
   "cell_type": "markdown",
   "metadata": {},
   "source": [
    "### Case1: Short experiment time"
   ]
  },
  {
   "cell_type": "code",
   "execution_count": 5,
   "metadata": {},
   "outputs": [
    {
     "name": "stdout",
     "output_type": "stream",
     "text": [
      "Starting experimental run with id: 1. \n",
      "Starting experimental run with id: 2. \n",
      "Starting experimental run with id: 3. \n"
     ]
    },
    {
     "name": "stdout",
     "output_type": "stream",
     "text": [
      "Starting experimental run with id: 4. \n"
     ]
    },
    {
     "name": "stdout",
     "output_type": "stream",
     "text": [
      "Starting experimental run with id: 5. \n",
      "Starting experimental run with id: 6. \n"
     ]
    },
    {
     "name": "stdout",
     "output_type": "stream",
     "text": [
      "Starting experimental run with id: 7. \n"
     ]
    },
    {
     "name": "stdout",
     "output_type": "stream",
     "text": [
      "Starting experimental run with id: 8. \n"
     ]
    },
    {
     "name": "stdout",
     "output_type": "stream",
     "text": [
      "Starting experimental run with id: 9. \n"
     ]
    },
    {
     "name": "stdout",
     "output_type": "stream",
     "text": [
      "Starting experimental run with id: 10. \n",
      "Starting experimental run with id: 11. \n"
     ]
    },
    {
     "name": "stdout",
     "output_type": "stream",
     "text": [
      "Starting experimental run with id: 12. \n"
     ]
    },
    {
     "name": "stdout",
     "output_type": "stream",
     "text": [
      "Starting experimental run with id: 13. \n"
     ]
    },
    {
     "name": "stdout",
     "output_type": "stream",
     "text": [
      "Starting experimental run with id: 14. \n"
     ]
    }
   ],
   "source": [
    "sizes = [1,500,1000,2000,3000,4000,5000]\n",
    "t_numeric = []\n",
    "t_numeric_add = []\n",
    "t_array = []\n",
    "t_array_add = []\n",
    "for size in sizes:\n",
    "    tn, tna, run_id_n =  insert_data('numeric', size)\n",
    "    t_numeric.append(tn)\n",
    "    t_numeric_add.append(tna)\n",
    "\n",
    "    ta, taa, run_id_a =  insert_data('array', size)\n",
    "    t_array.append(ta)\n",
    "    t_array_add.append(taa)"
   ]
  },
  {
   "cell_type": "code",
   "execution_count": 6,
   "metadata": {},
   "outputs": [
    {
     "data": {
      "image/png": "[encoded data removed]",
      "text/plain": [
       "<Figure size 432x288 with 1 Axes>"
      ]
     },
     "metadata": {
      "needs_background": "light"
     },
     "output_type": "display_data"
    }
   ],
   "source": [
    "fig, ax = plt.subplots(1,1)\n",
    "ax.plot(sizes, t_numeric, 'o-', label='Inserting row-by-row')\n",
    "ax.plot(sizes, t_numeric_add, 'o-', label='Inserting row-by-row: add_result only')\n",
    "ax.plot(sizes, t_array, 'd-', label='Inserting as binary blob')\n",
    "ax.plot(sizes, t_array_add, 'd-', label='Inserting as binary blob: add_result only')\n",
    "ax.legend()\n",
    "ax.set_xlabel('Array length')\n",
    "ax.set_ylabel('Time (s)')\n",
    "fig.tight_layout()"
   ]
  },
  {
   "cell_type": "markdown",
   "metadata": {},
   "source": [
    "As shown in the latter figure, the time to setup and and close the experiment is approximately 0.4 sec. In case of small array sizes, the difference between inserting values of data as arrays and inserting them row-by-row is relatively unimportant. At larger array sizes, i.e. above 10000 points, the cost of writing data as individual datapoints starts to become important.\n"
   ]
  },
  {
   "cell_type": "markdown",
   "metadata": {},
   "source": [
    "### Case2: Long experiment time "
   ]
  },
  {
   "cell_type": "code",
   "execution_count": 7,
   "metadata": {},
   "outputs": [
    {
     "name": "stdout",
     "output_type": "stream",
     "text": [
      "Starting experimental run with id: 15. \n",
      "Starting experimental run with id: 16. \n"
     ]
    },
    {
     "name": "stdout",
     "output_type": "stream",
     "text": [
      "Starting experimental run with id: 17. \n"
     ]
    },
    {
     "name": "stdout",
     "output_type": "stream",
     "text": [
      "Starting experimental run with id: 18. \n",
      "Starting experimental run with id: 19. \n"
     ]
    },
    {
     "name": "stdout",
     "output_type": "stream",
     "text": [
      "Starting experimental run with id: 20. \n"
     ]
    },
    {
     "name": "stdout",
     "output_type": "stream",
     "text": [
      "Starting experimental run with id: 21. \n"
     ]
    },
    {
     "name": "stdout",
     "output_type": "stream",
     "text": [
      "Starting experimental run with id: 22. \n"
     ]
    },
    {
     "name": "stdout",
     "output_type": "stream",
     "text": [
      "Starting experimental run with id: 23. \n"
     ]
    },
    {
     "name": "stdout",
     "output_type": "stream",
     "text": [
      "Starting experimental run with id: 24. \n"
     ]
    },
    {
     "name": "stdout",
     "output_type": "stream",
     "text": [
      "Starting experimental run with id: 25. \n"
     ]
    },
    {
     "name": "stdout",
     "output_type": "stream",
     "text": [
      "Starting experimental run with id: 26. \n"
     ]
    },
    {
     "name": "stdout",
     "output_type": "stream",
     "text": [
      "Starting experimental run with id: 27. \n"
     ]
    },
    {
     "name": "stdout",
     "output_type": "stream",
     "text": [
      "Starting experimental run with id: 28. \n"
     ]
    }
   ],
   "source": [
    "sizes = [1,500,1000,2000,3000,4000,5000]\n",
    "nreps = 100\n",
    "t_numeric = []\n",
    "t_numeric_add = []\n",
    "t_numeric_run_ids = []\n",
    "t_array = []\n",
    "t_array_add = []\n",
    "t_array_run_ids = []\n",
    "for size in sizes:\n",
    "    tn, tna, run_id_n =  insert_data('numeric', size, nreps=nreps)\n",
    "    t_numeric.append(tn)\n",
    "    t_numeric_add.append(tna)\n",
    "    t_numeric_run_ids.append(run_id_n)\n",
    "\n",
    "    ta, taa, run_id_a =  insert_data('array', size, nreps=nreps)\n",
    "    t_array.append(ta)\n",
    "    t_array_add.append(taa)\n",
    "    t_array_run_ids.append(run_id_a)"
   ]
  },
  {
   "cell_type": "code",
   "execution_count": 8,
   "metadata": {
    "scrolled": true
   },
   "outputs": [
    {
     "data": {
      "image/png": "[encoded data removed]",
      "text/plain": [
       "<Figure size 432x288 with 1 Axes>"
      ]
     },
     "metadata": {
      "needs_background": "light"
     },
     "output_type": "display_data"
    }
   ],
   "source": [
    "fig, ax = plt.subplots(1,1)\n",
    "ax.plot(sizes, t_numeric, 'o-', label='Inserting row-by-row')\n",
    "ax.plot(sizes, t_numeric_add, 'o-', label='Inserting row-by-row: add_result only')\n",
    "ax.plot(sizes, t_array, 'd-', label='Inserting as binary blob')\n",
    "ax.plot(sizes, t_array_add, 'd-', label='Inserting as binary blob: add_result only')\n",
    "ax.legend()\n",
    "ax.set_xlabel('Array length')\n",
    "ax.set_ylabel('Time (s)')\n",
    "fig.tight_layout()"
   ]
  },
  {
   "cell_type": "markdown",
   "metadata": {},
   "source": [
    "However, as we increase the length of the experiment, as seen here by repeating the insertion 100 times, we see a big difference between inserting values of the data row-by-row and inserting it as a binary blob."
   ]
  },
  {
   "cell_type": "markdown",
   "metadata": {},
   "source": [
    "## Loading the data "
   ]
  },
  {
   "cell_type": "code",
   "execution_count": 9,
   "metadata": {},
   "outputs": [],
   "source": [
    "from qcodes.dataset.data_set import load_by_id\n",
    "from qcodes.dataset.data_export import get_data_by_id"
   ]
  },
  {
   "cell_type": "markdown",
   "metadata": {},
   "source": [
    "As usual you can load the data by using the ``load_by_id`` function but you will notice that the different storage methods\n",
    "are reflected in shape of the data as it is retrieved. "
   ]
  },
  {
   "cell_type": "code",
   "execution_count": 10,
   "metadata": {},
   "outputs": [],
   "source": [
    "run_id_n = t_numeric_run_ids[0]\n",
    "run_id_a = t_array_run_ids[0]"
   ]
  },
  {
   "cell_type": "code",
   "execution_count": 11,
   "metadata": {
    "scrolled": true
   },
   "outputs": [
    {
     "data": {
      "text/plain": [
       "{'x1': {'x1': array([0.61984449, 0.61984449, 0.58023823, 0.58023823, 0.72340942,\n",
       "         0.72340942, 0.83191973, 0.83191973, 0.06373581, 0.06373581,\n",
       "         0.04275357, 0.04275357, 0.10442742, 0.10442742, 0.4015609 ,\n",
       "         0.4015609 , 0.17438413, 0.17438413, 0.14401524, 0.14401524,\n",
       "         0.31346099, 0.31346099, 0.64544304, 0.64544304, 0.6940875 ,\n",
       "         0.6940875 , 0.66347443, 0.66347443, 0.47322974, 0.47322974,\n",
       "         0.97790879, 0.97790879, 0.88782777, 0.88782777, 0.36697799,\n",
       "         0.36697799, 0.19691818, 0.19691818, 0.9373385 , 0.9373385 ,\n",
       "         0.69888249, 0.69888249, 0.39079645, 0.39079645, 0.29503084,\n",
       "         0.29503084, 0.65802465, 0.65802465, 0.53333592, 0.53333592,\n",
       "         0.07611261, 0.07611261, 0.76588097, 0.76588097, 0.51542139,\n",
       "         0.51542139, 0.96082171, 0.96082171, 0.84264865, 0.84264865,\n",
       "         0.28229423, 0.28229423, 0.86384945, 0.86384945, 0.63523812,\n",
       "         0.63523812, 0.42557323, 0.42557323, 0.42925487, 0.42925487,\n",
       "         0.35634568, 0.35634568, 0.76042164, 0.76042164, 0.0687165 ,\n",
       "         0.0687165 , 0.55319357, 0.55319357, 0.5037946 , 0.5037946 ,\n",
       "         0.90609798, 0.90609798, 0.43941816, 0.43941816, 0.50875146,\n",
       "         0.50875146, 0.62538163, 0.62538163, 0.99305018, 0.99305018,\n",
       "         0.67111941, 0.67111941, 0.05676664, 0.05676664, 0.18826118,\n",
       "         0.18826118, 0.21695595, 0.21695595, 0.31059553, 0.31059553,\n",
       "         0.22244206, 0.22244206, 0.30420926, 0.30420926, 0.61491696,\n",
       "         0.61491696, 0.18088347, 0.18088347, 0.99955037, 0.99955037,\n",
       "         0.45131987, 0.45131987, 0.3938885 , 0.3938885 , 0.79566476,\n",
       "         0.79566476, 0.41990395, 0.41990395, 0.81010361, 0.81010361,\n",
       "         0.0357057 , 0.0357057 , 0.63732752, 0.63732752, 0.96147456,\n",
       "         0.96147456, 0.66594718, 0.66594718, 0.51767561, 0.51767561,\n",
       "         0.49352644, 0.49352644, 0.07995218, 0.07995218, 0.7888208 ,\n",
       "         0.7888208 , 0.26118503, 0.26118503, 0.37582214, 0.37582214,\n",
       "         0.08798612, 0.08798612, 0.55220584, 0.55220584, 0.50144513,\n",
       "         0.50144513, 0.91927223, 0.91927223, 0.7435555 , 0.7435555 ,\n",
       "         0.07957276, 0.07957276, 0.79679948, 0.79679948, 0.92683007,\n",
       "         0.92683007, 0.22186463, 0.22186463, 0.25490488, 0.25490488,\n",
       "         0.30774675, 0.30774675, 0.2871101 , 0.2871101 , 0.52432157,\n",
       "         0.52432157, 0.76003503, 0.76003503, 0.93722044, 0.93722044,\n",
       "         0.03919327, 0.03919327, 0.09405568, 0.09405568, 0.92669829,\n",
       "         0.92669829, 0.77610943, 0.77610943, 0.71795324, 0.71795324,\n",
       "         0.87757984, 0.87757984, 0.95518047, 0.95518047, 0.93761439,\n",
       "         0.93761439, 0.15249341, 0.15249341, 0.26909927, 0.26909927,\n",
       "         0.23898815, 0.23898815, 0.14705562, 0.14705562, 0.09995956,\n",
       "         0.09995956, 0.25208509, 0.25208509, 0.5322228 , 0.5322228 ])}}"
      ]
     },
     "execution_count": 11,
     "metadata": {},
     "output_type": "execute_result"
    }
   ],
   "source": [
    "ds = load_by_id(run_id_n)\n",
    "ds.get_parameter_data('x1')"
   ]
  },
  {
   "cell_type": "markdown",
   "metadata": {},
   "source": [
    "And a dataset stored as binary arrays"
   ]
  },
  {
   "cell_type": "code",
   "execution_count": 12,
   "metadata": {
    "scrolled": true
   },
   "outputs": [
    {
     "data": {
      "text/plain": [
       "{'x1': {'x1': array([[0.25909285],\n",
       "         [0.25909285],\n",
       "         [0.71470851],\n",
       "         [0.71470851],\n",
       "         [0.45570796],\n",
       "         [0.45570796],\n",
       "         [0.7258801 ],\n",
       "         [0.7258801 ],\n",
       "         [0.04520637],\n",
       "         [0.04520637],\n",
       "         [0.71649779],\n",
       "         [0.71649779],\n",
       "         [0.42478617],\n",
       "         [0.42478617],\n",
       "         [0.67905004],\n",
       "         [0.67905004],\n",
       "         [0.79116872],\n",
       "         [0.79116872],\n",
       "         [0.09019111],\n",
       "         [0.09019111],\n",
       "         [0.95591879],\n",
       "         [0.95591879],\n",
       "         [0.0940125 ],\n",
       "         [0.0940125 ],\n",
       "         [0.30770678],\n",
       "         [0.30770678],\n",
       "         [0.39331675],\n",
       "         [0.39331675],\n",
       "         [0.80338604],\n",
       "         [0.80338604],\n",
       "         [0.13804109],\n",
       "         [0.13804109],\n",
       "         [0.24637778],\n",
       "         [0.24637778],\n",
       "         [0.31495236],\n",
       "         [0.31495236],\n",
       "         [0.71242299],\n",
       "         [0.71242299],\n",
       "         [0.81755585],\n",
       "         [0.81755585],\n",
       "         [0.4634641 ],\n",
       "         [0.4634641 ],\n",
       "         [0.0759016 ],\n",
       "         [0.0759016 ],\n",
       "         [0.43801225],\n",
       "         [0.43801225],\n",
       "         [0.86099684],\n",
       "         [0.86099684],\n",
       "         [0.49795252],\n",
       "         [0.49795252],\n",
       "         [0.67374173],\n",
       "         [0.67374173],\n",
       "         [0.82298015],\n",
       "         [0.82298015],\n",
       "         [0.43240222],\n",
       "         [0.43240222],\n",
       "         [0.21372659],\n",
       "         [0.21372659],\n",
       "         [0.22994419],\n",
       "         [0.22994419],\n",
       "         [0.93009063],\n",
       "         [0.93009063],\n",
       "         [0.94201599],\n",
       "         [0.94201599],\n",
       "         [0.03981503],\n",
       "         [0.03981503],\n",
       "         [0.29642692],\n",
       "         [0.29642692],\n",
       "         [0.60751964],\n",
       "         [0.60751964],\n",
       "         [0.32797721],\n",
       "         [0.32797721],\n",
       "         [0.4394428 ],\n",
       "         [0.4394428 ],\n",
       "         [0.63264565],\n",
       "         [0.63264565],\n",
       "         [0.43726749],\n",
       "         [0.43726749],\n",
       "         [0.78494334],\n",
       "         [0.78494334],\n",
       "         [0.95104172],\n",
       "         [0.95104172],\n",
       "         [0.52720302],\n",
       "         [0.52720302],\n",
       "         [0.11555799],\n",
       "         [0.11555799],\n",
       "         [0.72299702],\n",
       "         [0.72299702],\n",
       "         [0.54656491],\n",
       "         [0.54656491],\n",
       "         [0.55020327],\n",
       "         [0.55020327],\n",
       "         [0.1940823 ],\n",
       "         [0.1940823 ],\n",
       "         [0.26497761],\n",
       "         [0.26497761],\n",
       "         [0.36038809],\n",
       "         [0.36038809],\n",
       "         [0.56691983],\n",
       "         [0.56691983],\n",
       "         [0.30208007],\n",
       "         [0.30208007],\n",
       "         [0.56977625],\n",
       "         [0.56977625],\n",
       "         [0.01550239],\n",
       "         [0.01550239],\n",
       "         [0.95907938],\n",
       "         [0.95907938],\n",
       "         [0.61989269],\n",
       "         [0.61989269],\n",
       "         [0.62301147],\n",
       "         [0.62301147],\n",
       "         [0.66423178],\n",
       "         [0.66423178],\n",
       "         [0.85604565],\n",
       "         [0.85604565],\n",
       "         [0.57766959],\n",
       "         [0.57766959],\n",
       "         [0.25815753],\n",
       "         [0.25815753],\n",
       "         [0.02628541],\n",
       "         [0.02628541],\n",
       "         [0.75696321],\n",
       "         [0.75696321],\n",
       "         [0.11717679],\n",
       "         [0.11717679],\n",
       "         [0.67204941],\n",
       "         [0.67204941],\n",
       "         [0.32080312],\n",
       "         [0.32080312],\n",
       "         [0.22643721],\n",
       "         [0.22643721],\n",
       "         [0.99032169],\n",
       "         [0.99032169],\n",
       "         [0.64011639],\n",
       "         [0.64011639],\n",
       "         [0.52924409],\n",
       "         [0.52924409],\n",
       "         [0.48552909],\n",
       "         [0.48552909],\n",
       "         [0.28744216],\n",
       "         [0.28744216],\n",
       "         [0.8809317 ],\n",
       "         [0.8809317 ],\n",
       "         [0.86312721],\n",
       "         [0.86312721],\n",
       "         [0.07154594],\n",
       "         [0.07154594],\n",
       "         [0.27857784],\n",
       "         [0.27857784],\n",
       "         [0.10938696],\n",
       "         [0.10938696],\n",
       "         [0.79777124],\n",
       "         [0.79777124],\n",
       "         [0.63665354],\n",
       "         [0.63665354],\n",
       "         [0.11136629],\n",
       "         [0.11136629],\n",
       "         [0.2107559 ],\n",
       "         [0.2107559 ],\n",
       "         [0.66159162],\n",
       "         [0.66159162],\n",
       "         [0.9419739 ],\n",
       "         [0.9419739 ],\n",
       "         [0.16115198],\n",
       "         [0.16115198],\n",
       "         [0.31837422],\n",
       "         [0.31837422],\n",
       "         [0.94627303],\n",
       "         [0.94627303],\n",
       "         [0.20561563],\n",
       "         [0.20561563],\n",
       "         [0.01230285],\n",
       "         [0.01230285],\n",
       "         [0.15200912],\n",
       "         [0.15200912],\n",
       "         [0.86164958],\n",
       "         [0.86164958],\n",
       "         [0.07036613],\n",
       "         [0.07036613],\n",
       "         [0.82360868],\n",
       "         [0.82360868],\n",
       "         [0.45143595],\n",
       "         [0.45143595],\n",
       "         [0.14807597],\n",
       "         [0.14807597],\n",
       "         [0.58385672],\n",
       "         [0.58385672],\n",
       "         [0.46603846],\n",
       "         [0.46603846],\n",
       "         [0.26663182],\n",
       "         [0.26663182],\n",
       "         [0.7331068 ],\n",
       "         [0.7331068 ],\n",
       "         [0.40303725],\n",
       "         [0.40303725],\n",
       "         [0.99341064],\n",
       "         [0.99341064],\n",
       "         [0.68180681],\n",
       "         [0.68180681]])}}"
      ]
     },
     "execution_count": 12,
     "metadata": {},
     "output_type": "execute_result"
    }
   ],
   "source": [
    "ds = load_by_id(run_id_a)\n",
    "ds.get_parameter_data('x1')"
   ]
  },
  {
   "cell_type": "code",
   "execution_count": null,
   "metadata": {},
   "outputs": [],
   "source": []
  }
 ],
 "metadata": {
  "kernelspec": {
   "display_name": "Python 3",
   "language": "python",
   "name": "python3"
  },
  "language_info": {
   "codemirror_mode": {
    "name": "ipython",
    "version": 3
   },
   "file_extension": ".py",
   "mimetype": "text/x-python",
   "name": "python",
   "nbconvert_exporter": "python",
   "pygments_lexer": "ipython3",
   "version": "3.7.7"
  },
  "nbsphinx": {
   "timeout": 600
  },
  "toc": {
   "base_numbering": 1,
   "nav_menu": {},
   "number_sections": true,
   "sideBar": true,
   "skip_h1_title": false,
   "title_cell": "Table of Contents",
   "title_sidebar": "Contents",
   "toc_cell": false,
   "toc_position": {},
   "toc_section_display": true,
   "toc_window_display": false
  },
  "varInspector": {
   "cols": {
    "lenName": 16,
    "lenType": 16,
    "lenVar": 40
   },
   "kernels_config": {
    "python": {
     "delete_cmd_postfix": "",
     "delete_cmd_prefix": "del ",
     "library": "var_list.py",
     "varRefreshCmd": "print(var_dic_list())"
    },
    "r": {
     "delete_cmd_postfix": ") ",
     "delete_cmd_prefix": "rm(",
     "library": "var_list.r",
     "varRefreshCmd": "cat(var_dic_list()) "
    }
   },
   "types_to_exclude": [
    "module",
    "function",
    "builtin_function_or_method",
    "instance",
    "_Feature"
   ],
   "window_display": false
  }
 },
 "nbformat": 4,
 "nbformat_minor": 2
}
