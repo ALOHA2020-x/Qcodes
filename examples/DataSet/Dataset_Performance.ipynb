{
 "cells": [
  {
   "cell_type": "markdown",
   "metadata": {},
   "source": [
    "# DataSet Performance\n",
    "\n",
    "This notebook shows the trade-off between inserting data into a database row-by-row and as binary blobs. Inserting the data row-by-row means that we have direct access to all the data and may perform queries directly on the values of the data. On the other hand, as we shall see, this is much slower than inserting the data directly as binary blobs."
   ]
  },
  {
   "cell_type": "markdown",
   "metadata": {},
   "source": [
    "First, we choose a new location for the database to ensure that we don't add a bunch of benchmarking data to the default one."
   ]
  },
  {
   "cell_type": "code",
   "execution_count": 1,
   "metadata": {
    "execution": {
     "iopub.execute_input": "2021-02-22T09:33:26.316050Z",
     "iopub.status.busy": "2021-02-22T09:33:26.315274Z",
     "iopub.status.idle": "2021-02-22T09:33:27.248681Z",
     "shell.execute_reply": "2021-02-22T09:33:27.249143Z"
    }
   },
   "outputs": [
    {
     "name": "stdout",
     "output_type": "stream",
     "text": [
      "Logging hadn't been started.\n",
      "Activating auto-logging. Current session state plus future input saved.\n",
      "Filename       : /home/runner/.qcodes/logs/command_history.log\n",
      "Mode           : append\n",
      "Output logging : True\n",
      "Raw input log  : False\n",
      "Timestamping   : True\n",
      "State          : active\n"
     ]
    },
    {
     "name": "stdout",
     "output_type": "stream",
     "text": [
      "Qcodes Logfile : /home/runner/.qcodes/logs/210222-3799-qcodes.log\n"
     ]
    }
   ],
   "source": [
    "import os\n",
    "cwd = os.getcwd()\n",
    "import qcodes as qc\n",
    "qc.config[\"core\"][\"db_location\"] = os.path.join(cwd, 'testing.db')\n"
   ]
  },
  {
   "cell_type": "code",
   "execution_count": 2,
   "metadata": {
    "execution": {
     "iopub.execute_input": "2021-02-22T09:33:27.257206Z",
     "iopub.status.busy": "2021-02-22T09:33:27.256057Z",
     "iopub.status.idle": "2021-02-22T09:33:27.462402Z",
     "shell.execute_reply": "2021-02-22T09:33:27.461811Z"
    }
   },
   "outputs": [],
   "source": [
    "%matplotlib inline\n",
    "import time\n",
    "import matplotlib.pyplot as plt\n",
    "import numpy as np\n",
    "\n",
    "import qcodes as qc\n",
    "from qcodes.instrument.parameter import ManualParameter\n",
    "from qcodes.dataset.experiment_container import (Experiment,\n",
    "                                                 load_last_experiment,\n",
    "                                                 new_experiment)\n",
    "from qcodes.dataset.sqlite.database import initialise_database\n",
    "from qcodes import load_or_create_experiment\n",
    "from qcodes.dataset.measurements import Measurement"
   ]
  },
  {
   "cell_type": "code",
   "execution_count": 3,
   "metadata": {
    "execution": {
     "iopub.execute_input": "2021-02-22T09:33:27.466494Z",
     "iopub.status.busy": "2021-02-22T09:33:27.465887Z",
     "iopub.status.idle": "2021-02-22T09:33:27.581452Z",
     "shell.execute_reply": "2021-02-22T09:33:27.580902Z"
    }
   },
   "outputs": [
    {
     "name": "stdout",
     "output_type": "stream",
     "text": [
      "\r",
      "0it [00:00, ?it/s]"
     ]
    },
    {
     "name": "stdout",
     "output_type": "stream",
     "text": [
      "\r",
      "Upgrading database; v0 -> v1: : 0it [00:00, ?it/s]"
     ]
    },
    {
     "name": "stdout",
     "output_type": "stream",
     "text": [
      "\r",
      "Upgrading database; v0 -> v1: : 0it [00:00, ?it/s]"
     ]
    },
    {
     "name": "stdout",
     "output_type": "stream",
     "text": [
      "\n",
      "\r",
      "  0%|          | 0/1 [00:00<?, ?it/s]"
     ]
    },
    {
     "name": "stdout",
     "output_type": "stream",
     "text": [
      "\r",
      "Upgrading database; v1 -> v2:   0%|          | 0/1 [00:00<?, ?it/s]"
     ]
    },
    {
     "name": "stdout",
     "output_type": "stream",
     "text": [
      "\r",
      "Upgrading database; v1 -> v2: 100%|██████████| 1/1 [00:00<00:00, 415.03it/s]"
     ]
    },
    {
     "name": "stdout",
     "output_type": "stream",
     "text": [
      "\n",
      "\r",
      "0it [00:00, ?it/s]"
     ]
    },
    {
     "name": "stdout",
     "output_type": "stream",
     "text": [
      "\r",
      "Upgrading database; v2 -> v3: : 0it [00:00, ?it/s]"
     ]
    },
    {
     "name": "stdout",
     "output_type": "stream",
     "text": [
      "\r",
      "Upgrading database; v2 -> v3: : 0it [00:00, ?it/s]"
     ]
    },
    {
     "name": "stdout",
     "output_type": "stream",
     "text": [
      "\n",
      "\r",
      "0it [00:00, ?it/s]"
     ]
    },
    {
     "name": "stdout",
     "output_type": "stream",
     "text": [
      "\r",
      "Upgrading database; v3 -> v4: : 0it [00:00, ?it/s]"
     ]
    },
    {
     "name": "stdout",
     "output_type": "stream",
     "text": [
      "\r",
      "Upgrading database; v3 -> v4: : 0it [00:00, ?it/s]"
     ]
    },
    {
     "name": "stdout",
     "output_type": "stream",
     "text": [
      "\n",
      "\r",
      "  0%|          | 0/1 [00:00<?, ?it/s]"
     ]
    },
    {
     "name": "stdout",
     "output_type": "stream",
     "text": [
      "\r",
      "Upgrading database; v4 -> v5:   0%|          | 0/1 [00:00<?, ?it/s]"
     ]
    },
    {
     "name": "stdout",
     "output_type": "stream",
     "text": [
      "\r",
      "Upgrading database; v4 -> v5: 100%|██████████| 1/1 [00:00<00:00, 744.86it/s]"
     ]
    },
    {
     "name": "stdout",
     "output_type": "stream",
     "text": [
      "\n",
      "\r",
      "0it [00:00, ?it/s]"
     ]
    },
    {
     "name": "stdout",
     "output_type": "stream",
     "text": [
      "\r",
      "Upgrading database; v5 -> v6: : 0it [00:00, ?it/s]"
     ]
    },
    {
     "name": "stdout",
     "output_type": "stream",
     "text": [
      "\r",
      "Upgrading database; v5 -> v6: : 0it [00:00, ?it/s]"
     ]
    },
    {
     "name": "stdout",
     "output_type": "stream",
     "text": [
      "\n",
      "\r",
      "  0%|          | 0/1 [00:00<?, ?it/s]"
     ]
    },
    {
     "name": "stdout",
     "output_type": "stream",
     "text": [
      "\r",
      "Upgrading database; v6 -> v7:   0%|          | 0/1 [00:00<?, ?it/s]"
     ]
    },
    {
     "name": "stdout",
     "output_type": "stream",
     "text": [
      "\r",
      "Upgrading database; v6 -> v7: 100%|██████████| 1/1 [00:00<00:00, 370.00it/s]"
     ]
    },
    {
     "name": "stdout",
     "output_type": "stream",
     "text": [
      "\n",
      "\r",
      "  0%|          | 0/1 [00:00<?, ?it/s]"
     ]
    },
    {
     "name": "stdout",
     "output_type": "stream",
     "text": [
      "\r",
      "Upgrading database; v7 -> v8:   0%|          | 0/1 [00:00<?, ?it/s]"
     ]
    },
    {
     "name": "stdout",
     "output_type": "stream",
     "text": [
      "\r",
      "Upgrading database; v7 -> v8: 100%|██████████| 1/1 [00:00<00:00, 410.32it/s]"
     ]
    },
    {
     "name": "stdout",
     "output_type": "stream",
     "text": [
      "\n",
      "\r",
      "  0%|          | 0/1 [00:00<?, ?it/s]"
     ]
    },
    {
     "name": "stdout",
     "output_type": "stream",
     "text": [
      "\r",
      "Upgrading database; v8 -> v9:   0%|          | 0/1 [00:00<?, ?it/s]"
     ]
    },
    {
     "name": "stdout",
     "output_type": "stream",
     "text": [
      "\r",
      "Upgrading database; v8 -> v9: 100%|██████████| 1/1 [00:00<00:00, 1203.88it/s]"
     ]
    },
    {
     "name": "stdout",
     "output_type": "stream",
     "text": [
      "\n"
     ]
    }
   ],
   "source": [
    "initialise_database()\n",
    "exp = load_or_create_experiment(experiment_name='tutorial_exp', sample_name=\"no sample\")"
   ]
  },
  {
   "cell_type": "markdown",
   "metadata": {},
   "source": [
    "Here, we define a simple function to benchmark the time it takes to insert n points with either numeric or array data type.\n",
    "We will compare both the time used to call ``add_result`` and the time used for the full measurement."
   ]
  },
  {
   "cell_type": "code",
   "execution_count": 4,
   "metadata": {
    "execution": {
     "iopub.execute_input": "2021-02-22T09:33:27.590954Z",
     "iopub.status.busy": "2021-02-22T09:33:27.590348Z",
     "iopub.status.idle": "2021-02-22T09:33:27.594279Z",
     "shell.execute_reply": "2021-02-22T09:33:27.593764Z"
    }
   },
   "outputs": [],
   "source": [
    "def insert_data(paramtype, npoints, nreps=1):\n",
    "\n",
    "    meas = Measurement(exp=exp)\n",
    "\n",
    "    x1 = ManualParameter('x1')\n",
    "    x2 = ManualParameter('x2')\n",
    "    x3 = ManualParameter('x3')\n",
    "    y1 = ManualParameter('y1')\n",
    "    y2 = ManualParameter('y2')\n",
    "\n",
    "    meas.register_parameter(x1, paramtype=paramtype)\n",
    "    meas.register_parameter(x2, paramtype=paramtype)\n",
    "    meas.register_parameter(x3, paramtype=paramtype)\n",
    "    meas.register_parameter(y1, setpoints=[x1, x2, x3],\n",
    "                            paramtype=paramtype)\n",
    "    meas.register_parameter(y2, setpoints=[x1, x2, x3],\n",
    "                            paramtype=paramtype)\n",
    "    start = time.perf_counter()\n",
    "    with meas.run() as datasaver:\n",
    "        start_adding = time.perf_counter()\n",
    "        for i in range(nreps):\n",
    "            datasaver.add_result((x1, np.random.rand(npoints)),\n",
    "                                 (x2, np.random.rand(npoints)),\n",
    "                                 (x3, np.random.rand(npoints)),\n",
    "                                 (y1, np.random.rand(npoints)),\n",
    "                                 (y2, np.random.rand(npoints)))\n",
    "        stop_adding = time.perf_counter()\n",
    "        run_id = datasaver.run_id\n",
    "    stop = time.perf_counter()\n",
    "    tot_time = stop - start\n",
    "    add_time = stop_adding - start_adding\n",
    "    return tot_time, add_time, run_id"
   ]
  },
  {
   "cell_type": "markdown",
   "metadata": {},
   "source": [
    "## Comparison between numeric/array data and binary blob"
   ]
  },
  {
   "cell_type": "markdown",
   "metadata": {},
   "source": [
    "### Case1: Short experiment time"
   ]
  },
  {
   "cell_type": "code",
   "execution_count": 5,
   "metadata": {
    "execution": {
     "iopub.execute_input": "2021-02-22T09:33:27.601675Z",
     "iopub.status.busy": "2021-02-22T09:33:27.600694Z",
     "iopub.status.idle": "2021-02-22T09:33:28.446071Z",
     "shell.execute_reply": "2021-02-22T09:33:28.445504Z"
    }
   },
   "outputs": [
    {
     "name": "stdout",
     "output_type": "stream",
     "text": [
      "Starting experimental run with id: 1. \n",
      "Starting experimental run with id: 2. \n",
      "Starting experimental run with id: 3. \n",
      "Starting experimental run with id: 4. \n",
      "Starting experimental run with id: 5. \n"
     ]
    },
    {
     "name": "stdout",
     "output_type": "stream",
     "text": [
      "Starting experimental run with id: 6. \n"
     ]
    },
    {
     "name": "stdout",
     "output_type": "stream",
     "text": [
      "Starting experimental run with id: 7. \n"
     ]
    },
    {
     "name": "stdout",
     "output_type": "stream",
     "text": [
      "Starting experimental run with id: 8. \n",
      "Starting experimental run with id: 9. \n"
     ]
    },
    {
     "name": "stdout",
     "output_type": "stream",
     "text": [
      "Starting experimental run with id: 10. \n",
      "Starting experimental run with id: 11. \n"
     ]
    },
    {
     "name": "stdout",
     "output_type": "stream",
     "text": [
      "Starting experimental run with id: 12. \n",
      "Starting experimental run with id: 13. \n"
     ]
    },
    {
     "name": "stdout",
     "output_type": "stream",
     "text": [
      "Starting experimental run with id: 14. \n"
     ]
    }
   ],
   "source": [
    "sizes = [1,500,1000,2000,3000,4000,5000]\n",
    "t_numeric = []\n",
    "t_numeric_add = []\n",
    "t_array = []\n",
    "t_array_add = []\n",
    "for size in sizes:\n",
    "    tn, tna, run_id_n =  insert_data('numeric', size)\n",
    "    t_numeric.append(tn)\n",
    "    t_numeric_add.append(tna)\n",
    "\n",
    "    ta, taa, run_id_a =  insert_data('array', size)\n",
    "    t_array.append(ta)\n",
    "    t_array_add.append(taa)"
   ]
  },
  {
   "cell_type": "code",
   "execution_count": 6,
   "metadata": {
    "execution": {
     "iopub.execute_input": "2021-02-22T09:33:28.464916Z",
     "iopub.status.busy": "2021-02-22T09:33:28.464312Z",
     "iopub.status.idle": "2021-02-22T09:33:28.659661Z",
     "shell.execute_reply": "2021-02-22T09:33:28.659133Z"
    }
   },
   "outputs": [
    {
     "data": {
      "image/png": "[encoded data removed]",
      "text/plain": [
       "<Figure size 432x288 with 1 Axes>"
      ]
     },
     "metadata": {
      "needs_background": "light"
     },
     "output_type": "display_data"
    }
   ],
   "source": [
    "fig, ax = plt.subplots(1,1)\n",
    "ax.plot(sizes, t_numeric, 'o-', label='Inserting row-by-row')\n",
    "ax.plot(sizes, t_numeric_add, 'o-', label='Inserting row-by-row: add_result only')\n",
    "ax.plot(sizes, t_array, 'd-', label='Inserting as binary blob')\n",
    "ax.plot(sizes, t_array_add, 'd-', label='Inserting as binary blob: add_result only')\n",
    "ax.legend()\n",
    "ax.set_xlabel('Array length')\n",
    "ax.set_ylabel('Time (s)')\n",
    "fig.tight_layout()"
   ]
  },
  {
   "cell_type": "markdown",
   "metadata": {},
   "source": [
    "As shown in the latter figure, the time to setup and and close the experiment is approximately 0.4 sec. In case of small array sizes, the difference between inserting values of data as arrays and inserting them row-by-row is relatively unimportant. At larger array sizes, i.e. above 10000 points, the cost of writing data as individual datapoints starts to become important.\n"
   ]
  },
  {
   "cell_type": "markdown",
   "metadata": {},
   "source": [
    "### Case2: Long experiment time "
   ]
  },
  {
   "cell_type": "code",
   "execution_count": 7,
   "metadata": {
    "execution": {
     "iopub.execute_input": "2021-02-22T09:33:28.667122Z",
     "iopub.status.busy": "2021-02-22T09:33:28.665883Z",
     "iopub.status.idle": "2021-02-22T09:34:31.252959Z",
     "shell.execute_reply": "2021-02-22T09:34:31.251930Z"
    }
   },
   "outputs": [
    {
     "name": "stdout",
     "output_type": "stream",
     "text": [
      "Starting experimental run with id: 15. \n",
      "Starting experimental run with id: 16. \n",
      "Starting experimental run with id: 17. \n"
     ]
    },
    {
     "name": "stdout",
     "output_type": "stream",
     "text": [
      "Starting experimental run with id: 18. \n"
     ]
    },
    {
     "name": "stdout",
     "output_type": "stream",
     "text": [
      "Starting experimental run with id: 19. \n"
     ]
    },
    {
     "name": "stdout",
     "output_type": "stream",
     "text": [
      "Starting experimental run with id: 20. \n"
     ]
    },
    {
     "name": "stdout",
     "output_type": "stream",
     "text": [
      "Starting experimental run with id: 21. \n"
     ]
    },
    {
     "name": "stdout",
     "output_type": "stream",
     "text": [
      "Starting experimental run with id: 22. \n"
     ]
    },
    {
     "name": "stdout",
     "output_type": "stream",
     "text": [
      "Starting experimental run with id: 23. \n"
     ]
    },
    {
     "name": "stdout",
     "output_type": "stream",
     "text": [
      "Starting experimental run with id: 24. \n"
     ]
    },
    {
     "name": "stdout",
     "output_type": "stream",
     "text": [
      "Starting experimental run with id: 25. \n"
     ]
    },
    {
     "name": "stdout",
     "output_type": "stream",
     "text": [
      "Starting experimental run with id: 26. \n"
     ]
    },
    {
     "name": "stdout",
     "output_type": "stream",
     "text": [
      "Starting experimental run with id: 27. \n"
     ]
    },
    {
     "name": "stdout",
     "output_type": "stream",
     "text": [
      "Starting experimental run with id: 28. \n"
     ]
    }
   ],
   "source": [
    "sizes = [1,500,1000,2000,3000,4000,5000]\n",
    "nreps = 100\n",
    "t_numeric = []\n",
    "t_numeric_add = []\n",
    "t_numeric_run_ids = []\n",
    "t_array = []\n",
    "t_array_add = []\n",
    "t_array_run_ids = []\n",
    "for size in sizes:\n",
    "    tn, tna, run_id_n =  insert_data('numeric', size, nreps=nreps)\n",
    "    t_numeric.append(tn)\n",
    "    t_numeric_add.append(tna)\n",
    "    t_numeric_run_ids.append(run_id_n)\n",
    "\n",
    "    ta, taa, run_id_a =  insert_data('array', size, nreps=nreps)\n",
    "    t_array.append(ta)\n",
    "    t_array_add.append(taa)\n",
    "    t_array_run_ids.append(run_id_a)"
   ]
  },
  {
   "cell_type": "code",
   "execution_count": 8,
   "metadata": {
    "execution": {
     "iopub.execute_input": "2021-02-22T09:34:31.295663Z",
     "iopub.status.busy": "2021-02-22T09:34:31.294632Z",
     "iopub.status.idle": "2021-02-22T09:34:31.472521Z",
     "shell.execute_reply": "2021-02-22T09:34:31.472006Z"
    },
    "scrolled": true
   },
   "outputs": [
    {
     "data": {
      "image/png": "[encoded data removed]",
      "text/plain": [
       "<Figure size 432x288 with 1 Axes>"
      ]
     },
     "metadata": {
      "needs_background": "light"
     },
     "output_type": "display_data"
    }
   ],
   "source": [
    "fig, ax = plt.subplots(1,1)\n",
    "ax.plot(sizes, t_numeric, 'o-', label='Inserting row-by-row')\n",
    "ax.plot(sizes, t_numeric_add, 'o-', label='Inserting row-by-row: add_result only')\n",
    "ax.plot(sizes, t_array, 'd-', label='Inserting as binary blob')\n",
    "ax.plot(sizes, t_array_add, 'd-', label='Inserting as binary blob: add_result only')\n",
    "ax.legend()\n",
    "ax.set_xlabel('Array length')\n",
    "ax.set_ylabel('Time (s)')\n",
    "fig.tight_layout()"
   ]
  },
  {
   "cell_type": "markdown",
   "metadata": {},
   "source": [
    "However, as we increase the length of the experiment, as seen here by repeating the insertion 100 times, we see a big difference between inserting values of the data row-by-row and inserting it as a binary blob."
   ]
  },
  {
   "cell_type": "markdown",
   "metadata": {},
   "source": [
    "## Loading the data "
   ]
  },
  {
   "cell_type": "code",
   "execution_count": 9,
   "metadata": {
    "execution": {
     "iopub.execute_input": "2021-02-22T09:34:31.477158Z",
     "iopub.status.busy": "2021-02-22T09:34:31.476110Z",
     "iopub.status.idle": "2021-02-22T09:34:31.479448Z",
     "shell.execute_reply": "2021-02-22T09:34:31.478929Z"
    }
   },
   "outputs": [],
   "source": [
    "from qcodes.dataset.data_set import load_by_id\n",
    "from qcodes.dataset.data_export import get_data_by_id"
   ]
  },
  {
   "cell_type": "markdown",
   "metadata": {},
   "source": [
    "As usual you can load the data by using the ``load_by_id`` function but you will notice that the different storage methods\n",
    "are reflected in shape of the data as it is retrieved. "
   ]
  },
  {
   "cell_type": "code",
   "execution_count": 10,
   "metadata": {
    "execution": {
     "iopub.execute_input": "2021-02-22T09:34:31.483397Z",
     "iopub.status.busy": "2021-02-22T09:34:31.482791Z",
     "iopub.status.idle": "2021-02-22T09:34:31.485367Z",
     "shell.execute_reply": "2021-02-22T09:34:31.484883Z"
    }
   },
   "outputs": [],
   "source": [
    "run_id_n = t_numeric_run_ids[0]\n",
    "run_id_a = t_array_run_ids[0]"
   ]
  },
  {
   "cell_type": "code",
   "execution_count": 11,
   "metadata": {
    "execution": {
     "iopub.execute_input": "2021-02-22T09:34:31.488844Z",
     "iopub.status.busy": "2021-02-22T09:34:31.488265Z",
     "iopub.status.idle": "2021-02-22T09:34:31.497913Z",
     "shell.execute_reply": "2021-02-22T09:34:31.498420Z"
    },
    "scrolled": true
   },
   "outputs": [
    {
     "data": {
      "text/plain": [
       "{'x1': {'x1': array([0.61089631, 0.61089631, 0.2851073 , 0.2851073 , 0.28510531,\n",
       "         0.28510531, 0.13369223, 0.13369223, 0.05660418, 0.05660418,\n",
       "         0.99977568, 0.99977568, 0.61074946, 0.61074946, 0.73641862,\n",
       "         0.73641862, 0.93148869, 0.93148869, 0.09141211, 0.09141211,\n",
       "         0.46561847, 0.46561847, 0.8763896 , 0.8763896 , 0.18053452,\n",
       "         0.18053452, 0.92907991, 0.92907991, 0.63411537, 0.63411537,\n",
       "         0.14702959, 0.14702959, 0.81375927, 0.81375927, 0.27559033,\n",
       "         0.27559033, 0.5134327 , 0.5134327 , 0.54290742, 0.54290742,\n",
       "         0.55251308, 0.55251308, 0.0431456 , 0.0431456 , 0.47124354,\n",
       "         0.47124354, 0.15196162, 0.15196162, 0.82148741, 0.82148741,\n",
       "         0.59773642, 0.59773642, 0.64868648, 0.64868648, 0.84114056,\n",
       "         0.84114056, 0.22655867, 0.22655867, 0.8007599 , 0.8007599 ,\n",
       "         0.17708117, 0.17708117, 0.2466817 , 0.2466817 , 0.88345452,\n",
       "         0.88345452, 0.28079446, 0.28079446, 0.66332451, 0.66332451,\n",
       "         0.12542243, 0.12542243, 0.61702867, 0.61702867, 0.93606108,\n",
       "         0.93606108, 0.85067696, 0.85067696, 0.77485152, 0.77485152,\n",
       "         0.10810296, 0.10810296, 0.52404504, 0.52404504, 0.38107425,\n",
       "         0.38107425, 0.24594333, 0.24594333, 0.57139079, 0.57139079,\n",
       "         0.74889458, 0.74889458, 0.33812283, 0.33812283, 0.94638493,\n",
       "         0.94638493, 0.9674394 , 0.9674394 , 0.36425028, 0.36425028,\n",
       "         0.54534353, 0.54534353, 0.87010804, 0.87010804, 0.23594682,\n",
       "         0.23594682, 0.35701521, 0.35701521, 0.69631564, 0.69631564,\n",
       "         0.7442568 , 0.7442568 , 0.42424522, 0.42424522, 0.36208631,\n",
       "         0.36208631, 0.18159862, 0.18159862, 0.52758263, 0.52758263,\n",
       "         0.58837218, 0.58837218, 0.74318654, 0.74318654, 0.55344964,\n",
       "         0.55344964, 0.89914737, 0.89914737, 0.89895976, 0.89895976,\n",
       "         0.0215137 , 0.0215137 , 0.27279826, 0.27279826, 0.76580293,\n",
       "         0.76580293, 0.42329756, 0.42329756, 0.82552483, 0.82552483,\n",
       "         0.89484667, 0.89484667, 0.40982932, 0.40982932, 0.74024991,\n",
       "         0.74024991, 0.13075926, 0.13075926, 0.59177581, 0.59177581,\n",
       "         0.25296561, 0.25296561, 0.31370599, 0.31370599, 0.32009566,\n",
       "         0.32009566, 0.46689651, 0.46689651, 0.28965452, 0.28965452,\n",
       "         0.81944805, 0.81944805, 0.14062876, 0.14062876, 0.85681798,\n",
       "         0.85681798, 0.29910095, 0.29910095, 0.05367284, 0.05367284,\n",
       "         0.82325162, 0.82325162, 0.43332651, 0.43332651, 0.82671121,\n",
       "         0.82671121, 0.73263606, 0.73263606, 0.38043378, 0.38043378,\n",
       "         0.06683457, 0.06683457, 0.56974062, 0.56974062, 0.47548265,\n",
       "         0.47548265, 0.00921539, 0.00921539, 0.82782705, 0.82782705,\n",
       "         0.76374254, 0.76374254, 0.55401646, 0.55401646, 0.64055597,\n",
       "         0.64055597, 0.64614892, 0.64614892, 0.73620755, 0.73620755])}}"
      ]
     },
     "execution_count": 1,
     "metadata": {},
     "output_type": "execute_result"
    }
   ],
   "source": [
    "ds = load_by_id(run_id_n)\n",
    "ds.get_parameter_data('x1')"
   ]
  },
  {
   "cell_type": "markdown",
   "metadata": {},
   "source": [
    "And a dataset stored as binary arrays"
   ]
  },
  {
   "cell_type": "code",
   "execution_count": 12,
   "metadata": {
    "execution": {
     "iopub.execute_input": "2021-02-22T09:34:31.501980Z",
     "iopub.status.busy": "2021-02-22T09:34:31.501378Z",
     "iopub.status.idle": "2021-02-22T09:34:31.561295Z",
     "shell.execute_reply": "2021-02-22T09:34:31.562155Z"
    },
    "scrolled": true
   },
   "outputs": [
    {
     "data": {
      "text/plain": [
       "{'x1': {'x1': array([[0.42450469],\n",
       "         [0.42450469],\n",
       "         [0.09463423],\n",
       "         [0.09463423],\n",
       "         [0.11736351],\n",
       "         [0.11736351],\n",
       "         [0.80219524],\n",
       "         [0.80219524],\n",
       "         [0.55148817],\n",
       "         [0.55148817],\n",
       "         [0.63657546],\n",
       "         [0.63657546],\n",
       "         [0.97729879],\n",
       "         [0.97729879],\n",
       "         [0.27192128],\n",
       "         [0.27192128],\n",
       "         [0.21434835],\n",
       "         [0.21434835],\n",
       "         [0.24627161],\n",
       "         [0.24627161],\n",
       "         [0.48406764],\n",
       "         [0.48406764],\n",
       "         [0.72251954],\n",
       "         [0.72251954],\n",
       "         [0.1585986 ],\n",
       "         [0.1585986 ],\n",
       "         [0.27468635],\n",
       "         [0.27468635],\n",
       "         [0.70537485],\n",
       "         [0.70537485],\n",
       "         [0.37918544],\n",
       "         [0.37918544],\n",
       "         [0.38555922],\n",
       "         [0.38555922],\n",
       "         [0.46383273],\n",
       "         [0.46383273],\n",
       "         [0.57795651],\n",
       "         [0.57795651],\n",
       "         [0.13456521],\n",
       "         [0.13456521],\n",
       "         [0.93008068],\n",
       "         [0.93008068],\n",
       "         [0.20799617],\n",
       "         [0.20799617],\n",
       "         [0.79367915],\n",
       "         [0.79367915],\n",
       "         [0.01284792],\n",
       "         [0.01284792],\n",
       "         [0.36889716],\n",
       "         [0.36889716],\n",
       "         [0.4219762 ],\n",
       "         [0.4219762 ],\n",
       "         [0.27869869],\n",
       "         [0.27869869],\n",
       "         [0.25006565],\n",
       "         [0.25006565],\n",
       "         [0.78805017],\n",
       "         [0.78805017],\n",
       "         [0.44459964],\n",
       "         [0.44459964],\n",
       "         [0.1973647 ],\n",
       "         [0.1973647 ],\n",
       "         [0.8439417 ],\n",
       "         [0.8439417 ],\n",
       "         [0.70001572],\n",
       "         [0.70001572],\n",
       "         [0.28365192],\n",
       "         [0.28365192],\n",
       "         [0.0427631 ],\n",
       "         [0.0427631 ],\n",
       "         [0.97988249],\n",
       "         [0.97988249],\n",
       "         [0.39662918],\n",
       "         [0.39662918],\n",
       "         [0.66620614],\n",
       "         [0.66620614],\n",
       "         [0.33556212],\n",
       "         [0.33556212],\n",
       "         [0.51889025],\n",
       "         [0.51889025],\n",
       "         [0.59943239],\n",
       "         [0.59943239],\n",
       "         [0.29582404],\n",
       "         [0.29582404],\n",
       "         [0.33197506],\n",
       "         [0.33197506],\n",
       "         [0.66115991],\n",
       "         [0.66115991],\n",
       "         [0.59857931],\n",
       "         [0.59857931],\n",
       "         [0.3241511 ],\n",
       "         [0.3241511 ],\n",
       "         [0.7406726 ],\n",
       "         [0.7406726 ],\n",
       "         [0.95187051],\n",
       "         [0.95187051],\n",
       "         [0.71097745],\n",
       "         [0.71097745],\n",
       "         [0.47902262],\n",
       "         [0.47902262],\n",
       "         [0.7945882 ],\n",
       "         [0.7945882 ],\n",
       "         [0.81115581],\n",
       "         [0.81115581],\n",
       "         [0.11513863],\n",
       "         [0.11513863],\n",
       "         [0.91260321],\n",
       "         [0.91260321],\n",
       "         [0.55116316],\n",
       "         [0.55116316],\n",
       "         [0.66470408],\n",
       "         [0.66470408],\n",
       "         [0.45234661],\n",
       "         [0.45234661],\n",
       "         [0.81034926],\n",
       "         [0.81034926],\n",
       "         [0.98383063],\n",
       "         [0.98383063],\n",
       "         [0.19454106],\n",
       "         [0.19454106],\n",
       "         [0.51438956],\n",
       "         [0.51438956],\n",
       "         [0.17112949],\n",
       "         [0.17112949],\n",
       "         [0.23604038],\n",
       "         [0.23604038],\n",
       "         [0.9209468 ],\n",
       "         [0.9209468 ],\n",
       "         [0.18807502],\n",
       "         [0.18807502],\n",
       "         [0.68519216],\n",
       "         [0.68519216],\n",
       "         [0.7440362 ],\n",
       "         [0.7440362 ],\n",
       "         [0.61918949],\n",
       "         [0.61918949],\n",
       "         [0.44351307],\n",
       "         [0.44351307],\n",
       "         [0.99818105],\n",
       "         [0.99818105],\n",
       "         [0.12552265],\n",
       "         [0.12552265],\n",
       "         [0.05289033],\n",
       "         [0.05289033],\n",
       "         [0.26392661],\n",
       "         [0.26392661],\n",
       "         [0.47546294],\n",
       "         [0.47546294],\n",
       "         [0.52361129],\n",
       "         [0.52361129],\n",
       "         [0.92902871],\n",
       "         [0.92902871],\n",
       "         [0.38849756],\n",
       "         [0.38849756],\n",
       "         [0.42011624],\n",
       "         [0.42011624],\n",
       "         [0.03152046],\n",
       "         [0.03152046],\n",
       "         [0.37576097],\n",
       "         [0.37576097],\n",
       "         [0.76450207],\n",
       "         [0.76450207],\n",
       "         [0.80860086],\n",
       "         [0.80860086],\n",
       "         [0.67998285],\n",
       "         [0.67998285],\n",
       "         [0.87734892],\n",
       "         [0.87734892],\n",
       "         [0.18198378],\n",
       "         [0.18198378],\n",
       "         [0.38487757],\n",
       "         [0.38487757],\n",
       "         [0.98233314],\n",
       "         [0.98233314],\n",
       "         [0.52110406],\n",
       "         [0.52110406],\n",
       "         [0.92106575],\n",
       "         [0.92106575],\n",
       "         [0.78796107],\n",
       "         [0.78796107],\n",
       "         [0.65487131],\n",
       "         [0.65487131],\n",
       "         [0.93575217],\n",
       "         [0.93575217],\n",
       "         [0.73953308],\n",
       "         [0.73953308],\n",
       "         [0.80350126],\n",
       "         [0.80350126],\n",
       "         [0.6294421 ],\n",
       "         [0.6294421 ],\n",
       "         [0.97869311],\n",
       "         [0.97869311],\n",
       "         [0.23554598],\n",
       "         [0.23554598],\n",
       "         [0.56575436],\n",
       "         [0.56575436],\n",
       "         [0.02838134],\n",
       "         [0.02838134],\n",
       "         [0.6439109 ],\n",
       "         [0.6439109 ]])}}"
      ]
     },
     "execution_count": 1,
     "metadata": {},
     "output_type": "execute_result"
    }
   ],
   "source": [
    "ds = load_by_id(run_id_a)\n",
    "ds.get_parameter_data('x1')"
   ]
  },
  {
   "cell_type": "code",
   "execution_count": null,
   "metadata": {},
   "outputs": [],
   "source": []
  }
 ],
 "metadata": {
  "kernelspec": {
   "display_name": "Python 3",
   "language": "python",
   "name": "python3"
  },
  "language_info": {
   "codemirror_mode": {
    "name": "ipython",
    "version": 3
   },
   "file_extension": ".py",
   "mimetype": "text/x-python",
   "name": "python",
   "nbconvert_exporter": "python",
   "pygments_lexer": "ipython3",
   "version": "3.7.9"
  },
  "nbsphinx": {
   "timeout": 600
  },
  "toc": {
   "base_numbering": 1,
   "nav_menu": {},
   "number_sections": true,
   "sideBar": true,
   "skip_h1_title": false,
   "title_cell": "Table of Contents",
   "title_sidebar": "Contents",
   "toc_cell": false,
   "toc_position": {},
   "toc_section_display": true,
   "toc_window_display": false
  },
  "varInspector": {
   "cols": {
    "lenName": 16,
    "lenType": 16,
    "lenVar": 40
   },
   "kernels_config": {
    "python": {
     "delete_cmd_postfix": "",
     "delete_cmd_prefix": "del ",
     "library": "var_list.py",
     "varRefreshCmd": "print(var_dic_list())"
    },
    "r": {
     "delete_cmd_postfix": ") ",
     "delete_cmd_prefix": "rm(",
     "library": "var_list.r",
     "varRefreshCmd": "cat(var_dic_list()) "
    }
   },
   "types_to_exclude": [
    "module",
    "function",
    "builtin_function_or_method",
    "instance",
    "_Feature"
   ],
   "window_display": false
  }
 },
 "nbformat": 4,
 "nbformat_minor": 2
}
