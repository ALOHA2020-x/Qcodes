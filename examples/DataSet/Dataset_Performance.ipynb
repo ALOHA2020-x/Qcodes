{
 "cells": [
  {
   "cell_type": "markdown",
   "metadata": {},
   "source": [
    "# DataSet Performance\n",
    "\n",
    "This notebook shows the trade-off between inserting data into a database row-by-row and as binary blobs. Inserting the data row-by-row means that we have direct access to all the data and may perform queries directly on the values of the data. On the other hand, as we shall see, this is much slower than inserting the data directly as binary blobs."
   ]
  },
  {
   "cell_type": "markdown",
   "metadata": {},
   "source": [
    "First, we choose a new location for the database to ensure that we don't add a bunch of benchmarking data to the default one."
   ]
  },
  {
   "cell_type": "code",
   "execution_count": 1,
   "metadata": {},
   "outputs": [
    {
     "name": "stdout",
     "output_type": "stream",
     "text": [
      "Logging hadn't been started.\n",
      "Activating auto-logging. Current session state plus future input saved.\n",
      "Filename       : /home/vsts/.qcodes/logs/command_history.log\n",
      "Mode           : append\n",
      "Output logging : True\n",
      "Raw input log  : False\n",
      "Timestamping   : True\n",
      "State          : active\n"
     ]
    },
    {
     "name": "stdout",
     "output_type": "stream",
     "text": [
      "Qcodes Logfile : /home/vsts/.qcodes/logs/200813-18606-qcodes.log\n"
     ]
    }
   ],
   "source": [
    "import os\n",
    "cwd = os.getcwd()\n",
    "import qcodes as qc\n",
    "qc.config[\"core\"][\"db_location\"] = os.path.join(cwd, 'testing.db')\n"
   ]
  },
  {
   "cell_type": "code",
   "execution_count": 2,
   "metadata": {},
   "outputs": [],
   "source": [
    "%matplotlib inline\n",
    "import time\n",
    "import matplotlib.pyplot as plt\n",
    "import numpy as np\n",
    "\n",
    "import qcodes as qc\n",
    "from qcodes.instrument.parameter import ManualParameter\n",
    "from qcodes.dataset.experiment_container import (Experiment,\n",
    "                                                 load_last_experiment,\n",
    "                                                 new_experiment)\n",
    "from qcodes.dataset.sqlite.database import initialise_database\n",
    "from qcodes import load_or_create_experiment\n",
    "from qcodes.dataset.measurements import Measurement"
   ]
  },
  {
   "cell_type": "code",
   "execution_count": 3,
   "metadata": {},
   "outputs": [
    {
     "name": "stdout",
     "output_type": "stream",
     "text": [
      "\r",
      "0it [00:00, ?it/s]"
     ]
    },
    {
     "name": "stdout",
     "output_type": "stream",
     "text": [
      "\r",
      "Upgrading database; v0 -> v1: : 0it [00:00, ?it/s]"
     ]
    },
    {
     "name": "stdout",
     "output_type": "stream",
     "text": [
      "\r",
      "Upgrading database; v0 -> v1: : 0it [00:00, ?it/s]"
     ]
    },
    {
     "name": "stdout",
     "output_type": "stream",
     "text": [
      "\n",
      "\r",
      "  0%|          | 0/1 [00:00<?, ?it/s]"
     ]
    },
    {
     "name": "stdout",
     "output_type": "stream",
     "text": [
      "\r",
      "Upgrading database; v1 -> v2:   0%|          | 0/1 [00:00<?, ?it/s]"
     ]
    },
    {
     "name": "stdout",
     "output_type": "stream",
     "text": [
      "\r",
      "Upgrading database; v1 -> v2: 100%|██████████| 1/1 [00:00<00:00, 756.55it/s]"
     ]
    },
    {
     "name": "stdout",
     "output_type": "stream",
     "text": [
      "\n",
      "\r",
      "0it [00:00, ?it/s]"
     ]
    },
    {
     "name": "stdout",
     "output_type": "stream",
     "text": [
      "\r",
      "Upgrading database; v2 -> v3: : 0it [00:00, ?it/s]"
     ]
    },
    {
     "name": "stdout",
     "output_type": "stream",
     "text": [
      "\r",
      "Upgrading database; v2 -> v3: : 0it [00:00, ?it/s]"
     ]
    },
    {
     "name": "stdout",
     "output_type": "stream",
     "text": [
      "\n",
      "\r",
      "0it [00:00, ?it/s]"
     ]
    },
    {
     "name": "stdout",
     "output_type": "stream",
     "text": [
      "\r",
      "Upgrading database; v3 -> v4: : 0it [00:00, ?it/s]"
     ]
    },
    {
     "name": "stdout",
     "output_type": "stream",
     "text": [
      "\r",
      "Upgrading database; v3 -> v4: : 0it [00:00, ?it/s]"
     ]
    },
    {
     "name": "stdout",
     "output_type": "stream",
     "text": [
      "\n",
      "\r",
      "  0%|          | 0/1 [00:00<?, ?it/s]"
     ]
    },
    {
     "name": "stdout",
     "output_type": "stream",
     "text": [
      "\r",
      "Upgrading database; v4 -> v5:   0%|          | 0/1 [00:00<?, ?it/s]"
     ]
    },
    {
     "name": "stdout",
     "output_type": "stream",
     "text": [
      "\r",
      "Upgrading database; v4 -> v5: 100%|██████████| 1/1 [00:00<00:00, 730.46it/s]"
     ]
    },
    {
     "name": "stdout",
     "output_type": "stream",
     "text": [
      "\n",
      "\r",
      "0it [00:00, ?it/s]"
     ]
    },
    {
     "name": "stdout",
     "output_type": "stream",
     "text": [
      "\r",
      "Upgrading database; v5 -> v6: : 0it [00:00, ?it/s]"
     ]
    },
    {
     "name": "stdout",
     "output_type": "stream",
     "text": [
      "\r",
      "Upgrading database; v5 -> v6: : 0it [00:00, ?it/s]"
     ]
    },
    {
     "name": "stdout",
     "output_type": "stream",
     "text": [
      "\n",
      "\r",
      "  0%|          | 0/1 [00:00<?, ?it/s]"
     ]
    },
    {
     "name": "stdout",
     "output_type": "stream",
     "text": [
      "\r",
      "Upgrading database; v6 -> v7:   0%|          | 0/1 [00:00<?, ?it/s]"
     ]
    },
    {
     "name": "stdout",
     "output_type": "stream",
     "text": [
      "\r",
      "Upgrading database; v6 -> v7: 100%|██████████| 1/1 [00:00<00:00, 393.02it/s]"
     ]
    },
    {
     "name": "stdout",
     "output_type": "stream",
     "text": [
      "\n",
      "\r",
      "  0%|          | 0/1 [00:00<?, ?it/s]"
     ]
    },
    {
     "name": "stdout",
     "output_type": "stream",
     "text": [
      "\r",
      "Upgrading database; v7 -> v8:   0%|          | 0/1 [00:00<?, ?it/s]"
     ]
    },
    {
     "name": "stdout",
     "output_type": "stream",
     "text": [
      "\r",
      "Upgrading database; v7 -> v8: 100%|██████████| 1/1 [00:00<00:00, 628.45it/s]"
     ]
    },
    {
     "name": "stdout",
     "output_type": "stream",
     "text": [
      "\n",
      "\r",
      "  0%|          | 0/1 [00:00<?, ?it/s]"
     ]
    },
    {
     "name": "stdout",
     "output_type": "stream",
     "text": [
      "\r",
      "Upgrading database; v8 -> v9:   0%|          | 0/1 [00:00<?, ?it/s]"
     ]
    },
    {
     "name": "stdout",
     "output_type": "stream",
     "text": [
      "\r",
      "Upgrading database; v8 -> v9: 100%|██████████| 1/1 [00:00<00:00, 786.19it/s]"
     ]
    },
    {
     "name": "stdout",
     "output_type": "stream",
     "text": [
      "\n"
     ]
    }
   ],
   "source": [
    "initialise_database()\n",
    "exp = load_or_create_experiment(experiment_name='tutorial_exp', sample_name=\"no sample\")"
   ]
  },
  {
   "cell_type": "markdown",
   "metadata": {},
   "source": [
    "Here, we define a simple function to benchmark the time it takes to insert n points with either numeric or array data type.\n",
    "We will compare both the time used to call ``add_result`` and the time used for the full measurement."
   ]
  },
  {
   "cell_type": "code",
   "execution_count": 4,
   "metadata": {},
   "outputs": [],
   "source": [
    "def insert_data(paramtype, npoints, nreps=1):\n",
    "\n",
    "    meas = Measurement(exp=exp)\n",
    "\n",
    "    x1 = ManualParameter('x1')\n",
    "    x2 = ManualParameter('x2')\n",
    "    x3 = ManualParameter('x3')\n",
    "    y1 = ManualParameter('y1')\n",
    "    y2 = ManualParameter('y2')\n",
    "\n",
    "    meas.register_parameter(x1, paramtype=paramtype)\n",
    "    meas.register_parameter(x2, paramtype=paramtype)\n",
    "    meas.register_parameter(x3, paramtype=paramtype)\n",
    "    meas.register_parameter(y1, setpoints=[x1, x2, x3],\n",
    "                            paramtype=paramtype)\n",
    "    meas.register_parameter(y2, setpoints=[x1, x2, x3],\n",
    "                            paramtype=paramtype)\n",
    "    start = time.perf_counter()\n",
    "    with meas.run() as datasaver:\n",
    "        start_adding = time.perf_counter()\n",
    "        for i in range(nreps):\n",
    "            datasaver.add_result((x1, np.random.rand(npoints)),\n",
    "                                 (x2, np.random.rand(npoints)),\n",
    "                                 (x3, np.random.rand(npoints)),\n",
    "                                 (y1, np.random.rand(npoints)),\n",
    "                                 (y2, np.random.rand(npoints)))\n",
    "        stop_adding = time.perf_counter()\n",
    "        run_id = datasaver.run_id\n",
    "    stop = time.perf_counter()\n",
    "    tot_time = stop - start\n",
    "    add_time = stop_adding - start_adding\n",
    "    return tot_time, add_time, run_id"
   ]
  },
  {
   "cell_type": "markdown",
   "metadata": {},
   "source": [
    "## Comparison between numeric/array data and binary blob"
   ]
  },
  {
   "cell_type": "markdown",
   "metadata": {},
   "source": [
    "### Case1: Short experiment time"
   ]
  },
  {
   "cell_type": "code",
   "execution_count": 5,
   "metadata": {},
   "outputs": [
    {
     "name": "stdout",
     "output_type": "stream",
     "text": [
      "Starting experimental run with id: 1. \n",
      "Starting experimental run with id: 2. \n",
      "Starting experimental run with id: 3. \n",
      "Starting experimental run with id: 4. \n"
     ]
    },
    {
     "name": "stdout",
     "output_type": "stream",
     "text": [
      "Starting experimental run with id: 5. \n"
     ]
    },
    {
     "name": "stdout",
     "output_type": "stream",
     "text": [
      "Starting experimental run with id: 6. \n",
      "Starting experimental run with id: 7. \n"
     ]
    },
    {
     "name": "stdout",
     "output_type": "stream",
     "text": [
      "Starting experimental run with id: 8. \n",
      "Starting experimental run with id: 9. \n"
     ]
    },
    {
     "name": "stdout",
     "output_type": "stream",
     "text": [
      "Starting experimental run with id: 10. \n",
      "Starting experimental run with id: 11. \n"
     ]
    },
    {
     "name": "stdout",
     "output_type": "stream",
     "text": [
      "Starting experimental run with id: 12. \n",
      "Starting experimental run with id: 13. \n"
     ]
    },
    {
     "name": "stdout",
     "output_type": "stream",
     "text": [
      "Starting experimental run with id: 14. \n"
     ]
    }
   ],
   "source": [
    "sizes = [1,500,1000,2000,3000,4000,5000]\n",
    "t_numeric = []\n",
    "t_numeric_add = []\n",
    "t_array = []\n",
    "t_array_add = []\n",
    "for size in sizes:\n",
    "    tn, tna, run_id_n =  insert_data('numeric', size)\n",
    "    t_numeric.append(tn)\n",
    "    t_numeric_add.append(tna)\n",
    "\n",
    "    ta, taa, run_id_a =  insert_data('array', size)\n",
    "    t_array.append(ta)\n",
    "    t_array_add.append(taa)"
   ]
  },
  {
   "cell_type": "code",
   "execution_count": 6,
   "metadata": {},
   "outputs": [
    {
     "data": {
      "image/png": "[encoded data removed]",
      "text/plain": [
       "<Figure size 432x288 with 1 Axes>"
      ]
     },
     "metadata": {
      "needs_background": "light"
     },
     "output_type": "display_data"
    }
   ],
   "source": [
    "fig, ax = plt.subplots(1,1)\n",
    "ax.plot(sizes, t_numeric, 'o-', label='Inserting row-by-row')\n",
    "ax.plot(sizes, t_numeric_add, 'o-', label='Inserting row-by-row: add_result only')\n",
    "ax.plot(sizes, t_array, 'd-', label='Inserting as binary blob')\n",
    "ax.plot(sizes, t_array_add, 'd-', label='Inserting as binary blob: add_result only')\n",
    "ax.legend()\n",
    "ax.set_xlabel('Array length')\n",
    "ax.set_ylabel('Time (s)')\n",
    "fig.tight_layout()"
   ]
  },
  {
   "cell_type": "markdown",
   "metadata": {},
   "source": [
    "As shown in the latter figure, the time to setup and and close the experiment is approximately 0.4 sec. In case of small array sizes, the difference between inserting values of data as arrays and inserting them row-by-row is relatively unimportant. At larger array sizes, i.e. above 10000 points, the cost of writing data as individual datapoints starts to become important.\n"
   ]
  },
  {
   "cell_type": "markdown",
   "metadata": {},
   "source": [
    "### Case2: Long experiment time "
   ]
  },
  {
   "cell_type": "code",
   "execution_count": 7,
   "metadata": {},
   "outputs": [
    {
     "name": "stdout",
     "output_type": "stream",
     "text": [
      "Starting experimental run with id: 15. \n",
      "Starting experimental run with id: 16. \n",
      "Starting experimental run with id: 17. \n"
     ]
    },
    {
     "name": "stdout",
     "output_type": "stream",
     "text": [
      "Starting experimental run with id: 18. \n",
      "Starting experimental run with id: 19. \n"
     ]
    },
    {
     "name": "stdout",
     "output_type": "stream",
     "text": [
      "Starting experimental run with id: 20. \n"
     ]
    },
    {
     "name": "stdout",
     "output_type": "stream",
     "text": [
      "Starting experimental run with id: 21. \n"
     ]
    },
    {
     "name": "stdout",
     "output_type": "stream",
     "text": [
      "Starting experimental run with id: 22. \n"
     ]
    },
    {
     "name": "stdout",
     "output_type": "stream",
     "text": [
      "Starting experimental run with id: 23. \n"
     ]
    },
    {
     "name": "stdout",
     "output_type": "stream",
     "text": [
      "Starting experimental run with id: 24. \n"
     ]
    },
    {
     "name": "stdout",
     "output_type": "stream",
     "text": [
      "Starting experimental run with id: 25. \n"
     ]
    },
    {
     "name": "stdout",
     "output_type": "stream",
     "text": [
      "Starting experimental run with id: 26. \n"
     ]
    },
    {
     "name": "stdout",
     "output_type": "stream",
     "text": [
      "Starting experimental run with id: 27. \n"
     ]
    },
    {
     "name": "stdout",
     "output_type": "stream",
     "text": [
      "Starting experimental run with id: 28. \n"
     ]
    }
   ],
   "source": [
    "sizes = [1,500,1000,2000,3000,4000,5000]\n",
    "nreps = 100\n",
    "t_numeric = []\n",
    "t_numeric_add = []\n",
    "t_numeric_run_ids = []\n",
    "t_array = []\n",
    "t_array_add = []\n",
    "t_array_run_ids = []\n",
    "for size in sizes:\n",
    "    tn, tna, run_id_n =  insert_data('numeric', size, nreps=nreps)\n",
    "    t_numeric.append(tn)\n",
    "    t_numeric_add.append(tna)\n",
    "    t_numeric_run_ids.append(run_id_n)\n",
    "\n",
    "    ta, taa, run_id_a =  insert_data('array', size, nreps=nreps)\n",
    "    t_array.append(ta)\n",
    "    t_array_add.append(taa)\n",
    "    t_array_run_ids.append(run_id_a)"
   ]
  },
  {
   "cell_type": "code",
   "execution_count": 8,
   "metadata": {
    "scrolled": true
   },
   "outputs": [
    {
     "data": {
      "image/png": "[encoded data removed]",
      "text/plain": [
       "<Figure size 432x288 with 1 Axes>"
      ]
     },
     "metadata": {
      "needs_background": "light"
     },
     "output_type": "display_data"
    }
   ],
   "source": [
    "fig, ax = plt.subplots(1,1)\n",
    "ax.plot(sizes, t_numeric, 'o-', label='Inserting row-by-row')\n",
    "ax.plot(sizes, t_numeric_add, 'o-', label='Inserting row-by-row: add_result only')\n",
    "ax.plot(sizes, t_array, 'd-', label='Inserting as binary blob')\n",
    "ax.plot(sizes, t_array_add, 'd-', label='Inserting as binary blob: add_result only')\n",
    "ax.legend()\n",
    "ax.set_xlabel('Array length')\n",
    "ax.set_ylabel('Time (s)')\n",
    "fig.tight_layout()"
   ]
  },
  {
   "cell_type": "markdown",
   "metadata": {},
   "source": [
    "However, as we increase the length of the experiment, as seen here by repeating the insertion 100 times, we see a big difference between inserting values of the data row-by-row and inserting it as a binary blob."
   ]
  },
  {
   "cell_type": "markdown",
   "metadata": {},
   "source": [
    "## Loading the data "
   ]
  },
  {
   "cell_type": "code",
   "execution_count": 9,
   "metadata": {},
   "outputs": [],
   "source": [
    "from qcodes.dataset.data_set import load_by_id\n",
    "from qcodes.dataset.data_export import get_data_by_id"
   ]
  },
  {
   "cell_type": "markdown",
   "metadata": {},
   "source": [
    "As usual you can load the data by using the ``load_by_id`` function but you will notice that the different storage methods\n",
    "are reflected in shape of the data as it is retrieved. "
   ]
  },
  {
   "cell_type": "code",
   "execution_count": 10,
   "metadata": {},
   "outputs": [],
   "source": [
    "run_id_n = t_numeric_run_ids[0]\n",
    "run_id_a = t_array_run_ids[0]"
   ]
  },
  {
   "cell_type": "code",
   "execution_count": 11,
   "metadata": {
    "scrolled": true
   },
   "outputs": [
    {
     "data": {
      "text/plain": [
       "{'x1': {'x1': array([2.76463675e-02, 2.76463675e-02, 6.39597809e-01, 6.39597809e-01,\n",
       "         1.14140922e-01, 1.14140922e-01, 1.50591544e-01, 1.50591544e-01,\n",
       "         6.07458968e-01, 6.07458968e-01, 5.61193975e-01, 5.61193975e-01,\n",
       "         3.34426401e-01, 3.34426401e-01, 5.75992632e-02, 5.75992632e-02,\n",
       "         8.81703523e-02, 8.81703523e-02, 8.27224556e-01, 8.27224556e-01,\n",
       "         3.59364660e-01, 3.59364660e-01, 1.17860033e-02, 1.17860033e-02,\n",
       "         2.16482123e-01, 2.16482123e-01, 4.15982308e-01, 4.15982308e-01,\n",
       "         2.88357462e-01, 2.88357462e-01, 3.66389100e-01, 3.66389100e-01,\n",
       "         4.26831081e-02, 4.26831081e-02, 1.32850066e-01, 1.32850066e-01,\n",
       "         6.58822748e-01, 6.58822748e-01, 1.24498423e-01, 1.24498423e-01,\n",
       "         4.20593552e-04, 4.20593552e-04, 2.28939787e-01, 2.28939787e-01,\n",
       "         7.12616408e-01, 7.12616408e-01, 3.67612391e-02, 3.67612391e-02,\n",
       "         9.02787338e-01, 9.02787338e-01, 3.49495544e-01, 3.49495544e-01,\n",
       "         6.50981059e-01, 6.50981059e-01, 6.55547260e-01, 6.55547260e-01,\n",
       "         9.64882730e-01, 9.64882730e-01, 9.20386215e-01, 9.20386215e-01,\n",
       "         4.27215529e-01, 4.27215529e-01, 4.27204797e-01, 4.27204797e-01,\n",
       "         9.18072284e-01, 9.18072284e-01, 8.80262232e-01, 8.80262232e-01,\n",
       "         8.66694440e-02, 8.66694440e-02, 4.54617994e-01, 4.54617994e-01,\n",
       "         6.25374896e-01, 6.25374896e-01, 8.60546020e-01, 8.60546020e-01,\n",
       "         8.37199151e-01, 8.37199151e-01, 4.76753604e-02, 4.76753604e-02,\n",
       "         8.67606298e-01, 8.67606298e-01, 1.79914509e-01, 1.79914509e-01,\n",
       "         1.05174256e-01, 1.05174256e-01, 1.30794421e-02, 1.30794421e-02,\n",
       "         6.66280922e-01, 6.66280922e-01, 8.47278065e-01, 8.47278065e-01,\n",
       "         8.35424008e-02, 8.35424008e-02, 3.51124812e-01, 3.51124812e-01,\n",
       "         9.71032273e-01, 9.71032273e-01, 8.01814602e-01, 8.01814602e-01,\n",
       "         1.37955313e-01, 1.37955313e-01, 6.57703596e-01, 6.57703596e-01,\n",
       "         3.61691565e-02, 3.61691565e-02, 2.96570053e-01, 2.96570053e-01,\n",
       "         8.69129291e-01, 8.69129291e-01, 1.22834470e-01, 1.22834470e-01,\n",
       "         8.36453980e-01, 8.36453980e-01, 7.35883167e-01, 7.35883167e-01,\n",
       "         1.90651047e-01, 1.90651047e-01, 7.49656583e-01, 7.49656583e-01,\n",
       "         6.31842650e-01, 6.31842650e-01, 3.40671450e-01, 3.40671450e-01,\n",
       "         8.37128977e-01, 8.37128977e-01, 1.97250009e-02, 1.97250009e-02,\n",
       "         1.69862162e-01, 1.69862162e-01, 9.49464831e-01, 9.49464831e-01,\n",
       "         4.03812468e-02, 4.03812468e-02, 7.28377049e-01, 7.28377049e-01,\n",
       "         1.54495133e-01, 1.54495133e-01, 3.23566286e-01, 3.23566286e-01,\n",
       "         9.08791579e-01, 9.08791579e-01, 9.42408344e-01, 9.42408344e-01,\n",
       "         1.84742166e-01, 1.84742166e-01, 1.75589667e-01, 1.75589667e-01,\n",
       "         2.61979595e-01, 2.61979595e-01, 7.42949047e-01, 7.42949047e-01,\n",
       "         7.34762924e-01, 7.34762924e-01, 6.19742810e-01, 6.19742810e-01,\n",
       "         4.93866841e-04, 4.93866841e-04, 3.59354701e-01, 3.59354701e-01,\n",
       "         7.50500327e-01, 7.50500327e-01, 3.75718842e-01, 3.75718842e-01,\n",
       "         2.03162614e-01, 2.03162614e-01, 3.11281286e-01, 3.11281286e-01,\n",
       "         1.69162844e-01, 1.69162844e-01, 2.09103858e-01, 2.09103858e-01,\n",
       "         3.70854591e-01, 3.70854591e-01, 6.57018561e-02, 6.57018561e-02,\n",
       "         8.47398797e-01, 8.47398797e-01, 1.68863230e-01, 1.68863230e-01,\n",
       "         1.05026215e-01, 1.05026215e-01, 5.85426872e-01, 5.85426872e-01,\n",
       "         7.08793832e-01, 7.08793832e-01, 2.58490252e-01, 2.58490252e-01,\n",
       "         2.45439094e-01, 2.45439094e-01, 3.55809321e-01, 3.55809321e-01,\n",
       "         7.44245458e-02, 7.44245458e-02, 1.81217757e-02, 1.81217757e-02,\n",
       "         3.13459557e-01, 3.13459557e-01, 3.33577609e-01, 3.33577609e-01])}}"
      ]
     },
     "execution_count": 11,
     "metadata": {},
     "output_type": "execute_result"
    }
   ],
   "source": [
    "ds = load_by_id(run_id_n)\n",
    "ds.get_parameter_data('x1')"
   ]
  },
  {
   "cell_type": "markdown",
   "metadata": {},
   "source": [
    "And a dataset stored as binary arrays"
   ]
  },
  {
   "cell_type": "code",
   "execution_count": 12,
   "metadata": {
    "scrolled": true
   },
   "outputs": [
    {
     "data": {
      "text/plain": [
       "{'x1': {'x1': array([[0.62960621],\n",
       "         [0.62960621],\n",
       "         [0.03495316],\n",
       "         [0.03495316],\n",
       "         [0.84702151],\n",
       "         [0.84702151],\n",
       "         [0.16986632],\n",
       "         [0.16986632],\n",
       "         [0.76850148],\n",
       "         [0.76850148],\n",
       "         [0.23027703],\n",
       "         [0.23027703],\n",
       "         [0.65881617],\n",
       "         [0.65881617],\n",
       "         [0.5842925 ],\n",
       "         [0.5842925 ],\n",
       "         [0.88594312],\n",
       "         [0.88594312],\n",
       "         [0.70471328],\n",
       "         [0.70471328],\n",
       "         [0.86703585],\n",
       "         [0.86703585],\n",
       "         [0.15842237],\n",
       "         [0.15842237],\n",
       "         [0.12859025],\n",
       "         [0.12859025],\n",
       "         [0.72014525],\n",
       "         [0.72014525],\n",
       "         [0.62079864],\n",
       "         [0.62079864],\n",
       "         [0.69122215],\n",
       "         [0.69122215],\n",
       "         [0.54696379],\n",
       "         [0.54696379],\n",
       "         [0.46533095],\n",
       "         [0.46533095],\n",
       "         [0.71414111],\n",
       "         [0.71414111],\n",
       "         [0.1556565 ],\n",
       "         [0.1556565 ],\n",
       "         [0.23188659],\n",
       "         [0.23188659],\n",
       "         [0.19021193],\n",
       "         [0.19021193],\n",
       "         [0.52915209],\n",
       "         [0.52915209],\n",
       "         [0.42784809],\n",
       "         [0.42784809],\n",
       "         [0.17179469],\n",
       "         [0.17179469],\n",
       "         [0.43154274],\n",
       "         [0.43154274],\n",
       "         [0.95200243],\n",
       "         [0.95200243],\n",
       "         [0.70740241],\n",
       "         [0.70740241],\n",
       "         [0.91850937],\n",
       "         [0.91850937],\n",
       "         [0.54999552],\n",
       "         [0.54999552],\n",
       "         [0.12078662],\n",
       "         [0.12078662],\n",
       "         [0.94739813],\n",
       "         [0.94739813],\n",
       "         [0.54548613],\n",
       "         [0.54548613],\n",
       "         [0.01557101],\n",
       "         [0.01557101],\n",
       "         [0.28860835],\n",
       "         [0.28860835],\n",
       "         [0.17157483],\n",
       "         [0.17157483],\n",
       "         [0.54750294],\n",
       "         [0.54750294],\n",
       "         [0.80336389],\n",
       "         [0.80336389],\n",
       "         [0.68083785],\n",
       "         [0.68083785],\n",
       "         [0.14240298],\n",
       "         [0.14240298],\n",
       "         [0.00884058],\n",
       "         [0.00884058],\n",
       "         [0.35482114],\n",
       "         [0.35482114],\n",
       "         [0.41462259],\n",
       "         [0.41462259],\n",
       "         [0.46141576],\n",
       "         [0.46141576],\n",
       "         [0.42090492],\n",
       "         [0.42090492],\n",
       "         [0.06510408],\n",
       "         [0.06510408],\n",
       "         [0.98333677],\n",
       "         [0.98333677],\n",
       "         [0.27978579],\n",
       "         [0.27978579],\n",
       "         [0.98008594],\n",
       "         [0.98008594],\n",
       "         [0.72115025],\n",
       "         [0.72115025],\n",
       "         [0.74704385],\n",
       "         [0.74704385],\n",
       "         [0.1379494 ],\n",
       "         [0.1379494 ],\n",
       "         [0.11997271],\n",
       "         [0.11997271],\n",
       "         [0.20976966],\n",
       "         [0.20976966],\n",
       "         [0.70374983],\n",
       "         [0.70374983],\n",
       "         [0.73408257],\n",
       "         [0.73408257],\n",
       "         [0.53923328],\n",
       "         [0.53923328],\n",
       "         [0.4988316 ],\n",
       "         [0.4988316 ],\n",
       "         [0.80335329],\n",
       "         [0.80335329],\n",
       "         [0.26282907],\n",
       "         [0.26282907],\n",
       "         [0.01747762],\n",
       "         [0.01747762],\n",
       "         [0.76122739],\n",
       "         [0.76122739],\n",
       "         [0.86985894],\n",
       "         [0.86985894],\n",
       "         [0.10083106],\n",
       "         [0.10083106],\n",
       "         [0.29431697],\n",
       "         [0.29431697],\n",
       "         [0.00426811],\n",
       "         [0.00426811],\n",
       "         [0.64749553],\n",
       "         [0.64749553],\n",
       "         [0.85963713],\n",
       "         [0.85963713],\n",
       "         [0.57787845],\n",
       "         [0.57787845],\n",
       "         [0.39711432],\n",
       "         [0.39711432],\n",
       "         [0.10411815],\n",
       "         [0.10411815],\n",
       "         [0.4822716 ],\n",
       "         [0.4822716 ],\n",
       "         [0.9077611 ],\n",
       "         [0.9077611 ],\n",
       "         [0.25416708],\n",
       "         [0.25416708],\n",
       "         [0.95130287],\n",
       "         [0.95130287],\n",
       "         [0.96995555],\n",
       "         [0.96995555],\n",
       "         [0.90654119],\n",
       "         [0.90654119],\n",
       "         [0.5975195 ],\n",
       "         [0.5975195 ],\n",
       "         [0.41407955],\n",
       "         [0.41407955],\n",
       "         [0.16929789],\n",
       "         [0.16929789],\n",
       "         [0.39432844],\n",
       "         [0.39432844],\n",
       "         [0.01470034],\n",
       "         [0.01470034],\n",
       "         [0.36825275],\n",
       "         [0.36825275],\n",
       "         [0.73053791],\n",
       "         [0.73053791],\n",
       "         [0.4746787 ],\n",
       "         [0.4746787 ],\n",
       "         [0.25459346],\n",
       "         [0.25459346],\n",
       "         [0.13908201],\n",
       "         [0.13908201],\n",
       "         [0.15572506],\n",
       "         [0.15572506],\n",
       "         [0.83350411],\n",
       "         [0.83350411],\n",
       "         [0.12628829],\n",
       "         [0.12628829],\n",
       "         [0.14262721],\n",
       "         [0.14262721],\n",
       "         [0.20719241],\n",
       "         [0.20719241],\n",
       "         [0.74210429],\n",
       "         [0.74210429],\n",
       "         [0.10202118],\n",
       "         [0.10202118],\n",
       "         [0.60089085],\n",
       "         [0.60089085],\n",
       "         [0.18910961],\n",
       "         [0.18910961],\n",
       "         [0.8919073 ],\n",
       "         [0.8919073 ],\n",
       "         [0.42430486],\n",
       "         [0.42430486],\n",
       "         [0.0758485 ],\n",
       "         [0.0758485 ],\n",
       "         [0.46645422],\n",
       "         [0.46645422]])}}"
      ]
     },
     "execution_count": 12,
     "metadata": {},
     "output_type": "execute_result"
    }
   ],
   "source": [
    "ds = load_by_id(run_id_a)\n",
    "ds.get_parameter_data('x1')"
   ]
  },
  {
   "cell_type": "code",
   "execution_count": null,
   "metadata": {},
   "outputs": [],
   "source": []
  }
 ],
 "metadata": {
  "kernelspec": {
   "display_name": "Python 3",
   "language": "python",
   "name": "python3"
  },
  "language_info": {
   "codemirror_mode": {
    "name": "ipython",
    "version": 3
   },
   "file_extension": ".py",
   "mimetype": "text/x-python",
   "name": "python",
   "nbconvert_exporter": "python",
   "pygments_lexer": "ipython3",
   "version": "3.7.7"
  },
  "nbsphinx": {
   "timeout": 600
  },
  "toc": {
   "base_numbering": 1,
   "nav_menu": {},
   "number_sections": true,
   "sideBar": true,
   "skip_h1_title": false,
   "title_cell": "Table of Contents",
   "title_sidebar": "Contents",
   "toc_cell": false,
   "toc_position": {},
   "toc_section_display": true,
   "toc_window_display": false
  },
  "varInspector": {
   "cols": {
    "lenName": 16,
    "lenType": 16,
    "lenVar": 40
   },
   "kernels_config": {
    "python": {
     "delete_cmd_postfix": "",
     "delete_cmd_prefix": "del ",
     "library": "var_list.py",
     "varRefreshCmd": "print(var_dic_list())"
    },
    "r": {
     "delete_cmd_postfix": ") ",
     "delete_cmd_prefix": "rm(",
     "library": "var_list.r",
     "varRefreshCmd": "cat(var_dic_list()) "
    }
   },
   "types_to_exclude": [
    "module",
    "function",
    "builtin_function_or_method",
    "instance",
    "_Feature"
   ],
   "window_display": false
  }
 },
 "nbformat": 4,
 "nbformat_minor": 2
}
