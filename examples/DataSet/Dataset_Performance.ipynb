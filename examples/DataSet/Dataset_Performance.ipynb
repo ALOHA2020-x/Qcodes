{
 "cells": [
  {
   "cell_type": "markdown",
   "metadata": {},
   "source": [
    "# DataSet Performance\n",
    "\n",
    "This notebook shows the trade-off between inserting data into a database row-by-row and as binary blobs. Inserting the data row-by-row means that we have direct access to all the data and may perform queries directly on the values of the data. On the other hand, as we shall see, this is much slower than inserting the data directly as binary blobs."
   ]
  },
  {
   "cell_type": "markdown",
   "metadata": {},
   "source": [
    "First, we choose a new location for the database to ensure that we don't add a bunch of benchmarking data to the default one."
   ]
  },
  {
   "cell_type": "code",
   "execution_count": 1,
   "metadata": {
    "execution": {
     "iopub.execute_input": "2020-11-18T13:07:50.656834Z",
     "iopub.status.busy": "2020-11-18T13:07:50.654309Z",
     "iopub.status.idle": "2020-11-18T13:07:51.745122Z",
     "shell.execute_reply": "2020-11-18T13:07:51.746011Z"
    }
   },
   "outputs": [
    {
     "name": "stdout",
     "output_type": "stream",
     "text": [
      "Logging hadn't been started.\n",
      "Activating auto-logging. Current session state plus future input saved.\n",
      "Filename       : /home/vsts/.qcodes/logs/command_history.log\n",
      "Mode           : append\n",
      "Output logging : True\n",
      "Raw input log  : False\n",
      "Timestamping   : True\n",
      "State          : active\n"
     ]
    },
    {
     "name": "stdout",
     "output_type": "stream",
     "text": [
      "Qcodes Logfile : /home/vsts/.qcodes/logs/201118-14122-qcodes.log\n"
     ]
    }
   ],
   "source": [
    "import os\n",
    "cwd = os.getcwd()\n",
    "import qcodes as qc\n",
    "qc.config[\"core\"][\"db_location\"] = os.path.join(cwd, 'testing.db')\n"
   ]
  },
  {
   "cell_type": "code",
   "execution_count": 2,
   "metadata": {
    "execution": {
     "iopub.execute_input": "2020-11-18T13:07:51.752470Z",
     "iopub.status.busy": "2020-11-18T13:07:51.751806Z",
     "iopub.status.idle": "2020-11-18T13:07:51.943066Z",
     "shell.execute_reply": "2020-11-18T13:07:51.943541Z"
    }
   },
   "outputs": [],
   "source": [
    "%matplotlib inline\n",
    "import time\n",
    "import matplotlib.pyplot as plt\n",
    "import numpy as np\n",
    "\n",
    "import qcodes as qc\n",
    "from qcodes.instrument.parameter import ManualParameter\n",
    "from qcodes.dataset.experiment_container import (Experiment,\n",
    "                                                 load_last_experiment,\n",
    "                                                 new_experiment)\n",
    "from qcodes.dataset.sqlite.database import initialise_database\n",
    "from qcodes import load_or_create_experiment\n",
    "from qcodes.dataset.measurements import Measurement"
   ]
  },
  {
   "cell_type": "code",
   "execution_count": 3,
   "metadata": {
    "execution": {
     "iopub.execute_input": "2020-11-18T13:07:51.947838Z",
     "iopub.status.busy": "2020-11-18T13:07:51.947139Z",
     "iopub.status.idle": "2020-11-18T13:07:52.065620Z",
     "shell.execute_reply": "2020-11-18T13:07:52.066655Z"
    }
   },
   "outputs": [
    {
     "name": "stdout",
     "output_type": "stream",
     "text": [
      "\r",
      "0it [00:00, ?it/s]"
     ]
    },
    {
     "name": "stdout",
     "output_type": "stream",
     "text": [
      "\r",
      "Upgrading database; v0 -> v1: : 0it [00:00, ?it/s]"
     ]
    },
    {
     "name": "stdout",
     "output_type": "stream",
     "text": [
      "\r",
      "Upgrading database; v0 -> v1: : 0it [00:00, ?it/s]"
     ]
    },
    {
     "name": "stdout",
     "output_type": "stream",
     "text": [
      "\n",
      "\r",
      "  0%|          | 0/1 [00:00<?, ?it/s]"
     ]
    },
    {
     "name": "stdout",
     "output_type": "stream",
     "text": [
      "\r",
      "Upgrading database; v1 -> v2:   0%|          | 0/1 [00:00<?, ?it/s]"
     ]
    },
    {
     "name": "stdout",
     "output_type": "stream",
     "text": [
      "\r",
      "Upgrading database; v1 -> v2: 100%|██████████| 1/1 [00:00<00:00, 600.73it/s]"
     ]
    },
    {
     "name": "stdout",
     "output_type": "stream",
     "text": [
      "\n",
      "\r",
      "0it [00:00, ?it/s]"
     ]
    },
    {
     "name": "stdout",
     "output_type": "stream",
     "text": [
      "\r",
      "Upgrading database; v2 -> v3: : 0it [00:00, ?it/s]"
     ]
    },
    {
     "name": "stdout",
     "output_type": "stream",
     "text": [
      "\r",
      "Upgrading database; v2 -> v3: : 0it [00:00, ?it/s]"
     ]
    },
    {
     "name": "stdout",
     "output_type": "stream",
     "text": [
      "\n",
      "\r",
      "0it [00:00, ?it/s]"
     ]
    },
    {
     "name": "stdout",
     "output_type": "stream",
     "text": [
      "\r",
      "Upgrading database; v3 -> v4: : 0it [00:00, ?it/s]"
     ]
    },
    {
     "name": "stdout",
     "output_type": "stream",
     "text": [
      "\r",
      "Upgrading database; v3 -> v4: : 0it [00:00, ?it/s]"
     ]
    },
    {
     "name": "stdout",
     "output_type": "stream",
     "text": [
      "\n",
      "\r",
      "  0%|          | 0/1 [00:00<?, ?it/s]"
     ]
    },
    {
     "name": "stdout",
     "output_type": "stream",
     "text": [
      "\r",
      "Upgrading database; v4 -> v5:   0%|          | 0/1 [00:00<?, ?it/s]"
     ]
    },
    {
     "name": "stdout",
     "output_type": "stream",
     "text": [
      "\r",
      "Upgrading database; v4 -> v5: 100%|██████████| 1/1 [00:00<00:00, 524.48it/s]"
     ]
    },
    {
     "name": "stdout",
     "output_type": "stream",
     "text": [
      "\n",
      "\r",
      "0it [00:00, ?it/s]"
     ]
    },
    {
     "name": "stdout",
     "output_type": "stream",
     "text": [
      "\r",
      "Upgrading database; v5 -> v6: : 0it [00:00, ?it/s]"
     ]
    },
    {
     "name": "stdout",
     "output_type": "stream",
     "text": [
      "\r",
      "Upgrading database; v5 -> v6: : 0it [00:00, ?it/s]"
     ]
    },
    {
     "name": "stdout",
     "output_type": "stream",
     "text": [
      "\n",
      "\r",
      "  0%|          | 0/1 [00:00<?, ?it/s]"
     ]
    },
    {
     "name": "stdout",
     "output_type": "stream",
     "text": [
      "\r",
      "Upgrading database; v6 -> v7:   0%|          | 0/1 [00:00<?, ?it/s]"
     ]
    },
    {
     "name": "stdout",
     "output_type": "stream",
     "text": [
      "\r",
      "Upgrading database; v6 -> v7: 100%|██████████| 1/1 [00:00<00:00, 415.44it/s]"
     ]
    },
    {
     "name": "stdout",
     "output_type": "stream",
     "text": [
      "\n",
      "\r",
      "  0%|          | 0/1 [00:00<?, ?it/s]"
     ]
    },
    {
     "name": "stdout",
     "output_type": "stream",
     "text": [
      "\r",
      "Upgrading database; v7 -> v8:   0%|          | 0/1 [00:00<?, ?it/s]"
     ]
    },
    {
     "name": "stdout",
     "output_type": "stream",
     "text": [
      "\r",
      "Upgrading database; v7 -> v8: 100%|██████████| 1/1 [00:00<00:00, 969.56it/s]"
     ]
    },
    {
     "name": "stdout",
     "output_type": "stream",
     "text": [
      "\n",
      "\r",
      "  0%|          | 0/1 [00:00<?, ?it/s]"
     ]
    },
    {
     "name": "stdout",
     "output_type": "stream",
     "text": [
      "\r",
      "Upgrading database; v8 -> v9:   0%|          | 0/1 [00:00<?, ?it/s]"
     ]
    },
    {
     "name": "stdout",
     "output_type": "stream",
     "text": [
      "\r",
      "Upgrading database; v8 -> v9: 100%|██████████| 1/1 [00:00<00:00, 406.39it/s]"
     ]
    },
    {
     "name": "stdout",
     "output_type": "stream",
     "text": [
      "\n"
     ]
    }
   ],
   "source": [
    "initialise_database()\n",
    "exp = load_or_create_experiment(experiment_name='tutorial_exp', sample_name=\"no sample\")"
   ]
  },
  {
   "cell_type": "markdown",
   "metadata": {},
   "source": [
    "Here, we define a simple function to benchmark the time it takes to insert n points with either numeric or array data type.\n",
    "We will compare both the time used to call ``add_result`` and the time used for the full measurement."
   ]
  },
  {
   "cell_type": "code",
   "execution_count": 4,
   "metadata": {
    "execution": {
     "iopub.execute_input": "2020-11-18T13:07:52.076435Z",
     "iopub.status.busy": "2020-11-18T13:07:52.074982Z",
     "iopub.status.idle": "2020-11-18T13:07:52.077048Z",
     "shell.execute_reply": "2020-11-18T13:07:52.077671Z"
    }
   },
   "outputs": [],
   "source": [
    "def insert_data(paramtype, npoints, nreps=1):\n",
    "\n",
    "    meas = Measurement(exp=exp)\n",
    "\n",
    "    x1 = ManualParameter('x1')\n",
    "    x2 = ManualParameter('x2')\n",
    "    x3 = ManualParameter('x3')\n",
    "    y1 = ManualParameter('y1')\n",
    "    y2 = ManualParameter('y2')\n",
    "\n",
    "    meas.register_parameter(x1, paramtype=paramtype)\n",
    "    meas.register_parameter(x2, paramtype=paramtype)\n",
    "    meas.register_parameter(x3, paramtype=paramtype)\n",
    "    meas.register_parameter(y1, setpoints=[x1, x2, x3],\n",
    "                            paramtype=paramtype)\n",
    "    meas.register_parameter(y2, setpoints=[x1, x2, x3],\n",
    "                            paramtype=paramtype)\n",
    "    start = time.perf_counter()\n",
    "    with meas.run() as datasaver:\n",
    "        start_adding = time.perf_counter()\n",
    "        for i in range(nreps):\n",
    "            datasaver.add_result((x1, np.random.rand(npoints)),\n",
    "                                 (x2, np.random.rand(npoints)),\n",
    "                                 (x3, np.random.rand(npoints)),\n",
    "                                 (y1, np.random.rand(npoints)),\n",
    "                                 (y2, np.random.rand(npoints)))\n",
    "        stop_adding = time.perf_counter()\n",
    "        run_id = datasaver.run_id\n",
    "    stop = time.perf_counter()\n",
    "    tot_time = stop - start\n",
    "    add_time = stop_adding - start_adding\n",
    "    return tot_time, add_time, run_id"
   ]
  },
  {
   "cell_type": "markdown",
   "metadata": {},
   "source": [
    "## Comparison between numeric/array data and binary blob"
   ]
  },
  {
   "cell_type": "markdown",
   "metadata": {},
   "source": [
    "### Case1: Short experiment time"
   ]
  },
  {
   "cell_type": "code",
   "execution_count": 5,
   "metadata": {
    "execution": {
     "iopub.execute_input": "2020-11-18T13:07:52.084524Z",
     "iopub.status.busy": "2020-11-18T13:07:52.083873Z",
     "iopub.status.idle": "2020-11-18T13:07:52.972754Z",
     "shell.execute_reply": "2020-11-18T13:07:52.973220Z"
    }
   },
   "outputs": [
    {
     "name": "stdout",
     "output_type": "stream",
     "text": [
      "Starting experimental run with id: 1. \n",
      "Starting experimental run with id: 2. \n",
      "Starting experimental run with id: 3. \n",
      "Starting experimental run with id: 4. \n",
      "Starting experimental run with id: 5. \n"
     ]
    },
    {
     "name": "stdout",
     "output_type": "stream",
     "text": [
      "Starting experimental run with id: 6. \n"
     ]
    },
    {
     "name": "stdout",
     "output_type": "stream",
     "text": [
      "Starting experimental run with id: 7. \n"
     ]
    },
    {
     "name": "stdout",
     "output_type": "stream",
     "text": [
      "Starting experimental run with id: 8. \n",
      "Starting experimental run with id: 9. \n"
     ]
    },
    {
     "name": "stdout",
     "output_type": "stream",
     "text": [
      "Starting experimental run with id: 10. \n",
      "Starting experimental run with id: 11. \n"
     ]
    },
    {
     "name": "stdout",
     "output_type": "stream",
     "text": [
      "Starting experimental run with id: 12. \n"
     ]
    },
    {
     "name": "stdout",
     "output_type": "stream",
     "text": [
      "Starting experimental run with id: 13. \n"
     ]
    },
    {
     "name": "stdout",
     "output_type": "stream",
     "text": [
      "Starting experimental run with id: 14. \n"
     ]
    }
   ],
   "source": [
    "sizes = [1,500,1000,2000,3000,4000,5000]\n",
    "t_numeric = []\n",
    "t_numeric_add = []\n",
    "t_array = []\n",
    "t_array_add = []\n",
    "for size in sizes:\n",
    "    tn, tna, run_id_n =  insert_data('numeric', size)\n",
    "    t_numeric.append(tn)\n",
    "    t_numeric_add.append(tna)\n",
    "\n",
    "    ta, taa, run_id_a =  insert_data('array', size)\n",
    "    t_array.append(ta)\n",
    "    t_array_add.append(taa)"
   ]
  },
  {
   "cell_type": "code",
   "execution_count": 6,
   "metadata": {
    "execution": {
     "iopub.execute_input": "2020-11-18T13:07:52.992873Z",
     "iopub.status.busy": "2020-11-18T13:07:52.992226Z",
     "iopub.status.idle": "2020-11-18T13:07:53.212474Z",
     "shell.execute_reply": "2020-11-18T13:07:53.211930Z"
    }
   },
   "outputs": [
    {
     "data": {
      "image/png": "[encoded data removed]",
      "text/plain": [
       "<Figure size 432x288 with 1 Axes>"
      ]
     },
     "metadata": {
      "needs_background": "light"
     },
     "output_type": "display_data"
    }
   ],
   "source": [
    "fig, ax = plt.subplots(1,1)\n",
    "ax.plot(sizes, t_numeric, 'o-', label='Inserting row-by-row')\n",
    "ax.plot(sizes, t_numeric_add, 'o-', label='Inserting row-by-row: add_result only')\n",
    "ax.plot(sizes, t_array, 'd-', label='Inserting as binary blob')\n",
    "ax.plot(sizes, t_array_add, 'd-', label='Inserting as binary blob: add_result only')\n",
    "ax.legend()\n",
    "ax.set_xlabel('Array length')\n",
    "ax.set_ylabel('Time (s)')\n",
    "fig.tight_layout()"
   ]
  },
  {
   "cell_type": "markdown",
   "metadata": {},
   "source": [
    "As shown in the latter figure, the time to setup and and close the experiment is approximately 0.4 sec. In case of small array sizes, the difference between inserting values of data as arrays and inserting them row-by-row is relatively unimportant. At larger array sizes, i.e. above 10000 points, the cost of writing data as individual datapoints starts to become important.\n"
   ]
  },
  {
   "cell_type": "markdown",
   "metadata": {},
   "source": [
    "### Case2: Long experiment time "
   ]
  },
  {
   "cell_type": "code",
   "execution_count": 7,
   "metadata": {
    "execution": {
     "iopub.execute_input": "2020-11-18T13:07:53.220298Z",
     "iopub.status.busy": "2020-11-18T13:07:53.219648Z",
     "iopub.status.idle": "2020-11-18T13:08:55.085866Z",
     "shell.execute_reply": "2020-11-18T13:08:55.085329Z"
    }
   },
   "outputs": [
    {
     "name": "stdout",
     "output_type": "stream",
     "text": [
      "Starting experimental run with id: 15. \n",
      "Starting experimental run with id: 16. \n",
      "Starting experimental run with id: 17. \n"
     ]
    },
    {
     "name": "stdout",
     "output_type": "stream",
     "text": [
      "Starting experimental run with id: 18. \n",
      "Starting experimental run with id: 19. \n"
     ]
    },
    {
     "name": "stdout",
     "output_type": "stream",
     "text": [
      "Starting experimental run with id: 20. \n"
     ]
    },
    {
     "name": "stdout",
     "output_type": "stream",
     "text": [
      "Starting experimental run with id: 21. \n"
     ]
    },
    {
     "name": "stdout",
     "output_type": "stream",
     "text": [
      "Starting experimental run with id: 22. \n"
     ]
    },
    {
     "name": "stdout",
     "output_type": "stream",
     "text": [
      "Starting experimental run with id: 23. \n"
     ]
    },
    {
     "name": "stdout",
     "output_type": "stream",
     "text": [
      "Starting experimental run with id: 24. \n"
     ]
    },
    {
     "name": "stdout",
     "output_type": "stream",
     "text": [
      "Starting experimental run with id: 25. \n"
     ]
    },
    {
     "name": "stdout",
     "output_type": "stream",
     "text": [
      "Starting experimental run with id: 26. \n"
     ]
    },
    {
     "name": "stdout",
     "output_type": "stream",
     "text": [
      "Starting experimental run with id: 27. \n"
     ]
    },
    {
     "name": "stdout",
     "output_type": "stream",
     "text": [
      "Starting experimental run with id: 28. \n"
     ]
    }
   ],
   "source": [
    "sizes = [1,500,1000,2000,3000,4000,5000]\n",
    "nreps = 100\n",
    "t_numeric = []\n",
    "t_numeric_add = []\n",
    "t_numeric_run_ids = []\n",
    "t_array = []\n",
    "t_array_add = []\n",
    "t_array_run_ids = []\n",
    "for size in sizes:\n",
    "    tn, tna, run_id_n =  insert_data('numeric', size, nreps=nreps)\n",
    "    t_numeric.append(tn)\n",
    "    t_numeric_add.append(tna)\n",
    "    t_numeric_run_ids.append(run_id_n)\n",
    "\n",
    "    ta, taa, run_id_a =  insert_data('array', size, nreps=nreps)\n",
    "    t_array.append(ta)\n",
    "    t_array_add.append(taa)\n",
    "    t_array_run_ids.append(run_id_a)"
   ]
  },
  {
   "cell_type": "code",
   "execution_count": 8,
   "metadata": {
    "execution": {
     "iopub.execute_input": "2020-11-18T13:08:55.106765Z",
     "iopub.status.busy": "2020-11-18T13:08:55.104999Z",
     "iopub.status.idle": "2020-11-18T13:08:55.311289Z",
     "shell.execute_reply": "2020-11-18T13:08:55.311750Z"
    },
    "scrolled": true
   },
   "outputs": [
    {
     "data": {
      "image/png": "[encoded data removed]",
      "text/plain": [
       "<Figure size 432x288 with 1 Axes>"
      ]
     },
     "metadata": {
      "needs_background": "light"
     },
     "output_type": "display_data"
    }
   ],
   "source": [
    "fig, ax = plt.subplots(1,1)\n",
    "ax.plot(sizes, t_numeric, 'o-', label='Inserting row-by-row')\n",
    "ax.plot(sizes, t_numeric_add, 'o-', label='Inserting row-by-row: add_result only')\n",
    "ax.plot(sizes, t_array, 'd-', label='Inserting as binary blob')\n",
    "ax.plot(sizes, t_array_add, 'd-', label='Inserting as binary blob: add_result only')\n",
    "ax.legend()\n",
    "ax.set_xlabel('Array length')\n",
    "ax.set_ylabel('Time (s)')\n",
    "fig.tight_layout()"
   ]
  },
  {
   "cell_type": "markdown",
   "metadata": {},
   "source": [
    "However, as we increase the length of the experiment, as seen here by repeating the insertion 100 times, we see a big difference between inserting values of the data row-by-row and inserting it as a binary blob."
   ]
  },
  {
   "cell_type": "markdown",
   "metadata": {},
   "source": [
    "## Loading the data "
   ]
  },
  {
   "cell_type": "code",
   "execution_count": 9,
   "metadata": {
    "execution": {
     "iopub.execute_input": "2020-11-18T13:08:55.317424Z",
     "iopub.status.busy": "2020-11-18T13:08:55.316814Z",
     "iopub.status.idle": "2020-11-18T13:08:55.319078Z",
     "shell.execute_reply": "2020-11-18T13:08:55.319678Z"
    }
   },
   "outputs": [],
   "source": [
    "from qcodes.dataset.data_set import load_by_id\n",
    "from qcodes.dataset.data_export import get_data_by_id"
   ]
  },
  {
   "cell_type": "markdown",
   "metadata": {},
   "source": [
    "As usual you can load the data by using the ``load_by_id`` function but you will notice that the different storage methods\n",
    "are reflected in shape of the data as it is retrieved. "
   ]
  },
  {
   "cell_type": "code",
   "execution_count": 10,
   "metadata": {
    "execution": {
     "iopub.execute_input": "2020-11-18T13:08:55.324394Z",
     "iopub.status.busy": "2020-11-18T13:08:55.323291Z",
     "iopub.status.idle": "2020-11-18T13:08:55.325885Z",
     "shell.execute_reply": "2020-11-18T13:08:55.325437Z"
    }
   },
   "outputs": [],
   "source": [
    "run_id_n = t_numeric_run_ids[0]\n",
    "run_id_a = t_array_run_ids[0]"
   ]
  },
  {
   "cell_type": "code",
   "execution_count": 11,
   "metadata": {
    "execution": {
     "iopub.execute_input": "2020-11-18T13:08:55.329543Z",
     "iopub.status.busy": "2020-11-18T13:08:55.328745Z",
     "iopub.status.idle": "2020-11-18T13:08:55.338109Z",
     "shell.execute_reply": "2020-11-18T13:08:55.338584Z"
    },
    "scrolled": true
   },
   "outputs": [
    {
     "data": {
      "text/plain": [
       "{'x1': {'x1': array([0.85768075, 0.85768075, 0.11618073, 0.11618073, 0.25157462,\n",
       "         0.25157462, 0.08335682, 0.08335682, 0.0285348 , 0.0285348 ,\n",
       "         0.77051431, 0.77051431, 0.02418708, 0.02418708, 0.03418317,\n",
       "         0.03418317, 0.11180668, 0.11180668, 0.64539186, 0.64539186,\n",
       "         0.41795855, 0.41795855, 0.09256397, 0.09256397, 0.90543041,\n",
       "         0.90543041, 0.28933354, 0.28933354, 0.45883608, 0.45883608,\n",
       "         0.06446129, 0.06446129, 0.04550683, 0.04550683, 0.10644527,\n",
       "         0.10644527, 0.8300746 , 0.8300746 , 0.74693676, 0.74693676,\n",
       "         0.71391492, 0.71391492, 0.31812152, 0.31812152, 0.16457764,\n",
       "         0.16457764, 0.66665915, 0.66665915, 0.90148527, 0.90148527,\n",
       "         0.55114061, 0.55114061, 0.75113506, 0.75113506, 0.18799644,\n",
       "         0.18799644, 0.24956571, 0.24956571, 0.69955798, 0.69955798,\n",
       "         0.11417773, 0.11417773, 0.25993036, 0.25993036, 0.17865999,\n",
       "         0.17865999, 0.40650443, 0.40650443, 0.95834624, 0.95834624,\n",
       "         0.16792131, 0.16792131, 0.78808862, 0.78808862, 0.5764429 ,\n",
       "         0.5764429 , 0.0640376 , 0.0640376 , 0.2580425 , 0.2580425 ,\n",
       "         0.35161943, 0.35161943, 0.66728132, 0.66728132, 0.78783595,\n",
       "         0.78783595, 0.31530296, 0.31530296, 0.61757652, 0.61757652,\n",
       "         0.34989488, 0.34989488, 0.28784329, 0.28784329, 0.21076878,\n",
       "         0.21076878, 0.49349613, 0.49349613, 0.86125428, 0.86125428,\n",
       "         0.13327559, 0.13327559, 0.76581381, 0.76581381, 0.37067281,\n",
       "         0.37067281, 0.56983428, 0.56983428, 0.07892654, 0.07892654,\n",
       "         0.72817955, 0.72817955, 0.3970845 , 0.3970845 , 0.78423335,\n",
       "         0.78423335, 0.08526314, 0.08526314, 0.24948531, 0.24948531,\n",
       "         0.36168224, 0.36168224, 0.07171118, 0.07171118, 0.40356353,\n",
       "         0.40356353, 0.86560785, 0.86560785, 0.05772354, 0.05772354,\n",
       "         0.85856301, 0.85856301, 0.1058662 , 0.1058662 , 0.02000239,\n",
       "         0.02000239, 0.89645152, 0.89645152, 0.53388656, 0.53388656,\n",
       "         0.71424695, 0.71424695, 0.29716181, 0.29716181, 0.46410836,\n",
       "         0.46410836, 0.83436745, 0.83436745, 0.04557786, 0.04557786,\n",
       "         0.59632763, 0.59632763, 0.80905141, 0.80905141, 0.58909044,\n",
       "         0.58909044, 0.55375669, 0.55375669, 0.48024494, 0.48024494,\n",
       "         0.25304379, 0.25304379, 0.97558349, 0.97558349, 0.49177425,\n",
       "         0.49177425, 0.32455171, 0.32455171, 0.30355176, 0.30355176,\n",
       "         0.64519977, 0.64519977, 0.16898006, 0.16898006, 0.47212903,\n",
       "         0.47212903, 0.03742255, 0.03742255, 0.84448714, 0.84448714,\n",
       "         0.15958896, 0.15958896, 0.49351324, 0.49351324, 0.25022652,\n",
       "         0.25022652, 0.3378357 , 0.3378357 , 0.43510439, 0.43510439,\n",
       "         0.75445682, 0.75445682, 0.63213365, 0.63213365, 0.45937003,\n",
       "         0.45937003, 0.43566752, 0.43566752, 0.59189343, 0.59189343])}}"
      ]
     },
     "execution_count": 1,
     "metadata": {},
     "output_type": "execute_result"
    }
   ],
   "source": [
    "ds = load_by_id(run_id_n)\n",
    "ds.get_parameter_data('x1')"
   ]
  },
  {
   "cell_type": "markdown",
   "metadata": {},
   "source": [
    "And a dataset stored as binary arrays"
   ]
  },
  {
   "cell_type": "code",
   "execution_count": 12,
   "metadata": {
    "execution": {
     "iopub.execute_input": "2020-11-18T13:08:55.342216Z",
     "iopub.status.busy": "2020-11-18T13:08:55.341607Z",
     "iopub.status.idle": "2020-11-18T13:08:55.401008Z",
     "shell.execute_reply": "2020-11-18T13:08:55.401570Z"
    },
    "scrolled": true
   },
   "outputs": [
    {
     "data": {
      "text/plain": [
       "{'x1': {'x1': array([[0.94837714],\n",
       "         [0.94837714],\n",
       "         [0.56347478],\n",
       "         [0.56347478],\n",
       "         [0.95797473],\n",
       "         [0.95797473],\n",
       "         [0.16833633],\n",
       "         [0.16833633],\n",
       "         [0.32897935],\n",
       "         [0.32897935],\n",
       "         [0.1270705 ],\n",
       "         [0.1270705 ],\n",
       "         [0.20824646],\n",
       "         [0.20824646],\n",
       "         [0.80915112],\n",
       "         [0.80915112],\n",
       "         [0.16923489],\n",
       "         [0.16923489],\n",
       "         [0.81718949],\n",
       "         [0.81718949],\n",
       "         [0.32335971],\n",
       "         [0.32335971],\n",
       "         [0.60101018],\n",
       "         [0.60101018],\n",
       "         [0.58757466],\n",
       "         [0.58757466],\n",
       "         [0.71088739],\n",
       "         [0.71088739],\n",
       "         [0.98248487],\n",
       "         [0.98248487],\n",
       "         [0.53663962],\n",
       "         [0.53663962],\n",
       "         [0.93201145],\n",
       "         [0.93201145],\n",
       "         [0.57575556],\n",
       "         [0.57575556],\n",
       "         [0.69594654],\n",
       "         [0.69594654],\n",
       "         [0.56073286],\n",
       "         [0.56073286],\n",
       "         [0.31048912],\n",
       "         [0.31048912],\n",
       "         [0.39097489],\n",
       "         [0.39097489],\n",
       "         [0.89140248],\n",
       "         [0.89140248],\n",
       "         [0.32425074],\n",
       "         [0.32425074],\n",
       "         [0.80467277],\n",
       "         [0.80467277],\n",
       "         [0.5966409 ],\n",
       "         [0.5966409 ],\n",
       "         [0.09820605],\n",
       "         [0.09820605],\n",
       "         [0.13828733],\n",
       "         [0.13828733],\n",
       "         [0.20601033],\n",
       "         [0.20601033],\n",
       "         [0.88450678],\n",
       "         [0.88450678],\n",
       "         [0.69886759],\n",
       "         [0.69886759],\n",
       "         [0.40792751],\n",
       "         [0.40792751],\n",
       "         [0.82318388],\n",
       "         [0.82318388],\n",
       "         [0.45482429],\n",
       "         [0.45482429],\n",
       "         [0.6651473 ],\n",
       "         [0.6651473 ],\n",
       "         [0.27893679],\n",
       "         [0.27893679],\n",
       "         [0.3101906 ],\n",
       "         [0.3101906 ],\n",
       "         [0.23581151],\n",
       "         [0.23581151],\n",
       "         [0.55738315],\n",
       "         [0.55738315],\n",
       "         [0.95731605],\n",
       "         [0.95731605],\n",
       "         [0.35739211],\n",
       "         [0.35739211],\n",
       "         [0.49971209],\n",
       "         [0.49971209],\n",
       "         [0.7161886 ],\n",
       "         [0.7161886 ],\n",
       "         [0.69145121],\n",
       "         [0.69145121],\n",
       "         [0.4555276 ],\n",
       "         [0.4555276 ],\n",
       "         [0.14097889],\n",
       "         [0.14097889],\n",
       "         [0.48091294],\n",
       "         [0.48091294],\n",
       "         [0.2326843 ],\n",
       "         [0.2326843 ],\n",
       "         [0.52174822],\n",
       "         [0.52174822],\n",
       "         [0.95805469],\n",
       "         [0.95805469],\n",
       "         [0.13186223],\n",
       "         [0.13186223],\n",
       "         [0.53246459],\n",
       "         [0.53246459],\n",
       "         [0.32408191],\n",
       "         [0.32408191],\n",
       "         [0.33392575],\n",
       "         [0.33392575],\n",
       "         [0.67591721],\n",
       "         [0.67591721],\n",
       "         [0.78503954],\n",
       "         [0.78503954],\n",
       "         [0.33246058],\n",
       "         [0.33246058],\n",
       "         [0.81530876],\n",
       "         [0.81530876],\n",
       "         [0.45311758],\n",
       "         [0.45311758],\n",
       "         [0.76735081],\n",
       "         [0.76735081],\n",
       "         [0.14401527],\n",
       "         [0.14401527],\n",
       "         [0.99589823],\n",
       "         [0.99589823],\n",
       "         [0.49266145],\n",
       "         [0.49266145],\n",
       "         [0.60660835],\n",
       "         [0.60660835],\n",
       "         [0.63872902],\n",
       "         [0.63872902],\n",
       "         [0.79651235],\n",
       "         [0.79651235],\n",
       "         [0.21400799],\n",
       "         [0.21400799],\n",
       "         [0.99060358],\n",
       "         [0.99060358],\n",
       "         [0.34485182],\n",
       "         [0.34485182],\n",
       "         [0.83925987],\n",
       "         [0.83925987],\n",
       "         [0.52858645],\n",
       "         [0.52858645],\n",
       "         [0.34287186],\n",
       "         [0.34287186],\n",
       "         [0.72188119],\n",
       "         [0.72188119],\n",
       "         [0.83511322],\n",
       "         [0.83511322],\n",
       "         [0.37200153],\n",
       "         [0.37200153],\n",
       "         [0.52831014],\n",
       "         [0.52831014],\n",
       "         [0.45893942],\n",
       "         [0.45893942],\n",
       "         [0.6255158 ],\n",
       "         [0.6255158 ],\n",
       "         [0.25960737],\n",
       "         [0.25960737],\n",
       "         [0.88989923],\n",
       "         [0.88989923],\n",
       "         [0.98607986],\n",
       "         [0.98607986],\n",
       "         [0.95236708],\n",
       "         [0.95236708],\n",
       "         [0.36159623],\n",
       "         [0.36159623],\n",
       "         [0.26703495],\n",
       "         [0.26703495],\n",
       "         [0.96281123],\n",
       "         [0.96281123],\n",
       "         [0.65035467],\n",
       "         [0.65035467],\n",
       "         [0.03392038],\n",
       "         [0.03392038],\n",
       "         [0.49721267],\n",
       "         [0.49721267],\n",
       "         [0.03699778],\n",
       "         [0.03699778],\n",
       "         [0.803637  ],\n",
       "         [0.803637  ],\n",
       "         [0.63784375],\n",
       "         [0.63784375],\n",
       "         [0.5154835 ],\n",
       "         [0.5154835 ],\n",
       "         [0.99104695],\n",
       "         [0.99104695],\n",
       "         [0.31184855],\n",
       "         [0.31184855],\n",
       "         [0.00342739],\n",
       "         [0.00342739],\n",
       "         [0.40822567],\n",
       "         [0.40822567],\n",
       "         [0.80963294],\n",
       "         [0.80963294],\n",
       "         [0.33005782],\n",
       "         [0.33005782],\n",
       "         [0.63283372],\n",
       "         [0.63283372],\n",
       "         [0.28263774],\n",
       "         [0.28263774]])}}"
      ]
     },
     "execution_count": 1,
     "metadata": {},
     "output_type": "execute_result"
    }
   ],
   "source": [
    "ds = load_by_id(run_id_a)\n",
    "ds.get_parameter_data('x1')"
   ]
  },
  {
   "cell_type": "code",
   "execution_count": null,
   "metadata": {},
   "outputs": [],
   "source": []
  }
 ],
 "metadata": {
  "kernelspec": {
   "display_name": "Python 3",
   "language": "python",
   "name": "python3"
  },
  "language_info": {
   "codemirror_mode": {
    "name": "ipython",
    "version": 3
   },
   "file_extension": ".py",
   "mimetype": "text/x-python",
   "name": "python",
   "nbconvert_exporter": "python",
   "pygments_lexer": "ipython3",
   "version": "3.7.9"
  },
  "nbsphinx": {
   "timeout": 600
  },
  "toc": {
   "base_numbering": 1,
   "nav_menu": {},
   "number_sections": true,
   "sideBar": true,
   "skip_h1_title": false,
   "title_cell": "Table of Contents",
   "title_sidebar": "Contents",
   "toc_cell": false,
   "toc_position": {},
   "toc_section_display": true,
   "toc_window_display": false
  },
  "varInspector": {
   "cols": {
    "lenName": 16,
    "lenType": 16,
    "lenVar": 40
   },
   "kernels_config": {
    "python": {
     "delete_cmd_postfix": "",
     "delete_cmd_prefix": "del ",
     "library": "var_list.py",
     "varRefreshCmd": "print(var_dic_list())"
    },
    "r": {
     "delete_cmd_postfix": ") ",
     "delete_cmd_prefix": "rm(",
     "library": "var_list.r",
     "varRefreshCmd": "cat(var_dic_list()) "
    }
   },
   "types_to_exclude": [
    "module",
    "function",
    "builtin_function_or_method",
    "instance",
    "_Feature"
   ],
   "window_display": false
  }
 },
 "nbformat": 4,
 "nbformat_minor": 2
}
