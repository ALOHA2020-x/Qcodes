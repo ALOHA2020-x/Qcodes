{
 "cells": [
  {
   "cell_type": "markdown",
   "metadata": {},
   "source": [
    "# DataSet Performance\n",
    "\n",
    "This notebook shows the trade-off between inserting data into a database row-by-row and as binary blobs. Inserting the data row-by-row means that we have direct access to all the data and may perform queries directly on the values of the data. On the other hand, as we shall see, this is much slower than inserting the data directly as binary blobs."
   ]
  },
  {
   "cell_type": "markdown",
   "metadata": {},
   "source": [
    "First, we choose a new location for the database to ensure that we don't add a bunch of benchmarking data to the default one."
   ]
  },
  {
   "cell_type": "code",
   "execution_count": 1,
   "metadata": {},
   "outputs": [
    {
     "name": "stdout",
     "output_type": "stream",
     "text": [
      "Logging hadn't been started.\n",
      "Activating auto-logging. Current session state plus future input saved.\n",
      "Filename       : /home/vsts/.qcodes/logs/command_history.log\n",
      "Mode           : append\n",
      "Output logging : True\n",
      "Raw input log  : False\n",
      "Timestamping   : True\n",
      "State          : active\n"
     ]
    },
    {
     "name": "stdout",
     "output_type": "stream",
     "text": [
      "Qcodes Logfile : /home/vsts/.qcodes/logs/200317-20623-qcodes.log\n"
     ]
    }
   ],
   "source": [
    "import os\n",
    "cwd = os.getcwd()\n",
    "import qcodes as qc\n",
    "qc.config[\"core\"][\"db_location\"] = os.path.join(cwd, 'testing.db')\n"
   ]
  },
  {
   "cell_type": "code",
   "execution_count": 2,
   "metadata": {},
   "outputs": [],
   "source": [
    "%matplotlib inline\n",
    "import time\n",
    "import matplotlib.pyplot as plt\n",
    "import numpy as np\n",
    "\n",
    "import qcodes as qc\n",
    "from qcodes.instrument.parameter import ManualParameter\n",
    "from qcodes.dataset.experiment_container import (Experiment,\n",
    "                                                 load_last_experiment,\n",
    "                                                 new_experiment)\n",
    "from qcodes.dataset.sqlite.database import initialise_database\n",
    "from qcodes import load_or_create_experiment\n",
    "from qcodes.dataset.measurements import Measurement"
   ]
  },
  {
   "cell_type": "code",
   "execution_count": 3,
   "metadata": {},
   "outputs": [
    {
     "name": "stdout",
     "output_type": "stream",
     "text": [
      "\r",
      "0it [00:00, ?it/s]"
     ]
    },
    {
     "name": "stdout",
     "output_type": "stream",
     "text": [
      "\r",
      "Upgrading database; v0 -> v1: : 0it [00:00, ?it/s]"
     ]
    },
    {
     "name": "stdout",
     "output_type": "stream",
     "text": [
      "\r",
      "Upgrading database; v0 -> v1: : 0it [00:00, ?it/s]"
     ]
    },
    {
     "name": "stdout",
     "output_type": "stream",
     "text": [
      "\n",
      "\r",
      "  0%|          | 0/1 [00:00<?, ?it/s]"
     ]
    },
    {
     "name": "stdout",
     "output_type": "stream",
     "text": [
      "\r",
      "Upgrading database; v1 -> v2:   0%|          | 0/1 [00:00<?, ?it/s]"
     ]
    },
    {
     "name": "stdout",
     "output_type": "stream",
     "text": [
      "\r",
      "Upgrading database; v1 -> v2: 100%|██████████| 1/1 [00:00<00:00, 909.63it/s]"
     ]
    },
    {
     "name": "stdout",
     "output_type": "stream",
     "text": [
      "\n",
      "\r",
      "0it [00:00, ?it/s]"
     ]
    },
    {
     "name": "stdout",
     "output_type": "stream",
     "text": [
      "\r",
      "Upgrading database; v2 -> v3: : 0it [00:00, ?it/s]"
     ]
    },
    {
     "name": "stdout",
     "output_type": "stream",
     "text": [
      "\r",
      "Upgrading database; v2 -> v3: : 0it [00:00, ?it/s]"
     ]
    },
    {
     "name": "stdout",
     "output_type": "stream",
     "text": [
      "\n",
      "\r",
      "0it [00:00, ?it/s]"
     ]
    },
    {
     "name": "stdout",
     "output_type": "stream",
     "text": [
      "\r",
      "Upgrading database; v3 -> v4: : 0it [00:00, ?it/s]"
     ]
    },
    {
     "name": "stdout",
     "output_type": "stream",
     "text": [
      "\r",
      "Upgrading database; v3 -> v4: : 0it [00:00, ?it/s]"
     ]
    },
    {
     "name": "stdout",
     "output_type": "stream",
     "text": [
      "\n",
      "\r",
      "  0%|          | 0/1 [00:00<?, ?it/s]"
     ]
    },
    {
     "name": "stdout",
     "output_type": "stream",
     "text": [
      "\r",
      "Upgrading database; v4 -> v5:   0%|          | 0/1 [00:00<?, ?it/s]"
     ]
    },
    {
     "name": "stdout",
     "output_type": "stream",
     "text": [
      "\r",
      "Upgrading database; v4 -> v5: 100%|██████████| 1/1 [00:00<00:00, 907.27it/s]"
     ]
    },
    {
     "name": "stdout",
     "output_type": "stream",
     "text": [
      "\n",
      "\r",
      "0it [00:00, ?it/s]"
     ]
    },
    {
     "name": "stdout",
     "output_type": "stream",
     "text": [
      "\r",
      "Upgrading database; v5 -> v6: : 0it [00:00, ?it/s]"
     ]
    },
    {
     "name": "stdout",
     "output_type": "stream",
     "text": [
      "\r",
      "Upgrading database; v5 -> v6: : 0it [00:00, ?it/s]"
     ]
    },
    {
     "name": "stdout",
     "output_type": "stream",
     "text": [
      "\n",
      "\r",
      "  0%|          | 0/1 [00:00<?, ?it/s]"
     ]
    },
    {
     "name": "stdout",
     "output_type": "stream",
     "text": [
      "\r",
      "Upgrading database; v6 -> v7:   0%|          | 0/1 [00:00<?, ?it/s]"
     ]
    },
    {
     "name": "stdout",
     "output_type": "stream",
     "text": [
      "\r",
      "Upgrading database; v6 -> v7: 100%|██████████| 1/1 [00:00<00:00, 446.58it/s]"
     ]
    },
    {
     "name": "stdout",
     "output_type": "stream",
     "text": [
      "\n",
      "\r",
      "  0%|          | 0/1 [00:00<?, ?it/s]"
     ]
    },
    {
     "name": "stdout",
     "output_type": "stream",
     "text": [
      "\r",
      "Upgrading database; v7 -> v8:   0%|          | 0/1 [00:00<?, ?it/s]"
     ]
    },
    {
     "name": "stdout",
     "output_type": "stream",
     "text": [
      "\r",
      "Upgrading database; v7 -> v8: 100%|██████████| 1/1 [00:00<00:00, 739.21it/s]"
     ]
    },
    {
     "name": "stdout",
     "output_type": "stream",
     "text": [
      "\n",
      "\r",
      "  0%|          | 0/1 [00:00<?, ?it/s]"
     ]
    },
    {
     "name": "stdout",
     "output_type": "stream",
     "text": [
      "\r",
      "Upgrading database; v8 -> v9:   0%|          | 0/1 [00:00<?, ?it/s]"
     ]
    },
    {
     "name": "stdout",
     "output_type": "stream",
     "text": [
      "\r",
      "Upgrading database; v8 -> v9: 100%|██████████| 1/1 [00:00<00:00, 1077.40it/s]"
     ]
    },
    {
     "name": "stdout",
     "output_type": "stream",
     "text": [
      "\n"
     ]
    }
   ],
   "source": [
    "initialise_database()\n",
    "exp = load_or_create_experiment(experiment_name='tutorial_exp', sample_name=\"no sample\")"
   ]
  },
  {
   "cell_type": "markdown",
   "metadata": {},
   "source": [
    "Here, we define a simple function to benchmark the time it takes to insert n points with either numeric or array data type.\n",
    "We will compare both the time used to call ``add_result`` and the time used for the full measurement."
   ]
  },
  {
   "cell_type": "code",
   "execution_count": 4,
   "metadata": {},
   "outputs": [],
   "source": [
    "def insert_data(paramtype, npoints, nreps=1):\n",
    "\n",
    "    meas = Measurement(exp=exp)\n",
    "\n",
    "    x1 = ManualParameter('x1')\n",
    "    x2 = ManualParameter('x2')\n",
    "    x3 = ManualParameter('x3')\n",
    "    y1 = ManualParameter('y1')\n",
    "    y2 = ManualParameter('y2')\n",
    "\n",
    "    meas.register_parameter(x1, paramtype=paramtype)\n",
    "    meas.register_parameter(x2, paramtype=paramtype)\n",
    "    meas.register_parameter(x3, paramtype=paramtype)\n",
    "    meas.register_parameter(y1, setpoints=[x1, x2, x3],\n",
    "                            paramtype=paramtype)\n",
    "    meas.register_parameter(y2, setpoints=[x1, x2, x3],\n",
    "                            paramtype=paramtype)\n",
    "    start = time.perf_counter()\n",
    "    with meas.run() as datasaver:\n",
    "        start_adding = time.perf_counter()\n",
    "        for i in range(nreps):\n",
    "            datasaver.add_result((x1, np.random.rand(npoints)),\n",
    "                                 (x2, np.random.rand(npoints)),\n",
    "                                 (x3, np.random.rand(npoints)),\n",
    "                                 (y1, np.random.rand(npoints)),\n",
    "                                 (y2, np.random.rand(npoints)))\n",
    "        stop_adding = time.perf_counter()\n",
    "        run_id = datasaver.run_id\n",
    "    stop = time.perf_counter()\n",
    "    tot_time = stop - start\n",
    "    add_time = stop_adding - start_adding\n",
    "    return tot_time, add_time, run_id"
   ]
  },
  {
   "cell_type": "markdown",
   "metadata": {},
   "source": [
    "## Comparison between numeric/array data and binary blob"
   ]
  },
  {
   "cell_type": "markdown",
   "metadata": {},
   "source": [
    "### Case1: Short experiment time"
   ]
  },
  {
   "cell_type": "code",
   "execution_count": 5,
   "metadata": {},
   "outputs": [
    {
     "name": "stdout",
     "output_type": "stream",
     "text": [
      "Starting experimental run with id: 1. \n",
      "Starting experimental run with id: 2. \n",
      "Starting experimental run with id: 3. \n",
      "Starting experimental run with id: 4. \n"
     ]
    },
    {
     "name": "stdout",
     "output_type": "stream",
     "text": [
      "Starting experimental run with id: 5. \n"
     ]
    },
    {
     "name": "stdout",
     "output_type": "stream",
     "text": [
      "Starting experimental run with id: 6. \n",
      "Starting experimental run with id: 7. \n"
     ]
    },
    {
     "name": "stdout",
     "output_type": "stream",
     "text": [
      "Starting experimental run with id: 8. \n"
     ]
    },
    {
     "name": "stdout",
     "output_type": "stream",
     "text": [
      "Starting experimental run with id: 9. \n"
     ]
    },
    {
     "name": "stdout",
     "output_type": "stream",
     "text": [
      "Starting experimental run with id: 10. \n",
      "Starting experimental run with id: 11. \n"
     ]
    },
    {
     "name": "stdout",
     "output_type": "stream",
     "text": [
      "Starting experimental run with id: 12. \n",
      "Starting experimental run with id: 13. \n"
     ]
    },
    {
     "name": "stdout",
     "output_type": "stream",
     "text": [
      "Starting experimental run with id: 14. \n"
     ]
    }
   ],
   "source": [
    "sizes = [1,500,1000,2000,3000,4000,5000]\n",
    "t_numeric = []\n",
    "t_numeric_add = []\n",
    "t_array = []\n",
    "t_array_add = []\n",
    "for size in sizes:\n",
    "    tn, tna, run_id_n =  insert_data('numeric', size)\n",
    "    t_numeric.append(tn)\n",
    "    t_numeric_add.append(tna)\n",
    "\n",
    "    ta, taa, run_id_a =  insert_data('array', size)\n",
    "    t_array.append(ta)\n",
    "    t_array_add.append(taa)"
   ]
  },
  {
   "cell_type": "code",
   "execution_count": 6,
   "metadata": {},
   "outputs": [
    {
     "data": {
      "image/png": "[encoded data removed]",
      "text/plain": [
       "<Figure size 432x288 with 1 Axes>"
      ]
     },
     "metadata": {
      "needs_background": "light"
     },
     "output_type": "display_data"
    }
   ],
   "source": [
    "fig, ax = plt.subplots(1,1)\n",
    "ax.plot(sizes, t_numeric, 'o-', label='Inserting row-by-row')\n",
    "ax.plot(sizes, t_numeric_add, 'o-', label='Inserting row-by-row: add_result only')\n",
    "ax.plot(sizes, t_array, 'd-', label='Inserting as binary blob')\n",
    "ax.plot(sizes, t_array_add, 'd-', label='Inserting as binary blob: add_result only')\n",
    "ax.legend()\n",
    "ax.set_xlabel('Array length')\n",
    "ax.set_ylabel('Time (s)')\n",
    "fig.tight_layout()"
   ]
  },
  {
   "cell_type": "markdown",
   "metadata": {},
   "source": [
    "As shown in the latter figure, the time to setup and and close the experiment is approximately 0.4 sec. In case of small array sizes, the difference between inserting values of data as arrays and inserting them row-by-row is relatively unimportant. At larger array sizes, i.e. above 10000 points, the cost of writing data as individual datapoints starts to become important.\n"
   ]
  },
  {
   "cell_type": "markdown",
   "metadata": {},
   "source": [
    "### Case2: Long experiment time "
   ]
  },
  {
   "cell_type": "code",
   "execution_count": 7,
   "metadata": {},
   "outputs": [
    {
     "name": "stdout",
     "output_type": "stream",
     "text": [
      "Starting experimental run with id: 15. \n",
      "Starting experimental run with id: 16. \n",
      "Starting experimental run with id: 17. \n"
     ]
    },
    {
     "name": "stdout",
     "output_type": "stream",
     "text": [
      "Starting experimental run with id: 18. \n",
      "Starting experimental run with id: 19. \n"
     ]
    },
    {
     "name": "stdout",
     "output_type": "stream",
     "text": [
      "Starting experimental run with id: 20. \n"
     ]
    },
    {
     "name": "stdout",
     "output_type": "stream",
     "text": [
      "Starting experimental run with id: 21. \n"
     ]
    },
    {
     "name": "stdout",
     "output_type": "stream",
     "text": [
      "Starting experimental run with id: 22. \n"
     ]
    },
    {
     "name": "stdout",
     "output_type": "stream",
     "text": [
      "Starting experimental run with id: 23. \n"
     ]
    },
    {
     "name": "stdout",
     "output_type": "stream",
     "text": [
      "Starting experimental run with id: 24. \n"
     ]
    },
    {
     "name": "stdout",
     "output_type": "stream",
     "text": [
      "Starting experimental run with id: 25. \n"
     ]
    },
    {
     "name": "stdout",
     "output_type": "stream",
     "text": [
      "Starting experimental run with id: 26. \n"
     ]
    },
    {
     "name": "stdout",
     "output_type": "stream",
     "text": [
      "Starting experimental run with id: 27. \n"
     ]
    },
    {
     "name": "stdout",
     "output_type": "stream",
     "text": [
      "Starting experimental run with id: 28. \n"
     ]
    }
   ],
   "source": [
    "sizes = [1,500,1000,2000,3000,4000,5000]\n",
    "nreps = 100\n",
    "t_numeric = []\n",
    "t_numeric_add = []\n",
    "t_numeric_run_ids = []\n",
    "t_array = []\n",
    "t_array_add = []\n",
    "t_array_run_ids = []\n",
    "for size in sizes:\n",
    "    tn, tna, run_id_n =  insert_data('numeric', size, nreps=nreps)\n",
    "    t_numeric.append(tn)\n",
    "    t_numeric_add.append(tna)\n",
    "    t_numeric_run_ids.append(run_id_n)\n",
    "\n",
    "    ta, taa, run_id_a =  insert_data('array', size, nreps=nreps)\n",
    "    t_array.append(ta)\n",
    "    t_array_add.append(taa)\n",
    "    t_array_run_ids.append(run_id_a)"
   ]
  },
  {
   "cell_type": "code",
   "execution_count": 8,
   "metadata": {
    "scrolled": true
   },
   "outputs": [
    {
     "data": {
      "image/png": "[encoded data removed]",
      "text/plain": [
       "<Figure size 432x288 with 1 Axes>"
      ]
     },
     "metadata": {
      "needs_background": "light"
     },
     "output_type": "display_data"
    }
   ],
   "source": [
    "fig, ax = plt.subplots(1,1)\n",
    "ax.plot(sizes, t_numeric, 'o-', label='Inserting row-by-row')\n",
    "ax.plot(sizes, t_numeric_add, 'o-', label='Inserting row-by-row: add_result only')\n",
    "ax.plot(sizes, t_array, 'd-', label='Inserting as binary blob')\n",
    "ax.plot(sizes, t_array_add, 'd-', label='Inserting as binary blob: add_result only')\n",
    "ax.legend()\n",
    "ax.set_xlabel('Array length')\n",
    "ax.set_ylabel('Time (s)')\n",
    "fig.tight_layout()"
   ]
  },
  {
   "cell_type": "markdown",
   "metadata": {},
   "source": [
    "However, as we increase the length of the experiment, as seen here by repeating the insertion 100 times, we see a big difference between inserting values of the data row-by-row and inserting it as a binary blob."
   ]
  },
  {
   "cell_type": "markdown",
   "metadata": {},
   "source": [
    "## Loading the data "
   ]
  },
  {
   "cell_type": "code",
   "execution_count": 9,
   "metadata": {},
   "outputs": [],
   "source": [
    "from qcodes.dataset.data_set import load_by_id\n",
    "from qcodes.dataset.data_export import get_data_by_id"
   ]
  },
  {
   "cell_type": "markdown",
   "metadata": {},
   "source": [
    "As usual you can load the data by using the ``load_by_id`` function but you will notice that the different storage methods\n",
    "are reflected in shape of the data as it is retrieved. "
   ]
  },
  {
   "cell_type": "code",
   "execution_count": 10,
   "metadata": {},
   "outputs": [],
   "source": [
    "run_id_n = t_numeric_run_ids[0]\n",
    "run_id_a = t_array_run_ids[0]"
   ]
  },
  {
   "cell_type": "code",
   "execution_count": 11,
   "metadata": {
    "scrolled": true
   },
   "outputs": [
    {
     "data": {
      "text/plain": [
       "{'x1': {'x1': array([0.6587374 , 0.6587374 , 0.30431266, 0.30431266, 0.67942121,\n",
       "         0.67942121, 0.47621598, 0.47621598, 0.45045054, 0.45045054,\n",
       "         0.15514996, 0.15514996, 0.93677494, 0.93677494, 0.62863678,\n",
       "         0.62863678, 0.87005843, 0.87005843, 0.94302866, 0.94302866,\n",
       "         0.55566041, 0.55566041, 0.39002908, 0.39002908, 0.2330612 ,\n",
       "         0.2330612 , 0.41050042, 0.41050042, 0.9127963 , 0.9127963 ,\n",
       "         0.1592455 , 0.1592455 , 0.28032107, 0.28032107, 0.50581193,\n",
       "         0.50581193, 0.27480034, 0.27480034, 0.13112143, 0.13112143,\n",
       "         0.4681811 , 0.4681811 , 0.70397548, 0.70397548, 0.21474564,\n",
       "         0.21474564, 0.63092811, 0.63092811, 0.14032255, 0.14032255,\n",
       "         0.01040716, 0.01040716, 0.78037032, 0.78037032, 0.13419555,\n",
       "         0.13419555, 0.37591354, 0.37591354, 0.30115702, 0.30115702,\n",
       "         0.22661861, 0.22661861, 0.37166445, 0.37166445, 0.30314617,\n",
       "         0.30314617, 0.15439149, 0.15439149, 0.93127458, 0.93127458,\n",
       "         0.81121538, 0.81121538, 0.52969255, 0.52969255, 0.95378076,\n",
       "         0.95378076, 0.63616528, 0.63616528, 0.04494428, 0.04494428,\n",
       "         0.79458064, 0.79458064, 0.40497848, 0.40497848, 0.11626454,\n",
       "         0.11626454, 0.79109576, 0.79109576, 0.12849702, 0.12849702,\n",
       "         0.50511183, 0.50511183, 0.15750833, 0.15750833, 0.51393409,\n",
       "         0.51393409, 0.65146096, 0.65146096, 0.45217807, 0.45217807,\n",
       "         0.56584821, 0.56584821, 0.11065129, 0.11065129, 0.20893389,\n",
       "         0.20893389, 0.5393889 , 0.5393889 , 0.72107357, 0.72107357,\n",
       "         0.17016467, 0.17016467, 0.74789524, 0.74789524, 0.86866605,\n",
       "         0.86866605, 0.29676833, 0.29676833, 0.09480276, 0.09480276,\n",
       "         0.46502822, 0.46502822, 0.90344305, 0.90344305, 0.25236257,\n",
       "         0.25236257, 0.15773492, 0.15773492, 0.61797481, 0.61797481,\n",
       "         0.2388061 , 0.2388061 , 0.89002899, 0.89002899, 0.44776319,\n",
       "         0.44776319, 0.53882151, 0.53882151, 0.88316854, 0.88316854,\n",
       "         0.63589904, 0.63589904, 0.36170726, 0.36170726, 0.98429466,\n",
       "         0.98429466, 0.66423675, 0.66423675, 0.28219108, 0.28219108,\n",
       "         0.62823936, 0.62823936, 0.32511956, 0.32511956, 0.21718429,\n",
       "         0.21718429, 0.80938105, 0.80938105, 0.74776173, 0.74776173,\n",
       "         0.42137906, 0.42137906, 0.39090094, 0.39090094, 0.23940313,\n",
       "         0.23940313, 0.44586077, 0.44586077, 0.18797514, 0.18797514,\n",
       "         0.09515751, 0.09515751, 0.13062537, 0.13062537, 0.09991761,\n",
       "         0.09991761, 0.52052252, 0.52052252, 0.61561404, 0.61561404,\n",
       "         0.75707404, 0.75707404, 0.47997312, 0.47997312, 0.59094109,\n",
       "         0.59094109, 0.53098524, 0.53098524, 0.29103917, 0.29103917,\n",
       "         0.4190547 , 0.4190547 , 0.57245039, 0.57245039, 0.30576699,\n",
       "         0.30576699, 0.48618517, 0.48618517, 0.69484806, 0.69484806])}}"
      ]
     },
     "execution_count": 11,
     "metadata": {},
     "output_type": "execute_result"
    }
   ],
   "source": [
    "ds = load_by_id(run_id_n)\n",
    "ds.get_parameter_data('x1')"
   ]
  },
  {
   "cell_type": "markdown",
   "metadata": {},
   "source": [
    "And a dataset stored as binary arrays"
   ]
  },
  {
   "cell_type": "code",
   "execution_count": 12,
   "metadata": {
    "scrolled": true
   },
   "outputs": [
    {
     "data": {
      "text/plain": [
       "{'x1': {'x1': array([[0.03245078],\n",
       "         [0.03245078],\n",
       "         [0.46673529],\n",
       "         [0.46673529],\n",
       "         [0.91263032],\n",
       "         [0.91263032],\n",
       "         [0.28194792],\n",
       "         [0.28194792],\n",
       "         [0.11436322],\n",
       "         [0.11436322],\n",
       "         [0.57517261],\n",
       "         [0.57517261],\n",
       "         [0.5516995 ],\n",
       "         [0.5516995 ],\n",
       "         [0.52191952],\n",
       "         [0.52191952],\n",
       "         [0.86809913],\n",
       "         [0.86809913],\n",
       "         [0.68035028],\n",
       "         [0.68035028],\n",
       "         [0.6188081 ],\n",
       "         [0.6188081 ],\n",
       "         [0.91974229],\n",
       "         [0.91974229],\n",
       "         [0.18927769],\n",
       "         [0.18927769],\n",
       "         [0.28203569],\n",
       "         [0.28203569],\n",
       "         [0.90202371],\n",
       "         [0.90202371],\n",
       "         [0.72457717],\n",
       "         [0.72457717],\n",
       "         [0.88859485],\n",
       "         [0.88859485],\n",
       "         [0.60894804],\n",
       "         [0.60894804],\n",
       "         [0.75846973],\n",
       "         [0.75846973],\n",
       "         [0.53266751],\n",
       "         [0.53266751],\n",
       "         [0.71157747],\n",
       "         [0.71157747],\n",
       "         [0.21895182],\n",
       "         [0.21895182],\n",
       "         [0.84403403],\n",
       "         [0.84403403],\n",
       "         [0.15730089],\n",
       "         [0.15730089],\n",
       "         [0.65560181],\n",
       "         [0.65560181],\n",
       "         [0.175112  ],\n",
       "         [0.175112  ],\n",
       "         [0.2563081 ],\n",
       "         [0.2563081 ],\n",
       "         [0.0596324 ],\n",
       "         [0.0596324 ],\n",
       "         [0.88435694],\n",
       "         [0.88435694],\n",
       "         [0.08399224],\n",
       "         [0.08399224],\n",
       "         [0.59029773],\n",
       "         [0.59029773],\n",
       "         [0.95621493],\n",
       "         [0.95621493],\n",
       "         [0.86654907],\n",
       "         [0.86654907],\n",
       "         [0.3908715 ],\n",
       "         [0.3908715 ],\n",
       "         [0.73143913],\n",
       "         [0.73143913],\n",
       "         [0.88453226],\n",
       "         [0.88453226],\n",
       "         [0.77488493],\n",
       "         [0.77488493],\n",
       "         [0.32784504],\n",
       "         [0.32784504],\n",
       "         [0.69423016],\n",
       "         [0.69423016],\n",
       "         [0.25804675],\n",
       "         [0.25804675],\n",
       "         [0.45470921],\n",
       "         [0.45470921],\n",
       "         [0.93053339],\n",
       "         [0.93053339],\n",
       "         [0.50837897],\n",
       "         [0.50837897],\n",
       "         [0.57131576],\n",
       "         [0.57131576],\n",
       "         [0.81882913],\n",
       "         [0.81882913],\n",
       "         [0.20563139],\n",
       "         [0.20563139],\n",
       "         [0.00391974],\n",
       "         [0.00391974],\n",
       "         [0.36519803],\n",
       "         [0.36519803],\n",
       "         [0.8707365 ],\n",
       "         [0.8707365 ],\n",
       "         [0.12924495],\n",
       "         [0.12924495],\n",
       "         [0.89124753],\n",
       "         [0.89124753],\n",
       "         [0.58389286],\n",
       "         [0.58389286],\n",
       "         [0.67563161],\n",
       "         [0.67563161],\n",
       "         [0.62516831],\n",
       "         [0.62516831],\n",
       "         [0.56814091],\n",
       "         [0.56814091],\n",
       "         [0.21472106],\n",
       "         [0.21472106],\n",
       "         [0.55828544],\n",
       "         [0.55828544],\n",
       "         [0.28064411],\n",
       "         [0.28064411],\n",
       "         [0.45388182],\n",
       "         [0.45388182],\n",
       "         [0.56342138],\n",
       "         [0.56342138],\n",
       "         [0.72037007],\n",
       "         [0.72037007],\n",
       "         [0.38367159],\n",
       "         [0.38367159],\n",
       "         [0.56709641],\n",
       "         [0.56709641],\n",
       "         [0.61191192],\n",
       "         [0.61191192],\n",
       "         [0.1786956 ],\n",
       "         [0.1786956 ],\n",
       "         [0.45681822],\n",
       "         [0.45681822],\n",
       "         [0.48468454],\n",
       "         [0.48468454],\n",
       "         [0.1048952 ],\n",
       "         [0.1048952 ],\n",
       "         [0.13679992],\n",
       "         [0.13679992],\n",
       "         [0.53872094],\n",
       "         [0.53872094],\n",
       "         [0.03744758],\n",
       "         [0.03744758],\n",
       "         [0.70486176],\n",
       "         [0.70486176],\n",
       "         [0.75327021],\n",
       "         [0.75327021],\n",
       "         [0.41506708],\n",
       "         [0.41506708],\n",
       "         [0.82903978],\n",
       "         [0.82903978],\n",
       "         [0.61363174],\n",
       "         [0.61363174],\n",
       "         [0.84262328],\n",
       "         [0.84262328],\n",
       "         [0.74314374],\n",
       "         [0.74314374],\n",
       "         [0.89653439],\n",
       "         [0.89653439],\n",
       "         [0.30125548],\n",
       "         [0.30125548],\n",
       "         [0.66092935],\n",
       "         [0.66092935],\n",
       "         [0.16064389],\n",
       "         [0.16064389],\n",
       "         [0.13120282],\n",
       "         [0.13120282],\n",
       "         [0.41840815],\n",
       "         [0.41840815],\n",
       "         [0.61786571],\n",
       "         [0.61786571],\n",
       "         [0.46890542],\n",
       "         [0.46890542],\n",
       "         [0.83337371],\n",
       "         [0.83337371],\n",
       "         [0.72121111],\n",
       "         [0.72121111],\n",
       "         [0.02226527],\n",
       "         [0.02226527],\n",
       "         [0.01810924],\n",
       "         [0.01810924],\n",
       "         [0.6307223 ],\n",
       "         [0.6307223 ],\n",
       "         [0.75803079],\n",
       "         [0.75803079],\n",
       "         [0.60293374],\n",
       "         [0.60293374],\n",
       "         [0.37540438],\n",
       "         [0.37540438],\n",
       "         [0.60121128],\n",
       "         [0.60121128],\n",
       "         [0.46086402],\n",
       "         [0.46086402],\n",
       "         [0.06290095],\n",
       "         [0.06290095],\n",
       "         [0.38712376],\n",
       "         [0.38712376],\n",
       "         [0.50017313],\n",
       "         [0.50017313],\n",
       "         [0.11082509],\n",
       "         [0.11082509]])}}"
      ]
     },
     "execution_count": 12,
     "metadata": {},
     "output_type": "execute_result"
    }
   ],
   "source": [
    "ds = load_by_id(run_id_a)\n",
    "ds.get_parameter_data('x1')"
   ]
  },
  {
   "cell_type": "code",
   "execution_count": null,
   "metadata": {},
   "outputs": [],
   "source": []
  }
 ],
 "metadata": {
  "kernelspec": {
   "display_name": "Python 3",
   "language": "python",
   "name": "python3"
  },
  "language_info": {
   "codemirror_mode": {
    "name": "ipython",
    "version": 3
   },
   "file_extension": ".py",
   "mimetype": "text/x-python",
   "name": "python",
   "nbconvert_exporter": "python",
   "pygments_lexer": "ipython3",
   "version": "3.7.5"
  },
  "nbsphinx": {
   "timeout": 600
  },
  "toc": {
   "base_numbering": 1,
   "nav_menu": {},
   "number_sections": true,
   "sideBar": true,
   "skip_h1_title": false,
   "title_cell": "Table of Contents",
   "title_sidebar": "Contents",
   "toc_cell": false,
   "toc_position": {},
   "toc_section_display": true,
   "toc_window_display": false
  },
  "varInspector": {
   "cols": {
    "lenName": 16,
    "lenType": 16,
    "lenVar": 40
   },
   "kernels_config": {
    "python": {
     "delete_cmd_postfix": "",
     "delete_cmd_prefix": "del ",
     "library": "var_list.py",
     "varRefreshCmd": "print(var_dic_list())"
    },
    "r": {
     "delete_cmd_postfix": ") ",
     "delete_cmd_prefix": "rm(",
     "library": "var_list.r",
     "varRefreshCmd": "cat(var_dic_list()) "
    }
   },
   "types_to_exclude": [
    "module",
    "function",
    "builtin_function_or_method",
    "instance",
    "_Feature"
   ],
   "window_display": false
  }
 },
 "nbformat": 4,
 "nbformat_minor": 2
}
