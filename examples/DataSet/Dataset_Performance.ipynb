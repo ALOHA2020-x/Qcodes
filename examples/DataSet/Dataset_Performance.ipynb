{
 "cells": [
  {
   "cell_type": "markdown",
   "metadata": {},
   "source": [
    "# DataSet Performance\n",
    "\n",
    "This notebook shows the trade-off between inserting data into a database row-by-row and as binary blobs. Inserting the data row-by-row means that we have direct access to all the data and may perform queries directly on the values of the data. On the other hand, as we shall see, this is much slower than inserting the data directly as binary blobs."
   ]
  },
  {
   "cell_type": "markdown",
   "metadata": {},
   "source": [
    "First, we choose a new location for the database to ensure that we don't add a bunch of benchmarking data to the default one."
   ]
  },
  {
   "cell_type": "code",
   "execution_count": 1,
   "metadata": {
    "execution": {
     "iopub.execute_input": "2020-10-23T06:13:27.581666Z",
     "iopub.status.busy": "2020-10-23T06:13:27.581056Z",
     "iopub.status.idle": "2020-10-23T06:13:28.714278Z",
     "shell.execute_reply": "2020-10-23T06:13:28.713629Z"
    }
   },
   "outputs": [
    {
     "name": "stdout",
     "output_type": "stream",
     "text": [
      "Logging hadn't been started.\n",
      "Activating auto-logging. Current session state plus future input saved.\n",
      "Filename       : /home/vsts/.qcodes/logs/command_history.log\n",
      "Mode           : append\n",
      "Output logging : True\n",
      "Raw input log  : False\n",
      "Timestamping   : True\n",
      "State          : active\n"
     ]
    },
    {
     "name": "stdout",
     "output_type": "stream",
     "text": [
      "Qcodes Logfile : /home/vsts/.qcodes/logs/201023-14963-qcodes.log\n"
     ]
    }
   ],
   "source": [
    "import os\n",
    "cwd = os.getcwd()\n",
    "import qcodes as qc\n",
    "qc.config[\"core\"][\"db_location\"] = os.path.join(cwd, 'testing.db')\n"
   ]
  },
  {
   "cell_type": "code",
   "execution_count": 2,
   "metadata": {
    "execution": {
     "iopub.execute_input": "2020-10-23T06:13:28.721494Z",
     "iopub.status.busy": "2020-10-23T06:13:28.719871Z",
     "iopub.status.idle": "2020-10-23T06:13:28.909547Z",
     "shell.execute_reply": "2020-10-23T06:13:28.908966Z"
    }
   },
   "outputs": [],
   "source": [
    "%matplotlib inline\n",
    "import time\n",
    "import matplotlib.pyplot as plt\n",
    "import numpy as np\n",
    "\n",
    "import qcodes as qc\n",
    "from qcodes.instrument.parameter import ManualParameter\n",
    "from qcodes.dataset.experiment_container import (Experiment,\n",
    "                                                 load_last_experiment,\n",
    "                                                 new_experiment)\n",
    "from qcodes.dataset.sqlite.database import initialise_database\n",
    "from qcodes import load_or_create_experiment\n",
    "from qcodes.dataset.measurements import Measurement"
   ]
  },
  {
   "cell_type": "code",
   "execution_count": 3,
   "metadata": {
    "execution": {
     "iopub.execute_input": "2020-10-23T06:13:28.913938Z",
     "iopub.status.busy": "2020-10-23T06:13:28.913100Z",
     "iopub.status.idle": "2020-10-23T06:13:29.050985Z",
     "shell.execute_reply": "2020-10-23T06:13:29.050332Z"
    }
   },
   "outputs": [
    {
     "name": "stdout",
     "output_type": "stream",
     "text": [
      "\r",
      "0it [00:00, ?it/s]"
     ]
    },
    {
     "name": "stdout",
     "output_type": "stream",
     "text": [
      "\r",
      "Upgrading database; v0 -> v1: : 0it [00:00, ?it/s]"
     ]
    },
    {
     "name": "stdout",
     "output_type": "stream",
     "text": [
      "\r",
      "Upgrading database; v0 -> v1: : 0it [00:00, ?it/s]"
     ]
    },
    {
     "name": "stdout",
     "output_type": "stream",
     "text": [
      "\n",
      "\r",
      "  0%|          | 0/1 [00:00<?, ?it/s]"
     ]
    },
    {
     "name": "stdout",
     "output_type": "stream",
     "text": [
      "\r",
      "Upgrading database; v1 -> v2:   0%|          | 0/1 [00:00<?, ?it/s]"
     ]
    },
    {
     "name": "stdout",
     "output_type": "stream",
     "text": [
      "\r",
      "Upgrading database; v1 -> v2: 100%|██████████| 1/1 [00:00<00:00, 531.33it/s]"
     ]
    },
    {
     "name": "stdout",
     "output_type": "stream",
     "text": [
      "\n",
      "\r",
      "0it [00:00, ?it/s]"
     ]
    },
    {
     "name": "stdout",
     "output_type": "stream",
     "text": [
      "\r",
      "Upgrading database; v2 -> v3: : 0it [00:00, ?it/s]"
     ]
    },
    {
     "name": "stdout",
     "output_type": "stream",
     "text": [
      "\r",
      "Upgrading database; v2 -> v3: : 0it [00:00, ?it/s]"
     ]
    },
    {
     "name": "stdout",
     "output_type": "stream",
     "text": [
      "\n",
      "\r",
      "0it [00:00, ?it/s]"
     ]
    },
    {
     "name": "stdout",
     "output_type": "stream",
     "text": [
      "\r",
      "Upgrading database; v3 -> v4: : 0it [00:00, ?it/s]"
     ]
    },
    {
     "name": "stdout",
     "output_type": "stream",
     "text": [
      "\r",
      "Upgrading database; v3 -> v4: : 0it [00:00, ?it/s]"
     ]
    },
    {
     "name": "stdout",
     "output_type": "stream",
     "text": [
      "\n",
      "\r",
      "  0%|          | 0/1 [00:00<?, ?it/s]"
     ]
    },
    {
     "name": "stdout",
     "output_type": "stream",
     "text": [
      "\r",
      "Upgrading database; v4 -> v5:   0%|          | 0/1 [00:00<?, ?it/s]"
     ]
    },
    {
     "name": "stdout",
     "output_type": "stream",
     "text": [
      "\r",
      "Upgrading database; v4 -> v5: 100%|██████████| 1/1 [00:00<00:00, 394.02it/s]"
     ]
    },
    {
     "name": "stdout",
     "output_type": "stream",
     "text": [
      "\n",
      "\r",
      "0it [00:00, ?it/s]"
     ]
    },
    {
     "name": "stdout",
     "output_type": "stream",
     "text": [
      "\r",
      "Upgrading database; v5 -> v6: : 0it [00:00, ?it/s]"
     ]
    },
    {
     "name": "stdout",
     "output_type": "stream",
     "text": [
      "\r",
      "Upgrading database; v5 -> v6: : 0it [00:00, ?it/s]"
     ]
    },
    {
     "name": "stdout",
     "output_type": "stream",
     "text": [
      "\n",
      "\r",
      "  0%|          | 0/1 [00:00<?, ?it/s]"
     ]
    },
    {
     "name": "stdout",
     "output_type": "stream",
     "text": [
      "\r",
      "Upgrading database; v6 -> v7:   0%|          | 0/1 [00:00<?, ?it/s]"
     ]
    },
    {
     "name": "stdout",
     "output_type": "stream",
     "text": [
      "\r",
      "Upgrading database; v6 -> v7: 100%|██████████| 1/1 [00:00<00:00, 232.50it/s]"
     ]
    },
    {
     "name": "stdout",
     "output_type": "stream",
     "text": [
      "\n",
      "\r",
      "  0%|          | 0/1 [00:00<?, ?it/s]"
     ]
    },
    {
     "name": "stdout",
     "output_type": "stream",
     "text": [
      "\r",
      "Upgrading database; v7 -> v8:   0%|          | 0/1 [00:00<?, ?it/s]"
     ]
    },
    {
     "name": "stdout",
     "output_type": "stream",
     "text": [
      "\r",
      "Upgrading database; v7 -> v8: 100%|██████████| 1/1 [00:00<00:00, 443.00it/s]"
     ]
    },
    {
     "name": "stdout",
     "output_type": "stream",
     "text": [
      "\n",
      "\r",
      "  0%|          | 0/1 [00:00<?, ?it/s]"
     ]
    },
    {
     "name": "stdout",
     "output_type": "stream",
     "text": [
      "\r",
      "Upgrading database; v8 -> v9:   0%|          | 0/1 [00:00<?, ?it/s]"
     ]
    },
    {
     "name": "stdout",
     "output_type": "stream",
     "text": [
      "\r",
      "Upgrading database; v8 -> v9: 100%|██████████| 1/1 [00:00<00:00, 856.33it/s]"
     ]
    },
    {
     "name": "stdout",
     "output_type": "stream",
     "text": [
      "\n"
     ]
    }
   ],
   "source": [
    "initialise_database()\n",
    "exp = load_or_create_experiment(experiment_name='tutorial_exp', sample_name=\"no sample\")"
   ]
  },
  {
   "cell_type": "markdown",
   "metadata": {},
   "source": [
    "Here, we define a simple function to benchmark the time it takes to insert n points with either numeric or array data type.\n",
    "We will compare both the time used to call ``add_result`` and the time used for the full measurement."
   ]
  },
  {
   "cell_type": "code",
   "execution_count": 4,
   "metadata": {
    "execution": {
     "iopub.execute_input": "2020-10-23T06:13:29.063966Z",
     "iopub.status.busy": "2020-10-23T06:13:29.061381Z",
     "iopub.status.idle": "2020-10-23T06:13:29.067620Z",
     "shell.execute_reply": "2020-10-23T06:13:29.066997Z"
    }
   },
   "outputs": [],
   "source": [
    "def insert_data(paramtype, npoints, nreps=1):\n",
    "\n",
    "    meas = Measurement(exp=exp)\n",
    "\n",
    "    x1 = ManualParameter('x1')\n",
    "    x2 = ManualParameter('x2')\n",
    "    x3 = ManualParameter('x3')\n",
    "    y1 = ManualParameter('y1')\n",
    "    y2 = ManualParameter('y2')\n",
    "\n",
    "    meas.register_parameter(x1, paramtype=paramtype)\n",
    "    meas.register_parameter(x2, paramtype=paramtype)\n",
    "    meas.register_parameter(x3, paramtype=paramtype)\n",
    "    meas.register_parameter(y1, setpoints=[x1, x2, x3],\n",
    "                            paramtype=paramtype)\n",
    "    meas.register_parameter(y2, setpoints=[x1, x2, x3],\n",
    "                            paramtype=paramtype)\n",
    "    start = time.perf_counter()\n",
    "    with meas.run() as datasaver:\n",
    "        start_adding = time.perf_counter()\n",
    "        for i in range(nreps):\n",
    "            datasaver.add_result((x1, np.random.rand(npoints)),\n",
    "                                 (x2, np.random.rand(npoints)),\n",
    "                                 (x3, np.random.rand(npoints)),\n",
    "                                 (y1, np.random.rand(npoints)),\n",
    "                                 (y2, np.random.rand(npoints)))\n",
    "        stop_adding = time.perf_counter()\n",
    "        run_id = datasaver.run_id\n",
    "    stop = time.perf_counter()\n",
    "    tot_time = stop - start\n",
    "    add_time = stop_adding - start_adding\n",
    "    return tot_time, add_time, run_id"
   ]
  },
  {
   "cell_type": "markdown",
   "metadata": {},
   "source": [
    "## Comparison between numeric/array data and binary blob"
   ]
  },
  {
   "cell_type": "markdown",
   "metadata": {},
   "source": [
    "### Case1: Short experiment time"
   ]
  },
  {
   "cell_type": "code",
   "execution_count": 5,
   "metadata": {
    "execution": {
     "iopub.execute_input": "2020-10-23T06:13:29.077381Z",
     "iopub.status.busy": "2020-10-23T06:13:29.075563Z",
     "iopub.status.idle": "2020-10-23T06:13:29.968160Z",
     "shell.execute_reply": "2020-10-23T06:13:29.967663Z"
    }
   },
   "outputs": [
    {
     "name": "stdout",
     "output_type": "stream",
     "text": [
      "Starting experimental run with id: 1. \n",
      "Starting experimental run with id: 2. \n",
      "Starting experimental run with id: 3. \n"
     ]
    },
    {
     "name": "stdout",
     "output_type": "stream",
     "text": [
      "Starting experimental run with id: 4. \n"
     ]
    },
    {
     "name": "stdout",
     "output_type": "stream",
     "text": [
      "Starting experimental run with id: 5. \n"
     ]
    },
    {
     "name": "stdout",
     "output_type": "stream",
     "text": [
      "Starting experimental run with id: 6. \n",
      "Starting experimental run with id: 7. \n"
     ]
    },
    {
     "name": "stdout",
     "output_type": "stream",
     "text": [
      "Starting experimental run with id: 8. \n"
     ]
    },
    {
     "name": "stdout",
     "output_type": "stream",
     "text": [
      "Starting experimental run with id: 9. \n"
     ]
    },
    {
     "name": "stdout",
     "output_type": "stream",
     "text": [
      "Starting experimental run with id: 10. \n",
      "Starting experimental run with id: 11. \n"
     ]
    },
    {
     "name": "stdout",
     "output_type": "stream",
     "text": [
      "Starting experimental run with id: 12. \n"
     ]
    },
    {
     "name": "stdout",
     "output_type": "stream",
     "text": [
      "Starting experimental run with id: 13. \n"
     ]
    },
    {
     "name": "stdout",
     "output_type": "stream",
     "text": [
      "Starting experimental run with id: 14. \n"
     ]
    }
   ],
   "source": [
    "sizes = [1,500,1000,2000,3000,4000,5000]\n",
    "t_numeric = []\n",
    "t_numeric_add = []\n",
    "t_array = []\n",
    "t_array_add = []\n",
    "for size in sizes:\n",
    "    tn, tna, run_id_n =  insert_data('numeric', size)\n",
    "    t_numeric.append(tn)\n",
    "    t_numeric_add.append(tna)\n",
    "\n",
    "    ta, taa, run_id_a =  insert_data('array', size)\n",
    "    t_array.append(ta)\n",
    "    t_array_add.append(taa)"
   ]
  },
  {
   "cell_type": "code",
   "execution_count": 6,
   "metadata": {
    "execution": {
     "iopub.execute_input": "2020-10-23T06:13:29.989676Z",
     "iopub.status.busy": "2020-10-23T06:13:29.989065Z",
     "iopub.status.idle": "2020-10-23T06:13:30.198468Z",
     "shell.execute_reply": "2020-10-23T06:13:30.197608Z"
    }
   },
   "outputs": [
    {
     "data": {
      "image/png": "[encoded data removed]",
      "text/plain": [
       "<Figure size 432x288 with 1 Axes>"
      ]
     },
     "metadata": {
      "needs_background": "light"
     },
     "output_type": "display_data"
    }
   ],
   "source": [
    "fig, ax = plt.subplots(1,1)\n",
    "ax.plot(sizes, t_numeric, 'o-', label='Inserting row-by-row')\n",
    "ax.plot(sizes, t_numeric_add, 'o-', label='Inserting row-by-row: add_result only')\n",
    "ax.plot(sizes, t_array, 'd-', label='Inserting as binary blob')\n",
    "ax.plot(sizes, t_array_add, 'd-', label='Inserting as binary blob: add_result only')\n",
    "ax.legend()\n",
    "ax.set_xlabel('Array length')\n",
    "ax.set_ylabel('Time (s)')\n",
    "fig.tight_layout()"
   ]
  },
  {
   "cell_type": "markdown",
   "metadata": {},
   "source": [
    "As shown in the latter figure, the time to setup and and close the experiment is approximately 0.4 sec. In case of small array sizes, the difference between inserting values of data as arrays and inserting them row-by-row is relatively unimportant. At larger array sizes, i.e. above 10000 points, the cost of writing data as individual datapoints starts to become important.\n"
   ]
  },
  {
   "cell_type": "markdown",
   "metadata": {},
   "source": [
    "### Case2: Long experiment time "
   ]
  },
  {
   "cell_type": "code",
   "execution_count": 7,
   "metadata": {
    "execution": {
     "iopub.execute_input": "2020-10-23T06:13:30.205788Z",
     "iopub.status.busy": "2020-10-23T06:13:30.204695Z",
     "iopub.status.idle": "2020-10-23T06:14:29.765482Z",
     "shell.execute_reply": "2020-10-23T06:14:29.764548Z"
    }
   },
   "outputs": [
    {
     "name": "stdout",
     "output_type": "stream",
     "text": [
      "Starting experimental run with id: 15. \n",
      "Starting experimental run with id: 16. \n",
      "Starting experimental run with id: 17. \n"
     ]
    },
    {
     "name": "stdout",
     "output_type": "stream",
     "text": [
      "Starting experimental run with id: 18. \n",
      "Starting experimental run with id: 19. \n"
     ]
    },
    {
     "name": "stdout",
     "output_type": "stream",
     "text": [
      "Starting experimental run with id: 20. \n"
     ]
    },
    {
     "name": "stdout",
     "output_type": "stream",
     "text": [
      "Starting experimental run with id: 21. \n"
     ]
    },
    {
     "name": "stdout",
     "output_type": "stream",
     "text": [
      "Starting experimental run with id: 22. \n"
     ]
    },
    {
     "name": "stdout",
     "output_type": "stream",
     "text": [
      "Starting experimental run with id: 23. \n"
     ]
    },
    {
     "name": "stdout",
     "output_type": "stream",
     "text": [
      "Starting experimental run with id: 24. \n"
     ]
    },
    {
     "name": "stdout",
     "output_type": "stream",
     "text": [
      "Starting experimental run with id: 25. \n"
     ]
    },
    {
     "name": "stdout",
     "output_type": "stream",
     "text": [
      "Starting experimental run with id: 26. \n"
     ]
    },
    {
     "name": "stdout",
     "output_type": "stream",
     "text": [
      "Starting experimental run with id: 27. \n"
     ]
    },
    {
     "name": "stdout",
     "output_type": "stream",
     "text": [
      "Starting experimental run with id: 28. \n"
     ]
    }
   ],
   "source": [
    "sizes = [1,500,1000,2000,3000,4000,5000]\n",
    "nreps = 100\n",
    "t_numeric = []\n",
    "t_numeric_add = []\n",
    "t_numeric_run_ids = []\n",
    "t_array = []\n",
    "t_array_add = []\n",
    "t_array_run_ids = []\n",
    "for size in sizes:\n",
    "    tn, tna, run_id_n =  insert_data('numeric', size, nreps=nreps)\n",
    "    t_numeric.append(tn)\n",
    "    t_numeric_add.append(tna)\n",
    "    t_numeric_run_ids.append(run_id_n)\n",
    "\n",
    "    ta, taa, run_id_a =  insert_data('array', size, nreps=nreps)\n",
    "    t_array.append(ta)\n",
    "    t_array_add.append(taa)\n",
    "    t_array_run_ids.append(run_id_a)"
   ]
  },
  {
   "cell_type": "code",
   "execution_count": 8,
   "metadata": {
    "execution": {
     "iopub.execute_input": "2020-10-23T06:14:29.811388Z",
     "iopub.status.busy": "2020-10-23T06:14:29.795245Z",
     "iopub.status.idle": "2020-10-23T06:14:30.010007Z",
     "shell.execute_reply": "2020-10-23T06:14:30.009370Z"
    },
    "scrolled": true
   },
   "outputs": [
    {
     "data": {
      "image/png": "[encoded data removed]",
      "text/plain": [
       "<Figure size 432x288 with 1 Axes>"
      ]
     },
     "metadata": {
      "needs_background": "light"
     },
     "output_type": "display_data"
    }
   ],
   "source": [
    "fig, ax = plt.subplots(1,1)\n",
    "ax.plot(sizes, t_numeric, 'o-', label='Inserting row-by-row')\n",
    "ax.plot(sizes, t_numeric_add, 'o-', label='Inserting row-by-row: add_result only')\n",
    "ax.plot(sizes, t_array, 'd-', label='Inserting as binary blob')\n",
    "ax.plot(sizes, t_array_add, 'd-', label='Inserting as binary blob: add_result only')\n",
    "ax.legend()\n",
    "ax.set_xlabel('Array length')\n",
    "ax.set_ylabel('Time (s)')\n",
    "fig.tight_layout()"
   ]
  },
  {
   "cell_type": "markdown",
   "metadata": {},
   "source": [
    "However, as we increase the length of the experiment, as seen here by repeating the insertion 100 times, we see a big difference between inserting values of the data row-by-row and inserting it as a binary blob."
   ]
  },
  {
   "cell_type": "markdown",
   "metadata": {},
   "source": [
    "## Loading the data "
   ]
  },
  {
   "cell_type": "code",
   "execution_count": 9,
   "metadata": {
    "execution": {
     "iopub.execute_input": "2020-10-23T06:14:30.014488Z",
     "iopub.status.busy": "2020-10-23T06:14:30.013390Z",
     "iopub.status.idle": "2020-10-23T06:14:30.017590Z",
     "shell.execute_reply": "2020-10-23T06:14:30.018065Z"
    }
   },
   "outputs": [],
   "source": [
    "from qcodes.dataset.data_set import load_by_id\n",
    "from qcodes.dataset.data_export import get_data_by_id"
   ]
  },
  {
   "cell_type": "markdown",
   "metadata": {},
   "source": [
    "As usual you can load the data by using the ``load_by_id`` function but you will notice that the different storage methods\n",
    "are reflected in shape of the data as it is retrieved. "
   ]
  },
  {
   "cell_type": "code",
   "execution_count": 10,
   "metadata": {
    "execution": {
     "iopub.execute_input": "2020-10-23T06:14:30.022098Z",
     "iopub.status.busy": "2020-10-23T06:14:30.021473Z",
     "iopub.status.idle": "2020-10-23T06:14:30.025553Z",
     "shell.execute_reply": "2020-10-23T06:14:30.025021Z"
    }
   },
   "outputs": [],
   "source": [
    "run_id_n = t_numeric_run_ids[0]\n",
    "run_id_a = t_array_run_ids[0]"
   ]
  },
  {
   "cell_type": "code",
   "execution_count": 11,
   "metadata": {
    "execution": {
     "iopub.execute_input": "2020-10-23T06:14:30.029183Z",
     "iopub.status.busy": "2020-10-23T06:14:30.028558Z",
     "iopub.status.idle": "2020-10-23T06:14:30.038283Z",
     "shell.execute_reply": "2020-10-23T06:14:30.037824Z"
    },
    "scrolled": true
   },
   "outputs": [
    {
     "data": {
      "text/plain": [
       "{'x1': {'x1': array([0.87225106, 0.87225106, 0.5549081 , 0.5549081 , 0.11595385,\n",
       "         0.11595385, 0.14517909, 0.14517909, 0.7449661 , 0.7449661 ,\n",
       "         0.26869145, 0.26869145, 0.51940127, 0.51940127, 0.65061969,\n",
       "         0.65061969, 0.46383085, 0.46383085, 0.50852232, 0.50852232,\n",
       "         0.76485324, 0.76485324, 0.41005903, 0.41005903, 0.748744  ,\n",
       "         0.748744  , 0.62684239, 0.62684239, 0.58336883, 0.58336883,\n",
       "         0.41378367, 0.41378367, 0.3104205 , 0.3104205 , 0.54128867,\n",
       "         0.54128867, 0.54423946, 0.54423946, 0.39258546, 0.39258546,\n",
       "         0.0339699 , 0.0339699 , 0.19099321, 0.19099321, 0.74871367,\n",
       "         0.74871367, 0.06659915, 0.06659915, 0.73642557, 0.73642557,\n",
       "         0.67618789, 0.67618789, 0.84500607, 0.84500607, 0.63101834,\n",
       "         0.63101834, 0.49281408, 0.49281408, 0.58359722, 0.58359722,\n",
       "         0.96338338, 0.96338338, 0.67868948, 0.67868948, 0.25551975,\n",
       "         0.25551975, 0.04382518, 0.04382518, 0.3502709 , 0.3502709 ,\n",
       "         0.23663503, 0.23663503, 0.0723407 , 0.0723407 , 0.15669817,\n",
       "         0.15669817, 0.01537493, 0.01537493, 0.18691638, 0.18691638,\n",
       "         0.99708785, 0.99708785, 0.99403098, 0.99403098, 0.42905876,\n",
       "         0.42905876, 0.43455372, 0.43455372, 0.49907616, 0.49907616,\n",
       "         0.20447345, 0.20447345, 0.35452424, 0.35452424, 0.74026051,\n",
       "         0.74026051, 0.55629199, 0.55629199, 0.3505718 , 0.3505718 ,\n",
       "         0.8061452 , 0.8061452 , 0.80950007, 0.80950007, 0.75793687,\n",
       "         0.75793687, 0.18565659, 0.18565659, 0.41583116, 0.41583116,\n",
       "         0.03801043, 0.03801043, 0.81772709, 0.81772709, 0.40053632,\n",
       "         0.40053632, 0.89722132, 0.89722132, 0.96384851, 0.96384851,\n",
       "         0.11093856, 0.11093856, 0.07835317, 0.07835317, 0.82963926,\n",
       "         0.82963926, 0.60784624, 0.60784624, 0.82687309, 0.82687309,\n",
       "         0.13548622, 0.13548622, 0.19883708, 0.19883708, 0.70812487,\n",
       "         0.70812487, 0.79120194, 0.79120194, 0.73303971, 0.73303971,\n",
       "         0.52668947, 0.52668947, 0.57643075, 0.57643075, 0.77514724,\n",
       "         0.77514724, 0.33960728, 0.33960728, 0.14551712, 0.14551712,\n",
       "         0.10210124, 0.10210124, 0.53367435, 0.53367435, 0.18574229,\n",
       "         0.18574229, 0.71216504, 0.71216504, 0.7934565 , 0.7934565 ,\n",
       "         0.68233958, 0.68233958, 0.22606118, 0.22606118, 0.44894979,\n",
       "         0.44894979, 0.46478518, 0.46478518, 0.68298412, 0.68298412,\n",
       "         0.71972562, 0.71972562, 0.95044522, 0.95044522, 0.23601509,\n",
       "         0.23601509, 0.13505597, 0.13505597, 0.66059068, 0.66059068,\n",
       "         0.20288313, 0.20288313, 0.02828391, 0.02828391, 0.62742816,\n",
       "         0.62742816, 0.2041512 , 0.2041512 , 0.17056151, 0.17056151,\n",
       "         0.98591497, 0.98591497, 0.25580714, 0.25580714, 0.8432028 ,\n",
       "         0.8432028 , 0.06276334, 0.06276334, 0.97101034, 0.97101034])}}"
      ]
     },
     "execution_count": 1,
     "metadata": {},
     "output_type": "execute_result"
    }
   ],
   "source": [
    "ds = load_by_id(run_id_n)\n",
    "ds.get_parameter_data('x1')"
   ]
  },
  {
   "cell_type": "markdown",
   "metadata": {},
   "source": [
    "And a dataset stored as binary arrays"
   ]
  },
  {
   "cell_type": "code",
   "execution_count": 12,
   "metadata": {
    "execution": {
     "iopub.execute_input": "2020-10-23T06:14:30.042153Z",
     "iopub.status.busy": "2020-10-23T06:14:30.041580Z",
     "iopub.status.idle": "2020-10-23T06:14:30.105130Z",
     "shell.execute_reply": "2020-10-23T06:14:30.104497Z"
    },
    "scrolled": true
   },
   "outputs": [
    {
     "data": {
      "text/plain": [
       "{'x1': {'x1': array([[0.55781187],\n",
       "         [0.55781187],\n",
       "         [0.78325999],\n",
       "         [0.78325999],\n",
       "         [0.86772103],\n",
       "         [0.86772103],\n",
       "         [0.90681927],\n",
       "         [0.90681927],\n",
       "         [0.86691801],\n",
       "         [0.86691801],\n",
       "         [0.63470003],\n",
       "         [0.63470003],\n",
       "         [0.64162883],\n",
       "         [0.64162883],\n",
       "         [0.37854422],\n",
       "         [0.37854422],\n",
       "         [0.36345234],\n",
       "         [0.36345234],\n",
       "         [0.24455907],\n",
       "         [0.24455907],\n",
       "         [0.71776289],\n",
       "         [0.71776289],\n",
       "         [0.27549014],\n",
       "         [0.27549014],\n",
       "         [0.74239231],\n",
       "         [0.74239231],\n",
       "         [0.3604444 ],\n",
       "         [0.3604444 ],\n",
       "         [0.55646904],\n",
       "         [0.55646904],\n",
       "         [0.08263536],\n",
       "         [0.08263536],\n",
       "         [0.85255126],\n",
       "         [0.85255126],\n",
       "         [0.91882875],\n",
       "         [0.91882875],\n",
       "         [0.79607011],\n",
       "         [0.79607011],\n",
       "         [0.40063775],\n",
       "         [0.40063775],\n",
       "         [0.4444991 ],\n",
       "         [0.4444991 ],\n",
       "         [0.62901438],\n",
       "         [0.62901438],\n",
       "         [0.59468844],\n",
       "         [0.59468844],\n",
       "         [0.96789574],\n",
       "         [0.96789574],\n",
       "         [0.60865742],\n",
       "         [0.60865742],\n",
       "         [0.01323281],\n",
       "         [0.01323281],\n",
       "         [0.79992361],\n",
       "         [0.79992361],\n",
       "         [0.2195782 ],\n",
       "         [0.2195782 ],\n",
       "         [0.597839  ],\n",
       "         [0.597839  ],\n",
       "         [0.34407717],\n",
       "         [0.34407717],\n",
       "         [0.55607513],\n",
       "         [0.55607513],\n",
       "         [0.58815247],\n",
       "         [0.58815247],\n",
       "         [0.96311591],\n",
       "         [0.96311591],\n",
       "         [0.56589136],\n",
       "         [0.56589136],\n",
       "         [0.85633728],\n",
       "         [0.85633728],\n",
       "         [0.23303778],\n",
       "         [0.23303778],\n",
       "         [0.02716566],\n",
       "         [0.02716566],\n",
       "         [0.11611454],\n",
       "         [0.11611454],\n",
       "         [0.06304739],\n",
       "         [0.06304739],\n",
       "         [0.31611711],\n",
       "         [0.31611711],\n",
       "         [0.44676233],\n",
       "         [0.44676233],\n",
       "         [0.82031654],\n",
       "         [0.82031654],\n",
       "         [0.15120755],\n",
       "         [0.15120755],\n",
       "         [0.90173896],\n",
       "         [0.90173896],\n",
       "         [0.91195083],\n",
       "         [0.91195083],\n",
       "         [0.17321912],\n",
       "         [0.17321912],\n",
       "         [0.22254545],\n",
       "         [0.22254545],\n",
       "         [0.9425205 ],\n",
       "         [0.9425205 ],\n",
       "         [0.72758281],\n",
       "         [0.72758281],\n",
       "         [0.95039885],\n",
       "         [0.95039885],\n",
       "         [0.63862732],\n",
       "         [0.63862732],\n",
       "         [0.13070418],\n",
       "         [0.13070418],\n",
       "         [0.65012355],\n",
       "         [0.65012355],\n",
       "         [0.21697174],\n",
       "         [0.21697174],\n",
       "         [0.84274858],\n",
       "         [0.84274858],\n",
       "         [0.46586435],\n",
       "         [0.46586435],\n",
       "         [0.11939318],\n",
       "         [0.11939318],\n",
       "         [0.9192465 ],\n",
       "         [0.9192465 ],\n",
       "         [0.58423488],\n",
       "         [0.58423488],\n",
       "         [0.99169929],\n",
       "         [0.99169929],\n",
       "         [0.15162282],\n",
       "         [0.15162282],\n",
       "         [0.30200742],\n",
       "         [0.30200742],\n",
       "         [0.71947507],\n",
       "         [0.71947507],\n",
       "         [0.39580211],\n",
       "         [0.39580211],\n",
       "         [0.09401295],\n",
       "         [0.09401295],\n",
       "         [0.56901748],\n",
       "         [0.56901748],\n",
       "         [0.24378569],\n",
       "         [0.24378569],\n",
       "         [0.50627985],\n",
       "         [0.50627985],\n",
       "         [0.00986228],\n",
       "         [0.00986228],\n",
       "         [0.55127977],\n",
       "         [0.55127977],\n",
       "         [0.76965687],\n",
       "         [0.76965687],\n",
       "         [0.72166272],\n",
       "         [0.72166272],\n",
       "         [0.02176901],\n",
       "         [0.02176901],\n",
       "         [0.30104642],\n",
       "         [0.30104642],\n",
       "         [0.20067469],\n",
       "         [0.20067469],\n",
       "         [0.03926078],\n",
       "         [0.03926078],\n",
       "         [0.87223994],\n",
       "         [0.87223994],\n",
       "         [0.33099718],\n",
       "         [0.33099718],\n",
       "         [0.67618914],\n",
       "         [0.67618914],\n",
       "         [0.2216135 ],\n",
       "         [0.2216135 ],\n",
       "         [0.11940063],\n",
       "         [0.11940063],\n",
       "         [0.01819346],\n",
       "         [0.01819346],\n",
       "         [0.60951406],\n",
       "         [0.60951406],\n",
       "         [0.02805353],\n",
       "         [0.02805353],\n",
       "         [0.13217093],\n",
       "         [0.13217093],\n",
       "         [0.81594451],\n",
       "         [0.81594451],\n",
       "         [0.85147722],\n",
       "         [0.85147722],\n",
       "         [0.92576985],\n",
       "         [0.92576985],\n",
       "         [0.01030476],\n",
       "         [0.01030476],\n",
       "         [0.51364197],\n",
       "         [0.51364197],\n",
       "         [0.04727969],\n",
       "         [0.04727969],\n",
       "         [0.56496884],\n",
       "         [0.56496884],\n",
       "         [0.0396114 ],\n",
       "         [0.0396114 ],\n",
       "         [0.6883985 ],\n",
       "         [0.6883985 ],\n",
       "         [0.62300814],\n",
       "         [0.62300814],\n",
       "         [0.25456747],\n",
       "         [0.25456747],\n",
       "         [0.52545286],\n",
       "         [0.52545286],\n",
       "         [0.57250275],\n",
       "         [0.57250275],\n",
       "         [0.97138962],\n",
       "         [0.97138962],\n",
       "         [0.32157123],\n",
       "         [0.32157123]])}}"
      ]
     },
     "execution_count": 1,
     "metadata": {},
     "output_type": "execute_result"
    }
   ],
   "source": [
    "ds = load_by_id(run_id_a)\n",
    "ds.get_parameter_data('x1')"
   ]
  },
  {
   "cell_type": "code",
   "execution_count": null,
   "metadata": {},
   "outputs": [],
   "source": []
  }
 ],
 "metadata": {
  "kernelspec": {
   "display_name": "Python 3",
   "language": "python",
   "name": "python3"
  },
  "language_info": {
   "codemirror_mode": {
    "name": "ipython",
    "version": 3
   },
   "file_extension": ".py",
   "mimetype": "text/x-python",
   "name": "python",
   "nbconvert_exporter": "python",
   "pygments_lexer": "ipython3",
   "version": "3.7.7"
  },
  "nbsphinx": {
   "timeout": 600
  },
  "toc": {
   "base_numbering": 1,
   "nav_menu": {},
   "number_sections": true,
   "sideBar": true,
   "skip_h1_title": false,
   "title_cell": "Table of Contents",
   "title_sidebar": "Contents",
   "toc_cell": false,
   "toc_position": {},
   "toc_section_display": true,
   "toc_window_display": false
  },
  "varInspector": {
   "cols": {
    "lenName": 16,
    "lenType": 16,
    "lenVar": 40
   },
   "kernels_config": {
    "python": {
     "delete_cmd_postfix": "",
     "delete_cmd_prefix": "del ",
     "library": "var_list.py",
     "varRefreshCmd": "print(var_dic_list())"
    },
    "r": {
     "delete_cmd_postfix": ") ",
     "delete_cmd_prefix": "rm(",
     "library": "var_list.r",
     "varRefreshCmd": "cat(var_dic_list()) "
    }
   },
   "types_to_exclude": [
    "module",
    "function",
    "builtin_function_or_method",
    "instance",
    "_Feature"
   ],
   "window_display": false
  }
 },
 "nbformat": 4,
 "nbformat_minor": 2
}
