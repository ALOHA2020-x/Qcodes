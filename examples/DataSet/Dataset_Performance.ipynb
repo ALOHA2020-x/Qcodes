{
 "cells": [
  {
   "cell_type": "markdown",
   "metadata": {},
   "source": [
    "# DataSet Performance\n",
    "\n",
    "This notebook shows the trade-off between inserting data into a database row-by-row and as binary blobs. Inserting the data row-by-row means that we have direct access to all the data and may perform queries directly on the values of the data. On the other hand, as we shall see, this is much slower than inserting the data directly as binary blobs."
   ]
  },
  {
   "cell_type": "markdown",
   "metadata": {},
   "source": [
    "First, we choose a new location for the database to ensure that we don't add a bunch of benchmarking data to the default one."
   ]
  },
  {
   "cell_type": "code",
   "execution_count": 1,
   "metadata": {
    "execution": {
     "iopub.execute_input": "2020-11-26T11:04:36.036056Z",
     "iopub.status.busy": "2020-11-26T11:04:36.035505Z",
     "iopub.status.idle": "2020-11-26T11:04:37.096339Z",
     "shell.execute_reply": "2020-11-26T11:04:37.096731Z"
    }
   },
   "outputs": [
    {
     "name": "stdout",
     "output_type": "stream",
     "text": [
      "Logging hadn't been started.\n",
      "Activating auto-logging. Current session state plus future input saved.\n",
      "Filename       : /home/vsts/.qcodes/logs/command_history.log\n",
      "Mode           : append\n",
      "Output logging : True\n",
      "Raw input log  : False\n",
      "Timestamping   : True\n",
      "State          : active\n"
     ]
    },
    {
     "name": "stdout",
     "output_type": "stream",
     "text": [
      "Qcodes Logfile : /home/vsts/.qcodes/logs/201126-14545-qcodes.log\n"
     ]
    }
   ],
   "source": [
    "import os\n",
    "cwd = os.getcwd()\n",
    "import qcodes as qc\n",
    "qc.config[\"core\"][\"db_location\"] = os.path.join(cwd, 'testing.db')\n"
   ]
  },
  {
   "cell_type": "code",
   "execution_count": 2,
   "metadata": {
    "execution": {
     "iopub.execute_input": "2020-11-26T11:04:37.102396Z",
     "iopub.status.busy": "2020-11-26T11:04:37.101660Z",
     "iopub.status.idle": "2020-11-26T11:04:37.292407Z",
     "shell.execute_reply": "2020-11-26T11:04:37.291881Z"
    }
   },
   "outputs": [],
   "source": [
    "%matplotlib inline\n",
    "import time\n",
    "import matplotlib.pyplot as plt\n",
    "import numpy as np\n",
    "\n",
    "import qcodes as qc\n",
    "from qcodes.instrument.parameter import ManualParameter\n",
    "from qcodes.dataset.experiment_container import (Experiment,\n",
    "                                                 load_last_experiment,\n",
    "                                                 new_experiment)\n",
    "from qcodes.dataset.sqlite.database import initialise_database\n",
    "from qcodes import load_or_create_experiment\n",
    "from qcodes.dataset.measurements import Measurement"
   ]
  },
  {
   "cell_type": "code",
   "execution_count": 3,
   "metadata": {
    "execution": {
     "iopub.execute_input": "2020-11-26T11:04:37.296595Z",
     "iopub.status.busy": "2020-11-26T11:04:37.296021Z",
     "iopub.status.idle": "2020-11-26T11:04:37.416144Z",
     "shell.execute_reply": "2020-11-26T11:04:37.416743Z"
    }
   },
   "outputs": [
    {
     "name": "stdout",
     "output_type": "stream",
     "text": [
      "\r",
      "0it [00:00, ?it/s]"
     ]
    },
    {
     "name": "stdout",
     "output_type": "stream",
     "text": [
      "\r",
      "Upgrading database; v0 -> v1: : 0it [00:00, ?it/s]"
     ]
    },
    {
     "name": "stdout",
     "output_type": "stream",
     "text": [
      "\r",
      "Upgrading database; v0 -> v1: : 0it [00:00, ?it/s]"
     ]
    },
    {
     "name": "stdout",
     "output_type": "stream",
     "text": [
      "\n",
      "\r",
      "  0%|          | 0/1 [00:00<?, ?it/s]"
     ]
    },
    {
     "name": "stdout",
     "output_type": "stream",
     "text": [
      "\r",
      "Upgrading database; v1 -> v2:   0%|          | 0/1 [00:00<?, ?it/s]"
     ]
    },
    {
     "name": "stdout",
     "output_type": "stream",
     "text": [
      "\r",
      "Upgrading database; v1 -> v2: 100%|██████████| 1/1 [00:00<00:00, 921.02it/s]"
     ]
    },
    {
     "name": "stdout",
     "output_type": "stream",
     "text": [
      "\n",
      "\r",
      "0it [00:00, ?it/s]"
     ]
    },
    {
     "name": "stdout",
     "output_type": "stream",
     "text": [
      "\r",
      "Upgrading database; v2 -> v3: : 0it [00:00, ?it/s]"
     ]
    },
    {
     "name": "stdout",
     "output_type": "stream",
     "text": [
      "\r",
      "Upgrading database; v2 -> v3: : 0it [00:00, ?it/s]"
     ]
    },
    {
     "name": "stdout",
     "output_type": "stream",
     "text": [
      "\n",
      "\r",
      "0it [00:00, ?it/s]"
     ]
    },
    {
     "name": "stdout",
     "output_type": "stream",
     "text": [
      "\r",
      "Upgrading database; v3 -> v4: : 0it [00:00, ?it/s]"
     ]
    },
    {
     "name": "stdout",
     "output_type": "stream",
     "text": [
      "\r",
      "Upgrading database; v3 -> v4: : 0it [00:00, ?it/s]"
     ]
    },
    {
     "name": "stdout",
     "output_type": "stream",
     "text": [
      "\n",
      "\r",
      "  0%|          | 0/1 [00:00<?, ?it/s]"
     ]
    },
    {
     "name": "stdout",
     "output_type": "stream",
     "text": [
      "\r",
      "Upgrading database; v4 -> v5:   0%|          | 0/1 [00:00<?, ?it/s]"
     ]
    },
    {
     "name": "stdout",
     "output_type": "stream",
     "text": [
      "\r",
      "Upgrading database; v4 -> v5: 100%|██████████| 1/1 [00:00<00:00, 473.93it/s]"
     ]
    },
    {
     "name": "stdout",
     "output_type": "stream",
     "text": [
      "\n",
      "\r",
      "0it [00:00, ?it/s]"
     ]
    },
    {
     "name": "stdout",
     "output_type": "stream",
     "text": [
      "\r",
      "Upgrading database; v5 -> v6: : 0it [00:00, ?it/s]"
     ]
    },
    {
     "name": "stdout",
     "output_type": "stream",
     "text": [
      "\r",
      "Upgrading database; v5 -> v6: : 0it [00:00, ?it/s]"
     ]
    },
    {
     "name": "stdout",
     "output_type": "stream",
     "text": [
      "\n",
      "\r",
      "  0%|          | 0/1 [00:00<?, ?it/s]"
     ]
    },
    {
     "name": "stdout",
     "output_type": "stream",
     "text": [
      "\r",
      "Upgrading database; v6 -> v7:   0%|          | 0/1 [00:00<?, ?it/s]"
     ]
    },
    {
     "name": "stdout",
     "output_type": "stream",
     "text": [
      "\r",
      "Upgrading database; v6 -> v7: 100%|██████████| 1/1 [00:00<00:00, 403.14it/s]"
     ]
    },
    {
     "name": "stdout",
     "output_type": "stream",
     "text": [
      "\n",
      "\r",
      "  0%|          | 0/1 [00:00<?, ?it/s]"
     ]
    },
    {
     "name": "stdout",
     "output_type": "stream",
     "text": [
      "\r",
      "Upgrading database; v7 -> v8:   0%|          | 0/1 [00:00<?, ?it/s]"
     ]
    },
    {
     "name": "stdout",
     "output_type": "stream",
     "text": [
      "\r",
      "Upgrading database; v7 -> v8: 100%|██████████| 1/1 [00:00<00:00, 413.93it/s]"
     ]
    },
    {
     "name": "stdout",
     "output_type": "stream",
     "text": [
      "\n",
      "\r",
      "  0%|          | 0/1 [00:00<?, ?it/s]"
     ]
    },
    {
     "name": "stdout",
     "output_type": "stream",
     "text": [
      "\r",
      "Upgrading database; v8 -> v9:   0%|          | 0/1 [00:00<?, ?it/s]"
     ]
    },
    {
     "name": "stdout",
     "output_type": "stream",
     "text": [
      "\r",
      "Upgrading database; v8 -> v9: 100%|██████████| 1/1 [00:00<00:00, 829.73it/s]"
     ]
    },
    {
     "name": "stdout",
     "output_type": "stream",
     "text": [
      "\n"
     ]
    }
   ],
   "source": [
    "initialise_database()\n",
    "exp = load_or_create_experiment(experiment_name='tutorial_exp', sample_name=\"no sample\")"
   ]
  },
  {
   "cell_type": "markdown",
   "metadata": {},
   "source": [
    "Here, we define a simple function to benchmark the time it takes to insert n points with either numeric or array data type.\n",
    "We will compare both the time used to call ``add_result`` and the time used for the full measurement."
   ]
  },
  {
   "cell_type": "code",
   "execution_count": 4,
   "metadata": {
    "execution": {
     "iopub.execute_input": "2020-11-26T11:04:37.425506Z",
     "iopub.status.busy": "2020-11-26T11:04:37.423762Z",
     "iopub.status.idle": "2020-11-26T11:04:37.427233Z",
     "shell.execute_reply": "2020-11-26T11:04:37.427760Z"
    }
   },
   "outputs": [],
   "source": [
    "def insert_data(paramtype, npoints, nreps=1):\n",
    "\n",
    "    meas = Measurement(exp=exp)\n",
    "\n",
    "    x1 = ManualParameter('x1')\n",
    "    x2 = ManualParameter('x2')\n",
    "    x3 = ManualParameter('x3')\n",
    "    y1 = ManualParameter('y1')\n",
    "    y2 = ManualParameter('y2')\n",
    "\n",
    "    meas.register_parameter(x1, paramtype=paramtype)\n",
    "    meas.register_parameter(x2, paramtype=paramtype)\n",
    "    meas.register_parameter(x3, paramtype=paramtype)\n",
    "    meas.register_parameter(y1, setpoints=[x1, x2, x3],\n",
    "                            paramtype=paramtype)\n",
    "    meas.register_parameter(y2, setpoints=[x1, x2, x3],\n",
    "                            paramtype=paramtype)\n",
    "    start = time.perf_counter()\n",
    "    with meas.run() as datasaver:\n",
    "        start_adding = time.perf_counter()\n",
    "        for i in range(nreps):\n",
    "            datasaver.add_result((x1, np.random.rand(npoints)),\n",
    "                                 (x2, np.random.rand(npoints)),\n",
    "                                 (x3, np.random.rand(npoints)),\n",
    "                                 (y1, np.random.rand(npoints)),\n",
    "                                 (y2, np.random.rand(npoints)))\n",
    "        stop_adding = time.perf_counter()\n",
    "        run_id = datasaver.run_id\n",
    "    stop = time.perf_counter()\n",
    "    tot_time = stop - start\n",
    "    add_time = stop_adding - start_adding\n",
    "    return tot_time, add_time, run_id"
   ]
  },
  {
   "cell_type": "markdown",
   "metadata": {},
   "source": [
    "## Comparison between numeric/array data and binary blob"
   ]
  },
  {
   "cell_type": "markdown",
   "metadata": {},
   "source": [
    "### Case1: Short experiment time"
   ]
  },
  {
   "cell_type": "code",
   "execution_count": 5,
   "metadata": {
    "execution": {
     "iopub.execute_input": "2020-11-26T11:04:37.433481Z",
     "iopub.status.busy": "2020-11-26T11:04:37.431669Z",
     "iopub.status.idle": "2020-11-26T11:04:38.279635Z",
     "shell.execute_reply": "2020-11-26T11:04:38.280508Z"
    }
   },
   "outputs": [
    {
     "name": "stdout",
     "output_type": "stream",
     "text": [
      "Starting experimental run with id: 1. \n",
      "Starting experimental run with id: 2. \n",
      "Starting experimental run with id: 3. \n",
      "Starting experimental run with id: 4. \n",
      "Starting experimental run with id: 5. \n"
     ]
    },
    {
     "name": "stdout",
     "output_type": "stream",
     "text": [
      "Starting experimental run with id: 6. \n"
     ]
    },
    {
     "name": "stdout",
     "output_type": "stream",
     "text": [
      "Starting experimental run with id: 7. \n"
     ]
    },
    {
     "name": "stdout",
     "output_type": "stream",
     "text": [
      "Starting experimental run with id: 8. \n",
      "Starting experimental run with id: 9. \n"
     ]
    },
    {
     "name": "stdout",
     "output_type": "stream",
     "text": [
      "Starting experimental run with id: 10. \n",
      "Starting experimental run with id: 11. \n"
     ]
    },
    {
     "name": "stdout",
     "output_type": "stream",
     "text": [
      "Starting experimental run with id: 12. \n",
      "Starting experimental run with id: 13. \n"
     ]
    },
    {
     "name": "stdout",
     "output_type": "stream",
     "text": [
      "Starting experimental run with id: 14. \n"
     ]
    }
   ],
   "source": [
    "sizes = [1,500,1000,2000,3000,4000,5000]\n",
    "t_numeric = []\n",
    "t_numeric_add = []\n",
    "t_array = []\n",
    "t_array_add = []\n",
    "for size in sizes:\n",
    "    tn, tna, run_id_n =  insert_data('numeric', size)\n",
    "    t_numeric.append(tn)\n",
    "    t_numeric_add.append(tna)\n",
    "\n",
    "    ta, taa, run_id_a =  insert_data('array', size)\n",
    "    t_array.append(ta)\n",
    "    t_array_add.append(taa)"
   ]
  },
  {
   "cell_type": "code",
   "execution_count": 6,
   "metadata": {
    "execution": {
     "iopub.execute_input": "2020-11-26T11:04:38.300620Z",
     "iopub.status.busy": "2020-11-26T11:04:38.297947Z",
     "iopub.status.idle": "2020-11-26T11:04:38.519251Z",
     "shell.execute_reply": "2020-11-26T11:04:38.520041Z"
    }
   },
   "outputs": [
    {
     "data": {
      "image/png": "[encoded data removed]",
      "text/plain": [
       "<Figure size 432x288 with 1 Axes>"
      ]
     },
     "metadata": {
      "needs_background": "light"
     },
     "output_type": "display_data"
    }
   ],
   "source": [
    "fig, ax = plt.subplots(1,1)\n",
    "ax.plot(sizes, t_numeric, 'o-', label='Inserting row-by-row')\n",
    "ax.plot(sizes, t_numeric_add, 'o-', label='Inserting row-by-row: add_result only')\n",
    "ax.plot(sizes, t_array, 'd-', label='Inserting as binary blob')\n",
    "ax.plot(sizes, t_array_add, 'd-', label='Inserting as binary blob: add_result only')\n",
    "ax.legend()\n",
    "ax.set_xlabel('Array length')\n",
    "ax.set_ylabel('Time (s)')\n",
    "fig.tight_layout()"
   ]
  },
  {
   "cell_type": "markdown",
   "metadata": {},
   "source": [
    "As shown in the latter figure, the time to setup and and close the experiment is approximately 0.4 sec. In case of small array sizes, the difference between inserting values of data as arrays and inserting them row-by-row is relatively unimportant. At larger array sizes, i.e. above 10000 points, the cost of writing data as individual datapoints starts to become important.\n"
   ]
  },
  {
   "cell_type": "markdown",
   "metadata": {},
   "source": [
    "### Case2: Long experiment time "
   ]
  },
  {
   "cell_type": "code",
   "execution_count": 7,
   "metadata": {
    "execution": {
     "iopub.execute_input": "2020-11-26T11:04:38.527383Z",
     "iopub.status.busy": "2020-11-26T11:04:38.526238Z",
     "iopub.status.idle": "2020-11-26T11:05:39.761854Z",
     "shell.execute_reply": "2020-11-26T11:05:39.761375Z"
    }
   },
   "outputs": [
    {
     "name": "stdout",
     "output_type": "stream",
     "text": [
      "Starting experimental run with id: 15. \n",
      "Starting experimental run with id: 16. \n",
      "Starting experimental run with id: 17. \n"
     ]
    },
    {
     "name": "stdout",
     "output_type": "stream",
     "text": [
      "Starting experimental run with id: 18. \n",
      "Starting experimental run with id: 19. \n"
     ]
    },
    {
     "name": "stdout",
     "output_type": "stream",
     "text": [
      "Starting experimental run with id: 20. \n"
     ]
    },
    {
     "name": "stdout",
     "output_type": "stream",
     "text": [
      "Starting experimental run with id: 21. \n"
     ]
    },
    {
     "name": "stdout",
     "output_type": "stream",
     "text": [
      "Starting experimental run with id: 22. \n"
     ]
    },
    {
     "name": "stdout",
     "output_type": "stream",
     "text": [
      "Starting experimental run with id: 23. \n"
     ]
    },
    {
     "name": "stdout",
     "output_type": "stream",
     "text": [
      "Starting experimental run with id: 24. \n"
     ]
    },
    {
     "name": "stdout",
     "output_type": "stream",
     "text": [
      "Starting experimental run with id: 25. \n"
     ]
    },
    {
     "name": "stdout",
     "output_type": "stream",
     "text": [
      "Starting experimental run with id: 26. \n"
     ]
    },
    {
     "name": "stdout",
     "output_type": "stream",
     "text": [
      "Starting experimental run with id: 27. \n"
     ]
    },
    {
     "name": "stdout",
     "output_type": "stream",
     "text": [
      "Starting experimental run with id: 28. \n"
     ]
    }
   ],
   "source": [
    "sizes = [1,500,1000,2000,3000,4000,5000]\n",
    "nreps = 100\n",
    "t_numeric = []\n",
    "t_numeric_add = []\n",
    "t_numeric_run_ids = []\n",
    "t_array = []\n",
    "t_array_add = []\n",
    "t_array_run_ids = []\n",
    "for size in sizes:\n",
    "    tn, tna, run_id_n =  insert_data('numeric', size, nreps=nreps)\n",
    "    t_numeric.append(tn)\n",
    "    t_numeric_add.append(tna)\n",
    "    t_numeric_run_ids.append(run_id_n)\n",
    "\n",
    "    ta, taa, run_id_a =  insert_data('array', size, nreps=nreps)\n",
    "    t_array.append(ta)\n",
    "    t_array_add.append(taa)\n",
    "    t_array_run_ids.append(run_id_a)"
   ]
  },
  {
   "cell_type": "code",
   "execution_count": 8,
   "metadata": {
    "execution": {
     "iopub.execute_input": "2020-11-26T11:05:39.784772Z",
     "iopub.status.busy": "2020-11-26T11:05:39.781722Z",
     "iopub.status.idle": "2020-11-26T11:05:40.009504Z",
     "shell.execute_reply": "2020-11-26T11:05:40.008953Z"
    },
    "scrolled": true
   },
   "outputs": [
    {
     "data": {
      "image/png": "[encoded data removed]",
      "text/plain": [
       "<Figure size 432x288 with 1 Axes>"
      ]
     },
     "metadata": {
      "needs_background": "light"
     },
     "output_type": "display_data"
    }
   ],
   "source": [
    "fig, ax = plt.subplots(1,1)\n",
    "ax.plot(sizes, t_numeric, 'o-', label='Inserting row-by-row')\n",
    "ax.plot(sizes, t_numeric_add, 'o-', label='Inserting row-by-row: add_result only')\n",
    "ax.plot(sizes, t_array, 'd-', label='Inserting as binary blob')\n",
    "ax.plot(sizes, t_array_add, 'd-', label='Inserting as binary blob: add_result only')\n",
    "ax.legend()\n",
    "ax.set_xlabel('Array length')\n",
    "ax.set_ylabel('Time (s)')\n",
    "fig.tight_layout()"
   ]
  },
  {
   "cell_type": "markdown",
   "metadata": {},
   "source": [
    "However, as we increase the length of the experiment, as seen here by repeating the insertion 100 times, we see a big difference between inserting values of the data row-by-row and inserting it as a binary blob."
   ]
  },
  {
   "cell_type": "markdown",
   "metadata": {},
   "source": [
    "## Loading the data "
   ]
  },
  {
   "cell_type": "code",
   "execution_count": 9,
   "metadata": {
    "execution": {
     "iopub.execute_input": "2020-11-26T11:05:40.015239Z",
     "iopub.status.busy": "2020-11-26T11:05:40.013376Z",
     "iopub.status.idle": "2020-11-26T11:05:40.017866Z",
     "shell.execute_reply": "2020-11-26T11:05:40.018342Z"
    }
   },
   "outputs": [],
   "source": [
    "from qcodes.dataset.data_set import load_by_id\n",
    "from qcodes.dataset.data_export import get_data_by_id"
   ]
  },
  {
   "cell_type": "markdown",
   "metadata": {},
   "source": [
    "As usual you can load the data by using the ``load_by_id`` function but you will notice that the different storage methods\n",
    "are reflected in shape of the data as it is retrieved. "
   ]
  },
  {
   "cell_type": "code",
   "execution_count": 10,
   "metadata": {
    "execution": {
     "iopub.execute_input": "2020-11-26T11:05:40.021987Z",
     "iopub.status.busy": "2020-11-26T11:05:40.021531Z",
     "iopub.status.idle": "2020-11-26T11:05:40.025426Z",
     "shell.execute_reply": "2020-11-26T11:05:40.024940Z"
    }
   },
   "outputs": [],
   "source": [
    "run_id_n = t_numeric_run_ids[0]\n",
    "run_id_a = t_array_run_ids[0]"
   ]
  },
  {
   "cell_type": "code",
   "execution_count": 11,
   "metadata": {
    "execution": {
     "iopub.execute_input": "2020-11-26T11:05:40.028965Z",
     "iopub.status.busy": "2020-11-26T11:05:40.028472Z",
     "iopub.status.idle": "2020-11-26T11:05:40.040224Z",
     "shell.execute_reply": "2020-11-26T11:05:40.039760Z"
    },
    "scrolled": true
   },
   "outputs": [
    {
     "data": {
      "text/plain": [
       "{'x1': {'x1': array([0.28258484, 0.28258484, 0.90469438, 0.90469438, 0.99675348,\n",
       "         0.99675348, 0.84222996, 0.84222996, 0.30988315, 0.30988315,\n",
       "         0.42741757, 0.42741757, 0.84520793, 0.84520793, 0.70434109,\n",
       "         0.70434109, 0.21263661, 0.21263661, 0.3800372 , 0.3800372 ,\n",
       "         0.51204509, 0.51204509, 0.13037487, 0.13037487, 0.35437187,\n",
       "         0.35437187, 0.25343126, 0.25343126, 0.48947759, 0.48947759,\n",
       "         0.6117978 , 0.6117978 , 0.0933413 , 0.0933413 , 0.30821616,\n",
       "         0.30821616, 0.1011639 , 0.1011639 , 0.75734716, 0.75734716,\n",
       "         0.93964444, 0.93964444, 0.9080143 , 0.9080143 , 0.02467569,\n",
       "         0.02467569, 0.90784311, 0.90784311, 0.98274349, 0.98274349,\n",
       "         0.67474775, 0.67474775, 0.25648296, 0.25648296, 0.47516737,\n",
       "         0.47516737, 0.70660341, 0.70660341, 0.47236463, 0.47236463,\n",
       "         0.69163431, 0.69163431, 0.41183083, 0.41183083, 0.05686093,\n",
       "         0.05686093, 0.38056357, 0.38056357, 0.48836077, 0.48836077,\n",
       "         0.76521003, 0.76521003, 0.36051277, 0.36051277, 0.65853249,\n",
       "         0.65853249, 0.89536174, 0.89536174, 0.24060294, 0.24060294,\n",
       "         0.41155143, 0.41155143, 0.14226196, 0.14226196, 0.24804962,\n",
       "         0.24804962, 0.84022761, 0.84022761, 0.96565044, 0.96565044,\n",
       "         0.4277373 , 0.4277373 , 0.20500355, 0.20500355, 0.75301213,\n",
       "         0.75301213, 0.18717815, 0.18717815, 0.30352049, 0.30352049,\n",
       "         0.43671069, 0.43671069, 0.21590225, 0.21590225, 0.25998651,\n",
       "         0.25998651, 0.59172064, 0.59172064, 0.2751942 , 0.2751942 ,\n",
       "         0.31894717, 0.31894717, 0.38733965, 0.38733965, 0.7951576 ,\n",
       "         0.7951576 , 0.84795048, 0.84795048, 0.85400099, 0.85400099,\n",
       "         0.58135027, 0.58135027, 0.92037108, 0.92037108, 0.46672757,\n",
       "         0.46672757, 0.44708542, 0.44708542, 0.73794432, 0.73794432,\n",
       "         0.51090386, 0.51090386, 0.99748227, 0.99748227, 0.68015412,\n",
       "         0.68015412, 0.72747384, 0.72747384, 0.96613812, 0.96613812,\n",
       "         0.37104288, 0.37104288, 0.4357234 , 0.4357234 , 0.86289198,\n",
       "         0.86289198, 0.84087839, 0.84087839, 0.62100422, 0.62100422,\n",
       "         0.94270663, 0.94270663, 0.32199505, 0.32199505, 0.85055971,\n",
       "         0.85055971, 0.30986139, 0.30986139, 0.2218755 , 0.2218755 ,\n",
       "         0.816971  , 0.816971  , 0.62783924, 0.62783924, 0.01838738,\n",
       "         0.01838738, 0.73175133, 0.73175133, 0.76890354, 0.76890354,\n",
       "         0.36830403, 0.36830403, 0.48747251, 0.48747251, 0.72517586,\n",
       "         0.72517586, 0.61252765, 0.61252765, 0.20925847, 0.20925847,\n",
       "         0.77126289, 0.77126289, 0.94039984, 0.94039984, 0.24224278,\n",
       "         0.24224278, 0.89083213, 0.89083213, 0.51219241, 0.51219241,\n",
       "         0.04346887, 0.04346887, 0.86494024, 0.86494024, 0.5847355 ,\n",
       "         0.5847355 , 0.37148983, 0.37148983, 0.17523942, 0.17523942])}}"
      ]
     },
     "execution_count": 1,
     "metadata": {},
     "output_type": "execute_result"
    }
   ],
   "source": [
    "ds = load_by_id(run_id_n)\n",
    "ds.get_parameter_data('x1')"
   ]
  },
  {
   "cell_type": "markdown",
   "metadata": {},
   "source": [
    "And a dataset stored as binary arrays"
   ]
  },
  {
   "cell_type": "code",
   "execution_count": 12,
   "metadata": {
    "execution": {
     "iopub.execute_input": "2020-11-26T11:05:40.043745Z",
     "iopub.status.busy": "2020-11-26T11:05:40.043123Z",
     "iopub.status.idle": "2020-11-26T11:05:40.115530Z",
     "shell.execute_reply": "2020-11-26T11:05:40.114724Z"
    },
    "scrolled": true
   },
   "outputs": [
    {
     "data": {
      "text/plain": [
       "{'x1': {'x1': array([[0.34726727],\n",
       "         [0.34726727],\n",
       "         [0.94864195],\n",
       "         [0.94864195],\n",
       "         [0.15532956],\n",
       "         [0.15532956],\n",
       "         [0.74105154],\n",
       "         [0.74105154],\n",
       "         [0.23702979],\n",
       "         [0.23702979],\n",
       "         [0.81489761],\n",
       "         [0.81489761],\n",
       "         [0.89653144],\n",
       "         [0.89653144],\n",
       "         [0.47256121],\n",
       "         [0.47256121],\n",
       "         [0.97816509],\n",
       "         [0.97816509],\n",
       "         [0.57371147],\n",
       "         [0.57371147],\n",
       "         [0.4312113 ],\n",
       "         [0.4312113 ],\n",
       "         [0.32821233],\n",
       "         [0.32821233],\n",
       "         [0.61633252],\n",
       "         [0.61633252],\n",
       "         [0.16749381],\n",
       "         [0.16749381],\n",
       "         [0.43240828],\n",
       "         [0.43240828],\n",
       "         [0.26343247],\n",
       "         [0.26343247],\n",
       "         [0.25373706],\n",
       "         [0.25373706],\n",
       "         [0.48117578],\n",
       "         [0.48117578],\n",
       "         [0.87893886],\n",
       "         [0.87893886],\n",
       "         [0.02556344],\n",
       "         [0.02556344],\n",
       "         [0.9373757 ],\n",
       "         [0.9373757 ],\n",
       "         [0.36941416],\n",
       "         [0.36941416],\n",
       "         [0.1990768 ],\n",
       "         [0.1990768 ],\n",
       "         [0.76024675],\n",
       "         [0.76024675],\n",
       "         [0.92739786],\n",
       "         [0.92739786],\n",
       "         [0.15888987],\n",
       "         [0.15888987],\n",
       "         [0.04079665],\n",
       "         [0.04079665],\n",
       "         [0.40109221],\n",
       "         [0.40109221],\n",
       "         [0.61829921],\n",
       "         [0.61829921],\n",
       "         [0.71327012],\n",
       "         [0.71327012],\n",
       "         [0.24834748],\n",
       "         [0.24834748],\n",
       "         [0.56366034],\n",
       "         [0.56366034],\n",
       "         [0.09563334],\n",
       "         [0.09563334],\n",
       "         [0.3200486 ],\n",
       "         [0.3200486 ],\n",
       "         [0.66605391],\n",
       "         [0.66605391],\n",
       "         [0.95395543],\n",
       "         [0.95395543],\n",
       "         [0.9984779 ],\n",
       "         [0.9984779 ],\n",
       "         [0.36715023],\n",
       "         [0.36715023],\n",
       "         [0.9989742 ],\n",
       "         [0.9989742 ],\n",
       "         [0.38704992],\n",
       "         [0.38704992],\n",
       "         [0.92096732],\n",
       "         [0.92096732],\n",
       "         [0.15010836],\n",
       "         [0.15010836],\n",
       "         [0.75399899],\n",
       "         [0.75399899],\n",
       "         [0.9179474 ],\n",
       "         [0.9179474 ],\n",
       "         [0.40526558],\n",
       "         [0.40526558],\n",
       "         [0.4390378 ],\n",
       "         [0.4390378 ],\n",
       "         [0.31927893],\n",
       "         [0.31927893],\n",
       "         [0.75067481],\n",
       "         [0.75067481],\n",
       "         [0.05046697],\n",
       "         [0.05046697],\n",
       "         [0.83510183],\n",
       "         [0.83510183],\n",
       "         [0.41866109],\n",
       "         [0.41866109],\n",
       "         [0.83560739],\n",
       "         [0.83560739],\n",
       "         [0.97006301],\n",
       "         [0.97006301],\n",
       "         [0.86575527],\n",
       "         [0.86575527],\n",
       "         [0.01771906],\n",
       "         [0.01771906],\n",
       "         [0.69774758],\n",
       "         [0.69774758],\n",
       "         [0.17000727],\n",
       "         [0.17000727],\n",
       "         [0.92509119],\n",
       "         [0.92509119],\n",
       "         [0.49588014],\n",
       "         [0.49588014],\n",
       "         [0.21553969],\n",
       "         [0.21553969],\n",
       "         [0.12900671],\n",
       "         [0.12900671],\n",
       "         [0.060167  ],\n",
       "         [0.060167  ],\n",
       "         [0.8803734 ],\n",
       "         [0.8803734 ],\n",
       "         [0.66232187],\n",
       "         [0.66232187],\n",
       "         [0.69812135],\n",
       "         [0.69812135],\n",
       "         [0.2011437 ],\n",
       "         [0.2011437 ],\n",
       "         [0.51314024],\n",
       "         [0.51314024],\n",
       "         [0.70766762],\n",
       "         [0.70766762],\n",
       "         [0.41442522],\n",
       "         [0.41442522],\n",
       "         [0.27545996],\n",
       "         [0.27545996],\n",
       "         [0.50544475],\n",
       "         [0.50544475],\n",
       "         [0.81048226],\n",
       "         [0.81048226],\n",
       "         [0.76279074],\n",
       "         [0.76279074],\n",
       "         [0.8565418 ],\n",
       "         [0.8565418 ],\n",
       "         [0.90976287],\n",
       "         [0.90976287],\n",
       "         [0.14684917],\n",
       "         [0.14684917],\n",
       "         [0.06762912],\n",
       "         [0.06762912],\n",
       "         [0.73492335],\n",
       "         [0.73492335],\n",
       "         [0.19181683],\n",
       "         [0.19181683],\n",
       "         [0.74780391],\n",
       "         [0.74780391],\n",
       "         [0.86140164],\n",
       "         [0.86140164],\n",
       "         [0.49472096],\n",
       "         [0.49472096],\n",
       "         [0.52101609],\n",
       "         [0.52101609],\n",
       "         [0.80207275],\n",
       "         [0.80207275],\n",
       "         [0.26191379],\n",
       "         [0.26191379],\n",
       "         [0.63357971],\n",
       "         [0.63357971],\n",
       "         [0.86801576],\n",
       "         [0.86801576],\n",
       "         [0.807691  ],\n",
       "         [0.807691  ],\n",
       "         [0.67230875],\n",
       "         [0.67230875],\n",
       "         [0.3854964 ],\n",
       "         [0.3854964 ],\n",
       "         [0.25310522],\n",
       "         [0.25310522],\n",
       "         [0.37120387],\n",
       "         [0.37120387],\n",
       "         [0.45264894],\n",
       "         [0.45264894],\n",
       "         [0.32256008],\n",
       "         [0.32256008],\n",
       "         [0.7326036 ],\n",
       "         [0.7326036 ],\n",
       "         [0.06130045],\n",
       "         [0.06130045],\n",
       "         [0.11549053],\n",
       "         [0.11549053],\n",
       "         [0.2556979 ],\n",
       "         [0.2556979 ],\n",
       "         [0.75136698],\n",
       "         [0.75136698],\n",
       "         [0.96805761],\n",
       "         [0.96805761]])}}"
      ]
     },
     "execution_count": 1,
     "metadata": {},
     "output_type": "execute_result"
    }
   ],
   "source": [
    "ds = load_by_id(run_id_a)\n",
    "ds.get_parameter_data('x1')"
   ]
  },
  {
   "cell_type": "code",
   "execution_count": null,
   "metadata": {},
   "outputs": [],
   "source": []
  }
 ],
 "metadata": {
  "kernelspec": {
   "display_name": "Python 3",
   "language": "python",
   "name": "python3"
  },
  "language_info": {
   "codemirror_mode": {
    "name": "ipython",
    "version": 3
   },
   "file_extension": ".py",
   "mimetype": "text/x-python",
   "name": "python",
   "nbconvert_exporter": "python",
   "pygments_lexer": "ipython3",
   "version": "3.7.9"
  },
  "nbsphinx": {
   "timeout": 600
  },
  "toc": {
   "base_numbering": 1,
   "nav_menu": {},
   "number_sections": true,
   "sideBar": true,
   "skip_h1_title": false,
   "title_cell": "Table of Contents",
   "title_sidebar": "Contents",
   "toc_cell": false,
   "toc_position": {},
   "toc_section_display": true,
   "toc_window_display": false
  },
  "varInspector": {
   "cols": {
    "lenName": 16,
    "lenType": 16,
    "lenVar": 40
   },
   "kernels_config": {
    "python": {
     "delete_cmd_postfix": "",
     "delete_cmd_prefix": "del ",
     "library": "var_list.py",
     "varRefreshCmd": "print(var_dic_list())"
    },
    "r": {
     "delete_cmd_postfix": ") ",
     "delete_cmd_prefix": "rm(",
     "library": "var_list.r",
     "varRefreshCmd": "cat(var_dic_list()) "
    }
   },
   "types_to_exclude": [
    "module",
    "function",
    "builtin_function_or_method",
    "instance",
    "_Feature"
   ],
   "window_display": false
  }
 },
 "nbformat": 4,
 "nbformat_minor": 2
}
