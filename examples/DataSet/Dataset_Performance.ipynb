{
 "cells": [
  {
   "cell_type": "markdown",
   "metadata": {},
   "source": [
    "# DataSet Performance\n",
    "\n",
    "This notebook shows the trade-off between inserting data into a database row-by-row and as binary blobs. Inserting the data row-by-row means that we have direct access to all the data and may perform queries directly on the values of the data. On the other hand, as we shall see, this is much slower than inserting the data directly as binary blobs."
   ]
  },
  {
   "cell_type": "markdown",
   "metadata": {},
   "source": [
    "First, we choose a new location for the database to ensure that we don't add a bunch of benchmarking data to the default one."
   ]
  },
  {
   "cell_type": "code",
   "execution_count": 1,
   "metadata": {
    "execution": {
     "iopub.execute_input": "2020-10-23T08:10:14.496238Z",
     "iopub.status.busy": "2020-10-23T08:10:14.495723Z",
     "iopub.status.idle": "2020-10-23T08:10:15.421144Z",
     "shell.execute_reply": "2020-10-23T08:10:15.420463Z"
    }
   },
   "outputs": [
    {
     "name": "stdout",
     "output_type": "stream",
     "text": [
      "Logging hadn't been started.\n",
      "Activating auto-logging. Current session state plus future input saved.\n",
      "Filename       : /home/vsts/.qcodes/logs/command_history.log\n",
      "Mode           : append\n",
      "Output logging : True\n",
      "Raw input log  : False\n",
      "Timestamping   : True\n",
      "State          : active\n"
     ]
    },
    {
     "name": "stdout",
     "output_type": "stream",
     "text": [
      "Qcodes Logfile : /home/vsts/.qcodes/logs/201023-15341-qcodes.log\n"
     ]
    }
   ],
   "source": [
    "import os\n",
    "cwd = os.getcwd()\n",
    "import qcodes as qc\n",
    "qc.config[\"core\"][\"db_location\"] = os.path.join(cwd, 'testing.db')\n"
   ]
  },
  {
   "cell_type": "code",
   "execution_count": 2,
   "metadata": {
    "execution": {
     "iopub.execute_input": "2020-10-23T08:10:15.427974Z",
     "iopub.status.busy": "2020-10-23T08:10:15.427288Z",
     "iopub.status.idle": "2020-10-23T08:10:15.585990Z",
     "shell.execute_reply": "2020-10-23T08:10:15.585000Z"
    }
   },
   "outputs": [],
   "source": [
    "%matplotlib inline\n",
    "import time\n",
    "import matplotlib.pyplot as plt\n",
    "import numpy as np\n",
    "\n",
    "import qcodes as qc\n",
    "from qcodes.instrument.parameter import ManualParameter\n",
    "from qcodes.dataset.experiment_container import (Experiment,\n",
    "                                                 load_last_experiment,\n",
    "                                                 new_experiment)\n",
    "from qcodes.dataset.sqlite.database import initialise_database\n",
    "from qcodes import load_or_create_experiment\n",
    "from qcodes.dataset.measurements import Measurement"
   ]
  },
  {
   "cell_type": "code",
   "execution_count": 3,
   "metadata": {
    "execution": {
     "iopub.execute_input": "2020-10-23T08:10:15.589288Z",
     "iopub.status.busy": "2020-10-23T08:10:15.588803Z",
     "iopub.status.idle": "2020-10-23T08:10:15.689944Z",
     "shell.execute_reply": "2020-10-23T08:10:15.689555Z"
    }
   },
   "outputs": [
    {
     "name": "stdout",
     "output_type": "stream",
     "text": [
      "\r",
      "0it [00:00, ?it/s]"
     ]
    },
    {
     "name": "stdout",
     "output_type": "stream",
     "text": [
      "\r",
      "Upgrading database; v0 -> v1: : 0it [00:00, ?it/s]"
     ]
    },
    {
     "name": "stdout",
     "output_type": "stream",
     "text": [
      "\r",
      "Upgrading database; v0 -> v1: : 0it [00:00, ?it/s]"
     ]
    },
    {
     "name": "stdout",
     "output_type": "stream",
     "text": [
      "\n",
      "\r",
      "  0%|          | 0/1 [00:00<?, ?it/s]"
     ]
    },
    {
     "name": "stdout",
     "output_type": "stream",
     "text": [
      "\r",
      "Upgrading database; v1 -> v2:   0%|          | 0/1 [00:00<?, ?it/s]"
     ]
    },
    {
     "name": "stdout",
     "output_type": "stream",
     "text": [
      "\r",
      "Upgrading database; v1 -> v2: 100%|██████████| 1/1 [00:00<00:00, 398.66it/s]"
     ]
    },
    {
     "name": "stdout",
     "output_type": "stream",
     "text": [
      "\n",
      "\r",
      "0it [00:00, ?it/s]"
     ]
    },
    {
     "name": "stdout",
     "output_type": "stream",
     "text": [
      "\r",
      "Upgrading database; v2 -> v3: : 0it [00:00, ?it/s]"
     ]
    },
    {
     "name": "stdout",
     "output_type": "stream",
     "text": [
      "\r",
      "Upgrading database; v2 -> v3: : 0it [00:00, ?it/s]"
     ]
    },
    {
     "name": "stdout",
     "output_type": "stream",
     "text": [
      "\n",
      "\r",
      "0it [00:00, ?it/s]"
     ]
    },
    {
     "name": "stdout",
     "output_type": "stream",
     "text": [
      "\r",
      "Upgrading database; v3 -> v4: : 0it [00:00, ?it/s]"
     ]
    },
    {
     "name": "stdout",
     "output_type": "stream",
     "text": [
      "\r",
      "Upgrading database; v3 -> v4: : 0it [00:00, ?it/s]"
     ]
    },
    {
     "name": "stdout",
     "output_type": "stream",
     "text": [
      "\n",
      "\r",
      "  0%|          | 0/1 [00:00<?, ?it/s]"
     ]
    },
    {
     "name": "stdout",
     "output_type": "stream",
     "text": [
      "\r",
      "Upgrading database; v4 -> v5:   0%|          | 0/1 [00:00<?, ?it/s]"
     ]
    },
    {
     "name": "stdout",
     "output_type": "stream",
     "text": [
      "\r",
      "Upgrading database; v4 -> v5: 100%|██████████| 1/1 [00:00<00:00, 738.17it/s]"
     ]
    },
    {
     "name": "stdout",
     "output_type": "stream",
     "text": [
      "\n",
      "\r",
      "0it [00:00, ?it/s]"
     ]
    },
    {
     "name": "stdout",
     "output_type": "stream",
     "text": [
      "\r",
      "Upgrading database; v5 -> v6: : 0it [00:00, ?it/s]"
     ]
    },
    {
     "name": "stdout",
     "output_type": "stream",
     "text": [
      "\r",
      "Upgrading database; v5 -> v6: : 0it [00:00, ?it/s]"
     ]
    },
    {
     "name": "stdout",
     "output_type": "stream",
     "text": [
      "\n",
      "\r",
      "  0%|          | 0/1 [00:00<?, ?it/s]"
     ]
    },
    {
     "name": "stdout",
     "output_type": "stream",
     "text": [
      "\r",
      "Upgrading database; v6 -> v7:   0%|          | 0/1 [00:00<?, ?it/s]"
     ]
    },
    {
     "name": "stdout",
     "output_type": "stream",
     "text": [
      "\r",
      "Upgrading database; v6 -> v7: 100%|██████████| 1/1 [00:00<00:00, 314.70it/s]"
     ]
    },
    {
     "name": "stdout",
     "output_type": "stream",
     "text": [
      "\n",
      "\r",
      "  0%|          | 0/1 [00:00<?, ?it/s]"
     ]
    },
    {
     "name": "stdout",
     "output_type": "stream",
     "text": [
      "\r",
      "Upgrading database; v7 -> v8:   0%|          | 0/1 [00:00<?, ?it/s]"
     ]
    },
    {
     "name": "stdout",
     "output_type": "stream",
     "text": [
      "\r",
      "Upgrading database; v7 -> v8: 100%|██████████| 1/1 [00:00<00:00, 458.90it/s]"
     ]
    },
    {
     "name": "stdout",
     "output_type": "stream",
     "text": [
      "\n",
      "\r",
      "  0%|          | 0/1 [00:00<?, ?it/s]"
     ]
    },
    {
     "name": "stdout",
     "output_type": "stream",
     "text": [
      "\r",
      "Upgrading database; v8 -> v9:   0%|          | 0/1 [00:00<?, ?it/s]"
     ]
    },
    {
     "name": "stdout",
     "output_type": "stream",
     "text": [
      "\r",
      "Upgrading database; v8 -> v9: 100%|██████████| 1/1 [00:00<00:00, 557.01it/s]"
     ]
    },
    {
     "name": "stdout",
     "output_type": "stream",
     "text": [
      "\n"
     ]
    }
   ],
   "source": [
    "initialise_database()\n",
    "exp = load_or_create_experiment(experiment_name='tutorial_exp', sample_name=\"no sample\")"
   ]
  },
  {
   "cell_type": "markdown",
   "metadata": {},
   "source": [
    "Here, we define a simple function to benchmark the time it takes to insert n points with either numeric or array data type.\n",
    "We will compare both the time used to call ``add_result`` and the time used for the full measurement."
   ]
  },
  {
   "cell_type": "code",
   "execution_count": 4,
   "metadata": {
    "execution": {
     "iopub.execute_input": "2020-10-23T08:10:15.696602Z",
     "iopub.status.busy": "2020-10-23T08:10:15.696160Z",
     "iopub.status.idle": "2020-10-23T08:10:15.699279Z",
     "shell.execute_reply": "2020-10-23T08:10:15.699574Z"
    }
   },
   "outputs": [],
   "source": [
    "def insert_data(paramtype, npoints, nreps=1):\n",
    "\n",
    "    meas = Measurement(exp=exp)\n",
    "\n",
    "    x1 = ManualParameter('x1')\n",
    "    x2 = ManualParameter('x2')\n",
    "    x3 = ManualParameter('x3')\n",
    "    y1 = ManualParameter('y1')\n",
    "    y2 = ManualParameter('y2')\n",
    "\n",
    "    meas.register_parameter(x1, paramtype=paramtype)\n",
    "    meas.register_parameter(x2, paramtype=paramtype)\n",
    "    meas.register_parameter(x3, paramtype=paramtype)\n",
    "    meas.register_parameter(y1, setpoints=[x1, x2, x3],\n",
    "                            paramtype=paramtype)\n",
    "    meas.register_parameter(y2, setpoints=[x1, x2, x3],\n",
    "                            paramtype=paramtype)\n",
    "    start = time.perf_counter()\n",
    "    with meas.run() as datasaver:\n",
    "        start_adding = time.perf_counter()\n",
    "        for i in range(nreps):\n",
    "            datasaver.add_result((x1, np.random.rand(npoints)),\n",
    "                                 (x2, np.random.rand(npoints)),\n",
    "                                 (x3, np.random.rand(npoints)),\n",
    "                                 (y1, np.random.rand(npoints)),\n",
    "                                 (y2, np.random.rand(npoints)))\n",
    "        stop_adding = time.perf_counter()\n",
    "        run_id = datasaver.run_id\n",
    "    stop = time.perf_counter()\n",
    "    tot_time = stop - start\n",
    "    add_time = stop_adding - start_adding\n",
    "    return tot_time, add_time, run_id"
   ]
  },
  {
   "cell_type": "markdown",
   "metadata": {},
   "source": [
    "## Comparison between numeric/array data and binary blob"
   ]
  },
  {
   "cell_type": "markdown",
   "metadata": {},
   "source": [
    "### Case1: Short experiment time"
   ]
  },
  {
   "cell_type": "code",
   "execution_count": 5,
   "metadata": {
    "execution": {
     "iopub.execute_input": "2020-10-23T08:10:15.705441Z",
     "iopub.status.busy": "2020-10-23T08:10:15.704311Z",
     "iopub.status.idle": "2020-10-23T08:10:16.443174Z",
     "shell.execute_reply": "2020-10-23T08:10:16.442681Z"
    }
   },
   "outputs": [
    {
     "name": "stdout",
     "output_type": "stream",
     "text": [
      "Starting experimental run with id: 1. \n",
      "Starting experimental run with id: 2. \n",
      "Starting experimental run with id: 3. \n",
      "Starting experimental run with id: 4. \n",
      "Starting experimental run with id: 5. \n"
     ]
    },
    {
     "name": "stdout",
     "output_type": "stream",
     "text": [
      "Starting experimental run with id: 6. \n"
     ]
    },
    {
     "name": "stdout",
     "output_type": "stream",
     "text": [
      "Starting experimental run with id: 7. \n"
     ]
    },
    {
     "name": "stdout",
     "output_type": "stream",
     "text": [
      "Starting experimental run with id: 8. \n",
      "Starting experimental run with id: 9. \n"
     ]
    },
    {
     "name": "stdout",
     "output_type": "stream",
     "text": [
      "Starting experimental run with id: 10. \n"
     ]
    },
    {
     "name": "stdout",
     "output_type": "stream",
     "text": [
      "Starting experimental run with id: 11. \n"
     ]
    },
    {
     "name": "stdout",
     "output_type": "stream",
     "text": [
      "Starting experimental run with id: 12. \n",
      "Starting experimental run with id: 13. \n"
     ]
    },
    {
     "name": "stdout",
     "output_type": "stream",
     "text": [
      "Starting experimental run with id: 14. \n"
     ]
    }
   ],
   "source": [
    "sizes = [1,500,1000,2000,3000,4000,5000]\n",
    "t_numeric = []\n",
    "t_numeric_add = []\n",
    "t_array = []\n",
    "t_array_add = []\n",
    "for size in sizes:\n",
    "    tn, tna, run_id_n =  insert_data('numeric', size)\n",
    "    t_numeric.append(tn)\n",
    "    t_numeric_add.append(tna)\n",
    "\n",
    "    ta, taa, run_id_a =  insert_data('array', size)\n",
    "    t_array.append(ta)\n",
    "    t_array_add.append(taa)"
   ]
  },
  {
   "cell_type": "code",
   "execution_count": 6,
   "metadata": {
    "execution": {
     "iopub.execute_input": "2020-10-23T08:10:16.461222Z",
     "iopub.status.busy": "2020-10-23T08:10:16.458043Z",
     "iopub.status.idle": "2020-10-23T08:10:16.625091Z",
     "shell.execute_reply": "2020-10-23T08:10:16.625882Z"
    }
   },
   "outputs": [
    {
     "data": {
      "image/png": "[encoded data removed]",
      "text/plain": [
       "<Figure size 432x288 with 1 Axes>"
      ]
     },
     "metadata": {
      "needs_background": "light"
     },
     "output_type": "display_data"
    }
   ],
   "source": [
    "fig, ax = plt.subplots(1,1)\n",
    "ax.plot(sizes, t_numeric, 'o-', label='Inserting row-by-row')\n",
    "ax.plot(sizes, t_numeric_add, 'o-', label='Inserting row-by-row: add_result only')\n",
    "ax.plot(sizes, t_array, 'd-', label='Inserting as binary blob')\n",
    "ax.plot(sizes, t_array_add, 'd-', label='Inserting as binary blob: add_result only')\n",
    "ax.legend()\n",
    "ax.set_xlabel('Array length')\n",
    "ax.set_ylabel('Time (s)')\n",
    "fig.tight_layout()"
   ]
  },
  {
   "cell_type": "markdown",
   "metadata": {},
   "source": [
    "As shown in the latter figure, the time to setup and and close the experiment is approximately 0.4 sec. In case of small array sizes, the difference between inserting values of data as arrays and inserting them row-by-row is relatively unimportant. At larger array sizes, i.e. above 10000 points, the cost of writing data as individual datapoints starts to become important.\n"
   ]
  },
  {
   "cell_type": "markdown",
   "metadata": {},
   "source": [
    "### Case2: Long experiment time "
   ]
  },
  {
   "cell_type": "code",
   "execution_count": 7,
   "metadata": {
    "execution": {
     "iopub.execute_input": "2020-10-23T08:10:16.628957Z",
     "iopub.status.busy": "2020-10-23T08:10:16.628157Z",
     "iopub.status.idle": "2020-10-23T08:11:08.946166Z",
     "shell.execute_reply": "2020-10-23T08:11:08.945058Z"
    }
   },
   "outputs": [
    {
     "name": "stdout",
     "output_type": "stream",
     "text": [
      "Starting experimental run with id: 15. \n",
      "Starting experimental run with id: 16. \n",
      "Starting experimental run with id: 17. \n"
     ]
    },
    {
     "name": "stdout",
     "output_type": "stream",
     "text": [
      "Starting experimental run with id: 18. \n",
      "Starting experimental run with id: 19. \n"
     ]
    },
    {
     "name": "stdout",
     "output_type": "stream",
     "text": [
      "Starting experimental run with id: 20. \n"
     ]
    },
    {
     "name": "stdout",
     "output_type": "stream",
     "text": [
      "Starting experimental run with id: 21. \n"
     ]
    },
    {
     "name": "stdout",
     "output_type": "stream",
     "text": [
      "Starting experimental run with id: 22. \n"
     ]
    },
    {
     "name": "stdout",
     "output_type": "stream",
     "text": [
      "Starting experimental run with id: 23. \n"
     ]
    },
    {
     "name": "stdout",
     "output_type": "stream",
     "text": [
      "Starting experimental run with id: 24. \n"
     ]
    },
    {
     "name": "stdout",
     "output_type": "stream",
     "text": [
      "Starting experimental run with id: 25. \n"
     ]
    },
    {
     "name": "stdout",
     "output_type": "stream",
     "text": [
      "Starting experimental run with id: 26. \n"
     ]
    },
    {
     "name": "stdout",
     "output_type": "stream",
     "text": [
      "Starting experimental run with id: 27. \n"
     ]
    },
    {
     "name": "stdout",
     "output_type": "stream",
     "text": [
      "Starting experimental run with id: 28. \n"
     ]
    }
   ],
   "source": [
    "sizes = [1,500,1000,2000,3000,4000,5000]\n",
    "nreps = 100\n",
    "t_numeric = []\n",
    "t_numeric_add = []\n",
    "t_numeric_run_ids = []\n",
    "t_array = []\n",
    "t_array_add = []\n",
    "t_array_run_ids = []\n",
    "for size in sizes:\n",
    "    tn, tna, run_id_n =  insert_data('numeric', size, nreps=nreps)\n",
    "    t_numeric.append(tn)\n",
    "    t_numeric_add.append(tna)\n",
    "    t_numeric_run_ids.append(run_id_n)\n",
    "\n",
    "    ta, taa, run_id_a =  insert_data('array', size, nreps=nreps)\n",
    "    t_array.append(ta)\n",
    "    t_array_add.append(taa)\n",
    "    t_array_run_ids.append(run_id_a)"
   ]
  },
  {
   "cell_type": "code",
   "execution_count": 8,
   "metadata": {
    "execution": {
     "iopub.execute_input": "2020-10-23T08:11:08.973016Z",
     "iopub.status.busy": "2020-10-23T08:11:08.949672Z",
     "iopub.status.idle": "2020-10-23T08:11:09.129154Z",
     "shell.execute_reply": "2020-10-23T08:11:09.129615Z"
    },
    "scrolled": true
   },
   "outputs": [
    {
     "data": {
      "image/png": "[encoded data removed]",
      "text/plain": [
       "<Figure size 432x288 with 1 Axes>"
      ]
     },
     "metadata": {
      "needs_background": "light"
     },
     "output_type": "display_data"
    }
   ],
   "source": [
    "fig, ax = plt.subplots(1,1)\n",
    "ax.plot(sizes, t_numeric, 'o-', label='Inserting row-by-row')\n",
    "ax.plot(sizes, t_numeric_add, 'o-', label='Inserting row-by-row: add_result only')\n",
    "ax.plot(sizes, t_array, 'd-', label='Inserting as binary blob')\n",
    "ax.plot(sizes, t_array_add, 'd-', label='Inserting as binary blob: add_result only')\n",
    "ax.legend()\n",
    "ax.set_xlabel('Array length')\n",
    "ax.set_ylabel('Time (s)')\n",
    "fig.tight_layout()"
   ]
  },
  {
   "cell_type": "markdown",
   "metadata": {},
   "source": [
    "However, as we increase the length of the experiment, as seen here by repeating the insertion 100 times, we see a big difference between inserting values of the data row-by-row and inserting it as a binary blob."
   ]
  },
  {
   "cell_type": "markdown",
   "metadata": {},
   "source": [
    "## Loading the data "
   ]
  },
  {
   "cell_type": "code",
   "execution_count": 9,
   "metadata": {
    "execution": {
     "iopub.execute_input": "2020-10-23T08:11:09.133772Z",
     "iopub.status.busy": "2020-10-23T08:11:09.132657Z",
     "iopub.status.idle": "2020-10-23T08:11:09.136100Z",
     "shell.execute_reply": "2020-10-23T08:11:09.136493Z"
    }
   },
   "outputs": [],
   "source": [
    "from qcodes.dataset.data_set import load_by_id\n",
    "from qcodes.dataset.data_export import get_data_by_id"
   ]
  },
  {
   "cell_type": "markdown",
   "metadata": {},
   "source": [
    "As usual you can load the data by using the ``load_by_id`` function but you will notice that the different storage methods\n",
    "are reflected in shape of the data as it is retrieved. "
   ]
  },
  {
   "cell_type": "code",
   "execution_count": 10,
   "metadata": {
    "execution": {
     "iopub.execute_input": "2020-10-23T08:11:09.140044Z",
     "iopub.status.busy": "2020-10-23T08:11:09.139546Z",
     "iopub.status.idle": "2020-10-23T08:11:09.142837Z",
     "shell.execute_reply": "2020-10-23T08:11:09.142288Z"
    }
   },
   "outputs": [],
   "source": [
    "run_id_n = t_numeric_run_ids[0]\n",
    "run_id_a = t_array_run_ids[0]"
   ]
  },
  {
   "cell_type": "code",
   "execution_count": 11,
   "metadata": {
    "execution": {
     "iopub.execute_input": "2020-10-23T08:11:09.145570Z",
     "iopub.status.busy": "2020-10-23T08:11:09.145154Z",
     "iopub.status.idle": "2020-10-23T08:11:09.152507Z",
     "shell.execute_reply": "2020-10-23T08:11:09.152120Z"
    },
    "scrolled": true
   },
   "outputs": [
    {
     "data": {
      "text/plain": [
       "{'x1': {'x1': array([0.61797881, 0.61797881, 0.21499649, 0.21499649, 0.67761478,\n",
       "         0.67761478, 0.88838859, 0.88838859, 0.51451417, 0.51451417,\n",
       "         0.69204141, 0.69204141, 0.23119734, 0.23119734, 0.17404629,\n",
       "         0.17404629, 0.68377076, 0.68377076, 0.4009942 , 0.4009942 ,\n",
       "         0.56716549, 0.56716549, 0.84041314, 0.84041314, 0.57520709,\n",
       "         0.57520709, 0.06375149, 0.06375149, 0.2819809 , 0.2819809 ,\n",
       "         0.39800867, 0.39800867, 0.57359155, 0.57359155, 0.02801705,\n",
       "         0.02801705, 0.45153137, 0.45153137, 0.98577166, 0.98577166,\n",
       "         0.2984722 , 0.2984722 , 0.87703072, 0.87703072, 0.31916057,\n",
       "         0.31916057, 0.90447943, 0.90447943, 0.92751383, 0.92751383,\n",
       "         0.89616365, 0.89616365, 0.85857643, 0.85857643, 0.44235437,\n",
       "         0.44235437, 0.20041325, 0.20041325, 0.30360227, 0.30360227,\n",
       "         0.8861007 , 0.8861007 , 0.7183006 , 0.7183006 , 0.21391774,\n",
       "         0.21391774, 0.49814666, 0.49814666, 0.85529102, 0.85529102,\n",
       "         0.67502695, 0.67502695, 0.96297022, 0.96297022, 0.93169297,\n",
       "         0.93169297, 0.4524433 , 0.4524433 , 0.10525235, 0.10525235,\n",
       "         0.82408771, 0.82408771, 0.76445756, 0.76445756, 0.94974047,\n",
       "         0.94974047, 0.30192844, 0.30192844, 0.44782868, 0.44782868,\n",
       "         0.95487945, 0.95487945, 0.37392773, 0.37392773, 0.45960424,\n",
       "         0.45960424, 0.99001552, 0.99001552, 0.00112908, 0.00112908,\n",
       "         0.07084757, 0.07084757, 0.91963661, 0.91963661, 0.94283776,\n",
       "         0.94283776, 0.13284544, 0.13284544, 0.45143967, 0.45143967,\n",
       "         0.83181163, 0.83181163, 0.78643297, 0.78643297, 0.70353882,\n",
       "         0.70353882, 0.51436289, 0.51436289, 0.41312064, 0.41312064,\n",
       "         0.17118279, 0.17118279, 0.65529082, 0.65529082, 0.23503074,\n",
       "         0.23503074, 0.21862687, 0.21862687, 0.04577471, 0.04577471,\n",
       "         0.47440822, 0.47440822, 0.70107696, 0.70107696, 0.85987256,\n",
       "         0.85987256, 0.46698891, 0.46698891, 0.52825151, 0.52825151,\n",
       "         0.86085791, 0.86085791, 0.87907075, 0.87907075, 0.35014732,\n",
       "         0.35014732, 0.19350152, 0.19350152, 0.46338972, 0.46338972,\n",
       "         0.20608993, 0.20608993, 0.83593391, 0.83593391, 0.32760318,\n",
       "         0.32760318, 0.21321296, 0.21321296, 0.77455944, 0.77455944,\n",
       "         0.22669686, 0.22669686, 0.90675361, 0.90675361, 0.39735486,\n",
       "         0.39735486, 0.28093723, 0.28093723, 0.11652756, 0.11652756,\n",
       "         0.44414402, 0.44414402, 0.94232326, 0.94232326, 0.42330834,\n",
       "         0.42330834, 0.94900548, 0.94900548, 0.23545841, 0.23545841,\n",
       "         0.7986689 , 0.7986689 , 0.55934507, 0.55934507, 0.67324581,\n",
       "         0.67324581, 0.04507124, 0.04507124, 0.86502532, 0.86502532,\n",
       "         0.65710255, 0.65710255, 0.26916409, 0.26916409, 0.93343925,\n",
       "         0.93343925, 0.91375819, 0.91375819, 0.75419965, 0.75419965])}}"
      ]
     },
     "execution_count": 1,
     "metadata": {},
     "output_type": "execute_result"
    }
   ],
   "source": [
    "ds = load_by_id(run_id_n)\n",
    "ds.get_parameter_data('x1')"
   ]
  },
  {
   "cell_type": "markdown",
   "metadata": {},
   "source": [
    "And a dataset stored as binary arrays"
   ]
  },
  {
   "cell_type": "code",
   "execution_count": 12,
   "metadata": {
    "execution": {
     "iopub.execute_input": "2020-10-23T08:11:09.154985Z",
     "iopub.status.busy": "2020-10-23T08:11:09.154490Z",
     "iopub.status.idle": "2020-10-23T08:11:09.204881Z",
     "shell.execute_reply": "2020-10-23T08:11:09.204338Z"
    },
    "scrolled": true
   },
   "outputs": [
    {
     "data": {
      "text/plain": [
       "{'x1': {'x1': array([[5.21587559e-01],\n",
       "         [5.21587559e-01],\n",
       "         [2.44898751e-01],\n",
       "         [2.44898751e-01],\n",
       "         [8.52316913e-01],\n",
       "         [8.52316913e-01],\n",
       "         [4.57133030e-01],\n",
       "         [4.57133030e-01],\n",
       "         [8.22939667e-02],\n",
       "         [8.22939667e-02],\n",
       "         [4.46734640e-01],\n",
       "         [4.46734640e-01],\n",
       "         [2.50420971e-03],\n",
       "         [2.50420971e-03],\n",
       "         [9.22578909e-01],\n",
       "         [9.22578909e-01],\n",
       "         [4.76161429e-02],\n",
       "         [4.76161429e-02],\n",
       "         [6.13344366e-01],\n",
       "         [6.13344366e-01],\n",
       "         [2.75245014e-01],\n",
       "         [2.75245014e-01],\n",
       "         [5.22939432e-02],\n",
       "         [5.22939432e-02],\n",
       "         [9.87717189e-01],\n",
       "         [9.87717189e-01],\n",
       "         [6.79058504e-01],\n",
       "         [6.79058504e-01],\n",
       "         [6.01698393e-01],\n",
       "         [6.01698393e-01],\n",
       "         [7.11477172e-01],\n",
       "         [7.11477172e-01],\n",
       "         [1.81413210e-01],\n",
       "         [1.81413210e-01],\n",
       "         [2.07057712e-01],\n",
       "         [2.07057712e-01],\n",
       "         [7.94570725e-01],\n",
       "         [7.94570725e-01],\n",
       "         [5.57154580e-01],\n",
       "         [5.57154580e-01],\n",
       "         [8.82399256e-01],\n",
       "         [8.82399256e-01],\n",
       "         [4.42537667e-01],\n",
       "         [4.42537667e-01],\n",
       "         [2.07130771e-01],\n",
       "         [2.07130771e-01],\n",
       "         [4.17437272e-01],\n",
       "         [4.17437272e-01],\n",
       "         [7.08168807e-01],\n",
       "         [7.08168807e-01],\n",
       "         [2.75654280e-01],\n",
       "         [2.75654280e-01],\n",
       "         [4.28455931e-01],\n",
       "         [4.28455931e-01],\n",
       "         [3.19399985e-01],\n",
       "         [3.19399985e-01],\n",
       "         [9.72953863e-01],\n",
       "         [9.72953863e-01],\n",
       "         [9.73084945e-01],\n",
       "         [9.73084945e-01],\n",
       "         [8.36122764e-01],\n",
       "         [8.36122764e-01],\n",
       "         [6.71098560e-02],\n",
       "         [6.71098560e-02],\n",
       "         [3.84123542e-01],\n",
       "         [3.84123542e-01],\n",
       "         [6.64710044e-01],\n",
       "         [6.64710044e-01],\n",
       "         [6.91967069e-01],\n",
       "         [6.91967069e-01],\n",
       "         [2.62194736e-01],\n",
       "         [2.62194736e-01],\n",
       "         [9.64117850e-01],\n",
       "         [9.64117850e-01],\n",
       "         [5.66608095e-01],\n",
       "         [5.66608095e-01],\n",
       "         [7.66798515e-01],\n",
       "         [7.66798515e-01],\n",
       "         [1.08250692e-04],\n",
       "         [1.08250692e-04],\n",
       "         [7.03816242e-02],\n",
       "         [7.03816242e-02],\n",
       "         [5.46202286e-01],\n",
       "         [5.46202286e-01],\n",
       "         [4.30720729e-01],\n",
       "         [4.30720729e-01],\n",
       "         [2.16364905e-01],\n",
       "         [2.16364905e-01],\n",
       "         [6.02001916e-01],\n",
       "         [6.02001916e-01],\n",
       "         [4.24339542e-01],\n",
       "         [4.24339542e-01],\n",
       "         [7.52447594e-01],\n",
       "         [7.52447594e-01],\n",
       "         [4.79003498e-01],\n",
       "         [4.79003498e-01],\n",
       "         [5.20712043e-01],\n",
       "         [5.20712043e-01],\n",
       "         [7.02021944e-01],\n",
       "         [7.02021944e-01],\n",
       "         [1.35842277e-01],\n",
       "         [1.35842277e-01],\n",
       "         [8.13837294e-01],\n",
       "         [8.13837294e-01],\n",
       "         [4.02524446e-01],\n",
       "         [4.02524446e-01],\n",
       "         [9.15582230e-01],\n",
       "         [9.15582230e-01],\n",
       "         [8.95497241e-01],\n",
       "         [8.95497241e-01],\n",
       "         [5.35208669e-01],\n",
       "         [5.35208669e-01],\n",
       "         [4.39502705e-01],\n",
       "         [4.39502705e-01],\n",
       "         [3.07780335e-01],\n",
       "         [3.07780335e-01],\n",
       "         [2.99415762e-01],\n",
       "         [2.99415762e-01],\n",
       "         [5.56519755e-01],\n",
       "         [5.56519755e-01],\n",
       "         [2.51115708e-01],\n",
       "         [2.51115708e-01],\n",
       "         [6.16372297e-01],\n",
       "         [6.16372297e-01],\n",
       "         [4.70107631e-01],\n",
       "         [4.70107631e-01],\n",
       "         [6.60202255e-01],\n",
       "         [6.60202255e-01],\n",
       "         [7.57842300e-01],\n",
       "         [7.57842300e-01],\n",
       "         [7.92500441e-01],\n",
       "         [7.92500441e-01],\n",
       "         [2.35913943e-01],\n",
       "         [2.35913943e-01],\n",
       "         [3.87864816e-01],\n",
       "         [3.87864816e-01],\n",
       "         [6.27171015e-01],\n",
       "         [6.27171015e-01],\n",
       "         [6.87403026e-01],\n",
       "         [6.87403026e-01],\n",
       "         [2.40072298e-01],\n",
       "         [2.40072298e-01],\n",
       "         [4.05143705e-01],\n",
       "         [4.05143705e-01],\n",
       "         [6.62928106e-01],\n",
       "         [6.62928106e-01],\n",
       "         [4.46437407e-01],\n",
       "         [4.46437407e-01],\n",
       "         [4.54924013e-01],\n",
       "         [4.54924013e-01],\n",
       "         [1.02361716e-01],\n",
       "         [1.02361716e-01],\n",
       "         [6.31790482e-01],\n",
       "         [6.31790482e-01],\n",
       "         [4.48958644e-01],\n",
       "         [4.48958644e-01],\n",
       "         [3.24988575e-01],\n",
       "         [3.24988575e-01],\n",
       "         [5.63101079e-02],\n",
       "         [5.63101079e-02],\n",
       "         [4.00375641e-01],\n",
       "         [4.00375641e-01],\n",
       "         [7.64023322e-01],\n",
       "         [7.64023322e-01],\n",
       "         [3.16444691e-01],\n",
       "         [3.16444691e-01],\n",
       "         [7.38884349e-01],\n",
       "         [7.38884349e-01],\n",
       "         [1.69435731e-02],\n",
       "         [1.69435731e-02],\n",
       "         [8.17457241e-01],\n",
       "         [8.17457241e-01],\n",
       "         [1.83273886e-01],\n",
       "         [1.83273886e-01],\n",
       "         [6.89960883e-01],\n",
       "         [6.89960883e-01],\n",
       "         [2.66740522e-02],\n",
       "         [2.66740522e-02],\n",
       "         [7.21067466e-01],\n",
       "         [7.21067466e-01],\n",
       "         [8.39354166e-01],\n",
       "         [8.39354166e-01],\n",
       "         [9.05494190e-01],\n",
       "         [9.05494190e-01],\n",
       "         [3.76444245e-01],\n",
       "         [3.76444245e-01],\n",
       "         [8.18467577e-01],\n",
       "         [8.18467577e-01],\n",
       "         [2.39819340e-01],\n",
       "         [2.39819340e-01],\n",
       "         [1.16150246e-01],\n",
       "         [1.16150246e-01],\n",
       "         [3.86862997e-02],\n",
       "         [3.86862997e-02],\n",
       "         [3.04686148e-01],\n",
       "         [3.04686148e-01],\n",
       "         [1.89498586e-01],\n",
       "         [1.89498586e-01],\n",
       "         [1.11282737e-01],\n",
       "         [1.11282737e-01]])}}"
      ]
     },
     "execution_count": 1,
     "metadata": {},
     "output_type": "execute_result"
    }
   ],
   "source": [
    "ds = load_by_id(run_id_a)\n",
    "ds.get_parameter_data('x1')"
   ]
  },
  {
   "cell_type": "code",
   "execution_count": null,
   "metadata": {},
   "outputs": [],
   "source": []
  }
 ],
 "metadata": {
  "kernelspec": {
   "display_name": "Python 3",
   "language": "python",
   "name": "python3"
  },
  "language_info": {
   "codemirror_mode": {
    "name": "ipython",
    "version": 3
   },
   "file_extension": ".py",
   "mimetype": "text/x-python",
   "name": "python",
   "nbconvert_exporter": "python",
   "pygments_lexer": "ipython3",
   "version": "3.7.7"
  },
  "nbsphinx": {
   "timeout": 600
  },
  "toc": {
   "base_numbering": 1,
   "nav_menu": {},
   "number_sections": true,
   "sideBar": true,
   "skip_h1_title": false,
   "title_cell": "Table of Contents",
   "title_sidebar": "Contents",
   "toc_cell": false,
   "toc_position": {},
   "toc_section_display": true,
   "toc_window_display": false
  },
  "varInspector": {
   "cols": {
    "lenName": 16,
    "lenType": 16,
    "lenVar": 40
   },
   "kernels_config": {
    "python": {
     "delete_cmd_postfix": "",
     "delete_cmd_prefix": "del ",
     "library": "var_list.py",
     "varRefreshCmd": "print(var_dic_list())"
    },
    "r": {
     "delete_cmd_postfix": ") ",
     "delete_cmd_prefix": "rm(",
     "library": "var_list.r",
     "varRefreshCmd": "cat(var_dic_list()) "
    }
   },
   "types_to_exclude": [
    "module",
    "function",
    "builtin_function_or_method",
    "instance",
    "_Feature"
   ],
   "window_display": false
  }
 },
 "nbformat": 4,
 "nbformat_minor": 2
}
