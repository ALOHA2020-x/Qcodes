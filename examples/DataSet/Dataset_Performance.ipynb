{
 "cells": [
  {
   "cell_type": "markdown",
   "metadata": {},
   "source": [
    "# DataSet Performance\n",
    "\n",
    "This notebook shows the trade-off between inserting data into a database row-by-row and as binary blobs. Inserting the data row-by-row means that we have direct access to all the data and may perform queries directly on the values of the data. On the other hand, as we shall see, this is much slower than inserting the data directly as binary blobs."
   ]
  },
  {
   "cell_type": "markdown",
   "metadata": {},
   "source": [
    "First, we choose a new location for the database to ensure that we don't add a bunch of benchmarking data to the default one."
   ]
  },
  {
   "cell_type": "code",
   "execution_count": 1,
   "metadata": {
    "execution": {
     "iopub.execute_input": "2021-03-29T09:18:22.957708Z",
     "iopub.status.busy": "2021-03-29T09:18:22.957154Z",
     "iopub.status.idle": "2021-03-29T09:18:23.938456Z",
     "shell.execute_reply": "2021-03-29T09:18:23.936956Z"
    }
   },
   "outputs": [
    {
     "name": "stdout",
     "output_type": "stream",
     "text": [
      "Logging hadn't been started.\n",
      "Activating auto-logging. Current session state plus future input saved.\n",
      "Filename       : /home/runner/.qcodes/logs/command_history.log\n",
      "Mode           : append\n",
      "Output logging : True\n",
      "Raw input log  : False\n",
      "Timestamping   : True\n",
      "State          : active\n"
     ]
    },
    {
     "name": "stdout",
     "output_type": "stream",
     "text": [
      "Qcodes Logfile : /home/runner/.qcodes/logs/210329-4451-qcodes.log\n"
     ]
    }
   ],
   "source": [
    "import os\n",
    "cwd = os.getcwd()\n",
    "import qcodes as qc\n",
    "qc.config[\"core\"][\"db_location\"] = os.path.join(cwd, 'testing.db')\n"
   ]
  },
  {
   "cell_type": "code",
   "execution_count": 2,
   "metadata": {
    "execution": {
     "iopub.execute_input": "2021-03-29T09:18:23.945600Z",
     "iopub.status.busy": "2021-03-29T09:18:23.945012Z",
     "iopub.status.idle": "2021-03-29T09:18:24.174159Z",
     "shell.execute_reply": "2021-03-29T09:18:24.174954Z"
    }
   },
   "outputs": [],
   "source": [
    "%matplotlib inline\n",
    "import time\n",
    "import matplotlib.pyplot as plt\n",
    "import numpy as np\n",
    "\n",
    "import qcodes as qc\n",
    "from qcodes.instrument.parameter import ManualParameter\n",
    "from qcodes.dataset.experiment_container import (Experiment,\n",
    "                                                 load_last_experiment,\n",
    "                                                 new_experiment)\n",
    "from qcodes.dataset.sqlite.database import initialise_database\n",
    "from qcodes import load_or_create_experiment\n",
    "from qcodes.dataset.measurements import Measurement"
   ]
  },
  {
   "cell_type": "code",
   "execution_count": 3,
   "metadata": {
    "execution": {
     "iopub.execute_input": "2021-03-29T09:18:24.179129Z",
     "iopub.status.busy": "2021-03-29T09:18:24.178567Z",
     "iopub.status.idle": "2021-03-29T09:18:24.248406Z",
     "shell.execute_reply": "2021-03-29T09:18:24.247864Z"
    }
   },
   "outputs": [
    {
     "name": "stdout",
     "output_type": "stream",
     "text": [
      "\r",
      "0it [00:00, ?it/s]"
     ]
    },
    {
     "name": "stdout",
     "output_type": "stream",
     "text": [
      "\r",
      "Upgrading database; v0 -> v1: : 0it [00:00, ?it/s]"
     ]
    },
    {
     "name": "stdout",
     "output_type": "stream",
     "text": [
      "\r",
      "Upgrading database; v0 -> v1: : 0it [00:00, ?it/s]"
     ]
    },
    {
     "name": "stdout",
     "output_type": "stream",
     "text": [
      "\n",
      "\r",
      "  0%|          | 0/1 [00:00<?, ?it/s]"
     ]
    },
    {
     "name": "stdout",
     "output_type": "stream",
     "text": [
      "\r",
      "Upgrading database; v1 -> v2:   0%|          | 0/1 [00:00<?, ?it/s]"
     ]
    },
    {
     "name": "stdout",
     "output_type": "stream",
     "text": [
      "\r",
      "Upgrading database; v1 -> v2: 100%|██████████| 1/1 [00:00<00:00, 506.68it/s]"
     ]
    },
    {
     "name": "stdout",
     "output_type": "stream",
     "text": [
      "\n",
      "\r",
      "0it [00:00, ?it/s]"
     ]
    },
    {
     "name": "stdout",
     "output_type": "stream",
     "text": [
      "\r",
      "Upgrading database; v2 -> v3: : 0it [00:00, ?it/s]"
     ]
    },
    {
     "name": "stdout",
     "output_type": "stream",
     "text": [
      "\r",
      "Upgrading database; v2 -> v3: : 0it [00:00, ?it/s]"
     ]
    },
    {
     "name": "stdout",
     "output_type": "stream",
     "text": [
      "\n",
      "\r",
      "0it [00:00, ?it/s]"
     ]
    },
    {
     "name": "stdout",
     "output_type": "stream",
     "text": [
      "\r",
      "Upgrading database; v3 -> v4: : 0it [00:00, ?it/s]"
     ]
    },
    {
     "name": "stdout",
     "output_type": "stream",
     "text": [
      "\r",
      "Upgrading database; v3 -> v4: : 0it [00:00, ?it/s]"
     ]
    },
    {
     "name": "stdout",
     "output_type": "stream",
     "text": [
      "\n",
      "\r",
      "  0%|          | 0/1 [00:00<?, ?it/s]"
     ]
    },
    {
     "name": "stdout",
     "output_type": "stream",
     "text": [
      "\r",
      "Upgrading database; v4 -> v5:   0%|          | 0/1 [00:00<?, ?it/s]"
     ]
    },
    {
     "name": "stdout",
     "output_type": "stream",
     "text": [
      "\r",
      "Upgrading database; v4 -> v5: 100%|██████████| 1/1 [00:00<00:00, 1052.26it/s]"
     ]
    },
    {
     "name": "stdout",
     "output_type": "stream",
     "text": [
      "\n",
      "\r",
      "0it [00:00, ?it/s]"
     ]
    },
    {
     "name": "stdout",
     "output_type": "stream",
     "text": [
      "\r",
      "Upgrading database; v5 -> v6: : 0it [00:00, ?it/s]"
     ]
    },
    {
     "name": "stdout",
     "output_type": "stream",
     "text": [
      "\r",
      "Upgrading database; v5 -> v6: : 0it [00:00, ?it/s]"
     ]
    },
    {
     "name": "stdout",
     "output_type": "stream",
     "text": [
      "\n",
      "\r",
      "  0%|          | 0/1 [00:00<?, ?it/s]"
     ]
    },
    {
     "name": "stdout",
     "output_type": "stream",
     "text": [
      "\r",
      "Upgrading database; v6 -> v7:   0%|          | 0/1 [00:00<?, ?it/s]"
     ]
    },
    {
     "name": "stdout",
     "output_type": "stream",
     "text": [
      "\r",
      "Upgrading database; v6 -> v7: 100%|██████████| 1/1 [00:00<00:00, 514.95it/s]"
     ]
    },
    {
     "name": "stdout",
     "output_type": "stream",
     "text": [
      "\n",
      "\r",
      "  0%|          | 0/1 [00:00<?, ?it/s]"
     ]
    },
    {
     "name": "stdout",
     "output_type": "stream",
     "text": [
      "\r",
      "Upgrading database; v7 -> v8:   0%|          | 0/1 [00:00<?, ?it/s]"
     ]
    },
    {
     "name": "stdout",
     "output_type": "stream",
     "text": [
      "\r",
      "Upgrading database; v7 -> v8: 100%|██████████| 1/1 [00:00<00:00, 941.27it/s]"
     ]
    },
    {
     "name": "stdout",
     "output_type": "stream",
     "text": [
      "\n",
      "\r",
      "  0%|          | 0/1 [00:00<?, ?it/s]"
     ]
    },
    {
     "name": "stdout",
     "output_type": "stream",
     "text": [
      "\r",
      "Upgrading database; v8 -> v9:   0%|          | 0/1 [00:00<?, ?it/s]"
     ]
    },
    {
     "name": "stdout",
     "output_type": "stream",
     "text": [
      "\r",
      "Upgrading database; v8 -> v9: 100%|██████████| 1/1 [00:00<00:00, 454.77it/s]"
     ]
    },
    {
     "name": "stdout",
     "output_type": "stream",
     "text": [
      "\n"
     ]
    }
   ],
   "source": [
    "initialise_database()\n",
    "exp = load_or_create_experiment(experiment_name='tutorial_exp', sample_name=\"no sample\")"
   ]
  },
  {
   "cell_type": "markdown",
   "metadata": {},
   "source": [
    "Here, we define a simple function to benchmark the time it takes to insert n points with either numeric or array data type.\n",
    "We will compare both the time used to call ``add_result`` and the time used for the full measurement."
   ]
  },
  {
   "cell_type": "code",
   "execution_count": 4,
   "metadata": {
    "execution": {
     "iopub.execute_input": "2021-03-29T09:18:24.258295Z",
     "iopub.status.busy": "2021-03-29T09:18:24.257031Z",
     "iopub.status.idle": "2021-03-29T09:18:24.258947Z",
     "shell.execute_reply": "2021-03-29T09:18:24.259409Z"
    }
   },
   "outputs": [],
   "source": [
    "def insert_data(paramtype, npoints, nreps=1):\n",
    "\n",
    "    meas = Measurement(exp=exp)\n",
    "\n",
    "    x1 = ManualParameter('x1')\n",
    "    x2 = ManualParameter('x2')\n",
    "    x3 = ManualParameter('x3')\n",
    "    y1 = ManualParameter('y1')\n",
    "    y2 = ManualParameter('y2')\n",
    "\n",
    "    meas.register_parameter(x1, paramtype=paramtype)\n",
    "    meas.register_parameter(x2, paramtype=paramtype)\n",
    "    meas.register_parameter(x3, paramtype=paramtype)\n",
    "    meas.register_parameter(y1, setpoints=[x1, x2, x3],\n",
    "                            paramtype=paramtype)\n",
    "    meas.register_parameter(y2, setpoints=[x1, x2, x3],\n",
    "                            paramtype=paramtype)\n",
    "    start = time.perf_counter()\n",
    "    with meas.run() as datasaver:\n",
    "        start_adding = time.perf_counter()\n",
    "        for i in range(nreps):\n",
    "            datasaver.add_result((x1, np.random.rand(npoints)),\n",
    "                                 (x2, np.random.rand(npoints)),\n",
    "                                 (x3, np.random.rand(npoints)),\n",
    "                                 (y1, np.random.rand(npoints)),\n",
    "                                 (y2, np.random.rand(npoints)))\n",
    "        stop_adding = time.perf_counter()\n",
    "        run_id = datasaver.run_id\n",
    "    stop = time.perf_counter()\n",
    "    tot_time = stop - start\n",
    "    add_time = stop_adding - start_adding\n",
    "    return tot_time, add_time, run_id"
   ]
  },
  {
   "cell_type": "markdown",
   "metadata": {},
   "source": [
    "## Comparison between numeric/array data and binary blob"
   ]
  },
  {
   "cell_type": "markdown",
   "metadata": {},
   "source": [
    "### Case1: Short experiment time"
   ]
  },
  {
   "cell_type": "code",
   "execution_count": 5,
   "metadata": {
    "execution": {
     "iopub.execute_input": "2021-03-29T09:18:24.266427Z",
     "iopub.status.busy": "2021-03-29T09:18:24.265771Z",
     "iopub.status.idle": "2021-03-29T09:18:25.001338Z",
     "shell.execute_reply": "2021-03-29T09:18:25.000880Z"
    }
   },
   "outputs": [
    {
     "name": "stdout",
     "output_type": "stream",
     "text": [
      "Starting experimental run with id: 1. \n",
      "Starting experimental run with id: 2. \n",
      "Starting experimental run with id: 3. \n",
      "Starting experimental run with id: 4. \n",
      "Starting experimental run with id: 5. \n"
     ]
    },
    {
     "name": "stdout",
     "output_type": "stream",
     "text": [
      "Starting experimental run with id: 6. \n"
     ]
    },
    {
     "name": "stdout",
     "output_type": "stream",
     "text": [
      "Starting experimental run with id: 7. \n"
     ]
    },
    {
     "name": "stdout",
     "output_type": "stream",
     "text": [
      "Starting experimental run with id: 8. \n",
      "Starting experimental run with id: 9. \n"
     ]
    },
    {
     "name": "stdout",
     "output_type": "stream",
     "text": [
      "Starting experimental run with id: 10. \n",
      "Starting experimental run with id: 11. \n"
     ]
    },
    {
     "name": "stdout",
     "output_type": "stream",
     "text": [
      "Starting experimental run with id: 12. \n"
     ]
    },
    {
     "name": "stdout",
     "output_type": "stream",
     "text": [
      "Starting experimental run with id: 13. \n",
      "Starting experimental run with id: 14. \n"
     ]
    }
   ],
   "source": [
    "sizes = [1,500,1000,2000,3000,4000,5000]\n",
    "t_numeric = []\n",
    "t_numeric_add = []\n",
    "t_array = []\n",
    "t_array_add = []\n",
    "for size in sizes:\n",
    "    tn, tna, run_id_n =  insert_data('numeric', size)\n",
    "    t_numeric.append(tn)\n",
    "    t_numeric_add.append(tna)\n",
    "\n",
    "    ta, taa, run_id_a =  insert_data('array', size)\n",
    "    t_array.append(ta)\n",
    "    t_array_add.append(taa)"
   ]
  },
  {
   "cell_type": "code",
   "execution_count": 6,
   "metadata": {
    "execution": {
     "iopub.execute_input": "2021-03-29T09:18:25.041397Z",
     "iopub.status.busy": "2021-03-29T09:18:25.040690Z",
     "iopub.status.idle": "2021-03-29T09:18:25.216655Z",
     "shell.execute_reply": "2021-03-29T09:18:25.216122Z"
    }
   },
   "outputs": [
    {
     "data": {
      "image/png": "[encoded data removed]",
      "text/plain": [
       "<Figure size 432x288 with 1 Axes>"
      ]
     },
     "metadata": {
      "needs_background": "light"
     },
     "output_type": "display_data"
    }
   ],
   "source": [
    "fig, ax = plt.subplots(1,1)\n",
    "ax.plot(sizes, t_numeric, 'o-', label='Inserting row-by-row')\n",
    "ax.plot(sizes, t_numeric_add, 'o-', label='Inserting row-by-row: add_result only')\n",
    "ax.plot(sizes, t_array, 'd-', label='Inserting as binary blob')\n",
    "ax.plot(sizes, t_array_add, 'd-', label='Inserting as binary blob: add_result only')\n",
    "ax.legend()\n",
    "ax.set_xlabel('Array length')\n",
    "ax.set_ylabel('Time (s)')\n",
    "fig.tight_layout()"
   ]
  },
  {
   "cell_type": "markdown",
   "metadata": {},
   "source": [
    "As shown in the latter figure, the time to setup and and close the experiment is approximately 0.4 sec. In case of small array sizes, the difference between inserting values of data as arrays and inserting them row-by-row is relatively unimportant. At larger array sizes, i.e. above 10000 points, the cost of writing data as individual datapoints starts to become important.\n"
   ]
  },
  {
   "cell_type": "markdown",
   "metadata": {},
   "source": [
    "### Case2: Long experiment time "
   ]
  },
  {
   "cell_type": "code",
   "execution_count": 7,
   "metadata": {
    "execution": {
     "iopub.execute_input": "2021-03-29T09:18:25.224222Z",
     "iopub.status.busy": "2021-03-29T09:18:25.223343Z",
     "iopub.status.idle": "2021-03-29T09:19:21.539190Z",
     "shell.execute_reply": "2021-03-29T09:19:21.538090Z"
    }
   },
   "outputs": [
    {
     "name": "stdout",
     "output_type": "stream",
     "text": [
      "Starting experimental run with id: 15. \n",
      "Starting experimental run with id: 16. \n",
      "Starting experimental run with id: 17. \n"
     ]
    },
    {
     "name": "stdout",
     "output_type": "stream",
     "text": [
      "Starting experimental run with id: 18. \n",
      "Starting experimental run with id: 19. \n"
     ]
    },
    {
     "name": "stdout",
     "output_type": "stream",
     "text": [
      "Starting experimental run with id: 20. \n"
     ]
    },
    {
     "name": "stdout",
     "output_type": "stream",
     "text": [
      "Starting experimental run with id: 21. \n"
     ]
    },
    {
     "name": "stdout",
     "output_type": "stream",
     "text": [
      "Starting experimental run with id: 22. \n"
     ]
    },
    {
     "name": "stdout",
     "output_type": "stream",
     "text": [
      "Starting experimental run with id: 23. \n"
     ]
    },
    {
     "name": "stdout",
     "output_type": "stream",
     "text": [
      "Starting experimental run with id: 24. \n"
     ]
    },
    {
     "name": "stdout",
     "output_type": "stream",
     "text": [
      "Starting experimental run with id: 25. \n"
     ]
    },
    {
     "name": "stdout",
     "output_type": "stream",
     "text": [
      "Starting experimental run with id: 26. \n"
     ]
    },
    {
     "name": "stdout",
     "output_type": "stream",
     "text": [
      "Starting experimental run with id: 27. \n"
     ]
    },
    {
     "name": "stdout",
     "output_type": "stream",
     "text": [
      "Starting experimental run with id: 28. \n"
     ]
    }
   ],
   "source": [
    "sizes = [1,500,1000,2000,3000,4000,5000]\n",
    "nreps = 100\n",
    "t_numeric = []\n",
    "t_numeric_add = []\n",
    "t_numeric_run_ids = []\n",
    "t_array = []\n",
    "t_array_add = []\n",
    "t_array_run_ids = []\n",
    "for size in sizes:\n",
    "    tn, tna, run_id_n =  insert_data('numeric', size, nreps=nreps)\n",
    "    t_numeric.append(tn)\n",
    "    t_numeric_add.append(tna)\n",
    "    t_numeric_run_ids.append(run_id_n)\n",
    "\n",
    "    ta, taa, run_id_a =  insert_data('array', size, nreps=nreps)\n",
    "    t_array.append(ta)\n",
    "    t_array_add.append(taa)\n",
    "    t_array_run_ids.append(run_id_a)"
   ]
  },
  {
   "cell_type": "code",
   "execution_count": 8,
   "metadata": {
    "execution": {
     "iopub.execute_input": "2021-03-29T09:19:21.577591Z",
     "iopub.status.busy": "2021-03-29T09:19:21.557328Z",
     "iopub.status.idle": "2021-03-29T09:19:21.742992Z",
     "shell.execute_reply": "2021-03-29T09:19:21.743490Z"
    },
    "scrolled": true
   },
   "outputs": [
    {
     "data": {
      "image/png": "[encoded data removed]",
      "text/plain": [
       "<Figure size 432x288 with 1 Axes>"
      ]
     },
     "metadata": {
      "needs_background": "light"
     },
     "output_type": "display_data"
    }
   ],
   "source": [
    "fig, ax = plt.subplots(1,1)\n",
    "ax.plot(sizes, t_numeric, 'o-', label='Inserting row-by-row')\n",
    "ax.plot(sizes, t_numeric_add, 'o-', label='Inserting row-by-row: add_result only')\n",
    "ax.plot(sizes, t_array, 'd-', label='Inserting as binary blob')\n",
    "ax.plot(sizes, t_array_add, 'd-', label='Inserting as binary blob: add_result only')\n",
    "ax.legend()\n",
    "ax.set_xlabel('Array length')\n",
    "ax.set_ylabel('Time (s)')\n",
    "fig.tight_layout()"
   ]
  },
  {
   "cell_type": "markdown",
   "metadata": {},
   "source": [
    "However, as we increase the length of the experiment, as seen here by repeating the insertion 100 times, we see a big difference between inserting values of the data row-by-row and inserting it as a binary blob."
   ]
  },
  {
   "cell_type": "markdown",
   "metadata": {},
   "source": [
    "## Loading the data "
   ]
  },
  {
   "cell_type": "code",
   "execution_count": 9,
   "metadata": {
    "execution": {
     "iopub.execute_input": "2021-03-29T09:19:21.748398Z",
     "iopub.status.busy": "2021-03-29T09:19:21.747368Z",
     "iopub.status.idle": "2021-03-29T09:19:21.752668Z",
     "shell.execute_reply": "2021-03-29T09:19:21.751612Z"
    }
   },
   "outputs": [],
   "source": [
    "from qcodes.dataset.data_set import load_by_id\n",
    "from qcodes.dataset.data_export import get_data_by_id"
   ]
  },
  {
   "cell_type": "markdown",
   "metadata": {},
   "source": [
    "As usual you can load the data by using the ``load_by_id`` function but you will notice that the different storage methods\n",
    "are reflected in shape of the data as it is retrieved. "
   ]
  },
  {
   "cell_type": "code",
   "execution_count": 10,
   "metadata": {
    "execution": {
     "iopub.execute_input": "2021-03-29T09:19:21.757260Z",
     "iopub.status.busy": "2021-03-29T09:19:21.756287Z",
     "iopub.status.idle": "2021-03-29T09:19:21.759820Z",
     "shell.execute_reply": "2021-03-29T09:19:21.760265Z"
    }
   },
   "outputs": [],
   "source": [
    "run_id_n = t_numeric_run_ids[0]\n",
    "run_id_a = t_array_run_ids[0]"
   ]
  },
  {
   "cell_type": "code",
   "execution_count": 11,
   "metadata": {
    "execution": {
     "iopub.execute_input": "2021-03-29T09:19:21.763942Z",
     "iopub.status.busy": "2021-03-29T09:19:21.763357Z",
     "iopub.status.idle": "2021-03-29T09:19:21.774434Z",
     "shell.execute_reply": "2021-03-29T09:19:21.774908Z"
    },
    "scrolled": true
   },
   "outputs": [
    {
     "data": {
      "text/plain": [
       "{'x1': {'x1': array([0.45838166, 0.45838166, 0.78223325, 0.78223325, 0.61895674,\n",
       "         0.61895674, 0.99182596, 0.99182596, 0.32443392, 0.32443392,\n",
       "         0.05052498, 0.05052498, 0.70607274, 0.70607274, 0.56171122,\n",
       "         0.56171122, 0.96254015, 0.96254015, 0.77675099, 0.77675099,\n",
       "         0.35728783, 0.35728783, 0.39835024, 0.39835024, 0.34700724,\n",
       "         0.34700724, 0.09713444, 0.09713444, 0.84471486, 0.84471486,\n",
       "         0.24567134, 0.24567134, 0.20839669, 0.20839669, 0.83614416,\n",
       "         0.83614416, 0.8466855 , 0.8466855 , 0.77547556, 0.77547556,\n",
       "         0.75037521, 0.75037521, 0.63978414, 0.63978414, 0.85280879,\n",
       "         0.85280879, 0.58920626, 0.58920626, 0.19128209, 0.19128209,\n",
       "         0.14555633, 0.14555633, 0.63513895, 0.63513895, 0.54591314,\n",
       "         0.54591314, 0.54149542, 0.54149542, 0.82680231, 0.82680231,\n",
       "         0.84094715, 0.84094715, 0.26995295, 0.26995295, 0.24221033,\n",
       "         0.24221033, 0.46503437, 0.46503437, 0.97432986, 0.97432986,\n",
       "         0.62987805, 0.62987805, 0.33231682, 0.33231682, 0.96342206,\n",
       "         0.96342206, 0.20628752, 0.20628752, 0.60864909, 0.60864909,\n",
       "         0.8696301 , 0.8696301 , 0.62232959, 0.62232959, 0.09492834,\n",
       "         0.09492834, 0.99981418, 0.99981418, 0.99155097, 0.99155097,\n",
       "         0.90969125, 0.90969125, 0.57776665, 0.57776665, 0.78527994,\n",
       "         0.78527994, 0.88803416, 0.88803416, 0.10664886, 0.10664886,\n",
       "         0.47929122, 0.47929122, 0.16252039, 0.16252039, 0.67940734,\n",
       "         0.67940734, 0.17757105, 0.17757105, 0.94466154, 0.94466154,\n",
       "         0.95064344, 0.95064344, 0.38564503, 0.38564503, 0.68235704,\n",
       "         0.68235704, 0.28804283, 0.28804283, 0.59696552, 0.59696552,\n",
       "         0.04189054, 0.04189054, 0.12744685, 0.12744685, 0.76213856,\n",
       "         0.76213856, 0.81003075, 0.81003075, 0.74804921, 0.74804921,\n",
       "         0.71866844, 0.71866844, 0.94484859, 0.94484859, 0.53432011,\n",
       "         0.53432011, 0.05410812, 0.05410812, 0.38558937, 0.38558937,\n",
       "         0.80092497, 0.80092497, 0.9398025 , 0.9398025 , 0.44548992,\n",
       "         0.44548992, 0.1484804 , 0.1484804 , 0.11733778, 0.11733778,\n",
       "         0.28703584, 0.28703584, 0.95551918, 0.95551918, 0.5275144 ,\n",
       "         0.5275144 , 0.5470739 , 0.5470739 , 0.49756239, 0.49756239,\n",
       "         0.81317648, 0.81317648, 0.10830866, 0.10830866, 0.06316753,\n",
       "         0.06316753, 0.79380668, 0.79380668, 0.75740716, 0.75740716,\n",
       "         0.21591866, 0.21591866, 0.31950352, 0.31950352, 0.95059967,\n",
       "         0.95059967, 0.7056437 , 0.7056437 , 0.86145754, 0.86145754,\n",
       "         0.05907265, 0.05907265, 0.31400878, 0.31400878, 0.59933546,\n",
       "         0.59933546, 0.94949494, 0.94949494, 0.39990846, 0.39990846,\n",
       "         0.95288528, 0.95288528, 0.08014982, 0.08014982, 0.25440591,\n",
       "         0.25440591, 0.7059627 , 0.7059627 , 0.37343319, 0.37343319])}}"
      ]
     },
     "execution_count": 1,
     "metadata": {},
     "output_type": "execute_result"
    }
   ],
   "source": [
    "ds = load_by_id(run_id_n)\n",
    "ds.get_parameter_data('x1')"
   ]
  },
  {
   "cell_type": "markdown",
   "metadata": {},
   "source": [
    "And a dataset stored as binary arrays"
   ]
  },
  {
   "cell_type": "code",
   "execution_count": 12,
   "metadata": {
    "execution": {
     "iopub.execute_input": "2021-03-29T09:19:21.778533Z",
     "iopub.status.busy": "2021-03-29T09:19:21.777962Z",
     "iopub.status.idle": "2021-03-29T09:19:21.836766Z",
     "shell.execute_reply": "2021-03-29T09:19:21.837250Z"
    },
    "scrolled": true
   },
   "outputs": [
    {
     "data": {
      "text/plain": [
       "{'x1': {'x1': array([[0.51871316],\n",
       "         [0.51871316],\n",
       "         [0.41327017],\n",
       "         [0.41327017],\n",
       "         [0.7814807 ],\n",
       "         [0.7814807 ],\n",
       "         [0.9972356 ],\n",
       "         [0.9972356 ],\n",
       "         [0.95663308],\n",
       "         [0.95663308],\n",
       "         [0.14625056],\n",
       "         [0.14625056],\n",
       "         [0.32654408],\n",
       "         [0.32654408],\n",
       "         [0.84228795],\n",
       "         [0.84228795],\n",
       "         [0.73551687],\n",
       "         [0.73551687],\n",
       "         [0.60701251],\n",
       "         [0.60701251],\n",
       "         [0.24766729],\n",
       "         [0.24766729],\n",
       "         [0.49626259],\n",
       "         [0.49626259],\n",
       "         [0.6037333 ],\n",
       "         [0.6037333 ],\n",
       "         [0.19152206],\n",
       "         [0.19152206],\n",
       "         [0.67197825],\n",
       "         [0.67197825],\n",
       "         [0.15256982],\n",
       "         [0.15256982],\n",
       "         [0.44934046],\n",
       "         [0.44934046],\n",
       "         [0.2263443 ],\n",
       "         [0.2263443 ],\n",
       "         [0.4365778 ],\n",
       "         [0.4365778 ],\n",
       "         [0.9801773 ],\n",
       "         [0.9801773 ],\n",
       "         [0.53529422],\n",
       "         [0.53529422],\n",
       "         [0.45442535],\n",
       "         [0.45442535],\n",
       "         [0.26128902],\n",
       "         [0.26128902],\n",
       "         [0.68765459],\n",
       "         [0.68765459],\n",
       "         [0.90094529],\n",
       "         [0.90094529],\n",
       "         [0.51073896],\n",
       "         [0.51073896],\n",
       "         [0.74536544],\n",
       "         [0.74536544],\n",
       "         [0.02934074],\n",
       "         [0.02934074],\n",
       "         [0.93923152],\n",
       "         [0.93923152],\n",
       "         [0.36909284],\n",
       "         [0.36909284],\n",
       "         [0.89766257],\n",
       "         [0.89766257],\n",
       "         [0.53438338],\n",
       "         [0.53438338],\n",
       "         [0.07295466],\n",
       "         [0.07295466],\n",
       "         [0.62582015],\n",
       "         [0.62582015],\n",
       "         [0.60448746],\n",
       "         [0.60448746],\n",
       "         [0.17209167],\n",
       "         [0.17209167],\n",
       "         [0.18768891],\n",
       "         [0.18768891],\n",
       "         [0.68195213],\n",
       "         [0.68195213],\n",
       "         [0.45029888],\n",
       "         [0.45029888],\n",
       "         [0.71486019],\n",
       "         [0.71486019],\n",
       "         [0.3370603 ],\n",
       "         [0.3370603 ],\n",
       "         [0.62067956],\n",
       "         [0.62067956],\n",
       "         [0.90814803],\n",
       "         [0.90814803],\n",
       "         [0.92857713],\n",
       "         [0.92857713],\n",
       "         [0.18509602],\n",
       "         [0.18509602],\n",
       "         [0.57052193],\n",
       "         [0.57052193],\n",
       "         [0.86988276],\n",
       "         [0.86988276],\n",
       "         [0.30724969],\n",
       "         [0.30724969],\n",
       "         [0.20061636],\n",
       "         [0.20061636],\n",
       "         [0.6152556 ],\n",
       "         [0.6152556 ],\n",
       "         [0.14374167],\n",
       "         [0.14374167],\n",
       "         [0.83284417],\n",
       "         [0.83284417],\n",
       "         [0.472321  ],\n",
       "         [0.472321  ],\n",
       "         [0.45935834],\n",
       "         [0.45935834],\n",
       "         [0.87347036],\n",
       "         [0.87347036],\n",
       "         [0.58446988],\n",
       "         [0.58446988],\n",
       "         [0.69142869],\n",
       "         [0.69142869],\n",
       "         [0.18218327],\n",
       "         [0.18218327],\n",
       "         [0.64651864],\n",
       "         [0.64651864],\n",
       "         [0.03140496],\n",
       "         [0.03140496],\n",
       "         [0.27971978],\n",
       "         [0.27971978],\n",
       "         [0.42915647],\n",
       "         [0.42915647],\n",
       "         [0.20499899],\n",
       "         [0.20499899],\n",
       "         [0.06307545],\n",
       "         [0.06307545],\n",
       "         [0.63132824],\n",
       "         [0.63132824],\n",
       "         [0.20214583],\n",
       "         [0.20214583],\n",
       "         [0.86821885],\n",
       "         [0.86821885],\n",
       "         [0.12327249],\n",
       "         [0.12327249],\n",
       "         [0.52916766],\n",
       "         [0.52916766],\n",
       "         [0.29683243],\n",
       "         [0.29683243],\n",
       "         [0.86539939],\n",
       "         [0.86539939],\n",
       "         [0.152016  ],\n",
       "         [0.152016  ],\n",
       "         [0.45761077],\n",
       "         [0.45761077],\n",
       "         [0.88731371],\n",
       "         [0.88731371],\n",
       "         [0.39104886],\n",
       "         [0.39104886],\n",
       "         [0.48433212],\n",
       "         [0.48433212],\n",
       "         [0.40892237],\n",
       "         [0.40892237],\n",
       "         [0.52853187],\n",
       "         [0.52853187],\n",
       "         [0.06124309],\n",
       "         [0.06124309],\n",
       "         [0.65875112],\n",
       "         [0.65875112],\n",
       "         [0.23528689],\n",
       "         [0.23528689],\n",
       "         [0.83843029],\n",
       "         [0.83843029],\n",
       "         [0.34581761],\n",
       "         [0.34581761],\n",
       "         [0.59488493],\n",
       "         [0.59488493],\n",
       "         [0.89898323],\n",
       "         [0.89898323],\n",
       "         [0.12100106],\n",
       "         [0.12100106],\n",
       "         [0.87090859],\n",
       "         [0.87090859],\n",
       "         [0.71649691],\n",
       "         [0.71649691],\n",
       "         [0.30664754],\n",
       "         [0.30664754],\n",
       "         [0.10248809],\n",
       "         [0.10248809],\n",
       "         [0.51678586],\n",
       "         [0.51678586],\n",
       "         [0.65144807],\n",
       "         [0.65144807],\n",
       "         [0.22907728],\n",
       "         [0.22907728],\n",
       "         [0.85022233],\n",
       "         [0.85022233],\n",
       "         [0.56390979],\n",
       "         [0.56390979],\n",
       "         [0.3379989 ],\n",
       "         [0.3379989 ],\n",
       "         [0.30554697],\n",
       "         [0.30554697],\n",
       "         [0.42954457],\n",
       "         [0.42954457],\n",
       "         [0.66632876],\n",
       "         [0.66632876],\n",
       "         [0.23463072],\n",
       "         [0.23463072]])}}"
      ]
     },
     "execution_count": 1,
     "metadata": {},
     "output_type": "execute_result"
    }
   ],
   "source": [
    "ds = load_by_id(run_id_a)\n",
    "ds.get_parameter_data('x1')"
   ]
  },
  {
   "cell_type": "code",
   "execution_count": null,
   "metadata": {},
   "outputs": [],
   "source": []
  }
 ],
 "metadata": {
  "kernelspec": {
   "display_name": "Python 3",
   "language": "python",
   "name": "python3"
  },
  "language_info": {
   "codemirror_mode": {
    "name": "ipython",
    "version": 3
   },
   "file_extension": ".py",
   "mimetype": "text/x-python",
   "name": "python",
   "nbconvert_exporter": "python",
   "pygments_lexer": "ipython3",
   "version": "3.7.10"
  },
  "nbsphinx": {
   "timeout": 600
  },
  "toc": {
   "base_numbering": 1,
   "nav_menu": {},
   "number_sections": true,
   "sideBar": true,
   "skip_h1_title": false,
   "title_cell": "Table of Contents",
   "title_sidebar": "Contents",
   "toc_cell": false,
   "toc_position": {},
   "toc_section_display": true,
   "toc_window_display": false
  },
  "varInspector": {
   "cols": {
    "lenName": 16,
    "lenType": 16,
    "lenVar": 40
   },
   "kernels_config": {
    "python": {
     "delete_cmd_postfix": "",
     "delete_cmd_prefix": "del ",
     "library": "var_list.py",
     "varRefreshCmd": "print(var_dic_list())"
    },
    "r": {
     "delete_cmd_postfix": ") ",
     "delete_cmd_prefix": "rm(",
     "library": "var_list.r",
     "varRefreshCmd": "cat(var_dic_list()) "
    }
   },
   "types_to_exclude": [
    "module",
    "function",
    "builtin_function_or_method",
    "instance",
    "_Feature"
   ],
   "window_display": false
  }
 },
 "nbformat": 4,
 "nbformat_minor": 2
}
