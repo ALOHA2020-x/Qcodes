{
 "cells": [
  {
   "cell_type": "markdown",
   "metadata": {},
   "source": [
    "# DataSet Performance\n",
    "\n",
    "This notebook shows the trade-off between inserting data into a database row-by-row and as binary blobs. Inserting the data row-by-row means that we have direct access to all the data and may perform queries directly on the values of the data. On the other hand, as we shall see, this is much slower than inserting the data directly as binary blobs."
   ]
  },
  {
   "cell_type": "markdown",
   "metadata": {},
   "source": [
    "First, we choose a new location for the database to ensure that we don't add a bunch of benchmarking data to the default one."
   ]
  },
  {
   "cell_type": "code",
   "execution_count": 1,
   "metadata": {
    "execution": {
     "iopub.execute_input": "2020-11-18T07:26:01.202253Z",
     "iopub.status.busy": "2020-11-18T07:26:01.201651Z",
     "iopub.status.idle": "2020-11-18T07:26:02.298158Z",
     "shell.execute_reply": "2020-11-18T07:26:02.297069Z"
    }
   },
   "outputs": [
    {
     "name": "stdout",
     "output_type": "stream",
     "text": [
      "Logging hadn't been started.\n",
      "Activating auto-logging. Current session state plus future input saved.\n",
      "Filename       : /home/vsts/.qcodes/logs/command_history.log\n",
      "Mode           : append\n",
      "Output logging : True\n",
      "Raw input log  : False\n",
      "Timestamping   : True\n",
      "State          : active\n"
     ]
    },
    {
     "name": "stdout",
     "output_type": "stream",
     "text": [
      "Qcodes Logfile : /home/vsts/.qcodes/logs/201118-14275-qcodes.log\n"
     ]
    }
   ],
   "source": [
    "import os\n",
    "cwd = os.getcwd()\n",
    "import qcodes as qc\n",
    "qc.config[\"core\"][\"db_location\"] = os.path.join(cwd, 'testing.db')\n"
   ]
  },
  {
   "cell_type": "code",
   "execution_count": 2,
   "metadata": {
    "execution": {
     "iopub.execute_input": "2020-11-18T07:26:02.305503Z",
     "iopub.status.busy": "2020-11-18T07:26:02.304663Z",
     "iopub.status.idle": "2020-11-18T07:26:02.502006Z",
     "shell.execute_reply": "2020-11-18T07:26:02.501113Z"
    }
   },
   "outputs": [],
   "source": [
    "%matplotlib inline\n",
    "import time\n",
    "import matplotlib.pyplot as plt\n",
    "import numpy as np\n",
    "\n",
    "import qcodes as qc\n",
    "from qcodes.instrument.parameter import ManualParameter\n",
    "from qcodes.dataset.experiment_container import (Experiment,\n",
    "                                                 load_last_experiment,\n",
    "                                                 new_experiment)\n",
    "from qcodes.dataset.sqlite.database import initialise_database\n",
    "from qcodes import load_or_create_experiment\n",
    "from qcodes.dataset.measurements import Measurement"
   ]
  },
  {
   "cell_type": "code",
   "execution_count": 3,
   "metadata": {
    "execution": {
     "iopub.execute_input": "2020-11-18T07:26:02.506314Z",
     "iopub.status.busy": "2020-11-18T07:26:02.505734Z",
     "iopub.status.idle": "2020-11-18T07:26:02.626367Z",
     "shell.execute_reply": "2020-11-18T07:26:02.626858Z"
    }
   },
   "outputs": [
    {
     "name": "stdout",
     "output_type": "stream",
     "text": [
      "\r",
      "0it [00:00, ?it/s]"
     ]
    },
    {
     "name": "stdout",
     "output_type": "stream",
     "text": [
      "\r",
      "Upgrading database; v0 -> v1: : 0it [00:00, ?it/s]"
     ]
    },
    {
     "name": "stdout",
     "output_type": "stream",
     "text": [
      "\r",
      "Upgrading database; v0 -> v1: : 0it [00:00, ?it/s]"
     ]
    },
    {
     "name": "stdout",
     "output_type": "stream",
     "text": [
      "\n",
      "\r",
      "  0%|          | 0/1 [00:00<?, ?it/s]"
     ]
    },
    {
     "name": "stdout",
     "output_type": "stream",
     "text": [
      "\r",
      "Upgrading database; v1 -> v2:   0%|          | 0/1 [00:00<?, ?it/s]"
     ]
    },
    {
     "name": "stdout",
     "output_type": "stream",
     "text": [
      "\r",
      "Upgrading database; v1 -> v2: 100%|██████████| 1/1 [00:00<00:00, 545.35it/s]"
     ]
    },
    {
     "name": "stdout",
     "output_type": "stream",
     "text": [
      "\n",
      "\r",
      "0it [00:00, ?it/s]"
     ]
    },
    {
     "name": "stdout",
     "output_type": "stream",
     "text": [
      "\r",
      "Upgrading database; v2 -> v3: : 0it [00:00, ?it/s]"
     ]
    },
    {
     "name": "stdout",
     "output_type": "stream",
     "text": [
      "\r",
      "Upgrading database; v2 -> v3: : 0it [00:00, ?it/s]"
     ]
    },
    {
     "name": "stdout",
     "output_type": "stream",
     "text": [
      "\n",
      "\r",
      "0it [00:00, ?it/s]"
     ]
    },
    {
     "name": "stdout",
     "output_type": "stream",
     "text": [
      "\r",
      "Upgrading database; v3 -> v4: : 0it [00:00, ?it/s]"
     ]
    },
    {
     "name": "stdout",
     "output_type": "stream",
     "text": [
      "\r",
      "Upgrading database; v3 -> v4: : 0it [00:00, ?it/s]"
     ]
    },
    {
     "name": "stdout",
     "output_type": "stream",
     "text": [
      "\n",
      "\r",
      "  0%|          | 0/1 [00:00<?, ?it/s]"
     ]
    },
    {
     "name": "stdout",
     "output_type": "stream",
     "text": [
      "\r",
      "Upgrading database; v4 -> v5:   0%|          | 0/1 [00:00<?, ?it/s]"
     ]
    },
    {
     "name": "stdout",
     "output_type": "stream",
     "text": [
      "\r",
      "Upgrading database; v4 -> v5: 100%|██████████| 1/1 [00:00<00:00, 764.55it/s]"
     ]
    },
    {
     "name": "stdout",
     "output_type": "stream",
     "text": [
      "\n",
      "\r",
      "0it [00:00, ?it/s]"
     ]
    },
    {
     "name": "stdout",
     "output_type": "stream",
     "text": [
      "\r",
      "Upgrading database; v5 -> v6: : 0it [00:00, ?it/s]"
     ]
    },
    {
     "name": "stdout",
     "output_type": "stream",
     "text": [
      "\r",
      "Upgrading database; v5 -> v6: : 0it [00:00, ?it/s]"
     ]
    },
    {
     "name": "stdout",
     "output_type": "stream",
     "text": [
      "\n",
      "\r",
      "  0%|          | 0/1 [00:00<?, ?it/s]"
     ]
    },
    {
     "name": "stdout",
     "output_type": "stream",
     "text": [
      "\r",
      "Upgrading database; v6 -> v7:   0%|          | 0/1 [00:00<?, ?it/s]"
     ]
    },
    {
     "name": "stdout",
     "output_type": "stream",
     "text": [
      "\r",
      "Upgrading database; v6 -> v7: 100%|██████████| 1/1 [00:00<00:00, 335.22it/s]"
     ]
    },
    {
     "name": "stdout",
     "output_type": "stream",
     "text": [
      "\n",
      "\r",
      "  0%|          | 0/1 [00:00<?, ?it/s]"
     ]
    },
    {
     "name": "stdout",
     "output_type": "stream",
     "text": [
      "\r",
      "Upgrading database; v7 -> v8:   0%|          | 0/1 [00:00<?, ?it/s]"
     ]
    },
    {
     "name": "stdout",
     "output_type": "stream",
     "text": [
      "\r",
      "Upgrading database; v7 -> v8: 100%|██████████| 1/1 [00:00<00:00, 740.65it/s]"
     ]
    },
    {
     "name": "stdout",
     "output_type": "stream",
     "text": [
      "\n",
      "\r",
      "  0%|          | 0/1 [00:00<?, ?it/s]"
     ]
    },
    {
     "name": "stdout",
     "output_type": "stream",
     "text": [
      "\r",
      "Upgrading database; v8 -> v9:   0%|          | 0/1 [00:00<?, ?it/s]"
     ]
    },
    {
     "name": "stdout",
     "output_type": "stream",
     "text": [
      "\r",
      "Upgrading database; v8 -> v9: 100%|██████████| 1/1 [00:00<00:00, 445.44it/s]"
     ]
    },
    {
     "name": "stdout",
     "output_type": "stream",
     "text": [
      "\n"
     ]
    }
   ],
   "source": [
    "initialise_database()\n",
    "exp = load_or_create_experiment(experiment_name='tutorial_exp', sample_name=\"no sample\")"
   ]
  },
  {
   "cell_type": "markdown",
   "metadata": {},
   "source": [
    "Here, we define a simple function to benchmark the time it takes to insert n points with either numeric or array data type.\n",
    "We will compare both the time used to call ``add_result`` and the time used for the full measurement."
   ]
  },
  {
   "cell_type": "code",
   "execution_count": 4,
   "metadata": {
    "execution": {
     "iopub.execute_input": "2020-11-18T07:26:02.636613Z",
     "iopub.status.busy": "2020-11-18T07:26:02.635345Z",
     "iopub.status.idle": "2020-11-18T07:26:02.637270Z",
     "shell.execute_reply": "2020-11-18T07:26:02.637745Z"
    }
   },
   "outputs": [],
   "source": [
    "def insert_data(paramtype, npoints, nreps=1):\n",
    "\n",
    "    meas = Measurement(exp=exp)\n",
    "\n",
    "    x1 = ManualParameter('x1')\n",
    "    x2 = ManualParameter('x2')\n",
    "    x3 = ManualParameter('x3')\n",
    "    y1 = ManualParameter('y1')\n",
    "    y2 = ManualParameter('y2')\n",
    "\n",
    "    meas.register_parameter(x1, paramtype=paramtype)\n",
    "    meas.register_parameter(x2, paramtype=paramtype)\n",
    "    meas.register_parameter(x3, paramtype=paramtype)\n",
    "    meas.register_parameter(y1, setpoints=[x1, x2, x3],\n",
    "                            paramtype=paramtype)\n",
    "    meas.register_parameter(y2, setpoints=[x1, x2, x3],\n",
    "                            paramtype=paramtype)\n",
    "    start = time.perf_counter()\n",
    "    with meas.run() as datasaver:\n",
    "        start_adding = time.perf_counter()\n",
    "        for i in range(nreps):\n",
    "            datasaver.add_result((x1, np.random.rand(npoints)),\n",
    "                                 (x2, np.random.rand(npoints)),\n",
    "                                 (x3, np.random.rand(npoints)),\n",
    "                                 (y1, np.random.rand(npoints)),\n",
    "                                 (y2, np.random.rand(npoints)))\n",
    "        stop_adding = time.perf_counter()\n",
    "        run_id = datasaver.run_id\n",
    "    stop = time.perf_counter()\n",
    "    tot_time = stop - start\n",
    "    add_time = stop_adding - start_adding\n",
    "    return tot_time, add_time, run_id"
   ]
  },
  {
   "cell_type": "markdown",
   "metadata": {},
   "source": [
    "## Comparison between numeric/array data and binary blob"
   ]
  },
  {
   "cell_type": "markdown",
   "metadata": {},
   "source": [
    "### Case1: Short experiment time"
   ]
  },
  {
   "cell_type": "code",
   "execution_count": 5,
   "metadata": {
    "execution": {
     "iopub.execute_input": "2020-11-18T07:26:02.644338Z",
     "iopub.status.busy": "2020-11-18T07:26:02.643102Z",
     "iopub.status.idle": "2020-11-18T07:26:03.532787Z",
     "shell.execute_reply": "2020-11-18T07:26:03.532285Z"
    }
   },
   "outputs": [
    {
     "name": "stdout",
     "output_type": "stream",
     "text": [
      "Starting experimental run with id: 1. \n",
      "Starting experimental run with id: 2. \n",
      "Starting experimental run with id: 3. \n",
      "Starting experimental run with id: 4. \n",
      "Starting experimental run with id: 5. \n"
     ]
    },
    {
     "name": "stdout",
     "output_type": "stream",
     "text": [
      "Starting experimental run with id: 6. \n"
     ]
    },
    {
     "name": "stdout",
     "output_type": "stream",
     "text": [
      "Starting experimental run with id: 7. \n"
     ]
    },
    {
     "name": "stdout",
     "output_type": "stream",
     "text": [
      "Starting experimental run with id: 8. \n",
      "Starting experimental run with id: 9. \n"
     ]
    },
    {
     "name": "stdout",
     "output_type": "stream",
     "text": [
      "Starting experimental run with id: 10. \n",
      "Starting experimental run with id: 11. \n"
     ]
    },
    {
     "name": "stdout",
     "output_type": "stream",
     "text": [
      "Starting experimental run with id: 12. \n",
      "Starting experimental run with id: 13. \n"
     ]
    },
    {
     "name": "stdout",
     "output_type": "stream",
     "text": [
      "Starting experimental run with id: 14. \n"
     ]
    }
   ],
   "source": [
    "sizes = [1,500,1000,2000,3000,4000,5000]\n",
    "t_numeric = []\n",
    "t_numeric_add = []\n",
    "t_array = []\n",
    "t_array_add = []\n",
    "for size in sizes:\n",
    "    tn, tna, run_id_n =  insert_data('numeric', size)\n",
    "    t_numeric.append(tn)\n",
    "    t_numeric_add.append(tna)\n",
    "\n",
    "    ta, taa, run_id_a =  insert_data('array', size)\n",
    "    t_array.append(ta)\n",
    "    t_array_add.append(taa)"
   ]
  },
  {
   "cell_type": "code",
   "execution_count": 6,
   "metadata": {
    "execution": {
     "iopub.execute_input": "2020-11-18T07:26:03.548051Z",
     "iopub.status.busy": "2020-11-18T07:26:03.543869Z",
     "iopub.status.idle": "2020-11-18T07:26:03.745109Z",
     "shell.execute_reply": "2020-11-18T07:26:03.744594Z"
    }
   },
   "outputs": [
    {
     "data": {
      "image/png": "[encoded data removed]",
      "text/plain": [
       "<Figure size 432x288 with 1 Axes>"
      ]
     },
     "metadata": {
      "needs_background": "light"
     },
     "output_type": "display_data"
    }
   ],
   "source": [
    "fig, ax = plt.subplots(1,1)\n",
    "ax.plot(sizes, t_numeric, 'o-', label='Inserting row-by-row')\n",
    "ax.plot(sizes, t_numeric_add, 'o-', label='Inserting row-by-row: add_result only')\n",
    "ax.plot(sizes, t_array, 'd-', label='Inserting as binary blob')\n",
    "ax.plot(sizes, t_array_add, 'd-', label='Inserting as binary blob: add_result only')\n",
    "ax.legend()\n",
    "ax.set_xlabel('Array length')\n",
    "ax.set_ylabel('Time (s)')\n",
    "fig.tight_layout()"
   ]
  },
  {
   "cell_type": "markdown",
   "metadata": {},
   "source": [
    "As shown in the latter figure, the time to setup and and close the experiment is approximately 0.4 sec. In case of small array sizes, the difference between inserting values of data as arrays and inserting them row-by-row is relatively unimportant. At larger array sizes, i.e. above 10000 points, the cost of writing data as individual datapoints starts to become important.\n"
   ]
  },
  {
   "cell_type": "markdown",
   "metadata": {},
   "source": [
    "### Case2: Long experiment time "
   ]
  },
  {
   "cell_type": "code",
   "execution_count": 7,
   "metadata": {
    "execution": {
     "iopub.execute_input": "2020-11-18T07:26:03.751938Z",
     "iopub.status.busy": "2020-11-18T07:26:03.750818Z",
     "iopub.status.idle": "2020-11-18T07:27:04.432988Z",
     "shell.execute_reply": "2020-11-18T07:27:04.432411Z"
    }
   },
   "outputs": [
    {
     "name": "stdout",
     "output_type": "stream",
     "text": [
      "Starting experimental run with id: 15. \n",
      "Starting experimental run with id: 16. \n",
      "Starting experimental run with id: 17. \n"
     ]
    },
    {
     "name": "stdout",
     "output_type": "stream",
     "text": [
      "Starting experimental run with id: 18. \n",
      "Starting experimental run with id: 19. \n"
     ]
    },
    {
     "name": "stdout",
     "output_type": "stream",
     "text": [
      "Starting experimental run with id: 20. \n"
     ]
    },
    {
     "name": "stdout",
     "output_type": "stream",
     "text": [
      "Starting experimental run with id: 21. \n"
     ]
    },
    {
     "name": "stdout",
     "output_type": "stream",
     "text": [
      "Starting experimental run with id: 22. \n"
     ]
    },
    {
     "name": "stdout",
     "output_type": "stream",
     "text": [
      "Starting experimental run with id: 23. \n"
     ]
    },
    {
     "name": "stdout",
     "output_type": "stream",
     "text": [
      "Starting experimental run with id: 24. \n"
     ]
    },
    {
     "name": "stdout",
     "output_type": "stream",
     "text": [
      "Starting experimental run with id: 25. \n"
     ]
    },
    {
     "name": "stdout",
     "output_type": "stream",
     "text": [
      "Starting experimental run with id: 26. \n"
     ]
    },
    {
     "name": "stdout",
     "output_type": "stream",
     "text": [
      "Starting experimental run with id: 27. \n"
     ]
    },
    {
     "name": "stdout",
     "output_type": "stream",
     "text": [
      "Starting experimental run with id: 28. \n"
     ]
    }
   ],
   "source": [
    "sizes = [1,500,1000,2000,3000,4000,5000]\n",
    "nreps = 100\n",
    "t_numeric = []\n",
    "t_numeric_add = []\n",
    "t_numeric_run_ids = []\n",
    "t_array = []\n",
    "t_array_add = []\n",
    "t_array_run_ids = []\n",
    "for size in sizes:\n",
    "    tn, tna, run_id_n =  insert_data('numeric', size, nreps=nreps)\n",
    "    t_numeric.append(tn)\n",
    "    t_numeric_add.append(tna)\n",
    "    t_numeric_run_ids.append(run_id_n)\n",
    "\n",
    "    ta, taa, run_id_a =  insert_data('array', size, nreps=nreps)\n",
    "    t_array.append(ta)\n",
    "    t_array_add.append(taa)\n",
    "    t_array_run_ids.append(run_id_a)"
   ]
  },
  {
   "cell_type": "code",
   "execution_count": 8,
   "metadata": {
    "execution": {
     "iopub.execute_input": "2020-11-18T07:27:04.473975Z",
     "iopub.status.busy": "2020-11-18T07:27:04.438819Z",
     "iopub.status.idle": "2020-11-18T07:27:04.644293Z",
     "shell.execute_reply": "2020-11-18T07:27:04.643753Z"
    },
    "scrolled": true
   },
   "outputs": [
    {
     "data": {
      "image/png": "[encoded data removed]",
      "text/plain": [
       "<Figure size 432x288 with 1 Axes>"
      ]
     },
     "metadata": {
      "needs_background": "light"
     },
     "output_type": "display_data"
    }
   ],
   "source": [
    "fig, ax = plt.subplots(1,1)\n",
    "ax.plot(sizes, t_numeric, 'o-', label='Inserting row-by-row')\n",
    "ax.plot(sizes, t_numeric_add, 'o-', label='Inserting row-by-row: add_result only')\n",
    "ax.plot(sizes, t_array, 'd-', label='Inserting as binary blob')\n",
    "ax.plot(sizes, t_array_add, 'd-', label='Inserting as binary blob: add_result only')\n",
    "ax.legend()\n",
    "ax.set_xlabel('Array length')\n",
    "ax.set_ylabel('Time (s)')\n",
    "fig.tight_layout()"
   ]
  },
  {
   "cell_type": "markdown",
   "metadata": {},
   "source": [
    "However, as we increase the length of the experiment, as seen here by repeating the insertion 100 times, we see a big difference between inserting values of the data row-by-row and inserting it as a binary blob."
   ]
  },
  {
   "cell_type": "markdown",
   "metadata": {},
   "source": [
    "## Loading the data "
   ]
  },
  {
   "cell_type": "code",
   "execution_count": 9,
   "metadata": {
    "execution": {
     "iopub.execute_input": "2020-11-18T07:27:04.649909Z",
     "iopub.status.busy": "2020-11-18T07:27:04.648765Z",
     "iopub.status.idle": "2020-11-18T07:27:04.652625Z",
     "shell.execute_reply": "2020-11-18T07:27:04.652115Z"
    }
   },
   "outputs": [],
   "source": [
    "from qcodes.dataset.data_set import load_by_id\n",
    "from qcodes.dataset.data_export import get_data_by_id"
   ]
  },
  {
   "cell_type": "markdown",
   "metadata": {},
   "source": [
    "As usual you can load the data by using the ``load_by_id`` function but you will notice that the different storage methods\n",
    "are reflected in shape of the data as it is retrieved. "
   ]
  },
  {
   "cell_type": "code",
   "execution_count": 10,
   "metadata": {
    "execution": {
     "iopub.execute_input": "2020-11-18T07:27:04.657817Z",
     "iopub.status.busy": "2020-11-18T07:27:04.656591Z",
     "iopub.status.idle": "2020-11-18T07:27:04.658487Z",
     "shell.execute_reply": "2020-11-18T07:27:04.658967Z"
    }
   },
   "outputs": [],
   "source": [
    "run_id_n = t_numeric_run_ids[0]\n",
    "run_id_a = t_array_run_ids[0]"
   ]
  },
  {
   "cell_type": "code",
   "execution_count": 11,
   "metadata": {
    "execution": {
     "iopub.execute_input": "2020-11-18T07:27:04.662692Z",
     "iopub.status.busy": "2020-11-18T07:27:04.662108Z",
     "iopub.status.idle": "2020-11-18T07:27:04.671790Z",
     "shell.execute_reply": "2020-11-18T07:27:04.672232Z"
    },
    "scrolled": true
   },
   "outputs": [
    {
     "data": {
      "text/plain": [
       "{'x1': {'x1': array([0.11146344, 0.11146344, 0.20161372, 0.20161372, 0.63493646,\n",
       "         0.63493646, 0.39003126, 0.39003126, 0.22571575, 0.22571575,\n",
       "         0.96560578, 0.96560578, 0.92455839, 0.92455839, 0.27034894,\n",
       "         0.27034894, 0.12589128, 0.12589128, 0.28871107, 0.28871107,\n",
       "         0.55136443, 0.55136443, 0.47844543, 0.47844543, 0.6535772 ,\n",
       "         0.6535772 , 0.51370394, 0.51370394, 0.11039283, 0.11039283,\n",
       "         0.30187983, 0.30187983, 0.88380419, 0.88380419, 0.69957306,\n",
       "         0.69957306, 0.24328756, 0.24328756, 0.57779385, 0.57779385,\n",
       "         0.40735201, 0.40735201, 0.61927738, 0.61927738, 0.68380137,\n",
       "         0.68380137, 0.67828792, 0.67828792, 0.02223255, 0.02223255,\n",
       "         0.29146372, 0.29146372, 0.33982191, 0.33982191, 0.41265998,\n",
       "         0.41265998, 0.1587871 , 0.1587871 , 0.5421166 , 0.5421166 ,\n",
       "         0.98360952, 0.98360952, 0.88311574, 0.88311574, 0.41911677,\n",
       "         0.41911677, 0.36997298, 0.36997298, 0.12801266, 0.12801266,\n",
       "         0.46970451, 0.46970451, 0.52994555, 0.52994555, 0.24293654,\n",
       "         0.24293654, 0.40074126, 0.40074126, 0.54030457, 0.54030457,\n",
       "         0.07205464, 0.07205464, 0.59430658, 0.59430658, 0.58752868,\n",
       "         0.58752868, 0.80839302, 0.80839302, 0.7606975 , 0.7606975 ,\n",
       "         0.68514355, 0.68514355, 0.87368312, 0.87368312, 0.27576992,\n",
       "         0.27576992, 0.84301642, 0.84301642, 0.38712753, 0.38712753,\n",
       "         0.4776719 , 0.4776719 , 0.78332047, 0.78332047, 0.9802777 ,\n",
       "         0.9802777 , 0.63391268, 0.63391268, 0.89763019, 0.89763019,\n",
       "         0.82196706, 0.82196706, 0.50145713, 0.50145713, 0.38098376,\n",
       "         0.38098376, 0.26907685, 0.26907685, 0.50378279, 0.50378279,\n",
       "         0.2797357 , 0.2797357 , 0.05816303, 0.05816303, 0.3725473 ,\n",
       "         0.3725473 , 0.58839189, 0.58839189, 0.73247262, 0.73247262,\n",
       "         0.09606173, 0.09606173, 0.41173803, 0.41173803, 0.03600357,\n",
       "         0.03600357, 0.95077461, 0.95077461, 0.77260974, 0.77260974,\n",
       "         0.88927376, 0.88927376, 0.24253712, 0.24253712, 0.43465298,\n",
       "         0.43465298, 0.17084465, 0.17084465, 0.12920322, 0.12920322,\n",
       "         0.35635357, 0.35635357, 0.89902929, 0.89902929, 0.37836403,\n",
       "         0.37836403, 0.85947194, 0.85947194, 0.548738  , 0.548738  ,\n",
       "         0.14009315, 0.14009315, 0.29036602, 0.29036602, 0.65051833,\n",
       "         0.65051833, 0.02340506, 0.02340506, 0.40977767, 0.40977767,\n",
       "         0.81549904, 0.81549904, 0.05384423, 0.05384423, 0.45147373,\n",
       "         0.45147373, 0.49265353, 0.49265353, 0.49745303, 0.49745303,\n",
       "         0.94235724, 0.94235724, 0.14953032, 0.14953032, 0.60636521,\n",
       "         0.60636521, 0.87158306, 0.87158306, 0.84474483, 0.84474483,\n",
       "         0.51708469, 0.51708469, 0.16256692, 0.16256692, 0.6224456 ,\n",
       "         0.6224456 , 0.09746062, 0.09746062, 0.07501988, 0.07501988])}}"
      ]
     },
     "execution_count": 1,
     "metadata": {},
     "output_type": "execute_result"
    }
   ],
   "source": [
    "ds = load_by_id(run_id_n)\n",
    "ds.get_parameter_data('x1')"
   ]
  },
  {
   "cell_type": "markdown",
   "metadata": {},
   "source": [
    "And a dataset stored as binary arrays"
   ]
  },
  {
   "cell_type": "code",
   "execution_count": 12,
   "metadata": {
    "execution": {
     "iopub.execute_input": "2020-11-18T07:27:04.676404Z",
     "iopub.status.busy": "2020-11-18T07:27:04.675570Z",
     "iopub.status.idle": "2020-11-18T07:27:04.731524Z",
     "shell.execute_reply": "2020-11-18T07:27:04.732240Z"
    },
    "scrolled": true
   },
   "outputs": [
    {
     "data": {
      "text/plain": [
       "{'x1': {'x1': array([[0.16796391],\n",
       "         [0.16796391],\n",
       "         [0.88547294],\n",
       "         [0.88547294],\n",
       "         [0.98829656],\n",
       "         [0.98829656],\n",
       "         [0.82572601],\n",
       "         [0.82572601],\n",
       "         [0.97829341],\n",
       "         [0.97829341],\n",
       "         [0.63248031],\n",
       "         [0.63248031],\n",
       "         [0.19899446],\n",
       "         [0.19899446],\n",
       "         [0.07211456],\n",
       "         [0.07211456],\n",
       "         [0.53131145],\n",
       "         [0.53131145],\n",
       "         [0.54074435],\n",
       "         [0.54074435],\n",
       "         [0.62233893],\n",
       "         [0.62233893],\n",
       "         [0.25979173],\n",
       "         [0.25979173],\n",
       "         [0.92022863],\n",
       "         [0.92022863],\n",
       "         [0.81115367],\n",
       "         [0.81115367],\n",
       "         [0.25378024],\n",
       "         [0.25378024],\n",
       "         [0.7537856 ],\n",
       "         [0.7537856 ],\n",
       "         [0.38584036],\n",
       "         [0.38584036],\n",
       "         [0.50191623],\n",
       "         [0.50191623],\n",
       "         [0.28860385],\n",
       "         [0.28860385],\n",
       "         [0.9694115 ],\n",
       "         [0.9694115 ],\n",
       "         [0.67904554],\n",
       "         [0.67904554],\n",
       "         [0.24912519],\n",
       "         [0.24912519],\n",
       "         [0.15213387],\n",
       "         [0.15213387],\n",
       "         [0.96791923],\n",
       "         [0.96791923],\n",
       "         [0.82229213],\n",
       "         [0.82229213],\n",
       "         [0.2858055 ],\n",
       "         [0.2858055 ],\n",
       "         [0.17028955],\n",
       "         [0.17028955],\n",
       "         [0.79637385],\n",
       "         [0.79637385],\n",
       "         [0.76224394],\n",
       "         [0.76224394],\n",
       "         [0.25033856],\n",
       "         [0.25033856],\n",
       "         [0.90744188],\n",
       "         [0.90744188],\n",
       "         [0.7247039 ],\n",
       "         [0.7247039 ],\n",
       "         [0.42719012],\n",
       "         [0.42719012],\n",
       "         [0.01829569],\n",
       "         [0.01829569],\n",
       "         [0.23042447],\n",
       "         [0.23042447],\n",
       "         [0.17605574],\n",
       "         [0.17605574],\n",
       "         [0.21908307],\n",
       "         [0.21908307],\n",
       "         [0.08652384],\n",
       "         [0.08652384],\n",
       "         [0.99512676],\n",
       "         [0.99512676],\n",
       "         [0.51191935],\n",
       "         [0.51191935],\n",
       "         [0.14989622],\n",
       "         [0.14989622],\n",
       "         [0.15255788],\n",
       "         [0.15255788],\n",
       "         [0.83794919],\n",
       "         [0.83794919],\n",
       "         [0.30009463],\n",
       "         [0.30009463],\n",
       "         [0.370893  ],\n",
       "         [0.370893  ],\n",
       "         [0.26882182],\n",
       "         [0.26882182],\n",
       "         [0.02717711],\n",
       "         [0.02717711],\n",
       "         [0.21254607],\n",
       "         [0.21254607],\n",
       "         [0.23175998],\n",
       "         [0.23175998],\n",
       "         [0.27490292],\n",
       "         [0.27490292],\n",
       "         [0.28660973],\n",
       "         [0.28660973],\n",
       "         [0.62970419],\n",
       "         [0.62970419],\n",
       "         [0.24021249],\n",
       "         [0.24021249],\n",
       "         [0.89552993],\n",
       "         [0.89552993],\n",
       "         [0.90234904],\n",
       "         [0.90234904],\n",
       "         [0.72602334],\n",
       "         [0.72602334],\n",
       "         [0.45510785],\n",
       "         [0.45510785],\n",
       "         [0.69891908],\n",
       "         [0.69891908],\n",
       "         [0.74788681],\n",
       "         [0.74788681],\n",
       "         [0.33735615],\n",
       "         [0.33735615],\n",
       "         [0.92165744],\n",
       "         [0.92165744],\n",
       "         [0.06672164],\n",
       "         [0.06672164],\n",
       "         [0.55239518],\n",
       "         [0.55239518],\n",
       "         [0.92077987],\n",
       "         [0.92077987],\n",
       "         [0.61677525],\n",
       "         [0.61677525],\n",
       "         [0.50781767],\n",
       "         [0.50781767],\n",
       "         [0.97101448],\n",
       "         [0.97101448],\n",
       "         [0.10247976],\n",
       "         [0.10247976],\n",
       "         [0.18070178],\n",
       "         [0.18070178],\n",
       "         [0.8469227 ],\n",
       "         [0.8469227 ],\n",
       "         [0.29849849],\n",
       "         [0.29849849],\n",
       "         [0.95579445],\n",
       "         [0.95579445],\n",
       "         [0.28031287],\n",
       "         [0.28031287],\n",
       "         [0.492767  ],\n",
       "         [0.492767  ],\n",
       "         [0.46707059],\n",
       "         [0.46707059],\n",
       "         [0.28623022],\n",
       "         [0.28623022],\n",
       "         [0.85301866],\n",
       "         [0.85301866],\n",
       "         [0.34396954],\n",
       "         [0.34396954],\n",
       "         [0.11337045],\n",
       "         [0.11337045],\n",
       "         [0.28938158],\n",
       "         [0.28938158],\n",
       "         [0.21979976],\n",
       "         [0.21979976],\n",
       "         [0.73804331],\n",
       "         [0.73804331],\n",
       "         [0.83853721],\n",
       "         [0.83853721],\n",
       "         [0.3946317 ],\n",
       "         [0.3946317 ],\n",
       "         [0.09634947],\n",
       "         [0.09634947],\n",
       "         [0.73563039],\n",
       "         [0.73563039],\n",
       "         [0.29281044],\n",
       "         [0.29281044],\n",
       "         [0.61879649],\n",
       "         [0.61879649],\n",
       "         [0.44495165],\n",
       "         [0.44495165],\n",
       "         [0.25482634],\n",
       "         [0.25482634],\n",
       "         [0.29875053],\n",
       "         [0.29875053],\n",
       "         [0.51307876],\n",
       "         [0.51307876],\n",
       "         [0.04232436],\n",
       "         [0.04232436],\n",
       "         [0.05181146],\n",
       "         [0.05181146],\n",
       "         [0.46510004],\n",
       "         [0.46510004],\n",
       "         [0.57150118],\n",
       "         [0.57150118],\n",
       "         [0.43849445],\n",
       "         [0.43849445],\n",
       "         [0.00693836],\n",
       "         [0.00693836],\n",
       "         [0.77370257],\n",
       "         [0.77370257],\n",
       "         [0.6661748 ],\n",
       "         [0.6661748 ]])}}"
      ]
     },
     "execution_count": 1,
     "metadata": {},
     "output_type": "execute_result"
    }
   ],
   "source": [
    "ds = load_by_id(run_id_a)\n",
    "ds.get_parameter_data('x1')"
   ]
  },
  {
   "cell_type": "code",
   "execution_count": null,
   "metadata": {},
   "outputs": [],
   "source": []
  }
 ],
 "metadata": {
  "kernelspec": {
   "display_name": "Python 3",
   "language": "python",
   "name": "python3"
  },
  "language_info": {
   "codemirror_mode": {
    "name": "ipython",
    "version": 3
   },
   "file_extension": ".py",
   "mimetype": "text/x-python",
   "name": "python",
   "nbconvert_exporter": "python",
   "pygments_lexer": "ipython3",
   "version": "3.7.9"
  },
  "nbsphinx": {
   "timeout": 600
  },
  "toc": {
   "base_numbering": 1,
   "nav_menu": {},
   "number_sections": true,
   "sideBar": true,
   "skip_h1_title": false,
   "title_cell": "Table of Contents",
   "title_sidebar": "Contents",
   "toc_cell": false,
   "toc_position": {},
   "toc_section_display": true,
   "toc_window_display": false
  },
  "varInspector": {
   "cols": {
    "lenName": 16,
    "lenType": 16,
    "lenVar": 40
   },
   "kernels_config": {
    "python": {
     "delete_cmd_postfix": "",
     "delete_cmd_prefix": "del ",
     "library": "var_list.py",
     "varRefreshCmd": "print(var_dic_list())"
    },
    "r": {
     "delete_cmd_postfix": ") ",
     "delete_cmd_prefix": "rm(",
     "library": "var_list.r",
     "varRefreshCmd": "cat(var_dic_list()) "
    }
   },
   "types_to_exclude": [
    "module",
    "function",
    "builtin_function_or_method",
    "instance",
    "_Feature"
   ],
   "window_display": false
  }
 },
 "nbformat": 4,
 "nbformat_minor": 2
}
