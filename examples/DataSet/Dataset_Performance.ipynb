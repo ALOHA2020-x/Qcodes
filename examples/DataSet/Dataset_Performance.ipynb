{
 "cells": [
  {
   "cell_type": "markdown",
   "metadata": {},
   "source": [
    "# DataSet Performance\n",
    "\n",
    "This notebook shows the trade-off between inserting data into a database row-by-row and as binary blobs. Inserting the data row-by-row means that we have direct access to all the data and may perform queries directly on the values of the data. On the other hand, as we shall see, this is much slower than inserting the data directly as binary blobs."
   ]
  },
  {
   "cell_type": "markdown",
   "metadata": {},
   "source": [
    "First, we choose a new location for the database to ensure that we don't add a bunch of benchmarking data to the default one."
   ]
  },
  {
   "cell_type": "code",
   "execution_count": 1,
   "metadata": {},
   "outputs": [
    {
     "name": "stdout",
     "output_type": "stream",
     "text": [
      "Logging hadn't been started.\n",
      "Activating auto-logging. Current session state plus future input saved.\n",
      "Filename       : /home/vsts/.qcodes/logs/command_history.log\n",
      "Mode           : append\n",
      "Output logging : True\n",
      "Raw input log  : False\n",
      "Timestamping   : True\n",
      "State          : active\n"
     ]
    },
    {
     "name": "stdout",
     "output_type": "stream",
     "text": [
      "Qcodes Logfile : /home/vsts/.qcodes/logs/200420-18904-qcodes.log\n"
     ]
    }
   ],
   "source": [
    "import os\n",
    "cwd = os.getcwd()\n",
    "import qcodes as qc\n",
    "qc.config[\"core\"][\"db_location\"] = os.path.join(cwd, 'testing.db')\n"
   ]
  },
  {
   "cell_type": "code",
   "execution_count": 2,
   "metadata": {},
   "outputs": [],
   "source": [
    "%matplotlib inline\n",
    "import time\n",
    "import matplotlib.pyplot as plt\n",
    "import numpy as np\n",
    "\n",
    "import qcodes as qc\n",
    "from qcodes.instrument.parameter import ManualParameter\n",
    "from qcodes.dataset.experiment_container import (Experiment,\n",
    "                                                 load_last_experiment,\n",
    "                                                 new_experiment)\n",
    "from qcodes.dataset.sqlite.database import initialise_database\n",
    "from qcodes import load_or_create_experiment\n",
    "from qcodes.dataset.measurements import Measurement"
   ]
  },
  {
   "cell_type": "code",
   "execution_count": 3,
   "metadata": {},
   "outputs": [
    {
     "name": "stdout",
     "output_type": "stream",
     "text": [
      "\r",
      "0it [00:00, ?it/s]"
     ]
    },
    {
     "name": "stdout",
     "output_type": "stream",
     "text": [
      "\r",
      "Upgrading database; v0 -> v1: : 0it [00:00, ?it/s]"
     ]
    },
    {
     "name": "stdout",
     "output_type": "stream",
     "text": [
      "\r",
      "Upgrading database; v0 -> v1: : 0it [00:00, ?it/s]"
     ]
    },
    {
     "name": "stdout",
     "output_type": "stream",
     "text": [
      "\n",
      "\r",
      "  0%|          | 0/1 [00:00<?, ?it/s]"
     ]
    },
    {
     "name": "stdout",
     "output_type": "stream",
     "text": [
      "\r",
      "Upgrading database; v1 -> v2:   0%|          | 0/1 [00:00<?, ?it/s]"
     ]
    },
    {
     "name": "stdout",
     "output_type": "stream",
     "text": [
      "\r",
      "Upgrading database; v1 -> v2: 100%|██████████| 1/1 [00:00<00:00, 989.92it/s]"
     ]
    },
    {
     "name": "stdout",
     "output_type": "stream",
     "text": [
      "\n",
      "\r",
      "0it [00:00, ?it/s]"
     ]
    },
    {
     "name": "stdout",
     "output_type": "stream",
     "text": [
      "\r",
      "Upgrading database; v2 -> v3: : 0it [00:00, ?it/s]"
     ]
    },
    {
     "name": "stdout",
     "output_type": "stream",
     "text": [
      "\r",
      "Upgrading database; v2 -> v3: : 0it [00:00, ?it/s]"
     ]
    },
    {
     "name": "stdout",
     "output_type": "stream",
     "text": [
      "\n",
      "\r",
      "0it [00:00, ?it/s]"
     ]
    },
    {
     "name": "stdout",
     "output_type": "stream",
     "text": [
      "\r",
      "Upgrading database; v3 -> v4: : 0it [00:00, ?it/s]"
     ]
    },
    {
     "name": "stdout",
     "output_type": "stream",
     "text": [
      "\r",
      "Upgrading database; v3 -> v4: : 0it [00:00, ?it/s]"
     ]
    },
    {
     "name": "stdout",
     "output_type": "stream",
     "text": [
      "\n",
      "\r",
      "  0%|          | 0/1 [00:00<?, ?it/s]"
     ]
    },
    {
     "name": "stdout",
     "output_type": "stream",
     "text": [
      "\r",
      "Upgrading database; v4 -> v5:   0%|          | 0/1 [00:00<?, ?it/s]"
     ]
    },
    {
     "name": "stdout",
     "output_type": "stream",
     "text": [
      "\r",
      "Upgrading database; v4 -> v5: 100%|██████████| 1/1 [00:00<00:00, 835.19it/s]"
     ]
    },
    {
     "name": "stdout",
     "output_type": "stream",
     "text": [
      "\n",
      "\r",
      "0it [00:00, ?it/s]"
     ]
    },
    {
     "name": "stdout",
     "output_type": "stream",
     "text": [
      "\r",
      "Upgrading database; v5 -> v6: : 0it [00:00, ?it/s]"
     ]
    },
    {
     "name": "stdout",
     "output_type": "stream",
     "text": [
      "\r",
      "Upgrading database; v5 -> v6: : 0it [00:00, ?it/s]"
     ]
    },
    {
     "name": "stdout",
     "output_type": "stream",
     "text": [
      "\n",
      "\r",
      "  0%|          | 0/1 [00:00<?, ?it/s]"
     ]
    },
    {
     "name": "stdout",
     "output_type": "stream",
     "text": [
      "\r",
      "Upgrading database; v6 -> v7:   0%|          | 0/1 [00:00<?, ?it/s]"
     ]
    },
    {
     "name": "stdout",
     "output_type": "stream",
     "text": [
      "\r",
      "Upgrading database; v6 -> v7: 100%|██████████| 1/1 [00:00<00:00, 333.89it/s]"
     ]
    },
    {
     "name": "stdout",
     "output_type": "stream",
     "text": [
      "\n",
      "\r",
      "  0%|          | 0/1 [00:00<?, ?it/s]"
     ]
    },
    {
     "name": "stdout",
     "output_type": "stream",
     "text": [
      "\r",
      "Upgrading database; v7 -> v8:   0%|          | 0/1 [00:00<?, ?it/s]"
     ]
    },
    {
     "name": "stdout",
     "output_type": "stream",
     "text": [
      "\r",
      "Upgrading database; v7 -> v8: 100%|██████████| 1/1 [00:00<00:00, 729.32it/s]"
     ]
    },
    {
     "name": "stdout",
     "output_type": "stream",
     "text": [
      "\n",
      "\r",
      "  0%|          | 0/1 [00:00<?, ?it/s]"
     ]
    },
    {
     "name": "stdout",
     "output_type": "stream",
     "text": [
      "\r",
      "Upgrading database; v8 -> v9:   0%|          | 0/1 [00:00<?, ?it/s]"
     ]
    },
    {
     "name": "stdout",
     "output_type": "stream",
     "text": [
      "\r",
      "Upgrading database; v8 -> v9: 100%|██████████| 1/1 [00:00<00:00, 1078.50it/s]"
     ]
    },
    {
     "name": "stdout",
     "output_type": "stream",
     "text": [
      "\n"
     ]
    }
   ],
   "source": [
    "initialise_database()\n",
    "exp = load_or_create_experiment(experiment_name='tutorial_exp', sample_name=\"no sample\")"
   ]
  },
  {
   "cell_type": "markdown",
   "metadata": {},
   "source": [
    "Here, we define a simple function to benchmark the time it takes to insert n points with either numeric or array data type.\n",
    "We will compare both the time used to call ``add_result`` and the time used for the full measurement."
   ]
  },
  {
   "cell_type": "code",
   "execution_count": 4,
   "metadata": {},
   "outputs": [],
   "source": [
    "def insert_data(paramtype, npoints, nreps=1):\n",
    "\n",
    "    meas = Measurement(exp=exp)\n",
    "\n",
    "    x1 = ManualParameter('x1')\n",
    "    x2 = ManualParameter('x2')\n",
    "    x3 = ManualParameter('x3')\n",
    "    y1 = ManualParameter('y1')\n",
    "    y2 = ManualParameter('y2')\n",
    "\n",
    "    meas.register_parameter(x1, paramtype=paramtype)\n",
    "    meas.register_parameter(x2, paramtype=paramtype)\n",
    "    meas.register_parameter(x3, paramtype=paramtype)\n",
    "    meas.register_parameter(y1, setpoints=[x1, x2, x3],\n",
    "                            paramtype=paramtype)\n",
    "    meas.register_parameter(y2, setpoints=[x1, x2, x3],\n",
    "                            paramtype=paramtype)\n",
    "    start = time.perf_counter()\n",
    "    with meas.run() as datasaver:\n",
    "        start_adding = time.perf_counter()\n",
    "        for i in range(nreps):\n",
    "            datasaver.add_result((x1, np.random.rand(npoints)),\n",
    "                                 (x2, np.random.rand(npoints)),\n",
    "                                 (x3, np.random.rand(npoints)),\n",
    "                                 (y1, np.random.rand(npoints)),\n",
    "                                 (y2, np.random.rand(npoints)))\n",
    "        stop_adding = time.perf_counter()\n",
    "        run_id = datasaver.run_id\n",
    "    stop = time.perf_counter()\n",
    "    tot_time = stop - start\n",
    "    add_time = stop_adding - start_adding\n",
    "    return tot_time, add_time, run_id"
   ]
  },
  {
   "cell_type": "markdown",
   "metadata": {},
   "source": [
    "## Comparison between numeric/array data and binary blob"
   ]
  },
  {
   "cell_type": "markdown",
   "metadata": {},
   "source": [
    "### Case1: Short experiment time"
   ]
  },
  {
   "cell_type": "code",
   "execution_count": 5,
   "metadata": {},
   "outputs": [
    {
     "name": "stdout",
     "output_type": "stream",
     "text": [
      "Starting experimental run with id: 1. \n",
      "Starting experimental run with id: 2. \n",
      "Starting experimental run with id: 3. \n"
     ]
    },
    {
     "name": "stdout",
     "output_type": "stream",
     "text": [
      "Starting experimental run with id: 4. \n"
     ]
    },
    {
     "name": "stdout",
     "output_type": "stream",
     "text": [
      "Starting experimental run with id: 5. \n"
     ]
    },
    {
     "name": "stdout",
     "output_type": "stream",
     "text": [
      "Starting experimental run with id: 6. \n"
     ]
    },
    {
     "name": "stdout",
     "output_type": "stream",
     "text": [
      "Starting experimental run with id: 7. \n"
     ]
    },
    {
     "name": "stdout",
     "output_type": "stream",
     "text": [
      "Starting experimental run with id: 8. \n",
      "Starting experimental run with id: 9. \n"
     ]
    },
    {
     "name": "stdout",
     "output_type": "stream",
     "text": [
      "Starting experimental run with id: 10. \n",
      "Starting experimental run with id: 11. \n"
     ]
    },
    {
     "name": "stdout",
     "output_type": "stream",
     "text": [
      "Starting experimental run with id: 12. \n"
     ]
    },
    {
     "name": "stdout",
     "output_type": "stream",
     "text": [
      "Starting experimental run with id: 13. \n"
     ]
    },
    {
     "name": "stdout",
     "output_type": "stream",
     "text": [
      "Starting experimental run with id: 14. \n"
     ]
    }
   ],
   "source": [
    "sizes = [1,500,1000,2000,3000,4000,5000]\n",
    "t_numeric = []\n",
    "t_numeric_add = []\n",
    "t_array = []\n",
    "t_array_add = []\n",
    "for size in sizes:\n",
    "    tn, tna, run_id_n =  insert_data('numeric', size)\n",
    "    t_numeric.append(tn)\n",
    "    t_numeric_add.append(tna)\n",
    "\n",
    "    ta, taa, run_id_a =  insert_data('array', size)\n",
    "    t_array.append(ta)\n",
    "    t_array_add.append(taa)"
   ]
  },
  {
   "cell_type": "code",
   "execution_count": 6,
   "metadata": {},
   "outputs": [
    {
     "data": {
      "image/png": "[encoded data removed]",
      "text/plain": [
       "<Figure size 432x288 with 1 Axes>"
      ]
     },
     "metadata": {
      "needs_background": "light"
     },
     "output_type": "display_data"
    }
   ],
   "source": [
    "fig, ax = plt.subplots(1,1)\n",
    "ax.plot(sizes, t_numeric, 'o-', label='Inserting row-by-row')\n",
    "ax.plot(sizes, t_numeric_add, 'o-', label='Inserting row-by-row: add_result only')\n",
    "ax.plot(sizes, t_array, 'd-', label='Inserting as binary blob')\n",
    "ax.plot(sizes, t_array_add, 'd-', label='Inserting as binary blob: add_result only')\n",
    "ax.legend()\n",
    "ax.set_xlabel('Array length')\n",
    "ax.set_ylabel('Time (s)')\n",
    "fig.tight_layout()"
   ]
  },
  {
   "cell_type": "markdown",
   "metadata": {},
   "source": [
    "As shown in the latter figure, the time to setup and and close the experiment is approximately 0.4 sec. In case of small array sizes, the difference between inserting values of data as arrays and inserting them row-by-row is relatively unimportant. At larger array sizes, i.e. above 10000 points, the cost of writing data as individual datapoints starts to become important.\n"
   ]
  },
  {
   "cell_type": "markdown",
   "metadata": {},
   "source": [
    "### Case2: Long experiment time "
   ]
  },
  {
   "cell_type": "code",
   "execution_count": 7,
   "metadata": {},
   "outputs": [
    {
     "name": "stdout",
     "output_type": "stream",
     "text": [
      "Starting experimental run with id: 15. \n",
      "Starting experimental run with id: 16. \n",
      "Starting experimental run with id: 17. \n"
     ]
    },
    {
     "name": "stdout",
     "output_type": "stream",
     "text": [
      "Starting experimental run with id: 18. \n",
      "Starting experimental run with id: 19. \n"
     ]
    },
    {
     "name": "stdout",
     "output_type": "stream",
     "text": [
      "Starting experimental run with id: 20. \n"
     ]
    },
    {
     "name": "stdout",
     "output_type": "stream",
     "text": [
      "Starting experimental run with id: 21. \n"
     ]
    },
    {
     "name": "stdout",
     "output_type": "stream",
     "text": [
      "Starting experimental run with id: 22. \n"
     ]
    },
    {
     "name": "stdout",
     "output_type": "stream",
     "text": [
      "Starting experimental run with id: 23. \n"
     ]
    },
    {
     "name": "stdout",
     "output_type": "stream",
     "text": [
      "Starting experimental run with id: 24. \n"
     ]
    },
    {
     "name": "stdout",
     "output_type": "stream",
     "text": [
      "Starting experimental run with id: 25. \n"
     ]
    },
    {
     "name": "stdout",
     "output_type": "stream",
     "text": [
      "Starting experimental run with id: 26. \n"
     ]
    },
    {
     "name": "stdout",
     "output_type": "stream",
     "text": [
      "Starting experimental run with id: 27. \n"
     ]
    },
    {
     "name": "stdout",
     "output_type": "stream",
     "text": [
      "Starting experimental run with id: 28. \n"
     ]
    }
   ],
   "source": [
    "sizes = [1,500,1000,2000,3000,4000,5000]\n",
    "nreps = 100\n",
    "t_numeric = []\n",
    "t_numeric_add = []\n",
    "t_numeric_run_ids = []\n",
    "t_array = []\n",
    "t_array_add = []\n",
    "t_array_run_ids = []\n",
    "for size in sizes:\n",
    "    tn, tna, run_id_n =  insert_data('numeric', size, nreps=nreps)\n",
    "    t_numeric.append(tn)\n",
    "    t_numeric_add.append(tna)\n",
    "    t_numeric_run_ids.append(run_id_n)\n",
    "\n",
    "    ta, taa, run_id_a =  insert_data('array', size, nreps=nreps)\n",
    "    t_array.append(ta)\n",
    "    t_array_add.append(taa)\n",
    "    t_array_run_ids.append(run_id_a)"
   ]
  },
  {
   "cell_type": "code",
   "execution_count": 8,
   "metadata": {
    "scrolled": true
   },
   "outputs": [
    {
     "data": {
      "image/png": "[encoded data removed]",
      "text/plain": [
       "<Figure size 432x288 with 1 Axes>"
      ]
     },
     "metadata": {
      "needs_background": "light"
     },
     "output_type": "display_data"
    }
   ],
   "source": [
    "fig, ax = plt.subplots(1,1)\n",
    "ax.plot(sizes, t_numeric, 'o-', label='Inserting row-by-row')\n",
    "ax.plot(sizes, t_numeric_add, 'o-', label='Inserting row-by-row: add_result only')\n",
    "ax.plot(sizes, t_array, 'd-', label='Inserting as binary blob')\n",
    "ax.plot(sizes, t_array_add, 'd-', label='Inserting as binary blob: add_result only')\n",
    "ax.legend()\n",
    "ax.set_xlabel('Array length')\n",
    "ax.set_ylabel('Time (s)')\n",
    "fig.tight_layout()"
   ]
  },
  {
   "cell_type": "markdown",
   "metadata": {},
   "source": [
    "However, as we increase the length of the experiment, as seen here by repeating the insertion 100 times, we see a big difference between inserting values of the data row-by-row and inserting it as a binary blob."
   ]
  },
  {
   "cell_type": "markdown",
   "metadata": {},
   "source": [
    "## Loading the data "
   ]
  },
  {
   "cell_type": "code",
   "execution_count": 9,
   "metadata": {},
   "outputs": [],
   "source": [
    "from qcodes.dataset.data_set import load_by_id\n",
    "from qcodes.dataset.data_export import get_data_by_id"
   ]
  },
  {
   "cell_type": "markdown",
   "metadata": {},
   "source": [
    "As usual you can load the data by using the ``load_by_id`` function but you will notice that the different storage methods\n",
    "are reflected in shape of the data as it is retrieved. "
   ]
  },
  {
   "cell_type": "code",
   "execution_count": 10,
   "metadata": {},
   "outputs": [],
   "source": [
    "run_id_n = t_numeric_run_ids[0]\n",
    "run_id_a = t_array_run_ids[0]"
   ]
  },
  {
   "cell_type": "code",
   "execution_count": 11,
   "metadata": {
    "scrolled": true
   },
   "outputs": [
    {
     "data": {
      "text/plain": [
       "{'x1': {'x1': array([0.02241115, 0.02241115, 0.25664345, 0.25664345, 0.76577814,\n",
       "         0.76577814, 0.866274  , 0.866274  , 0.61043586, 0.61043586,\n",
       "         0.61192084, 0.61192084, 0.24850177, 0.24850177, 0.46200855,\n",
       "         0.46200855, 0.19761549, 0.19761549, 0.75224692, 0.75224692,\n",
       "         0.40114765, 0.40114765, 0.33304536, 0.33304536, 0.4410662 ,\n",
       "         0.4410662 , 0.31293631, 0.31293631, 0.50594203, 0.50594203,\n",
       "         0.7335958 , 0.7335958 , 0.90341657, 0.90341657, 0.33580147,\n",
       "         0.33580147, 0.13541262, 0.13541262, 0.72429116, 0.72429116,\n",
       "         0.22369063, 0.22369063, 0.76826707, 0.76826707, 0.59775361,\n",
       "         0.59775361, 0.20305155, 0.20305155, 0.63538433, 0.63538433,\n",
       "         0.38277704, 0.38277704, 0.27344892, 0.27344892, 0.30107893,\n",
       "         0.30107893, 0.26333048, 0.26333048, 0.24778476, 0.24778476,\n",
       "         0.99061657, 0.99061657, 0.39479124, 0.39479124, 0.61639717,\n",
       "         0.61639717, 0.90493873, 0.90493873, 0.14520389, 0.14520389,\n",
       "         0.11917426, 0.11917426, 0.92546115, 0.92546115, 0.9865645 ,\n",
       "         0.9865645 , 0.1103858 , 0.1103858 , 0.58303544, 0.58303544,\n",
       "         0.18117251, 0.18117251, 0.69256756, 0.69256756, 0.99681392,\n",
       "         0.99681392, 0.97325979, 0.97325979, 0.60219315, 0.60219315,\n",
       "         0.50461271, 0.50461271, 0.76889845, 0.76889845, 0.88774349,\n",
       "         0.88774349, 0.36295527, 0.36295527, 0.9686977 , 0.9686977 ,\n",
       "         0.44120505, 0.44120505, 0.838108  , 0.838108  , 0.12995265,\n",
       "         0.12995265, 0.51557882, 0.51557882, 0.83693641, 0.83693641,\n",
       "         0.34919798, 0.34919798, 0.89370242, 0.89370242, 0.71562898,\n",
       "         0.71562898, 0.25314657, 0.25314657, 0.49230264, 0.49230264,\n",
       "         0.58268392, 0.58268392, 0.01489196, 0.01489196, 0.93142789,\n",
       "         0.93142789, 0.55895783, 0.55895783, 0.66376529, 0.66376529,\n",
       "         0.99800562, 0.99800562, 0.9820896 , 0.9820896 , 0.90951156,\n",
       "         0.90951156, 0.35582897, 0.35582897, 0.29934274, 0.29934274,\n",
       "         0.04127544, 0.04127544, 0.33469747, 0.33469747, 0.93871646,\n",
       "         0.93871646, 0.75708973, 0.75708973, 0.61907762, 0.61907762,\n",
       "         0.06144768, 0.06144768, 0.86515913, 0.86515913, 0.992305  ,\n",
       "         0.992305  , 0.94902951, 0.94902951, 0.15987845, 0.15987845,\n",
       "         0.50856096, 0.50856096, 0.35199106, 0.35199106, 0.03465188,\n",
       "         0.03465188, 0.27083688, 0.27083688, 0.76664411, 0.76664411,\n",
       "         0.27991443, 0.27991443, 0.50556617, 0.50556617, 0.90726594,\n",
       "         0.90726594, 0.35180929, 0.35180929, 0.23999078, 0.23999078,\n",
       "         0.87955142, 0.87955142, 0.27493148, 0.27493148, 0.88645764,\n",
       "         0.88645764, 0.13336279, 0.13336279, 0.98268337, 0.98268337,\n",
       "         0.22764368, 0.22764368, 0.27389278, 0.27389278, 0.61642467,\n",
       "         0.61642467, 0.22008879, 0.22008879, 0.92517247, 0.92517247])}}"
      ]
     },
     "execution_count": 11,
     "metadata": {},
     "output_type": "execute_result"
    }
   ],
   "source": [
    "ds = load_by_id(run_id_n)\n",
    "ds.get_parameter_data('x1')"
   ]
  },
  {
   "cell_type": "markdown",
   "metadata": {},
   "source": [
    "And a dataset stored as binary arrays"
   ]
  },
  {
   "cell_type": "code",
   "execution_count": 12,
   "metadata": {
    "scrolled": true
   },
   "outputs": [
    {
     "data": {
      "text/plain": [
       "{'x1': {'x1': array([[0.88067423],\n",
       "         [0.88067423],\n",
       "         [0.64708252],\n",
       "         [0.64708252],\n",
       "         [0.84354688],\n",
       "         [0.84354688],\n",
       "         [0.23469046],\n",
       "         [0.23469046],\n",
       "         [0.31654922],\n",
       "         [0.31654922],\n",
       "         [0.13480092],\n",
       "         [0.13480092],\n",
       "         [0.07368625],\n",
       "         [0.07368625],\n",
       "         [0.83717753],\n",
       "         [0.83717753],\n",
       "         [0.11523264],\n",
       "         [0.11523264],\n",
       "         [0.46683118],\n",
       "         [0.46683118],\n",
       "         [0.2636099 ],\n",
       "         [0.2636099 ],\n",
       "         [0.49520647],\n",
       "         [0.49520647],\n",
       "         [0.23638052],\n",
       "         [0.23638052],\n",
       "         [0.14071726],\n",
       "         [0.14071726],\n",
       "         [0.19679014],\n",
       "         [0.19679014],\n",
       "         [0.18050294],\n",
       "         [0.18050294],\n",
       "         [0.75040218],\n",
       "         [0.75040218],\n",
       "         [0.70974871],\n",
       "         [0.70974871],\n",
       "         [0.4951471 ],\n",
       "         [0.4951471 ],\n",
       "         [0.69891924],\n",
       "         [0.69891924],\n",
       "         [0.19547233],\n",
       "         [0.19547233],\n",
       "         [0.63058402],\n",
       "         [0.63058402],\n",
       "         [0.72952832],\n",
       "         [0.72952832],\n",
       "         [0.40051722],\n",
       "         [0.40051722],\n",
       "         [0.15763776],\n",
       "         [0.15763776],\n",
       "         [0.914442  ],\n",
       "         [0.914442  ],\n",
       "         [0.7730106 ],\n",
       "         [0.7730106 ],\n",
       "         [0.22749661],\n",
       "         [0.22749661],\n",
       "         [0.9438778 ],\n",
       "         [0.9438778 ],\n",
       "         [0.67814563],\n",
       "         [0.67814563],\n",
       "         [0.69798989],\n",
       "         [0.69798989],\n",
       "         [0.96267552],\n",
       "         [0.96267552],\n",
       "         [0.54707313],\n",
       "         [0.54707313],\n",
       "         [0.8567054 ],\n",
       "         [0.8567054 ],\n",
       "         [0.55437351],\n",
       "         [0.55437351],\n",
       "         [0.17449959],\n",
       "         [0.17449959],\n",
       "         [0.55239927],\n",
       "         [0.55239927],\n",
       "         [0.17282538],\n",
       "         [0.17282538],\n",
       "         [0.16297216],\n",
       "         [0.16297216],\n",
       "         [0.81392863],\n",
       "         [0.81392863],\n",
       "         [0.7922329 ],\n",
       "         [0.7922329 ],\n",
       "         [0.2645533 ],\n",
       "         [0.2645533 ],\n",
       "         [0.78697736],\n",
       "         [0.78697736],\n",
       "         [0.55199014],\n",
       "         [0.55199014],\n",
       "         [0.58398721],\n",
       "         [0.58398721],\n",
       "         [0.03499471],\n",
       "         [0.03499471],\n",
       "         [0.87670644],\n",
       "         [0.87670644],\n",
       "         [0.22446608],\n",
       "         [0.22446608],\n",
       "         [0.83969486],\n",
       "         [0.83969486],\n",
       "         [0.7253822 ],\n",
       "         [0.7253822 ],\n",
       "         [0.42336345],\n",
       "         [0.42336345],\n",
       "         [0.62994033],\n",
       "         [0.62994033],\n",
       "         [0.86081338],\n",
       "         [0.86081338],\n",
       "         [0.54580404],\n",
       "         [0.54580404],\n",
       "         [0.31012455],\n",
       "         [0.31012455],\n",
       "         [0.03655547],\n",
       "         [0.03655547],\n",
       "         [0.26221873],\n",
       "         [0.26221873],\n",
       "         [0.91194148],\n",
       "         [0.91194148],\n",
       "         [0.51555806],\n",
       "         [0.51555806],\n",
       "         [0.85947937],\n",
       "         [0.85947937],\n",
       "         [0.68091707],\n",
       "         [0.68091707],\n",
       "         [0.7320739 ],\n",
       "         [0.7320739 ],\n",
       "         [0.18408511],\n",
       "         [0.18408511],\n",
       "         [0.3454607 ],\n",
       "         [0.3454607 ],\n",
       "         [0.75269552],\n",
       "         [0.75269552],\n",
       "         [0.73825564],\n",
       "         [0.73825564],\n",
       "         [0.42540172],\n",
       "         [0.42540172],\n",
       "         [0.53544611],\n",
       "         [0.53544611],\n",
       "         [0.99864197],\n",
       "         [0.99864197],\n",
       "         [0.86949294],\n",
       "         [0.86949294],\n",
       "         [0.17405062],\n",
       "         [0.17405062],\n",
       "         [0.97573444],\n",
       "         [0.97573444],\n",
       "         [0.98417769],\n",
       "         [0.98417769],\n",
       "         [0.45406315],\n",
       "         [0.45406315],\n",
       "         [0.109807  ],\n",
       "         [0.109807  ],\n",
       "         [0.25286723],\n",
       "         [0.25286723],\n",
       "         [0.34074587],\n",
       "         [0.34074587],\n",
       "         [0.79518453],\n",
       "         [0.79518453],\n",
       "         [0.94368579],\n",
       "         [0.94368579],\n",
       "         [0.28547225],\n",
       "         [0.28547225],\n",
       "         [0.16061387],\n",
       "         [0.16061387],\n",
       "         [0.35803553],\n",
       "         [0.35803553],\n",
       "         [0.26786594],\n",
       "         [0.26786594],\n",
       "         [0.06553327],\n",
       "         [0.06553327],\n",
       "         [0.67359013],\n",
       "         [0.67359013],\n",
       "         [0.2028909 ],\n",
       "         [0.2028909 ],\n",
       "         [0.53724843],\n",
       "         [0.53724843],\n",
       "         [0.40268354],\n",
       "         [0.40268354],\n",
       "         [0.6996855 ],\n",
       "         [0.6996855 ],\n",
       "         [0.36968452],\n",
       "         [0.36968452],\n",
       "         [0.09219064],\n",
       "         [0.09219064],\n",
       "         [0.56837436],\n",
       "         [0.56837436],\n",
       "         [0.76420271],\n",
       "         [0.76420271],\n",
       "         [0.98690542],\n",
       "         [0.98690542],\n",
       "         [0.15218809],\n",
       "         [0.15218809],\n",
       "         [0.52497372],\n",
       "         [0.52497372],\n",
       "         [0.79763338],\n",
       "         [0.79763338],\n",
       "         [0.55203064],\n",
       "         [0.55203064],\n",
       "         [0.00149436],\n",
       "         [0.00149436],\n",
       "         [0.60771416],\n",
       "         [0.60771416]])}}"
      ]
     },
     "execution_count": 12,
     "metadata": {},
     "output_type": "execute_result"
    }
   ],
   "source": [
    "ds = load_by_id(run_id_a)\n",
    "ds.get_parameter_data('x1')"
   ]
  },
  {
   "cell_type": "code",
   "execution_count": null,
   "metadata": {},
   "outputs": [],
   "source": []
  }
 ],
 "metadata": {
  "kernelspec": {
   "display_name": "Python 3",
   "language": "python",
   "name": "python3"
  },
  "language_info": {
   "codemirror_mode": {
    "name": "ipython",
    "version": 3
   },
   "file_extension": ".py",
   "mimetype": "text/x-python",
   "name": "python",
   "nbconvert_exporter": "python",
   "pygments_lexer": "ipython3",
   "version": "3.7.7"
  },
  "nbsphinx": {
   "timeout": 600
  },
  "toc": {
   "base_numbering": 1,
   "nav_menu": {},
   "number_sections": true,
   "sideBar": true,
   "skip_h1_title": false,
   "title_cell": "Table of Contents",
   "title_sidebar": "Contents",
   "toc_cell": false,
   "toc_position": {},
   "toc_section_display": true,
   "toc_window_display": false
  },
  "varInspector": {
   "cols": {
    "lenName": 16,
    "lenType": 16,
    "lenVar": 40
   },
   "kernels_config": {
    "python": {
     "delete_cmd_postfix": "",
     "delete_cmd_prefix": "del ",
     "library": "var_list.py",
     "varRefreshCmd": "print(var_dic_list())"
    },
    "r": {
     "delete_cmd_postfix": ") ",
     "delete_cmd_prefix": "rm(",
     "library": "var_list.r",
     "varRefreshCmd": "cat(var_dic_list()) "
    }
   },
   "types_to_exclude": [
    "module",
    "function",
    "builtin_function_or_method",
    "instance",
    "_Feature"
   ],
   "window_display": false
  }
 },
 "nbformat": 4,
 "nbformat_minor": 2
}
