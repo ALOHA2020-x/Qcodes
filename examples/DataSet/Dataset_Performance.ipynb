{
 "cells": [
  {
   "cell_type": "markdown",
   "metadata": {},
   "source": [
    "# DataSet Performance\n",
    "\n",
    "This notebook shows the trade-off between inserting data into a database row-by-row and as binary blobs. Inserting the data row-by-row means that we have direct access to all the data and may perform queries directly on the values of the data. On the other hand, as we shall see, this is much slower than inserting the data directly as binary blobs."
   ]
  },
  {
   "cell_type": "markdown",
   "metadata": {},
   "source": [
    "First, we choose a new location for the database to ensure that we don't add a bunch of benchmarking data to the default one."
   ]
  },
  {
   "cell_type": "code",
   "execution_count": 1,
   "metadata": {
    "execution": {
     "iopub.execute_input": "2020-09-21T15:43:20.383892Z",
     "iopub.status.busy": "2020-09-21T15:43:20.383323Z",
     "iopub.status.idle": "2020-09-21T15:43:21.490069Z",
     "shell.execute_reply": "2020-09-21T15:43:21.489516Z"
    }
   },
   "outputs": [
    {
     "name": "stdout",
     "output_type": "stream",
     "text": [
      "Logging hadn't been started.\n",
      "Activating auto-logging. Current session state plus future input saved.\n",
      "Filename       : /home/vsts/.qcodes/logs/command_history.log\n",
      "Mode           : append\n",
      "Output logging : True\n",
      "Raw input log  : False\n",
      "Timestamping   : True\n",
      "State          : active\n"
     ]
    },
    {
     "name": "stdout",
     "output_type": "stream",
     "text": [
      "Qcodes Logfile : /home/vsts/.qcodes/logs/200921-18830-qcodes.log\n"
     ]
    }
   ],
   "source": [
    "import os\n",
    "cwd = os.getcwd()\n",
    "import qcodes as qc\n",
    "qc.config[\"core\"][\"db_location\"] = os.path.join(cwd, 'testing.db')\n"
   ]
  },
  {
   "cell_type": "code",
   "execution_count": 2,
   "metadata": {
    "execution": {
     "iopub.execute_input": "2020-09-21T15:43:21.496500Z",
     "iopub.status.busy": "2020-09-21T15:43:21.495633Z",
     "iopub.status.idle": "2020-09-21T15:43:21.702050Z",
     "shell.execute_reply": "2020-09-21T15:43:21.701472Z"
    }
   },
   "outputs": [],
   "source": [
    "%matplotlib inline\n",
    "import time\n",
    "import matplotlib.pyplot as plt\n",
    "import numpy as np\n",
    "\n",
    "import qcodes as qc\n",
    "from qcodes.instrument.parameter import ManualParameter\n",
    "from qcodes.dataset.experiment_container import (Experiment,\n",
    "                                                 load_last_experiment,\n",
    "                                                 new_experiment)\n",
    "from qcodes.dataset.sqlite.database import initialise_database\n",
    "from qcodes import load_or_create_experiment\n",
    "from qcodes.dataset.measurements import Measurement"
   ]
  },
  {
   "cell_type": "code",
   "execution_count": 3,
   "metadata": {
    "execution": {
     "iopub.execute_input": "2020-09-21T15:43:21.706136Z",
     "iopub.status.busy": "2020-09-21T15:43:21.705475Z",
     "iopub.status.idle": "2020-09-21T15:43:21.829711Z",
     "shell.execute_reply": "2020-09-21T15:43:21.829082Z"
    }
   },
   "outputs": [
    {
     "name": "stdout",
     "output_type": "stream",
     "text": [
      "\r",
      "0it [00:00, ?it/s]"
     ]
    },
    {
     "name": "stdout",
     "output_type": "stream",
     "text": [
      "\r",
      "Upgrading database; v0 -> v1: : 0it [00:00, ?it/s]"
     ]
    },
    {
     "name": "stdout",
     "output_type": "stream",
     "text": [
      "\r",
      "Upgrading database; v0 -> v1: : 0it [00:00, ?it/s]"
     ]
    },
    {
     "name": "stdout",
     "output_type": "stream",
     "text": [
      "\n",
      "\r",
      "  0%|          | 0/1 [00:00<?, ?it/s]"
     ]
    },
    {
     "name": "stdout",
     "output_type": "stream",
     "text": [
      "\r",
      "Upgrading database; v1 -> v2:   0%|          | 0/1 [00:00<?, ?it/s]"
     ]
    },
    {
     "name": "stdout",
     "output_type": "stream",
     "text": [
      "\r",
      "Upgrading database; v1 -> v2: 100%|██████████| 1/1 [00:00<00:00, 479.40it/s]"
     ]
    },
    {
     "name": "stdout",
     "output_type": "stream",
     "text": [
      "\n",
      "\r",
      "0it [00:00, ?it/s]"
     ]
    },
    {
     "name": "stdout",
     "output_type": "stream",
     "text": [
      "\r",
      "Upgrading database; v2 -> v3: : 0it [00:00, ?it/s]"
     ]
    },
    {
     "name": "stdout",
     "output_type": "stream",
     "text": [
      "\r",
      "Upgrading database; v2 -> v3: : 0it [00:00, ?it/s]"
     ]
    },
    {
     "name": "stdout",
     "output_type": "stream",
     "text": [
      "\n",
      "\r",
      "0it [00:00, ?it/s]"
     ]
    },
    {
     "name": "stdout",
     "output_type": "stream",
     "text": [
      "\r",
      "Upgrading database; v3 -> v4: : 0it [00:00, ?it/s]"
     ]
    },
    {
     "name": "stdout",
     "output_type": "stream",
     "text": [
      "\r",
      "Upgrading database; v3 -> v4: : 0it [00:00, ?it/s]"
     ]
    },
    {
     "name": "stdout",
     "output_type": "stream",
     "text": [
      "\n",
      "\r",
      "  0%|          | 0/1 [00:00<?, ?it/s]"
     ]
    },
    {
     "name": "stdout",
     "output_type": "stream",
     "text": [
      "\r",
      "Upgrading database; v4 -> v5:   0%|          | 0/1 [00:00<?, ?it/s]"
     ]
    },
    {
     "name": "stdout",
     "output_type": "stream",
     "text": [
      "\r",
      "Upgrading database; v4 -> v5: 100%|██████████| 1/1 [00:00<00:00, 503.16it/s]"
     ]
    },
    {
     "name": "stdout",
     "output_type": "stream",
     "text": [
      "\n",
      "\r",
      "0it [00:00, ?it/s]"
     ]
    },
    {
     "name": "stdout",
     "output_type": "stream",
     "text": [
      "\r",
      "Upgrading database; v5 -> v6: : 0it [00:00, ?it/s]"
     ]
    },
    {
     "name": "stdout",
     "output_type": "stream",
     "text": [
      "\r",
      "Upgrading database; v5 -> v6: : 0it [00:00, ?it/s]"
     ]
    },
    {
     "name": "stdout",
     "output_type": "stream",
     "text": [
      "\n",
      "\r",
      "  0%|          | 0/1 [00:00<?, ?it/s]"
     ]
    },
    {
     "name": "stdout",
     "output_type": "stream",
     "text": [
      "\r",
      "Upgrading database; v6 -> v7:   0%|          | 0/1 [00:00<?, ?it/s]"
     ]
    },
    {
     "name": "stdout",
     "output_type": "stream",
     "text": [
      "\r",
      "Upgrading database; v6 -> v7: 100%|██████████| 1/1 [00:00<00:00, 350.43it/s]"
     ]
    },
    {
     "name": "stdout",
     "output_type": "stream",
     "text": [
      "\n",
      "\r",
      "  0%|          | 0/1 [00:00<?, ?it/s]"
     ]
    },
    {
     "name": "stdout",
     "output_type": "stream",
     "text": [
      "\r",
      "Upgrading database; v7 -> v8:   0%|          | 0/1 [00:00<?, ?it/s]"
     ]
    },
    {
     "name": "stdout",
     "output_type": "stream",
     "text": [
      "\r",
      "Upgrading database; v7 -> v8: 100%|██████████| 1/1 [00:00<00:00, 365.90it/s]"
     ]
    },
    {
     "name": "stdout",
     "output_type": "stream",
     "text": [
      "\n",
      "\r",
      "  0%|          | 0/1 [00:00<?, ?it/s]"
     ]
    },
    {
     "name": "stdout",
     "output_type": "stream",
     "text": [
      "\r",
      "Upgrading database; v8 -> v9:   0%|          | 0/1 [00:00<?, ?it/s]"
     ]
    },
    {
     "name": "stdout",
     "output_type": "stream",
     "text": [
      "\r",
      "Upgrading database; v8 -> v9: 100%|██████████| 1/1 [00:00<00:00, 394.24it/s]"
     ]
    },
    {
     "name": "stdout",
     "output_type": "stream",
     "text": [
      "\n"
     ]
    }
   ],
   "source": [
    "initialise_database()\n",
    "exp = load_or_create_experiment(experiment_name='tutorial_exp', sample_name=\"no sample\")"
   ]
  },
  {
   "cell_type": "markdown",
   "metadata": {},
   "source": [
    "Here, we define a simple function to benchmark the time it takes to insert n points with either numeric or array data type.\n",
    "We will compare both the time used to call ``add_result`` and the time used for the full measurement."
   ]
  },
  {
   "cell_type": "code",
   "execution_count": 4,
   "metadata": {
    "execution": {
     "iopub.execute_input": "2020-09-21T15:43:21.838534Z",
     "iopub.status.busy": "2020-09-21T15:43:21.836747Z",
     "iopub.status.idle": "2020-09-21T15:43:21.841007Z",
     "shell.execute_reply": "2020-09-21T15:43:21.840433Z"
    }
   },
   "outputs": [],
   "source": [
    "def insert_data(paramtype, npoints, nreps=1):\n",
    "\n",
    "    meas = Measurement(exp=exp)\n",
    "\n",
    "    x1 = ManualParameter('x1')\n",
    "    x2 = ManualParameter('x2')\n",
    "    x3 = ManualParameter('x3')\n",
    "    y1 = ManualParameter('y1')\n",
    "    y2 = ManualParameter('y2')\n",
    "\n",
    "    meas.register_parameter(x1, paramtype=paramtype)\n",
    "    meas.register_parameter(x2, paramtype=paramtype)\n",
    "    meas.register_parameter(x3, paramtype=paramtype)\n",
    "    meas.register_parameter(y1, setpoints=[x1, x2, x3],\n",
    "                            paramtype=paramtype)\n",
    "    meas.register_parameter(y2, setpoints=[x1, x2, x3],\n",
    "                            paramtype=paramtype)\n",
    "    start = time.perf_counter()\n",
    "    with meas.run() as datasaver:\n",
    "        start_adding = time.perf_counter()\n",
    "        for i in range(nreps):\n",
    "            datasaver.add_result((x1, np.random.rand(npoints)),\n",
    "                                 (x2, np.random.rand(npoints)),\n",
    "                                 (x3, np.random.rand(npoints)),\n",
    "                                 (y1, np.random.rand(npoints)),\n",
    "                                 (y2, np.random.rand(npoints)))\n",
    "        stop_adding = time.perf_counter()\n",
    "        run_id = datasaver.run_id\n",
    "    stop = time.perf_counter()\n",
    "    tot_time = stop - start\n",
    "    add_time = stop_adding - start_adding\n",
    "    return tot_time, add_time, run_id"
   ]
  },
  {
   "cell_type": "markdown",
   "metadata": {},
   "source": [
    "## Comparison between numeric/array data and binary blob"
   ]
  },
  {
   "cell_type": "markdown",
   "metadata": {},
   "source": [
    "### Case1: Short experiment time"
   ]
  },
  {
   "cell_type": "code",
   "execution_count": 5,
   "metadata": {
    "execution": {
     "iopub.execute_input": "2020-09-21T15:43:21.847499Z",
     "iopub.status.busy": "2020-09-21T15:43:21.846448Z",
     "iopub.status.idle": "2020-09-21T15:43:22.796426Z",
     "shell.execute_reply": "2020-09-21T15:43:22.795952Z"
    }
   },
   "outputs": [
    {
     "name": "stdout",
     "output_type": "stream",
     "text": [
      "Starting experimental run with id: 1. \n",
      "Starting experimental run with id: 2. \n",
      "Starting experimental run with id: 3. \n",
      "Starting experimental run with id: 4. \n"
     ]
    },
    {
     "name": "stdout",
     "output_type": "stream",
     "text": [
      "Starting experimental run with id: 5. \n"
     ]
    },
    {
     "name": "stdout",
     "output_type": "stream",
     "text": [
      "Starting experimental run with id: 6. \n",
      "Starting experimental run with id: 7. \n"
     ]
    },
    {
     "name": "stdout",
     "output_type": "stream",
     "text": [
      "Starting experimental run with id: 8. \n"
     ]
    },
    {
     "name": "stdout",
     "output_type": "stream",
     "text": [
      "Starting experimental run with id: 9. \n"
     ]
    },
    {
     "name": "stdout",
     "output_type": "stream",
     "text": [
      "Starting experimental run with id: 10. \n",
      "Starting experimental run with id: 11. \n"
     ]
    },
    {
     "name": "stdout",
     "output_type": "stream",
     "text": [
      "Starting experimental run with id: 12. \n"
     ]
    },
    {
     "name": "stdout",
     "output_type": "stream",
     "text": [
      "Starting experimental run with id: 13. \n"
     ]
    },
    {
     "name": "stdout",
     "output_type": "stream",
     "text": [
      "Starting experimental run with id: 14. \n"
     ]
    }
   ],
   "source": [
    "sizes = [1,500,1000,2000,3000,4000,5000]\n",
    "t_numeric = []\n",
    "t_numeric_add = []\n",
    "t_array = []\n",
    "t_array_add = []\n",
    "for size in sizes:\n",
    "    tn, tna, run_id_n =  insert_data('numeric', size)\n",
    "    t_numeric.append(tn)\n",
    "    t_numeric_add.append(tna)\n",
    "\n",
    "    ta, taa, run_id_a =  insert_data('array', size)\n",
    "    t_array.append(ta)\n",
    "    t_array_add.append(taa)"
   ]
  },
  {
   "cell_type": "code",
   "execution_count": 6,
   "metadata": {
    "execution": {
     "iopub.execute_input": "2020-09-21T15:43:22.814865Z",
     "iopub.status.busy": "2020-09-21T15:43:22.814318Z",
     "iopub.status.idle": "2020-09-21T15:43:23.019834Z",
     "shell.execute_reply": "2020-09-21T15:43:23.019235Z"
    }
   },
   "outputs": [
    {
     "data": {
      "image/png": "[encoded data removed]",
      "text/plain": [
       "<Figure size 432x288 with 1 Axes>"
      ]
     },
     "metadata": {
      "needs_background": "light"
     },
     "output_type": "display_data"
    }
   ],
   "source": [
    "fig, ax = plt.subplots(1,1)\n",
    "ax.plot(sizes, t_numeric, 'o-', label='Inserting row-by-row')\n",
    "ax.plot(sizes, t_numeric_add, 'o-', label='Inserting row-by-row: add_result only')\n",
    "ax.plot(sizes, t_array, 'd-', label='Inserting as binary blob')\n",
    "ax.plot(sizes, t_array_add, 'd-', label='Inserting as binary blob: add_result only')\n",
    "ax.legend()\n",
    "ax.set_xlabel('Array length')\n",
    "ax.set_ylabel('Time (s)')\n",
    "fig.tight_layout()"
   ]
  },
  {
   "cell_type": "markdown",
   "metadata": {},
   "source": [
    "As shown in the latter figure, the time to setup and and close the experiment is approximately 0.4 sec. In case of small array sizes, the difference between inserting values of data as arrays and inserting them row-by-row is relatively unimportant. At larger array sizes, i.e. above 10000 points, the cost of writing data as individual datapoints starts to become important.\n"
   ]
  },
  {
   "cell_type": "markdown",
   "metadata": {},
   "source": [
    "### Case2: Long experiment time "
   ]
  },
  {
   "cell_type": "code",
   "execution_count": 7,
   "metadata": {
    "execution": {
     "iopub.execute_input": "2020-09-21T15:43:23.027046Z",
     "iopub.status.busy": "2020-09-21T15:43:23.025900Z",
     "iopub.status.idle": "2020-09-21T15:44:25.989353Z",
     "shell.execute_reply": "2020-09-21T15:44:25.988363Z"
    }
   },
   "outputs": [
    {
     "name": "stdout",
     "output_type": "stream",
     "text": [
      "Starting experimental run with id: 15. \n",
      "Starting experimental run with id: 16. \n",
      "Starting experimental run with id: 17. \n"
     ]
    },
    {
     "name": "stdout",
     "output_type": "stream",
     "text": [
      "Starting experimental run with id: 18. \n",
      "Starting experimental run with id: 19. \n"
     ]
    },
    {
     "name": "stdout",
     "output_type": "stream",
     "text": [
      "Starting experimental run with id: 20. \n"
     ]
    },
    {
     "name": "stdout",
     "output_type": "stream",
     "text": [
      "Starting experimental run with id: 21. \n"
     ]
    },
    {
     "name": "stdout",
     "output_type": "stream",
     "text": [
      "Starting experimental run with id: 22. \n"
     ]
    },
    {
     "name": "stdout",
     "output_type": "stream",
     "text": [
      "Starting experimental run with id: 23. \n"
     ]
    },
    {
     "name": "stdout",
     "output_type": "stream",
     "text": [
      "Starting experimental run with id: 24. \n"
     ]
    },
    {
     "name": "stdout",
     "output_type": "stream",
     "text": [
      "Starting experimental run with id: 25. \n"
     ]
    },
    {
     "name": "stdout",
     "output_type": "stream",
     "text": [
      "Starting experimental run with id: 26. \n"
     ]
    },
    {
     "name": "stdout",
     "output_type": "stream",
     "text": [
      "Starting experimental run with id: 27. \n"
     ]
    },
    {
     "name": "stdout",
     "output_type": "stream",
     "text": [
      "Starting experimental run with id: 28. \n"
     ]
    }
   ],
   "source": [
    "sizes = [1,500,1000,2000,3000,4000,5000]\n",
    "nreps = 100\n",
    "t_numeric = []\n",
    "t_numeric_add = []\n",
    "t_numeric_run_ids = []\n",
    "t_array = []\n",
    "t_array_add = []\n",
    "t_array_run_ids = []\n",
    "for size in sizes:\n",
    "    tn, tna, run_id_n =  insert_data('numeric', size, nreps=nreps)\n",
    "    t_numeric.append(tn)\n",
    "    t_numeric_add.append(tna)\n",
    "    t_numeric_run_ids.append(run_id_n)\n",
    "\n",
    "    ta, taa, run_id_a =  insert_data('array', size, nreps=nreps)\n",
    "    t_array.append(ta)\n",
    "    t_array_add.append(taa)\n",
    "    t_array_run_ids.append(run_id_a)"
   ]
  },
  {
   "cell_type": "code",
   "execution_count": 8,
   "metadata": {
    "execution": {
     "iopub.execute_input": "2020-09-21T15:44:26.010280Z",
     "iopub.status.busy": "2020-09-21T15:44:26.008924Z",
     "iopub.status.idle": "2020-09-21T15:44:26.227644Z",
     "shell.execute_reply": "2020-09-21T15:44:26.227005Z"
    },
    "scrolled": true
   },
   "outputs": [
    {
     "data": {
      "image/png": "[encoded data removed]",
      "text/plain": [
       "<Figure size 432x288 with 1 Axes>"
      ]
     },
     "metadata": {
      "needs_background": "light"
     },
     "output_type": "display_data"
    }
   ],
   "source": [
    "fig, ax = plt.subplots(1,1)\n",
    "ax.plot(sizes, t_numeric, 'o-', label='Inserting row-by-row')\n",
    "ax.plot(sizes, t_numeric_add, 'o-', label='Inserting row-by-row: add_result only')\n",
    "ax.plot(sizes, t_array, 'd-', label='Inserting as binary blob')\n",
    "ax.plot(sizes, t_array_add, 'd-', label='Inserting as binary blob: add_result only')\n",
    "ax.legend()\n",
    "ax.set_xlabel('Array length')\n",
    "ax.set_ylabel('Time (s)')\n",
    "fig.tight_layout()"
   ]
  },
  {
   "cell_type": "markdown",
   "metadata": {},
   "source": [
    "However, as we increase the length of the experiment, as seen here by repeating the insertion 100 times, we see a big difference between inserting values of the data row-by-row and inserting it as a binary blob."
   ]
  },
  {
   "cell_type": "markdown",
   "metadata": {},
   "source": [
    "## Loading the data "
   ]
  },
  {
   "cell_type": "code",
   "execution_count": 9,
   "metadata": {
    "execution": {
     "iopub.execute_input": "2020-09-21T15:44:26.232307Z",
     "iopub.status.busy": "2020-09-21T15:44:26.231426Z",
     "iopub.status.idle": "2020-09-21T15:44:26.235117Z",
     "shell.execute_reply": "2020-09-21T15:44:26.235603Z"
    }
   },
   "outputs": [],
   "source": [
    "from qcodes.dataset.data_set import load_by_id\n",
    "from qcodes.dataset.data_export import get_data_by_id"
   ]
  },
  {
   "cell_type": "markdown",
   "metadata": {},
   "source": [
    "As usual you can load the data by using the ``load_by_id`` function but you will notice that the different storage methods\n",
    "are reflected in shape of the data as it is retrieved. "
   ]
  },
  {
   "cell_type": "code",
   "execution_count": 10,
   "metadata": {
    "execution": {
     "iopub.execute_input": "2020-09-21T15:44:26.238982Z",
     "iopub.status.busy": "2020-09-21T15:44:26.237618Z",
     "iopub.status.idle": "2020-09-21T15:44:26.242220Z",
     "shell.execute_reply": "2020-09-21T15:44:26.241677Z"
    }
   },
   "outputs": [],
   "source": [
    "run_id_n = t_numeric_run_ids[0]\n",
    "run_id_a = t_array_run_ids[0]"
   ]
  },
  {
   "cell_type": "code",
   "execution_count": 11,
   "metadata": {
    "execution": {
     "iopub.execute_input": "2020-09-21T15:44:26.245731Z",
     "iopub.status.busy": "2020-09-21T15:44:26.245153Z",
     "iopub.status.idle": "2020-09-21T15:44:26.256674Z",
     "shell.execute_reply": "2020-09-21T15:44:26.257251Z"
    },
    "scrolled": true
   },
   "outputs": [
    {
     "data": {
      "text/plain": [
       "{'x1': {'x1': array([0.08584205, 0.08584205, 0.49628358, 0.49628358, 0.37281053,\n",
       "         0.37281053, 0.79696603, 0.79696603, 0.28814417, 0.28814417,\n",
       "         0.06603895, 0.06603895, 0.40046596, 0.40046596, 0.93622738,\n",
       "         0.93622738, 0.25560517, 0.25560517, 0.2473672 , 0.2473672 ,\n",
       "         0.01992272, 0.01992272, 0.28776195, 0.28776195, 0.5926193 ,\n",
       "         0.5926193 , 0.4518683 , 0.4518683 , 0.14074585, 0.14074585,\n",
       "         0.32546913, 0.32546913, 0.1994837 , 0.1994837 , 0.03325194,\n",
       "         0.03325194, 0.97519849, 0.97519849, 0.63358598, 0.63358598,\n",
       "         0.61795125, 0.61795125, 0.83266864, 0.83266864, 0.57562291,\n",
       "         0.57562291, 0.0281794 , 0.0281794 , 0.97447869, 0.97447869,\n",
       "         0.90517747, 0.90517747, 0.46136153, 0.46136153, 0.23143214,\n",
       "         0.23143214, 0.29826136, 0.29826136, 0.3083829 , 0.3083829 ,\n",
       "         0.99607283, 0.99607283, 0.43269939, 0.43269939, 0.78232806,\n",
       "         0.78232806, 0.85646128, 0.85646128, 0.8076437 , 0.8076437 ,\n",
       "         0.13517128, 0.13517128, 0.91904538, 0.91904538, 0.10431153,\n",
       "         0.10431153, 0.82191677, 0.82191677, 0.23553616, 0.23553616,\n",
       "         0.38981194, 0.38981194, 0.93236839, 0.93236839, 0.96725543,\n",
       "         0.96725543, 0.61832752, 0.61832752, 0.8462687 , 0.8462687 ,\n",
       "         0.16871697, 0.16871697, 0.6601756 , 0.6601756 , 0.84146029,\n",
       "         0.84146029, 0.22450274, 0.22450274, 0.05721822, 0.05721822,\n",
       "         0.70982066, 0.70982066, 0.37525462, 0.37525462, 0.82598645,\n",
       "         0.82598645, 0.04407394, 0.04407394, 0.66529455, 0.66529455,\n",
       "         0.10516147, 0.10516147, 0.5926621 , 0.5926621 , 0.70041994,\n",
       "         0.70041994, 0.68349869, 0.68349869, 0.27715274, 0.27715274,\n",
       "         0.88331114, 0.88331114, 0.47389291, 0.47389291, 0.90235712,\n",
       "         0.90235712, 0.77457569, 0.77457569, 0.81613243, 0.81613243,\n",
       "         0.25425103, 0.25425103, 0.47715742, 0.47715742, 0.58927584,\n",
       "         0.58927584, 0.29511256, 0.29511256, 0.75158268, 0.75158268,\n",
       "         0.0727636 , 0.0727636 , 0.44473157, 0.44473157, 0.600554  ,\n",
       "         0.600554  , 0.46158693, 0.46158693, 0.56724451, 0.56724451,\n",
       "         0.86996244, 0.86996244, 0.22296154, 0.22296154, 0.23593908,\n",
       "         0.23593908, 0.49648368, 0.49648368, 0.8475534 , 0.8475534 ,\n",
       "         0.71344171, 0.71344171, 0.45606744, 0.45606744, 0.09715453,\n",
       "         0.09715453, 0.95745232, 0.95745232, 0.03556008, 0.03556008,\n",
       "         0.14006457, 0.14006457, 0.0652098 , 0.0652098 , 0.10961111,\n",
       "         0.10961111, 0.57239538, 0.57239538, 0.11036053, 0.11036053,\n",
       "         0.27476766, 0.27476766, 0.27078844, 0.27078844, 0.19332335,\n",
       "         0.19332335, 0.57081241, 0.57081241, 0.69663864, 0.69663864,\n",
       "         0.10503071, 0.10503071, 0.90324382, 0.90324382, 0.34677187,\n",
       "         0.34677187, 0.46962213, 0.46962213, 0.96565353, 0.96565353])}}"
      ]
     },
     "execution_count": 1,
     "metadata": {},
     "output_type": "execute_result"
    }
   ],
   "source": [
    "ds = load_by_id(run_id_n)\n",
    "ds.get_parameter_data('x1')"
   ]
  },
  {
   "cell_type": "markdown",
   "metadata": {},
   "source": [
    "And a dataset stored as binary arrays"
   ]
  },
  {
   "cell_type": "code",
   "execution_count": 12,
   "metadata": {
    "execution": {
     "iopub.execute_input": "2020-09-21T15:44:26.260737Z",
     "iopub.status.busy": "2020-09-21T15:44:26.260163Z",
     "iopub.status.idle": "2020-09-21T15:44:26.331539Z",
     "shell.execute_reply": "2020-09-21T15:44:26.332157Z"
    },
    "scrolled": true
   },
   "outputs": [
    {
     "data": {
      "text/plain": [
       "{'x1': {'x1': array([[0.33975917],\n",
       "         [0.33975917],\n",
       "         [0.49083476],\n",
       "         [0.49083476],\n",
       "         [0.47593999],\n",
       "         [0.47593999],\n",
       "         [0.93615087],\n",
       "         [0.93615087],\n",
       "         [0.51818599],\n",
       "         [0.51818599],\n",
       "         [0.9872994 ],\n",
       "         [0.9872994 ],\n",
       "         [0.7933949 ],\n",
       "         [0.7933949 ],\n",
       "         [0.65028872],\n",
       "         [0.65028872],\n",
       "         [0.91592403],\n",
       "         [0.91592403],\n",
       "         [0.601872  ],\n",
       "         [0.601872  ],\n",
       "         [0.3881791 ],\n",
       "         [0.3881791 ],\n",
       "         [0.1077008 ],\n",
       "         [0.1077008 ],\n",
       "         [0.36041415],\n",
       "         [0.36041415],\n",
       "         [0.79755938],\n",
       "         [0.79755938],\n",
       "         [0.80646907],\n",
       "         [0.80646907],\n",
       "         [0.49052263],\n",
       "         [0.49052263],\n",
       "         [0.65774209],\n",
       "         [0.65774209],\n",
       "         [0.1621129 ],\n",
       "         [0.1621129 ],\n",
       "         [0.84686623],\n",
       "         [0.84686623],\n",
       "         [0.95016363],\n",
       "         [0.95016363],\n",
       "         [0.02042648],\n",
       "         [0.02042648],\n",
       "         [0.50801071],\n",
       "         [0.50801071],\n",
       "         [0.94107299],\n",
       "         [0.94107299],\n",
       "         [0.78057827],\n",
       "         [0.78057827],\n",
       "         [0.68018503],\n",
       "         [0.68018503],\n",
       "         [0.28502238],\n",
       "         [0.28502238],\n",
       "         [0.03600584],\n",
       "         [0.03600584],\n",
       "         [0.05145074],\n",
       "         [0.05145074],\n",
       "         [0.6028333 ],\n",
       "         [0.6028333 ],\n",
       "         [0.34932529],\n",
       "         [0.34932529],\n",
       "         [0.24119817],\n",
       "         [0.24119817],\n",
       "         [0.906841  ],\n",
       "         [0.906841  ],\n",
       "         [0.17363196],\n",
       "         [0.17363196],\n",
       "         [0.51188739],\n",
       "         [0.51188739],\n",
       "         [0.5366817 ],\n",
       "         [0.5366817 ],\n",
       "         [0.23971263],\n",
       "         [0.23971263],\n",
       "         [0.77890293],\n",
       "         [0.77890293],\n",
       "         [0.8547023 ],\n",
       "         [0.8547023 ],\n",
       "         [0.01191293],\n",
       "         [0.01191293],\n",
       "         [0.84393779],\n",
       "         [0.84393779],\n",
       "         [0.49371566],\n",
       "         [0.49371566],\n",
       "         [0.05764429],\n",
       "         [0.05764429],\n",
       "         [0.91272955],\n",
       "         [0.91272955],\n",
       "         [0.16146664],\n",
       "         [0.16146664],\n",
       "         [0.9841685 ],\n",
       "         [0.9841685 ],\n",
       "         [0.83098655],\n",
       "         [0.83098655],\n",
       "         [0.4604103 ],\n",
       "         [0.4604103 ],\n",
       "         [0.19826577],\n",
       "         [0.19826577],\n",
       "         [0.07221543],\n",
       "         [0.07221543],\n",
       "         [0.57218856],\n",
       "         [0.57218856],\n",
       "         [0.8372396 ],\n",
       "         [0.8372396 ],\n",
       "         [0.96902803],\n",
       "         [0.96902803],\n",
       "         [0.55164482],\n",
       "         [0.55164482],\n",
       "         [0.28011901],\n",
       "         [0.28011901],\n",
       "         [0.22620491],\n",
       "         [0.22620491],\n",
       "         [0.63881468],\n",
       "         [0.63881468],\n",
       "         [0.23654154],\n",
       "         [0.23654154],\n",
       "         [0.81827124],\n",
       "         [0.81827124],\n",
       "         [0.97674771],\n",
       "         [0.97674771],\n",
       "         [0.01224865],\n",
       "         [0.01224865],\n",
       "         [0.60501468],\n",
       "         [0.60501468],\n",
       "         [0.51292602],\n",
       "         [0.51292602],\n",
       "         [0.56900959],\n",
       "         [0.56900959],\n",
       "         [0.57237098],\n",
       "         [0.57237098],\n",
       "         [0.14398348],\n",
       "         [0.14398348],\n",
       "         [0.77629233],\n",
       "         [0.77629233],\n",
       "         [0.45821671],\n",
       "         [0.45821671],\n",
       "         [0.20780769],\n",
       "         [0.20780769],\n",
       "         [0.47693263],\n",
       "         [0.47693263],\n",
       "         [0.37131115],\n",
       "         [0.37131115],\n",
       "         [0.12277479],\n",
       "         [0.12277479],\n",
       "         [0.08779507],\n",
       "         [0.08779507],\n",
       "         [0.15171028],\n",
       "         [0.15171028],\n",
       "         [0.87061892],\n",
       "         [0.87061892],\n",
       "         [0.39288943],\n",
       "         [0.39288943],\n",
       "         [0.69026027],\n",
       "         [0.69026027],\n",
       "         [0.87785728],\n",
       "         [0.87785728],\n",
       "         [0.89501862],\n",
       "         [0.89501862],\n",
       "         [0.62305937],\n",
       "         [0.62305937],\n",
       "         [0.10993714],\n",
       "         [0.10993714],\n",
       "         [0.5517105 ],\n",
       "         [0.5517105 ],\n",
       "         [0.40843069],\n",
       "         [0.40843069],\n",
       "         [0.65404863],\n",
       "         [0.65404863],\n",
       "         [0.30420599],\n",
       "         [0.30420599],\n",
       "         [0.46621993],\n",
       "         [0.46621993],\n",
       "         [0.30186642],\n",
       "         [0.30186642],\n",
       "         [0.77015801],\n",
       "         [0.77015801],\n",
       "         [0.76295771],\n",
       "         [0.76295771],\n",
       "         [0.26685332],\n",
       "         [0.26685332],\n",
       "         [0.23991035],\n",
       "         [0.23991035],\n",
       "         [0.38515834],\n",
       "         [0.38515834],\n",
       "         [0.94691134],\n",
       "         [0.94691134],\n",
       "         [0.06657444],\n",
       "         [0.06657444],\n",
       "         [0.04513714],\n",
       "         [0.04513714],\n",
       "         [0.42407171],\n",
       "         [0.42407171],\n",
       "         [0.63187198],\n",
       "         [0.63187198],\n",
       "         [0.28711307],\n",
       "         [0.28711307],\n",
       "         [0.70207012],\n",
       "         [0.70207012],\n",
       "         [0.4605931 ],\n",
       "         [0.4605931 ],\n",
       "         [0.07480123],\n",
       "         [0.07480123]])}}"
      ]
     },
     "execution_count": 1,
     "metadata": {},
     "output_type": "execute_result"
    }
   ],
   "source": [
    "ds = load_by_id(run_id_a)\n",
    "ds.get_parameter_data('x1')"
   ]
  },
  {
   "cell_type": "code",
   "execution_count": null,
   "metadata": {},
   "outputs": [],
   "source": []
  }
 ],
 "metadata": {
  "kernelspec": {
   "display_name": "Python 3",
   "language": "python",
   "name": "python3"
  },
  "language_info": {
   "codemirror_mode": {
    "name": "ipython",
    "version": 3
   },
   "file_extension": ".py",
   "mimetype": "text/x-python",
   "name": "python",
   "nbconvert_exporter": "python",
   "pygments_lexer": "ipython3",
   "version": "3.7.7"
  },
  "nbsphinx": {
   "timeout": 600
  },
  "toc": {
   "base_numbering": 1,
   "nav_menu": {},
   "number_sections": true,
   "sideBar": true,
   "skip_h1_title": false,
   "title_cell": "Table of Contents",
   "title_sidebar": "Contents",
   "toc_cell": false,
   "toc_position": {},
   "toc_section_display": true,
   "toc_window_display": false
  },
  "varInspector": {
   "cols": {
    "lenName": 16,
    "lenType": 16,
    "lenVar": 40
   },
   "kernels_config": {
    "python": {
     "delete_cmd_postfix": "",
     "delete_cmd_prefix": "del ",
     "library": "var_list.py",
     "varRefreshCmd": "print(var_dic_list())"
    },
    "r": {
     "delete_cmd_postfix": ") ",
     "delete_cmd_prefix": "rm(",
     "library": "var_list.r",
     "varRefreshCmd": "cat(var_dic_list()) "
    }
   },
   "types_to_exclude": [
    "module",
    "function",
    "builtin_function_or_method",
    "instance",
    "_Feature"
   ],
   "window_display": false
  }
 },
 "nbformat": 4,
 "nbformat_minor": 2
}
