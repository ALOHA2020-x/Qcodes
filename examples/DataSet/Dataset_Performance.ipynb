{
 "cells": [
  {
   "cell_type": "markdown",
   "metadata": {},
   "source": [
    "# DataSet Performance\n",
    "\n",
    "This notebook shows the trade-off between inserting data into a database row-by-row and as binary blobs. Inserting the data row-by-row means that we have direct access to all the data and may perform queries directly on the values of the data. On the other hand, as we shall see, this is much slower than inserting the data directly as binary blobs."
   ]
  },
  {
   "cell_type": "markdown",
   "metadata": {},
   "source": [
    "First, we choose a new location for the database to ensure that we don't add a bunch of benchmarking data to the default one."
   ]
  },
  {
   "cell_type": "code",
   "execution_count": 1,
   "metadata": {
    "execution": {
     "iopub.execute_input": "2020-12-08T10:20:14.240895Z",
     "iopub.status.busy": "2020-12-08T10:20:14.240017Z",
     "iopub.status.idle": "2020-12-08T10:20:15.241007Z",
     "shell.execute_reply": "2020-12-08T10:20:15.240150Z"
    }
   },
   "outputs": [
    {
     "name": "stdout",
     "output_type": "stream",
     "text": [
      "Logging hadn't been started.\n",
      "Activating auto-logging. Current session state plus future input saved.\n",
      "Filename       : /home/vsts/.qcodes/logs/command_history.log\n",
      "Mode           : append\n",
      "Output logging : True\n",
      "Raw input log  : False\n",
      "Timestamping   : True\n",
      "State          : active\n"
     ]
    },
    {
     "name": "stdout",
     "output_type": "stream",
     "text": [
      "Qcodes Logfile : /home/vsts/.qcodes/logs/201208-14090-qcodes.log\n"
     ]
    }
   ],
   "source": [
    "import os\n",
    "cwd = os.getcwd()\n",
    "import qcodes as qc\n",
    "qc.config[\"core\"][\"db_location\"] = os.path.join(cwd, 'testing.db')\n"
   ]
  },
  {
   "cell_type": "code",
   "execution_count": 2,
   "metadata": {
    "execution": {
     "iopub.execute_input": "2020-12-08T10:20:15.248157Z",
     "iopub.status.busy": "2020-12-08T10:20:15.246445Z",
     "iopub.status.idle": "2020-12-08T10:20:15.436750Z",
     "shell.execute_reply": "2020-12-08T10:20:15.437313Z"
    }
   },
   "outputs": [],
   "source": [
    "%matplotlib inline\n",
    "import time\n",
    "import matplotlib.pyplot as plt\n",
    "import numpy as np\n",
    "\n",
    "import qcodes as qc\n",
    "from qcodes.instrument.parameter import ManualParameter\n",
    "from qcodes.dataset.experiment_container import (Experiment,\n",
    "                                                 load_last_experiment,\n",
    "                                                 new_experiment)\n",
    "from qcodes.dataset.sqlite.database import initialise_database\n",
    "from qcodes import load_or_create_experiment\n",
    "from qcodes.dataset.measurements import Measurement"
   ]
  },
  {
   "cell_type": "code",
   "execution_count": 3,
   "metadata": {
    "execution": {
     "iopub.execute_input": "2020-12-08T10:20:15.441605Z",
     "iopub.status.busy": "2020-12-08T10:20:15.440816Z",
     "iopub.status.idle": "2020-12-08T10:20:15.575160Z",
     "shell.execute_reply": "2020-12-08T10:20:15.574485Z"
    }
   },
   "outputs": [
    {
     "name": "stdout",
     "output_type": "stream",
     "text": [
      "\r",
      "0it [00:00, ?it/s]"
     ]
    },
    {
     "name": "stdout",
     "output_type": "stream",
     "text": [
      "\r",
      "Upgrading database; v0 -> v1: : 0it [00:00, ?it/s]"
     ]
    },
    {
     "name": "stdout",
     "output_type": "stream",
     "text": [
      "\r",
      "Upgrading database; v0 -> v1: : 0it [00:00, ?it/s]"
     ]
    },
    {
     "name": "stdout",
     "output_type": "stream",
     "text": [
      "\n",
      "\r",
      "  0%|          | 0/1 [00:00<?, ?it/s]"
     ]
    },
    {
     "name": "stdout",
     "output_type": "stream",
     "text": [
      "\r",
      "Upgrading database; v1 -> v2:   0%|          | 0/1 [00:00<?, ?it/s]"
     ]
    },
    {
     "name": "stdout",
     "output_type": "stream",
     "text": [
      "\r",
      "Upgrading database; v1 -> v2: 100%|██████████| 1/1 [00:00<00:00, 1076.84it/s]"
     ]
    },
    {
     "name": "stdout",
     "output_type": "stream",
     "text": [
      "\n",
      "\r",
      "0it [00:00, ?it/s]"
     ]
    },
    {
     "name": "stdout",
     "output_type": "stream",
     "text": [
      "\r",
      "Upgrading database; v2 -> v3: : 0it [00:00, ?it/s]"
     ]
    },
    {
     "name": "stdout",
     "output_type": "stream",
     "text": [
      "\r",
      "Upgrading database; v2 -> v3: : 0it [00:00, ?it/s]"
     ]
    },
    {
     "name": "stdout",
     "output_type": "stream",
     "text": [
      "\n",
      "\r",
      "0it [00:00, ?it/s]"
     ]
    },
    {
     "name": "stdout",
     "output_type": "stream",
     "text": [
      "\r",
      "Upgrading database; v3 -> v4: : 0it [00:00, ?it/s]"
     ]
    },
    {
     "name": "stdout",
     "output_type": "stream",
     "text": [
      "\r",
      "Upgrading database; v3 -> v4: : 0it [00:00, ?it/s]"
     ]
    },
    {
     "name": "stdout",
     "output_type": "stream",
     "text": [
      "\n",
      "\r",
      "  0%|          | 0/1 [00:00<?, ?it/s]"
     ]
    },
    {
     "name": "stdout",
     "output_type": "stream",
     "text": [
      "\r",
      "Upgrading database; v4 -> v5:   0%|          | 0/1 [00:00<?, ?it/s]"
     ]
    },
    {
     "name": "stdout",
     "output_type": "stream",
     "text": [
      "\r",
      "Upgrading database; v4 -> v5: 100%|██████████| 1/1 [00:00<00:00, 633.58it/s]"
     ]
    },
    {
     "name": "stdout",
     "output_type": "stream",
     "text": [
      "\n",
      "\r",
      "0it [00:00, ?it/s]"
     ]
    },
    {
     "name": "stdout",
     "output_type": "stream",
     "text": [
      "\r",
      "Upgrading database; v5 -> v6: : 0it [00:00, ?it/s]"
     ]
    },
    {
     "name": "stdout",
     "output_type": "stream",
     "text": [
      "\r",
      "Upgrading database; v5 -> v6: : 0it [00:00, ?it/s]"
     ]
    },
    {
     "name": "stdout",
     "output_type": "stream",
     "text": [
      "\n",
      "\r",
      "  0%|          | 0/1 [00:00<?, ?it/s]"
     ]
    },
    {
     "name": "stdout",
     "output_type": "stream",
     "text": [
      "\r",
      "Upgrading database; v6 -> v7:   0%|          | 0/1 [00:00<?, ?it/s]"
     ]
    },
    {
     "name": "stdout",
     "output_type": "stream",
     "text": [
      "\r",
      "Upgrading database; v6 -> v7: 100%|██████████| 1/1 [00:00<00:00, 415.28it/s]"
     ]
    },
    {
     "name": "stdout",
     "output_type": "stream",
     "text": [
      "\n",
      "\r",
      "  0%|          | 0/1 [00:00<?, ?it/s]"
     ]
    },
    {
     "name": "stdout",
     "output_type": "stream",
     "text": [
      "\r",
      "Upgrading database; v7 -> v8:   0%|          | 0/1 [00:00<?, ?it/s]"
     ]
    },
    {
     "name": "stdout",
     "output_type": "stream",
     "text": [
      "\r",
      "Upgrading database; v7 -> v8: 100%|██████████| 1/1 [00:00<00:00, 466.29it/s]"
     ]
    },
    {
     "name": "stdout",
     "output_type": "stream",
     "text": [
      "\n",
      "\r",
      "  0%|          | 0/1 [00:00<?, ?it/s]"
     ]
    },
    {
     "name": "stdout",
     "output_type": "stream",
     "text": [
      "\r",
      "Upgrading database; v8 -> v9:   0%|          | 0/1 [00:00<?, ?it/s]"
     ]
    },
    {
     "name": "stdout",
     "output_type": "stream",
     "text": [
      "\r",
      "Upgrading database; v8 -> v9: 100%|██████████| 1/1 [00:00<00:00, 1525.76it/s]"
     ]
    },
    {
     "name": "stdout",
     "output_type": "stream",
     "text": [
      "\n"
     ]
    }
   ],
   "source": [
    "initialise_database()\n",
    "exp = load_or_create_experiment(experiment_name='tutorial_exp', sample_name=\"no sample\")"
   ]
  },
  {
   "cell_type": "markdown",
   "metadata": {},
   "source": [
    "Here, we define a simple function to benchmark the time it takes to insert n points with either numeric or array data type.\n",
    "We will compare both the time used to call ``add_result`` and the time used for the full measurement."
   ]
  },
  {
   "cell_type": "code",
   "execution_count": 4,
   "metadata": {
    "execution": {
     "iopub.execute_input": "2020-12-08T10:20:15.582785Z",
     "iopub.status.busy": "2020-12-08T10:20:15.581591Z",
     "iopub.status.idle": "2020-12-08T10:20:15.585171Z",
     "shell.execute_reply": "2020-12-08T10:20:15.585714Z"
    }
   },
   "outputs": [],
   "source": [
    "def insert_data(paramtype, npoints, nreps=1):\n",
    "\n",
    "    meas = Measurement(exp=exp)\n",
    "\n",
    "    x1 = ManualParameter('x1')\n",
    "    x2 = ManualParameter('x2')\n",
    "    x3 = ManualParameter('x3')\n",
    "    y1 = ManualParameter('y1')\n",
    "    y2 = ManualParameter('y2')\n",
    "\n",
    "    meas.register_parameter(x1, paramtype=paramtype)\n",
    "    meas.register_parameter(x2, paramtype=paramtype)\n",
    "    meas.register_parameter(x3, paramtype=paramtype)\n",
    "    meas.register_parameter(y1, setpoints=[x1, x2, x3],\n",
    "                            paramtype=paramtype)\n",
    "    meas.register_parameter(y2, setpoints=[x1, x2, x3],\n",
    "                            paramtype=paramtype)\n",
    "    start = time.perf_counter()\n",
    "    with meas.run() as datasaver:\n",
    "        start_adding = time.perf_counter()\n",
    "        for i in range(nreps):\n",
    "            datasaver.add_result((x1, np.random.rand(npoints)),\n",
    "                                 (x2, np.random.rand(npoints)),\n",
    "                                 (x3, np.random.rand(npoints)),\n",
    "                                 (y1, np.random.rand(npoints)),\n",
    "                                 (y2, np.random.rand(npoints)))\n",
    "        stop_adding = time.perf_counter()\n",
    "        run_id = datasaver.run_id\n",
    "    stop = time.perf_counter()\n",
    "    tot_time = stop - start\n",
    "    add_time = stop_adding - start_adding\n",
    "    return tot_time, add_time, run_id"
   ]
  },
  {
   "cell_type": "markdown",
   "metadata": {},
   "source": [
    "## Comparison between numeric/array data and binary blob"
   ]
  },
  {
   "cell_type": "markdown",
   "metadata": {},
   "source": [
    "### Case1: Short experiment time"
   ]
  },
  {
   "cell_type": "code",
   "execution_count": 5,
   "metadata": {
    "execution": {
     "iopub.execute_input": "2020-12-08T10:20:15.591327Z",
     "iopub.status.busy": "2020-12-08T10:20:15.590567Z",
     "iopub.status.idle": "2020-12-08T10:20:16.444725Z",
     "shell.execute_reply": "2020-12-08T10:20:16.443868Z"
    }
   },
   "outputs": [
    {
     "name": "stdout",
     "output_type": "stream",
     "text": [
      "Starting experimental run with id: 1. \n",
      "Starting experimental run with id: 2. \n",
      "Starting experimental run with id: 3. \n",
      "Starting experimental run with id: 4. \n"
     ]
    },
    {
     "name": "stdout",
     "output_type": "stream",
     "text": [
      "Starting experimental run with id: 5. \n"
     ]
    },
    {
     "name": "stdout",
     "output_type": "stream",
     "text": [
      "Starting experimental run with id: 6. \n"
     ]
    },
    {
     "name": "stdout",
     "output_type": "stream",
     "text": [
      "Starting experimental run with id: 7. \n"
     ]
    },
    {
     "name": "stdout",
     "output_type": "stream",
     "text": [
      "Starting experimental run with id: 8. \n",
      "Starting experimental run with id: 9. \n"
     ]
    },
    {
     "name": "stdout",
     "output_type": "stream",
     "text": [
      "Starting experimental run with id: 10. \n",
      "Starting experimental run with id: 11. \n"
     ]
    },
    {
     "name": "stdout",
     "output_type": "stream",
     "text": [
      "Starting experimental run with id: 12. \n",
      "Starting experimental run with id: 13. \n"
     ]
    },
    {
     "name": "stdout",
     "output_type": "stream",
     "text": [
      "Starting experimental run with id: 14. \n"
     ]
    }
   ],
   "source": [
    "sizes = [1,500,1000,2000,3000,4000,5000]\n",
    "t_numeric = []\n",
    "t_numeric_add = []\n",
    "t_array = []\n",
    "t_array_add = []\n",
    "for size in sizes:\n",
    "    tn, tna, run_id_n =  insert_data('numeric', size)\n",
    "    t_numeric.append(tn)\n",
    "    t_numeric_add.append(tna)\n",
    "\n",
    "    ta, taa, run_id_a =  insert_data('array', size)\n",
    "    t_array.append(ta)\n",
    "    t_array_add.append(taa)"
   ]
  },
  {
   "cell_type": "code",
   "execution_count": 6,
   "metadata": {
    "execution": {
     "iopub.execute_input": "2020-12-08T10:20:16.481383Z",
     "iopub.status.busy": "2020-12-08T10:20:16.476206Z",
     "iopub.status.idle": "2020-12-08T10:20:16.624882Z",
     "shell.execute_reply": "2020-12-08T10:20:16.625576Z"
    }
   },
   "outputs": [
    {
     "data": {
      "image/png": "[encoded data removed]",
      "text/plain": [
       "<Figure size 432x288 with 1 Axes>"
      ]
     },
     "metadata": {
      "needs_background": "light"
     },
     "output_type": "display_data"
    }
   ],
   "source": [
    "fig, ax = plt.subplots(1,1)\n",
    "ax.plot(sizes, t_numeric, 'o-', label='Inserting row-by-row')\n",
    "ax.plot(sizes, t_numeric_add, 'o-', label='Inserting row-by-row: add_result only')\n",
    "ax.plot(sizes, t_array, 'd-', label='Inserting as binary blob')\n",
    "ax.plot(sizes, t_array_add, 'd-', label='Inserting as binary blob: add_result only')\n",
    "ax.legend()\n",
    "ax.set_xlabel('Array length')\n",
    "ax.set_ylabel('Time (s)')\n",
    "fig.tight_layout()"
   ]
  },
  {
   "cell_type": "markdown",
   "metadata": {},
   "source": [
    "As shown in the latter figure, the time to setup and and close the experiment is approximately 0.4 sec. In case of small array sizes, the difference between inserting values of data as arrays and inserting them row-by-row is relatively unimportant. At larger array sizes, i.e. above 10000 points, the cost of writing data as individual datapoints starts to become important.\n"
   ]
  },
  {
   "cell_type": "markdown",
   "metadata": {},
   "source": [
    "### Case2: Long experiment time "
   ]
  },
  {
   "cell_type": "code",
   "execution_count": 7,
   "metadata": {
    "execution": {
     "iopub.execute_input": "2020-12-08T10:20:16.629072Z",
     "iopub.status.busy": "2020-12-08T10:20:16.628019Z",
     "iopub.status.idle": "2020-12-08T10:21:15.680389Z",
     "shell.execute_reply": "2020-12-08T10:21:15.679231Z"
    }
   },
   "outputs": [
    {
     "name": "stdout",
     "output_type": "stream",
     "text": [
      "Starting experimental run with id: 15. \n",
      "Starting experimental run with id: 16. \n",
      "Starting experimental run with id: 17. \n"
     ]
    },
    {
     "name": "stdout",
     "output_type": "stream",
     "text": [
      "Starting experimental run with id: 18. \n",
      "Starting experimental run with id: 19. \n"
     ]
    },
    {
     "name": "stdout",
     "output_type": "stream",
     "text": [
      "Starting experimental run with id: 20. \n"
     ]
    },
    {
     "name": "stdout",
     "output_type": "stream",
     "text": [
      "Starting experimental run with id: 21. \n"
     ]
    },
    {
     "name": "stdout",
     "output_type": "stream",
     "text": [
      "Starting experimental run with id: 22. \n"
     ]
    },
    {
     "name": "stdout",
     "output_type": "stream",
     "text": [
      "Starting experimental run with id: 23. \n"
     ]
    },
    {
     "name": "stdout",
     "output_type": "stream",
     "text": [
      "Starting experimental run with id: 24. \n"
     ]
    },
    {
     "name": "stdout",
     "output_type": "stream",
     "text": [
      "Starting experimental run with id: 25. \n"
     ]
    },
    {
     "name": "stdout",
     "output_type": "stream",
     "text": [
      "Starting experimental run with id: 26. \n"
     ]
    },
    {
     "name": "stdout",
     "output_type": "stream",
     "text": [
      "Starting experimental run with id: 27. \n"
     ]
    },
    {
     "name": "stdout",
     "output_type": "stream",
     "text": [
      "Starting experimental run with id: 28. \n"
     ]
    }
   ],
   "source": [
    "sizes = [1,500,1000,2000,3000,4000,5000]\n",
    "nreps = 100\n",
    "t_numeric = []\n",
    "t_numeric_add = []\n",
    "t_numeric_run_ids = []\n",
    "t_array = []\n",
    "t_array_add = []\n",
    "t_array_run_ids = []\n",
    "for size in sizes:\n",
    "    tn, tna, run_id_n =  insert_data('numeric', size, nreps=nreps)\n",
    "    t_numeric.append(tn)\n",
    "    t_numeric_add.append(tna)\n",
    "    t_numeric_run_ids.append(run_id_n)\n",
    "\n",
    "    ta, taa, run_id_a =  insert_data('array', size, nreps=nreps)\n",
    "    t_array.append(ta)\n",
    "    t_array_add.append(taa)\n",
    "    t_array_run_ids.append(run_id_a)"
   ]
  },
  {
   "cell_type": "code",
   "execution_count": 8,
   "metadata": {
    "execution": {
     "iopub.execute_input": "2020-12-08T10:21:15.718544Z",
     "iopub.status.busy": "2020-12-08T10:21:15.708056Z",
     "iopub.status.idle": "2020-12-08T10:21:15.872884Z",
     "shell.execute_reply": "2020-12-08T10:21:15.873290Z"
    },
    "scrolled": true
   },
   "outputs": [
    {
     "data": {
      "image/png": "[encoded data removed]",
      "text/plain": [
       "<Figure size 432x288 with 1 Axes>"
      ]
     },
     "metadata": {
      "needs_background": "light"
     },
     "output_type": "display_data"
    }
   ],
   "source": [
    "fig, ax = plt.subplots(1,1)\n",
    "ax.plot(sizes, t_numeric, 'o-', label='Inserting row-by-row')\n",
    "ax.plot(sizes, t_numeric_add, 'o-', label='Inserting row-by-row: add_result only')\n",
    "ax.plot(sizes, t_array, 'd-', label='Inserting as binary blob')\n",
    "ax.plot(sizes, t_array_add, 'd-', label='Inserting as binary blob: add_result only')\n",
    "ax.legend()\n",
    "ax.set_xlabel('Array length')\n",
    "ax.set_ylabel('Time (s)')\n",
    "fig.tight_layout()"
   ]
  },
  {
   "cell_type": "markdown",
   "metadata": {},
   "source": [
    "However, as we increase the length of the experiment, as seen here by repeating the insertion 100 times, we see a big difference between inserting values of the data row-by-row and inserting it as a binary blob."
   ]
  },
  {
   "cell_type": "markdown",
   "metadata": {},
   "source": [
    "## Loading the data "
   ]
  },
  {
   "cell_type": "code",
   "execution_count": 9,
   "metadata": {
    "execution": {
     "iopub.execute_input": "2020-12-08T10:21:15.877668Z",
     "iopub.status.busy": "2020-12-08T10:21:15.877113Z",
     "iopub.status.idle": "2020-12-08T10:21:15.880543Z",
     "shell.execute_reply": "2020-12-08T10:21:15.881083Z"
    }
   },
   "outputs": [],
   "source": [
    "from qcodes.dataset.data_set import load_by_id\n",
    "from qcodes.dataset.data_export import get_data_by_id"
   ]
  },
  {
   "cell_type": "markdown",
   "metadata": {},
   "source": [
    "As usual you can load the data by using the ``load_by_id`` function but you will notice that the different storage methods\n",
    "are reflected in shape of the data as it is retrieved. "
   ]
  },
  {
   "cell_type": "code",
   "execution_count": 10,
   "metadata": {
    "execution": {
     "iopub.execute_input": "2020-12-08T10:21:15.884200Z",
     "iopub.status.busy": "2020-12-08T10:21:15.883759Z",
     "iopub.status.idle": "2020-12-08T10:21:15.885621Z",
     "shell.execute_reply": "2020-12-08T10:21:15.885277Z"
    }
   },
   "outputs": [],
   "source": [
    "run_id_n = t_numeric_run_ids[0]\n",
    "run_id_a = t_array_run_ids[0]"
   ]
  },
  {
   "cell_type": "code",
   "execution_count": 11,
   "metadata": {
    "execution": {
     "iopub.execute_input": "2020-12-08T10:21:15.888614Z",
     "iopub.status.busy": "2020-12-08T10:21:15.888130Z",
     "iopub.status.idle": "2020-12-08T10:21:15.896463Z",
     "shell.execute_reply": "2020-12-08T10:21:15.896010Z"
    },
    "scrolled": true
   },
   "outputs": [
    {
     "data": {
      "text/plain": [
       "{'x1': {'x1': array([0.57405493, 0.57405493, 0.01958791, 0.01958791, 0.37988513,\n",
       "         0.37988513, 0.00335631, 0.00335631, 0.04105439, 0.04105439,\n",
       "         0.55652721, 0.55652721, 0.57701363, 0.57701363, 0.9002434 ,\n",
       "         0.9002434 , 0.7192632 , 0.7192632 , 0.59557131, 0.59557131,\n",
       "         0.3594101 , 0.3594101 , 0.34157631, 0.34157631, 0.86366303,\n",
       "         0.86366303, 0.91001288, 0.91001288, 0.94978178, 0.94978178,\n",
       "         0.19841603, 0.19841603, 0.62416446, 0.62416446, 0.38907659,\n",
       "         0.38907659, 0.58483648, 0.58483648, 0.59537589, 0.59537589,\n",
       "         0.3350371 , 0.3350371 , 0.47507644, 0.47507644, 0.23079943,\n",
       "         0.23079943, 0.00465955, 0.00465955, 0.5552633 , 0.5552633 ,\n",
       "         0.93694207, 0.93694207, 0.13622672, 0.13622672, 0.16951033,\n",
       "         0.16951033, 0.71493296, 0.71493296, 0.44449644, 0.44449644,\n",
       "         0.47743405, 0.47743405, 0.23179268, 0.23179268, 0.10676965,\n",
       "         0.10676965, 0.08667825, 0.08667825, 0.17617258, 0.17617258,\n",
       "         0.28319102, 0.28319102, 0.87655438, 0.87655438, 0.48669466,\n",
       "         0.48669466, 0.44278182, 0.44278182, 0.41270133, 0.41270133,\n",
       "         0.18905501, 0.18905501, 0.91632236, 0.91632236, 0.32268004,\n",
       "         0.32268004, 0.38649219, 0.38649219, 0.78829883, 0.78829883,\n",
       "         0.47830403, 0.47830403, 0.32573417, 0.32573417, 0.26969484,\n",
       "         0.26969484, 0.95511501, 0.95511501, 0.27687469, 0.27687469,\n",
       "         0.44430655, 0.44430655, 0.96031135, 0.96031135, 0.00596666,\n",
       "         0.00596666, 0.24992412, 0.24992412, 0.74875115, 0.74875115,\n",
       "         0.28661841, 0.28661841, 0.98745004, 0.98745004, 0.13691275,\n",
       "         0.13691275, 0.60562992, 0.60562992, 0.86793152, 0.86793152,\n",
       "         0.33685605, 0.33685605, 0.8820424 , 0.8820424 , 0.79012396,\n",
       "         0.79012396, 0.51235137, 0.51235137, 0.56723579, 0.56723579,\n",
       "         0.52982452, 0.52982452, 0.66232425, 0.66232425, 0.61569583,\n",
       "         0.61569583, 0.35396296, 0.35396296, 0.72516688, 0.72516688,\n",
       "         0.8054078 , 0.8054078 , 0.17549455, 0.17549455, 0.25352574,\n",
       "         0.25352574, 0.33702156, 0.33702156, 0.75551281, 0.75551281,\n",
       "         0.1942787 , 0.1942787 , 0.92407402, 0.92407402, 0.66690791,\n",
       "         0.66690791, 0.98531313, 0.98531313, 0.63161381, 0.63161381,\n",
       "         0.86276134, 0.86276134, 0.66103194, 0.66103194, 0.12682915,\n",
       "         0.12682915, 0.61067278, 0.61067278, 0.81063543, 0.81063543,\n",
       "         0.32044648, 0.32044648, 0.65125801, 0.65125801, 0.07561645,\n",
       "         0.07561645, 0.29599869, 0.29599869, 0.71238679, 0.71238679,\n",
       "         0.06760849, 0.06760849, 0.45304481, 0.45304481, 0.84977557,\n",
       "         0.84977557, 0.661573  , 0.661573  , 0.22492088, 0.22492088,\n",
       "         0.07209351, 0.07209351, 0.89688731, 0.89688731, 0.01289197,\n",
       "         0.01289197, 0.6678105 , 0.6678105 , 0.13226894, 0.13226894])}}"
      ]
     },
     "execution_count": 1,
     "metadata": {},
     "output_type": "execute_result"
    }
   ],
   "source": [
    "ds = load_by_id(run_id_n)\n",
    "ds.get_parameter_data('x1')"
   ]
  },
  {
   "cell_type": "markdown",
   "metadata": {},
   "source": [
    "And a dataset stored as binary arrays"
   ]
  },
  {
   "cell_type": "code",
   "execution_count": 12,
   "metadata": {
    "execution": {
     "iopub.execute_input": "2020-12-08T10:21:15.899403Z",
     "iopub.status.busy": "2020-12-08T10:21:15.898880Z",
     "iopub.status.idle": "2020-12-08T10:21:15.947864Z",
     "shell.execute_reply": "2020-12-08T10:21:15.948794Z"
    },
    "scrolled": true
   },
   "outputs": [
    {
     "data": {
      "text/plain": [
       "{'x1': {'x1': array([[5.97693853e-01],\n",
       "         [5.97693853e-01],\n",
       "         [6.32118989e-01],\n",
       "         [6.32118989e-01],\n",
       "         [7.53922358e-01],\n",
       "         [7.53922358e-01],\n",
       "         [7.92446934e-01],\n",
       "         [7.92446934e-01],\n",
       "         [6.17558183e-01],\n",
       "         [6.17558183e-01],\n",
       "         [3.84499069e-01],\n",
       "         [3.84499069e-01],\n",
       "         [9.19426093e-02],\n",
       "         [9.19426093e-02],\n",
       "         [7.86623105e-01],\n",
       "         [7.86623105e-01],\n",
       "         [1.35790598e-01],\n",
       "         [1.35790598e-01],\n",
       "         [5.81869276e-01],\n",
       "         [5.81869276e-01],\n",
       "         [6.72950310e-01],\n",
       "         [6.72950310e-01],\n",
       "         [9.60746358e-01],\n",
       "         [9.60746358e-01],\n",
       "         [1.26864838e-01],\n",
       "         [1.26864838e-01],\n",
       "         [3.99627401e-01],\n",
       "         [3.99627401e-01],\n",
       "         [9.22425866e-01],\n",
       "         [9.22425866e-01],\n",
       "         [5.20201588e-04],\n",
       "         [5.20201588e-04],\n",
       "         [4.68967338e-01],\n",
       "         [4.68967338e-01],\n",
       "         [1.69856482e-01],\n",
       "         [1.69856482e-01],\n",
       "         [3.73417665e-01],\n",
       "         [3.73417665e-01],\n",
       "         [2.56892206e-02],\n",
       "         [2.56892206e-02],\n",
       "         [2.69249357e-01],\n",
       "         [2.69249357e-01],\n",
       "         [5.92645053e-01],\n",
       "         [5.92645053e-01],\n",
       "         [5.59425515e-01],\n",
       "         [5.59425515e-01],\n",
       "         [6.35293344e-01],\n",
       "         [6.35293344e-01],\n",
       "         [6.70054999e-01],\n",
       "         [6.70054999e-01],\n",
       "         [9.51533871e-01],\n",
       "         [9.51533871e-01],\n",
       "         [6.72218834e-02],\n",
       "         [6.72218834e-02],\n",
       "         [4.84246875e-01],\n",
       "         [4.84246875e-01],\n",
       "         [7.76662395e-01],\n",
       "         [7.76662395e-01],\n",
       "         [7.03388522e-01],\n",
       "         [7.03388522e-01],\n",
       "         [8.79866748e-01],\n",
       "         [8.79866748e-01],\n",
       "         [8.42398585e-01],\n",
       "         [8.42398585e-01],\n",
       "         [8.08535789e-01],\n",
       "         [8.08535789e-01],\n",
       "         [6.83146270e-01],\n",
       "         [6.83146270e-01],\n",
       "         [8.81951125e-01],\n",
       "         [8.81951125e-01],\n",
       "         [5.05483951e-01],\n",
       "         [5.05483951e-01],\n",
       "         [6.21270798e-01],\n",
       "         [6.21270798e-01],\n",
       "         [3.24378149e-01],\n",
       "         [3.24378149e-01],\n",
       "         [8.54202405e-01],\n",
       "         [8.54202405e-01],\n",
       "         [4.49130053e-01],\n",
       "         [4.49130053e-01],\n",
       "         [9.28373182e-01],\n",
       "         [9.28373182e-01],\n",
       "         [7.13878044e-02],\n",
       "         [7.13878044e-02],\n",
       "         [7.92046248e-01],\n",
       "         [7.92046248e-01],\n",
       "         [1.02971368e-01],\n",
       "         [1.02971368e-01],\n",
       "         [7.76460613e-01],\n",
       "         [7.76460613e-01],\n",
       "         [8.22468800e-01],\n",
       "         [8.22468800e-01],\n",
       "         [5.10421820e-01],\n",
       "         [5.10421820e-01],\n",
       "         [1.53800722e-01],\n",
       "         [1.53800722e-01],\n",
       "         [7.18508344e-01],\n",
       "         [7.18508344e-01],\n",
       "         [1.47549970e-01],\n",
       "         [1.47549970e-01],\n",
       "         [2.88385877e-01],\n",
       "         [2.88385877e-01],\n",
       "         [7.66347941e-01],\n",
       "         [7.66347941e-01],\n",
       "         [5.84895550e-01],\n",
       "         [5.84895550e-01],\n",
       "         [7.56429603e-01],\n",
       "         [7.56429603e-01],\n",
       "         [5.78938232e-01],\n",
       "         [5.78938232e-01],\n",
       "         [6.12493519e-01],\n",
       "         [6.12493519e-01],\n",
       "         [7.05281670e-01],\n",
       "         [7.05281670e-01],\n",
       "         [1.27791284e-01],\n",
       "         [1.27791284e-01],\n",
       "         [5.60011502e-01],\n",
       "         [5.60011502e-01],\n",
       "         [9.45487132e-01],\n",
       "         [9.45487132e-01],\n",
       "         [9.43894425e-01],\n",
       "         [9.43894425e-01],\n",
       "         [2.07951565e-01],\n",
       "         [2.07951565e-01],\n",
       "         [6.69448999e-02],\n",
       "         [6.69448999e-02],\n",
       "         [8.92320129e-02],\n",
       "         [8.92320129e-02],\n",
       "         [9.12810083e-01],\n",
       "         [9.12810083e-01],\n",
       "         [2.11644736e-01],\n",
       "         [2.11644736e-01],\n",
       "         [2.18237747e-01],\n",
       "         [2.18237747e-01],\n",
       "         [8.81460603e-01],\n",
       "         [8.81460603e-01],\n",
       "         [5.60392208e-01],\n",
       "         [5.60392208e-01],\n",
       "         [5.77626399e-01],\n",
       "         [5.77626399e-01],\n",
       "         [9.93500988e-01],\n",
       "         [9.93500988e-01],\n",
       "         [5.83224565e-01],\n",
       "         [5.83224565e-01],\n",
       "         [4.60562595e-01],\n",
       "         [4.60562595e-01],\n",
       "         [7.70717747e-01],\n",
       "         [7.70717747e-01],\n",
       "         [5.45960217e-01],\n",
       "         [5.45960217e-01],\n",
       "         [5.67604101e-02],\n",
       "         [5.67604101e-02],\n",
       "         [6.94248927e-01],\n",
       "         [6.94248927e-01],\n",
       "         [9.59053941e-01],\n",
       "         [9.59053941e-01],\n",
       "         [9.54594034e-01],\n",
       "         [9.54594034e-01],\n",
       "         [8.25841094e-01],\n",
       "         [8.25841094e-01],\n",
       "         [3.09012902e-01],\n",
       "         [3.09012902e-01],\n",
       "         [8.76616390e-01],\n",
       "         [8.76616390e-01],\n",
       "         [9.75516916e-01],\n",
       "         [9.75516916e-01],\n",
       "         [2.15490538e-02],\n",
       "         [2.15490538e-02],\n",
       "         [4.98386629e-01],\n",
       "         [4.98386629e-01],\n",
       "         [3.32157641e-03],\n",
       "         [3.32157641e-03],\n",
       "         [3.55474427e-01],\n",
       "         [3.55474427e-01],\n",
       "         [4.54311951e-01],\n",
       "         [4.54311951e-01],\n",
       "         [7.01946185e-01],\n",
       "         [7.01946185e-01],\n",
       "         [2.40263204e-01],\n",
       "         [2.40263204e-01],\n",
       "         [6.81309486e-01],\n",
       "         [6.81309486e-01],\n",
       "         [9.73392236e-01],\n",
       "         [9.73392236e-01],\n",
       "         [5.90245751e-01],\n",
       "         [5.90245751e-01],\n",
       "         [8.18020968e-01],\n",
       "         [8.18020968e-01],\n",
       "         [5.90195137e-01],\n",
       "         [5.90195137e-01],\n",
       "         [1.00333407e-02],\n",
       "         [1.00333407e-02],\n",
       "         [2.41615822e-01],\n",
       "         [2.41615822e-01],\n",
       "         [3.30699609e-01],\n",
       "         [3.30699609e-01],\n",
       "         [2.05387357e-01],\n",
       "         [2.05387357e-01],\n",
       "         [2.43378928e-01],\n",
       "         [2.43378928e-01]])}}"
      ]
     },
     "execution_count": 1,
     "metadata": {},
     "output_type": "execute_result"
    }
   ],
   "source": [
    "ds = load_by_id(run_id_a)\n",
    "ds.get_parameter_data('x1')"
   ]
  },
  {
   "cell_type": "code",
   "execution_count": null,
   "metadata": {},
   "outputs": [],
   "source": []
  }
 ],
 "metadata": {
  "kernelspec": {
   "display_name": "Python 3",
   "language": "python",
   "name": "python3"
  },
  "language_info": {
   "codemirror_mode": {
    "name": "ipython",
    "version": 3
   },
   "file_extension": ".py",
   "mimetype": "text/x-python",
   "name": "python",
   "nbconvert_exporter": "python",
   "pygments_lexer": "ipython3",
   "version": "3.7.9"
  },
  "nbsphinx": {
   "timeout": 600
  },
  "toc": {
   "base_numbering": 1,
   "nav_menu": {},
   "number_sections": true,
   "sideBar": true,
   "skip_h1_title": false,
   "title_cell": "Table of Contents",
   "title_sidebar": "Contents",
   "toc_cell": false,
   "toc_position": {},
   "toc_section_display": true,
   "toc_window_display": false
  },
  "varInspector": {
   "cols": {
    "lenName": 16,
    "lenType": 16,
    "lenVar": 40
   },
   "kernels_config": {
    "python": {
     "delete_cmd_postfix": "",
     "delete_cmd_prefix": "del ",
     "library": "var_list.py",
     "varRefreshCmd": "print(var_dic_list())"
    },
    "r": {
     "delete_cmd_postfix": ") ",
     "delete_cmd_prefix": "rm(",
     "library": "var_list.r",
     "varRefreshCmd": "cat(var_dic_list()) "
    }
   },
   "types_to_exclude": [
    "module",
    "function",
    "builtin_function_or_method",
    "instance",
    "_Feature"
   ],
   "window_display": false
  }
 },
 "nbformat": 4,
 "nbformat_minor": 2
}
