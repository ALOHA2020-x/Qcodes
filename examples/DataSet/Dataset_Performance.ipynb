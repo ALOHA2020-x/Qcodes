{
 "cells": [
  {
   "cell_type": "markdown",
   "metadata": {},
   "source": [
    "# DataSet Performance\n",
    "\n",
    "This notebook shows the trade-off between inserting data into a database row-by-row and as binary blobs. Inserting the data row-by-row means that we have direct access to all the data and may perform queries directly on the values of the data. On the other hand, as we shall see, this is much slower than inserting the data directly as binary blobs."
   ]
  },
  {
   "cell_type": "markdown",
   "metadata": {},
   "source": [
    "First, we choose a new location for the database to ensure that we don't add a bunch of benchmarking data to the default one."
   ]
  },
  {
   "cell_type": "code",
   "execution_count": 1,
   "metadata": {
    "execution": {
     "iopub.execute_input": "2021-05-07T06:34:06.383140Z",
     "iopub.status.busy": "2021-05-07T06:34:06.382458Z",
     "iopub.status.idle": "2021-05-07T06:34:07.686683Z",
     "shell.execute_reply": "2021-05-07T06:34:07.687229Z"
    }
   },
   "outputs": [
    {
     "name": "stdout",
     "output_type": "stream",
     "text": [
      "Logging hadn't been started.\n",
      "Activating auto-logging. Current session state plus future input saved.\n",
      "Filename       : /home/runner/.qcodes/logs/command_history.log\n",
      "Mode           : append\n",
      "Output logging : True\n",
      "Raw input log  : False\n",
      "Timestamping   : True\n",
      "State          : active\n"
     ]
    },
    {
     "name": "stdout",
     "output_type": "stream",
     "text": [
      "Qcodes Logfile : /home/runner/.qcodes/logs/210507-5034-qcodes.log\n"
     ]
    }
   ],
   "source": [
    "import os\n",
    "cwd = os.getcwd()\n",
    "import qcodes as qc\n",
    "qc.config[\"core\"][\"db_location\"] = os.path.join(cwd, 'testing.db')\n"
   ]
  },
  {
   "cell_type": "code",
   "execution_count": 2,
   "metadata": {
    "execution": {
     "iopub.execute_input": "2021-05-07T06:34:07.694131Z",
     "iopub.status.busy": "2021-05-07T06:34:07.693292Z",
     "iopub.status.idle": "2021-05-07T06:34:07.912464Z",
     "shell.execute_reply": "2021-05-07T06:34:07.911891Z"
    }
   },
   "outputs": [],
   "source": [
    "%matplotlib inline\n",
    "import time\n",
    "import matplotlib.pyplot as plt\n",
    "import numpy as np\n",
    "\n",
    "import qcodes as qc\n",
    "from qcodes.instrument.parameter import ManualParameter\n",
    "from qcodes.dataset.experiment_container import (Experiment,\n",
    "                                                 load_last_experiment,\n",
    "                                                 new_experiment)\n",
    "from qcodes.dataset.sqlite.database import initialise_database\n",
    "from qcodes import load_or_create_experiment\n",
    "from qcodes.dataset.measurements import Measurement"
   ]
  },
  {
   "cell_type": "code",
   "execution_count": 3,
   "metadata": {
    "execution": {
     "iopub.execute_input": "2021-05-07T06:34:07.917302Z",
     "iopub.status.busy": "2021-05-07T06:34:07.916379Z",
     "iopub.status.idle": "2021-05-07T06:34:08.003369Z",
     "shell.execute_reply": "2021-05-07T06:34:08.002810Z"
    }
   },
   "outputs": [
    {
     "name": "stdout",
     "output_type": "stream",
     "text": [
      "\r",
      "0it [00:00, ?it/s]"
     ]
    },
    {
     "name": "stdout",
     "output_type": "stream",
     "text": [
      "\r",
      "Upgrading database; v0 -> v1: : 0it [00:00, ?it/s]"
     ]
    },
    {
     "name": "stdout",
     "output_type": "stream",
     "text": [
      "\r",
      "Upgrading database; v0 -> v1: : 0it [00:00, ?it/s]"
     ]
    },
    {
     "name": "stdout",
     "output_type": "stream",
     "text": [
      "\n",
      "\r",
      "  0%|          | 0/1 [00:00<?, ?it/s]"
     ]
    },
    {
     "name": "stdout",
     "output_type": "stream",
     "text": [
      "\r",
      "Upgrading database; v1 -> v2:   0%|          | 0/1 [00:00<?, ?it/s]"
     ]
    },
    {
     "name": "stdout",
     "output_type": "stream",
     "text": [
      "\r",
      "Upgrading database; v1 -> v2: 100%|██████████| 1/1 [00:00<00:00, 446.63it/s]"
     ]
    },
    {
     "name": "stdout",
     "output_type": "stream",
     "text": [
      "\n",
      "\r",
      "0it [00:00, ?it/s]"
     ]
    },
    {
     "name": "stdout",
     "output_type": "stream",
     "text": [
      "\r",
      "Upgrading database; v2 -> v3: : 0it [00:00, ?it/s]"
     ]
    },
    {
     "name": "stdout",
     "output_type": "stream",
     "text": [
      "\r",
      "Upgrading database; v2 -> v3: : 0it [00:00, ?it/s]"
     ]
    },
    {
     "name": "stdout",
     "output_type": "stream",
     "text": [
      "\n",
      "\r",
      "0it [00:00, ?it/s]"
     ]
    },
    {
     "name": "stdout",
     "output_type": "stream",
     "text": [
      "\r",
      "Upgrading database; v3 -> v4: : 0it [00:00, ?it/s]"
     ]
    },
    {
     "name": "stdout",
     "output_type": "stream",
     "text": [
      "\r",
      "Upgrading database; v3 -> v4: : 0it [00:00, ?it/s]"
     ]
    },
    {
     "name": "stdout",
     "output_type": "stream",
     "text": [
      "\n",
      "\r",
      "  0%|          | 0/1 [00:00<?, ?it/s]"
     ]
    },
    {
     "name": "stdout",
     "output_type": "stream",
     "text": [
      "\r",
      "Upgrading database; v4 -> v5:   0%|          | 0/1 [00:00<?, ?it/s]"
     ]
    },
    {
     "name": "stdout",
     "output_type": "stream",
     "text": [
      "\r",
      "Upgrading database; v4 -> v5: 100%|██████████| 1/1 [00:00<00:00, 342.53it/s]"
     ]
    },
    {
     "name": "stdout",
     "output_type": "stream",
     "text": [
      "\n",
      "\r",
      "0it [00:00, ?it/s]"
     ]
    },
    {
     "name": "stdout",
     "output_type": "stream",
     "text": [
      "\r",
      "Upgrading database; v5 -> v6: : 0it [00:00, ?it/s]"
     ]
    },
    {
     "name": "stdout",
     "output_type": "stream",
     "text": [
      "\r",
      "Upgrading database; v5 -> v6: : 0it [00:00, ?it/s]"
     ]
    },
    {
     "name": "stdout",
     "output_type": "stream",
     "text": [
      "\n",
      "\r",
      "  0%|          | 0/1 [00:00<?, ?it/s]"
     ]
    },
    {
     "name": "stdout",
     "output_type": "stream",
     "text": [
      "\r",
      "Upgrading database; v6 -> v7:   0%|          | 0/1 [00:00<?, ?it/s]"
     ]
    },
    {
     "name": "stdout",
     "output_type": "stream",
     "text": [
      "\r",
      "Upgrading database; v6 -> v7: 100%|██████████| 1/1 [00:00<00:00, 344.11it/s]"
     ]
    },
    {
     "name": "stdout",
     "output_type": "stream",
     "text": [
      "\n",
      "\r",
      "  0%|          | 0/1 [00:00<?, ?it/s]"
     ]
    },
    {
     "name": "stdout",
     "output_type": "stream",
     "text": [
      "\r",
      "Upgrading database; v7 -> v8:   0%|          | 0/1 [00:00<?, ?it/s]"
     ]
    },
    {
     "name": "stdout",
     "output_type": "stream",
     "text": [
      "\r",
      "Upgrading database; v7 -> v8: 100%|██████████| 1/1 [00:00<00:00, 375.13it/s]"
     ]
    },
    {
     "name": "stdout",
     "output_type": "stream",
     "text": [
      "\n",
      "\r",
      "  0%|          | 0/1 [00:00<?, ?it/s]"
     ]
    },
    {
     "name": "stdout",
     "output_type": "stream",
     "text": [
      "\r",
      "Upgrading database; v8 -> v9:   0%|          | 0/1 [00:00<?, ?it/s]"
     ]
    },
    {
     "name": "stdout",
     "output_type": "stream",
     "text": [
      "\r",
      "Upgrading database; v8 -> v9: 100%|██████████| 1/1 [00:00<00:00, 634.73it/s]"
     ]
    },
    {
     "name": "stdout",
     "output_type": "stream",
     "text": [
      "\n"
     ]
    }
   ],
   "source": [
    "initialise_database()\n",
    "exp = load_or_create_experiment(experiment_name='tutorial_exp', sample_name=\"no sample\")"
   ]
  },
  {
   "cell_type": "markdown",
   "metadata": {},
   "source": [
    "Here, we define a simple function to benchmark the time it takes to insert n points with either numeric or array data type.\n",
    "We will compare both the time used to call ``add_result`` and the time used for the full measurement."
   ]
  },
  {
   "cell_type": "code",
   "execution_count": 4,
   "metadata": {
    "execution": {
     "iopub.execute_input": "2021-05-07T06:34:08.012962Z",
     "iopub.status.busy": "2021-05-07T06:34:08.012211Z",
     "iopub.status.idle": "2021-05-07T06:34:08.016721Z",
     "shell.execute_reply": "2021-05-07T06:34:08.015868Z"
    }
   },
   "outputs": [],
   "source": [
    "def insert_data(paramtype, npoints, nreps=1):\n",
    "\n",
    "    meas = Measurement(exp=exp)\n",
    "\n",
    "    x1 = ManualParameter('x1')\n",
    "    x2 = ManualParameter('x2')\n",
    "    x3 = ManualParameter('x3')\n",
    "    y1 = ManualParameter('y1')\n",
    "    y2 = ManualParameter('y2')\n",
    "\n",
    "    meas.register_parameter(x1, paramtype=paramtype)\n",
    "    meas.register_parameter(x2, paramtype=paramtype)\n",
    "    meas.register_parameter(x3, paramtype=paramtype)\n",
    "    meas.register_parameter(y1, setpoints=[x1, x2, x3],\n",
    "                            paramtype=paramtype)\n",
    "    meas.register_parameter(y2, setpoints=[x1, x2, x3],\n",
    "                            paramtype=paramtype)\n",
    "    start = time.perf_counter()\n",
    "    with meas.run() as datasaver:\n",
    "        start_adding = time.perf_counter()\n",
    "        for i in range(nreps):\n",
    "            datasaver.add_result((x1, np.random.rand(npoints)),\n",
    "                                 (x2, np.random.rand(npoints)),\n",
    "                                 (x3, np.random.rand(npoints)),\n",
    "                                 (y1, np.random.rand(npoints)),\n",
    "                                 (y2, np.random.rand(npoints)))\n",
    "        stop_adding = time.perf_counter()\n",
    "        run_id = datasaver.run_id\n",
    "    stop = time.perf_counter()\n",
    "    tot_time = stop - start\n",
    "    add_time = stop_adding - start_adding\n",
    "    return tot_time, add_time, run_id"
   ]
  },
  {
   "cell_type": "markdown",
   "metadata": {},
   "source": [
    "## Comparison between numeric/array data and binary blob"
   ]
  },
  {
   "cell_type": "markdown",
   "metadata": {},
   "source": [
    "### Case1: Short experiment time"
   ]
  },
  {
   "cell_type": "code",
   "execution_count": 5,
   "metadata": {
    "execution": {
     "iopub.execute_input": "2021-05-07T06:34:08.024094Z",
     "iopub.status.busy": "2021-05-07T06:34:08.023410Z",
     "iopub.status.idle": "2021-05-07T06:34:08.896187Z",
     "shell.execute_reply": "2021-05-07T06:34:08.897022Z"
    }
   },
   "outputs": [
    {
     "name": "stdout",
     "output_type": "stream",
     "text": [
      "Starting experimental run with id: 1. \n",
      "Starting experimental run with id: 2. \n",
      "Starting experimental run with id: 3. \n"
     ]
    },
    {
     "name": "stdout",
     "output_type": "stream",
     "text": [
      "Starting experimental run with id: 4. \n"
     ]
    },
    {
     "name": "stdout",
     "output_type": "stream",
     "text": [
      "Starting experimental run with id: 5. \n"
     ]
    },
    {
     "name": "stdout",
     "output_type": "stream",
     "text": [
      "Starting experimental run with id: 6. \n",
      "Starting experimental run with id: 7. \n",
      "Starting experimental run with id: 8. \n"
     ]
    },
    {
     "name": "stdout",
     "output_type": "stream",
     "text": [
      "Starting experimental run with id: 9. \n"
     ]
    },
    {
     "name": "stdout",
     "output_type": "stream",
     "text": [
      "Starting experimental run with id: 10. \n",
      "Starting experimental run with id: 11. \n"
     ]
    },
    {
     "name": "stdout",
     "output_type": "stream",
     "text": [
      "Starting experimental run with id: 12. \n",
      "Starting experimental run with id: 13. \n"
     ]
    },
    {
     "name": "stdout",
     "output_type": "stream",
     "text": [
      "Starting experimental run with id: 14. \n"
     ]
    }
   ],
   "source": [
    "sizes = [1,500,1000,2000,3000,4000,5000]\n",
    "t_numeric = []\n",
    "t_numeric_add = []\n",
    "t_array = []\n",
    "t_array_add = []\n",
    "for size in sizes:\n",
    "    tn, tna, run_id_n =  insert_data('numeric', size)\n",
    "    t_numeric.append(tn)\n",
    "    t_numeric_add.append(tna)\n",
    "\n",
    "    ta, taa, run_id_a =  insert_data('array', size)\n",
    "    t_array.append(ta)\n",
    "    t_array_add.append(taa)"
   ]
  },
  {
   "cell_type": "code",
   "execution_count": 6,
   "metadata": {
    "execution": {
     "iopub.execute_input": "2021-05-07T06:34:08.940667Z",
     "iopub.status.busy": "2021-05-07T06:34:08.919865Z",
     "iopub.status.idle": "2021-05-07T06:34:09.196229Z",
     "shell.execute_reply": "2021-05-07T06:34:09.197141Z"
    }
   },
   "outputs": [
    {
     "data": {
      "image/png": "[encoded data removed]",
      "text/plain": [
       "<Figure size 432x288 with 1 Axes>"
      ]
     },
     "metadata": {
      "needs_background": "light"
     },
     "output_type": "display_data"
    }
   ],
   "source": [
    "fig, ax = plt.subplots(1,1)\n",
    "ax.plot(sizes, t_numeric, 'o-', label='Inserting row-by-row')\n",
    "ax.plot(sizes, t_numeric_add, 'o-', label='Inserting row-by-row: add_result only')\n",
    "ax.plot(sizes, t_array, 'd-', label='Inserting as binary blob')\n",
    "ax.plot(sizes, t_array_add, 'd-', label='Inserting as binary blob: add_result only')\n",
    "ax.legend()\n",
    "ax.set_xlabel('Array length')\n",
    "ax.set_ylabel('Time (s)')\n",
    "fig.tight_layout()"
   ]
  },
  {
   "cell_type": "markdown",
   "metadata": {},
   "source": [
    "As shown in the latter figure, the time to setup and and close the experiment is approximately 0.4 sec. In case of small array sizes, the difference between inserting values of data as arrays and inserting them row-by-row is relatively unimportant. At larger array sizes, i.e. above 10000 points, the cost of writing data as individual datapoints starts to become important.\n"
   ]
  },
  {
   "cell_type": "markdown",
   "metadata": {},
   "source": [
    "### Case2: Long experiment time "
   ]
  },
  {
   "cell_type": "code",
   "execution_count": 7,
   "metadata": {
    "execution": {
     "iopub.execute_input": "2021-05-07T06:34:09.206493Z",
     "iopub.status.busy": "2021-05-07T06:34:09.205454Z",
     "iopub.status.idle": "2021-05-07T06:35:11.257773Z",
     "shell.execute_reply": "2021-05-07T06:35:11.257178Z"
    }
   },
   "outputs": [
    {
     "name": "stdout",
     "output_type": "stream",
     "text": [
      "Starting experimental run with id: 15. \n",
      "Starting experimental run with id: 16. \n"
     ]
    },
    {
     "name": "stdout",
     "output_type": "stream",
     "text": [
      "Starting experimental run with id: 17. \n"
     ]
    },
    {
     "name": "stdout",
     "output_type": "stream",
     "text": [
      "Starting experimental run with id: 18. \n"
     ]
    },
    {
     "name": "stdout",
     "output_type": "stream",
     "text": [
      "Starting experimental run with id: 19. \n"
     ]
    },
    {
     "name": "stdout",
     "output_type": "stream",
     "text": [
      "Starting experimental run with id: 20. \n"
     ]
    },
    {
     "name": "stdout",
     "output_type": "stream",
     "text": [
      "Starting experimental run with id: 21. \n"
     ]
    },
    {
     "name": "stdout",
     "output_type": "stream",
     "text": [
      "Starting experimental run with id: 22. \n"
     ]
    },
    {
     "name": "stdout",
     "output_type": "stream",
     "text": [
      "Starting experimental run with id: 23. \n"
     ]
    },
    {
     "name": "stdout",
     "output_type": "stream",
     "text": [
      "Starting experimental run with id: 24. \n"
     ]
    },
    {
     "name": "stdout",
     "output_type": "stream",
     "text": [
      "Starting experimental run with id: 25. \n"
     ]
    },
    {
     "name": "stdout",
     "output_type": "stream",
     "text": [
      "Starting experimental run with id: 26. \n"
     ]
    },
    {
     "name": "stdout",
     "output_type": "stream",
     "text": [
      "Starting experimental run with id: 27. \n"
     ]
    },
    {
     "name": "stdout",
     "output_type": "stream",
     "text": [
      "Starting experimental run with id: 28. \n"
     ]
    }
   ],
   "source": [
    "sizes = [1,500,1000,2000,3000,4000,5000]\n",
    "nreps = 100\n",
    "t_numeric = []\n",
    "t_numeric_add = []\n",
    "t_numeric_run_ids = []\n",
    "t_array = []\n",
    "t_array_add = []\n",
    "t_array_run_ids = []\n",
    "for size in sizes:\n",
    "    tn, tna, run_id_n =  insert_data('numeric', size, nreps=nreps)\n",
    "    t_numeric.append(tn)\n",
    "    t_numeric_add.append(tna)\n",
    "    t_numeric_run_ids.append(run_id_n)\n",
    "\n",
    "    ta, taa, run_id_a =  insert_data('array', size, nreps=nreps)\n",
    "    t_array.append(ta)\n",
    "    t_array_add.append(taa)\n",
    "    t_array_run_ids.append(run_id_a)"
   ]
  },
  {
   "cell_type": "code",
   "execution_count": 8,
   "metadata": {
    "execution": {
     "iopub.execute_input": "2021-05-07T06:35:11.313686Z",
     "iopub.status.busy": "2021-05-07T06:35:11.310771Z",
     "iopub.status.idle": "2021-05-07T06:35:11.561211Z",
     "shell.execute_reply": "2021-05-07T06:35:11.560463Z"
    },
    "scrolled": true
   },
   "outputs": [
    {
     "data": {
      "image/png": "[encoded data removed]",
      "text/plain": [
       "<Figure size 432x288 with 1 Axes>"
      ]
     },
     "metadata": {
      "needs_background": "light"
     },
     "output_type": "display_data"
    }
   ],
   "source": [
    "fig, ax = plt.subplots(1,1)\n",
    "ax.plot(sizes, t_numeric, 'o-', label='Inserting row-by-row')\n",
    "ax.plot(sizes, t_numeric_add, 'o-', label='Inserting row-by-row: add_result only')\n",
    "ax.plot(sizes, t_array, 'd-', label='Inserting as binary blob')\n",
    "ax.plot(sizes, t_array_add, 'd-', label='Inserting as binary blob: add_result only')\n",
    "ax.legend()\n",
    "ax.set_xlabel('Array length')\n",
    "ax.set_ylabel('Time (s)')\n",
    "fig.tight_layout()"
   ]
  },
  {
   "cell_type": "markdown",
   "metadata": {},
   "source": [
    "However, as we increase the length of the experiment, as seen here by repeating the insertion 100 times, we see a big difference between inserting values of the data row-by-row and inserting it as a binary blob."
   ]
  },
  {
   "cell_type": "markdown",
   "metadata": {},
   "source": [
    "## Loading the data "
   ]
  },
  {
   "cell_type": "code",
   "execution_count": 9,
   "metadata": {
    "execution": {
     "iopub.execute_input": "2021-05-07T06:35:11.567387Z",
     "iopub.status.busy": "2021-05-07T06:35:11.566110Z",
     "iopub.status.idle": "2021-05-07T06:35:11.568433Z",
     "shell.execute_reply": "2021-05-07T06:35:11.569037Z"
    }
   },
   "outputs": [],
   "source": [
    "from qcodes.dataset.data_set import load_by_id"
   ]
  },
  {
   "cell_type": "markdown",
   "metadata": {},
   "source": [
    "As usual you can load the data by using the ``load_by_id`` function but you will notice that the different storage methods\n",
    "are reflected in shape of the data as it is retrieved. "
   ]
  },
  {
   "cell_type": "code",
   "execution_count": 10,
   "metadata": {
    "execution": {
     "iopub.execute_input": "2021-05-07T06:35:11.574693Z",
     "iopub.status.busy": "2021-05-07T06:35:11.573090Z",
     "iopub.status.idle": "2021-05-07T06:35:11.575459Z",
     "shell.execute_reply": "2021-05-07T06:35:11.576031Z"
    }
   },
   "outputs": [],
   "source": [
    "run_id_n = t_numeric_run_ids[0]\n",
    "run_id_a = t_array_run_ids[0]"
   ]
  },
  {
   "cell_type": "code",
   "execution_count": 11,
   "metadata": {
    "execution": {
     "iopub.execute_input": "2021-05-07T06:35:11.579886Z",
     "iopub.status.busy": "2021-05-07T06:35:11.579243Z",
     "iopub.status.idle": "2021-05-07T06:35:11.590685Z",
     "shell.execute_reply": "2021-05-07T06:35:11.591270Z"
    },
    "scrolled": true
   },
   "outputs": [
    {
     "data": {
      "text/plain": [
       "{'x1': {'x1': array([0.21900511, 0.21900511, 0.21071501, 0.21071501, 0.3873553 ,\n",
       "         0.3873553 , 0.85024904, 0.85024904, 0.58204134, 0.58204134,\n",
       "         0.28876268, 0.28876268, 0.17065929, 0.17065929, 0.94343124,\n",
       "         0.94343124, 0.41288093, 0.41288093, 0.19144305, 0.19144305,\n",
       "         0.14419234, 0.14419234, 0.09966995, 0.09966995, 0.54141871,\n",
       "         0.54141871, 0.33333039, 0.33333039, 0.26215882, 0.26215882,\n",
       "         0.85774868, 0.85774868, 0.09067866, 0.09067866, 0.1732344 ,\n",
       "         0.1732344 , 0.09845662, 0.09845662, 0.54508403, 0.54508403,\n",
       "         0.76888266, 0.76888266, 0.86169348, 0.86169348, 0.42827084,\n",
       "         0.42827084, 0.19943363, 0.19943363, 0.47435126, 0.47435126,\n",
       "         0.69598554, 0.69598554, 0.70891423, 0.70891423, 0.04682525,\n",
       "         0.04682525, 0.15451174, 0.15451174, 0.87408322, 0.87408322,\n",
       "         0.60973462, 0.60973462, 0.37911786, 0.37911786, 0.25261853,\n",
       "         0.25261853, 0.33049436, 0.33049436, 0.61217304, 0.61217304,\n",
       "         0.95406595, 0.95406595, 0.73028037, 0.73028037, 0.21455124,\n",
       "         0.21455124, 0.55212021, 0.55212021, 0.02062615, 0.02062615,\n",
       "         0.56911373, 0.56911373, 0.48300136, 0.48300136, 0.30291067,\n",
       "         0.30291067, 0.76325084, 0.76325084, 0.46787946, 0.46787946,\n",
       "         0.87594736, 0.87594736, 0.4754813 , 0.4754813 , 0.79270516,\n",
       "         0.79270516, 0.68422759, 0.68422759, 0.7264761 , 0.7264761 ,\n",
       "         0.81503791, 0.81503791, 0.48111512, 0.48111512, 0.48385804,\n",
       "         0.48385804, 0.7518129 , 0.7518129 , 0.09564485, 0.09564485,\n",
       "         0.36711142, 0.36711142, 0.42391644, 0.42391644, 0.71787792,\n",
       "         0.71787792, 0.07169053, 0.07169053, 0.76600738, 0.76600738,\n",
       "         0.06495692, 0.06495692, 0.44122496, 0.44122496, 0.18906577,\n",
       "         0.18906577, 0.58990198, 0.58990198, 0.98996005, 0.98996005,\n",
       "         0.5238826 , 0.5238826 , 0.03584368, 0.03584368, 0.41103494,\n",
       "         0.41103494, 0.0876826 , 0.0876826 , 0.35024168, 0.35024168,\n",
       "         0.10400983, 0.10400983, 0.00144702, 0.00144702, 0.99214858,\n",
       "         0.99214858, 0.52946958, 0.52946958, 0.93177637, 0.93177637,\n",
       "         0.3039214 , 0.3039214 , 0.22958539, 0.22958539, 0.32556934,\n",
       "         0.32556934, 0.45345893, 0.45345893, 0.48177109, 0.48177109,\n",
       "         0.47947839, 0.47947839, 0.31745345, 0.31745345, 0.34321712,\n",
       "         0.34321712, 0.59746327, 0.59746327, 0.19868223, 0.19868223,\n",
       "         0.16718489, 0.16718489, 0.53925005, 0.53925005, 0.36540953,\n",
       "         0.36540953, 0.48032014, 0.48032014, 0.37787052, 0.37787052,\n",
       "         0.81106081, 0.81106081, 0.23186731, 0.23186731, 0.42989588,\n",
       "         0.42989588, 0.1177021 , 0.1177021 , 0.37388246, 0.37388246,\n",
       "         0.07630909, 0.07630909, 0.20340153, 0.20340153, 0.80011119,\n",
       "         0.80011119, 0.29176299, 0.29176299, 0.03094109, 0.03094109])}}"
      ]
     },
     "execution_count": 1,
     "metadata": {},
     "output_type": "execute_result"
    }
   ],
   "source": [
    "ds = load_by_id(run_id_n)\n",
    "ds.get_parameter_data('x1')"
   ]
  },
  {
   "cell_type": "markdown",
   "metadata": {},
   "source": [
    "And a dataset stored as binary arrays"
   ]
  },
  {
   "cell_type": "code",
   "execution_count": 12,
   "metadata": {
    "execution": {
     "iopub.execute_input": "2021-05-07T06:35:11.595992Z",
     "iopub.status.busy": "2021-05-07T06:35:11.595234Z",
     "iopub.status.idle": "2021-05-07T06:35:11.668258Z",
     "shell.execute_reply": "2021-05-07T06:35:11.669032Z"
    },
    "scrolled": true
   },
   "outputs": [
    {
     "data": {
      "text/plain": [
       "{'x1': {'x1': array([[1.20283255e-01],\n",
       "         [1.20283255e-01],\n",
       "         [1.70406983e-01],\n",
       "         [1.70406983e-01],\n",
       "         [1.39900309e-01],\n",
       "         [1.39900309e-01],\n",
       "         [9.00723758e-01],\n",
       "         [9.00723758e-01],\n",
       "         [4.56502446e-01],\n",
       "         [4.56502446e-01],\n",
       "         [3.06625840e-01],\n",
       "         [3.06625840e-01],\n",
       "         [5.11369332e-01],\n",
       "         [5.11369332e-01],\n",
       "         [4.50274209e-01],\n",
       "         [4.50274209e-01],\n",
       "         [4.85604743e-01],\n",
       "         [4.85604743e-01],\n",
       "         [2.55029468e-01],\n",
       "         [2.55029468e-01],\n",
       "         [9.25487505e-01],\n",
       "         [9.25487505e-01],\n",
       "         [6.50829982e-02],\n",
       "         [6.50829982e-02],\n",
       "         [9.23969430e-01],\n",
       "         [9.23969430e-01],\n",
       "         [1.42389559e-01],\n",
       "         [1.42389559e-01],\n",
       "         [1.78321527e-01],\n",
       "         [1.78321527e-01],\n",
       "         [1.15470909e-01],\n",
       "         [1.15470909e-01],\n",
       "         [4.22775639e-01],\n",
       "         [4.22775639e-01],\n",
       "         [2.18177822e-01],\n",
       "         [2.18177822e-01],\n",
       "         [9.07654535e-01],\n",
       "         [9.07654535e-01],\n",
       "         [4.04452768e-01],\n",
       "         [4.04452768e-01],\n",
       "         [9.11306408e-01],\n",
       "         [9.11306408e-01],\n",
       "         [6.61819075e-01],\n",
       "         [6.61819075e-01],\n",
       "         [5.74729563e-01],\n",
       "         [5.74729563e-01],\n",
       "         [8.00811731e-01],\n",
       "         [8.00811731e-01],\n",
       "         [6.75210098e-02],\n",
       "         [6.75210098e-02],\n",
       "         [7.40191471e-01],\n",
       "         [7.40191471e-01],\n",
       "         [9.42438858e-01],\n",
       "         [9.42438858e-01],\n",
       "         [3.15074973e-01],\n",
       "         [3.15074973e-01],\n",
       "         [4.90749600e-01],\n",
       "         [4.90749600e-01],\n",
       "         [5.52338922e-01],\n",
       "         [5.52338922e-01],\n",
       "         [8.25146254e-02],\n",
       "         [8.25146254e-02],\n",
       "         [5.95185841e-02],\n",
       "         [5.95185841e-02],\n",
       "         [4.98029720e-01],\n",
       "         [4.98029720e-01],\n",
       "         [5.75202766e-01],\n",
       "         [5.75202766e-01],\n",
       "         [3.95793478e-01],\n",
       "         [3.95793478e-01],\n",
       "         [3.66182732e-01],\n",
       "         [3.66182732e-01],\n",
       "         [2.39638301e-01],\n",
       "         [2.39638301e-01],\n",
       "         [2.41527306e-01],\n",
       "         [2.41527306e-01],\n",
       "         [5.12444667e-01],\n",
       "         [5.12444667e-01],\n",
       "         [9.25454572e-01],\n",
       "         [9.25454572e-01],\n",
       "         [8.77025868e-01],\n",
       "         [8.77025868e-01],\n",
       "         [9.56045325e-01],\n",
       "         [9.56045325e-01],\n",
       "         [4.82173153e-01],\n",
       "         [4.82173153e-01],\n",
       "         [1.16040308e-01],\n",
       "         [1.16040308e-01],\n",
       "         [4.62676666e-01],\n",
       "         [4.62676666e-01],\n",
       "         [4.76806842e-01],\n",
       "         [4.76806842e-01],\n",
       "         [9.20549534e-01],\n",
       "         [9.20549534e-01],\n",
       "         [5.73298969e-01],\n",
       "         [5.73298969e-01],\n",
       "         [5.05768150e-01],\n",
       "         [5.05768150e-01],\n",
       "         [7.50227819e-01],\n",
       "         [7.50227819e-01],\n",
       "         [7.72344632e-02],\n",
       "         [7.72344632e-02],\n",
       "         [3.31512475e-01],\n",
       "         [3.31512475e-01],\n",
       "         [2.05502831e-01],\n",
       "         [2.05502831e-01],\n",
       "         [3.47991552e-01],\n",
       "         [3.47991552e-01],\n",
       "         [7.88724212e-01],\n",
       "         [7.88724212e-01],\n",
       "         [8.48717269e-01],\n",
       "         [8.48717269e-01],\n",
       "         [1.30879633e-01],\n",
       "         [1.30879633e-01],\n",
       "         [7.29458065e-01],\n",
       "         [7.29458065e-01],\n",
       "         [6.41722134e-04],\n",
       "         [6.41722134e-04],\n",
       "         [1.66835701e-01],\n",
       "         [1.66835701e-01],\n",
       "         [7.30381929e-01],\n",
       "         [7.30381929e-01],\n",
       "         [9.93029340e-01],\n",
       "         [9.93029340e-01],\n",
       "         [6.78839926e-01],\n",
       "         [6.78839926e-01],\n",
       "         [2.12959309e-02],\n",
       "         [2.12959309e-02],\n",
       "         [3.92932347e-01],\n",
       "         [3.92932347e-01],\n",
       "         [9.40519176e-01],\n",
       "         [9.40519176e-01],\n",
       "         [9.16882628e-01],\n",
       "         [9.16882628e-01],\n",
       "         [2.09276258e-01],\n",
       "         [2.09276258e-01],\n",
       "         [5.36947081e-01],\n",
       "         [5.36947081e-01],\n",
       "         [9.94338372e-01],\n",
       "         [9.94338372e-01],\n",
       "         [3.53594272e-01],\n",
       "         [3.53594272e-01],\n",
       "         [6.31608022e-02],\n",
       "         [6.31608022e-02],\n",
       "         [4.61963079e-01],\n",
       "         [4.61963079e-01],\n",
       "         [5.76298400e-01],\n",
       "         [5.76298400e-01],\n",
       "         [6.71244713e-01],\n",
       "         [6.71244713e-01],\n",
       "         [8.78876840e-01],\n",
       "         [8.78876840e-01],\n",
       "         [6.61083239e-01],\n",
       "         [6.61083239e-01],\n",
       "         [3.64678486e-01],\n",
       "         [3.64678486e-01],\n",
       "         [3.99604169e-01],\n",
       "         [3.99604169e-01],\n",
       "         [8.07070231e-01],\n",
       "         [8.07070231e-01],\n",
       "         [2.07017685e-01],\n",
       "         [2.07017685e-01],\n",
       "         [9.82221074e-02],\n",
       "         [9.82221074e-02],\n",
       "         [4.88649212e-01],\n",
       "         [4.88649212e-01],\n",
       "         [5.88292324e-01],\n",
       "         [5.88292324e-01],\n",
       "         [5.02321803e-01],\n",
       "         [5.02321803e-01],\n",
       "         [6.98949780e-01],\n",
       "         [6.98949780e-01],\n",
       "         [4.44319600e-01],\n",
       "         [4.44319600e-01],\n",
       "         [2.90426456e-01],\n",
       "         [2.90426456e-01],\n",
       "         [9.86573340e-01],\n",
       "         [9.86573340e-01],\n",
       "         [2.35659689e-01],\n",
       "         [2.35659689e-01],\n",
       "         [3.23196999e-01],\n",
       "         [3.23196999e-01],\n",
       "         [5.75268585e-01],\n",
       "         [5.75268585e-01],\n",
       "         [1.19058642e-01],\n",
       "         [1.19058642e-01],\n",
       "         [5.64664583e-01],\n",
       "         [5.64664583e-01],\n",
       "         [3.74534457e-01],\n",
       "         [3.74534457e-01],\n",
       "         [8.56510326e-01],\n",
       "         [8.56510326e-01],\n",
       "         [7.84166430e-02],\n",
       "         [7.84166430e-02],\n",
       "         [9.38090071e-02],\n",
       "         [9.38090071e-02],\n",
       "         [6.35620290e-03],\n",
       "         [6.35620290e-03],\n",
       "         [5.81296467e-01],\n",
       "         [5.81296467e-01]])}}"
      ]
     },
     "execution_count": 1,
     "metadata": {},
     "output_type": "execute_result"
    }
   ],
   "source": [
    "ds = load_by_id(run_id_a)\n",
    "ds.get_parameter_data('x1')"
   ]
  },
  {
   "cell_type": "code",
   "execution_count": null,
   "metadata": {},
   "outputs": [],
   "source": []
  }
 ],
 "metadata": {
  "kernelspec": {
   "display_name": "Python 3",
   "language": "python",
   "name": "python3"
  },
  "language_info": {
   "codemirror_mode": {
    "name": "ipython",
    "version": 3
   },
   "file_extension": ".py",
   "mimetype": "text/x-python",
   "name": "python",
   "nbconvert_exporter": "python",
   "pygments_lexer": "ipython3",
   "version": "3.7.10"
  },
  "nbsphinx": {
   "timeout": 600
  },
  "toc": {
   "base_numbering": 1,
   "nav_menu": {},
   "number_sections": true,
   "sideBar": true,
   "skip_h1_title": false,
   "title_cell": "Table of Contents",
   "title_sidebar": "Contents",
   "toc_cell": false,
   "toc_position": {},
   "toc_section_display": true,
   "toc_window_display": false
  },
  "varInspector": {
   "cols": {
    "lenName": 16,
    "lenType": 16,
    "lenVar": 40
   },
   "kernels_config": {
    "python": {
     "delete_cmd_postfix": "",
     "delete_cmd_prefix": "del ",
     "library": "var_list.py",
     "varRefreshCmd": "print(var_dic_list())"
    },
    "r": {
     "delete_cmd_postfix": ") ",
     "delete_cmd_prefix": "rm(",
     "library": "var_list.r",
     "varRefreshCmd": "cat(var_dic_list()) "
    }
   },
   "types_to_exclude": [
    "module",
    "function",
    "builtin_function_or_method",
    "instance",
    "_Feature"
   ],
   "window_display": false
  }
 },
 "nbformat": 4,
 "nbformat_minor": 4
}
