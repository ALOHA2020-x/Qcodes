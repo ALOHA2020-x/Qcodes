{
 "cells": [
  {
   "cell_type": "markdown",
   "metadata": {},
   "source": [
    "# DataSet Performance\n",
    "\n",
    "This notebook shows the trade-off between inserting data into a database row-by-row and as binary blobs. Inserting the data row-by-row means that we have direct access to all the data and may perform queries directly on the values of the data. On the other hand, as we shall see, this is much slower than inserting the data directly as binary blobs."
   ]
  },
  {
   "cell_type": "markdown",
   "metadata": {},
   "source": [
    "First, we choose a new location for the database to ensure that we don't add a bunch of benchmarking data to the default one."
   ]
  },
  {
   "cell_type": "code",
   "execution_count": 1,
   "metadata": {
    "execution": {
     "iopub.execute_input": "2021-05-28T06:17:26.381928Z",
     "iopub.status.busy": "2021-05-28T06:17:26.381323Z",
     "iopub.status.idle": "2021-05-28T06:17:27.639808Z",
     "shell.execute_reply": "2021-05-28T06:17:27.639148Z"
    }
   },
   "outputs": [
    {
     "name": "stdout",
     "output_type": "stream",
     "text": [
      "Logging hadn't been started.\n",
      "Activating auto-logging. Current session state plus future input saved.\n",
      "Filename       : /home/runner/.qcodes/logs/command_history.log\n",
      "Mode           : append\n",
      "Output logging : True\n",
      "Raw input log  : False\n",
      "Timestamping   : True\n",
      "State          : active\n"
     ]
    },
    {
     "name": "stdout",
     "output_type": "stream",
     "text": [
      "Qcodes Logfile : /home/runner/.qcodes/logs/210528-4614-qcodes.log\n"
     ]
    }
   ],
   "source": [
    "import os\n",
    "cwd = os.getcwd()\n",
    "import qcodes as qc\n",
    "qc.config[\"core\"][\"db_location\"] = os.path.join(cwd, 'testing.db')\n"
   ]
  },
  {
   "cell_type": "code",
   "execution_count": 2,
   "metadata": {
    "execution": {
     "iopub.execute_input": "2021-05-28T06:17:27.646760Z",
     "iopub.status.busy": "2021-05-28T06:17:27.646139Z",
     "iopub.status.idle": "2021-05-28T06:17:27.863296Z",
     "shell.execute_reply": "2021-05-28T06:17:27.862727Z"
    }
   },
   "outputs": [],
   "source": [
    "%matplotlib inline\n",
    "import time\n",
    "import matplotlib.pyplot as plt\n",
    "import numpy as np\n",
    "\n",
    "import qcodes as qc\n",
    "from qcodes.instrument.parameter import ManualParameter\n",
    "from qcodes.dataset.experiment_container import (Experiment,\n",
    "                                                 load_last_experiment,\n",
    "                                                 new_experiment)\n",
    "from qcodes.dataset.sqlite.database import initialise_database\n",
    "from qcodes import load_or_create_experiment\n",
    "from qcodes.dataset.measurements import Measurement"
   ]
  },
  {
   "cell_type": "code",
   "execution_count": 3,
   "metadata": {
    "execution": {
     "iopub.execute_input": "2021-05-28T06:17:27.867579Z",
     "iopub.status.busy": "2021-05-28T06:17:27.866906Z",
     "iopub.status.idle": "2021-05-28T06:17:27.936917Z",
     "shell.execute_reply": "2021-05-28T06:17:27.937386Z"
    }
   },
   "outputs": [
    {
     "name": "stdout",
     "output_type": "stream",
     "text": [
      "\r",
      "0it [00:00, ?it/s]"
     ]
    },
    {
     "name": "stdout",
     "output_type": "stream",
     "text": [
      "\r",
      "Upgrading database; v0 -> v1: : 0it [00:00, ?it/s]"
     ]
    },
    {
     "name": "stdout",
     "output_type": "stream",
     "text": [
      "\r",
      "Upgrading database; v0 -> v1: : 0it [00:00, ?it/s]"
     ]
    },
    {
     "name": "stdout",
     "output_type": "stream",
     "text": [
      "\n",
      "\r",
      "  0%|          | 0/1 [00:00<?, ?it/s]"
     ]
    },
    {
     "name": "stdout",
     "output_type": "stream",
     "text": [
      "\r",
      "Upgrading database; v1 -> v2:   0%|          | 0/1 [00:00<?, ?it/s]"
     ]
    },
    {
     "name": "stdout",
     "output_type": "stream",
     "text": [
      "\r",
      "Upgrading database; v1 -> v2: 100%|██████████| 1/1 [00:00<00:00, 859.66it/s]"
     ]
    },
    {
     "name": "stdout",
     "output_type": "stream",
     "text": [
      "\n",
      "\r",
      "0it [00:00, ?it/s]"
     ]
    },
    {
     "name": "stdout",
     "output_type": "stream",
     "text": [
      "\r",
      "Upgrading database; v2 -> v3: : 0it [00:00, ?it/s]"
     ]
    },
    {
     "name": "stdout",
     "output_type": "stream",
     "text": [
      "\r",
      "Upgrading database; v2 -> v3: : 0it [00:00, ?it/s]"
     ]
    },
    {
     "name": "stdout",
     "output_type": "stream",
     "text": [
      "\n",
      "\r",
      "0it [00:00, ?it/s]"
     ]
    },
    {
     "name": "stdout",
     "output_type": "stream",
     "text": [
      "\r",
      "Upgrading database; v3 -> v4: : 0it [00:00, ?it/s]"
     ]
    },
    {
     "name": "stdout",
     "output_type": "stream",
     "text": [
      "\r",
      "Upgrading database; v3 -> v4: : 0it [00:00, ?it/s]"
     ]
    },
    {
     "name": "stdout",
     "output_type": "stream",
     "text": [
      "\n",
      "\r",
      "  0%|          | 0/1 [00:00<?, ?it/s]"
     ]
    },
    {
     "name": "stdout",
     "output_type": "stream",
     "text": [
      "\r",
      "Upgrading database; v4 -> v5:   0%|          | 0/1 [00:00<?, ?it/s]"
     ]
    },
    {
     "name": "stdout",
     "output_type": "stream",
     "text": [
      "\r",
      "Upgrading database; v4 -> v5: 100%|██████████| 1/1 [00:00<00:00, 403.07it/s]"
     ]
    },
    {
     "name": "stdout",
     "output_type": "stream",
     "text": [
      "\n",
      "\r",
      "0it [00:00, ?it/s]"
     ]
    },
    {
     "name": "stdout",
     "output_type": "stream",
     "text": [
      "\r",
      "Upgrading database; v5 -> v6: : 0it [00:00, ?it/s]"
     ]
    },
    {
     "name": "stdout",
     "output_type": "stream",
     "text": [
      "\r",
      "Upgrading database; v5 -> v6: : 0it [00:00, ?it/s]"
     ]
    },
    {
     "name": "stdout",
     "output_type": "stream",
     "text": [
      "\n",
      "\r",
      "  0%|          | 0/1 [00:00<?, ?it/s]"
     ]
    },
    {
     "name": "stdout",
     "output_type": "stream",
     "text": [
      "\r",
      "Upgrading database; v6 -> v7:   0%|          | 0/1 [00:00<?, ?it/s]"
     ]
    },
    {
     "name": "stdout",
     "output_type": "stream",
     "text": [
      "\r",
      "Upgrading database; v6 -> v7: 100%|██████████| 1/1 [00:00<00:00, 284.40it/s]"
     ]
    },
    {
     "name": "stdout",
     "output_type": "stream",
     "text": [
      "\n",
      "\r",
      "  0%|          | 0/1 [00:00<?, ?it/s]"
     ]
    },
    {
     "name": "stdout",
     "output_type": "stream",
     "text": [
      "\r",
      "Upgrading database; v7 -> v8:   0%|          | 0/1 [00:00<?, ?it/s]"
     ]
    },
    {
     "name": "stdout",
     "output_type": "stream",
     "text": [
      "\r",
      "Upgrading database; v7 -> v8: 100%|██████████| 1/1 [00:00<00:00, 821.12it/s]"
     ]
    },
    {
     "name": "stdout",
     "output_type": "stream",
     "text": [
      "\n",
      "\r",
      "  0%|          | 0/1 [00:00<?, ?it/s]"
     ]
    },
    {
     "name": "stdout",
     "output_type": "stream",
     "text": [
      "\r",
      "Upgrading database; v8 -> v9:   0%|          | 0/1 [00:00<?, ?it/s]"
     ]
    },
    {
     "name": "stdout",
     "output_type": "stream",
     "text": [
      "\r",
      "Upgrading database; v8 -> v9: 100%|██████████| 1/1 [00:00<00:00, 432.09it/s]"
     ]
    },
    {
     "name": "stdout",
     "output_type": "stream",
     "text": [
      "\n"
     ]
    }
   ],
   "source": [
    "initialise_database()\n",
    "exp = load_or_create_experiment(experiment_name='tutorial_exp', sample_name=\"no sample\")"
   ]
  },
  {
   "cell_type": "markdown",
   "metadata": {},
   "source": [
    "Here, we define a simple function to benchmark the time it takes to insert n points with either numeric or array data type.\n",
    "We will compare both the time used to call ``add_result`` and the time used for the full measurement."
   ]
  },
  {
   "cell_type": "code",
   "execution_count": 4,
   "metadata": {
    "execution": {
     "iopub.execute_input": "2021-05-28T06:17:27.946143Z",
     "iopub.status.busy": "2021-05-28T06:17:27.944698Z",
     "iopub.status.idle": "2021-05-28T06:17:27.948850Z",
     "shell.execute_reply": "2021-05-28T06:17:27.948339Z"
    }
   },
   "outputs": [],
   "source": [
    "def insert_data(paramtype, npoints, nreps=1):\n",
    "\n",
    "    meas = Measurement(exp=exp)\n",
    "\n",
    "    x1 = ManualParameter('x1')\n",
    "    x2 = ManualParameter('x2')\n",
    "    x3 = ManualParameter('x3')\n",
    "    y1 = ManualParameter('y1')\n",
    "    y2 = ManualParameter('y2')\n",
    "\n",
    "    meas.register_parameter(x1, paramtype=paramtype)\n",
    "    meas.register_parameter(x2, paramtype=paramtype)\n",
    "    meas.register_parameter(x3, paramtype=paramtype)\n",
    "    meas.register_parameter(y1, setpoints=[x1, x2, x3],\n",
    "                            paramtype=paramtype)\n",
    "    meas.register_parameter(y2, setpoints=[x1, x2, x3],\n",
    "                            paramtype=paramtype)\n",
    "    start = time.perf_counter()\n",
    "    with meas.run() as datasaver:\n",
    "        start_adding = time.perf_counter()\n",
    "        for i in range(nreps):\n",
    "            datasaver.add_result((x1, np.random.rand(npoints)),\n",
    "                                 (x2, np.random.rand(npoints)),\n",
    "                                 (x3, np.random.rand(npoints)),\n",
    "                                 (y1, np.random.rand(npoints)),\n",
    "                                 (y2, np.random.rand(npoints)))\n",
    "        stop_adding = time.perf_counter()\n",
    "        run_id = datasaver.run_id\n",
    "    stop = time.perf_counter()\n",
    "    tot_time = stop - start\n",
    "    add_time = stop_adding - start_adding\n",
    "    return tot_time, add_time, run_id"
   ]
  },
  {
   "cell_type": "markdown",
   "metadata": {},
   "source": [
    "## Comparison between numeric/array data and binary blob"
   ]
  },
  {
   "cell_type": "markdown",
   "metadata": {},
   "source": [
    "### Case1: Short experiment time"
   ]
  },
  {
   "cell_type": "code",
   "execution_count": 5,
   "metadata": {
    "execution": {
     "iopub.execute_input": "2021-05-28T06:17:27.956272Z",
     "iopub.status.busy": "2021-05-28T06:17:27.955544Z",
     "iopub.status.idle": "2021-05-28T06:17:28.813761Z",
     "shell.execute_reply": "2021-05-28T06:17:28.812920Z"
    }
   },
   "outputs": [
    {
     "name": "stdout",
     "output_type": "stream",
     "text": [
      "Starting experimental run with id: 1. \n",
      "Starting experimental run with id: 2. \n",
      "Starting experimental run with id: 3. \n"
     ]
    },
    {
     "name": "stdout",
     "output_type": "stream",
     "text": [
      "Starting experimental run with id: 4. \n"
     ]
    },
    {
     "name": "stdout",
     "output_type": "stream",
     "text": [
      "Starting experimental run with id: 5. \n"
     ]
    },
    {
     "name": "stdout",
     "output_type": "stream",
     "text": [
      "Starting experimental run with id: 6. \n"
     ]
    },
    {
     "name": "stdout",
     "output_type": "stream",
     "text": [
      "Starting experimental run with id: 7. \n",
      "Starting experimental run with id: 8. \n",
      "Starting experimental run with id: 9. \n"
     ]
    },
    {
     "name": "stdout",
     "output_type": "stream",
     "text": [
      "Starting experimental run with id: 10. \n",
      "Starting experimental run with id: 11. \n",
      "Starting experimental run with id: 12. \n",
      "Starting experimental run with id: 13. \n"
     ]
    },
    {
     "name": "stdout",
     "output_type": "stream",
     "text": [
      "Starting experimental run with id: 14. \n"
     ]
    }
   ],
   "source": [
    "sizes = [1,500,1000,2000,3000,4000,5000]\n",
    "t_numeric = []\n",
    "t_numeric_add = []\n",
    "t_array = []\n",
    "t_array_add = []\n",
    "for size in sizes:\n",
    "    tn, tna, run_id_n =  insert_data('numeric', size)\n",
    "    t_numeric.append(tn)\n",
    "    t_numeric_add.append(tna)\n",
    "\n",
    "    ta, taa, run_id_a =  insert_data('array', size)\n",
    "    t_array.append(ta)\n",
    "    t_array_add.append(taa)"
   ]
  },
  {
   "cell_type": "code",
   "execution_count": 6,
   "metadata": {
    "execution": {
     "iopub.execute_input": "2021-05-28T06:17:28.833756Z",
     "iopub.status.busy": "2021-05-28T06:17:28.833138Z",
     "iopub.status.idle": "2021-05-28T06:17:29.064961Z",
     "shell.execute_reply": "2021-05-28T06:17:29.064072Z"
    }
   },
   "outputs": [
    {
     "data": {
      "image/png": "[encoded data removed]",
      "text/plain": [
       "<Figure size 432x288 with 1 Axes>"
      ]
     },
     "metadata": {
      "needs_background": "light"
     },
     "output_type": "display_data"
    }
   ],
   "source": [
    "fig, ax = plt.subplots(1,1)\n",
    "ax.plot(sizes, t_numeric, 'o-', label='Inserting row-by-row')\n",
    "ax.plot(sizes, t_numeric_add, 'o-', label='Inserting row-by-row: add_result only')\n",
    "ax.plot(sizes, t_array, 'd-', label='Inserting as binary blob')\n",
    "ax.plot(sizes, t_array_add, 'd-', label='Inserting as binary blob: add_result only')\n",
    "ax.legend()\n",
    "ax.set_xlabel('Array length')\n",
    "ax.set_ylabel('Time (s)')\n",
    "fig.tight_layout()"
   ]
  },
  {
   "cell_type": "markdown",
   "metadata": {},
   "source": [
    "As shown in the latter figure, the time to setup and and close the experiment is approximately 0.4 sec. In case of small array sizes, the difference between inserting values of data as arrays and inserting them row-by-row is relatively unimportant. At larger array sizes, i.e. above 10000 points, the cost of writing data as individual datapoints starts to become important.\n"
   ]
  },
  {
   "cell_type": "markdown",
   "metadata": {},
   "source": [
    "### Case2: Long experiment time "
   ]
  },
  {
   "cell_type": "code",
   "execution_count": 7,
   "metadata": {
    "execution": {
     "iopub.execute_input": "2021-05-28T06:17:29.072894Z",
     "iopub.status.busy": "2021-05-28T06:17:29.071649Z",
     "iopub.status.idle": "2021-05-28T06:18:28.770718Z",
     "shell.execute_reply": "2021-05-28T06:18:28.771265Z"
    }
   },
   "outputs": [
    {
     "name": "stdout",
     "output_type": "stream",
     "text": [
      "Starting experimental run with id: 15. \n",
      "Starting experimental run with id: 16. \n",
      "Starting experimental run with id: 17. \n"
     ]
    },
    {
     "name": "stdout",
     "output_type": "stream",
     "text": [
      "Starting experimental run with id: 18. \n",
      "Starting experimental run with id: 19. \n"
     ]
    },
    {
     "name": "stdout",
     "output_type": "stream",
     "text": [
      "Starting experimental run with id: 20. \n"
     ]
    },
    {
     "name": "stdout",
     "output_type": "stream",
     "text": [
      "Starting experimental run with id: 21. \n"
     ]
    },
    {
     "name": "stdout",
     "output_type": "stream",
     "text": [
      "Starting experimental run with id: 22. \n"
     ]
    },
    {
     "name": "stdout",
     "output_type": "stream",
     "text": [
      "Starting experimental run with id: 23. \n"
     ]
    },
    {
     "name": "stdout",
     "output_type": "stream",
     "text": [
      "Starting experimental run with id: 24. \n"
     ]
    },
    {
     "name": "stdout",
     "output_type": "stream",
     "text": [
      "Starting experimental run with id: 25. \n"
     ]
    },
    {
     "name": "stdout",
     "output_type": "stream",
     "text": [
      "Starting experimental run with id: 26. \n"
     ]
    },
    {
     "name": "stdout",
     "output_type": "stream",
     "text": [
      "Starting experimental run with id: 27. \n"
     ]
    },
    {
     "name": "stdout",
     "output_type": "stream",
     "text": [
      "Starting experimental run with id: 28. \n"
     ]
    }
   ],
   "source": [
    "sizes = [1,500,1000,2000,3000,4000,5000]\n",
    "nreps = 100\n",
    "t_numeric = []\n",
    "t_numeric_add = []\n",
    "t_numeric_run_ids = []\n",
    "t_array = []\n",
    "t_array_add = []\n",
    "t_array_run_ids = []\n",
    "for size in sizes:\n",
    "    tn, tna, run_id_n =  insert_data('numeric', size, nreps=nreps)\n",
    "    t_numeric.append(tn)\n",
    "    t_numeric_add.append(tna)\n",
    "    t_numeric_run_ids.append(run_id_n)\n",
    "\n",
    "    ta, taa, run_id_a =  insert_data('array', size, nreps=nreps)\n",
    "    t_array.append(ta)\n",
    "    t_array_add.append(taa)\n",
    "    t_array_run_ids.append(run_id_a)"
   ]
  },
  {
   "cell_type": "code",
   "execution_count": 8,
   "metadata": {
    "execution": {
     "iopub.execute_input": "2021-05-28T06:18:28.802889Z",
     "iopub.status.busy": "2021-05-28T06:18:28.794448Z",
     "iopub.status.idle": "2021-05-28T06:18:29.017314Z",
     "shell.execute_reply": "2021-05-28T06:18:29.016762Z"
    },
    "scrolled": true
   },
   "outputs": [
    {
     "data": {
      "image/png": "[encoded data removed]",
      "text/plain": [
       "<Figure size 432x288 with 1 Axes>"
      ]
     },
     "metadata": {
      "needs_background": "light"
     },
     "output_type": "display_data"
    }
   ],
   "source": [
    "fig, ax = plt.subplots(1,1)\n",
    "ax.plot(sizes, t_numeric, 'o-', label='Inserting row-by-row')\n",
    "ax.plot(sizes, t_numeric_add, 'o-', label='Inserting row-by-row: add_result only')\n",
    "ax.plot(sizes, t_array, 'd-', label='Inserting as binary blob')\n",
    "ax.plot(sizes, t_array_add, 'd-', label='Inserting as binary blob: add_result only')\n",
    "ax.legend()\n",
    "ax.set_xlabel('Array length')\n",
    "ax.set_ylabel('Time (s)')\n",
    "fig.tight_layout()"
   ]
  },
  {
   "cell_type": "markdown",
   "metadata": {},
   "source": [
    "However, as we increase the length of the experiment, as seen here by repeating the insertion 100 times, we see a big difference between inserting values of the data row-by-row and inserting it as a binary blob."
   ]
  },
  {
   "cell_type": "markdown",
   "metadata": {},
   "source": [
    "## Loading the data "
   ]
  },
  {
   "cell_type": "code",
   "execution_count": 9,
   "metadata": {
    "execution": {
     "iopub.execute_input": "2021-05-28T06:18:29.022662Z",
     "iopub.status.busy": "2021-05-28T06:18:29.021385Z",
     "iopub.status.idle": "2021-05-28T06:18:29.023340Z",
     "shell.execute_reply": "2021-05-28T06:18:29.023822Z"
    }
   },
   "outputs": [],
   "source": [
    "from qcodes.dataset.data_set import load_by_id"
   ]
  },
  {
   "cell_type": "markdown",
   "metadata": {},
   "source": [
    "As usual you can load the data by using the ``load_by_id`` function but you will notice that the different storage methods\n",
    "are reflected in shape of the data as it is retrieved. "
   ]
  },
  {
   "cell_type": "code",
   "execution_count": 10,
   "metadata": {
    "execution": {
     "iopub.execute_input": "2021-05-28T06:18:29.028733Z",
     "iopub.status.busy": "2021-05-28T06:18:29.027442Z",
     "iopub.status.idle": "2021-05-28T06:18:29.029401Z",
     "shell.execute_reply": "2021-05-28T06:18:29.029885Z"
    }
   },
   "outputs": [],
   "source": [
    "run_id_n = t_numeric_run_ids[0]\n",
    "run_id_a = t_array_run_ids[0]"
   ]
  },
  {
   "cell_type": "code",
   "execution_count": 11,
   "metadata": {
    "execution": {
     "iopub.execute_input": "2021-05-28T06:18:29.033404Z",
     "iopub.status.busy": "2021-05-28T06:18:29.032821Z",
     "iopub.status.idle": "2021-05-28T06:18:29.042758Z",
     "shell.execute_reply": "2021-05-28T06:18:29.043318Z"
    },
    "scrolled": true
   },
   "outputs": [
    {
     "data": {
      "text/plain": [
       "{'x1': {'x1': array([0.64763764, 0.64763764, 0.05361733, 0.05361733, 0.16070629,\n",
       "         0.16070629, 0.04404814, 0.04404814, 0.80582029, 0.80582029,\n",
       "         0.71134991, 0.71134991, 0.35299712, 0.35299712, 0.15413376,\n",
       "         0.15413376, 0.10680497, 0.10680497, 0.5897333 , 0.5897333 ,\n",
       "         0.23029339, 0.23029339, 0.84497306, 0.84497306, 0.92900476,\n",
       "         0.92900476, 0.41192632, 0.41192632, 0.34149824, 0.34149824,\n",
       "         0.59251873, 0.59251873, 0.65466492, 0.65466492, 0.18044409,\n",
       "         0.18044409, 0.38990565, 0.38990565, 0.41167124, 0.41167124,\n",
       "         0.40809041, 0.40809041, 0.22222818, 0.22222818, 0.24032355,\n",
       "         0.24032355, 0.33213433, 0.33213433, 0.01587369, 0.01587369,\n",
       "         0.44902037, 0.44902037, 0.82213937, 0.82213937, 0.67052637,\n",
       "         0.67052637, 0.47827601, 0.47827601, 0.19801085, 0.19801085,\n",
       "         0.48761718, 0.48761718, 0.3531362 , 0.3531362 , 0.33518794,\n",
       "         0.33518794, 0.29666284, 0.29666284, 0.42512707, 0.42512707,\n",
       "         0.45899179, 0.45899179, 0.50818745, 0.50818745, 0.56939504,\n",
       "         0.56939504, 0.76300849, 0.76300849, 0.83930839, 0.83930839,\n",
       "         0.81443734, 0.81443734, 0.34200372, 0.34200372, 0.13009879,\n",
       "         0.13009879, 0.68575673, 0.68575673, 0.93447915, 0.93447915,\n",
       "         0.15438364, 0.15438364, 0.91331041, 0.91331041, 0.5860713 ,\n",
       "         0.5860713 , 0.54176226, 0.54176226, 0.62354714, 0.62354714,\n",
       "         0.21439679, 0.21439679, 0.09483154, 0.09483154, 0.65473743,\n",
       "         0.65473743, 0.83773245, 0.83773245, 0.40045765, 0.40045765,\n",
       "         0.49690707, 0.49690707, 0.55747253, 0.55747253, 0.94615394,\n",
       "         0.94615394, 0.44086999, 0.44086999, 0.06413211, 0.06413211,\n",
       "         0.46769516, 0.46769516, 0.68110061, 0.68110061, 0.16542494,\n",
       "         0.16542494, 0.68890528, 0.68890528, 0.84268876, 0.84268876,\n",
       "         0.42613683, 0.42613683, 0.93318148, 0.93318148, 0.57167004,\n",
       "         0.57167004, 0.97776809, 0.97776809, 0.83177058, 0.83177058,\n",
       "         0.32514851, 0.32514851, 0.8175321 , 0.8175321 , 0.2975592 ,\n",
       "         0.2975592 , 0.32461853, 0.32461853, 0.5374839 , 0.5374839 ,\n",
       "         0.81519868, 0.81519868, 0.00657041, 0.00657041, 0.51792251,\n",
       "         0.51792251, 0.49650274, 0.49650274, 0.78657232, 0.78657232,\n",
       "         0.521389  , 0.521389  , 0.57816695, 0.57816695, 0.01037275,\n",
       "         0.01037275, 0.2367418 , 0.2367418 , 0.16055113, 0.16055113,\n",
       "         0.20824272, 0.20824272, 0.56197161, 0.56197161, 0.24261085,\n",
       "         0.24261085, 0.19715834, 0.19715834, 0.28909093, 0.28909093,\n",
       "         0.24483739, 0.24483739, 0.49090384, 0.49090384, 0.20941483,\n",
       "         0.20941483, 0.55749043, 0.55749043, 0.72463304, 0.72463304,\n",
       "         0.55811799, 0.55811799, 0.29615647, 0.29615647, 0.13182811,\n",
       "         0.13182811, 0.84857426, 0.84857426, 0.68155805, 0.68155805])}}"
      ]
     },
     "execution_count": 1,
     "metadata": {},
     "output_type": "execute_result"
    }
   ],
   "source": [
    "ds = load_by_id(run_id_n)\n",
    "ds.get_parameter_data('x1')"
   ]
  },
  {
   "cell_type": "markdown",
   "metadata": {},
   "source": [
    "And a dataset stored as binary arrays"
   ]
  },
  {
   "cell_type": "code",
   "execution_count": 12,
   "metadata": {
    "execution": {
     "iopub.execute_input": "2021-05-28T06:18:29.046935Z",
     "iopub.status.busy": "2021-05-28T06:18:29.046326Z",
     "iopub.status.idle": "2021-05-28T06:18:29.107660Z",
     "shell.execute_reply": "2021-05-28T06:18:29.108166Z"
    },
    "scrolled": true
   },
   "outputs": [
    {
     "data": {
      "text/plain": [
       "{'x1': {'x1': array([[0.31703606],\n",
       "         [0.31703606],\n",
       "         [0.46153561],\n",
       "         [0.46153561],\n",
       "         [0.04963899],\n",
       "         [0.04963899],\n",
       "         [0.08788669],\n",
       "         [0.08788669],\n",
       "         [0.40686255],\n",
       "         [0.40686255],\n",
       "         [0.43452764],\n",
       "         [0.43452764],\n",
       "         [0.62319558],\n",
       "         [0.62319558],\n",
       "         [0.28380034],\n",
       "         [0.28380034],\n",
       "         [0.59333719],\n",
       "         [0.59333719],\n",
       "         [0.41938965],\n",
       "         [0.41938965],\n",
       "         [0.7204666 ],\n",
       "         [0.7204666 ],\n",
       "         [0.81980991],\n",
       "         [0.81980991],\n",
       "         [0.48902053],\n",
       "         [0.48902053],\n",
       "         [0.02658989],\n",
       "         [0.02658989],\n",
       "         [0.61877436],\n",
       "         [0.61877436],\n",
       "         [0.37769284],\n",
       "         [0.37769284],\n",
       "         [0.32818723],\n",
       "         [0.32818723],\n",
       "         [0.77935933],\n",
       "         [0.77935933],\n",
       "         [0.83130853],\n",
       "         [0.83130853],\n",
       "         [0.16208687],\n",
       "         [0.16208687],\n",
       "         [0.62425023],\n",
       "         [0.62425023],\n",
       "         [0.36251769],\n",
       "         [0.36251769],\n",
       "         [0.15197575],\n",
       "         [0.15197575],\n",
       "         [0.54948136],\n",
       "         [0.54948136],\n",
       "         [0.12378413],\n",
       "         [0.12378413],\n",
       "         [0.02827043],\n",
       "         [0.02827043],\n",
       "         [0.07614943],\n",
       "         [0.07614943],\n",
       "         [0.0972087 ],\n",
       "         [0.0972087 ],\n",
       "         [0.48259025],\n",
       "         [0.48259025],\n",
       "         [0.80357598],\n",
       "         [0.80357598],\n",
       "         [0.83467331],\n",
       "         [0.83467331],\n",
       "         [0.7197193 ],\n",
       "         [0.7197193 ],\n",
       "         [0.5439365 ],\n",
       "         [0.5439365 ],\n",
       "         [0.3645542 ],\n",
       "         [0.3645542 ],\n",
       "         [0.53003129],\n",
       "         [0.53003129],\n",
       "         [0.83874724],\n",
       "         [0.83874724],\n",
       "         [0.55755525],\n",
       "         [0.55755525],\n",
       "         [0.83334693],\n",
       "         [0.83334693],\n",
       "         [0.27767656],\n",
       "         [0.27767656],\n",
       "         [0.27663031],\n",
       "         [0.27663031],\n",
       "         [0.17301272],\n",
       "         [0.17301272],\n",
       "         [0.51229385],\n",
       "         [0.51229385],\n",
       "         [0.40324703],\n",
       "         [0.40324703],\n",
       "         [0.68514903],\n",
       "         [0.68514903],\n",
       "         [0.23804152],\n",
       "         [0.23804152],\n",
       "         [0.61310988],\n",
       "         [0.61310988],\n",
       "         [0.37761175],\n",
       "         [0.37761175],\n",
       "         [0.58088068],\n",
       "         [0.58088068],\n",
       "         [0.40671054],\n",
       "         [0.40671054],\n",
       "         [0.89288409],\n",
       "         [0.89288409],\n",
       "         [0.93464139],\n",
       "         [0.93464139],\n",
       "         [0.43652344],\n",
       "         [0.43652344],\n",
       "         [0.07899769],\n",
       "         [0.07899769],\n",
       "         [0.58912829],\n",
       "         [0.58912829],\n",
       "         [0.56823983],\n",
       "         [0.56823983],\n",
       "         [0.65187605],\n",
       "         [0.65187605],\n",
       "         [0.63851482],\n",
       "         [0.63851482],\n",
       "         [0.75719128],\n",
       "         [0.75719128],\n",
       "         [0.56589224],\n",
       "         [0.56589224],\n",
       "         [0.52670082],\n",
       "         [0.52670082],\n",
       "         [0.9144481 ],\n",
       "         [0.9144481 ],\n",
       "         [0.39063609],\n",
       "         [0.39063609],\n",
       "         [0.75655512],\n",
       "         [0.75655512],\n",
       "         [0.12031309],\n",
       "         [0.12031309],\n",
       "         [0.13179609],\n",
       "         [0.13179609],\n",
       "         [0.46042887],\n",
       "         [0.46042887],\n",
       "         [0.34551166],\n",
       "         [0.34551166],\n",
       "         [0.77226608],\n",
       "         [0.77226608],\n",
       "         [0.06520197],\n",
       "         [0.06520197],\n",
       "         [0.4048904 ],\n",
       "         [0.4048904 ],\n",
       "         [0.44671445],\n",
       "         [0.44671445],\n",
       "         [0.77522718],\n",
       "         [0.77522718],\n",
       "         [0.79308036],\n",
       "         [0.79308036],\n",
       "         [0.31440041],\n",
       "         [0.31440041],\n",
       "         [0.12766387],\n",
       "         [0.12766387],\n",
       "         [0.50795965],\n",
       "         [0.50795965],\n",
       "         [0.46393183],\n",
       "         [0.46393183],\n",
       "         [0.72393994],\n",
       "         [0.72393994],\n",
       "         [0.58713635],\n",
       "         [0.58713635],\n",
       "         [0.60361043],\n",
       "         [0.60361043],\n",
       "         [0.22690603],\n",
       "         [0.22690603],\n",
       "         [0.60605449],\n",
       "         [0.60605449],\n",
       "         [0.57143699],\n",
       "         [0.57143699],\n",
       "         [0.12995089],\n",
       "         [0.12995089],\n",
       "         [0.81397719],\n",
       "         [0.81397719],\n",
       "         [0.23735343],\n",
       "         [0.23735343],\n",
       "         [0.6926743 ],\n",
       "         [0.6926743 ],\n",
       "         [0.08291131],\n",
       "         [0.08291131],\n",
       "         [0.59731681],\n",
       "         [0.59731681],\n",
       "         [0.78555189],\n",
       "         [0.78555189],\n",
       "         [0.63049439],\n",
       "         [0.63049439],\n",
       "         [0.66674336],\n",
       "         [0.66674336],\n",
       "         [0.16456559],\n",
       "         [0.16456559],\n",
       "         [0.32317353],\n",
       "         [0.32317353],\n",
       "         [0.2734805 ],\n",
       "         [0.2734805 ],\n",
       "         [0.95816093],\n",
       "         [0.95816093],\n",
       "         [0.13698734],\n",
       "         [0.13698734],\n",
       "         [0.25602488],\n",
       "         [0.25602488],\n",
       "         [0.69660717],\n",
       "         [0.69660717],\n",
       "         [0.6662519 ],\n",
       "         [0.6662519 ]])}}"
      ]
     },
     "execution_count": 1,
     "metadata": {},
     "output_type": "execute_result"
    }
   ],
   "source": [
    "ds = load_by_id(run_id_a)\n",
    "ds.get_parameter_data('x1')"
   ]
  },
  {
   "cell_type": "code",
   "execution_count": null,
   "metadata": {},
   "outputs": [],
   "source": []
  }
 ],
 "metadata": {
  "kernelspec": {
   "display_name": "Python 3",
   "language": "python",
   "name": "python3"
  },
  "language_info": {
   "codemirror_mode": {
    "name": "ipython",
    "version": 3
   },
   "file_extension": ".py",
   "mimetype": "text/x-python",
   "name": "python",
   "nbconvert_exporter": "python",
   "pygments_lexer": "ipython3",
   "version": "3.7.10"
  },
  "nbsphinx": {
   "timeout": 600
  },
  "toc": {
   "base_numbering": 1,
   "nav_menu": {},
   "number_sections": true,
   "sideBar": true,
   "skip_h1_title": false,
   "title_cell": "Table of Contents",
   "title_sidebar": "Contents",
   "toc_cell": false,
   "toc_position": {},
   "toc_section_display": true,
   "toc_window_display": false
  },
  "varInspector": {
   "cols": {
    "lenName": 16,
    "lenType": 16,
    "lenVar": 40
   },
   "kernels_config": {
    "python": {
     "delete_cmd_postfix": "",
     "delete_cmd_prefix": "del ",
     "library": "var_list.py",
     "varRefreshCmd": "print(var_dic_list())"
    },
    "r": {
     "delete_cmd_postfix": ") ",
     "delete_cmd_prefix": "rm(",
     "library": "var_list.r",
     "varRefreshCmd": "cat(var_dic_list()) "
    }
   },
   "types_to_exclude": [
    "module",
    "function",
    "builtin_function_or_method",
    "instance",
    "_Feature"
   ],
   "window_display": false
  }
 },
 "nbformat": 4,
 "nbformat_minor": 4
}
