{
 "cells": [
  {
   "cell_type": "markdown",
   "metadata": {},
   "source": [
    "# DataSet Performance\n",
    "\n",
    "This notebook shows the trade-off between inserting data into a database row-by-row and as binary blobs. Inserting the data row-by-row means that we have direct access to all the data and may perform queries directly on the values of the data. On the other hand, as we shall see, this is much slower than inserting the data directly as binary blobs."
   ]
  },
  {
   "cell_type": "markdown",
   "metadata": {},
   "source": [
    "First, we choose a new location for the database to ensure that we don't add a bunch of benchmarking data to the default one."
   ]
  },
  {
   "cell_type": "code",
   "execution_count": 1,
   "metadata": {
    "execution": {
     "iopub.execute_input": "2021-02-01T07:52:54.962272Z",
     "iopub.status.busy": "2021-02-01T07:52:54.961759Z",
     "iopub.status.idle": "2021-02-01T07:52:55.964210Z",
     "shell.execute_reply": "2021-02-01T07:52:55.963707Z"
    }
   },
   "outputs": [
    {
     "name": "stdout",
     "output_type": "stream",
     "text": [
      "Logging hadn't been started.\n",
      "Activating auto-logging. Current session state plus future input saved.\n",
      "Filename       : /home/vsts/.qcodes/logs/command_history.log\n",
      "Mode           : append\n",
      "Output logging : True\n",
      "Raw input log  : False\n",
      "Timestamping   : True\n",
      "State          : active\n"
     ]
    },
    {
     "name": "stdout",
     "output_type": "stream",
     "text": [
      "Qcodes Logfile : /home/vsts/.qcodes/logs/210201-13628-qcodes.log\n"
     ]
    }
   ],
   "source": [
    "import os\n",
    "cwd = os.getcwd()\n",
    "import qcodes as qc\n",
    "qc.config[\"core\"][\"db_location\"] = os.path.join(cwd, 'testing.db')\n"
   ]
  },
  {
   "cell_type": "code",
   "execution_count": 2,
   "metadata": {
    "execution": {
     "iopub.execute_input": "2021-02-01T07:52:55.970250Z",
     "iopub.status.busy": "2021-02-01T07:52:55.969372Z",
     "iopub.status.idle": "2021-02-01T07:52:56.172886Z",
     "shell.execute_reply": "2021-02-01T07:52:56.171593Z"
    }
   },
   "outputs": [],
   "source": [
    "%matplotlib inline\n",
    "import time\n",
    "import matplotlib.pyplot as plt\n",
    "import numpy as np\n",
    "\n",
    "import qcodes as qc\n",
    "from qcodes.instrument.parameter import ManualParameter\n",
    "from qcodes.dataset.experiment_container import (Experiment,\n",
    "                                                 load_last_experiment,\n",
    "                                                 new_experiment)\n",
    "from qcodes.dataset.sqlite.database import initialise_database\n",
    "from qcodes import load_or_create_experiment\n",
    "from qcodes.dataset.measurements import Measurement"
   ]
  },
  {
   "cell_type": "code",
   "execution_count": 3,
   "metadata": {
    "execution": {
     "iopub.execute_input": "2021-02-01T07:52:56.176893Z",
     "iopub.status.busy": "2021-02-01T07:52:56.176317Z",
     "iopub.status.idle": "2021-02-01T07:52:56.279623Z",
     "shell.execute_reply": "2021-02-01T07:52:56.279066Z"
    }
   },
   "outputs": [
    {
     "name": "stdout",
     "output_type": "stream",
     "text": [
      "\r",
      "0it [00:00, ?it/s]"
     ]
    },
    {
     "name": "stdout",
     "output_type": "stream",
     "text": [
      "\r",
      "Upgrading database; v0 -> v1: : 0it [00:00, ?it/s]"
     ]
    },
    {
     "name": "stdout",
     "output_type": "stream",
     "text": [
      "\r",
      "Upgrading database; v0 -> v1: : 0it [00:00, ?it/s]"
     ]
    },
    {
     "name": "stdout",
     "output_type": "stream",
     "text": [
      "\n",
      "\r",
      "  0%|          | 0/1 [00:00<?, ?it/s]"
     ]
    },
    {
     "name": "stdout",
     "output_type": "stream",
     "text": [
      "\r",
      "Upgrading database; v1 -> v2:   0%|          | 0/1 [00:00<?, ?it/s]"
     ]
    },
    {
     "name": "stdout",
     "output_type": "stream",
     "text": [
      "\r",
      "Upgrading database; v1 -> v2: 100%|██████████| 1/1 [00:00<00:00, 577.01it/s]"
     ]
    },
    {
     "name": "stdout",
     "output_type": "stream",
     "text": [
      "\n",
      "\r",
      "0it [00:00, ?it/s]"
     ]
    },
    {
     "name": "stdout",
     "output_type": "stream",
     "text": [
      "\r",
      "Upgrading database; v2 -> v3: : 0it [00:00, ?it/s]"
     ]
    },
    {
     "name": "stdout",
     "output_type": "stream",
     "text": [
      "\r",
      "Upgrading database; v2 -> v3: : 0it [00:00, ?it/s]"
     ]
    },
    {
     "name": "stdout",
     "output_type": "stream",
     "text": [
      "\n",
      "\r",
      "0it [00:00, ?it/s]"
     ]
    },
    {
     "name": "stdout",
     "output_type": "stream",
     "text": [
      "\r",
      "Upgrading database; v3 -> v4: : 0it [00:00, ?it/s]"
     ]
    },
    {
     "name": "stdout",
     "output_type": "stream",
     "text": [
      "\r",
      "Upgrading database; v3 -> v4: : 0it [00:00, ?it/s]"
     ]
    },
    {
     "name": "stdout",
     "output_type": "stream",
     "text": [
      "\n",
      "\r",
      "  0%|          | 0/1 [00:00<?, ?it/s]"
     ]
    },
    {
     "name": "stdout",
     "output_type": "stream",
     "text": [
      "\r",
      "Upgrading database; v4 -> v5:   0%|          | 0/1 [00:00<?, ?it/s]"
     ]
    },
    {
     "name": "stdout",
     "output_type": "stream",
     "text": [
      "\r",
      "Upgrading database; v4 -> v5: 100%|██████████| 1/1 [00:00<00:00, 657.00it/s]"
     ]
    },
    {
     "name": "stdout",
     "output_type": "stream",
     "text": [
      "\n",
      "\r",
      "0it [00:00, ?it/s]"
     ]
    },
    {
     "name": "stdout",
     "output_type": "stream",
     "text": [
      "\r",
      "Upgrading database; v5 -> v6: : 0it [00:00, ?it/s]"
     ]
    },
    {
     "name": "stdout",
     "output_type": "stream",
     "text": [
      "\r",
      "Upgrading database; v5 -> v6: : 0it [00:00, ?it/s]"
     ]
    },
    {
     "name": "stdout",
     "output_type": "stream",
     "text": [
      "\n",
      "\r",
      "  0%|          | 0/1 [00:00<?, ?it/s]"
     ]
    },
    {
     "name": "stdout",
     "output_type": "stream",
     "text": [
      "\r",
      "Upgrading database; v6 -> v7:   0%|          | 0/1 [00:00<?, ?it/s]"
     ]
    },
    {
     "name": "stdout",
     "output_type": "stream",
     "text": [
      "\r",
      "Upgrading database; v6 -> v7: 100%|██████████| 1/1 [00:00<00:00, 497.31it/s]"
     ]
    },
    {
     "name": "stdout",
     "output_type": "stream",
     "text": [
      "\n",
      "\r",
      "  0%|          | 0/1 [00:00<?, ?it/s]"
     ]
    },
    {
     "name": "stdout",
     "output_type": "stream",
     "text": [
      "\r",
      "Upgrading database; v7 -> v8:   0%|          | 0/1 [00:00<?, ?it/s]"
     ]
    },
    {
     "name": "stdout",
     "output_type": "stream",
     "text": [
      "\r",
      "Upgrading database; v7 -> v8: 100%|██████████| 1/1 [00:00<00:00, 933.73it/s]"
     ]
    },
    {
     "name": "stdout",
     "output_type": "stream",
     "text": [
      "\n",
      "\r",
      "  0%|          | 0/1 [00:00<?, ?it/s]"
     ]
    },
    {
     "name": "stdout",
     "output_type": "stream",
     "text": [
      "\r",
      "Upgrading database; v8 -> v9:   0%|          | 0/1 [00:00<?, ?it/s]"
     ]
    },
    {
     "name": "stdout",
     "output_type": "stream",
     "text": [
      "\r",
      "Upgrading database; v8 -> v9: 100%|██████████| 1/1 [00:00<00:00, 985.50it/s]"
     ]
    },
    {
     "name": "stdout",
     "output_type": "stream",
     "text": [
      "\n"
     ]
    }
   ],
   "source": [
    "initialise_database()\n",
    "exp = load_or_create_experiment(experiment_name='tutorial_exp', sample_name=\"no sample\")"
   ]
  },
  {
   "cell_type": "markdown",
   "metadata": {},
   "source": [
    "Here, we define a simple function to benchmark the time it takes to insert n points with either numeric or array data type.\n",
    "We will compare both the time used to call ``add_result`` and the time used for the full measurement."
   ]
  },
  {
   "cell_type": "code",
   "execution_count": 4,
   "metadata": {
    "execution": {
     "iopub.execute_input": "2021-02-01T07:52:56.292143Z",
     "iopub.status.busy": "2021-02-01T07:52:56.290538Z",
     "iopub.status.idle": "2021-02-01T07:52:56.294350Z",
     "shell.execute_reply": "2021-02-01T07:52:56.293835Z"
    }
   },
   "outputs": [],
   "source": [
    "def insert_data(paramtype, npoints, nreps=1):\n",
    "\n",
    "    meas = Measurement(exp=exp)\n",
    "\n",
    "    x1 = ManualParameter('x1')\n",
    "    x2 = ManualParameter('x2')\n",
    "    x3 = ManualParameter('x3')\n",
    "    y1 = ManualParameter('y1')\n",
    "    y2 = ManualParameter('y2')\n",
    "\n",
    "    meas.register_parameter(x1, paramtype=paramtype)\n",
    "    meas.register_parameter(x2, paramtype=paramtype)\n",
    "    meas.register_parameter(x3, paramtype=paramtype)\n",
    "    meas.register_parameter(y1, setpoints=[x1, x2, x3],\n",
    "                            paramtype=paramtype)\n",
    "    meas.register_parameter(y2, setpoints=[x1, x2, x3],\n",
    "                            paramtype=paramtype)\n",
    "    start = time.perf_counter()\n",
    "    with meas.run() as datasaver:\n",
    "        start_adding = time.perf_counter()\n",
    "        for i in range(nreps):\n",
    "            datasaver.add_result((x1, np.random.rand(npoints)),\n",
    "                                 (x2, np.random.rand(npoints)),\n",
    "                                 (x3, np.random.rand(npoints)),\n",
    "                                 (y1, np.random.rand(npoints)),\n",
    "                                 (y2, np.random.rand(npoints)))\n",
    "        stop_adding = time.perf_counter()\n",
    "        run_id = datasaver.run_id\n",
    "    stop = time.perf_counter()\n",
    "    tot_time = stop - start\n",
    "    add_time = stop_adding - start_adding\n",
    "    return tot_time, add_time, run_id"
   ]
  },
  {
   "cell_type": "markdown",
   "metadata": {},
   "source": [
    "## Comparison between numeric/array data and binary blob"
   ]
  },
  {
   "cell_type": "markdown",
   "metadata": {},
   "source": [
    "### Case1: Short experiment time"
   ]
  },
  {
   "cell_type": "code",
   "execution_count": 5,
   "metadata": {
    "execution": {
     "iopub.execute_input": "2021-02-01T07:52:56.300463Z",
     "iopub.status.busy": "2021-02-01T07:52:56.299954Z",
     "iopub.status.idle": "2021-02-01T07:52:57.154959Z",
     "shell.execute_reply": "2021-02-01T07:52:57.154502Z"
    }
   },
   "outputs": [
    {
     "name": "stdout",
     "output_type": "stream",
     "text": [
      "Starting experimental run with id: 1. \n",
      "Starting experimental run with id: 2. \n",
      "Starting experimental run with id: 3. \n",
      "Starting experimental run with id: 4. \n",
      "Starting experimental run with id: 5. \n"
     ]
    },
    {
     "name": "stdout",
     "output_type": "stream",
     "text": [
      "Starting experimental run with id: 6. \n"
     ]
    },
    {
     "name": "stdout",
     "output_type": "stream",
     "text": [
      "Starting experimental run with id: 7. \n"
     ]
    },
    {
     "name": "stdout",
     "output_type": "stream",
     "text": [
      "Starting experimental run with id: 8. \n",
      "Starting experimental run with id: 9. \n"
     ]
    },
    {
     "name": "stdout",
     "output_type": "stream",
     "text": [
      "Starting experimental run with id: 10. \n",
      "Starting experimental run with id: 11. \n"
     ]
    },
    {
     "name": "stdout",
     "output_type": "stream",
     "text": [
      "Starting experimental run with id: 12. \n"
     ]
    },
    {
     "name": "stdout",
     "output_type": "stream",
     "text": [
      "Starting experimental run with id: 13. \n"
     ]
    },
    {
     "name": "stdout",
     "output_type": "stream",
     "text": [
      "Starting experimental run with id: 14. \n"
     ]
    }
   ],
   "source": [
    "sizes = [1,500,1000,2000,3000,4000,5000]\n",
    "t_numeric = []\n",
    "t_numeric_add = []\n",
    "t_array = []\n",
    "t_array_add = []\n",
    "for size in sizes:\n",
    "    tn, tna, run_id_n =  insert_data('numeric', size)\n",
    "    t_numeric.append(tn)\n",
    "    t_numeric_add.append(tna)\n",
    "\n",
    "    ta, taa, run_id_a =  insert_data('array', size)\n",
    "    t_array.append(ta)\n",
    "    t_array_add.append(taa)"
   ]
  },
  {
   "cell_type": "code",
   "execution_count": 6,
   "metadata": {
    "execution": {
     "iopub.execute_input": "2021-02-01T07:52:57.173470Z",
     "iopub.status.busy": "2021-02-01T07:52:57.160718Z",
     "iopub.status.idle": "2021-02-01T07:52:57.363627Z",
     "shell.execute_reply": "2021-02-01T07:52:57.363181Z"
    }
   },
   "outputs": [
    {
     "data": {
      "image/png": "[encoded data removed]",
      "text/plain": [
       "<Figure size 432x288 with 1 Axes>"
      ]
     },
     "metadata": {
      "needs_background": "light"
     },
     "output_type": "display_data"
    }
   ],
   "source": [
    "fig, ax = plt.subplots(1,1)\n",
    "ax.plot(sizes, t_numeric, 'o-', label='Inserting row-by-row')\n",
    "ax.plot(sizes, t_numeric_add, 'o-', label='Inserting row-by-row: add_result only')\n",
    "ax.plot(sizes, t_array, 'd-', label='Inserting as binary blob')\n",
    "ax.plot(sizes, t_array_add, 'd-', label='Inserting as binary blob: add_result only')\n",
    "ax.legend()\n",
    "ax.set_xlabel('Array length')\n",
    "ax.set_ylabel('Time (s)')\n",
    "fig.tight_layout()"
   ]
  },
  {
   "cell_type": "markdown",
   "metadata": {},
   "source": [
    "As shown in the latter figure, the time to setup and and close the experiment is approximately 0.4 sec. In case of small array sizes, the difference between inserting values of data as arrays and inserting them row-by-row is relatively unimportant. At larger array sizes, i.e. above 10000 points, the cost of writing data as individual datapoints starts to become important.\n"
   ]
  },
  {
   "cell_type": "markdown",
   "metadata": {},
   "source": [
    "### Case2: Long experiment time "
   ]
  },
  {
   "cell_type": "code",
   "execution_count": 7,
   "metadata": {
    "execution": {
     "iopub.execute_input": "2021-02-01T07:52:57.369436Z",
     "iopub.status.busy": "2021-02-01T07:52:57.368163Z",
     "iopub.status.idle": "2021-02-01T07:53:55.706980Z",
     "shell.execute_reply": "2021-02-01T07:53:55.707422Z"
    }
   },
   "outputs": [
    {
     "name": "stdout",
     "output_type": "stream",
     "text": [
      "Starting experimental run with id: 15. \n",
      "Starting experimental run with id: 16. \n",
      "Starting experimental run with id: 17. \n"
     ]
    },
    {
     "name": "stdout",
     "output_type": "stream",
     "text": [
      "Starting experimental run with id: 18. \n",
      "Starting experimental run with id: 19. \n"
     ]
    },
    {
     "name": "stdout",
     "output_type": "stream",
     "text": [
      "Starting experimental run with id: 20. \n"
     ]
    },
    {
     "name": "stdout",
     "output_type": "stream",
     "text": [
      "Starting experimental run with id: 21. \n"
     ]
    },
    {
     "name": "stdout",
     "output_type": "stream",
     "text": [
      "Starting experimental run with id: 22. \n"
     ]
    },
    {
     "name": "stdout",
     "output_type": "stream",
     "text": [
      "Starting experimental run with id: 23. \n"
     ]
    },
    {
     "name": "stdout",
     "output_type": "stream",
     "text": [
      "Starting experimental run with id: 24. \n"
     ]
    },
    {
     "name": "stdout",
     "output_type": "stream",
     "text": [
      "Starting experimental run with id: 25. \n"
     ]
    },
    {
     "name": "stdout",
     "output_type": "stream",
     "text": [
      "Starting experimental run with id: 26. \n"
     ]
    },
    {
     "name": "stdout",
     "output_type": "stream",
     "text": [
      "Starting experimental run with id: 27. \n"
     ]
    },
    {
     "name": "stdout",
     "output_type": "stream",
     "text": [
      "Starting experimental run with id: 28. \n"
     ]
    }
   ],
   "source": [
    "sizes = [1,500,1000,2000,3000,4000,5000]\n",
    "nreps = 100\n",
    "t_numeric = []\n",
    "t_numeric_add = []\n",
    "t_numeric_run_ids = []\n",
    "t_array = []\n",
    "t_array_add = []\n",
    "t_array_run_ids = []\n",
    "for size in sizes:\n",
    "    tn, tna, run_id_n =  insert_data('numeric', size, nreps=nreps)\n",
    "    t_numeric.append(tn)\n",
    "    t_numeric_add.append(tna)\n",
    "    t_numeric_run_ids.append(run_id_n)\n",
    "\n",
    "    ta, taa, run_id_a =  insert_data('array', size, nreps=nreps)\n",
    "    t_array.append(ta)\n",
    "    t_array_add.append(taa)\n",
    "    t_array_run_ids.append(run_id_a)"
   ]
  },
  {
   "cell_type": "code",
   "execution_count": 8,
   "metadata": {
    "execution": {
     "iopub.execute_input": "2021-02-01T07:53:55.734339Z",
     "iopub.status.busy": "2021-02-01T07:53:55.724309Z",
     "iopub.status.idle": "2021-02-01T07:53:55.915106Z",
     "shell.execute_reply": "2021-02-01T07:53:55.916372Z"
    },
    "scrolled": true
   },
   "outputs": [
    {
     "data": {
      "image/png": "[encoded data removed]",
      "text/plain": [
       "<Figure size 432x288 with 1 Axes>"
      ]
     },
     "metadata": {
      "needs_background": "light"
     },
     "output_type": "display_data"
    }
   ],
   "source": [
    "fig, ax = plt.subplots(1,1)\n",
    "ax.plot(sizes, t_numeric, 'o-', label='Inserting row-by-row')\n",
    "ax.plot(sizes, t_numeric_add, 'o-', label='Inserting row-by-row: add_result only')\n",
    "ax.plot(sizes, t_array, 'd-', label='Inserting as binary blob')\n",
    "ax.plot(sizes, t_array_add, 'd-', label='Inserting as binary blob: add_result only')\n",
    "ax.legend()\n",
    "ax.set_xlabel('Array length')\n",
    "ax.set_ylabel('Time (s)')\n",
    "fig.tight_layout()"
   ]
  },
  {
   "cell_type": "markdown",
   "metadata": {},
   "source": [
    "However, as we increase the length of the experiment, as seen here by repeating the insertion 100 times, we see a big difference between inserting values of the data row-by-row and inserting it as a binary blob."
   ]
  },
  {
   "cell_type": "markdown",
   "metadata": {},
   "source": [
    "## Loading the data "
   ]
  },
  {
   "cell_type": "code",
   "execution_count": 9,
   "metadata": {
    "execution": {
     "iopub.execute_input": "2021-02-01T07:53:55.921309Z",
     "iopub.status.busy": "2021-02-01T07:53:55.920578Z",
     "iopub.status.idle": "2021-02-01T07:53:55.923431Z",
     "shell.execute_reply": "2021-02-01T07:53:55.922971Z"
    }
   },
   "outputs": [],
   "source": [
    "from qcodes.dataset.data_set import load_by_id\n",
    "from qcodes.dataset.data_export import get_data_by_id"
   ]
  },
  {
   "cell_type": "markdown",
   "metadata": {},
   "source": [
    "As usual you can load the data by using the ``load_by_id`` function but you will notice that the different storage methods\n",
    "are reflected in shape of the data as it is retrieved. "
   ]
  },
  {
   "cell_type": "code",
   "execution_count": 10,
   "metadata": {
    "execution": {
     "iopub.execute_input": "2021-02-01T07:53:55.927273Z",
     "iopub.status.busy": "2021-02-01T07:53:55.925732Z",
     "iopub.status.idle": "2021-02-01T07:53:55.930076Z",
     "shell.execute_reply": "2021-02-01T07:53:55.929595Z"
    }
   },
   "outputs": [],
   "source": [
    "run_id_n = t_numeric_run_ids[0]\n",
    "run_id_a = t_array_run_ids[0]"
   ]
  },
  {
   "cell_type": "code",
   "execution_count": 11,
   "metadata": {
    "execution": {
     "iopub.execute_input": "2021-02-01T07:53:55.937145Z",
     "iopub.status.busy": "2021-02-01T07:53:55.933097Z",
     "iopub.status.idle": "2021-02-01T07:53:55.942775Z",
     "shell.execute_reply": "2021-02-01T07:53:55.943179Z"
    },
    "scrolled": true
   },
   "outputs": [
    {
     "data": {
      "text/plain": [
       "{'x1': {'x1': array([0.19892851, 0.19892851, 0.76331841, 0.76331841, 0.7170074 ,\n",
       "         0.7170074 , 0.66996791, 0.66996791, 0.14696719, 0.14696719,\n",
       "         0.66736227, 0.66736227, 0.57050119, 0.57050119, 0.25750665,\n",
       "         0.25750665, 0.34236328, 0.34236328, 0.90468943, 0.90468943,\n",
       "         0.75452644, 0.75452644, 0.28999778, 0.28999778, 0.67066927,\n",
       "         0.67066927, 0.50052108, 0.50052108, 0.18324059, 0.18324059,\n",
       "         0.75936579, 0.75936579, 0.34485357, 0.34485357, 0.1608815 ,\n",
       "         0.1608815 , 0.11012527, 0.11012527, 0.68744886, 0.68744886,\n",
       "         0.23417756, 0.23417756, 0.62431711, 0.62431711, 0.56206953,\n",
       "         0.56206953, 0.95759616, 0.95759616, 0.87210913, 0.87210913,\n",
       "         0.71998481, 0.71998481, 0.07806051, 0.07806051, 0.11684229,\n",
       "         0.11684229, 0.87305553, 0.87305553, 0.34883032, 0.34883032,\n",
       "         0.38837198, 0.38837198, 0.50578087, 0.50578087, 0.35335718,\n",
       "         0.35335718, 0.35465658, 0.35465658, 0.58239389, 0.58239389,\n",
       "         0.00702217, 0.00702217, 0.7046589 , 0.7046589 , 0.43412225,\n",
       "         0.43412225, 0.81835838, 0.81835838, 0.15853065, 0.15853065,\n",
       "         0.4736805 , 0.4736805 , 0.00631866, 0.00631866, 0.26639462,\n",
       "         0.26639462, 0.63140134, 0.63140134, 0.92076972, 0.92076972,\n",
       "         0.619916  , 0.619916  , 0.58309814, 0.58309814, 0.39727453,\n",
       "         0.39727453, 0.16163842, 0.16163842, 0.54071018, 0.54071018,\n",
       "         0.05669144, 0.05669144, 0.64963474, 0.64963474, 0.50977529,\n",
       "         0.50977529, 0.51883497, 0.51883497, 0.15147944, 0.15147944,\n",
       "         0.6904305 , 0.6904305 , 0.56671939, 0.56671939, 0.01837063,\n",
       "         0.01837063, 0.21607931, 0.21607931, 0.9600356 , 0.9600356 ,\n",
       "         0.44402778, 0.44402778, 0.58523016, 0.58523016, 0.5532106 ,\n",
       "         0.5532106 , 0.05602352, 0.05602352, 0.36583473, 0.36583473,\n",
       "         0.56669772, 0.56669772, 0.96912539, 0.96912539, 0.4173256 ,\n",
       "         0.4173256 , 0.05124414, 0.05124414, 0.80204156, 0.80204156,\n",
       "         0.13680243, 0.13680243, 0.1067049 , 0.1067049 , 0.93740024,\n",
       "         0.93740024, 0.45161169, 0.45161169, 0.2789673 , 0.2789673 ,\n",
       "         0.85893538, 0.85893538, 0.60880231, 0.60880231, 0.26324039,\n",
       "         0.26324039, 0.58934729, 0.58934729, 0.08465721, 0.08465721,\n",
       "         0.97062078, 0.97062078, 0.04141241, 0.04141241, 0.02790081,\n",
       "         0.02790081, 0.39496318, 0.39496318, 0.70627786, 0.70627786,\n",
       "         0.26904026, 0.26904026, 0.27974347, 0.27974347, 0.42891546,\n",
       "         0.42891546, 0.60812167, 0.60812167, 0.98679824, 0.98679824,\n",
       "         0.45019917, 0.45019917, 0.02930509, 0.02930509, 0.20827933,\n",
       "         0.20827933, 0.92268451, 0.92268451, 0.09377431, 0.09377431,\n",
       "         0.52447324, 0.52447324, 0.29945097, 0.29945097, 0.04513687,\n",
       "         0.04513687, 0.58293814, 0.58293814, 0.48585564, 0.48585564])}}"
      ]
     },
     "execution_count": 1,
     "metadata": {},
     "output_type": "execute_result"
    }
   ],
   "source": [
    "ds = load_by_id(run_id_n)\n",
    "ds.get_parameter_data('x1')"
   ]
  },
  {
   "cell_type": "markdown",
   "metadata": {},
   "source": [
    "And a dataset stored as binary arrays"
   ]
  },
  {
   "cell_type": "code",
   "execution_count": 12,
   "metadata": {
    "execution": {
     "iopub.execute_input": "2021-02-01T07:53:55.946874Z",
     "iopub.status.busy": "2021-02-01T07:53:55.946263Z",
     "iopub.status.idle": "2021-02-01T07:53:55.999005Z",
     "shell.execute_reply": "2021-02-01T07:53:55.998418Z"
    },
    "scrolled": true
   },
   "outputs": [
    {
     "data": {
      "text/plain": [
       "{'x1': {'x1': array([[0.22620911],\n",
       "         [0.22620911],\n",
       "         [0.80955609],\n",
       "         [0.80955609],\n",
       "         [0.50547475],\n",
       "         [0.50547475],\n",
       "         [0.92034285],\n",
       "         [0.92034285],\n",
       "         [0.5264902 ],\n",
       "         [0.5264902 ],\n",
       "         [0.13406114],\n",
       "         [0.13406114],\n",
       "         [0.07072078],\n",
       "         [0.07072078],\n",
       "         [0.26121771],\n",
       "         [0.26121771],\n",
       "         [0.89081239],\n",
       "         [0.89081239],\n",
       "         [0.77297192],\n",
       "         [0.77297192],\n",
       "         [0.93134495],\n",
       "         [0.93134495],\n",
       "         [0.23379319],\n",
       "         [0.23379319],\n",
       "         [0.40842115],\n",
       "         [0.40842115],\n",
       "         [0.41913565],\n",
       "         [0.41913565],\n",
       "         [0.73899678],\n",
       "         [0.73899678],\n",
       "         [0.13629881],\n",
       "         [0.13629881],\n",
       "         [0.87117225],\n",
       "         [0.87117225],\n",
       "         [0.25337297],\n",
       "         [0.25337297],\n",
       "         [0.38675381],\n",
       "         [0.38675381],\n",
       "         [0.93633571],\n",
       "         [0.93633571],\n",
       "         [0.02770448],\n",
       "         [0.02770448],\n",
       "         [0.74184033],\n",
       "         [0.74184033],\n",
       "         [0.6499587 ],\n",
       "         [0.6499587 ],\n",
       "         [0.96397379],\n",
       "         [0.96397379],\n",
       "         [0.09478771],\n",
       "         [0.09478771],\n",
       "         [0.70034292],\n",
       "         [0.70034292],\n",
       "         [0.060572  ],\n",
       "         [0.060572  ],\n",
       "         [0.12234348],\n",
       "         [0.12234348],\n",
       "         [0.59034916],\n",
       "         [0.59034916],\n",
       "         [0.99425933],\n",
       "         [0.99425933],\n",
       "         [0.15646843],\n",
       "         [0.15646843],\n",
       "         [0.89322445],\n",
       "         [0.89322445],\n",
       "         [0.96832596],\n",
       "         [0.96832596],\n",
       "         [0.2816876 ],\n",
       "         [0.2816876 ],\n",
       "         [0.07578817],\n",
       "         [0.07578817],\n",
       "         [0.2069722 ],\n",
       "         [0.2069722 ],\n",
       "         [0.15769773],\n",
       "         [0.15769773],\n",
       "         [0.66787593],\n",
       "         [0.66787593],\n",
       "         [0.63422426],\n",
       "         [0.63422426],\n",
       "         [0.54145894],\n",
       "         [0.54145894],\n",
       "         [0.9411188 ],\n",
       "         [0.9411188 ],\n",
       "         [0.51429647],\n",
       "         [0.51429647],\n",
       "         [0.58974449],\n",
       "         [0.58974449],\n",
       "         [0.68090338],\n",
       "         [0.68090338],\n",
       "         [0.80968602],\n",
       "         [0.80968602],\n",
       "         [0.16085835],\n",
       "         [0.16085835],\n",
       "         [0.8360957 ],\n",
       "         [0.8360957 ],\n",
       "         [0.25414812],\n",
       "         [0.25414812],\n",
       "         [0.98599425],\n",
       "         [0.98599425],\n",
       "         [0.97856919],\n",
       "         [0.97856919],\n",
       "         [0.81565196],\n",
       "         [0.81565196],\n",
       "         [0.03911537],\n",
       "         [0.03911537],\n",
       "         [0.55191654],\n",
       "         [0.55191654],\n",
       "         [0.97957422],\n",
       "         [0.97957422],\n",
       "         [0.66478119],\n",
       "         [0.66478119],\n",
       "         [0.26495934],\n",
       "         [0.26495934],\n",
       "         [0.17987225],\n",
       "         [0.17987225],\n",
       "         [0.78897542],\n",
       "         [0.78897542],\n",
       "         [0.37916442],\n",
       "         [0.37916442],\n",
       "         [0.32118777],\n",
       "         [0.32118777],\n",
       "         [0.99447663],\n",
       "         [0.99447663],\n",
       "         [0.34771571],\n",
       "         [0.34771571],\n",
       "         [0.60582458],\n",
       "         [0.60582458],\n",
       "         [0.80334804],\n",
       "         [0.80334804],\n",
       "         [0.7211876 ],\n",
       "         [0.7211876 ],\n",
       "         [0.78141099],\n",
       "         [0.78141099],\n",
       "         [0.86778831],\n",
       "         [0.86778831],\n",
       "         [0.85948854],\n",
       "         [0.85948854],\n",
       "         [0.54950046],\n",
       "         [0.54950046],\n",
       "         [0.50356469],\n",
       "         [0.50356469],\n",
       "         [0.41129654],\n",
       "         [0.41129654],\n",
       "         [0.82588311],\n",
       "         [0.82588311],\n",
       "         [0.81160197],\n",
       "         [0.81160197],\n",
       "         [0.21673397],\n",
       "         [0.21673397],\n",
       "         [0.61536258],\n",
       "         [0.61536258],\n",
       "         [0.96069489],\n",
       "         [0.96069489],\n",
       "         [0.37871928],\n",
       "         [0.37871928],\n",
       "         [0.4709734 ],\n",
       "         [0.4709734 ],\n",
       "         [0.16480416],\n",
       "         [0.16480416],\n",
       "         [0.55923366],\n",
       "         [0.55923366],\n",
       "         [0.58666539],\n",
       "         [0.58666539],\n",
       "         [0.4901288 ],\n",
       "         [0.4901288 ],\n",
       "         [0.49657367],\n",
       "         [0.49657367],\n",
       "         [0.61243304],\n",
       "         [0.61243304],\n",
       "         [0.67952055],\n",
       "         [0.67952055],\n",
       "         [0.77245607],\n",
       "         [0.77245607],\n",
       "         [0.46038646],\n",
       "         [0.46038646],\n",
       "         [0.33148415],\n",
       "         [0.33148415],\n",
       "         [0.40186022],\n",
       "         [0.40186022],\n",
       "         [0.18039704],\n",
       "         [0.18039704],\n",
       "         [0.31670412],\n",
       "         [0.31670412],\n",
       "         [0.89779989],\n",
       "         [0.89779989],\n",
       "         [0.78539588],\n",
       "         [0.78539588],\n",
       "         [0.50032959],\n",
       "         [0.50032959],\n",
       "         [0.59921403],\n",
       "         [0.59921403],\n",
       "         [0.65665782],\n",
       "         [0.65665782],\n",
       "         [0.01507797],\n",
       "         [0.01507797],\n",
       "         [0.2007474 ],\n",
       "         [0.2007474 ],\n",
       "         [0.50938905],\n",
       "         [0.50938905],\n",
       "         [0.91510075],\n",
       "         [0.91510075]])}}"
      ]
     },
     "execution_count": 1,
     "metadata": {},
     "output_type": "execute_result"
    }
   ],
   "source": [
    "ds = load_by_id(run_id_a)\n",
    "ds.get_parameter_data('x1')"
   ]
  },
  {
   "cell_type": "code",
   "execution_count": null,
   "metadata": {},
   "outputs": [],
   "source": []
  }
 ],
 "metadata": {
  "kernelspec": {
   "display_name": "Python 3",
   "language": "python",
   "name": "python3"
  },
  "language_info": {
   "codemirror_mode": {
    "name": "ipython",
    "version": 3
   },
   "file_extension": ".py",
   "mimetype": "text/x-python",
   "name": "python",
   "nbconvert_exporter": "python",
   "pygments_lexer": "ipython3",
   "version": "3.7.9"
  },
  "nbsphinx": {
   "timeout": 600
  },
  "toc": {
   "base_numbering": 1,
   "nav_menu": {},
   "number_sections": true,
   "sideBar": true,
   "skip_h1_title": false,
   "title_cell": "Table of Contents",
   "title_sidebar": "Contents",
   "toc_cell": false,
   "toc_position": {},
   "toc_section_display": true,
   "toc_window_display": false
  },
  "varInspector": {
   "cols": {
    "lenName": 16,
    "lenType": 16,
    "lenVar": 40
   },
   "kernels_config": {
    "python": {
     "delete_cmd_postfix": "",
     "delete_cmd_prefix": "del ",
     "library": "var_list.py",
     "varRefreshCmd": "print(var_dic_list())"
    },
    "r": {
     "delete_cmd_postfix": ") ",
     "delete_cmd_prefix": "rm(",
     "library": "var_list.r",
     "varRefreshCmd": "cat(var_dic_list()) "
    }
   },
   "types_to_exclude": [
    "module",
    "function",
    "builtin_function_or_method",
    "instance",
    "_Feature"
   ],
   "window_display": false
  }
 },
 "nbformat": 4,
 "nbformat_minor": 2
}
