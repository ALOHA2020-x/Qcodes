{
 "cells": [
  {
   "cell_type": "markdown",
   "metadata": {},
   "source": [
    "# DataSet Performance\n",
    "\n",
    "This notebook shows the trade-off between inserting data into a database row-by-row and as binary blobs. Inserting the data row-by-row means that we have direct access to all the data and may perform queries directly on the values of the data. On the other hand, as we shall see, this is much slower than inserting the data directly as binary blobs."
   ]
  },
  {
   "cell_type": "markdown",
   "metadata": {},
   "source": [
    "First, we choose a new location for the database to ensure that we don't add a bunch of benchmarking data to the default one."
   ]
  },
  {
   "cell_type": "code",
   "execution_count": 1,
   "metadata": {
    "execution": {
     "iopub.execute_input": "2021-05-26T13:09:25.326805Z",
     "iopub.status.busy": "2021-05-26T13:09:25.326269Z",
     "iopub.status.idle": "2021-05-26T13:09:26.529132Z",
     "shell.execute_reply": "2021-05-26T13:09:26.528451Z"
    }
   },
   "outputs": [
    {
     "name": "stdout",
     "output_type": "stream",
     "text": [
      "Logging hadn't been started.\n",
      "Activating auto-logging. Current session state plus future input saved.\n",
      "Filename       : /home/runner/.qcodes/logs/command_history.log\n",
      "Mode           : append\n",
      "Output logging : True\n",
      "Raw input log  : False\n",
      "Timestamping   : True\n",
      "State          : active\n"
     ]
    },
    {
     "name": "stdout",
     "output_type": "stream",
     "text": [
      "Qcodes Logfile : /home/runner/.qcodes/logs/210526-4625-qcodes.log\n"
     ]
    }
   ],
   "source": [
    "import os\n",
    "cwd = os.getcwd()\n",
    "import qcodes as qc\n",
    "qc.config[\"core\"][\"db_location\"] = os.path.join(cwd, 'testing.db')\n"
   ]
  },
  {
   "cell_type": "code",
   "execution_count": 2,
   "metadata": {
    "execution": {
     "iopub.execute_input": "2021-05-26T13:09:26.536304Z",
     "iopub.status.busy": "2021-05-26T13:09:26.535309Z",
     "iopub.status.idle": "2021-05-26T13:09:26.737397Z",
     "shell.execute_reply": "2021-05-26T13:09:26.735906Z"
    }
   },
   "outputs": [],
   "source": [
    "%matplotlib inline\n",
    "import time\n",
    "import matplotlib.pyplot as plt\n",
    "import numpy as np\n",
    "\n",
    "import qcodes as qc\n",
    "from qcodes.instrument.parameter import ManualParameter\n",
    "from qcodes.dataset.experiment_container import (Experiment,\n",
    "                                                 load_last_experiment,\n",
    "                                                 new_experiment)\n",
    "from qcodes.dataset.sqlite.database import initialise_database\n",
    "from qcodes import load_or_create_experiment\n",
    "from qcodes.dataset.measurements import Measurement"
   ]
  },
  {
   "cell_type": "code",
   "execution_count": 3,
   "metadata": {
    "execution": {
     "iopub.execute_input": "2021-05-26T13:09:26.742307Z",
     "iopub.status.busy": "2021-05-26T13:09:26.741646Z",
     "iopub.status.idle": "2021-05-26T13:09:26.828429Z",
     "shell.execute_reply": "2021-05-26T13:09:26.827901Z"
    }
   },
   "outputs": [
    {
     "name": "stdout",
     "output_type": "stream",
     "text": [
      "\r",
      "0it [00:00, ?it/s]"
     ]
    },
    {
     "name": "stdout",
     "output_type": "stream",
     "text": [
      "\r",
      "Upgrading database; v0 -> v1: : 0it [00:00, ?it/s]"
     ]
    },
    {
     "name": "stdout",
     "output_type": "stream",
     "text": [
      "\r",
      "Upgrading database; v0 -> v1: : 0it [00:00, ?it/s]"
     ]
    },
    {
     "name": "stdout",
     "output_type": "stream",
     "text": [
      "\n",
      "\r",
      "  0%|          | 0/1 [00:00<?, ?it/s]"
     ]
    },
    {
     "name": "stdout",
     "output_type": "stream",
     "text": [
      "\r",
      "Upgrading database; v1 -> v2:   0%|          | 0/1 [00:00<?, ?it/s]"
     ]
    },
    {
     "name": "stdout",
     "output_type": "stream",
     "text": [
      "\r",
      "Upgrading database; v1 -> v2: 100%|██████████| 1/1 [00:00<00:00, 426.64it/s]"
     ]
    },
    {
     "name": "stdout",
     "output_type": "stream",
     "text": [
      "\n",
      "\r",
      "0it [00:00, ?it/s]"
     ]
    },
    {
     "name": "stdout",
     "output_type": "stream",
     "text": [
      "\r",
      "Upgrading database; v2 -> v3: : 0it [00:00, ?it/s]"
     ]
    },
    {
     "name": "stdout",
     "output_type": "stream",
     "text": [
      "\r",
      "Upgrading database; v2 -> v3: : 0it [00:00, ?it/s]"
     ]
    },
    {
     "name": "stdout",
     "output_type": "stream",
     "text": [
      "\n",
      "\r",
      "0it [00:00, ?it/s]"
     ]
    },
    {
     "name": "stdout",
     "output_type": "stream",
     "text": [
      "\r",
      "Upgrading database; v3 -> v4: : 0it [00:00, ?it/s]"
     ]
    },
    {
     "name": "stdout",
     "output_type": "stream",
     "text": [
      "\r",
      "Upgrading database; v3 -> v4: : 0it [00:00, ?it/s]"
     ]
    },
    {
     "name": "stdout",
     "output_type": "stream",
     "text": [
      "\n",
      "\r",
      "  0%|          | 0/1 [00:00<?, ?it/s]"
     ]
    },
    {
     "name": "stdout",
     "output_type": "stream",
     "text": [
      "\r",
      "Upgrading database; v4 -> v5:   0%|          | 0/1 [00:00<?, ?it/s]"
     ]
    },
    {
     "name": "stdout",
     "output_type": "stream",
     "text": [
      "\r",
      "Upgrading database; v4 -> v5: 100%|██████████| 1/1 [00:00<00:00, 445.78it/s]"
     ]
    },
    {
     "name": "stdout",
     "output_type": "stream",
     "text": [
      "\n",
      "\r",
      "0it [00:00, ?it/s]"
     ]
    },
    {
     "name": "stdout",
     "output_type": "stream",
     "text": [
      "\r",
      "Upgrading database; v5 -> v6: : 0it [00:00, ?it/s]"
     ]
    },
    {
     "name": "stdout",
     "output_type": "stream",
     "text": [
      "\r",
      "Upgrading database; v5 -> v6: : 0it [00:00, ?it/s]"
     ]
    },
    {
     "name": "stdout",
     "output_type": "stream",
     "text": [
      "\n",
      "\r",
      "  0%|          | 0/1 [00:00<?, ?it/s]"
     ]
    },
    {
     "name": "stdout",
     "output_type": "stream",
     "text": [
      "\r",
      "Upgrading database; v6 -> v7:   0%|          | 0/1 [00:00<?, ?it/s]"
     ]
    },
    {
     "name": "stdout",
     "output_type": "stream",
     "text": [
      "\r",
      "Upgrading database; v6 -> v7: 100%|██████████| 1/1 [00:00<00:00, 251.41it/s]"
     ]
    },
    {
     "name": "stdout",
     "output_type": "stream",
     "text": [
      "\n",
      "\r",
      "  0%|          | 0/1 [00:00<?, ?it/s]"
     ]
    },
    {
     "name": "stdout",
     "output_type": "stream",
     "text": [
      "\r",
      "Upgrading database; v7 -> v8:   0%|          | 0/1 [00:00<?, ?it/s]"
     ]
    },
    {
     "name": "stdout",
     "output_type": "stream",
     "text": [
      "\r",
      "Upgrading database; v7 -> v8: 100%|██████████| 1/1 [00:00<00:00, 412.66it/s]"
     ]
    },
    {
     "name": "stdout",
     "output_type": "stream",
     "text": [
      "\n",
      "\r",
      "  0%|          | 0/1 [00:00<?, ?it/s]"
     ]
    },
    {
     "name": "stdout",
     "output_type": "stream",
     "text": [
      "\r",
      "Upgrading database; v8 -> v9:   0%|          | 0/1 [00:00<?, ?it/s]"
     ]
    },
    {
     "name": "stdout",
     "output_type": "stream",
     "text": [
      "\r",
      "Upgrading database; v8 -> v9: 100%|██████████| 1/1 [00:00<00:00, 364.37it/s]"
     ]
    },
    {
     "name": "stdout",
     "output_type": "stream",
     "text": [
      "\n"
     ]
    }
   ],
   "source": [
    "initialise_database()\n",
    "exp = load_or_create_experiment(experiment_name='tutorial_exp', sample_name=\"no sample\")"
   ]
  },
  {
   "cell_type": "markdown",
   "metadata": {},
   "source": [
    "Here, we define a simple function to benchmark the time it takes to insert n points with either numeric or array data type.\n",
    "We will compare both the time used to call ``add_result`` and the time used for the full measurement."
   ]
  },
  {
   "cell_type": "code",
   "execution_count": 4,
   "metadata": {
    "execution": {
     "iopub.execute_input": "2021-05-26T13:09:26.836947Z",
     "iopub.status.busy": "2021-05-26T13:09:26.835332Z",
     "iopub.status.idle": "2021-05-26T13:09:26.839316Z",
     "shell.execute_reply": "2021-05-26T13:09:26.838759Z"
    }
   },
   "outputs": [],
   "source": [
    "def insert_data(paramtype, npoints, nreps=1):\n",
    "\n",
    "    meas = Measurement(exp=exp)\n",
    "\n",
    "    x1 = ManualParameter('x1')\n",
    "    x2 = ManualParameter('x2')\n",
    "    x3 = ManualParameter('x3')\n",
    "    y1 = ManualParameter('y1')\n",
    "    y2 = ManualParameter('y2')\n",
    "\n",
    "    meas.register_parameter(x1, paramtype=paramtype)\n",
    "    meas.register_parameter(x2, paramtype=paramtype)\n",
    "    meas.register_parameter(x3, paramtype=paramtype)\n",
    "    meas.register_parameter(y1, setpoints=[x1, x2, x3],\n",
    "                            paramtype=paramtype)\n",
    "    meas.register_parameter(y2, setpoints=[x1, x2, x3],\n",
    "                            paramtype=paramtype)\n",
    "    start = time.perf_counter()\n",
    "    with meas.run() as datasaver:\n",
    "        start_adding = time.perf_counter()\n",
    "        for i in range(nreps):\n",
    "            datasaver.add_result((x1, np.random.rand(npoints)),\n",
    "                                 (x2, np.random.rand(npoints)),\n",
    "                                 (x3, np.random.rand(npoints)),\n",
    "                                 (y1, np.random.rand(npoints)),\n",
    "                                 (y2, np.random.rand(npoints)))\n",
    "        stop_adding = time.perf_counter()\n",
    "        run_id = datasaver.run_id\n",
    "    stop = time.perf_counter()\n",
    "    tot_time = stop - start\n",
    "    add_time = stop_adding - start_adding\n",
    "    return tot_time, add_time, run_id"
   ]
  },
  {
   "cell_type": "markdown",
   "metadata": {},
   "source": [
    "## Comparison between numeric/array data and binary blob"
   ]
  },
  {
   "cell_type": "markdown",
   "metadata": {},
   "source": [
    "### Case1: Short experiment time"
   ]
  },
  {
   "cell_type": "code",
   "execution_count": 5,
   "metadata": {
    "execution": {
     "iopub.execute_input": "2021-05-26T13:09:26.846024Z",
     "iopub.status.busy": "2021-05-26T13:09:26.845040Z",
     "iopub.status.idle": "2021-05-26T13:09:27.745015Z",
     "shell.execute_reply": "2021-05-26T13:09:27.744544Z"
    }
   },
   "outputs": [
    {
     "name": "stdout",
     "output_type": "stream",
     "text": [
      "Starting experimental run with id: 1. \n",
      "Starting experimental run with id: 2. \n",
      "Starting experimental run with id: 3. \n"
     ]
    },
    {
     "name": "stdout",
     "output_type": "stream",
     "text": [
      "Starting experimental run with id: 4. \n"
     ]
    },
    {
     "name": "stdout",
     "output_type": "stream",
     "text": [
      "Starting experimental run with id: 5. \n"
     ]
    },
    {
     "name": "stdout",
     "output_type": "stream",
     "text": [
      "Starting experimental run with id: 6. \n",
      "Starting experimental run with id: 7. \n",
      "Starting experimental run with id: 8. \n"
     ]
    },
    {
     "name": "stdout",
     "output_type": "stream",
     "text": [
      "Starting experimental run with id: 9. \n"
     ]
    },
    {
     "name": "stdout",
     "output_type": "stream",
     "text": [
      "Starting experimental run with id: 10. \n",
      "Starting experimental run with id: 11. \n"
     ]
    },
    {
     "name": "stdout",
     "output_type": "stream",
     "text": [
      "Starting experimental run with id: 12. \n"
     ]
    },
    {
     "name": "stdout",
     "output_type": "stream",
     "text": [
      "Starting experimental run with id: 13. \n"
     ]
    },
    {
     "name": "stdout",
     "output_type": "stream",
     "text": [
      "Starting experimental run with id: 14. \n"
     ]
    }
   ],
   "source": [
    "sizes = [1,500,1000,2000,3000,4000,5000]\n",
    "t_numeric = []\n",
    "t_numeric_add = []\n",
    "t_array = []\n",
    "t_array_add = []\n",
    "for size in sizes:\n",
    "    tn, tna, run_id_n =  insert_data('numeric', size)\n",
    "    t_numeric.append(tn)\n",
    "    t_numeric_add.append(tna)\n",
    "\n",
    "    ta, taa, run_id_a =  insert_data('array', size)\n",
    "    t_array.append(ta)\n",
    "    t_array_add.append(taa)"
   ]
  },
  {
   "cell_type": "code",
   "execution_count": 6,
   "metadata": {
    "execution": {
     "iopub.execute_input": "2021-05-26T13:09:27.762725Z",
     "iopub.status.busy": "2021-05-26T13:09:27.749208Z",
     "iopub.status.idle": "2021-05-26T13:09:27.976271Z",
     "shell.execute_reply": "2021-05-26T13:09:27.975660Z"
    }
   },
   "outputs": [
    {
     "data": {
      "image/png": "[encoded data removed]",
      "text/plain": [
       "<Figure size 432x288 with 1 Axes>"
      ]
     },
     "metadata": {
      "needs_background": "light"
     },
     "output_type": "display_data"
    }
   ],
   "source": [
    "fig, ax = plt.subplots(1,1)\n",
    "ax.plot(sizes, t_numeric, 'o-', label='Inserting row-by-row')\n",
    "ax.plot(sizes, t_numeric_add, 'o-', label='Inserting row-by-row: add_result only')\n",
    "ax.plot(sizes, t_array, 'd-', label='Inserting as binary blob')\n",
    "ax.plot(sizes, t_array_add, 'd-', label='Inserting as binary blob: add_result only')\n",
    "ax.legend()\n",
    "ax.set_xlabel('Array length')\n",
    "ax.set_ylabel('Time (s)')\n",
    "fig.tight_layout()"
   ]
  },
  {
   "cell_type": "markdown",
   "metadata": {},
   "source": [
    "As shown in the latter figure, the time to setup and and close the experiment is approximately 0.4 sec. In case of small array sizes, the difference between inserting values of data as arrays and inserting them row-by-row is relatively unimportant. At larger array sizes, i.e. above 10000 points, the cost of writing data as individual datapoints starts to become important.\n"
   ]
  },
  {
   "cell_type": "markdown",
   "metadata": {},
   "source": [
    "### Case2: Long experiment time "
   ]
  },
  {
   "cell_type": "code",
   "execution_count": 7,
   "metadata": {
    "execution": {
     "iopub.execute_input": "2021-05-26T13:09:28.040177Z",
     "iopub.status.busy": "2021-05-26T13:09:27.983472Z",
     "iopub.status.idle": "2021-05-26T13:10:25.516513Z",
     "shell.execute_reply": "2021-05-26T13:10:25.515362Z"
    }
   },
   "outputs": [
    {
     "name": "stdout",
     "output_type": "stream",
     "text": [
      "Starting experimental run with id: 15. \n",
      "Starting experimental run with id: 16. \n",
      "Starting experimental run with id: 17. \n"
     ]
    },
    {
     "name": "stdout",
     "output_type": "stream",
     "text": [
      "Starting experimental run with id: 18. \n",
      "Starting experimental run with id: 19. \n"
     ]
    },
    {
     "name": "stdout",
     "output_type": "stream",
     "text": [
      "Starting experimental run with id: 20. \n"
     ]
    },
    {
     "name": "stdout",
     "output_type": "stream",
     "text": [
      "Starting experimental run with id: 21. \n"
     ]
    },
    {
     "name": "stdout",
     "output_type": "stream",
     "text": [
      "Starting experimental run with id: 22. \n"
     ]
    },
    {
     "name": "stdout",
     "output_type": "stream",
     "text": [
      "Starting experimental run with id: 23. \n"
     ]
    },
    {
     "name": "stdout",
     "output_type": "stream",
     "text": [
      "Starting experimental run with id: 24. \n"
     ]
    },
    {
     "name": "stdout",
     "output_type": "stream",
     "text": [
      "Starting experimental run with id: 25. \n"
     ]
    },
    {
     "name": "stdout",
     "output_type": "stream",
     "text": [
      "Starting experimental run with id: 26. \n"
     ]
    },
    {
     "name": "stdout",
     "output_type": "stream",
     "text": [
      "Starting experimental run with id: 27. \n"
     ]
    },
    {
     "name": "stdout",
     "output_type": "stream",
     "text": [
      "Starting experimental run with id: 28. \n"
     ]
    }
   ],
   "source": [
    "sizes = [1,500,1000,2000,3000,4000,5000]\n",
    "nreps = 100\n",
    "t_numeric = []\n",
    "t_numeric_add = []\n",
    "t_numeric_run_ids = []\n",
    "t_array = []\n",
    "t_array_add = []\n",
    "t_array_run_ids = []\n",
    "for size in sizes:\n",
    "    tn, tna, run_id_n =  insert_data('numeric', size, nreps=nreps)\n",
    "    t_numeric.append(tn)\n",
    "    t_numeric_add.append(tna)\n",
    "    t_numeric_run_ids.append(run_id_n)\n",
    "\n",
    "    ta, taa, run_id_a =  insert_data('array', size, nreps=nreps)\n",
    "    t_array.append(ta)\n",
    "    t_array_add.append(taa)\n",
    "    t_array_run_ids.append(run_id_a)"
   ]
  },
  {
   "cell_type": "code",
   "execution_count": 8,
   "metadata": {
    "execution": {
     "iopub.execute_input": "2021-05-26T13:10:25.559279Z",
     "iopub.status.busy": "2021-05-26T13:10:25.538656Z",
     "iopub.status.idle": "2021-05-26T13:10:25.738560Z",
     "shell.execute_reply": "2021-05-26T13:10:25.738053Z"
    },
    "scrolled": true
   },
   "outputs": [
    {
     "data": {
      "image/png": "[encoded data removed]",
      "text/plain": [
       "<Figure size 432x288 with 1 Axes>"
      ]
     },
     "metadata": {
      "needs_background": "light"
     },
     "output_type": "display_data"
    }
   ],
   "source": [
    "fig, ax = plt.subplots(1,1)\n",
    "ax.plot(sizes, t_numeric, 'o-', label='Inserting row-by-row')\n",
    "ax.plot(sizes, t_numeric_add, 'o-', label='Inserting row-by-row: add_result only')\n",
    "ax.plot(sizes, t_array, 'd-', label='Inserting as binary blob')\n",
    "ax.plot(sizes, t_array_add, 'd-', label='Inserting as binary blob: add_result only')\n",
    "ax.legend()\n",
    "ax.set_xlabel('Array length')\n",
    "ax.set_ylabel('Time (s)')\n",
    "fig.tight_layout()"
   ]
  },
  {
   "cell_type": "markdown",
   "metadata": {},
   "source": [
    "However, as we increase the length of the experiment, as seen here by repeating the insertion 100 times, we see a big difference between inserting values of the data row-by-row and inserting it as a binary blob."
   ]
  },
  {
   "cell_type": "markdown",
   "metadata": {},
   "source": [
    "## Loading the data "
   ]
  },
  {
   "cell_type": "code",
   "execution_count": 9,
   "metadata": {
    "execution": {
     "iopub.execute_input": "2021-05-26T13:10:25.743978Z",
     "iopub.status.busy": "2021-05-26T13:10:25.742696Z",
     "iopub.status.idle": "2021-05-26T13:10:25.744643Z",
     "shell.execute_reply": "2021-05-26T13:10:25.745118Z"
    }
   },
   "outputs": [],
   "source": [
    "from qcodes.dataset.data_set import load_by_id"
   ]
  },
  {
   "cell_type": "markdown",
   "metadata": {},
   "source": [
    "As usual you can load the data by using the ``load_by_id`` function but you will notice that the different storage methods\n",
    "are reflected in shape of the data as it is retrieved. "
   ]
  },
  {
   "cell_type": "code",
   "execution_count": 10,
   "metadata": {
    "execution": {
     "iopub.execute_input": "2021-05-26T13:10:25.750327Z",
     "iopub.status.busy": "2021-05-26T13:10:25.748792Z",
     "iopub.status.idle": "2021-05-26T13:10:25.750997Z",
     "shell.execute_reply": "2021-05-26T13:10:25.751474Z"
    }
   },
   "outputs": [],
   "source": [
    "run_id_n = t_numeric_run_ids[0]\n",
    "run_id_a = t_array_run_ids[0]"
   ]
  },
  {
   "cell_type": "code",
   "execution_count": 11,
   "metadata": {
    "execution": {
     "iopub.execute_input": "2021-05-26T13:10:25.755036Z",
     "iopub.status.busy": "2021-05-26T13:10:25.754453Z",
     "iopub.status.idle": "2021-05-26T13:10:25.764495Z",
     "shell.execute_reply": "2021-05-26T13:10:25.764972Z"
    },
    "scrolled": true
   },
   "outputs": [
    {
     "data": {
      "text/plain": [
       "{'x1': {'x1': array([0.78667687, 0.78667687, 0.73720067, 0.73720067, 0.24491099,\n",
       "         0.24491099, 0.49268281, 0.49268281, 0.3459225 , 0.3459225 ,\n",
       "         0.92025623, 0.92025623, 0.59338517, 0.59338517, 0.21314363,\n",
       "         0.21314363, 0.33876628, 0.33876628, 0.14411013, 0.14411013,\n",
       "         0.17108354, 0.17108354, 0.62677152, 0.62677152, 0.94533818,\n",
       "         0.94533818, 0.19852506, 0.19852506, 0.15010082, 0.15010082,\n",
       "         0.24337191, 0.24337191, 0.99517071, 0.99517071, 0.83043346,\n",
       "         0.83043346, 0.80559793, 0.80559793, 0.77563441, 0.77563441,\n",
       "         0.43386357, 0.43386357, 0.4721699 , 0.4721699 , 0.07793741,\n",
       "         0.07793741, 0.25124819, 0.25124819, 0.27089018, 0.27089018,\n",
       "         0.43434377, 0.43434377, 0.27663344, 0.27663344, 0.91975374,\n",
       "         0.91975374, 0.67357022, 0.67357022, 0.04131018, 0.04131018,\n",
       "         0.26085887, 0.26085887, 0.28844816, 0.28844816, 0.23280516,\n",
       "         0.23280516, 0.07450454, 0.07450454, 0.92831604, 0.92831604,\n",
       "         0.24953889, 0.24953889, 0.57537612, 0.57537612, 0.69536941,\n",
       "         0.69536941, 0.92902461, 0.92902461, 0.37527787, 0.37527787,\n",
       "         0.8250249 , 0.8250249 , 0.81201081, 0.81201081, 0.21499467,\n",
       "         0.21499467, 0.19008999, 0.19008999, 0.23945056, 0.23945056,\n",
       "         0.80768615, 0.80768615, 0.11772525, 0.11772525, 0.89411644,\n",
       "         0.89411644, 0.95172514, 0.95172514, 0.02093738, 0.02093738,\n",
       "         0.41373785, 0.41373785, 0.64077715, 0.64077715, 0.73605212,\n",
       "         0.73605212, 0.46673333, 0.46673333, 0.55662949, 0.55662949,\n",
       "         0.137405  , 0.137405  , 0.72496034, 0.72496034, 0.76589145,\n",
       "         0.76589145, 0.92769775, 0.92769775, 0.41284739, 0.41284739,\n",
       "         0.82610036, 0.82610036, 0.30876447, 0.30876447, 0.63547651,\n",
       "         0.63547651, 0.06530251, 0.06530251, 0.97639244, 0.97639244,\n",
       "         0.15071518, 0.15071518, 0.41257184, 0.41257184, 0.55087001,\n",
       "         0.55087001, 0.96227624, 0.96227624, 0.41769284, 0.41769284,\n",
       "         0.78275322, 0.78275322, 0.49065891, 0.49065891, 0.36421871,\n",
       "         0.36421871, 0.59550897, 0.59550897, 0.17258435, 0.17258435,\n",
       "         0.52387591, 0.52387591, 0.79727657, 0.79727657, 0.74999852,\n",
       "         0.74999852, 0.41426357, 0.41426357, 0.89014196, 0.89014196,\n",
       "         0.27640286, 0.27640286, 0.84216768, 0.84216768, 0.00766262,\n",
       "         0.00766262, 0.88513265, 0.88513265, 0.07928837, 0.07928837,\n",
       "         0.46282338, 0.46282338, 0.9793115 , 0.9793115 , 0.58424053,\n",
       "         0.58424053, 0.37490591, 0.37490591, 0.45782289, 0.45782289,\n",
       "         0.79106562, 0.79106562, 0.02039017, 0.02039017, 0.63839711,\n",
       "         0.63839711, 0.97961622, 0.97961622, 0.59321736, 0.59321736,\n",
       "         0.9980638 , 0.9980638 , 0.80864487, 0.80864487, 0.67157178,\n",
       "         0.67157178, 0.18533184, 0.18533184, 0.13557967, 0.13557967])}}"
      ]
     },
     "execution_count": 1,
     "metadata": {},
     "output_type": "execute_result"
    }
   ],
   "source": [
    "ds = load_by_id(run_id_n)\n",
    "ds.get_parameter_data('x1')"
   ]
  },
  {
   "cell_type": "markdown",
   "metadata": {},
   "source": [
    "And a dataset stored as binary arrays"
   ]
  },
  {
   "cell_type": "code",
   "execution_count": 12,
   "metadata": {
    "execution": {
     "iopub.execute_input": "2021-05-26T13:10:25.768558Z",
     "iopub.status.busy": "2021-05-26T13:10:25.767973Z",
     "iopub.status.idle": "2021-05-26T13:10:25.827742Z",
     "shell.execute_reply": "2021-05-26T13:10:25.827203Z"
    },
    "scrolled": true
   },
   "outputs": [
    {
     "data": {
      "text/plain": [
       "{'x1': {'x1': array([[0.3162871 ],\n",
       "         [0.3162871 ],\n",
       "         [0.21883782],\n",
       "         [0.21883782],\n",
       "         [0.15665865],\n",
       "         [0.15665865],\n",
       "         [0.18795657],\n",
       "         [0.18795657],\n",
       "         [0.00210716],\n",
       "         [0.00210716],\n",
       "         [0.82855138],\n",
       "         [0.82855138],\n",
       "         [0.11150782],\n",
       "         [0.11150782],\n",
       "         [0.36563617],\n",
       "         [0.36563617],\n",
       "         [0.38064871],\n",
       "         [0.38064871],\n",
       "         [0.88674156],\n",
       "         [0.88674156],\n",
       "         [0.2096195 ],\n",
       "         [0.2096195 ],\n",
       "         [0.09504875],\n",
       "         [0.09504875],\n",
       "         [0.2019607 ],\n",
       "         [0.2019607 ],\n",
       "         [0.74023779],\n",
       "         [0.74023779],\n",
       "         [0.61430158],\n",
       "         [0.61430158],\n",
       "         [0.44889422],\n",
       "         [0.44889422],\n",
       "         [0.58933014],\n",
       "         [0.58933014],\n",
       "         [0.09074739],\n",
       "         [0.09074739],\n",
       "         [0.45865425],\n",
       "         [0.45865425],\n",
       "         [0.24767016],\n",
       "         [0.24767016],\n",
       "         [0.05266747],\n",
       "         [0.05266747],\n",
       "         [0.90638825],\n",
       "         [0.90638825],\n",
       "         [0.51069223],\n",
       "         [0.51069223],\n",
       "         [0.36328653],\n",
       "         [0.36328653],\n",
       "         [0.13343826],\n",
       "         [0.13343826],\n",
       "         [0.04100952],\n",
       "         [0.04100952],\n",
       "         [0.93710476],\n",
       "         [0.93710476],\n",
       "         [0.33367545],\n",
       "         [0.33367545],\n",
       "         [0.99067767],\n",
       "         [0.99067767],\n",
       "         [0.59113631],\n",
       "         [0.59113631],\n",
       "         [0.07874644],\n",
       "         [0.07874644],\n",
       "         [0.86820061],\n",
       "         [0.86820061],\n",
       "         [0.25911432],\n",
       "         [0.25911432],\n",
       "         [0.33129104],\n",
       "         [0.33129104],\n",
       "         [0.25351261],\n",
       "         [0.25351261],\n",
       "         [0.08528038],\n",
       "         [0.08528038],\n",
       "         [0.65991429],\n",
       "         [0.65991429],\n",
       "         [0.88080976],\n",
       "         [0.88080976],\n",
       "         [0.51551315],\n",
       "         [0.51551315],\n",
       "         [0.63721209],\n",
       "         [0.63721209],\n",
       "         [0.54557807],\n",
       "         [0.54557807],\n",
       "         [0.51890227],\n",
       "         [0.51890227],\n",
       "         [0.60871016],\n",
       "         [0.60871016],\n",
       "         [0.47630548],\n",
       "         [0.47630548],\n",
       "         [0.16379578],\n",
       "         [0.16379578],\n",
       "         [0.4630626 ],\n",
       "         [0.4630626 ],\n",
       "         [0.8166423 ],\n",
       "         [0.8166423 ],\n",
       "         [0.38287313],\n",
       "         [0.38287313],\n",
       "         [0.92132683],\n",
       "         [0.92132683],\n",
       "         [0.70216175],\n",
       "         [0.70216175],\n",
       "         [0.0545951 ],\n",
       "         [0.0545951 ],\n",
       "         [0.83703827],\n",
       "         [0.83703827],\n",
       "         [0.91427141],\n",
       "         [0.91427141],\n",
       "         [0.3668451 ],\n",
       "         [0.3668451 ],\n",
       "         [0.45103675],\n",
       "         [0.45103675],\n",
       "         [0.24729558],\n",
       "         [0.24729558],\n",
       "         [0.03500529],\n",
       "         [0.03500529],\n",
       "         [0.64442527],\n",
       "         [0.64442527],\n",
       "         [0.47574473],\n",
       "         [0.47574473],\n",
       "         [0.18870542],\n",
       "         [0.18870542],\n",
       "         [0.07538899],\n",
       "         [0.07538899],\n",
       "         [0.34707259],\n",
       "         [0.34707259],\n",
       "         [0.28155016],\n",
       "         [0.28155016],\n",
       "         [0.34110984],\n",
       "         [0.34110984],\n",
       "         [0.26423453],\n",
       "         [0.26423453],\n",
       "         [0.28466075],\n",
       "         [0.28466075],\n",
       "         [0.83814353],\n",
       "         [0.83814353],\n",
       "         [0.97479468],\n",
       "         [0.97479468],\n",
       "         [0.35122324],\n",
       "         [0.35122324],\n",
       "         [0.57545018],\n",
       "         [0.57545018],\n",
       "         [0.05864977],\n",
       "         [0.05864977],\n",
       "         [0.62299541],\n",
       "         [0.62299541],\n",
       "         [0.70861251],\n",
       "         [0.70861251],\n",
       "         [0.73549127],\n",
       "         [0.73549127],\n",
       "         [0.35296551],\n",
       "         [0.35296551],\n",
       "         [0.25021976],\n",
       "         [0.25021976],\n",
       "         [0.61173594],\n",
       "         [0.61173594],\n",
       "         [0.03136979],\n",
       "         [0.03136979],\n",
       "         [0.94888762],\n",
       "         [0.94888762],\n",
       "         [0.198133  ],\n",
       "         [0.198133  ],\n",
       "         [0.88320506],\n",
       "         [0.88320506],\n",
       "         [0.77432218],\n",
       "         [0.77432218],\n",
       "         [0.24348948],\n",
       "         [0.24348948],\n",
       "         [0.7851042 ],\n",
       "         [0.7851042 ],\n",
       "         [0.08958643],\n",
       "         [0.08958643],\n",
       "         [0.38902529],\n",
       "         [0.38902529],\n",
       "         [0.8935963 ],\n",
       "         [0.8935963 ],\n",
       "         [0.60877083],\n",
       "         [0.60877083],\n",
       "         [0.89844467],\n",
       "         [0.89844467],\n",
       "         [0.2873819 ],\n",
       "         [0.2873819 ],\n",
       "         [0.27361393],\n",
       "         [0.27361393],\n",
       "         [0.44602752],\n",
       "         [0.44602752],\n",
       "         [0.69896567],\n",
       "         [0.69896567],\n",
       "         [0.01741402],\n",
       "         [0.01741402],\n",
       "         [0.88637526],\n",
       "         [0.88637526],\n",
       "         [0.86998716],\n",
       "         [0.86998716],\n",
       "         [0.10278767],\n",
       "         [0.10278767],\n",
       "         [0.35811529],\n",
       "         [0.35811529],\n",
       "         [0.63897728],\n",
       "         [0.63897728],\n",
       "         [0.37114202],\n",
       "         [0.37114202]])}}"
      ]
     },
     "execution_count": 1,
     "metadata": {},
     "output_type": "execute_result"
    }
   ],
   "source": [
    "ds = load_by_id(run_id_a)\n",
    "ds.get_parameter_data('x1')"
   ]
  },
  {
   "cell_type": "code",
   "execution_count": null,
   "metadata": {},
   "outputs": [],
   "source": []
  }
 ],
 "metadata": {
  "kernelspec": {
   "display_name": "Python 3",
   "language": "python",
   "name": "python3"
  },
  "language_info": {
   "codemirror_mode": {
    "name": "ipython",
    "version": 3
   },
   "file_extension": ".py",
   "mimetype": "text/x-python",
   "name": "python",
   "nbconvert_exporter": "python",
   "pygments_lexer": "ipython3",
   "version": "3.7.10"
  },
  "nbsphinx": {
   "timeout": 600
  },
  "toc": {
   "base_numbering": 1,
   "nav_menu": {},
   "number_sections": true,
   "sideBar": true,
   "skip_h1_title": false,
   "title_cell": "Table of Contents",
   "title_sidebar": "Contents",
   "toc_cell": false,
   "toc_position": {},
   "toc_section_display": true,
   "toc_window_display": false
  },
  "varInspector": {
   "cols": {
    "lenName": 16,
    "lenType": 16,
    "lenVar": 40
   },
   "kernels_config": {
    "python": {
     "delete_cmd_postfix": "",
     "delete_cmd_prefix": "del ",
     "library": "var_list.py",
     "varRefreshCmd": "print(var_dic_list())"
    },
    "r": {
     "delete_cmd_postfix": ") ",
     "delete_cmd_prefix": "rm(",
     "library": "var_list.r",
     "varRefreshCmd": "cat(var_dic_list()) "
    }
   },
   "types_to_exclude": [
    "module",
    "function",
    "builtin_function_or_method",
    "instance",
    "_Feature"
   ],
   "window_display": false
  }
 },
 "nbformat": 4,
 "nbformat_minor": 4
}
