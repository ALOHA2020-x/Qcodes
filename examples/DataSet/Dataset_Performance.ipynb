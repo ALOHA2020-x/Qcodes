{
 "cells": [
  {
   "cell_type": "markdown",
   "metadata": {},
   "source": [
    "# DataSet Performance\n",
    "\n",
    "This notebook shows the trade-off between inserting data into a database row-by-row and as binary blobs. Inserting the data row-by-row means that we have direct access to all the data and may perform queries directly on the values of the data. On the other hand, as we shall see, this is much slower than inserting the data directly as binary blobs."
   ]
  },
  {
   "cell_type": "markdown",
   "metadata": {},
   "source": [
    "First, we choose a new location for the database to ensure that we don't add a bunch of benchmarking data to the default one."
   ]
  },
  {
   "cell_type": "code",
   "execution_count": 1,
   "metadata": {
    "execution": {
     "iopub.execute_input": "2021-04-20T21:15:13.527140Z",
     "iopub.status.busy": "2021-04-20T21:15:13.526607Z",
     "iopub.status.idle": "2021-04-20T21:15:14.493457Z",
     "shell.execute_reply": "2021-04-20T21:15:14.493950Z"
    }
   },
   "outputs": [
    {
     "name": "stdout",
     "output_type": "stream",
     "text": [
      "Logging hadn't been started.\n",
      "Activating auto-logging. Current session state plus future input saved.\n",
      "Filename       : /home/runner/.qcodes/logs/command_history.log\n",
      "Mode           : append\n",
      "Output logging : True\n",
      "Raw input log  : False\n",
      "Timestamping   : True\n",
      "State          : active\n"
     ]
    },
    {
     "name": "stdout",
     "output_type": "stream",
     "text": [
      "Qcodes Logfile : /home/runner/.qcodes/logs/210420-4509-qcodes.log\n"
     ]
    }
   ],
   "source": [
    "import os\n",
    "cwd = os.getcwd()\n",
    "import qcodes as qc\n",
    "qc.config[\"core\"][\"db_location\"] = os.path.join(cwd, 'testing.db')\n"
   ]
  },
  {
   "cell_type": "code",
   "execution_count": 2,
   "metadata": {
    "execution": {
     "iopub.execute_input": "2021-04-20T21:15:14.500960Z",
     "iopub.status.busy": "2021-04-20T21:15:14.499914Z",
     "iopub.status.idle": "2021-04-20T21:15:14.738917Z",
     "shell.execute_reply": "2021-04-20T21:15:14.737923Z"
    }
   },
   "outputs": [],
   "source": [
    "%matplotlib inline\n",
    "import time\n",
    "import matplotlib.pyplot as plt\n",
    "import numpy as np\n",
    "\n",
    "import qcodes as qc\n",
    "from qcodes.instrument.parameter import ManualParameter\n",
    "from qcodes.dataset.experiment_container import (Experiment,\n",
    "                                                 load_last_experiment,\n",
    "                                                 new_experiment)\n",
    "from qcodes.dataset.sqlite.database import initialise_database\n",
    "from qcodes import load_or_create_experiment\n",
    "from qcodes.dataset.measurements import Measurement"
   ]
  },
  {
   "cell_type": "code",
   "execution_count": 3,
   "metadata": {
    "execution": {
     "iopub.execute_input": "2021-04-20T21:15:14.744209Z",
     "iopub.status.busy": "2021-04-20T21:15:14.743505Z",
     "iopub.status.idle": "2021-04-20T21:15:14.805513Z",
     "shell.execute_reply": "2021-04-20T21:15:14.804988Z"
    }
   },
   "outputs": [
    {
     "name": "stdout",
     "output_type": "stream",
     "text": [
      "\r",
      "0it [00:00, ?it/s]"
     ]
    },
    {
     "name": "stdout",
     "output_type": "stream",
     "text": [
      "\r",
      "Upgrading database; v0 -> v1: : 0it [00:00, ?it/s]"
     ]
    },
    {
     "name": "stdout",
     "output_type": "stream",
     "text": [
      "\r",
      "Upgrading database; v0 -> v1: : 0it [00:00, ?it/s]"
     ]
    },
    {
     "name": "stdout",
     "output_type": "stream",
     "text": [
      "\n",
      "\r",
      "  0%|          | 0/1 [00:00<?, ?it/s]"
     ]
    },
    {
     "name": "stdout",
     "output_type": "stream",
     "text": [
      "\r",
      "Upgrading database; v1 -> v2:   0%|          | 0/1 [00:00<?, ?it/s]"
     ]
    },
    {
     "name": "stdout",
     "output_type": "stream",
     "text": [
      "\r",
      "Upgrading database; v1 -> v2: 100%|██████████| 1/1 [00:00<00:00, 592.25it/s]"
     ]
    },
    {
     "name": "stdout",
     "output_type": "stream",
     "text": [
      "\n",
      "\r",
      "0it [00:00, ?it/s]"
     ]
    },
    {
     "name": "stdout",
     "output_type": "stream",
     "text": [
      "\r",
      "Upgrading database; v2 -> v3: : 0it [00:00, ?it/s]"
     ]
    },
    {
     "name": "stdout",
     "output_type": "stream",
     "text": [
      "\r",
      "Upgrading database; v2 -> v3: : 0it [00:00, ?it/s]"
     ]
    },
    {
     "name": "stdout",
     "output_type": "stream",
     "text": [
      "\n",
      "\r",
      "0it [00:00, ?it/s]"
     ]
    },
    {
     "name": "stdout",
     "output_type": "stream",
     "text": [
      "\r",
      "Upgrading database; v3 -> v4: : 0it [00:00, ?it/s]"
     ]
    },
    {
     "name": "stdout",
     "output_type": "stream",
     "text": [
      "\r",
      "Upgrading database; v3 -> v4: : 0it [00:00, ?it/s]"
     ]
    },
    {
     "name": "stdout",
     "output_type": "stream",
     "text": [
      "\n",
      "\r",
      "  0%|          | 0/1 [00:00<?, ?it/s]"
     ]
    },
    {
     "name": "stdout",
     "output_type": "stream",
     "text": [
      "\r",
      "Upgrading database; v4 -> v5:   0%|          | 0/1 [00:00<?, ?it/s]"
     ]
    },
    {
     "name": "stdout",
     "output_type": "stream",
     "text": [
      "\r",
      "Upgrading database; v4 -> v5: 100%|██████████| 1/1 [00:00<00:00, 756.00it/s]"
     ]
    },
    {
     "name": "stdout",
     "output_type": "stream",
     "text": [
      "\n",
      "\r",
      "0it [00:00, ?it/s]"
     ]
    },
    {
     "name": "stdout",
     "output_type": "stream",
     "text": [
      "\r",
      "Upgrading database; v5 -> v6: : 0it [00:00, ?it/s]"
     ]
    },
    {
     "name": "stdout",
     "output_type": "stream",
     "text": [
      "\r",
      "Upgrading database; v5 -> v6: : 0it [00:00, ?it/s]"
     ]
    },
    {
     "name": "stdout",
     "output_type": "stream",
     "text": [
      "\n",
      "\r",
      "  0%|          | 0/1 [00:00<?, ?it/s]"
     ]
    },
    {
     "name": "stdout",
     "output_type": "stream",
     "text": [
      "\r",
      "Upgrading database; v6 -> v7:   0%|          | 0/1 [00:00<?, ?it/s]"
     ]
    },
    {
     "name": "stdout",
     "output_type": "stream",
     "text": [
      "\r",
      "Upgrading database; v6 -> v7: 100%|██████████| 1/1 [00:00<00:00, 477.22it/s]"
     ]
    },
    {
     "name": "stdout",
     "output_type": "stream",
     "text": [
      "\n",
      "\r",
      "  0%|          | 0/1 [00:00<?, ?it/s]"
     ]
    },
    {
     "name": "stdout",
     "output_type": "stream",
     "text": [
      "\r",
      "Upgrading database; v7 -> v8:   0%|          | 0/1 [00:00<?, ?it/s]"
     ]
    },
    {
     "name": "stdout",
     "output_type": "stream",
     "text": [
      "\r",
      "Upgrading database; v7 -> v8: 100%|██████████| 1/1 [00:00<00:00, 900.26it/s]"
     ]
    },
    {
     "name": "stdout",
     "output_type": "stream",
     "text": [
      "\n",
      "\r",
      "  0%|          | 0/1 [00:00<?, ?it/s]"
     ]
    },
    {
     "name": "stdout",
     "output_type": "stream",
     "text": [
      "\r",
      "Upgrading database; v8 -> v9:   0%|          | 0/1 [00:00<?, ?it/s]"
     ]
    },
    {
     "name": "stdout",
     "output_type": "stream",
     "text": [
      "\r",
      "Upgrading database; v8 -> v9: 100%|██████████| 1/1 [00:00<00:00, 529.32it/s]"
     ]
    },
    {
     "name": "stdout",
     "output_type": "stream",
     "text": [
      "\n"
     ]
    }
   ],
   "source": [
    "initialise_database()\n",
    "exp = load_or_create_experiment(experiment_name='tutorial_exp', sample_name=\"no sample\")"
   ]
  },
  {
   "cell_type": "markdown",
   "metadata": {},
   "source": [
    "Here, we define a simple function to benchmark the time it takes to insert n points with either numeric or array data type.\n",
    "We will compare both the time used to call ``add_result`` and the time used for the full measurement."
   ]
  },
  {
   "cell_type": "code",
   "execution_count": 4,
   "metadata": {
    "execution": {
     "iopub.execute_input": "2021-04-20T21:15:14.813728Z",
     "iopub.status.busy": "2021-04-20T21:15:14.813120Z",
     "iopub.status.idle": "2021-04-20T21:15:14.816232Z",
     "shell.execute_reply": "2021-04-20T21:15:14.815445Z"
    }
   },
   "outputs": [],
   "source": [
    "def insert_data(paramtype, npoints, nreps=1):\n",
    "\n",
    "    meas = Measurement(exp=exp)\n",
    "\n",
    "    x1 = ManualParameter('x1')\n",
    "    x2 = ManualParameter('x2')\n",
    "    x3 = ManualParameter('x3')\n",
    "    y1 = ManualParameter('y1')\n",
    "    y2 = ManualParameter('y2')\n",
    "\n",
    "    meas.register_parameter(x1, paramtype=paramtype)\n",
    "    meas.register_parameter(x2, paramtype=paramtype)\n",
    "    meas.register_parameter(x3, paramtype=paramtype)\n",
    "    meas.register_parameter(y1, setpoints=[x1, x2, x3],\n",
    "                            paramtype=paramtype)\n",
    "    meas.register_parameter(y2, setpoints=[x1, x2, x3],\n",
    "                            paramtype=paramtype)\n",
    "    start = time.perf_counter()\n",
    "    with meas.run() as datasaver:\n",
    "        start_adding = time.perf_counter()\n",
    "        for i in range(nreps):\n",
    "            datasaver.add_result((x1, np.random.rand(npoints)),\n",
    "                                 (x2, np.random.rand(npoints)),\n",
    "                                 (x3, np.random.rand(npoints)),\n",
    "                                 (y1, np.random.rand(npoints)),\n",
    "                                 (y2, np.random.rand(npoints)))\n",
    "        stop_adding = time.perf_counter()\n",
    "        run_id = datasaver.run_id\n",
    "    stop = time.perf_counter()\n",
    "    tot_time = stop - start\n",
    "    add_time = stop_adding - start_adding\n",
    "    return tot_time, add_time, run_id"
   ]
  },
  {
   "cell_type": "markdown",
   "metadata": {},
   "source": [
    "## Comparison between numeric/array data and binary blob"
   ]
  },
  {
   "cell_type": "markdown",
   "metadata": {},
   "source": [
    "### Case1: Short experiment time"
   ]
  },
  {
   "cell_type": "code",
   "execution_count": 5,
   "metadata": {
    "execution": {
     "iopub.execute_input": "2021-04-20T21:15:14.821581Z",
     "iopub.status.busy": "2021-04-20T21:15:14.820628Z",
     "iopub.status.idle": "2021-04-20T21:15:15.558096Z",
     "shell.execute_reply": "2021-04-20T21:15:15.557575Z"
    }
   },
   "outputs": [
    {
     "name": "stdout",
     "output_type": "stream",
     "text": [
      "Starting experimental run with id: 1. \n",
      "Starting experimental run with id: 2. \n",
      "Starting experimental run with id: 3. \n",
      "Starting experimental run with id: 4. \n",
      "Starting experimental run with id: 5. \n"
     ]
    },
    {
     "name": "stdout",
     "output_type": "stream",
     "text": [
      "Starting experimental run with id: 6. \n"
     ]
    },
    {
     "name": "stdout",
     "output_type": "stream",
     "text": [
      "Starting experimental run with id: 7. \n"
     ]
    },
    {
     "name": "stdout",
     "output_type": "stream",
     "text": [
      "Starting experimental run with id: 8. \n",
      "Starting experimental run with id: 9. \n"
     ]
    },
    {
     "name": "stdout",
     "output_type": "stream",
     "text": [
      "Starting experimental run with id: 10. \n"
     ]
    },
    {
     "name": "stdout",
     "output_type": "stream",
     "text": [
      "Starting experimental run with id: 11. \n"
     ]
    },
    {
     "name": "stdout",
     "output_type": "stream",
     "text": [
      "Starting experimental run with id: 12. \n"
     ]
    },
    {
     "name": "stdout",
     "output_type": "stream",
     "text": [
      "Starting experimental run with id: 13. \n",
      "Starting experimental run with id: 14. \n"
     ]
    }
   ],
   "source": [
    "sizes = [1,500,1000,2000,3000,4000,5000]\n",
    "t_numeric = []\n",
    "t_numeric_add = []\n",
    "t_array = []\n",
    "t_array_add = []\n",
    "for size in sizes:\n",
    "    tn, tna, run_id_n =  insert_data('numeric', size)\n",
    "    t_numeric.append(tn)\n",
    "    t_numeric_add.append(tna)\n",
    "\n",
    "    ta, taa, run_id_a =  insert_data('array', size)\n",
    "    t_array.append(ta)\n",
    "    t_array_add.append(taa)"
   ]
  },
  {
   "cell_type": "code",
   "execution_count": 6,
   "metadata": {
    "execution": {
     "iopub.execute_input": "2021-04-20T21:15:15.575886Z",
     "iopub.status.busy": "2021-04-20T21:15:15.573753Z",
     "iopub.status.idle": "2021-04-20T21:15:15.748745Z",
     "shell.execute_reply": "2021-04-20T21:15:15.749200Z"
    }
   },
   "outputs": [
    {
     "data": {
      "image/png": "[encoded data removed]",
      "text/plain": [
       "<Figure size 432x288 with 1 Axes>"
      ]
     },
     "metadata": {
      "needs_background": "light"
     },
     "output_type": "display_data"
    }
   ],
   "source": [
    "fig, ax = plt.subplots(1,1)\n",
    "ax.plot(sizes, t_numeric, 'o-', label='Inserting row-by-row')\n",
    "ax.plot(sizes, t_numeric_add, 'o-', label='Inserting row-by-row: add_result only')\n",
    "ax.plot(sizes, t_array, 'd-', label='Inserting as binary blob')\n",
    "ax.plot(sizes, t_array_add, 'd-', label='Inserting as binary blob: add_result only')\n",
    "ax.legend()\n",
    "ax.set_xlabel('Array length')\n",
    "ax.set_ylabel('Time (s)')\n",
    "fig.tight_layout()"
   ]
  },
  {
   "cell_type": "markdown",
   "metadata": {},
   "source": [
    "As shown in the latter figure, the time to setup and and close the experiment is approximately 0.4 sec. In case of small array sizes, the difference between inserting values of data as arrays and inserting them row-by-row is relatively unimportant. At larger array sizes, i.e. above 10000 points, the cost of writing data as individual datapoints starts to become important.\n"
   ]
  },
  {
   "cell_type": "markdown",
   "metadata": {},
   "source": [
    "### Case2: Long experiment time "
   ]
  },
  {
   "cell_type": "code",
   "execution_count": 7,
   "metadata": {
    "execution": {
     "iopub.execute_input": "2021-04-20T21:15:15.752182Z",
     "iopub.status.busy": "2021-04-20T21:15:15.751511Z",
     "iopub.status.idle": "2021-04-20T21:16:06.297599Z",
     "shell.execute_reply": "2021-04-20T21:16:06.296736Z"
    }
   },
   "outputs": [
    {
     "name": "stdout",
     "output_type": "stream",
     "text": [
      "Starting experimental run with id: 15. \n",
      "Starting experimental run with id: 16. \n",
      "Starting experimental run with id: 17. \n"
     ]
    },
    {
     "name": "stdout",
     "output_type": "stream",
     "text": [
      "Starting experimental run with id: 18. \n",
      "Starting experimental run with id: 19. \n"
     ]
    },
    {
     "name": "stdout",
     "output_type": "stream",
     "text": [
      "Starting experimental run with id: 20. \n"
     ]
    },
    {
     "name": "stdout",
     "output_type": "stream",
     "text": [
      "Starting experimental run with id: 21. \n"
     ]
    },
    {
     "name": "stdout",
     "output_type": "stream",
     "text": [
      "Starting experimental run with id: 22. \n"
     ]
    },
    {
     "name": "stdout",
     "output_type": "stream",
     "text": [
      "Starting experimental run with id: 23. \n"
     ]
    },
    {
     "name": "stdout",
     "output_type": "stream",
     "text": [
      "Starting experimental run with id: 24. \n"
     ]
    },
    {
     "name": "stdout",
     "output_type": "stream",
     "text": [
      "Starting experimental run with id: 25. \n"
     ]
    },
    {
     "name": "stdout",
     "output_type": "stream",
     "text": [
      "Starting experimental run with id: 26. \n"
     ]
    },
    {
     "name": "stdout",
     "output_type": "stream",
     "text": [
      "Starting experimental run with id: 27. \n"
     ]
    },
    {
     "name": "stdout",
     "output_type": "stream",
     "text": [
      "Starting experimental run with id: 28. \n"
     ]
    }
   ],
   "source": [
    "sizes = [1,500,1000,2000,3000,4000,5000]\n",
    "nreps = 100\n",
    "t_numeric = []\n",
    "t_numeric_add = []\n",
    "t_numeric_run_ids = []\n",
    "t_array = []\n",
    "t_array_add = []\n",
    "t_array_run_ids = []\n",
    "for size in sizes:\n",
    "    tn, tna, run_id_n =  insert_data('numeric', size, nreps=nreps)\n",
    "    t_numeric.append(tn)\n",
    "    t_numeric_add.append(tna)\n",
    "    t_numeric_run_ids.append(run_id_n)\n",
    "\n",
    "    ta, taa, run_id_a =  insert_data('array', size, nreps=nreps)\n",
    "    t_array.append(ta)\n",
    "    t_array_add.append(taa)\n",
    "    t_array_run_ids.append(run_id_a)"
   ]
  },
  {
   "cell_type": "code",
   "execution_count": 8,
   "metadata": {
    "execution": {
     "iopub.execute_input": "2021-04-20T21:16:06.325764Z",
     "iopub.status.busy": "2021-04-20T21:16:06.314895Z",
     "iopub.status.idle": "2021-04-20T21:16:06.471976Z",
     "shell.execute_reply": "2021-04-20T21:16:06.472707Z"
    },
    "scrolled": true
   },
   "outputs": [
    {
     "data": {
      "image/png": "[encoded data removed]",
      "text/plain": [
       "<Figure size 432x288 with 1 Axes>"
      ]
     },
     "metadata": {
      "needs_background": "light"
     },
     "output_type": "display_data"
    }
   ],
   "source": [
    "fig, ax = plt.subplots(1,1)\n",
    "ax.plot(sizes, t_numeric, 'o-', label='Inserting row-by-row')\n",
    "ax.plot(sizes, t_numeric_add, 'o-', label='Inserting row-by-row: add_result only')\n",
    "ax.plot(sizes, t_array, 'd-', label='Inserting as binary blob')\n",
    "ax.plot(sizes, t_array_add, 'd-', label='Inserting as binary blob: add_result only')\n",
    "ax.legend()\n",
    "ax.set_xlabel('Array length')\n",
    "ax.set_ylabel('Time (s)')\n",
    "fig.tight_layout()"
   ]
  },
  {
   "cell_type": "markdown",
   "metadata": {},
   "source": [
    "However, as we increase the length of the experiment, as seen here by repeating the insertion 100 times, we see a big difference between inserting values of the data row-by-row and inserting it as a binary blob."
   ]
  },
  {
   "cell_type": "markdown",
   "metadata": {},
   "source": [
    "## Loading the data "
   ]
  },
  {
   "cell_type": "code",
   "execution_count": 9,
   "metadata": {
    "execution": {
     "iopub.execute_input": "2021-04-20T21:16:06.475831Z",
     "iopub.status.busy": "2021-04-20T21:16:06.474826Z",
     "iopub.status.idle": "2021-04-20T21:16:06.478968Z",
     "shell.execute_reply": "2021-04-20T21:16:06.479550Z"
    }
   },
   "outputs": [],
   "source": [
    "from qcodes.dataset.data_set import load_by_id"
   ]
  },
  {
   "cell_type": "markdown",
   "metadata": {},
   "source": [
    "As usual you can load the data by using the ``load_by_id`` function but you will notice that the different storage methods\n",
    "are reflected in shape of the data as it is retrieved. "
   ]
  },
  {
   "cell_type": "code",
   "execution_count": 10,
   "metadata": {
    "execution": {
     "iopub.execute_input": "2021-04-20T21:16:06.482843Z",
     "iopub.status.busy": "2021-04-20T21:16:06.481953Z",
     "iopub.status.idle": "2021-04-20T21:16:06.485828Z",
     "shell.execute_reply": "2021-04-20T21:16:06.486808Z"
    }
   },
   "outputs": [],
   "source": [
    "run_id_n = t_numeric_run_ids[0]\n",
    "run_id_a = t_array_run_ids[0]"
   ]
  },
  {
   "cell_type": "code",
   "execution_count": 11,
   "metadata": {
    "execution": {
     "iopub.execute_input": "2021-04-20T21:16:06.489876Z",
     "iopub.status.busy": "2021-04-20T21:16:06.489343Z",
     "iopub.status.idle": "2021-04-20T21:16:06.501555Z",
     "shell.execute_reply": "2021-04-20T21:16:06.501026Z"
    },
    "scrolled": true
   },
   "outputs": [
    {
     "data": {
      "text/plain": [
       "{'x1': {'x1': array([0.424164  , 0.424164  , 0.50203221, 0.50203221, 0.9959306 ,\n",
       "         0.9959306 , 0.71633882, 0.71633882, 0.10397815, 0.10397815,\n",
       "         0.1642957 , 0.1642957 , 0.91088007, 0.91088007, 0.23521195,\n",
       "         0.23521195, 0.10067175, 0.10067175, 0.72391851, 0.72391851,\n",
       "         0.57110846, 0.57110846, 0.19475311, 0.19475311, 0.07627811,\n",
       "         0.07627811, 0.22214334, 0.22214334, 0.8200564 , 0.8200564 ,\n",
       "         0.7537834 , 0.7537834 , 0.27819119, 0.27819119, 0.85450521,\n",
       "         0.85450521, 0.14199905, 0.14199905, 0.61465723, 0.61465723,\n",
       "         0.6222942 , 0.6222942 , 0.559577  , 0.559577  , 0.3794992 ,\n",
       "         0.3794992 , 0.10611958, 0.10611958, 0.36899377, 0.36899377,\n",
       "         0.33039104, 0.33039104, 0.58480304, 0.58480304, 0.8548387 ,\n",
       "         0.8548387 , 0.4027409 , 0.4027409 , 0.50448282, 0.50448282,\n",
       "         0.70579088, 0.70579088, 0.40906665, 0.40906665, 0.87008599,\n",
       "         0.87008599, 0.86270313, 0.86270313, 0.608955  , 0.608955  ,\n",
       "         0.49988868, 0.49988868, 0.2070496 , 0.2070496 , 0.81763685,\n",
       "         0.81763685, 0.37835037, 0.37835037, 0.28802022, 0.28802022,\n",
       "         0.34657455, 0.34657455, 0.83903811, 0.83903811, 0.98918186,\n",
       "         0.98918186, 0.23760841, 0.23760841, 0.02378312, 0.02378312,\n",
       "         0.8827823 , 0.8827823 , 0.42540661, 0.42540661, 0.97021917,\n",
       "         0.97021917, 0.01208673, 0.01208673, 0.7519953 , 0.7519953 ,\n",
       "         0.01354097, 0.01354097, 0.85707018, 0.85707018, 0.19381337,\n",
       "         0.19381337, 0.64495535, 0.64495535, 0.82672026, 0.82672026,\n",
       "         0.25764578, 0.25764578, 0.11142895, 0.11142895, 0.74231611,\n",
       "         0.74231611, 0.80813849, 0.80813849, 0.00184606, 0.00184606,\n",
       "         0.35885832, 0.35885832, 0.26199576, 0.26199576, 0.25542884,\n",
       "         0.25542884, 0.45427212, 0.45427212, 0.99044774, 0.99044774,\n",
       "         0.31952604, 0.31952604, 0.73124733, 0.73124733, 0.51451223,\n",
       "         0.51451223, 0.72865901, 0.72865901, 0.83780282, 0.83780282,\n",
       "         0.52428259, 0.52428259, 0.08761985, 0.08761985, 0.73912216,\n",
       "         0.73912216, 0.47563222, 0.47563222, 0.28308795, 0.28308795,\n",
       "         0.05519117, 0.05519117, 0.10174926, 0.10174926, 0.07272753,\n",
       "         0.07272753, 0.65778994, 0.65778994, 0.02406697, 0.02406697,\n",
       "         0.97623011, 0.97623011, 0.0374888 , 0.0374888 , 0.23209448,\n",
       "         0.23209448, 0.60961864, 0.60961864, 0.50581529, 0.50581529,\n",
       "         0.36910133, 0.36910133, 0.21727149, 0.21727149, 0.01637225,\n",
       "         0.01637225, 0.21228789, 0.21228789, 0.19853564, 0.19853564,\n",
       "         0.13953951, 0.13953951, 0.27866751, 0.27866751, 0.19914684,\n",
       "         0.19914684, 0.68253403, 0.68253403, 0.70902291, 0.70902291,\n",
       "         0.37235426, 0.37235426, 0.38768777, 0.38768777, 0.85700713,\n",
       "         0.85700713, 0.81612909, 0.81612909, 0.04967394, 0.04967394])}}"
      ]
     },
     "execution_count": 1,
     "metadata": {},
     "output_type": "execute_result"
    }
   ],
   "source": [
    "ds = load_by_id(run_id_n)\n",
    "ds.get_parameter_data('x1')"
   ]
  },
  {
   "cell_type": "markdown",
   "metadata": {},
   "source": [
    "And a dataset stored as binary arrays"
   ]
  },
  {
   "cell_type": "code",
   "execution_count": 12,
   "metadata": {
    "execution": {
     "iopub.execute_input": "2021-04-20T21:16:06.505241Z",
     "iopub.status.busy": "2021-04-20T21:16:06.504686Z",
     "iopub.status.idle": "2021-04-20T21:16:06.557787Z",
     "shell.execute_reply": "2021-04-20T21:16:06.556660Z"
    },
    "scrolled": true
   },
   "outputs": [
    {
     "data": {
      "text/plain": [
       "{'x1': {'x1': array([[0.30063857],\n",
       "         [0.30063857],\n",
       "         [0.52889542],\n",
       "         [0.52889542],\n",
       "         [0.88978355],\n",
       "         [0.88978355],\n",
       "         [0.28035363],\n",
       "         [0.28035363],\n",
       "         [0.78706055],\n",
       "         [0.78706055],\n",
       "         [0.97778759],\n",
       "         [0.97778759],\n",
       "         [0.77155268],\n",
       "         [0.77155268],\n",
       "         [0.78761628],\n",
       "         [0.78761628],\n",
       "         [0.50396663],\n",
       "         [0.50396663],\n",
       "         [0.95625073],\n",
       "         [0.95625073],\n",
       "         [0.94761328],\n",
       "         [0.94761328],\n",
       "         [0.52754137],\n",
       "         [0.52754137],\n",
       "         [0.16290839],\n",
       "         [0.16290839],\n",
       "         [0.20762137],\n",
       "         [0.20762137],\n",
       "         [0.70996751],\n",
       "         [0.70996751],\n",
       "         [0.66763143],\n",
       "         [0.66763143],\n",
       "         [0.4202304 ],\n",
       "         [0.4202304 ],\n",
       "         [0.99007677],\n",
       "         [0.99007677],\n",
       "         [0.2490877 ],\n",
       "         [0.2490877 ],\n",
       "         [0.54008661],\n",
       "         [0.54008661],\n",
       "         [0.04016693],\n",
       "         [0.04016693],\n",
       "         [0.3554382 ],\n",
       "         [0.3554382 ],\n",
       "         [0.11698456],\n",
       "         [0.11698456],\n",
       "         [0.9371624 ],\n",
       "         [0.9371624 ],\n",
       "         [0.47553341],\n",
       "         [0.47553341],\n",
       "         [0.11460325],\n",
       "         [0.11460325],\n",
       "         [0.12419335],\n",
       "         [0.12419335],\n",
       "         [0.8865183 ],\n",
       "         [0.8865183 ],\n",
       "         [0.44167294],\n",
       "         [0.44167294],\n",
       "         [0.91225131],\n",
       "         [0.91225131],\n",
       "         [0.54460627],\n",
       "         [0.54460627],\n",
       "         [0.34670033],\n",
       "         [0.34670033],\n",
       "         [0.93443895],\n",
       "         [0.93443895],\n",
       "         [0.51936   ],\n",
       "         [0.51936   ],\n",
       "         [0.47126553],\n",
       "         [0.47126553],\n",
       "         [0.4937551 ],\n",
       "         [0.4937551 ],\n",
       "         [0.65352565],\n",
       "         [0.65352565],\n",
       "         [0.01223859],\n",
       "         [0.01223859],\n",
       "         [0.54782811],\n",
       "         [0.54782811],\n",
       "         [0.72161314],\n",
       "         [0.72161314],\n",
       "         [0.79179938],\n",
       "         [0.79179938],\n",
       "         [0.67405512],\n",
       "         [0.67405512],\n",
       "         [0.93154004],\n",
       "         [0.93154004],\n",
       "         [0.9687752 ],\n",
       "         [0.9687752 ],\n",
       "         [0.76885144],\n",
       "         [0.76885144],\n",
       "         [0.10153879],\n",
       "         [0.10153879],\n",
       "         [0.28380665],\n",
       "         [0.28380665],\n",
       "         [0.1166562 ],\n",
       "         [0.1166562 ],\n",
       "         [0.2158375 ],\n",
       "         [0.2158375 ],\n",
       "         [0.59861208],\n",
       "         [0.59861208],\n",
       "         [0.36517466],\n",
       "         [0.36517466],\n",
       "         [0.04633196],\n",
       "         [0.04633196],\n",
       "         [0.94057365],\n",
       "         [0.94057365],\n",
       "         [0.52303317],\n",
       "         [0.52303317],\n",
       "         [0.90095298],\n",
       "         [0.90095298],\n",
       "         [0.76526818],\n",
       "         [0.76526818],\n",
       "         [0.00367345],\n",
       "         [0.00367345],\n",
       "         [0.08305065],\n",
       "         [0.08305065],\n",
       "         [0.87570075],\n",
       "         [0.87570075],\n",
       "         [0.5103218 ],\n",
       "         [0.5103218 ],\n",
       "         [0.92328508],\n",
       "         [0.92328508],\n",
       "         [0.40210192],\n",
       "         [0.40210192],\n",
       "         [0.4607785 ],\n",
       "         [0.4607785 ],\n",
       "         [0.68065299],\n",
       "         [0.68065299],\n",
       "         [0.43729978],\n",
       "         [0.43729978],\n",
       "         [0.01410441],\n",
       "         [0.01410441],\n",
       "         [0.39695265],\n",
       "         [0.39695265],\n",
       "         [0.23458916],\n",
       "         [0.23458916],\n",
       "         [0.48834999],\n",
       "         [0.48834999],\n",
       "         [0.44438397],\n",
       "         [0.44438397],\n",
       "         [0.80319688],\n",
       "         [0.80319688],\n",
       "         [0.72779046],\n",
       "         [0.72779046],\n",
       "         [0.04454784],\n",
       "         [0.04454784],\n",
       "         [0.49363442],\n",
       "         [0.49363442],\n",
       "         [0.82276935],\n",
       "         [0.82276935],\n",
       "         [0.5906031 ],\n",
       "         [0.5906031 ],\n",
       "         [0.12166598],\n",
       "         [0.12166598],\n",
       "         [0.26270851],\n",
       "         [0.26270851],\n",
       "         [0.13253518],\n",
       "         [0.13253518],\n",
       "         [0.35094344],\n",
       "         [0.35094344],\n",
       "         [0.32330367],\n",
       "         [0.32330367],\n",
       "         [0.1243935 ],\n",
       "         [0.1243935 ],\n",
       "         [0.58195641],\n",
       "         [0.58195641],\n",
       "         [0.18360991],\n",
       "         [0.18360991],\n",
       "         [0.50672278],\n",
       "         [0.50672278],\n",
       "         [0.28323026],\n",
       "         [0.28323026],\n",
       "         [0.17439597],\n",
       "         [0.17439597],\n",
       "         [0.7611441 ],\n",
       "         [0.7611441 ],\n",
       "         [0.49462694],\n",
       "         [0.49462694],\n",
       "         [0.29349574],\n",
       "         [0.29349574],\n",
       "         [0.44555454],\n",
       "         [0.44555454],\n",
       "         [0.22484312],\n",
       "         [0.22484312],\n",
       "         [0.25080565],\n",
       "         [0.25080565],\n",
       "         [0.32671752],\n",
       "         [0.32671752],\n",
       "         [0.22492469],\n",
       "         [0.22492469],\n",
       "         [0.54804211],\n",
       "         [0.54804211],\n",
       "         [0.57691635],\n",
       "         [0.57691635],\n",
       "         [0.15583974],\n",
       "         [0.15583974],\n",
       "         [0.49014246],\n",
       "         [0.49014246],\n",
       "         [0.07760137],\n",
       "         [0.07760137]])}}"
      ]
     },
     "execution_count": 1,
     "metadata": {},
     "output_type": "execute_result"
    }
   ],
   "source": [
    "ds = load_by_id(run_id_a)\n",
    "ds.get_parameter_data('x1')"
   ]
  },
  {
   "cell_type": "code",
   "execution_count": null,
   "metadata": {},
   "outputs": [],
   "source": []
  }
 ],
 "metadata": {
  "kernelspec": {
   "display_name": "Python 3",
   "language": "python",
   "name": "python3"
  },
  "language_info": {
   "codemirror_mode": {
    "name": "ipython",
    "version": 3
   },
   "file_extension": ".py",
   "mimetype": "text/x-python",
   "name": "python",
   "nbconvert_exporter": "python",
   "pygments_lexer": "ipython3",
   "version": "3.7.10"
  },
  "nbsphinx": {
   "timeout": 600
  },
  "toc": {
   "base_numbering": 1,
   "nav_menu": {},
   "number_sections": true,
   "sideBar": true,
   "skip_h1_title": false,
   "title_cell": "Table of Contents",
   "title_sidebar": "Contents",
   "toc_cell": false,
   "toc_position": {},
   "toc_section_display": true,
   "toc_window_display": false
  },
  "varInspector": {
   "cols": {
    "lenName": 16,
    "lenType": 16,
    "lenVar": 40
   },
   "kernels_config": {
    "python": {
     "delete_cmd_postfix": "",
     "delete_cmd_prefix": "del ",
     "library": "var_list.py",
     "varRefreshCmd": "print(var_dic_list())"
    },
    "r": {
     "delete_cmd_postfix": ") ",
     "delete_cmd_prefix": "rm(",
     "library": "var_list.r",
     "varRefreshCmd": "cat(var_dic_list()) "
    }
   },
   "types_to_exclude": [
    "module",
    "function",
    "builtin_function_or_method",
    "instance",
    "_Feature"
   ],
   "window_display": false
  }
 },
 "nbformat": 4,
 "nbformat_minor": 4
}
