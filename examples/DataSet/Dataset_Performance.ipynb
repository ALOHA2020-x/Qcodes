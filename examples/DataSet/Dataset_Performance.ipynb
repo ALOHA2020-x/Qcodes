{
 "cells": [
  {
   "cell_type": "markdown",
   "metadata": {},
   "source": [
    "# DataSet Performance\n",
    "\n",
    "This notebook shows the trade-off between inserting data into a database row-by-row and as binary blobs. Inserting the data row-by-row means that we have direct access to all the data and may perform queries directly on the values of the data. On the other hand, as we shall see, this is much slower than inserting the data directly as binary blobs."
   ]
  },
  {
   "cell_type": "markdown",
   "metadata": {},
   "source": [
    "First, we choose a new location for the database to ensure that we don't add a bunch of benchmarking data to the default one."
   ]
  },
  {
   "cell_type": "code",
   "execution_count": 1,
   "metadata": {
    "execution": {
     "iopub.execute_input": "2021-04-28T13:14:49.725243Z",
     "iopub.status.busy": "2021-04-28T13:14:49.724707Z",
     "iopub.status.idle": "2021-04-28T13:14:50.951028Z",
     "shell.execute_reply": "2021-04-28T13:14:50.950458Z"
    }
   },
   "outputs": [
    {
     "name": "stdout",
     "output_type": "stream",
     "text": [
      "Logging hadn't been started.\n",
      "Activating auto-logging. Current session state plus future input saved.\n",
      "Filename       : /home/runner/.qcodes/logs/command_history.log\n",
      "Mode           : append\n",
      "Output logging : True\n",
      "Raw input log  : False\n",
      "Timestamping   : True\n",
      "State          : active\n"
     ]
    },
    {
     "name": "stdout",
     "output_type": "stream",
     "text": [
      "Qcodes Logfile : /home/runner/.qcodes/logs/210428-4620-qcodes.log\n"
     ]
    }
   ],
   "source": [
    "import os\n",
    "cwd = os.getcwd()\n",
    "import qcodes as qc\n",
    "qc.config[\"core\"][\"db_location\"] = os.path.join(cwd, 'testing.db')\n"
   ]
  },
  {
   "cell_type": "code",
   "execution_count": 2,
   "metadata": {
    "execution": {
     "iopub.execute_input": "2021-04-28T13:14:50.958491Z",
     "iopub.status.busy": "2021-04-28T13:14:50.957061Z",
     "iopub.status.idle": "2021-04-28T13:14:51.166160Z",
     "shell.execute_reply": "2021-04-28T13:14:51.165225Z"
    }
   },
   "outputs": [],
   "source": [
    "%matplotlib inline\n",
    "import time\n",
    "import matplotlib.pyplot as plt\n",
    "import numpy as np\n",
    "\n",
    "import qcodes as qc\n",
    "from qcodes.instrument.parameter import ManualParameter\n",
    "from qcodes.dataset.experiment_container import (Experiment,\n",
    "                                                 load_last_experiment,\n",
    "                                                 new_experiment)\n",
    "from qcodes.dataset.sqlite.database import initialise_database\n",
    "from qcodes import load_or_create_experiment\n",
    "from qcodes.dataset.measurements import Measurement"
   ]
  },
  {
   "cell_type": "code",
   "execution_count": 3,
   "metadata": {
    "execution": {
     "iopub.execute_input": "2021-04-28T13:14:51.170329Z",
     "iopub.status.busy": "2021-04-28T13:14:51.169695Z",
     "iopub.status.idle": "2021-04-28T13:14:51.300677Z",
     "shell.execute_reply": "2021-04-28T13:14:51.301138Z"
    }
   },
   "outputs": [
    {
     "name": "stdout",
     "output_type": "stream",
     "text": [
      "\r",
      "0it [00:00, ?it/s]"
     ]
    },
    {
     "name": "stdout",
     "output_type": "stream",
     "text": [
      "\r",
      "Upgrading database; v0 -> v1: : 0it [00:00, ?it/s]"
     ]
    },
    {
     "name": "stdout",
     "output_type": "stream",
     "text": [
      "\r",
      "Upgrading database; v0 -> v1: : 0it [00:00, ?it/s]"
     ]
    },
    {
     "name": "stdout",
     "output_type": "stream",
     "text": [
      "\n",
      "\r",
      "  0%|          | 0/1 [00:00<?, ?it/s]"
     ]
    },
    {
     "name": "stdout",
     "output_type": "stream",
     "text": [
      "\r",
      "Upgrading database; v1 -> v2:   0%|          | 0/1 [00:00<?, ?it/s]"
     ]
    },
    {
     "name": "stdout",
     "output_type": "stream",
     "text": [
      "\r",
      "Upgrading database; v1 -> v2: 100%|██████████| 1/1 [00:00<00:00, 614.19it/s]"
     ]
    },
    {
     "name": "stdout",
     "output_type": "stream",
     "text": [
      "\n",
      "\r",
      "0it [00:00, ?it/s]"
     ]
    },
    {
     "name": "stdout",
     "output_type": "stream",
     "text": [
      "\r",
      "Upgrading database; v2 -> v3: : 0it [00:00, ?it/s]"
     ]
    },
    {
     "name": "stdout",
     "output_type": "stream",
     "text": [
      "\r",
      "Upgrading database; v2 -> v3: : 0it [00:00, ?it/s]"
     ]
    },
    {
     "name": "stdout",
     "output_type": "stream",
     "text": [
      "\n",
      "\r",
      "0it [00:00, ?it/s]"
     ]
    },
    {
     "name": "stdout",
     "output_type": "stream",
     "text": [
      "\r",
      "Upgrading database; v3 -> v4: : 0it [00:00, ?it/s]"
     ]
    },
    {
     "name": "stdout",
     "output_type": "stream",
     "text": [
      "\r",
      "Upgrading database; v3 -> v4: : 0it [00:00, ?it/s]"
     ]
    },
    {
     "name": "stdout",
     "output_type": "stream",
     "text": [
      "\n",
      "\r",
      "  0%|          | 0/1 [00:00<?, ?it/s]"
     ]
    },
    {
     "name": "stdout",
     "output_type": "stream",
     "text": [
      "\r",
      "Upgrading database; v4 -> v5:   0%|          | 0/1 [00:00<?, ?it/s]"
     ]
    },
    {
     "name": "stdout",
     "output_type": "stream",
     "text": [
      "\r",
      "Upgrading database; v4 -> v5: 100%|██████████| 1/1 [00:00<00:00, 772.15it/s]"
     ]
    },
    {
     "name": "stdout",
     "output_type": "stream",
     "text": [
      "\n",
      "\r",
      "0it [00:00, ?it/s]"
     ]
    },
    {
     "name": "stdout",
     "output_type": "stream",
     "text": [
      "\r",
      "Upgrading database; v5 -> v6: : 0it [00:00, ?it/s]"
     ]
    },
    {
     "name": "stdout",
     "output_type": "stream",
     "text": [
      "\r",
      "Upgrading database; v5 -> v6: : 0it [00:00, ?it/s]"
     ]
    },
    {
     "name": "stdout",
     "output_type": "stream",
     "text": [
      "\n",
      "\r",
      "  0%|          | 0/1 [00:00<?, ?it/s]"
     ]
    },
    {
     "name": "stdout",
     "output_type": "stream",
     "text": [
      "\r",
      "Upgrading database; v6 -> v7:   0%|          | 0/1 [00:00<?, ?it/s]"
     ]
    },
    {
     "name": "stdout",
     "output_type": "stream",
     "text": [
      "\r",
      "Upgrading database; v6 -> v7: 100%|██████████| 1/1 [00:00<00:00, 375.06it/s]"
     ]
    },
    {
     "name": "stdout",
     "output_type": "stream",
     "text": [
      "\n",
      "\r",
      "  0%|          | 0/1 [00:00<?, ?it/s]"
     ]
    },
    {
     "name": "stdout",
     "output_type": "stream",
     "text": [
      "\r",
      "Upgrading database; v7 -> v8:   0%|          | 0/1 [00:00<?, ?it/s]"
     ]
    },
    {
     "name": "stdout",
     "output_type": "stream",
     "text": [
      "\r",
      "Upgrading database; v7 -> v8: 100%|██████████| 1/1 [00:00<00:00, 724.03it/s]"
     ]
    },
    {
     "name": "stdout",
     "output_type": "stream",
     "text": [
      "\n",
      "\r",
      "  0%|          | 0/1 [00:00<?, ?it/s]"
     ]
    },
    {
     "name": "stdout",
     "output_type": "stream",
     "text": [
      "\r",
      "Upgrading database; v8 -> v9:   0%|          | 0/1 [00:00<?, ?it/s]"
     ]
    },
    {
     "name": "stdout",
     "output_type": "stream",
     "text": [
      "\r",
      "Upgrading database; v8 -> v9: 100%|██████████| 1/1 [00:00<00:00, 438.69it/s]"
     ]
    },
    {
     "name": "stdout",
     "output_type": "stream",
     "text": [
      "\n"
     ]
    }
   ],
   "source": [
    "initialise_database()\n",
    "exp = load_or_create_experiment(experiment_name='tutorial_exp', sample_name=\"no sample\")"
   ]
  },
  {
   "cell_type": "markdown",
   "metadata": {},
   "source": [
    "Here, we define a simple function to benchmark the time it takes to insert n points with either numeric or array data type.\n",
    "We will compare both the time used to call ``add_result`` and the time used for the full measurement."
   ]
  },
  {
   "cell_type": "code",
   "execution_count": 4,
   "metadata": {
    "execution": {
     "iopub.execute_input": "2021-04-28T13:14:51.309360Z",
     "iopub.status.busy": "2021-04-28T13:14:51.308529Z",
     "iopub.status.idle": "2021-04-28T13:14:51.312210Z",
     "shell.execute_reply": "2021-04-28T13:14:51.312687Z"
    }
   },
   "outputs": [],
   "source": [
    "def insert_data(paramtype, npoints, nreps=1):\n",
    "\n",
    "    meas = Measurement(exp=exp)\n",
    "\n",
    "    x1 = ManualParameter('x1')\n",
    "    x2 = ManualParameter('x2')\n",
    "    x3 = ManualParameter('x3')\n",
    "    y1 = ManualParameter('y1')\n",
    "    y2 = ManualParameter('y2')\n",
    "\n",
    "    meas.register_parameter(x1, paramtype=paramtype)\n",
    "    meas.register_parameter(x2, paramtype=paramtype)\n",
    "    meas.register_parameter(x3, paramtype=paramtype)\n",
    "    meas.register_parameter(y1, setpoints=[x1, x2, x3],\n",
    "                            paramtype=paramtype)\n",
    "    meas.register_parameter(y2, setpoints=[x1, x2, x3],\n",
    "                            paramtype=paramtype)\n",
    "    start = time.perf_counter()\n",
    "    with meas.run() as datasaver:\n",
    "        start_adding = time.perf_counter()\n",
    "        for i in range(nreps):\n",
    "            datasaver.add_result((x1, np.random.rand(npoints)),\n",
    "                                 (x2, np.random.rand(npoints)),\n",
    "                                 (x3, np.random.rand(npoints)),\n",
    "                                 (y1, np.random.rand(npoints)),\n",
    "                                 (y2, np.random.rand(npoints)))\n",
    "        stop_adding = time.perf_counter()\n",
    "        run_id = datasaver.run_id\n",
    "    stop = time.perf_counter()\n",
    "    tot_time = stop - start\n",
    "    add_time = stop_adding - start_adding\n",
    "    return tot_time, add_time, run_id"
   ]
  },
  {
   "cell_type": "markdown",
   "metadata": {},
   "source": [
    "## Comparison between numeric/array data and binary blob"
   ]
  },
  {
   "cell_type": "markdown",
   "metadata": {},
   "source": [
    "### Case1: Short experiment time"
   ]
  },
  {
   "cell_type": "code",
   "execution_count": 5,
   "metadata": {
    "execution": {
     "iopub.execute_input": "2021-04-28T13:14:51.318558Z",
     "iopub.status.busy": "2021-04-28T13:14:51.317984Z",
     "iopub.status.idle": "2021-04-28T13:14:52.062571Z",
     "shell.execute_reply": "2021-04-28T13:14:52.063394Z"
    }
   },
   "outputs": [
    {
     "name": "stdout",
     "output_type": "stream",
     "text": [
      "Starting experimental run with id: 1. \n",
      "Starting experimental run with id: 2. \n",
      "Starting experimental run with id: 3. \n",
      "Starting experimental run with id: 4. \n",
      "Starting experimental run with id: 5. \n"
     ]
    },
    {
     "name": "stdout",
     "output_type": "stream",
     "text": [
      "Starting experimental run with id: 6. \n"
     ]
    },
    {
     "name": "stdout",
     "output_type": "stream",
     "text": [
      "Starting experimental run with id: 7. \n"
     ]
    },
    {
     "name": "stdout",
     "output_type": "stream",
     "text": [
      "Starting experimental run with id: 8. \n",
      "Starting experimental run with id: 9. \n"
     ]
    },
    {
     "name": "stdout",
     "output_type": "stream",
     "text": [
      "Starting experimental run with id: 10. \n",
      "Starting experimental run with id: 11. \n"
     ]
    },
    {
     "name": "stdout",
     "output_type": "stream",
     "text": [
      "Starting experimental run with id: 12. \n",
      "Starting experimental run with id: 13. \n"
     ]
    },
    {
     "name": "stdout",
     "output_type": "stream",
     "text": [
      "Starting experimental run with id: 14. \n"
     ]
    }
   ],
   "source": [
    "sizes = [1,500,1000,2000,3000,4000,5000]\n",
    "t_numeric = []\n",
    "t_numeric_add = []\n",
    "t_array = []\n",
    "t_array_add = []\n",
    "for size in sizes:\n",
    "    tn, tna, run_id_n =  insert_data('numeric', size)\n",
    "    t_numeric.append(tn)\n",
    "    t_numeric_add.append(tna)\n",
    "\n",
    "    ta, taa, run_id_a =  insert_data('array', size)\n",
    "    t_array.append(ta)\n",
    "    t_array_add.append(taa)"
   ]
  },
  {
   "cell_type": "code",
   "execution_count": 6,
   "metadata": {
    "execution": {
     "iopub.execute_input": "2021-04-28T13:14:52.116936Z",
     "iopub.status.busy": "2021-04-28T13:14:52.095278Z",
     "iopub.status.idle": "2021-04-28T13:14:52.315012Z",
     "shell.execute_reply": "2021-04-28T13:14:52.315519Z"
    }
   },
   "outputs": [
    {
     "data": {
      "image/png": "[encoded data removed]",
      "text/plain": [
       "<Figure size 432x288 with 1 Axes>"
      ]
     },
     "metadata": {
      "needs_background": "light"
     },
     "output_type": "display_data"
    }
   ],
   "source": [
    "fig, ax = plt.subplots(1,1)\n",
    "ax.plot(sizes, t_numeric, 'o-', label='Inserting row-by-row')\n",
    "ax.plot(sizes, t_numeric_add, 'o-', label='Inserting row-by-row: add_result only')\n",
    "ax.plot(sizes, t_array, 'd-', label='Inserting as binary blob')\n",
    "ax.plot(sizes, t_array_add, 'd-', label='Inserting as binary blob: add_result only')\n",
    "ax.legend()\n",
    "ax.set_xlabel('Array length')\n",
    "ax.set_ylabel('Time (s)')\n",
    "fig.tight_layout()"
   ]
  },
  {
   "cell_type": "markdown",
   "metadata": {},
   "source": [
    "As shown in the latter figure, the time to setup and and close the experiment is approximately 0.4 sec. In case of small array sizes, the difference between inserting values of data as arrays and inserting them row-by-row is relatively unimportant. At larger array sizes, i.e. above 10000 points, the cost of writing data as individual datapoints starts to become important.\n"
   ]
  },
  {
   "cell_type": "markdown",
   "metadata": {},
   "source": [
    "### Case2: Long experiment time "
   ]
  },
  {
   "cell_type": "code",
   "execution_count": 7,
   "metadata": {
    "execution": {
     "iopub.execute_input": "2021-04-28T13:14:52.323751Z",
     "iopub.status.busy": "2021-04-28T13:14:52.321958Z",
     "iopub.status.idle": "2021-04-28T13:15:45.914958Z",
     "shell.execute_reply": "2021-04-28T13:15:45.915434Z"
    }
   },
   "outputs": [
    {
     "name": "stdout",
     "output_type": "stream",
     "text": [
      "Starting experimental run with id: 15. \n",
      "Starting experimental run with id: 16. \n"
     ]
    },
    {
     "name": "stdout",
     "output_type": "stream",
     "text": [
      "Starting experimental run with id: 17. \n"
     ]
    },
    {
     "name": "stdout",
     "output_type": "stream",
     "text": [
      "Starting experimental run with id: 18. \n"
     ]
    },
    {
     "name": "stdout",
     "output_type": "stream",
     "text": [
      "Starting experimental run with id: 19. \n"
     ]
    },
    {
     "name": "stdout",
     "output_type": "stream",
     "text": [
      "Starting experimental run with id: 20. \n"
     ]
    },
    {
     "name": "stdout",
     "output_type": "stream",
     "text": [
      "Starting experimental run with id: 21. \n"
     ]
    },
    {
     "name": "stdout",
     "output_type": "stream",
     "text": [
      "Starting experimental run with id: 22. \n"
     ]
    },
    {
     "name": "stdout",
     "output_type": "stream",
     "text": [
      "Starting experimental run with id: 23. \n"
     ]
    },
    {
     "name": "stdout",
     "output_type": "stream",
     "text": [
      "Starting experimental run with id: 24. \n"
     ]
    },
    {
     "name": "stdout",
     "output_type": "stream",
     "text": [
      "Starting experimental run with id: 25. \n"
     ]
    },
    {
     "name": "stdout",
     "output_type": "stream",
     "text": [
      "Starting experimental run with id: 26. \n"
     ]
    },
    {
     "name": "stdout",
     "output_type": "stream",
     "text": [
      "Starting experimental run with id: 27. \n"
     ]
    },
    {
     "name": "stdout",
     "output_type": "stream",
     "text": [
      "Starting experimental run with id: 28. \n"
     ]
    }
   ],
   "source": [
    "sizes = [1,500,1000,2000,3000,4000,5000]\n",
    "nreps = 100\n",
    "t_numeric = []\n",
    "t_numeric_add = []\n",
    "t_numeric_run_ids = []\n",
    "t_array = []\n",
    "t_array_add = []\n",
    "t_array_run_ids = []\n",
    "for size in sizes:\n",
    "    tn, tna, run_id_n =  insert_data('numeric', size, nreps=nreps)\n",
    "    t_numeric.append(tn)\n",
    "    t_numeric_add.append(tna)\n",
    "    t_numeric_run_ids.append(run_id_n)\n",
    "\n",
    "    ta, taa, run_id_a =  insert_data('array', size, nreps=nreps)\n",
    "    t_array.append(ta)\n",
    "    t_array_add.append(taa)\n",
    "    t_array_run_ids.append(run_id_a)"
   ]
  },
  {
   "cell_type": "code",
   "execution_count": 8,
   "metadata": {
    "execution": {
     "iopub.execute_input": "2021-04-28T13:15:45.949932Z",
     "iopub.status.busy": "2021-04-28T13:15:45.944742Z",
     "iopub.status.idle": "2021-04-28T13:15:46.148654Z",
     "shell.execute_reply": "2021-04-28T13:15:46.148145Z"
    },
    "scrolled": true
   },
   "outputs": [
    {
     "data": {
      "image/png": "[encoded data removed]",
      "text/plain": [
       "<Figure size 432x288 with 1 Axes>"
      ]
     },
     "metadata": {
      "needs_background": "light"
     },
     "output_type": "display_data"
    }
   ],
   "source": [
    "fig, ax = plt.subplots(1,1)\n",
    "ax.plot(sizes, t_numeric, 'o-', label='Inserting row-by-row')\n",
    "ax.plot(sizes, t_numeric_add, 'o-', label='Inserting row-by-row: add_result only')\n",
    "ax.plot(sizes, t_array, 'd-', label='Inserting as binary blob')\n",
    "ax.plot(sizes, t_array_add, 'd-', label='Inserting as binary blob: add_result only')\n",
    "ax.legend()\n",
    "ax.set_xlabel('Array length')\n",
    "ax.set_ylabel('Time (s)')\n",
    "fig.tight_layout()"
   ]
  },
  {
   "cell_type": "markdown",
   "metadata": {},
   "source": [
    "However, as we increase the length of the experiment, as seen here by repeating the insertion 100 times, we see a big difference between inserting values of the data row-by-row and inserting it as a binary blob."
   ]
  },
  {
   "cell_type": "markdown",
   "metadata": {},
   "source": [
    "## Loading the data "
   ]
  },
  {
   "cell_type": "code",
   "execution_count": 9,
   "metadata": {
    "execution": {
     "iopub.execute_input": "2021-04-28T13:15:46.154582Z",
     "iopub.status.busy": "2021-04-28T13:15:46.153516Z",
     "iopub.status.idle": "2021-04-28T13:15:46.155299Z",
     "shell.execute_reply": "2021-04-28T13:15:46.155922Z"
    }
   },
   "outputs": [],
   "source": [
    "from qcodes.dataset.data_set import load_by_id"
   ]
  },
  {
   "cell_type": "markdown",
   "metadata": {},
   "source": [
    "As usual you can load the data by using the ``load_by_id`` function but you will notice that the different storage methods\n",
    "are reflected in shape of the data as it is retrieved. "
   ]
  },
  {
   "cell_type": "code",
   "execution_count": 10,
   "metadata": {
    "execution": {
     "iopub.execute_input": "2021-04-28T13:15:46.160389Z",
     "iopub.status.busy": "2021-04-28T13:15:46.159124Z",
     "iopub.status.idle": "2021-04-28T13:15:46.161129Z",
     "shell.execute_reply": "2021-04-28T13:15:46.161581Z"
    }
   },
   "outputs": [],
   "source": [
    "run_id_n = t_numeric_run_ids[0]\n",
    "run_id_a = t_array_run_ids[0]"
   ]
  },
  {
   "cell_type": "code",
   "execution_count": 11,
   "metadata": {
    "execution": {
     "iopub.execute_input": "2021-04-28T13:15:46.164654Z",
     "iopub.status.busy": "2021-04-28T13:15:46.164144Z",
     "iopub.status.idle": "2021-04-28T13:15:46.174761Z",
     "shell.execute_reply": "2021-04-28T13:15:46.174289Z"
    },
    "scrolled": true
   },
   "outputs": [
    {
     "data": {
      "text/plain": [
       "{'x1': {'x1': array([0.08900077, 0.08900077, 0.12794192, 0.12794192, 0.37360773,\n",
       "         0.37360773, 0.0633991 , 0.0633991 , 0.50900816, 0.50900816,\n",
       "         0.93693748, 0.93693748, 0.16202874, 0.16202874, 0.70196811,\n",
       "         0.70196811, 0.43307743, 0.43307743, 0.28690161, 0.28690161,\n",
       "         0.63614954, 0.63614954, 0.97083479, 0.97083479, 0.92264309,\n",
       "         0.92264309, 0.88248674, 0.88248674, 0.25219269, 0.25219269,\n",
       "         0.16549919, 0.16549919, 0.07771771, 0.07771771, 0.86753139,\n",
       "         0.86753139, 0.06506406, 0.06506406, 0.96426774, 0.96426774,\n",
       "         0.93324916, 0.93324916, 0.15719532, 0.15719532, 0.97245936,\n",
       "         0.97245936, 0.53325897, 0.53325897, 0.89629711, 0.89629711,\n",
       "         0.71043126, 0.71043126, 0.78646209, 0.78646209, 0.64547262,\n",
       "         0.64547262, 0.51421928, 0.51421928, 0.95150015, 0.95150015,\n",
       "         0.47951455, 0.47951455, 0.84640183, 0.84640183, 0.83713898,\n",
       "         0.83713898, 0.76309153, 0.76309153, 0.26169882, 0.26169882,\n",
       "         0.52080787, 0.52080787, 0.00214604, 0.00214604, 0.09359062,\n",
       "         0.09359062, 0.7419444 , 0.7419444 , 0.41288097, 0.41288097,\n",
       "         0.98379524, 0.98379524, 0.83908522, 0.83908522, 0.57938417,\n",
       "         0.57938417, 0.98541512, 0.98541512, 0.85908958, 0.85908958,\n",
       "         0.8991056 , 0.8991056 , 0.43086472, 0.43086472, 0.09101489,\n",
       "         0.09101489, 0.69524996, 0.69524996, 0.01358672, 0.01358672,\n",
       "         0.64709736, 0.64709736, 0.54520704, 0.54520704, 0.72697211,\n",
       "         0.72697211, 0.40295007, 0.40295007, 0.97348754, 0.97348754,\n",
       "         0.99863625, 0.99863625, 0.17923609, 0.17923609, 0.33422992,\n",
       "         0.33422992, 0.9640047 , 0.9640047 , 0.03383885, 0.03383885,\n",
       "         0.00224618, 0.00224618, 0.57839049, 0.57839049, 0.30910182,\n",
       "         0.30910182, 0.31465838, 0.31465838, 0.15405484, 0.15405484,\n",
       "         0.9267835 , 0.9267835 , 0.75208501, 0.75208501, 0.94541321,\n",
       "         0.94541321, 0.54866078, 0.54866078, 0.10393631, 0.10393631,\n",
       "         0.54779952, 0.54779952, 0.59110137, 0.59110137, 0.77501064,\n",
       "         0.77501064, 0.48446001, 0.48446001, 0.98555703, 0.98555703,\n",
       "         0.76110336, 0.76110336, 0.53850513, 0.53850513, 0.7037543 ,\n",
       "         0.7037543 , 0.97340158, 0.97340158, 0.1117156 , 0.1117156 ,\n",
       "         0.54223266, 0.54223266, 0.66187149, 0.66187149, 0.46232508,\n",
       "         0.46232508, 0.51571592, 0.51571592, 0.62105928, 0.62105928,\n",
       "         0.13723773, 0.13723773, 0.76211812, 0.76211812, 0.40178052,\n",
       "         0.40178052, 0.43449641, 0.43449641, 0.98712225, 0.98712225,\n",
       "         0.05608809, 0.05608809, 0.08519435, 0.08519435, 0.67551174,\n",
       "         0.67551174, 0.4172309 , 0.4172309 , 0.24371162, 0.24371162,\n",
       "         0.914804  , 0.914804  , 0.08398687, 0.08398687, 0.87553915,\n",
       "         0.87553915, 0.78819214, 0.78819214, 0.64474956, 0.64474956])}}"
      ]
     },
     "execution_count": 1,
     "metadata": {},
     "output_type": "execute_result"
    }
   ],
   "source": [
    "ds = load_by_id(run_id_n)\n",
    "ds.get_parameter_data('x1')"
   ]
  },
  {
   "cell_type": "markdown",
   "metadata": {},
   "source": [
    "And a dataset stored as binary arrays"
   ]
  },
  {
   "cell_type": "code",
   "execution_count": 12,
   "metadata": {
    "execution": {
     "iopub.execute_input": "2021-04-28T13:15:46.178418Z",
     "iopub.status.busy": "2021-04-28T13:15:46.177886Z",
     "iopub.status.idle": "2021-04-28T13:15:46.236605Z",
     "shell.execute_reply": "2021-04-28T13:15:46.237014Z"
    },
    "scrolled": true
   },
   "outputs": [
    {
     "data": {
      "text/plain": [
       "{'x1': {'x1': array([[0.81109798],\n",
       "         [0.81109798],\n",
       "         [0.95445929],\n",
       "         [0.95445929],\n",
       "         [0.42810426],\n",
       "         [0.42810426],\n",
       "         [0.30033833],\n",
       "         [0.30033833],\n",
       "         [0.10685284],\n",
       "         [0.10685284],\n",
       "         [0.14762688],\n",
       "         [0.14762688],\n",
       "         [0.94576058],\n",
       "         [0.94576058],\n",
       "         [0.86230017],\n",
       "         [0.86230017],\n",
       "         [0.73468653],\n",
       "         [0.73468653],\n",
       "         [0.17487793],\n",
       "         [0.17487793],\n",
       "         [0.9768511 ],\n",
       "         [0.9768511 ],\n",
       "         [0.80630124],\n",
       "         [0.80630124],\n",
       "         [0.87787322],\n",
       "         [0.87787322],\n",
       "         [0.85671606],\n",
       "         [0.85671606],\n",
       "         [0.15490651],\n",
       "         [0.15490651],\n",
       "         [0.30929301],\n",
       "         [0.30929301],\n",
       "         [0.57383483],\n",
       "         [0.57383483],\n",
       "         [0.92102667],\n",
       "         [0.92102667],\n",
       "         [0.27733385],\n",
       "         [0.27733385],\n",
       "         [0.22403395],\n",
       "         [0.22403395],\n",
       "         [0.4150417 ],\n",
       "         [0.4150417 ],\n",
       "         [0.77614746],\n",
       "         [0.77614746],\n",
       "         [0.07004182],\n",
       "         [0.07004182],\n",
       "         [0.9753729 ],\n",
       "         [0.9753729 ],\n",
       "         [0.47800583],\n",
       "         [0.47800583],\n",
       "         [0.00990065],\n",
       "         [0.00990065],\n",
       "         [0.38316105],\n",
       "         [0.38316105],\n",
       "         [0.29962014],\n",
       "         [0.29962014],\n",
       "         [0.85670549],\n",
       "         [0.85670549],\n",
       "         [0.43481035],\n",
       "         [0.43481035],\n",
       "         [0.87956488],\n",
       "         [0.87956488],\n",
       "         [0.45996342],\n",
       "         [0.45996342],\n",
       "         [0.50807265],\n",
       "         [0.50807265],\n",
       "         [0.32927774],\n",
       "         [0.32927774],\n",
       "         [0.31413681],\n",
       "         [0.31413681],\n",
       "         [0.15761005],\n",
       "         [0.15761005],\n",
       "         [0.12711681],\n",
       "         [0.12711681],\n",
       "         [0.86288422],\n",
       "         [0.86288422],\n",
       "         [0.17230257],\n",
       "         [0.17230257],\n",
       "         [0.59385511],\n",
       "         [0.59385511],\n",
       "         [0.43862556],\n",
       "         [0.43862556],\n",
       "         [0.32119783],\n",
       "         [0.32119783],\n",
       "         [0.0322614 ],\n",
       "         [0.0322614 ],\n",
       "         [0.68686267],\n",
       "         [0.68686267],\n",
       "         [0.36965983],\n",
       "         [0.36965983],\n",
       "         [0.83261315],\n",
       "         [0.83261315],\n",
       "         [0.47224088],\n",
       "         [0.47224088],\n",
       "         [0.40451082],\n",
       "         [0.40451082],\n",
       "         [0.84877443],\n",
       "         [0.84877443],\n",
       "         [0.07145829],\n",
       "         [0.07145829],\n",
       "         [0.90196257],\n",
       "         [0.90196257],\n",
       "         [0.42048117],\n",
       "         [0.42048117],\n",
       "         [0.64560144],\n",
       "         [0.64560144],\n",
       "         [0.60079979],\n",
       "         [0.60079979],\n",
       "         [0.95878541],\n",
       "         [0.95878541],\n",
       "         [0.41911026],\n",
       "         [0.41911026],\n",
       "         [0.6634241 ],\n",
       "         [0.6634241 ],\n",
       "         [0.91961764],\n",
       "         [0.91961764],\n",
       "         [0.15167262],\n",
       "         [0.15167262],\n",
       "         [0.23365591],\n",
       "         [0.23365591],\n",
       "         [0.6534317 ],\n",
       "         [0.6534317 ],\n",
       "         [0.22391864],\n",
       "         [0.22391864],\n",
       "         [0.79925831],\n",
       "         [0.79925831],\n",
       "         [0.40720389],\n",
       "         [0.40720389],\n",
       "         [0.19887207],\n",
       "         [0.19887207],\n",
       "         [0.52734152],\n",
       "         [0.52734152],\n",
       "         [0.24226722],\n",
       "         [0.24226722],\n",
       "         [0.69682771],\n",
       "         [0.69682771],\n",
       "         [0.25721292],\n",
       "         [0.25721292],\n",
       "         [0.30597015],\n",
       "         [0.30597015],\n",
       "         [0.19652126],\n",
       "         [0.19652126],\n",
       "         [0.91695309],\n",
       "         [0.91695309],\n",
       "         [0.53454989],\n",
       "         [0.53454989],\n",
       "         [0.18612859],\n",
       "         [0.18612859],\n",
       "         [0.15484225],\n",
       "         [0.15484225],\n",
       "         [0.60888562],\n",
       "         [0.60888562],\n",
       "         [0.54710416],\n",
       "         [0.54710416],\n",
       "         [0.69402778],\n",
       "         [0.69402778],\n",
       "         [0.53850706],\n",
       "         [0.53850706],\n",
       "         [0.70892604],\n",
       "         [0.70892604],\n",
       "         [0.06043859],\n",
       "         [0.06043859],\n",
       "         [0.44730155],\n",
       "         [0.44730155],\n",
       "         [0.32555077],\n",
       "         [0.32555077],\n",
       "         [0.7965361 ],\n",
       "         [0.7965361 ],\n",
       "         [0.03102156],\n",
       "         [0.03102156],\n",
       "         [0.59173619],\n",
       "         [0.59173619],\n",
       "         [0.35865872],\n",
       "         [0.35865872],\n",
       "         [0.24323033],\n",
       "         [0.24323033],\n",
       "         [0.26305378],\n",
       "         [0.26305378],\n",
       "         [0.39290392],\n",
       "         [0.39290392],\n",
       "         [0.71843373],\n",
       "         [0.71843373],\n",
       "         [0.18398794],\n",
       "         [0.18398794],\n",
       "         [0.7198356 ],\n",
       "         [0.7198356 ],\n",
       "         [0.68478285],\n",
       "         [0.68478285],\n",
       "         [0.69503103],\n",
       "         [0.69503103],\n",
       "         [0.73259995],\n",
       "         [0.73259995],\n",
       "         [0.63130619],\n",
       "         [0.63130619],\n",
       "         [0.6591738 ],\n",
       "         [0.6591738 ],\n",
       "         [0.39126294],\n",
       "         [0.39126294],\n",
       "         [0.10342423],\n",
       "         [0.10342423]])}}"
      ]
     },
     "execution_count": 1,
     "metadata": {},
     "output_type": "execute_result"
    }
   ],
   "source": [
    "ds = load_by_id(run_id_a)\n",
    "ds.get_parameter_data('x1')"
   ]
  },
  {
   "cell_type": "code",
   "execution_count": null,
   "metadata": {},
   "outputs": [],
   "source": []
  }
 ],
 "metadata": {
  "kernelspec": {
   "display_name": "Python 3",
   "language": "python",
   "name": "python3"
  },
  "language_info": {
   "codemirror_mode": {
    "name": "ipython",
    "version": 3
   },
   "file_extension": ".py",
   "mimetype": "text/x-python",
   "name": "python",
   "nbconvert_exporter": "python",
   "pygments_lexer": "ipython3",
   "version": "3.7.10"
  },
  "nbsphinx": {
   "timeout": 600
  },
  "toc": {
   "base_numbering": 1,
   "nav_menu": {},
   "number_sections": true,
   "sideBar": true,
   "skip_h1_title": false,
   "title_cell": "Table of Contents",
   "title_sidebar": "Contents",
   "toc_cell": false,
   "toc_position": {},
   "toc_section_display": true,
   "toc_window_display": false
  },
  "varInspector": {
   "cols": {
    "lenName": 16,
    "lenType": 16,
    "lenVar": 40
   },
   "kernels_config": {
    "python": {
     "delete_cmd_postfix": "",
     "delete_cmd_prefix": "del ",
     "library": "var_list.py",
     "varRefreshCmd": "print(var_dic_list())"
    },
    "r": {
     "delete_cmd_postfix": ") ",
     "delete_cmd_prefix": "rm(",
     "library": "var_list.r",
     "varRefreshCmd": "cat(var_dic_list()) "
    }
   },
   "types_to_exclude": [
    "module",
    "function",
    "builtin_function_or_method",
    "instance",
    "_Feature"
   ],
   "window_display": false
  }
 },
 "nbformat": 4,
 "nbformat_minor": 4
}
