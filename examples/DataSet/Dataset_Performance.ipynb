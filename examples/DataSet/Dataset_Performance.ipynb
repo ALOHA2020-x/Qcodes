{
 "cells": [
  {
   "cell_type": "markdown",
   "metadata": {},
   "source": [
    "# DataSet Performance\n",
    "\n",
    "This notebook shows the trade-off between inserting data into a database row-by-row and as binary blobs. Inserting the data row-by-row means that we have direct access to all the data and may perform queries directly on the values of the data. On the other hand, as we shall see, this is much slower than inserting the data directly as binary blobs."
   ]
  },
  {
   "cell_type": "markdown",
   "metadata": {},
   "source": [
    "First, we choose a new location for the database to ensure that we don't add a bunch of benchmarking data to the default one."
   ]
  },
  {
   "cell_type": "code",
   "execution_count": 1,
   "metadata": {
    "execution": {
     "iopub.execute_input": "2021-03-29T11:50:05.025974Z",
     "iopub.status.busy": "2021-03-29T11:50:05.025368Z",
     "iopub.status.idle": "2021-03-29T11:50:06.091528Z",
     "shell.execute_reply": "2021-03-29T11:50:06.090353Z"
    }
   },
   "outputs": [
    {
     "name": "stdout",
     "output_type": "stream",
     "text": [
      "Logging hadn't been started.\n",
      "Activating auto-logging. Current session state plus future input saved.\n",
      "Filename       : /home/runner/.qcodes/logs/command_history.log\n",
      "Mode           : append\n",
      "Output logging : True\n",
      "Raw input log  : False\n",
      "Timestamping   : True\n",
      "State          : active\n"
     ]
    },
    {
     "name": "stdout",
     "output_type": "stream",
     "text": [
      "Qcodes Logfile : /home/runner/.qcodes/logs/210329-4443-qcodes.log\n"
     ]
    }
   ],
   "source": [
    "import os\n",
    "cwd = os.getcwd()\n",
    "import qcodes as qc\n",
    "qc.config[\"core\"][\"db_location\"] = os.path.join(cwd, 'testing.db')\n"
   ]
  },
  {
   "cell_type": "code",
   "execution_count": 2,
   "metadata": {
    "execution": {
     "iopub.execute_input": "2021-03-29T11:50:06.098303Z",
     "iopub.status.busy": "2021-03-29T11:50:06.096978Z",
     "iopub.status.idle": "2021-03-29T11:50:06.331333Z",
     "shell.execute_reply": "2021-03-29T11:50:06.330321Z"
    }
   },
   "outputs": [],
   "source": [
    "%matplotlib inline\n",
    "import time\n",
    "import matplotlib.pyplot as plt\n",
    "import numpy as np\n",
    "\n",
    "import qcodes as qc\n",
    "from qcodes.instrument.parameter import ManualParameter\n",
    "from qcodes.dataset.experiment_container import (Experiment,\n",
    "                                                 load_last_experiment,\n",
    "                                                 new_experiment)\n",
    "from qcodes.dataset.sqlite.database import initialise_database\n",
    "from qcodes import load_or_create_experiment\n",
    "from qcodes.dataset.measurements import Measurement"
   ]
  },
  {
   "cell_type": "code",
   "execution_count": 3,
   "metadata": {
    "execution": {
     "iopub.execute_input": "2021-03-29T11:50:06.335608Z",
     "iopub.status.busy": "2021-03-29T11:50:06.334577Z",
     "iopub.status.idle": "2021-03-29T11:50:06.418673Z",
     "shell.execute_reply": "2021-03-29T11:50:06.418085Z"
    }
   },
   "outputs": [
    {
     "name": "stdout",
     "output_type": "stream",
     "text": [
      "\r",
      "0it [00:00, ?it/s]"
     ]
    },
    {
     "name": "stdout",
     "output_type": "stream",
     "text": [
      "\r",
      "Upgrading database; v0 -> v1: : 0it [00:00, ?it/s]"
     ]
    },
    {
     "name": "stdout",
     "output_type": "stream",
     "text": [
      "\r",
      "Upgrading database; v0 -> v1: : 0it [00:00, ?it/s]"
     ]
    },
    {
     "name": "stdout",
     "output_type": "stream",
     "text": [
      "\n",
      "\r",
      "  0%|          | 0/1 [00:00<?, ?it/s]"
     ]
    },
    {
     "name": "stdout",
     "output_type": "stream",
     "text": [
      "\r",
      "Upgrading database; v1 -> v2:   0%|          | 0/1 [00:00<?, ?it/s]"
     ]
    },
    {
     "name": "stdout",
     "output_type": "stream",
     "text": [
      "\r",
      "Upgrading database; v1 -> v2: 100%|██████████| 1/1 [00:00<00:00, 545.85it/s]"
     ]
    },
    {
     "name": "stdout",
     "output_type": "stream",
     "text": [
      "\n",
      "\r",
      "0it [00:00, ?it/s]"
     ]
    },
    {
     "name": "stdout",
     "output_type": "stream",
     "text": [
      "\r",
      "Upgrading database; v2 -> v3: : 0it [00:00, ?it/s]"
     ]
    },
    {
     "name": "stdout",
     "output_type": "stream",
     "text": [
      "\r",
      "Upgrading database; v2 -> v3: : 0it [00:00, ?it/s]"
     ]
    },
    {
     "name": "stdout",
     "output_type": "stream",
     "text": [
      "\n",
      "\r",
      "0it [00:00, ?it/s]"
     ]
    },
    {
     "name": "stdout",
     "output_type": "stream",
     "text": [
      "\r",
      "Upgrading database; v3 -> v4: : 0it [00:00, ?it/s]"
     ]
    },
    {
     "name": "stdout",
     "output_type": "stream",
     "text": [
      "\r",
      "Upgrading database; v3 -> v4: : 0it [00:00, ?it/s]"
     ]
    },
    {
     "name": "stdout",
     "output_type": "stream",
     "text": [
      "\n",
      "\r",
      "  0%|          | 0/1 [00:00<?, ?it/s]"
     ]
    },
    {
     "name": "stdout",
     "output_type": "stream",
     "text": [
      "\r",
      "Upgrading database; v4 -> v5:   0%|          | 0/1 [00:00<?, ?it/s]"
     ]
    },
    {
     "name": "stdout",
     "output_type": "stream",
     "text": [
      "\r",
      "Upgrading database; v4 -> v5: 100%|██████████| 1/1 [00:00<00:00, 879.86it/s]"
     ]
    },
    {
     "name": "stdout",
     "output_type": "stream",
     "text": [
      "\n",
      "\r",
      "0it [00:00, ?it/s]"
     ]
    },
    {
     "name": "stdout",
     "output_type": "stream",
     "text": [
      "\r",
      "Upgrading database; v5 -> v6: : 0it [00:00, ?it/s]"
     ]
    },
    {
     "name": "stdout",
     "output_type": "stream",
     "text": [
      "\r",
      "Upgrading database; v5 -> v6: : 0it [00:00, ?it/s]"
     ]
    },
    {
     "name": "stdout",
     "output_type": "stream",
     "text": [
      "\n",
      "\r",
      "  0%|          | 0/1 [00:00<?, ?it/s]"
     ]
    },
    {
     "name": "stdout",
     "output_type": "stream",
     "text": [
      "\r",
      "Upgrading database; v6 -> v7:   0%|          | 0/1 [00:00<?, ?it/s]"
     ]
    },
    {
     "name": "stdout",
     "output_type": "stream",
     "text": [
      "\r",
      "Upgrading database; v6 -> v7: 100%|██████████| 1/1 [00:00<00:00, 317.29it/s]"
     ]
    },
    {
     "name": "stdout",
     "output_type": "stream",
     "text": [
      "\n",
      "\r",
      "  0%|          | 0/1 [00:00<?, ?it/s]"
     ]
    },
    {
     "name": "stdout",
     "output_type": "stream",
     "text": [
      "\r",
      "Upgrading database; v7 -> v8:   0%|          | 0/1 [00:00<?, ?it/s]"
     ]
    },
    {
     "name": "stdout",
     "output_type": "stream",
     "text": [
      "\r",
      "Upgrading database; v7 -> v8: 100%|██████████| 1/1 [00:00<00:00, 853.37it/s]"
     ]
    },
    {
     "name": "stdout",
     "output_type": "stream",
     "text": [
      "\n",
      "\r",
      "  0%|          | 0/1 [00:00<?, ?it/s]"
     ]
    },
    {
     "name": "stdout",
     "output_type": "stream",
     "text": [
      "\r",
      "Upgrading database; v8 -> v9:   0%|          | 0/1 [00:00<?, ?it/s]"
     ]
    },
    {
     "name": "stdout",
     "output_type": "stream",
     "text": [
      "\r",
      "Upgrading database; v8 -> v9: 100%|██████████| 1/1 [00:00<00:00, 469.00it/s]"
     ]
    },
    {
     "name": "stdout",
     "output_type": "stream",
     "text": [
      "\n"
     ]
    }
   ],
   "source": [
    "initialise_database()\n",
    "exp = load_or_create_experiment(experiment_name='tutorial_exp', sample_name=\"no sample\")"
   ]
  },
  {
   "cell_type": "markdown",
   "metadata": {},
   "source": [
    "Here, we define a simple function to benchmark the time it takes to insert n points with either numeric or array data type.\n",
    "We will compare both the time used to call ``add_result`` and the time used for the full measurement."
   ]
  },
  {
   "cell_type": "code",
   "execution_count": 4,
   "metadata": {
    "execution": {
     "iopub.execute_input": "2021-03-29T11:50:06.427079Z",
     "iopub.status.busy": "2021-03-29T11:50:06.425890Z",
     "iopub.status.idle": "2021-03-29T11:50:06.431636Z",
     "shell.execute_reply": "2021-03-29T11:50:06.430265Z"
    }
   },
   "outputs": [],
   "source": [
    "def insert_data(paramtype, npoints, nreps=1):\n",
    "\n",
    "    meas = Measurement(exp=exp)\n",
    "\n",
    "    x1 = ManualParameter('x1')\n",
    "    x2 = ManualParameter('x2')\n",
    "    x3 = ManualParameter('x3')\n",
    "    y1 = ManualParameter('y1')\n",
    "    y2 = ManualParameter('y2')\n",
    "\n",
    "    meas.register_parameter(x1, paramtype=paramtype)\n",
    "    meas.register_parameter(x2, paramtype=paramtype)\n",
    "    meas.register_parameter(x3, paramtype=paramtype)\n",
    "    meas.register_parameter(y1, setpoints=[x1, x2, x3],\n",
    "                            paramtype=paramtype)\n",
    "    meas.register_parameter(y2, setpoints=[x1, x2, x3],\n",
    "                            paramtype=paramtype)\n",
    "    start = time.perf_counter()\n",
    "    with meas.run() as datasaver:\n",
    "        start_adding = time.perf_counter()\n",
    "        for i in range(nreps):\n",
    "            datasaver.add_result((x1, np.random.rand(npoints)),\n",
    "                                 (x2, np.random.rand(npoints)),\n",
    "                                 (x3, np.random.rand(npoints)),\n",
    "                                 (y1, np.random.rand(npoints)),\n",
    "                                 (y2, np.random.rand(npoints)))\n",
    "        stop_adding = time.perf_counter()\n",
    "        run_id = datasaver.run_id\n",
    "    stop = time.perf_counter()\n",
    "    tot_time = stop - start\n",
    "    add_time = stop_adding - start_adding\n",
    "    return tot_time, add_time, run_id"
   ]
  },
  {
   "cell_type": "markdown",
   "metadata": {},
   "source": [
    "## Comparison between numeric/array data and binary blob"
   ]
  },
  {
   "cell_type": "markdown",
   "metadata": {},
   "source": [
    "### Case1: Short experiment time"
   ]
  },
  {
   "cell_type": "code",
   "execution_count": 5,
   "metadata": {
    "execution": {
     "iopub.execute_input": "2021-03-29T11:50:06.442965Z",
     "iopub.status.busy": "2021-03-29T11:50:06.441155Z",
     "iopub.status.idle": "2021-03-29T11:50:07.343158Z",
     "shell.execute_reply": "2021-03-29T11:50:07.343646Z"
    }
   },
   "outputs": [
    {
     "name": "stdout",
     "output_type": "stream",
     "text": [
      "Starting experimental run with id: 1. \n",
      "Starting experimental run with id: 2. \n",
      "Starting experimental run with id: 3. \n",
      "Starting experimental run with id: 4. \n"
     ]
    },
    {
     "name": "stdout",
     "output_type": "stream",
     "text": [
      "Starting experimental run with id: 5. \n"
     ]
    },
    {
     "name": "stdout",
     "output_type": "stream",
     "text": [
      "Starting experimental run with id: 6. \n"
     ]
    },
    {
     "name": "stdout",
     "output_type": "stream",
     "text": [
      "Starting experimental run with id: 7. \n"
     ]
    },
    {
     "name": "stdout",
     "output_type": "stream",
     "text": [
      "Starting experimental run with id: 8. \n",
      "Starting experimental run with id: 9. \n"
     ]
    },
    {
     "name": "stdout",
     "output_type": "stream",
     "text": [
      "Starting experimental run with id: 10. \n",
      "Starting experimental run with id: 11. \n"
     ]
    },
    {
     "name": "stdout",
     "output_type": "stream",
     "text": [
      "Starting experimental run with id: 12. \n",
      "Starting experimental run with id: 13. \n"
     ]
    },
    {
     "name": "stdout",
     "output_type": "stream",
     "text": [
      "Starting experimental run with id: 14. \n"
     ]
    }
   ],
   "source": [
    "sizes = [1,500,1000,2000,3000,4000,5000]\n",
    "t_numeric = []\n",
    "t_numeric_add = []\n",
    "t_array = []\n",
    "t_array_add = []\n",
    "for size in sizes:\n",
    "    tn, tna, run_id_n =  insert_data('numeric', size)\n",
    "    t_numeric.append(tn)\n",
    "    t_numeric_add.append(tna)\n",
    "\n",
    "    ta, taa, run_id_a =  insert_data('array', size)\n",
    "    t_array.append(ta)\n",
    "    t_array_add.append(taa)"
   ]
  },
  {
   "cell_type": "code",
   "execution_count": 6,
   "metadata": {
    "execution": {
     "iopub.execute_input": "2021-03-29T11:50:07.397405Z",
     "iopub.status.busy": "2021-03-29T11:50:07.363612Z",
     "iopub.status.idle": "2021-03-29T11:50:07.574412Z",
     "shell.execute_reply": "2021-03-29T11:50:07.573357Z"
    }
   },
   "outputs": [
    {
     "data": {
      "image/png": "[encoded data removed]",
      "text/plain": [
       "<Figure size 432x288 with 1 Axes>"
      ]
     },
     "metadata": {
      "needs_background": "light"
     },
     "output_type": "display_data"
    }
   ],
   "source": [
    "fig, ax = plt.subplots(1,1)\n",
    "ax.plot(sizes, t_numeric, 'o-', label='Inserting row-by-row')\n",
    "ax.plot(sizes, t_numeric_add, 'o-', label='Inserting row-by-row: add_result only')\n",
    "ax.plot(sizes, t_array, 'd-', label='Inserting as binary blob')\n",
    "ax.plot(sizes, t_array_add, 'd-', label='Inserting as binary blob: add_result only')\n",
    "ax.legend()\n",
    "ax.set_xlabel('Array length')\n",
    "ax.set_ylabel('Time (s)')\n",
    "fig.tight_layout()"
   ]
  },
  {
   "cell_type": "markdown",
   "metadata": {},
   "source": [
    "As shown in the latter figure, the time to setup and and close the experiment is approximately 0.4 sec. In case of small array sizes, the difference between inserting values of data as arrays and inserting them row-by-row is relatively unimportant. At larger array sizes, i.e. above 10000 points, the cost of writing data as individual datapoints starts to become important.\n"
   ]
  },
  {
   "cell_type": "markdown",
   "metadata": {},
   "source": [
    "### Case2: Long experiment time "
   ]
  },
  {
   "cell_type": "code",
   "execution_count": 7,
   "metadata": {
    "execution": {
     "iopub.execute_input": "2021-03-29T11:50:07.581685Z",
     "iopub.status.busy": "2021-03-29T11:50:07.580448Z",
     "iopub.status.idle": "2021-03-29T11:51:09.146860Z",
     "shell.execute_reply": "2021-03-29T11:51:09.146321Z"
    }
   },
   "outputs": [
    {
     "name": "stdout",
     "output_type": "stream",
     "text": [
      "Starting experimental run with id: 15. \n",
      "Starting experimental run with id: 16. \n",
      "Starting experimental run with id: 17. \n"
     ]
    },
    {
     "name": "stdout",
     "output_type": "stream",
     "text": [
      "Starting experimental run with id: 18. \n",
      "Starting experimental run with id: 19. \n"
     ]
    },
    {
     "name": "stdout",
     "output_type": "stream",
     "text": [
      "Starting experimental run with id: 20. \n"
     ]
    },
    {
     "name": "stdout",
     "output_type": "stream",
     "text": [
      "Starting experimental run with id: 21. \n"
     ]
    },
    {
     "name": "stdout",
     "output_type": "stream",
     "text": [
      "Starting experimental run with id: 22. \n"
     ]
    },
    {
     "name": "stdout",
     "output_type": "stream",
     "text": [
      "Starting experimental run with id: 23. \n"
     ]
    },
    {
     "name": "stdout",
     "output_type": "stream",
     "text": [
      "Starting experimental run with id: 24. \n"
     ]
    },
    {
     "name": "stdout",
     "output_type": "stream",
     "text": [
      "Starting experimental run with id: 25. \n"
     ]
    },
    {
     "name": "stdout",
     "output_type": "stream",
     "text": [
      "Starting experimental run with id: 26. \n"
     ]
    },
    {
     "name": "stdout",
     "output_type": "stream",
     "text": [
      "Starting experimental run with id: 27. \n"
     ]
    },
    {
     "name": "stdout",
     "output_type": "stream",
     "text": [
      "Starting experimental run with id: 28. \n"
     ]
    }
   ],
   "source": [
    "sizes = [1,500,1000,2000,3000,4000,5000]\n",
    "nreps = 100\n",
    "t_numeric = []\n",
    "t_numeric_add = []\n",
    "t_numeric_run_ids = []\n",
    "t_array = []\n",
    "t_array_add = []\n",
    "t_array_run_ids = []\n",
    "for size in sizes:\n",
    "    tn, tna, run_id_n =  insert_data('numeric', size, nreps=nreps)\n",
    "    t_numeric.append(tn)\n",
    "    t_numeric_add.append(tna)\n",
    "    t_numeric_run_ids.append(run_id_n)\n",
    "\n",
    "    ta, taa, run_id_a =  insert_data('array', size, nreps=nreps)\n",
    "    t_array.append(ta)\n",
    "    t_array_add.append(taa)\n",
    "    t_array_run_ids.append(run_id_a)"
   ]
  },
  {
   "cell_type": "code",
   "execution_count": 8,
   "metadata": {
    "execution": {
     "iopub.execute_input": "2021-03-29T11:51:09.191094Z",
     "iopub.status.busy": "2021-03-29T11:51:09.165526Z",
     "iopub.status.idle": "2021-03-29T11:51:09.360448Z",
     "shell.execute_reply": "2021-03-29T11:51:09.360920Z"
    },
    "scrolled": true
   },
   "outputs": [
    {
     "data": {
      "image/png": "[encoded data removed]",
      "text/plain": [
       "<Figure size 432x288 with 1 Axes>"
      ]
     },
     "metadata": {
      "needs_background": "light"
     },
     "output_type": "display_data"
    }
   ],
   "source": [
    "fig, ax = plt.subplots(1,1)\n",
    "ax.plot(sizes, t_numeric, 'o-', label='Inserting row-by-row')\n",
    "ax.plot(sizes, t_numeric_add, 'o-', label='Inserting row-by-row: add_result only')\n",
    "ax.plot(sizes, t_array, 'd-', label='Inserting as binary blob')\n",
    "ax.plot(sizes, t_array_add, 'd-', label='Inserting as binary blob: add_result only')\n",
    "ax.legend()\n",
    "ax.set_xlabel('Array length')\n",
    "ax.set_ylabel('Time (s)')\n",
    "fig.tight_layout()"
   ]
  },
  {
   "cell_type": "markdown",
   "metadata": {},
   "source": [
    "However, as we increase the length of the experiment, as seen here by repeating the insertion 100 times, we see a big difference between inserting values of the data row-by-row and inserting it as a binary blob."
   ]
  },
  {
   "cell_type": "markdown",
   "metadata": {},
   "source": [
    "## Loading the data "
   ]
  },
  {
   "cell_type": "code",
   "execution_count": 9,
   "metadata": {
    "execution": {
     "iopub.execute_input": "2021-03-29T11:51:09.365432Z",
     "iopub.status.busy": "2021-03-29T11:51:09.364330Z",
     "iopub.status.idle": "2021-03-29T11:51:09.367750Z",
     "shell.execute_reply": "2021-03-29T11:51:09.367241Z"
    }
   },
   "outputs": [],
   "source": [
    "from qcodes.dataset.data_set import load_by_id\n",
    "from qcodes.dataset.data_export import get_data_by_id"
   ]
  },
  {
   "cell_type": "markdown",
   "metadata": {},
   "source": [
    "As usual you can load the data by using the ``load_by_id`` function but you will notice that the different storage methods\n",
    "are reflected in shape of the data as it is retrieved. "
   ]
  },
  {
   "cell_type": "code",
   "execution_count": 10,
   "metadata": {
    "execution": {
     "iopub.execute_input": "2021-03-29T11:51:09.372688Z",
     "iopub.status.busy": "2021-03-29T11:51:09.371247Z",
     "iopub.status.idle": "2021-03-29T11:51:09.373326Z",
     "shell.execute_reply": "2021-03-29T11:51:09.373784Z"
    }
   },
   "outputs": [],
   "source": [
    "run_id_n = t_numeric_run_ids[0]\n",
    "run_id_a = t_array_run_ids[0]"
   ]
  },
  {
   "cell_type": "code",
   "execution_count": 11,
   "metadata": {
    "execution": {
     "iopub.execute_input": "2021-03-29T11:51:09.377140Z",
     "iopub.status.busy": "2021-03-29T11:51:09.376585Z",
     "iopub.status.idle": "2021-03-29T11:51:09.386093Z",
     "shell.execute_reply": "2021-03-29T11:51:09.386529Z"
    },
    "scrolled": true
   },
   "outputs": [
    {
     "data": {
      "text/plain": [
       "{'x1': {'x1': array([0.57857506, 0.57857506, 0.13006947, 0.13006947, 0.27479958,\n",
       "         0.27479958, 0.79082285, 0.79082285, 0.62443048, 0.62443048,\n",
       "         0.79938007, 0.79938007, 0.17692434, 0.17692434, 0.92852269,\n",
       "         0.92852269, 0.43978476, 0.43978476, 0.42910358, 0.42910358,\n",
       "         0.78527781, 0.78527781, 0.32376146, 0.32376146, 0.73867222,\n",
       "         0.73867222, 0.85580708, 0.85580708, 0.3344386 , 0.3344386 ,\n",
       "         0.65057935, 0.65057935, 0.45314035, 0.45314035, 0.97488644,\n",
       "         0.97488644, 0.21783779, 0.21783779, 0.05852406, 0.05852406,\n",
       "         0.4556617 , 0.4556617 , 0.68882748, 0.68882748, 0.67407491,\n",
       "         0.67407491, 0.11822926, 0.11822926, 0.67824774, 0.67824774,\n",
       "         0.66481533, 0.66481533, 0.36175581, 0.36175581, 0.1062659 ,\n",
       "         0.1062659 , 0.09378498, 0.09378498, 0.06042347, 0.06042347,\n",
       "         0.04103031, 0.04103031, 0.64603028, 0.64603028, 0.73965547,\n",
       "         0.73965547, 0.01728499, 0.01728499, 0.14045079, 0.14045079,\n",
       "         0.41936146, 0.41936146, 0.89204199, 0.89204199, 0.16142868,\n",
       "         0.16142868, 0.56501131, 0.56501131, 0.35316368, 0.35316368,\n",
       "         0.32965893, 0.32965893, 0.26163836, 0.26163836, 0.97464878,\n",
       "         0.97464878, 0.15791286, 0.15791286, 0.56917952, 0.56917952,\n",
       "         0.11803383, 0.11803383, 0.80495848, 0.80495848, 0.77140504,\n",
       "         0.77140504, 0.81777621, 0.81777621, 0.17036861, 0.17036861,\n",
       "         0.7909598 , 0.7909598 , 0.07211817, 0.07211817, 0.96458768,\n",
       "         0.96458768, 0.06882093, 0.06882093, 0.03501691, 0.03501691,\n",
       "         0.16144492, 0.16144492, 0.57985629, 0.57985629, 0.34080566,\n",
       "         0.34080566, 0.7193281 , 0.7193281 , 0.97821719, 0.97821719,\n",
       "         0.80242109, 0.80242109, 0.05522758, 0.05522758, 0.70984243,\n",
       "         0.70984243, 0.28202452, 0.28202452, 0.51090621, 0.51090621,\n",
       "         0.7156215 , 0.7156215 , 0.52370336, 0.52370336, 0.62786303,\n",
       "         0.62786303, 0.48673227, 0.48673227, 0.72857241, 0.72857241,\n",
       "         0.85689235, 0.85689235, 0.19357351, 0.19357351, 0.91941532,\n",
       "         0.91941532, 0.06455217, 0.06455217, 0.88725768, 0.88725768,\n",
       "         0.76790407, 0.76790407, 0.89015704, 0.89015704, 0.28226351,\n",
       "         0.28226351, 0.75605326, 0.75605326, 0.77360536, 0.77360536,\n",
       "         0.17237274, 0.17237274, 0.9824516 , 0.9824516 , 0.88356355,\n",
       "         0.88356355, 0.13112687, 0.13112687, 0.75488124, 0.75488124,\n",
       "         0.96974956, 0.96974956, 0.47075825, 0.47075825, 0.77612961,\n",
       "         0.77612961, 0.39815647, 0.39815647, 0.4768836 , 0.4768836 ,\n",
       "         0.47641033, 0.47641033, 0.2066775 , 0.2066775 , 0.79201642,\n",
       "         0.79201642, 0.34366299, 0.34366299, 0.32271426, 0.32271426,\n",
       "         0.83898446, 0.83898446, 0.48044821, 0.48044821, 0.80058825,\n",
       "         0.80058825, 0.81627925, 0.81627925, 0.37369929, 0.37369929])}}"
      ]
     },
     "execution_count": 1,
     "metadata": {},
     "output_type": "execute_result"
    }
   ],
   "source": [
    "ds = load_by_id(run_id_n)\n",
    "ds.get_parameter_data('x1')"
   ]
  },
  {
   "cell_type": "markdown",
   "metadata": {},
   "source": [
    "And a dataset stored as binary arrays"
   ]
  },
  {
   "cell_type": "code",
   "execution_count": 12,
   "metadata": {
    "execution": {
     "iopub.execute_input": "2021-03-29T11:51:09.390333Z",
     "iopub.status.busy": "2021-03-29T11:51:09.389773Z",
     "iopub.status.idle": "2021-03-29T11:51:09.448644Z",
     "shell.execute_reply": "2021-03-29T11:51:09.449133Z"
    },
    "scrolled": true
   },
   "outputs": [
    {
     "data": {
      "text/plain": [
       "{'x1': {'x1': array([[0.89393217],\n",
       "         [0.89393217],\n",
       "         [0.71937805],\n",
       "         [0.71937805],\n",
       "         [0.56138461],\n",
       "         [0.56138461],\n",
       "         [0.37602358],\n",
       "         [0.37602358],\n",
       "         [0.71224997],\n",
       "         [0.71224997],\n",
       "         [0.81824008],\n",
       "         [0.81824008],\n",
       "         [0.87300287],\n",
       "         [0.87300287],\n",
       "         [0.11784831],\n",
       "         [0.11784831],\n",
       "         [0.01307529],\n",
       "         [0.01307529],\n",
       "         [0.15141694],\n",
       "         [0.15141694],\n",
       "         [0.14371503],\n",
       "         [0.14371503],\n",
       "         [0.7556453 ],\n",
       "         [0.7556453 ],\n",
       "         [0.89102584],\n",
       "         [0.89102584],\n",
       "         [0.96611758],\n",
       "         [0.96611758],\n",
       "         [0.94846031],\n",
       "         [0.94846031],\n",
       "         [0.87439971],\n",
       "         [0.87439971],\n",
       "         [0.13072382],\n",
       "         [0.13072382],\n",
       "         [0.5465321 ],\n",
       "         [0.5465321 ],\n",
       "         [0.1245824 ],\n",
       "         [0.1245824 ],\n",
       "         [0.05467288],\n",
       "         [0.05467288],\n",
       "         [0.95255268],\n",
       "         [0.95255268],\n",
       "         [0.43409994],\n",
       "         [0.43409994],\n",
       "         [0.99823716],\n",
       "         [0.99823716],\n",
       "         [0.11195854],\n",
       "         [0.11195854],\n",
       "         [0.56324994],\n",
       "         [0.56324994],\n",
       "         [0.11761542],\n",
       "         [0.11761542],\n",
       "         [0.98046188],\n",
       "         [0.98046188],\n",
       "         [0.17231705],\n",
       "         [0.17231705],\n",
       "         [0.27175096],\n",
       "         [0.27175096],\n",
       "         [0.68974729],\n",
       "         [0.68974729],\n",
       "         [0.07103645],\n",
       "         [0.07103645],\n",
       "         [0.20913096],\n",
       "         [0.20913096],\n",
       "         [0.4730315 ],\n",
       "         [0.4730315 ],\n",
       "         [0.94773933],\n",
       "         [0.94773933],\n",
       "         [0.42819324],\n",
       "         [0.42819324],\n",
       "         [0.93678597],\n",
       "         [0.93678597],\n",
       "         [0.95665453],\n",
       "         [0.95665453],\n",
       "         [0.53091404],\n",
       "         [0.53091404],\n",
       "         [0.14217551],\n",
       "         [0.14217551],\n",
       "         [0.2673703 ],\n",
       "         [0.2673703 ],\n",
       "         [0.14356968],\n",
       "         [0.14356968],\n",
       "         [0.18056643],\n",
       "         [0.18056643],\n",
       "         [0.86331364],\n",
       "         [0.86331364],\n",
       "         [0.56637711],\n",
       "         [0.56637711],\n",
       "         [0.44255253],\n",
       "         [0.44255253],\n",
       "         [0.26637227],\n",
       "         [0.26637227],\n",
       "         [0.3590639 ],\n",
       "         [0.3590639 ],\n",
       "         [0.05623966],\n",
       "         [0.05623966],\n",
       "         [0.90598689],\n",
       "         [0.90598689],\n",
       "         [0.47902391],\n",
       "         [0.47902391],\n",
       "         [0.00660847],\n",
       "         [0.00660847],\n",
       "         [0.67838895],\n",
       "         [0.67838895],\n",
       "         [0.3144901 ],\n",
       "         [0.3144901 ],\n",
       "         [0.3946617 ],\n",
       "         [0.3946617 ],\n",
       "         [0.0486436 ],\n",
       "         [0.0486436 ],\n",
       "         [0.59632921],\n",
       "         [0.59632921],\n",
       "         [0.43029733],\n",
       "         [0.43029733],\n",
       "         [0.2406443 ],\n",
       "         [0.2406443 ],\n",
       "         [0.13897105],\n",
       "         [0.13897105],\n",
       "         [0.40922598],\n",
       "         [0.40922598],\n",
       "         [0.62720497],\n",
       "         [0.62720497],\n",
       "         [0.58796906],\n",
       "         [0.58796906],\n",
       "         [0.28404231],\n",
       "         [0.28404231],\n",
       "         [0.26491998],\n",
       "         [0.26491998],\n",
       "         [0.85557616],\n",
       "         [0.85557616],\n",
       "         [0.09638003],\n",
       "         [0.09638003],\n",
       "         [0.77988726],\n",
       "         [0.77988726],\n",
       "         [0.8193764 ],\n",
       "         [0.8193764 ],\n",
       "         [0.57012939],\n",
       "         [0.57012939],\n",
       "         [0.56744968],\n",
       "         [0.56744968],\n",
       "         [0.79910299],\n",
       "         [0.79910299],\n",
       "         [0.53049191],\n",
       "         [0.53049191],\n",
       "         [0.02303862],\n",
       "         [0.02303862],\n",
       "         [0.11179534],\n",
       "         [0.11179534],\n",
       "         [0.08815311],\n",
       "         [0.08815311],\n",
       "         [0.68369552],\n",
       "         [0.68369552],\n",
       "         [0.40582908],\n",
       "         [0.40582908],\n",
       "         [0.09341084],\n",
       "         [0.09341084],\n",
       "         [0.95083194],\n",
       "         [0.95083194],\n",
       "         [0.50472748],\n",
       "         [0.50472748],\n",
       "         [0.71690966],\n",
       "         [0.71690966],\n",
       "         [0.74565792],\n",
       "         [0.74565792],\n",
       "         [0.31101564],\n",
       "         [0.31101564],\n",
       "         [0.70451472],\n",
       "         [0.70451472],\n",
       "         [0.77989825],\n",
       "         [0.77989825],\n",
       "         [0.36394452],\n",
       "         [0.36394452],\n",
       "         [0.02124143],\n",
       "         [0.02124143],\n",
       "         [0.28845985],\n",
       "         [0.28845985],\n",
       "         [0.46234298],\n",
       "         [0.46234298],\n",
       "         [0.24404809],\n",
       "         [0.24404809],\n",
       "         [0.74478001],\n",
       "         [0.74478001],\n",
       "         [0.32077888],\n",
       "         [0.32077888],\n",
       "         [0.53611423],\n",
       "         [0.53611423],\n",
       "         [0.44443061],\n",
       "         [0.44443061],\n",
       "         [0.94314593],\n",
       "         [0.94314593],\n",
       "         [0.58682649],\n",
       "         [0.58682649],\n",
       "         [0.99388713],\n",
       "         [0.99388713],\n",
       "         [0.58475026],\n",
       "         [0.58475026],\n",
       "         [0.4003837 ],\n",
       "         [0.4003837 ],\n",
       "         [0.9345124 ],\n",
       "         [0.9345124 ]])}}"
      ]
     },
     "execution_count": 1,
     "metadata": {},
     "output_type": "execute_result"
    }
   ],
   "source": [
    "ds = load_by_id(run_id_a)\n",
    "ds.get_parameter_data('x1')"
   ]
  },
  {
   "cell_type": "code",
   "execution_count": null,
   "metadata": {},
   "outputs": [],
   "source": []
  }
 ],
 "metadata": {
  "kernelspec": {
   "display_name": "Python 3",
   "language": "python",
   "name": "python3"
  },
  "language_info": {
   "codemirror_mode": {
    "name": "ipython",
    "version": 3
   },
   "file_extension": ".py",
   "mimetype": "text/x-python",
   "name": "python",
   "nbconvert_exporter": "python",
   "pygments_lexer": "ipython3",
   "version": "3.7.10"
  },
  "nbsphinx": {
   "timeout": 600
  },
  "toc": {
   "base_numbering": 1,
   "nav_menu": {},
   "number_sections": true,
   "sideBar": true,
   "skip_h1_title": false,
   "title_cell": "Table of Contents",
   "title_sidebar": "Contents",
   "toc_cell": false,
   "toc_position": {},
   "toc_section_display": true,
   "toc_window_display": false
  },
  "varInspector": {
   "cols": {
    "lenName": 16,
    "lenType": 16,
    "lenVar": 40
   },
   "kernels_config": {
    "python": {
     "delete_cmd_postfix": "",
     "delete_cmd_prefix": "del ",
     "library": "var_list.py",
     "varRefreshCmd": "print(var_dic_list())"
    },
    "r": {
     "delete_cmd_postfix": ") ",
     "delete_cmd_prefix": "rm(",
     "library": "var_list.r",
     "varRefreshCmd": "cat(var_dic_list()) "
    }
   },
   "types_to_exclude": [
    "module",
    "function",
    "builtin_function_or_method",
    "instance",
    "_Feature"
   ],
   "window_display": false
  }
 },
 "nbformat": 4,
 "nbformat_minor": 2
}
