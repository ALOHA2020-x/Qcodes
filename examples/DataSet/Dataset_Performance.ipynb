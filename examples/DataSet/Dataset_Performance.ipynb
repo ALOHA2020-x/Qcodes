{
 "cells": [
  {
   "cell_type": "markdown",
   "metadata": {},
   "source": [
    "# DataSet Performance\n",
    "\n",
    "This notebook shows the trade-off between inserting data into a database row-by-row and as binary blobs. Inserting the data row-by-row means that we have direct access to all the data and may perform queries directly on the values of the data. On the other hand, as we shall see, this is much slower than inserting the data directly as binary blobs."
   ]
  },
  {
   "cell_type": "markdown",
   "metadata": {},
   "source": [
    "First, we choose a new location for the database to ensure that we don't add a bunch of benchmarking data to the default one."
   ]
  },
  {
   "cell_type": "code",
   "execution_count": 1,
   "metadata": {
    "execution": {
     "iopub.execute_input": "2020-11-19T12:12:18.942877Z",
     "iopub.status.busy": "2020-11-19T12:12:18.942043Z",
     "iopub.status.idle": "2020-11-19T12:12:19.904828Z",
     "shell.execute_reply": "2020-11-19T12:12:19.905248Z"
    }
   },
   "outputs": [
    {
     "name": "stdout",
     "output_type": "stream",
     "text": [
      "Logging hadn't been started.\n",
      "Activating auto-logging. Current session state plus future input saved.\n",
      "Filename       : /home/vsts/.qcodes/logs/command_history.log\n",
      "Mode           : append\n",
      "Output logging : True\n",
      "Raw input log  : False\n",
      "Timestamping   : True\n",
      "State          : active\n"
     ]
    },
    {
     "name": "stdout",
     "output_type": "stream",
     "text": [
      "Qcodes Logfile : /home/vsts/.qcodes/logs/201119-14206-qcodes.log\n"
     ]
    }
   ],
   "source": [
    "import os\n",
    "cwd = os.getcwd()\n",
    "import qcodes as qc\n",
    "qc.config[\"core\"][\"db_location\"] = os.path.join(cwd, 'testing.db')\n"
   ]
  },
  {
   "cell_type": "code",
   "execution_count": 2,
   "metadata": {
    "execution": {
     "iopub.execute_input": "2020-11-19T12:12:19.913377Z",
     "iopub.status.busy": "2020-11-19T12:12:19.912675Z",
     "iopub.status.idle": "2020-11-19T12:12:20.092791Z",
     "shell.execute_reply": "2020-11-19T12:12:20.092246Z"
    }
   },
   "outputs": [],
   "source": [
    "%matplotlib inline\n",
    "import time\n",
    "import matplotlib.pyplot as plt\n",
    "import numpy as np\n",
    "\n",
    "import qcodes as qc\n",
    "from qcodes.instrument.parameter import ManualParameter\n",
    "from qcodes.dataset.experiment_container import (Experiment,\n",
    "                                                 load_last_experiment,\n",
    "                                                 new_experiment)\n",
    "from qcodes.dataset.sqlite.database import initialise_database\n",
    "from qcodes import load_or_create_experiment\n",
    "from qcodes.dataset.measurements import Measurement"
   ]
  },
  {
   "cell_type": "code",
   "execution_count": 3,
   "metadata": {
    "execution": {
     "iopub.execute_input": "2020-11-19T12:12:20.096628Z",
     "iopub.status.busy": "2020-11-19T12:12:20.096029Z",
     "iopub.status.idle": "2020-11-19T12:12:20.224498Z",
     "shell.execute_reply": "2020-11-19T12:12:20.224013Z"
    }
   },
   "outputs": [
    {
     "name": "stdout",
     "output_type": "stream",
     "text": [
      "\r",
      "0it [00:00, ?it/s]"
     ]
    },
    {
     "name": "stdout",
     "output_type": "stream",
     "text": [
      "\r",
      "Upgrading database; v0 -> v1: : 0it [00:00, ?it/s]"
     ]
    },
    {
     "name": "stdout",
     "output_type": "stream",
     "text": [
      "\r",
      "Upgrading database; v0 -> v1: : 0it [00:00, ?it/s]"
     ]
    },
    {
     "name": "stdout",
     "output_type": "stream",
     "text": [
      "\n",
      "\r",
      "  0%|          | 0/1 [00:00<?, ?it/s]"
     ]
    },
    {
     "name": "stdout",
     "output_type": "stream",
     "text": [
      "\r",
      "Upgrading database; v1 -> v2:   0%|          | 0/1 [00:00<?, ?it/s]"
     ]
    },
    {
     "name": "stdout",
     "output_type": "stream",
     "text": [
      "\r",
      "Upgrading database; v1 -> v2: 100%|██████████| 1/1 [00:00<00:00, 522.39it/s]"
     ]
    },
    {
     "name": "stdout",
     "output_type": "stream",
     "text": [
      "\n",
      "\r",
      "0it [00:00, ?it/s]"
     ]
    },
    {
     "name": "stdout",
     "output_type": "stream",
     "text": [
      "\r",
      "Upgrading database; v2 -> v3: : 0it [00:00, ?it/s]"
     ]
    },
    {
     "name": "stdout",
     "output_type": "stream",
     "text": [
      "\r",
      "Upgrading database; v2 -> v3: : 0it [00:00, ?it/s]"
     ]
    },
    {
     "name": "stdout",
     "output_type": "stream",
     "text": [
      "\n",
      "\r",
      "0it [00:00, ?it/s]"
     ]
    },
    {
     "name": "stdout",
     "output_type": "stream",
     "text": [
      "\r",
      "Upgrading database; v3 -> v4: : 0it [00:00, ?it/s]"
     ]
    },
    {
     "name": "stdout",
     "output_type": "stream",
     "text": [
      "\r",
      "Upgrading database; v3 -> v4: : 0it [00:00, ?it/s]"
     ]
    },
    {
     "name": "stdout",
     "output_type": "stream",
     "text": [
      "\n",
      "\r",
      "  0%|          | 0/1 [00:00<?, ?it/s]"
     ]
    },
    {
     "name": "stdout",
     "output_type": "stream",
     "text": [
      "\r",
      "Upgrading database; v4 -> v5:   0%|          | 0/1 [00:00<?, ?it/s]"
     ]
    },
    {
     "name": "stdout",
     "output_type": "stream",
     "text": [
      "\r",
      "Upgrading database; v4 -> v5: 100%|██████████| 1/1 [00:00<00:00, 529.05it/s]"
     ]
    },
    {
     "name": "stdout",
     "output_type": "stream",
     "text": [
      "\n",
      "\r",
      "0it [00:00, ?it/s]"
     ]
    },
    {
     "name": "stdout",
     "output_type": "stream",
     "text": [
      "\r",
      "Upgrading database; v5 -> v6: : 0it [00:00, ?it/s]"
     ]
    },
    {
     "name": "stdout",
     "output_type": "stream",
     "text": [
      "\r",
      "Upgrading database; v5 -> v6: : 0it [00:00, ?it/s]"
     ]
    },
    {
     "name": "stdout",
     "output_type": "stream",
     "text": [
      "\n",
      "\r",
      "  0%|          | 0/1 [00:00<?, ?it/s]"
     ]
    },
    {
     "name": "stdout",
     "output_type": "stream",
     "text": [
      "\r",
      "Upgrading database; v6 -> v7:   0%|          | 0/1 [00:00<?, ?it/s]"
     ]
    },
    {
     "name": "stdout",
     "output_type": "stream",
     "text": [
      "\r",
      "Upgrading database; v6 -> v7: 100%|██████████| 1/1 [00:00<00:00, 264.03it/s]"
     ]
    },
    {
     "name": "stdout",
     "output_type": "stream",
     "text": [
      "\n",
      "\r",
      "  0%|          | 0/1 [00:00<?, ?it/s]"
     ]
    },
    {
     "name": "stdout",
     "output_type": "stream",
     "text": [
      "\r",
      "Upgrading database; v7 -> v8:   0%|          | 0/1 [00:00<?, ?it/s]"
     ]
    },
    {
     "name": "stdout",
     "output_type": "stream",
     "text": [
      "\r",
      "Upgrading database; v7 -> v8: 100%|██████████| 1/1 [00:00<00:00, 1368.45it/s]"
     ]
    },
    {
     "name": "stdout",
     "output_type": "stream",
     "text": [
      "\n",
      "\r",
      "  0%|          | 0/1 [00:00<?, ?it/s]"
     ]
    },
    {
     "name": "stdout",
     "output_type": "stream",
     "text": [
      "\r",
      "Upgrading database; v8 -> v9:   0%|          | 0/1 [00:00<?, ?it/s]"
     ]
    },
    {
     "name": "stdout",
     "output_type": "stream",
     "text": [
      "\r",
      "Upgrading database; v8 -> v9: 100%|██████████| 1/1 [00:00<00:00, 341.03it/s]"
     ]
    },
    {
     "name": "stdout",
     "output_type": "stream",
     "text": [
      "\n"
     ]
    }
   ],
   "source": [
    "initialise_database()\n",
    "exp = load_or_create_experiment(experiment_name='tutorial_exp', sample_name=\"no sample\")"
   ]
  },
  {
   "cell_type": "markdown",
   "metadata": {},
   "source": [
    "Here, we define a simple function to benchmark the time it takes to insert n points with either numeric or array data type.\n",
    "We will compare both the time used to call ``add_result`` and the time used for the full measurement."
   ]
  },
  {
   "cell_type": "code",
   "execution_count": 4,
   "metadata": {
    "execution": {
     "iopub.execute_input": "2020-11-19T12:12:20.234009Z",
     "iopub.status.busy": "2020-11-19T12:12:20.233406Z",
     "iopub.status.idle": "2020-11-19T12:12:20.237425Z",
     "shell.execute_reply": "2020-11-19T12:12:20.236993Z"
    }
   },
   "outputs": [],
   "source": [
    "def insert_data(paramtype, npoints, nreps=1):\n",
    "\n",
    "    meas = Measurement(exp=exp)\n",
    "\n",
    "    x1 = ManualParameter('x1')\n",
    "    x2 = ManualParameter('x2')\n",
    "    x3 = ManualParameter('x3')\n",
    "    y1 = ManualParameter('y1')\n",
    "    y2 = ManualParameter('y2')\n",
    "\n",
    "    meas.register_parameter(x1, paramtype=paramtype)\n",
    "    meas.register_parameter(x2, paramtype=paramtype)\n",
    "    meas.register_parameter(x3, paramtype=paramtype)\n",
    "    meas.register_parameter(y1, setpoints=[x1, x2, x3],\n",
    "                            paramtype=paramtype)\n",
    "    meas.register_parameter(y2, setpoints=[x1, x2, x3],\n",
    "                            paramtype=paramtype)\n",
    "    start = time.perf_counter()\n",
    "    with meas.run() as datasaver:\n",
    "        start_adding = time.perf_counter()\n",
    "        for i in range(nreps):\n",
    "            datasaver.add_result((x1, np.random.rand(npoints)),\n",
    "                                 (x2, np.random.rand(npoints)),\n",
    "                                 (x3, np.random.rand(npoints)),\n",
    "                                 (y1, np.random.rand(npoints)),\n",
    "                                 (y2, np.random.rand(npoints)))\n",
    "        stop_adding = time.perf_counter()\n",
    "        run_id = datasaver.run_id\n",
    "    stop = time.perf_counter()\n",
    "    tot_time = stop - start\n",
    "    add_time = stop_adding - start_adding\n",
    "    return tot_time, add_time, run_id"
   ]
  },
  {
   "cell_type": "markdown",
   "metadata": {},
   "source": [
    "## Comparison between numeric/array data and binary blob"
   ]
  },
  {
   "cell_type": "markdown",
   "metadata": {},
   "source": [
    "### Case1: Short experiment time"
   ]
  },
  {
   "cell_type": "code",
   "execution_count": 5,
   "metadata": {
    "execution": {
     "iopub.execute_input": "2020-11-19T12:12:20.243552Z",
     "iopub.status.busy": "2020-11-19T12:12:20.242633Z",
     "iopub.status.idle": "2020-11-19T12:12:21.085020Z",
     "shell.execute_reply": "2020-11-19T12:12:21.084146Z"
    }
   },
   "outputs": [
    {
     "name": "stdout",
     "output_type": "stream",
     "text": [
      "Starting experimental run with id: 1. \n",
      "Starting experimental run with id: 2. \n",
      "Starting experimental run with id: 3. \n",
      "Starting experimental run with id: 4. \n"
     ]
    },
    {
     "name": "stdout",
     "output_type": "stream",
     "text": [
      "Starting experimental run with id: 5. \n"
     ]
    },
    {
     "name": "stdout",
     "output_type": "stream",
     "text": [
      "Starting experimental run with id: 6. \n",
      "Starting experimental run with id: 7. \n"
     ]
    },
    {
     "name": "stdout",
     "output_type": "stream",
     "text": [
      "Starting experimental run with id: 8. \n",
      "Starting experimental run with id: 9. \n"
     ]
    },
    {
     "name": "stdout",
     "output_type": "stream",
     "text": [
      "Starting experimental run with id: 10. \n",
      "Starting experimental run with id: 11. \n"
     ]
    },
    {
     "name": "stdout",
     "output_type": "stream",
     "text": [
      "Starting experimental run with id: 12. \n",
      "Starting experimental run with id: 13. \n"
     ]
    },
    {
     "name": "stdout",
     "output_type": "stream",
     "text": [
      "Starting experimental run with id: 14. \n"
     ]
    }
   ],
   "source": [
    "sizes = [1,500,1000,2000,3000,4000,5000]\n",
    "t_numeric = []\n",
    "t_numeric_add = []\n",
    "t_array = []\n",
    "t_array_add = []\n",
    "for size in sizes:\n",
    "    tn, tna, run_id_n =  insert_data('numeric', size)\n",
    "    t_numeric.append(tn)\n",
    "    t_numeric_add.append(tna)\n",
    "\n",
    "    ta, taa, run_id_a =  insert_data('array', size)\n",
    "    t_array.append(ta)\n",
    "    t_array_add.append(taa)"
   ]
  },
  {
   "cell_type": "code",
   "execution_count": 6,
   "metadata": {
    "execution": {
     "iopub.execute_input": "2020-11-19T12:12:21.123161Z",
     "iopub.status.busy": "2020-11-19T12:12:21.111471Z",
     "iopub.status.idle": "2020-11-19T12:12:21.273702Z",
     "shell.execute_reply": "2020-11-19T12:12:21.274084Z"
    }
   },
   "outputs": [
    {
     "data": {
      "image/png": "[encoded data removed]",
      "text/plain": [
       "<Figure size 432x288 with 1 Axes>"
      ]
     },
     "metadata": {
      "needs_background": "light"
     },
     "output_type": "display_data"
    }
   ],
   "source": [
    "fig, ax = plt.subplots(1,1)\n",
    "ax.plot(sizes, t_numeric, 'o-', label='Inserting row-by-row')\n",
    "ax.plot(sizes, t_numeric_add, 'o-', label='Inserting row-by-row: add_result only')\n",
    "ax.plot(sizes, t_array, 'd-', label='Inserting as binary blob')\n",
    "ax.plot(sizes, t_array_add, 'd-', label='Inserting as binary blob: add_result only')\n",
    "ax.legend()\n",
    "ax.set_xlabel('Array length')\n",
    "ax.set_ylabel('Time (s)')\n",
    "fig.tight_layout()"
   ]
  },
  {
   "cell_type": "markdown",
   "metadata": {},
   "source": [
    "As shown in the latter figure, the time to setup and and close the experiment is approximately 0.4 sec. In case of small array sizes, the difference between inserting values of data as arrays and inserting them row-by-row is relatively unimportant. At larger array sizes, i.e. above 10000 points, the cost of writing data as individual datapoints starts to become important.\n"
   ]
  },
  {
   "cell_type": "markdown",
   "metadata": {},
   "source": [
    "### Case2: Long experiment time "
   ]
  },
  {
   "cell_type": "code",
   "execution_count": 7,
   "metadata": {
    "execution": {
     "iopub.execute_input": "2020-11-19T12:12:21.279482Z",
     "iopub.status.busy": "2020-11-19T12:12:21.279069Z",
     "iopub.status.idle": "2020-11-19T12:13:13.127051Z",
     "shell.execute_reply": "2020-11-19T12:13:13.126084Z"
    }
   },
   "outputs": [
    {
     "name": "stdout",
     "output_type": "stream",
     "text": [
      "Starting experimental run with id: 15. \n",
      "Starting experimental run with id: 16. \n",
      "Starting experimental run with id: 17. \n"
     ]
    },
    {
     "name": "stdout",
     "output_type": "stream",
     "text": [
      "Starting experimental run with id: 18. \n",
      "Starting experimental run with id: 19. \n"
     ]
    },
    {
     "name": "stdout",
     "output_type": "stream",
     "text": [
      "Starting experimental run with id: 20. \n"
     ]
    },
    {
     "name": "stdout",
     "output_type": "stream",
     "text": [
      "Starting experimental run with id: 21. \n"
     ]
    },
    {
     "name": "stdout",
     "output_type": "stream",
     "text": [
      "Starting experimental run with id: 22. \n"
     ]
    },
    {
     "name": "stdout",
     "output_type": "stream",
     "text": [
      "Starting experimental run with id: 23. \n"
     ]
    },
    {
     "name": "stdout",
     "output_type": "stream",
     "text": [
      "Starting experimental run with id: 24. \n"
     ]
    },
    {
     "name": "stdout",
     "output_type": "stream",
     "text": [
      "Starting experimental run with id: 25. \n"
     ]
    },
    {
     "name": "stdout",
     "output_type": "stream",
     "text": [
      "Starting experimental run with id: 26. \n"
     ]
    },
    {
     "name": "stdout",
     "output_type": "stream",
     "text": [
      "Starting experimental run with id: 27. \n"
     ]
    },
    {
     "name": "stdout",
     "output_type": "stream",
     "text": [
      "Starting experimental run with id: 28. \n"
     ]
    }
   ],
   "source": [
    "sizes = [1,500,1000,2000,3000,4000,5000]\n",
    "nreps = 100\n",
    "t_numeric = []\n",
    "t_numeric_add = []\n",
    "t_numeric_run_ids = []\n",
    "t_array = []\n",
    "t_array_add = []\n",
    "t_array_run_ids = []\n",
    "for size in sizes:\n",
    "    tn, tna, run_id_n =  insert_data('numeric', size, nreps=nreps)\n",
    "    t_numeric.append(tn)\n",
    "    t_numeric_add.append(tna)\n",
    "    t_numeric_run_ids.append(run_id_n)\n",
    "\n",
    "    ta, taa, run_id_a =  insert_data('array', size, nreps=nreps)\n",
    "    t_array.append(ta)\n",
    "    t_array_add.append(taa)\n",
    "    t_array_run_ids.append(run_id_a)"
   ]
  },
  {
   "cell_type": "code",
   "execution_count": 8,
   "metadata": {
    "execution": {
     "iopub.execute_input": "2020-11-19T12:13:13.133452Z",
     "iopub.status.busy": "2020-11-19T12:13:13.132887Z",
     "iopub.status.idle": "2020-11-19T12:13:13.301253Z",
     "shell.execute_reply": "2020-11-19T12:13:13.301643Z"
    },
    "scrolled": true
   },
   "outputs": [
    {
     "data": {
      "image/png": "[encoded data removed]",
      "text/plain": [
       "<Figure size 432x288 with 1 Axes>"
      ]
     },
     "metadata": {
      "needs_background": "light"
     },
     "output_type": "display_data"
    }
   ],
   "source": [
    "fig, ax = plt.subplots(1,1)\n",
    "ax.plot(sizes, t_numeric, 'o-', label='Inserting row-by-row')\n",
    "ax.plot(sizes, t_numeric_add, 'o-', label='Inserting row-by-row: add_result only')\n",
    "ax.plot(sizes, t_array, 'd-', label='Inserting as binary blob')\n",
    "ax.plot(sizes, t_array_add, 'd-', label='Inserting as binary blob: add_result only')\n",
    "ax.legend()\n",
    "ax.set_xlabel('Array length')\n",
    "ax.set_ylabel('Time (s)')\n",
    "fig.tight_layout()"
   ]
  },
  {
   "cell_type": "markdown",
   "metadata": {},
   "source": [
    "However, as we increase the length of the experiment, as seen here by repeating the insertion 100 times, we see a big difference between inserting values of the data row-by-row and inserting it as a binary blob."
   ]
  },
  {
   "cell_type": "markdown",
   "metadata": {},
   "source": [
    "## Loading the data "
   ]
  },
  {
   "cell_type": "code",
   "execution_count": 9,
   "metadata": {
    "execution": {
     "iopub.execute_input": "2020-11-19T12:13:13.307335Z",
     "iopub.status.busy": "2020-11-19T12:13:13.306288Z",
     "iopub.status.idle": "2020-11-19T12:13:13.310293Z",
     "shell.execute_reply": "2020-11-19T12:13:13.311332Z"
    }
   },
   "outputs": [],
   "source": [
    "from qcodes.dataset.data_set import load_by_id\n",
    "from qcodes.dataset.data_export import get_data_by_id"
   ]
  },
  {
   "cell_type": "markdown",
   "metadata": {},
   "source": [
    "As usual you can load the data by using the ``load_by_id`` function but you will notice that the different storage methods\n",
    "are reflected in shape of the data as it is retrieved. "
   ]
  },
  {
   "cell_type": "code",
   "execution_count": 10,
   "metadata": {
    "execution": {
     "iopub.execute_input": "2020-11-19T12:13:13.314766Z",
     "iopub.status.busy": "2020-11-19T12:13:13.313423Z",
     "iopub.status.idle": "2020-11-19T12:13:13.317994Z",
     "shell.execute_reply": "2020-11-19T12:13:13.318703Z"
    }
   },
   "outputs": [],
   "source": [
    "run_id_n = t_numeric_run_ids[0]\n",
    "run_id_a = t_array_run_ids[0]"
   ]
  },
  {
   "cell_type": "code",
   "execution_count": 11,
   "metadata": {
    "execution": {
     "iopub.execute_input": "2020-11-19T12:13:13.322502Z",
     "iopub.status.busy": "2020-11-19T12:13:13.320945Z",
     "iopub.status.idle": "2020-11-19T12:13:13.332025Z",
     "shell.execute_reply": "2020-11-19T12:13:13.331650Z"
    },
    "scrolled": true
   },
   "outputs": [
    {
     "data": {
      "text/plain": [
       "{'x1': {'x1': array([0.45458531, 0.45458531, 0.72897298, 0.72897298, 0.02933783,\n",
       "         0.02933783, 0.61687608, 0.61687608, 0.87725013, 0.87725013,\n",
       "         0.24682292, 0.24682292, 0.85223685, 0.85223685, 0.83960933,\n",
       "         0.83960933, 0.34961714, 0.34961714, 0.88451382, 0.88451382,\n",
       "         0.81972437, 0.81972437, 0.14591521, 0.14591521, 0.26900527,\n",
       "         0.26900527, 0.17375616, 0.17375616, 0.95546191, 0.95546191,\n",
       "         0.17534595, 0.17534595, 0.79132473, 0.79132473, 0.688702  ,\n",
       "         0.688702  , 0.43301623, 0.43301623, 0.54541859, 0.54541859,\n",
       "         0.85340873, 0.85340873, 0.18241609, 0.18241609, 0.32087128,\n",
       "         0.32087128, 0.40854894, 0.40854894, 0.31386181, 0.31386181,\n",
       "         0.07726003, 0.07726003, 0.85275487, 0.85275487, 0.82586981,\n",
       "         0.82586981, 0.08035677, 0.08035677, 0.19953188, 0.19953188,\n",
       "         0.27111568, 0.27111568, 0.79516848, 0.79516848, 0.21740732,\n",
       "         0.21740732, 0.85094919, 0.85094919, 0.002402  , 0.002402  ,\n",
       "         0.6694934 , 0.6694934 , 0.76712063, 0.76712063, 0.8723686 ,\n",
       "         0.8723686 , 0.66768681, 0.66768681, 0.53367233, 0.53367233,\n",
       "         0.18454762, 0.18454762, 0.27709826, 0.27709826, 0.1042357 ,\n",
       "         0.1042357 , 0.43279264, 0.43279264, 0.0099551 , 0.0099551 ,\n",
       "         0.69764309, 0.69764309, 0.99470978, 0.99470978, 0.71792094,\n",
       "         0.71792094, 0.38203115, 0.38203115, 0.8068096 , 0.8068096 ,\n",
       "         0.38459537, 0.38459537, 0.35570412, 0.35570412, 0.70478401,\n",
       "         0.70478401, 0.82824001, 0.82824001, 0.34386076, 0.34386076,\n",
       "         0.82524008, 0.82524008, 0.23356108, 0.23356108, 0.69482961,\n",
       "         0.69482961, 0.79919547, 0.79919547, 0.15063176, 0.15063176,\n",
       "         0.46606394, 0.46606394, 0.47592005, 0.47592005, 0.75359271,\n",
       "         0.75359271, 0.72298087, 0.72298087, 0.88822671, 0.88822671,\n",
       "         0.56668209, 0.56668209, 0.40035417, 0.40035417, 0.21552529,\n",
       "         0.21552529, 0.28514787, 0.28514787, 0.95265941, 0.95265941,\n",
       "         0.97422584, 0.97422584, 0.24542807, 0.24542807, 0.30079007,\n",
       "         0.30079007, 0.06712017, 0.06712017, 0.92342315, 0.92342315,\n",
       "         0.46325827, 0.46325827, 0.69671098, 0.69671098, 0.37730209,\n",
       "         0.37730209, 0.43672858, 0.43672858, 0.00715496, 0.00715496,\n",
       "         0.71799234, 0.71799234, 0.32534704, 0.32534704, 0.52112468,\n",
       "         0.52112468, 0.37775751, 0.37775751, 0.95325497, 0.95325497,\n",
       "         0.06131114, 0.06131114, 0.12423211, 0.12423211, 0.56744619,\n",
       "         0.56744619, 0.36486486, 0.36486486, 0.99087682, 0.99087682,\n",
       "         0.87423211, 0.87423211, 0.54598385, 0.54598385, 0.52057475,\n",
       "         0.52057475, 0.75200914, 0.75200914, 0.81293956, 0.81293956,\n",
       "         0.21859647, 0.21859647, 0.64602332, 0.64602332, 0.26075969,\n",
       "         0.26075969, 0.14967566, 0.14967566, 0.6528075 , 0.6528075 ])}}"
      ]
     },
     "execution_count": 1,
     "metadata": {},
     "output_type": "execute_result"
    }
   ],
   "source": [
    "ds = load_by_id(run_id_n)\n",
    "ds.get_parameter_data('x1')"
   ]
  },
  {
   "cell_type": "markdown",
   "metadata": {},
   "source": [
    "And a dataset stored as binary arrays"
   ]
  },
  {
   "cell_type": "code",
   "execution_count": 12,
   "metadata": {
    "execution": {
     "iopub.execute_input": "2020-11-19T12:13:13.335046Z",
     "iopub.status.busy": "2020-11-19T12:13:13.334542Z",
     "iopub.status.idle": "2020-11-19T12:13:13.380198Z",
     "shell.execute_reply": "2020-11-19T12:13:13.380864Z"
    },
    "scrolled": true
   },
   "outputs": [
    {
     "data": {
      "text/plain": [
       "{'x1': {'x1': array([[0.39209672],\n",
       "         [0.39209672],\n",
       "         [0.2014678 ],\n",
       "         [0.2014678 ],\n",
       "         [0.3925703 ],\n",
       "         [0.3925703 ],\n",
       "         [0.99198951],\n",
       "         [0.99198951],\n",
       "         [0.75862624],\n",
       "         [0.75862624],\n",
       "         [0.11730666],\n",
       "         [0.11730666],\n",
       "         [0.73980785],\n",
       "         [0.73980785],\n",
       "         [0.08692268],\n",
       "         [0.08692268],\n",
       "         [0.3050701 ],\n",
       "         [0.3050701 ],\n",
       "         [0.26851298],\n",
       "         [0.26851298],\n",
       "         [0.86785921],\n",
       "         [0.86785921],\n",
       "         [0.32814399],\n",
       "         [0.32814399],\n",
       "         [0.7219619 ],\n",
       "         [0.7219619 ],\n",
       "         [0.26921975],\n",
       "         [0.26921975],\n",
       "         [0.8009964 ],\n",
       "         [0.8009964 ],\n",
       "         [0.79119761],\n",
       "         [0.79119761],\n",
       "         [0.58767044],\n",
       "         [0.58767044],\n",
       "         [0.25706411],\n",
       "         [0.25706411],\n",
       "         [0.00183844],\n",
       "         [0.00183844],\n",
       "         [0.27568369],\n",
       "         [0.27568369],\n",
       "         [0.10103362],\n",
       "         [0.10103362],\n",
       "         [0.49110126],\n",
       "         [0.49110126],\n",
       "         [0.77898372],\n",
       "         [0.77898372],\n",
       "         [0.75051548],\n",
       "         [0.75051548],\n",
       "         [0.02502814],\n",
       "         [0.02502814],\n",
       "         [0.15245938],\n",
       "         [0.15245938],\n",
       "         [0.25251106],\n",
       "         [0.25251106],\n",
       "         [0.13091904],\n",
       "         [0.13091904],\n",
       "         [0.01572571],\n",
       "         [0.01572571],\n",
       "         [0.04033416],\n",
       "         [0.04033416],\n",
       "         [0.71531453],\n",
       "         [0.71531453],\n",
       "         [0.14999277],\n",
       "         [0.14999277],\n",
       "         [0.1487933 ],\n",
       "         [0.1487933 ],\n",
       "         [0.20360996],\n",
       "         [0.20360996],\n",
       "         [0.82756743],\n",
       "         [0.82756743],\n",
       "         [0.31260279],\n",
       "         [0.31260279],\n",
       "         [0.39688496],\n",
       "         [0.39688496],\n",
       "         [0.18244854],\n",
       "         [0.18244854],\n",
       "         [0.21969818],\n",
       "         [0.21969818],\n",
       "         [0.69978545],\n",
       "         [0.69978545],\n",
       "         [0.73967518],\n",
       "         [0.73967518],\n",
       "         [0.26177772],\n",
       "         [0.26177772],\n",
       "         [0.01901757],\n",
       "         [0.01901757],\n",
       "         [0.59249993],\n",
       "         [0.59249993],\n",
       "         [0.82119494],\n",
       "         [0.82119494],\n",
       "         [0.32855371],\n",
       "         [0.32855371],\n",
       "         [0.73583923],\n",
       "         [0.73583923],\n",
       "         [0.30628578],\n",
       "         [0.30628578],\n",
       "         [0.71596041],\n",
       "         [0.71596041],\n",
       "         [0.98817179],\n",
       "         [0.98817179],\n",
       "         [0.41427742],\n",
       "         [0.41427742],\n",
       "         [0.78992157],\n",
       "         [0.78992157],\n",
       "         [0.30637813],\n",
       "         [0.30637813],\n",
       "         [0.72620766],\n",
       "         [0.72620766],\n",
       "         [0.73348952],\n",
       "         [0.73348952],\n",
       "         [0.0843084 ],\n",
       "         [0.0843084 ],\n",
       "         [0.77196055],\n",
       "         [0.77196055],\n",
       "         [0.25928863],\n",
       "         [0.25928863],\n",
       "         [0.43759087],\n",
       "         [0.43759087],\n",
       "         [0.15188902],\n",
       "         [0.15188902],\n",
       "         [0.41047921],\n",
       "         [0.41047921],\n",
       "         [0.17778524],\n",
       "         [0.17778524],\n",
       "         [0.77090359],\n",
       "         [0.77090359],\n",
       "         [0.46239288],\n",
       "         [0.46239288],\n",
       "         [0.51906169],\n",
       "         [0.51906169],\n",
       "         [0.09875611],\n",
       "         [0.09875611],\n",
       "         [0.70802897],\n",
       "         [0.70802897],\n",
       "         [0.84160706],\n",
       "         [0.84160706],\n",
       "         [0.5687706 ],\n",
       "         [0.5687706 ],\n",
       "         [0.2341751 ],\n",
       "         [0.2341751 ],\n",
       "         [0.86245039],\n",
       "         [0.86245039],\n",
       "         [0.4131365 ],\n",
       "         [0.4131365 ],\n",
       "         [0.84455308],\n",
       "         [0.84455308],\n",
       "         [0.02003885],\n",
       "         [0.02003885],\n",
       "         [0.76071771],\n",
       "         [0.76071771],\n",
       "         [0.53120664],\n",
       "         [0.53120664],\n",
       "         [0.4530017 ],\n",
       "         [0.4530017 ],\n",
       "         [0.89640885],\n",
       "         [0.89640885],\n",
       "         [0.30888921],\n",
       "         [0.30888921],\n",
       "         [0.18834278],\n",
       "         [0.18834278],\n",
       "         [0.61150413],\n",
       "         [0.61150413],\n",
       "         [0.16135763],\n",
       "         [0.16135763],\n",
       "         [0.44090978],\n",
       "         [0.44090978],\n",
       "         [0.08723357],\n",
       "         [0.08723357],\n",
       "         [0.80122178],\n",
       "         [0.80122178],\n",
       "         [0.555251  ],\n",
       "         [0.555251  ],\n",
       "         [0.32626466],\n",
       "         [0.32626466],\n",
       "         [0.05488336],\n",
       "         [0.05488336],\n",
       "         [0.7018319 ],\n",
       "         [0.7018319 ],\n",
       "         [0.93825649],\n",
       "         [0.93825649],\n",
       "         [0.3611666 ],\n",
       "         [0.3611666 ],\n",
       "         [0.36853279],\n",
       "         [0.36853279],\n",
       "         [0.38594101],\n",
       "         [0.38594101],\n",
       "         [0.48247451],\n",
       "         [0.48247451],\n",
       "         [0.40752519],\n",
       "         [0.40752519],\n",
       "         [0.79507421],\n",
       "         [0.79507421],\n",
       "         [0.50805312],\n",
       "         [0.50805312],\n",
       "         [0.74995353],\n",
       "         [0.74995353],\n",
       "         [0.45234855],\n",
       "         [0.45234855],\n",
       "         [0.87219897],\n",
       "         [0.87219897]])}}"
      ]
     },
     "execution_count": 1,
     "metadata": {},
     "output_type": "execute_result"
    }
   ],
   "source": [
    "ds = load_by_id(run_id_a)\n",
    "ds.get_parameter_data('x1')"
   ]
  },
  {
   "cell_type": "code",
   "execution_count": null,
   "metadata": {},
   "outputs": [],
   "source": []
  }
 ],
 "metadata": {
  "kernelspec": {
   "display_name": "Python 3",
   "language": "python",
   "name": "python3"
  },
  "language_info": {
   "codemirror_mode": {
    "name": "ipython",
    "version": 3
   },
   "file_extension": ".py",
   "mimetype": "text/x-python",
   "name": "python",
   "nbconvert_exporter": "python",
   "pygments_lexer": "ipython3",
   "version": "3.7.9"
  },
  "nbsphinx": {
   "timeout": 600
  },
  "toc": {
   "base_numbering": 1,
   "nav_menu": {},
   "number_sections": true,
   "sideBar": true,
   "skip_h1_title": false,
   "title_cell": "Table of Contents",
   "title_sidebar": "Contents",
   "toc_cell": false,
   "toc_position": {},
   "toc_section_display": true,
   "toc_window_display": false
  },
  "varInspector": {
   "cols": {
    "lenName": 16,
    "lenType": 16,
    "lenVar": 40
   },
   "kernels_config": {
    "python": {
     "delete_cmd_postfix": "",
     "delete_cmd_prefix": "del ",
     "library": "var_list.py",
     "varRefreshCmd": "print(var_dic_list())"
    },
    "r": {
     "delete_cmd_postfix": ") ",
     "delete_cmd_prefix": "rm(",
     "library": "var_list.r",
     "varRefreshCmd": "cat(var_dic_list()) "
    }
   },
   "types_to_exclude": [
    "module",
    "function",
    "builtin_function_or_method",
    "instance",
    "_Feature"
   ],
   "window_display": false
  }
 },
 "nbformat": 4,
 "nbformat_minor": 2
}
