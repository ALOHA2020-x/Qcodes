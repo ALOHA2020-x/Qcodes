{
 "cells": [
  {
   "cell_type": "markdown",
   "metadata": {},
   "source": [
    "# DataSet Performance\n",
    "\n",
    "This notebook shows the trade-off between inserting data into a database row-by-row and as binary blobs. Inserting the data row-by-row means that we have direct access to all the data and may perform queries directly on the values of the data. On the other hand, as we shall see, this is much slower than inserting the data directly as binary blobs."
   ]
  },
  {
   "cell_type": "markdown",
   "metadata": {},
   "source": [
    "First, we choose a new location for the database to ensure that we don't add a bunch of benchmarking data to the default one."
   ]
  },
  {
   "cell_type": "code",
   "execution_count": 1,
   "metadata": {},
   "outputs": [
    {
     "name": "stdout",
     "output_type": "stream",
     "text": [
      "Logging hadn't been started.\n",
      "Activating auto-logging. Current session state plus future input saved.\n",
      "Filename       : /home/vsts/.qcodes/logs/command_history.log\n",
      "Mode           : append\n",
      "Output logging : True\n",
      "Raw input log  : False\n",
      "Timestamping   : True\n",
      "State          : active\n"
     ]
    },
    {
     "name": "stdout",
     "output_type": "stream",
     "text": [
      "Qcodes Logfile : /home/vsts/.qcodes/logs/200828-18289-qcodes.log\n"
     ]
    }
   ],
   "source": [
    "import os\n",
    "cwd = os.getcwd()\n",
    "import qcodes as qc\n",
    "qc.config[\"core\"][\"db_location\"] = os.path.join(cwd, 'testing.db')\n"
   ]
  },
  {
   "cell_type": "code",
   "execution_count": 2,
   "metadata": {},
   "outputs": [],
   "source": [
    "%matplotlib inline\n",
    "import time\n",
    "import matplotlib.pyplot as plt\n",
    "import numpy as np\n",
    "\n",
    "import qcodes as qc\n",
    "from qcodes.instrument.parameter import ManualParameter\n",
    "from qcodes.dataset.experiment_container import (Experiment,\n",
    "                                                 load_last_experiment,\n",
    "                                                 new_experiment)\n",
    "from qcodes.dataset.sqlite.database import initialise_database\n",
    "from qcodes import load_or_create_experiment\n",
    "from qcodes.dataset.measurements import Measurement"
   ]
  },
  {
   "cell_type": "code",
   "execution_count": 3,
   "metadata": {},
   "outputs": [
    {
     "name": "stdout",
     "output_type": "stream",
     "text": [
      "\r",
      "0it [00:00, ?it/s]"
     ]
    },
    {
     "name": "stdout",
     "output_type": "stream",
     "text": [
      "\r",
      "Upgrading database; v0 -> v1: : 0it [00:00, ?it/s]"
     ]
    },
    {
     "name": "stdout",
     "output_type": "stream",
     "text": [
      "\r",
      "Upgrading database; v0 -> v1: : 0it [00:00, ?it/s]"
     ]
    },
    {
     "name": "stdout",
     "output_type": "stream",
     "text": [
      "\n",
      "\r",
      "  0%|          | 0/1 [00:00<?, ?it/s]"
     ]
    },
    {
     "name": "stdout",
     "output_type": "stream",
     "text": [
      "\r",
      "Upgrading database; v1 -> v2:   0%|          | 0/1 [00:00<?, ?it/s]"
     ]
    },
    {
     "name": "stdout",
     "output_type": "stream",
     "text": [
      "\r",
      "Upgrading database; v1 -> v2: 100%|██████████| 1/1 [00:00<00:00, 810.96it/s]"
     ]
    },
    {
     "name": "stdout",
     "output_type": "stream",
     "text": [
      "\n",
      "\r",
      "0it [00:00, ?it/s]"
     ]
    },
    {
     "name": "stdout",
     "output_type": "stream",
     "text": [
      "\r",
      "Upgrading database; v2 -> v3: : 0it [00:00, ?it/s]"
     ]
    },
    {
     "name": "stdout",
     "output_type": "stream",
     "text": [
      "\r",
      "Upgrading database; v2 -> v3: : 0it [00:00, ?it/s]"
     ]
    },
    {
     "name": "stdout",
     "output_type": "stream",
     "text": [
      "\n",
      "\r",
      "0it [00:00, ?it/s]"
     ]
    },
    {
     "name": "stdout",
     "output_type": "stream",
     "text": [
      "\r",
      "Upgrading database; v3 -> v4: : 0it [00:00, ?it/s]"
     ]
    },
    {
     "name": "stdout",
     "output_type": "stream",
     "text": [
      "\r",
      "Upgrading database; v3 -> v4: : 0it [00:00, ?it/s]"
     ]
    },
    {
     "name": "stdout",
     "output_type": "stream",
     "text": [
      "\n",
      "\r",
      "  0%|          | 0/1 [00:00<?, ?it/s]"
     ]
    },
    {
     "name": "stdout",
     "output_type": "stream",
     "text": [
      "\r",
      "Upgrading database; v4 -> v5:   0%|          | 0/1 [00:00<?, ?it/s]"
     ]
    },
    {
     "name": "stdout",
     "output_type": "stream",
     "text": [
      "\r",
      "Upgrading database; v4 -> v5: 100%|██████████| 1/1 [00:00<00:00, 776.44it/s]"
     ]
    },
    {
     "name": "stdout",
     "output_type": "stream",
     "text": [
      "\n",
      "\r",
      "0it [00:00, ?it/s]"
     ]
    },
    {
     "name": "stdout",
     "output_type": "stream",
     "text": [
      "\r",
      "Upgrading database; v5 -> v6: : 0it [00:00, ?it/s]"
     ]
    },
    {
     "name": "stdout",
     "output_type": "stream",
     "text": [
      "\r",
      "Upgrading database; v5 -> v6: : 0it [00:00, ?it/s]"
     ]
    },
    {
     "name": "stdout",
     "output_type": "stream",
     "text": [
      "\n",
      "\r",
      "  0%|          | 0/1 [00:00<?, ?it/s]"
     ]
    },
    {
     "name": "stdout",
     "output_type": "stream",
     "text": [
      "\r",
      "Upgrading database; v6 -> v7:   0%|          | 0/1 [00:00<?, ?it/s]"
     ]
    },
    {
     "name": "stdout",
     "output_type": "stream",
     "text": [
      "\r",
      "Upgrading database; v6 -> v7: 100%|██████████| 1/1 [00:00<00:00, 460.26it/s]"
     ]
    },
    {
     "name": "stdout",
     "output_type": "stream",
     "text": [
      "\n",
      "\r",
      "  0%|          | 0/1 [00:00<?, ?it/s]"
     ]
    },
    {
     "name": "stdout",
     "output_type": "stream",
     "text": [
      "\r",
      "Upgrading database; v7 -> v8:   0%|          | 0/1 [00:00<?, ?it/s]"
     ]
    },
    {
     "name": "stdout",
     "output_type": "stream",
     "text": [
      "\r",
      "Upgrading database; v7 -> v8: 100%|██████████| 1/1 [00:00<00:00, 729.70it/s]"
     ]
    },
    {
     "name": "stdout",
     "output_type": "stream",
     "text": [
      "\n",
      "\r",
      "  0%|          | 0/1 [00:00<?, ?it/s]"
     ]
    },
    {
     "name": "stdout",
     "output_type": "stream",
     "text": [
      "\r",
      "Upgrading database; v8 -> v9:   0%|          | 0/1 [00:00<?, ?it/s]"
     ]
    },
    {
     "name": "stdout",
     "output_type": "stream",
     "text": [
      "\r",
      "Upgrading database; v8 -> v9: 100%|██████████| 1/1 [00:00<00:00, 913.79it/s]"
     ]
    },
    {
     "name": "stdout",
     "output_type": "stream",
     "text": [
      "\n"
     ]
    }
   ],
   "source": [
    "initialise_database()\n",
    "exp = load_or_create_experiment(experiment_name='tutorial_exp', sample_name=\"no sample\")"
   ]
  },
  {
   "cell_type": "markdown",
   "metadata": {},
   "source": [
    "Here, we define a simple function to benchmark the time it takes to insert n points with either numeric or array data type.\n",
    "We will compare both the time used to call ``add_result`` and the time used for the full measurement."
   ]
  },
  {
   "cell_type": "code",
   "execution_count": 4,
   "metadata": {},
   "outputs": [],
   "source": [
    "def insert_data(paramtype, npoints, nreps=1):\n",
    "\n",
    "    meas = Measurement(exp=exp)\n",
    "\n",
    "    x1 = ManualParameter('x1')\n",
    "    x2 = ManualParameter('x2')\n",
    "    x3 = ManualParameter('x3')\n",
    "    y1 = ManualParameter('y1')\n",
    "    y2 = ManualParameter('y2')\n",
    "\n",
    "    meas.register_parameter(x1, paramtype=paramtype)\n",
    "    meas.register_parameter(x2, paramtype=paramtype)\n",
    "    meas.register_parameter(x3, paramtype=paramtype)\n",
    "    meas.register_parameter(y1, setpoints=[x1, x2, x3],\n",
    "                            paramtype=paramtype)\n",
    "    meas.register_parameter(y2, setpoints=[x1, x2, x3],\n",
    "                            paramtype=paramtype)\n",
    "    start = time.perf_counter()\n",
    "    with meas.run() as datasaver:\n",
    "        start_adding = time.perf_counter()\n",
    "        for i in range(nreps):\n",
    "            datasaver.add_result((x1, np.random.rand(npoints)),\n",
    "                                 (x2, np.random.rand(npoints)),\n",
    "                                 (x3, np.random.rand(npoints)),\n",
    "                                 (y1, np.random.rand(npoints)),\n",
    "                                 (y2, np.random.rand(npoints)))\n",
    "        stop_adding = time.perf_counter()\n",
    "        run_id = datasaver.run_id\n",
    "    stop = time.perf_counter()\n",
    "    tot_time = stop - start\n",
    "    add_time = stop_adding - start_adding\n",
    "    return tot_time, add_time, run_id"
   ]
  },
  {
   "cell_type": "markdown",
   "metadata": {},
   "source": [
    "## Comparison between numeric/array data and binary blob"
   ]
  },
  {
   "cell_type": "markdown",
   "metadata": {},
   "source": [
    "### Case1: Short experiment time"
   ]
  },
  {
   "cell_type": "code",
   "execution_count": 5,
   "metadata": {},
   "outputs": [
    {
     "name": "stdout",
     "output_type": "stream",
     "text": [
      "Starting experimental run with id: 1. \n",
      "Starting experimental run with id: 2. \n",
      "Starting experimental run with id: 3. \n",
      "Starting experimental run with id: 4. \n"
     ]
    },
    {
     "name": "stdout",
     "output_type": "stream",
     "text": [
      "Starting experimental run with id: 5. \n"
     ]
    },
    {
     "name": "stdout",
     "output_type": "stream",
     "text": [
      "Starting experimental run with id: 6. \n",
      "Starting experimental run with id: 7. \n"
     ]
    },
    {
     "name": "stdout",
     "output_type": "stream",
     "text": [
      "Starting experimental run with id: 8. \n",
      "Starting experimental run with id: 9. \n"
     ]
    },
    {
     "name": "stdout",
     "output_type": "stream",
     "text": [
      "Starting experimental run with id: 10. \n",
      "Starting experimental run with id: 11. \n"
     ]
    },
    {
     "name": "stdout",
     "output_type": "stream",
     "text": [
      "Starting experimental run with id: 12. \n",
      "Starting experimental run with id: 13. \n"
     ]
    },
    {
     "name": "stdout",
     "output_type": "stream",
     "text": [
      "Starting experimental run with id: 14. \n"
     ]
    }
   ],
   "source": [
    "sizes = [1,500,1000,2000,3000,4000,5000]\n",
    "t_numeric = []\n",
    "t_numeric_add = []\n",
    "t_array = []\n",
    "t_array_add = []\n",
    "for size in sizes:\n",
    "    tn, tna, run_id_n =  insert_data('numeric', size)\n",
    "    t_numeric.append(tn)\n",
    "    t_numeric_add.append(tna)\n",
    "\n",
    "    ta, taa, run_id_a =  insert_data('array', size)\n",
    "    t_array.append(ta)\n",
    "    t_array_add.append(taa)"
   ]
  },
  {
   "cell_type": "code",
   "execution_count": 6,
   "metadata": {},
   "outputs": [
    {
     "data": {
      "image/png": "[encoded data removed]",
      "text/plain": [
       "<Figure size 432x288 with 1 Axes>"
      ]
     },
     "metadata": {
      "needs_background": "light"
     },
     "output_type": "display_data"
    }
   ],
   "source": [
    "fig, ax = plt.subplots(1,1)\n",
    "ax.plot(sizes, t_numeric, 'o-', label='Inserting row-by-row')\n",
    "ax.plot(sizes, t_numeric_add, 'o-', label='Inserting row-by-row: add_result only')\n",
    "ax.plot(sizes, t_array, 'd-', label='Inserting as binary blob')\n",
    "ax.plot(sizes, t_array_add, 'd-', label='Inserting as binary blob: add_result only')\n",
    "ax.legend()\n",
    "ax.set_xlabel('Array length')\n",
    "ax.set_ylabel('Time (s)')\n",
    "fig.tight_layout()"
   ]
  },
  {
   "cell_type": "markdown",
   "metadata": {},
   "source": [
    "As shown in the latter figure, the time to setup and and close the experiment is approximately 0.4 sec. In case of small array sizes, the difference between inserting values of data as arrays and inserting them row-by-row is relatively unimportant. At larger array sizes, i.e. above 10000 points, the cost of writing data as individual datapoints starts to become important.\n"
   ]
  },
  {
   "cell_type": "markdown",
   "metadata": {},
   "source": [
    "### Case2: Long experiment time "
   ]
  },
  {
   "cell_type": "code",
   "execution_count": 7,
   "metadata": {},
   "outputs": [
    {
     "name": "stdout",
     "output_type": "stream",
     "text": [
      "Starting experimental run with id: 15. \n",
      "Starting experimental run with id: 16. \n",
      "Starting experimental run with id: 17. \n"
     ]
    },
    {
     "name": "stdout",
     "output_type": "stream",
     "text": [
      "Starting experimental run with id: 18. \n",
      "Starting experimental run with id: 19. \n"
     ]
    },
    {
     "name": "stdout",
     "output_type": "stream",
     "text": [
      "Starting experimental run with id: 20. \n"
     ]
    },
    {
     "name": "stdout",
     "output_type": "stream",
     "text": [
      "Starting experimental run with id: 21. \n"
     ]
    },
    {
     "name": "stdout",
     "output_type": "stream",
     "text": [
      "Starting experimental run with id: 22. \n"
     ]
    },
    {
     "name": "stdout",
     "output_type": "stream",
     "text": [
      "Starting experimental run with id: 23. \n"
     ]
    },
    {
     "name": "stdout",
     "output_type": "stream",
     "text": [
      "Starting experimental run with id: 24. \n"
     ]
    },
    {
     "name": "stdout",
     "output_type": "stream",
     "text": [
      "Starting experimental run with id: 25. \n"
     ]
    },
    {
     "name": "stdout",
     "output_type": "stream",
     "text": [
      "Starting experimental run with id: 26. \n"
     ]
    },
    {
     "name": "stdout",
     "output_type": "stream",
     "text": [
      "Starting experimental run with id: 27. \n"
     ]
    },
    {
     "name": "stdout",
     "output_type": "stream",
     "text": [
      "Starting experimental run with id: 28. \n"
     ]
    }
   ],
   "source": [
    "sizes = [1,500,1000,2000,3000,4000,5000]\n",
    "nreps = 100\n",
    "t_numeric = []\n",
    "t_numeric_add = []\n",
    "t_numeric_run_ids = []\n",
    "t_array = []\n",
    "t_array_add = []\n",
    "t_array_run_ids = []\n",
    "for size in sizes:\n",
    "    tn, tna, run_id_n =  insert_data('numeric', size, nreps=nreps)\n",
    "    t_numeric.append(tn)\n",
    "    t_numeric_add.append(tna)\n",
    "    t_numeric_run_ids.append(run_id_n)\n",
    "\n",
    "    ta, taa, run_id_a =  insert_data('array', size, nreps=nreps)\n",
    "    t_array.append(ta)\n",
    "    t_array_add.append(taa)\n",
    "    t_array_run_ids.append(run_id_a)"
   ]
  },
  {
   "cell_type": "code",
   "execution_count": 8,
   "metadata": {
    "scrolled": true
   },
   "outputs": [
    {
     "data": {
      "image/png": "[encoded data removed]",
      "text/plain": [
       "<Figure size 432x288 with 1 Axes>"
      ]
     },
     "metadata": {
      "needs_background": "light"
     },
     "output_type": "display_data"
    }
   ],
   "source": [
    "fig, ax = plt.subplots(1,1)\n",
    "ax.plot(sizes, t_numeric, 'o-', label='Inserting row-by-row')\n",
    "ax.plot(sizes, t_numeric_add, 'o-', label='Inserting row-by-row: add_result only')\n",
    "ax.plot(sizes, t_array, 'd-', label='Inserting as binary blob')\n",
    "ax.plot(sizes, t_array_add, 'd-', label='Inserting as binary blob: add_result only')\n",
    "ax.legend()\n",
    "ax.set_xlabel('Array length')\n",
    "ax.set_ylabel('Time (s)')\n",
    "fig.tight_layout()"
   ]
  },
  {
   "cell_type": "markdown",
   "metadata": {},
   "source": [
    "However, as we increase the length of the experiment, as seen here by repeating the insertion 100 times, we see a big difference between inserting values of the data row-by-row and inserting it as a binary blob."
   ]
  },
  {
   "cell_type": "markdown",
   "metadata": {},
   "source": [
    "## Loading the data "
   ]
  },
  {
   "cell_type": "code",
   "execution_count": 9,
   "metadata": {},
   "outputs": [],
   "source": [
    "from qcodes.dataset.data_set import load_by_id\n",
    "from qcodes.dataset.data_export import get_data_by_id"
   ]
  },
  {
   "cell_type": "markdown",
   "metadata": {},
   "source": [
    "As usual you can load the data by using the ``load_by_id`` function but you will notice that the different storage methods\n",
    "are reflected in shape of the data as it is retrieved. "
   ]
  },
  {
   "cell_type": "code",
   "execution_count": 10,
   "metadata": {},
   "outputs": [],
   "source": [
    "run_id_n = t_numeric_run_ids[0]\n",
    "run_id_a = t_array_run_ids[0]"
   ]
  },
  {
   "cell_type": "code",
   "execution_count": 11,
   "metadata": {
    "scrolled": true
   },
   "outputs": [
    {
     "data": {
      "text/plain": [
       "{'x1': {'x1': array([0.71386649, 0.71386649, 0.94941896, 0.94941896, 0.6155119 ,\n",
       "         0.6155119 , 0.26465799, 0.26465799, 0.55176764, 0.55176764,\n",
       "         0.46727398, 0.46727398, 0.37605597, 0.37605597, 0.29898312,\n",
       "         0.29898312, 0.90816673, 0.90816673, 0.53731019, 0.53731019,\n",
       "         0.95904579, 0.95904579, 0.35153315, 0.35153315, 0.6675543 ,\n",
       "         0.6675543 , 0.66747989, 0.66747989, 0.18669045, 0.18669045,\n",
       "         0.5718047 , 0.5718047 , 0.19048492, 0.19048492, 0.80241107,\n",
       "         0.80241107, 0.7943649 , 0.7943649 , 0.89690789, 0.89690789,\n",
       "         0.05991724, 0.05991724, 0.56245067, 0.56245067, 0.29984466,\n",
       "         0.29984466, 0.22464769, 0.22464769, 0.6819368 , 0.6819368 ,\n",
       "         0.59423285, 0.59423285, 0.55313719, 0.55313719, 0.70907783,\n",
       "         0.70907783, 0.98305196, 0.98305196, 0.51394255, 0.51394255,\n",
       "         0.16144452, 0.16144452, 0.43969524, 0.43969524, 0.45126213,\n",
       "         0.45126213, 0.78462973, 0.78462973, 0.60854174, 0.60854174,\n",
       "         0.84774889, 0.84774889, 0.78684648, 0.78684648, 0.29821829,\n",
       "         0.29821829, 0.37570547, 0.37570547, 0.89220075, 0.89220075,\n",
       "         0.48728633, 0.48728633, 0.11406693, 0.11406693, 0.07410354,\n",
       "         0.07410354, 0.18588524, 0.18588524, 0.85775158, 0.85775158,\n",
       "         0.70171029, 0.70171029, 0.72834277, 0.72834277, 0.59373983,\n",
       "         0.59373983, 0.49535658, 0.49535658, 0.0638542 , 0.0638542 ,\n",
       "         0.6093493 , 0.6093493 , 0.82687973, 0.82687973, 0.45181475,\n",
       "         0.45181475, 0.26401822, 0.26401822, 0.29270391, 0.29270391,\n",
       "         0.9360278 , 0.9360278 , 0.36061183, 0.36061183, 0.27405897,\n",
       "         0.27405897, 0.561509  , 0.561509  , 0.15441093, 0.15441093,\n",
       "         0.77725789, 0.77725789, 0.92790822, 0.92790822, 0.23893424,\n",
       "         0.23893424, 0.29241932, 0.29241932, 0.86373712, 0.86373712,\n",
       "         0.17596652, 0.17596652, 0.29482325, 0.29482325, 0.38058853,\n",
       "         0.38058853, 0.8857697 , 0.8857697 , 0.03895184, 0.03895184,\n",
       "         0.48634723, 0.48634723, 0.26877208, 0.26877208, 0.07648101,\n",
       "         0.07648101, 0.84798322, 0.84798322, 0.37644347, 0.37644347,\n",
       "         0.23725067, 0.23725067, 0.07528664, 0.07528664, 0.10881067,\n",
       "         0.10881067, 0.18462427, 0.18462427, 0.5420037 , 0.5420037 ,\n",
       "         0.71144914, 0.71144914, 0.51671007, 0.51671007, 0.21622154,\n",
       "         0.21622154, 0.10216919, 0.10216919, 0.99151142, 0.99151142,\n",
       "         0.28064858, 0.28064858, 0.86049909, 0.86049909, 0.37914405,\n",
       "         0.37914405, 0.3679164 , 0.3679164 , 0.45952648, 0.45952648,\n",
       "         0.41115191, 0.41115191, 0.5585092 , 0.5585092 , 0.51092295,\n",
       "         0.51092295, 0.18271499, 0.18271499, 0.24455886, 0.24455886,\n",
       "         0.70470294, 0.70470294, 0.97362587, 0.97362587, 0.5909533 ,\n",
       "         0.5909533 , 0.81729527, 0.81729527, 0.70838525, 0.70838525])}}"
      ]
     },
     "execution_count": 11,
     "metadata": {},
     "output_type": "execute_result"
    }
   ],
   "source": [
    "ds = load_by_id(run_id_n)\n",
    "ds.get_parameter_data('x1')"
   ]
  },
  {
   "cell_type": "markdown",
   "metadata": {},
   "source": [
    "And a dataset stored as binary arrays"
   ]
  },
  {
   "cell_type": "code",
   "execution_count": 12,
   "metadata": {
    "scrolled": true
   },
   "outputs": [
    {
     "data": {
      "text/plain": [
       "{'x1': {'x1': array([[0.10579322],\n",
       "         [0.10579322],\n",
       "         [0.94820645],\n",
       "         [0.94820645],\n",
       "         [0.6061086 ],\n",
       "         [0.6061086 ],\n",
       "         [0.99795132],\n",
       "         [0.99795132],\n",
       "         [0.0348719 ],\n",
       "         [0.0348719 ],\n",
       "         [0.57124036],\n",
       "         [0.57124036],\n",
       "         [0.38748173],\n",
       "         [0.38748173],\n",
       "         [0.08037017],\n",
       "         [0.08037017],\n",
       "         [0.58548427],\n",
       "         [0.58548427],\n",
       "         [0.91807065],\n",
       "         [0.91807065],\n",
       "         [0.76253167],\n",
       "         [0.76253167],\n",
       "         [0.26240184],\n",
       "         [0.26240184],\n",
       "         [0.24479711],\n",
       "         [0.24479711],\n",
       "         [0.70184783],\n",
       "         [0.70184783],\n",
       "         [0.91957029],\n",
       "         [0.91957029],\n",
       "         [0.16629208],\n",
       "         [0.16629208],\n",
       "         [0.19860149],\n",
       "         [0.19860149],\n",
       "         [0.30458663],\n",
       "         [0.30458663],\n",
       "         [0.67396435],\n",
       "         [0.67396435],\n",
       "         [0.92593918],\n",
       "         [0.92593918],\n",
       "         [0.13703524],\n",
       "         [0.13703524],\n",
       "         [0.03378099],\n",
       "         [0.03378099],\n",
       "         [0.06542718],\n",
       "         [0.06542718],\n",
       "         [0.93045158],\n",
       "         [0.93045158],\n",
       "         [0.51374843],\n",
       "         [0.51374843],\n",
       "         [0.98448662],\n",
       "         [0.98448662],\n",
       "         [0.44598071],\n",
       "         [0.44598071],\n",
       "         [0.86631158],\n",
       "         [0.86631158],\n",
       "         [0.32976921],\n",
       "         [0.32976921],\n",
       "         [0.27537377],\n",
       "         [0.27537377],\n",
       "         [0.39389818],\n",
       "         [0.39389818],\n",
       "         [0.66944758],\n",
       "         [0.66944758],\n",
       "         [0.44125039],\n",
       "         [0.44125039],\n",
       "         [0.81799356],\n",
       "         [0.81799356],\n",
       "         [0.50654937],\n",
       "         [0.50654937],\n",
       "         [0.32233525],\n",
       "         [0.32233525],\n",
       "         [0.3354241 ],\n",
       "         [0.3354241 ],\n",
       "         [0.51259303],\n",
       "         [0.51259303],\n",
       "         [0.37896967],\n",
       "         [0.37896967],\n",
       "         [0.83817598],\n",
       "         [0.83817598],\n",
       "         [0.10900767],\n",
       "         [0.10900767],\n",
       "         [0.55070338],\n",
       "         [0.55070338],\n",
       "         [0.24124148],\n",
       "         [0.24124148],\n",
       "         [0.02883213],\n",
       "         [0.02883213],\n",
       "         [0.92015341],\n",
       "         [0.92015341],\n",
       "         [0.80035929],\n",
       "         [0.80035929],\n",
       "         [0.48670406],\n",
       "         [0.48670406],\n",
       "         [0.12165072],\n",
       "         [0.12165072],\n",
       "         [0.66305113],\n",
       "         [0.66305113],\n",
       "         [0.51063303],\n",
       "         [0.51063303],\n",
       "         [0.83550192],\n",
       "         [0.83550192],\n",
       "         [0.63076333],\n",
       "         [0.63076333],\n",
       "         [0.41920211],\n",
       "         [0.41920211],\n",
       "         [0.53277482],\n",
       "         [0.53277482],\n",
       "         [0.17043547],\n",
       "         [0.17043547],\n",
       "         [0.67956591],\n",
       "         [0.67956591],\n",
       "         [0.43584891],\n",
       "         [0.43584891],\n",
       "         [0.3094745 ],\n",
       "         [0.3094745 ],\n",
       "         [0.23453101],\n",
       "         [0.23453101],\n",
       "         [0.93124957],\n",
       "         [0.93124957],\n",
       "         [0.23475265],\n",
       "         [0.23475265],\n",
       "         [0.68005092],\n",
       "         [0.68005092],\n",
       "         [0.0434797 ],\n",
       "         [0.0434797 ],\n",
       "         [0.08342306],\n",
       "         [0.08342306],\n",
       "         [0.28707915],\n",
       "         [0.28707915],\n",
       "         [0.60339712],\n",
       "         [0.60339712],\n",
       "         [0.50270462],\n",
       "         [0.50270462],\n",
       "         [0.2777517 ],\n",
       "         [0.2777517 ],\n",
       "         [0.56993669],\n",
       "         [0.56993669],\n",
       "         [0.88771411],\n",
       "         [0.88771411],\n",
       "         [0.66166839],\n",
       "         [0.66166839],\n",
       "         [0.0628259 ],\n",
       "         [0.0628259 ],\n",
       "         [0.25463705],\n",
       "         [0.25463705],\n",
       "         [0.11922184],\n",
       "         [0.11922184],\n",
       "         [0.52855051],\n",
       "         [0.52855051],\n",
       "         [0.9117093 ],\n",
       "         [0.9117093 ],\n",
       "         [0.48165739],\n",
       "         [0.48165739],\n",
       "         [0.17939848],\n",
       "         [0.17939848],\n",
       "         [0.50889253],\n",
       "         [0.50889253],\n",
       "         [0.03854836],\n",
       "         [0.03854836],\n",
       "         [0.5475533 ],\n",
       "         [0.5475533 ],\n",
       "         [0.60056852],\n",
       "         [0.60056852],\n",
       "         [0.14350287],\n",
       "         [0.14350287],\n",
       "         [0.40047409],\n",
       "         [0.40047409],\n",
       "         [0.25824755],\n",
       "         [0.25824755],\n",
       "         [0.47501374],\n",
       "         [0.47501374],\n",
       "         [0.27452422],\n",
       "         [0.27452422],\n",
       "         [0.65517064],\n",
       "         [0.65517064],\n",
       "         [0.16671348],\n",
       "         [0.16671348],\n",
       "         [0.37290651],\n",
       "         [0.37290651],\n",
       "         [0.7779505 ],\n",
       "         [0.7779505 ],\n",
       "         [0.21502598],\n",
       "         [0.21502598],\n",
       "         [0.14514811],\n",
       "         [0.14514811],\n",
       "         [0.92198807],\n",
       "         [0.92198807],\n",
       "         [0.48615736],\n",
       "         [0.48615736],\n",
       "         [0.93188793],\n",
       "         [0.93188793],\n",
       "         [0.23465467],\n",
       "         [0.23465467],\n",
       "         [0.54832622],\n",
       "         [0.54832622],\n",
       "         [0.55627697],\n",
       "         [0.55627697],\n",
       "         [0.86715052],\n",
       "         [0.86715052]])}}"
      ]
     },
     "execution_count": 12,
     "metadata": {},
     "output_type": "execute_result"
    }
   ],
   "source": [
    "ds = load_by_id(run_id_a)\n",
    "ds.get_parameter_data('x1')"
   ]
  },
  {
   "cell_type": "code",
   "execution_count": null,
   "metadata": {},
   "outputs": [],
   "source": []
  }
 ],
 "metadata": {
  "kernelspec": {
   "display_name": "Python 3",
   "language": "python",
   "name": "python3"
  },
  "language_info": {
   "codemirror_mode": {
    "name": "ipython",
    "version": 3
   },
   "file_extension": ".py",
   "mimetype": "text/x-python",
   "name": "python",
   "nbconvert_exporter": "python",
   "pygments_lexer": "ipython3",
   "version": "3.7.7"
  },
  "nbsphinx": {
   "timeout": 600
  },
  "toc": {
   "base_numbering": 1,
   "nav_menu": {},
   "number_sections": true,
   "sideBar": true,
   "skip_h1_title": false,
   "title_cell": "Table of Contents",
   "title_sidebar": "Contents",
   "toc_cell": false,
   "toc_position": {},
   "toc_section_display": true,
   "toc_window_display": false
  },
  "varInspector": {
   "cols": {
    "lenName": 16,
    "lenType": 16,
    "lenVar": 40
   },
   "kernels_config": {
    "python": {
     "delete_cmd_postfix": "",
     "delete_cmd_prefix": "del ",
     "library": "var_list.py",
     "varRefreshCmd": "print(var_dic_list())"
    },
    "r": {
     "delete_cmd_postfix": ") ",
     "delete_cmd_prefix": "rm(",
     "library": "var_list.r",
     "varRefreshCmd": "cat(var_dic_list()) "
    }
   },
   "types_to_exclude": [
    "module",
    "function",
    "builtin_function_or_method",
    "instance",
    "_Feature"
   ],
   "window_display": false
  }
 },
 "nbformat": 4,
 "nbformat_minor": 2
}
