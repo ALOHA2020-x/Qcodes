{
 "cells": [
  {
   "cell_type": "markdown",
   "metadata": {},
   "source": [
    "# DataSet Performance\n",
    "\n",
    "This notebook shows the trade-off between inserting data into a database row-by-row and as binary blobs. Inserting the data row-by-row means that we have direct access to all the data and may perform queries directly on the values of the data. On the other hand, as we shall see, this is much slower than inserting the data directly as binary blobs."
   ]
  },
  {
   "cell_type": "markdown",
   "metadata": {},
   "source": [
    "First, we choose a new location for the database to ensure that we don't add a bunch of benchmarking data to the default one."
   ]
  },
  {
   "cell_type": "code",
   "execution_count": 1,
   "metadata": {
    "execution": {
     "iopub.execute_input": "2021-04-21T13:21:22.022096Z",
     "iopub.status.busy": "2021-04-21T13:21:22.021400Z",
     "iopub.status.idle": "2021-04-21T13:21:23.185966Z",
     "shell.execute_reply": "2021-04-21T13:21:23.185246Z"
    }
   },
   "outputs": [
    {
     "name": "stdout",
     "output_type": "stream",
     "text": [
      "Logging hadn't been started.\n",
      "Activating auto-logging. Current session state plus future input saved.\n",
      "Filename       : /home/runner/.qcodes/logs/command_history.log\n",
      "Mode           : append\n",
      "Output logging : True\n",
      "Raw input log  : False\n",
      "Timestamping   : True\n",
      "State          : active\n"
     ]
    },
    {
     "name": "stdout",
     "output_type": "stream",
     "text": [
      "Qcodes Logfile : /home/runner/.qcodes/logs/210421-4442-qcodes.log\n"
     ]
    }
   ],
   "source": [
    "import os\n",
    "cwd = os.getcwd()\n",
    "import qcodes as qc\n",
    "qc.config[\"core\"][\"db_location\"] = os.path.join(cwd, 'testing.db')\n"
   ]
  },
  {
   "cell_type": "code",
   "execution_count": 2,
   "metadata": {
    "execution": {
     "iopub.execute_input": "2021-04-21T13:21:23.193309Z",
     "iopub.status.busy": "2021-04-21T13:21:23.192625Z",
     "iopub.status.idle": "2021-04-21T13:21:23.451337Z",
     "shell.execute_reply": "2021-04-21T13:21:23.450638Z"
    }
   },
   "outputs": [],
   "source": [
    "%matplotlib inline\n",
    "import time\n",
    "import matplotlib.pyplot as plt\n",
    "import numpy as np\n",
    "\n",
    "import qcodes as qc\n",
    "from qcodes.instrument.parameter import ManualParameter\n",
    "from qcodes.dataset.experiment_container import (Experiment,\n",
    "                                                 load_last_experiment,\n",
    "                                                 new_experiment)\n",
    "from qcodes.dataset.sqlite.database import initialise_database\n",
    "from qcodes import load_or_create_experiment\n",
    "from qcodes.dataset.measurements import Measurement"
   ]
  },
  {
   "cell_type": "code",
   "execution_count": 3,
   "metadata": {
    "execution": {
     "iopub.execute_input": "2021-04-21T13:21:23.456192Z",
     "iopub.status.busy": "2021-04-21T13:21:23.455295Z",
     "iopub.status.idle": "2021-04-21T13:21:23.547183Z",
     "shell.execute_reply": "2021-04-21T13:21:23.547717Z"
    }
   },
   "outputs": [
    {
     "name": "stdout",
     "output_type": "stream",
     "text": [
      "\r",
      "0it [00:00, ?it/s]"
     ]
    },
    {
     "name": "stdout",
     "output_type": "stream",
     "text": [
      "\r",
      "Upgrading database; v0 -> v1: : 0it [00:00, ?it/s]"
     ]
    },
    {
     "name": "stdout",
     "output_type": "stream",
     "text": [
      "\r",
      "Upgrading database; v0 -> v1: : 0it [00:00, ?it/s]"
     ]
    },
    {
     "name": "stdout",
     "output_type": "stream",
     "text": [
      "\n",
      "\r",
      "  0%|          | 0/1 [00:00<?, ?it/s]"
     ]
    },
    {
     "name": "stdout",
     "output_type": "stream",
     "text": [
      "\r",
      "Upgrading database; v1 -> v2:   0%|          | 0/1 [00:00<?, ?it/s]"
     ]
    },
    {
     "name": "stdout",
     "output_type": "stream",
     "text": [
      "\r",
      "Upgrading database; v1 -> v2: 100%|██████████| 1/1 [00:00<00:00, 373.13it/s]"
     ]
    },
    {
     "name": "stdout",
     "output_type": "stream",
     "text": [
      "\n",
      "\r",
      "0it [00:00, ?it/s]"
     ]
    },
    {
     "name": "stdout",
     "output_type": "stream",
     "text": [
      "\r",
      "Upgrading database; v2 -> v3: : 0it [00:00, ?it/s]"
     ]
    },
    {
     "name": "stdout",
     "output_type": "stream",
     "text": [
      "\r",
      "Upgrading database; v2 -> v3: : 0it [00:00, ?it/s]"
     ]
    },
    {
     "name": "stdout",
     "output_type": "stream",
     "text": [
      "\n",
      "\r",
      "0it [00:00, ?it/s]"
     ]
    },
    {
     "name": "stdout",
     "output_type": "stream",
     "text": [
      "\r",
      "Upgrading database; v3 -> v4: : 0it [00:00, ?it/s]"
     ]
    },
    {
     "name": "stdout",
     "output_type": "stream",
     "text": [
      "\r",
      "Upgrading database; v3 -> v4: : 0it [00:00, ?it/s]"
     ]
    },
    {
     "name": "stdout",
     "output_type": "stream",
     "text": [
      "\n",
      "\r",
      "  0%|          | 0/1 [00:00<?, ?it/s]"
     ]
    },
    {
     "name": "stdout",
     "output_type": "stream",
     "text": [
      "\r",
      "Upgrading database; v4 -> v5:   0%|          | 0/1 [00:00<?, ?it/s]"
     ]
    },
    {
     "name": "stdout",
     "output_type": "stream",
     "text": [
      "\r",
      "Upgrading database; v4 -> v5: 100%|██████████| 1/1 [00:00<00:00, 319.32it/s]"
     ]
    },
    {
     "name": "stdout",
     "output_type": "stream",
     "text": [
      "\n",
      "\r",
      "0it [00:00, ?it/s]"
     ]
    },
    {
     "name": "stdout",
     "output_type": "stream",
     "text": [
      "\r",
      "Upgrading database; v5 -> v6: : 0it [00:00, ?it/s]"
     ]
    },
    {
     "name": "stdout",
     "output_type": "stream",
     "text": [
      "\r",
      "Upgrading database; v5 -> v6: : 0it [00:00, ?it/s]"
     ]
    },
    {
     "name": "stdout",
     "output_type": "stream",
     "text": [
      "\n",
      "\r",
      "  0%|          | 0/1 [00:00<?, ?it/s]"
     ]
    },
    {
     "name": "stdout",
     "output_type": "stream",
     "text": [
      "\r",
      "Upgrading database; v6 -> v7:   0%|          | 0/1 [00:00<?, ?it/s]"
     ]
    },
    {
     "name": "stdout",
     "output_type": "stream",
     "text": [
      "\r",
      "Upgrading database; v6 -> v7: 100%|██████████| 1/1 [00:00<00:00, 380.95it/s]"
     ]
    },
    {
     "name": "stdout",
     "output_type": "stream",
     "text": [
      "\n",
      "\r",
      "  0%|          | 0/1 [00:00<?, ?it/s]"
     ]
    },
    {
     "name": "stdout",
     "output_type": "stream",
     "text": [
      "\r",
      "Upgrading database; v7 -> v8:   0%|          | 0/1 [00:00<?, ?it/s]"
     ]
    },
    {
     "name": "stdout",
     "output_type": "stream",
     "text": [
      "\r",
      "Upgrading database; v7 -> v8: 100%|██████████| 1/1 [00:00<00:00, 478.31it/s]"
     ]
    },
    {
     "name": "stdout",
     "output_type": "stream",
     "text": [
      "\n",
      "\r",
      "  0%|          | 0/1 [00:00<?, ?it/s]"
     ]
    },
    {
     "name": "stdout",
     "output_type": "stream",
     "text": [
      "\r",
      "Upgrading database; v8 -> v9:   0%|          | 0/1 [00:00<?, ?it/s]"
     ]
    },
    {
     "name": "stdout",
     "output_type": "stream",
     "text": [
      "\r",
      "Upgrading database; v8 -> v9: 100%|██████████| 1/1 [00:00<00:00, 555.91it/s]"
     ]
    },
    {
     "name": "stdout",
     "output_type": "stream",
     "text": [
      "\n"
     ]
    }
   ],
   "source": [
    "initialise_database()\n",
    "exp = load_or_create_experiment(experiment_name='tutorial_exp', sample_name=\"no sample\")"
   ]
  },
  {
   "cell_type": "markdown",
   "metadata": {},
   "source": [
    "Here, we define a simple function to benchmark the time it takes to insert n points with either numeric or array data type.\n",
    "We will compare both the time used to call ``add_result`` and the time used for the full measurement."
   ]
  },
  {
   "cell_type": "code",
   "execution_count": 4,
   "metadata": {
    "execution": {
     "iopub.execute_input": "2021-04-21T13:21:23.557102Z",
     "iopub.status.busy": "2021-04-21T13:21:23.555723Z",
     "iopub.status.idle": "2021-04-21T13:21:23.560616Z",
     "shell.execute_reply": "2021-04-21T13:21:23.559609Z"
    }
   },
   "outputs": [],
   "source": [
    "def insert_data(paramtype, npoints, nreps=1):\n",
    "\n",
    "    meas = Measurement(exp=exp)\n",
    "\n",
    "    x1 = ManualParameter('x1')\n",
    "    x2 = ManualParameter('x2')\n",
    "    x3 = ManualParameter('x3')\n",
    "    y1 = ManualParameter('y1')\n",
    "    y2 = ManualParameter('y2')\n",
    "\n",
    "    meas.register_parameter(x1, paramtype=paramtype)\n",
    "    meas.register_parameter(x2, paramtype=paramtype)\n",
    "    meas.register_parameter(x3, paramtype=paramtype)\n",
    "    meas.register_parameter(y1, setpoints=[x1, x2, x3],\n",
    "                            paramtype=paramtype)\n",
    "    meas.register_parameter(y2, setpoints=[x1, x2, x3],\n",
    "                            paramtype=paramtype)\n",
    "    start = time.perf_counter()\n",
    "    with meas.run() as datasaver:\n",
    "        start_adding = time.perf_counter()\n",
    "        for i in range(nreps):\n",
    "            datasaver.add_result((x1, np.random.rand(npoints)),\n",
    "                                 (x2, np.random.rand(npoints)),\n",
    "                                 (x3, np.random.rand(npoints)),\n",
    "                                 (y1, np.random.rand(npoints)),\n",
    "                                 (y2, np.random.rand(npoints)))\n",
    "        stop_adding = time.perf_counter()\n",
    "        run_id = datasaver.run_id\n",
    "    stop = time.perf_counter()\n",
    "    tot_time = stop - start\n",
    "    add_time = stop_adding - start_adding\n",
    "    return tot_time, add_time, run_id"
   ]
  },
  {
   "cell_type": "markdown",
   "metadata": {},
   "source": [
    "## Comparison between numeric/array data and binary blob"
   ]
  },
  {
   "cell_type": "markdown",
   "metadata": {},
   "source": [
    "### Case1: Short experiment time"
   ]
  },
  {
   "cell_type": "code",
   "execution_count": 5,
   "metadata": {
    "execution": {
     "iopub.execute_input": "2021-04-21T13:21:23.568693Z",
     "iopub.status.busy": "2021-04-21T13:21:23.567896Z",
     "iopub.status.idle": "2021-04-21T13:21:24.469621Z",
     "shell.execute_reply": "2021-04-21T13:21:24.468989Z"
    }
   },
   "outputs": [
    {
     "name": "stdout",
     "output_type": "stream",
     "text": [
      "Starting experimental run with id: 1. \n",
      "Starting experimental run with id: 2. \n",
      "Starting experimental run with id: 3. \n",
      "Starting experimental run with id: 4. \n"
     ]
    },
    {
     "name": "stdout",
     "output_type": "stream",
     "text": [
      "Starting experimental run with id: 5. \n"
     ]
    },
    {
     "name": "stdout",
     "output_type": "stream",
     "text": [
      "Starting experimental run with id: 6. \n"
     ]
    },
    {
     "name": "stdout",
     "output_type": "stream",
     "text": [
      "Starting experimental run with id: 7. \n"
     ]
    },
    {
     "name": "stdout",
     "output_type": "stream",
     "text": [
      "Starting experimental run with id: 8. \n",
      "Starting experimental run with id: 9. \n"
     ]
    },
    {
     "name": "stdout",
     "output_type": "stream",
     "text": [
      "Starting experimental run with id: 10. \n",
      "Starting experimental run with id: 11. \n"
     ]
    },
    {
     "name": "stdout",
     "output_type": "stream",
     "text": [
      "Starting experimental run with id: 12. \n",
      "Starting experimental run with id: 13. \n"
     ]
    },
    {
     "name": "stdout",
     "output_type": "stream",
     "text": [
      "Starting experimental run with id: 14. \n"
     ]
    }
   ],
   "source": [
    "sizes = [1,500,1000,2000,3000,4000,5000]\n",
    "t_numeric = []\n",
    "t_numeric_add = []\n",
    "t_array = []\n",
    "t_array_add = []\n",
    "for size in sizes:\n",
    "    tn, tna, run_id_n =  insert_data('numeric', size)\n",
    "    t_numeric.append(tn)\n",
    "    t_numeric_add.append(tna)\n",
    "\n",
    "    ta, taa, run_id_a =  insert_data('array', size)\n",
    "    t_array.append(ta)\n",
    "    t_array_add.append(taa)"
   ]
  },
  {
   "cell_type": "code",
   "execution_count": 6,
   "metadata": {
    "execution": {
     "iopub.execute_input": "2021-04-21T13:21:24.505691Z",
     "iopub.status.busy": "2021-04-21T13:21:24.503241Z",
     "iopub.status.idle": "2021-04-21T13:21:24.701996Z",
     "shell.execute_reply": "2021-04-21T13:21:24.702897Z"
    }
   },
   "outputs": [
    {
     "data": {
      "image/png": "[encoded data removed]",
      "text/plain": [
       "<Figure size 432x288 with 1 Axes>"
      ]
     },
     "metadata": {
      "needs_background": "light"
     },
     "output_type": "display_data"
    }
   ],
   "source": [
    "fig, ax = plt.subplots(1,1)\n",
    "ax.plot(sizes, t_numeric, 'o-', label='Inserting row-by-row')\n",
    "ax.plot(sizes, t_numeric_add, 'o-', label='Inserting row-by-row: add_result only')\n",
    "ax.plot(sizes, t_array, 'd-', label='Inserting as binary blob')\n",
    "ax.plot(sizes, t_array_add, 'd-', label='Inserting as binary blob: add_result only')\n",
    "ax.legend()\n",
    "ax.set_xlabel('Array length')\n",
    "ax.set_ylabel('Time (s)')\n",
    "fig.tight_layout()"
   ]
  },
  {
   "cell_type": "markdown",
   "metadata": {},
   "source": [
    "As shown in the latter figure, the time to setup and and close the experiment is approximately 0.4 sec. In case of small array sizes, the difference between inserting values of data as arrays and inserting them row-by-row is relatively unimportant. At larger array sizes, i.e. above 10000 points, the cost of writing data as individual datapoints starts to become important.\n"
   ]
  },
  {
   "cell_type": "markdown",
   "metadata": {},
   "source": [
    "### Case2: Long experiment time "
   ]
  },
  {
   "cell_type": "code",
   "execution_count": 7,
   "metadata": {
    "execution": {
     "iopub.execute_input": "2021-04-21T13:21:24.709555Z",
     "iopub.status.busy": "2021-04-21T13:21:24.708222Z",
     "iopub.status.idle": "2021-04-21T13:22:22.634993Z",
     "shell.execute_reply": "2021-04-21T13:22:22.635526Z"
    }
   },
   "outputs": [
    {
     "name": "stdout",
     "output_type": "stream",
     "text": [
      "Starting experimental run with id: 15. \n",
      "Starting experimental run with id: 16. \n"
     ]
    },
    {
     "name": "stdout",
     "output_type": "stream",
     "text": [
      "Starting experimental run with id: 17. \n"
     ]
    },
    {
     "name": "stdout",
     "output_type": "stream",
     "text": [
      "Starting experimental run with id: 18. \n"
     ]
    },
    {
     "name": "stdout",
     "output_type": "stream",
     "text": [
      "Starting experimental run with id: 19. \n"
     ]
    },
    {
     "name": "stdout",
     "output_type": "stream",
     "text": [
      "Starting experimental run with id: 20. \n"
     ]
    },
    {
     "name": "stdout",
     "output_type": "stream",
     "text": [
      "Starting experimental run with id: 21. \n"
     ]
    },
    {
     "name": "stdout",
     "output_type": "stream",
     "text": [
      "Starting experimental run with id: 22. \n"
     ]
    },
    {
     "name": "stdout",
     "output_type": "stream",
     "text": [
      "Starting experimental run with id: 23. \n"
     ]
    },
    {
     "name": "stdout",
     "output_type": "stream",
     "text": [
      "Starting experimental run with id: 24. \n"
     ]
    },
    {
     "name": "stdout",
     "output_type": "stream",
     "text": [
      "Starting experimental run with id: 25. \n"
     ]
    },
    {
     "name": "stdout",
     "output_type": "stream",
     "text": [
      "Starting experimental run with id: 26. \n"
     ]
    },
    {
     "name": "stdout",
     "output_type": "stream",
     "text": [
      "Starting experimental run with id: 27. \n"
     ]
    },
    {
     "name": "stdout",
     "output_type": "stream",
     "text": [
      "Starting experimental run with id: 28. \n"
     ]
    }
   ],
   "source": [
    "sizes = [1,500,1000,2000,3000,4000,5000]\n",
    "nreps = 100\n",
    "t_numeric = []\n",
    "t_numeric_add = []\n",
    "t_numeric_run_ids = []\n",
    "t_array = []\n",
    "t_array_add = []\n",
    "t_array_run_ids = []\n",
    "for size in sizes:\n",
    "    tn, tna, run_id_n =  insert_data('numeric', size, nreps=nreps)\n",
    "    t_numeric.append(tn)\n",
    "    t_numeric_add.append(tna)\n",
    "    t_numeric_run_ids.append(run_id_n)\n",
    "\n",
    "    ta, taa, run_id_a =  insert_data('array', size, nreps=nreps)\n",
    "    t_array.append(ta)\n",
    "    t_array_add.append(taa)\n",
    "    t_array_run_ids.append(run_id_a)"
   ]
  },
  {
   "cell_type": "code",
   "execution_count": 8,
   "metadata": {
    "execution": {
     "iopub.execute_input": "2021-04-21T13:22:22.684162Z",
     "iopub.status.busy": "2021-04-21T13:22:22.654929Z",
     "iopub.status.idle": "2021-04-21T13:22:22.854962Z",
     "shell.execute_reply": "2021-04-21T13:22:22.854340Z"
    },
    "scrolled": true
   },
   "outputs": [
    {
     "data": {
      "image/png": "[encoded data removed]",
      "text/plain": [
       "<Figure size 432x288 with 1 Axes>"
      ]
     },
     "metadata": {
      "needs_background": "light"
     },
     "output_type": "display_data"
    }
   ],
   "source": [
    "fig, ax = plt.subplots(1,1)\n",
    "ax.plot(sizes, t_numeric, 'o-', label='Inserting row-by-row')\n",
    "ax.plot(sizes, t_numeric_add, 'o-', label='Inserting row-by-row: add_result only')\n",
    "ax.plot(sizes, t_array, 'd-', label='Inserting as binary blob')\n",
    "ax.plot(sizes, t_array_add, 'd-', label='Inserting as binary blob: add_result only')\n",
    "ax.legend()\n",
    "ax.set_xlabel('Array length')\n",
    "ax.set_ylabel('Time (s)')\n",
    "fig.tight_layout()"
   ]
  },
  {
   "cell_type": "markdown",
   "metadata": {},
   "source": [
    "However, as we increase the length of the experiment, as seen here by repeating the insertion 100 times, we see a big difference between inserting values of the data row-by-row and inserting it as a binary blob."
   ]
  },
  {
   "cell_type": "markdown",
   "metadata": {},
   "source": [
    "## Loading the data "
   ]
  },
  {
   "cell_type": "code",
   "execution_count": 9,
   "metadata": {
    "execution": {
     "iopub.execute_input": "2021-04-21T13:22:22.859763Z",
     "iopub.status.busy": "2021-04-21T13:22:22.859125Z",
     "iopub.status.idle": "2021-04-21T13:22:22.863060Z",
     "shell.execute_reply": "2021-04-21T13:22:22.862496Z"
    }
   },
   "outputs": [],
   "source": [
    "from qcodes.dataset.data_set import load_by_id"
   ]
  },
  {
   "cell_type": "markdown",
   "metadata": {},
   "source": [
    "As usual you can load the data by using the ``load_by_id`` function but you will notice that the different storage methods\n",
    "are reflected in shape of the data as it is retrieved. "
   ]
  },
  {
   "cell_type": "code",
   "execution_count": 10,
   "metadata": {
    "execution": {
     "iopub.execute_input": "2021-04-21T13:22:22.868153Z",
     "iopub.status.busy": "2021-04-21T13:22:22.866719Z",
     "iopub.status.idle": "2021-04-21T13:22:22.868916Z",
     "shell.execute_reply": "2021-04-21T13:22:22.869434Z"
    }
   },
   "outputs": [],
   "source": [
    "run_id_n = t_numeric_run_ids[0]\n",
    "run_id_a = t_array_run_ids[0]"
   ]
  },
  {
   "cell_type": "code",
   "execution_count": 11,
   "metadata": {
    "execution": {
     "iopub.execute_input": "2021-04-21T13:22:22.873007Z",
     "iopub.status.busy": "2021-04-21T13:22:22.872395Z",
     "iopub.status.idle": "2021-04-21T13:22:22.926578Z",
     "shell.execute_reply": "2021-04-21T13:22:22.927147Z"
    },
    "scrolled": true
   },
   "outputs": [
    {
     "data": {
      "text/plain": [
       "{'x1': {'x1': array([0.88943231, 0.88943231, 0.37706621, 0.37706621, 0.82144001,\n",
       "         0.82144001, 0.70699763, 0.70699763, 0.37269998, 0.37269998,\n",
       "         0.51820017, 0.51820017, 0.70628307, 0.70628307, 0.60359781,\n",
       "         0.60359781, 0.51358759, 0.51358759, 0.01164375, 0.01164375,\n",
       "         0.76131897, 0.76131897, 0.9762221 , 0.9762221 , 0.53371843,\n",
       "         0.53371843, 0.88652754, 0.88652754, 0.72400714, 0.72400714,\n",
       "         0.12751911, 0.12751911, 0.83535616, 0.83535616, 0.49631846,\n",
       "         0.49631846, 0.24002887, 0.24002887, 0.15256824, 0.15256824,\n",
       "         0.13043692, 0.13043692, 0.48309249, 0.48309249, 0.55125969,\n",
       "         0.55125969, 0.91318559, 0.91318559, 0.48083417, 0.48083417,\n",
       "         0.25828118, 0.25828118, 0.32845515, 0.32845515, 0.32048019,\n",
       "         0.32048019, 0.33148437, 0.33148437, 0.27534075, 0.27534075,\n",
       "         0.66512547, 0.66512547, 0.82120936, 0.82120936, 0.65704497,\n",
       "         0.65704497, 0.65874115, 0.65874115, 0.24924177, 0.24924177,\n",
       "         0.95885675, 0.95885675, 0.19826578, 0.19826578, 0.09465351,\n",
       "         0.09465351, 0.71849241, 0.71849241, 0.22568472, 0.22568472,\n",
       "         0.38659781, 0.38659781, 0.58100986, 0.58100986, 0.20755019,\n",
       "         0.20755019, 0.26036919, 0.26036919, 0.47595351, 0.47595351,\n",
       "         0.29826839, 0.29826839, 0.56325724, 0.56325724, 0.51582163,\n",
       "         0.51582163, 0.18762402, 0.18762402, 0.50523275, 0.50523275,\n",
       "         0.76600903, 0.76600903, 0.46051922, 0.46051922, 0.72093254,\n",
       "         0.72093254, 0.27926406, 0.27926406, 0.254395  , 0.254395  ,\n",
       "         0.89547507, 0.89547507, 0.36122121, 0.36122121, 0.71238103,\n",
       "         0.71238103, 0.01580085, 0.01580085, 0.64706751, 0.64706751,\n",
       "         0.65943976, 0.65943976, 0.29236068, 0.29236068, 0.96992834,\n",
       "         0.96992834, 0.7834981 , 0.7834981 , 0.86453061, 0.86453061,\n",
       "         0.32290842, 0.32290842, 0.18527792, 0.18527792, 0.89396142,\n",
       "         0.89396142, 0.34323482, 0.34323482, 0.50953878, 0.50953878,\n",
       "         0.32149796, 0.32149796, 0.72394642, 0.72394642, 0.13691895,\n",
       "         0.13691895, 0.48700196, 0.48700196, 0.14012899, 0.14012899,\n",
       "         0.58324666, 0.58324666, 0.17835475, 0.17835475, 0.36744579,\n",
       "         0.36744579, 0.53307395, 0.53307395, 0.79320311, 0.79320311,\n",
       "         0.82652662, 0.82652662, 0.03024225, 0.03024225, 0.62753495,\n",
       "         0.62753495, 0.48830616, 0.48830616, 0.33559682, 0.33559682,\n",
       "         0.73132897, 0.73132897, 0.63388665, 0.63388665, 0.92209565,\n",
       "         0.92209565, 0.54610764, 0.54610764, 0.87668371, 0.87668371,\n",
       "         0.20507431, 0.20507431, 0.51892033, 0.51892033, 0.66172419,\n",
       "         0.66172419, 0.48001653, 0.48001653, 0.48972122, 0.48972122,\n",
       "         0.84402037, 0.84402037, 0.94074988, 0.94074988, 0.53226542,\n",
       "         0.53226542, 0.84568933, 0.84568933, 0.81134665, 0.81134665])}}"
      ]
     },
     "execution_count": 1,
     "metadata": {},
     "output_type": "execute_result"
    }
   ],
   "source": [
    "ds = load_by_id(run_id_n)\n",
    "ds.get_parameter_data('x1')"
   ]
  },
  {
   "cell_type": "markdown",
   "metadata": {},
   "source": [
    "And a dataset stored as binary arrays"
   ]
  },
  {
   "cell_type": "code",
   "execution_count": 12,
   "metadata": {
    "execution": {
     "iopub.execute_input": "2021-04-21T13:22:22.931329Z",
     "iopub.status.busy": "2021-04-21T13:22:22.930690Z",
     "iopub.status.idle": "2021-04-21T13:22:22.993245Z",
     "shell.execute_reply": "2021-04-21T13:22:22.993766Z"
    },
    "scrolled": true
   },
   "outputs": [
    {
     "data": {
      "text/plain": [
       "{'x1': {'x1': array([[0.76441897],\n",
       "         [0.76441897],\n",
       "         [0.44879015],\n",
       "         [0.44879015],\n",
       "         [0.47451986],\n",
       "         [0.47451986],\n",
       "         [0.37601278],\n",
       "         [0.37601278],\n",
       "         [0.16943418],\n",
       "         [0.16943418],\n",
       "         [0.82796777],\n",
       "         [0.82796777],\n",
       "         [0.28322795],\n",
       "         [0.28322795],\n",
       "         [0.42536795],\n",
       "         [0.42536795],\n",
       "         [0.53975407],\n",
       "         [0.53975407],\n",
       "         [0.81235645],\n",
       "         [0.81235645],\n",
       "         [0.17826742],\n",
       "         [0.17826742],\n",
       "         [0.65903416],\n",
       "         [0.65903416],\n",
       "         [0.57763049],\n",
       "         [0.57763049],\n",
       "         [0.78366261],\n",
       "         [0.78366261],\n",
       "         [0.39765923],\n",
       "         [0.39765923],\n",
       "         [0.80400313],\n",
       "         [0.80400313],\n",
       "         [0.39333891],\n",
       "         [0.39333891],\n",
       "         [0.62280462],\n",
       "         [0.62280462],\n",
       "         [0.87539427],\n",
       "         [0.87539427],\n",
       "         [0.83724745],\n",
       "         [0.83724745],\n",
       "         [0.64247163],\n",
       "         [0.64247163],\n",
       "         [0.77411921],\n",
       "         [0.77411921],\n",
       "         [0.50974646],\n",
       "         [0.50974646],\n",
       "         [0.34209023],\n",
       "         [0.34209023],\n",
       "         [0.10656037],\n",
       "         [0.10656037],\n",
       "         [0.31235924],\n",
       "         [0.31235924],\n",
       "         [0.12541696],\n",
       "         [0.12541696],\n",
       "         [0.59615519],\n",
       "         [0.59615519],\n",
       "         [0.67726672],\n",
       "         [0.67726672],\n",
       "         [0.43636547],\n",
       "         [0.43636547],\n",
       "         [0.81456707],\n",
       "         [0.81456707],\n",
       "         [0.15669467],\n",
       "         [0.15669467],\n",
       "         [0.72927618],\n",
       "         [0.72927618],\n",
       "         [0.63212473],\n",
       "         [0.63212473],\n",
       "         [0.43197284],\n",
       "         [0.43197284],\n",
       "         [0.09365523],\n",
       "         [0.09365523],\n",
       "         [0.71880958],\n",
       "         [0.71880958],\n",
       "         [0.15535407],\n",
       "         [0.15535407],\n",
       "         [0.04772946],\n",
       "         [0.04772946],\n",
       "         [0.38219806],\n",
       "         [0.38219806],\n",
       "         [0.77048493],\n",
       "         [0.77048493],\n",
       "         [0.57464882],\n",
       "         [0.57464882],\n",
       "         [0.26630628],\n",
       "         [0.26630628],\n",
       "         [0.93791039],\n",
       "         [0.93791039],\n",
       "         [0.19171019],\n",
       "         [0.19171019],\n",
       "         [0.89772655],\n",
       "         [0.89772655],\n",
       "         [0.35101431],\n",
       "         [0.35101431],\n",
       "         [0.63856388],\n",
       "         [0.63856388],\n",
       "         [0.79415229],\n",
       "         [0.79415229],\n",
       "         [0.00968526],\n",
       "         [0.00968526],\n",
       "         [0.790188  ],\n",
       "         [0.790188  ],\n",
       "         [0.83167436],\n",
       "         [0.83167436],\n",
       "         [0.27952433],\n",
       "         [0.27952433],\n",
       "         [0.77356975],\n",
       "         [0.77356975],\n",
       "         [0.22791579],\n",
       "         [0.22791579],\n",
       "         [0.459994  ],\n",
       "         [0.459994  ],\n",
       "         [0.60426336],\n",
       "         [0.60426336],\n",
       "         [0.22223897],\n",
       "         [0.22223897],\n",
       "         [0.94267232],\n",
       "         [0.94267232],\n",
       "         [0.95109514],\n",
       "         [0.95109514],\n",
       "         [0.24995252],\n",
       "         [0.24995252],\n",
       "         [0.37464123],\n",
       "         [0.37464123],\n",
       "         [0.80697432],\n",
       "         [0.80697432],\n",
       "         [0.44717624],\n",
       "         [0.44717624],\n",
       "         [0.72993968],\n",
       "         [0.72993968],\n",
       "         [0.41033318],\n",
       "         [0.41033318],\n",
       "         [0.50205255],\n",
       "         [0.50205255],\n",
       "         [0.653129  ],\n",
       "         [0.653129  ],\n",
       "         [0.96224439],\n",
       "         [0.96224439],\n",
       "         [0.1346813 ],\n",
       "         [0.1346813 ],\n",
       "         [0.96692059],\n",
       "         [0.96692059],\n",
       "         [0.82358738],\n",
       "         [0.82358738],\n",
       "         [0.71191539],\n",
       "         [0.71191539],\n",
       "         [0.60607381],\n",
       "         [0.60607381],\n",
       "         [0.05562777],\n",
       "         [0.05562777],\n",
       "         [0.85429774],\n",
       "         [0.85429774],\n",
       "         [0.86926229],\n",
       "         [0.86926229],\n",
       "         [0.31785456],\n",
       "         [0.31785456],\n",
       "         [0.45257861],\n",
       "         [0.45257861],\n",
       "         [0.40309853],\n",
       "         [0.40309853],\n",
       "         [0.827507  ],\n",
       "         [0.827507  ],\n",
       "         [0.17769184],\n",
       "         [0.17769184],\n",
       "         [0.31247388],\n",
       "         [0.31247388],\n",
       "         [0.45860884],\n",
       "         [0.45860884],\n",
       "         [0.71050793],\n",
       "         [0.71050793],\n",
       "         [0.32789286],\n",
       "         [0.32789286],\n",
       "         [0.96667908],\n",
       "         [0.96667908],\n",
       "         [0.47037606],\n",
       "         [0.47037606],\n",
       "         [0.8269218 ],\n",
       "         [0.8269218 ],\n",
       "         [0.58006924],\n",
       "         [0.58006924],\n",
       "         [0.68738127],\n",
       "         [0.68738127],\n",
       "         [0.90121291],\n",
       "         [0.90121291],\n",
       "         [0.07989639],\n",
       "         [0.07989639],\n",
       "         [0.63539999],\n",
       "         [0.63539999],\n",
       "         [0.33876856],\n",
       "         [0.33876856],\n",
       "         [0.8256176 ],\n",
       "         [0.8256176 ],\n",
       "         [0.40189261],\n",
       "         [0.40189261],\n",
       "         [0.09531265],\n",
       "         [0.09531265],\n",
       "         [0.71270529],\n",
       "         [0.71270529],\n",
       "         [0.47178562],\n",
       "         [0.47178562]])}}"
      ]
     },
     "execution_count": 1,
     "metadata": {},
     "output_type": "execute_result"
    }
   ],
   "source": [
    "ds = load_by_id(run_id_a)\n",
    "ds.get_parameter_data('x1')"
   ]
  },
  {
   "cell_type": "code",
   "execution_count": null,
   "metadata": {},
   "outputs": [],
   "source": []
  }
 ],
 "metadata": {
  "kernelspec": {
   "display_name": "Python 3",
   "language": "python",
   "name": "python3"
  },
  "language_info": {
   "codemirror_mode": {
    "name": "ipython",
    "version": 3
   },
   "file_extension": ".py",
   "mimetype": "text/x-python",
   "name": "python",
   "nbconvert_exporter": "python",
   "pygments_lexer": "ipython3",
   "version": "3.7.10"
  },
  "nbsphinx": {
   "timeout": 600
  },
  "toc": {
   "base_numbering": 1,
   "nav_menu": {},
   "number_sections": true,
   "sideBar": true,
   "skip_h1_title": false,
   "title_cell": "Table of Contents",
   "title_sidebar": "Contents",
   "toc_cell": false,
   "toc_position": {},
   "toc_section_display": true,
   "toc_window_display": false
  },
  "varInspector": {
   "cols": {
    "lenName": 16,
    "lenType": 16,
    "lenVar": 40
   },
   "kernels_config": {
    "python": {
     "delete_cmd_postfix": "",
     "delete_cmd_prefix": "del ",
     "library": "var_list.py",
     "varRefreshCmd": "print(var_dic_list())"
    },
    "r": {
     "delete_cmd_postfix": ") ",
     "delete_cmd_prefix": "rm(",
     "library": "var_list.r",
     "varRefreshCmd": "cat(var_dic_list()) "
    }
   },
   "types_to_exclude": [
    "module",
    "function",
    "builtin_function_or_method",
    "instance",
    "_Feature"
   ],
   "window_display": false
  }
 },
 "nbformat": 4,
 "nbformat_minor": 4
}
