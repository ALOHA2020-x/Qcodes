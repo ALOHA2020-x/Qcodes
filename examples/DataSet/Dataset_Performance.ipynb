{
 "cells": [
  {
   "cell_type": "markdown",
   "metadata": {},
   "source": [
    "# DataSet Performance\n",
    "\n",
    "This notebook shows the trade-off between inserting data into a database row-by-row and as binary blobs. Inserting the data row-by-row means that we have direct access to all the data and may perform queries directly on the values of the data. On the other hand, as we shall see, this is much slower than inserting the data directly as binary blobs."
   ]
  },
  {
   "cell_type": "markdown",
   "metadata": {},
   "source": [
    "First, we choose a new location for the database to ensure that we don't add a bunch of benchmarking data to the default one."
   ]
  },
  {
   "cell_type": "code",
   "execution_count": 1,
   "metadata": {
    "execution": {
     "iopub.execute_input": "2021-05-12T08:13:03.199666Z",
     "iopub.status.busy": "2021-05-12T08:13:03.199014Z",
     "iopub.status.idle": "2021-05-12T08:13:04.421577Z",
     "shell.execute_reply": "2021-05-12T08:13:04.420260Z"
    }
   },
   "outputs": [
    {
     "name": "stdout",
     "output_type": "stream",
     "text": [
      "Logging hadn't been started.\n",
      "Activating auto-logging. Current session state plus future input saved.\n",
      "Filename       : /home/runner/.qcodes/logs/command_history.log\n",
      "Mode           : append\n",
      "Output logging : True\n",
      "Raw input log  : False\n",
      "Timestamping   : True\n",
      "State          : active\n"
     ]
    },
    {
     "name": "stdout",
     "output_type": "stream",
     "text": [
      "Qcodes Logfile : /home/runner/.qcodes/logs/210512-4862-qcodes.log\n"
     ]
    }
   ],
   "source": [
    "import os\n",
    "cwd = os.getcwd()\n",
    "import qcodes as qc\n",
    "qc.config[\"core\"][\"db_location\"] = os.path.join(cwd, 'testing.db')\n"
   ]
  },
  {
   "cell_type": "code",
   "execution_count": 2,
   "metadata": {
    "execution": {
     "iopub.execute_input": "2021-05-12T08:13:04.429154Z",
     "iopub.status.busy": "2021-05-12T08:13:04.428003Z",
     "iopub.status.idle": "2021-05-12T08:13:04.635040Z",
     "shell.execute_reply": "2021-05-12T08:13:04.634509Z"
    }
   },
   "outputs": [],
   "source": [
    "%matplotlib inline\n",
    "import time\n",
    "import matplotlib.pyplot as plt\n",
    "import numpy as np\n",
    "\n",
    "import qcodes as qc\n",
    "from qcodes.instrument.parameter import ManualParameter\n",
    "from qcodes.dataset.experiment_container import (Experiment,\n",
    "                                                 load_last_experiment,\n",
    "                                                 new_experiment)\n",
    "from qcodes.dataset.sqlite.database import initialise_database\n",
    "from qcodes import load_or_create_experiment\n",
    "from qcodes.dataset.measurements import Measurement"
   ]
  },
  {
   "cell_type": "code",
   "execution_count": 3,
   "metadata": {
    "execution": {
     "iopub.execute_input": "2021-05-12T08:13:04.639456Z",
     "iopub.status.busy": "2021-05-12T08:13:04.638717Z",
     "iopub.status.idle": "2021-05-12T08:13:04.717260Z",
     "shell.execute_reply": "2021-05-12T08:13:04.717859Z"
    }
   },
   "outputs": [
    {
     "name": "stdout",
     "output_type": "stream",
     "text": [
      "\r",
      "0it [00:00, ?it/s]"
     ]
    },
    {
     "name": "stdout",
     "output_type": "stream",
     "text": [
      "\r",
      "Upgrading database; v0 -> v1: : 0it [00:00, ?it/s]"
     ]
    },
    {
     "name": "stdout",
     "output_type": "stream",
     "text": [
      "\r",
      "Upgrading database; v0 -> v1: : 0it [00:00, ?it/s]"
     ]
    },
    {
     "name": "stdout",
     "output_type": "stream",
     "text": [
      "\n",
      "\r",
      "  0%|          | 0/1 [00:00<?, ?it/s]"
     ]
    },
    {
     "name": "stdout",
     "output_type": "stream",
     "text": [
      "\r",
      "Upgrading database; v1 -> v2:   0%|          | 0/1 [00:00<?, ?it/s]"
     ]
    },
    {
     "name": "stdout",
     "output_type": "stream",
     "text": [
      "\r",
      "Upgrading database; v1 -> v2: 100%|██████████| 1/1 [00:00<00:00, 353.47it/s]"
     ]
    },
    {
     "name": "stdout",
     "output_type": "stream",
     "text": [
      "\n",
      "\r",
      "0it [00:00, ?it/s]"
     ]
    },
    {
     "name": "stdout",
     "output_type": "stream",
     "text": [
      "\r",
      "Upgrading database; v2 -> v3: : 0it [00:00, ?it/s]"
     ]
    },
    {
     "name": "stdout",
     "output_type": "stream",
     "text": [
      "\r",
      "Upgrading database; v2 -> v3: : 0it [00:00, ?it/s]"
     ]
    },
    {
     "name": "stdout",
     "output_type": "stream",
     "text": [
      "\n",
      "\r",
      "0it [00:00, ?it/s]"
     ]
    },
    {
     "name": "stdout",
     "output_type": "stream",
     "text": [
      "\r",
      "Upgrading database; v3 -> v4: : 0it [00:00, ?it/s]"
     ]
    },
    {
     "name": "stdout",
     "output_type": "stream",
     "text": [
      "\r",
      "Upgrading database; v3 -> v4: : 0it [00:00, ?it/s]"
     ]
    },
    {
     "name": "stdout",
     "output_type": "stream",
     "text": [
      "\n",
      "\r",
      "  0%|          | 0/1 [00:00<?, ?it/s]"
     ]
    },
    {
     "name": "stdout",
     "output_type": "stream",
     "text": [
      "\r",
      "Upgrading database; v4 -> v5:   0%|          | 0/1 [00:00<?, ?it/s]"
     ]
    },
    {
     "name": "stdout",
     "output_type": "stream",
     "text": [
      "\r",
      "Upgrading database; v4 -> v5: 100%|██████████| 1/1 [00:00<00:00, 657.11it/s]"
     ]
    },
    {
     "name": "stdout",
     "output_type": "stream",
     "text": [
      "\n",
      "\r",
      "0it [00:00, ?it/s]"
     ]
    },
    {
     "name": "stdout",
     "output_type": "stream",
     "text": [
      "\r",
      "Upgrading database; v5 -> v6: : 0it [00:00, ?it/s]"
     ]
    },
    {
     "name": "stdout",
     "output_type": "stream",
     "text": [
      "\r",
      "Upgrading database; v5 -> v6: : 0it [00:00, ?it/s]"
     ]
    },
    {
     "name": "stdout",
     "output_type": "stream",
     "text": [
      "\n",
      "\r",
      "  0%|          | 0/1 [00:00<?, ?it/s]"
     ]
    },
    {
     "name": "stdout",
     "output_type": "stream",
     "text": [
      "\r",
      "Upgrading database; v6 -> v7:   0%|          | 0/1 [00:00<?, ?it/s]"
     ]
    },
    {
     "name": "stdout",
     "output_type": "stream",
     "text": [
      "\r",
      "Upgrading database; v6 -> v7: 100%|██████████| 1/1 [00:00<00:00, 302.14it/s]"
     ]
    },
    {
     "name": "stdout",
     "output_type": "stream",
     "text": [
      "\n",
      "\r",
      "  0%|          | 0/1 [00:00<?, ?it/s]"
     ]
    },
    {
     "name": "stdout",
     "output_type": "stream",
     "text": [
      "\r",
      "Upgrading database; v7 -> v8:   0%|          | 0/1 [00:00<?, ?it/s]"
     ]
    },
    {
     "name": "stdout",
     "output_type": "stream",
     "text": [
      "\r",
      "Upgrading database; v7 -> v8: 100%|██████████| 1/1 [00:00<00:00, 556.35it/s]"
     ]
    },
    {
     "name": "stdout",
     "output_type": "stream",
     "text": [
      "\n",
      "\r",
      "  0%|          | 0/1 [00:00<?, ?it/s]"
     ]
    },
    {
     "name": "stdout",
     "output_type": "stream",
     "text": [
      "\r",
      "Upgrading database; v8 -> v9:   0%|          | 0/1 [00:00<?, ?it/s]"
     ]
    },
    {
     "name": "stdout",
     "output_type": "stream",
     "text": [
      "\r",
      "Upgrading database; v8 -> v9: 100%|██████████| 1/1 [00:00<00:00, 868.03it/s]"
     ]
    },
    {
     "name": "stdout",
     "output_type": "stream",
     "text": [
      "\n"
     ]
    }
   ],
   "source": [
    "initialise_database()\n",
    "exp = load_or_create_experiment(experiment_name='tutorial_exp', sample_name=\"no sample\")"
   ]
  },
  {
   "cell_type": "markdown",
   "metadata": {},
   "source": [
    "Here, we define a simple function to benchmark the time it takes to insert n points with either numeric or array data type.\n",
    "We will compare both the time used to call ``add_result`` and the time used for the full measurement."
   ]
  },
  {
   "cell_type": "code",
   "execution_count": 4,
   "metadata": {
    "execution": {
     "iopub.execute_input": "2021-05-12T08:13:04.728297Z",
     "iopub.status.busy": "2021-05-12T08:13:04.726911Z",
     "iopub.status.idle": "2021-05-12T08:13:04.728978Z",
     "shell.execute_reply": "2021-05-12T08:13:04.729498Z"
    }
   },
   "outputs": [],
   "source": [
    "def insert_data(paramtype, npoints, nreps=1):\n",
    "\n",
    "    meas = Measurement(exp=exp)\n",
    "\n",
    "    x1 = ManualParameter('x1')\n",
    "    x2 = ManualParameter('x2')\n",
    "    x3 = ManualParameter('x3')\n",
    "    y1 = ManualParameter('y1')\n",
    "    y2 = ManualParameter('y2')\n",
    "\n",
    "    meas.register_parameter(x1, paramtype=paramtype)\n",
    "    meas.register_parameter(x2, paramtype=paramtype)\n",
    "    meas.register_parameter(x3, paramtype=paramtype)\n",
    "    meas.register_parameter(y1, setpoints=[x1, x2, x3],\n",
    "                            paramtype=paramtype)\n",
    "    meas.register_parameter(y2, setpoints=[x1, x2, x3],\n",
    "                            paramtype=paramtype)\n",
    "    start = time.perf_counter()\n",
    "    with meas.run() as datasaver:\n",
    "        start_adding = time.perf_counter()\n",
    "        for i in range(nreps):\n",
    "            datasaver.add_result((x1, np.random.rand(npoints)),\n",
    "                                 (x2, np.random.rand(npoints)),\n",
    "                                 (x3, np.random.rand(npoints)),\n",
    "                                 (y1, np.random.rand(npoints)),\n",
    "                                 (y2, np.random.rand(npoints)))\n",
    "        stop_adding = time.perf_counter()\n",
    "        run_id = datasaver.run_id\n",
    "    stop = time.perf_counter()\n",
    "    tot_time = stop - start\n",
    "    add_time = stop_adding - start_adding\n",
    "    return tot_time, add_time, run_id"
   ]
  },
  {
   "cell_type": "markdown",
   "metadata": {},
   "source": [
    "## Comparison between numeric/array data and binary blob"
   ]
  },
  {
   "cell_type": "markdown",
   "metadata": {},
   "source": [
    "### Case1: Short experiment time"
   ]
  },
  {
   "cell_type": "code",
   "execution_count": 5,
   "metadata": {
    "execution": {
     "iopub.execute_input": "2021-05-12T08:13:04.736813Z",
     "iopub.status.busy": "2021-05-12T08:13:04.735250Z",
     "iopub.status.idle": "2021-05-12T08:13:05.655159Z",
     "shell.execute_reply": "2021-05-12T08:13:05.653855Z"
    }
   },
   "outputs": [
    {
     "name": "stdout",
     "output_type": "stream",
     "text": [
      "Starting experimental run with id: 1. \n",
      "Starting experimental run with id: 2. \n",
      "Starting experimental run with id: 3. \n"
     ]
    },
    {
     "name": "stdout",
     "output_type": "stream",
     "text": [
      "Starting experimental run with id: 4. \n"
     ]
    },
    {
     "name": "stdout",
     "output_type": "stream",
     "text": [
      "Starting experimental run with id: 5. \n"
     ]
    },
    {
     "name": "stdout",
     "output_type": "stream",
     "text": [
      "Starting experimental run with id: 6. \n",
      "Starting experimental run with id: 7. \n",
      "Starting experimental run with id: 8. \n"
     ]
    },
    {
     "name": "stdout",
     "output_type": "stream",
     "text": [
      "Starting experimental run with id: 9. \n"
     ]
    },
    {
     "name": "stdout",
     "output_type": "stream",
     "text": [
      "Starting experimental run with id: 10. \n",
      "Starting experimental run with id: 11. \n"
     ]
    },
    {
     "name": "stdout",
     "output_type": "stream",
     "text": [
      "Starting experimental run with id: 12. \n"
     ]
    },
    {
     "name": "stdout",
     "output_type": "stream",
     "text": [
      "Starting experimental run with id: 13. \n"
     ]
    },
    {
     "name": "stdout",
     "output_type": "stream",
     "text": [
      "Starting experimental run with id: 14. \n"
     ]
    }
   ],
   "source": [
    "sizes = [1,500,1000,2000,3000,4000,5000]\n",
    "t_numeric = []\n",
    "t_numeric_add = []\n",
    "t_array = []\n",
    "t_array_add = []\n",
    "for size in sizes:\n",
    "    tn, tna, run_id_n =  insert_data('numeric', size)\n",
    "    t_numeric.append(tn)\n",
    "    t_numeric_add.append(tna)\n",
    "\n",
    "    ta, taa, run_id_a =  insert_data('array', size)\n",
    "    t_array.append(ta)\n",
    "    t_array_add.append(taa)"
   ]
  },
  {
   "cell_type": "code",
   "execution_count": 6,
   "metadata": {
    "execution": {
     "iopub.execute_input": "2021-05-12T08:13:05.674567Z",
     "iopub.status.busy": "2021-05-12T08:13:05.661113Z",
     "iopub.status.idle": "2021-05-12T08:13:05.962806Z",
     "shell.execute_reply": "2021-05-12T08:13:05.963566Z"
    }
   },
   "outputs": [
    {
     "data": {
      "image/png": "[encoded data removed]",
      "text/plain": [
       "<Figure size 432x288 with 1 Axes>"
      ]
     },
     "metadata": {
      "needs_background": "light"
     },
     "output_type": "display_data"
    }
   ],
   "source": [
    "fig, ax = plt.subplots(1,1)\n",
    "ax.plot(sizes, t_numeric, 'o-', label='Inserting row-by-row')\n",
    "ax.plot(sizes, t_numeric_add, 'o-', label='Inserting row-by-row: add_result only')\n",
    "ax.plot(sizes, t_array, 'd-', label='Inserting as binary blob')\n",
    "ax.plot(sizes, t_array_add, 'd-', label='Inserting as binary blob: add_result only')\n",
    "ax.legend()\n",
    "ax.set_xlabel('Array length')\n",
    "ax.set_ylabel('Time (s)')\n",
    "fig.tight_layout()"
   ]
  },
  {
   "cell_type": "markdown",
   "metadata": {},
   "source": [
    "As shown in the latter figure, the time to setup and and close the experiment is approximately 0.4 sec. In case of small array sizes, the difference between inserting values of data as arrays and inserting them row-by-row is relatively unimportant. At larger array sizes, i.e. above 10000 points, the cost of writing data as individual datapoints starts to become important.\n"
   ]
  },
  {
   "cell_type": "markdown",
   "metadata": {},
   "source": [
    "### Case2: Long experiment time "
   ]
  },
  {
   "cell_type": "code",
   "execution_count": 7,
   "metadata": {
    "execution": {
     "iopub.execute_input": "2021-05-12T08:13:05.971471Z",
     "iopub.status.busy": "2021-05-12T08:13:05.970482Z",
     "iopub.status.idle": "2021-05-12T08:14:05.553197Z",
     "shell.execute_reply": "2021-05-12T08:14:05.552544Z"
    }
   },
   "outputs": [
    {
     "name": "stdout",
     "output_type": "stream",
     "text": [
      "Starting experimental run with id: 15. \n",
      "Starting experimental run with id: 16. \n"
     ]
    },
    {
     "name": "stdout",
     "output_type": "stream",
     "text": [
      "Starting experimental run with id: 17. \n"
     ]
    },
    {
     "name": "stdout",
     "output_type": "stream",
     "text": [
      "Starting experimental run with id: 18. \n",
      "Starting experimental run with id: 19. \n"
     ]
    },
    {
     "name": "stdout",
     "output_type": "stream",
     "text": [
      "Starting experimental run with id: 20. \n"
     ]
    },
    {
     "name": "stdout",
     "output_type": "stream",
     "text": [
      "Starting experimental run with id: 21. \n"
     ]
    },
    {
     "name": "stdout",
     "output_type": "stream",
     "text": [
      "Starting experimental run with id: 22. \n"
     ]
    },
    {
     "name": "stdout",
     "output_type": "stream",
     "text": [
      "Starting experimental run with id: 23. \n"
     ]
    },
    {
     "name": "stdout",
     "output_type": "stream",
     "text": [
      "Starting experimental run with id: 24. \n"
     ]
    },
    {
     "name": "stdout",
     "output_type": "stream",
     "text": [
      "Starting experimental run with id: 25. \n"
     ]
    },
    {
     "name": "stdout",
     "output_type": "stream",
     "text": [
      "Starting experimental run with id: 26. \n"
     ]
    },
    {
     "name": "stdout",
     "output_type": "stream",
     "text": [
      "Starting experimental run with id: 27. \n"
     ]
    },
    {
     "name": "stdout",
     "output_type": "stream",
     "text": [
      "Starting experimental run with id: 28. \n"
     ]
    }
   ],
   "source": [
    "sizes = [1,500,1000,2000,3000,4000,5000]\n",
    "nreps = 100\n",
    "t_numeric = []\n",
    "t_numeric_add = []\n",
    "t_numeric_run_ids = []\n",
    "t_array = []\n",
    "t_array_add = []\n",
    "t_array_run_ids = []\n",
    "for size in sizes:\n",
    "    tn, tna, run_id_n =  insert_data('numeric', size, nreps=nreps)\n",
    "    t_numeric.append(tn)\n",
    "    t_numeric_add.append(tna)\n",
    "    t_numeric_run_ids.append(run_id_n)\n",
    "\n",
    "    ta, taa, run_id_a =  insert_data('array', size, nreps=nreps)\n",
    "    t_array.append(ta)\n",
    "    t_array_add.append(taa)\n",
    "    t_array_run_ids.append(run_id_a)"
   ]
  },
  {
   "cell_type": "code",
   "execution_count": 8,
   "metadata": {
    "execution": {
     "iopub.execute_input": "2021-05-12T08:14:05.607940Z",
     "iopub.status.busy": "2021-05-12T08:14:05.606835Z",
     "iopub.status.idle": "2021-05-12T08:14:05.844744Z",
     "shell.execute_reply": "2021-05-12T08:14:05.844217Z"
    },
    "scrolled": true
   },
   "outputs": [
    {
     "data": {
      "image/png": "[encoded data removed]",
      "text/plain": [
       "<Figure size 432x288 with 1 Axes>"
      ]
     },
     "metadata": {
      "needs_background": "light"
     },
     "output_type": "display_data"
    }
   ],
   "source": [
    "fig, ax = plt.subplots(1,1)\n",
    "ax.plot(sizes, t_numeric, 'o-', label='Inserting row-by-row')\n",
    "ax.plot(sizes, t_numeric_add, 'o-', label='Inserting row-by-row: add_result only')\n",
    "ax.plot(sizes, t_array, 'd-', label='Inserting as binary blob')\n",
    "ax.plot(sizes, t_array_add, 'd-', label='Inserting as binary blob: add_result only')\n",
    "ax.legend()\n",
    "ax.set_xlabel('Array length')\n",
    "ax.set_ylabel('Time (s)')\n",
    "fig.tight_layout()"
   ]
  },
  {
   "cell_type": "markdown",
   "metadata": {},
   "source": [
    "However, as we increase the length of the experiment, as seen here by repeating the insertion 100 times, we see a big difference between inserting values of the data row-by-row and inserting it as a binary blob."
   ]
  },
  {
   "cell_type": "markdown",
   "metadata": {},
   "source": [
    "## Loading the data "
   ]
  },
  {
   "cell_type": "code",
   "execution_count": 9,
   "metadata": {
    "execution": {
     "iopub.execute_input": "2021-05-12T08:14:05.849873Z",
     "iopub.status.busy": "2021-05-12T08:14:05.849244Z",
     "iopub.status.idle": "2021-05-12T08:14:05.852382Z",
     "shell.execute_reply": "2021-05-12T08:14:05.851828Z"
    }
   },
   "outputs": [],
   "source": [
    "from qcodes.dataset.data_set import load_by_id"
   ]
  },
  {
   "cell_type": "markdown",
   "metadata": {},
   "source": [
    "As usual you can load the data by using the ``load_by_id`` function but you will notice that the different storage methods\n",
    "are reflected in shape of the data as it is retrieved. "
   ]
  },
  {
   "cell_type": "code",
   "execution_count": 10,
   "metadata": {
    "execution": {
     "iopub.execute_input": "2021-05-12T08:14:05.858293Z",
     "iopub.status.busy": "2021-05-12T08:14:05.856116Z",
     "iopub.status.idle": "2021-05-12T08:14:05.859034Z",
     "shell.execute_reply": "2021-05-12T08:14:05.859658Z"
    }
   },
   "outputs": [],
   "source": [
    "run_id_n = t_numeric_run_ids[0]\n",
    "run_id_a = t_array_run_ids[0]"
   ]
  },
  {
   "cell_type": "code",
   "execution_count": 11,
   "metadata": {
    "execution": {
     "iopub.execute_input": "2021-05-12T08:14:05.863786Z",
     "iopub.status.busy": "2021-05-12T08:14:05.863131Z",
     "iopub.status.idle": "2021-05-12T08:14:05.874068Z",
     "shell.execute_reply": "2021-05-12T08:14:05.874687Z"
    },
    "scrolled": true
   },
   "outputs": [
    {
     "data": {
      "text/plain": [
       "{'x1': {'x1': array([0.26099315, 0.26099315, 0.60609203, 0.60609203, 0.69449089,\n",
       "         0.69449089, 0.98982458, 0.98982458, 0.47374262, 0.47374262,\n",
       "         0.64484535, 0.64484535, 0.61559758, 0.61559758, 0.94853095,\n",
       "         0.94853095, 0.98770884, 0.98770884, 0.0731071 , 0.0731071 ,\n",
       "         0.80662043, 0.80662043, 0.0309276 , 0.0309276 , 0.95014078,\n",
       "         0.95014078, 0.96355561, 0.96355561, 0.57591218, 0.57591218,\n",
       "         0.32010845, 0.32010845, 0.69524839, 0.69524839, 0.00325242,\n",
       "         0.00325242, 0.50903056, 0.50903056, 0.51090994, 0.51090994,\n",
       "         0.4910563 , 0.4910563 , 0.42171323, 0.42171323, 0.17705437,\n",
       "         0.17705437, 0.33816786, 0.33816786, 0.30075376, 0.30075376,\n",
       "         0.83719277, 0.83719277, 0.05968002, 0.05968002, 0.68775142,\n",
       "         0.68775142, 0.7779124 , 0.7779124 , 0.70294066, 0.70294066,\n",
       "         0.59415802, 0.59415802, 0.71117506, 0.71117506, 0.11291279,\n",
       "         0.11291279, 0.33030444, 0.33030444, 0.51687922, 0.51687922,\n",
       "         0.91157315, 0.91157315, 0.3231825 , 0.3231825 , 0.05480828,\n",
       "         0.05480828, 0.05608977, 0.05608977, 0.6389289 , 0.6389289 ,\n",
       "         0.19138889, 0.19138889, 0.75102564, 0.75102564, 0.96921687,\n",
       "         0.96921687, 0.8942825 , 0.8942825 , 0.33762419, 0.33762419,\n",
       "         0.13026517, 0.13026517, 0.74267351, 0.74267351, 0.68929378,\n",
       "         0.68929378, 0.96139318, 0.96139318, 0.29709184, 0.29709184,\n",
       "         0.92291427, 0.92291427, 0.77111327, 0.77111327, 0.02335524,\n",
       "         0.02335524, 0.49763014, 0.49763014, 0.92189286, 0.92189286,\n",
       "         0.19915409, 0.19915409, 0.34625631, 0.34625631, 0.24989346,\n",
       "         0.24989346, 0.06694625, 0.06694625, 0.98396679, 0.98396679,\n",
       "         0.68012004, 0.68012004, 0.63450127, 0.63450127, 0.37414061,\n",
       "         0.37414061, 0.26194586, 0.26194586, 0.28536396, 0.28536396,\n",
       "         0.93391577, 0.93391577, 0.19724312, 0.19724312, 0.10825327,\n",
       "         0.10825327, 0.47194531, 0.47194531, 0.51338289, 0.51338289,\n",
       "         0.97242942, 0.97242942, 0.10448391, 0.10448391, 0.56237936,\n",
       "         0.56237936, 0.65779179, 0.65779179, 0.1172961 , 0.1172961 ,\n",
       "         0.42486115, 0.42486115, 0.11264208, 0.11264208, 0.07974345,\n",
       "         0.07974345, 0.11852627, 0.11852627, 0.25222277, 0.25222277,\n",
       "         0.75147226, 0.75147226, 0.79186163, 0.79186163, 0.86199195,\n",
       "         0.86199195, 0.74457643, 0.74457643, 0.89322323, 0.89322323,\n",
       "         0.77259706, 0.77259706, 0.61888148, 0.61888148, 0.53641261,\n",
       "         0.53641261, 0.71628091, 0.71628091, 0.10329016, 0.10329016,\n",
       "         0.14840364, 0.14840364, 0.18365303, 0.18365303, 0.9376485 ,\n",
       "         0.9376485 , 0.99346035, 0.99346035, 0.03782838, 0.03782838,\n",
       "         0.21719119, 0.21719119, 0.1268749 , 0.1268749 , 0.72858463,\n",
       "         0.72858463, 0.51495573, 0.51495573, 0.55701915, 0.55701915])}}"
      ]
     },
     "execution_count": 1,
     "metadata": {},
     "output_type": "execute_result"
    }
   ],
   "source": [
    "ds = load_by_id(run_id_n)\n",
    "ds.get_parameter_data('x1')"
   ]
  },
  {
   "cell_type": "markdown",
   "metadata": {},
   "source": [
    "And a dataset stored as binary arrays"
   ]
  },
  {
   "cell_type": "code",
   "execution_count": 12,
   "metadata": {
    "execution": {
     "iopub.execute_input": "2021-05-12T08:14:05.879586Z",
     "iopub.status.busy": "2021-05-12T08:14:05.878935Z",
     "iopub.status.idle": "2021-05-12T08:14:05.945303Z",
     "shell.execute_reply": "2021-05-12T08:14:05.945781Z"
    },
    "scrolled": true
   },
   "outputs": [
    {
     "data": {
      "text/plain": [
       "{'x1': {'x1': array([[4.59495019e-01],\n",
       "         [4.59495019e-01],\n",
       "         [9.37173326e-02],\n",
       "         [9.37173326e-02],\n",
       "         [3.43722595e-01],\n",
       "         [3.43722595e-01],\n",
       "         [6.19420103e-01],\n",
       "         [6.19420103e-01],\n",
       "         [6.47285910e-01],\n",
       "         [6.47285910e-01],\n",
       "         [3.52976963e-01],\n",
       "         [3.52976963e-01],\n",
       "         [1.29908381e-01],\n",
       "         [1.29908381e-01],\n",
       "         [4.75208217e-01],\n",
       "         [4.75208217e-01],\n",
       "         [9.82233912e-01],\n",
       "         [9.82233912e-01],\n",
       "         [6.81533689e-01],\n",
       "         [6.81533689e-01],\n",
       "         [5.35734280e-01],\n",
       "         [5.35734280e-01],\n",
       "         [7.46812418e-01],\n",
       "         [7.46812418e-01],\n",
       "         [1.74040850e-02],\n",
       "         [1.74040850e-02],\n",
       "         [7.47114459e-01],\n",
       "         [7.47114459e-01],\n",
       "         [1.62714835e-01],\n",
       "         [1.62714835e-01],\n",
       "         [4.39976409e-01],\n",
       "         [4.39976409e-01],\n",
       "         [6.95722223e-01],\n",
       "         [6.95722223e-01],\n",
       "         [6.33666651e-01],\n",
       "         [6.33666651e-01],\n",
       "         [7.01426341e-01],\n",
       "         [7.01426341e-01],\n",
       "         [2.44538641e-01],\n",
       "         [2.44538641e-01],\n",
       "         [4.88087394e-01],\n",
       "         [4.88087394e-01],\n",
       "         [6.11063919e-01],\n",
       "         [6.11063919e-01],\n",
       "         [1.08207220e-01],\n",
       "         [1.08207220e-01],\n",
       "         [8.38951525e-02],\n",
       "         [8.38951525e-02],\n",
       "         [8.77129746e-01],\n",
       "         [8.77129746e-01],\n",
       "         [2.56178705e-01],\n",
       "         [2.56178705e-01],\n",
       "         [2.96606540e-01],\n",
       "         [2.96606540e-01],\n",
       "         [4.56728014e-01],\n",
       "         [4.56728014e-01],\n",
       "         [3.15372633e-01],\n",
       "         [3.15372633e-01],\n",
       "         [7.36860612e-01],\n",
       "         [7.36860612e-01],\n",
       "         [2.40017376e-01],\n",
       "         [2.40017376e-01],\n",
       "         [6.87223980e-01],\n",
       "         [6.87223980e-01],\n",
       "         [9.59129845e-04],\n",
       "         [9.59129845e-04],\n",
       "         [1.65136606e-01],\n",
       "         [1.65136606e-01],\n",
       "         [3.60544248e-01],\n",
       "         [3.60544248e-01],\n",
       "         [1.20904191e-01],\n",
       "         [1.20904191e-01],\n",
       "         [7.47137831e-03],\n",
       "         [7.47137831e-03],\n",
       "         [9.29961589e-01],\n",
       "         [9.29961589e-01],\n",
       "         [3.61311135e-01],\n",
       "         [3.61311135e-01],\n",
       "         [2.86600921e-01],\n",
       "         [2.86600921e-01],\n",
       "         [5.01420827e-01],\n",
       "         [5.01420827e-01],\n",
       "         [6.89659175e-01],\n",
       "         [6.89659175e-01],\n",
       "         [9.99663838e-02],\n",
       "         [9.99663838e-02],\n",
       "         [6.10573442e-01],\n",
       "         [6.10573442e-01],\n",
       "         [5.71095004e-01],\n",
       "         [5.71095004e-01],\n",
       "         [8.15945261e-01],\n",
       "         [8.15945261e-01],\n",
       "         [6.70738034e-01],\n",
       "         [6.70738034e-01],\n",
       "         [5.31331878e-01],\n",
       "         [5.31331878e-01],\n",
       "         [8.01503521e-02],\n",
       "         [8.01503521e-02],\n",
       "         [4.40282898e-01],\n",
       "         [4.40282898e-01],\n",
       "         [5.40013995e-01],\n",
       "         [5.40013995e-01],\n",
       "         [6.31986418e-01],\n",
       "         [6.31986418e-01],\n",
       "         [1.04725669e-01],\n",
       "         [1.04725669e-01],\n",
       "         [8.42787585e-01],\n",
       "         [8.42787585e-01],\n",
       "         [5.14749300e-01],\n",
       "         [5.14749300e-01],\n",
       "         [6.63198500e-01],\n",
       "         [6.63198500e-01],\n",
       "         [6.04329028e-01],\n",
       "         [6.04329028e-01],\n",
       "         [2.05138920e-01],\n",
       "         [2.05138920e-01],\n",
       "         [4.72779257e-01],\n",
       "         [4.72779257e-01],\n",
       "         [9.79063453e-01],\n",
       "         [9.79063453e-01],\n",
       "         [4.54594414e-01],\n",
       "         [4.54594414e-01],\n",
       "         [2.70092329e-01],\n",
       "         [2.70092329e-01],\n",
       "         [5.35339488e-01],\n",
       "         [5.35339488e-01],\n",
       "         [7.76151425e-01],\n",
       "         [7.76151425e-01],\n",
       "         [9.09300502e-01],\n",
       "         [9.09300502e-01],\n",
       "         [4.24106984e-01],\n",
       "         [4.24106984e-01],\n",
       "         [6.46914219e-01],\n",
       "         [6.46914219e-01],\n",
       "         [5.07006559e-01],\n",
       "         [5.07006559e-01],\n",
       "         [4.74660803e-01],\n",
       "         [4.74660803e-01],\n",
       "         [7.18719242e-01],\n",
       "         [7.18719242e-01],\n",
       "         [5.21802399e-01],\n",
       "         [5.21802399e-01],\n",
       "         [6.09364428e-01],\n",
       "         [6.09364428e-01],\n",
       "         [1.65906558e-01],\n",
       "         [1.65906558e-01],\n",
       "         [7.59885908e-01],\n",
       "         [7.59885908e-01],\n",
       "         [1.80453922e-01],\n",
       "         [1.80453922e-01],\n",
       "         [9.10493859e-02],\n",
       "         [9.10493859e-02],\n",
       "         [6.94135638e-01],\n",
       "         [6.94135638e-01],\n",
       "         [2.16850907e-01],\n",
       "         [2.16850907e-01],\n",
       "         [5.60530500e-01],\n",
       "         [5.60530500e-01],\n",
       "         [3.27329247e-01],\n",
       "         [3.27329247e-01],\n",
       "         [3.16939372e-01],\n",
       "         [3.16939372e-01],\n",
       "         [1.43790817e-01],\n",
       "         [1.43790817e-01],\n",
       "         [8.19432551e-01],\n",
       "         [8.19432551e-01],\n",
       "         [8.96521586e-02],\n",
       "         [8.96521586e-02],\n",
       "         [4.08218543e-01],\n",
       "         [4.08218543e-01],\n",
       "         [4.55489651e-01],\n",
       "         [4.55489651e-01],\n",
       "         [8.82247249e-02],\n",
       "         [8.82247249e-02],\n",
       "         [9.99698916e-01],\n",
       "         [9.99698916e-01],\n",
       "         [2.68962551e-01],\n",
       "         [2.68962551e-01],\n",
       "         [3.15890435e-01],\n",
       "         [3.15890435e-01],\n",
       "         [1.84376455e-01],\n",
       "         [1.84376455e-01],\n",
       "         [3.61875690e-01],\n",
       "         [3.61875690e-01],\n",
       "         [9.20215168e-01],\n",
       "         [9.20215168e-01],\n",
       "         [4.90365915e-03],\n",
       "         [4.90365915e-03],\n",
       "         [8.61676482e-01],\n",
       "         [8.61676482e-01],\n",
       "         [8.31442921e-01],\n",
       "         [8.31442921e-01],\n",
       "         [2.79417449e-01],\n",
       "         [2.79417449e-01],\n",
       "         [9.25215131e-01],\n",
       "         [9.25215131e-01],\n",
       "         [9.64649057e-01],\n",
       "         [9.64649057e-01],\n",
       "         [3.42785701e-01],\n",
       "         [3.42785701e-01]])}}"
      ]
     },
     "execution_count": 1,
     "metadata": {},
     "output_type": "execute_result"
    }
   ],
   "source": [
    "ds = load_by_id(run_id_a)\n",
    "ds.get_parameter_data('x1')"
   ]
  },
  {
   "cell_type": "code",
   "execution_count": null,
   "metadata": {},
   "outputs": [],
   "source": []
  }
 ],
 "metadata": {
  "kernelspec": {
   "display_name": "Python 3",
   "language": "python",
   "name": "python3"
  },
  "language_info": {
   "codemirror_mode": {
    "name": "ipython",
    "version": 3
   },
   "file_extension": ".py",
   "mimetype": "text/x-python",
   "name": "python",
   "nbconvert_exporter": "python",
   "pygments_lexer": "ipython3",
   "version": "3.7.10"
  },
  "nbsphinx": {
   "timeout": 600
  },
  "toc": {
   "base_numbering": 1,
   "nav_menu": {},
   "number_sections": true,
   "sideBar": true,
   "skip_h1_title": false,
   "title_cell": "Table of Contents",
   "title_sidebar": "Contents",
   "toc_cell": false,
   "toc_position": {},
   "toc_section_display": true,
   "toc_window_display": false
  },
  "varInspector": {
   "cols": {
    "lenName": 16,
    "lenType": 16,
    "lenVar": 40
   },
   "kernels_config": {
    "python": {
     "delete_cmd_postfix": "",
     "delete_cmd_prefix": "del ",
     "library": "var_list.py",
     "varRefreshCmd": "print(var_dic_list())"
    },
    "r": {
     "delete_cmd_postfix": ") ",
     "delete_cmd_prefix": "rm(",
     "library": "var_list.r",
     "varRefreshCmd": "cat(var_dic_list()) "
    }
   },
   "types_to_exclude": [
    "module",
    "function",
    "builtin_function_or_method",
    "instance",
    "_Feature"
   ],
   "window_display": false
  }
 },
 "nbformat": 4,
 "nbformat_minor": 4
}
