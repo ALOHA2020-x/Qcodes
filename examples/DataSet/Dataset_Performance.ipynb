{
 "cells": [
  {
   "cell_type": "markdown",
   "metadata": {},
   "source": [
    "# DataSet Performance\n",
    "\n",
    "This notebook shows the trade-off between inserting data into a database row-by-row and as binary blobs. Inserting the data row-by-row means that we have direct access to all the data and may perform queries directly on the values of the data. On the other hand, as we shall see, this is much slower than inserting the data directly as binary blobs."
   ]
  },
  {
   "cell_type": "markdown",
   "metadata": {},
   "source": [
    "First, we choose a new location for the database to ensure that we don't add a bunch of benchmarking data to the default one."
   ]
  },
  {
   "cell_type": "code",
   "execution_count": 1,
   "metadata": {
    "execution": {
     "iopub.execute_input": "2021-01-07T10:48:30.382367Z",
     "iopub.status.busy": "2021-01-07T10:48:30.381472Z",
     "iopub.status.idle": "2021-01-07T10:48:31.566920Z",
     "shell.execute_reply": "2021-01-07T10:48:31.566237Z"
    }
   },
   "outputs": [
    {
     "name": "stdout",
     "output_type": "stream",
     "text": [
      "Logging hadn't been started.\n",
      "Activating auto-logging. Current session state plus future input saved.\n",
      "Filename       : /home/vsts/.qcodes/logs/command_history.log\n",
      "Mode           : append\n",
      "Output logging : True\n",
      "Raw input log  : False\n",
      "Timestamping   : True\n",
      "State          : active\n"
     ]
    },
    {
     "name": "stdout",
     "output_type": "stream",
     "text": [
      "Qcodes Logfile : /home/vsts/.qcodes/logs/210107-14396-qcodes.log\n"
     ]
    }
   ],
   "source": [
    "import os\n",
    "cwd = os.getcwd()\n",
    "import qcodes as qc\n",
    "qc.config[\"core\"][\"db_location\"] = os.path.join(cwd, 'testing.db')\n"
   ]
  },
  {
   "cell_type": "code",
   "execution_count": 2,
   "metadata": {
    "execution": {
     "iopub.execute_input": "2021-01-07T10:48:31.574032Z",
     "iopub.status.busy": "2021-01-07T10:48:31.572944Z",
     "iopub.status.idle": "2021-01-07T10:48:31.789747Z",
     "shell.execute_reply": "2021-01-07T10:48:31.788800Z"
    }
   },
   "outputs": [],
   "source": [
    "%matplotlib inline\n",
    "import time\n",
    "import matplotlib.pyplot as plt\n",
    "import numpy as np\n",
    "\n",
    "import qcodes as qc\n",
    "from qcodes.instrument.parameter import ManualParameter\n",
    "from qcodes.dataset.experiment_container import (Experiment,\n",
    "                                                 load_last_experiment,\n",
    "                                                 new_experiment)\n",
    "from qcodes.dataset.sqlite.database import initialise_database\n",
    "from qcodes import load_or_create_experiment\n",
    "from qcodes.dataset.measurements import Measurement"
   ]
  },
  {
   "cell_type": "code",
   "execution_count": 3,
   "metadata": {
    "execution": {
     "iopub.execute_input": "2021-01-07T10:48:31.794073Z",
     "iopub.status.busy": "2021-01-07T10:48:31.793348Z",
     "iopub.status.idle": "2021-01-07T10:48:31.908849Z",
     "shell.execute_reply": "2021-01-07T10:48:31.909442Z"
    }
   },
   "outputs": [
    {
     "name": "stdout",
     "output_type": "stream",
     "text": [
      "\r",
      "0it [00:00, ?it/s]"
     ]
    },
    {
     "name": "stdout",
     "output_type": "stream",
     "text": [
      "\r",
      "Upgrading database; v0 -> v1: : 0it [00:00, ?it/s]"
     ]
    },
    {
     "name": "stdout",
     "output_type": "stream",
     "text": [
      "\r",
      "Upgrading database; v0 -> v1: : 0it [00:00, ?it/s]"
     ]
    },
    {
     "name": "stdout",
     "output_type": "stream",
     "text": [
      "\n",
      "\r",
      "  0%|          | 0/1 [00:00<?, ?it/s]"
     ]
    },
    {
     "name": "stdout",
     "output_type": "stream",
     "text": [
      "\r",
      "Upgrading database; v1 -> v2:   0%|          | 0/1 [00:00<?, ?it/s]"
     ]
    },
    {
     "name": "stdout",
     "output_type": "stream",
     "text": [
      "\r",
      "Upgrading database; v1 -> v2: 100%|██████████| 1/1 [00:00<00:00, 610.88it/s]"
     ]
    },
    {
     "name": "stdout",
     "output_type": "stream",
     "text": [
      "\n",
      "\r",
      "0it [00:00, ?it/s]"
     ]
    },
    {
     "name": "stdout",
     "output_type": "stream",
     "text": [
      "\r",
      "Upgrading database; v2 -> v3: : 0it [00:00, ?it/s]"
     ]
    },
    {
     "name": "stdout",
     "output_type": "stream",
     "text": [
      "\r",
      "Upgrading database; v2 -> v3: : 0it [00:00, ?it/s]"
     ]
    },
    {
     "name": "stdout",
     "output_type": "stream",
     "text": [
      "\n",
      "\r",
      "0it [00:00, ?it/s]"
     ]
    },
    {
     "name": "stdout",
     "output_type": "stream",
     "text": [
      "\r",
      "Upgrading database; v3 -> v4: : 0it [00:00, ?it/s]"
     ]
    },
    {
     "name": "stdout",
     "output_type": "stream",
     "text": [
      "\r",
      "Upgrading database; v3 -> v4: : 0it [00:00, ?it/s]"
     ]
    },
    {
     "name": "stdout",
     "output_type": "stream",
     "text": [
      "\n",
      "\r",
      "  0%|          | 0/1 [00:00<?, ?it/s]"
     ]
    },
    {
     "name": "stdout",
     "output_type": "stream",
     "text": [
      "\r",
      "Upgrading database; v4 -> v5:   0%|          | 0/1 [00:00<?, ?it/s]"
     ]
    },
    {
     "name": "stdout",
     "output_type": "stream",
     "text": [
      "\r",
      "Upgrading database; v4 -> v5: 100%|██████████| 1/1 [00:00<00:00, 465.36it/s]"
     ]
    },
    {
     "name": "stdout",
     "output_type": "stream",
     "text": [
      "\n",
      "\r",
      "0it [00:00, ?it/s]"
     ]
    },
    {
     "name": "stdout",
     "output_type": "stream",
     "text": [
      "\r",
      "Upgrading database; v5 -> v6: : 0it [00:00, ?it/s]"
     ]
    },
    {
     "name": "stdout",
     "output_type": "stream",
     "text": [
      "\r",
      "Upgrading database; v5 -> v6: : 0it [00:00, ?it/s]"
     ]
    },
    {
     "name": "stdout",
     "output_type": "stream",
     "text": [
      "\n",
      "\r",
      "  0%|          | 0/1 [00:00<?, ?it/s]"
     ]
    },
    {
     "name": "stdout",
     "output_type": "stream",
     "text": [
      "\r",
      "Upgrading database; v6 -> v7:   0%|          | 0/1 [00:00<?, ?it/s]"
     ]
    },
    {
     "name": "stdout",
     "output_type": "stream",
     "text": [
      "\r",
      "Upgrading database; v6 -> v7: 100%|██████████| 1/1 [00:00<00:00, 290.69it/s]"
     ]
    },
    {
     "name": "stdout",
     "output_type": "stream",
     "text": [
      "\n",
      "\r",
      "  0%|          | 0/1 [00:00<?, ?it/s]"
     ]
    },
    {
     "name": "stdout",
     "output_type": "stream",
     "text": [
      "\r",
      "Upgrading database; v7 -> v8:   0%|          | 0/1 [00:00<?, ?it/s]"
     ]
    },
    {
     "name": "stdout",
     "output_type": "stream",
     "text": [
      "\r",
      "Upgrading database; v7 -> v8: 100%|██████████| 1/1 [00:00<00:00, 892.79it/s]"
     ]
    },
    {
     "name": "stdout",
     "output_type": "stream",
     "text": [
      "\n",
      "\r",
      "  0%|          | 0/1 [00:00<?, ?it/s]"
     ]
    },
    {
     "name": "stdout",
     "output_type": "stream",
     "text": [
      "\r",
      "Upgrading database; v8 -> v9:   0%|          | 0/1 [00:00<?, ?it/s]"
     ]
    },
    {
     "name": "stdout",
     "output_type": "stream",
     "text": [
      "\r",
      "Upgrading database; v8 -> v9: 100%|██████████| 1/1 [00:00<00:00, 813.64it/s]"
     ]
    },
    {
     "name": "stdout",
     "output_type": "stream",
     "text": [
      "\n"
     ]
    }
   ],
   "source": [
    "initialise_database()\n",
    "exp = load_or_create_experiment(experiment_name='tutorial_exp', sample_name=\"no sample\")"
   ]
  },
  {
   "cell_type": "markdown",
   "metadata": {},
   "source": [
    "Here, we define a simple function to benchmark the time it takes to insert n points with either numeric or array data type.\n",
    "We will compare both the time used to call ``add_result`` and the time used for the full measurement."
   ]
  },
  {
   "cell_type": "code",
   "execution_count": 4,
   "metadata": {
    "execution": {
     "iopub.execute_input": "2021-01-07T10:48:31.919957Z",
     "iopub.status.busy": "2021-01-07T10:48:31.918399Z",
     "iopub.status.idle": "2021-01-07T10:48:31.920539Z",
     "shell.execute_reply": "2021-01-07T10:48:31.921102Z"
    }
   },
   "outputs": [],
   "source": [
    "def insert_data(paramtype, npoints, nreps=1):\n",
    "\n",
    "    meas = Measurement(exp=exp)\n",
    "\n",
    "    x1 = ManualParameter('x1')\n",
    "    x2 = ManualParameter('x2')\n",
    "    x3 = ManualParameter('x3')\n",
    "    y1 = ManualParameter('y1')\n",
    "    y2 = ManualParameter('y2')\n",
    "\n",
    "    meas.register_parameter(x1, paramtype=paramtype)\n",
    "    meas.register_parameter(x2, paramtype=paramtype)\n",
    "    meas.register_parameter(x3, paramtype=paramtype)\n",
    "    meas.register_parameter(y1, setpoints=[x1, x2, x3],\n",
    "                            paramtype=paramtype)\n",
    "    meas.register_parameter(y2, setpoints=[x1, x2, x3],\n",
    "                            paramtype=paramtype)\n",
    "    start = time.perf_counter()\n",
    "    with meas.run() as datasaver:\n",
    "        start_adding = time.perf_counter()\n",
    "        for i in range(nreps):\n",
    "            datasaver.add_result((x1, np.random.rand(npoints)),\n",
    "                                 (x2, np.random.rand(npoints)),\n",
    "                                 (x3, np.random.rand(npoints)),\n",
    "                                 (y1, np.random.rand(npoints)),\n",
    "                                 (y2, np.random.rand(npoints)))\n",
    "        stop_adding = time.perf_counter()\n",
    "        run_id = datasaver.run_id\n",
    "    stop = time.perf_counter()\n",
    "    tot_time = stop - start\n",
    "    add_time = stop_adding - start_adding\n",
    "    return tot_time, add_time, run_id"
   ]
  },
  {
   "cell_type": "markdown",
   "metadata": {},
   "source": [
    "## Comparison between numeric/array data and binary blob"
   ]
  },
  {
   "cell_type": "markdown",
   "metadata": {},
   "source": [
    "### Case1: Short experiment time"
   ]
  },
  {
   "cell_type": "code",
   "execution_count": 5,
   "metadata": {
    "execution": {
     "iopub.execute_input": "2021-01-07T10:48:31.927592Z",
     "iopub.status.busy": "2021-01-07T10:48:31.927002Z",
     "iopub.status.idle": "2021-01-07T10:48:32.762810Z",
     "shell.execute_reply": "2021-01-07T10:48:32.763374Z"
    }
   },
   "outputs": [
    {
     "name": "stdout",
     "output_type": "stream",
     "text": [
      "Starting experimental run with id: 1. \n",
      "Starting experimental run with id: 2. \n",
      "Starting experimental run with id: 3. \n",
      "Starting experimental run with id: 4. \n",
      "Starting experimental run with id: 5. \n"
     ]
    },
    {
     "name": "stdout",
     "output_type": "stream",
     "text": [
      "Starting experimental run with id: 6. \n"
     ]
    },
    {
     "name": "stdout",
     "output_type": "stream",
     "text": [
      "Starting experimental run with id: 7. \n"
     ]
    },
    {
     "name": "stdout",
     "output_type": "stream",
     "text": [
      "Starting experimental run with id: 8. \n",
      "Starting experimental run with id: 9. \n"
     ]
    },
    {
     "name": "stdout",
     "output_type": "stream",
     "text": [
      "Starting experimental run with id: 10. \n",
      "Starting experimental run with id: 11. \n"
     ]
    },
    {
     "name": "stdout",
     "output_type": "stream",
     "text": [
      "Starting experimental run with id: 12. \n",
      "Starting experimental run with id: 13. \n"
     ]
    },
    {
     "name": "stdout",
     "output_type": "stream",
     "text": [
      "Starting experimental run with id: 14. \n"
     ]
    }
   ],
   "source": [
    "sizes = [1,500,1000,2000,3000,4000,5000]\n",
    "t_numeric = []\n",
    "t_numeric_add = []\n",
    "t_array = []\n",
    "t_array_add = []\n",
    "for size in sizes:\n",
    "    tn, tna, run_id_n =  insert_data('numeric', size)\n",
    "    t_numeric.append(tn)\n",
    "    t_numeric_add.append(tna)\n",
    "\n",
    "    ta, taa, run_id_a =  insert_data('array', size)\n",
    "    t_array.append(ta)\n",
    "    t_array_add.append(taa)"
   ]
  },
  {
   "cell_type": "code",
   "execution_count": 6,
   "metadata": {
    "execution": {
     "iopub.execute_input": "2021-01-07T10:48:32.795608Z",
     "iopub.status.busy": "2021-01-07T10:48:32.794022Z",
     "iopub.status.idle": "2021-01-07T10:48:33.021325Z",
     "shell.execute_reply": "2021-01-07T10:48:33.020416Z"
    }
   },
   "outputs": [
    {
     "data": {
      "image/png": "[encoded data removed]",
      "text/plain": [
       "<Figure size 432x288 with 1 Axes>"
      ]
     },
     "metadata": {
      "needs_background": "light"
     },
     "output_type": "display_data"
    }
   ],
   "source": [
    "fig, ax = plt.subplots(1,1)\n",
    "ax.plot(sizes, t_numeric, 'o-', label='Inserting row-by-row')\n",
    "ax.plot(sizes, t_numeric_add, 'o-', label='Inserting row-by-row: add_result only')\n",
    "ax.plot(sizes, t_array, 'd-', label='Inserting as binary blob')\n",
    "ax.plot(sizes, t_array_add, 'd-', label='Inserting as binary blob: add_result only')\n",
    "ax.legend()\n",
    "ax.set_xlabel('Array length')\n",
    "ax.set_ylabel('Time (s)')\n",
    "fig.tight_layout()"
   ]
  },
  {
   "cell_type": "markdown",
   "metadata": {},
   "source": [
    "As shown in the latter figure, the time to setup and and close the experiment is approximately 0.4 sec. In case of small array sizes, the difference between inserting values of data as arrays and inserting them row-by-row is relatively unimportant. At larger array sizes, i.e. above 10000 points, the cost of writing data as individual datapoints starts to become important.\n"
   ]
  },
  {
   "cell_type": "markdown",
   "metadata": {},
   "source": [
    "### Case2: Long experiment time "
   ]
  },
  {
   "cell_type": "code",
   "execution_count": 7,
   "metadata": {
    "execution": {
     "iopub.execute_input": "2021-01-07T10:48:33.029215Z",
     "iopub.status.busy": "2021-01-07T10:48:33.028088Z",
     "iopub.status.idle": "2021-01-07T10:49:33.367248Z",
     "shell.execute_reply": "2021-01-07T10:49:33.366448Z"
    }
   },
   "outputs": [
    {
     "name": "stdout",
     "output_type": "stream",
     "text": [
      "Starting experimental run with id: 15. \n",
      "Starting experimental run with id: 16. \n",
      "Starting experimental run with id: 17. \n"
     ]
    },
    {
     "name": "stdout",
     "output_type": "stream",
     "text": [
      "Starting experimental run with id: 18. \n",
      "Starting experimental run with id: 19. \n"
     ]
    },
    {
     "name": "stdout",
     "output_type": "stream",
     "text": [
      "Starting experimental run with id: 20. \n"
     ]
    },
    {
     "name": "stdout",
     "output_type": "stream",
     "text": [
      "Starting experimental run with id: 21. \n"
     ]
    },
    {
     "name": "stdout",
     "output_type": "stream",
     "text": [
      "Starting experimental run with id: 22. \n"
     ]
    },
    {
     "name": "stdout",
     "output_type": "stream",
     "text": [
      "Starting experimental run with id: 23. \n"
     ]
    },
    {
     "name": "stdout",
     "output_type": "stream",
     "text": [
      "Starting experimental run with id: 24. \n"
     ]
    },
    {
     "name": "stdout",
     "output_type": "stream",
     "text": [
      "Starting experimental run with id: 25. \n"
     ]
    },
    {
     "name": "stdout",
     "output_type": "stream",
     "text": [
      "Starting experimental run with id: 26. \n"
     ]
    },
    {
     "name": "stdout",
     "output_type": "stream",
     "text": [
      "Starting experimental run with id: 27. \n"
     ]
    },
    {
     "name": "stdout",
     "output_type": "stream",
     "text": [
      "Starting experimental run with id: 28. \n"
     ]
    }
   ],
   "source": [
    "sizes = [1,500,1000,2000,3000,4000,5000]\n",
    "nreps = 100\n",
    "t_numeric = []\n",
    "t_numeric_add = []\n",
    "t_numeric_run_ids = []\n",
    "t_array = []\n",
    "t_array_add = []\n",
    "t_array_run_ids = []\n",
    "for size in sizes:\n",
    "    tn, tna, run_id_n =  insert_data('numeric', size, nreps=nreps)\n",
    "    t_numeric.append(tn)\n",
    "    t_numeric_add.append(tna)\n",
    "    t_numeric_run_ids.append(run_id_n)\n",
    "\n",
    "    ta, taa, run_id_a =  insert_data('array', size, nreps=nreps)\n",
    "    t_array.append(ta)\n",
    "    t_array_add.append(taa)\n",
    "    t_array_run_ids.append(run_id_a)"
   ]
  },
  {
   "cell_type": "code",
   "execution_count": 8,
   "metadata": {
    "execution": {
     "iopub.execute_input": "2021-01-07T10:49:33.387857Z",
     "iopub.status.busy": "2021-01-07T10:49:33.385620Z",
     "iopub.status.idle": "2021-01-07T10:49:33.632683Z",
     "shell.execute_reply": "2021-01-07T10:49:33.632124Z"
    },
    "scrolled": true
   },
   "outputs": [
    {
     "data": {
      "image/png": "[encoded data removed]",
      "text/plain": [
       "<Figure size 432x288 with 1 Axes>"
      ]
     },
     "metadata": {
      "needs_background": "light"
     },
     "output_type": "display_data"
    }
   ],
   "source": [
    "fig, ax = plt.subplots(1,1)\n",
    "ax.plot(sizes, t_numeric, 'o-', label='Inserting row-by-row')\n",
    "ax.plot(sizes, t_numeric_add, 'o-', label='Inserting row-by-row: add_result only')\n",
    "ax.plot(sizes, t_array, 'd-', label='Inserting as binary blob')\n",
    "ax.plot(sizes, t_array_add, 'd-', label='Inserting as binary blob: add_result only')\n",
    "ax.legend()\n",
    "ax.set_xlabel('Array length')\n",
    "ax.set_ylabel('Time (s)')\n",
    "fig.tight_layout()"
   ]
  },
  {
   "cell_type": "markdown",
   "metadata": {},
   "source": [
    "However, as we increase the length of the experiment, as seen here by repeating the insertion 100 times, we see a big difference between inserting values of the data row-by-row and inserting it as a binary blob."
   ]
  },
  {
   "cell_type": "markdown",
   "metadata": {},
   "source": [
    "## Loading the data "
   ]
  },
  {
   "cell_type": "code",
   "execution_count": 9,
   "metadata": {
    "execution": {
     "iopub.execute_input": "2021-01-07T10:49:33.637718Z",
     "iopub.status.busy": "2021-01-07T10:49:33.636521Z",
     "iopub.status.idle": "2021-01-07T10:49:33.639667Z",
     "shell.execute_reply": "2021-01-07T10:49:33.640169Z"
    }
   },
   "outputs": [],
   "source": [
    "from qcodes.dataset.data_set import load_by_id\n",
    "from qcodes.dataset.data_export import get_data_by_id"
   ]
  },
  {
   "cell_type": "markdown",
   "metadata": {},
   "source": [
    "As usual you can load the data by using the ``load_by_id`` function but you will notice that the different storage methods\n",
    "are reflected in shape of the data as it is retrieved. "
   ]
  },
  {
   "cell_type": "code",
   "execution_count": 10,
   "metadata": {
    "execution": {
     "iopub.execute_input": "2021-01-07T10:49:33.645343Z",
     "iopub.status.busy": "2021-01-07T10:49:33.643934Z",
     "iopub.status.idle": "2021-01-07T10:49:33.645949Z",
     "shell.execute_reply": "2021-01-07T10:49:33.646553Z"
    }
   },
   "outputs": [],
   "source": [
    "run_id_n = t_numeric_run_ids[0]\n",
    "run_id_a = t_array_run_ids[0]"
   ]
  },
  {
   "cell_type": "code",
   "execution_count": 11,
   "metadata": {
    "execution": {
     "iopub.execute_input": "2021-01-07T10:49:33.650281Z",
     "iopub.status.busy": "2021-01-07T10:49:33.649628Z",
     "iopub.status.idle": "2021-01-07T10:49:33.660467Z",
     "shell.execute_reply": "2021-01-07T10:49:33.659847Z"
    },
    "scrolled": true
   },
   "outputs": [
    {
     "data": {
      "text/plain": [
       "{'x1': {'x1': array([0.88337056, 0.88337056, 0.54177362, 0.54177362, 0.08251526,\n",
       "         0.08251526, 0.83839552, 0.83839552, 0.47009119, 0.47009119,\n",
       "         0.91007515, 0.91007515, 0.10844428, 0.10844428, 0.27421746,\n",
       "         0.27421746, 0.78828214, 0.78828214, 0.58492782, 0.58492782,\n",
       "         0.02357768, 0.02357768, 0.82298022, 0.82298022, 0.95742855,\n",
       "         0.95742855, 0.3227736 , 0.3227736 , 0.47750911, 0.47750911,\n",
       "         0.79629423, 0.79629423, 0.18821071, 0.18821071, 0.23001142,\n",
       "         0.23001142, 0.5304276 , 0.5304276 , 0.84023495, 0.84023495,\n",
       "         0.33522578, 0.33522578, 0.51976432, 0.51976432, 0.09833208,\n",
       "         0.09833208, 0.029238  , 0.029238  , 0.54091223, 0.54091223,\n",
       "         0.32824633, 0.32824633, 0.48720894, 0.48720894, 0.00358919,\n",
       "         0.00358919, 0.94482208, 0.94482208, 0.44810677, 0.44810677,\n",
       "         0.74327551, 0.74327551, 0.93861031, 0.93861031, 0.62986468,\n",
       "         0.62986468, 0.24203415, 0.24203415, 0.82818171, 0.82818171,\n",
       "         0.25733682, 0.25733682, 0.33663249, 0.33663249, 0.66155362,\n",
       "         0.66155362, 0.89331494, 0.89331494, 0.67961827, 0.67961827,\n",
       "         0.62839524, 0.62839524, 0.36738206, 0.36738206, 0.99006906,\n",
       "         0.99006906, 0.76782304, 0.76782304, 0.32149529, 0.32149529,\n",
       "         0.76327234, 0.76327234, 0.18210619, 0.18210619, 0.48330809,\n",
       "         0.48330809, 0.9131376 , 0.9131376 , 0.6304951 , 0.6304951 ,\n",
       "         0.32090667, 0.32090667, 0.71948715, 0.71948715, 0.1611526 ,\n",
       "         0.1611526 , 0.08188313, 0.08188313, 0.4807043 , 0.4807043 ,\n",
       "         0.67444859, 0.67444859, 0.56689381, 0.56689381, 0.41646144,\n",
       "         0.41646144, 0.2383306 , 0.2383306 , 0.04237052, 0.04237052,\n",
       "         0.54766297, 0.54766297, 0.02495091, 0.02495091, 0.89725658,\n",
       "         0.89725658, 0.59882731, 0.59882731, 0.98027951, 0.98027951,\n",
       "         0.66732591, 0.66732591, 0.43134219, 0.43134219, 0.30666459,\n",
       "         0.30666459, 0.94103483, 0.94103483, 0.34614619, 0.34614619,\n",
       "         0.85112101, 0.85112101, 0.05130402, 0.05130402, 0.38928999,\n",
       "         0.38928999, 0.4794176 , 0.4794176 , 0.75935782, 0.75935782,\n",
       "         0.00739401, 0.00739401, 0.42703906, 0.42703906, 0.34885633,\n",
       "         0.34885633, 0.83261618, 0.83261618, 0.65059616, 0.65059616,\n",
       "         0.54242118, 0.54242118, 0.75314252, 0.75314252, 0.3569888 ,\n",
       "         0.3569888 , 0.60167316, 0.60167316, 0.37341472, 0.37341472,\n",
       "         0.43884816, 0.43884816, 0.92861837, 0.92861837, 0.2730821 ,\n",
       "         0.2730821 , 0.07315123, 0.07315123, 0.30004522, 0.30004522,\n",
       "         0.89230126, 0.89230126, 0.38109049, 0.38109049, 0.87146439,\n",
       "         0.87146439, 0.4797447 , 0.4797447 , 0.40777147, 0.40777147,\n",
       "         0.61356093, 0.61356093, 0.27833591, 0.27833591, 0.31979823,\n",
       "         0.31979823, 0.6000267 , 0.6000267 , 0.63573548, 0.63573548])}}"
      ]
     },
     "execution_count": 1,
     "metadata": {},
     "output_type": "execute_result"
    }
   ],
   "source": [
    "ds = load_by_id(run_id_n)\n",
    "ds.get_parameter_data('x1')"
   ]
  },
  {
   "cell_type": "markdown",
   "metadata": {},
   "source": [
    "And a dataset stored as binary arrays"
   ]
  },
  {
   "cell_type": "code",
   "execution_count": 12,
   "metadata": {
    "execution": {
     "iopub.execute_input": "2021-01-07T10:49:33.665181Z",
     "iopub.status.busy": "2021-01-07T10:49:33.664586Z",
     "iopub.status.idle": "2021-01-07T10:49:33.735143Z",
     "shell.execute_reply": "2021-01-07T10:49:33.735688Z"
    },
    "scrolled": true
   },
   "outputs": [
    {
     "data": {
      "text/plain": [
       "{'x1': {'x1': array([[0.21148296],\n",
       "         [0.21148296],\n",
       "         [0.03593616],\n",
       "         [0.03593616],\n",
       "         [0.84093398],\n",
       "         [0.84093398],\n",
       "         [0.61136523],\n",
       "         [0.61136523],\n",
       "         [0.8462955 ],\n",
       "         [0.8462955 ],\n",
       "         [0.88319961],\n",
       "         [0.88319961],\n",
       "         [0.19946887],\n",
       "         [0.19946887],\n",
       "         [0.79718133],\n",
       "         [0.79718133],\n",
       "         [0.7049467 ],\n",
       "         [0.7049467 ],\n",
       "         [0.89315585],\n",
       "         [0.89315585],\n",
       "         [0.05376536],\n",
       "         [0.05376536],\n",
       "         [0.0646533 ],\n",
       "         [0.0646533 ],\n",
       "         [0.48183543],\n",
       "         [0.48183543],\n",
       "         [0.84062965],\n",
       "         [0.84062965],\n",
       "         [0.80619982],\n",
       "         [0.80619982],\n",
       "         [0.70499104],\n",
       "         [0.70499104],\n",
       "         [0.72659978],\n",
       "         [0.72659978],\n",
       "         [0.44114648],\n",
       "         [0.44114648],\n",
       "         [0.97413275],\n",
       "         [0.97413275],\n",
       "         [0.28260026],\n",
       "         [0.28260026],\n",
       "         [0.31340477],\n",
       "         [0.31340477],\n",
       "         [0.47347272],\n",
       "         [0.47347272],\n",
       "         [0.423946  ],\n",
       "         [0.423946  ],\n",
       "         [0.79727259],\n",
       "         [0.79727259],\n",
       "         [0.10995373],\n",
       "         [0.10995373],\n",
       "         [0.12696439],\n",
       "         [0.12696439],\n",
       "         [0.39510823],\n",
       "         [0.39510823],\n",
       "         [0.25321002],\n",
       "         [0.25321002],\n",
       "         [0.17004061],\n",
       "         [0.17004061],\n",
       "         [0.31701484],\n",
       "         [0.31701484],\n",
       "         [0.13087379],\n",
       "         [0.13087379],\n",
       "         [0.29108243],\n",
       "         [0.29108243],\n",
       "         [0.22263898],\n",
       "         [0.22263898],\n",
       "         [0.02894379],\n",
       "         [0.02894379],\n",
       "         [0.89311748],\n",
       "         [0.89311748],\n",
       "         [0.54207517],\n",
       "         [0.54207517],\n",
       "         [0.23840681],\n",
       "         [0.23840681],\n",
       "         [0.93253685],\n",
       "         [0.93253685],\n",
       "         [0.30103741],\n",
       "         [0.30103741],\n",
       "         [0.13164332],\n",
       "         [0.13164332],\n",
       "         [0.00522855],\n",
       "         [0.00522855],\n",
       "         [0.59672804],\n",
       "         [0.59672804],\n",
       "         [0.63349609],\n",
       "         [0.63349609],\n",
       "         [0.29540804],\n",
       "         [0.29540804],\n",
       "         [0.80856486],\n",
       "         [0.80856486],\n",
       "         [0.70115808],\n",
       "         [0.70115808],\n",
       "         [0.5398425 ],\n",
       "         [0.5398425 ],\n",
       "         [0.52538852],\n",
       "         [0.52538852],\n",
       "         [0.10950654],\n",
       "         [0.10950654],\n",
       "         [0.31160206],\n",
       "         [0.31160206],\n",
       "         [0.49744758],\n",
       "         [0.49744758],\n",
       "         [0.43191063],\n",
       "         [0.43191063],\n",
       "         [0.7040827 ],\n",
       "         [0.7040827 ],\n",
       "         [0.6184446 ],\n",
       "         [0.6184446 ],\n",
       "         [0.92488838],\n",
       "         [0.92488838],\n",
       "         [0.94706289],\n",
       "         [0.94706289],\n",
       "         [0.76259589],\n",
       "         [0.76259589],\n",
       "         [0.85166958],\n",
       "         [0.85166958],\n",
       "         [0.59202339],\n",
       "         [0.59202339],\n",
       "         [0.45507214],\n",
       "         [0.45507214],\n",
       "         [0.27723131],\n",
       "         [0.27723131],\n",
       "         [0.32643246],\n",
       "         [0.32643246],\n",
       "         [0.82390468],\n",
       "         [0.82390468],\n",
       "         [0.27577298],\n",
       "         [0.27577298],\n",
       "         [0.79333659],\n",
       "         [0.79333659],\n",
       "         [0.18412071],\n",
       "         [0.18412071],\n",
       "         [0.60355426],\n",
       "         [0.60355426],\n",
       "         [0.89217084],\n",
       "         [0.89217084],\n",
       "         [0.86905468],\n",
       "         [0.86905468],\n",
       "         [0.55161365],\n",
       "         [0.55161365],\n",
       "         [0.74660946],\n",
       "         [0.74660946],\n",
       "         [0.52498386],\n",
       "         [0.52498386],\n",
       "         [0.59421212],\n",
       "         [0.59421212],\n",
       "         [0.79218312],\n",
       "         [0.79218312],\n",
       "         [0.06256223],\n",
       "         [0.06256223],\n",
       "         [0.97655774],\n",
       "         [0.97655774],\n",
       "         [0.4446738 ],\n",
       "         [0.4446738 ],\n",
       "         [0.49470688],\n",
       "         [0.49470688],\n",
       "         [0.91966439],\n",
       "         [0.91966439],\n",
       "         [0.67509603],\n",
       "         [0.67509603],\n",
       "         [0.57499731],\n",
       "         [0.57499731],\n",
       "         [0.08175211],\n",
       "         [0.08175211],\n",
       "         [0.42828519],\n",
       "         [0.42828519],\n",
       "         [0.6511736 ],\n",
       "         [0.6511736 ],\n",
       "         [0.38457738],\n",
       "         [0.38457738],\n",
       "         [0.69225336],\n",
       "         [0.69225336],\n",
       "         [0.18554524],\n",
       "         [0.18554524],\n",
       "         [0.71991143],\n",
       "         [0.71991143],\n",
       "         [0.82842598],\n",
       "         [0.82842598],\n",
       "         [0.39309799],\n",
       "         [0.39309799],\n",
       "         [0.30714113],\n",
       "         [0.30714113],\n",
       "         [0.81188602],\n",
       "         [0.81188602],\n",
       "         [0.2222659 ],\n",
       "         [0.2222659 ],\n",
       "         [0.56709766],\n",
       "         [0.56709766],\n",
       "         [0.43170816],\n",
       "         [0.43170816],\n",
       "         [0.16886947],\n",
       "         [0.16886947],\n",
       "         [0.57333053],\n",
       "         [0.57333053],\n",
       "         [0.35494195],\n",
       "         [0.35494195],\n",
       "         [0.74089806],\n",
       "         [0.74089806],\n",
       "         [0.8184744 ],\n",
       "         [0.8184744 ]])}}"
      ]
     },
     "execution_count": 1,
     "metadata": {},
     "output_type": "execute_result"
    }
   ],
   "source": [
    "ds = load_by_id(run_id_a)\n",
    "ds.get_parameter_data('x1')"
   ]
  },
  {
   "cell_type": "code",
   "execution_count": null,
   "metadata": {},
   "outputs": [],
   "source": []
  }
 ],
 "metadata": {
  "kernelspec": {
   "display_name": "Python 3",
   "language": "python",
   "name": "python3"
  },
  "language_info": {
   "codemirror_mode": {
    "name": "ipython",
    "version": 3
   },
   "file_extension": ".py",
   "mimetype": "text/x-python",
   "name": "python",
   "nbconvert_exporter": "python",
   "pygments_lexer": "ipython3",
   "version": "3.7.9"
  },
  "nbsphinx": {
   "timeout": 600
  },
  "toc": {
   "base_numbering": 1,
   "nav_menu": {},
   "number_sections": true,
   "sideBar": true,
   "skip_h1_title": false,
   "title_cell": "Table of Contents",
   "title_sidebar": "Contents",
   "toc_cell": false,
   "toc_position": {},
   "toc_section_display": true,
   "toc_window_display": false
  },
  "varInspector": {
   "cols": {
    "lenName": 16,
    "lenType": 16,
    "lenVar": 40
   },
   "kernels_config": {
    "python": {
     "delete_cmd_postfix": "",
     "delete_cmd_prefix": "del ",
     "library": "var_list.py",
     "varRefreshCmd": "print(var_dic_list())"
    },
    "r": {
     "delete_cmd_postfix": ") ",
     "delete_cmd_prefix": "rm(",
     "library": "var_list.r",
     "varRefreshCmd": "cat(var_dic_list()) "
    }
   },
   "types_to_exclude": [
    "module",
    "function",
    "builtin_function_or_method",
    "instance",
    "_Feature"
   ],
   "window_display": false
  }
 },
 "nbformat": 4,
 "nbformat_minor": 2
}
