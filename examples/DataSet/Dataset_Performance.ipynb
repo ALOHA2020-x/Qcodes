{
 "cells": [
  {
   "cell_type": "markdown",
   "metadata": {},
   "source": [
    "# DataSet Performance\n",
    "\n",
    "This notebook shows the trade-off between inserting data into a database row-by-row and as binary blobs. Inserting the data row-by-row means that we have direct access to all the data and may perform queries directly on the values of the data. On the other hand, as we shall see, this is much slower than inserting the data directly as binary blobs."
   ]
  },
  {
   "cell_type": "markdown",
   "metadata": {},
   "source": [
    "First, we choose a new location for the database to ensure that we don't add a bunch of benchmarking data to the default one."
   ]
  },
  {
   "cell_type": "code",
   "execution_count": 1,
   "metadata": {},
   "outputs": [
    {
     "name": "stdout",
     "output_type": "stream",
     "text": [
      "Logging hadn't been started.\n",
      "Activating auto-logging. Current session state plus future input saved.\n",
      "Filename       : /home/vsts/.qcodes/logs/command_history.log\n",
      "Mode           : append\n",
      "Output logging : True\n",
      "Raw input log  : False\n",
      "Timestamping   : True\n",
      "State          : active\n"
     ]
    },
    {
     "name": "stdout",
     "output_type": "stream",
     "text": [
      "Qcodes Logfile : /home/vsts/.qcodes/logs/200305-19689-qcodes.log\n"
     ]
    }
   ],
   "source": [
    "import os\n",
    "cwd = os.getcwd()\n",
    "import qcodes as qc\n",
    "qc.config[\"core\"][\"db_location\"] = os.path.join(cwd, 'testing.db')\n"
   ]
  },
  {
   "cell_type": "code",
   "execution_count": 2,
   "metadata": {},
   "outputs": [],
   "source": [
    "%matplotlib inline\n",
    "import time\n",
    "import matplotlib.pyplot as plt\n",
    "import numpy as np\n",
    "\n",
    "import qcodes as qc\n",
    "from qcodes.instrument.parameter import ManualParameter\n",
    "from qcodes.dataset.experiment_container import (Experiment,\n",
    "                                                 load_last_experiment,\n",
    "                                                 new_experiment)\n",
    "from qcodes.dataset.sqlite.database import initialise_database\n",
    "from qcodes import load_or_create_experiment\n",
    "from qcodes.dataset.measurements import Measurement"
   ]
  },
  {
   "cell_type": "code",
   "execution_count": 3,
   "metadata": {},
   "outputs": [
    {
     "name": "stdout",
     "output_type": "stream",
     "text": [
      "\r",
      "0it [00:00, ?it/s]"
     ]
    },
    {
     "name": "stdout",
     "output_type": "stream",
     "text": [
      "\r",
      "Upgrading database; v0 -> v1: : 0it [00:00, ?it/s]"
     ]
    },
    {
     "name": "stdout",
     "output_type": "stream",
     "text": [
      "\r",
      "Upgrading database; v0 -> v1: : 0it [00:00, ?it/s]"
     ]
    },
    {
     "name": "stdout",
     "output_type": "stream",
     "text": [
      "\n",
      "\r",
      "  0%|          | 0/1 [00:00<?, ?it/s]"
     ]
    },
    {
     "name": "stdout",
     "output_type": "stream",
     "text": [
      "\r",
      "Upgrading database; v1 -> v2:   0%|          | 0/1 [00:00<?, ?it/s]"
     ]
    },
    {
     "name": "stdout",
     "output_type": "stream",
     "text": [
      "\r",
      "Upgrading database; v1 -> v2: 100%|██████████| 1/1 [00:00<00:00, 1047.01it/s]"
     ]
    },
    {
     "name": "stdout",
     "output_type": "stream",
     "text": [
      "\n",
      "\r",
      "0it [00:00, ?it/s]"
     ]
    },
    {
     "name": "stdout",
     "output_type": "stream",
     "text": [
      "\r",
      "Upgrading database; v2 -> v3: : 0it [00:00, ?it/s]"
     ]
    },
    {
     "name": "stdout",
     "output_type": "stream",
     "text": [
      "\r",
      "Upgrading database; v2 -> v3: : 0it [00:00, ?it/s]"
     ]
    },
    {
     "name": "stdout",
     "output_type": "stream",
     "text": [
      "\n",
      "\r",
      "0it [00:00, ?it/s]"
     ]
    },
    {
     "name": "stdout",
     "output_type": "stream",
     "text": [
      "\r",
      "Upgrading database; v3 -> v4: : 0it [00:00, ?it/s]"
     ]
    },
    {
     "name": "stdout",
     "output_type": "stream",
     "text": [
      "\r",
      "Upgrading database; v3 -> v4: : 0it [00:00, ?it/s]"
     ]
    },
    {
     "name": "stdout",
     "output_type": "stream",
     "text": [
      "\n",
      "\r",
      "  0%|          | 0/1 [00:00<?, ?it/s]"
     ]
    },
    {
     "name": "stdout",
     "output_type": "stream",
     "text": [
      "\r",
      "Upgrading database; v4 -> v5:   0%|          | 0/1 [00:00<?, ?it/s]"
     ]
    },
    {
     "name": "stdout",
     "output_type": "stream",
     "text": [
      "\r",
      "Upgrading database; v4 -> v5: 100%|██████████| 1/1 [00:00<00:00, 699.52it/s]"
     ]
    },
    {
     "name": "stdout",
     "output_type": "stream",
     "text": [
      "\n",
      "\r",
      "0it [00:00, ?it/s]"
     ]
    },
    {
     "name": "stdout",
     "output_type": "stream",
     "text": [
      "\r",
      "Upgrading database; v5 -> v6: : 0it [00:00, ?it/s]"
     ]
    },
    {
     "name": "stdout",
     "output_type": "stream",
     "text": [
      "\r",
      "Upgrading database; v5 -> v6: : 0it [00:00, ?it/s]"
     ]
    },
    {
     "name": "stdout",
     "output_type": "stream",
     "text": [
      "\n",
      "\r",
      "  0%|          | 0/1 [00:00<?, ?it/s]"
     ]
    },
    {
     "name": "stdout",
     "output_type": "stream",
     "text": [
      "\r",
      "Upgrading database; v6 -> v7:   0%|          | 0/1 [00:00<?, ?it/s]"
     ]
    },
    {
     "name": "stdout",
     "output_type": "stream",
     "text": [
      "\r",
      "Upgrading database; v6 -> v7: 100%|██████████| 1/1 [00:00<00:00, 370.49it/s]"
     ]
    },
    {
     "name": "stdout",
     "output_type": "stream",
     "text": [
      "\n",
      "\r",
      "  0%|          | 0/1 [00:00<?, ?it/s]"
     ]
    },
    {
     "name": "stdout",
     "output_type": "stream",
     "text": [
      "\r",
      "Upgrading database; v7 -> v8:   0%|          | 0/1 [00:00<?, ?it/s]"
     ]
    },
    {
     "name": "stdout",
     "output_type": "stream",
     "text": [
      "\r",
      "Upgrading database; v7 -> v8: 100%|██████████| 1/1 [00:00<00:00, 748.85it/s]"
     ]
    },
    {
     "name": "stdout",
     "output_type": "stream",
     "text": [
      "\n",
      "\r",
      "  0%|          | 0/1 [00:00<?, ?it/s]"
     ]
    },
    {
     "name": "stdout",
     "output_type": "stream",
     "text": [
      "\r",
      "Upgrading database; v8 -> v9:   0%|          | 0/1 [00:00<?, ?it/s]"
     ]
    },
    {
     "name": "stdout",
     "output_type": "stream",
     "text": [
      "\r",
      "Upgrading database; v8 -> v9: 100%|██████████| 1/1 [00:00<00:00, 1150.70it/s]"
     ]
    },
    {
     "name": "stdout",
     "output_type": "stream",
     "text": [
      "\n"
     ]
    }
   ],
   "source": [
    "initialise_database()\n",
    "exp = load_or_create_experiment(experiment_name='tutorial_exp', sample_name=\"no sample\")"
   ]
  },
  {
   "cell_type": "markdown",
   "metadata": {},
   "source": [
    "Here, we define a simple function to benchmark the time it takes to insert n points with either numeric or array data type.\n",
    "We will compare both the time used to call ``add_result`` and the time used for the full measurement."
   ]
  },
  {
   "cell_type": "code",
   "execution_count": 4,
   "metadata": {},
   "outputs": [],
   "source": [
    "def insert_data(paramtype, npoints, nreps=1):\n",
    "\n",
    "    meas = Measurement(exp=exp)\n",
    "\n",
    "    x1 = ManualParameter('x1')\n",
    "    x2 = ManualParameter('x2')\n",
    "    x3 = ManualParameter('x3')\n",
    "    y1 = ManualParameter('y1')\n",
    "    y2 = ManualParameter('y2')\n",
    "\n",
    "    meas.register_parameter(x1, paramtype=paramtype)\n",
    "    meas.register_parameter(x2, paramtype=paramtype)\n",
    "    meas.register_parameter(x3, paramtype=paramtype)\n",
    "    meas.register_parameter(y1, setpoints=[x1, x2, x3],\n",
    "                            paramtype=paramtype)\n",
    "    meas.register_parameter(y2, setpoints=[x1, x2, x3],\n",
    "                            paramtype=paramtype)\n",
    "    start = time.perf_counter()\n",
    "    with meas.run() as datasaver:\n",
    "        start_adding = time.perf_counter()\n",
    "        for i in range(nreps):\n",
    "            datasaver.add_result((x1, np.random.rand(npoints)),\n",
    "                                 (x2, np.random.rand(npoints)),\n",
    "                                 (x3, np.random.rand(npoints)),\n",
    "                                 (y1, np.random.rand(npoints)),\n",
    "                                 (y2, np.random.rand(npoints)))\n",
    "        stop_adding = time.perf_counter()\n",
    "        run_id = datasaver.run_id\n",
    "    stop = time.perf_counter()\n",
    "    tot_time = stop - start\n",
    "    add_time = stop_adding - start_adding\n",
    "    return tot_time, add_time, run_id"
   ]
  },
  {
   "cell_type": "markdown",
   "metadata": {},
   "source": [
    "## Comparison between numeric/array data and binary blob"
   ]
  },
  {
   "cell_type": "markdown",
   "metadata": {},
   "source": [
    "### Case1: Short experiment time"
   ]
  },
  {
   "cell_type": "code",
   "execution_count": 5,
   "metadata": {},
   "outputs": [
    {
     "name": "stdout",
     "output_type": "stream",
     "text": [
      "Starting experimental run with id: 1. \n",
      "Starting experimental run with id: 2. \n",
      "Starting experimental run with id: 3. \n"
     ]
    },
    {
     "name": "stdout",
     "output_type": "stream",
     "text": [
      "Starting experimental run with id: 4. \n"
     ]
    },
    {
     "name": "stdout",
     "output_type": "stream",
     "text": [
      "Starting experimental run with id: 5. \n"
     ]
    },
    {
     "name": "stdout",
     "output_type": "stream",
     "text": [
      "Starting experimental run with id: 6. \n"
     ]
    },
    {
     "name": "stdout",
     "output_type": "stream",
     "text": [
      "Starting experimental run with id: 7. \n"
     ]
    },
    {
     "name": "stdout",
     "output_type": "stream",
     "text": [
      "Starting experimental run with id: 8. \n",
      "Starting experimental run with id: 9. \n"
     ]
    },
    {
     "name": "stdout",
     "output_type": "stream",
     "text": [
      "Starting experimental run with id: 10. \n",
      "Starting experimental run with id: 11. \n"
     ]
    },
    {
     "name": "stdout",
     "output_type": "stream",
     "text": [
      "Starting experimental run with id: 12. \n"
     ]
    },
    {
     "name": "stdout",
     "output_type": "stream",
     "text": [
      "Starting experimental run with id: 13. \n"
     ]
    },
    {
     "name": "stdout",
     "output_type": "stream",
     "text": [
      "Starting experimental run with id: 14. \n"
     ]
    }
   ],
   "source": [
    "sizes = [1,500,1000,2000,3000,4000,5000]\n",
    "t_numeric = []\n",
    "t_numeric_add = []\n",
    "t_array = []\n",
    "t_array_add = []\n",
    "for size in sizes:\n",
    "    tn, tna, run_id_n =  insert_data('numeric', size)\n",
    "    t_numeric.append(tn)\n",
    "    t_numeric_add.append(tna)\n",
    "\n",
    "    ta, taa, run_id_a =  insert_data('array', size)\n",
    "    t_array.append(ta)\n",
    "    t_array_add.append(taa)"
   ]
  },
  {
   "cell_type": "code",
   "execution_count": 6,
   "metadata": {},
   "outputs": [
    {
     "data": {
      "image/png": "[encoded data removed]",
      "text/plain": [
       "<Figure size 432x288 with 1 Axes>"
      ]
     },
     "metadata": {
      "needs_background": "light"
     },
     "output_type": "display_data"
    }
   ],
   "source": [
    "fig, ax = plt.subplots(1,1)\n",
    "ax.plot(sizes, t_numeric, 'o-', label='Inserting row-by-row')\n",
    "ax.plot(sizes, t_numeric_add, 'o-', label='Inserting row-by-row: add_result only')\n",
    "ax.plot(sizes, t_array, 'd-', label='Inserting as binary blob')\n",
    "ax.plot(sizes, t_array_add, 'd-', label='Inserting as binary blob: add_result only')\n",
    "ax.legend()\n",
    "ax.set_xlabel('Array length')\n",
    "ax.set_ylabel('Time (s)')\n",
    "fig.tight_layout()"
   ]
  },
  {
   "cell_type": "markdown",
   "metadata": {},
   "source": [
    "As shown in the latter figure, the time to setup and and close the experiment is approximately 0.4 sec. In case of small array sizes, the difference between inserting values of data as arrays and inserting them row-by-row is relatively unimportant. At larger array sizes, i.e. above 10000 points, the cost of writing data as individual datapoints starts to become important.\n"
   ]
  },
  {
   "cell_type": "markdown",
   "metadata": {},
   "source": [
    "### Case2: Long experiment time "
   ]
  },
  {
   "cell_type": "code",
   "execution_count": 7,
   "metadata": {},
   "outputs": [
    {
     "name": "stdout",
     "output_type": "stream",
     "text": [
      "Starting experimental run with id: 15. \n",
      "Starting experimental run with id: 16. \n",
      "Starting experimental run with id: 17. \n"
     ]
    },
    {
     "name": "stdout",
     "output_type": "stream",
     "text": [
      "Starting experimental run with id: 18. \n",
      "Starting experimental run with id: 19. \n"
     ]
    },
    {
     "name": "stdout",
     "output_type": "stream",
     "text": [
      "Starting experimental run with id: 20. \n"
     ]
    },
    {
     "name": "stdout",
     "output_type": "stream",
     "text": [
      "Starting experimental run with id: 21. \n"
     ]
    },
    {
     "name": "stdout",
     "output_type": "stream",
     "text": [
      "Starting experimental run with id: 22. \n"
     ]
    },
    {
     "name": "stdout",
     "output_type": "stream",
     "text": [
      "Starting experimental run with id: 23. \n"
     ]
    },
    {
     "name": "stdout",
     "output_type": "stream",
     "text": [
      "Starting experimental run with id: 24. \n"
     ]
    },
    {
     "name": "stdout",
     "output_type": "stream",
     "text": [
      "Starting experimental run with id: 25. \n"
     ]
    },
    {
     "name": "stdout",
     "output_type": "stream",
     "text": [
      "Starting experimental run with id: 26. \n"
     ]
    },
    {
     "name": "stdout",
     "output_type": "stream",
     "text": [
      "Starting experimental run with id: 27. \n"
     ]
    },
    {
     "name": "stdout",
     "output_type": "stream",
     "text": [
      "Starting experimental run with id: 28. \n"
     ]
    }
   ],
   "source": [
    "sizes = [1,500,1000,2000,3000,4000,5000]\n",
    "nreps = 100\n",
    "t_numeric = []\n",
    "t_numeric_add = []\n",
    "t_numeric_run_ids = []\n",
    "t_array = []\n",
    "t_array_add = []\n",
    "t_array_run_ids = []\n",
    "for size in sizes:\n",
    "    tn, tna, run_id_n =  insert_data('numeric', size, nreps=nreps)\n",
    "    t_numeric.append(tn)\n",
    "    t_numeric_add.append(tna)\n",
    "    t_numeric_run_ids.append(run_id_n)\n",
    "\n",
    "    ta, taa, run_id_a =  insert_data('array', size, nreps=nreps)\n",
    "    t_array.append(ta)\n",
    "    t_array_add.append(taa)\n",
    "    t_array_run_ids.append(run_id_a)"
   ]
  },
  {
   "cell_type": "code",
   "execution_count": 8,
   "metadata": {
    "scrolled": true
   },
   "outputs": [
    {
     "data": {
      "image/png": "[encoded data removed]",
      "text/plain": [
       "<Figure size 432x288 with 1 Axes>"
      ]
     },
     "metadata": {
      "needs_background": "light"
     },
     "output_type": "display_data"
    }
   ],
   "source": [
    "fig, ax = plt.subplots(1,1)\n",
    "ax.plot(sizes, t_numeric, 'o-', label='Inserting row-by-row')\n",
    "ax.plot(sizes, t_numeric_add, 'o-', label='Inserting row-by-row: add_result only')\n",
    "ax.plot(sizes, t_array, 'd-', label='Inserting as binary blob')\n",
    "ax.plot(sizes, t_array_add, 'd-', label='Inserting as binary blob: add_result only')\n",
    "ax.legend()\n",
    "ax.set_xlabel('Array length')\n",
    "ax.set_ylabel('Time (s)')\n",
    "fig.tight_layout()"
   ]
  },
  {
   "cell_type": "markdown",
   "metadata": {},
   "source": [
    "However, as we increase the length of the experiment, as seen here by repeating the insertion 100 times, we see a big difference between inserting values of the data row-by-row and inserting it as a binary blob."
   ]
  },
  {
   "cell_type": "markdown",
   "metadata": {},
   "source": [
    "## Loading the data "
   ]
  },
  {
   "cell_type": "code",
   "execution_count": 9,
   "metadata": {},
   "outputs": [],
   "source": [
    "from qcodes.dataset.data_set import load_by_id\n",
    "from qcodes.dataset.data_export import get_data_by_id"
   ]
  },
  {
   "cell_type": "markdown",
   "metadata": {},
   "source": [
    "As usual you can load the data by using the ``load_by_id`` function but you will notice that the different storage methods\n",
    "are reflected in shape of the data as it is retrieved. "
   ]
  },
  {
   "cell_type": "code",
   "execution_count": 10,
   "metadata": {},
   "outputs": [],
   "source": [
    "run_id_n = t_numeric_run_ids[0]\n",
    "run_id_a = t_array_run_ids[0]"
   ]
  },
  {
   "cell_type": "code",
   "execution_count": 11,
   "metadata": {
    "scrolled": true
   },
   "outputs": [
    {
     "data": {
      "text/plain": [
       "{'x1': {'x1': array([0.80802036, 0.80802036, 0.97824092, 0.97824092, 0.13531278,\n",
       "         0.13531278, 0.32971256, 0.32971256, 0.5072404 , 0.5072404 ,\n",
       "         0.3320467 , 0.3320467 , 0.05804683, 0.05804683, 0.12798859,\n",
       "         0.12798859, 0.38166715, 0.38166715, 0.79076506, 0.79076506,\n",
       "         0.56448012, 0.56448012, 0.70377097, 0.70377097, 0.64329443,\n",
       "         0.64329443, 0.20020317, 0.20020317, 0.50508491, 0.50508491,\n",
       "         0.86004379, 0.86004379, 0.03088925, 0.03088925, 0.87692499,\n",
       "         0.87692499, 0.51728317, 0.51728317, 0.87000629, 0.87000629,\n",
       "         0.14074993, 0.14074993, 0.40092139, 0.40092139, 0.79650341,\n",
       "         0.79650341, 0.04037625, 0.04037625, 0.69724991, 0.69724991,\n",
       "         0.79670985, 0.79670985, 0.49457061, 0.49457061, 0.82946865,\n",
       "         0.82946865, 0.37996573, 0.37996573, 0.761122  , 0.761122  ,\n",
       "         0.51188369, 0.51188369, 0.20487322, 0.20487322, 0.21435313,\n",
       "         0.21435313, 0.87370326, 0.87370326, 0.04195955, 0.04195955,\n",
       "         0.86661745, 0.86661745, 0.34453648, 0.34453648, 0.33448667,\n",
       "         0.33448667, 0.86481423, 0.86481423, 0.47139882, 0.47139882,\n",
       "         0.10108282, 0.10108282, 0.42366638, 0.42366638, 0.40385067,\n",
       "         0.40385067, 0.45073721, 0.45073721, 0.36961293, 0.36961293,\n",
       "         0.558965  , 0.558965  , 0.95826759, 0.95826759, 0.36500372,\n",
       "         0.36500372, 0.17446316, 0.17446316, 0.7478789 , 0.7478789 ,\n",
       "         0.9728413 , 0.9728413 , 0.95905289, 0.95905289, 0.89587194,\n",
       "         0.89587194, 0.86684947, 0.86684947, 0.62207434, 0.62207434,\n",
       "         0.68764589, 0.68764589, 0.0566101 , 0.0566101 , 0.16809979,\n",
       "         0.16809979, 0.94407563, 0.94407563, 0.93553936, 0.93553936,\n",
       "         0.23480848, 0.23480848, 0.6423735 , 0.6423735 , 0.03132533,\n",
       "         0.03132533, 0.14490411, 0.14490411, 0.90840424, 0.90840424,\n",
       "         0.10129687, 0.10129687, 0.35310767, 0.35310767, 0.09240955,\n",
       "         0.09240955, 0.57394593, 0.57394593, 0.06520402, 0.06520402,\n",
       "         0.56711548, 0.56711548, 0.66545954, 0.66545954, 0.05570266,\n",
       "         0.05570266, 0.15208248, 0.15208248, 0.00571609, 0.00571609,\n",
       "         0.70595793, 0.70595793, 0.8095987 , 0.8095987 , 0.8310344 ,\n",
       "         0.8310344 , 0.25787133, 0.25787133, 0.42015218, 0.42015218,\n",
       "         0.55384428, 0.55384428, 0.07616883, 0.07616883, 0.2168738 ,\n",
       "         0.2168738 , 0.94223442, 0.94223442, 0.32864275, 0.32864275,\n",
       "         0.0325277 , 0.0325277 , 0.36337965, 0.36337965, 0.05751694,\n",
       "         0.05751694, 0.46714004, 0.46714004, 0.81961333, 0.81961333,\n",
       "         0.05149732, 0.05149732, 0.57365721, 0.57365721, 0.396896  ,\n",
       "         0.396896  , 0.74945239, 0.74945239, 0.98506256, 0.98506256,\n",
       "         0.35809908, 0.35809908, 0.46811505, 0.46811505, 0.60924567,\n",
       "         0.60924567, 0.95047163, 0.95047163, 0.77497465, 0.77497465])}}"
      ]
     },
     "execution_count": 11,
     "metadata": {},
     "output_type": "execute_result"
    }
   ],
   "source": [
    "ds = load_by_id(run_id_n)\n",
    "ds.get_parameter_data('x1')"
   ]
  },
  {
   "cell_type": "markdown",
   "metadata": {},
   "source": [
    "And a dataset stored as binary arrays"
   ]
  },
  {
   "cell_type": "code",
   "execution_count": 12,
   "metadata": {
    "scrolled": true
   },
   "outputs": [
    {
     "data": {
      "text/plain": [
       "{'x1': {'x1': array([[0.51361665],\n",
       "         [0.51361665],\n",
       "         [0.12730262],\n",
       "         [0.12730262],\n",
       "         [0.8024629 ],\n",
       "         [0.8024629 ],\n",
       "         [0.8829724 ],\n",
       "         [0.8829724 ],\n",
       "         [0.19291098],\n",
       "         [0.19291098],\n",
       "         [0.29952322],\n",
       "         [0.29952322],\n",
       "         [0.0742407 ],\n",
       "         [0.0742407 ],\n",
       "         [0.60545476],\n",
       "         [0.60545476],\n",
       "         [0.79424315],\n",
       "         [0.79424315],\n",
       "         [0.18372213],\n",
       "         [0.18372213],\n",
       "         [0.28971681],\n",
       "         [0.28971681],\n",
       "         [0.64860128],\n",
       "         [0.64860128],\n",
       "         [0.35421981],\n",
       "         [0.35421981],\n",
       "         [0.64468423],\n",
       "         [0.64468423],\n",
       "         [0.27277964],\n",
       "         [0.27277964],\n",
       "         [0.12149811],\n",
       "         [0.12149811],\n",
       "         [0.40289941],\n",
       "         [0.40289941],\n",
       "         [0.84542614],\n",
       "         [0.84542614],\n",
       "         [0.40224037],\n",
       "         [0.40224037],\n",
       "         [0.19609207],\n",
       "         [0.19609207],\n",
       "         [0.8818034 ],\n",
       "         [0.8818034 ],\n",
       "         [0.96643759],\n",
       "         [0.96643759],\n",
       "         [0.50467669],\n",
       "         [0.50467669],\n",
       "         [0.90799951],\n",
       "         [0.90799951],\n",
       "         [0.87005954],\n",
       "         [0.87005954],\n",
       "         [0.91740372],\n",
       "         [0.91740372],\n",
       "         [0.72091959],\n",
       "         [0.72091959],\n",
       "         [0.88006637],\n",
       "         [0.88006637],\n",
       "         [0.05573649],\n",
       "         [0.05573649],\n",
       "         [0.57439951],\n",
       "         [0.57439951],\n",
       "         [0.96364683],\n",
       "         [0.96364683],\n",
       "         [0.64302403],\n",
       "         [0.64302403],\n",
       "         [0.79821546],\n",
       "         [0.79821546],\n",
       "         [0.59431903],\n",
       "         [0.59431903],\n",
       "         [0.19317729],\n",
       "         [0.19317729],\n",
       "         [0.50757832],\n",
       "         [0.50757832],\n",
       "         [0.90383155],\n",
       "         [0.90383155],\n",
       "         [0.04995293],\n",
       "         [0.04995293],\n",
       "         [0.83533409],\n",
       "         [0.83533409],\n",
       "         [0.72787336],\n",
       "         [0.72787336],\n",
       "         [0.66554835],\n",
       "         [0.66554835],\n",
       "         [0.72776307],\n",
       "         [0.72776307],\n",
       "         [0.839178  ],\n",
       "         [0.839178  ],\n",
       "         [0.38236241],\n",
       "         [0.38236241],\n",
       "         [0.37410045],\n",
       "         [0.37410045],\n",
       "         [0.94069248],\n",
       "         [0.94069248],\n",
       "         [0.36421018],\n",
       "         [0.36421018],\n",
       "         [0.16469063],\n",
       "         [0.16469063],\n",
       "         [0.03162231],\n",
       "         [0.03162231],\n",
       "         [0.36823986],\n",
       "         [0.36823986],\n",
       "         [0.66751877],\n",
       "         [0.66751877],\n",
       "         [0.96991645],\n",
       "         [0.96991645],\n",
       "         [0.57408303],\n",
       "         [0.57408303],\n",
       "         [0.98238138],\n",
       "         [0.98238138],\n",
       "         [0.94604169],\n",
       "         [0.94604169],\n",
       "         [0.77033244],\n",
       "         [0.77033244],\n",
       "         [0.09185061],\n",
       "         [0.09185061],\n",
       "         [0.2448829 ],\n",
       "         [0.2448829 ],\n",
       "         [0.14119358],\n",
       "         [0.14119358],\n",
       "         [0.89450923],\n",
       "         [0.89450923],\n",
       "         [0.8600204 ],\n",
       "         [0.8600204 ],\n",
       "         [0.23438422],\n",
       "         [0.23438422],\n",
       "         [0.61092122],\n",
       "         [0.61092122],\n",
       "         [0.29255398],\n",
       "         [0.29255398],\n",
       "         [0.41372019],\n",
       "         [0.41372019],\n",
       "         [0.22736544],\n",
       "         [0.22736544],\n",
       "         [0.69979408],\n",
       "         [0.69979408],\n",
       "         [0.17948983],\n",
       "         [0.17948983],\n",
       "         [0.52197255],\n",
       "         [0.52197255],\n",
       "         [0.40754543],\n",
       "         [0.40754543],\n",
       "         [0.05122533],\n",
       "         [0.05122533],\n",
       "         [0.16180699],\n",
       "         [0.16180699],\n",
       "         [0.22281291],\n",
       "         [0.22281291],\n",
       "         [0.19499741],\n",
       "         [0.19499741],\n",
       "         [0.20257883],\n",
       "         [0.20257883],\n",
       "         [0.32533374],\n",
       "         [0.32533374],\n",
       "         [0.18130086],\n",
       "         [0.18130086],\n",
       "         [0.14591075],\n",
       "         [0.14591075],\n",
       "         [0.09753421],\n",
       "         [0.09753421],\n",
       "         [0.52490164],\n",
       "         [0.52490164],\n",
       "         [0.72109417],\n",
       "         [0.72109417],\n",
       "         [0.60500671],\n",
       "         [0.60500671],\n",
       "         [0.63093918],\n",
       "         [0.63093918],\n",
       "         [0.40784066],\n",
       "         [0.40784066],\n",
       "         [0.67386308],\n",
       "         [0.67386308],\n",
       "         [0.20280452],\n",
       "         [0.20280452],\n",
       "         [0.5485955 ],\n",
       "         [0.5485955 ],\n",
       "         [0.43399702],\n",
       "         [0.43399702],\n",
       "         [0.7938508 ],\n",
       "         [0.7938508 ],\n",
       "         [0.92096738],\n",
       "         [0.92096738],\n",
       "         [0.98507613],\n",
       "         [0.98507613],\n",
       "         [0.73267   ],\n",
       "         [0.73267   ],\n",
       "         [0.31558687],\n",
       "         [0.31558687],\n",
       "         [0.85550324],\n",
       "         [0.85550324],\n",
       "         [0.55842931],\n",
       "         [0.55842931],\n",
       "         [0.53025983],\n",
       "         [0.53025983],\n",
       "         [0.17636608],\n",
       "         [0.17636608],\n",
       "         [0.73824979],\n",
       "         [0.73824979],\n",
       "         [0.7891818 ],\n",
       "         [0.7891818 ],\n",
       "         [0.36450081],\n",
       "         [0.36450081]])}}"
      ]
     },
     "execution_count": 12,
     "metadata": {},
     "output_type": "execute_result"
    }
   ],
   "source": [
    "ds = load_by_id(run_id_a)\n",
    "ds.get_parameter_data('x1')"
   ]
  },
  {
   "cell_type": "code",
   "execution_count": null,
   "metadata": {},
   "outputs": [],
   "source": []
  }
 ],
 "metadata": {
  "kernelspec": {
   "display_name": "Python 3",
   "language": "python",
   "name": "python3"
  },
  "language_info": {
   "codemirror_mode": {
    "name": "ipython",
    "version": 3
   },
   "file_extension": ".py",
   "mimetype": "text/x-python",
   "name": "python",
   "nbconvert_exporter": "python",
   "pygments_lexer": "ipython3",
   "version": "3.7.5"
  },
  "nbsphinx": {
   "timeout": 600
  },
  "toc": {
   "base_numbering": 1,
   "nav_menu": {},
   "number_sections": true,
   "sideBar": true,
   "skip_h1_title": false,
   "title_cell": "Table of Contents",
   "title_sidebar": "Contents",
   "toc_cell": false,
   "toc_position": {},
   "toc_section_display": true,
   "toc_window_display": false
  },
  "varInspector": {
   "cols": {
    "lenName": 16,
    "lenType": 16,
    "lenVar": 40
   },
   "kernels_config": {
    "python": {
     "delete_cmd_postfix": "",
     "delete_cmd_prefix": "del ",
     "library": "var_list.py",
     "varRefreshCmd": "print(var_dic_list())"
    },
    "r": {
     "delete_cmd_postfix": ") ",
     "delete_cmd_prefix": "rm(",
     "library": "var_list.r",
     "varRefreshCmd": "cat(var_dic_list()) "
    }
   },
   "types_to_exclude": [
    "module",
    "function",
    "builtin_function_or_method",
    "instance",
    "_Feature"
   ],
   "window_display": false
  }
 },
 "nbformat": 4,
 "nbformat_minor": 2
}
