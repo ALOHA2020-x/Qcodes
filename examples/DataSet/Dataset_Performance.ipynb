{
 "cells": [
  {
   "cell_type": "markdown",
   "metadata": {},
   "source": [
    "# DataSet Performance\n",
    "\n",
    "This notebook shows the trade-off between inserting data into a database row-by-row and as binary blobs. Inserting the data row-by-row means that we have direct access to all the data and may perform queries directly on the values of the data. On the other hand, as we shall see, this is much slower than inserting the data directly as binary blobs."
   ]
  },
  {
   "cell_type": "markdown",
   "metadata": {},
   "source": [
    "First, we choose a new location for the database to ensure that we don't add a bunch of benchmarking data to the default one."
   ]
  },
  {
   "cell_type": "code",
   "execution_count": 1,
   "metadata": {
    "execution": {
     "iopub.execute_input": "2021-04-12T07:22:13.242691Z",
     "iopub.status.busy": "2021-04-12T07:22:13.242032Z",
     "iopub.status.idle": "2021-04-12T07:22:14.264020Z",
     "shell.execute_reply": "2021-04-12T07:22:14.262533Z"
    }
   },
   "outputs": [
    {
     "name": "stdout",
     "output_type": "stream",
     "text": [
      "Logging hadn't been started.\n",
      "Activating auto-logging. Current session state plus future input saved.\n",
      "Filename       : /home/runner/.qcodes/logs/command_history.log\n",
      "Mode           : append\n",
      "Output logging : True\n",
      "Raw input log  : False\n",
      "Timestamping   : True\n",
      "State          : active\n"
     ]
    },
    {
     "name": "stdout",
     "output_type": "stream",
     "text": [
      "Qcodes Logfile : /home/runner/.qcodes/logs/210412-4440-qcodes.log\n"
     ]
    }
   ],
   "source": [
    "import os\n",
    "cwd = os.getcwd()\n",
    "import qcodes as qc\n",
    "qc.config[\"core\"][\"db_location\"] = os.path.join(cwd, 'testing.db')\n"
   ]
  },
  {
   "cell_type": "code",
   "execution_count": 2,
   "metadata": {
    "execution": {
     "iopub.execute_input": "2021-04-12T07:22:14.271044Z",
     "iopub.status.busy": "2021-04-12T07:22:14.270438Z",
     "iopub.status.idle": "2021-04-12T07:22:14.523718Z",
     "shell.execute_reply": "2021-04-12T07:22:14.522855Z"
    }
   },
   "outputs": [],
   "source": [
    "%matplotlib inline\n",
    "import time\n",
    "import matplotlib.pyplot as plt\n",
    "import numpy as np\n",
    "\n",
    "import qcodes as qc\n",
    "from qcodes.instrument.parameter import ManualParameter\n",
    "from qcodes.dataset.experiment_container import (Experiment,\n",
    "                                                 load_last_experiment,\n",
    "                                                 new_experiment)\n",
    "from qcodes.dataset.sqlite.database import initialise_database\n",
    "from qcodes import load_or_create_experiment\n",
    "from qcodes.dataset.measurements import Measurement"
   ]
  },
  {
   "cell_type": "code",
   "execution_count": 3,
   "metadata": {
    "execution": {
     "iopub.execute_input": "2021-04-12T07:22:14.527699Z",
     "iopub.status.busy": "2021-04-12T07:22:14.527063Z",
     "iopub.status.idle": "2021-04-12T07:22:14.596368Z",
     "shell.execute_reply": "2021-04-12T07:22:14.595819Z"
    }
   },
   "outputs": [
    {
     "name": "stdout",
     "output_type": "stream",
     "text": [
      "\r",
      "0it [00:00, ?it/s]"
     ]
    },
    {
     "name": "stdout",
     "output_type": "stream",
     "text": [
      "\r",
      "Upgrading database; v0 -> v1: : 0it [00:00, ?it/s]"
     ]
    },
    {
     "name": "stdout",
     "output_type": "stream",
     "text": [
      "\r",
      "Upgrading database; v0 -> v1: : 0it [00:00, ?it/s]"
     ]
    },
    {
     "name": "stdout",
     "output_type": "stream",
     "text": [
      "\n",
      "\r",
      "  0%|          | 0/1 [00:00<?, ?it/s]"
     ]
    },
    {
     "name": "stdout",
     "output_type": "stream",
     "text": [
      "\r",
      "Upgrading database; v1 -> v2:   0%|          | 0/1 [00:00<?, ?it/s]"
     ]
    },
    {
     "name": "stdout",
     "output_type": "stream",
     "text": [
      "\r",
      "Upgrading database; v1 -> v2: 100%|██████████| 1/1 [00:00<00:00, 1176.52it/s]"
     ]
    },
    {
     "name": "stdout",
     "output_type": "stream",
     "text": [
      "\n",
      "\r",
      "0it [00:00, ?it/s]"
     ]
    },
    {
     "name": "stdout",
     "output_type": "stream",
     "text": [
      "\r",
      "Upgrading database; v2 -> v3: : 0it [00:00, ?it/s]"
     ]
    },
    {
     "name": "stdout",
     "output_type": "stream",
     "text": [
      "\r",
      "Upgrading database; v2 -> v3: : 0it [00:00, ?it/s]"
     ]
    },
    {
     "name": "stdout",
     "output_type": "stream",
     "text": [
      "\n",
      "\r",
      "0it [00:00, ?it/s]"
     ]
    },
    {
     "name": "stdout",
     "output_type": "stream",
     "text": [
      "\r",
      "Upgrading database; v3 -> v4: : 0it [00:00, ?it/s]"
     ]
    },
    {
     "name": "stdout",
     "output_type": "stream",
     "text": [
      "\r",
      "Upgrading database; v3 -> v4: : 0it [00:00, ?it/s]"
     ]
    },
    {
     "name": "stdout",
     "output_type": "stream",
     "text": [
      "\n",
      "\r",
      "  0%|          | 0/1 [00:00<?, ?it/s]"
     ]
    },
    {
     "name": "stdout",
     "output_type": "stream",
     "text": [
      "\r",
      "Upgrading database; v4 -> v5:   0%|          | 0/1 [00:00<?, ?it/s]"
     ]
    },
    {
     "name": "stdout",
     "output_type": "stream",
     "text": [
      "\r",
      "Upgrading database; v4 -> v5: 100%|██████████| 1/1 [00:00<00:00, 979.75it/s]"
     ]
    },
    {
     "name": "stdout",
     "output_type": "stream",
     "text": [
      "\n",
      "\r",
      "0it [00:00, ?it/s]"
     ]
    },
    {
     "name": "stdout",
     "output_type": "stream",
     "text": [
      "\r",
      "Upgrading database; v5 -> v6: : 0it [00:00, ?it/s]"
     ]
    },
    {
     "name": "stdout",
     "output_type": "stream",
     "text": [
      "\r",
      "Upgrading database; v5 -> v6: : 0it [00:00, ?it/s]"
     ]
    },
    {
     "name": "stdout",
     "output_type": "stream",
     "text": [
      "\n",
      "\r",
      "  0%|          | 0/1 [00:00<?, ?it/s]"
     ]
    },
    {
     "name": "stdout",
     "output_type": "stream",
     "text": [
      "\r",
      "Upgrading database; v6 -> v7:   0%|          | 0/1 [00:00<?, ?it/s]"
     ]
    },
    {
     "name": "stdout",
     "output_type": "stream",
     "text": [
      "\r",
      "Upgrading database; v6 -> v7: 100%|██████████| 1/1 [00:00<00:00, 366.03it/s]"
     ]
    },
    {
     "name": "stdout",
     "output_type": "stream",
     "text": [
      "\n",
      "\r",
      "  0%|          | 0/1 [00:00<?, ?it/s]"
     ]
    },
    {
     "name": "stdout",
     "output_type": "stream",
     "text": [
      "\r",
      "Upgrading database; v7 -> v8:   0%|          | 0/1 [00:00<?, ?it/s]"
     ]
    },
    {
     "name": "stdout",
     "output_type": "stream",
     "text": [
      "\r",
      "Upgrading database; v7 -> v8: 100%|██████████| 1/1 [00:00<00:00, 538.42it/s]"
     ]
    },
    {
     "name": "stdout",
     "output_type": "stream",
     "text": [
      "\n",
      "\r",
      "  0%|          | 0/1 [00:00<?, ?it/s]"
     ]
    },
    {
     "name": "stdout",
     "output_type": "stream",
     "text": [
      "\r",
      "Upgrading database; v8 -> v9:   0%|          | 0/1 [00:00<?, ?it/s]"
     ]
    },
    {
     "name": "stdout",
     "output_type": "stream",
     "text": [
      "\r",
      "Upgrading database; v8 -> v9: 100%|██████████| 1/1 [00:00<00:00, 542.88it/s]"
     ]
    },
    {
     "name": "stdout",
     "output_type": "stream",
     "text": [
      "\n"
     ]
    }
   ],
   "source": [
    "initialise_database()\n",
    "exp = load_or_create_experiment(experiment_name='tutorial_exp', sample_name=\"no sample\")"
   ]
  },
  {
   "cell_type": "markdown",
   "metadata": {},
   "source": [
    "Here, we define a simple function to benchmark the time it takes to insert n points with either numeric or array data type.\n",
    "We will compare both the time used to call ``add_result`` and the time used for the full measurement."
   ]
  },
  {
   "cell_type": "code",
   "execution_count": 4,
   "metadata": {
    "execution": {
     "iopub.execute_input": "2021-04-12T07:22:14.606767Z",
     "iopub.status.busy": "2021-04-12T07:22:14.605513Z",
     "iopub.status.idle": "2021-04-12T07:22:14.607414Z",
     "shell.execute_reply": "2021-04-12T07:22:14.607885Z"
    }
   },
   "outputs": [],
   "source": [
    "def insert_data(paramtype, npoints, nreps=1):\n",
    "\n",
    "    meas = Measurement(exp=exp)\n",
    "\n",
    "    x1 = ManualParameter('x1')\n",
    "    x2 = ManualParameter('x2')\n",
    "    x3 = ManualParameter('x3')\n",
    "    y1 = ManualParameter('y1')\n",
    "    y2 = ManualParameter('y2')\n",
    "\n",
    "    meas.register_parameter(x1, paramtype=paramtype)\n",
    "    meas.register_parameter(x2, paramtype=paramtype)\n",
    "    meas.register_parameter(x3, paramtype=paramtype)\n",
    "    meas.register_parameter(y1, setpoints=[x1, x2, x3],\n",
    "                            paramtype=paramtype)\n",
    "    meas.register_parameter(y2, setpoints=[x1, x2, x3],\n",
    "                            paramtype=paramtype)\n",
    "    start = time.perf_counter()\n",
    "    with meas.run() as datasaver:\n",
    "        start_adding = time.perf_counter()\n",
    "        for i in range(nreps):\n",
    "            datasaver.add_result((x1, np.random.rand(npoints)),\n",
    "                                 (x2, np.random.rand(npoints)),\n",
    "                                 (x3, np.random.rand(npoints)),\n",
    "                                 (y1, np.random.rand(npoints)),\n",
    "                                 (y2, np.random.rand(npoints)))\n",
    "        stop_adding = time.perf_counter()\n",
    "        run_id = datasaver.run_id\n",
    "    stop = time.perf_counter()\n",
    "    tot_time = stop - start\n",
    "    add_time = stop_adding - start_adding\n",
    "    return tot_time, add_time, run_id"
   ]
  },
  {
   "cell_type": "markdown",
   "metadata": {},
   "source": [
    "## Comparison between numeric/array data and binary blob"
   ]
  },
  {
   "cell_type": "markdown",
   "metadata": {},
   "source": [
    "### Case1: Short experiment time"
   ]
  },
  {
   "cell_type": "code",
   "execution_count": 5,
   "metadata": {
    "execution": {
     "iopub.execute_input": "2021-04-12T07:22:14.615093Z",
     "iopub.status.busy": "2021-04-12T07:22:14.614454Z",
     "iopub.status.idle": "2021-04-12T07:22:15.430495Z",
     "shell.execute_reply": "2021-04-12T07:22:15.429627Z"
    }
   },
   "outputs": [
    {
     "name": "stdout",
     "output_type": "stream",
     "text": [
      "Starting experimental run with id: 1. \n",
      "Starting experimental run with id: 2. \n",
      "Starting experimental run with id: 3. \n",
      "Starting experimental run with id: 4. \n",
      "Starting experimental run with id: 5. \n"
     ]
    },
    {
     "name": "stdout",
     "output_type": "stream",
     "text": [
      "Starting experimental run with id: 6. \n"
     ]
    },
    {
     "name": "stdout",
     "output_type": "stream",
     "text": [
      "Starting experimental run with id: 7. \n"
     ]
    },
    {
     "name": "stdout",
     "output_type": "stream",
     "text": [
      "Starting experimental run with id: 8. \n",
      "Starting experimental run with id: 9. \n"
     ]
    },
    {
     "name": "stdout",
     "output_type": "stream",
     "text": [
      "Starting experimental run with id: 10. \n",
      "Starting experimental run with id: 11. \n"
     ]
    },
    {
     "name": "stdout",
     "output_type": "stream",
     "text": [
      "Starting experimental run with id: 12. \n",
      "Starting experimental run with id: 13. \n"
     ]
    },
    {
     "name": "stdout",
     "output_type": "stream",
     "text": [
      "Starting experimental run with id: 14. \n"
     ]
    }
   ],
   "source": [
    "sizes = [1,500,1000,2000,3000,4000,5000]\n",
    "t_numeric = []\n",
    "t_numeric_add = []\n",
    "t_array = []\n",
    "t_array_add = []\n",
    "for size in sizes:\n",
    "    tn, tna, run_id_n =  insert_data('numeric', size)\n",
    "    t_numeric.append(tn)\n",
    "    t_numeric_add.append(tna)\n",
    "\n",
    "    ta, taa, run_id_a =  insert_data('array', size)\n",
    "    t_array.append(ta)\n",
    "    t_array_add.append(taa)"
   ]
  },
  {
   "cell_type": "code",
   "execution_count": 6,
   "metadata": {
    "execution": {
     "iopub.execute_input": "2021-04-12T07:22:15.450758Z",
     "iopub.status.busy": "2021-04-12T07:22:15.450211Z",
     "iopub.status.idle": "2021-04-12T07:22:15.642564Z",
     "shell.execute_reply": "2021-04-12T07:22:15.643145Z"
    }
   },
   "outputs": [
    {
     "data": {
      "image/png": "[encoded data removed]",
      "text/plain": [
       "<Figure size 432x288 with 1 Axes>"
      ]
     },
     "metadata": {
      "needs_background": "light"
     },
     "output_type": "display_data"
    }
   ],
   "source": [
    "fig, ax = plt.subplots(1,1)\n",
    "ax.plot(sizes, t_numeric, 'o-', label='Inserting row-by-row')\n",
    "ax.plot(sizes, t_numeric_add, 'o-', label='Inserting row-by-row: add_result only')\n",
    "ax.plot(sizes, t_array, 'd-', label='Inserting as binary blob')\n",
    "ax.plot(sizes, t_array_add, 'd-', label='Inserting as binary blob: add_result only')\n",
    "ax.legend()\n",
    "ax.set_xlabel('Array length')\n",
    "ax.set_ylabel('Time (s)')\n",
    "fig.tight_layout()"
   ]
  },
  {
   "cell_type": "markdown",
   "metadata": {},
   "source": [
    "As shown in the latter figure, the time to setup and and close the experiment is approximately 0.4 sec. In case of small array sizes, the difference between inserting values of data as arrays and inserting them row-by-row is relatively unimportant. At larger array sizes, i.e. above 10000 points, the cost of writing data as individual datapoints starts to become important.\n"
   ]
  },
  {
   "cell_type": "markdown",
   "metadata": {},
   "source": [
    "### Case2: Long experiment time "
   ]
  },
  {
   "cell_type": "code",
   "execution_count": 7,
   "metadata": {
    "execution": {
     "iopub.execute_input": "2021-04-12T07:22:15.651069Z",
     "iopub.status.busy": "2021-04-12T07:22:15.650500Z",
     "iopub.status.idle": "2021-04-12T07:23:11.636708Z",
     "shell.execute_reply": "2021-04-12T07:23:11.636106Z"
    }
   },
   "outputs": [
    {
     "name": "stdout",
     "output_type": "stream",
     "text": [
      "Starting experimental run with id: 15. \n",
      "Starting experimental run with id: 16. \n",
      "Starting experimental run with id: 17. \n"
     ]
    },
    {
     "name": "stdout",
     "output_type": "stream",
     "text": [
      "Starting experimental run with id: 18. \n",
      "Starting experimental run with id: 19. \n"
     ]
    },
    {
     "name": "stdout",
     "output_type": "stream",
     "text": [
      "Starting experimental run with id: 20. \n"
     ]
    },
    {
     "name": "stdout",
     "output_type": "stream",
     "text": [
      "Starting experimental run with id: 21. \n"
     ]
    },
    {
     "name": "stdout",
     "output_type": "stream",
     "text": [
      "Starting experimental run with id: 22. \n"
     ]
    },
    {
     "name": "stdout",
     "output_type": "stream",
     "text": [
      "Starting experimental run with id: 23. \n"
     ]
    },
    {
     "name": "stdout",
     "output_type": "stream",
     "text": [
      "Starting experimental run with id: 24. \n"
     ]
    },
    {
     "name": "stdout",
     "output_type": "stream",
     "text": [
      "Starting experimental run with id: 25. \n"
     ]
    },
    {
     "name": "stdout",
     "output_type": "stream",
     "text": [
      "Starting experimental run with id: 26. \n"
     ]
    },
    {
     "name": "stdout",
     "output_type": "stream",
     "text": [
      "Starting experimental run with id: 27. \n"
     ]
    },
    {
     "name": "stdout",
     "output_type": "stream",
     "text": [
      "Starting experimental run with id: 28. \n"
     ]
    }
   ],
   "source": [
    "sizes = [1,500,1000,2000,3000,4000,5000]\n",
    "nreps = 100\n",
    "t_numeric = []\n",
    "t_numeric_add = []\n",
    "t_numeric_run_ids = []\n",
    "t_array = []\n",
    "t_array_add = []\n",
    "t_array_run_ids = []\n",
    "for size in sizes:\n",
    "    tn, tna, run_id_n =  insert_data('numeric', size, nreps=nreps)\n",
    "    t_numeric.append(tn)\n",
    "    t_numeric_add.append(tna)\n",
    "    t_numeric_run_ids.append(run_id_n)\n",
    "\n",
    "    ta, taa, run_id_a =  insert_data('array', size, nreps=nreps)\n",
    "    t_array.append(ta)\n",
    "    t_array_add.append(taa)\n",
    "    t_array_run_ids.append(run_id_a)"
   ]
  },
  {
   "cell_type": "code",
   "execution_count": 8,
   "metadata": {
    "execution": {
     "iopub.execute_input": "2021-04-12T07:23:11.666285Z",
     "iopub.status.busy": "2021-04-12T07:23:11.656415Z",
     "iopub.status.idle": "2021-04-12T07:23:11.824376Z",
     "shell.execute_reply": "2021-04-12T07:23:11.824879Z"
    },
    "scrolled": true
   },
   "outputs": [
    {
     "data": {
      "image/png": "[encoded data removed]",
      "text/plain": [
       "<Figure size 432x288 with 1 Axes>"
      ]
     },
     "metadata": {
      "needs_background": "light"
     },
     "output_type": "display_data"
    }
   ],
   "source": [
    "fig, ax = plt.subplots(1,1)\n",
    "ax.plot(sizes, t_numeric, 'o-', label='Inserting row-by-row')\n",
    "ax.plot(sizes, t_numeric_add, 'o-', label='Inserting row-by-row: add_result only')\n",
    "ax.plot(sizes, t_array, 'd-', label='Inserting as binary blob')\n",
    "ax.plot(sizes, t_array_add, 'd-', label='Inserting as binary blob: add_result only')\n",
    "ax.legend()\n",
    "ax.set_xlabel('Array length')\n",
    "ax.set_ylabel('Time (s)')\n",
    "fig.tight_layout()"
   ]
  },
  {
   "cell_type": "markdown",
   "metadata": {},
   "source": [
    "However, as we increase the length of the experiment, as seen here by repeating the insertion 100 times, we see a big difference between inserting values of the data row-by-row and inserting it as a binary blob."
   ]
  },
  {
   "cell_type": "markdown",
   "metadata": {},
   "source": [
    "## Loading the data "
   ]
  },
  {
   "cell_type": "code",
   "execution_count": 9,
   "metadata": {
    "execution": {
     "iopub.execute_input": "2021-04-12T07:23:11.829438Z",
     "iopub.status.busy": "2021-04-12T07:23:11.828414Z",
     "iopub.status.idle": "2021-04-12T07:23:11.831885Z",
     "shell.execute_reply": "2021-04-12T07:23:11.832688Z"
    }
   },
   "outputs": [],
   "source": [
    "from qcodes.dataset.data_set import load_by_id\n",
    "from qcodes.dataset.data_export import get_data_by_id"
   ]
  },
  {
   "cell_type": "markdown",
   "metadata": {},
   "source": [
    "As usual you can load the data by using the ``load_by_id`` function but you will notice that the different storage methods\n",
    "are reflected in shape of the data as it is retrieved. "
   ]
  },
  {
   "cell_type": "code",
   "execution_count": 10,
   "metadata": {
    "execution": {
     "iopub.execute_input": "2021-04-12T07:23:11.836528Z",
     "iopub.status.busy": "2021-04-12T07:23:11.835962Z",
     "iopub.status.idle": "2021-04-12T07:23:11.838971Z",
     "shell.execute_reply": "2021-04-12T07:23:11.839715Z"
    }
   },
   "outputs": [],
   "source": [
    "run_id_n = t_numeric_run_ids[0]\n",
    "run_id_a = t_array_run_ids[0]"
   ]
  },
  {
   "cell_type": "code",
   "execution_count": 11,
   "metadata": {
    "execution": {
     "iopub.execute_input": "2021-04-12T07:23:11.843317Z",
     "iopub.status.busy": "2021-04-12T07:23:11.842753Z",
     "iopub.status.idle": "2021-04-12T07:23:11.851808Z",
     "shell.execute_reply": "2021-04-12T07:23:11.852300Z"
    },
    "scrolled": true
   },
   "outputs": [
    {
     "data": {
      "text/plain": [
       "{'x1': {'x1': array([0.93434719, 0.93434719, 0.58795634, 0.58795634, 0.18518302,\n",
       "         0.18518302, 0.05509045, 0.05509045, 0.39676282, 0.39676282,\n",
       "         0.45470101, 0.45470101, 0.29984096, 0.29984096, 0.45470602,\n",
       "         0.45470602, 0.93588707, 0.93588707, 0.90791485, 0.90791485,\n",
       "         0.32665499, 0.32665499, 0.97706863, 0.97706863, 0.26405012,\n",
       "         0.26405012, 0.01885893, 0.01885893, 0.94830697, 0.94830697,\n",
       "         0.4776939 , 0.4776939 , 0.22802204, 0.22802204, 0.46333131,\n",
       "         0.46333131, 0.64618559, 0.64618559, 0.12637287, 0.12637287,\n",
       "         0.51381487, 0.51381487, 0.1315917 , 0.1315917 , 0.0446919 ,\n",
       "         0.0446919 , 0.57235537, 0.57235537, 0.95964411, 0.95964411,\n",
       "         0.68120402, 0.68120402, 0.46165485, 0.46165485, 0.84312174,\n",
       "         0.84312174, 0.45450249, 0.45450249, 0.41344802, 0.41344802,\n",
       "         0.98295956, 0.98295956, 0.40418946, 0.40418946, 0.00745823,\n",
       "         0.00745823, 0.38767876, 0.38767876, 0.82873731, 0.82873731,\n",
       "         0.96720173, 0.96720173, 0.22229562, 0.22229562, 0.53239222,\n",
       "         0.53239222, 0.25633608, 0.25633608, 0.26289484, 0.26289484,\n",
       "         0.91424285, 0.91424285, 0.27970119, 0.27970119, 0.78747668,\n",
       "         0.78747668, 0.14132186, 0.14132186, 0.89791897, 0.89791897,\n",
       "         0.37558406, 0.37558406, 0.621707  , 0.621707  , 0.84951661,\n",
       "         0.84951661, 0.61247176, 0.61247176, 0.59323769, 0.59323769,\n",
       "         0.85952302, 0.85952302, 0.71723124, 0.71723124, 0.37382976,\n",
       "         0.37382976, 0.85172219, 0.85172219, 0.96085827, 0.96085827,\n",
       "         0.08146032, 0.08146032, 0.83875894, 0.83875894, 0.02953974,\n",
       "         0.02953974, 0.97130694, 0.97130694, 0.2894279 , 0.2894279 ,\n",
       "         0.30459736, 0.30459736, 0.54612888, 0.54612888, 0.3793062 ,\n",
       "         0.3793062 , 0.87073162, 0.87073162, 0.61852273, 0.61852273,\n",
       "         0.15971456, 0.15971456, 0.49637365, 0.49637365, 0.25886612,\n",
       "         0.25886612, 0.47310728, 0.47310728, 0.24166136, 0.24166136,\n",
       "         0.74611897, 0.74611897, 0.65268172, 0.65268172, 0.62918934,\n",
       "         0.62918934, 0.74657696, 0.74657696, 0.23043587, 0.23043587,\n",
       "         0.65461622, 0.65461622, 0.6664999 , 0.6664999 , 0.28209886,\n",
       "         0.28209886, 0.62330697, 0.62330697, 0.65417415, 0.65417415,\n",
       "         0.5101794 , 0.5101794 , 0.44148533, 0.44148533, 0.21397524,\n",
       "         0.21397524, 0.42062376, 0.42062376, 0.63960808, 0.63960808,\n",
       "         0.04173657, 0.04173657, 0.64545541, 0.64545541, 0.111739  ,\n",
       "         0.111739  , 0.23323821, 0.23323821, 0.6526545 , 0.6526545 ,\n",
       "         0.97206954, 0.97206954, 0.04575881, 0.04575881, 0.94343175,\n",
       "         0.94343175, 0.46446441, 0.46446441, 0.3062909 , 0.3062909 ,\n",
       "         0.67253009, 0.67253009, 0.91662819, 0.91662819, 0.04228132,\n",
       "         0.04228132, 0.67675007, 0.67675007, 0.24529052, 0.24529052])}}"
      ]
     },
     "execution_count": 1,
     "metadata": {},
     "output_type": "execute_result"
    }
   ],
   "source": [
    "ds = load_by_id(run_id_n)\n",
    "ds.get_parameter_data('x1')"
   ]
  },
  {
   "cell_type": "markdown",
   "metadata": {},
   "source": [
    "And a dataset stored as binary arrays"
   ]
  },
  {
   "cell_type": "code",
   "execution_count": 12,
   "metadata": {
    "execution": {
     "iopub.execute_input": "2021-04-12T07:23:11.855677Z",
     "iopub.status.busy": "2021-04-12T07:23:11.855104Z",
     "iopub.status.idle": "2021-04-12T07:23:11.912875Z",
     "shell.execute_reply": "2021-04-12T07:23:11.913719Z"
    },
    "scrolled": true
   },
   "outputs": [
    {
     "data": {
      "text/plain": [
       "{'x1': {'x1': array([[0.73920191],\n",
       "         [0.73920191],\n",
       "         [0.55231018],\n",
       "         [0.55231018],\n",
       "         [0.1714828 ],\n",
       "         [0.1714828 ],\n",
       "         [0.07528026],\n",
       "         [0.07528026],\n",
       "         [0.5497816 ],\n",
       "         [0.5497816 ],\n",
       "         [0.16284377],\n",
       "         [0.16284377],\n",
       "         [0.74877319],\n",
       "         [0.74877319],\n",
       "         [0.8139366 ],\n",
       "         [0.8139366 ],\n",
       "         [0.19827503],\n",
       "         [0.19827503],\n",
       "         [0.80191204],\n",
       "         [0.80191204],\n",
       "         [0.58743386],\n",
       "         [0.58743386],\n",
       "         [0.87095517],\n",
       "         [0.87095517],\n",
       "         [0.81923018],\n",
       "         [0.81923018],\n",
       "         [0.71784082],\n",
       "         [0.71784082],\n",
       "         [0.80226538],\n",
       "         [0.80226538],\n",
       "         [0.23061218],\n",
       "         [0.23061218],\n",
       "         [0.70059885],\n",
       "         [0.70059885],\n",
       "         [0.84760281],\n",
       "         [0.84760281],\n",
       "         [0.40028494],\n",
       "         [0.40028494],\n",
       "         [0.91840569],\n",
       "         [0.91840569],\n",
       "         [0.83369523],\n",
       "         [0.83369523],\n",
       "         [0.37868638],\n",
       "         [0.37868638],\n",
       "         [0.57953293],\n",
       "         [0.57953293],\n",
       "         [0.163941  ],\n",
       "         [0.163941  ],\n",
       "         [0.72382804],\n",
       "         [0.72382804],\n",
       "         [0.06395418],\n",
       "         [0.06395418],\n",
       "         [0.80864028],\n",
       "         [0.80864028],\n",
       "         [0.63160299],\n",
       "         [0.63160299],\n",
       "         [0.68777397],\n",
       "         [0.68777397],\n",
       "         [0.45976355],\n",
       "         [0.45976355],\n",
       "         [0.82622943],\n",
       "         [0.82622943],\n",
       "         [0.04115627],\n",
       "         [0.04115627],\n",
       "         [0.49241514],\n",
       "         [0.49241514],\n",
       "         [0.32853831],\n",
       "         [0.32853831],\n",
       "         [0.29977285],\n",
       "         [0.29977285],\n",
       "         [0.27924443],\n",
       "         [0.27924443],\n",
       "         [0.61197371],\n",
       "         [0.61197371],\n",
       "         [0.9403978 ],\n",
       "         [0.9403978 ],\n",
       "         [0.9497746 ],\n",
       "         [0.9497746 ],\n",
       "         [0.24012475],\n",
       "         [0.24012475],\n",
       "         [0.44829589],\n",
       "         [0.44829589],\n",
       "         [0.53218755],\n",
       "         [0.53218755],\n",
       "         [0.02401098],\n",
       "         [0.02401098],\n",
       "         [0.2867377 ],\n",
       "         [0.2867377 ],\n",
       "         [0.85309571],\n",
       "         [0.85309571],\n",
       "         [0.31375393],\n",
       "         [0.31375393],\n",
       "         [0.88777356],\n",
       "         [0.88777356],\n",
       "         [0.5049432 ],\n",
       "         [0.5049432 ],\n",
       "         [0.28955572],\n",
       "         [0.28955572],\n",
       "         [0.31801982],\n",
       "         [0.31801982],\n",
       "         [0.45503439],\n",
       "         [0.45503439],\n",
       "         [0.83285291],\n",
       "         [0.83285291],\n",
       "         [0.64129248],\n",
       "         [0.64129248],\n",
       "         [0.10830751],\n",
       "         [0.10830751],\n",
       "         [0.16057055],\n",
       "         [0.16057055],\n",
       "         [0.50313653],\n",
       "         [0.50313653],\n",
       "         [0.84972529],\n",
       "         [0.84972529],\n",
       "         [0.47795126],\n",
       "         [0.47795126],\n",
       "         [0.40405338],\n",
       "         [0.40405338],\n",
       "         [0.39787525],\n",
       "         [0.39787525],\n",
       "         [0.60406696],\n",
       "         [0.60406696],\n",
       "         [0.34148142],\n",
       "         [0.34148142],\n",
       "         [0.31072234],\n",
       "         [0.31072234],\n",
       "         [0.03178399],\n",
       "         [0.03178399],\n",
       "         [0.38951975],\n",
       "         [0.38951975],\n",
       "         [0.9036476 ],\n",
       "         [0.9036476 ],\n",
       "         [0.70454123],\n",
       "         [0.70454123],\n",
       "         [0.59325797],\n",
       "         [0.59325797],\n",
       "         [0.95253932],\n",
       "         [0.95253932],\n",
       "         [0.5514684 ],\n",
       "         [0.5514684 ],\n",
       "         [0.32596156],\n",
       "         [0.32596156],\n",
       "         [0.2123933 ],\n",
       "         [0.2123933 ],\n",
       "         [0.0664847 ],\n",
       "         [0.0664847 ],\n",
       "         [0.18543622],\n",
       "         [0.18543622],\n",
       "         [0.44690346],\n",
       "         [0.44690346],\n",
       "         [0.70429468],\n",
       "         [0.70429468],\n",
       "         [0.22939109],\n",
       "         [0.22939109],\n",
       "         [0.04677323],\n",
       "         [0.04677323],\n",
       "         [0.18060252],\n",
       "         [0.18060252],\n",
       "         [0.78860814],\n",
       "         [0.78860814],\n",
       "         [0.71197598],\n",
       "         [0.71197598],\n",
       "         [0.39653548],\n",
       "         [0.39653548],\n",
       "         [0.57521159],\n",
       "         [0.57521159],\n",
       "         [0.3780224 ],\n",
       "         [0.3780224 ],\n",
       "         [0.76556515],\n",
       "         [0.76556515],\n",
       "         [0.68092861],\n",
       "         [0.68092861],\n",
       "         [0.95925075],\n",
       "         [0.95925075],\n",
       "         [0.59435882],\n",
       "         [0.59435882],\n",
       "         [0.80301932],\n",
       "         [0.80301932],\n",
       "         [0.54985374],\n",
       "         [0.54985374],\n",
       "         [0.86469301],\n",
       "         [0.86469301],\n",
       "         [0.48223497],\n",
       "         [0.48223497],\n",
       "         [0.45390323],\n",
       "         [0.45390323],\n",
       "         [0.23914589],\n",
       "         [0.23914589],\n",
       "         [0.02060358],\n",
       "         [0.02060358],\n",
       "         [0.7842584 ],\n",
       "         [0.7842584 ],\n",
       "         [0.52889739],\n",
       "         [0.52889739],\n",
       "         [0.35518205],\n",
       "         [0.35518205],\n",
       "         [0.77374912],\n",
       "         [0.77374912],\n",
       "         [0.61684252],\n",
       "         [0.61684252]])}}"
      ]
     },
     "execution_count": 1,
     "metadata": {},
     "output_type": "execute_result"
    }
   ],
   "source": [
    "ds = load_by_id(run_id_a)\n",
    "ds.get_parameter_data('x1')"
   ]
  },
  {
   "cell_type": "code",
   "execution_count": null,
   "metadata": {},
   "outputs": [],
   "source": []
  }
 ],
 "metadata": {
  "kernelspec": {
   "display_name": "Python 3",
   "language": "python",
   "name": "python3"
  },
  "language_info": {
   "codemirror_mode": {
    "name": "ipython",
    "version": 3
   },
   "file_extension": ".py",
   "mimetype": "text/x-python",
   "name": "python",
   "nbconvert_exporter": "python",
   "pygments_lexer": "ipython3",
   "version": "3.7.10"
  },
  "nbsphinx": {
   "timeout": 600
  },
  "toc": {
   "base_numbering": 1,
   "nav_menu": {},
   "number_sections": true,
   "sideBar": true,
   "skip_h1_title": false,
   "title_cell": "Table of Contents",
   "title_sidebar": "Contents",
   "toc_cell": false,
   "toc_position": {},
   "toc_section_display": true,
   "toc_window_display": false
  },
  "varInspector": {
   "cols": {
    "lenName": 16,
    "lenType": 16,
    "lenVar": 40
   },
   "kernels_config": {
    "python": {
     "delete_cmd_postfix": "",
     "delete_cmd_prefix": "del ",
     "library": "var_list.py",
     "varRefreshCmd": "print(var_dic_list())"
    },
    "r": {
     "delete_cmd_postfix": ") ",
     "delete_cmd_prefix": "rm(",
     "library": "var_list.r",
     "varRefreshCmd": "cat(var_dic_list()) "
    }
   },
   "types_to_exclude": [
    "module",
    "function",
    "builtin_function_or_method",
    "instance",
    "_Feature"
   ],
   "window_display": false
  }
 },
 "nbformat": 4,
 "nbformat_minor": 2
}
