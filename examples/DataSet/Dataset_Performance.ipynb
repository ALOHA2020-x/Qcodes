{
 "cells": [
  {
   "cell_type": "markdown",
   "metadata": {},
   "source": [
    "# DataSet Performance\n",
    "\n",
    "This notebook shows the trade-off between inserting data into a database row-by-row and as binary blobs. Inserting the data row-by-row means that we have direct access to all the data and may perform queries directly on the values of the data. On the other hand, as we shall see, this is much slower than inserting the data directly as binary blobs."
   ]
  },
  {
   "cell_type": "markdown",
   "metadata": {},
   "source": [
    "First, we choose a new location for the database to ensure that we don't add a bunch of benchmarking data to the default one."
   ]
  },
  {
   "cell_type": "code",
   "execution_count": 1,
   "metadata": {},
   "outputs": [
    {
     "name": "stdout",
     "output_type": "stream",
     "text": [
      "Logging hadn't been started.\n",
      "Activating auto-logging. Current session state plus future input saved.\n",
      "Filename       : /home/vsts/.qcodes/logs/command_history.log\n",
      "Mode           : append\n",
      "Output logging : True\n",
      "Raw input log  : False\n",
      "Timestamping   : True\n",
      "State          : active\n"
     ]
    },
    {
     "name": "stdout",
     "output_type": "stream",
     "text": [
      "Qcodes Logfile : /home/vsts/.qcodes/logs/200529-19515-qcodes.log\n"
     ]
    }
   ],
   "source": [
    "import os\n",
    "cwd = os.getcwd()\n",
    "import qcodes as qc\n",
    "qc.config[\"core\"][\"db_location\"] = os.path.join(cwd, 'testing.db')\n"
   ]
  },
  {
   "cell_type": "code",
   "execution_count": 2,
   "metadata": {},
   "outputs": [],
   "source": [
    "%matplotlib inline\n",
    "import time\n",
    "import matplotlib.pyplot as plt\n",
    "import numpy as np\n",
    "\n",
    "import qcodes as qc\n",
    "from qcodes.instrument.parameter import ManualParameter\n",
    "from qcodes.dataset.experiment_container import (Experiment,\n",
    "                                                 load_last_experiment,\n",
    "                                                 new_experiment)\n",
    "from qcodes.dataset.sqlite.database import initialise_database\n",
    "from qcodes import load_or_create_experiment\n",
    "from qcodes.dataset.measurements import Measurement"
   ]
  },
  {
   "cell_type": "code",
   "execution_count": 3,
   "metadata": {},
   "outputs": [
    {
     "name": "stdout",
     "output_type": "stream",
     "text": [
      "\r",
      "0it [00:00, ?it/s]"
     ]
    },
    {
     "name": "stdout",
     "output_type": "stream",
     "text": [
      "\r",
      "Upgrading database; v0 -> v1: : 0it [00:00, ?it/s]"
     ]
    },
    {
     "name": "stdout",
     "output_type": "stream",
     "text": [
      "\r",
      "Upgrading database; v0 -> v1: : 0it [00:00, ?it/s]"
     ]
    },
    {
     "name": "stdout",
     "output_type": "stream",
     "text": [
      "\n",
      "\r",
      "  0%|          | 0/1 [00:00<?, ?it/s]"
     ]
    },
    {
     "name": "stdout",
     "output_type": "stream",
     "text": [
      "\r",
      "Upgrading database; v1 -> v2:   0%|          | 0/1 [00:00<?, ?it/s]"
     ]
    },
    {
     "name": "stdout",
     "output_type": "stream",
     "text": [
      "\r",
      "Upgrading database; v1 -> v2: 100%|██████████| 1/1 [00:00<00:00, 807.84it/s]"
     ]
    },
    {
     "name": "stdout",
     "output_type": "stream",
     "text": [
      "\n",
      "\r",
      "0it [00:00, ?it/s]"
     ]
    },
    {
     "name": "stdout",
     "output_type": "stream",
     "text": [
      "\r",
      "Upgrading database; v2 -> v3: : 0it [00:00, ?it/s]"
     ]
    },
    {
     "name": "stdout",
     "output_type": "stream",
     "text": [
      "\r",
      "Upgrading database; v2 -> v3: : 0it [00:00, ?it/s]"
     ]
    },
    {
     "name": "stdout",
     "output_type": "stream",
     "text": [
      "\n",
      "\r",
      "0it [00:00, ?it/s]"
     ]
    },
    {
     "name": "stdout",
     "output_type": "stream",
     "text": [
      "\r",
      "Upgrading database; v3 -> v4: : 0it [00:00, ?it/s]"
     ]
    },
    {
     "name": "stdout",
     "output_type": "stream",
     "text": [
      "\r",
      "Upgrading database; v3 -> v4: : 0it [00:00, ?it/s]"
     ]
    },
    {
     "name": "stdout",
     "output_type": "stream",
     "text": [
      "\n",
      "\r",
      "  0%|          | 0/1 [00:00<?, ?it/s]"
     ]
    },
    {
     "name": "stdout",
     "output_type": "stream",
     "text": [
      "\r",
      "Upgrading database; v4 -> v5:   0%|          | 0/1 [00:00<?, ?it/s]"
     ]
    },
    {
     "name": "stdout",
     "output_type": "stream",
     "text": [
      "\r",
      "Upgrading database; v4 -> v5: 100%|██████████| 1/1 [00:00<00:00, 729.95it/s]"
     ]
    },
    {
     "name": "stdout",
     "output_type": "stream",
     "text": [
      "\n",
      "\r",
      "0it [00:00, ?it/s]"
     ]
    },
    {
     "name": "stdout",
     "output_type": "stream",
     "text": [
      "\r",
      "Upgrading database; v5 -> v6: : 0it [00:00, ?it/s]"
     ]
    },
    {
     "name": "stdout",
     "output_type": "stream",
     "text": [
      "\r",
      "Upgrading database; v5 -> v6: : 0it [00:00, ?it/s]"
     ]
    },
    {
     "name": "stdout",
     "output_type": "stream",
     "text": [
      "\n",
      "\r",
      "  0%|          | 0/1 [00:00<?, ?it/s]"
     ]
    },
    {
     "name": "stdout",
     "output_type": "stream",
     "text": [
      "\r",
      "Upgrading database; v6 -> v7:   0%|          | 0/1 [00:00<?, ?it/s]"
     ]
    },
    {
     "name": "stdout",
     "output_type": "stream",
     "text": [
      "\r",
      "Upgrading database; v6 -> v7: 100%|██████████| 1/1 [00:00<00:00, 403.30it/s]"
     ]
    },
    {
     "name": "stdout",
     "output_type": "stream",
     "text": [
      "\n",
      "\r",
      "  0%|          | 0/1 [00:00<?, ?it/s]"
     ]
    },
    {
     "name": "stdout",
     "output_type": "stream",
     "text": [
      "\r",
      "Upgrading database; v7 -> v8:   0%|          | 0/1 [00:00<?, ?it/s]"
     ]
    },
    {
     "name": "stdout",
     "output_type": "stream",
     "text": [
      "\r",
      "Upgrading database; v7 -> v8: 100%|██████████| 1/1 [00:00<00:00, 698.24it/s]"
     ]
    },
    {
     "name": "stdout",
     "output_type": "stream",
     "text": [
      "\n",
      "\r",
      "  0%|          | 0/1 [00:00<?, ?it/s]"
     ]
    },
    {
     "name": "stdout",
     "output_type": "stream",
     "text": [
      "\r",
      "Upgrading database; v8 -> v9:   0%|          | 0/1 [00:00<?, ?it/s]"
     ]
    },
    {
     "name": "stdout",
     "output_type": "stream",
     "text": [
      "\r",
      "Upgrading database; v8 -> v9: 100%|██████████| 1/1 [00:00<00:00, 792.13it/s]"
     ]
    },
    {
     "name": "stdout",
     "output_type": "stream",
     "text": [
      "\n"
     ]
    }
   ],
   "source": [
    "initialise_database()\n",
    "exp = load_or_create_experiment(experiment_name='tutorial_exp', sample_name=\"no sample\")"
   ]
  },
  {
   "cell_type": "markdown",
   "metadata": {},
   "source": [
    "Here, we define a simple function to benchmark the time it takes to insert n points with either numeric or array data type.\n",
    "We will compare both the time used to call ``add_result`` and the time used for the full measurement."
   ]
  },
  {
   "cell_type": "code",
   "execution_count": 4,
   "metadata": {},
   "outputs": [],
   "source": [
    "def insert_data(paramtype, npoints, nreps=1):\n",
    "\n",
    "    meas = Measurement(exp=exp)\n",
    "\n",
    "    x1 = ManualParameter('x1')\n",
    "    x2 = ManualParameter('x2')\n",
    "    x3 = ManualParameter('x3')\n",
    "    y1 = ManualParameter('y1')\n",
    "    y2 = ManualParameter('y2')\n",
    "\n",
    "    meas.register_parameter(x1, paramtype=paramtype)\n",
    "    meas.register_parameter(x2, paramtype=paramtype)\n",
    "    meas.register_parameter(x3, paramtype=paramtype)\n",
    "    meas.register_parameter(y1, setpoints=[x1, x2, x3],\n",
    "                            paramtype=paramtype)\n",
    "    meas.register_parameter(y2, setpoints=[x1, x2, x3],\n",
    "                            paramtype=paramtype)\n",
    "    start = time.perf_counter()\n",
    "    with meas.run() as datasaver:\n",
    "        start_adding = time.perf_counter()\n",
    "        for i in range(nreps):\n",
    "            datasaver.add_result((x1, np.random.rand(npoints)),\n",
    "                                 (x2, np.random.rand(npoints)),\n",
    "                                 (x3, np.random.rand(npoints)),\n",
    "                                 (y1, np.random.rand(npoints)),\n",
    "                                 (y2, np.random.rand(npoints)))\n",
    "        stop_adding = time.perf_counter()\n",
    "        run_id = datasaver.run_id\n",
    "    stop = time.perf_counter()\n",
    "    tot_time = stop - start\n",
    "    add_time = stop_adding - start_adding\n",
    "    return tot_time, add_time, run_id"
   ]
  },
  {
   "cell_type": "markdown",
   "metadata": {},
   "source": [
    "## Comparison between numeric/array data and binary blob"
   ]
  },
  {
   "cell_type": "markdown",
   "metadata": {},
   "source": [
    "### Case1: Short experiment time"
   ]
  },
  {
   "cell_type": "code",
   "execution_count": 5,
   "metadata": {},
   "outputs": [
    {
     "name": "stdout",
     "output_type": "stream",
     "text": [
      "Starting experimental run with id: 1. \n",
      "Starting experimental run with id: 2. \n",
      "Starting experimental run with id: 3. \n",
      "Starting experimental run with id: 4. \n"
     ]
    },
    {
     "name": "stdout",
     "output_type": "stream",
     "text": [
      "Starting experimental run with id: 5. \n"
     ]
    },
    {
     "name": "stdout",
     "output_type": "stream",
     "text": [
      "Starting experimental run with id: 6. \n",
      "Starting experimental run with id: 7. \n"
     ]
    },
    {
     "name": "stdout",
     "output_type": "stream",
     "text": [
      "Starting experimental run with id: 8. \n"
     ]
    },
    {
     "name": "stdout",
     "output_type": "stream",
     "text": [
      "Starting experimental run with id: 9. \n"
     ]
    },
    {
     "name": "stdout",
     "output_type": "stream",
     "text": [
      "Starting experimental run with id: 10. \n",
      "Starting experimental run with id: 11. \n"
     ]
    },
    {
     "name": "stdout",
     "output_type": "stream",
     "text": [
      "Starting experimental run with id: 12. \n",
      "Starting experimental run with id: 13. \n"
     ]
    },
    {
     "name": "stdout",
     "output_type": "stream",
     "text": [
      "Starting experimental run with id: 14. \n"
     ]
    }
   ],
   "source": [
    "sizes = [1,500,1000,2000,3000,4000,5000]\n",
    "t_numeric = []\n",
    "t_numeric_add = []\n",
    "t_array = []\n",
    "t_array_add = []\n",
    "for size in sizes:\n",
    "    tn, tna, run_id_n =  insert_data('numeric', size)\n",
    "    t_numeric.append(tn)\n",
    "    t_numeric_add.append(tna)\n",
    "\n",
    "    ta, taa, run_id_a =  insert_data('array', size)\n",
    "    t_array.append(ta)\n",
    "    t_array_add.append(taa)"
   ]
  },
  {
   "cell_type": "code",
   "execution_count": 6,
   "metadata": {},
   "outputs": [
    {
     "data": {
      "image/png": "[encoded data removed]",
      "text/plain": [
       "<Figure size 432x288 with 1 Axes>"
      ]
     },
     "metadata": {
      "needs_background": "light"
     },
     "output_type": "display_data"
    }
   ],
   "source": [
    "fig, ax = plt.subplots(1,1)\n",
    "ax.plot(sizes, t_numeric, 'o-', label='Inserting row-by-row')\n",
    "ax.plot(sizes, t_numeric_add, 'o-', label='Inserting row-by-row: add_result only')\n",
    "ax.plot(sizes, t_array, 'd-', label='Inserting as binary blob')\n",
    "ax.plot(sizes, t_array_add, 'd-', label='Inserting as binary blob: add_result only')\n",
    "ax.legend()\n",
    "ax.set_xlabel('Array length')\n",
    "ax.set_ylabel('Time (s)')\n",
    "fig.tight_layout()"
   ]
  },
  {
   "cell_type": "markdown",
   "metadata": {},
   "source": [
    "As shown in the latter figure, the time to setup and and close the experiment is approximately 0.4 sec. In case of small array sizes, the difference between inserting values of data as arrays and inserting them row-by-row is relatively unimportant. At larger array sizes, i.e. above 10000 points, the cost of writing data as individual datapoints starts to become important.\n"
   ]
  },
  {
   "cell_type": "markdown",
   "metadata": {},
   "source": [
    "### Case2: Long experiment time "
   ]
  },
  {
   "cell_type": "code",
   "execution_count": 7,
   "metadata": {},
   "outputs": [
    {
     "name": "stdout",
     "output_type": "stream",
     "text": [
      "Starting experimental run with id: 15. \n",
      "Starting experimental run with id: 16. \n",
      "Starting experimental run with id: 17. \n"
     ]
    },
    {
     "name": "stdout",
     "output_type": "stream",
     "text": [
      "Starting experimental run with id: 18. \n",
      "Starting experimental run with id: 19. \n"
     ]
    },
    {
     "name": "stdout",
     "output_type": "stream",
     "text": [
      "Starting experimental run with id: 20. \n"
     ]
    },
    {
     "name": "stdout",
     "output_type": "stream",
     "text": [
      "Starting experimental run with id: 21. \n"
     ]
    },
    {
     "name": "stdout",
     "output_type": "stream",
     "text": [
      "Starting experimental run with id: 22. \n"
     ]
    },
    {
     "name": "stdout",
     "output_type": "stream",
     "text": [
      "Starting experimental run with id: 23. \n"
     ]
    },
    {
     "name": "stdout",
     "output_type": "stream",
     "text": [
      "Starting experimental run with id: 24. \n"
     ]
    },
    {
     "name": "stdout",
     "output_type": "stream",
     "text": [
      "Starting experimental run with id: 25. \n"
     ]
    },
    {
     "name": "stdout",
     "output_type": "stream",
     "text": [
      "Starting experimental run with id: 26. \n"
     ]
    },
    {
     "name": "stdout",
     "output_type": "stream",
     "text": [
      "Starting experimental run with id: 27. \n"
     ]
    },
    {
     "name": "stdout",
     "output_type": "stream",
     "text": [
      "Starting experimental run with id: 28. \n"
     ]
    }
   ],
   "source": [
    "sizes = [1,500,1000,2000,3000,4000,5000]\n",
    "nreps = 100\n",
    "t_numeric = []\n",
    "t_numeric_add = []\n",
    "t_numeric_run_ids = []\n",
    "t_array = []\n",
    "t_array_add = []\n",
    "t_array_run_ids = []\n",
    "for size in sizes:\n",
    "    tn, tna, run_id_n =  insert_data('numeric', size, nreps=nreps)\n",
    "    t_numeric.append(tn)\n",
    "    t_numeric_add.append(tna)\n",
    "    t_numeric_run_ids.append(run_id_n)\n",
    "\n",
    "    ta, taa, run_id_a =  insert_data('array', size, nreps=nreps)\n",
    "    t_array.append(ta)\n",
    "    t_array_add.append(taa)\n",
    "    t_array_run_ids.append(run_id_a)"
   ]
  },
  {
   "cell_type": "code",
   "execution_count": 8,
   "metadata": {
    "scrolled": true
   },
   "outputs": [
    {
     "data": {
      "image/png": "[encoded data removed]",
      "text/plain": [
       "<Figure size 432x288 with 1 Axes>"
      ]
     },
     "metadata": {
      "needs_background": "light"
     },
     "output_type": "display_data"
    }
   ],
   "source": [
    "fig, ax = plt.subplots(1,1)\n",
    "ax.plot(sizes, t_numeric, 'o-', label='Inserting row-by-row')\n",
    "ax.plot(sizes, t_numeric_add, 'o-', label='Inserting row-by-row: add_result only')\n",
    "ax.plot(sizes, t_array, 'd-', label='Inserting as binary blob')\n",
    "ax.plot(sizes, t_array_add, 'd-', label='Inserting as binary blob: add_result only')\n",
    "ax.legend()\n",
    "ax.set_xlabel('Array length')\n",
    "ax.set_ylabel('Time (s)')\n",
    "fig.tight_layout()"
   ]
  },
  {
   "cell_type": "markdown",
   "metadata": {},
   "source": [
    "However, as we increase the length of the experiment, as seen here by repeating the insertion 100 times, we see a big difference between inserting values of the data row-by-row and inserting it as a binary blob."
   ]
  },
  {
   "cell_type": "markdown",
   "metadata": {},
   "source": [
    "## Loading the data "
   ]
  },
  {
   "cell_type": "code",
   "execution_count": 9,
   "metadata": {},
   "outputs": [],
   "source": [
    "from qcodes.dataset.data_set import load_by_id\n",
    "from qcodes.dataset.data_export import get_data_by_id"
   ]
  },
  {
   "cell_type": "markdown",
   "metadata": {},
   "source": [
    "As usual you can load the data by using the ``load_by_id`` function but you will notice that the different storage methods\n",
    "are reflected in shape of the data as it is retrieved. "
   ]
  },
  {
   "cell_type": "code",
   "execution_count": 10,
   "metadata": {},
   "outputs": [],
   "source": [
    "run_id_n = t_numeric_run_ids[0]\n",
    "run_id_a = t_array_run_ids[0]"
   ]
  },
  {
   "cell_type": "code",
   "execution_count": 11,
   "metadata": {
    "scrolled": true
   },
   "outputs": [
    {
     "data": {
      "text/plain": [
       "{'x1': {'x1': array([0.93962919, 0.93962919, 0.45861129, 0.45861129, 0.89332473,\n",
       "         0.89332473, 0.55766411, 0.55766411, 0.58382273, 0.58382273,\n",
       "         0.4359379 , 0.4359379 , 0.35238814, 0.35238814, 0.21873536,\n",
       "         0.21873536, 0.51165018, 0.51165018, 0.08655798, 0.08655798,\n",
       "         0.70572282, 0.70572282, 0.32434803, 0.32434803, 0.96851932,\n",
       "         0.96851932, 0.86672832, 0.86672832, 0.65848267, 0.65848267,\n",
       "         0.58647638, 0.58647638, 0.68246078, 0.68246078, 0.36829747,\n",
       "         0.36829747, 0.98233886, 0.98233886, 0.04451592, 0.04451592,\n",
       "         0.63409193, 0.63409193, 0.09463998, 0.09463998, 0.90135767,\n",
       "         0.90135767, 0.68578545, 0.68578545, 0.63089504, 0.63089504,\n",
       "         0.33728785, 0.33728785, 0.90314357, 0.90314357, 0.96444553,\n",
       "         0.96444553, 0.80570356, 0.80570356, 0.2764606 , 0.2764606 ,\n",
       "         0.15239579, 0.15239579, 0.1127385 , 0.1127385 , 0.64945832,\n",
       "         0.64945832, 0.28416695, 0.28416695, 0.74470643, 0.74470643,\n",
       "         0.60852655, 0.60852655, 0.11037648, 0.11037648, 0.83167677,\n",
       "         0.83167677, 0.45688991, 0.45688991, 0.3226597 , 0.3226597 ,\n",
       "         0.54550391, 0.54550391, 0.88303405, 0.88303405, 0.87181341,\n",
       "         0.87181341, 0.56192838, 0.56192838, 0.71920867, 0.71920867,\n",
       "         0.47580413, 0.47580413, 0.60903108, 0.60903108, 0.03198351,\n",
       "         0.03198351, 0.62779119, 0.62779119, 0.77647728, 0.77647728,\n",
       "         0.37948404, 0.37948404, 0.42977438, 0.42977438, 0.29279949,\n",
       "         0.29279949, 0.35217226, 0.35217226, 0.34261594, 0.34261594,\n",
       "         0.13715545, 0.13715545, 0.18716542, 0.18716542, 0.8091559 ,\n",
       "         0.8091559 , 0.95864998, 0.95864998, 0.54566402, 0.54566402,\n",
       "         0.57326109, 0.57326109, 0.81411808, 0.81411808, 0.85526351,\n",
       "         0.85526351, 0.76779766, 0.76779766, 0.09237232, 0.09237232,\n",
       "         0.94836629, 0.94836629, 0.86451066, 0.86451066, 0.41608576,\n",
       "         0.41608576, 0.28302204, 0.28302204, 0.75473152, 0.75473152,\n",
       "         0.07306269, 0.07306269, 0.81900927, 0.81900927, 0.48571703,\n",
       "         0.48571703, 0.53600544, 0.53600544, 0.05745538, 0.05745538,\n",
       "         0.77395733, 0.77395733, 0.34578205, 0.34578205, 0.59636895,\n",
       "         0.59636895, 0.46515078, 0.46515078, 0.11396008, 0.11396008,\n",
       "         0.42724313, 0.42724313, 0.14430091, 0.14430091, 0.91178061,\n",
       "         0.91178061, 0.3028803 , 0.3028803 , 0.91831572, 0.91831572,\n",
       "         0.74165421, 0.74165421, 0.06186389, 0.06186389, 0.22929819,\n",
       "         0.22929819, 0.53839661, 0.53839661, 0.94819232, 0.94819232,\n",
       "         0.5770924 , 0.5770924 , 0.62101983, 0.62101983, 0.10268766,\n",
       "         0.10268766, 0.90018524, 0.90018524, 0.98315136, 0.98315136,\n",
       "         0.34055208, 0.34055208, 0.87799683, 0.87799683, 0.93407145,\n",
       "         0.93407145, 0.1228397 , 0.1228397 , 0.57485916, 0.57485916])}}"
      ]
     },
     "execution_count": 11,
     "metadata": {},
     "output_type": "execute_result"
    }
   ],
   "source": [
    "ds = load_by_id(run_id_n)\n",
    "ds.get_parameter_data('x1')"
   ]
  },
  {
   "cell_type": "markdown",
   "metadata": {},
   "source": [
    "And a dataset stored as binary arrays"
   ]
  },
  {
   "cell_type": "code",
   "execution_count": 12,
   "metadata": {
    "scrolled": true
   },
   "outputs": [
    {
     "data": {
      "text/plain": [
       "{'x1': {'x1': array([[0.87385489],\n",
       "         [0.87385489],\n",
       "         [0.36175449],\n",
       "         [0.36175449],\n",
       "         [0.11080173],\n",
       "         [0.11080173],\n",
       "         [0.31014146],\n",
       "         [0.31014146],\n",
       "         [0.18380998],\n",
       "         [0.18380998],\n",
       "         [0.45670617],\n",
       "         [0.45670617],\n",
       "         [0.22094151],\n",
       "         [0.22094151],\n",
       "         [0.86787642],\n",
       "         [0.86787642],\n",
       "         [0.38389172],\n",
       "         [0.38389172],\n",
       "         [0.69099112],\n",
       "         [0.69099112],\n",
       "         [0.72291217],\n",
       "         [0.72291217],\n",
       "         [0.27811855],\n",
       "         [0.27811855],\n",
       "         [0.35799115],\n",
       "         [0.35799115],\n",
       "         [0.28166558],\n",
       "         [0.28166558],\n",
       "         [0.78779661],\n",
       "         [0.78779661],\n",
       "         [0.2046742 ],\n",
       "         [0.2046742 ],\n",
       "         [0.08652717],\n",
       "         [0.08652717],\n",
       "         [0.75897479],\n",
       "         [0.75897479],\n",
       "         [0.78042505],\n",
       "         [0.78042505],\n",
       "         [0.90589091],\n",
       "         [0.90589091],\n",
       "         [0.83377218],\n",
       "         [0.83377218],\n",
       "         [0.47739953],\n",
       "         [0.47739953],\n",
       "         [0.90856836],\n",
       "         [0.90856836],\n",
       "         [0.64269726],\n",
       "         [0.64269726],\n",
       "         [0.08140296],\n",
       "         [0.08140296],\n",
       "         [0.15516772],\n",
       "         [0.15516772],\n",
       "         [0.3989018 ],\n",
       "         [0.3989018 ],\n",
       "         [0.60848425],\n",
       "         [0.60848425],\n",
       "         [0.1274465 ],\n",
       "         [0.1274465 ],\n",
       "         [0.96702126],\n",
       "         [0.96702126],\n",
       "         [0.54035817],\n",
       "         [0.54035817],\n",
       "         [0.92995841],\n",
       "         [0.92995841],\n",
       "         [0.681214  ],\n",
       "         [0.681214  ],\n",
       "         [0.44400493],\n",
       "         [0.44400493],\n",
       "         [0.01734347],\n",
       "         [0.01734347],\n",
       "         [0.52721037],\n",
       "         [0.52721037],\n",
       "         [0.07377411],\n",
       "         [0.07377411],\n",
       "         [0.59343884],\n",
       "         [0.59343884],\n",
       "         [0.77283845],\n",
       "         [0.77283845],\n",
       "         [0.74678582],\n",
       "         [0.74678582],\n",
       "         [0.06300836],\n",
       "         [0.06300836],\n",
       "         [0.60754243],\n",
       "         [0.60754243],\n",
       "         [0.64556742],\n",
       "         [0.64556742],\n",
       "         [0.3966055 ],\n",
       "         [0.3966055 ],\n",
       "         [0.68612054],\n",
       "         [0.68612054],\n",
       "         [0.5022562 ],\n",
       "         [0.5022562 ],\n",
       "         [0.10920421],\n",
       "         [0.10920421],\n",
       "         [0.58582203],\n",
       "         [0.58582203],\n",
       "         [0.80816412],\n",
       "         [0.80816412],\n",
       "         [0.25612374],\n",
       "         [0.25612374],\n",
       "         [0.259368  ],\n",
       "         [0.259368  ],\n",
       "         [0.52446487],\n",
       "         [0.52446487],\n",
       "         [0.84491605],\n",
       "         [0.84491605],\n",
       "         [0.47459834],\n",
       "         [0.47459834],\n",
       "         [0.29774088],\n",
       "         [0.29774088],\n",
       "         [0.96422156],\n",
       "         [0.96422156],\n",
       "         [0.11795047],\n",
       "         [0.11795047],\n",
       "         [0.52201797],\n",
       "         [0.52201797],\n",
       "         [0.75828758],\n",
       "         [0.75828758],\n",
       "         [0.03986818],\n",
       "         [0.03986818],\n",
       "         [0.5378902 ],\n",
       "         [0.5378902 ],\n",
       "         [0.9178856 ],\n",
       "         [0.9178856 ],\n",
       "         [0.90938245],\n",
       "         [0.90938245],\n",
       "         [0.22417797],\n",
       "         [0.22417797],\n",
       "         [0.44867715],\n",
       "         [0.44867715],\n",
       "         [0.31017068],\n",
       "         [0.31017068],\n",
       "         [0.33160108],\n",
       "         [0.33160108],\n",
       "         [0.35672406],\n",
       "         [0.35672406],\n",
       "         [0.1951192 ],\n",
       "         [0.1951192 ],\n",
       "         [0.09161804],\n",
       "         [0.09161804],\n",
       "         [0.0928712 ],\n",
       "         [0.0928712 ],\n",
       "         [0.79732594],\n",
       "         [0.79732594],\n",
       "         [0.94964015],\n",
       "         [0.94964015],\n",
       "         [0.20290567],\n",
       "         [0.20290567],\n",
       "         [0.92743042],\n",
       "         [0.92743042],\n",
       "         [0.46283001],\n",
       "         [0.46283001],\n",
       "         [0.21498507],\n",
       "         [0.21498507],\n",
       "         [0.50165303],\n",
       "         [0.50165303],\n",
       "         [0.35938833],\n",
       "         [0.35938833],\n",
       "         [0.891167  ],\n",
       "         [0.891167  ],\n",
       "         [0.23417041],\n",
       "         [0.23417041],\n",
       "         [0.11465998],\n",
       "         [0.11465998],\n",
       "         [0.00837377],\n",
       "         [0.00837377],\n",
       "         [0.38875728],\n",
       "         [0.38875728],\n",
       "         [0.14464171],\n",
       "         [0.14464171],\n",
       "         [0.90971477],\n",
       "         [0.90971477],\n",
       "         [0.25681077],\n",
       "         [0.25681077],\n",
       "         [0.0626663 ],\n",
       "         [0.0626663 ],\n",
       "         [0.0372226 ],\n",
       "         [0.0372226 ],\n",
       "         [0.18176552],\n",
       "         [0.18176552],\n",
       "         [0.91457285],\n",
       "         [0.91457285],\n",
       "         [0.48940318],\n",
       "         [0.48940318],\n",
       "         [0.13349835],\n",
       "         [0.13349835],\n",
       "         [0.46018007],\n",
       "         [0.46018007],\n",
       "         [0.54656593],\n",
       "         [0.54656593],\n",
       "         [0.92582496],\n",
       "         [0.92582496],\n",
       "         [0.26834371],\n",
       "         [0.26834371],\n",
       "         [0.71557109],\n",
       "         [0.71557109],\n",
       "         [0.28971021],\n",
       "         [0.28971021],\n",
       "         [0.08152564],\n",
       "         [0.08152564]])}}"
      ]
     },
     "execution_count": 12,
     "metadata": {},
     "output_type": "execute_result"
    }
   ],
   "source": [
    "ds = load_by_id(run_id_a)\n",
    "ds.get_parameter_data('x1')"
   ]
  },
  {
   "cell_type": "code",
   "execution_count": null,
   "metadata": {},
   "outputs": [],
   "source": []
  }
 ],
 "metadata": {
  "kernelspec": {
   "display_name": "Python 3",
   "language": "python",
   "name": "python3"
  },
  "language_info": {
   "codemirror_mode": {
    "name": "ipython",
    "version": 3
   },
   "file_extension": ".py",
   "mimetype": "text/x-python",
   "name": "python",
   "nbconvert_exporter": "python",
   "pygments_lexer": "ipython3",
   "version": "3.7.7"
  },
  "nbsphinx": {
   "timeout": 600
  },
  "toc": {
   "base_numbering": 1,
   "nav_menu": {},
   "number_sections": true,
   "sideBar": true,
   "skip_h1_title": false,
   "title_cell": "Table of Contents",
   "title_sidebar": "Contents",
   "toc_cell": false,
   "toc_position": {},
   "toc_section_display": true,
   "toc_window_display": false
  },
  "varInspector": {
   "cols": {
    "lenName": 16,
    "lenType": 16,
    "lenVar": 40
   },
   "kernels_config": {
    "python": {
     "delete_cmd_postfix": "",
     "delete_cmd_prefix": "del ",
     "library": "var_list.py",
     "varRefreshCmd": "print(var_dic_list())"
    },
    "r": {
     "delete_cmd_postfix": ") ",
     "delete_cmd_prefix": "rm(",
     "library": "var_list.r",
     "varRefreshCmd": "cat(var_dic_list()) "
    }
   },
   "types_to_exclude": [
    "module",
    "function",
    "builtin_function_or_method",
    "instance",
    "_Feature"
   ],
   "window_display": false
  }
 },
 "nbformat": 4,
 "nbformat_minor": 2
}
