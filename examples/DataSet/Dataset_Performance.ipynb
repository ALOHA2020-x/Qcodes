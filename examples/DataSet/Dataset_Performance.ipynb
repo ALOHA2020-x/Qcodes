{
 "cells": [
  {
   "cell_type": "markdown",
   "metadata": {},
   "source": [
    "# DataSet Performance\n",
    "\n",
    "This notebook shows the trade-off between inserting data into a database row-by-row and as binary blobs. Inserting the data row-by-row means that we have direct access to all the data and may perform queries directly on the values of the data. On the other hand, as we shall see, this is much slower than inserting the data directly as binary blobs."
   ]
  },
  {
   "cell_type": "markdown",
   "metadata": {},
   "source": [
    "First, we choose a new location for the database to ensure that we don't add a bunch of benchmarking data to the default one."
   ]
  },
  {
   "cell_type": "code",
   "execution_count": 1,
   "metadata": {
    "execution": {
     "iopub.execute_input": "2021-02-26T08:53:12.842782Z",
     "iopub.status.busy": "2021-02-26T08:53:12.842274Z",
     "iopub.status.idle": "2021-02-26T08:53:13.659741Z",
     "shell.execute_reply": "2021-02-26T08:53:13.660134Z"
    }
   },
   "outputs": [
    {
     "name": "stdout",
     "output_type": "stream",
     "text": [
      "Logging hadn't been started.\n",
      "Activating auto-logging. Current session state plus future input saved.\n",
      "Filename       : /home/runner/.qcodes/logs/command_history.log\n",
      "Mode           : append\n",
      "Output logging : True\n",
      "Raw input log  : False\n",
      "Timestamping   : True\n",
      "State          : active\n"
     ]
    },
    {
     "name": "stdout",
     "output_type": "stream",
     "text": [
      "Qcodes Logfile : /home/runner/.qcodes/logs/210226-4268-qcodes.log\n"
     ]
    }
   ],
   "source": [
    "import os\n",
    "cwd = os.getcwd()\n",
    "import qcodes as qc\n",
    "qc.config[\"core\"][\"db_location\"] = os.path.join(cwd, 'testing.db')\n"
   ]
  },
  {
   "cell_type": "code",
   "execution_count": 2,
   "metadata": {
    "execution": {
     "iopub.execute_input": "2021-02-26T08:53:13.666082Z",
     "iopub.status.busy": "2021-02-26T08:53:13.665019Z",
     "iopub.status.idle": "2021-02-26T08:53:13.840591Z",
     "shell.execute_reply": "2021-02-26T08:53:13.839969Z"
    }
   },
   "outputs": [],
   "source": [
    "%matplotlib inline\n",
    "import time\n",
    "import matplotlib.pyplot as plt\n",
    "import numpy as np\n",
    "\n",
    "import qcodes as qc\n",
    "from qcodes.instrument.parameter import ManualParameter\n",
    "from qcodes.dataset.experiment_container import (Experiment,\n",
    "                                                 load_last_experiment,\n",
    "                                                 new_experiment)\n",
    "from qcodes.dataset.sqlite.database import initialise_database\n",
    "from qcodes import load_or_create_experiment\n",
    "from qcodes.dataset.measurements import Measurement"
   ]
  },
  {
   "cell_type": "code",
   "execution_count": 3,
   "metadata": {
    "execution": {
     "iopub.execute_input": "2021-02-26T08:53:13.845374Z",
     "iopub.status.busy": "2021-02-26T08:53:13.844677Z",
     "iopub.status.idle": "2021-02-26T08:53:14.176166Z",
     "shell.execute_reply": "2021-02-26T08:53:14.175697Z"
    }
   },
   "outputs": [
    {
     "name": "stdout",
     "output_type": "stream",
     "text": [
      "\r",
      "0it [00:00, ?it/s]"
     ]
    },
    {
     "name": "stdout",
     "output_type": "stream",
     "text": [
      "\r",
      "Upgrading database; v0 -> v1: : 0it [00:00, ?it/s]"
     ]
    },
    {
     "name": "stdout",
     "output_type": "stream",
     "text": [
      "\r",
      "Upgrading database; v0 -> v1: : 0it [00:00, ?it/s]"
     ]
    },
    {
     "name": "stdout",
     "output_type": "stream",
     "text": [
      "\n",
      "\r",
      "  0%|          | 0/1 [00:00<?, ?it/s]"
     ]
    },
    {
     "name": "stdout",
     "output_type": "stream",
     "text": [
      "\r",
      "Upgrading database; v1 -> v2:   0%|          | 0/1 [00:00<?, ?it/s]"
     ]
    },
    {
     "name": "stdout",
     "output_type": "stream",
     "text": [
      "\r",
      "Upgrading database; v1 -> v2: 100%|██████████| 1/1 [00:00<00:00, 468.64it/s]"
     ]
    },
    {
     "name": "stdout",
     "output_type": "stream",
     "text": [
      "\n",
      "\r",
      "0it [00:00, ?it/s]"
     ]
    },
    {
     "name": "stdout",
     "output_type": "stream",
     "text": [
      "\r",
      "Upgrading database; v2 -> v3: : 0it [00:00, ?it/s]"
     ]
    },
    {
     "name": "stdout",
     "output_type": "stream",
     "text": [
      "\r",
      "Upgrading database; v2 -> v3: : 0it [00:00, ?it/s]"
     ]
    },
    {
     "name": "stdout",
     "output_type": "stream",
     "text": [
      "\n",
      "\r",
      "0it [00:00, ?it/s]"
     ]
    },
    {
     "name": "stdout",
     "output_type": "stream",
     "text": [
      "\r",
      "Upgrading database; v3 -> v4: : 0it [00:00, ?it/s]"
     ]
    },
    {
     "name": "stdout",
     "output_type": "stream",
     "text": [
      "\r",
      "Upgrading database; v3 -> v4: : 0it [00:00, ?it/s]"
     ]
    },
    {
     "name": "stdout",
     "output_type": "stream",
     "text": [
      "\n",
      "\r",
      "  0%|          | 0/1 [00:00<?, ?it/s]"
     ]
    },
    {
     "name": "stdout",
     "output_type": "stream",
     "text": [
      "\r",
      "Upgrading database; v4 -> v5:   0%|          | 0/1 [00:00<?, ?it/s]"
     ]
    },
    {
     "name": "stdout",
     "output_type": "stream",
     "text": [
      "\r",
      "Upgrading database; v4 -> v5: 100%|██████████| 1/1 [00:00<00:00, 497.25it/s]"
     ]
    },
    {
     "name": "stdout",
     "output_type": "stream",
     "text": [
      "\n",
      "\r",
      "0it [00:00, ?it/s]"
     ]
    },
    {
     "name": "stdout",
     "output_type": "stream",
     "text": [
      "\r",
      "Upgrading database; v5 -> v6: : 0it [00:00, ?it/s]"
     ]
    },
    {
     "name": "stdout",
     "output_type": "stream",
     "text": [
      "\r",
      "Upgrading database; v5 -> v6: : 0it [00:00, ?it/s]"
     ]
    },
    {
     "name": "stdout",
     "output_type": "stream",
     "text": [
      "\n",
      "\r",
      "  0%|          | 0/1 [00:00<?, ?it/s]"
     ]
    },
    {
     "name": "stdout",
     "output_type": "stream",
     "text": [
      "\r",
      "Upgrading database; v6 -> v7:   0%|          | 0/1 [00:00<?, ?it/s]"
     ]
    },
    {
     "name": "stdout",
     "output_type": "stream",
     "text": [
      "\r",
      "Upgrading database; v6 -> v7: 100%|██████████| 1/1 [00:00<00:00, 72.89it/s]"
     ]
    },
    {
     "name": "stdout",
     "output_type": "stream",
     "text": [
      "\n",
      "\r",
      "  0%|          | 0/1 [00:00<?, ?it/s]"
     ]
    },
    {
     "name": "stdout",
     "output_type": "stream",
     "text": [
      "\r",
      "Upgrading database; v7 -> v8:   0%|          | 0/1 [00:00<?, ?it/s]"
     ]
    },
    {
     "name": "stdout",
     "output_type": "stream",
     "text": [
      "\r",
      "Upgrading database; v7 -> v8: 100%|██████████| 1/1 [00:00<00:00, 623.50it/s]"
     ]
    },
    {
     "name": "stdout",
     "output_type": "stream",
     "text": [
      "\n"
     ]
    },
    {
     "name": "stdout",
     "output_type": "stream",
     "text": [
      "\r",
      "  0%|          | 0/1 [00:00<?, ?it/s]"
     ]
    },
    {
     "name": "stdout",
     "output_type": "stream",
     "text": [
      "\r",
      "Upgrading database; v8 -> v9:   0%|          | 0/1 [00:00<?, ?it/s]"
     ]
    },
    {
     "name": "stdout",
     "output_type": "stream",
     "text": [
      "\r",
      "Upgrading database; v8 -> v9: 100%|██████████| 1/1 [00:00<00:00, 1039.22it/s]"
     ]
    },
    {
     "name": "stdout",
     "output_type": "stream",
     "text": [
      "\n"
     ]
    }
   ],
   "source": [
    "initialise_database()\n",
    "exp = load_or_create_experiment(experiment_name='tutorial_exp', sample_name=\"no sample\")"
   ]
  },
  {
   "cell_type": "markdown",
   "metadata": {},
   "source": [
    "Here, we define a simple function to benchmark the time it takes to insert n points with either numeric or array data type.\n",
    "We will compare both the time used to call ``add_result`` and the time used for the full measurement."
   ]
  },
  {
   "cell_type": "code",
   "execution_count": 4,
   "metadata": {
    "execution": {
     "iopub.execute_input": "2021-02-26T08:53:14.184503Z",
     "iopub.status.busy": "2021-02-26T08:53:14.183727Z",
     "iopub.status.idle": "2021-02-26T08:53:14.187193Z",
     "shell.execute_reply": "2021-02-26T08:53:14.187876Z"
    }
   },
   "outputs": [],
   "source": [
    "def insert_data(paramtype, npoints, nreps=1):\n",
    "\n",
    "    meas = Measurement(exp=exp)\n",
    "\n",
    "    x1 = ManualParameter('x1')\n",
    "    x2 = ManualParameter('x2')\n",
    "    x3 = ManualParameter('x3')\n",
    "    y1 = ManualParameter('y1')\n",
    "    y2 = ManualParameter('y2')\n",
    "\n",
    "    meas.register_parameter(x1, paramtype=paramtype)\n",
    "    meas.register_parameter(x2, paramtype=paramtype)\n",
    "    meas.register_parameter(x3, paramtype=paramtype)\n",
    "    meas.register_parameter(y1, setpoints=[x1, x2, x3],\n",
    "                            paramtype=paramtype)\n",
    "    meas.register_parameter(y2, setpoints=[x1, x2, x3],\n",
    "                            paramtype=paramtype)\n",
    "    start = time.perf_counter()\n",
    "    with meas.run() as datasaver:\n",
    "        start_adding = time.perf_counter()\n",
    "        for i in range(nreps):\n",
    "            datasaver.add_result((x1, np.random.rand(npoints)),\n",
    "                                 (x2, np.random.rand(npoints)),\n",
    "                                 (x3, np.random.rand(npoints)),\n",
    "                                 (y1, np.random.rand(npoints)),\n",
    "                                 (y2, np.random.rand(npoints)))\n",
    "        stop_adding = time.perf_counter()\n",
    "        run_id = datasaver.run_id\n",
    "    stop = time.perf_counter()\n",
    "    tot_time = stop - start\n",
    "    add_time = stop_adding - start_adding\n",
    "    return tot_time, add_time, run_id"
   ]
  },
  {
   "cell_type": "markdown",
   "metadata": {},
   "source": [
    "## Comparison between numeric/array data and binary blob"
   ]
  },
  {
   "cell_type": "markdown",
   "metadata": {},
   "source": [
    "### Case1: Short experiment time"
   ]
  },
  {
   "cell_type": "code",
   "execution_count": 5,
   "metadata": {
    "execution": {
     "iopub.execute_input": "2021-02-26T08:53:14.194859Z",
     "iopub.status.busy": "2021-02-26T08:53:14.193786Z",
     "iopub.status.idle": "2021-02-26T08:53:15.564300Z",
     "shell.execute_reply": "2021-02-26T08:53:15.564706Z"
    }
   },
   "outputs": [
    {
     "name": "stdout",
     "output_type": "stream",
     "text": [
      "Starting experimental run with id: 1. \n"
     ]
    },
    {
     "name": "stdout",
     "output_type": "stream",
     "text": [
      "Starting experimental run with id: 2. \n"
     ]
    },
    {
     "name": "stdout",
     "output_type": "stream",
     "text": [
      "Starting experimental run with id: 3. \n",
      "Starting experimental run with id: 4. \n"
     ]
    },
    {
     "name": "stdout",
     "output_type": "stream",
     "text": [
      "Starting experimental run with id: 5. \n"
     ]
    },
    {
     "name": "stdout",
     "output_type": "stream",
     "text": [
      "Starting experimental run with id: 6. \n",
      "Starting experimental run with id: 7. \n"
     ]
    },
    {
     "name": "stdout",
     "output_type": "stream",
     "text": [
      "Starting experimental run with id: 8. \n"
     ]
    },
    {
     "name": "stdout",
     "output_type": "stream",
     "text": [
      "Starting experimental run with id: 9. \n"
     ]
    },
    {
     "name": "stdout",
     "output_type": "stream",
     "text": [
      "Starting experimental run with id: 10. \n"
     ]
    },
    {
     "name": "stdout",
     "output_type": "stream",
     "text": [
      "Starting experimental run with id: 11. \n"
     ]
    },
    {
     "name": "stdout",
     "output_type": "stream",
     "text": [
      "Starting experimental run with id: 12. \n"
     ]
    },
    {
     "name": "stdout",
     "output_type": "stream",
     "text": [
      "Starting experimental run with id: 13. \n"
     ]
    },
    {
     "name": "stdout",
     "output_type": "stream",
     "text": [
      "Starting experimental run with id: 14. \n"
     ]
    }
   ],
   "source": [
    "sizes = [1,500,1000,2000,3000,4000,5000]\n",
    "t_numeric = []\n",
    "t_numeric_add = []\n",
    "t_array = []\n",
    "t_array_add = []\n",
    "for size in sizes:\n",
    "    tn, tna, run_id_n =  insert_data('numeric', size)\n",
    "    t_numeric.append(tn)\n",
    "    t_numeric_add.append(tna)\n",
    "\n",
    "    ta, taa, run_id_a =  insert_data('array', size)\n",
    "    t_array.append(ta)\n",
    "    t_array_add.append(taa)"
   ]
  },
  {
   "cell_type": "code",
   "execution_count": 6,
   "metadata": {
    "execution": {
     "iopub.execute_input": "2021-02-26T08:53:15.592272Z",
     "iopub.status.busy": "2021-02-26T08:53:15.583949Z",
     "iopub.status.idle": "2021-02-26T08:53:15.796044Z",
     "shell.execute_reply": "2021-02-26T08:53:15.795544Z"
    }
   },
   "outputs": [
    {
     "data": {
      "image/png": "[encoded data removed]",
      "text/plain": [
       "<Figure size 432x288 with 1 Axes>"
      ]
     },
     "metadata": {
      "needs_background": "light"
     },
     "output_type": "display_data"
    }
   ],
   "source": [
    "fig, ax = plt.subplots(1,1)\n",
    "ax.plot(sizes, t_numeric, 'o-', label='Inserting row-by-row')\n",
    "ax.plot(sizes, t_numeric_add, 'o-', label='Inserting row-by-row: add_result only')\n",
    "ax.plot(sizes, t_array, 'd-', label='Inserting as binary blob')\n",
    "ax.plot(sizes, t_array_add, 'd-', label='Inserting as binary blob: add_result only')\n",
    "ax.legend()\n",
    "ax.set_xlabel('Array length')\n",
    "ax.set_ylabel('Time (s)')\n",
    "fig.tight_layout()"
   ]
  },
  {
   "cell_type": "markdown",
   "metadata": {},
   "source": [
    "As shown in the latter figure, the time to setup and and close the experiment is approximately 0.4 sec. In case of small array sizes, the difference between inserting values of data as arrays and inserting them row-by-row is relatively unimportant. At larger array sizes, i.e. above 10000 points, the cost of writing data as individual datapoints starts to become important.\n"
   ]
  },
  {
   "cell_type": "markdown",
   "metadata": {},
   "source": [
    "### Case2: Long experiment time "
   ]
  },
  {
   "cell_type": "code",
   "execution_count": 7,
   "metadata": {
    "execution": {
     "iopub.execute_input": "2021-02-26T08:53:15.801166Z",
     "iopub.status.busy": "2021-02-26T08:53:15.799922Z",
     "iopub.status.idle": "2021-02-26T08:54:13.266124Z",
     "shell.execute_reply": "2021-02-26T08:54:13.265273Z"
    }
   },
   "outputs": [
    {
     "name": "stdout",
     "output_type": "stream",
     "text": [
      "Starting experimental run with id: 15. \n",
      "Starting experimental run with id: 16. \n"
     ]
    },
    {
     "name": "stdout",
     "output_type": "stream",
     "text": [
      "Starting experimental run with id: 17. \n"
     ]
    },
    {
     "name": "stdout",
     "output_type": "stream",
     "text": [
      "Starting experimental run with id: 18. \n"
     ]
    },
    {
     "name": "stdout",
     "output_type": "stream",
     "text": [
      "Starting experimental run with id: 19. \n"
     ]
    },
    {
     "name": "stdout",
     "output_type": "stream",
     "text": [
      "Starting experimental run with id: 20. \n"
     ]
    },
    {
     "name": "stdout",
     "output_type": "stream",
     "text": [
      "Starting experimental run with id: 21. \n"
     ]
    },
    {
     "name": "stdout",
     "output_type": "stream",
     "text": [
      "Starting experimental run with id: 22. \n"
     ]
    },
    {
     "name": "stdout",
     "output_type": "stream",
     "text": [
      "Starting experimental run with id: 23. \n"
     ]
    },
    {
     "name": "stdout",
     "output_type": "stream",
     "text": [
      "Starting experimental run with id: 24. \n"
     ]
    },
    {
     "name": "stdout",
     "output_type": "stream",
     "text": [
      "Starting experimental run with id: 25. \n"
     ]
    },
    {
     "name": "stdout",
     "output_type": "stream",
     "text": [
      "Starting experimental run with id: 26. \n"
     ]
    },
    {
     "name": "stdout",
     "output_type": "stream",
     "text": [
      "Starting experimental run with id: 27. \n"
     ]
    },
    {
     "name": "stdout",
     "output_type": "stream",
     "text": [
      "Starting experimental run with id: 28. \n"
     ]
    }
   ],
   "source": [
    "sizes = [1,500,1000,2000,3000,4000,5000]\n",
    "nreps = 100\n",
    "t_numeric = []\n",
    "t_numeric_add = []\n",
    "t_numeric_run_ids = []\n",
    "t_array = []\n",
    "t_array_add = []\n",
    "t_array_run_ids = []\n",
    "for size in sizes:\n",
    "    tn, tna, run_id_n =  insert_data('numeric', size, nreps=nreps)\n",
    "    t_numeric.append(tn)\n",
    "    t_numeric_add.append(tna)\n",
    "    t_numeric_run_ids.append(run_id_n)\n",
    "\n",
    "    ta, taa, run_id_a =  insert_data('array', size, nreps=nreps)\n",
    "    t_array.append(ta)\n",
    "    t_array_add.append(taa)\n",
    "    t_array_run_ids.append(run_id_a)"
   ]
  },
  {
   "cell_type": "code",
   "execution_count": 8,
   "metadata": {
    "execution": {
     "iopub.execute_input": "2021-02-26T08:54:13.290194Z",
     "iopub.status.busy": "2021-02-26T08:54:13.288594Z",
     "iopub.status.idle": "2021-02-26T08:54:13.509377Z",
     "shell.execute_reply": "2021-02-26T08:54:13.508300Z"
    },
    "scrolled": true
   },
   "outputs": [
    {
     "data": {
      "image/png": "[encoded data removed]",
      "text/plain": [
       "<Figure size 432x288 with 1 Axes>"
      ]
     },
     "metadata": {
      "needs_background": "light"
     },
     "output_type": "display_data"
    }
   ],
   "source": [
    "fig, ax = plt.subplots(1,1)\n",
    "ax.plot(sizes, t_numeric, 'o-', label='Inserting row-by-row')\n",
    "ax.plot(sizes, t_numeric_add, 'o-', label='Inserting row-by-row: add_result only')\n",
    "ax.plot(sizes, t_array, 'd-', label='Inserting as binary blob')\n",
    "ax.plot(sizes, t_array_add, 'd-', label='Inserting as binary blob: add_result only')\n",
    "ax.legend()\n",
    "ax.set_xlabel('Array length')\n",
    "ax.set_ylabel('Time (s)')\n",
    "fig.tight_layout()"
   ]
  },
  {
   "cell_type": "markdown",
   "metadata": {},
   "source": [
    "However, as we increase the length of the experiment, as seen here by repeating the insertion 100 times, we see a big difference between inserting values of the data row-by-row and inserting it as a binary blob."
   ]
  },
  {
   "cell_type": "markdown",
   "metadata": {},
   "source": [
    "## Loading the data "
   ]
  },
  {
   "cell_type": "code",
   "execution_count": 9,
   "metadata": {
    "execution": {
     "iopub.execute_input": "2021-02-26T08:54:13.514439Z",
     "iopub.status.busy": "2021-02-26T08:54:13.513700Z",
     "iopub.status.idle": "2021-02-26T08:54:13.516011Z",
     "shell.execute_reply": "2021-02-26T08:54:13.516518Z"
    }
   },
   "outputs": [],
   "source": [
    "from qcodes.dataset.data_set import load_by_id\n",
    "from qcodes.dataset.data_export import get_data_by_id"
   ]
  },
  {
   "cell_type": "markdown",
   "metadata": {},
   "source": [
    "As usual you can load the data by using the ``load_by_id`` function but you will notice that the different storage methods\n",
    "are reflected in shape of the data as it is retrieved. "
   ]
  },
  {
   "cell_type": "code",
   "execution_count": 10,
   "metadata": {
    "execution": {
     "iopub.execute_input": "2021-02-26T08:54:13.521124Z",
     "iopub.status.busy": "2021-02-26T08:54:13.519876Z",
     "iopub.status.idle": "2021-02-26T08:54:13.521847Z",
     "shell.execute_reply": "2021-02-26T08:54:13.522316Z"
    }
   },
   "outputs": [],
   "source": [
    "run_id_n = t_numeric_run_ids[0]\n",
    "run_id_a = t_array_run_ids[0]"
   ]
  },
  {
   "cell_type": "code",
   "execution_count": 11,
   "metadata": {
    "execution": {
     "iopub.execute_input": "2021-02-26T08:54:13.526180Z",
     "iopub.status.busy": "2021-02-26T08:54:13.525590Z",
     "iopub.status.idle": "2021-02-26T08:54:13.534204Z",
     "shell.execute_reply": "2021-02-26T08:54:13.534664Z"
    },
    "scrolled": true
   },
   "outputs": [
    {
     "data": {
      "text/plain": [
       "{'x1': {'x1': array([0.44556388, 0.44556388, 0.55388746, 0.55388746, 0.03565957,\n",
       "         0.03565957, 0.82040953, 0.82040953, 0.62830446, 0.62830446,\n",
       "         0.50256615, 0.50256615, 0.35571107, 0.35571107, 0.91195767,\n",
       "         0.91195767, 0.11750393, 0.11750393, 0.4982524 , 0.4982524 ,\n",
       "         0.48407515, 0.48407515, 0.91453659, 0.91453659, 0.03602845,\n",
       "         0.03602845, 0.16110896, 0.16110896, 0.50902557, 0.50902557,\n",
       "         0.84167768, 0.84167768, 0.44527431, 0.44527431, 0.24607605,\n",
       "         0.24607605, 0.52137439, 0.52137439, 0.72346372, 0.72346372,\n",
       "         0.77567794, 0.77567794, 0.65274059, 0.65274059, 0.73650811,\n",
       "         0.73650811, 0.50009167, 0.50009167, 0.22762367, 0.22762367,\n",
       "         0.59007062, 0.59007062, 0.63617769, 0.63617769, 0.04609198,\n",
       "         0.04609198, 0.65871748, 0.65871748, 0.58604039, 0.58604039,\n",
       "         0.05895144, 0.05895144, 0.5732728 , 0.5732728 , 0.0681526 ,\n",
       "         0.0681526 , 0.96874677, 0.96874677, 0.65320174, 0.65320174,\n",
       "         0.45417882, 0.45417882, 0.4599104 , 0.4599104 , 0.79590971,\n",
       "         0.79590971, 0.601795  , 0.601795  , 0.41546433, 0.41546433,\n",
       "         0.25463011, 0.25463011, 0.83171026, 0.83171026, 0.34741851,\n",
       "         0.34741851, 0.75903081, 0.75903081, 0.51115896, 0.51115896,\n",
       "         0.96044683, 0.96044683, 0.3859667 , 0.3859667 , 0.54737675,\n",
       "         0.54737675, 0.63771093, 0.63771093, 0.95093079, 0.95093079,\n",
       "         0.45447196, 0.45447196, 0.43229011, 0.43229011, 0.23509069,\n",
       "         0.23509069, 0.70463746, 0.70463746, 0.84080727, 0.84080727,\n",
       "         0.69589825, 0.69589825, 0.8759933 , 0.8759933 , 0.85200593,\n",
       "         0.85200593, 0.68842962, 0.68842962, 0.12116042, 0.12116042,\n",
       "         0.18220437, 0.18220437, 0.92432198, 0.92432198, 0.89144579,\n",
       "         0.89144579, 0.32352351, 0.32352351, 0.48768082, 0.48768082,\n",
       "         0.93545111, 0.93545111, 0.58513192, 0.58513192, 0.19797888,\n",
       "         0.19797888, 0.56603036, 0.56603036, 0.89012976, 0.89012976,\n",
       "         0.9958206 , 0.9958206 , 0.13921695, 0.13921695, 0.46424898,\n",
       "         0.46424898, 0.21248015, 0.21248015, 0.45169081, 0.45169081,\n",
       "         0.82853569, 0.82853569, 0.90150404, 0.90150404, 0.86214082,\n",
       "         0.86214082, 0.99132358, 0.99132358, 0.36067903, 0.36067903,\n",
       "         0.0165711 , 0.0165711 , 0.92257491, 0.92257491, 0.96347469,\n",
       "         0.96347469, 0.51619796, 0.51619796, 0.63565309, 0.63565309,\n",
       "         0.12094688, 0.12094688, 0.45936625, 0.45936625, 0.34250601,\n",
       "         0.34250601, 0.06937531, 0.06937531, 0.42440023, 0.42440023,\n",
       "         0.45016303, 0.45016303, 0.74270003, 0.74270003, 0.57396631,\n",
       "         0.57396631, 0.18924156, 0.18924156, 0.75135345, 0.75135345,\n",
       "         0.33825042, 0.33825042, 0.40962366, 0.40962366, 0.7356349 ,\n",
       "         0.7356349 , 0.93554128, 0.93554128, 0.14060099, 0.14060099])}}"
      ]
     },
     "execution_count": 1,
     "metadata": {},
     "output_type": "execute_result"
    }
   ],
   "source": [
    "ds = load_by_id(run_id_n)\n",
    "ds.get_parameter_data('x1')"
   ]
  },
  {
   "cell_type": "markdown",
   "metadata": {},
   "source": [
    "And a dataset stored as binary arrays"
   ]
  },
  {
   "cell_type": "code",
   "execution_count": 12,
   "metadata": {
    "execution": {
     "iopub.execute_input": "2021-02-26T08:54:13.538361Z",
     "iopub.status.busy": "2021-02-26T08:54:13.537863Z",
     "iopub.status.idle": "2021-02-26T08:54:13.591462Z",
     "shell.execute_reply": "2021-02-26T08:54:13.591847Z"
    },
    "scrolled": true
   },
   "outputs": [
    {
     "data": {
      "text/plain": [
       "{'x1': {'x1': array([[0.97750316],\n",
       "         [0.97750316],\n",
       "         [0.01092938],\n",
       "         [0.01092938],\n",
       "         [0.83869184],\n",
       "         [0.83869184],\n",
       "         [0.39647631],\n",
       "         [0.39647631],\n",
       "         [0.13151314],\n",
       "         [0.13151314],\n",
       "         [0.23987823],\n",
       "         [0.23987823],\n",
       "         [0.81166332],\n",
       "         [0.81166332],\n",
       "         [0.41377677],\n",
       "         [0.41377677],\n",
       "         [0.15664276],\n",
       "         [0.15664276],\n",
       "         [0.62416315],\n",
       "         [0.62416315],\n",
       "         [0.29363098],\n",
       "         [0.29363098],\n",
       "         [0.29097864],\n",
       "         [0.29097864],\n",
       "         [0.95521242],\n",
       "         [0.95521242],\n",
       "         [0.59197779],\n",
       "         [0.59197779],\n",
       "         [0.7187556 ],\n",
       "         [0.7187556 ],\n",
       "         [0.92222433],\n",
       "         [0.92222433],\n",
       "         [0.33994336],\n",
       "         [0.33994336],\n",
       "         [0.57558763],\n",
       "         [0.57558763],\n",
       "         [0.58391448],\n",
       "         [0.58391448],\n",
       "         [0.48889904],\n",
       "         [0.48889904],\n",
       "         [0.23844699],\n",
       "         [0.23844699],\n",
       "         [0.68711378],\n",
       "         [0.68711378],\n",
       "         [0.7731987 ],\n",
       "         [0.7731987 ],\n",
       "         [0.22525023],\n",
       "         [0.22525023],\n",
       "         [0.03475497],\n",
       "         [0.03475497],\n",
       "         [0.30322635],\n",
       "         [0.30322635],\n",
       "         [0.50082196],\n",
       "         [0.50082196],\n",
       "         [0.91366104],\n",
       "         [0.91366104],\n",
       "         [0.48760865],\n",
       "         [0.48760865],\n",
       "         [0.60360117],\n",
       "         [0.60360117],\n",
       "         [0.33294058],\n",
       "         [0.33294058],\n",
       "         [0.76745924],\n",
       "         [0.76745924],\n",
       "         [0.51031749],\n",
       "         [0.51031749],\n",
       "         [0.41622055],\n",
       "         [0.41622055],\n",
       "         [0.42963266],\n",
       "         [0.42963266],\n",
       "         [0.81756655],\n",
       "         [0.81756655],\n",
       "         [0.67872949],\n",
       "         [0.67872949],\n",
       "         [0.3615854 ],\n",
       "         [0.3615854 ],\n",
       "         [0.77699262],\n",
       "         [0.77699262],\n",
       "         [0.14750952],\n",
       "         [0.14750952],\n",
       "         [0.04764538],\n",
       "         [0.04764538],\n",
       "         [0.74820053],\n",
       "         [0.74820053],\n",
       "         [0.81421012],\n",
       "         [0.81421012],\n",
       "         [0.81233995],\n",
       "         [0.81233995],\n",
       "         [0.60991925],\n",
       "         [0.60991925],\n",
       "         [0.52335816],\n",
       "         [0.52335816],\n",
       "         [0.94357962],\n",
       "         [0.94357962],\n",
       "         [0.05606731],\n",
       "         [0.05606731],\n",
       "         [0.62601027],\n",
       "         [0.62601027],\n",
       "         [0.98056544],\n",
       "         [0.98056544],\n",
       "         [0.68248526],\n",
       "         [0.68248526],\n",
       "         [0.48062812],\n",
       "         [0.48062812],\n",
       "         [0.56906672],\n",
       "         [0.56906672],\n",
       "         [0.45042837],\n",
       "         [0.45042837],\n",
       "         [0.07246794],\n",
       "         [0.07246794],\n",
       "         [0.1785203 ],\n",
       "         [0.1785203 ],\n",
       "         [0.60959948],\n",
       "         [0.60959948],\n",
       "         [0.47396037],\n",
       "         [0.47396037],\n",
       "         [0.84812794],\n",
       "         [0.84812794],\n",
       "         [0.88132608],\n",
       "         [0.88132608],\n",
       "         [0.78566309],\n",
       "         [0.78566309],\n",
       "         [0.20327975],\n",
       "         [0.20327975],\n",
       "         [0.54544304],\n",
       "         [0.54544304],\n",
       "         [0.21992502],\n",
       "         [0.21992502],\n",
       "         [0.11866797],\n",
       "         [0.11866797],\n",
       "         [0.77660147],\n",
       "         [0.77660147],\n",
       "         [0.72226664],\n",
       "         [0.72226664],\n",
       "         [0.12733643],\n",
       "         [0.12733643],\n",
       "         [0.08728462],\n",
       "         [0.08728462],\n",
       "         [0.67220288],\n",
       "         [0.67220288],\n",
       "         [0.55772075],\n",
       "         [0.55772075],\n",
       "         [0.9801446 ],\n",
       "         [0.9801446 ],\n",
       "         [0.00860981],\n",
       "         [0.00860981],\n",
       "         [0.3638399 ],\n",
       "         [0.3638399 ],\n",
       "         [0.32405006],\n",
       "         [0.32405006],\n",
       "         [0.16887491],\n",
       "         [0.16887491],\n",
       "         [0.82386589],\n",
       "         [0.82386589],\n",
       "         [0.81047149],\n",
       "         [0.81047149],\n",
       "         [0.63001449],\n",
       "         [0.63001449],\n",
       "         [0.99523377],\n",
       "         [0.99523377],\n",
       "         [0.73222119],\n",
       "         [0.73222119],\n",
       "         [0.56626148],\n",
       "         [0.56626148],\n",
       "         [0.89302561],\n",
       "         [0.89302561],\n",
       "         [0.43073058],\n",
       "         [0.43073058],\n",
       "         [0.42867976],\n",
       "         [0.42867976],\n",
       "         [0.25837516],\n",
       "         [0.25837516],\n",
       "         [0.23666925],\n",
       "         [0.23666925],\n",
       "         [0.00800191],\n",
       "         [0.00800191],\n",
       "         [0.35194367],\n",
       "         [0.35194367],\n",
       "         [0.85074563],\n",
       "         [0.85074563],\n",
       "         [0.66588865],\n",
       "         [0.66588865],\n",
       "         [0.77003583],\n",
       "         [0.77003583],\n",
       "         [0.15763939],\n",
       "         [0.15763939],\n",
       "         [0.0556874 ],\n",
       "         [0.0556874 ],\n",
       "         [0.30861355],\n",
       "         [0.30861355],\n",
       "         [0.07552283],\n",
       "         [0.07552283],\n",
       "         [0.61252775],\n",
       "         [0.61252775],\n",
       "         [0.82981471],\n",
       "         [0.82981471],\n",
       "         [0.37871053],\n",
       "         [0.37871053],\n",
       "         [0.2464019 ],\n",
       "         [0.2464019 ]])}}"
      ]
     },
     "execution_count": 1,
     "metadata": {},
     "output_type": "execute_result"
    }
   ],
   "source": [
    "ds = load_by_id(run_id_a)\n",
    "ds.get_parameter_data('x1')"
   ]
  },
  {
   "cell_type": "code",
   "execution_count": null,
   "metadata": {},
   "outputs": [],
   "source": []
  }
 ],
 "metadata": {
  "kernelspec": {
   "display_name": "Python 3",
   "language": "python",
   "name": "python3"
  },
  "language_info": {
   "codemirror_mode": {
    "name": "ipython",
    "version": 3
   },
   "file_extension": ".py",
   "mimetype": "text/x-python",
   "name": "python",
   "nbconvert_exporter": "python",
   "pygments_lexer": "ipython3",
   "version": "3.7.10"
  },
  "nbsphinx": {
   "timeout": 600
  },
  "toc": {
   "base_numbering": 1,
   "nav_menu": {},
   "number_sections": true,
   "sideBar": true,
   "skip_h1_title": false,
   "title_cell": "Table of Contents",
   "title_sidebar": "Contents",
   "toc_cell": false,
   "toc_position": {},
   "toc_section_display": true,
   "toc_window_display": false
  },
  "varInspector": {
   "cols": {
    "lenName": 16,
    "lenType": 16,
    "lenVar": 40
   },
   "kernels_config": {
    "python": {
     "delete_cmd_postfix": "",
     "delete_cmd_prefix": "del ",
     "library": "var_list.py",
     "varRefreshCmd": "print(var_dic_list())"
    },
    "r": {
     "delete_cmd_postfix": ") ",
     "delete_cmd_prefix": "rm(",
     "library": "var_list.r",
     "varRefreshCmd": "cat(var_dic_list()) "
    }
   },
   "types_to_exclude": [
    "module",
    "function",
    "builtin_function_or_method",
    "instance",
    "_Feature"
   ],
   "window_display": false
  }
 },
 "nbformat": 4,
 "nbformat_minor": 2
}
