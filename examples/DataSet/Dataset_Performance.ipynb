{
 "cells": [
  {
   "cell_type": "markdown",
   "metadata": {},
   "source": [
    "# DataSet Performance\n",
    "\n",
    "This notebook shows the trade-off between inserting data into a database row-by-row and as binary blobs. Inserting the data row-by-row means that we have direct access to all the data and may perform queries directly on the values of the data. On the other hand, as we shall see, this is much slower than inserting the data directly as binary blobs."
   ]
  },
  {
   "cell_type": "markdown",
   "metadata": {},
   "source": [
    "First, we choose a new location for the database to ensure that we don't add a bunch of benchmarking data to the default one."
   ]
  },
  {
   "cell_type": "code",
   "execution_count": 1,
   "metadata": {
    "execution": {
     "iopub.execute_input": "2021-02-16T16:37:23.314247Z",
     "iopub.status.busy": "2021-02-16T16:37:23.312375Z",
     "iopub.status.idle": "2021-02-16T16:37:24.206580Z",
     "shell.execute_reply": "2021-02-16T16:37:24.205892Z"
    }
   },
   "outputs": [
    {
     "name": "stdout",
     "output_type": "stream",
     "text": [
      "Logging hadn't been started.\n",
      "Activating auto-logging. Current session state plus future input saved.\n",
      "Filename       : /home/runner/.qcodes/logs/command_history.log\n",
      "Mode           : append\n",
      "Output logging : True\n",
      "Raw input log  : False\n",
      "Timestamping   : True\n",
      "State          : active\n"
     ]
    },
    {
     "name": "stdout",
     "output_type": "stream",
     "text": [
      "Qcodes Logfile : /home/runner/.qcodes/logs/210216-3814-qcodes.log\n"
     ]
    }
   ],
   "source": [
    "import os\n",
    "cwd = os.getcwd()\n",
    "import qcodes as qc\n",
    "qc.config[\"core\"][\"db_location\"] = os.path.join(cwd, 'testing.db')\n"
   ]
  },
  {
   "cell_type": "code",
   "execution_count": 2,
   "metadata": {
    "execution": {
     "iopub.execute_input": "2021-02-16T16:37:24.213477Z",
     "iopub.status.busy": "2021-02-16T16:37:24.212630Z",
     "iopub.status.idle": "2021-02-16T16:37:24.403940Z",
     "shell.execute_reply": "2021-02-16T16:37:24.403043Z"
    }
   },
   "outputs": [],
   "source": [
    "%matplotlib inline\n",
    "import time\n",
    "import matplotlib.pyplot as plt\n",
    "import numpy as np\n",
    "\n",
    "import qcodes as qc\n",
    "from qcodes.instrument.parameter import ManualParameter\n",
    "from qcodes.dataset.experiment_container import (Experiment,\n",
    "                                                 load_last_experiment,\n",
    "                                                 new_experiment)\n",
    "from qcodes.dataset.sqlite.database import initialise_database\n",
    "from qcodes import load_or_create_experiment\n",
    "from qcodes.dataset.measurements import Measurement"
   ]
  },
  {
   "cell_type": "code",
   "execution_count": 3,
   "metadata": {
    "execution": {
     "iopub.execute_input": "2021-02-16T16:37:24.409578Z",
     "iopub.status.busy": "2021-02-16T16:37:24.408559Z",
     "iopub.status.idle": "2021-02-16T16:37:24.518680Z",
     "shell.execute_reply": "2021-02-16T16:37:24.518175Z"
    }
   },
   "outputs": [
    {
     "name": "stdout",
     "output_type": "stream",
     "text": [
      "\r",
      "0it [00:00, ?it/s]"
     ]
    },
    {
     "name": "stdout",
     "output_type": "stream",
     "text": [
      "\r",
      "Upgrading database; v0 -> v1: : 0it [00:00, ?it/s]"
     ]
    },
    {
     "name": "stdout",
     "output_type": "stream",
     "text": [
      "\r",
      "Upgrading database; v0 -> v1: : 0it [00:00, ?it/s]"
     ]
    },
    {
     "name": "stdout",
     "output_type": "stream",
     "text": [
      "\n",
      "\r",
      "  0%|          | 0/1 [00:00<?, ?it/s]"
     ]
    },
    {
     "name": "stdout",
     "output_type": "stream",
     "text": [
      "\r",
      "Upgrading database; v1 -> v2:   0%|          | 0/1 [00:00<?, ?it/s]"
     ]
    },
    {
     "name": "stdout",
     "output_type": "stream",
     "text": [
      "\r",
      "Upgrading database; v1 -> v2: 100%|██████████| 1/1 [00:00<00:00, 606.90it/s]"
     ]
    },
    {
     "name": "stdout",
     "output_type": "stream",
     "text": [
      "\n",
      "\r",
      "0it [00:00, ?it/s]"
     ]
    },
    {
     "name": "stdout",
     "output_type": "stream",
     "text": [
      "\r",
      "Upgrading database; v2 -> v3: : 0it [00:00, ?it/s]"
     ]
    },
    {
     "name": "stdout",
     "output_type": "stream",
     "text": [
      "\r",
      "Upgrading database; v2 -> v3: : 0it [00:00, ?it/s]"
     ]
    },
    {
     "name": "stdout",
     "output_type": "stream",
     "text": [
      "\n",
      "\r",
      "0it [00:00, ?it/s]"
     ]
    },
    {
     "name": "stdout",
     "output_type": "stream",
     "text": [
      "\r",
      "Upgrading database; v3 -> v4: : 0it [00:00, ?it/s]"
     ]
    },
    {
     "name": "stdout",
     "output_type": "stream",
     "text": [
      "\r",
      "Upgrading database; v3 -> v4: : 0it [00:00, ?it/s]"
     ]
    },
    {
     "name": "stdout",
     "output_type": "stream",
     "text": [
      "\n",
      "\r",
      "  0%|          | 0/1 [00:00<?, ?it/s]"
     ]
    },
    {
     "name": "stdout",
     "output_type": "stream",
     "text": [
      "\r",
      "Upgrading database; v4 -> v5:   0%|          | 0/1 [00:00<?, ?it/s]"
     ]
    },
    {
     "name": "stdout",
     "output_type": "stream",
     "text": [
      "\r",
      "Upgrading database; v4 -> v5: 100%|██████████| 1/1 [00:00<00:00, 587.11it/s]"
     ]
    },
    {
     "name": "stdout",
     "output_type": "stream",
     "text": [
      "\n",
      "\r",
      "0it [00:00, ?it/s]"
     ]
    },
    {
     "name": "stdout",
     "output_type": "stream",
     "text": [
      "\r",
      "Upgrading database; v5 -> v6: : 0it [00:00, ?it/s]"
     ]
    },
    {
     "name": "stdout",
     "output_type": "stream",
     "text": [
      "\r",
      "Upgrading database; v5 -> v6: : 0it [00:00, ?it/s]"
     ]
    },
    {
     "name": "stdout",
     "output_type": "stream",
     "text": [
      "\n",
      "\r",
      "  0%|          | 0/1 [00:00<?, ?it/s]"
     ]
    },
    {
     "name": "stdout",
     "output_type": "stream",
     "text": [
      "\r",
      "Upgrading database; v6 -> v7:   0%|          | 0/1 [00:00<?, ?it/s]"
     ]
    },
    {
     "name": "stdout",
     "output_type": "stream",
     "text": [
      "\r",
      "Upgrading database; v6 -> v7: 100%|██████████| 1/1 [00:00<00:00, 293.45it/s]"
     ]
    },
    {
     "name": "stdout",
     "output_type": "stream",
     "text": [
      "\n",
      "\r",
      "  0%|          | 0/1 [00:00<?, ?it/s]"
     ]
    },
    {
     "name": "stdout",
     "output_type": "stream",
     "text": [
      "\r",
      "Upgrading database; v7 -> v8:   0%|          | 0/1 [00:00<?, ?it/s]"
     ]
    },
    {
     "name": "stdout",
     "output_type": "stream",
     "text": [
      "\r",
      "Upgrading database; v7 -> v8: 100%|██████████| 1/1 [00:00<00:00, 487.94it/s]"
     ]
    },
    {
     "name": "stdout",
     "output_type": "stream",
     "text": [
      "\n",
      "\r",
      "  0%|          | 0/1 [00:00<?, ?it/s]"
     ]
    },
    {
     "name": "stdout",
     "output_type": "stream",
     "text": [
      "\r",
      "Upgrading database; v8 -> v9:   0%|          | 0/1 [00:00<?, ?it/s]"
     ]
    },
    {
     "name": "stdout",
     "output_type": "stream",
     "text": [
      "\r",
      "Upgrading database; v8 -> v9: 100%|██████████| 1/1 [00:00<00:00, 455.56it/s]"
     ]
    },
    {
     "name": "stdout",
     "output_type": "stream",
     "text": [
      "\n"
     ]
    }
   ],
   "source": [
    "initialise_database()\n",
    "exp = load_or_create_experiment(experiment_name='tutorial_exp', sample_name=\"no sample\")"
   ]
  },
  {
   "cell_type": "markdown",
   "metadata": {},
   "source": [
    "Here, we define a simple function to benchmark the time it takes to insert n points with either numeric or array data type.\n",
    "We will compare both the time used to call ``add_result`` and the time used for the full measurement."
   ]
  },
  {
   "cell_type": "code",
   "execution_count": 4,
   "metadata": {
    "execution": {
     "iopub.execute_input": "2021-02-16T16:37:24.527241Z",
     "iopub.status.busy": "2021-02-16T16:37:24.526707Z",
     "iopub.status.idle": "2021-02-16T16:37:24.529754Z",
     "shell.execute_reply": "2021-02-16T16:37:24.530558Z"
    }
   },
   "outputs": [],
   "source": [
    "def insert_data(paramtype, npoints, nreps=1):\n",
    "\n",
    "    meas = Measurement(exp=exp)\n",
    "\n",
    "    x1 = ManualParameter('x1')\n",
    "    x2 = ManualParameter('x2')\n",
    "    x3 = ManualParameter('x3')\n",
    "    y1 = ManualParameter('y1')\n",
    "    y2 = ManualParameter('y2')\n",
    "\n",
    "    meas.register_parameter(x1, paramtype=paramtype)\n",
    "    meas.register_parameter(x2, paramtype=paramtype)\n",
    "    meas.register_parameter(x3, paramtype=paramtype)\n",
    "    meas.register_parameter(y1, setpoints=[x1, x2, x3],\n",
    "                            paramtype=paramtype)\n",
    "    meas.register_parameter(y2, setpoints=[x1, x2, x3],\n",
    "                            paramtype=paramtype)\n",
    "    start = time.perf_counter()\n",
    "    with meas.run() as datasaver:\n",
    "        start_adding = time.perf_counter()\n",
    "        for i in range(nreps):\n",
    "            datasaver.add_result((x1, np.random.rand(npoints)),\n",
    "                                 (x2, np.random.rand(npoints)),\n",
    "                                 (x3, np.random.rand(npoints)),\n",
    "                                 (y1, np.random.rand(npoints)),\n",
    "                                 (y2, np.random.rand(npoints)))\n",
    "        stop_adding = time.perf_counter()\n",
    "        run_id = datasaver.run_id\n",
    "    stop = time.perf_counter()\n",
    "    tot_time = stop - start\n",
    "    add_time = stop_adding - start_adding\n",
    "    return tot_time, add_time, run_id"
   ]
  },
  {
   "cell_type": "markdown",
   "metadata": {},
   "source": [
    "## Comparison between numeric/array data and binary blob"
   ]
  },
  {
   "cell_type": "markdown",
   "metadata": {},
   "source": [
    "### Case1: Short experiment time"
   ]
  },
  {
   "cell_type": "code",
   "execution_count": 5,
   "metadata": {
    "execution": {
     "iopub.execute_input": "2021-02-16T16:37:24.537657Z",
     "iopub.status.busy": "2021-02-16T16:37:24.537118Z",
     "iopub.status.idle": "2021-02-16T16:37:25.304240Z",
     "shell.execute_reply": "2021-02-16T16:37:25.303380Z"
    }
   },
   "outputs": [
    {
     "name": "stdout",
     "output_type": "stream",
     "text": [
      "Starting experimental run with id: 1. \n",
      "Starting experimental run with id: 2. \n",
      "Starting experimental run with id: 3. \n",
      "Starting experimental run with id: 4. \n",
      "Starting experimental run with id: 5. \n"
     ]
    },
    {
     "name": "stdout",
     "output_type": "stream",
     "text": [
      "Starting experimental run with id: 6. \n"
     ]
    },
    {
     "name": "stdout",
     "output_type": "stream",
     "text": [
      "Starting experimental run with id: 7. \n"
     ]
    },
    {
     "name": "stdout",
     "output_type": "stream",
     "text": [
      "Starting experimental run with id: 8. \n",
      "Starting experimental run with id: 9. \n"
     ]
    },
    {
     "name": "stdout",
     "output_type": "stream",
     "text": [
      "Starting experimental run with id: 10. \n"
     ]
    },
    {
     "name": "stdout",
     "output_type": "stream",
     "text": [
      "Starting experimental run with id: 11. \n"
     ]
    },
    {
     "name": "stdout",
     "output_type": "stream",
     "text": [
      "Starting experimental run with id: 12. \n",
      "Starting experimental run with id: 13. \n"
     ]
    },
    {
     "name": "stdout",
     "output_type": "stream",
     "text": [
      "Starting experimental run with id: 14. \n"
     ]
    }
   ],
   "source": [
    "sizes = [1,500,1000,2000,3000,4000,5000]\n",
    "t_numeric = []\n",
    "t_numeric_add = []\n",
    "t_array = []\n",
    "t_array_add = []\n",
    "for size in sizes:\n",
    "    tn, tna, run_id_n =  insert_data('numeric', size)\n",
    "    t_numeric.append(tn)\n",
    "    t_numeric_add.append(tna)\n",
    "\n",
    "    ta, taa, run_id_a =  insert_data('array', size)\n",
    "    t_array.append(ta)\n",
    "    t_array_add.append(taa)"
   ]
  },
  {
   "cell_type": "code",
   "execution_count": 6,
   "metadata": {
    "execution": {
     "iopub.execute_input": "2021-02-16T16:37:25.345222Z",
     "iopub.status.busy": "2021-02-16T16:37:25.320653Z",
     "iopub.status.idle": "2021-02-16T16:37:25.493292Z",
     "shell.execute_reply": "2021-02-16T16:37:25.493718Z"
    }
   },
   "outputs": [
    {
     "data": {
      "image/png": "[encoded data removed]",
      "text/plain": [
       "<Figure size 432x288 with 1 Axes>"
      ]
     },
     "metadata": {
      "needs_background": "light"
     },
     "output_type": "display_data"
    }
   ],
   "source": [
    "fig, ax = plt.subplots(1,1)\n",
    "ax.plot(sizes, t_numeric, 'o-', label='Inserting row-by-row')\n",
    "ax.plot(sizes, t_numeric_add, 'o-', label='Inserting row-by-row: add_result only')\n",
    "ax.plot(sizes, t_array, 'd-', label='Inserting as binary blob')\n",
    "ax.plot(sizes, t_array_add, 'd-', label='Inserting as binary blob: add_result only')\n",
    "ax.legend()\n",
    "ax.set_xlabel('Array length')\n",
    "ax.set_ylabel('Time (s)')\n",
    "fig.tight_layout()"
   ]
  },
  {
   "cell_type": "markdown",
   "metadata": {},
   "source": [
    "As shown in the latter figure, the time to setup and and close the experiment is approximately 0.4 sec. In case of small array sizes, the difference between inserting values of data as arrays and inserting them row-by-row is relatively unimportant. At larger array sizes, i.e. above 10000 points, the cost of writing data as individual datapoints starts to become important.\n"
   ]
  },
  {
   "cell_type": "markdown",
   "metadata": {},
   "source": [
    "### Case2: Long experiment time "
   ]
  },
  {
   "cell_type": "code",
   "execution_count": 7,
   "metadata": {
    "execution": {
     "iopub.execute_input": "2021-02-16T16:37:25.496406Z",
     "iopub.status.busy": "2021-02-16T16:37:25.495855Z",
     "iopub.status.idle": "2021-02-16T16:38:20.651576Z",
     "shell.execute_reply": "2021-02-16T16:38:20.651131Z"
    }
   },
   "outputs": [
    {
     "name": "stdout",
     "output_type": "stream",
     "text": [
      "Starting experimental run with id: 15. \n",
      "Starting experimental run with id: 16. \n",
      "Starting experimental run with id: 17. \n"
     ]
    },
    {
     "name": "stdout",
     "output_type": "stream",
     "text": [
      "Starting experimental run with id: 18. \n"
     ]
    },
    {
     "name": "stdout",
     "output_type": "stream",
     "text": [
      "Starting experimental run with id: 19. \n"
     ]
    },
    {
     "name": "stdout",
     "output_type": "stream",
     "text": [
      "Starting experimental run with id: 20. \n"
     ]
    },
    {
     "name": "stdout",
     "output_type": "stream",
     "text": [
      "Starting experimental run with id: 21. \n"
     ]
    },
    {
     "name": "stdout",
     "output_type": "stream",
     "text": [
      "Starting experimental run with id: 22. \n"
     ]
    },
    {
     "name": "stdout",
     "output_type": "stream",
     "text": [
      "Starting experimental run with id: 23. \n"
     ]
    },
    {
     "name": "stdout",
     "output_type": "stream",
     "text": [
      "Starting experimental run with id: 24. \n"
     ]
    },
    {
     "name": "stdout",
     "output_type": "stream",
     "text": [
      "Starting experimental run with id: 25. \n"
     ]
    },
    {
     "name": "stdout",
     "output_type": "stream",
     "text": [
      "Starting experimental run with id: 26. \n"
     ]
    },
    {
     "name": "stdout",
     "output_type": "stream",
     "text": [
      "Starting experimental run with id: 27. \n"
     ]
    },
    {
     "name": "stdout",
     "output_type": "stream",
     "text": [
      "Starting experimental run with id: 28. \n"
     ]
    }
   ],
   "source": [
    "sizes = [1,500,1000,2000,3000,4000,5000]\n",
    "nreps = 100\n",
    "t_numeric = []\n",
    "t_numeric_add = []\n",
    "t_numeric_run_ids = []\n",
    "t_array = []\n",
    "t_array_add = []\n",
    "t_array_run_ids = []\n",
    "for size in sizes:\n",
    "    tn, tna, run_id_n =  insert_data('numeric', size, nreps=nreps)\n",
    "    t_numeric.append(tn)\n",
    "    t_numeric_add.append(tna)\n",
    "    t_numeric_run_ids.append(run_id_n)\n",
    "\n",
    "    ta, taa, run_id_a =  insert_data('array', size, nreps=nreps)\n",
    "    t_array.append(ta)\n",
    "    t_array_add.append(taa)\n",
    "    t_array_run_ids.append(run_id_a)"
   ]
  },
  {
   "cell_type": "code",
   "execution_count": 8,
   "metadata": {
    "execution": {
     "iopub.execute_input": "2021-02-16T16:38:20.689794Z",
     "iopub.status.busy": "2021-02-16T16:38:20.673933Z",
     "iopub.status.idle": "2021-02-16T16:38:20.842354Z",
     "shell.execute_reply": "2021-02-16T16:38:20.843074Z"
    },
    "scrolled": true
   },
   "outputs": [
    {
     "data": {
      "image/png": "[encoded data removed]",
      "text/plain": [
       "<Figure size 432x288 with 1 Axes>"
      ]
     },
     "metadata": {
      "needs_background": "light"
     },
     "output_type": "display_data"
    }
   ],
   "source": [
    "fig, ax = plt.subplots(1,1)\n",
    "ax.plot(sizes, t_numeric, 'o-', label='Inserting row-by-row')\n",
    "ax.plot(sizes, t_numeric_add, 'o-', label='Inserting row-by-row: add_result only')\n",
    "ax.plot(sizes, t_array, 'd-', label='Inserting as binary blob')\n",
    "ax.plot(sizes, t_array_add, 'd-', label='Inserting as binary blob: add_result only')\n",
    "ax.legend()\n",
    "ax.set_xlabel('Array length')\n",
    "ax.set_ylabel('Time (s)')\n",
    "fig.tight_layout()"
   ]
  },
  {
   "cell_type": "markdown",
   "metadata": {},
   "source": [
    "However, as we increase the length of the experiment, as seen here by repeating the insertion 100 times, we see a big difference between inserting values of the data row-by-row and inserting it as a binary blob."
   ]
  },
  {
   "cell_type": "markdown",
   "metadata": {},
   "source": [
    "## Loading the data "
   ]
  },
  {
   "cell_type": "code",
   "execution_count": 9,
   "metadata": {
    "execution": {
     "iopub.execute_input": "2021-02-16T16:38:20.846325Z",
     "iopub.status.busy": "2021-02-16T16:38:20.845739Z",
     "iopub.status.idle": "2021-02-16T16:38:20.849245Z",
     "shell.execute_reply": "2021-02-16T16:38:20.849685Z"
    }
   },
   "outputs": [],
   "source": [
    "from qcodes.dataset.data_set import load_by_id\n",
    "from qcodes.dataset.data_export import get_data_by_id"
   ]
  },
  {
   "cell_type": "markdown",
   "metadata": {},
   "source": [
    "As usual you can load the data by using the ``load_by_id`` function but you will notice that the different storage methods\n",
    "are reflected in shape of the data as it is retrieved. "
   ]
  },
  {
   "cell_type": "code",
   "execution_count": 10,
   "metadata": {
    "execution": {
     "iopub.execute_input": "2021-02-16T16:38:20.854420Z",
     "iopub.status.busy": "2021-02-16T16:38:20.853202Z",
     "iopub.status.idle": "2021-02-16T16:38:20.855063Z",
     "shell.execute_reply": "2021-02-16T16:38:20.855500Z"
    }
   },
   "outputs": [],
   "source": [
    "run_id_n = t_numeric_run_ids[0]\n",
    "run_id_a = t_array_run_ids[0]"
   ]
  },
  {
   "cell_type": "code",
   "execution_count": 11,
   "metadata": {
    "execution": {
     "iopub.execute_input": "2021-02-16T16:38:20.858303Z",
     "iopub.status.busy": "2021-02-16T16:38:20.857849Z",
     "iopub.status.idle": "2021-02-16T16:38:20.867048Z",
     "shell.execute_reply": "2021-02-16T16:38:20.867412Z"
    },
    "scrolled": true
   },
   "outputs": [
    {
     "data": {
      "text/plain": [
       "{'x1': {'x1': array([0.92526514, 0.92526514, 0.98654333, 0.98654333, 0.65174384,\n",
       "         0.65174384, 0.74879017, 0.74879017, 0.08634855, 0.08634855,\n",
       "         0.26709373, 0.26709373, 0.06023894, 0.06023894, 0.92277583,\n",
       "         0.92277583, 0.99496191, 0.99496191, 0.06391761, 0.06391761,\n",
       "         0.05914172, 0.05914172, 0.92688311, 0.92688311, 0.09616964,\n",
       "         0.09616964, 0.73112859, 0.73112859, 0.70043749, 0.70043749,\n",
       "         0.24941554, 0.24941554, 0.78829882, 0.78829882, 0.41640313,\n",
       "         0.41640313, 0.23524755, 0.23524755, 0.45968649, 0.45968649,\n",
       "         0.65242411, 0.65242411, 0.04352046, 0.04352046, 0.52153034,\n",
       "         0.52153034, 0.44667998, 0.44667998, 0.16528033, 0.16528033,\n",
       "         0.40336128, 0.40336128, 0.69450739, 0.69450739, 0.87375875,\n",
       "         0.87375875, 0.9383649 , 0.9383649 , 0.7000398 , 0.7000398 ,\n",
       "         0.50568813, 0.50568813, 0.81481258, 0.81481258, 0.887684  ,\n",
       "         0.887684  , 0.79824608, 0.79824608, 0.12485571, 0.12485571,\n",
       "         0.28923139, 0.28923139, 0.58777666, 0.58777666, 0.28244406,\n",
       "         0.28244406, 0.50022171, 0.50022171, 0.59527878, 0.59527878,\n",
       "         0.19304591, 0.19304591, 0.91548505, 0.91548505, 0.76764148,\n",
       "         0.76764148, 0.5312688 , 0.5312688 , 0.92204578, 0.92204578,\n",
       "         0.84497887, 0.84497887, 0.20731502, 0.20731502, 0.78599513,\n",
       "         0.78599513, 0.80136766, 0.80136766, 0.91527538, 0.91527538,\n",
       "         0.67824197, 0.67824197, 0.22578201, 0.22578201, 0.56474477,\n",
       "         0.56474477, 0.65468514, 0.65468514, 0.61021234, 0.61021234,\n",
       "         0.64347931, 0.64347931, 0.25419674, 0.25419674, 0.12530893,\n",
       "         0.12530893, 0.42694453, 0.42694453, 0.03388961, 0.03388961,\n",
       "         0.63349837, 0.63349837, 0.42725494, 0.42725494, 0.43065991,\n",
       "         0.43065991, 0.08008205, 0.08008205, 0.554369  , 0.554369  ,\n",
       "         0.92348726, 0.92348726, 0.83457328, 0.83457328, 0.81950952,\n",
       "         0.81950952, 0.61668236, 0.61668236, 0.55283302, 0.55283302,\n",
       "         0.29314326, 0.29314326, 0.72944373, 0.72944373, 0.24941107,\n",
       "         0.24941107, 0.62947086, 0.62947086, 0.78385143, 0.78385143,\n",
       "         0.54078746, 0.54078746, 0.54151899, 0.54151899, 0.8559872 ,\n",
       "         0.8559872 , 0.89518074, 0.89518074, 0.36026596, 0.36026596,\n",
       "         0.88113699, 0.88113699, 0.09557888, 0.09557888, 0.65775527,\n",
       "         0.65775527, 0.87880312, 0.87880312, 0.86395842, 0.86395842,\n",
       "         0.11171601, 0.11171601, 0.00989432, 0.00989432, 0.78487213,\n",
       "         0.78487213, 0.62801043, 0.62801043, 0.65903393, 0.65903393,\n",
       "         0.18375407, 0.18375407, 0.4276618 , 0.4276618 , 0.29421784,\n",
       "         0.29421784, 0.81621127, 0.81621127, 0.37268318, 0.37268318,\n",
       "         0.74957525, 0.74957525, 0.21220593, 0.21220593, 0.40377502,\n",
       "         0.40377502, 0.17986428, 0.17986428, 0.13304865, 0.13304865])}}"
      ]
     },
     "execution_count": 1,
     "metadata": {},
     "output_type": "execute_result"
    }
   ],
   "source": [
    "ds = load_by_id(run_id_n)\n",
    "ds.get_parameter_data('x1')"
   ]
  },
  {
   "cell_type": "markdown",
   "metadata": {},
   "source": [
    "And a dataset stored as binary arrays"
   ]
  },
  {
   "cell_type": "code",
   "execution_count": 12,
   "metadata": {
    "execution": {
     "iopub.execute_input": "2021-02-16T16:38:20.870583Z",
     "iopub.status.busy": "2021-02-16T16:38:20.870112Z",
     "iopub.status.idle": "2021-02-16T16:38:20.923957Z",
     "shell.execute_reply": "2021-02-16T16:38:20.924482Z"
    },
    "scrolled": true
   },
   "outputs": [
    {
     "data": {
      "text/plain": [
       "{'x1': {'x1': array([[0.61785465],\n",
       "         [0.61785465],\n",
       "         [0.04184493],\n",
       "         [0.04184493],\n",
       "         [0.12028457],\n",
       "         [0.12028457],\n",
       "         [0.9152662 ],\n",
       "         [0.9152662 ],\n",
       "         [0.83324249],\n",
       "         [0.83324249],\n",
       "         [0.73970121],\n",
       "         [0.73970121],\n",
       "         [0.45043492],\n",
       "         [0.45043492],\n",
       "         [0.62553467],\n",
       "         [0.62553467],\n",
       "         [0.89291809],\n",
       "         [0.89291809],\n",
       "         [0.76497276],\n",
       "         [0.76497276],\n",
       "         [0.06982855],\n",
       "         [0.06982855],\n",
       "         [0.52162227],\n",
       "         [0.52162227],\n",
       "         [0.70523407],\n",
       "         [0.70523407],\n",
       "         [0.54408603],\n",
       "         [0.54408603],\n",
       "         [0.62532595],\n",
       "         [0.62532595],\n",
       "         [0.65493331],\n",
       "         [0.65493331],\n",
       "         [0.08474203],\n",
       "         [0.08474203],\n",
       "         [0.19762366],\n",
       "         [0.19762366],\n",
       "         [0.58296524],\n",
       "         [0.58296524],\n",
       "         [0.18766283],\n",
       "         [0.18766283],\n",
       "         [0.71850942],\n",
       "         [0.71850942],\n",
       "         [0.10467764],\n",
       "         [0.10467764],\n",
       "         [0.04424312],\n",
       "         [0.04424312],\n",
       "         [0.04658866],\n",
       "         [0.04658866],\n",
       "         [0.76563024],\n",
       "         [0.76563024],\n",
       "         [0.01665488],\n",
       "         [0.01665488],\n",
       "         [0.57312678],\n",
       "         [0.57312678],\n",
       "         [0.71989428],\n",
       "         [0.71989428],\n",
       "         [0.31896201],\n",
       "         [0.31896201],\n",
       "         [0.64587428],\n",
       "         [0.64587428],\n",
       "         [0.61866111],\n",
       "         [0.61866111],\n",
       "         [0.96972219],\n",
       "         [0.96972219],\n",
       "         [0.61143886],\n",
       "         [0.61143886],\n",
       "         [0.81844513],\n",
       "         [0.81844513],\n",
       "         [0.97206116],\n",
       "         [0.97206116],\n",
       "         [0.99253663],\n",
       "         [0.99253663],\n",
       "         [0.03505096],\n",
       "         [0.03505096],\n",
       "         [0.84020627],\n",
       "         [0.84020627],\n",
       "         [0.89762364],\n",
       "         [0.89762364],\n",
       "         [0.92505549],\n",
       "         [0.92505549],\n",
       "         [0.48234682],\n",
       "         [0.48234682],\n",
       "         [0.79063617],\n",
       "         [0.79063617],\n",
       "         [0.01861648],\n",
       "         [0.01861648],\n",
       "         [0.66819015],\n",
       "         [0.66819015],\n",
       "         [0.95500144],\n",
       "         [0.95500144],\n",
       "         [0.52630111],\n",
       "         [0.52630111],\n",
       "         [0.89541608],\n",
       "         [0.89541608],\n",
       "         [0.18623303],\n",
       "         [0.18623303],\n",
       "         [0.95180874],\n",
       "         [0.95180874],\n",
       "         [0.55824395],\n",
       "         [0.55824395],\n",
       "         [0.69993356],\n",
       "         [0.69993356],\n",
       "         [0.52263009],\n",
       "         [0.52263009],\n",
       "         [0.73893096],\n",
       "         [0.73893096],\n",
       "         [0.15520424],\n",
       "         [0.15520424],\n",
       "         [0.22315256],\n",
       "         [0.22315256],\n",
       "         [0.12101194],\n",
       "         [0.12101194],\n",
       "         [0.39967397],\n",
       "         [0.39967397],\n",
       "         [0.87577704],\n",
       "         [0.87577704],\n",
       "         [0.35074915],\n",
       "         [0.35074915],\n",
       "         [0.87649925],\n",
       "         [0.87649925],\n",
       "         [0.84706193],\n",
       "         [0.84706193],\n",
       "         [0.95037696],\n",
       "         [0.95037696],\n",
       "         [0.07295182],\n",
       "         [0.07295182],\n",
       "         [0.74669879],\n",
       "         [0.74669879],\n",
       "         [0.76245767],\n",
       "         [0.76245767],\n",
       "         [0.82445572],\n",
       "         [0.82445572],\n",
       "         [0.70210847],\n",
       "         [0.70210847],\n",
       "         [0.19167433],\n",
       "         [0.19167433],\n",
       "         [0.50667812],\n",
       "         [0.50667812],\n",
       "         [0.93043266],\n",
       "         [0.93043266],\n",
       "         [0.41375714],\n",
       "         [0.41375714],\n",
       "         [0.79375755],\n",
       "         [0.79375755],\n",
       "         [0.17137258],\n",
       "         [0.17137258],\n",
       "         [0.84118451],\n",
       "         [0.84118451],\n",
       "         [0.47338526],\n",
       "         [0.47338526],\n",
       "         [0.40438789],\n",
       "         [0.40438789],\n",
       "         [0.0528379 ],\n",
       "         [0.0528379 ],\n",
       "         [0.05872386],\n",
       "         [0.05872386],\n",
       "         [0.2253722 ],\n",
       "         [0.2253722 ],\n",
       "         [0.45990963],\n",
       "         [0.45990963],\n",
       "         [0.6958992 ],\n",
       "         [0.6958992 ],\n",
       "         [0.89760148],\n",
       "         [0.89760148],\n",
       "         [0.21390676],\n",
       "         [0.21390676],\n",
       "         [0.50336084],\n",
       "         [0.50336084],\n",
       "         [0.18744507],\n",
       "         [0.18744507],\n",
       "         [0.83571635],\n",
       "         [0.83571635],\n",
       "         [0.18899421],\n",
       "         [0.18899421],\n",
       "         [0.82100386],\n",
       "         [0.82100386],\n",
       "         [0.51991066],\n",
       "         [0.51991066],\n",
       "         [0.99998051],\n",
       "         [0.99998051],\n",
       "         [0.3428124 ],\n",
       "         [0.3428124 ],\n",
       "         [0.79846366],\n",
       "         [0.79846366],\n",
       "         [0.35161098],\n",
       "         [0.35161098],\n",
       "         [0.79120555],\n",
       "         [0.79120555],\n",
       "         [0.9430299 ],\n",
       "         [0.9430299 ],\n",
       "         [0.46004019],\n",
       "         [0.46004019],\n",
       "         [0.55132515],\n",
       "         [0.55132515],\n",
       "         [0.60839062],\n",
       "         [0.60839062],\n",
       "         [0.73505764],\n",
       "         [0.73505764],\n",
       "         [0.23129675],\n",
       "         [0.23129675]])}}"
      ]
     },
     "execution_count": 1,
     "metadata": {},
     "output_type": "execute_result"
    }
   ],
   "source": [
    "ds = load_by_id(run_id_a)\n",
    "ds.get_parameter_data('x1')"
   ]
  },
  {
   "cell_type": "code",
   "execution_count": null,
   "metadata": {},
   "outputs": [],
   "source": []
  }
 ],
 "metadata": {
  "kernelspec": {
   "display_name": "Python 3",
   "language": "python",
   "name": "python3"
  },
  "language_info": {
   "codemirror_mode": {
    "name": "ipython",
    "version": 3
   },
   "file_extension": ".py",
   "mimetype": "text/x-python",
   "name": "python",
   "nbconvert_exporter": "python",
   "pygments_lexer": "ipython3",
   "version": "3.7.9"
  },
  "nbsphinx": {
   "timeout": 600
  },
  "toc": {
   "base_numbering": 1,
   "nav_menu": {},
   "number_sections": true,
   "sideBar": true,
   "skip_h1_title": false,
   "title_cell": "Table of Contents",
   "title_sidebar": "Contents",
   "toc_cell": false,
   "toc_position": {},
   "toc_section_display": true,
   "toc_window_display": false
  },
  "varInspector": {
   "cols": {
    "lenName": 16,
    "lenType": 16,
    "lenVar": 40
   },
   "kernels_config": {
    "python": {
     "delete_cmd_postfix": "",
     "delete_cmd_prefix": "del ",
     "library": "var_list.py",
     "varRefreshCmd": "print(var_dic_list())"
    },
    "r": {
     "delete_cmd_postfix": ") ",
     "delete_cmd_prefix": "rm(",
     "library": "var_list.r",
     "varRefreshCmd": "cat(var_dic_list()) "
    }
   },
   "types_to_exclude": [
    "module",
    "function",
    "builtin_function_or_method",
    "instance",
    "_Feature"
   ],
   "window_display": false
  }
 },
 "nbformat": 4,
 "nbformat_minor": 2
}
