{
 "cells": [
  {
   "cell_type": "markdown",
   "metadata": {},
   "source": [
    "# DataSet Performance\n",
    "\n",
    "This notebook shows the trade-off between inserting data into a database row-by-row and as binary blobs. Inserting the data row-by-row means that we have direct access to all the data and may perform queries directly on the values of the data. On the other hand, as we shall see, this is much slower than inserting the data directly as binary blobs."
   ]
  },
  {
   "cell_type": "markdown",
   "metadata": {},
   "source": [
    "First, we choose a new location for the database to ensure that we don't add a bunch of benchmarking data to the default one."
   ]
  },
  {
   "cell_type": "code",
   "execution_count": 1,
   "metadata": {
    "execution": {
     "iopub.execute_input": "2021-05-26T11:04:38.679413Z",
     "iopub.status.busy": "2021-05-26T11:04:38.678900Z",
     "iopub.status.idle": "2021-05-26T11:04:39.727441Z",
     "shell.execute_reply": "2021-05-26T11:04:39.726806Z"
    }
   },
   "outputs": [
    {
     "name": "stdout",
     "output_type": "stream",
     "text": [
      "Logging hadn't been started.\n",
      "Activating auto-logging. Current session state plus future input saved.\n",
      "Filename       : /home/runner/.qcodes/logs/command_history.log\n",
      "Mode           : append\n",
      "Output logging : True\n",
      "Raw input log  : False\n",
      "Timestamping   : True\n",
      "State          : active\n"
     ]
    },
    {
     "name": "stdout",
     "output_type": "stream",
     "text": [
      "Qcodes Logfile : /home/runner/.qcodes/logs/210526-4368-qcodes.log\n"
     ]
    }
   ],
   "source": [
    "import os\n",
    "cwd = os.getcwd()\n",
    "import qcodes as qc\n",
    "qc.config[\"core\"][\"db_location\"] = os.path.join(cwd, 'testing.db')\n"
   ]
  },
  {
   "cell_type": "code",
   "execution_count": 2,
   "metadata": {
    "execution": {
     "iopub.execute_input": "2021-05-26T11:04:39.733577Z",
     "iopub.status.busy": "2021-05-26T11:04:39.732870Z",
     "iopub.status.idle": "2021-05-26T11:04:39.911700Z",
     "shell.execute_reply": "2021-05-26T11:04:39.910790Z"
    }
   },
   "outputs": [],
   "source": [
    "%matplotlib inline\n",
    "import time\n",
    "import matplotlib.pyplot as plt\n",
    "import numpy as np\n",
    "\n",
    "import qcodes as qc\n",
    "from qcodes.instrument.parameter import ManualParameter\n",
    "from qcodes.dataset.experiment_container import (Experiment,\n",
    "                                                 load_last_experiment,\n",
    "                                                 new_experiment)\n",
    "from qcodes.dataset.sqlite.database import initialise_database\n",
    "from qcodes import load_or_create_experiment\n",
    "from qcodes.dataset.measurements import Measurement"
   ]
  },
  {
   "cell_type": "code",
   "execution_count": 3,
   "metadata": {
    "execution": {
     "iopub.execute_input": "2021-05-26T11:04:39.915586Z",
     "iopub.status.busy": "2021-05-26T11:04:39.914996Z",
     "iopub.status.idle": "2021-05-26T11:04:39.975530Z",
     "shell.execute_reply": "2021-05-26T11:04:39.975911Z"
    }
   },
   "outputs": [
    {
     "name": "stdout",
     "output_type": "stream",
     "text": [
      "\r",
      "0it [00:00, ?it/s]"
     ]
    },
    {
     "name": "stdout",
     "output_type": "stream",
     "text": [
      "\r",
      "Upgrading database; v0 -> v1: : 0it [00:00, ?it/s]"
     ]
    },
    {
     "name": "stdout",
     "output_type": "stream",
     "text": [
      "\r",
      "Upgrading database; v0 -> v1: : 0it [00:00, ?it/s]"
     ]
    },
    {
     "name": "stdout",
     "output_type": "stream",
     "text": [
      "\n",
      "\r",
      "  0%|          | 0/1 [00:00<?, ?it/s]"
     ]
    },
    {
     "name": "stdout",
     "output_type": "stream",
     "text": [
      "\r",
      "Upgrading database; v1 -> v2:   0%|          | 0/1 [00:00<?, ?it/s]"
     ]
    },
    {
     "name": "stdout",
     "output_type": "stream",
     "text": [
      "\r",
      "Upgrading database; v1 -> v2: 100%|██████████| 1/1 [00:00<00:00, 526.79it/s]"
     ]
    },
    {
     "name": "stdout",
     "output_type": "stream",
     "text": [
      "\n",
      "\r",
      "0it [00:00, ?it/s]"
     ]
    },
    {
     "name": "stdout",
     "output_type": "stream",
     "text": [
      "\r",
      "Upgrading database; v2 -> v3: : 0it [00:00, ?it/s]"
     ]
    },
    {
     "name": "stdout",
     "output_type": "stream",
     "text": [
      "\r",
      "Upgrading database; v2 -> v3: : 0it [00:00, ?it/s]"
     ]
    },
    {
     "name": "stdout",
     "output_type": "stream",
     "text": [
      "\n",
      "\r",
      "0it [00:00, ?it/s]"
     ]
    },
    {
     "name": "stdout",
     "output_type": "stream",
     "text": [
      "\r",
      "Upgrading database; v3 -> v4: : 0it [00:00, ?it/s]"
     ]
    },
    {
     "name": "stdout",
     "output_type": "stream",
     "text": [
      "\r",
      "Upgrading database; v3 -> v4: : 0it [00:00, ?it/s]"
     ]
    },
    {
     "name": "stdout",
     "output_type": "stream",
     "text": [
      "\n",
      "\r",
      "  0%|          | 0/1 [00:00<?, ?it/s]"
     ]
    },
    {
     "name": "stdout",
     "output_type": "stream",
     "text": [
      "\r",
      "Upgrading database; v4 -> v5:   0%|          | 0/1 [00:00<?, ?it/s]"
     ]
    },
    {
     "name": "stdout",
     "output_type": "stream",
     "text": [
      "\r",
      "Upgrading database; v4 -> v5: 100%|██████████| 1/1 [00:00<00:00, 595.11it/s]"
     ]
    },
    {
     "name": "stdout",
     "output_type": "stream",
     "text": [
      "\n",
      "\r",
      "0it [00:00, ?it/s]"
     ]
    },
    {
     "name": "stdout",
     "output_type": "stream",
     "text": [
      "\r",
      "Upgrading database; v5 -> v6: : 0it [00:00, ?it/s]"
     ]
    },
    {
     "name": "stdout",
     "output_type": "stream",
     "text": [
      "\r",
      "Upgrading database; v5 -> v6: : 0it [00:00, ?it/s]"
     ]
    },
    {
     "name": "stdout",
     "output_type": "stream",
     "text": [
      "\n",
      "\r",
      "  0%|          | 0/1 [00:00<?, ?it/s]"
     ]
    },
    {
     "name": "stdout",
     "output_type": "stream",
     "text": [
      "\r",
      "Upgrading database; v6 -> v7:   0%|          | 0/1 [00:00<?, ?it/s]"
     ]
    },
    {
     "name": "stdout",
     "output_type": "stream",
     "text": [
      "\r",
      "Upgrading database; v6 -> v7: 100%|██████████| 1/1 [00:00<00:00, 315.34it/s]"
     ]
    },
    {
     "name": "stdout",
     "output_type": "stream",
     "text": [
      "\n",
      "\r",
      "  0%|          | 0/1 [00:00<?, ?it/s]"
     ]
    },
    {
     "name": "stdout",
     "output_type": "stream",
     "text": [
      "\r",
      "Upgrading database; v7 -> v8:   0%|          | 0/1 [00:00<?, ?it/s]"
     ]
    },
    {
     "name": "stdout",
     "output_type": "stream",
     "text": [
      "\r",
      "Upgrading database; v7 -> v8: 100%|██████████| 1/1 [00:00<00:00, 514.32it/s]"
     ]
    },
    {
     "name": "stdout",
     "output_type": "stream",
     "text": [
      "\n",
      "\r",
      "  0%|          | 0/1 [00:00<?, ?it/s]"
     ]
    },
    {
     "name": "stdout",
     "output_type": "stream",
     "text": [
      "\r",
      "Upgrading database; v8 -> v9:   0%|          | 0/1 [00:00<?, ?it/s]"
     ]
    },
    {
     "name": "stdout",
     "output_type": "stream",
     "text": [
      "\r",
      "Upgrading database; v8 -> v9: 100%|██████████| 1/1 [00:00<00:00, 1383.80it/s]"
     ]
    },
    {
     "name": "stdout",
     "output_type": "stream",
     "text": [
      "\n"
     ]
    }
   ],
   "source": [
    "initialise_database()\n",
    "exp = load_or_create_experiment(experiment_name='tutorial_exp', sample_name=\"no sample\")"
   ]
  },
  {
   "cell_type": "markdown",
   "metadata": {},
   "source": [
    "Here, we define a simple function to benchmark the time it takes to insert n points with either numeric or array data type.\n",
    "We will compare both the time used to call ``add_result`` and the time used for the full measurement."
   ]
  },
  {
   "cell_type": "code",
   "execution_count": 4,
   "metadata": {
    "execution": {
     "iopub.execute_input": "2021-05-26T11:04:39.983695Z",
     "iopub.status.busy": "2021-05-26T11:04:39.983196Z",
     "iopub.status.idle": "2021-05-26T11:04:39.986020Z",
     "shell.execute_reply": "2021-05-26T11:04:39.986420Z"
    }
   },
   "outputs": [],
   "source": [
    "def insert_data(paramtype, npoints, nreps=1):\n",
    "\n",
    "    meas = Measurement(exp=exp)\n",
    "\n",
    "    x1 = ManualParameter('x1')\n",
    "    x2 = ManualParameter('x2')\n",
    "    x3 = ManualParameter('x3')\n",
    "    y1 = ManualParameter('y1')\n",
    "    y2 = ManualParameter('y2')\n",
    "\n",
    "    meas.register_parameter(x1, paramtype=paramtype)\n",
    "    meas.register_parameter(x2, paramtype=paramtype)\n",
    "    meas.register_parameter(x3, paramtype=paramtype)\n",
    "    meas.register_parameter(y1, setpoints=[x1, x2, x3],\n",
    "                            paramtype=paramtype)\n",
    "    meas.register_parameter(y2, setpoints=[x1, x2, x3],\n",
    "                            paramtype=paramtype)\n",
    "    start = time.perf_counter()\n",
    "    with meas.run() as datasaver:\n",
    "        start_adding = time.perf_counter()\n",
    "        for i in range(nreps):\n",
    "            datasaver.add_result((x1, np.random.rand(npoints)),\n",
    "                                 (x2, np.random.rand(npoints)),\n",
    "                                 (x3, np.random.rand(npoints)),\n",
    "                                 (y1, np.random.rand(npoints)),\n",
    "                                 (y2, np.random.rand(npoints)))\n",
    "        stop_adding = time.perf_counter()\n",
    "        run_id = datasaver.run_id\n",
    "    stop = time.perf_counter()\n",
    "    tot_time = stop - start\n",
    "    add_time = stop_adding - start_adding\n",
    "    return tot_time, add_time, run_id"
   ]
  },
  {
   "cell_type": "markdown",
   "metadata": {},
   "source": [
    "## Comparison between numeric/array data and binary blob"
   ]
  },
  {
   "cell_type": "markdown",
   "metadata": {},
   "source": [
    "### Case1: Short experiment time"
   ]
  },
  {
   "cell_type": "code",
   "execution_count": 5,
   "metadata": {
    "execution": {
     "iopub.execute_input": "2021-05-26T11:04:39.992554Z",
     "iopub.status.busy": "2021-05-26T11:04:39.991983Z",
     "iopub.status.idle": "2021-05-26T11:04:40.696676Z",
     "shell.execute_reply": "2021-05-26T11:04:40.697073Z"
    }
   },
   "outputs": [
    {
     "name": "stdout",
     "output_type": "stream",
     "text": [
      "Starting experimental run with id: 1. \n",
      "Starting experimental run with id: 2. \n",
      "Starting experimental run with id: 3. \n",
      "Starting experimental run with id: 4. \n"
     ]
    },
    {
     "name": "stdout",
     "output_type": "stream",
     "text": [
      "Starting experimental run with id: 5. \n"
     ]
    },
    {
     "name": "stdout",
     "output_type": "stream",
     "text": [
      "Starting experimental run with id: 6. \n"
     ]
    },
    {
     "name": "stdout",
     "output_type": "stream",
     "text": [
      "Starting experimental run with id: 7. \n"
     ]
    },
    {
     "name": "stdout",
     "output_type": "stream",
     "text": [
      "Starting experimental run with id: 8. \n",
      "Starting experimental run with id: 9. \n"
     ]
    },
    {
     "name": "stdout",
     "output_type": "stream",
     "text": [
      "Starting experimental run with id: 10. \n"
     ]
    },
    {
     "name": "stdout",
     "output_type": "stream",
     "text": [
      "Starting experimental run with id: 11. \n"
     ]
    },
    {
     "name": "stdout",
     "output_type": "stream",
     "text": [
      "Starting experimental run with id: 12. \n",
      "Starting experimental run with id: 13. \n"
     ]
    },
    {
     "name": "stdout",
     "output_type": "stream",
     "text": [
      "Starting experimental run with id: 14. \n"
     ]
    }
   ],
   "source": [
    "sizes = [1,500,1000,2000,3000,4000,5000]\n",
    "t_numeric = []\n",
    "t_numeric_add = []\n",
    "t_array = []\n",
    "t_array_add = []\n",
    "for size in sizes:\n",
    "    tn, tna, run_id_n =  insert_data('numeric', size)\n",
    "    t_numeric.append(tn)\n",
    "    t_numeric_add.append(tna)\n",
    "\n",
    "    ta, taa, run_id_a =  insert_data('array', size)\n",
    "    t_array.append(ta)\n",
    "    t_array_add.append(taa)"
   ]
  },
  {
   "cell_type": "code",
   "execution_count": 6,
   "metadata": {
    "execution": {
     "iopub.execute_input": "2021-05-26T11:04:40.739396Z",
     "iopub.status.busy": "2021-05-26T11:04:40.713542Z",
     "iopub.status.idle": "2021-05-26T11:04:40.909385Z",
     "shell.execute_reply": "2021-05-26T11:04:40.908929Z"
    }
   },
   "outputs": [
    {
     "data": {
      "image/png": "[encoded data removed]",
      "text/plain": [
       "<Figure size 432x288 with 1 Axes>"
      ]
     },
     "metadata": {
      "needs_background": "light"
     },
     "output_type": "display_data"
    }
   ],
   "source": [
    "fig, ax = plt.subplots(1,1)\n",
    "ax.plot(sizes, t_numeric, 'o-', label='Inserting row-by-row')\n",
    "ax.plot(sizes, t_numeric_add, 'o-', label='Inserting row-by-row: add_result only')\n",
    "ax.plot(sizes, t_array, 'd-', label='Inserting as binary blob')\n",
    "ax.plot(sizes, t_array_add, 'd-', label='Inserting as binary blob: add_result only')\n",
    "ax.legend()\n",
    "ax.set_xlabel('Array length')\n",
    "ax.set_ylabel('Time (s)')\n",
    "fig.tight_layout()"
   ]
  },
  {
   "cell_type": "markdown",
   "metadata": {},
   "source": [
    "As shown in the latter figure, the time to setup and and close the experiment is approximately 0.4 sec. In case of small array sizes, the difference between inserting values of data as arrays and inserting them row-by-row is relatively unimportant. At larger array sizes, i.e. above 10000 points, the cost of writing data as individual datapoints starts to become important.\n"
   ]
  },
  {
   "cell_type": "markdown",
   "metadata": {},
   "source": [
    "### Case2: Long experiment time "
   ]
  },
  {
   "cell_type": "code",
   "execution_count": 7,
   "metadata": {
    "execution": {
     "iopub.execute_input": "2021-05-26T11:04:40.915694Z",
     "iopub.status.busy": "2021-05-26T11:04:40.915008Z",
     "iopub.status.idle": "2021-05-26T11:05:31.560530Z",
     "shell.execute_reply": "2021-05-26T11:05:31.560053Z"
    }
   },
   "outputs": [
    {
     "name": "stdout",
     "output_type": "stream",
     "text": [
      "Starting experimental run with id: 15. \n",
      "Starting experimental run with id: 16. \n",
      "Starting experimental run with id: 17. \n"
     ]
    },
    {
     "name": "stdout",
     "output_type": "stream",
     "text": [
      "Starting experimental run with id: 18. \n",
      "Starting experimental run with id: 19. \n"
     ]
    },
    {
     "name": "stdout",
     "output_type": "stream",
     "text": [
      "Starting experimental run with id: 20. \n"
     ]
    },
    {
     "name": "stdout",
     "output_type": "stream",
     "text": [
      "Starting experimental run with id: 21. \n"
     ]
    },
    {
     "name": "stdout",
     "output_type": "stream",
     "text": [
      "Starting experimental run with id: 22. \n"
     ]
    },
    {
     "name": "stdout",
     "output_type": "stream",
     "text": [
      "Starting experimental run with id: 23. \n"
     ]
    },
    {
     "name": "stdout",
     "output_type": "stream",
     "text": [
      "Starting experimental run with id: 24. \n"
     ]
    },
    {
     "name": "stdout",
     "output_type": "stream",
     "text": [
      "Starting experimental run with id: 25. \n"
     ]
    },
    {
     "name": "stdout",
     "output_type": "stream",
     "text": [
      "Starting experimental run with id: 26. \n"
     ]
    },
    {
     "name": "stdout",
     "output_type": "stream",
     "text": [
      "Starting experimental run with id: 27. \n"
     ]
    },
    {
     "name": "stdout",
     "output_type": "stream",
     "text": [
      "Starting experimental run with id: 28. \n"
     ]
    }
   ],
   "source": [
    "sizes = [1,500,1000,2000,3000,4000,5000]\n",
    "nreps = 100\n",
    "t_numeric = []\n",
    "t_numeric_add = []\n",
    "t_numeric_run_ids = []\n",
    "t_array = []\n",
    "t_array_add = []\n",
    "t_array_run_ids = []\n",
    "for size in sizes:\n",
    "    tn, tna, run_id_n =  insert_data('numeric', size, nreps=nreps)\n",
    "    t_numeric.append(tn)\n",
    "    t_numeric_add.append(tna)\n",
    "    t_numeric_run_ids.append(run_id_n)\n",
    "\n",
    "    ta, taa, run_id_a =  insert_data('array', size, nreps=nreps)\n",
    "    t_array.append(ta)\n",
    "    t_array_add.append(taa)\n",
    "    t_array_run_ids.append(run_id_a)"
   ]
  },
  {
   "cell_type": "code",
   "execution_count": 8,
   "metadata": {
    "execution": {
     "iopub.execute_input": "2021-05-26T11:05:31.599386Z",
     "iopub.status.busy": "2021-05-26T11:05:31.598471Z",
     "iopub.status.idle": "2021-05-26T11:05:31.755353Z",
     "shell.execute_reply": "2021-05-26T11:05:31.755762Z"
    },
    "scrolled": true
   },
   "outputs": [
    {
     "data": {
      "image/png": "[encoded data removed]",
      "text/plain": [
       "<Figure size 432x288 with 1 Axes>"
      ]
     },
     "metadata": {
      "needs_background": "light"
     },
     "output_type": "display_data"
    }
   ],
   "source": [
    "fig, ax = plt.subplots(1,1)\n",
    "ax.plot(sizes, t_numeric, 'o-', label='Inserting row-by-row')\n",
    "ax.plot(sizes, t_numeric_add, 'o-', label='Inserting row-by-row: add_result only')\n",
    "ax.plot(sizes, t_array, 'd-', label='Inserting as binary blob')\n",
    "ax.plot(sizes, t_array_add, 'd-', label='Inserting as binary blob: add_result only')\n",
    "ax.legend()\n",
    "ax.set_xlabel('Array length')\n",
    "ax.set_ylabel('Time (s)')\n",
    "fig.tight_layout()"
   ]
  },
  {
   "cell_type": "markdown",
   "metadata": {},
   "source": [
    "However, as we increase the length of the experiment, as seen here by repeating the insertion 100 times, we see a big difference between inserting values of the data row-by-row and inserting it as a binary blob."
   ]
  },
  {
   "cell_type": "markdown",
   "metadata": {},
   "source": [
    "## Loading the data "
   ]
  },
  {
   "cell_type": "code",
   "execution_count": 9,
   "metadata": {
    "execution": {
     "iopub.execute_input": "2021-05-26T11:05:31.760492Z",
     "iopub.status.busy": "2021-05-26T11:05:31.759396Z",
     "iopub.status.idle": "2021-05-26T11:05:31.761052Z",
     "shell.execute_reply": "2021-05-26T11:05:31.761456Z"
    }
   },
   "outputs": [],
   "source": [
    "from qcodes.dataset.data_set import load_by_id"
   ]
  },
  {
   "cell_type": "markdown",
   "metadata": {},
   "source": [
    "As usual you can load the data by using the ``load_by_id`` function but you will notice that the different storage methods\n",
    "are reflected in shape of the data as it is retrieved. "
   ]
  },
  {
   "cell_type": "code",
   "execution_count": 10,
   "metadata": {
    "execution": {
     "iopub.execute_input": "2021-05-26T11:05:31.765464Z",
     "iopub.status.busy": "2021-05-26T11:05:31.764452Z",
     "iopub.status.idle": "2021-05-26T11:05:31.766076Z",
     "shell.execute_reply": "2021-05-26T11:05:31.766516Z"
    }
   },
   "outputs": [],
   "source": [
    "run_id_n = t_numeric_run_ids[0]\n",
    "run_id_a = t_array_run_ids[0]"
   ]
  },
  {
   "cell_type": "code",
   "execution_count": 11,
   "metadata": {
    "execution": {
     "iopub.execute_input": "2021-05-26T11:05:31.769421Z",
     "iopub.status.busy": "2021-05-26T11:05:31.768942Z",
     "iopub.status.idle": "2021-05-26T11:05:31.777737Z",
     "shell.execute_reply": "2021-05-26T11:05:31.777310Z"
    },
    "scrolled": true
   },
   "outputs": [
    {
     "data": {
      "text/plain": [
       "{'x1': {'x1': array([0.83571951, 0.83571951, 0.13839105, 0.13839105, 0.28808378,\n",
       "         0.28808378, 0.3296765 , 0.3296765 , 0.23840461, 0.23840461,\n",
       "         0.9001776 , 0.9001776 , 0.21760435, 0.21760435, 0.19161489,\n",
       "         0.19161489, 0.45825748, 0.45825748, 0.49685343, 0.49685343,\n",
       "         0.65019496, 0.65019496, 0.94223926, 0.94223926, 0.92468269,\n",
       "         0.92468269, 0.01873953, 0.01873953, 0.67289569, 0.67289569,\n",
       "         0.06064033, 0.06064033, 0.53551066, 0.53551066, 0.96754926,\n",
       "         0.96754926, 0.55984412, 0.55984412, 0.04019834, 0.04019834,\n",
       "         0.88660956, 0.88660956, 0.41745516, 0.41745516, 0.62473372,\n",
       "         0.62473372, 0.14015045, 0.14015045, 0.76661587, 0.76661587,\n",
       "         0.07853539, 0.07853539, 0.18136624, 0.18136624, 0.94311783,\n",
       "         0.94311783, 0.19115515, 0.19115515, 0.86421843, 0.86421843,\n",
       "         0.82429787, 0.82429787, 0.97509044, 0.97509044, 0.62061153,\n",
       "         0.62061153, 0.80267172, 0.80267172, 0.57191427, 0.57191427,\n",
       "         0.45568295, 0.45568295, 0.46440737, 0.46440737, 0.90650335,\n",
       "         0.90650335, 0.79419468, 0.79419468, 0.29950384, 0.29950384,\n",
       "         0.38466947, 0.38466947, 0.83077019, 0.83077019, 0.01408681,\n",
       "         0.01408681, 0.19160978, 0.19160978, 0.56637458, 0.56637458,\n",
       "         0.71696618, 0.71696618, 0.34043397, 0.34043397, 0.23680693,\n",
       "         0.23680693, 0.94842877, 0.94842877, 0.05307578, 0.05307578,\n",
       "         0.33870942, 0.33870942, 0.724772  , 0.724772  , 0.19108363,\n",
       "         0.19108363, 0.87554384, 0.87554384, 0.47762911, 0.47762911,\n",
       "         0.44772379, 0.44772379, 0.91075928, 0.91075928, 0.36004645,\n",
       "         0.36004645, 0.73791828, 0.73791828, 0.59887074, 0.59887074,\n",
       "         0.74723804, 0.74723804, 0.74900533, 0.74900533, 0.48609765,\n",
       "         0.48609765, 0.35613548, 0.35613548, 0.28050388, 0.28050388,\n",
       "         0.16537556, 0.16537556, 0.73955577, 0.73955577, 0.17813965,\n",
       "         0.17813965, 0.45289275, 0.45289275, 0.32423644, 0.32423644,\n",
       "         0.35560894, 0.35560894, 0.36579602, 0.36579602, 0.77089196,\n",
       "         0.77089196, 0.72921514, 0.72921514, 0.0136636 , 0.0136636 ,\n",
       "         0.63211255, 0.63211255, 0.86062068, 0.86062068, 0.47722972,\n",
       "         0.47722972, 0.31626967, 0.31626967, 0.7825608 , 0.7825608 ,\n",
       "         0.25068429, 0.25068429, 0.92528935, 0.92528935, 0.01548978,\n",
       "         0.01548978, 0.18213234, 0.18213234, 0.20743046, 0.20743046,\n",
       "         0.97833291, 0.97833291, 0.51651211, 0.51651211, 0.62341009,\n",
       "         0.62341009, 0.53785657, 0.53785657, 0.12957546, 0.12957546,\n",
       "         0.42544344, 0.42544344, 0.91036744, 0.91036744, 0.92104116,\n",
       "         0.92104116, 0.97095689, 0.97095689, 0.5300725 , 0.5300725 ,\n",
       "         0.74956255, 0.74956255, 0.32199566, 0.32199566, 0.085457  ,\n",
       "         0.085457  , 0.53599158, 0.53599158, 0.10662902, 0.10662902])}}"
      ]
     },
     "execution_count": 1,
     "metadata": {},
     "output_type": "execute_result"
    }
   ],
   "source": [
    "ds = load_by_id(run_id_n)\n",
    "ds.get_parameter_data('x1')"
   ]
  },
  {
   "cell_type": "markdown",
   "metadata": {},
   "source": [
    "And a dataset stored as binary arrays"
   ]
  },
  {
   "cell_type": "code",
   "execution_count": 12,
   "metadata": {
    "execution": {
     "iopub.execute_input": "2021-05-26T11:05:31.780652Z",
     "iopub.status.busy": "2021-05-26T11:05:31.780172Z",
     "iopub.status.idle": "2021-05-26T11:05:31.829308Z",
     "shell.execute_reply": "2021-05-26T11:05:31.829786Z"
    },
    "scrolled": true
   },
   "outputs": [
    {
     "data": {
      "text/plain": [
       "{'x1': {'x1': array([[0.78764468],\n",
       "         [0.78764468],\n",
       "         [0.56083733],\n",
       "         [0.56083733],\n",
       "         [0.67237184],\n",
       "         [0.67237184],\n",
       "         [0.05299589],\n",
       "         [0.05299589],\n",
       "         [0.97341758],\n",
       "         [0.97341758],\n",
       "         [0.19661968],\n",
       "         [0.19661968],\n",
       "         [0.48508195],\n",
       "         [0.48508195],\n",
       "         [0.02160875],\n",
       "         [0.02160875],\n",
       "         [0.73650774],\n",
       "         [0.73650774],\n",
       "         [0.5007643 ],\n",
       "         [0.5007643 ],\n",
       "         [0.35816516],\n",
       "         [0.35816516],\n",
       "         [0.41667509],\n",
       "         [0.41667509],\n",
       "         [0.47933932],\n",
       "         [0.47933932],\n",
       "         [0.04909293],\n",
       "         [0.04909293],\n",
       "         [0.49537752],\n",
       "         [0.49537752],\n",
       "         [0.63870085],\n",
       "         [0.63870085],\n",
       "         [0.65295123],\n",
       "         [0.65295123],\n",
       "         [0.44785376],\n",
       "         [0.44785376],\n",
       "         [0.22282109],\n",
       "         [0.22282109],\n",
       "         [0.70441415],\n",
       "         [0.70441415],\n",
       "         [0.7821662 ],\n",
       "         [0.7821662 ],\n",
       "         [0.27972759],\n",
       "         [0.27972759],\n",
       "         [0.99749299],\n",
       "         [0.99749299],\n",
       "         [0.11703035],\n",
       "         [0.11703035],\n",
       "         [0.49409352],\n",
       "         [0.49409352],\n",
       "         [0.65381621],\n",
       "         [0.65381621],\n",
       "         [0.15754195],\n",
       "         [0.15754195],\n",
       "         [0.30151527],\n",
       "         [0.30151527],\n",
       "         [0.41538813],\n",
       "         [0.41538813],\n",
       "         [0.15277509],\n",
       "         [0.15277509],\n",
       "         [0.33040431],\n",
       "         [0.33040431],\n",
       "         [0.25429503],\n",
       "         [0.25429503],\n",
       "         [0.16893111],\n",
       "         [0.16893111],\n",
       "         [0.86259752],\n",
       "         [0.86259752],\n",
       "         [0.74708902],\n",
       "         [0.74708902],\n",
       "         [0.1176871 ],\n",
       "         [0.1176871 ],\n",
       "         [0.84577166],\n",
       "         [0.84577166],\n",
       "         [0.40059137],\n",
       "         [0.40059137],\n",
       "         [0.11465155],\n",
       "         [0.11465155],\n",
       "         [0.3279731 ],\n",
       "         [0.3279731 ],\n",
       "         [0.93150566],\n",
       "         [0.93150566],\n",
       "         [0.75442681],\n",
       "         [0.75442681],\n",
       "         [0.22884066],\n",
       "         [0.22884066],\n",
       "         [0.77828708],\n",
       "         [0.77828708],\n",
       "         [0.61422778],\n",
       "         [0.61422778],\n",
       "         [0.37418306],\n",
       "         [0.37418306],\n",
       "         [0.88062065],\n",
       "         [0.88062065],\n",
       "         [0.30416497],\n",
       "         [0.30416497],\n",
       "         [0.23866769],\n",
       "         [0.23866769],\n",
       "         [0.01546974],\n",
       "         [0.01546974],\n",
       "         [0.52815079],\n",
       "         [0.52815079],\n",
       "         [0.3310216 ],\n",
       "         [0.3310216 ],\n",
       "         [0.70932731],\n",
       "         [0.70932731],\n",
       "         [0.42890178],\n",
       "         [0.42890178],\n",
       "         [0.27504245],\n",
       "         [0.27504245],\n",
       "         [0.99736819],\n",
       "         [0.99736819],\n",
       "         [0.61118945],\n",
       "         [0.61118945],\n",
       "         [0.57280431],\n",
       "         [0.57280431],\n",
       "         [0.9928923 ],\n",
       "         [0.9928923 ],\n",
       "         [0.98865922],\n",
       "         [0.98865922],\n",
       "         [0.89925462],\n",
       "         [0.89925462],\n",
       "         [0.74321597],\n",
       "         [0.74321597],\n",
       "         [0.18194733],\n",
       "         [0.18194733],\n",
       "         [0.20872847],\n",
       "         [0.20872847],\n",
       "         [0.1639681 ],\n",
       "         [0.1639681 ],\n",
       "         [0.79341667],\n",
       "         [0.79341667],\n",
       "         [0.25155573],\n",
       "         [0.25155573],\n",
       "         [0.44910616],\n",
       "         [0.44910616],\n",
       "         [0.28415385],\n",
       "         [0.28415385],\n",
       "         [0.28594026],\n",
       "         [0.28594026],\n",
       "         [0.36750756],\n",
       "         [0.36750756],\n",
       "         [0.85987377],\n",
       "         [0.85987377],\n",
       "         [0.62439224],\n",
       "         [0.62439224],\n",
       "         [0.60051357],\n",
       "         [0.60051357],\n",
       "         [0.41851185],\n",
       "         [0.41851185],\n",
       "         [0.8100963 ],\n",
       "         [0.8100963 ],\n",
       "         [0.38357332],\n",
       "         [0.38357332],\n",
       "         [0.79403517],\n",
       "         [0.79403517],\n",
       "         [0.18381935],\n",
       "         [0.18381935],\n",
       "         [0.22117292],\n",
       "         [0.22117292],\n",
       "         [0.00113474],\n",
       "         [0.00113474],\n",
       "         [0.83709849],\n",
       "         [0.83709849],\n",
       "         [0.85208735],\n",
       "         [0.85208735],\n",
       "         [0.278197  ],\n",
       "         [0.278197  ],\n",
       "         [0.94023372],\n",
       "         [0.94023372],\n",
       "         [0.58814089],\n",
       "         [0.58814089],\n",
       "         [0.5330474 ],\n",
       "         [0.5330474 ],\n",
       "         [0.72225052],\n",
       "         [0.72225052],\n",
       "         [0.89518518],\n",
       "         [0.89518518],\n",
       "         [0.07372127],\n",
       "         [0.07372127],\n",
       "         [0.33732018],\n",
       "         [0.33732018],\n",
       "         [0.1902815 ],\n",
       "         [0.1902815 ],\n",
       "         [0.96958327],\n",
       "         [0.96958327],\n",
       "         [0.70927263],\n",
       "         [0.70927263],\n",
       "         [0.10925231],\n",
       "         [0.10925231],\n",
       "         [0.87342079],\n",
       "         [0.87342079],\n",
       "         [0.49863974],\n",
       "         [0.49863974],\n",
       "         [0.54385955],\n",
       "         [0.54385955],\n",
       "         [0.5599412 ],\n",
       "         [0.5599412 ],\n",
       "         [0.74726536],\n",
       "         [0.74726536]])}}"
      ]
     },
     "execution_count": 1,
     "metadata": {},
     "output_type": "execute_result"
    }
   ],
   "source": [
    "ds = load_by_id(run_id_a)\n",
    "ds.get_parameter_data('x1')"
   ]
  },
  {
   "cell_type": "code",
   "execution_count": null,
   "metadata": {},
   "outputs": [],
   "source": []
  }
 ],
 "metadata": {
  "kernelspec": {
   "display_name": "Python 3",
   "language": "python",
   "name": "python3"
  },
  "language_info": {
   "codemirror_mode": {
    "name": "ipython",
    "version": 3
   },
   "file_extension": ".py",
   "mimetype": "text/x-python",
   "name": "python",
   "nbconvert_exporter": "python",
   "pygments_lexer": "ipython3",
   "version": "3.7.10"
  },
  "nbsphinx": {
   "timeout": 600
  },
  "toc": {
   "base_numbering": 1,
   "nav_menu": {},
   "number_sections": true,
   "sideBar": true,
   "skip_h1_title": false,
   "title_cell": "Table of Contents",
   "title_sidebar": "Contents",
   "toc_cell": false,
   "toc_position": {},
   "toc_section_display": true,
   "toc_window_display": false
  },
  "varInspector": {
   "cols": {
    "lenName": 16,
    "lenType": 16,
    "lenVar": 40
   },
   "kernels_config": {
    "python": {
     "delete_cmd_postfix": "",
     "delete_cmd_prefix": "del ",
     "library": "var_list.py",
     "varRefreshCmd": "print(var_dic_list())"
    },
    "r": {
     "delete_cmd_postfix": ") ",
     "delete_cmd_prefix": "rm(",
     "library": "var_list.r",
     "varRefreshCmd": "cat(var_dic_list()) "
    }
   },
   "types_to_exclude": [
    "module",
    "function",
    "builtin_function_or_method",
    "instance",
    "_Feature"
   ],
   "window_display": false
  }
 },
 "nbformat": 4,
 "nbformat_minor": 4
}
