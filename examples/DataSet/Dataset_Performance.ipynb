{
 "cells": [
  {
   "cell_type": "markdown",
   "metadata": {},
   "source": [
    "# DataSet Performance\n",
    "\n",
    "This notebook shows the trade-off between inserting data into a database row-by-row and as binary blobs. Inserting the data row-by-row means that we have direct access to all the data and may perform queries directly on the values of the data. On the other hand, as we shall see, this is much slower than inserting the data directly as binary blobs."
   ]
  },
  {
   "cell_type": "markdown",
   "metadata": {},
   "source": [
    "First, we choose a new location for the database to ensure that we don't add a bunch of benchmarking data to the default one."
   ]
  },
  {
   "cell_type": "code",
   "execution_count": 1,
   "metadata": {
    "execution": {
     "iopub.execute_input": "2021-05-07T06:19:33.077321Z",
     "iopub.status.busy": "2021-05-07T06:19:33.076529Z",
     "iopub.status.idle": "2021-05-07T06:19:34.423951Z",
     "shell.execute_reply": "2021-05-07T06:19:34.423309Z"
    }
   },
   "outputs": [
    {
     "name": "stdout",
     "output_type": "stream",
     "text": [
      "Logging hadn't been started.\n",
      "Activating auto-logging. Current session state plus future input saved.\n",
      "Filename       : /home/runner/.qcodes/logs/command_history.log\n",
      "Mode           : append\n",
      "Output logging : True\n",
      "Raw input log  : False\n",
      "Timestamping   : True\n",
      "State          : active\n"
     ]
    },
    {
     "name": "stdout",
     "output_type": "stream",
     "text": [
      "Qcodes Logfile : /home/runner/.qcodes/logs/210507-5010-qcodes.log\n"
     ]
    }
   ],
   "source": [
    "import os\n",
    "cwd = os.getcwd()\n",
    "import qcodes as qc\n",
    "qc.config[\"core\"][\"db_location\"] = os.path.join(cwd, 'testing.db')\n"
   ]
  },
  {
   "cell_type": "code",
   "execution_count": 2,
   "metadata": {
    "execution": {
     "iopub.execute_input": "2021-05-07T06:19:34.431302Z",
     "iopub.status.busy": "2021-05-07T06:19:34.430091Z",
     "iopub.status.idle": "2021-05-07T06:19:34.653392Z",
     "shell.execute_reply": "2021-05-07T06:19:34.652269Z"
    }
   },
   "outputs": [],
   "source": [
    "%matplotlib inline\n",
    "import time\n",
    "import matplotlib.pyplot as plt\n",
    "import numpy as np\n",
    "\n",
    "import qcodes as qc\n",
    "from qcodes.instrument.parameter import ManualParameter\n",
    "from qcodes.dataset.experiment_container import (Experiment,\n",
    "                                                 load_last_experiment,\n",
    "                                                 new_experiment)\n",
    "from qcodes.dataset.sqlite.database import initialise_database\n",
    "from qcodes import load_or_create_experiment\n",
    "from qcodes.dataset.measurements import Measurement"
   ]
  },
  {
   "cell_type": "code",
   "execution_count": 3,
   "metadata": {
    "execution": {
     "iopub.execute_input": "2021-05-07T06:19:34.657972Z",
     "iopub.status.busy": "2021-05-07T06:19:34.656959Z",
     "iopub.status.idle": "2021-05-07T06:19:34.740804Z",
     "shell.execute_reply": "2021-05-07T06:19:34.740250Z"
    }
   },
   "outputs": [
    {
     "name": "stdout",
     "output_type": "stream",
     "text": [
      "\r",
      "0it [00:00, ?it/s]"
     ]
    },
    {
     "name": "stdout",
     "output_type": "stream",
     "text": [
      "\r",
      "Upgrading database; v0 -> v1: : 0it [00:00, ?it/s]"
     ]
    },
    {
     "name": "stdout",
     "output_type": "stream",
     "text": [
      "\r",
      "Upgrading database; v0 -> v1: : 0it [00:00, ?it/s]"
     ]
    },
    {
     "name": "stdout",
     "output_type": "stream",
     "text": [
      "\n",
      "\r",
      "  0%|          | 0/1 [00:00<?, ?it/s]"
     ]
    },
    {
     "name": "stdout",
     "output_type": "stream",
     "text": [
      "\r",
      "Upgrading database; v1 -> v2:   0%|          | 0/1 [00:00<?, ?it/s]"
     ]
    },
    {
     "name": "stdout",
     "output_type": "stream",
     "text": [
      "\r",
      "Upgrading database; v1 -> v2: 100%|██████████| 1/1 [00:00<00:00, 508.03it/s]"
     ]
    },
    {
     "name": "stdout",
     "output_type": "stream",
     "text": [
      "\n",
      "\r",
      "0it [00:00, ?it/s]"
     ]
    },
    {
     "name": "stdout",
     "output_type": "stream",
     "text": [
      "\r",
      "Upgrading database; v2 -> v3: : 0it [00:00, ?it/s]"
     ]
    },
    {
     "name": "stdout",
     "output_type": "stream",
     "text": [
      "\r",
      "Upgrading database; v2 -> v3: : 0it [00:00, ?it/s]"
     ]
    },
    {
     "name": "stdout",
     "output_type": "stream",
     "text": [
      "\n",
      "\r",
      "0it [00:00, ?it/s]"
     ]
    },
    {
     "name": "stdout",
     "output_type": "stream",
     "text": [
      "\r",
      "Upgrading database; v3 -> v4: : 0it [00:00, ?it/s]"
     ]
    },
    {
     "name": "stdout",
     "output_type": "stream",
     "text": [
      "\r",
      "Upgrading database; v3 -> v4: : 0it [00:00, ?it/s]"
     ]
    },
    {
     "name": "stdout",
     "output_type": "stream",
     "text": [
      "\n",
      "\r",
      "  0%|          | 0/1 [00:00<?, ?it/s]"
     ]
    },
    {
     "name": "stdout",
     "output_type": "stream",
     "text": [
      "\r",
      "Upgrading database; v4 -> v5:   0%|          | 0/1 [00:00<?, ?it/s]"
     ]
    },
    {
     "name": "stdout",
     "output_type": "stream",
     "text": [
      "\r",
      "Upgrading database; v4 -> v5: 100%|██████████| 1/1 [00:00<00:00, 638.79it/s]"
     ]
    },
    {
     "name": "stdout",
     "output_type": "stream",
     "text": [
      "\n",
      "\r",
      "0it [00:00, ?it/s]"
     ]
    },
    {
     "name": "stdout",
     "output_type": "stream",
     "text": [
      "\r",
      "Upgrading database; v5 -> v6: : 0it [00:00, ?it/s]"
     ]
    },
    {
     "name": "stdout",
     "output_type": "stream",
     "text": [
      "\r",
      "Upgrading database; v5 -> v6: : 0it [00:00, ?it/s]"
     ]
    },
    {
     "name": "stdout",
     "output_type": "stream",
     "text": [
      "\n",
      "\r",
      "  0%|          | 0/1 [00:00<?, ?it/s]"
     ]
    },
    {
     "name": "stdout",
     "output_type": "stream",
     "text": [
      "\r",
      "Upgrading database; v6 -> v7:   0%|          | 0/1 [00:00<?, ?it/s]"
     ]
    },
    {
     "name": "stdout",
     "output_type": "stream",
     "text": [
      "\r",
      "Upgrading database; v6 -> v7: 100%|██████████| 1/1 [00:00<00:00, 374.93it/s]"
     ]
    },
    {
     "name": "stdout",
     "output_type": "stream",
     "text": [
      "\n",
      "\r",
      "  0%|          | 0/1 [00:00<?, ?it/s]"
     ]
    },
    {
     "name": "stdout",
     "output_type": "stream",
     "text": [
      "\r",
      "Upgrading database; v7 -> v8:   0%|          | 0/1 [00:00<?, ?it/s]"
     ]
    },
    {
     "name": "stdout",
     "output_type": "stream",
     "text": [
      "\r",
      "Upgrading database; v7 -> v8: 100%|██████████| 1/1 [00:00<00:00, 684.45it/s]"
     ]
    },
    {
     "name": "stdout",
     "output_type": "stream",
     "text": [
      "\n",
      "\r",
      "  0%|          | 0/1 [00:00<?, ?it/s]"
     ]
    },
    {
     "name": "stdout",
     "output_type": "stream",
     "text": [
      "\r",
      "Upgrading database; v8 -> v9:   0%|          | 0/1 [00:00<?, ?it/s]"
     ]
    },
    {
     "name": "stdout",
     "output_type": "stream",
     "text": [
      "\r",
      "Upgrading database; v8 -> v9: 100%|██████████| 1/1 [00:00<00:00, 364.69it/s]"
     ]
    },
    {
     "name": "stdout",
     "output_type": "stream",
     "text": [
      "\n"
     ]
    }
   ],
   "source": [
    "initialise_database()\n",
    "exp = load_or_create_experiment(experiment_name='tutorial_exp', sample_name=\"no sample\")"
   ]
  },
  {
   "cell_type": "markdown",
   "metadata": {},
   "source": [
    "Here, we define a simple function to benchmark the time it takes to insert n points with either numeric or array data type.\n",
    "We will compare both the time used to call ``add_result`` and the time used for the full measurement."
   ]
  },
  {
   "cell_type": "code",
   "execution_count": 4,
   "metadata": {
    "execution": {
     "iopub.execute_input": "2021-05-07T06:19:34.750500Z",
     "iopub.status.busy": "2021-05-07T06:19:34.748783Z",
     "iopub.status.idle": "2021-05-07T06:19:34.752470Z",
     "shell.execute_reply": "2021-05-07T06:19:34.752990Z"
    }
   },
   "outputs": [],
   "source": [
    "def insert_data(paramtype, npoints, nreps=1):\n",
    "\n",
    "    meas = Measurement(exp=exp)\n",
    "\n",
    "    x1 = ManualParameter('x1')\n",
    "    x2 = ManualParameter('x2')\n",
    "    x3 = ManualParameter('x3')\n",
    "    y1 = ManualParameter('y1')\n",
    "    y2 = ManualParameter('y2')\n",
    "\n",
    "    meas.register_parameter(x1, paramtype=paramtype)\n",
    "    meas.register_parameter(x2, paramtype=paramtype)\n",
    "    meas.register_parameter(x3, paramtype=paramtype)\n",
    "    meas.register_parameter(y1, setpoints=[x1, x2, x3],\n",
    "                            paramtype=paramtype)\n",
    "    meas.register_parameter(y2, setpoints=[x1, x2, x3],\n",
    "                            paramtype=paramtype)\n",
    "    start = time.perf_counter()\n",
    "    with meas.run() as datasaver:\n",
    "        start_adding = time.perf_counter()\n",
    "        for i in range(nreps):\n",
    "            datasaver.add_result((x1, np.random.rand(npoints)),\n",
    "                                 (x2, np.random.rand(npoints)),\n",
    "                                 (x3, np.random.rand(npoints)),\n",
    "                                 (y1, np.random.rand(npoints)),\n",
    "                                 (y2, np.random.rand(npoints)))\n",
    "        stop_adding = time.perf_counter()\n",
    "        run_id = datasaver.run_id\n",
    "    stop = time.perf_counter()\n",
    "    tot_time = stop - start\n",
    "    add_time = stop_adding - start_adding\n",
    "    return tot_time, add_time, run_id"
   ]
  },
  {
   "cell_type": "markdown",
   "metadata": {},
   "source": [
    "## Comparison between numeric/array data and binary blob"
   ]
  },
  {
   "cell_type": "markdown",
   "metadata": {},
   "source": [
    "### Case1: Short experiment time"
   ]
  },
  {
   "cell_type": "code",
   "execution_count": 5,
   "metadata": {
    "execution": {
     "iopub.execute_input": "2021-05-07T06:19:34.759635Z",
     "iopub.status.busy": "2021-05-07T06:19:34.758785Z",
     "iopub.status.idle": "2021-05-07T06:19:35.633346Z",
     "shell.execute_reply": "2021-05-07T06:19:35.632211Z"
    }
   },
   "outputs": [
    {
     "name": "stdout",
     "output_type": "stream",
     "text": [
      "Starting experimental run with id: 1. \n",
      "Starting experimental run with id: 2. \n",
      "Starting experimental run with id: 3. \n"
     ]
    },
    {
     "name": "stdout",
     "output_type": "stream",
     "text": [
      "Starting experimental run with id: 4. \n"
     ]
    },
    {
     "name": "stdout",
     "output_type": "stream",
     "text": [
      "Starting experimental run with id: 5. \n"
     ]
    },
    {
     "name": "stdout",
     "output_type": "stream",
     "text": [
      "Starting experimental run with id: 6. \n"
     ]
    },
    {
     "name": "stdout",
     "output_type": "stream",
     "text": [
      "Starting experimental run with id: 7. \n",
      "Starting experimental run with id: 8. \n",
      "Starting experimental run with id: 9. \n"
     ]
    },
    {
     "name": "stdout",
     "output_type": "stream",
     "text": [
      "Starting experimental run with id: 10. \n",
      "Starting experimental run with id: 11. \n",
      "Starting experimental run with id: 12. \n"
     ]
    },
    {
     "name": "stdout",
     "output_type": "stream",
     "text": [
      "Starting experimental run with id: 13. \n",
      "Starting experimental run with id: 14. \n"
     ]
    }
   ],
   "source": [
    "sizes = [1,500,1000,2000,3000,4000,5000]\n",
    "t_numeric = []\n",
    "t_numeric_add = []\n",
    "t_array = []\n",
    "t_array_add = []\n",
    "for size in sizes:\n",
    "    tn, tna, run_id_n =  insert_data('numeric', size)\n",
    "    t_numeric.append(tn)\n",
    "    t_numeric_add.append(tna)\n",
    "\n",
    "    ta, taa, run_id_a =  insert_data('array', size)\n",
    "    t_array.append(ta)\n",
    "    t_array_add.append(taa)"
   ]
  },
  {
   "cell_type": "code",
   "execution_count": 6,
   "metadata": {
    "execution": {
     "iopub.execute_input": "2021-05-07T06:19:35.652689Z",
     "iopub.status.busy": "2021-05-07T06:19:35.651788Z",
     "iopub.status.idle": "2021-05-07T06:19:35.948702Z",
     "shell.execute_reply": "2021-05-07T06:19:35.948121Z"
    }
   },
   "outputs": [
    {
     "data": {
      "image/png": "[encoded data removed]",
      "text/plain": [
       "<Figure size 432x288 with 1 Axes>"
      ]
     },
     "metadata": {
      "needs_background": "light"
     },
     "output_type": "display_data"
    }
   ],
   "source": [
    "fig, ax = plt.subplots(1,1)\n",
    "ax.plot(sizes, t_numeric, 'o-', label='Inserting row-by-row')\n",
    "ax.plot(sizes, t_numeric_add, 'o-', label='Inserting row-by-row: add_result only')\n",
    "ax.plot(sizes, t_array, 'd-', label='Inserting as binary blob')\n",
    "ax.plot(sizes, t_array_add, 'd-', label='Inserting as binary blob: add_result only')\n",
    "ax.legend()\n",
    "ax.set_xlabel('Array length')\n",
    "ax.set_ylabel('Time (s)')\n",
    "fig.tight_layout()"
   ]
  },
  {
   "cell_type": "markdown",
   "metadata": {},
   "source": [
    "As shown in the latter figure, the time to setup and and close the experiment is approximately 0.4 sec. In case of small array sizes, the difference between inserting values of data as arrays and inserting them row-by-row is relatively unimportant. At larger array sizes, i.e. above 10000 points, the cost of writing data as individual datapoints starts to become important.\n"
   ]
  },
  {
   "cell_type": "markdown",
   "metadata": {},
   "source": [
    "### Case2: Long experiment time "
   ]
  },
  {
   "cell_type": "code",
   "execution_count": 7,
   "metadata": {
    "execution": {
     "iopub.execute_input": "2021-05-07T06:19:35.956756Z",
     "iopub.status.busy": "2021-05-07T06:19:35.955175Z",
     "iopub.status.idle": "2021-05-07T06:20:38.279571Z",
     "shell.execute_reply": "2021-05-07T06:20:38.280447Z"
    }
   },
   "outputs": [
    {
     "name": "stdout",
     "output_type": "stream",
     "text": [
      "Starting experimental run with id: 15. \n",
      "Starting experimental run with id: 16. \n"
     ]
    },
    {
     "name": "stdout",
     "output_type": "stream",
     "text": [
      "Starting experimental run with id: 17. \n"
     ]
    },
    {
     "name": "stdout",
     "output_type": "stream",
     "text": [
      "Starting experimental run with id: 18. \n"
     ]
    },
    {
     "name": "stdout",
     "output_type": "stream",
     "text": [
      "Starting experimental run with id: 19. \n"
     ]
    },
    {
     "name": "stdout",
     "output_type": "stream",
     "text": [
      "Starting experimental run with id: 20. \n"
     ]
    },
    {
     "name": "stdout",
     "output_type": "stream",
     "text": [
      "Starting experimental run with id: 21. \n"
     ]
    },
    {
     "name": "stdout",
     "output_type": "stream",
     "text": [
      "Starting experimental run with id: 22. \n"
     ]
    },
    {
     "name": "stdout",
     "output_type": "stream",
     "text": [
      "Starting experimental run with id: 23. \n"
     ]
    },
    {
     "name": "stdout",
     "output_type": "stream",
     "text": [
      "Starting experimental run with id: 24. \n"
     ]
    },
    {
     "name": "stdout",
     "output_type": "stream",
     "text": [
      "Starting experimental run with id: 25. \n"
     ]
    },
    {
     "name": "stdout",
     "output_type": "stream",
     "text": [
      "Starting experimental run with id: 26. \n"
     ]
    },
    {
     "name": "stdout",
     "output_type": "stream",
     "text": [
      "Starting experimental run with id: 27. \n"
     ]
    },
    {
     "name": "stdout",
     "output_type": "stream",
     "text": [
      "Starting experimental run with id: 28. \n"
     ]
    }
   ],
   "source": [
    "sizes = [1,500,1000,2000,3000,4000,5000]\n",
    "nreps = 100\n",
    "t_numeric = []\n",
    "t_numeric_add = []\n",
    "t_numeric_run_ids = []\n",
    "t_array = []\n",
    "t_array_add = []\n",
    "t_array_run_ids = []\n",
    "for size in sizes:\n",
    "    tn, tna, run_id_n =  insert_data('numeric', size, nreps=nreps)\n",
    "    t_numeric.append(tn)\n",
    "    t_numeric_add.append(tna)\n",
    "    t_numeric_run_ids.append(run_id_n)\n",
    "\n",
    "    ta, taa, run_id_a =  insert_data('array', size, nreps=nreps)\n",
    "    t_array.append(ta)\n",
    "    t_array_add.append(taa)\n",
    "    t_array_run_ids.append(run_id_a)"
   ]
  },
  {
   "cell_type": "code",
   "execution_count": 8,
   "metadata": {
    "execution": {
     "iopub.execute_input": "2021-05-07T06:20:38.338314Z",
     "iopub.status.busy": "2021-05-07T06:20:38.302551Z",
     "iopub.status.idle": "2021-05-07T06:20:38.576102Z",
     "shell.execute_reply": "2021-05-07T06:20:38.575533Z"
    },
    "scrolled": true
   },
   "outputs": [
    {
     "data": {
      "image/png": "[encoded data removed]",
      "text/plain": [
       "<Figure size 432x288 with 1 Axes>"
      ]
     },
     "metadata": {
      "needs_background": "light"
     },
     "output_type": "display_data"
    }
   ],
   "source": [
    "fig, ax = plt.subplots(1,1)\n",
    "ax.plot(sizes, t_numeric, 'o-', label='Inserting row-by-row')\n",
    "ax.plot(sizes, t_numeric_add, 'o-', label='Inserting row-by-row: add_result only')\n",
    "ax.plot(sizes, t_array, 'd-', label='Inserting as binary blob')\n",
    "ax.plot(sizes, t_array_add, 'd-', label='Inserting as binary blob: add_result only')\n",
    "ax.legend()\n",
    "ax.set_xlabel('Array length')\n",
    "ax.set_ylabel('Time (s)')\n",
    "fig.tight_layout()"
   ]
  },
  {
   "cell_type": "markdown",
   "metadata": {},
   "source": [
    "However, as we increase the length of the experiment, as seen here by repeating the insertion 100 times, we see a big difference between inserting values of the data row-by-row and inserting it as a binary blob."
   ]
  },
  {
   "cell_type": "markdown",
   "metadata": {},
   "source": [
    "## Loading the data "
   ]
  },
  {
   "cell_type": "code",
   "execution_count": 9,
   "metadata": {
    "execution": {
     "iopub.execute_input": "2021-05-07T06:20:38.582187Z",
     "iopub.status.busy": "2021-05-07T06:20:38.580749Z",
     "iopub.status.idle": "2021-05-07T06:20:38.583058Z",
     "shell.execute_reply": "2021-05-07T06:20:38.583572Z"
    }
   },
   "outputs": [],
   "source": [
    "from qcodes.dataset.data_set import load_by_id"
   ]
  },
  {
   "cell_type": "markdown",
   "metadata": {},
   "source": [
    "As usual you can load the data by using the ``load_by_id`` function but you will notice that the different storage methods\n",
    "are reflected in shape of the data as it is retrieved. "
   ]
  },
  {
   "cell_type": "code",
   "execution_count": 10,
   "metadata": {
    "execution": {
     "iopub.execute_input": "2021-05-07T06:20:38.589047Z",
     "iopub.status.busy": "2021-05-07T06:20:38.587551Z",
     "iopub.status.idle": "2021-05-07T06:20:38.589804Z",
     "shell.execute_reply": "2021-05-07T06:20:38.590470Z"
    }
   },
   "outputs": [],
   "source": [
    "run_id_n = t_numeric_run_ids[0]\n",
    "run_id_a = t_array_run_ids[0]"
   ]
  },
  {
   "cell_type": "code",
   "execution_count": 11,
   "metadata": {
    "execution": {
     "iopub.execute_input": "2021-05-07T06:20:38.594299Z",
     "iopub.status.busy": "2021-05-07T06:20:38.593617Z",
     "iopub.status.idle": "2021-05-07T06:20:38.604091Z",
     "shell.execute_reply": "2021-05-07T06:20:38.604627Z"
    },
    "scrolled": true
   },
   "outputs": [
    {
     "data": {
      "text/plain": [
       "{'x1': {'x1': array([0.12548741, 0.12548741, 0.28168099, 0.28168099, 0.70276301,\n",
       "         0.70276301, 0.28069226, 0.28069226, 0.70743876, 0.70743876,\n",
       "         0.50255261, 0.50255261, 0.81646943, 0.81646943, 0.5944708 ,\n",
       "         0.5944708 , 0.78966539, 0.78966539, 0.13682011, 0.13682011,\n",
       "         0.67799524, 0.67799524, 0.16380141, 0.16380141, 0.20253137,\n",
       "         0.20253137, 0.48470206, 0.48470206, 0.57999863, 0.57999863,\n",
       "         0.98093533, 0.98093533, 0.76290693, 0.76290693, 0.21919391,\n",
       "         0.21919391, 0.45985894, 0.45985894, 0.90732973, 0.90732973,\n",
       "         0.75691959, 0.75691959, 0.30258136, 0.30258136, 0.9860143 ,\n",
       "         0.9860143 , 0.36304075, 0.36304075, 0.12626321, 0.12626321,\n",
       "         0.82182672, 0.82182672, 0.5163772 , 0.5163772 , 0.05628843,\n",
       "         0.05628843, 0.68651975, 0.68651975, 0.92746088, 0.92746088,\n",
       "         0.70086025, 0.70086025, 0.64660541, 0.64660541, 0.22131074,\n",
       "         0.22131074, 0.82669002, 0.82669002, 0.21885602, 0.21885602,\n",
       "         0.58931532, 0.58931532, 0.09505755, 0.09505755, 0.31735641,\n",
       "         0.31735641, 0.23215738, 0.23215738, 0.74785063, 0.74785063,\n",
       "         0.98426106, 0.98426106, 0.27979939, 0.27979939, 0.01297134,\n",
       "         0.01297134, 0.77835024, 0.77835024, 0.99372148, 0.99372148,\n",
       "         0.74371722, 0.74371722, 0.34558189, 0.34558189, 0.23076802,\n",
       "         0.23076802, 0.10018865, 0.10018865, 0.74302528, 0.74302528,\n",
       "         0.91035421, 0.91035421, 0.92536926, 0.92536926, 0.81268558,\n",
       "         0.81268558, 0.87621919, 0.87621919, 0.2842724 , 0.2842724 ,\n",
       "         0.92113012, 0.92113012, 0.43623549, 0.43623549, 0.9319353 ,\n",
       "         0.9319353 , 0.22744688, 0.22744688, 0.59978486, 0.59978486,\n",
       "         0.96383076, 0.96383076, 0.05844335, 0.05844335, 0.00223799,\n",
       "         0.00223799, 0.7187684 , 0.7187684 , 0.72923688, 0.72923688,\n",
       "         0.10201999, 0.10201999, 0.35225773, 0.35225773, 0.73990212,\n",
       "         0.73990212, 0.34751311, 0.34751311, 0.29686637, 0.29686637,\n",
       "         0.56651707, 0.56651707, 0.53492527, 0.53492527, 0.96103859,\n",
       "         0.96103859, 0.96670058, 0.96670058, 0.01465673, 0.01465673,\n",
       "         0.71600369, 0.71600369, 0.52299774, 0.52299774, 0.97120729,\n",
       "         0.97120729, 0.53688478, 0.53688478, 0.1935167 , 0.1935167 ,\n",
       "         0.90272344, 0.90272344, 0.27464319, 0.27464319, 0.35812199,\n",
       "         0.35812199, 0.794239  , 0.794239  , 0.61267537, 0.61267537,\n",
       "         0.59561617, 0.59561617, 0.43635912, 0.43635912, 0.13227336,\n",
       "         0.13227336, 0.2951593 , 0.2951593 , 0.17878415, 0.17878415,\n",
       "         0.76488697, 0.76488697, 0.46016204, 0.46016204, 0.55271939,\n",
       "         0.55271939, 0.52825214, 0.52825214, 0.86546748, 0.86546748,\n",
       "         0.42360431, 0.42360431, 0.49217802, 0.49217802, 0.49556472,\n",
       "         0.49556472, 0.92283985, 0.92283985, 0.16447956, 0.16447956])}}"
      ]
     },
     "execution_count": 1,
     "metadata": {},
     "output_type": "execute_result"
    }
   ],
   "source": [
    "ds = load_by_id(run_id_n)\n",
    "ds.get_parameter_data('x1')"
   ]
  },
  {
   "cell_type": "markdown",
   "metadata": {},
   "source": [
    "And a dataset stored as binary arrays"
   ]
  },
  {
   "cell_type": "code",
   "execution_count": 12,
   "metadata": {
    "execution": {
     "iopub.execute_input": "2021-05-07T06:20:38.608525Z",
     "iopub.status.busy": "2021-05-07T06:20:38.607777Z",
     "iopub.status.idle": "2021-05-07T06:20:38.675986Z",
     "shell.execute_reply": "2021-05-07T06:20:38.676542Z"
    },
    "scrolled": true
   },
   "outputs": [
    {
     "data": {
      "text/plain": [
       "{'x1': {'x1': array([[0.53793028],\n",
       "         [0.53793028],\n",
       "         [0.97957353],\n",
       "         [0.97957353],\n",
       "         [0.5338875 ],\n",
       "         [0.5338875 ],\n",
       "         [0.81486034],\n",
       "         [0.81486034],\n",
       "         [0.06930246],\n",
       "         [0.06930246],\n",
       "         [0.98765525],\n",
       "         [0.98765525],\n",
       "         [0.42683393],\n",
       "         [0.42683393],\n",
       "         [0.01876236],\n",
       "         [0.01876236],\n",
       "         [0.94447553],\n",
       "         [0.94447553],\n",
       "         [0.25024335],\n",
       "         [0.25024335],\n",
       "         [0.09092418],\n",
       "         [0.09092418],\n",
       "         [0.10837991],\n",
       "         [0.10837991],\n",
       "         [0.25838521],\n",
       "         [0.25838521],\n",
       "         [0.05630966],\n",
       "         [0.05630966],\n",
       "         [0.35505543],\n",
       "         [0.35505543],\n",
       "         [0.53386707],\n",
       "         [0.53386707],\n",
       "         [0.27914398],\n",
       "         [0.27914398],\n",
       "         [0.76652345],\n",
       "         [0.76652345],\n",
       "         [0.49017046],\n",
       "         [0.49017046],\n",
       "         [0.88646451],\n",
       "         [0.88646451],\n",
       "         [0.34873511],\n",
       "         [0.34873511],\n",
       "         [0.84819763],\n",
       "         [0.84819763],\n",
       "         [0.26746251],\n",
       "         [0.26746251],\n",
       "         [0.85221142],\n",
       "         [0.85221142],\n",
       "         [0.2769629 ],\n",
       "         [0.2769629 ],\n",
       "         [0.48730277],\n",
       "         [0.48730277],\n",
       "         [0.55506676],\n",
       "         [0.55506676],\n",
       "         [0.14864181],\n",
       "         [0.14864181],\n",
       "         [0.10883864],\n",
       "         [0.10883864],\n",
       "         [0.95277457],\n",
       "         [0.95277457],\n",
       "         [0.5635659 ],\n",
       "         [0.5635659 ],\n",
       "         [0.66155649],\n",
       "         [0.66155649],\n",
       "         [0.49127444],\n",
       "         [0.49127444],\n",
       "         [0.0821843 ],\n",
       "         [0.0821843 ],\n",
       "         [0.17600672],\n",
       "         [0.17600672],\n",
       "         [0.57975253],\n",
       "         [0.57975253],\n",
       "         [0.8912409 ],\n",
       "         [0.8912409 ],\n",
       "         [0.64625334],\n",
       "         [0.64625334],\n",
       "         [0.40661515],\n",
       "         [0.40661515],\n",
       "         [0.1501854 ],\n",
       "         [0.1501854 ],\n",
       "         [0.77899807],\n",
       "         [0.77899807],\n",
       "         [0.63565273],\n",
       "         [0.63565273],\n",
       "         [0.70542483],\n",
       "         [0.70542483],\n",
       "         [0.79301481],\n",
       "         [0.79301481],\n",
       "         [0.55106192],\n",
       "         [0.55106192],\n",
       "         [0.38043274],\n",
       "         [0.38043274],\n",
       "         [0.99063694],\n",
       "         [0.99063694],\n",
       "         [0.97037006],\n",
       "         [0.97037006],\n",
       "         [0.432003  ],\n",
       "         [0.432003  ],\n",
       "         [0.11195025],\n",
       "         [0.11195025],\n",
       "         [0.57120418],\n",
       "         [0.57120418],\n",
       "         [0.29716344],\n",
       "         [0.29716344],\n",
       "         [0.55854836],\n",
       "         [0.55854836],\n",
       "         [0.98837584],\n",
       "         [0.98837584],\n",
       "         [0.73386586],\n",
       "         [0.73386586],\n",
       "         [0.90087415],\n",
       "         [0.90087415],\n",
       "         [0.8919173 ],\n",
       "         [0.8919173 ],\n",
       "         [0.28002834],\n",
       "         [0.28002834],\n",
       "         [0.53036759],\n",
       "         [0.53036759],\n",
       "         [0.55495838],\n",
       "         [0.55495838],\n",
       "         [0.31287977],\n",
       "         [0.31287977],\n",
       "         [0.15853892],\n",
       "         [0.15853892],\n",
       "         [0.37638736],\n",
       "         [0.37638736],\n",
       "         [0.73940475],\n",
       "         [0.73940475],\n",
       "         [0.1714479 ],\n",
       "         [0.1714479 ],\n",
       "         [0.99515701],\n",
       "         [0.99515701],\n",
       "         [0.39327246],\n",
       "         [0.39327246],\n",
       "         [0.26196708],\n",
       "         [0.26196708],\n",
       "         [0.43202519],\n",
       "         [0.43202519],\n",
       "         [0.85359722],\n",
       "         [0.85359722],\n",
       "         [0.63113524],\n",
       "         [0.63113524],\n",
       "         [0.33331793],\n",
       "         [0.33331793],\n",
       "         [0.246927  ],\n",
       "         [0.246927  ],\n",
       "         [0.16624266],\n",
       "         [0.16624266],\n",
       "         [0.33405659],\n",
       "         [0.33405659],\n",
       "         [0.66156551],\n",
       "         [0.66156551],\n",
       "         [0.95046067],\n",
       "         [0.95046067],\n",
       "         [0.54846104],\n",
       "         [0.54846104],\n",
       "         [0.34624839],\n",
       "         [0.34624839],\n",
       "         [0.80218187],\n",
       "         [0.80218187],\n",
       "         [0.29894897],\n",
       "         [0.29894897],\n",
       "         [0.26178746],\n",
       "         [0.26178746],\n",
       "         [0.22746194],\n",
       "         [0.22746194],\n",
       "         [0.04158931],\n",
       "         [0.04158931],\n",
       "         [0.09338807],\n",
       "         [0.09338807],\n",
       "         [0.96403794],\n",
       "         [0.96403794],\n",
       "         [0.20898598],\n",
       "         [0.20898598],\n",
       "         [0.02222768],\n",
       "         [0.02222768],\n",
       "         [0.81369056],\n",
       "         [0.81369056],\n",
       "         [0.67398058],\n",
       "         [0.67398058],\n",
       "         [0.39567442],\n",
       "         [0.39567442],\n",
       "         [0.17154714],\n",
       "         [0.17154714],\n",
       "         [0.53420643],\n",
       "         [0.53420643],\n",
       "         [0.60561463],\n",
       "         [0.60561463],\n",
       "         [0.6287629 ],\n",
       "         [0.6287629 ],\n",
       "         [0.65174919],\n",
       "         [0.65174919],\n",
       "         [0.41030277],\n",
       "         [0.41030277],\n",
       "         [0.91628105],\n",
       "         [0.91628105],\n",
       "         [0.43831093],\n",
       "         [0.43831093],\n",
       "         [0.72896796],\n",
       "         [0.72896796]])}}"
      ]
     },
     "execution_count": 1,
     "metadata": {},
     "output_type": "execute_result"
    }
   ],
   "source": [
    "ds = load_by_id(run_id_a)\n",
    "ds.get_parameter_data('x1')"
   ]
  },
  {
   "cell_type": "code",
   "execution_count": null,
   "metadata": {},
   "outputs": [],
   "source": []
  }
 ],
 "metadata": {
  "kernelspec": {
   "display_name": "Python 3",
   "language": "python",
   "name": "python3"
  },
  "language_info": {
   "codemirror_mode": {
    "name": "ipython",
    "version": 3
   },
   "file_extension": ".py",
   "mimetype": "text/x-python",
   "name": "python",
   "nbconvert_exporter": "python",
   "pygments_lexer": "ipython3",
   "version": "3.7.10"
  },
  "nbsphinx": {
   "timeout": 600
  },
  "toc": {
   "base_numbering": 1,
   "nav_menu": {},
   "number_sections": true,
   "sideBar": true,
   "skip_h1_title": false,
   "title_cell": "Table of Contents",
   "title_sidebar": "Contents",
   "toc_cell": false,
   "toc_position": {},
   "toc_section_display": true,
   "toc_window_display": false
  },
  "varInspector": {
   "cols": {
    "lenName": 16,
    "lenType": 16,
    "lenVar": 40
   },
   "kernels_config": {
    "python": {
     "delete_cmd_postfix": "",
     "delete_cmd_prefix": "del ",
     "library": "var_list.py",
     "varRefreshCmd": "print(var_dic_list())"
    },
    "r": {
     "delete_cmd_postfix": ") ",
     "delete_cmd_prefix": "rm(",
     "library": "var_list.r",
     "varRefreshCmd": "cat(var_dic_list()) "
    }
   },
   "types_to_exclude": [
    "module",
    "function",
    "builtin_function_or_method",
    "instance",
    "_Feature"
   ],
   "window_display": false
  }
 },
 "nbformat": 4,
 "nbformat_minor": 4
}
