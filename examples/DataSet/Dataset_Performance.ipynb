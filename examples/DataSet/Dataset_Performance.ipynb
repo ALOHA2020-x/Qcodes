{
 "cells": [
  {
   "cell_type": "markdown",
   "metadata": {},
   "source": [
    "# DataSet Performance\n",
    "\n",
    "This notebook shows the trade-off between inserting data into a database row-by-row and as binary blobs. Inserting the data row-by-row means that we have direct access to all the data and may perform queries directly on the values of the data. On the other hand, as we shall see, this is much slower than inserting the data directly as binary blobs."
   ]
  },
  {
   "cell_type": "markdown",
   "metadata": {},
   "source": [
    "First, we choose a new location for the database to ensure that we don't add a bunch of benchmarking data to the default one."
   ]
  },
  {
   "cell_type": "code",
   "execution_count": 1,
   "metadata": {
    "execution": {
     "iopub.execute_input": "2020-09-29T06:47:30.332395Z",
     "iopub.status.busy": "2020-09-29T06:47:30.331818Z",
     "iopub.status.idle": "2020-09-29T06:47:31.345641Z",
     "shell.execute_reply": "2020-09-29T06:47:31.346130Z"
    }
   },
   "outputs": [
    {
     "name": "stdout",
     "output_type": "stream",
     "text": [
      "Logging hadn't been started.\n",
      "Activating auto-logging. Current session state plus future input saved.\n",
      "Filename       : /home/vsts/.qcodes/logs/command_history.log\n",
      "Mode           : append\n",
      "Output logging : True\n",
      "Raw input log  : False\n",
      "Timestamping   : True\n",
      "State          : active\n"
     ]
    },
    {
     "name": "stdout",
     "output_type": "stream",
     "text": [
      "Qcodes Logfile : /home/vsts/.qcodes/logs/200929-18923-qcodes.log\n"
     ]
    }
   ],
   "source": [
    "import os\n",
    "cwd = os.getcwd()\n",
    "import qcodes as qc\n",
    "qc.config[\"core\"][\"db_location\"] = os.path.join(cwd, 'testing.db')\n"
   ]
  },
  {
   "cell_type": "code",
   "execution_count": 2,
   "metadata": {
    "execution": {
     "iopub.execute_input": "2020-09-29T06:47:31.353256Z",
     "iopub.status.busy": "2020-09-29T06:47:31.351437Z",
     "iopub.status.idle": "2020-09-29T06:47:31.534508Z",
     "shell.execute_reply": "2020-09-29T06:47:31.533618Z"
    }
   },
   "outputs": [],
   "source": [
    "%matplotlib inline\n",
    "import time\n",
    "import matplotlib.pyplot as plt\n",
    "import numpy as np\n",
    "\n",
    "import qcodes as qc\n",
    "from qcodes.instrument.parameter import ManualParameter\n",
    "from qcodes.dataset.experiment_container import (Experiment,\n",
    "                                                 load_last_experiment,\n",
    "                                                 new_experiment)\n",
    "from qcodes.dataset.sqlite.database import initialise_database\n",
    "from qcodes import load_or_create_experiment\n",
    "from qcodes.dataset.measurements import Measurement"
   ]
  },
  {
   "cell_type": "code",
   "execution_count": 3,
   "metadata": {
    "execution": {
     "iopub.execute_input": "2020-09-29T06:47:31.538763Z",
     "iopub.status.busy": "2020-09-29T06:47:31.537897Z",
     "iopub.status.idle": "2020-09-29T06:47:31.652851Z",
     "shell.execute_reply": "2020-09-29T06:47:31.652345Z"
    }
   },
   "outputs": [
    {
     "name": "stdout",
     "output_type": "stream",
     "text": [
      "\r",
      "0it [00:00, ?it/s]"
     ]
    },
    {
     "name": "stdout",
     "output_type": "stream",
     "text": [
      "\r",
      "Upgrading database; v0 -> v1: : 0it [00:00, ?it/s]"
     ]
    },
    {
     "name": "stdout",
     "output_type": "stream",
     "text": [
      "\r",
      "Upgrading database; v0 -> v1: : 0it [00:00, ?it/s]"
     ]
    },
    {
     "name": "stdout",
     "output_type": "stream",
     "text": [
      "\n",
      "\r",
      "  0%|          | 0/1 [00:00<?, ?it/s]"
     ]
    },
    {
     "name": "stdout",
     "output_type": "stream",
     "text": [
      "\r",
      "Upgrading database; v1 -> v2:   0%|          | 0/1 [00:00<?, ?it/s]"
     ]
    },
    {
     "name": "stdout",
     "output_type": "stream",
     "text": [
      "\r",
      "Upgrading database; v1 -> v2: 100%|██████████| 1/1 [00:00<00:00, 387.07it/s]"
     ]
    },
    {
     "name": "stdout",
     "output_type": "stream",
     "text": [
      "\n",
      "\r",
      "0it [00:00, ?it/s]"
     ]
    },
    {
     "name": "stdout",
     "output_type": "stream",
     "text": [
      "\r",
      "Upgrading database; v2 -> v3: : 0it [00:00, ?it/s]"
     ]
    },
    {
     "name": "stdout",
     "output_type": "stream",
     "text": [
      "\r",
      "Upgrading database; v2 -> v3: : 0it [00:00, ?it/s]"
     ]
    },
    {
     "name": "stdout",
     "output_type": "stream",
     "text": [
      "\n",
      "\r",
      "0it [00:00, ?it/s]"
     ]
    },
    {
     "name": "stdout",
     "output_type": "stream",
     "text": [
      "\r",
      "Upgrading database; v3 -> v4: : 0it [00:00, ?it/s]"
     ]
    },
    {
     "name": "stdout",
     "output_type": "stream",
     "text": [
      "\r",
      "Upgrading database; v3 -> v4: : 0it [00:00, ?it/s]"
     ]
    },
    {
     "name": "stdout",
     "output_type": "stream",
     "text": [
      "\n",
      "\r",
      "  0%|          | 0/1 [00:00<?, ?it/s]"
     ]
    },
    {
     "name": "stdout",
     "output_type": "stream",
     "text": [
      "\r",
      "Upgrading database; v4 -> v5:   0%|          | 0/1 [00:00<?, ?it/s]"
     ]
    },
    {
     "name": "stdout",
     "output_type": "stream",
     "text": [
      "\r",
      "Upgrading database; v4 -> v5: 100%|██████████| 1/1 [00:00<00:00, 516.67it/s]"
     ]
    },
    {
     "name": "stdout",
     "output_type": "stream",
     "text": [
      "\n",
      "\r",
      "0it [00:00, ?it/s]"
     ]
    },
    {
     "name": "stdout",
     "output_type": "stream",
     "text": [
      "\r",
      "Upgrading database; v5 -> v6: : 0it [00:00, ?it/s]"
     ]
    },
    {
     "name": "stdout",
     "output_type": "stream",
     "text": [
      "\r",
      "Upgrading database; v5 -> v6: : 0it [00:00, ?it/s]"
     ]
    },
    {
     "name": "stdout",
     "output_type": "stream",
     "text": [
      "\n",
      "\r",
      "  0%|          | 0/1 [00:00<?, ?it/s]"
     ]
    },
    {
     "name": "stdout",
     "output_type": "stream",
     "text": [
      "\r",
      "Upgrading database; v6 -> v7:   0%|          | 0/1 [00:00<?, ?it/s]"
     ]
    },
    {
     "name": "stdout",
     "output_type": "stream",
     "text": [
      "\r",
      "Upgrading database; v6 -> v7: 100%|██████████| 1/1 [00:00<00:00, 247.09it/s]"
     ]
    },
    {
     "name": "stdout",
     "output_type": "stream",
     "text": [
      "\n",
      "\r",
      "  0%|          | 0/1 [00:00<?, ?it/s]"
     ]
    },
    {
     "name": "stdout",
     "output_type": "stream",
     "text": [
      "\r",
      "Upgrading database; v7 -> v8:   0%|          | 0/1 [00:00<?, ?it/s]"
     ]
    },
    {
     "name": "stdout",
     "output_type": "stream",
     "text": [
      "\r",
      "Upgrading database; v7 -> v8: 100%|██████████| 1/1 [00:00<00:00, 378.41it/s]"
     ]
    },
    {
     "name": "stdout",
     "output_type": "stream",
     "text": [
      "\n",
      "\r",
      "  0%|          | 0/1 [00:00<?, ?it/s]"
     ]
    },
    {
     "name": "stdout",
     "output_type": "stream",
     "text": [
      "\r",
      "Upgrading database; v8 -> v9:   0%|          | 0/1 [00:00<?, ?it/s]"
     ]
    },
    {
     "name": "stdout",
     "output_type": "stream",
     "text": [
      "\r",
      "Upgrading database; v8 -> v9: 100%|██████████| 1/1 [00:00<00:00, 312.15it/s]"
     ]
    },
    {
     "name": "stdout",
     "output_type": "stream",
     "text": [
      "\n"
     ]
    }
   ],
   "source": [
    "initialise_database()\n",
    "exp = load_or_create_experiment(experiment_name='tutorial_exp', sample_name=\"no sample\")"
   ]
  },
  {
   "cell_type": "markdown",
   "metadata": {},
   "source": [
    "Here, we define a simple function to benchmark the time it takes to insert n points with either numeric or array data type.\n",
    "We will compare both the time used to call ``add_result`` and the time used for the full measurement."
   ]
  },
  {
   "cell_type": "code",
   "execution_count": 4,
   "metadata": {
    "execution": {
     "iopub.execute_input": "2020-09-29T06:47:31.661721Z",
     "iopub.status.busy": "2020-09-29T06:47:31.661129Z",
     "iopub.status.idle": "2020-09-29T06:47:31.665082Z",
     "shell.execute_reply": "2020-09-29T06:47:31.664542Z"
    }
   },
   "outputs": [],
   "source": [
    "def insert_data(paramtype, npoints, nreps=1):\n",
    "\n",
    "    meas = Measurement(exp=exp)\n",
    "\n",
    "    x1 = ManualParameter('x1')\n",
    "    x2 = ManualParameter('x2')\n",
    "    x3 = ManualParameter('x3')\n",
    "    y1 = ManualParameter('y1')\n",
    "    y2 = ManualParameter('y2')\n",
    "\n",
    "    meas.register_parameter(x1, paramtype=paramtype)\n",
    "    meas.register_parameter(x2, paramtype=paramtype)\n",
    "    meas.register_parameter(x3, paramtype=paramtype)\n",
    "    meas.register_parameter(y1, setpoints=[x1, x2, x3],\n",
    "                            paramtype=paramtype)\n",
    "    meas.register_parameter(y2, setpoints=[x1, x2, x3],\n",
    "                            paramtype=paramtype)\n",
    "    start = time.perf_counter()\n",
    "    with meas.run() as datasaver:\n",
    "        start_adding = time.perf_counter()\n",
    "        for i in range(nreps):\n",
    "            datasaver.add_result((x1, np.random.rand(npoints)),\n",
    "                                 (x2, np.random.rand(npoints)),\n",
    "                                 (x3, np.random.rand(npoints)),\n",
    "                                 (y1, np.random.rand(npoints)),\n",
    "                                 (y2, np.random.rand(npoints)))\n",
    "        stop_adding = time.perf_counter()\n",
    "        run_id = datasaver.run_id\n",
    "    stop = time.perf_counter()\n",
    "    tot_time = stop - start\n",
    "    add_time = stop_adding - start_adding\n",
    "    return tot_time, add_time, run_id"
   ]
  },
  {
   "cell_type": "markdown",
   "metadata": {},
   "source": [
    "## Comparison between numeric/array data and binary blob"
   ]
  },
  {
   "cell_type": "markdown",
   "metadata": {},
   "source": [
    "### Case1: Short experiment time"
   ]
  },
  {
   "cell_type": "code",
   "execution_count": 5,
   "metadata": {
    "execution": {
     "iopub.execute_input": "2020-09-29T06:47:31.672274Z",
     "iopub.status.busy": "2020-09-29T06:47:31.671435Z",
     "iopub.status.idle": "2020-09-29T06:47:32.507774Z",
     "shell.execute_reply": "2020-09-29T06:47:32.507256Z"
    }
   },
   "outputs": [
    {
     "name": "stdout",
     "output_type": "stream",
     "text": [
      "Starting experimental run with id: 1. \n",
      "Starting experimental run with id: 2. \n",
      "Starting experimental run with id: 3. \n",
      "Starting experimental run with id: 4. \n",
      "Starting experimental run with id: 5. \n"
     ]
    },
    {
     "name": "stdout",
     "output_type": "stream",
     "text": [
      "Starting experimental run with id: 6. \n"
     ]
    },
    {
     "name": "stdout",
     "output_type": "stream",
     "text": [
      "Starting experimental run with id: 7. \n"
     ]
    },
    {
     "name": "stdout",
     "output_type": "stream",
     "text": [
      "Starting experimental run with id: 8. \n",
      "Starting experimental run with id: 9. \n"
     ]
    },
    {
     "name": "stdout",
     "output_type": "stream",
     "text": [
      "Starting experimental run with id: 10. \n",
      "Starting experimental run with id: 11. \n"
     ]
    },
    {
     "name": "stdout",
     "output_type": "stream",
     "text": [
      "Starting experimental run with id: 12. \n",
      "Starting experimental run with id: 13. \n"
     ]
    },
    {
     "name": "stdout",
     "output_type": "stream",
     "text": [
      "Starting experimental run with id: 14. \n"
     ]
    }
   ],
   "source": [
    "sizes = [1,500,1000,2000,3000,4000,5000]\n",
    "t_numeric = []\n",
    "t_numeric_add = []\n",
    "t_array = []\n",
    "t_array_add = []\n",
    "for size in sizes:\n",
    "    tn, tna, run_id_n =  insert_data('numeric', size)\n",
    "    t_numeric.append(tn)\n",
    "    t_numeric_add.append(tna)\n",
    "\n",
    "    ta, taa, run_id_a =  insert_data('array', size)\n",
    "    t_array.append(ta)\n",
    "    t_array_add.append(taa)"
   ]
  },
  {
   "cell_type": "code",
   "execution_count": 6,
   "metadata": {
    "execution": {
     "iopub.execute_input": "2020-09-29T06:47:32.525997Z",
     "iopub.status.busy": "2020-09-29T06:47:32.525426Z",
     "iopub.status.idle": "2020-09-29T06:47:32.726661Z",
     "shell.execute_reply": "2020-09-29T06:47:32.725840Z"
    }
   },
   "outputs": [
    {
     "data": {
      "image/png": "[encoded data removed]",
      "text/plain": [
       "<Figure size 432x288 with 1 Axes>"
      ]
     },
     "metadata": {
      "needs_background": "light"
     },
     "output_type": "display_data"
    }
   ],
   "source": [
    "fig, ax = plt.subplots(1,1)\n",
    "ax.plot(sizes, t_numeric, 'o-', label='Inserting row-by-row')\n",
    "ax.plot(sizes, t_numeric_add, 'o-', label='Inserting row-by-row: add_result only')\n",
    "ax.plot(sizes, t_array, 'd-', label='Inserting as binary blob')\n",
    "ax.plot(sizes, t_array_add, 'd-', label='Inserting as binary blob: add_result only')\n",
    "ax.legend()\n",
    "ax.set_xlabel('Array length')\n",
    "ax.set_ylabel('Time (s)')\n",
    "fig.tight_layout()"
   ]
  },
  {
   "cell_type": "markdown",
   "metadata": {},
   "source": [
    "As shown in the latter figure, the time to setup and and close the experiment is approximately 0.4 sec. In case of small array sizes, the difference between inserting values of data as arrays and inserting them row-by-row is relatively unimportant. At larger array sizes, i.e. above 10000 points, the cost of writing data as individual datapoints starts to become important.\n"
   ]
  },
  {
   "cell_type": "markdown",
   "metadata": {},
   "source": [
    "### Case2: Long experiment time "
   ]
  },
  {
   "cell_type": "code",
   "execution_count": 7,
   "metadata": {
    "execution": {
     "iopub.execute_input": "2020-09-29T06:47:32.733969Z",
     "iopub.status.busy": "2020-09-29T06:47:32.733377Z",
     "iopub.status.idle": "2020-09-29T06:48:30.759700Z",
     "shell.execute_reply": "2020-09-29T06:48:30.759188Z"
    }
   },
   "outputs": [
    {
     "name": "stdout",
     "output_type": "stream",
     "text": [
      "Starting experimental run with id: 15. \n",
      "Starting experimental run with id: 16. \n",
      "Starting experimental run with id: 17. \n"
     ]
    },
    {
     "name": "stdout",
     "output_type": "stream",
     "text": [
      "Starting experimental run with id: 18. \n",
      "Starting experimental run with id: 19. \n"
     ]
    },
    {
     "name": "stdout",
     "output_type": "stream",
     "text": [
      "Starting experimental run with id: 20. \n"
     ]
    },
    {
     "name": "stdout",
     "output_type": "stream",
     "text": [
      "Starting experimental run with id: 21. \n"
     ]
    },
    {
     "name": "stdout",
     "output_type": "stream",
     "text": [
      "Starting experimental run with id: 22. \n"
     ]
    },
    {
     "name": "stdout",
     "output_type": "stream",
     "text": [
      "Starting experimental run with id: 23. \n"
     ]
    },
    {
     "name": "stdout",
     "output_type": "stream",
     "text": [
      "Starting experimental run with id: 24. \n"
     ]
    },
    {
     "name": "stdout",
     "output_type": "stream",
     "text": [
      "Starting experimental run with id: 25. \n"
     ]
    },
    {
     "name": "stdout",
     "output_type": "stream",
     "text": [
      "Starting experimental run with id: 26. \n"
     ]
    },
    {
     "name": "stdout",
     "output_type": "stream",
     "text": [
      "Starting experimental run with id: 27. \n"
     ]
    },
    {
     "name": "stdout",
     "output_type": "stream",
     "text": [
      "Starting experimental run with id: 28. \n"
     ]
    }
   ],
   "source": [
    "sizes = [1,500,1000,2000,3000,4000,5000]\n",
    "nreps = 100\n",
    "t_numeric = []\n",
    "t_numeric_add = []\n",
    "t_numeric_run_ids = []\n",
    "t_array = []\n",
    "t_array_add = []\n",
    "t_array_run_ids = []\n",
    "for size in sizes:\n",
    "    tn, tna, run_id_n =  insert_data('numeric', size, nreps=nreps)\n",
    "    t_numeric.append(tn)\n",
    "    t_numeric_add.append(tna)\n",
    "    t_numeric_run_ids.append(run_id_n)\n",
    "\n",
    "    ta, taa, run_id_a =  insert_data('array', size, nreps=nreps)\n",
    "    t_array.append(ta)\n",
    "    t_array_add.append(taa)\n",
    "    t_array_run_ids.append(run_id_a)"
   ]
  },
  {
   "cell_type": "code",
   "execution_count": 8,
   "metadata": {
    "execution": {
     "iopub.execute_input": "2020-09-29T06:48:30.778015Z",
     "iopub.status.busy": "2020-09-29T06:48:30.776574Z",
     "iopub.status.idle": "2020-09-29T06:48:30.980338Z",
     "shell.execute_reply": "2020-09-29T06:48:30.979825Z"
    },
    "scrolled": true
   },
   "outputs": [
    {
     "data": {
      "image/png": "[encoded data removed]",
      "text/plain": [
       "<Figure size 432x288 with 1 Axes>"
      ]
     },
     "metadata": {
      "needs_background": "light"
     },
     "output_type": "display_data"
    }
   ],
   "source": [
    "fig, ax = plt.subplots(1,1)\n",
    "ax.plot(sizes, t_numeric, 'o-', label='Inserting row-by-row')\n",
    "ax.plot(sizes, t_numeric_add, 'o-', label='Inserting row-by-row: add_result only')\n",
    "ax.plot(sizes, t_array, 'd-', label='Inserting as binary blob')\n",
    "ax.plot(sizes, t_array_add, 'd-', label='Inserting as binary blob: add_result only')\n",
    "ax.legend()\n",
    "ax.set_xlabel('Array length')\n",
    "ax.set_ylabel('Time (s)')\n",
    "fig.tight_layout()"
   ]
  },
  {
   "cell_type": "markdown",
   "metadata": {},
   "source": [
    "However, as we increase the length of the experiment, as seen here by repeating the insertion 100 times, we see a big difference between inserting values of the data row-by-row and inserting it as a binary blob."
   ]
  },
  {
   "cell_type": "markdown",
   "metadata": {},
   "source": [
    "## Loading the data "
   ]
  },
  {
   "cell_type": "code",
   "execution_count": 9,
   "metadata": {
    "execution": {
     "iopub.execute_input": "2020-09-29T06:48:30.984588Z",
     "iopub.status.busy": "2020-09-29T06:48:30.983599Z",
     "iopub.status.idle": "2020-09-29T06:48:30.987421Z",
     "shell.execute_reply": "2020-09-29T06:48:30.987877Z"
    }
   },
   "outputs": [],
   "source": [
    "from qcodes.dataset.data_set import load_by_id\n",
    "from qcodes.dataset.data_export import get_data_by_id"
   ]
  },
  {
   "cell_type": "markdown",
   "metadata": {},
   "source": [
    "As usual you can load the data by using the ``load_by_id`` function but you will notice that the different storage methods\n",
    "are reflected in shape of the data as it is retrieved. "
   ]
  },
  {
   "cell_type": "code",
   "execution_count": 10,
   "metadata": {
    "execution": {
     "iopub.execute_input": "2020-09-29T06:48:30.992280Z",
     "iopub.status.busy": "2020-09-29T06:48:30.991067Z",
     "iopub.status.idle": "2020-09-29T06:48:30.992908Z",
     "shell.execute_reply": "2020-09-29T06:48:30.993395Z"
    }
   },
   "outputs": [],
   "source": [
    "run_id_n = t_numeric_run_ids[0]\n",
    "run_id_a = t_array_run_ids[0]"
   ]
  },
  {
   "cell_type": "code",
   "execution_count": 11,
   "metadata": {
    "execution": {
     "iopub.execute_input": "2020-09-29T06:48:30.996609Z",
     "iopub.status.busy": "2020-09-29T06:48:30.995997Z",
     "iopub.status.idle": "2020-09-29T06:48:31.005424Z",
     "shell.execute_reply": "2020-09-29T06:48:31.004897Z"
    },
    "scrolled": true
   },
   "outputs": [
    {
     "data": {
      "text/plain": [
       "{'x1': {'x1': array([0.66670398, 0.66670398, 0.47450672, 0.47450672, 0.31044118,\n",
       "         0.31044118, 0.71902646, 0.71902646, 0.57062328, 0.57062328,\n",
       "         0.7573568 , 0.7573568 , 0.09301654, 0.09301654, 0.0134531 ,\n",
       "         0.0134531 , 0.45907561, 0.45907561, 0.60348715, 0.60348715,\n",
       "         0.11888394, 0.11888394, 0.32014781, 0.32014781, 0.7769516 ,\n",
       "         0.7769516 , 0.4652691 , 0.4652691 , 0.82056692, 0.82056692,\n",
       "         0.008594  , 0.008594  , 0.41416515, 0.41416515, 0.85834853,\n",
       "         0.85834853, 0.12981835, 0.12981835, 0.02795167, 0.02795167,\n",
       "         0.84639247, 0.84639247, 0.86949171, 0.86949171, 0.61095094,\n",
       "         0.61095094, 0.36123081, 0.36123081, 0.63867848, 0.63867848,\n",
       "         0.51427917, 0.51427917, 0.92291996, 0.92291996, 0.06001925,\n",
       "         0.06001925, 0.79116293, 0.79116293, 0.24692331, 0.24692331,\n",
       "         0.14510208, 0.14510208, 0.65152253, 0.65152253, 0.93213097,\n",
       "         0.93213097, 0.79943512, 0.79943512, 0.07840856, 0.07840856,\n",
       "         0.88115625, 0.88115625, 0.10382583, 0.10382583, 0.3190667 ,\n",
       "         0.3190667 , 0.85684258, 0.85684258, 0.09600124, 0.09600124,\n",
       "         0.95794184, 0.95794184, 0.67888545, 0.67888545, 0.65922221,\n",
       "         0.65922221, 0.91151425, 0.91151425, 0.49502619, 0.49502619,\n",
       "         0.27357482, 0.27357482, 0.25285468, 0.25285468, 0.02956864,\n",
       "         0.02956864, 0.35928773, 0.35928773, 0.50332461, 0.50332461,\n",
       "         0.73695973, 0.73695973, 0.25806166, 0.25806166, 0.71126861,\n",
       "         0.71126861, 0.10273572, 0.10273572, 0.59385084, 0.59385084,\n",
       "         0.27929225, 0.27929225, 0.66065876, 0.66065876, 0.75917561,\n",
       "         0.75917561, 0.03845839, 0.03845839, 0.07952825, 0.07952825,\n",
       "         0.13173793, 0.13173793, 0.8160284 , 0.8160284 , 0.24613793,\n",
       "         0.24613793, 0.22167691, 0.22167691, 0.45613497, 0.45613497,\n",
       "         0.84097226, 0.84097226, 0.04442012, 0.04442012, 0.21998543,\n",
       "         0.21998543, 0.57109576, 0.57109576, 0.93803056, 0.93803056,\n",
       "         0.54423113, 0.54423113, 0.38289697, 0.38289697, 0.96014924,\n",
       "         0.96014924, 0.28113367, 0.28113367, 0.55494603, 0.55494603,\n",
       "         0.42223511, 0.42223511, 0.90404341, 0.90404341, 0.61937169,\n",
       "         0.61937169, 0.22540099, 0.22540099, 0.57215196, 0.57215196,\n",
       "         0.89503092, 0.89503092, 0.65332588, 0.65332588, 0.16389502,\n",
       "         0.16389502, 0.69442596, 0.69442596, 0.10499357, 0.10499357,\n",
       "         0.13813793, 0.13813793, 0.91654734, 0.91654734, 0.67689073,\n",
       "         0.67689073, 0.42468964, 0.42468964, 0.41385337, 0.41385337,\n",
       "         0.97002519, 0.97002519, 0.55905657, 0.55905657, 0.93172356,\n",
       "         0.93172356, 0.9706465 , 0.9706465 , 0.94124767, 0.94124767,\n",
       "         0.19997605, 0.19997605, 0.12315749, 0.12315749, 0.19263608,\n",
       "         0.19263608, 0.40625275, 0.40625275, 0.60490755, 0.60490755])}}"
      ]
     },
     "execution_count": 1,
     "metadata": {},
     "output_type": "execute_result"
    }
   ],
   "source": [
    "ds = load_by_id(run_id_n)\n",
    "ds.get_parameter_data('x1')"
   ]
  },
  {
   "cell_type": "markdown",
   "metadata": {},
   "source": [
    "And a dataset stored as binary arrays"
   ]
  },
  {
   "cell_type": "code",
   "execution_count": 12,
   "metadata": {
    "execution": {
     "iopub.execute_input": "2020-09-29T06:48:31.008841Z",
     "iopub.status.busy": "2020-09-29T06:48:31.008228Z",
     "iopub.status.idle": "2020-09-29T06:48:31.072149Z",
     "shell.execute_reply": "2020-09-29T06:48:31.071653Z"
    },
    "scrolled": true
   },
   "outputs": [
    {
     "data": {
      "text/plain": [
       "{'x1': {'x1': array([[0.66051436],\n",
       "         [0.66051436],\n",
       "         [0.32856599],\n",
       "         [0.32856599],\n",
       "         [0.0398927 ],\n",
       "         [0.0398927 ],\n",
       "         [0.43233633],\n",
       "         [0.43233633],\n",
       "         [0.41003138],\n",
       "         [0.41003138],\n",
       "         [0.37287217],\n",
       "         [0.37287217],\n",
       "         [0.87205561],\n",
       "         [0.87205561],\n",
       "         [0.34495012],\n",
       "         [0.34495012],\n",
       "         [0.9675355 ],\n",
       "         [0.9675355 ],\n",
       "         [0.12161582],\n",
       "         [0.12161582],\n",
       "         [0.94214925],\n",
       "         [0.94214925],\n",
       "         [0.03757286],\n",
       "         [0.03757286],\n",
       "         [0.58764754],\n",
       "         [0.58764754],\n",
       "         [0.09811071],\n",
       "         [0.09811071],\n",
       "         [0.05175732],\n",
       "         [0.05175732],\n",
       "         [0.58002194],\n",
       "         [0.58002194],\n",
       "         [0.17689987],\n",
       "         [0.17689987],\n",
       "         [0.23368384],\n",
       "         [0.23368384],\n",
       "         [0.52544546],\n",
       "         [0.52544546],\n",
       "         [0.39673486],\n",
       "         [0.39673486],\n",
       "         [0.50942001],\n",
       "         [0.50942001],\n",
       "         [0.82981338],\n",
       "         [0.82981338],\n",
       "         [0.23164358],\n",
       "         [0.23164358],\n",
       "         [0.33766022],\n",
       "         [0.33766022],\n",
       "         [0.66573068],\n",
       "         [0.66573068],\n",
       "         [0.16510498],\n",
       "         [0.16510498],\n",
       "         [0.21991454],\n",
       "         [0.21991454],\n",
       "         [0.49606142],\n",
       "         [0.49606142],\n",
       "         [0.48444211],\n",
       "         [0.48444211],\n",
       "         [0.20796541],\n",
       "         [0.20796541],\n",
       "         [0.86614545],\n",
       "         [0.86614545],\n",
       "         [0.70340593],\n",
       "         [0.70340593],\n",
       "         [0.30853896],\n",
       "         [0.30853896],\n",
       "         [0.71457427],\n",
       "         [0.71457427],\n",
       "         [0.02533604],\n",
       "         [0.02533604],\n",
       "         [0.67359041],\n",
       "         [0.67359041],\n",
       "         [0.35007065],\n",
       "         [0.35007065],\n",
       "         [0.94016799],\n",
       "         [0.94016799],\n",
       "         [0.86690978],\n",
       "         [0.86690978],\n",
       "         [0.36761877],\n",
       "         [0.36761877],\n",
       "         [0.75907009],\n",
       "         [0.75907009],\n",
       "         [0.64122696],\n",
       "         [0.64122696],\n",
       "         [0.14021939],\n",
       "         [0.14021939],\n",
       "         [0.66785284],\n",
       "         [0.66785284],\n",
       "         [0.56923279],\n",
       "         [0.56923279],\n",
       "         [0.42294936],\n",
       "         [0.42294936],\n",
       "         [0.92220427],\n",
       "         [0.92220427],\n",
       "         [0.03092541],\n",
       "         [0.03092541],\n",
       "         [0.98701327],\n",
       "         [0.98701327],\n",
       "         [0.93541431],\n",
       "         [0.93541431],\n",
       "         [0.60232664],\n",
       "         [0.60232664],\n",
       "         [0.58900778],\n",
       "         [0.58900778],\n",
       "         [0.06939493],\n",
       "         [0.06939493],\n",
       "         [0.81765976],\n",
       "         [0.81765976],\n",
       "         [0.32884031],\n",
       "         [0.32884031],\n",
       "         [0.32165915],\n",
       "         [0.32165915],\n",
       "         [0.56846944],\n",
       "         [0.56846944],\n",
       "         [0.35715329],\n",
       "         [0.35715329],\n",
       "         [0.60780787],\n",
       "         [0.60780787],\n",
       "         [0.27068898],\n",
       "         [0.27068898],\n",
       "         [0.0996799 ],\n",
       "         [0.0996799 ],\n",
       "         [0.81202339],\n",
       "         [0.81202339],\n",
       "         [0.58258349],\n",
       "         [0.58258349],\n",
       "         [0.73260259],\n",
       "         [0.73260259],\n",
       "         [0.64858232],\n",
       "         [0.64858232],\n",
       "         [0.88563408],\n",
       "         [0.88563408],\n",
       "         [0.63956378],\n",
       "         [0.63956378],\n",
       "         [0.34755678],\n",
       "         [0.34755678],\n",
       "         [0.3778582 ],\n",
       "         [0.3778582 ],\n",
       "         [0.49888486],\n",
       "         [0.49888486],\n",
       "         [0.24139565],\n",
       "         [0.24139565],\n",
       "         [0.63578906],\n",
       "         [0.63578906],\n",
       "         [0.62914831],\n",
       "         [0.62914831],\n",
       "         [0.81109456],\n",
       "         [0.81109456],\n",
       "         [0.56660129],\n",
       "         [0.56660129],\n",
       "         [0.60486276],\n",
       "         [0.60486276],\n",
       "         [0.19154246],\n",
       "         [0.19154246],\n",
       "         [0.21676751],\n",
       "         [0.21676751],\n",
       "         [0.65085432],\n",
       "         [0.65085432],\n",
       "         [0.18341559],\n",
       "         [0.18341559],\n",
       "         [0.15717018],\n",
       "         [0.15717018],\n",
       "         [0.71507286],\n",
       "         [0.71507286],\n",
       "         [0.99830937],\n",
       "         [0.99830937],\n",
       "         [0.61187705],\n",
       "         [0.61187705],\n",
       "         [0.38654261],\n",
       "         [0.38654261],\n",
       "         [0.43901606],\n",
       "         [0.43901606],\n",
       "         [0.78214795],\n",
       "         [0.78214795],\n",
       "         [0.65167839],\n",
       "         [0.65167839],\n",
       "         [0.35735662],\n",
       "         [0.35735662],\n",
       "         [0.39922043],\n",
       "         [0.39922043],\n",
       "         [0.95374046],\n",
       "         [0.95374046],\n",
       "         [0.876713  ],\n",
       "         [0.876713  ],\n",
       "         [0.79684902],\n",
       "         [0.79684902],\n",
       "         [0.84695307],\n",
       "         [0.84695307],\n",
       "         [0.92601062],\n",
       "         [0.92601062],\n",
       "         [0.1402    ],\n",
       "         [0.1402    ],\n",
       "         [0.97993963],\n",
       "         [0.97993963],\n",
       "         [0.93272836],\n",
       "         [0.93272836],\n",
       "         [0.60260127],\n",
       "         [0.60260127],\n",
       "         [0.42396087],\n",
       "         [0.42396087]])}}"
      ]
     },
     "execution_count": 1,
     "metadata": {},
     "output_type": "execute_result"
    }
   ],
   "source": [
    "ds = load_by_id(run_id_a)\n",
    "ds.get_parameter_data('x1')"
   ]
  },
  {
   "cell_type": "code",
   "execution_count": null,
   "metadata": {},
   "outputs": [],
   "source": []
  }
 ],
 "metadata": {
  "kernelspec": {
   "display_name": "Python 3",
   "language": "python",
   "name": "python3"
  },
  "language_info": {
   "codemirror_mode": {
    "name": "ipython",
    "version": 3
   },
   "file_extension": ".py",
   "mimetype": "text/x-python",
   "name": "python",
   "nbconvert_exporter": "python",
   "pygments_lexer": "ipython3",
   "version": "3.7.7"
  },
  "nbsphinx": {
   "timeout": 600
  },
  "toc": {
   "base_numbering": 1,
   "nav_menu": {},
   "number_sections": true,
   "sideBar": true,
   "skip_h1_title": false,
   "title_cell": "Table of Contents",
   "title_sidebar": "Contents",
   "toc_cell": false,
   "toc_position": {},
   "toc_section_display": true,
   "toc_window_display": false
  },
  "varInspector": {
   "cols": {
    "lenName": 16,
    "lenType": 16,
    "lenVar": 40
   },
   "kernels_config": {
    "python": {
     "delete_cmd_postfix": "",
     "delete_cmd_prefix": "del ",
     "library": "var_list.py",
     "varRefreshCmd": "print(var_dic_list())"
    },
    "r": {
     "delete_cmd_postfix": ") ",
     "delete_cmd_prefix": "rm(",
     "library": "var_list.r",
     "varRefreshCmd": "cat(var_dic_list()) "
    }
   },
   "types_to_exclude": [
    "module",
    "function",
    "builtin_function_or_method",
    "instance",
    "_Feature"
   ],
   "window_display": false
  }
 },
 "nbformat": 4,
 "nbformat_minor": 2
}
