{
 "cells": [
  {
   "cell_type": "markdown",
   "metadata": {},
   "source": [
    "# DataSet Performance\n",
    "\n",
    "This notebook shows the trade-off between inserting data into a database row-by-row and as binary blobs. Inserting the data row-by-row means that we have direct access to all the data and may perform queries directly on the values of the data. On the other hand, as we shall see, this is much slower than inserting the data directly as binary blobs."
   ]
  },
  {
   "cell_type": "markdown",
   "metadata": {},
   "source": [
    "First, we choose a new location for the database to ensure that we don't add a bunch of benchmarking data to the default one."
   ]
  },
  {
   "cell_type": "code",
   "execution_count": 1,
   "metadata": {
    "execution": {
     "iopub.execute_input": "2021-04-02T09:59:04.784914Z",
     "iopub.status.busy": "2021-04-02T09:59:04.784362Z",
     "iopub.status.idle": "2021-04-02T09:59:05.812286Z",
     "shell.execute_reply": "2021-04-02T09:59:05.811206Z"
    }
   },
   "outputs": [
    {
     "name": "stdout",
     "output_type": "stream",
     "text": [
      "Logging hadn't been started.\n",
      "Activating auto-logging. Current session state plus future input saved.\n",
      "Filename       : /home/runner/.qcodes/logs/command_history.log\n",
      "Mode           : append\n",
      "Output logging : True\n",
      "Raw input log  : False\n",
      "Timestamping   : True\n",
      "State          : active\n"
     ]
    },
    {
     "name": "stdout",
     "output_type": "stream",
     "text": [
      "Qcodes Logfile : /home/runner/.qcodes/logs/210402-4469-qcodes.log\n"
     ]
    }
   ],
   "source": [
    "import os\n",
    "cwd = os.getcwd()\n",
    "import qcodes as qc\n",
    "qc.config[\"core\"][\"db_location\"] = os.path.join(cwd, 'testing.db')\n"
   ]
  },
  {
   "cell_type": "code",
   "execution_count": 2,
   "metadata": {
    "execution": {
     "iopub.execute_input": "2021-04-02T09:59:05.819184Z",
     "iopub.status.busy": "2021-04-02T09:59:05.818610Z",
     "iopub.status.idle": "2021-04-02T09:59:06.064596Z",
     "shell.execute_reply": "2021-04-02T09:59:06.063692Z"
    }
   },
   "outputs": [],
   "source": [
    "%matplotlib inline\n",
    "import time\n",
    "import matplotlib.pyplot as plt\n",
    "import numpy as np\n",
    "\n",
    "import qcodes as qc\n",
    "from qcodes.instrument.parameter import ManualParameter\n",
    "from qcodes.dataset.experiment_container import (Experiment,\n",
    "                                                 load_last_experiment,\n",
    "                                                 new_experiment)\n",
    "from qcodes.dataset.sqlite.database import initialise_database\n",
    "from qcodes import load_or_create_experiment\n",
    "from qcodes.dataset.measurements import Measurement"
   ]
  },
  {
   "cell_type": "code",
   "execution_count": 3,
   "metadata": {
    "execution": {
     "iopub.execute_input": "2021-04-02T09:59:06.069798Z",
     "iopub.status.busy": "2021-04-02T09:59:06.068807Z",
     "iopub.status.idle": "2021-04-02T09:59:06.158068Z",
     "shell.execute_reply": "2021-04-02T09:59:06.157576Z"
    }
   },
   "outputs": [
    {
     "name": "stdout",
     "output_type": "stream",
     "text": [
      "\r",
      "0it [00:00, ?it/s]"
     ]
    },
    {
     "name": "stdout",
     "output_type": "stream",
     "text": [
      "\r",
      "Upgrading database; v0 -> v1: : 0it [00:00, ?it/s]"
     ]
    },
    {
     "name": "stdout",
     "output_type": "stream",
     "text": [
      "\r",
      "Upgrading database; v0 -> v1: : 0it [00:00, ?it/s]"
     ]
    },
    {
     "name": "stdout",
     "output_type": "stream",
     "text": [
      "\n",
      "\r",
      "  0%|          | 0/1 [00:00<?, ?it/s]"
     ]
    },
    {
     "name": "stdout",
     "output_type": "stream",
     "text": [
      "\r",
      "Upgrading database; v1 -> v2:   0%|          | 0/1 [00:00<?, ?it/s]"
     ]
    },
    {
     "name": "stdout",
     "output_type": "stream",
     "text": [
      "\r",
      "Upgrading database; v1 -> v2: 100%|██████████| 1/1 [00:00<00:00, 453.14it/s]"
     ]
    },
    {
     "name": "stdout",
     "output_type": "stream",
     "text": [
      "\n",
      "\r",
      "0it [00:00, ?it/s]"
     ]
    },
    {
     "name": "stdout",
     "output_type": "stream",
     "text": [
      "\r",
      "Upgrading database; v2 -> v3: : 0it [00:00, ?it/s]"
     ]
    },
    {
     "name": "stdout",
     "output_type": "stream",
     "text": [
      "\r",
      "Upgrading database; v2 -> v3: : 0it [00:00, ?it/s]"
     ]
    },
    {
     "name": "stdout",
     "output_type": "stream",
     "text": [
      "\n",
      "\r",
      "0it [00:00, ?it/s]"
     ]
    },
    {
     "name": "stdout",
     "output_type": "stream",
     "text": [
      "\r",
      "Upgrading database; v3 -> v4: : 0it [00:00, ?it/s]"
     ]
    },
    {
     "name": "stdout",
     "output_type": "stream",
     "text": [
      "\r",
      "Upgrading database; v3 -> v4: : 0it [00:00, ?it/s]"
     ]
    },
    {
     "name": "stdout",
     "output_type": "stream",
     "text": [
      "\n",
      "\r",
      "  0%|          | 0/1 [00:00<?, ?it/s]"
     ]
    },
    {
     "name": "stdout",
     "output_type": "stream",
     "text": [
      "\r",
      "Upgrading database; v4 -> v5:   0%|          | 0/1 [00:00<?, ?it/s]"
     ]
    },
    {
     "name": "stdout",
     "output_type": "stream",
     "text": [
      "\r",
      "Upgrading database; v4 -> v5: 100%|██████████| 1/1 [00:00<00:00, 450.47it/s]"
     ]
    },
    {
     "name": "stdout",
     "output_type": "stream",
     "text": [
      "\n",
      "\r",
      "0it [00:00, ?it/s]"
     ]
    },
    {
     "name": "stdout",
     "output_type": "stream",
     "text": [
      "\r",
      "Upgrading database; v5 -> v6: : 0it [00:00, ?it/s]"
     ]
    },
    {
     "name": "stdout",
     "output_type": "stream",
     "text": [
      "\r",
      "Upgrading database; v5 -> v6: : 0it [00:00, ?it/s]"
     ]
    },
    {
     "name": "stdout",
     "output_type": "stream",
     "text": [
      "\n",
      "\r",
      "  0%|          | 0/1 [00:00<?, ?it/s]"
     ]
    },
    {
     "name": "stdout",
     "output_type": "stream",
     "text": [
      "\r",
      "Upgrading database; v6 -> v7:   0%|          | 0/1 [00:00<?, ?it/s]"
     ]
    },
    {
     "name": "stdout",
     "output_type": "stream",
     "text": [
      "\r",
      "Upgrading database; v6 -> v7: 100%|██████████| 1/1 [00:00<00:00, 161.97it/s]"
     ]
    },
    {
     "name": "stdout",
     "output_type": "stream",
     "text": [
      "\n",
      "\r",
      "  0%|          | 0/1 [00:00<?, ?it/s]"
     ]
    },
    {
     "name": "stdout",
     "output_type": "stream",
     "text": [
      "\r",
      "Upgrading database; v7 -> v8:   0%|          | 0/1 [00:00<?, ?it/s]"
     ]
    },
    {
     "name": "stdout",
     "output_type": "stream",
     "text": [
      "\r",
      "Upgrading database; v7 -> v8: 100%|██████████| 1/1 [00:00<00:00, 424.05it/s]"
     ]
    },
    {
     "name": "stdout",
     "output_type": "stream",
     "text": [
      "\n",
      "\r",
      "  0%|          | 0/1 [00:00<?, ?it/s]"
     ]
    },
    {
     "name": "stdout",
     "output_type": "stream",
     "text": [
      "\r",
      "Upgrading database; v8 -> v9:   0%|          | 0/1 [00:00<?, ?it/s]"
     ]
    },
    {
     "name": "stdout",
     "output_type": "stream",
     "text": [
      "\r",
      "Upgrading database; v8 -> v9: 100%|██████████| 1/1 [00:00<00:00, 455.75it/s]"
     ]
    },
    {
     "name": "stdout",
     "output_type": "stream",
     "text": [
      "\n"
     ]
    }
   ],
   "source": [
    "initialise_database()\n",
    "exp = load_or_create_experiment(experiment_name='tutorial_exp', sample_name=\"no sample\")"
   ]
  },
  {
   "cell_type": "markdown",
   "metadata": {},
   "source": [
    "Here, we define a simple function to benchmark the time it takes to insert n points with either numeric or array data type.\n",
    "We will compare both the time used to call ``add_result`` and the time used for the full measurement."
   ]
  },
  {
   "cell_type": "code",
   "execution_count": 4,
   "metadata": {
    "execution": {
     "iopub.execute_input": "2021-04-02T09:59:06.165789Z",
     "iopub.status.busy": "2021-04-02T09:59:06.165213Z",
     "iopub.status.idle": "2021-04-02T09:59:06.168921Z",
     "shell.execute_reply": "2021-04-02T09:59:06.168449Z"
    }
   },
   "outputs": [],
   "source": [
    "def insert_data(paramtype, npoints, nreps=1):\n",
    "\n",
    "    meas = Measurement(exp=exp)\n",
    "\n",
    "    x1 = ManualParameter('x1')\n",
    "    x2 = ManualParameter('x2')\n",
    "    x3 = ManualParameter('x3')\n",
    "    y1 = ManualParameter('y1')\n",
    "    y2 = ManualParameter('y2')\n",
    "\n",
    "    meas.register_parameter(x1, paramtype=paramtype)\n",
    "    meas.register_parameter(x2, paramtype=paramtype)\n",
    "    meas.register_parameter(x3, paramtype=paramtype)\n",
    "    meas.register_parameter(y1, setpoints=[x1, x2, x3],\n",
    "                            paramtype=paramtype)\n",
    "    meas.register_parameter(y2, setpoints=[x1, x2, x3],\n",
    "                            paramtype=paramtype)\n",
    "    start = time.perf_counter()\n",
    "    with meas.run() as datasaver:\n",
    "        start_adding = time.perf_counter()\n",
    "        for i in range(nreps):\n",
    "            datasaver.add_result((x1, np.random.rand(npoints)),\n",
    "                                 (x2, np.random.rand(npoints)),\n",
    "                                 (x3, np.random.rand(npoints)),\n",
    "                                 (y1, np.random.rand(npoints)),\n",
    "                                 (y2, np.random.rand(npoints)))\n",
    "        stop_adding = time.perf_counter()\n",
    "        run_id = datasaver.run_id\n",
    "    stop = time.perf_counter()\n",
    "    tot_time = stop - start\n",
    "    add_time = stop_adding - start_adding\n",
    "    return tot_time, add_time, run_id"
   ]
  },
  {
   "cell_type": "markdown",
   "metadata": {},
   "source": [
    "## Comparison between numeric/array data and binary blob"
   ]
  },
  {
   "cell_type": "markdown",
   "metadata": {},
   "source": [
    "### Case1: Short experiment time"
   ]
  },
  {
   "cell_type": "code",
   "execution_count": 5,
   "metadata": {
    "execution": {
     "iopub.execute_input": "2021-04-02T09:59:06.175596Z",
     "iopub.status.busy": "2021-04-02T09:59:06.174960Z",
     "iopub.status.idle": "2021-04-02T09:59:07.076104Z",
     "shell.execute_reply": "2021-04-02T09:59:07.075594Z"
    }
   },
   "outputs": [
    {
     "name": "stdout",
     "output_type": "stream",
     "text": [
      "Starting experimental run with id: 1. \n",
      "Starting experimental run with id: 2. \n",
      "Starting experimental run with id: 3. \n"
     ]
    },
    {
     "name": "stdout",
     "output_type": "stream",
     "text": [
      "Starting experimental run with id: 4. "
     ]
    },
    {
     "name": "stdout",
     "output_type": "stream",
     "text": [
      "\n"
     ]
    },
    {
     "name": "stdout",
     "output_type": "stream",
     "text": [
      "Starting experimental run with id: 5. \n"
     ]
    },
    {
     "name": "stdout",
     "output_type": "stream",
     "text": [
      "Starting experimental run with id: 6. \n",
      "Starting experimental run with id: 7. \n"
     ]
    },
    {
     "name": "stdout",
     "output_type": "stream",
     "text": [
      "Starting experimental run with id: 8. \n"
     ]
    },
    {
     "name": "stdout",
     "output_type": "stream",
     "text": [
      "Starting experimental run with id: 9. \n"
     ]
    },
    {
     "name": "stdout",
     "output_type": "stream",
     "text": [
      "Starting experimental run with id: 10. \n",
      "Starting experimental run with id: 11. \n"
     ]
    },
    {
     "name": "stdout",
     "output_type": "stream",
     "text": [
      "Starting experimental run with id: 12. \n",
      "Starting experimental run with id: 13. \n"
     ]
    },
    {
     "name": "stdout",
     "output_type": "stream",
     "text": [
      "Starting experimental run with id: 14. \n"
     ]
    }
   ],
   "source": [
    "sizes = [1,500,1000,2000,3000,4000,5000]\n",
    "t_numeric = []\n",
    "t_numeric_add = []\n",
    "t_array = []\n",
    "t_array_add = []\n",
    "for size in sizes:\n",
    "    tn, tna, run_id_n =  insert_data('numeric', size)\n",
    "    t_numeric.append(tn)\n",
    "    t_numeric_add.append(tna)\n",
    "\n",
    "    ta, taa, run_id_a =  insert_data('array', size)\n",
    "    t_array.append(ta)\n",
    "    t_array_add.append(taa)"
   ]
  },
  {
   "cell_type": "code",
   "execution_count": 6,
   "metadata": {
    "execution": {
     "iopub.execute_input": "2021-04-02T09:59:07.094493Z",
     "iopub.status.busy": "2021-04-02T09:59:07.081689Z",
     "iopub.status.idle": "2021-04-02T09:59:07.258096Z",
     "shell.execute_reply": "2021-04-02T09:59:07.258616Z"
    }
   },
   "outputs": [
    {
     "data": {
      "image/png": "[encoded data removed]",
      "text/plain": [
       "<Figure size 432x288 with 1 Axes>"
      ]
     },
     "metadata": {
      "needs_background": "light"
     },
     "output_type": "display_data"
    }
   ],
   "source": [
    "fig, ax = plt.subplots(1,1)\n",
    "ax.plot(sizes, t_numeric, 'o-', label='Inserting row-by-row')\n",
    "ax.plot(sizes, t_numeric_add, 'o-', label='Inserting row-by-row: add_result only')\n",
    "ax.plot(sizes, t_array, 'd-', label='Inserting as binary blob')\n",
    "ax.plot(sizes, t_array_add, 'd-', label='Inserting as binary blob: add_result only')\n",
    "ax.legend()\n",
    "ax.set_xlabel('Array length')\n",
    "ax.set_ylabel('Time (s)')\n",
    "fig.tight_layout()"
   ]
  },
  {
   "cell_type": "markdown",
   "metadata": {},
   "source": [
    "As shown in the latter figure, the time to setup and and close the experiment is approximately 0.4 sec. In case of small array sizes, the difference between inserting values of data as arrays and inserting them row-by-row is relatively unimportant. At larger array sizes, i.e. above 10000 points, the cost of writing data as individual datapoints starts to become important.\n"
   ]
  },
  {
   "cell_type": "markdown",
   "metadata": {},
   "source": [
    "### Case2: Long experiment time "
   ]
  },
  {
   "cell_type": "code",
   "execution_count": 7,
   "metadata": {
    "execution": {
     "iopub.execute_input": "2021-04-02T09:59:07.261405Z",
     "iopub.status.busy": "2021-04-02T09:59:07.260843Z",
     "iopub.status.idle": "2021-04-02T10:00:03.947251Z",
     "shell.execute_reply": "2021-04-02T10:00:03.946700Z"
    }
   },
   "outputs": [
    {
     "name": "stdout",
     "output_type": "stream",
     "text": [
      "Starting experimental run with id: 15. \n",
      "Starting experimental run with id: 16. \n",
      "Starting experimental run with id: 17. \n"
     ]
    },
    {
     "name": "stdout",
     "output_type": "stream",
     "text": [
      "Starting experimental run with id: 18. \n",
      "Starting experimental run with id: 19. \n"
     ]
    },
    {
     "name": "stdout",
     "output_type": "stream",
     "text": [
      "Starting experimental run with id: 20. \n"
     ]
    },
    {
     "name": "stdout",
     "output_type": "stream",
     "text": [
      "Starting experimental run with id: 21. \n"
     ]
    },
    {
     "name": "stdout",
     "output_type": "stream",
     "text": [
      "Starting experimental run with id: 22. \n"
     ]
    },
    {
     "name": "stdout",
     "output_type": "stream",
     "text": [
      "Starting experimental run with id: 23. \n"
     ]
    },
    {
     "name": "stdout",
     "output_type": "stream",
     "text": [
      "Starting experimental run with id: 24. \n"
     ]
    },
    {
     "name": "stdout",
     "output_type": "stream",
     "text": [
      "Starting experimental run with id: 25. \n"
     ]
    },
    {
     "name": "stdout",
     "output_type": "stream",
     "text": [
      "Starting experimental run with id: 26. \n"
     ]
    },
    {
     "name": "stdout",
     "output_type": "stream",
     "text": [
      "Starting experimental run with id: 27. \n"
     ]
    },
    {
     "name": "stdout",
     "output_type": "stream",
     "text": [
      "Starting experimental run with id: 28. \n"
     ]
    }
   ],
   "source": [
    "sizes = [1,500,1000,2000,3000,4000,5000]\n",
    "nreps = 100\n",
    "t_numeric = []\n",
    "t_numeric_add = []\n",
    "t_numeric_run_ids = []\n",
    "t_array = []\n",
    "t_array_add = []\n",
    "t_array_run_ids = []\n",
    "for size in sizes:\n",
    "    tn, tna, run_id_n =  insert_data('numeric', size, nreps=nreps)\n",
    "    t_numeric.append(tn)\n",
    "    t_numeric_add.append(tna)\n",
    "    t_numeric_run_ids.append(run_id_n)\n",
    "\n",
    "    ta, taa, run_id_a =  insert_data('array', size, nreps=nreps)\n",
    "    t_array.append(ta)\n",
    "    t_array_add.append(taa)\n",
    "    t_array_run_ids.append(run_id_a)"
   ]
  },
  {
   "cell_type": "code",
   "execution_count": 8,
   "metadata": {
    "execution": {
     "iopub.execute_input": "2021-04-02T10:00:03.967145Z",
     "iopub.status.busy": "2021-04-02T10:00:03.965104Z",
     "iopub.status.idle": "2021-04-02T10:00:04.137163Z",
     "shell.execute_reply": "2021-04-02T10:00:04.137679Z"
    },
    "scrolled": true
   },
   "outputs": [
    {
     "data": {
      "image/png": "[encoded data removed]",
      "text/plain": [
       "<Figure size 432x288 with 1 Axes>"
      ]
     },
     "metadata": {
      "needs_background": "light"
     },
     "output_type": "display_data"
    }
   ],
   "source": [
    "fig, ax = plt.subplots(1,1)\n",
    "ax.plot(sizes, t_numeric, 'o-', label='Inserting row-by-row')\n",
    "ax.plot(sizes, t_numeric_add, 'o-', label='Inserting row-by-row: add_result only')\n",
    "ax.plot(sizes, t_array, 'd-', label='Inserting as binary blob')\n",
    "ax.plot(sizes, t_array_add, 'd-', label='Inserting as binary blob: add_result only')\n",
    "ax.legend()\n",
    "ax.set_xlabel('Array length')\n",
    "ax.set_ylabel('Time (s)')\n",
    "fig.tight_layout()"
   ]
  },
  {
   "cell_type": "markdown",
   "metadata": {},
   "source": [
    "However, as we increase the length of the experiment, as seen here by repeating the insertion 100 times, we see a big difference between inserting values of the data row-by-row and inserting it as a binary blob."
   ]
  },
  {
   "cell_type": "markdown",
   "metadata": {},
   "source": [
    "## Loading the data "
   ]
  },
  {
   "cell_type": "code",
   "execution_count": 9,
   "metadata": {
    "execution": {
     "iopub.execute_input": "2021-04-02T10:00:04.142137Z",
     "iopub.status.busy": "2021-04-02T10:00:04.141081Z",
     "iopub.status.idle": "2021-04-02T10:00:04.144583Z",
     "shell.execute_reply": "2021-04-02T10:00:04.145027Z"
    }
   },
   "outputs": [],
   "source": [
    "from qcodes.dataset.data_set import load_by_id\n",
    "from qcodes.dataset.data_export import get_data_by_id"
   ]
  },
  {
   "cell_type": "markdown",
   "metadata": {},
   "source": [
    "As usual you can load the data by using the ``load_by_id`` function but you will notice that the different storage methods\n",
    "are reflected in shape of the data as it is retrieved. "
   ]
  },
  {
   "cell_type": "code",
   "execution_count": 10,
   "metadata": {
    "execution": {
     "iopub.execute_input": "2021-04-02T10:00:04.149223Z",
     "iopub.status.busy": "2021-04-02T10:00:04.148664Z",
     "iopub.status.idle": "2021-04-02T10:00:04.152178Z",
     "shell.execute_reply": "2021-04-02T10:00:04.151667Z"
    }
   },
   "outputs": [],
   "source": [
    "run_id_n = t_numeric_run_ids[0]\n",
    "run_id_a = t_array_run_ids[0]"
   ]
  },
  {
   "cell_type": "code",
   "execution_count": 11,
   "metadata": {
    "execution": {
     "iopub.execute_input": "2021-04-02T10:00:04.155592Z",
     "iopub.status.busy": "2021-04-02T10:00:04.154987Z",
     "iopub.status.idle": "2021-04-02T10:00:04.164818Z",
     "shell.execute_reply": "2021-04-02T10:00:04.165326Z"
    },
    "scrolled": true
   },
   "outputs": [
    {
     "data": {
      "text/plain": [
       "{'x1': {'x1': array([0.63509428, 0.63509428, 0.21587861, 0.21587861, 0.53743523,\n",
       "         0.53743523, 0.83065927, 0.83065927, 0.21702847, 0.21702847,\n",
       "         0.08412239, 0.08412239, 0.42385471, 0.42385471, 0.81724055,\n",
       "         0.81724055, 0.09773666, 0.09773666, 0.0351002 , 0.0351002 ,\n",
       "         0.79241562, 0.79241562, 0.80290203, 0.80290203, 0.2213794 ,\n",
       "         0.2213794 , 0.93203992, 0.93203992, 0.11642799, 0.11642799,\n",
       "         0.87226045, 0.87226045, 0.12903347, 0.12903347, 0.85043179,\n",
       "         0.85043179, 0.76128448, 0.76128448, 0.7686872 , 0.7686872 ,\n",
       "         0.51011513, 0.51011513, 0.92625703, 0.92625703, 0.42079583,\n",
       "         0.42079583, 0.57005432, 0.57005432, 0.42159395, 0.42159395,\n",
       "         0.90669253, 0.90669253, 0.09310343, 0.09310343, 0.31114092,\n",
       "         0.31114092, 0.44699402, 0.44699402, 0.49186673, 0.49186673,\n",
       "         0.67406601, 0.67406601, 0.45737672, 0.45737672, 0.54927416,\n",
       "         0.54927416, 0.76443099, 0.76443099, 0.33683341, 0.33683341,\n",
       "         0.72981891, 0.72981891, 0.48055977, 0.48055977, 0.57479806,\n",
       "         0.57479806, 0.9337401 , 0.9337401 , 0.12493194, 0.12493194,\n",
       "         0.4197719 , 0.4197719 , 0.20709225, 0.20709225, 0.00603086,\n",
       "         0.00603086, 0.1726591 , 0.1726591 , 0.95984559, 0.95984559,\n",
       "         0.49595082, 0.49595082, 0.96669385, 0.96669385, 0.94246048,\n",
       "         0.94246048, 0.00160756, 0.00160756, 0.13310351, 0.13310351,\n",
       "         0.80004315, 0.80004315, 0.01193247, 0.01193247, 0.08543964,\n",
       "         0.08543964, 0.11265377, 0.11265377, 0.55754524, 0.55754524,\n",
       "         0.1908826 , 0.1908826 , 0.40947774, 0.40947774, 0.86292288,\n",
       "         0.86292288, 0.13497903, 0.13497903, 0.30571823, 0.30571823,\n",
       "         0.83790116, 0.83790116, 0.68325392, 0.68325392, 0.60674709,\n",
       "         0.60674709, 0.636273  , 0.636273  , 0.94513636, 0.94513636,\n",
       "         0.03773803, 0.03773803, 0.53366796, 0.53366796, 0.58756039,\n",
       "         0.58756039, 0.96014482, 0.96014482, 0.29986563, 0.29986563,\n",
       "         0.93969375, 0.93969375, 0.65333627, 0.65333627, 0.52029312,\n",
       "         0.52029312, 0.10875788, 0.10875788, 0.86866254, 0.86866254,\n",
       "         0.63107365, 0.63107365, 0.731281  , 0.731281  , 0.91759715,\n",
       "         0.91759715, 0.26164704, 0.26164704, 0.21701504, 0.21701504,\n",
       "         0.17797627, 0.17797627, 0.90487465, 0.90487465, 0.24734318,\n",
       "         0.24734318, 0.18155743, 0.18155743, 0.83654242, 0.83654242,\n",
       "         0.70610799, 0.70610799, 0.33800553, 0.33800553, 0.85965022,\n",
       "         0.85965022, 0.18113707, 0.18113707, 0.31418469, 0.31418469,\n",
       "         0.69886683, 0.69886683, 0.48602703, 0.48602703, 0.44480049,\n",
       "         0.44480049, 0.88225158, 0.88225158, 0.34180869, 0.34180869,\n",
       "         0.89053069, 0.89053069, 0.3907369 , 0.3907369 , 0.03180354,\n",
       "         0.03180354, 0.45877795, 0.45877795, 0.69036928, 0.69036928])}}"
      ]
     },
     "execution_count": 1,
     "metadata": {},
     "output_type": "execute_result"
    }
   ],
   "source": [
    "ds = load_by_id(run_id_n)\n",
    "ds.get_parameter_data('x1')"
   ]
  },
  {
   "cell_type": "markdown",
   "metadata": {},
   "source": [
    "And a dataset stored as binary arrays"
   ]
  },
  {
   "cell_type": "code",
   "execution_count": 12,
   "metadata": {
    "execution": {
     "iopub.execute_input": "2021-04-02T10:00:04.168994Z",
     "iopub.status.busy": "2021-04-02T10:00:04.168440Z",
     "iopub.status.idle": "2021-04-02T10:00:04.226103Z",
     "shell.execute_reply": "2021-04-02T10:00:04.226602Z"
    },
    "scrolled": true
   },
   "outputs": [
    {
     "data": {
      "text/plain": [
       "{'x1': {'x1': array([[0.23364386],\n",
       "         [0.23364386],\n",
       "         [0.2689726 ],\n",
       "         [0.2689726 ],\n",
       "         [0.46903508],\n",
       "         [0.46903508],\n",
       "         [0.20377606],\n",
       "         [0.20377606],\n",
       "         [0.22923897],\n",
       "         [0.22923897],\n",
       "         [0.75569549],\n",
       "         [0.75569549],\n",
       "         [0.82996523],\n",
       "         [0.82996523],\n",
       "         [0.68534532],\n",
       "         [0.68534532],\n",
       "         [0.7424488 ],\n",
       "         [0.7424488 ],\n",
       "         [0.283229  ],\n",
       "         [0.283229  ],\n",
       "         [0.86393467],\n",
       "         [0.86393467],\n",
       "         [0.58037244],\n",
       "         [0.58037244],\n",
       "         [0.22618315],\n",
       "         [0.22618315],\n",
       "         [0.09869948],\n",
       "         [0.09869948],\n",
       "         [0.45310825],\n",
       "         [0.45310825],\n",
       "         [0.25167431],\n",
       "         [0.25167431],\n",
       "         [0.19468066],\n",
       "         [0.19468066],\n",
       "         [0.98629359],\n",
       "         [0.98629359],\n",
       "         [0.57324763],\n",
       "         [0.57324763],\n",
       "         [0.92203347],\n",
       "         [0.92203347],\n",
       "         [0.85955548],\n",
       "         [0.85955548],\n",
       "         [0.2855398 ],\n",
       "         [0.2855398 ],\n",
       "         [0.64389105],\n",
       "         [0.64389105],\n",
       "         [0.84240689],\n",
       "         [0.84240689],\n",
       "         [0.49586134],\n",
       "         [0.49586134],\n",
       "         [0.92387339],\n",
       "         [0.92387339],\n",
       "         [0.95055083],\n",
       "         [0.95055083],\n",
       "         [0.5938727 ],\n",
       "         [0.5938727 ],\n",
       "         [0.04455355],\n",
       "         [0.04455355],\n",
       "         [0.49702797],\n",
       "         [0.49702797],\n",
       "         [0.29942376],\n",
       "         [0.29942376],\n",
       "         [0.43755753],\n",
       "         [0.43755753],\n",
       "         [0.89689322],\n",
       "         [0.89689322],\n",
       "         [0.69348847],\n",
       "         [0.69348847],\n",
       "         [0.37171172],\n",
       "         [0.37171172],\n",
       "         [0.97908978],\n",
       "         [0.97908978],\n",
       "         [0.76254744],\n",
       "         [0.76254744],\n",
       "         [0.06384346],\n",
       "         [0.06384346],\n",
       "         [0.82422857],\n",
       "         [0.82422857],\n",
       "         [0.06942832],\n",
       "         [0.06942832],\n",
       "         [0.62160061],\n",
       "         [0.62160061],\n",
       "         [0.76090319],\n",
       "         [0.76090319],\n",
       "         [0.21592419],\n",
       "         [0.21592419],\n",
       "         [0.13941555],\n",
       "         [0.13941555],\n",
       "         [0.14948636],\n",
       "         [0.14948636],\n",
       "         [0.26763381],\n",
       "         [0.26763381],\n",
       "         [0.71086416],\n",
       "         [0.71086416],\n",
       "         [0.9835622 ],\n",
       "         [0.9835622 ],\n",
       "         [0.19356561],\n",
       "         [0.19356561],\n",
       "         [0.66968294],\n",
       "         [0.66968294],\n",
       "         [0.41155973],\n",
       "         [0.41155973],\n",
       "         [0.39413871],\n",
       "         [0.39413871],\n",
       "         [0.61636963],\n",
       "         [0.61636963],\n",
       "         [0.13289366],\n",
       "         [0.13289366],\n",
       "         [0.22116601],\n",
       "         [0.22116601],\n",
       "         [0.398564  ],\n",
       "         [0.398564  ],\n",
       "         [0.00907925],\n",
       "         [0.00907925],\n",
       "         [0.03118511],\n",
       "         [0.03118511],\n",
       "         [0.84369645],\n",
       "         [0.84369645],\n",
       "         [0.81952871],\n",
       "         [0.81952871],\n",
       "         [0.3448211 ],\n",
       "         [0.3448211 ],\n",
       "         [0.28503856],\n",
       "         [0.28503856],\n",
       "         [0.82964362],\n",
       "         [0.82964362],\n",
       "         [0.59600129],\n",
       "         [0.59600129],\n",
       "         [0.76677441],\n",
       "         [0.76677441],\n",
       "         [0.67201985],\n",
       "         [0.67201985],\n",
       "         [0.89925166],\n",
       "         [0.89925166],\n",
       "         [0.63540919],\n",
       "         [0.63540919],\n",
       "         [0.17948804],\n",
       "         [0.17948804],\n",
       "         [0.80016087],\n",
       "         [0.80016087],\n",
       "         [0.73795173],\n",
       "         [0.73795173],\n",
       "         [0.01398555],\n",
       "         [0.01398555],\n",
       "         [0.83165768],\n",
       "         [0.83165768],\n",
       "         [0.24758922],\n",
       "         [0.24758922],\n",
       "         [0.23158362],\n",
       "         [0.23158362],\n",
       "         [0.29585207],\n",
       "         [0.29585207],\n",
       "         [0.8704712 ],\n",
       "         [0.8704712 ],\n",
       "         [0.41549638],\n",
       "         [0.41549638],\n",
       "         [0.81938875],\n",
       "         [0.81938875],\n",
       "         [0.6774825 ],\n",
       "         [0.6774825 ],\n",
       "         [0.21173831],\n",
       "         [0.21173831],\n",
       "         [0.79482011],\n",
       "         [0.79482011],\n",
       "         [0.80972681],\n",
       "         [0.80972681],\n",
       "         [0.71249878],\n",
       "         [0.71249878],\n",
       "         [0.92487089],\n",
       "         [0.92487089],\n",
       "         [0.6178871 ],\n",
       "         [0.6178871 ],\n",
       "         [0.47538384],\n",
       "         [0.47538384],\n",
       "         [0.8463831 ],\n",
       "         [0.8463831 ],\n",
       "         [0.41425182],\n",
       "         [0.41425182],\n",
       "         [0.21115465],\n",
       "         [0.21115465],\n",
       "         [0.75792215],\n",
       "         [0.75792215],\n",
       "         [0.30700122],\n",
       "         [0.30700122],\n",
       "         [0.02283049],\n",
       "         [0.02283049],\n",
       "         [0.16473852],\n",
       "         [0.16473852],\n",
       "         [0.36591491],\n",
       "         [0.36591491],\n",
       "         [0.1234528 ],\n",
       "         [0.1234528 ],\n",
       "         [0.99819351],\n",
       "         [0.99819351],\n",
       "         [0.396018  ],\n",
       "         [0.396018  ],\n",
       "         [0.06411723],\n",
       "         [0.06411723],\n",
       "         [0.90966403],\n",
       "         [0.90966403]])}}"
      ]
     },
     "execution_count": 1,
     "metadata": {},
     "output_type": "execute_result"
    }
   ],
   "source": [
    "ds = load_by_id(run_id_a)\n",
    "ds.get_parameter_data('x1')"
   ]
  },
  {
   "cell_type": "code",
   "execution_count": null,
   "metadata": {},
   "outputs": [],
   "source": []
  }
 ],
 "metadata": {
  "kernelspec": {
   "display_name": "Python 3",
   "language": "python",
   "name": "python3"
  },
  "language_info": {
   "codemirror_mode": {
    "name": "ipython",
    "version": 3
   },
   "file_extension": ".py",
   "mimetype": "text/x-python",
   "name": "python",
   "nbconvert_exporter": "python",
   "pygments_lexer": "ipython3",
   "version": "3.7.10"
  },
  "nbsphinx": {
   "timeout": 600
  },
  "toc": {
   "base_numbering": 1,
   "nav_menu": {},
   "number_sections": true,
   "sideBar": true,
   "skip_h1_title": false,
   "title_cell": "Table of Contents",
   "title_sidebar": "Contents",
   "toc_cell": false,
   "toc_position": {},
   "toc_section_display": true,
   "toc_window_display": false
  },
  "varInspector": {
   "cols": {
    "lenName": 16,
    "lenType": 16,
    "lenVar": 40
   },
   "kernels_config": {
    "python": {
     "delete_cmd_postfix": "",
     "delete_cmd_prefix": "del ",
     "library": "var_list.py",
     "varRefreshCmd": "print(var_dic_list())"
    },
    "r": {
     "delete_cmd_postfix": ") ",
     "delete_cmd_prefix": "rm(",
     "library": "var_list.r",
     "varRefreshCmd": "cat(var_dic_list()) "
    }
   },
   "types_to_exclude": [
    "module",
    "function",
    "builtin_function_or_method",
    "instance",
    "_Feature"
   ],
   "window_display": false
  }
 },
 "nbformat": 4,
 "nbformat_minor": 2
}
