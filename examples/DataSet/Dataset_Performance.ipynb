{
 "cells": [
  {
   "cell_type": "markdown",
   "metadata": {},
   "source": [
    "# DataSet Performance\n",
    "\n",
    "This notebook shows the trade-off between inserting data into a database row-by-row and as binary blobs. Inserting the data row-by-row means that we have direct access to all the data and may perform queries directly on the values of the data. On the other hand, as we shall see, this is much slower than inserting the data directly as binary blobs."
   ]
  },
  {
   "cell_type": "markdown",
   "metadata": {},
   "source": [
    "First, we choose a new location for the database to ensure that we don't add a bunch of benchmarking data to the default one."
   ]
  },
  {
   "cell_type": "code",
   "execution_count": 1,
   "metadata": {
    "execution": {
     "iopub.execute_input": "2021-01-13T17:09:51.721207Z",
     "iopub.status.busy": "2021-01-13T17:09:51.720782Z",
     "iopub.status.idle": "2021-01-13T17:09:52.616703Z",
     "shell.execute_reply": "2021-01-13T17:09:52.616141Z"
    }
   },
   "outputs": [
    {
     "name": "stdout",
     "output_type": "stream",
     "text": [
      "Logging hadn't been started.\n",
      "Activating auto-logging. Current session state plus future input saved.\n",
      "Filename       : /home/vsts/.qcodes/logs/command_history.log\n",
      "Mode           : append\n",
      "Output logging : True\n",
      "Raw input log  : False\n",
      "Timestamping   : True\n",
      "State          : active\n"
     ]
    },
    {
     "name": "stdout",
     "output_type": "stream",
     "text": [
      "Qcodes Logfile : /home/vsts/.qcodes/logs/210113-13190-qcodes.log\n"
     ]
    }
   ],
   "source": [
    "import os\n",
    "cwd = os.getcwd()\n",
    "import qcodes as qc\n",
    "qc.config[\"core\"][\"db_location\"] = os.path.join(cwd, 'testing.db')\n"
   ]
  },
  {
   "cell_type": "code",
   "execution_count": 2,
   "metadata": {
    "execution": {
     "iopub.execute_input": "2021-01-13T17:09:52.623674Z",
     "iopub.status.busy": "2021-01-13T17:09:52.621810Z",
     "iopub.status.idle": "2021-01-13T17:09:52.783058Z",
     "shell.execute_reply": "2021-01-13T17:09:52.782272Z"
    }
   },
   "outputs": [],
   "source": [
    "%matplotlib inline\n",
    "import time\n",
    "import matplotlib.pyplot as plt\n",
    "import numpy as np\n",
    "\n",
    "import qcodes as qc\n",
    "from qcodes.instrument.parameter import ManualParameter\n",
    "from qcodes.dataset.experiment_container import (Experiment,\n",
    "                                                 load_last_experiment,\n",
    "                                                 new_experiment)\n",
    "from qcodes.dataset.sqlite.database import initialise_database\n",
    "from qcodes import load_or_create_experiment\n",
    "from qcodes.dataset.measurements import Measurement"
   ]
  },
  {
   "cell_type": "code",
   "execution_count": 3,
   "metadata": {
    "execution": {
     "iopub.execute_input": "2021-01-13T17:09:52.786242Z",
     "iopub.status.busy": "2021-01-13T17:09:52.785807Z",
     "iopub.status.idle": "2021-01-13T17:09:52.879671Z",
     "shell.execute_reply": "2021-01-13T17:09:52.880143Z"
    }
   },
   "outputs": [
    {
     "name": "stdout",
     "output_type": "stream",
     "text": [
      "\r",
      "0it [00:00, ?it/s]"
     ]
    },
    {
     "name": "stdout",
     "output_type": "stream",
     "text": [
      "\r",
      "Upgrading database; v0 -> v1: : 0it [00:00, ?it/s]"
     ]
    },
    {
     "name": "stdout",
     "output_type": "stream",
     "text": [
      "\r",
      "Upgrading database; v0 -> v1: : 0it [00:00, ?it/s]"
     ]
    },
    {
     "name": "stdout",
     "output_type": "stream",
     "text": [
      "\n",
      "\r",
      "  0%|          | 0/1 [00:00<?, ?it/s]"
     ]
    },
    {
     "name": "stdout",
     "output_type": "stream",
     "text": [
      "\r",
      "Upgrading database; v1 -> v2:   0%|          | 0/1 [00:00<?, ?it/s]"
     ]
    },
    {
     "name": "stdout",
     "output_type": "stream",
     "text": [
      "\r",
      "Upgrading database; v1 -> v2: 100%|██████████| 1/1 [00:00<00:00, 1344.76it/s]"
     ]
    },
    {
     "name": "stdout",
     "output_type": "stream",
     "text": [
      "\n",
      "\r",
      "0it [00:00, ?it/s]"
     ]
    },
    {
     "name": "stdout",
     "output_type": "stream",
     "text": [
      "\r",
      "Upgrading database; v2 -> v3: : 0it [00:00, ?it/s]"
     ]
    },
    {
     "name": "stdout",
     "output_type": "stream",
     "text": [
      "\r",
      "Upgrading database; v2 -> v3: : 0it [00:00, ?it/s]"
     ]
    },
    {
     "name": "stdout",
     "output_type": "stream",
     "text": [
      "\n",
      "\r",
      "0it [00:00, ?it/s]"
     ]
    },
    {
     "name": "stdout",
     "output_type": "stream",
     "text": [
      "\r",
      "Upgrading database; v3 -> v4: : 0it [00:00, ?it/s]"
     ]
    },
    {
     "name": "stdout",
     "output_type": "stream",
     "text": [
      "\r",
      "Upgrading database; v3 -> v4: : 0it [00:00, ?it/s]"
     ]
    },
    {
     "name": "stdout",
     "output_type": "stream",
     "text": [
      "\n",
      "\r",
      "  0%|          | 0/1 [00:00<?, ?it/s]"
     ]
    },
    {
     "name": "stdout",
     "output_type": "stream",
     "text": [
      "\r",
      "Upgrading database; v4 -> v5:   0%|          | 0/1 [00:00<?, ?it/s]"
     ]
    },
    {
     "name": "stdout",
     "output_type": "stream",
     "text": [
      "\r",
      "Upgrading database; v4 -> v5: 100%|██████████| 1/1 [00:00<00:00, 531.06it/s]"
     ]
    },
    {
     "name": "stdout",
     "output_type": "stream",
     "text": [
      "\n",
      "\r",
      "0it [00:00, ?it/s]"
     ]
    },
    {
     "name": "stdout",
     "output_type": "stream",
     "text": [
      "\r",
      "Upgrading database; v5 -> v6: : 0it [00:00, ?it/s]"
     ]
    },
    {
     "name": "stdout",
     "output_type": "stream",
     "text": [
      "\r",
      "Upgrading database; v5 -> v6: : 0it [00:00, ?it/s]"
     ]
    },
    {
     "name": "stdout",
     "output_type": "stream",
     "text": [
      "\n",
      "\r",
      "  0%|          | 0/1 [00:00<?, ?it/s]"
     ]
    },
    {
     "name": "stdout",
     "output_type": "stream",
     "text": [
      "\r",
      "Upgrading database; v6 -> v7:   0%|          | 0/1 [00:00<?, ?it/s]"
     ]
    },
    {
     "name": "stdout",
     "output_type": "stream",
     "text": [
      "\r",
      "Upgrading database; v6 -> v7: 100%|██████████| 1/1 [00:00<00:00, 338.82it/s]"
     ]
    },
    {
     "name": "stdout",
     "output_type": "stream",
     "text": [
      "\n",
      "\r",
      "  0%|          | 0/1 [00:00<?, ?it/s]"
     ]
    },
    {
     "name": "stdout",
     "output_type": "stream",
     "text": [
      "\r",
      "Upgrading database; v7 -> v8:   0%|          | 0/1 [00:00<?, ?it/s]"
     ]
    },
    {
     "name": "stdout",
     "output_type": "stream",
     "text": [
      "\r",
      "Upgrading database; v7 -> v8: 100%|██████████| 1/1 [00:00<00:00, 528.05it/s]"
     ]
    },
    {
     "name": "stdout",
     "output_type": "stream",
     "text": [
      "\n",
      "\r",
      "  0%|          | 0/1 [00:00<?, ?it/s]"
     ]
    },
    {
     "name": "stdout",
     "output_type": "stream",
     "text": [
      "\r",
      "Upgrading database; v8 -> v9:   0%|          | 0/1 [00:00<?, ?it/s]"
     ]
    },
    {
     "name": "stdout",
     "output_type": "stream",
     "text": [
      "\r",
      "Upgrading database; v8 -> v9: 100%|██████████| 1/1 [00:00<00:00, 572.60it/s]"
     ]
    },
    {
     "name": "stdout",
     "output_type": "stream",
     "text": [
      "\n"
     ]
    }
   ],
   "source": [
    "initialise_database()\n",
    "exp = load_or_create_experiment(experiment_name='tutorial_exp', sample_name=\"no sample\")"
   ]
  },
  {
   "cell_type": "markdown",
   "metadata": {},
   "source": [
    "Here, we define a simple function to benchmark the time it takes to insert n points with either numeric or array data type.\n",
    "We will compare both the time used to call ``add_result`` and the time used for the full measurement."
   ]
  },
  {
   "cell_type": "code",
   "execution_count": 4,
   "metadata": {
    "execution": {
     "iopub.execute_input": "2021-01-13T17:09:52.887751Z",
     "iopub.status.busy": "2021-01-13T17:09:52.887249Z",
     "iopub.status.idle": "2021-01-13T17:09:52.890350Z",
     "shell.execute_reply": "2021-01-13T17:09:52.889951Z"
    }
   },
   "outputs": [],
   "source": [
    "def insert_data(paramtype, npoints, nreps=1):\n",
    "\n",
    "    meas = Measurement(exp=exp)\n",
    "\n",
    "    x1 = ManualParameter('x1')\n",
    "    x2 = ManualParameter('x2')\n",
    "    x3 = ManualParameter('x3')\n",
    "    y1 = ManualParameter('y1')\n",
    "    y2 = ManualParameter('y2')\n",
    "\n",
    "    meas.register_parameter(x1, paramtype=paramtype)\n",
    "    meas.register_parameter(x2, paramtype=paramtype)\n",
    "    meas.register_parameter(x3, paramtype=paramtype)\n",
    "    meas.register_parameter(y1, setpoints=[x1, x2, x3],\n",
    "                            paramtype=paramtype)\n",
    "    meas.register_parameter(y2, setpoints=[x1, x2, x3],\n",
    "                            paramtype=paramtype)\n",
    "    start = time.perf_counter()\n",
    "    with meas.run() as datasaver:\n",
    "        start_adding = time.perf_counter()\n",
    "        for i in range(nreps):\n",
    "            datasaver.add_result((x1, np.random.rand(npoints)),\n",
    "                                 (x2, np.random.rand(npoints)),\n",
    "                                 (x3, np.random.rand(npoints)),\n",
    "                                 (y1, np.random.rand(npoints)),\n",
    "                                 (y2, np.random.rand(npoints)))\n",
    "        stop_adding = time.perf_counter()\n",
    "        run_id = datasaver.run_id\n",
    "    stop = time.perf_counter()\n",
    "    tot_time = stop - start\n",
    "    add_time = stop_adding - start_adding\n",
    "    return tot_time, add_time, run_id"
   ]
  },
  {
   "cell_type": "markdown",
   "metadata": {},
   "source": [
    "## Comparison between numeric/array data and binary blob"
   ]
  },
  {
   "cell_type": "markdown",
   "metadata": {},
   "source": [
    "### Case1: Short experiment time"
   ]
  },
  {
   "cell_type": "code",
   "execution_count": 5,
   "metadata": {
    "execution": {
     "iopub.execute_input": "2021-01-13T17:09:52.895694Z",
     "iopub.status.busy": "2021-01-13T17:09:52.894634Z",
     "iopub.status.idle": "2021-01-13T17:09:53.586172Z",
     "shell.execute_reply": "2021-01-13T17:09:53.585442Z"
    }
   },
   "outputs": [
    {
     "name": "stdout",
     "output_type": "stream",
     "text": [
      "Starting experimental run with id: 1. \n",
      "Starting experimental run with id: 2. \n",
      "Starting experimental run with id: 3. \n",
      "Starting experimental run with id: 4. \n",
      "Starting experimental run with id: 5. \n",
      "Starting experimental run with id: 6. \n",
      "Starting experimental run with id: 7. \n"
     ]
    },
    {
     "name": "stdout",
     "output_type": "stream",
     "text": [
      "Starting experimental run with id: 8. \n"
     ]
    },
    {
     "name": "stdout",
     "output_type": "stream",
     "text": [
      "Starting experimental run with id: 9. \n",
      "Starting experimental run with id: 10. \n",
      "Starting experimental run with id: 11. \n"
     ]
    },
    {
     "name": "stdout",
     "output_type": "stream",
     "text": [
      "Starting experimental run with id: 12. \n",
      "Starting experimental run with id: 13. \n"
     ]
    },
    {
     "name": "stdout",
     "output_type": "stream",
     "text": [
      "Starting experimental run with id: 14. \n"
     ]
    }
   ],
   "source": [
    "sizes = [1,500,1000,2000,3000,4000,5000]\n",
    "t_numeric = []\n",
    "t_numeric_add = []\n",
    "t_array = []\n",
    "t_array_add = []\n",
    "for size in sizes:\n",
    "    tn, tna, run_id_n =  insert_data('numeric', size)\n",
    "    t_numeric.append(tn)\n",
    "    t_numeric_add.append(tna)\n",
    "\n",
    "    ta, taa, run_id_a =  insert_data('array', size)\n",
    "    t_array.append(ta)\n",
    "    t_array_add.append(taa)"
   ]
  },
  {
   "cell_type": "code",
   "execution_count": 6,
   "metadata": {
    "execution": {
     "iopub.execute_input": "2021-01-13T17:09:53.601820Z",
     "iopub.status.busy": "2021-01-13T17:09:53.595329Z",
     "iopub.status.idle": "2021-01-13T17:09:53.774124Z",
     "shell.execute_reply": "2021-01-13T17:09:53.773411Z"
    }
   },
   "outputs": [
    {
     "data": {
      "image/png": "[encoded data removed]",
      "text/plain": [
       "<Figure size 432x288 with 1 Axes>"
      ]
     },
     "metadata": {
      "needs_background": "light"
     },
     "output_type": "display_data"
    }
   ],
   "source": [
    "fig, ax = plt.subplots(1,1)\n",
    "ax.plot(sizes, t_numeric, 'o-', label='Inserting row-by-row')\n",
    "ax.plot(sizes, t_numeric_add, 'o-', label='Inserting row-by-row: add_result only')\n",
    "ax.plot(sizes, t_array, 'd-', label='Inserting as binary blob')\n",
    "ax.plot(sizes, t_array_add, 'd-', label='Inserting as binary blob: add_result only')\n",
    "ax.legend()\n",
    "ax.set_xlabel('Array length')\n",
    "ax.set_ylabel('Time (s)')\n",
    "fig.tight_layout()"
   ]
  },
  {
   "cell_type": "markdown",
   "metadata": {},
   "source": [
    "As shown in the latter figure, the time to setup and and close the experiment is approximately 0.4 sec. In case of small array sizes, the difference between inserting values of data as arrays and inserting them row-by-row is relatively unimportant. At larger array sizes, i.e. above 10000 points, the cost of writing data as individual datapoints starts to become important.\n"
   ]
  },
  {
   "cell_type": "markdown",
   "metadata": {},
   "source": [
    "### Case2: Long experiment time "
   ]
  },
  {
   "cell_type": "code",
   "execution_count": 7,
   "metadata": {
    "execution": {
     "iopub.execute_input": "2021-01-13T17:09:53.780522Z",
     "iopub.status.busy": "2021-01-13T17:09:53.780070Z",
     "iopub.status.idle": "2021-01-13T17:10:45.970808Z",
     "shell.execute_reply": "2021-01-13T17:10:45.970221Z"
    }
   },
   "outputs": [
    {
     "name": "stdout",
     "output_type": "stream",
     "text": [
      "Starting experimental run with id: 15. \n",
      "Starting experimental run with id: 16. \n",
      "Starting experimental run with id: 17. \n"
     ]
    },
    {
     "name": "stdout",
     "output_type": "stream",
     "text": [
      "Starting experimental run with id: 18. \n",
      "Starting experimental run with id: 19. \n"
     ]
    },
    {
     "name": "stdout",
     "output_type": "stream",
     "text": [
      "Starting experimental run with id: 20. \n"
     ]
    },
    {
     "name": "stdout",
     "output_type": "stream",
     "text": [
      "Starting experimental run with id: 21. \n"
     ]
    },
    {
     "name": "stdout",
     "output_type": "stream",
     "text": [
      "Starting experimental run with id: 22. \n"
     ]
    },
    {
     "name": "stdout",
     "output_type": "stream",
     "text": [
      "Starting experimental run with id: 23. \n"
     ]
    },
    {
     "name": "stdout",
     "output_type": "stream",
     "text": [
      "Starting experimental run with id: 24. \n"
     ]
    },
    {
     "name": "stdout",
     "output_type": "stream",
     "text": [
      "Starting experimental run with id: 25. \n"
     ]
    },
    {
     "name": "stdout",
     "output_type": "stream",
     "text": [
      "Starting experimental run with id: 26. \n"
     ]
    },
    {
     "name": "stdout",
     "output_type": "stream",
     "text": [
      "Starting experimental run with id: 27. \n"
     ]
    },
    {
     "name": "stdout",
     "output_type": "stream",
     "text": [
      "Starting experimental run with id: 28. \n"
     ]
    }
   ],
   "source": [
    "sizes = [1,500,1000,2000,3000,4000,5000]\n",
    "nreps = 100\n",
    "t_numeric = []\n",
    "t_numeric_add = []\n",
    "t_numeric_run_ids = []\n",
    "t_array = []\n",
    "t_array_add = []\n",
    "t_array_run_ids = []\n",
    "for size in sizes:\n",
    "    tn, tna, run_id_n =  insert_data('numeric', size, nreps=nreps)\n",
    "    t_numeric.append(tn)\n",
    "    t_numeric_add.append(tna)\n",
    "    t_numeric_run_ids.append(run_id_n)\n",
    "\n",
    "    ta, taa, run_id_a =  insert_data('array', size, nreps=nreps)\n",
    "    t_array.append(ta)\n",
    "    t_array_add.append(taa)\n",
    "    t_array_run_ids.append(run_id_a)"
   ]
  },
  {
   "cell_type": "code",
   "execution_count": 8,
   "metadata": {
    "execution": {
     "iopub.execute_input": "2021-01-13T17:10:46.005563Z",
     "iopub.status.busy": "2021-01-13T17:10:45.996998Z",
     "iopub.status.idle": "2021-01-13T17:10:46.149889Z",
     "shell.execute_reply": "2021-01-13T17:10:46.149476Z"
    },
    "scrolled": true
   },
   "outputs": [
    {
     "data": {
      "image/png": "[encoded data removed]",
      "text/plain": [
       "<Figure size 432x288 with 1 Axes>"
      ]
     },
     "metadata": {
      "needs_background": "light"
     },
     "output_type": "display_data"
    }
   ],
   "source": [
    "fig, ax = plt.subplots(1,1)\n",
    "ax.plot(sizes, t_numeric, 'o-', label='Inserting row-by-row')\n",
    "ax.plot(sizes, t_numeric_add, 'o-', label='Inserting row-by-row: add_result only')\n",
    "ax.plot(sizes, t_array, 'd-', label='Inserting as binary blob')\n",
    "ax.plot(sizes, t_array_add, 'd-', label='Inserting as binary blob: add_result only')\n",
    "ax.legend()\n",
    "ax.set_xlabel('Array length')\n",
    "ax.set_ylabel('Time (s)')\n",
    "fig.tight_layout()"
   ]
  },
  {
   "cell_type": "markdown",
   "metadata": {},
   "source": [
    "However, as we increase the length of the experiment, as seen here by repeating the insertion 100 times, we see a big difference between inserting values of the data row-by-row and inserting it as a binary blob."
   ]
  },
  {
   "cell_type": "markdown",
   "metadata": {},
   "source": [
    "## Loading the data "
   ]
  },
  {
   "cell_type": "code",
   "execution_count": 9,
   "metadata": {
    "execution": {
     "iopub.execute_input": "2021-01-13T17:10:46.153406Z",
     "iopub.status.busy": "2021-01-13T17:10:46.152563Z",
     "iopub.status.idle": "2021-01-13T17:10:46.155911Z",
     "shell.execute_reply": "2021-01-13T17:10:46.155444Z"
    }
   },
   "outputs": [],
   "source": [
    "from qcodes.dataset.data_set import load_by_id\n",
    "from qcodes.dataset.data_export import get_data_by_id"
   ]
  },
  {
   "cell_type": "markdown",
   "metadata": {},
   "source": [
    "As usual you can load the data by using the ``load_by_id`` function but you will notice that the different storage methods\n",
    "are reflected in shape of the data as it is retrieved. "
   ]
  },
  {
   "cell_type": "code",
   "execution_count": 10,
   "metadata": {
    "execution": {
     "iopub.execute_input": "2021-01-13T17:10:46.159925Z",
     "iopub.status.busy": "2021-01-13T17:10:46.158717Z",
     "iopub.status.idle": "2021-01-13T17:10:46.160371Z",
     "shell.execute_reply": "2021-01-13T17:10:46.160812Z"
    }
   },
   "outputs": [],
   "source": [
    "run_id_n = t_numeric_run_ids[0]\n",
    "run_id_a = t_array_run_ids[0]"
   ]
  },
  {
   "cell_type": "code",
   "execution_count": 11,
   "metadata": {
    "execution": {
     "iopub.execute_input": "2021-01-13T17:10:46.163512Z",
     "iopub.status.busy": "2021-01-13T17:10:46.163065Z",
     "iopub.status.idle": "2021-01-13T17:10:46.171289Z",
     "shell.execute_reply": "2021-01-13T17:10:46.170823Z"
    },
    "scrolled": true
   },
   "outputs": [
    {
     "data": {
      "text/plain": [
       "{'x1': {'x1': array([0.042357  , 0.042357  , 0.98197561, 0.98197561, 0.63094248,\n",
       "         0.63094248, 0.84002427, 0.84002427, 0.58423591, 0.58423591,\n",
       "         0.35293463, 0.35293463, 0.21819311, 0.21819311, 0.13113417,\n",
       "         0.13113417, 0.457319  , 0.457319  , 0.04083338, 0.04083338,\n",
       "         0.69510607, 0.69510607, 0.8665406 , 0.8665406 , 0.30352297,\n",
       "         0.30352297, 0.85523187, 0.85523187, 0.44453732, 0.44453732,\n",
       "         0.1520296 , 0.1520296 , 0.36303886, 0.36303886, 0.83187083,\n",
       "         0.83187083, 0.39727564, 0.39727564, 0.46543524, 0.46543524,\n",
       "         0.35286506, 0.35286506, 0.68989355, 0.68989355, 0.54417063,\n",
       "         0.54417063, 0.24859076, 0.24859076, 0.57704009, 0.57704009,\n",
       "         0.84473668, 0.84473668, 0.6188184 , 0.6188184 , 0.5758001 ,\n",
       "         0.5758001 , 0.38517215, 0.38517215, 0.09271415, 0.09271415,\n",
       "         0.01890103, 0.01890103, 0.10555534, 0.10555534, 0.83052548,\n",
       "         0.83052548, 0.36920488, 0.36920488, 0.64711855, 0.64711855,\n",
       "         0.28267779, 0.28267779, 0.01505272, 0.01505272, 0.09453098,\n",
       "         0.09453098, 0.31778502, 0.31778502, 0.52781838, 0.52781838,\n",
       "         0.2782819 , 0.2782819 , 0.73406219, 0.73406219, 0.09367773,\n",
       "         0.09367773, 0.89365349, 0.89365349, 0.50862545, 0.50862545,\n",
       "         0.57529444, 0.57529444, 0.65922438, 0.65922438, 0.3583289 ,\n",
       "         0.3583289 , 0.14903971, 0.14903971, 0.18167473, 0.18167473,\n",
       "         0.60934415, 0.60934415, 0.40273677, 0.40273677, 0.22320234,\n",
       "         0.22320234, 0.00805909, 0.00805909, 0.93299632, 0.93299632,\n",
       "         0.52334105, 0.52334105, 0.39509556, 0.39509556, 0.65327477,\n",
       "         0.65327477, 0.63395005, 0.63395005, 0.13733462, 0.13733462,\n",
       "         0.46996348, 0.46996348, 0.77321662, 0.77321662, 0.54271054,\n",
       "         0.54271054, 0.17179557, 0.17179557, 0.36000908, 0.36000908,\n",
       "         0.76387277, 0.76387277, 0.51889647, 0.51889647, 0.66480646,\n",
       "         0.66480646, 0.28099335, 0.28099335, 0.33100228, 0.33100228,\n",
       "         0.30104202, 0.30104202, 0.8898049 , 0.8898049 , 0.72648667,\n",
       "         0.72648667, 0.93536152, 0.93536152, 0.94920347, 0.94920347,\n",
       "         0.90014036, 0.90014036, 0.41068547, 0.41068547, 0.52957881,\n",
       "         0.52957881, 0.86453645, 0.86453645, 0.46975351, 0.46975351,\n",
       "         0.97367461, 0.97367461, 0.83481569, 0.83481569, 0.46981555,\n",
       "         0.46981555, 0.76346009, 0.76346009, 0.88502133, 0.88502133,\n",
       "         0.670323  , 0.670323  , 0.71747915, 0.71747915, 0.45166247,\n",
       "         0.45166247, 0.75520188, 0.75520188, 0.15430709, 0.15430709,\n",
       "         0.39824478, 0.39824478, 0.55153954, 0.55153954, 0.41948228,\n",
       "         0.41948228, 0.24774822, 0.24774822, 0.38158614, 0.38158614,\n",
       "         0.92511619, 0.92511619, 0.28648509, 0.28648509, 0.3074297 ,\n",
       "         0.3074297 , 0.25459157, 0.25459157, 0.10498674, 0.10498674])}}"
      ]
     },
     "execution_count": 1,
     "metadata": {},
     "output_type": "execute_result"
    }
   ],
   "source": [
    "ds = load_by_id(run_id_n)\n",
    "ds.get_parameter_data('x1')"
   ]
  },
  {
   "cell_type": "markdown",
   "metadata": {},
   "source": [
    "And a dataset stored as binary arrays"
   ]
  },
  {
   "cell_type": "code",
   "execution_count": 12,
   "metadata": {
    "execution": {
     "iopub.execute_input": "2021-01-13T17:10:46.174049Z",
     "iopub.status.busy": "2021-01-13T17:10:46.173619Z",
     "iopub.status.idle": "2021-01-13T17:10:46.219803Z",
     "shell.execute_reply": "2021-01-13T17:10:46.220275Z"
    },
    "scrolled": true
   },
   "outputs": [
    {
     "data": {
      "text/plain": [
       "{'x1': {'x1': array([[0.40845565],\n",
       "         [0.40845565],\n",
       "         [0.1745811 ],\n",
       "         [0.1745811 ],\n",
       "         [0.47669653],\n",
       "         [0.47669653],\n",
       "         [0.06392134],\n",
       "         [0.06392134],\n",
       "         [0.7572939 ],\n",
       "         [0.7572939 ],\n",
       "         [0.83418549],\n",
       "         [0.83418549],\n",
       "         [0.78114427],\n",
       "         [0.78114427],\n",
       "         [0.64941017],\n",
       "         [0.64941017],\n",
       "         [0.09083894],\n",
       "         [0.09083894],\n",
       "         [0.74895233],\n",
       "         [0.74895233],\n",
       "         [0.05656021],\n",
       "         [0.05656021],\n",
       "         [0.23609754],\n",
       "         [0.23609754],\n",
       "         [0.64309237],\n",
       "         [0.64309237],\n",
       "         [0.18667198],\n",
       "         [0.18667198],\n",
       "         [0.90443482],\n",
       "         [0.90443482],\n",
       "         [0.85269913],\n",
       "         [0.85269913],\n",
       "         [0.85577175],\n",
       "         [0.85577175],\n",
       "         [0.20198217],\n",
       "         [0.20198217],\n",
       "         [0.3878339 ],\n",
       "         [0.3878339 ],\n",
       "         [0.28931726],\n",
       "         [0.28931726],\n",
       "         [0.39314389],\n",
       "         [0.39314389],\n",
       "         [0.94559339],\n",
       "         [0.94559339],\n",
       "         [0.14554383],\n",
       "         [0.14554383],\n",
       "         [0.07210033],\n",
       "         [0.07210033],\n",
       "         [0.7989155 ],\n",
       "         [0.7989155 ],\n",
       "         [0.28905418],\n",
       "         [0.28905418],\n",
       "         [0.89525127],\n",
       "         [0.89525127],\n",
       "         [0.99571837],\n",
       "         [0.99571837],\n",
       "         [0.33725621],\n",
       "         [0.33725621],\n",
       "         [0.94342462],\n",
       "         [0.94342462],\n",
       "         [0.21993745],\n",
       "         [0.21993745],\n",
       "         [0.46883405],\n",
       "         [0.46883405],\n",
       "         [0.64868408],\n",
       "         [0.64868408],\n",
       "         [0.17516541],\n",
       "         [0.17516541],\n",
       "         [0.19349701],\n",
       "         [0.19349701],\n",
       "         [0.39236042],\n",
       "         [0.39236042],\n",
       "         [0.4322174 ],\n",
       "         [0.4322174 ],\n",
       "         [0.64095422],\n",
       "         [0.64095422],\n",
       "         [0.3273955 ],\n",
       "         [0.3273955 ],\n",
       "         [0.18987077],\n",
       "         [0.18987077],\n",
       "         [0.52308357],\n",
       "         [0.52308357],\n",
       "         [0.44048684],\n",
       "         [0.44048684],\n",
       "         [0.96569959],\n",
       "         [0.96569959],\n",
       "         [0.27750947],\n",
       "         [0.27750947],\n",
       "         [0.66801097],\n",
       "         [0.66801097],\n",
       "         [0.13064269],\n",
       "         [0.13064269],\n",
       "         [0.94779176],\n",
       "         [0.94779176],\n",
       "         [0.18236708],\n",
       "         [0.18236708],\n",
       "         [0.30810694],\n",
       "         [0.30810694],\n",
       "         [0.96795386],\n",
       "         [0.96795386],\n",
       "         [0.55111581],\n",
       "         [0.55111581],\n",
       "         [0.94356014],\n",
       "         [0.94356014],\n",
       "         [0.18646465],\n",
       "         [0.18646465],\n",
       "         [0.41952981],\n",
       "         [0.41952981],\n",
       "         [0.80854761],\n",
       "         [0.80854761],\n",
       "         [0.62971376],\n",
       "         [0.62971376],\n",
       "         [0.64919723],\n",
       "         [0.64919723],\n",
       "         [0.68250885],\n",
       "         [0.68250885],\n",
       "         [0.37019086],\n",
       "         [0.37019086],\n",
       "         [0.09387514],\n",
       "         [0.09387514],\n",
       "         [0.54440202],\n",
       "         [0.54440202],\n",
       "         [0.14899444],\n",
       "         [0.14899444],\n",
       "         [0.92556981],\n",
       "         [0.92556981],\n",
       "         [0.59681887],\n",
       "         [0.59681887],\n",
       "         [0.76989861],\n",
       "         [0.76989861],\n",
       "         [0.33122735],\n",
       "         [0.33122735],\n",
       "         [0.93625706],\n",
       "         [0.93625706],\n",
       "         [0.87454228],\n",
       "         [0.87454228],\n",
       "         [0.09692   ],\n",
       "         [0.09692   ],\n",
       "         [0.9524546 ],\n",
       "         [0.9524546 ],\n",
       "         [0.47769705],\n",
       "         [0.47769705],\n",
       "         [0.62228161],\n",
       "         [0.62228161],\n",
       "         [0.32811016],\n",
       "         [0.32811016],\n",
       "         [0.66414657],\n",
       "         [0.66414657],\n",
       "         [0.28208645],\n",
       "         [0.28208645],\n",
       "         [0.41769198],\n",
       "         [0.41769198],\n",
       "         [0.68752314],\n",
       "         [0.68752314],\n",
       "         [0.47191947],\n",
       "         [0.47191947],\n",
       "         [0.56318713],\n",
       "         [0.56318713],\n",
       "         [0.49212092],\n",
       "         [0.49212092],\n",
       "         [0.4043285 ],\n",
       "         [0.4043285 ],\n",
       "         [0.31985258],\n",
       "         [0.31985258],\n",
       "         [0.55281302],\n",
       "         [0.55281302],\n",
       "         [0.85264285],\n",
       "         [0.85264285],\n",
       "         [0.64527169],\n",
       "         [0.64527169],\n",
       "         [0.90323232],\n",
       "         [0.90323232],\n",
       "         [0.77391386],\n",
       "         [0.77391386],\n",
       "         [0.36196925],\n",
       "         [0.36196925],\n",
       "         [0.31887618],\n",
       "         [0.31887618],\n",
       "         [0.58265804],\n",
       "         [0.58265804],\n",
       "         [0.5794739 ],\n",
       "         [0.5794739 ],\n",
       "         [0.96511412],\n",
       "         [0.96511412],\n",
       "         [0.63235091],\n",
       "         [0.63235091],\n",
       "         [0.37558614],\n",
       "         [0.37558614],\n",
       "         [0.07176604],\n",
       "         [0.07176604],\n",
       "         [0.53759686],\n",
       "         [0.53759686],\n",
       "         [0.8648561 ],\n",
       "         [0.8648561 ],\n",
       "         [0.9759048 ],\n",
       "         [0.9759048 ],\n",
       "         [0.76269084],\n",
       "         [0.76269084],\n",
       "         [0.04708327],\n",
       "         [0.04708327]])}}"
      ]
     },
     "execution_count": 1,
     "metadata": {},
     "output_type": "execute_result"
    }
   ],
   "source": [
    "ds = load_by_id(run_id_a)\n",
    "ds.get_parameter_data('x1')"
   ]
  },
  {
   "cell_type": "code",
   "execution_count": null,
   "metadata": {},
   "outputs": [],
   "source": []
  }
 ],
 "metadata": {
  "kernelspec": {
   "display_name": "Python 3",
   "language": "python",
   "name": "python3"
  },
  "language_info": {
   "codemirror_mode": {
    "name": "ipython",
    "version": 3
   },
   "file_extension": ".py",
   "mimetype": "text/x-python",
   "name": "python",
   "nbconvert_exporter": "python",
   "pygments_lexer": "ipython3",
   "version": "3.7.9"
  },
  "nbsphinx": {
   "timeout": 600
  },
  "toc": {
   "base_numbering": 1,
   "nav_menu": {},
   "number_sections": true,
   "sideBar": true,
   "skip_h1_title": false,
   "title_cell": "Table of Contents",
   "title_sidebar": "Contents",
   "toc_cell": false,
   "toc_position": {},
   "toc_section_display": true,
   "toc_window_display": false
  },
  "varInspector": {
   "cols": {
    "lenName": 16,
    "lenType": 16,
    "lenVar": 40
   },
   "kernels_config": {
    "python": {
     "delete_cmd_postfix": "",
     "delete_cmd_prefix": "del ",
     "library": "var_list.py",
     "varRefreshCmd": "print(var_dic_list())"
    },
    "r": {
     "delete_cmd_postfix": ") ",
     "delete_cmd_prefix": "rm(",
     "library": "var_list.r",
     "varRefreshCmd": "cat(var_dic_list()) "
    }
   },
   "types_to_exclude": [
    "module",
    "function",
    "builtin_function_or_method",
    "instance",
    "_Feature"
   ],
   "window_display": false
  }
 },
 "nbformat": 4,
 "nbformat_minor": 2
}
