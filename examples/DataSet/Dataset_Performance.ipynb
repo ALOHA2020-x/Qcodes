{
 "cells": [
  {
   "cell_type": "markdown",
   "metadata": {},
   "source": [
    "# DataSet Performance\n",
    "\n",
    "This notebook shows the trade-off between inserting data into a database row-by-row and as binary blobs. Inserting the data row-by-row means that we have direct access to all the data and may perform queries directly on the values of the data. On the other hand, as we shall see, this is much slower than inserting the data directly as binary blobs."
   ]
  },
  {
   "cell_type": "markdown",
   "metadata": {},
   "source": [
    "First, we choose a new location for the database to ensure that we don't add a bunch of benchmarking data to the default one."
   ]
  },
  {
   "cell_type": "code",
   "execution_count": 1,
   "metadata": {},
   "outputs": [
    {
     "name": "stdout",
     "output_type": "stream",
     "text": [
      "Logging hadn't been started.\n",
      "Activating auto-logging. Current session state plus future input saved.\n",
      "Filename       : /home/vsts/.qcodes/logs/command_history.log\n",
      "Mode           : append\n",
      "Output logging : True\n",
      "Raw input log  : False\n",
      "Timestamping   : True\n",
      "State          : active\n"
     ]
    },
    {
     "name": "stdout",
     "output_type": "stream",
     "text": [
      "Qcodes Logfile : /home/vsts/.qcodes/logs/200720-19245-qcodes.log\n"
     ]
    }
   ],
   "source": [
    "import os\n",
    "cwd = os.getcwd()\n",
    "import qcodes as qc\n",
    "qc.config[\"core\"][\"db_location\"] = os.path.join(cwd, 'testing.db')\n"
   ]
  },
  {
   "cell_type": "code",
   "execution_count": 2,
   "metadata": {},
   "outputs": [],
   "source": [
    "%matplotlib inline\n",
    "import time\n",
    "import matplotlib.pyplot as plt\n",
    "import numpy as np\n",
    "\n",
    "import qcodes as qc\n",
    "from qcodes.instrument.parameter import ManualParameter\n",
    "from qcodes.dataset.experiment_container import (Experiment,\n",
    "                                                 load_last_experiment,\n",
    "                                                 new_experiment)\n",
    "from qcodes.dataset.sqlite.database import initialise_database\n",
    "from qcodes import load_or_create_experiment\n",
    "from qcodes.dataset.measurements import Measurement"
   ]
  },
  {
   "cell_type": "code",
   "execution_count": 3,
   "metadata": {},
   "outputs": [
    {
     "name": "stdout",
     "output_type": "stream",
     "text": [
      "\r",
      "0it [00:00, ?it/s]"
     ]
    },
    {
     "name": "stdout",
     "output_type": "stream",
     "text": [
      "\r",
      "Upgrading database; v0 -> v1: : 0it [00:00, ?it/s]"
     ]
    },
    {
     "name": "stdout",
     "output_type": "stream",
     "text": [
      "\r",
      "Upgrading database; v0 -> v1: : 0it [00:00, ?it/s]"
     ]
    },
    {
     "name": "stdout",
     "output_type": "stream",
     "text": [
      "\n",
      "\r",
      "  0%|          | 0/1 [00:00<?, ?it/s]"
     ]
    },
    {
     "name": "stdout",
     "output_type": "stream",
     "text": [
      "\r",
      "Upgrading database; v1 -> v2:   0%|          | 0/1 [00:00<?, ?it/s]"
     ]
    },
    {
     "name": "stdout",
     "output_type": "stream",
     "text": [
      "\r",
      "Upgrading database; v1 -> v2: 100%|██████████| 1/1 [00:00<00:00, 873.27it/s]"
     ]
    },
    {
     "name": "stdout",
     "output_type": "stream",
     "text": [
      "\n",
      "\r",
      "0it [00:00, ?it/s]"
     ]
    },
    {
     "name": "stdout",
     "output_type": "stream",
     "text": [
      "\r",
      "Upgrading database; v2 -> v3: : 0it [00:00, ?it/s]"
     ]
    },
    {
     "name": "stdout",
     "output_type": "stream",
     "text": [
      "\r",
      "Upgrading database; v2 -> v3: : 0it [00:00, ?it/s]"
     ]
    },
    {
     "name": "stdout",
     "output_type": "stream",
     "text": [
      "\n",
      "\r",
      "0it [00:00, ?it/s]"
     ]
    },
    {
     "name": "stdout",
     "output_type": "stream",
     "text": [
      "\r",
      "Upgrading database; v3 -> v4: : 0it [00:00, ?it/s]"
     ]
    },
    {
     "name": "stdout",
     "output_type": "stream",
     "text": [
      "\r",
      "Upgrading database; v3 -> v4: : 0it [00:00, ?it/s]"
     ]
    },
    {
     "name": "stdout",
     "output_type": "stream",
     "text": [
      "\n",
      "\r",
      "  0%|          | 0/1 [00:00<?, ?it/s]"
     ]
    },
    {
     "name": "stdout",
     "output_type": "stream",
     "text": [
      "\r",
      "Upgrading database; v4 -> v5:   0%|          | 0/1 [00:00<?, ?it/s]"
     ]
    },
    {
     "name": "stdout",
     "output_type": "stream",
     "text": [
      "\r",
      "Upgrading database; v4 -> v5: 100%|██████████| 1/1 [00:00<00:00, 892.79it/s]"
     ]
    },
    {
     "name": "stdout",
     "output_type": "stream",
     "text": [
      "\n",
      "\r",
      "0it [00:00, ?it/s]"
     ]
    },
    {
     "name": "stdout",
     "output_type": "stream",
     "text": [
      "\r",
      "Upgrading database; v5 -> v6: : 0it [00:00, ?it/s]"
     ]
    },
    {
     "name": "stdout",
     "output_type": "stream",
     "text": [
      "\r",
      "Upgrading database; v5 -> v6: : 0it [00:00, ?it/s]"
     ]
    },
    {
     "name": "stdout",
     "output_type": "stream",
     "text": [
      "\n",
      "\r",
      "  0%|          | 0/1 [00:00<?, ?it/s]"
     ]
    },
    {
     "name": "stdout",
     "output_type": "stream",
     "text": [
      "\r",
      "Upgrading database; v6 -> v7:   0%|          | 0/1 [00:00<?, ?it/s]"
     ]
    },
    {
     "name": "stdout",
     "output_type": "stream",
     "text": [
      "\r",
      "Upgrading database; v6 -> v7: 100%|██████████| 1/1 [00:00<00:00, 481.83it/s]"
     ]
    },
    {
     "name": "stdout",
     "output_type": "stream",
     "text": [
      "\n",
      "\r",
      "  0%|          | 0/1 [00:00<?, ?it/s]"
     ]
    },
    {
     "name": "stdout",
     "output_type": "stream",
     "text": [
      "\r",
      "Upgrading database; v7 -> v8:   0%|          | 0/1 [00:00<?, ?it/s]"
     ]
    },
    {
     "name": "stdout",
     "output_type": "stream",
     "text": [
      "\r",
      "Upgrading database; v7 -> v8: 100%|██████████| 1/1 [00:00<00:00, 878.20it/s]"
     ]
    },
    {
     "name": "stdout",
     "output_type": "stream",
     "text": [
      "\n",
      "\r",
      "  0%|          | 0/1 [00:00<?, ?it/s]"
     ]
    },
    {
     "name": "stdout",
     "output_type": "stream",
     "text": [
      "\r",
      "Upgrading database; v8 -> v9:   0%|          | 0/1 [00:00<?, ?it/s]"
     ]
    },
    {
     "name": "stdout",
     "output_type": "stream",
     "text": [
      "\r",
      "Upgrading database; v8 -> v9: 100%|██████████| 1/1 [00:00<00:00, 946.80it/s]"
     ]
    },
    {
     "name": "stdout",
     "output_type": "stream",
     "text": [
      "\n"
     ]
    }
   ],
   "source": [
    "initialise_database()\n",
    "exp = load_or_create_experiment(experiment_name='tutorial_exp', sample_name=\"no sample\")"
   ]
  },
  {
   "cell_type": "markdown",
   "metadata": {},
   "source": [
    "Here, we define a simple function to benchmark the time it takes to insert n points with either numeric or array data type.\n",
    "We will compare both the time used to call ``add_result`` and the time used for the full measurement."
   ]
  },
  {
   "cell_type": "code",
   "execution_count": 4,
   "metadata": {},
   "outputs": [],
   "source": [
    "def insert_data(paramtype, npoints, nreps=1):\n",
    "\n",
    "    meas = Measurement(exp=exp)\n",
    "\n",
    "    x1 = ManualParameter('x1')\n",
    "    x2 = ManualParameter('x2')\n",
    "    x3 = ManualParameter('x3')\n",
    "    y1 = ManualParameter('y1')\n",
    "    y2 = ManualParameter('y2')\n",
    "\n",
    "    meas.register_parameter(x1, paramtype=paramtype)\n",
    "    meas.register_parameter(x2, paramtype=paramtype)\n",
    "    meas.register_parameter(x3, paramtype=paramtype)\n",
    "    meas.register_parameter(y1, setpoints=[x1, x2, x3],\n",
    "                            paramtype=paramtype)\n",
    "    meas.register_parameter(y2, setpoints=[x1, x2, x3],\n",
    "                            paramtype=paramtype)\n",
    "    start = time.perf_counter()\n",
    "    with meas.run() as datasaver:\n",
    "        start_adding = time.perf_counter()\n",
    "        for i in range(nreps):\n",
    "            datasaver.add_result((x1, np.random.rand(npoints)),\n",
    "                                 (x2, np.random.rand(npoints)),\n",
    "                                 (x3, np.random.rand(npoints)),\n",
    "                                 (y1, np.random.rand(npoints)),\n",
    "                                 (y2, np.random.rand(npoints)))\n",
    "        stop_adding = time.perf_counter()\n",
    "        run_id = datasaver.run_id\n",
    "    stop = time.perf_counter()\n",
    "    tot_time = stop - start\n",
    "    add_time = stop_adding - start_adding\n",
    "    return tot_time, add_time, run_id"
   ]
  },
  {
   "cell_type": "markdown",
   "metadata": {},
   "source": [
    "## Comparison between numeric/array data and binary blob"
   ]
  },
  {
   "cell_type": "markdown",
   "metadata": {},
   "source": [
    "### Case1: Short experiment time"
   ]
  },
  {
   "cell_type": "code",
   "execution_count": 5,
   "metadata": {},
   "outputs": [
    {
     "name": "stdout",
     "output_type": "stream",
     "text": [
      "Starting experimental run with id: 1. \n",
      "Starting experimental run with id: 2. \n",
      "Starting experimental run with id: 3. \n"
     ]
    },
    {
     "name": "stdout",
     "output_type": "stream",
     "text": [
      "Starting experimental run with id: 4. \n"
     ]
    },
    {
     "name": "stdout",
     "output_type": "stream",
     "text": [
      "Starting experimental run with id: 5. \n"
     ]
    },
    {
     "name": "stdout",
     "output_type": "stream",
     "text": [
      "Starting experimental run with id: 6. \n",
      "Starting experimental run with id: 7. \n"
     ]
    },
    {
     "name": "stdout",
     "output_type": "stream",
     "text": [
      "Starting experimental run with id: 8. \n",
      "Starting experimental run with id: 9. \n"
     ]
    },
    {
     "name": "stdout",
     "output_type": "stream",
     "text": [
      "Starting experimental run with id: 10. \n",
      "Starting experimental run with id: 11. \n"
     ]
    },
    {
     "name": "stdout",
     "output_type": "stream",
     "text": [
      "Starting experimental run with id: 12. \n",
      "Starting experimental run with id: 13. \n"
     ]
    },
    {
     "name": "stdout",
     "output_type": "stream",
     "text": [
      "Starting experimental run with id: 14. \n"
     ]
    }
   ],
   "source": [
    "sizes = [1,500,1000,2000,3000,4000,5000]\n",
    "t_numeric = []\n",
    "t_numeric_add = []\n",
    "t_array = []\n",
    "t_array_add = []\n",
    "for size in sizes:\n",
    "    tn, tna, run_id_n =  insert_data('numeric', size)\n",
    "    t_numeric.append(tn)\n",
    "    t_numeric_add.append(tna)\n",
    "\n",
    "    ta, taa, run_id_a =  insert_data('array', size)\n",
    "    t_array.append(ta)\n",
    "    t_array_add.append(taa)"
   ]
  },
  {
   "cell_type": "code",
   "execution_count": 6,
   "metadata": {},
   "outputs": [
    {
     "data": {
      "image/png": "[encoded data removed]",
      "text/plain": [
       "<Figure size 432x288 with 1 Axes>"
      ]
     },
     "metadata": {
      "needs_background": "light"
     },
     "output_type": "display_data"
    }
   ],
   "source": [
    "fig, ax = plt.subplots(1,1)\n",
    "ax.plot(sizes, t_numeric, 'o-', label='Inserting row-by-row')\n",
    "ax.plot(sizes, t_numeric_add, 'o-', label='Inserting row-by-row: add_result only')\n",
    "ax.plot(sizes, t_array, 'd-', label='Inserting as binary blob')\n",
    "ax.plot(sizes, t_array_add, 'd-', label='Inserting as binary blob: add_result only')\n",
    "ax.legend()\n",
    "ax.set_xlabel('Array length')\n",
    "ax.set_ylabel('Time (s)')\n",
    "fig.tight_layout()"
   ]
  },
  {
   "cell_type": "markdown",
   "metadata": {},
   "source": [
    "As shown in the latter figure, the time to setup and and close the experiment is approximately 0.4 sec. In case of small array sizes, the difference between inserting values of data as arrays and inserting them row-by-row is relatively unimportant. At larger array sizes, i.e. above 10000 points, the cost of writing data as individual datapoints starts to become important.\n"
   ]
  },
  {
   "cell_type": "markdown",
   "metadata": {},
   "source": [
    "### Case2: Long experiment time "
   ]
  },
  {
   "cell_type": "code",
   "execution_count": 7,
   "metadata": {},
   "outputs": [
    {
     "name": "stdout",
     "output_type": "stream",
     "text": [
      "Starting experimental run with id: 15. \n",
      "Starting experimental run with id: 16. \n",
      "Starting experimental run with id: 17. \n"
     ]
    },
    {
     "name": "stdout",
     "output_type": "stream",
     "text": [
      "Starting experimental run with id: 18. \n",
      "Starting experimental run with id: 19. \n"
     ]
    },
    {
     "name": "stdout",
     "output_type": "stream",
     "text": [
      "Starting experimental run with id: 20. \n"
     ]
    },
    {
     "name": "stdout",
     "output_type": "stream",
     "text": [
      "Starting experimental run with id: 21. \n"
     ]
    },
    {
     "name": "stdout",
     "output_type": "stream",
     "text": [
      "Starting experimental run with id: 22. \n"
     ]
    },
    {
     "name": "stdout",
     "output_type": "stream",
     "text": [
      "Starting experimental run with id: 23. \n"
     ]
    },
    {
     "name": "stdout",
     "output_type": "stream",
     "text": [
      "Starting experimental run with id: 24. \n"
     ]
    },
    {
     "name": "stdout",
     "output_type": "stream",
     "text": [
      "Starting experimental run with id: 25. \n"
     ]
    },
    {
     "name": "stdout",
     "output_type": "stream",
     "text": [
      "Starting experimental run with id: 26. \n"
     ]
    },
    {
     "name": "stdout",
     "output_type": "stream",
     "text": [
      "Starting experimental run with id: 27. \n"
     ]
    },
    {
     "name": "stdout",
     "output_type": "stream",
     "text": [
      "Starting experimental run with id: 28. \n"
     ]
    }
   ],
   "source": [
    "sizes = [1,500,1000,2000,3000,4000,5000]\n",
    "nreps = 100\n",
    "t_numeric = []\n",
    "t_numeric_add = []\n",
    "t_numeric_run_ids = []\n",
    "t_array = []\n",
    "t_array_add = []\n",
    "t_array_run_ids = []\n",
    "for size in sizes:\n",
    "    tn, tna, run_id_n =  insert_data('numeric', size, nreps=nreps)\n",
    "    t_numeric.append(tn)\n",
    "    t_numeric_add.append(tna)\n",
    "    t_numeric_run_ids.append(run_id_n)\n",
    "\n",
    "    ta, taa, run_id_a =  insert_data('array', size, nreps=nreps)\n",
    "    t_array.append(ta)\n",
    "    t_array_add.append(taa)\n",
    "    t_array_run_ids.append(run_id_a)"
   ]
  },
  {
   "cell_type": "code",
   "execution_count": 8,
   "metadata": {
    "scrolled": true
   },
   "outputs": [
    {
     "data": {
      "image/png": "[encoded data removed]",
      "text/plain": [
       "<Figure size 432x288 with 1 Axes>"
      ]
     },
     "metadata": {
      "needs_background": "light"
     },
     "output_type": "display_data"
    }
   ],
   "source": [
    "fig, ax = plt.subplots(1,1)\n",
    "ax.plot(sizes, t_numeric, 'o-', label='Inserting row-by-row')\n",
    "ax.plot(sizes, t_numeric_add, 'o-', label='Inserting row-by-row: add_result only')\n",
    "ax.plot(sizes, t_array, 'd-', label='Inserting as binary blob')\n",
    "ax.plot(sizes, t_array_add, 'd-', label='Inserting as binary blob: add_result only')\n",
    "ax.legend()\n",
    "ax.set_xlabel('Array length')\n",
    "ax.set_ylabel('Time (s)')\n",
    "fig.tight_layout()"
   ]
  },
  {
   "cell_type": "markdown",
   "metadata": {},
   "source": [
    "However, as we increase the length of the experiment, as seen here by repeating the insertion 100 times, we see a big difference between inserting values of the data row-by-row and inserting it as a binary blob."
   ]
  },
  {
   "cell_type": "markdown",
   "metadata": {},
   "source": [
    "## Loading the data "
   ]
  },
  {
   "cell_type": "code",
   "execution_count": 9,
   "metadata": {},
   "outputs": [],
   "source": [
    "from qcodes.dataset.data_set import load_by_id\n",
    "from qcodes.dataset.data_export import get_data_by_id"
   ]
  },
  {
   "cell_type": "markdown",
   "metadata": {},
   "source": [
    "As usual you can load the data by using the ``load_by_id`` function but you will notice that the different storage methods\n",
    "are reflected in shape of the data as it is retrieved. "
   ]
  },
  {
   "cell_type": "code",
   "execution_count": 10,
   "metadata": {},
   "outputs": [],
   "source": [
    "run_id_n = t_numeric_run_ids[0]\n",
    "run_id_a = t_array_run_ids[0]"
   ]
  },
  {
   "cell_type": "code",
   "execution_count": 11,
   "metadata": {
    "scrolled": true
   },
   "outputs": [
    {
     "data": {
      "text/plain": [
       "{'x1': {'x1': array([0.21744422, 0.21744422, 0.14328794, 0.14328794, 0.08874178,\n",
       "         0.08874178, 0.77426624, 0.77426624, 0.69519961, 0.69519961,\n",
       "         0.53216334, 0.53216334, 0.4619787 , 0.4619787 , 0.53351419,\n",
       "         0.53351419, 0.0248254 , 0.0248254 , 0.7636385 , 0.7636385 ,\n",
       "         0.67265935, 0.67265935, 0.22732602, 0.22732602, 0.87965968,\n",
       "         0.87965968, 0.03599498, 0.03599498, 0.70892082, 0.70892082,\n",
       "         0.06093024, 0.06093024, 0.63829693, 0.63829693, 0.01883138,\n",
       "         0.01883138, 0.1421634 , 0.1421634 , 0.46709281, 0.46709281,\n",
       "         0.35553487, 0.35553487, 0.97458291, 0.97458291, 0.73506725,\n",
       "         0.73506725, 0.61622378, 0.61622378, 0.67760733, 0.67760733,\n",
       "         0.43010252, 0.43010252, 0.86359067, 0.86359067, 0.96036586,\n",
       "         0.96036586, 0.97521529, 0.97521529, 0.24472802, 0.24472802,\n",
       "         0.165058  , 0.165058  , 0.89183139, 0.89183139, 0.70187128,\n",
       "         0.70187128, 0.95443325, 0.95443325, 0.10609506, 0.10609506,\n",
       "         0.59498981, 0.59498981, 0.70729053, 0.70729053, 0.40267009,\n",
       "         0.40267009, 0.19805896, 0.19805896, 0.0195347 , 0.0195347 ,\n",
       "         0.89895904, 0.89895904, 0.86576157, 0.86576157, 0.85963944,\n",
       "         0.85963944, 0.91730104, 0.91730104, 0.33003578, 0.33003578,\n",
       "         0.49697371, 0.49697371, 0.26100584, 0.26100584, 0.65032234,\n",
       "         0.65032234, 0.02531166, 0.02531166, 0.34541136, 0.34541136,\n",
       "         0.62966416, 0.62966416, 0.64708729, 0.64708729, 0.0121122 ,\n",
       "         0.0121122 , 0.45996765, 0.45996765, 0.69246878, 0.69246878,\n",
       "         0.77062194, 0.77062194, 0.05541532, 0.05541532, 0.54628272,\n",
       "         0.54628272, 0.4058106 , 0.4058106 , 0.43518974, 0.43518974,\n",
       "         0.65845482, 0.65845482, 0.30481894, 0.30481894, 0.24243948,\n",
       "         0.24243948, 0.57749231, 0.57749231, 0.56817181, 0.56817181,\n",
       "         0.10806938, 0.10806938, 0.84004425, 0.84004425, 0.69329053,\n",
       "         0.69329053, 0.62644931, 0.62644931, 0.95191566, 0.95191566,\n",
       "         0.80453104, 0.80453104, 0.30016235, 0.30016235, 0.53560731,\n",
       "         0.53560731, 0.70121623, 0.70121623, 0.50637196, 0.50637196,\n",
       "         0.43978854, 0.43978854, 0.20060385, 0.20060385, 0.39000866,\n",
       "         0.39000866, 0.18553401, 0.18553401, 0.73645158, 0.73645158,\n",
       "         0.6319604 , 0.6319604 , 0.2110022 , 0.2110022 , 0.28421276,\n",
       "         0.28421276, 0.64138489, 0.64138489, 0.87627471, 0.87627471,\n",
       "         0.36549341, 0.36549341, 0.51078861, 0.51078861, 0.43507219,\n",
       "         0.43507219, 0.39798945, 0.39798945, 0.99511847, 0.99511847,\n",
       "         0.32424092, 0.32424092, 0.73433963, 0.73433963, 0.61909362,\n",
       "         0.61909362, 0.33838872, 0.33838872, 0.46654818, 0.46654818,\n",
       "         0.81255572, 0.81255572, 0.89755255, 0.89755255, 0.22389437,\n",
       "         0.22389437, 0.17620709, 0.17620709, 0.29513484, 0.29513484])}}"
      ]
     },
     "execution_count": 11,
     "metadata": {},
     "output_type": "execute_result"
    }
   ],
   "source": [
    "ds = load_by_id(run_id_n)\n",
    "ds.get_parameter_data('x1')"
   ]
  },
  {
   "cell_type": "markdown",
   "metadata": {},
   "source": [
    "And a dataset stored as binary arrays"
   ]
  },
  {
   "cell_type": "code",
   "execution_count": 12,
   "metadata": {
    "scrolled": true
   },
   "outputs": [
    {
     "data": {
      "text/plain": [
       "{'x1': {'x1': array([[0.7261804 ],\n",
       "         [0.7261804 ],\n",
       "         [0.97662006],\n",
       "         [0.97662006],\n",
       "         [0.04728139],\n",
       "         [0.04728139],\n",
       "         [0.3779166 ],\n",
       "         [0.3779166 ],\n",
       "         [0.01289819],\n",
       "         [0.01289819],\n",
       "         [0.6386653 ],\n",
       "         [0.6386653 ],\n",
       "         [0.3911314 ],\n",
       "         [0.3911314 ],\n",
       "         [0.56118512],\n",
       "         [0.56118512],\n",
       "         [0.76494928],\n",
       "         [0.76494928],\n",
       "         [0.60441194],\n",
       "         [0.60441194],\n",
       "         [0.48071585],\n",
       "         [0.48071585],\n",
       "         [0.21878804],\n",
       "         [0.21878804],\n",
       "         [0.51338539],\n",
       "         [0.51338539],\n",
       "         [0.13785779],\n",
       "         [0.13785779],\n",
       "         [0.59262646],\n",
       "         [0.59262646],\n",
       "         [0.00779463],\n",
       "         [0.00779463],\n",
       "         [0.77651709],\n",
       "         [0.77651709],\n",
       "         [0.2755428 ],\n",
       "         [0.2755428 ],\n",
       "         [0.81434454],\n",
       "         [0.81434454],\n",
       "         [0.41860148],\n",
       "         [0.41860148],\n",
       "         [0.17397142],\n",
       "         [0.17397142],\n",
       "         [0.11691945],\n",
       "         [0.11691945],\n",
       "         [0.99832848],\n",
       "         [0.99832848],\n",
       "         [0.4464813 ],\n",
       "         [0.4464813 ],\n",
       "         [0.31989651],\n",
       "         [0.31989651],\n",
       "         [0.38698893],\n",
       "         [0.38698893],\n",
       "         [0.44169744],\n",
       "         [0.44169744],\n",
       "         [0.42891622],\n",
       "         [0.42891622],\n",
       "         [0.20330326],\n",
       "         [0.20330326],\n",
       "         [0.58156543],\n",
       "         [0.58156543],\n",
       "         [0.88481444],\n",
       "         [0.88481444],\n",
       "         [0.13387254],\n",
       "         [0.13387254],\n",
       "         [0.10074421],\n",
       "         [0.10074421],\n",
       "         [0.45693232],\n",
       "         [0.45693232],\n",
       "         [0.08441498],\n",
       "         [0.08441498],\n",
       "         [0.82899624],\n",
       "         [0.82899624],\n",
       "         [0.38398025],\n",
       "         [0.38398025],\n",
       "         [0.40303174],\n",
       "         [0.40303174],\n",
       "         [0.84817564],\n",
       "         [0.84817564],\n",
       "         [0.5434827 ],\n",
       "         [0.5434827 ],\n",
       "         [0.89498788],\n",
       "         [0.89498788],\n",
       "         [0.0899305 ],\n",
       "         [0.0899305 ],\n",
       "         [0.38067618],\n",
       "         [0.38067618],\n",
       "         [0.40119664],\n",
       "         [0.40119664],\n",
       "         [0.91001479],\n",
       "         [0.91001479],\n",
       "         [0.09037634],\n",
       "         [0.09037634],\n",
       "         [0.20665896],\n",
       "         [0.20665896],\n",
       "         [0.40897293],\n",
       "         [0.40897293],\n",
       "         [0.93231133],\n",
       "         [0.93231133],\n",
       "         [0.40912883],\n",
       "         [0.40912883],\n",
       "         [0.85214501],\n",
       "         [0.85214501],\n",
       "         [0.44916562],\n",
       "         [0.44916562],\n",
       "         [0.11680769],\n",
       "         [0.11680769],\n",
       "         [0.62263133],\n",
       "         [0.62263133],\n",
       "         [0.33582024],\n",
       "         [0.33582024],\n",
       "         [0.83776063],\n",
       "         [0.83776063],\n",
       "         [0.5496563 ],\n",
       "         [0.5496563 ],\n",
       "         [0.35892531],\n",
       "         [0.35892531],\n",
       "         [0.25138853],\n",
       "         [0.25138853],\n",
       "         [0.18303842],\n",
       "         [0.18303842],\n",
       "         [0.70057381],\n",
       "         [0.70057381],\n",
       "         [0.46452303],\n",
       "         [0.46452303],\n",
       "         [0.0535847 ],\n",
       "         [0.0535847 ],\n",
       "         [0.9984809 ],\n",
       "         [0.9984809 ],\n",
       "         [0.60288752],\n",
       "         [0.60288752],\n",
       "         [0.64443604],\n",
       "         [0.64443604],\n",
       "         [0.40427319],\n",
       "         [0.40427319],\n",
       "         [0.24567814],\n",
       "         [0.24567814],\n",
       "         [0.48095499],\n",
       "         [0.48095499],\n",
       "         [0.55104749],\n",
       "         [0.55104749],\n",
       "         [0.82740163],\n",
       "         [0.82740163],\n",
       "         [0.19598103],\n",
       "         [0.19598103],\n",
       "         [0.0069863 ],\n",
       "         [0.0069863 ],\n",
       "         [0.19758585],\n",
       "         [0.19758585],\n",
       "         [0.04466981],\n",
       "         [0.04466981],\n",
       "         [0.61125142],\n",
       "         [0.61125142],\n",
       "         [0.42211559],\n",
       "         [0.42211559],\n",
       "         [0.78214997],\n",
       "         [0.78214997],\n",
       "         [0.38752121],\n",
       "         [0.38752121],\n",
       "         [0.21791904],\n",
       "         [0.21791904],\n",
       "         [0.00752011],\n",
       "         [0.00752011],\n",
       "         [0.41258903],\n",
       "         [0.41258903],\n",
       "         [0.67544612],\n",
       "         [0.67544612],\n",
       "         [0.74380777],\n",
       "         [0.74380777],\n",
       "         [0.31175823],\n",
       "         [0.31175823],\n",
       "         [0.53073328],\n",
       "         [0.53073328],\n",
       "         [0.8771654 ],\n",
       "         [0.8771654 ],\n",
       "         [0.47620273],\n",
       "         [0.47620273],\n",
       "         [0.61176366],\n",
       "         [0.61176366],\n",
       "         [0.27082835],\n",
       "         [0.27082835],\n",
       "         [0.42735705],\n",
       "         [0.42735705],\n",
       "         [0.13858108],\n",
       "         [0.13858108],\n",
       "         [0.89517891],\n",
       "         [0.89517891],\n",
       "         [0.88982004],\n",
       "         [0.88982004],\n",
       "         [0.25119424],\n",
       "         [0.25119424],\n",
       "         [0.37618009],\n",
       "         [0.37618009],\n",
       "         [0.20353324],\n",
       "         [0.20353324],\n",
       "         [0.25878884],\n",
       "         [0.25878884],\n",
       "         [0.71857173],\n",
       "         [0.71857173],\n",
       "         [0.64149079],\n",
       "         [0.64149079]])}}"
      ]
     },
     "execution_count": 12,
     "metadata": {},
     "output_type": "execute_result"
    }
   ],
   "source": [
    "ds = load_by_id(run_id_a)\n",
    "ds.get_parameter_data('x1')"
   ]
  },
  {
   "cell_type": "code",
   "execution_count": null,
   "metadata": {},
   "outputs": [],
   "source": []
  }
 ],
 "metadata": {
  "kernelspec": {
   "display_name": "Python 3",
   "language": "python",
   "name": "python3"
  },
  "language_info": {
   "codemirror_mode": {
    "name": "ipython",
    "version": 3
   },
   "file_extension": ".py",
   "mimetype": "text/x-python",
   "name": "python",
   "nbconvert_exporter": "python",
   "pygments_lexer": "ipython3",
   "version": "3.7.7"
  },
  "nbsphinx": {
   "timeout": 600
  },
  "toc": {
   "base_numbering": 1,
   "nav_menu": {},
   "number_sections": true,
   "sideBar": true,
   "skip_h1_title": false,
   "title_cell": "Table of Contents",
   "title_sidebar": "Contents",
   "toc_cell": false,
   "toc_position": {},
   "toc_section_display": true,
   "toc_window_display": false
  },
  "varInspector": {
   "cols": {
    "lenName": 16,
    "lenType": 16,
    "lenVar": 40
   },
   "kernels_config": {
    "python": {
     "delete_cmd_postfix": "",
     "delete_cmd_prefix": "del ",
     "library": "var_list.py",
     "varRefreshCmd": "print(var_dic_list())"
    },
    "r": {
     "delete_cmd_postfix": ") ",
     "delete_cmd_prefix": "rm(",
     "library": "var_list.r",
     "varRefreshCmd": "cat(var_dic_list()) "
    }
   },
   "types_to_exclude": [
    "module",
    "function",
    "builtin_function_or_method",
    "instance",
    "_Feature"
   ],
   "window_display": false
  }
 },
 "nbformat": 4,
 "nbformat_minor": 2
}
