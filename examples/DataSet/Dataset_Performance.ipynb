{
 "cells": [
  {
   "cell_type": "markdown",
   "metadata": {},
   "source": [
    "# DataSet Performance\n",
    "\n",
    "This notebook shows the trade-off between inserting data into a database row-by-row and as binary blobs. Inserting the data row-by-row means that we have direct access to all the data and may perform queries directly on the values of the data. On the other hand, as we shall see, this is much slower than inserting the data directly as binary blobs."
   ]
  },
  {
   "cell_type": "markdown",
   "metadata": {},
   "source": [
    "First, we choose a new location for the database to ensure that we don't add a bunch of benchmarking data to the default one."
   ]
  },
  {
   "cell_type": "code",
   "execution_count": 1,
   "metadata": {
    "execution": {
     "iopub.execute_input": "2020-10-12T07:34:02.580372Z",
     "iopub.status.busy": "2020-10-12T07:34:02.579811Z",
     "iopub.status.idle": "2020-10-12T07:34:03.636371Z",
     "shell.execute_reply": "2020-10-12T07:34:03.635719Z"
    }
   },
   "outputs": [
    {
     "name": "stdout",
     "output_type": "stream",
     "text": [
      "Logging hadn't been started.\n",
      "Activating auto-logging. Current session state plus future input saved.\n",
      "Filename       : /home/vsts/.qcodes/logs/command_history.log\n",
      "Mode           : append\n",
      "Output logging : True\n",
      "Raw input log  : False\n",
      "Timestamping   : True\n",
      "State          : active\n"
     ]
    },
    {
     "name": "stdout",
     "output_type": "stream",
     "text": [
      "Qcodes Logfile : /home/vsts/.qcodes/logs/201012-14644-qcodes.log\n"
     ]
    }
   ],
   "source": [
    "import os\n",
    "cwd = os.getcwd()\n",
    "import qcodes as qc\n",
    "qc.config[\"core\"][\"db_location\"] = os.path.join(cwd, 'testing.db')\n"
   ]
  },
  {
   "cell_type": "code",
   "execution_count": 2,
   "metadata": {
    "execution": {
     "iopub.execute_input": "2020-10-12T07:34:03.643586Z",
     "iopub.status.busy": "2020-10-12T07:34:03.642005Z",
     "iopub.status.idle": "2020-10-12T07:34:03.839510Z",
     "shell.execute_reply": "2020-10-12T07:34:03.838663Z"
    }
   },
   "outputs": [],
   "source": [
    "%matplotlib inline\n",
    "import time\n",
    "import matplotlib.pyplot as plt\n",
    "import numpy as np\n",
    "\n",
    "import qcodes as qc\n",
    "from qcodes.instrument.parameter import ManualParameter\n",
    "from qcodes.dataset.experiment_container import (Experiment,\n",
    "                                                 load_last_experiment,\n",
    "                                                 new_experiment)\n",
    "from qcodes.dataset.sqlite.database import initialise_database\n",
    "from qcodes import load_or_create_experiment\n",
    "from qcodes.dataset.measurements import Measurement"
   ]
  },
  {
   "cell_type": "code",
   "execution_count": 3,
   "metadata": {
    "execution": {
     "iopub.execute_input": "2020-10-12T07:34:03.843974Z",
     "iopub.status.busy": "2020-10-12T07:34:03.842800Z",
     "iopub.status.idle": "2020-10-12T07:34:03.956585Z",
     "shell.execute_reply": "2020-10-12T07:34:03.957163Z"
    }
   },
   "outputs": [
    {
     "name": "stdout",
     "output_type": "stream",
     "text": [
      "\r",
      "0it [00:00, ?it/s]"
     ]
    },
    {
     "name": "stdout",
     "output_type": "stream",
     "text": [
      "\r",
      "Upgrading database; v0 -> v1: : 0it [00:00, ?it/s]"
     ]
    },
    {
     "name": "stdout",
     "output_type": "stream",
     "text": [
      "\r",
      "Upgrading database; v0 -> v1: : 0it [00:00, ?it/s]"
     ]
    },
    {
     "name": "stdout",
     "output_type": "stream",
     "text": [
      "\n",
      "\r",
      "  0%|          | 0/1 [00:00<?, ?it/s]"
     ]
    },
    {
     "name": "stdout",
     "output_type": "stream",
     "text": [
      "\r",
      "Upgrading database; v1 -> v2:   0%|          | 0/1 [00:00<?, ?it/s]"
     ]
    },
    {
     "name": "stdout",
     "output_type": "stream",
     "text": [
      "\r",
      "Upgrading database; v1 -> v2: 100%|██████████| 1/1 [00:00<00:00, 469.63it/s]"
     ]
    },
    {
     "name": "stdout",
     "output_type": "stream",
     "text": [
      "\n",
      "\r",
      "0it [00:00, ?it/s]"
     ]
    },
    {
     "name": "stdout",
     "output_type": "stream",
     "text": [
      "\r",
      "Upgrading database; v2 -> v3: : 0it [00:00, ?it/s]"
     ]
    },
    {
     "name": "stdout",
     "output_type": "stream",
     "text": [
      "\r",
      "Upgrading database; v2 -> v3: : 0it [00:00, ?it/s]"
     ]
    },
    {
     "name": "stdout",
     "output_type": "stream",
     "text": [
      "\n",
      "\r",
      "0it [00:00, ?it/s]"
     ]
    },
    {
     "name": "stdout",
     "output_type": "stream",
     "text": [
      "\r",
      "Upgrading database; v3 -> v4: : 0it [00:00, ?it/s]"
     ]
    },
    {
     "name": "stdout",
     "output_type": "stream",
     "text": [
      "\r",
      "Upgrading database; v3 -> v4: : 0it [00:00, ?it/s]"
     ]
    },
    {
     "name": "stdout",
     "output_type": "stream",
     "text": [
      "\n",
      "\r",
      "  0%|          | 0/1 [00:00<?, ?it/s]"
     ]
    },
    {
     "name": "stdout",
     "output_type": "stream",
     "text": [
      "\r",
      "Upgrading database; v4 -> v5:   0%|          | 0/1 [00:00<?, ?it/s]"
     ]
    },
    {
     "name": "stdout",
     "output_type": "stream",
     "text": [
      "\r",
      "Upgrading database; v4 -> v5: 100%|██████████| 1/1 [00:00<00:00, 601.94it/s]"
     ]
    },
    {
     "name": "stdout",
     "output_type": "stream",
     "text": [
      "\n",
      "\r",
      "0it [00:00, ?it/s]"
     ]
    },
    {
     "name": "stdout",
     "output_type": "stream",
     "text": [
      "\r",
      "Upgrading database; v5 -> v6: : 0it [00:00, ?it/s]"
     ]
    },
    {
     "name": "stdout",
     "output_type": "stream",
     "text": [
      "\r",
      "Upgrading database; v5 -> v6: : 0it [00:00, ?it/s]"
     ]
    },
    {
     "name": "stdout",
     "output_type": "stream",
     "text": [
      "\n",
      "\r",
      "  0%|          | 0/1 [00:00<?, ?it/s]"
     ]
    },
    {
     "name": "stdout",
     "output_type": "stream",
     "text": [
      "\r",
      "Upgrading database; v6 -> v7:   0%|          | 0/1 [00:00<?, ?it/s]"
     ]
    },
    {
     "name": "stdout",
     "output_type": "stream",
     "text": [
      "\r",
      "Upgrading database; v6 -> v7: 100%|██████████| 1/1 [00:00<00:00, 197.24it/s]"
     ]
    },
    {
     "name": "stdout",
     "output_type": "stream",
     "text": [
      "\n",
      "\r",
      "  0%|          | 0/1 [00:00<?, ?it/s]"
     ]
    },
    {
     "name": "stdout",
     "output_type": "stream",
     "text": [
      "\r",
      "Upgrading database; v7 -> v8:   0%|          | 0/1 [00:00<?, ?it/s]"
     ]
    },
    {
     "name": "stdout",
     "output_type": "stream",
     "text": [
      "\r",
      "Upgrading database; v7 -> v8: 100%|██████████| 1/1 [00:00<00:00, 920.21it/s]"
     ]
    },
    {
     "name": "stdout",
     "output_type": "stream",
     "text": [
      "\n",
      "\r",
      "  0%|          | 0/1 [00:00<?, ?it/s]"
     ]
    },
    {
     "name": "stdout",
     "output_type": "stream",
     "text": [
      "\r",
      "Upgrading database; v8 -> v9:   0%|          | 0/1 [00:00<?, ?it/s]"
     ]
    },
    {
     "name": "stdout",
     "output_type": "stream",
     "text": [
      "\r",
      "Upgrading database; v8 -> v9: 100%|██████████| 1/1 [00:00<00:00, 1356.94it/s]"
     ]
    },
    {
     "name": "stdout",
     "output_type": "stream",
     "text": [
      "\n"
     ]
    }
   ],
   "source": [
    "initialise_database()\n",
    "exp = load_or_create_experiment(experiment_name='tutorial_exp', sample_name=\"no sample\")"
   ]
  },
  {
   "cell_type": "markdown",
   "metadata": {},
   "source": [
    "Here, we define a simple function to benchmark the time it takes to insert n points with either numeric or array data type.\n",
    "We will compare both the time used to call ``add_result`` and the time used for the full measurement."
   ]
  },
  {
   "cell_type": "code",
   "execution_count": 4,
   "metadata": {
    "execution": {
     "iopub.execute_input": "2020-10-12T07:34:03.965034Z",
     "iopub.status.busy": "2020-10-12T07:34:03.964505Z",
     "iopub.status.idle": "2020-10-12T07:34:03.967768Z",
     "shell.execute_reply": "2020-10-12T07:34:03.968217Z"
    }
   },
   "outputs": [],
   "source": [
    "def insert_data(paramtype, npoints, nreps=1):\n",
    "\n",
    "    meas = Measurement(exp=exp)\n",
    "\n",
    "    x1 = ManualParameter('x1')\n",
    "    x2 = ManualParameter('x2')\n",
    "    x3 = ManualParameter('x3')\n",
    "    y1 = ManualParameter('y1')\n",
    "    y2 = ManualParameter('y2')\n",
    "\n",
    "    meas.register_parameter(x1, paramtype=paramtype)\n",
    "    meas.register_parameter(x2, paramtype=paramtype)\n",
    "    meas.register_parameter(x3, paramtype=paramtype)\n",
    "    meas.register_parameter(y1, setpoints=[x1, x2, x3],\n",
    "                            paramtype=paramtype)\n",
    "    meas.register_parameter(y2, setpoints=[x1, x2, x3],\n",
    "                            paramtype=paramtype)\n",
    "    start = time.perf_counter()\n",
    "    with meas.run() as datasaver:\n",
    "        start_adding = time.perf_counter()\n",
    "        for i in range(nreps):\n",
    "            datasaver.add_result((x1, np.random.rand(npoints)),\n",
    "                                 (x2, np.random.rand(npoints)),\n",
    "                                 (x3, np.random.rand(npoints)),\n",
    "                                 (y1, np.random.rand(npoints)),\n",
    "                                 (y2, np.random.rand(npoints)))\n",
    "        stop_adding = time.perf_counter()\n",
    "        run_id = datasaver.run_id\n",
    "    stop = time.perf_counter()\n",
    "    tot_time = stop - start\n",
    "    add_time = stop_adding - start_adding\n",
    "    return tot_time, add_time, run_id"
   ]
  },
  {
   "cell_type": "markdown",
   "metadata": {},
   "source": [
    "## Comparison between numeric/array data and binary blob"
   ]
  },
  {
   "cell_type": "markdown",
   "metadata": {},
   "source": [
    "### Case1: Short experiment time"
   ]
  },
  {
   "cell_type": "code",
   "execution_count": 5,
   "metadata": {
    "execution": {
     "iopub.execute_input": "2020-10-12T07:34:03.974791Z",
     "iopub.status.busy": "2020-10-12T07:34:03.974061Z",
     "iopub.status.idle": "2020-10-12T07:34:04.789283Z",
     "shell.execute_reply": "2020-10-12T07:34:04.790163Z"
    }
   },
   "outputs": [
    {
     "name": "stdout",
     "output_type": "stream",
     "text": [
      "Starting experimental run with id: 1. \n",
      "Starting experimental run with id: 2. \n",
      "Starting experimental run with id: 3. \n",
      "Starting experimental run with id: 4. \n",
      "Starting experimental run with id: 5. \n"
     ]
    },
    {
     "name": "stdout",
     "output_type": "stream",
     "text": [
      "Starting experimental run with id: 6. \n"
     ]
    },
    {
     "name": "stdout",
     "output_type": "stream",
     "text": [
      "Starting experimental run with id: 7. \n"
     ]
    },
    {
     "name": "stdout",
     "output_type": "stream",
     "text": [
      "Starting experimental run with id: 8. \n",
      "Starting experimental run with id: 9. \n"
     ]
    },
    {
     "name": "stdout",
     "output_type": "stream",
     "text": [
      "Starting experimental run with id: 10. \n",
      "Starting experimental run with id: 11. \n"
     ]
    },
    {
     "name": "stdout",
     "output_type": "stream",
     "text": [
      "Starting experimental run with id: 12. \n",
      "Starting experimental run with id: 13. \n"
     ]
    },
    {
     "name": "stdout",
     "output_type": "stream",
     "text": [
      "Starting experimental run with id: 14. \n"
     ]
    }
   ],
   "source": [
    "sizes = [1,500,1000,2000,3000,4000,5000]\n",
    "t_numeric = []\n",
    "t_numeric_add = []\n",
    "t_array = []\n",
    "t_array_add = []\n",
    "for size in sizes:\n",
    "    tn, tna, run_id_n =  insert_data('numeric', size)\n",
    "    t_numeric.append(tn)\n",
    "    t_numeric_add.append(tna)\n",
    "\n",
    "    ta, taa, run_id_a =  insert_data('array', size)\n",
    "    t_array.append(ta)\n",
    "    t_array_add.append(taa)"
   ]
  },
  {
   "cell_type": "code",
   "execution_count": 6,
   "metadata": {
    "execution": {
     "iopub.execute_input": "2020-10-12T07:34:04.808675Z",
     "iopub.status.busy": "2020-10-12T07:34:04.808119Z",
     "iopub.status.idle": "2020-10-12T07:34:05.011797Z",
     "shell.execute_reply": "2020-10-12T07:34:05.011220Z"
    }
   },
   "outputs": [
    {
     "data": {
      "image/png": "[encoded data removed]",
      "text/plain": [
       "<Figure size 432x288 with 1 Axes>"
      ]
     },
     "metadata": {
      "needs_background": "light"
     },
     "output_type": "display_data"
    }
   ],
   "source": [
    "fig, ax = plt.subplots(1,1)\n",
    "ax.plot(sizes, t_numeric, 'o-', label='Inserting row-by-row')\n",
    "ax.plot(sizes, t_numeric_add, 'o-', label='Inserting row-by-row: add_result only')\n",
    "ax.plot(sizes, t_array, 'd-', label='Inserting as binary blob')\n",
    "ax.plot(sizes, t_array_add, 'd-', label='Inserting as binary blob: add_result only')\n",
    "ax.legend()\n",
    "ax.set_xlabel('Array length')\n",
    "ax.set_ylabel('Time (s)')\n",
    "fig.tight_layout()"
   ]
  },
  {
   "cell_type": "markdown",
   "metadata": {},
   "source": [
    "As shown in the latter figure, the time to setup and and close the experiment is approximately 0.4 sec. In case of small array sizes, the difference between inserting values of data as arrays and inserting them row-by-row is relatively unimportant. At larger array sizes, i.e. above 10000 points, the cost of writing data as individual datapoints starts to become important.\n"
   ]
  },
  {
   "cell_type": "markdown",
   "metadata": {},
   "source": [
    "### Case2: Long experiment time "
   ]
  },
  {
   "cell_type": "code",
   "execution_count": 7,
   "metadata": {
    "execution": {
     "iopub.execute_input": "2020-10-12T07:34:05.019135Z",
     "iopub.status.busy": "2020-10-12T07:34:05.018548Z",
     "iopub.status.idle": "2020-10-12T07:35:01.077908Z",
     "shell.execute_reply": "2020-10-12T07:35:01.077417Z"
    }
   },
   "outputs": [
    {
     "name": "stdout",
     "output_type": "stream",
     "text": [
      "Starting experimental run with id: 15. \n",
      "Starting experimental run with id: 16. \n",
      "Starting experimental run with id: 17. \n"
     ]
    },
    {
     "name": "stdout",
     "output_type": "stream",
     "text": [
      "Starting experimental run with id: 18. \n",
      "Starting experimental run with id: 19. \n"
     ]
    },
    {
     "name": "stdout",
     "output_type": "stream",
     "text": [
      "Starting experimental run with id: 20. \n"
     ]
    },
    {
     "name": "stdout",
     "output_type": "stream",
     "text": [
      "Starting experimental run with id: 21. \n"
     ]
    },
    {
     "name": "stdout",
     "output_type": "stream",
     "text": [
      "Starting experimental run with id: 22. \n"
     ]
    },
    {
     "name": "stdout",
     "output_type": "stream",
     "text": [
      "Starting experimental run with id: 23. \n"
     ]
    },
    {
     "name": "stdout",
     "output_type": "stream",
     "text": [
      "Starting experimental run with id: 24. \n"
     ]
    },
    {
     "name": "stdout",
     "output_type": "stream",
     "text": [
      "Starting experimental run with id: 25. \n"
     ]
    },
    {
     "name": "stdout",
     "output_type": "stream",
     "text": [
      "Starting experimental run with id: 26. \n"
     ]
    },
    {
     "name": "stdout",
     "output_type": "stream",
     "text": [
      "Starting experimental run with id: 27. \n"
     ]
    },
    {
     "name": "stdout",
     "output_type": "stream",
     "text": [
      "Starting experimental run with id: 28. \n"
     ]
    }
   ],
   "source": [
    "sizes = [1,500,1000,2000,3000,4000,5000]\n",
    "nreps = 100\n",
    "t_numeric = []\n",
    "t_numeric_add = []\n",
    "t_numeric_run_ids = []\n",
    "t_array = []\n",
    "t_array_add = []\n",
    "t_array_run_ids = []\n",
    "for size in sizes:\n",
    "    tn, tna, run_id_n =  insert_data('numeric', size, nreps=nreps)\n",
    "    t_numeric.append(tn)\n",
    "    t_numeric_add.append(tna)\n",
    "    t_numeric_run_ids.append(run_id_n)\n",
    "\n",
    "    ta, taa, run_id_a =  insert_data('array', size, nreps=nreps)\n",
    "    t_array.append(ta)\n",
    "    t_array_add.append(taa)\n",
    "    t_array_run_ids.append(run_id_a)"
   ]
  },
  {
   "cell_type": "code",
   "execution_count": 8,
   "metadata": {
    "execution": {
     "iopub.execute_input": "2020-10-12T07:35:01.097225Z",
     "iopub.status.busy": "2020-10-12T07:35:01.096617Z",
     "iopub.status.idle": "2020-10-12T07:35:01.304242Z",
     "shell.execute_reply": "2020-10-12T07:35:01.303746Z"
    },
    "scrolled": true
   },
   "outputs": [
    {
     "data": {
      "image/png": "[encoded data removed]",
      "text/plain": [
       "<Figure size 432x288 with 1 Axes>"
      ]
     },
     "metadata": {
      "needs_background": "light"
     },
     "output_type": "display_data"
    }
   ],
   "source": [
    "fig, ax = plt.subplots(1,1)\n",
    "ax.plot(sizes, t_numeric, 'o-', label='Inserting row-by-row')\n",
    "ax.plot(sizes, t_numeric_add, 'o-', label='Inserting row-by-row: add_result only')\n",
    "ax.plot(sizes, t_array, 'd-', label='Inserting as binary blob')\n",
    "ax.plot(sizes, t_array_add, 'd-', label='Inserting as binary blob: add_result only')\n",
    "ax.legend()\n",
    "ax.set_xlabel('Array length')\n",
    "ax.set_ylabel('Time (s)')\n",
    "fig.tight_layout()"
   ]
  },
  {
   "cell_type": "markdown",
   "metadata": {},
   "source": [
    "However, as we increase the length of the experiment, as seen here by repeating the insertion 100 times, we see a big difference between inserting values of the data row-by-row and inserting it as a binary blob."
   ]
  },
  {
   "cell_type": "markdown",
   "metadata": {},
   "source": [
    "## Loading the data "
   ]
  },
  {
   "cell_type": "code",
   "execution_count": 9,
   "metadata": {
    "execution": {
     "iopub.execute_input": "2020-10-12T07:35:01.308754Z",
     "iopub.status.busy": "2020-10-12T07:35:01.308210Z",
     "iopub.status.idle": "2020-10-12T07:35:01.312011Z",
     "shell.execute_reply": "2020-10-12T07:35:01.311491Z"
    }
   },
   "outputs": [],
   "source": [
    "from qcodes.dataset.data_set import load_by_id\n",
    "from qcodes.dataset.data_export import get_data_by_id"
   ]
  },
  {
   "cell_type": "markdown",
   "metadata": {},
   "source": [
    "As usual you can load the data by using the ``load_by_id`` function but you will notice that the different storage methods\n",
    "are reflected in shape of the data as it is retrieved. "
   ]
  },
  {
   "cell_type": "code",
   "execution_count": 10,
   "metadata": {
    "execution": {
     "iopub.execute_input": "2020-10-12T07:35:01.316569Z",
     "iopub.status.busy": "2020-10-12T07:35:01.315257Z",
     "iopub.status.idle": "2020-10-12T07:35:01.317082Z",
     "shell.execute_reply": "2020-10-12T07:35:01.317615Z"
    }
   },
   "outputs": [],
   "source": [
    "run_id_n = t_numeric_run_ids[0]\n",
    "run_id_a = t_array_run_ids[0]"
   ]
  },
  {
   "cell_type": "code",
   "execution_count": 11,
   "metadata": {
    "execution": {
     "iopub.execute_input": "2020-10-12T07:35:01.321207Z",
     "iopub.status.busy": "2020-10-12T07:35:01.320475Z",
     "iopub.status.idle": "2020-10-12T07:35:01.330845Z",
     "shell.execute_reply": "2020-10-12T07:35:01.330387Z"
    },
    "scrolled": true
   },
   "outputs": [
    {
     "data": {
      "text/plain": [
       "{'x1': {'x1': array([0.37902701, 0.37902701, 0.7645793 , 0.7645793 , 0.01429012,\n",
       "         0.01429012, 0.78432847, 0.78432847, 0.610259  , 0.610259  ,\n",
       "         0.07663818, 0.07663818, 0.61794104, 0.61794104, 0.80944844,\n",
       "         0.80944844, 0.15857449, 0.15857449, 0.18639366, 0.18639366,\n",
       "         0.17421809, 0.17421809, 0.50557344, 0.50557344, 0.59766211,\n",
       "         0.59766211, 0.0808941 , 0.0808941 , 0.63094005, 0.63094005,\n",
       "         0.43301561, 0.43301561, 0.87801251, 0.87801251, 0.31426826,\n",
       "         0.31426826, 0.34005002, 0.34005002, 0.34417695, 0.34417695,\n",
       "         0.56470033, 0.56470033, 0.84851051, 0.84851051, 0.26164349,\n",
       "         0.26164349, 0.77294811, 0.77294811, 0.16531125, 0.16531125,\n",
       "         0.92046935, 0.92046935, 0.07242014, 0.07242014, 0.34806886,\n",
       "         0.34806886, 0.23500029, 0.23500029, 0.24661044, 0.24661044,\n",
       "         0.71542511, 0.71542511, 0.12571375, 0.12571375, 0.70537105,\n",
       "         0.70537105, 0.88290711, 0.88290711, 0.17419601, 0.17419601,\n",
       "         0.91937097, 0.91937097, 0.48002859, 0.48002859, 0.31899983,\n",
       "         0.31899983, 0.25693838, 0.25693838, 0.00863468, 0.00863468,\n",
       "         0.76106522, 0.76106522, 0.92914618, 0.92914618, 0.73608907,\n",
       "         0.73608907, 0.82504533, 0.82504533, 0.83132038, 0.83132038,\n",
       "         0.24988746, 0.24988746, 0.64287641, 0.64287641, 0.35619741,\n",
       "         0.35619741, 0.16109716, 0.16109716, 0.81759036, 0.81759036,\n",
       "         0.35240929, 0.35240929, 0.74790023, 0.74790023, 0.15237154,\n",
       "         0.15237154, 0.07295712, 0.07295712, 0.34571958, 0.34571958,\n",
       "         0.61215503, 0.61215503, 0.42925615, 0.42925615, 0.8029484 ,\n",
       "         0.8029484 , 0.51860024, 0.51860024, 0.90897211, 0.90897211,\n",
       "         0.82624909, 0.82624909, 0.99353839, 0.99353839, 0.61382017,\n",
       "         0.61382017, 0.3999607 , 0.3999607 , 0.29446915, 0.29446915,\n",
       "         0.03763774, 0.03763774, 0.52516644, 0.52516644, 0.48318072,\n",
       "         0.48318072, 0.99160218, 0.99160218, 0.47273828, 0.47273828,\n",
       "         0.04745868, 0.04745868, 0.89669838, 0.89669838, 0.81241128,\n",
       "         0.81241128, 0.18323057, 0.18323057, 0.1798795 , 0.1798795 ,\n",
       "         0.97028298, 0.97028298, 0.73774941, 0.73774941, 0.82232625,\n",
       "         0.82232625, 0.33777624, 0.33777624, 0.45926522, 0.45926522,\n",
       "         0.2226425 , 0.2226425 , 0.64803898, 0.64803898, 0.13839154,\n",
       "         0.13839154, 0.96457714, 0.96457714, 0.66381449, 0.66381449,\n",
       "         0.53914709, 0.53914709, 0.6642341 , 0.6642341 , 0.59974463,\n",
       "         0.59974463, 0.25920907, 0.25920907, 0.11192246, 0.11192246,\n",
       "         0.27320072, 0.27320072, 0.06270743, 0.06270743, 0.85876003,\n",
       "         0.85876003, 0.55988174, 0.55988174, 0.45321652, 0.45321652,\n",
       "         0.05565969, 0.05565969, 0.68924148, 0.68924148, 0.9704248 ,\n",
       "         0.9704248 , 0.64351997, 0.64351997, 0.15406397, 0.15406397])}}"
      ]
     },
     "execution_count": 1,
     "metadata": {},
     "output_type": "execute_result"
    }
   ],
   "source": [
    "ds = load_by_id(run_id_n)\n",
    "ds.get_parameter_data('x1')"
   ]
  },
  {
   "cell_type": "markdown",
   "metadata": {},
   "source": [
    "And a dataset stored as binary arrays"
   ]
  },
  {
   "cell_type": "code",
   "execution_count": 12,
   "metadata": {
    "execution": {
     "iopub.execute_input": "2020-10-12T07:35:01.334478Z",
     "iopub.status.busy": "2020-10-12T07:35:01.333972Z",
     "iopub.status.idle": "2020-10-12T07:35:01.394965Z",
     "shell.execute_reply": "2020-10-12T07:35:01.394455Z"
    },
    "scrolled": true
   },
   "outputs": [
    {
     "data": {
      "text/plain": [
       "{'x1': {'x1': array([[6.66074773e-01],\n",
       "         [6.66074773e-01],\n",
       "         [1.17500237e-01],\n",
       "         [1.17500237e-01],\n",
       "         [1.34230219e-02],\n",
       "         [1.34230219e-02],\n",
       "         [8.87969887e-01],\n",
       "         [8.87969887e-01],\n",
       "         [8.76801554e-01],\n",
       "         [8.76801554e-01],\n",
       "         [1.38339662e-01],\n",
       "         [1.38339662e-01],\n",
       "         [5.36004942e-01],\n",
       "         [5.36004942e-01],\n",
       "         [6.19460587e-01],\n",
       "         [6.19460587e-01],\n",
       "         [1.33928137e-01],\n",
       "         [1.33928137e-01],\n",
       "         [7.10405701e-01],\n",
       "         [7.10405701e-01],\n",
       "         [1.53491521e-01],\n",
       "         [1.53491521e-01],\n",
       "         [4.53672253e-04],\n",
       "         [4.53672253e-04],\n",
       "         [4.56228029e-01],\n",
       "         [4.56228029e-01],\n",
       "         [1.24986010e-01],\n",
       "         [1.24986010e-01],\n",
       "         [5.66343933e-01],\n",
       "         [5.66343933e-01],\n",
       "         [5.22462824e-01],\n",
       "         [5.22462824e-01],\n",
       "         [9.00945603e-01],\n",
       "         [9.00945603e-01],\n",
       "         [2.85342532e-01],\n",
       "         [2.85342532e-01],\n",
       "         [8.68631152e-02],\n",
       "         [8.68631152e-02],\n",
       "         [6.20602276e-01],\n",
       "         [6.20602276e-01],\n",
       "         [7.11086559e-01],\n",
       "         [7.11086559e-01],\n",
       "         [2.06639925e-01],\n",
       "         [2.06639925e-01],\n",
       "         [1.75361841e-01],\n",
       "         [1.75361841e-01],\n",
       "         [8.87824457e-01],\n",
       "         [8.87824457e-01],\n",
       "         [7.82983228e-01],\n",
       "         [7.82983228e-01],\n",
       "         [2.64571595e-01],\n",
       "         [2.64571595e-01],\n",
       "         [1.10002483e-01],\n",
       "         [1.10002483e-01],\n",
       "         [7.58064257e-01],\n",
       "         [7.58064257e-01],\n",
       "         [1.18020689e-01],\n",
       "         [1.18020689e-01],\n",
       "         [5.49169733e-02],\n",
       "         [5.49169733e-02],\n",
       "         [7.47521686e-01],\n",
       "         [7.47521686e-01],\n",
       "         [4.89012604e-01],\n",
       "         [4.89012604e-01],\n",
       "         [9.35070361e-01],\n",
       "         [9.35070361e-01],\n",
       "         [8.43957621e-01],\n",
       "         [8.43957621e-01],\n",
       "         [3.74235177e-02],\n",
       "         [3.74235177e-02],\n",
       "         [7.29290446e-02],\n",
       "         [7.29290446e-02],\n",
       "         [2.79608503e-01],\n",
       "         [2.79608503e-01],\n",
       "         [1.13438790e-02],\n",
       "         [1.13438790e-02],\n",
       "         [7.02888117e-01],\n",
       "         [7.02888117e-01],\n",
       "         [9.60114307e-02],\n",
       "         [9.60114307e-02],\n",
       "         [5.22683451e-01],\n",
       "         [5.22683451e-01],\n",
       "         [6.14976597e-01],\n",
       "         [6.14976597e-01],\n",
       "         [3.30811194e-02],\n",
       "         [3.30811194e-02],\n",
       "         [8.95066966e-01],\n",
       "         [8.95066966e-01],\n",
       "         [6.95868495e-02],\n",
       "         [6.95868495e-02],\n",
       "         [8.95598513e-01],\n",
       "         [8.95598513e-01],\n",
       "         [1.31302880e-01],\n",
       "         [1.31302880e-01],\n",
       "         [2.43918342e-01],\n",
       "         [2.43918342e-01],\n",
       "         [7.02223868e-01],\n",
       "         [7.02223868e-01],\n",
       "         [1.35350314e-01],\n",
       "         [1.35350314e-01],\n",
       "         [2.52117488e-01],\n",
       "         [2.52117488e-01],\n",
       "         [7.32929877e-01],\n",
       "         [7.32929877e-01],\n",
       "         [3.47867757e-01],\n",
       "         [3.47867757e-01],\n",
       "         [2.52396024e-01],\n",
       "         [2.52396024e-01],\n",
       "         [7.25045470e-01],\n",
       "         [7.25045470e-01],\n",
       "         [9.80579332e-01],\n",
       "         [9.80579332e-01],\n",
       "         [3.49378880e-01],\n",
       "         [3.49378880e-01],\n",
       "         [5.46698750e-02],\n",
       "         [5.46698750e-02],\n",
       "         [5.14353504e-01],\n",
       "         [5.14353504e-01],\n",
       "         [2.08141278e-01],\n",
       "         [2.08141278e-01],\n",
       "         [1.99192931e-02],\n",
       "         [1.99192931e-02],\n",
       "         [2.37266485e-01],\n",
       "         [2.37266485e-01],\n",
       "         [5.27072497e-01],\n",
       "         [5.27072497e-01],\n",
       "         [2.07686676e-01],\n",
       "         [2.07686676e-01],\n",
       "         [1.69068738e-01],\n",
       "         [1.69068738e-01],\n",
       "         [9.71966087e-01],\n",
       "         [9.71966087e-01],\n",
       "         [3.66375894e-01],\n",
       "         [3.66375894e-01],\n",
       "         [2.53625470e-01],\n",
       "         [2.53625470e-01],\n",
       "         [1.46815579e-01],\n",
       "         [1.46815579e-01],\n",
       "         [1.54942727e-01],\n",
       "         [1.54942727e-01],\n",
       "         [7.59988682e-01],\n",
       "         [7.59988682e-01],\n",
       "         [1.90199100e-01],\n",
       "         [1.90199100e-01],\n",
       "         [4.40260060e-01],\n",
       "         [4.40260060e-01],\n",
       "         [8.66474019e-01],\n",
       "         [8.66474019e-01],\n",
       "         [1.93349935e-02],\n",
       "         [1.93349935e-02],\n",
       "         [9.81480879e-01],\n",
       "         [9.81480879e-01],\n",
       "         [6.92941934e-01],\n",
       "         [6.92941934e-01],\n",
       "         [4.02001908e-01],\n",
       "         [4.02001908e-01],\n",
       "         [1.17699793e-02],\n",
       "         [1.17699793e-02],\n",
       "         [6.31302326e-01],\n",
       "         [6.31302326e-01],\n",
       "         [8.47816495e-02],\n",
       "         [8.47816495e-02],\n",
       "         [5.51611301e-01],\n",
       "         [5.51611301e-01],\n",
       "         [9.04748603e-01],\n",
       "         [9.04748603e-01],\n",
       "         [6.60219377e-01],\n",
       "         [6.60219377e-01],\n",
       "         [7.00133552e-01],\n",
       "         [7.00133552e-01],\n",
       "         [3.67821733e-01],\n",
       "         [3.67821733e-01],\n",
       "         [4.20208862e-01],\n",
       "         [4.20208862e-01],\n",
       "         [9.33817066e-01],\n",
       "         [9.33817066e-01],\n",
       "         [8.54579743e-01],\n",
       "         [8.54579743e-01],\n",
       "         [3.62439451e-01],\n",
       "         [3.62439451e-01],\n",
       "         [1.04763345e-01],\n",
       "         [1.04763345e-01],\n",
       "         [7.01751959e-01],\n",
       "         [7.01751959e-01],\n",
       "         [5.84345655e-01],\n",
       "         [5.84345655e-01],\n",
       "         [1.34410034e-01],\n",
       "         [1.34410034e-01],\n",
       "         [1.11056061e-01],\n",
       "         [1.11056061e-01],\n",
       "         [2.79937294e-01],\n",
       "         [2.79937294e-01],\n",
       "         [8.16333846e-01],\n",
       "         [8.16333846e-01],\n",
       "         [1.15860870e-01],\n",
       "         [1.15860870e-01],\n",
       "         [6.45535171e-02],\n",
       "         [6.45535171e-02],\n",
       "         [9.54808538e-01],\n",
       "         [9.54808538e-01]])}}"
      ]
     },
     "execution_count": 1,
     "metadata": {},
     "output_type": "execute_result"
    }
   ],
   "source": [
    "ds = load_by_id(run_id_a)\n",
    "ds.get_parameter_data('x1')"
   ]
  },
  {
   "cell_type": "code",
   "execution_count": null,
   "metadata": {},
   "outputs": [],
   "source": []
  }
 ],
 "metadata": {
  "kernelspec": {
   "display_name": "Python 3",
   "language": "python",
   "name": "python3"
  },
  "language_info": {
   "codemirror_mode": {
    "name": "ipython",
    "version": 3
   },
   "file_extension": ".py",
   "mimetype": "text/x-python",
   "name": "python",
   "nbconvert_exporter": "python",
   "pygments_lexer": "ipython3",
   "version": "3.7.7"
  },
  "nbsphinx": {
   "timeout": 600
  },
  "toc": {
   "base_numbering": 1,
   "nav_menu": {},
   "number_sections": true,
   "sideBar": true,
   "skip_h1_title": false,
   "title_cell": "Table of Contents",
   "title_sidebar": "Contents",
   "toc_cell": false,
   "toc_position": {},
   "toc_section_display": true,
   "toc_window_display": false
  },
  "varInspector": {
   "cols": {
    "lenName": 16,
    "lenType": 16,
    "lenVar": 40
   },
   "kernels_config": {
    "python": {
     "delete_cmd_postfix": "",
     "delete_cmd_prefix": "del ",
     "library": "var_list.py",
     "varRefreshCmd": "print(var_dic_list())"
    },
    "r": {
     "delete_cmd_postfix": ") ",
     "delete_cmd_prefix": "rm(",
     "library": "var_list.r",
     "varRefreshCmd": "cat(var_dic_list()) "
    }
   },
   "types_to_exclude": [
    "module",
    "function",
    "builtin_function_or_method",
    "instance",
    "_Feature"
   ],
   "window_display": false
  }
 },
 "nbformat": 4,
 "nbformat_minor": 2
}
