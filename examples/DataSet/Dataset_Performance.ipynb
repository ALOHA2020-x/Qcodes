{
 "cells": [
  {
   "cell_type": "markdown",
   "metadata": {},
   "source": [
    "# DataSet Performance\n",
    "\n",
    "This notebook shows the trade-off between inserting data into a database row-by-row and as binary blobs. Inserting the data row-by-row means that we have direct access to all the data and may perform queries directly on the values of the data. On the other hand, as we shall see, this is much slower than inserting the data directly as binary blobs."
   ]
  },
  {
   "cell_type": "markdown",
   "metadata": {},
   "source": [
    "First, we choose a new location for the database to ensure that we don't add a bunch of benchmarking data to the default one."
   ]
  },
  {
   "cell_type": "code",
   "execution_count": 1,
   "metadata": {
    "execution": {
     "iopub.execute_input": "2021-05-06T10:38:39.026371Z",
     "iopub.status.busy": "2021-05-06T10:38:39.025817Z",
     "iopub.status.idle": "2021-05-06T10:38:40.205585Z",
     "shell.execute_reply": "2021-05-06T10:38:40.204396Z"
    }
   },
   "outputs": [
    {
     "name": "stdout",
     "output_type": "stream",
     "text": [
      "Logging hadn't been started.\n",
      "Activating auto-logging. Current session state plus future input saved.\n",
      "Filename       : /home/runner/.qcodes/logs/command_history.log\n",
      "Mode           : append\n",
      "Output logging : True\n",
      "Raw input log  : False\n",
      "Timestamping   : True\n",
      "State          : active\n"
     ]
    },
    {
     "name": "stdout",
     "output_type": "stream",
     "text": [
      "Qcodes Logfile : /home/runner/.qcodes/logs/210506-4379-qcodes.log\n"
     ]
    }
   ],
   "source": [
    "import os\n",
    "cwd = os.getcwd()\n",
    "import qcodes as qc\n",
    "qc.config[\"core\"][\"db_location\"] = os.path.join(cwd, 'testing.db')\n"
   ]
  },
  {
   "cell_type": "code",
   "execution_count": 2,
   "metadata": {
    "execution": {
     "iopub.execute_input": "2021-05-06T10:38:40.212090Z",
     "iopub.status.busy": "2021-05-06T10:38:40.211289Z",
     "iopub.status.idle": "2021-05-06T10:38:40.404799Z",
     "shell.execute_reply": "2021-05-06T10:38:40.403567Z"
    }
   },
   "outputs": [],
   "source": [
    "%matplotlib inline\n",
    "import time\n",
    "import matplotlib.pyplot as plt\n",
    "import numpy as np\n",
    "\n",
    "import qcodes as qc\n",
    "from qcodes.instrument.parameter import ManualParameter\n",
    "from qcodes.dataset.experiment_container import (Experiment,\n",
    "                                                 load_last_experiment,\n",
    "                                                 new_experiment)\n",
    "from qcodes.dataset.sqlite.database import initialise_database\n",
    "from qcodes import load_or_create_experiment\n",
    "from qcodes.dataset.measurements import Measurement"
   ]
  },
  {
   "cell_type": "code",
   "execution_count": 3,
   "metadata": {
    "execution": {
     "iopub.execute_input": "2021-05-06T10:38:40.408335Z",
     "iopub.status.busy": "2021-05-06T10:38:40.407532Z",
     "iopub.status.idle": "2021-05-06T10:38:40.484139Z",
     "shell.execute_reply": "2021-05-06T10:38:40.483616Z"
    }
   },
   "outputs": [
    {
     "name": "stdout",
     "output_type": "stream",
     "text": [
      "\r",
      "0it [00:00, ?it/s]"
     ]
    },
    {
     "name": "stdout",
     "output_type": "stream",
     "text": [
      "\r",
      "Upgrading database; v0 -> v1: : 0it [00:00, ?it/s]"
     ]
    },
    {
     "name": "stdout",
     "output_type": "stream",
     "text": [
      "\r",
      "Upgrading database; v0 -> v1: : 0it [00:00, ?it/s]"
     ]
    },
    {
     "name": "stdout",
     "output_type": "stream",
     "text": [
      "\n",
      "\r",
      "  0%|          | 0/1 [00:00<?, ?it/s]"
     ]
    },
    {
     "name": "stdout",
     "output_type": "stream",
     "text": [
      "\r",
      "Upgrading database; v1 -> v2:   0%|          | 0/1 [00:00<?, ?it/s]"
     ]
    },
    {
     "name": "stdout",
     "output_type": "stream",
     "text": [
      "\r",
      "Upgrading database; v1 -> v2: 100%|██████████| 1/1 [00:00<00:00, 671.63it/s]"
     ]
    },
    {
     "name": "stdout",
     "output_type": "stream",
     "text": [
      "\n",
      "\r",
      "0it [00:00, ?it/s]"
     ]
    },
    {
     "name": "stdout",
     "output_type": "stream",
     "text": [
      "\r",
      "Upgrading database; v2 -> v3: : 0it [00:00, ?it/s]"
     ]
    },
    {
     "name": "stdout",
     "output_type": "stream",
     "text": [
      "\r",
      "Upgrading database; v2 -> v3: : 0it [00:00, ?it/s]"
     ]
    },
    {
     "name": "stdout",
     "output_type": "stream",
     "text": [
      "\n",
      "\r",
      "0it [00:00, ?it/s]"
     ]
    },
    {
     "name": "stdout",
     "output_type": "stream",
     "text": [
      "\r",
      "Upgrading database; v3 -> v4: : 0it [00:00, ?it/s]"
     ]
    },
    {
     "name": "stdout",
     "output_type": "stream",
     "text": [
      "\r",
      "Upgrading database; v3 -> v4: : 0it [00:00, ?it/s]"
     ]
    },
    {
     "name": "stdout",
     "output_type": "stream",
     "text": [
      "\n",
      "\r",
      "  0%|          | 0/1 [00:00<?, ?it/s]"
     ]
    },
    {
     "name": "stdout",
     "output_type": "stream",
     "text": [
      "\r",
      "Upgrading database; v4 -> v5:   0%|          | 0/1 [00:00<?, ?it/s]"
     ]
    },
    {
     "name": "stdout",
     "output_type": "stream",
     "text": [
      "\r",
      "Upgrading database; v4 -> v5: 100%|██████████| 1/1 [00:00<00:00, 903.36it/s]"
     ]
    },
    {
     "name": "stdout",
     "output_type": "stream",
     "text": [
      "\n",
      "\r",
      "0it [00:00, ?it/s]"
     ]
    },
    {
     "name": "stdout",
     "output_type": "stream",
     "text": [
      "\r",
      "Upgrading database; v5 -> v6: : 0it [00:00, ?it/s]"
     ]
    },
    {
     "name": "stdout",
     "output_type": "stream",
     "text": [
      "\r",
      "Upgrading database; v5 -> v6: : 0it [00:00, ?it/s]"
     ]
    },
    {
     "name": "stdout",
     "output_type": "stream",
     "text": [
      "\n",
      "\r",
      "  0%|          | 0/1 [00:00<?, ?it/s]"
     ]
    },
    {
     "name": "stdout",
     "output_type": "stream",
     "text": [
      "\r",
      "Upgrading database; v6 -> v7:   0%|          | 0/1 [00:00<?, ?it/s]"
     ]
    },
    {
     "name": "stdout",
     "output_type": "stream",
     "text": [
      "\r",
      "Upgrading database; v6 -> v7: 100%|██████████| 1/1 [00:00<00:00, 211.32it/s]"
     ]
    },
    {
     "name": "stdout",
     "output_type": "stream",
     "text": [
      "\n",
      "\r",
      "  0%|          | 0/1 [00:00<?, ?it/s]"
     ]
    },
    {
     "name": "stdout",
     "output_type": "stream",
     "text": [
      "\r",
      "Upgrading database; v7 -> v8:   0%|          | 0/1 [00:00<?, ?it/s]"
     ]
    },
    {
     "name": "stdout",
     "output_type": "stream",
     "text": [
      "\r",
      "Upgrading database; v7 -> v8: 100%|██████████| 1/1 [00:00<00:00, 534.85it/s]"
     ]
    },
    {
     "name": "stdout",
     "output_type": "stream",
     "text": [
      "\n",
      "\r",
      "  0%|          | 0/1 [00:00<?, ?it/s]"
     ]
    },
    {
     "name": "stdout",
     "output_type": "stream",
     "text": [
      "\r",
      "Upgrading database; v8 -> v9:   0%|          | 0/1 [00:00<?, ?it/s]"
     ]
    },
    {
     "name": "stdout",
     "output_type": "stream",
     "text": [
      "\r",
      "Upgrading database; v8 -> v9: 100%|██████████| 1/1 [00:00<00:00, 1496.36it/s]"
     ]
    },
    {
     "name": "stdout",
     "output_type": "stream",
     "text": [
      "\n"
     ]
    }
   ],
   "source": [
    "initialise_database()\n",
    "exp = load_or_create_experiment(experiment_name='tutorial_exp', sample_name=\"no sample\")"
   ]
  },
  {
   "cell_type": "markdown",
   "metadata": {},
   "source": [
    "Here, we define a simple function to benchmark the time it takes to insert n points with either numeric or array data type.\n",
    "We will compare both the time used to call ``add_result`` and the time used for the full measurement."
   ]
  },
  {
   "cell_type": "code",
   "execution_count": 4,
   "metadata": {
    "execution": {
     "iopub.execute_input": "2021-05-06T10:38:40.493859Z",
     "iopub.status.busy": "2021-05-06T10:38:40.492655Z",
     "iopub.status.idle": "2021-05-06T10:38:40.494493Z",
     "shell.execute_reply": "2021-05-06T10:38:40.494953Z"
    }
   },
   "outputs": [],
   "source": [
    "def insert_data(paramtype, npoints, nreps=1):\n",
    "\n",
    "    meas = Measurement(exp=exp)\n",
    "\n",
    "    x1 = ManualParameter('x1')\n",
    "    x2 = ManualParameter('x2')\n",
    "    x3 = ManualParameter('x3')\n",
    "    y1 = ManualParameter('y1')\n",
    "    y2 = ManualParameter('y2')\n",
    "\n",
    "    meas.register_parameter(x1, paramtype=paramtype)\n",
    "    meas.register_parameter(x2, paramtype=paramtype)\n",
    "    meas.register_parameter(x3, paramtype=paramtype)\n",
    "    meas.register_parameter(y1, setpoints=[x1, x2, x3],\n",
    "                            paramtype=paramtype)\n",
    "    meas.register_parameter(y2, setpoints=[x1, x2, x3],\n",
    "                            paramtype=paramtype)\n",
    "    start = time.perf_counter()\n",
    "    with meas.run() as datasaver:\n",
    "        start_adding = time.perf_counter()\n",
    "        for i in range(nreps):\n",
    "            datasaver.add_result((x1, np.random.rand(npoints)),\n",
    "                                 (x2, np.random.rand(npoints)),\n",
    "                                 (x3, np.random.rand(npoints)),\n",
    "                                 (y1, np.random.rand(npoints)),\n",
    "                                 (y2, np.random.rand(npoints)))\n",
    "        stop_adding = time.perf_counter()\n",
    "        run_id = datasaver.run_id\n",
    "    stop = time.perf_counter()\n",
    "    tot_time = stop - start\n",
    "    add_time = stop_adding - start_adding\n",
    "    return tot_time, add_time, run_id"
   ]
  },
  {
   "cell_type": "markdown",
   "metadata": {},
   "source": [
    "## Comparison between numeric/array data and binary blob"
   ]
  },
  {
   "cell_type": "markdown",
   "metadata": {},
   "source": [
    "### Case1: Short experiment time"
   ]
  },
  {
   "cell_type": "code",
   "execution_count": 5,
   "metadata": {
    "execution": {
     "iopub.execute_input": "2021-05-06T10:38:40.502050Z",
     "iopub.status.busy": "2021-05-06T10:38:40.501344Z",
     "iopub.status.idle": "2021-05-06T10:38:41.340238Z",
     "shell.execute_reply": "2021-05-06T10:38:41.339705Z"
    }
   },
   "outputs": [
    {
     "name": "stdout",
     "output_type": "stream",
     "text": [
      "Starting experimental run with id: 1. \n",
      "Starting experimental run with id: 2. \n",
      "Starting experimental run with id: 3. \n"
     ]
    },
    {
     "name": "stdout",
     "output_type": "stream",
     "text": [
      "Starting experimental run with id: 4. \n"
     ]
    },
    {
     "name": "stdout",
     "output_type": "stream",
     "text": [
      "Starting experimental run with id: 5. \n"
     ]
    },
    {
     "name": "stdout",
     "output_type": "stream",
     "text": [
      "Starting experimental run with id: 6. \n"
     ]
    },
    {
     "name": "stdout",
     "output_type": "stream",
     "text": [
      "Starting experimental run with id: 7. \n",
      "Starting experimental run with id: 8. \n",
      "Starting experimental run with id: 9. \n"
     ]
    },
    {
     "name": "stdout",
     "output_type": "stream",
     "text": [
      "Starting experimental run with id: 10. \n",
      "Starting experimental run with id: 11. \n",
      "Starting experimental run with id: 12. \n",
      "Starting experimental run with id: 13. \n"
     ]
    },
    {
     "name": "stdout",
     "output_type": "stream",
     "text": [
      "Starting experimental run with id: 14. \n"
     ]
    }
   ],
   "source": [
    "sizes = [1,500,1000,2000,3000,4000,5000]\n",
    "t_numeric = []\n",
    "t_numeric_add = []\n",
    "t_array = []\n",
    "t_array_add = []\n",
    "for size in sizes:\n",
    "    tn, tna, run_id_n =  insert_data('numeric', size)\n",
    "    t_numeric.append(tn)\n",
    "    t_numeric_add.append(tna)\n",
    "\n",
    "    ta, taa, run_id_a =  insert_data('array', size)\n",
    "    t_array.append(ta)\n",
    "    t_array_add.append(taa)"
   ]
  },
  {
   "cell_type": "code",
   "execution_count": 6,
   "metadata": {
    "execution": {
     "iopub.execute_input": "2021-05-06T10:38:41.358237Z",
     "iopub.status.busy": "2021-05-06T10:38:41.345818Z",
     "iopub.status.idle": "2021-05-06T10:38:41.590295Z",
     "shell.execute_reply": "2021-05-06T10:38:41.589765Z"
    }
   },
   "outputs": [
    {
     "data": {
      "image/png": "[encoded data removed]",
      "text/plain": [
       "<Figure size 640x480 with 1 Axes>"
      ]
     },
     "metadata": {},
     "output_type": "display_data"
    }
   ],
   "source": [
    "fig, ax = plt.subplots(1,1)\n",
    "ax.plot(sizes, t_numeric, 'o-', label='Inserting row-by-row')\n",
    "ax.plot(sizes, t_numeric_add, 'o-', label='Inserting row-by-row: add_result only')\n",
    "ax.plot(sizes, t_array, 'd-', label='Inserting as binary blob')\n",
    "ax.plot(sizes, t_array_add, 'd-', label='Inserting as binary blob: add_result only')\n",
    "ax.legend()\n",
    "ax.set_xlabel('Array length')\n",
    "ax.set_ylabel('Time (s)')\n",
    "fig.tight_layout()"
   ]
  },
  {
   "cell_type": "markdown",
   "metadata": {},
   "source": [
    "As shown in the latter figure, the time to setup and and close the experiment is approximately 0.4 sec. In case of small array sizes, the difference between inserting values of data as arrays and inserting them row-by-row is relatively unimportant. At larger array sizes, i.e. above 10000 points, the cost of writing data as individual datapoints starts to become important.\n"
   ]
  },
  {
   "cell_type": "markdown",
   "metadata": {},
   "source": [
    "### Case2: Long experiment time "
   ]
  },
  {
   "cell_type": "code",
   "execution_count": 7,
   "metadata": {
    "execution": {
     "iopub.execute_input": "2021-05-06T10:38:41.597646Z",
     "iopub.status.busy": "2021-05-06T10:38:41.596536Z",
     "iopub.status.idle": "2021-05-06T10:39:37.286558Z",
     "shell.execute_reply": "2021-05-06T10:39:37.285665Z"
    }
   },
   "outputs": [
    {
     "name": "stdout",
     "output_type": "stream",
     "text": [
      "Starting experimental run with id: 15. \n",
      "Starting experimental run with id: 16. \n",
      "Starting experimental run with id: 17. \n"
     ]
    },
    {
     "name": "stdout",
     "output_type": "stream",
     "text": [
      "Starting experimental run with id: 18. \n",
      "Starting experimental run with id: 19. \n"
     ]
    },
    {
     "name": "stdout",
     "output_type": "stream",
     "text": [
      "Starting experimental run with id: 20. \n"
     ]
    },
    {
     "name": "stdout",
     "output_type": "stream",
     "text": [
      "Starting experimental run with id: 21. \n"
     ]
    },
    {
     "name": "stdout",
     "output_type": "stream",
     "text": [
      "Starting experimental run with id: 22. \n"
     ]
    },
    {
     "name": "stdout",
     "output_type": "stream",
     "text": [
      "Starting experimental run with id: 23. \n"
     ]
    },
    {
     "name": "stdout",
     "output_type": "stream",
     "text": [
      "Starting experimental run with id: 24. \n"
     ]
    },
    {
     "name": "stdout",
     "output_type": "stream",
     "text": [
      "Starting experimental run with id: 25. \n"
     ]
    },
    {
     "name": "stdout",
     "output_type": "stream",
     "text": [
      "Starting experimental run with id: 26. \n"
     ]
    },
    {
     "name": "stdout",
     "output_type": "stream",
     "text": [
      "Starting experimental run with id: 27. \n"
     ]
    },
    {
     "name": "stdout",
     "output_type": "stream",
     "text": [
      "Starting experimental run with id: 28. \n"
     ]
    }
   ],
   "source": [
    "sizes = [1,500,1000,2000,3000,4000,5000]\n",
    "nreps = 100\n",
    "t_numeric = []\n",
    "t_numeric_add = []\n",
    "t_numeric_run_ids = []\n",
    "t_array = []\n",
    "t_array_add = []\n",
    "t_array_run_ids = []\n",
    "for size in sizes:\n",
    "    tn, tna, run_id_n =  insert_data('numeric', size, nreps=nreps)\n",
    "    t_numeric.append(tn)\n",
    "    t_numeric_add.append(tna)\n",
    "    t_numeric_run_ids.append(run_id_n)\n",
    "\n",
    "    ta, taa, run_id_a =  insert_data('array', size, nreps=nreps)\n",
    "    t_array.append(ta)\n",
    "    t_array_add.append(taa)\n",
    "    t_array_run_ids.append(run_id_a)"
   ]
  },
  {
   "cell_type": "code",
   "execution_count": 8,
   "metadata": {
    "execution": {
     "iopub.execute_input": "2021-05-06T10:39:37.328980Z",
     "iopub.status.busy": "2021-05-06T10:39:37.305564Z",
     "iopub.status.idle": "2021-05-06T10:39:37.518167Z",
     "shell.execute_reply": "2021-05-06T10:39:37.517676Z"
    },
    "scrolled": true
   },
   "outputs": [
    {
     "data": {
      "image/png": "[encoded data removed]",
      "text/plain": [
       "<Figure size 640x480 with 1 Axes>"
      ]
     },
     "metadata": {},
     "output_type": "display_data"
    }
   ],
   "source": [
    "fig, ax = plt.subplots(1,1)\n",
    "ax.plot(sizes, t_numeric, 'o-', label='Inserting row-by-row')\n",
    "ax.plot(sizes, t_numeric_add, 'o-', label='Inserting row-by-row: add_result only')\n",
    "ax.plot(sizes, t_array, 'd-', label='Inserting as binary blob')\n",
    "ax.plot(sizes, t_array_add, 'd-', label='Inserting as binary blob: add_result only')\n",
    "ax.legend()\n",
    "ax.set_xlabel('Array length')\n",
    "ax.set_ylabel('Time (s)')\n",
    "fig.tight_layout()"
   ]
  },
  {
   "cell_type": "markdown",
   "metadata": {},
   "source": [
    "However, as we increase the length of the experiment, as seen here by repeating the insertion 100 times, we see a big difference between inserting values of the data row-by-row and inserting it as a binary blob."
   ]
  },
  {
   "cell_type": "markdown",
   "metadata": {},
   "source": [
    "## Loading the data "
   ]
  },
  {
   "cell_type": "code",
   "execution_count": 9,
   "metadata": {
    "execution": {
     "iopub.execute_input": "2021-05-06T10:39:37.522785Z",
     "iopub.status.busy": "2021-05-06T10:39:37.522216Z",
     "iopub.status.idle": "2021-05-06T10:39:37.525802Z",
     "shell.execute_reply": "2021-05-06T10:39:37.525289Z"
    }
   },
   "outputs": [],
   "source": [
    "from qcodes.dataset.data_set import load_by_id"
   ]
  },
  {
   "cell_type": "markdown",
   "metadata": {},
   "source": [
    "As usual you can load the data by using the ``load_by_id`` function but you will notice that the different storage methods\n",
    "are reflected in shape of the data as it is retrieved. "
   ]
  },
  {
   "cell_type": "code",
   "execution_count": 10,
   "metadata": {
    "execution": {
     "iopub.execute_input": "2021-05-06T10:39:37.529674Z",
     "iopub.status.busy": "2021-05-06T10:39:37.528943Z",
     "iopub.status.idle": "2021-05-06T10:39:37.532743Z",
     "shell.execute_reply": "2021-05-06T10:39:37.533219Z"
    }
   },
   "outputs": [],
   "source": [
    "run_id_n = t_numeric_run_ids[0]\n",
    "run_id_a = t_array_run_ids[0]"
   ]
  },
  {
   "cell_type": "code",
   "execution_count": 11,
   "metadata": {
    "execution": {
     "iopub.execute_input": "2021-05-06T10:39:37.537020Z",
     "iopub.status.busy": "2021-05-06T10:39:37.536460Z",
     "iopub.status.idle": "2021-05-06T10:39:37.548470Z",
     "shell.execute_reply": "2021-05-06T10:39:37.548006Z"
    },
    "scrolled": true
   },
   "outputs": [
    {
     "data": {
      "text/plain": [
       "{'x1': {'x1': array([0.23641312, 0.23641312, 0.86891928, 0.86891928, 0.53169948,\n",
       "         0.53169948, 0.28761388, 0.28761388, 0.20506523, 0.20506523,\n",
       "         0.44152145, 0.44152145, 0.10086136, 0.10086136, 0.29403721,\n",
       "         0.29403721, 0.46497867, 0.46497867, 0.60950754, 0.60950754,\n",
       "         0.61927858, 0.61927858, 0.62033434, 0.62033434, 0.09813572,\n",
       "         0.09813572, 0.25167998, 0.25167998, 0.54008447, 0.54008447,\n",
       "         0.4807123 , 0.4807123 , 0.84047341, 0.84047341, 0.99550829,\n",
       "         0.99550829, 0.0515735 , 0.0515735 , 0.05657117, 0.05657117,\n",
       "         0.69875109, 0.69875109, 0.43509457, 0.43509457, 0.27911032,\n",
       "         0.27911032, 0.84849181, 0.84849181, 0.65268506, 0.65268506,\n",
       "         0.19330938, 0.19330938, 0.42197752, 0.42197752, 0.65891443,\n",
       "         0.65891443, 0.36134626, 0.36134626, 0.6662111 , 0.6662111 ,\n",
       "         0.76109829, 0.76109829, 0.99506001, 0.99506001, 0.86329914,\n",
       "         0.86329914, 0.07430327, 0.07430327, 0.08807946, 0.08807946,\n",
       "         0.73990747, 0.73990747, 0.3598969 , 0.3598969 , 0.54634407,\n",
       "         0.54634407, 0.13549608, 0.13549608, 0.83079826, 0.83079826,\n",
       "         0.04428699, 0.04428699, 0.13001349, 0.13001349, 0.32517878,\n",
       "         0.32517878, 0.05140379, 0.05140379, 0.11133667, 0.11133667,\n",
       "         0.80847432, 0.80847432, 0.11722585, 0.11722585, 0.72181561,\n",
       "         0.72181561, 0.16892834, 0.16892834, 0.64820027, 0.64820027,\n",
       "         0.96878396, 0.96878396, 0.98318283, 0.98318283, 0.6834877 ,\n",
       "         0.6834877 , 0.56194168, 0.56194168, 0.77699191, 0.77699191,\n",
       "         0.01284753, 0.01284753, 0.14581077, 0.14581077, 0.65428115,\n",
       "         0.65428115, 0.44493249, 0.44493249, 0.90512983, 0.90512983,\n",
       "         0.72511873, 0.72511873, 0.52834476, 0.52834476, 0.33169073,\n",
       "         0.33169073, 0.47418364, 0.47418364, 0.87689987, 0.87689987,\n",
       "         0.09369255, 0.09369255, 0.53637519, 0.53637519, 0.6157637 ,\n",
       "         0.6157637 , 0.63500217, 0.63500217, 0.9227331 , 0.9227331 ,\n",
       "         0.4866107 , 0.4866107 , 0.6406133 , 0.6406133 , 0.40869764,\n",
       "         0.40869764, 0.20092722, 0.20092722, 0.88887901, 0.88887901,\n",
       "         0.60087388, 0.60087388, 0.7301863 , 0.7301863 , 0.73619161,\n",
       "         0.73619161, 0.85532627, 0.85532627, 0.42323377, 0.42323377,\n",
       "         0.27450631, 0.27450631, 0.04510793, 0.04510793, 0.4012212 ,\n",
       "         0.4012212 , 0.11244513, 0.11244513, 0.22760731, 0.22760731,\n",
       "         0.66386893, 0.66386893, 0.6080611 , 0.6080611 , 0.46362147,\n",
       "         0.46362147, 0.06295279, 0.06295279, 0.16073681, 0.16073681,\n",
       "         0.4458718 , 0.4458718 , 0.70497524, 0.70497524, 0.08866249,\n",
       "         0.08866249, 0.38784805, 0.38784805, 0.73741338, 0.73741338,\n",
       "         0.75913223, 0.75913223, 0.75359723, 0.75359723, 0.95495325,\n",
       "         0.95495325, 0.84376454, 0.84376454, 0.58500287, 0.58500287])}}"
      ]
     },
     "execution_count": 1,
     "metadata": {},
     "output_type": "execute_result"
    }
   ],
   "source": [
    "ds = load_by_id(run_id_n)\n",
    "ds.get_parameter_data('x1')"
   ]
  },
  {
   "cell_type": "markdown",
   "metadata": {},
   "source": [
    "And a dataset stored as binary arrays"
   ]
  },
  {
   "cell_type": "code",
   "execution_count": 12,
   "metadata": {
    "execution": {
     "iopub.execute_input": "2021-05-06T10:39:37.552184Z",
     "iopub.status.busy": "2021-05-06T10:39:37.551618Z",
     "iopub.status.idle": "2021-05-06T10:39:37.607964Z",
     "shell.execute_reply": "2021-05-06T10:39:37.608404Z"
    },
    "scrolled": true
   },
   "outputs": [
    {
     "data": {
      "text/plain": [
       "{'x1': {'x1': array([[0.28311297],\n",
       "         [0.28311297],\n",
       "         [0.50804688],\n",
       "         [0.50804688],\n",
       "         [0.11559086],\n",
       "         [0.11559086],\n",
       "         [0.37727952],\n",
       "         [0.37727952],\n",
       "         [0.6449721 ],\n",
       "         [0.6449721 ],\n",
       "         [0.08075921],\n",
       "         [0.08075921],\n",
       "         [0.94836836],\n",
       "         [0.94836836],\n",
       "         [0.39306499],\n",
       "         [0.39306499],\n",
       "         [0.2214416 ],\n",
       "         [0.2214416 ],\n",
       "         [0.63414058],\n",
       "         [0.63414058],\n",
       "         [0.28730436],\n",
       "         [0.28730436],\n",
       "         [0.71097706],\n",
       "         [0.71097706],\n",
       "         [0.85037205],\n",
       "         [0.85037205],\n",
       "         [0.58902079],\n",
       "         [0.58902079],\n",
       "         [0.02689131],\n",
       "         [0.02689131],\n",
       "         [0.70672647],\n",
       "         [0.70672647],\n",
       "         [0.70390334],\n",
       "         [0.70390334],\n",
       "         [0.99384041],\n",
       "         [0.99384041],\n",
       "         [0.9091636 ],\n",
       "         [0.9091636 ],\n",
       "         [0.88003503],\n",
       "         [0.88003503],\n",
       "         [0.5177835 ],\n",
       "         [0.5177835 ],\n",
       "         [0.3343502 ],\n",
       "         [0.3343502 ],\n",
       "         [0.79172709],\n",
       "         [0.79172709],\n",
       "         [0.81476061],\n",
       "         [0.81476061],\n",
       "         [0.64495635],\n",
       "         [0.64495635],\n",
       "         [0.02272329],\n",
       "         [0.02272329],\n",
       "         [0.27605043],\n",
       "         [0.27605043],\n",
       "         [0.72311874],\n",
       "         [0.72311874],\n",
       "         [0.77686234],\n",
       "         [0.77686234],\n",
       "         [0.98668082],\n",
       "         [0.98668082],\n",
       "         [0.12709098],\n",
       "         [0.12709098],\n",
       "         [0.5248634 ],\n",
       "         [0.5248634 ],\n",
       "         [0.48639053],\n",
       "         [0.48639053],\n",
       "         [0.17578122],\n",
       "         [0.17578122],\n",
       "         [0.53206226],\n",
       "         [0.53206226],\n",
       "         [0.87072497],\n",
       "         [0.87072497],\n",
       "         [0.30826721],\n",
       "         [0.30826721],\n",
       "         [0.60726915],\n",
       "         [0.60726915],\n",
       "         [0.49485001],\n",
       "         [0.49485001],\n",
       "         [0.09426443],\n",
       "         [0.09426443],\n",
       "         [0.17376249],\n",
       "         [0.17376249],\n",
       "         [0.20420417],\n",
       "         [0.20420417],\n",
       "         [0.59375711],\n",
       "         [0.59375711],\n",
       "         [0.98662642],\n",
       "         [0.98662642],\n",
       "         [0.34454621],\n",
       "         [0.34454621],\n",
       "         [0.76280055],\n",
       "         [0.76280055],\n",
       "         [0.98214007],\n",
       "         [0.98214007],\n",
       "         [0.67320241],\n",
       "         [0.67320241],\n",
       "         [0.13384334],\n",
       "         [0.13384334],\n",
       "         [0.49576061],\n",
       "         [0.49576061],\n",
       "         [0.43211917],\n",
       "         [0.43211917],\n",
       "         [0.66461915],\n",
       "         [0.66461915],\n",
       "         [0.33502851],\n",
       "         [0.33502851],\n",
       "         [0.53374364],\n",
       "         [0.53374364],\n",
       "         [0.26554253],\n",
       "         [0.26554253],\n",
       "         [0.97732212],\n",
       "         [0.97732212],\n",
       "         [0.19730361],\n",
       "         [0.19730361],\n",
       "         [0.66846087],\n",
       "         [0.66846087],\n",
       "         [0.80452143],\n",
       "         [0.80452143],\n",
       "         [0.60967635],\n",
       "         [0.60967635],\n",
       "         [0.61016428],\n",
       "         [0.61016428],\n",
       "         [0.86889355],\n",
       "         [0.86889355],\n",
       "         [0.71189497],\n",
       "         [0.71189497],\n",
       "         [0.9178806 ],\n",
       "         [0.9178806 ],\n",
       "         [0.99032491],\n",
       "         [0.99032491],\n",
       "         [0.80555482],\n",
       "         [0.80555482],\n",
       "         [0.99513703],\n",
       "         [0.99513703],\n",
       "         [0.95335957],\n",
       "         [0.95335957],\n",
       "         [0.72731048],\n",
       "         [0.72731048],\n",
       "         [0.39178759],\n",
       "         [0.39178759],\n",
       "         [0.04942069],\n",
       "         [0.04942069],\n",
       "         [0.4648403 ],\n",
       "         [0.4648403 ],\n",
       "         [0.43764568],\n",
       "         [0.43764568],\n",
       "         [0.28615006],\n",
       "         [0.28615006],\n",
       "         [0.4457012 ],\n",
       "         [0.4457012 ],\n",
       "         [0.54106148],\n",
       "         [0.54106148],\n",
       "         [0.30243309],\n",
       "         [0.30243309],\n",
       "         [0.56634326],\n",
       "         [0.56634326],\n",
       "         [0.9242751 ],\n",
       "         [0.9242751 ],\n",
       "         [0.31888541],\n",
       "         [0.31888541],\n",
       "         [0.32041021],\n",
       "         [0.32041021],\n",
       "         [0.92647097],\n",
       "         [0.92647097],\n",
       "         [0.44436238],\n",
       "         [0.44436238],\n",
       "         [0.49753286],\n",
       "         [0.49753286],\n",
       "         [0.06565921],\n",
       "         [0.06565921],\n",
       "         [0.358154  ],\n",
       "         [0.358154  ],\n",
       "         [0.3912542 ],\n",
       "         [0.3912542 ],\n",
       "         [0.99968225],\n",
       "         [0.99968225],\n",
       "         [0.27452319],\n",
       "         [0.27452319],\n",
       "         [0.73819543],\n",
       "         [0.73819543],\n",
       "         [0.37263668],\n",
       "         [0.37263668],\n",
       "         [0.73171903],\n",
       "         [0.73171903],\n",
       "         [0.52774587],\n",
       "         [0.52774587],\n",
       "         [0.3891888 ],\n",
       "         [0.3891888 ],\n",
       "         [0.86452122],\n",
       "         [0.86452122],\n",
       "         [0.78862934],\n",
       "         [0.78862934],\n",
       "         [0.12222139],\n",
       "         [0.12222139],\n",
       "         [0.43063859],\n",
       "         [0.43063859],\n",
       "         [0.34623114],\n",
       "         [0.34623114],\n",
       "         [0.58556232],\n",
       "         [0.58556232]])}}"
      ]
     },
     "execution_count": 1,
     "metadata": {},
     "output_type": "execute_result"
    }
   ],
   "source": [
    "ds = load_by_id(run_id_a)\n",
    "ds.get_parameter_data('x1')"
   ]
  },
  {
   "cell_type": "code",
   "execution_count": null,
   "metadata": {},
   "outputs": [],
   "source": []
  }
 ],
 "metadata": {
  "kernelspec": {
   "display_name": "Python 3",
   "language": "python",
   "name": "python3"
  },
  "language_info": {
   "codemirror_mode": {
    "name": "ipython",
    "version": 3
   },
   "file_extension": ".py",
   "mimetype": "text/x-python",
   "name": "python",
   "nbconvert_exporter": "python",
   "pygments_lexer": "ipython3",
   "version": "3.7.10"
  },
  "nbsphinx": {
   "timeout": 600
  },
  "toc": {
   "base_numbering": 1,
   "nav_menu": {},
   "number_sections": true,
   "sideBar": true,
   "skip_h1_title": false,
   "title_cell": "Table of Contents",
   "title_sidebar": "Contents",
   "toc_cell": false,
   "toc_position": {},
   "toc_section_display": true,
   "toc_window_display": false
  },
  "varInspector": {
   "cols": {
    "lenName": 16,
    "lenType": 16,
    "lenVar": 40
   },
   "kernels_config": {
    "python": {
     "delete_cmd_postfix": "",
     "delete_cmd_prefix": "del ",
     "library": "var_list.py",
     "varRefreshCmd": "print(var_dic_list())"
    },
    "r": {
     "delete_cmd_postfix": ") ",
     "delete_cmd_prefix": "rm(",
     "library": "var_list.r",
     "varRefreshCmd": "cat(var_dic_list()) "
    }
   },
   "types_to_exclude": [
    "module",
    "function",
    "builtin_function_or_method",
    "instance",
    "_Feature"
   ],
   "window_display": false
  }
 },
 "nbformat": 4,
 "nbformat_minor": 4
}
