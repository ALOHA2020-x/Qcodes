{
 "cells": [
  {
   "cell_type": "markdown",
   "metadata": {},
   "source": [
    "# DataSet Performance\n",
    "\n",
    "This notebook shows the trade-off between inserting data into a database row-by-row and as binary blobs. Inserting the data row-by-row means that we have direct access to all the data and may perform queries directly on the values of the data. On the other hand, as we shall see, this is much slower than inserting the data directly as binary blobs."
   ]
  },
  {
   "cell_type": "markdown",
   "metadata": {},
   "source": [
    "First, we choose a new location for the database to ensure that we don't add a bunch of benchmarking data to the default one."
   ]
  },
  {
   "cell_type": "code",
   "execution_count": 1,
   "metadata": {
    "execution": {
     "iopub.execute_input": "2021-03-12T09:22:26.070357Z",
     "iopub.status.busy": "2021-03-12T09:22:26.069751Z",
     "iopub.status.idle": "2021-03-12T09:22:27.083874Z",
     "shell.execute_reply": "2021-03-12T09:22:27.083277Z"
    }
   },
   "outputs": [
    {
     "name": "stdout",
     "output_type": "stream",
     "text": [
      "Logging hadn't been started.\n",
      "Activating auto-logging. Current session state plus future input saved.\n",
      "Filename       : /home/runner/.qcodes/logs/command_history.log\n",
      "Mode           : append\n",
      "Output logging : True\n",
      "Raw input log  : False\n",
      "Timestamping   : True\n",
      "State          : active\n"
     ]
    },
    {
     "name": "stdout",
     "output_type": "stream",
     "text": [
      "Qcodes Logfile : /home/runner/.qcodes/logs/210312-4142-qcodes.log\n"
     ]
    }
   ],
   "source": [
    "import os\n",
    "cwd = os.getcwd()\n",
    "import qcodes as qc\n",
    "qc.config[\"core\"][\"db_location\"] = os.path.join(cwd, 'testing.db')\n"
   ]
  },
  {
   "cell_type": "code",
   "execution_count": 2,
   "metadata": {
    "execution": {
     "iopub.execute_input": "2021-03-12T09:22:27.090818Z",
     "iopub.status.busy": "2021-03-12T09:22:27.089972Z",
     "iopub.status.idle": "2021-03-12T09:22:27.292992Z",
     "shell.execute_reply": "2021-03-12T09:22:27.292455Z"
    }
   },
   "outputs": [],
   "source": [
    "%matplotlib inline\n",
    "import time\n",
    "import matplotlib.pyplot as plt\n",
    "import numpy as np\n",
    "\n",
    "import qcodes as qc\n",
    "from qcodes.instrument.parameter import ManualParameter\n",
    "from qcodes.dataset.experiment_container import (Experiment,\n",
    "                                                 load_last_experiment,\n",
    "                                                 new_experiment)\n",
    "from qcodes.dataset.sqlite.database import initialise_database\n",
    "from qcodes import load_or_create_experiment\n",
    "from qcodes.dataset.measurements import Measurement"
   ]
  },
  {
   "cell_type": "code",
   "execution_count": 3,
   "metadata": {
    "execution": {
     "iopub.execute_input": "2021-03-12T09:22:27.297166Z",
     "iopub.status.busy": "2021-03-12T09:22:27.296554Z",
     "iopub.status.idle": "2021-03-12T09:22:27.426220Z",
     "shell.execute_reply": "2021-03-12T09:22:27.426671Z"
    }
   },
   "outputs": [
    {
     "name": "stdout",
     "output_type": "stream",
     "text": [
      "\r",
      "0it [00:00, ?it/s]"
     ]
    },
    {
     "name": "stdout",
     "output_type": "stream",
     "text": [
      "\r",
      "Upgrading database; v0 -> v1: : 0it [00:00, ?it/s]"
     ]
    },
    {
     "name": "stdout",
     "output_type": "stream",
     "text": [
      "\r",
      "Upgrading database; v0 -> v1: : 0it [00:00, ?it/s]"
     ]
    },
    {
     "name": "stdout",
     "output_type": "stream",
     "text": [
      "\n",
      "\r",
      "  0%|          | 0/1 [00:00<?, ?it/s]"
     ]
    },
    {
     "name": "stdout",
     "output_type": "stream",
     "text": [
      "\r",
      "Upgrading database; v1 -> v2:   0%|          | 0/1 [00:00<?, ?it/s]"
     ]
    },
    {
     "name": "stdout",
     "output_type": "stream",
     "text": [
      "\r",
      "Upgrading database; v1 -> v2: 100%|██████████| 1/1 [00:00<00:00, 1180.83it/s]"
     ]
    },
    {
     "name": "stdout",
     "output_type": "stream",
     "text": [
      "\n",
      "\r",
      "0it [00:00, ?it/s]"
     ]
    },
    {
     "name": "stdout",
     "output_type": "stream",
     "text": [
      "\r",
      "Upgrading database; v2 -> v3: : 0it [00:00, ?it/s]"
     ]
    },
    {
     "name": "stdout",
     "output_type": "stream",
     "text": [
      "\r",
      "Upgrading database; v2 -> v3: : 0it [00:00, ?it/s]"
     ]
    },
    {
     "name": "stdout",
     "output_type": "stream",
     "text": [
      "\n",
      "\r",
      "0it [00:00, ?it/s]"
     ]
    },
    {
     "name": "stdout",
     "output_type": "stream",
     "text": [
      "\r",
      "Upgrading database; v3 -> v4: : 0it [00:00, ?it/s]"
     ]
    },
    {
     "name": "stdout",
     "output_type": "stream",
     "text": [
      "\r",
      "Upgrading database; v3 -> v4: : 0it [00:00, ?it/s]"
     ]
    },
    {
     "name": "stdout",
     "output_type": "stream",
     "text": [
      "\n",
      "\r",
      "  0%|          | 0/1 [00:00<?, ?it/s]"
     ]
    },
    {
     "name": "stdout",
     "output_type": "stream",
     "text": [
      "\r",
      "Upgrading database; v4 -> v5:   0%|          | 0/1 [00:00<?, ?it/s]"
     ]
    },
    {
     "name": "stdout",
     "output_type": "stream",
     "text": [
      "\r",
      "Upgrading database; v4 -> v5: 100%|██████████| 1/1 [00:00<00:00, 1060.77it/s]"
     ]
    },
    {
     "name": "stdout",
     "output_type": "stream",
     "text": [
      "\n",
      "\r",
      "0it [00:00, ?it/s]"
     ]
    },
    {
     "name": "stdout",
     "output_type": "stream",
     "text": [
      "\r",
      "Upgrading database; v5 -> v6: : 0it [00:00, ?it/s]"
     ]
    },
    {
     "name": "stdout",
     "output_type": "stream",
     "text": [
      "\r",
      "Upgrading database; v5 -> v6: : 0it [00:00, ?it/s]"
     ]
    },
    {
     "name": "stdout",
     "output_type": "stream",
     "text": [
      "\n",
      "\r",
      "  0%|          | 0/1 [00:00<?, ?it/s]"
     ]
    },
    {
     "name": "stdout",
     "output_type": "stream",
     "text": [
      "\r",
      "Upgrading database; v6 -> v7:   0%|          | 0/1 [00:00<?, ?it/s]"
     ]
    },
    {
     "name": "stdout",
     "output_type": "stream",
     "text": [
      "\r",
      "Upgrading database; v6 -> v7: 100%|██████████| 1/1 [00:00<00:00, 344.39it/s]"
     ]
    },
    {
     "name": "stdout",
     "output_type": "stream",
     "text": [
      "\n",
      "\r",
      "  0%|          | 0/1 [00:00<?, ?it/s]"
     ]
    },
    {
     "name": "stdout",
     "output_type": "stream",
     "text": [
      "\r",
      "Upgrading database; v7 -> v8:   0%|          | 0/1 [00:00<?, ?it/s]"
     ]
    },
    {
     "name": "stdout",
     "output_type": "stream",
     "text": [
      "\r",
      "Upgrading database; v7 -> v8: 100%|██████████| 1/1 [00:00<00:00, 866.95it/s]"
     ]
    },
    {
     "name": "stdout",
     "output_type": "stream",
     "text": [
      "\n",
      "\r",
      "  0%|          | 0/1 [00:00<?, ?it/s]"
     ]
    },
    {
     "name": "stdout",
     "output_type": "stream",
     "text": [
      "\r",
      "Upgrading database; v8 -> v9:   0%|          | 0/1 [00:00<?, ?it/s]"
     ]
    },
    {
     "name": "stdout",
     "output_type": "stream",
     "text": [
      "\r",
      "Upgrading database; v8 -> v9: 100%|██████████| 1/1 [00:00<00:00, 617.35it/s]"
     ]
    },
    {
     "name": "stdout",
     "output_type": "stream",
     "text": [
      "\n"
     ]
    }
   ],
   "source": [
    "initialise_database()\n",
    "exp = load_or_create_experiment(experiment_name='tutorial_exp', sample_name=\"no sample\")"
   ]
  },
  {
   "cell_type": "markdown",
   "metadata": {},
   "source": [
    "Here, we define a simple function to benchmark the time it takes to insert n points with either numeric or array data type.\n",
    "We will compare both the time used to call ``add_result`` and the time used for the full measurement."
   ]
  },
  {
   "cell_type": "code",
   "execution_count": 4,
   "metadata": {
    "execution": {
     "iopub.execute_input": "2021-03-12T09:22:27.436100Z",
     "iopub.status.busy": "2021-03-12T09:22:27.435504Z",
     "iopub.status.idle": "2021-03-12T09:22:27.439101Z",
     "shell.execute_reply": "2021-03-12T09:22:27.438304Z"
    }
   },
   "outputs": [],
   "source": [
    "def insert_data(paramtype, npoints, nreps=1):\n",
    "\n",
    "    meas = Measurement(exp=exp)\n",
    "\n",
    "    x1 = ManualParameter('x1')\n",
    "    x2 = ManualParameter('x2')\n",
    "    x3 = ManualParameter('x3')\n",
    "    y1 = ManualParameter('y1')\n",
    "    y2 = ManualParameter('y2')\n",
    "\n",
    "    meas.register_parameter(x1, paramtype=paramtype)\n",
    "    meas.register_parameter(x2, paramtype=paramtype)\n",
    "    meas.register_parameter(x3, paramtype=paramtype)\n",
    "    meas.register_parameter(y1, setpoints=[x1, x2, x3],\n",
    "                            paramtype=paramtype)\n",
    "    meas.register_parameter(y2, setpoints=[x1, x2, x3],\n",
    "                            paramtype=paramtype)\n",
    "    start = time.perf_counter()\n",
    "    with meas.run() as datasaver:\n",
    "        start_adding = time.perf_counter()\n",
    "        for i in range(nreps):\n",
    "            datasaver.add_result((x1, np.random.rand(npoints)),\n",
    "                                 (x2, np.random.rand(npoints)),\n",
    "                                 (x3, np.random.rand(npoints)),\n",
    "                                 (y1, np.random.rand(npoints)),\n",
    "                                 (y2, np.random.rand(npoints)))\n",
    "        stop_adding = time.perf_counter()\n",
    "        run_id = datasaver.run_id\n",
    "    stop = time.perf_counter()\n",
    "    tot_time = stop - start\n",
    "    add_time = stop_adding - start_adding\n",
    "    return tot_time, add_time, run_id"
   ]
  },
  {
   "cell_type": "markdown",
   "metadata": {},
   "source": [
    "## Comparison between numeric/array data and binary blob"
   ]
  },
  {
   "cell_type": "markdown",
   "metadata": {},
   "source": [
    "### Case1: Short experiment time"
   ]
  },
  {
   "cell_type": "code",
   "execution_count": 5,
   "metadata": {
    "execution": {
     "iopub.execute_input": "2021-03-12T09:22:27.449412Z",
     "iopub.status.busy": "2021-03-12T09:22:27.448022Z",
     "iopub.status.idle": "2021-03-12T09:22:28.424138Z",
     "shell.execute_reply": "2021-03-12T09:22:28.424587Z"
    }
   },
   "outputs": [
    {
     "name": "stdout",
     "output_type": "stream",
     "text": [
      "Starting experimental run with id: 1. \n",
      "Starting experimental run with id: 2. \n",
      "Starting experimental run with id: 3. \n",
      "Starting experimental run with id: 4. \n"
     ]
    },
    {
     "name": "stdout",
     "output_type": "stream",
     "text": [
      "Starting experimental run with id: 5. \n"
     ]
    },
    {
     "name": "stdout",
     "output_type": "stream",
     "text": [
      "Starting experimental run with id: 6. \n",
      "Starting experimental run with id: 7. \n"
     ]
    },
    {
     "name": "stdout",
     "output_type": "stream",
     "text": [
      "Starting experimental run with id: 8. \n"
     ]
    },
    {
     "name": "stdout",
     "output_type": "stream",
     "text": [
      "Starting experimental run with id: 9. \n",
      "Starting experimental run with id: 10. \n",
      "Starting experimental run with id: 11. \n"
     ]
    },
    {
     "name": "stdout",
     "output_type": "stream",
     "text": [
      "Starting experimental run with id: 12. \n",
      "Starting experimental run with id: 13. \n"
     ]
    },
    {
     "name": "stdout",
     "output_type": "stream",
     "text": [
      "Starting experimental run with id: 14. \n"
     ]
    }
   ],
   "source": [
    "sizes = [1,500,1000,2000,3000,4000,5000]\n",
    "t_numeric = []\n",
    "t_numeric_add = []\n",
    "t_array = []\n",
    "t_array_add = []\n",
    "for size in sizes:\n",
    "    tn, tna, run_id_n =  insert_data('numeric', size)\n",
    "    t_numeric.append(tn)\n",
    "    t_numeric_add.append(tna)\n",
    "\n",
    "    ta, taa, run_id_a =  insert_data('array', size)\n",
    "    t_array.append(ta)\n",
    "    t_array_add.append(taa)"
   ]
  },
  {
   "cell_type": "code",
   "execution_count": 6,
   "metadata": {
    "execution": {
     "iopub.execute_input": "2021-03-12T09:22:28.471343Z",
     "iopub.status.busy": "2021-03-12T09:22:28.443081Z",
     "iopub.status.idle": "2021-03-12T09:22:28.645598Z",
     "shell.execute_reply": "2021-03-12T09:22:28.646435Z"
    }
   },
   "outputs": [
    {
     "data": {
      "image/png": "[encoded data removed]",
      "text/plain": [
       "<Figure size 432x288 with 1 Axes>"
      ]
     },
     "metadata": {
      "needs_background": "light"
     },
     "output_type": "display_data"
    }
   ],
   "source": [
    "fig, ax = plt.subplots(1,1)\n",
    "ax.plot(sizes, t_numeric, 'o-', label='Inserting row-by-row')\n",
    "ax.plot(sizes, t_numeric_add, 'o-', label='Inserting row-by-row: add_result only')\n",
    "ax.plot(sizes, t_array, 'd-', label='Inserting as binary blob')\n",
    "ax.plot(sizes, t_array_add, 'd-', label='Inserting as binary blob: add_result only')\n",
    "ax.legend()\n",
    "ax.set_xlabel('Array length')\n",
    "ax.set_ylabel('Time (s)')\n",
    "fig.tight_layout()"
   ]
  },
  {
   "cell_type": "markdown",
   "metadata": {},
   "source": [
    "As shown in the latter figure, the time to setup and and close the experiment is approximately 0.4 sec. In case of small array sizes, the difference between inserting values of data as arrays and inserting them row-by-row is relatively unimportant. At larger array sizes, i.e. above 10000 points, the cost of writing data as individual datapoints starts to become important.\n"
   ]
  },
  {
   "cell_type": "markdown",
   "metadata": {},
   "source": [
    "### Case2: Long experiment time "
   ]
  },
  {
   "cell_type": "code",
   "execution_count": 7,
   "metadata": {
    "execution": {
     "iopub.execute_input": "2021-03-12T09:22:28.655084Z",
     "iopub.status.busy": "2021-03-12T09:22:28.654020Z",
     "iopub.status.idle": "2021-03-12T09:23:32.762180Z",
     "shell.execute_reply": "2021-03-12T09:23:32.761103Z"
    }
   },
   "outputs": [
    {
     "name": "stdout",
     "output_type": "stream",
     "text": [
      "Starting experimental run with id: 15. \n",
      "Starting experimental run with id: 16. \n"
     ]
    },
    {
     "name": "stdout",
     "output_type": "stream",
     "text": [
      "Starting experimental run with id: 17. \n"
     ]
    },
    {
     "name": "stdout",
     "output_type": "stream",
     "text": [
      "Starting experimental run with id: 18. \n"
     ]
    },
    {
     "name": "stdout",
     "output_type": "stream",
     "text": [
      "Starting experimental run with id: 19. \n"
     ]
    },
    {
     "name": "stdout",
     "output_type": "stream",
     "text": [
      "Starting experimental run with id: 20. \n"
     ]
    },
    {
     "name": "stdout",
     "output_type": "stream",
     "text": [
      "Starting experimental run with id: 21. \n"
     ]
    },
    {
     "name": "stdout",
     "output_type": "stream",
     "text": [
      "Starting experimental run with id: 22. \n"
     ]
    },
    {
     "name": "stdout",
     "output_type": "stream",
     "text": [
      "Starting experimental run with id: 23. \n"
     ]
    },
    {
     "name": "stdout",
     "output_type": "stream",
     "text": [
      "Starting experimental run with id: 24. \n"
     ]
    },
    {
     "name": "stdout",
     "output_type": "stream",
     "text": [
      "Starting experimental run with id: 25. \n"
     ]
    },
    {
     "name": "stdout",
     "output_type": "stream",
     "text": [
      "Starting experimental run with id: 26. \n"
     ]
    },
    {
     "name": "stdout",
     "output_type": "stream",
     "text": [
      "Starting experimental run with id: 27. \n"
     ]
    },
    {
     "name": "stdout",
     "output_type": "stream",
     "text": [
      "Starting experimental run with id: 28. \n"
     ]
    }
   ],
   "source": [
    "sizes = [1,500,1000,2000,3000,4000,5000]\n",
    "nreps = 100\n",
    "t_numeric = []\n",
    "t_numeric_add = []\n",
    "t_numeric_run_ids = []\n",
    "t_array = []\n",
    "t_array_add = []\n",
    "t_array_run_ids = []\n",
    "for size in sizes:\n",
    "    tn, tna, run_id_n =  insert_data('numeric', size, nreps=nreps)\n",
    "    t_numeric.append(tn)\n",
    "    t_numeric_add.append(tna)\n",
    "    t_numeric_run_ids.append(run_id_n)\n",
    "\n",
    "    ta, taa, run_id_a =  insert_data('array', size, nreps=nreps)\n",
    "    t_array.append(ta)\n",
    "    t_array_add.append(taa)\n",
    "    t_array_run_ids.append(run_id_a)"
   ]
  },
  {
   "cell_type": "code",
   "execution_count": 8,
   "metadata": {
    "execution": {
     "iopub.execute_input": "2021-03-12T09:23:32.804981Z",
     "iopub.status.busy": "2021-03-12T09:23:32.794196Z",
     "iopub.status.idle": "2021-03-12T09:23:32.981401Z",
     "shell.execute_reply": "2021-03-12T09:23:32.980901Z"
    },
    "scrolled": true
   },
   "outputs": [
    {
     "data": {
      "image/png": "[encoded data removed]",
      "text/plain": [
       "<Figure size 432x288 with 1 Axes>"
      ]
     },
     "metadata": {
      "needs_background": "light"
     },
     "output_type": "display_data"
    }
   ],
   "source": [
    "fig, ax = plt.subplots(1,1)\n",
    "ax.plot(sizes, t_numeric, 'o-', label='Inserting row-by-row')\n",
    "ax.plot(sizes, t_numeric_add, 'o-', label='Inserting row-by-row: add_result only')\n",
    "ax.plot(sizes, t_array, 'd-', label='Inserting as binary blob')\n",
    "ax.plot(sizes, t_array_add, 'd-', label='Inserting as binary blob: add_result only')\n",
    "ax.legend()\n",
    "ax.set_xlabel('Array length')\n",
    "ax.set_ylabel('Time (s)')\n",
    "fig.tight_layout()"
   ]
  },
  {
   "cell_type": "markdown",
   "metadata": {},
   "source": [
    "However, as we increase the length of the experiment, as seen here by repeating the insertion 100 times, we see a big difference between inserting values of the data row-by-row and inserting it as a binary blob."
   ]
  },
  {
   "cell_type": "markdown",
   "metadata": {},
   "source": [
    "## Loading the data "
   ]
  },
  {
   "cell_type": "code",
   "execution_count": 9,
   "metadata": {
    "execution": {
     "iopub.execute_input": "2021-03-12T09:23:32.991812Z",
     "iopub.status.busy": "2021-03-12T09:23:32.990496Z",
     "iopub.status.idle": "2021-03-12T09:23:32.992485Z",
     "shell.execute_reply": "2021-03-12T09:23:32.992958Z"
    }
   },
   "outputs": [],
   "source": [
    "from qcodes.dataset.data_set import load_by_id\n",
    "from qcodes.dataset.data_export import get_data_by_id"
   ]
  },
  {
   "cell_type": "markdown",
   "metadata": {},
   "source": [
    "As usual you can load the data by using the ``load_by_id`` function but you will notice that the different storage methods\n",
    "are reflected in shape of the data as it is retrieved. "
   ]
  },
  {
   "cell_type": "code",
   "execution_count": 10,
   "metadata": {
    "execution": {
     "iopub.execute_input": "2021-03-12T09:23:32.997928Z",
     "iopub.status.busy": "2021-03-12T09:23:32.996702Z",
     "iopub.status.idle": "2021-03-12T09:23:32.998565Z",
     "shell.execute_reply": "2021-03-12T09:23:32.999052Z"
    }
   },
   "outputs": [],
   "source": [
    "run_id_n = t_numeric_run_ids[0]\n",
    "run_id_a = t_array_run_ids[0]"
   ]
  },
  {
   "cell_type": "code",
   "execution_count": 11,
   "metadata": {
    "execution": {
     "iopub.execute_input": "2021-03-12T09:23:33.002670Z",
     "iopub.status.busy": "2021-03-12T09:23:33.002108Z",
     "iopub.status.idle": "2021-03-12T09:23:33.012032Z",
     "shell.execute_reply": "2021-03-12T09:23:33.012469Z"
    },
    "scrolled": true
   },
   "outputs": [
    {
     "data": {
      "text/plain": [
       "{'x1': {'x1': array([0.1299322 , 0.1299322 , 0.29507382, 0.29507382, 0.39690503,\n",
       "         0.39690503, 0.92310868, 0.92310868, 0.95231807, 0.95231807,\n",
       "         0.97785028, 0.97785028, 0.60758513, 0.60758513, 0.9638513 ,\n",
       "         0.9638513 , 0.78355524, 0.78355524, 0.01450156, 0.01450156,\n",
       "         0.09108764, 0.09108764, 0.08665083, 0.08665083, 0.17173235,\n",
       "         0.17173235, 0.34389257, 0.34389257, 0.33151016, 0.33151016,\n",
       "         0.06204998, 0.06204998, 0.10238543, 0.10238543, 0.72340037,\n",
       "         0.72340037, 0.33037612, 0.33037612, 0.12609679, 0.12609679,\n",
       "         0.12047527, 0.12047527, 0.17385612, 0.17385612, 0.13154996,\n",
       "         0.13154996, 0.77740406, 0.77740406, 0.31646537, 0.31646537,\n",
       "         0.75275507, 0.75275507, 0.20819032, 0.20819032, 0.56865443,\n",
       "         0.56865443, 0.11161051, 0.11161051, 0.68133614, 0.68133614,\n",
       "         0.06852594, 0.06852594, 0.25861362, 0.25861362, 0.02380705,\n",
       "         0.02380705, 0.6801766 , 0.6801766 , 0.93615917, 0.93615917,\n",
       "         0.15684199, 0.15684199, 0.09202526, 0.09202526, 0.24927248,\n",
       "         0.24927248, 0.29094985, 0.29094985, 0.95913505, 0.95913505,\n",
       "         0.73701499, 0.73701499, 0.15901473, 0.15901473, 0.06956219,\n",
       "         0.06956219, 0.1528763 , 0.1528763 , 0.59448457, 0.59448457,\n",
       "         0.95784516, 0.95784516, 0.00149535, 0.00149535, 0.5441732 ,\n",
       "         0.5441732 , 0.89129739, 0.89129739, 0.46735674, 0.46735674,\n",
       "         0.25889806, 0.25889806, 0.98755744, 0.98755744, 0.85786227,\n",
       "         0.85786227, 0.98407245, 0.98407245, 0.16216626, 0.16216626,\n",
       "         0.42281105, 0.42281105, 0.85904634, 0.85904634, 0.35034182,\n",
       "         0.35034182, 0.93558513, 0.93558513, 0.90714104, 0.90714104,\n",
       "         0.81153664, 0.81153664, 0.42211634, 0.42211634, 0.43873474,\n",
       "         0.43873474, 0.57101552, 0.57101552, 0.42981572, 0.42981572,\n",
       "         0.63706724, 0.63706724, 0.75343008, 0.75343008, 0.54532433,\n",
       "         0.54532433, 0.93454521, 0.93454521, 0.59096143, 0.59096143,\n",
       "         0.68909424, 0.68909424, 0.80479569, 0.80479569, 0.93093669,\n",
       "         0.93093669, 0.64317516, 0.64317516, 0.82199646, 0.82199646,\n",
       "         0.92202027, 0.92202027, 0.51456144, 0.51456144, 0.28860323,\n",
       "         0.28860323, 0.04214021, 0.04214021, 0.47081463, 0.47081463,\n",
       "         0.85446276, 0.85446276, 0.93418833, 0.93418833, 0.17325617,\n",
       "         0.17325617, 0.7144208 , 0.7144208 , 0.59339966, 0.59339966,\n",
       "         0.27058741, 0.27058741, 0.7260823 , 0.7260823 , 0.87270755,\n",
       "         0.87270755, 0.87669188, 0.87669188, 0.6365918 , 0.6365918 ,\n",
       "         0.62372054, 0.62372054, 0.80316258, 0.80316258, 0.75735025,\n",
       "         0.75735025, 0.71553137, 0.71553137, 0.24486558, 0.24486558,\n",
       "         0.02484236, 0.02484236, 0.36467342, 0.36467342, 0.32060436,\n",
       "         0.32060436, 0.04498492, 0.04498492, 0.998612  , 0.998612  ])}}"
      ]
     },
     "execution_count": 1,
     "metadata": {},
     "output_type": "execute_result"
    }
   ],
   "source": [
    "ds = load_by_id(run_id_n)\n",
    "ds.get_parameter_data('x1')"
   ]
  },
  {
   "cell_type": "markdown",
   "metadata": {},
   "source": [
    "And a dataset stored as binary arrays"
   ]
  },
  {
   "cell_type": "code",
   "execution_count": 12,
   "metadata": {
    "execution": {
     "iopub.execute_input": "2021-03-12T09:23:33.016253Z",
     "iopub.status.busy": "2021-03-12T09:23:33.015630Z",
     "iopub.status.idle": "2021-03-12T09:23:33.073755Z",
     "shell.execute_reply": "2021-03-12T09:23:33.074237Z"
    },
    "scrolled": true
   },
   "outputs": [
    {
     "data": {
      "text/plain": [
       "{'x1': {'x1': array([[0.29730098],\n",
       "         [0.29730098],\n",
       "         [0.30721399],\n",
       "         [0.30721399],\n",
       "         [0.9390125 ],\n",
       "         [0.9390125 ],\n",
       "         [0.37333438],\n",
       "         [0.37333438],\n",
       "         [0.26806149],\n",
       "         [0.26806149],\n",
       "         [0.36816998],\n",
       "         [0.36816998],\n",
       "         [0.03403134],\n",
       "         [0.03403134],\n",
       "         [0.92978335],\n",
       "         [0.92978335],\n",
       "         [0.13545613],\n",
       "         [0.13545613],\n",
       "         [0.87348616],\n",
       "         [0.87348616],\n",
       "         [0.06999606],\n",
       "         [0.06999606],\n",
       "         [0.00419619],\n",
       "         [0.00419619],\n",
       "         [0.78920008],\n",
       "         [0.78920008],\n",
       "         [0.01136008],\n",
       "         [0.01136008],\n",
       "         [0.97513941],\n",
       "         [0.97513941],\n",
       "         [0.5089237 ],\n",
       "         [0.5089237 ],\n",
       "         [0.92056641],\n",
       "         [0.92056641],\n",
       "         [0.0697525 ],\n",
       "         [0.0697525 ],\n",
       "         [0.15818723],\n",
       "         [0.15818723],\n",
       "         [0.54222293],\n",
       "         [0.54222293],\n",
       "         [0.14310601],\n",
       "         [0.14310601],\n",
       "         [0.05767052],\n",
       "         [0.05767052],\n",
       "         [0.02265377],\n",
       "         [0.02265377],\n",
       "         [0.32601907],\n",
       "         [0.32601907],\n",
       "         [0.43574087],\n",
       "         [0.43574087],\n",
       "         [0.67592469],\n",
       "         [0.67592469],\n",
       "         [0.03831998],\n",
       "         [0.03831998],\n",
       "         [0.3740348 ],\n",
       "         [0.3740348 ],\n",
       "         [0.35072619],\n",
       "         [0.35072619],\n",
       "         [0.50248212],\n",
       "         [0.50248212],\n",
       "         [0.81875036],\n",
       "         [0.81875036],\n",
       "         [0.519892  ],\n",
       "         [0.519892  ],\n",
       "         [0.07177531],\n",
       "         [0.07177531],\n",
       "         [0.08589306],\n",
       "         [0.08589306],\n",
       "         [0.39336695],\n",
       "         [0.39336695],\n",
       "         [0.40071298],\n",
       "         [0.40071298],\n",
       "         [0.15043473],\n",
       "         [0.15043473],\n",
       "         [0.98373945],\n",
       "         [0.98373945],\n",
       "         [0.55472282],\n",
       "         [0.55472282],\n",
       "         [0.77867082],\n",
       "         [0.77867082],\n",
       "         [0.78303681],\n",
       "         [0.78303681],\n",
       "         [0.95820272],\n",
       "         [0.95820272],\n",
       "         [0.29412728],\n",
       "         [0.29412728],\n",
       "         [0.0866533 ],\n",
       "         [0.0866533 ],\n",
       "         [0.46645503],\n",
       "         [0.46645503],\n",
       "         [0.96875291],\n",
       "         [0.96875291],\n",
       "         [0.67815451],\n",
       "         [0.67815451],\n",
       "         [0.14013484],\n",
       "         [0.14013484],\n",
       "         [0.90703421],\n",
       "         [0.90703421],\n",
       "         [0.92835228],\n",
       "         [0.92835228],\n",
       "         [0.39500788],\n",
       "         [0.39500788],\n",
       "         [0.53851681],\n",
       "         [0.53851681],\n",
       "         [0.53933114],\n",
       "         [0.53933114],\n",
       "         [0.06747573],\n",
       "         [0.06747573],\n",
       "         [0.62549578],\n",
       "         [0.62549578],\n",
       "         [0.16754736],\n",
       "         [0.16754736],\n",
       "         [0.06707027],\n",
       "         [0.06707027],\n",
       "         [0.82142509],\n",
       "         [0.82142509],\n",
       "         [0.23442707],\n",
       "         [0.23442707],\n",
       "         [0.87568891],\n",
       "         [0.87568891],\n",
       "         [0.61904636],\n",
       "         [0.61904636],\n",
       "         [0.51503858],\n",
       "         [0.51503858],\n",
       "         [0.16542259],\n",
       "         [0.16542259],\n",
       "         [0.14353652],\n",
       "         [0.14353652],\n",
       "         [0.80860374],\n",
       "         [0.80860374],\n",
       "         [0.51907137],\n",
       "         [0.51907137],\n",
       "         [0.79214624],\n",
       "         [0.79214624],\n",
       "         [0.2730649 ],\n",
       "         [0.2730649 ],\n",
       "         [0.20697662],\n",
       "         [0.20697662],\n",
       "         [0.05743969],\n",
       "         [0.05743969],\n",
       "         [0.69472777],\n",
       "         [0.69472777],\n",
       "         [0.36096822],\n",
       "         [0.36096822],\n",
       "         [0.99875341],\n",
       "         [0.99875341],\n",
       "         [0.50565252],\n",
       "         [0.50565252],\n",
       "         [0.45979298],\n",
       "         [0.45979298],\n",
       "         [0.17491092],\n",
       "         [0.17491092],\n",
       "         [0.72572291],\n",
       "         [0.72572291],\n",
       "         [0.23226049],\n",
       "         [0.23226049],\n",
       "         [0.28655095],\n",
       "         [0.28655095],\n",
       "         [0.52102341],\n",
       "         [0.52102341],\n",
       "         [0.71050945],\n",
       "         [0.71050945],\n",
       "         [0.9595155 ],\n",
       "         [0.9595155 ],\n",
       "         [0.89405236],\n",
       "         [0.89405236],\n",
       "         [0.31523421],\n",
       "         [0.31523421],\n",
       "         [0.9125807 ],\n",
       "         [0.9125807 ],\n",
       "         [0.24279162],\n",
       "         [0.24279162],\n",
       "         [0.37872167],\n",
       "         [0.37872167],\n",
       "         [0.86893732],\n",
       "         [0.86893732],\n",
       "         [0.11580891],\n",
       "         [0.11580891],\n",
       "         [0.83772661],\n",
       "         [0.83772661],\n",
       "         [0.07066237],\n",
       "         [0.07066237],\n",
       "         [0.0816045 ],\n",
       "         [0.0816045 ],\n",
       "         [0.94743104],\n",
       "         [0.94743104],\n",
       "         [0.62226637],\n",
       "         [0.62226637],\n",
       "         [0.41906468],\n",
       "         [0.41906468],\n",
       "         [0.13006488],\n",
       "         [0.13006488],\n",
       "         [0.38126071],\n",
       "         [0.38126071],\n",
       "         [0.71145944],\n",
       "         [0.71145944],\n",
       "         [0.5173279 ],\n",
       "         [0.5173279 ],\n",
       "         [0.05500265],\n",
       "         [0.05500265]])}}"
      ]
     },
     "execution_count": 1,
     "metadata": {},
     "output_type": "execute_result"
    }
   ],
   "source": [
    "ds = load_by_id(run_id_a)\n",
    "ds.get_parameter_data('x1')"
   ]
  },
  {
   "cell_type": "code",
   "execution_count": null,
   "metadata": {},
   "outputs": [],
   "source": []
  }
 ],
 "metadata": {
  "kernelspec": {
   "display_name": "Python 3",
   "language": "python",
   "name": "python3"
  },
  "language_info": {
   "codemirror_mode": {
    "name": "ipython",
    "version": 3
   },
   "file_extension": ".py",
   "mimetype": "text/x-python",
   "name": "python",
   "nbconvert_exporter": "python",
   "pygments_lexer": "ipython3",
   "version": "3.7.10"
  },
  "nbsphinx": {
   "timeout": 600
  },
  "toc": {
   "base_numbering": 1,
   "nav_menu": {},
   "number_sections": true,
   "sideBar": true,
   "skip_h1_title": false,
   "title_cell": "Table of Contents",
   "title_sidebar": "Contents",
   "toc_cell": false,
   "toc_position": {},
   "toc_section_display": true,
   "toc_window_display": false
  },
  "varInspector": {
   "cols": {
    "lenName": 16,
    "lenType": 16,
    "lenVar": 40
   },
   "kernels_config": {
    "python": {
     "delete_cmd_postfix": "",
     "delete_cmd_prefix": "del ",
     "library": "var_list.py",
     "varRefreshCmd": "print(var_dic_list())"
    },
    "r": {
     "delete_cmd_postfix": ") ",
     "delete_cmd_prefix": "rm(",
     "library": "var_list.r",
     "varRefreshCmd": "cat(var_dic_list()) "
    }
   },
   "types_to_exclude": [
    "module",
    "function",
    "builtin_function_or_method",
    "instance",
    "_Feature"
   ],
   "window_display": false
  }
 },
 "nbformat": 4,
 "nbformat_minor": 2
}
