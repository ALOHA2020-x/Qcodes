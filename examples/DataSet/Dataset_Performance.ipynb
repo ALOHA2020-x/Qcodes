{
 "cells": [
  {
   "cell_type": "markdown",
   "metadata": {},
   "source": [
    "# DataSet Performance\n",
    "\n",
    "This notebook shows the trade-off between inserting data into a database row-by-row and as binary blobs. Inserting the data row-by-row means that we have direct access to all the data and may perform queries directly on the values of the data. On the other hand, as we shall see, this is much slower than inserting the data directly as binary blobs."
   ]
  },
  {
   "cell_type": "markdown",
   "metadata": {},
   "source": [
    "First, we choose a new location for the database to ensure that we don't add a bunch of benchmarking data to the default one."
   ]
  },
  {
   "cell_type": "code",
   "execution_count": 1,
   "metadata": {
    "execution": {
     "iopub.execute_input": "2020-09-11T12:43:26.699643Z",
     "iopub.status.busy": "2020-09-11T12:43:26.699015Z",
     "iopub.status.idle": "2020-09-11T12:43:27.764101Z",
     "shell.execute_reply": "2020-09-11T12:43:27.763588Z"
    }
   },
   "outputs": [
    {
     "name": "stdout",
     "output_type": "stream",
     "text": [
      "Logging hadn't been started.\n",
      "Activating auto-logging. Current session state plus future input saved.\n",
      "Filename       : /home/vsts/.qcodes/logs/command_history.log\n",
      "Mode           : append\n",
      "Output logging : True\n",
      "Raw input log  : False\n",
      "Timestamping   : True\n",
      "State          : active\n"
     ]
    },
    {
     "name": "stdout",
     "output_type": "stream",
     "text": [
      "Qcodes Logfile : /home/vsts/.qcodes/logs/200911-18857-qcodes.log\n"
     ]
    }
   ],
   "source": [
    "import os\n",
    "cwd = os.getcwd()\n",
    "import qcodes as qc\n",
    "qc.config[\"core\"][\"db_location\"] = os.path.join(cwd, 'testing.db')\n"
   ]
  },
  {
   "cell_type": "code",
   "execution_count": 2,
   "metadata": {
    "execution": {
     "iopub.execute_input": "2020-09-11T12:43:27.770307Z",
     "iopub.status.busy": "2020-09-11T12:43:27.769402Z",
     "iopub.status.idle": "2020-09-11T12:43:27.944745Z",
     "shell.execute_reply": "2020-09-11T12:43:27.943944Z"
    }
   },
   "outputs": [],
   "source": [
    "%matplotlib inline\n",
    "import time\n",
    "import matplotlib.pyplot as plt\n",
    "import numpy as np\n",
    "\n",
    "import qcodes as qc\n",
    "from qcodes.instrument.parameter import ManualParameter\n",
    "from qcodes.dataset.experiment_container import (Experiment,\n",
    "                                                 load_last_experiment,\n",
    "                                                 new_experiment)\n",
    "from qcodes.dataset.sqlite.database import initialise_database\n",
    "from qcodes import load_or_create_experiment\n",
    "from qcodes.dataset.measurements import Measurement"
   ]
  },
  {
   "cell_type": "code",
   "execution_count": 3,
   "metadata": {
    "execution": {
     "iopub.execute_input": "2020-09-11T12:43:27.948542Z",
     "iopub.status.busy": "2020-09-11T12:43:27.947796Z",
     "iopub.status.idle": "2020-09-11T12:43:28.025014Z",
     "shell.execute_reply": "2020-09-11T12:43:28.024247Z"
    }
   },
   "outputs": [
    {
     "name": "stdout",
     "output_type": "stream",
     "text": [
      "\r",
      "0it [00:00, ?it/s]"
     ]
    },
    {
     "name": "stdout",
     "output_type": "stream",
     "text": [
      "\r",
      "Upgrading database; v0 -> v1: : 0it [00:00, ?it/s]"
     ]
    },
    {
     "name": "stdout",
     "output_type": "stream",
     "text": [
      "\r",
      "Upgrading database; v0 -> v1: : 0it [00:00, ?it/s]"
     ]
    },
    {
     "name": "stdout",
     "output_type": "stream",
     "text": [
      "\n",
      "\r",
      "  0%|          | 0/1 [00:00<?, ?it/s]"
     ]
    },
    {
     "name": "stdout",
     "output_type": "stream",
     "text": [
      "\r",
      "Upgrading database; v1 -> v2:   0%|          | 0/1 [00:00<?, ?it/s]"
     ]
    },
    {
     "name": "stdout",
     "output_type": "stream",
     "text": [
      "\r",
      "Upgrading database; v1 -> v2: 100%|██████████| 1/1 [00:00<00:00, 414.05it/s]"
     ]
    },
    {
     "name": "stdout",
     "output_type": "stream",
     "text": [
      "\n",
      "\r",
      "0it [00:00, ?it/s]"
     ]
    },
    {
     "name": "stdout",
     "output_type": "stream",
     "text": [
      "\r",
      "Upgrading database; v2 -> v3: : 0it [00:00, ?it/s]"
     ]
    },
    {
     "name": "stdout",
     "output_type": "stream",
     "text": [
      "\r",
      "Upgrading database; v2 -> v3: : 0it [00:00, ?it/s]"
     ]
    },
    {
     "name": "stdout",
     "output_type": "stream",
     "text": [
      "\n",
      "\r",
      "0it [00:00, ?it/s]"
     ]
    },
    {
     "name": "stdout",
     "output_type": "stream",
     "text": [
      "\r",
      "Upgrading database; v3 -> v4: : 0it [00:00, ?it/s]"
     ]
    },
    {
     "name": "stdout",
     "output_type": "stream",
     "text": [
      "\r",
      "Upgrading database; v3 -> v4: : 0it [00:00, ?it/s]"
     ]
    },
    {
     "name": "stdout",
     "output_type": "stream",
     "text": [
      "\n",
      "\r",
      "  0%|          | 0/1 [00:00<?, ?it/s]"
     ]
    },
    {
     "name": "stdout",
     "output_type": "stream",
     "text": [
      "\r",
      "Upgrading database; v4 -> v5:   0%|          | 0/1 [00:00<?, ?it/s]"
     ]
    },
    {
     "name": "stdout",
     "output_type": "stream",
     "text": [
      "\r",
      "Upgrading database; v4 -> v5: 100%|██████████| 1/1 [00:00<00:00, 592.58it/s]"
     ]
    },
    {
     "name": "stdout",
     "output_type": "stream",
     "text": [
      "\n",
      "\r",
      "0it [00:00, ?it/s]"
     ]
    },
    {
     "name": "stdout",
     "output_type": "stream",
     "text": [
      "\r",
      "Upgrading database; v5 -> v6: : 0it [00:00, ?it/s]"
     ]
    },
    {
     "name": "stdout",
     "output_type": "stream",
     "text": [
      "\r",
      "Upgrading database; v5 -> v6: : 0it [00:00, ?it/s]"
     ]
    },
    {
     "name": "stdout",
     "output_type": "stream",
     "text": [
      "\n",
      "\r",
      "  0%|          | 0/1 [00:00<?, ?it/s]"
     ]
    },
    {
     "name": "stdout",
     "output_type": "stream",
     "text": [
      "\r",
      "Upgrading database; v6 -> v7:   0%|          | 0/1 [00:00<?, ?it/s]"
     ]
    },
    {
     "name": "stdout",
     "output_type": "stream",
     "text": [
      "\r",
      "Upgrading database; v6 -> v7: 100%|██████████| 1/1 [00:00<00:00, 301.21it/s]"
     ]
    },
    {
     "name": "stdout",
     "output_type": "stream",
     "text": [
      "\n",
      "\r",
      "  0%|          | 0/1 [00:00<?, ?it/s]"
     ]
    },
    {
     "name": "stdout",
     "output_type": "stream",
     "text": [
      "\r",
      "Upgrading database; v7 -> v8:   0%|          | 0/1 [00:00<?, ?it/s]"
     ]
    },
    {
     "name": "stdout",
     "output_type": "stream",
     "text": [
      "\r",
      "Upgrading database; v7 -> v8: 100%|██████████| 1/1 [00:00<00:00, 390.02it/s]"
     ]
    },
    {
     "name": "stdout",
     "output_type": "stream",
     "text": [
      "\n",
      "\r",
      "  0%|          | 0/1 [00:00<?, ?it/s]"
     ]
    },
    {
     "name": "stdout",
     "output_type": "stream",
     "text": [
      "\r",
      "Upgrading database; v8 -> v9:   0%|          | 0/1 [00:00<?, ?it/s]"
     ]
    },
    {
     "name": "stdout",
     "output_type": "stream",
     "text": [
      "\r",
      "Upgrading database; v8 -> v9: 100%|██████████| 1/1 [00:00<00:00, 462.79it/s]"
     ]
    },
    {
     "name": "stdout",
     "output_type": "stream",
     "text": [
      "\n"
     ]
    }
   ],
   "source": [
    "initialise_database()\n",
    "exp = load_or_create_experiment(experiment_name='tutorial_exp', sample_name=\"no sample\")"
   ]
  },
  {
   "cell_type": "markdown",
   "metadata": {},
   "source": [
    "Here, we define a simple function to benchmark the time it takes to insert n points with either numeric or array data type.\n",
    "We will compare both the time used to call ``add_result`` and the time used for the full measurement."
   ]
  },
  {
   "cell_type": "code",
   "execution_count": 4,
   "metadata": {
    "execution": {
     "iopub.execute_input": "2020-09-11T12:43:28.034028Z",
     "iopub.status.busy": "2020-09-11T12:43:28.033444Z",
     "iopub.status.idle": "2020-09-11T12:43:28.037169Z",
     "shell.execute_reply": "2020-09-11T12:43:28.036659Z"
    }
   },
   "outputs": [],
   "source": [
    "def insert_data(paramtype, npoints, nreps=1):\n",
    "\n",
    "    meas = Measurement(exp=exp)\n",
    "\n",
    "    x1 = ManualParameter('x1')\n",
    "    x2 = ManualParameter('x2')\n",
    "    x3 = ManualParameter('x3')\n",
    "    y1 = ManualParameter('y1')\n",
    "    y2 = ManualParameter('y2')\n",
    "\n",
    "    meas.register_parameter(x1, paramtype=paramtype)\n",
    "    meas.register_parameter(x2, paramtype=paramtype)\n",
    "    meas.register_parameter(x3, paramtype=paramtype)\n",
    "    meas.register_parameter(y1, setpoints=[x1, x2, x3],\n",
    "                            paramtype=paramtype)\n",
    "    meas.register_parameter(y2, setpoints=[x1, x2, x3],\n",
    "                            paramtype=paramtype)\n",
    "    start = time.perf_counter()\n",
    "    with meas.run() as datasaver:\n",
    "        start_adding = time.perf_counter()\n",
    "        for i in range(nreps):\n",
    "            datasaver.add_result((x1, np.random.rand(npoints)),\n",
    "                                 (x2, np.random.rand(npoints)),\n",
    "                                 (x3, np.random.rand(npoints)),\n",
    "                                 (y1, np.random.rand(npoints)),\n",
    "                                 (y2, np.random.rand(npoints)))\n",
    "        stop_adding = time.perf_counter()\n",
    "        run_id = datasaver.run_id\n",
    "    stop = time.perf_counter()\n",
    "    tot_time = stop - start\n",
    "    add_time = stop_adding - start_adding\n",
    "    return tot_time, add_time, run_id"
   ]
  },
  {
   "cell_type": "markdown",
   "metadata": {},
   "source": [
    "## Comparison between numeric/array data and binary blob"
   ]
  },
  {
   "cell_type": "markdown",
   "metadata": {},
   "source": [
    "### Case1: Short experiment time"
   ]
  },
  {
   "cell_type": "code",
   "execution_count": 5,
   "metadata": {
    "execution": {
     "iopub.execute_input": "2020-09-11T12:43:28.042913Z",
     "iopub.status.busy": "2020-09-11T12:43:28.040973Z",
     "iopub.status.idle": "2020-09-11T12:43:28.954501Z",
     "shell.execute_reply": "2020-09-11T12:43:28.953998Z"
    }
   },
   "outputs": [
    {
     "name": "stdout",
     "output_type": "stream",
     "text": [
      "Starting experimental run with id: 1. \n",
      "Starting experimental run with id: 2. \n",
      "Starting experimental run with id: 3. \n"
     ]
    },
    {
     "name": "stdout",
     "output_type": "stream",
     "text": [
      "Starting experimental run with id: 4. \n"
     ]
    },
    {
     "name": "stdout",
     "output_type": "stream",
     "text": [
      "Starting experimental run with id: 5. \n"
     ]
    },
    {
     "name": "stdout",
     "output_type": "stream",
     "text": [
      "Starting experimental run with id: 6. \n"
     ]
    },
    {
     "name": "stdout",
     "output_type": "stream",
     "text": [
      "Starting experimental run with id: 7. \n",
      "Starting experimental run with id: 8. \n",
      "Starting experimental run with id: 9. \n"
     ]
    },
    {
     "name": "stdout",
     "output_type": "stream",
     "text": [
      "Starting experimental run with id: 10. \n",
      "Starting experimental run with id: 11. \n",
      "Starting experimental run with id: 12. \n",
      "Starting experimental run with id: 13. \n"
     ]
    },
    {
     "name": "stdout",
     "output_type": "stream",
     "text": [
      "Starting experimental run with id: 14. \n"
     ]
    }
   ],
   "source": [
    "sizes = [1,500,1000,2000,3000,4000,5000]\n",
    "t_numeric = []\n",
    "t_numeric_add = []\n",
    "t_array = []\n",
    "t_array_add = []\n",
    "for size in sizes:\n",
    "    tn, tna, run_id_n =  insert_data('numeric', size)\n",
    "    t_numeric.append(tn)\n",
    "    t_numeric_add.append(tna)\n",
    "\n",
    "    ta, taa, run_id_a =  insert_data('array', size)\n",
    "    t_array.append(ta)\n",
    "    t_array_add.append(taa)"
   ]
  },
  {
   "cell_type": "code",
   "execution_count": 6,
   "metadata": {
    "execution": {
     "iopub.execute_input": "2020-09-11T12:43:28.959795Z",
     "iopub.status.busy": "2020-09-11T12:43:28.959215Z",
     "iopub.status.idle": "2020-09-11T12:43:29.177372Z",
     "shell.execute_reply": "2020-09-11T12:43:29.178096Z"
    }
   },
   "outputs": [
    {
     "data": {
      "image/png": "[encoded data removed]",
      "text/plain": [
       "<Figure size 432x288 with 1 Axes>"
      ]
     },
     "metadata": {
      "needs_background": "light"
     },
     "output_type": "display_data"
    }
   ],
   "source": [
    "fig, ax = plt.subplots(1,1)\n",
    "ax.plot(sizes, t_numeric, 'o-', label='Inserting row-by-row')\n",
    "ax.plot(sizes, t_numeric_add, 'o-', label='Inserting row-by-row: add_result only')\n",
    "ax.plot(sizes, t_array, 'd-', label='Inserting as binary blob')\n",
    "ax.plot(sizes, t_array_add, 'd-', label='Inserting as binary blob: add_result only')\n",
    "ax.legend()\n",
    "ax.set_xlabel('Array length')\n",
    "ax.set_ylabel('Time (s)')\n",
    "fig.tight_layout()"
   ]
  },
  {
   "cell_type": "markdown",
   "metadata": {},
   "source": [
    "As shown in the latter figure, the time to setup and and close the experiment is approximately 0.4 sec. In case of small array sizes, the difference between inserting values of data as arrays and inserting them row-by-row is relatively unimportant. At larger array sizes, i.e. above 10000 points, the cost of writing data as individual datapoints starts to become important.\n"
   ]
  },
  {
   "cell_type": "markdown",
   "metadata": {},
   "source": [
    "### Case2: Long experiment time "
   ]
  },
  {
   "cell_type": "code",
   "execution_count": 7,
   "metadata": {
    "execution": {
     "iopub.execute_input": "2020-09-11T12:43:29.184761Z",
     "iopub.status.busy": "2020-09-11T12:43:29.183329Z",
     "iopub.status.idle": "2020-09-11T12:44:30.347230Z",
     "shell.execute_reply": "2020-09-11T12:44:30.347699Z"
    }
   },
   "outputs": [
    {
     "name": "stdout",
     "output_type": "stream",
     "text": [
      "Starting experimental run with id: 15. \n",
      "Starting experimental run with id: 16. \n",
      "Starting experimental run with id: 17. \n"
     ]
    },
    {
     "name": "stdout",
     "output_type": "stream",
     "text": [
      "Starting experimental run with id: 18. \n",
      "Starting experimental run with id: 19. \n"
     ]
    },
    {
     "name": "stdout",
     "output_type": "stream",
     "text": [
      "Starting experimental run with id: 20. \n"
     ]
    },
    {
     "name": "stdout",
     "output_type": "stream",
     "text": [
      "Starting experimental run with id: 21. \n"
     ]
    },
    {
     "name": "stdout",
     "output_type": "stream",
     "text": [
      "Starting experimental run with id: 22. \n"
     ]
    },
    {
     "name": "stdout",
     "output_type": "stream",
     "text": [
      "Starting experimental run with id: 23. \n"
     ]
    },
    {
     "name": "stdout",
     "output_type": "stream",
     "text": [
      "Starting experimental run with id: 24. \n"
     ]
    },
    {
     "name": "stdout",
     "output_type": "stream",
     "text": [
      "Starting experimental run with id: 25. \n"
     ]
    },
    {
     "name": "stdout",
     "output_type": "stream",
     "text": [
      "Starting experimental run with id: 26. \n"
     ]
    },
    {
     "name": "stdout",
     "output_type": "stream",
     "text": [
      "Starting experimental run with id: 27. \n"
     ]
    },
    {
     "name": "stdout",
     "output_type": "stream",
     "text": [
      "Starting experimental run with id: 28. \n"
     ]
    }
   ],
   "source": [
    "sizes = [1,500,1000,2000,3000,4000,5000]\n",
    "nreps = 100\n",
    "t_numeric = []\n",
    "t_numeric_add = []\n",
    "t_numeric_run_ids = []\n",
    "t_array = []\n",
    "t_array_add = []\n",
    "t_array_run_ids = []\n",
    "for size in sizes:\n",
    "    tn, tna, run_id_n =  insert_data('numeric', size, nreps=nreps)\n",
    "    t_numeric.append(tn)\n",
    "    t_numeric_add.append(tna)\n",
    "    t_numeric_run_ids.append(run_id_n)\n",
    "\n",
    "    ta, taa, run_id_a =  insert_data('array', size, nreps=nreps)\n",
    "    t_array.append(ta)\n",
    "    t_array_add.append(taa)\n",
    "    t_array_run_ids.append(run_id_a)"
   ]
  },
  {
   "cell_type": "code",
   "execution_count": 8,
   "metadata": {
    "execution": {
     "iopub.execute_input": "2020-09-11T12:44:30.352357Z",
     "iopub.status.busy": "2020-09-11T12:44:30.351783Z",
     "iopub.status.idle": "2020-09-11T12:44:30.564969Z",
     "shell.execute_reply": "2020-09-11T12:44:30.564482Z"
    },
    "scrolled": true
   },
   "outputs": [
    {
     "data": {
      "image/png": "[encoded data removed]",
      "text/plain": [
       "<Figure size 432x288 with 1 Axes>"
      ]
     },
     "metadata": {
      "needs_background": "light"
     },
     "output_type": "display_data"
    }
   ],
   "source": [
    "fig, ax = plt.subplots(1,1)\n",
    "ax.plot(sizes, t_numeric, 'o-', label='Inserting row-by-row')\n",
    "ax.plot(sizes, t_numeric_add, 'o-', label='Inserting row-by-row: add_result only')\n",
    "ax.plot(sizes, t_array, 'd-', label='Inserting as binary blob')\n",
    "ax.plot(sizes, t_array_add, 'd-', label='Inserting as binary blob: add_result only')\n",
    "ax.legend()\n",
    "ax.set_xlabel('Array length')\n",
    "ax.set_ylabel('Time (s)')\n",
    "fig.tight_layout()"
   ]
  },
  {
   "cell_type": "markdown",
   "metadata": {},
   "source": [
    "However, as we increase the length of the experiment, as seen here by repeating the insertion 100 times, we see a big difference between inserting values of the data row-by-row and inserting it as a binary blob."
   ]
  },
  {
   "cell_type": "markdown",
   "metadata": {},
   "source": [
    "## Loading the data "
   ]
  },
  {
   "cell_type": "code",
   "execution_count": 9,
   "metadata": {
    "execution": {
     "iopub.execute_input": "2020-09-11T12:44:30.568930Z",
     "iopub.status.busy": "2020-09-11T12:44:30.567954Z",
     "iopub.status.idle": "2020-09-11T12:44:30.570991Z",
     "shell.execute_reply": "2020-09-11T12:44:30.570497Z"
    }
   },
   "outputs": [],
   "source": [
    "from qcodes.dataset.data_set import load_by_id\n",
    "from qcodes.dataset.data_export import get_data_by_id"
   ]
  },
  {
   "cell_type": "markdown",
   "metadata": {},
   "source": [
    "As usual you can load the data by using the ``load_by_id`` function but you will notice that the different storage methods\n",
    "are reflected in shape of the data as it is retrieved. "
   ]
  },
  {
   "cell_type": "code",
   "execution_count": 10,
   "metadata": {
    "execution": {
     "iopub.execute_input": "2020-09-11T12:44:30.574464Z",
     "iopub.status.busy": "2020-09-11T12:44:30.573903Z",
     "iopub.status.idle": "2020-09-11T12:44:30.576585Z",
     "shell.execute_reply": "2020-09-11T12:44:30.575989Z"
    }
   },
   "outputs": [],
   "source": [
    "run_id_n = t_numeric_run_ids[0]\n",
    "run_id_a = t_array_run_ids[0]"
   ]
  },
  {
   "cell_type": "code",
   "execution_count": 11,
   "metadata": {
    "execution": {
     "iopub.execute_input": "2020-09-11T12:44:30.579706Z",
     "iopub.status.busy": "2020-09-11T12:44:30.579141Z",
     "iopub.status.idle": "2020-09-11T12:44:30.588588Z",
     "shell.execute_reply": "2020-09-11T12:44:30.588100Z"
    },
    "scrolled": true
   },
   "outputs": [
    {
     "data": {
      "text/plain": [
       "{'x1': {'x1': array([0.29389097, 0.29389097, 0.81268534, 0.81268534, 0.21653311,\n",
       "         0.21653311, 0.6443059 , 0.6443059 , 0.25445739, 0.25445739,\n",
       "         0.02216383, 0.02216383, 0.3092558 , 0.3092558 , 0.32548852,\n",
       "         0.32548852, 0.03716034, 0.03716034, 0.57683327, 0.57683327,\n",
       "         0.49657291, 0.49657291, 0.81826196, 0.81826196, 0.90776583,\n",
       "         0.90776583, 0.01712576, 0.01712576, 0.61533471, 0.61533471,\n",
       "         0.33429583, 0.33429583, 0.32482563, 0.32482563, 0.46077922,\n",
       "         0.46077922, 0.32096129, 0.32096129, 0.98709479, 0.98709479,\n",
       "         0.91301189, 0.91301189, 0.95564543, 0.95564543, 0.60202579,\n",
       "         0.60202579, 0.14434926, 0.14434926, 0.64472623, 0.64472623,\n",
       "         0.99710616, 0.99710616, 0.72014927, 0.72014927, 0.34996873,\n",
       "         0.34996873, 0.16286751, 0.16286751, 0.27828325, 0.27828325,\n",
       "         0.60790416, 0.60790416, 0.02910953, 0.02910953, 0.45651898,\n",
       "         0.45651898, 0.49393253, 0.49393253, 0.11874538, 0.11874538,\n",
       "         0.8650091 , 0.8650091 , 0.75426062, 0.75426062, 0.24523966,\n",
       "         0.24523966, 0.97292344, 0.97292344, 0.8430853 , 0.8430853 ,\n",
       "         0.38995129, 0.38995129, 0.4750627 , 0.4750627 , 0.99655298,\n",
       "         0.99655298, 0.09529183, 0.09529183, 0.02144191, 0.02144191,\n",
       "         0.66417907, 0.66417907, 0.12057377, 0.12057377, 0.07834908,\n",
       "         0.07834908, 0.66879307, 0.66879307, 0.3013835 , 0.3013835 ,\n",
       "         0.84703414, 0.84703414, 0.24666798, 0.24666798, 0.88812402,\n",
       "         0.88812402, 0.35750362, 0.35750362, 0.97816457, 0.97816457,\n",
       "         0.70969465, 0.70969465, 0.68760317, 0.68760317, 0.10062273,\n",
       "         0.10062273, 0.55099821, 0.55099821, 0.92087559, 0.92087559,\n",
       "         0.96019941, 0.96019941, 0.17902464, 0.17902464, 0.65455954,\n",
       "         0.65455954, 0.85878646, 0.85878646, 0.22465561, 0.22465561,\n",
       "         0.8416429 , 0.8416429 , 0.85656579, 0.85656579, 0.0951419 ,\n",
       "         0.0951419 , 0.09153674, 0.09153674, 0.5932752 , 0.5932752 ,\n",
       "         0.60605258, 0.60605258, 0.09795503, 0.09795503, 0.87545474,\n",
       "         0.87545474, 0.65866824, 0.65866824, 0.06173496, 0.06173496,\n",
       "         0.30386812, 0.30386812, 0.56317371, 0.56317371, 0.82007545,\n",
       "         0.82007545, 0.06356867, 0.06356867, 0.06337073, 0.06337073,\n",
       "         0.44985288, 0.44985288, 0.67842441, 0.67842441, 0.67178852,\n",
       "         0.67178852, 0.44786681, 0.44786681, 0.39972172, 0.39972172,\n",
       "         0.61843076, 0.61843076, 0.94901687, 0.94901687, 0.43869206,\n",
       "         0.43869206, 0.08817683, 0.08817683, 0.3479066 , 0.3479066 ,\n",
       "         0.63979879, 0.63979879, 0.14866163, 0.14866163, 0.81151967,\n",
       "         0.81151967, 0.6654154 , 0.6654154 , 0.23104859, 0.23104859,\n",
       "         0.28785561, 0.28785561, 0.46657223, 0.46657223, 0.47897001,\n",
       "         0.47897001, 0.71426789, 0.71426789, 0.69884469, 0.69884469])}}"
      ]
     },
     "execution_count": 11,
     "metadata": {},
     "output_type": "execute_result"
    }
   ],
   "source": [
    "ds = load_by_id(run_id_n)\n",
    "ds.get_parameter_data('x1')"
   ]
  },
  {
   "cell_type": "markdown",
   "metadata": {},
   "source": [
    "And a dataset stored as binary arrays"
   ]
  },
  {
   "cell_type": "code",
   "execution_count": 12,
   "metadata": {
    "execution": {
     "iopub.execute_input": "2020-09-11T12:44:30.592349Z",
     "iopub.status.busy": "2020-09-11T12:44:30.591732Z",
     "iopub.status.idle": "2020-09-11T12:44:30.652922Z",
     "shell.execute_reply": "2020-09-11T12:44:30.652394Z"
    },
    "scrolled": true
   },
   "outputs": [
    {
     "data": {
      "text/plain": [
       "{'x1': {'x1': array([[0.00589955],\n",
       "         [0.00589955],\n",
       "         [0.45795863],\n",
       "         [0.45795863],\n",
       "         [0.41404031],\n",
       "         [0.41404031],\n",
       "         [0.36314205],\n",
       "         [0.36314205],\n",
       "         [0.85865102],\n",
       "         [0.85865102],\n",
       "         [0.78818318],\n",
       "         [0.78818318],\n",
       "         [0.84909012],\n",
       "         [0.84909012],\n",
       "         [0.3660988 ],\n",
       "         [0.3660988 ],\n",
       "         [0.24260635],\n",
       "         [0.24260635],\n",
       "         [0.76104161],\n",
       "         [0.76104161],\n",
       "         [0.40509511],\n",
       "         [0.40509511],\n",
       "         [0.2890314 ],\n",
       "         [0.2890314 ],\n",
       "         [0.23543801],\n",
       "         [0.23543801],\n",
       "         [0.80966367],\n",
       "         [0.80966367],\n",
       "         [0.39824353],\n",
       "         [0.39824353],\n",
       "         [0.76432864],\n",
       "         [0.76432864],\n",
       "         [0.43410307],\n",
       "         [0.43410307],\n",
       "         [0.92978299],\n",
       "         [0.92978299],\n",
       "         [0.52388975],\n",
       "         [0.52388975],\n",
       "         [0.28513882],\n",
       "         [0.28513882],\n",
       "         [0.08814956],\n",
       "         [0.08814956],\n",
       "         [0.71469353],\n",
       "         [0.71469353],\n",
       "         [0.92164464],\n",
       "         [0.92164464],\n",
       "         [0.98160207],\n",
       "         [0.98160207],\n",
       "         [0.78147268],\n",
       "         [0.78147268],\n",
       "         [0.69062444],\n",
       "         [0.69062444],\n",
       "         [0.87564971],\n",
       "         [0.87564971],\n",
       "         [0.82083715],\n",
       "         [0.82083715],\n",
       "         [0.92299454],\n",
       "         [0.92299454],\n",
       "         [0.74351615],\n",
       "         [0.74351615],\n",
       "         [0.49011911],\n",
       "         [0.49011911],\n",
       "         [0.20218103],\n",
       "         [0.20218103],\n",
       "         [0.46383791],\n",
       "         [0.46383791],\n",
       "         [0.94821309],\n",
       "         [0.94821309],\n",
       "         [0.8426263 ],\n",
       "         [0.8426263 ],\n",
       "         [0.56840313],\n",
       "         [0.56840313],\n",
       "         [0.14973604],\n",
       "         [0.14973604],\n",
       "         [0.89207288],\n",
       "         [0.89207288],\n",
       "         [0.5852805 ],\n",
       "         [0.5852805 ],\n",
       "         [0.01298371],\n",
       "         [0.01298371],\n",
       "         [0.15979953],\n",
       "         [0.15979953],\n",
       "         [0.30762427],\n",
       "         [0.30762427],\n",
       "         [0.95997338],\n",
       "         [0.95997338],\n",
       "         [0.29213833],\n",
       "         [0.29213833],\n",
       "         [0.20834552],\n",
       "         [0.20834552],\n",
       "         [0.44756521],\n",
       "         [0.44756521],\n",
       "         [0.79410563],\n",
       "         [0.79410563],\n",
       "         [0.38025465],\n",
       "         [0.38025465],\n",
       "         [0.48669942],\n",
       "         [0.48669942],\n",
       "         [0.62934631],\n",
       "         [0.62934631],\n",
       "         [0.19211559],\n",
       "         [0.19211559],\n",
       "         [0.72979449],\n",
       "         [0.72979449],\n",
       "         [0.99863856],\n",
       "         [0.99863856],\n",
       "         [0.78599344],\n",
       "         [0.78599344],\n",
       "         [0.15604059],\n",
       "         [0.15604059],\n",
       "         [0.9202255 ],\n",
       "         [0.9202255 ],\n",
       "         [0.99927557],\n",
       "         [0.99927557],\n",
       "         [0.18655375],\n",
       "         [0.18655375],\n",
       "         [0.57117448],\n",
       "         [0.57117448],\n",
       "         [0.49235003],\n",
       "         [0.49235003],\n",
       "         [0.0029678 ],\n",
       "         [0.0029678 ],\n",
       "         [0.73136806],\n",
       "         [0.73136806],\n",
       "         [0.7251728 ],\n",
       "         [0.7251728 ],\n",
       "         [0.053078  ],\n",
       "         [0.053078  ],\n",
       "         [0.72770496],\n",
       "         [0.72770496],\n",
       "         [0.92886423],\n",
       "         [0.92886423],\n",
       "         [0.86022577],\n",
       "         [0.86022577],\n",
       "         [0.58020228],\n",
       "         [0.58020228],\n",
       "         [0.23498396],\n",
       "         [0.23498396],\n",
       "         [0.10428827],\n",
       "         [0.10428827],\n",
       "         [0.72393818],\n",
       "         [0.72393818],\n",
       "         [0.28973974],\n",
       "         [0.28973974],\n",
       "         [0.27417295],\n",
       "         [0.27417295],\n",
       "         [0.9721116 ],\n",
       "         [0.9721116 ],\n",
       "         [0.58903828],\n",
       "         [0.58903828],\n",
       "         [0.33590366],\n",
       "         [0.33590366],\n",
       "         [0.56490895],\n",
       "         [0.56490895],\n",
       "         [0.66312127],\n",
       "         [0.66312127],\n",
       "         [0.87251996],\n",
       "         [0.87251996],\n",
       "         [0.92097981],\n",
       "         [0.92097981],\n",
       "         [0.89870819],\n",
       "         [0.89870819],\n",
       "         [0.39910299],\n",
       "         [0.39910299],\n",
       "         [0.9922645 ],\n",
       "         [0.9922645 ],\n",
       "         [0.43287787],\n",
       "         [0.43287787],\n",
       "         [0.51878898],\n",
       "         [0.51878898],\n",
       "         [0.25261608],\n",
       "         [0.25261608],\n",
       "         [0.51067648],\n",
       "         [0.51067648],\n",
       "         [0.53861561],\n",
       "         [0.53861561],\n",
       "         [0.39907836],\n",
       "         [0.39907836],\n",
       "         [0.12395491],\n",
       "         [0.12395491],\n",
       "         [0.83021309],\n",
       "         [0.83021309],\n",
       "         [0.29514813],\n",
       "         [0.29514813],\n",
       "         [0.17638402],\n",
       "         [0.17638402],\n",
       "         [0.65542857],\n",
       "         [0.65542857],\n",
       "         [0.81217246],\n",
       "         [0.81217246],\n",
       "         [0.62474872],\n",
       "         [0.62474872],\n",
       "         [0.07480649],\n",
       "         [0.07480649],\n",
       "         [0.41407543],\n",
       "         [0.41407543],\n",
       "         [0.50548066],\n",
       "         [0.50548066],\n",
       "         [0.32583893],\n",
       "         [0.32583893]])}}"
      ]
     },
     "execution_count": 12,
     "metadata": {},
     "output_type": "execute_result"
    }
   ],
   "source": [
    "ds = load_by_id(run_id_a)\n",
    "ds.get_parameter_data('x1')"
   ]
  },
  {
   "cell_type": "code",
   "execution_count": null,
   "metadata": {},
   "outputs": [],
   "source": []
  }
 ],
 "metadata": {
  "kernelspec": {
   "display_name": "Python 3",
   "language": "python",
   "name": "python3"
  },
  "language_info": {
   "codemirror_mode": {
    "name": "ipython",
    "version": 3
   },
   "file_extension": ".py",
   "mimetype": "text/x-python",
   "name": "python",
   "nbconvert_exporter": "python",
   "pygments_lexer": "ipython3",
   "version": "3.7.7"
  },
  "nbsphinx": {
   "timeout": 600
  },
  "toc": {
   "base_numbering": 1,
   "nav_menu": {},
   "number_sections": true,
   "sideBar": true,
   "skip_h1_title": false,
   "title_cell": "Table of Contents",
   "title_sidebar": "Contents",
   "toc_cell": false,
   "toc_position": {},
   "toc_section_display": true,
   "toc_window_display": false
  },
  "varInspector": {
   "cols": {
    "lenName": 16,
    "lenType": 16,
    "lenVar": 40
   },
   "kernels_config": {
    "python": {
     "delete_cmd_postfix": "",
     "delete_cmd_prefix": "del ",
     "library": "var_list.py",
     "varRefreshCmd": "print(var_dic_list())"
    },
    "r": {
     "delete_cmd_postfix": ") ",
     "delete_cmd_prefix": "rm(",
     "library": "var_list.r",
     "varRefreshCmd": "cat(var_dic_list()) "
    }
   },
   "types_to_exclude": [
    "module",
    "function",
    "builtin_function_or_method",
    "instance",
    "_Feature"
   ],
   "window_display": false
  }
 },
 "nbformat": 4,
 "nbformat_minor": 2
}
