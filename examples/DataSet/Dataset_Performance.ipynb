{
 "cells": [
  {
   "cell_type": "markdown",
   "metadata": {},
   "source": [
    "# DataSet Performance\n",
    "\n",
    "This notebook shows the trade-off between inserting data into a database row-by-row and as binary blobs. Inserting the data row-by-row means that we have direct access to all the data and may perform queries directly on the values of the data. On the other hand, as we shall see, this is much slower than inserting the data directly as binary blobs."
   ]
  },
  {
   "cell_type": "markdown",
   "metadata": {},
   "source": [
    "First, we choose a new location for the database to ensure that we don't add a bunch of benchmarking data to the default one."
   ]
  },
  {
   "cell_type": "code",
   "execution_count": 1,
   "metadata": {},
   "outputs": [
    {
     "name": "stdout",
     "output_type": "stream",
     "text": [
      "Logging hadn't been started.\n",
      "Activating auto-logging. Current session state plus future input saved.\n",
      "Filename       : /home/vsts/.qcodes/logs/command_history.log\n",
      "Mode           : append\n",
      "Output logging : True\n",
      "Raw input log  : False\n",
      "Timestamping   : True\n",
      "State          : active\n"
     ]
    },
    {
     "name": "stdout",
     "output_type": "stream",
     "text": [
      "Qcodes Logfile : /home/vsts/.qcodes/logs/200429-19221-qcodes.log\n"
     ]
    }
   ],
   "source": [
    "import os\n",
    "cwd = os.getcwd()\n",
    "import qcodes as qc\n",
    "qc.config[\"core\"][\"db_location\"] = os.path.join(cwd, 'testing.db')\n"
   ]
  },
  {
   "cell_type": "code",
   "execution_count": 2,
   "metadata": {},
   "outputs": [],
   "source": [
    "%matplotlib inline\n",
    "import time\n",
    "import matplotlib.pyplot as plt\n",
    "import numpy as np\n",
    "\n",
    "import qcodes as qc\n",
    "from qcodes.instrument.parameter import ManualParameter\n",
    "from qcodes.dataset.experiment_container import (Experiment,\n",
    "                                                 load_last_experiment,\n",
    "                                                 new_experiment)\n",
    "from qcodes.dataset.sqlite.database import initialise_database\n",
    "from qcodes import load_or_create_experiment\n",
    "from qcodes.dataset.measurements import Measurement"
   ]
  },
  {
   "cell_type": "code",
   "execution_count": 3,
   "metadata": {},
   "outputs": [
    {
     "name": "stdout",
     "output_type": "stream",
     "text": [
      "\r",
      "0it [00:00, ?it/s]"
     ]
    },
    {
     "name": "stdout",
     "output_type": "stream",
     "text": [
      "\r",
      "Upgrading database; v0 -> v1: : 0it [00:00, ?it/s]"
     ]
    },
    {
     "name": "stdout",
     "output_type": "stream",
     "text": [
      "\r",
      "Upgrading database; v0 -> v1: : 0it [00:00, ?it/s]"
     ]
    },
    {
     "name": "stdout",
     "output_type": "stream",
     "text": [
      "\n",
      "\r",
      "  0%|          | 0/1 [00:00<?, ?it/s]"
     ]
    },
    {
     "name": "stdout",
     "output_type": "stream",
     "text": [
      "\r",
      "Upgrading database; v1 -> v2:   0%|          | 0/1 [00:00<?, ?it/s]"
     ]
    },
    {
     "name": "stdout",
     "output_type": "stream",
     "text": [
      "\r",
      "Upgrading database; v1 -> v2: 100%|██████████| 1/1 [00:00<00:00, 706.59it/s]"
     ]
    },
    {
     "name": "stdout",
     "output_type": "stream",
     "text": [
      "\n",
      "\r",
      "0it [00:00, ?it/s]"
     ]
    },
    {
     "name": "stdout",
     "output_type": "stream",
     "text": [
      "\r",
      "Upgrading database; v2 -> v3: : 0it [00:00, ?it/s]"
     ]
    },
    {
     "name": "stdout",
     "output_type": "stream",
     "text": [
      "\r",
      "Upgrading database; v2 -> v3: : 0it [00:00, ?it/s]"
     ]
    },
    {
     "name": "stdout",
     "output_type": "stream",
     "text": [
      "\n",
      "\r",
      "0it [00:00, ?it/s]"
     ]
    },
    {
     "name": "stdout",
     "output_type": "stream",
     "text": [
      "\r",
      "Upgrading database; v3 -> v4: : 0it [00:00, ?it/s]"
     ]
    },
    {
     "name": "stdout",
     "output_type": "stream",
     "text": [
      "\r",
      "Upgrading database; v3 -> v4: : 0it [00:00, ?it/s]"
     ]
    },
    {
     "name": "stdout",
     "output_type": "stream",
     "text": [
      "\n",
      "\r",
      "  0%|          | 0/1 [00:00<?, ?it/s]"
     ]
    },
    {
     "name": "stdout",
     "output_type": "stream",
     "text": [
      "\r",
      "Upgrading database; v4 -> v5:   0%|          | 0/1 [00:00<?, ?it/s]"
     ]
    },
    {
     "name": "stdout",
     "output_type": "stream",
     "text": [
      "\r",
      "Upgrading database; v4 -> v5: 100%|██████████| 1/1 [00:00<00:00, 962.00it/s]"
     ]
    },
    {
     "name": "stdout",
     "output_type": "stream",
     "text": [
      "\n",
      "\r",
      "0it [00:00, ?it/s]"
     ]
    },
    {
     "name": "stdout",
     "output_type": "stream",
     "text": [
      "\r",
      "Upgrading database; v5 -> v6: : 0it [00:00, ?it/s]"
     ]
    },
    {
     "name": "stdout",
     "output_type": "stream",
     "text": [
      "\r",
      "Upgrading database; v5 -> v6: : 0it [00:00, ?it/s]"
     ]
    },
    {
     "name": "stdout",
     "output_type": "stream",
     "text": [
      "\n",
      "\r",
      "  0%|          | 0/1 [00:00<?, ?it/s]"
     ]
    },
    {
     "name": "stdout",
     "output_type": "stream",
     "text": [
      "\r",
      "Upgrading database; v6 -> v7:   0%|          | 0/1 [00:00<?, ?it/s]"
     ]
    },
    {
     "name": "stdout",
     "output_type": "stream",
     "text": [
      "\r",
      "Upgrading database; v6 -> v7: 100%|██████████| 1/1 [00:00<00:00, 371.05it/s]"
     ]
    },
    {
     "name": "stdout",
     "output_type": "stream",
     "text": [
      "\n",
      "\r",
      "  0%|          | 0/1 [00:00<?, ?it/s]"
     ]
    },
    {
     "name": "stdout",
     "output_type": "stream",
     "text": [
      "\r",
      "Upgrading database; v7 -> v8:   0%|          | 0/1 [00:00<?, ?it/s]"
     ]
    },
    {
     "name": "stdout",
     "output_type": "stream",
     "text": [
      "\r",
      "Upgrading database; v7 -> v8: 100%|██████████| 1/1 [00:00<00:00, 634.44it/s]"
     ]
    },
    {
     "name": "stdout",
     "output_type": "stream",
     "text": [
      "\n",
      "\r",
      "  0%|          | 0/1 [00:00<?, ?it/s]"
     ]
    },
    {
     "name": "stdout",
     "output_type": "stream",
     "text": [
      "\r",
      "Upgrading database; v8 -> v9:   0%|          | 0/1 [00:00<?, ?it/s]"
     ]
    },
    {
     "name": "stdout",
     "output_type": "stream",
     "text": [
      "\r",
      "Upgrading database; v8 -> v9: 100%|██████████| 1/1 [00:00<00:00, 1004.62it/s]"
     ]
    },
    {
     "name": "stdout",
     "output_type": "stream",
     "text": [
      "\n"
     ]
    }
   ],
   "source": [
    "initialise_database()\n",
    "exp = load_or_create_experiment(experiment_name='tutorial_exp', sample_name=\"no sample\")"
   ]
  },
  {
   "cell_type": "markdown",
   "metadata": {},
   "source": [
    "Here, we define a simple function to benchmark the time it takes to insert n points with either numeric or array data type.\n",
    "We will compare both the time used to call ``add_result`` and the time used for the full measurement."
   ]
  },
  {
   "cell_type": "code",
   "execution_count": 4,
   "metadata": {},
   "outputs": [],
   "source": [
    "def insert_data(paramtype, npoints, nreps=1):\n",
    "\n",
    "    meas = Measurement(exp=exp)\n",
    "\n",
    "    x1 = ManualParameter('x1')\n",
    "    x2 = ManualParameter('x2')\n",
    "    x3 = ManualParameter('x3')\n",
    "    y1 = ManualParameter('y1')\n",
    "    y2 = ManualParameter('y2')\n",
    "\n",
    "    meas.register_parameter(x1, paramtype=paramtype)\n",
    "    meas.register_parameter(x2, paramtype=paramtype)\n",
    "    meas.register_parameter(x3, paramtype=paramtype)\n",
    "    meas.register_parameter(y1, setpoints=[x1, x2, x3],\n",
    "                            paramtype=paramtype)\n",
    "    meas.register_parameter(y2, setpoints=[x1, x2, x3],\n",
    "                            paramtype=paramtype)\n",
    "    start = time.perf_counter()\n",
    "    with meas.run() as datasaver:\n",
    "        start_adding = time.perf_counter()\n",
    "        for i in range(nreps):\n",
    "            datasaver.add_result((x1, np.random.rand(npoints)),\n",
    "                                 (x2, np.random.rand(npoints)),\n",
    "                                 (x3, np.random.rand(npoints)),\n",
    "                                 (y1, np.random.rand(npoints)),\n",
    "                                 (y2, np.random.rand(npoints)))\n",
    "        stop_adding = time.perf_counter()\n",
    "        run_id = datasaver.run_id\n",
    "    stop = time.perf_counter()\n",
    "    tot_time = stop - start\n",
    "    add_time = stop_adding - start_adding\n",
    "    return tot_time, add_time, run_id"
   ]
  },
  {
   "cell_type": "markdown",
   "metadata": {},
   "source": [
    "## Comparison between numeric/array data and binary blob"
   ]
  },
  {
   "cell_type": "markdown",
   "metadata": {},
   "source": [
    "### Case1: Short experiment time"
   ]
  },
  {
   "cell_type": "code",
   "execution_count": 5,
   "metadata": {},
   "outputs": [
    {
     "name": "stdout",
     "output_type": "stream",
     "text": [
      "Starting experimental run with id: 1. \n",
      "Starting experimental run with id: 2. \n",
      "Starting experimental run with id: 3. \n"
     ]
    },
    {
     "name": "stdout",
     "output_type": "stream",
     "text": [
      "Starting experimental run with id: 4. \n"
     ]
    },
    {
     "name": "stdout",
     "output_type": "stream",
     "text": [
      "Starting experimental run with id: 5. \n"
     ]
    },
    {
     "name": "stdout",
     "output_type": "stream",
     "text": [
      "Starting experimental run with id: 6. \n"
     ]
    },
    {
     "name": "stdout",
     "output_type": "stream",
     "text": [
      "Starting experimental run with id: 7. \n"
     ]
    },
    {
     "name": "stdout",
     "output_type": "stream",
     "text": [
      "Starting experimental run with id: 8. \n"
     ]
    },
    {
     "name": "stdout",
     "output_type": "stream",
     "text": [
      "Starting experimental run with id: 9. \n"
     ]
    },
    {
     "name": "stdout",
     "output_type": "stream",
     "text": [
      "Starting experimental run with id: 10. \n",
      "Starting experimental run with id: 11. \n"
     ]
    },
    {
     "name": "stdout",
     "output_type": "stream",
     "text": [
      "Starting experimental run with id: 12. \n",
      "Starting experimental run with id: 13. \n"
     ]
    },
    {
     "name": "stdout",
     "output_type": "stream",
     "text": [
      "Starting experimental run with id: 14. \n"
     ]
    }
   ],
   "source": [
    "sizes = [1,500,1000,2000,3000,4000,5000]\n",
    "t_numeric = []\n",
    "t_numeric_add = []\n",
    "t_array = []\n",
    "t_array_add = []\n",
    "for size in sizes:\n",
    "    tn, tna, run_id_n =  insert_data('numeric', size)\n",
    "    t_numeric.append(tn)\n",
    "    t_numeric_add.append(tna)\n",
    "\n",
    "    ta, taa, run_id_a =  insert_data('array', size)\n",
    "    t_array.append(ta)\n",
    "    t_array_add.append(taa)"
   ]
  },
  {
   "cell_type": "code",
   "execution_count": 6,
   "metadata": {},
   "outputs": [
    {
     "data": {
      "image/png": "[encoded data removed]",
      "text/plain": [
       "<Figure size 432x288 with 1 Axes>"
      ]
     },
     "metadata": {
      "needs_background": "light"
     },
     "output_type": "display_data"
    }
   ],
   "source": [
    "fig, ax = plt.subplots(1,1)\n",
    "ax.plot(sizes, t_numeric, 'o-', label='Inserting row-by-row')\n",
    "ax.plot(sizes, t_numeric_add, 'o-', label='Inserting row-by-row: add_result only')\n",
    "ax.plot(sizes, t_array, 'd-', label='Inserting as binary blob')\n",
    "ax.plot(sizes, t_array_add, 'd-', label='Inserting as binary blob: add_result only')\n",
    "ax.legend()\n",
    "ax.set_xlabel('Array length')\n",
    "ax.set_ylabel('Time (s)')\n",
    "fig.tight_layout()"
   ]
  },
  {
   "cell_type": "markdown",
   "metadata": {},
   "source": [
    "As shown in the latter figure, the time to setup and and close the experiment is approximately 0.4 sec. In case of small array sizes, the difference between inserting values of data as arrays and inserting them row-by-row is relatively unimportant. At larger array sizes, i.e. above 10000 points, the cost of writing data as individual datapoints starts to become important.\n"
   ]
  },
  {
   "cell_type": "markdown",
   "metadata": {},
   "source": [
    "### Case2: Long experiment time "
   ]
  },
  {
   "cell_type": "code",
   "execution_count": 7,
   "metadata": {},
   "outputs": [
    {
     "name": "stdout",
     "output_type": "stream",
     "text": [
      "Starting experimental run with id: 15. \n",
      "Starting experimental run with id: 16. \n",
      "Starting experimental run with id: 17. \n"
     ]
    },
    {
     "name": "stdout",
     "output_type": "stream",
     "text": [
      "Starting experimental run with id: 18. \n",
      "Starting experimental run with id: 19. \n"
     ]
    },
    {
     "name": "stdout",
     "output_type": "stream",
     "text": [
      "Starting experimental run with id: 20. \n"
     ]
    },
    {
     "name": "stdout",
     "output_type": "stream",
     "text": [
      "Starting experimental run with id: 21. \n"
     ]
    },
    {
     "name": "stdout",
     "output_type": "stream",
     "text": [
      "Starting experimental run with id: 22. \n"
     ]
    },
    {
     "name": "stdout",
     "output_type": "stream",
     "text": [
      "Starting experimental run with id: 23. \n"
     ]
    },
    {
     "name": "stdout",
     "output_type": "stream",
     "text": [
      "Starting experimental run with id: 24. \n"
     ]
    },
    {
     "name": "stdout",
     "output_type": "stream",
     "text": [
      "Starting experimental run with id: 25. \n"
     ]
    },
    {
     "name": "stdout",
     "output_type": "stream",
     "text": [
      "Starting experimental run with id: 26. \n"
     ]
    },
    {
     "name": "stdout",
     "output_type": "stream",
     "text": [
      "Starting experimental run with id: 27. \n"
     ]
    },
    {
     "name": "stdout",
     "output_type": "stream",
     "text": [
      "Starting experimental run with id: 28. \n"
     ]
    }
   ],
   "source": [
    "sizes = [1,500,1000,2000,3000,4000,5000]\n",
    "nreps = 100\n",
    "t_numeric = []\n",
    "t_numeric_add = []\n",
    "t_numeric_run_ids = []\n",
    "t_array = []\n",
    "t_array_add = []\n",
    "t_array_run_ids = []\n",
    "for size in sizes:\n",
    "    tn, tna, run_id_n =  insert_data('numeric', size, nreps=nreps)\n",
    "    t_numeric.append(tn)\n",
    "    t_numeric_add.append(tna)\n",
    "    t_numeric_run_ids.append(run_id_n)\n",
    "\n",
    "    ta, taa, run_id_a =  insert_data('array', size, nreps=nreps)\n",
    "    t_array.append(ta)\n",
    "    t_array_add.append(taa)\n",
    "    t_array_run_ids.append(run_id_a)"
   ]
  },
  {
   "cell_type": "code",
   "execution_count": 8,
   "metadata": {
    "scrolled": true
   },
   "outputs": [
    {
     "data": {
      "image/png": "[encoded data removed]",
      "text/plain": [
       "<Figure size 432x288 with 1 Axes>"
      ]
     },
     "metadata": {
      "needs_background": "light"
     },
     "output_type": "display_data"
    }
   ],
   "source": [
    "fig, ax = plt.subplots(1,1)\n",
    "ax.plot(sizes, t_numeric, 'o-', label='Inserting row-by-row')\n",
    "ax.plot(sizes, t_numeric_add, 'o-', label='Inserting row-by-row: add_result only')\n",
    "ax.plot(sizes, t_array, 'd-', label='Inserting as binary blob')\n",
    "ax.plot(sizes, t_array_add, 'd-', label='Inserting as binary blob: add_result only')\n",
    "ax.legend()\n",
    "ax.set_xlabel('Array length')\n",
    "ax.set_ylabel('Time (s)')\n",
    "fig.tight_layout()"
   ]
  },
  {
   "cell_type": "markdown",
   "metadata": {},
   "source": [
    "However, as we increase the length of the experiment, as seen here by repeating the insertion 100 times, we see a big difference between inserting values of the data row-by-row and inserting it as a binary blob."
   ]
  },
  {
   "cell_type": "markdown",
   "metadata": {},
   "source": [
    "## Loading the data "
   ]
  },
  {
   "cell_type": "code",
   "execution_count": 9,
   "metadata": {},
   "outputs": [],
   "source": [
    "from qcodes.dataset.data_set import load_by_id\n",
    "from qcodes.dataset.data_export import get_data_by_id"
   ]
  },
  {
   "cell_type": "markdown",
   "metadata": {},
   "source": [
    "As usual you can load the data by using the ``load_by_id`` function but you will notice that the different storage methods\n",
    "are reflected in shape of the data as it is retrieved. "
   ]
  },
  {
   "cell_type": "code",
   "execution_count": 10,
   "metadata": {},
   "outputs": [],
   "source": [
    "run_id_n = t_numeric_run_ids[0]\n",
    "run_id_a = t_array_run_ids[0]"
   ]
  },
  {
   "cell_type": "code",
   "execution_count": 11,
   "metadata": {
    "scrolled": true
   },
   "outputs": [
    {
     "data": {
      "text/plain": [
       "{'x1': {'x1': array([0.01188369, 0.01188369, 0.74523611, 0.74523611, 0.55204624,\n",
       "         0.55204624, 0.4713916 , 0.4713916 , 0.29705061, 0.29705061,\n",
       "         0.52399356, 0.52399356, 0.06510983, 0.06510983, 0.17190159,\n",
       "         0.17190159, 0.73715988, 0.73715988, 0.4102148 , 0.4102148 ,\n",
       "         0.73553427, 0.73553427, 0.8835403 , 0.8835403 , 0.25641475,\n",
       "         0.25641475, 0.06059177, 0.06059177, 0.37615178, 0.37615178,\n",
       "         0.91056495, 0.91056495, 0.92249595, 0.92249595, 0.22033058,\n",
       "         0.22033058, 0.85509772, 0.85509772, 0.07875102, 0.07875102,\n",
       "         0.79102767, 0.79102767, 0.92422701, 0.92422701, 0.52577945,\n",
       "         0.52577945, 0.81430429, 0.81430429, 0.17140928, 0.17140928,\n",
       "         0.73588026, 0.73588026, 0.56415223, 0.56415223, 0.83751246,\n",
       "         0.83751246, 0.17389115, 0.17389115, 0.69900409, 0.69900409,\n",
       "         0.96781643, 0.96781643, 0.09536753, 0.09536753, 0.24822302,\n",
       "         0.24822302, 0.57134305, 0.57134305, 0.62618583, 0.62618583,\n",
       "         0.06524868, 0.06524868, 0.19990841, 0.19990841, 0.39137698,\n",
       "         0.39137698, 0.86647438, 0.86647438, 0.84846308, 0.84846308,\n",
       "         0.1742537 , 0.1742537 , 0.19328626, 0.19328626, 0.86427882,\n",
       "         0.86427882, 0.74223015, 0.74223015, 0.09175159, 0.09175159,\n",
       "         0.9522043 , 0.9522043 , 0.10927056, 0.10927056, 0.81157467,\n",
       "         0.81157467, 0.21712998, 0.21712998, 0.01782113, 0.01782113,\n",
       "         0.30404146, 0.30404146, 0.45316996, 0.45316996, 0.35800118,\n",
       "         0.35800118, 0.23787991, 0.23787991, 0.64366621, 0.64366621,\n",
       "         0.99230501, 0.99230501, 0.92722841, 0.92722841, 0.18899244,\n",
       "         0.18899244, 0.2351243 , 0.2351243 , 0.39237141, 0.39237141,\n",
       "         0.84078691, 0.84078691, 0.05049549, 0.05049549, 0.8258232 ,\n",
       "         0.8258232 , 0.63751082, 0.63751082, 0.23518799, 0.23518799,\n",
       "         0.44264451, 0.44264451, 0.77464484, 0.77464484, 0.52148012,\n",
       "         0.52148012, 0.43699389, 0.43699389, 0.20878336, 0.20878336,\n",
       "         0.1426335 , 0.1426335 , 0.74917884, 0.74917884, 0.16242598,\n",
       "         0.16242598, 0.25751337, 0.25751337, 0.39717749, 0.39717749,\n",
       "         0.89386461, 0.89386461, 0.08768598, 0.08768598, 0.42687672,\n",
       "         0.42687672, 0.79955704, 0.79955704, 0.87528837, 0.87528837,\n",
       "         0.24616797, 0.24616797, 0.19891501, 0.19891501, 0.48280147,\n",
       "         0.48280147, 0.03711201, 0.03711201, 0.95590316, 0.95590316,\n",
       "         0.28777738, 0.28777738, 0.46944651, 0.46944651, 0.38069687,\n",
       "         0.38069687, 0.15414669, 0.15414669, 0.33538197, 0.33538197,\n",
       "         0.70087395, 0.70087395, 0.53595789, 0.53595789, 0.15284591,\n",
       "         0.15284591, 0.47937209, 0.47937209, 0.97260609, 0.97260609,\n",
       "         0.39088524, 0.39088524, 0.0640467 , 0.0640467 , 0.9121071 ,\n",
       "         0.9121071 , 0.0088337 , 0.0088337 , 0.69687782, 0.69687782])}}"
      ]
     },
     "execution_count": 11,
     "metadata": {},
     "output_type": "execute_result"
    }
   ],
   "source": [
    "ds = load_by_id(run_id_n)\n",
    "ds.get_parameter_data('x1')"
   ]
  },
  {
   "cell_type": "markdown",
   "metadata": {},
   "source": [
    "And a dataset stored as binary arrays"
   ]
  },
  {
   "cell_type": "code",
   "execution_count": 12,
   "metadata": {
    "scrolled": true
   },
   "outputs": [
    {
     "data": {
      "text/plain": [
       "{'x1': {'x1': array([[0.26687556],\n",
       "         [0.26687556],\n",
       "         [0.00868452],\n",
       "         [0.00868452],\n",
       "         [0.86656475],\n",
       "         [0.86656475],\n",
       "         [0.2893553 ],\n",
       "         [0.2893553 ],\n",
       "         [0.73924834],\n",
       "         [0.73924834],\n",
       "         [0.19546763],\n",
       "         [0.19546763],\n",
       "         [0.73040265],\n",
       "         [0.73040265],\n",
       "         [0.95943969],\n",
       "         [0.95943969],\n",
       "         [0.30394987],\n",
       "         [0.30394987],\n",
       "         [0.07810148],\n",
       "         [0.07810148],\n",
       "         [0.16540786],\n",
       "         [0.16540786],\n",
       "         [0.08252358],\n",
       "         [0.08252358],\n",
       "         [0.44303479],\n",
       "         [0.44303479],\n",
       "         [0.60910568],\n",
       "         [0.60910568],\n",
       "         [0.83568228],\n",
       "         [0.83568228],\n",
       "         [0.93617268],\n",
       "         [0.93617268],\n",
       "         [0.77576713],\n",
       "         [0.77576713],\n",
       "         [0.61524924],\n",
       "         [0.61524924],\n",
       "         [0.82642114],\n",
       "         [0.82642114],\n",
       "         [0.33319308],\n",
       "         [0.33319308],\n",
       "         [0.66522756],\n",
       "         [0.66522756],\n",
       "         [0.46931491],\n",
       "         [0.46931491],\n",
       "         [0.00167136],\n",
       "         [0.00167136],\n",
       "         [0.39745962],\n",
       "         [0.39745962],\n",
       "         [0.94768356],\n",
       "         [0.94768356],\n",
       "         [0.09766189],\n",
       "         [0.09766189],\n",
       "         [0.16064252],\n",
       "         [0.16064252],\n",
       "         [0.54839787],\n",
       "         [0.54839787],\n",
       "         [0.50871404],\n",
       "         [0.50871404],\n",
       "         [0.03330131],\n",
       "         [0.03330131],\n",
       "         [0.68735984],\n",
       "         [0.68735984],\n",
       "         [0.12127847],\n",
       "         [0.12127847],\n",
       "         [0.83890218],\n",
       "         [0.83890218],\n",
       "         [0.92131837],\n",
       "         [0.92131837],\n",
       "         [0.38352368],\n",
       "         [0.38352368],\n",
       "         [0.42939033],\n",
       "         [0.42939033],\n",
       "         [0.83337207],\n",
       "         [0.83337207],\n",
       "         [0.47658201],\n",
       "         [0.47658201],\n",
       "         [0.92706599],\n",
       "         [0.92706599],\n",
       "         [0.62484732],\n",
       "         [0.62484732],\n",
       "         [0.19954434],\n",
       "         [0.19954434],\n",
       "         [0.38994506],\n",
       "         [0.38994506],\n",
       "         [0.18844668],\n",
       "         [0.18844668],\n",
       "         [0.41090111],\n",
       "         [0.41090111],\n",
       "         [0.99367775],\n",
       "         [0.99367775],\n",
       "         [0.99372553],\n",
       "         [0.99372553],\n",
       "         [0.6280997 ],\n",
       "         [0.6280997 ],\n",
       "         [0.00370001],\n",
       "         [0.00370001],\n",
       "         [0.38487911],\n",
       "         [0.38487911],\n",
       "         [0.06716472],\n",
       "         [0.06716472],\n",
       "         [0.17747449],\n",
       "         [0.17747449],\n",
       "         [0.45065693],\n",
       "         [0.45065693],\n",
       "         [0.59888066],\n",
       "         [0.59888066],\n",
       "         [0.16586254],\n",
       "         [0.16586254],\n",
       "         [0.52956208],\n",
       "         [0.52956208],\n",
       "         [0.34436393],\n",
       "         [0.34436393],\n",
       "         [0.06591301],\n",
       "         [0.06591301],\n",
       "         [0.95807575],\n",
       "         [0.95807575],\n",
       "         [0.94856685],\n",
       "         [0.94856685],\n",
       "         [0.34055689],\n",
       "         [0.34055689],\n",
       "         [0.0758009 ],\n",
       "         [0.0758009 ],\n",
       "         [0.84101464],\n",
       "         [0.84101464],\n",
       "         [0.4077443 ],\n",
       "         [0.4077443 ],\n",
       "         [0.78474973],\n",
       "         [0.78474973],\n",
       "         [0.10084387],\n",
       "         [0.10084387],\n",
       "         [0.5086909 ],\n",
       "         [0.5086909 ],\n",
       "         [0.32546709],\n",
       "         [0.32546709],\n",
       "         [0.21512738],\n",
       "         [0.21512738],\n",
       "         [0.34039658],\n",
       "         [0.34039658],\n",
       "         [0.76426418],\n",
       "         [0.76426418],\n",
       "         [0.26951313],\n",
       "         [0.26951313],\n",
       "         [0.23493458],\n",
       "         [0.23493458],\n",
       "         [0.92222144],\n",
       "         [0.92222144],\n",
       "         [0.04837361],\n",
       "         [0.04837361],\n",
       "         [0.75880694],\n",
       "         [0.75880694],\n",
       "         [0.4469952 ],\n",
       "         [0.4469952 ],\n",
       "         [0.85746092],\n",
       "         [0.85746092],\n",
       "         [0.77909783],\n",
       "         [0.77909783],\n",
       "         [0.25211052],\n",
       "         [0.25211052],\n",
       "         [0.34575525],\n",
       "         [0.34575525],\n",
       "         [0.86088068],\n",
       "         [0.86088068],\n",
       "         [0.48977767],\n",
       "         [0.48977767],\n",
       "         [0.48077065],\n",
       "         [0.48077065],\n",
       "         [0.78237643],\n",
       "         [0.78237643],\n",
       "         [0.06909892],\n",
       "         [0.06909892],\n",
       "         [0.97076474],\n",
       "         [0.97076474],\n",
       "         [0.72194674],\n",
       "         [0.72194674],\n",
       "         [0.22117308],\n",
       "         [0.22117308],\n",
       "         [0.39317389],\n",
       "         [0.39317389],\n",
       "         [0.38929422],\n",
       "         [0.38929422],\n",
       "         [0.88819533],\n",
       "         [0.88819533],\n",
       "         [0.16391608],\n",
       "         [0.16391608],\n",
       "         [0.44187914],\n",
       "         [0.44187914],\n",
       "         [0.69460474],\n",
       "         [0.69460474],\n",
       "         [0.99656431],\n",
       "         [0.99656431],\n",
       "         [0.77175344],\n",
       "         [0.77175344],\n",
       "         [0.44753223],\n",
       "         [0.44753223],\n",
       "         [0.54151717],\n",
       "         [0.54151717],\n",
       "         [0.61515857],\n",
       "         [0.61515857],\n",
       "         [0.77763859],\n",
       "         [0.77763859]])}}"
      ]
     },
     "execution_count": 12,
     "metadata": {},
     "output_type": "execute_result"
    }
   ],
   "source": [
    "ds = load_by_id(run_id_a)\n",
    "ds.get_parameter_data('x1')"
   ]
  },
  {
   "cell_type": "code",
   "execution_count": null,
   "metadata": {},
   "outputs": [],
   "source": []
  }
 ],
 "metadata": {
  "kernelspec": {
   "display_name": "Python 3",
   "language": "python",
   "name": "python3"
  },
  "language_info": {
   "codemirror_mode": {
    "name": "ipython",
    "version": 3
   },
   "file_extension": ".py",
   "mimetype": "text/x-python",
   "name": "python",
   "nbconvert_exporter": "python",
   "pygments_lexer": "ipython3",
   "version": "3.7.7"
  },
  "nbsphinx": {
   "timeout": 600
  },
  "toc": {
   "base_numbering": 1,
   "nav_menu": {},
   "number_sections": true,
   "sideBar": true,
   "skip_h1_title": false,
   "title_cell": "Table of Contents",
   "title_sidebar": "Contents",
   "toc_cell": false,
   "toc_position": {},
   "toc_section_display": true,
   "toc_window_display": false
  },
  "varInspector": {
   "cols": {
    "lenName": 16,
    "lenType": 16,
    "lenVar": 40
   },
   "kernels_config": {
    "python": {
     "delete_cmd_postfix": "",
     "delete_cmd_prefix": "del ",
     "library": "var_list.py",
     "varRefreshCmd": "print(var_dic_list())"
    },
    "r": {
     "delete_cmd_postfix": ") ",
     "delete_cmd_prefix": "rm(",
     "library": "var_list.r",
     "varRefreshCmd": "cat(var_dic_list()) "
    }
   },
   "types_to_exclude": [
    "module",
    "function",
    "builtin_function_or_method",
    "instance",
    "_Feature"
   ],
   "window_display": false
  }
 },
 "nbformat": 4,
 "nbformat_minor": 2
}
