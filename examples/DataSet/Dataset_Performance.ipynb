{
 "cells": [
  {
   "cell_type": "markdown",
   "metadata": {},
   "source": [
    "# DataSet Performance\n",
    "\n",
    "This notebook shows the trade-off between inserting data into a database row-by-row and as binary blobs. Inserting the data row-by-row means that we have direct access to all the data and may perform queries directly on the values of the data. On the other hand, as we shall see, this is much slower than inserting the data directly as binary blobs."
   ]
  },
  {
   "cell_type": "markdown",
   "metadata": {},
   "source": [
    "First, we choose a new location for the database to ensure that we don't add a bunch of benchmarking data to the default one."
   ]
  },
  {
   "cell_type": "code",
   "execution_count": 1,
   "metadata": {
    "execution": {
     "iopub.execute_input": "2020-11-09T09:38:01.378133Z",
     "iopub.status.busy": "2020-11-09T09:38:01.377599Z",
     "iopub.status.idle": "2020-11-09T09:38:02.299403Z",
     "shell.execute_reply": "2020-11-09T09:38:02.298925Z"
    }
   },
   "outputs": [
    {
     "name": "stdout",
     "output_type": "stream",
     "text": [
      "Logging hadn't been started.\n",
      "Activating auto-logging. Current session state plus future input saved.\n",
      "Filename       : /home/vsts/.qcodes/logs/command_history.log\n",
      "Mode           : append\n",
      "Output logging : True\n",
      "Raw input log  : False\n",
      "Timestamping   : True\n",
      "State          : active\n"
     ]
    },
    {
     "name": "stdout",
     "output_type": "stream",
     "text": [
      "Qcodes Logfile : /home/vsts/.qcodes/logs/201109-15073-qcodes.log\n"
     ]
    }
   ],
   "source": [
    "import os\n",
    "cwd = os.getcwd()\n",
    "import qcodes as qc\n",
    "qc.config[\"core\"][\"db_location\"] = os.path.join(cwd, 'testing.db')\n"
   ]
  },
  {
   "cell_type": "code",
   "execution_count": 2,
   "metadata": {
    "execution": {
     "iopub.execute_input": "2020-11-09T09:38:02.304673Z",
     "iopub.status.busy": "2020-11-09T09:38:02.303647Z",
     "iopub.status.idle": "2020-11-09T09:38:02.469411Z",
     "shell.execute_reply": "2020-11-09T09:38:02.468104Z"
    }
   },
   "outputs": [],
   "source": [
    "%matplotlib inline\n",
    "import time\n",
    "import matplotlib.pyplot as plt\n",
    "import numpy as np\n",
    "\n",
    "import qcodes as qc\n",
    "from qcodes.instrument.parameter import ManualParameter\n",
    "from qcodes.dataset.experiment_container import (Experiment,\n",
    "                                                 load_last_experiment,\n",
    "                                                 new_experiment)\n",
    "from qcodes.dataset.sqlite.database import initialise_database\n",
    "from qcodes import load_or_create_experiment\n",
    "from qcodes.dataset.measurements import Measurement"
   ]
  },
  {
   "cell_type": "code",
   "execution_count": 3,
   "metadata": {
    "execution": {
     "iopub.execute_input": "2020-11-09T09:38:02.473227Z",
     "iopub.status.busy": "2020-11-09T09:38:02.472689Z",
     "iopub.status.idle": "2020-11-09T09:38:02.575427Z",
     "shell.execute_reply": "2020-11-09T09:38:02.575016Z"
    }
   },
   "outputs": [
    {
     "name": "stdout",
     "output_type": "stream",
     "text": [
      "\r",
      "0it [00:00, ?it/s]"
     ]
    },
    {
     "name": "stdout",
     "output_type": "stream",
     "text": [
      "\r",
      "Upgrading database; v0 -> v1: : 0it [00:00, ?it/s]"
     ]
    },
    {
     "name": "stdout",
     "output_type": "stream",
     "text": [
      "\r",
      "Upgrading database; v0 -> v1: : 0it [00:00, ?it/s]"
     ]
    },
    {
     "name": "stdout",
     "output_type": "stream",
     "text": [
      "\n",
      "\r",
      "  0%|          | 0/1 [00:00<?, ?it/s]"
     ]
    },
    {
     "name": "stdout",
     "output_type": "stream",
     "text": [
      "\r",
      "Upgrading database; v1 -> v2:   0%|          | 0/1 [00:00<?, ?it/s]"
     ]
    },
    {
     "name": "stdout",
     "output_type": "stream",
     "text": [
      "\r",
      "Upgrading database; v1 -> v2: 100%|██████████| 1/1 [00:00<00:00, 539.18it/s]"
     ]
    },
    {
     "name": "stdout",
     "output_type": "stream",
     "text": [
      "\n",
      "\r",
      "0it [00:00, ?it/s]"
     ]
    },
    {
     "name": "stdout",
     "output_type": "stream",
     "text": [
      "\r",
      "Upgrading database; v2 -> v3: : 0it [00:00, ?it/s]"
     ]
    },
    {
     "name": "stdout",
     "output_type": "stream",
     "text": [
      "\r",
      "Upgrading database; v2 -> v3: : 0it [00:00, ?it/s]"
     ]
    },
    {
     "name": "stdout",
     "output_type": "stream",
     "text": [
      "\n",
      "\r",
      "0it [00:00, ?it/s]"
     ]
    },
    {
     "name": "stdout",
     "output_type": "stream",
     "text": [
      "\r",
      "Upgrading database; v3 -> v4: : 0it [00:00, ?it/s]"
     ]
    },
    {
     "name": "stdout",
     "output_type": "stream",
     "text": [
      "\r",
      "Upgrading database; v3 -> v4: : 0it [00:00, ?it/s]"
     ]
    },
    {
     "name": "stdout",
     "output_type": "stream",
     "text": [
      "\n",
      "\r",
      "  0%|          | 0/1 [00:00<?, ?it/s]"
     ]
    },
    {
     "name": "stdout",
     "output_type": "stream",
     "text": [
      "\r",
      "Upgrading database; v4 -> v5:   0%|          | 0/1 [00:00<?, ?it/s]"
     ]
    },
    {
     "name": "stdout",
     "output_type": "stream",
     "text": [
      "\r",
      "Upgrading database; v4 -> v5: 100%|██████████| 1/1 [00:00<00:00, 494.79it/s]"
     ]
    },
    {
     "name": "stdout",
     "output_type": "stream",
     "text": [
      "\n",
      "\r",
      "0it [00:00, ?it/s]"
     ]
    },
    {
     "name": "stdout",
     "output_type": "stream",
     "text": [
      "\r",
      "Upgrading database; v5 -> v6: : 0it [00:00, ?it/s]"
     ]
    },
    {
     "name": "stdout",
     "output_type": "stream",
     "text": [
      "\r",
      "Upgrading database; v5 -> v6: : 0it [00:00, ?it/s]"
     ]
    },
    {
     "name": "stdout",
     "output_type": "stream",
     "text": [
      "\n",
      "\r",
      "  0%|          | 0/1 [00:00<?, ?it/s]"
     ]
    },
    {
     "name": "stdout",
     "output_type": "stream",
     "text": [
      "\r",
      "Upgrading database; v6 -> v7:   0%|          | 0/1 [00:00<?, ?it/s]"
     ]
    },
    {
     "name": "stdout",
     "output_type": "stream",
     "text": [
      "\r",
      "Upgrading database; v6 -> v7: 100%|██████████| 1/1 [00:00<00:00, 315.24it/s]"
     ]
    },
    {
     "name": "stdout",
     "output_type": "stream",
     "text": [
      "\n",
      "\r",
      "  0%|          | 0/1 [00:00<?, ?it/s]"
     ]
    },
    {
     "name": "stdout",
     "output_type": "stream",
     "text": [
      "\r",
      "Upgrading database; v7 -> v8:   0%|          | 0/1 [00:00<?, ?it/s]"
     ]
    },
    {
     "name": "stdout",
     "output_type": "stream",
     "text": [
      "\r",
      "Upgrading database; v7 -> v8: 100%|██████████| 1/1 [00:00<00:00, 1438.87it/s]"
     ]
    },
    {
     "name": "stdout",
     "output_type": "stream",
     "text": [
      "\n",
      "\r",
      "  0%|          | 0/1 [00:00<?, ?it/s]"
     ]
    },
    {
     "name": "stdout",
     "output_type": "stream",
     "text": [
      "\r",
      "Upgrading database; v8 -> v9:   0%|          | 0/1 [00:00<?, ?it/s]"
     ]
    },
    {
     "name": "stdout",
     "output_type": "stream",
     "text": [
      "\r",
      "Upgrading database; v8 -> v9: 100%|██████████| 1/1 [00:00<00:00, 788.55it/s]"
     ]
    },
    {
     "name": "stdout",
     "output_type": "stream",
     "text": [
      "\n"
     ]
    }
   ],
   "source": [
    "initialise_database()\n",
    "exp = load_or_create_experiment(experiment_name='tutorial_exp', sample_name=\"no sample\")"
   ]
  },
  {
   "cell_type": "markdown",
   "metadata": {},
   "source": [
    "Here, we define a simple function to benchmark the time it takes to insert n points with either numeric or array data type.\n",
    "We will compare both the time used to call ``add_result`` and the time used for the full measurement."
   ]
  },
  {
   "cell_type": "code",
   "execution_count": 4,
   "metadata": {
    "execution": {
     "iopub.execute_input": "2020-11-09T09:38:02.582944Z",
     "iopub.status.busy": "2020-11-09T09:38:02.582430Z",
     "iopub.status.idle": "2020-11-09T09:38:02.585134Z",
     "shell.execute_reply": "2020-11-09T09:38:02.584253Z"
    }
   },
   "outputs": [],
   "source": [
    "def insert_data(paramtype, npoints, nreps=1):\n",
    "\n",
    "    meas = Measurement(exp=exp)\n",
    "\n",
    "    x1 = ManualParameter('x1')\n",
    "    x2 = ManualParameter('x2')\n",
    "    x3 = ManualParameter('x3')\n",
    "    y1 = ManualParameter('y1')\n",
    "    y2 = ManualParameter('y2')\n",
    "\n",
    "    meas.register_parameter(x1, paramtype=paramtype)\n",
    "    meas.register_parameter(x2, paramtype=paramtype)\n",
    "    meas.register_parameter(x3, paramtype=paramtype)\n",
    "    meas.register_parameter(y1, setpoints=[x1, x2, x3],\n",
    "                            paramtype=paramtype)\n",
    "    meas.register_parameter(y2, setpoints=[x1, x2, x3],\n",
    "                            paramtype=paramtype)\n",
    "    start = time.perf_counter()\n",
    "    with meas.run() as datasaver:\n",
    "        start_adding = time.perf_counter()\n",
    "        for i in range(nreps):\n",
    "            datasaver.add_result((x1, np.random.rand(npoints)),\n",
    "                                 (x2, np.random.rand(npoints)),\n",
    "                                 (x3, np.random.rand(npoints)),\n",
    "                                 (y1, np.random.rand(npoints)),\n",
    "                                 (y2, np.random.rand(npoints)))\n",
    "        stop_adding = time.perf_counter()\n",
    "        run_id = datasaver.run_id\n",
    "    stop = time.perf_counter()\n",
    "    tot_time = stop - start\n",
    "    add_time = stop_adding - start_adding\n",
    "    return tot_time, add_time, run_id"
   ]
  },
  {
   "cell_type": "markdown",
   "metadata": {},
   "source": [
    "## Comparison between numeric/array data and binary blob"
   ]
  },
  {
   "cell_type": "markdown",
   "metadata": {},
   "source": [
    "### Case1: Short experiment time"
   ]
  },
  {
   "cell_type": "code",
   "execution_count": 5,
   "metadata": {
    "execution": {
     "iopub.execute_input": "2020-11-09T09:38:02.590490Z",
     "iopub.status.busy": "2020-11-09T09:38:02.589570Z",
     "iopub.status.idle": "2020-11-09T09:38:03.338542Z",
     "shell.execute_reply": "2020-11-09T09:38:03.337356Z"
    }
   },
   "outputs": [
    {
     "name": "stdout",
     "output_type": "stream",
     "text": [
      "Starting experimental run with id: 1. \n",
      "Starting experimental run with id: 2. \n",
      "Starting experimental run with id: 3. \n",
      "Starting experimental run with id: 4. \n",
      "Starting experimental run with id: 5. \n",
      "Starting experimental run with id: 6. \n"
     ]
    },
    {
     "name": "stdout",
     "output_type": "stream",
     "text": [
      "Starting experimental run with id: 7. \n"
     ]
    },
    {
     "name": "stdout",
     "output_type": "stream",
     "text": [
      "Starting experimental run with id: 8. \n",
      "Starting experimental run with id: 9. \n",
      "Starting experimental run with id: 10. \n"
     ]
    },
    {
     "name": "stdout",
     "output_type": "stream",
     "text": [
      "Starting experimental run with id: 11. \n"
     ]
    },
    {
     "name": "stdout",
     "output_type": "stream",
     "text": [
      "Starting experimental run with id: 12. \n",
      "Starting experimental run with id: 13. \n"
     ]
    },
    {
     "name": "stdout",
     "output_type": "stream",
     "text": [
      "Starting experimental run with id: 14. \n"
     ]
    }
   ],
   "source": [
    "sizes = [1,500,1000,2000,3000,4000,5000]\n",
    "t_numeric = []\n",
    "t_numeric_add = []\n",
    "t_array = []\n",
    "t_array_add = []\n",
    "for size in sizes:\n",
    "    tn, tna, run_id_n =  insert_data('numeric', size)\n",
    "    t_numeric.append(tn)\n",
    "    t_numeric_add.append(tna)\n",
    "\n",
    "    ta, taa, run_id_a =  insert_data('array', size)\n",
    "    t_array.append(ta)\n",
    "    t_array_add.append(taa)"
   ]
  },
  {
   "cell_type": "code",
   "execution_count": 6,
   "metadata": {
    "execution": {
     "iopub.execute_input": "2020-11-09T09:38:03.355199Z",
     "iopub.status.busy": "2020-11-09T09:38:03.342667Z",
     "iopub.status.idle": "2020-11-09T09:38:03.519544Z",
     "shell.execute_reply": "2020-11-09T09:38:03.520089Z"
    }
   },
   "outputs": [
    {
     "data": {
      "image/png": "[encoded data removed]",
      "text/plain": [
       "<Figure size 432x288 with 1 Axes>"
      ]
     },
     "metadata": {
      "needs_background": "light"
     },
     "output_type": "display_data"
    }
   ],
   "source": [
    "fig, ax = plt.subplots(1,1)\n",
    "ax.plot(sizes, t_numeric, 'o-', label='Inserting row-by-row')\n",
    "ax.plot(sizes, t_numeric_add, 'o-', label='Inserting row-by-row: add_result only')\n",
    "ax.plot(sizes, t_array, 'd-', label='Inserting as binary blob')\n",
    "ax.plot(sizes, t_array_add, 'd-', label='Inserting as binary blob: add_result only')\n",
    "ax.legend()\n",
    "ax.set_xlabel('Array length')\n",
    "ax.set_ylabel('Time (s)')\n",
    "fig.tight_layout()"
   ]
  },
  {
   "cell_type": "markdown",
   "metadata": {},
   "source": [
    "As shown in the latter figure, the time to setup and and close the experiment is approximately 0.4 sec. In case of small array sizes, the difference between inserting values of data as arrays and inserting them row-by-row is relatively unimportant. At larger array sizes, i.e. above 10000 points, the cost of writing data as individual datapoints starts to become important.\n"
   ]
  },
  {
   "cell_type": "markdown",
   "metadata": {},
   "source": [
    "### Case2: Long experiment time "
   ]
  },
  {
   "cell_type": "code",
   "execution_count": 7,
   "metadata": {
    "execution": {
     "iopub.execute_input": "2020-11-09T09:38:03.522439Z",
     "iopub.status.busy": "2020-11-09T09:38:03.521941Z",
     "iopub.status.idle": "2020-11-09T09:39:02.420030Z",
     "shell.execute_reply": "2020-11-09T09:39:02.419393Z"
    }
   },
   "outputs": [
    {
     "name": "stdout",
     "output_type": "stream",
     "text": [
      "Starting experimental run with id: 15. \n",
      "Starting experimental run with id: 16. \n",
      "Starting experimental run with id: 17. \n"
     ]
    },
    {
     "name": "stdout",
     "output_type": "stream",
     "text": [
      "Starting experimental run with id: 18. \n",
      "Starting experimental run with id: 19. \n"
     ]
    },
    {
     "name": "stdout",
     "output_type": "stream",
     "text": [
      "Starting experimental run with id: 20. \n"
     ]
    },
    {
     "name": "stdout",
     "output_type": "stream",
     "text": [
      "Starting experimental run with id: 21. \n"
     ]
    },
    {
     "name": "stdout",
     "output_type": "stream",
     "text": [
      "Starting experimental run with id: 22. \n"
     ]
    },
    {
     "name": "stdout",
     "output_type": "stream",
     "text": [
      "Starting experimental run with id: 23. \n"
     ]
    },
    {
     "name": "stdout",
     "output_type": "stream",
     "text": [
      "Starting experimental run with id: 24. \n"
     ]
    },
    {
     "name": "stdout",
     "output_type": "stream",
     "text": [
      "Starting experimental run with id: 25. \n"
     ]
    },
    {
     "name": "stdout",
     "output_type": "stream",
     "text": [
      "Starting experimental run with id: 26. \n"
     ]
    },
    {
     "name": "stdout",
     "output_type": "stream",
     "text": [
      "Starting experimental run with id: 27. \n"
     ]
    },
    {
     "name": "stdout",
     "output_type": "stream",
     "text": [
      "Starting experimental run with id: 28. \n"
     ]
    }
   ],
   "source": [
    "sizes = [1,500,1000,2000,3000,4000,5000]\n",
    "nreps = 100\n",
    "t_numeric = []\n",
    "t_numeric_add = []\n",
    "t_numeric_run_ids = []\n",
    "t_array = []\n",
    "t_array_add = []\n",
    "t_array_run_ids = []\n",
    "for size in sizes:\n",
    "    tn, tna, run_id_n =  insert_data('numeric', size, nreps=nreps)\n",
    "    t_numeric.append(tn)\n",
    "    t_numeric_add.append(tna)\n",
    "    t_numeric_run_ids.append(run_id_n)\n",
    "\n",
    "    ta, taa, run_id_a =  insert_data('array', size, nreps=nreps)\n",
    "    t_array.append(ta)\n",
    "    t_array_add.append(taa)\n",
    "    t_array_run_ids.append(run_id_a)"
   ]
  },
  {
   "cell_type": "code",
   "execution_count": 8,
   "metadata": {
    "execution": {
     "iopub.execute_input": "2020-11-09T09:39:02.446765Z",
     "iopub.status.busy": "2020-11-09T09:39:02.434813Z",
     "iopub.status.idle": "2020-11-09T09:39:02.609929Z",
     "shell.execute_reply": "2020-11-09T09:39:02.610637Z"
    },
    "scrolled": true
   },
   "outputs": [
    {
     "data": {
      "image/png": "[encoded data removed]",
      "text/plain": [
       "<Figure size 432x288 with 1 Axes>"
      ]
     },
     "metadata": {
      "needs_background": "light"
     },
     "output_type": "display_data"
    }
   ],
   "source": [
    "fig, ax = plt.subplots(1,1)\n",
    "ax.plot(sizes, t_numeric, 'o-', label='Inserting row-by-row')\n",
    "ax.plot(sizes, t_numeric_add, 'o-', label='Inserting row-by-row: add_result only')\n",
    "ax.plot(sizes, t_array, 'd-', label='Inserting as binary blob')\n",
    "ax.plot(sizes, t_array_add, 'd-', label='Inserting as binary blob: add_result only')\n",
    "ax.legend()\n",
    "ax.set_xlabel('Array length')\n",
    "ax.set_ylabel('Time (s)')\n",
    "fig.tight_layout()"
   ]
  },
  {
   "cell_type": "markdown",
   "metadata": {},
   "source": [
    "However, as we increase the length of the experiment, as seen here by repeating the insertion 100 times, we see a big difference between inserting values of the data row-by-row and inserting it as a binary blob."
   ]
  },
  {
   "cell_type": "markdown",
   "metadata": {},
   "source": [
    "## Loading the data "
   ]
  },
  {
   "cell_type": "code",
   "execution_count": 9,
   "metadata": {
    "execution": {
     "iopub.execute_input": "2020-11-09T09:39:02.615019Z",
     "iopub.status.busy": "2020-11-09T09:39:02.614216Z",
     "iopub.status.idle": "2020-11-09T09:39:02.618396Z",
     "shell.execute_reply": "2020-11-09T09:39:02.617917Z"
    }
   },
   "outputs": [],
   "source": [
    "from qcodes.dataset.data_set import load_by_id\n",
    "from qcodes.dataset.data_export import get_data_by_id"
   ]
  },
  {
   "cell_type": "markdown",
   "metadata": {},
   "source": [
    "As usual you can load the data by using the ``load_by_id`` function but you will notice that the different storage methods\n",
    "are reflected in shape of the data as it is retrieved. "
   ]
  },
  {
   "cell_type": "code",
   "execution_count": 10,
   "metadata": {
    "execution": {
     "iopub.execute_input": "2020-11-09T09:39:02.621979Z",
     "iopub.status.busy": "2020-11-09T09:39:02.621542Z",
     "iopub.status.idle": "2020-11-09T09:39:02.624236Z",
     "shell.execute_reply": "2020-11-09T09:39:02.624595Z"
    }
   },
   "outputs": [],
   "source": [
    "run_id_n = t_numeric_run_ids[0]\n",
    "run_id_a = t_array_run_ids[0]"
   ]
  },
  {
   "cell_type": "code",
   "execution_count": 11,
   "metadata": {
    "execution": {
     "iopub.execute_input": "2020-11-09T09:39:02.627802Z",
     "iopub.status.busy": "2020-11-09T09:39:02.627364Z",
     "iopub.status.idle": "2020-11-09T09:39:02.636178Z",
     "shell.execute_reply": "2020-11-09T09:39:02.636597Z"
    },
    "scrolled": true
   },
   "outputs": [
    {
     "data": {
      "text/plain": [
       "{'x1': {'x1': array([0.24023711, 0.24023711, 0.30245995, 0.30245995, 0.3847028 ,\n",
       "         0.3847028 , 0.79719078, 0.79719078, 0.94890866, 0.94890866,\n",
       "         0.80463001, 0.80463001, 0.97310108, 0.97310108, 0.62588856,\n",
       "         0.62588856, 0.8807752 , 0.8807752 , 0.91265929, 0.91265929,\n",
       "         0.08786892, 0.08786892, 0.33984452, 0.33984452, 0.39646426,\n",
       "         0.39646426, 0.41106277, 0.41106277, 0.26442761, 0.26442761,\n",
       "         0.35141469, 0.35141469, 0.17569845, 0.17569845, 0.37309909,\n",
       "         0.37309909, 0.11149125, 0.11149125, 0.2934024 , 0.2934024 ,\n",
       "         0.01446816, 0.01446816, 0.276694  , 0.276694  , 0.12384032,\n",
       "         0.12384032, 0.07946336, 0.07946336, 0.52645092, 0.52645092,\n",
       "         0.30557252, 0.30557252, 0.28714416, 0.28714416, 0.09938571,\n",
       "         0.09938571, 0.30191474, 0.30191474, 0.1750696 , 0.1750696 ,\n",
       "         0.24021353, 0.24021353, 0.70552336, 0.70552336, 0.16764912,\n",
       "         0.16764912, 0.55423571, 0.55423571, 0.72399876, 0.72399876,\n",
       "         0.75607798, 0.75607798, 0.46624832, 0.46624832, 0.38321906,\n",
       "         0.38321906, 0.58275926, 0.58275926, 0.72187314, 0.72187314,\n",
       "         0.82208946, 0.82208946, 0.0699119 , 0.0699119 , 0.31601793,\n",
       "         0.31601793, 0.03365647, 0.03365647, 0.03661541, 0.03661541,\n",
       "         0.06268691, 0.06268691, 0.43296885, 0.43296885, 0.2380314 ,\n",
       "         0.2380314 , 0.35060244, 0.35060244, 0.53144768, 0.53144768,\n",
       "         0.22951974, 0.22951974, 0.53643669, 0.53643669, 0.27786793,\n",
       "         0.27786793, 0.76235203, 0.76235203, 0.1626487 , 0.1626487 ,\n",
       "         0.2660742 , 0.2660742 , 0.57545833, 0.57545833, 0.21476776,\n",
       "         0.21476776, 0.21918992, 0.21918992, 0.65999618, 0.65999618,\n",
       "         0.34706301, 0.34706301, 0.60803892, 0.60803892, 0.93440351,\n",
       "         0.93440351, 0.18482061, 0.18482061, 0.49678895, 0.49678895,\n",
       "         0.22003107, 0.22003107, 0.72512589, 0.72512589, 0.80500852,\n",
       "         0.80500852, 0.49861836, 0.49861836, 0.32678615, 0.32678615,\n",
       "         0.61451588, 0.61451588, 0.51685312, 0.51685312, 0.18146121,\n",
       "         0.18146121, 0.32523518, 0.32523518, 0.95911818, 0.95911818,\n",
       "         0.92914212, 0.92914212, 0.19595698, 0.19595698, 0.17761909,\n",
       "         0.17761909, 0.31419663, 0.31419663, 0.21380581, 0.21380581,\n",
       "         0.3224844 , 0.3224844 , 0.89847156, 0.89847156, 0.70370215,\n",
       "         0.70370215, 0.92486517, 0.92486517, 0.28692186, 0.28692186,\n",
       "         0.35818711, 0.35818711, 0.32093462, 0.32093462, 0.21189323,\n",
       "         0.21189323, 0.50664399, 0.50664399, 0.34129974, 0.34129974,\n",
       "         0.77405615, 0.77405615, 0.67230213, 0.67230213, 0.99127805,\n",
       "         0.99127805, 0.05026372, 0.05026372, 0.6191301 , 0.6191301 ,\n",
       "         0.13670188, 0.13670188, 0.8258588 , 0.8258588 , 0.34190727,\n",
       "         0.34190727, 0.83320903, 0.83320903, 0.54133828, 0.54133828])}}"
      ]
     },
     "execution_count": 1,
     "metadata": {},
     "output_type": "execute_result"
    }
   ],
   "source": [
    "ds = load_by_id(run_id_n)\n",
    "ds.get_parameter_data('x1')"
   ]
  },
  {
   "cell_type": "markdown",
   "metadata": {},
   "source": [
    "And a dataset stored as binary arrays"
   ]
  },
  {
   "cell_type": "code",
   "execution_count": 12,
   "metadata": {
    "execution": {
     "iopub.execute_input": "2020-11-09T09:39:02.639295Z",
     "iopub.status.busy": "2020-11-09T09:39:02.638861Z",
     "iopub.status.idle": "2020-11-09T09:39:02.689859Z",
     "shell.execute_reply": "2020-11-09T09:39:02.689421Z"
    },
    "scrolled": true
   },
   "outputs": [
    {
     "data": {
      "text/plain": [
       "{'x1': {'x1': array([[0.59921255],\n",
       "         [0.59921255],\n",
       "         [0.41981166],\n",
       "         [0.41981166],\n",
       "         [0.01298994],\n",
       "         [0.01298994],\n",
       "         [0.25463952],\n",
       "         [0.25463952],\n",
       "         [0.45639589],\n",
       "         [0.45639589],\n",
       "         [0.07203198],\n",
       "         [0.07203198],\n",
       "         [0.57226061],\n",
       "         [0.57226061],\n",
       "         [0.27738679],\n",
       "         [0.27738679],\n",
       "         [0.85594579],\n",
       "         [0.85594579],\n",
       "         [0.31774176],\n",
       "         [0.31774176],\n",
       "         [0.51942582],\n",
       "         [0.51942582],\n",
       "         [0.51799766],\n",
       "         [0.51799766],\n",
       "         [0.72430786],\n",
       "         [0.72430786],\n",
       "         [0.54713446],\n",
       "         [0.54713446],\n",
       "         [0.32049508],\n",
       "         [0.32049508],\n",
       "         [0.71420088],\n",
       "         [0.71420088],\n",
       "         [0.58185861],\n",
       "         [0.58185861],\n",
       "         [0.47912801],\n",
       "         [0.47912801],\n",
       "         [0.56592146],\n",
       "         [0.56592146],\n",
       "         [0.39748764],\n",
       "         [0.39748764],\n",
       "         [0.33618041],\n",
       "         [0.33618041],\n",
       "         [0.4812093 ],\n",
       "         [0.4812093 ],\n",
       "         [0.46263686],\n",
       "         [0.46263686],\n",
       "         [0.87122379],\n",
       "         [0.87122379],\n",
       "         [0.8250562 ],\n",
       "         [0.8250562 ],\n",
       "         [0.88433221],\n",
       "         [0.88433221],\n",
       "         [0.91951641],\n",
       "         [0.91951641],\n",
       "         [0.7569183 ],\n",
       "         [0.7569183 ],\n",
       "         [0.00567687],\n",
       "         [0.00567687],\n",
       "         [0.6948099 ],\n",
       "         [0.6948099 ],\n",
       "         [0.03227977],\n",
       "         [0.03227977],\n",
       "         [0.39284482],\n",
       "         [0.39284482],\n",
       "         [0.19737379],\n",
       "         [0.19737379],\n",
       "         [0.18215019],\n",
       "         [0.18215019],\n",
       "         [0.35300326],\n",
       "         [0.35300326],\n",
       "         [0.20717091],\n",
       "         [0.20717091],\n",
       "         [0.05295658],\n",
       "         [0.05295658],\n",
       "         [0.13455317],\n",
       "         [0.13455317],\n",
       "         [0.28051808],\n",
       "         [0.28051808],\n",
       "         [0.32966427],\n",
       "         [0.32966427],\n",
       "         [0.05446737],\n",
       "         [0.05446737],\n",
       "         [0.70416776],\n",
       "         [0.70416776],\n",
       "         [0.07723515],\n",
       "         [0.07723515],\n",
       "         [0.45435934],\n",
       "         [0.45435934],\n",
       "         [0.57705228],\n",
       "         [0.57705228],\n",
       "         [0.0600181 ],\n",
       "         [0.0600181 ],\n",
       "         [0.48176616],\n",
       "         [0.48176616],\n",
       "         [0.92054138],\n",
       "         [0.92054138],\n",
       "         [0.18323761],\n",
       "         [0.18323761],\n",
       "         [0.37289981],\n",
       "         [0.37289981],\n",
       "         [0.27838766],\n",
       "         [0.27838766],\n",
       "         [0.16222334],\n",
       "         [0.16222334],\n",
       "         [0.24190578],\n",
       "         [0.24190578],\n",
       "         [0.43509914],\n",
       "         [0.43509914],\n",
       "         [0.62208685],\n",
       "         [0.62208685],\n",
       "         [0.66646914],\n",
       "         [0.66646914],\n",
       "         [0.23927774],\n",
       "         [0.23927774],\n",
       "         [0.44793919],\n",
       "         [0.44793919],\n",
       "         [0.15506034],\n",
       "         [0.15506034],\n",
       "         [0.08326555],\n",
       "         [0.08326555],\n",
       "         [0.93437082],\n",
       "         [0.93437082],\n",
       "         [0.99064016],\n",
       "         [0.99064016],\n",
       "         [0.63029836],\n",
       "         [0.63029836],\n",
       "         [0.72016542],\n",
       "         [0.72016542],\n",
       "         [0.63468725],\n",
       "         [0.63468725],\n",
       "         [0.13596572],\n",
       "         [0.13596572],\n",
       "         [0.82033596],\n",
       "         [0.82033596],\n",
       "         [0.20609737],\n",
       "         [0.20609737],\n",
       "         [0.16340268],\n",
       "         [0.16340268],\n",
       "         [0.71459251],\n",
       "         [0.71459251],\n",
       "         [0.26403412],\n",
       "         [0.26403412],\n",
       "         [0.86284809],\n",
       "         [0.86284809],\n",
       "         [0.08755826],\n",
       "         [0.08755826],\n",
       "         [0.74467909],\n",
       "         [0.74467909],\n",
       "         [0.46171018],\n",
       "         [0.46171018],\n",
       "         [0.81331522],\n",
       "         [0.81331522],\n",
       "         [0.24937287],\n",
       "         [0.24937287],\n",
       "         [0.6219848 ],\n",
       "         [0.6219848 ],\n",
       "         [0.87235489],\n",
       "         [0.87235489],\n",
       "         [0.83579525],\n",
       "         [0.83579525],\n",
       "         [0.20352004],\n",
       "         [0.20352004],\n",
       "         [0.16203814],\n",
       "         [0.16203814],\n",
       "         [0.77807833],\n",
       "         [0.77807833],\n",
       "         [0.16642058],\n",
       "         [0.16642058],\n",
       "         [0.90569651],\n",
       "         [0.90569651],\n",
       "         [0.97708314],\n",
       "         [0.97708314],\n",
       "         [0.22012443],\n",
       "         [0.22012443],\n",
       "         [0.23530836],\n",
       "         [0.23530836],\n",
       "         [0.06010129],\n",
       "         [0.06010129],\n",
       "         [0.69951905],\n",
       "         [0.69951905],\n",
       "         [0.68260042],\n",
       "         [0.68260042],\n",
       "         [0.08014908],\n",
       "         [0.08014908],\n",
       "         [0.9074831 ],\n",
       "         [0.9074831 ],\n",
       "         [0.47571876],\n",
       "         [0.47571876],\n",
       "         [0.32479058],\n",
       "         [0.32479058],\n",
       "         [0.43810746],\n",
       "         [0.43810746],\n",
       "         [0.88223709],\n",
       "         [0.88223709],\n",
       "         [0.11337247],\n",
       "         [0.11337247],\n",
       "         [0.41913394],\n",
       "         [0.41913394],\n",
       "         [0.60104738],\n",
       "         [0.60104738]])}}"
      ]
     },
     "execution_count": 1,
     "metadata": {},
     "output_type": "execute_result"
    }
   ],
   "source": [
    "ds = load_by_id(run_id_a)\n",
    "ds.get_parameter_data('x1')"
   ]
  },
  {
   "cell_type": "code",
   "execution_count": null,
   "metadata": {},
   "outputs": [],
   "source": []
  }
 ],
 "metadata": {
  "kernelspec": {
   "display_name": "Python 3",
   "language": "python",
   "name": "python3"
  },
  "language_info": {
   "codemirror_mode": {
    "name": "ipython",
    "version": 3
   },
   "file_extension": ".py",
   "mimetype": "text/x-python",
   "name": "python",
   "nbconvert_exporter": "python",
   "pygments_lexer": "ipython3",
   "version": "3.7.9"
  },
  "nbsphinx": {
   "timeout": 600
  },
  "toc": {
   "base_numbering": 1,
   "nav_menu": {},
   "number_sections": true,
   "sideBar": true,
   "skip_h1_title": false,
   "title_cell": "Table of Contents",
   "title_sidebar": "Contents",
   "toc_cell": false,
   "toc_position": {},
   "toc_section_display": true,
   "toc_window_display": false
  },
  "varInspector": {
   "cols": {
    "lenName": 16,
    "lenType": 16,
    "lenVar": 40
   },
   "kernels_config": {
    "python": {
     "delete_cmd_postfix": "",
     "delete_cmd_prefix": "del ",
     "library": "var_list.py",
     "varRefreshCmd": "print(var_dic_list())"
    },
    "r": {
     "delete_cmd_postfix": ") ",
     "delete_cmd_prefix": "rm(",
     "library": "var_list.r",
     "varRefreshCmd": "cat(var_dic_list()) "
    }
   },
   "types_to_exclude": [
    "module",
    "function",
    "builtin_function_or_method",
    "instance",
    "_Feature"
   ],
   "window_display": false
  }
 },
 "nbformat": 4,
 "nbformat_minor": 2
}
