{
 "cells": [
  {
   "cell_type": "markdown",
   "metadata": {},
   "source": [
    "# DataSet Performance\n",
    "\n",
    "This notebook shows the trade-off between inserting data into a database row-by-row and as binary blobs. Inserting the data row-by-row means that we have direct access to all the data and may perform queries directly on the values of the data. On the other hand, as we shall see, this is much slower than inserting the data directly as binary blobs."
   ]
  },
  {
   "cell_type": "markdown",
   "metadata": {},
   "source": [
    "First, we choose a new location for the database to ensure that we don't add a bunch of benchmarking data to the default one."
   ]
  },
  {
   "cell_type": "code",
   "execution_count": 1,
   "metadata": {
    "execution": {
     "iopub.execute_input": "2021-02-11T16:21:50.779486Z",
     "iopub.status.busy": "2021-02-11T16:21:50.778946Z",
     "iopub.status.idle": "2021-02-11T16:21:51.856128Z",
     "shell.execute_reply": "2021-02-11T16:21:51.855428Z"
    }
   },
   "outputs": [
    {
     "name": "stdout",
     "output_type": "stream",
     "text": [
      "Logging hadn't been started.\n",
      "Activating auto-logging. Current session state plus future input saved.\n",
      "Filename       : /home/vsts/.qcodes/logs/command_history.log\n",
      "Mode           : append\n",
      "Output logging : True\n",
      "Raw input log  : False\n",
      "Timestamping   : True\n",
      "State          : active\n"
     ]
    },
    {
     "name": "stdout",
     "output_type": "stream",
     "text": [
      "Qcodes Logfile : /home/vsts/.qcodes/logs/210211-7069-qcodes.log\n"
     ]
    }
   ],
   "source": [
    "import os\n",
    "cwd = os.getcwd()\n",
    "import qcodes as qc\n",
    "qc.config[\"core\"][\"db_location\"] = os.path.join(cwd, 'testing.db')\n"
   ]
  },
  {
   "cell_type": "code",
   "execution_count": 2,
   "metadata": {
    "execution": {
     "iopub.execute_input": "2021-02-11T16:21:51.864787Z",
     "iopub.status.busy": "2021-02-11T16:21:51.863941Z",
     "iopub.status.idle": "2021-02-11T16:21:52.053168Z",
     "shell.execute_reply": "2021-02-11T16:21:52.052661Z"
    }
   },
   "outputs": [],
   "source": [
    "%matplotlib inline\n",
    "import time\n",
    "import matplotlib.pyplot as plt\n",
    "import numpy as np\n",
    "\n",
    "import qcodes as qc\n",
    "from qcodes.instrument.parameter import ManualParameter\n",
    "from qcodes.dataset.experiment_container import (Experiment,\n",
    "                                                 load_last_experiment,\n",
    "                                                 new_experiment)\n",
    "from qcodes.dataset.sqlite.database import initialise_database\n",
    "from qcodes import load_or_create_experiment\n",
    "from qcodes.dataset.measurements import Measurement"
   ]
  },
  {
   "cell_type": "code",
   "execution_count": 3,
   "metadata": {
    "execution": {
     "iopub.execute_input": "2021-02-11T16:21:52.057096Z",
     "iopub.status.busy": "2021-02-11T16:21:52.056496Z",
     "iopub.status.idle": "2021-02-11T16:21:52.173900Z",
     "shell.execute_reply": "2021-02-11T16:21:52.174368Z"
    }
   },
   "outputs": [
    {
     "name": "stdout",
     "output_type": "stream",
     "text": [
      "\r",
      "0it [00:00, ?it/s]"
     ]
    },
    {
     "name": "stdout",
     "output_type": "stream",
     "text": [
      "\r",
      "Upgrading database; v0 -> v1: : 0it [00:00, ?it/s]"
     ]
    },
    {
     "name": "stdout",
     "output_type": "stream",
     "text": [
      "\r",
      "Upgrading database; v0 -> v1: : 0it [00:00, ?it/s]"
     ]
    },
    {
     "name": "stdout",
     "output_type": "stream",
     "text": [
      "\n",
      "\r",
      "  0%|          | 0/1 [00:00<?, ?it/s]"
     ]
    },
    {
     "name": "stdout",
     "output_type": "stream",
     "text": [
      "\r",
      "Upgrading database; v1 -> v2:   0%|          | 0/1 [00:00<?, ?it/s]"
     ]
    },
    {
     "name": "stdout",
     "output_type": "stream",
     "text": [
      "\r",
      "Upgrading database; v1 -> v2: 100%|██████████| 1/1 [00:00<00:00, 544.50it/s]"
     ]
    },
    {
     "name": "stdout",
     "output_type": "stream",
     "text": [
      "\n",
      "\r",
      "0it [00:00, ?it/s]"
     ]
    },
    {
     "name": "stdout",
     "output_type": "stream",
     "text": [
      "\r",
      "Upgrading database; v2 -> v3: : 0it [00:00, ?it/s]"
     ]
    },
    {
     "name": "stdout",
     "output_type": "stream",
     "text": [
      "\r",
      "Upgrading database; v2 -> v3: : 0it [00:00, ?it/s]"
     ]
    },
    {
     "name": "stdout",
     "output_type": "stream",
     "text": [
      "\n",
      "\r",
      "0it [00:00, ?it/s]"
     ]
    },
    {
     "name": "stdout",
     "output_type": "stream",
     "text": [
      "\r",
      "Upgrading database; v3 -> v4: : 0it [00:00, ?it/s]"
     ]
    },
    {
     "name": "stdout",
     "output_type": "stream",
     "text": [
      "\r",
      "Upgrading database; v3 -> v4: : 0it [00:00, ?it/s]"
     ]
    },
    {
     "name": "stdout",
     "output_type": "stream",
     "text": [
      "\n",
      "\r",
      "  0%|          | 0/1 [00:00<?, ?it/s]"
     ]
    },
    {
     "name": "stdout",
     "output_type": "stream",
     "text": [
      "\r",
      "Upgrading database; v4 -> v5:   0%|          | 0/1 [00:00<?, ?it/s]"
     ]
    },
    {
     "name": "stdout",
     "output_type": "stream",
     "text": [
      "\r",
      "Upgrading database; v4 -> v5: 100%|██████████| 1/1 [00:00<00:00, 572.29it/s]"
     ]
    },
    {
     "name": "stdout",
     "output_type": "stream",
     "text": [
      "\n",
      "\r",
      "0it [00:00, ?it/s]"
     ]
    },
    {
     "name": "stdout",
     "output_type": "stream",
     "text": [
      "\r",
      "Upgrading database; v5 -> v6: : 0it [00:00, ?it/s]"
     ]
    },
    {
     "name": "stdout",
     "output_type": "stream",
     "text": [
      "\r",
      "Upgrading database; v5 -> v6: : 0it [00:00, ?it/s]"
     ]
    },
    {
     "name": "stdout",
     "output_type": "stream",
     "text": [
      "\n",
      "\r",
      "  0%|          | 0/1 [00:00<?, ?it/s]"
     ]
    },
    {
     "name": "stdout",
     "output_type": "stream",
     "text": [
      "\r",
      "Upgrading database; v6 -> v7:   0%|          | 0/1 [00:00<?, ?it/s]"
     ]
    },
    {
     "name": "stdout",
     "output_type": "stream",
     "text": [
      "\r",
      "Upgrading database; v6 -> v7: 100%|██████████| 1/1 [00:00<00:00, 385.72it/s]"
     ]
    },
    {
     "name": "stdout",
     "output_type": "stream",
     "text": [
      "\n",
      "\r",
      "  0%|          | 0/1 [00:00<?, ?it/s]"
     ]
    },
    {
     "name": "stdout",
     "output_type": "stream",
     "text": [
      "\r",
      "Upgrading database; v7 -> v8:   0%|          | 0/1 [00:00<?, ?it/s]"
     ]
    },
    {
     "name": "stdout",
     "output_type": "stream",
     "text": [
      "\r",
      "Upgrading database; v7 -> v8: 100%|██████████| 1/1 [00:00<00:00, 535.74it/s]"
     ]
    },
    {
     "name": "stdout",
     "output_type": "stream",
     "text": [
      "\n",
      "\r",
      "  0%|          | 0/1 [00:00<?, ?it/s]"
     ]
    },
    {
     "name": "stdout",
     "output_type": "stream",
     "text": [
      "\r",
      "Upgrading database; v8 -> v9:   0%|          | 0/1 [00:00<?, ?it/s]"
     ]
    },
    {
     "name": "stdout",
     "output_type": "stream",
     "text": [
      "\r",
      "Upgrading database; v8 -> v9: 100%|██████████| 1/1 [00:00<00:00, 598.50it/s]"
     ]
    },
    {
     "name": "stdout",
     "output_type": "stream",
     "text": [
      "\n"
     ]
    }
   ],
   "source": [
    "initialise_database()\n",
    "exp = load_or_create_experiment(experiment_name='tutorial_exp', sample_name=\"no sample\")"
   ]
  },
  {
   "cell_type": "markdown",
   "metadata": {},
   "source": [
    "Here, we define a simple function to benchmark the time it takes to insert n points with either numeric or array data type.\n",
    "We will compare both the time used to call ``add_result`` and the time used for the full measurement."
   ]
  },
  {
   "cell_type": "code",
   "execution_count": 4,
   "metadata": {
    "execution": {
     "iopub.execute_input": "2021-02-11T16:21:52.184156Z",
     "iopub.status.busy": "2021-02-11T16:21:52.182927Z",
     "iopub.status.idle": "2021-02-11T16:21:52.184771Z",
     "shell.execute_reply": "2021-02-11T16:21:52.185215Z"
    }
   },
   "outputs": [],
   "source": [
    "def insert_data(paramtype, npoints, nreps=1):\n",
    "\n",
    "    meas = Measurement(exp=exp)\n",
    "\n",
    "    x1 = ManualParameter('x1')\n",
    "    x2 = ManualParameter('x2')\n",
    "    x3 = ManualParameter('x3')\n",
    "    y1 = ManualParameter('y1')\n",
    "    y2 = ManualParameter('y2')\n",
    "\n",
    "    meas.register_parameter(x1, paramtype=paramtype)\n",
    "    meas.register_parameter(x2, paramtype=paramtype)\n",
    "    meas.register_parameter(x3, paramtype=paramtype)\n",
    "    meas.register_parameter(y1, setpoints=[x1, x2, x3],\n",
    "                            paramtype=paramtype)\n",
    "    meas.register_parameter(y2, setpoints=[x1, x2, x3],\n",
    "                            paramtype=paramtype)\n",
    "    start = time.perf_counter()\n",
    "    with meas.run() as datasaver:\n",
    "        start_adding = time.perf_counter()\n",
    "        for i in range(nreps):\n",
    "            datasaver.add_result((x1, np.random.rand(npoints)),\n",
    "                                 (x2, np.random.rand(npoints)),\n",
    "                                 (x3, np.random.rand(npoints)),\n",
    "                                 (y1, np.random.rand(npoints)),\n",
    "                                 (y2, np.random.rand(npoints)))\n",
    "        stop_adding = time.perf_counter()\n",
    "        run_id = datasaver.run_id\n",
    "    stop = time.perf_counter()\n",
    "    tot_time = stop - start\n",
    "    add_time = stop_adding - start_adding\n",
    "    return tot_time, add_time, run_id"
   ]
  },
  {
   "cell_type": "markdown",
   "metadata": {},
   "source": [
    "## Comparison between numeric/array data and binary blob"
   ]
  },
  {
   "cell_type": "markdown",
   "metadata": {},
   "source": [
    "### Case1: Short experiment time"
   ]
  },
  {
   "cell_type": "code",
   "execution_count": 5,
   "metadata": {
    "execution": {
     "iopub.execute_input": "2021-02-11T16:21:52.192026Z",
     "iopub.status.busy": "2021-02-11T16:21:52.191412Z",
     "iopub.status.idle": "2021-02-11T16:21:53.004298Z",
     "shell.execute_reply": "2021-02-11T16:21:53.004729Z"
    }
   },
   "outputs": [
    {
     "name": "stdout",
     "output_type": "stream",
     "text": [
      "Starting experimental run with id: 1. \n",
      "Starting experimental run with id: 2. \n",
      "Starting experimental run with id: 3. \n",
      "Starting experimental run with id: 4. \n",
      "Starting experimental run with id: 5. \n"
     ]
    },
    {
     "name": "stdout",
     "output_type": "stream",
     "text": [
      "Starting experimental run with id: 6. \n"
     ]
    },
    {
     "name": "stdout",
     "output_type": "stream",
     "text": [
      "Starting experimental run with id: 7. \n"
     ]
    },
    {
     "name": "stdout",
     "output_type": "stream",
     "text": [
      "Starting experimental run with id: 8. \n",
      "Starting experimental run with id: 9. \n"
     ]
    },
    {
     "name": "stdout",
     "output_type": "stream",
     "text": [
      "Starting experimental run with id: 10. \n",
      "Starting experimental run with id: 11. \n"
     ]
    },
    {
     "name": "stdout",
     "output_type": "stream",
     "text": [
      "Starting experimental run with id: 12. \n",
      "Starting experimental run with id: 13. \n"
     ]
    },
    {
     "name": "stdout",
     "output_type": "stream",
     "text": [
      "Starting experimental run with id: 14. \n"
     ]
    }
   ],
   "source": [
    "sizes = [1,500,1000,2000,3000,4000,5000]\n",
    "t_numeric = []\n",
    "t_numeric_add = []\n",
    "t_array = []\n",
    "t_array_add = []\n",
    "for size in sizes:\n",
    "    tn, tna, run_id_n =  insert_data('numeric', size)\n",
    "    t_numeric.append(tn)\n",
    "    t_numeric_add.append(tna)\n",
    "\n",
    "    ta, taa, run_id_a =  insert_data('array', size)\n",
    "    t_array.append(ta)\n",
    "    t_array_add.append(taa)"
   ]
  },
  {
   "cell_type": "code",
   "execution_count": 6,
   "metadata": {
    "execution": {
     "iopub.execute_input": "2021-02-11T16:21:53.047063Z",
     "iopub.status.busy": "2021-02-11T16:21:53.030899Z",
     "iopub.status.idle": "2021-02-11T16:21:53.198988Z",
     "shell.execute_reply": "2021-02-11T16:21:53.198168Z"
    }
   },
   "outputs": [
    {
     "data": {
      "image/png": "[encoded data removed]",
      "text/plain": [
       "<Figure size 432x288 with 1 Axes>"
      ]
     },
     "metadata": {
      "needs_background": "light"
     },
     "output_type": "display_data"
    }
   ],
   "source": [
    "fig, ax = plt.subplots(1,1)\n",
    "ax.plot(sizes, t_numeric, 'o-', label='Inserting row-by-row')\n",
    "ax.plot(sizes, t_numeric_add, 'o-', label='Inserting row-by-row: add_result only')\n",
    "ax.plot(sizes, t_array, 'd-', label='Inserting as binary blob')\n",
    "ax.plot(sizes, t_array_add, 'd-', label='Inserting as binary blob: add_result only')\n",
    "ax.legend()\n",
    "ax.set_xlabel('Array length')\n",
    "ax.set_ylabel('Time (s)')\n",
    "fig.tight_layout()"
   ]
  },
  {
   "cell_type": "markdown",
   "metadata": {},
   "source": [
    "As shown in the latter figure, the time to setup and and close the experiment is approximately 0.4 sec. In case of small array sizes, the difference between inserting values of data as arrays and inserting them row-by-row is relatively unimportant. At larger array sizes, i.e. above 10000 points, the cost of writing data as individual datapoints starts to become important.\n"
   ]
  },
  {
   "cell_type": "markdown",
   "metadata": {},
   "source": [
    "### Case2: Long experiment time "
   ]
  },
  {
   "cell_type": "code",
   "execution_count": 7,
   "metadata": {
    "execution": {
     "iopub.execute_input": "2021-02-11T16:21:53.205754Z",
     "iopub.status.busy": "2021-02-11T16:21:53.204804Z",
     "iopub.status.idle": "2021-02-11T16:22:52.137900Z",
     "shell.execute_reply": "2021-02-11T16:22:52.137386Z"
    }
   },
   "outputs": [
    {
     "name": "stdout",
     "output_type": "stream",
     "text": [
      "Starting experimental run with id: 15. \n",
      "Starting experimental run with id: 16. \n",
      "Starting experimental run with id: 17. \n"
     ]
    },
    {
     "name": "stdout",
     "output_type": "stream",
     "text": [
      "Starting experimental run with id: 18. \n",
      "Starting experimental run with id: 19. \n"
     ]
    },
    {
     "name": "stdout",
     "output_type": "stream",
     "text": [
      "Starting experimental run with id: 20. \n"
     ]
    },
    {
     "name": "stdout",
     "output_type": "stream",
     "text": [
      "Starting experimental run with id: 21. \n"
     ]
    },
    {
     "name": "stdout",
     "output_type": "stream",
     "text": [
      "Starting experimental run with id: 22. \n"
     ]
    },
    {
     "name": "stdout",
     "output_type": "stream",
     "text": [
      "Starting experimental run with id: 23. \n"
     ]
    },
    {
     "name": "stdout",
     "output_type": "stream",
     "text": [
      "Starting experimental run with id: 24. \n"
     ]
    },
    {
     "name": "stdout",
     "output_type": "stream",
     "text": [
      "Starting experimental run with id: 25. \n"
     ]
    },
    {
     "name": "stdout",
     "output_type": "stream",
     "text": [
      "Starting experimental run with id: 26. \n"
     ]
    },
    {
     "name": "stdout",
     "output_type": "stream",
     "text": [
      "Starting experimental run with id: 27. \n"
     ]
    },
    {
     "name": "stdout",
     "output_type": "stream",
     "text": [
      "Starting experimental run with id: 28. \n"
     ]
    }
   ],
   "source": [
    "sizes = [1,500,1000,2000,3000,4000,5000]\n",
    "nreps = 100\n",
    "t_numeric = []\n",
    "t_numeric_add = []\n",
    "t_numeric_run_ids = []\n",
    "t_array = []\n",
    "t_array_add = []\n",
    "t_array_run_ids = []\n",
    "for size in sizes:\n",
    "    tn, tna, run_id_n =  insert_data('numeric', size, nreps=nreps)\n",
    "    t_numeric.append(tn)\n",
    "    t_numeric_add.append(tna)\n",
    "    t_numeric_run_ids.append(run_id_n)\n",
    "\n",
    "    ta, taa, run_id_a =  insert_data('array', size, nreps=nreps)\n",
    "    t_array.append(ta)\n",
    "    t_array_add.append(taa)\n",
    "    t_array_run_ids.append(run_id_a)"
   ]
  },
  {
   "cell_type": "code",
   "execution_count": 8,
   "metadata": {
    "execution": {
     "iopub.execute_input": "2021-02-11T16:22:52.156715Z",
     "iopub.status.busy": "2021-02-11T16:22:52.155864Z",
     "iopub.status.idle": "2021-02-11T16:22:52.339155Z",
     "shell.execute_reply": "2021-02-11T16:22:52.339892Z"
    },
    "scrolled": true
   },
   "outputs": [
    {
     "data": {
      "image/png": "[encoded data removed]",
      "text/plain": [
       "<Figure size 432x288 with 1 Axes>"
      ]
     },
     "metadata": {
      "needs_background": "light"
     },
     "output_type": "display_data"
    }
   ],
   "source": [
    "fig, ax = plt.subplots(1,1)\n",
    "ax.plot(sizes, t_numeric, 'o-', label='Inserting row-by-row')\n",
    "ax.plot(sizes, t_numeric_add, 'o-', label='Inserting row-by-row: add_result only')\n",
    "ax.plot(sizes, t_array, 'd-', label='Inserting as binary blob')\n",
    "ax.plot(sizes, t_array_add, 'd-', label='Inserting as binary blob: add_result only')\n",
    "ax.legend()\n",
    "ax.set_xlabel('Array length')\n",
    "ax.set_ylabel('Time (s)')\n",
    "fig.tight_layout()"
   ]
  },
  {
   "cell_type": "markdown",
   "metadata": {},
   "source": [
    "However, as we increase the length of the experiment, as seen here by repeating the insertion 100 times, we see a big difference between inserting values of the data row-by-row and inserting it as a binary blob."
   ]
  },
  {
   "cell_type": "markdown",
   "metadata": {},
   "source": [
    "## Loading the data "
   ]
  },
  {
   "cell_type": "code",
   "execution_count": 9,
   "metadata": {
    "execution": {
     "iopub.execute_input": "2021-02-11T16:22:52.343411Z",
     "iopub.status.busy": "2021-02-11T16:22:52.342361Z",
     "iopub.status.idle": "2021-02-11T16:22:52.347672Z",
     "shell.execute_reply": "2021-02-11T16:22:52.348120Z"
    }
   },
   "outputs": [],
   "source": [
    "from qcodes.dataset.data_set import load_by_id\n",
    "from qcodes.dataset.data_export import get_data_by_id"
   ]
  },
  {
   "cell_type": "markdown",
   "metadata": {},
   "source": [
    "As usual you can load the data by using the ``load_by_id`` function but you will notice that the different storage methods\n",
    "are reflected in shape of the data as it is retrieved. "
   ]
  },
  {
   "cell_type": "code",
   "execution_count": 10,
   "metadata": {
    "execution": {
     "iopub.execute_input": "2021-02-11T16:22:52.351950Z",
     "iopub.status.busy": "2021-02-11T16:22:52.351395Z",
     "iopub.status.idle": "2021-02-11T16:22:52.353877Z",
     "shell.execute_reply": "2021-02-11T16:22:52.353426Z"
    }
   },
   "outputs": [],
   "source": [
    "run_id_n = t_numeric_run_ids[0]\n",
    "run_id_a = t_array_run_ids[0]"
   ]
  },
  {
   "cell_type": "code",
   "execution_count": 11,
   "metadata": {
    "execution": {
     "iopub.execute_input": "2021-02-11T16:22:52.357192Z",
     "iopub.status.busy": "2021-02-11T16:22:52.356661Z",
     "iopub.status.idle": "2021-02-11T16:22:52.367017Z",
     "shell.execute_reply": "2021-02-11T16:22:52.367508Z"
    },
    "scrolled": true
   },
   "outputs": [
    {
     "data": {
      "text/plain": [
       "{'x1': {'x1': array([1.97806519e-01, 1.97806519e-01, 5.29750713e-01, 5.29750713e-01,\n",
       "         9.33666273e-01, 9.33666273e-01, 8.75923438e-01, 8.75923438e-01,\n",
       "         3.35601232e-01, 3.35601232e-01, 7.74353198e-01, 7.74353198e-01,\n",
       "         4.78144744e-01, 4.78144744e-01, 6.95308094e-01, 6.95308094e-01,\n",
       "         6.08589834e-04, 6.08589834e-04, 4.63258573e-02, 4.63258573e-02,\n",
       "         6.27244628e-01, 6.27244628e-01, 7.22298469e-02, 7.22298469e-02,\n",
       "         9.83825758e-01, 9.83825758e-01, 9.35634827e-02, 9.35634827e-02,\n",
       "         5.77227506e-01, 5.77227506e-01, 1.12615777e-01, 1.12615777e-01,\n",
       "         3.44380885e-01, 3.44380885e-01, 2.52646801e-01, 2.52646801e-01,\n",
       "         9.29406991e-01, 9.29406991e-01, 4.09226980e-02, 4.09226980e-02,\n",
       "         8.84675350e-02, 8.84675350e-02, 6.63599504e-01, 6.63599504e-01,\n",
       "         5.15677529e-01, 5.15677529e-01, 6.59562727e-01, 6.59562727e-01,\n",
       "         9.58338576e-01, 9.58338576e-01, 6.81951469e-02, 6.81951469e-02,\n",
       "         4.38945781e-01, 4.38945781e-01, 7.56333252e-02, 7.56333252e-02,\n",
       "         5.45043754e-01, 5.45043754e-01, 2.67121890e-01, 2.67121890e-01,\n",
       "         1.83134063e-01, 1.83134063e-01, 2.37732473e-01, 2.37732473e-01,\n",
       "         5.82323442e-01, 5.82323442e-01, 5.79045804e-01, 5.79045804e-01,\n",
       "         9.09655167e-01, 9.09655167e-01, 6.56454308e-01, 6.56454308e-01,\n",
       "         4.66925240e-01, 4.66925240e-01, 5.12990959e-01, 5.12990959e-01,\n",
       "         9.65532956e-01, 9.65532956e-01, 3.56617754e-01, 3.56617754e-01,\n",
       "         1.44677701e-01, 1.44677701e-01, 8.43618260e-01, 8.43618260e-01,\n",
       "         2.87006431e-01, 2.87006431e-01, 7.92750898e-01, 7.92750898e-01,\n",
       "         1.08480582e-01, 1.08480582e-01, 8.16420240e-01, 8.16420240e-01,\n",
       "         2.37728629e-01, 2.37728629e-01, 1.07031240e-01, 1.07031240e-01,\n",
       "         1.95895347e-01, 1.95895347e-01, 1.81232575e-01, 1.81232575e-01,\n",
       "         8.14550736e-01, 8.14550736e-01, 9.14985606e-01, 9.14985606e-01,\n",
       "         1.11982938e-01, 1.11982938e-01, 4.62603597e-01, 4.62603597e-01,\n",
       "         8.75563432e-01, 8.75563432e-01, 9.12879121e-01, 9.12879121e-01,\n",
       "         1.86037555e-01, 1.86037555e-01, 3.25594394e-02, 3.25594394e-02,\n",
       "         5.50728943e-01, 5.50728943e-01, 7.40620625e-01, 7.40620625e-01,\n",
       "         4.94905227e-01, 4.94905227e-01, 2.13906952e-01, 2.13906952e-01,\n",
       "         7.91372050e-01, 7.91372050e-01, 2.96138878e-01, 2.96138878e-01,\n",
       "         8.07568220e-01, 8.07568220e-01, 8.72240981e-01, 8.72240981e-01,\n",
       "         2.34964172e-01, 2.34964172e-01, 5.80843668e-01, 5.80843668e-01,\n",
       "         3.69982529e-01, 3.69982529e-01, 2.81330616e-01, 2.81330616e-01,\n",
       "         3.76850623e-02, 3.76850623e-02, 6.27575901e-02, 6.27575901e-02,\n",
       "         4.08538586e-01, 4.08538586e-01, 4.60302330e-01, 4.60302330e-01,\n",
       "         9.40986929e-01, 9.40986929e-01, 8.80858632e-01, 8.80858632e-01,\n",
       "         2.39193521e-01, 2.39193521e-01, 2.93666500e-01, 2.93666500e-01,\n",
       "         3.03890248e-01, 3.03890248e-01, 3.79254536e-01, 3.79254536e-01,\n",
       "         3.71921125e-01, 3.71921125e-01, 6.00277327e-02, 6.00277327e-02,\n",
       "         6.57165430e-01, 6.57165430e-01, 1.00219507e-01, 1.00219507e-01,\n",
       "         1.12732642e-01, 1.12732642e-01, 4.79217379e-01, 4.79217379e-01,\n",
       "         6.48689983e-01, 6.48689983e-01, 7.75400333e-01, 7.75400333e-01,\n",
       "         6.78702309e-02, 6.78702309e-02, 6.72924778e-01, 6.72924778e-01,\n",
       "         5.09382537e-01, 5.09382537e-01, 2.52568203e-01, 2.52568203e-01,\n",
       "         3.17956374e-01, 3.17956374e-01, 6.95778609e-01, 6.95778609e-01,\n",
       "         8.22034361e-02, 8.22034361e-02, 5.43723278e-01, 5.43723278e-01,\n",
       "         2.90619873e-01, 2.90619873e-01, 9.76334061e-02, 9.76334061e-02,\n",
       "         3.71608613e-01, 3.71608613e-01, 2.44240485e-01, 2.44240485e-01])}}"
      ]
     },
     "execution_count": 1,
     "metadata": {},
     "output_type": "execute_result"
    }
   ],
   "source": [
    "ds = load_by_id(run_id_n)\n",
    "ds.get_parameter_data('x1')"
   ]
  },
  {
   "cell_type": "markdown",
   "metadata": {},
   "source": [
    "And a dataset stored as binary arrays"
   ]
  },
  {
   "cell_type": "code",
   "execution_count": 12,
   "metadata": {
    "execution": {
     "iopub.execute_input": "2021-02-11T16:22:52.371093Z",
     "iopub.status.busy": "2021-02-11T16:22:52.370515Z",
     "iopub.status.idle": "2021-02-11T16:22:52.427788Z",
     "shell.execute_reply": "2021-02-11T16:22:52.428577Z"
    },
    "scrolled": true
   },
   "outputs": [
    {
     "data": {
      "text/plain": [
       "{'x1': {'x1': array([[0.23401801],\n",
       "         [0.23401801],\n",
       "         [0.0603171 ],\n",
       "         [0.0603171 ],\n",
       "         [0.03401859],\n",
       "         [0.03401859],\n",
       "         [0.81757243],\n",
       "         [0.81757243],\n",
       "         [0.33051064],\n",
       "         [0.33051064],\n",
       "         [0.04306873],\n",
       "         [0.04306873],\n",
       "         [0.48560336],\n",
       "         [0.48560336],\n",
       "         [0.37749132],\n",
       "         [0.37749132],\n",
       "         [0.80590634],\n",
       "         [0.80590634],\n",
       "         [0.82541605],\n",
       "         [0.82541605],\n",
       "         [0.9800834 ],\n",
       "         [0.9800834 ],\n",
       "         [0.04561283],\n",
       "         [0.04561283],\n",
       "         [0.58671133],\n",
       "         [0.58671133],\n",
       "         [0.9976742 ],\n",
       "         [0.9976742 ],\n",
       "         [0.12177234],\n",
       "         [0.12177234],\n",
       "         [0.15028146],\n",
       "         [0.15028146],\n",
       "         [0.02017171],\n",
       "         [0.02017171],\n",
       "         [0.81870255],\n",
       "         [0.81870255],\n",
       "         [0.03274266],\n",
       "         [0.03274266],\n",
       "         [0.81322919],\n",
       "         [0.81322919],\n",
       "         [0.59111163],\n",
       "         [0.59111163],\n",
       "         [0.68239285],\n",
       "         [0.68239285],\n",
       "         [0.14774771],\n",
       "         [0.14774771],\n",
       "         [0.90831307],\n",
       "         [0.90831307],\n",
       "         [0.13865419],\n",
       "         [0.13865419],\n",
       "         [0.31614948],\n",
       "         [0.31614948],\n",
       "         [0.35029861],\n",
       "         [0.35029861],\n",
       "         [0.39959481],\n",
       "         [0.39959481],\n",
       "         [0.55437587],\n",
       "         [0.55437587],\n",
       "         [0.37805867],\n",
       "         [0.37805867],\n",
       "         [0.71954393],\n",
       "         [0.71954393],\n",
       "         [0.94978215],\n",
       "         [0.94978215],\n",
       "         [0.9683469 ],\n",
       "         [0.9683469 ],\n",
       "         [0.6029699 ],\n",
       "         [0.6029699 ],\n",
       "         [0.72392849],\n",
       "         [0.72392849],\n",
       "         [0.26182246],\n",
       "         [0.26182246],\n",
       "         [0.81726995],\n",
       "         [0.81726995],\n",
       "         [0.39781272],\n",
       "         [0.39781272],\n",
       "         [0.9684424 ],\n",
       "         [0.9684424 ],\n",
       "         [0.42887163],\n",
       "         [0.42887163],\n",
       "         [0.10099293],\n",
       "         [0.10099293],\n",
       "         [0.14122559],\n",
       "         [0.14122559],\n",
       "         [0.8969049 ],\n",
       "         [0.8969049 ],\n",
       "         [0.57299333],\n",
       "         [0.57299333],\n",
       "         [0.71144024],\n",
       "         [0.71144024],\n",
       "         [0.78089576],\n",
       "         [0.78089576],\n",
       "         [0.91894094],\n",
       "         [0.91894094],\n",
       "         [0.80003587],\n",
       "         [0.80003587],\n",
       "         [0.67530347],\n",
       "         [0.67530347],\n",
       "         [0.31429354],\n",
       "         [0.31429354],\n",
       "         [0.30545833],\n",
       "         [0.30545833],\n",
       "         [0.15023209],\n",
       "         [0.15023209],\n",
       "         [0.1731473 ],\n",
       "         [0.1731473 ],\n",
       "         [0.1297257 ],\n",
       "         [0.1297257 ],\n",
       "         [0.72409549],\n",
       "         [0.72409549],\n",
       "         [0.80363154],\n",
       "         [0.80363154],\n",
       "         [0.53931515],\n",
       "         [0.53931515],\n",
       "         [0.57514151],\n",
       "         [0.57514151],\n",
       "         [0.1017708 ],\n",
       "         [0.1017708 ],\n",
       "         [0.73277794],\n",
       "         [0.73277794],\n",
       "         [0.51573652],\n",
       "         [0.51573652],\n",
       "         [0.9981507 ],\n",
       "         [0.9981507 ],\n",
       "         [0.50820714],\n",
       "         [0.50820714],\n",
       "         [0.55742738],\n",
       "         [0.55742738],\n",
       "         [0.55102801],\n",
       "         [0.55102801],\n",
       "         [0.80340327],\n",
       "         [0.80340327],\n",
       "         [0.22398065],\n",
       "         [0.22398065],\n",
       "         [0.50339208],\n",
       "         [0.50339208],\n",
       "         [0.42908798],\n",
       "         [0.42908798],\n",
       "         [0.63808887],\n",
       "         [0.63808887],\n",
       "         [0.14798832],\n",
       "         [0.14798832],\n",
       "         [0.1155972 ],\n",
       "         [0.1155972 ],\n",
       "         [0.12997534],\n",
       "         [0.12997534],\n",
       "         [0.64293705],\n",
       "         [0.64293705],\n",
       "         [0.85500123],\n",
       "         [0.85500123],\n",
       "         [0.762252  ],\n",
       "         [0.762252  ],\n",
       "         [0.18788186],\n",
       "         [0.18788186],\n",
       "         [0.11893483],\n",
       "         [0.11893483],\n",
       "         [0.74159158],\n",
       "         [0.74159158],\n",
       "         [0.52827367],\n",
       "         [0.52827367],\n",
       "         [0.67950858],\n",
       "         [0.67950858],\n",
       "         [0.38427379],\n",
       "         [0.38427379],\n",
       "         [0.42895369],\n",
       "         [0.42895369],\n",
       "         [0.15580575],\n",
       "         [0.15580575],\n",
       "         [0.55341772],\n",
       "         [0.55341772],\n",
       "         [0.55050836],\n",
       "         [0.55050836],\n",
       "         [0.62447844],\n",
       "         [0.62447844],\n",
       "         [0.89555101],\n",
       "         [0.89555101],\n",
       "         [0.39792025],\n",
       "         [0.39792025],\n",
       "         [0.0012255 ],\n",
       "         [0.0012255 ],\n",
       "         [0.3229639 ],\n",
       "         [0.3229639 ],\n",
       "         [0.58680331],\n",
       "         [0.58680331],\n",
       "         [0.24484484],\n",
       "         [0.24484484],\n",
       "         [0.68812935],\n",
       "         [0.68812935],\n",
       "         [0.54452302],\n",
       "         [0.54452302],\n",
       "         [0.07538254],\n",
       "         [0.07538254],\n",
       "         [0.79562887],\n",
       "         [0.79562887],\n",
       "         [0.64470998],\n",
       "         [0.64470998],\n",
       "         [0.53846945],\n",
       "         [0.53846945],\n",
       "         [0.55259092],\n",
       "         [0.55259092]])}}"
      ]
     },
     "execution_count": 1,
     "metadata": {},
     "output_type": "execute_result"
    }
   ],
   "source": [
    "ds = load_by_id(run_id_a)\n",
    "ds.get_parameter_data('x1')"
   ]
  },
  {
   "cell_type": "code",
   "execution_count": null,
   "metadata": {},
   "outputs": [],
   "source": []
  }
 ],
 "metadata": {
  "kernelspec": {
   "display_name": "Python 3",
   "language": "python",
   "name": "python3"
  },
  "language_info": {
   "codemirror_mode": {
    "name": "ipython",
    "version": 3
   },
   "file_extension": ".py",
   "mimetype": "text/x-python",
   "name": "python",
   "nbconvert_exporter": "python",
   "pygments_lexer": "ipython3",
   "version": "3.7.9"
  },
  "nbsphinx": {
   "timeout": 600
  },
  "toc": {
   "base_numbering": 1,
   "nav_menu": {},
   "number_sections": true,
   "sideBar": true,
   "skip_h1_title": false,
   "title_cell": "Table of Contents",
   "title_sidebar": "Contents",
   "toc_cell": false,
   "toc_position": {},
   "toc_section_display": true,
   "toc_window_display": false
  },
  "varInspector": {
   "cols": {
    "lenName": 16,
    "lenType": 16,
    "lenVar": 40
   },
   "kernels_config": {
    "python": {
     "delete_cmd_postfix": "",
     "delete_cmd_prefix": "del ",
     "library": "var_list.py",
     "varRefreshCmd": "print(var_dic_list())"
    },
    "r": {
     "delete_cmd_postfix": ") ",
     "delete_cmd_prefix": "rm(",
     "library": "var_list.r",
     "varRefreshCmd": "cat(var_dic_list()) "
    }
   },
   "types_to_exclude": [
    "module",
    "function",
    "builtin_function_or_method",
    "instance",
    "_Feature"
   ],
   "window_display": false
  }
 },
 "nbformat": 4,
 "nbformat_minor": 2
}
