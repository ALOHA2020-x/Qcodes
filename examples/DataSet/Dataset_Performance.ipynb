{
 "cells": [
  {
   "cell_type": "markdown",
   "metadata": {},
   "source": [
    "# DataSet Performance\n",
    "\n",
    "This notebook shows the trade-off between inserting data into a database row-by-row and as binary blobs. Inserting the data row-by-row means that we have direct access to all the data and may perform queries directly on the values of the data. On the other hand, as we shall see, this is much slower than inserting the data directly as binary blobs."
   ]
  },
  {
   "cell_type": "markdown",
   "metadata": {},
   "source": [
    "First, we choose a new location for the database to ensure that we don't add a bunch of benchmarking data to the default one."
   ]
  },
  {
   "cell_type": "code",
   "execution_count": 1,
   "metadata": {
    "execution": {
     "iopub.execute_input": "2021-04-12T09:18:38.883275Z",
     "iopub.status.busy": "2021-04-12T09:18:38.882535Z",
     "iopub.status.idle": "2021-04-12T09:18:39.942920Z",
     "shell.execute_reply": "2021-04-12T09:18:39.941574Z"
    }
   },
   "outputs": [
    {
     "name": "stdout",
     "output_type": "stream",
     "text": [
      "Logging hadn't been started.\n",
      "Activating auto-logging. Current session state plus future input saved.\n",
      "Filename       : /home/runner/.qcodes/logs/command_history.log\n",
      "Mode           : append\n",
      "Output logging : True\n",
      "Raw input log  : False\n",
      "Timestamping   : True\n",
      "State          : active\n"
     ]
    },
    {
     "name": "stdout",
     "output_type": "stream",
     "text": [
      "Qcodes Logfile : /home/runner/.qcodes/logs/210412-4587-qcodes.log\n"
     ]
    }
   ],
   "source": [
    "import os\n",
    "cwd = os.getcwd()\n",
    "import qcodes as qc\n",
    "qc.config[\"core\"][\"db_location\"] = os.path.join(cwd, 'testing.db')\n"
   ]
  },
  {
   "cell_type": "code",
   "execution_count": 2,
   "metadata": {
    "execution": {
     "iopub.execute_input": "2021-04-12T09:18:39.951276Z",
     "iopub.status.busy": "2021-04-12T09:18:39.949067Z",
     "iopub.status.idle": "2021-04-12T09:18:40.210364Z",
     "shell.execute_reply": "2021-04-12T09:18:40.209192Z"
    }
   },
   "outputs": [],
   "source": [
    "%matplotlib inline\n",
    "import time\n",
    "import matplotlib.pyplot as plt\n",
    "import numpy as np\n",
    "\n",
    "import qcodes as qc\n",
    "from qcodes.instrument.parameter import ManualParameter\n",
    "from qcodes.dataset.experiment_container import (Experiment,\n",
    "                                                 load_last_experiment,\n",
    "                                                 new_experiment)\n",
    "from qcodes.dataset.sqlite.database import initialise_database\n",
    "from qcodes import load_or_create_experiment\n",
    "from qcodes.dataset.measurements import Measurement"
   ]
  },
  {
   "cell_type": "code",
   "execution_count": 3,
   "metadata": {
    "execution": {
     "iopub.execute_input": "2021-04-12T09:18:40.214804Z",
     "iopub.status.busy": "2021-04-12T09:18:40.213714Z",
     "iopub.status.idle": "2021-04-12T09:18:40.316528Z",
     "shell.execute_reply": "2021-04-12T09:18:40.316024Z"
    }
   },
   "outputs": [
    {
     "name": "stdout",
     "output_type": "stream",
     "text": [
      "\r",
      "0it [00:00, ?it/s]"
     ]
    },
    {
     "name": "stdout",
     "output_type": "stream",
     "text": [
      "\r",
      "Upgrading database; v0 -> v1: : 0it [00:00, ?it/s]"
     ]
    },
    {
     "name": "stdout",
     "output_type": "stream",
     "text": [
      "\r",
      "Upgrading database; v0 -> v1: : 0it [00:00, ?it/s]"
     ]
    },
    {
     "name": "stdout",
     "output_type": "stream",
     "text": [
      "\n",
      "\r",
      "  0%|          | 0/1 [00:00<?, ?it/s]"
     ]
    },
    {
     "name": "stdout",
     "output_type": "stream",
     "text": [
      "\r",
      "Upgrading database; v1 -> v2:   0%|          | 0/1 [00:00<?, ?it/s]"
     ]
    },
    {
     "name": "stdout",
     "output_type": "stream",
     "text": [
      "\r",
      "Upgrading database; v1 -> v2: 100%|██████████| 1/1 [00:00<00:00, 425.39it/s]"
     ]
    },
    {
     "name": "stdout",
     "output_type": "stream",
     "text": [
      "\n",
      "\r",
      "0it [00:00, ?it/s]"
     ]
    },
    {
     "name": "stdout",
     "output_type": "stream",
     "text": [
      "\r",
      "Upgrading database; v2 -> v3: : 0it [00:00, ?it/s]"
     ]
    },
    {
     "name": "stdout",
     "output_type": "stream",
     "text": [
      "\r",
      "Upgrading database; v2 -> v3: : 0it [00:00, ?it/s]"
     ]
    },
    {
     "name": "stdout",
     "output_type": "stream",
     "text": [
      "\n",
      "\r",
      "0it [00:00, ?it/s]"
     ]
    },
    {
     "name": "stdout",
     "output_type": "stream",
     "text": [
      "\r",
      "Upgrading database; v3 -> v4: : 0it [00:00, ?it/s]"
     ]
    },
    {
     "name": "stdout",
     "output_type": "stream",
     "text": [
      "\r",
      "Upgrading database; v3 -> v4: : 0it [00:00, ?it/s]"
     ]
    },
    {
     "name": "stdout",
     "output_type": "stream",
     "text": [
      "\n",
      "\r",
      "  0%|          | 0/1 [00:00<?, ?it/s]"
     ]
    },
    {
     "name": "stdout",
     "output_type": "stream",
     "text": [
      "\r",
      "Upgrading database; v4 -> v5:   0%|          | 0/1 [00:00<?, ?it/s]"
     ]
    },
    {
     "name": "stdout",
     "output_type": "stream",
     "text": [
      "\r",
      "Upgrading database; v4 -> v5: 100%|██████████| 1/1 [00:00<00:00, 560.81it/s]"
     ]
    },
    {
     "name": "stdout",
     "output_type": "stream",
     "text": [
      "\n",
      "\r",
      "0it [00:00, ?it/s]"
     ]
    },
    {
     "name": "stdout",
     "output_type": "stream",
     "text": [
      "\r",
      "Upgrading database; v5 -> v6: : 0it [00:00, ?it/s]"
     ]
    },
    {
     "name": "stdout",
     "output_type": "stream",
     "text": [
      "\r",
      "Upgrading database; v5 -> v6: : 0it [00:00, ?it/s]"
     ]
    },
    {
     "name": "stdout",
     "output_type": "stream",
     "text": [
      "\n",
      "\r",
      "  0%|          | 0/1 [00:00<?, ?it/s]"
     ]
    },
    {
     "name": "stdout",
     "output_type": "stream",
     "text": [
      "\r",
      "Upgrading database; v6 -> v7:   0%|          | 0/1 [00:00<?, ?it/s]"
     ]
    },
    {
     "name": "stdout",
     "output_type": "stream",
     "text": [
      "\r",
      "Upgrading database; v6 -> v7: 100%|██████████| 1/1 [00:00<00:00, 344.11it/s]"
     ]
    },
    {
     "name": "stdout",
     "output_type": "stream",
     "text": [
      "\n",
      "\r",
      "  0%|          | 0/1 [00:00<?, ?it/s]"
     ]
    },
    {
     "name": "stdout",
     "output_type": "stream",
     "text": [
      "\r",
      "Upgrading database; v7 -> v8:   0%|          | 0/1 [00:00<?, ?it/s]"
     ]
    },
    {
     "name": "stdout",
     "output_type": "stream",
     "text": [
      "\r",
      "Upgrading database; v7 -> v8: 100%|██████████| 1/1 [00:00<00:00, 475.17it/s]"
     ]
    },
    {
     "name": "stdout",
     "output_type": "stream",
     "text": [
      "\n",
      "\r",
      "  0%|          | 0/1 [00:00<?, ?it/s]"
     ]
    },
    {
     "name": "stdout",
     "output_type": "stream",
     "text": [
      "\r",
      "Upgrading database; v8 -> v9:   0%|          | 0/1 [00:00<?, ?it/s]"
     ]
    },
    {
     "name": "stdout",
     "output_type": "stream",
     "text": [
      "\r",
      "Upgrading database; v8 -> v9: 100%|██████████| 1/1 [00:00<00:00, 446.11it/s]"
     ]
    },
    {
     "name": "stdout",
     "output_type": "stream",
     "text": [
      "\n"
     ]
    }
   ],
   "source": [
    "initialise_database()\n",
    "exp = load_or_create_experiment(experiment_name='tutorial_exp', sample_name=\"no sample\")"
   ]
  },
  {
   "cell_type": "markdown",
   "metadata": {},
   "source": [
    "Here, we define a simple function to benchmark the time it takes to insert n points with either numeric or array data type.\n",
    "We will compare both the time used to call ``add_result`` and the time used for the full measurement."
   ]
  },
  {
   "cell_type": "code",
   "execution_count": 4,
   "metadata": {
    "execution": {
     "iopub.execute_input": "2021-04-12T09:18:40.325676Z",
     "iopub.status.busy": "2021-04-12T09:18:40.325091Z",
     "iopub.status.idle": "2021-04-12T09:18:40.328728Z",
     "shell.execute_reply": "2021-04-12T09:18:40.328178Z"
    }
   },
   "outputs": [],
   "source": [
    "def insert_data(paramtype, npoints, nreps=1):\n",
    "\n",
    "    meas = Measurement(exp=exp)\n",
    "\n",
    "    x1 = ManualParameter('x1')\n",
    "    x2 = ManualParameter('x2')\n",
    "    x3 = ManualParameter('x3')\n",
    "    y1 = ManualParameter('y1')\n",
    "    y2 = ManualParameter('y2')\n",
    "\n",
    "    meas.register_parameter(x1, paramtype=paramtype)\n",
    "    meas.register_parameter(x2, paramtype=paramtype)\n",
    "    meas.register_parameter(x3, paramtype=paramtype)\n",
    "    meas.register_parameter(y1, setpoints=[x1, x2, x3],\n",
    "                            paramtype=paramtype)\n",
    "    meas.register_parameter(y2, setpoints=[x1, x2, x3],\n",
    "                            paramtype=paramtype)\n",
    "    start = time.perf_counter()\n",
    "    with meas.run() as datasaver:\n",
    "        start_adding = time.perf_counter()\n",
    "        for i in range(nreps):\n",
    "            datasaver.add_result((x1, np.random.rand(npoints)),\n",
    "                                 (x2, np.random.rand(npoints)),\n",
    "                                 (x3, np.random.rand(npoints)),\n",
    "                                 (y1, np.random.rand(npoints)),\n",
    "                                 (y2, np.random.rand(npoints)))\n",
    "        stop_adding = time.perf_counter()\n",
    "        run_id = datasaver.run_id\n",
    "    stop = time.perf_counter()\n",
    "    tot_time = stop - start\n",
    "    add_time = stop_adding - start_adding\n",
    "    return tot_time, add_time, run_id"
   ]
  },
  {
   "cell_type": "markdown",
   "metadata": {},
   "source": [
    "## Comparison between numeric/array data and binary blob"
   ]
  },
  {
   "cell_type": "markdown",
   "metadata": {},
   "source": [
    "### Case1: Short experiment time"
   ]
  },
  {
   "cell_type": "code",
   "execution_count": 5,
   "metadata": {
    "execution": {
     "iopub.execute_input": "2021-04-12T09:18:40.336161Z",
     "iopub.status.busy": "2021-04-12T09:18:40.335431Z",
     "iopub.status.idle": "2021-04-12T09:18:41.190105Z",
     "shell.execute_reply": "2021-04-12T09:18:41.189533Z"
    }
   },
   "outputs": [
    {
     "name": "stdout",
     "output_type": "stream",
     "text": [
      "Starting experimental run with id: 1. \n",
      "Starting experimental run with id: 2. \n",
      "Starting experimental run with id: 3. \n",
      "Starting experimental run with id: 4. \n"
     ]
    },
    {
     "name": "stdout",
     "output_type": "stream",
     "text": [
      "Starting experimental run with id: 5. \n"
     ]
    },
    {
     "name": "stdout",
     "output_type": "stream",
     "text": [
      "Starting experimental run with id: 6. "
     ]
    },
    {
     "name": "stdout",
     "output_type": "stream",
     "text": [
      "\n"
     ]
    },
    {
     "name": "stdout",
     "output_type": "stream",
     "text": [
      "Starting experimental run with id: 7. \n"
     ]
    },
    {
     "name": "stdout",
     "output_type": "stream",
     "text": [
      "Starting experimental run with id: 8. \n",
      "Starting experimental run with id: 9. \n"
     ]
    },
    {
     "name": "stdout",
     "output_type": "stream",
     "text": [
      "Starting experimental run with id: 10. \n",
      "Starting experimental run with id: 11. \n"
     ]
    },
    {
     "name": "stdout",
     "output_type": "stream",
     "text": [
      "Starting experimental run with id: 12. \n",
      "Starting experimental run with id: 13. \n"
     ]
    },
    {
     "name": "stdout",
     "output_type": "stream",
     "text": [
      "Starting experimental run with id: 14. \n"
     ]
    }
   ],
   "source": [
    "sizes = [1,500,1000,2000,3000,4000,5000]\n",
    "t_numeric = []\n",
    "t_numeric_add = []\n",
    "t_array = []\n",
    "t_array_add = []\n",
    "for size in sizes:\n",
    "    tn, tna, run_id_n =  insert_data('numeric', size)\n",
    "    t_numeric.append(tn)\n",
    "    t_numeric_add.append(tna)\n",
    "\n",
    "    ta, taa, run_id_a =  insert_data('array', size)\n",
    "    t_array.append(ta)\n",
    "    t_array_add.append(taa)"
   ]
  },
  {
   "cell_type": "code",
   "execution_count": 6,
   "metadata": {
    "execution": {
     "iopub.execute_input": "2021-04-12T09:18:41.209649Z",
     "iopub.status.busy": "2021-04-12T09:18:41.196395Z",
     "iopub.status.idle": "2021-04-12T09:18:41.394941Z",
     "shell.execute_reply": "2021-04-12T09:18:41.394052Z"
    }
   },
   "outputs": [
    {
     "data": {
      "image/png": "[encoded data removed]",
      "text/plain": [
       "<Figure size 432x288 with 1 Axes>"
      ]
     },
     "metadata": {
      "needs_background": "light"
     },
     "output_type": "display_data"
    }
   ],
   "source": [
    "fig, ax = plt.subplots(1,1)\n",
    "ax.plot(sizes, t_numeric, 'o-', label='Inserting row-by-row')\n",
    "ax.plot(sizes, t_numeric_add, 'o-', label='Inserting row-by-row: add_result only')\n",
    "ax.plot(sizes, t_array, 'd-', label='Inserting as binary blob')\n",
    "ax.plot(sizes, t_array_add, 'd-', label='Inserting as binary blob: add_result only')\n",
    "ax.legend()\n",
    "ax.set_xlabel('Array length')\n",
    "ax.set_ylabel('Time (s)')\n",
    "fig.tight_layout()"
   ]
  },
  {
   "cell_type": "markdown",
   "metadata": {},
   "source": [
    "As shown in the latter figure, the time to setup and and close the experiment is approximately 0.4 sec. In case of small array sizes, the difference between inserting values of data as arrays and inserting them row-by-row is relatively unimportant. At larger array sizes, i.e. above 10000 points, the cost of writing data as individual datapoints starts to become important.\n"
   ]
  },
  {
   "cell_type": "markdown",
   "metadata": {},
   "source": [
    "### Case2: Long experiment time "
   ]
  },
  {
   "cell_type": "code",
   "execution_count": 7,
   "metadata": {
    "execution": {
     "iopub.execute_input": "2021-04-12T09:18:41.403121Z",
     "iopub.status.busy": "2021-04-12T09:18:41.402514Z",
     "iopub.status.idle": "2021-04-12T09:19:37.915694Z",
     "shell.execute_reply": "2021-04-12T09:19:37.915094Z"
    }
   },
   "outputs": [
    {
     "name": "stdout",
     "output_type": "stream",
     "text": [
      "Starting experimental run with id: 15. \n",
      "Starting experimental run with id: 16. \n",
      "Starting experimental run with id: 17. \n"
     ]
    },
    {
     "name": "stdout",
     "output_type": "stream",
     "text": [
      "Starting experimental run with id: 18. \n",
      "Starting experimental run with id: 19. \n"
     ]
    },
    {
     "name": "stdout",
     "output_type": "stream",
     "text": [
      "Starting experimental run with id: 20. \n"
     ]
    },
    {
     "name": "stdout",
     "output_type": "stream",
     "text": [
      "Starting experimental run with id: 21. \n"
     ]
    },
    {
     "name": "stdout",
     "output_type": "stream",
     "text": [
      "Starting experimental run with id: 22. \n"
     ]
    },
    {
     "name": "stdout",
     "output_type": "stream",
     "text": [
      "Starting experimental run with id: 23. \n"
     ]
    },
    {
     "name": "stdout",
     "output_type": "stream",
     "text": [
      "Starting experimental run with id: 24. \n"
     ]
    },
    {
     "name": "stdout",
     "output_type": "stream",
     "text": [
      "Starting experimental run with id: 25. \n"
     ]
    },
    {
     "name": "stdout",
     "output_type": "stream",
     "text": [
      "Starting experimental run with id: 26. \n"
     ]
    },
    {
     "name": "stdout",
     "output_type": "stream",
     "text": [
      "Starting experimental run with id: 27. \n"
     ]
    },
    {
     "name": "stdout",
     "output_type": "stream",
     "text": [
      "Starting experimental run with id: 28. \n"
     ]
    }
   ],
   "source": [
    "sizes = [1,500,1000,2000,3000,4000,5000]\n",
    "nreps = 100\n",
    "t_numeric = []\n",
    "t_numeric_add = []\n",
    "t_numeric_run_ids = []\n",
    "t_array = []\n",
    "t_array_add = []\n",
    "t_array_run_ids = []\n",
    "for size in sizes:\n",
    "    tn, tna, run_id_n =  insert_data('numeric', size, nreps=nreps)\n",
    "    t_numeric.append(tn)\n",
    "    t_numeric_add.append(tna)\n",
    "    t_numeric_run_ids.append(run_id_n)\n",
    "\n",
    "    ta, taa, run_id_a =  insert_data('array', size, nreps=nreps)\n",
    "    t_array.append(ta)\n",
    "    t_array_add.append(taa)\n",
    "    t_array_run_ids.append(run_id_a)"
   ]
  },
  {
   "cell_type": "code",
   "execution_count": 8,
   "metadata": {
    "execution": {
     "iopub.execute_input": "2021-04-12T09:19:37.963397Z",
     "iopub.status.busy": "2021-04-12T09:19:37.961968Z",
     "iopub.status.idle": "2021-04-12T09:19:38.112877Z",
     "shell.execute_reply": "2021-04-12T09:19:38.113764Z"
    },
    "scrolled": true
   },
   "outputs": [
    {
     "data": {
      "image/png": "[encoded data removed]",
      "text/plain": [
       "<Figure size 432x288 with 1 Axes>"
      ]
     },
     "metadata": {
      "needs_background": "light"
     },
     "output_type": "display_data"
    }
   ],
   "source": [
    "fig, ax = plt.subplots(1,1)\n",
    "ax.plot(sizes, t_numeric, 'o-', label='Inserting row-by-row')\n",
    "ax.plot(sizes, t_numeric_add, 'o-', label='Inserting row-by-row: add_result only')\n",
    "ax.plot(sizes, t_array, 'd-', label='Inserting as binary blob')\n",
    "ax.plot(sizes, t_array_add, 'd-', label='Inserting as binary blob: add_result only')\n",
    "ax.legend()\n",
    "ax.set_xlabel('Array length')\n",
    "ax.set_ylabel('Time (s)')\n",
    "fig.tight_layout()"
   ]
  },
  {
   "cell_type": "markdown",
   "metadata": {},
   "source": [
    "However, as we increase the length of the experiment, as seen here by repeating the insertion 100 times, we see a big difference between inserting values of the data row-by-row and inserting it as a binary blob."
   ]
  },
  {
   "cell_type": "markdown",
   "metadata": {},
   "source": [
    "## Loading the data "
   ]
  },
  {
   "cell_type": "code",
   "execution_count": 9,
   "metadata": {
    "execution": {
     "iopub.execute_input": "2021-04-12T09:19:38.117984Z",
     "iopub.status.busy": "2021-04-12T09:19:38.116675Z",
     "iopub.status.idle": "2021-04-12T09:19:38.122244Z",
     "shell.execute_reply": "2021-04-12T09:19:38.123065Z"
    }
   },
   "outputs": [],
   "source": [
    "from qcodes.dataset.data_set import load_by_id\n",
    "from qcodes.dataset.data_export import get_data_by_id"
   ]
  },
  {
   "cell_type": "markdown",
   "metadata": {},
   "source": [
    "As usual you can load the data by using the ``load_by_id`` function but you will notice that the different storage methods\n",
    "are reflected in shape of the data as it is retrieved. "
   ]
  },
  {
   "cell_type": "code",
   "execution_count": 10,
   "metadata": {
    "execution": {
     "iopub.execute_input": "2021-04-12T09:19:38.127496Z",
     "iopub.status.busy": "2021-04-12T09:19:38.126882Z",
     "iopub.status.idle": "2021-04-12T09:19:38.130259Z",
     "shell.execute_reply": "2021-04-12T09:19:38.130772Z"
    }
   },
   "outputs": [],
   "source": [
    "run_id_n = t_numeric_run_ids[0]\n",
    "run_id_a = t_array_run_ids[0]"
   ]
  },
  {
   "cell_type": "code",
   "execution_count": 11,
   "metadata": {
    "execution": {
     "iopub.execute_input": "2021-04-12T09:19:38.134977Z",
     "iopub.status.busy": "2021-04-12T09:19:38.134380Z",
     "iopub.status.idle": "2021-04-12T09:19:38.147011Z",
     "shell.execute_reply": "2021-04-12T09:19:38.146468Z"
    },
    "scrolled": true
   },
   "outputs": [
    {
     "data": {
      "text/plain": [
       "{'x1': {'x1': array([0.89721583, 0.89721583, 0.98293622, 0.98293622, 0.46935398,\n",
       "         0.46935398, 0.22482159, 0.22482159, 0.925419  , 0.925419  ,\n",
       "         0.64406187, 0.64406187, 0.91662621, 0.91662621, 0.1886735 ,\n",
       "         0.1886735 , 0.0981404 , 0.0981404 , 0.37737049, 0.37737049,\n",
       "         0.69603001, 0.69603001, 0.73216006, 0.73216006, 0.21193404,\n",
       "         0.21193404, 0.59655857, 0.59655857, 0.7014175 , 0.7014175 ,\n",
       "         0.61368674, 0.61368674, 0.98371533, 0.98371533, 0.37286846,\n",
       "         0.37286846, 0.03237321, 0.03237321, 0.36672175, 0.36672175,\n",
       "         0.03702455, 0.03702455, 0.04967781, 0.04967781, 0.81050907,\n",
       "         0.81050907, 0.19039219, 0.19039219, 0.41113023, 0.41113023,\n",
       "         0.62567594, 0.62567594, 0.97201209, 0.97201209, 0.08601712,\n",
       "         0.08601712, 0.63964636, 0.63964636, 0.63220702, 0.63220702,\n",
       "         0.52388698, 0.52388698, 0.94402599, 0.94402599, 0.25938949,\n",
       "         0.25938949, 0.04020951, 0.04020951, 0.04892294, 0.04892294,\n",
       "         0.42570696, 0.42570696, 0.24439802, 0.24439802, 0.11832887,\n",
       "         0.11832887, 0.58007746, 0.58007746, 0.55244538, 0.55244538,\n",
       "         0.89425845, 0.89425845, 0.68424211, 0.68424211, 0.13759895,\n",
       "         0.13759895, 0.1386756 , 0.1386756 , 0.6753999 , 0.6753999 ,\n",
       "         0.36141157, 0.36141157, 0.50457484, 0.50457484, 0.63273388,\n",
       "         0.63273388, 0.84906957, 0.84906957, 0.83233679, 0.83233679,\n",
       "         0.85005474, 0.85005474, 0.54184965, 0.54184965, 0.6470504 ,\n",
       "         0.6470504 , 0.27489624, 0.27489624, 0.93308546, 0.93308546,\n",
       "         0.42957575, 0.42957575, 0.82001483, 0.82001483, 0.1678751 ,\n",
       "         0.1678751 , 0.99600938, 0.99600938, 0.27703519, 0.27703519,\n",
       "         0.16411653, 0.16411653, 0.99832473, 0.99832473, 0.48713996,\n",
       "         0.48713996, 0.40659693, 0.40659693, 0.88044286, 0.88044286,\n",
       "         0.73818081, 0.73818081, 0.63345115, 0.63345115, 0.57201269,\n",
       "         0.57201269, 0.97399848, 0.97399848, 0.59020605, 0.59020605,\n",
       "         0.84408213, 0.84408213, 0.13505731, 0.13505731, 0.00916954,\n",
       "         0.00916954, 0.28738352, 0.28738352, 0.81759643, 0.81759643,\n",
       "         0.48205531, 0.48205531, 0.17096645, 0.17096645, 0.66573777,\n",
       "         0.66573777, 0.16771994, 0.16771994, 0.99627999, 0.99627999,\n",
       "         0.03227089, 0.03227089, 0.40577563, 0.40577563, 0.81879101,\n",
       "         0.81879101, 0.76361541, 0.76361541, 0.38664292, 0.38664292,\n",
       "         0.443998  , 0.443998  , 0.34416758, 0.34416758, 0.35460859,\n",
       "         0.35460859, 0.1269406 , 0.1269406 , 0.06634906, 0.06634906,\n",
       "         0.00241203, 0.00241203, 0.21749189, 0.21749189, 0.15132622,\n",
       "         0.15132622, 0.25956527, 0.25956527, 0.60082771, 0.60082771,\n",
       "         0.82242519, 0.82242519, 0.24677331, 0.24677331, 0.75815374,\n",
       "         0.75815374, 0.12198874, 0.12198874, 0.94140202, 0.94140202])}}"
      ]
     },
     "execution_count": 1,
     "metadata": {},
     "output_type": "execute_result"
    }
   ],
   "source": [
    "ds = load_by_id(run_id_n)\n",
    "ds.get_parameter_data('x1')"
   ]
  },
  {
   "cell_type": "markdown",
   "metadata": {},
   "source": [
    "And a dataset stored as binary arrays"
   ]
  },
  {
   "cell_type": "code",
   "execution_count": 12,
   "metadata": {
    "execution": {
     "iopub.execute_input": "2021-04-12T09:19:38.150954Z",
     "iopub.status.busy": "2021-04-12T09:19:38.150352Z",
     "iopub.status.idle": "2021-04-12T09:19:38.212006Z",
     "shell.execute_reply": "2021-04-12T09:19:38.211432Z"
    },
    "scrolled": true
   },
   "outputs": [
    {
     "data": {
      "text/plain": [
       "{'x1': {'x1': array([[6.17931367e-01],\n",
       "         [6.17931367e-01],\n",
       "         [2.28336128e-01],\n",
       "         [2.28336128e-01],\n",
       "         [4.91602751e-01],\n",
       "         [4.91602751e-01],\n",
       "         [3.11746434e-01],\n",
       "         [3.11746434e-01],\n",
       "         [1.53272562e-01],\n",
       "         [1.53272562e-01],\n",
       "         [3.43222770e-01],\n",
       "         [3.43222770e-01],\n",
       "         [5.92932198e-01],\n",
       "         [5.92932198e-01],\n",
       "         [6.33578892e-01],\n",
       "         [6.33578892e-01],\n",
       "         [2.02800330e-01],\n",
       "         [2.02800330e-01],\n",
       "         [4.29766671e-01],\n",
       "         [4.29766671e-01],\n",
       "         [4.23426014e-01],\n",
       "         [4.23426014e-01],\n",
       "         [6.83429452e-01],\n",
       "         [6.83429452e-01],\n",
       "         [5.27509127e-01],\n",
       "         [5.27509127e-01],\n",
       "         [9.59132331e-01],\n",
       "         [9.59132331e-01],\n",
       "         [8.71954768e-01],\n",
       "         [8.71954768e-01],\n",
       "         [2.92223188e-01],\n",
       "         [2.92223188e-01],\n",
       "         [8.20871469e-01],\n",
       "         [8.20871469e-01],\n",
       "         [6.83853577e-01],\n",
       "         [6.83853577e-01],\n",
       "         [6.31380423e-01],\n",
       "         [6.31380423e-01],\n",
       "         [8.59457124e-01],\n",
       "         [8.59457124e-01],\n",
       "         [1.37390863e-01],\n",
       "         [1.37390863e-01],\n",
       "         [4.48247167e-01],\n",
       "         [4.48247167e-01],\n",
       "         [5.16110074e-01],\n",
       "         [5.16110074e-01],\n",
       "         [9.53953498e-01],\n",
       "         [9.53953498e-01],\n",
       "         [7.15625756e-01],\n",
       "         [7.15625756e-01],\n",
       "         [4.00635198e-01],\n",
       "         [4.00635198e-01],\n",
       "         [5.34583476e-01],\n",
       "         [5.34583476e-01],\n",
       "         [8.91382574e-01],\n",
       "         [8.91382574e-01],\n",
       "         [9.98970996e-01],\n",
       "         [9.98970996e-01],\n",
       "         [6.77470846e-01],\n",
       "         [6.77470846e-01],\n",
       "         [8.24040224e-01],\n",
       "         [8.24040224e-01],\n",
       "         [5.40688562e-01],\n",
       "         [5.40688562e-01],\n",
       "         [6.99487841e-01],\n",
       "         [6.99487841e-01],\n",
       "         [5.90216043e-01],\n",
       "         [5.90216043e-01],\n",
       "         [5.01742214e-01],\n",
       "         [5.01742214e-01],\n",
       "         [4.14465277e-01],\n",
       "         [4.14465277e-01],\n",
       "         [6.19422938e-01],\n",
       "         [6.19422938e-01],\n",
       "         [7.13048058e-01],\n",
       "         [7.13048058e-01],\n",
       "         [1.76933177e-01],\n",
       "         [1.76933177e-01],\n",
       "         [6.31983505e-02],\n",
       "         [6.31983505e-02],\n",
       "         [3.34611442e-01],\n",
       "         [3.34611442e-01],\n",
       "         [8.26115151e-01],\n",
       "         [8.26115151e-01],\n",
       "         [2.57715962e-01],\n",
       "         [2.57715962e-01],\n",
       "         [7.74769364e-01],\n",
       "         [7.74769364e-01],\n",
       "         [3.81802422e-01],\n",
       "         [3.81802422e-01],\n",
       "         [6.74844424e-01],\n",
       "         [6.74844424e-01],\n",
       "         [7.96370319e-01],\n",
       "         [7.96370319e-01],\n",
       "         [7.19264894e-01],\n",
       "         [7.19264894e-01],\n",
       "         [6.38512438e-01],\n",
       "         [6.38512438e-01],\n",
       "         [4.17049683e-01],\n",
       "         [4.17049683e-01],\n",
       "         [9.70972206e-04],\n",
       "         [9.70972206e-04],\n",
       "         [2.18110009e-01],\n",
       "         [2.18110009e-01],\n",
       "         [2.70445265e-01],\n",
       "         [2.70445265e-01],\n",
       "         [4.11768294e-01],\n",
       "         [4.11768294e-01],\n",
       "         [9.78437470e-02],\n",
       "         [9.78437470e-02],\n",
       "         [9.88652595e-01],\n",
       "         [9.88652595e-01],\n",
       "         [8.33739948e-01],\n",
       "         [8.33739948e-01],\n",
       "         [3.32765835e-01],\n",
       "         [3.32765835e-01],\n",
       "         [8.11504634e-01],\n",
       "         [8.11504634e-01],\n",
       "         [5.46277191e-01],\n",
       "         [5.46277191e-01],\n",
       "         [6.15515430e-01],\n",
       "         [6.15515430e-01],\n",
       "         [2.61044397e-01],\n",
       "         [2.61044397e-01],\n",
       "         [3.56245310e-01],\n",
       "         [3.56245310e-01],\n",
       "         [6.55638421e-01],\n",
       "         [6.55638421e-01],\n",
       "         [7.64847541e-02],\n",
       "         [7.64847541e-02],\n",
       "         [4.78297910e-01],\n",
       "         [4.78297910e-01],\n",
       "         [1.18858898e-01],\n",
       "         [1.18858898e-01],\n",
       "         [6.22000966e-01],\n",
       "         [6.22000966e-01],\n",
       "         [6.06700375e-01],\n",
       "         [6.06700375e-01],\n",
       "         [7.67208476e-01],\n",
       "         [7.67208476e-01],\n",
       "         [3.60219579e-01],\n",
       "         [3.60219579e-01],\n",
       "         [8.29761663e-01],\n",
       "         [8.29761663e-01],\n",
       "         [7.20260406e-01],\n",
       "         [7.20260406e-01],\n",
       "         [3.57208471e-01],\n",
       "         [3.57208471e-01],\n",
       "         [3.93256012e-01],\n",
       "         [3.93256012e-01],\n",
       "         [5.36592980e-01],\n",
       "         [5.36592980e-01],\n",
       "         [5.38678743e-01],\n",
       "         [5.38678743e-01],\n",
       "         [2.85823189e-01],\n",
       "         [2.85823189e-01],\n",
       "         [8.87205066e-01],\n",
       "         [8.87205066e-01],\n",
       "         [6.22244269e-01],\n",
       "         [6.22244269e-01],\n",
       "         [2.41991803e-01],\n",
       "         [2.41991803e-01],\n",
       "         [5.34024731e-01],\n",
       "         [5.34024731e-01],\n",
       "         [4.96394890e-01],\n",
       "         [4.96394890e-01],\n",
       "         [3.61267897e-01],\n",
       "         [3.61267897e-01],\n",
       "         [1.86955147e-01],\n",
       "         [1.86955147e-01],\n",
       "         [4.68024289e-01],\n",
       "         [4.68024289e-01],\n",
       "         [3.53347895e-01],\n",
       "         [3.53347895e-01],\n",
       "         [5.64586720e-01],\n",
       "         [5.64586720e-01],\n",
       "         [6.83255474e-02],\n",
       "         [6.83255474e-02],\n",
       "         [5.83303052e-01],\n",
       "         [5.83303052e-01],\n",
       "         [7.44775926e-01],\n",
       "         [7.44775926e-01],\n",
       "         [1.97474556e-01],\n",
       "         [1.97474556e-01],\n",
       "         [9.25534887e-01],\n",
       "         [9.25534887e-01],\n",
       "         [4.22275775e-01],\n",
       "         [4.22275775e-01],\n",
       "         [4.39840725e-01],\n",
       "         [4.39840725e-01],\n",
       "         [2.18799899e-01],\n",
       "         [2.18799899e-01],\n",
       "         [8.56182528e-02],\n",
       "         [8.56182528e-02],\n",
       "         [5.58742475e-01],\n",
       "         [5.58742475e-01],\n",
       "         [4.69142752e-01],\n",
       "         [4.69142752e-01],\n",
       "         [9.31364773e-02],\n",
       "         [9.31364773e-02]])}}"
      ]
     },
     "execution_count": 1,
     "metadata": {},
     "output_type": "execute_result"
    }
   ],
   "source": [
    "ds = load_by_id(run_id_a)\n",
    "ds.get_parameter_data('x1')"
   ]
  },
  {
   "cell_type": "code",
   "execution_count": null,
   "metadata": {},
   "outputs": [],
   "source": []
  }
 ],
 "metadata": {
  "kernelspec": {
   "display_name": "Python 3",
   "language": "python",
   "name": "python3"
  },
  "language_info": {
   "codemirror_mode": {
    "name": "ipython",
    "version": 3
   },
   "file_extension": ".py",
   "mimetype": "text/x-python",
   "name": "python",
   "nbconvert_exporter": "python",
   "pygments_lexer": "ipython3",
   "version": "3.7.10"
  },
  "nbsphinx": {
   "timeout": 600
  },
  "toc": {
   "base_numbering": 1,
   "nav_menu": {},
   "number_sections": true,
   "sideBar": true,
   "skip_h1_title": false,
   "title_cell": "Table of Contents",
   "title_sidebar": "Contents",
   "toc_cell": false,
   "toc_position": {},
   "toc_section_display": true,
   "toc_window_display": false
  },
  "varInspector": {
   "cols": {
    "lenName": 16,
    "lenType": 16,
    "lenVar": 40
   },
   "kernels_config": {
    "python": {
     "delete_cmd_postfix": "",
     "delete_cmd_prefix": "del ",
     "library": "var_list.py",
     "varRefreshCmd": "print(var_dic_list())"
    },
    "r": {
     "delete_cmd_postfix": ") ",
     "delete_cmd_prefix": "rm(",
     "library": "var_list.r",
     "varRefreshCmd": "cat(var_dic_list()) "
    }
   },
   "types_to_exclude": [
    "module",
    "function",
    "builtin_function_or_method",
    "instance",
    "_Feature"
   ],
   "window_display": false
  }
 },
 "nbformat": 4,
 "nbformat_minor": 2
}
