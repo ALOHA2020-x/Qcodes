{
 "cells": [
  {
   "cell_type": "markdown",
   "metadata": {},
   "source": [
    "# DataSet Performance\n",
    "\n",
    "This notebook shows the trade-off between inserting data into a database row-by-row and as binary blobs. Inserting the data row-by-row means that we have direct access to all the data and may perform queries directly on the values of the data. On the other hand, as we shall see, this is much slower than inserting the data directly as binary blobs."
   ]
  },
  {
   "cell_type": "markdown",
   "metadata": {},
   "source": [
    "First, we choose a new location for the database to ensure that we don't add a bunch of benchmarking data to the default one."
   ]
  },
  {
   "cell_type": "code",
   "execution_count": 1,
   "metadata": {
    "execution": {
     "iopub.execute_input": "2020-10-27T15:14:03.164673Z",
     "iopub.status.busy": "2020-10-27T15:14:03.164282Z",
     "iopub.status.idle": "2020-10-27T15:14:04.030410Z",
     "shell.execute_reply": "2020-10-27T15:14:04.030850Z"
    }
   },
   "outputs": [
    {
     "name": "stdout",
     "output_type": "stream",
     "text": [
      "Logging hadn't been started.\n",
      "Activating auto-logging. Current session state plus future input saved.\n",
      "Filename       : /home/vsts/.qcodes/logs/command_history.log\n",
      "Mode           : append\n",
      "Output logging : True\n",
      "Raw input log  : False\n",
      "Timestamping   : True\n",
      "State          : active\n"
     ]
    },
    {
     "name": "stdout",
     "output_type": "stream",
     "text": [
      "Qcodes Logfile : /home/vsts/.qcodes/logs/201027-14540-qcodes.log\n"
     ]
    }
   ],
   "source": [
    "import os\n",
    "cwd = os.getcwd()\n",
    "import qcodes as qc\n",
    "qc.config[\"core\"][\"db_location\"] = os.path.join(cwd, 'testing.db')\n"
   ]
  },
  {
   "cell_type": "code",
   "execution_count": 2,
   "metadata": {
    "execution": {
     "iopub.execute_input": "2020-10-27T15:14:04.037565Z",
     "iopub.status.busy": "2020-10-27T15:14:04.036665Z",
     "iopub.status.idle": "2020-10-27T15:14:04.194691Z",
     "shell.execute_reply": "2020-10-27T15:14:04.193678Z"
    }
   },
   "outputs": [],
   "source": [
    "%matplotlib inline\n",
    "import time\n",
    "import matplotlib.pyplot as plt\n",
    "import numpy as np\n",
    "\n",
    "import qcodes as qc\n",
    "from qcodes.instrument.parameter import ManualParameter\n",
    "from qcodes.dataset.experiment_container import (Experiment,\n",
    "                                                 load_last_experiment,\n",
    "                                                 new_experiment)\n",
    "from qcodes.dataset.sqlite.database import initialise_database\n",
    "from qcodes import load_or_create_experiment\n",
    "from qcodes.dataset.measurements import Measurement"
   ]
  },
  {
   "cell_type": "code",
   "execution_count": 3,
   "metadata": {
    "execution": {
     "iopub.execute_input": "2020-10-27T15:14:04.197570Z",
     "iopub.status.busy": "2020-10-27T15:14:04.197122Z",
     "iopub.status.idle": "2020-10-27T15:14:04.280873Z",
     "shell.execute_reply": "2020-10-27T15:14:04.280387Z"
    }
   },
   "outputs": [
    {
     "name": "stdout",
     "output_type": "stream",
     "text": [
      "\r",
      "0it [00:00, ?it/s]"
     ]
    },
    {
     "name": "stdout",
     "output_type": "stream",
     "text": [
      "\r",
      "Upgrading database; v0 -> v1: : 0it [00:00, ?it/s]"
     ]
    },
    {
     "name": "stdout",
     "output_type": "stream",
     "text": [
      "\r",
      "Upgrading database; v0 -> v1: : 0it [00:00, ?it/s]"
     ]
    },
    {
     "name": "stdout",
     "output_type": "stream",
     "text": [
      "\n",
      "\r",
      "  0%|          | 0/1 [00:00<?, ?it/s]"
     ]
    },
    {
     "name": "stdout",
     "output_type": "stream",
     "text": [
      "\r",
      "Upgrading database; v1 -> v2:   0%|          | 0/1 [00:00<?, ?it/s]"
     ]
    },
    {
     "name": "stdout",
     "output_type": "stream",
     "text": [
      "\r",
      "Upgrading database; v1 -> v2: 100%|██████████| 1/1 [00:00<00:00, 981.81it/s]"
     ]
    },
    {
     "name": "stdout",
     "output_type": "stream",
     "text": [
      "\n",
      "\r",
      "0it [00:00, ?it/s]"
     ]
    },
    {
     "name": "stdout",
     "output_type": "stream",
     "text": [
      "\r",
      "Upgrading database; v2 -> v3: : 0it [00:00, ?it/s]"
     ]
    },
    {
     "name": "stdout",
     "output_type": "stream",
     "text": [
      "\r",
      "Upgrading database; v2 -> v3: : 0it [00:00, ?it/s]"
     ]
    },
    {
     "name": "stdout",
     "output_type": "stream",
     "text": [
      "\n",
      "\r",
      "0it [00:00, ?it/s]"
     ]
    },
    {
     "name": "stdout",
     "output_type": "stream",
     "text": [
      "\r",
      "Upgrading database; v3 -> v4: : 0it [00:00, ?it/s]"
     ]
    },
    {
     "name": "stdout",
     "output_type": "stream",
     "text": [
      "\r",
      "Upgrading database; v3 -> v4: : 0it [00:00, ?it/s]"
     ]
    },
    {
     "name": "stdout",
     "output_type": "stream",
     "text": [
      "\n",
      "\r",
      "  0%|          | 0/1 [00:00<?, ?it/s]"
     ]
    },
    {
     "name": "stdout",
     "output_type": "stream",
     "text": [
      "\r",
      "Upgrading database; v4 -> v5:   0%|          | 0/1 [00:00<?, ?it/s]"
     ]
    },
    {
     "name": "stdout",
     "output_type": "stream",
     "text": [
      "\r",
      "Upgrading database; v4 -> v5: 100%|██████████| 1/1 [00:00<00:00, 930.62it/s]"
     ]
    },
    {
     "name": "stdout",
     "output_type": "stream",
     "text": [
      "\n",
      "\r",
      "0it [00:00, ?it/s]"
     ]
    },
    {
     "name": "stdout",
     "output_type": "stream",
     "text": [
      "\r",
      "Upgrading database; v5 -> v6: : 0it [00:00, ?it/s]"
     ]
    },
    {
     "name": "stdout",
     "output_type": "stream",
     "text": [
      "\r",
      "Upgrading database; v5 -> v6: : 0it [00:00, ?it/s]"
     ]
    },
    {
     "name": "stdout",
     "output_type": "stream",
     "text": [
      "\n",
      "\r",
      "  0%|          | 0/1 [00:00<?, ?it/s]"
     ]
    },
    {
     "name": "stdout",
     "output_type": "stream",
     "text": [
      "\r",
      "Upgrading database; v6 -> v7:   0%|          | 0/1 [00:00<?, ?it/s]"
     ]
    },
    {
     "name": "stdout",
     "output_type": "stream",
     "text": [
      "\r",
      "Upgrading database; v6 -> v7: 100%|██████████| 1/1 [00:00<00:00, 500.16it/s]"
     ]
    },
    {
     "name": "stdout",
     "output_type": "stream",
     "text": [
      "\n",
      "\r",
      "  0%|          | 0/1 [00:00<?, ?it/s]"
     ]
    },
    {
     "name": "stdout",
     "output_type": "stream",
     "text": [
      "\r",
      "Upgrading database; v7 -> v8:   0%|          | 0/1 [00:00<?, ?it/s]"
     ]
    },
    {
     "name": "stdout",
     "output_type": "stream",
     "text": [
      "\r",
      "Upgrading database; v7 -> v8: 100%|██████████| 1/1 [00:00<00:00, 1008.25it/s]"
     ]
    },
    {
     "name": "stdout",
     "output_type": "stream",
     "text": [
      "\n",
      "\r",
      "  0%|          | 0/1 [00:00<?, ?it/s]"
     ]
    },
    {
     "name": "stdout",
     "output_type": "stream",
     "text": [
      "\r",
      "Upgrading database; v8 -> v9:   0%|          | 0/1 [00:00<?, ?it/s]"
     ]
    },
    {
     "name": "stdout",
     "output_type": "stream",
     "text": [
      "\r",
      "Upgrading database; v8 -> v9: 100%|██████████| 1/1 [00:00<00:00, 913.00it/s]"
     ]
    },
    {
     "name": "stdout",
     "output_type": "stream",
     "text": [
      "\n"
     ]
    }
   ],
   "source": [
    "initialise_database()\n",
    "exp = load_or_create_experiment(experiment_name='tutorial_exp', sample_name=\"no sample\")"
   ]
  },
  {
   "cell_type": "markdown",
   "metadata": {},
   "source": [
    "Here, we define a simple function to benchmark the time it takes to insert n points with either numeric or array data type.\n",
    "We will compare both the time used to call ``add_result`` and the time used for the full measurement."
   ]
  },
  {
   "cell_type": "code",
   "execution_count": 4,
   "metadata": {
    "execution": {
     "iopub.execute_input": "2020-10-27T15:14:04.288923Z",
     "iopub.status.busy": "2020-10-27T15:14:04.287883Z",
     "iopub.status.idle": "2020-10-27T15:14:04.289431Z",
     "shell.execute_reply": "2020-10-27T15:14:04.289794Z"
    }
   },
   "outputs": [],
   "source": [
    "def insert_data(paramtype, npoints, nreps=1):\n",
    "\n",
    "    meas = Measurement(exp=exp)\n",
    "\n",
    "    x1 = ManualParameter('x1')\n",
    "    x2 = ManualParameter('x2')\n",
    "    x3 = ManualParameter('x3')\n",
    "    y1 = ManualParameter('y1')\n",
    "    y2 = ManualParameter('y2')\n",
    "\n",
    "    meas.register_parameter(x1, paramtype=paramtype)\n",
    "    meas.register_parameter(x2, paramtype=paramtype)\n",
    "    meas.register_parameter(x3, paramtype=paramtype)\n",
    "    meas.register_parameter(y1, setpoints=[x1, x2, x3],\n",
    "                            paramtype=paramtype)\n",
    "    meas.register_parameter(y2, setpoints=[x1, x2, x3],\n",
    "                            paramtype=paramtype)\n",
    "    start = time.perf_counter()\n",
    "    with meas.run() as datasaver:\n",
    "        start_adding = time.perf_counter()\n",
    "        for i in range(nreps):\n",
    "            datasaver.add_result((x1, np.random.rand(npoints)),\n",
    "                                 (x2, np.random.rand(npoints)),\n",
    "                                 (x3, np.random.rand(npoints)),\n",
    "                                 (y1, np.random.rand(npoints)),\n",
    "                                 (y2, np.random.rand(npoints)))\n",
    "        stop_adding = time.perf_counter()\n",
    "        run_id = datasaver.run_id\n",
    "    stop = time.perf_counter()\n",
    "    tot_time = stop - start\n",
    "    add_time = stop_adding - start_adding\n",
    "    return tot_time, add_time, run_id"
   ]
  },
  {
   "cell_type": "markdown",
   "metadata": {},
   "source": [
    "## Comparison between numeric/array data and binary blob"
   ]
  },
  {
   "cell_type": "markdown",
   "metadata": {},
   "source": [
    "### Case1: Short experiment time"
   ]
  },
  {
   "cell_type": "code",
   "execution_count": 5,
   "metadata": {
    "execution": {
     "iopub.execute_input": "2020-10-27T15:14:04.295362Z",
     "iopub.status.busy": "2020-10-27T15:14:04.294756Z",
     "iopub.status.idle": "2020-10-27T15:14:04.996032Z",
     "shell.execute_reply": "2020-10-27T15:14:04.996471Z"
    }
   },
   "outputs": [
    {
     "name": "stdout",
     "output_type": "stream",
     "text": [
      "Starting experimental run with id: 1. \n",
      "Starting experimental run with id: 2. \n",
      "Starting experimental run with id: 3. \n",
      "Starting experimental run with id: 4. \n",
      "Starting experimental run with id: 5. \n",
      "Starting experimental run with id: 6. \n",
      "Starting experimental run with id: 7. \n"
     ]
    },
    {
     "name": "stdout",
     "output_type": "stream",
     "text": [
      "Starting experimental run with id: 8. \n"
     ]
    },
    {
     "name": "stdout",
     "output_type": "stream",
     "text": [
      "Starting experimental run with id: 9. \n",
      "Starting experimental run with id: 10. \n",
      "Starting experimental run with id: 11. \n"
     ]
    },
    {
     "name": "stdout",
     "output_type": "stream",
     "text": [
      "Starting experimental run with id: 12. \n",
      "Starting experimental run with id: 13. \n"
     ]
    },
    {
     "name": "stdout",
     "output_type": "stream",
     "text": [
      "Starting experimental run with id: 14. \n"
     ]
    }
   ],
   "source": [
    "sizes = [1,500,1000,2000,3000,4000,5000]\n",
    "t_numeric = []\n",
    "t_numeric_add = []\n",
    "t_array = []\n",
    "t_array_add = []\n",
    "for size in sizes:\n",
    "    tn, tna, run_id_n =  insert_data('numeric', size)\n",
    "    t_numeric.append(tn)\n",
    "    t_numeric_add.append(tna)\n",
    "\n",
    "    ta, taa, run_id_a =  insert_data('array', size)\n",
    "    t_array.append(ta)\n",
    "    t_array_add.append(taa)"
   ]
  },
  {
   "cell_type": "code",
   "execution_count": 6,
   "metadata": {
    "execution": {
     "iopub.execute_input": "2020-10-27T15:14:05.011500Z",
     "iopub.status.busy": "2020-10-27T15:14:05.011086Z",
     "iopub.status.idle": "2020-10-27T15:14:05.176352Z",
     "shell.execute_reply": "2020-10-27T15:14:05.177068Z"
    }
   },
   "outputs": [
    {
     "data": {
      "image/png": "[encoded data removed]",
      "text/plain": [
       "<Figure size 432x288 with 1 Axes>"
      ]
     },
     "metadata": {
      "needs_background": "light"
     },
     "output_type": "display_data"
    }
   ],
   "source": [
    "fig, ax = plt.subplots(1,1)\n",
    "ax.plot(sizes, t_numeric, 'o-', label='Inserting row-by-row')\n",
    "ax.plot(sizes, t_numeric_add, 'o-', label='Inserting row-by-row: add_result only')\n",
    "ax.plot(sizes, t_array, 'd-', label='Inserting as binary blob')\n",
    "ax.plot(sizes, t_array_add, 'd-', label='Inserting as binary blob: add_result only')\n",
    "ax.legend()\n",
    "ax.set_xlabel('Array length')\n",
    "ax.set_ylabel('Time (s)')\n",
    "fig.tight_layout()"
   ]
  },
  {
   "cell_type": "markdown",
   "metadata": {},
   "source": [
    "As shown in the latter figure, the time to setup and and close the experiment is approximately 0.4 sec. In case of small array sizes, the difference between inserting values of data as arrays and inserting them row-by-row is relatively unimportant. At larger array sizes, i.e. above 10000 points, the cost of writing data as individual datapoints starts to become important.\n"
   ]
  },
  {
   "cell_type": "markdown",
   "metadata": {},
   "source": [
    "### Case2: Long experiment time "
   ]
  },
  {
   "cell_type": "code",
   "execution_count": 7,
   "metadata": {
    "execution": {
     "iopub.execute_input": "2020-10-27T15:14:05.180181Z",
     "iopub.status.busy": "2020-10-27T15:14:05.179302Z",
     "iopub.status.idle": "2020-10-27T15:14:55.859372Z",
     "shell.execute_reply": "2020-10-27T15:14:55.858861Z"
    }
   },
   "outputs": [
    {
     "name": "stdout",
     "output_type": "stream",
     "text": [
      "Starting experimental run with id: 15. \n",
      "Starting experimental run with id: 16. \n",
      "Starting experimental run with id: 17. \n"
     ]
    },
    {
     "name": "stdout",
     "output_type": "stream",
     "text": [
      "Starting experimental run with id: 18. \n",
      "Starting experimental run with id: 19. \n"
     ]
    },
    {
     "name": "stdout",
     "output_type": "stream",
     "text": [
      "Starting experimental run with id: 20. \n"
     ]
    },
    {
     "name": "stdout",
     "output_type": "stream",
     "text": [
      "Starting experimental run with id: 21. \n"
     ]
    },
    {
     "name": "stdout",
     "output_type": "stream",
     "text": [
      "Starting experimental run with id: 22. \n"
     ]
    },
    {
     "name": "stdout",
     "output_type": "stream",
     "text": [
      "Starting experimental run with id: 23. \n"
     ]
    },
    {
     "name": "stdout",
     "output_type": "stream",
     "text": [
      "Starting experimental run with id: 24. \n"
     ]
    },
    {
     "name": "stdout",
     "output_type": "stream",
     "text": [
      "Starting experimental run with id: 25. \n"
     ]
    },
    {
     "name": "stdout",
     "output_type": "stream",
     "text": [
      "Starting experimental run with id: 26. \n"
     ]
    },
    {
     "name": "stdout",
     "output_type": "stream",
     "text": [
      "Starting experimental run with id: 27. \n"
     ]
    },
    {
     "name": "stdout",
     "output_type": "stream",
     "text": [
      "Starting experimental run with id: 28. \n"
     ]
    }
   ],
   "source": [
    "sizes = [1,500,1000,2000,3000,4000,5000]\n",
    "nreps = 100\n",
    "t_numeric = []\n",
    "t_numeric_add = []\n",
    "t_numeric_run_ids = []\n",
    "t_array = []\n",
    "t_array_add = []\n",
    "t_array_run_ids = []\n",
    "for size in sizes:\n",
    "    tn, tna, run_id_n =  insert_data('numeric', size, nreps=nreps)\n",
    "    t_numeric.append(tn)\n",
    "    t_numeric_add.append(tna)\n",
    "    t_numeric_run_ids.append(run_id_n)\n",
    "\n",
    "    ta, taa, run_id_a =  insert_data('array', size, nreps=nreps)\n",
    "    t_array.append(ta)\n",
    "    t_array_add.append(taa)\n",
    "    t_array_run_ids.append(run_id_a)"
   ]
  },
  {
   "cell_type": "code",
   "execution_count": 8,
   "metadata": {
    "execution": {
     "iopub.execute_input": "2020-10-27T15:14:55.894134Z",
     "iopub.status.busy": "2020-10-27T15:14:55.885776Z",
     "iopub.status.idle": "2020-10-27T15:14:56.032029Z",
     "shell.execute_reply": "2020-10-27T15:14:56.032579Z"
    },
    "scrolled": true
   },
   "outputs": [
    {
     "data": {
      "image/png": "[encoded data removed]",
      "text/plain": [
       "<Figure size 432x288 with 1 Axes>"
      ]
     },
     "metadata": {
      "needs_background": "light"
     },
     "output_type": "display_data"
    }
   ],
   "source": [
    "fig, ax = plt.subplots(1,1)\n",
    "ax.plot(sizes, t_numeric, 'o-', label='Inserting row-by-row')\n",
    "ax.plot(sizes, t_numeric_add, 'o-', label='Inserting row-by-row: add_result only')\n",
    "ax.plot(sizes, t_array, 'd-', label='Inserting as binary blob')\n",
    "ax.plot(sizes, t_array_add, 'd-', label='Inserting as binary blob: add_result only')\n",
    "ax.legend()\n",
    "ax.set_xlabel('Array length')\n",
    "ax.set_ylabel('Time (s)')\n",
    "fig.tight_layout()"
   ]
  },
  {
   "cell_type": "markdown",
   "metadata": {},
   "source": [
    "However, as we increase the length of the experiment, as seen here by repeating the insertion 100 times, we see a big difference between inserting values of the data row-by-row and inserting it as a binary blob."
   ]
  },
  {
   "cell_type": "markdown",
   "metadata": {},
   "source": [
    "## Loading the data "
   ]
  },
  {
   "cell_type": "code",
   "execution_count": 9,
   "metadata": {
    "execution": {
     "iopub.execute_input": "2020-10-27T15:14:56.034821Z",
     "iopub.status.busy": "2020-10-27T15:14:56.034442Z",
     "iopub.status.idle": "2020-10-27T15:14:56.037378Z",
     "shell.execute_reply": "2020-10-27T15:14:56.037857Z"
    }
   },
   "outputs": [],
   "source": [
    "from qcodes.dataset.data_set import load_by_id\n",
    "from qcodes.dataset.data_export import get_data_by_id"
   ]
  },
  {
   "cell_type": "markdown",
   "metadata": {},
   "source": [
    "As usual you can load the data by using the ``load_by_id`` function but you will notice that the different storage methods\n",
    "are reflected in shape of the data as it is retrieved. "
   ]
  },
  {
   "cell_type": "code",
   "execution_count": 10,
   "metadata": {
    "execution": {
     "iopub.execute_input": "2020-10-27T15:14:56.040154Z",
     "iopub.status.busy": "2020-10-27T15:14:56.039612Z",
     "iopub.status.idle": "2020-10-27T15:14:56.041895Z",
     "shell.execute_reply": "2020-10-27T15:14:56.042259Z"
    }
   },
   "outputs": [],
   "source": [
    "run_id_n = t_numeric_run_ids[0]\n",
    "run_id_a = t_array_run_ids[0]"
   ]
  },
  {
   "cell_type": "code",
   "execution_count": 11,
   "metadata": {
    "execution": {
     "iopub.execute_input": "2020-10-27T15:14:56.044051Z",
     "iopub.status.busy": "2020-10-27T15:14:56.043615Z",
     "iopub.status.idle": "2020-10-27T15:14:56.052541Z",
     "shell.execute_reply": "2020-10-27T15:14:56.052106Z"
    },
    "scrolled": true
   },
   "outputs": [
    {
     "data": {
      "text/plain": [
       "{'x1': {'x1': array([0.37836947, 0.37836947, 0.47577511, 0.47577511, 0.84855333,\n",
       "         0.84855333, 0.0100864 , 0.0100864 , 0.78181651, 0.78181651,\n",
       "         0.71250377, 0.71250377, 0.90959117, 0.90959117, 0.80308865,\n",
       "         0.80308865, 0.14935538, 0.14935538, 0.40218845, 0.40218845,\n",
       "         0.97918521, 0.97918521, 0.39598578, 0.39598578, 0.55297908,\n",
       "         0.55297908, 0.1420931 , 0.1420931 , 0.51296617, 0.51296617,\n",
       "         0.51823676, 0.51823676, 0.80099263, 0.80099263, 0.08401354,\n",
       "         0.08401354, 0.40728428, 0.40728428, 0.69208236, 0.69208236,\n",
       "         0.36765583, 0.36765583, 0.08089479, 0.08089479, 0.78505629,\n",
       "         0.78505629, 0.50313852, 0.50313852, 0.09417928, 0.09417928,\n",
       "         0.21886087, 0.21886087, 0.01126771, 0.01126771, 0.99575733,\n",
       "         0.99575733, 0.94727622, 0.94727622, 0.3860164 , 0.3860164 ,\n",
       "         0.80197409, 0.80197409, 0.55912302, 0.55912302, 0.06047931,\n",
       "         0.06047931, 0.66998584, 0.66998584, 0.45429012, 0.45429012,\n",
       "         0.1822078 , 0.1822078 , 0.27312691, 0.27312691, 0.5968836 ,\n",
       "         0.5968836 , 0.08115845, 0.08115845, 0.28278085, 0.28278085,\n",
       "         0.81551578, 0.81551578, 0.48201701, 0.48201701, 0.64862351,\n",
       "         0.64862351, 0.51267719, 0.51267719, 0.61528685, 0.61528685,\n",
       "         0.43396496, 0.43396496, 0.40689133, 0.40689133, 0.7076422 ,\n",
       "         0.7076422 , 0.72224913, 0.72224913, 0.39958453, 0.39958453,\n",
       "         0.88945784, 0.88945784, 0.48582587, 0.48582587, 0.24042078,\n",
       "         0.24042078, 0.4099228 , 0.4099228 , 0.0235399 , 0.0235399 ,\n",
       "         0.13826751, 0.13826751, 0.67083618, 0.67083618, 0.00275624,\n",
       "         0.00275624, 0.0953105 , 0.0953105 , 0.81244645, 0.81244645,\n",
       "         0.11549278, 0.11549278, 0.06812918, 0.06812918, 0.4993211 ,\n",
       "         0.4993211 , 0.42276828, 0.42276828, 0.63798271, 0.63798271,\n",
       "         0.18007439, 0.18007439, 0.46654219, 0.46654219, 0.45792161,\n",
       "         0.45792161, 0.25163351, 0.25163351, 0.1925521 , 0.1925521 ,\n",
       "         0.26189712, 0.26189712, 0.86457562, 0.86457562, 0.33616279,\n",
       "         0.33616279, 0.30357281, 0.30357281, 0.64852799, 0.64852799,\n",
       "         0.74129736, 0.74129736, 0.91197677, 0.91197677, 0.99700282,\n",
       "         0.99700282, 0.77554841, 0.77554841, 0.39230775, 0.39230775,\n",
       "         0.41291768, 0.41291768, 0.3206643 , 0.3206643 , 0.638533  ,\n",
       "         0.638533  , 0.71781075, 0.71781075, 0.48427937, 0.48427937,\n",
       "         0.82668667, 0.82668667, 0.92313149, 0.92313149, 0.243567  ,\n",
       "         0.243567  , 0.83912274, 0.83912274, 0.16947905, 0.16947905,\n",
       "         0.195091  , 0.195091  , 0.86262389, 0.86262389, 0.16665323,\n",
       "         0.16665323, 0.28500941, 0.28500941, 0.55038571, 0.55038571,\n",
       "         0.84635179, 0.84635179, 0.2728681 , 0.2728681 , 0.15041268,\n",
       "         0.15041268, 0.80726485, 0.80726485, 0.3024315 , 0.3024315 ])}}"
      ]
     },
     "execution_count": 1,
     "metadata": {},
     "output_type": "execute_result"
    }
   ],
   "source": [
    "ds = load_by_id(run_id_n)\n",
    "ds.get_parameter_data('x1')"
   ]
  },
  {
   "cell_type": "markdown",
   "metadata": {},
   "source": [
    "And a dataset stored as binary arrays"
   ]
  },
  {
   "cell_type": "code",
   "execution_count": 12,
   "metadata": {
    "execution": {
     "iopub.execute_input": "2020-10-27T15:14:56.055620Z",
     "iopub.status.busy": "2020-10-27T15:14:56.055056Z",
     "iopub.status.idle": "2020-10-27T15:14:56.100758Z",
     "shell.execute_reply": "2020-10-27T15:14:56.101288Z"
    },
    "scrolled": true
   },
   "outputs": [
    {
     "data": {
      "text/plain": [
       "{'x1': {'x1': array([[0.92823529],\n",
       "         [0.92823529],\n",
       "         [0.4231187 ],\n",
       "         [0.4231187 ],\n",
       "         [0.76133538],\n",
       "         [0.76133538],\n",
       "         [0.01956927],\n",
       "         [0.01956927],\n",
       "         [0.56450465],\n",
       "         [0.56450465],\n",
       "         [0.87180151],\n",
       "         [0.87180151],\n",
       "         [0.85948472],\n",
       "         [0.85948472],\n",
       "         [0.83754609],\n",
       "         [0.83754609],\n",
       "         [0.9479601 ],\n",
       "         [0.9479601 ],\n",
       "         [0.50523074],\n",
       "         [0.50523074],\n",
       "         [0.29593123],\n",
       "         [0.29593123],\n",
       "         [0.52437611],\n",
       "         [0.52437611],\n",
       "         [0.11003591],\n",
       "         [0.11003591],\n",
       "         [0.59969431],\n",
       "         [0.59969431],\n",
       "         [0.08323942],\n",
       "         [0.08323942],\n",
       "         [0.08439823],\n",
       "         [0.08439823],\n",
       "         [0.68278336],\n",
       "         [0.68278336],\n",
       "         [0.15642337],\n",
       "         [0.15642337],\n",
       "         [0.93294254],\n",
       "         [0.93294254],\n",
       "         [0.58882043],\n",
       "         [0.58882043],\n",
       "         [0.99382346],\n",
       "         [0.99382346],\n",
       "         [0.14624495],\n",
       "         [0.14624495],\n",
       "         [0.14377181],\n",
       "         [0.14377181],\n",
       "         [0.36232315],\n",
       "         [0.36232315],\n",
       "         [0.03368648],\n",
       "         [0.03368648],\n",
       "         [0.7082212 ],\n",
       "         [0.7082212 ],\n",
       "         [0.29024825],\n",
       "         [0.29024825],\n",
       "         [0.85651542],\n",
       "         [0.85651542],\n",
       "         [0.4172396 ],\n",
       "         [0.4172396 ],\n",
       "         [0.35507064],\n",
       "         [0.35507064],\n",
       "         [0.02463855],\n",
       "         [0.02463855],\n",
       "         [0.66680446],\n",
       "         [0.66680446],\n",
       "         [0.48167694],\n",
       "         [0.48167694],\n",
       "         [0.54120408],\n",
       "         [0.54120408],\n",
       "         [0.79060686],\n",
       "         [0.79060686],\n",
       "         [0.98130584],\n",
       "         [0.98130584],\n",
       "         [0.8638562 ],\n",
       "         [0.8638562 ],\n",
       "         [0.8094978 ],\n",
       "         [0.8094978 ],\n",
       "         [0.98107989],\n",
       "         [0.98107989],\n",
       "         [0.16951188],\n",
       "         [0.16951188],\n",
       "         [0.94349981],\n",
       "         [0.94349981],\n",
       "         [0.0557837 ],\n",
       "         [0.0557837 ],\n",
       "         [0.13459722],\n",
       "         [0.13459722],\n",
       "         [0.57356216],\n",
       "         [0.57356216],\n",
       "         [0.86733834],\n",
       "         [0.86733834],\n",
       "         [0.45093201],\n",
       "         [0.45093201],\n",
       "         [0.04699134],\n",
       "         [0.04699134],\n",
       "         [0.8931942 ],\n",
       "         [0.8931942 ],\n",
       "         [0.47540327],\n",
       "         [0.47540327],\n",
       "         [0.385179  ],\n",
       "         [0.385179  ],\n",
       "         [0.04364788],\n",
       "         [0.04364788],\n",
       "         [0.75232088],\n",
       "         [0.75232088],\n",
       "         [0.58258566],\n",
       "         [0.58258566],\n",
       "         [0.7792879 ],\n",
       "         [0.7792879 ],\n",
       "         [0.32149676],\n",
       "         [0.32149676],\n",
       "         [0.37064187],\n",
       "         [0.37064187],\n",
       "         [0.80616195],\n",
       "         [0.80616195],\n",
       "         [0.21682029],\n",
       "         [0.21682029],\n",
       "         [0.53386446],\n",
       "         [0.53386446],\n",
       "         [0.03846233],\n",
       "         [0.03846233],\n",
       "         [0.28705392],\n",
       "         [0.28705392],\n",
       "         [0.78664057],\n",
       "         [0.78664057],\n",
       "         [0.81538737],\n",
       "         [0.81538737],\n",
       "         [0.40205511],\n",
       "         [0.40205511],\n",
       "         [0.79762334],\n",
       "         [0.79762334],\n",
       "         [0.60155129],\n",
       "         [0.60155129],\n",
       "         [0.86944416],\n",
       "         [0.86944416],\n",
       "         [0.31905208],\n",
       "         [0.31905208],\n",
       "         [0.16907856],\n",
       "         [0.16907856],\n",
       "         [0.22238068],\n",
       "         [0.22238068],\n",
       "         [0.41495373],\n",
       "         [0.41495373],\n",
       "         [0.23881079],\n",
       "         [0.23881079],\n",
       "         [0.46112286],\n",
       "         [0.46112286],\n",
       "         [0.02509859],\n",
       "         [0.02509859],\n",
       "         [0.76470697],\n",
       "         [0.76470697],\n",
       "         [0.45846843],\n",
       "         [0.45846843],\n",
       "         [0.31056127],\n",
       "         [0.31056127],\n",
       "         [0.68877201],\n",
       "         [0.68877201],\n",
       "         [0.95124321],\n",
       "         [0.95124321],\n",
       "         [0.56972803],\n",
       "         [0.56972803],\n",
       "         [0.9796402 ],\n",
       "         [0.9796402 ],\n",
       "         [0.36521404],\n",
       "         [0.36521404],\n",
       "         [0.36134269],\n",
       "         [0.36134269],\n",
       "         [0.7851082 ],\n",
       "         [0.7851082 ],\n",
       "         [0.31954408],\n",
       "         [0.31954408],\n",
       "         [0.48749637],\n",
       "         [0.48749637],\n",
       "         [0.4905699 ],\n",
       "         [0.4905699 ],\n",
       "         [0.65612036],\n",
       "         [0.65612036],\n",
       "         [0.47844688],\n",
       "         [0.47844688],\n",
       "         [0.26187877],\n",
       "         [0.26187877],\n",
       "         [0.89872193],\n",
       "         [0.89872193],\n",
       "         [0.718385  ],\n",
       "         [0.718385  ],\n",
       "         [0.26509051],\n",
       "         [0.26509051],\n",
       "         [0.57446149],\n",
       "         [0.57446149],\n",
       "         [0.73353332],\n",
       "         [0.73353332],\n",
       "         [0.42722286],\n",
       "         [0.42722286],\n",
       "         [0.02427836],\n",
       "         [0.02427836],\n",
       "         [0.98688324],\n",
       "         [0.98688324],\n",
       "         [0.4690775 ],\n",
       "         [0.4690775 ],\n",
       "         [0.7768466 ],\n",
       "         [0.7768466 ]])}}"
      ]
     },
     "execution_count": 1,
     "metadata": {},
     "output_type": "execute_result"
    }
   ],
   "source": [
    "ds = load_by_id(run_id_a)\n",
    "ds.get_parameter_data('x1')"
   ]
  },
  {
   "cell_type": "code",
   "execution_count": null,
   "metadata": {},
   "outputs": [],
   "source": []
  }
 ],
 "metadata": {
  "kernelspec": {
   "display_name": "Python 3",
   "language": "python",
   "name": "python3"
  },
  "language_info": {
   "codemirror_mode": {
    "name": "ipython",
    "version": 3
   },
   "file_extension": ".py",
   "mimetype": "text/x-python",
   "name": "python",
   "nbconvert_exporter": "python",
   "pygments_lexer": "ipython3",
   "version": "3.7.7"
  },
  "nbsphinx": {
   "timeout": 600
  },
  "toc": {
   "base_numbering": 1,
   "nav_menu": {},
   "number_sections": true,
   "sideBar": true,
   "skip_h1_title": false,
   "title_cell": "Table of Contents",
   "title_sidebar": "Contents",
   "toc_cell": false,
   "toc_position": {},
   "toc_section_display": true,
   "toc_window_display": false
  },
  "varInspector": {
   "cols": {
    "lenName": 16,
    "lenType": 16,
    "lenVar": 40
   },
   "kernels_config": {
    "python": {
     "delete_cmd_postfix": "",
     "delete_cmd_prefix": "del ",
     "library": "var_list.py",
     "varRefreshCmd": "print(var_dic_list())"
    },
    "r": {
     "delete_cmd_postfix": ") ",
     "delete_cmd_prefix": "rm(",
     "library": "var_list.r",
     "varRefreshCmd": "cat(var_dic_list()) "
    }
   },
   "types_to_exclude": [
    "module",
    "function",
    "builtin_function_or_method",
    "instance",
    "_Feature"
   ],
   "window_display": false
  }
 },
 "nbformat": 4,
 "nbformat_minor": 2
}
