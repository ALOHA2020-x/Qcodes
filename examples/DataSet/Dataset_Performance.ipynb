{
 "cells": [
  {
   "cell_type": "markdown",
   "metadata": {},
   "source": [
    "# DataSet Performance\n",
    "\n",
    "This notebook shows the trade-off between inserting data into a database row-by-row and as binary blobs. Inserting the data row-by-row means that we have direct access to all the data and may perform queries directly on the values of the data. On the other hand, as we shall see, this is much slower than inserting the data directly as binary blobs."
   ]
  },
  {
   "cell_type": "markdown",
   "metadata": {},
   "source": [
    "First, we choose a new location for the database to ensure that we don't add a bunch of benchmarking data to the default one."
   ]
  },
  {
   "cell_type": "code",
   "execution_count": 1,
   "metadata": {},
   "outputs": [
    {
     "name": "stdout",
     "output_type": "stream",
     "text": [
      "Logging hadn't been started.\n",
      "Activating auto-logging. Current session state plus future input saved.\n",
      "Filename       : /home/vsts/.qcodes/logs/command_history.log\n",
      "Mode           : append\n",
      "Output logging : True\n",
      "Raw input log  : False\n",
      "Timestamping   : True\n",
      "State          : active\n"
     ]
    },
    {
     "name": "stdout",
     "output_type": "stream",
     "text": [
      "Qcodes Logfile : /home/vsts/.qcodes/logs/200217-18120-qcodes.log\n"
     ]
    }
   ],
   "source": [
    "import os\n",
    "cwd = os.getcwd()\n",
    "import qcodes as qc\n",
    "qc.config[\"core\"][\"db_location\"] = os.path.join(cwd, 'testing.db')\n"
   ]
  },
  {
   "cell_type": "code",
   "execution_count": 2,
   "metadata": {},
   "outputs": [],
   "source": [
    "%matplotlib inline\n",
    "import time\n",
    "import matplotlib.pyplot as plt\n",
    "import numpy as np\n",
    "\n",
    "import qcodes as qc\n",
    "from qcodes.instrument.parameter import ManualParameter\n",
    "from qcodes.dataset.experiment_container import (Experiment,\n",
    "                                                 load_last_experiment,\n",
    "                                                 new_experiment)\n",
    "from qcodes.dataset.sqlite.database import initialise_database\n",
    "from qcodes import load_or_create_experiment\n",
    "from qcodes.dataset.measurements import Measurement"
   ]
  },
  {
   "cell_type": "code",
   "execution_count": 3,
   "metadata": {},
   "outputs": [
    {
     "name": "stdout",
     "output_type": "stream",
     "text": [
      "\r",
      "0it [00:00, ?it/s]"
     ]
    },
    {
     "name": "stdout",
     "output_type": "stream",
     "text": [
      "\r",
      "Upgrading database; v0 -> v1: : 0it [00:00, ?it/s]"
     ]
    },
    {
     "name": "stdout",
     "output_type": "stream",
     "text": [
      "\r",
      "Upgrading database; v0 -> v1: : 0it [00:00, ?it/s]"
     ]
    },
    {
     "name": "stdout",
     "output_type": "stream",
     "text": [
      "\n",
      "\r",
      "  0%|          | 0/1 [00:00<?, ?it/s]"
     ]
    },
    {
     "name": "stdout",
     "output_type": "stream",
     "text": [
      "\r",
      "Upgrading database; v1 -> v2:   0%|          | 0/1 [00:00<?, ?it/s]"
     ]
    },
    {
     "name": "stdout",
     "output_type": "stream",
     "text": [
      "\r",
      "Upgrading database; v1 -> v2: 100%|██████████| 1/1 [00:00<00:00, 1005.11it/s]"
     ]
    },
    {
     "name": "stdout",
     "output_type": "stream",
     "text": [
      "\n",
      "\r",
      "0it [00:00, ?it/s]"
     ]
    },
    {
     "name": "stdout",
     "output_type": "stream",
     "text": [
      "\r",
      "Upgrading database; v2 -> v3: : 0it [00:00, ?it/s]"
     ]
    },
    {
     "name": "stdout",
     "output_type": "stream",
     "text": [
      "\r",
      "Upgrading database; v2 -> v3: : 0it [00:00, ?it/s]"
     ]
    },
    {
     "name": "stdout",
     "output_type": "stream",
     "text": [
      "\n",
      "\r",
      "0it [00:00, ?it/s]"
     ]
    },
    {
     "name": "stdout",
     "output_type": "stream",
     "text": [
      "\r",
      "Upgrading database; v3 -> v4: : 0it [00:00, ?it/s]"
     ]
    },
    {
     "name": "stdout",
     "output_type": "stream",
     "text": [
      "\r",
      "Upgrading database; v3 -> v4: : 0it [00:00, ?it/s]"
     ]
    },
    {
     "name": "stdout",
     "output_type": "stream",
     "text": [
      "\n",
      "\r",
      "  0%|          | 0/1 [00:00<?, ?it/s]"
     ]
    },
    {
     "name": "stdout",
     "output_type": "stream",
     "text": [
      "\r",
      "Upgrading database; v4 -> v5:   0%|          | 0/1 [00:00<?, ?it/s]"
     ]
    },
    {
     "name": "stdout",
     "output_type": "stream",
     "text": [
      "\r",
      "Upgrading database; v4 -> v5: 100%|██████████| 1/1 [00:00<00:00, 876.92it/s]"
     ]
    },
    {
     "name": "stdout",
     "output_type": "stream",
     "text": [
      "\n",
      "\r",
      "0it [00:00, ?it/s]"
     ]
    },
    {
     "name": "stdout",
     "output_type": "stream",
     "text": [
      "\r",
      "Upgrading database; v5 -> v6: : 0it [00:00, ?it/s]"
     ]
    },
    {
     "name": "stdout",
     "output_type": "stream",
     "text": [
      "\r",
      "Upgrading database; v5 -> v6: : 0it [00:00, ?it/s]"
     ]
    },
    {
     "name": "stdout",
     "output_type": "stream",
     "text": [
      "\n",
      "\r",
      "  0%|          | 0/1 [00:00<?, ?it/s]"
     ]
    },
    {
     "name": "stdout",
     "output_type": "stream",
     "text": [
      "\r",
      "Upgrading database; v6 -> v7:   0%|          | 0/1 [00:00<?, ?it/s]"
     ]
    },
    {
     "name": "stdout",
     "output_type": "stream",
     "text": [
      "\r",
      "Upgrading database; v6 -> v7: 100%|██████████| 1/1 [00:00<00:00, 448.59it/s]"
     ]
    },
    {
     "name": "stdout",
     "output_type": "stream",
     "text": [
      "\n",
      "\r",
      "  0%|          | 0/1 [00:00<?, ?it/s]"
     ]
    },
    {
     "name": "stdout",
     "output_type": "stream",
     "text": [
      "\r",
      "Upgrading database; v7 -> v8:   0%|          | 0/1 [00:00<?, ?it/s]"
     ]
    },
    {
     "name": "stdout",
     "output_type": "stream",
     "text": [
      "\r",
      "Upgrading database; v7 -> v8: 100%|██████████| 1/1 [00:00<00:00, 779.18it/s]"
     ]
    },
    {
     "name": "stdout",
     "output_type": "stream",
     "text": [
      "\n"
     ]
    }
   ],
   "source": [
    "initialise_database()\n",
    "exp = load_or_create_experiment(experiment_name='tutorial_exp', sample_name=\"no sample\")"
   ]
  },
  {
   "cell_type": "markdown",
   "metadata": {},
   "source": [
    "Here, we define a simple function to benchmark the time it takes to insert n points with either numeric or array data type.\n",
    "We will compare both the time used to call ``add_result`` and the time used for the full measurement."
   ]
  },
  {
   "cell_type": "code",
   "execution_count": 4,
   "metadata": {},
   "outputs": [],
   "source": [
    "def insert_data(paramtype, npoints, nreps=1):\n",
    "\n",
    "    meas = Measurement(exp=exp)\n",
    "\n",
    "    x1 = ManualParameter('x1')\n",
    "    x2 = ManualParameter('x2')\n",
    "    x3 = ManualParameter('x3')\n",
    "    y1 = ManualParameter('y1')\n",
    "    y2 = ManualParameter('y2')\n",
    "\n",
    "    meas.register_parameter(x1, paramtype=paramtype)\n",
    "    meas.register_parameter(x2, paramtype=paramtype)\n",
    "    meas.register_parameter(x3, paramtype=paramtype)\n",
    "    meas.register_parameter(y1, setpoints=[x1, x2, x3],\n",
    "                            paramtype=paramtype)\n",
    "    meas.register_parameter(y2, setpoints=[x1, x2, x3],\n",
    "                            paramtype=paramtype)\n",
    "    start = time.perf_counter()\n",
    "    with meas.run() as datasaver:\n",
    "        start_adding = time.perf_counter()\n",
    "        for i in range(nreps):\n",
    "            datasaver.add_result((x1, np.random.rand(npoints)),\n",
    "                                 (x2, np.random.rand(npoints)),\n",
    "                                 (x3, np.random.rand(npoints)),\n",
    "                                 (y1, np.random.rand(npoints)),\n",
    "                                 (y2, np.random.rand(npoints)))\n",
    "        stop_adding = time.perf_counter()\n",
    "        run_id = datasaver.run_id\n",
    "    stop = time.perf_counter()\n",
    "    tot_time = stop - start\n",
    "    add_time = stop_adding - start_adding\n",
    "    return tot_time, add_time, run_id"
   ]
  },
  {
   "cell_type": "markdown",
   "metadata": {},
   "source": [
    "## Comparison between numeric/array data and binary blob"
   ]
  },
  {
   "cell_type": "markdown",
   "metadata": {},
   "source": [
    "### Case1: Short experiment time"
   ]
  },
  {
   "cell_type": "code",
   "execution_count": 5,
   "metadata": {},
   "outputs": [
    {
     "name": "stdout",
     "output_type": "stream",
     "text": [
      "Starting experimental run with id: 1. \n",
      "Starting experimental run with id: 2. \n",
      "Starting experimental run with id: 3. \n",
      "Starting experimental run with id: 4. \n"
     ]
    },
    {
     "name": "stdout",
     "output_type": "stream",
     "text": [
      "Starting experimental run with id: 5. \n"
     ]
    },
    {
     "name": "stdout",
     "output_type": "stream",
     "text": [
      "Starting experimental run with id: 6. \n",
      "Starting experimental run with id: 7. \n"
     ]
    },
    {
     "name": "stdout",
     "output_type": "stream",
     "text": [
      "Starting experimental run with id: 8. \n",
      "Starting experimental run with id: 9. \n"
     ]
    },
    {
     "name": "stdout",
     "output_type": "stream",
     "text": [
      "Starting experimental run with id: 10. \n",
      "Starting experimental run with id: 11. \n"
     ]
    },
    {
     "name": "stdout",
     "output_type": "stream",
     "text": [
      "Starting experimental run with id: 12. \n"
     ]
    },
    {
     "name": "stdout",
     "output_type": "stream",
     "text": [
      "Starting experimental run with id: 13. \n"
     ]
    },
    {
     "name": "stdout",
     "output_type": "stream",
     "text": [
      "Starting experimental run with id: 14. \n"
     ]
    }
   ],
   "source": [
    "sizes = [1,500,1000,2000,3000,4000,5000]\n",
    "t_numeric = []\n",
    "t_numeric_add = []\n",
    "t_array = []\n",
    "t_array_add = []\n",
    "for size in sizes:\n",
    "    tn, tna, run_id_n =  insert_data('numeric', size)\n",
    "    t_numeric.append(tn)\n",
    "    t_numeric_add.append(tna)\n",
    "\n",
    "    ta, taa, run_id_a =  insert_data('array', size)\n",
    "    t_array.append(ta)\n",
    "    t_array_add.append(taa)"
   ]
  },
  {
   "cell_type": "code",
   "execution_count": 6,
   "metadata": {},
   "outputs": [
    {
     "data": {
      "image/png": "[encoded data removed]",
      "text/plain": [
       "<Figure size 432x288 with 1 Axes>"
      ]
     },
     "metadata": {
      "needs_background": "light"
     },
     "output_type": "display_data"
    }
   ],
   "source": [
    "fig, ax = plt.subplots(1,1)\n",
    "ax.plot(sizes, t_numeric, 'o-', label='Inserting row-by-row')\n",
    "ax.plot(sizes, t_numeric_add, 'o-', label='Inserting row-by-row: add_result only')\n",
    "ax.plot(sizes, t_array, 'd-', label='Inserting as binary blob')\n",
    "ax.plot(sizes, t_array_add, 'd-', label='Inserting as binary blob: add_result only')\n",
    "ax.legend()\n",
    "ax.set_xlabel('Array length')\n",
    "ax.set_ylabel('Time (s)')\n",
    "fig.tight_layout()"
   ]
  },
  {
   "cell_type": "markdown",
   "metadata": {},
   "source": [
    "As shown in the latter figure, the time to setup and and close the experiment is approximately 0.4 sec. In case of small array sizes, the difference between inserting values of data as arrays and inserting them row-by-row is relatively unimportant. At larger array sizes, i.e. above 10000 points, the cost of writing data as individual datapoints starts to become important.\n"
   ]
  },
  {
   "cell_type": "markdown",
   "metadata": {},
   "source": [
    "### Case2: Long experiment time "
   ]
  },
  {
   "cell_type": "code",
   "execution_count": 7,
   "metadata": {},
   "outputs": [
    {
     "name": "stdout",
     "output_type": "stream",
     "text": [
      "Starting experimental run with id: 15. \n",
      "Starting experimental run with id: 16. \n",
      "Starting experimental run with id: 17. \n"
     ]
    },
    {
     "name": "stdout",
     "output_type": "stream",
     "text": [
      "Starting experimental run with id: 18. \n",
      "Starting experimental run with id: 19. \n"
     ]
    },
    {
     "name": "stdout",
     "output_type": "stream",
     "text": [
      "Starting experimental run with id: 20. \n"
     ]
    },
    {
     "name": "stdout",
     "output_type": "stream",
     "text": [
      "Starting experimental run with id: 21. \n"
     ]
    },
    {
     "name": "stdout",
     "output_type": "stream",
     "text": [
      "Starting experimental run with id: 22. \n"
     ]
    },
    {
     "name": "stdout",
     "output_type": "stream",
     "text": [
      "Starting experimental run with id: 23. \n"
     ]
    },
    {
     "name": "stdout",
     "output_type": "stream",
     "text": [
      "Starting experimental run with id: 24. \n"
     ]
    },
    {
     "name": "stdout",
     "output_type": "stream",
     "text": [
      "Starting experimental run with id: 25. \n"
     ]
    },
    {
     "name": "stdout",
     "output_type": "stream",
     "text": [
      "Starting experimental run with id: 26. \n"
     ]
    },
    {
     "name": "stdout",
     "output_type": "stream",
     "text": [
      "Starting experimental run with id: 27. \n"
     ]
    },
    {
     "name": "stdout",
     "output_type": "stream",
     "text": [
      "Starting experimental run with id: 28. \n"
     ]
    }
   ],
   "source": [
    "sizes = [1,500,1000,2000,3000,4000,5000]\n",
    "nreps = 100\n",
    "t_numeric = []\n",
    "t_numeric_add = []\n",
    "t_numeric_run_ids = []\n",
    "t_array = []\n",
    "t_array_add = []\n",
    "t_array_run_ids = []\n",
    "for size in sizes:\n",
    "    tn, tna, run_id_n =  insert_data('numeric', size, nreps=nreps)\n",
    "    t_numeric.append(tn)\n",
    "    t_numeric_add.append(tna)\n",
    "    t_numeric_run_ids.append(run_id_n)\n",
    "\n",
    "    ta, taa, run_id_a =  insert_data('array', size, nreps=nreps)\n",
    "    t_array.append(ta)\n",
    "    t_array_add.append(taa)\n",
    "    t_array_run_ids.append(run_id_a)"
   ]
  },
  {
   "cell_type": "code",
   "execution_count": 8,
   "metadata": {
    "scrolled": true
   },
   "outputs": [
    {
     "data": {
      "image/png": "[encoded data removed]",
      "text/plain": [
       "<Figure size 432x288 with 1 Axes>"
      ]
     },
     "metadata": {
      "needs_background": "light"
     },
     "output_type": "display_data"
    }
   ],
   "source": [
    "fig, ax = plt.subplots(1,1)\n",
    "ax.plot(sizes, t_numeric, 'o-', label='Inserting row-by-row')\n",
    "ax.plot(sizes, t_numeric_add, 'o-', label='Inserting row-by-row: add_result only')\n",
    "ax.plot(sizes, t_array, 'd-', label='Inserting as binary blob')\n",
    "ax.plot(sizes, t_array_add, 'd-', label='Inserting as binary blob: add_result only')\n",
    "ax.legend()\n",
    "ax.set_xlabel('Array length')\n",
    "ax.set_ylabel('Time (s)')\n",
    "fig.tight_layout()"
   ]
  },
  {
   "cell_type": "markdown",
   "metadata": {},
   "source": [
    "However, as we increase the length of the experiment, as seen here by repeating the insertion 100 times, we see a big difference between inserting values of the data row-by-row and inserting it as a binary blob."
   ]
  },
  {
   "cell_type": "markdown",
   "metadata": {},
   "source": [
    "## Loading the data "
   ]
  },
  {
   "cell_type": "code",
   "execution_count": 9,
   "metadata": {},
   "outputs": [],
   "source": [
    "from qcodes.dataset.data_set import load_by_id\n",
    "from qcodes.dataset.data_export import get_data_by_id"
   ]
  },
  {
   "cell_type": "markdown",
   "metadata": {},
   "source": [
    "As usual you can load the data by using the ``load_by_id`` function but you will notice that the different storage methods\n",
    "are reflected in shape of the data as it is retrieved. "
   ]
  },
  {
   "cell_type": "code",
   "execution_count": 10,
   "metadata": {},
   "outputs": [],
   "source": [
    "run_id_n = t_numeric_run_ids[0]\n",
    "run_id_a = t_array_run_ids[0]"
   ]
  },
  {
   "cell_type": "code",
   "execution_count": 11,
   "metadata": {
    "scrolled": true
   },
   "outputs": [
    {
     "data": {
      "text/plain": [
       "{'x1': {'x1': array([0.57049359, 0.57049359, 0.81939664, 0.81939664, 0.39209729,\n",
       "         0.39209729, 0.32330591, 0.32330591, 0.47942593, 0.47942593,\n",
       "         0.41427457, 0.41427457, 0.38314724, 0.38314724, 0.41187191,\n",
       "         0.41187191, 0.27610246, 0.27610246, 0.2503971 , 0.2503971 ,\n",
       "         0.80116373, 0.80116373, 0.8971262 , 0.8971262 , 0.77977061,\n",
       "         0.77977061, 0.04931219, 0.04931219, 0.22995957, 0.22995957,\n",
       "         0.75429832, 0.75429832, 0.53527879, 0.53527879, 0.46087726,\n",
       "         0.46087726, 0.3765618 , 0.3765618 , 0.08783194, 0.08783194,\n",
       "         0.17454845, 0.17454845, 0.79565775, 0.79565775, 0.92063264,\n",
       "         0.92063264, 0.93226071, 0.93226071, 0.71904566, 0.71904566,\n",
       "         0.42397515, 0.42397515, 0.49647379, 0.49647379, 0.142131  ,\n",
       "         0.142131  , 0.5282453 , 0.5282453 , 0.70441411, 0.70441411,\n",
       "         0.15667852, 0.15667852, 0.633609  , 0.633609  , 0.7011483 ,\n",
       "         0.7011483 , 0.05448219, 0.05448219, 0.62745209, 0.62745209,\n",
       "         0.0660791 , 0.0660791 , 0.96824448, 0.96824448, 0.25580633,\n",
       "         0.25580633, 0.13739036, 0.13739036, 0.62265602, 0.62265602,\n",
       "         0.9057672 , 0.9057672 , 0.28583754, 0.28583754, 0.45019419,\n",
       "         0.45019419, 0.16482339, 0.16482339, 0.47959869, 0.47959869,\n",
       "         0.67321644, 0.67321644, 0.3553832 , 0.3553832 , 0.53143899,\n",
       "         0.53143899, 0.15503365, 0.15503365, 0.45520382, 0.45520382,\n",
       "         0.14300919, 0.14300919, 0.09219529, 0.09219529, 0.53675188,\n",
       "         0.53675188, 0.28883249, 0.28883249, 0.72445907, 0.72445907,\n",
       "         0.80173162, 0.80173162, 0.41498125, 0.41498125, 0.29632111,\n",
       "         0.29632111, 0.95470148, 0.95470148, 0.49938796, 0.49938796,\n",
       "         0.23064345, 0.23064345, 0.93892467, 0.93892467, 0.24192341,\n",
       "         0.24192341, 0.94891148, 0.94891148, 0.35471415, 0.35471415,\n",
       "         0.72109285, 0.72109285, 0.96016505, 0.96016505, 0.45633493,\n",
       "         0.45633493, 0.4729242 , 0.4729242 , 0.51682871, 0.51682871,\n",
       "         0.13809579, 0.13809579, 0.41089742, 0.41089742, 0.5822891 ,\n",
       "         0.5822891 , 0.81747564, 0.81747564, 0.91766164, 0.91766164,\n",
       "         0.77190447, 0.77190447, 0.80341619, 0.80341619, 0.09452945,\n",
       "         0.09452945, 0.3221345 , 0.3221345 , 0.57869396, 0.57869396,\n",
       "         0.78620882, 0.78620882, 0.12206988, 0.12206988, 0.77082606,\n",
       "         0.77082606, 0.18355626, 0.18355626, 0.3066514 , 0.3066514 ,\n",
       "         0.93381223, 0.93381223, 0.58271581, 0.58271581, 0.24783731,\n",
       "         0.24783731, 0.63940954, 0.63940954, 0.59415563, 0.59415563,\n",
       "         0.75866299, 0.75866299, 0.50933567, 0.50933567, 0.24704023,\n",
       "         0.24704023, 0.1852719 , 0.1852719 , 0.4011523 , 0.4011523 ,\n",
       "         0.04971461, 0.04971461, 0.62504661, 0.62504661, 0.76698812,\n",
       "         0.76698812, 0.31067226, 0.31067226, 0.33961642, 0.33961642])}}"
      ]
     },
     "execution_count": 11,
     "metadata": {},
     "output_type": "execute_result"
    }
   ],
   "source": [
    "ds = load_by_id(run_id_n)\n",
    "ds.get_parameter_data('x1')"
   ]
  },
  {
   "cell_type": "markdown",
   "metadata": {},
   "source": [
    "And a dataset stored as binary arrays"
   ]
  },
  {
   "cell_type": "code",
   "execution_count": 12,
   "metadata": {
    "scrolled": true
   },
   "outputs": [
    {
     "data": {
      "text/plain": [
       "{'x1': {'x1': array([[0.29947343],\n",
       "         [0.29947343],\n",
       "         [0.1047424 ],\n",
       "         [0.1047424 ],\n",
       "         [0.13040249],\n",
       "         [0.13040249],\n",
       "         [0.94680274],\n",
       "         [0.94680274],\n",
       "         [0.5740828 ],\n",
       "         [0.5740828 ],\n",
       "         [0.2852835 ],\n",
       "         [0.2852835 ],\n",
       "         [0.78312511],\n",
       "         [0.78312511],\n",
       "         [0.42648173],\n",
       "         [0.42648173],\n",
       "         [0.37692195],\n",
       "         [0.37692195],\n",
       "         [0.10027875],\n",
       "         [0.10027875],\n",
       "         [0.04745418],\n",
       "         [0.04745418],\n",
       "         [0.34570601],\n",
       "         [0.34570601],\n",
       "         [0.57909595],\n",
       "         [0.57909595],\n",
       "         [0.45334325],\n",
       "         [0.45334325],\n",
       "         [0.57340089],\n",
       "         [0.57340089],\n",
       "         [0.38377014],\n",
       "         [0.38377014],\n",
       "         [0.49928172],\n",
       "         [0.49928172],\n",
       "         [0.18988636],\n",
       "         [0.18988636],\n",
       "         [0.09692017],\n",
       "         [0.09692017],\n",
       "         [0.72501644],\n",
       "         [0.72501644],\n",
       "         [0.41587595],\n",
       "         [0.41587595],\n",
       "         [0.46854578],\n",
       "         [0.46854578],\n",
       "         [0.63499805],\n",
       "         [0.63499805],\n",
       "         [0.63260783],\n",
       "         [0.63260783],\n",
       "         [0.71664569],\n",
       "         [0.71664569],\n",
       "         [0.31176749],\n",
       "         [0.31176749],\n",
       "         [0.37094095],\n",
       "         [0.37094095],\n",
       "         [0.65153486],\n",
       "         [0.65153486],\n",
       "         [0.34858491],\n",
       "         [0.34858491],\n",
       "         [0.53298369],\n",
       "         [0.53298369],\n",
       "         [0.33998664],\n",
       "         [0.33998664],\n",
       "         [0.80304276],\n",
       "         [0.80304276],\n",
       "         [0.81367473],\n",
       "         [0.81367473],\n",
       "         [0.51174608],\n",
       "         [0.51174608],\n",
       "         [0.45973619],\n",
       "         [0.45973619],\n",
       "         [0.57280865],\n",
       "         [0.57280865],\n",
       "         [0.81563306],\n",
       "         [0.81563306],\n",
       "         [0.87250493],\n",
       "         [0.87250493],\n",
       "         [0.23853273],\n",
       "         [0.23853273],\n",
       "         [0.04194291],\n",
       "         [0.04194291],\n",
       "         [0.22456783],\n",
       "         [0.22456783],\n",
       "         [0.9706394 ],\n",
       "         [0.9706394 ],\n",
       "         [0.80995598],\n",
       "         [0.80995598],\n",
       "         [0.1067345 ],\n",
       "         [0.1067345 ],\n",
       "         [0.58297659],\n",
       "         [0.58297659],\n",
       "         [0.30644203],\n",
       "         [0.30644203],\n",
       "         [0.19986377],\n",
       "         [0.19986377],\n",
       "         [0.48343744],\n",
       "         [0.48343744],\n",
       "         [0.0789155 ],\n",
       "         [0.0789155 ],\n",
       "         [0.60040812],\n",
       "         [0.60040812],\n",
       "         [0.73148185],\n",
       "         [0.73148185],\n",
       "         [0.20062357],\n",
       "         [0.20062357],\n",
       "         [0.78843743],\n",
       "         [0.78843743],\n",
       "         [0.16739808],\n",
       "         [0.16739808],\n",
       "         [0.46188369],\n",
       "         [0.46188369],\n",
       "         [0.6492292 ],\n",
       "         [0.6492292 ],\n",
       "         [0.76388692],\n",
       "         [0.76388692],\n",
       "         [0.2457155 ],\n",
       "         [0.2457155 ],\n",
       "         [0.17370177],\n",
       "         [0.17370177],\n",
       "         [0.56285263],\n",
       "         [0.56285263],\n",
       "         [0.67054857],\n",
       "         [0.67054857],\n",
       "         [0.21636096],\n",
       "         [0.21636096],\n",
       "         [0.13831747],\n",
       "         [0.13831747],\n",
       "         [0.44419468],\n",
       "         [0.44419468],\n",
       "         [0.2605472 ],\n",
       "         [0.2605472 ],\n",
       "         [0.93725971],\n",
       "         [0.93725971],\n",
       "         [0.93269804],\n",
       "         [0.93269804],\n",
       "         [0.0813753 ],\n",
       "         [0.0813753 ],\n",
       "         [0.77810463],\n",
       "         [0.77810463],\n",
       "         [0.58949376],\n",
       "         [0.58949376],\n",
       "         [0.01463974],\n",
       "         [0.01463974],\n",
       "         [0.4167117 ],\n",
       "         [0.4167117 ],\n",
       "         [0.98035029],\n",
       "         [0.98035029],\n",
       "         [0.05400519],\n",
       "         [0.05400519],\n",
       "         [0.12664083],\n",
       "         [0.12664083],\n",
       "         [0.2713939 ],\n",
       "         [0.2713939 ],\n",
       "         [0.56255316],\n",
       "         [0.56255316],\n",
       "         [0.82093237],\n",
       "         [0.82093237],\n",
       "         [0.06708713],\n",
       "         [0.06708713],\n",
       "         [0.16171735],\n",
       "         [0.16171735],\n",
       "         [0.61924085],\n",
       "         [0.61924085],\n",
       "         [0.22009339],\n",
       "         [0.22009339],\n",
       "         [0.52199124],\n",
       "         [0.52199124],\n",
       "         [0.54468804],\n",
       "         [0.54468804],\n",
       "         [0.89205577],\n",
       "         [0.89205577],\n",
       "         [0.2501392 ],\n",
       "         [0.2501392 ],\n",
       "         [0.35527978],\n",
       "         [0.35527978],\n",
       "         [0.11305247],\n",
       "         [0.11305247],\n",
       "         [0.61518817],\n",
       "         [0.61518817],\n",
       "         [0.30402935],\n",
       "         [0.30402935],\n",
       "         [0.56640013],\n",
       "         [0.56640013],\n",
       "         [0.61987889],\n",
       "         [0.61987889],\n",
       "         [0.16713614],\n",
       "         [0.16713614],\n",
       "         [0.65157797],\n",
       "         [0.65157797],\n",
       "         [0.71640469],\n",
       "         [0.71640469],\n",
       "         [0.28238699],\n",
       "         [0.28238699],\n",
       "         [0.89649839],\n",
       "         [0.89649839],\n",
       "         [0.83646831],\n",
       "         [0.83646831],\n",
       "         [0.63843099],\n",
       "         [0.63843099],\n",
       "         [0.6848956 ],\n",
       "         [0.6848956 ]])}}"
      ]
     },
     "execution_count": 12,
     "metadata": {},
     "output_type": "execute_result"
    }
   ],
   "source": [
    "ds = load_by_id(run_id_a)\n",
    "ds.get_parameter_data('x1')"
   ]
  },
  {
   "cell_type": "code",
   "execution_count": null,
   "metadata": {},
   "outputs": [],
   "source": []
  }
 ],
 "metadata": {
  "kernelspec": {
   "display_name": "Python 3",
   "language": "python",
   "name": "python3"
  },
  "language_info": {
   "codemirror_mode": {
    "name": "ipython",
    "version": 3
   },
   "file_extension": ".py",
   "mimetype": "text/x-python",
   "name": "python",
   "nbconvert_exporter": "python",
   "pygments_lexer": "ipython3",
   "version": "3.7.5"
  },
  "nbsphinx": {
   "timeout": 600
  },
  "toc": {
   "base_numbering": 1,
   "nav_menu": {},
   "number_sections": true,
   "sideBar": true,
   "skip_h1_title": false,
   "title_cell": "Table of Contents",
   "title_sidebar": "Contents",
   "toc_cell": false,
   "toc_position": {},
   "toc_section_display": true,
   "toc_window_display": false
  },
  "varInspector": {
   "cols": {
    "lenName": 16,
    "lenType": 16,
    "lenVar": 40
   },
   "kernels_config": {
    "python": {
     "delete_cmd_postfix": "",
     "delete_cmd_prefix": "del ",
     "library": "var_list.py",
     "varRefreshCmd": "print(var_dic_list())"
    },
    "r": {
     "delete_cmd_postfix": ") ",
     "delete_cmd_prefix": "rm(",
     "library": "var_list.r",
     "varRefreshCmd": "cat(var_dic_list()) "
    }
   },
   "types_to_exclude": [
    "module",
    "function",
    "builtin_function_or_method",
    "instance",
    "_Feature"
   ],
   "window_display": false
  }
 },
 "nbformat": 4,
 "nbformat_minor": 2
}
