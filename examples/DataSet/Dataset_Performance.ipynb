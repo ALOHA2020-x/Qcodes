{
 "cells": [
  {
   "cell_type": "markdown",
   "metadata": {},
   "source": [
    "# DataSet Performance\n",
    "\n",
    "This notebook shows the trade-off between inserting data into a database row-by-row and as binary blobs. Inserting the data row-by-row means that we have direct access to all the data and may perform queries directly on the values of the data. On the other hand, as we shall see, this is much slower than inserting the data directly as binary blobs."
   ]
  },
  {
   "cell_type": "markdown",
   "metadata": {},
   "source": [
    "First, we choose a new location for the database to ensure that we don't add a bunch of benchmarking data to the default one."
   ]
  },
  {
   "cell_type": "code",
   "execution_count": 1,
   "metadata": {},
   "outputs": [
    {
     "name": "stdout",
     "output_type": "stream",
     "text": [
      "Logging hadn't been started.\n",
      "Activating auto-logging. Current session state plus future input saved.\n",
      "Filename       : /home/vsts/.qcodes/logs/command_history.log\n",
      "Mode           : append\n",
      "Output logging : True\n",
      "Raw input log  : False\n",
      "Timestamping   : True\n",
      "State          : active\n"
     ]
    },
    {
     "name": "stdout",
     "output_type": "stream",
     "text": [
      "Qcodes Logfile : /home/vsts/.qcodes/logs/200316-21613-qcodes.log\n"
     ]
    }
   ],
   "source": [
    "import os\n",
    "cwd = os.getcwd()\n",
    "import qcodes as qc\n",
    "qc.config[\"core\"][\"db_location\"] = os.path.join(cwd, 'testing.db')\n"
   ]
  },
  {
   "cell_type": "code",
   "execution_count": 2,
   "metadata": {},
   "outputs": [],
   "source": [
    "%matplotlib inline\n",
    "import time\n",
    "import matplotlib.pyplot as plt\n",
    "import numpy as np\n",
    "\n",
    "import qcodes as qc\n",
    "from qcodes.instrument.parameter import ManualParameter\n",
    "from qcodes.dataset.experiment_container import (Experiment,\n",
    "                                                 load_last_experiment,\n",
    "                                                 new_experiment)\n",
    "from qcodes.dataset.sqlite.database import initialise_database\n",
    "from qcodes import load_or_create_experiment\n",
    "from qcodes.dataset.measurements import Measurement"
   ]
  },
  {
   "cell_type": "code",
   "execution_count": 3,
   "metadata": {},
   "outputs": [
    {
     "name": "stdout",
     "output_type": "stream",
     "text": [
      "\r",
      "0it [00:00, ?it/s]"
     ]
    },
    {
     "name": "stdout",
     "output_type": "stream",
     "text": [
      "\r",
      "Upgrading database; v0 -> v1: : 0it [00:00, ?it/s]"
     ]
    },
    {
     "name": "stdout",
     "output_type": "stream",
     "text": [
      "\r",
      "Upgrading database; v0 -> v1: : 0it [00:00, ?it/s]"
     ]
    },
    {
     "name": "stdout",
     "output_type": "stream",
     "text": [
      "\n",
      "\r",
      "  0%|          | 0/1 [00:00<?, ?it/s]"
     ]
    },
    {
     "name": "stdout",
     "output_type": "stream",
     "text": [
      "\r",
      "Upgrading database; v1 -> v2:   0%|          | 0/1 [00:00<?, ?it/s]"
     ]
    },
    {
     "name": "stdout",
     "output_type": "stream",
     "text": [
      "\r",
      "Upgrading database; v1 -> v2: 100%|██████████| 1/1 [00:00<00:00, 908.84it/s]"
     ]
    },
    {
     "name": "stdout",
     "output_type": "stream",
     "text": [
      "\n",
      "\r",
      "0it [00:00, ?it/s]"
     ]
    },
    {
     "name": "stdout",
     "output_type": "stream",
     "text": [
      "\r",
      "Upgrading database; v2 -> v3: : 0it [00:00, ?it/s]"
     ]
    },
    {
     "name": "stdout",
     "output_type": "stream",
     "text": [
      "\r",
      "Upgrading database; v2 -> v3: : 0it [00:00, ?it/s]"
     ]
    },
    {
     "name": "stdout",
     "output_type": "stream",
     "text": [
      "\n",
      "\r",
      "0it [00:00, ?it/s]"
     ]
    },
    {
     "name": "stdout",
     "output_type": "stream",
     "text": [
      "\r",
      "Upgrading database; v3 -> v4: : 0it [00:00, ?it/s]"
     ]
    },
    {
     "name": "stdout",
     "output_type": "stream",
     "text": [
      "\r",
      "Upgrading database; v3 -> v4: : 0it [00:00, ?it/s]"
     ]
    },
    {
     "name": "stdout",
     "output_type": "stream",
     "text": [
      "\n",
      "\r",
      "  0%|          | 0/1 [00:00<?, ?it/s]"
     ]
    },
    {
     "name": "stdout",
     "output_type": "stream",
     "text": [
      "\r",
      "Upgrading database; v4 -> v5:   0%|          | 0/1 [00:00<?, ?it/s]"
     ]
    },
    {
     "name": "stdout",
     "output_type": "stream",
     "text": [
      "\r",
      "Upgrading database; v4 -> v5: 100%|██████████| 1/1 [00:00<00:00, 1036.40it/s]"
     ]
    },
    {
     "name": "stdout",
     "output_type": "stream",
     "text": [
      "\n",
      "\r",
      "0it [00:00, ?it/s]"
     ]
    },
    {
     "name": "stdout",
     "output_type": "stream",
     "text": [
      "\r",
      "Upgrading database; v5 -> v6: : 0it [00:00, ?it/s]"
     ]
    },
    {
     "name": "stdout",
     "output_type": "stream",
     "text": [
      "\r",
      "Upgrading database; v5 -> v6: : 0it [00:00, ?it/s]"
     ]
    },
    {
     "name": "stdout",
     "output_type": "stream",
     "text": [
      "\n",
      "\r",
      "  0%|          | 0/1 [00:00<?, ?it/s]"
     ]
    },
    {
     "name": "stdout",
     "output_type": "stream",
     "text": [
      "\r",
      "Upgrading database; v6 -> v7:   0%|          | 0/1 [00:00<?, ?it/s]"
     ]
    },
    {
     "name": "stdout",
     "output_type": "stream",
     "text": [
      "\r",
      "Upgrading database; v6 -> v7: 100%|██████████| 1/1 [00:00<00:00, 457.89it/s]"
     ]
    },
    {
     "name": "stdout",
     "output_type": "stream",
     "text": [
      "\n",
      "\r",
      "  0%|          | 0/1 [00:00<?, ?it/s]"
     ]
    },
    {
     "name": "stdout",
     "output_type": "stream",
     "text": [
      "\r",
      "Upgrading database; v7 -> v8:   0%|          | 0/1 [00:00<?, ?it/s]"
     ]
    },
    {
     "name": "stdout",
     "output_type": "stream",
     "text": [
      "\r",
      "Upgrading database; v7 -> v8: 100%|██████████| 1/1 [00:00<00:00, 736.75it/s]"
     ]
    },
    {
     "name": "stdout",
     "output_type": "stream",
     "text": [
      "\n",
      "\r",
      "  0%|          | 0/1 [00:00<?, ?it/s]"
     ]
    },
    {
     "name": "stdout",
     "output_type": "stream",
     "text": [
      "\r",
      "Upgrading database; v8 -> v9:   0%|          | 0/1 [00:00<?, ?it/s]"
     ]
    },
    {
     "name": "stdout",
     "output_type": "stream",
     "text": [
      "\r",
      "Upgrading database; v8 -> v9: 100%|██████████| 1/1 [00:00<00:00, 865.16it/s]"
     ]
    },
    {
     "name": "stdout",
     "output_type": "stream",
     "text": [
      "\n"
     ]
    }
   ],
   "source": [
    "initialise_database()\n",
    "exp = load_or_create_experiment(experiment_name='tutorial_exp', sample_name=\"no sample\")"
   ]
  },
  {
   "cell_type": "markdown",
   "metadata": {},
   "source": [
    "Here, we define a simple function to benchmark the time it takes to insert n points with either numeric or array data type.\n",
    "We will compare both the time used to call ``add_result`` and the time used for the full measurement."
   ]
  },
  {
   "cell_type": "code",
   "execution_count": 4,
   "metadata": {},
   "outputs": [],
   "source": [
    "def insert_data(paramtype, npoints, nreps=1):\n",
    "\n",
    "    meas = Measurement(exp=exp)\n",
    "\n",
    "    x1 = ManualParameter('x1')\n",
    "    x2 = ManualParameter('x2')\n",
    "    x3 = ManualParameter('x3')\n",
    "    y1 = ManualParameter('y1')\n",
    "    y2 = ManualParameter('y2')\n",
    "\n",
    "    meas.register_parameter(x1, paramtype=paramtype)\n",
    "    meas.register_parameter(x2, paramtype=paramtype)\n",
    "    meas.register_parameter(x3, paramtype=paramtype)\n",
    "    meas.register_parameter(y1, setpoints=[x1, x2, x3],\n",
    "                            paramtype=paramtype)\n",
    "    meas.register_parameter(y2, setpoints=[x1, x2, x3],\n",
    "                            paramtype=paramtype)\n",
    "    start = time.perf_counter()\n",
    "    with meas.run() as datasaver:\n",
    "        start_adding = time.perf_counter()\n",
    "        for i in range(nreps):\n",
    "            datasaver.add_result((x1, np.random.rand(npoints)),\n",
    "                                 (x2, np.random.rand(npoints)),\n",
    "                                 (x3, np.random.rand(npoints)),\n",
    "                                 (y1, np.random.rand(npoints)),\n",
    "                                 (y2, np.random.rand(npoints)))\n",
    "        stop_adding = time.perf_counter()\n",
    "        run_id = datasaver.run_id\n",
    "    stop = time.perf_counter()\n",
    "    tot_time = stop - start\n",
    "    add_time = stop_adding - start_adding\n",
    "    return tot_time, add_time, run_id"
   ]
  },
  {
   "cell_type": "markdown",
   "metadata": {},
   "source": [
    "## Comparison between numeric/array data and binary blob"
   ]
  },
  {
   "cell_type": "markdown",
   "metadata": {},
   "source": [
    "### Case1: Short experiment time"
   ]
  },
  {
   "cell_type": "code",
   "execution_count": 5,
   "metadata": {},
   "outputs": [
    {
     "name": "stdout",
     "output_type": "stream",
     "text": [
      "Starting experimental run with id: 1. \n",
      "Starting experimental run with id: 2. \n",
      "Starting experimental run with id: 3. \n",
      "Starting experimental run with id: 4. \n"
     ]
    },
    {
     "name": "stdout",
     "output_type": "stream",
     "text": [
      "Starting experimental run with id: 5. \n"
     ]
    },
    {
     "name": "stdout",
     "output_type": "stream",
     "text": [
      "Starting experimental run with id: 6. \n",
      "Starting experimental run with id: 7. \n"
     ]
    },
    {
     "name": "stdout",
     "output_type": "stream",
     "text": [
      "Starting experimental run with id: 8. \n"
     ]
    },
    {
     "name": "stdout",
     "output_type": "stream",
     "text": [
      "Starting experimental run with id: 9. \n"
     ]
    },
    {
     "name": "stdout",
     "output_type": "stream",
     "text": [
      "Starting experimental run with id: 10. \n",
      "Starting experimental run with id: 11. \n"
     ]
    },
    {
     "name": "stdout",
     "output_type": "stream",
     "text": [
      "Starting experimental run with id: 12. \n",
      "Starting experimental run with id: 13. \n"
     ]
    },
    {
     "name": "stdout",
     "output_type": "stream",
     "text": [
      "Starting experimental run with id: 14. \n"
     ]
    }
   ],
   "source": [
    "sizes = [1,500,1000,2000,3000,4000,5000]\n",
    "t_numeric = []\n",
    "t_numeric_add = []\n",
    "t_array = []\n",
    "t_array_add = []\n",
    "for size in sizes:\n",
    "    tn, tna, run_id_n =  insert_data('numeric', size)\n",
    "    t_numeric.append(tn)\n",
    "    t_numeric_add.append(tna)\n",
    "\n",
    "    ta, taa, run_id_a =  insert_data('array', size)\n",
    "    t_array.append(ta)\n",
    "    t_array_add.append(taa)"
   ]
  },
  {
   "cell_type": "code",
   "execution_count": 6,
   "metadata": {},
   "outputs": [
    {
     "data": {
      "image/png": "[encoded data removed]",
      "text/plain": [
       "<Figure size 432x288 with 1 Axes>"
      ]
     },
     "metadata": {
      "needs_background": "light"
     },
     "output_type": "display_data"
    }
   ],
   "source": [
    "fig, ax = plt.subplots(1,1)\n",
    "ax.plot(sizes, t_numeric, 'o-', label='Inserting row-by-row')\n",
    "ax.plot(sizes, t_numeric_add, 'o-', label='Inserting row-by-row: add_result only')\n",
    "ax.plot(sizes, t_array, 'd-', label='Inserting as binary blob')\n",
    "ax.plot(sizes, t_array_add, 'd-', label='Inserting as binary blob: add_result only')\n",
    "ax.legend()\n",
    "ax.set_xlabel('Array length')\n",
    "ax.set_ylabel('Time (s)')\n",
    "fig.tight_layout()"
   ]
  },
  {
   "cell_type": "markdown",
   "metadata": {},
   "source": [
    "As shown in the latter figure, the time to setup and and close the experiment is approximately 0.4 sec. In case of small array sizes, the difference between inserting values of data as arrays and inserting them row-by-row is relatively unimportant. At larger array sizes, i.e. above 10000 points, the cost of writing data as individual datapoints starts to become important.\n"
   ]
  },
  {
   "cell_type": "markdown",
   "metadata": {},
   "source": [
    "### Case2: Long experiment time "
   ]
  },
  {
   "cell_type": "code",
   "execution_count": 7,
   "metadata": {},
   "outputs": [
    {
     "name": "stdout",
     "output_type": "stream",
     "text": [
      "Starting experimental run with id: 15. \n",
      "Starting experimental run with id: 16. \n",
      "Starting experimental run with id: 17. \n"
     ]
    },
    {
     "name": "stdout",
     "output_type": "stream",
     "text": [
      "Starting experimental run with id: 18. \n",
      "Starting experimental run with id: 19. \n"
     ]
    },
    {
     "name": "stdout",
     "output_type": "stream",
     "text": [
      "Starting experimental run with id: 20. \n"
     ]
    },
    {
     "name": "stdout",
     "output_type": "stream",
     "text": [
      "Starting experimental run with id: 21. \n"
     ]
    },
    {
     "name": "stdout",
     "output_type": "stream",
     "text": [
      "Starting experimental run with id: 22. \n"
     ]
    },
    {
     "name": "stdout",
     "output_type": "stream",
     "text": [
      "Starting experimental run with id: 23. \n"
     ]
    },
    {
     "name": "stdout",
     "output_type": "stream",
     "text": [
      "Starting experimental run with id: 24. \n"
     ]
    },
    {
     "name": "stdout",
     "output_type": "stream",
     "text": [
      "Starting experimental run with id: 25. \n"
     ]
    },
    {
     "name": "stdout",
     "output_type": "stream",
     "text": [
      "Starting experimental run with id: 26. \n"
     ]
    },
    {
     "name": "stdout",
     "output_type": "stream",
     "text": [
      "Starting experimental run with id: 27. \n"
     ]
    },
    {
     "name": "stdout",
     "output_type": "stream",
     "text": [
      "Starting experimental run with id: 28. \n"
     ]
    }
   ],
   "source": [
    "sizes = [1,500,1000,2000,3000,4000,5000]\n",
    "nreps = 100\n",
    "t_numeric = []\n",
    "t_numeric_add = []\n",
    "t_numeric_run_ids = []\n",
    "t_array = []\n",
    "t_array_add = []\n",
    "t_array_run_ids = []\n",
    "for size in sizes:\n",
    "    tn, tna, run_id_n =  insert_data('numeric', size, nreps=nreps)\n",
    "    t_numeric.append(tn)\n",
    "    t_numeric_add.append(tna)\n",
    "    t_numeric_run_ids.append(run_id_n)\n",
    "\n",
    "    ta, taa, run_id_a =  insert_data('array', size, nreps=nreps)\n",
    "    t_array.append(ta)\n",
    "    t_array_add.append(taa)\n",
    "    t_array_run_ids.append(run_id_a)"
   ]
  },
  {
   "cell_type": "code",
   "execution_count": 8,
   "metadata": {
    "scrolled": true
   },
   "outputs": [
    {
     "data": {
      "image/png": "[encoded data removed]",
      "text/plain": [
       "<Figure size 432x288 with 1 Axes>"
      ]
     },
     "metadata": {
      "needs_background": "light"
     },
     "output_type": "display_data"
    }
   ],
   "source": [
    "fig, ax = plt.subplots(1,1)\n",
    "ax.plot(sizes, t_numeric, 'o-', label='Inserting row-by-row')\n",
    "ax.plot(sizes, t_numeric_add, 'o-', label='Inserting row-by-row: add_result only')\n",
    "ax.plot(sizes, t_array, 'd-', label='Inserting as binary blob')\n",
    "ax.plot(sizes, t_array_add, 'd-', label='Inserting as binary blob: add_result only')\n",
    "ax.legend()\n",
    "ax.set_xlabel('Array length')\n",
    "ax.set_ylabel('Time (s)')\n",
    "fig.tight_layout()"
   ]
  },
  {
   "cell_type": "markdown",
   "metadata": {},
   "source": [
    "However, as we increase the length of the experiment, as seen here by repeating the insertion 100 times, we see a big difference between inserting values of the data row-by-row and inserting it as a binary blob."
   ]
  },
  {
   "cell_type": "markdown",
   "metadata": {},
   "source": [
    "## Loading the data "
   ]
  },
  {
   "cell_type": "code",
   "execution_count": 9,
   "metadata": {},
   "outputs": [],
   "source": [
    "from qcodes.dataset.data_set import load_by_id\n",
    "from qcodes.dataset.data_export import get_data_by_id"
   ]
  },
  {
   "cell_type": "markdown",
   "metadata": {},
   "source": [
    "As usual you can load the data by using the ``load_by_id`` function but you will notice that the different storage methods\n",
    "are reflected in shape of the data as it is retrieved. "
   ]
  },
  {
   "cell_type": "code",
   "execution_count": 10,
   "metadata": {},
   "outputs": [],
   "source": [
    "run_id_n = t_numeric_run_ids[0]\n",
    "run_id_a = t_array_run_ids[0]"
   ]
  },
  {
   "cell_type": "code",
   "execution_count": 11,
   "metadata": {
    "scrolled": true
   },
   "outputs": [
    {
     "data": {
      "text/plain": [
       "{'x1': {'x1': array([0.19133918, 0.19133918, 0.86172556, 0.86172556, 0.07112549,\n",
       "         0.07112549, 0.67012728, 0.67012728, 0.43505838, 0.43505838,\n",
       "         0.37155094, 0.37155094, 0.82471485, 0.82471485, 0.4110261 ,\n",
       "         0.4110261 , 0.06042643, 0.06042643, 0.38655146, 0.38655146,\n",
       "         0.81532957, 0.81532957, 0.08475993, 0.08475993, 0.99253542,\n",
       "         0.99253542, 0.91808057, 0.91808057, 0.97340197, 0.97340197,\n",
       "         0.5344247 , 0.5344247 , 0.22526989, 0.22526989, 0.60000233,\n",
       "         0.60000233, 0.751051  , 0.751051  , 0.60632446, 0.60632446,\n",
       "         0.95256944, 0.95256944, 0.37439055, 0.37439055, 0.44297792,\n",
       "         0.44297792, 0.8918921 , 0.8918921 , 0.47998603, 0.47998603,\n",
       "         0.68449133, 0.68449133, 0.80865715, 0.80865715, 0.00792084,\n",
       "         0.00792084, 0.21058137, 0.21058137, 0.31694782, 0.31694782,\n",
       "         0.95684417, 0.95684417, 0.20688772, 0.20688772, 0.56243236,\n",
       "         0.56243236, 0.73439914, 0.73439914, 0.22049446, 0.22049446,\n",
       "         0.2926814 , 0.2926814 , 0.29801074, 0.29801074, 0.90133691,\n",
       "         0.90133691, 0.50091204, 0.50091204, 0.18639709, 0.18639709,\n",
       "         0.28169517, 0.28169517, 0.00359898, 0.00359898, 0.75292682,\n",
       "         0.75292682, 0.09187206, 0.09187206, 0.67771436, 0.67771436,\n",
       "         0.85913428, 0.85913428, 0.28448057, 0.28448057, 0.52711085,\n",
       "         0.52711085, 0.52688902, 0.52688902, 0.97155512, 0.97155512,\n",
       "         0.74369577, 0.74369577, 0.01294324, 0.01294324, 0.09929427,\n",
       "         0.09929427, 0.89664528, 0.89664528, 0.28475863, 0.28475863,\n",
       "         0.93376034, 0.93376034, 0.46914831, 0.46914831, 0.17641135,\n",
       "         0.17641135, 0.41102615, 0.41102615, 0.22524303, 0.22524303,\n",
       "         0.02975244, 0.02975244, 0.74635921, 0.74635921, 0.27155055,\n",
       "         0.27155055, 0.31121738, 0.31121738, 0.76194678, 0.76194678,\n",
       "         0.94152723, 0.94152723, 0.6942122 , 0.6942122 , 0.84649709,\n",
       "         0.84649709, 0.8508654 , 0.8508654 , 0.75643547, 0.75643547,\n",
       "         0.18511615, 0.18511615, 0.78204997, 0.78204997, 0.85758463,\n",
       "         0.85758463, 0.13802035, 0.13802035, 0.58014602, 0.58014602,\n",
       "         0.14903281, 0.14903281, 0.8042917 , 0.8042917 , 0.22504532,\n",
       "         0.22504532, 0.98170525, 0.98170525, 0.43084878, 0.43084878,\n",
       "         0.32706649, 0.32706649, 0.22142367, 0.22142367, 0.83328944,\n",
       "         0.83328944, 0.82457016, 0.82457016, 0.81814051, 0.81814051,\n",
       "         0.09278097, 0.09278097, 0.99863888, 0.99863888, 0.03775199,\n",
       "         0.03775199, 0.72551   , 0.72551   , 0.77694999, 0.77694999,\n",
       "         0.89624252, 0.89624252, 0.7597411 , 0.7597411 , 0.50201696,\n",
       "         0.50201696, 0.73200914, 0.73200914, 0.89047425, 0.89047425,\n",
       "         0.12371962, 0.12371962, 0.9841881 , 0.9841881 , 0.956391  ,\n",
       "         0.956391  , 0.38412635, 0.38412635, 0.46715251, 0.46715251])}}"
      ]
     },
     "execution_count": 11,
     "metadata": {},
     "output_type": "execute_result"
    }
   ],
   "source": [
    "ds = load_by_id(run_id_n)\n",
    "ds.get_parameter_data('x1')"
   ]
  },
  {
   "cell_type": "markdown",
   "metadata": {},
   "source": [
    "And a dataset stored as binary arrays"
   ]
  },
  {
   "cell_type": "code",
   "execution_count": 12,
   "metadata": {
    "scrolled": true
   },
   "outputs": [
    {
     "data": {
      "text/plain": [
       "{'x1': {'x1': array([[0.99320794],\n",
       "         [0.99320794],\n",
       "         [0.26810034],\n",
       "         [0.26810034],\n",
       "         [0.7732678 ],\n",
       "         [0.7732678 ],\n",
       "         [0.08600515],\n",
       "         [0.08600515],\n",
       "         [0.5868824 ],\n",
       "         [0.5868824 ],\n",
       "         [0.8489907 ],\n",
       "         [0.8489907 ],\n",
       "         [0.44322274],\n",
       "         [0.44322274],\n",
       "         [0.43001374],\n",
       "         [0.43001374],\n",
       "         [0.42715677],\n",
       "         [0.42715677],\n",
       "         [0.0706397 ],\n",
       "         [0.0706397 ],\n",
       "         [0.01805104],\n",
       "         [0.01805104],\n",
       "         [0.52576271],\n",
       "         [0.52576271],\n",
       "         [0.94743351],\n",
       "         [0.94743351],\n",
       "         [0.53077619],\n",
       "         [0.53077619],\n",
       "         [0.55708699],\n",
       "         [0.55708699],\n",
       "         [0.48425079],\n",
       "         [0.48425079],\n",
       "         [0.70342097],\n",
       "         [0.70342097],\n",
       "         [0.44004715],\n",
       "         [0.44004715],\n",
       "         [0.40826028],\n",
       "         [0.40826028],\n",
       "         [0.05253943],\n",
       "         [0.05253943],\n",
       "         [0.55103   ],\n",
       "         [0.55103   ],\n",
       "         [0.38345645],\n",
       "         [0.38345645],\n",
       "         [0.21968   ],\n",
       "         [0.21968   ],\n",
       "         [0.21546745],\n",
       "         [0.21546745],\n",
       "         [0.5458385 ],\n",
       "         [0.5458385 ],\n",
       "         [0.39979528],\n",
       "         [0.39979528],\n",
       "         [0.40086012],\n",
       "         [0.40086012],\n",
       "         [0.57425667],\n",
       "         [0.57425667],\n",
       "         [0.6384807 ],\n",
       "         [0.6384807 ],\n",
       "         [0.97798864],\n",
       "         [0.97798864],\n",
       "         [0.92923029],\n",
       "         [0.92923029],\n",
       "         [0.81576724],\n",
       "         [0.81576724],\n",
       "         [0.94462409],\n",
       "         [0.94462409],\n",
       "         [0.91264948],\n",
       "         [0.91264948],\n",
       "         [0.34120947],\n",
       "         [0.34120947],\n",
       "         [0.06137784],\n",
       "         [0.06137784],\n",
       "         [0.43332891],\n",
       "         [0.43332891],\n",
       "         [0.08008192],\n",
       "         [0.08008192],\n",
       "         [0.35076968],\n",
       "         [0.35076968],\n",
       "         [0.82257039],\n",
       "         [0.82257039],\n",
       "         [0.64169518],\n",
       "         [0.64169518],\n",
       "         [0.50955166],\n",
       "         [0.50955166],\n",
       "         [0.55809131],\n",
       "         [0.55809131],\n",
       "         [0.29361421],\n",
       "         [0.29361421],\n",
       "         [0.89507523],\n",
       "         [0.89507523],\n",
       "         [0.06855925],\n",
       "         [0.06855925],\n",
       "         [0.71840231],\n",
       "         [0.71840231],\n",
       "         [0.67055782],\n",
       "         [0.67055782],\n",
       "         [0.32169894],\n",
       "         [0.32169894],\n",
       "         [0.70972637],\n",
       "         [0.70972637],\n",
       "         [0.83093229],\n",
       "         [0.83093229],\n",
       "         [0.36895011],\n",
       "         [0.36895011],\n",
       "         [0.95670405],\n",
       "         [0.95670405],\n",
       "         [0.38845207],\n",
       "         [0.38845207],\n",
       "         [0.94359812],\n",
       "         [0.94359812],\n",
       "         [0.28465671],\n",
       "         [0.28465671],\n",
       "         [0.41754229],\n",
       "         [0.41754229],\n",
       "         [0.86442441],\n",
       "         [0.86442441],\n",
       "         [0.31328839],\n",
       "         [0.31328839],\n",
       "         [0.32766675],\n",
       "         [0.32766675],\n",
       "         [0.26644156],\n",
       "         [0.26644156],\n",
       "         [0.20330464],\n",
       "         [0.20330464],\n",
       "         [0.886012  ],\n",
       "         [0.886012  ],\n",
       "         [0.06276097],\n",
       "         [0.06276097],\n",
       "         [0.57942504],\n",
       "         [0.57942504],\n",
       "         [0.11616521],\n",
       "         [0.11616521],\n",
       "         [0.40635591],\n",
       "         [0.40635591],\n",
       "         [0.4096041 ],\n",
       "         [0.4096041 ],\n",
       "         [0.73618716],\n",
       "         [0.73618716],\n",
       "         [0.85475153],\n",
       "         [0.85475153],\n",
       "         [0.33088752],\n",
       "         [0.33088752],\n",
       "         [0.43312498],\n",
       "         [0.43312498],\n",
       "         [0.19205806],\n",
       "         [0.19205806],\n",
       "         [0.32156212],\n",
       "         [0.32156212],\n",
       "         [0.12542856],\n",
       "         [0.12542856],\n",
       "         [0.40989604],\n",
       "         [0.40989604],\n",
       "         [0.51341586],\n",
       "         [0.51341586],\n",
       "         [0.25131889],\n",
       "         [0.25131889],\n",
       "         [0.0257158 ],\n",
       "         [0.0257158 ],\n",
       "         [0.59342218],\n",
       "         [0.59342218],\n",
       "         [0.90361836],\n",
       "         [0.90361836],\n",
       "         [0.60653644],\n",
       "         [0.60653644],\n",
       "         [0.62898716],\n",
       "         [0.62898716],\n",
       "         [0.08909347],\n",
       "         [0.08909347],\n",
       "         [0.27046365],\n",
       "         [0.27046365],\n",
       "         [0.67004012],\n",
       "         [0.67004012],\n",
       "         [0.92570392],\n",
       "         [0.92570392],\n",
       "         [0.52463634],\n",
       "         [0.52463634],\n",
       "         [0.96340994],\n",
       "         [0.96340994],\n",
       "         [0.47578971],\n",
       "         [0.47578971],\n",
       "         [0.73631805],\n",
       "         [0.73631805],\n",
       "         [0.6083105 ],\n",
       "         [0.6083105 ],\n",
       "         [0.20397516],\n",
       "         [0.20397516],\n",
       "         [0.91755742],\n",
       "         [0.91755742],\n",
       "         [0.65698979],\n",
       "         [0.65698979],\n",
       "         [0.86833218],\n",
       "         [0.86833218],\n",
       "         [0.43202962],\n",
       "         [0.43202962],\n",
       "         [0.6114726 ],\n",
       "         [0.6114726 ],\n",
       "         [0.09948107],\n",
       "         [0.09948107],\n",
       "         [0.89284356],\n",
       "         [0.89284356]])}}"
      ]
     },
     "execution_count": 12,
     "metadata": {},
     "output_type": "execute_result"
    }
   ],
   "source": [
    "ds = load_by_id(run_id_a)\n",
    "ds.get_parameter_data('x1')"
   ]
  },
  {
   "cell_type": "code",
   "execution_count": null,
   "metadata": {},
   "outputs": [],
   "source": []
  }
 ],
 "metadata": {
  "kernelspec": {
   "display_name": "Python 3",
   "language": "python",
   "name": "python3"
  },
  "language_info": {
   "codemirror_mode": {
    "name": "ipython",
    "version": 3
   },
   "file_extension": ".py",
   "mimetype": "text/x-python",
   "name": "python",
   "nbconvert_exporter": "python",
   "pygments_lexer": "ipython3",
   "version": "3.7.5"
  },
  "nbsphinx": {
   "timeout": 600
  },
  "toc": {
   "base_numbering": 1,
   "nav_menu": {},
   "number_sections": true,
   "sideBar": true,
   "skip_h1_title": false,
   "title_cell": "Table of Contents",
   "title_sidebar": "Contents",
   "toc_cell": false,
   "toc_position": {},
   "toc_section_display": true,
   "toc_window_display": false
  },
  "varInspector": {
   "cols": {
    "lenName": 16,
    "lenType": 16,
    "lenVar": 40
   },
   "kernels_config": {
    "python": {
     "delete_cmd_postfix": "",
     "delete_cmd_prefix": "del ",
     "library": "var_list.py",
     "varRefreshCmd": "print(var_dic_list())"
    },
    "r": {
     "delete_cmd_postfix": ") ",
     "delete_cmd_prefix": "rm(",
     "library": "var_list.r",
     "varRefreshCmd": "cat(var_dic_list()) "
    }
   },
   "types_to_exclude": [
    "module",
    "function",
    "builtin_function_or_method",
    "instance",
    "_Feature"
   ],
   "window_display": false
  }
 },
 "nbformat": 4,
 "nbformat_minor": 2
}
