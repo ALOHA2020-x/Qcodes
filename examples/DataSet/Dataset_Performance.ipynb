{
 "cells": [
  {
   "cell_type": "markdown",
   "metadata": {},
   "source": [
    "# DataSet Performance\n",
    "\n",
    "This notebook shows the trade-off between inserting data into a database row-by-row and as binary blobs. Inserting the data row-by-row means that we have direct access to all the data and may perform queries directly on the values of the data. On the other hand, as we shall see, this is much slower than inserting the data directly as binary blobs."
   ]
  },
  {
   "cell_type": "markdown",
   "metadata": {},
   "source": [
    "First, we choose a new location for the database to ensure that we don't add a bunch of benchmarking data to the default one."
   ]
  },
  {
   "cell_type": "code",
   "execution_count": 1,
   "metadata": {
    "execution": {
     "iopub.execute_input": "2020-11-01T20:16:51.829961Z",
     "iopub.status.busy": "2020-11-01T20:16:51.829324Z",
     "iopub.status.idle": "2020-11-01T20:16:52.924632Z",
     "shell.execute_reply": "2020-11-01T20:16:52.925153Z"
    }
   },
   "outputs": [
    {
     "name": "stdout",
     "output_type": "stream",
     "text": [
      "Logging hadn't been started.\n",
      "Activating auto-logging. Current session state plus future input saved.\n",
      "Filename       : /home/vsts/.qcodes/logs/command_history.log\n",
      "Mode           : append\n",
      "Output logging : True\n",
      "Raw input log  : False\n",
      "Timestamping   : True\n",
      "State          : active\n"
     ]
    },
    {
     "name": "stdout",
     "output_type": "stream",
     "text": [
      "Qcodes Logfile : /home/vsts/.qcodes/logs/201101-15011-qcodes.log\n"
     ]
    }
   ],
   "source": [
    "import os\n",
    "cwd = os.getcwd()\n",
    "import qcodes as qc\n",
    "qc.config[\"core\"][\"db_location\"] = os.path.join(cwd, 'testing.db')\n"
   ]
  },
  {
   "cell_type": "code",
   "execution_count": 2,
   "metadata": {
    "execution": {
     "iopub.execute_input": "2020-11-01T20:16:52.932300Z",
     "iopub.status.busy": "2020-11-01T20:16:52.931660Z",
     "iopub.status.idle": "2020-11-01T20:16:53.130854Z",
     "shell.execute_reply": "2020-11-01T20:16:53.130187Z"
    }
   },
   "outputs": [],
   "source": [
    "%matplotlib inline\n",
    "import time\n",
    "import matplotlib.pyplot as plt\n",
    "import numpy as np\n",
    "\n",
    "import qcodes as qc\n",
    "from qcodes.instrument.parameter import ManualParameter\n",
    "from qcodes.dataset.experiment_container import (Experiment,\n",
    "                                                 load_last_experiment,\n",
    "                                                 new_experiment)\n",
    "from qcodes.dataset.sqlite.database import initialise_database\n",
    "from qcodes import load_or_create_experiment\n",
    "from qcodes.dataset.measurements import Measurement"
   ]
  },
  {
   "cell_type": "code",
   "execution_count": 3,
   "metadata": {
    "execution": {
     "iopub.execute_input": "2020-11-01T20:16:53.134947Z",
     "iopub.status.busy": "2020-11-01T20:16:53.134147Z",
     "iopub.status.idle": "2020-11-01T20:16:53.260856Z",
     "shell.execute_reply": "2020-11-01T20:16:53.260268Z"
    }
   },
   "outputs": [
    {
     "name": "stdout",
     "output_type": "stream",
     "text": [
      "\r",
      "0it [00:00, ?it/s]"
     ]
    },
    {
     "name": "stdout",
     "output_type": "stream",
     "text": [
      "\r",
      "Upgrading database; v0 -> v1: : 0it [00:00, ?it/s]"
     ]
    },
    {
     "name": "stdout",
     "output_type": "stream",
     "text": [
      "\r",
      "Upgrading database; v0 -> v1: : 0it [00:00, ?it/s]"
     ]
    },
    {
     "name": "stdout",
     "output_type": "stream",
     "text": [
      "\n",
      "\r",
      "  0%|          | 0/1 [00:00<?, ?it/s]"
     ]
    },
    {
     "name": "stdout",
     "output_type": "stream",
     "text": [
      "\r",
      "Upgrading database; v1 -> v2:   0%|          | 0/1 [00:00<?, ?it/s]"
     ]
    },
    {
     "name": "stdout",
     "output_type": "stream",
     "text": [
      "\r",
      "Upgrading database; v1 -> v2: 100%|██████████| 1/1 [00:00<00:00, 576.62it/s]"
     ]
    },
    {
     "name": "stdout",
     "output_type": "stream",
     "text": [
      "\n",
      "\r",
      "0it [00:00, ?it/s]"
     ]
    },
    {
     "name": "stdout",
     "output_type": "stream",
     "text": [
      "\r",
      "Upgrading database; v2 -> v3: : 0it [00:00, ?it/s]"
     ]
    },
    {
     "name": "stdout",
     "output_type": "stream",
     "text": [
      "\r",
      "Upgrading database; v2 -> v3: : 0it [00:00, ?it/s]"
     ]
    },
    {
     "name": "stdout",
     "output_type": "stream",
     "text": [
      "\n",
      "\r",
      "0it [00:00, ?it/s]"
     ]
    },
    {
     "name": "stdout",
     "output_type": "stream",
     "text": [
      "\r",
      "Upgrading database; v3 -> v4: : 0it [00:00, ?it/s]"
     ]
    },
    {
     "name": "stdout",
     "output_type": "stream",
     "text": [
      "\r",
      "Upgrading database; v3 -> v4: : 0it [00:00, ?it/s]"
     ]
    },
    {
     "name": "stdout",
     "output_type": "stream",
     "text": [
      "\n",
      "\r",
      "  0%|          | 0/1 [00:00<?, ?it/s]"
     ]
    },
    {
     "name": "stdout",
     "output_type": "stream",
     "text": [
      "\r",
      "Upgrading database; v4 -> v5:   0%|          | 0/1 [00:00<?, ?it/s]"
     ]
    },
    {
     "name": "stdout",
     "output_type": "stream",
     "text": [
      "\r",
      "Upgrading database; v4 -> v5: 100%|██████████| 1/1 [00:00<00:00, 969.11it/s]"
     ]
    },
    {
     "name": "stdout",
     "output_type": "stream",
     "text": [
      "\n",
      "\r",
      "0it [00:00, ?it/s]"
     ]
    },
    {
     "name": "stdout",
     "output_type": "stream",
     "text": [
      "\r",
      "Upgrading database; v5 -> v6: : 0it [00:00, ?it/s]"
     ]
    },
    {
     "name": "stdout",
     "output_type": "stream",
     "text": [
      "\r",
      "Upgrading database; v5 -> v6: : 0it [00:00, ?it/s]"
     ]
    },
    {
     "name": "stdout",
     "output_type": "stream",
     "text": [
      "\n",
      "\r",
      "  0%|          | 0/1 [00:00<?, ?it/s]"
     ]
    },
    {
     "name": "stdout",
     "output_type": "stream",
     "text": [
      "\r",
      "Upgrading database; v6 -> v7:   0%|          | 0/1 [00:00<?, ?it/s]"
     ]
    },
    {
     "name": "stdout",
     "output_type": "stream",
     "text": [
      "\r",
      "Upgrading database; v6 -> v7: 100%|██████████| 1/1 [00:00<00:00, 274.37it/s]"
     ]
    },
    {
     "name": "stdout",
     "output_type": "stream",
     "text": [
      "\n",
      "\r",
      "  0%|          | 0/1 [00:00<?, ?it/s]"
     ]
    },
    {
     "name": "stdout",
     "output_type": "stream",
     "text": [
      "\r",
      "Upgrading database; v7 -> v8:   0%|          | 0/1 [00:00<?, ?it/s]"
     ]
    },
    {
     "name": "stdout",
     "output_type": "stream",
     "text": [
      "\r",
      "Upgrading database; v7 -> v8: 100%|██████████| 1/1 [00:00<00:00, 1032.83it/s]"
     ]
    },
    {
     "name": "stdout",
     "output_type": "stream",
     "text": [
      "\n",
      "\r",
      "  0%|          | 0/1 [00:00<?, ?it/s]"
     ]
    },
    {
     "name": "stdout",
     "output_type": "stream",
     "text": [
      "\r",
      "Upgrading database; v8 -> v9:   0%|          | 0/1 [00:00<?, ?it/s]"
     ]
    },
    {
     "name": "stdout",
     "output_type": "stream",
     "text": [
      "\r",
      "Upgrading database; v8 -> v9: 100%|██████████| 1/1 [00:00<00:00, 415.52it/s]"
     ]
    },
    {
     "name": "stdout",
     "output_type": "stream",
     "text": [
      "\n"
     ]
    }
   ],
   "source": [
    "initialise_database()\n",
    "exp = load_or_create_experiment(experiment_name='tutorial_exp', sample_name=\"no sample\")"
   ]
  },
  {
   "cell_type": "markdown",
   "metadata": {},
   "source": [
    "Here, we define a simple function to benchmark the time it takes to insert n points with either numeric or array data type.\n",
    "We will compare both the time used to call ``add_result`` and the time used for the full measurement."
   ]
  },
  {
   "cell_type": "code",
   "execution_count": 4,
   "metadata": {
    "execution": {
     "iopub.execute_input": "2020-11-01T20:16:53.269822Z",
     "iopub.status.busy": "2020-11-01T20:16:53.269178Z",
     "iopub.status.idle": "2020-11-01T20:16:53.272697Z",
     "shell.execute_reply": "2020-11-01T20:16:53.273208Z"
    }
   },
   "outputs": [],
   "source": [
    "def insert_data(paramtype, npoints, nreps=1):\n",
    "\n",
    "    meas = Measurement(exp=exp)\n",
    "\n",
    "    x1 = ManualParameter('x1')\n",
    "    x2 = ManualParameter('x2')\n",
    "    x3 = ManualParameter('x3')\n",
    "    y1 = ManualParameter('y1')\n",
    "    y2 = ManualParameter('y2')\n",
    "\n",
    "    meas.register_parameter(x1, paramtype=paramtype)\n",
    "    meas.register_parameter(x2, paramtype=paramtype)\n",
    "    meas.register_parameter(x3, paramtype=paramtype)\n",
    "    meas.register_parameter(y1, setpoints=[x1, x2, x3],\n",
    "                            paramtype=paramtype)\n",
    "    meas.register_parameter(y2, setpoints=[x1, x2, x3],\n",
    "                            paramtype=paramtype)\n",
    "    start = time.perf_counter()\n",
    "    with meas.run() as datasaver:\n",
    "        start_adding = time.perf_counter()\n",
    "        for i in range(nreps):\n",
    "            datasaver.add_result((x1, np.random.rand(npoints)),\n",
    "                                 (x2, np.random.rand(npoints)),\n",
    "                                 (x3, np.random.rand(npoints)),\n",
    "                                 (y1, np.random.rand(npoints)),\n",
    "                                 (y2, np.random.rand(npoints)))\n",
    "        stop_adding = time.perf_counter()\n",
    "        run_id = datasaver.run_id\n",
    "    stop = time.perf_counter()\n",
    "    tot_time = stop - start\n",
    "    add_time = stop_adding - start_adding\n",
    "    return tot_time, add_time, run_id"
   ]
  },
  {
   "cell_type": "markdown",
   "metadata": {},
   "source": [
    "## Comparison between numeric/array data and binary blob"
   ]
  },
  {
   "cell_type": "markdown",
   "metadata": {},
   "source": [
    "### Case1: Short experiment time"
   ]
  },
  {
   "cell_type": "code",
   "execution_count": 5,
   "metadata": {
    "execution": {
     "iopub.execute_input": "2020-11-01T20:16:53.279522Z",
     "iopub.status.busy": "2020-11-01T20:16:53.278504Z",
     "iopub.status.idle": "2020-11-01T20:16:54.119825Z",
     "shell.execute_reply": "2020-11-01T20:16:54.120319Z"
    }
   },
   "outputs": [
    {
     "name": "stdout",
     "output_type": "stream",
     "text": [
      "Starting experimental run with id: 1. \n",
      "Starting experimental run with id: 2. \n",
      "Starting experimental run with id: 3. \n",
      "Starting experimental run with id: 4. \n",
      "Starting experimental run with id: 5. \n"
     ]
    },
    {
     "name": "stdout",
     "output_type": "stream",
     "text": [
      "Starting experimental run with id: 6. \n"
     ]
    },
    {
     "name": "stdout",
     "output_type": "stream",
     "text": [
      "Starting experimental run with id: 7. \n"
     ]
    },
    {
     "name": "stdout",
     "output_type": "stream",
     "text": [
      "Starting experimental run with id: 8. \n",
      "Starting experimental run with id: 9. \n"
     ]
    },
    {
     "name": "stdout",
     "output_type": "stream",
     "text": [
      "Starting experimental run with id: 10. \n",
      "Starting experimental run with id: 11. \n"
     ]
    },
    {
     "name": "stdout",
     "output_type": "stream",
     "text": [
      "Starting experimental run with id: 12. \n",
      "Starting experimental run with id: 13. \n"
     ]
    },
    {
     "name": "stdout",
     "output_type": "stream",
     "text": [
      "Starting experimental run with id: 14. \n"
     ]
    }
   ],
   "source": [
    "sizes = [1,500,1000,2000,3000,4000,5000]\n",
    "t_numeric = []\n",
    "t_numeric_add = []\n",
    "t_array = []\n",
    "t_array_add = []\n",
    "for size in sizes:\n",
    "    tn, tna, run_id_n =  insert_data('numeric', size)\n",
    "    t_numeric.append(tn)\n",
    "    t_numeric_add.append(tna)\n",
    "\n",
    "    ta, taa, run_id_a =  insert_data('array', size)\n",
    "    t_array.append(ta)\n",
    "    t_array_add.append(taa)"
   ]
  },
  {
   "cell_type": "code",
   "execution_count": 6,
   "metadata": {
    "execution": {
     "iopub.execute_input": "2020-11-01T20:16:54.138938Z",
     "iopub.status.busy": "2020-11-01T20:16:54.133343Z",
     "iopub.status.idle": "2020-11-01T20:16:54.343828Z",
     "shell.execute_reply": "2020-11-01T20:16:54.344574Z"
    }
   },
   "outputs": [
    {
     "data": {
      "image/png": "[encoded data removed]",
      "text/plain": [
       "<Figure size 432x288 with 1 Axes>"
      ]
     },
     "metadata": {
      "needs_background": "light"
     },
     "output_type": "display_data"
    }
   ],
   "source": [
    "fig, ax = plt.subplots(1,1)\n",
    "ax.plot(sizes, t_numeric, 'o-', label='Inserting row-by-row')\n",
    "ax.plot(sizes, t_numeric_add, 'o-', label='Inserting row-by-row: add_result only')\n",
    "ax.plot(sizes, t_array, 'd-', label='Inserting as binary blob')\n",
    "ax.plot(sizes, t_array_add, 'd-', label='Inserting as binary blob: add_result only')\n",
    "ax.legend()\n",
    "ax.set_xlabel('Array length')\n",
    "ax.set_ylabel('Time (s)')\n",
    "fig.tight_layout()"
   ]
  },
  {
   "cell_type": "markdown",
   "metadata": {},
   "source": [
    "As shown in the latter figure, the time to setup and and close the experiment is approximately 0.4 sec. In case of small array sizes, the difference between inserting values of data as arrays and inserting them row-by-row is relatively unimportant. At larger array sizes, i.e. above 10000 points, the cost of writing data as individual datapoints starts to become important.\n"
   ]
  },
  {
   "cell_type": "markdown",
   "metadata": {},
   "source": [
    "### Case2: Long experiment time "
   ]
  },
  {
   "cell_type": "code",
   "execution_count": 7,
   "metadata": {
    "execution": {
     "iopub.execute_input": "2020-11-01T20:16:54.352174Z",
     "iopub.status.busy": "2020-11-01T20:16:54.351102Z",
     "iopub.status.idle": "2020-11-01T20:17:56.621150Z",
     "shell.execute_reply": "2020-11-01T20:17:56.621652Z"
    }
   },
   "outputs": [
    {
     "name": "stdout",
     "output_type": "stream",
     "text": [
      "Starting experimental run with id: 15. \n",
      "Starting experimental run with id: 16. \n",
      "Starting experimental run with id: 17. \n"
     ]
    },
    {
     "name": "stdout",
     "output_type": "stream",
     "text": [
      "Starting experimental run with id: 18. \n",
      "Starting experimental run with id: 19. \n"
     ]
    },
    {
     "name": "stdout",
     "output_type": "stream",
     "text": [
      "Starting experimental run with id: 20. \n"
     ]
    },
    {
     "name": "stdout",
     "output_type": "stream",
     "text": [
      "Starting experimental run with id: 21. \n"
     ]
    },
    {
     "name": "stdout",
     "output_type": "stream",
     "text": [
      "Starting experimental run with id: 22. \n"
     ]
    },
    {
     "name": "stdout",
     "output_type": "stream",
     "text": [
      "Starting experimental run with id: 23. \n"
     ]
    },
    {
     "name": "stdout",
     "output_type": "stream",
     "text": [
      "Starting experimental run with id: 24. \n"
     ]
    },
    {
     "name": "stdout",
     "output_type": "stream",
     "text": [
      "Starting experimental run with id: 25. \n"
     ]
    },
    {
     "name": "stdout",
     "output_type": "stream",
     "text": [
      "Starting experimental run with id: 26. \n"
     ]
    },
    {
     "name": "stdout",
     "output_type": "stream",
     "text": [
      "Starting experimental run with id: 27. \n"
     ]
    },
    {
     "name": "stdout",
     "output_type": "stream",
     "text": [
      "Starting experimental run with id: 28. \n"
     ]
    }
   ],
   "source": [
    "sizes = [1,500,1000,2000,3000,4000,5000]\n",
    "nreps = 100\n",
    "t_numeric = []\n",
    "t_numeric_add = []\n",
    "t_numeric_run_ids = []\n",
    "t_array = []\n",
    "t_array_add = []\n",
    "t_array_run_ids = []\n",
    "for size in sizes:\n",
    "    tn, tna, run_id_n =  insert_data('numeric', size, nreps=nreps)\n",
    "    t_numeric.append(tn)\n",
    "    t_numeric_add.append(tna)\n",
    "    t_numeric_run_ids.append(run_id_n)\n",
    "\n",
    "    ta, taa, run_id_a =  insert_data('array', size, nreps=nreps)\n",
    "    t_array.append(ta)\n",
    "    t_array_add.append(taa)\n",
    "    t_array_run_ids.append(run_id_a)"
   ]
  },
  {
   "cell_type": "code",
   "execution_count": 8,
   "metadata": {
    "execution": {
     "iopub.execute_input": "2020-11-01T20:17:56.643371Z",
     "iopub.status.busy": "2020-11-01T20:17:56.639205Z",
     "iopub.status.idle": "2020-11-01T20:17:56.847242Z",
     "shell.execute_reply": "2020-11-01T20:17:56.847730Z"
    },
    "scrolled": true
   },
   "outputs": [
    {
     "data": {
      "image/png": "[encoded data removed]",
      "text/plain": [
       "<Figure size 432x288 with 1 Axes>"
      ]
     },
     "metadata": {
      "needs_background": "light"
     },
     "output_type": "display_data"
    }
   ],
   "source": [
    "fig, ax = plt.subplots(1,1)\n",
    "ax.plot(sizes, t_numeric, 'o-', label='Inserting row-by-row')\n",
    "ax.plot(sizes, t_numeric_add, 'o-', label='Inserting row-by-row: add_result only')\n",
    "ax.plot(sizes, t_array, 'd-', label='Inserting as binary blob')\n",
    "ax.plot(sizes, t_array_add, 'd-', label='Inserting as binary blob: add_result only')\n",
    "ax.legend()\n",
    "ax.set_xlabel('Array length')\n",
    "ax.set_ylabel('Time (s)')\n",
    "fig.tight_layout()"
   ]
  },
  {
   "cell_type": "markdown",
   "metadata": {},
   "source": [
    "However, as we increase the length of the experiment, as seen here by repeating the insertion 100 times, we see a big difference between inserting values of the data row-by-row and inserting it as a binary blob."
   ]
  },
  {
   "cell_type": "markdown",
   "metadata": {},
   "source": [
    "## Loading the data "
   ]
  },
  {
   "cell_type": "code",
   "execution_count": 9,
   "metadata": {
    "execution": {
     "iopub.execute_input": "2020-11-01T20:17:56.852643Z",
     "iopub.status.busy": "2020-11-01T20:17:56.852011Z",
     "iopub.status.idle": "2020-11-01T20:17:56.854923Z",
     "shell.execute_reply": "2020-11-01T20:17:56.854214Z"
    }
   },
   "outputs": [],
   "source": [
    "from qcodes.dataset.data_set import load_by_id\n",
    "from qcodes.dataset.data_export import get_data_by_id"
   ]
  },
  {
   "cell_type": "markdown",
   "metadata": {},
   "source": [
    "As usual you can load the data by using the ``load_by_id`` function but you will notice that the different storage methods\n",
    "are reflected in shape of the data as it is retrieved. "
   ]
  },
  {
   "cell_type": "code",
   "execution_count": 10,
   "metadata": {
    "execution": {
     "iopub.execute_input": "2020-11-01T20:17:56.859079Z",
     "iopub.status.busy": "2020-11-01T20:17:56.858050Z",
     "iopub.status.idle": "2020-11-01T20:17:56.860102Z",
     "shell.execute_reply": "2020-11-01T20:17:56.860617Z"
    }
   },
   "outputs": [],
   "source": [
    "run_id_n = t_numeric_run_ids[0]\n",
    "run_id_a = t_array_run_ids[0]"
   ]
  },
  {
   "cell_type": "code",
   "execution_count": 11,
   "metadata": {
    "execution": {
     "iopub.execute_input": "2020-11-01T20:17:56.864060Z",
     "iopub.status.busy": "2020-11-01T20:17:56.863452Z",
     "iopub.status.idle": "2020-11-01T20:17:56.873016Z",
     "shell.execute_reply": "2020-11-01T20:17:56.873531Z"
    },
    "scrolled": true
   },
   "outputs": [
    {
     "data": {
      "text/plain": [
       "{'x1': {'x1': array([0.24369576, 0.24369576, 0.88191812, 0.88191812, 0.74532557,\n",
       "         0.74532557, 0.78364714, 0.78364714, 0.52351503, 0.52351503,\n",
       "         0.5182823 , 0.5182823 , 0.66107871, 0.66107871, 0.58014964,\n",
       "         0.58014964, 0.80612362, 0.80612362, 0.85516145, 0.85516145,\n",
       "         0.53218634, 0.53218634, 0.27312981, 0.27312981, 0.13676842,\n",
       "         0.13676842, 0.35653542, 0.35653542, 0.89404975, 0.89404975,\n",
       "         0.54972391, 0.54972391, 0.83477686, 0.83477686, 0.49408285,\n",
       "         0.49408285, 0.75996964, 0.75996964, 0.04561694, 0.04561694,\n",
       "         0.46891351, 0.46891351, 0.07423731, 0.07423731, 0.05504063,\n",
       "         0.05504063, 0.66075185, 0.66075185, 0.72687166, 0.72687166,\n",
       "         0.81820506, 0.81820506, 0.70345803, 0.70345803, 0.92240682,\n",
       "         0.92240682, 0.52211224, 0.52211224, 0.50806828, 0.50806828,\n",
       "         0.50123885, 0.50123885, 0.86564845, 0.86564845, 0.44334947,\n",
       "         0.44334947, 0.14010375, 0.14010375, 0.73265807, 0.73265807,\n",
       "         0.64752886, 0.64752886, 0.43660289, 0.43660289, 0.50597546,\n",
       "         0.50597546, 0.88263411, 0.88263411, 0.27645996, 0.27645996,\n",
       "         0.7018165 , 0.7018165 , 0.49848456, 0.49848456, 0.10210636,\n",
       "         0.10210636, 0.22111295, 0.22111295, 0.26928808, 0.26928808,\n",
       "         0.50916737, 0.50916737, 0.08962559, 0.08962559, 0.23516867,\n",
       "         0.23516867, 0.25626984, 0.25626984, 0.01369779, 0.01369779,\n",
       "         0.14328299, 0.14328299, 0.01103526, 0.01103526, 0.03759192,\n",
       "         0.03759192, 0.65758046, 0.65758046, 0.50663395, 0.50663395,\n",
       "         0.30411534, 0.30411534, 0.76434541, 0.76434541, 0.24387034,\n",
       "         0.24387034, 0.70861295, 0.70861295, 0.53841028, 0.53841028,\n",
       "         0.12316399, 0.12316399, 0.07278115, 0.07278115, 0.30896641,\n",
       "         0.30896641, 0.6626175 , 0.6626175 , 0.83803485, 0.83803485,\n",
       "         0.86014774, 0.86014774, 0.6651838 , 0.6651838 , 0.41268475,\n",
       "         0.41268475, 0.92501377, 0.92501377, 0.31310406, 0.31310406,\n",
       "         0.17614762, 0.17614762, 0.56329593, 0.56329593, 0.67063008,\n",
       "         0.67063008, 0.30167634, 0.30167634, 0.80334053, 0.80334053,\n",
       "         0.45879819, 0.45879819, 0.51367149, 0.51367149, 0.15127455,\n",
       "         0.15127455, 0.67583817, 0.67583817, 0.98169832, 0.98169832,\n",
       "         0.35974885, 0.35974885, 0.74535412, 0.74535412, 0.24638925,\n",
       "         0.24638925, 0.93404687, 0.93404687, 0.59233788, 0.59233788,\n",
       "         0.97361917, 0.97361917, 0.4807685 , 0.4807685 , 0.72003599,\n",
       "         0.72003599, 0.71888914, 0.71888914, 0.06014498, 0.06014498,\n",
       "         0.42196762, 0.42196762, 0.60679578, 0.60679578, 0.18070073,\n",
       "         0.18070073, 0.4862678 , 0.4862678 , 0.91204313, 0.91204313,\n",
       "         0.88328508, 0.88328508, 0.34071064, 0.34071064, 0.88162038,\n",
       "         0.88162038, 0.94829716, 0.94829716, 0.60647373, 0.60647373])}}"
      ]
     },
     "execution_count": 1,
     "metadata": {},
     "output_type": "execute_result"
    }
   ],
   "source": [
    "ds = load_by_id(run_id_n)\n",
    "ds.get_parameter_data('x1')"
   ]
  },
  {
   "cell_type": "markdown",
   "metadata": {},
   "source": [
    "And a dataset stored as binary arrays"
   ]
  },
  {
   "cell_type": "code",
   "execution_count": 12,
   "metadata": {
    "execution": {
     "iopub.execute_input": "2020-11-01T20:17:56.876990Z",
     "iopub.status.busy": "2020-11-01T20:17:56.876385Z",
     "iopub.status.idle": "2020-11-01T20:17:56.937954Z",
     "shell.execute_reply": "2020-11-01T20:17:56.937408Z"
    },
    "scrolled": true
   },
   "outputs": [
    {
     "data": {
      "text/plain": [
       "{'x1': {'x1': array([[0.09202697],\n",
       "         [0.09202697],\n",
       "         [0.2342174 ],\n",
       "         [0.2342174 ],\n",
       "         [0.14657427],\n",
       "         [0.14657427],\n",
       "         [0.58039136],\n",
       "         [0.58039136],\n",
       "         [0.28162876],\n",
       "         [0.28162876],\n",
       "         [0.29473657],\n",
       "         [0.29473657],\n",
       "         [0.23033999],\n",
       "         [0.23033999],\n",
       "         [0.16018924],\n",
       "         [0.16018924],\n",
       "         [0.19922007],\n",
       "         [0.19922007],\n",
       "         [0.09364967],\n",
       "         [0.09364967],\n",
       "         [0.36278135],\n",
       "         [0.36278135],\n",
       "         [0.41330898],\n",
       "         [0.41330898],\n",
       "         [0.36388245],\n",
       "         [0.36388245],\n",
       "         [0.16175305],\n",
       "         [0.16175305],\n",
       "         [0.19742498],\n",
       "         [0.19742498],\n",
       "         [0.89029655],\n",
       "         [0.89029655],\n",
       "         [0.4111354 ],\n",
       "         [0.4111354 ],\n",
       "         [0.19687358],\n",
       "         [0.19687358],\n",
       "         [0.47567774],\n",
       "         [0.47567774],\n",
       "         [0.83265402],\n",
       "         [0.83265402],\n",
       "         [0.62198073],\n",
       "         [0.62198073],\n",
       "         [0.9510734 ],\n",
       "         [0.9510734 ],\n",
       "         [0.61984295],\n",
       "         [0.61984295],\n",
       "         [0.90987106],\n",
       "         [0.90987106],\n",
       "         [0.04393299],\n",
       "         [0.04393299],\n",
       "         [0.32056861],\n",
       "         [0.32056861],\n",
       "         [0.15848968],\n",
       "         [0.15848968],\n",
       "         [0.45780926],\n",
       "         [0.45780926],\n",
       "         [0.62111087],\n",
       "         [0.62111087],\n",
       "         [0.89942164],\n",
       "         [0.89942164],\n",
       "         [0.42348185],\n",
       "         [0.42348185],\n",
       "         [0.76296951],\n",
       "         [0.76296951],\n",
       "         [0.30131914],\n",
       "         [0.30131914],\n",
       "         [0.94792955],\n",
       "         [0.94792955],\n",
       "         [0.54611544],\n",
       "         [0.54611544],\n",
       "         [0.74981277],\n",
       "         [0.74981277],\n",
       "         [0.74983369],\n",
       "         [0.74983369],\n",
       "         [0.11318064],\n",
       "         [0.11318064],\n",
       "         [0.41006834],\n",
       "         [0.41006834],\n",
       "         [0.33387746],\n",
       "         [0.33387746],\n",
       "         [0.71718377],\n",
       "         [0.71718377],\n",
       "         [0.51880635],\n",
       "         [0.51880635],\n",
       "         [0.31054435],\n",
       "         [0.31054435],\n",
       "         [0.11042298],\n",
       "         [0.11042298],\n",
       "         [0.52923292],\n",
       "         [0.52923292],\n",
       "         [0.54288452],\n",
       "         [0.54288452],\n",
       "         [0.01657799],\n",
       "         [0.01657799],\n",
       "         [0.54879222],\n",
       "         [0.54879222],\n",
       "         [0.09444374],\n",
       "         [0.09444374],\n",
       "         [0.98937424],\n",
       "         [0.98937424],\n",
       "         [0.54974239],\n",
       "         [0.54974239],\n",
       "         [0.64967017],\n",
       "         [0.64967017],\n",
       "         [0.81823065],\n",
       "         [0.81823065],\n",
       "         [0.12370765],\n",
       "         [0.12370765],\n",
       "         [0.7609343 ],\n",
       "         [0.7609343 ],\n",
       "         [0.67347737],\n",
       "         [0.67347737],\n",
       "         [0.97377984],\n",
       "         [0.97377984],\n",
       "         [0.36549052],\n",
       "         [0.36549052],\n",
       "         [0.24530105],\n",
       "         [0.24530105],\n",
       "         [0.17772825],\n",
       "         [0.17772825],\n",
       "         [0.56900773],\n",
       "         [0.56900773],\n",
       "         [0.79768999],\n",
       "         [0.79768999],\n",
       "         [0.61998712],\n",
       "         [0.61998712],\n",
       "         [0.44942805],\n",
       "         [0.44942805],\n",
       "         [0.3506052 ],\n",
       "         [0.3506052 ],\n",
       "         [0.21661751],\n",
       "         [0.21661751],\n",
       "         [0.69500599],\n",
       "         [0.69500599],\n",
       "         [0.81746183],\n",
       "         [0.81746183],\n",
       "         [0.06564713],\n",
       "         [0.06564713],\n",
       "         [0.34040578],\n",
       "         [0.34040578],\n",
       "         [0.61586902],\n",
       "         [0.61586902],\n",
       "         [0.02962262],\n",
       "         [0.02962262],\n",
       "         [0.72109859],\n",
       "         [0.72109859],\n",
       "         [0.85658011],\n",
       "         [0.85658011],\n",
       "         [0.9983895 ],\n",
       "         [0.9983895 ],\n",
       "         [0.78387794],\n",
       "         [0.78387794],\n",
       "         [0.3874211 ],\n",
       "         [0.3874211 ],\n",
       "         [0.6197578 ],\n",
       "         [0.6197578 ],\n",
       "         [0.17444795],\n",
       "         [0.17444795],\n",
       "         [0.29170029],\n",
       "         [0.29170029],\n",
       "         [0.06555886],\n",
       "         [0.06555886],\n",
       "         [0.90197488],\n",
       "         [0.90197488],\n",
       "         [0.53866865],\n",
       "         [0.53866865],\n",
       "         [0.4744675 ],\n",
       "         [0.4744675 ],\n",
       "         [0.34827612],\n",
       "         [0.34827612],\n",
       "         [0.46984639],\n",
       "         [0.46984639],\n",
       "         [0.84007224],\n",
       "         [0.84007224],\n",
       "         [0.96884667],\n",
       "         [0.96884667],\n",
       "         [0.64692569],\n",
       "         [0.64692569],\n",
       "         [0.73942126],\n",
       "         [0.73942126],\n",
       "         [0.59430905],\n",
       "         [0.59430905],\n",
       "         [0.3317186 ],\n",
       "         [0.3317186 ],\n",
       "         [0.28564893],\n",
       "         [0.28564893],\n",
       "         [0.03403758],\n",
       "         [0.03403758],\n",
       "         [0.62853288],\n",
       "         [0.62853288],\n",
       "         [0.29158274],\n",
       "         [0.29158274],\n",
       "         [0.19167483],\n",
       "         [0.19167483],\n",
       "         [0.38710281],\n",
       "         [0.38710281],\n",
       "         [0.07076938],\n",
       "         [0.07076938],\n",
       "         [0.18956686],\n",
       "         [0.18956686]])}}"
      ]
     },
     "execution_count": 1,
     "metadata": {},
     "output_type": "execute_result"
    }
   ],
   "source": [
    "ds = load_by_id(run_id_a)\n",
    "ds.get_parameter_data('x1')"
   ]
  },
  {
   "cell_type": "code",
   "execution_count": null,
   "metadata": {},
   "outputs": [],
   "source": []
  }
 ],
 "metadata": {
  "kernelspec": {
   "display_name": "Python 3",
   "language": "python",
   "name": "python3"
  },
  "language_info": {
   "codemirror_mode": {
    "name": "ipython",
    "version": 3
   },
   "file_extension": ".py",
   "mimetype": "text/x-python",
   "name": "python",
   "nbconvert_exporter": "python",
   "pygments_lexer": "ipython3",
   "version": "3.7.9"
  },
  "nbsphinx": {
   "timeout": 600
  },
  "toc": {
   "base_numbering": 1,
   "nav_menu": {},
   "number_sections": true,
   "sideBar": true,
   "skip_h1_title": false,
   "title_cell": "Table of Contents",
   "title_sidebar": "Contents",
   "toc_cell": false,
   "toc_position": {},
   "toc_section_display": true,
   "toc_window_display": false
  },
  "varInspector": {
   "cols": {
    "lenName": 16,
    "lenType": 16,
    "lenVar": 40
   },
   "kernels_config": {
    "python": {
     "delete_cmd_postfix": "",
     "delete_cmd_prefix": "del ",
     "library": "var_list.py",
     "varRefreshCmd": "print(var_dic_list())"
    },
    "r": {
     "delete_cmd_postfix": ") ",
     "delete_cmd_prefix": "rm(",
     "library": "var_list.r",
     "varRefreshCmd": "cat(var_dic_list()) "
    }
   },
   "types_to_exclude": [
    "module",
    "function",
    "builtin_function_or_method",
    "instance",
    "_Feature"
   ],
   "window_display": false
  }
 },
 "nbformat": 4,
 "nbformat_minor": 2
}
