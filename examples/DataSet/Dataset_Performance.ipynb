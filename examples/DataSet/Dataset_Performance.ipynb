{
 "cells": [
  {
   "cell_type": "markdown",
   "metadata": {},
   "source": [
    "# DataSet Performance\n",
    "\n",
    "This notebook shows the trade-off between inserting data into a database row-by-row and as binary blobs. Inserting the data row-by-row means that we have direct access to all the data and may perform queries directly on the values of the data. On the other hand, as we shall see, this is much slower than inserting the data directly as binary blobs."
   ]
  },
  {
   "cell_type": "markdown",
   "metadata": {},
   "source": [
    "First, we choose a new location for the database to ensure that we don't add a bunch of benchmarking data to the default one."
   ]
  },
  {
   "cell_type": "code",
   "execution_count": 1,
   "metadata": {
    "execution": {
     "iopub.execute_input": "2021-05-17T09:33:24.311946Z",
     "iopub.status.busy": "2021-05-17T09:33:24.311373Z",
     "iopub.status.idle": "2021-05-17T09:33:25.464333Z",
     "shell.execute_reply": "2021-05-17T09:33:25.463616Z"
    }
   },
   "outputs": [
    {
     "name": "stdout",
     "output_type": "stream",
     "text": [
      "Logging hadn't been started.\n",
      "Activating auto-logging. Current session state plus future input saved.\n",
      "Filename       : /home/runner/.qcodes/logs/command_history.log\n",
      "Mode           : append\n",
      "Output logging : True\n",
      "Raw input log  : False\n",
      "Timestamping   : True\n",
      "State          : active\n"
     ]
    },
    {
     "name": "stdout",
     "output_type": "stream",
     "text": [
      "Qcodes Logfile : /home/runner/.qcodes/logs/210517-4721-qcodes.log\n"
     ]
    }
   ],
   "source": [
    "import os\n",
    "cwd = os.getcwd()\n",
    "import qcodes as qc\n",
    "qc.config[\"core\"][\"db_location\"] = os.path.join(cwd, 'testing.db')\n"
   ]
  },
  {
   "cell_type": "code",
   "execution_count": 2,
   "metadata": {
    "execution": {
     "iopub.execute_input": "2021-05-17T09:33:25.471567Z",
     "iopub.status.busy": "2021-05-17T09:33:25.470306Z",
     "iopub.status.idle": "2021-05-17T09:33:25.664156Z",
     "shell.execute_reply": "2021-05-17T09:33:25.663584Z"
    }
   },
   "outputs": [],
   "source": [
    "%matplotlib inline\n",
    "import time\n",
    "import matplotlib.pyplot as plt\n",
    "import numpy as np\n",
    "\n",
    "import qcodes as qc\n",
    "from qcodes.instrument.parameter import ManualParameter\n",
    "from qcodes.dataset.experiment_container import (Experiment,\n",
    "                                                 load_last_experiment,\n",
    "                                                 new_experiment)\n",
    "from qcodes.dataset.sqlite.database import initialise_database\n",
    "from qcodes import load_or_create_experiment\n",
    "from qcodes.dataset.measurements import Measurement"
   ]
  },
  {
   "cell_type": "code",
   "execution_count": 3,
   "metadata": {
    "execution": {
     "iopub.execute_input": "2021-05-17T09:33:25.668109Z",
     "iopub.status.busy": "2021-05-17T09:33:25.667392Z",
     "iopub.status.idle": "2021-05-17T09:33:25.727915Z",
     "shell.execute_reply": "2021-05-17T09:33:25.728358Z"
    }
   },
   "outputs": [
    {
     "name": "stdout",
     "output_type": "stream",
     "text": [
      "\r",
      "0it [00:00, ?it/s]"
     ]
    },
    {
     "name": "stdout",
     "output_type": "stream",
     "text": [
      "\r",
      "Upgrading database; v0 -> v1: : 0it [00:00, ?it/s]"
     ]
    },
    {
     "name": "stdout",
     "output_type": "stream",
     "text": [
      "\r",
      "Upgrading database; v0 -> v1: : 0it [00:00, ?it/s]"
     ]
    },
    {
     "name": "stdout",
     "output_type": "stream",
     "text": [
      "\n",
      "\r",
      "  0%|          | 0/1 [00:00<?, ?it/s]"
     ]
    },
    {
     "name": "stdout",
     "output_type": "stream",
     "text": [
      "\r",
      "Upgrading database; v1 -> v2:   0%|          | 0/1 [00:00<?, ?it/s]"
     ]
    },
    {
     "name": "stdout",
     "output_type": "stream",
     "text": [
      "\r",
      "Upgrading database; v1 -> v2: 100%|██████████| 1/1 [00:00<00:00, 571.12it/s]"
     ]
    },
    {
     "name": "stdout",
     "output_type": "stream",
     "text": [
      "\n",
      "\r",
      "0it [00:00, ?it/s]"
     ]
    },
    {
     "name": "stdout",
     "output_type": "stream",
     "text": [
      "\r",
      "Upgrading database; v2 -> v3: : 0it [00:00, ?it/s]"
     ]
    },
    {
     "name": "stdout",
     "output_type": "stream",
     "text": [
      "\r",
      "Upgrading database; v2 -> v3: : 0it [00:00, ?it/s]"
     ]
    },
    {
     "name": "stdout",
     "output_type": "stream",
     "text": [
      "\n",
      "\r",
      "0it [00:00, ?it/s]"
     ]
    },
    {
     "name": "stdout",
     "output_type": "stream",
     "text": [
      "\r",
      "Upgrading database; v3 -> v4: : 0it [00:00, ?it/s]"
     ]
    },
    {
     "name": "stdout",
     "output_type": "stream",
     "text": [
      "\r",
      "Upgrading database; v3 -> v4: : 0it [00:00, ?it/s]"
     ]
    },
    {
     "name": "stdout",
     "output_type": "stream",
     "text": [
      "\n",
      "\r",
      "  0%|          | 0/1 [00:00<?, ?it/s]"
     ]
    },
    {
     "name": "stdout",
     "output_type": "stream",
     "text": [
      "\r",
      "Upgrading database; v4 -> v5:   0%|          | 0/1 [00:00<?, ?it/s]"
     ]
    },
    {
     "name": "stdout",
     "output_type": "stream",
     "text": [
      "\r",
      "Upgrading database; v4 -> v5: 100%|██████████| 1/1 [00:00<00:00, 540.16it/s]"
     ]
    },
    {
     "name": "stdout",
     "output_type": "stream",
     "text": [
      "\n",
      "\r",
      "0it [00:00, ?it/s]"
     ]
    },
    {
     "name": "stdout",
     "output_type": "stream",
     "text": [
      "\r",
      "Upgrading database; v5 -> v6: : 0it [00:00, ?it/s]"
     ]
    },
    {
     "name": "stdout",
     "output_type": "stream",
     "text": [
      "\r",
      "Upgrading database; v5 -> v6: : 0it [00:00, ?it/s]"
     ]
    },
    {
     "name": "stdout",
     "output_type": "stream",
     "text": [
      "\n",
      "\r",
      "  0%|          | 0/1 [00:00<?, ?it/s]"
     ]
    },
    {
     "name": "stdout",
     "output_type": "stream",
     "text": [
      "\r",
      "Upgrading database; v6 -> v7:   0%|          | 0/1 [00:00<?, ?it/s]"
     ]
    },
    {
     "name": "stdout",
     "output_type": "stream",
     "text": [
      "\r",
      "Upgrading database; v6 -> v7: 100%|██████████| 1/1 [00:00<00:00, 368.79it/s]"
     ]
    },
    {
     "name": "stdout",
     "output_type": "stream",
     "text": [
      "\n",
      "\r",
      "  0%|          | 0/1 [00:00<?, ?it/s]"
     ]
    },
    {
     "name": "stdout",
     "output_type": "stream",
     "text": [
      "\r",
      "Upgrading database; v7 -> v8:   0%|          | 0/1 [00:00<?, ?it/s]"
     ]
    },
    {
     "name": "stdout",
     "output_type": "stream",
     "text": [
      "\r",
      "Upgrading database; v7 -> v8: 100%|██████████| 1/1 [00:00<00:00, 453.19it/s]"
     ]
    },
    {
     "name": "stdout",
     "output_type": "stream",
     "text": [
      "\n",
      "\r",
      "  0%|          | 0/1 [00:00<?, ?it/s]"
     ]
    },
    {
     "name": "stdout",
     "output_type": "stream",
     "text": [
      "\r",
      "Upgrading database; v8 -> v9:   0%|          | 0/1 [00:00<?, ?it/s]"
     ]
    },
    {
     "name": "stdout",
     "output_type": "stream",
     "text": [
      "\r",
      "Upgrading database; v8 -> v9: 100%|██████████| 1/1 [00:00<00:00, 1195.30it/s]"
     ]
    },
    {
     "name": "stdout",
     "output_type": "stream",
     "text": [
      "\n"
     ]
    }
   ],
   "source": [
    "initialise_database()\n",
    "exp = load_or_create_experiment(experiment_name='tutorial_exp', sample_name=\"no sample\")"
   ]
  },
  {
   "cell_type": "markdown",
   "metadata": {},
   "source": [
    "Here, we define a simple function to benchmark the time it takes to insert n points with either numeric or array data type.\n",
    "We will compare both the time used to call ``add_result`` and the time used for the full measurement."
   ]
  },
  {
   "cell_type": "code",
   "execution_count": 4,
   "metadata": {
    "execution": {
     "iopub.execute_input": "2021-05-17T09:33:25.737711Z",
     "iopub.status.busy": "2021-05-17T09:33:25.736511Z",
     "iopub.status.idle": "2021-05-17T09:33:25.738284Z",
     "shell.execute_reply": "2021-05-17T09:33:25.738688Z"
    }
   },
   "outputs": [],
   "source": [
    "def insert_data(paramtype, npoints, nreps=1):\n",
    "\n",
    "    meas = Measurement(exp=exp)\n",
    "\n",
    "    x1 = ManualParameter('x1')\n",
    "    x2 = ManualParameter('x2')\n",
    "    x3 = ManualParameter('x3')\n",
    "    y1 = ManualParameter('y1')\n",
    "    y2 = ManualParameter('y2')\n",
    "\n",
    "    meas.register_parameter(x1, paramtype=paramtype)\n",
    "    meas.register_parameter(x2, paramtype=paramtype)\n",
    "    meas.register_parameter(x3, paramtype=paramtype)\n",
    "    meas.register_parameter(y1, setpoints=[x1, x2, x3],\n",
    "                            paramtype=paramtype)\n",
    "    meas.register_parameter(y2, setpoints=[x1, x2, x3],\n",
    "                            paramtype=paramtype)\n",
    "    start = time.perf_counter()\n",
    "    with meas.run() as datasaver:\n",
    "        start_adding = time.perf_counter()\n",
    "        for i in range(nreps):\n",
    "            datasaver.add_result((x1, np.random.rand(npoints)),\n",
    "                                 (x2, np.random.rand(npoints)),\n",
    "                                 (x3, np.random.rand(npoints)),\n",
    "                                 (y1, np.random.rand(npoints)),\n",
    "                                 (y2, np.random.rand(npoints)))\n",
    "        stop_adding = time.perf_counter()\n",
    "        run_id = datasaver.run_id\n",
    "    stop = time.perf_counter()\n",
    "    tot_time = stop - start\n",
    "    add_time = stop_adding - start_adding\n",
    "    return tot_time, add_time, run_id"
   ]
  },
  {
   "cell_type": "markdown",
   "metadata": {},
   "source": [
    "## Comparison between numeric/array data and binary blob"
   ]
  },
  {
   "cell_type": "markdown",
   "metadata": {},
   "source": [
    "### Case1: Short experiment time"
   ]
  },
  {
   "cell_type": "code",
   "execution_count": 5,
   "metadata": {
    "execution": {
     "iopub.execute_input": "2021-05-17T09:33:25.745454Z",
     "iopub.status.busy": "2021-05-17T09:33:25.744911Z",
     "iopub.status.idle": "2021-05-17T09:33:26.495297Z",
     "shell.execute_reply": "2021-05-17T09:33:26.495726Z"
    }
   },
   "outputs": [
    {
     "name": "stdout",
     "output_type": "stream",
     "text": [
      "Starting experimental run with id: 1. \n",
      "Starting experimental run with id: 2. \n",
      "Starting experimental run with id: 3. \n"
     ]
    },
    {
     "name": "stdout",
     "output_type": "stream",
     "text": [
      "Starting experimental run with id: 4. \n"
     ]
    },
    {
     "name": "stdout",
     "output_type": "stream",
     "text": [
      "Starting experimental run with id: 5. \n"
     ]
    },
    {
     "name": "stdout",
     "output_type": "stream",
     "text": [
      "Starting experimental run with id: 6. \n",
      "Starting experimental run with id: 7. \n"
     ]
    },
    {
     "name": "stdout",
     "output_type": "stream",
     "text": [
      "Starting experimental run with id: 8. \n",
      "Starting experimental run with id: 9. \n"
     ]
    },
    {
     "name": "stdout",
     "output_type": "stream",
     "text": [
      "Starting experimental run with id: 10. \n",
      "Starting experimental run with id: 11. \n"
     ]
    },
    {
     "name": "stdout",
     "output_type": "stream",
     "text": [
      "Starting experimental run with id: 12. \n",
      "Starting experimental run with id: 13. \n"
     ]
    },
    {
     "name": "stdout",
     "output_type": "stream",
     "text": [
      "Starting experimental run with id: 14. \n"
     ]
    }
   ],
   "source": [
    "sizes = [1,500,1000,2000,3000,4000,5000]\n",
    "t_numeric = []\n",
    "t_numeric_add = []\n",
    "t_array = []\n",
    "t_array_add = []\n",
    "for size in sizes:\n",
    "    tn, tna, run_id_n =  insert_data('numeric', size)\n",
    "    t_numeric.append(tn)\n",
    "    t_numeric_add.append(tna)\n",
    "\n",
    "    ta, taa, run_id_a =  insert_data('array', size)\n",
    "    t_array.append(ta)\n",
    "    t_array_add.append(taa)"
   ]
  },
  {
   "cell_type": "code",
   "execution_count": 6,
   "metadata": {
    "execution": {
     "iopub.execute_input": "2021-05-17T09:33:26.524928Z",
     "iopub.status.busy": "2021-05-17T09:33:26.512746Z",
     "iopub.status.idle": "2021-05-17T09:33:26.716751Z",
     "shell.execute_reply": "2021-05-17T09:33:26.716225Z"
    }
   },
   "outputs": [
    {
     "data": {
      "image/png": "[encoded data removed]",
      "text/plain": [
       "<Figure size 432x288 with 1 Axes>"
      ]
     },
     "metadata": {
      "needs_background": "light"
     },
     "output_type": "display_data"
    }
   ],
   "source": [
    "fig, ax = plt.subplots(1,1)\n",
    "ax.plot(sizes, t_numeric, 'o-', label='Inserting row-by-row')\n",
    "ax.plot(sizes, t_numeric_add, 'o-', label='Inserting row-by-row: add_result only')\n",
    "ax.plot(sizes, t_array, 'd-', label='Inserting as binary blob')\n",
    "ax.plot(sizes, t_array_add, 'd-', label='Inserting as binary blob: add_result only')\n",
    "ax.legend()\n",
    "ax.set_xlabel('Array length')\n",
    "ax.set_ylabel('Time (s)')\n",
    "fig.tight_layout()"
   ]
  },
  {
   "cell_type": "markdown",
   "metadata": {},
   "source": [
    "As shown in the latter figure, the time to setup and and close the experiment is approximately 0.4 sec. In case of small array sizes, the difference between inserting values of data as arrays and inserting them row-by-row is relatively unimportant. At larger array sizes, i.e. above 10000 points, the cost of writing data as individual datapoints starts to become important.\n"
   ]
  },
  {
   "cell_type": "markdown",
   "metadata": {},
   "source": [
    "### Case2: Long experiment time "
   ]
  },
  {
   "cell_type": "code",
   "execution_count": 7,
   "metadata": {
    "execution": {
     "iopub.execute_input": "2021-05-17T09:33:26.723559Z",
     "iopub.status.busy": "2021-05-17T09:33:26.722485Z",
     "iopub.status.idle": "2021-05-17T09:34:19.137624Z",
     "shell.execute_reply": "2021-05-17T09:34:19.137054Z"
    }
   },
   "outputs": [
    {
     "name": "stdout",
     "output_type": "stream",
     "text": [
      "Starting experimental run with id: 15. \n",
      "Starting experimental run with id: 16. \n",
      "Starting experimental run with id: 17. \n"
     ]
    },
    {
     "name": "stdout",
     "output_type": "stream",
     "text": [
      "Starting experimental run with id: 18. \n",
      "Starting experimental run with id: 19. \n"
     ]
    },
    {
     "name": "stdout",
     "output_type": "stream",
     "text": [
      "Starting experimental run with id: 20. \n"
     ]
    },
    {
     "name": "stdout",
     "output_type": "stream",
     "text": [
      "Starting experimental run with id: 21. \n"
     ]
    },
    {
     "name": "stdout",
     "output_type": "stream",
     "text": [
      "Starting experimental run with id: 22. \n"
     ]
    },
    {
     "name": "stdout",
     "output_type": "stream",
     "text": [
      "Starting experimental run with id: 23. \n"
     ]
    },
    {
     "name": "stdout",
     "output_type": "stream",
     "text": [
      "Starting experimental run with id: 24. \n"
     ]
    },
    {
     "name": "stdout",
     "output_type": "stream",
     "text": [
      "Starting experimental run with id: 25. \n"
     ]
    },
    {
     "name": "stdout",
     "output_type": "stream",
     "text": [
      "Starting experimental run with id: 26. \n"
     ]
    },
    {
     "name": "stdout",
     "output_type": "stream",
     "text": [
      "Starting experimental run with id: 27. \n"
     ]
    },
    {
     "name": "stdout",
     "output_type": "stream",
     "text": [
      "Starting experimental run with id: 28. \n"
     ]
    }
   ],
   "source": [
    "sizes = [1,500,1000,2000,3000,4000,5000]\n",
    "nreps = 100\n",
    "t_numeric = []\n",
    "t_numeric_add = []\n",
    "t_numeric_run_ids = []\n",
    "t_array = []\n",
    "t_array_add = []\n",
    "t_array_run_ids = []\n",
    "for size in sizes:\n",
    "    tn, tna, run_id_n =  insert_data('numeric', size, nreps=nreps)\n",
    "    t_numeric.append(tn)\n",
    "    t_numeric_add.append(tna)\n",
    "    t_numeric_run_ids.append(run_id_n)\n",
    "\n",
    "    ta, taa, run_id_a =  insert_data('array', size, nreps=nreps)\n",
    "    t_array.append(ta)\n",
    "    t_array_add.append(taa)\n",
    "    t_array_run_ids.append(run_id_a)"
   ]
  },
  {
   "cell_type": "code",
   "execution_count": 8,
   "metadata": {
    "execution": {
     "iopub.execute_input": "2021-05-17T09:34:19.177583Z",
     "iopub.status.busy": "2021-05-17T09:34:19.163859Z",
     "iopub.status.idle": "2021-05-17T09:34:19.342527Z",
     "shell.execute_reply": "2021-05-17T09:34:19.341982Z"
    },
    "scrolled": true
   },
   "outputs": [
    {
     "data": {
      "image/png": "[encoded data removed]",
      "text/plain": [
       "<Figure size 432x288 with 1 Axes>"
      ]
     },
     "metadata": {
      "needs_background": "light"
     },
     "output_type": "display_data"
    }
   ],
   "source": [
    "fig, ax = plt.subplots(1,1)\n",
    "ax.plot(sizes, t_numeric, 'o-', label='Inserting row-by-row')\n",
    "ax.plot(sizes, t_numeric_add, 'o-', label='Inserting row-by-row: add_result only')\n",
    "ax.plot(sizes, t_array, 'd-', label='Inserting as binary blob')\n",
    "ax.plot(sizes, t_array_add, 'd-', label='Inserting as binary blob: add_result only')\n",
    "ax.legend()\n",
    "ax.set_xlabel('Array length')\n",
    "ax.set_ylabel('Time (s)')\n",
    "fig.tight_layout()"
   ]
  },
  {
   "cell_type": "markdown",
   "metadata": {},
   "source": [
    "However, as we increase the length of the experiment, as seen here by repeating the insertion 100 times, we see a big difference between inserting values of the data row-by-row and inserting it as a binary blob."
   ]
  },
  {
   "cell_type": "markdown",
   "metadata": {},
   "source": [
    "## Loading the data "
   ]
  },
  {
   "cell_type": "code",
   "execution_count": 9,
   "metadata": {
    "execution": {
     "iopub.execute_input": "2021-05-17T09:34:19.347636Z",
     "iopub.status.busy": "2021-05-17T09:34:19.346513Z",
     "iopub.status.idle": "2021-05-17T09:34:19.348253Z",
     "shell.execute_reply": "2021-05-17T09:34:19.348663Z"
    }
   },
   "outputs": [],
   "source": [
    "from qcodes.dataset.data_set import load_by_id"
   ]
  },
  {
   "cell_type": "markdown",
   "metadata": {},
   "source": [
    "As usual you can load the data by using the ``load_by_id`` function but you will notice that the different storage methods\n",
    "are reflected in shape of the data as it is retrieved. "
   ]
  },
  {
   "cell_type": "code",
   "execution_count": 10,
   "metadata": {
    "execution": {
     "iopub.execute_input": "2021-05-17T09:34:19.353073Z",
     "iopub.status.busy": "2021-05-17T09:34:19.352030Z",
     "iopub.status.idle": "2021-05-17T09:34:19.353721Z",
     "shell.execute_reply": "2021-05-17T09:34:19.354131Z"
    }
   },
   "outputs": [],
   "source": [
    "run_id_n = t_numeric_run_ids[0]\n",
    "run_id_a = t_array_run_ids[0]"
   ]
  },
  {
   "cell_type": "code",
   "execution_count": 11,
   "metadata": {
    "execution": {
     "iopub.execute_input": "2021-05-17T09:34:19.357437Z",
     "iopub.status.busy": "2021-05-17T09:34:19.356954Z",
     "iopub.status.idle": "2021-05-17T09:34:19.365962Z",
     "shell.execute_reply": "2021-05-17T09:34:19.366351Z"
    },
    "scrolled": true
   },
   "outputs": [
    {
     "data": {
      "text/plain": [
       "{'x1': {'x1': array([0.55442869, 0.55442869, 0.97365003, 0.97365003, 0.04552143,\n",
       "         0.04552143, 0.94655221, 0.94655221, 0.54323615, 0.54323615,\n",
       "         0.91488062, 0.91488062, 0.9808918 , 0.9808918 , 0.70038964,\n",
       "         0.70038964, 0.44132776, 0.44132776, 0.66321373, 0.66321373,\n",
       "         0.84126154, 0.84126154, 0.02156835, 0.02156835, 0.37002689,\n",
       "         0.37002689, 0.71314277, 0.71314277, 0.61885182, 0.61885182,\n",
       "         0.7412944 , 0.7412944 , 0.58000251, 0.58000251, 0.79566754,\n",
       "         0.79566754, 0.92858524, 0.92858524, 0.20255513, 0.20255513,\n",
       "         0.85536544, 0.85536544, 0.83347296, 0.83347296, 0.72076335,\n",
       "         0.72076335, 0.59903762, 0.59903762, 0.45549337, 0.45549337,\n",
       "         0.0095576 , 0.0095576 , 0.12836602, 0.12836602, 0.03408941,\n",
       "         0.03408941, 0.71563778, 0.71563778, 0.21540179, 0.21540179,\n",
       "         0.13150185, 0.13150185, 0.67162644, 0.67162644, 0.91636627,\n",
       "         0.91636627, 0.51154326, 0.51154326, 0.74504787, 0.74504787,\n",
       "         0.77212138, 0.77212138, 0.83278228, 0.83278228, 0.25088777,\n",
       "         0.25088777, 0.73801055, 0.73801055, 0.20612774, 0.20612774,\n",
       "         0.70188749, 0.70188749, 0.42765859, 0.42765859, 0.75521357,\n",
       "         0.75521357, 0.38347071, 0.38347071, 0.251299  , 0.251299  ,\n",
       "         0.95652904, 0.95652904, 0.82502296, 0.82502296, 0.2308369 ,\n",
       "         0.2308369 , 0.32007392, 0.32007392, 0.80380469, 0.80380469,\n",
       "         0.69119024, 0.69119024, 0.5854755 , 0.5854755 , 0.12908213,\n",
       "         0.12908213, 0.8384526 , 0.8384526 , 0.23755319, 0.23755319,\n",
       "         0.33756319, 0.33756319, 0.09100751, 0.09100751, 0.90431678,\n",
       "         0.90431678, 0.11152892, 0.11152892, 0.99173167, 0.99173167,\n",
       "         0.36765367, 0.36765367, 0.40806604, 0.40806604, 0.04671856,\n",
       "         0.04671856, 0.99410356, 0.99410356, 0.43938208, 0.43938208,\n",
       "         0.42202435, 0.42202435, 0.77726002, 0.77726002, 0.4154995 ,\n",
       "         0.4154995 , 0.50109786, 0.50109786, 0.32972275, 0.32972275,\n",
       "         0.05153364, 0.05153364, 0.97774863, 0.97774863, 0.39039545,\n",
       "         0.39039545, 0.3628505 , 0.3628505 , 0.1930076 , 0.1930076 ,\n",
       "         0.23318939, 0.23318939, 0.87156907, 0.87156907, 0.70566681,\n",
       "         0.70566681, 0.11708147, 0.11708147, 0.7439708 , 0.7439708 ,\n",
       "         0.70012595, 0.70012595, 0.47515462, 0.47515462, 0.52497017,\n",
       "         0.52497017, 0.0272479 , 0.0272479 , 0.12376449, 0.12376449,\n",
       "         0.1619997 , 0.1619997 , 0.78540679, 0.78540679, 0.39728035,\n",
       "         0.39728035, 0.75341148, 0.75341148, 0.54766159, 0.54766159,\n",
       "         0.68210909, 0.68210909, 0.6331577 , 0.6331577 , 0.07415607,\n",
       "         0.07415607, 0.53859522, 0.53859522, 0.51043835, 0.51043835,\n",
       "         0.05749147, 0.05749147, 0.56131498, 0.56131498, 0.07443072,\n",
       "         0.07443072, 0.85352936, 0.85352936, 0.63236602, 0.63236602])}}"
      ]
     },
     "execution_count": 1,
     "metadata": {},
     "output_type": "execute_result"
    }
   ],
   "source": [
    "ds = load_by_id(run_id_n)\n",
    "ds.get_parameter_data('x1')"
   ]
  },
  {
   "cell_type": "markdown",
   "metadata": {},
   "source": [
    "And a dataset stored as binary arrays"
   ]
  },
  {
   "cell_type": "code",
   "execution_count": 12,
   "metadata": {
    "execution": {
     "iopub.execute_input": "2021-05-17T09:34:19.369808Z",
     "iopub.status.busy": "2021-05-17T09:34:19.369321Z",
     "iopub.status.idle": "2021-05-17T09:34:19.419902Z",
     "shell.execute_reply": "2021-05-17T09:34:19.420414Z"
    },
    "scrolled": true
   },
   "outputs": [
    {
     "data": {
      "text/plain": [
       "{'x1': {'x1': array([[0.90522811],\n",
       "         [0.90522811],\n",
       "         [0.15373445],\n",
       "         [0.15373445],\n",
       "         [0.25999589],\n",
       "         [0.25999589],\n",
       "         [0.90600276],\n",
       "         [0.90600276],\n",
       "         [0.25196357],\n",
       "         [0.25196357],\n",
       "         [0.61376299],\n",
       "         [0.61376299],\n",
       "         [0.62209493],\n",
       "         [0.62209493],\n",
       "         [0.35677608],\n",
       "         [0.35677608],\n",
       "         [0.29155091],\n",
       "         [0.29155091],\n",
       "         [0.98449781],\n",
       "         [0.98449781],\n",
       "         [0.69790393],\n",
       "         [0.69790393],\n",
       "         [0.42951368],\n",
       "         [0.42951368],\n",
       "         [0.12050862],\n",
       "         [0.12050862],\n",
       "         [0.08042447],\n",
       "         [0.08042447],\n",
       "         [0.24411326],\n",
       "         [0.24411326],\n",
       "         [0.46959153],\n",
       "         [0.46959153],\n",
       "         [0.22339086],\n",
       "         [0.22339086],\n",
       "         [0.23254172],\n",
       "         [0.23254172],\n",
       "         [0.29868997],\n",
       "         [0.29868997],\n",
       "         [0.55137432],\n",
       "         [0.55137432],\n",
       "         [0.27854548],\n",
       "         [0.27854548],\n",
       "         [0.5274118 ],\n",
       "         [0.5274118 ],\n",
       "         [0.30549077],\n",
       "         [0.30549077],\n",
       "         [0.55619298],\n",
       "         [0.55619298],\n",
       "         [0.3940146 ],\n",
       "         [0.3940146 ],\n",
       "         [0.33411545],\n",
       "         [0.33411545],\n",
       "         [0.8382146 ],\n",
       "         [0.8382146 ],\n",
       "         [0.63307875],\n",
       "         [0.63307875],\n",
       "         [0.10211011],\n",
       "         [0.10211011],\n",
       "         [0.14640456],\n",
       "         [0.14640456],\n",
       "         [0.99862425],\n",
       "         [0.99862425],\n",
       "         [0.88359126],\n",
       "         [0.88359126],\n",
       "         [0.34533249],\n",
       "         [0.34533249],\n",
       "         [0.93138692],\n",
       "         [0.93138692],\n",
       "         [0.63421763],\n",
       "         [0.63421763],\n",
       "         [0.40904794],\n",
       "         [0.40904794],\n",
       "         [0.95539353],\n",
       "         [0.95539353],\n",
       "         [0.85376113],\n",
       "         [0.85376113],\n",
       "         [0.10287888],\n",
       "         [0.10287888],\n",
       "         [0.65954441],\n",
       "         [0.65954441],\n",
       "         [0.88726307],\n",
       "         [0.88726307],\n",
       "         [0.46394021],\n",
       "         [0.46394021],\n",
       "         [0.0810227 ],\n",
       "         [0.0810227 ],\n",
       "         [0.08355767],\n",
       "         [0.08355767],\n",
       "         [0.71009074],\n",
       "         [0.71009074],\n",
       "         [0.328493  ],\n",
       "         [0.328493  ],\n",
       "         [0.65610814],\n",
       "         [0.65610814],\n",
       "         [0.24775819],\n",
       "         [0.24775819],\n",
       "         [0.83462177],\n",
       "         [0.83462177],\n",
       "         [0.82468898],\n",
       "         [0.82468898],\n",
       "         [0.2000378 ],\n",
       "         [0.2000378 ],\n",
       "         [0.60368314],\n",
       "         [0.60368314],\n",
       "         [0.18656526],\n",
       "         [0.18656526],\n",
       "         [0.1212755 ],\n",
       "         [0.1212755 ],\n",
       "         [0.46222503],\n",
       "         [0.46222503],\n",
       "         [0.9891451 ],\n",
       "         [0.9891451 ],\n",
       "         [0.8921379 ],\n",
       "         [0.8921379 ],\n",
       "         [0.96190889],\n",
       "         [0.96190889],\n",
       "         [0.4518369 ],\n",
       "         [0.4518369 ],\n",
       "         [0.12617492],\n",
       "         [0.12617492],\n",
       "         [0.67031062],\n",
       "         [0.67031062],\n",
       "         [0.65919742],\n",
       "         [0.65919742],\n",
       "         [0.87540447],\n",
       "         [0.87540447],\n",
       "         [0.05203625],\n",
       "         [0.05203625],\n",
       "         [0.22296818],\n",
       "         [0.22296818],\n",
       "         [0.2879101 ],\n",
       "         [0.2879101 ],\n",
       "         [0.99877816],\n",
       "         [0.99877816],\n",
       "         [0.16077877],\n",
       "         [0.16077877],\n",
       "         [0.50333654],\n",
       "         [0.50333654],\n",
       "         [0.66296956],\n",
       "         [0.66296956],\n",
       "         [0.87269296],\n",
       "         [0.87269296],\n",
       "         [0.86355043],\n",
       "         [0.86355043],\n",
       "         [0.09939692],\n",
       "         [0.09939692],\n",
       "         [0.76707969],\n",
       "         [0.76707969],\n",
       "         [0.87777206],\n",
       "         [0.87777206],\n",
       "         [0.61357529],\n",
       "         [0.61357529],\n",
       "         [0.60844283],\n",
       "         [0.60844283],\n",
       "         [0.56218412],\n",
       "         [0.56218412],\n",
       "         [0.22751123],\n",
       "         [0.22751123],\n",
       "         [0.96720903],\n",
       "         [0.96720903],\n",
       "         [0.33458874],\n",
       "         [0.33458874],\n",
       "         [0.30367733],\n",
       "         [0.30367733],\n",
       "         [0.02721123],\n",
       "         [0.02721123],\n",
       "         [0.55327643],\n",
       "         [0.55327643],\n",
       "         [0.15817247],\n",
       "         [0.15817247],\n",
       "         [0.68649064],\n",
       "         [0.68649064],\n",
       "         [0.61217518],\n",
       "         [0.61217518],\n",
       "         [0.5809221 ],\n",
       "         [0.5809221 ],\n",
       "         [0.25284958],\n",
       "         [0.25284958],\n",
       "         [0.44475047],\n",
       "         [0.44475047],\n",
       "         [0.37402798],\n",
       "         [0.37402798],\n",
       "         [0.5490054 ],\n",
       "         [0.5490054 ],\n",
       "         [0.60452112],\n",
       "         [0.60452112],\n",
       "         [0.70989564],\n",
       "         [0.70989564],\n",
       "         [0.75581201],\n",
       "         [0.75581201],\n",
       "         [0.41411732],\n",
       "         [0.41411732],\n",
       "         [0.81631577],\n",
       "         [0.81631577],\n",
       "         [0.48968662],\n",
       "         [0.48968662],\n",
       "         [0.66334883],\n",
       "         [0.66334883],\n",
       "         [0.37152021],\n",
       "         [0.37152021]])}}"
      ]
     },
     "execution_count": 1,
     "metadata": {},
     "output_type": "execute_result"
    }
   ],
   "source": [
    "ds = load_by_id(run_id_a)\n",
    "ds.get_parameter_data('x1')"
   ]
  },
  {
   "cell_type": "code",
   "execution_count": null,
   "metadata": {},
   "outputs": [],
   "source": []
  }
 ],
 "metadata": {
  "kernelspec": {
   "display_name": "Python 3",
   "language": "python",
   "name": "python3"
  },
  "language_info": {
   "codemirror_mode": {
    "name": "ipython",
    "version": 3
   },
   "file_extension": ".py",
   "mimetype": "text/x-python",
   "name": "python",
   "nbconvert_exporter": "python",
   "pygments_lexer": "ipython3",
   "version": "3.7.10"
  },
  "nbsphinx": {
   "timeout": 600
  },
  "toc": {
   "base_numbering": 1,
   "nav_menu": {},
   "number_sections": true,
   "sideBar": true,
   "skip_h1_title": false,
   "title_cell": "Table of Contents",
   "title_sidebar": "Contents",
   "toc_cell": false,
   "toc_position": {},
   "toc_section_display": true,
   "toc_window_display": false
  },
  "varInspector": {
   "cols": {
    "lenName": 16,
    "lenType": 16,
    "lenVar": 40
   },
   "kernels_config": {
    "python": {
     "delete_cmd_postfix": "",
     "delete_cmd_prefix": "del ",
     "library": "var_list.py",
     "varRefreshCmd": "print(var_dic_list())"
    },
    "r": {
     "delete_cmd_postfix": ") ",
     "delete_cmd_prefix": "rm(",
     "library": "var_list.r",
     "varRefreshCmd": "cat(var_dic_list()) "
    }
   },
   "types_to_exclude": [
    "module",
    "function",
    "builtin_function_or_method",
    "instance",
    "_Feature"
   ],
   "window_display": false
  }
 },
 "nbformat": 4,
 "nbformat_minor": 4
}
