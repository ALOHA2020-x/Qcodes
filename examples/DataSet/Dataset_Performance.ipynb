{
 "cells": [
  {
   "cell_type": "markdown",
   "metadata": {},
   "source": [
    "# DataSet Performance\n",
    "\n",
    "This notebook shows the trade-off between inserting data into a database row-by-row and as binary blobs. Inserting the data row-by-row means that we have direct access to all the data and may perform queries directly on the values of the data. On the other hand, as we shall see, this is much slower than inserting the data directly as binary blobs."
   ]
  },
  {
   "cell_type": "markdown",
   "metadata": {},
   "source": [
    "First, we choose a new location for the database to ensure that we don't add a bunch of benchmarking data to the default one."
   ]
  },
  {
   "cell_type": "code",
   "execution_count": 1,
   "metadata": {
    "execution": {
     "iopub.execute_input": "2021-02-11T11:21:57.170665Z",
     "iopub.status.busy": "2021-02-11T11:21:57.170113Z",
     "iopub.status.idle": "2021-02-11T11:21:58.155757Z",
     "shell.execute_reply": "2021-02-11T11:21:58.155109Z"
    }
   },
   "outputs": [
    {
     "name": "stdout",
     "output_type": "stream",
     "text": [
      "Logging hadn't been started.\n",
      "Activating auto-logging. Current session state plus future input saved.\n",
      "Filename       : /home/vsts/.qcodes/logs/command_history.log\n",
      "Mode           : append\n",
      "Output logging : True\n",
      "Raw input log  : False\n",
      "Timestamping   : True\n",
      "State          : active\n"
     ]
    },
    {
     "name": "stdout",
     "output_type": "stream",
     "text": [
      "Qcodes Logfile : /home/vsts/.qcodes/logs/210211-7044-qcodes.log\n"
     ]
    }
   ],
   "source": [
    "import os\n",
    "cwd = os.getcwd()\n",
    "import qcodes as qc\n",
    "qc.config[\"core\"][\"db_location\"] = os.path.join(cwd, 'testing.db')\n"
   ]
  },
  {
   "cell_type": "code",
   "execution_count": 2,
   "metadata": {
    "execution": {
     "iopub.execute_input": "2021-02-11T11:21:58.161959Z",
     "iopub.status.busy": "2021-02-11T11:21:58.161381Z",
     "iopub.status.idle": "2021-02-11T11:21:58.342737Z",
     "shell.execute_reply": "2021-02-11T11:21:58.341674Z"
    }
   },
   "outputs": [],
   "source": [
    "%matplotlib inline\n",
    "import time\n",
    "import matplotlib.pyplot as plt\n",
    "import numpy as np\n",
    "\n",
    "import qcodes as qc\n",
    "from qcodes.instrument.parameter import ManualParameter\n",
    "from qcodes.dataset.experiment_container import (Experiment,\n",
    "                                                 load_last_experiment,\n",
    "                                                 new_experiment)\n",
    "from qcodes.dataset.sqlite.database import initialise_database\n",
    "from qcodes import load_or_create_experiment\n",
    "from qcodes.dataset.measurements import Measurement"
   ]
  },
  {
   "cell_type": "code",
   "execution_count": 3,
   "metadata": {
    "execution": {
     "iopub.execute_input": "2021-02-11T11:21:58.346646Z",
     "iopub.status.busy": "2021-02-11T11:21:58.346091Z",
     "iopub.status.idle": "2021-02-11T11:21:58.446655Z",
     "shell.execute_reply": "2021-02-11T11:21:58.446171Z"
    }
   },
   "outputs": [
    {
     "name": "stdout",
     "output_type": "stream",
     "text": [
      "\r",
      "0it [00:00, ?it/s]"
     ]
    },
    {
     "name": "stdout",
     "output_type": "stream",
     "text": [
      "\r",
      "Upgrading database; v0 -> v1: : 0it [00:00, ?it/s]"
     ]
    },
    {
     "name": "stdout",
     "output_type": "stream",
     "text": [
      "\r",
      "Upgrading database; v0 -> v1: : 0it [00:00, ?it/s]"
     ]
    },
    {
     "name": "stdout",
     "output_type": "stream",
     "text": [
      "\n",
      "\r",
      "  0%|          | 0/1 [00:00<?, ?it/s]"
     ]
    },
    {
     "name": "stdout",
     "output_type": "stream",
     "text": [
      "\r",
      "Upgrading database; v1 -> v2:   0%|          | 0/1 [00:00<?, ?it/s]"
     ]
    },
    {
     "name": "stdout",
     "output_type": "stream",
     "text": [
      "\r",
      "Upgrading database; v1 -> v2: 100%|██████████| 1/1 [00:00<00:00, 1181.83it/s]"
     ]
    },
    {
     "name": "stdout",
     "output_type": "stream",
     "text": [
      "\n",
      "\r",
      "0it [00:00, ?it/s]"
     ]
    },
    {
     "name": "stdout",
     "output_type": "stream",
     "text": [
      "\r",
      "Upgrading database; v2 -> v3: : 0it [00:00, ?it/s]"
     ]
    },
    {
     "name": "stdout",
     "output_type": "stream",
     "text": [
      "\r",
      "Upgrading database; v2 -> v3: : 0it [00:00, ?it/s]"
     ]
    },
    {
     "name": "stdout",
     "output_type": "stream",
     "text": [
      "\n",
      "\r",
      "0it [00:00, ?it/s]"
     ]
    },
    {
     "name": "stdout",
     "output_type": "stream",
     "text": [
      "\r",
      "Upgrading database; v3 -> v4: : 0it [00:00, ?it/s]"
     ]
    },
    {
     "name": "stdout",
     "output_type": "stream",
     "text": [
      "\r",
      "Upgrading database; v3 -> v4: : 0it [00:00, ?it/s]"
     ]
    },
    {
     "name": "stdout",
     "output_type": "stream",
     "text": [
      "\n",
      "\r",
      "  0%|          | 0/1 [00:00<?, ?it/s]"
     ]
    },
    {
     "name": "stdout",
     "output_type": "stream",
     "text": [
      "\r",
      "Upgrading database; v4 -> v5:   0%|          | 0/1 [00:00<?, ?it/s]"
     ]
    },
    {
     "name": "stdout",
     "output_type": "stream",
     "text": [
      "\r",
      "Upgrading database; v4 -> v5: 100%|██████████| 1/1 [00:00<00:00, 819.68it/s]"
     ]
    },
    {
     "name": "stdout",
     "output_type": "stream",
     "text": [
      "\n",
      "\r",
      "0it [00:00, ?it/s]"
     ]
    },
    {
     "name": "stdout",
     "output_type": "stream",
     "text": [
      "\r",
      "Upgrading database; v5 -> v6: : 0it [00:00, ?it/s]"
     ]
    },
    {
     "name": "stdout",
     "output_type": "stream",
     "text": [
      "\r",
      "Upgrading database; v5 -> v6: : 0it [00:00, ?it/s]"
     ]
    },
    {
     "name": "stdout",
     "output_type": "stream",
     "text": [
      "\n",
      "\r",
      "  0%|          | 0/1 [00:00<?, ?it/s]"
     ]
    },
    {
     "name": "stdout",
     "output_type": "stream",
     "text": [
      "\r",
      "Upgrading database; v6 -> v7:   0%|          | 0/1 [00:00<?, ?it/s]"
     ]
    },
    {
     "name": "stdout",
     "output_type": "stream",
     "text": [
      "\r",
      "Upgrading database; v6 -> v7: 100%|██████████| 1/1 [00:00<00:00, 439.24it/s]"
     ]
    },
    {
     "name": "stdout",
     "output_type": "stream",
     "text": [
      "\n",
      "\r",
      "  0%|          | 0/1 [00:00<?, ?it/s]"
     ]
    },
    {
     "name": "stdout",
     "output_type": "stream",
     "text": [
      "\r",
      "Upgrading database; v7 -> v8:   0%|          | 0/1 [00:00<?, ?it/s]"
     ]
    },
    {
     "name": "stdout",
     "output_type": "stream",
     "text": [
      "\r",
      "Upgrading database; v7 -> v8: 100%|██████████| 1/1 [00:00<00:00, 804.74it/s]"
     ]
    },
    {
     "name": "stdout",
     "output_type": "stream",
     "text": [
      "\n",
      "\r",
      "  0%|          | 0/1 [00:00<?, ?it/s]"
     ]
    },
    {
     "name": "stdout",
     "output_type": "stream",
     "text": [
      "\r",
      "Upgrading database; v8 -> v9:   0%|          | 0/1 [00:00<?, ?it/s]"
     ]
    },
    {
     "name": "stdout",
     "output_type": "stream",
     "text": [
      "\r",
      "Upgrading database; v8 -> v9: 100%|██████████| 1/1 [00:00<00:00, 880.79it/s]"
     ]
    },
    {
     "name": "stdout",
     "output_type": "stream",
     "text": [
      "\n"
     ]
    }
   ],
   "source": [
    "initialise_database()\n",
    "exp = load_or_create_experiment(experiment_name='tutorial_exp', sample_name=\"no sample\")"
   ]
  },
  {
   "cell_type": "markdown",
   "metadata": {},
   "source": [
    "Here, we define a simple function to benchmark the time it takes to insert n points with either numeric or array data type.\n",
    "We will compare both the time used to call ``add_result`` and the time used for the full measurement."
   ]
  },
  {
   "cell_type": "code",
   "execution_count": 4,
   "metadata": {
    "execution": {
     "iopub.execute_input": "2021-02-11T11:21:58.462307Z",
     "iopub.status.busy": "2021-02-11T11:21:58.461227Z",
     "iopub.status.idle": "2021-02-11T11:21:58.463307Z",
     "shell.execute_reply": "2021-02-11T11:21:58.461805Z"
    }
   },
   "outputs": [],
   "source": [
    "def insert_data(paramtype, npoints, nreps=1):\n",
    "\n",
    "    meas = Measurement(exp=exp)\n",
    "\n",
    "    x1 = ManualParameter('x1')\n",
    "    x2 = ManualParameter('x2')\n",
    "    x3 = ManualParameter('x3')\n",
    "    y1 = ManualParameter('y1')\n",
    "    y2 = ManualParameter('y2')\n",
    "\n",
    "    meas.register_parameter(x1, paramtype=paramtype)\n",
    "    meas.register_parameter(x2, paramtype=paramtype)\n",
    "    meas.register_parameter(x3, paramtype=paramtype)\n",
    "    meas.register_parameter(y1, setpoints=[x1, x2, x3],\n",
    "                            paramtype=paramtype)\n",
    "    meas.register_parameter(y2, setpoints=[x1, x2, x3],\n",
    "                            paramtype=paramtype)\n",
    "    start = time.perf_counter()\n",
    "    with meas.run() as datasaver:\n",
    "        start_adding = time.perf_counter()\n",
    "        for i in range(nreps):\n",
    "            datasaver.add_result((x1, np.random.rand(npoints)),\n",
    "                                 (x2, np.random.rand(npoints)),\n",
    "                                 (x3, np.random.rand(npoints)),\n",
    "                                 (y1, np.random.rand(npoints)),\n",
    "                                 (y2, np.random.rand(npoints)))\n",
    "        stop_adding = time.perf_counter()\n",
    "        run_id = datasaver.run_id\n",
    "    stop = time.perf_counter()\n",
    "    tot_time = stop - start\n",
    "    add_time = stop_adding - start_adding\n",
    "    return tot_time, add_time, run_id"
   ]
  },
  {
   "cell_type": "markdown",
   "metadata": {},
   "source": [
    "## Comparison between numeric/array data and binary blob"
   ]
  },
  {
   "cell_type": "markdown",
   "metadata": {},
   "source": [
    "### Case1: Short experiment time"
   ]
  },
  {
   "cell_type": "code",
   "execution_count": 5,
   "metadata": {
    "execution": {
     "iopub.execute_input": "2021-02-11T11:21:58.471340Z",
     "iopub.status.busy": "2021-02-11T11:21:58.470408Z",
     "iopub.status.idle": "2021-02-11T11:21:59.220992Z",
     "shell.execute_reply": "2021-02-11T11:21:59.220568Z"
    }
   },
   "outputs": [
    {
     "name": "stdout",
     "output_type": "stream",
     "text": [
      "Starting experimental run with id: 1. \n",
      "Starting experimental run with id: 2. \n",
      "Starting experimental run with id: 3. \n",
      "Starting experimental run with id: 4. \n",
      "Starting experimental run with id: 5. \n"
     ]
    },
    {
     "name": "stdout",
     "output_type": "stream",
     "text": [
      "Starting experimental run with id: 6. \n"
     ]
    },
    {
     "name": "stdout",
     "output_type": "stream",
     "text": [
      "Starting experimental run with id: 7. "
     ]
    },
    {
     "name": "stdout",
     "output_type": "stream",
     "text": [
      "\n"
     ]
    },
    {
     "name": "stdout",
     "output_type": "stream",
     "text": [
      "Starting experimental run with id: 8. \n",
      "Starting experimental run with id: 9. \n"
     ]
    },
    {
     "name": "stdout",
     "output_type": "stream",
     "text": [
      "Starting experimental run with id: 10. \n"
     ]
    },
    {
     "name": "stdout",
     "output_type": "stream",
     "text": [
      "Starting experimental run with id: 11. \n"
     ]
    },
    {
     "name": "stdout",
     "output_type": "stream",
     "text": [
      "Starting experimental run with id: 12. \n",
      "Starting experimental run with id: 13. \n"
     ]
    },
    {
     "name": "stdout",
     "output_type": "stream",
     "text": [
      "Starting experimental run with id: 14. \n"
     ]
    }
   ],
   "source": [
    "sizes = [1,500,1000,2000,3000,4000,5000]\n",
    "t_numeric = []\n",
    "t_numeric_add = []\n",
    "t_array = []\n",
    "t_array_add = []\n",
    "for size in sizes:\n",
    "    tn, tna, run_id_n =  insert_data('numeric', size)\n",
    "    t_numeric.append(tn)\n",
    "    t_numeric_add.append(tna)\n",
    "\n",
    "    ta, taa, run_id_a =  insert_data('array', size)\n",
    "    t_array.append(ta)\n",
    "    t_array_add.append(taa)"
   ]
  },
  {
   "cell_type": "code",
   "execution_count": 6,
   "metadata": {
    "execution": {
     "iopub.execute_input": "2021-02-11T11:21:59.262836Z",
     "iopub.status.busy": "2021-02-11T11:21:59.237280Z",
     "iopub.status.idle": "2021-02-11T11:21:59.425854Z",
     "shell.execute_reply": "2021-02-11T11:21:59.426250Z"
    }
   },
   "outputs": [
    {
     "data": {
      "image/png": "[encoded data removed]",
      "text/plain": [
       "<Figure size 432x288 with 1 Axes>"
      ]
     },
     "metadata": {
      "needs_background": "light"
     },
     "output_type": "display_data"
    }
   ],
   "source": [
    "fig, ax = plt.subplots(1,1)\n",
    "ax.plot(sizes, t_numeric, 'o-', label='Inserting row-by-row')\n",
    "ax.plot(sizes, t_numeric_add, 'o-', label='Inserting row-by-row: add_result only')\n",
    "ax.plot(sizes, t_array, 'd-', label='Inserting as binary blob')\n",
    "ax.plot(sizes, t_array_add, 'd-', label='Inserting as binary blob: add_result only')\n",
    "ax.legend()\n",
    "ax.set_xlabel('Array length')\n",
    "ax.set_ylabel('Time (s)')\n",
    "fig.tight_layout()"
   ]
  },
  {
   "cell_type": "markdown",
   "metadata": {},
   "source": [
    "As shown in the latter figure, the time to setup and and close the experiment is approximately 0.4 sec. In case of small array sizes, the difference between inserting values of data as arrays and inserting them row-by-row is relatively unimportant. At larger array sizes, i.e. above 10000 points, the cost of writing data as individual datapoints starts to become important.\n"
   ]
  },
  {
   "cell_type": "markdown",
   "metadata": {},
   "source": [
    "### Case2: Long experiment time "
   ]
  },
  {
   "cell_type": "code",
   "execution_count": 7,
   "metadata": {
    "execution": {
     "iopub.execute_input": "2021-02-11T11:21:59.433308Z",
     "iopub.status.busy": "2021-02-11T11:21:59.432731Z",
     "iopub.status.idle": "2021-02-11T11:22:55.023055Z",
     "shell.execute_reply": "2021-02-11T11:22:55.021981Z"
    }
   },
   "outputs": [
    {
     "name": "stdout",
     "output_type": "stream",
     "text": [
      "Starting experimental run with id: 15. \n",
      "Starting experimental run with id: 16. \n",
      "Starting experimental run with id: 17. \n"
     ]
    },
    {
     "name": "stdout",
     "output_type": "stream",
     "text": [
      "Starting experimental run with id: 18. \n",
      "Starting experimental run with id: 19. \n"
     ]
    },
    {
     "name": "stdout",
     "output_type": "stream",
     "text": [
      "Starting experimental run with id: 20. \n"
     ]
    },
    {
     "name": "stdout",
     "output_type": "stream",
     "text": [
      "Starting experimental run with id: 21. \n"
     ]
    },
    {
     "name": "stdout",
     "output_type": "stream",
     "text": [
      "Starting experimental run with id: 22. \n"
     ]
    },
    {
     "name": "stdout",
     "output_type": "stream",
     "text": [
      "Starting experimental run with id: 23. \n"
     ]
    },
    {
     "name": "stdout",
     "output_type": "stream",
     "text": [
      "Starting experimental run with id: 24. \n"
     ]
    },
    {
     "name": "stdout",
     "output_type": "stream",
     "text": [
      "Starting experimental run with id: 25. \n"
     ]
    },
    {
     "name": "stdout",
     "output_type": "stream",
     "text": [
      "Starting experimental run with id: 26. \n"
     ]
    },
    {
     "name": "stdout",
     "output_type": "stream",
     "text": [
      "Starting experimental run with id: 27. \n"
     ]
    },
    {
     "name": "stdout",
     "output_type": "stream",
     "text": [
      "Starting experimental run with id: 28. \n"
     ]
    }
   ],
   "source": [
    "sizes = [1,500,1000,2000,3000,4000,5000]\n",
    "nreps = 100\n",
    "t_numeric = []\n",
    "t_numeric_add = []\n",
    "t_numeric_run_ids = []\n",
    "t_array = []\n",
    "t_array_add = []\n",
    "t_array_run_ids = []\n",
    "for size in sizes:\n",
    "    tn, tna, run_id_n =  insert_data('numeric', size, nreps=nreps)\n",
    "    t_numeric.append(tn)\n",
    "    t_numeric_add.append(tna)\n",
    "    t_numeric_run_ids.append(run_id_n)\n",
    "\n",
    "    ta, taa, run_id_a =  insert_data('array', size, nreps=nreps)\n",
    "    t_array.append(ta)\n",
    "    t_array_add.append(taa)\n",
    "    t_array_run_ids.append(run_id_a)"
   ]
  },
  {
   "cell_type": "code",
   "execution_count": 8,
   "metadata": {
    "execution": {
     "iopub.execute_input": "2021-02-11T11:22:55.056018Z",
     "iopub.status.busy": "2021-02-11T11:22:55.046164Z",
     "iopub.status.idle": "2021-02-11T11:22:55.206228Z",
     "shell.execute_reply": "2021-02-11T11:22:55.206688Z"
    },
    "scrolled": true
   },
   "outputs": [
    {
     "data": {
      "image/png": "[encoded data removed]",
      "text/plain": [
       "<Figure size 432x288 with 1 Axes>"
      ]
     },
     "metadata": {
      "needs_background": "light"
     },
     "output_type": "display_data"
    }
   ],
   "source": [
    "fig, ax = plt.subplots(1,1)\n",
    "ax.plot(sizes, t_numeric, 'o-', label='Inserting row-by-row')\n",
    "ax.plot(sizes, t_numeric_add, 'o-', label='Inserting row-by-row: add_result only')\n",
    "ax.plot(sizes, t_array, 'd-', label='Inserting as binary blob')\n",
    "ax.plot(sizes, t_array_add, 'd-', label='Inserting as binary blob: add_result only')\n",
    "ax.legend()\n",
    "ax.set_xlabel('Array length')\n",
    "ax.set_ylabel('Time (s)')\n",
    "fig.tight_layout()"
   ]
  },
  {
   "cell_type": "markdown",
   "metadata": {},
   "source": [
    "However, as we increase the length of the experiment, as seen here by repeating the insertion 100 times, we see a big difference between inserting values of the data row-by-row and inserting it as a binary blob."
   ]
  },
  {
   "cell_type": "markdown",
   "metadata": {},
   "source": [
    "## Loading the data "
   ]
  },
  {
   "cell_type": "code",
   "execution_count": 9,
   "metadata": {
    "execution": {
     "iopub.execute_input": "2021-02-11T11:22:55.210293Z",
     "iopub.status.busy": "2021-02-11T11:22:55.209798Z",
     "iopub.status.idle": "2021-02-11T11:22:55.214098Z",
     "shell.execute_reply": "2021-02-11T11:22:55.213647Z"
    }
   },
   "outputs": [],
   "source": [
    "from qcodes.dataset.data_set import load_by_id\n",
    "from qcodes.dataset.data_export import get_data_by_id"
   ]
  },
  {
   "cell_type": "markdown",
   "metadata": {},
   "source": [
    "As usual you can load the data by using the ``load_by_id`` function but you will notice that the different storage methods\n",
    "are reflected in shape of the data as it is retrieved. "
   ]
  },
  {
   "cell_type": "code",
   "execution_count": 10,
   "metadata": {
    "execution": {
     "iopub.execute_input": "2021-02-11T11:22:55.218053Z",
     "iopub.status.busy": "2021-02-11T11:22:55.217520Z",
     "iopub.status.idle": "2021-02-11T11:22:55.220289Z",
     "shell.execute_reply": "2021-02-11T11:22:55.220976Z"
    }
   },
   "outputs": [],
   "source": [
    "run_id_n = t_numeric_run_ids[0]\n",
    "run_id_a = t_array_run_ids[0]"
   ]
  },
  {
   "cell_type": "code",
   "execution_count": 11,
   "metadata": {
    "execution": {
     "iopub.execute_input": "2021-02-11T11:22:55.224097Z",
     "iopub.status.busy": "2021-02-11T11:22:55.223611Z",
     "iopub.status.idle": "2021-02-11T11:22:55.231942Z",
     "shell.execute_reply": "2021-02-11T11:22:55.231502Z"
    },
    "scrolled": true
   },
   "outputs": [
    {
     "data": {
      "text/plain": [
       "{'x1': {'x1': array([0.96884054, 0.96884054, 0.43379359, 0.43379359, 0.1228719 ,\n",
       "         0.1228719 , 0.28833691, 0.28833691, 0.35533587, 0.35533587,\n",
       "         0.65557841, 0.65557841, 0.77484474, 0.77484474, 0.74236734,\n",
       "         0.74236734, 0.2866228 , 0.2866228 , 0.98680465, 0.98680465,\n",
       "         0.49878477, 0.49878477, 0.60797278, 0.60797278, 0.11412649,\n",
       "         0.11412649, 0.48987063, 0.48987063, 0.80390725, 0.80390725,\n",
       "         0.08176379, 0.08176379, 0.29788713, 0.29788713, 0.67727816,\n",
       "         0.67727816, 0.07609478, 0.07609478, 0.49101198, 0.49101198,\n",
       "         0.49305752, 0.49305752, 0.31618478, 0.31618478, 0.40631345,\n",
       "         0.40631345, 0.61902953, 0.61902953, 0.57835757, 0.57835757,\n",
       "         0.89301286, 0.89301286, 0.45956204, 0.45956204, 0.51230811,\n",
       "         0.51230811, 0.34038561, 0.34038561, 0.89088495, 0.89088495,\n",
       "         0.14791282, 0.14791282, 0.94558699, 0.94558699, 0.43344701,\n",
       "         0.43344701, 0.06149101, 0.06149101, 0.3633559 , 0.3633559 ,\n",
       "         0.24581338, 0.24581338, 0.340133  , 0.340133  , 0.1164041 ,\n",
       "         0.1164041 , 0.86380081, 0.86380081, 0.48918498, 0.48918498,\n",
       "         0.66411316, 0.66411316, 0.61516333, 0.61516333, 0.85719951,\n",
       "         0.85719951, 0.82517144, 0.82517144, 0.96007731, 0.96007731,\n",
       "         0.64036699, 0.64036699, 0.25379   , 0.25379   , 0.62105303,\n",
       "         0.62105303, 0.93263377, 0.93263377, 0.35286948, 0.35286948,\n",
       "         0.85594957, 0.85594957, 0.11273792, 0.11273792, 0.58171306,\n",
       "         0.58171306, 0.55035799, 0.55035799, 0.29388222, 0.29388222,\n",
       "         0.40970721, 0.40970721, 0.30327812, 0.30327812, 0.91097359,\n",
       "         0.91097359, 0.07013565, 0.07013565, 0.62942802, 0.62942802,\n",
       "         0.81138455, 0.81138455, 0.13010145, 0.13010145, 0.80447309,\n",
       "         0.80447309, 0.3071698 , 0.3071698 , 0.03267207, 0.03267207,\n",
       "         0.63941609, 0.63941609, 0.08800175, 0.08800175, 0.16113109,\n",
       "         0.16113109, 0.63889717, 0.63889717, 0.48937608, 0.48937608,\n",
       "         0.38073882, 0.38073882, 0.19399845, 0.19399845, 0.82762997,\n",
       "         0.82762997, 0.18623656, 0.18623656, 0.78121278, 0.78121278,\n",
       "         0.7186367 , 0.7186367 , 0.43781064, 0.43781064, 0.78580295,\n",
       "         0.78580295, 0.44427638, 0.44427638, 0.14328533, 0.14328533,\n",
       "         0.36820599, 0.36820599, 0.05691697, 0.05691697, 0.54502213,\n",
       "         0.54502213, 0.47159151, 0.47159151, 0.45377224, 0.45377224,\n",
       "         0.24996682, 0.24996682, 0.68393753, 0.68393753, 0.70535926,\n",
       "         0.70535926, 0.84120375, 0.84120375, 0.09181389, 0.09181389,\n",
       "         0.85284933, 0.85284933, 0.74799662, 0.74799662, 0.55170457,\n",
       "         0.55170457, 0.94811553, 0.94811553, 0.54734631, 0.54734631,\n",
       "         0.17408104, 0.17408104, 0.41093535, 0.41093535, 0.82559179,\n",
       "         0.82559179, 0.25977086, 0.25977086, 0.72096171, 0.72096171])}}"
      ]
     },
     "execution_count": 1,
     "metadata": {},
     "output_type": "execute_result"
    }
   ],
   "source": [
    "ds = load_by_id(run_id_n)\n",
    "ds.get_parameter_data('x1')"
   ]
  },
  {
   "cell_type": "markdown",
   "metadata": {},
   "source": [
    "And a dataset stored as binary arrays"
   ]
  },
  {
   "cell_type": "code",
   "execution_count": 12,
   "metadata": {
    "execution": {
     "iopub.execute_input": "2021-02-11T11:22:55.235104Z",
     "iopub.status.busy": "2021-02-11T11:22:55.234587Z",
     "iopub.status.idle": "2021-02-11T11:22:55.287194Z",
     "shell.execute_reply": "2021-02-11T11:22:55.287584Z"
    },
    "scrolled": true
   },
   "outputs": [
    {
     "data": {
      "text/plain": [
       "{'x1': {'x1': array([[0.44176613],\n",
       "         [0.44176613],\n",
       "         [0.18264974],\n",
       "         [0.18264974],\n",
       "         [0.32226334],\n",
       "         [0.32226334],\n",
       "         [0.54179575],\n",
       "         [0.54179575],\n",
       "         [0.48416648],\n",
       "         [0.48416648],\n",
       "         [0.28736111],\n",
       "         [0.28736111],\n",
       "         [0.88832324],\n",
       "         [0.88832324],\n",
       "         [0.59848107],\n",
       "         [0.59848107],\n",
       "         [0.48922803],\n",
       "         [0.48922803],\n",
       "         [0.40062319],\n",
       "         [0.40062319],\n",
       "         [0.73910217],\n",
       "         [0.73910217],\n",
       "         [0.24857525],\n",
       "         [0.24857525],\n",
       "         [0.34347249],\n",
       "         [0.34347249],\n",
       "         [0.42255729],\n",
       "         [0.42255729],\n",
       "         [0.59607076],\n",
       "         [0.59607076],\n",
       "         [0.4751536 ],\n",
       "         [0.4751536 ],\n",
       "         [0.40814602],\n",
       "         [0.40814602],\n",
       "         [0.57378164],\n",
       "         [0.57378164],\n",
       "         [0.34054977],\n",
       "         [0.34054977],\n",
       "         [0.74337701],\n",
       "         [0.74337701],\n",
       "         [0.36274937],\n",
       "         [0.36274937],\n",
       "         [0.40364281],\n",
       "         [0.40364281],\n",
       "         [0.75292311],\n",
       "         [0.75292311],\n",
       "         [0.37605542],\n",
       "         [0.37605542],\n",
       "         [0.37354516],\n",
       "         [0.37354516],\n",
       "         [0.46054304],\n",
       "         [0.46054304],\n",
       "         [0.53578262],\n",
       "         [0.53578262],\n",
       "         [0.14277202],\n",
       "         [0.14277202],\n",
       "         [0.24331946],\n",
       "         [0.24331946],\n",
       "         [0.59370035],\n",
       "         [0.59370035],\n",
       "         [0.12373464],\n",
       "         [0.12373464],\n",
       "         [0.47587878],\n",
       "         [0.47587878],\n",
       "         [0.69337553],\n",
       "         [0.69337553],\n",
       "         [0.87166169],\n",
       "         [0.87166169],\n",
       "         [0.35616684],\n",
       "         [0.35616684],\n",
       "         [0.48968606],\n",
       "         [0.48968606],\n",
       "         [0.71425621],\n",
       "         [0.71425621],\n",
       "         [0.68871363],\n",
       "         [0.68871363],\n",
       "         [0.86250449],\n",
       "         [0.86250449],\n",
       "         [0.23630927],\n",
       "         [0.23630927],\n",
       "         [0.33383097],\n",
       "         [0.33383097],\n",
       "         [0.88389251],\n",
       "         [0.88389251],\n",
       "         [0.36881117],\n",
       "         [0.36881117],\n",
       "         [0.2659041 ],\n",
       "         [0.2659041 ],\n",
       "         [0.91536234],\n",
       "         [0.91536234],\n",
       "         [0.97131925],\n",
       "         [0.97131925],\n",
       "         [0.7164713 ],\n",
       "         [0.7164713 ],\n",
       "         [0.56616801],\n",
       "         [0.56616801],\n",
       "         [0.69995595],\n",
       "         [0.69995595],\n",
       "         [0.24642256],\n",
       "         [0.24642256],\n",
       "         [0.38118485],\n",
       "         [0.38118485],\n",
       "         [0.82860689],\n",
       "         [0.82860689],\n",
       "         [0.56417081],\n",
       "         [0.56417081],\n",
       "         [0.36036669],\n",
       "         [0.36036669],\n",
       "         [0.52680873],\n",
       "         [0.52680873],\n",
       "         [0.84728818],\n",
       "         [0.84728818],\n",
       "         [0.33441882],\n",
       "         [0.33441882],\n",
       "         [0.69710003],\n",
       "         [0.69710003],\n",
       "         [0.68453137],\n",
       "         [0.68453137],\n",
       "         [0.51472875],\n",
       "         [0.51472875],\n",
       "         [0.50709525],\n",
       "         [0.50709525],\n",
       "         [0.85998707],\n",
       "         [0.85998707],\n",
       "         [0.61690236],\n",
       "         [0.61690236],\n",
       "         [0.99228254],\n",
       "         [0.99228254],\n",
       "         [0.84493749],\n",
       "         [0.84493749],\n",
       "         [0.78870808],\n",
       "         [0.78870808],\n",
       "         [0.78722912],\n",
       "         [0.78722912],\n",
       "         [0.7943936 ],\n",
       "         [0.7943936 ],\n",
       "         [0.60504486],\n",
       "         [0.60504486],\n",
       "         [0.28909515],\n",
       "         [0.28909515],\n",
       "         [0.20427136],\n",
       "         [0.20427136],\n",
       "         [0.91594082],\n",
       "         [0.91594082],\n",
       "         [0.90277327],\n",
       "         [0.90277327],\n",
       "         [0.49655275],\n",
       "         [0.49655275],\n",
       "         [0.02225797],\n",
       "         [0.02225797],\n",
       "         [0.13311943],\n",
       "         [0.13311943],\n",
       "         [0.88834129],\n",
       "         [0.88834129],\n",
       "         [0.79263805],\n",
       "         [0.79263805],\n",
       "         [0.24001864],\n",
       "         [0.24001864],\n",
       "         [0.59479895],\n",
       "         [0.59479895],\n",
       "         [0.13736765],\n",
       "         [0.13736765],\n",
       "         [0.03214212],\n",
       "         [0.03214212],\n",
       "         [0.64374256],\n",
       "         [0.64374256],\n",
       "         [0.96057052],\n",
       "         [0.96057052],\n",
       "         [0.47407221],\n",
       "         [0.47407221],\n",
       "         [0.72533178],\n",
       "         [0.72533178],\n",
       "         [0.51948036],\n",
       "         [0.51948036],\n",
       "         [0.54326425],\n",
       "         [0.54326425],\n",
       "         [0.3517395 ],\n",
       "         [0.3517395 ],\n",
       "         [0.61675561],\n",
       "         [0.61675561],\n",
       "         [0.26231145],\n",
       "         [0.26231145],\n",
       "         [0.66803854],\n",
       "         [0.66803854],\n",
       "         [0.87989757],\n",
       "         [0.87989757],\n",
       "         [0.02700346],\n",
       "         [0.02700346],\n",
       "         [0.69642804],\n",
       "         [0.69642804],\n",
       "         [0.68905605],\n",
       "         [0.68905605],\n",
       "         [0.72976651],\n",
       "         [0.72976651],\n",
       "         [0.68764712],\n",
       "         [0.68764712],\n",
       "         [0.02221478],\n",
       "         [0.02221478],\n",
       "         [0.03029437],\n",
       "         [0.03029437]])}}"
      ]
     },
     "execution_count": 1,
     "metadata": {},
     "output_type": "execute_result"
    }
   ],
   "source": [
    "ds = load_by_id(run_id_a)\n",
    "ds.get_parameter_data('x1')"
   ]
  },
  {
   "cell_type": "code",
   "execution_count": null,
   "metadata": {},
   "outputs": [],
   "source": []
  }
 ],
 "metadata": {
  "kernelspec": {
   "display_name": "Python 3",
   "language": "python",
   "name": "python3"
  },
  "language_info": {
   "codemirror_mode": {
    "name": "ipython",
    "version": 3
   },
   "file_extension": ".py",
   "mimetype": "text/x-python",
   "name": "python",
   "nbconvert_exporter": "python",
   "pygments_lexer": "ipython3",
   "version": "3.7.9"
  },
  "nbsphinx": {
   "timeout": 600
  },
  "toc": {
   "base_numbering": 1,
   "nav_menu": {},
   "number_sections": true,
   "sideBar": true,
   "skip_h1_title": false,
   "title_cell": "Table of Contents",
   "title_sidebar": "Contents",
   "toc_cell": false,
   "toc_position": {},
   "toc_section_display": true,
   "toc_window_display": false
  },
  "varInspector": {
   "cols": {
    "lenName": 16,
    "lenType": 16,
    "lenVar": 40
   },
   "kernels_config": {
    "python": {
     "delete_cmd_postfix": "",
     "delete_cmd_prefix": "del ",
     "library": "var_list.py",
     "varRefreshCmd": "print(var_dic_list())"
    },
    "r": {
     "delete_cmd_postfix": ") ",
     "delete_cmd_prefix": "rm(",
     "library": "var_list.r",
     "varRefreshCmd": "cat(var_dic_list()) "
    }
   },
   "types_to_exclude": [
    "module",
    "function",
    "builtin_function_or_method",
    "instance",
    "_Feature"
   ],
   "window_display": false
  }
 },
 "nbformat": 4,
 "nbformat_minor": 2
}
