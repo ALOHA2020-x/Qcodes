{
 "cells": [
  {
   "cell_type": "markdown",
   "metadata": {},
   "source": [
    "# DataSet Performance\n",
    "\n",
    "This notebook shows the trade-off between inserting data into a database row-by-row and as binary blobs. Inserting the data row-by-row means that we have direct access to all the data and may perform queries directly on the values of the data. On the other hand, as we shall see, this is much slower than inserting the data directly as binary blobs."
   ]
  },
  {
   "cell_type": "markdown",
   "metadata": {},
   "source": [
    "First, we choose a new location for the database to ensure that we don't add a bunch of benchmarking data to the default one."
   ]
  },
  {
   "cell_type": "code",
   "execution_count": 1,
   "metadata": {},
   "outputs": [
    {
     "name": "stdout",
     "output_type": "stream",
     "text": [
      "Logging hadn't been started.\n",
      "Activating auto-logging. Current session state plus future input saved.\n",
      "Filename       : /home/vsts/.qcodes/logs/command_history.log\n",
      "Mode           : append\n",
      "Output logging : True\n",
      "Raw input log  : False\n",
      "Timestamping   : True\n",
      "State          : active\n"
     ]
    },
    {
     "name": "stdout",
     "output_type": "stream",
     "text": [
      "Qcodes Logfile : /home/vsts/.qcodes/logs/200617-19678-qcodes.log\n"
     ]
    }
   ],
   "source": [
    "import os\n",
    "cwd = os.getcwd()\n",
    "import qcodes as qc\n",
    "qc.config[\"core\"][\"db_location\"] = os.path.join(cwd, 'testing.db')\n"
   ]
  },
  {
   "cell_type": "code",
   "execution_count": 2,
   "metadata": {},
   "outputs": [],
   "source": [
    "%matplotlib inline\n",
    "import time\n",
    "import matplotlib.pyplot as plt\n",
    "import numpy as np\n",
    "\n",
    "import qcodes as qc\n",
    "from qcodes.instrument.parameter import ManualParameter\n",
    "from qcodes.dataset.experiment_container import (Experiment,\n",
    "                                                 load_last_experiment,\n",
    "                                                 new_experiment)\n",
    "from qcodes.dataset.sqlite.database import initialise_database\n",
    "from qcodes import load_or_create_experiment\n",
    "from qcodes.dataset.measurements import Measurement"
   ]
  },
  {
   "cell_type": "code",
   "execution_count": 3,
   "metadata": {},
   "outputs": [
    {
     "name": "stdout",
     "output_type": "stream",
     "text": [
      "\r",
      "0it [00:00, ?it/s]"
     ]
    },
    {
     "name": "stdout",
     "output_type": "stream",
     "text": [
      "\r",
      "Upgrading database; v0 -> v1: : 0it [00:00, ?it/s]"
     ]
    },
    {
     "name": "stdout",
     "output_type": "stream",
     "text": [
      "\r",
      "Upgrading database; v0 -> v1: : 0it [00:00, ?it/s]"
     ]
    },
    {
     "name": "stdout",
     "output_type": "stream",
     "text": [
      "\n",
      "\r",
      "  0%|          | 0/1 [00:00<?, ?it/s]"
     ]
    },
    {
     "name": "stdout",
     "output_type": "stream",
     "text": [
      "\r",
      "Upgrading database; v1 -> v2:   0%|          | 0/1 [00:00<?, ?it/s]"
     ]
    },
    {
     "name": "stdout",
     "output_type": "stream",
     "text": [
      "\r",
      "Upgrading database; v1 -> v2: 100%|██████████| 1/1 [00:00<00:00, 921.22it/s]"
     ]
    },
    {
     "name": "stdout",
     "output_type": "stream",
     "text": [
      "\n",
      "\r",
      "0it [00:00, ?it/s]"
     ]
    },
    {
     "name": "stdout",
     "output_type": "stream",
     "text": [
      "\r",
      "Upgrading database; v2 -> v3: : 0it [00:00, ?it/s]"
     ]
    },
    {
     "name": "stdout",
     "output_type": "stream",
     "text": [
      "\r",
      "Upgrading database; v2 -> v3: : 0it [00:00, ?it/s]"
     ]
    },
    {
     "name": "stdout",
     "output_type": "stream",
     "text": [
      "\n",
      "\r",
      "0it [00:00, ?it/s]"
     ]
    },
    {
     "name": "stdout",
     "output_type": "stream",
     "text": [
      "\r",
      "Upgrading database; v3 -> v4: : 0it [00:00, ?it/s]"
     ]
    },
    {
     "name": "stdout",
     "output_type": "stream",
     "text": [
      "\r",
      "Upgrading database; v3 -> v4: : 0it [00:00, ?it/s]"
     ]
    },
    {
     "name": "stdout",
     "output_type": "stream",
     "text": [
      "\n",
      "\r",
      "  0%|          | 0/1 [00:00<?, ?it/s]"
     ]
    },
    {
     "name": "stdout",
     "output_type": "stream",
     "text": [
      "\r",
      "Upgrading database; v4 -> v5:   0%|          | 0/1 [00:00<?, ?it/s]"
     ]
    },
    {
     "name": "stdout",
     "output_type": "stream",
     "text": [
      "\r",
      "Upgrading database; v4 -> v5: 100%|██████████| 1/1 [00:00<00:00, 831.87it/s]"
     ]
    },
    {
     "name": "stdout",
     "output_type": "stream",
     "text": [
      "\n",
      "\r",
      "0it [00:00, ?it/s]"
     ]
    },
    {
     "name": "stdout",
     "output_type": "stream",
     "text": [
      "\r",
      "Upgrading database; v5 -> v6: : 0it [00:00, ?it/s]"
     ]
    },
    {
     "name": "stdout",
     "output_type": "stream",
     "text": [
      "\r",
      "Upgrading database; v5 -> v6: : 0it [00:00, ?it/s]"
     ]
    },
    {
     "name": "stdout",
     "output_type": "stream",
     "text": [
      "\n",
      "\r",
      "  0%|          | 0/1 [00:00<?, ?it/s]"
     ]
    },
    {
     "name": "stdout",
     "output_type": "stream",
     "text": [
      "\r",
      "Upgrading database; v6 -> v7:   0%|          | 0/1 [00:00<?, ?it/s]"
     ]
    },
    {
     "name": "stdout",
     "output_type": "stream",
     "text": [
      "\r",
      "Upgrading database; v6 -> v7: 100%|██████████| 1/1 [00:00<00:00, 319.64it/s]"
     ]
    },
    {
     "name": "stdout",
     "output_type": "stream",
     "text": [
      "\n",
      "\r",
      "  0%|          | 0/1 [00:00<?, ?it/s]"
     ]
    },
    {
     "name": "stdout",
     "output_type": "stream",
     "text": [
      "\r",
      "Upgrading database; v7 -> v8:   0%|          | 0/1 [00:00<?, ?it/s]"
     ]
    },
    {
     "name": "stdout",
     "output_type": "stream",
     "text": [
      "\r",
      "Upgrading database; v7 -> v8: 100%|██████████| 1/1 [00:00<00:00, 942.33it/s]"
     ]
    },
    {
     "name": "stdout",
     "output_type": "stream",
     "text": [
      "\n",
      "\r",
      "  0%|          | 0/1 [00:00<?, ?it/s]"
     ]
    },
    {
     "name": "stdout",
     "output_type": "stream",
     "text": [
      "\r",
      "Upgrading database; v8 -> v9:   0%|          | 0/1 [00:00<?, ?it/s]"
     ]
    },
    {
     "name": "stdout",
     "output_type": "stream",
     "text": [
      "\r",
      "Upgrading database; v8 -> v9: 100%|██████████| 1/1 [00:00<00:00, 990.39it/s]"
     ]
    },
    {
     "name": "stdout",
     "output_type": "stream",
     "text": [
      "\n"
     ]
    }
   ],
   "source": [
    "initialise_database()\n",
    "exp = load_or_create_experiment(experiment_name='tutorial_exp', sample_name=\"no sample\")"
   ]
  },
  {
   "cell_type": "markdown",
   "metadata": {},
   "source": [
    "Here, we define a simple function to benchmark the time it takes to insert n points with either numeric or array data type.\n",
    "We will compare both the time used to call ``add_result`` and the time used for the full measurement."
   ]
  },
  {
   "cell_type": "code",
   "execution_count": 4,
   "metadata": {},
   "outputs": [],
   "source": [
    "def insert_data(paramtype, npoints, nreps=1):\n",
    "\n",
    "    meas = Measurement(exp=exp)\n",
    "\n",
    "    x1 = ManualParameter('x1')\n",
    "    x2 = ManualParameter('x2')\n",
    "    x3 = ManualParameter('x3')\n",
    "    y1 = ManualParameter('y1')\n",
    "    y2 = ManualParameter('y2')\n",
    "\n",
    "    meas.register_parameter(x1, paramtype=paramtype)\n",
    "    meas.register_parameter(x2, paramtype=paramtype)\n",
    "    meas.register_parameter(x3, paramtype=paramtype)\n",
    "    meas.register_parameter(y1, setpoints=[x1, x2, x3],\n",
    "                            paramtype=paramtype)\n",
    "    meas.register_parameter(y2, setpoints=[x1, x2, x3],\n",
    "                            paramtype=paramtype)\n",
    "    start = time.perf_counter()\n",
    "    with meas.run() as datasaver:\n",
    "        start_adding = time.perf_counter()\n",
    "        for i in range(nreps):\n",
    "            datasaver.add_result((x1, np.random.rand(npoints)),\n",
    "                                 (x2, np.random.rand(npoints)),\n",
    "                                 (x3, np.random.rand(npoints)),\n",
    "                                 (y1, np.random.rand(npoints)),\n",
    "                                 (y2, np.random.rand(npoints)))\n",
    "        stop_adding = time.perf_counter()\n",
    "        run_id = datasaver.run_id\n",
    "    stop = time.perf_counter()\n",
    "    tot_time = stop - start\n",
    "    add_time = stop_adding - start_adding\n",
    "    return tot_time, add_time, run_id"
   ]
  },
  {
   "cell_type": "markdown",
   "metadata": {},
   "source": [
    "## Comparison between numeric/array data and binary blob"
   ]
  },
  {
   "cell_type": "markdown",
   "metadata": {},
   "source": [
    "### Case1: Short experiment time"
   ]
  },
  {
   "cell_type": "code",
   "execution_count": 5,
   "metadata": {},
   "outputs": [
    {
     "name": "stdout",
     "output_type": "stream",
     "text": [
      "Starting experimental run with id: 1. \n",
      "Starting experimental run with id: 2. \n",
      "Starting experimental run with id: 3. \n",
      "Starting experimental run with id: 4. \n",
      "Starting experimental run with id: 5. \n"
     ]
    },
    {
     "name": "stdout",
     "output_type": "stream",
     "text": [
      "Starting experimental run with id: 6. \n"
     ]
    },
    {
     "name": "stdout",
     "output_type": "stream",
     "text": [
      "Starting experimental run with id: 7. \n"
     ]
    },
    {
     "name": "stdout",
     "output_type": "stream",
     "text": [
      "Starting experimental run with id: 8. \n",
      "Starting experimental run with id: 9. \n"
     ]
    },
    {
     "name": "stdout",
     "output_type": "stream",
     "text": [
      "Starting experimental run with id: 10. \n",
      "Starting experimental run with id: 11. \n"
     ]
    },
    {
     "name": "stdout",
     "output_type": "stream",
     "text": [
      "Starting experimental run with id: 12. \n",
      "Starting experimental run with id: 13. \n"
     ]
    },
    {
     "name": "stdout",
     "output_type": "stream",
     "text": [
      "Starting experimental run with id: 14. \n"
     ]
    }
   ],
   "source": [
    "sizes = [1,500,1000,2000,3000,4000,5000]\n",
    "t_numeric = []\n",
    "t_numeric_add = []\n",
    "t_array = []\n",
    "t_array_add = []\n",
    "for size in sizes:\n",
    "    tn, tna, run_id_n =  insert_data('numeric', size)\n",
    "    t_numeric.append(tn)\n",
    "    t_numeric_add.append(tna)\n",
    "\n",
    "    ta, taa, run_id_a =  insert_data('array', size)\n",
    "    t_array.append(ta)\n",
    "    t_array_add.append(taa)"
   ]
  },
  {
   "cell_type": "code",
   "execution_count": 6,
   "metadata": {},
   "outputs": [
    {
     "data": {
      "image/png": "[encoded data removed]",
      "text/plain": [
       "<Figure size 432x288 with 1 Axes>"
      ]
     },
     "metadata": {
      "needs_background": "light"
     },
     "output_type": "display_data"
    }
   ],
   "source": [
    "fig, ax = plt.subplots(1,1)\n",
    "ax.plot(sizes, t_numeric, 'o-', label='Inserting row-by-row')\n",
    "ax.plot(sizes, t_numeric_add, 'o-', label='Inserting row-by-row: add_result only')\n",
    "ax.plot(sizes, t_array, 'd-', label='Inserting as binary blob')\n",
    "ax.plot(sizes, t_array_add, 'd-', label='Inserting as binary blob: add_result only')\n",
    "ax.legend()\n",
    "ax.set_xlabel('Array length')\n",
    "ax.set_ylabel('Time (s)')\n",
    "fig.tight_layout()"
   ]
  },
  {
   "cell_type": "markdown",
   "metadata": {},
   "source": [
    "As shown in the latter figure, the time to setup and and close the experiment is approximately 0.4 sec. In case of small array sizes, the difference between inserting values of data as arrays and inserting them row-by-row is relatively unimportant. At larger array sizes, i.e. above 10000 points, the cost of writing data as individual datapoints starts to become important.\n"
   ]
  },
  {
   "cell_type": "markdown",
   "metadata": {},
   "source": [
    "### Case2: Long experiment time "
   ]
  },
  {
   "cell_type": "code",
   "execution_count": 7,
   "metadata": {},
   "outputs": [
    {
     "name": "stdout",
     "output_type": "stream",
     "text": [
      "Starting experimental run with id: 15. \n",
      "Starting experimental run with id: 16. \n",
      "Starting experimental run with id: 17. \n"
     ]
    },
    {
     "name": "stdout",
     "output_type": "stream",
     "text": [
      "Starting experimental run with id: 18. \n",
      "Starting experimental run with id: 19. \n"
     ]
    },
    {
     "name": "stdout",
     "output_type": "stream",
     "text": [
      "Starting experimental run with id: 20. \n"
     ]
    },
    {
     "name": "stdout",
     "output_type": "stream",
     "text": [
      "Starting experimental run with id: 21. \n"
     ]
    },
    {
     "name": "stdout",
     "output_type": "stream",
     "text": [
      "Starting experimental run with id: 22. \n"
     ]
    },
    {
     "name": "stdout",
     "output_type": "stream",
     "text": [
      "Starting experimental run with id: 23. \n"
     ]
    },
    {
     "name": "stdout",
     "output_type": "stream",
     "text": [
      "Starting experimental run with id: 24. \n"
     ]
    },
    {
     "name": "stdout",
     "output_type": "stream",
     "text": [
      "Starting experimental run with id: 25. \n"
     ]
    },
    {
     "name": "stdout",
     "output_type": "stream",
     "text": [
      "Starting experimental run with id: 26. \n"
     ]
    },
    {
     "name": "stdout",
     "output_type": "stream",
     "text": [
      "Starting experimental run with id: 27. \n"
     ]
    },
    {
     "name": "stdout",
     "output_type": "stream",
     "text": [
      "Starting experimental run with id: 28. \n"
     ]
    }
   ],
   "source": [
    "sizes = [1,500,1000,2000,3000,4000,5000]\n",
    "nreps = 100\n",
    "t_numeric = []\n",
    "t_numeric_add = []\n",
    "t_numeric_run_ids = []\n",
    "t_array = []\n",
    "t_array_add = []\n",
    "t_array_run_ids = []\n",
    "for size in sizes:\n",
    "    tn, tna, run_id_n =  insert_data('numeric', size, nreps=nreps)\n",
    "    t_numeric.append(tn)\n",
    "    t_numeric_add.append(tna)\n",
    "    t_numeric_run_ids.append(run_id_n)\n",
    "\n",
    "    ta, taa, run_id_a =  insert_data('array', size, nreps=nreps)\n",
    "    t_array.append(ta)\n",
    "    t_array_add.append(taa)\n",
    "    t_array_run_ids.append(run_id_a)"
   ]
  },
  {
   "cell_type": "code",
   "execution_count": 8,
   "metadata": {
    "scrolled": true
   },
   "outputs": [
    {
     "data": {
      "image/png": "[encoded data removed]",
      "text/plain": [
       "<Figure size 432x288 with 1 Axes>"
      ]
     },
     "metadata": {
      "needs_background": "light"
     },
     "output_type": "display_data"
    }
   ],
   "source": [
    "fig, ax = plt.subplots(1,1)\n",
    "ax.plot(sizes, t_numeric, 'o-', label='Inserting row-by-row')\n",
    "ax.plot(sizes, t_numeric_add, 'o-', label='Inserting row-by-row: add_result only')\n",
    "ax.plot(sizes, t_array, 'd-', label='Inserting as binary blob')\n",
    "ax.plot(sizes, t_array_add, 'd-', label='Inserting as binary blob: add_result only')\n",
    "ax.legend()\n",
    "ax.set_xlabel('Array length')\n",
    "ax.set_ylabel('Time (s)')\n",
    "fig.tight_layout()"
   ]
  },
  {
   "cell_type": "markdown",
   "metadata": {},
   "source": [
    "However, as we increase the length of the experiment, as seen here by repeating the insertion 100 times, we see a big difference between inserting values of the data row-by-row and inserting it as a binary blob."
   ]
  },
  {
   "cell_type": "markdown",
   "metadata": {},
   "source": [
    "## Loading the data "
   ]
  },
  {
   "cell_type": "code",
   "execution_count": 9,
   "metadata": {},
   "outputs": [],
   "source": [
    "from qcodes.dataset.data_set import load_by_id\n",
    "from qcodes.dataset.data_export import get_data_by_id"
   ]
  },
  {
   "cell_type": "markdown",
   "metadata": {},
   "source": [
    "As usual you can load the data by using the ``load_by_id`` function but you will notice that the different storage methods\n",
    "are reflected in shape of the data as it is retrieved. "
   ]
  },
  {
   "cell_type": "code",
   "execution_count": 10,
   "metadata": {},
   "outputs": [],
   "source": [
    "run_id_n = t_numeric_run_ids[0]\n",
    "run_id_a = t_array_run_ids[0]"
   ]
  },
  {
   "cell_type": "code",
   "execution_count": 11,
   "metadata": {
    "scrolled": true
   },
   "outputs": [
    {
     "data": {
      "text/plain": [
       "{'x1': {'x1': array([0.08500672, 0.08500672, 0.073703  , 0.073703  , 0.87889441,\n",
       "         0.87889441, 0.2782268 , 0.2782268 , 0.81783484, 0.81783484,\n",
       "         0.63603462, 0.63603462, 0.39759553, 0.39759553, 0.43089657,\n",
       "         0.43089657, 0.07758417, 0.07758417, 0.17060223, 0.17060223,\n",
       "         0.60544157, 0.60544157, 0.53662776, 0.53662776, 0.18439618,\n",
       "         0.18439618, 0.51051346, 0.51051346, 0.05747052, 0.05747052,\n",
       "         0.9330418 , 0.9330418 , 0.84423514, 0.84423514, 0.56649693,\n",
       "         0.56649693, 0.33127478, 0.33127478, 0.08629038, 0.08629038,\n",
       "         0.33574766, 0.33574766, 0.42225848, 0.42225848, 0.92967195,\n",
       "         0.92967195, 0.88386503, 0.88386503, 0.84417877, 0.84417877,\n",
       "         0.1620782 , 0.1620782 , 0.55646969, 0.55646969, 0.96625227,\n",
       "         0.96625227, 0.8424623 , 0.8424623 , 0.55393994, 0.55393994,\n",
       "         0.73385947, 0.73385947, 0.84700896, 0.84700896, 0.87970324,\n",
       "         0.87970324, 0.70347899, 0.70347899, 0.59270726, 0.59270726,\n",
       "         0.74045938, 0.74045938, 0.58018558, 0.58018558, 0.78712079,\n",
       "         0.78712079, 0.07102515, 0.07102515, 0.5683373 , 0.5683373 ,\n",
       "         0.44714009, 0.44714009, 0.03907687, 0.03907687, 0.26145868,\n",
       "         0.26145868, 0.38592379, 0.38592379, 0.52046904, 0.52046904,\n",
       "         0.43418674, 0.43418674, 0.30790456, 0.30790456, 0.48706066,\n",
       "         0.48706066, 0.86259412, 0.86259412, 0.06662576, 0.06662576,\n",
       "         0.89422259, 0.89422259, 0.49210832, 0.49210832, 0.21351261,\n",
       "         0.21351261, 0.72525985, 0.72525985, 0.31041644, 0.31041644,\n",
       "         0.65225705, 0.65225705, 0.0846222 , 0.0846222 , 0.35058001,\n",
       "         0.35058001, 0.9791261 , 0.9791261 , 0.83299665, 0.83299665,\n",
       "         0.59290467, 0.59290467, 0.86485248, 0.86485248, 0.25535313,\n",
       "         0.25535313, 0.20798129, 0.20798129, 0.01221445, 0.01221445,\n",
       "         0.08425997, 0.08425997, 0.3110173 , 0.3110173 , 0.4731055 ,\n",
       "         0.4731055 , 0.8174615 , 0.8174615 , 0.94699144, 0.94699144,\n",
       "         0.42640235, 0.42640235, 0.39189798, 0.39189798, 0.68284832,\n",
       "         0.68284832, 0.41917654, 0.41917654, 0.96264441, 0.96264441,\n",
       "         0.25669987, 0.25669987, 0.64574412, 0.64574412, 0.44852999,\n",
       "         0.44852999, 0.18996442, 0.18996442, 0.59140872, 0.59140872,\n",
       "         0.68552502, 0.68552502, 0.17713072, 0.17713072, 0.43197444,\n",
       "         0.43197444, 0.01580306, 0.01580306, 0.23031552, 0.23031552,\n",
       "         0.9498394 , 0.9498394 , 0.89671126, 0.89671126, 0.96473333,\n",
       "         0.96473333, 0.02100763, 0.02100763, 0.96980674, 0.96980674,\n",
       "         0.30265847, 0.30265847, 0.02370824, 0.02370824, 0.75497116,\n",
       "         0.75497116, 0.1613557 , 0.1613557 , 0.48635889, 0.48635889,\n",
       "         0.53233028, 0.53233028, 0.8474877 , 0.8474877 , 0.97359364,\n",
       "         0.97359364, 0.16476792, 0.16476792, 0.76284724, 0.76284724])}}"
      ]
     },
     "execution_count": 11,
     "metadata": {},
     "output_type": "execute_result"
    }
   ],
   "source": [
    "ds = load_by_id(run_id_n)\n",
    "ds.get_parameter_data('x1')"
   ]
  },
  {
   "cell_type": "markdown",
   "metadata": {},
   "source": [
    "And a dataset stored as binary arrays"
   ]
  },
  {
   "cell_type": "code",
   "execution_count": 12,
   "metadata": {
    "scrolled": true
   },
   "outputs": [
    {
     "data": {
      "text/plain": [
       "{'x1': {'x1': array([[4.10215032e-01],\n",
       "         [4.10215032e-01],\n",
       "         [4.65592830e-01],\n",
       "         [4.65592830e-01],\n",
       "         [3.06776816e-01],\n",
       "         [3.06776816e-01],\n",
       "         [7.60583569e-01],\n",
       "         [7.60583569e-01],\n",
       "         [5.33138231e-02],\n",
       "         [5.33138231e-02],\n",
       "         [6.43569378e-01],\n",
       "         [6.43569378e-01],\n",
       "         [7.04890306e-01],\n",
       "         [7.04890306e-01],\n",
       "         [9.97143313e-01],\n",
       "         [9.97143313e-01],\n",
       "         [4.62311014e-01],\n",
       "         [4.62311014e-01],\n",
       "         [4.47247606e-01],\n",
       "         [4.47247606e-01],\n",
       "         [5.90320475e-01],\n",
       "         [5.90320475e-01],\n",
       "         [3.59586124e-01],\n",
       "         [3.59586124e-01],\n",
       "         [4.62606376e-01],\n",
       "         [4.62606376e-01],\n",
       "         [4.98207049e-01],\n",
       "         [4.98207049e-01],\n",
       "         [1.86189976e-01],\n",
       "         [1.86189976e-01],\n",
       "         [4.29153841e-01],\n",
       "         [4.29153841e-01],\n",
       "         [1.07505114e-01],\n",
       "         [1.07505114e-01],\n",
       "         [5.45359589e-02],\n",
       "         [5.45359589e-02],\n",
       "         [6.18875170e-01],\n",
       "         [6.18875170e-01],\n",
       "         [8.59804822e-01],\n",
       "         [8.59804822e-01],\n",
       "         [6.27043681e-01],\n",
       "         [6.27043681e-01],\n",
       "         [4.53100356e-02],\n",
       "         [4.53100356e-02],\n",
       "         [4.25502330e-01],\n",
       "         [4.25502330e-01],\n",
       "         [7.04846892e-01],\n",
       "         [7.04846892e-01],\n",
       "         [6.31170208e-01],\n",
       "         [6.31170208e-01],\n",
       "         [8.03571004e-01],\n",
       "         [8.03571004e-01],\n",
       "         [3.10691862e-01],\n",
       "         [3.10691862e-01],\n",
       "         [6.14186304e-02],\n",
       "         [6.14186304e-02],\n",
       "         [2.18569244e-01],\n",
       "         [2.18569244e-01],\n",
       "         [5.84637159e-01],\n",
       "         [5.84637159e-01],\n",
       "         [4.86722221e-01],\n",
       "         [4.86722221e-01],\n",
       "         [8.92929769e-03],\n",
       "         [8.92929769e-03],\n",
       "         [1.45819711e-01],\n",
       "         [1.45819711e-01],\n",
       "         [9.84925316e-01],\n",
       "         [9.84925316e-01],\n",
       "         [8.90112534e-01],\n",
       "         [8.90112534e-01],\n",
       "         [8.94404086e-01],\n",
       "         [8.94404086e-01],\n",
       "         [1.92369846e-01],\n",
       "         [1.92369846e-01],\n",
       "         [5.58603578e-01],\n",
       "         [5.58603578e-01],\n",
       "         [1.67590206e-01],\n",
       "         [1.67590206e-01],\n",
       "         [5.56250705e-01],\n",
       "         [5.56250705e-01],\n",
       "         [5.57439608e-01],\n",
       "         [5.57439608e-01],\n",
       "         [9.90628937e-01],\n",
       "         [9.90628937e-01],\n",
       "         [4.97923071e-01],\n",
       "         [4.97923071e-01],\n",
       "         [9.75454024e-01],\n",
       "         [9.75454024e-01],\n",
       "         [3.23867777e-01],\n",
       "         [3.23867777e-01],\n",
       "         [1.72425291e-01],\n",
       "         [1.72425291e-01],\n",
       "         [2.14870090e-01],\n",
       "         [2.14870090e-01],\n",
       "         [7.16643747e-02],\n",
       "         [7.16643747e-02],\n",
       "         [2.67586161e-01],\n",
       "         [2.67586161e-01],\n",
       "         [5.47521565e-01],\n",
       "         [5.47521565e-01],\n",
       "         [6.07071831e-01],\n",
       "         [6.07071831e-01],\n",
       "         [9.34220860e-01],\n",
       "         [9.34220860e-01],\n",
       "         [7.38894185e-03],\n",
       "         [7.38894185e-03],\n",
       "         [7.66069987e-01],\n",
       "         [7.66069987e-01],\n",
       "         [6.21892074e-01],\n",
       "         [6.21892074e-01],\n",
       "         [9.61650787e-01],\n",
       "         [9.61650787e-01],\n",
       "         [4.25403532e-01],\n",
       "         [4.25403532e-01],\n",
       "         [5.61194461e-01],\n",
       "         [5.61194461e-01],\n",
       "         [2.12888186e-01],\n",
       "         [2.12888186e-01],\n",
       "         [1.80409602e-01],\n",
       "         [1.80409602e-01],\n",
       "         [9.70665251e-01],\n",
       "         [9.70665251e-01],\n",
       "         [9.03742487e-02],\n",
       "         [9.03742487e-02],\n",
       "         [6.66970566e-01],\n",
       "         [6.66970566e-01],\n",
       "         [7.95923601e-01],\n",
       "         [7.95923601e-01],\n",
       "         [6.14106504e-01],\n",
       "         [6.14106504e-01],\n",
       "         [3.54599391e-01],\n",
       "         [3.54599391e-01],\n",
       "         [8.71312837e-01],\n",
       "         [8.71312837e-01],\n",
       "         [4.09729813e-01],\n",
       "         [4.09729813e-01],\n",
       "         [2.76461715e-01],\n",
       "         [2.76461715e-01],\n",
       "         [8.66337912e-01],\n",
       "         [8.66337912e-01],\n",
       "         [8.14402118e-01],\n",
       "         [8.14402118e-01],\n",
       "         [3.70009175e-04],\n",
       "         [3.70009175e-04],\n",
       "         [1.92083158e-01],\n",
       "         [1.92083158e-01],\n",
       "         [3.84810835e-02],\n",
       "         [3.84810835e-02],\n",
       "         [9.69873081e-01],\n",
       "         [9.69873081e-01],\n",
       "         [8.91403428e-01],\n",
       "         [8.91403428e-01],\n",
       "         [7.47621337e-01],\n",
       "         [7.47621337e-01],\n",
       "         [2.73779156e-01],\n",
       "         [2.73779156e-01],\n",
       "         [3.14382500e-01],\n",
       "         [3.14382500e-01],\n",
       "         [5.97636249e-01],\n",
       "         [5.97636249e-01],\n",
       "         [9.89610065e-01],\n",
       "         [9.89610065e-01],\n",
       "         [8.82114977e-01],\n",
       "         [8.82114977e-01],\n",
       "         [1.08910671e-01],\n",
       "         [1.08910671e-01],\n",
       "         [1.91857050e-01],\n",
       "         [1.91857050e-01],\n",
       "         [3.04375158e-01],\n",
       "         [3.04375158e-01],\n",
       "         [8.38243315e-02],\n",
       "         [8.38243315e-02],\n",
       "         [5.34807730e-01],\n",
       "         [5.34807730e-01],\n",
       "         [9.99535153e-02],\n",
       "         [9.99535153e-02],\n",
       "         [5.13553877e-01],\n",
       "         [5.13553877e-01],\n",
       "         [3.31814946e-02],\n",
       "         [3.31814946e-02],\n",
       "         [9.65211160e-01],\n",
       "         [9.65211160e-01],\n",
       "         [2.08177066e-01],\n",
       "         [2.08177066e-01],\n",
       "         [5.09120980e-01],\n",
       "         [5.09120980e-01],\n",
       "         [2.45415398e-01],\n",
       "         [2.45415398e-01],\n",
       "         [3.73500914e-01],\n",
       "         [3.73500914e-01],\n",
       "         [8.02520393e-01],\n",
       "         [8.02520393e-01],\n",
       "         [4.26651114e-01],\n",
       "         [4.26651114e-01],\n",
       "         [3.78167592e-02],\n",
       "         [3.78167592e-02],\n",
       "         [6.66430287e-01],\n",
       "         [6.66430287e-01],\n",
       "         [7.14968762e-01],\n",
       "         [7.14968762e-01]])}}"
      ]
     },
     "execution_count": 12,
     "metadata": {},
     "output_type": "execute_result"
    }
   ],
   "source": [
    "ds = load_by_id(run_id_a)\n",
    "ds.get_parameter_data('x1')"
   ]
  },
  {
   "cell_type": "code",
   "execution_count": null,
   "metadata": {},
   "outputs": [],
   "source": []
  }
 ],
 "metadata": {
  "kernelspec": {
   "display_name": "Python 3",
   "language": "python",
   "name": "python3"
  },
  "language_info": {
   "codemirror_mode": {
    "name": "ipython",
    "version": 3
   },
   "file_extension": ".py",
   "mimetype": "text/x-python",
   "name": "python",
   "nbconvert_exporter": "python",
   "pygments_lexer": "ipython3",
   "version": "3.7.7"
  },
  "nbsphinx": {
   "timeout": 600
  },
  "toc": {
   "base_numbering": 1,
   "nav_menu": {},
   "number_sections": true,
   "sideBar": true,
   "skip_h1_title": false,
   "title_cell": "Table of Contents",
   "title_sidebar": "Contents",
   "toc_cell": false,
   "toc_position": {},
   "toc_section_display": true,
   "toc_window_display": false
  },
  "varInspector": {
   "cols": {
    "lenName": 16,
    "lenType": 16,
    "lenVar": 40
   },
   "kernels_config": {
    "python": {
     "delete_cmd_postfix": "",
     "delete_cmd_prefix": "del ",
     "library": "var_list.py",
     "varRefreshCmd": "print(var_dic_list())"
    },
    "r": {
     "delete_cmd_postfix": ") ",
     "delete_cmd_prefix": "rm(",
     "library": "var_list.r",
     "varRefreshCmd": "cat(var_dic_list()) "
    }
   },
   "types_to_exclude": [
    "module",
    "function",
    "builtin_function_or_method",
    "instance",
    "_Feature"
   ],
   "window_display": false
  }
 },
 "nbformat": 4,
 "nbformat_minor": 2
}
