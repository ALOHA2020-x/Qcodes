{
 "cells": [
  {
   "cell_type": "markdown",
   "metadata": {},
   "source": [
    "# DataSet Performance\n",
    "\n",
    "This notebook shows the trade-off between inserting data into a database row-by-row and as binary blobs. Inserting the data row-by-row means that we have direct access to all the data and may perform queries directly on the values of the data. On the other hand, as we shall see, this is much slower than inserting the data directly as binary blobs."
   ]
  },
  {
   "cell_type": "markdown",
   "metadata": {},
   "source": [
    "First, we choose a new location for the database to ensure that we don't add a bunch of benchmarking data to the default one."
   ]
  },
  {
   "cell_type": "code",
   "execution_count": 1,
   "metadata": {
    "execution": {
     "iopub.execute_input": "2021-04-19T10:01:59.870279Z",
     "iopub.status.busy": "2021-04-19T10:01:59.869584Z",
     "iopub.status.idle": "2021-04-19T10:02:01.023462Z",
     "shell.execute_reply": "2021-04-19T10:02:01.024010Z"
    }
   },
   "outputs": [
    {
     "name": "stdout",
     "output_type": "stream",
     "text": [
      "Logging hadn't been started.\n",
      "Activating auto-logging. Current session state plus future input saved.\n",
      "Filename       : /home/runner/.qcodes/logs/command_history.log\n",
      "Mode           : append\n",
      "Output logging : True\n",
      "Raw input log  : False\n",
      "Timestamping   : True\n",
      "State          : active\n"
     ]
    },
    {
     "name": "stdout",
     "output_type": "stream",
     "text": [
      "Qcodes Logfile : /home/runner/.qcodes/logs/210419-4448-qcodes.log\n"
     ]
    }
   ],
   "source": [
    "import os\n",
    "cwd = os.getcwd()\n",
    "import qcodes as qc\n",
    "qc.config[\"core\"][\"db_location\"] = os.path.join(cwd, 'testing.db')\n"
   ]
  },
  {
   "cell_type": "code",
   "execution_count": 2,
   "metadata": {
    "execution": {
     "iopub.execute_input": "2021-04-19T10:02:01.031538Z",
     "iopub.status.busy": "2021-04-19T10:02:01.030274Z",
     "iopub.status.idle": "2021-04-19T10:02:01.320431Z",
     "shell.execute_reply": "2021-04-19T10:02:01.319454Z"
    }
   },
   "outputs": [],
   "source": [
    "%matplotlib inline\n",
    "import time\n",
    "import matplotlib.pyplot as plt\n",
    "import numpy as np\n",
    "\n",
    "import qcodes as qc\n",
    "from qcodes.instrument.parameter import ManualParameter\n",
    "from qcodes.dataset.experiment_container import (Experiment,\n",
    "                                                 load_last_experiment,\n",
    "                                                 new_experiment)\n",
    "from qcodes.dataset.sqlite.database import initialise_database\n",
    "from qcodes import load_or_create_experiment\n",
    "from qcodes.dataset.measurements import Measurement"
   ]
  },
  {
   "cell_type": "code",
   "execution_count": 3,
   "metadata": {
    "execution": {
     "iopub.execute_input": "2021-04-19T10:02:01.324797Z",
     "iopub.status.busy": "2021-04-19T10:02:01.324124Z",
     "iopub.status.idle": "2021-04-19T10:02:01.420688Z",
     "shell.execute_reply": "2021-04-19T10:02:01.420070Z"
    }
   },
   "outputs": [
    {
     "name": "stdout",
     "output_type": "stream",
     "text": [
      "\r",
      "0it [00:00, ?it/s]"
     ]
    },
    {
     "name": "stdout",
     "output_type": "stream",
     "text": [
      "\r",
      "Upgrading database; v0 -> v1: : 0it [00:00, ?it/s]"
     ]
    },
    {
     "name": "stdout",
     "output_type": "stream",
     "text": [
      "\r",
      "Upgrading database; v0 -> v1: : 0it [00:00, ?it/s]"
     ]
    },
    {
     "name": "stdout",
     "output_type": "stream",
     "text": [
      "\n",
      "\r",
      "  0%|          | 0/1 [00:00<?, ?it/s]"
     ]
    },
    {
     "name": "stdout",
     "output_type": "stream",
     "text": [
      "\r",
      "Upgrading database; v1 -> v2:   0%|          | 0/1 [00:00<?, ?it/s]"
     ]
    },
    {
     "name": "stdout",
     "output_type": "stream",
     "text": [
      "\r",
      "Upgrading database; v1 -> v2: 100%|██████████| 1/1 [00:00<00:00, 577.89it/s]"
     ]
    },
    {
     "name": "stdout",
     "output_type": "stream",
     "text": [
      "\n",
      "\r",
      "0it [00:00, ?it/s]"
     ]
    },
    {
     "name": "stdout",
     "output_type": "stream",
     "text": [
      "\r",
      "Upgrading database; v2 -> v3: : 0it [00:00, ?it/s]"
     ]
    },
    {
     "name": "stdout",
     "output_type": "stream",
     "text": [
      "\r",
      "Upgrading database; v2 -> v3: : 0it [00:00, ?it/s]"
     ]
    },
    {
     "name": "stdout",
     "output_type": "stream",
     "text": [
      "\n",
      "\r",
      "0it [00:00, ?it/s]"
     ]
    },
    {
     "name": "stdout",
     "output_type": "stream",
     "text": [
      "\r",
      "Upgrading database; v3 -> v4: : 0it [00:00, ?it/s]"
     ]
    },
    {
     "name": "stdout",
     "output_type": "stream",
     "text": [
      "\r",
      "Upgrading database; v3 -> v4: : 0it [00:00, ?it/s]"
     ]
    },
    {
     "name": "stdout",
     "output_type": "stream",
     "text": [
      "\n",
      "\r",
      "  0%|          | 0/1 [00:00<?, ?it/s]"
     ]
    },
    {
     "name": "stdout",
     "output_type": "stream",
     "text": [
      "\r",
      "Upgrading database; v4 -> v5:   0%|          | 0/1 [00:00<?, ?it/s]"
     ]
    },
    {
     "name": "stdout",
     "output_type": "stream",
     "text": [
      "\r",
      "Upgrading database; v4 -> v5: 100%|██████████| 1/1 [00:00<00:00, 379.85it/s]"
     ]
    },
    {
     "name": "stdout",
     "output_type": "stream",
     "text": [
      "\n",
      "\r",
      "0it [00:00, ?it/s]"
     ]
    },
    {
     "name": "stdout",
     "output_type": "stream",
     "text": [
      "\r",
      "Upgrading database; v5 -> v6: : 0it [00:00, ?it/s]"
     ]
    },
    {
     "name": "stdout",
     "output_type": "stream",
     "text": [
      "\r",
      "Upgrading database; v5 -> v6: : 0it [00:00, ?it/s]"
     ]
    },
    {
     "name": "stdout",
     "output_type": "stream",
     "text": [
      "\n",
      "\r",
      "  0%|          | 0/1 [00:00<?, ?it/s]"
     ]
    },
    {
     "name": "stdout",
     "output_type": "stream",
     "text": [
      "\r",
      "Upgrading database; v6 -> v7:   0%|          | 0/1 [00:00<?, ?it/s]"
     ]
    },
    {
     "name": "stdout",
     "output_type": "stream",
     "text": [
      "\r",
      "Upgrading database; v6 -> v7: 100%|██████████| 1/1 [00:00<00:00, 154.34it/s]"
     ]
    },
    {
     "name": "stdout",
     "output_type": "stream",
     "text": [
      "\n",
      "\r",
      "  0%|          | 0/1 [00:00<?, ?it/s]"
     ]
    },
    {
     "name": "stdout",
     "output_type": "stream",
     "text": [
      "\r",
      "Upgrading database; v7 -> v8:   0%|          | 0/1 [00:00<?, ?it/s]"
     ]
    },
    {
     "name": "stdout",
     "output_type": "stream",
     "text": [
      "\r",
      "Upgrading database; v7 -> v8: 100%|██████████| 1/1 [00:00<00:00, 844.60it/s]"
     ]
    },
    {
     "name": "stdout",
     "output_type": "stream",
     "text": [
      "\n",
      "\r",
      "  0%|          | 0/1 [00:00<?, ?it/s]"
     ]
    },
    {
     "name": "stdout",
     "output_type": "stream",
     "text": [
      "\r",
      "Upgrading database; v8 -> v9:   0%|          | 0/1 [00:00<?, ?it/s]"
     ]
    },
    {
     "name": "stdout",
     "output_type": "stream",
     "text": [
      "\r",
      "Upgrading database; v8 -> v9: 100%|██████████| 1/1 [00:00<00:00, 1068.07it/s]"
     ]
    },
    {
     "name": "stdout",
     "output_type": "stream",
     "text": [
      "\n"
     ]
    }
   ],
   "source": [
    "initialise_database()\n",
    "exp = load_or_create_experiment(experiment_name='tutorial_exp', sample_name=\"no sample\")"
   ]
  },
  {
   "cell_type": "markdown",
   "metadata": {},
   "source": [
    "Here, we define a simple function to benchmark the time it takes to insert n points with either numeric or array data type.\n",
    "We will compare both the time used to call ``add_result`` and the time used for the full measurement."
   ]
  },
  {
   "cell_type": "code",
   "execution_count": 4,
   "metadata": {
    "execution": {
     "iopub.execute_input": "2021-04-19T10:02:01.431025Z",
     "iopub.status.busy": "2021-04-19T10:02:01.430321Z",
     "iopub.status.idle": "2021-04-19T10:02:01.434358Z",
     "shell.execute_reply": "2021-04-19T10:02:01.435057Z"
    }
   },
   "outputs": [],
   "source": [
    "def insert_data(paramtype, npoints, nreps=1):\n",
    "\n",
    "    meas = Measurement(exp=exp)\n",
    "\n",
    "    x1 = ManualParameter('x1')\n",
    "    x2 = ManualParameter('x2')\n",
    "    x3 = ManualParameter('x3')\n",
    "    y1 = ManualParameter('y1')\n",
    "    y2 = ManualParameter('y2')\n",
    "\n",
    "    meas.register_parameter(x1, paramtype=paramtype)\n",
    "    meas.register_parameter(x2, paramtype=paramtype)\n",
    "    meas.register_parameter(x3, paramtype=paramtype)\n",
    "    meas.register_parameter(y1, setpoints=[x1, x2, x3],\n",
    "                            paramtype=paramtype)\n",
    "    meas.register_parameter(y2, setpoints=[x1, x2, x3],\n",
    "                            paramtype=paramtype)\n",
    "    start = time.perf_counter()\n",
    "    with meas.run() as datasaver:\n",
    "        start_adding = time.perf_counter()\n",
    "        for i in range(nreps):\n",
    "            datasaver.add_result((x1, np.random.rand(npoints)),\n",
    "                                 (x2, np.random.rand(npoints)),\n",
    "                                 (x3, np.random.rand(npoints)),\n",
    "                                 (y1, np.random.rand(npoints)),\n",
    "                                 (y2, np.random.rand(npoints)))\n",
    "        stop_adding = time.perf_counter()\n",
    "        run_id = datasaver.run_id\n",
    "    stop = time.perf_counter()\n",
    "    tot_time = stop - start\n",
    "    add_time = stop_adding - start_adding\n",
    "    return tot_time, add_time, run_id"
   ]
  },
  {
   "cell_type": "markdown",
   "metadata": {},
   "source": [
    "## Comparison between numeric/array data and binary blob"
   ]
  },
  {
   "cell_type": "markdown",
   "metadata": {},
   "source": [
    "### Case1: Short experiment time"
   ]
  },
  {
   "cell_type": "code",
   "execution_count": 5,
   "metadata": {
    "execution": {
     "iopub.execute_input": "2021-04-19T10:02:01.443681Z",
     "iopub.status.busy": "2021-04-19T10:02:01.442632Z",
     "iopub.status.idle": "2021-04-19T10:02:02.441474Z",
     "shell.execute_reply": "2021-04-19T10:02:02.442043Z"
    }
   },
   "outputs": [
    {
     "name": "stdout",
     "output_type": "stream",
     "text": [
      "Starting experimental run with id: 1. \n",
      "Starting experimental run with id: 2. \n",
      "Starting experimental run with id: 3. \n"
     ]
    },
    {
     "name": "stdout",
     "output_type": "stream",
     "text": [
      "Starting experimental run with id: 4. \n"
     ]
    },
    {
     "name": "stdout",
     "output_type": "stream",
     "text": [
      "Starting experimental run with id: 5. \n"
     ]
    },
    {
     "name": "stdout",
     "output_type": "stream",
     "text": [
      "Starting experimental run with id: 6. \n",
      "Starting experimental run with id: 7. \n"
     ]
    },
    {
     "name": "stdout",
     "output_type": "stream",
     "text": [
      "Starting experimental run with id: 8. \n"
     ]
    },
    {
     "name": "stdout",
     "output_type": "stream",
     "text": [
      "Starting experimental run with id: 9. \n"
     ]
    },
    {
     "name": "stdout",
     "output_type": "stream",
     "text": [
      "Starting experimental run with id: 10. \n",
      "Starting experimental run with id: 11. \n"
     ]
    },
    {
     "name": "stdout",
     "output_type": "stream",
     "text": [
      "Starting experimental run with id: 12. \n",
      "Starting experimental run with id: 13. \n"
     ]
    },
    {
     "name": "stdout",
     "output_type": "stream",
     "text": [
      "Starting experimental run with id: 14. \n"
     ]
    }
   ],
   "source": [
    "sizes = [1,500,1000,2000,3000,4000,5000]\n",
    "t_numeric = []\n",
    "t_numeric_add = []\n",
    "t_array = []\n",
    "t_array_add = []\n",
    "for size in sizes:\n",
    "    tn, tna, run_id_n =  insert_data('numeric', size)\n",
    "    t_numeric.append(tn)\n",
    "    t_numeric_add.append(tna)\n",
    "\n",
    "    ta, taa, run_id_a =  insert_data('array', size)\n",
    "    t_array.append(ta)\n",
    "    t_array_add.append(taa)"
   ]
  },
  {
   "cell_type": "code",
   "execution_count": 6,
   "metadata": {
    "execution": {
     "iopub.execute_input": "2021-04-19T10:02:02.462998Z",
     "iopub.status.busy": "2021-04-19T10:02:02.460138Z",
     "iopub.status.idle": "2021-04-19T10:02:02.676037Z",
     "shell.execute_reply": "2021-04-19T10:02:02.675425Z"
    }
   },
   "outputs": [
    {
     "data": {
      "image/png": "[encoded data removed]",
      "text/plain": [
       "<Figure size 432x288 with 1 Axes>"
      ]
     },
     "metadata": {
      "needs_background": "light"
     },
     "output_type": "display_data"
    }
   ],
   "source": [
    "fig, ax = plt.subplots(1,1)\n",
    "ax.plot(sizes, t_numeric, 'o-', label='Inserting row-by-row')\n",
    "ax.plot(sizes, t_numeric_add, 'o-', label='Inserting row-by-row: add_result only')\n",
    "ax.plot(sizes, t_array, 'd-', label='Inserting as binary blob')\n",
    "ax.plot(sizes, t_array_add, 'd-', label='Inserting as binary blob: add_result only')\n",
    "ax.legend()\n",
    "ax.set_xlabel('Array length')\n",
    "ax.set_ylabel('Time (s)')\n",
    "fig.tight_layout()"
   ]
  },
  {
   "cell_type": "markdown",
   "metadata": {},
   "source": [
    "As shown in the latter figure, the time to setup and and close the experiment is approximately 0.4 sec. In case of small array sizes, the difference between inserting values of data as arrays and inserting them row-by-row is relatively unimportant. At larger array sizes, i.e. above 10000 points, the cost of writing data as individual datapoints starts to become important.\n"
   ]
  },
  {
   "cell_type": "markdown",
   "metadata": {},
   "source": [
    "### Case2: Long experiment time "
   ]
  },
  {
   "cell_type": "code",
   "execution_count": 7,
   "metadata": {
    "execution": {
     "iopub.execute_input": "2021-04-19T10:02:02.684693Z",
     "iopub.status.busy": "2021-04-19T10:02:02.683978Z",
     "iopub.status.idle": "2021-04-19T10:03:04.059554Z",
     "shell.execute_reply": "2021-04-19T10:03:04.058578Z"
    }
   },
   "outputs": [
    {
     "name": "stdout",
     "output_type": "stream",
     "text": [
      "Starting experimental run with id: 15. \n",
      "Starting experimental run with id: 16. \n"
     ]
    },
    {
     "name": "stdout",
     "output_type": "stream",
     "text": [
      "Starting experimental run with id: 17. \n"
     ]
    },
    {
     "name": "stdout",
     "output_type": "stream",
     "text": [
      "Starting experimental run with id: 18. \n"
     ]
    },
    {
     "name": "stdout",
     "output_type": "stream",
     "text": [
      "Starting experimental run with id: 19. \n"
     ]
    },
    {
     "name": "stdout",
     "output_type": "stream",
     "text": [
      "Starting experimental run with id: 20. \n"
     ]
    },
    {
     "name": "stdout",
     "output_type": "stream",
     "text": [
      "Starting experimental run with id: 21. \n"
     ]
    },
    {
     "name": "stdout",
     "output_type": "stream",
     "text": [
      "Starting experimental run with id: 22. \n"
     ]
    },
    {
     "name": "stdout",
     "output_type": "stream",
     "text": [
      "Starting experimental run with id: 23. \n"
     ]
    },
    {
     "name": "stdout",
     "output_type": "stream",
     "text": [
      "Starting experimental run with id: 24. \n"
     ]
    },
    {
     "name": "stdout",
     "output_type": "stream",
     "text": [
      "Starting experimental run with id: 25. \n"
     ]
    },
    {
     "name": "stdout",
     "output_type": "stream",
     "text": [
      "Starting experimental run with id: 26. \n"
     ]
    },
    {
     "name": "stdout",
     "output_type": "stream",
     "text": [
      "Starting experimental run with id: 27. \n"
     ]
    },
    {
     "name": "stdout",
     "output_type": "stream",
     "text": [
      "Starting experimental run with id: 28. \n"
     ]
    }
   ],
   "source": [
    "sizes = [1,500,1000,2000,3000,4000,5000]\n",
    "nreps = 100\n",
    "t_numeric = []\n",
    "t_numeric_add = []\n",
    "t_numeric_run_ids = []\n",
    "t_array = []\n",
    "t_array_add = []\n",
    "t_array_run_ids = []\n",
    "for size in sizes:\n",
    "    tn, tna, run_id_n =  insert_data('numeric', size, nreps=nreps)\n",
    "    t_numeric.append(tn)\n",
    "    t_numeric_add.append(tna)\n",
    "    t_numeric_run_ids.append(run_id_n)\n",
    "\n",
    "    ta, taa, run_id_a =  insert_data('array', size, nreps=nreps)\n",
    "    t_array.append(ta)\n",
    "    t_array_add.append(taa)\n",
    "    t_array_run_ids.append(run_id_a)"
   ]
  },
  {
   "cell_type": "code",
   "execution_count": 8,
   "metadata": {
    "execution": {
     "iopub.execute_input": "2021-04-19T10:03:04.113026Z",
     "iopub.status.busy": "2021-04-19T10:03:04.083317Z",
     "iopub.status.idle": "2021-04-19T10:03:04.288463Z",
     "shell.execute_reply": "2021-04-19T10:03:04.288981Z"
    },
    "scrolled": true
   },
   "outputs": [
    {
     "data": {
      "image/png": "[encoded data removed]",
      "text/plain": [
       "<Figure size 432x288 with 1 Axes>"
      ]
     },
     "metadata": {
      "needs_background": "light"
     },
     "output_type": "display_data"
    }
   ],
   "source": [
    "fig, ax = plt.subplots(1,1)\n",
    "ax.plot(sizes, t_numeric, 'o-', label='Inserting row-by-row')\n",
    "ax.plot(sizes, t_numeric_add, 'o-', label='Inserting row-by-row: add_result only')\n",
    "ax.plot(sizes, t_array, 'd-', label='Inserting as binary blob')\n",
    "ax.plot(sizes, t_array_add, 'd-', label='Inserting as binary blob: add_result only')\n",
    "ax.legend()\n",
    "ax.set_xlabel('Array length')\n",
    "ax.set_ylabel('Time (s)')\n",
    "fig.tight_layout()"
   ]
  },
  {
   "cell_type": "markdown",
   "metadata": {},
   "source": [
    "However, as we increase the length of the experiment, as seen here by repeating the insertion 100 times, we see a big difference between inserting values of the data row-by-row and inserting it as a binary blob."
   ]
  },
  {
   "cell_type": "markdown",
   "metadata": {},
   "source": [
    "## Loading the data "
   ]
  },
  {
   "cell_type": "code",
   "execution_count": 9,
   "metadata": {
    "execution": {
     "iopub.execute_input": "2021-04-19T10:03:04.293962Z",
     "iopub.status.busy": "2021-04-19T10:03:04.293292Z",
     "iopub.status.idle": "2021-04-19T10:03:04.295869Z",
     "shell.execute_reply": "2021-04-19T10:03:04.296407Z"
    }
   },
   "outputs": [],
   "source": [
    "from qcodes.dataset.data_set import load_by_id"
   ]
  },
  {
   "cell_type": "markdown",
   "metadata": {},
   "source": [
    "As usual you can load the data by using the ``load_by_id`` function but you will notice that the different storage methods\n",
    "are reflected in shape of the data as it is retrieved. "
   ]
  },
  {
   "cell_type": "code",
   "execution_count": 10,
   "metadata": {
    "execution": {
     "iopub.execute_input": "2021-04-19T10:03:04.302191Z",
     "iopub.status.busy": "2021-04-19T10:03:04.300758Z",
     "iopub.status.idle": "2021-04-19T10:03:04.302890Z",
     "shell.execute_reply": "2021-04-19T10:03:04.303423Z"
    }
   },
   "outputs": [],
   "source": [
    "run_id_n = t_numeric_run_ids[0]\n",
    "run_id_a = t_array_run_ids[0]"
   ]
  },
  {
   "cell_type": "code",
   "execution_count": 11,
   "metadata": {
    "execution": {
     "iopub.execute_input": "2021-04-19T10:03:04.307344Z",
     "iopub.status.busy": "2021-04-19T10:03:04.306723Z",
     "iopub.status.idle": "2021-04-19T10:03:04.318577Z",
     "shell.execute_reply": "2021-04-19T10:03:04.319270Z"
    },
    "scrolled": true
   },
   "outputs": [
    {
     "data": {
      "text/plain": [
       "{'x1': {'x1': array([0.29013209, 0.29013209, 0.75216615, 0.75216615, 0.25189326,\n",
       "         0.25189326, 0.38114493, 0.38114493, 0.62646888, 0.62646888,\n",
       "         0.58432557, 0.58432557, 0.9311541 , 0.9311541 , 0.09413424,\n",
       "         0.09413424, 0.83898036, 0.83898036, 0.5721005 , 0.5721005 ,\n",
       "         0.19307484, 0.19307484, 0.21670699, 0.21670699, 0.70067105,\n",
       "         0.70067105, 0.35242727, 0.35242727, 0.84347612, 0.84347612,\n",
       "         0.41401386, 0.41401386, 0.56479194, 0.56479194, 0.98958146,\n",
       "         0.98958146, 0.27651054, 0.27651054, 0.77135491, 0.77135491,\n",
       "         0.71692088, 0.71692088, 0.71281582, 0.71281582, 0.06967586,\n",
       "         0.06967586, 0.50472681, 0.50472681, 0.45884678, 0.45884678,\n",
       "         0.50743874, 0.50743874, 0.45745344, 0.45745344, 0.12466508,\n",
       "         0.12466508, 0.34353131, 0.34353131, 0.8532766 , 0.8532766 ,\n",
       "         0.90044094, 0.90044094, 0.18932859, 0.18932859, 0.8534352 ,\n",
       "         0.8534352 , 0.13488567, 0.13488567, 0.66211154, 0.66211154,\n",
       "         0.60780449, 0.60780449, 0.84546288, 0.84546288, 0.11476316,\n",
       "         0.11476316, 0.87131333, 0.87131333, 0.12465344, 0.12465344,\n",
       "         0.6119601 , 0.6119601 , 0.17735436, 0.17735436, 0.57660411,\n",
       "         0.57660411, 0.71372912, 0.71372912, 0.65331561, 0.65331561,\n",
       "         0.81520349, 0.81520349, 0.4041587 , 0.4041587 , 0.92755737,\n",
       "         0.92755737, 0.04048221, 0.04048221, 0.33537667, 0.33537667,\n",
       "         0.73193509, 0.73193509, 0.96748887, 0.96748887, 0.05913228,\n",
       "         0.05913228, 0.041304  , 0.041304  , 0.79424546, 0.79424546,\n",
       "         0.85657492, 0.85657492, 0.61296831, 0.61296831, 0.56473171,\n",
       "         0.56473171, 0.41745153, 0.41745153, 0.19796095, 0.19796095,\n",
       "         0.16374863, 0.16374863, 0.61567693, 0.61567693, 0.94970683,\n",
       "         0.94970683, 0.60376769, 0.60376769, 0.7732942 , 0.7732942 ,\n",
       "         0.23767973, 0.23767973, 0.50779459, 0.50779459, 0.84630522,\n",
       "         0.84630522, 0.02007072, 0.02007072, 0.46890975, 0.46890975,\n",
       "         0.8773926 , 0.8773926 , 0.99882618, 0.99882618, 0.9251256 ,\n",
       "         0.9251256 , 0.59418084, 0.59418084, 0.31665312, 0.31665312,\n",
       "         0.63693337, 0.63693337, 0.96922961, 0.96922961, 0.25023297,\n",
       "         0.25023297, 0.20906181, 0.20906181, 0.03152323, 0.03152323,\n",
       "         0.48410384, 0.48410384, 0.01054472, 0.01054472, 0.44672932,\n",
       "         0.44672932, 0.06640117, 0.06640117, 0.07774671, 0.07774671,\n",
       "         0.75375024, 0.75375024, 0.26951742, 0.26951742, 0.92961065,\n",
       "         0.92961065, 0.58233128, 0.58233128, 0.39917454, 0.39917454,\n",
       "         0.31324307, 0.31324307, 0.72482453, 0.72482453, 0.67814219,\n",
       "         0.67814219, 0.69269409, 0.69269409, 0.84928737, 0.84928737,\n",
       "         0.04461386, 0.04461386, 0.31870749, 0.31870749, 0.42726263,\n",
       "         0.42726263, 0.14140123, 0.14140123, 0.71216358, 0.71216358])}}"
      ]
     },
     "execution_count": 1,
     "metadata": {},
     "output_type": "execute_result"
    }
   ],
   "source": [
    "ds = load_by_id(run_id_n)\n",
    "ds.get_parameter_data('x1')"
   ]
  },
  {
   "cell_type": "markdown",
   "metadata": {},
   "source": [
    "And a dataset stored as binary arrays"
   ]
  },
  {
   "cell_type": "code",
   "execution_count": 12,
   "metadata": {
    "execution": {
     "iopub.execute_input": "2021-04-19T10:03:04.323832Z",
     "iopub.status.busy": "2021-04-19T10:03:04.323186Z",
     "iopub.status.idle": "2021-04-19T10:03:04.391581Z",
     "shell.execute_reply": "2021-04-19T10:03:04.392139Z"
    },
    "scrolled": true
   },
   "outputs": [
    {
     "data": {
      "text/plain": [
       "{'x1': {'x1': array([[4.21413881e-01],\n",
       "         [4.21413881e-01],\n",
       "         [3.58096989e-01],\n",
       "         [3.58096989e-01],\n",
       "         [5.57979991e-01],\n",
       "         [5.57979991e-01],\n",
       "         [8.70853374e-01],\n",
       "         [8.70853374e-01],\n",
       "         [8.15443788e-01],\n",
       "         [8.15443788e-01],\n",
       "         [6.84324170e-01],\n",
       "         [6.84324170e-01],\n",
       "         [7.58503702e-02],\n",
       "         [7.58503702e-02],\n",
       "         [6.37235157e-01],\n",
       "         [6.37235157e-01],\n",
       "         [9.37043462e-02],\n",
       "         [9.37043462e-02],\n",
       "         [6.65734346e-01],\n",
       "         [6.65734346e-01],\n",
       "         [1.05120638e-01],\n",
       "         [1.05120638e-01],\n",
       "         [9.95979206e-01],\n",
       "         [9.95979206e-01],\n",
       "         [3.11905572e-01],\n",
       "         [3.11905572e-01],\n",
       "         [7.41161750e-01],\n",
       "         [7.41161750e-01],\n",
       "         [2.24491341e-01],\n",
       "         [2.24491341e-01],\n",
       "         [8.69183183e-01],\n",
       "         [8.69183183e-01],\n",
       "         [6.08132848e-02],\n",
       "         [6.08132848e-02],\n",
       "         [7.81249067e-01],\n",
       "         [7.81249067e-01],\n",
       "         [8.03229459e-01],\n",
       "         [8.03229459e-01],\n",
       "         [6.50703233e-01],\n",
       "         [6.50703233e-01],\n",
       "         [5.69183385e-01],\n",
       "         [5.69183385e-01],\n",
       "         [3.06256443e-01],\n",
       "         [3.06256443e-01],\n",
       "         [5.05420608e-01],\n",
       "         [5.05420608e-01],\n",
       "         [5.99293964e-01],\n",
       "         [5.99293964e-01],\n",
       "         [9.27215931e-01],\n",
       "         [9.27215931e-01],\n",
       "         [6.99445165e-01],\n",
       "         [6.99445165e-01],\n",
       "         [4.71486414e-01],\n",
       "         [4.71486414e-01],\n",
       "         [7.42004082e-01],\n",
       "         [7.42004082e-01],\n",
       "         [1.04688086e-03],\n",
       "         [1.04688086e-03],\n",
       "         [8.01175635e-01],\n",
       "         [8.01175635e-01],\n",
       "         [4.92364624e-01],\n",
       "         [4.92364624e-01],\n",
       "         [6.79566198e-02],\n",
       "         [6.79566198e-02],\n",
       "         [4.81709905e-01],\n",
       "         [4.81709905e-01],\n",
       "         [7.53426354e-02],\n",
       "         [7.53426354e-02],\n",
       "         [6.05354338e-01],\n",
       "         [6.05354338e-01],\n",
       "         [5.62357739e-01],\n",
       "         [5.62357739e-01],\n",
       "         [7.91542692e-01],\n",
       "         [7.91542692e-01],\n",
       "         [8.98700451e-01],\n",
       "         [8.98700451e-01],\n",
       "         [7.22534730e-01],\n",
       "         [7.22534730e-01],\n",
       "         [1.62672608e-01],\n",
       "         [1.62672608e-01],\n",
       "         [1.13061836e-01],\n",
       "         [1.13061836e-01],\n",
       "         [8.74136862e-02],\n",
       "         [8.74136862e-02],\n",
       "         [2.08963143e-01],\n",
       "         [2.08963143e-01],\n",
       "         [5.66032714e-01],\n",
       "         [5.66032714e-01],\n",
       "         [2.11384355e-01],\n",
       "         [2.11384355e-01],\n",
       "         [6.93426874e-01],\n",
       "         [6.93426874e-01],\n",
       "         [3.14756361e-01],\n",
       "         [3.14756361e-01],\n",
       "         [9.92239205e-01],\n",
       "         [9.92239205e-01],\n",
       "         [5.89318240e-01],\n",
       "         [5.89318240e-01],\n",
       "         [5.91520136e-01],\n",
       "         [5.91520136e-01],\n",
       "         [4.62121384e-01],\n",
       "         [4.62121384e-01],\n",
       "         [3.86058585e-01],\n",
       "         [3.86058585e-01],\n",
       "         [4.24516375e-02],\n",
       "         [4.24516375e-02],\n",
       "         [8.69281962e-01],\n",
       "         [8.69281962e-01],\n",
       "         [3.01143361e-01],\n",
       "         [3.01143361e-01],\n",
       "         [7.41778364e-01],\n",
       "         [7.41778364e-01],\n",
       "         [2.94497179e-01],\n",
       "         [2.94497179e-01],\n",
       "         [5.40581791e-01],\n",
       "         [5.40581791e-01],\n",
       "         [6.53412839e-01],\n",
       "         [6.53412839e-01],\n",
       "         [5.50112288e-01],\n",
       "         [5.50112288e-01],\n",
       "         [1.44349997e-01],\n",
       "         [1.44349997e-01],\n",
       "         [8.42254543e-01],\n",
       "         [8.42254543e-01],\n",
       "         [7.80789157e-01],\n",
       "         [7.80789157e-01],\n",
       "         [4.04114868e-01],\n",
       "         [4.04114868e-01],\n",
       "         [1.70493713e-01],\n",
       "         [1.70493713e-01],\n",
       "         [4.21142270e-01],\n",
       "         [4.21142270e-01],\n",
       "         [2.78385115e-01],\n",
       "         [2.78385115e-01],\n",
       "         [9.46872305e-01],\n",
       "         [9.46872305e-01],\n",
       "         [3.23381483e-01],\n",
       "         [3.23381483e-01],\n",
       "         [3.87164313e-02],\n",
       "         [3.87164313e-02],\n",
       "         [1.95737694e-01],\n",
       "         [1.95737694e-01],\n",
       "         [8.99091148e-01],\n",
       "         [8.99091148e-01],\n",
       "         [6.80765975e-01],\n",
       "         [6.80765975e-01],\n",
       "         [8.14618355e-01],\n",
       "         [8.14618355e-01],\n",
       "         [5.54261909e-01],\n",
       "         [5.54261909e-01],\n",
       "         [3.12952480e-01],\n",
       "         [3.12952480e-01],\n",
       "         [3.72244926e-01],\n",
       "         [3.72244926e-01],\n",
       "         [9.93135411e-01],\n",
       "         [9.93135411e-01],\n",
       "         [6.34464442e-01],\n",
       "         [6.34464442e-01],\n",
       "         [5.64720529e-01],\n",
       "         [5.64720529e-01],\n",
       "         [7.35749147e-01],\n",
       "         [7.35749147e-01],\n",
       "         [8.07472665e-01],\n",
       "         [8.07472665e-01],\n",
       "         [1.55410245e-01],\n",
       "         [1.55410245e-01],\n",
       "         [5.00497736e-01],\n",
       "         [5.00497736e-01],\n",
       "         [3.01195261e-01],\n",
       "         [3.01195261e-01],\n",
       "         [3.17805648e-01],\n",
       "         [3.17805648e-01],\n",
       "         [3.89738680e-01],\n",
       "         [3.89738680e-01],\n",
       "         [1.67074071e-01],\n",
       "         [1.67074071e-01],\n",
       "         [4.39796588e-02],\n",
       "         [4.39796588e-02],\n",
       "         [5.46525616e-01],\n",
       "         [5.46525616e-01],\n",
       "         [9.42491103e-01],\n",
       "         [9.42491103e-01],\n",
       "         [6.36825708e-04],\n",
       "         [6.36825708e-04],\n",
       "         [3.01767741e-01],\n",
       "         [3.01767741e-01],\n",
       "         [4.43590317e-01],\n",
       "         [4.43590317e-01],\n",
       "         [4.00908260e-01],\n",
       "         [4.00908260e-01],\n",
       "         [1.10230722e-01],\n",
       "         [1.10230722e-01],\n",
       "         [7.22564254e-02],\n",
       "         [7.22564254e-02],\n",
       "         [7.21614648e-01],\n",
       "         [7.21614648e-01],\n",
       "         [2.25755852e-01],\n",
       "         [2.25755852e-01],\n",
       "         [4.96712475e-01],\n",
       "         [4.96712475e-01]])}}"
      ]
     },
     "execution_count": 1,
     "metadata": {},
     "output_type": "execute_result"
    }
   ],
   "source": [
    "ds = load_by_id(run_id_a)\n",
    "ds.get_parameter_data('x1')"
   ]
  },
  {
   "cell_type": "code",
   "execution_count": null,
   "metadata": {},
   "outputs": [],
   "source": []
  }
 ],
 "metadata": {
  "kernelspec": {
   "display_name": "Python 3",
   "language": "python",
   "name": "python3"
  },
  "language_info": {
   "codemirror_mode": {
    "name": "ipython",
    "version": 3
   },
   "file_extension": ".py",
   "mimetype": "text/x-python",
   "name": "python",
   "nbconvert_exporter": "python",
   "pygments_lexer": "ipython3",
   "version": "3.7.10"
  },
  "nbsphinx": {
   "timeout": 600
  },
  "toc": {
   "base_numbering": 1,
   "nav_menu": {},
   "number_sections": true,
   "sideBar": true,
   "skip_h1_title": false,
   "title_cell": "Table of Contents",
   "title_sidebar": "Contents",
   "toc_cell": false,
   "toc_position": {},
   "toc_section_display": true,
   "toc_window_display": false
  },
  "varInspector": {
   "cols": {
    "lenName": 16,
    "lenType": 16,
    "lenVar": 40
   },
   "kernels_config": {
    "python": {
     "delete_cmd_postfix": "",
     "delete_cmd_prefix": "del ",
     "library": "var_list.py",
     "varRefreshCmd": "print(var_dic_list())"
    },
    "r": {
     "delete_cmd_postfix": ") ",
     "delete_cmd_prefix": "rm(",
     "library": "var_list.r",
     "varRefreshCmd": "cat(var_dic_list()) "
    }
   },
   "types_to_exclude": [
    "module",
    "function",
    "builtin_function_or_method",
    "instance",
    "_Feature"
   ],
   "window_display": false
  }
 },
 "nbformat": 4,
 "nbformat_minor": 4
}
