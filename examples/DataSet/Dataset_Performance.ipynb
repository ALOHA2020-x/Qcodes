{
 "cells": [
  {
   "cell_type": "markdown",
   "metadata": {},
   "source": [
    "# DataSet Performance\n",
    "\n",
    "This notebook shows the trade-off between inserting data into a database row-by-row and as binary blobs. Inserting the data row-by-row means that we have direct access to all the data and may perform queries directly on the values of the data. On the other hand, as we shall see, this is much slower than inserting the data directly as binary blobs."
   ]
  },
  {
   "cell_type": "markdown",
   "metadata": {},
   "source": [
    "First, we choose a new location for the database to ensure that we don't add a bunch of benchmarking data to the default one."
   ]
  },
  {
   "cell_type": "code",
   "execution_count": 1,
   "metadata": {
    "execution": {
     "iopub.execute_input": "2021-02-25T06:32:08.342523Z",
     "iopub.status.busy": "2021-02-25T06:32:08.341905Z",
     "iopub.status.idle": "2021-02-25T06:32:09.399544Z",
     "shell.execute_reply": "2021-02-25T06:32:09.400311Z"
    }
   },
   "outputs": [
    {
     "name": "stdout",
     "output_type": "stream",
     "text": [
      "Logging hadn't been started.\n",
      "Activating auto-logging. Current session state plus future input saved.\n",
      "Filename       : /home/runner/.qcodes/logs/command_history.log\n",
      "Mode           : append\n",
      "Output logging : True\n",
      "Raw input log  : False\n",
      "Timestamping   : True\n",
      "State          : active\n"
     ]
    },
    {
     "name": "stdout",
     "output_type": "stream",
     "text": [
      "Qcodes Logfile : /home/runner/.qcodes/logs/210225-4470-qcodes.log\n"
     ]
    }
   ],
   "source": [
    "import os\n",
    "cwd = os.getcwd()\n",
    "import qcodes as qc\n",
    "qc.config[\"core\"][\"db_location\"] = os.path.join(cwd, 'testing.db')\n"
   ]
  },
  {
   "cell_type": "code",
   "execution_count": 2,
   "metadata": {
    "execution": {
     "iopub.execute_input": "2021-02-25T06:32:09.414562Z",
     "iopub.status.busy": "2021-02-25T06:32:09.411644Z",
     "iopub.status.idle": "2021-02-25T06:32:09.662451Z",
     "shell.execute_reply": "2021-02-25T06:32:09.663104Z"
    }
   },
   "outputs": [],
   "source": [
    "%matplotlib inline\n",
    "import time\n",
    "import matplotlib.pyplot as plt\n",
    "import numpy as np\n",
    "\n",
    "import qcodes as qc\n",
    "from qcodes.instrument.parameter import ManualParameter\n",
    "from qcodes.dataset.experiment_container import (Experiment,\n",
    "                                                 load_last_experiment,\n",
    "                                                 new_experiment)\n",
    "from qcodes.dataset.sqlite.database import initialise_database\n",
    "from qcodes import load_or_create_experiment\n",
    "from qcodes.dataset.measurements import Measurement"
   ]
  },
  {
   "cell_type": "code",
   "execution_count": 3,
   "metadata": {
    "execution": {
     "iopub.execute_input": "2021-02-25T06:32:09.668250Z",
     "iopub.status.busy": "2021-02-25T06:32:09.667384Z",
     "iopub.status.idle": "2021-02-25T06:32:09.811298Z",
     "shell.execute_reply": "2021-02-25T06:32:09.810606Z"
    }
   },
   "outputs": [
    {
     "name": "stdout",
     "output_type": "stream",
     "text": [
      "\r",
      "0it [00:00, ?it/s]"
     ]
    },
    {
     "name": "stdout",
     "output_type": "stream",
     "text": [
      "\r",
      "Upgrading database; v0 -> v1: : 0it [00:00, ?it/s]"
     ]
    },
    {
     "name": "stdout",
     "output_type": "stream",
     "text": [
      "\r",
      "Upgrading database; v0 -> v1: : 0it [00:00, ?it/s]"
     ]
    },
    {
     "name": "stdout",
     "output_type": "stream",
     "text": [
      "\n",
      "\r",
      "  0%|          | 0/1 [00:00<?, ?it/s]"
     ]
    },
    {
     "name": "stdout",
     "output_type": "stream",
     "text": [
      "\r",
      "Upgrading database; v1 -> v2:   0%|          | 0/1 [00:00<?, ?it/s]"
     ]
    },
    {
     "name": "stdout",
     "output_type": "stream",
     "text": [
      "\r",
      "Upgrading database; v1 -> v2: 100%|██████████| 1/1 [00:00<00:00, 460.66it/s]"
     ]
    },
    {
     "name": "stdout",
     "output_type": "stream",
     "text": [
      "\n",
      "\r",
      "0it [00:00, ?it/s]"
     ]
    },
    {
     "name": "stdout",
     "output_type": "stream",
     "text": [
      "\r",
      "Upgrading database; v2 -> v3: : 0it [00:00, ?it/s]"
     ]
    },
    {
     "name": "stdout",
     "output_type": "stream",
     "text": [
      "\r",
      "Upgrading database; v2 -> v3: : 0it [00:00, ?it/s]"
     ]
    },
    {
     "name": "stdout",
     "output_type": "stream",
     "text": [
      "\n",
      "\r",
      "0it [00:00, ?it/s]"
     ]
    },
    {
     "name": "stdout",
     "output_type": "stream",
     "text": [
      "\r",
      "Upgrading database; v3 -> v4: : 0it [00:00, ?it/s]"
     ]
    },
    {
     "name": "stdout",
     "output_type": "stream",
     "text": [
      "\r",
      "Upgrading database; v3 -> v4: : 0it [00:00, ?it/s]"
     ]
    },
    {
     "name": "stdout",
     "output_type": "stream",
     "text": [
      "\n",
      "\r",
      "  0%|          | 0/1 [00:00<?, ?it/s]"
     ]
    },
    {
     "name": "stdout",
     "output_type": "stream",
     "text": [
      "\r",
      "Upgrading database; v4 -> v5:   0%|          | 0/1 [00:00<?, ?it/s]"
     ]
    },
    {
     "name": "stdout",
     "output_type": "stream",
     "text": [
      "\r",
      "Upgrading database; v4 -> v5: 100%|██████████| 1/1 [00:00<00:00, 304.55it/s]"
     ]
    },
    {
     "name": "stdout",
     "output_type": "stream",
     "text": [
      "\n",
      "\r",
      "0it [00:00, ?it/s]"
     ]
    },
    {
     "name": "stdout",
     "output_type": "stream",
     "text": [
      "\r",
      "Upgrading database; v5 -> v6: : 0it [00:00, ?it/s]"
     ]
    },
    {
     "name": "stdout",
     "output_type": "stream",
     "text": [
      "\r",
      "Upgrading database; v5 -> v6: : 0it [00:00, ?it/s]"
     ]
    },
    {
     "name": "stdout",
     "output_type": "stream",
     "text": [
      "\n",
      "\r",
      "  0%|          | 0/1 [00:00<?, ?it/s]"
     ]
    },
    {
     "name": "stdout",
     "output_type": "stream",
     "text": [
      "\r",
      "Upgrading database; v6 -> v7:   0%|          | 0/1 [00:00<?, ?it/s]"
     ]
    },
    {
     "name": "stdout",
     "output_type": "stream",
     "text": [
      "\r",
      "Upgrading database; v6 -> v7: 100%|██████████| 1/1 [00:00<00:00, 244.15it/s]"
     ]
    },
    {
     "name": "stdout",
     "output_type": "stream",
     "text": [
      "\n",
      "\r",
      "  0%|          | 0/1 [00:00<?, ?it/s]"
     ]
    },
    {
     "name": "stdout",
     "output_type": "stream",
     "text": [
      "\r",
      "Upgrading database; v7 -> v8:   0%|          | 0/1 [00:00<?, ?it/s]"
     ]
    },
    {
     "name": "stdout",
     "output_type": "stream",
     "text": [
      "\r",
      "Upgrading database; v7 -> v8: 100%|██████████| 1/1 [00:00<00:00, 345.52it/s]"
     ]
    },
    {
     "name": "stdout",
     "output_type": "stream",
     "text": [
      "\n",
      "\r",
      "  0%|          | 0/1 [00:00<?, ?it/s]"
     ]
    },
    {
     "name": "stdout",
     "output_type": "stream",
     "text": [
      "\r",
      "Upgrading database; v8 -> v9:   0%|          | 0/1 [00:00<?, ?it/s]"
     ]
    },
    {
     "name": "stdout",
     "output_type": "stream",
     "text": [
      "\r",
      "Upgrading database; v8 -> v9: 100%|██████████| 1/1 [00:00<00:00, 319.25it/s]"
     ]
    },
    {
     "name": "stdout",
     "output_type": "stream",
     "text": [
      "\n"
     ]
    }
   ],
   "source": [
    "initialise_database()\n",
    "exp = load_or_create_experiment(experiment_name='tutorial_exp', sample_name=\"no sample\")"
   ]
  },
  {
   "cell_type": "markdown",
   "metadata": {},
   "source": [
    "Here, we define a simple function to benchmark the time it takes to insert n points with either numeric or array data type.\n",
    "We will compare both the time used to call ``add_result`` and the time used for the full measurement."
   ]
  },
  {
   "cell_type": "code",
   "execution_count": 4,
   "metadata": {
    "execution": {
     "iopub.execute_input": "2021-02-25T06:32:09.820247Z",
     "iopub.status.busy": "2021-02-25T06:32:09.819528Z",
     "iopub.status.idle": "2021-02-25T06:32:09.826551Z",
     "shell.execute_reply": "2021-02-25T06:32:09.825821Z"
    }
   },
   "outputs": [],
   "source": [
    "def insert_data(paramtype, npoints, nreps=1):\n",
    "\n",
    "    meas = Measurement(exp=exp)\n",
    "\n",
    "    x1 = ManualParameter('x1')\n",
    "    x2 = ManualParameter('x2')\n",
    "    x3 = ManualParameter('x3')\n",
    "    y1 = ManualParameter('y1')\n",
    "    y2 = ManualParameter('y2')\n",
    "\n",
    "    meas.register_parameter(x1, paramtype=paramtype)\n",
    "    meas.register_parameter(x2, paramtype=paramtype)\n",
    "    meas.register_parameter(x3, paramtype=paramtype)\n",
    "    meas.register_parameter(y1, setpoints=[x1, x2, x3],\n",
    "                            paramtype=paramtype)\n",
    "    meas.register_parameter(y2, setpoints=[x1, x2, x3],\n",
    "                            paramtype=paramtype)\n",
    "    start = time.perf_counter()\n",
    "    with meas.run() as datasaver:\n",
    "        start_adding = time.perf_counter()\n",
    "        for i in range(nreps):\n",
    "            datasaver.add_result((x1, np.random.rand(npoints)),\n",
    "                                 (x2, np.random.rand(npoints)),\n",
    "                                 (x3, np.random.rand(npoints)),\n",
    "                                 (y1, np.random.rand(npoints)),\n",
    "                                 (y2, np.random.rand(npoints)))\n",
    "        stop_adding = time.perf_counter()\n",
    "        run_id = datasaver.run_id\n",
    "    stop = time.perf_counter()\n",
    "    tot_time = stop - start\n",
    "    add_time = stop_adding - start_adding\n",
    "    return tot_time, add_time, run_id"
   ]
  },
  {
   "cell_type": "markdown",
   "metadata": {},
   "source": [
    "## Comparison between numeric/array data and binary blob"
   ]
  },
  {
   "cell_type": "markdown",
   "metadata": {},
   "source": [
    "### Case1: Short experiment time"
   ]
  },
  {
   "cell_type": "code",
   "execution_count": 5,
   "metadata": {
    "execution": {
     "iopub.execute_input": "2021-02-25T06:32:09.837010Z",
     "iopub.status.busy": "2021-02-25T06:32:09.835556Z",
     "iopub.status.idle": "2021-02-25T06:32:10.754963Z",
     "shell.execute_reply": "2021-02-25T06:32:10.754043Z"
    }
   },
   "outputs": [
    {
     "name": "stdout",
     "output_type": "stream",
     "text": [
      "Starting experimental run with id: 1. \n",
      "Starting experimental run with id: 2. \n",
      "Starting experimental run with id: 3. \n"
     ]
    },
    {
     "name": "stdout",
     "output_type": "stream",
     "text": [
      "Starting experimental run with id: 4. \n"
     ]
    },
    {
     "name": "stdout",
     "output_type": "stream",
     "text": [
      "Starting experimental run with id: 5. \n"
     ]
    },
    {
     "name": "stdout",
     "output_type": "stream",
     "text": [
      "Starting experimental run with id: 6. \n",
      "Starting experimental run with id: 7. \n"
     ]
    },
    {
     "name": "stdout",
     "output_type": "stream",
     "text": [
      "Starting experimental run with id: 8. \n"
     ]
    },
    {
     "name": "stdout",
     "output_type": "stream",
     "text": [
      "Starting experimental run with id: 9. \n"
     ]
    },
    {
     "name": "stdout",
     "output_type": "stream",
     "text": [
      "Starting experimental run with id: 10. \n",
      "Starting experimental run with id: 11. \n"
     ]
    },
    {
     "name": "stdout",
     "output_type": "stream",
     "text": [
      "Starting experimental run with id: 12. \n"
     ]
    },
    {
     "name": "stdout",
     "output_type": "stream",
     "text": [
      "Starting experimental run with id: 13. \n"
     ]
    },
    {
     "name": "stdout",
     "output_type": "stream",
     "text": [
      "Starting experimental run with id: 14. \n"
     ]
    }
   ],
   "source": [
    "sizes = [1,500,1000,2000,3000,4000,5000]\n",
    "t_numeric = []\n",
    "t_numeric_add = []\n",
    "t_array = []\n",
    "t_array_add = []\n",
    "for size in sizes:\n",
    "    tn, tna, run_id_n =  insert_data('numeric', size)\n",
    "    t_numeric.append(tn)\n",
    "    t_numeric_add.append(tna)\n",
    "\n",
    "    ta, taa, run_id_a =  insert_data('array', size)\n",
    "    t_array.append(ta)\n",
    "    t_array_add.append(taa)"
   ]
  },
  {
   "cell_type": "code",
   "execution_count": 6,
   "metadata": {
    "execution": {
     "iopub.execute_input": "2021-02-25T06:32:10.775837Z",
     "iopub.status.busy": "2021-02-25T06:32:10.771524Z",
     "iopub.status.idle": "2021-02-25T06:32:11.021089Z",
     "shell.execute_reply": "2021-02-25T06:32:11.019945Z"
    }
   },
   "outputs": [
    {
     "data": {
      "image/png": "[encoded data removed]",
      "text/plain": [
       "<Figure size 432x288 with 1 Axes>"
      ]
     },
     "metadata": {
      "needs_background": "light"
     },
     "output_type": "display_data"
    }
   ],
   "source": [
    "fig, ax = plt.subplots(1,1)\n",
    "ax.plot(sizes, t_numeric, 'o-', label='Inserting row-by-row')\n",
    "ax.plot(sizes, t_numeric_add, 'o-', label='Inserting row-by-row: add_result only')\n",
    "ax.plot(sizes, t_array, 'd-', label='Inserting as binary blob')\n",
    "ax.plot(sizes, t_array_add, 'd-', label='Inserting as binary blob: add_result only')\n",
    "ax.legend()\n",
    "ax.set_xlabel('Array length')\n",
    "ax.set_ylabel('Time (s)')\n",
    "fig.tight_layout()"
   ]
  },
  {
   "cell_type": "markdown",
   "metadata": {},
   "source": [
    "As shown in the latter figure, the time to setup and and close the experiment is approximately 0.4 sec. In case of small array sizes, the difference between inserting values of data as arrays and inserting them row-by-row is relatively unimportant. At larger array sizes, i.e. above 10000 points, the cost of writing data as individual datapoints starts to become important.\n"
   ]
  },
  {
   "cell_type": "markdown",
   "metadata": {},
   "source": [
    "### Case2: Long experiment time "
   ]
  },
  {
   "cell_type": "code",
   "execution_count": 7,
   "metadata": {
    "execution": {
     "iopub.execute_input": "2021-02-25T06:32:11.030115Z",
     "iopub.status.busy": "2021-02-25T06:32:11.029269Z",
     "iopub.status.idle": "2021-02-25T06:33:17.515724Z",
     "shell.execute_reply": "2021-02-25T06:33:17.515182Z"
    }
   },
   "outputs": [
    {
     "name": "stdout",
     "output_type": "stream",
     "text": [
      "Starting experimental run with id: 15. \n",
      "Starting experimental run with id: 16. \n"
     ]
    },
    {
     "name": "stdout",
     "output_type": "stream",
     "text": [
      "Starting experimental run with id: 17. \n"
     ]
    },
    {
     "name": "stdout",
     "output_type": "stream",
     "text": [
      "Starting experimental run with id: 18. \n"
     ]
    },
    {
     "name": "stdout",
     "output_type": "stream",
     "text": [
      "Starting experimental run with id: 19. \n"
     ]
    },
    {
     "name": "stdout",
     "output_type": "stream",
     "text": [
      "Starting experimental run with id: 20. \n"
     ]
    },
    {
     "name": "stdout",
     "output_type": "stream",
     "text": [
      "Starting experimental run with id: 21. \n"
     ]
    },
    {
     "name": "stdout",
     "output_type": "stream",
     "text": [
      "Starting experimental run with id: 22. \n"
     ]
    },
    {
     "name": "stdout",
     "output_type": "stream",
     "text": [
      "Starting experimental run with id: 23. \n"
     ]
    },
    {
     "name": "stdout",
     "output_type": "stream",
     "text": [
      "Starting experimental run with id: 24. \n"
     ]
    },
    {
     "name": "stdout",
     "output_type": "stream",
     "text": [
      "Starting experimental run with id: 25. \n"
     ]
    },
    {
     "name": "stdout",
     "output_type": "stream",
     "text": [
      "Starting experimental run with id: 26. \n"
     ]
    },
    {
     "name": "stdout",
     "output_type": "stream",
     "text": [
      "Starting experimental run with id: 27. \n"
     ]
    },
    {
     "name": "stdout",
     "output_type": "stream",
     "text": [
      "Starting experimental run with id: 28. \n"
     ]
    }
   ],
   "source": [
    "sizes = [1,500,1000,2000,3000,4000,5000]\n",
    "nreps = 100\n",
    "t_numeric = []\n",
    "t_numeric_add = []\n",
    "t_numeric_run_ids = []\n",
    "t_array = []\n",
    "t_array_add = []\n",
    "t_array_run_ids = []\n",
    "for size in sizes:\n",
    "    tn, tna, run_id_n =  insert_data('numeric', size, nreps=nreps)\n",
    "    t_numeric.append(tn)\n",
    "    t_numeric_add.append(tna)\n",
    "    t_numeric_run_ids.append(run_id_n)\n",
    "\n",
    "    ta, taa, run_id_a =  insert_data('array', size, nreps=nreps)\n",
    "    t_array.append(ta)\n",
    "    t_array_add.append(taa)\n",
    "    t_array_run_ids.append(run_id_a)"
   ]
  },
  {
   "cell_type": "code",
   "execution_count": 8,
   "metadata": {
    "execution": {
     "iopub.execute_input": "2021-02-25T06:33:17.573893Z",
     "iopub.status.busy": "2021-02-25T06:33:17.550548Z",
     "iopub.status.idle": "2021-02-25T06:33:17.809638Z",
     "shell.execute_reply": "2021-02-25T06:33:17.808028Z"
    },
    "scrolled": true
   },
   "outputs": [
    {
     "data": {
      "image/png": "[encoded data removed]",
      "text/plain": [
       "<Figure size 432x288 with 1 Axes>"
      ]
     },
     "metadata": {
      "needs_background": "light"
     },
     "output_type": "display_data"
    }
   ],
   "source": [
    "fig, ax = plt.subplots(1,1)\n",
    "ax.plot(sizes, t_numeric, 'o-', label='Inserting row-by-row')\n",
    "ax.plot(sizes, t_numeric_add, 'o-', label='Inserting row-by-row: add_result only')\n",
    "ax.plot(sizes, t_array, 'd-', label='Inserting as binary blob')\n",
    "ax.plot(sizes, t_array_add, 'd-', label='Inserting as binary blob: add_result only')\n",
    "ax.legend()\n",
    "ax.set_xlabel('Array length')\n",
    "ax.set_ylabel('Time (s)')\n",
    "fig.tight_layout()"
   ]
  },
  {
   "cell_type": "markdown",
   "metadata": {},
   "source": [
    "However, as we increase the length of the experiment, as seen here by repeating the insertion 100 times, we see a big difference between inserting values of the data row-by-row and inserting it as a binary blob."
   ]
  },
  {
   "cell_type": "markdown",
   "metadata": {},
   "source": [
    "## Loading the data "
   ]
  },
  {
   "cell_type": "code",
   "execution_count": 9,
   "metadata": {
    "execution": {
     "iopub.execute_input": "2021-02-25T06:33:17.814680Z",
     "iopub.status.busy": "2021-02-25T06:33:17.813534Z",
     "iopub.status.idle": "2021-02-25T06:33:17.816912Z",
     "shell.execute_reply": "2021-02-25T06:33:17.817412Z"
    }
   },
   "outputs": [],
   "source": [
    "from qcodes.dataset.data_set import load_by_id\n",
    "from qcodes.dataset.data_export import get_data_by_id"
   ]
  },
  {
   "cell_type": "markdown",
   "metadata": {},
   "source": [
    "As usual you can load the data by using the ``load_by_id`` function but you will notice that the different storage methods\n",
    "are reflected in shape of the data as it is retrieved. "
   ]
  },
  {
   "cell_type": "code",
   "execution_count": 10,
   "metadata": {
    "execution": {
     "iopub.execute_input": "2021-02-25T06:33:17.821659Z",
     "iopub.status.busy": "2021-02-25T06:33:17.821052Z",
     "iopub.status.idle": "2021-02-25T06:33:17.823672Z",
     "shell.execute_reply": "2021-02-25T06:33:17.824188Z"
    }
   },
   "outputs": [],
   "source": [
    "run_id_n = t_numeric_run_ids[0]\n",
    "run_id_a = t_array_run_ids[0]"
   ]
  },
  {
   "cell_type": "code",
   "execution_count": 11,
   "metadata": {
    "execution": {
     "iopub.execute_input": "2021-02-25T06:33:17.828253Z",
     "iopub.status.busy": "2021-02-25T06:33:17.827507Z",
     "iopub.status.idle": "2021-02-25T06:33:17.839476Z",
     "shell.execute_reply": "2021-02-25T06:33:17.840030Z"
    },
    "scrolled": true
   },
   "outputs": [
    {
     "data": {
      "text/plain": [
       "{'x1': {'x1': array([0.8065531 , 0.8065531 , 0.52410643, 0.52410643, 0.76564632,\n",
       "         0.76564632, 0.30983529, 0.30983529, 0.55567168, 0.55567168,\n",
       "         0.06464275, 0.06464275, 0.31404704, 0.31404704, 0.81509663,\n",
       "         0.81509663, 0.56974671, 0.56974671, 0.28278572, 0.28278572,\n",
       "         0.72227688, 0.72227688, 0.31764215, 0.31764215, 0.08483758,\n",
       "         0.08483758, 0.78178114, 0.78178114, 0.63012647, 0.63012647,\n",
       "         0.90824521, 0.90824521, 0.84400681, 0.84400681, 0.9897679 ,\n",
       "         0.9897679 , 0.26964023, 0.26964023, 0.36680897, 0.36680897,\n",
       "         0.12214299, 0.12214299, 0.75652803, 0.75652803, 0.49670647,\n",
       "         0.49670647, 0.75241243, 0.75241243, 0.48786017, 0.48786017,\n",
       "         0.42306604, 0.42306604, 0.41343785, 0.41343785, 0.64673108,\n",
       "         0.64673108, 0.07345606, 0.07345606, 0.65490676, 0.65490676,\n",
       "         0.99928055, 0.99928055, 0.56500221, 0.56500221, 0.45812183,\n",
       "         0.45812183, 0.30401753, 0.30401753, 0.27341812, 0.27341812,\n",
       "         0.16184257, 0.16184257, 0.30755617, 0.30755617, 0.73344577,\n",
       "         0.73344577, 0.15971617, 0.15971617, 0.18667935, 0.18667935,\n",
       "         0.81536355, 0.81536355, 0.43263206, 0.43263206, 0.6738825 ,\n",
       "         0.6738825 , 0.51499539, 0.51499539, 0.90646946, 0.90646946,\n",
       "         0.20606028, 0.20606028, 0.83745047, 0.83745047, 0.21525546,\n",
       "         0.21525546, 0.55421501, 0.55421501, 0.24268142, 0.24268142,\n",
       "         0.74416268, 0.74416268, 0.90061171, 0.90061171, 0.17716498,\n",
       "         0.17716498, 0.99568536, 0.99568536, 0.14486638, 0.14486638,\n",
       "         0.96438691, 0.96438691, 0.7288938 , 0.7288938 , 0.38338134,\n",
       "         0.38338134, 0.2534522 , 0.2534522 , 0.72003693, 0.72003693,\n",
       "         0.76298487, 0.76298487, 0.76375226, 0.76375226, 0.33471595,\n",
       "         0.33471595, 0.28312133, 0.28312133, 0.0779445 , 0.0779445 ,\n",
       "         0.59341819, 0.59341819, 0.61620884, 0.61620884, 0.63610872,\n",
       "         0.63610872, 0.93028794, 0.93028794, 0.04434269, 0.04434269,\n",
       "         0.82447403, 0.82447403, 0.16976825, 0.16976825, 0.12240523,\n",
       "         0.12240523, 0.61740407, 0.61740407, 0.84253849, 0.84253849,\n",
       "         0.16248042, 0.16248042, 0.85696834, 0.85696834, 0.95093004,\n",
       "         0.95093004, 0.04300946, 0.04300946, 0.861094  , 0.861094  ,\n",
       "         0.90968891, 0.90968891, 0.19714848, 0.19714848, 0.58560342,\n",
       "         0.58560342, 0.76615504, 0.76615504, 0.73750424, 0.73750424,\n",
       "         0.07046491, 0.07046491, 0.27867958, 0.27867958, 0.48635434,\n",
       "         0.48635434, 0.32172868, 0.32172868, 0.48332301, 0.48332301,\n",
       "         0.47561151, 0.47561151, 0.1748841 , 0.1748841 , 0.0952525 ,\n",
       "         0.0952525 , 0.09419523, 0.09419523, 0.99846587, 0.99846587,\n",
       "         0.67706411, 0.67706411, 0.87896912, 0.87896912, 0.03508552,\n",
       "         0.03508552, 0.72856565, 0.72856565, 0.89344091, 0.89344091])}}"
      ]
     },
     "execution_count": 1,
     "metadata": {},
     "output_type": "execute_result"
    }
   ],
   "source": [
    "ds = load_by_id(run_id_n)\n",
    "ds.get_parameter_data('x1')"
   ]
  },
  {
   "cell_type": "markdown",
   "metadata": {},
   "source": [
    "And a dataset stored as binary arrays"
   ]
  },
  {
   "cell_type": "code",
   "execution_count": 12,
   "metadata": {
    "execution": {
     "iopub.execute_input": "2021-02-25T06:33:17.843992Z",
     "iopub.status.busy": "2021-02-25T06:33:17.843389Z",
     "iopub.status.idle": "2021-02-25T06:33:17.913284Z",
     "shell.execute_reply": "2021-02-25T06:33:17.913930Z"
    },
    "scrolled": true
   },
   "outputs": [
    {
     "data": {
      "text/plain": [
       "{'x1': {'x1': array([[0.00413263],\n",
       "         [0.00413263],\n",
       "         [0.60598371],\n",
       "         [0.60598371],\n",
       "         [0.72221459],\n",
       "         [0.72221459],\n",
       "         [0.58261562],\n",
       "         [0.58261562],\n",
       "         [0.63822845],\n",
       "         [0.63822845],\n",
       "         [0.66449968],\n",
       "         [0.66449968],\n",
       "         [0.52928976],\n",
       "         [0.52928976],\n",
       "         [0.23502415],\n",
       "         [0.23502415],\n",
       "         [0.86024399],\n",
       "         [0.86024399],\n",
       "         [0.75124007],\n",
       "         [0.75124007],\n",
       "         [0.43219756],\n",
       "         [0.43219756],\n",
       "         [0.82835663],\n",
       "         [0.82835663],\n",
       "         [0.36964211],\n",
       "         [0.36964211],\n",
       "         [0.64591731],\n",
       "         [0.64591731],\n",
       "         [0.30160088],\n",
       "         [0.30160088],\n",
       "         [0.83181072],\n",
       "         [0.83181072],\n",
       "         [0.27102234],\n",
       "         [0.27102234],\n",
       "         [0.79411532],\n",
       "         [0.79411532],\n",
       "         [0.51161014],\n",
       "         [0.51161014],\n",
       "         [0.11948374],\n",
       "         [0.11948374],\n",
       "         [0.18516909],\n",
       "         [0.18516909],\n",
       "         [0.00628283],\n",
       "         [0.00628283],\n",
       "         [0.14837583],\n",
       "         [0.14837583],\n",
       "         [0.8824707 ],\n",
       "         [0.8824707 ],\n",
       "         [0.70670241],\n",
       "         [0.70670241],\n",
       "         [0.52743305],\n",
       "         [0.52743305],\n",
       "         [0.43249679],\n",
       "         [0.43249679],\n",
       "         [0.21618347],\n",
       "         [0.21618347],\n",
       "         [0.6859347 ],\n",
       "         [0.6859347 ],\n",
       "         [0.79064212],\n",
       "         [0.79064212],\n",
       "         [0.15545818],\n",
       "         [0.15545818],\n",
       "         [0.65256658],\n",
       "         [0.65256658],\n",
       "         [0.1964975 ],\n",
       "         [0.1964975 ],\n",
       "         [0.38039868],\n",
       "         [0.38039868],\n",
       "         [0.52843078],\n",
       "         [0.52843078],\n",
       "         [0.03800837],\n",
       "         [0.03800837],\n",
       "         [0.76497432],\n",
       "         [0.76497432],\n",
       "         [0.43786645],\n",
       "         [0.43786645],\n",
       "         [0.37941942],\n",
       "         [0.37941942],\n",
       "         [0.48076935],\n",
       "         [0.48076935],\n",
       "         [0.67382068],\n",
       "         [0.67382068],\n",
       "         [0.66016067],\n",
       "         [0.66016067],\n",
       "         [0.04092368],\n",
       "         [0.04092368],\n",
       "         [0.86886881],\n",
       "         [0.86886881],\n",
       "         [0.93324336],\n",
       "         [0.93324336],\n",
       "         [0.28251002],\n",
       "         [0.28251002],\n",
       "         [0.81960079],\n",
       "         [0.81960079],\n",
       "         [0.99579874],\n",
       "         [0.99579874],\n",
       "         [0.64832834],\n",
       "         [0.64832834],\n",
       "         [0.22639342],\n",
       "         [0.22639342],\n",
       "         [0.4233711 ],\n",
       "         [0.4233711 ],\n",
       "         [0.8791928 ],\n",
       "         [0.8791928 ],\n",
       "         [0.63285227],\n",
       "         [0.63285227],\n",
       "         [0.27809939],\n",
       "         [0.27809939],\n",
       "         [0.93630996],\n",
       "         [0.93630996],\n",
       "         [0.39515518],\n",
       "         [0.39515518],\n",
       "         [0.46000101],\n",
       "         [0.46000101],\n",
       "         [0.47857883],\n",
       "         [0.47857883],\n",
       "         [0.18696589],\n",
       "         [0.18696589],\n",
       "         [0.25837781],\n",
       "         [0.25837781],\n",
       "         [0.22401065],\n",
       "         [0.22401065],\n",
       "         [0.3494173 ],\n",
       "         [0.3494173 ],\n",
       "         [0.82705318],\n",
       "         [0.82705318],\n",
       "         [0.00945447],\n",
       "         [0.00945447],\n",
       "         [0.84648126],\n",
       "         [0.84648126],\n",
       "         [0.1559539 ],\n",
       "         [0.1559539 ],\n",
       "         [0.29024011],\n",
       "         [0.29024011],\n",
       "         [0.13397256],\n",
       "         [0.13397256],\n",
       "         [0.53062373],\n",
       "         [0.53062373],\n",
       "         [0.9858569 ],\n",
       "         [0.9858569 ],\n",
       "         [0.50168629],\n",
       "         [0.50168629],\n",
       "         [0.31921349],\n",
       "         [0.31921349],\n",
       "         [0.14729062],\n",
       "         [0.14729062],\n",
       "         [0.85895843],\n",
       "         [0.85895843],\n",
       "         [0.85485707],\n",
       "         [0.85485707],\n",
       "         [0.02349934],\n",
       "         [0.02349934],\n",
       "         [0.95347116],\n",
       "         [0.95347116],\n",
       "         [0.37005822],\n",
       "         [0.37005822],\n",
       "         [0.29402257],\n",
       "         [0.29402257],\n",
       "         [0.08105826],\n",
       "         [0.08105826],\n",
       "         [0.82474219],\n",
       "         [0.82474219],\n",
       "         [0.04291084],\n",
       "         [0.04291084],\n",
       "         [0.62311575],\n",
       "         [0.62311575],\n",
       "         [0.31793938],\n",
       "         [0.31793938],\n",
       "         [0.20515389],\n",
       "         [0.20515389],\n",
       "         [0.38072926],\n",
       "         [0.38072926],\n",
       "         [0.63073527],\n",
       "         [0.63073527],\n",
       "         [0.71008364],\n",
       "         [0.71008364],\n",
       "         [0.80039796],\n",
       "         [0.80039796],\n",
       "         [0.14824054],\n",
       "         [0.14824054],\n",
       "         [0.42984832],\n",
       "         [0.42984832],\n",
       "         [0.25028177],\n",
       "         [0.25028177],\n",
       "         [0.90778904],\n",
       "         [0.90778904],\n",
       "         [0.1377178 ],\n",
       "         [0.1377178 ],\n",
       "         [0.03322103],\n",
       "         [0.03322103],\n",
       "         [0.55214069],\n",
       "         [0.55214069],\n",
       "         [0.30727841],\n",
       "         [0.30727841],\n",
       "         [0.21994187],\n",
       "         [0.21994187],\n",
       "         [0.30296088],\n",
       "         [0.30296088],\n",
       "         [0.98047556],\n",
       "         [0.98047556]])}}"
      ]
     },
     "execution_count": 1,
     "metadata": {},
     "output_type": "execute_result"
    }
   ],
   "source": [
    "ds = load_by_id(run_id_a)\n",
    "ds.get_parameter_data('x1')"
   ]
  },
  {
   "cell_type": "code",
   "execution_count": null,
   "metadata": {},
   "outputs": [],
   "source": []
  }
 ],
 "metadata": {
  "kernelspec": {
   "display_name": "Python 3",
   "language": "python",
   "name": "python3"
  },
  "language_info": {
   "codemirror_mode": {
    "name": "ipython",
    "version": 3
   },
   "file_extension": ".py",
   "mimetype": "text/x-python",
   "name": "python",
   "nbconvert_exporter": "python",
   "pygments_lexer": "ipython3",
   "version": "3.7.10"
  },
  "nbsphinx": {
   "timeout": 600
  },
  "toc": {
   "base_numbering": 1,
   "nav_menu": {},
   "number_sections": true,
   "sideBar": true,
   "skip_h1_title": false,
   "title_cell": "Table of Contents",
   "title_sidebar": "Contents",
   "toc_cell": false,
   "toc_position": {},
   "toc_section_display": true,
   "toc_window_display": false
  },
  "varInspector": {
   "cols": {
    "lenName": 16,
    "lenType": 16,
    "lenVar": 40
   },
   "kernels_config": {
    "python": {
     "delete_cmd_postfix": "",
     "delete_cmd_prefix": "del ",
     "library": "var_list.py",
     "varRefreshCmd": "print(var_dic_list())"
    },
    "r": {
     "delete_cmd_postfix": ") ",
     "delete_cmd_prefix": "rm(",
     "library": "var_list.r",
     "varRefreshCmd": "cat(var_dic_list()) "
    }
   },
   "types_to_exclude": [
    "module",
    "function",
    "builtin_function_or_method",
    "instance",
    "_Feature"
   ],
   "window_display": false
  }
 },
 "nbformat": 4,
 "nbformat_minor": 2
}
