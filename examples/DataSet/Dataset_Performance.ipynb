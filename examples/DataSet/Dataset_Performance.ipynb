{
 "cells": [
  {
   "cell_type": "markdown",
   "metadata": {},
   "source": [
    "# DataSet Performance\n",
    "\n",
    "This notebook shows the trade-off between inserting data into a database row-by-row and as binary blobs. Inserting the data row-by-row means that we have direct access to all the data and may perform queries directly on the values of the data. On the other hand, as we shall see, this is much slower than inserting the data directly as binary blobs."
   ]
  },
  {
   "cell_type": "markdown",
   "metadata": {},
   "source": [
    "First, we choose a new location for the database to ensure that we don't add a bunch of benchmarking data to the default one."
   ]
  },
  {
   "cell_type": "code",
   "execution_count": 1,
   "metadata": {},
   "outputs": [
    {
     "name": "stdout",
     "output_type": "stream",
     "text": [
      "Logging hadn't been started.\n",
      "Activating auto-logging. Current session state plus future input saved.\n",
      "Filename       : /home/vsts/.qcodes/logs/command_history.log\n",
      "Mode           : append\n",
      "Output logging : True\n",
      "Raw input log  : False\n",
      "Timestamping   : True\n",
      "State          : active\n"
     ]
    },
    {
     "name": "stdout",
     "output_type": "stream",
     "text": [
      "Qcodes Logfile : /home/vsts/.qcodes/logs/200909-19706-qcodes.log\n"
     ]
    }
   ],
   "source": [
    "import os\n",
    "cwd = os.getcwd()\n",
    "import qcodes as qc\n",
    "qc.config[\"core\"][\"db_location\"] = os.path.join(cwd, 'testing.db')\n"
   ]
  },
  {
   "cell_type": "code",
   "execution_count": 2,
   "metadata": {},
   "outputs": [],
   "source": [
    "%matplotlib inline\n",
    "import time\n",
    "import matplotlib.pyplot as plt\n",
    "import numpy as np\n",
    "\n",
    "import qcodes as qc\n",
    "from qcodes.instrument.parameter import ManualParameter\n",
    "from qcodes.dataset.experiment_container import (Experiment,\n",
    "                                                 load_last_experiment,\n",
    "                                                 new_experiment)\n",
    "from qcodes.dataset.sqlite.database import initialise_database\n",
    "from qcodes import load_or_create_experiment\n",
    "from qcodes.dataset.measurements import Measurement"
   ]
  },
  {
   "cell_type": "code",
   "execution_count": 3,
   "metadata": {},
   "outputs": [
    {
     "name": "stdout",
     "output_type": "stream",
     "text": [
      "\r",
      "0it [00:00, ?it/s]"
     ]
    },
    {
     "name": "stdout",
     "output_type": "stream",
     "text": [
      "\r",
      "Upgrading database; v0 -> v1: : 0it [00:00, ?it/s]"
     ]
    },
    {
     "name": "stdout",
     "output_type": "stream",
     "text": [
      "\r",
      "Upgrading database; v0 -> v1: : 0it [00:00, ?it/s]"
     ]
    },
    {
     "name": "stdout",
     "output_type": "stream",
     "text": [
      "\n",
      "\r",
      "  0%|          | 0/1 [00:00<?, ?it/s]"
     ]
    },
    {
     "name": "stdout",
     "output_type": "stream",
     "text": [
      "\r",
      "Upgrading database; v1 -> v2:   0%|          | 0/1 [00:00<?, ?it/s]"
     ]
    },
    {
     "name": "stdout",
     "output_type": "stream",
     "text": [
      "\r",
      "Upgrading database; v1 -> v2: 100%|██████████| 1/1 [00:00<00:00, 634.16it/s]"
     ]
    },
    {
     "name": "stdout",
     "output_type": "stream",
     "text": [
      "\n",
      "\r",
      "0it [00:00, ?it/s]"
     ]
    },
    {
     "name": "stdout",
     "output_type": "stream",
     "text": [
      "\r",
      "Upgrading database; v2 -> v3: : 0it [00:00, ?it/s]"
     ]
    },
    {
     "name": "stdout",
     "output_type": "stream",
     "text": [
      "\r",
      "Upgrading database; v2 -> v3: : 0it [00:00, ?it/s]"
     ]
    },
    {
     "name": "stdout",
     "output_type": "stream",
     "text": [
      "\n",
      "\r",
      "0it [00:00, ?it/s]"
     ]
    },
    {
     "name": "stdout",
     "output_type": "stream",
     "text": [
      "\r",
      "Upgrading database; v3 -> v4: : 0it [00:00, ?it/s]"
     ]
    },
    {
     "name": "stdout",
     "output_type": "stream",
     "text": [
      "\r",
      "Upgrading database; v3 -> v4: : 0it [00:00, ?it/s]"
     ]
    },
    {
     "name": "stdout",
     "output_type": "stream",
     "text": [
      "\n",
      "\r",
      "  0%|          | 0/1 [00:00<?, ?it/s]"
     ]
    },
    {
     "name": "stdout",
     "output_type": "stream",
     "text": [
      "\r",
      "Upgrading database; v4 -> v5:   0%|          | 0/1 [00:00<?, ?it/s]"
     ]
    },
    {
     "name": "stdout",
     "output_type": "stream",
     "text": [
      "\r",
      "Upgrading database; v4 -> v5: 100%|██████████| 1/1 [00:00<00:00, 626.20it/s]"
     ]
    },
    {
     "name": "stdout",
     "output_type": "stream",
     "text": [
      "\n",
      "\r",
      "0it [00:00, ?it/s]"
     ]
    },
    {
     "name": "stdout",
     "output_type": "stream",
     "text": [
      "\r",
      "Upgrading database; v5 -> v6: : 0it [00:00, ?it/s]"
     ]
    },
    {
     "name": "stdout",
     "output_type": "stream",
     "text": [
      "\r",
      "Upgrading database; v5 -> v6: : 0it [00:00, ?it/s]"
     ]
    },
    {
     "name": "stdout",
     "output_type": "stream",
     "text": [
      "\n",
      "\r",
      "  0%|          | 0/1 [00:00<?, ?it/s]"
     ]
    },
    {
     "name": "stdout",
     "output_type": "stream",
     "text": [
      "\r",
      "Upgrading database; v6 -> v7:   0%|          | 0/1 [00:00<?, ?it/s]"
     ]
    },
    {
     "name": "stdout",
     "output_type": "stream",
     "text": [
      "\r",
      "Upgrading database; v6 -> v7: 100%|██████████| 1/1 [00:00<00:00, 394.68it/s]"
     ]
    },
    {
     "name": "stdout",
     "output_type": "stream",
     "text": [
      "\n",
      "\r",
      "  0%|          | 0/1 [00:00<?, ?it/s]"
     ]
    },
    {
     "name": "stdout",
     "output_type": "stream",
     "text": [
      "\r",
      "Upgrading database; v7 -> v8:   0%|          | 0/1 [00:00<?, ?it/s]"
     ]
    },
    {
     "name": "stdout",
     "output_type": "stream",
     "text": [
      "\r",
      "Upgrading database; v7 -> v8: 100%|██████████| 1/1 [00:00<00:00, 668.41it/s]"
     ]
    },
    {
     "name": "stdout",
     "output_type": "stream",
     "text": [
      "\n",
      "\r",
      "  0%|          | 0/1 [00:00<?, ?it/s]"
     ]
    },
    {
     "name": "stdout",
     "output_type": "stream",
     "text": [
      "\r",
      "Upgrading database; v8 -> v9:   0%|          | 0/1 [00:00<?, ?it/s]"
     ]
    },
    {
     "name": "stdout",
     "output_type": "stream",
     "text": [
      "\r",
      "Upgrading database; v8 -> v9: 100%|██████████| 1/1 [00:00<00:00, 737.01it/s]"
     ]
    },
    {
     "name": "stdout",
     "output_type": "stream",
     "text": [
      "\n"
     ]
    }
   ],
   "source": [
    "initialise_database()\n",
    "exp = load_or_create_experiment(experiment_name='tutorial_exp', sample_name=\"no sample\")"
   ]
  },
  {
   "cell_type": "markdown",
   "metadata": {},
   "source": [
    "Here, we define a simple function to benchmark the time it takes to insert n points with either numeric or array data type.\n",
    "We will compare both the time used to call ``add_result`` and the time used for the full measurement."
   ]
  },
  {
   "cell_type": "code",
   "execution_count": 4,
   "metadata": {},
   "outputs": [],
   "source": [
    "def insert_data(paramtype, npoints, nreps=1):\n",
    "\n",
    "    meas = Measurement(exp=exp)\n",
    "\n",
    "    x1 = ManualParameter('x1')\n",
    "    x2 = ManualParameter('x2')\n",
    "    x3 = ManualParameter('x3')\n",
    "    y1 = ManualParameter('y1')\n",
    "    y2 = ManualParameter('y2')\n",
    "\n",
    "    meas.register_parameter(x1, paramtype=paramtype)\n",
    "    meas.register_parameter(x2, paramtype=paramtype)\n",
    "    meas.register_parameter(x3, paramtype=paramtype)\n",
    "    meas.register_parameter(y1, setpoints=[x1, x2, x3],\n",
    "                            paramtype=paramtype)\n",
    "    meas.register_parameter(y2, setpoints=[x1, x2, x3],\n",
    "                            paramtype=paramtype)\n",
    "    start = time.perf_counter()\n",
    "    with meas.run() as datasaver:\n",
    "        start_adding = time.perf_counter()\n",
    "        for i in range(nreps):\n",
    "            datasaver.add_result((x1, np.random.rand(npoints)),\n",
    "                                 (x2, np.random.rand(npoints)),\n",
    "                                 (x3, np.random.rand(npoints)),\n",
    "                                 (y1, np.random.rand(npoints)),\n",
    "                                 (y2, np.random.rand(npoints)))\n",
    "        stop_adding = time.perf_counter()\n",
    "        run_id = datasaver.run_id\n",
    "    stop = time.perf_counter()\n",
    "    tot_time = stop - start\n",
    "    add_time = stop_adding - start_adding\n",
    "    return tot_time, add_time, run_id"
   ]
  },
  {
   "cell_type": "markdown",
   "metadata": {},
   "source": [
    "## Comparison between numeric/array data and binary blob"
   ]
  },
  {
   "cell_type": "markdown",
   "metadata": {},
   "source": [
    "### Case1: Short experiment time"
   ]
  },
  {
   "cell_type": "code",
   "execution_count": 5,
   "metadata": {},
   "outputs": [
    {
     "name": "stdout",
     "output_type": "stream",
     "text": [
      "Starting experimental run with id: 1. \n",
      "Starting experimental run with id: 2. \n",
      "Starting experimental run with id: 3. \n"
     ]
    },
    {
     "name": "stdout",
     "output_type": "stream",
     "text": [
      "Starting experimental run with id: 4. \n"
     ]
    },
    {
     "name": "stdout",
     "output_type": "stream",
     "text": [
      "Starting experimental run with id: 5. \n"
     ]
    },
    {
     "name": "stdout",
     "output_type": "stream",
     "text": [
      "Starting experimental run with id: 6. \n"
     ]
    },
    {
     "name": "stdout",
     "output_type": "stream",
     "text": [
      "Starting experimental run with id: 7. \n",
      "Starting experimental run with id: 8. \n"
     ]
    },
    {
     "name": "stdout",
     "output_type": "stream",
     "text": [
      "Starting experimental run with id: 9. \n"
     ]
    },
    {
     "name": "stdout",
     "output_type": "stream",
     "text": [
      "Starting experimental run with id: 10. \n",
      "Starting experimental run with id: 11. \n"
     ]
    },
    {
     "name": "stdout",
     "output_type": "stream",
     "text": [
      "Starting experimental run with id: 12. \n"
     ]
    },
    {
     "name": "stdout",
     "output_type": "stream",
     "text": [
      "Starting experimental run with id: 13. \n"
     ]
    },
    {
     "name": "stdout",
     "output_type": "stream",
     "text": [
      "Starting experimental run with id: 14. \n"
     ]
    }
   ],
   "source": [
    "sizes = [1,500,1000,2000,3000,4000,5000]\n",
    "t_numeric = []\n",
    "t_numeric_add = []\n",
    "t_array = []\n",
    "t_array_add = []\n",
    "for size in sizes:\n",
    "    tn, tna, run_id_n =  insert_data('numeric', size)\n",
    "    t_numeric.append(tn)\n",
    "    t_numeric_add.append(tna)\n",
    "\n",
    "    ta, taa, run_id_a =  insert_data('array', size)\n",
    "    t_array.append(ta)\n",
    "    t_array_add.append(taa)"
   ]
  },
  {
   "cell_type": "code",
   "execution_count": 6,
   "metadata": {},
   "outputs": [
    {
     "data": {
      "image/png": "[encoded data removed]",
      "text/plain": [
       "<Figure size 432x288 with 1 Axes>"
      ]
     },
     "metadata": {
      "needs_background": "light"
     },
     "output_type": "display_data"
    }
   ],
   "source": [
    "fig, ax = plt.subplots(1,1)\n",
    "ax.plot(sizes, t_numeric, 'o-', label='Inserting row-by-row')\n",
    "ax.plot(sizes, t_numeric_add, 'o-', label='Inserting row-by-row: add_result only')\n",
    "ax.plot(sizes, t_array, 'd-', label='Inserting as binary blob')\n",
    "ax.plot(sizes, t_array_add, 'd-', label='Inserting as binary blob: add_result only')\n",
    "ax.legend()\n",
    "ax.set_xlabel('Array length')\n",
    "ax.set_ylabel('Time (s)')\n",
    "fig.tight_layout()"
   ]
  },
  {
   "cell_type": "markdown",
   "metadata": {},
   "source": [
    "As shown in the latter figure, the time to setup and and close the experiment is approximately 0.4 sec. In case of small array sizes, the difference between inserting values of data as arrays and inserting them row-by-row is relatively unimportant. At larger array sizes, i.e. above 10000 points, the cost of writing data as individual datapoints starts to become important.\n"
   ]
  },
  {
   "cell_type": "markdown",
   "metadata": {},
   "source": [
    "### Case2: Long experiment time "
   ]
  },
  {
   "cell_type": "code",
   "execution_count": 7,
   "metadata": {},
   "outputs": [
    {
     "name": "stdout",
     "output_type": "stream",
     "text": [
      "Starting experimental run with id: 15. \n",
      "Starting experimental run with id: 16. \n",
      "Starting experimental run with id: 17. \n"
     ]
    },
    {
     "name": "stdout",
     "output_type": "stream",
     "text": [
      "Starting experimental run with id: 18. \n",
      "Starting experimental run with id: 19. \n"
     ]
    },
    {
     "name": "stdout",
     "output_type": "stream",
     "text": [
      "Starting experimental run with id: 20. \n"
     ]
    },
    {
     "name": "stdout",
     "output_type": "stream",
     "text": [
      "Starting experimental run with id: 21. \n"
     ]
    },
    {
     "name": "stdout",
     "output_type": "stream",
     "text": [
      "Starting experimental run with id: 22. \n"
     ]
    },
    {
     "name": "stdout",
     "output_type": "stream",
     "text": [
      "Starting experimental run with id: 23. \n"
     ]
    },
    {
     "name": "stdout",
     "output_type": "stream",
     "text": [
      "Starting experimental run with id: 24. \n"
     ]
    },
    {
     "name": "stdout",
     "output_type": "stream",
     "text": [
      "Starting experimental run with id: 25. \n"
     ]
    },
    {
     "name": "stdout",
     "output_type": "stream",
     "text": [
      "Starting experimental run with id: 26. \n"
     ]
    },
    {
     "name": "stdout",
     "output_type": "stream",
     "text": [
      "Starting experimental run with id: 27. \n"
     ]
    },
    {
     "name": "stdout",
     "output_type": "stream",
     "text": [
      "Starting experimental run with id: 28. \n"
     ]
    }
   ],
   "source": [
    "sizes = [1,500,1000,2000,3000,4000,5000]\n",
    "nreps = 100\n",
    "t_numeric = []\n",
    "t_numeric_add = []\n",
    "t_numeric_run_ids = []\n",
    "t_array = []\n",
    "t_array_add = []\n",
    "t_array_run_ids = []\n",
    "for size in sizes:\n",
    "    tn, tna, run_id_n =  insert_data('numeric', size, nreps=nreps)\n",
    "    t_numeric.append(tn)\n",
    "    t_numeric_add.append(tna)\n",
    "    t_numeric_run_ids.append(run_id_n)\n",
    "\n",
    "    ta, taa, run_id_a =  insert_data('array', size, nreps=nreps)\n",
    "    t_array.append(ta)\n",
    "    t_array_add.append(taa)\n",
    "    t_array_run_ids.append(run_id_a)"
   ]
  },
  {
   "cell_type": "code",
   "execution_count": 8,
   "metadata": {
    "scrolled": true
   },
   "outputs": [
    {
     "data": {
      "image/png": "[encoded data removed]",
      "text/plain": [
       "<Figure size 432x288 with 1 Axes>"
      ]
     },
     "metadata": {
      "needs_background": "light"
     },
     "output_type": "display_data"
    }
   ],
   "source": [
    "fig, ax = plt.subplots(1,1)\n",
    "ax.plot(sizes, t_numeric, 'o-', label='Inserting row-by-row')\n",
    "ax.plot(sizes, t_numeric_add, 'o-', label='Inserting row-by-row: add_result only')\n",
    "ax.plot(sizes, t_array, 'd-', label='Inserting as binary blob')\n",
    "ax.plot(sizes, t_array_add, 'd-', label='Inserting as binary blob: add_result only')\n",
    "ax.legend()\n",
    "ax.set_xlabel('Array length')\n",
    "ax.set_ylabel('Time (s)')\n",
    "fig.tight_layout()"
   ]
  },
  {
   "cell_type": "markdown",
   "metadata": {},
   "source": [
    "However, as we increase the length of the experiment, as seen here by repeating the insertion 100 times, we see a big difference between inserting values of the data row-by-row and inserting it as a binary blob."
   ]
  },
  {
   "cell_type": "markdown",
   "metadata": {},
   "source": [
    "## Loading the data "
   ]
  },
  {
   "cell_type": "code",
   "execution_count": 9,
   "metadata": {},
   "outputs": [],
   "source": [
    "from qcodes.dataset.data_set import load_by_id\n",
    "from qcodes.dataset.data_export import get_data_by_id"
   ]
  },
  {
   "cell_type": "markdown",
   "metadata": {},
   "source": [
    "As usual you can load the data by using the ``load_by_id`` function but you will notice that the different storage methods\n",
    "are reflected in shape of the data as it is retrieved. "
   ]
  },
  {
   "cell_type": "code",
   "execution_count": 10,
   "metadata": {},
   "outputs": [],
   "source": [
    "run_id_n = t_numeric_run_ids[0]\n",
    "run_id_a = t_array_run_ids[0]"
   ]
  },
  {
   "cell_type": "code",
   "execution_count": 11,
   "metadata": {
    "scrolled": true
   },
   "outputs": [
    {
     "data": {
      "text/plain": [
       "{'x1': {'x1': array([0.80709703, 0.80709703, 0.96089231, 0.96089231, 0.27179154,\n",
       "         0.27179154, 0.85854373, 0.85854373, 0.50737973, 0.50737973,\n",
       "         0.58000457, 0.58000457, 0.64450537, 0.64450537, 0.3587199 ,\n",
       "         0.3587199 , 0.40159092, 0.40159092, 0.86337928, 0.86337928,\n",
       "         0.06420303, 0.06420303, 0.71204967, 0.71204967, 0.58329881,\n",
       "         0.58329881, 0.1635878 , 0.1635878 , 0.56783907, 0.56783907,\n",
       "         0.73387315, 0.73387315, 0.80435019, 0.80435019, 0.74731737,\n",
       "         0.74731737, 0.88944647, 0.88944647, 0.08524491, 0.08524491,\n",
       "         0.67238964, 0.67238964, 0.77374505, 0.77374505, 0.939437  ,\n",
       "         0.939437  , 0.05165647, 0.05165647, 0.43925978, 0.43925978,\n",
       "         0.34678748, 0.34678748, 0.17385581, 0.17385581, 0.26821749,\n",
       "         0.26821749, 0.49670502, 0.49670502, 0.42852916, 0.42852916,\n",
       "         0.78144131, 0.78144131, 0.15334246, 0.15334246, 0.06411986,\n",
       "         0.06411986, 0.56646802, 0.56646802, 0.05155744, 0.05155744,\n",
       "         0.19996629, 0.19996629, 0.17432383, 0.17432383, 0.18805089,\n",
       "         0.18805089, 0.73343776, 0.73343776, 0.23392992, 0.23392992,\n",
       "         0.78574112, 0.78574112, 0.83274453, 0.83274453, 0.35150696,\n",
       "         0.35150696, 0.77022452, 0.77022452, 0.08307448, 0.08307448,\n",
       "         0.50755495, 0.50755495, 0.144747  , 0.144747  , 0.29569665,\n",
       "         0.29569665, 0.78415742, 0.78415742, 0.17346489, 0.17346489,\n",
       "         0.66280947, 0.66280947, 0.2676823 , 0.2676823 , 0.19725927,\n",
       "         0.19725927, 0.82682123, 0.82682123, 0.79238617, 0.79238617,\n",
       "         0.06136158, 0.06136158, 0.95267406, 0.95267406, 0.61556428,\n",
       "         0.61556428, 0.2729141 , 0.2729141 , 0.42099076, 0.42099076,\n",
       "         0.63377615, 0.63377615, 0.19075529, 0.19075529, 0.17545122,\n",
       "         0.17545122, 0.67848118, 0.67848118, 0.77359059, 0.77359059,\n",
       "         0.40366034, 0.40366034, 0.49081648, 0.49081648, 0.93769632,\n",
       "         0.93769632, 0.9355854 , 0.9355854 , 0.28434466, 0.28434466,\n",
       "         0.25039598, 0.25039598, 0.53233258, 0.53233258, 0.35679464,\n",
       "         0.35679464, 0.54167848, 0.54167848, 0.97082661, 0.97082661,\n",
       "         0.48154493, 0.48154493, 0.09172021, 0.09172021, 0.8914824 ,\n",
       "         0.8914824 , 0.63615934, 0.63615934, 0.99594302, 0.99594302,\n",
       "         0.5411543 , 0.5411543 , 0.08815876, 0.08815876, 0.56161873,\n",
       "         0.56161873, 0.76340633, 0.76340633, 0.73084991, 0.73084991,\n",
       "         0.24792607, 0.24792607, 0.05506841, 0.05506841, 0.74682054,\n",
       "         0.74682054, 0.60196637, 0.60196637, 0.16253205, 0.16253205,\n",
       "         0.69484765, 0.69484765, 0.88586653, 0.88586653, 0.74650946,\n",
       "         0.74650946, 0.49263448, 0.49263448, 0.40087006, 0.40087006,\n",
       "         0.06208734, 0.06208734, 0.85019357, 0.85019357, 0.06682094,\n",
       "         0.06682094, 0.71956033, 0.71956033, 0.80214038, 0.80214038])}}"
      ]
     },
     "execution_count": 11,
     "metadata": {},
     "output_type": "execute_result"
    }
   ],
   "source": [
    "ds = load_by_id(run_id_n)\n",
    "ds.get_parameter_data('x1')"
   ]
  },
  {
   "cell_type": "markdown",
   "metadata": {},
   "source": [
    "And a dataset stored as binary arrays"
   ]
  },
  {
   "cell_type": "code",
   "execution_count": 12,
   "metadata": {
    "scrolled": true
   },
   "outputs": [
    {
     "data": {
      "text/plain": [
       "{'x1': {'x1': array([[0.66042332],\n",
       "         [0.66042332],\n",
       "         [0.71417475],\n",
       "         [0.71417475],\n",
       "         [0.14758551],\n",
       "         [0.14758551],\n",
       "         [0.20133948],\n",
       "         [0.20133948],\n",
       "         [0.36127578],\n",
       "         [0.36127578],\n",
       "         [0.04044508],\n",
       "         [0.04044508],\n",
       "         [0.4614582 ],\n",
       "         [0.4614582 ],\n",
       "         [0.97607291],\n",
       "         [0.97607291],\n",
       "         [0.27889248],\n",
       "         [0.27889248],\n",
       "         [0.15093827],\n",
       "         [0.15093827],\n",
       "         [0.92719799],\n",
       "         [0.92719799],\n",
       "         [0.25552469],\n",
       "         [0.25552469],\n",
       "         [0.41340103],\n",
       "         [0.41340103],\n",
       "         [0.74139301],\n",
       "         [0.74139301],\n",
       "         [0.44286769],\n",
       "         [0.44286769],\n",
       "         [0.57822341],\n",
       "         [0.57822341],\n",
       "         [0.91654866],\n",
       "         [0.91654866],\n",
       "         [0.08237362],\n",
       "         [0.08237362],\n",
       "         [0.5336325 ],\n",
       "         [0.5336325 ],\n",
       "         [0.92193061],\n",
       "         [0.92193061],\n",
       "         [0.41538267],\n",
       "         [0.41538267],\n",
       "         [0.30107964],\n",
       "         [0.30107964],\n",
       "         [0.53525666],\n",
       "         [0.53525666],\n",
       "         [0.64458335],\n",
       "         [0.64458335],\n",
       "         [0.90755215],\n",
       "         [0.90755215],\n",
       "         [0.71852129],\n",
       "         [0.71852129],\n",
       "         [0.10745505],\n",
       "         [0.10745505],\n",
       "         [0.70730983],\n",
       "         [0.70730983],\n",
       "         [0.7766377 ],\n",
       "         [0.7766377 ],\n",
       "         [0.85746589],\n",
       "         [0.85746589],\n",
       "         [0.56434607],\n",
       "         [0.56434607],\n",
       "         [0.49314876],\n",
       "         [0.49314876],\n",
       "         [0.72837069],\n",
       "         [0.72837069],\n",
       "         [0.4224256 ],\n",
       "         [0.4224256 ],\n",
       "         [0.79775735],\n",
       "         [0.79775735],\n",
       "         [0.49670862],\n",
       "         [0.49670862],\n",
       "         [0.4479052 ],\n",
       "         [0.4479052 ],\n",
       "         [0.12270155],\n",
       "         [0.12270155],\n",
       "         [0.9671169 ],\n",
       "         [0.9671169 ],\n",
       "         [0.79556544],\n",
       "         [0.79556544],\n",
       "         [0.807795  ],\n",
       "         [0.807795  ],\n",
       "         [0.54226715],\n",
       "         [0.54226715],\n",
       "         [0.86291222],\n",
       "         [0.86291222],\n",
       "         [0.6221576 ],\n",
       "         [0.6221576 ],\n",
       "         [0.48491298],\n",
       "         [0.48491298],\n",
       "         [0.8694563 ],\n",
       "         [0.8694563 ],\n",
       "         [0.51037529],\n",
       "         [0.51037529],\n",
       "         [0.98548459],\n",
       "         [0.98548459],\n",
       "         [0.2700572 ],\n",
       "         [0.2700572 ],\n",
       "         [0.88737657],\n",
       "         [0.88737657],\n",
       "         [0.4553721 ],\n",
       "         [0.4553721 ],\n",
       "         [0.3241    ],\n",
       "         [0.3241    ],\n",
       "         [0.623135  ],\n",
       "         [0.623135  ],\n",
       "         [0.53487351],\n",
       "         [0.53487351],\n",
       "         [0.08989827],\n",
       "         [0.08989827],\n",
       "         [0.8419141 ],\n",
       "         [0.8419141 ],\n",
       "         [0.56439144],\n",
       "         [0.56439144],\n",
       "         [0.39365948],\n",
       "         [0.39365948],\n",
       "         [0.92411104],\n",
       "         [0.92411104],\n",
       "         [0.95087767],\n",
       "         [0.95087767],\n",
       "         [0.10394634],\n",
       "         [0.10394634],\n",
       "         [0.42277422],\n",
       "         [0.42277422],\n",
       "         [0.45281339],\n",
       "         [0.45281339],\n",
       "         [0.65556869],\n",
       "         [0.65556869],\n",
       "         [0.27299932],\n",
       "         [0.27299932],\n",
       "         [0.96432582],\n",
       "         [0.96432582],\n",
       "         [0.16195963],\n",
       "         [0.16195963],\n",
       "         [0.04851077],\n",
       "         [0.04851077],\n",
       "         [0.38934492],\n",
       "         [0.38934492],\n",
       "         [0.71625581],\n",
       "         [0.71625581],\n",
       "         [0.19866871],\n",
       "         [0.19866871],\n",
       "         [0.03795247],\n",
       "         [0.03795247],\n",
       "         [0.64991187],\n",
       "         [0.64991187],\n",
       "         [0.59469306],\n",
       "         [0.59469306],\n",
       "         [0.81584481],\n",
       "         [0.81584481],\n",
       "         [0.89067262],\n",
       "         [0.89067262],\n",
       "         [0.7532888 ],\n",
       "         [0.7532888 ],\n",
       "         [0.21097068],\n",
       "         [0.21097068],\n",
       "         [0.58254243],\n",
       "         [0.58254243],\n",
       "         [0.6937509 ],\n",
       "         [0.6937509 ],\n",
       "         [0.22613703],\n",
       "         [0.22613703],\n",
       "         [0.17638701],\n",
       "         [0.17638701],\n",
       "         [0.3250164 ],\n",
       "         [0.3250164 ],\n",
       "         [0.75233575],\n",
       "         [0.75233575],\n",
       "         [0.86050401],\n",
       "         [0.86050401],\n",
       "         [0.1774395 ],\n",
       "         [0.1774395 ],\n",
       "         [0.25699108],\n",
       "         [0.25699108],\n",
       "         [0.33541166],\n",
       "         [0.33541166],\n",
       "         [0.99274598],\n",
       "         [0.99274598],\n",
       "         [0.38461061],\n",
       "         [0.38461061],\n",
       "         [0.40658853],\n",
       "         [0.40658853],\n",
       "         [0.90203662],\n",
       "         [0.90203662],\n",
       "         [0.02776704],\n",
       "         [0.02776704],\n",
       "         [0.43400746],\n",
       "         [0.43400746],\n",
       "         [0.23513888],\n",
       "         [0.23513888],\n",
       "         [0.33122908],\n",
       "         [0.33122908],\n",
       "         [0.267084  ],\n",
       "         [0.267084  ],\n",
       "         [0.88977572],\n",
       "         [0.88977572],\n",
       "         [0.55734351],\n",
       "         [0.55734351],\n",
       "         [0.3218468 ],\n",
       "         [0.3218468 ]])}}"
      ]
     },
     "execution_count": 12,
     "metadata": {},
     "output_type": "execute_result"
    }
   ],
   "source": [
    "ds = load_by_id(run_id_a)\n",
    "ds.get_parameter_data('x1')"
   ]
  },
  {
   "cell_type": "code",
   "execution_count": null,
   "metadata": {},
   "outputs": [],
   "source": []
  }
 ],
 "metadata": {
  "kernelspec": {
   "display_name": "Python 3",
   "language": "python",
   "name": "python3"
  },
  "language_info": {
   "codemirror_mode": {
    "name": "ipython",
    "version": 3
   },
   "file_extension": ".py",
   "mimetype": "text/x-python",
   "name": "python",
   "nbconvert_exporter": "python",
   "pygments_lexer": "ipython3",
   "version": "3.7.7"
  },
  "nbsphinx": {
   "timeout": 600
  },
  "toc": {
   "base_numbering": 1,
   "nav_menu": {},
   "number_sections": true,
   "sideBar": true,
   "skip_h1_title": false,
   "title_cell": "Table of Contents",
   "title_sidebar": "Contents",
   "toc_cell": false,
   "toc_position": {},
   "toc_section_display": true,
   "toc_window_display": false
  },
  "varInspector": {
   "cols": {
    "lenName": 16,
    "lenType": 16,
    "lenVar": 40
   },
   "kernels_config": {
    "python": {
     "delete_cmd_postfix": "",
     "delete_cmd_prefix": "del ",
     "library": "var_list.py",
     "varRefreshCmd": "print(var_dic_list())"
    },
    "r": {
     "delete_cmd_postfix": ") ",
     "delete_cmd_prefix": "rm(",
     "library": "var_list.r",
     "varRefreshCmd": "cat(var_dic_list()) "
    }
   },
   "types_to_exclude": [
    "module",
    "function",
    "builtin_function_or_method",
    "instance",
    "_Feature"
   ],
   "window_display": false
  }
 },
 "nbformat": 4,
 "nbformat_minor": 2
}
