{
 "cells": [
  {
   "cell_type": "markdown",
   "metadata": {},
   "source": [
    "# DataSet Performance\n",
    "\n",
    "This notebook shows the trade-off between inserting data into a database row-by-row and as binary blobs. Inserting the data row-by-row means that we have direct access to all the data and may perform queries directly on the values of the data. On the other hand, as we shall see, this is much slower than inserting the data directly as binary blobs."
   ]
  },
  {
   "cell_type": "markdown",
   "metadata": {},
   "source": [
    "First, we choose a new location for the database to ensure that we don't add a bunch of benchmarking data to the default one."
   ]
  },
  {
   "cell_type": "code",
   "execution_count": 1,
   "metadata": {
    "execution": {
     "iopub.execute_input": "2021-01-07T10:43:58.200388Z",
     "iopub.status.busy": "2021-01-07T10:43:58.199440Z",
     "iopub.status.idle": "2021-01-07T10:43:59.188743Z",
     "shell.execute_reply": "2021-01-07T10:43:59.188046Z"
    }
   },
   "outputs": [
    {
     "name": "stdout",
     "output_type": "stream",
     "text": [
      "Logging hadn't been started.\n",
      "Activating auto-logging. Current session state plus future input saved.\n",
      "Filename       : /home/vsts/.qcodes/logs/command_history.log\n",
      "Mode           : append\n",
      "Output logging : True\n",
      "Raw input log  : False\n",
      "Timestamping   : True\n",
      "State          : active\n"
     ]
    },
    {
     "name": "stdout",
     "output_type": "stream",
     "text": [
      "Qcodes Logfile : /home/vsts/.qcodes/logs/210107-14248-qcodes.log\n"
     ]
    }
   ],
   "source": [
    "import os\n",
    "cwd = os.getcwd()\n",
    "import qcodes as qc\n",
    "qc.config[\"core\"][\"db_location\"] = os.path.join(cwd, 'testing.db')\n"
   ]
  },
  {
   "cell_type": "code",
   "execution_count": 2,
   "metadata": {
    "execution": {
     "iopub.execute_input": "2021-01-07T10:43:59.196962Z",
     "iopub.status.busy": "2021-01-07T10:43:59.196047Z",
     "iopub.status.idle": "2021-01-07T10:43:59.366997Z",
     "shell.execute_reply": "2021-01-07T10:43:59.366559Z"
    }
   },
   "outputs": [],
   "source": [
    "%matplotlib inline\n",
    "import time\n",
    "import matplotlib.pyplot as plt\n",
    "import numpy as np\n",
    "\n",
    "import qcodes as qc\n",
    "from qcodes.instrument.parameter import ManualParameter\n",
    "from qcodes.dataset.experiment_container import (Experiment,\n",
    "                                                 load_last_experiment,\n",
    "                                                 new_experiment)\n",
    "from qcodes.dataset.sqlite.database import initialise_database\n",
    "from qcodes import load_or_create_experiment\n",
    "from qcodes.dataset.measurements import Measurement"
   ]
  },
  {
   "cell_type": "code",
   "execution_count": 3,
   "metadata": {
    "execution": {
     "iopub.execute_input": "2021-01-07T10:43:59.369956Z",
     "iopub.status.busy": "2021-01-07T10:43:59.369505Z",
     "iopub.status.idle": "2021-01-07T10:43:59.489102Z",
     "shell.execute_reply": "2021-01-07T10:43:59.489500Z"
    }
   },
   "outputs": [
    {
     "name": "stdout",
     "output_type": "stream",
     "text": [
      "\r",
      "0it [00:00, ?it/s]"
     ]
    },
    {
     "name": "stdout",
     "output_type": "stream",
     "text": [
      "\r",
      "Upgrading database; v0 -> v1: : 0it [00:00, ?it/s]"
     ]
    },
    {
     "name": "stdout",
     "output_type": "stream",
     "text": [
      "\r",
      "Upgrading database; v0 -> v1: : 0it [00:00, ?it/s]"
     ]
    },
    {
     "name": "stdout",
     "output_type": "stream",
     "text": [
      "\n",
      "\r",
      "  0%|          | 0/1 [00:00<?, ?it/s]"
     ]
    },
    {
     "name": "stdout",
     "output_type": "stream",
     "text": [
      "\r",
      "Upgrading database; v1 -> v2:   0%|          | 0/1 [00:00<?, ?it/s]"
     ]
    },
    {
     "name": "stdout",
     "output_type": "stream",
     "text": [
      "\r",
      "Upgrading database; v1 -> v2: 100%|██████████| 1/1 [00:00<00:00, 714.05it/s]"
     ]
    },
    {
     "name": "stdout",
     "output_type": "stream",
     "text": [
      "\n",
      "\r",
      "0it [00:00, ?it/s]"
     ]
    },
    {
     "name": "stdout",
     "output_type": "stream",
     "text": [
      "\r",
      "Upgrading database; v2 -> v3: : 0it [00:00, ?it/s]"
     ]
    },
    {
     "name": "stdout",
     "output_type": "stream",
     "text": [
      "\r",
      "Upgrading database; v2 -> v3: : 0it [00:00, ?it/s]"
     ]
    },
    {
     "name": "stdout",
     "output_type": "stream",
     "text": [
      "\n",
      "\r",
      "0it [00:00, ?it/s]"
     ]
    },
    {
     "name": "stdout",
     "output_type": "stream",
     "text": [
      "\r",
      "Upgrading database; v3 -> v4: : 0it [00:00, ?it/s]"
     ]
    },
    {
     "name": "stdout",
     "output_type": "stream",
     "text": [
      "\r",
      "Upgrading database; v3 -> v4: : 0it [00:00, ?it/s]"
     ]
    },
    {
     "name": "stdout",
     "output_type": "stream",
     "text": [
      "\n",
      "\r",
      "  0%|          | 0/1 [00:00<?, ?it/s]"
     ]
    },
    {
     "name": "stdout",
     "output_type": "stream",
     "text": [
      "\r",
      "Upgrading database; v4 -> v5:   0%|          | 0/1 [00:00<?, ?it/s]"
     ]
    },
    {
     "name": "stdout",
     "output_type": "stream",
     "text": [
      "\r",
      "Upgrading database; v4 -> v5: 100%|██████████| 1/1 [00:00<00:00, 558.94it/s]"
     ]
    },
    {
     "name": "stdout",
     "output_type": "stream",
     "text": [
      "\n",
      "\r",
      "0it [00:00, ?it/s]"
     ]
    },
    {
     "name": "stdout",
     "output_type": "stream",
     "text": [
      "\r",
      "Upgrading database; v5 -> v6: : 0it [00:00, ?it/s]"
     ]
    },
    {
     "name": "stdout",
     "output_type": "stream",
     "text": [
      "\r",
      "Upgrading database; v5 -> v6: : 0it [00:00, ?it/s]"
     ]
    },
    {
     "name": "stdout",
     "output_type": "stream",
     "text": [
      "\n",
      "\r",
      "  0%|          | 0/1 [00:00<?, ?it/s]"
     ]
    },
    {
     "name": "stdout",
     "output_type": "stream",
     "text": [
      "\r",
      "Upgrading database; v6 -> v7:   0%|          | 0/1 [00:00<?, ?it/s]"
     ]
    },
    {
     "name": "stdout",
     "output_type": "stream",
     "text": [
      "\r",
      "Upgrading database; v6 -> v7: 100%|██████████| 1/1 [00:00<00:00, 373.59it/s]"
     ]
    },
    {
     "name": "stdout",
     "output_type": "stream",
     "text": [
      "\n",
      "\r",
      "  0%|          | 0/1 [00:00<?, ?it/s]"
     ]
    },
    {
     "name": "stdout",
     "output_type": "stream",
     "text": [
      "\r",
      "Upgrading database; v7 -> v8:   0%|          | 0/1 [00:00<?, ?it/s]"
     ]
    },
    {
     "name": "stdout",
     "output_type": "stream",
     "text": [
      "\r",
      "Upgrading database; v7 -> v8: 100%|██████████| 1/1 [00:00<00:00, 550.87it/s]"
     ]
    },
    {
     "name": "stdout",
     "output_type": "stream",
     "text": [
      "\n",
      "\r",
      "  0%|          | 0/1 [00:00<?, ?it/s]"
     ]
    },
    {
     "name": "stdout",
     "output_type": "stream",
     "text": [
      "\r",
      "Upgrading database; v8 -> v9:   0%|          | 0/1 [00:00<?, ?it/s]"
     ]
    },
    {
     "name": "stdout",
     "output_type": "stream",
     "text": [
      "\r",
      "Upgrading database; v8 -> v9: 100%|██████████| 1/1 [00:00<00:00, 594.09it/s]"
     ]
    },
    {
     "name": "stdout",
     "output_type": "stream",
     "text": [
      "\n"
     ]
    }
   ],
   "source": [
    "initialise_database()\n",
    "exp = load_or_create_experiment(experiment_name='tutorial_exp', sample_name=\"no sample\")"
   ]
  },
  {
   "cell_type": "markdown",
   "metadata": {},
   "source": [
    "Here, we define a simple function to benchmark the time it takes to insert n points with either numeric or array data type.\n",
    "We will compare both the time used to call ``add_result`` and the time used for the full measurement."
   ]
  },
  {
   "cell_type": "code",
   "execution_count": 4,
   "metadata": {
    "execution": {
     "iopub.execute_input": "2021-01-07T10:43:59.496955Z",
     "iopub.status.busy": "2021-01-07T10:43:59.496451Z",
     "iopub.status.idle": "2021-01-07T10:43:59.500153Z",
     "shell.execute_reply": "2021-01-07T10:43:59.500584Z"
    }
   },
   "outputs": [],
   "source": [
    "def insert_data(paramtype, npoints, nreps=1):\n",
    "\n",
    "    meas = Measurement(exp=exp)\n",
    "\n",
    "    x1 = ManualParameter('x1')\n",
    "    x2 = ManualParameter('x2')\n",
    "    x3 = ManualParameter('x3')\n",
    "    y1 = ManualParameter('y1')\n",
    "    y2 = ManualParameter('y2')\n",
    "\n",
    "    meas.register_parameter(x1, paramtype=paramtype)\n",
    "    meas.register_parameter(x2, paramtype=paramtype)\n",
    "    meas.register_parameter(x3, paramtype=paramtype)\n",
    "    meas.register_parameter(y1, setpoints=[x1, x2, x3],\n",
    "                            paramtype=paramtype)\n",
    "    meas.register_parameter(y2, setpoints=[x1, x2, x3],\n",
    "                            paramtype=paramtype)\n",
    "    start = time.perf_counter()\n",
    "    with meas.run() as datasaver:\n",
    "        start_adding = time.perf_counter()\n",
    "        for i in range(nreps):\n",
    "            datasaver.add_result((x1, np.random.rand(npoints)),\n",
    "                                 (x2, np.random.rand(npoints)),\n",
    "                                 (x3, np.random.rand(npoints)),\n",
    "                                 (y1, np.random.rand(npoints)),\n",
    "                                 (y2, np.random.rand(npoints)))\n",
    "        stop_adding = time.perf_counter()\n",
    "        run_id = datasaver.run_id\n",
    "    stop = time.perf_counter()\n",
    "    tot_time = stop - start\n",
    "    add_time = stop_adding - start_adding\n",
    "    return tot_time, add_time, run_id"
   ]
  },
  {
   "cell_type": "markdown",
   "metadata": {},
   "source": [
    "## Comparison between numeric/array data and binary blob"
   ]
  },
  {
   "cell_type": "markdown",
   "metadata": {},
   "source": [
    "### Case1: Short experiment time"
   ]
  },
  {
   "cell_type": "code",
   "execution_count": 5,
   "metadata": {
    "execution": {
     "iopub.execute_input": "2021-01-07T10:43:59.505770Z",
     "iopub.status.busy": "2021-01-07T10:43:59.505288Z",
     "iopub.status.idle": "2021-01-07T10:44:00.364759Z",
     "shell.execute_reply": "2021-01-07T10:44:00.365288Z"
    }
   },
   "outputs": [
    {
     "name": "stdout",
     "output_type": "stream",
     "text": [
      "Starting experimental run with id: 1. \n",
      "Starting experimental run with id: 2. \n",
      "Starting experimental run with id: 3. \n",
      "Starting experimental run with id: 4. \n"
     ]
    },
    {
     "name": "stdout",
     "output_type": "stream",
     "text": [
      "Starting experimental run with id: 5. \n"
     ]
    },
    {
     "name": "stdout",
     "output_type": "stream",
     "text": [
      "Starting experimental run with id: 6. \n"
     ]
    },
    {
     "name": "stdout",
     "output_type": "stream",
     "text": [
      "Starting experimental run with id: 7. \n"
     ]
    },
    {
     "name": "stdout",
     "output_type": "stream",
     "text": [
      "Starting experimental run with id: 8. \n",
      "Starting experimental run with id: 9. \n"
     ]
    },
    {
     "name": "stdout",
     "output_type": "stream",
     "text": [
      "Starting experimental run with id: 10. \n",
      "Starting experimental run with id: 11. \n"
     ]
    },
    {
     "name": "stdout",
     "output_type": "stream",
     "text": [
      "Starting experimental run with id: 12. \n",
      "Starting experimental run with id: 13. \n"
     ]
    },
    {
     "name": "stdout",
     "output_type": "stream",
     "text": [
      "Starting experimental run with id: 14. \n"
     ]
    }
   ],
   "source": [
    "sizes = [1,500,1000,2000,3000,4000,5000]\n",
    "t_numeric = []\n",
    "t_numeric_add = []\n",
    "t_array = []\n",
    "t_array_add = []\n",
    "for size in sizes:\n",
    "    tn, tna, run_id_n =  insert_data('numeric', size)\n",
    "    t_numeric.append(tn)\n",
    "    t_numeric_add.append(tna)\n",
    "\n",
    "    ta, taa, run_id_a =  insert_data('array', size)\n",
    "    t_array.append(ta)\n",
    "    t_array_add.append(taa)"
   ]
  },
  {
   "cell_type": "code",
   "execution_count": 6,
   "metadata": {
    "execution": {
     "iopub.execute_input": "2021-01-07T10:44:00.380600Z",
     "iopub.status.busy": "2021-01-07T10:44:00.369672Z",
     "iopub.status.idle": "2021-01-07T10:44:00.559384Z",
     "shell.execute_reply": "2021-01-07T10:44:00.559800Z"
    }
   },
   "outputs": [
    {
     "data": {
      "image/png": "[encoded data removed]",
      "text/plain": [
       "<Figure size 432x288 with 1 Axes>"
      ]
     },
     "metadata": {
      "needs_background": "light"
     },
     "output_type": "display_data"
    }
   ],
   "source": [
    "fig, ax = plt.subplots(1,1)\n",
    "ax.plot(sizes, t_numeric, 'o-', label='Inserting row-by-row')\n",
    "ax.plot(sizes, t_numeric_add, 'o-', label='Inserting row-by-row: add_result only')\n",
    "ax.plot(sizes, t_array, 'd-', label='Inserting as binary blob')\n",
    "ax.plot(sizes, t_array_add, 'd-', label='Inserting as binary blob: add_result only')\n",
    "ax.legend()\n",
    "ax.set_xlabel('Array length')\n",
    "ax.set_ylabel('Time (s)')\n",
    "fig.tight_layout()"
   ]
  },
  {
   "cell_type": "markdown",
   "metadata": {},
   "source": [
    "As shown in the latter figure, the time to setup and and close the experiment is approximately 0.4 sec. In case of small array sizes, the difference between inserting values of data as arrays and inserting them row-by-row is relatively unimportant. At larger array sizes, i.e. above 10000 points, the cost of writing data as individual datapoints starts to become important.\n"
   ]
  },
  {
   "cell_type": "markdown",
   "metadata": {},
   "source": [
    "### Case2: Long experiment time "
   ]
  },
  {
   "cell_type": "code",
   "execution_count": 7,
   "metadata": {
    "execution": {
     "iopub.execute_input": "2021-01-07T10:44:00.566372Z",
     "iopub.status.busy": "2021-01-07T10:44:00.565687Z",
     "iopub.status.idle": "2021-01-07T10:44:56.975416Z",
     "shell.execute_reply": "2021-01-07T10:44:56.975897Z"
    }
   },
   "outputs": [
    {
     "name": "stdout",
     "output_type": "stream",
     "text": [
      "Starting experimental run with id: 15. \n",
      "Starting experimental run with id: 16. \n",
      "Starting experimental run with id: 17. \n"
     ]
    },
    {
     "name": "stdout",
     "output_type": "stream",
     "text": [
      "Starting experimental run with id: 18. \n",
      "Starting experimental run with id: 19. \n"
     ]
    },
    {
     "name": "stdout",
     "output_type": "stream",
     "text": [
      "Starting experimental run with id: 20. \n"
     ]
    },
    {
     "name": "stdout",
     "output_type": "stream",
     "text": [
      "Starting experimental run with id: 21. \n"
     ]
    },
    {
     "name": "stdout",
     "output_type": "stream",
     "text": [
      "Starting experimental run with id: 22. \n"
     ]
    },
    {
     "name": "stdout",
     "output_type": "stream",
     "text": [
      "Starting experimental run with id: 23. \n"
     ]
    },
    {
     "name": "stdout",
     "output_type": "stream",
     "text": [
      "Starting experimental run with id: 24. \n"
     ]
    },
    {
     "name": "stdout",
     "output_type": "stream",
     "text": [
      "Starting experimental run with id: 25. \n"
     ]
    },
    {
     "name": "stdout",
     "output_type": "stream",
     "text": [
      "Starting experimental run with id: 26. \n"
     ]
    },
    {
     "name": "stdout",
     "output_type": "stream",
     "text": [
      "Starting experimental run with id: 27. \n"
     ]
    },
    {
     "name": "stdout",
     "output_type": "stream",
     "text": [
      "Starting experimental run with id: 28. \n"
     ]
    }
   ],
   "source": [
    "sizes = [1,500,1000,2000,3000,4000,5000]\n",
    "nreps = 100\n",
    "t_numeric = []\n",
    "t_numeric_add = []\n",
    "t_numeric_run_ids = []\n",
    "t_array = []\n",
    "t_array_add = []\n",
    "t_array_run_ids = []\n",
    "for size in sizes:\n",
    "    tn, tna, run_id_n =  insert_data('numeric', size, nreps=nreps)\n",
    "    t_numeric.append(tn)\n",
    "    t_numeric_add.append(tna)\n",
    "    t_numeric_run_ids.append(run_id_n)\n",
    "\n",
    "    ta, taa, run_id_a =  insert_data('array', size, nreps=nreps)\n",
    "    t_array.append(ta)\n",
    "    t_array_add.append(taa)\n",
    "    t_array_run_ids.append(run_id_a)"
   ]
  },
  {
   "cell_type": "code",
   "execution_count": 8,
   "metadata": {
    "execution": {
     "iopub.execute_input": "2021-01-07T10:44:57.004542Z",
     "iopub.status.busy": "2021-01-07T10:44:56.982688Z",
     "iopub.status.idle": "2021-01-07T10:44:57.178277Z",
     "shell.execute_reply": "2021-01-07T10:44:57.178678Z"
    },
    "scrolled": true
   },
   "outputs": [
    {
     "data": {
      "image/png": "[encoded data removed]",
      "text/plain": [
       "<Figure size 432x288 with 1 Axes>"
      ]
     },
     "metadata": {
      "needs_background": "light"
     },
     "output_type": "display_data"
    }
   ],
   "source": [
    "fig, ax = plt.subplots(1,1)\n",
    "ax.plot(sizes, t_numeric, 'o-', label='Inserting row-by-row')\n",
    "ax.plot(sizes, t_numeric_add, 'o-', label='Inserting row-by-row: add_result only')\n",
    "ax.plot(sizes, t_array, 'd-', label='Inserting as binary blob')\n",
    "ax.plot(sizes, t_array_add, 'd-', label='Inserting as binary blob: add_result only')\n",
    "ax.legend()\n",
    "ax.set_xlabel('Array length')\n",
    "ax.set_ylabel('Time (s)')\n",
    "fig.tight_layout()"
   ]
  },
  {
   "cell_type": "markdown",
   "metadata": {},
   "source": [
    "However, as we increase the length of the experiment, as seen here by repeating the insertion 100 times, we see a big difference between inserting values of the data row-by-row and inserting it as a binary blob."
   ]
  },
  {
   "cell_type": "markdown",
   "metadata": {},
   "source": [
    "## Loading the data "
   ]
  },
  {
   "cell_type": "code",
   "execution_count": 9,
   "metadata": {
    "execution": {
     "iopub.execute_input": "2021-01-07T10:44:57.182630Z",
     "iopub.status.busy": "2021-01-07T10:44:57.181578Z",
     "iopub.status.idle": "2021-01-07T10:44:57.184759Z",
     "shell.execute_reply": "2021-01-07T10:44:57.184240Z"
    }
   },
   "outputs": [],
   "source": [
    "from qcodes.dataset.data_set import load_by_id\n",
    "from qcodes.dataset.data_export import get_data_by_id"
   ]
  },
  {
   "cell_type": "markdown",
   "metadata": {},
   "source": [
    "As usual you can load the data by using the ``load_by_id`` function but you will notice that the different storage methods\n",
    "are reflected in shape of the data as it is retrieved. "
   ]
  },
  {
   "cell_type": "code",
   "execution_count": 10,
   "metadata": {
    "execution": {
     "iopub.execute_input": "2021-01-07T10:44:57.189359Z",
     "iopub.status.busy": "2021-01-07T10:44:57.188680Z",
     "iopub.status.idle": "2021-01-07T10:44:57.192312Z",
     "shell.execute_reply": "2021-01-07T10:44:57.191814Z"
    }
   },
   "outputs": [],
   "source": [
    "run_id_n = t_numeric_run_ids[0]\n",
    "run_id_a = t_array_run_ids[0]"
   ]
  },
  {
   "cell_type": "code",
   "execution_count": 11,
   "metadata": {
    "execution": {
     "iopub.execute_input": "2021-01-07T10:44:57.195563Z",
     "iopub.status.busy": "2021-01-07T10:44:57.195036Z",
     "iopub.status.idle": "2021-01-07T10:44:57.204522Z",
     "shell.execute_reply": "2021-01-07T10:44:57.204934Z"
    },
    "scrolled": true
   },
   "outputs": [
    {
     "data": {
      "text/plain": [
       "{'x1': {'x1': array([6.89493929e-01, 6.89493929e-01, 8.95246754e-01, 8.95246754e-01,\n",
       "         7.43776953e-01, 7.43776953e-01, 3.58257276e-01, 3.58257276e-01,\n",
       "         1.61551019e-01, 1.61551019e-01, 5.23906483e-01, 5.23906483e-01,\n",
       "         2.63079372e-01, 2.63079372e-01, 7.18247919e-02, 7.18247919e-02,\n",
       "         5.22110908e-01, 5.22110908e-01, 7.76897436e-01, 7.76897436e-01,\n",
       "         9.80036446e-01, 9.80036446e-01, 8.57481990e-01, 8.57481990e-01,\n",
       "         5.24989619e-01, 5.24989619e-01, 3.30766811e-01, 3.30766811e-01,\n",
       "         3.02933858e-01, 3.02933858e-01, 7.73694641e-01, 7.73694641e-01,\n",
       "         8.74010447e-01, 8.74010447e-01, 7.12569036e-01, 7.12569036e-01,\n",
       "         9.76322379e-01, 9.76322379e-01, 2.58030865e-01, 2.58030865e-01,\n",
       "         2.33147148e-02, 2.33147148e-02, 1.82716008e-01, 1.82716008e-01,\n",
       "         8.00536933e-01, 8.00536933e-01, 6.68040012e-02, 6.68040012e-02,\n",
       "         9.32278786e-01, 9.32278786e-01, 7.65564277e-01, 7.65564277e-01,\n",
       "         1.08571834e-01, 1.08571834e-01, 5.71248108e-01, 5.71248108e-01,\n",
       "         6.55064085e-01, 6.55064085e-01, 6.86946572e-01, 6.86946572e-01,\n",
       "         7.79638459e-01, 7.79638459e-01, 6.03428786e-01, 6.03428786e-01,\n",
       "         3.31982753e-01, 3.31982753e-01, 3.33843215e-01, 3.33843215e-01,\n",
       "         8.60838504e-01, 8.60838504e-01, 9.86244852e-02, 9.86244852e-02,\n",
       "         1.12316117e-01, 1.12316117e-01, 9.42629875e-01, 9.42629875e-01,\n",
       "         1.54157962e-01, 1.54157962e-01, 9.30508648e-01, 9.30508648e-01,\n",
       "         5.16089045e-01, 5.16089045e-01, 6.84491560e-01, 6.84491560e-01,\n",
       "         5.51038408e-01, 5.51038408e-01, 2.49698633e-01, 2.49698633e-01,\n",
       "         8.34367112e-01, 8.34367112e-01, 2.08187745e-01, 2.08187745e-01,\n",
       "         7.64685300e-01, 7.64685300e-01, 9.54667746e-01, 9.54667746e-01,\n",
       "         1.96989769e-01, 1.96989769e-01, 1.48845381e-01, 1.48845381e-01,\n",
       "         4.62020470e-01, 4.62020470e-01, 6.71127514e-01, 6.71127514e-01,\n",
       "         1.28632607e-01, 1.28632607e-01, 8.32369746e-01, 8.32369746e-01,\n",
       "         3.31949637e-01, 3.31949637e-01, 1.70093397e-01, 1.70093397e-01,\n",
       "         8.25334428e-01, 8.25334428e-01, 3.49045400e-04, 3.49045400e-04,\n",
       "         8.37911674e-01, 8.37911674e-01, 2.94503076e-01, 2.94503076e-01,\n",
       "         2.83506007e-01, 2.83506007e-01, 1.31762679e-02, 1.31762679e-02,\n",
       "         4.68261273e-01, 4.68261273e-01, 5.15077080e-01, 5.15077080e-01,\n",
       "         9.45259261e-02, 9.45259261e-02, 4.20630558e-01, 4.20630558e-01,\n",
       "         2.48692704e-01, 2.48692704e-01, 4.64868652e-02, 4.64868652e-02,\n",
       "         8.75457217e-01, 8.75457217e-01, 6.21282505e-01, 6.21282505e-01,\n",
       "         1.15797750e-01, 1.15797750e-01, 1.86759575e-01, 1.86759575e-01,\n",
       "         3.77136092e-01, 3.77136092e-01, 8.33044860e-01, 8.33044860e-01,\n",
       "         7.22519703e-01, 7.22519703e-01, 2.11966897e-01, 2.11966897e-01,\n",
       "         2.55006995e-02, 2.55006995e-02, 9.52274035e-01, 9.52274035e-01,\n",
       "         6.44162872e-01, 6.44162872e-01, 8.50264703e-01, 8.50264703e-01,\n",
       "         3.19537409e-01, 3.19537409e-01, 6.64635127e-01, 6.64635127e-01,\n",
       "         9.55984811e-01, 9.55984811e-01, 2.28433195e-01, 2.28433195e-01,\n",
       "         4.74514707e-01, 4.74514707e-01, 6.82194494e-01, 6.82194494e-01,\n",
       "         7.31908736e-01, 7.31908736e-01, 3.13886486e-01, 3.13886486e-01,\n",
       "         2.98581973e-01, 2.98581973e-01, 7.23315669e-02, 7.23315669e-02,\n",
       "         1.15599625e-01, 1.15599625e-01, 9.00612943e-01, 9.00612943e-01,\n",
       "         9.22561435e-01, 9.22561435e-01, 4.01340649e-01, 4.01340649e-01,\n",
       "         5.18179482e-01, 5.18179482e-01, 8.51758385e-01, 8.51758385e-01,\n",
       "         6.28614926e-01, 6.28614926e-01, 6.76627328e-01, 6.76627328e-01,\n",
       "         7.97402460e-01, 7.97402460e-01, 1.77218065e-01, 1.77218065e-01])}}"
      ]
     },
     "execution_count": 1,
     "metadata": {},
     "output_type": "execute_result"
    }
   ],
   "source": [
    "ds = load_by_id(run_id_n)\n",
    "ds.get_parameter_data('x1')"
   ]
  },
  {
   "cell_type": "markdown",
   "metadata": {},
   "source": [
    "And a dataset stored as binary arrays"
   ]
  },
  {
   "cell_type": "code",
   "execution_count": 12,
   "metadata": {
    "execution": {
     "iopub.execute_input": "2021-01-07T10:44:57.207870Z",
     "iopub.status.busy": "2021-01-07T10:44:57.207350Z",
     "iopub.status.idle": "2021-01-07T10:44:57.265016Z",
     "shell.execute_reply": "2021-01-07T10:44:57.265691Z"
    },
    "scrolled": true
   },
   "outputs": [
    {
     "data": {
      "text/plain": [
       "{'x1': {'x1': array([[0.55729668],\n",
       "         [0.55729668],\n",
       "         [0.53683732],\n",
       "         [0.53683732],\n",
       "         [0.25169125],\n",
       "         [0.25169125],\n",
       "         [0.2447953 ],\n",
       "         [0.2447953 ],\n",
       "         [0.78757357],\n",
       "         [0.78757357],\n",
       "         [0.86859827],\n",
       "         [0.86859827],\n",
       "         [0.29118423],\n",
       "         [0.29118423],\n",
       "         [0.36084904],\n",
       "         [0.36084904],\n",
       "         [0.43806514],\n",
       "         [0.43806514],\n",
       "         [0.41636583],\n",
       "         [0.41636583],\n",
       "         [0.54861247],\n",
       "         [0.54861247],\n",
       "         [0.75533126],\n",
       "         [0.75533126],\n",
       "         [0.57656355],\n",
       "         [0.57656355],\n",
       "         [0.3096063 ],\n",
       "         [0.3096063 ],\n",
       "         [0.61887899],\n",
       "         [0.61887899],\n",
       "         [0.03968891],\n",
       "         [0.03968891],\n",
       "         [0.11398512],\n",
       "         [0.11398512],\n",
       "         [0.44516499],\n",
       "         [0.44516499],\n",
       "         [0.76010875],\n",
       "         [0.76010875],\n",
       "         [0.64458821],\n",
       "         [0.64458821],\n",
       "         [0.10292642],\n",
       "         [0.10292642],\n",
       "         [0.70302365],\n",
       "         [0.70302365],\n",
       "         [0.69477956],\n",
       "         [0.69477956],\n",
       "         [0.41577827],\n",
       "         [0.41577827],\n",
       "         [0.97763358],\n",
       "         [0.97763358],\n",
       "         [0.74335634],\n",
       "         [0.74335634],\n",
       "         [0.6306366 ],\n",
       "         [0.6306366 ],\n",
       "         [0.59967823],\n",
       "         [0.59967823],\n",
       "         [0.47497621],\n",
       "         [0.47497621],\n",
       "         [0.94048267],\n",
       "         [0.94048267],\n",
       "         [0.99411583],\n",
       "         [0.99411583],\n",
       "         [0.4523669 ],\n",
       "         [0.4523669 ],\n",
       "         [0.88102744],\n",
       "         [0.88102744],\n",
       "         [0.99142407],\n",
       "         [0.99142407],\n",
       "         [0.32324808],\n",
       "         [0.32324808],\n",
       "         [0.36317992],\n",
       "         [0.36317992],\n",
       "         [0.43162412],\n",
       "         [0.43162412],\n",
       "         [0.96980606],\n",
       "         [0.96980606],\n",
       "         [0.82203249],\n",
       "         [0.82203249],\n",
       "         [0.39733618],\n",
       "         [0.39733618],\n",
       "         [0.20511967],\n",
       "         [0.20511967],\n",
       "         [0.02448317],\n",
       "         [0.02448317],\n",
       "         [0.80575385],\n",
       "         [0.80575385],\n",
       "         [0.09655141],\n",
       "         [0.09655141],\n",
       "         [0.69349707],\n",
       "         [0.69349707],\n",
       "         [0.38842157],\n",
       "         [0.38842157],\n",
       "         [0.93937696],\n",
       "         [0.93937696],\n",
       "         [0.48311513],\n",
       "         [0.48311513],\n",
       "         [0.28372554],\n",
       "         [0.28372554],\n",
       "         [0.99552262],\n",
       "         [0.99552262],\n",
       "         [0.66970129],\n",
       "         [0.66970129],\n",
       "         [0.96447847],\n",
       "         [0.96447847],\n",
       "         [0.50792252],\n",
       "         [0.50792252],\n",
       "         [0.14134562],\n",
       "         [0.14134562],\n",
       "         [0.87945891],\n",
       "         [0.87945891],\n",
       "         [0.29521118],\n",
       "         [0.29521118],\n",
       "         [0.74304088],\n",
       "         [0.74304088],\n",
       "         [0.1060314 ],\n",
       "         [0.1060314 ],\n",
       "         [0.15483313],\n",
       "         [0.15483313],\n",
       "         [0.42873867],\n",
       "         [0.42873867],\n",
       "         [0.00263339],\n",
       "         [0.00263339],\n",
       "         [0.27385506],\n",
       "         [0.27385506],\n",
       "         [0.32354102],\n",
       "         [0.32354102],\n",
       "         [0.75864066],\n",
       "         [0.75864066],\n",
       "         [0.86693835],\n",
       "         [0.86693835],\n",
       "         [0.02125992],\n",
       "         [0.02125992],\n",
       "         [0.5110256 ],\n",
       "         [0.5110256 ],\n",
       "         [0.29110681],\n",
       "         [0.29110681],\n",
       "         [0.32648586],\n",
       "         [0.32648586],\n",
       "         [0.75472781],\n",
       "         [0.75472781],\n",
       "         [0.79227591],\n",
       "         [0.79227591],\n",
       "         [0.68277239],\n",
       "         [0.68277239],\n",
       "         [0.68257297],\n",
       "         [0.68257297],\n",
       "         [0.21468091],\n",
       "         [0.21468091],\n",
       "         [0.58990822],\n",
       "         [0.58990822],\n",
       "         [0.89380711],\n",
       "         [0.89380711],\n",
       "         [0.65945836],\n",
       "         [0.65945836],\n",
       "         [0.89218241],\n",
       "         [0.89218241],\n",
       "         [0.6039461 ],\n",
       "         [0.6039461 ],\n",
       "         [0.62562833],\n",
       "         [0.62562833],\n",
       "         [0.64930083],\n",
       "         [0.64930083],\n",
       "         [0.05603968],\n",
       "         [0.05603968],\n",
       "         [0.28265057],\n",
       "         [0.28265057],\n",
       "         [0.21357153],\n",
       "         [0.21357153],\n",
       "         [0.46841665],\n",
       "         [0.46841665],\n",
       "         [0.4966109 ],\n",
       "         [0.4966109 ],\n",
       "         [0.08195318],\n",
       "         [0.08195318],\n",
       "         [0.14322575],\n",
       "         [0.14322575],\n",
       "         [0.48853021],\n",
       "         [0.48853021],\n",
       "         [0.54581353],\n",
       "         [0.54581353],\n",
       "         [0.61431858],\n",
       "         [0.61431858],\n",
       "         [0.46597648],\n",
       "         [0.46597648],\n",
       "         [0.75571252],\n",
       "         [0.75571252],\n",
       "         [0.93203989],\n",
       "         [0.93203989],\n",
       "         [0.03797502],\n",
       "         [0.03797502],\n",
       "         [0.62865328],\n",
       "         [0.62865328],\n",
       "         [0.94042354],\n",
       "         [0.94042354],\n",
       "         [0.02998735],\n",
       "         [0.02998735],\n",
       "         [0.86433784],\n",
       "         [0.86433784],\n",
       "         [0.80123827],\n",
       "         [0.80123827]])}}"
      ]
     },
     "execution_count": 1,
     "metadata": {},
     "output_type": "execute_result"
    }
   ],
   "source": [
    "ds = load_by_id(run_id_a)\n",
    "ds.get_parameter_data('x1')"
   ]
  },
  {
   "cell_type": "code",
   "execution_count": null,
   "metadata": {},
   "outputs": [],
   "source": []
  }
 ],
 "metadata": {
  "kernelspec": {
   "display_name": "Python 3",
   "language": "python",
   "name": "python3"
  },
  "language_info": {
   "codemirror_mode": {
    "name": "ipython",
    "version": 3
   },
   "file_extension": ".py",
   "mimetype": "text/x-python",
   "name": "python",
   "nbconvert_exporter": "python",
   "pygments_lexer": "ipython3",
   "version": "3.7.9"
  },
  "nbsphinx": {
   "timeout": 600
  },
  "toc": {
   "base_numbering": 1,
   "nav_menu": {},
   "number_sections": true,
   "sideBar": true,
   "skip_h1_title": false,
   "title_cell": "Table of Contents",
   "title_sidebar": "Contents",
   "toc_cell": false,
   "toc_position": {},
   "toc_section_display": true,
   "toc_window_display": false
  },
  "varInspector": {
   "cols": {
    "lenName": 16,
    "lenType": 16,
    "lenVar": 40
   },
   "kernels_config": {
    "python": {
     "delete_cmd_postfix": "",
     "delete_cmd_prefix": "del ",
     "library": "var_list.py",
     "varRefreshCmd": "print(var_dic_list())"
    },
    "r": {
     "delete_cmd_postfix": ") ",
     "delete_cmd_prefix": "rm(",
     "library": "var_list.r",
     "varRefreshCmd": "cat(var_dic_list()) "
    }
   },
   "types_to_exclude": [
    "module",
    "function",
    "builtin_function_or_method",
    "instance",
    "_Feature"
   ],
   "window_display": false
  }
 },
 "nbformat": 4,
 "nbformat_minor": 2
}
