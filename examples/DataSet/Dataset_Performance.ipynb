{
 "cells": [
  {
   "cell_type": "markdown",
   "metadata": {},
   "source": [
    "# DataSet Performance\n",
    "\n",
    "This notebook shows the trade-off between inserting data into a database row-by-row and as binary blobs. Inserting the data row-by-row means that we have direct access to all the data and may perform queries directly on the values of the data. On the other hand, as we shall see, this is much slower than inserting the data directly as binary blobs."
   ]
  },
  {
   "cell_type": "markdown",
   "metadata": {},
   "source": [
    "First, we choose a new location for the database to ensure that we don't add a bunch of benchmarking data to the default one."
   ]
  },
  {
   "cell_type": "code",
   "execution_count": 1,
   "metadata": {
    "execution": {
     "iopub.execute_input": "2021-01-05T11:20:49.290091Z",
     "iopub.status.busy": "2021-01-05T11:20:49.289540Z",
     "iopub.status.idle": "2021-01-05T11:20:50.384767Z",
     "shell.execute_reply": "2021-01-05T11:20:50.384081Z"
    }
   },
   "outputs": [
    {
     "name": "stdout",
     "output_type": "stream",
     "text": [
      "Logging hadn't been started.\n",
      "Activating auto-logging. Current session state plus future input saved.\n",
      "Filename       : /home/vsts/.qcodes/logs/command_history.log\n",
      "Mode           : append\n",
      "Output logging : True\n",
      "Raw input log  : False\n",
      "Timestamping   : True\n",
      "State          : active\n"
     ]
    },
    {
     "name": "stdout",
     "output_type": "stream",
     "text": [
      "Qcodes Logfile : /home/vsts/.qcodes/logs/210105-13620-qcodes.log\n"
     ]
    }
   ],
   "source": [
    "import os\n",
    "cwd = os.getcwd()\n",
    "import qcodes as qc\n",
    "qc.config[\"core\"][\"db_location\"] = os.path.join(cwd, 'testing.db')\n"
   ]
  },
  {
   "cell_type": "code",
   "execution_count": 2,
   "metadata": {
    "execution": {
     "iopub.execute_input": "2021-01-05T11:20:50.393729Z",
     "iopub.status.busy": "2021-01-05T11:20:50.392807Z",
     "iopub.status.idle": "2021-01-05T11:20:50.589341Z",
     "shell.execute_reply": "2021-01-05T11:20:50.589784Z"
    }
   },
   "outputs": [],
   "source": [
    "%matplotlib inline\n",
    "import time\n",
    "import matplotlib.pyplot as plt\n",
    "import numpy as np\n",
    "\n",
    "import qcodes as qc\n",
    "from qcodes.instrument.parameter import ManualParameter\n",
    "from qcodes.dataset.experiment_container import (Experiment,\n",
    "                                                 load_last_experiment,\n",
    "                                                 new_experiment)\n",
    "from qcodes.dataset.sqlite.database import initialise_database\n",
    "from qcodes import load_or_create_experiment\n",
    "from qcodes.dataset.measurements import Measurement"
   ]
  },
  {
   "cell_type": "code",
   "execution_count": 3,
   "metadata": {
    "execution": {
     "iopub.execute_input": "2021-01-05T11:20:50.594046Z",
     "iopub.status.busy": "2021-01-05T11:20:50.593380Z",
     "iopub.status.idle": "2021-01-05T11:20:50.712268Z",
     "shell.execute_reply": "2021-01-05T11:20:50.711759Z"
    }
   },
   "outputs": [
    {
     "name": "stdout",
     "output_type": "stream",
     "text": [
      "\r",
      "0it [00:00, ?it/s]"
     ]
    },
    {
     "name": "stdout",
     "output_type": "stream",
     "text": [
      "\r",
      "Upgrading database; v0 -> v1: : 0it [00:00, ?it/s]"
     ]
    },
    {
     "name": "stdout",
     "output_type": "stream",
     "text": [
      "\r",
      "Upgrading database; v0 -> v1: : 0it [00:00, ?it/s]"
     ]
    },
    {
     "name": "stdout",
     "output_type": "stream",
     "text": [
      "\n",
      "\r",
      "  0%|          | 0/1 [00:00<?, ?it/s]"
     ]
    },
    {
     "name": "stdout",
     "output_type": "stream",
     "text": [
      "\r",
      "Upgrading database; v1 -> v2:   0%|          | 0/1 [00:00<?, ?it/s]"
     ]
    },
    {
     "name": "stdout",
     "output_type": "stream",
     "text": [
      "\r",
      "Upgrading database; v1 -> v2: 100%|██████████| 1/1 [00:00<00:00, 640.84it/s]"
     ]
    },
    {
     "name": "stdout",
     "output_type": "stream",
     "text": [
      "\n",
      "\r",
      "0it [00:00, ?it/s]"
     ]
    },
    {
     "name": "stdout",
     "output_type": "stream",
     "text": [
      "\r",
      "Upgrading database; v2 -> v3: : 0it [00:00, ?it/s]"
     ]
    },
    {
     "name": "stdout",
     "output_type": "stream",
     "text": [
      "\r",
      "Upgrading database; v2 -> v3: : 0it [00:00, ?it/s]"
     ]
    },
    {
     "name": "stdout",
     "output_type": "stream",
     "text": [
      "\n",
      "\r",
      "0it [00:00, ?it/s]"
     ]
    },
    {
     "name": "stdout",
     "output_type": "stream",
     "text": [
      "\r",
      "Upgrading database; v3 -> v4: : 0it [00:00, ?it/s]"
     ]
    },
    {
     "name": "stdout",
     "output_type": "stream",
     "text": [
      "\r",
      "Upgrading database; v3 -> v4: : 0it [00:00, ?it/s]"
     ]
    },
    {
     "name": "stdout",
     "output_type": "stream",
     "text": [
      "\n",
      "\r",
      "  0%|          | 0/1 [00:00<?, ?it/s]"
     ]
    },
    {
     "name": "stdout",
     "output_type": "stream",
     "text": [
      "\r",
      "Upgrading database; v4 -> v5:   0%|          | 0/1 [00:00<?, ?it/s]"
     ]
    },
    {
     "name": "stdout",
     "output_type": "stream",
     "text": [
      "\r",
      "Upgrading database; v4 -> v5: 100%|██████████| 1/1 [00:00<00:00, 591.16it/s]"
     ]
    },
    {
     "name": "stdout",
     "output_type": "stream",
     "text": [
      "\n",
      "\r",
      "0it [00:00, ?it/s]"
     ]
    },
    {
     "name": "stdout",
     "output_type": "stream",
     "text": [
      "\r",
      "Upgrading database; v5 -> v6: : 0it [00:00, ?it/s]"
     ]
    },
    {
     "name": "stdout",
     "output_type": "stream",
     "text": [
      "\r",
      "Upgrading database; v5 -> v6: : 0it [00:00, ?it/s]"
     ]
    },
    {
     "name": "stdout",
     "output_type": "stream",
     "text": [
      "\n",
      "\r",
      "  0%|          | 0/1 [00:00<?, ?it/s]"
     ]
    },
    {
     "name": "stdout",
     "output_type": "stream",
     "text": [
      "\r",
      "Upgrading database; v6 -> v7:   0%|          | 0/1 [00:00<?, ?it/s]"
     ]
    },
    {
     "name": "stdout",
     "output_type": "stream",
     "text": [
      "\r",
      "Upgrading database; v6 -> v7: 100%|██████████| 1/1 [00:00<00:00, 238.88it/s]"
     ]
    },
    {
     "name": "stdout",
     "output_type": "stream",
     "text": [
      "\n",
      "\r",
      "  0%|          | 0/1 [00:00<?, ?it/s]"
     ]
    },
    {
     "name": "stdout",
     "output_type": "stream",
     "text": [
      "\r",
      "Upgrading database; v7 -> v8:   0%|          | 0/1 [00:00<?, ?it/s]"
     ]
    },
    {
     "name": "stdout",
     "output_type": "stream",
     "text": [
      "\r",
      "Upgrading database; v7 -> v8: 100%|██████████| 1/1 [00:00<00:00, 440.35it/s]"
     ]
    },
    {
     "name": "stdout",
     "output_type": "stream",
     "text": [
      "\n",
      "\r",
      "  0%|          | 0/1 [00:00<?, ?it/s]"
     ]
    },
    {
     "name": "stdout",
     "output_type": "stream",
     "text": [
      "\r",
      "Upgrading database; v8 -> v9:   0%|          | 0/1 [00:00<?, ?it/s]"
     ]
    },
    {
     "name": "stdout",
     "output_type": "stream",
     "text": [
      "\r",
      "Upgrading database; v8 -> v9: 100%|██████████| 1/1 [00:00<00:00, 588.76it/s]"
     ]
    },
    {
     "name": "stdout",
     "output_type": "stream",
     "text": [
      "\n"
     ]
    }
   ],
   "source": [
    "initialise_database()\n",
    "exp = load_or_create_experiment(experiment_name='tutorial_exp', sample_name=\"no sample\")"
   ]
  },
  {
   "cell_type": "markdown",
   "metadata": {},
   "source": [
    "Here, we define a simple function to benchmark the time it takes to insert n points with either numeric or array data type.\n",
    "We will compare both the time used to call ``add_result`` and the time used for the full measurement."
   ]
  },
  {
   "cell_type": "code",
   "execution_count": 4,
   "metadata": {
    "execution": {
     "iopub.execute_input": "2021-01-05T11:20:50.720898Z",
     "iopub.status.busy": "2021-01-05T11:20:50.720350Z",
     "iopub.status.idle": "2021-01-05T11:20:50.724015Z",
     "shell.execute_reply": "2021-01-05T11:20:50.723377Z"
    }
   },
   "outputs": [],
   "source": [
    "def insert_data(paramtype, npoints, nreps=1):\n",
    "\n",
    "    meas = Measurement(exp=exp)\n",
    "\n",
    "    x1 = ManualParameter('x1')\n",
    "    x2 = ManualParameter('x2')\n",
    "    x3 = ManualParameter('x3')\n",
    "    y1 = ManualParameter('y1')\n",
    "    y2 = ManualParameter('y2')\n",
    "\n",
    "    meas.register_parameter(x1, paramtype=paramtype)\n",
    "    meas.register_parameter(x2, paramtype=paramtype)\n",
    "    meas.register_parameter(x3, paramtype=paramtype)\n",
    "    meas.register_parameter(y1, setpoints=[x1, x2, x3],\n",
    "                            paramtype=paramtype)\n",
    "    meas.register_parameter(y2, setpoints=[x1, x2, x3],\n",
    "                            paramtype=paramtype)\n",
    "    start = time.perf_counter()\n",
    "    with meas.run() as datasaver:\n",
    "        start_adding = time.perf_counter()\n",
    "        for i in range(nreps):\n",
    "            datasaver.add_result((x1, np.random.rand(npoints)),\n",
    "                                 (x2, np.random.rand(npoints)),\n",
    "                                 (x3, np.random.rand(npoints)),\n",
    "                                 (y1, np.random.rand(npoints)),\n",
    "                                 (y2, np.random.rand(npoints)))\n",
    "        stop_adding = time.perf_counter()\n",
    "        run_id = datasaver.run_id\n",
    "    stop = time.perf_counter()\n",
    "    tot_time = stop - start\n",
    "    add_time = stop_adding - start_adding\n",
    "    return tot_time, add_time, run_id"
   ]
  },
  {
   "cell_type": "markdown",
   "metadata": {},
   "source": [
    "## Comparison between numeric/array data and binary blob"
   ]
  },
  {
   "cell_type": "markdown",
   "metadata": {},
   "source": [
    "### Case1: Short experiment time"
   ]
  },
  {
   "cell_type": "code",
   "execution_count": 5,
   "metadata": {
    "execution": {
     "iopub.execute_input": "2021-01-05T11:20:50.730808Z",
     "iopub.status.busy": "2021-01-05T11:20:50.730277Z",
     "iopub.status.idle": "2021-01-05T11:20:51.605159Z",
     "shell.execute_reply": "2021-01-05T11:20:51.604590Z"
    }
   },
   "outputs": [
    {
     "name": "stdout",
     "output_type": "stream",
     "text": [
      "Starting experimental run with id: 1. \n",
      "Starting experimental run with id: 2. \n",
      "Starting experimental run with id: 3. \n",
      "Starting experimental run with id: 4. \n",
      "Starting experimental run with id: 5. \n"
     ]
    },
    {
     "name": "stdout",
     "output_type": "stream",
     "text": [
      "Starting experimental run with id: 6. \n"
     ]
    },
    {
     "name": "stdout",
     "output_type": "stream",
     "text": [
      "Starting experimental run with id: 7. \n"
     ]
    },
    {
     "name": "stdout",
     "output_type": "stream",
     "text": [
      "Starting experimental run with id: 8. \n",
      "Starting experimental run with id: 9. \n"
     ]
    },
    {
     "name": "stdout",
     "output_type": "stream",
     "text": [
      "Starting experimental run with id: 10. \n",
      "Starting experimental run with id: 11. \n"
     ]
    },
    {
     "name": "stdout",
     "output_type": "stream",
     "text": [
      "Starting experimental run with id: 12. \n"
     ]
    },
    {
     "name": "stdout",
     "output_type": "stream",
     "text": [
      "Starting experimental run with id: 13. \n"
     ]
    },
    {
     "name": "stdout",
     "output_type": "stream",
     "text": [
      "Starting experimental run with id: 14. \n"
     ]
    }
   ],
   "source": [
    "sizes = [1,500,1000,2000,3000,4000,5000]\n",
    "t_numeric = []\n",
    "t_numeric_add = []\n",
    "t_array = []\n",
    "t_array_add = []\n",
    "for size in sizes:\n",
    "    tn, tna, run_id_n =  insert_data('numeric', size)\n",
    "    t_numeric.append(tn)\n",
    "    t_numeric_add.append(tna)\n",
    "\n",
    "    ta, taa, run_id_a =  insert_data('array', size)\n",
    "    t_array.append(ta)\n",
    "    t_array_add.append(taa)"
   ]
  },
  {
   "cell_type": "code",
   "execution_count": 6,
   "metadata": {
    "execution": {
     "iopub.execute_input": "2021-01-05T11:20:51.622612Z",
     "iopub.status.busy": "2021-01-05T11:20:51.622124Z",
     "iopub.status.idle": "2021-01-05T11:20:51.809861Z",
     "shell.execute_reply": "2021-01-05T11:20:51.809388Z"
    }
   },
   "outputs": [
    {
     "data": {
      "image/png": "[encoded data removed]",
      "text/plain": [
       "<Figure size 432x288 with 1 Axes>"
      ]
     },
     "metadata": {
      "needs_background": "light"
     },
     "output_type": "display_data"
    }
   ],
   "source": [
    "fig, ax = plt.subplots(1,1)\n",
    "ax.plot(sizes, t_numeric, 'o-', label='Inserting row-by-row')\n",
    "ax.plot(sizes, t_numeric_add, 'o-', label='Inserting row-by-row: add_result only')\n",
    "ax.plot(sizes, t_array, 'd-', label='Inserting as binary blob')\n",
    "ax.plot(sizes, t_array_add, 'd-', label='Inserting as binary blob: add_result only')\n",
    "ax.legend()\n",
    "ax.set_xlabel('Array length')\n",
    "ax.set_ylabel('Time (s)')\n",
    "fig.tight_layout()"
   ]
  },
  {
   "cell_type": "markdown",
   "metadata": {},
   "source": [
    "As shown in the latter figure, the time to setup and and close the experiment is approximately 0.4 sec. In case of small array sizes, the difference between inserting values of data as arrays and inserting them row-by-row is relatively unimportant. At larger array sizes, i.e. above 10000 points, the cost of writing data as individual datapoints starts to become important.\n"
   ]
  },
  {
   "cell_type": "markdown",
   "metadata": {},
   "source": [
    "### Case2: Long experiment time "
   ]
  },
  {
   "cell_type": "code",
   "execution_count": 7,
   "metadata": {
    "execution": {
     "iopub.execute_input": "2021-01-05T11:20:51.818543Z",
     "iopub.status.busy": "2021-01-05T11:20:51.817199Z",
     "iopub.status.idle": "2021-01-05T11:22:04.860962Z",
     "shell.execute_reply": "2021-01-05T11:22:04.859062Z"
    }
   },
   "outputs": [
    {
     "name": "stdout",
     "output_type": "stream",
     "text": [
      "Starting experimental run with id: 15. \n",
      "Starting experimental run with id: 16. \n",
      "Starting experimental run with id: 17. \n"
     ]
    },
    {
     "name": "stdout",
     "output_type": "stream",
     "text": [
      "Starting experimental run with id: 18. \n",
      "Starting experimental run with id: 19. \n"
     ]
    },
    {
     "name": "stdout",
     "output_type": "stream",
     "text": [
      "Starting experimental run with id: 20. \n"
     ]
    },
    {
     "name": "stdout",
     "output_type": "stream",
     "text": [
      "Starting experimental run with id: 21. \n"
     ]
    },
    {
     "name": "stdout",
     "output_type": "stream",
     "text": [
      "Starting experimental run with id: 22. \n"
     ]
    },
    {
     "name": "stdout",
     "output_type": "stream",
     "text": [
      "Starting experimental run with id: 23. \n"
     ]
    },
    {
     "name": "stdout",
     "output_type": "stream",
     "text": [
      "Starting experimental run with id: 24. \n"
     ]
    },
    {
     "name": "stdout",
     "output_type": "stream",
     "text": [
      "Starting experimental run with id: 25. \n"
     ]
    },
    {
     "name": "stdout",
     "output_type": "stream",
     "text": [
      "Starting experimental run with id: 26. \n"
     ]
    },
    {
     "name": "stdout",
     "output_type": "stream",
     "text": [
      "Starting experimental run with id: 27. \n"
     ]
    },
    {
     "name": "stdout",
     "output_type": "stream",
     "text": [
      "Starting experimental run with id: 28. \n"
     ]
    }
   ],
   "source": [
    "sizes = [1,500,1000,2000,3000,4000,5000]\n",
    "nreps = 100\n",
    "t_numeric = []\n",
    "t_numeric_add = []\n",
    "t_numeric_run_ids = []\n",
    "t_array = []\n",
    "t_array_add = []\n",
    "t_array_run_ids = []\n",
    "for size in sizes:\n",
    "    tn, tna, run_id_n =  insert_data('numeric', size, nreps=nreps)\n",
    "    t_numeric.append(tn)\n",
    "    t_numeric_add.append(tna)\n",
    "    t_numeric_run_ids.append(run_id_n)\n",
    "\n",
    "    ta, taa, run_id_a =  insert_data('array', size, nreps=nreps)\n",
    "    t_array.append(ta)\n",
    "    t_array_add.append(taa)\n",
    "    t_array_run_ids.append(run_id_a)"
   ]
  },
  {
   "cell_type": "code",
   "execution_count": 8,
   "metadata": {
    "execution": {
     "iopub.execute_input": "2021-01-05T11:22:04.901063Z",
     "iopub.status.busy": "2021-01-05T11:22:04.900155Z",
     "iopub.status.idle": "2021-01-05T11:22:05.060283Z",
     "shell.execute_reply": "2021-01-05T11:22:05.059624Z"
    },
    "scrolled": true
   },
   "outputs": [
    {
     "data": {
      "image/png": "[encoded data removed]",
      "text/plain": [
       "<Figure size 432x288 with 1 Axes>"
      ]
     },
     "metadata": {
      "needs_background": "light"
     },
     "output_type": "display_data"
    }
   ],
   "source": [
    "fig, ax = plt.subplots(1,1)\n",
    "ax.plot(sizes, t_numeric, 'o-', label='Inserting row-by-row')\n",
    "ax.plot(sizes, t_numeric_add, 'o-', label='Inserting row-by-row: add_result only')\n",
    "ax.plot(sizes, t_array, 'd-', label='Inserting as binary blob')\n",
    "ax.plot(sizes, t_array_add, 'd-', label='Inserting as binary blob: add_result only')\n",
    "ax.legend()\n",
    "ax.set_xlabel('Array length')\n",
    "ax.set_ylabel('Time (s)')\n",
    "fig.tight_layout()"
   ]
  },
  {
   "cell_type": "markdown",
   "metadata": {},
   "source": [
    "However, as we increase the length of the experiment, as seen here by repeating the insertion 100 times, we see a big difference between inserting values of the data row-by-row and inserting it as a binary blob."
   ]
  },
  {
   "cell_type": "markdown",
   "metadata": {},
   "source": [
    "## Loading the data "
   ]
  },
  {
   "cell_type": "code",
   "execution_count": 9,
   "metadata": {
    "execution": {
     "iopub.execute_input": "2021-01-05T11:22:05.064360Z",
     "iopub.status.busy": "2021-01-05T11:22:05.063571Z",
     "iopub.status.idle": "2021-01-05T11:22:05.066944Z",
     "shell.execute_reply": "2021-01-05T11:22:05.066395Z"
    }
   },
   "outputs": [],
   "source": [
    "from qcodes.dataset.data_set import load_by_id\n",
    "from qcodes.dataset.data_export import get_data_by_id"
   ]
  },
  {
   "cell_type": "markdown",
   "metadata": {},
   "source": [
    "As usual you can load the data by using the ``load_by_id`` function but you will notice that the different storage methods\n",
    "are reflected in shape of the data as it is retrieved. "
   ]
  },
  {
   "cell_type": "code",
   "execution_count": 10,
   "metadata": {
    "execution": {
     "iopub.execute_input": "2021-01-05T11:22:05.075802Z",
     "iopub.status.busy": "2021-01-05T11:22:05.075276Z",
     "iopub.status.idle": "2021-01-05T11:22:05.098763Z",
     "shell.execute_reply": "2021-01-05T11:22:05.098082Z"
    }
   },
   "outputs": [],
   "source": [
    "run_id_n = t_numeric_run_ids[0]\n",
    "run_id_a = t_array_run_ids[0]"
   ]
  },
  {
   "cell_type": "code",
   "execution_count": 11,
   "metadata": {
    "execution": {
     "iopub.execute_input": "2021-01-05T11:22:05.110261Z",
     "iopub.status.busy": "2021-01-05T11:22:05.108901Z",
     "iopub.status.idle": "2021-01-05T11:22:05.114257Z",
     "shell.execute_reply": "2021-01-05T11:22:05.115019Z"
    },
    "scrolled": true
   },
   "outputs": [
    {
     "data": {
      "text/plain": [
       "{'x1': {'x1': array([0.1708932 , 0.1708932 , 0.78946304, 0.78946304, 0.99043078,\n",
       "         0.99043078, 0.69236051, 0.69236051, 0.91419712, 0.91419712,\n",
       "         0.51817403, 0.51817403, 0.9885063 , 0.9885063 , 0.48892439,\n",
       "         0.48892439, 0.98389102, 0.98389102, 0.6946077 , 0.6946077 ,\n",
       "         0.25594939, 0.25594939, 0.17651499, 0.17651499, 0.1416389 ,\n",
       "         0.1416389 , 0.90105289, 0.90105289, 0.44522392, 0.44522392,\n",
       "         0.60495342, 0.60495342, 0.34055797, 0.34055797, 0.54775863,\n",
       "         0.54775863, 0.81334631, 0.81334631, 0.86460438, 0.86460438,\n",
       "         0.31263085, 0.31263085, 0.54465462, 0.54465462, 0.01421416,\n",
       "         0.01421416, 0.91901423, 0.91901423, 0.56420386, 0.56420386,\n",
       "         0.2622435 , 0.2622435 , 0.92598415, 0.92598415, 0.72918083,\n",
       "         0.72918083, 0.76815296, 0.76815296, 0.66544375, 0.66544375,\n",
       "         0.56273139, 0.56273139, 0.51266382, 0.51266382, 0.02828271,\n",
       "         0.02828271, 0.95834648, 0.95834648, 0.02306739, 0.02306739,\n",
       "         0.02299699, 0.02299699, 0.54084255, 0.54084255, 0.1193132 ,\n",
       "         0.1193132 , 0.10891151, 0.10891151, 0.14965906, 0.14965906,\n",
       "         0.98102615, 0.98102615, 0.19295318, 0.19295318, 0.0580012 ,\n",
       "         0.0580012 , 0.48061449, 0.48061449, 0.6617304 , 0.6617304 ,\n",
       "         0.65290627, 0.65290627, 0.5836547 , 0.5836547 , 0.64352587,\n",
       "         0.64352587, 0.8736228 , 0.8736228 , 0.09160207, 0.09160207,\n",
       "         0.41499504, 0.41499504, 0.40308012, 0.40308012, 0.72834471,\n",
       "         0.72834471, 0.9401721 , 0.9401721 , 0.84616055, 0.84616055,\n",
       "         0.56713183, 0.56713183, 0.1005329 , 0.1005329 , 0.73619169,\n",
       "         0.73619169, 0.14264444, 0.14264444, 0.15102864, 0.15102864,\n",
       "         0.95629045, 0.95629045, 0.84929337, 0.84929337, 0.73564435,\n",
       "         0.73564435, 0.66734576, 0.66734576, 0.49049132, 0.49049132,\n",
       "         0.93446288, 0.93446288, 0.45448182, 0.45448182, 0.66584656,\n",
       "         0.66584656, 0.05845626, 0.05845626, 0.96048693, 0.96048693,\n",
       "         0.90298987, 0.90298987, 0.76032093, 0.76032093, 0.45582629,\n",
       "         0.45582629, 0.28314613, 0.28314613, 0.5649036 , 0.5649036 ,\n",
       "         0.06532405, 0.06532405, 0.78403807, 0.78403807, 0.81014892,\n",
       "         0.81014892, 0.09220969, 0.09220969, 0.53228763, 0.53228763,\n",
       "         0.41485274, 0.41485274, 0.60083139, 0.60083139, 0.60423801,\n",
       "         0.60423801, 0.06914162, 0.06914162, 0.37230116, 0.37230116,\n",
       "         0.55585756, 0.55585756, 0.58631394, 0.58631394, 0.9166338 ,\n",
       "         0.9166338 , 0.97764697, 0.97764697, 0.47358638, 0.47358638,\n",
       "         0.51637932, 0.51637932, 0.54608148, 0.54608148, 0.78631467,\n",
       "         0.78631467, 0.73168906, 0.73168906, 0.023711  , 0.023711  ,\n",
       "         0.47580364, 0.47580364, 0.17693437, 0.17693437, 0.21795808,\n",
       "         0.21795808, 0.82220294, 0.82220294, 0.52352473, 0.52352473])}}"
      ]
     },
     "execution_count": 1,
     "metadata": {},
     "output_type": "execute_result"
    }
   ],
   "source": [
    "ds = load_by_id(run_id_n)\n",
    "ds.get_parameter_data('x1')"
   ]
  },
  {
   "cell_type": "markdown",
   "metadata": {},
   "source": [
    "And a dataset stored as binary arrays"
   ]
  },
  {
   "cell_type": "code",
   "execution_count": 12,
   "metadata": {
    "execution": {
     "iopub.execute_input": "2021-01-05T11:22:05.118709Z",
     "iopub.status.busy": "2021-01-05T11:22:05.118203Z",
     "iopub.status.idle": "2021-01-05T11:22:05.174092Z",
     "shell.execute_reply": "2021-01-05T11:22:05.175032Z"
    },
    "scrolled": true
   },
   "outputs": [
    {
     "data": {
      "text/plain": [
       "{'x1': {'x1': array([[0.38588749],\n",
       "         [0.38588749],\n",
       "         [0.10381738],\n",
       "         [0.10381738],\n",
       "         [0.43579226],\n",
       "         [0.43579226],\n",
       "         [0.55144828],\n",
       "         [0.55144828],\n",
       "         [0.90325224],\n",
       "         [0.90325224],\n",
       "         [0.73972026],\n",
       "         [0.73972026],\n",
       "         [0.00471543],\n",
       "         [0.00471543],\n",
       "         [0.72083904],\n",
       "         [0.72083904],\n",
       "         [0.96061326],\n",
       "         [0.96061326],\n",
       "         [0.85728364],\n",
       "         [0.85728364],\n",
       "         [0.14151309],\n",
       "         [0.14151309],\n",
       "         [0.90267693],\n",
       "         [0.90267693],\n",
       "         [0.53968922],\n",
       "         [0.53968922],\n",
       "         [0.34446976],\n",
       "         [0.34446976],\n",
       "         [0.24884719],\n",
       "         [0.24884719],\n",
       "         [0.65257785],\n",
       "         [0.65257785],\n",
       "         [0.61111973],\n",
       "         [0.61111973],\n",
       "         [0.57057077],\n",
       "         [0.57057077],\n",
       "         [0.79082907],\n",
       "         [0.79082907],\n",
       "         [0.36257145],\n",
       "         [0.36257145],\n",
       "         [0.22637786],\n",
       "         [0.22637786],\n",
       "         [0.3029016 ],\n",
       "         [0.3029016 ],\n",
       "         [0.57623256],\n",
       "         [0.57623256],\n",
       "         [0.70787562],\n",
       "         [0.70787562],\n",
       "         [0.61503802],\n",
       "         [0.61503802],\n",
       "         [0.42908286],\n",
       "         [0.42908286],\n",
       "         [0.45713538],\n",
       "         [0.45713538],\n",
       "         [0.95101189],\n",
       "         [0.95101189],\n",
       "         [0.05078175],\n",
       "         [0.05078175],\n",
       "         [0.48174842],\n",
       "         [0.48174842],\n",
       "         [0.99958735],\n",
       "         [0.99958735],\n",
       "         [0.50267842],\n",
       "         [0.50267842],\n",
       "         [0.33174899],\n",
       "         [0.33174899],\n",
       "         [0.16432235],\n",
       "         [0.16432235],\n",
       "         [0.1143458 ],\n",
       "         [0.1143458 ],\n",
       "         [0.77336489],\n",
       "         [0.77336489],\n",
       "         [0.18291458],\n",
       "         [0.18291458],\n",
       "         [0.84058704],\n",
       "         [0.84058704],\n",
       "         [0.14497207],\n",
       "         [0.14497207],\n",
       "         [0.43688926],\n",
       "         [0.43688926],\n",
       "         [0.1654602 ],\n",
       "         [0.1654602 ],\n",
       "         [0.1340477 ],\n",
       "         [0.1340477 ],\n",
       "         [0.69704801],\n",
       "         [0.69704801],\n",
       "         [0.98984897],\n",
       "         [0.98984897],\n",
       "         [0.95703537],\n",
       "         [0.95703537],\n",
       "         [0.50892085],\n",
       "         [0.50892085],\n",
       "         [0.77322336],\n",
       "         [0.77322336],\n",
       "         [0.8669326 ],\n",
       "         [0.8669326 ],\n",
       "         [0.74928404],\n",
       "         [0.74928404],\n",
       "         [0.73582595],\n",
       "         [0.73582595],\n",
       "         [0.35766566],\n",
       "         [0.35766566],\n",
       "         [0.46138703],\n",
       "         [0.46138703],\n",
       "         [0.21065884],\n",
       "         [0.21065884],\n",
       "         [0.92522132],\n",
       "         [0.92522132],\n",
       "         [0.44853115],\n",
       "         [0.44853115],\n",
       "         [0.64332476],\n",
       "         [0.64332476],\n",
       "         [0.48419942],\n",
       "         [0.48419942],\n",
       "         [0.47039993],\n",
       "         [0.47039993],\n",
       "         [0.82135242],\n",
       "         [0.82135242],\n",
       "         [0.18550571],\n",
       "         [0.18550571],\n",
       "         [0.42603839],\n",
       "         [0.42603839],\n",
       "         [0.7163016 ],\n",
       "         [0.7163016 ],\n",
       "         [0.81184538],\n",
       "         [0.81184538],\n",
       "         [0.32891587],\n",
       "         [0.32891587],\n",
       "         [0.59323172],\n",
       "         [0.59323172],\n",
       "         [0.96756037],\n",
       "         [0.96756037],\n",
       "         [0.60499402],\n",
       "         [0.60499402],\n",
       "         [0.10596942],\n",
       "         [0.10596942],\n",
       "         [0.40394954],\n",
       "         [0.40394954],\n",
       "         [0.88052582],\n",
       "         [0.88052582],\n",
       "         [0.61582571],\n",
       "         [0.61582571],\n",
       "         [0.84161044],\n",
       "         [0.84161044],\n",
       "         [0.32194409],\n",
       "         [0.32194409],\n",
       "         [0.98942212],\n",
       "         [0.98942212],\n",
       "         [0.3737701 ],\n",
       "         [0.3737701 ],\n",
       "         [0.98881923],\n",
       "         [0.98881923],\n",
       "         [0.50417874],\n",
       "         [0.50417874],\n",
       "         [0.91622698],\n",
       "         [0.91622698],\n",
       "         [0.54760412],\n",
       "         [0.54760412],\n",
       "         [0.72414458],\n",
       "         [0.72414458],\n",
       "         [0.86530392],\n",
       "         [0.86530392],\n",
       "         [0.73327106],\n",
       "         [0.73327106],\n",
       "         [0.83058659],\n",
       "         [0.83058659],\n",
       "         [0.25263172],\n",
       "         [0.25263172],\n",
       "         [0.34577991],\n",
       "         [0.34577991],\n",
       "         [0.19694995],\n",
       "         [0.19694995],\n",
       "         [0.81879817],\n",
       "         [0.81879817],\n",
       "         [0.85562498],\n",
       "         [0.85562498],\n",
       "         [0.06477331],\n",
       "         [0.06477331],\n",
       "         [0.59067234],\n",
       "         [0.59067234],\n",
       "         [0.0809256 ],\n",
       "         [0.0809256 ],\n",
       "         [0.31935526],\n",
       "         [0.31935526],\n",
       "         [0.08379752],\n",
       "         [0.08379752],\n",
       "         [0.4128366 ],\n",
       "         [0.4128366 ],\n",
       "         [0.22543047],\n",
       "         [0.22543047],\n",
       "         [0.082668  ],\n",
       "         [0.082668  ],\n",
       "         [0.17215957],\n",
       "         [0.17215957],\n",
       "         [0.47926799],\n",
       "         [0.47926799],\n",
       "         [0.03458506],\n",
       "         [0.03458506],\n",
       "         [0.24370658],\n",
       "         [0.24370658]])}}"
      ]
     },
     "execution_count": 1,
     "metadata": {},
     "output_type": "execute_result"
    }
   ],
   "source": [
    "ds = load_by_id(run_id_a)\n",
    "ds.get_parameter_data('x1')"
   ]
  },
  {
   "cell_type": "code",
   "execution_count": null,
   "metadata": {},
   "outputs": [],
   "source": []
  }
 ],
 "metadata": {
  "kernelspec": {
   "display_name": "Python 3",
   "language": "python",
   "name": "python3"
  },
  "language_info": {
   "codemirror_mode": {
    "name": "ipython",
    "version": 3
   },
   "file_extension": ".py",
   "mimetype": "text/x-python",
   "name": "python",
   "nbconvert_exporter": "python",
   "pygments_lexer": "ipython3",
   "version": "3.7.9"
  },
  "nbsphinx": {
   "timeout": 600
  },
  "toc": {
   "base_numbering": 1,
   "nav_menu": {},
   "number_sections": true,
   "sideBar": true,
   "skip_h1_title": false,
   "title_cell": "Table of Contents",
   "title_sidebar": "Contents",
   "toc_cell": false,
   "toc_position": {},
   "toc_section_display": true,
   "toc_window_display": false
  },
  "varInspector": {
   "cols": {
    "lenName": 16,
    "lenType": 16,
    "lenVar": 40
   },
   "kernels_config": {
    "python": {
     "delete_cmd_postfix": "",
     "delete_cmd_prefix": "del ",
     "library": "var_list.py",
     "varRefreshCmd": "print(var_dic_list())"
    },
    "r": {
     "delete_cmd_postfix": ") ",
     "delete_cmd_prefix": "rm(",
     "library": "var_list.r",
     "varRefreshCmd": "cat(var_dic_list()) "
    }
   },
   "types_to_exclude": [
    "module",
    "function",
    "builtin_function_or_method",
    "instance",
    "_Feature"
   ],
   "window_display": false
  }
 },
 "nbformat": 4,
 "nbformat_minor": 2
}
