{
 "cells": [
  {
   "cell_type": "markdown",
   "execution_count": 1,
   "metadata": {},
   "source": [
    "# DataSet Performance\n",
    "\n",
    "This notebook shows the trade-off between inserting data into a database row-by-row and as binary blobs. Inserting the data row-by-row means that we have direct access to all the data and may perform queries directly on the values of the data. On the other hand, as we shall see, this is much slower than inserting the data directly as binary blobs."
   ]
  },
  {
   "cell_type": "markdown",
   "execution_count": 1,
   "metadata": {},
   "source": [
    "First, we choose a new location for the database to ensure that we don't add a bunch of benchmarking data to the default one."
   ]
  },
  {
   "cell_type": "code",
   "execution_count": 1,
   "metadata": {
    "execution": {
     "iopub.execute_input": "2020-09-15T17:14:38.105520Z",
     "iopub.status.busy": "2020-09-15T17:14:38.105025Z",
     "iopub.status.idle": "2020-09-15T17:14:39.107636Z",
     "shell.execute_reply": "2020-09-15T17:14:39.108388Z"
    }
   },
   "outputs": [
    {
     "name": "stdout",
     "output_type": "stream",
     "text": [
      "Logging hadn't been started.\n",
      "Activating auto-logging. Current session state plus future input saved.\n",
      "Filename       : /home/vsts/.qcodes/logs/command_history.log\n",
      "Mode           : append\n",
      "Output logging : True\n",
      "Raw input log  : False\n",
      "Timestamping   : True\n",
      "State          : active\n"
     ]
    },
    {
     "name": "stdout",
     "output_type": "stream",
     "text": [
      "Qcodes Logfile : /home/vsts/.qcodes/logs/200915-18461-qcodes.log\n"
     ]
    }
   ],
   "source": [
    "import os\n",
    "cwd = os.getcwd()\n",
    "import qcodes as qc\n",
    "qc.config[\"core\"][\"db_location\"] = os.path.join(cwd, 'testing.db')\n"
   ]
  },
  {
   "cell_type": "code",
   "execution_count": 2,
   "metadata": {
    "execution": {
     "iopub.execute_input": "2020-09-15T17:14:39.115933Z",
     "iopub.status.busy": "2020-09-15T17:14:39.114885Z",
     "iopub.status.idle": "2020-09-15T17:14:39.291992Z",
     "shell.execute_reply": "2020-09-15T17:14:39.291336Z"
    }
   },
   "outputs": [],
   "source": [
    "%matplotlib inline\n",
    "import time\n",
    "import matplotlib.pyplot as plt\n",
    "import numpy as np\n",
    "\n",
    "import qcodes as qc\n",
    "from qcodes.instrument.parameter import ManualParameter\n",
    "from qcodes.dataset.experiment_container import (Experiment,\n",
    "                                                 load_last_experiment,\n",
    "                                                 new_experiment)\n",
    "from qcodes.dataset.sqlite.database import initialise_database\n",
    "from qcodes import load_or_create_experiment\n",
    "from qcodes.dataset.measurements import Measurement"
   ]
  },
  {
   "cell_type": "code",
   "execution_count": 3,
   "metadata": {
    "execution": {
     "iopub.execute_input": "2020-09-15T17:14:39.295651Z",
     "iopub.status.busy": "2020-09-15T17:14:39.295083Z",
     "iopub.status.idle": "2020-09-15T17:14:39.363660Z",
     "shell.execute_reply": "2020-09-15T17:14:39.362876Z"
    }
   },
   "outputs": [
    {
     "name": "stdout",
     "output_type": "stream",
     "text": [
      "\r",
      "0it [00:00, ?it/s]"
     ]
    },
    {
     "name": "stdout",
     "output_type": "stream",
     "text": [
      "\r",
      "Upgrading database; v0 -> v1: : 0it [00:00, ?it/s]"
     ]
    },
    {
     "name": "stdout",
     "output_type": "stream",
     "text": [
      "\r",
      "Upgrading database; v0 -> v1: : 0it [00:00, ?it/s]"
     ]
    },
    {
     "name": "stdout",
     "output_type": "stream",
     "text": [
      "\n",
      "\r",
      "  0%|          | 0/1 [00:00<?, ?it/s]"
     ]
    },
    {
     "name": "stdout",
     "output_type": "stream",
     "text": [
      "\r",
      "Upgrading database; v1 -> v2:   0%|          | 0/1 [00:00<?, ?it/s]"
     ]
    },
    {
     "name": "stdout",
     "output_type": "stream",
     "text": [
      "\r",
      "Upgrading database; v1 -> v2: 100%|██████████| 1/1 [00:00<00:00, 445.26it/s]"
     ]
    },
    {
     "name": "stdout",
     "output_type": "stream",
     "text": [
      "\n",
      "\r",
      "0it [00:00, ?it/s]"
     ]
    },
    {
     "name": "stdout",
     "output_type": "stream",
     "text": [
      "\r",
      "Upgrading database; v2 -> v3: : 0it [00:00, ?it/s]"
     ]
    },
    {
     "name": "stdout",
     "output_type": "stream",
     "text": [
      "\r",
      "Upgrading database; v2 -> v3: : 0it [00:00, ?it/s]"
     ]
    },
    {
     "name": "stdout",
     "output_type": "stream",
     "text": [
      "\n",
      "\r",
      "0it [00:00, ?it/s]"
     ]
    },
    {
     "name": "stdout",
     "output_type": "stream",
     "text": [
      "\r",
      "Upgrading database; v3 -> v4: : 0it [00:00, ?it/s]"
     ]
    },
    {
     "name": "stdout",
     "output_type": "stream",
     "text": [
      "\r",
      "Upgrading database; v3 -> v4: : 0it [00:00, ?it/s]"
     ]
    },
    {
     "name": "stdout",
     "output_type": "stream",
     "text": [
      "\n",
      "\r",
      "  0%|          | 0/1 [00:00<?, ?it/s]"
     ]
    },
    {
     "name": "stdout",
     "output_type": "stream",
     "text": [
      "\r",
      "Upgrading database; v4 -> v5:   0%|          | 0/1 [00:00<?, ?it/s]"
     ]
    },
    {
     "name": "stdout",
     "output_type": "stream",
     "text": [
      "\r",
      "Upgrading database; v4 -> v5: 100%|██████████| 1/1 [00:00<00:00, 443.04it/s]"
     ]
    },
    {
     "name": "stdout",
     "output_type": "stream",
     "text": [
      "\n",
      "\r",
      "0it [00:00, ?it/s]"
     ]
    },
    {
     "name": "stdout",
     "output_type": "stream",
     "text": [
      "\r",
      "Upgrading database; v5 -> v6: : 0it [00:00, ?it/s]"
     ]
    },
    {
     "name": "stdout",
     "output_type": "stream",
     "text": [
      "\r",
      "Upgrading database; v5 -> v6: : 0it [00:00, ?it/s]"
     ]
    },
    {
     "name": "stdout",
     "output_type": "stream",
     "text": [
      "\n",
      "\r",
      "  0%|          | 0/1 [00:00<?, ?it/s]"
     ]
    },
    {
     "name": "stdout",
     "output_type": "stream",
     "text": [
      "\r",
      "Upgrading database; v6 -> v7:   0%|          | 0/1 [00:00<?, ?it/s]"
     ]
    },
    {
     "name": "stdout",
     "output_type": "stream",
     "text": [
      "\r",
      "Upgrading database; v6 -> v7: 100%|██████████| 1/1 [00:00<00:00, 366.31it/s]"
     ]
    },
    {
     "name": "stdout",
     "output_type": "stream",
     "text": [
      "\n",
      "\r",
      "  0%|          | 0/1 [00:00<?, ?it/s]"
     ]
    },
    {
     "name": "stdout",
     "output_type": "stream",
     "text": [
      "\r",
      "Upgrading database; v7 -> v8:   0%|          | 0/1 [00:00<?, ?it/s]"
     ]
    },
    {
     "name": "stdout",
     "output_type": "stream",
     "text": [
      "\r",
      "Upgrading database; v7 -> v8: 100%|██████████| 1/1 [00:00<00:00, 494.49it/s]"
     ]
    },
    {
     "name": "stdout",
     "output_type": "stream",
     "text": [
      "\n",
      "\r",
      "  0%|          | 0/1 [00:00<?, ?it/s]"
     ]
    },
    {
     "name": "stdout",
     "output_type": "stream",
     "text": [
      "\r",
      "Upgrading database; v8 -> v9:   0%|          | 0/1 [00:00<?, ?it/s]"
     ]
    },
    {
     "name": "stdout",
     "output_type": "stream",
     "text": [
      "\r",
      "Upgrading database; v8 -> v9: 100%|██████████| 1/1 [00:00<00:00, 581.57it/s]"
     ]
    },
    {
     "name": "stdout",
     "output_type": "stream",
     "text": [
      "\n"
     ]
    }
   ],
   "source": [
    "initialise_database()\n",
    "exp = load_or_create_experiment(experiment_name='tutorial_exp', sample_name=\"no sample\")"
   ]
  },
  {
   "cell_type": "markdown",
   "execution_count": 4,
   "metadata": {},
   "source": [
    "Here, we define a simple function to benchmark the time it takes to insert n points with either numeric or array data type.\n",
    "We will compare both the time used to call ``add_result`` and the time used for the full measurement."
   ]
  },
  {
   "cell_type": "code",
   "execution_count": 4,
   "metadata": {
    "execution": {
     "iopub.execute_input": "2020-09-15T17:14:39.372309Z",
     "iopub.status.busy": "2020-09-15T17:14:39.371788Z",
     "iopub.status.idle": "2020-09-15T17:14:39.375226Z",
     "shell.execute_reply": "2020-09-15T17:14:39.374773Z"
    }
   },
   "outputs": [],
   "source": [
    "def insert_data(paramtype, npoints, nreps=1):\n",
    "\n",
    "    meas = Measurement(exp=exp)\n",
    "\n",
    "    x1 = ManualParameter('x1')\n",
    "    x2 = ManualParameter('x2')\n",
    "    x3 = ManualParameter('x3')\n",
    "    y1 = ManualParameter('y1')\n",
    "    y2 = ManualParameter('y2')\n",
    "\n",
    "    meas.register_parameter(x1, paramtype=paramtype)\n",
    "    meas.register_parameter(x2, paramtype=paramtype)\n",
    "    meas.register_parameter(x3, paramtype=paramtype)\n",
    "    meas.register_parameter(y1, setpoints=[x1, x2, x3],\n",
    "                            paramtype=paramtype)\n",
    "    meas.register_parameter(y2, setpoints=[x1, x2, x3],\n",
    "                            paramtype=paramtype)\n",
    "    start = time.perf_counter()\n",
    "    with meas.run() as datasaver:\n",
    "        start_adding = time.perf_counter()\n",
    "        for i in range(nreps):\n",
    "            datasaver.add_result((x1, np.random.rand(npoints)),\n",
    "                                 (x2, np.random.rand(npoints)),\n",
    "                                 (x3, np.random.rand(npoints)),\n",
    "                                 (y1, np.random.rand(npoints)),\n",
    "                                 (y2, np.random.rand(npoints)))\n",
    "        stop_adding = time.perf_counter()\n",
    "        run_id = datasaver.run_id\n",
    "    stop = time.perf_counter()\n",
    "    tot_time = stop - start\n",
    "    add_time = stop_adding - start_adding\n",
    "    return tot_time, add_time, run_id"
   ]
  },
  {
   "cell_type": "markdown",
   "execution_count": 5,
   "metadata": {},
   "source": [
    "## Comparison between numeric/array data and binary blob"
   ]
  },
  {
   "cell_type": "markdown",
   "execution_count": 5,
   "metadata": {},
   "source": [
    "### Case1: Short experiment time"
   ]
  },
  {
   "cell_type": "code",
   "execution_count": 5,
   "metadata": {
    "execution": {
     "iopub.execute_input": "2020-09-15T17:14:39.381018Z",
     "iopub.status.busy": "2020-09-15T17:14:39.379890Z",
     "iopub.status.idle": "2020-09-15T17:14:40.329912Z",
     "shell.execute_reply": "2020-09-15T17:14:40.328875Z"
    }
   },
   "outputs": [
    {
     "name": "stdout",
     "output_type": "stream",
     "text": [
      "Starting experimental run with id: 1. \n",
      "Starting experimental run with id: 2. \n",
      "Starting experimental run with id: 3. \n"
     ]
    },
    {
     "name": "stdout",
     "output_type": "stream",
     "text": [
      "Starting experimental run with id: 4. \n"
     ]
    },
    {
     "name": "stdout",
     "output_type": "stream",
     "text": [
      "Starting experimental run with id: 5. \n"
     ]
    },
    {
     "name": "stdout",
     "output_type": "stream",
     "text": [
      "Starting experimental run with id: 6. \n"
     ]
    },
    {
     "name": "stdout",
     "output_type": "stream",
     "text": [
      "Starting experimental run with id: 7. \n",
      "Starting experimental run with id: 8. \n"
     ]
    },
    {
     "name": "stdout",
     "output_type": "stream",
     "text": [
      "Starting experimental run with id: 9. \n"
     ]
    },
    {
     "name": "stdout",
     "output_type": "stream",
     "text": [
      "Starting experimental run with id: 10. \n",
      "Starting experimental run with id: 11. \n"
     ]
    },
    {
     "name": "stdout",
     "output_type": "stream",
     "text": [
      "Starting experimental run with id: 12. \n"
     ]
    },
    {
     "name": "stdout",
     "output_type": "stream",
     "text": [
      "Starting experimental run with id: 13. \n"
     ]
    },
    {
     "name": "stdout",
     "output_type": "stream",
     "text": [
      "Starting experimental run with id: 14. \n"
     ]
    }
   ],
   "source": [
    "sizes = [1,500,1000,2000,3000,4000,5000]\n",
    "t_numeric = []\n",
    "t_numeric_add = []\n",
    "t_array = []\n",
    "t_array_add = []\n",
    "for size in sizes:\n",
    "    tn, tna, run_id_n =  insert_data('numeric', size)\n",
    "    t_numeric.append(tn)\n",
    "    t_numeric_add.append(tna)\n",
    "\n",
    "    ta, taa, run_id_a =  insert_data('array', size)\n",
    "    t_array.append(ta)\n",
    "    t_array_add.append(taa)"
   ]
  },
  {
   "cell_type": "code",
   "execution_count": 6,
   "metadata": {
    "execution": {
     "iopub.execute_input": "2020-09-15T17:14:40.335638Z",
     "iopub.status.busy": "2020-09-15T17:14:40.334921Z",
     "iopub.status.idle": "2020-09-15T17:14:40.527996Z",
     "shell.execute_reply": "2020-09-15T17:14:40.527432Z"
    }
   },
   "outputs": [
    {
     "data": {
      "image/png": "[encoded data removed]",
      "text/plain": [
       "<Figure size 432x288 with 1 Axes>"
      ]
     },
     "metadata": {
      "needs_background": "light"
     },
     "output_type": "display_data"
    }
   ],
   "source": [
    "fig, ax = plt.subplots(1,1)\n",
    "ax.plot(sizes, t_numeric, 'o-', label='Inserting row-by-row')\n",
    "ax.plot(sizes, t_numeric_add, 'o-', label='Inserting row-by-row: add_result only')\n",
    "ax.plot(sizes, t_array, 'd-', label='Inserting as binary blob')\n",
    "ax.plot(sizes, t_array_add, 'd-', label='Inserting as binary blob: add_result only')\n",
    "ax.legend()\n",
    "ax.set_xlabel('Array length')\n",
    "ax.set_ylabel('Time (s)')\n",
    "fig.tight_layout()"
   ]
  },
  {
   "cell_type": "markdown",
   "execution_count": 7,
   "metadata": {},
   "source": [
    "As shown in the latter figure, the time to setup and and close the experiment is approximately 0.4 sec. In case of small array sizes, the difference between inserting values of data as arrays and inserting them row-by-row is relatively unimportant. At larger array sizes, i.e. above 10000 points, the cost of writing data as individual datapoints starts to become important.\n"
   ]
  },
  {
   "cell_type": "markdown",
   "execution_count": 7,
   "metadata": {},
   "source": [
    "### Case2: Long experiment time "
   ]
  },
  {
   "cell_type": "code",
   "execution_count": 7,
   "metadata": {
    "execution": {
     "iopub.execute_input": "2020-09-15T17:14:40.535965Z",
     "iopub.status.busy": "2020-09-15T17:14:40.535456Z",
     "iopub.status.idle": "2020-09-15T17:15:40.220115Z",
     "shell.execute_reply": "2020-09-15T17:15:40.220685Z"
    }
   },
   "outputs": [
    {
     "name": "stdout",
     "output_type": "stream",
     "text": [
      "Starting experimental run with id: 15. \n",
      "Starting experimental run with id: 16. \n",
      "Starting experimental run with id: 17. \n"
     ]
    },
    {
     "name": "stdout",
     "output_type": "stream",
     "text": [
      "Starting experimental run with id: 18. \n",
      "Starting experimental run with id: 19. \n"
     ]
    },
    {
     "name": "stdout",
     "output_type": "stream",
     "text": [
      "Starting experimental run with id: 20. \n"
     ]
    },
    {
     "name": "stdout",
     "output_type": "stream",
     "text": [
      "Starting experimental run with id: 21. \n"
     ]
    },
    {
     "name": "stdout",
     "output_type": "stream",
     "text": [
      "Starting experimental run with id: 22. \n"
     ]
    },
    {
     "name": "stdout",
     "output_type": "stream",
     "text": [
      "Starting experimental run with id: 23. \n"
     ]
    },
    {
     "name": "stdout",
     "output_type": "stream",
     "text": [
      "Starting experimental run with id: 24. \n"
     ]
    },
    {
     "name": "stdout",
     "output_type": "stream",
     "text": [
      "Starting experimental run with id: 25. \n"
     ]
    },
    {
     "name": "stdout",
     "output_type": "stream",
     "text": [
      "Starting experimental run with id: 26. \n"
     ]
    },
    {
     "name": "stdout",
     "output_type": "stream",
     "text": [
      "Starting experimental run with id: 27. \n"
     ]
    },
    {
     "name": "stdout",
     "output_type": "stream",
     "text": [
      "Starting experimental run with id: 28. \n"
     ]
    }
   ],
   "source": [
    "sizes = [1,500,1000,2000,3000,4000,5000]\n",
    "nreps = 100\n",
    "t_numeric = []\n",
    "t_numeric_add = []\n",
    "t_numeric_run_ids = []\n",
    "t_array = []\n",
    "t_array_add = []\n",
    "t_array_run_ids = []\n",
    "for size in sizes:\n",
    "    tn, tna, run_id_n =  insert_data('numeric', size, nreps=nreps)\n",
    "    t_numeric.append(tn)\n",
    "    t_numeric_add.append(tna)\n",
    "    t_numeric_run_ids.append(run_id_n)\n",
    "\n",
    "    ta, taa, run_id_a =  insert_data('array', size, nreps=nreps)\n",
    "    t_array.append(ta)\n",
    "    t_array_add.append(taa)\n",
    "    t_array_run_ids.append(run_id_a)"
   ]
  },
  {
   "cell_type": "code",
   "execution_count": 8,
   "metadata": {
    "execution": {
     "iopub.execute_input": "2020-09-15T17:15:40.234582Z",
     "iopub.status.busy": "2020-09-15T17:15:40.230553Z",
     "iopub.status.idle": "2020-09-15T17:15:40.408586Z",
     "shell.execute_reply": "2020-09-15T17:15:40.409328Z"
    },
    "scrolled": true
   },
   "outputs": [
    {
     "data": {
      "image/png": "[encoded data removed]",
      "text/plain": [
       "<Figure size 432x288 with 1 Axes>"
      ]
     },
     "metadata": {
      "needs_background": "light"
     },
     "output_type": "display_data"
    }
   ],
   "source": [
    "fig, ax = plt.subplots(1,1)\n",
    "ax.plot(sizes, t_numeric, 'o-', label='Inserting row-by-row')\n",
    "ax.plot(sizes, t_numeric_add, 'o-', label='Inserting row-by-row: add_result only')\n",
    "ax.plot(sizes, t_array, 'd-', label='Inserting as binary blob')\n",
    "ax.plot(sizes, t_array_add, 'd-', label='Inserting as binary blob: add_result only')\n",
    "ax.legend()\n",
    "ax.set_xlabel('Array length')\n",
    "ax.set_ylabel('Time (s)')\n",
    "fig.tight_layout()"
   ]
  },
  {
   "cell_type": "markdown",
   "execution_count": 9,
   "metadata": {},
   "source": [
    "However, as we increase the length of the experiment, as seen here by repeating the insertion 100 times, we see a big difference between inserting values of the data row-by-row and inserting it as a binary blob."
   ]
  },
  {
   "cell_type": "markdown",
   "execution_count": 9,
   "metadata": {},
   "source": [
    "## Loading the data "
   ]
  },
  {
   "cell_type": "code",
   "execution_count": 9,
   "metadata": {
    "execution": {
     "iopub.execute_input": "2020-09-15T17:15:40.413391Z",
     "iopub.status.busy": "2020-09-15T17:15:40.412488Z",
     "iopub.status.idle": "2020-09-15T17:15:40.415634Z",
     "shell.execute_reply": "2020-09-15T17:15:40.416360Z"
    }
   },
   "outputs": [],
   "source": [
    "from qcodes.dataset.data_set import load_by_id\n",
    "from qcodes.dataset.data_export import get_data_by_id"
   ]
  },
  {
   "cell_type": "markdown",
   "execution_count": 10,
   "metadata": {},
   "source": [
    "As usual you can load the data by using the ``load_by_id`` function but you will notice that the different storage methods\n",
    "are reflected in shape of the data as it is retrieved. "
   ]
  },
  {
   "cell_type": "code",
   "execution_count": 10,
   "metadata": {
    "execution": {
     "iopub.execute_input": "2020-09-15T17:15:40.420056Z",
     "iopub.status.busy": "2020-09-15T17:15:40.419559Z",
     "iopub.status.idle": "2020-09-15T17:15:40.422304Z",
     "shell.execute_reply": "2020-09-15T17:15:40.422832Z"
    }
   },
   "outputs": [],
   "source": [
    "run_id_n = t_numeric_run_ids[0]\n",
    "run_id_a = t_array_run_ids[0]"
   ]
  },
  {
   "cell_type": "code",
   "execution_count": 11,
   "metadata": {
    "execution": {
     "iopub.execute_input": "2020-09-15T17:15:40.425865Z",
     "iopub.status.busy": "2020-09-15T17:15:40.425452Z",
     "iopub.status.idle": "2020-09-15T17:15:40.433792Z",
     "shell.execute_reply": "2020-09-15T17:15:40.433270Z"
    },
    "scrolled": true
   },
   "outputs": [
    {
     "data": {
      "text/plain": [
       "{'x1': {'x1': array([0.77030027, 0.77030027, 0.81664207, 0.81664207, 0.15596738,\n",
       "         0.15596738, 0.99826521, 0.99826521, 0.69862197, 0.69862197,\n",
       "         0.17814013, 0.17814013, 0.26867407, 0.26867407, 0.98253864,\n",
       "         0.98253864, 0.97828154, 0.97828154, 0.07903556, 0.07903556,\n",
       "         0.42156748, 0.42156748, 0.23864178, 0.23864178, 0.63059376,\n",
       "         0.63059376, 0.72246181, 0.72246181, 0.53349699, 0.53349699,\n",
       "         0.44471244, 0.44471244, 0.44365346, 0.44365346, 0.20427239,\n",
       "         0.20427239, 0.96493631, 0.96493631, 0.43060582, 0.43060582,\n",
       "         0.18186834, 0.18186834, 0.34288494, 0.34288494, 0.61587874,\n",
       "         0.61587874, 0.33330259, 0.33330259, 0.42688581, 0.42688581,\n",
       "         0.5199612 , 0.5199612 , 0.59830316, 0.59830316, 0.29866672,\n",
       "         0.29866672, 0.75307621, 0.75307621, 0.3121563 , 0.3121563 ,\n",
       "         0.38526483, 0.38526483, 0.44058013, 0.44058013, 0.58336399,\n",
       "         0.58336399, 0.29362678, 0.29362678, 0.92949727, 0.92949727,\n",
       "         0.0185004 , 0.0185004 , 0.17901583, 0.17901583, 0.11813873,\n",
       "         0.11813873, 0.45885877, 0.45885877, 0.97459603, 0.97459603,\n",
       "         0.68663622, 0.68663622, 0.99375388, 0.99375388, 0.77785979,\n",
       "         0.77785979, 0.00410479, 0.00410479, 0.35229954, 0.35229954,\n",
       "         0.48916521, 0.48916521, 0.53104942, 0.53104942, 0.14470518,\n",
       "         0.14470518, 0.64042998, 0.64042998, 0.61014973, 0.61014973,\n",
       "         0.13040967, 0.13040967, 0.67876258, 0.67876258, 0.36635353,\n",
       "         0.36635353, 0.33769227, 0.33769227, 0.1979319 , 0.1979319 ,\n",
       "         0.64529719, 0.64529719, 0.07692074, 0.07692074, 0.74360987,\n",
       "         0.74360987, 0.25988306, 0.25988306, 0.56126405, 0.56126405,\n",
       "         0.19238464, 0.19238464, 0.68641843, 0.68641843, 0.02461669,\n",
       "         0.02461669, 0.53870943, 0.53870943, 0.1372218 , 0.1372218 ,\n",
       "         0.91662699, 0.91662699, 0.99476869, 0.99476869, 0.77604798,\n",
       "         0.77604798, 0.14260845, 0.14260845, 0.18020689, 0.18020689,\n",
       "         0.5485877 , 0.5485877 , 0.8863926 , 0.8863926 , 0.97589879,\n",
       "         0.97589879, 0.8333909 , 0.8333909 , 0.61847232, 0.61847232,\n",
       "         0.18255855, 0.18255855, 0.90963472, 0.90963472, 0.39795856,\n",
       "         0.39795856, 0.09584456, 0.09584456, 0.63152785, 0.63152785,\n",
       "         0.91260205, 0.91260205, 0.78144884, 0.78144884, 0.45706402,\n",
       "         0.45706402, 0.61736036, 0.61736036, 0.81071077, 0.81071077,\n",
       "         0.4986783 , 0.4986783 , 0.40300533, 0.40300533, 0.40577713,\n",
       "         0.40577713, 0.80974886, 0.80974886, 0.98611074, 0.98611074,\n",
       "         0.2078889 , 0.2078889 , 0.10242207, 0.10242207, 0.44280486,\n",
       "         0.44280486, 0.45209373, 0.45209373, 0.19845496, 0.19845496,\n",
       "         0.16787686, 0.16787686, 0.76349324, 0.76349324, 0.318203  ,\n",
       "         0.318203  , 0.29467066, 0.29467066, 0.8008485 , 0.8008485 ])}}"
      ]
     },
     "execution_count": 1,
     "metadata": {},
     "output_type": "execute_result"
    }
   ],
   "source": [
    "ds = load_by_id(run_id_n)\n",
    "ds.get_parameter_data('x1')"
   ]
  },
  {
   "cell_type": "markdown",
   "execution_count": 12,
   "metadata": {},
   "source": [
    "And a dataset stored as binary arrays"
   ]
  },
  {
   "cell_type": "code",
   "execution_count": 12,
   "metadata": {
    "execution": {
     "iopub.execute_input": "2020-09-15T17:15:40.436659Z",
     "iopub.status.busy": "2020-09-15T17:15:40.436131Z",
     "iopub.status.idle": "2020-09-15T17:15:40.488101Z",
     "shell.execute_reply": "2020-09-15T17:15:40.488648Z"
    },
    "scrolled": true
   },
   "outputs": [
    {
     "data": {
      "text/plain": [
       "{'x1': {'x1': array([[0.91350346],\n",
       "         [0.91350346],\n",
       "         [0.39115717],\n",
       "         [0.39115717],\n",
       "         [0.25928031],\n",
       "         [0.25928031],\n",
       "         [0.79067673],\n",
       "         [0.79067673],\n",
       "         [0.90190804],\n",
       "         [0.90190804],\n",
       "         [0.6351508 ],\n",
       "         [0.6351508 ],\n",
       "         [0.94866973],\n",
       "         [0.94866973],\n",
       "         [0.6132403 ],\n",
       "         [0.6132403 ],\n",
       "         [0.83630443],\n",
       "         [0.83630443],\n",
       "         [0.28513984],\n",
       "         [0.28513984],\n",
       "         [0.55035843],\n",
       "         [0.55035843],\n",
       "         [0.10993347],\n",
       "         [0.10993347],\n",
       "         [0.17330339],\n",
       "         [0.17330339],\n",
       "         [0.25328893],\n",
       "         [0.25328893],\n",
       "         [0.74881337],\n",
       "         [0.74881337],\n",
       "         [0.35482435],\n",
       "         [0.35482435],\n",
       "         [0.72585647],\n",
       "         [0.72585647],\n",
       "         [0.91750313],\n",
       "         [0.91750313],\n",
       "         [0.49568795],\n",
       "         [0.49568795],\n",
       "         [0.24745258],\n",
       "         [0.24745258],\n",
       "         [0.50421328],\n",
       "         [0.50421328],\n",
       "         [0.58358794],\n",
       "         [0.58358794],\n",
       "         [0.81032898],\n",
       "         [0.81032898],\n",
       "         [0.06762094],\n",
       "         [0.06762094],\n",
       "         [0.38780863],\n",
       "         [0.38780863],\n",
       "         [0.02487278],\n",
       "         [0.02487278],\n",
       "         [0.64043431],\n",
       "         [0.64043431],\n",
       "         [0.02598091],\n",
       "         [0.02598091],\n",
       "         [0.58806224],\n",
       "         [0.58806224],\n",
       "         [0.37771009],\n",
       "         [0.37771009],\n",
       "         [0.33448705],\n",
       "         [0.33448705],\n",
       "         [0.89469195],\n",
       "         [0.89469195],\n",
       "         [0.18495409],\n",
       "         [0.18495409],\n",
       "         [0.32021266],\n",
       "         [0.32021266],\n",
       "         [0.98817654],\n",
       "         [0.98817654],\n",
       "         [0.11644401],\n",
       "         [0.11644401],\n",
       "         [0.25902023],\n",
       "         [0.25902023],\n",
       "         [0.85184864],\n",
       "         [0.85184864],\n",
       "         [0.21822887],\n",
       "         [0.21822887],\n",
       "         [0.54107776],\n",
       "         [0.54107776],\n",
       "         [0.02027727],\n",
       "         [0.02027727],\n",
       "         [0.95620639],\n",
       "         [0.95620639],\n",
       "         [0.04401838],\n",
       "         [0.04401838],\n",
       "         [0.23368093],\n",
       "         [0.23368093],\n",
       "         [0.46698579],\n",
       "         [0.46698579],\n",
       "         [0.9368117 ],\n",
       "         [0.9368117 ],\n",
       "         [0.90563642],\n",
       "         [0.90563642],\n",
       "         [0.3057204 ],\n",
       "         [0.3057204 ],\n",
       "         [0.58065547],\n",
       "         [0.58065547],\n",
       "         [0.85946033],\n",
       "         [0.85946033],\n",
       "         [0.03399918],\n",
       "         [0.03399918],\n",
       "         [0.70067885],\n",
       "         [0.70067885],\n",
       "         [0.88445152],\n",
       "         [0.88445152],\n",
       "         [0.14989811],\n",
       "         [0.14989811],\n",
       "         [0.44908174],\n",
       "         [0.44908174],\n",
       "         [0.24578118],\n",
       "         [0.24578118],\n",
       "         [0.0803267 ],\n",
       "         [0.0803267 ],\n",
       "         [0.4976351 ],\n",
       "         [0.4976351 ],\n",
       "         [0.43634488],\n",
       "         [0.43634488],\n",
       "         [0.24279911],\n",
       "         [0.24279911],\n",
       "         [0.08407654],\n",
       "         [0.08407654],\n",
       "         [0.5323046 ],\n",
       "         [0.5323046 ],\n",
       "         [0.29803097],\n",
       "         [0.29803097],\n",
       "         [0.96617626],\n",
       "         [0.96617626],\n",
       "         [0.52736746],\n",
       "         [0.52736746],\n",
       "         [0.63463403],\n",
       "         [0.63463403],\n",
       "         [0.71332237],\n",
       "         [0.71332237],\n",
       "         [0.9040709 ],\n",
       "         [0.9040709 ],\n",
       "         [0.16873777],\n",
       "         [0.16873777],\n",
       "         [0.95500324],\n",
       "         [0.95500324],\n",
       "         [0.54825078],\n",
       "         [0.54825078],\n",
       "         [0.47803222],\n",
       "         [0.47803222],\n",
       "         [0.64105556],\n",
       "         [0.64105556],\n",
       "         [0.27193684],\n",
       "         [0.27193684],\n",
       "         [0.19552586],\n",
       "         [0.19552586],\n",
       "         [0.81619602],\n",
       "         [0.81619602],\n",
       "         [0.66689483],\n",
       "         [0.66689483],\n",
       "         [0.89802371],\n",
       "         [0.89802371],\n",
       "         [0.31083788],\n",
       "         [0.31083788],\n",
       "         [0.85946217],\n",
       "         [0.85946217],\n",
       "         [0.85388528],\n",
       "         [0.85388528],\n",
       "         [0.88854013],\n",
       "         [0.88854013],\n",
       "         [0.57135049],\n",
       "         [0.57135049],\n",
       "         [0.61671351],\n",
       "         [0.61671351],\n",
       "         [0.98645972],\n",
       "         [0.98645972],\n",
       "         [0.2031617 ],\n",
       "         [0.2031617 ],\n",
       "         [0.25962492],\n",
       "         [0.25962492],\n",
       "         [0.97141035],\n",
       "         [0.97141035],\n",
       "         [0.64103778],\n",
       "         [0.64103778],\n",
       "         [0.80672314],\n",
       "         [0.80672314],\n",
       "         [0.4463806 ],\n",
       "         [0.4463806 ],\n",
       "         [0.01950169],\n",
       "         [0.01950169],\n",
       "         [0.25784537],\n",
       "         [0.25784537],\n",
       "         [0.43370335],\n",
       "         [0.43370335],\n",
       "         [0.37618553],\n",
       "         [0.37618553],\n",
       "         [0.66169408],\n",
       "         [0.66169408],\n",
       "         [0.87776014],\n",
       "         [0.87776014],\n",
       "         [0.58357762],\n",
       "         [0.58357762],\n",
       "         [0.8726412 ],\n",
       "         [0.8726412 ],\n",
       "         [0.66896652],\n",
       "         [0.66896652]])}}"
      ]
     },
     "execution_count": 1,
     "metadata": {},
     "output_type": "execute_result"
    }
   ],
   "source": [
    "ds = load_by_id(run_id_a)\n",
    "ds.get_parameter_data('x1')"
   ]
  },
  {
   "cell_type": "code",
   "execution_count": 13,
   "metadata": {},
   "outputs": [],
   "source": []
  }
 ],
 "metadata": {
  "kernelspec": {
   "display_name": "Python 3",
   "language": "python",
   "name": "python3"
  },
  "language_info": {
   "codemirror_mode": {
    "name": "ipython",
    "version": 3
   },
   "file_extension": ".py",
   "mimetype": "text/x-python",
   "name": "python",
   "nbconvert_exporter": "python",
   "pygments_lexer": "ipython3",
   "version": "3.7.7"
  },
  "nbsphinx": {
   "timeout": 600
  },
  "toc": {
   "base_numbering": 1,
   "nav_menu": {},
   "number_sections": true,
   "sideBar": true,
   "skip_h1_title": false,
   "title_cell": "Table of Contents",
   "title_sidebar": "Contents",
   "toc_cell": false,
   "toc_position": {},
   "toc_section_display": true,
   "toc_window_display": false
  },
  "varInspector": {
   "cols": {
    "lenName": 16,
    "lenType": 16,
    "lenVar": 40
   },
   "kernels_config": {
    "python": {
     "delete_cmd_postfix": "",
     "delete_cmd_prefix": "del ",
     "library": "var_list.py",
     "varRefreshCmd": "print(var_dic_list())"
    },
    "r": {
     "delete_cmd_postfix": ") ",
     "delete_cmd_prefix": "rm(",
     "library": "var_list.r",
     "varRefreshCmd": "cat(var_dic_list()) "
    }
   },
   "types_to_exclude": [
    "module",
    "function",
    "builtin_function_or_method",
    "instance",
    "_Feature"
   ],
   "window_display": false
  }
 },
 "nbformat": 4,
 "nbformat_minor": 2
}
