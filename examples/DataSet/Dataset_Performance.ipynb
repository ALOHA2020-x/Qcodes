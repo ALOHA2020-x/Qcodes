{
 "cells": [
  {
   "cell_type": "markdown",
   "metadata": {},
   "source": [
    "# DataSet Performance\n",
    "\n",
    "This notebook shows the trade-off between inserting data into a database row-by-row and as binary blobs. Inserting the data row-by-row means that we have direct access to all the data and may perform queries directly on the values of the data. On the other hand, as we shall see, this is much slower than inserting the data directly as binary blobs."
   ]
  },
  {
   "cell_type": "markdown",
   "metadata": {},
   "source": [
    "First, we choose a new location for the database to ensure that we don't add a bunch of benchmarking data to the default one."
   ]
  },
  {
   "cell_type": "code",
   "execution_count": 1,
   "metadata": {
    "execution": {
     "iopub.execute_input": "2020-09-24T10:25:10.228508Z",
     "iopub.status.busy": "2020-09-24T10:25:10.227867Z",
     "iopub.status.idle": "2020-09-24T10:25:11.224925Z",
     "shell.execute_reply": "2020-09-24T10:25:11.225664Z"
    }
   },
   "outputs": [
    {
     "name": "stdout",
     "output_type": "stream",
     "text": [
      "Logging hadn't been started.\n",
      "Activating auto-logging. Current session state plus future input saved.\n",
      "Filename       : /home/vsts/.qcodes/logs/command_history.log\n",
      "Mode           : append\n",
      "Output logging : True\n",
      "Raw input log  : False\n",
      "Timestamping   : True\n",
      "State          : active\n"
     ]
    },
    {
     "name": "stdout",
     "output_type": "stream",
     "text": [
      "Qcodes Logfile : /home/vsts/.qcodes/logs/200924-19032-qcodes.log\n"
     ]
    }
   ],
   "source": [
    "import os\n",
    "cwd = os.getcwd()\n",
    "import qcodes as qc\n",
    "qc.config[\"core\"][\"db_location\"] = os.path.join(cwd, 'testing.db')\n"
   ]
  },
  {
   "cell_type": "code",
   "execution_count": 2,
   "metadata": {
    "execution": {
     "iopub.execute_input": "2020-09-24T10:25:11.233590Z",
     "iopub.status.busy": "2020-09-24T10:25:11.232987Z",
     "iopub.status.idle": "2020-09-24T10:25:11.430038Z",
     "shell.execute_reply": "2020-09-24T10:25:11.429047Z"
    }
   },
   "outputs": [],
   "source": [
    "%matplotlib inline\n",
    "import time\n",
    "import matplotlib.pyplot as plt\n",
    "import numpy as np\n",
    "\n",
    "import qcodes as qc\n",
    "from qcodes.instrument.parameter import ManualParameter\n",
    "from qcodes.dataset.experiment_container import (Experiment,\n",
    "                                                 load_last_experiment,\n",
    "                                                 new_experiment)\n",
    "from qcodes.dataset.sqlite.database import initialise_database\n",
    "from qcodes import load_or_create_experiment\n",
    "from qcodes.dataset.measurements import Measurement"
   ]
  },
  {
   "cell_type": "code",
   "execution_count": 3,
   "metadata": {
    "execution": {
     "iopub.execute_input": "2020-09-24T10:25:11.434655Z",
     "iopub.status.busy": "2020-09-24T10:25:11.433877Z",
     "iopub.status.idle": "2020-09-24T10:25:11.541963Z",
     "shell.execute_reply": "2020-09-24T10:25:11.541470Z"
    }
   },
   "outputs": [
    {
     "name": "stdout",
     "output_type": "stream",
     "text": [
      "\r",
      "0it [00:00, ?it/s]"
     ]
    },
    {
     "name": "stdout",
     "output_type": "stream",
     "text": [
      "\r",
      "Upgrading database; v0 -> v1: : 0it [00:00, ?it/s]"
     ]
    },
    {
     "name": "stdout",
     "output_type": "stream",
     "text": [
      "\r",
      "Upgrading database; v0 -> v1: : 0it [00:00, ?it/s]"
     ]
    },
    {
     "name": "stdout",
     "output_type": "stream",
     "text": [
      "\n",
      "\r",
      "  0%|          | 0/1 [00:00<?, ?it/s]"
     ]
    },
    {
     "name": "stdout",
     "output_type": "stream",
     "text": [
      "\r",
      "Upgrading database; v1 -> v2:   0%|          | 0/1 [00:00<?, ?it/s]"
     ]
    },
    {
     "name": "stdout",
     "output_type": "stream",
     "text": [
      "\r",
      "Upgrading database; v1 -> v2: 100%|██████████| 1/1 [00:00<00:00, 489.59it/s]"
     ]
    },
    {
     "name": "stdout",
     "output_type": "stream",
     "text": [
      "\n",
      "\r",
      "0it [00:00, ?it/s]"
     ]
    },
    {
     "name": "stdout",
     "output_type": "stream",
     "text": [
      "\r",
      "Upgrading database; v2 -> v3: : 0it [00:00, ?it/s]"
     ]
    },
    {
     "name": "stdout",
     "output_type": "stream",
     "text": [
      "\r",
      "Upgrading database; v2 -> v3: : 0it [00:00, ?it/s]"
     ]
    },
    {
     "name": "stdout",
     "output_type": "stream",
     "text": [
      "\n",
      "\r",
      "0it [00:00, ?it/s]"
     ]
    },
    {
     "name": "stdout",
     "output_type": "stream",
     "text": [
      "\r",
      "Upgrading database; v3 -> v4: : 0it [00:00, ?it/s]"
     ]
    },
    {
     "name": "stdout",
     "output_type": "stream",
     "text": [
      "\r",
      "Upgrading database; v3 -> v4: : 0it [00:00, ?it/s]"
     ]
    },
    {
     "name": "stdout",
     "output_type": "stream",
     "text": [
      "\n",
      "\r",
      "  0%|          | 0/1 [00:00<?, ?it/s]"
     ]
    },
    {
     "name": "stdout",
     "output_type": "stream",
     "text": [
      "\r",
      "Upgrading database; v4 -> v5:   0%|          | 0/1 [00:00<?, ?it/s]"
     ]
    },
    {
     "name": "stdout",
     "output_type": "stream",
     "text": [
      "\r",
      "Upgrading database; v4 -> v5: 100%|██████████| 1/1 [00:00<00:00, 442.86it/s]"
     ]
    },
    {
     "name": "stdout",
     "output_type": "stream",
     "text": [
      "\n",
      "\r",
      "0it [00:00, ?it/s]"
     ]
    },
    {
     "name": "stdout",
     "output_type": "stream",
     "text": [
      "\r",
      "Upgrading database; v5 -> v6: : 0it [00:00, ?it/s]"
     ]
    },
    {
     "name": "stdout",
     "output_type": "stream",
     "text": [
      "\r",
      "Upgrading database; v5 -> v6: : 0it [00:00, ?it/s]"
     ]
    },
    {
     "name": "stdout",
     "output_type": "stream",
     "text": [
      "\n",
      "\r",
      "  0%|          | 0/1 [00:00<?, ?it/s]"
     ]
    },
    {
     "name": "stdout",
     "output_type": "stream",
     "text": [
      "\r",
      "Upgrading database; v6 -> v7:   0%|          | 0/1 [00:00<?, ?it/s]"
     ]
    },
    {
     "name": "stdout",
     "output_type": "stream",
     "text": [
      "\r",
      "Upgrading database; v6 -> v7: 100%|██████████| 1/1 [00:00<00:00, 267.02it/s]"
     ]
    },
    {
     "name": "stdout",
     "output_type": "stream",
     "text": [
      "\n",
      "\r",
      "  0%|          | 0/1 [00:00<?, ?it/s]"
     ]
    },
    {
     "name": "stdout",
     "output_type": "stream",
     "text": [
      "\r",
      "Upgrading database; v7 -> v8:   0%|          | 0/1 [00:00<?, ?it/s]"
     ]
    },
    {
     "name": "stdout",
     "output_type": "stream",
     "text": [
      "\r",
      "Upgrading database; v7 -> v8: 100%|██████████| 1/1 [00:00<00:00, 447.92it/s]"
     ]
    },
    {
     "name": "stdout",
     "output_type": "stream",
     "text": [
      "\n",
      "\r",
      "  0%|          | 0/1 [00:00<?, ?it/s]"
     ]
    },
    {
     "name": "stdout",
     "output_type": "stream",
     "text": [
      "\r",
      "Upgrading database; v8 -> v9:   0%|          | 0/1 [00:00<?, ?it/s]"
     ]
    },
    {
     "name": "stdout",
     "output_type": "stream",
     "text": [
      "\r",
      "Upgrading database; v8 -> v9: 100%|██████████| 1/1 [00:00<00:00, 1014.10it/s]"
     ]
    },
    {
     "name": "stdout",
     "output_type": "stream",
     "text": [
      "\n"
     ]
    }
   ],
   "source": [
    "initialise_database()\n",
    "exp = load_or_create_experiment(experiment_name='tutorial_exp', sample_name=\"no sample\")"
   ]
  },
  {
   "cell_type": "markdown",
   "metadata": {},
   "source": [
    "Here, we define a simple function to benchmark the time it takes to insert n points with either numeric or array data type.\n",
    "We will compare both the time used to call ``add_result`` and the time used for the full measurement."
   ]
  },
  {
   "cell_type": "code",
   "execution_count": 4,
   "metadata": {
    "execution": {
     "iopub.execute_input": "2020-09-24T10:25:11.551080Z",
     "iopub.status.busy": "2020-09-24T10:25:11.549769Z",
     "iopub.status.idle": "2020-09-24T10:25:11.551653Z",
     "shell.execute_reply": "2020-09-24T10:25:11.552201Z"
    }
   },
   "outputs": [],
   "source": [
    "def insert_data(paramtype, npoints, nreps=1):\n",
    "\n",
    "    meas = Measurement(exp=exp)\n",
    "\n",
    "    x1 = ManualParameter('x1')\n",
    "    x2 = ManualParameter('x2')\n",
    "    x3 = ManualParameter('x3')\n",
    "    y1 = ManualParameter('y1')\n",
    "    y2 = ManualParameter('y2')\n",
    "\n",
    "    meas.register_parameter(x1, paramtype=paramtype)\n",
    "    meas.register_parameter(x2, paramtype=paramtype)\n",
    "    meas.register_parameter(x3, paramtype=paramtype)\n",
    "    meas.register_parameter(y1, setpoints=[x1, x2, x3],\n",
    "                            paramtype=paramtype)\n",
    "    meas.register_parameter(y2, setpoints=[x1, x2, x3],\n",
    "                            paramtype=paramtype)\n",
    "    start = time.perf_counter()\n",
    "    with meas.run() as datasaver:\n",
    "        start_adding = time.perf_counter()\n",
    "        for i in range(nreps):\n",
    "            datasaver.add_result((x1, np.random.rand(npoints)),\n",
    "                                 (x2, np.random.rand(npoints)),\n",
    "                                 (x3, np.random.rand(npoints)),\n",
    "                                 (y1, np.random.rand(npoints)),\n",
    "                                 (y2, np.random.rand(npoints)))\n",
    "        stop_adding = time.perf_counter()\n",
    "        run_id = datasaver.run_id\n",
    "    stop = time.perf_counter()\n",
    "    tot_time = stop - start\n",
    "    add_time = stop_adding - start_adding\n",
    "    return tot_time, add_time, run_id"
   ]
  },
  {
   "cell_type": "markdown",
   "metadata": {},
   "source": [
    "## Comparison between numeric/array data and binary blob"
   ]
  },
  {
   "cell_type": "markdown",
   "metadata": {},
   "source": [
    "### Case1: Short experiment time"
   ]
  },
  {
   "cell_type": "code",
   "execution_count": 5,
   "metadata": {
    "execution": {
     "iopub.execute_input": "2020-09-24T10:25:11.559556Z",
     "iopub.status.busy": "2020-09-24T10:25:11.558804Z",
     "iopub.status.idle": "2020-09-24T10:25:12.311324Z",
     "shell.execute_reply": "2020-09-24T10:25:12.310737Z"
    }
   },
   "outputs": [
    {
     "name": "stdout",
     "output_type": "stream",
     "text": [
      "Starting experimental run with id: 1. \n",
      "Starting experimental run with id: 2. \n",
      "Starting experimental run with id: 3. \n",
      "Starting experimental run with id: 4. \n",
      "Starting experimental run with id: 5. \n"
     ]
    },
    {
     "name": "stdout",
     "output_type": "stream",
     "text": [
      "Starting experimental run with id: 6. \n"
     ]
    },
    {
     "name": "stdout",
     "output_type": "stream",
     "text": [
      "Starting experimental run with id: 7. \n"
     ]
    },
    {
     "name": "stdout",
     "output_type": "stream",
     "text": [
      "Starting experimental run with id: 8. \n",
      "Starting experimental run with id: 9. \n"
     ]
    },
    {
     "name": "stdout",
     "output_type": "stream",
     "text": [
      "Starting experimental run with id: 10. \n"
     ]
    },
    {
     "name": "stdout",
     "output_type": "stream",
     "text": [
      "Starting experimental run with id: 11. \n"
     ]
    },
    {
     "name": "stdout",
     "output_type": "stream",
     "text": [
      "Starting experimental run with id: 12. \n",
      "Starting experimental run with id: 13. \n"
     ]
    },
    {
     "name": "stdout",
     "output_type": "stream",
     "text": [
      "Starting experimental run with id: 14. \n"
     ]
    }
   ],
   "source": [
    "sizes = [1,500,1000,2000,3000,4000,5000]\n",
    "t_numeric = []\n",
    "t_numeric_add = []\n",
    "t_array = []\n",
    "t_array_add = []\n",
    "for size in sizes:\n",
    "    tn, tna, run_id_n =  insert_data('numeric', size)\n",
    "    t_numeric.append(tn)\n",
    "    t_numeric_add.append(tna)\n",
    "\n",
    "    ta, taa, run_id_a =  insert_data('array', size)\n",
    "    t_array.append(ta)\n",
    "    t_array_add.append(taa)"
   ]
  },
  {
   "cell_type": "code",
   "execution_count": 6,
   "metadata": {
    "execution": {
     "iopub.execute_input": "2020-09-24T10:25:12.329475Z",
     "iopub.status.busy": "2020-09-24T10:25:12.328898Z",
     "iopub.status.idle": "2020-09-24T10:25:12.547922Z",
     "shell.execute_reply": "2020-09-24T10:25:12.548476Z"
    }
   },
   "outputs": [
    {
     "data": {
      "image/png": "[encoded data removed]",
      "text/plain": [
       "<Figure size 432x288 with 1 Axes>"
      ]
     },
     "metadata": {
      "needs_background": "light"
     },
     "output_type": "display_data"
    }
   ],
   "source": [
    "fig, ax = plt.subplots(1,1)\n",
    "ax.plot(sizes, t_numeric, 'o-', label='Inserting row-by-row')\n",
    "ax.plot(sizes, t_numeric_add, 'o-', label='Inserting row-by-row: add_result only')\n",
    "ax.plot(sizes, t_array, 'd-', label='Inserting as binary blob')\n",
    "ax.plot(sizes, t_array_add, 'd-', label='Inserting as binary blob: add_result only')\n",
    "ax.legend()\n",
    "ax.set_xlabel('Array length')\n",
    "ax.set_ylabel('Time (s)')\n",
    "fig.tight_layout()"
   ]
  },
  {
   "cell_type": "markdown",
   "metadata": {},
   "source": [
    "As shown in the latter figure, the time to setup and and close the experiment is approximately 0.4 sec. In case of small array sizes, the difference between inserting values of data as arrays and inserting them row-by-row is relatively unimportant. At larger array sizes, i.e. above 10000 points, the cost of writing data as individual datapoints starts to become important.\n"
   ]
  },
  {
   "cell_type": "markdown",
   "metadata": {},
   "source": [
    "### Case2: Long experiment time "
   ]
  },
  {
   "cell_type": "code",
   "execution_count": 7,
   "metadata": {
    "execution": {
     "iopub.execute_input": "2020-09-24T10:25:12.554837Z",
     "iopub.status.busy": "2020-09-24T10:25:12.553858Z",
     "iopub.status.idle": "2020-09-24T10:26:08.615087Z",
     "shell.execute_reply": "2020-09-24T10:26:08.614418Z"
    }
   },
   "outputs": [
    {
     "name": "stdout",
     "output_type": "stream",
     "text": [
      "Starting experimental run with id: 15. \n",
      "Starting experimental run with id: 16. \n",
      "Starting experimental run with id: 17. \n"
     ]
    },
    {
     "name": "stdout",
     "output_type": "stream",
     "text": [
      "Starting experimental run with id: 18. \n",
      "Starting experimental run with id: 19. \n"
     ]
    },
    {
     "name": "stdout",
     "output_type": "stream",
     "text": [
      "Starting experimental run with id: 20. \n"
     ]
    },
    {
     "name": "stdout",
     "output_type": "stream",
     "text": [
      "Starting experimental run with id: 21. \n"
     ]
    },
    {
     "name": "stdout",
     "output_type": "stream",
     "text": [
      "Starting experimental run with id: 22. \n"
     ]
    },
    {
     "name": "stdout",
     "output_type": "stream",
     "text": [
      "Starting experimental run with id: 23. \n"
     ]
    },
    {
     "name": "stdout",
     "output_type": "stream",
     "text": [
      "Starting experimental run with id: 24. \n"
     ]
    },
    {
     "name": "stdout",
     "output_type": "stream",
     "text": [
      "Starting experimental run with id: 25. \n"
     ]
    },
    {
     "name": "stdout",
     "output_type": "stream",
     "text": [
      "Starting experimental run with id: 26. \n"
     ]
    },
    {
     "name": "stdout",
     "output_type": "stream",
     "text": [
      "Starting experimental run with id: 27. \n"
     ]
    },
    {
     "name": "stdout",
     "output_type": "stream",
     "text": [
      "Starting experimental run with id: 28. \n"
     ]
    }
   ],
   "source": [
    "sizes = [1,500,1000,2000,3000,4000,5000]\n",
    "nreps = 100\n",
    "t_numeric = []\n",
    "t_numeric_add = []\n",
    "t_numeric_run_ids = []\n",
    "t_array = []\n",
    "t_array_add = []\n",
    "t_array_run_ids = []\n",
    "for size in sizes:\n",
    "    tn, tna, run_id_n =  insert_data('numeric', size, nreps=nreps)\n",
    "    t_numeric.append(tn)\n",
    "    t_numeric_add.append(tna)\n",
    "    t_numeric_run_ids.append(run_id_n)\n",
    "\n",
    "    ta, taa, run_id_a =  insert_data('array', size, nreps=nreps)\n",
    "    t_array.append(ta)\n",
    "    t_array_add.append(taa)\n",
    "    t_array_run_ids.append(run_id_a)"
   ]
  },
  {
   "cell_type": "code",
   "execution_count": 8,
   "metadata": {
    "execution": {
     "iopub.execute_input": "2020-09-24T10:26:08.621568Z",
     "iopub.status.busy": "2020-09-24T10:26:08.620453Z",
     "iopub.status.idle": "2020-09-24T10:26:08.841122Z",
     "shell.execute_reply": "2020-09-24T10:26:08.841563Z"
    },
    "scrolled": true
   },
   "outputs": [
    {
     "data": {
      "image/png": "[encoded data removed]",
      "text/plain": [
       "<Figure size 432x288 with 1 Axes>"
      ]
     },
     "metadata": {
      "needs_background": "light"
     },
     "output_type": "display_data"
    }
   ],
   "source": [
    "fig, ax = plt.subplots(1,1)\n",
    "ax.plot(sizes, t_numeric, 'o-', label='Inserting row-by-row')\n",
    "ax.plot(sizes, t_numeric_add, 'o-', label='Inserting row-by-row: add_result only')\n",
    "ax.plot(sizes, t_array, 'd-', label='Inserting as binary blob')\n",
    "ax.plot(sizes, t_array_add, 'd-', label='Inserting as binary blob: add_result only')\n",
    "ax.legend()\n",
    "ax.set_xlabel('Array length')\n",
    "ax.set_ylabel('Time (s)')\n",
    "fig.tight_layout()"
   ]
  },
  {
   "cell_type": "markdown",
   "metadata": {},
   "source": [
    "However, as we increase the length of the experiment, as seen here by repeating the insertion 100 times, we see a big difference between inserting values of the data row-by-row and inserting it as a binary blob."
   ]
  },
  {
   "cell_type": "markdown",
   "metadata": {},
   "source": [
    "## Loading the data "
   ]
  },
  {
   "cell_type": "code",
   "execution_count": 9,
   "metadata": {
    "execution": {
     "iopub.execute_input": "2020-09-24T10:26:08.845942Z",
     "iopub.status.busy": "2020-09-24T10:26:08.845197Z",
     "iopub.status.idle": "2020-09-24T10:26:08.848110Z",
     "shell.execute_reply": "2020-09-24T10:26:08.847622Z"
    }
   },
   "outputs": [],
   "source": [
    "from qcodes.dataset.data_set import load_by_id\n",
    "from qcodes.dataset.data_export import get_data_by_id"
   ]
  },
  {
   "cell_type": "markdown",
   "metadata": {},
   "source": [
    "As usual you can load the data by using the ``load_by_id`` function but you will notice that the different storage methods\n",
    "are reflected in shape of the data as it is retrieved. "
   ]
  },
  {
   "cell_type": "code",
   "execution_count": 10,
   "metadata": {
    "execution": {
     "iopub.execute_input": "2020-09-24T10:26:08.852819Z",
     "iopub.status.busy": "2020-09-24T10:26:08.851326Z",
     "iopub.status.idle": "2020-09-24T10:26:08.853377Z",
     "shell.execute_reply": "2020-09-24T10:26:08.853911Z"
    }
   },
   "outputs": [],
   "source": [
    "run_id_n = t_numeric_run_ids[0]\n",
    "run_id_a = t_array_run_ids[0]"
   ]
  },
  {
   "cell_type": "code",
   "execution_count": 11,
   "metadata": {
    "execution": {
     "iopub.execute_input": "2020-09-24T10:26:08.857736Z",
     "iopub.status.busy": "2020-09-24T10:26:08.857210Z",
     "iopub.status.idle": "2020-09-24T10:26:08.866948Z",
     "shell.execute_reply": "2020-09-24T10:26:08.866246Z"
    },
    "scrolled": true
   },
   "outputs": [
    {
     "data": {
      "text/plain": [
       "{'x1': {'x1': array([7.29290417e-01, 7.29290417e-01, 7.85628081e-01, 7.85628081e-01,\n",
       "         7.59517228e-01, 7.59517228e-01, 4.25694078e-01, 4.25694078e-01,\n",
       "         4.46015059e-01, 4.46015059e-01, 6.55932154e-01, 6.55932154e-01,\n",
       "         4.52075383e-01, 4.52075383e-01, 8.99148051e-01, 8.99148051e-01,\n",
       "         7.62313732e-02, 7.62313732e-02, 5.72106433e-01, 5.72106433e-01,\n",
       "         5.53887335e-02, 5.53887335e-02, 4.68433717e-01, 4.68433717e-01,\n",
       "         3.35385618e-02, 3.35385618e-02, 3.11546157e-01, 3.11546157e-01,\n",
       "         1.11245119e-02, 1.11245119e-02, 7.10306903e-01, 7.10306903e-01,\n",
       "         5.83430981e-01, 5.83430981e-01, 3.50036021e-01, 3.50036021e-01,\n",
       "         7.22703216e-01, 7.22703216e-01, 5.68378547e-01, 5.68378547e-01,\n",
       "         1.59915950e-01, 1.59915950e-01, 6.81056063e-01, 6.81056063e-01,\n",
       "         3.51099625e-01, 3.51099625e-01, 8.80384537e-01, 8.80384537e-01,\n",
       "         7.86137167e-02, 7.86137167e-02, 4.59241047e-01, 4.59241047e-01,\n",
       "         3.65014788e-01, 3.65014788e-01, 3.66301906e-01, 3.66301906e-01,\n",
       "         3.05863887e-01, 3.05863887e-01, 2.05139144e-01, 2.05139144e-01,\n",
       "         6.84766267e-01, 6.84766267e-01, 1.41939008e-01, 1.41939008e-01,\n",
       "         5.27137389e-01, 5.27137389e-01, 5.94760198e-01, 5.94760198e-01,\n",
       "         3.07222246e-01, 3.07222246e-01, 1.43201843e-01, 1.43201843e-01,\n",
       "         4.97985684e-01, 4.97985684e-01, 3.38926081e-01, 3.38926081e-01,\n",
       "         8.92959400e-01, 8.92959400e-01, 9.30888087e-01, 9.30888087e-01,\n",
       "         6.60050973e-01, 6.60050973e-01, 6.53851573e-01, 6.53851573e-01,\n",
       "         6.34027532e-01, 6.34027532e-01, 7.71165372e-01, 7.71165372e-01,\n",
       "         4.38269450e-01, 4.38269450e-01, 9.66673502e-01, 9.66673502e-01,\n",
       "         5.88297679e-01, 5.88297679e-01, 6.61576706e-02, 6.61576706e-02,\n",
       "         7.78845409e-01, 7.78845409e-01, 8.00870680e-01, 8.00870680e-01,\n",
       "         6.63344942e-01, 6.63344942e-01, 7.80077488e-01, 7.80077488e-01,\n",
       "         5.47932887e-01, 5.47932887e-01, 9.16077708e-01, 9.16077708e-01,\n",
       "         8.04719795e-01, 8.04719795e-01, 9.42205450e-01, 9.42205450e-01,\n",
       "         1.05505305e-01, 1.05505305e-01, 2.96026892e-01, 2.96026892e-01,\n",
       "         6.33705031e-01, 6.33705031e-01, 8.36784271e-01, 8.36784271e-01,\n",
       "         3.87916954e-01, 3.87916954e-01, 3.02310550e-01, 3.02310550e-01,\n",
       "         7.03834489e-01, 7.03834489e-01, 6.49486032e-01, 6.49486032e-01,\n",
       "         9.40620414e-01, 9.40620414e-01, 2.45503447e-01, 2.45503447e-01,\n",
       "         6.93028706e-01, 6.93028706e-01, 6.52219539e-01, 6.52219539e-01,\n",
       "         7.75623498e-01, 7.75623498e-01, 5.17965191e-01, 5.17965191e-01,\n",
       "         3.08215969e-01, 3.08215969e-01, 2.48149806e-01, 2.48149806e-01,\n",
       "         4.62866192e-01, 4.62866192e-01, 2.06480510e-01, 2.06480510e-01,\n",
       "         1.82247880e-01, 1.82247880e-01, 2.05808560e-01, 2.05808560e-01,\n",
       "         7.20918017e-01, 7.20918017e-01, 5.48373254e-01, 5.48373254e-01,\n",
       "         9.15395784e-01, 9.15395784e-01, 1.43396483e-02, 1.43396483e-02,\n",
       "         8.31444216e-01, 8.31444216e-01, 2.31231666e-01, 2.31231666e-01,\n",
       "         1.26622687e-01, 1.26622687e-01, 5.98877217e-01, 5.98877217e-01,\n",
       "         8.99996252e-01, 8.99996252e-01, 2.42607067e-01, 2.42607067e-01,\n",
       "         3.37411896e-01, 3.37411896e-01, 2.99370564e-01, 2.99370564e-01,\n",
       "         4.60846413e-01, 4.60846413e-01, 5.97791810e-01, 5.97791810e-01,\n",
       "         3.75770787e-01, 3.75770787e-01, 1.70957795e-01, 1.70957795e-01,\n",
       "         6.77718448e-05, 6.77718448e-05, 8.00797877e-01, 8.00797877e-01,\n",
       "         5.98683453e-01, 5.98683453e-01, 8.93083913e-01, 8.93083913e-01,\n",
       "         4.08686798e-01, 4.08686798e-01, 8.31480263e-01, 8.31480263e-01,\n",
       "         8.97297629e-01, 8.97297629e-01, 8.56711384e-01, 8.56711384e-01])}}"
      ]
     },
     "execution_count": 1,
     "metadata": {},
     "output_type": "execute_result"
    }
   ],
   "source": [
    "ds = load_by_id(run_id_n)\n",
    "ds.get_parameter_data('x1')"
   ]
  },
  {
   "cell_type": "markdown",
   "metadata": {},
   "source": [
    "And a dataset stored as binary arrays"
   ]
  },
  {
   "cell_type": "code",
   "execution_count": 12,
   "metadata": {
    "execution": {
     "iopub.execute_input": "2020-09-24T10:26:08.870741Z",
     "iopub.status.busy": "2020-09-24T10:26:08.870012Z",
     "iopub.status.idle": "2020-09-24T10:26:08.926787Z",
     "shell.execute_reply": "2020-09-24T10:26:08.926259Z"
    },
    "scrolled": true
   },
   "outputs": [
    {
     "data": {
      "text/plain": [
       "{'x1': {'x1': array([[0.63725613],\n",
       "         [0.63725613],\n",
       "         [0.18310064],\n",
       "         [0.18310064],\n",
       "         [0.93057086],\n",
       "         [0.93057086],\n",
       "         [0.17374428],\n",
       "         [0.17374428],\n",
       "         [0.22982408],\n",
       "         [0.22982408],\n",
       "         [0.3019863 ],\n",
       "         [0.3019863 ],\n",
       "         [0.40053707],\n",
       "         [0.40053707],\n",
       "         [0.12762503],\n",
       "         [0.12762503],\n",
       "         [0.71488499],\n",
       "         [0.71488499],\n",
       "         [0.5253481 ],\n",
       "         [0.5253481 ],\n",
       "         [0.49706802],\n",
       "         [0.49706802],\n",
       "         [0.16745069],\n",
       "         [0.16745069],\n",
       "         [0.77359916],\n",
       "         [0.77359916],\n",
       "         [0.28195682],\n",
       "         [0.28195682],\n",
       "         [0.86828247],\n",
       "         [0.86828247],\n",
       "         [0.55001009],\n",
       "         [0.55001009],\n",
       "         [0.46034772],\n",
       "         [0.46034772],\n",
       "         [0.78693963],\n",
       "         [0.78693963],\n",
       "         [0.7324161 ],\n",
       "         [0.7324161 ],\n",
       "         [0.16438852],\n",
       "         [0.16438852],\n",
       "         [0.23990207],\n",
       "         [0.23990207],\n",
       "         [0.59155102],\n",
       "         [0.59155102],\n",
       "         [0.07397253],\n",
       "         [0.07397253],\n",
       "         [0.81737114],\n",
       "         [0.81737114],\n",
       "         [0.85311579],\n",
       "         [0.85311579],\n",
       "         [0.72449853],\n",
       "         [0.72449853],\n",
       "         [0.24900131],\n",
       "         [0.24900131],\n",
       "         [0.92311946],\n",
       "         [0.92311946],\n",
       "         [0.47488944],\n",
       "         [0.47488944],\n",
       "         [0.99359327],\n",
       "         [0.99359327],\n",
       "         [0.94458151],\n",
       "         [0.94458151],\n",
       "         [0.3382364 ],\n",
       "         [0.3382364 ],\n",
       "         [0.13802459],\n",
       "         [0.13802459],\n",
       "         [0.08049684],\n",
       "         [0.08049684],\n",
       "         [0.14444455],\n",
       "         [0.14444455],\n",
       "         [0.35840552],\n",
       "         [0.35840552],\n",
       "         [0.44635834],\n",
       "         [0.44635834],\n",
       "         [0.30650631],\n",
       "         [0.30650631],\n",
       "         [0.22871522],\n",
       "         [0.22871522],\n",
       "         [0.41687709],\n",
       "         [0.41687709],\n",
       "         [0.78944913],\n",
       "         [0.78944913],\n",
       "         [0.27129085],\n",
       "         [0.27129085],\n",
       "         [0.65155028],\n",
       "         [0.65155028],\n",
       "         [0.02261328],\n",
       "         [0.02261328],\n",
       "         [0.64969294],\n",
       "         [0.64969294],\n",
       "         [0.23034267],\n",
       "         [0.23034267],\n",
       "         [0.13401612],\n",
       "         [0.13401612],\n",
       "         [0.91036643],\n",
       "         [0.91036643],\n",
       "         [0.29012431],\n",
       "         [0.29012431],\n",
       "         [0.82774463],\n",
       "         [0.82774463],\n",
       "         [0.74614458],\n",
       "         [0.74614458],\n",
       "         [0.71481743],\n",
       "         [0.71481743],\n",
       "         [0.15875146],\n",
       "         [0.15875146],\n",
       "         [0.59379342],\n",
       "         [0.59379342],\n",
       "         [0.0139216 ],\n",
       "         [0.0139216 ],\n",
       "         [0.87221925],\n",
       "         [0.87221925],\n",
       "         [0.13955234],\n",
       "         [0.13955234],\n",
       "         [0.437686  ],\n",
       "         [0.437686  ],\n",
       "         [0.56352281],\n",
       "         [0.56352281],\n",
       "         [0.165993  ],\n",
       "         [0.165993  ],\n",
       "         [0.68506001],\n",
       "         [0.68506001],\n",
       "         [0.4215052 ],\n",
       "         [0.4215052 ],\n",
       "         [0.22151251],\n",
       "         [0.22151251],\n",
       "         [0.14360185],\n",
       "         [0.14360185],\n",
       "         [0.13303424],\n",
       "         [0.13303424],\n",
       "         [0.02912383],\n",
       "         [0.02912383],\n",
       "         [0.76748252],\n",
       "         [0.76748252],\n",
       "         [0.42339161],\n",
       "         [0.42339161],\n",
       "         [0.47706871],\n",
       "         [0.47706871],\n",
       "         [0.0048035 ],\n",
       "         [0.0048035 ],\n",
       "         [0.10249867],\n",
       "         [0.10249867],\n",
       "         [0.35054817],\n",
       "         [0.35054817],\n",
       "         [0.79723696],\n",
       "         [0.79723696],\n",
       "         [0.34219562],\n",
       "         [0.34219562],\n",
       "         [0.02698635],\n",
       "         [0.02698635],\n",
       "         [0.50312869],\n",
       "         [0.50312869],\n",
       "         [0.09445767],\n",
       "         [0.09445767],\n",
       "         [0.427568  ],\n",
       "         [0.427568  ],\n",
       "         [0.56004011],\n",
       "         [0.56004011],\n",
       "         [0.76708949],\n",
       "         [0.76708949],\n",
       "         [0.05157631],\n",
       "         [0.05157631],\n",
       "         [0.38683508],\n",
       "         [0.38683508],\n",
       "         [0.74836288],\n",
       "         [0.74836288],\n",
       "         [0.11430762],\n",
       "         [0.11430762],\n",
       "         [0.53077565],\n",
       "         [0.53077565],\n",
       "         [0.47528249],\n",
       "         [0.47528249],\n",
       "         [0.42746981],\n",
       "         [0.42746981],\n",
       "         [0.55358369],\n",
       "         [0.55358369],\n",
       "         [0.46288255],\n",
       "         [0.46288255],\n",
       "         [0.8060152 ],\n",
       "         [0.8060152 ],\n",
       "         [0.86344097],\n",
       "         [0.86344097],\n",
       "         [0.85999224],\n",
       "         [0.85999224],\n",
       "         [0.9066766 ],\n",
       "         [0.9066766 ],\n",
       "         [0.644551  ],\n",
       "         [0.644551  ],\n",
       "         [0.32455495],\n",
       "         [0.32455495],\n",
       "         [0.43254999],\n",
       "         [0.43254999],\n",
       "         [0.24318921],\n",
       "         [0.24318921],\n",
       "         [0.08188845],\n",
       "         [0.08188845],\n",
       "         [0.64107874],\n",
       "         [0.64107874],\n",
       "         [0.43038799],\n",
       "         [0.43038799]])}}"
      ]
     },
     "execution_count": 1,
     "metadata": {},
     "output_type": "execute_result"
    }
   ],
   "source": [
    "ds = load_by_id(run_id_a)\n",
    "ds.get_parameter_data('x1')"
   ]
  },
  {
   "cell_type": "code",
   "execution_count": null,
   "metadata": {},
   "outputs": [],
   "source": []
  }
 ],
 "metadata": {
  "kernelspec": {
   "display_name": "Python 3",
   "language": "python",
   "name": "python3"
  },
  "language_info": {
   "codemirror_mode": {
    "name": "ipython",
    "version": 3
   },
   "file_extension": ".py",
   "mimetype": "text/x-python",
   "name": "python",
   "nbconvert_exporter": "python",
   "pygments_lexer": "ipython3",
   "version": "3.7.7"
  },
  "nbsphinx": {
   "timeout": 600
  },
  "toc": {
   "base_numbering": 1,
   "nav_menu": {},
   "number_sections": true,
   "sideBar": true,
   "skip_h1_title": false,
   "title_cell": "Table of Contents",
   "title_sidebar": "Contents",
   "toc_cell": false,
   "toc_position": {},
   "toc_section_display": true,
   "toc_window_display": false
  },
  "varInspector": {
   "cols": {
    "lenName": 16,
    "lenType": 16,
    "lenVar": 40
   },
   "kernels_config": {
    "python": {
     "delete_cmd_postfix": "",
     "delete_cmd_prefix": "del ",
     "library": "var_list.py",
     "varRefreshCmd": "print(var_dic_list())"
    },
    "r": {
     "delete_cmd_postfix": ") ",
     "delete_cmd_prefix": "rm(",
     "library": "var_list.r",
     "varRefreshCmd": "cat(var_dic_list()) "
    }
   },
   "types_to_exclude": [
    "module",
    "function",
    "builtin_function_or_method",
    "instance",
    "_Feature"
   ],
   "window_display": false
  }
 },
 "nbformat": 4,
 "nbformat_minor": 2
}
