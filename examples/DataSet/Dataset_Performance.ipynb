{
 "cells": [
  {
   "cell_type": "markdown",
   "metadata": {},
   "source": [
    "# DataSet Performance\n",
    "\n",
    "This notebook shows the trade-off between inserting data into a database row-by-row and as binary blobs. Inserting the data row-by-row means that we have direct access to all the data and may perform queries directly on the values of the data. On the other hand, as we shall see, this is much slower than inserting the data directly as binary blobs."
   ]
  },
  {
   "cell_type": "markdown",
   "metadata": {},
   "source": [
    "First, we choose a new location for the database to ensure that we don't add a bunch of benchmarking data to the default one."
   ]
  },
  {
   "cell_type": "code",
   "execution_count": 1,
   "metadata": {
    "execution": {
     "iopub.execute_input": "2020-12-16T09:39:14.982393Z",
     "iopub.status.busy": "2020-12-16T09:39:14.981868Z",
     "iopub.status.idle": "2020-12-16T09:39:16.109582Z",
     "shell.execute_reply": "2020-12-16T09:39:16.108503Z"
    }
   },
   "outputs": [
    {
     "name": "stdout",
     "output_type": "stream",
     "text": [
      "Logging hadn't been started.\n",
      "Activating auto-logging. Current session state plus future input saved.\n",
      "Filename       : /home/vsts/.qcodes/logs/command_history.log\n",
      "Mode           : append\n",
      "Output logging : True\n",
      "Raw input log  : False\n",
      "Timestamping   : True\n",
      "State          : active\n"
     ]
    },
    {
     "name": "stdout",
     "output_type": "stream",
     "text": [
      "Qcodes Logfile : /home/vsts/.qcodes/logs/201216-14552-qcodes.log\n"
     ]
    }
   ],
   "source": [
    "import os\n",
    "cwd = os.getcwd()\n",
    "import qcodes as qc\n",
    "qc.config[\"core\"][\"db_location\"] = os.path.join(cwd, 'testing.db')\n"
   ]
  },
  {
   "cell_type": "code",
   "execution_count": 2,
   "metadata": {
    "execution": {
     "iopub.execute_input": "2020-12-16T09:39:16.116044Z",
     "iopub.status.busy": "2020-12-16T09:39:16.115474Z",
     "iopub.status.idle": "2020-12-16T09:39:16.313826Z",
     "shell.execute_reply": "2020-12-16T09:39:16.313174Z"
    }
   },
   "outputs": [],
   "source": [
    "%matplotlib inline\n",
    "import time\n",
    "import matplotlib.pyplot as plt\n",
    "import numpy as np\n",
    "\n",
    "import qcodes as qc\n",
    "from qcodes.instrument.parameter import ManualParameter\n",
    "from qcodes.dataset.experiment_container import (Experiment,\n",
    "                                                 load_last_experiment,\n",
    "                                                 new_experiment)\n",
    "from qcodes.dataset.sqlite.database import initialise_database\n",
    "from qcodes import load_or_create_experiment\n",
    "from qcodes.dataset.measurements import Measurement"
   ]
  },
  {
   "cell_type": "code",
   "execution_count": 3,
   "metadata": {
    "execution": {
     "iopub.execute_input": "2020-12-16T09:39:16.317499Z",
     "iopub.status.busy": "2020-12-16T09:39:16.316950Z",
     "iopub.status.idle": "2020-12-16T09:39:16.427771Z",
     "shell.execute_reply": "2020-12-16T09:39:16.427201Z"
    }
   },
   "outputs": [
    {
     "name": "stdout",
     "output_type": "stream",
     "text": [
      "\r",
      "0it [00:00, ?it/s]"
     ]
    },
    {
     "name": "stdout",
     "output_type": "stream",
     "text": [
      "\r",
      "Upgrading database; v0 -> v1: : 0it [00:00, ?it/s]"
     ]
    },
    {
     "name": "stdout",
     "output_type": "stream",
     "text": [
      "\r",
      "Upgrading database; v0 -> v1: : 0it [00:00, ?it/s]"
     ]
    },
    {
     "name": "stdout",
     "output_type": "stream",
     "text": [
      "\n",
      "\r",
      "  0%|          | 0/1 [00:00<?, ?it/s]"
     ]
    },
    {
     "name": "stdout",
     "output_type": "stream",
     "text": [
      "\r",
      "Upgrading database; v1 -> v2:   0%|          | 0/1 [00:00<?, ?it/s]"
     ]
    },
    {
     "name": "stdout",
     "output_type": "stream",
     "text": [
      "\r",
      "Upgrading database; v1 -> v2: 100%|██████████| 1/1 [00:00<00:00, 493.56it/s]"
     ]
    },
    {
     "name": "stdout",
     "output_type": "stream",
     "text": [
      "\n",
      "\r",
      "0it [00:00, ?it/s]"
     ]
    },
    {
     "name": "stdout",
     "output_type": "stream",
     "text": [
      "\r",
      "Upgrading database; v2 -> v3: : 0it [00:00, ?it/s]"
     ]
    },
    {
     "name": "stdout",
     "output_type": "stream",
     "text": [
      "\r",
      "Upgrading database; v2 -> v3: : 0it [00:00, ?it/s]"
     ]
    },
    {
     "name": "stdout",
     "output_type": "stream",
     "text": [
      "\n",
      "\r",
      "0it [00:00, ?it/s]"
     ]
    },
    {
     "name": "stdout",
     "output_type": "stream",
     "text": [
      "\r",
      "Upgrading database; v3 -> v4: : 0it [00:00, ?it/s]"
     ]
    },
    {
     "name": "stdout",
     "output_type": "stream",
     "text": [
      "\r",
      "Upgrading database; v3 -> v4: : 0it [00:00, ?it/s]"
     ]
    },
    {
     "name": "stdout",
     "output_type": "stream",
     "text": [
      "\n",
      "\r",
      "  0%|          | 0/1 [00:00<?, ?it/s]"
     ]
    },
    {
     "name": "stdout",
     "output_type": "stream",
     "text": [
      "\r",
      "Upgrading database; v4 -> v5:   0%|          | 0/1 [00:00<?, ?it/s]"
     ]
    },
    {
     "name": "stdout",
     "output_type": "stream",
     "text": [
      "\r",
      "Upgrading database; v4 -> v5: 100%|██████████| 1/1 [00:00<00:00, 444.92it/s]"
     ]
    },
    {
     "name": "stdout",
     "output_type": "stream",
     "text": [
      "\n",
      "\r",
      "0it [00:00, ?it/s]"
     ]
    },
    {
     "name": "stdout",
     "output_type": "stream",
     "text": [
      "\r",
      "Upgrading database; v5 -> v6: : 0it [00:00, ?it/s]"
     ]
    },
    {
     "name": "stdout",
     "output_type": "stream",
     "text": [
      "\r",
      "Upgrading database; v5 -> v6: : 0it [00:00, ?it/s]"
     ]
    },
    {
     "name": "stdout",
     "output_type": "stream",
     "text": [
      "\n",
      "\r",
      "  0%|          | 0/1 [00:00<?, ?it/s]"
     ]
    },
    {
     "name": "stdout",
     "output_type": "stream",
     "text": [
      "\r",
      "Upgrading database; v6 -> v7:   0%|          | 0/1 [00:00<?, ?it/s]"
     ]
    },
    {
     "name": "stdout",
     "output_type": "stream",
     "text": [
      "\r",
      "Upgrading database; v6 -> v7: 100%|██████████| 1/1 [00:00<00:00, 494.15it/s]"
     ]
    },
    {
     "name": "stdout",
     "output_type": "stream",
     "text": [
      "\n",
      "\r",
      "  0%|          | 0/1 [00:00<?, ?it/s]"
     ]
    },
    {
     "name": "stdout",
     "output_type": "stream",
     "text": [
      "\r",
      "Upgrading database; v7 -> v8:   0%|          | 0/1 [00:00<?, ?it/s]"
     ]
    },
    {
     "name": "stdout",
     "output_type": "stream",
     "text": [
      "\r",
      "Upgrading database; v7 -> v8: 100%|██████████| 1/1 [00:00<00:00, 565.96it/s]"
     ]
    },
    {
     "name": "stdout",
     "output_type": "stream",
     "text": [
      "\n",
      "\r",
      "  0%|          | 0/1 [00:00<?, ?it/s]"
     ]
    },
    {
     "name": "stdout",
     "output_type": "stream",
     "text": [
      "\r",
      "Upgrading database; v8 -> v9:   0%|          | 0/1 [00:00<?, ?it/s]"
     ]
    },
    {
     "name": "stdout",
     "output_type": "stream",
     "text": [
      "\r",
      "Upgrading database; v8 -> v9: 100%|██████████| 1/1 [00:00<00:00, 617.63it/s]"
     ]
    },
    {
     "name": "stdout",
     "output_type": "stream",
     "text": [
      "\n"
     ]
    }
   ],
   "source": [
    "initialise_database()\n",
    "exp = load_or_create_experiment(experiment_name='tutorial_exp', sample_name=\"no sample\")"
   ]
  },
  {
   "cell_type": "markdown",
   "metadata": {},
   "source": [
    "Here, we define a simple function to benchmark the time it takes to insert n points with either numeric or array data type.\n",
    "We will compare both the time used to call ``add_result`` and the time used for the full measurement."
   ]
  },
  {
   "cell_type": "code",
   "execution_count": 4,
   "metadata": {
    "execution": {
     "iopub.execute_input": "2020-12-16T09:39:16.437208Z",
     "iopub.status.busy": "2020-12-16T09:39:16.435976Z",
     "iopub.status.idle": "2020-12-16T09:39:16.437747Z",
     "shell.execute_reply": "2020-12-16T09:39:16.438285Z"
    }
   },
   "outputs": [],
   "source": [
    "def insert_data(paramtype, npoints, nreps=1):\n",
    "\n",
    "    meas = Measurement(exp=exp)\n",
    "\n",
    "    x1 = ManualParameter('x1')\n",
    "    x2 = ManualParameter('x2')\n",
    "    x3 = ManualParameter('x3')\n",
    "    y1 = ManualParameter('y1')\n",
    "    y2 = ManualParameter('y2')\n",
    "\n",
    "    meas.register_parameter(x1, paramtype=paramtype)\n",
    "    meas.register_parameter(x2, paramtype=paramtype)\n",
    "    meas.register_parameter(x3, paramtype=paramtype)\n",
    "    meas.register_parameter(y1, setpoints=[x1, x2, x3],\n",
    "                            paramtype=paramtype)\n",
    "    meas.register_parameter(y2, setpoints=[x1, x2, x3],\n",
    "                            paramtype=paramtype)\n",
    "    start = time.perf_counter()\n",
    "    with meas.run() as datasaver:\n",
    "        start_adding = time.perf_counter()\n",
    "        for i in range(nreps):\n",
    "            datasaver.add_result((x1, np.random.rand(npoints)),\n",
    "                                 (x2, np.random.rand(npoints)),\n",
    "                                 (x3, np.random.rand(npoints)),\n",
    "                                 (y1, np.random.rand(npoints)),\n",
    "                                 (y2, np.random.rand(npoints)))\n",
    "        stop_adding = time.perf_counter()\n",
    "        run_id = datasaver.run_id\n",
    "    stop = time.perf_counter()\n",
    "    tot_time = stop - start\n",
    "    add_time = stop_adding - start_adding\n",
    "    return tot_time, add_time, run_id"
   ]
  },
  {
   "cell_type": "markdown",
   "metadata": {},
   "source": [
    "## Comparison between numeric/array data and binary blob"
   ]
  },
  {
   "cell_type": "markdown",
   "metadata": {},
   "source": [
    "### Case1: Short experiment time"
   ]
  },
  {
   "cell_type": "code",
   "execution_count": 5,
   "metadata": {
    "execution": {
     "iopub.execute_input": "2020-12-16T09:39:16.444872Z",
     "iopub.status.busy": "2020-12-16T09:39:16.444184Z",
     "iopub.status.idle": "2020-12-16T09:39:17.316387Z",
     "shell.execute_reply": "2020-12-16T09:39:17.315675Z"
    }
   },
   "outputs": [
    {
     "name": "stdout",
     "output_type": "stream",
     "text": [
      "Starting experimental run with id: 1. \n",
      "Starting experimental run with id: 2. \n",
      "Starting experimental run with id: 3. \n",
      "Starting experimental run with id: 4. \n",
      "Starting experimental run with id: 5. \n"
     ]
    },
    {
     "name": "stdout",
     "output_type": "stream",
     "text": [
      "Starting experimental run with id: 6. \n"
     ]
    },
    {
     "name": "stdout",
     "output_type": "stream",
     "text": [
      "Starting experimental run with id: 7. \n"
     ]
    },
    {
     "name": "stdout",
     "output_type": "stream",
     "text": [
      "Starting experimental run with id: 8. \n",
      "Starting experimental run with id: 9. \n"
     ]
    },
    {
     "name": "stdout",
     "output_type": "stream",
     "text": [
      "Starting experimental run with id: 10. \n",
      "Starting experimental run with id: 11. \n"
     ]
    },
    {
     "name": "stdout",
     "output_type": "stream",
     "text": [
      "Starting experimental run with id: 12. \n",
      "Starting experimental run with id: 13. \n"
     ]
    },
    {
     "name": "stdout",
     "output_type": "stream",
     "text": [
      "Starting experimental run with id: 14. \n"
     ]
    }
   ],
   "source": [
    "sizes = [1,500,1000,2000,3000,4000,5000]\n",
    "t_numeric = []\n",
    "t_numeric_add = []\n",
    "t_array = []\n",
    "t_array_add = []\n",
    "for size in sizes:\n",
    "    tn, tna, run_id_n =  insert_data('numeric', size)\n",
    "    t_numeric.append(tn)\n",
    "    t_numeric_add.append(tna)\n",
    "\n",
    "    ta, taa, run_id_a =  insert_data('array', size)\n",
    "    t_array.append(ta)\n",
    "    t_array_add.append(taa)"
   ]
  },
  {
   "cell_type": "code",
   "execution_count": 6,
   "metadata": {
    "execution": {
     "iopub.execute_input": "2020-12-16T09:39:17.347530Z",
     "iopub.status.busy": "2020-12-16T09:39:17.334094Z",
     "iopub.status.idle": "2020-12-16T09:39:17.521845Z",
     "shell.execute_reply": "2020-12-16T09:39:17.522267Z"
    }
   },
   "outputs": [
    {
     "data": {
      "image/png": "[encoded data removed]",
      "text/plain": [
       "<Figure size 432x288 with 1 Axes>"
      ]
     },
     "metadata": {
      "needs_background": "light"
     },
     "output_type": "display_data"
    }
   ],
   "source": [
    "fig, ax = plt.subplots(1,1)\n",
    "ax.plot(sizes, t_numeric, 'o-', label='Inserting row-by-row')\n",
    "ax.plot(sizes, t_numeric_add, 'o-', label='Inserting row-by-row: add_result only')\n",
    "ax.plot(sizes, t_array, 'd-', label='Inserting as binary blob')\n",
    "ax.plot(sizes, t_array_add, 'd-', label='Inserting as binary blob: add_result only')\n",
    "ax.legend()\n",
    "ax.set_xlabel('Array length')\n",
    "ax.set_ylabel('Time (s)')\n",
    "fig.tight_layout()"
   ]
  },
  {
   "cell_type": "markdown",
   "metadata": {},
   "source": [
    "As shown in the latter figure, the time to setup and and close the experiment is approximately 0.4 sec. In case of small array sizes, the difference between inserting values of data as arrays and inserting them row-by-row is relatively unimportant. At larger array sizes, i.e. above 10000 points, the cost of writing data as individual datapoints starts to become important.\n"
   ]
  },
  {
   "cell_type": "markdown",
   "metadata": {},
   "source": [
    "### Case2: Long experiment time "
   ]
  },
  {
   "cell_type": "code",
   "execution_count": 7,
   "metadata": {
    "execution": {
     "iopub.execute_input": "2020-12-16T09:39:17.529901Z",
     "iopub.status.busy": "2020-12-16T09:39:17.528790Z",
     "iopub.status.idle": "2020-12-16T09:40:17.961318Z",
     "shell.execute_reply": "2020-12-16T09:40:17.960351Z"
    }
   },
   "outputs": [
    {
     "name": "stdout",
     "output_type": "stream",
     "text": [
      "Starting experimental run with id: 15. \n",
      "Starting experimental run with id: 16. \n",
      "Starting experimental run with id: 17. \n"
     ]
    },
    {
     "name": "stdout",
     "output_type": "stream",
     "text": [
      "Starting experimental run with id: 18. \n",
      "Starting experimental run with id: 19. \n"
     ]
    },
    {
     "name": "stdout",
     "output_type": "stream",
     "text": [
      "Starting experimental run with id: 20. \n"
     ]
    },
    {
     "name": "stdout",
     "output_type": "stream",
     "text": [
      "Starting experimental run with id: 21. \n"
     ]
    },
    {
     "name": "stdout",
     "output_type": "stream",
     "text": [
      "Starting experimental run with id: 22. \n"
     ]
    },
    {
     "name": "stdout",
     "output_type": "stream",
     "text": [
      "Starting experimental run with id: 23. \n"
     ]
    },
    {
     "name": "stdout",
     "output_type": "stream",
     "text": [
      "Starting experimental run with id: 24. \n"
     ]
    },
    {
     "name": "stdout",
     "output_type": "stream",
     "text": [
      "Starting experimental run with id: 25. \n"
     ]
    },
    {
     "name": "stdout",
     "output_type": "stream",
     "text": [
      "Starting experimental run with id: 26. \n"
     ]
    },
    {
     "name": "stdout",
     "output_type": "stream",
     "text": [
      "Starting experimental run with id: 27. \n"
     ]
    },
    {
     "name": "stdout",
     "output_type": "stream",
     "text": [
      "Starting experimental run with id: 28. \n"
     ]
    }
   ],
   "source": [
    "sizes = [1,500,1000,2000,3000,4000,5000]\n",
    "nreps = 100\n",
    "t_numeric = []\n",
    "t_numeric_add = []\n",
    "t_numeric_run_ids = []\n",
    "t_array = []\n",
    "t_array_add = []\n",
    "t_array_run_ids = []\n",
    "for size in sizes:\n",
    "    tn, tna, run_id_n =  insert_data('numeric', size, nreps=nreps)\n",
    "    t_numeric.append(tn)\n",
    "    t_numeric_add.append(tna)\n",
    "    t_numeric_run_ids.append(run_id_n)\n",
    "\n",
    "    ta, taa, run_id_a =  insert_data('array', size, nreps=nreps)\n",
    "    t_array.append(ta)\n",
    "    t_array_add.append(taa)\n",
    "    t_array_run_ids.append(run_id_a)"
   ]
  },
  {
   "cell_type": "code",
   "execution_count": 8,
   "metadata": {
    "execution": {
     "iopub.execute_input": "2020-12-16T09:40:17.967340Z",
     "iopub.status.busy": "2020-12-16T09:40:17.966818Z",
     "iopub.status.idle": "2020-12-16T09:40:18.161691Z",
     "shell.execute_reply": "2020-12-16T09:40:18.162239Z"
    },
    "scrolled": true
   },
   "outputs": [
    {
     "data": {
      "image/png": "[encoded data removed]",
      "text/plain": [
       "<Figure size 432x288 with 1 Axes>"
      ]
     },
     "metadata": {
      "needs_background": "light"
     },
     "output_type": "display_data"
    }
   ],
   "source": [
    "fig, ax = plt.subplots(1,1)\n",
    "ax.plot(sizes, t_numeric, 'o-', label='Inserting row-by-row')\n",
    "ax.plot(sizes, t_numeric_add, 'o-', label='Inserting row-by-row: add_result only')\n",
    "ax.plot(sizes, t_array, 'd-', label='Inserting as binary blob')\n",
    "ax.plot(sizes, t_array_add, 'd-', label='Inserting as binary blob: add_result only')\n",
    "ax.legend()\n",
    "ax.set_xlabel('Array length')\n",
    "ax.set_ylabel('Time (s)')\n",
    "fig.tight_layout()"
   ]
  },
  {
   "cell_type": "markdown",
   "metadata": {},
   "source": [
    "However, as we increase the length of the experiment, as seen here by repeating the insertion 100 times, we see a big difference between inserting values of the data row-by-row and inserting it as a binary blob."
   ]
  },
  {
   "cell_type": "markdown",
   "metadata": {},
   "source": [
    "## Loading the data "
   ]
  },
  {
   "cell_type": "code",
   "execution_count": 9,
   "metadata": {
    "execution": {
     "iopub.execute_input": "2020-12-16T09:40:18.166900Z",
     "iopub.status.busy": "2020-12-16T09:40:18.166078Z",
     "iopub.status.idle": "2020-12-16T09:40:18.170973Z",
     "shell.execute_reply": "2020-12-16T09:40:18.170022Z"
    }
   },
   "outputs": [],
   "source": [
    "from qcodes.dataset.data_set import load_by_id\n",
    "from qcodes.dataset.data_export import get_data_by_id"
   ]
  },
  {
   "cell_type": "markdown",
   "metadata": {},
   "source": [
    "As usual you can load the data by using the ``load_by_id`` function but you will notice that the different storage methods\n",
    "are reflected in shape of the data as it is retrieved. "
   ]
  },
  {
   "cell_type": "code",
   "execution_count": 10,
   "metadata": {
    "execution": {
     "iopub.execute_input": "2020-12-16T09:40:18.175118Z",
     "iopub.status.busy": "2020-12-16T09:40:18.173790Z",
     "iopub.status.idle": "2020-12-16T09:40:18.177481Z",
     "shell.execute_reply": "2020-12-16T09:40:18.178137Z"
    }
   },
   "outputs": [],
   "source": [
    "run_id_n = t_numeric_run_ids[0]\n",
    "run_id_a = t_array_run_ids[0]"
   ]
  },
  {
   "cell_type": "code",
   "execution_count": 11,
   "metadata": {
    "execution": {
     "iopub.execute_input": "2020-12-16T09:40:18.182076Z",
     "iopub.status.busy": "2020-12-16T09:40:18.181017Z",
     "iopub.status.idle": "2020-12-16T09:40:18.192663Z",
     "shell.execute_reply": "2020-12-16T09:40:18.193315Z"
    },
    "scrolled": true
   },
   "outputs": [
    {
     "data": {
      "text/plain": [
       "{'x1': {'x1': array([0.84100572, 0.84100572, 0.28458067, 0.28458067, 0.65083317,\n",
       "         0.65083317, 0.10013639, 0.10013639, 0.96982698, 0.96982698,\n",
       "         0.59619198, 0.59619198, 0.5184222 , 0.5184222 , 0.27789707,\n",
       "         0.27789707, 0.78032272, 0.78032272, 0.0621929 , 0.0621929 ,\n",
       "         0.26196232, 0.26196232, 0.01285434, 0.01285434, 0.53814897,\n",
       "         0.53814897, 0.09125375, 0.09125375, 0.32411559, 0.32411559,\n",
       "         0.84478701, 0.84478701, 0.46615523, 0.46615523, 0.3556523 ,\n",
       "         0.3556523 , 0.2947188 , 0.2947188 , 0.20967197, 0.20967197,\n",
       "         0.35487725, 0.35487725, 0.35126313, 0.35126313, 0.30770564,\n",
       "         0.30770564, 0.22552442, 0.22552442, 0.5346984 , 0.5346984 ,\n",
       "         0.17168743, 0.17168743, 0.832628  , 0.832628  , 0.04191323,\n",
       "         0.04191323, 0.90742591, 0.90742591, 0.4466159 , 0.4466159 ,\n",
       "         0.88279693, 0.88279693, 0.74764251, 0.74764251, 0.22461804,\n",
       "         0.22461804, 0.41388343, 0.41388343, 0.2591846 , 0.2591846 ,\n",
       "         0.64677681, 0.64677681, 0.33978438, 0.33978438, 0.39860973,\n",
       "         0.39860973, 0.81643925, 0.81643925, 0.30973653, 0.30973653,\n",
       "         0.95054744, 0.95054744, 0.58632398, 0.58632398, 0.07345997,\n",
       "         0.07345997, 0.07646664, 0.07646664, 0.36383547, 0.36383547,\n",
       "         0.26559187, 0.26559187, 0.22876054, 0.22876054, 0.35614879,\n",
       "         0.35614879, 0.78736769, 0.78736769, 0.03263335, 0.03263335,\n",
       "         0.34893952, 0.34893952, 0.24161754, 0.24161754, 0.38370084,\n",
       "         0.38370084, 0.92843494, 0.92843494, 0.13690723, 0.13690723,\n",
       "         0.28320046, 0.28320046, 0.54459087, 0.54459087, 0.12766684,\n",
       "         0.12766684, 0.11936788, 0.11936788, 0.13441581, 0.13441581,\n",
       "         0.5637217 , 0.5637217 , 0.08014483, 0.08014483, 0.37712528,\n",
       "         0.37712528, 0.27027803, 0.27027803, 0.89626234, 0.89626234,\n",
       "         0.63339485, 0.63339485, 0.39793743, 0.39793743, 0.47628994,\n",
       "         0.47628994, 0.54839052, 0.54839052, 0.59824177, 0.59824177,\n",
       "         0.72612527, 0.72612527, 0.28579964, 0.28579964, 0.11762132,\n",
       "         0.11762132, 0.12394045, 0.12394045, 0.1504056 , 0.1504056 ,\n",
       "         0.44897986, 0.44897986, 0.88892418, 0.88892418, 0.86275143,\n",
       "         0.86275143, 0.72969272, 0.72969272, 0.61669446, 0.61669446,\n",
       "         0.97326704, 0.97326704, 0.06460812, 0.06460812, 0.61022618,\n",
       "         0.61022618, 0.82292285, 0.82292285, 0.59633235, 0.59633235,\n",
       "         0.68746483, 0.68746483, 0.19550909, 0.19550909, 0.57507274,\n",
       "         0.57507274, 0.89184306, 0.89184306, 0.21412566, 0.21412566,\n",
       "         0.48191885, 0.48191885, 0.2407886 , 0.2407886 , 0.69905352,\n",
       "         0.69905352, 0.18153299, 0.18153299, 0.86654683, 0.86654683,\n",
       "         0.92924588, 0.92924588, 0.77704937, 0.77704937, 0.18371509,\n",
       "         0.18371509, 0.71364037, 0.71364037, 0.75610943, 0.75610943])}}"
      ]
     },
     "execution_count": 1,
     "metadata": {},
     "output_type": "execute_result"
    }
   ],
   "source": [
    "ds = load_by_id(run_id_n)\n",
    "ds.get_parameter_data('x1')"
   ]
  },
  {
   "cell_type": "markdown",
   "metadata": {},
   "source": [
    "And a dataset stored as binary arrays"
   ]
  },
  {
   "cell_type": "code",
   "execution_count": 12,
   "metadata": {
    "execution": {
     "iopub.execute_input": "2020-12-16T09:40:18.196812Z",
     "iopub.status.busy": "2020-12-16T09:40:18.195993Z",
     "iopub.status.idle": "2020-12-16T09:40:18.253258Z",
     "shell.execute_reply": "2020-12-16T09:40:18.252792Z"
    },
    "scrolled": true
   },
   "outputs": [
    {
     "data": {
      "text/plain": [
       "{'x1': {'x1': array([[0.58914914],\n",
       "         [0.58914914],\n",
       "         [0.64095614],\n",
       "         [0.64095614],\n",
       "         [0.28549235],\n",
       "         [0.28549235],\n",
       "         [0.00268208],\n",
       "         [0.00268208],\n",
       "         [0.21593527],\n",
       "         [0.21593527],\n",
       "         [0.61166427],\n",
       "         [0.61166427],\n",
       "         [0.45067916],\n",
       "         [0.45067916],\n",
       "         [0.75796123],\n",
       "         [0.75796123],\n",
       "         [0.44596815],\n",
       "         [0.44596815],\n",
       "         [0.83655035],\n",
       "         [0.83655035],\n",
       "         [0.97918055],\n",
       "         [0.97918055],\n",
       "         [0.82653644],\n",
       "         [0.82653644],\n",
       "         [0.68336155],\n",
       "         [0.68336155],\n",
       "         [0.257918  ],\n",
       "         [0.257918  ],\n",
       "         [0.63549614],\n",
       "         [0.63549614],\n",
       "         [0.15652292],\n",
       "         [0.15652292],\n",
       "         [0.11580109],\n",
       "         [0.11580109],\n",
       "         [0.46509371],\n",
       "         [0.46509371],\n",
       "         [0.0525136 ],\n",
       "         [0.0525136 ],\n",
       "         [0.36220668],\n",
       "         [0.36220668],\n",
       "         [0.70008259],\n",
       "         [0.70008259],\n",
       "         [0.83622231],\n",
       "         [0.83622231],\n",
       "         [0.27013834],\n",
       "         [0.27013834],\n",
       "         [0.60094646],\n",
       "         [0.60094646],\n",
       "         [0.21292115],\n",
       "         [0.21292115],\n",
       "         [0.2066198 ],\n",
       "         [0.2066198 ],\n",
       "         [0.27950145],\n",
       "         [0.27950145],\n",
       "         [0.7983156 ],\n",
       "         [0.7983156 ],\n",
       "         [0.15633428],\n",
       "         [0.15633428],\n",
       "         [0.502443  ],\n",
       "         [0.502443  ],\n",
       "         [0.4769484 ],\n",
       "         [0.4769484 ],\n",
       "         [0.7505289 ],\n",
       "         [0.7505289 ],\n",
       "         [0.43323417],\n",
       "         [0.43323417],\n",
       "         [0.55898303],\n",
       "         [0.55898303],\n",
       "         [0.1974034 ],\n",
       "         [0.1974034 ],\n",
       "         [0.48666821],\n",
       "         [0.48666821],\n",
       "         [0.66085083],\n",
       "         [0.66085083],\n",
       "         [0.0024805 ],\n",
       "         [0.0024805 ],\n",
       "         [0.1654331 ],\n",
       "         [0.1654331 ],\n",
       "         [0.80141748],\n",
       "         [0.80141748],\n",
       "         [0.21724472],\n",
       "         [0.21724472],\n",
       "         [0.77010032],\n",
       "         [0.77010032],\n",
       "         [0.64513178],\n",
       "         [0.64513178],\n",
       "         [0.77961933],\n",
       "         [0.77961933],\n",
       "         [0.40855491],\n",
       "         [0.40855491],\n",
       "         [0.36209102],\n",
       "         [0.36209102],\n",
       "         [0.55172943],\n",
       "         [0.55172943],\n",
       "         [0.36954596],\n",
       "         [0.36954596],\n",
       "         [0.86474516],\n",
       "         [0.86474516],\n",
       "         [0.68219637],\n",
       "         [0.68219637],\n",
       "         [0.99390237],\n",
       "         [0.99390237],\n",
       "         [0.82404342],\n",
       "         [0.82404342],\n",
       "         [0.095768  ],\n",
       "         [0.095768  ],\n",
       "         [0.15008591],\n",
       "         [0.15008591],\n",
       "         [0.39894986],\n",
       "         [0.39894986],\n",
       "         [0.35185258],\n",
       "         [0.35185258],\n",
       "         [0.95741227],\n",
       "         [0.95741227],\n",
       "         [0.65953183],\n",
       "         [0.65953183],\n",
       "         [0.84412125],\n",
       "         [0.84412125],\n",
       "         [0.86940075],\n",
       "         [0.86940075],\n",
       "         [0.15407756],\n",
       "         [0.15407756],\n",
       "         [0.59152916],\n",
       "         [0.59152916],\n",
       "         [0.63054758],\n",
       "         [0.63054758],\n",
       "         [0.10184887],\n",
       "         [0.10184887],\n",
       "         [0.28558399],\n",
       "         [0.28558399],\n",
       "         [0.01761294],\n",
       "         [0.01761294],\n",
       "         [0.11098548],\n",
       "         [0.11098548],\n",
       "         [0.0258174 ],\n",
       "         [0.0258174 ],\n",
       "         [0.01479661],\n",
       "         [0.01479661],\n",
       "         [0.16823853],\n",
       "         [0.16823853],\n",
       "         [0.39722181],\n",
       "         [0.39722181],\n",
       "         [0.30742843],\n",
       "         [0.30742843],\n",
       "         [0.32024427],\n",
       "         [0.32024427],\n",
       "         [0.68798208],\n",
       "         [0.68798208],\n",
       "         [0.69156092],\n",
       "         [0.69156092],\n",
       "         [0.34810339],\n",
       "         [0.34810339],\n",
       "         [0.91388198],\n",
       "         [0.91388198],\n",
       "         [0.58194472],\n",
       "         [0.58194472],\n",
       "         [0.39499334],\n",
       "         [0.39499334],\n",
       "         [0.04547542],\n",
       "         [0.04547542],\n",
       "         [0.48827827],\n",
       "         [0.48827827],\n",
       "         [0.70314083],\n",
       "         [0.70314083],\n",
       "         [0.97176817],\n",
       "         [0.97176817],\n",
       "         [0.50066635],\n",
       "         [0.50066635],\n",
       "         [0.16094571],\n",
       "         [0.16094571],\n",
       "         [0.00395746],\n",
       "         [0.00395746],\n",
       "         [0.05825305],\n",
       "         [0.05825305],\n",
       "         [0.8680433 ],\n",
       "         [0.8680433 ],\n",
       "         [0.61868992],\n",
       "         [0.61868992],\n",
       "         [0.92842939],\n",
       "         [0.92842939],\n",
       "         [0.3113443 ],\n",
       "         [0.3113443 ],\n",
       "         [0.09593449],\n",
       "         [0.09593449],\n",
       "         [0.71111899],\n",
       "         [0.71111899],\n",
       "         [0.01205748],\n",
       "         [0.01205748],\n",
       "         [0.87881959],\n",
       "         [0.87881959],\n",
       "         [0.35870159],\n",
       "         [0.35870159],\n",
       "         [0.98187956],\n",
       "         [0.98187956],\n",
       "         [0.75183664],\n",
       "         [0.75183664],\n",
       "         [0.2881213 ],\n",
       "         [0.2881213 ],\n",
       "         [0.85378787],\n",
       "         [0.85378787]])}}"
      ]
     },
     "execution_count": 1,
     "metadata": {},
     "output_type": "execute_result"
    }
   ],
   "source": [
    "ds = load_by_id(run_id_a)\n",
    "ds.get_parameter_data('x1')"
   ]
  },
  {
   "cell_type": "code",
   "execution_count": null,
   "metadata": {},
   "outputs": [],
   "source": []
  }
 ],
 "metadata": {
  "kernelspec": {
   "display_name": "Python 3",
   "language": "python",
   "name": "python3"
  },
  "language_info": {
   "codemirror_mode": {
    "name": "ipython",
    "version": 3
   },
   "file_extension": ".py",
   "mimetype": "text/x-python",
   "name": "python",
   "nbconvert_exporter": "python",
   "pygments_lexer": "ipython3",
   "version": "3.7.9"
  },
  "nbsphinx": {
   "timeout": 600
  },
  "toc": {
   "base_numbering": 1,
   "nav_menu": {},
   "number_sections": true,
   "sideBar": true,
   "skip_h1_title": false,
   "title_cell": "Table of Contents",
   "title_sidebar": "Contents",
   "toc_cell": false,
   "toc_position": {},
   "toc_section_display": true,
   "toc_window_display": false
  },
  "varInspector": {
   "cols": {
    "lenName": 16,
    "lenType": 16,
    "lenVar": 40
   },
   "kernels_config": {
    "python": {
     "delete_cmd_postfix": "",
     "delete_cmd_prefix": "del ",
     "library": "var_list.py",
     "varRefreshCmd": "print(var_dic_list())"
    },
    "r": {
     "delete_cmd_postfix": ") ",
     "delete_cmd_prefix": "rm(",
     "library": "var_list.r",
     "varRefreshCmd": "cat(var_dic_list()) "
    }
   },
   "types_to_exclude": [
    "module",
    "function",
    "builtin_function_or_method",
    "instance",
    "_Feature"
   ],
   "window_display": false
  }
 },
 "nbformat": 4,
 "nbformat_minor": 2
}
