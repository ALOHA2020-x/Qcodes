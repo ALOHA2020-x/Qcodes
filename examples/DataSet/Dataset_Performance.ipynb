{
 "cells": [
  {
   "cell_type": "markdown",
   "metadata": {},
   "source": [
    "# DataSet Performance\n",
    "\n",
    "This notebook shows the trade-off between inserting data into a database row-by-row and as binary blobs. Inserting the data row-by-row means that we have direct access to all the data and may perform queries directly on the values of the data. On the other hand, as we shall see, this is much slower than inserting the data directly as binary blobs."
   ]
  },
  {
   "cell_type": "markdown",
   "metadata": {},
   "source": [
    "First, we choose a new location for the database to ensure that we don't add a bunch of benchmarking data to the default one."
   ]
  },
  {
   "cell_type": "code",
   "execution_count": 1,
   "metadata": {
    "execution": {
     "iopub.execute_input": "2021-03-29T16:19:57.485863Z",
     "iopub.status.busy": "2021-03-29T16:19:57.485285Z",
     "iopub.status.idle": "2021-03-29T16:19:58.570397Z",
     "shell.execute_reply": "2021-03-29T16:19:58.569374Z"
    }
   },
   "outputs": [
    {
     "name": "stdout",
     "output_type": "stream",
     "text": [
      "Logging hadn't been started.\n",
      "Activating auto-logging. Current session state plus future input saved.\n",
      "Filename       : /home/runner/.qcodes/logs/command_history.log\n",
      "Mode           : append\n",
      "Output logging : True\n",
      "Raw input log  : False\n",
      "Timestamping   : True\n",
      "State          : active\n"
     ]
    },
    {
     "name": "stdout",
     "output_type": "stream",
     "text": [
      "Qcodes Logfile : /home/runner/.qcodes/logs/210329-4477-qcodes.log\n"
     ]
    }
   ],
   "source": [
    "import os\n",
    "cwd = os.getcwd()\n",
    "import qcodes as qc\n",
    "qc.config[\"core\"][\"db_location\"] = os.path.join(cwd, 'testing.db')\n"
   ]
  },
  {
   "cell_type": "code",
   "execution_count": 2,
   "metadata": {
    "execution": {
     "iopub.execute_input": "2021-03-29T16:19:58.577230Z",
     "iopub.status.busy": "2021-03-29T16:19:58.576672Z",
     "iopub.status.idle": "2021-03-29T16:19:58.829569Z",
     "shell.execute_reply": "2021-03-29T16:19:58.828554Z"
    }
   },
   "outputs": [],
   "source": [
    "%matplotlib inline\n",
    "import time\n",
    "import matplotlib.pyplot as plt\n",
    "import numpy as np\n",
    "\n",
    "import qcodes as qc\n",
    "from qcodes.instrument.parameter import ManualParameter\n",
    "from qcodes.dataset.experiment_container import (Experiment,\n",
    "                                                 load_last_experiment,\n",
    "                                                 new_experiment)\n",
    "from qcodes.dataset.sqlite.database import initialise_database\n",
    "from qcodes import load_or_create_experiment\n",
    "from qcodes.dataset.measurements import Measurement"
   ]
  },
  {
   "cell_type": "code",
   "execution_count": 3,
   "metadata": {
    "execution": {
     "iopub.execute_input": "2021-03-29T16:19:58.833859Z",
     "iopub.status.busy": "2021-03-29T16:19:58.833169Z",
     "iopub.status.idle": "2021-03-29T16:19:58.940750Z",
     "shell.execute_reply": "2021-03-29T16:19:58.941189Z"
    }
   },
   "outputs": [
    {
     "name": "stdout",
     "output_type": "stream",
     "text": [
      "\r",
      "0it [00:00, ?it/s]"
     ]
    },
    {
     "name": "stdout",
     "output_type": "stream",
     "text": [
      "\r",
      "Upgrading database; v0 -> v1: : 0it [00:00, ?it/s]"
     ]
    },
    {
     "name": "stdout",
     "output_type": "stream",
     "text": [
      "\r",
      "Upgrading database; v0 -> v1: : 0it [00:00, ?it/s]"
     ]
    },
    {
     "name": "stdout",
     "output_type": "stream",
     "text": [
      "\n",
      "\r",
      "  0%|          | 0/1 [00:00<?, ?it/s]"
     ]
    },
    {
     "name": "stdout",
     "output_type": "stream",
     "text": [
      "\r",
      "Upgrading database; v1 -> v2:   0%|          | 0/1 [00:00<?, ?it/s]"
     ]
    },
    {
     "name": "stdout",
     "output_type": "stream",
     "text": [
      "\r",
      "Upgrading database; v1 -> v2: 100%|██████████| 1/1 [00:00<00:00, 373.96it/s]"
     ]
    },
    {
     "name": "stdout",
     "output_type": "stream",
     "text": [
      "\n",
      "\r",
      "0it [00:00, ?it/s]"
     ]
    },
    {
     "name": "stdout",
     "output_type": "stream",
     "text": [
      "\r",
      "Upgrading database; v2 -> v3: : 0it [00:00, ?it/s]"
     ]
    },
    {
     "name": "stdout",
     "output_type": "stream",
     "text": [
      "\r",
      "Upgrading database; v2 -> v3: : 0it [00:00, ?it/s]"
     ]
    },
    {
     "name": "stdout",
     "output_type": "stream",
     "text": [
      "\n",
      "\r",
      "0it [00:00, ?it/s]"
     ]
    },
    {
     "name": "stdout",
     "output_type": "stream",
     "text": [
      "\r",
      "Upgrading database; v3 -> v4: : 0it [00:00, ?it/s]"
     ]
    },
    {
     "name": "stdout",
     "output_type": "stream",
     "text": [
      "\r",
      "Upgrading database; v3 -> v4: : 0it [00:00, ?it/s]"
     ]
    },
    {
     "name": "stdout",
     "output_type": "stream",
     "text": [
      "\n",
      "\r",
      "  0%|          | 0/1 [00:00<?, ?it/s]"
     ]
    },
    {
     "name": "stdout",
     "output_type": "stream",
     "text": [
      "\r",
      "Upgrading database; v4 -> v5:   0%|          | 0/1 [00:00<?, ?it/s]"
     ]
    },
    {
     "name": "stdout",
     "output_type": "stream",
     "text": [
      "\r",
      "Upgrading database; v4 -> v5: 100%|██████████| 1/1 [00:00<00:00, 478.86it/s]"
     ]
    },
    {
     "name": "stdout",
     "output_type": "stream",
     "text": [
      "\n",
      "\r",
      "0it [00:00, ?it/s]"
     ]
    },
    {
     "name": "stdout",
     "output_type": "stream",
     "text": [
      "\r",
      "Upgrading database; v5 -> v6: : 0it [00:00, ?it/s]"
     ]
    },
    {
     "name": "stdout",
     "output_type": "stream",
     "text": [
      "\r",
      "Upgrading database; v5 -> v6: : 0it [00:00, ?it/s]"
     ]
    },
    {
     "name": "stdout",
     "output_type": "stream",
     "text": [
      "\n",
      "\r",
      "  0%|          | 0/1 [00:00<?, ?it/s]"
     ]
    },
    {
     "name": "stdout",
     "output_type": "stream",
     "text": [
      "\r",
      "Upgrading database; v6 -> v7:   0%|          | 0/1 [00:00<?, ?it/s]"
     ]
    },
    {
     "name": "stdout",
     "output_type": "stream",
     "text": [
      "\r",
      "Upgrading database; v6 -> v7: 100%|██████████| 1/1 [00:00<00:00, 385.83it/s]"
     ]
    },
    {
     "name": "stdout",
     "output_type": "stream",
     "text": [
      "\n",
      "\r",
      "  0%|          | 0/1 [00:00<?, ?it/s]"
     ]
    },
    {
     "name": "stdout",
     "output_type": "stream",
     "text": [
      "\r",
      "Upgrading database; v7 -> v8:   0%|          | 0/1 [00:00<?, ?it/s]"
     ]
    },
    {
     "name": "stdout",
     "output_type": "stream",
     "text": [
      "\r",
      "Upgrading database; v7 -> v8: 100%|██████████| 1/1 [00:00<00:00, 482.05it/s]"
     ]
    },
    {
     "name": "stdout",
     "output_type": "stream",
     "text": [
      "\n",
      "\r",
      "  0%|          | 0/1 [00:00<?, ?it/s]"
     ]
    },
    {
     "name": "stdout",
     "output_type": "stream",
     "text": [
      "\r",
      "Upgrading database; v8 -> v9:   0%|          | 0/1 [00:00<?, ?it/s]"
     ]
    },
    {
     "name": "stdout",
     "output_type": "stream",
     "text": [
      "\r",
      "Upgrading database; v8 -> v9: 100%|██████████| 1/1 [00:00<00:00, 343.01it/s]"
     ]
    },
    {
     "name": "stdout",
     "output_type": "stream",
     "text": [
      "\n"
     ]
    }
   ],
   "source": [
    "initialise_database()\n",
    "exp = load_or_create_experiment(experiment_name='tutorial_exp', sample_name=\"no sample\")"
   ]
  },
  {
   "cell_type": "markdown",
   "metadata": {},
   "source": [
    "Here, we define a simple function to benchmark the time it takes to insert n points with either numeric or array data type.\n",
    "We will compare both the time used to call ``add_result`` and the time used for the full measurement."
   ]
  },
  {
   "cell_type": "code",
   "execution_count": 4,
   "metadata": {
    "execution": {
     "iopub.execute_input": "2021-03-29T16:19:58.949842Z",
     "iopub.status.busy": "2021-03-29T16:19:58.943323Z",
     "iopub.status.idle": "2021-03-29T16:19:58.953109Z",
     "shell.execute_reply": "2021-03-29T16:19:58.952622Z"
    }
   },
   "outputs": [],
   "source": [
    "def insert_data(paramtype, npoints, nreps=1):\n",
    "\n",
    "    meas = Measurement(exp=exp)\n",
    "\n",
    "    x1 = ManualParameter('x1')\n",
    "    x2 = ManualParameter('x2')\n",
    "    x3 = ManualParameter('x3')\n",
    "    y1 = ManualParameter('y1')\n",
    "    y2 = ManualParameter('y2')\n",
    "\n",
    "    meas.register_parameter(x1, paramtype=paramtype)\n",
    "    meas.register_parameter(x2, paramtype=paramtype)\n",
    "    meas.register_parameter(x3, paramtype=paramtype)\n",
    "    meas.register_parameter(y1, setpoints=[x1, x2, x3],\n",
    "                            paramtype=paramtype)\n",
    "    meas.register_parameter(y2, setpoints=[x1, x2, x3],\n",
    "                            paramtype=paramtype)\n",
    "    start = time.perf_counter()\n",
    "    with meas.run() as datasaver:\n",
    "        start_adding = time.perf_counter()\n",
    "        for i in range(nreps):\n",
    "            datasaver.add_result((x1, np.random.rand(npoints)),\n",
    "                                 (x2, np.random.rand(npoints)),\n",
    "                                 (x3, np.random.rand(npoints)),\n",
    "                                 (y1, np.random.rand(npoints)),\n",
    "                                 (y2, np.random.rand(npoints)))\n",
    "        stop_adding = time.perf_counter()\n",
    "        run_id = datasaver.run_id\n",
    "    stop = time.perf_counter()\n",
    "    tot_time = stop - start\n",
    "    add_time = stop_adding - start_adding\n",
    "    return tot_time, add_time, run_id"
   ]
  },
  {
   "cell_type": "markdown",
   "metadata": {},
   "source": [
    "## Comparison between numeric/array data and binary blob"
   ]
  },
  {
   "cell_type": "markdown",
   "metadata": {},
   "source": [
    "### Case1: Short experiment time"
   ]
  },
  {
   "cell_type": "code",
   "execution_count": 5,
   "metadata": {
    "execution": {
     "iopub.execute_input": "2021-03-29T16:19:58.960031Z",
     "iopub.status.busy": "2021-03-29T16:19:58.959407Z",
     "iopub.status.idle": "2021-03-29T16:19:59.836245Z",
     "shell.execute_reply": "2021-03-29T16:19:59.835730Z"
    }
   },
   "outputs": [
    {
     "name": "stdout",
     "output_type": "stream",
     "text": [
      "Starting experimental run with id: 1. \n",
      "Starting experimental run with id: 2. \n",
      "Starting experimental run with id: 3. \n"
     ]
    },
    {
     "name": "stdout",
     "output_type": "stream",
     "text": [
      "Starting experimental run with id: 4. \n"
     ]
    },
    {
     "name": "stdout",
     "output_type": "stream",
     "text": [
      "Starting experimental run with id: 5. \n"
     ]
    },
    {
     "name": "stdout",
     "output_type": "stream",
     "text": [
      "Starting experimental run with id: 6. \n"
     ]
    },
    {
     "name": "stdout",
     "output_type": "stream",
     "text": [
      "Starting experimental run with id: 7. \n"
     ]
    },
    {
     "name": "stdout",
     "output_type": "stream",
     "text": [
      "Starting experimental run with id: 8. \n",
      "Starting experimental run with id: 9. \n"
     ]
    },
    {
     "name": "stdout",
     "output_type": "stream",
     "text": [
      "Starting experimental run with id: 10. \n",
      "Starting experimental run with id: 11. \n"
     ]
    },
    {
     "name": "stdout",
     "output_type": "stream",
     "text": [
      "Starting experimental run with id: 12. \n",
      "Starting experimental run with id: 13. \n"
     ]
    },
    {
     "name": "stdout",
     "output_type": "stream",
     "text": [
      "Starting experimental run with id: 14. \n"
     ]
    }
   ],
   "source": [
    "sizes = [1,500,1000,2000,3000,4000,5000]\n",
    "t_numeric = []\n",
    "t_numeric_add = []\n",
    "t_array = []\n",
    "t_array_add = []\n",
    "for size in sizes:\n",
    "    tn, tna, run_id_n =  insert_data('numeric', size)\n",
    "    t_numeric.append(tn)\n",
    "    t_numeric_add.append(tna)\n",
    "\n",
    "    ta, taa, run_id_a =  insert_data('array', size)\n",
    "    t_array.append(ta)\n",
    "    t_array_add.append(taa)"
   ]
  },
  {
   "cell_type": "code",
   "execution_count": 6,
   "metadata": {
    "execution": {
     "iopub.execute_input": "2021-03-29T16:19:59.857486Z",
     "iopub.status.busy": "2021-03-29T16:19:59.856880Z",
     "iopub.status.idle": "2021-03-29T16:20:00.050691Z",
     "shell.execute_reply": "2021-03-29T16:20:00.049778Z"
    }
   },
   "outputs": [
    {
     "data": {
      "image/png": "[encoded data removed]",
      "text/plain": [
       "<Figure size 432x288 with 1 Axes>"
      ]
     },
     "metadata": {
      "needs_background": "light"
     },
     "output_type": "display_data"
    }
   ],
   "source": [
    "fig, ax = plt.subplots(1,1)\n",
    "ax.plot(sizes, t_numeric, 'o-', label='Inserting row-by-row')\n",
    "ax.plot(sizes, t_numeric_add, 'o-', label='Inserting row-by-row: add_result only')\n",
    "ax.plot(sizes, t_array, 'd-', label='Inserting as binary blob')\n",
    "ax.plot(sizes, t_array_add, 'd-', label='Inserting as binary blob: add_result only')\n",
    "ax.legend()\n",
    "ax.set_xlabel('Array length')\n",
    "ax.set_ylabel('Time (s)')\n",
    "fig.tight_layout()"
   ]
  },
  {
   "cell_type": "markdown",
   "metadata": {},
   "source": [
    "As shown in the latter figure, the time to setup and and close the experiment is approximately 0.4 sec. In case of small array sizes, the difference between inserting values of data as arrays and inserting them row-by-row is relatively unimportant. At larger array sizes, i.e. above 10000 points, the cost of writing data as individual datapoints starts to become important.\n"
   ]
  },
  {
   "cell_type": "markdown",
   "metadata": {},
   "source": [
    "### Case2: Long experiment time "
   ]
  },
  {
   "cell_type": "code",
   "execution_count": 7,
   "metadata": {
    "execution": {
     "iopub.execute_input": "2021-03-29T16:20:00.059395Z",
     "iopub.status.busy": "2021-03-29T16:20:00.058776Z",
     "iopub.status.idle": "2021-03-29T16:21:01.035416Z",
     "shell.execute_reply": "2021-03-29T16:21:01.036241Z"
    }
   },
   "outputs": [
    {
     "name": "stdout",
     "output_type": "stream",
     "text": [
      "Starting experimental run with id: 15. \n",
      "Starting experimental run with id: 16. \n"
     ]
    },
    {
     "name": "stdout",
     "output_type": "stream",
     "text": [
      "Starting experimental run with id: 17. \n"
     ]
    },
    {
     "name": "stdout",
     "output_type": "stream",
     "text": [
      "Starting experimental run with id: 18. \n",
      "Starting experimental run with id: 19. \n"
     ]
    },
    {
     "name": "stdout",
     "output_type": "stream",
     "text": [
      "Starting experimental run with id: 20. \n"
     ]
    },
    {
     "name": "stdout",
     "output_type": "stream",
     "text": [
      "Starting experimental run with id: 21. \n"
     ]
    },
    {
     "name": "stdout",
     "output_type": "stream",
     "text": [
      "Starting experimental run with id: 22. \n"
     ]
    },
    {
     "name": "stdout",
     "output_type": "stream",
     "text": [
      "Starting experimental run with id: 23. \n"
     ]
    },
    {
     "name": "stdout",
     "output_type": "stream",
     "text": [
      "Starting experimental run with id: 24. \n"
     ]
    },
    {
     "name": "stdout",
     "output_type": "stream",
     "text": [
      "Starting experimental run with id: 25. \n"
     ]
    },
    {
     "name": "stdout",
     "output_type": "stream",
     "text": [
      "Starting experimental run with id: 26. \n"
     ]
    },
    {
     "name": "stdout",
     "output_type": "stream",
     "text": [
      "Starting experimental run with id: 27. \n"
     ]
    },
    {
     "name": "stdout",
     "output_type": "stream",
     "text": [
      "Starting experimental run with id: 28. \n"
     ]
    }
   ],
   "source": [
    "sizes = [1,500,1000,2000,3000,4000,5000]\n",
    "nreps = 100\n",
    "t_numeric = []\n",
    "t_numeric_add = []\n",
    "t_numeric_run_ids = []\n",
    "t_array = []\n",
    "t_array_add = []\n",
    "t_array_run_ids = []\n",
    "for size in sizes:\n",
    "    tn, tna, run_id_n =  insert_data('numeric', size, nreps=nreps)\n",
    "    t_numeric.append(tn)\n",
    "    t_numeric_add.append(tna)\n",
    "    t_numeric_run_ids.append(run_id_n)\n",
    "\n",
    "    ta, taa, run_id_a =  insert_data('array', size, nreps=nreps)\n",
    "    t_array.append(ta)\n",
    "    t_array_add.append(taa)\n",
    "    t_array_run_ids.append(run_id_a)"
   ]
  },
  {
   "cell_type": "code",
   "execution_count": 8,
   "metadata": {
    "execution": {
     "iopub.execute_input": "2021-03-29T16:21:01.059507Z",
     "iopub.status.busy": "2021-03-29T16:21:01.056053Z",
     "iopub.status.idle": "2021-03-29T16:21:01.221776Z",
     "shell.execute_reply": "2021-03-29T16:21:01.222367Z"
    },
    "scrolled": true
   },
   "outputs": [
    {
     "data": {
      "image/png": "[encoded data removed]",
      "text/plain": [
       "<Figure size 432x288 with 1 Axes>"
      ]
     },
     "metadata": {
      "needs_background": "light"
     },
     "output_type": "display_data"
    }
   ],
   "source": [
    "fig, ax = plt.subplots(1,1)\n",
    "ax.plot(sizes, t_numeric, 'o-', label='Inserting row-by-row')\n",
    "ax.plot(sizes, t_numeric_add, 'o-', label='Inserting row-by-row: add_result only')\n",
    "ax.plot(sizes, t_array, 'd-', label='Inserting as binary blob')\n",
    "ax.plot(sizes, t_array_add, 'd-', label='Inserting as binary blob: add_result only')\n",
    "ax.legend()\n",
    "ax.set_xlabel('Array length')\n",
    "ax.set_ylabel('Time (s)')\n",
    "fig.tight_layout()"
   ]
  },
  {
   "cell_type": "markdown",
   "metadata": {},
   "source": [
    "However, as we increase the length of the experiment, as seen here by repeating the insertion 100 times, we see a big difference between inserting values of the data row-by-row and inserting it as a binary blob."
   ]
  },
  {
   "cell_type": "markdown",
   "metadata": {},
   "source": [
    "## Loading the data "
   ]
  },
  {
   "cell_type": "code",
   "execution_count": 9,
   "metadata": {
    "execution": {
     "iopub.execute_input": "2021-03-29T16:21:01.225128Z",
     "iopub.status.busy": "2021-03-29T16:21:01.224578Z",
     "iopub.status.idle": "2021-03-29T16:21:01.228237Z",
     "shell.execute_reply": "2021-03-29T16:21:01.228797Z"
    }
   },
   "outputs": [],
   "source": [
    "from qcodes.dataset.data_set import load_by_id\n",
    "from qcodes.dataset.data_export import get_data_by_id"
   ]
  },
  {
   "cell_type": "markdown",
   "metadata": {},
   "source": [
    "As usual you can load the data by using the ``load_by_id`` function but you will notice that the different storage methods\n",
    "are reflected in shape of the data as it is retrieved. "
   ]
  },
  {
   "cell_type": "code",
   "execution_count": 10,
   "metadata": {
    "execution": {
     "iopub.execute_input": "2021-03-29T16:21:01.231357Z",
     "iopub.status.busy": "2021-03-29T16:21:01.230781Z",
     "iopub.status.idle": "2021-03-29T16:21:01.233609Z",
     "shell.execute_reply": "2021-03-29T16:21:01.234159Z"
    }
   },
   "outputs": [],
   "source": [
    "run_id_n = t_numeric_run_ids[0]\n",
    "run_id_a = t_array_run_ids[0]"
   ]
  },
  {
   "cell_type": "code",
   "execution_count": 11,
   "metadata": {
    "execution": {
     "iopub.execute_input": "2021-03-29T16:21:01.236516Z",
     "iopub.status.busy": "2021-03-29T16:21:01.235968Z",
     "iopub.status.idle": "2021-03-29T16:21:01.300696Z",
     "shell.execute_reply": "2021-03-29T16:21:01.301184Z"
    },
    "scrolled": true
   },
   "outputs": [
    {
     "data": {
      "text/plain": [
       "{'x1': {'x1': array([0.95564803, 0.95564803, 0.02880209, 0.02880209, 0.36324087,\n",
       "         0.36324087, 0.31468972, 0.31468972, 0.72909702, 0.72909702,\n",
       "         0.644562  , 0.644562  , 0.06521696, 0.06521696, 0.8346394 ,\n",
       "         0.8346394 , 0.66673447, 0.66673447, 0.12402201, 0.12402201,\n",
       "         0.76223412, 0.76223412, 0.57640315, 0.57640315, 0.07003869,\n",
       "         0.07003869, 0.97393811, 0.97393811, 0.09792548, 0.09792548,\n",
       "         0.10523734, 0.10523734, 0.45580611, 0.45580611, 0.32595258,\n",
       "         0.32595258, 0.67488599, 0.67488599, 0.36605386, 0.36605386,\n",
       "         0.2173547 , 0.2173547 , 0.71269089, 0.71269089, 0.43572993,\n",
       "         0.43572993, 0.62065542, 0.62065542, 0.91500868, 0.91500868,\n",
       "         0.20303378, 0.20303378, 0.33803942, 0.33803942, 0.95956183,\n",
       "         0.95956183, 0.55052519, 0.55052519, 0.23069532, 0.23069532,\n",
       "         0.97118893, 0.97118893, 0.11062881, 0.11062881, 0.97018838,\n",
       "         0.97018838, 0.50910686, 0.50910686, 0.25596352, 0.25596352,\n",
       "         0.79164751, 0.79164751, 0.36733261, 0.36733261, 0.02017291,\n",
       "         0.02017291, 0.38655816, 0.38655816, 0.0528494 , 0.0528494 ,\n",
       "         0.27319388, 0.27319388, 0.78961917, 0.78961917, 0.27659434,\n",
       "         0.27659434, 0.85145885, 0.85145885, 0.23839664, 0.23839664,\n",
       "         0.03580554, 0.03580554, 0.89781835, 0.89781835, 0.45553584,\n",
       "         0.45553584, 0.13654899, 0.13654899, 0.24251419, 0.24251419,\n",
       "         0.65103246, 0.65103246, 0.20293162, 0.20293162, 0.57246179,\n",
       "         0.57246179, 0.58129621, 0.58129621, 0.81316456, 0.81316456,\n",
       "         0.56581856, 0.56581856, 0.05597222, 0.05597222, 0.30023085,\n",
       "         0.30023085, 0.71652444, 0.71652444, 0.68937148, 0.68937148,\n",
       "         0.54627486, 0.54627486, 0.75814335, 0.75814335, 0.07898096,\n",
       "         0.07898096, 0.48991975, 0.48991975, 0.05488297, 0.05488297,\n",
       "         0.13502257, 0.13502257, 0.40952647, 0.40952647, 0.20992675,\n",
       "         0.20992675, 0.52192976, 0.52192976, 0.11381615, 0.11381615,\n",
       "         0.628049  , 0.628049  , 0.83500211, 0.83500211, 0.39812881,\n",
       "         0.39812881, 0.31234245, 0.31234245, 0.04388283, 0.04388283,\n",
       "         0.89609122, 0.89609122, 0.08699112, 0.08699112, 0.78038691,\n",
       "         0.78038691, 0.2658273 , 0.2658273 , 0.75923731, 0.75923731,\n",
       "         0.38481174, 0.38481174, 0.49585737, 0.49585737, 0.03389679,\n",
       "         0.03389679, 0.88355072, 0.88355072, 0.73772843, 0.73772843,\n",
       "         0.1978145 , 0.1978145 , 0.41283289, 0.41283289, 0.4299129 ,\n",
       "         0.4299129 , 0.24360736, 0.24360736, 0.25002239, 0.25002239,\n",
       "         0.09818321, 0.09818321, 0.12306714, 0.12306714, 0.86061485,\n",
       "         0.86061485, 0.81238858, 0.81238858, 0.45224205, 0.45224205,\n",
       "         0.17966713, 0.17966713, 0.86932655, 0.86932655, 0.57513066,\n",
       "         0.57513066, 0.66982294, 0.66982294, 0.70358451, 0.70358451])}}"
      ]
     },
     "execution_count": 1,
     "metadata": {},
     "output_type": "execute_result"
    }
   ],
   "source": [
    "ds = load_by_id(run_id_n)\n",
    "ds.get_parameter_data('x1')"
   ]
  },
  {
   "cell_type": "markdown",
   "metadata": {},
   "source": [
    "And a dataset stored as binary arrays"
   ]
  },
  {
   "cell_type": "code",
   "execution_count": 12,
   "metadata": {
    "execution": {
     "iopub.execute_input": "2021-03-29T16:21:01.304907Z",
     "iopub.status.busy": "2021-03-29T16:21:01.304349Z",
     "iopub.status.idle": "2021-03-29T16:21:01.362130Z",
     "shell.execute_reply": "2021-03-29T16:21:01.362960Z"
    },
    "scrolled": true
   },
   "outputs": [
    {
     "data": {
      "text/plain": [
       "{'x1': {'x1': array([[0.31063209],\n",
       "         [0.31063209],\n",
       "         [0.48235452],\n",
       "         [0.48235452],\n",
       "         [0.26465801],\n",
       "         [0.26465801],\n",
       "         [0.97914892],\n",
       "         [0.97914892],\n",
       "         [0.29790008],\n",
       "         [0.29790008],\n",
       "         [0.70737977],\n",
       "         [0.70737977],\n",
       "         [0.86781915],\n",
       "         [0.86781915],\n",
       "         [0.65820205],\n",
       "         [0.65820205],\n",
       "         [0.91521298],\n",
       "         [0.91521298],\n",
       "         [0.55774558],\n",
       "         [0.55774558],\n",
       "         [0.80980694],\n",
       "         [0.80980694],\n",
       "         [0.89251575],\n",
       "         [0.89251575],\n",
       "         [0.00465456],\n",
       "         [0.00465456],\n",
       "         [0.21736068],\n",
       "         [0.21736068],\n",
       "         [0.15669824],\n",
       "         [0.15669824],\n",
       "         [0.14419558],\n",
       "         [0.14419558],\n",
       "         [0.66098793],\n",
       "         [0.66098793],\n",
       "         [0.59252473],\n",
       "         [0.59252473],\n",
       "         [0.16599042],\n",
       "         [0.16599042],\n",
       "         [0.65717789],\n",
       "         [0.65717789],\n",
       "         [0.15596275],\n",
       "         [0.15596275],\n",
       "         [0.77060415],\n",
       "         [0.77060415],\n",
       "         [0.20620027],\n",
       "         [0.20620027],\n",
       "         [0.57870223],\n",
       "         [0.57870223],\n",
       "         [0.64308629],\n",
       "         [0.64308629],\n",
       "         [0.72617735],\n",
       "         [0.72617735],\n",
       "         [0.95359309],\n",
       "         [0.95359309],\n",
       "         [0.0287259 ],\n",
       "         [0.0287259 ],\n",
       "         [0.43860665],\n",
       "         [0.43860665],\n",
       "         [0.41088154],\n",
       "         [0.41088154],\n",
       "         [0.91944102],\n",
       "         [0.91944102],\n",
       "         [0.18851448],\n",
       "         [0.18851448],\n",
       "         [0.38524769],\n",
       "         [0.38524769],\n",
       "         [0.37640068],\n",
       "         [0.37640068],\n",
       "         [0.80674391],\n",
       "         [0.80674391],\n",
       "         [0.70879951],\n",
       "         [0.70879951],\n",
       "         [0.04932037],\n",
       "         [0.04932037],\n",
       "         [0.34656317],\n",
       "         [0.34656317],\n",
       "         [0.45036214],\n",
       "         [0.45036214],\n",
       "         [0.77002601],\n",
       "         [0.77002601],\n",
       "         [0.02440802],\n",
       "         [0.02440802],\n",
       "         [0.3852923 ],\n",
       "         [0.3852923 ],\n",
       "         [0.94496541],\n",
       "         [0.94496541],\n",
       "         [0.27915942],\n",
       "         [0.27915942],\n",
       "         [0.47730441],\n",
       "         [0.47730441],\n",
       "         [0.95909446],\n",
       "         [0.95909446],\n",
       "         [0.40750795],\n",
       "         [0.40750795],\n",
       "         [0.15540892],\n",
       "         [0.15540892],\n",
       "         [0.94280815],\n",
       "         [0.94280815],\n",
       "         [0.00148623],\n",
       "         [0.00148623],\n",
       "         [0.49912142],\n",
       "         [0.49912142],\n",
       "         [0.28869745],\n",
       "         [0.28869745],\n",
       "         [0.74292469],\n",
       "         [0.74292469],\n",
       "         [0.03572895],\n",
       "         [0.03572895],\n",
       "         [0.5942075 ],\n",
       "         [0.5942075 ],\n",
       "         [0.9191164 ],\n",
       "         [0.9191164 ],\n",
       "         [0.63949376],\n",
       "         [0.63949376],\n",
       "         [0.03914446],\n",
       "         [0.03914446],\n",
       "         [0.45450524],\n",
       "         [0.45450524],\n",
       "         [0.71781645],\n",
       "         [0.71781645],\n",
       "         [0.37160535],\n",
       "         [0.37160535],\n",
       "         [0.59780523],\n",
       "         [0.59780523],\n",
       "         [0.06026075],\n",
       "         [0.06026075],\n",
       "         [0.72026796],\n",
       "         [0.72026796],\n",
       "         [0.20116132],\n",
       "         [0.20116132],\n",
       "         [0.30245211],\n",
       "         [0.30245211],\n",
       "         [0.82945157],\n",
       "         [0.82945157],\n",
       "         [0.09617923],\n",
       "         [0.09617923],\n",
       "         [0.48418026],\n",
       "         [0.48418026],\n",
       "         [0.37039023],\n",
       "         [0.37039023],\n",
       "         [0.67134634],\n",
       "         [0.67134634],\n",
       "         [0.0110916 ],\n",
       "         [0.0110916 ],\n",
       "         [0.6046222 ],\n",
       "         [0.6046222 ],\n",
       "         [0.52100981],\n",
       "         [0.52100981],\n",
       "         [0.08253473],\n",
       "         [0.08253473],\n",
       "         [0.03503762],\n",
       "         [0.03503762],\n",
       "         [0.34987888],\n",
       "         [0.34987888],\n",
       "         [0.69815691],\n",
       "         [0.69815691],\n",
       "         [0.23912527],\n",
       "         [0.23912527],\n",
       "         [0.64227356],\n",
       "         [0.64227356],\n",
       "         [0.94461906],\n",
       "         [0.94461906],\n",
       "         [0.05798428],\n",
       "         [0.05798428],\n",
       "         [0.46086712],\n",
       "         [0.46086712],\n",
       "         [0.97488067],\n",
       "         [0.97488067],\n",
       "         [0.64938831],\n",
       "         [0.64938831],\n",
       "         [0.80657585],\n",
       "         [0.80657585],\n",
       "         [0.28354049],\n",
       "         [0.28354049],\n",
       "         [0.00452362],\n",
       "         [0.00452362],\n",
       "         [0.71103341],\n",
       "         [0.71103341],\n",
       "         [0.55110163],\n",
       "         [0.55110163],\n",
       "         [0.38240551],\n",
       "         [0.38240551],\n",
       "         [0.09351454],\n",
       "         [0.09351454],\n",
       "         [0.07744619],\n",
       "         [0.07744619],\n",
       "         [0.62600884],\n",
       "         [0.62600884],\n",
       "         [0.65416573],\n",
       "         [0.65416573],\n",
       "         [0.90789288],\n",
       "         [0.90789288],\n",
       "         [0.27365284],\n",
       "         [0.27365284],\n",
       "         [0.13276748],\n",
       "         [0.13276748],\n",
       "         [0.71315357],\n",
       "         [0.71315357],\n",
       "         [0.92954229],\n",
       "         [0.92954229]])}}"
      ]
     },
     "execution_count": 1,
     "metadata": {},
     "output_type": "execute_result"
    }
   ],
   "source": [
    "ds = load_by_id(run_id_a)\n",
    "ds.get_parameter_data('x1')"
   ]
  },
  {
   "cell_type": "code",
   "execution_count": null,
   "metadata": {},
   "outputs": [],
   "source": []
  }
 ],
 "metadata": {
  "kernelspec": {
   "display_name": "Python 3",
   "language": "python",
   "name": "python3"
  },
  "language_info": {
   "codemirror_mode": {
    "name": "ipython",
    "version": 3
   },
   "file_extension": ".py",
   "mimetype": "text/x-python",
   "name": "python",
   "nbconvert_exporter": "python",
   "pygments_lexer": "ipython3",
   "version": "3.7.10"
  },
  "nbsphinx": {
   "timeout": 600
  },
  "toc": {
   "base_numbering": 1,
   "nav_menu": {},
   "number_sections": true,
   "sideBar": true,
   "skip_h1_title": false,
   "title_cell": "Table of Contents",
   "title_sidebar": "Contents",
   "toc_cell": false,
   "toc_position": {},
   "toc_section_display": true,
   "toc_window_display": false
  },
  "varInspector": {
   "cols": {
    "lenName": 16,
    "lenType": 16,
    "lenVar": 40
   },
   "kernels_config": {
    "python": {
     "delete_cmd_postfix": "",
     "delete_cmd_prefix": "del ",
     "library": "var_list.py",
     "varRefreshCmd": "print(var_dic_list())"
    },
    "r": {
     "delete_cmd_postfix": ") ",
     "delete_cmd_prefix": "rm(",
     "library": "var_list.r",
     "varRefreshCmd": "cat(var_dic_list()) "
    }
   },
   "types_to_exclude": [
    "module",
    "function",
    "builtin_function_or_method",
    "instance",
    "_Feature"
   ],
   "window_display": false
  }
 },
 "nbformat": 4,
 "nbformat_minor": 2
}
