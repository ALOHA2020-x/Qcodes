{
 "cells": [
  {
   "cell_type": "markdown",
   "metadata": {},
   "source": [
    "# DataSet Performance\n",
    "\n",
    "This notebook shows the trade-off between inserting data into a database row-by-row and as binary blobs. Inserting the data row-by-row means that we have direct access to all the data and may perform queries directly on the values of the data. On the other hand, as we shall see, this is much slower than inserting the data directly as binary blobs."
   ]
  },
  {
   "cell_type": "markdown",
   "metadata": {},
   "source": [
    "First, we choose a new location for the database to ensure that we don't add a bunch of benchmarking data to the default one."
   ]
  },
  {
   "cell_type": "code",
   "execution_count": 1,
   "metadata": {
    "execution": {
     "iopub.execute_input": "2020-12-31T09:09:53.562687Z",
     "iopub.status.busy": "2020-12-31T09:09:53.562016Z",
     "iopub.status.idle": "2020-12-31T09:09:54.787322Z",
     "shell.execute_reply": "2020-12-31T09:09:54.786344Z"
    }
   },
   "outputs": [
    {
     "name": "stdout",
     "output_type": "stream",
     "text": [
      "Logging hadn't been started.\n",
      "Activating auto-logging. Current session state plus future input saved.\n",
      "Filename       : /home/vsts/.qcodes/logs/command_history.log\n",
      "Mode           : append\n",
      "Output logging : True\n",
      "Raw input log  : False\n",
      "Timestamping   : True\n",
      "State          : active\n"
     ]
    },
    {
     "name": "stdout",
     "output_type": "stream",
     "text": [
      "Qcodes Logfile : /home/vsts/.qcodes/logs/201231-13505-qcodes.log\n"
     ]
    }
   ],
   "source": [
    "import os\n",
    "cwd = os.getcwd()\n",
    "import qcodes as qc\n",
    "qc.config[\"core\"][\"db_location\"] = os.path.join(cwd, 'testing.db')\n"
   ]
  },
  {
   "cell_type": "code",
   "execution_count": 2,
   "metadata": {
    "execution": {
     "iopub.execute_input": "2020-12-31T09:09:54.794286Z",
     "iopub.status.busy": "2020-12-31T09:09:54.793565Z",
     "iopub.status.idle": "2020-12-31T09:09:55.007722Z",
     "shell.execute_reply": "2020-12-31T09:09:55.006991Z"
    }
   },
   "outputs": [],
   "source": [
    "%matplotlib inline\n",
    "import time\n",
    "import matplotlib.pyplot as plt\n",
    "import numpy as np\n",
    "\n",
    "import qcodes as qc\n",
    "from qcodes.instrument.parameter import ManualParameter\n",
    "from qcodes.dataset.experiment_container import (Experiment,\n",
    "                                                 load_last_experiment,\n",
    "                                                 new_experiment)\n",
    "from qcodes.dataset.sqlite.database import initialise_database\n",
    "from qcodes import load_or_create_experiment\n",
    "from qcodes.dataset.measurements import Measurement"
   ]
  },
  {
   "cell_type": "code",
   "execution_count": 3,
   "metadata": {
    "execution": {
     "iopub.execute_input": "2020-12-31T09:09:55.012200Z",
     "iopub.status.busy": "2020-12-31T09:09:55.011453Z",
     "iopub.status.idle": "2020-12-31T09:09:55.158669Z",
     "shell.execute_reply": "2020-12-31T09:09:55.157795Z"
    }
   },
   "outputs": [
    {
     "name": "stdout",
     "output_type": "stream",
     "text": [
      "\r",
      "0it [00:00, ?it/s]"
     ]
    },
    {
     "name": "stdout",
     "output_type": "stream",
     "text": [
      "\r",
      "Upgrading database; v0 -> v1: : 0it [00:00, ?it/s]"
     ]
    },
    {
     "name": "stdout",
     "output_type": "stream",
     "text": [
      "\r",
      "Upgrading database; v0 -> v1: : 0it [00:00, ?it/s]"
     ]
    },
    {
     "name": "stdout",
     "output_type": "stream",
     "text": [
      "\n",
      "\r",
      "  0%|          | 0/1 [00:00<?, ?it/s]"
     ]
    },
    {
     "name": "stdout",
     "output_type": "stream",
     "text": [
      "\r",
      "Upgrading database; v1 -> v2:   0%|          | 0/1 [00:00<?, ?it/s]"
     ]
    },
    {
     "name": "stdout",
     "output_type": "stream",
     "text": [
      "\r",
      "Upgrading database; v1 -> v2: 100%|██████████| 1/1 [00:00<00:00, 996.51it/s]"
     ]
    },
    {
     "name": "stdout",
     "output_type": "stream",
     "text": [
      "\n",
      "\r",
      "0it [00:00, ?it/s]"
     ]
    },
    {
     "name": "stdout",
     "output_type": "stream",
     "text": [
      "\r",
      "Upgrading database; v2 -> v3: : 0it [00:00, ?it/s]"
     ]
    },
    {
     "name": "stdout",
     "output_type": "stream",
     "text": [
      "\r",
      "Upgrading database; v2 -> v3: : 0it [00:00, ?it/s]"
     ]
    },
    {
     "name": "stdout",
     "output_type": "stream",
     "text": [
      "\n",
      "\r",
      "0it [00:00, ?it/s]"
     ]
    },
    {
     "name": "stdout",
     "output_type": "stream",
     "text": [
      "\r",
      "Upgrading database; v3 -> v4: : 0it [00:00, ?it/s]"
     ]
    },
    {
     "name": "stdout",
     "output_type": "stream",
     "text": [
      "\r",
      "Upgrading database; v3 -> v4: : 0it [00:00, ?it/s]"
     ]
    },
    {
     "name": "stdout",
     "output_type": "stream",
     "text": [
      "\n",
      "\r",
      "  0%|          | 0/1 [00:00<?, ?it/s]"
     ]
    },
    {
     "name": "stdout",
     "output_type": "stream",
     "text": [
      "\r",
      "Upgrading database; v4 -> v5:   0%|          | 0/1 [00:00<?, ?it/s]"
     ]
    },
    {
     "name": "stdout",
     "output_type": "stream",
     "text": [
      "\r",
      "Upgrading database; v4 -> v5: 100%|██████████| 1/1 [00:00<00:00, 619.27it/s]"
     ]
    },
    {
     "name": "stdout",
     "output_type": "stream",
     "text": [
      "\n",
      "\r",
      "0it [00:00, ?it/s]"
     ]
    },
    {
     "name": "stdout",
     "output_type": "stream",
     "text": [
      "\r",
      "Upgrading database; v5 -> v6: : 0it [00:00, ?it/s]"
     ]
    },
    {
     "name": "stdout",
     "output_type": "stream",
     "text": [
      "\r",
      "Upgrading database; v5 -> v6: : 0it [00:00, ?it/s]"
     ]
    },
    {
     "name": "stdout",
     "output_type": "stream",
     "text": [
      "\n",
      "\r",
      "  0%|          | 0/1 [00:00<?, ?it/s]"
     ]
    },
    {
     "name": "stdout",
     "output_type": "stream",
     "text": [
      "\r",
      "Upgrading database; v6 -> v7:   0%|          | 0/1 [00:00<?, ?it/s]"
     ]
    },
    {
     "name": "stdout",
     "output_type": "stream",
     "text": [
      "\r",
      "Upgrading database; v6 -> v7: 100%|██████████| 1/1 [00:00<00:00, 212.73it/s]"
     ]
    },
    {
     "name": "stdout",
     "output_type": "stream",
     "text": [
      "\n",
      "\r",
      "  0%|          | 0/1 [00:00<?, ?it/s]"
     ]
    },
    {
     "name": "stdout",
     "output_type": "stream",
     "text": [
      "\r",
      "Upgrading database; v7 -> v8:   0%|          | 0/1 [00:00<?, ?it/s]"
     ]
    },
    {
     "name": "stdout",
     "output_type": "stream",
     "text": [
      "\r",
      "Upgrading database; v7 -> v8: 100%|██████████| 1/1 [00:00<00:00, 429.61it/s]"
     ]
    },
    {
     "name": "stdout",
     "output_type": "stream",
     "text": [
      "\n",
      "\r",
      "  0%|          | 0/1 [00:00<?, ?it/s]"
     ]
    },
    {
     "name": "stdout",
     "output_type": "stream",
     "text": [
      "\r",
      "Upgrading database; v8 -> v9:   0%|          | 0/1 [00:00<?, ?it/s]"
     ]
    },
    {
     "name": "stdout",
     "output_type": "stream",
     "text": [
      "\r",
      "Upgrading database; v8 -> v9: 100%|██████████| 1/1 [00:00<00:00, 334.26it/s]"
     ]
    },
    {
     "name": "stdout",
     "output_type": "stream",
     "text": [
      "\n"
     ]
    }
   ],
   "source": [
    "initialise_database()\n",
    "exp = load_or_create_experiment(experiment_name='tutorial_exp', sample_name=\"no sample\")"
   ]
  },
  {
   "cell_type": "markdown",
   "metadata": {},
   "source": [
    "Here, we define a simple function to benchmark the time it takes to insert n points with either numeric or array data type.\n",
    "We will compare both the time used to call ``add_result`` and the time used for the full measurement."
   ]
  },
  {
   "cell_type": "code",
   "execution_count": 4,
   "metadata": {
    "execution": {
     "iopub.execute_input": "2020-12-31T09:09:55.170178Z",
     "iopub.status.busy": "2020-12-31T09:09:55.169527Z",
     "iopub.status.idle": "2020-12-31T09:09:55.174732Z",
     "shell.execute_reply": "2020-12-31T09:09:55.175378Z"
    }
   },
   "outputs": [],
   "source": [
    "def insert_data(paramtype, npoints, nreps=1):\n",
    "\n",
    "    meas = Measurement(exp=exp)\n",
    "\n",
    "    x1 = ManualParameter('x1')\n",
    "    x2 = ManualParameter('x2')\n",
    "    x3 = ManualParameter('x3')\n",
    "    y1 = ManualParameter('y1')\n",
    "    y2 = ManualParameter('y2')\n",
    "\n",
    "    meas.register_parameter(x1, paramtype=paramtype)\n",
    "    meas.register_parameter(x2, paramtype=paramtype)\n",
    "    meas.register_parameter(x3, paramtype=paramtype)\n",
    "    meas.register_parameter(y1, setpoints=[x1, x2, x3],\n",
    "                            paramtype=paramtype)\n",
    "    meas.register_parameter(y2, setpoints=[x1, x2, x3],\n",
    "                            paramtype=paramtype)\n",
    "    start = time.perf_counter()\n",
    "    with meas.run() as datasaver:\n",
    "        start_adding = time.perf_counter()\n",
    "        for i in range(nreps):\n",
    "            datasaver.add_result((x1, np.random.rand(npoints)),\n",
    "                                 (x2, np.random.rand(npoints)),\n",
    "                                 (x3, np.random.rand(npoints)),\n",
    "                                 (y1, np.random.rand(npoints)),\n",
    "                                 (y2, np.random.rand(npoints)))\n",
    "        stop_adding = time.perf_counter()\n",
    "        run_id = datasaver.run_id\n",
    "    stop = time.perf_counter()\n",
    "    tot_time = stop - start\n",
    "    add_time = stop_adding - start_adding\n",
    "    return tot_time, add_time, run_id"
   ]
  },
  {
   "cell_type": "markdown",
   "metadata": {},
   "source": [
    "## Comparison between numeric/array data and binary blob"
   ]
  },
  {
   "cell_type": "markdown",
   "metadata": {},
   "source": [
    "### Case1: Short experiment time"
   ]
  },
  {
   "cell_type": "code",
   "execution_count": 5,
   "metadata": {
    "execution": {
     "iopub.execute_input": "2020-12-31T09:09:55.183849Z",
     "iopub.status.busy": "2020-12-31T09:09:55.183157Z",
     "iopub.status.idle": "2020-12-31T09:09:56.178388Z",
     "shell.execute_reply": "2020-12-31T09:09:56.177424Z"
    }
   },
   "outputs": [
    {
     "name": "stdout",
     "output_type": "stream",
     "text": [
      "Starting experimental run with id: 1. \n",
      "Starting experimental run with id: 2. \n",
      "Starting experimental run with id: 3. \n"
     ]
    },
    {
     "name": "stdout",
     "output_type": "stream",
     "text": [
      "Starting experimental run with id: 4. \n"
     ]
    },
    {
     "name": "stdout",
     "output_type": "stream",
     "text": [
      "Starting experimental run with id: 5. \n"
     ]
    },
    {
     "name": "stdout",
     "output_type": "stream",
     "text": [
      "Starting experimental run with id: 6. \n"
     ]
    },
    {
     "name": "stdout",
     "output_type": "stream",
     "text": [
      "Starting experimental run with id: 7. \n"
     ]
    },
    {
     "name": "stdout",
     "output_type": "stream",
     "text": [
      "Starting experimental run with id: 8. \n"
     ]
    },
    {
     "name": "stdout",
     "output_type": "stream",
     "text": [
      "Starting experimental run with id: 9. \n"
     ]
    },
    {
     "name": "stdout",
     "output_type": "stream",
     "text": [
      "Starting experimental run with id: 10. \n",
      "Starting experimental run with id: 11. \n"
     ]
    },
    {
     "name": "stdout",
     "output_type": "stream",
     "text": [
      "Starting experimental run with id: 12. \n"
     ]
    },
    {
     "name": "stdout",
     "output_type": "stream",
     "text": [
      "Starting experimental run with id: 13. \n"
     ]
    },
    {
     "name": "stdout",
     "output_type": "stream",
     "text": [
      "Starting experimental run with id: 14. \n"
     ]
    }
   ],
   "source": [
    "sizes = [1,500,1000,2000,3000,4000,5000]\n",
    "t_numeric = []\n",
    "t_numeric_add = []\n",
    "t_array = []\n",
    "t_array_add = []\n",
    "for size in sizes:\n",
    "    tn, tna, run_id_n =  insert_data('numeric', size)\n",
    "    t_numeric.append(tn)\n",
    "    t_numeric_add.append(tna)\n",
    "\n",
    "    ta, taa, run_id_a =  insert_data('array', size)\n",
    "    t_array.append(ta)\n",
    "    t_array_add.append(taa)"
   ]
  },
  {
   "cell_type": "code",
   "execution_count": 6,
   "metadata": {
    "execution": {
     "iopub.execute_input": "2020-12-31T09:09:56.184951Z",
     "iopub.status.busy": "2020-12-31T09:09:56.183553Z",
     "iopub.status.idle": "2020-12-31T09:09:56.453683Z",
     "shell.execute_reply": "2020-12-31T09:09:56.452780Z"
    }
   },
   "outputs": [
    {
     "data": {
      "image/png": "[encoded data removed]",
      "text/plain": [
       "<Figure size 432x288 with 1 Axes>"
      ]
     },
     "metadata": {
      "needs_background": "light"
     },
     "output_type": "display_data"
    }
   ],
   "source": [
    "fig, ax = plt.subplots(1,1)\n",
    "ax.plot(sizes, t_numeric, 'o-', label='Inserting row-by-row')\n",
    "ax.plot(sizes, t_numeric_add, 'o-', label='Inserting row-by-row: add_result only')\n",
    "ax.plot(sizes, t_array, 'd-', label='Inserting as binary blob')\n",
    "ax.plot(sizes, t_array_add, 'd-', label='Inserting as binary blob: add_result only')\n",
    "ax.legend()\n",
    "ax.set_xlabel('Array length')\n",
    "ax.set_ylabel('Time (s)')\n",
    "fig.tight_layout()"
   ]
  },
  {
   "cell_type": "markdown",
   "metadata": {},
   "source": [
    "As shown in the latter figure, the time to setup and and close the experiment is approximately 0.4 sec. In case of small array sizes, the difference between inserting values of data as arrays and inserting them row-by-row is relatively unimportant. At larger array sizes, i.e. above 10000 points, the cost of writing data as individual datapoints starts to become important.\n"
   ]
  },
  {
   "cell_type": "markdown",
   "metadata": {},
   "source": [
    "### Case2: Long experiment time "
   ]
  },
  {
   "cell_type": "code",
   "execution_count": 7,
   "metadata": {
    "execution": {
     "iopub.execute_input": "2020-12-31T09:09:56.462342Z",
     "iopub.status.busy": "2020-12-31T09:09:56.461625Z",
     "iopub.status.idle": "2020-12-31T09:11:00.789464Z",
     "shell.execute_reply": "2020-12-31T09:11:00.789917Z"
    }
   },
   "outputs": [
    {
     "name": "stdout",
     "output_type": "stream",
     "text": [
      "Starting experimental run with id: 15. \n",
      "Starting experimental run with id: 16. \n"
     ]
    },
    {
     "name": "stdout",
     "output_type": "stream",
     "text": [
      "Starting experimental run with id: 17. \n"
     ]
    },
    {
     "name": "stdout",
     "output_type": "stream",
     "text": [
      "Starting experimental run with id: 18. \n",
      "Starting experimental run with id: 19. \n"
     ]
    },
    {
     "name": "stdout",
     "output_type": "stream",
     "text": [
      "Starting experimental run with id: 20. \n"
     ]
    },
    {
     "name": "stdout",
     "output_type": "stream",
     "text": [
      "Starting experimental run with id: 21. \n"
     ]
    },
    {
     "name": "stdout",
     "output_type": "stream",
     "text": [
      "Starting experimental run with id: 22. \n"
     ]
    },
    {
     "name": "stdout",
     "output_type": "stream",
     "text": [
      "Starting experimental run with id: 23. \n"
     ]
    },
    {
     "name": "stdout",
     "output_type": "stream",
     "text": [
      "Starting experimental run with id: 24. \n"
     ]
    },
    {
     "name": "stdout",
     "output_type": "stream",
     "text": [
      "Starting experimental run with id: 25. \n"
     ]
    },
    {
     "name": "stdout",
     "output_type": "stream",
     "text": [
      "Starting experimental run with id: 26. \n"
     ]
    },
    {
     "name": "stdout",
     "output_type": "stream",
     "text": [
      "Starting experimental run with id: 27. \n"
     ]
    },
    {
     "name": "stdout",
     "output_type": "stream",
     "text": [
      "Starting experimental run with id: 28. \n"
     ]
    }
   ],
   "source": [
    "sizes = [1,500,1000,2000,3000,4000,5000]\n",
    "nreps = 100\n",
    "t_numeric = []\n",
    "t_numeric_add = []\n",
    "t_numeric_run_ids = []\n",
    "t_array = []\n",
    "t_array_add = []\n",
    "t_array_run_ids = []\n",
    "for size in sizes:\n",
    "    tn, tna, run_id_n =  insert_data('numeric', size, nreps=nreps)\n",
    "    t_numeric.append(tn)\n",
    "    t_numeric_add.append(tna)\n",
    "    t_numeric_run_ids.append(run_id_n)\n",
    "\n",
    "    ta, taa, run_id_a =  insert_data('array', size, nreps=nreps)\n",
    "    t_array.append(ta)\n",
    "    t_array_add.append(taa)\n",
    "    t_array_run_ids.append(run_id_a)"
   ]
  },
  {
   "cell_type": "code",
   "execution_count": 8,
   "metadata": {
    "execution": {
     "iopub.execute_input": "2020-12-31T09:11:00.821763Z",
     "iopub.status.busy": "2020-12-31T09:11:00.810727Z",
     "iopub.status.idle": "2020-12-31T09:11:01.044176Z",
     "shell.execute_reply": "2020-12-31T09:11:01.044743Z"
    },
    "scrolled": true
   },
   "outputs": [
    {
     "data": {
      "image/png": "[encoded data removed]",
      "text/plain": [
       "<Figure size 432x288 with 1 Axes>"
      ]
     },
     "metadata": {
      "needs_background": "light"
     },
     "output_type": "display_data"
    }
   ],
   "source": [
    "fig, ax = plt.subplots(1,1)\n",
    "ax.plot(sizes, t_numeric, 'o-', label='Inserting row-by-row')\n",
    "ax.plot(sizes, t_numeric_add, 'o-', label='Inserting row-by-row: add_result only')\n",
    "ax.plot(sizes, t_array, 'd-', label='Inserting as binary blob')\n",
    "ax.plot(sizes, t_array_add, 'd-', label='Inserting as binary blob: add_result only')\n",
    "ax.legend()\n",
    "ax.set_xlabel('Array length')\n",
    "ax.set_ylabel('Time (s)')\n",
    "fig.tight_layout()"
   ]
  },
  {
   "cell_type": "markdown",
   "metadata": {},
   "source": [
    "However, as we increase the length of the experiment, as seen here by repeating the insertion 100 times, we see a big difference between inserting values of the data row-by-row and inserting it as a binary blob."
   ]
  },
  {
   "cell_type": "markdown",
   "metadata": {},
   "source": [
    "## Loading the data "
   ]
  },
  {
   "cell_type": "code",
   "execution_count": 9,
   "metadata": {
    "execution": {
     "iopub.execute_input": "2020-12-31T09:11:01.049613Z",
     "iopub.status.busy": "2020-12-31T09:11:01.048564Z",
     "iopub.status.idle": "2020-12-31T09:11:01.051569Z",
     "shell.execute_reply": "2020-12-31T09:11:01.052075Z"
    }
   },
   "outputs": [],
   "source": [
    "from qcodes.dataset.data_set import load_by_id\n",
    "from qcodes.dataset.data_export import get_data_by_id"
   ]
  },
  {
   "cell_type": "markdown",
   "metadata": {},
   "source": [
    "As usual you can load the data by using the ``load_by_id`` function but you will notice that the different storage methods\n",
    "are reflected in shape of the data as it is retrieved. "
   ]
  },
  {
   "cell_type": "code",
   "execution_count": 10,
   "metadata": {
    "execution": {
     "iopub.execute_input": "2020-12-31T09:11:01.056962Z",
     "iopub.status.busy": "2020-12-31T09:11:01.055662Z",
     "iopub.status.idle": "2020-12-31T09:11:01.057549Z",
     "shell.execute_reply": "2020-12-31T09:11:01.058199Z"
    }
   },
   "outputs": [],
   "source": [
    "run_id_n = t_numeric_run_ids[0]\n",
    "run_id_a = t_array_run_ids[0]"
   ]
  },
  {
   "cell_type": "code",
   "execution_count": 11,
   "metadata": {
    "execution": {
     "iopub.execute_input": "2020-12-31T09:11:01.062055Z",
     "iopub.status.busy": "2020-12-31T09:11:01.061399Z",
     "iopub.status.idle": "2020-12-31T09:11:01.072739Z",
     "shell.execute_reply": "2020-12-31T09:11:01.073369Z"
    },
    "scrolled": true
   },
   "outputs": [
    {
     "data": {
      "text/plain": [
       "{'x1': {'x1': array([7.38424107e-01, 7.38424107e-01, 2.81265961e-02, 2.81265961e-02,\n",
       "         9.91068134e-01, 9.91068134e-01, 2.84161613e-01, 2.84161613e-01,\n",
       "         6.73880420e-01, 6.73880420e-01, 5.63246198e-01, 5.63246198e-01,\n",
       "         7.63713975e-01, 7.63713975e-01, 5.88947808e-01, 5.88947808e-01,\n",
       "         2.15418064e-01, 2.15418064e-01, 9.26331418e-01, 9.26331418e-01,\n",
       "         5.46055666e-02, 5.46055666e-02, 4.91140717e-01, 4.91140717e-01,\n",
       "         9.13727810e-01, 9.13727810e-01, 1.19530049e-01, 1.19530049e-01,\n",
       "         4.93864322e-01, 4.93864322e-01, 5.19913970e-01, 5.19913970e-01,\n",
       "         8.87212104e-01, 8.87212104e-01, 4.04147989e-01, 4.04147989e-01,\n",
       "         2.92612529e-01, 2.92612529e-01, 3.12237340e-01, 3.12237340e-01,\n",
       "         5.20582068e-02, 5.20582068e-02, 3.90155355e-01, 3.90155355e-01,\n",
       "         2.24443666e-01, 2.24443666e-01, 6.32486277e-01, 6.32486277e-01,\n",
       "         4.26571765e-01, 4.26571765e-01, 5.47288250e-01, 5.47288250e-01,\n",
       "         5.96294283e-02, 5.96294283e-02, 8.65081726e-01, 8.65081726e-01,\n",
       "         9.81227250e-01, 9.81227250e-01, 3.79124552e-01, 3.79124552e-01,\n",
       "         1.45234759e-02, 1.45234759e-02, 7.57324670e-01, 7.57324670e-01,\n",
       "         3.08375876e-01, 3.08375876e-01, 6.18333405e-01, 6.18333405e-01,\n",
       "         9.46695770e-01, 9.46695770e-01, 7.11437210e-01, 7.11437210e-01,\n",
       "         7.34052069e-01, 7.34052069e-01, 6.27652253e-01, 6.27652253e-01,\n",
       "         6.39808889e-02, 6.39808889e-02, 1.88718768e-01, 1.88718768e-01,\n",
       "         5.78455482e-01, 5.78455482e-01, 2.48536362e-01, 2.48536362e-01,\n",
       "         5.38187954e-01, 5.38187954e-01, 9.90125368e-01, 9.90125368e-01,\n",
       "         8.48308109e-01, 8.48308109e-01, 1.38352018e-01, 1.38352018e-01,\n",
       "         1.94593101e-01, 1.94593101e-01, 1.48832713e-01, 1.48832713e-01,\n",
       "         1.78586174e-04, 1.78586174e-04, 3.94290409e-01, 3.94290409e-01,\n",
       "         2.07548303e-01, 2.07548303e-01, 9.82543041e-01, 9.82543041e-01,\n",
       "         4.06633879e-01, 4.06633879e-01, 7.75595383e-01, 7.75595383e-01,\n",
       "         2.09455710e-01, 2.09455710e-01, 9.89377844e-02, 9.89377844e-02,\n",
       "         3.91331104e-01, 3.91331104e-01, 1.73377445e-01, 1.73377445e-01,\n",
       "         4.65125314e-01, 4.65125314e-01, 1.28388741e-01, 1.28388741e-01,\n",
       "         6.24790983e-01, 6.24790983e-01, 7.04127365e-01, 7.04127365e-01,\n",
       "         2.18361473e-01, 2.18361473e-01, 1.68025909e-02, 1.68025909e-02,\n",
       "         6.37659726e-01, 6.37659726e-01, 7.46837510e-01, 7.46837510e-01,\n",
       "         3.80416427e-01, 3.80416427e-01, 4.69621763e-01, 4.69621763e-01,\n",
       "         9.84064122e-01, 9.84064122e-01, 5.31252476e-01, 5.31252476e-01,\n",
       "         8.36828252e-01, 8.36828252e-01, 2.21180711e-01, 2.21180711e-01,\n",
       "         4.15574645e-01, 4.15574645e-01, 1.34363876e-01, 1.34363876e-01,\n",
       "         8.00476451e-01, 8.00476451e-01, 2.11963625e-01, 2.11963625e-01,\n",
       "         8.90658176e-01, 8.90658176e-01, 1.16959009e-01, 1.16959009e-01,\n",
       "         3.51218837e-01, 3.51218837e-01, 1.96266115e-01, 1.96266115e-01,\n",
       "         8.97926195e-01, 8.97926195e-01, 5.76512690e-01, 5.76512690e-01,\n",
       "         9.07638211e-01, 9.07638211e-01, 9.58191357e-02, 9.58191357e-02,\n",
       "         8.48437843e-01, 8.48437843e-01, 3.10713706e-01, 3.10713706e-01,\n",
       "         2.22951410e-01, 2.22951410e-01, 4.11292633e-01, 4.11292633e-01,\n",
       "         5.00538222e-01, 5.00538222e-01, 1.28041801e-01, 1.28041801e-01,\n",
       "         3.84513822e-01, 3.84513822e-01, 3.74728040e-01, 3.74728040e-01,\n",
       "         4.30559610e-01, 4.30559610e-01, 7.89352144e-01, 7.89352144e-01,\n",
       "         8.21804534e-01, 8.21804534e-01, 4.60368150e-01, 4.60368150e-01,\n",
       "         8.38171348e-01, 8.38171348e-01, 9.34807266e-01, 9.34807266e-01,\n",
       "         7.79687424e-01, 7.79687424e-01, 2.84638731e-02, 2.84638731e-02])}}"
      ]
     },
     "execution_count": 1,
     "metadata": {},
     "output_type": "execute_result"
    }
   ],
   "source": [
    "ds = load_by_id(run_id_n)\n",
    "ds.get_parameter_data('x1')"
   ]
  },
  {
   "cell_type": "markdown",
   "metadata": {},
   "source": [
    "And a dataset stored as binary arrays"
   ]
  },
  {
   "cell_type": "code",
   "execution_count": 12,
   "metadata": {
    "execution": {
     "iopub.execute_input": "2020-12-31T09:11:01.077799Z",
     "iopub.status.busy": "2020-12-31T09:11:01.077192Z",
     "iopub.status.idle": "2020-12-31T09:11:01.152653Z",
     "shell.execute_reply": "2020-12-31T09:11:01.153277Z"
    },
    "scrolled": true
   },
   "outputs": [
    {
     "data": {
      "text/plain": [
       "{'x1': {'x1': array([[0.12055573],\n",
       "         [0.12055573],\n",
       "         [0.99224065],\n",
       "         [0.99224065],\n",
       "         [0.06261896],\n",
       "         [0.06261896],\n",
       "         [0.26108739],\n",
       "         [0.26108739],\n",
       "         [0.13682068],\n",
       "         [0.13682068],\n",
       "         [0.78171154],\n",
       "         [0.78171154],\n",
       "         [0.033878  ],\n",
       "         [0.033878  ],\n",
       "         [0.378503  ],\n",
       "         [0.378503  ],\n",
       "         [0.74409237],\n",
       "         [0.74409237],\n",
       "         [0.69287893],\n",
       "         [0.69287893],\n",
       "         [0.98655369],\n",
       "         [0.98655369],\n",
       "         [0.27913006],\n",
       "         [0.27913006],\n",
       "         [0.49096913],\n",
       "         [0.49096913],\n",
       "         [0.19654561],\n",
       "         [0.19654561],\n",
       "         [0.12514134],\n",
       "         [0.12514134],\n",
       "         [0.05986095],\n",
       "         [0.05986095],\n",
       "         [0.92656688],\n",
       "         [0.92656688],\n",
       "         [0.08028184],\n",
       "         [0.08028184],\n",
       "         [0.37101938],\n",
       "         [0.37101938],\n",
       "         [0.83141483],\n",
       "         [0.83141483],\n",
       "         [0.50040978],\n",
       "         [0.50040978],\n",
       "         [0.12526935],\n",
       "         [0.12526935],\n",
       "         [0.91783926],\n",
       "         [0.91783926],\n",
       "         [0.5585479 ],\n",
       "         [0.5585479 ],\n",
       "         [0.57901877],\n",
       "         [0.57901877],\n",
       "         [0.25577586],\n",
       "         [0.25577586],\n",
       "         [0.4470815 ],\n",
       "         [0.4470815 ],\n",
       "         [0.86680799],\n",
       "         [0.86680799],\n",
       "         [0.1464424 ],\n",
       "         [0.1464424 ],\n",
       "         [0.91679668],\n",
       "         [0.91679668],\n",
       "         [0.23563184],\n",
       "         [0.23563184],\n",
       "         [0.37985064],\n",
       "         [0.37985064],\n",
       "         [0.06541429],\n",
       "         [0.06541429],\n",
       "         [0.83848731],\n",
       "         [0.83848731],\n",
       "         [0.1914278 ],\n",
       "         [0.1914278 ],\n",
       "         [0.16234045],\n",
       "         [0.16234045],\n",
       "         [0.45103244],\n",
       "         [0.45103244],\n",
       "         [0.39003226],\n",
       "         [0.39003226],\n",
       "         [0.9893333 ],\n",
       "         [0.9893333 ],\n",
       "         [0.98531669],\n",
       "         [0.98531669],\n",
       "         [0.5911537 ],\n",
       "         [0.5911537 ],\n",
       "         [0.8897872 ],\n",
       "         [0.8897872 ],\n",
       "         [0.43837838],\n",
       "         [0.43837838],\n",
       "         [0.57138013],\n",
       "         [0.57138013],\n",
       "         [0.66831327],\n",
       "         [0.66831327],\n",
       "         [0.51963377],\n",
       "         [0.51963377],\n",
       "         [0.88063708],\n",
       "         [0.88063708],\n",
       "         [0.54315118],\n",
       "         [0.54315118],\n",
       "         [0.35111673],\n",
       "         [0.35111673],\n",
       "         [0.11775968],\n",
       "         [0.11775968],\n",
       "         [0.22706928],\n",
       "         [0.22706928],\n",
       "         [0.27864892],\n",
       "         [0.27864892],\n",
       "         [0.10439037],\n",
       "         [0.10439037],\n",
       "         [0.1993831 ],\n",
       "         [0.1993831 ],\n",
       "         [0.517124  ],\n",
       "         [0.517124  ],\n",
       "         [0.53987398],\n",
       "         [0.53987398],\n",
       "         [0.24336772],\n",
       "         [0.24336772],\n",
       "         [0.322771  ],\n",
       "         [0.322771  ],\n",
       "         [0.72983105],\n",
       "         [0.72983105],\n",
       "         [0.54202874],\n",
       "         [0.54202874],\n",
       "         [0.36553026],\n",
       "         [0.36553026],\n",
       "         [0.49495522],\n",
       "         [0.49495522],\n",
       "         [0.74070119],\n",
       "         [0.74070119],\n",
       "         [0.92259517],\n",
       "         [0.92259517],\n",
       "         [0.64767638],\n",
       "         [0.64767638],\n",
       "         [0.00646197],\n",
       "         [0.00646197],\n",
       "         [0.02733019],\n",
       "         [0.02733019],\n",
       "         [0.22307409],\n",
       "         [0.22307409],\n",
       "         [0.47019527],\n",
       "         [0.47019527],\n",
       "         [0.51674598],\n",
       "         [0.51674598],\n",
       "         [0.76439357],\n",
       "         [0.76439357],\n",
       "         [0.74503165],\n",
       "         [0.74503165],\n",
       "         [0.81572974],\n",
       "         [0.81572974],\n",
       "         [0.88858421],\n",
       "         [0.88858421],\n",
       "         [0.18331984],\n",
       "         [0.18331984],\n",
       "         [0.93046037],\n",
       "         [0.93046037],\n",
       "         [0.91311005],\n",
       "         [0.91311005],\n",
       "         [0.74419594],\n",
       "         [0.74419594],\n",
       "         [0.82127164],\n",
       "         [0.82127164],\n",
       "         [0.64390067],\n",
       "         [0.64390067],\n",
       "         [0.80604252],\n",
       "         [0.80604252],\n",
       "         [0.36763422],\n",
       "         [0.36763422],\n",
       "         [0.02113195],\n",
       "         [0.02113195],\n",
       "         [0.54030231],\n",
       "         [0.54030231],\n",
       "         [0.94839804],\n",
       "         [0.94839804],\n",
       "         [0.33562919],\n",
       "         [0.33562919],\n",
       "         [0.44949605],\n",
       "         [0.44949605],\n",
       "         [0.7634603 ],\n",
       "         [0.7634603 ],\n",
       "         [0.03897966],\n",
       "         [0.03897966],\n",
       "         [0.20262292],\n",
       "         [0.20262292],\n",
       "         [0.65360814],\n",
       "         [0.65360814],\n",
       "         [0.80409884],\n",
       "         [0.80409884],\n",
       "         [0.20837953],\n",
       "         [0.20837953],\n",
       "         [0.59362075],\n",
       "         [0.59362075],\n",
       "         [0.05233256],\n",
       "         [0.05233256],\n",
       "         [0.68973368],\n",
       "         [0.68973368],\n",
       "         [0.53702539],\n",
       "         [0.53702539],\n",
       "         [0.36681315],\n",
       "         [0.36681315],\n",
       "         [0.84109875],\n",
       "         [0.84109875],\n",
       "         [0.46802984],\n",
       "         [0.46802984]])}}"
      ]
     },
     "execution_count": 1,
     "metadata": {},
     "output_type": "execute_result"
    }
   ],
   "source": [
    "ds = load_by_id(run_id_a)\n",
    "ds.get_parameter_data('x1')"
   ]
  },
  {
   "cell_type": "code",
   "execution_count": null,
   "metadata": {},
   "outputs": [],
   "source": []
  }
 ],
 "metadata": {
  "kernelspec": {
   "display_name": "Python 3",
   "language": "python",
   "name": "python3"
  },
  "language_info": {
   "codemirror_mode": {
    "name": "ipython",
    "version": 3
   },
   "file_extension": ".py",
   "mimetype": "text/x-python",
   "name": "python",
   "nbconvert_exporter": "python",
   "pygments_lexer": "ipython3",
   "version": "3.7.9"
  },
  "nbsphinx": {
   "timeout": 600
  },
  "toc": {
   "base_numbering": 1,
   "nav_menu": {},
   "number_sections": true,
   "sideBar": true,
   "skip_h1_title": false,
   "title_cell": "Table of Contents",
   "title_sidebar": "Contents",
   "toc_cell": false,
   "toc_position": {},
   "toc_section_display": true,
   "toc_window_display": false
  },
  "varInspector": {
   "cols": {
    "lenName": 16,
    "lenType": 16,
    "lenVar": 40
   },
   "kernels_config": {
    "python": {
     "delete_cmd_postfix": "",
     "delete_cmd_prefix": "del ",
     "library": "var_list.py",
     "varRefreshCmd": "print(var_dic_list())"
    },
    "r": {
     "delete_cmd_postfix": ") ",
     "delete_cmd_prefix": "rm(",
     "library": "var_list.r",
     "varRefreshCmd": "cat(var_dic_list()) "
    }
   },
   "types_to_exclude": [
    "module",
    "function",
    "builtin_function_or_method",
    "instance",
    "_Feature"
   ],
   "window_display": false
  }
 },
 "nbformat": 4,
 "nbformat_minor": 2
}
