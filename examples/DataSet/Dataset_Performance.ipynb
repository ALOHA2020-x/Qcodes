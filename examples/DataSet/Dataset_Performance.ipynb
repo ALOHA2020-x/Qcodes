{
 "cells": [
  {
   "cell_type": "markdown",
   "metadata": {},
   "source": [
    "# DataSet Performance\n",
    "\n",
    "This notebook shows the trade-off between inserting data into a database row-by-row and as binary blobs. Inserting the data row-by-row means that we have direct access to all the data and may perform queries directly on the values of the data. On the other hand, as we shall see, this is much slower than inserting the data directly as binary blobs."
   ]
  },
  {
   "cell_type": "markdown",
   "metadata": {},
   "source": [
    "First, we choose a new location for the database to ensure that we don't add a bunch of benchmarking data to the default one."
   ]
  },
  {
   "cell_type": "code",
   "execution_count": 1,
   "metadata": {
    "execution": {
     "iopub.execute_input": "2021-03-16T07:34:16.796797Z",
     "iopub.status.busy": "2021-03-16T07:34:16.795798Z",
     "iopub.status.idle": "2021-03-16T07:34:17.633314Z",
     "shell.execute_reply": "2021-03-16T07:34:17.632176Z"
    }
   },
   "outputs": [
    {
     "name": "stdout",
     "output_type": "stream",
     "text": [
      "Logging hadn't been started.\n",
      "Activating auto-logging. Current session state plus future input saved.\n",
      "Filename       : /home/runner/.qcodes/logs/command_history.log\n",
      "Mode           : append\n",
      "Output logging : True\n",
      "Raw input log  : False\n",
      "Timestamping   : True\n",
      "State          : active\n"
     ]
    },
    {
     "name": "stdout",
     "output_type": "stream",
     "text": [
      "Qcodes Logfile : /home/runner/.qcodes/logs/210316-4124-qcodes.log\n"
     ]
    }
   ],
   "source": [
    "import os\n",
    "cwd = os.getcwd()\n",
    "import qcodes as qc\n",
    "qc.config[\"core\"][\"db_location\"] = os.path.join(cwd, 'testing.db')\n"
   ]
  },
  {
   "cell_type": "code",
   "execution_count": 2,
   "metadata": {
    "execution": {
     "iopub.execute_input": "2021-03-16T07:34:17.641163Z",
     "iopub.status.busy": "2021-03-16T07:34:17.640267Z",
     "iopub.status.idle": "2021-03-16T07:34:17.825528Z",
     "shell.execute_reply": "2021-03-16T07:34:17.826349Z"
    }
   },
   "outputs": [],
   "source": [
    "%matplotlib inline\n",
    "import time\n",
    "import matplotlib.pyplot as plt\n",
    "import numpy as np\n",
    "\n",
    "import qcodes as qc\n",
    "from qcodes.instrument.parameter import ManualParameter\n",
    "from qcodes.dataset.experiment_container import (Experiment,\n",
    "                                                 load_last_experiment,\n",
    "                                                 new_experiment)\n",
    "from qcodes.dataset.sqlite.database import initialise_database\n",
    "from qcodes import load_or_create_experiment\n",
    "from qcodes.dataset.measurements import Measurement"
   ]
  },
  {
   "cell_type": "code",
   "execution_count": 3,
   "metadata": {
    "execution": {
     "iopub.execute_input": "2021-03-16T07:34:17.832039Z",
     "iopub.status.busy": "2021-03-16T07:34:17.830811Z",
     "iopub.status.idle": "2021-03-16T07:34:17.933465Z",
     "shell.execute_reply": "2021-03-16T07:34:17.932946Z"
    }
   },
   "outputs": [
    {
     "name": "stdout",
     "output_type": "stream",
     "text": [
      "\r",
      "0it [00:00, ?it/s]"
     ]
    },
    {
     "name": "stdout",
     "output_type": "stream",
     "text": [
      "\r",
      "Upgrading database; v0 -> v1: : 0it [00:00, ?it/s]"
     ]
    },
    {
     "name": "stdout",
     "output_type": "stream",
     "text": [
      "\r",
      "Upgrading database; v0 -> v1: : 0it [00:00, ?it/s]"
     ]
    },
    {
     "name": "stdout",
     "output_type": "stream",
     "text": [
      "\n",
      "\r",
      "  0%|          | 0/1 [00:00<?, ?it/s]"
     ]
    },
    {
     "name": "stdout",
     "output_type": "stream",
     "text": [
      "\r",
      "Upgrading database; v1 -> v2:   0%|          | 0/1 [00:00<?, ?it/s]"
     ]
    },
    {
     "name": "stdout",
     "output_type": "stream",
     "text": [
      "\r",
      "Upgrading database; v1 -> v2: 100%|██████████| 1/1 [00:00<00:00, 626.76it/s]"
     ]
    },
    {
     "name": "stdout",
     "output_type": "stream",
     "text": [
      "\n",
      "\r",
      "0it [00:00, ?it/s]"
     ]
    },
    {
     "name": "stdout",
     "output_type": "stream",
     "text": [
      "\r",
      "Upgrading database; v2 -> v3: : 0it [00:00, ?it/s]"
     ]
    },
    {
     "name": "stdout",
     "output_type": "stream",
     "text": [
      "\r",
      "Upgrading database; v2 -> v3: : 0it [00:00, ?it/s]"
     ]
    },
    {
     "name": "stdout",
     "output_type": "stream",
     "text": [
      "\n",
      "\r",
      "0it [00:00, ?it/s]"
     ]
    },
    {
     "name": "stdout",
     "output_type": "stream",
     "text": [
      "\r",
      "Upgrading database; v3 -> v4: : 0it [00:00, ?it/s]"
     ]
    },
    {
     "name": "stdout",
     "output_type": "stream",
     "text": [
      "\r",
      "Upgrading database; v3 -> v4: : 0it [00:00, ?it/s]"
     ]
    },
    {
     "name": "stdout",
     "output_type": "stream",
     "text": [
      "\n",
      "\r",
      "  0%|          | 0/1 [00:00<?, ?it/s]"
     ]
    },
    {
     "name": "stdout",
     "output_type": "stream",
     "text": [
      "\r",
      "Upgrading database; v4 -> v5:   0%|          | 0/1 [00:00<?, ?it/s]"
     ]
    },
    {
     "name": "stdout",
     "output_type": "stream",
     "text": [
      "\r",
      "Upgrading database; v4 -> v5: 100%|██████████| 1/1 [00:00<00:00, 1156.41it/s]"
     ]
    },
    {
     "name": "stdout",
     "output_type": "stream",
     "text": [
      "\n",
      "\r",
      "0it [00:00, ?it/s]"
     ]
    },
    {
     "name": "stdout",
     "output_type": "stream",
     "text": [
      "\r",
      "Upgrading database; v5 -> v6: : 0it [00:00, ?it/s]"
     ]
    },
    {
     "name": "stdout",
     "output_type": "stream",
     "text": [
      "\r",
      "Upgrading database; v5 -> v6: : 0it [00:00, ?it/s]"
     ]
    },
    {
     "name": "stdout",
     "output_type": "stream",
     "text": [
      "\n",
      "\r",
      "  0%|          | 0/1 [00:00<?, ?it/s]"
     ]
    },
    {
     "name": "stdout",
     "output_type": "stream",
     "text": [
      "\r",
      "Upgrading database; v6 -> v7:   0%|          | 0/1 [00:00<?, ?it/s]"
     ]
    },
    {
     "name": "stdout",
     "output_type": "stream",
     "text": [
      "\r",
      "Upgrading database; v6 -> v7: 100%|██████████| 1/1 [00:00<00:00, 572.21it/s]"
     ]
    },
    {
     "name": "stdout",
     "output_type": "stream",
     "text": [
      "\n",
      "\r",
      "  0%|          | 0/1 [00:00<?, ?it/s]"
     ]
    },
    {
     "name": "stdout",
     "output_type": "stream",
     "text": [
      "\r",
      "Upgrading database; v7 -> v8:   0%|          | 0/1 [00:00<?, ?it/s]"
     ]
    },
    {
     "name": "stdout",
     "output_type": "stream",
     "text": [
      "\r",
      "Upgrading database; v7 -> v8: 100%|██████████| 1/1 [00:00<00:00, 928.15it/s]"
     ]
    },
    {
     "name": "stdout",
     "output_type": "stream",
     "text": [
      "\n",
      "\r",
      "  0%|          | 0/1 [00:00<?, ?it/s]"
     ]
    },
    {
     "name": "stdout",
     "output_type": "stream",
     "text": [
      "\r",
      "Upgrading database; v8 -> v9:   0%|          | 0/1 [00:00<?, ?it/s]"
     ]
    },
    {
     "name": "stdout",
     "output_type": "stream",
     "text": [
      "\r",
      "Upgrading database; v8 -> v9: 100%|██████████| 1/1 [00:00<00:00, 1022.75it/s]"
     ]
    },
    {
     "name": "stdout",
     "output_type": "stream",
     "text": [
      "\n"
     ]
    }
   ],
   "source": [
    "initialise_database()\n",
    "exp = load_or_create_experiment(experiment_name='tutorial_exp', sample_name=\"no sample\")"
   ]
  },
  {
   "cell_type": "markdown",
   "metadata": {},
   "source": [
    "Here, we define a simple function to benchmark the time it takes to insert n points with either numeric or array data type.\n",
    "We will compare both the time used to call ``add_result`` and the time used for the full measurement."
   ]
  },
  {
   "cell_type": "code",
   "execution_count": 4,
   "metadata": {
    "execution": {
     "iopub.execute_input": "2021-03-16T07:34:17.942852Z",
     "iopub.status.busy": "2021-03-16T07:34:17.941635Z",
     "iopub.status.idle": "2021-03-16T07:34:17.943458Z",
     "shell.execute_reply": "2021-03-16T07:34:17.943925Z"
    }
   },
   "outputs": [],
   "source": [
    "def insert_data(paramtype, npoints, nreps=1):\n",
    "\n",
    "    meas = Measurement(exp=exp)\n",
    "\n",
    "    x1 = ManualParameter('x1')\n",
    "    x2 = ManualParameter('x2')\n",
    "    x3 = ManualParameter('x3')\n",
    "    y1 = ManualParameter('y1')\n",
    "    y2 = ManualParameter('y2')\n",
    "\n",
    "    meas.register_parameter(x1, paramtype=paramtype)\n",
    "    meas.register_parameter(x2, paramtype=paramtype)\n",
    "    meas.register_parameter(x3, paramtype=paramtype)\n",
    "    meas.register_parameter(y1, setpoints=[x1, x2, x3],\n",
    "                            paramtype=paramtype)\n",
    "    meas.register_parameter(y2, setpoints=[x1, x2, x3],\n",
    "                            paramtype=paramtype)\n",
    "    start = time.perf_counter()\n",
    "    with meas.run() as datasaver:\n",
    "        start_adding = time.perf_counter()\n",
    "        for i in range(nreps):\n",
    "            datasaver.add_result((x1, np.random.rand(npoints)),\n",
    "                                 (x2, np.random.rand(npoints)),\n",
    "                                 (x3, np.random.rand(npoints)),\n",
    "                                 (y1, np.random.rand(npoints)),\n",
    "                                 (y2, np.random.rand(npoints)))\n",
    "        stop_adding = time.perf_counter()\n",
    "        run_id = datasaver.run_id\n",
    "    stop = time.perf_counter()\n",
    "    tot_time = stop - start\n",
    "    add_time = stop_adding - start_adding\n",
    "    return tot_time, add_time, run_id"
   ]
  },
  {
   "cell_type": "markdown",
   "metadata": {},
   "source": [
    "## Comparison between numeric/array data and binary blob"
   ]
  },
  {
   "cell_type": "markdown",
   "metadata": {},
   "source": [
    "### Case1: Short experiment time"
   ]
  },
  {
   "cell_type": "code",
   "execution_count": 5,
   "metadata": {
    "execution": {
     "iopub.execute_input": "2021-03-16T07:34:17.950079Z",
     "iopub.status.busy": "2021-03-16T07:34:17.948655Z",
     "iopub.status.idle": "2021-03-16T07:34:18.710490Z",
     "shell.execute_reply": "2021-03-16T07:34:18.709464Z"
    }
   },
   "outputs": [
    {
     "name": "stdout",
     "output_type": "stream",
     "text": [
      "Starting experimental run with id: 1. \n",
      "Starting experimental run with id: 2. \n",
      "Starting experimental run with id: 3. \n",
      "Starting experimental run with id: 4. \n",
      "Starting experimental run with id: 5. \n"
     ]
    },
    {
     "name": "stdout",
     "output_type": "stream",
     "text": [
      "Starting experimental run with id: 6. \n"
     ]
    },
    {
     "name": "stdout",
     "output_type": "stream",
     "text": [
      "Starting experimental run with id: 7. \n"
     ]
    },
    {
     "name": "stdout",
     "output_type": "stream",
     "text": [
      "Starting experimental run with id: 8. \n",
      "Starting experimental run with id: 9. \n"
     ]
    },
    {
     "name": "stdout",
     "output_type": "stream",
     "text": [
      "Starting experimental run with id: 10. \n"
     ]
    },
    {
     "name": "stdout",
     "output_type": "stream",
     "text": [
      "Starting experimental run with id: 11. \n"
     ]
    },
    {
     "name": "stdout",
     "output_type": "stream",
     "text": [
      "Starting experimental run with id: 12. \n",
      "Starting experimental run with id: 13. \n"
     ]
    },
    {
     "name": "stdout",
     "output_type": "stream",
     "text": [
      "Starting experimental run with id: 14. \n"
     ]
    }
   ],
   "source": [
    "sizes = [1,500,1000,2000,3000,4000,5000]\n",
    "t_numeric = []\n",
    "t_numeric_add = []\n",
    "t_array = []\n",
    "t_array_add = []\n",
    "for size in sizes:\n",
    "    tn, tna, run_id_n =  insert_data('numeric', size)\n",
    "    t_numeric.append(tn)\n",
    "    t_numeric_add.append(tna)\n",
    "\n",
    "    ta, taa, run_id_a =  insert_data('array', size)\n",
    "    t_array.append(ta)\n",
    "    t_array_add.append(taa)"
   ]
  },
  {
   "cell_type": "code",
   "execution_count": 6,
   "metadata": {
    "execution": {
     "iopub.execute_input": "2021-03-16T07:34:18.716342Z",
     "iopub.status.busy": "2021-03-16T07:34:18.715792Z",
     "iopub.status.idle": "2021-03-16T07:34:18.902523Z",
     "shell.execute_reply": "2021-03-16T07:34:18.903353Z"
    }
   },
   "outputs": [
    {
     "data": {
      "image/png": "[encoded data removed]",
      "text/plain": [
       "<Figure size 432x288 with 1 Axes>"
      ]
     },
     "metadata": {
      "needs_background": "light"
     },
     "output_type": "display_data"
    }
   ],
   "source": [
    "fig, ax = plt.subplots(1,1)\n",
    "ax.plot(sizes, t_numeric, 'o-', label='Inserting row-by-row')\n",
    "ax.plot(sizes, t_numeric_add, 'o-', label='Inserting row-by-row: add_result only')\n",
    "ax.plot(sizes, t_array, 'd-', label='Inserting as binary blob')\n",
    "ax.plot(sizes, t_array_add, 'd-', label='Inserting as binary blob: add_result only')\n",
    "ax.legend()\n",
    "ax.set_xlabel('Array length')\n",
    "ax.set_ylabel('Time (s)')\n",
    "fig.tight_layout()"
   ]
  },
  {
   "cell_type": "markdown",
   "metadata": {},
   "source": [
    "As shown in the latter figure, the time to setup and and close the experiment is approximately 0.4 sec. In case of small array sizes, the difference between inserting values of data as arrays and inserting them row-by-row is relatively unimportant. At larger array sizes, i.e. above 10000 points, the cost of writing data as individual datapoints starts to become important.\n"
   ]
  },
  {
   "cell_type": "markdown",
   "metadata": {},
   "source": [
    "### Case2: Long experiment time "
   ]
  },
  {
   "cell_type": "code",
   "execution_count": 7,
   "metadata": {
    "execution": {
     "iopub.execute_input": "2021-03-16T07:34:18.907152Z",
     "iopub.status.busy": "2021-03-16T07:34:18.906042Z",
     "iopub.status.idle": "2021-03-16T07:35:15.715926Z",
     "shell.execute_reply": "2021-03-16T07:35:15.715430Z"
    }
   },
   "outputs": [
    {
     "name": "stdout",
     "output_type": "stream",
     "text": [
      "Starting experimental run with id: 15. \n",
      "Starting experimental run with id: 16. \n",
      "Starting experimental run with id: 17. \n"
     ]
    },
    {
     "name": "stdout",
     "output_type": "stream",
     "text": [
      "Starting experimental run with id: 18. \n",
      "Starting experimental run with id: 19. \n"
     ]
    },
    {
     "name": "stdout",
     "output_type": "stream",
     "text": [
      "Starting experimental run with id: 20. \n"
     ]
    },
    {
     "name": "stdout",
     "output_type": "stream",
     "text": [
      "Starting experimental run with id: 21. \n"
     ]
    },
    {
     "name": "stdout",
     "output_type": "stream",
     "text": [
      "Starting experimental run with id: 22. \n"
     ]
    },
    {
     "name": "stdout",
     "output_type": "stream",
     "text": [
      "Starting experimental run with id: 23. \n"
     ]
    },
    {
     "name": "stdout",
     "output_type": "stream",
     "text": [
      "Starting experimental run with id: 24. \n"
     ]
    },
    {
     "name": "stdout",
     "output_type": "stream",
     "text": [
      "Starting experimental run with id: 25. \n"
     ]
    },
    {
     "name": "stdout",
     "output_type": "stream",
     "text": [
      "Starting experimental run with id: 26. \n"
     ]
    },
    {
     "name": "stdout",
     "output_type": "stream",
     "text": [
      "Starting experimental run with id: 27. \n"
     ]
    },
    {
     "name": "stdout",
     "output_type": "stream",
     "text": [
      "Starting experimental run with id: 28. \n"
     ]
    }
   ],
   "source": [
    "sizes = [1,500,1000,2000,3000,4000,5000]\n",
    "nreps = 100\n",
    "t_numeric = []\n",
    "t_numeric_add = []\n",
    "t_numeric_run_ids = []\n",
    "t_array = []\n",
    "t_array_add = []\n",
    "t_array_run_ids = []\n",
    "for size in sizes:\n",
    "    tn, tna, run_id_n =  insert_data('numeric', size, nreps=nreps)\n",
    "    t_numeric.append(tn)\n",
    "    t_numeric_add.append(tna)\n",
    "    t_numeric_run_ids.append(run_id_n)\n",
    "\n",
    "    ta, taa, run_id_a =  insert_data('array', size, nreps=nreps)\n",
    "    t_array.append(ta)\n",
    "    t_array_add.append(taa)\n",
    "    t_array_run_ids.append(run_id_a)"
   ]
  },
  {
   "cell_type": "code",
   "execution_count": 8,
   "metadata": {
    "execution": {
     "iopub.execute_input": "2021-03-16T07:35:15.756777Z",
     "iopub.status.busy": "2021-03-16T07:35:15.746273Z",
     "iopub.status.idle": "2021-03-16T07:35:15.915548Z",
     "shell.execute_reply": "2021-03-16T07:35:15.916276Z"
    },
    "scrolled": true
   },
   "outputs": [
    {
     "data": {
      "image/png": "[encoded data removed]",
      "text/plain": [
       "<Figure size 432x288 with 1 Axes>"
      ]
     },
     "metadata": {
      "needs_background": "light"
     },
     "output_type": "display_data"
    }
   ],
   "source": [
    "fig, ax = plt.subplots(1,1)\n",
    "ax.plot(sizes, t_numeric, 'o-', label='Inserting row-by-row')\n",
    "ax.plot(sizes, t_numeric_add, 'o-', label='Inserting row-by-row: add_result only')\n",
    "ax.plot(sizes, t_array, 'd-', label='Inserting as binary blob')\n",
    "ax.plot(sizes, t_array_add, 'd-', label='Inserting as binary blob: add_result only')\n",
    "ax.legend()\n",
    "ax.set_xlabel('Array length')\n",
    "ax.set_ylabel('Time (s)')\n",
    "fig.tight_layout()"
   ]
  },
  {
   "cell_type": "markdown",
   "metadata": {},
   "source": [
    "However, as we increase the length of the experiment, as seen here by repeating the insertion 100 times, we see a big difference between inserting values of the data row-by-row and inserting it as a binary blob."
   ]
  },
  {
   "cell_type": "markdown",
   "metadata": {},
   "source": [
    "## Loading the data "
   ]
  },
  {
   "cell_type": "code",
   "execution_count": 9,
   "metadata": {
    "execution": {
     "iopub.execute_input": "2021-03-16T07:35:15.920545Z",
     "iopub.status.busy": "2021-03-16T07:35:15.919383Z",
     "iopub.status.idle": "2021-03-16T07:35:15.924389Z",
     "shell.execute_reply": "2021-03-16T07:35:15.923972Z"
    }
   },
   "outputs": [],
   "source": [
    "from qcodes.dataset.data_set import load_by_id\n",
    "from qcodes.dataset.data_export import get_data_by_id"
   ]
  },
  {
   "cell_type": "markdown",
   "metadata": {},
   "source": [
    "As usual you can load the data by using the ``load_by_id`` function but you will notice that the different storage methods\n",
    "are reflected in shape of the data as it is retrieved. "
   ]
  },
  {
   "cell_type": "code",
   "execution_count": 10,
   "metadata": {
    "execution": {
     "iopub.execute_input": "2021-03-16T07:35:15.928617Z",
     "iopub.status.busy": "2021-03-16T07:35:15.928025Z",
     "iopub.status.idle": "2021-03-16T07:35:15.931531Z",
     "shell.execute_reply": "2021-03-16T07:35:15.931030Z"
    }
   },
   "outputs": [],
   "source": [
    "run_id_n = t_numeric_run_ids[0]\n",
    "run_id_a = t_array_run_ids[0]"
   ]
  },
  {
   "cell_type": "code",
   "execution_count": 11,
   "metadata": {
    "execution": {
     "iopub.execute_input": "2021-03-16T07:35:15.935133Z",
     "iopub.status.busy": "2021-03-16T07:35:15.934591Z",
     "iopub.status.idle": "2021-03-16T07:35:15.944993Z",
     "shell.execute_reply": "2021-03-16T07:35:15.945514Z"
    },
    "scrolled": true
   },
   "outputs": [
    {
     "data": {
      "text/plain": [
       "{'x1': {'x1': array([0.82287689, 0.82287689, 0.36144086, 0.36144086, 0.73059905,\n",
       "         0.73059905, 0.27639102, 0.27639102, 0.03427347, 0.03427347,\n",
       "         0.41649705, 0.41649705, 0.8714477 , 0.8714477 , 0.72323325,\n",
       "         0.72323325, 0.29774323, 0.29774323, 0.47644525, 0.47644525,\n",
       "         0.99449589, 0.99449589, 0.35716223, 0.35716223, 0.89668518,\n",
       "         0.89668518, 0.85564889, 0.85564889, 0.34789054, 0.34789054,\n",
       "         0.46817807, 0.46817807, 0.06073891, 0.06073891, 0.37490414,\n",
       "         0.37490414, 0.35159502, 0.35159502, 0.64538965, 0.64538965,\n",
       "         0.02078151, 0.02078151, 0.50855422, 0.50855422, 0.16128569,\n",
       "         0.16128569, 0.09432318, 0.09432318, 0.85690797, 0.85690797,\n",
       "         0.76701965, 0.76701965, 0.66148143, 0.66148143, 0.48254661,\n",
       "         0.48254661, 0.67203612, 0.67203612, 0.09037771, 0.09037771,\n",
       "         0.51394848, 0.51394848, 0.79899765, 0.79899765, 0.32126869,\n",
       "         0.32126869, 0.11442413, 0.11442413, 0.68661294, 0.68661294,\n",
       "         0.50103745, 0.50103745, 0.53117359, 0.53117359, 0.27484527,\n",
       "         0.27484527, 0.41584393, 0.41584393, 0.75120588, 0.75120588,\n",
       "         0.98093569, 0.98093569, 0.16929625, 0.16929625, 0.72351154,\n",
       "         0.72351154, 0.98709466, 0.98709466, 0.32257434, 0.32257434,\n",
       "         0.99875265, 0.99875265, 0.32044969, 0.32044969, 0.16264072,\n",
       "         0.16264072, 0.55368083, 0.55368083, 0.39755418, 0.39755418,\n",
       "         0.37668916, 0.37668916, 0.38239112, 0.38239112, 0.35550609,\n",
       "         0.35550609, 0.76480538, 0.76480538, 0.30179856, 0.30179856,\n",
       "         0.84236048, 0.84236048, 0.34642688, 0.34642688, 0.68190372,\n",
       "         0.68190372, 0.93722605, 0.93722605, 0.47454727, 0.47454727,\n",
       "         0.30870641, 0.30870641, 0.32439056, 0.32439056, 0.53810559,\n",
       "         0.53810559, 0.19389417, 0.19389417, 0.57142739, 0.57142739,\n",
       "         0.24774898, 0.24774898, 0.26655385, 0.26655385, 0.89854405,\n",
       "         0.89854405, 0.59948539, 0.59948539, 0.49434287, 0.49434287,\n",
       "         0.42442158, 0.42442158, 0.69882552, 0.69882552, 0.34948845,\n",
       "         0.34948845, 0.84337531, 0.84337531, 0.89883622, 0.89883622,\n",
       "         0.13157849, 0.13157849, 0.59309408, 0.59309408, 0.91640433,\n",
       "         0.91640433, 0.42288376, 0.42288376, 0.02679137, 0.02679137,\n",
       "         0.4312851 , 0.4312851 , 0.14808921, 0.14808921, 0.19465075,\n",
       "         0.19465075, 0.49223566, 0.49223566, 0.06384558, 0.06384558,\n",
       "         0.13472447, 0.13472447, 0.47368304, 0.47368304, 0.22992518,\n",
       "         0.22992518, 0.86240328, 0.86240328, 0.7513522 , 0.7513522 ,\n",
       "         0.7014452 , 0.7014452 , 0.60153497, 0.60153497, 0.98820446,\n",
       "         0.98820446, 0.4434213 , 0.4434213 , 0.05725816, 0.05725816,\n",
       "         0.5888328 , 0.5888328 , 0.82511993, 0.82511993, 0.92559647,\n",
       "         0.92559647, 0.22648773, 0.22648773, 0.85362008, 0.85362008])}}"
      ]
     },
     "execution_count": 1,
     "metadata": {},
     "output_type": "execute_result"
    }
   ],
   "source": [
    "ds = load_by_id(run_id_n)\n",
    "ds.get_parameter_data('x1')"
   ]
  },
  {
   "cell_type": "markdown",
   "metadata": {},
   "source": [
    "And a dataset stored as binary arrays"
   ]
  },
  {
   "cell_type": "code",
   "execution_count": 12,
   "metadata": {
    "execution": {
     "iopub.execute_input": "2021-03-16T07:35:15.948869Z",
     "iopub.status.busy": "2021-03-16T07:35:15.948342Z",
     "iopub.status.idle": "2021-03-16T07:35:16.001730Z",
     "shell.execute_reply": "2021-03-16T07:35:16.002213Z"
    },
    "scrolled": true
   },
   "outputs": [
    {
     "data": {
      "text/plain": [
       "{'x1': {'x1': array([[0.66767391],\n",
       "         [0.66767391],\n",
       "         [0.7620099 ],\n",
       "         [0.7620099 ],\n",
       "         [0.7688385 ],\n",
       "         [0.7688385 ],\n",
       "         [0.89417053],\n",
       "         [0.89417053],\n",
       "         [0.33913943],\n",
       "         [0.33913943],\n",
       "         [0.02739996],\n",
       "         [0.02739996],\n",
       "         [0.40688502],\n",
       "         [0.40688502],\n",
       "         [0.49230694],\n",
       "         [0.49230694],\n",
       "         [0.92001314],\n",
       "         [0.92001314],\n",
       "         [0.87447106],\n",
       "         [0.87447106],\n",
       "         [0.66805627],\n",
       "         [0.66805627],\n",
       "         [0.35789486],\n",
       "         [0.35789486],\n",
       "         [0.95429943],\n",
       "         [0.95429943],\n",
       "         [0.17356696],\n",
       "         [0.17356696],\n",
       "         [0.75424501],\n",
       "         [0.75424501],\n",
       "         [0.22057005],\n",
       "         [0.22057005],\n",
       "         [0.86008857],\n",
       "         [0.86008857],\n",
       "         [0.64585872],\n",
       "         [0.64585872],\n",
       "         [0.17774042],\n",
       "         [0.17774042],\n",
       "         [0.25615005],\n",
       "         [0.25615005],\n",
       "         [0.52242069],\n",
       "         [0.52242069],\n",
       "         [0.49192871],\n",
       "         [0.49192871],\n",
       "         [0.72885115],\n",
       "         [0.72885115],\n",
       "         [0.10368745],\n",
       "         [0.10368745],\n",
       "         [0.0634295 ],\n",
       "         [0.0634295 ],\n",
       "         [0.03380788],\n",
       "         [0.03380788],\n",
       "         [0.10747101],\n",
       "         [0.10747101],\n",
       "         [0.68577286],\n",
       "         [0.68577286],\n",
       "         [0.00300632],\n",
       "         [0.00300632],\n",
       "         [0.49028369],\n",
       "         [0.49028369],\n",
       "         [0.60478   ],\n",
       "         [0.60478   ],\n",
       "         [0.12205433],\n",
       "         [0.12205433],\n",
       "         [0.93017609],\n",
       "         [0.93017609],\n",
       "         [0.39865606],\n",
       "         [0.39865606],\n",
       "         [0.61129361],\n",
       "         [0.61129361],\n",
       "         [0.95331296],\n",
       "         [0.95331296],\n",
       "         [0.35459361],\n",
       "         [0.35459361],\n",
       "         [0.42231671],\n",
       "         [0.42231671],\n",
       "         [0.45677223],\n",
       "         [0.45677223],\n",
       "         [0.16110327],\n",
       "         [0.16110327],\n",
       "         [0.20994061],\n",
       "         [0.20994061],\n",
       "         [0.36534531],\n",
       "         [0.36534531],\n",
       "         [0.83285494],\n",
       "         [0.83285494],\n",
       "         [0.2215948 ],\n",
       "         [0.2215948 ],\n",
       "         [0.55125084],\n",
       "         [0.55125084],\n",
       "         [0.79452387],\n",
       "         [0.79452387],\n",
       "         [0.14062355],\n",
       "         [0.14062355],\n",
       "         [0.76443639],\n",
       "         [0.76443639],\n",
       "         [0.56363893],\n",
       "         [0.56363893],\n",
       "         [0.41836394],\n",
       "         [0.41836394],\n",
       "         [0.88379915],\n",
       "         [0.88379915],\n",
       "         [0.70126431],\n",
       "         [0.70126431],\n",
       "         [0.55657103],\n",
       "         [0.55657103],\n",
       "         [0.99967659],\n",
       "         [0.99967659],\n",
       "         [0.16145487],\n",
       "         [0.16145487],\n",
       "         [0.98272657],\n",
       "         [0.98272657],\n",
       "         [0.74566905],\n",
       "         [0.74566905],\n",
       "         [0.19321574],\n",
       "         [0.19321574],\n",
       "         [0.67309533],\n",
       "         [0.67309533],\n",
       "         [0.45186367],\n",
       "         [0.45186367],\n",
       "         [0.86501346],\n",
       "         [0.86501346],\n",
       "         [0.91302913],\n",
       "         [0.91302913],\n",
       "         [0.59991182],\n",
       "         [0.59991182],\n",
       "         [0.40332953],\n",
       "         [0.40332953],\n",
       "         [0.57694823],\n",
       "         [0.57694823],\n",
       "         [0.48992858],\n",
       "         [0.48992858],\n",
       "         [0.1702121 ],\n",
       "         [0.1702121 ],\n",
       "         [0.86014556],\n",
       "         [0.86014556],\n",
       "         [0.67541967],\n",
       "         [0.67541967],\n",
       "         [0.4138819 ],\n",
       "         [0.4138819 ],\n",
       "         [0.5651297 ],\n",
       "         [0.5651297 ],\n",
       "         [0.72671358],\n",
       "         [0.72671358],\n",
       "         [0.63790553],\n",
       "         [0.63790553],\n",
       "         [0.11058685],\n",
       "         [0.11058685],\n",
       "         [0.32477836],\n",
       "         [0.32477836],\n",
       "         [0.29137492],\n",
       "         [0.29137492],\n",
       "         [0.32370481],\n",
       "         [0.32370481],\n",
       "         [0.00907199],\n",
       "         [0.00907199],\n",
       "         [0.60770265],\n",
       "         [0.60770265],\n",
       "         [0.03529032],\n",
       "         [0.03529032],\n",
       "         [0.03436433],\n",
       "         [0.03436433],\n",
       "         [0.69490863],\n",
       "         [0.69490863],\n",
       "         [0.37646178],\n",
       "         [0.37646178],\n",
       "         [0.78169443],\n",
       "         [0.78169443],\n",
       "         [0.87893229],\n",
       "         [0.87893229],\n",
       "         [0.50856028],\n",
       "         [0.50856028],\n",
       "         [0.40544285],\n",
       "         [0.40544285],\n",
       "         [0.54021925],\n",
       "         [0.54021925],\n",
       "         [0.06248472],\n",
       "         [0.06248472],\n",
       "         [0.54532689],\n",
       "         [0.54532689],\n",
       "         [0.26569646],\n",
       "         [0.26569646],\n",
       "         [0.78092055],\n",
       "         [0.78092055],\n",
       "         [0.45067581],\n",
       "         [0.45067581],\n",
       "         [0.98140101],\n",
       "         [0.98140101],\n",
       "         [0.01520453],\n",
       "         [0.01520453],\n",
       "         [0.72765119],\n",
       "         [0.72765119],\n",
       "         [0.4299085 ],\n",
       "         [0.4299085 ],\n",
       "         [0.24958676],\n",
       "         [0.24958676],\n",
       "         [0.21566977],\n",
       "         [0.21566977],\n",
       "         [0.77495412],\n",
       "         [0.77495412]])}}"
      ]
     },
     "execution_count": 1,
     "metadata": {},
     "output_type": "execute_result"
    }
   ],
   "source": [
    "ds = load_by_id(run_id_a)\n",
    "ds.get_parameter_data('x1')"
   ]
  },
  {
   "cell_type": "code",
   "execution_count": null,
   "metadata": {},
   "outputs": [],
   "source": []
  }
 ],
 "metadata": {
  "kernelspec": {
   "display_name": "Python 3",
   "language": "python",
   "name": "python3"
  },
  "language_info": {
   "codemirror_mode": {
    "name": "ipython",
    "version": 3
   },
   "file_extension": ".py",
   "mimetype": "text/x-python",
   "name": "python",
   "nbconvert_exporter": "python",
   "pygments_lexer": "ipython3",
   "version": "3.7.10"
  },
  "nbsphinx": {
   "timeout": 600
  },
  "toc": {
   "base_numbering": 1,
   "nav_menu": {},
   "number_sections": true,
   "sideBar": true,
   "skip_h1_title": false,
   "title_cell": "Table of Contents",
   "title_sidebar": "Contents",
   "toc_cell": false,
   "toc_position": {},
   "toc_section_display": true,
   "toc_window_display": false
  },
  "varInspector": {
   "cols": {
    "lenName": 16,
    "lenType": 16,
    "lenVar": 40
   },
   "kernels_config": {
    "python": {
     "delete_cmd_postfix": "",
     "delete_cmd_prefix": "del ",
     "library": "var_list.py",
     "varRefreshCmd": "print(var_dic_list())"
    },
    "r": {
     "delete_cmd_postfix": ") ",
     "delete_cmd_prefix": "rm(",
     "library": "var_list.r",
     "varRefreshCmd": "cat(var_dic_list()) "
    }
   },
   "types_to_exclude": [
    "module",
    "function",
    "builtin_function_or_method",
    "instance",
    "_Feature"
   ],
   "window_display": false
  }
 },
 "nbformat": 4,
 "nbformat_minor": 2
}
