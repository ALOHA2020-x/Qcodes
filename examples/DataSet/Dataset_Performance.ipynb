{
 "cells": [
  {
   "cell_type": "markdown",
   "metadata": {},
   "source": [
    "# DataSet Performance\n",
    "\n",
    "This notebook shows the trade-off between inserting data into a database row-by-row and as binary blobs. Inserting the data row-by-row means that we have direct access to all the data and may perform queries directly on the values of the data. On the other hand, as we shall see, this is much slower than inserting the data directly as binary blobs."
   ]
  },
  {
   "cell_type": "markdown",
   "metadata": {},
   "source": [
    "First, we choose a new location for the database to ensure that we don't add a bunch of benchmarking data to the default one."
   ]
  },
  {
   "cell_type": "code",
   "execution_count": 1,
   "metadata": {
    "execution": {
     "iopub.execute_input": "2020-12-25T16:58:19.751988Z",
     "iopub.status.busy": "2020-12-25T16:58:19.751475Z",
     "iopub.status.idle": "2020-12-25T16:58:20.770062Z",
     "shell.execute_reply": "2020-12-25T16:58:20.770511Z"
    }
   },
   "outputs": [
    {
     "name": "stdout",
     "output_type": "stream",
     "text": [
      "Logging hadn't been started.\n",
      "Activating auto-logging. Current session state plus future input saved.\n",
      "Filename       : /home/vsts/.qcodes/logs/command_history.log\n",
      "Mode           : append\n",
      "Output logging : True\n",
      "Raw input log  : False\n",
      "Timestamping   : True\n",
      "State          : active\n"
     ]
    },
    {
     "name": "stdout",
     "output_type": "stream",
     "text": [
      "Qcodes Logfile : /home/vsts/.qcodes/logs/201225-13962-qcodes.log\n"
     ]
    }
   ],
   "source": [
    "import os\n",
    "cwd = os.getcwd()\n",
    "import qcodes as qc\n",
    "qc.config[\"core\"][\"db_location\"] = os.path.join(cwd, 'testing.db')\n"
   ]
  },
  {
   "cell_type": "code",
   "execution_count": 2,
   "metadata": {
    "execution": {
     "iopub.execute_input": "2020-12-25T16:58:20.776867Z",
     "iopub.status.busy": "2020-12-25T16:58:20.775988Z",
     "iopub.status.idle": "2020-12-25T16:58:20.959589Z",
     "shell.execute_reply": "2020-12-25T16:58:20.958333Z"
    }
   },
   "outputs": [],
   "source": [
    "%matplotlib inline\n",
    "import time\n",
    "import matplotlib.pyplot as plt\n",
    "import numpy as np\n",
    "\n",
    "import qcodes as qc\n",
    "from qcodes.instrument.parameter import ManualParameter\n",
    "from qcodes.dataset.experiment_container import (Experiment,\n",
    "                                                 load_last_experiment,\n",
    "                                                 new_experiment)\n",
    "from qcodes.dataset.sqlite.database import initialise_database\n",
    "from qcodes import load_or_create_experiment\n",
    "from qcodes.dataset.measurements import Measurement"
   ]
  },
  {
   "cell_type": "code",
   "execution_count": 3,
   "metadata": {
    "execution": {
     "iopub.execute_input": "2020-12-25T16:58:20.963518Z",
     "iopub.status.busy": "2020-12-25T16:58:20.963010Z",
     "iopub.status.idle": "2020-12-25T16:58:21.088023Z",
     "shell.execute_reply": "2020-12-25T16:58:21.087566Z"
    }
   },
   "outputs": [
    {
     "name": "stdout",
     "output_type": "stream",
     "text": [
      "\r",
      "0it [00:00, ?it/s]"
     ]
    },
    {
     "name": "stdout",
     "output_type": "stream",
     "text": [
      "\r",
      "Upgrading database; v0 -> v1: : 0it [00:00, ?it/s]"
     ]
    },
    {
     "name": "stdout",
     "output_type": "stream",
     "text": [
      "\r",
      "Upgrading database; v0 -> v1: : 0it [00:00, ?it/s]"
     ]
    },
    {
     "name": "stdout",
     "output_type": "stream",
     "text": [
      "\n",
      "\r",
      "  0%|          | 0/1 [00:00<?, ?it/s]"
     ]
    },
    {
     "name": "stdout",
     "output_type": "stream",
     "text": [
      "\r",
      "Upgrading database; v1 -> v2:   0%|          | 0/1 [00:00<?, ?it/s]"
     ]
    },
    {
     "name": "stdout",
     "output_type": "stream",
     "text": [
      "\r",
      "Upgrading database; v1 -> v2: 100%|██████████| 1/1 [00:00<00:00, 557.46it/s]"
     ]
    },
    {
     "name": "stdout",
     "output_type": "stream",
     "text": [
      "\n",
      "\r",
      "0it [00:00, ?it/s]"
     ]
    },
    {
     "name": "stdout",
     "output_type": "stream",
     "text": [
      "\r",
      "Upgrading database; v2 -> v3: : 0it [00:00, ?it/s]"
     ]
    },
    {
     "name": "stdout",
     "output_type": "stream",
     "text": [
      "\r",
      "Upgrading database; v2 -> v3: : 0it [00:00, ?it/s]"
     ]
    },
    {
     "name": "stdout",
     "output_type": "stream",
     "text": [
      "\n",
      "\r",
      "0it [00:00, ?it/s]"
     ]
    },
    {
     "name": "stdout",
     "output_type": "stream",
     "text": [
      "\r",
      "Upgrading database; v3 -> v4: : 0it [00:00, ?it/s]"
     ]
    },
    {
     "name": "stdout",
     "output_type": "stream",
     "text": [
      "\r",
      "Upgrading database; v3 -> v4: : 0it [00:00, ?it/s]"
     ]
    },
    {
     "name": "stdout",
     "output_type": "stream",
     "text": [
      "\n",
      "\r",
      "  0%|          | 0/1 [00:00<?, ?it/s]"
     ]
    },
    {
     "name": "stdout",
     "output_type": "stream",
     "text": [
      "\r",
      "Upgrading database; v4 -> v5:   0%|          | 0/1 [00:00<?, ?it/s]"
     ]
    },
    {
     "name": "stdout",
     "output_type": "stream",
     "text": [
      "\r",
      "Upgrading database; v4 -> v5: 100%|██████████| 1/1 [00:00<00:00, 459.75it/s]"
     ]
    },
    {
     "name": "stdout",
     "output_type": "stream",
     "text": [
      "\n",
      "\r",
      "0it [00:00, ?it/s]"
     ]
    },
    {
     "name": "stdout",
     "output_type": "stream",
     "text": [
      "\r",
      "Upgrading database; v5 -> v6: : 0it [00:00, ?it/s]"
     ]
    },
    {
     "name": "stdout",
     "output_type": "stream",
     "text": [
      "\r",
      "Upgrading database; v5 -> v6: : 0it [00:00, ?it/s]"
     ]
    },
    {
     "name": "stdout",
     "output_type": "stream",
     "text": [
      "\n",
      "\r",
      "  0%|          | 0/1 [00:00<?, ?it/s]"
     ]
    },
    {
     "name": "stdout",
     "output_type": "stream",
     "text": [
      "\r",
      "Upgrading database; v6 -> v7:   0%|          | 0/1 [00:00<?, ?it/s]"
     ]
    },
    {
     "name": "stdout",
     "output_type": "stream",
     "text": [
      "\r",
      "Upgrading database; v6 -> v7: 100%|██████████| 1/1 [00:00<00:00, 207.70it/s]"
     ]
    },
    {
     "name": "stdout",
     "output_type": "stream",
     "text": [
      "\n",
      "\r",
      "  0%|          | 0/1 [00:00<?, ?it/s]"
     ]
    },
    {
     "name": "stdout",
     "output_type": "stream",
     "text": [
      "\r",
      "Upgrading database; v7 -> v8:   0%|          | 0/1 [00:00<?, ?it/s]"
     ]
    },
    {
     "name": "stdout",
     "output_type": "stream",
     "text": [
      "\r",
      "Upgrading database; v7 -> v8: 100%|██████████| 1/1 [00:00<00:00, 514.89it/s]"
     ]
    },
    {
     "name": "stdout",
     "output_type": "stream",
     "text": [
      "\n",
      "\r",
      "  0%|          | 0/1 [00:00<?, ?it/s]"
     ]
    },
    {
     "name": "stdout",
     "output_type": "stream",
     "text": [
      "\r",
      "Upgrading database; v8 -> v9:   0%|          | 0/1 [00:00<?, ?it/s]"
     ]
    },
    {
     "name": "stdout",
     "output_type": "stream",
     "text": [
      "\r",
      "Upgrading database; v8 -> v9: 100%|██████████| 1/1 [00:00<00:00, 462.44it/s]"
     ]
    },
    {
     "name": "stdout",
     "output_type": "stream",
     "text": [
      "\n"
     ]
    }
   ],
   "source": [
    "initialise_database()\n",
    "exp = load_or_create_experiment(experiment_name='tutorial_exp', sample_name=\"no sample\")"
   ]
  },
  {
   "cell_type": "markdown",
   "metadata": {},
   "source": [
    "Here, we define a simple function to benchmark the time it takes to insert n points with either numeric or array data type.\n",
    "We will compare both the time used to call ``add_result`` and the time used for the full measurement."
   ]
  },
  {
   "cell_type": "code",
   "execution_count": 4,
   "metadata": {
    "execution": {
     "iopub.execute_input": "2020-12-25T16:58:21.096023Z",
     "iopub.status.busy": "2020-12-25T16:58:21.095499Z",
     "iopub.status.idle": "2020-12-25T16:58:21.097842Z",
     "shell.execute_reply": "2020-12-25T16:58:21.097295Z"
    }
   },
   "outputs": [],
   "source": [
    "def insert_data(paramtype, npoints, nreps=1):\n",
    "\n",
    "    meas = Measurement(exp=exp)\n",
    "\n",
    "    x1 = ManualParameter('x1')\n",
    "    x2 = ManualParameter('x2')\n",
    "    x3 = ManualParameter('x3')\n",
    "    y1 = ManualParameter('y1')\n",
    "    y2 = ManualParameter('y2')\n",
    "\n",
    "    meas.register_parameter(x1, paramtype=paramtype)\n",
    "    meas.register_parameter(x2, paramtype=paramtype)\n",
    "    meas.register_parameter(x3, paramtype=paramtype)\n",
    "    meas.register_parameter(y1, setpoints=[x1, x2, x3],\n",
    "                            paramtype=paramtype)\n",
    "    meas.register_parameter(y2, setpoints=[x1, x2, x3],\n",
    "                            paramtype=paramtype)\n",
    "    start = time.perf_counter()\n",
    "    with meas.run() as datasaver:\n",
    "        start_adding = time.perf_counter()\n",
    "        for i in range(nreps):\n",
    "            datasaver.add_result((x1, np.random.rand(npoints)),\n",
    "                                 (x2, np.random.rand(npoints)),\n",
    "                                 (x3, np.random.rand(npoints)),\n",
    "                                 (y1, np.random.rand(npoints)),\n",
    "                                 (y2, np.random.rand(npoints)))\n",
    "        stop_adding = time.perf_counter()\n",
    "        run_id = datasaver.run_id\n",
    "    stop = time.perf_counter()\n",
    "    tot_time = stop - start\n",
    "    add_time = stop_adding - start_adding\n",
    "    return tot_time, add_time, run_id"
   ]
  },
  {
   "cell_type": "markdown",
   "metadata": {},
   "source": [
    "## Comparison between numeric/array data and binary blob"
   ]
  },
  {
   "cell_type": "markdown",
   "metadata": {},
   "source": [
    "### Case1: Short experiment time"
   ]
  },
  {
   "cell_type": "code",
   "execution_count": 5,
   "metadata": {
    "execution": {
     "iopub.execute_input": "2020-12-25T16:58:21.104697Z",
     "iopub.status.busy": "2020-12-25T16:58:21.104182Z",
     "iopub.status.idle": "2020-12-25T16:58:21.908357Z",
     "shell.execute_reply": "2020-12-25T16:58:21.907770Z"
    }
   },
   "outputs": [
    {
     "name": "stdout",
     "output_type": "stream",
     "text": [
      "Starting experimental run with id: 1. \n",
      "Starting experimental run with id: 2. \n",
      "Starting experimental run with id: 3. \n",
      "Starting experimental run with id: 4. \n",
      "Starting experimental run with id: 5. \n"
     ]
    },
    {
     "name": "stdout",
     "output_type": "stream",
     "text": [
      "Starting experimental run with id: 6. \n"
     ]
    },
    {
     "name": "stdout",
     "output_type": "stream",
     "text": [
      "Starting experimental run with id: 7. \n"
     ]
    },
    {
     "name": "stdout",
     "output_type": "stream",
     "text": [
      "Starting experimental run with id: 8. \n",
      "Starting experimental run with id: 9. \n"
     ]
    },
    {
     "name": "stdout",
     "output_type": "stream",
     "text": [
      "Starting experimental run with id: 10. \n",
      "Starting experimental run with id: 11. \n"
     ]
    },
    {
     "name": "stdout",
     "output_type": "stream",
     "text": [
      "Starting experimental run with id: 12. \n",
      "Starting experimental run with id: 13. \n"
     ]
    },
    {
     "name": "stdout",
     "output_type": "stream",
     "text": [
      "Starting experimental run with id: 14. \n"
     ]
    }
   ],
   "source": [
    "sizes = [1,500,1000,2000,3000,4000,5000]\n",
    "t_numeric = []\n",
    "t_numeric_add = []\n",
    "t_array = []\n",
    "t_array_add = []\n",
    "for size in sizes:\n",
    "    tn, tna, run_id_n =  insert_data('numeric', size)\n",
    "    t_numeric.append(tn)\n",
    "    t_numeric_add.append(tna)\n",
    "\n",
    "    ta, taa, run_id_a =  insert_data('array', size)\n",
    "    t_array.append(ta)\n",
    "    t_array_add.append(taa)"
   ]
  },
  {
   "cell_type": "code",
   "execution_count": 6,
   "metadata": {
    "execution": {
     "iopub.execute_input": "2020-12-25T16:58:21.924864Z",
     "iopub.status.busy": "2020-12-25T16:58:21.912316Z",
     "iopub.status.idle": "2020-12-25T16:58:22.102688Z",
     "shell.execute_reply": "2020-12-25T16:58:22.103483Z"
    }
   },
   "outputs": [
    {
     "data": {
      "image/png": "[encoded data removed]",
      "text/plain": [
       "<Figure size 432x288 with 1 Axes>"
      ]
     },
     "metadata": {
      "needs_background": "light"
     },
     "output_type": "display_data"
    }
   ],
   "source": [
    "fig, ax = plt.subplots(1,1)\n",
    "ax.plot(sizes, t_numeric, 'o-', label='Inserting row-by-row')\n",
    "ax.plot(sizes, t_numeric_add, 'o-', label='Inserting row-by-row: add_result only')\n",
    "ax.plot(sizes, t_array, 'd-', label='Inserting as binary blob')\n",
    "ax.plot(sizes, t_array_add, 'd-', label='Inserting as binary blob: add_result only')\n",
    "ax.legend()\n",
    "ax.set_xlabel('Array length')\n",
    "ax.set_ylabel('Time (s)')\n",
    "fig.tight_layout()"
   ]
  },
  {
   "cell_type": "markdown",
   "metadata": {},
   "source": [
    "As shown in the latter figure, the time to setup and and close the experiment is approximately 0.4 sec. In case of small array sizes, the difference between inserting values of data as arrays and inserting them row-by-row is relatively unimportant. At larger array sizes, i.e. above 10000 points, the cost of writing data as individual datapoints starts to become important.\n"
   ]
  },
  {
   "cell_type": "markdown",
   "metadata": {},
   "source": [
    "### Case2: Long experiment time "
   ]
  },
  {
   "cell_type": "code",
   "execution_count": 7,
   "metadata": {
    "execution": {
     "iopub.execute_input": "2020-12-25T16:58:22.106853Z",
     "iopub.status.busy": "2020-12-25T16:58:22.105850Z",
     "iopub.status.idle": "2020-12-25T16:59:21.904382Z",
     "shell.execute_reply": "2020-12-25T16:59:21.903860Z"
    }
   },
   "outputs": [
    {
     "name": "stdout",
     "output_type": "stream",
     "text": [
      "Starting experimental run with id: 15. \n",
      "Starting experimental run with id: 16. \n",
      "Starting experimental run with id: 17. \n"
     ]
    },
    {
     "name": "stdout",
     "output_type": "stream",
     "text": [
      "Starting experimental run with id: 18. \n",
      "Starting experimental run with id: 19. \n"
     ]
    },
    {
     "name": "stdout",
     "output_type": "stream",
     "text": [
      "Starting experimental run with id: 20. \n"
     ]
    },
    {
     "name": "stdout",
     "output_type": "stream",
     "text": [
      "Starting experimental run with id: 21. \n"
     ]
    },
    {
     "name": "stdout",
     "output_type": "stream",
     "text": [
      "Starting experimental run with id: 22. \n"
     ]
    },
    {
     "name": "stdout",
     "output_type": "stream",
     "text": [
      "Starting experimental run with id: 23. \n"
     ]
    },
    {
     "name": "stdout",
     "output_type": "stream",
     "text": [
      "Starting experimental run with id: 24. \n"
     ]
    },
    {
     "name": "stdout",
     "output_type": "stream",
     "text": [
      "Starting experimental run with id: 25. \n"
     ]
    },
    {
     "name": "stdout",
     "output_type": "stream",
     "text": [
      "Starting experimental run with id: 26. \n"
     ]
    },
    {
     "name": "stdout",
     "output_type": "stream",
     "text": [
      "Starting experimental run with id: 27. \n"
     ]
    },
    {
     "name": "stdout",
     "output_type": "stream",
     "text": [
      "Starting experimental run with id: 28. \n"
     ]
    }
   ],
   "source": [
    "sizes = [1,500,1000,2000,3000,4000,5000]\n",
    "nreps = 100\n",
    "t_numeric = []\n",
    "t_numeric_add = []\n",
    "t_numeric_run_ids = []\n",
    "t_array = []\n",
    "t_array_add = []\n",
    "t_array_run_ids = []\n",
    "for size in sizes:\n",
    "    tn, tna, run_id_n =  insert_data('numeric', size, nreps=nreps)\n",
    "    t_numeric.append(tn)\n",
    "    t_numeric_add.append(tna)\n",
    "    t_numeric_run_ids.append(run_id_n)\n",
    "\n",
    "    ta, taa, run_id_a =  insert_data('array', size, nreps=nreps)\n",
    "    t_array.append(ta)\n",
    "    t_array_add.append(taa)\n",
    "    t_array_run_ids.append(run_id_a)"
   ]
  },
  {
   "cell_type": "code",
   "execution_count": 8,
   "metadata": {
    "execution": {
     "iopub.execute_input": "2020-12-25T16:59:21.943325Z",
     "iopub.status.busy": "2020-12-25T16:59:21.933446Z",
     "iopub.status.idle": "2020-12-25T16:59:22.105720Z",
     "shell.execute_reply": "2020-12-25T16:59:22.106251Z"
    },
    "scrolled": true
   },
   "outputs": [
    {
     "data": {
      "image/png": "[encoded data removed]",
      "text/plain": [
       "<Figure size 432x288 with 1 Axes>"
      ]
     },
     "metadata": {
      "needs_background": "light"
     },
     "output_type": "display_data"
    }
   ],
   "source": [
    "fig, ax = plt.subplots(1,1)\n",
    "ax.plot(sizes, t_numeric, 'o-', label='Inserting row-by-row')\n",
    "ax.plot(sizes, t_numeric_add, 'o-', label='Inserting row-by-row: add_result only')\n",
    "ax.plot(sizes, t_array, 'd-', label='Inserting as binary blob')\n",
    "ax.plot(sizes, t_array_add, 'd-', label='Inserting as binary blob: add_result only')\n",
    "ax.legend()\n",
    "ax.set_xlabel('Array length')\n",
    "ax.set_ylabel('Time (s)')\n",
    "fig.tight_layout()"
   ]
  },
  {
   "cell_type": "markdown",
   "metadata": {},
   "source": [
    "However, as we increase the length of the experiment, as seen here by repeating the insertion 100 times, we see a big difference between inserting values of the data row-by-row and inserting it as a binary blob."
   ]
  },
  {
   "cell_type": "markdown",
   "metadata": {},
   "source": [
    "## Loading the data "
   ]
  },
  {
   "cell_type": "code",
   "execution_count": 9,
   "metadata": {
    "execution": {
     "iopub.execute_input": "2020-12-25T16:59:22.110335Z",
     "iopub.status.busy": "2020-12-25T16:59:22.109389Z",
     "iopub.status.idle": "2020-12-25T16:59:22.112590Z",
     "shell.execute_reply": "2020-12-25T16:59:22.112116Z"
    }
   },
   "outputs": [],
   "source": [
    "from qcodes.dataset.data_set import load_by_id\n",
    "from qcodes.dataset.data_export import get_data_by_id"
   ]
  },
  {
   "cell_type": "markdown",
   "metadata": {},
   "source": [
    "As usual you can load the data by using the ``load_by_id`` function but you will notice that the different storage methods\n",
    "are reflected in shape of the data as it is retrieved. "
   ]
  },
  {
   "cell_type": "code",
   "execution_count": 10,
   "metadata": {
    "execution": {
     "iopub.execute_input": "2020-12-25T16:59:22.116482Z",
     "iopub.status.busy": "2020-12-25T16:59:22.115722Z",
     "iopub.status.idle": "2020-12-25T16:59:22.117343Z",
     "shell.execute_reply": "2020-12-25T16:59:22.117852Z"
    }
   },
   "outputs": [],
   "source": [
    "run_id_n = t_numeric_run_ids[0]\n",
    "run_id_a = t_array_run_ids[0]"
   ]
  },
  {
   "cell_type": "code",
   "execution_count": 11,
   "metadata": {
    "execution": {
     "iopub.execute_input": "2020-12-25T16:59:22.120983Z",
     "iopub.status.busy": "2020-12-25T16:59:22.120487Z",
     "iopub.status.idle": "2020-12-25T16:59:22.130018Z",
     "shell.execute_reply": "2020-12-25T16:59:22.129374Z"
    },
    "scrolled": true
   },
   "outputs": [
    {
     "data": {
      "text/plain": [
       "{'x1': {'x1': array([0.31928649, 0.31928649, 0.63113575, 0.63113575, 0.46971965,\n",
       "         0.46971965, 0.25453201, 0.25453201, 0.73997798, 0.73997798,\n",
       "         0.69895871, 0.69895871, 0.07944438, 0.07944438, 0.03174549,\n",
       "         0.03174549, 0.64833723, 0.64833723, 0.8355703 , 0.8355703 ,\n",
       "         0.82467889, 0.82467889, 0.20946422, 0.20946422, 0.5450827 ,\n",
       "         0.5450827 , 0.57508226, 0.57508226, 0.84881461, 0.84881461,\n",
       "         0.19819888, 0.19819888, 0.64569717, 0.64569717, 0.23414517,\n",
       "         0.23414517, 0.85010809, 0.85010809, 0.24213369, 0.24213369,\n",
       "         0.1034534 , 0.1034534 , 0.58105554, 0.58105554, 0.22647354,\n",
       "         0.22647354, 0.70327675, 0.70327675, 0.24703932, 0.24703932,\n",
       "         0.9150716 , 0.9150716 , 0.79552453, 0.79552453, 0.29569931,\n",
       "         0.29569931, 0.64912379, 0.64912379, 0.78899779, 0.78899779,\n",
       "         0.43919526, 0.43919526, 0.42355738, 0.42355738, 0.82945731,\n",
       "         0.82945731, 0.62198524, 0.62198524, 0.00816353, 0.00816353,\n",
       "         0.94769877, 0.94769877, 0.22326609, 0.22326609, 0.34627787,\n",
       "         0.34627787, 0.37068234, 0.37068234, 0.02537995, 0.02537995,\n",
       "         0.5365483 , 0.5365483 , 0.89963516, 0.89963516, 0.85862188,\n",
       "         0.85862188, 0.01549827, 0.01549827, 0.47675218, 0.47675218,\n",
       "         0.34251831, 0.34251831, 0.71556678, 0.71556678, 0.66262726,\n",
       "         0.66262726, 0.86159519, 0.86159519, 0.97005383, 0.97005383,\n",
       "         0.25311713, 0.25311713, 0.84098611, 0.84098611, 0.50002625,\n",
       "         0.50002625, 0.26569265, 0.26569265, 0.98188554, 0.98188554,\n",
       "         0.40436422, 0.40436422, 0.8429887 , 0.8429887 , 0.98995384,\n",
       "         0.98995384, 0.2762424 , 0.2762424 , 0.29696225, 0.29696225,\n",
       "         0.44760199, 0.44760199, 0.64342776, 0.64342776, 0.2707937 ,\n",
       "         0.2707937 , 0.44816169, 0.44816169, 0.53879689, 0.53879689,\n",
       "         0.2052696 , 0.2052696 , 0.44997635, 0.44997635, 0.90902931,\n",
       "         0.90902931, 0.92879583, 0.92879583, 0.48391689, 0.48391689,\n",
       "         0.8510083 , 0.8510083 , 0.7691811 , 0.7691811 , 0.84459766,\n",
       "         0.84459766, 0.92065237, 0.92065237, 0.7032478 , 0.7032478 ,\n",
       "         0.56266462, 0.56266462, 0.29654987, 0.29654987, 0.32126153,\n",
       "         0.32126153, 0.61133523, 0.61133523, 0.32357366, 0.32357366,\n",
       "         0.84396425, 0.84396425, 0.35643617, 0.35643617, 0.4774101 ,\n",
       "         0.4774101 , 0.34496082, 0.34496082, 0.38152223, 0.38152223,\n",
       "         0.39202695, 0.39202695, 0.84377409, 0.84377409, 0.0056927 ,\n",
       "         0.0056927 , 0.59446299, 0.59446299, 0.34745903, 0.34745903,\n",
       "         0.98467688, 0.98467688, 0.79858726, 0.79858726, 0.08180581,\n",
       "         0.08180581, 0.49729417, 0.49729417, 0.70690699, 0.70690699,\n",
       "         0.7445378 , 0.7445378 , 0.27071942, 0.27071942, 0.02574522,\n",
       "         0.02574522, 0.99507728, 0.99507728, 0.75929607, 0.75929607])}}"
      ]
     },
     "execution_count": 1,
     "metadata": {},
     "output_type": "execute_result"
    }
   ],
   "source": [
    "ds = load_by_id(run_id_n)\n",
    "ds.get_parameter_data('x1')"
   ]
  },
  {
   "cell_type": "markdown",
   "metadata": {},
   "source": [
    "And a dataset stored as binary arrays"
   ]
  },
  {
   "cell_type": "code",
   "execution_count": 12,
   "metadata": {
    "execution": {
     "iopub.execute_input": "2020-12-25T16:59:22.133249Z",
     "iopub.status.busy": "2020-12-25T16:59:22.132755Z",
     "iopub.status.idle": "2020-12-25T16:59:22.187501Z",
     "shell.execute_reply": "2020-12-25T16:59:22.188046Z"
    },
    "scrolled": true
   },
   "outputs": [
    {
     "data": {
      "text/plain": [
       "{'x1': {'x1': array([[0.13289644],\n",
       "         [0.13289644],\n",
       "         [0.15830197],\n",
       "         [0.15830197],\n",
       "         [0.47329554],\n",
       "         [0.47329554],\n",
       "         [0.2811863 ],\n",
       "         [0.2811863 ],\n",
       "         [0.85709526],\n",
       "         [0.85709526],\n",
       "         [0.86383105],\n",
       "         [0.86383105],\n",
       "         [0.65764794],\n",
       "         [0.65764794],\n",
       "         [0.42206429],\n",
       "         [0.42206429],\n",
       "         [0.29680421],\n",
       "         [0.29680421],\n",
       "         [0.13718699],\n",
       "         [0.13718699],\n",
       "         [0.51462719],\n",
       "         [0.51462719],\n",
       "         [0.65144968],\n",
       "         [0.65144968],\n",
       "         [0.91337423],\n",
       "         [0.91337423],\n",
       "         [0.76176663],\n",
       "         [0.76176663],\n",
       "         [0.43755117],\n",
       "         [0.43755117],\n",
       "         [0.62676009],\n",
       "         [0.62676009],\n",
       "         [0.89145756],\n",
       "         [0.89145756],\n",
       "         [0.49242205],\n",
       "         [0.49242205],\n",
       "         [0.79226925],\n",
       "         [0.79226925],\n",
       "         [0.37183373],\n",
       "         [0.37183373],\n",
       "         [0.06342625],\n",
       "         [0.06342625],\n",
       "         [0.05823252],\n",
       "         [0.05823252],\n",
       "         [0.17053172],\n",
       "         [0.17053172],\n",
       "         [0.26543308],\n",
       "         [0.26543308],\n",
       "         [0.42762825],\n",
       "         [0.42762825],\n",
       "         [0.50632782],\n",
       "         [0.50632782],\n",
       "         [0.61928485],\n",
       "         [0.61928485],\n",
       "         [0.37961839],\n",
       "         [0.37961839],\n",
       "         [0.80179332],\n",
       "         [0.80179332],\n",
       "         [0.79379545],\n",
       "         [0.79379545],\n",
       "         [0.3507871 ],\n",
       "         [0.3507871 ],\n",
       "         [0.66880729],\n",
       "         [0.66880729],\n",
       "         [0.10823918],\n",
       "         [0.10823918],\n",
       "         [0.30077916],\n",
       "         [0.30077916],\n",
       "         [0.73295399],\n",
       "         [0.73295399],\n",
       "         [0.75729749],\n",
       "         [0.75729749],\n",
       "         [0.19306046],\n",
       "         [0.19306046],\n",
       "         [0.96938486],\n",
       "         [0.96938486],\n",
       "         [0.01926856],\n",
       "         [0.01926856],\n",
       "         [0.33466057],\n",
       "         [0.33466057],\n",
       "         [0.20010838],\n",
       "         [0.20010838],\n",
       "         [0.54045948],\n",
       "         [0.54045948],\n",
       "         [0.05690946],\n",
       "         [0.05690946],\n",
       "         [0.76583357],\n",
       "         [0.76583357],\n",
       "         [0.89458359],\n",
       "         [0.89458359],\n",
       "         [0.43291623],\n",
       "         [0.43291623],\n",
       "         [0.47386096],\n",
       "         [0.47386096],\n",
       "         [0.84208665],\n",
       "         [0.84208665],\n",
       "         [0.16397818],\n",
       "         [0.16397818],\n",
       "         [0.71229377],\n",
       "         [0.71229377],\n",
       "         [0.84472924],\n",
       "         [0.84472924],\n",
       "         [0.64224742],\n",
       "         [0.64224742],\n",
       "         [0.43630127],\n",
       "         [0.43630127],\n",
       "         [0.09265943],\n",
       "         [0.09265943],\n",
       "         [0.37376177],\n",
       "         [0.37376177],\n",
       "         [0.61547177],\n",
       "         [0.61547177],\n",
       "         [0.49070975],\n",
       "         [0.49070975],\n",
       "         [0.91063186],\n",
       "         [0.91063186],\n",
       "         [0.54773063],\n",
       "         [0.54773063],\n",
       "         [0.55587791],\n",
       "         [0.55587791],\n",
       "         [0.20474924],\n",
       "         [0.20474924],\n",
       "         [0.01431611],\n",
       "         [0.01431611],\n",
       "         [0.80300084],\n",
       "         [0.80300084],\n",
       "         [0.02409356],\n",
       "         [0.02409356],\n",
       "         [0.5778887 ],\n",
       "         [0.5778887 ],\n",
       "         [0.67075129],\n",
       "         [0.67075129],\n",
       "         [0.7975345 ],\n",
       "         [0.7975345 ],\n",
       "         [0.68928679],\n",
       "         [0.68928679],\n",
       "         [0.82334913],\n",
       "         [0.82334913],\n",
       "         [0.62474007],\n",
       "         [0.62474007],\n",
       "         [0.49903046],\n",
       "         [0.49903046],\n",
       "         [0.02043352],\n",
       "         [0.02043352],\n",
       "         [0.88852034],\n",
       "         [0.88852034],\n",
       "         [0.97477986],\n",
       "         [0.97477986],\n",
       "         [0.95168809],\n",
       "         [0.95168809],\n",
       "         [0.20693366],\n",
       "         [0.20693366],\n",
       "         [0.54093879],\n",
       "         [0.54093879],\n",
       "         [0.38639577],\n",
       "         [0.38639577],\n",
       "         [0.8984623 ],\n",
       "         [0.8984623 ],\n",
       "         [0.55521317],\n",
       "         [0.55521317],\n",
       "         [0.57602377],\n",
       "         [0.57602377],\n",
       "         [0.0906698 ],\n",
       "         [0.0906698 ],\n",
       "         [0.95539758],\n",
       "         [0.95539758],\n",
       "         [0.7712913 ],\n",
       "         [0.7712913 ],\n",
       "         [0.18956759],\n",
       "         [0.18956759],\n",
       "         [0.0198562 ],\n",
       "         [0.0198562 ],\n",
       "         [0.91811837],\n",
       "         [0.91811837],\n",
       "         [0.46906876],\n",
       "         [0.46906876],\n",
       "         [0.82666332],\n",
       "         [0.82666332],\n",
       "         [0.3910384 ],\n",
       "         [0.3910384 ],\n",
       "         [0.35890257],\n",
       "         [0.35890257],\n",
       "         [0.60257449],\n",
       "         [0.60257449],\n",
       "         [0.35585397],\n",
       "         [0.35585397],\n",
       "         [0.30939373],\n",
       "         [0.30939373],\n",
       "         [0.36534156],\n",
       "         [0.36534156],\n",
       "         [0.21823475],\n",
       "         [0.21823475],\n",
       "         [0.32818747],\n",
       "         [0.32818747],\n",
       "         [0.8984921 ],\n",
       "         [0.8984921 ],\n",
       "         [0.36728562],\n",
       "         [0.36728562],\n",
       "         [0.79253617],\n",
       "         [0.79253617]])}}"
      ]
     },
     "execution_count": 1,
     "metadata": {},
     "output_type": "execute_result"
    }
   ],
   "source": [
    "ds = load_by_id(run_id_a)\n",
    "ds.get_parameter_data('x1')"
   ]
  },
  {
   "cell_type": "code",
   "execution_count": null,
   "metadata": {},
   "outputs": [],
   "source": []
  }
 ],
 "metadata": {
  "kernelspec": {
   "display_name": "Python 3",
   "language": "python",
   "name": "python3"
  },
  "language_info": {
   "codemirror_mode": {
    "name": "ipython",
    "version": 3
   },
   "file_extension": ".py",
   "mimetype": "text/x-python",
   "name": "python",
   "nbconvert_exporter": "python",
   "pygments_lexer": "ipython3",
   "version": "3.7.9"
  },
  "nbsphinx": {
   "timeout": 600
  },
  "toc": {
   "base_numbering": 1,
   "nav_menu": {},
   "number_sections": true,
   "sideBar": true,
   "skip_h1_title": false,
   "title_cell": "Table of Contents",
   "title_sidebar": "Contents",
   "toc_cell": false,
   "toc_position": {},
   "toc_section_display": true,
   "toc_window_display": false
  },
  "varInspector": {
   "cols": {
    "lenName": 16,
    "lenType": 16,
    "lenVar": 40
   },
   "kernels_config": {
    "python": {
     "delete_cmd_postfix": "",
     "delete_cmd_prefix": "del ",
     "library": "var_list.py",
     "varRefreshCmd": "print(var_dic_list())"
    },
    "r": {
     "delete_cmd_postfix": ") ",
     "delete_cmd_prefix": "rm(",
     "library": "var_list.r",
     "varRefreshCmd": "cat(var_dic_list()) "
    }
   },
   "types_to_exclude": [
    "module",
    "function",
    "builtin_function_or_method",
    "instance",
    "_Feature"
   ],
   "window_display": false
  }
 },
 "nbformat": 4,
 "nbformat_minor": 2
}
