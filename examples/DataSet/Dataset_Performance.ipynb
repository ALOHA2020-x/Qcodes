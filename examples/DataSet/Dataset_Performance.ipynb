{
 "cells": [
  {
   "cell_type": "markdown",
   "metadata": {},
   "source": [
    "# DataSet Performance\n",
    "\n",
    "This notebook shows the trade-off between inserting data into a database row-by-row and as binary blobs. Inserting the data row-by-row means that we have direct access to all the data and may perform queries directly on the values of the data. On the other hand, as we shall see, this is much slower than inserting the data directly as binary blobs."
   ]
  },
  {
   "cell_type": "markdown",
   "metadata": {},
   "source": [
    "First, we choose a new location for the database to ensure that we don't add a bunch of benchmarking data to the default one."
   ]
  },
  {
   "cell_type": "code",
   "execution_count": 1,
   "metadata": {
    "execution": {
     "iopub.execute_input": "2021-02-11T11:59:59.931991Z",
     "iopub.status.busy": "2021-02-11T11:59:59.931314Z",
     "iopub.status.idle": "2021-02-11T12:00:00.985390Z",
     "shell.execute_reply": "2021-02-11T12:00:00.984794Z"
    }
   },
   "outputs": [
    {
     "name": "stdout",
     "output_type": "stream",
     "text": [
      "Logging hadn't been started.\n",
      "Activating auto-logging. Current session state plus future input saved.\n",
      "Filename       : /home/vsts/.qcodes/logs/command_history.log\n",
      "Mode           : append\n",
      "Output logging : True\n",
      "Raw input log  : False\n",
      "Timestamping   : True\n",
      "State          : active\n"
     ]
    },
    {
     "name": "stdout",
     "output_type": "stream",
     "text": [
      "Qcodes Logfile : /home/vsts/.qcodes/logs/210211-7035-qcodes.log\n"
     ]
    }
   ],
   "source": [
    "import os\n",
    "cwd = os.getcwd()\n",
    "import qcodes as qc\n",
    "qc.config[\"core\"][\"db_location\"] = os.path.join(cwd, 'testing.db')\n"
   ]
  },
  {
   "cell_type": "code",
   "execution_count": 2,
   "metadata": {
    "execution": {
     "iopub.execute_input": "2021-02-11T12:00:00.991394Z",
     "iopub.status.busy": "2021-02-11T12:00:00.990294Z",
     "iopub.status.idle": "2021-02-11T12:00:01.184535Z",
     "shell.execute_reply": "2021-02-11T12:00:01.183614Z"
    }
   },
   "outputs": [],
   "source": [
    "%matplotlib inline\n",
    "import time\n",
    "import matplotlib.pyplot as plt\n",
    "import numpy as np\n",
    "\n",
    "import qcodes as qc\n",
    "from qcodes.instrument.parameter import ManualParameter\n",
    "from qcodes.dataset.experiment_container import (Experiment,\n",
    "                                                 load_last_experiment,\n",
    "                                                 new_experiment)\n",
    "from qcodes.dataset.sqlite.database import initialise_database\n",
    "from qcodes import load_or_create_experiment\n",
    "from qcodes.dataset.measurements import Measurement"
   ]
  },
  {
   "cell_type": "code",
   "execution_count": 3,
   "metadata": {
    "execution": {
     "iopub.execute_input": "2021-02-11T12:00:01.188943Z",
     "iopub.status.busy": "2021-02-11T12:00:01.188119Z",
     "iopub.status.idle": "2021-02-11T12:00:01.296645Z",
     "shell.execute_reply": "2021-02-11T12:00:01.297128Z"
    }
   },
   "outputs": [
    {
     "name": "stdout",
     "output_type": "stream",
     "text": [
      "\r",
      "0it [00:00, ?it/s]"
     ]
    },
    {
     "name": "stdout",
     "output_type": "stream",
     "text": [
      "\r",
      "Upgrading database; v0 -> v1: : 0it [00:00, ?it/s]"
     ]
    },
    {
     "name": "stdout",
     "output_type": "stream",
     "text": [
      "\r",
      "Upgrading database; v0 -> v1: : 0it [00:00, ?it/s]"
     ]
    },
    {
     "name": "stdout",
     "output_type": "stream",
     "text": [
      "\n",
      "\r",
      "  0%|          | 0/1 [00:00<?, ?it/s]"
     ]
    },
    {
     "name": "stdout",
     "output_type": "stream",
     "text": [
      "\r",
      "Upgrading database; v1 -> v2:   0%|          | 0/1 [00:00<?, ?it/s]"
     ]
    },
    {
     "name": "stdout",
     "output_type": "stream",
     "text": [
      "\r",
      "Upgrading database; v1 -> v2: 100%|██████████| 1/1 [00:00<00:00, 664.60it/s]"
     ]
    },
    {
     "name": "stdout",
     "output_type": "stream",
     "text": [
      "\n",
      "\r",
      "0it [00:00, ?it/s]"
     ]
    },
    {
     "name": "stdout",
     "output_type": "stream",
     "text": [
      "\r",
      "Upgrading database; v2 -> v3: : 0it [00:00, ?it/s]"
     ]
    },
    {
     "name": "stdout",
     "output_type": "stream",
     "text": [
      "\r",
      "Upgrading database; v2 -> v3: : 0it [00:00, ?it/s]"
     ]
    },
    {
     "name": "stdout",
     "output_type": "stream",
     "text": [
      "\n",
      "\r",
      "0it [00:00, ?it/s]"
     ]
    },
    {
     "name": "stdout",
     "output_type": "stream",
     "text": [
      "\r",
      "Upgrading database; v3 -> v4: : 0it [00:00, ?it/s]"
     ]
    },
    {
     "name": "stdout",
     "output_type": "stream",
     "text": [
      "\r",
      "Upgrading database; v3 -> v4: : 0it [00:00, ?it/s]"
     ]
    },
    {
     "name": "stdout",
     "output_type": "stream",
     "text": [
      "\n",
      "\r",
      "  0%|          | 0/1 [00:00<?, ?it/s]"
     ]
    },
    {
     "name": "stdout",
     "output_type": "stream",
     "text": [
      "\r",
      "Upgrading database; v4 -> v5:   0%|          | 0/1 [00:00<?, ?it/s]"
     ]
    },
    {
     "name": "stdout",
     "output_type": "stream",
     "text": [
      "\r",
      "Upgrading database; v4 -> v5: 100%|██████████| 1/1 [00:00<00:00, 301.73it/s]"
     ]
    },
    {
     "name": "stdout",
     "output_type": "stream",
     "text": [
      "\n",
      "\r",
      "0it [00:00, ?it/s]"
     ]
    },
    {
     "name": "stdout",
     "output_type": "stream",
     "text": [
      "\r",
      "Upgrading database; v5 -> v6: : 0it [00:00, ?it/s]"
     ]
    },
    {
     "name": "stdout",
     "output_type": "stream",
     "text": [
      "\r",
      "Upgrading database; v5 -> v6: : 0it [00:00, ?it/s]"
     ]
    },
    {
     "name": "stdout",
     "output_type": "stream",
     "text": [
      "\n",
      "\r",
      "  0%|          | 0/1 [00:00<?, ?it/s]"
     ]
    },
    {
     "name": "stdout",
     "output_type": "stream",
     "text": [
      "\r",
      "Upgrading database; v6 -> v7:   0%|          | 0/1 [00:00<?, ?it/s]"
     ]
    },
    {
     "name": "stdout",
     "output_type": "stream",
     "text": [
      "\r",
      "Upgrading database; v6 -> v7: 100%|██████████| 1/1 [00:00<00:00, 315.38it/s]"
     ]
    },
    {
     "name": "stdout",
     "output_type": "stream",
     "text": [
      "\n",
      "\r",
      "  0%|          | 0/1 [00:00<?, ?it/s]"
     ]
    },
    {
     "name": "stdout",
     "output_type": "stream",
     "text": [
      "\r",
      "Upgrading database; v7 -> v8:   0%|          | 0/1 [00:00<?, ?it/s]"
     ]
    },
    {
     "name": "stdout",
     "output_type": "stream",
     "text": [
      "\r",
      "Upgrading database; v7 -> v8: 100%|██████████| 1/1 [00:00<00:00, 857.73it/s]"
     ]
    },
    {
     "name": "stdout",
     "output_type": "stream",
     "text": [
      "\n",
      "\r",
      "  0%|          | 0/1 [00:00<?, ?it/s]"
     ]
    },
    {
     "name": "stdout",
     "output_type": "stream",
     "text": [
      "\r",
      "Upgrading database; v8 -> v9:   0%|          | 0/1 [00:00<?, ?it/s]"
     ]
    },
    {
     "name": "stdout",
     "output_type": "stream",
     "text": [
      "\r",
      "Upgrading database; v8 -> v9: 100%|██████████| 1/1 [00:00<00:00, 1155.46it/s]"
     ]
    },
    {
     "name": "stdout",
     "output_type": "stream",
     "text": [
      "\n"
     ]
    }
   ],
   "source": [
    "initialise_database()\n",
    "exp = load_or_create_experiment(experiment_name='tutorial_exp', sample_name=\"no sample\")"
   ]
  },
  {
   "cell_type": "markdown",
   "metadata": {},
   "source": [
    "Here, we define a simple function to benchmark the time it takes to insert n points with either numeric or array data type.\n",
    "We will compare both the time used to call ``add_result`` and the time used for the full measurement."
   ]
  },
  {
   "cell_type": "code",
   "execution_count": 4,
   "metadata": {
    "execution": {
     "iopub.execute_input": "2021-02-11T12:00:01.307795Z",
     "iopub.status.busy": "2021-02-11T12:00:01.305545Z",
     "iopub.status.idle": "2021-02-11T12:00:01.308669Z",
     "shell.execute_reply": "2021-02-11T12:00:01.309183Z"
    }
   },
   "outputs": [],
   "source": [
    "def insert_data(paramtype, npoints, nreps=1):\n",
    "\n",
    "    meas = Measurement(exp=exp)\n",
    "\n",
    "    x1 = ManualParameter('x1')\n",
    "    x2 = ManualParameter('x2')\n",
    "    x3 = ManualParameter('x3')\n",
    "    y1 = ManualParameter('y1')\n",
    "    y2 = ManualParameter('y2')\n",
    "\n",
    "    meas.register_parameter(x1, paramtype=paramtype)\n",
    "    meas.register_parameter(x2, paramtype=paramtype)\n",
    "    meas.register_parameter(x3, paramtype=paramtype)\n",
    "    meas.register_parameter(y1, setpoints=[x1, x2, x3],\n",
    "                            paramtype=paramtype)\n",
    "    meas.register_parameter(y2, setpoints=[x1, x2, x3],\n",
    "                            paramtype=paramtype)\n",
    "    start = time.perf_counter()\n",
    "    with meas.run() as datasaver:\n",
    "        start_adding = time.perf_counter()\n",
    "        for i in range(nreps):\n",
    "            datasaver.add_result((x1, np.random.rand(npoints)),\n",
    "                                 (x2, np.random.rand(npoints)),\n",
    "                                 (x3, np.random.rand(npoints)),\n",
    "                                 (y1, np.random.rand(npoints)),\n",
    "                                 (y2, np.random.rand(npoints)))\n",
    "        stop_adding = time.perf_counter()\n",
    "        run_id = datasaver.run_id\n",
    "    stop = time.perf_counter()\n",
    "    tot_time = stop - start\n",
    "    add_time = stop_adding - start_adding\n",
    "    return tot_time, add_time, run_id"
   ]
  },
  {
   "cell_type": "markdown",
   "metadata": {},
   "source": [
    "## Comparison between numeric/array data and binary blob"
   ]
  },
  {
   "cell_type": "markdown",
   "metadata": {},
   "source": [
    "### Case1: Short experiment time"
   ]
  },
  {
   "cell_type": "code",
   "execution_count": 5,
   "metadata": {
    "execution": {
     "iopub.execute_input": "2021-02-11T12:00:01.315928Z",
     "iopub.status.busy": "2021-02-11T12:00:01.314510Z",
     "iopub.status.idle": "2021-02-11T12:00:02.152969Z",
     "shell.execute_reply": "2021-02-11T12:00:02.152397Z"
    }
   },
   "outputs": [
    {
     "name": "stdout",
     "output_type": "stream",
     "text": [
      "Starting experimental run with id: 1. \n",
      "Starting experimental run with id: 2. \n",
      "Starting experimental run with id: 3. \n",
      "Starting experimental run with id: 4. \n",
      "Starting experimental run with id: 5. \n"
     ]
    },
    {
     "name": "stdout",
     "output_type": "stream",
     "text": [
      "Starting experimental run with id: 6. \n"
     ]
    },
    {
     "name": "stdout",
     "output_type": "stream",
     "text": [
      "Starting experimental run with id: 7. \n"
     ]
    },
    {
     "name": "stdout",
     "output_type": "stream",
     "text": [
      "Starting experimental run with id: 8. \n",
      "Starting experimental run with id: 9. \n"
     ]
    },
    {
     "name": "stdout",
     "output_type": "stream",
     "text": [
      "Starting experimental run with id: 10. \n",
      "Starting experimental run with id: 11. \n"
     ]
    },
    {
     "name": "stdout",
     "output_type": "stream",
     "text": [
      "Starting experimental run with id: 12. \n",
      "Starting experimental run with id: 13. \n"
     ]
    },
    {
     "name": "stdout",
     "output_type": "stream",
     "text": [
      "Starting experimental run with id: 14. \n"
     ]
    }
   ],
   "source": [
    "sizes = [1,500,1000,2000,3000,4000,5000]\n",
    "t_numeric = []\n",
    "t_numeric_add = []\n",
    "t_array = []\n",
    "t_array_add = []\n",
    "for size in sizes:\n",
    "    tn, tna, run_id_n =  insert_data('numeric', size)\n",
    "    t_numeric.append(tn)\n",
    "    t_numeric_add.append(tna)\n",
    "\n",
    "    ta, taa, run_id_a =  insert_data('array', size)\n",
    "    t_array.append(ta)\n",
    "    t_array_add.append(taa)"
   ]
  },
  {
   "cell_type": "code",
   "execution_count": 6,
   "metadata": {
    "execution": {
     "iopub.execute_input": "2021-02-11T12:00:02.171888Z",
     "iopub.status.busy": "2021-02-11T12:00:02.171262Z",
     "iopub.status.idle": "2021-02-11T12:00:02.373056Z",
     "shell.execute_reply": "2021-02-11T12:00:02.372510Z"
    }
   },
   "outputs": [
    {
     "data": {
      "image/png": "[encoded data removed]",
      "text/plain": [
       "<Figure size 432x288 with 1 Axes>"
      ]
     },
     "metadata": {
      "needs_background": "light"
     },
     "output_type": "display_data"
    }
   ],
   "source": [
    "fig, ax = plt.subplots(1,1)\n",
    "ax.plot(sizes, t_numeric, 'o-', label='Inserting row-by-row')\n",
    "ax.plot(sizes, t_numeric_add, 'o-', label='Inserting row-by-row: add_result only')\n",
    "ax.plot(sizes, t_array, 'd-', label='Inserting as binary blob')\n",
    "ax.plot(sizes, t_array_add, 'd-', label='Inserting as binary blob: add_result only')\n",
    "ax.legend()\n",
    "ax.set_xlabel('Array length')\n",
    "ax.set_ylabel('Time (s)')\n",
    "fig.tight_layout()"
   ]
  },
  {
   "cell_type": "markdown",
   "metadata": {},
   "source": [
    "As shown in the latter figure, the time to setup and and close the experiment is approximately 0.4 sec. In case of small array sizes, the difference between inserting values of data as arrays and inserting them row-by-row is relatively unimportant. At larger array sizes, i.e. above 10000 points, the cost of writing data as individual datapoints starts to become important.\n"
   ]
  },
  {
   "cell_type": "markdown",
   "metadata": {},
   "source": [
    "### Case2: Long experiment time "
   ]
  },
  {
   "cell_type": "code",
   "execution_count": 7,
   "metadata": {
    "execution": {
     "iopub.execute_input": "2021-02-11T12:00:02.380279Z",
     "iopub.status.busy": "2021-02-11T12:00:02.378984Z",
     "iopub.status.idle": "2021-02-11T12:01:01.282244Z",
     "shell.execute_reply": "2021-02-11T12:01:01.281612Z"
    }
   },
   "outputs": [
    {
     "name": "stdout",
     "output_type": "stream",
     "text": [
      "Starting experimental run with id: 15. \n",
      "Starting experimental run with id: 16. \n"
     ]
    },
    {
     "name": "stdout",
     "output_type": "stream",
     "text": [
      "Starting experimental run with id: 17. \n"
     ]
    },
    {
     "name": "stdout",
     "output_type": "stream",
     "text": [
      "Starting experimental run with id: 18. \n"
     ]
    },
    {
     "name": "stdout",
     "output_type": "stream",
     "text": [
      "Starting experimental run with id: 19. \n"
     ]
    },
    {
     "name": "stdout",
     "output_type": "stream",
     "text": [
      "Starting experimental run with id: 20. \n"
     ]
    },
    {
     "name": "stdout",
     "output_type": "stream",
     "text": [
      "Starting experimental run with id: 21. \n"
     ]
    },
    {
     "name": "stdout",
     "output_type": "stream",
     "text": [
      "Starting experimental run with id: 22. \n"
     ]
    },
    {
     "name": "stdout",
     "output_type": "stream",
     "text": [
      "Starting experimental run with id: 23. \n"
     ]
    },
    {
     "name": "stdout",
     "output_type": "stream",
     "text": [
      "Starting experimental run with id: 24. \n"
     ]
    },
    {
     "name": "stdout",
     "output_type": "stream",
     "text": [
      "Starting experimental run with id: 25. \n"
     ]
    },
    {
     "name": "stdout",
     "output_type": "stream",
     "text": [
      "Starting experimental run with id: 26. \n"
     ]
    },
    {
     "name": "stdout",
     "output_type": "stream",
     "text": [
      "Starting experimental run with id: 27. \n"
     ]
    },
    {
     "name": "stdout",
     "output_type": "stream",
     "text": [
      "Starting experimental run with id: 28. \n"
     ]
    }
   ],
   "source": [
    "sizes = [1,500,1000,2000,3000,4000,5000]\n",
    "nreps = 100\n",
    "t_numeric = []\n",
    "t_numeric_add = []\n",
    "t_numeric_run_ids = []\n",
    "t_array = []\n",
    "t_array_add = []\n",
    "t_array_run_ids = []\n",
    "for size in sizes:\n",
    "    tn, tna, run_id_n =  insert_data('numeric', size, nreps=nreps)\n",
    "    t_numeric.append(tn)\n",
    "    t_numeric_add.append(tna)\n",
    "    t_numeric_run_ids.append(run_id_n)\n",
    "\n",
    "    ta, taa, run_id_a =  insert_data('array', size, nreps=nreps)\n",
    "    t_array.append(ta)\n",
    "    t_array_add.append(taa)\n",
    "    t_array_run_ids.append(run_id_a)"
   ]
  },
  {
   "cell_type": "code",
   "execution_count": 8,
   "metadata": {
    "execution": {
     "iopub.execute_input": "2021-02-11T12:01:01.299873Z",
     "iopub.status.busy": "2021-02-11T12:01:01.293049Z",
     "iopub.status.idle": "2021-02-11T12:01:01.501112Z",
     "shell.execute_reply": "2021-02-11T12:01:01.500556Z"
    },
    "scrolled": true
   },
   "outputs": [
    {
     "data": {
      "image/png": "[encoded data removed]",
      "text/plain": [
       "<Figure size 432x288 with 1 Axes>"
      ]
     },
     "metadata": {
      "needs_background": "light"
     },
     "output_type": "display_data"
    }
   ],
   "source": [
    "fig, ax = plt.subplots(1,1)\n",
    "ax.plot(sizes, t_numeric, 'o-', label='Inserting row-by-row')\n",
    "ax.plot(sizes, t_numeric_add, 'o-', label='Inserting row-by-row: add_result only')\n",
    "ax.plot(sizes, t_array, 'd-', label='Inserting as binary blob')\n",
    "ax.plot(sizes, t_array_add, 'd-', label='Inserting as binary blob: add_result only')\n",
    "ax.legend()\n",
    "ax.set_xlabel('Array length')\n",
    "ax.set_ylabel('Time (s)')\n",
    "fig.tight_layout()"
   ]
  },
  {
   "cell_type": "markdown",
   "metadata": {},
   "source": [
    "However, as we increase the length of the experiment, as seen here by repeating the insertion 100 times, we see a big difference between inserting values of the data row-by-row and inserting it as a binary blob."
   ]
  },
  {
   "cell_type": "markdown",
   "metadata": {},
   "source": [
    "## Loading the data "
   ]
  },
  {
   "cell_type": "code",
   "execution_count": 9,
   "metadata": {
    "execution": {
     "iopub.execute_input": "2021-02-11T12:01:01.505885Z",
     "iopub.status.busy": "2021-02-11T12:01:01.504701Z",
     "iopub.status.idle": "2021-02-11T12:01:01.508333Z",
     "shell.execute_reply": "2021-02-11T12:01:01.507804Z"
    }
   },
   "outputs": [],
   "source": [
    "from qcodes.dataset.data_set import load_by_id\n",
    "from qcodes.dataset.data_export import get_data_by_id"
   ]
  },
  {
   "cell_type": "markdown",
   "metadata": {},
   "source": [
    "As usual you can load the data by using the ``load_by_id`` function but you will notice that the different storage methods\n",
    "are reflected in shape of the data as it is retrieved. "
   ]
  },
  {
   "cell_type": "code",
   "execution_count": 10,
   "metadata": {
    "execution": {
     "iopub.execute_input": "2021-02-11T12:01:01.513170Z",
     "iopub.status.busy": "2021-02-11T12:01:01.511832Z",
     "iopub.status.idle": "2021-02-11T12:01:01.513862Z",
     "shell.execute_reply": "2021-02-11T12:01:01.514374Z"
    }
   },
   "outputs": [],
   "source": [
    "run_id_n = t_numeric_run_ids[0]\n",
    "run_id_a = t_array_run_ids[0]"
   ]
  },
  {
   "cell_type": "code",
   "execution_count": 11,
   "metadata": {
    "execution": {
     "iopub.execute_input": "2021-02-11T12:01:01.517807Z",
     "iopub.status.busy": "2021-02-11T12:01:01.517206Z",
     "iopub.status.idle": "2021-02-11T12:01:01.526884Z",
     "shell.execute_reply": "2021-02-11T12:01:01.527394Z"
    },
    "scrolled": true
   },
   "outputs": [
    {
     "data": {
      "text/plain": [
       "{'x1': {'x1': array([0.95195943, 0.95195943, 0.26630226, 0.26630226, 0.14724525,\n",
       "         0.14724525, 0.10324718, 0.10324718, 0.56440582, 0.56440582,\n",
       "         0.23106549, 0.23106549, 0.01579596, 0.01579596, 0.62686569,\n",
       "         0.62686569, 0.76665943, 0.76665943, 0.12826286, 0.12826286,\n",
       "         0.22105497, 0.22105497, 0.23665642, 0.23665642, 0.17174502,\n",
       "         0.17174502, 0.19790979, 0.19790979, 0.21158073, 0.21158073,\n",
       "         0.96960158, 0.96960158, 0.36466802, 0.36466802, 0.93648392,\n",
       "         0.93648392, 0.9039493 , 0.9039493 , 0.95332852, 0.95332852,\n",
       "         0.56070023, 0.56070023, 0.58716522, 0.58716522, 0.95961083,\n",
       "         0.95961083, 0.49642867, 0.49642867, 0.28421154, 0.28421154,\n",
       "         0.96421315, 0.96421315, 0.13590134, 0.13590134, 0.01415407,\n",
       "         0.01415407, 0.0167014 , 0.0167014 , 0.38906785, 0.38906785,\n",
       "         0.07522662, 0.07522662, 0.75443352, 0.75443352, 0.51921562,\n",
       "         0.51921562, 0.65122828, 0.65122828, 0.54135209, 0.54135209,\n",
       "         0.17142853, 0.17142853, 0.35632596, 0.35632596, 0.40987171,\n",
       "         0.40987171, 0.83656974, 0.83656974, 0.10767028, 0.10767028,\n",
       "         0.78253265, 0.78253265, 0.12853519, 0.12853519, 0.00846814,\n",
       "         0.00846814, 0.54689889, 0.54689889, 0.28050883, 0.28050883,\n",
       "         0.37104971, 0.37104971, 0.689407  , 0.689407  , 0.5511549 ,\n",
       "         0.5511549 , 0.71630051, 0.71630051, 0.73065599, 0.73065599,\n",
       "         0.81661454, 0.81661454, 0.319394  , 0.319394  , 0.92394172,\n",
       "         0.92394172, 0.94372457, 0.94372457, 0.58878651, 0.58878651,\n",
       "         0.57252201, 0.57252201, 0.1314003 , 0.1314003 , 0.52938313,\n",
       "         0.52938313, 0.44293419, 0.44293419, 0.83318612, 0.83318612,\n",
       "         0.2851111 , 0.2851111 , 0.56593367, 0.56593367, 0.11480011,\n",
       "         0.11480011, 0.96762601, 0.96762601, 0.99262896, 0.99262896,\n",
       "         0.73690452, 0.73690452, 0.92962797, 0.92962797, 0.74504836,\n",
       "         0.74504836, 0.65843137, 0.65843137, 0.43852061, 0.43852061,\n",
       "         0.38177141, 0.38177141, 0.13849647, 0.13849647, 0.0948592 ,\n",
       "         0.0948592 , 0.31950709, 0.31950709, 0.67548532, 0.67548532,\n",
       "         0.40225328, 0.40225328, 0.2877398 , 0.2877398 , 0.02303811,\n",
       "         0.02303811, 0.71310849, 0.71310849, 0.15230115, 0.15230115,\n",
       "         0.43395424, 0.43395424, 0.88254095, 0.88254095, 0.93272271,\n",
       "         0.93272271, 0.11121704, 0.11121704, 0.64559836, 0.64559836,\n",
       "         0.08273908, 0.08273908, 0.64554292, 0.64554292, 0.40370771,\n",
       "         0.40370771, 0.2796696 , 0.2796696 , 0.85963518, 0.85963518,\n",
       "         0.86128222, 0.86128222, 0.11397633, 0.11397633, 0.91946212,\n",
       "         0.91946212, 0.02655441, 0.02655441, 0.39925919, 0.39925919,\n",
       "         0.20875616, 0.20875616, 0.93603835, 0.93603835, 0.914823  ,\n",
       "         0.914823  , 0.9580475 , 0.9580475 , 0.9403489 , 0.9403489 ])}}"
      ]
     },
     "execution_count": 1,
     "metadata": {},
     "output_type": "execute_result"
    }
   ],
   "source": [
    "ds = load_by_id(run_id_n)\n",
    "ds.get_parameter_data('x1')"
   ]
  },
  {
   "cell_type": "markdown",
   "metadata": {},
   "source": [
    "And a dataset stored as binary arrays"
   ]
  },
  {
   "cell_type": "code",
   "execution_count": 12,
   "metadata": {
    "execution": {
     "iopub.execute_input": "2021-02-11T12:01:01.530822Z",
     "iopub.status.busy": "2021-02-11T12:01:01.530226Z",
     "iopub.status.idle": "2021-02-11T12:01:01.592986Z",
     "shell.execute_reply": "2021-02-11T12:01:01.593461Z"
    },
    "scrolled": true
   },
   "outputs": [
    {
     "data": {
      "text/plain": [
       "{'x1': {'x1': array([[0.33792775],\n",
       "         [0.33792775],\n",
       "         [0.06376885],\n",
       "         [0.06376885],\n",
       "         [0.30884969],\n",
       "         [0.30884969],\n",
       "         [0.05254038],\n",
       "         [0.05254038],\n",
       "         [0.92391648],\n",
       "         [0.92391648],\n",
       "         [0.15504178],\n",
       "         [0.15504178],\n",
       "         [0.67872147],\n",
       "         [0.67872147],\n",
       "         [0.29254083],\n",
       "         [0.29254083],\n",
       "         [0.94146744],\n",
       "         [0.94146744],\n",
       "         [0.95449534],\n",
       "         [0.95449534],\n",
       "         [0.81930329],\n",
       "         [0.81930329],\n",
       "         [0.60160453],\n",
       "         [0.60160453],\n",
       "         [0.14853696],\n",
       "         [0.14853696],\n",
       "         [0.81116561],\n",
       "         [0.81116561],\n",
       "         [0.236821  ],\n",
       "         [0.236821  ],\n",
       "         [0.31067876],\n",
       "         [0.31067876],\n",
       "         [0.57070224],\n",
       "         [0.57070224],\n",
       "         [0.32524459],\n",
       "         [0.32524459],\n",
       "         [0.58070159],\n",
       "         [0.58070159],\n",
       "         [0.65787224],\n",
       "         [0.65787224],\n",
       "         [0.82770092],\n",
       "         [0.82770092],\n",
       "         [0.11243193],\n",
       "         [0.11243193],\n",
       "         [0.72374361],\n",
       "         [0.72374361],\n",
       "         [0.9590717 ],\n",
       "         [0.9590717 ],\n",
       "         [0.14409847],\n",
       "         [0.14409847],\n",
       "         [0.33931998],\n",
       "         [0.33931998],\n",
       "         [0.48959769],\n",
       "         [0.48959769],\n",
       "         [0.1569079 ],\n",
       "         [0.1569079 ],\n",
       "         [0.999929  ],\n",
       "         [0.999929  ],\n",
       "         [0.5738333 ],\n",
       "         [0.5738333 ],\n",
       "         [0.20107893],\n",
       "         [0.20107893],\n",
       "         [0.07577818],\n",
       "         [0.07577818],\n",
       "         [0.53045834],\n",
       "         [0.53045834],\n",
       "         [0.24192589],\n",
       "         [0.24192589],\n",
       "         [0.03222903],\n",
       "         [0.03222903],\n",
       "         [0.4851362 ],\n",
       "         [0.4851362 ],\n",
       "         [0.39971193],\n",
       "         [0.39971193],\n",
       "         [0.40138014],\n",
       "         [0.40138014],\n",
       "         [0.47804763],\n",
       "         [0.47804763],\n",
       "         [0.73035066],\n",
       "         [0.73035066],\n",
       "         [0.68522573],\n",
       "         [0.68522573],\n",
       "         [0.54931215],\n",
       "         [0.54931215],\n",
       "         [0.17588669],\n",
       "         [0.17588669],\n",
       "         [0.49610021],\n",
       "         [0.49610021],\n",
       "         [0.87758373],\n",
       "         [0.87758373],\n",
       "         [0.02744687],\n",
       "         [0.02744687],\n",
       "         [0.33477372],\n",
       "         [0.33477372],\n",
       "         [0.13832902],\n",
       "         [0.13832902],\n",
       "         [0.48836446],\n",
       "         [0.48836446],\n",
       "         [0.02969542],\n",
       "         [0.02969542],\n",
       "         [0.7264059 ],\n",
       "         [0.7264059 ],\n",
       "         [0.74867886],\n",
       "         [0.74867886],\n",
       "         [0.1041708 ],\n",
       "         [0.1041708 ],\n",
       "         [0.05741333],\n",
       "         [0.05741333],\n",
       "         [0.25010697],\n",
       "         [0.25010697],\n",
       "         [0.03555202],\n",
       "         [0.03555202],\n",
       "         [0.24268727],\n",
       "         [0.24268727],\n",
       "         [0.42957739],\n",
       "         [0.42957739],\n",
       "         [0.35453525],\n",
       "         [0.35453525],\n",
       "         [0.96598937],\n",
       "         [0.96598937],\n",
       "         [0.85858254],\n",
       "         [0.85858254],\n",
       "         [0.12174361],\n",
       "         [0.12174361],\n",
       "         [0.80458751],\n",
       "         [0.80458751],\n",
       "         [0.63611689],\n",
       "         [0.63611689],\n",
       "         [0.6371091 ],\n",
       "         [0.6371091 ],\n",
       "         [0.45645573],\n",
       "         [0.45645573],\n",
       "         [0.27472536],\n",
       "         [0.27472536],\n",
       "         [0.34751238],\n",
       "         [0.34751238],\n",
       "         [0.54666254],\n",
       "         [0.54666254],\n",
       "         [0.76809522],\n",
       "         [0.76809522],\n",
       "         [0.48652084],\n",
       "         [0.48652084],\n",
       "         [0.99739321],\n",
       "         [0.99739321],\n",
       "         [0.05943048],\n",
       "         [0.05943048],\n",
       "         [0.82839131],\n",
       "         [0.82839131],\n",
       "         [0.84613051],\n",
       "         [0.84613051],\n",
       "         [0.31013189],\n",
       "         [0.31013189],\n",
       "         [0.11119191],\n",
       "         [0.11119191],\n",
       "         [0.73643575],\n",
       "         [0.73643575],\n",
       "         [0.59542982],\n",
       "         [0.59542982],\n",
       "         [0.25453   ],\n",
       "         [0.25453   ],\n",
       "         [0.75636086],\n",
       "         [0.75636086],\n",
       "         [0.15565157],\n",
       "         [0.15565157],\n",
       "         [0.94984933],\n",
       "         [0.94984933],\n",
       "         [0.9721269 ],\n",
       "         [0.9721269 ],\n",
       "         [0.76199346],\n",
       "         [0.76199346],\n",
       "         [0.52826062],\n",
       "         [0.52826062],\n",
       "         [0.4471917 ],\n",
       "         [0.4471917 ],\n",
       "         [0.7751861 ],\n",
       "         [0.7751861 ],\n",
       "         [0.49346271],\n",
       "         [0.49346271],\n",
       "         [0.71004313],\n",
       "         [0.71004313],\n",
       "         [0.29171485],\n",
       "         [0.29171485],\n",
       "         [0.68028532],\n",
       "         [0.68028532],\n",
       "         [0.50502573],\n",
       "         [0.50502573],\n",
       "         [0.08641854],\n",
       "         [0.08641854],\n",
       "         [0.69337287],\n",
       "         [0.69337287],\n",
       "         [0.77524286],\n",
       "         [0.77524286],\n",
       "         [0.36878876],\n",
       "         [0.36878876],\n",
       "         [0.9637896 ],\n",
       "         [0.9637896 ],\n",
       "         [0.18628463],\n",
       "         [0.18628463],\n",
       "         [0.44064358],\n",
       "         [0.44064358]])}}"
      ]
     },
     "execution_count": 1,
     "metadata": {},
     "output_type": "execute_result"
    }
   ],
   "source": [
    "ds = load_by_id(run_id_a)\n",
    "ds.get_parameter_data('x1')"
   ]
  },
  {
   "cell_type": "code",
   "execution_count": null,
   "metadata": {},
   "outputs": [],
   "source": []
  }
 ],
 "metadata": {
  "kernelspec": {
   "display_name": "Python 3",
   "language": "python",
   "name": "python3"
  },
  "language_info": {
   "codemirror_mode": {
    "name": "ipython",
    "version": 3
   },
   "file_extension": ".py",
   "mimetype": "text/x-python",
   "name": "python",
   "nbconvert_exporter": "python",
   "pygments_lexer": "ipython3",
   "version": "3.7.9"
  },
  "nbsphinx": {
   "timeout": 600
  },
  "toc": {
   "base_numbering": 1,
   "nav_menu": {},
   "number_sections": true,
   "sideBar": true,
   "skip_h1_title": false,
   "title_cell": "Table of Contents",
   "title_sidebar": "Contents",
   "toc_cell": false,
   "toc_position": {},
   "toc_section_display": true,
   "toc_window_display": false
  },
  "varInspector": {
   "cols": {
    "lenName": 16,
    "lenType": 16,
    "lenVar": 40
   },
   "kernels_config": {
    "python": {
     "delete_cmd_postfix": "",
     "delete_cmd_prefix": "del ",
     "library": "var_list.py",
     "varRefreshCmd": "print(var_dic_list())"
    },
    "r": {
     "delete_cmd_postfix": ") ",
     "delete_cmd_prefix": "rm(",
     "library": "var_list.r",
     "varRefreshCmd": "cat(var_dic_list()) "
    }
   },
   "types_to_exclude": [
    "module",
    "function",
    "builtin_function_or_method",
    "instance",
    "_Feature"
   ],
   "window_display": false
  }
 },
 "nbformat": 4,
 "nbformat_minor": 2
}
