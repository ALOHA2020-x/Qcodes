{
 "cells": [
  {
   "cell_type": "markdown",
   "metadata": {},
   "source": [
    "# DataSet Performance\n",
    "\n",
    "This notebook shows the trade-off between inserting data into a database row-by-row and as binary blobs. Inserting the data row-by-row means that we have direct access to all the data and may perform queries directly on the values of the data. On the other hand, as we shall see, this is much slower than inserting the data directly as binary blobs."
   ]
  },
  {
   "cell_type": "markdown",
   "metadata": {},
   "source": [
    "First, we choose a new location for the database to ensure that we don't add a bunch of benchmarking data to the default one."
   ]
  },
  {
   "cell_type": "code",
   "execution_count": 1,
   "metadata": {
    "execution": {
     "iopub.execute_input": "2021-03-08T12:18:09.030630Z",
     "iopub.status.busy": "2021-03-08T12:18:09.029916Z",
     "iopub.status.idle": "2021-03-08T12:18:09.914534Z",
     "shell.execute_reply": "2021-03-08T12:18:09.914980Z"
    }
   },
   "outputs": [
    {
     "name": "stdout",
     "output_type": "stream",
     "text": [
      "Logging hadn't been started.\n",
      "Activating auto-logging. Current session state plus future input saved.\n",
      "Filename       : /home/runner/.qcodes/logs/command_history.log\n",
      "Mode           : append\n",
      "Output logging : True\n",
      "Raw input log  : False\n",
      "Timestamping   : True\n",
      "State          : active\n"
     ]
    },
    {
     "name": "stdout",
     "output_type": "stream",
     "text": [
      "Qcodes Logfile : /home/runner/.qcodes/logs/210308-4485-qcodes.log\n"
     ]
    }
   ],
   "source": [
    "import os\n",
    "cwd = os.getcwd()\n",
    "import qcodes as qc\n",
    "qc.config[\"core\"][\"db_location\"] = os.path.join(cwd, 'testing.db')\n"
   ]
  },
  {
   "cell_type": "code",
   "execution_count": 2,
   "metadata": {
    "execution": {
     "iopub.execute_input": "2021-03-08T12:18:09.922309Z",
     "iopub.status.busy": "2021-03-08T12:18:09.921007Z",
     "iopub.status.idle": "2021-03-08T12:18:10.119070Z",
     "shell.execute_reply": "2021-03-08T12:18:10.118503Z"
    }
   },
   "outputs": [],
   "source": [
    "%matplotlib inline\n",
    "import time\n",
    "import matplotlib.pyplot as plt\n",
    "import numpy as np\n",
    "\n",
    "import qcodes as qc\n",
    "from qcodes.instrument.parameter import ManualParameter\n",
    "from qcodes.dataset.experiment_container import (Experiment,\n",
    "                                                 load_last_experiment,\n",
    "                                                 new_experiment)\n",
    "from qcodes.dataset.sqlite.database import initialise_database\n",
    "from qcodes import load_or_create_experiment\n",
    "from qcodes.dataset.measurements import Measurement"
   ]
  },
  {
   "cell_type": "code",
   "execution_count": 3,
   "metadata": {
    "execution": {
     "iopub.execute_input": "2021-03-08T12:18:10.123685Z",
     "iopub.status.busy": "2021-03-08T12:18:10.122627Z",
     "iopub.status.idle": "2021-03-08T12:18:10.439158Z",
     "shell.execute_reply": "2021-03-08T12:18:10.438270Z"
    }
   },
   "outputs": [
    {
     "name": "stdout",
     "output_type": "stream",
     "text": [
      "\r",
      "0it [00:00, ?it/s]"
     ]
    },
    {
     "name": "stdout",
     "output_type": "stream",
     "text": [
      "\r",
      "Upgrading database; v0 -> v1: : 0it [00:00, ?it/s]"
     ]
    },
    {
     "name": "stdout",
     "output_type": "stream",
     "text": [
      "\r",
      "Upgrading database; v0 -> v1: : 0it [00:00, ?it/s]"
     ]
    },
    {
     "name": "stdout",
     "output_type": "stream",
     "text": [
      "\n",
      "\r",
      "  0%|          | 0/1 [00:00<?, ?it/s]"
     ]
    },
    {
     "name": "stdout",
     "output_type": "stream",
     "text": [
      "\r",
      "Upgrading database; v1 -> v2:   0%|          | 0/1 [00:00<?, ?it/s]"
     ]
    },
    {
     "name": "stdout",
     "output_type": "stream",
     "text": [
      "\r",
      "Upgrading database; v1 -> v2: 100%|██████████| 1/1 [00:00<00:00, 686.58it/s]"
     ]
    },
    {
     "name": "stdout",
     "output_type": "stream",
     "text": [
      "\n",
      "\r",
      "0it [00:00, ?it/s]"
     ]
    },
    {
     "name": "stdout",
     "output_type": "stream",
     "text": [
      "\r",
      "Upgrading database; v2 -> v3: : 0it [00:00, ?it/s]"
     ]
    },
    {
     "name": "stdout",
     "output_type": "stream",
     "text": [
      "\r",
      "Upgrading database; v2 -> v3: : 0it [00:00, ?it/s]"
     ]
    },
    {
     "name": "stdout",
     "output_type": "stream",
     "text": [
      "\n",
      "\r",
      "0it [00:00, ?it/s]"
     ]
    },
    {
     "name": "stdout",
     "output_type": "stream",
     "text": [
      "\r",
      "Upgrading database; v3 -> v4: : 0it [00:00, ?it/s]"
     ]
    },
    {
     "name": "stdout",
     "output_type": "stream",
     "text": [
      "\r",
      "Upgrading database; v3 -> v4: : 0it [00:00, ?it/s]"
     ]
    },
    {
     "name": "stdout",
     "output_type": "stream",
     "text": [
      "\n",
      "\r",
      "  0%|          | 0/1 [00:00<?, ?it/s]"
     ]
    },
    {
     "name": "stdout",
     "output_type": "stream",
     "text": [
      "\r",
      "Upgrading database; v4 -> v5:   0%|          | 0/1 [00:00<?, ?it/s]"
     ]
    },
    {
     "name": "stdout",
     "output_type": "stream",
     "text": [
      "\r",
      "Upgrading database; v4 -> v5: 100%|██████████| 1/1 [00:00<00:00, 862.49it/s]"
     ]
    },
    {
     "name": "stdout",
     "output_type": "stream",
     "text": [
      "\n",
      "\r",
      "0it [00:00, ?it/s]"
     ]
    },
    {
     "name": "stdout",
     "output_type": "stream",
     "text": [
      "\r",
      "Upgrading database; v5 -> v6: : 0it [00:00, ?it/s]"
     ]
    },
    {
     "name": "stdout",
     "output_type": "stream",
     "text": [
      "\r",
      "Upgrading database; v5 -> v6: : 0it [00:00, ?it/s]"
     ]
    },
    {
     "name": "stdout",
     "output_type": "stream",
     "text": [
      "\n",
      "\r",
      "  0%|          | 0/1 [00:00<?, ?it/s]"
     ]
    },
    {
     "name": "stdout",
     "output_type": "stream",
     "text": [
      "\r",
      "Upgrading database; v6 -> v7:   0%|          | 0/1 [00:00<?, ?it/s]"
     ]
    },
    {
     "name": "stdout",
     "output_type": "stream",
     "text": [
      "\r",
      "Upgrading database; v6 -> v7: 100%|██████████| 1/1 [00:00<00:00, 52.58it/s]"
     ]
    },
    {
     "name": "stdout",
     "output_type": "stream",
     "text": [
      "\n",
      "\r",
      "  0%|          | 0/1 [00:00<?, ?it/s]"
     ]
    },
    {
     "name": "stdout",
     "output_type": "stream",
     "text": [
      "\r",
      "Upgrading database; v7 -> v8:   0%|          | 0/1 [00:00<?, ?it/s]"
     ]
    },
    {
     "name": "stdout",
     "output_type": "stream",
     "text": [
      "\r",
      "Upgrading database; v7 -> v8: 100%|██████████| 1/1 [00:00<00:00, 504.30it/s]"
     ]
    },
    {
     "name": "stdout",
     "output_type": "stream",
     "text": [
      "\n"
     ]
    },
    {
     "name": "stdout",
     "output_type": "stream",
     "text": [
      "\r",
      "  0%|          | 0/1 [00:00<?, ?it/s]"
     ]
    },
    {
     "name": "stdout",
     "output_type": "stream",
     "text": [
      "\r",
      "Upgrading database; v8 -> v9:   0%|          | 0/1 [00:00<?, ?it/s]"
     ]
    },
    {
     "name": "stdout",
     "output_type": "stream",
     "text": [
      "\r",
      "Upgrading database; v8 -> v9: 100%|██████████| 1/1 [00:00<00:00, 456.65it/s]"
     ]
    },
    {
     "name": "stdout",
     "output_type": "stream",
     "text": [
      "\n"
     ]
    }
   ],
   "source": [
    "initialise_database()\n",
    "exp = load_or_create_experiment(experiment_name='tutorial_exp', sample_name=\"no sample\")"
   ]
  },
  {
   "cell_type": "markdown",
   "metadata": {},
   "source": [
    "Here, we define a simple function to benchmark the time it takes to insert n points with either numeric or array data type.\n",
    "We will compare both the time used to call ``add_result`` and the time used for the full measurement."
   ]
  },
  {
   "cell_type": "code",
   "execution_count": 4,
   "metadata": {
    "execution": {
     "iopub.execute_input": "2021-03-08T12:18:10.447714Z",
     "iopub.status.busy": "2021-03-08T12:18:10.447157Z",
     "iopub.status.idle": "2021-03-08T12:18:10.450502Z",
     "shell.execute_reply": "2021-03-08T12:18:10.450957Z"
    }
   },
   "outputs": [],
   "source": [
    "def insert_data(paramtype, npoints, nreps=1):\n",
    "\n",
    "    meas = Measurement(exp=exp)\n",
    "\n",
    "    x1 = ManualParameter('x1')\n",
    "    x2 = ManualParameter('x2')\n",
    "    x3 = ManualParameter('x3')\n",
    "    y1 = ManualParameter('y1')\n",
    "    y2 = ManualParameter('y2')\n",
    "\n",
    "    meas.register_parameter(x1, paramtype=paramtype)\n",
    "    meas.register_parameter(x2, paramtype=paramtype)\n",
    "    meas.register_parameter(x3, paramtype=paramtype)\n",
    "    meas.register_parameter(y1, setpoints=[x1, x2, x3],\n",
    "                            paramtype=paramtype)\n",
    "    meas.register_parameter(y2, setpoints=[x1, x2, x3],\n",
    "                            paramtype=paramtype)\n",
    "    start = time.perf_counter()\n",
    "    with meas.run() as datasaver:\n",
    "        start_adding = time.perf_counter()\n",
    "        for i in range(nreps):\n",
    "            datasaver.add_result((x1, np.random.rand(npoints)),\n",
    "                                 (x2, np.random.rand(npoints)),\n",
    "                                 (x3, np.random.rand(npoints)),\n",
    "                                 (y1, np.random.rand(npoints)),\n",
    "                                 (y2, np.random.rand(npoints)))\n",
    "        stop_adding = time.perf_counter()\n",
    "        run_id = datasaver.run_id\n",
    "    stop = time.perf_counter()\n",
    "    tot_time = stop - start\n",
    "    add_time = stop_adding - start_adding\n",
    "    return tot_time, add_time, run_id"
   ]
  },
  {
   "cell_type": "markdown",
   "metadata": {},
   "source": [
    "## Comparison between numeric/array data and binary blob"
   ]
  },
  {
   "cell_type": "markdown",
   "metadata": {},
   "source": [
    "### Case1: Short experiment time"
   ]
  },
  {
   "cell_type": "code",
   "execution_count": 5,
   "metadata": {
    "execution": {
     "iopub.execute_input": "2021-03-08T12:18:10.457136Z",
     "iopub.status.busy": "2021-03-08T12:18:10.455875Z",
     "iopub.status.idle": "2021-03-08T12:18:11.826075Z",
     "shell.execute_reply": "2021-03-08T12:18:11.825590Z"
    }
   },
   "outputs": [
    {
     "name": "stdout",
     "output_type": "stream",
     "text": [
      "Starting experimental run with id: 1. \n"
     ]
    },
    {
     "name": "stdout",
     "output_type": "stream",
     "text": [
      "Starting experimental run with id: 2. \n"
     ]
    },
    {
     "name": "stdout",
     "output_type": "stream",
     "text": [
      "Starting experimental run with id: 3. \n",
      "Starting experimental run with id: 4. \n"
     ]
    },
    {
     "name": "stdout",
     "output_type": "stream",
     "text": [
      "Starting experimental run with id: 5. \n"
     ]
    },
    {
     "name": "stdout",
     "output_type": "stream",
     "text": [
      "Starting experimental run with id: 6. \n",
      "Starting experimental run with id: 7. \n"
     ]
    },
    {
     "name": "stdout",
     "output_type": "stream",
     "text": [
      "Starting experimental run with id: 8. \n"
     ]
    },
    {
     "name": "stdout",
     "output_type": "stream",
     "text": [
      "Starting experimental run with id: 9. \n"
     ]
    },
    {
     "name": "stdout",
     "output_type": "stream",
     "text": [
      "Starting experimental run with id: 10. \n"
     ]
    },
    {
     "name": "stdout",
     "output_type": "stream",
     "text": [
      "Starting experimental run with id: 11. \n"
     ]
    },
    {
     "name": "stdout",
     "output_type": "stream",
     "text": [
      "Starting experimental run with id: 12. \n"
     ]
    },
    {
     "name": "stdout",
     "output_type": "stream",
     "text": [
      "Starting experimental run with id: 13. \n"
     ]
    },
    {
     "name": "stdout",
     "output_type": "stream",
     "text": [
      "Starting experimental run with id: 14. \n"
     ]
    }
   ],
   "source": [
    "sizes = [1,500,1000,2000,3000,4000,5000]\n",
    "t_numeric = []\n",
    "t_numeric_add = []\n",
    "t_array = []\n",
    "t_array_add = []\n",
    "for size in sizes:\n",
    "    tn, tna, run_id_n =  insert_data('numeric', size)\n",
    "    t_numeric.append(tn)\n",
    "    t_numeric_add.append(tna)\n",
    "\n",
    "    ta, taa, run_id_a =  insert_data('array', size)\n",
    "    t_array.append(ta)\n",
    "    t_array_add.append(taa)"
   ]
  },
  {
   "cell_type": "code",
   "execution_count": 6,
   "metadata": {
    "execution": {
     "iopub.execute_input": "2021-03-08T12:18:11.844749Z",
     "iopub.status.busy": "2021-03-08T12:18:11.844185Z",
     "iopub.status.idle": "2021-03-08T12:18:12.073950Z",
     "shell.execute_reply": "2021-03-08T12:18:12.072821Z"
    }
   },
   "outputs": [
    {
     "data": {
      "image/png": "[encoded data removed]",
      "text/plain": [
       "<Figure size 432x288 with 1 Axes>"
      ]
     },
     "metadata": {
      "needs_background": "light"
     },
     "output_type": "display_data"
    }
   ],
   "source": [
    "fig, ax = plt.subplots(1,1)\n",
    "ax.plot(sizes, t_numeric, 'o-', label='Inserting row-by-row')\n",
    "ax.plot(sizes, t_numeric_add, 'o-', label='Inserting row-by-row: add_result only')\n",
    "ax.plot(sizes, t_array, 'd-', label='Inserting as binary blob')\n",
    "ax.plot(sizes, t_array_add, 'd-', label='Inserting as binary blob: add_result only')\n",
    "ax.legend()\n",
    "ax.set_xlabel('Array length')\n",
    "ax.set_ylabel('Time (s)')\n",
    "fig.tight_layout()"
   ]
  },
  {
   "cell_type": "markdown",
   "metadata": {},
   "source": [
    "As shown in the latter figure, the time to setup and and close the experiment is approximately 0.4 sec. In case of small array sizes, the difference between inserting values of data as arrays and inserting them row-by-row is relatively unimportant. At larger array sizes, i.e. above 10000 points, the cost of writing data as individual datapoints starts to become important.\n"
   ]
  },
  {
   "cell_type": "markdown",
   "metadata": {},
   "source": [
    "### Case2: Long experiment time "
   ]
  },
  {
   "cell_type": "code",
   "execution_count": 7,
   "metadata": {
    "execution": {
     "iopub.execute_input": "2021-03-08T12:18:12.081236Z",
     "iopub.status.busy": "2021-03-08T12:18:12.079959Z",
     "iopub.status.idle": "2021-03-08T12:19:14.824980Z",
     "shell.execute_reply": "2021-03-08T12:19:14.823948Z"
    }
   },
   "outputs": [
    {
     "name": "stdout",
     "output_type": "stream",
     "text": [
      "Starting experimental run with id: 15. \n",
      "Starting experimental run with id: 16. \n"
     ]
    },
    {
     "name": "stdout",
     "output_type": "stream",
     "text": [
      "Starting experimental run with id: 17. \n"
     ]
    },
    {
     "name": "stdout",
     "output_type": "stream",
     "text": [
      "Starting experimental run with id: 18. \n"
     ]
    },
    {
     "name": "stdout",
     "output_type": "stream",
     "text": [
      "Starting experimental run with id: 19. \n"
     ]
    },
    {
     "name": "stdout",
     "output_type": "stream",
     "text": [
      "Starting experimental run with id: 20. \n"
     ]
    },
    {
     "name": "stdout",
     "output_type": "stream",
     "text": [
      "Starting experimental run with id: 21. \n"
     ]
    },
    {
     "name": "stdout",
     "output_type": "stream",
     "text": [
      "Starting experimental run with id: 22. \n"
     ]
    },
    {
     "name": "stdout",
     "output_type": "stream",
     "text": [
      "Starting experimental run with id: 23. \n"
     ]
    },
    {
     "name": "stdout",
     "output_type": "stream",
     "text": [
      "Starting experimental run with id: 24. \n"
     ]
    },
    {
     "name": "stdout",
     "output_type": "stream",
     "text": [
      "Starting experimental run with id: 25. \n"
     ]
    },
    {
     "name": "stdout",
     "output_type": "stream",
     "text": [
      "Starting experimental run with id: 26. \n"
     ]
    },
    {
     "name": "stdout",
     "output_type": "stream",
     "text": [
      "Starting experimental run with id: 27. \n"
     ]
    },
    {
     "name": "stdout",
     "output_type": "stream",
     "text": [
      "Starting experimental run with id: 28. \n"
     ]
    }
   ],
   "source": [
    "sizes = [1,500,1000,2000,3000,4000,5000]\n",
    "nreps = 100\n",
    "t_numeric = []\n",
    "t_numeric_add = []\n",
    "t_numeric_run_ids = []\n",
    "t_array = []\n",
    "t_array_add = []\n",
    "t_array_run_ids = []\n",
    "for size in sizes:\n",
    "    tn, tna, run_id_n =  insert_data('numeric', size, nreps=nreps)\n",
    "    t_numeric.append(tn)\n",
    "    t_numeric_add.append(tna)\n",
    "    t_numeric_run_ids.append(run_id_n)\n",
    "\n",
    "    ta, taa, run_id_a =  insert_data('array', size, nreps=nreps)\n",
    "    t_array.append(ta)\n",
    "    t_array_add.append(taa)\n",
    "    t_array_run_ids.append(run_id_a)"
   ]
  },
  {
   "cell_type": "code",
   "execution_count": 8,
   "metadata": {
    "execution": {
     "iopub.execute_input": "2021-03-08T12:19:14.854644Z",
     "iopub.status.busy": "2021-03-08T12:19:14.845651Z",
     "iopub.status.idle": "2021-03-08T12:19:15.077348Z",
     "shell.execute_reply": "2021-03-08T12:19:15.078093Z"
    },
    "scrolled": true
   },
   "outputs": [
    {
     "data": {
      "image/png": "[encoded data removed]",
      "text/plain": [
       "<Figure size 432x288 with 1 Axes>"
      ]
     },
     "metadata": {
      "needs_background": "light"
     },
     "output_type": "display_data"
    }
   ],
   "source": [
    "fig, ax = plt.subplots(1,1)\n",
    "ax.plot(sizes, t_numeric, 'o-', label='Inserting row-by-row')\n",
    "ax.plot(sizes, t_numeric_add, 'o-', label='Inserting row-by-row: add_result only')\n",
    "ax.plot(sizes, t_array, 'd-', label='Inserting as binary blob')\n",
    "ax.plot(sizes, t_array_add, 'd-', label='Inserting as binary blob: add_result only')\n",
    "ax.legend()\n",
    "ax.set_xlabel('Array length')\n",
    "ax.set_ylabel('Time (s)')\n",
    "fig.tight_layout()"
   ]
  },
  {
   "cell_type": "markdown",
   "metadata": {},
   "source": [
    "However, as we increase the length of the experiment, as seen here by repeating the insertion 100 times, we see a big difference between inserting values of the data row-by-row and inserting it as a binary blob."
   ]
  },
  {
   "cell_type": "markdown",
   "metadata": {},
   "source": [
    "## Loading the data "
   ]
  },
  {
   "cell_type": "code",
   "execution_count": 9,
   "metadata": {
    "execution": {
     "iopub.execute_input": "2021-03-08T12:19:15.082616Z",
     "iopub.status.busy": "2021-03-08T12:19:15.081890Z",
     "iopub.status.idle": "2021-03-08T12:19:15.086248Z",
     "shell.execute_reply": "2021-03-08T12:19:15.086712Z"
    }
   },
   "outputs": [],
   "source": [
    "from qcodes.dataset.data_set import load_by_id\n",
    "from qcodes.dataset.data_export import get_data_by_id"
   ]
  },
  {
   "cell_type": "markdown",
   "metadata": {},
   "source": [
    "As usual you can load the data by using the ``load_by_id`` function but you will notice that the different storage methods\n",
    "are reflected in shape of the data as it is retrieved. "
   ]
  },
  {
   "cell_type": "code",
   "execution_count": 10,
   "metadata": {
    "execution": {
     "iopub.execute_input": "2021-03-08T12:19:15.091351Z",
     "iopub.status.busy": "2021-03-08T12:19:15.090718Z",
     "iopub.status.idle": "2021-03-08T12:19:15.094422Z",
     "shell.execute_reply": "2021-03-08T12:19:15.093972Z"
    }
   },
   "outputs": [],
   "source": [
    "run_id_n = t_numeric_run_ids[0]\n",
    "run_id_a = t_array_run_ids[0]"
   ]
  },
  {
   "cell_type": "code",
   "execution_count": 11,
   "metadata": {
    "execution": {
     "iopub.execute_input": "2021-03-08T12:19:15.098504Z",
     "iopub.status.busy": "2021-03-08T12:19:15.097558Z",
     "iopub.status.idle": "2021-03-08T12:19:15.110074Z",
     "shell.execute_reply": "2021-03-08T12:19:15.109613Z"
    },
    "scrolled": true
   },
   "outputs": [
    {
     "data": {
      "text/plain": [
       "{'x1': {'x1': array([0.50585132, 0.50585132, 0.46956864, 0.46956864, 0.33518761,\n",
       "         0.33518761, 0.43912782, 0.43912782, 0.88602098, 0.88602098,\n",
       "         0.89422625, 0.89422625, 0.28047313, 0.28047313, 0.78984712,\n",
       "         0.78984712, 0.03418306, 0.03418306, 0.57520692, 0.57520692,\n",
       "         0.82754323, 0.82754323, 0.3670795 , 0.3670795 , 0.42501283,\n",
       "         0.42501283, 0.62607196, 0.62607196, 0.18151531, 0.18151531,\n",
       "         0.63441581, 0.63441581, 0.89901076, 0.89901076, 0.07168308,\n",
       "         0.07168308, 0.49074726, 0.49074726, 0.76162791, 0.76162791,\n",
       "         0.56224413, 0.56224413, 0.81132511, 0.81132511, 0.45003534,\n",
       "         0.45003534, 0.68822856, 0.68822856, 0.84848184, 0.84848184,\n",
       "         0.37464799, 0.37464799, 0.42107303, 0.42107303, 0.73677817,\n",
       "         0.73677817, 0.37651666, 0.37651666, 0.36801981, 0.36801981,\n",
       "         0.71373844, 0.71373844, 0.07007543, 0.07007543, 0.01800292,\n",
       "         0.01800292, 0.78166921, 0.78166921, 0.12075679, 0.12075679,\n",
       "         0.13546497, 0.13546497, 0.85737479, 0.85737479, 0.93570591,\n",
       "         0.93570591, 0.35481508, 0.35481508, 0.51055098, 0.51055098,\n",
       "         0.60659776, 0.60659776, 0.43553704, 0.43553704, 0.97974918,\n",
       "         0.97974918, 0.05802409, 0.05802409, 0.3441062 , 0.3441062 ,\n",
       "         0.67295303, 0.67295303, 0.30444386, 0.30444386, 0.14247511,\n",
       "         0.14247511, 0.91707385, 0.91707385, 0.04370813, 0.04370813,\n",
       "         0.67662749, 0.67662749, 0.97403763, 0.97403763, 0.09843103,\n",
       "         0.09843103, 0.38803782, 0.38803782, 0.7686535 , 0.7686535 ,\n",
       "         0.340406  , 0.340406  , 0.58046321, 0.58046321, 0.84397635,\n",
       "         0.84397635, 0.12626922, 0.12626922, 0.67934967, 0.67934967,\n",
       "         0.32064386, 0.32064386, 0.98445715, 0.98445715, 0.53015924,\n",
       "         0.53015924, 0.17877232, 0.17877232, 0.91437497, 0.91437497,\n",
       "         0.37561264, 0.37561264, 0.54597346, 0.54597346, 0.05299842,\n",
       "         0.05299842, 0.46072302, 0.46072302, 0.51412148, 0.51412148,\n",
       "         0.56457209, 0.56457209, 0.70696004, 0.70696004, 0.94447261,\n",
       "         0.94447261, 0.19847614, 0.19847614, 0.25937446, 0.25937446,\n",
       "         0.98291276, 0.98291276, 0.6097532 , 0.6097532 , 0.54398823,\n",
       "         0.54398823, 0.0245478 , 0.0245478 , 0.27694737, 0.27694737,\n",
       "         0.92235455, 0.92235455, 0.28552583, 0.28552583, 0.0621742 ,\n",
       "         0.0621742 , 0.75852762, 0.75852762, 0.44195687, 0.44195687,\n",
       "         0.92208981, 0.92208981, 0.97401297, 0.97401297, 0.19371359,\n",
       "         0.19371359, 0.68640705, 0.68640705, 0.6797305 , 0.6797305 ,\n",
       "         0.98244728, 0.98244728, 0.40266865, 0.40266865, 0.23893179,\n",
       "         0.23893179, 0.3066583 , 0.3066583 , 0.18111052, 0.18111052,\n",
       "         0.11445018, 0.11445018, 0.68510525, 0.68510525, 0.72784661,\n",
       "         0.72784661, 0.08940578, 0.08940578, 0.99407512, 0.99407512])}}"
      ]
     },
     "execution_count": 1,
     "metadata": {},
     "output_type": "execute_result"
    }
   ],
   "source": [
    "ds = load_by_id(run_id_n)\n",
    "ds.get_parameter_data('x1')"
   ]
  },
  {
   "cell_type": "markdown",
   "metadata": {},
   "source": [
    "And a dataset stored as binary arrays"
   ]
  },
  {
   "cell_type": "code",
   "execution_count": 12,
   "metadata": {
    "execution": {
     "iopub.execute_input": "2021-03-08T12:19:15.113782Z",
     "iopub.status.busy": "2021-03-08T12:19:15.113261Z",
     "iopub.status.idle": "2021-03-08T12:19:15.183555Z",
     "shell.execute_reply": "2021-03-08T12:19:15.183003Z"
    },
    "scrolled": true
   },
   "outputs": [
    {
     "data": {
      "text/plain": [
       "{'x1': {'x1': array([[0.21187784],\n",
       "         [0.21187784],\n",
       "         [0.43103832],\n",
       "         [0.43103832],\n",
       "         [0.82856762],\n",
       "         [0.82856762],\n",
       "         [0.50155586],\n",
       "         [0.50155586],\n",
       "         [0.05607545],\n",
       "         [0.05607545],\n",
       "         [0.63489622],\n",
       "         [0.63489622],\n",
       "         [0.24766315],\n",
       "         [0.24766315],\n",
       "         [0.60142237],\n",
       "         [0.60142237],\n",
       "         [0.54235357],\n",
       "         [0.54235357],\n",
       "         [0.65556091],\n",
       "         [0.65556091],\n",
       "         [0.6253399 ],\n",
       "         [0.6253399 ],\n",
       "         [0.41687019],\n",
       "         [0.41687019],\n",
       "         [0.8966624 ],\n",
       "         [0.8966624 ],\n",
       "         [0.59629651],\n",
       "         [0.59629651],\n",
       "         [0.8215485 ],\n",
       "         [0.8215485 ],\n",
       "         [0.49903479],\n",
       "         [0.49903479],\n",
       "         [0.05813249],\n",
       "         [0.05813249],\n",
       "         [0.20188837],\n",
       "         [0.20188837],\n",
       "         [0.68753207],\n",
       "         [0.68753207],\n",
       "         [0.63020484],\n",
       "         [0.63020484],\n",
       "         [0.1134022 ],\n",
       "         [0.1134022 ],\n",
       "         [0.25463317],\n",
       "         [0.25463317],\n",
       "         [0.16588941],\n",
       "         [0.16588941],\n",
       "         [0.2411541 ],\n",
       "         [0.2411541 ],\n",
       "         [0.50546322],\n",
       "         [0.50546322],\n",
       "         [0.02031311],\n",
       "         [0.02031311],\n",
       "         [0.61050834],\n",
       "         [0.61050834],\n",
       "         [0.76233667],\n",
       "         [0.76233667],\n",
       "         [0.45024903],\n",
       "         [0.45024903],\n",
       "         [0.37564717],\n",
       "         [0.37564717],\n",
       "         [0.94892137],\n",
       "         [0.94892137],\n",
       "         [0.62546883],\n",
       "         [0.62546883],\n",
       "         [0.16247119],\n",
       "         [0.16247119],\n",
       "         [0.85544303],\n",
       "         [0.85544303],\n",
       "         [0.0308717 ],\n",
       "         [0.0308717 ],\n",
       "         [0.91463633],\n",
       "         [0.91463633],\n",
       "         [0.56615386],\n",
       "         [0.56615386],\n",
       "         [0.48151267],\n",
       "         [0.48151267],\n",
       "         [0.64485767],\n",
       "         [0.64485767],\n",
       "         [0.50574426],\n",
       "         [0.50574426],\n",
       "         [0.20068709],\n",
       "         [0.20068709],\n",
       "         [0.09318474],\n",
       "         [0.09318474],\n",
       "         [0.30636661],\n",
       "         [0.30636661],\n",
       "         [0.41721117],\n",
       "         [0.41721117],\n",
       "         [0.76394445],\n",
       "         [0.76394445],\n",
       "         [0.75023948],\n",
       "         [0.75023948],\n",
       "         [0.84512108],\n",
       "         [0.84512108],\n",
       "         [0.25736138],\n",
       "         [0.25736138],\n",
       "         [0.43997191],\n",
       "         [0.43997191],\n",
       "         [0.09448231],\n",
       "         [0.09448231],\n",
       "         [0.196338  ],\n",
       "         [0.196338  ],\n",
       "         [0.95281848],\n",
       "         [0.95281848],\n",
       "         [0.84920182],\n",
       "         [0.84920182],\n",
       "         [0.47320169],\n",
       "         [0.47320169],\n",
       "         [0.46563894],\n",
       "         [0.46563894],\n",
       "         [0.15210485],\n",
       "         [0.15210485],\n",
       "         [0.57805161],\n",
       "         [0.57805161],\n",
       "         [0.42442671],\n",
       "         [0.42442671],\n",
       "         [0.14037212],\n",
       "         [0.14037212],\n",
       "         [0.84900113],\n",
       "         [0.84900113],\n",
       "         [0.86596056],\n",
       "         [0.86596056],\n",
       "         [0.39829636],\n",
       "         [0.39829636],\n",
       "         [0.6414416 ],\n",
       "         [0.6414416 ],\n",
       "         [0.93465966],\n",
       "         [0.93465966],\n",
       "         [0.14246456],\n",
       "         [0.14246456],\n",
       "         [0.2384477 ],\n",
       "         [0.2384477 ],\n",
       "         [0.20795802],\n",
       "         [0.20795802],\n",
       "         [0.21989266],\n",
       "         [0.21989266],\n",
       "         [0.34887644],\n",
       "         [0.34887644],\n",
       "         [0.77421979],\n",
       "         [0.77421979],\n",
       "         [0.90554641],\n",
       "         [0.90554641],\n",
       "         [0.90450158],\n",
       "         [0.90450158],\n",
       "         [0.42297735],\n",
       "         [0.42297735],\n",
       "         [0.32537494],\n",
       "         [0.32537494],\n",
       "         [0.77180338],\n",
       "         [0.77180338],\n",
       "         [0.40853198],\n",
       "         [0.40853198],\n",
       "         [0.8664377 ],\n",
       "         [0.8664377 ],\n",
       "         [0.21996697],\n",
       "         [0.21996697],\n",
       "         [0.43144212],\n",
       "         [0.43144212],\n",
       "         [0.11101021],\n",
       "         [0.11101021],\n",
       "         [0.88652302],\n",
       "         [0.88652302],\n",
       "         [0.83400496],\n",
       "         [0.83400496],\n",
       "         [0.82420324],\n",
       "         [0.82420324],\n",
       "         [0.66727259],\n",
       "         [0.66727259],\n",
       "         [0.65509056],\n",
       "         [0.65509056],\n",
       "         [0.24231525],\n",
       "         [0.24231525],\n",
       "         [0.85653413],\n",
       "         [0.85653413],\n",
       "         [0.13730335],\n",
       "         [0.13730335],\n",
       "         [0.90865608],\n",
       "         [0.90865608],\n",
       "         [0.18028639],\n",
       "         [0.18028639],\n",
       "         [0.69380959],\n",
       "         [0.69380959],\n",
       "         [0.07895195],\n",
       "         [0.07895195],\n",
       "         [0.95834586],\n",
       "         [0.95834586],\n",
       "         [0.00701494],\n",
       "         [0.00701494],\n",
       "         [0.86581311],\n",
       "         [0.86581311],\n",
       "         [0.79458836],\n",
       "         [0.79458836],\n",
       "         [0.69157018],\n",
       "         [0.69157018],\n",
       "         [0.99281165],\n",
       "         [0.99281165],\n",
       "         [0.8246741 ],\n",
       "         [0.8246741 ],\n",
       "         [0.91939438],\n",
       "         [0.91939438]])}}"
      ]
     },
     "execution_count": 1,
     "metadata": {},
     "output_type": "execute_result"
    }
   ],
   "source": [
    "ds = load_by_id(run_id_a)\n",
    "ds.get_parameter_data('x1')"
   ]
  },
  {
   "cell_type": "code",
   "execution_count": null,
   "metadata": {},
   "outputs": [],
   "source": []
  }
 ],
 "metadata": {
  "kernelspec": {
   "display_name": "Python 3",
   "language": "python",
   "name": "python3"
  },
  "language_info": {
   "codemirror_mode": {
    "name": "ipython",
    "version": 3
   },
   "file_extension": ".py",
   "mimetype": "text/x-python",
   "name": "python",
   "nbconvert_exporter": "python",
   "pygments_lexer": "ipython3",
   "version": "3.7.10"
  },
  "nbsphinx": {
   "timeout": 600
  },
  "toc": {
   "base_numbering": 1,
   "nav_menu": {},
   "number_sections": true,
   "sideBar": true,
   "skip_h1_title": false,
   "title_cell": "Table of Contents",
   "title_sidebar": "Contents",
   "toc_cell": false,
   "toc_position": {},
   "toc_section_display": true,
   "toc_window_display": false
  },
  "varInspector": {
   "cols": {
    "lenName": 16,
    "lenType": 16,
    "lenVar": 40
   },
   "kernels_config": {
    "python": {
     "delete_cmd_postfix": "",
     "delete_cmd_prefix": "del ",
     "library": "var_list.py",
     "varRefreshCmd": "print(var_dic_list())"
    },
    "r": {
     "delete_cmd_postfix": ") ",
     "delete_cmd_prefix": "rm(",
     "library": "var_list.r",
     "varRefreshCmd": "cat(var_dic_list()) "
    }
   },
   "types_to_exclude": [
    "module",
    "function",
    "builtin_function_or_method",
    "instance",
    "_Feature"
   ],
   "window_display": false
  }
 },
 "nbformat": 4,
 "nbformat_minor": 2
}
