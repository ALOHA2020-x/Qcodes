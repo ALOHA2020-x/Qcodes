{
 "cells": [
  {
   "cell_type": "markdown",
   "metadata": {},
   "source": [
    "# DataSet Performance\n",
    "\n",
    "This notebook shows the trade-off between inserting data into a database row-by-row and as binary blobs. Inserting the data row-by-row means that we have direct access to all the data and may perform queries directly on the values of the data. On the other hand, as we shall see, this is much slower than inserting the data directly as binary blobs."
   ]
  },
  {
   "cell_type": "markdown",
   "metadata": {},
   "source": [
    "First, we choose a new location for the database to ensure that we don't add a bunch of benchmarking data to the default one."
   ]
  },
  {
   "cell_type": "code",
   "execution_count": 1,
   "metadata": {
    "execution": {
     "iopub.execute_input": "2021-02-12T07:42:45.309246Z",
     "iopub.status.busy": "2021-02-12T07:42:45.308673Z",
     "iopub.status.idle": "2021-02-12T07:42:46.180619Z",
     "shell.execute_reply": "2021-02-12T07:42:46.180080Z"
    }
   },
   "outputs": [
    {
     "name": "stdout",
     "output_type": "stream",
     "text": [
      "Logging hadn't been started.\n",
      "Activating auto-logging. Current session state plus future input saved.\n",
      "Filename       : /home/vsts/.qcodes/logs/command_history.log\n",
      "Mode           : append\n",
      "Output logging : True\n",
      "Raw input log  : False\n",
      "Timestamping   : True\n",
      "State          : active\n"
     ]
    },
    {
     "name": "stdout",
     "output_type": "stream",
     "text": [
      "Qcodes Logfile : /home/vsts/.qcodes/logs/210212-7261-qcodes.log\n"
     ]
    }
   ],
   "source": [
    "import os\n",
    "cwd = os.getcwd()\n",
    "import qcodes as qc\n",
    "qc.config[\"core\"][\"db_location\"] = os.path.join(cwd, 'testing.db')\n"
   ]
  },
  {
   "cell_type": "code",
   "execution_count": 2,
   "metadata": {
    "execution": {
     "iopub.execute_input": "2021-02-12T07:42:46.185875Z",
     "iopub.status.busy": "2021-02-12T07:42:46.184741Z",
     "iopub.status.idle": "2021-02-12T07:42:46.340548Z",
     "shell.execute_reply": "2021-02-12T07:42:46.338784Z"
    }
   },
   "outputs": [],
   "source": [
    "%matplotlib inline\n",
    "import time\n",
    "import matplotlib.pyplot as plt\n",
    "import numpy as np\n",
    "\n",
    "import qcodes as qc\n",
    "from qcodes.instrument.parameter import ManualParameter\n",
    "from qcodes.dataset.experiment_container import (Experiment,\n",
    "                                                 load_last_experiment,\n",
    "                                                 new_experiment)\n",
    "from qcodes.dataset.sqlite.database import initialise_database\n",
    "from qcodes import load_or_create_experiment\n",
    "from qcodes.dataset.measurements import Measurement"
   ]
  },
  {
   "cell_type": "code",
   "execution_count": 3,
   "metadata": {
    "execution": {
     "iopub.execute_input": "2021-02-12T07:42:46.345549Z",
     "iopub.status.busy": "2021-02-12T07:42:46.344529Z",
     "iopub.status.idle": "2021-02-12T07:42:46.435333Z",
     "shell.execute_reply": "2021-02-12T07:42:46.434924Z"
    }
   },
   "outputs": [
    {
     "name": "stdout",
     "output_type": "stream",
     "text": [
      "\r",
      "0it [00:00, ?it/s]"
     ]
    },
    {
     "name": "stdout",
     "output_type": "stream",
     "text": [
      "\r",
      "Upgrading database; v0 -> v1: : 0it [00:00, ?it/s]"
     ]
    },
    {
     "name": "stdout",
     "output_type": "stream",
     "text": [
      "\r",
      "Upgrading database; v0 -> v1: : 0it [00:00, ?it/s]"
     ]
    },
    {
     "name": "stdout",
     "output_type": "stream",
     "text": [
      "\n",
      "\r",
      "  0%|          | 0/1 [00:00<?, ?it/s]"
     ]
    },
    {
     "name": "stdout",
     "output_type": "stream",
     "text": [
      "\r",
      "Upgrading database; v1 -> v2:   0%|          | 0/1 [00:00<?, ?it/s]"
     ]
    },
    {
     "name": "stdout",
     "output_type": "stream",
     "text": [
      "\r",
      "Upgrading database; v1 -> v2: 100%|██████████| 1/1 [00:00<00:00, 1244.23it/s]"
     ]
    },
    {
     "name": "stdout",
     "output_type": "stream",
     "text": [
      "\n",
      "\r",
      "0it [00:00, ?it/s]"
     ]
    },
    {
     "name": "stdout",
     "output_type": "stream",
     "text": [
      "\r",
      "Upgrading database; v2 -> v3: : 0it [00:00, ?it/s]"
     ]
    },
    {
     "name": "stdout",
     "output_type": "stream",
     "text": [
      "\r",
      "Upgrading database; v2 -> v3: : 0it [00:00, ?it/s]"
     ]
    },
    {
     "name": "stdout",
     "output_type": "stream",
     "text": [
      "\n",
      "\r",
      "0it [00:00, ?it/s]"
     ]
    },
    {
     "name": "stdout",
     "output_type": "stream",
     "text": [
      "\r",
      "Upgrading database; v3 -> v4: : 0it [00:00, ?it/s]"
     ]
    },
    {
     "name": "stdout",
     "output_type": "stream",
     "text": [
      "\r",
      "Upgrading database; v3 -> v4: : 0it [00:00, ?it/s]"
     ]
    },
    {
     "name": "stdout",
     "output_type": "stream",
     "text": [
      "\n",
      "\r",
      "  0%|          | 0/1 [00:00<?, ?it/s]"
     ]
    },
    {
     "name": "stdout",
     "output_type": "stream",
     "text": [
      "\r",
      "Upgrading database; v4 -> v5:   0%|          | 0/1 [00:00<?, ?it/s]"
     ]
    },
    {
     "name": "stdout",
     "output_type": "stream",
     "text": [
      "\r",
      "Upgrading database; v4 -> v5: 100%|██████████| 1/1 [00:00<00:00, 677.48it/s]"
     ]
    },
    {
     "name": "stdout",
     "output_type": "stream",
     "text": [
      "\n",
      "\r",
      "0it [00:00, ?it/s]"
     ]
    },
    {
     "name": "stdout",
     "output_type": "stream",
     "text": [
      "\r",
      "Upgrading database; v5 -> v6: : 0it [00:00, ?it/s]"
     ]
    },
    {
     "name": "stdout",
     "output_type": "stream",
     "text": [
      "\r",
      "Upgrading database; v5 -> v6: : 0it [00:00, ?it/s]"
     ]
    },
    {
     "name": "stdout",
     "output_type": "stream",
     "text": [
      "\n",
      "\r",
      "  0%|          | 0/1 [00:00<?, ?it/s]"
     ]
    },
    {
     "name": "stdout",
     "output_type": "stream",
     "text": [
      "\r",
      "Upgrading database; v6 -> v7:   0%|          | 0/1 [00:00<?, ?it/s]"
     ]
    },
    {
     "name": "stdout",
     "output_type": "stream",
     "text": [
      "\r",
      "Upgrading database; v6 -> v7: 100%|██████████| 1/1 [00:00<00:00, 426.03it/s]"
     ]
    },
    {
     "name": "stdout",
     "output_type": "stream",
     "text": [
      "\n",
      "\r",
      "  0%|          | 0/1 [00:00<?, ?it/s]"
     ]
    },
    {
     "name": "stdout",
     "output_type": "stream",
     "text": [
      "\r",
      "Upgrading database; v7 -> v8:   0%|          | 0/1 [00:00<?, ?it/s]"
     ]
    },
    {
     "name": "stdout",
     "output_type": "stream",
     "text": [
      "\r",
      "Upgrading database; v7 -> v8: 100%|██████████| 1/1 [00:00<00:00, 1031.05it/s]"
     ]
    },
    {
     "name": "stdout",
     "output_type": "stream",
     "text": [
      "\n",
      "\r",
      "  0%|          | 0/1 [00:00<?, ?it/s]"
     ]
    },
    {
     "name": "stdout",
     "output_type": "stream",
     "text": [
      "\r",
      "Upgrading database; v8 -> v9:   0%|          | 0/1 [00:00<?, ?it/s]"
     ]
    },
    {
     "name": "stdout",
     "output_type": "stream",
     "text": [
      "\r",
      "Upgrading database; v8 -> v9: 100%|██████████| 1/1 [00:00<00:00, 715.51it/s]"
     ]
    },
    {
     "name": "stdout",
     "output_type": "stream",
     "text": [
      "\n"
     ]
    }
   ],
   "source": [
    "initialise_database()\n",
    "exp = load_or_create_experiment(experiment_name='tutorial_exp', sample_name=\"no sample\")"
   ]
  },
  {
   "cell_type": "markdown",
   "metadata": {},
   "source": [
    "Here, we define a simple function to benchmark the time it takes to insert n points with either numeric or array data type.\n",
    "We will compare both the time used to call ``add_result`` and the time used for the full measurement."
   ]
  },
  {
   "cell_type": "code",
   "execution_count": 4,
   "metadata": {
    "execution": {
     "iopub.execute_input": "2021-02-12T07:42:46.443087Z",
     "iopub.status.busy": "2021-02-12T07:42:46.442631Z",
     "iopub.status.idle": "2021-02-12T07:42:46.445707Z",
     "shell.execute_reply": "2021-02-12T07:42:46.446048Z"
    }
   },
   "outputs": [],
   "source": [
    "def insert_data(paramtype, npoints, nreps=1):\n",
    "\n",
    "    meas = Measurement(exp=exp)\n",
    "\n",
    "    x1 = ManualParameter('x1')\n",
    "    x2 = ManualParameter('x2')\n",
    "    x3 = ManualParameter('x3')\n",
    "    y1 = ManualParameter('y1')\n",
    "    y2 = ManualParameter('y2')\n",
    "\n",
    "    meas.register_parameter(x1, paramtype=paramtype)\n",
    "    meas.register_parameter(x2, paramtype=paramtype)\n",
    "    meas.register_parameter(x3, paramtype=paramtype)\n",
    "    meas.register_parameter(y1, setpoints=[x1, x2, x3],\n",
    "                            paramtype=paramtype)\n",
    "    meas.register_parameter(y2, setpoints=[x1, x2, x3],\n",
    "                            paramtype=paramtype)\n",
    "    start = time.perf_counter()\n",
    "    with meas.run() as datasaver:\n",
    "        start_adding = time.perf_counter()\n",
    "        for i in range(nreps):\n",
    "            datasaver.add_result((x1, np.random.rand(npoints)),\n",
    "                                 (x2, np.random.rand(npoints)),\n",
    "                                 (x3, np.random.rand(npoints)),\n",
    "                                 (y1, np.random.rand(npoints)),\n",
    "                                 (y2, np.random.rand(npoints)))\n",
    "        stop_adding = time.perf_counter()\n",
    "        run_id = datasaver.run_id\n",
    "    stop = time.perf_counter()\n",
    "    tot_time = stop - start\n",
    "    add_time = stop_adding - start_adding\n",
    "    return tot_time, add_time, run_id"
   ]
  },
  {
   "cell_type": "markdown",
   "metadata": {},
   "source": [
    "## Comparison between numeric/array data and binary blob"
   ]
  },
  {
   "cell_type": "markdown",
   "metadata": {},
   "source": [
    "### Case1: Short experiment time"
   ]
  },
  {
   "cell_type": "code",
   "execution_count": 5,
   "metadata": {
    "execution": {
     "iopub.execute_input": "2021-02-12T07:42:46.451071Z",
     "iopub.status.busy": "2021-02-12T07:42:46.450017Z",
     "iopub.status.idle": "2021-02-12T07:42:47.134106Z",
     "shell.execute_reply": "2021-02-12T07:42:47.133261Z"
    }
   },
   "outputs": [
    {
     "name": "stdout",
     "output_type": "stream",
     "text": [
      "Starting experimental run with id: 1. \n",
      "Starting experimental run with id: 2. \n",
      "Starting experimental run with id: 3. \n",
      "Starting experimental run with id: 4. \n",
      "Starting experimental run with id: 5. \n",
      "Starting experimental run with id: 6. \n"
     ]
    },
    {
     "name": "stdout",
     "output_type": "stream",
     "text": [
      "Starting experimental run with id: 7. \n"
     ]
    },
    {
     "name": "stdout",
     "output_type": "stream",
     "text": [
      "Starting experimental run with id: 8. \n"
     ]
    },
    {
     "name": "stdout",
     "output_type": "stream",
     "text": [
      "Starting experimental run with id: 9. \n",
      "Starting experimental run with id: 10. \n",
      "Starting experimental run with id: 11. \n"
     ]
    },
    {
     "name": "stdout",
     "output_type": "stream",
     "text": [
      "Starting experimental run with id: 12. \n",
      "Starting experimental run with id: 13. \n"
     ]
    },
    {
     "name": "stdout",
     "output_type": "stream",
     "text": [
      "Starting experimental run with id: 14. \n"
     ]
    }
   ],
   "source": [
    "sizes = [1,500,1000,2000,3000,4000,5000]\n",
    "t_numeric = []\n",
    "t_numeric_add = []\n",
    "t_array = []\n",
    "t_array_add = []\n",
    "for size in sizes:\n",
    "    tn, tna, run_id_n =  insert_data('numeric', size)\n",
    "    t_numeric.append(tn)\n",
    "    t_numeric_add.append(tna)\n",
    "\n",
    "    ta, taa, run_id_a =  insert_data('array', size)\n",
    "    t_array.append(ta)\n",
    "    t_array_add.append(taa)"
   ]
  },
  {
   "cell_type": "code",
   "execution_count": 6,
   "metadata": {
    "execution": {
     "iopub.execute_input": "2021-02-12T07:42:47.171971Z",
     "iopub.status.busy": "2021-02-12T07:42:47.138342Z",
     "iopub.status.idle": "2021-02-12T07:42:47.314033Z",
     "shell.execute_reply": "2021-02-12T07:42:47.313268Z"
    }
   },
   "outputs": [
    {
     "data": {
      "image/png": "[encoded data removed]",
      "text/plain": [
       "<Figure size 432x288 with 1 Axes>"
      ]
     },
     "metadata": {
      "needs_background": "light"
     },
     "output_type": "display_data"
    }
   ],
   "source": [
    "fig, ax = plt.subplots(1,1)\n",
    "ax.plot(sizes, t_numeric, 'o-', label='Inserting row-by-row')\n",
    "ax.plot(sizes, t_numeric_add, 'o-', label='Inserting row-by-row: add_result only')\n",
    "ax.plot(sizes, t_array, 'd-', label='Inserting as binary blob')\n",
    "ax.plot(sizes, t_array_add, 'd-', label='Inserting as binary blob: add_result only')\n",
    "ax.legend()\n",
    "ax.set_xlabel('Array length')\n",
    "ax.set_ylabel('Time (s)')\n",
    "fig.tight_layout()"
   ]
  },
  {
   "cell_type": "markdown",
   "metadata": {},
   "source": [
    "As shown in the latter figure, the time to setup and and close the experiment is approximately 0.4 sec. In case of small array sizes, the difference between inserting values of data as arrays and inserting them row-by-row is relatively unimportant. At larger array sizes, i.e. above 10000 points, the cost of writing data as individual datapoints starts to become important.\n"
   ]
  },
  {
   "cell_type": "markdown",
   "metadata": {},
   "source": [
    "### Case2: Long experiment time "
   ]
  },
  {
   "cell_type": "code",
   "execution_count": 7,
   "metadata": {
    "execution": {
     "iopub.execute_input": "2021-02-12T07:42:47.319917Z",
     "iopub.status.busy": "2021-02-12T07:42:47.319260Z",
     "iopub.status.idle": "2021-02-12T07:43:38.088850Z",
     "shell.execute_reply": "2021-02-12T07:43:38.089345Z"
    }
   },
   "outputs": [
    {
     "name": "stdout",
     "output_type": "stream",
     "text": [
      "Starting experimental run with id: 15. \n",
      "Starting experimental run with id: 16. \n",
      "Starting experimental run with id: 17. \n"
     ]
    },
    {
     "name": "stdout",
     "output_type": "stream",
     "text": [
      "Starting experimental run with id: 18. \n",
      "Starting experimental run with id: 19. \n"
     ]
    },
    {
     "name": "stdout",
     "output_type": "stream",
     "text": [
      "Starting experimental run with id: 20. \n"
     ]
    },
    {
     "name": "stdout",
     "output_type": "stream",
     "text": [
      "Starting experimental run with id: 21. \n"
     ]
    },
    {
     "name": "stdout",
     "output_type": "stream",
     "text": [
      "Starting experimental run with id: 22. \n"
     ]
    },
    {
     "name": "stdout",
     "output_type": "stream",
     "text": [
      "Starting experimental run with id: 23. \n"
     ]
    },
    {
     "name": "stdout",
     "output_type": "stream",
     "text": [
      "Starting experimental run with id: 24. \n"
     ]
    },
    {
     "name": "stdout",
     "output_type": "stream",
     "text": [
      "Starting experimental run with id: 25. \n"
     ]
    },
    {
     "name": "stdout",
     "output_type": "stream",
     "text": [
      "Starting experimental run with id: 26. \n"
     ]
    },
    {
     "name": "stdout",
     "output_type": "stream",
     "text": [
      "Starting experimental run with id: 27. \n"
     ]
    },
    {
     "name": "stdout",
     "output_type": "stream",
     "text": [
      "Starting experimental run with id: 28. \n"
     ]
    }
   ],
   "source": [
    "sizes = [1,500,1000,2000,3000,4000,5000]\n",
    "nreps = 100\n",
    "t_numeric = []\n",
    "t_numeric_add = []\n",
    "t_numeric_run_ids = []\n",
    "t_array = []\n",
    "t_array_add = []\n",
    "t_array_run_ids = []\n",
    "for size in sizes:\n",
    "    tn, tna, run_id_n =  insert_data('numeric', size, nreps=nreps)\n",
    "    t_numeric.append(tn)\n",
    "    t_numeric_add.append(tna)\n",
    "    t_numeric_run_ids.append(run_id_n)\n",
    "\n",
    "    ta, taa, run_id_a =  insert_data('array', size, nreps=nreps)\n",
    "    t_array.append(ta)\n",
    "    t_array_add.append(taa)\n",
    "    t_array_run_ids.append(run_id_a)"
   ]
  },
  {
   "cell_type": "code",
   "execution_count": 8,
   "metadata": {
    "execution": {
     "iopub.execute_input": "2021-02-12T07:43:38.123385Z",
     "iopub.status.busy": "2021-02-12T07:43:38.115954Z",
     "iopub.status.idle": "2021-02-12T07:43:38.253339Z",
     "shell.execute_reply": "2021-02-12T07:43:38.253848Z"
    },
    "scrolled": true
   },
   "outputs": [
    {
     "data": {
      "image/png": "[encoded data removed]",
      "text/plain": [
       "<Figure size 432x288 with 1 Axes>"
      ]
     },
     "metadata": {
      "needs_background": "light"
     },
     "output_type": "display_data"
    }
   ],
   "source": [
    "fig, ax = plt.subplots(1,1)\n",
    "ax.plot(sizes, t_numeric, 'o-', label='Inserting row-by-row')\n",
    "ax.plot(sizes, t_numeric_add, 'o-', label='Inserting row-by-row: add_result only')\n",
    "ax.plot(sizes, t_array, 'd-', label='Inserting as binary blob')\n",
    "ax.plot(sizes, t_array_add, 'd-', label='Inserting as binary blob: add_result only')\n",
    "ax.legend()\n",
    "ax.set_xlabel('Array length')\n",
    "ax.set_ylabel('Time (s)')\n",
    "fig.tight_layout()"
   ]
  },
  {
   "cell_type": "markdown",
   "metadata": {},
   "source": [
    "However, as we increase the length of the experiment, as seen here by repeating the insertion 100 times, we see a big difference between inserting values of the data row-by-row and inserting it as a binary blob."
   ]
  },
  {
   "cell_type": "markdown",
   "metadata": {},
   "source": [
    "## Loading the data "
   ]
  },
  {
   "cell_type": "code",
   "execution_count": 9,
   "metadata": {
    "execution": {
     "iopub.execute_input": "2021-02-12T07:43:38.256148Z",
     "iopub.status.busy": "2021-02-12T07:43:38.255708Z",
     "iopub.status.idle": "2021-02-12T07:43:38.258561Z",
     "shell.execute_reply": "2021-02-12T07:43:38.258998Z"
    }
   },
   "outputs": [],
   "source": [
    "from qcodes.dataset.data_set import load_by_id\n",
    "from qcodes.dataset.data_export import get_data_by_id"
   ]
  },
  {
   "cell_type": "markdown",
   "metadata": {},
   "source": [
    "As usual you can load the data by using the ``load_by_id`` function but you will notice that the different storage methods\n",
    "are reflected in shape of the data as it is retrieved. "
   ]
  },
  {
   "cell_type": "code",
   "execution_count": 10,
   "metadata": {
    "execution": {
     "iopub.execute_input": "2021-02-12T07:43:38.262101Z",
     "iopub.status.busy": "2021-02-12T07:43:38.261438Z",
     "iopub.status.idle": "2021-02-12T07:43:38.262718Z",
     "shell.execute_reply": "2021-02-12T07:43:38.263148Z"
    }
   },
   "outputs": [],
   "source": [
    "run_id_n = t_numeric_run_ids[0]\n",
    "run_id_a = t_array_run_ids[0]"
   ]
  },
  {
   "cell_type": "code",
   "execution_count": 11,
   "metadata": {
    "execution": {
     "iopub.execute_input": "2021-02-12T07:43:38.265909Z",
     "iopub.status.busy": "2021-02-12T07:43:38.265463Z",
     "iopub.status.idle": "2021-02-12T07:43:38.272333Z",
     "shell.execute_reply": "2021-02-12T07:43:38.272825Z"
    },
    "scrolled": true
   },
   "outputs": [
    {
     "data": {
      "text/plain": [
       "{'x1': {'x1': array([0.49715816, 0.49715816, 0.05471276, 0.05471276, 0.02881212,\n",
       "         0.02881212, 0.92908677, 0.92908677, 0.35155529, 0.35155529,\n",
       "         0.20017788, 0.20017788, 0.39463047, 0.39463047, 0.53099592,\n",
       "         0.53099592, 0.6513469 , 0.6513469 , 0.98204755, 0.98204755,\n",
       "         0.90421141, 0.90421141, 0.09248078, 0.09248078, 0.04980391,\n",
       "         0.04980391, 0.48210113, 0.48210113, 0.11918911, 0.11918911,\n",
       "         0.90338437, 0.90338437, 0.13895993, 0.13895993, 0.32860107,\n",
       "         0.32860107, 0.32816611, 0.32816611, 0.62959865, 0.62959865,\n",
       "         0.22065995, 0.22065995, 0.02236817, 0.02236817, 0.48272593,\n",
       "         0.48272593, 0.45286681, 0.45286681, 0.89016625, 0.89016625,\n",
       "         0.33160272, 0.33160272, 0.57500003, 0.57500003, 0.42189343,\n",
       "         0.42189343, 0.98597506, 0.98597506, 0.4902466 , 0.4902466 ,\n",
       "         0.04816472, 0.04816472, 0.35209539, 0.35209539, 0.84548795,\n",
       "         0.84548795, 0.41724973, 0.41724973, 0.78225128, 0.78225128,\n",
       "         0.55105192, 0.55105192, 0.68419892, 0.68419892, 0.27917288,\n",
       "         0.27917288, 0.38672433, 0.38672433, 0.69999311, 0.69999311,\n",
       "         0.98262369, 0.98262369, 0.76985724, 0.76985724, 0.55225446,\n",
       "         0.55225446, 0.56974397, 0.56974397, 0.74715563, 0.74715563,\n",
       "         0.4151774 , 0.4151774 , 0.76883571, 0.76883571, 0.74016213,\n",
       "         0.74016213, 0.88180673, 0.88180673, 0.03465361, 0.03465361,\n",
       "         0.00588166, 0.00588166, 0.90986991, 0.90986991, 0.75395981,\n",
       "         0.75395981, 0.43559164, 0.43559164, 0.48764809, 0.48764809,\n",
       "         0.85438984, 0.85438984, 0.85545725, 0.85545725, 0.53964582,\n",
       "         0.53964582, 0.62777706, 0.62777706, 0.11176127, 0.11176127,\n",
       "         0.77931518, 0.77931518, 0.98502814, 0.98502814, 0.03026507,\n",
       "         0.03026507, 0.64942936, 0.64942936, 0.41455729, 0.41455729,\n",
       "         0.55743298, 0.55743298, 0.54798426, 0.54798426, 0.34304611,\n",
       "         0.34304611, 0.0764833 , 0.0764833 , 0.08756969, 0.08756969,\n",
       "         0.58032018, 0.58032018, 0.16269409, 0.16269409, 0.65199216,\n",
       "         0.65199216, 0.87856972, 0.87856972, 0.20728847, 0.20728847,\n",
       "         0.40030479, 0.40030479, 0.39901484, 0.39901484, 0.9027213 ,\n",
       "         0.9027213 , 0.8933817 , 0.8933817 , 0.50057675, 0.50057675,\n",
       "         0.81469738, 0.81469738, 0.70522946, 0.70522946, 0.02397478,\n",
       "         0.02397478, 0.59948342, 0.59948342, 0.69509392, 0.69509392,\n",
       "         0.01418557, 0.01418557, 0.02047705, 0.02047705, 0.62943318,\n",
       "         0.62943318, 0.86548528, 0.86548528, 0.93756813, 0.93756813,\n",
       "         0.27698664, 0.27698664, 0.3988665 , 0.3988665 , 0.16996912,\n",
       "         0.16996912, 0.5931924 , 0.5931924 , 0.14971478, 0.14971478,\n",
       "         0.19906688, 0.19906688, 0.25906438, 0.25906438, 0.01101607,\n",
       "         0.01101607, 0.71486037, 0.71486037, 0.7614377 , 0.7614377 ])}}"
      ]
     },
     "execution_count": 1,
     "metadata": {},
     "output_type": "execute_result"
    }
   ],
   "source": [
    "ds = load_by_id(run_id_n)\n",
    "ds.get_parameter_data('x1')"
   ]
  },
  {
   "cell_type": "markdown",
   "metadata": {},
   "source": [
    "And a dataset stored as binary arrays"
   ]
  },
  {
   "cell_type": "code",
   "execution_count": 12,
   "metadata": {
    "execution": {
     "iopub.execute_input": "2021-02-12T07:43:38.274728Z",
     "iopub.status.busy": "2021-02-12T07:43:38.274307Z",
     "iopub.status.idle": "2021-02-12T07:43:38.324180Z",
     "shell.execute_reply": "2021-02-12T07:43:38.323431Z"
    },
    "scrolled": true
   },
   "outputs": [
    {
     "data": {
      "text/plain": [
       "{'x1': {'x1': array([[0.96914547],\n",
       "         [0.96914547],\n",
       "         [0.8418668 ],\n",
       "         [0.8418668 ],\n",
       "         [0.25868835],\n",
       "         [0.25868835],\n",
       "         [0.18966164],\n",
       "         [0.18966164],\n",
       "         [0.4227401 ],\n",
       "         [0.4227401 ],\n",
       "         [0.76079647],\n",
       "         [0.76079647],\n",
       "         [0.62893438],\n",
       "         [0.62893438],\n",
       "         [0.19198013],\n",
       "         [0.19198013],\n",
       "         [0.50365983],\n",
       "         [0.50365983],\n",
       "         [0.06534714],\n",
       "         [0.06534714],\n",
       "         [0.21008407],\n",
       "         [0.21008407],\n",
       "         [0.55394173],\n",
       "         [0.55394173],\n",
       "         [0.44416395],\n",
       "         [0.44416395],\n",
       "         [0.80123786],\n",
       "         [0.80123786],\n",
       "         [0.70556843],\n",
       "         [0.70556843],\n",
       "         [0.64456179],\n",
       "         [0.64456179],\n",
       "         [0.21002518],\n",
       "         [0.21002518],\n",
       "         [0.92892234],\n",
       "         [0.92892234],\n",
       "         [0.42745209],\n",
       "         [0.42745209],\n",
       "         [0.83628303],\n",
       "         [0.83628303],\n",
       "         [0.2841152 ],\n",
       "         [0.2841152 ],\n",
       "         [0.88327904],\n",
       "         [0.88327904],\n",
       "         [0.30470227],\n",
       "         [0.30470227],\n",
       "         [0.92195179],\n",
       "         [0.92195179],\n",
       "         [0.39306396],\n",
       "         [0.39306396],\n",
       "         [0.74562953],\n",
       "         [0.74562953],\n",
       "         [0.06311747],\n",
       "         [0.06311747],\n",
       "         [0.99700967],\n",
       "         [0.99700967],\n",
       "         [0.75686413],\n",
       "         [0.75686413],\n",
       "         [0.51210441],\n",
       "         [0.51210441],\n",
       "         [0.72554191],\n",
       "         [0.72554191],\n",
       "         [0.20221651],\n",
       "         [0.20221651],\n",
       "         [0.21324997],\n",
       "         [0.21324997],\n",
       "         [0.52307425],\n",
       "         [0.52307425],\n",
       "         [0.90208612],\n",
       "         [0.90208612],\n",
       "         [0.78911382],\n",
       "         [0.78911382],\n",
       "         [0.02197439],\n",
       "         [0.02197439],\n",
       "         [0.33004005],\n",
       "         [0.33004005],\n",
       "         [0.67743125],\n",
       "         [0.67743125],\n",
       "         [0.7896555 ],\n",
       "         [0.7896555 ],\n",
       "         [0.11266067],\n",
       "         [0.11266067],\n",
       "         [0.44117545],\n",
       "         [0.44117545],\n",
       "         [0.7987956 ],\n",
       "         [0.7987956 ],\n",
       "         [0.21903982],\n",
       "         [0.21903982],\n",
       "         [0.73671851],\n",
       "         [0.73671851],\n",
       "         [0.50325598],\n",
       "         [0.50325598],\n",
       "         [0.89839988],\n",
       "         [0.89839988],\n",
       "         [0.6402255 ],\n",
       "         [0.6402255 ],\n",
       "         [0.78814615],\n",
       "         [0.78814615],\n",
       "         [0.82487956],\n",
       "         [0.82487956],\n",
       "         [0.28560257],\n",
       "         [0.28560257],\n",
       "         [0.79173618],\n",
       "         [0.79173618],\n",
       "         [0.09248719],\n",
       "         [0.09248719],\n",
       "         [0.8170222 ],\n",
       "         [0.8170222 ],\n",
       "         [0.17898601],\n",
       "         [0.17898601],\n",
       "         [0.97582851],\n",
       "         [0.97582851],\n",
       "         [0.84278398],\n",
       "         [0.84278398],\n",
       "         [0.92217453],\n",
       "         [0.92217453],\n",
       "         [0.01611065],\n",
       "         [0.01611065],\n",
       "         [0.25850298],\n",
       "         [0.25850298],\n",
       "         [0.66479591],\n",
       "         [0.66479591],\n",
       "         [0.21612002],\n",
       "         [0.21612002],\n",
       "         [0.97008225],\n",
       "         [0.97008225],\n",
       "         [0.21186717],\n",
       "         [0.21186717],\n",
       "         [0.30646415],\n",
       "         [0.30646415],\n",
       "         [0.01957192],\n",
       "         [0.01957192],\n",
       "         [0.58840192],\n",
       "         [0.58840192],\n",
       "         [0.25227828],\n",
       "         [0.25227828],\n",
       "         [0.37666924],\n",
       "         [0.37666924],\n",
       "         [0.16545121],\n",
       "         [0.16545121],\n",
       "         [0.27881816],\n",
       "         [0.27881816],\n",
       "         [0.17938826],\n",
       "         [0.17938826],\n",
       "         [0.28099451],\n",
       "         [0.28099451],\n",
       "         [0.03725205],\n",
       "         [0.03725205],\n",
       "         [0.50644783],\n",
       "         [0.50644783],\n",
       "         [0.61924067],\n",
       "         [0.61924067],\n",
       "         [0.62518919],\n",
       "         [0.62518919],\n",
       "         [0.12221827],\n",
       "         [0.12221827],\n",
       "         [0.32538965],\n",
       "         [0.32538965],\n",
       "         [0.28665225],\n",
       "         [0.28665225],\n",
       "         [0.19758607],\n",
       "         [0.19758607],\n",
       "         [0.35204628],\n",
       "         [0.35204628],\n",
       "         [0.17228151],\n",
       "         [0.17228151],\n",
       "         [0.76412613],\n",
       "         [0.76412613],\n",
       "         [0.17902568],\n",
       "         [0.17902568],\n",
       "         [0.35910752],\n",
       "         [0.35910752],\n",
       "         [0.63222838],\n",
       "         [0.63222838],\n",
       "         [0.26941019],\n",
       "         [0.26941019],\n",
       "         [0.44974851],\n",
       "         [0.44974851],\n",
       "         [0.12331081],\n",
       "         [0.12331081],\n",
       "         [0.86984696],\n",
       "         [0.86984696],\n",
       "         [0.34803022],\n",
       "         [0.34803022],\n",
       "         [0.855036  ],\n",
       "         [0.855036  ],\n",
       "         [0.04021117],\n",
       "         [0.04021117],\n",
       "         [0.05271307],\n",
       "         [0.05271307],\n",
       "         [0.73601423],\n",
       "         [0.73601423],\n",
       "         [0.185468  ],\n",
       "         [0.185468  ],\n",
       "         [0.54856199],\n",
       "         [0.54856199],\n",
       "         [0.30466422],\n",
       "         [0.30466422],\n",
       "         [0.05610431],\n",
       "         [0.05610431]])}}"
      ]
     },
     "execution_count": 1,
     "metadata": {},
     "output_type": "execute_result"
    }
   ],
   "source": [
    "ds = load_by_id(run_id_a)\n",
    "ds.get_parameter_data('x1')"
   ]
  },
  {
   "cell_type": "code",
   "execution_count": null,
   "metadata": {},
   "outputs": [],
   "source": []
  }
 ],
 "metadata": {
  "kernelspec": {
   "display_name": "Python 3",
   "language": "python",
   "name": "python3"
  },
  "language_info": {
   "codemirror_mode": {
    "name": "ipython",
    "version": 3
   },
   "file_extension": ".py",
   "mimetype": "text/x-python",
   "name": "python",
   "nbconvert_exporter": "python",
   "pygments_lexer": "ipython3",
   "version": "3.7.9"
  },
  "nbsphinx": {
   "timeout": 600
  },
  "toc": {
   "base_numbering": 1,
   "nav_menu": {},
   "number_sections": true,
   "sideBar": true,
   "skip_h1_title": false,
   "title_cell": "Table of Contents",
   "title_sidebar": "Contents",
   "toc_cell": false,
   "toc_position": {},
   "toc_section_display": true,
   "toc_window_display": false
  },
  "varInspector": {
   "cols": {
    "lenName": 16,
    "lenType": 16,
    "lenVar": 40
   },
   "kernels_config": {
    "python": {
     "delete_cmd_postfix": "",
     "delete_cmd_prefix": "del ",
     "library": "var_list.py",
     "varRefreshCmd": "print(var_dic_list())"
    },
    "r": {
     "delete_cmd_postfix": ") ",
     "delete_cmd_prefix": "rm(",
     "library": "var_list.r",
     "varRefreshCmd": "cat(var_dic_list()) "
    }
   },
   "types_to_exclude": [
    "module",
    "function",
    "builtin_function_or_method",
    "instance",
    "_Feature"
   ],
   "window_display": false
  }
 },
 "nbformat": 4,
 "nbformat_minor": 2
}
