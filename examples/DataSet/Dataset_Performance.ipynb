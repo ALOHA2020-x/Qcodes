{
 "cells": [
  {
   "cell_type": "markdown",
   "metadata": {},
   "source": [
    "# DataSet Performance\n",
    "\n",
    "This notebook shows the trade-off between inserting data into a database row-by-row and as binary blobs. Inserting the data row-by-row means that we have direct access to all the data and may perform queries directly on the values of the data. On the other hand, as we shall see, this is much slower than inserting the data directly as binary blobs."
   ]
  },
  {
   "cell_type": "markdown",
   "metadata": {},
   "source": [
    "First, we choose a new location for the database to ensure that we don't add a bunch of benchmarking data to the default one."
   ]
  },
  {
   "cell_type": "code",
   "execution_count": 1,
   "metadata": {},
   "outputs": [
    {
     "name": "stdout",
     "output_type": "stream",
     "text": [
      "Logging hadn't been started.\n",
      "Activating auto-logging. Current session state plus future input saved.\n",
      "Filename       : /home/vsts/.qcodes/logs/command_history.log\n",
      "Mode           : append\n",
      "Output logging : True\n",
      "Raw input log  : False\n",
      "Timestamping   : True\n",
      "State          : active\n"
     ]
    },
    {
     "name": "stdout",
     "output_type": "stream",
     "text": [
      "Qcodes Logfile : /home/vsts/.qcodes/logs/200622-19063-qcodes.log\n"
     ]
    }
   ],
   "source": [
    "import os\n",
    "cwd = os.getcwd()\n",
    "import qcodes as qc\n",
    "qc.config[\"core\"][\"db_location\"] = os.path.join(cwd, 'testing.db')\n"
   ]
  },
  {
   "cell_type": "code",
   "execution_count": 2,
   "metadata": {},
   "outputs": [],
   "source": [
    "%matplotlib inline\n",
    "import time\n",
    "import matplotlib.pyplot as plt\n",
    "import numpy as np\n",
    "\n",
    "import qcodes as qc\n",
    "from qcodes.instrument.parameter import ManualParameter\n",
    "from qcodes.dataset.experiment_container import (Experiment,\n",
    "                                                 load_last_experiment,\n",
    "                                                 new_experiment)\n",
    "from qcodes.dataset.sqlite.database import initialise_database\n",
    "from qcodes import load_or_create_experiment\n",
    "from qcodes.dataset.measurements import Measurement"
   ]
  },
  {
   "cell_type": "code",
   "execution_count": 3,
   "metadata": {},
   "outputs": [
    {
     "name": "stdout",
     "output_type": "stream",
     "text": [
      "\r",
      "0it [00:00, ?it/s]"
     ]
    },
    {
     "name": "stdout",
     "output_type": "stream",
     "text": [
      "\r",
      "Upgrading database; v0 -> v1: : 0it [00:00, ?it/s]"
     ]
    },
    {
     "name": "stdout",
     "output_type": "stream",
     "text": [
      "\r",
      "Upgrading database; v0 -> v1: : 0it [00:00, ?it/s]"
     ]
    },
    {
     "name": "stdout",
     "output_type": "stream",
     "text": [
      "\n",
      "\r",
      "  0%|          | 0/1 [00:00<?, ?it/s]"
     ]
    },
    {
     "name": "stdout",
     "output_type": "stream",
     "text": [
      "\r",
      "Upgrading database; v1 -> v2:   0%|          | 0/1 [00:00<?, ?it/s]"
     ]
    },
    {
     "name": "stdout",
     "output_type": "stream",
     "text": [
      "\r",
      "Upgrading database; v1 -> v2: 100%|██████████| 1/1 [00:00<00:00, 928.56it/s]"
     ]
    },
    {
     "name": "stdout",
     "output_type": "stream",
     "text": [
      "\n",
      "\r",
      "0it [00:00, ?it/s]"
     ]
    },
    {
     "name": "stdout",
     "output_type": "stream",
     "text": [
      "\r",
      "Upgrading database; v2 -> v3: : 0it [00:00, ?it/s]"
     ]
    },
    {
     "name": "stdout",
     "output_type": "stream",
     "text": [
      "\r",
      "Upgrading database; v2 -> v3: : 0it [00:00, ?it/s]"
     ]
    },
    {
     "name": "stdout",
     "output_type": "stream",
     "text": [
      "\n",
      "\r",
      "0it [00:00, ?it/s]"
     ]
    },
    {
     "name": "stdout",
     "output_type": "stream",
     "text": [
      "\r",
      "Upgrading database; v3 -> v4: : 0it [00:00, ?it/s]"
     ]
    },
    {
     "name": "stdout",
     "output_type": "stream",
     "text": [
      "\r",
      "Upgrading database; v3 -> v4: : 0it [00:00, ?it/s]"
     ]
    },
    {
     "name": "stdout",
     "output_type": "stream",
     "text": [
      "\n",
      "\r",
      "  0%|          | 0/1 [00:00<?, ?it/s]"
     ]
    },
    {
     "name": "stdout",
     "output_type": "stream",
     "text": [
      "\r",
      "Upgrading database; v4 -> v5:   0%|          | 0/1 [00:00<?, ?it/s]"
     ]
    },
    {
     "name": "stdout",
     "output_type": "stream",
     "text": [
      "\r",
      "Upgrading database; v4 -> v5: 100%|██████████| 1/1 [00:00<00:00, 839.03it/s]"
     ]
    },
    {
     "name": "stdout",
     "output_type": "stream",
     "text": [
      "\n",
      "\r",
      "0it [00:00, ?it/s]"
     ]
    },
    {
     "name": "stdout",
     "output_type": "stream",
     "text": [
      "\r",
      "Upgrading database; v5 -> v6: : 0it [00:00, ?it/s]"
     ]
    },
    {
     "name": "stdout",
     "output_type": "stream",
     "text": [
      "\r",
      "Upgrading database; v5 -> v6: : 0it [00:00, ?it/s]"
     ]
    },
    {
     "name": "stdout",
     "output_type": "stream",
     "text": [
      "\n",
      "\r",
      "  0%|          | 0/1 [00:00<?, ?it/s]"
     ]
    },
    {
     "name": "stdout",
     "output_type": "stream",
     "text": [
      "\r",
      "Upgrading database; v6 -> v7:   0%|          | 0/1 [00:00<?, ?it/s]"
     ]
    },
    {
     "name": "stdout",
     "output_type": "stream",
     "text": [
      "\r",
      "Upgrading database; v6 -> v7: 100%|██████████| 1/1 [00:00<00:00, 454.72it/s]"
     ]
    },
    {
     "name": "stdout",
     "output_type": "stream",
     "text": [
      "\n",
      "\r",
      "  0%|          | 0/1 [00:00<?, ?it/s]"
     ]
    },
    {
     "name": "stdout",
     "output_type": "stream",
     "text": [
      "\r",
      "Upgrading database; v7 -> v8:   0%|          | 0/1 [00:00<?, ?it/s]"
     ]
    },
    {
     "name": "stdout",
     "output_type": "stream",
     "text": [
      "\r",
      "Upgrading database; v7 -> v8: 100%|██████████| 1/1 [00:00<00:00, 917.59it/s]"
     ]
    },
    {
     "name": "stdout",
     "output_type": "stream",
     "text": [
      "\n",
      "\r",
      "  0%|          | 0/1 [00:00<?, ?it/s]"
     ]
    },
    {
     "name": "stdout",
     "output_type": "stream",
     "text": [
      "\r",
      "Upgrading database; v8 -> v9:   0%|          | 0/1 [00:00<?, ?it/s]"
     ]
    },
    {
     "name": "stdout",
     "output_type": "stream",
     "text": [
      "\r",
      "Upgrading database; v8 -> v9: 100%|██████████| 1/1 [00:00<00:00, 1038.45it/s]"
     ]
    },
    {
     "name": "stdout",
     "output_type": "stream",
     "text": [
      "\n"
     ]
    }
   ],
   "source": [
    "initialise_database()\n",
    "exp = load_or_create_experiment(experiment_name='tutorial_exp', sample_name=\"no sample\")"
   ]
  },
  {
   "cell_type": "markdown",
   "metadata": {},
   "source": [
    "Here, we define a simple function to benchmark the time it takes to insert n points with either numeric or array data type.\n",
    "We will compare both the time used to call ``add_result`` and the time used for the full measurement."
   ]
  },
  {
   "cell_type": "code",
   "execution_count": 4,
   "metadata": {},
   "outputs": [],
   "source": [
    "def insert_data(paramtype, npoints, nreps=1):\n",
    "\n",
    "    meas = Measurement(exp=exp)\n",
    "\n",
    "    x1 = ManualParameter('x1')\n",
    "    x2 = ManualParameter('x2')\n",
    "    x3 = ManualParameter('x3')\n",
    "    y1 = ManualParameter('y1')\n",
    "    y2 = ManualParameter('y2')\n",
    "\n",
    "    meas.register_parameter(x1, paramtype=paramtype)\n",
    "    meas.register_parameter(x2, paramtype=paramtype)\n",
    "    meas.register_parameter(x3, paramtype=paramtype)\n",
    "    meas.register_parameter(y1, setpoints=[x1, x2, x3],\n",
    "                            paramtype=paramtype)\n",
    "    meas.register_parameter(y2, setpoints=[x1, x2, x3],\n",
    "                            paramtype=paramtype)\n",
    "    start = time.perf_counter()\n",
    "    with meas.run() as datasaver:\n",
    "        start_adding = time.perf_counter()\n",
    "        for i in range(nreps):\n",
    "            datasaver.add_result((x1, np.random.rand(npoints)),\n",
    "                                 (x2, np.random.rand(npoints)),\n",
    "                                 (x3, np.random.rand(npoints)),\n",
    "                                 (y1, np.random.rand(npoints)),\n",
    "                                 (y2, np.random.rand(npoints)))\n",
    "        stop_adding = time.perf_counter()\n",
    "        run_id = datasaver.run_id\n",
    "    stop = time.perf_counter()\n",
    "    tot_time = stop - start\n",
    "    add_time = stop_adding - start_adding\n",
    "    return tot_time, add_time, run_id"
   ]
  },
  {
   "cell_type": "markdown",
   "metadata": {},
   "source": [
    "## Comparison between numeric/array data and binary blob"
   ]
  },
  {
   "cell_type": "markdown",
   "metadata": {},
   "source": [
    "### Case1: Short experiment time"
   ]
  },
  {
   "cell_type": "code",
   "execution_count": 5,
   "metadata": {},
   "outputs": [
    {
     "name": "stdout",
     "output_type": "stream",
     "text": [
      "Starting experimental run with id: 1. \n",
      "Starting experimental run with id: 2. \n",
      "Starting experimental run with id: 3. \n",
      "Starting experimental run with id: 4. \n",
      "Starting experimental run with id: 5. \n"
     ]
    },
    {
     "name": "stdout",
     "output_type": "stream",
     "text": [
      "Starting experimental run with id: 6. \n"
     ]
    },
    {
     "name": "stdout",
     "output_type": "stream",
     "text": [
      "Starting experimental run with id: 7. \n"
     ]
    },
    {
     "name": "stdout",
     "output_type": "stream",
     "text": [
      "Starting experimental run with id: 8. \n",
      "Starting experimental run with id: 9. \n"
     ]
    },
    {
     "name": "stdout",
     "output_type": "stream",
     "text": [
      "Starting experimental run with id: 10. \n",
      "Starting experimental run with id: 11. \n"
     ]
    },
    {
     "name": "stdout",
     "output_type": "stream",
     "text": [
      "Starting experimental run with id: 12. \n",
      "Starting experimental run with id: 13. \n"
     ]
    },
    {
     "name": "stdout",
     "output_type": "stream",
     "text": [
      "Starting experimental run with id: 14. \n"
     ]
    }
   ],
   "source": [
    "sizes = [1,500,1000,2000,3000,4000,5000]\n",
    "t_numeric = []\n",
    "t_numeric_add = []\n",
    "t_array = []\n",
    "t_array_add = []\n",
    "for size in sizes:\n",
    "    tn, tna, run_id_n =  insert_data('numeric', size)\n",
    "    t_numeric.append(tn)\n",
    "    t_numeric_add.append(tna)\n",
    "\n",
    "    ta, taa, run_id_a =  insert_data('array', size)\n",
    "    t_array.append(ta)\n",
    "    t_array_add.append(taa)"
   ]
  },
  {
   "cell_type": "code",
   "execution_count": 6,
   "metadata": {},
   "outputs": [
    {
     "data": {
      "image/png": "[encoded data removed]",
      "text/plain": [
       "<Figure size 432x288 with 1 Axes>"
      ]
     },
     "metadata": {
      "needs_background": "light"
     },
     "output_type": "display_data"
    }
   ],
   "source": [
    "fig, ax = plt.subplots(1,1)\n",
    "ax.plot(sizes, t_numeric, 'o-', label='Inserting row-by-row')\n",
    "ax.plot(sizes, t_numeric_add, 'o-', label='Inserting row-by-row: add_result only')\n",
    "ax.plot(sizes, t_array, 'd-', label='Inserting as binary blob')\n",
    "ax.plot(sizes, t_array_add, 'd-', label='Inserting as binary blob: add_result only')\n",
    "ax.legend()\n",
    "ax.set_xlabel('Array length')\n",
    "ax.set_ylabel('Time (s)')\n",
    "fig.tight_layout()"
   ]
  },
  {
   "cell_type": "markdown",
   "metadata": {},
   "source": [
    "As shown in the latter figure, the time to setup and and close the experiment is approximately 0.4 sec. In case of small array sizes, the difference between inserting values of data as arrays and inserting them row-by-row is relatively unimportant. At larger array sizes, i.e. above 10000 points, the cost of writing data as individual datapoints starts to become important.\n"
   ]
  },
  {
   "cell_type": "markdown",
   "metadata": {},
   "source": [
    "### Case2: Long experiment time "
   ]
  },
  {
   "cell_type": "code",
   "execution_count": 7,
   "metadata": {},
   "outputs": [
    {
     "name": "stdout",
     "output_type": "stream",
     "text": [
      "Starting experimental run with id: 15. \n",
      "Starting experimental run with id: 16. \n",
      "Starting experimental run with id: 17. \n"
     ]
    },
    {
     "name": "stdout",
     "output_type": "stream",
     "text": [
      "Starting experimental run with id: 18. \n",
      "Starting experimental run with id: 19. \n"
     ]
    },
    {
     "name": "stdout",
     "output_type": "stream",
     "text": [
      "Starting experimental run with id: 20. \n"
     ]
    },
    {
     "name": "stdout",
     "output_type": "stream",
     "text": [
      "Starting experimental run with id: 21. \n"
     ]
    },
    {
     "name": "stdout",
     "output_type": "stream",
     "text": [
      "Starting experimental run with id: 22. \n"
     ]
    },
    {
     "name": "stdout",
     "output_type": "stream",
     "text": [
      "Starting experimental run with id: 23. \n"
     ]
    },
    {
     "name": "stdout",
     "output_type": "stream",
     "text": [
      "Starting experimental run with id: 24. \n"
     ]
    },
    {
     "name": "stdout",
     "output_type": "stream",
     "text": [
      "Starting experimental run with id: 25. \n"
     ]
    },
    {
     "name": "stdout",
     "output_type": "stream",
     "text": [
      "Starting experimental run with id: 26. \n"
     ]
    },
    {
     "name": "stdout",
     "output_type": "stream",
     "text": [
      "Starting experimental run with id: 27. \n"
     ]
    },
    {
     "name": "stdout",
     "output_type": "stream",
     "text": [
      "Starting experimental run with id: 28. \n"
     ]
    }
   ],
   "source": [
    "sizes = [1,500,1000,2000,3000,4000,5000]\n",
    "nreps = 100\n",
    "t_numeric = []\n",
    "t_numeric_add = []\n",
    "t_numeric_run_ids = []\n",
    "t_array = []\n",
    "t_array_add = []\n",
    "t_array_run_ids = []\n",
    "for size in sizes:\n",
    "    tn, tna, run_id_n =  insert_data('numeric', size, nreps=nreps)\n",
    "    t_numeric.append(tn)\n",
    "    t_numeric_add.append(tna)\n",
    "    t_numeric_run_ids.append(run_id_n)\n",
    "\n",
    "    ta, taa, run_id_a =  insert_data('array', size, nreps=nreps)\n",
    "    t_array.append(ta)\n",
    "    t_array_add.append(taa)\n",
    "    t_array_run_ids.append(run_id_a)"
   ]
  },
  {
   "cell_type": "code",
   "execution_count": 8,
   "metadata": {
    "scrolled": true
   },
   "outputs": [
    {
     "data": {
      "image/png": "[encoded data removed]",
      "text/plain": [
       "<Figure size 432x288 with 1 Axes>"
      ]
     },
     "metadata": {
      "needs_background": "light"
     },
     "output_type": "display_data"
    }
   ],
   "source": [
    "fig, ax = plt.subplots(1,1)\n",
    "ax.plot(sizes, t_numeric, 'o-', label='Inserting row-by-row')\n",
    "ax.plot(sizes, t_numeric_add, 'o-', label='Inserting row-by-row: add_result only')\n",
    "ax.plot(sizes, t_array, 'd-', label='Inserting as binary blob')\n",
    "ax.plot(sizes, t_array_add, 'd-', label='Inserting as binary blob: add_result only')\n",
    "ax.legend()\n",
    "ax.set_xlabel('Array length')\n",
    "ax.set_ylabel('Time (s)')\n",
    "fig.tight_layout()"
   ]
  },
  {
   "cell_type": "markdown",
   "metadata": {},
   "source": [
    "However, as we increase the length of the experiment, as seen here by repeating the insertion 100 times, we see a big difference between inserting values of the data row-by-row and inserting it as a binary blob."
   ]
  },
  {
   "cell_type": "markdown",
   "metadata": {},
   "source": [
    "## Loading the data "
   ]
  },
  {
   "cell_type": "code",
   "execution_count": 9,
   "metadata": {},
   "outputs": [],
   "source": [
    "from qcodes.dataset.data_set import load_by_id\n",
    "from qcodes.dataset.data_export import get_data_by_id"
   ]
  },
  {
   "cell_type": "markdown",
   "metadata": {},
   "source": [
    "As usual you can load the data by using the ``load_by_id`` function but you will notice that the different storage methods\n",
    "are reflected in shape of the data as it is retrieved. "
   ]
  },
  {
   "cell_type": "code",
   "execution_count": 10,
   "metadata": {},
   "outputs": [],
   "source": [
    "run_id_n = t_numeric_run_ids[0]\n",
    "run_id_a = t_array_run_ids[0]"
   ]
  },
  {
   "cell_type": "code",
   "execution_count": 11,
   "metadata": {
    "scrolled": true
   },
   "outputs": [
    {
     "data": {
      "text/plain": [
       "{'x1': {'x1': array([0.90432662, 0.90432662, 0.59324246, 0.59324246, 0.50917258,\n",
       "         0.50917258, 0.66300363, 0.66300363, 0.04357064, 0.04357064,\n",
       "         0.47577673, 0.47577673, 0.13987713, 0.13987713, 0.40646452,\n",
       "         0.40646452, 0.995843  , 0.995843  , 0.2963026 , 0.2963026 ,\n",
       "         0.56874236, 0.56874236, 0.16575887, 0.16575887, 0.28988459,\n",
       "         0.28988459, 0.75957243, 0.75957243, 0.11903959, 0.11903959,\n",
       "         0.04997727, 0.04997727, 0.54688612, 0.54688612, 0.4208396 ,\n",
       "         0.4208396 , 0.34095409, 0.34095409, 0.37029752, 0.37029752,\n",
       "         0.72572385, 0.72572385, 0.8279332 , 0.8279332 , 0.11498611,\n",
       "         0.11498611, 0.76350589, 0.76350589, 0.39556574, 0.39556574,\n",
       "         0.78533326, 0.78533326, 0.55339436, 0.55339436, 0.62157792,\n",
       "         0.62157792, 0.71173362, 0.71173362, 0.63642963, 0.63642963,\n",
       "         0.61780366, 0.61780366, 0.04926206, 0.04926206, 0.77475135,\n",
       "         0.77475135, 0.67503494, 0.67503494, 0.5435487 , 0.5435487 ,\n",
       "         0.26497715, 0.26497715, 0.66707156, 0.66707156, 0.67537356,\n",
       "         0.67537356, 0.30661242, 0.30661242, 0.32502889, 0.32502889,\n",
       "         0.36852692, 0.36852692, 0.09341837, 0.09341837, 0.06696822,\n",
       "         0.06696822, 0.15862847, 0.15862847, 0.17541549, 0.17541549,\n",
       "         0.11244114, 0.11244114, 0.40148559, 0.40148559, 0.99158499,\n",
       "         0.99158499, 0.83284738, 0.83284738, 0.08164099, 0.08164099,\n",
       "         0.73610062, 0.73610062, 0.29999101, 0.29999101, 0.79985936,\n",
       "         0.79985936, 0.60924005, 0.60924005, 0.87310396, 0.87310396,\n",
       "         0.32783495, 0.32783495, 0.25609013, 0.25609013, 0.08995567,\n",
       "         0.08995567, 0.28266839, 0.28266839, 0.24911474, 0.24911474,\n",
       "         0.74799467, 0.74799467, 0.16870383, 0.16870383, 0.43504649,\n",
       "         0.43504649, 0.24058629, 0.24058629, 0.82925262, 0.82925262,\n",
       "         0.33618773, 0.33618773, 0.39670533, 0.39670533, 0.18398425,\n",
       "         0.18398425, 0.23830994, 0.23830994, 0.33953565, 0.33953565,\n",
       "         0.74072214, 0.74072214, 0.58038128, 0.58038128, 0.85349969,\n",
       "         0.85349969, 0.8884527 , 0.8884527 , 0.82476642, 0.82476642,\n",
       "         0.01371085, 0.01371085, 0.11814868, 0.11814868, 0.24441405,\n",
       "         0.24441405, 0.05048807, 0.05048807, 0.28313583, 0.28313583,\n",
       "         0.11277553, 0.11277553, 0.33754313, 0.33754313, 0.60223657,\n",
       "         0.60223657, 0.68054527, 0.68054527, 0.55634331, 0.55634331,\n",
       "         0.93970453, 0.93970453, 0.73262162, 0.73262162, 0.86279164,\n",
       "         0.86279164, 0.02227087, 0.02227087, 0.58898017, 0.58898017,\n",
       "         0.96927884, 0.96927884, 0.74036496, 0.74036496, 0.69178339,\n",
       "         0.69178339, 0.34115034, 0.34115034, 0.68217982, 0.68217982,\n",
       "         0.43840192, 0.43840192, 0.02973985, 0.02973985, 0.82044923,\n",
       "         0.82044923, 0.29949555, 0.29949555, 0.36505488, 0.36505488])}}"
      ]
     },
     "execution_count": 11,
     "metadata": {},
     "output_type": "execute_result"
    }
   ],
   "source": [
    "ds = load_by_id(run_id_n)\n",
    "ds.get_parameter_data('x1')"
   ]
  },
  {
   "cell_type": "markdown",
   "metadata": {},
   "source": [
    "And a dataset stored as binary arrays"
   ]
  },
  {
   "cell_type": "code",
   "execution_count": 12,
   "metadata": {
    "scrolled": true
   },
   "outputs": [
    {
     "data": {
      "text/plain": [
       "{'x1': {'x1': array([[0.22383917],\n",
       "         [0.22383917],\n",
       "         [0.78405138],\n",
       "         [0.78405138],\n",
       "         [0.26473771],\n",
       "         [0.26473771],\n",
       "         [0.11494603],\n",
       "         [0.11494603],\n",
       "         [0.48878512],\n",
       "         [0.48878512],\n",
       "         [0.46131991],\n",
       "         [0.46131991],\n",
       "         [0.54532811],\n",
       "         [0.54532811],\n",
       "         [0.15363882],\n",
       "         [0.15363882],\n",
       "         [0.53371517],\n",
       "         [0.53371517],\n",
       "         [0.6495289 ],\n",
       "         [0.6495289 ],\n",
       "         [0.3721828 ],\n",
       "         [0.3721828 ],\n",
       "         [0.83072316],\n",
       "         [0.83072316],\n",
       "         [0.00980243],\n",
       "         [0.00980243],\n",
       "         [0.99360682],\n",
       "         [0.99360682],\n",
       "         [0.59525557],\n",
       "         [0.59525557],\n",
       "         [0.92616459],\n",
       "         [0.92616459],\n",
       "         [0.64845833],\n",
       "         [0.64845833],\n",
       "         [0.02985387],\n",
       "         [0.02985387],\n",
       "         [0.05666442],\n",
       "         [0.05666442],\n",
       "         [0.32904572],\n",
       "         [0.32904572],\n",
       "         [0.16045453],\n",
       "         [0.16045453],\n",
       "         [0.12259994],\n",
       "         [0.12259994],\n",
       "         [0.33399111],\n",
       "         [0.33399111],\n",
       "         [0.12867705],\n",
       "         [0.12867705],\n",
       "         [0.74070011],\n",
       "         [0.74070011],\n",
       "         [0.55198532],\n",
       "         [0.55198532],\n",
       "         [0.44674272],\n",
       "         [0.44674272],\n",
       "         [0.95745099],\n",
       "         [0.95745099],\n",
       "         [0.95590555],\n",
       "         [0.95590555],\n",
       "         [0.26978035],\n",
       "         [0.26978035],\n",
       "         [0.81495689],\n",
       "         [0.81495689],\n",
       "         [0.45628627],\n",
       "         [0.45628627],\n",
       "         [0.04470927],\n",
       "         [0.04470927],\n",
       "         [0.11651541],\n",
       "         [0.11651541],\n",
       "         [0.25938869],\n",
       "         [0.25938869],\n",
       "         [0.71792185],\n",
       "         [0.71792185],\n",
       "         [0.87884656],\n",
       "         [0.87884656],\n",
       "         [0.39663451],\n",
       "         [0.39663451],\n",
       "         [0.53037304],\n",
       "         [0.53037304],\n",
       "         [0.77098955],\n",
       "         [0.77098955],\n",
       "         [0.92437457],\n",
       "         [0.92437457],\n",
       "         [0.28058596],\n",
       "         [0.28058596],\n",
       "         [0.01327906],\n",
       "         [0.01327906],\n",
       "         [0.49418913],\n",
       "         [0.49418913],\n",
       "         [0.7745526 ],\n",
       "         [0.7745526 ],\n",
       "         [0.14144224],\n",
       "         [0.14144224],\n",
       "         [0.86807606],\n",
       "         [0.86807606],\n",
       "         [0.60509483],\n",
       "         [0.60509483],\n",
       "         [0.01456636],\n",
       "         [0.01456636],\n",
       "         [0.85450565],\n",
       "         [0.85450565],\n",
       "         [0.29308908],\n",
       "         [0.29308908],\n",
       "         [0.10857499],\n",
       "         [0.10857499],\n",
       "         [0.35206886],\n",
       "         [0.35206886],\n",
       "         [0.93373137],\n",
       "         [0.93373137],\n",
       "         [0.4971807 ],\n",
       "         [0.4971807 ],\n",
       "         [0.14639105],\n",
       "         [0.14639105],\n",
       "         [0.35831389],\n",
       "         [0.35831389],\n",
       "         [0.80861889],\n",
       "         [0.80861889],\n",
       "         [0.30764423],\n",
       "         [0.30764423],\n",
       "         [0.79352269],\n",
       "         [0.79352269],\n",
       "         [0.48031372],\n",
       "         [0.48031372],\n",
       "         [0.19322606],\n",
       "         [0.19322606],\n",
       "         [0.65715876],\n",
       "         [0.65715876],\n",
       "         [0.36156345],\n",
       "         [0.36156345],\n",
       "         [0.66865012],\n",
       "         [0.66865012],\n",
       "         [0.43967364],\n",
       "         [0.43967364],\n",
       "         [0.13902055],\n",
       "         [0.13902055],\n",
       "         [0.3845079 ],\n",
       "         [0.3845079 ],\n",
       "         [0.76585007],\n",
       "         [0.76585007],\n",
       "         [0.13001844],\n",
       "         [0.13001844],\n",
       "         [0.99776147],\n",
       "         [0.99776147],\n",
       "         [0.31996798],\n",
       "         [0.31996798],\n",
       "         [0.68457621],\n",
       "         [0.68457621],\n",
       "         [0.26554992],\n",
       "         [0.26554992],\n",
       "         [0.0925325 ],\n",
       "         [0.0925325 ],\n",
       "         [0.06073087],\n",
       "         [0.06073087],\n",
       "         [0.93482823],\n",
       "         [0.93482823],\n",
       "         [0.67149784],\n",
       "         [0.67149784],\n",
       "         [0.20494883],\n",
       "         [0.20494883],\n",
       "         [0.77705146],\n",
       "         [0.77705146],\n",
       "         [0.22597666],\n",
       "         [0.22597666],\n",
       "         [0.26097662],\n",
       "         [0.26097662],\n",
       "         [0.04456769],\n",
       "         [0.04456769],\n",
       "         [0.80347867],\n",
       "         [0.80347867],\n",
       "         [0.6710437 ],\n",
       "         [0.6710437 ],\n",
       "         [0.60267214],\n",
       "         [0.60267214],\n",
       "         [0.40189739],\n",
       "         [0.40189739],\n",
       "         [0.94518329],\n",
       "         [0.94518329],\n",
       "         [0.12989885],\n",
       "         [0.12989885],\n",
       "         [0.36703665],\n",
       "         [0.36703665],\n",
       "         [0.58779643],\n",
       "         [0.58779643],\n",
       "         [0.7531223 ],\n",
       "         [0.7531223 ],\n",
       "         [0.55841677],\n",
       "         [0.55841677],\n",
       "         [0.13468442],\n",
       "         [0.13468442],\n",
       "         [0.26738914],\n",
       "         [0.26738914],\n",
       "         [0.17643468],\n",
       "         [0.17643468],\n",
       "         [0.3659312 ],\n",
       "         [0.3659312 ],\n",
       "         [0.95083973],\n",
       "         [0.95083973],\n",
       "         [0.96868275],\n",
       "         [0.96868275],\n",
       "         [0.89595885],\n",
       "         [0.89595885]])}}"
      ]
     },
     "execution_count": 12,
     "metadata": {},
     "output_type": "execute_result"
    }
   ],
   "source": [
    "ds = load_by_id(run_id_a)\n",
    "ds.get_parameter_data('x1')"
   ]
  },
  {
   "cell_type": "code",
   "execution_count": null,
   "metadata": {},
   "outputs": [],
   "source": []
  }
 ],
 "metadata": {
  "kernelspec": {
   "display_name": "Python 3",
   "language": "python",
   "name": "python3"
  },
  "language_info": {
   "codemirror_mode": {
    "name": "ipython",
    "version": 3
   },
   "file_extension": ".py",
   "mimetype": "text/x-python",
   "name": "python",
   "nbconvert_exporter": "python",
   "pygments_lexer": "ipython3",
   "version": "3.7.7"
  },
  "nbsphinx": {
   "timeout": 600
  },
  "toc": {
   "base_numbering": 1,
   "nav_menu": {},
   "number_sections": true,
   "sideBar": true,
   "skip_h1_title": false,
   "title_cell": "Table of Contents",
   "title_sidebar": "Contents",
   "toc_cell": false,
   "toc_position": {},
   "toc_section_display": true,
   "toc_window_display": false
  },
  "varInspector": {
   "cols": {
    "lenName": 16,
    "lenType": 16,
    "lenVar": 40
   },
   "kernels_config": {
    "python": {
     "delete_cmd_postfix": "",
     "delete_cmd_prefix": "del ",
     "library": "var_list.py",
     "varRefreshCmd": "print(var_dic_list())"
    },
    "r": {
     "delete_cmd_postfix": ") ",
     "delete_cmd_prefix": "rm(",
     "library": "var_list.r",
     "varRefreshCmd": "cat(var_dic_list()) "
    }
   },
   "types_to_exclude": [
    "module",
    "function",
    "builtin_function_or_method",
    "instance",
    "_Feature"
   ],
   "window_display": false
  }
 },
 "nbformat": 4,
 "nbformat_minor": 2
}
