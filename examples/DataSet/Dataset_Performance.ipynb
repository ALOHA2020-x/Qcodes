{
 "cells": [
  {
   "cell_type": "markdown",
   "metadata": {},
   "source": [
    "# DataSet Performance\n",
    "\n",
    "This notebook shows the trade-off between inserting data into a database row-by-row and as binary blobs. Inserting the data row-by-row means that we have direct access to all the data and may perform queries directly on the values of the data. On the other hand, as we shall see, this is much slower than inserting the data directly as binary blobs."
   ]
  },
  {
   "cell_type": "markdown",
   "metadata": {},
   "source": [
    "First, we choose a new location for the database to ensure that we don't add a bunch of benchmarking data to the default one."
   ]
  },
  {
   "cell_type": "code",
   "execution_count": 1,
   "metadata": {},
   "outputs": [
    {
     "name": "stdout",
     "output_type": "stream",
     "text": [
      "Logging hadn't been started.\n",
      "Activating auto-logging. Current session state plus future input saved.\n",
      "Filename       : /home/vsts/.qcodes/logs/command_history.log\n",
      "Mode           : append\n",
      "Output logging : True\n",
      "Raw input log  : False\n",
      "Timestamping   : True\n",
      "State          : active\n"
     ]
    },
    {
     "name": "stdout",
     "output_type": "stream",
     "text": [
      "Qcodes Logfile : /home/vsts/.qcodes/logs/200813-18034-qcodes.log\n"
     ]
    }
   ],
   "source": [
    "import os\n",
    "cwd = os.getcwd()\n",
    "import qcodes as qc\n",
    "qc.config[\"core\"][\"db_location\"] = os.path.join(cwd, 'testing.db')\n"
   ]
  },
  {
   "cell_type": "code",
   "execution_count": 2,
   "metadata": {},
   "outputs": [],
   "source": [
    "%matplotlib inline\n",
    "import time\n",
    "import matplotlib.pyplot as plt\n",
    "import numpy as np\n",
    "\n",
    "import qcodes as qc\n",
    "from qcodes.instrument.parameter import ManualParameter\n",
    "from qcodes.dataset.experiment_container import (Experiment,\n",
    "                                                 load_last_experiment,\n",
    "                                                 new_experiment)\n",
    "from qcodes.dataset.sqlite.database import initialise_database\n",
    "from qcodes import load_or_create_experiment\n",
    "from qcodes.dataset.measurements import Measurement"
   ]
  },
  {
   "cell_type": "code",
   "execution_count": 3,
   "metadata": {},
   "outputs": [
    {
     "name": "stdout",
     "output_type": "stream",
     "text": [
      "\r",
      "0it [00:00, ?it/s]"
     ]
    },
    {
     "name": "stdout",
     "output_type": "stream",
     "text": [
      "\r",
      "Upgrading database; v0 -> v1: : 0it [00:00, ?it/s]"
     ]
    },
    {
     "name": "stdout",
     "output_type": "stream",
     "text": [
      "\r",
      "Upgrading database; v0 -> v1: : 0it [00:00, ?it/s]"
     ]
    },
    {
     "name": "stdout",
     "output_type": "stream",
     "text": [
      "\n",
      "\r",
      "  0%|          | 0/1 [00:00<?, ?it/s]"
     ]
    },
    {
     "name": "stdout",
     "output_type": "stream",
     "text": [
      "\r",
      "Upgrading database; v1 -> v2:   0%|          | 0/1 [00:00<?, ?it/s]"
     ]
    },
    {
     "name": "stdout",
     "output_type": "stream",
     "text": [
      "\r",
      "Upgrading database; v1 -> v2: 100%|██████████| 1/1 [00:00<00:00, 1021.26it/s]"
     ]
    },
    {
     "name": "stdout",
     "output_type": "stream",
     "text": [
      "\n",
      "\r",
      "0it [00:00, ?it/s]"
     ]
    },
    {
     "name": "stdout",
     "output_type": "stream",
     "text": [
      "\r",
      "Upgrading database; v2 -> v3: : 0it [00:00, ?it/s]"
     ]
    },
    {
     "name": "stdout",
     "output_type": "stream",
     "text": [
      "\r",
      "Upgrading database; v2 -> v3: : 0it [00:00, ?it/s]"
     ]
    },
    {
     "name": "stdout",
     "output_type": "stream",
     "text": [
      "\n",
      "\r",
      "0it [00:00, ?it/s]"
     ]
    },
    {
     "name": "stdout",
     "output_type": "stream",
     "text": [
      "\r",
      "Upgrading database; v3 -> v4: : 0it [00:00, ?it/s]"
     ]
    },
    {
     "name": "stdout",
     "output_type": "stream",
     "text": [
      "\r",
      "Upgrading database; v3 -> v4: : 0it [00:00, ?it/s]"
     ]
    },
    {
     "name": "stdout",
     "output_type": "stream",
     "text": [
      "\n",
      "\r",
      "  0%|          | 0/1 [00:00<?, ?it/s]"
     ]
    },
    {
     "name": "stdout",
     "output_type": "stream",
     "text": [
      "\r",
      "Upgrading database; v4 -> v5:   0%|          | 0/1 [00:00<?, ?it/s]"
     ]
    },
    {
     "name": "stdout",
     "output_type": "stream",
     "text": [
      "\r",
      "Upgrading database; v4 -> v5: 100%|██████████| 1/1 [00:00<00:00, 888.06it/s]"
     ]
    },
    {
     "name": "stdout",
     "output_type": "stream",
     "text": [
      "\n",
      "\r",
      "0it [00:00, ?it/s]"
     ]
    },
    {
     "name": "stdout",
     "output_type": "stream",
     "text": [
      "\r",
      "Upgrading database; v5 -> v6: : 0it [00:00, ?it/s]"
     ]
    },
    {
     "name": "stdout",
     "output_type": "stream",
     "text": [
      "\r",
      "Upgrading database; v5 -> v6: : 0it [00:00, ?it/s]"
     ]
    },
    {
     "name": "stdout",
     "output_type": "stream",
     "text": [
      "\n",
      "\r",
      "  0%|          | 0/1 [00:00<?, ?it/s]"
     ]
    },
    {
     "name": "stdout",
     "output_type": "stream",
     "text": [
      "\r",
      "Upgrading database; v6 -> v7:   0%|          | 0/1 [00:00<?, ?it/s]"
     ]
    },
    {
     "name": "stdout",
     "output_type": "stream",
     "text": [
      "\r",
      "Upgrading database; v6 -> v7: 100%|██████████| 1/1 [00:00<00:00, 419.85it/s]"
     ]
    },
    {
     "name": "stdout",
     "output_type": "stream",
     "text": [
      "\n",
      "\r",
      "  0%|          | 0/1 [00:00<?, ?it/s]"
     ]
    },
    {
     "name": "stdout",
     "output_type": "stream",
     "text": [
      "\r",
      "Upgrading database; v7 -> v8:   0%|          | 0/1 [00:00<?, ?it/s]"
     ]
    },
    {
     "name": "stdout",
     "output_type": "stream",
     "text": [
      "\r",
      "Upgrading database; v7 -> v8: 100%|██████████| 1/1 [00:00<00:00, 871.82it/s]"
     ]
    },
    {
     "name": "stdout",
     "output_type": "stream",
     "text": [
      "\n",
      "\r",
      "  0%|          | 0/1 [00:00<?, ?it/s]"
     ]
    },
    {
     "name": "stdout",
     "output_type": "stream",
     "text": [
      "\r",
      "Upgrading database; v8 -> v9:   0%|          | 0/1 [00:00<?, ?it/s]"
     ]
    },
    {
     "name": "stdout",
     "output_type": "stream",
     "text": [
      "\r",
      "Upgrading database; v8 -> v9: 100%|██████████| 1/1 [00:00<00:00, 960.89it/s]"
     ]
    },
    {
     "name": "stdout",
     "output_type": "stream",
     "text": [
      "\n"
     ]
    }
   ],
   "source": [
    "initialise_database()\n",
    "exp = load_or_create_experiment(experiment_name='tutorial_exp', sample_name=\"no sample\")"
   ]
  },
  {
   "cell_type": "markdown",
   "metadata": {},
   "source": [
    "Here, we define a simple function to benchmark the time it takes to insert n points with either numeric or array data type.\n",
    "We will compare both the time used to call ``add_result`` and the time used for the full measurement."
   ]
  },
  {
   "cell_type": "code",
   "execution_count": 4,
   "metadata": {},
   "outputs": [],
   "source": [
    "def insert_data(paramtype, npoints, nreps=1):\n",
    "\n",
    "    meas = Measurement(exp=exp)\n",
    "\n",
    "    x1 = ManualParameter('x1')\n",
    "    x2 = ManualParameter('x2')\n",
    "    x3 = ManualParameter('x3')\n",
    "    y1 = ManualParameter('y1')\n",
    "    y2 = ManualParameter('y2')\n",
    "\n",
    "    meas.register_parameter(x1, paramtype=paramtype)\n",
    "    meas.register_parameter(x2, paramtype=paramtype)\n",
    "    meas.register_parameter(x3, paramtype=paramtype)\n",
    "    meas.register_parameter(y1, setpoints=[x1, x2, x3],\n",
    "                            paramtype=paramtype)\n",
    "    meas.register_parameter(y2, setpoints=[x1, x2, x3],\n",
    "                            paramtype=paramtype)\n",
    "    start = time.perf_counter()\n",
    "    with meas.run() as datasaver:\n",
    "        start_adding = time.perf_counter()\n",
    "        for i in range(nreps):\n",
    "            datasaver.add_result((x1, np.random.rand(npoints)),\n",
    "                                 (x2, np.random.rand(npoints)),\n",
    "                                 (x3, np.random.rand(npoints)),\n",
    "                                 (y1, np.random.rand(npoints)),\n",
    "                                 (y2, np.random.rand(npoints)))\n",
    "        stop_adding = time.perf_counter()\n",
    "        run_id = datasaver.run_id\n",
    "    stop = time.perf_counter()\n",
    "    tot_time = stop - start\n",
    "    add_time = stop_adding - start_adding\n",
    "    return tot_time, add_time, run_id"
   ]
  },
  {
   "cell_type": "markdown",
   "metadata": {},
   "source": [
    "## Comparison between numeric/array data and binary blob"
   ]
  },
  {
   "cell_type": "markdown",
   "metadata": {},
   "source": [
    "### Case1: Short experiment time"
   ]
  },
  {
   "cell_type": "code",
   "execution_count": 5,
   "metadata": {},
   "outputs": [
    {
     "name": "stdout",
     "output_type": "stream",
     "text": [
      "Starting experimental run with id: 1. \n",
      "Starting experimental run with id: 2. \n",
      "Starting experimental run with id: 3. \n",
      "Starting experimental run with id: 4. \n",
      "Starting experimental run with id: 5. \n"
     ]
    },
    {
     "name": "stdout",
     "output_type": "stream",
     "text": [
      "Starting experimental run with id: 6. \n",
      "Starting experimental run with id: 7. \n"
     ]
    },
    {
     "name": "stdout",
     "output_type": "stream",
     "text": [
      "Starting experimental run with id: 8. \n",
      "Starting experimental run with id: 9. \n"
     ]
    },
    {
     "name": "stdout",
     "output_type": "stream",
     "text": [
      "Starting experimental run with id: 10. \n",
      "Starting experimental run with id: 11. \n"
     ]
    },
    {
     "name": "stdout",
     "output_type": "stream",
     "text": [
      "Starting experimental run with id: 12. \n",
      "Starting experimental run with id: 13. \n"
     ]
    },
    {
     "name": "stdout",
     "output_type": "stream",
     "text": [
      "Starting experimental run with id: 14. \n"
     ]
    }
   ],
   "source": [
    "sizes = [1,500,1000,2000,3000,4000,5000]\n",
    "t_numeric = []\n",
    "t_numeric_add = []\n",
    "t_array = []\n",
    "t_array_add = []\n",
    "for size in sizes:\n",
    "    tn, tna, run_id_n =  insert_data('numeric', size)\n",
    "    t_numeric.append(tn)\n",
    "    t_numeric_add.append(tna)\n",
    "\n",
    "    ta, taa, run_id_a =  insert_data('array', size)\n",
    "    t_array.append(ta)\n",
    "    t_array_add.append(taa)"
   ]
  },
  {
   "cell_type": "code",
   "execution_count": 6,
   "metadata": {},
   "outputs": [
    {
     "data": {
      "image/png": "[encoded data removed]",
      "text/plain": [
       "<Figure size 432x288 with 1 Axes>"
      ]
     },
     "metadata": {
      "needs_background": "light"
     },
     "output_type": "display_data"
    }
   ],
   "source": [
    "fig, ax = plt.subplots(1,1)\n",
    "ax.plot(sizes, t_numeric, 'o-', label='Inserting row-by-row')\n",
    "ax.plot(sizes, t_numeric_add, 'o-', label='Inserting row-by-row: add_result only')\n",
    "ax.plot(sizes, t_array, 'd-', label='Inserting as binary blob')\n",
    "ax.plot(sizes, t_array_add, 'd-', label='Inserting as binary blob: add_result only')\n",
    "ax.legend()\n",
    "ax.set_xlabel('Array length')\n",
    "ax.set_ylabel('Time (s)')\n",
    "fig.tight_layout()"
   ]
  },
  {
   "cell_type": "markdown",
   "metadata": {},
   "source": [
    "As shown in the latter figure, the time to setup and and close the experiment is approximately 0.4 sec. In case of small array sizes, the difference between inserting values of data as arrays and inserting them row-by-row is relatively unimportant. At larger array sizes, i.e. above 10000 points, the cost of writing data as individual datapoints starts to become important.\n"
   ]
  },
  {
   "cell_type": "markdown",
   "metadata": {},
   "source": [
    "### Case2: Long experiment time "
   ]
  },
  {
   "cell_type": "code",
   "execution_count": 7,
   "metadata": {},
   "outputs": [
    {
     "name": "stdout",
     "output_type": "stream",
     "text": [
      "Starting experimental run with id: 15. \n",
      "Starting experimental run with id: 16. \n",
      "Starting experimental run with id: 17. \n"
     ]
    },
    {
     "name": "stdout",
     "output_type": "stream",
     "text": [
      "Starting experimental run with id: 18. \n",
      "Starting experimental run with id: 19. \n"
     ]
    },
    {
     "name": "stdout",
     "output_type": "stream",
     "text": [
      "Starting experimental run with id: 20. \n"
     ]
    },
    {
     "name": "stdout",
     "output_type": "stream",
     "text": [
      "Starting experimental run with id: 21. \n"
     ]
    },
    {
     "name": "stdout",
     "output_type": "stream",
     "text": [
      "Starting experimental run with id: 22. \n"
     ]
    },
    {
     "name": "stdout",
     "output_type": "stream",
     "text": [
      "Starting experimental run with id: 23. \n"
     ]
    },
    {
     "name": "stdout",
     "output_type": "stream",
     "text": [
      "Starting experimental run with id: 24. \n"
     ]
    },
    {
     "name": "stdout",
     "output_type": "stream",
     "text": [
      "Starting experimental run with id: 25. \n"
     ]
    },
    {
     "name": "stdout",
     "output_type": "stream",
     "text": [
      "Starting experimental run with id: 26. \n"
     ]
    },
    {
     "name": "stdout",
     "output_type": "stream",
     "text": [
      "Starting experimental run with id: 27. \n"
     ]
    },
    {
     "name": "stdout",
     "output_type": "stream",
     "text": [
      "Starting experimental run with id: 28. \n"
     ]
    }
   ],
   "source": [
    "sizes = [1,500,1000,2000,3000,4000,5000]\n",
    "nreps = 100\n",
    "t_numeric = []\n",
    "t_numeric_add = []\n",
    "t_numeric_run_ids = []\n",
    "t_array = []\n",
    "t_array_add = []\n",
    "t_array_run_ids = []\n",
    "for size in sizes:\n",
    "    tn, tna, run_id_n =  insert_data('numeric', size, nreps=nreps)\n",
    "    t_numeric.append(tn)\n",
    "    t_numeric_add.append(tna)\n",
    "    t_numeric_run_ids.append(run_id_n)\n",
    "\n",
    "    ta, taa, run_id_a =  insert_data('array', size, nreps=nreps)\n",
    "    t_array.append(ta)\n",
    "    t_array_add.append(taa)\n",
    "    t_array_run_ids.append(run_id_a)"
   ]
  },
  {
   "cell_type": "code",
   "execution_count": 8,
   "metadata": {
    "scrolled": true
   },
   "outputs": [
    {
     "data": {
      "image/png": "[encoded data removed]",
      "text/plain": [
       "<Figure size 432x288 with 1 Axes>"
      ]
     },
     "metadata": {
      "needs_background": "light"
     },
     "output_type": "display_data"
    }
   ],
   "source": [
    "fig, ax = plt.subplots(1,1)\n",
    "ax.plot(sizes, t_numeric, 'o-', label='Inserting row-by-row')\n",
    "ax.plot(sizes, t_numeric_add, 'o-', label='Inserting row-by-row: add_result only')\n",
    "ax.plot(sizes, t_array, 'd-', label='Inserting as binary blob')\n",
    "ax.plot(sizes, t_array_add, 'd-', label='Inserting as binary blob: add_result only')\n",
    "ax.legend()\n",
    "ax.set_xlabel('Array length')\n",
    "ax.set_ylabel('Time (s)')\n",
    "fig.tight_layout()"
   ]
  },
  {
   "cell_type": "markdown",
   "metadata": {},
   "source": [
    "However, as we increase the length of the experiment, as seen here by repeating the insertion 100 times, we see a big difference between inserting values of the data row-by-row and inserting it as a binary blob."
   ]
  },
  {
   "cell_type": "markdown",
   "metadata": {},
   "source": [
    "## Loading the data "
   ]
  },
  {
   "cell_type": "code",
   "execution_count": 9,
   "metadata": {},
   "outputs": [],
   "source": [
    "from qcodes.dataset.data_set import load_by_id\n",
    "from qcodes.dataset.data_export import get_data_by_id"
   ]
  },
  {
   "cell_type": "markdown",
   "metadata": {},
   "source": [
    "As usual you can load the data by using the ``load_by_id`` function but you will notice that the different storage methods\n",
    "are reflected in shape of the data as it is retrieved. "
   ]
  },
  {
   "cell_type": "code",
   "execution_count": 10,
   "metadata": {},
   "outputs": [],
   "source": [
    "run_id_n = t_numeric_run_ids[0]\n",
    "run_id_a = t_array_run_ids[0]"
   ]
  },
  {
   "cell_type": "code",
   "execution_count": 11,
   "metadata": {
    "scrolled": true
   },
   "outputs": [
    {
     "data": {
      "text/plain": [
       "{'x1': {'x1': array([0.91904972, 0.91904972, 0.70004929, 0.70004929, 0.02695719,\n",
       "         0.02695719, 0.02503804, 0.02503804, 0.21974022, 0.21974022,\n",
       "         0.50524913, 0.50524913, 0.73503133, 0.73503133, 0.1638133 ,\n",
       "         0.1638133 , 0.05512391, 0.05512391, 0.43067172, 0.43067172,\n",
       "         0.99418834, 0.99418834, 0.11990441, 0.11990441, 0.51276533,\n",
       "         0.51276533, 0.30534043, 0.30534043, 0.27658968, 0.27658968,\n",
       "         0.15408526, 0.15408526, 0.51159369, 0.51159369, 0.35474632,\n",
       "         0.35474632, 0.83773995, 0.83773995, 0.67750828, 0.67750828,\n",
       "         0.85237972, 0.85237972, 0.88568891, 0.88568891, 0.54112229,\n",
       "         0.54112229, 0.72271019, 0.72271019, 0.88341556, 0.88341556,\n",
       "         0.98296123, 0.98296123, 0.2885    , 0.2885    , 0.68409951,\n",
       "         0.68409951, 0.12343971, 0.12343971, 0.83053467, 0.83053467,\n",
       "         0.78932899, 0.78932899, 0.52687238, 0.52687238, 0.00250938,\n",
       "         0.00250938, 0.00371145, 0.00371145, 0.31513577, 0.31513577,\n",
       "         0.92664857, 0.92664857, 0.21222249, 0.21222249, 0.04204206,\n",
       "         0.04204206, 0.1168629 , 0.1168629 , 0.19218956, 0.19218956,\n",
       "         0.98008177, 0.98008177, 0.35988351, 0.35988351, 0.02933091,\n",
       "         0.02933091, 0.67258605, 0.67258605, 0.83310016, 0.83310016,\n",
       "         0.2854798 , 0.2854798 , 0.77709829, 0.77709829, 0.65044613,\n",
       "         0.65044613, 0.04986964, 0.04986964, 0.37136843, 0.37136843,\n",
       "         0.98217908, 0.98217908, 0.28907769, 0.28907769, 0.75961245,\n",
       "         0.75961245, 0.00300234, 0.00300234, 0.47389314, 0.47389314,\n",
       "         0.63096438, 0.63096438, 0.92896263, 0.92896263, 0.71473246,\n",
       "         0.71473246, 0.75271891, 0.75271891, 0.72808429, 0.72808429,\n",
       "         0.60004646, 0.60004646, 0.94933493, 0.94933493, 0.0541473 ,\n",
       "         0.0541473 , 0.34965621, 0.34965621, 0.13976437, 0.13976437,\n",
       "         0.60987088, 0.60987088, 0.41874071, 0.41874071, 0.16026546,\n",
       "         0.16026546, 0.01005475, 0.01005475, 0.12176858, 0.12176858,\n",
       "         0.98999816, 0.98999816, 0.28645616, 0.28645616, 0.95188573,\n",
       "         0.95188573, 0.27239184, 0.27239184, 0.5876598 , 0.5876598 ,\n",
       "         0.93247446, 0.93247446, 0.63679619, 0.63679619, 0.45867004,\n",
       "         0.45867004, 0.11877591, 0.11877591, 0.39329545, 0.39329545,\n",
       "         0.8345284 , 0.8345284 , 0.1182724 , 0.1182724 , 0.51950835,\n",
       "         0.51950835, 0.55093973, 0.55093973, 0.30227048, 0.30227048,\n",
       "         0.42491787, 0.42491787, 0.62892617, 0.62892617, 0.29746509,\n",
       "         0.29746509, 0.6058972 , 0.6058972 , 0.56045139, 0.56045139,\n",
       "         0.18588259, 0.18588259, 0.7924889 , 0.7924889 , 0.68424938,\n",
       "         0.68424938, 0.39674654, 0.39674654, 0.90343821, 0.90343821,\n",
       "         0.41080985, 0.41080985, 0.42763271, 0.42763271, 0.48557274,\n",
       "         0.48557274, 0.48532729, 0.48532729, 0.03385357, 0.03385357])}}"
      ]
     },
     "execution_count": 11,
     "metadata": {},
     "output_type": "execute_result"
    }
   ],
   "source": [
    "ds = load_by_id(run_id_n)\n",
    "ds.get_parameter_data('x1')"
   ]
  },
  {
   "cell_type": "markdown",
   "metadata": {},
   "source": [
    "And a dataset stored as binary arrays"
   ]
  },
  {
   "cell_type": "code",
   "execution_count": 12,
   "metadata": {
    "scrolled": true
   },
   "outputs": [
    {
     "data": {
      "text/plain": [
       "{'x1': {'x1': array([[0.44270146],\n",
       "         [0.44270146],\n",
       "         [0.52786734],\n",
       "         [0.52786734],\n",
       "         [0.99336308],\n",
       "         [0.99336308],\n",
       "         [0.8695828 ],\n",
       "         [0.8695828 ],\n",
       "         [0.24076342],\n",
       "         [0.24076342],\n",
       "         [0.87427754],\n",
       "         [0.87427754],\n",
       "         [0.54856303],\n",
       "         [0.54856303],\n",
       "         [0.33676116],\n",
       "         [0.33676116],\n",
       "         [0.9904993 ],\n",
       "         [0.9904993 ],\n",
       "         [0.89034612],\n",
       "         [0.89034612],\n",
       "         [0.73806464],\n",
       "         [0.73806464],\n",
       "         [0.45337868],\n",
       "         [0.45337868],\n",
       "         [0.03998623],\n",
       "         [0.03998623],\n",
       "         [0.49337156],\n",
       "         [0.49337156],\n",
       "         [0.85728273],\n",
       "         [0.85728273],\n",
       "         [0.95273509],\n",
       "         [0.95273509],\n",
       "         [0.46344764],\n",
       "         [0.46344764],\n",
       "         [0.27482343],\n",
       "         [0.27482343],\n",
       "         [0.92831713],\n",
       "         [0.92831713],\n",
       "         [0.7810213 ],\n",
       "         [0.7810213 ],\n",
       "         [0.75972236],\n",
       "         [0.75972236],\n",
       "         [0.19125936],\n",
       "         [0.19125936],\n",
       "         [0.84528949],\n",
       "         [0.84528949],\n",
       "         [0.73280594],\n",
       "         [0.73280594],\n",
       "         [0.9300428 ],\n",
       "         [0.9300428 ],\n",
       "         [0.14080808],\n",
       "         [0.14080808],\n",
       "         [0.08796009],\n",
       "         [0.08796009],\n",
       "         [0.97921837],\n",
       "         [0.97921837],\n",
       "         [0.05175167],\n",
       "         [0.05175167],\n",
       "         [0.30838197],\n",
       "         [0.30838197],\n",
       "         [0.44464965],\n",
       "         [0.44464965],\n",
       "         [0.21768099],\n",
       "         [0.21768099],\n",
       "         [0.25638392],\n",
       "         [0.25638392],\n",
       "         [0.94291499],\n",
       "         [0.94291499],\n",
       "         [0.46564853],\n",
       "         [0.46564853],\n",
       "         [0.54680136],\n",
       "         [0.54680136],\n",
       "         [0.96561726],\n",
       "         [0.96561726],\n",
       "         [0.22137166],\n",
       "         [0.22137166],\n",
       "         [0.68371863],\n",
       "         [0.68371863],\n",
       "         [0.85315663],\n",
       "         [0.85315663],\n",
       "         [0.01903725],\n",
       "         [0.01903725],\n",
       "         [0.29568606],\n",
       "         [0.29568606],\n",
       "         [0.02534812],\n",
       "         [0.02534812],\n",
       "         [0.75156487],\n",
       "         [0.75156487],\n",
       "         [0.66535175],\n",
       "         [0.66535175],\n",
       "         [0.65856274],\n",
       "         [0.65856274],\n",
       "         [0.62153696],\n",
       "         [0.62153696],\n",
       "         [0.29527215],\n",
       "         [0.29527215],\n",
       "         [0.61946092],\n",
       "         [0.61946092],\n",
       "         [0.22077718],\n",
       "         [0.22077718],\n",
       "         [0.60910476],\n",
       "         [0.60910476],\n",
       "         [0.03448107],\n",
       "         [0.03448107],\n",
       "         [0.16486992],\n",
       "         [0.16486992],\n",
       "         [0.86669935],\n",
       "         [0.86669935],\n",
       "         [0.44098019],\n",
       "         [0.44098019],\n",
       "         [0.09778816],\n",
       "         [0.09778816],\n",
       "         [0.82947823],\n",
       "         [0.82947823],\n",
       "         [0.31141812],\n",
       "         [0.31141812],\n",
       "         [0.78578513],\n",
       "         [0.78578513],\n",
       "         [0.50823611],\n",
       "         [0.50823611],\n",
       "         [0.61756923],\n",
       "         [0.61756923],\n",
       "         [0.05594382],\n",
       "         [0.05594382],\n",
       "         [0.36202036],\n",
       "         [0.36202036],\n",
       "         [0.44396034],\n",
       "         [0.44396034],\n",
       "         [0.29824587],\n",
       "         [0.29824587],\n",
       "         [0.78181431],\n",
       "         [0.78181431],\n",
       "         [0.78252993],\n",
       "         [0.78252993],\n",
       "         [0.18125416],\n",
       "         [0.18125416],\n",
       "         [0.3953911 ],\n",
       "         [0.3953911 ],\n",
       "         [0.27435037],\n",
       "         [0.27435037],\n",
       "         [0.4106783 ],\n",
       "         [0.4106783 ],\n",
       "         [0.81567012],\n",
       "         [0.81567012],\n",
       "         [0.00791809],\n",
       "         [0.00791809],\n",
       "         [0.6602243 ],\n",
       "         [0.6602243 ],\n",
       "         [0.66762329],\n",
       "         [0.66762329],\n",
       "         [0.96726007],\n",
       "         [0.96726007],\n",
       "         [0.63408137],\n",
       "         [0.63408137],\n",
       "         [0.15192338],\n",
       "         [0.15192338],\n",
       "         [0.95918638],\n",
       "         [0.95918638],\n",
       "         [0.87267014],\n",
       "         [0.87267014],\n",
       "         [0.10229744],\n",
       "         [0.10229744],\n",
       "         [0.73208185],\n",
       "         [0.73208185],\n",
       "         [0.58389125],\n",
       "         [0.58389125],\n",
       "         [0.59584393],\n",
       "         [0.59584393],\n",
       "         [0.7969338 ],\n",
       "         [0.7969338 ],\n",
       "         [0.18859264],\n",
       "         [0.18859264],\n",
       "         [0.05442292],\n",
       "         [0.05442292],\n",
       "         [0.33145825],\n",
       "         [0.33145825],\n",
       "         [0.92562382],\n",
       "         [0.92562382],\n",
       "         [0.51642232],\n",
       "         [0.51642232],\n",
       "         [0.17950081],\n",
       "         [0.17950081],\n",
       "         [0.58509666],\n",
       "         [0.58509666],\n",
       "         [0.49310707],\n",
       "         [0.49310707],\n",
       "         [0.1544287 ],\n",
       "         [0.1544287 ],\n",
       "         [0.35961742],\n",
       "         [0.35961742],\n",
       "         [0.05738832],\n",
       "         [0.05738832],\n",
       "         [0.76610521],\n",
       "         [0.76610521],\n",
       "         [0.92657376],\n",
       "         [0.92657376],\n",
       "         [0.19743401],\n",
       "         [0.19743401],\n",
       "         [0.155183  ],\n",
       "         [0.155183  ]])}}"
      ]
     },
     "execution_count": 12,
     "metadata": {},
     "output_type": "execute_result"
    }
   ],
   "source": [
    "ds = load_by_id(run_id_a)\n",
    "ds.get_parameter_data('x1')"
   ]
  },
  {
   "cell_type": "code",
   "execution_count": null,
   "metadata": {},
   "outputs": [],
   "source": []
  }
 ],
 "metadata": {
  "kernelspec": {
   "display_name": "Python 3",
   "language": "python",
   "name": "python3"
  },
  "language_info": {
   "codemirror_mode": {
    "name": "ipython",
    "version": 3
   },
   "file_extension": ".py",
   "mimetype": "text/x-python",
   "name": "python",
   "nbconvert_exporter": "python",
   "pygments_lexer": "ipython3",
   "version": "3.7.7"
  },
  "nbsphinx": {
   "timeout": 600
  },
  "toc": {
   "base_numbering": 1,
   "nav_menu": {},
   "number_sections": true,
   "sideBar": true,
   "skip_h1_title": false,
   "title_cell": "Table of Contents",
   "title_sidebar": "Contents",
   "toc_cell": false,
   "toc_position": {},
   "toc_section_display": true,
   "toc_window_display": false
  },
  "varInspector": {
   "cols": {
    "lenName": 16,
    "lenType": 16,
    "lenVar": 40
   },
   "kernels_config": {
    "python": {
     "delete_cmd_postfix": "",
     "delete_cmd_prefix": "del ",
     "library": "var_list.py",
     "varRefreshCmd": "print(var_dic_list())"
    },
    "r": {
     "delete_cmd_postfix": ") ",
     "delete_cmd_prefix": "rm(",
     "library": "var_list.r",
     "varRefreshCmd": "cat(var_dic_list()) "
    }
   },
   "types_to_exclude": [
    "module",
    "function",
    "builtin_function_or_method",
    "instance",
    "_Feature"
   ],
   "window_display": false
  }
 },
 "nbformat": 4,
 "nbformat_minor": 2
}
