{
 "cells": [
  {
   "cell_type": "markdown",
   "metadata": {},
   "source": [
    "# DataSet Performance\n",
    "\n",
    "This notebook shows the trade-off between inserting data into a database row-by-row and as binary blobs. Inserting the data row-by-row means that we have direct access to all the data and may perform queries directly on the values of the data. On the other hand, as we shall see, this is much slower than inserting the data directly as binary blobs."
   ]
  },
  {
   "cell_type": "markdown",
   "metadata": {},
   "source": [
    "First, we choose a new location for the database to ensure that we don't add a bunch of benchmarking data to the default one."
   ]
  },
  {
   "cell_type": "code",
   "execution_count": 1,
   "metadata": {},
   "outputs": [
    {
     "name": "stdout",
     "output_type": "stream",
     "text": [
      "Logging hadn't been started.\n",
      "Activating auto-logging. Current session state plus future input saved.\n",
      "Filename       : /home/vsts/.qcodes/logs/command_history.log\n",
      "Mode           : append\n",
      "Output logging : True\n",
      "Raw input log  : False\n",
      "Timestamping   : True\n",
      "State          : active\n"
     ]
    },
    {
     "name": "stdout",
     "output_type": "stream",
     "text": [
      "Qcodes Logfile : /home/vsts/.qcodes/logs/200311-19537-qcodes.log\n"
     ]
    }
   ],
   "source": [
    "import os\n",
    "cwd = os.getcwd()\n",
    "import qcodes as qc\n",
    "qc.config[\"core\"][\"db_location\"] = os.path.join(cwd, 'testing.db')\n"
   ]
  },
  {
   "cell_type": "code",
   "execution_count": 2,
   "metadata": {},
   "outputs": [],
   "source": [
    "%matplotlib inline\n",
    "import time\n",
    "import matplotlib.pyplot as plt\n",
    "import numpy as np\n",
    "\n",
    "import qcodes as qc\n",
    "from qcodes.instrument.parameter import ManualParameter\n",
    "from qcodes.dataset.experiment_container import (Experiment,\n",
    "                                                 load_last_experiment,\n",
    "                                                 new_experiment)\n",
    "from qcodes.dataset.sqlite.database import initialise_database\n",
    "from qcodes import load_or_create_experiment\n",
    "from qcodes.dataset.measurements import Measurement"
   ]
  },
  {
   "cell_type": "code",
   "execution_count": 3,
   "metadata": {},
   "outputs": [
    {
     "name": "stdout",
     "output_type": "stream",
     "text": [
      "\r",
      "0it [00:00, ?it/s]"
     ]
    },
    {
     "name": "stdout",
     "output_type": "stream",
     "text": [
      "\r",
      "Upgrading database; v0 -> v1: : 0it [00:00, ?it/s]"
     ]
    },
    {
     "name": "stdout",
     "output_type": "stream",
     "text": [
      "\r",
      "Upgrading database; v0 -> v1: : 0it [00:00, ?it/s]"
     ]
    },
    {
     "name": "stdout",
     "output_type": "stream",
     "text": [
      "\n",
      "\r",
      "  0%|          | 0/1 [00:00<?, ?it/s]"
     ]
    },
    {
     "name": "stdout",
     "output_type": "stream",
     "text": [
      "\r",
      "Upgrading database; v1 -> v2:   0%|          | 0/1 [00:00<?, ?it/s]"
     ]
    },
    {
     "name": "stdout",
     "output_type": "stream",
     "text": [
      "\r",
      "Upgrading database; v1 -> v2: 100%|██████████| 1/1 [00:00<00:00, 982.96it/s]"
     ]
    },
    {
     "name": "stdout",
     "output_type": "stream",
     "text": [
      "\n",
      "\r",
      "0it [00:00, ?it/s]"
     ]
    },
    {
     "name": "stdout",
     "output_type": "stream",
     "text": [
      "\r",
      "Upgrading database; v2 -> v3: : 0it [00:00, ?it/s]"
     ]
    },
    {
     "name": "stdout",
     "output_type": "stream",
     "text": [
      "\r",
      "Upgrading database; v2 -> v3: : 0it [00:00, ?it/s]"
     ]
    },
    {
     "name": "stdout",
     "output_type": "stream",
     "text": [
      "\n",
      "\r",
      "0it [00:00, ?it/s]"
     ]
    },
    {
     "name": "stdout",
     "output_type": "stream",
     "text": [
      "\r",
      "Upgrading database; v3 -> v4: : 0it [00:00, ?it/s]"
     ]
    },
    {
     "name": "stdout",
     "output_type": "stream",
     "text": [
      "\r",
      "Upgrading database; v3 -> v4: : 0it [00:00, ?it/s]"
     ]
    },
    {
     "name": "stdout",
     "output_type": "stream",
     "text": [
      "\n",
      "\r",
      "  0%|          | 0/1 [00:00<?, ?it/s]"
     ]
    },
    {
     "name": "stdout",
     "output_type": "stream",
     "text": [
      "\r",
      "Upgrading database; v4 -> v5:   0%|          | 0/1 [00:00<?, ?it/s]"
     ]
    },
    {
     "name": "stdout",
     "output_type": "stream",
     "text": [
      "\r",
      "Upgrading database; v4 -> v5: 100%|██████████| 1/1 [00:00<00:00, 750.99it/s]"
     ]
    },
    {
     "name": "stdout",
     "output_type": "stream",
     "text": [
      "\n",
      "\r",
      "0it [00:00, ?it/s]"
     ]
    },
    {
     "name": "stdout",
     "output_type": "stream",
     "text": [
      "\r",
      "Upgrading database; v5 -> v6: : 0it [00:00, ?it/s]"
     ]
    },
    {
     "name": "stdout",
     "output_type": "stream",
     "text": [
      "\r",
      "Upgrading database; v5 -> v6: : 0it [00:00, ?it/s]"
     ]
    },
    {
     "name": "stdout",
     "output_type": "stream",
     "text": [
      "\n",
      "\r",
      "  0%|          | 0/1 [00:00<?, ?it/s]"
     ]
    },
    {
     "name": "stdout",
     "output_type": "stream",
     "text": [
      "\r",
      "Upgrading database; v6 -> v7:   0%|          | 0/1 [00:00<?, ?it/s]"
     ]
    },
    {
     "name": "stdout",
     "output_type": "stream",
     "text": [
      "\r",
      "Upgrading database; v6 -> v7: 100%|██████████| 1/1 [00:00<00:00, 365.55it/s]"
     ]
    },
    {
     "name": "stdout",
     "output_type": "stream",
     "text": [
      "\n",
      "\r",
      "  0%|          | 0/1 [00:00<?, ?it/s]"
     ]
    },
    {
     "name": "stdout",
     "output_type": "stream",
     "text": [
      "\r",
      "Upgrading database; v7 -> v8:   0%|          | 0/1 [00:00<?, ?it/s]"
     ]
    },
    {
     "name": "stdout",
     "output_type": "stream",
     "text": [
      "\r",
      "Upgrading database; v7 -> v8: 100%|██████████| 1/1 [00:00<00:00, 714.05it/s]"
     ]
    },
    {
     "name": "stdout",
     "output_type": "stream",
     "text": [
      "\n",
      "\r",
      "  0%|          | 0/1 [00:00<?, ?it/s]"
     ]
    },
    {
     "name": "stdout",
     "output_type": "stream",
     "text": [
      "\r",
      "Upgrading database; v8 -> v9:   0%|          | 0/1 [00:00<?, ?it/s]"
     ]
    },
    {
     "name": "stdout",
     "output_type": "stream",
     "text": [
      "\r",
      "Upgrading database; v8 -> v9: 100%|██████████| 1/1 [00:00<00:00, 1136.67it/s]"
     ]
    },
    {
     "name": "stdout",
     "output_type": "stream",
     "text": [
      "\n"
     ]
    }
   ],
   "source": [
    "initialise_database()\n",
    "exp = load_or_create_experiment(experiment_name='tutorial_exp', sample_name=\"no sample\")"
   ]
  },
  {
   "cell_type": "markdown",
   "metadata": {},
   "source": [
    "Here, we define a simple function to benchmark the time it takes to insert n points with either numeric or array data type.\n",
    "We will compare both the time used to call ``add_result`` and the time used for the full measurement."
   ]
  },
  {
   "cell_type": "code",
   "execution_count": 4,
   "metadata": {},
   "outputs": [],
   "source": [
    "def insert_data(paramtype, npoints, nreps=1):\n",
    "\n",
    "    meas = Measurement(exp=exp)\n",
    "\n",
    "    x1 = ManualParameter('x1')\n",
    "    x2 = ManualParameter('x2')\n",
    "    x3 = ManualParameter('x3')\n",
    "    y1 = ManualParameter('y1')\n",
    "    y2 = ManualParameter('y2')\n",
    "\n",
    "    meas.register_parameter(x1, paramtype=paramtype)\n",
    "    meas.register_parameter(x2, paramtype=paramtype)\n",
    "    meas.register_parameter(x3, paramtype=paramtype)\n",
    "    meas.register_parameter(y1, setpoints=[x1, x2, x3],\n",
    "                            paramtype=paramtype)\n",
    "    meas.register_parameter(y2, setpoints=[x1, x2, x3],\n",
    "                            paramtype=paramtype)\n",
    "    start = time.perf_counter()\n",
    "    with meas.run() as datasaver:\n",
    "        start_adding = time.perf_counter()\n",
    "        for i in range(nreps):\n",
    "            datasaver.add_result((x1, np.random.rand(npoints)),\n",
    "                                 (x2, np.random.rand(npoints)),\n",
    "                                 (x3, np.random.rand(npoints)),\n",
    "                                 (y1, np.random.rand(npoints)),\n",
    "                                 (y2, np.random.rand(npoints)))\n",
    "        stop_adding = time.perf_counter()\n",
    "        run_id = datasaver.run_id\n",
    "    stop = time.perf_counter()\n",
    "    tot_time = stop - start\n",
    "    add_time = stop_adding - start_adding\n",
    "    return tot_time, add_time, run_id"
   ]
  },
  {
   "cell_type": "markdown",
   "metadata": {},
   "source": [
    "## Comparison between numeric/array data and binary blob"
   ]
  },
  {
   "cell_type": "markdown",
   "metadata": {},
   "source": [
    "### Case1: Short experiment time"
   ]
  },
  {
   "cell_type": "code",
   "execution_count": 5,
   "metadata": {},
   "outputs": [
    {
     "name": "stdout",
     "output_type": "stream",
     "text": [
      "Starting experimental run with id: 1. \n",
      "Starting experimental run with id: 2. \n",
      "Starting experimental run with id: 3. \n"
     ]
    },
    {
     "name": "stdout",
     "output_type": "stream",
     "text": [
      "Starting experimental run with id: 4. \n"
     ]
    },
    {
     "name": "stdout",
     "output_type": "stream",
     "text": [
      "Starting experimental run with id: 5. \n"
     ]
    },
    {
     "name": "stdout",
     "output_type": "stream",
     "text": [
      "Starting experimental run with id: 6. \n"
     ]
    },
    {
     "name": "stdout",
     "output_type": "stream",
     "text": [
      "Starting experimental run with id: 7. \n"
     ]
    },
    {
     "name": "stdout",
     "output_type": "stream",
     "text": [
      "Starting experimental run with id: 8. \n",
      "Starting experimental run with id: 9. \n"
     ]
    },
    {
     "name": "stdout",
     "output_type": "stream",
     "text": [
      "Starting experimental run with id: 10. \n",
      "Starting experimental run with id: 11. \n"
     ]
    },
    {
     "name": "stdout",
     "output_type": "stream",
     "text": [
      "Starting experimental run with id: 12. \n"
     ]
    },
    {
     "name": "stdout",
     "output_type": "stream",
     "text": [
      "Starting experimental run with id: 13. \n"
     ]
    },
    {
     "name": "stdout",
     "output_type": "stream",
     "text": [
      "Starting experimental run with id: 14. \n"
     ]
    }
   ],
   "source": [
    "sizes = [1,500,1000,2000,3000,4000,5000]\n",
    "t_numeric = []\n",
    "t_numeric_add = []\n",
    "t_array = []\n",
    "t_array_add = []\n",
    "for size in sizes:\n",
    "    tn, tna, run_id_n =  insert_data('numeric', size)\n",
    "    t_numeric.append(tn)\n",
    "    t_numeric_add.append(tna)\n",
    "\n",
    "    ta, taa, run_id_a =  insert_data('array', size)\n",
    "    t_array.append(ta)\n",
    "    t_array_add.append(taa)"
   ]
  },
  {
   "cell_type": "code",
   "execution_count": 6,
   "metadata": {},
   "outputs": [
    {
     "data": {
      "image/png": "[encoded data removed]",
      "text/plain": [
       "<Figure size 432x288 with 1 Axes>"
      ]
     },
     "metadata": {
      "needs_background": "light"
     },
     "output_type": "display_data"
    }
   ],
   "source": [
    "fig, ax = plt.subplots(1,1)\n",
    "ax.plot(sizes, t_numeric, 'o-', label='Inserting row-by-row')\n",
    "ax.plot(sizes, t_numeric_add, 'o-', label='Inserting row-by-row: add_result only')\n",
    "ax.plot(sizes, t_array, 'd-', label='Inserting as binary blob')\n",
    "ax.plot(sizes, t_array_add, 'd-', label='Inserting as binary blob: add_result only')\n",
    "ax.legend()\n",
    "ax.set_xlabel('Array length')\n",
    "ax.set_ylabel('Time (s)')\n",
    "fig.tight_layout()"
   ]
  },
  {
   "cell_type": "markdown",
   "metadata": {},
   "source": [
    "As shown in the latter figure, the time to setup and and close the experiment is approximately 0.4 sec. In case of small array sizes, the difference between inserting values of data as arrays and inserting them row-by-row is relatively unimportant. At larger array sizes, i.e. above 10000 points, the cost of writing data as individual datapoints starts to become important.\n"
   ]
  },
  {
   "cell_type": "markdown",
   "metadata": {},
   "source": [
    "### Case2: Long experiment time "
   ]
  },
  {
   "cell_type": "code",
   "execution_count": 7,
   "metadata": {},
   "outputs": [
    {
     "name": "stdout",
     "output_type": "stream",
     "text": [
      "Starting experimental run with id: 15. \n",
      "Starting experimental run with id: 16. \n",
      "Starting experimental run with id: 17. \n"
     ]
    },
    {
     "name": "stdout",
     "output_type": "stream",
     "text": [
      "Starting experimental run with id: 18. \n",
      "Starting experimental run with id: 19. \n"
     ]
    },
    {
     "name": "stdout",
     "output_type": "stream",
     "text": [
      "Starting experimental run with id: 20. \n"
     ]
    },
    {
     "name": "stdout",
     "output_type": "stream",
     "text": [
      "Starting experimental run with id: 21. \n"
     ]
    },
    {
     "name": "stdout",
     "output_type": "stream",
     "text": [
      "Starting experimental run with id: 22. \n"
     ]
    },
    {
     "name": "stdout",
     "output_type": "stream",
     "text": [
      "Starting experimental run with id: 23. \n"
     ]
    },
    {
     "name": "stdout",
     "output_type": "stream",
     "text": [
      "Starting experimental run with id: 24. \n"
     ]
    },
    {
     "name": "stdout",
     "output_type": "stream",
     "text": [
      "Starting experimental run with id: 25. \n"
     ]
    },
    {
     "name": "stdout",
     "output_type": "stream",
     "text": [
      "Starting experimental run with id: 26. \n"
     ]
    },
    {
     "name": "stdout",
     "output_type": "stream",
     "text": [
      "Starting experimental run with id: 27. \n"
     ]
    },
    {
     "name": "stdout",
     "output_type": "stream",
     "text": [
      "Starting experimental run with id: 28. \n"
     ]
    }
   ],
   "source": [
    "sizes = [1,500,1000,2000,3000,4000,5000]\n",
    "nreps = 100\n",
    "t_numeric = []\n",
    "t_numeric_add = []\n",
    "t_numeric_run_ids = []\n",
    "t_array = []\n",
    "t_array_add = []\n",
    "t_array_run_ids = []\n",
    "for size in sizes:\n",
    "    tn, tna, run_id_n =  insert_data('numeric', size, nreps=nreps)\n",
    "    t_numeric.append(tn)\n",
    "    t_numeric_add.append(tna)\n",
    "    t_numeric_run_ids.append(run_id_n)\n",
    "\n",
    "    ta, taa, run_id_a =  insert_data('array', size, nreps=nreps)\n",
    "    t_array.append(ta)\n",
    "    t_array_add.append(taa)\n",
    "    t_array_run_ids.append(run_id_a)"
   ]
  },
  {
   "cell_type": "code",
   "execution_count": 8,
   "metadata": {
    "scrolled": true
   },
   "outputs": [
    {
     "data": {
      "image/png": "[encoded data removed]",
      "text/plain": [
       "<Figure size 432x288 with 1 Axes>"
      ]
     },
     "metadata": {
      "needs_background": "light"
     },
     "output_type": "display_data"
    }
   ],
   "source": [
    "fig, ax = plt.subplots(1,1)\n",
    "ax.plot(sizes, t_numeric, 'o-', label='Inserting row-by-row')\n",
    "ax.plot(sizes, t_numeric_add, 'o-', label='Inserting row-by-row: add_result only')\n",
    "ax.plot(sizes, t_array, 'd-', label='Inserting as binary blob')\n",
    "ax.plot(sizes, t_array_add, 'd-', label='Inserting as binary blob: add_result only')\n",
    "ax.legend()\n",
    "ax.set_xlabel('Array length')\n",
    "ax.set_ylabel('Time (s)')\n",
    "fig.tight_layout()"
   ]
  },
  {
   "cell_type": "markdown",
   "metadata": {},
   "source": [
    "However, as we increase the length of the experiment, as seen here by repeating the insertion 100 times, we see a big difference between inserting values of the data row-by-row and inserting it as a binary blob."
   ]
  },
  {
   "cell_type": "markdown",
   "metadata": {},
   "source": [
    "## Loading the data "
   ]
  },
  {
   "cell_type": "code",
   "execution_count": 9,
   "metadata": {},
   "outputs": [],
   "source": [
    "from qcodes.dataset.data_set import load_by_id\n",
    "from qcodes.dataset.data_export import get_data_by_id"
   ]
  },
  {
   "cell_type": "markdown",
   "metadata": {},
   "source": [
    "As usual you can load the data by using the ``load_by_id`` function but you will notice that the different storage methods\n",
    "are reflected in shape of the data as it is retrieved. "
   ]
  },
  {
   "cell_type": "code",
   "execution_count": 10,
   "metadata": {},
   "outputs": [],
   "source": [
    "run_id_n = t_numeric_run_ids[0]\n",
    "run_id_a = t_array_run_ids[0]"
   ]
  },
  {
   "cell_type": "code",
   "execution_count": 11,
   "metadata": {
    "scrolled": true
   },
   "outputs": [
    {
     "data": {
      "text/plain": [
       "{'x1': {'x1': array([0.65593323, 0.65593323, 0.06558294, 0.06558294, 0.58593976,\n",
       "         0.58593976, 0.83199875, 0.83199875, 0.35606812, 0.35606812,\n",
       "         0.32993634, 0.32993634, 0.82482184, 0.82482184, 0.98772624,\n",
       "         0.98772624, 0.1454128 , 0.1454128 , 0.94635464, 0.94635464,\n",
       "         0.17058905, 0.17058905, 0.39467272, 0.39467272, 0.07457339,\n",
       "         0.07457339, 0.74425293, 0.74425293, 0.64615252, 0.64615252,\n",
       "         0.31868561, 0.31868561, 0.93134265, 0.93134265, 0.01381005,\n",
       "         0.01381005, 0.96943516, 0.96943516, 0.69560418, 0.69560418,\n",
       "         0.99250122, 0.99250122, 0.66262801, 0.66262801, 0.21748303,\n",
       "         0.21748303, 0.83795716, 0.83795716, 0.17957568, 0.17957568,\n",
       "         0.5845443 , 0.5845443 , 0.69849045, 0.69849045, 0.2089234 ,\n",
       "         0.2089234 , 0.39836741, 0.39836741, 0.3457482 , 0.3457482 ,\n",
       "         0.72317623, 0.72317623, 0.02760172, 0.02760172, 0.64517218,\n",
       "         0.64517218, 0.15189584, 0.15189584, 0.51185782, 0.51185782,\n",
       "         0.43092457, 0.43092457, 0.0851807 , 0.0851807 , 0.38548798,\n",
       "         0.38548798, 0.11664085, 0.11664085, 0.55934016, 0.55934016,\n",
       "         0.45218462, 0.45218462, 0.99034703, 0.99034703, 0.99168989,\n",
       "         0.99168989, 0.72623273, 0.72623273, 0.67992443, 0.67992443,\n",
       "         0.35024493, 0.35024493, 0.87544653, 0.87544653, 0.36987048,\n",
       "         0.36987048, 0.63581041, 0.63581041, 0.71737682, 0.71737682,\n",
       "         0.22926378, 0.22926378, 0.80548768, 0.80548768, 0.95991095,\n",
       "         0.95991095, 0.11547526, 0.11547526, 0.77502824, 0.77502824,\n",
       "         0.55257707, 0.55257707, 0.64625723, 0.64625723, 0.89340234,\n",
       "         0.89340234, 0.33371513, 0.33371513, 0.16473928, 0.16473928,\n",
       "         0.13812401, 0.13812401, 0.67583535, 0.67583535, 0.03402658,\n",
       "         0.03402658, 0.57573857, 0.57573857, 0.8553604 , 0.8553604 ,\n",
       "         0.4511254 , 0.4511254 , 0.85550039, 0.85550039, 0.99565963,\n",
       "         0.99565963, 0.55960877, 0.55960877, 0.29757635, 0.29757635,\n",
       "         0.12007313, 0.12007313, 0.33651592, 0.33651592, 0.17991877,\n",
       "         0.17991877, 0.39564423, 0.39564423, 0.37640962, 0.37640962,\n",
       "         0.0740777 , 0.0740777 , 0.93073995, 0.93073995, 0.62168356,\n",
       "         0.62168356, 0.90727683, 0.90727683, 0.42455824, 0.42455824,\n",
       "         0.71582199, 0.71582199, 0.11447711, 0.11447711, 0.47690444,\n",
       "         0.47690444, 0.75769643, 0.75769643, 0.30726012, 0.30726012,\n",
       "         0.14972989, 0.14972989, 0.79703164, 0.79703164, 0.36891536,\n",
       "         0.36891536, 0.11322665, 0.11322665, 0.8538917 , 0.8538917 ,\n",
       "         0.19189907, 0.19189907, 0.49759002, 0.49759002, 0.68904764,\n",
       "         0.68904764, 0.57539855, 0.57539855, 0.44323774, 0.44323774,\n",
       "         0.17464159, 0.17464159, 0.75464058, 0.75464058, 0.00386423,\n",
       "         0.00386423, 0.58604606, 0.58604606, 0.47547993, 0.47547993])}}"
      ]
     },
     "execution_count": 11,
     "metadata": {},
     "output_type": "execute_result"
    }
   ],
   "source": [
    "ds = load_by_id(run_id_n)\n",
    "ds.get_parameter_data('x1')"
   ]
  },
  {
   "cell_type": "markdown",
   "metadata": {},
   "source": [
    "And a dataset stored as binary arrays"
   ]
  },
  {
   "cell_type": "code",
   "execution_count": 12,
   "metadata": {
    "scrolled": true
   },
   "outputs": [
    {
     "data": {
      "text/plain": [
       "{'x1': {'x1': array([[0.26378519],\n",
       "         [0.26378519],\n",
       "         [0.24250762],\n",
       "         [0.24250762],\n",
       "         [0.02416126],\n",
       "         [0.02416126],\n",
       "         [0.25635376],\n",
       "         [0.25635376],\n",
       "         [0.8709721 ],\n",
       "         [0.8709721 ],\n",
       "         [0.27264629],\n",
       "         [0.27264629],\n",
       "         [0.06512148],\n",
       "         [0.06512148],\n",
       "         [0.43118842],\n",
       "         [0.43118842],\n",
       "         [0.73434429],\n",
       "         [0.73434429],\n",
       "         [0.04625107],\n",
       "         [0.04625107],\n",
       "         [0.77614775],\n",
       "         [0.77614775],\n",
       "         [0.73740694],\n",
       "         [0.73740694],\n",
       "         [0.59819111],\n",
       "         [0.59819111],\n",
       "         [0.46954492],\n",
       "         [0.46954492],\n",
       "         [0.64065373],\n",
       "         [0.64065373],\n",
       "         [0.61480476],\n",
       "         [0.61480476],\n",
       "         [0.77008094],\n",
       "         [0.77008094],\n",
       "         [0.70018922],\n",
       "         [0.70018922],\n",
       "         [0.34376365],\n",
       "         [0.34376365],\n",
       "         [0.24561134],\n",
       "         [0.24561134],\n",
       "         [0.24875125],\n",
       "         [0.24875125],\n",
       "         [0.37192552],\n",
       "         [0.37192552],\n",
       "         [0.50880122],\n",
       "         [0.50880122],\n",
       "         [0.96991661],\n",
       "         [0.96991661],\n",
       "         [0.46880683],\n",
       "         [0.46880683],\n",
       "         [0.73955608],\n",
       "         [0.73955608],\n",
       "         [0.87919728],\n",
       "         [0.87919728],\n",
       "         [0.64345606],\n",
       "         [0.64345606],\n",
       "         [0.5214731 ],\n",
       "         [0.5214731 ],\n",
       "         [0.56027659],\n",
       "         [0.56027659],\n",
       "         [0.30011388],\n",
       "         [0.30011388],\n",
       "         [0.40021022],\n",
       "         [0.40021022],\n",
       "         [0.62225755],\n",
       "         [0.62225755],\n",
       "         [0.46751568],\n",
       "         [0.46751568],\n",
       "         [0.1109144 ],\n",
       "         [0.1109144 ],\n",
       "         [0.06821098],\n",
       "         [0.06821098],\n",
       "         [0.39423165],\n",
       "         [0.39423165],\n",
       "         [0.99119559],\n",
       "         [0.99119559],\n",
       "         [0.18553853],\n",
       "         [0.18553853],\n",
       "         [0.85406236],\n",
       "         [0.85406236],\n",
       "         [0.20652789],\n",
       "         [0.20652789],\n",
       "         [0.55252715],\n",
       "         [0.55252715],\n",
       "         [0.4632281 ],\n",
       "         [0.4632281 ],\n",
       "         [0.99679103],\n",
       "         [0.99679103],\n",
       "         [0.41696427],\n",
       "         [0.41696427],\n",
       "         [0.09077114],\n",
       "         [0.09077114],\n",
       "         [0.55332371],\n",
       "         [0.55332371],\n",
       "         [0.22411162],\n",
       "         [0.22411162],\n",
       "         [0.25895339],\n",
       "         [0.25895339],\n",
       "         [0.11158225],\n",
       "         [0.11158225],\n",
       "         [0.3793809 ],\n",
       "         [0.3793809 ],\n",
       "         [0.82418403],\n",
       "         [0.82418403],\n",
       "         [0.53881908],\n",
       "         [0.53881908],\n",
       "         [0.32762246],\n",
       "         [0.32762246],\n",
       "         [0.42644521],\n",
       "         [0.42644521],\n",
       "         [0.94015474],\n",
       "         [0.94015474],\n",
       "         [0.4202419 ],\n",
       "         [0.4202419 ],\n",
       "         [0.38616611],\n",
       "         [0.38616611],\n",
       "         [0.50680393],\n",
       "         [0.50680393],\n",
       "         [0.99548662],\n",
       "         [0.99548662],\n",
       "         [0.74551129],\n",
       "         [0.74551129],\n",
       "         [0.80783476],\n",
       "         [0.80783476],\n",
       "         [0.39250278],\n",
       "         [0.39250278],\n",
       "         [0.38024626],\n",
       "         [0.38024626],\n",
       "         [0.2253497 ],\n",
       "         [0.2253497 ],\n",
       "         [0.6597601 ],\n",
       "         [0.6597601 ],\n",
       "         [0.86879397],\n",
       "         [0.86879397],\n",
       "         [0.23038753],\n",
       "         [0.23038753],\n",
       "         [0.18911788],\n",
       "         [0.18911788],\n",
       "         [0.0622174 ],\n",
       "         [0.0622174 ],\n",
       "         [0.4864251 ],\n",
       "         [0.4864251 ],\n",
       "         [0.0352401 ],\n",
       "         [0.0352401 ],\n",
       "         [0.56247971],\n",
       "         [0.56247971],\n",
       "         [0.43290227],\n",
       "         [0.43290227],\n",
       "         [0.02370283],\n",
       "         [0.02370283],\n",
       "         [0.95569856],\n",
       "         [0.95569856],\n",
       "         [0.78904376],\n",
       "         [0.78904376],\n",
       "         [0.09582301],\n",
       "         [0.09582301],\n",
       "         [0.68379589],\n",
       "         [0.68379589],\n",
       "         [0.17367474],\n",
       "         [0.17367474],\n",
       "         [0.02626183],\n",
       "         [0.02626183],\n",
       "         [0.10169431],\n",
       "         [0.10169431],\n",
       "         [0.30475983],\n",
       "         [0.30475983],\n",
       "         [0.97332951],\n",
       "         [0.97332951],\n",
       "         [0.55603077],\n",
       "         [0.55603077],\n",
       "         [0.63846418],\n",
       "         [0.63846418],\n",
       "         [0.4679913 ],\n",
       "         [0.4679913 ],\n",
       "         [0.35068229],\n",
       "         [0.35068229],\n",
       "         [0.10180132],\n",
       "         [0.10180132],\n",
       "         [0.85754573],\n",
       "         [0.85754573],\n",
       "         [0.61300112],\n",
       "         [0.61300112],\n",
       "         [0.74398559],\n",
       "         [0.74398559],\n",
       "         [0.67689109],\n",
       "         [0.67689109],\n",
       "         [0.4597781 ],\n",
       "         [0.4597781 ],\n",
       "         [0.81621569],\n",
       "         [0.81621569],\n",
       "         [0.49000995],\n",
       "         [0.49000995],\n",
       "         [0.95699381],\n",
       "         [0.95699381],\n",
       "         [0.52917747],\n",
       "         [0.52917747],\n",
       "         [0.137545  ],\n",
       "         [0.137545  ],\n",
       "         [0.48493108],\n",
       "         [0.48493108]])}}"
      ]
     },
     "execution_count": 12,
     "metadata": {},
     "output_type": "execute_result"
    }
   ],
   "source": [
    "ds = load_by_id(run_id_a)\n",
    "ds.get_parameter_data('x1')"
   ]
  },
  {
   "cell_type": "code",
   "execution_count": null,
   "metadata": {},
   "outputs": [],
   "source": []
  }
 ],
 "metadata": {
  "kernelspec": {
   "display_name": "Python 3",
   "language": "python",
   "name": "python3"
  },
  "language_info": {
   "codemirror_mode": {
    "name": "ipython",
    "version": 3
   },
   "file_extension": ".py",
   "mimetype": "text/x-python",
   "name": "python",
   "nbconvert_exporter": "python",
   "pygments_lexer": "ipython3",
   "version": "3.7.5"
  },
  "nbsphinx": {
   "timeout": 600
  },
  "toc": {
   "base_numbering": 1,
   "nav_menu": {},
   "number_sections": true,
   "sideBar": true,
   "skip_h1_title": false,
   "title_cell": "Table of Contents",
   "title_sidebar": "Contents",
   "toc_cell": false,
   "toc_position": {},
   "toc_section_display": true,
   "toc_window_display": false
  },
  "varInspector": {
   "cols": {
    "lenName": 16,
    "lenType": 16,
    "lenVar": 40
   },
   "kernels_config": {
    "python": {
     "delete_cmd_postfix": "",
     "delete_cmd_prefix": "del ",
     "library": "var_list.py",
     "varRefreshCmd": "print(var_dic_list())"
    },
    "r": {
     "delete_cmd_postfix": ") ",
     "delete_cmd_prefix": "rm(",
     "library": "var_list.r",
     "varRefreshCmd": "cat(var_dic_list()) "
    }
   },
   "types_to_exclude": [
    "module",
    "function",
    "builtin_function_or_method",
    "instance",
    "_Feature"
   ],
   "window_display": false
  }
 },
 "nbformat": 4,
 "nbformat_minor": 2
}
