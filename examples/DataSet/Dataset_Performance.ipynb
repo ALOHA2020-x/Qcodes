{
 "cells": [
  {
   "cell_type": "markdown",
   "metadata": {},
   "source": [
    "# DataSet Performance\n",
    "\n",
    "This notebook shows the trade-off between inserting data into a database row-by-row and as binary blobs. Inserting the data row-by-row means that we have direct access to all the data and may perform queries directly on the values of the data. On the other hand, as we shall see, this is much slower than inserting the data directly as binary blobs."
   ]
  },
  {
   "cell_type": "markdown",
   "metadata": {},
   "source": [
    "First, we choose a new location for the database to ensure that we don't add a bunch of benchmarking data to the default one."
   ]
  },
  {
   "cell_type": "code",
   "execution_count": 1,
   "metadata": {
    "execution": {
     "iopub.execute_input": "2020-11-12T12:50:43.526579Z",
     "iopub.status.busy": "2020-11-12T12:50:43.525938Z",
     "iopub.status.idle": "2020-11-12T12:50:44.615682Z",
     "shell.execute_reply": "2020-11-12T12:50:44.614219Z"
    }
   },
   "outputs": [
    {
     "name": "stdout",
     "output_type": "stream",
     "text": [
      "Logging hadn't been started.\n",
      "Activating auto-logging. Current session state plus future input saved.\n",
      "Filename       : /home/vsts/.qcodes/logs/command_history.log\n",
      "Mode           : append\n",
      "Output logging : True\n",
      "Raw input log  : False\n",
      "Timestamping   : True\n",
      "State          : active\n"
     ]
    },
    {
     "name": "stdout",
     "output_type": "stream",
     "text": [
      "Qcodes Logfile : /home/vsts/.qcodes/logs/201112-14529-qcodes.log\n"
     ]
    }
   ],
   "source": [
    "import os\n",
    "cwd = os.getcwd()\n",
    "import qcodes as qc\n",
    "qc.config[\"core\"][\"db_location\"] = os.path.join(cwd, 'testing.db')\n"
   ]
  },
  {
   "cell_type": "code",
   "execution_count": 2,
   "metadata": {
    "execution": {
     "iopub.execute_input": "2020-11-12T12:50:44.623859Z",
     "iopub.status.busy": "2020-11-12T12:50:44.623155Z",
     "iopub.status.idle": "2020-11-12T12:50:44.825206Z",
     "shell.execute_reply": "2020-11-12T12:50:44.824163Z"
    }
   },
   "outputs": [],
   "source": [
    "%matplotlib inline\n",
    "import time\n",
    "import matplotlib.pyplot as plt\n",
    "import numpy as np\n",
    "\n",
    "import qcodes as qc\n",
    "from qcodes.instrument.parameter import ManualParameter\n",
    "from qcodes.dataset.experiment_container import (Experiment,\n",
    "                                                 load_last_experiment,\n",
    "                                                 new_experiment)\n",
    "from qcodes.dataset.sqlite.database import initialise_database\n",
    "from qcodes import load_or_create_experiment\n",
    "from qcodes.dataset.measurements import Measurement"
   ]
  },
  {
   "cell_type": "code",
   "execution_count": 3,
   "metadata": {
    "execution": {
     "iopub.execute_input": "2020-11-12T12:50:44.830715Z",
     "iopub.status.busy": "2020-11-12T12:50:44.829693Z",
     "iopub.status.idle": "2020-11-12T12:50:44.934480Z",
     "shell.execute_reply": "2020-11-12T12:50:44.933746Z"
    }
   },
   "outputs": [
    {
     "name": "stdout",
     "output_type": "stream",
     "text": [
      "\r",
      "0it [00:00, ?it/s]"
     ]
    },
    {
     "name": "stdout",
     "output_type": "stream",
     "text": [
      "\r",
      "Upgrading database; v0 -> v1: : 0it [00:00, ?it/s]"
     ]
    },
    {
     "name": "stdout",
     "output_type": "stream",
     "text": [
      "\r",
      "Upgrading database; v0 -> v1: : 0it [00:00, ?it/s]"
     ]
    },
    {
     "name": "stdout",
     "output_type": "stream",
     "text": [
      "\n",
      "\r",
      "  0%|          | 0/1 [00:00<?, ?it/s]"
     ]
    },
    {
     "name": "stdout",
     "output_type": "stream",
     "text": [
      "\r",
      "Upgrading database; v1 -> v2:   0%|          | 0/1 [00:00<?, ?it/s]"
     ]
    },
    {
     "name": "stdout",
     "output_type": "stream",
     "text": [
      "\r",
      "Upgrading database; v1 -> v2: 100%|██████████| 1/1 [00:00<00:00, 654.03it/s]"
     ]
    },
    {
     "name": "stdout",
     "output_type": "stream",
     "text": [
      "\n",
      "\r",
      "0it [00:00, ?it/s]"
     ]
    },
    {
     "name": "stdout",
     "output_type": "stream",
     "text": [
      "\r",
      "Upgrading database; v2 -> v3: : 0it [00:00, ?it/s]"
     ]
    },
    {
     "name": "stdout",
     "output_type": "stream",
     "text": [
      "\r",
      "Upgrading database; v2 -> v3: : 0it [00:00, ?it/s]"
     ]
    },
    {
     "name": "stdout",
     "output_type": "stream",
     "text": [
      "\n",
      "\r",
      "0it [00:00, ?it/s]"
     ]
    },
    {
     "name": "stdout",
     "output_type": "stream",
     "text": [
      "\r",
      "Upgrading database; v3 -> v4: : 0it [00:00, ?it/s]"
     ]
    },
    {
     "name": "stdout",
     "output_type": "stream",
     "text": [
      "\r",
      "Upgrading database; v3 -> v4: : 0it [00:00, ?it/s]"
     ]
    },
    {
     "name": "stdout",
     "output_type": "stream",
     "text": [
      "\n",
      "\r",
      "  0%|          | 0/1 [00:00<?, ?it/s]"
     ]
    },
    {
     "name": "stdout",
     "output_type": "stream",
     "text": [
      "\r",
      "Upgrading database; v4 -> v5:   0%|          | 0/1 [00:00<?, ?it/s]"
     ]
    },
    {
     "name": "stdout",
     "output_type": "stream",
     "text": [
      "\r",
      "Upgrading database; v4 -> v5: 100%|██████████| 1/1 [00:00<00:00, 1022.25it/s]"
     ]
    },
    {
     "name": "stdout",
     "output_type": "stream",
     "text": [
      "\n",
      "\r",
      "0it [00:00, ?it/s]"
     ]
    },
    {
     "name": "stdout",
     "output_type": "stream",
     "text": [
      "\r",
      "Upgrading database; v5 -> v6: : 0it [00:00, ?it/s]"
     ]
    },
    {
     "name": "stdout",
     "output_type": "stream",
     "text": [
      "\r",
      "Upgrading database; v5 -> v6: : 0it [00:00, ?it/s]"
     ]
    },
    {
     "name": "stdout",
     "output_type": "stream",
     "text": [
      "\n",
      "\r",
      "  0%|          | 0/1 [00:00<?, ?it/s]"
     ]
    },
    {
     "name": "stdout",
     "output_type": "stream",
     "text": [
      "\r",
      "Upgrading database; v6 -> v7:   0%|          | 0/1 [00:00<?, ?it/s]"
     ]
    },
    {
     "name": "stdout",
     "output_type": "stream",
     "text": [
      "\r",
      "Upgrading database; v6 -> v7: 100%|██████████| 1/1 [00:00<00:00, 442.02it/s]"
     ]
    },
    {
     "name": "stdout",
     "output_type": "stream",
     "text": [
      "\n",
      "\r",
      "  0%|          | 0/1 [00:00<?, ?it/s]"
     ]
    },
    {
     "name": "stdout",
     "output_type": "stream",
     "text": [
      "\r",
      "Upgrading database; v7 -> v8:   0%|          | 0/1 [00:00<?, ?it/s]"
     ]
    },
    {
     "name": "stdout",
     "output_type": "stream",
     "text": [
      "\r",
      "Upgrading database; v7 -> v8: 100%|██████████| 1/1 [00:00<00:00, 841.72it/s]"
     ]
    },
    {
     "name": "stdout",
     "output_type": "stream",
     "text": [
      "\n",
      "\r",
      "  0%|          | 0/1 [00:00<?, ?it/s]"
     ]
    },
    {
     "name": "stdout",
     "output_type": "stream",
     "text": [
      "\r",
      "Upgrading database; v8 -> v9:   0%|          | 0/1 [00:00<?, ?it/s]"
     ]
    },
    {
     "name": "stdout",
     "output_type": "stream",
     "text": [
      "\r",
      "Upgrading database; v8 -> v9: 100%|██████████| 1/1 [00:00<00:00, 980.21it/s]"
     ]
    },
    {
     "name": "stdout",
     "output_type": "stream",
     "text": [
      "\n"
     ]
    }
   ],
   "source": [
    "initialise_database()\n",
    "exp = load_or_create_experiment(experiment_name='tutorial_exp', sample_name=\"no sample\")"
   ]
  },
  {
   "cell_type": "markdown",
   "metadata": {},
   "source": [
    "Here, we define a simple function to benchmark the time it takes to insert n points with either numeric or array data type.\n",
    "We will compare both the time used to call ``add_result`` and the time used for the full measurement."
   ]
  },
  {
   "cell_type": "code",
   "execution_count": 4,
   "metadata": {
    "execution": {
     "iopub.execute_input": "2020-11-12T12:50:44.943995Z",
     "iopub.status.busy": "2020-11-12T12:50:44.942752Z",
     "iopub.status.idle": "2020-11-12T12:50:44.944633Z",
     "shell.execute_reply": "2020-11-12T12:50:44.945097Z"
    }
   },
   "outputs": [],
   "source": [
    "def insert_data(paramtype, npoints, nreps=1):\n",
    "\n",
    "    meas = Measurement(exp=exp)\n",
    "\n",
    "    x1 = ManualParameter('x1')\n",
    "    x2 = ManualParameter('x2')\n",
    "    x3 = ManualParameter('x3')\n",
    "    y1 = ManualParameter('y1')\n",
    "    y2 = ManualParameter('y2')\n",
    "\n",
    "    meas.register_parameter(x1, paramtype=paramtype)\n",
    "    meas.register_parameter(x2, paramtype=paramtype)\n",
    "    meas.register_parameter(x3, paramtype=paramtype)\n",
    "    meas.register_parameter(y1, setpoints=[x1, x2, x3],\n",
    "                            paramtype=paramtype)\n",
    "    meas.register_parameter(y2, setpoints=[x1, x2, x3],\n",
    "                            paramtype=paramtype)\n",
    "    start = time.perf_counter()\n",
    "    with meas.run() as datasaver:\n",
    "        start_adding = time.perf_counter()\n",
    "        for i in range(nreps):\n",
    "            datasaver.add_result((x1, np.random.rand(npoints)),\n",
    "                                 (x2, np.random.rand(npoints)),\n",
    "                                 (x3, np.random.rand(npoints)),\n",
    "                                 (y1, np.random.rand(npoints)),\n",
    "                                 (y2, np.random.rand(npoints)))\n",
    "        stop_adding = time.perf_counter()\n",
    "        run_id = datasaver.run_id\n",
    "    stop = time.perf_counter()\n",
    "    tot_time = stop - start\n",
    "    add_time = stop_adding - start_adding\n",
    "    return tot_time, add_time, run_id"
   ]
  },
  {
   "cell_type": "markdown",
   "metadata": {},
   "source": [
    "## Comparison between numeric/array data and binary blob"
   ]
  },
  {
   "cell_type": "markdown",
   "metadata": {},
   "source": [
    "### Case1: Short experiment time"
   ]
  },
  {
   "cell_type": "code",
   "execution_count": 5,
   "metadata": {
    "execution": {
     "iopub.execute_input": "2020-11-12T12:50:44.952015Z",
     "iopub.status.busy": "2020-11-12T12:50:44.951326Z",
     "iopub.status.idle": "2020-11-12T12:50:45.800018Z",
     "shell.execute_reply": "2020-11-12T12:50:45.799490Z"
    }
   },
   "outputs": [
    {
     "name": "stdout",
     "output_type": "stream",
     "text": [
      "Starting experimental run with id: 1. \n",
      "Starting experimental run with id: 2. \n",
      "Starting experimental run with id: 3. \n",
      "Starting experimental run with id: 4. \n",
      "Starting experimental run with id: 5. \n"
     ]
    },
    {
     "name": "stdout",
     "output_type": "stream",
     "text": [
      "Starting experimental run with id: 6. \n"
     ]
    },
    {
     "name": "stdout",
     "output_type": "stream",
     "text": [
      "Starting experimental run with id: 7. \n"
     ]
    },
    {
     "name": "stdout",
     "output_type": "stream",
     "text": [
      "Starting experimental run with id: 8. \n",
      "Starting experimental run with id: 9. \n"
     ]
    },
    {
     "name": "stdout",
     "output_type": "stream",
     "text": [
      "Starting experimental run with id: 10. \n",
      "Starting experimental run with id: 11. \n"
     ]
    },
    {
     "name": "stdout",
     "output_type": "stream",
     "text": [
      "Starting experimental run with id: 12. \n"
     ]
    },
    {
     "name": "stdout",
     "output_type": "stream",
     "text": [
      "Starting experimental run with id: 13. \n"
     ]
    },
    {
     "name": "stdout",
     "output_type": "stream",
     "text": [
      "Starting experimental run with id: 14. \n"
     ]
    }
   ],
   "source": [
    "sizes = [1,500,1000,2000,3000,4000,5000]\n",
    "t_numeric = []\n",
    "t_numeric_add = []\n",
    "t_array = []\n",
    "t_array_add = []\n",
    "for size in sizes:\n",
    "    tn, tna, run_id_n =  insert_data('numeric', size)\n",
    "    t_numeric.append(tn)\n",
    "    t_numeric_add.append(tna)\n",
    "\n",
    "    ta, taa, run_id_a =  insert_data('array', size)\n",
    "    t_array.append(ta)\n",
    "    t_array_add.append(taa)"
   ]
  },
  {
   "cell_type": "code",
   "execution_count": 6,
   "metadata": {
    "execution": {
     "iopub.execute_input": "2020-11-12T12:50:45.830591Z",
     "iopub.status.busy": "2020-11-12T12:50:45.817480Z",
     "iopub.status.idle": "2020-11-12T12:50:45.998447Z",
     "shell.execute_reply": "2020-11-12T12:50:45.999280Z"
    }
   },
   "outputs": [
    {
     "data": {
      "image/png": "[encoded data removed]",
      "text/plain": [
       "<Figure size 432x288 with 1 Axes>"
      ]
     },
     "metadata": {
      "needs_background": "light"
     },
     "output_type": "display_data"
    }
   ],
   "source": [
    "fig, ax = plt.subplots(1,1)\n",
    "ax.plot(sizes, t_numeric, 'o-', label='Inserting row-by-row')\n",
    "ax.plot(sizes, t_numeric_add, 'o-', label='Inserting row-by-row: add_result only')\n",
    "ax.plot(sizes, t_array, 'd-', label='Inserting as binary blob')\n",
    "ax.plot(sizes, t_array_add, 'd-', label='Inserting as binary blob: add_result only')\n",
    "ax.legend()\n",
    "ax.set_xlabel('Array length')\n",
    "ax.set_ylabel('Time (s)')\n",
    "fig.tight_layout()"
   ]
  },
  {
   "cell_type": "markdown",
   "metadata": {},
   "source": [
    "As shown in the latter figure, the time to setup and and close the experiment is approximately 0.4 sec. In case of small array sizes, the difference between inserting values of data as arrays and inserting them row-by-row is relatively unimportant. At larger array sizes, i.e. above 10000 points, the cost of writing data as individual datapoints starts to become important.\n"
   ]
  },
  {
   "cell_type": "markdown",
   "metadata": {},
   "source": [
    "### Case2: Long experiment time "
   ]
  },
  {
   "cell_type": "code",
   "execution_count": 7,
   "metadata": {
    "execution": {
     "iopub.execute_input": "2020-11-12T12:50:46.007198Z",
     "iopub.status.busy": "2020-11-12T12:50:46.001789Z",
     "iopub.status.idle": "2020-11-12T12:51:46.695783Z",
     "shell.execute_reply": "2020-11-12T12:51:46.694832Z"
    }
   },
   "outputs": [
    {
     "name": "stdout",
     "output_type": "stream",
     "text": [
      "Starting experimental run with id: 15. \n",
      "Starting experimental run with id: 16. \n",
      "Starting experimental run with id: 17. \n"
     ]
    },
    {
     "name": "stdout",
     "output_type": "stream",
     "text": [
      "Starting experimental run with id: 18. \n",
      "Starting experimental run with id: 19. \n"
     ]
    },
    {
     "name": "stdout",
     "output_type": "stream",
     "text": [
      "Starting experimental run with id: 20. \n"
     ]
    },
    {
     "name": "stdout",
     "output_type": "stream",
     "text": [
      "Starting experimental run with id: 21. \n"
     ]
    },
    {
     "name": "stdout",
     "output_type": "stream",
     "text": [
      "Starting experimental run with id: 22. \n"
     ]
    },
    {
     "name": "stdout",
     "output_type": "stream",
     "text": [
      "Starting experimental run with id: 23. \n"
     ]
    },
    {
     "name": "stdout",
     "output_type": "stream",
     "text": [
      "Starting experimental run with id: 24. \n"
     ]
    },
    {
     "name": "stdout",
     "output_type": "stream",
     "text": [
      "Starting experimental run with id: 25. \n"
     ]
    },
    {
     "name": "stdout",
     "output_type": "stream",
     "text": [
      "Starting experimental run with id: 26. \n"
     ]
    },
    {
     "name": "stdout",
     "output_type": "stream",
     "text": [
      "Starting experimental run with id: 27. \n"
     ]
    },
    {
     "name": "stdout",
     "output_type": "stream",
     "text": [
      "Starting experimental run with id: 28. \n"
     ]
    }
   ],
   "source": [
    "sizes = [1,500,1000,2000,3000,4000,5000]\n",
    "nreps = 100\n",
    "t_numeric = []\n",
    "t_numeric_add = []\n",
    "t_numeric_run_ids = []\n",
    "t_array = []\n",
    "t_array_add = []\n",
    "t_array_run_ids = []\n",
    "for size in sizes:\n",
    "    tn, tna, run_id_n =  insert_data('numeric', size, nreps=nreps)\n",
    "    t_numeric.append(tn)\n",
    "    t_numeric_add.append(tna)\n",
    "    t_numeric_run_ids.append(run_id_n)\n",
    "\n",
    "    ta, taa, run_id_a =  insert_data('array', size, nreps=nreps)\n",
    "    t_array.append(ta)\n",
    "    t_array_add.append(taa)\n",
    "    t_array_run_ids.append(run_id_a)"
   ]
  },
  {
   "cell_type": "code",
   "execution_count": 8,
   "metadata": {
    "execution": {
     "iopub.execute_input": "2020-11-12T12:51:46.722012Z",
     "iopub.status.busy": "2020-11-12T12:51:46.712505Z",
     "iopub.status.idle": "2020-11-12T12:51:46.899776Z",
     "shell.execute_reply": "2020-11-12T12:51:46.900522Z"
    },
    "scrolled": true
   },
   "outputs": [
    {
     "data": {
      "image/png": "[encoded data removed]",
      "text/plain": [
       "<Figure size 432x288 with 1 Axes>"
      ]
     },
     "metadata": {
      "needs_background": "light"
     },
     "output_type": "display_data"
    }
   ],
   "source": [
    "fig, ax = plt.subplots(1,1)\n",
    "ax.plot(sizes, t_numeric, 'o-', label='Inserting row-by-row')\n",
    "ax.plot(sizes, t_numeric_add, 'o-', label='Inserting row-by-row: add_result only')\n",
    "ax.plot(sizes, t_array, 'd-', label='Inserting as binary blob')\n",
    "ax.plot(sizes, t_array_add, 'd-', label='Inserting as binary blob: add_result only')\n",
    "ax.legend()\n",
    "ax.set_xlabel('Array length')\n",
    "ax.set_ylabel('Time (s)')\n",
    "fig.tight_layout()"
   ]
  },
  {
   "cell_type": "markdown",
   "metadata": {},
   "source": [
    "However, as we increase the length of the experiment, as seen here by repeating the insertion 100 times, we see a big difference between inserting values of the data row-by-row and inserting it as a binary blob."
   ]
  },
  {
   "cell_type": "markdown",
   "metadata": {},
   "source": [
    "## Loading the data "
   ]
  },
  {
   "cell_type": "code",
   "execution_count": 9,
   "metadata": {
    "execution": {
     "iopub.execute_input": "2020-11-12T12:51:46.905219Z",
     "iopub.status.busy": "2020-11-12T12:51:46.904237Z",
     "iopub.status.idle": "2020-11-12T12:51:46.909243Z",
     "shell.execute_reply": "2020-11-12T12:51:46.908769Z"
    }
   },
   "outputs": [],
   "source": [
    "from qcodes.dataset.data_set import load_by_id\n",
    "from qcodes.dataset.data_export import get_data_by_id"
   ]
  },
  {
   "cell_type": "markdown",
   "metadata": {},
   "source": [
    "As usual you can load the data by using the ``load_by_id`` function but you will notice that the different storage methods\n",
    "are reflected in shape of the data as it is retrieved. "
   ]
  },
  {
   "cell_type": "code",
   "execution_count": 10,
   "metadata": {
    "execution": {
     "iopub.execute_input": "2020-11-12T12:51:46.912959Z",
     "iopub.status.busy": "2020-11-12T12:51:46.912398Z",
     "iopub.status.idle": "2020-11-12T12:51:46.915866Z",
     "shell.execute_reply": "2020-11-12T12:51:46.915402Z"
    }
   },
   "outputs": [],
   "source": [
    "run_id_n = t_numeric_run_ids[0]\n",
    "run_id_a = t_array_run_ids[0]"
   ]
  },
  {
   "cell_type": "code",
   "execution_count": 11,
   "metadata": {
    "execution": {
     "iopub.execute_input": "2020-11-12T12:51:46.919206Z",
     "iopub.status.busy": "2020-11-12T12:51:46.918659Z",
     "iopub.status.idle": "2020-11-12T12:51:46.928906Z",
     "shell.execute_reply": "2020-11-12T12:51:46.928459Z"
    },
    "scrolled": true
   },
   "outputs": [
    {
     "data": {
      "text/plain": [
       "{'x1': {'x1': array([0.15045219, 0.15045219, 0.29722272, 0.29722272, 0.42369141,\n",
       "         0.42369141, 0.75624505, 0.75624505, 0.33593992, 0.33593992,\n",
       "         0.13806378, 0.13806378, 0.31860039, 0.31860039, 0.16755047,\n",
       "         0.16755047, 0.79140961, 0.79140961, 0.63840558, 0.63840558,\n",
       "         0.47317762, 0.47317762, 0.69105586, 0.69105586, 0.03284744,\n",
       "         0.03284744, 0.39303978, 0.39303978, 0.10907153, 0.10907153,\n",
       "         0.92227914, 0.92227914, 0.47550286, 0.47550286, 0.52264464,\n",
       "         0.52264464, 0.54604635, 0.54604635, 0.29285909, 0.29285909,\n",
       "         0.54177556, 0.54177556, 0.07534672, 0.07534672, 0.95050429,\n",
       "         0.95050429, 0.81195814, 0.81195814, 0.36359709, 0.36359709,\n",
       "         0.47599209, 0.47599209, 0.27558211, 0.27558211, 0.58652106,\n",
       "         0.58652106, 0.36816059, 0.36816059, 0.21505921, 0.21505921,\n",
       "         0.67948962, 0.67948962, 0.80735059, 0.80735059, 0.31315332,\n",
       "         0.31315332, 0.60330048, 0.60330048, 0.14668586, 0.14668586,\n",
       "         0.33819773, 0.33819773, 0.36021991, 0.36021991, 0.6269394 ,\n",
       "         0.6269394 , 0.8288661 , 0.8288661 , 0.12088296, 0.12088296,\n",
       "         0.63673526, 0.63673526, 0.76488999, 0.76488999, 0.5240505 ,\n",
       "         0.5240505 , 0.81958952, 0.81958952, 0.85394071, 0.85394071,\n",
       "         0.81815603, 0.81815603, 0.34742724, 0.34742724, 0.38441881,\n",
       "         0.38441881, 0.88927347, 0.88927347, 0.28786316, 0.28786316,\n",
       "         0.97600478, 0.97600478, 0.38263281, 0.38263281, 0.62160568,\n",
       "         0.62160568, 0.1428696 , 0.1428696 , 0.58891047, 0.58891047,\n",
       "         0.08234279, 0.08234279, 0.48065884, 0.48065884, 0.01182762,\n",
       "         0.01182762, 0.61729193, 0.61729193, 0.66499013, 0.66499013,\n",
       "         0.04761723, 0.04761723, 0.93369839, 0.93369839, 0.60073634,\n",
       "         0.60073634, 0.16480227, 0.16480227, 0.81560297, 0.81560297,\n",
       "         0.67339987, 0.67339987, 0.84613225, 0.84613225, 0.05569216,\n",
       "         0.05569216, 0.5967563 , 0.5967563 , 0.80423983, 0.80423983,\n",
       "         0.52581987, 0.52581987, 0.95291251, 0.95291251, 0.95730127,\n",
       "         0.95730127, 0.69338809, 0.69338809, 0.85989704, 0.85989704,\n",
       "         0.56706057, 0.56706057, 0.91596542, 0.91596542, 0.01575345,\n",
       "         0.01575345, 0.68550255, 0.68550255, 0.95342058, 0.95342058,\n",
       "         0.89868183, 0.89868183, 0.12918977, 0.12918977, 0.54854954,\n",
       "         0.54854954, 0.27490915, 0.27490915, 0.33057381, 0.33057381,\n",
       "         0.4235167 , 0.4235167 , 0.57156127, 0.57156127, 0.64328244,\n",
       "         0.64328244, 0.30975947, 0.30975947, 0.59213542, 0.59213542,\n",
       "         0.23667206, 0.23667206, 0.53643297, 0.53643297, 0.04125786,\n",
       "         0.04125786, 0.20297142, 0.20297142, 0.27930538, 0.27930538,\n",
       "         0.67169538, 0.67169538, 0.50175599, 0.50175599, 0.28193551,\n",
       "         0.28193551, 0.99027984, 0.99027984, 0.14858811, 0.14858811])}}"
      ]
     },
     "execution_count": 1,
     "metadata": {},
     "output_type": "execute_result"
    }
   ],
   "source": [
    "ds = load_by_id(run_id_n)\n",
    "ds.get_parameter_data('x1')"
   ]
  },
  {
   "cell_type": "markdown",
   "metadata": {},
   "source": [
    "And a dataset stored as binary arrays"
   ]
  },
  {
   "cell_type": "code",
   "execution_count": 12,
   "metadata": {
    "execution": {
     "iopub.execute_input": "2020-11-12T12:51:46.932353Z",
     "iopub.status.busy": "2020-11-12T12:51:46.931794Z",
     "iopub.status.idle": "2020-11-12T12:51:46.988741Z",
     "shell.execute_reply": "2020-11-12T12:51:46.989590Z"
    },
    "scrolled": true
   },
   "outputs": [
    {
     "data": {
      "text/plain": [
       "{'x1': {'x1': array([[0.57849692],\n",
       "         [0.57849692],\n",
       "         [0.1072277 ],\n",
       "         [0.1072277 ],\n",
       "         [0.11762638],\n",
       "         [0.11762638],\n",
       "         [0.71064045],\n",
       "         [0.71064045],\n",
       "         [0.6707247 ],\n",
       "         [0.6707247 ],\n",
       "         [0.74639696],\n",
       "         [0.74639696],\n",
       "         [0.26807956],\n",
       "         [0.26807956],\n",
       "         [0.3175515 ],\n",
       "         [0.3175515 ],\n",
       "         [0.50644178],\n",
       "         [0.50644178],\n",
       "         [0.83816381],\n",
       "         [0.83816381],\n",
       "         [0.19965815],\n",
       "         [0.19965815],\n",
       "         [0.01864966],\n",
       "         [0.01864966],\n",
       "         [0.31675319],\n",
       "         [0.31675319],\n",
       "         [0.36696307],\n",
       "         [0.36696307],\n",
       "         [0.30635474],\n",
       "         [0.30635474],\n",
       "         [0.82356791],\n",
       "         [0.82356791],\n",
       "         [0.80326388],\n",
       "         [0.80326388],\n",
       "         [0.62479608],\n",
       "         [0.62479608],\n",
       "         [0.82398475],\n",
       "         [0.82398475],\n",
       "         [0.66410556],\n",
       "         [0.66410556],\n",
       "         [0.88884156],\n",
       "         [0.88884156],\n",
       "         [0.27337612],\n",
       "         [0.27337612],\n",
       "         [0.87186611],\n",
       "         [0.87186611],\n",
       "         [0.65429475],\n",
       "         [0.65429475],\n",
       "         [0.99502732],\n",
       "         [0.99502732],\n",
       "         [0.79659613],\n",
       "         [0.79659613],\n",
       "         [0.84006764],\n",
       "         [0.84006764],\n",
       "         [0.29738694],\n",
       "         [0.29738694],\n",
       "         [0.07584833],\n",
       "         [0.07584833],\n",
       "         [0.80960143],\n",
       "         [0.80960143],\n",
       "         [0.81142056],\n",
       "         [0.81142056],\n",
       "         [0.31815373],\n",
       "         [0.31815373],\n",
       "         [0.68213384],\n",
       "         [0.68213384],\n",
       "         [0.51327801],\n",
       "         [0.51327801],\n",
       "         [0.42817965],\n",
       "         [0.42817965],\n",
       "         [0.93750842],\n",
       "         [0.93750842],\n",
       "         [0.89217616],\n",
       "         [0.89217616],\n",
       "         [0.37820096],\n",
       "         [0.37820096],\n",
       "         [0.38408215],\n",
       "         [0.38408215],\n",
       "         [0.8334353 ],\n",
       "         [0.8334353 ],\n",
       "         [0.9426908 ],\n",
       "         [0.9426908 ],\n",
       "         [0.09389852],\n",
       "         [0.09389852],\n",
       "         [0.25232837],\n",
       "         [0.25232837],\n",
       "         [0.76999963],\n",
       "         [0.76999963],\n",
       "         [0.90675714],\n",
       "         [0.90675714],\n",
       "         [0.89559731],\n",
       "         [0.89559731],\n",
       "         [0.89653817],\n",
       "         [0.89653817],\n",
       "         [0.03892856],\n",
       "         [0.03892856],\n",
       "         [0.51219963],\n",
       "         [0.51219963],\n",
       "         [0.14153492],\n",
       "         [0.14153492],\n",
       "         [0.78461496],\n",
       "         [0.78461496],\n",
       "         [0.18485697],\n",
       "         [0.18485697],\n",
       "         [0.97493513],\n",
       "         [0.97493513],\n",
       "         [0.39018866],\n",
       "         [0.39018866],\n",
       "         [0.56117834],\n",
       "         [0.56117834],\n",
       "         [0.5158047 ],\n",
       "         [0.5158047 ],\n",
       "         [0.20748708],\n",
       "         [0.20748708],\n",
       "         [0.5438046 ],\n",
       "         [0.5438046 ],\n",
       "         [0.37217034],\n",
       "         [0.37217034],\n",
       "         [0.05673909],\n",
       "         [0.05673909],\n",
       "         [0.60969691],\n",
       "         [0.60969691],\n",
       "         [0.45775275],\n",
       "         [0.45775275],\n",
       "         [0.76473481],\n",
       "         [0.76473481],\n",
       "         [0.48457308],\n",
       "         [0.48457308],\n",
       "         [0.48208238],\n",
       "         [0.48208238],\n",
       "         [0.32112626],\n",
       "         [0.32112626],\n",
       "         [0.13866563],\n",
       "         [0.13866563],\n",
       "         [0.01659411],\n",
       "         [0.01659411],\n",
       "         [0.90484218],\n",
       "         [0.90484218],\n",
       "         [0.66391187],\n",
       "         [0.66391187],\n",
       "         [0.48182412],\n",
       "         [0.48182412],\n",
       "         [0.67481394],\n",
       "         [0.67481394],\n",
       "         [0.28769133],\n",
       "         [0.28769133],\n",
       "         [0.82231195],\n",
       "         [0.82231195],\n",
       "         [0.51137248],\n",
       "         [0.51137248],\n",
       "         [0.22535839],\n",
       "         [0.22535839],\n",
       "         [0.43581167],\n",
       "         [0.43581167],\n",
       "         [0.76007452],\n",
       "         [0.76007452],\n",
       "         [0.07548733],\n",
       "         [0.07548733],\n",
       "         [0.90594444],\n",
       "         [0.90594444],\n",
       "         [0.5598426 ],\n",
       "         [0.5598426 ],\n",
       "         [0.58417637],\n",
       "         [0.58417637],\n",
       "         [0.53766443],\n",
       "         [0.53766443],\n",
       "         [0.07873654],\n",
       "         [0.07873654],\n",
       "         [0.27523211],\n",
       "         [0.27523211],\n",
       "         [0.45530457],\n",
       "         [0.45530457],\n",
       "         [0.25519988],\n",
       "         [0.25519988],\n",
       "         [0.38936417],\n",
       "         [0.38936417],\n",
       "         [0.1584468 ],\n",
       "         [0.1584468 ],\n",
       "         [0.09049518],\n",
       "         [0.09049518],\n",
       "         [0.41297164],\n",
       "         [0.41297164],\n",
       "         [0.91667151],\n",
       "         [0.91667151],\n",
       "         [0.0380989 ],\n",
       "         [0.0380989 ],\n",
       "         [0.04464132],\n",
       "         [0.04464132],\n",
       "         [0.71237126],\n",
       "         [0.71237126],\n",
       "         [0.98132882],\n",
       "         [0.98132882],\n",
       "         [0.48940092],\n",
       "         [0.48940092],\n",
       "         [0.63698788],\n",
       "         [0.63698788],\n",
       "         [0.76227656],\n",
       "         [0.76227656],\n",
       "         [0.85666694],\n",
       "         [0.85666694]])}}"
      ]
     },
     "execution_count": 1,
     "metadata": {},
     "output_type": "execute_result"
    }
   ],
   "source": [
    "ds = load_by_id(run_id_a)\n",
    "ds.get_parameter_data('x1')"
   ]
  },
  {
   "cell_type": "code",
   "execution_count": null,
   "metadata": {},
   "outputs": [],
   "source": []
  }
 ],
 "metadata": {
  "kernelspec": {
   "display_name": "Python 3",
   "language": "python",
   "name": "python3"
  },
  "language_info": {
   "codemirror_mode": {
    "name": "ipython",
    "version": 3
   },
   "file_extension": ".py",
   "mimetype": "text/x-python",
   "name": "python",
   "nbconvert_exporter": "python",
   "pygments_lexer": "ipython3",
   "version": "3.7.9"
  },
  "nbsphinx": {
   "timeout": 600
  },
  "toc": {
   "base_numbering": 1,
   "nav_menu": {},
   "number_sections": true,
   "sideBar": true,
   "skip_h1_title": false,
   "title_cell": "Table of Contents",
   "title_sidebar": "Contents",
   "toc_cell": false,
   "toc_position": {},
   "toc_section_display": true,
   "toc_window_display": false
  },
  "varInspector": {
   "cols": {
    "lenName": 16,
    "lenType": 16,
    "lenVar": 40
   },
   "kernels_config": {
    "python": {
     "delete_cmd_postfix": "",
     "delete_cmd_prefix": "del ",
     "library": "var_list.py",
     "varRefreshCmd": "print(var_dic_list())"
    },
    "r": {
     "delete_cmd_postfix": ") ",
     "delete_cmd_prefix": "rm(",
     "library": "var_list.r",
     "varRefreshCmd": "cat(var_dic_list()) "
    }
   },
   "types_to_exclude": [
    "module",
    "function",
    "builtin_function_or_method",
    "instance",
    "_Feature"
   ],
   "window_display": false
  }
 },
 "nbformat": 4,
 "nbformat_minor": 2
}
