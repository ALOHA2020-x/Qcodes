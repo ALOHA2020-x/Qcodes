{
 "cells": [
  {
   "cell_type": "markdown",
   "metadata": {},
   "source": [
    "# DataSet Performance\n",
    "\n",
    "This notebook shows the trade-off between inserting data into a database row-by-row and as binary blobs. Inserting the data row-by-row means that we have direct access to all the data and may perform queries directly on the values of the data. On the other hand, as we shall see, this is much slower than inserting the data directly as binary blobs."
   ]
  },
  {
   "cell_type": "markdown",
   "metadata": {},
   "source": [
    "First, we choose a new location for the database to ensure that we don't add a bunch of benchmarking data to the default one."
   ]
  },
  {
   "cell_type": "code",
   "execution_count": 1,
   "metadata": {},
   "outputs": [
    {
     "name": "stdout",
     "output_type": "stream",
     "text": [
      "Logging hadn't been started.\n",
      "Activating auto-logging. Current session state plus future input saved.\n",
      "Filename       : /home/vsts/.qcodes/logs/command_history.log\n",
      "Mode           : append\n",
      "Output logging : True\n",
      "Raw input log  : False\n",
      "Timestamping   : True\n",
      "State          : active\n"
     ]
    },
    {
     "name": "stdout",
     "output_type": "stream",
     "text": [
      "Qcodes Logfile : /home/vsts/.qcodes/logs/200604-19146-qcodes.log\n"
     ]
    }
   ],
   "source": [
    "import os\n",
    "cwd = os.getcwd()\n",
    "import qcodes as qc\n",
    "qc.config[\"core\"][\"db_location\"] = os.path.join(cwd, 'testing.db')\n"
   ]
  },
  {
   "cell_type": "code",
   "execution_count": 2,
   "metadata": {},
   "outputs": [],
   "source": [
    "%matplotlib inline\n",
    "import time\n",
    "import matplotlib.pyplot as plt\n",
    "import numpy as np\n",
    "\n",
    "import qcodes as qc\n",
    "from qcodes.instrument.parameter import ManualParameter\n",
    "from qcodes.dataset.experiment_container import (Experiment,\n",
    "                                                 load_last_experiment,\n",
    "                                                 new_experiment)\n",
    "from qcodes.dataset.sqlite.database import initialise_database\n",
    "from qcodes import load_or_create_experiment\n",
    "from qcodes.dataset.measurements import Measurement"
   ]
  },
  {
   "cell_type": "code",
   "execution_count": 3,
   "metadata": {},
   "outputs": [
    {
     "name": "stdout",
     "output_type": "stream",
     "text": [
      "\r",
      "0it [00:00, ?it/s]"
     ]
    },
    {
     "name": "stdout",
     "output_type": "stream",
     "text": [
      "\r",
      "Upgrading database; v0 -> v1: : 0it [00:00, ?it/s]"
     ]
    },
    {
     "name": "stdout",
     "output_type": "stream",
     "text": [
      "\r",
      "Upgrading database; v0 -> v1: : 0it [00:00, ?it/s]"
     ]
    },
    {
     "name": "stdout",
     "output_type": "stream",
     "text": [
      "\n",
      "\r",
      "  0%|          | 0/1 [00:00<?, ?it/s]"
     ]
    },
    {
     "name": "stdout",
     "output_type": "stream",
     "text": [
      "\r",
      "Upgrading database; v1 -> v2:   0%|          | 0/1 [00:00<?, ?it/s]"
     ]
    },
    {
     "name": "stdout",
     "output_type": "stream",
     "text": [
      "\r",
      "Upgrading database; v1 -> v2: 100%|██████████| 1/1 [00:00<00:00, 927.74it/s]"
     ]
    },
    {
     "name": "stdout",
     "output_type": "stream",
     "text": [
      "\n",
      "\r",
      "0it [00:00, ?it/s]"
     ]
    },
    {
     "name": "stdout",
     "output_type": "stream",
     "text": [
      "\r",
      "Upgrading database; v2 -> v3: : 0it [00:00, ?it/s]"
     ]
    },
    {
     "name": "stdout",
     "output_type": "stream",
     "text": [
      "\r",
      "Upgrading database; v2 -> v3: : 0it [00:00, ?it/s]"
     ]
    },
    {
     "name": "stdout",
     "output_type": "stream",
     "text": [
      "\n",
      "\r",
      "0it [00:00, ?it/s]"
     ]
    },
    {
     "name": "stdout",
     "output_type": "stream",
     "text": [
      "\r",
      "Upgrading database; v3 -> v4: : 0it [00:00, ?it/s]"
     ]
    },
    {
     "name": "stdout",
     "output_type": "stream",
     "text": [
      "\r",
      "Upgrading database; v3 -> v4: : 0it [00:00, ?it/s]"
     ]
    },
    {
     "name": "stdout",
     "output_type": "stream",
     "text": [
      "\n",
      "\r",
      "  0%|          | 0/1 [00:00<?, ?it/s]"
     ]
    },
    {
     "name": "stdout",
     "output_type": "stream",
     "text": [
      "\r",
      "Upgrading database; v4 -> v5:   0%|          | 0/1 [00:00<?, ?it/s]"
     ]
    },
    {
     "name": "stdout",
     "output_type": "stream",
     "text": [
      "\r",
      "Upgrading database; v4 -> v5: 100%|██████████| 1/1 [00:00<00:00, 806.44it/s]"
     ]
    },
    {
     "name": "stdout",
     "output_type": "stream",
     "text": [
      "\n",
      "\r",
      "0it [00:00, ?it/s]"
     ]
    },
    {
     "name": "stdout",
     "output_type": "stream",
     "text": [
      "\r",
      "Upgrading database; v5 -> v6: : 0it [00:00, ?it/s]"
     ]
    },
    {
     "name": "stdout",
     "output_type": "stream",
     "text": [
      "\r",
      "Upgrading database; v5 -> v6: : 0it [00:00, ?it/s]"
     ]
    },
    {
     "name": "stdout",
     "output_type": "stream",
     "text": [
      "\n",
      "\r",
      "  0%|          | 0/1 [00:00<?, ?it/s]"
     ]
    },
    {
     "name": "stdout",
     "output_type": "stream",
     "text": [
      "\r",
      "Upgrading database; v6 -> v7:   0%|          | 0/1 [00:00<?, ?it/s]"
     ]
    },
    {
     "name": "stdout",
     "output_type": "stream",
     "text": [
      "\r",
      "Upgrading database; v6 -> v7: 100%|██████████| 1/1 [00:00<00:00, 455.80it/s]"
     ]
    },
    {
     "name": "stdout",
     "output_type": "stream",
     "text": [
      "\n",
      "\r",
      "  0%|          | 0/1 [00:00<?, ?it/s]"
     ]
    },
    {
     "name": "stdout",
     "output_type": "stream",
     "text": [
      "\r",
      "Upgrading database; v7 -> v8:   0%|          | 0/1 [00:00<?, ?it/s]"
     ]
    },
    {
     "name": "stdout",
     "output_type": "stream",
     "text": [
      "\r",
      "Upgrading database; v7 -> v8: 100%|██████████| 1/1 [00:00<00:00, 839.03it/s]"
     ]
    },
    {
     "name": "stdout",
     "output_type": "stream",
     "text": [
      "\n",
      "\r",
      "  0%|          | 0/1 [00:00<?, ?it/s]"
     ]
    },
    {
     "name": "stdout",
     "output_type": "stream",
     "text": [
      "\r",
      "Upgrading database; v8 -> v9:   0%|          | 0/1 [00:00<?, ?it/s]"
     ]
    },
    {
     "name": "stdout",
     "output_type": "stream",
     "text": [
      "\r",
      "Upgrading database; v8 -> v9: 100%|██████████| 1/1 [00:00<00:00, 1023.25it/s]"
     ]
    },
    {
     "name": "stdout",
     "output_type": "stream",
     "text": [
      "\n"
     ]
    }
   ],
   "source": [
    "initialise_database()\n",
    "exp = load_or_create_experiment(experiment_name='tutorial_exp', sample_name=\"no sample\")"
   ]
  },
  {
   "cell_type": "markdown",
   "metadata": {},
   "source": [
    "Here, we define a simple function to benchmark the time it takes to insert n points with either numeric or array data type.\n",
    "We will compare both the time used to call ``add_result`` and the time used for the full measurement."
   ]
  },
  {
   "cell_type": "code",
   "execution_count": 4,
   "metadata": {},
   "outputs": [],
   "source": [
    "def insert_data(paramtype, npoints, nreps=1):\n",
    "\n",
    "    meas = Measurement(exp=exp)\n",
    "\n",
    "    x1 = ManualParameter('x1')\n",
    "    x2 = ManualParameter('x2')\n",
    "    x3 = ManualParameter('x3')\n",
    "    y1 = ManualParameter('y1')\n",
    "    y2 = ManualParameter('y2')\n",
    "\n",
    "    meas.register_parameter(x1, paramtype=paramtype)\n",
    "    meas.register_parameter(x2, paramtype=paramtype)\n",
    "    meas.register_parameter(x3, paramtype=paramtype)\n",
    "    meas.register_parameter(y1, setpoints=[x1, x2, x3],\n",
    "                            paramtype=paramtype)\n",
    "    meas.register_parameter(y2, setpoints=[x1, x2, x3],\n",
    "                            paramtype=paramtype)\n",
    "    start = time.perf_counter()\n",
    "    with meas.run() as datasaver:\n",
    "        start_adding = time.perf_counter()\n",
    "        for i in range(nreps):\n",
    "            datasaver.add_result((x1, np.random.rand(npoints)),\n",
    "                                 (x2, np.random.rand(npoints)),\n",
    "                                 (x3, np.random.rand(npoints)),\n",
    "                                 (y1, np.random.rand(npoints)),\n",
    "                                 (y2, np.random.rand(npoints)))\n",
    "        stop_adding = time.perf_counter()\n",
    "        run_id = datasaver.run_id\n",
    "    stop = time.perf_counter()\n",
    "    tot_time = stop - start\n",
    "    add_time = stop_adding - start_adding\n",
    "    return tot_time, add_time, run_id"
   ]
  },
  {
   "cell_type": "markdown",
   "metadata": {},
   "source": [
    "## Comparison between numeric/array data and binary blob"
   ]
  },
  {
   "cell_type": "markdown",
   "metadata": {},
   "source": [
    "### Case1: Short experiment time"
   ]
  },
  {
   "cell_type": "code",
   "execution_count": 5,
   "metadata": {},
   "outputs": [
    {
     "name": "stdout",
     "output_type": "stream",
     "text": [
      "Starting experimental run with id: 1. \n",
      "Starting experimental run with id: 2. \n",
      "Starting experimental run with id: 3. \n"
     ]
    },
    {
     "name": "stdout",
     "output_type": "stream",
     "text": [
      "Starting experimental run with id: 4. \n"
     ]
    },
    {
     "name": "stdout",
     "output_type": "stream",
     "text": [
      "Starting experimental run with id: 5. \n"
     ]
    },
    {
     "name": "stdout",
     "output_type": "stream",
     "text": [
      "Starting experimental run with id: 6. \n"
     ]
    },
    {
     "name": "stdout",
     "output_type": "stream",
     "text": [
      "Starting experimental run with id: 7. \n",
      "Starting experimental run with id: 8. \n"
     ]
    },
    {
     "name": "stdout",
     "output_type": "stream",
     "text": [
      "Starting experimental run with id: 9. \n"
     ]
    },
    {
     "name": "stdout",
     "output_type": "stream",
     "text": [
      "Starting experimental run with id: 10. \n",
      "Starting experimental run with id: 11. \n"
     ]
    },
    {
     "name": "stdout",
     "output_type": "stream",
     "text": [
      "Starting experimental run with id: 12. \n"
     ]
    },
    {
     "name": "stdout",
     "output_type": "stream",
     "text": [
      "Starting experimental run with id: 13. \n"
     ]
    },
    {
     "name": "stdout",
     "output_type": "stream",
     "text": [
      "Starting experimental run with id: 14. \n"
     ]
    }
   ],
   "source": [
    "sizes = [1,500,1000,2000,3000,4000,5000]\n",
    "t_numeric = []\n",
    "t_numeric_add = []\n",
    "t_array = []\n",
    "t_array_add = []\n",
    "for size in sizes:\n",
    "    tn, tna, run_id_n =  insert_data('numeric', size)\n",
    "    t_numeric.append(tn)\n",
    "    t_numeric_add.append(tna)\n",
    "\n",
    "    ta, taa, run_id_a =  insert_data('array', size)\n",
    "    t_array.append(ta)\n",
    "    t_array_add.append(taa)"
   ]
  },
  {
   "cell_type": "code",
   "execution_count": 6,
   "metadata": {},
   "outputs": [
    {
     "data": {
      "image/png": "[encoded data removed]",
      "text/plain": [
       "<Figure size 432x288 with 1 Axes>"
      ]
     },
     "metadata": {
      "needs_background": "light"
     },
     "output_type": "display_data"
    }
   ],
   "source": [
    "fig, ax = plt.subplots(1,1)\n",
    "ax.plot(sizes, t_numeric, 'o-', label='Inserting row-by-row')\n",
    "ax.plot(sizes, t_numeric_add, 'o-', label='Inserting row-by-row: add_result only')\n",
    "ax.plot(sizes, t_array, 'd-', label='Inserting as binary blob')\n",
    "ax.plot(sizes, t_array_add, 'd-', label='Inserting as binary blob: add_result only')\n",
    "ax.legend()\n",
    "ax.set_xlabel('Array length')\n",
    "ax.set_ylabel('Time (s)')\n",
    "fig.tight_layout()"
   ]
  },
  {
   "cell_type": "markdown",
   "metadata": {},
   "source": [
    "As shown in the latter figure, the time to setup and and close the experiment is approximately 0.4 sec. In case of small array sizes, the difference between inserting values of data as arrays and inserting them row-by-row is relatively unimportant. At larger array sizes, i.e. above 10000 points, the cost of writing data as individual datapoints starts to become important.\n"
   ]
  },
  {
   "cell_type": "markdown",
   "metadata": {},
   "source": [
    "### Case2: Long experiment time "
   ]
  },
  {
   "cell_type": "code",
   "execution_count": 7,
   "metadata": {},
   "outputs": [
    {
     "name": "stdout",
     "output_type": "stream",
     "text": [
      "Starting experimental run with id: 15. \n",
      "Starting experimental run with id: 16. \n",
      "Starting experimental run with id: 17. \n"
     ]
    },
    {
     "name": "stdout",
     "output_type": "stream",
     "text": [
      "Starting experimental run with id: 18. \n",
      "Starting experimental run with id: 19. \n"
     ]
    },
    {
     "name": "stdout",
     "output_type": "stream",
     "text": [
      "Starting experimental run with id: 20. \n"
     ]
    },
    {
     "name": "stdout",
     "output_type": "stream",
     "text": [
      "Starting experimental run with id: 21. \n"
     ]
    },
    {
     "name": "stdout",
     "output_type": "stream",
     "text": [
      "Starting experimental run with id: 22. \n"
     ]
    },
    {
     "name": "stdout",
     "output_type": "stream",
     "text": [
      "Starting experimental run with id: 23. \n"
     ]
    },
    {
     "name": "stdout",
     "output_type": "stream",
     "text": [
      "Starting experimental run with id: 24. \n"
     ]
    },
    {
     "name": "stdout",
     "output_type": "stream",
     "text": [
      "Starting experimental run with id: 25. \n"
     ]
    },
    {
     "name": "stdout",
     "output_type": "stream",
     "text": [
      "Starting experimental run with id: 26. \n"
     ]
    },
    {
     "name": "stdout",
     "output_type": "stream",
     "text": [
      "Starting experimental run with id: 27. \n"
     ]
    },
    {
     "name": "stdout",
     "output_type": "stream",
     "text": [
      "Starting experimental run with id: 28. \n"
     ]
    }
   ],
   "source": [
    "sizes = [1,500,1000,2000,3000,4000,5000]\n",
    "nreps = 100\n",
    "t_numeric = []\n",
    "t_numeric_add = []\n",
    "t_numeric_run_ids = []\n",
    "t_array = []\n",
    "t_array_add = []\n",
    "t_array_run_ids = []\n",
    "for size in sizes:\n",
    "    tn, tna, run_id_n =  insert_data('numeric', size, nreps=nreps)\n",
    "    t_numeric.append(tn)\n",
    "    t_numeric_add.append(tna)\n",
    "    t_numeric_run_ids.append(run_id_n)\n",
    "\n",
    "    ta, taa, run_id_a =  insert_data('array', size, nreps=nreps)\n",
    "    t_array.append(ta)\n",
    "    t_array_add.append(taa)\n",
    "    t_array_run_ids.append(run_id_a)"
   ]
  },
  {
   "cell_type": "code",
   "execution_count": 8,
   "metadata": {
    "scrolled": true
   },
   "outputs": [
    {
     "data": {
      "image/png": "[encoded data removed]",
      "text/plain": [
       "<Figure size 432x288 with 1 Axes>"
      ]
     },
     "metadata": {
      "needs_background": "light"
     },
     "output_type": "display_data"
    }
   ],
   "source": [
    "fig, ax = plt.subplots(1,1)\n",
    "ax.plot(sizes, t_numeric, 'o-', label='Inserting row-by-row')\n",
    "ax.plot(sizes, t_numeric_add, 'o-', label='Inserting row-by-row: add_result only')\n",
    "ax.plot(sizes, t_array, 'd-', label='Inserting as binary blob')\n",
    "ax.plot(sizes, t_array_add, 'd-', label='Inserting as binary blob: add_result only')\n",
    "ax.legend()\n",
    "ax.set_xlabel('Array length')\n",
    "ax.set_ylabel('Time (s)')\n",
    "fig.tight_layout()"
   ]
  },
  {
   "cell_type": "markdown",
   "metadata": {},
   "source": [
    "However, as we increase the length of the experiment, as seen here by repeating the insertion 100 times, we see a big difference between inserting values of the data row-by-row and inserting it as a binary blob."
   ]
  },
  {
   "cell_type": "markdown",
   "metadata": {},
   "source": [
    "## Loading the data "
   ]
  },
  {
   "cell_type": "code",
   "execution_count": 9,
   "metadata": {},
   "outputs": [],
   "source": [
    "from qcodes.dataset.data_set import load_by_id\n",
    "from qcodes.dataset.data_export import get_data_by_id"
   ]
  },
  {
   "cell_type": "markdown",
   "metadata": {},
   "source": [
    "As usual you can load the data by using the ``load_by_id`` function but you will notice that the different storage methods\n",
    "are reflected in shape of the data as it is retrieved. "
   ]
  },
  {
   "cell_type": "code",
   "execution_count": 10,
   "metadata": {},
   "outputs": [],
   "source": [
    "run_id_n = t_numeric_run_ids[0]\n",
    "run_id_a = t_array_run_ids[0]"
   ]
  },
  {
   "cell_type": "code",
   "execution_count": 11,
   "metadata": {
    "scrolled": true
   },
   "outputs": [
    {
     "data": {
      "text/plain": [
       "{'x1': {'x1': array([0.89243952, 0.89243952, 0.41046054, 0.41046054, 0.6285862 ,\n",
       "         0.6285862 , 0.9636631 , 0.9636631 , 0.44764945, 0.44764945,\n",
       "         0.45486232, 0.45486232, 0.79646762, 0.79646762, 0.9438852 ,\n",
       "         0.9438852 , 0.61804835, 0.61804835, 0.25694852, 0.25694852,\n",
       "         0.45158602, 0.45158602, 0.44287636, 0.44287636, 0.59082936,\n",
       "         0.59082936, 0.83797828, 0.83797828, 0.4650924 , 0.4650924 ,\n",
       "         0.09516917, 0.09516917, 0.41415733, 0.41415733, 0.50414856,\n",
       "         0.50414856, 0.81550167, 0.81550167, 0.36367487, 0.36367487,\n",
       "         0.45273585, 0.45273585, 0.13729051, 0.13729051, 0.8841381 ,\n",
       "         0.8841381 , 0.66736646, 0.66736646, 0.84898922, 0.84898922,\n",
       "         0.39144605, 0.39144605, 0.99379742, 0.99379742, 0.21282051,\n",
       "         0.21282051, 0.81481162, 0.81481162, 0.54081575, 0.54081575,\n",
       "         0.36270018, 0.36270018, 0.15656071, 0.15656071, 0.26003696,\n",
       "         0.26003696, 0.19463033, 0.19463033, 0.84993742, 0.84993742,\n",
       "         0.14212101, 0.14212101, 0.65337294, 0.65337294, 0.44280522,\n",
       "         0.44280522, 0.13789314, 0.13789314, 0.25720572, 0.25720572,\n",
       "         0.13858777, 0.13858777, 0.25026944, 0.25026944, 0.35804975,\n",
       "         0.35804975, 0.630166  , 0.630166  , 0.96192269, 0.96192269,\n",
       "         0.22179389, 0.22179389, 0.24848072, 0.24848072, 0.49286133,\n",
       "         0.49286133, 0.61544661, 0.61544661, 0.61280984, 0.61280984,\n",
       "         0.93509311, 0.93509311, 0.83884138, 0.83884138, 0.69801525,\n",
       "         0.69801525, 0.97643735, 0.97643735, 0.67753658, 0.67753658,\n",
       "         0.1350466 , 0.1350466 , 0.98150061, 0.98150061, 0.44316597,\n",
       "         0.44316597, 0.2315587 , 0.2315587 , 0.58379718, 0.58379718,\n",
       "         0.42496185, 0.42496185, 0.090609  , 0.090609  , 0.85149768,\n",
       "         0.85149768, 0.28642775, 0.28642775, 0.83568401, 0.83568401,\n",
       "         0.50316387, 0.50316387, 0.08296894, 0.08296894, 0.36141288,\n",
       "         0.36141288, 0.87985795, 0.87985795, 0.03318897, 0.03318897,\n",
       "         0.55478296, 0.55478296, 0.88733134, 0.88733134, 0.59812184,\n",
       "         0.59812184, 0.01283566, 0.01283566, 0.07119974, 0.07119974,\n",
       "         0.49459529, 0.49459529, 0.14071064, 0.14071064, 0.55877985,\n",
       "         0.55877985, 0.32185683, 0.32185683, 0.8815066 , 0.8815066 ,\n",
       "         0.17253043, 0.17253043, 0.44246404, 0.44246404, 0.067977  ,\n",
       "         0.067977  , 0.64629423, 0.64629423, 0.24110031, 0.24110031,\n",
       "         0.14411181, 0.14411181, 0.18120175, 0.18120175, 0.54437524,\n",
       "         0.54437524, 0.6293722 , 0.6293722 , 0.2202085 , 0.2202085 ,\n",
       "         0.94411152, 0.94411152, 0.66497945, 0.66497945, 0.65306489,\n",
       "         0.65306489, 0.32629103, 0.32629103, 0.30367693, 0.30367693,\n",
       "         0.00635892, 0.00635892, 0.91451472, 0.91451472, 0.18552335,\n",
       "         0.18552335, 0.66370102, 0.66370102, 0.09759307, 0.09759307])}}"
      ]
     },
     "execution_count": 11,
     "metadata": {},
     "output_type": "execute_result"
    }
   ],
   "source": [
    "ds = load_by_id(run_id_n)\n",
    "ds.get_parameter_data('x1')"
   ]
  },
  {
   "cell_type": "markdown",
   "metadata": {},
   "source": [
    "And a dataset stored as binary arrays"
   ]
  },
  {
   "cell_type": "code",
   "execution_count": 12,
   "metadata": {
    "scrolled": true
   },
   "outputs": [
    {
     "data": {
      "text/plain": [
       "{'x1': {'x1': array([[0.63310398],\n",
       "         [0.63310398],\n",
       "         [0.57619364],\n",
       "         [0.57619364],\n",
       "         [0.50004886],\n",
       "         [0.50004886],\n",
       "         [0.40724945],\n",
       "         [0.40724945],\n",
       "         [0.47258257],\n",
       "         [0.47258257],\n",
       "         [0.96698393],\n",
       "         [0.96698393],\n",
       "         [0.10979313],\n",
       "         [0.10979313],\n",
       "         [0.60798446],\n",
       "         [0.60798446],\n",
       "         [0.24448533],\n",
       "         [0.24448533],\n",
       "         [0.183902  ],\n",
       "         [0.183902  ],\n",
       "         [0.10913239],\n",
       "         [0.10913239],\n",
       "         [0.44781038],\n",
       "         [0.44781038],\n",
       "         [0.86964656],\n",
       "         [0.86964656],\n",
       "         [0.4735093 ],\n",
       "         [0.4735093 ],\n",
       "         [0.78412655],\n",
       "         [0.78412655],\n",
       "         [0.84391386],\n",
       "         [0.84391386],\n",
       "         [0.41113045],\n",
       "         [0.41113045],\n",
       "         [0.20193546],\n",
       "         [0.20193546],\n",
       "         [0.0667213 ],\n",
       "         [0.0667213 ],\n",
       "         [0.44170885],\n",
       "         [0.44170885],\n",
       "         [0.00398969],\n",
       "         [0.00398969],\n",
       "         [0.75548822],\n",
       "         [0.75548822],\n",
       "         [0.39031159],\n",
       "         [0.39031159],\n",
       "         [0.39811009],\n",
       "         [0.39811009],\n",
       "         [0.61169466],\n",
       "         [0.61169466],\n",
       "         [0.52475935],\n",
       "         [0.52475935],\n",
       "         [0.81067038],\n",
       "         [0.81067038],\n",
       "         [0.25542016],\n",
       "         [0.25542016],\n",
       "         [0.00617956],\n",
       "         [0.00617956],\n",
       "         [0.43358961],\n",
       "         [0.43358961],\n",
       "         [0.84274035],\n",
       "         [0.84274035],\n",
       "         [0.41140688],\n",
       "         [0.41140688],\n",
       "         [0.44446918],\n",
       "         [0.44446918],\n",
       "         [0.59235765],\n",
       "         [0.59235765],\n",
       "         [0.77263197],\n",
       "         [0.77263197],\n",
       "         [0.42639444],\n",
       "         [0.42639444],\n",
       "         [0.83399965],\n",
       "         [0.83399965],\n",
       "         [0.62756541],\n",
       "         [0.62756541],\n",
       "         [0.13888709],\n",
       "         [0.13888709],\n",
       "         [0.5140546 ],\n",
       "         [0.5140546 ],\n",
       "         [0.34678093],\n",
       "         [0.34678093],\n",
       "         [0.12277881],\n",
       "         [0.12277881],\n",
       "         [0.95088189],\n",
       "         [0.95088189],\n",
       "         [0.70150401],\n",
       "         [0.70150401],\n",
       "         [0.04141184],\n",
       "         [0.04141184],\n",
       "         [0.39050036],\n",
       "         [0.39050036],\n",
       "         [0.71234039],\n",
       "         [0.71234039],\n",
       "         [0.85309867],\n",
       "         [0.85309867],\n",
       "         [0.2312297 ],\n",
       "         [0.2312297 ],\n",
       "         [0.9961922 ],\n",
       "         [0.9961922 ],\n",
       "         [0.28395963],\n",
       "         [0.28395963],\n",
       "         [0.57468953],\n",
       "         [0.57468953],\n",
       "         [0.33090884],\n",
       "         [0.33090884],\n",
       "         [0.77695872],\n",
       "         [0.77695872],\n",
       "         [0.26593874],\n",
       "         [0.26593874],\n",
       "         [0.94410606],\n",
       "         [0.94410606],\n",
       "         [0.4507828 ],\n",
       "         [0.4507828 ],\n",
       "         [0.35354876],\n",
       "         [0.35354876],\n",
       "         [0.45348988],\n",
       "         [0.45348988],\n",
       "         [0.78952282],\n",
       "         [0.78952282],\n",
       "         [0.83535861],\n",
       "         [0.83535861],\n",
       "         [0.8463747 ],\n",
       "         [0.8463747 ],\n",
       "         [0.00329435],\n",
       "         [0.00329435],\n",
       "         [0.73288195],\n",
       "         [0.73288195],\n",
       "         [0.13091724],\n",
       "         [0.13091724],\n",
       "         [0.57462176],\n",
       "         [0.57462176],\n",
       "         [0.08578355],\n",
       "         [0.08578355],\n",
       "         [0.23380597],\n",
       "         [0.23380597],\n",
       "         [0.28113038],\n",
       "         [0.28113038],\n",
       "         [0.90762268],\n",
       "         [0.90762268],\n",
       "         [0.31881729],\n",
       "         [0.31881729],\n",
       "         [0.39018445],\n",
       "         [0.39018445],\n",
       "         [0.55426639],\n",
       "         [0.55426639],\n",
       "         [0.50398581],\n",
       "         [0.50398581],\n",
       "         [0.76672699],\n",
       "         [0.76672699],\n",
       "         [0.26648888],\n",
       "         [0.26648888],\n",
       "         [0.03285791],\n",
       "         [0.03285791],\n",
       "         [0.20053041],\n",
       "         [0.20053041],\n",
       "         [0.56032171],\n",
       "         [0.56032171],\n",
       "         [0.02293333],\n",
       "         [0.02293333],\n",
       "         [0.09023897],\n",
       "         [0.09023897],\n",
       "         [0.71298234],\n",
       "         [0.71298234],\n",
       "         [0.12163493],\n",
       "         [0.12163493],\n",
       "         [0.82323208],\n",
       "         [0.82323208],\n",
       "         [0.220786  ],\n",
       "         [0.220786  ],\n",
       "         [0.06196346],\n",
       "         [0.06196346],\n",
       "         [0.5865193 ],\n",
       "         [0.5865193 ],\n",
       "         [0.46139985],\n",
       "         [0.46139985],\n",
       "         [0.08883737],\n",
       "         [0.08883737],\n",
       "         [0.55602492],\n",
       "         [0.55602492],\n",
       "         [0.47812276],\n",
       "         [0.47812276],\n",
       "         [0.89262377],\n",
       "         [0.89262377],\n",
       "         [0.13778265],\n",
       "         [0.13778265],\n",
       "         [0.44822967],\n",
       "         [0.44822967],\n",
       "         [0.28670056],\n",
       "         [0.28670056],\n",
       "         [0.35644877],\n",
       "         [0.35644877],\n",
       "         [0.87255297],\n",
       "         [0.87255297],\n",
       "         [0.59667447],\n",
       "         [0.59667447],\n",
       "         [0.38053484],\n",
       "         [0.38053484],\n",
       "         [0.88565484],\n",
       "         [0.88565484]])}}"
      ]
     },
     "execution_count": 12,
     "metadata": {},
     "output_type": "execute_result"
    }
   ],
   "source": [
    "ds = load_by_id(run_id_a)\n",
    "ds.get_parameter_data('x1')"
   ]
  },
  {
   "cell_type": "code",
   "execution_count": null,
   "metadata": {},
   "outputs": [],
   "source": []
  }
 ],
 "metadata": {
  "kernelspec": {
   "display_name": "Python 3",
   "language": "python",
   "name": "python3"
  },
  "language_info": {
   "codemirror_mode": {
    "name": "ipython",
    "version": 3
   },
   "file_extension": ".py",
   "mimetype": "text/x-python",
   "name": "python",
   "nbconvert_exporter": "python",
   "pygments_lexer": "ipython3",
   "version": "3.7.7"
  },
  "nbsphinx": {
   "timeout": 600
  },
  "toc": {
   "base_numbering": 1,
   "nav_menu": {},
   "number_sections": true,
   "sideBar": true,
   "skip_h1_title": false,
   "title_cell": "Table of Contents",
   "title_sidebar": "Contents",
   "toc_cell": false,
   "toc_position": {},
   "toc_section_display": true,
   "toc_window_display": false
  },
  "varInspector": {
   "cols": {
    "lenName": 16,
    "lenType": 16,
    "lenVar": 40
   },
   "kernels_config": {
    "python": {
     "delete_cmd_postfix": "",
     "delete_cmd_prefix": "del ",
     "library": "var_list.py",
     "varRefreshCmd": "print(var_dic_list())"
    },
    "r": {
     "delete_cmd_postfix": ") ",
     "delete_cmd_prefix": "rm(",
     "library": "var_list.r",
     "varRefreshCmd": "cat(var_dic_list()) "
    }
   },
   "types_to_exclude": [
    "module",
    "function",
    "builtin_function_or_method",
    "instance",
    "_Feature"
   ],
   "window_display": false
  }
 },
 "nbformat": 4,
 "nbformat_minor": 2
}
