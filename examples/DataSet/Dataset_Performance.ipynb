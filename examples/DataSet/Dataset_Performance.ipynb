{
 "cells": [
  {
   "cell_type": "markdown",
   "metadata": {},
   "source": [
    "# DataSet Performance\n",
    "\n",
    "This notebook shows the trade-off between inserting data into a database row-by-row and as binary blobs. Inserting the data row-by-row means that we have direct access to all the data and may perform queries directly on the values of the data. On the other hand, as we shall see, this is much slower than inserting the data directly as binary blobs."
   ]
  },
  {
   "cell_type": "markdown",
   "metadata": {},
   "source": [
    "First, we choose a new location for the database to ensure that we don't add a bunch of benchmarking data to the default one."
   ]
  },
  {
   "cell_type": "code",
   "execution_count": 1,
   "metadata": {},
   "outputs": [
    {
     "name": "stdout",
     "output_type": "stream",
     "text": [
      "Logging hadn't been started.\n",
      "Activating auto-logging. Current session state plus future input saved.\n",
      "Filename       : /home/vsts/.qcodes/logs/command_history.log\n",
      "Mode           : append\n",
      "Output logging : True\n",
      "Raw input log  : False\n",
      "Timestamping   : True\n",
      "State          : active\n"
     ]
    },
    {
     "name": "stdout",
     "output_type": "stream",
     "text": [
      "Qcodes Logfile : /home/vsts/.qcodes/logs/200717-18716-qcodes.log\n"
     ]
    }
   ],
   "source": [
    "import os\n",
    "cwd = os.getcwd()\n",
    "import qcodes as qc\n",
    "qc.config[\"core\"][\"db_location\"] = os.path.join(cwd, 'testing.db')\n"
   ]
  },
  {
   "cell_type": "code",
   "execution_count": 2,
   "metadata": {},
   "outputs": [],
   "source": [
    "%matplotlib inline\n",
    "import time\n",
    "import matplotlib.pyplot as plt\n",
    "import numpy as np\n",
    "\n",
    "import qcodes as qc\n",
    "from qcodes.instrument.parameter import ManualParameter\n",
    "from qcodes.dataset.experiment_container import (Experiment,\n",
    "                                                 load_last_experiment,\n",
    "                                                 new_experiment)\n",
    "from qcodes.dataset.sqlite.database import initialise_database\n",
    "from qcodes import load_or_create_experiment\n",
    "from qcodes.dataset.measurements import Measurement"
   ]
  },
  {
   "cell_type": "code",
   "execution_count": 3,
   "metadata": {},
   "outputs": [
    {
     "name": "stdout",
     "output_type": "stream",
     "text": [
      "\r",
      "0it [00:00, ?it/s]"
     ]
    },
    {
     "name": "stdout",
     "output_type": "stream",
     "text": [
      "\r",
      "Upgrading database; v0 -> v1: : 0it [00:00, ?it/s]"
     ]
    },
    {
     "name": "stdout",
     "output_type": "stream",
     "text": [
      "\r",
      "Upgrading database; v0 -> v1: : 0it [00:00, ?it/s]"
     ]
    },
    {
     "name": "stdout",
     "output_type": "stream",
     "text": [
      "\n",
      "\r",
      "  0%|          | 0/1 [00:00<?, ?it/s]"
     ]
    },
    {
     "name": "stdout",
     "output_type": "stream",
     "text": [
      "\r",
      "Upgrading database; v1 -> v2:   0%|          | 0/1 [00:00<?, ?it/s]"
     ]
    },
    {
     "name": "stdout",
     "output_type": "stream",
     "text": [
      "\r",
      "Upgrading database; v1 -> v2: 100%|██████████| 1/1 [00:00<00:00, 1038.45it/s]"
     ]
    },
    {
     "name": "stdout",
     "output_type": "stream",
     "text": [
      "\n",
      "\r",
      "0it [00:00, ?it/s]"
     ]
    },
    {
     "name": "stdout",
     "output_type": "stream",
     "text": [
      "\r",
      "Upgrading database; v2 -> v3: : 0it [00:00, ?it/s]"
     ]
    },
    {
     "name": "stdout",
     "output_type": "stream",
     "text": [
      "\r",
      "Upgrading database; v2 -> v3: : 0it [00:00, ?it/s]"
     ]
    },
    {
     "name": "stdout",
     "output_type": "stream",
     "text": [
      "\n",
      "\r",
      "0it [00:00, ?it/s]"
     ]
    },
    {
     "name": "stdout",
     "output_type": "stream",
     "text": [
      "\r",
      "Upgrading database; v3 -> v4: : 0it [00:00, ?it/s]"
     ]
    },
    {
     "name": "stdout",
     "output_type": "stream",
     "text": [
      "\r",
      "Upgrading database; v3 -> v4: : 0it [00:00, ?it/s]"
     ]
    },
    {
     "name": "stdout",
     "output_type": "stream",
     "text": [
      "\n",
      "\r",
      "  0%|          | 0/1 [00:00<?, ?it/s]"
     ]
    },
    {
     "name": "stdout",
     "output_type": "stream",
     "text": [
      "\r",
      "Upgrading database; v4 -> v5:   0%|          | 0/1 [00:00<?, ?it/s]"
     ]
    },
    {
     "name": "stdout",
     "output_type": "stream",
     "text": [
      "\r",
      "Upgrading database; v4 -> v5: 100%|██████████| 1/1 [00:00<00:00, 996.98it/s]"
     ]
    },
    {
     "name": "stdout",
     "output_type": "stream",
     "text": [
      "\n",
      "\r",
      "0it [00:00, ?it/s]"
     ]
    },
    {
     "name": "stdout",
     "output_type": "stream",
     "text": [
      "\r",
      "Upgrading database; v5 -> v6: : 0it [00:00, ?it/s]"
     ]
    },
    {
     "name": "stdout",
     "output_type": "stream",
     "text": [
      "\r",
      "Upgrading database; v5 -> v6: : 0it [00:00, ?it/s]"
     ]
    },
    {
     "name": "stdout",
     "output_type": "stream",
     "text": [
      "\n",
      "\r",
      "  0%|          | 0/1 [00:00<?, ?it/s]"
     ]
    },
    {
     "name": "stdout",
     "output_type": "stream",
     "text": [
      "\r",
      "Upgrading database; v6 -> v7:   0%|          | 0/1 [00:00<?, ?it/s]"
     ]
    },
    {
     "name": "stdout",
     "output_type": "stream",
     "text": [
      "\r",
      "Upgrading database; v6 -> v7: 100%|██████████| 1/1 [00:00<00:00, 451.44it/s]"
     ]
    },
    {
     "name": "stdout",
     "output_type": "stream",
     "text": [
      "\n",
      "\r",
      "  0%|          | 0/1 [00:00<?, ?it/s]"
     ]
    },
    {
     "name": "stdout",
     "output_type": "stream",
     "text": [
      "\r",
      "Upgrading database; v7 -> v8:   0%|          | 0/1 [00:00<?, ?it/s]"
     ]
    },
    {
     "name": "stdout",
     "output_type": "stream",
     "text": [
      "\r",
      "Upgrading database; v7 -> v8: 100%|██████████| 1/1 [00:00<00:00, 733.91it/s]"
     ]
    },
    {
     "name": "stdout",
     "output_type": "stream",
     "text": [
      "\n",
      "\r",
      "  0%|          | 0/1 [00:00<?, ?it/s]"
     ]
    },
    {
     "name": "stdout",
     "output_type": "stream",
     "text": [
      "\r",
      "Upgrading database; v8 -> v9:   0%|          | 0/1 [00:00<?, ?it/s]"
     ]
    },
    {
     "name": "stdout",
     "output_type": "stream",
     "text": [
      "\r",
      "Upgrading database; v8 -> v9: 100%|██████████| 1/1 [00:00<00:00, 1148.50it/s]"
     ]
    },
    {
     "name": "stdout",
     "output_type": "stream",
     "text": [
      "\n"
     ]
    }
   ],
   "source": [
    "initialise_database()\n",
    "exp = load_or_create_experiment(experiment_name='tutorial_exp', sample_name=\"no sample\")"
   ]
  },
  {
   "cell_type": "markdown",
   "metadata": {},
   "source": [
    "Here, we define a simple function to benchmark the time it takes to insert n points with either numeric or array data type.\n",
    "We will compare both the time used to call ``add_result`` and the time used for the full measurement."
   ]
  },
  {
   "cell_type": "code",
   "execution_count": 4,
   "metadata": {},
   "outputs": [],
   "source": [
    "def insert_data(paramtype, npoints, nreps=1):\n",
    "\n",
    "    meas = Measurement(exp=exp)\n",
    "\n",
    "    x1 = ManualParameter('x1')\n",
    "    x2 = ManualParameter('x2')\n",
    "    x3 = ManualParameter('x3')\n",
    "    y1 = ManualParameter('y1')\n",
    "    y2 = ManualParameter('y2')\n",
    "\n",
    "    meas.register_parameter(x1, paramtype=paramtype)\n",
    "    meas.register_parameter(x2, paramtype=paramtype)\n",
    "    meas.register_parameter(x3, paramtype=paramtype)\n",
    "    meas.register_parameter(y1, setpoints=[x1, x2, x3],\n",
    "                            paramtype=paramtype)\n",
    "    meas.register_parameter(y2, setpoints=[x1, x2, x3],\n",
    "                            paramtype=paramtype)\n",
    "    start = time.perf_counter()\n",
    "    with meas.run() as datasaver:\n",
    "        start_adding = time.perf_counter()\n",
    "        for i in range(nreps):\n",
    "            datasaver.add_result((x1, np.random.rand(npoints)),\n",
    "                                 (x2, np.random.rand(npoints)),\n",
    "                                 (x3, np.random.rand(npoints)),\n",
    "                                 (y1, np.random.rand(npoints)),\n",
    "                                 (y2, np.random.rand(npoints)))\n",
    "        stop_adding = time.perf_counter()\n",
    "        run_id = datasaver.run_id\n",
    "    stop = time.perf_counter()\n",
    "    tot_time = stop - start\n",
    "    add_time = stop_adding - start_adding\n",
    "    return tot_time, add_time, run_id"
   ]
  },
  {
   "cell_type": "markdown",
   "metadata": {},
   "source": [
    "## Comparison between numeric/array data and binary blob"
   ]
  },
  {
   "cell_type": "markdown",
   "metadata": {},
   "source": [
    "### Case1: Short experiment time"
   ]
  },
  {
   "cell_type": "code",
   "execution_count": 5,
   "metadata": {},
   "outputs": [
    {
     "name": "stdout",
     "output_type": "stream",
     "text": [
      "Starting experimental run with id: 1. \n",
      "Starting experimental run with id: 2. \n"
     ]
    },
    {
     "name": "stdout",
     "output_type": "stream",
     "text": [
      "Starting experimental run with id: 3. \n"
     ]
    },
    {
     "name": "stdout",
     "output_type": "stream",
     "text": [
      "Starting experimental run with id: 4. \n"
     ]
    },
    {
     "name": "stdout",
     "output_type": "stream",
     "text": [
      "Starting experimental run with id: 5. \n"
     ]
    },
    {
     "name": "stdout",
     "output_type": "stream",
     "text": [
      "Starting experimental run with id: 6. \n",
      "Starting experimental run with id: 7. \n"
     ]
    },
    {
     "name": "stdout",
     "output_type": "stream",
     "text": [
      "Starting experimental run with id: 8. \n"
     ]
    },
    {
     "name": "stdout",
     "output_type": "stream",
     "text": [
      "Starting experimental run with id: 9. \n"
     ]
    },
    {
     "name": "stdout",
     "output_type": "stream",
     "text": [
      "Starting experimental run with id: 10. \n",
      "Starting experimental run with id: 11. \n"
     ]
    },
    {
     "name": "stdout",
     "output_type": "stream",
     "text": [
      "Starting experimental run with id: 12. \n"
     ]
    },
    {
     "name": "stdout",
     "output_type": "stream",
     "text": [
      "Starting experimental run with id: 13. \n"
     ]
    },
    {
     "name": "stdout",
     "output_type": "stream",
     "text": [
      "Starting experimental run with id: 14. \n"
     ]
    }
   ],
   "source": [
    "sizes = [1,500,1000,2000,3000,4000,5000]\n",
    "t_numeric = []\n",
    "t_numeric_add = []\n",
    "t_array = []\n",
    "t_array_add = []\n",
    "for size in sizes:\n",
    "    tn, tna, run_id_n =  insert_data('numeric', size)\n",
    "    t_numeric.append(tn)\n",
    "    t_numeric_add.append(tna)\n",
    "\n",
    "    ta, taa, run_id_a =  insert_data('array', size)\n",
    "    t_array.append(ta)\n",
    "    t_array_add.append(taa)"
   ]
  },
  {
   "cell_type": "code",
   "execution_count": 6,
   "metadata": {},
   "outputs": [
    {
     "data": {
      "image/png": "[encoded data removed]",
      "text/plain": [
       "<Figure size 432x288 with 1 Axes>"
      ]
     },
     "metadata": {
      "needs_background": "light"
     },
     "output_type": "display_data"
    }
   ],
   "source": [
    "fig, ax = plt.subplots(1,1)\n",
    "ax.plot(sizes, t_numeric, 'o-', label='Inserting row-by-row')\n",
    "ax.plot(sizes, t_numeric_add, 'o-', label='Inserting row-by-row: add_result only')\n",
    "ax.plot(sizes, t_array, 'd-', label='Inserting as binary blob')\n",
    "ax.plot(sizes, t_array_add, 'd-', label='Inserting as binary blob: add_result only')\n",
    "ax.legend()\n",
    "ax.set_xlabel('Array length')\n",
    "ax.set_ylabel('Time (s)')\n",
    "fig.tight_layout()"
   ]
  },
  {
   "cell_type": "markdown",
   "metadata": {},
   "source": [
    "As shown in the latter figure, the time to setup and and close the experiment is approximately 0.4 sec. In case of small array sizes, the difference between inserting values of data as arrays and inserting them row-by-row is relatively unimportant. At larger array sizes, i.e. above 10000 points, the cost of writing data as individual datapoints starts to become important.\n"
   ]
  },
  {
   "cell_type": "markdown",
   "metadata": {},
   "source": [
    "### Case2: Long experiment time "
   ]
  },
  {
   "cell_type": "code",
   "execution_count": 7,
   "metadata": {},
   "outputs": [
    {
     "name": "stdout",
     "output_type": "stream",
     "text": [
      "Starting experimental run with id: 15. \n",
      "Starting experimental run with id: 16. \n",
      "Starting experimental run with id: 17. \n"
     ]
    },
    {
     "name": "stdout",
     "output_type": "stream",
     "text": [
      "Starting experimental run with id: 18. \n",
      "Starting experimental run with id: 19. \n"
     ]
    },
    {
     "name": "stdout",
     "output_type": "stream",
     "text": [
      "Starting experimental run with id: 20. \n"
     ]
    },
    {
     "name": "stdout",
     "output_type": "stream",
     "text": [
      "Starting experimental run with id: 21. \n"
     ]
    },
    {
     "name": "stdout",
     "output_type": "stream",
     "text": [
      "Starting experimental run with id: 22. \n"
     ]
    },
    {
     "name": "stdout",
     "output_type": "stream",
     "text": [
      "Starting experimental run with id: 23. \n"
     ]
    },
    {
     "name": "stdout",
     "output_type": "stream",
     "text": [
      "Starting experimental run with id: 24. \n"
     ]
    },
    {
     "name": "stdout",
     "output_type": "stream",
     "text": [
      "Starting experimental run with id: 25. \n"
     ]
    },
    {
     "name": "stdout",
     "output_type": "stream",
     "text": [
      "Starting experimental run with id: 26. \n"
     ]
    },
    {
     "name": "stdout",
     "output_type": "stream",
     "text": [
      "Starting experimental run with id: 27. \n"
     ]
    },
    {
     "name": "stdout",
     "output_type": "stream",
     "text": [
      "Starting experimental run with id: 28. \n"
     ]
    }
   ],
   "source": [
    "sizes = [1,500,1000,2000,3000,4000,5000]\n",
    "nreps = 100\n",
    "t_numeric = []\n",
    "t_numeric_add = []\n",
    "t_numeric_run_ids = []\n",
    "t_array = []\n",
    "t_array_add = []\n",
    "t_array_run_ids = []\n",
    "for size in sizes:\n",
    "    tn, tna, run_id_n =  insert_data('numeric', size, nreps=nreps)\n",
    "    t_numeric.append(tn)\n",
    "    t_numeric_add.append(tna)\n",
    "    t_numeric_run_ids.append(run_id_n)\n",
    "\n",
    "    ta, taa, run_id_a =  insert_data('array', size, nreps=nreps)\n",
    "    t_array.append(ta)\n",
    "    t_array_add.append(taa)\n",
    "    t_array_run_ids.append(run_id_a)"
   ]
  },
  {
   "cell_type": "code",
   "execution_count": 8,
   "metadata": {
    "scrolled": true
   },
   "outputs": [
    {
     "data": {
      "image/png": "[encoded data removed]",
      "text/plain": [
       "<Figure size 432x288 with 1 Axes>"
      ]
     },
     "metadata": {
      "needs_background": "light"
     },
     "output_type": "display_data"
    }
   ],
   "source": [
    "fig, ax = plt.subplots(1,1)\n",
    "ax.plot(sizes, t_numeric, 'o-', label='Inserting row-by-row')\n",
    "ax.plot(sizes, t_numeric_add, 'o-', label='Inserting row-by-row: add_result only')\n",
    "ax.plot(sizes, t_array, 'd-', label='Inserting as binary blob')\n",
    "ax.plot(sizes, t_array_add, 'd-', label='Inserting as binary blob: add_result only')\n",
    "ax.legend()\n",
    "ax.set_xlabel('Array length')\n",
    "ax.set_ylabel('Time (s)')\n",
    "fig.tight_layout()"
   ]
  },
  {
   "cell_type": "markdown",
   "metadata": {},
   "source": [
    "However, as we increase the length of the experiment, as seen here by repeating the insertion 100 times, we see a big difference between inserting values of the data row-by-row and inserting it as a binary blob."
   ]
  },
  {
   "cell_type": "markdown",
   "metadata": {},
   "source": [
    "## Loading the data "
   ]
  },
  {
   "cell_type": "code",
   "execution_count": 9,
   "metadata": {},
   "outputs": [],
   "source": [
    "from qcodes.dataset.data_set import load_by_id\n",
    "from qcodes.dataset.data_export import get_data_by_id"
   ]
  },
  {
   "cell_type": "markdown",
   "metadata": {},
   "source": [
    "As usual you can load the data by using the ``load_by_id`` function but you will notice that the different storage methods\n",
    "are reflected in shape of the data as it is retrieved. "
   ]
  },
  {
   "cell_type": "code",
   "execution_count": 10,
   "metadata": {},
   "outputs": [],
   "source": [
    "run_id_n = t_numeric_run_ids[0]\n",
    "run_id_a = t_array_run_ids[0]"
   ]
  },
  {
   "cell_type": "code",
   "execution_count": 11,
   "metadata": {
    "scrolled": true
   },
   "outputs": [
    {
     "data": {
      "text/plain": [
       "{'x1': {'x1': array([0.18102582, 0.18102582, 0.57711448, 0.57711448, 0.39364853,\n",
       "         0.39364853, 0.96930407, 0.96930407, 0.37702468, 0.37702468,\n",
       "         0.01012084, 0.01012084, 0.02338368, 0.02338368, 0.39616193,\n",
       "         0.39616193, 0.95039938, 0.95039938, 0.19754118, 0.19754118,\n",
       "         0.89231174, 0.89231174, 0.25140448, 0.25140448, 0.26894332,\n",
       "         0.26894332, 0.6065767 , 0.6065767 , 0.90474081, 0.90474081,\n",
       "         0.31909633, 0.31909633, 0.06420306, 0.06420306, 0.74012201,\n",
       "         0.74012201, 0.05383669, 0.05383669, 0.98921311, 0.98921311,\n",
       "         0.72188755, 0.72188755, 0.86815907, 0.86815907, 0.58552509,\n",
       "         0.58552509, 0.1237414 , 0.1237414 , 0.22751701, 0.22751701,\n",
       "         0.77293147, 0.77293147, 0.77465803, 0.77465803, 0.8551597 ,\n",
       "         0.8551597 , 0.12635511, 0.12635511, 0.95467012, 0.95467012,\n",
       "         0.29616707, 0.29616707, 0.22405111, 0.22405111, 0.74671668,\n",
       "         0.74671668, 0.6079422 , 0.6079422 , 0.13774818, 0.13774818,\n",
       "         0.93879915, 0.93879915, 0.58214736, 0.58214736, 0.13534796,\n",
       "         0.13534796, 0.11552941, 0.11552941, 0.57300688, 0.57300688,\n",
       "         0.2608265 , 0.2608265 , 0.47106384, 0.47106384, 0.1255669 ,\n",
       "         0.1255669 , 0.46994039, 0.46994039, 0.83252441, 0.83252441,\n",
       "         0.35895062, 0.35895062, 0.33036168, 0.33036168, 0.56707176,\n",
       "         0.56707176, 0.29723791, 0.29723791, 0.51285432, 0.51285432,\n",
       "         0.29429767, 0.29429767, 0.46131819, 0.46131819, 0.60624019,\n",
       "         0.60624019, 0.14474355, 0.14474355, 0.056594  , 0.056594  ,\n",
       "         0.63084017, 0.63084017, 0.43577123, 0.43577123, 0.6024238 ,\n",
       "         0.6024238 , 0.39665001, 0.39665001, 0.25055329, 0.25055329,\n",
       "         0.63436525, 0.63436525, 0.33843913, 0.33843913, 0.13670805,\n",
       "         0.13670805, 0.30085233, 0.30085233, 0.68470995, 0.68470995,\n",
       "         0.35628124, 0.35628124, 0.78904496, 0.78904496, 0.56785673,\n",
       "         0.56785673, 0.73776739, 0.73776739, 0.82845048, 0.82845048,\n",
       "         0.64646877, 0.64646877, 0.26455879, 0.26455879, 0.69201537,\n",
       "         0.69201537, 0.13459154, 0.13459154, 0.79027624, 0.79027624,\n",
       "         0.10193765, 0.10193765, 0.29494948, 0.29494948, 0.07485084,\n",
       "         0.07485084, 0.54100282, 0.54100282, 0.00973561, 0.00973561,\n",
       "         0.03965177, 0.03965177, 0.89605677, 0.89605677, 0.63277111,\n",
       "         0.63277111, 0.59038431, 0.59038431, 0.48917485, 0.48917485,\n",
       "         0.65140686, 0.65140686, 0.00118773, 0.00118773, 0.32942618,\n",
       "         0.32942618, 0.44333392, 0.44333392, 0.93605094, 0.93605094,\n",
       "         0.35138542, 0.35138542, 0.43265711, 0.43265711, 0.70143984,\n",
       "         0.70143984, 0.45933984, 0.45933984, 0.36020195, 0.36020195,\n",
       "         0.58997367, 0.58997367, 0.9523517 , 0.9523517 , 0.52942453,\n",
       "         0.52942453, 0.27308922, 0.27308922, 0.02858012, 0.02858012])}}"
      ]
     },
     "execution_count": 11,
     "metadata": {},
     "output_type": "execute_result"
    }
   ],
   "source": [
    "ds = load_by_id(run_id_n)\n",
    "ds.get_parameter_data('x1')"
   ]
  },
  {
   "cell_type": "markdown",
   "metadata": {},
   "source": [
    "And a dataset stored as binary arrays"
   ]
  },
  {
   "cell_type": "code",
   "execution_count": 12,
   "metadata": {
    "scrolled": true
   },
   "outputs": [
    {
     "data": {
      "text/plain": [
       "{'x1': {'x1': array([[0.71624905],\n",
       "         [0.71624905],\n",
       "         [0.4606032 ],\n",
       "         [0.4606032 ],\n",
       "         [0.84336683],\n",
       "         [0.84336683],\n",
       "         [0.10395098],\n",
       "         [0.10395098],\n",
       "         [0.80829306],\n",
       "         [0.80829306],\n",
       "         [0.23159263],\n",
       "         [0.23159263],\n",
       "         [0.91589276],\n",
       "         [0.91589276],\n",
       "         [0.12914894],\n",
       "         [0.12914894],\n",
       "         [0.75527551],\n",
       "         [0.75527551],\n",
       "         [0.56289224],\n",
       "         [0.56289224],\n",
       "         [0.86004668],\n",
       "         [0.86004668],\n",
       "         [0.25720107],\n",
       "         [0.25720107],\n",
       "         [0.56126331],\n",
       "         [0.56126331],\n",
       "         [0.46279135],\n",
       "         [0.46279135],\n",
       "         [0.13148363],\n",
       "         [0.13148363],\n",
       "         [0.06893295],\n",
       "         [0.06893295],\n",
       "         [0.12523057],\n",
       "         [0.12523057],\n",
       "         [0.35908953],\n",
       "         [0.35908953],\n",
       "         [0.24186642],\n",
       "         [0.24186642],\n",
       "         [0.37064911],\n",
       "         [0.37064911],\n",
       "         [0.62133749],\n",
       "         [0.62133749],\n",
       "         [0.34765789],\n",
       "         [0.34765789],\n",
       "         [0.35985615],\n",
       "         [0.35985615],\n",
       "         [0.37328564],\n",
       "         [0.37328564],\n",
       "         [0.47890735],\n",
       "         [0.47890735],\n",
       "         [0.12740734],\n",
       "         [0.12740734],\n",
       "         [0.26435327],\n",
       "         [0.26435327],\n",
       "         [0.29336414],\n",
       "         [0.29336414],\n",
       "         [0.96914471],\n",
       "         [0.96914471],\n",
       "         [0.43980467],\n",
       "         [0.43980467],\n",
       "         [0.71541532],\n",
       "         [0.71541532],\n",
       "         [0.96357336],\n",
       "         [0.96357336],\n",
       "         [0.65370782],\n",
       "         [0.65370782],\n",
       "         [0.72447815],\n",
       "         [0.72447815],\n",
       "         [0.59917184],\n",
       "         [0.59917184],\n",
       "         [0.46935679],\n",
       "         [0.46935679],\n",
       "         [0.34286996],\n",
       "         [0.34286996],\n",
       "         [0.95257255],\n",
       "         [0.95257255],\n",
       "         [0.63822352],\n",
       "         [0.63822352],\n",
       "         [0.79372719],\n",
       "         [0.79372719],\n",
       "         [0.39161539],\n",
       "         [0.39161539],\n",
       "         [0.86425435],\n",
       "         [0.86425435],\n",
       "         [0.29409381],\n",
       "         [0.29409381],\n",
       "         [0.23437041],\n",
       "         [0.23437041],\n",
       "         [0.43756295],\n",
       "         [0.43756295],\n",
       "         [0.19550021],\n",
       "         [0.19550021],\n",
       "         [0.49594395],\n",
       "         [0.49594395],\n",
       "         [0.97600701],\n",
       "         [0.97600701],\n",
       "         [0.39190687],\n",
       "         [0.39190687],\n",
       "         [0.52026017],\n",
       "         [0.52026017],\n",
       "         [0.81324807],\n",
       "         [0.81324807],\n",
       "         [0.62095632],\n",
       "         [0.62095632],\n",
       "         [0.47423059],\n",
       "         [0.47423059],\n",
       "         [0.09145913],\n",
       "         [0.09145913],\n",
       "         [0.58389078],\n",
       "         [0.58389078],\n",
       "         [0.51908119],\n",
       "         [0.51908119],\n",
       "         [0.89758867],\n",
       "         [0.89758867],\n",
       "         [0.37921733],\n",
       "         [0.37921733],\n",
       "         [0.55313372],\n",
       "         [0.55313372],\n",
       "         [0.1084628 ],\n",
       "         [0.1084628 ],\n",
       "         [0.03535055],\n",
       "         [0.03535055],\n",
       "         [0.21345494],\n",
       "         [0.21345494],\n",
       "         [0.28321189],\n",
       "         [0.28321189],\n",
       "         [0.92223914],\n",
       "         [0.92223914],\n",
       "         [0.08034424],\n",
       "         [0.08034424],\n",
       "         [0.31911471],\n",
       "         [0.31911471],\n",
       "         [0.43193765],\n",
       "         [0.43193765],\n",
       "         [0.58757193],\n",
       "         [0.58757193],\n",
       "         [0.97337961],\n",
       "         [0.97337961],\n",
       "         [0.09944662],\n",
       "         [0.09944662],\n",
       "         [0.8766597 ],\n",
       "         [0.8766597 ],\n",
       "         [0.30638835],\n",
       "         [0.30638835],\n",
       "         [0.9224178 ],\n",
       "         [0.9224178 ],\n",
       "         [0.31685006],\n",
       "         [0.31685006],\n",
       "         [0.63886848],\n",
       "         [0.63886848],\n",
       "         [0.65333192],\n",
       "         [0.65333192],\n",
       "         [0.35082787],\n",
       "         [0.35082787],\n",
       "         [0.47126571],\n",
       "         [0.47126571],\n",
       "         [0.76682093],\n",
       "         [0.76682093],\n",
       "         [0.12281353],\n",
       "         [0.12281353],\n",
       "         [0.05348966],\n",
       "         [0.05348966],\n",
       "         [0.43444362],\n",
       "         [0.43444362],\n",
       "         [0.56670319],\n",
       "         [0.56670319],\n",
       "         [0.79852012],\n",
       "         [0.79852012],\n",
       "         [0.71281546],\n",
       "         [0.71281546],\n",
       "         [0.53599541],\n",
       "         [0.53599541],\n",
       "         [0.99367703],\n",
       "         [0.99367703],\n",
       "         [0.39706737],\n",
       "         [0.39706737],\n",
       "         [0.61109222],\n",
       "         [0.61109222],\n",
       "         [0.72500276],\n",
       "         [0.72500276],\n",
       "         [0.02309729],\n",
       "         [0.02309729],\n",
       "         [0.39351672],\n",
       "         [0.39351672],\n",
       "         [0.15382575],\n",
       "         [0.15382575],\n",
       "         [0.12271353],\n",
       "         [0.12271353],\n",
       "         [0.06222743],\n",
       "         [0.06222743],\n",
       "         [0.59001851],\n",
       "         [0.59001851],\n",
       "         [0.84125363],\n",
       "         [0.84125363],\n",
       "         [0.10035497],\n",
       "         [0.10035497],\n",
       "         [0.6584269 ],\n",
       "         [0.6584269 ],\n",
       "         [0.18335382],\n",
       "         [0.18335382]])}}"
      ]
     },
     "execution_count": 12,
     "metadata": {},
     "output_type": "execute_result"
    }
   ],
   "source": [
    "ds = load_by_id(run_id_a)\n",
    "ds.get_parameter_data('x1')"
   ]
  },
  {
   "cell_type": "code",
   "execution_count": null,
   "metadata": {},
   "outputs": [],
   "source": []
  }
 ],
 "metadata": {
  "kernelspec": {
   "display_name": "Python 3",
   "language": "python",
   "name": "python3"
  },
  "language_info": {
   "codemirror_mode": {
    "name": "ipython",
    "version": 3
   },
   "file_extension": ".py",
   "mimetype": "text/x-python",
   "name": "python",
   "nbconvert_exporter": "python",
   "pygments_lexer": "ipython3",
   "version": "3.7.7"
  },
  "nbsphinx": {
   "timeout": 600
  },
  "toc": {
   "base_numbering": 1,
   "nav_menu": {},
   "number_sections": true,
   "sideBar": true,
   "skip_h1_title": false,
   "title_cell": "Table of Contents",
   "title_sidebar": "Contents",
   "toc_cell": false,
   "toc_position": {},
   "toc_section_display": true,
   "toc_window_display": false
  },
  "varInspector": {
   "cols": {
    "lenName": 16,
    "lenType": 16,
    "lenVar": 40
   },
   "kernels_config": {
    "python": {
     "delete_cmd_postfix": "",
     "delete_cmd_prefix": "del ",
     "library": "var_list.py",
     "varRefreshCmd": "print(var_dic_list())"
    },
    "r": {
     "delete_cmd_postfix": ") ",
     "delete_cmd_prefix": "rm(",
     "library": "var_list.r",
     "varRefreshCmd": "cat(var_dic_list()) "
    }
   },
   "types_to_exclude": [
    "module",
    "function",
    "builtin_function_or_method",
    "instance",
    "_Feature"
   ],
   "window_display": false
  }
 },
 "nbformat": 4,
 "nbformat_minor": 2
}
