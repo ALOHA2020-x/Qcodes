{
 "cells": [
  {
   "cell_type": "markdown",
   "metadata": {},
   "source": [
    "# DataSet Performance\n",
    "\n",
    "This notebook shows the trade-off between inserting data into a database row-by-row and as binary blobs. Inserting the data row-by-row means that we have direct access to all the data and may perform queries directly on the values of the data. On the other hand, as we shall see, this is much slower than inserting the data directly as binary blobs."
   ]
  },
  {
   "cell_type": "markdown",
   "metadata": {},
   "source": [
    "First, we choose a new location for the database to ensure that we don't add a bunch of benchmarking data to the default one."
   ]
  },
  {
   "cell_type": "code",
   "execution_count": 1,
   "metadata": {
    "execution": {
     "iopub.execute_input": "2021-05-12T11:12:10.601868Z",
     "iopub.status.busy": "2021-05-12T11:12:10.601265Z",
     "iopub.status.idle": "2021-05-12T11:12:11.896567Z",
     "shell.execute_reply": "2021-05-12T11:12:11.895921Z"
    }
   },
   "outputs": [
    {
     "name": "stdout",
     "output_type": "stream",
     "text": [
      "Logging hadn't been started.\n",
      "Activating auto-logging. Current session state plus future input saved.\n",
      "Filename       : /home/runner/.qcodes/logs/command_history.log\n",
      "Mode           : append\n",
      "Output logging : True\n",
      "Raw input log  : False\n",
      "Timestamping   : True\n",
      "State          : active\n"
     ]
    },
    {
     "name": "stdout",
     "output_type": "stream",
     "text": [
      "Qcodes Logfile : /home/runner/.qcodes/logs/210512-4884-qcodes.log\n"
     ]
    }
   ],
   "source": [
    "import os\n",
    "cwd = os.getcwd()\n",
    "import qcodes as qc\n",
    "qc.config[\"core\"][\"db_location\"] = os.path.join(cwd, 'testing.db')\n"
   ]
  },
  {
   "cell_type": "code",
   "execution_count": 2,
   "metadata": {
    "execution": {
     "iopub.execute_input": "2021-05-12T11:12:11.904004Z",
     "iopub.status.busy": "2021-05-12T11:12:11.902638Z",
     "iopub.status.idle": "2021-05-12T11:12:12.133959Z",
     "shell.execute_reply": "2021-05-12T11:12:12.132780Z"
    }
   },
   "outputs": [],
   "source": [
    "%matplotlib inline\n",
    "import time\n",
    "import matplotlib.pyplot as plt\n",
    "import numpy as np\n",
    "\n",
    "import qcodes as qc\n",
    "from qcodes.instrument.parameter import ManualParameter\n",
    "from qcodes.dataset.experiment_container import (Experiment,\n",
    "                                                 load_last_experiment,\n",
    "                                                 new_experiment)\n",
    "from qcodes.dataset.sqlite.database import initialise_database\n",
    "from qcodes import load_or_create_experiment\n",
    "from qcodes.dataset.measurements import Measurement"
   ]
  },
  {
   "cell_type": "code",
   "execution_count": 3,
   "metadata": {
    "execution": {
     "iopub.execute_input": "2021-05-12T11:12:12.139251Z",
     "iopub.status.busy": "2021-05-12T11:12:12.137769Z",
     "iopub.status.idle": "2021-05-12T11:12:12.224173Z",
     "shell.execute_reply": "2021-05-12T11:12:12.224743Z"
    }
   },
   "outputs": [
    {
     "name": "stdout",
     "output_type": "stream",
     "text": [
      "\r",
      "0it [00:00, ?it/s]"
     ]
    },
    {
     "name": "stdout",
     "output_type": "stream",
     "text": [
      "\r",
      "Upgrading database; v0 -> v1: : 0it [00:00, ?it/s]"
     ]
    },
    {
     "name": "stdout",
     "output_type": "stream",
     "text": [
      "\r",
      "Upgrading database; v0 -> v1: : 0it [00:00, ?it/s]"
     ]
    },
    {
     "name": "stdout",
     "output_type": "stream",
     "text": [
      "\n",
      "\r",
      "  0%|          | 0/1 [00:00<?, ?it/s]"
     ]
    },
    {
     "name": "stdout",
     "output_type": "stream",
     "text": [
      "\r",
      "Upgrading database; v1 -> v2:   0%|          | 0/1 [00:00<?, ?it/s]"
     ]
    },
    {
     "name": "stdout",
     "output_type": "stream",
     "text": [
      "\r",
      "Upgrading database; v1 -> v2: 100%|██████████| 1/1 [00:00<00:00, 507.60it/s]"
     ]
    },
    {
     "name": "stdout",
     "output_type": "stream",
     "text": [
      "\n",
      "\r",
      "0it [00:00, ?it/s]"
     ]
    },
    {
     "name": "stdout",
     "output_type": "stream",
     "text": [
      "\r",
      "Upgrading database; v2 -> v3: : 0it [00:00, ?it/s]"
     ]
    },
    {
     "name": "stdout",
     "output_type": "stream",
     "text": [
      "\r",
      "Upgrading database; v2 -> v3: : 0it [00:00, ?it/s]"
     ]
    },
    {
     "name": "stdout",
     "output_type": "stream",
     "text": [
      "\n",
      "\r",
      "0it [00:00, ?it/s]"
     ]
    },
    {
     "name": "stdout",
     "output_type": "stream",
     "text": [
      "\r",
      "Upgrading database; v3 -> v4: : 0it [00:00, ?it/s]"
     ]
    },
    {
     "name": "stdout",
     "output_type": "stream",
     "text": [
      "\r",
      "Upgrading database; v3 -> v4: : 0it [00:00, ?it/s]"
     ]
    },
    {
     "name": "stdout",
     "output_type": "stream",
     "text": [
      "\n",
      "\r",
      "  0%|          | 0/1 [00:00<?, ?it/s]"
     ]
    },
    {
     "name": "stdout",
     "output_type": "stream",
     "text": [
      "\r",
      "Upgrading database; v4 -> v5:   0%|          | 0/1 [00:00<?, ?it/s]"
     ]
    },
    {
     "name": "stdout",
     "output_type": "stream",
     "text": [
      "\r",
      "Upgrading database; v4 -> v5: 100%|██████████| 1/1 [00:00<00:00, 522.33it/s]"
     ]
    },
    {
     "name": "stdout",
     "output_type": "stream",
     "text": [
      "\n",
      "\r",
      "0it [00:00, ?it/s]"
     ]
    },
    {
     "name": "stdout",
     "output_type": "stream",
     "text": [
      "\r",
      "Upgrading database; v5 -> v6: : 0it [00:00, ?it/s]"
     ]
    },
    {
     "name": "stdout",
     "output_type": "stream",
     "text": [
      "\r",
      "Upgrading database; v5 -> v6: : 0it [00:00, ?it/s]"
     ]
    },
    {
     "name": "stdout",
     "output_type": "stream",
     "text": [
      "\n",
      "\r",
      "  0%|          | 0/1 [00:00<?, ?it/s]"
     ]
    },
    {
     "name": "stdout",
     "output_type": "stream",
     "text": [
      "\r",
      "Upgrading database; v6 -> v7:   0%|          | 0/1 [00:00<?, ?it/s]"
     ]
    },
    {
     "name": "stdout",
     "output_type": "stream",
     "text": [
      "\r",
      "Upgrading database; v6 -> v7: 100%|██████████| 1/1 [00:00<00:00, 263.69it/s]"
     ]
    },
    {
     "name": "stdout",
     "output_type": "stream",
     "text": [
      "\n",
      "\r",
      "  0%|          | 0/1 [00:00<?, ?it/s]"
     ]
    },
    {
     "name": "stdout",
     "output_type": "stream",
     "text": [
      "\r",
      "Upgrading database; v7 -> v8:   0%|          | 0/1 [00:00<?, ?it/s]"
     ]
    },
    {
     "name": "stdout",
     "output_type": "stream",
     "text": [
      "\r",
      "Upgrading database; v7 -> v8: 100%|██████████| 1/1 [00:00<00:00, 523.70it/s]"
     ]
    },
    {
     "name": "stdout",
     "output_type": "stream",
     "text": [
      "\n",
      "\r",
      "  0%|          | 0/1 [00:00<?, ?it/s]"
     ]
    },
    {
     "name": "stdout",
     "output_type": "stream",
     "text": [
      "\r",
      "Upgrading database; v8 -> v9:   0%|          | 0/1 [00:00<?, ?it/s]"
     ]
    },
    {
     "name": "stdout",
     "output_type": "stream",
     "text": [
      "\r",
      "Upgrading database; v8 -> v9: 100%|██████████| 1/1 [00:00<00:00, 1065.63it/s]"
     ]
    },
    {
     "name": "stdout",
     "output_type": "stream",
     "text": [
      "\n"
     ]
    }
   ],
   "source": [
    "initialise_database()\n",
    "exp = load_or_create_experiment(experiment_name='tutorial_exp', sample_name=\"no sample\")"
   ]
  },
  {
   "cell_type": "markdown",
   "metadata": {},
   "source": [
    "Here, we define a simple function to benchmark the time it takes to insert n points with either numeric or array data type.\n",
    "We will compare both the time used to call ``add_result`` and the time used for the full measurement."
   ]
  },
  {
   "cell_type": "code",
   "execution_count": 4,
   "metadata": {
    "execution": {
     "iopub.execute_input": "2021-05-12T11:12:12.233174Z",
     "iopub.status.busy": "2021-05-12T11:12:12.232548Z",
     "iopub.status.idle": "2021-05-12T11:12:12.238081Z",
     "shell.execute_reply": "2021-05-12T11:12:12.238875Z"
    }
   },
   "outputs": [],
   "source": [
    "def insert_data(paramtype, npoints, nreps=1):\n",
    "\n",
    "    meas = Measurement(exp=exp)\n",
    "\n",
    "    x1 = ManualParameter('x1')\n",
    "    x2 = ManualParameter('x2')\n",
    "    x3 = ManualParameter('x3')\n",
    "    y1 = ManualParameter('y1')\n",
    "    y2 = ManualParameter('y2')\n",
    "\n",
    "    meas.register_parameter(x1, paramtype=paramtype)\n",
    "    meas.register_parameter(x2, paramtype=paramtype)\n",
    "    meas.register_parameter(x3, paramtype=paramtype)\n",
    "    meas.register_parameter(y1, setpoints=[x1, x2, x3],\n",
    "                            paramtype=paramtype)\n",
    "    meas.register_parameter(y2, setpoints=[x1, x2, x3],\n",
    "                            paramtype=paramtype)\n",
    "    start = time.perf_counter()\n",
    "    with meas.run() as datasaver:\n",
    "        start_adding = time.perf_counter()\n",
    "        for i in range(nreps):\n",
    "            datasaver.add_result((x1, np.random.rand(npoints)),\n",
    "                                 (x2, np.random.rand(npoints)),\n",
    "                                 (x3, np.random.rand(npoints)),\n",
    "                                 (y1, np.random.rand(npoints)),\n",
    "                                 (y2, np.random.rand(npoints)))\n",
    "        stop_adding = time.perf_counter()\n",
    "        run_id = datasaver.run_id\n",
    "    stop = time.perf_counter()\n",
    "    tot_time = stop - start\n",
    "    add_time = stop_adding - start_adding\n",
    "    return tot_time, add_time, run_id"
   ]
  },
  {
   "cell_type": "markdown",
   "metadata": {},
   "source": [
    "## Comparison between numeric/array data and binary blob"
   ]
  },
  {
   "cell_type": "markdown",
   "metadata": {},
   "source": [
    "### Case1: Short experiment time"
   ]
  },
  {
   "cell_type": "code",
   "execution_count": 5,
   "metadata": {
    "execution": {
     "iopub.execute_input": "2021-05-12T11:12:12.246300Z",
     "iopub.status.busy": "2021-05-12T11:12:12.244977Z",
     "iopub.status.idle": "2021-05-12T11:12:13.137017Z",
     "shell.execute_reply": "2021-05-12T11:12:13.135810Z"
    }
   },
   "outputs": [
    {
     "name": "stdout",
     "output_type": "stream",
     "text": [
      "Starting experimental run with id: 1. \n",
      "Starting experimental run with id: 2. \n",
      "Starting experimental run with id: 3. \n"
     ]
    },
    {
     "name": "stdout",
     "output_type": "stream",
     "text": [
      "Starting experimental run with id: 4. \n"
     ]
    },
    {
     "name": "stdout",
     "output_type": "stream",
     "text": [
      "Starting experimental run with id: 5. \n"
     ]
    },
    {
     "name": "stdout",
     "output_type": "stream",
     "text": [
      "Starting experimental run with id: 6. \n",
      "Starting experimental run with id: 7. \n",
      "Starting experimental run with id: 8. \n"
     ]
    },
    {
     "name": "stdout",
     "output_type": "stream",
     "text": [
      "Starting experimental run with id: 9. \n"
     ]
    },
    {
     "name": "stdout",
     "output_type": "stream",
     "text": [
      "Starting experimental run with id: 10. \n",
      "Starting experimental run with id: 11. \n"
     ]
    },
    {
     "name": "stdout",
     "output_type": "stream",
     "text": [
      "Starting experimental run with id: 12. \n"
     ]
    },
    {
     "name": "stdout",
     "output_type": "stream",
     "text": [
      "Starting experimental run with id: 13. \n"
     ]
    },
    {
     "name": "stdout",
     "output_type": "stream",
     "text": [
      "Starting experimental run with id: 14. \n"
     ]
    }
   ],
   "source": [
    "sizes = [1,500,1000,2000,3000,4000,5000]\n",
    "t_numeric = []\n",
    "t_numeric_add = []\n",
    "t_array = []\n",
    "t_array_add = []\n",
    "for size in sizes:\n",
    "    tn, tna, run_id_n =  insert_data('numeric', size)\n",
    "    t_numeric.append(tn)\n",
    "    t_numeric_add.append(tna)\n",
    "\n",
    "    ta, taa, run_id_a =  insert_data('array', size)\n",
    "    t_array.append(ta)\n",
    "    t_array_add.append(taa)"
   ]
  },
  {
   "cell_type": "code",
   "execution_count": 6,
   "metadata": {
    "execution": {
     "iopub.execute_input": "2021-05-12T11:12:13.193434Z",
     "iopub.status.busy": "2021-05-12T11:12:13.157278Z",
     "iopub.status.idle": "2021-05-12T11:12:13.463420Z",
     "shell.execute_reply": "2021-05-12T11:12:13.462037Z"
    }
   },
   "outputs": [
    {
     "data": {
      "image/png": "[encoded data removed]",
      "text/plain": [
       "<Figure size 432x288 with 1 Axes>"
      ]
     },
     "metadata": {
      "needs_background": "light"
     },
     "output_type": "display_data"
    }
   ],
   "source": [
    "fig, ax = plt.subplots(1,1)\n",
    "ax.plot(sizes, t_numeric, 'o-', label='Inserting row-by-row')\n",
    "ax.plot(sizes, t_numeric_add, 'o-', label='Inserting row-by-row: add_result only')\n",
    "ax.plot(sizes, t_array, 'd-', label='Inserting as binary blob')\n",
    "ax.plot(sizes, t_array_add, 'd-', label='Inserting as binary blob: add_result only')\n",
    "ax.legend()\n",
    "ax.set_xlabel('Array length')\n",
    "ax.set_ylabel('Time (s)')\n",
    "fig.tight_layout()"
   ]
  },
  {
   "cell_type": "markdown",
   "metadata": {},
   "source": [
    "As shown in the latter figure, the time to setup and and close the experiment is approximately 0.4 sec. In case of small array sizes, the difference between inserting values of data as arrays and inserting them row-by-row is relatively unimportant. At larger array sizes, i.e. above 10000 points, the cost of writing data as individual datapoints starts to become important.\n"
   ]
  },
  {
   "cell_type": "markdown",
   "metadata": {},
   "source": [
    "### Case2: Long experiment time "
   ]
  },
  {
   "cell_type": "code",
   "execution_count": 7,
   "metadata": {
    "execution": {
     "iopub.execute_input": "2021-05-12T11:12:13.471913Z",
     "iopub.status.busy": "2021-05-12T11:12:13.470404Z",
     "iopub.status.idle": "2021-05-12T11:13:13.346977Z",
     "shell.execute_reply": "2021-05-12T11:13:13.345909Z"
    }
   },
   "outputs": [
    {
     "name": "stdout",
     "output_type": "stream",
     "text": [
      "Starting experimental run with id: 15. \n",
      "Starting experimental run with id: 16. \n"
     ]
    },
    {
     "name": "stdout",
     "output_type": "stream",
     "text": [
      "Starting experimental run with id: 17. \n"
     ]
    },
    {
     "name": "stdout",
     "output_type": "stream",
     "text": [
      "Starting experimental run with id: 18. \n"
     ]
    },
    {
     "name": "stdout",
     "output_type": "stream",
     "text": [
      "Starting experimental run with id: 19. \n"
     ]
    },
    {
     "name": "stdout",
     "output_type": "stream",
     "text": [
      "Starting experimental run with id: 20. \n"
     ]
    },
    {
     "name": "stdout",
     "output_type": "stream",
     "text": [
      "Starting experimental run with id: 21. \n"
     ]
    },
    {
     "name": "stdout",
     "output_type": "stream",
     "text": [
      "Starting experimental run with id: 22. \n"
     ]
    },
    {
     "name": "stdout",
     "output_type": "stream",
     "text": [
      "Starting experimental run with id: 23. \n"
     ]
    },
    {
     "name": "stdout",
     "output_type": "stream",
     "text": [
      "Starting experimental run with id: 24. \n"
     ]
    },
    {
     "name": "stdout",
     "output_type": "stream",
     "text": [
      "Starting experimental run with id: 25. \n"
     ]
    },
    {
     "name": "stdout",
     "output_type": "stream",
     "text": [
      "Starting experimental run with id: 26. \n"
     ]
    },
    {
     "name": "stdout",
     "output_type": "stream",
     "text": [
      "Starting experimental run with id: 27. \n"
     ]
    },
    {
     "name": "stdout",
     "output_type": "stream",
     "text": [
      "Starting experimental run with id: 28. \n"
     ]
    }
   ],
   "source": [
    "sizes = [1,500,1000,2000,3000,4000,5000]\n",
    "nreps = 100\n",
    "t_numeric = []\n",
    "t_numeric_add = []\n",
    "t_numeric_run_ids = []\n",
    "t_array = []\n",
    "t_array_add = []\n",
    "t_array_run_ids = []\n",
    "for size in sizes:\n",
    "    tn, tna, run_id_n =  insert_data('numeric', size, nreps=nreps)\n",
    "    t_numeric.append(tn)\n",
    "    t_numeric_add.append(tna)\n",
    "    t_numeric_run_ids.append(run_id_n)\n",
    "\n",
    "    ta, taa, run_id_a =  insert_data('array', size, nreps=nreps)\n",
    "    t_array.append(ta)\n",
    "    t_array_add.append(taa)\n",
    "    t_array_run_ids.append(run_id_a)"
   ]
  },
  {
   "cell_type": "code",
   "execution_count": 8,
   "metadata": {
    "execution": {
     "iopub.execute_input": "2021-05-12T11:13:13.370801Z",
     "iopub.status.busy": "2021-05-12T11:13:13.360490Z",
     "iopub.status.idle": "2021-05-12T11:13:13.626412Z",
     "shell.execute_reply": "2021-05-12T11:13:13.625830Z"
    },
    "scrolled": true
   },
   "outputs": [
    {
     "data": {
      "image/png": "[encoded data removed]",
      "text/plain": [
       "<Figure size 432x288 with 1 Axes>"
      ]
     },
     "metadata": {
      "needs_background": "light"
     },
     "output_type": "display_data"
    }
   ],
   "source": [
    "fig, ax = plt.subplots(1,1)\n",
    "ax.plot(sizes, t_numeric, 'o-', label='Inserting row-by-row')\n",
    "ax.plot(sizes, t_numeric_add, 'o-', label='Inserting row-by-row: add_result only')\n",
    "ax.plot(sizes, t_array, 'd-', label='Inserting as binary blob')\n",
    "ax.plot(sizes, t_array_add, 'd-', label='Inserting as binary blob: add_result only')\n",
    "ax.legend()\n",
    "ax.set_xlabel('Array length')\n",
    "ax.set_ylabel('Time (s)')\n",
    "fig.tight_layout()"
   ]
  },
  {
   "cell_type": "markdown",
   "metadata": {},
   "source": [
    "However, as we increase the length of the experiment, as seen here by repeating the insertion 100 times, we see a big difference between inserting values of the data row-by-row and inserting it as a binary blob."
   ]
  },
  {
   "cell_type": "markdown",
   "metadata": {},
   "source": [
    "## Loading the data "
   ]
  },
  {
   "cell_type": "code",
   "execution_count": 9,
   "metadata": {
    "execution": {
     "iopub.execute_input": "2021-05-12T11:13:13.633157Z",
     "iopub.status.busy": "2021-05-12T11:13:13.631326Z",
     "iopub.status.idle": "2021-05-12T11:13:13.633925Z",
     "shell.execute_reply": "2021-05-12T11:13:13.634462Z"
    }
   },
   "outputs": [],
   "source": [
    "from qcodes.dataset.data_set import load_by_id"
   ]
  },
  {
   "cell_type": "markdown",
   "metadata": {},
   "source": [
    "As usual you can load the data by using the ``load_by_id`` function but you will notice that the different storage methods\n",
    "are reflected in shape of the data as it is retrieved. "
   ]
  },
  {
   "cell_type": "code",
   "execution_count": 10,
   "metadata": {
    "execution": {
     "iopub.execute_input": "2021-05-12T11:13:13.640329Z",
     "iopub.status.busy": "2021-05-12T11:13:13.638854Z",
     "iopub.status.idle": "2021-05-12T11:13:13.641024Z",
     "shell.execute_reply": "2021-05-12T11:13:13.641693Z"
    }
   },
   "outputs": [],
   "source": [
    "run_id_n = t_numeric_run_ids[0]\n",
    "run_id_a = t_array_run_ids[0]"
   ]
  },
  {
   "cell_type": "code",
   "execution_count": 11,
   "metadata": {
    "execution": {
     "iopub.execute_input": "2021-05-12T11:13:13.645788Z",
     "iopub.status.busy": "2021-05-12T11:13:13.645104Z",
     "iopub.status.idle": "2021-05-12T11:13:13.655736Z",
     "shell.execute_reply": "2021-05-12T11:13:13.656268Z"
    },
    "scrolled": true
   },
   "outputs": [
    {
     "data": {
      "text/plain": [
       "{'x1': {'x1': array([0.63787545, 0.63787545, 0.36616199, 0.36616199, 0.01394524,\n",
       "         0.01394524, 0.35183459, 0.35183459, 0.23855133, 0.23855133,\n",
       "         0.66138739, 0.66138739, 0.06210427, 0.06210427, 0.98362064,\n",
       "         0.98362064, 0.30147184, 0.30147184, 0.56976122, 0.56976122,\n",
       "         0.15125826, 0.15125826, 0.07943651, 0.07943651, 0.96281115,\n",
       "         0.96281115, 0.47584519, 0.47584519, 0.19996324, 0.19996324,\n",
       "         0.5828545 , 0.5828545 , 0.76369325, 0.76369325, 0.90626253,\n",
       "         0.90626253, 0.40390635, 0.40390635, 0.27016882, 0.27016882,\n",
       "         0.88026812, 0.88026812, 0.75771814, 0.75771814, 0.07891601,\n",
       "         0.07891601, 0.11956968, 0.11956968, 0.90152592, 0.90152592,\n",
       "         0.39751259, 0.39751259, 0.99948272, 0.99948272, 0.75838601,\n",
       "         0.75838601, 0.76641053, 0.76641053, 0.75364415, 0.75364415,\n",
       "         0.34963645, 0.34963645, 0.47048102, 0.47048102, 0.01580609,\n",
       "         0.01580609, 0.27566462, 0.27566462, 0.73225678, 0.73225678,\n",
       "         0.55684281, 0.55684281, 0.03562213, 0.03562213, 0.02322855,\n",
       "         0.02322855, 0.21025588, 0.21025588, 0.83179654, 0.83179654,\n",
       "         0.55714141, 0.55714141, 0.06997103, 0.06997103, 0.80070932,\n",
       "         0.80070932, 0.0109694 , 0.0109694 , 0.08228174, 0.08228174,\n",
       "         0.05789855, 0.05789855, 0.78863019, 0.78863019, 0.49357923,\n",
       "         0.49357923, 0.9555709 , 0.9555709 , 0.68687497, 0.68687497,\n",
       "         0.50029012, 0.50029012, 0.18402295, 0.18402295, 0.89414762,\n",
       "         0.89414762, 0.05945229, 0.05945229, 0.74119018, 0.74119018,\n",
       "         0.1338419 , 0.1338419 , 0.40882215, 0.40882215, 0.71194342,\n",
       "         0.71194342, 0.43395772, 0.43395772, 0.18643435, 0.18643435,\n",
       "         0.17254188, 0.17254188, 0.44396255, 0.44396255, 0.9384298 ,\n",
       "         0.9384298 , 0.92628671, 0.92628671, 0.18383093, 0.18383093,\n",
       "         0.49063306, 0.49063306, 0.46077565, 0.46077565, 0.02348744,\n",
       "         0.02348744, 0.86043318, 0.86043318, 0.88464962, 0.88464962,\n",
       "         0.49290744, 0.49290744, 0.87955882, 0.87955882, 0.81359558,\n",
       "         0.81359558, 0.29535877, 0.29535877, 0.06622104, 0.06622104,\n",
       "         0.20010653, 0.20010653, 0.82681976, 0.82681976, 0.83412941,\n",
       "         0.83412941, 0.21305565, 0.21305565, 0.66736021, 0.66736021,\n",
       "         0.20884304, 0.20884304, 0.2461832 , 0.2461832 , 0.5958265 ,\n",
       "         0.5958265 , 0.16807307, 0.16807307, 0.39304841, 0.39304841,\n",
       "         0.12060904, 0.12060904, 0.89029179, 0.89029179, 0.71697201,\n",
       "         0.71697201, 0.33685707, 0.33685707, 0.67874518, 0.67874518,\n",
       "         0.6657794 , 0.6657794 , 0.55365552, 0.55365552, 0.79112391,\n",
       "         0.79112391, 0.35241148, 0.35241148, 0.70728233, 0.70728233,\n",
       "         0.37787203, 0.37787203, 0.76169393, 0.76169393, 0.25032201,\n",
       "         0.25032201, 0.41292727, 0.41292727, 0.91632945, 0.91632945])}}"
      ]
     },
     "execution_count": 1,
     "metadata": {},
     "output_type": "execute_result"
    }
   ],
   "source": [
    "ds = load_by_id(run_id_n)\n",
    "ds.get_parameter_data('x1')"
   ]
  },
  {
   "cell_type": "markdown",
   "metadata": {},
   "source": [
    "And a dataset stored as binary arrays"
   ]
  },
  {
   "cell_type": "code",
   "execution_count": 12,
   "metadata": {
    "execution": {
     "iopub.execute_input": "2021-05-12T11:13:13.660674Z",
     "iopub.status.busy": "2021-05-12T11:13:13.660070Z",
     "iopub.status.idle": "2021-05-12T11:13:13.743389Z",
     "shell.execute_reply": "2021-05-12T11:13:13.744009Z"
    },
    "scrolled": true
   },
   "outputs": [
    {
     "data": {
      "text/plain": [
       "{'x1': {'x1': array([[0.65913886],\n",
       "         [0.65913886],\n",
       "         [0.52107617],\n",
       "         [0.52107617],\n",
       "         [0.93607347],\n",
       "         [0.93607347],\n",
       "         [0.18912443],\n",
       "         [0.18912443],\n",
       "         [0.54021235],\n",
       "         [0.54021235],\n",
       "         [0.20924205],\n",
       "         [0.20924205],\n",
       "         [0.14549321],\n",
       "         [0.14549321],\n",
       "         [0.56553904],\n",
       "         [0.56553904],\n",
       "         [0.43787558],\n",
       "         [0.43787558],\n",
       "         [0.04037525],\n",
       "         [0.04037525],\n",
       "         [0.09570324],\n",
       "         [0.09570324],\n",
       "         [0.78229072],\n",
       "         [0.78229072],\n",
       "         [0.08400004],\n",
       "         [0.08400004],\n",
       "         [0.02352921],\n",
       "         [0.02352921],\n",
       "         [0.49588195],\n",
       "         [0.49588195],\n",
       "         [0.04202333],\n",
       "         [0.04202333],\n",
       "         [0.30234969],\n",
       "         [0.30234969],\n",
       "         [0.22840577],\n",
       "         [0.22840577],\n",
       "         [0.68616737],\n",
       "         [0.68616737],\n",
       "         [0.51480636],\n",
       "         [0.51480636],\n",
       "         [0.12885114],\n",
       "         [0.12885114],\n",
       "         [0.09418712],\n",
       "         [0.09418712],\n",
       "         [0.96484657],\n",
       "         [0.96484657],\n",
       "         [0.62470557],\n",
       "         [0.62470557],\n",
       "         [0.88132667],\n",
       "         [0.88132667],\n",
       "         [0.33875389],\n",
       "         [0.33875389],\n",
       "         [0.73989666],\n",
       "         [0.73989666],\n",
       "         [0.38275556],\n",
       "         [0.38275556],\n",
       "         [0.36778082],\n",
       "         [0.36778082],\n",
       "         [0.65899742],\n",
       "         [0.65899742],\n",
       "         [0.06282273],\n",
       "         [0.06282273],\n",
       "         [0.83405371],\n",
       "         [0.83405371],\n",
       "         [0.97391345],\n",
       "         [0.97391345],\n",
       "         [0.10561071],\n",
       "         [0.10561071],\n",
       "         [0.63007324],\n",
       "         [0.63007324],\n",
       "         [0.04598099],\n",
       "         [0.04598099],\n",
       "         [0.00698674],\n",
       "         [0.00698674],\n",
       "         [0.9234379 ],\n",
       "         [0.9234379 ],\n",
       "         [0.84044568],\n",
       "         [0.84044568],\n",
       "         [0.17208443],\n",
       "         [0.17208443],\n",
       "         [0.02019102],\n",
       "         [0.02019102],\n",
       "         [0.41971399],\n",
       "         [0.41971399],\n",
       "         [0.90645044],\n",
       "         [0.90645044],\n",
       "         [0.68619449],\n",
       "         [0.68619449],\n",
       "         [0.65885713],\n",
       "         [0.65885713],\n",
       "         [0.33732538],\n",
       "         [0.33732538],\n",
       "         [0.74778067],\n",
       "         [0.74778067],\n",
       "         [0.86317274],\n",
       "         [0.86317274],\n",
       "         [0.26781601],\n",
       "         [0.26781601],\n",
       "         [0.11391055],\n",
       "         [0.11391055],\n",
       "         [0.18911912],\n",
       "         [0.18911912],\n",
       "         [0.3113455 ],\n",
       "         [0.3113455 ],\n",
       "         [0.73322563],\n",
       "         [0.73322563],\n",
       "         [0.85745931],\n",
       "         [0.85745931],\n",
       "         [0.22670571],\n",
       "         [0.22670571],\n",
       "         [0.77400259],\n",
       "         [0.77400259],\n",
       "         [0.87670043],\n",
       "         [0.87670043],\n",
       "         [0.69281552],\n",
       "         [0.69281552],\n",
       "         [0.2874967 ],\n",
       "         [0.2874967 ],\n",
       "         [0.12414479],\n",
       "         [0.12414479],\n",
       "         [0.07701227],\n",
       "         [0.07701227],\n",
       "         [0.62400001],\n",
       "         [0.62400001],\n",
       "         [0.99408301],\n",
       "         [0.99408301],\n",
       "         [0.3383255 ],\n",
       "         [0.3383255 ],\n",
       "         [0.02806639],\n",
       "         [0.02806639],\n",
       "         [0.35300487],\n",
       "         [0.35300487],\n",
       "         [0.7008995 ],\n",
       "         [0.7008995 ],\n",
       "         [0.48802219],\n",
       "         [0.48802219],\n",
       "         [0.44025876],\n",
       "         [0.44025876],\n",
       "         [0.42003181],\n",
       "         [0.42003181],\n",
       "         [0.89689673],\n",
       "         [0.89689673],\n",
       "         [0.82299007],\n",
       "         [0.82299007],\n",
       "         [0.79562782],\n",
       "         [0.79562782],\n",
       "         [0.90284717],\n",
       "         [0.90284717],\n",
       "         [0.93926989],\n",
       "         [0.93926989],\n",
       "         [0.06426935],\n",
       "         [0.06426935],\n",
       "         [0.26105367],\n",
       "         [0.26105367],\n",
       "         [0.88452729],\n",
       "         [0.88452729],\n",
       "         [0.42175531],\n",
       "         [0.42175531],\n",
       "         [0.44560887],\n",
       "         [0.44560887],\n",
       "         [0.63853571],\n",
       "         [0.63853571],\n",
       "         [0.06341539],\n",
       "         [0.06341539],\n",
       "         [0.33882475],\n",
       "         [0.33882475],\n",
       "         [0.31277119],\n",
       "         [0.31277119],\n",
       "         [0.48792659],\n",
       "         [0.48792659],\n",
       "         [0.67735706],\n",
       "         [0.67735706],\n",
       "         [0.41899369],\n",
       "         [0.41899369],\n",
       "         [0.68605947],\n",
       "         [0.68605947],\n",
       "         [0.55593622],\n",
       "         [0.55593622],\n",
       "         [0.60496299],\n",
       "         [0.60496299],\n",
       "         [0.33681268],\n",
       "         [0.33681268],\n",
       "         [0.73756902],\n",
       "         [0.73756902],\n",
       "         [0.89029409],\n",
       "         [0.89029409],\n",
       "         [0.5288664 ],\n",
       "         [0.5288664 ],\n",
       "         [0.13023883],\n",
       "         [0.13023883],\n",
       "         [0.38876754],\n",
       "         [0.38876754],\n",
       "         [0.82635313],\n",
       "         [0.82635313],\n",
       "         [0.08608703],\n",
       "         [0.08608703],\n",
       "         [0.76587392],\n",
       "         [0.76587392],\n",
       "         [0.14389844],\n",
       "         [0.14389844]])}}"
      ]
     },
     "execution_count": 1,
     "metadata": {},
     "output_type": "execute_result"
    }
   ],
   "source": [
    "ds = load_by_id(run_id_a)\n",
    "ds.get_parameter_data('x1')"
   ]
  },
  {
   "cell_type": "code",
   "execution_count": null,
   "metadata": {},
   "outputs": [],
   "source": []
  }
 ],
 "metadata": {
  "kernelspec": {
   "display_name": "Python 3",
   "language": "python",
   "name": "python3"
  },
  "language_info": {
   "codemirror_mode": {
    "name": "ipython",
    "version": 3
   },
   "file_extension": ".py",
   "mimetype": "text/x-python",
   "name": "python",
   "nbconvert_exporter": "python",
   "pygments_lexer": "ipython3",
   "version": "3.7.10"
  },
  "nbsphinx": {
   "timeout": 600
  },
  "toc": {
   "base_numbering": 1,
   "nav_menu": {},
   "number_sections": true,
   "sideBar": true,
   "skip_h1_title": false,
   "title_cell": "Table of Contents",
   "title_sidebar": "Contents",
   "toc_cell": false,
   "toc_position": {},
   "toc_section_display": true,
   "toc_window_display": false
  },
  "varInspector": {
   "cols": {
    "lenName": 16,
    "lenType": 16,
    "lenVar": 40
   },
   "kernels_config": {
    "python": {
     "delete_cmd_postfix": "",
     "delete_cmd_prefix": "del ",
     "library": "var_list.py",
     "varRefreshCmd": "print(var_dic_list())"
    },
    "r": {
     "delete_cmd_postfix": ") ",
     "delete_cmd_prefix": "rm(",
     "library": "var_list.r",
     "varRefreshCmd": "cat(var_dic_list()) "
    }
   },
   "types_to_exclude": [
    "module",
    "function",
    "builtin_function_or_method",
    "instance",
    "_Feature"
   ],
   "window_display": false
  }
 },
 "nbformat": 4,
 "nbformat_minor": 4
}
