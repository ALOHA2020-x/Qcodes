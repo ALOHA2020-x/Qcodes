{
 "cells": [
  {
   "cell_type": "markdown",
   "metadata": {},
   "source": [
    "# DataSet Performance\n",
    "\n",
    "This notebook shows the trade-off between inserting data into a database row-by-row and as binary blobs. Inserting the data row-by-row means that we have direct access to all the data and may perform queries directly on the values of the data. On the other hand, as we shall see, this is much slower than inserting the data directly as binary blobs."
   ]
  },
  {
   "cell_type": "markdown",
   "metadata": {},
   "source": [
    "First, we choose a new location for the database to ensure that we don't add a bunch of benchmarking data to the default one."
   ]
  },
  {
   "cell_type": "code",
   "execution_count": 1,
   "metadata": {
    "execution": {
     "iopub.execute_input": "2021-03-15T07:17:13.731845Z",
     "iopub.status.busy": "2021-03-15T07:17:13.731101Z",
     "iopub.status.idle": "2021-03-15T07:17:14.749288Z",
     "shell.execute_reply": "2021-03-15T07:17:14.748579Z"
    }
   },
   "outputs": [
    {
     "name": "stdout",
     "output_type": "stream",
     "text": [
      "Logging hadn't been started.\n",
      "Activating auto-logging. Current session state plus future input saved.\n",
      "Filename       : /home/runner/.qcodes/logs/command_history.log\n",
      "Mode           : append\n",
      "Output logging : True\n",
      "Raw input log  : False\n",
      "Timestamping   : True\n",
      "State          : active\n"
     ]
    },
    {
     "name": "stdout",
     "output_type": "stream",
     "text": [
      "Qcodes Logfile : /home/runner/.qcodes/logs/210315-4263-qcodes.log\n"
     ]
    }
   ],
   "source": [
    "import os\n",
    "cwd = os.getcwd()\n",
    "import qcodes as qc\n",
    "qc.config[\"core\"][\"db_location\"] = os.path.join(cwd, 'testing.db')\n"
   ]
  },
  {
   "cell_type": "code",
   "execution_count": 2,
   "metadata": {
    "execution": {
     "iopub.execute_input": "2021-03-15T07:17:14.756145Z",
     "iopub.status.busy": "2021-03-15T07:17:14.754970Z",
     "iopub.status.idle": "2021-03-15T07:17:14.971053Z",
     "shell.execute_reply": "2021-03-15T07:17:14.970253Z"
    }
   },
   "outputs": [],
   "source": [
    "%matplotlib inline\n",
    "import time\n",
    "import matplotlib.pyplot as plt\n",
    "import numpy as np\n",
    "\n",
    "import qcodes as qc\n",
    "from qcodes.instrument.parameter import ManualParameter\n",
    "from qcodes.dataset.experiment_container import (Experiment,\n",
    "                                                 load_last_experiment,\n",
    "                                                 new_experiment)\n",
    "from qcodes.dataset.sqlite.database import initialise_database\n",
    "from qcodes import load_or_create_experiment\n",
    "from qcodes.dataset.measurements import Measurement"
   ]
  },
  {
   "cell_type": "code",
   "execution_count": 3,
   "metadata": {
    "execution": {
     "iopub.execute_input": "2021-03-15T07:17:14.976079Z",
     "iopub.status.busy": "2021-03-15T07:17:14.975081Z",
     "iopub.status.idle": "2021-03-15T07:17:15.134953Z",
     "shell.execute_reply": "2021-03-15T07:17:15.135552Z"
    }
   },
   "outputs": [
    {
     "name": "stdout",
     "output_type": "stream",
     "text": [
      "\r",
      "0it [00:00, ?it/s]"
     ]
    },
    {
     "name": "stdout",
     "output_type": "stream",
     "text": [
      "\r",
      "Upgrading database; v0 -> v1: : 0it [00:00, ?it/s]"
     ]
    },
    {
     "name": "stdout",
     "output_type": "stream",
     "text": [
      "\r",
      "Upgrading database; v0 -> v1: : 0it [00:00, ?it/s]"
     ]
    },
    {
     "name": "stdout",
     "output_type": "stream",
     "text": [
      "\n",
      "\r",
      "  0%|          | 0/1 [00:00<?, ?it/s]"
     ]
    },
    {
     "name": "stdout",
     "output_type": "stream",
     "text": [
      "\r",
      "Upgrading database; v1 -> v2:   0%|          | 0/1 [00:00<?, ?it/s]"
     ]
    },
    {
     "name": "stdout",
     "output_type": "stream",
     "text": [
      "\r",
      "Upgrading database; v1 -> v2: 100%|██████████| 1/1 [00:00<00:00, 973.16it/s]"
     ]
    },
    {
     "name": "stdout",
     "output_type": "stream",
     "text": [
      "\n",
      "\r",
      "0it [00:00, ?it/s]"
     ]
    },
    {
     "name": "stdout",
     "output_type": "stream",
     "text": [
      "\r",
      "Upgrading database; v2 -> v3: : 0it [00:00, ?it/s]"
     ]
    },
    {
     "name": "stdout",
     "output_type": "stream",
     "text": [
      "\r",
      "Upgrading database; v2 -> v3: : 0it [00:00, ?it/s]"
     ]
    },
    {
     "name": "stdout",
     "output_type": "stream",
     "text": [
      "\n",
      "\r",
      "0it [00:00, ?it/s]"
     ]
    },
    {
     "name": "stdout",
     "output_type": "stream",
     "text": [
      "\r",
      "Upgrading database; v3 -> v4: : 0it [00:00, ?it/s]"
     ]
    },
    {
     "name": "stdout",
     "output_type": "stream",
     "text": [
      "\r",
      "Upgrading database; v3 -> v4: : 0it [00:00, ?it/s]"
     ]
    },
    {
     "name": "stdout",
     "output_type": "stream",
     "text": [
      "\n",
      "\r",
      "  0%|          | 0/1 [00:00<?, ?it/s]"
     ]
    },
    {
     "name": "stdout",
     "output_type": "stream",
     "text": [
      "\r",
      "Upgrading database; v4 -> v5:   0%|          | 0/1 [00:00<?, ?it/s]"
     ]
    },
    {
     "name": "stdout",
     "output_type": "stream",
     "text": [
      "\r",
      "Upgrading database; v4 -> v5: 100%|██████████| 1/1 [00:00<00:00, 340.92it/s]"
     ]
    },
    {
     "name": "stdout",
     "output_type": "stream",
     "text": [
      "\n",
      "\r",
      "0it [00:00, ?it/s]"
     ]
    },
    {
     "name": "stdout",
     "output_type": "stream",
     "text": [
      "\r",
      "Upgrading database; v5 -> v6: : 0it [00:00, ?it/s]"
     ]
    },
    {
     "name": "stdout",
     "output_type": "stream",
     "text": [
      "\r",
      "Upgrading database; v5 -> v6: : 0it [00:00, ?it/s]"
     ]
    },
    {
     "name": "stdout",
     "output_type": "stream",
     "text": [
      "\n",
      "\r",
      "  0%|          | 0/1 [00:00<?, ?it/s]"
     ]
    },
    {
     "name": "stdout",
     "output_type": "stream",
     "text": [
      "\r",
      "Upgrading database; v6 -> v7:   0%|          | 0/1 [00:00<?, ?it/s]"
     ]
    },
    {
     "name": "stdout",
     "output_type": "stream",
     "text": [
      "\r",
      "Upgrading database; v6 -> v7: 100%|██████████| 1/1 [00:00<00:00, 215.49it/s]"
     ]
    },
    {
     "name": "stdout",
     "output_type": "stream",
     "text": [
      "\n",
      "\r",
      "  0%|          | 0/1 [00:00<?, ?it/s]"
     ]
    },
    {
     "name": "stdout",
     "output_type": "stream",
     "text": [
      "\r",
      "Upgrading database; v7 -> v8:   0%|          | 0/1 [00:00<?, ?it/s]"
     ]
    },
    {
     "name": "stdout",
     "output_type": "stream",
     "text": [
      "\r",
      "Upgrading database; v7 -> v8: 100%|██████████| 1/1 [00:00<00:00, 776.29it/s]"
     ]
    },
    {
     "name": "stdout",
     "output_type": "stream",
     "text": [
      "\n",
      "\r",
      "  0%|          | 0/1 [00:00<?, ?it/s]"
     ]
    },
    {
     "name": "stdout",
     "output_type": "stream",
     "text": [
      "\r",
      "Upgrading database; v8 -> v9:   0%|          | 0/1 [00:00<?, ?it/s]"
     ]
    },
    {
     "name": "stdout",
     "output_type": "stream",
     "text": [
      "\r",
      "Upgrading database; v8 -> v9: 100%|██████████| 1/1 [00:00<00:00, 446.30it/s]"
     ]
    },
    {
     "name": "stdout",
     "output_type": "stream",
     "text": [
      "\n"
     ]
    }
   ],
   "source": [
    "initialise_database()\n",
    "exp = load_or_create_experiment(experiment_name='tutorial_exp', sample_name=\"no sample\")"
   ]
  },
  {
   "cell_type": "markdown",
   "metadata": {},
   "source": [
    "Here, we define a simple function to benchmark the time it takes to insert n points with either numeric or array data type.\n",
    "We will compare both the time used to call ``add_result`` and the time used for the full measurement."
   ]
  },
  {
   "cell_type": "code",
   "execution_count": 4,
   "metadata": {
    "execution": {
     "iopub.execute_input": "2021-03-15T07:17:15.145849Z",
     "iopub.status.busy": "2021-03-15T07:17:15.145157Z",
     "iopub.status.idle": "2021-03-15T07:17:15.149627Z",
     "shell.execute_reply": "2021-03-15T07:17:15.149019Z"
    }
   },
   "outputs": [],
   "source": [
    "def insert_data(paramtype, npoints, nreps=1):\n",
    "\n",
    "    meas = Measurement(exp=exp)\n",
    "\n",
    "    x1 = ManualParameter('x1')\n",
    "    x2 = ManualParameter('x2')\n",
    "    x3 = ManualParameter('x3')\n",
    "    y1 = ManualParameter('y1')\n",
    "    y2 = ManualParameter('y2')\n",
    "\n",
    "    meas.register_parameter(x1, paramtype=paramtype)\n",
    "    meas.register_parameter(x2, paramtype=paramtype)\n",
    "    meas.register_parameter(x3, paramtype=paramtype)\n",
    "    meas.register_parameter(y1, setpoints=[x1, x2, x3],\n",
    "                            paramtype=paramtype)\n",
    "    meas.register_parameter(y2, setpoints=[x1, x2, x3],\n",
    "                            paramtype=paramtype)\n",
    "    start = time.perf_counter()\n",
    "    with meas.run() as datasaver:\n",
    "        start_adding = time.perf_counter()\n",
    "        for i in range(nreps):\n",
    "            datasaver.add_result((x1, np.random.rand(npoints)),\n",
    "                                 (x2, np.random.rand(npoints)),\n",
    "                                 (x3, np.random.rand(npoints)),\n",
    "                                 (y1, np.random.rand(npoints)),\n",
    "                                 (y2, np.random.rand(npoints)))\n",
    "        stop_adding = time.perf_counter()\n",
    "        run_id = datasaver.run_id\n",
    "    stop = time.perf_counter()\n",
    "    tot_time = stop - start\n",
    "    add_time = stop_adding - start_adding\n",
    "    return tot_time, add_time, run_id"
   ]
  },
  {
   "cell_type": "markdown",
   "metadata": {},
   "source": [
    "## Comparison between numeric/array data and binary blob"
   ]
  },
  {
   "cell_type": "markdown",
   "metadata": {},
   "source": [
    "### Case1: Short experiment time"
   ]
  },
  {
   "cell_type": "code",
   "execution_count": 5,
   "metadata": {
    "execution": {
     "iopub.execute_input": "2021-03-15T07:17:15.157969Z",
     "iopub.status.busy": "2021-03-15T07:17:15.156885Z",
     "iopub.status.idle": "2021-03-15T07:17:16.194264Z",
     "shell.execute_reply": "2021-03-15T07:17:16.195113Z"
    }
   },
   "outputs": [
    {
     "name": "stdout",
     "output_type": "stream",
     "text": [
      "Starting experimental run with id: 1. \n",
      "Starting experimental run with id: 2. \n",
      "Starting experimental run with id: 3. \n"
     ]
    },
    {
     "name": "stdout",
     "output_type": "stream",
     "text": [
      "Starting experimental run with id: 4. \n"
     ]
    },
    {
     "name": "stdout",
     "output_type": "stream",
     "text": [
      "Starting experimental run with id: 5. "
     ]
    },
    {
     "name": "stdout",
     "output_type": "stream",
     "text": [
      "\n"
     ]
    },
    {
     "name": "stdout",
     "output_type": "stream",
     "text": [
      "Starting experimental run with id: 6. \n"
     ]
    },
    {
     "name": "stdout",
     "output_type": "stream",
     "text": [
      "Starting experimental run with id: 7. \n"
     ]
    },
    {
     "name": "stdout",
     "output_type": "stream",
     "text": [
      "Starting experimental run with id: 8. \n"
     ]
    },
    {
     "name": "stdout",
     "output_type": "stream",
     "text": [
      "Starting experimental run with id: 9. \n"
     ]
    },
    {
     "name": "stdout",
     "output_type": "stream",
     "text": [
      "Starting experimental run with id: 10. \n"
     ]
    },
    {
     "name": "stdout",
     "output_type": "stream",
     "text": [
      "Starting experimental run with id: 11. \n"
     ]
    },
    {
     "name": "stdout",
     "output_type": "stream",
     "text": [
      "Starting experimental run with id: 12. \n"
     ]
    },
    {
     "name": "stdout",
     "output_type": "stream",
     "text": [
      "Starting experimental run with id: 13. \n"
     ]
    },
    {
     "name": "stdout",
     "output_type": "stream",
     "text": [
      "Starting experimental run with id: 14. \n"
     ]
    }
   ],
   "source": [
    "sizes = [1,500,1000,2000,3000,4000,5000]\n",
    "t_numeric = []\n",
    "t_numeric_add = []\n",
    "t_array = []\n",
    "t_array_add = []\n",
    "for size in sizes:\n",
    "    tn, tna, run_id_n =  insert_data('numeric', size)\n",
    "    t_numeric.append(tn)\n",
    "    t_numeric_add.append(tna)\n",
    "\n",
    "    ta, taa, run_id_a =  insert_data('array', size)\n",
    "    t_array.append(ta)\n",
    "    t_array_add.append(taa)"
   ]
  },
  {
   "cell_type": "code",
   "execution_count": 6,
   "metadata": {
    "execution": {
     "iopub.execute_input": "2021-03-15T07:17:16.223970Z",
     "iopub.status.busy": "2021-03-15T07:17:16.217399Z",
     "iopub.status.idle": "2021-03-15T07:17:16.471192Z",
     "shell.execute_reply": "2021-03-15T07:17:16.471914Z"
    }
   },
   "outputs": [
    {
     "data": {
      "image/png": "[encoded data removed]",
      "text/plain": [
       "<Figure size 432x288 with 1 Axes>"
      ]
     },
     "metadata": {
      "needs_background": "light"
     },
     "output_type": "display_data"
    }
   ],
   "source": [
    "fig, ax = plt.subplots(1,1)\n",
    "ax.plot(sizes, t_numeric, 'o-', label='Inserting row-by-row')\n",
    "ax.plot(sizes, t_numeric_add, 'o-', label='Inserting row-by-row: add_result only')\n",
    "ax.plot(sizes, t_array, 'd-', label='Inserting as binary blob')\n",
    "ax.plot(sizes, t_array_add, 'd-', label='Inserting as binary blob: add_result only')\n",
    "ax.legend()\n",
    "ax.set_xlabel('Array length')\n",
    "ax.set_ylabel('Time (s)')\n",
    "fig.tight_layout()"
   ]
  },
  {
   "cell_type": "markdown",
   "metadata": {},
   "source": [
    "As shown in the latter figure, the time to setup and and close the experiment is approximately 0.4 sec. In case of small array sizes, the difference between inserting values of data as arrays and inserting them row-by-row is relatively unimportant. At larger array sizes, i.e. above 10000 points, the cost of writing data as individual datapoints starts to become important.\n"
   ]
  },
  {
   "cell_type": "markdown",
   "metadata": {},
   "source": [
    "### Case2: Long experiment time "
   ]
  },
  {
   "cell_type": "code",
   "execution_count": 7,
   "metadata": {
    "execution": {
     "iopub.execute_input": "2021-03-15T07:17:16.479233Z",
     "iopub.status.busy": "2021-03-15T07:17:16.477296Z",
     "iopub.status.idle": "2021-03-15T07:18:23.278175Z",
     "shell.execute_reply": "2021-03-15T07:18:23.278746Z"
    }
   },
   "outputs": [
    {
     "name": "stdout",
     "output_type": "stream",
     "text": [
      "Starting experimental run with id: 15. \n",
      "Starting experimental run with id: 16. \n"
     ]
    },
    {
     "name": "stdout",
     "output_type": "stream",
     "text": [
      "Starting experimental run with id: 17. \n"
     ]
    },
    {
     "name": "stdout",
     "output_type": "stream",
     "text": [
      "Starting experimental run with id: 18. \n"
     ]
    },
    {
     "name": "stdout",
     "output_type": "stream",
     "text": [
      "Starting experimental run with id: 19. \n"
     ]
    },
    {
     "name": "stdout",
     "output_type": "stream",
     "text": [
      "Starting experimental run with id: 20. \n"
     ]
    },
    {
     "name": "stdout",
     "output_type": "stream",
     "text": [
      "Starting experimental run with id: 21. \n"
     ]
    },
    {
     "name": "stdout",
     "output_type": "stream",
     "text": [
      "Starting experimental run with id: 22. \n"
     ]
    },
    {
     "name": "stdout",
     "output_type": "stream",
     "text": [
      "Starting experimental run with id: 23. \n"
     ]
    },
    {
     "name": "stdout",
     "output_type": "stream",
     "text": [
      "Starting experimental run with id: 24. \n"
     ]
    },
    {
     "name": "stdout",
     "output_type": "stream",
     "text": [
      "Starting experimental run with id: 25. \n"
     ]
    },
    {
     "name": "stdout",
     "output_type": "stream",
     "text": [
      "Starting experimental run with id: 26. \n"
     ]
    },
    {
     "name": "stdout",
     "output_type": "stream",
     "text": [
      "Starting experimental run with id: 27. \n"
     ]
    },
    {
     "name": "stdout",
     "output_type": "stream",
     "text": [
      "Starting experimental run with id: 28. \n"
     ]
    }
   ],
   "source": [
    "sizes = [1,500,1000,2000,3000,4000,5000]\n",
    "nreps = 100\n",
    "t_numeric = []\n",
    "t_numeric_add = []\n",
    "t_numeric_run_ids = []\n",
    "t_array = []\n",
    "t_array_add = []\n",
    "t_array_run_ids = []\n",
    "for size in sizes:\n",
    "    tn, tna, run_id_n =  insert_data('numeric', size, nreps=nreps)\n",
    "    t_numeric.append(tn)\n",
    "    t_numeric_add.append(tna)\n",
    "    t_numeric_run_ids.append(run_id_n)\n",
    "\n",
    "    ta, taa, run_id_a =  insert_data('array', size, nreps=nreps)\n",
    "    t_array.append(ta)\n",
    "    t_array_add.append(taa)\n",
    "    t_array_run_ids.append(run_id_a)"
   ]
  },
  {
   "cell_type": "code",
   "execution_count": 8,
   "metadata": {
    "execution": {
     "iopub.execute_input": "2021-03-15T07:18:23.303423Z",
     "iopub.status.busy": "2021-03-15T07:18:23.300632Z",
     "iopub.status.idle": "2021-03-15T07:18:23.565462Z",
     "shell.execute_reply": "2021-03-15T07:18:23.566432Z"
    },
    "scrolled": true
   },
   "outputs": [
    {
     "data": {
      "image/png": "[encoded data removed]",
      "text/plain": [
       "<Figure size 432x288 with 1 Axes>"
      ]
     },
     "metadata": {
      "needs_background": "light"
     },
     "output_type": "display_data"
    }
   ],
   "source": [
    "fig, ax = plt.subplots(1,1)\n",
    "ax.plot(sizes, t_numeric, 'o-', label='Inserting row-by-row')\n",
    "ax.plot(sizes, t_numeric_add, 'o-', label='Inserting row-by-row: add_result only')\n",
    "ax.plot(sizes, t_array, 'd-', label='Inserting as binary blob')\n",
    "ax.plot(sizes, t_array_add, 'd-', label='Inserting as binary blob: add_result only')\n",
    "ax.legend()\n",
    "ax.set_xlabel('Array length')\n",
    "ax.set_ylabel('Time (s)')\n",
    "fig.tight_layout()"
   ]
  },
  {
   "cell_type": "markdown",
   "metadata": {},
   "source": [
    "However, as we increase the length of the experiment, as seen here by repeating the insertion 100 times, we see a big difference between inserting values of the data row-by-row and inserting it as a binary blob."
   ]
  },
  {
   "cell_type": "markdown",
   "metadata": {},
   "source": [
    "## Loading the data "
   ]
  },
  {
   "cell_type": "code",
   "execution_count": 9,
   "metadata": {
    "execution": {
     "iopub.execute_input": "2021-03-15T07:18:23.572267Z",
     "iopub.status.busy": "2021-03-15T07:18:23.571642Z",
     "iopub.status.idle": "2021-03-15T07:18:23.575540Z",
     "shell.execute_reply": "2021-03-15T07:18:23.575003Z"
    }
   },
   "outputs": [],
   "source": [
    "from qcodes.dataset.data_set import load_by_id\n",
    "from qcodes.dataset.data_export import get_data_by_id"
   ]
  },
  {
   "cell_type": "markdown",
   "metadata": {},
   "source": [
    "As usual you can load the data by using the ``load_by_id`` function but you will notice that the different storage methods\n",
    "are reflected in shape of the data as it is retrieved. "
   ]
  },
  {
   "cell_type": "code",
   "execution_count": 10,
   "metadata": {
    "execution": {
     "iopub.execute_input": "2021-03-15T07:18:23.580908Z",
     "iopub.status.busy": "2021-03-15T07:18:23.579446Z",
     "iopub.status.idle": "2021-03-15T07:18:23.581754Z",
     "shell.execute_reply": "2021-03-15T07:18:23.582335Z"
    }
   },
   "outputs": [],
   "source": [
    "run_id_n = t_numeric_run_ids[0]\n",
    "run_id_a = t_array_run_ids[0]"
   ]
  },
  {
   "cell_type": "code",
   "execution_count": 11,
   "metadata": {
    "execution": {
     "iopub.execute_input": "2021-03-15T07:18:23.586473Z",
     "iopub.status.busy": "2021-03-15T07:18:23.585698Z",
     "iopub.status.idle": "2021-03-15T07:18:23.596309Z",
     "shell.execute_reply": "2021-03-15T07:18:23.596940Z"
    },
    "scrolled": true
   },
   "outputs": [
    {
     "data": {
      "text/plain": [
       "{'x1': {'x1': array([0.31819933, 0.31819933, 0.15190631, 0.15190631, 0.66981279,\n",
       "         0.66981279, 0.28401809, 0.28401809, 0.36532491, 0.36532491,\n",
       "         0.29082172, 0.29082172, 0.13627832, 0.13627832, 0.03538448,\n",
       "         0.03538448, 0.89128545, 0.89128545, 0.7200214 , 0.7200214 ,\n",
       "         0.70942339, 0.70942339, 0.6775882 , 0.6775882 , 0.72815762,\n",
       "         0.72815762, 0.17817927, 0.17817927, 0.59387677, 0.59387677,\n",
       "         0.42207661, 0.42207661, 0.25055066, 0.25055066, 0.72070714,\n",
       "         0.72070714, 0.72647218, 0.72647218, 0.27211446, 0.27211446,\n",
       "         0.57404936, 0.57404936, 0.72135058, 0.72135058, 0.56358135,\n",
       "         0.56358135, 0.49557342, 0.49557342, 0.9486708 , 0.9486708 ,\n",
       "         0.01957575, 0.01957575, 0.8525282 , 0.8525282 , 0.13080727,\n",
       "         0.13080727, 0.8394911 , 0.8394911 , 0.23290115, 0.23290115,\n",
       "         0.79459661, 0.79459661, 0.69093089, 0.69093089, 0.03560965,\n",
       "         0.03560965, 0.91152147, 0.91152147, 0.26928474, 0.26928474,\n",
       "         0.07778597, 0.07778597, 0.43020072, 0.43020072, 0.10132173,\n",
       "         0.10132173, 0.41900646, 0.41900646, 0.36954776, 0.36954776,\n",
       "         0.44168447, 0.44168447, 0.30145975, 0.30145975, 0.38926781,\n",
       "         0.38926781, 0.89341055, 0.89341055, 0.23066131, 0.23066131,\n",
       "         0.03281269, 0.03281269, 0.10186545, 0.10186545, 0.66026669,\n",
       "         0.66026669, 0.1799425 , 0.1799425 , 0.85857127, 0.85857127,\n",
       "         0.49522242, 0.49522242, 0.17812703, 0.17812703, 0.0621999 ,\n",
       "         0.0621999 , 0.5271846 , 0.5271846 , 0.8749974 , 0.8749974 ,\n",
       "         0.73002888, 0.73002888, 0.30416897, 0.30416897, 0.74316396,\n",
       "         0.74316396, 0.41016423, 0.41016423, 0.15795733, 0.15795733,\n",
       "         0.57993646, 0.57993646, 0.82982236, 0.82982236, 0.68769829,\n",
       "         0.68769829, 0.03060195, 0.03060195, 0.81395905, 0.81395905,\n",
       "         0.09081173, 0.09081173, 0.54357746, 0.54357746, 0.53373368,\n",
       "         0.53373368, 0.7478641 , 0.7478641 , 0.82507037, 0.82507037,\n",
       "         0.81517824, 0.81517824, 0.80592034, 0.80592034, 0.50415896,\n",
       "         0.50415896, 0.44508883, 0.44508883, 0.37594894, 0.37594894,\n",
       "         0.19114203, 0.19114203, 0.57211115, 0.57211115, 0.88225527,\n",
       "         0.88225527, 0.17244457, 0.17244457, 0.29253095, 0.29253095,\n",
       "         0.42269655, 0.42269655, 0.9260731 , 0.9260731 , 0.68705378,\n",
       "         0.68705378, 0.16657226, 0.16657226, 0.08422519, 0.08422519,\n",
       "         0.76899264, 0.76899264, 0.27393459, 0.27393459, 0.53901635,\n",
       "         0.53901635, 0.17289431, 0.17289431, 0.94610783, 0.94610783,\n",
       "         0.12805521, 0.12805521, 0.54321506, 0.54321506, 0.2210754 ,\n",
       "         0.2210754 , 0.90116714, 0.90116714, 0.33211669, 0.33211669,\n",
       "         0.46688959, 0.46688959, 0.29144949, 0.29144949, 0.18512322,\n",
       "         0.18512322, 0.71474244, 0.71474244, 0.39236402, 0.39236402])}}"
      ]
     },
     "execution_count": 1,
     "metadata": {},
     "output_type": "execute_result"
    }
   ],
   "source": [
    "ds = load_by_id(run_id_n)\n",
    "ds.get_parameter_data('x1')"
   ]
  },
  {
   "cell_type": "markdown",
   "metadata": {},
   "source": [
    "And a dataset stored as binary arrays"
   ]
  },
  {
   "cell_type": "code",
   "execution_count": 12,
   "metadata": {
    "execution": {
     "iopub.execute_input": "2021-03-15T07:18:23.601412Z",
     "iopub.status.busy": "2021-03-15T07:18:23.600714Z",
     "iopub.status.idle": "2021-03-15T07:18:23.670157Z",
     "shell.execute_reply": "2021-03-15T07:18:23.670713Z"
    },
    "scrolled": true
   },
   "outputs": [
    {
     "data": {
      "text/plain": [
       "{'x1': {'x1': array([[0.90853443],\n",
       "         [0.90853443],\n",
       "         [0.45177048],\n",
       "         [0.45177048],\n",
       "         [0.58923776],\n",
       "         [0.58923776],\n",
       "         [0.31863676],\n",
       "         [0.31863676],\n",
       "         [0.8292261 ],\n",
       "         [0.8292261 ],\n",
       "         [0.78047146],\n",
       "         [0.78047146],\n",
       "         [0.08254449],\n",
       "         [0.08254449],\n",
       "         [0.99377145],\n",
       "         [0.99377145],\n",
       "         [0.75478805],\n",
       "         [0.75478805],\n",
       "         [0.50926144],\n",
       "         [0.50926144],\n",
       "         [0.27609757],\n",
       "         [0.27609757],\n",
       "         [0.7060548 ],\n",
       "         [0.7060548 ],\n",
       "         [0.59669515],\n",
       "         [0.59669515],\n",
       "         [0.57239743],\n",
       "         [0.57239743],\n",
       "         [0.88712559],\n",
       "         [0.88712559],\n",
       "         [0.00404357],\n",
       "         [0.00404357],\n",
       "         [0.80157609],\n",
       "         [0.80157609],\n",
       "         [0.99602644],\n",
       "         [0.99602644],\n",
       "         [0.04624781],\n",
       "         [0.04624781],\n",
       "         [0.76862348],\n",
       "         [0.76862348],\n",
       "         [0.21710821],\n",
       "         [0.21710821],\n",
       "         [0.02942612],\n",
       "         [0.02942612],\n",
       "         [0.76795873],\n",
       "         [0.76795873],\n",
       "         [0.1833607 ],\n",
       "         [0.1833607 ],\n",
       "         [0.17423066],\n",
       "         [0.17423066],\n",
       "         [0.84795958],\n",
       "         [0.84795958],\n",
       "         [0.19189181],\n",
       "         [0.19189181],\n",
       "         [0.50066226],\n",
       "         [0.50066226],\n",
       "         [0.52522763],\n",
       "         [0.52522763],\n",
       "         [0.64318338],\n",
       "         [0.64318338],\n",
       "         [0.19995002],\n",
       "         [0.19995002],\n",
       "         [0.06296346],\n",
       "         [0.06296346],\n",
       "         [0.49595517],\n",
       "         [0.49595517],\n",
       "         [0.53231968],\n",
       "         [0.53231968],\n",
       "         [0.72539275],\n",
       "         [0.72539275],\n",
       "         [0.93602376],\n",
       "         [0.93602376],\n",
       "         [0.41089206],\n",
       "         [0.41089206],\n",
       "         [0.94597995],\n",
       "         [0.94597995],\n",
       "         [0.84006315],\n",
       "         [0.84006315],\n",
       "         [0.69970673],\n",
       "         [0.69970673],\n",
       "         [0.75582837],\n",
       "         [0.75582837],\n",
       "         [0.27665868],\n",
       "         [0.27665868],\n",
       "         [0.81753674],\n",
       "         [0.81753674],\n",
       "         [0.40242716],\n",
       "         [0.40242716],\n",
       "         [0.57371272],\n",
       "         [0.57371272],\n",
       "         [0.27647909],\n",
       "         [0.27647909],\n",
       "         [0.21710211],\n",
       "         [0.21710211],\n",
       "         [0.09969114],\n",
       "         [0.09969114],\n",
       "         [0.64471277],\n",
       "         [0.64471277],\n",
       "         [0.51470935],\n",
       "         [0.51470935],\n",
       "         [0.68037085],\n",
       "         [0.68037085],\n",
       "         [0.80059425],\n",
       "         [0.80059425],\n",
       "         [0.03322174],\n",
       "         [0.03322174],\n",
       "         [0.34288404],\n",
       "         [0.34288404],\n",
       "         [0.28441502],\n",
       "         [0.28441502],\n",
       "         [0.22330287],\n",
       "         [0.22330287],\n",
       "         [0.83371149],\n",
       "         [0.83371149],\n",
       "         [0.92221472],\n",
       "         [0.92221472],\n",
       "         [0.82986946],\n",
       "         [0.82986946],\n",
       "         [0.14126097],\n",
       "         [0.14126097],\n",
       "         [0.45758368],\n",
       "         [0.45758368],\n",
       "         [0.54711633],\n",
       "         [0.54711633],\n",
       "         [0.90701829],\n",
       "         [0.90701829],\n",
       "         [0.69846842],\n",
       "         [0.69846842],\n",
       "         [0.51548847],\n",
       "         [0.51548847],\n",
       "         [0.76544895],\n",
       "         [0.76544895],\n",
       "         [0.6701282 ],\n",
       "         [0.6701282 ],\n",
       "         [0.16999133],\n",
       "         [0.16999133],\n",
       "         [0.53536921],\n",
       "         [0.53536921],\n",
       "         [0.171212  ],\n",
       "         [0.171212  ],\n",
       "         [0.27664312],\n",
       "         [0.27664312],\n",
       "         [0.65430597],\n",
       "         [0.65430597],\n",
       "         [0.04869923],\n",
       "         [0.04869923],\n",
       "         [0.54707238],\n",
       "         [0.54707238],\n",
       "         [0.98905011],\n",
       "         [0.98905011],\n",
       "         [0.46867222],\n",
       "         [0.46867222],\n",
       "         [0.58863314],\n",
       "         [0.58863314],\n",
       "         [0.48504552],\n",
       "         [0.48504552],\n",
       "         [0.36792866],\n",
       "         [0.36792866],\n",
       "         [0.50173206],\n",
       "         [0.50173206],\n",
       "         [0.5128954 ],\n",
       "         [0.5128954 ],\n",
       "         [0.68899796],\n",
       "         [0.68899796],\n",
       "         [0.48898159],\n",
       "         [0.48898159],\n",
       "         [0.28884878],\n",
       "         [0.28884878],\n",
       "         [0.34739132],\n",
       "         [0.34739132],\n",
       "         [0.58258084],\n",
       "         [0.58258084],\n",
       "         [0.28877859],\n",
       "         [0.28877859],\n",
       "         [0.06009329],\n",
       "         [0.06009329],\n",
       "         [0.12316664],\n",
       "         [0.12316664],\n",
       "         [0.26557982],\n",
       "         [0.26557982],\n",
       "         [0.70084688],\n",
       "         [0.70084688],\n",
       "         [0.97915171],\n",
       "         [0.97915171],\n",
       "         [0.56606874],\n",
       "         [0.56606874],\n",
       "         [0.66501016],\n",
       "         [0.66501016],\n",
       "         [0.34360439],\n",
       "         [0.34360439],\n",
       "         [0.08971757],\n",
       "         [0.08971757],\n",
       "         [0.28365134],\n",
       "         [0.28365134],\n",
       "         [0.62267347],\n",
       "         [0.62267347],\n",
       "         [0.31083002],\n",
       "         [0.31083002],\n",
       "         [0.14289747],\n",
       "         [0.14289747]])}}"
      ]
     },
     "execution_count": 1,
     "metadata": {},
     "output_type": "execute_result"
    }
   ],
   "source": [
    "ds = load_by_id(run_id_a)\n",
    "ds.get_parameter_data('x1')"
   ]
  },
  {
   "cell_type": "code",
   "execution_count": null,
   "metadata": {},
   "outputs": [],
   "source": []
  }
 ],
 "metadata": {
  "kernelspec": {
   "display_name": "Python 3",
   "language": "python",
   "name": "python3"
  },
  "language_info": {
   "codemirror_mode": {
    "name": "ipython",
    "version": 3
   },
   "file_extension": ".py",
   "mimetype": "text/x-python",
   "name": "python",
   "nbconvert_exporter": "python",
   "pygments_lexer": "ipython3",
   "version": "3.7.10"
  },
  "nbsphinx": {
   "timeout": 600
  },
  "toc": {
   "base_numbering": 1,
   "nav_menu": {},
   "number_sections": true,
   "sideBar": true,
   "skip_h1_title": false,
   "title_cell": "Table of Contents",
   "title_sidebar": "Contents",
   "toc_cell": false,
   "toc_position": {},
   "toc_section_display": true,
   "toc_window_display": false
  },
  "varInspector": {
   "cols": {
    "lenName": 16,
    "lenType": 16,
    "lenVar": 40
   },
   "kernels_config": {
    "python": {
     "delete_cmd_postfix": "",
     "delete_cmd_prefix": "del ",
     "library": "var_list.py",
     "varRefreshCmd": "print(var_dic_list())"
    },
    "r": {
     "delete_cmd_postfix": ") ",
     "delete_cmd_prefix": "rm(",
     "library": "var_list.r",
     "varRefreshCmd": "cat(var_dic_list()) "
    }
   },
   "types_to_exclude": [
    "module",
    "function",
    "builtin_function_or_method",
    "instance",
    "_Feature"
   ],
   "window_display": false
  }
 },
 "nbformat": 4,
 "nbformat_minor": 2
}
