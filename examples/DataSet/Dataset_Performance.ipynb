{
 "cells": [
  {
   "cell_type": "markdown",
   "metadata": {},
   "source": [
    "# DataSet Performance\n",
    "\n",
    "This notebook shows the trade-off between inserting data into a database row-by-row and as binary blobs. Inserting the data row-by-row means that we have direct access to all the data and may perform queries directly on the values of the data. On the other hand, as we shall see, this is much slower than inserting the data directly as binary blobs."
   ]
  },
  {
   "cell_type": "markdown",
   "metadata": {},
   "source": [
    "First, we choose a new location for the database to ensure that we don't add a bunch of benchmarking data to the default one."
   ]
  },
  {
   "cell_type": "code",
   "execution_count": 1,
   "metadata": {},
   "outputs": [
    {
     "name": "stdout",
     "output_type": "stream",
     "text": [
      "Logging hadn't been started.\n",
      "Activating auto-logging. Current session state plus future input saved.\n",
      "Filename       : /home/vsts/.qcodes/logs/command_history.log\n",
      "Mode           : append\n",
      "Output logging : True\n",
      "Raw input log  : False\n",
      "Timestamping   : True\n",
      "State          : active\n"
     ]
    },
    {
     "name": "stdout",
     "output_type": "stream",
     "text": [
      "Qcodes Logfile : /home/vsts/.qcodes/logs/200608-20656-qcodes.log\n"
     ]
    }
   ],
   "source": [
    "import os\n",
    "cwd = os.getcwd()\n",
    "import qcodes as qc\n",
    "qc.config[\"core\"][\"db_location\"] = os.path.join(cwd, 'testing.db')\n"
   ]
  },
  {
   "cell_type": "code",
   "execution_count": 2,
   "metadata": {},
   "outputs": [],
   "source": [
    "%matplotlib inline\n",
    "import time\n",
    "import matplotlib.pyplot as plt\n",
    "import numpy as np\n",
    "\n",
    "import qcodes as qc\n",
    "from qcodes.instrument.parameter import ManualParameter\n",
    "from qcodes.dataset.experiment_container import (Experiment,\n",
    "                                                 load_last_experiment,\n",
    "                                                 new_experiment)\n",
    "from qcodes.dataset.sqlite.database import initialise_database\n",
    "from qcodes import load_or_create_experiment\n",
    "from qcodes.dataset.measurements import Measurement"
   ]
  },
  {
   "cell_type": "code",
   "execution_count": 3,
   "metadata": {},
   "outputs": [
    {
     "name": "stdout",
     "output_type": "stream",
     "text": [
      "\r",
      "0it [00:00, ?it/s]"
     ]
    },
    {
     "name": "stdout",
     "output_type": "stream",
     "text": [
      "\r",
      "Upgrading database; v0 -> v1: : 0it [00:00, ?it/s]"
     ]
    },
    {
     "name": "stdout",
     "output_type": "stream",
     "text": [
      "\r",
      "Upgrading database; v0 -> v1: : 0it [00:00, ?it/s]"
     ]
    },
    {
     "name": "stdout",
     "output_type": "stream",
     "text": [
      "\n",
      "\r",
      "  0%|          | 0/1 [00:00<?, ?it/s]"
     ]
    },
    {
     "name": "stdout",
     "output_type": "stream",
     "text": [
      "\r",
      "Upgrading database; v1 -> v2:   0%|          | 0/1 [00:00<?, ?it/s]"
     ]
    },
    {
     "name": "stdout",
     "output_type": "stream",
     "text": [
      "\r",
      "Upgrading database; v1 -> v2: 100%|██████████| 1/1 [00:00<00:00, 718.33it/s]"
     ]
    },
    {
     "name": "stdout",
     "output_type": "stream",
     "text": [
      "\n",
      "\r",
      "0it [00:00, ?it/s]"
     ]
    },
    {
     "name": "stdout",
     "output_type": "stream",
     "text": [
      "\r",
      "Upgrading database; v2 -> v3: : 0it [00:00, ?it/s]"
     ]
    },
    {
     "name": "stdout",
     "output_type": "stream",
     "text": [
      "\r",
      "Upgrading database; v2 -> v3: : 0it [00:00, ?it/s]"
     ]
    },
    {
     "name": "stdout",
     "output_type": "stream",
     "text": [
      "\n",
      "\r",
      "0it [00:00, ?it/s]"
     ]
    },
    {
     "name": "stdout",
     "output_type": "stream",
     "text": [
      "\r",
      "Upgrading database; v3 -> v4: : 0it [00:00, ?it/s]"
     ]
    },
    {
     "name": "stdout",
     "output_type": "stream",
     "text": [
      "\r",
      "Upgrading database; v3 -> v4: : 0it [00:00, ?it/s]"
     ]
    },
    {
     "name": "stdout",
     "output_type": "stream",
     "text": [
      "\n",
      "\r",
      "  0%|          | 0/1 [00:00<?, ?it/s]"
     ]
    },
    {
     "name": "stdout",
     "output_type": "stream",
     "text": [
      "\r",
      "Upgrading database; v4 -> v5:   0%|          | 0/1 [00:00<?, ?it/s]"
     ]
    },
    {
     "name": "stdout",
     "output_type": "stream",
     "text": [
      "\r",
      "Upgrading database; v4 -> v5: 100%|██████████| 1/1 [00:00<00:00, 710.06it/s]"
     ]
    },
    {
     "name": "stdout",
     "output_type": "stream",
     "text": [
      "\n",
      "\r",
      "0it [00:00, ?it/s]"
     ]
    },
    {
     "name": "stdout",
     "output_type": "stream",
     "text": [
      "\r",
      "Upgrading database; v5 -> v6: : 0it [00:00, ?it/s]"
     ]
    },
    {
     "name": "stdout",
     "output_type": "stream",
     "text": [
      "\r",
      "Upgrading database; v5 -> v6: : 0it [00:00, ?it/s]"
     ]
    },
    {
     "name": "stdout",
     "output_type": "stream",
     "text": [
      "\n",
      "\r",
      "  0%|          | 0/1 [00:00<?, ?it/s]"
     ]
    },
    {
     "name": "stdout",
     "output_type": "stream",
     "text": [
      "\r",
      "Upgrading database; v6 -> v7:   0%|          | 0/1 [00:00<?, ?it/s]"
     ]
    },
    {
     "name": "stdout",
     "output_type": "stream",
     "text": [
      "\r",
      "Upgrading database; v6 -> v7: 100%|██████████| 1/1 [00:00<00:00, 349.82it/s]"
     ]
    },
    {
     "name": "stdout",
     "output_type": "stream",
     "text": [
      "\n",
      "\r",
      "  0%|          | 0/1 [00:00<?, ?it/s]"
     ]
    },
    {
     "name": "stdout",
     "output_type": "stream",
     "text": [
      "\r",
      "Upgrading database; v7 -> v8:   0%|          | 0/1 [00:00<?, ?it/s]"
     ]
    },
    {
     "name": "stdout",
     "output_type": "stream",
     "text": [
      "\r",
      "Upgrading database; v7 -> v8: 100%|██████████| 1/1 [00:00<00:00, 693.96it/s]"
     ]
    },
    {
     "name": "stdout",
     "output_type": "stream",
     "text": [
      "\n",
      "\r",
      "  0%|          | 0/1 [00:00<?, ?it/s]"
     ]
    },
    {
     "name": "stdout",
     "output_type": "stream",
     "text": [
      "\r",
      "Upgrading database; v8 -> v9:   0%|          | 0/1 [00:00<?, ?it/s]"
     ]
    },
    {
     "name": "stdout",
     "output_type": "stream",
     "text": [
      "\r",
      "Upgrading database; v8 -> v9: 100%|██████████| 1/1 [00:00<00:00, 841.38it/s]"
     ]
    },
    {
     "name": "stdout",
     "output_type": "stream",
     "text": [
      "\n"
     ]
    }
   ],
   "source": [
    "initialise_database()\n",
    "exp = load_or_create_experiment(experiment_name='tutorial_exp', sample_name=\"no sample\")"
   ]
  },
  {
   "cell_type": "markdown",
   "metadata": {},
   "source": [
    "Here, we define a simple function to benchmark the time it takes to insert n points with either numeric or array data type.\n",
    "We will compare both the time used to call ``add_result`` and the time used for the full measurement."
   ]
  },
  {
   "cell_type": "code",
   "execution_count": 4,
   "metadata": {},
   "outputs": [],
   "source": [
    "def insert_data(paramtype, npoints, nreps=1):\n",
    "\n",
    "    meas = Measurement(exp=exp)\n",
    "\n",
    "    x1 = ManualParameter('x1')\n",
    "    x2 = ManualParameter('x2')\n",
    "    x3 = ManualParameter('x3')\n",
    "    y1 = ManualParameter('y1')\n",
    "    y2 = ManualParameter('y2')\n",
    "\n",
    "    meas.register_parameter(x1, paramtype=paramtype)\n",
    "    meas.register_parameter(x2, paramtype=paramtype)\n",
    "    meas.register_parameter(x3, paramtype=paramtype)\n",
    "    meas.register_parameter(y1, setpoints=[x1, x2, x3],\n",
    "                            paramtype=paramtype)\n",
    "    meas.register_parameter(y2, setpoints=[x1, x2, x3],\n",
    "                            paramtype=paramtype)\n",
    "    start = time.perf_counter()\n",
    "    with meas.run() as datasaver:\n",
    "        start_adding = time.perf_counter()\n",
    "        for i in range(nreps):\n",
    "            datasaver.add_result((x1, np.random.rand(npoints)),\n",
    "                                 (x2, np.random.rand(npoints)),\n",
    "                                 (x3, np.random.rand(npoints)),\n",
    "                                 (y1, np.random.rand(npoints)),\n",
    "                                 (y2, np.random.rand(npoints)))\n",
    "        stop_adding = time.perf_counter()\n",
    "        run_id = datasaver.run_id\n",
    "    stop = time.perf_counter()\n",
    "    tot_time = stop - start\n",
    "    add_time = stop_adding - start_adding\n",
    "    return tot_time, add_time, run_id"
   ]
  },
  {
   "cell_type": "markdown",
   "metadata": {},
   "source": [
    "## Comparison between numeric/array data and binary blob"
   ]
  },
  {
   "cell_type": "markdown",
   "metadata": {},
   "source": [
    "### Case1: Short experiment time"
   ]
  },
  {
   "cell_type": "code",
   "execution_count": 5,
   "metadata": {},
   "outputs": [
    {
     "name": "stdout",
     "output_type": "stream",
     "text": [
      "Starting experimental run with id: 1. \n",
      "Starting experimental run with id: 2. \n",
      "Starting experimental run with id: 3. \n"
     ]
    },
    {
     "name": "stdout",
     "output_type": "stream",
     "text": [
      "Starting experimental run with id: 4. \n"
     ]
    },
    {
     "name": "stdout",
     "output_type": "stream",
     "text": [
      "Starting experimental run with id: 5. \n"
     ]
    },
    {
     "name": "stdout",
     "output_type": "stream",
     "text": [
      "Starting experimental run with id: 6. \n",
      "Starting experimental run with id: 7. \n"
     ]
    },
    {
     "name": "stdout",
     "output_type": "stream",
     "text": [
      "Starting experimental run with id: 8. \n",
      "Starting experimental run with id: 9. \n"
     ]
    },
    {
     "name": "stdout",
     "output_type": "stream",
     "text": [
      "Starting experimental run with id: 10. \n",
      "Starting experimental run with id: 11. \n"
     ]
    },
    {
     "name": "stdout",
     "output_type": "stream",
     "text": [
      "Starting experimental run with id: 12. \n"
     ]
    },
    {
     "name": "stdout",
     "output_type": "stream",
     "text": [
      "Starting experimental run with id: 13. \n"
     ]
    },
    {
     "name": "stdout",
     "output_type": "stream",
     "text": [
      "Starting experimental run with id: 14. \n"
     ]
    }
   ],
   "source": [
    "sizes = [1,500,1000,2000,3000,4000,5000]\n",
    "t_numeric = []\n",
    "t_numeric_add = []\n",
    "t_array = []\n",
    "t_array_add = []\n",
    "for size in sizes:\n",
    "    tn, tna, run_id_n =  insert_data('numeric', size)\n",
    "    t_numeric.append(tn)\n",
    "    t_numeric_add.append(tna)\n",
    "\n",
    "    ta, taa, run_id_a =  insert_data('array', size)\n",
    "    t_array.append(ta)\n",
    "    t_array_add.append(taa)"
   ]
  },
  {
   "cell_type": "code",
   "execution_count": 6,
   "metadata": {},
   "outputs": [
    {
     "data": {
      "image/png": "[encoded data removed]",
      "text/plain": [
       "<Figure size 432x288 with 1 Axes>"
      ]
     },
     "metadata": {
      "needs_background": "light"
     },
     "output_type": "display_data"
    }
   ],
   "source": [
    "fig, ax = plt.subplots(1,1)\n",
    "ax.plot(sizes, t_numeric, 'o-', label='Inserting row-by-row')\n",
    "ax.plot(sizes, t_numeric_add, 'o-', label='Inserting row-by-row: add_result only')\n",
    "ax.plot(sizes, t_array, 'd-', label='Inserting as binary blob')\n",
    "ax.plot(sizes, t_array_add, 'd-', label='Inserting as binary blob: add_result only')\n",
    "ax.legend()\n",
    "ax.set_xlabel('Array length')\n",
    "ax.set_ylabel('Time (s)')\n",
    "fig.tight_layout()"
   ]
  },
  {
   "cell_type": "markdown",
   "metadata": {},
   "source": [
    "As shown in the latter figure, the time to setup and and close the experiment is approximately 0.4 sec. In case of small array sizes, the difference between inserting values of data as arrays and inserting them row-by-row is relatively unimportant. At larger array sizes, i.e. above 10000 points, the cost of writing data as individual datapoints starts to become important.\n"
   ]
  },
  {
   "cell_type": "markdown",
   "metadata": {},
   "source": [
    "### Case2: Long experiment time "
   ]
  },
  {
   "cell_type": "code",
   "execution_count": 7,
   "metadata": {},
   "outputs": [
    {
     "name": "stdout",
     "output_type": "stream",
     "text": [
      "Starting experimental run with id: 15. \n",
      "Starting experimental run with id: 16. \n"
     ]
    },
    {
     "name": "stdout",
     "output_type": "stream",
     "text": [
      "Starting experimental run with id: 17. \n"
     ]
    },
    {
     "name": "stdout",
     "output_type": "stream",
     "text": [
      "Starting experimental run with id: 18. \n",
      "Starting experimental run with id: 19. \n"
     ]
    },
    {
     "name": "stdout",
     "output_type": "stream",
     "text": [
      "Starting experimental run with id: 20. \n"
     ]
    },
    {
     "name": "stdout",
     "output_type": "stream",
     "text": [
      "Starting experimental run with id: 21. \n"
     ]
    },
    {
     "name": "stdout",
     "output_type": "stream",
     "text": [
      "Starting experimental run with id: 22. \n"
     ]
    },
    {
     "name": "stdout",
     "output_type": "stream",
     "text": [
      "Starting experimental run with id: 23. \n"
     ]
    },
    {
     "name": "stdout",
     "output_type": "stream",
     "text": [
      "Starting experimental run with id: 24. \n"
     ]
    },
    {
     "name": "stdout",
     "output_type": "stream",
     "text": [
      "Starting experimental run with id: 25. \n"
     ]
    },
    {
     "name": "stdout",
     "output_type": "stream",
     "text": [
      "Starting experimental run with id: 26. \n"
     ]
    },
    {
     "name": "stdout",
     "output_type": "stream",
     "text": [
      "Starting experimental run with id: 27. \n"
     ]
    },
    {
     "name": "stdout",
     "output_type": "stream",
     "text": [
      "Starting experimental run with id: 28. \n"
     ]
    }
   ],
   "source": [
    "sizes = [1,500,1000,2000,3000,4000,5000]\n",
    "nreps = 100\n",
    "t_numeric = []\n",
    "t_numeric_add = []\n",
    "t_numeric_run_ids = []\n",
    "t_array = []\n",
    "t_array_add = []\n",
    "t_array_run_ids = []\n",
    "for size in sizes:\n",
    "    tn, tna, run_id_n =  insert_data('numeric', size, nreps=nreps)\n",
    "    t_numeric.append(tn)\n",
    "    t_numeric_add.append(tna)\n",
    "    t_numeric_run_ids.append(run_id_n)\n",
    "\n",
    "    ta, taa, run_id_a =  insert_data('array', size, nreps=nreps)\n",
    "    t_array.append(ta)\n",
    "    t_array_add.append(taa)\n",
    "    t_array_run_ids.append(run_id_a)"
   ]
  },
  {
   "cell_type": "code",
   "execution_count": 8,
   "metadata": {
    "scrolled": true
   },
   "outputs": [
    {
     "data": {
      "image/png": "[encoded data removed]",
      "text/plain": [
       "<Figure size 432x288 with 1 Axes>"
      ]
     },
     "metadata": {
      "needs_background": "light"
     },
     "output_type": "display_data"
    }
   ],
   "source": [
    "fig, ax = plt.subplots(1,1)\n",
    "ax.plot(sizes, t_numeric, 'o-', label='Inserting row-by-row')\n",
    "ax.plot(sizes, t_numeric_add, 'o-', label='Inserting row-by-row: add_result only')\n",
    "ax.plot(sizes, t_array, 'd-', label='Inserting as binary blob')\n",
    "ax.plot(sizes, t_array_add, 'd-', label='Inserting as binary blob: add_result only')\n",
    "ax.legend()\n",
    "ax.set_xlabel('Array length')\n",
    "ax.set_ylabel('Time (s)')\n",
    "fig.tight_layout()"
   ]
  },
  {
   "cell_type": "markdown",
   "metadata": {},
   "source": [
    "However, as we increase the length of the experiment, as seen here by repeating the insertion 100 times, we see a big difference between inserting values of the data row-by-row and inserting it as a binary blob."
   ]
  },
  {
   "cell_type": "markdown",
   "metadata": {},
   "source": [
    "## Loading the data "
   ]
  },
  {
   "cell_type": "code",
   "execution_count": 9,
   "metadata": {},
   "outputs": [],
   "source": [
    "from qcodes.dataset.data_set import load_by_id\n",
    "from qcodes.dataset.data_export import get_data_by_id"
   ]
  },
  {
   "cell_type": "markdown",
   "metadata": {},
   "source": [
    "As usual you can load the data by using the ``load_by_id`` function but you will notice that the different storage methods\n",
    "are reflected in shape of the data as it is retrieved. "
   ]
  },
  {
   "cell_type": "code",
   "execution_count": 10,
   "metadata": {},
   "outputs": [],
   "source": [
    "run_id_n = t_numeric_run_ids[0]\n",
    "run_id_a = t_array_run_ids[0]"
   ]
  },
  {
   "cell_type": "code",
   "execution_count": 11,
   "metadata": {
    "scrolled": true
   },
   "outputs": [
    {
     "data": {
      "text/plain": [
       "{'x1': {'x1': array([0.86640141, 0.86640141, 0.75450722, 0.75450722, 0.03232261,\n",
       "         0.03232261, 0.19531066, 0.19531066, 0.61392985, 0.61392985,\n",
       "         0.23069973, 0.23069973, 0.20981017, 0.20981017, 0.4412801 ,\n",
       "         0.4412801 , 0.52873542, 0.52873542, 0.90710457, 0.90710457,\n",
       "         0.02884633, 0.02884633, 0.35545381, 0.35545381, 0.02070054,\n",
       "         0.02070054, 0.19566129, 0.19566129, 0.07021379, 0.07021379,\n",
       "         0.68090168, 0.68090168, 0.69246374, 0.69246374, 0.05844343,\n",
       "         0.05844343, 0.07687074, 0.07687074, 0.33091913, 0.33091913,\n",
       "         0.04378117, 0.04378117, 0.83315212, 0.83315212, 0.21505411,\n",
       "         0.21505411, 0.44441107, 0.44441107, 0.21651373, 0.21651373,\n",
       "         0.44585852, 0.44585852, 0.0385501 , 0.0385501 , 0.22277006,\n",
       "         0.22277006, 0.94677612, 0.94677612, 0.18975847, 0.18975847,\n",
       "         0.11402093, 0.11402093, 0.32116565, 0.32116565, 0.05628975,\n",
       "         0.05628975, 0.49372865, 0.49372865, 0.74982281, 0.74982281,\n",
       "         0.8011146 , 0.8011146 , 0.32394105, 0.32394105, 0.55538078,\n",
       "         0.55538078, 0.46656879, 0.46656879, 0.99922703, 0.99922703,\n",
       "         0.68758755, 0.68758755, 0.32402287, 0.32402287, 0.378375  ,\n",
       "         0.378375  , 0.83523549, 0.83523549, 0.98082685, 0.98082685,\n",
       "         0.62490373, 0.62490373, 0.82927561, 0.82927561, 0.0632011 ,\n",
       "         0.0632011 , 0.34287096, 0.34287096, 0.76731905, 0.76731905,\n",
       "         0.83144927, 0.83144927, 0.50797991, 0.50797991, 0.73199243,\n",
       "         0.73199243, 0.66593551, 0.66593551, 0.2985393 , 0.2985393 ,\n",
       "         0.81985389, 0.81985389, 0.97171863, 0.97171863, 0.16444476,\n",
       "         0.16444476, 0.42501079, 0.42501079, 0.91492463, 0.91492463,\n",
       "         0.55612931, 0.55612931, 0.93198081, 0.93198081, 0.88962662,\n",
       "         0.88962662, 0.34223243, 0.34223243, 0.9416983 , 0.9416983 ,\n",
       "         0.60541912, 0.60541912, 0.43827408, 0.43827408, 0.46555376,\n",
       "         0.46555376, 0.68161124, 0.68161124, 0.64559482, 0.64559482,\n",
       "         0.34175152, 0.34175152, 0.38859181, 0.38859181, 0.03954852,\n",
       "         0.03954852, 0.84657004, 0.84657004, 0.75583255, 0.75583255,\n",
       "         0.65017667, 0.65017667, 0.42448063, 0.42448063, 0.03367758,\n",
       "         0.03367758, 0.26301974, 0.26301974, 0.32465745, 0.32465745,\n",
       "         0.09614462, 0.09614462, 0.29342925, 0.29342925, 0.34537229,\n",
       "         0.34537229, 0.78550064, 0.78550064, 0.53693003, 0.53693003,\n",
       "         0.92590713, 0.92590713, 0.74718557, 0.74718557, 0.52796633,\n",
       "         0.52796633, 0.59630205, 0.59630205, 0.94343486, 0.94343486,\n",
       "         0.83331497, 0.83331497, 0.96402571, 0.96402571, 0.45772188,\n",
       "         0.45772188, 0.90798558, 0.90798558, 0.07205615, 0.07205615,\n",
       "         0.9877908 , 0.9877908 , 0.88786599, 0.88786599, 0.99421321,\n",
       "         0.99421321, 0.4319582 , 0.4319582 , 0.37874162, 0.37874162])}}"
      ]
     },
     "execution_count": 11,
     "metadata": {},
     "output_type": "execute_result"
    }
   ],
   "source": [
    "ds = load_by_id(run_id_n)\n",
    "ds.get_parameter_data('x1')"
   ]
  },
  {
   "cell_type": "markdown",
   "metadata": {},
   "source": [
    "And a dataset stored as binary arrays"
   ]
  },
  {
   "cell_type": "code",
   "execution_count": 12,
   "metadata": {
    "scrolled": true
   },
   "outputs": [
    {
     "data": {
      "text/plain": [
       "{'x1': {'x1': array([[0.54595065],\n",
       "         [0.54595065],\n",
       "         [0.35504552],\n",
       "         [0.35504552],\n",
       "         [0.840093  ],\n",
       "         [0.840093  ],\n",
       "         [0.3089421 ],\n",
       "         [0.3089421 ],\n",
       "         [0.50047164],\n",
       "         [0.50047164],\n",
       "         [0.18061576],\n",
       "         [0.18061576],\n",
       "         [0.3351765 ],\n",
       "         [0.3351765 ],\n",
       "         [0.65324435],\n",
       "         [0.65324435],\n",
       "         [0.36115835],\n",
       "         [0.36115835],\n",
       "         [0.92523358],\n",
       "         [0.92523358],\n",
       "         [0.58609714],\n",
       "         [0.58609714],\n",
       "         [0.28116573],\n",
       "         [0.28116573],\n",
       "         [0.79323046],\n",
       "         [0.79323046],\n",
       "         [0.2338712 ],\n",
       "         [0.2338712 ],\n",
       "         [0.35641938],\n",
       "         [0.35641938],\n",
       "         [0.16133251],\n",
       "         [0.16133251],\n",
       "         [0.48721055],\n",
       "         [0.48721055],\n",
       "         [0.36726885],\n",
       "         [0.36726885],\n",
       "         [0.12826298],\n",
       "         [0.12826298],\n",
       "         [0.37681945],\n",
       "         [0.37681945],\n",
       "         [0.8097509 ],\n",
       "         [0.8097509 ],\n",
       "         [0.45559417],\n",
       "         [0.45559417],\n",
       "         [0.04041968],\n",
       "         [0.04041968],\n",
       "         [0.8564109 ],\n",
       "         [0.8564109 ],\n",
       "         [0.62888334],\n",
       "         [0.62888334],\n",
       "         [0.07789094],\n",
       "         [0.07789094],\n",
       "         [0.8952125 ],\n",
       "         [0.8952125 ],\n",
       "         [0.78037883],\n",
       "         [0.78037883],\n",
       "         [0.57737117],\n",
       "         [0.57737117],\n",
       "         [0.42789215],\n",
       "         [0.42789215],\n",
       "         [0.95900972],\n",
       "         [0.95900972],\n",
       "         [0.59304026],\n",
       "         [0.59304026],\n",
       "         [0.94613184],\n",
       "         [0.94613184],\n",
       "         [0.85004891],\n",
       "         [0.85004891],\n",
       "         [0.85778959],\n",
       "         [0.85778959],\n",
       "         [0.25899346],\n",
       "         [0.25899346],\n",
       "         [0.88205416],\n",
       "         [0.88205416],\n",
       "         [0.60115763],\n",
       "         [0.60115763],\n",
       "         [0.35133684],\n",
       "         [0.35133684],\n",
       "         [0.48264582],\n",
       "         [0.48264582],\n",
       "         [0.7213966 ],\n",
       "         [0.7213966 ],\n",
       "         [0.97471629],\n",
       "         [0.97471629],\n",
       "         [0.05771632],\n",
       "         [0.05771632],\n",
       "         [0.66691763],\n",
       "         [0.66691763],\n",
       "         [0.93037185],\n",
       "         [0.93037185],\n",
       "         [0.43228688],\n",
       "         [0.43228688],\n",
       "         [0.92122104],\n",
       "         [0.92122104],\n",
       "         [0.41909916],\n",
       "         [0.41909916],\n",
       "         [0.17613555],\n",
       "         [0.17613555],\n",
       "         [0.38097434],\n",
       "         [0.38097434],\n",
       "         [0.35508524],\n",
       "         [0.35508524],\n",
       "         [0.08537143],\n",
       "         [0.08537143],\n",
       "         [0.45811027],\n",
       "         [0.45811027],\n",
       "         [0.70244427],\n",
       "         [0.70244427],\n",
       "         [0.65424221],\n",
       "         [0.65424221],\n",
       "         [0.73888221],\n",
       "         [0.73888221],\n",
       "         [0.89750844],\n",
       "         [0.89750844],\n",
       "         [0.44943266],\n",
       "         [0.44943266],\n",
       "         [0.1077691 ],\n",
       "         [0.1077691 ],\n",
       "         [0.91380066],\n",
       "         [0.91380066],\n",
       "         [0.98847626],\n",
       "         [0.98847626],\n",
       "         [0.29206291],\n",
       "         [0.29206291],\n",
       "         [0.5962725 ],\n",
       "         [0.5962725 ],\n",
       "         [0.9157539 ],\n",
       "         [0.9157539 ],\n",
       "         [0.1258063 ],\n",
       "         [0.1258063 ],\n",
       "         [0.50685657],\n",
       "         [0.50685657],\n",
       "         [0.79410245],\n",
       "         [0.79410245],\n",
       "         [0.63366038],\n",
       "         [0.63366038],\n",
       "         [0.96904512],\n",
       "         [0.96904512],\n",
       "         [0.13003532],\n",
       "         [0.13003532],\n",
       "         [0.85478813],\n",
       "         [0.85478813],\n",
       "         [0.50057045],\n",
       "         [0.50057045],\n",
       "         [0.38998054],\n",
       "         [0.38998054],\n",
       "         [0.24157189],\n",
       "         [0.24157189],\n",
       "         [0.71604847],\n",
       "         [0.71604847],\n",
       "         [0.49266171],\n",
       "         [0.49266171],\n",
       "         [0.10397463],\n",
       "         [0.10397463],\n",
       "         [0.71006677],\n",
       "         [0.71006677],\n",
       "         [0.35958242],\n",
       "         [0.35958242],\n",
       "         [0.99083202],\n",
       "         [0.99083202],\n",
       "         [0.20318778],\n",
       "         [0.20318778],\n",
       "         [0.39047158],\n",
       "         [0.39047158],\n",
       "         [0.24271527],\n",
       "         [0.24271527],\n",
       "         [0.0393903 ],\n",
       "         [0.0393903 ],\n",
       "         [0.3262307 ],\n",
       "         [0.3262307 ],\n",
       "         [0.06124263],\n",
       "         [0.06124263],\n",
       "         [0.31885018],\n",
       "         [0.31885018],\n",
       "         [0.38215619],\n",
       "         [0.38215619],\n",
       "         [0.07671224],\n",
       "         [0.07671224],\n",
       "         [0.11741216],\n",
       "         [0.11741216],\n",
       "         [0.50812747],\n",
       "         [0.50812747],\n",
       "         [0.79138625],\n",
       "         [0.79138625],\n",
       "         [0.03267817],\n",
       "         [0.03267817],\n",
       "         [0.95017112],\n",
       "         [0.95017112],\n",
       "         [0.44910166],\n",
       "         [0.44910166],\n",
       "         [0.95407036],\n",
       "         [0.95407036],\n",
       "         [0.12637803],\n",
       "         [0.12637803],\n",
       "         [0.95376392],\n",
       "         [0.95376392],\n",
       "         [0.31391133],\n",
       "         [0.31391133],\n",
       "         [0.73160776],\n",
       "         [0.73160776]])}}"
      ]
     },
     "execution_count": 12,
     "metadata": {},
     "output_type": "execute_result"
    }
   ],
   "source": [
    "ds = load_by_id(run_id_a)\n",
    "ds.get_parameter_data('x1')"
   ]
  },
  {
   "cell_type": "code",
   "execution_count": null,
   "metadata": {},
   "outputs": [],
   "source": []
  }
 ],
 "metadata": {
  "kernelspec": {
   "display_name": "Python 3",
   "language": "python",
   "name": "python3"
  },
  "language_info": {
   "codemirror_mode": {
    "name": "ipython",
    "version": 3
   },
   "file_extension": ".py",
   "mimetype": "text/x-python",
   "name": "python",
   "nbconvert_exporter": "python",
   "pygments_lexer": "ipython3",
   "version": "3.7.7"
  },
  "nbsphinx": {
   "timeout": 600
  },
  "toc": {
   "base_numbering": 1,
   "nav_menu": {},
   "number_sections": true,
   "sideBar": true,
   "skip_h1_title": false,
   "title_cell": "Table of Contents",
   "title_sidebar": "Contents",
   "toc_cell": false,
   "toc_position": {},
   "toc_section_display": true,
   "toc_window_display": false
  },
  "varInspector": {
   "cols": {
    "lenName": 16,
    "lenType": 16,
    "lenVar": 40
   },
   "kernels_config": {
    "python": {
     "delete_cmd_postfix": "",
     "delete_cmd_prefix": "del ",
     "library": "var_list.py",
     "varRefreshCmd": "print(var_dic_list())"
    },
    "r": {
     "delete_cmd_postfix": ") ",
     "delete_cmd_prefix": "rm(",
     "library": "var_list.r",
     "varRefreshCmd": "cat(var_dic_list()) "
    }
   },
   "types_to_exclude": [
    "module",
    "function",
    "builtin_function_or_method",
    "instance",
    "_Feature"
   ],
   "window_display": false
  }
 },
 "nbformat": 4,
 "nbformat_minor": 2
}
