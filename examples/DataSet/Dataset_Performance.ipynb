{
 "cells": [
  {
   "cell_type": "markdown",
   "metadata": {},
   "source": [
    "# DataSet Performance\n",
    "\n",
    "This notebook shows the trade-off between inserting data into a database row-by-row and as binary blobs. Inserting the data row-by-row means that we have direct access to all the data and may perform queries directly on the values of the data. On the other hand, as we shall see, this is much slower than inserting the data directly as binary blobs."
   ]
  },
  {
   "cell_type": "markdown",
   "metadata": {},
   "source": [
    "First, we choose a new location for the database to ensure that we don't add a bunch of benchmarking data to the default one."
   ]
  },
  {
   "cell_type": "code",
   "execution_count": 1,
   "metadata": {
    "execution": {
     "iopub.execute_input": "2021-01-25T07:30:32.241552Z",
     "iopub.status.busy": "2021-01-25T07:30:32.241054Z",
     "iopub.status.idle": "2021-01-25T07:30:33.116547Z",
     "shell.execute_reply": "2021-01-25T07:30:33.116962Z"
    }
   },
   "outputs": [
    {
     "name": "stdout",
     "output_type": "stream",
     "text": [
      "Logging hadn't been started.\n",
      "Activating auto-logging. Current session state plus future input saved.\n",
      "Filename       : /home/vsts/.qcodes/logs/command_history.log\n",
      "Mode           : append\n",
      "Output logging : True\n",
      "Raw input log  : False\n",
      "Timestamping   : True\n",
      "State          : active\n"
     ]
    },
    {
     "name": "stdout",
     "output_type": "stream",
     "text": [
      "Qcodes Logfile : /home/vsts/.qcodes/logs/210125-13631-qcodes.log\n"
     ]
    }
   ],
   "source": [
    "import os\n",
    "cwd = os.getcwd()\n",
    "import qcodes as qc\n",
    "qc.config[\"core\"][\"db_location\"] = os.path.join(cwd, 'testing.db')\n"
   ]
  },
  {
   "cell_type": "code",
   "execution_count": 2,
   "metadata": {
    "execution": {
     "iopub.execute_input": "2021-01-25T07:30:33.122583Z",
     "iopub.status.busy": "2021-01-25T07:30:33.121760Z",
     "iopub.status.idle": "2021-01-25T07:30:33.279840Z",
     "shell.execute_reply": "2021-01-25T07:30:33.279363Z"
    }
   },
   "outputs": [],
   "source": [
    "%matplotlib inline\n",
    "import time\n",
    "import matplotlib.pyplot as plt\n",
    "import numpy as np\n",
    "\n",
    "import qcodes as qc\n",
    "from qcodes.instrument.parameter import ManualParameter\n",
    "from qcodes.dataset.experiment_container import (Experiment,\n",
    "                                                 load_last_experiment,\n",
    "                                                 new_experiment)\n",
    "from qcodes.dataset.sqlite.database import initialise_database\n",
    "from qcodes import load_or_create_experiment\n",
    "from qcodes.dataset.measurements import Measurement"
   ]
  },
  {
   "cell_type": "code",
   "execution_count": 3,
   "metadata": {
    "execution": {
     "iopub.execute_input": "2021-01-25T07:30:33.283181Z",
     "iopub.status.busy": "2021-01-25T07:30:33.282563Z",
     "iopub.status.idle": "2021-01-25T07:30:33.365506Z",
     "shell.execute_reply": "2021-01-25T07:30:33.365975Z"
    }
   },
   "outputs": [
    {
     "name": "stdout",
     "output_type": "stream",
     "text": [
      "\r",
      "0it [00:00, ?it/s]"
     ]
    },
    {
     "name": "stdout",
     "output_type": "stream",
     "text": [
      "\r",
      "Upgrading database; v0 -> v1: : 0it [00:00, ?it/s]"
     ]
    },
    {
     "name": "stdout",
     "output_type": "stream",
     "text": [
      "\r",
      "Upgrading database; v0 -> v1: : 0it [00:00, ?it/s]"
     ]
    },
    {
     "name": "stdout",
     "output_type": "stream",
     "text": [
      "\n",
      "\r",
      "  0%|          | 0/1 [00:00<?, ?it/s]"
     ]
    },
    {
     "name": "stdout",
     "output_type": "stream",
     "text": [
      "\r",
      "Upgrading database; v1 -> v2:   0%|          | 0/1 [00:00<?, ?it/s]"
     ]
    },
    {
     "name": "stdout",
     "output_type": "stream",
     "text": [
      "\r",
      "Upgrading database; v1 -> v2: 100%|██████████| 1/1 [00:00<00:00, 618.72it/s]"
     ]
    },
    {
     "name": "stdout",
     "output_type": "stream",
     "text": [
      "\n",
      "\r",
      "0it [00:00, ?it/s]"
     ]
    },
    {
     "name": "stdout",
     "output_type": "stream",
     "text": [
      "\r",
      "Upgrading database; v2 -> v3: : 0it [00:00, ?it/s]"
     ]
    },
    {
     "name": "stdout",
     "output_type": "stream",
     "text": [
      "\r",
      "Upgrading database; v2 -> v3: : 0it [00:00, ?it/s]"
     ]
    },
    {
     "name": "stdout",
     "output_type": "stream",
     "text": [
      "\n",
      "\r",
      "0it [00:00, ?it/s]"
     ]
    },
    {
     "name": "stdout",
     "output_type": "stream",
     "text": [
      "\r",
      "Upgrading database; v3 -> v4: : 0it [00:00, ?it/s]"
     ]
    },
    {
     "name": "stdout",
     "output_type": "stream",
     "text": [
      "\r",
      "Upgrading database; v3 -> v4: : 0it [00:00, ?it/s]"
     ]
    },
    {
     "name": "stdout",
     "output_type": "stream",
     "text": [
      "\n",
      "\r",
      "  0%|          | 0/1 [00:00<?, ?it/s]"
     ]
    },
    {
     "name": "stdout",
     "output_type": "stream",
     "text": [
      "\r",
      "Upgrading database; v4 -> v5:   0%|          | 0/1 [00:00<?, ?it/s]"
     ]
    },
    {
     "name": "stdout",
     "output_type": "stream",
     "text": [
      "\r",
      "Upgrading database; v4 -> v5: 100%|██████████| 1/1 [00:00<00:00, 522.00it/s]"
     ]
    },
    {
     "name": "stdout",
     "output_type": "stream",
     "text": [
      "\n",
      "\r",
      "0it [00:00, ?it/s]"
     ]
    },
    {
     "name": "stdout",
     "output_type": "stream",
     "text": [
      "\r",
      "Upgrading database; v5 -> v6: : 0it [00:00, ?it/s]"
     ]
    },
    {
     "name": "stdout",
     "output_type": "stream",
     "text": [
      "\r",
      "Upgrading database; v5 -> v6: : 0it [00:00, ?it/s]"
     ]
    },
    {
     "name": "stdout",
     "output_type": "stream",
     "text": [
      "\n",
      "\r",
      "  0%|          | 0/1 [00:00<?, ?it/s]"
     ]
    },
    {
     "name": "stdout",
     "output_type": "stream",
     "text": [
      "\r",
      "Upgrading database; v6 -> v7:   0%|          | 0/1 [00:00<?, ?it/s]"
     ]
    },
    {
     "name": "stdout",
     "output_type": "stream",
     "text": [
      "\r",
      "Upgrading database; v6 -> v7: 100%|██████████| 1/1 [00:00<00:00, 635.60it/s]"
     ]
    },
    {
     "name": "stdout",
     "output_type": "stream",
     "text": [
      "\n",
      "\r",
      "  0%|          | 0/1 [00:00<?, ?it/s]"
     ]
    },
    {
     "name": "stdout",
     "output_type": "stream",
     "text": [
      "\r",
      "Upgrading database; v7 -> v8:   0%|          | 0/1 [00:00<?, ?it/s]"
     ]
    },
    {
     "name": "stdout",
     "output_type": "stream",
     "text": [
      "\r",
      "Upgrading database; v7 -> v8: 100%|██████████| 1/1 [00:00<00:00, 671.95it/s]"
     ]
    },
    {
     "name": "stdout",
     "output_type": "stream",
     "text": [
      "\n",
      "\r",
      "  0%|          | 0/1 [00:00<?, ?it/s]"
     ]
    },
    {
     "name": "stdout",
     "output_type": "stream",
     "text": [
      "\r",
      "Upgrading database; v8 -> v9:   0%|          | 0/1 [00:00<?, ?it/s]"
     ]
    },
    {
     "name": "stdout",
     "output_type": "stream",
     "text": [
      "\r",
      "Upgrading database; v8 -> v9: 100%|██████████| 1/1 [00:00<00:00, 1206.99it/s]"
     ]
    },
    {
     "name": "stdout",
     "output_type": "stream",
     "text": [
      "\n"
     ]
    }
   ],
   "source": [
    "initialise_database()\n",
    "exp = load_or_create_experiment(experiment_name='tutorial_exp', sample_name=\"no sample\")"
   ]
  },
  {
   "cell_type": "markdown",
   "metadata": {},
   "source": [
    "Here, we define a simple function to benchmark the time it takes to insert n points with either numeric or array data type.\n",
    "We will compare both the time used to call ``add_result`` and the time used for the full measurement."
   ]
  },
  {
   "cell_type": "code",
   "execution_count": 4,
   "metadata": {
    "execution": {
     "iopub.execute_input": "2021-01-25T07:30:33.373806Z",
     "iopub.status.busy": "2021-01-25T07:30:33.372998Z",
     "iopub.status.idle": "2021-01-25T07:30:33.374556Z",
     "shell.execute_reply": "2021-01-25T07:30:33.374904Z"
    }
   },
   "outputs": [],
   "source": [
    "def insert_data(paramtype, npoints, nreps=1):\n",
    "\n",
    "    meas = Measurement(exp=exp)\n",
    "\n",
    "    x1 = ManualParameter('x1')\n",
    "    x2 = ManualParameter('x2')\n",
    "    x3 = ManualParameter('x3')\n",
    "    y1 = ManualParameter('y1')\n",
    "    y2 = ManualParameter('y2')\n",
    "\n",
    "    meas.register_parameter(x1, paramtype=paramtype)\n",
    "    meas.register_parameter(x2, paramtype=paramtype)\n",
    "    meas.register_parameter(x3, paramtype=paramtype)\n",
    "    meas.register_parameter(y1, setpoints=[x1, x2, x3],\n",
    "                            paramtype=paramtype)\n",
    "    meas.register_parameter(y2, setpoints=[x1, x2, x3],\n",
    "                            paramtype=paramtype)\n",
    "    start = time.perf_counter()\n",
    "    with meas.run() as datasaver:\n",
    "        start_adding = time.perf_counter()\n",
    "        for i in range(nreps):\n",
    "            datasaver.add_result((x1, np.random.rand(npoints)),\n",
    "                                 (x2, np.random.rand(npoints)),\n",
    "                                 (x3, np.random.rand(npoints)),\n",
    "                                 (y1, np.random.rand(npoints)),\n",
    "                                 (y2, np.random.rand(npoints)))\n",
    "        stop_adding = time.perf_counter()\n",
    "        run_id = datasaver.run_id\n",
    "    stop = time.perf_counter()\n",
    "    tot_time = stop - start\n",
    "    add_time = stop_adding - start_adding\n",
    "    return tot_time, add_time, run_id"
   ]
  },
  {
   "cell_type": "markdown",
   "metadata": {},
   "source": [
    "## Comparison between numeric/array data and binary blob"
   ]
  },
  {
   "cell_type": "markdown",
   "metadata": {},
   "source": [
    "### Case1: Short experiment time"
   ]
  },
  {
   "cell_type": "code",
   "execution_count": 5,
   "metadata": {
    "execution": {
     "iopub.execute_input": "2021-01-25T07:30:33.380537Z",
     "iopub.status.busy": "2021-01-25T07:30:33.380043Z",
     "iopub.status.idle": "2021-01-25T07:30:34.027324Z",
     "shell.execute_reply": "2021-01-25T07:30:34.026805Z"
    }
   },
   "outputs": [
    {
     "name": "stdout",
     "output_type": "stream",
     "text": [
      "Starting experimental run with id: 1. \n",
      "Starting experimental run with id: 2. \n",
      "Starting experimental run with id: 3. \n",
      "Starting experimental run with id: 4. \n",
      "Starting experimental run with id: 5. \n",
      "Starting experimental run with id: 6. \n",
      "Starting experimental run with id: 7. \n"
     ]
    },
    {
     "name": "stdout",
     "output_type": "stream",
     "text": [
      "Starting experimental run with id: 8. \n",
      "Starting experimental run with id: 9. \n"
     ]
    },
    {
     "name": "stdout",
     "output_type": "stream",
     "text": [
      "Starting experimental run with id: 10. \n",
      "Starting experimental run with id: 11. \n"
     ]
    },
    {
     "name": "stdout",
     "output_type": "stream",
     "text": [
      "Starting experimental run with id: 12. \n",
      "Starting experimental run with id: 13. \n"
     ]
    },
    {
     "name": "stdout",
     "output_type": "stream",
     "text": [
      "Starting experimental run with id: 14. \n"
     ]
    }
   ],
   "source": [
    "sizes = [1,500,1000,2000,3000,4000,5000]\n",
    "t_numeric = []\n",
    "t_numeric_add = []\n",
    "t_array = []\n",
    "t_array_add = []\n",
    "for size in sizes:\n",
    "    tn, tna, run_id_n =  insert_data('numeric', size)\n",
    "    t_numeric.append(tn)\n",
    "    t_numeric_add.append(tna)\n",
    "\n",
    "    ta, taa, run_id_a =  insert_data('array', size)\n",
    "    t_array.append(ta)\n",
    "    t_array_add.append(taa)"
   ]
  },
  {
   "cell_type": "code",
   "execution_count": 6,
   "metadata": {
    "execution": {
     "iopub.execute_input": "2021-01-25T07:30:34.041969Z",
     "iopub.status.busy": "2021-01-25T07:30:34.036449Z",
     "iopub.status.idle": "2021-01-25T07:30:34.214574Z",
     "shell.execute_reply": "2021-01-25T07:30:34.214153Z"
    }
   },
   "outputs": [
    {
     "data": {
      "image/png": "[encoded data removed]",
      "text/plain": [
       "<Figure size 432x288 with 1 Axes>"
      ]
     },
     "metadata": {
      "needs_background": "light"
     },
     "output_type": "display_data"
    }
   ],
   "source": [
    "fig, ax = plt.subplots(1,1)\n",
    "ax.plot(sizes, t_numeric, 'o-', label='Inserting row-by-row')\n",
    "ax.plot(sizes, t_numeric_add, 'o-', label='Inserting row-by-row: add_result only')\n",
    "ax.plot(sizes, t_array, 'd-', label='Inserting as binary blob')\n",
    "ax.plot(sizes, t_array_add, 'd-', label='Inserting as binary blob: add_result only')\n",
    "ax.legend()\n",
    "ax.set_xlabel('Array length')\n",
    "ax.set_ylabel('Time (s)')\n",
    "fig.tight_layout()"
   ]
  },
  {
   "cell_type": "markdown",
   "metadata": {},
   "source": [
    "As shown in the latter figure, the time to setup and and close the experiment is approximately 0.4 sec. In case of small array sizes, the difference between inserting values of data as arrays and inserting them row-by-row is relatively unimportant. At larger array sizes, i.e. above 10000 points, the cost of writing data as individual datapoints starts to become important.\n"
   ]
  },
  {
   "cell_type": "markdown",
   "metadata": {},
   "source": [
    "### Case2: Long experiment time "
   ]
  },
  {
   "cell_type": "code",
   "execution_count": 7,
   "metadata": {
    "execution": {
     "iopub.execute_input": "2021-01-25T07:30:34.220896Z",
     "iopub.status.busy": "2021-01-25T07:30:34.220155Z",
     "iopub.status.idle": "2021-01-25T07:31:28.475127Z",
     "shell.execute_reply": "2021-01-25T07:31:28.475524Z"
    }
   },
   "outputs": [
    {
     "name": "stdout",
     "output_type": "stream",
     "text": [
      "Starting experimental run with id: 15. \n",
      "Starting experimental run with id: 16. \n",
      "Starting experimental run with id: 17. \n"
     ]
    },
    {
     "name": "stdout",
     "output_type": "stream",
     "text": [
      "Starting experimental run with id: 18. \n",
      "Starting experimental run with id: 19. \n"
     ]
    },
    {
     "name": "stdout",
     "output_type": "stream",
     "text": [
      "Starting experimental run with id: 20. \n"
     ]
    },
    {
     "name": "stdout",
     "output_type": "stream",
     "text": [
      "Starting experimental run with id: 21. \n"
     ]
    },
    {
     "name": "stdout",
     "output_type": "stream",
     "text": [
      "Starting experimental run with id: 22. \n"
     ]
    },
    {
     "name": "stdout",
     "output_type": "stream",
     "text": [
      "Starting experimental run with id: 23. \n"
     ]
    },
    {
     "name": "stdout",
     "output_type": "stream",
     "text": [
      "Starting experimental run with id: 24. \n"
     ]
    },
    {
     "name": "stdout",
     "output_type": "stream",
     "text": [
      "Starting experimental run with id: 25. \n"
     ]
    },
    {
     "name": "stdout",
     "output_type": "stream",
     "text": [
      "Starting experimental run with id: 26. \n"
     ]
    },
    {
     "name": "stdout",
     "output_type": "stream",
     "text": [
      "Starting experimental run with id: 27. \n"
     ]
    },
    {
     "name": "stdout",
     "output_type": "stream",
     "text": [
      "Starting experimental run with id: 28. \n"
     ]
    }
   ],
   "source": [
    "sizes = [1,500,1000,2000,3000,4000,5000]\n",
    "nreps = 100\n",
    "t_numeric = []\n",
    "t_numeric_add = []\n",
    "t_numeric_run_ids = []\n",
    "t_array = []\n",
    "t_array_add = []\n",
    "t_array_run_ids = []\n",
    "for size in sizes:\n",
    "    tn, tna, run_id_n =  insert_data('numeric', size, nreps=nreps)\n",
    "    t_numeric.append(tn)\n",
    "    t_numeric_add.append(tna)\n",
    "    t_numeric_run_ids.append(run_id_n)\n",
    "\n",
    "    ta, taa, run_id_a =  insert_data('array', size, nreps=nreps)\n",
    "    t_array.append(ta)\n",
    "    t_array_add.append(taa)\n",
    "    t_array_run_ids.append(run_id_a)"
   ]
  },
  {
   "cell_type": "code",
   "execution_count": 8,
   "metadata": {
    "execution": {
     "iopub.execute_input": "2021-01-25T07:31:28.501315Z",
     "iopub.status.busy": "2021-01-25T07:31:28.490167Z",
     "iopub.status.idle": "2021-01-25T07:31:28.651507Z",
     "shell.execute_reply": "2021-01-25T07:31:28.651103Z"
    },
    "scrolled": true
   },
   "outputs": [
    {
     "data": {
      "image/png": "[encoded data removed]",
      "text/plain": [
       "<Figure size 432x288 with 1 Axes>"
      ]
     },
     "metadata": {
      "needs_background": "light"
     },
     "output_type": "display_data"
    }
   ],
   "source": [
    "fig, ax = plt.subplots(1,1)\n",
    "ax.plot(sizes, t_numeric, 'o-', label='Inserting row-by-row')\n",
    "ax.plot(sizes, t_numeric_add, 'o-', label='Inserting row-by-row: add_result only')\n",
    "ax.plot(sizes, t_array, 'd-', label='Inserting as binary blob')\n",
    "ax.plot(sizes, t_array_add, 'd-', label='Inserting as binary blob: add_result only')\n",
    "ax.legend()\n",
    "ax.set_xlabel('Array length')\n",
    "ax.set_ylabel('Time (s)')\n",
    "fig.tight_layout()"
   ]
  },
  {
   "cell_type": "markdown",
   "metadata": {},
   "source": [
    "However, as we increase the length of the experiment, as seen here by repeating the insertion 100 times, we see a big difference between inserting values of the data row-by-row and inserting it as a binary blob."
   ]
  },
  {
   "cell_type": "markdown",
   "metadata": {},
   "source": [
    "## Loading the data "
   ]
  },
  {
   "cell_type": "code",
   "execution_count": 9,
   "metadata": {
    "execution": {
     "iopub.execute_input": "2021-01-25T07:31:28.655020Z",
     "iopub.status.busy": "2021-01-25T07:31:28.654136Z",
     "iopub.status.idle": "2021-01-25T07:31:28.658127Z",
     "shell.execute_reply": "2021-01-25T07:31:28.657732Z"
    }
   },
   "outputs": [],
   "source": [
    "from qcodes.dataset.data_set import load_by_id\n",
    "from qcodes.dataset.data_export import get_data_by_id"
   ]
  },
  {
   "cell_type": "markdown",
   "metadata": {},
   "source": [
    "As usual you can load the data by using the ``load_by_id`` function but you will notice that the different storage methods\n",
    "are reflected in shape of the data as it is retrieved. "
   ]
  },
  {
   "cell_type": "code",
   "execution_count": 10,
   "metadata": {
    "execution": {
     "iopub.execute_input": "2021-01-25T07:31:28.661667Z",
     "iopub.status.busy": "2021-01-25T07:31:28.660879Z",
     "iopub.status.idle": "2021-01-25T07:31:28.662454Z",
     "shell.execute_reply": "2021-01-25T07:31:28.662922Z"
    }
   },
   "outputs": [],
   "source": [
    "run_id_n = t_numeric_run_ids[0]\n",
    "run_id_a = t_array_run_ids[0]"
   ]
  },
  {
   "cell_type": "code",
   "execution_count": 11,
   "metadata": {
    "execution": {
     "iopub.execute_input": "2021-01-25T07:31:28.665604Z",
     "iopub.status.busy": "2021-01-25T07:31:28.665168Z",
     "iopub.status.idle": "2021-01-25T07:31:28.673277Z",
     "shell.execute_reply": "2021-01-25T07:31:28.672805Z"
    },
    "scrolled": true
   },
   "outputs": [
    {
     "data": {
      "text/plain": [
       "{'x1': {'x1': array([0.57852489, 0.57852489, 0.80904499, 0.80904499, 0.96464031,\n",
       "         0.96464031, 0.97089567, 0.97089567, 0.24763523, 0.24763523,\n",
       "         0.00424546, 0.00424546, 0.87383739, 0.87383739, 0.5406938 ,\n",
       "         0.5406938 , 0.74001975, 0.74001975, 0.98525988, 0.98525988,\n",
       "         0.94687962, 0.94687962, 0.52851775, 0.52851775, 0.96610776,\n",
       "         0.96610776, 0.21276461, 0.21276461, 0.38110614, 0.38110614,\n",
       "         0.80171255, 0.80171255, 0.5596701 , 0.5596701 , 0.73931445,\n",
       "         0.73931445, 0.09758918, 0.09758918, 0.77754752, 0.77754752,\n",
       "         0.25553025, 0.25553025, 0.37713635, 0.37713635, 0.76453999,\n",
       "         0.76453999, 0.78337136, 0.78337136, 0.44228243, 0.44228243,\n",
       "         0.99163037, 0.99163037, 0.31889845, 0.31889845, 0.90382371,\n",
       "         0.90382371, 0.87721691, 0.87721691, 0.93660855, 0.93660855,\n",
       "         0.75427163, 0.75427163, 0.92312513, 0.92312513, 0.09227729,\n",
       "         0.09227729, 0.63125808, 0.63125808, 0.76675742, 0.76675742,\n",
       "         0.95459294, 0.95459294, 0.77888875, 0.77888875, 0.49676083,\n",
       "         0.49676083, 0.89904318, 0.89904318, 0.30960228, 0.30960228,\n",
       "         0.05865637, 0.05865637, 0.24626586, 0.24626586, 0.42967177,\n",
       "         0.42967177, 0.03608238, 0.03608238, 0.06186329, 0.06186329,\n",
       "         0.30262915, 0.30262915, 0.33020308, 0.33020308, 0.5286583 ,\n",
       "         0.5286583 , 0.56321117, 0.56321117, 0.39887438, 0.39887438,\n",
       "         0.07187778, 0.07187778, 0.59230587, 0.59230587, 0.67049417,\n",
       "         0.67049417, 0.5899353 , 0.5899353 , 0.38345737, 0.38345737,\n",
       "         0.45817354, 0.45817354, 0.76802225, 0.76802225, 0.42158701,\n",
       "         0.42158701, 0.17786741, 0.17786741, 0.86089227, 0.86089227,\n",
       "         0.69439184, 0.69439184, 0.44626467, 0.44626467, 0.38589391,\n",
       "         0.38589391, 0.98236081, 0.98236081, 0.42835049, 0.42835049,\n",
       "         0.73098604, 0.73098604, 0.61188697, 0.61188697, 0.15689048,\n",
       "         0.15689048, 0.77870811, 0.77870811, 0.02132014, 0.02132014,\n",
       "         0.67252505, 0.67252505, 0.34182087, 0.34182087, 0.60395547,\n",
       "         0.60395547, 0.56185785, 0.56185785, 0.42878933, 0.42878933,\n",
       "         0.11721253, 0.11721253, 0.17772122, 0.17772122, 0.49896691,\n",
       "         0.49896691, 0.46947557, 0.46947557, 0.47628382, 0.47628382,\n",
       "         0.34223461, 0.34223461, 0.37175149, 0.37175149, 0.93831116,\n",
       "         0.93831116, 0.26061494, 0.26061494, 0.66235366, 0.66235366,\n",
       "         0.92119173, 0.92119173, 0.28647065, 0.28647065, 0.90590431,\n",
       "         0.90590431, 0.07948842, 0.07948842, 0.5041751 , 0.5041751 ,\n",
       "         0.68656721, 0.68656721, 0.97210288, 0.97210288, 0.68547845,\n",
       "         0.68547845, 0.16313521, 0.16313521, 0.17788266, 0.17788266,\n",
       "         0.84520085, 0.84520085, 0.71172668, 0.71172668, 0.01550393,\n",
       "         0.01550393, 0.03155513, 0.03155513, 0.03927798, 0.03927798])}}"
      ]
     },
     "execution_count": 1,
     "metadata": {},
     "output_type": "execute_result"
    }
   ],
   "source": [
    "ds = load_by_id(run_id_n)\n",
    "ds.get_parameter_data('x1')"
   ]
  },
  {
   "cell_type": "markdown",
   "metadata": {},
   "source": [
    "And a dataset stored as binary arrays"
   ]
  },
  {
   "cell_type": "code",
   "execution_count": 12,
   "metadata": {
    "execution": {
     "iopub.execute_input": "2021-01-25T07:31:28.675952Z",
     "iopub.status.busy": "2021-01-25T07:31:28.675501Z",
     "iopub.status.idle": "2021-01-25T07:31:28.721864Z",
     "shell.execute_reply": "2021-01-25T07:31:28.722298Z"
    },
    "scrolled": true
   },
   "outputs": [
    {
     "data": {
      "text/plain": [
       "{'x1': {'x1': array([[0.2329411 ],\n",
       "         [0.2329411 ],\n",
       "         [0.5458983 ],\n",
       "         [0.5458983 ],\n",
       "         [0.97005894],\n",
       "         [0.97005894],\n",
       "         [0.67522363],\n",
       "         [0.67522363],\n",
       "         [0.00366864],\n",
       "         [0.00366864],\n",
       "         [0.85277118],\n",
       "         [0.85277118],\n",
       "         [0.37383505],\n",
       "         [0.37383505],\n",
       "         [0.40208719],\n",
       "         [0.40208719],\n",
       "         [0.22782561],\n",
       "         [0.22782561],\n",
       "         [0.12876647],\n",
       "         [0.12876647],\n",
       "         [0.9242847 ],\n",
       "         [0.9242847 ],\n",
       "         [0.29856946],\n",
       "         [0.29856946],\n",
       "         [0.95922602],\n",
       "         [0.95922602],\n",
       "         [0.97646885],\n",
       "         [0.97646885],\n",
       "         [0.72011058],\n",
       "         [0.72011058],\n",
       "         [0.177311  ],\n",
       "         [0.177311  ],\n",
       "         [0.26272099],\n",
       "         [0.26272099],\n",
       "         [0.30326141],\n",
       "         [0.30326141],\n",
       "         [0.91292919],\n",
       "         [0.91292919],\n",
       "         [0.38949355],\n",
       "         [0.38949355],\n",
       "         [0.47104899],\n",
       "         [0.47104899],\n",
       "         [0.60868709],\n",
       "         [0.60868709],\n",
       "         [0.54909949],\n",
       "         [0.54909949],\n",
       "         [0.38353416],\n",
       "         [0.38353416],\n",
       "         [0.2706419 ],\n",
       "         [0.2706419 ],\n",
       "         [0.50983585],\n",
       "         [0.50983585],\n",
       "         [0.26475198],\n",
       "         [0.26475198],\n",
       "         [0.02222423],\n",
       "         [0.02222423],\n",
       "         [0.25126925],\n",
       "         [0.25126925],\n",
       "         [0.42687352],\n",
       "         [0.42687352],\n",
       "         [0.16781391],\n",
       "         [0.16781391],\n",
       "         [0.10194146],\n",
       "         [0.10194146],\n",
       "         [0.00871065],\n",
       "         [0.00871065],\n",
       "         [0.31806146],\n",
       "         [0.31806146],\n",
       "         [0.8629024 ],\n",
       "         [0.8629024 ],\n",
       "         [0.57892849],\n",
       "         [0.57892849],\n",
       "         [0.51869206],\n",
       "         [0.51869206],\n",
       "         [0.35242765],\n",
       "         [0.35242765],\n",
       "         [0.98171478],\n",
       "         [0.98171478],\n",
       "         [0.50984608],\n",
       "         [0.50984608],\n",
       "         [0.85684403],\n",
       "         [0.85684403],\n",
       "         [0.02049706],\n",
       "         [0.02049706],\n",
       "         [0.34750573],\n",
       "         [0.34750573],\n",
       "         [0.56161738],\n",
       "         [0.56161738],\n",
       "         [0.13537783],\n",
       "         [0.13537783],\n",
       "         [0.50337735],\n",
       "         [0.50337735],\n",
       "         [0.76607007],\n",
       "         [0.76607007],\n",
       "         [0.49298449],\n",
       "         [0.49298449],\n",
       "         [0.24461673],\n",
       "         [0.24461673],\n",
       "         [0.31650877],\n",
       "         [0.31650877],\n",
       "         [0.32184065],\n",
       "         [0.32184065],\n",
       "         [0.30700925],\n",
       "         [0.30700925],\n",
       "         [0.38950767],\n",
       "         [0.38950767],\n",
       "         [0.35087328],\n",
       "         [0.35087328],\n",
       "         [0.45648161],\n",
       "         [0.45648161],\n",
       "         [0.31503689],\n",
       "         [0.31503689],\n",
       "         [0.81300216],\n",
       "         [0.81300216],\n",
       "         [0.64743558],\n",
       "         [0.64743558],\n",
       "         [0.64216771],\n",
       "         [0.64216771],\n",
       "         [0.21025354],\n",
       "         [0.21025354],\n",
       "         [0.57555715],\n",
       "         [0.57555715],\n",
       "         [0.53419708],\n",
       "         [0.53419708],\n",
       "         [0.93126959],\n",
       "         [0.93126959],\n",
       "         [0.2133903 ],\n",
       "         [0.2133903 ],\n",
       "         [0.82927441],\n",
       "         [0.82927441],\n",
       "         [0.16354843],\n",
       "         [0.16354843],\n",
       "         [0.48068701],\n",
       "         [0.48068701],\n",
       "         [0.84833896],\n",
       "         [0.84833896],\n",
       "         [0.16369504],\n",
       "         [0.16369504],\n",
       "         [0.60430035],\n",
       "         [0.60430035],\n",
       "         [0.88348364],\n",
       "         [0.88348364],\n",
       "         [0.5716191 ],\n",
       "         [0.5716191 ],\n",
       "         [0.97192934],\n",
       "         [0.97192934],\n",
       "         [0.58145938],\n",
       "         [0.58145938],\n",
       "         [0.93221814],\n",
       "         [0.93221814],\n",
       "         [0.16361348],\n",
       "         [0.16361348],\n",
       "         [0.97613266],\n",
       "         [0.97613266],\n",
       "         [0.76607348],\n",
       "         [0.76607348],\n",
       "         [0.54934857],\n",
       "         [0.54934857],\n",
       "         [0.52180913],\n",
       "         [0.52180913],\n",
       "         [0.5386468 ],\n",
       "         [0.5386468 ],\n",
       "         [0.30284945],\n",
       "         [0.30284945],\n",
       "         [0.570879  ],\n",
       "         [0.570879  ],\n",
       "         [0.38125741],\n",
       "         [0.38125741],\n",
       "         [0.17001679],\n",
       "         [0.17001679],\n",
       "         [0.83133565],\n",
       "         [0.83133565],\n",
       "         [0.5299739 ],\n",
       "         [0.5299739 ],\n",
       "         [0.39712529],\n",
       "         [0.39712529],\n",
       "         [0.95249545],\n",
       "         [0.95249545],\n",
       "         [0.60160294],\n",
       "         [0.60160294],\n",
       "         [0.19376375],\n",
       "         [0.19376375],\n",
       "         [0.36029429],\n",
       "         [0.36029429],\n",
       "         [0.42265777],\n",
       "         [0.42265777],\n",
       "         [0.67947153],\n",
       "         [0.67947153],\n",
       "         [0.50598108],\n",
       "         [0.50598108],\n",
       "         [0.69254856],\n",
       "         [0.69254856],\n",
       "         [0.43949567],\n",
       "         [0.43949567],\n",
       "         [0.17040597],\n",
       "         [0.17040597],\n",
       "         [0.11218647],\n",
       "         [0.11218647],\n",
       "         [0.01782944],\n",
       "         [0.01782944]])}}"
      ]
     },
     "execution_count": 1,
     "metadata": {},
     "output_type": "execute_result"
    }
   ],
   "source": [
    "ds = load_by_id(run_id_a)\n",
    "ds.get_parameter_data('x1')"
   ]
  },
  {
   "cell_type": "code",
   "execution_count": null,
   "metadata": {},
   "outputs": [],
   "source": []
  }
 ],
 "metadata": {
  "kernelspec": {
   "display_name": "Python 3",
   "language": "python",
   "name": "python3"
  },
  "language_info": {
   "codemirror_mode": {
    "name": "ipython",
    "version": 3
   },
   "file_extension": ".py",
   "mimetype": "text/x-python",
   "name": "python",
   "nbconvert_exporter": "python",
   "pygments_lexer": "ipython3",
   "version": "3.7.9"
  },
  "nbsphinx": {
   "timeout": 600
  },
  "toc": {
   "base_numbering": 1,
   "nav_menu": {},
   "number_sections": true,
   "sideBar": true,
   "skip_h1_title": false,
   "title_cell": "Table of Contents",
   "title_sidebar": "Contents",
   "toc_cell": false,
   "toc_position": {},
   "toc_section_display": true,
   "toc_window_display": false
  },
  "varInspector": {
   "cols": {
    "lenName": 16,
    "lenType": 16,
    "lenVar": 40
   },
   "kernels_config": {
    "python": {
     "delete_cmd_postfix": "",
     "delete_cmd_prefix": "del ",
     "library": "var_list.py",
     "varRefreshCmd": "print(var_dic_list())"
    },
    "r": {
     "delete_cmd_postfix": ") ",
     "delete_cmd_prefix": "rm(",
     "library": "var_list.r",
     "varRefreshCmd": "cat(var_dic_list()) "
    }
   },
   "types_to_exclude": [
    "module",
    "function",
    "builtin_function_or_method",
    "instance",
    "_Feature"
   ],
   "window_display": false
  }
 },
 "nbformat": 4,
 "nbformat_minor": 2
}
