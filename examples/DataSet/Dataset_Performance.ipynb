{
 "cells": [
  {
   "cell_type": "markdown",
   "metadata": {},
   "source": [
    "# DataSet Performance\n",
    "\n",
    "This notebook shows the trade-off between inserting data into a database row-by-row and as binary blobs. Inserting the data row-by-row means that we have direct access to all the data and may perform queries directly on the values of the data. On the other hand, as we shall see, this is much slower than inserting the data directly as binary blobs."
   ]
  },
  {
   "cell_type": "markdown",
   "metadata": {},
   "source": [
    "First, we choose a new location for the database to ensure that we don't add a bunch of benchmarking data to the default one."
   ]
  },
  {
   "cell_type": "code",
   "execution_count": 1,
   "metadata": {
    "execution": {
     "iopub.execute_input": "2021-03-30T08:39:45.800488Z",
     "iopub.status.busy": "2021-03-30T08:39:45.799926Z",
     "iopub.status.idle": "2021-03-30T08:39:46.921079Z",
     "shell.execute_reply": "2021-03-30T08:39:46.921557Z"
    }
   },
   "outputs": [
    {
     "name": "stdout",
     "output_type": "stream",
     "text": [
      "Logging hadn't been started.\n",
      "Activating auto-logging. Current session state plus future input saved.\n",
      "Filename       : /home/runner/.qcodes/logs/command_history.log\n",
      "Mode           : append\n",
      "Output logging : True\n",
      "Raw input log  : False\n",
      "Timestamping   : True\n",
      "State          : active\n"
     ]
    },
    {
     "name": "stdout",
     "output_type": "stream",
     "text": [
      "Qcodes Logfile : /home/runner/.qcodes/logs/210330-4707-qcodes.log\n"
     ]
    }
   ],
   "source": [
    "import os\n",
    "cwd = os.getcwd()\n",
    "import qcodes as qc\n",
    "qc.config[\"core\"][\"db_location\"] = os.path.join(cwd, 'testing.db')\n"
   ]
  },
  {
   "cell_type": "code",
   "execution_count": 2,
   "metadata": {
    "execution": {
     "iopub.execute_input": "2021-03-30T08:39:46.929630Z",
     "iopub.status.busy": "2021-03-30T08:39:46.927711Z",
     "iopub.status.idle": "2021-03-30T08:39:47.193784Z",
     "shell.execute_reply": "2021-03-30T08:39:47.192828Z"
    }
   },
   "outputs": [],
   "source": [
    "%matplotlib inline\n",
    "import time\n",
    "import matplotlib.pyplot as plt\n",
    "import numpy as np\n",
    "\n",
    "import qcodes as qc\n",
    "from qcodes.instrument.parameter import ManualParameter\n",
    "from qcodes.dataset.experiment_container import (Experiment,\n",
    "                                                 load_last_experiment,\n",
    "                                                 new_experiment)\n",
    "from qcodes.dataset.sqlite.database import initialise_database\n",
    "from qcodes import load_or_create_experiment\n",
    "from qcodes.dataset.measurements import Measurement"
   ]
  },
  {
   "cell_type": "code",
   "execution_count": 3,
   "metadata": {
    "execution": {
     "iopub.execute_input": "2021-03-30T08:39:47.198194Z",
     "iopub.status.busy": "2021-03-30T08:39:47.197300Z",
     "iopub.status.idle": "2021-03-30T08:39:47.270093Z",
     "shell.execute_reply": "2021-03-30T08:39:47.269583Z"
    }
   },
   "outputs": [
    {
     "name": "stdout",
     "output_type": "stream",
     "text": [
      "\r",
      "0it [00:00, ?it/s]"
     ]
    },
    {
     "name": "stdout",
     "output_type": "stream",
     "text": [
      "\r",
      "Upgrading database; v0 -> v1: : 0it [00:00, ?it/s]"
     ]
    },
    {
     "name": "stdout",
     "output_type": "stream",
     "text": [
      "\r",
      "Upgrading database; v0 -> v1: : 0it [00:00, ?it/s]"
     ]
    },
    {
     "name": "stdout",
     "output_type": "stream",
     "text": [
      "\n",
      "\r",
      "  0%|          | 0/1 [00:00<?, ?it/s]"
     ]
    },
    {
     "name": "stdout",
     "output_type": "stream",
     "text": [
      "\r",
      "Upgrading database; v1 -> v2:   0%|          | 0/1 [00:00<?, ?it/s]"
     ]
    },
    {
     "name": "stdout",
     "output_type": "stream",
     "text": [
      "\r",
      "Upgrading database; v1 -> v2: 100%|██████████| 1/1 [00:00<00:00, 538.42it/s]"
     ]
    },
    {
     "name": "stdout",
     "output_type": "stream",
     "text": [
      "\n",
      "\r",
      "0it [00:00, ?it/s]"
     ]
    },
    {
     "name": "stdout",
     "output_type": "stream",
     "text": [
      "\r",
      "Upgrading database; v2 -> v3: : 0it [00:00, ?it/s]"
     ]
    },
    {
     "name": "stdout",
     "output_type": "stream",
     "text": [
      "\r",
      "Upgrading database; v2 -> v3: : 0it [00:00, ?it/s]"
     ]
    },
    {
     "name": "stdout",
     "output_type": "stream",
     "text": [
      "\n",
      "\r",
      "0it [00:00, ?it/s]"
     ]
    },
    {
     "name": "stdout",
     "output_type": "stream",
     "text": [
      "\r",
      "Upgrading database; v3 -> v4: : 0it [00:00, ?it/s]"
     ]
    },
    {
     "name": "stdout",
     "output_type": "stream",
     "text": [
      "\r",
      "Upgrading database; v3 -> v4: : 0it [00:00, ?it/s]"
     ]
    },
    {
     "name": "stdout",
     "output_type": "stream",
     "text": [
      "\n",
      "\r",
      "  0%|          | 0/1 [00:00<?, ?it/s]"
     ]
    },
    {
     "name": "stdout",
     "output_type": "stream",
     "text": [
      "\r",
      "Upgrading database; v4 -> v5:   0%|          | 0/1 [00:00<?, ?it/s]"
     ]
    },
    {
     "name": "stdout",
     "output_type": "stream",
     "text": [
      "\r",
      "Upgrading database; v4 -> v5: 100%|██████████| 1/1 [00:00<00:00, 458.09it/s]"
     ]
    },
    {
     "name": "stdout",
     "output_type": "stream",
     "text": [
      "\n",
      "\r",
      "0it [00:00, ?it/s]"
     ]
    },
    {
     "name": "stdout",
     "output_type": "stream",
     "text": [
      "\r",
      "Upgrading database; v5 -> v6: : 0it [00:00, ?it/s]"
     ]
    },
    {
     "name": "stdout",
     "output_type": "stream",
     "text": [
      "\r",
      "Upgrading database; v5 -> v6: : 0it [00:00, ?it/s]"
     ]
    },
    {
     "name": "stdout",
     "output_type": "stream",
     "text": [
      "\n",
      "\r",
      "  0%|          | 0/1 [00:00<?, ?it/s]"
     ]
    },
    {
     "name": "stdout",
     "output_type": "stream",
     "text": [
      "\r",
      "Upgrading database; v6 -> v7:   0%|          | 0/1 [00:00<?, ?it/s]"
     ]
    },
    {
     "name": "stdout",
     "output_type": "stream",
     "text": [
      "\r",
      "Upgrading database; v6 -> v7: 100%|██████████| 1/1 [00:00<00:00, 133.17it/s]"
     ]
    },
    {
     "name": "stdout",
     "output_type": "stream",
     "text": [
      "\n",
      "\r",
      "  0%|          | 0/1 [00:00<?, ?it/s]"
     ]
    },
    {
     "name": "stdout",
     "output_type": "stream",
     "text": [
      "\r",
      "Upgrading database; v7 -> v8:   0%|          | 0/1 [00:00<?, ?it/s]"
     ]
    },
    {
     "name": "stdout",
     "output_type": "stream",
     "text": [
      "\r",
      "Upgrading database; v7 -> v8: 100%|██████████| 1/1 [00:00<00:00, 766.78it/s]"
     ]
    },
    {
     "name": "stdout",
     "output_type": "stream",
     "text": [
      "\n",
      "\r",
      "  0%|          | 0/1 [00:00<?, ?it/s]"
     ]
    },
    {
     "name": "stdout",
     "output_type": "stream",
     "text": [
      "\r",
      "Upgrading database; v8 -> v9:   0%|          | 0/1 [00:00<?, ?it/s]"
     ]
    },
    {
     "name": "stdout",
     "output_type": "stream",
     "text": [
      "\r",
      "Upgrading database; v8 -> v9: 100%|██████████| 1/1 [00:00<00:00, 446.68it/s]"
     ]
    },
    {
     "name": "stdout",
     "output_type": "stream",
     "text": [
      "\n"
     ]
    }
   ],
   "source": [
    "initialise_database()\n",
    "exp = load_or_create_experiment(experiment_name='tutorial_exp', sample_name=\"no sample\")"
   ]
  },
  {
   "cell_type": "markdown",
   "metadata": {},
   "source": [
    "Here, we define a simple function to benchmark the time it takes to insert n points with either numeric or array data type.\n",
    "We will compare both the time used to call ``add_result`` and the time used for the full measurement."
   ]
  },
  {
   "cell_type": "code",
   "execution_count": 4,
   "metadata": {
    "execution": {
     "iopub.execute_input": "2021-03-30T08:39:47.279402Z",
     "iopub.status.busy": "2021-03-30T08:39:47.277975Z",
     "iopub.status.idle": "2021-03-30T08:39:47.282524Z",
     "shell.execute_reply": "2021-03-30T08:39:47.281990Z"
    }
   },
   "outputs": [],
   "source": [
    "def insert_data(paramtype, npoints, nreps=1):\n",
    "\n",
    "    meas = Measurement(exp=exp)\n",
    "\n",
    "    x1 = ManualParameter('x1')\n",
    "    x2 = ManualParameter('x2')\n",
    "    x3 = ManualParameter('x3')\n",
    "    y1 = ManualParameter('y1')\n",
    "    y2 = ManualParameter('y2')\n",
    "\n",
    "    meas.register_parameter(x1, paramtype=paramtype)\n",
    "    meas.register_parameter(x2, paramtype=paramtype)\n",
    "    meas.register_parameter(x3, paramtype=paramtype)\n",
    "    meas.register_parameter(y1, setpoints=[x1, x2, x3],\n",
    "                            paramtype=paramtype)\n",
    "    meas.register_parameter(y2, setpoints=[x1, x2, x3],\n",
    "                            paramtype=paramtype)\n",
    "    start = time.perf_counter()\n",
    "    with meas.run() as datasaver:\n",
    "        start_adding = time.perf_counter()\n",
    "        for i in range(nreps):\n",
    "            datasaver.add_result((x1, np.random.rand(npoints)),\n",
    "                                 (x2, np.random.rand(npoints)),\n",
    "                                 (x3, np.random.rand(npoints)),\n",
    "                                 (y1, np.random.rand(npoints)),\n",
    "                                 (y2, np.random.rand(npoints)))\n",
    "        stop_adding = time.perf_counter()\n",
    "        run_id = datasaver.run_id\n",
    "    stop = time.perf_counter()\n",
    "    tot_time = stop - start\n",
    "    add_time = stop_adding - start_adding\n",
    "    return tot_time, add_time, run_id"
   ]
  },
  {
   "cell_type": "markdown",
   "metadata": {},
   "source": [
    "## Comparison between numeric/array data and binary blob"
   ]
  },
  {
   "cell_type": "markdown",
   "metadata": {},
   "source": [
    "### Case1: Short experiment time"
   ]
  },
  {
   "cell_type": "code",
   "execution_count": 5,
   "metadata": {
    "execution": {
     "iopub.execute_input": "2021-03-30T08:39:47.289615Z",
     "iopub.status.busy": "2021-03-30T08:39:47.288292Z",
     "iopub.status.idle": "2021-03-30T08:39:48.198065Z",
     "shell.execute_reply": "2021-03-30T08:39:48.197479Z"
    }
   },
   "outputs": [
    {
     "name": "stdout",
     "output_type": "stream",
     "text": [
      "Starting experimental run with id: 1. \n",
      "Starting experimental run with id: 2. \n",
      "Starting experimental run with id: 3. \n",
      "Starting experimental run with id: 4. \n",
      "Starting experimental run with id: 5. \n"
     ]
    },
    {
     "name": "stdout",
     "output_type": "stream",
     "text": [
      "Starting experimental run with id: 6. "
     ]
    },
    {
     "name": "stdout",
     "output_type": "stream",
     "text": [
      "\n"
     ]
    },
    {
     "name": "stdout",
     "output_type": "stream",
     "text": [
      "Starting experimental run with id: 7. \n"
     ]
    },
    {
     "name": "stdout",
     "output_type": "stream",
     "text": [
      "Starting experimental run with id: 8. \n",
      "Starting experimental run with id: 9. \n"
     ]
    },
    {
     "name": "stdout",
     "output_type": "stream",
     "text": [
      "Starting experimental run with id: 10. \n",
      "Starting experimental run with id: 11. \n"
     ]
    },
    {
     "name": "stdout",
     "output_type": "stream",
     "text": [
      "Starting experimental run with id: 12. \n",
      "Starting experimental run with id: 13. \n"
     ]
    },
    {
     "name": "stdout",
     "output_type": "stream",
     "text": [
      "Starting experimental run with id: 14. \n"
     ]
    }
   ],
   "source": [
    "sizes = [1,500,1000,2000,3000,4000,5000]\n",
    "t_numeric = []\n",
    "t_numeric_add = []\n",
    "t_array = []\n",
    "t_array_add = []\n",
    "for size in sizes:\n",
    "    tn, tna, run_id_n =  insert_data('numeric', size)\n",
    "    t_numeric.append(tn)\n",
    "    t_numeric_add.append(tna)\n",
    "\n",
    "    ta, taa, run_id_a =  insert_data('array', size)\n",
    "    t_array.append(ta)\n",
    "    t_array_add.append(taa)"
   ]
  },
  {
   "cell_type": "code",
   "execution_count": 6,
   "metadata": {
    "execution": {
     "iopub.execute_input": "2021-03-30T08:39:48.215041Z",
     "iopub.status.busy": "2021-03-30T08:39:48.202973Z",
     "iopub.status.idle": "2021-03-30T08:39:48.410599Z",
     "shell.execute_reply": "2021-03-30T08:39:48.410099Z"
    }
   },
   "outputs": [
    {
     "data": {
      "image/png": "[encoded data removed]",
      "text/plain": [
       "<Figure size 432x288 with 1 Axes>"
      ]
     },
     "metadata": {
      "needs_background": "light"
     },
     "output_type": "display_data"
    }
   ],
   "source": [
    "fig, ax = plt.subplots(1,1)\n",
    "ax.plot(sizes, t_numeric, 'o-', label='Inserting row-by-row')\n",
    "ax.plot(sizes, t_numeric_add, 'o-', label='Inserting row-by-row: add_result only')\n",
    "ax.plot(sizes, t_array, 'd-', label='Inserting as binary blob')\n",
    "ax.plot(sizes, t_array_add, 'd-', label='Inserting as binary blob: add_result only')\n",
    "ax.legend()\n",
    "ax.set_xlabel('Array length')\n",
    "ax.set_ylabel('Time (s)')\n",
    "fig.tight_layout()"
   ]
  },
  {
   "cell_type": "markdown",
   "metadata": {},
   "source": [
    "As shown in the latter figure, the time to setup and and close the experiment is approximately 0.4 sec. In case of small array sizes, the difference between inserting values of data as arrays and inserting them row-by-row is relatively unimportant. At larger array sizes, i.e. above 10000 points, the cost of writing data as individual datapoints starts to become important.\n"
   ]
  },
  {
   "cell_type": "markdown",
   "metadata": {},
   "source": [
    "### Case2: Long experiment time "
   ]
  },
  {
   "cell_type": "code",
   "execution_count": 7,
   "metadata": {
    "execution": {
     "iopub.execute_input": "2021-03-30T08:39:48.418901Z",
     "iopub.status.busy": "2021-03-30T08:39:48.418229Z",
     "iopub.status.idle": "2021-03-30T08:40:53.144020Z",
     "shell.execute_reply": "2021-03-30T08:40:53.144861Z"
    }
   },
   "outputs": [
    {
     "name": "stdout",
     "output_type": "stream",
     "text": [
      "Starting experimental run with id: 15. \n",
      "Starting experimental run with id: 16. \n"
     ]
    },
    {
     "name": "stdout",
     "output_type": "stream",
     "text": [
      "Starting experimental run with id: 17. \n"
     ]
    },
    {
     "name": "stdout",
     "output_type": "stream",
     "text": [
      "Starting experimental run with id: 18. \n",
      "Starting experimental run with id: 19. \n"
     ]
    },
    {
     "name": "stdout",
     "output_type": "stream",
     "text": [
      "Starting experimental run with id: 20. \n"
     ]
    },
    {
     "name": "stdout",
     "output_type": "stream",
     "text": [
      "Starting experimental run with id: 21. \n"
     ]
    },
    {
     "name": "stdout",
     "output_type": "stream",
     "text": [
      "Starting experimental run with id: 22. \n"
     ]
    },
    {
     "name": "stdout",
     "output_type": "stream",
     "text": [
      "Starting experimental run with id: 23. \n"
     ]
    },
    {
     "name": "stdout",
     "output_type": "stream",
     "text": [
      "Starting experimental run with id: 24. \n"
     ]
    },
    {
     "name": "stdout",
     "output_type": "stream",
     "text": [
      "Starting experimental run with id: 25. \n"
     ]
    },
    {
     "name": "stdout",
     "output_type": "stream",
     "text": [
      "Starting experimental run with id: 26. \n"
     ]
    },
    {
     "name": "stdout",
     "output_type": "stream",
     "text": [
      "Starting experimental run with id: 27. \n"
     ]
    },
    {
     "name": "stdout",
     "output_type": "stream",
     "text": [
      "Starting experimental run with id: 28. \n"
     ]
    }
   ],
   "source": [
    "sizes = [1,500,1000,2000,3000,4000,5000]\n",
    "nreps = 100\n",
    "t_numeric = []\n",
    "t_numeric_add = []\n",
    "t_numeric_run_ids = []\n",
    "t_array = []\n",
    "t_array_add = []\n",
    "t_array_run_ids = []\n",
    "for size in sizes:\n",
    "    tn, tna, run_id_n =  insert_data('numeric', size, nreps=nreps)\n",
    "    t_numeric.append(tn)\n",
    "    t_numeric_add.append(tna)\n",
    "    t_numeric_run_ids.append(run_id_n)\n",
    "\n",
    "    ta, taa, run_id_a =  insert_data('array', size, nreps=nreps)\n",
    "    t_array.append(ta)\n",
    "    t_array_add.append(taa)\n",
    "    t_array_run_ids.append(run_id_a)"
   ]
  },
  {
   "cell_type": "code",
   "execution_count": 8,
   "metadata": {
    "execution": {
     "iopub.execute_input": "2021-03-30T08:40:53.169417Z",
     "iopub.status.busy": "2021-03-30T08:40:53.167336Z",
     "iopub.status.idle": "2021-03-30T08:40:53.354422Z",
     "shell.execute_reply": "2021-03-30T08:40:53.355380Z"
    },
    "scrolled": true
   },
   "outputs": [
    {
     "data": {
      "image/png": "[encoded data removed]",
      "text/plain": [
       "<Figure size 432x288 with 1 Axes>"
      ]
     },
     "metadata": {
      "needs_background": "light"
     },
     "output_type": "display_data"
    }
   ],
   "source": [
    "fig, ax = plt.subplots(1,1)\n",
    "ax.plot(sizes, t_numeric, 'o-', label='Inserting row-by-row')\n",
    "ax.plot(sizes, t_numeric_add, 'o-', label='Inserting row-by-row: add_result only')\n",
    "ax.plot(sizes, t_array, 'd-', label='Inserting as binary blob')\n",
    "ax.plot(sizes, t_array_add, 'd-', label='Inserting as binary blob: add_result only')\n",
    "ax.legend()\n",
    "ax.set_xlabel('Array length')\n",
    "ax.set_ylabel('Time (s)')\n",
    "fig.tight_layout()"
   ]
  },
  {
   "cell_type": "markdown",
   "metadata": {},
   "source": [
    "However, as we increase the length of the experiment, as seen here by repeating the insertion 100 times, we see a big difference between inserting values of the data row-by-row and inserting it as a binary blob."
   ]
  },
  {
   "cell_type": "markdown",
   "metadata": {},
   "source": [
    "## Loading the data "
   ]
  },
  {
   "cell_type": "code",
   "execution_count": 9,
   "metadata": {
    "execution": {
     "iopub.execute_input": "2021-03-30T08:40:53.360581Z",
     "iopub.status.busy": "2021-03-30T08:40:53.359583Z",
     "iopub.status.idle": "2021-03-30T08:40:53.363118Z",
     "shell.execute_reply": "2021-03-30T08:40:53.362634Z"
    }
   },
   "outputs": [],
   "source": [
    "from qcodes.dataset.data_set import load_by_id\n",
    "from qcodes.dataset.data_export import get_data_by_id"
   ]
  },
  {
   "cell_type": "markdown",
   "metadata": {},
   "source": [
    "As usual you can load the data by using the ``load_by_id`` function but you will notice that the different storage methods\n",
    "are reflected in shape of the data as it is retrieved. "
   ]
  },
  {
   "cell_type": "code",
   "execution_count": 10,
   "metadata": {
    "execution": {
     "iopub.execute_input": "2021-03-30T08:40:53.367327Z",
     "iopub.status.busy": "2021-03-30T08:40:53.366766Z",
     "iopub.status.idle": "2021-03-30T08:40:53.368565Z",
     "shell.execute_reply": "2021-03-30T08:40:53.369038Z"
    }
   },
   "outputs": [],
   "source": [
    "run_id_n = t_numeric_run_ids[0]\n",
    "run_id_a = t_array_run_ids[0]"
   ]
  },
  {
   "cell_type": "code",
   "execution_count": 11,
   "metadata": {
    "execution": {
     "iopub.execute_input": "2021-03-30T08:40:53.372597Z",
     "iopub.status.busy": "2021-03-30T08:40:53.372021Z",
     "iopub.status.idle": "2021-03-30T08:40:53.445945Z",
     "shell.execute_reply": "2021-03-30T08:40:53.445400Z"
    },
    "scrolled": true
   },
   "outputs": [
    {
     "data": {
      "text/plain": [
       "{'x1': {'x1': array([0.88694798, 0.88694798, 0.38555704, 0.38555704, 0.240778  ,\n",
       "         0.240778  , 0.4690241 , 0.4690241 , 0.98433446, 0.98433446,\n",
       "         0.37502839, 0.37502839, 0.58100158, 0.58100158, 0.52307619,\n",
       "         0.52307619, 0.98046931, 0.98046931, 0.54437286, 0.54437286,\n",
       "         0.19757684, 0.19757684, 0.77277674, 0.77277674, 0.15998656,\n",
       "         0.15998656, 0.2036428 , 0.2036428 , 0.85808294, 0.85808294,\n",
       "         0.13984901, 0.13984901, 0.54164585, 0.54164585, 0.36651736,\n",
       "         0.36651736, 0.78246238, 0.78246238, 0.45469776, 0.45469776,\n",
       "         0.27872344, 0.27872344, 0.2878929 , 0.2878929 , 0.1110007 ,\n",
       "         0.1110007 , 0.62694387, 0.62694387, 0.3119617 , 0.3119617 ,\n",
       "         0.83491723, 0.83491723, 0.31310124, 0.31310124, 0.42382972,\n",
       "         0.42382972, 0.04177   , 0.04177   , 0.31156402, 0.31156402,\n",
       "         0.58235773, 0.58235773, 0.48663279, 0.48663279, 0.50198869,\n",
       "         0.50198869, 0.87677585, 0.87677585, 0.30532428, 0.30532428,\n",
       "         0.23877174, 0.23877174, 0.24263601, 0.24263601, 0.09537825,\n",
       "         0.09537825, 0.69554322, 0.69554322, 0.19222047, 0.19222047,\n",
       "         0.8800942 , 0.8800942 , 0.18432329, 0.18432329, 0.96538829,\n",
       "         0.96538829, 0.14646824, 0.14646824, 0.94207076, 0.94207076,\n",
       "         0.32395926, 0.32395926, 0.37319283, 0.37319283, 0.76441215,\n",
       "         0.76441215, 0.93456419, 0.93456419, 0.0801194 , 0.0801194 ,\n",
       "         0.57896968, 0.57896968, 0.73137399, 0.73137399, 0.25546912,\n",
       "         0.25546912, 0.96111105, 0.96111105, 0.61627141, 0.61627141,\n",
       "         0.77473476, 0.77473476, 0.32174162, 0.32174162, 0.24692234,\n",
       "         0.24692234, 0.76037189, 0.76037189, 0.77284709, 0.77284709,\n",
       "         0.04749183, 0.04749183, 0.14856969, 0.14856969, 0.99343365,\n",
       "         0.99343365, 0.72996997, 0.72996997, 0.60261458, 0.60261458,\n",
       "         0.9617254 , 0.9617254 , 0.58302752, 0.58302752, 0.58796779,\n",
       "         0.58796779, 0.19646545, 0.19646545, 0.32386207, 0.32386207,\n",
       "         0.12334502, 0.12334502, 0.54616241, 0.54616241, 0.70225699,\n",
       "         0.70225699, 0.32814587, 0.32814587, 0.22703738, 0.22703738,\n",
       "         0.45182186, 0.45182186, 0.50512649, 0.50512649, 0.78191375,\n",
       "         0.78191375, 0.15115647, 0.15115647, 0.10905094, 0.10905094,\n",
       "         0.82664123, 0.82664123, 0.73347905, 0.73347905, 0.27435533,\n",
       "         0.27435533, 0.26660199, 0.26660199, 0.11702279, 0.11702279,\n",
       "         0.79805495, 0.79805495, 0.93987475, 0.93987475, 0.79575393,\n",
       "         0.79575393, 0.33135833, 0.33135833, 0.44114793, 0.44114793,\n",
       "         0.79182924, 0.79182924, 0.05067453, 0.05067453, 0.39006856,\n",
       "         0.39006856, 0.52551364, 0.52551364, 0.54335899, 0.54335899,\n",
       "         0.33426943, 0.33426943, 0.7341287 , 0.7341287 , 0.95411904,\n",
       "         0.95411904, 0.10367573, 0.10367573, 0.34762428, 0.34762428])}}"
      ]
     },
     "execution_count": 1,
     "metadata": {},
     "output_type": "execute_result"
    }
   ],
   "source": [
    "ds = load_by_id(run_id_n)\n",
    "ds.get_parameter_data('x1')"
   ]
  },
  {
   "cell_type": "markdown",
   "metadata": {},
   "source": [
    "And a dataset stored as binary arrays"
   ]
  },
  {
   "cell_type": "code",
   "execution_count": 12,
   "metadata": {
    "execution": {
     "iopub.execute_input": "2021-03-30T08:40:53.449883Z",
     "iopub.status.busy": "2021-03-30T08:40:53.449288Z",
     "iopub.status.idle": "2021-03-30T08:40:53.514434Z",
     "shell.execute_reply": "2021-03-30T08:40:53.514906Z"
    },
    "scrolled": true
   },
   "outputs": [
    {
     "data": {
      "text/plain": [
       "{'x1': {'x1': array([[0.55685292],\n",
       "         [0.55685292],\n",
       "         [0.70193051],\n",
       "         [0.70193051],\n",
       "         [0.73768641],\n",
       "         [0.73768641],\n",
       "         [0.92964408],\n",
       "         [0.92964408],\n",
       "         [0.34479133],\n",
       "         [0.34479133],\n",
       "         [0.63919791],\n",
       "         [0.63919791],\n",
       "         [0.97840541],\n",
       "         [0.97840541],\n",
       "         [0.95883098],\n",
       "         [0.95883098],\n",
       "         [0.17687451],\n",
       "         [0.17687451],\n",
       "         [0.78259808],\n",
       "         [0.78259808],\n",
       "         [0.28568956],\n",
       "         [0.28568956],\n",
       "         [0.72134751],\n",
       "         [0.72134751],\n",
       "         [0.33703557],\n",
       "         [0.33703557],\n",
       "         [0.37095513],\n",
       "         [0.37095513],\n",
       "         [0.98973467],\n",
       "         [0.98973467],\n",
       "         [0.82633425],\n",
       "         [0.82633425],\n",
       "         [0.34814052],\n",
       "         [0.34814052],\n",
       "         [0.05394042],\n",
       "         [0.05394042],\n",
       "         [0.79050908],\n",
       "         [0.79050908],\n",
       "         [0.24345182],\n",
       "         [0.24345182],\n",
       "         [0.50772119],\n",
       "         [0.50772119],\n",
       "         [0.20185658],\n",
       "         [0.20185658],\n",
       "         [0.89552252],\n",
       "         [0.89552252],\n",
       "         [0.95031019],\n",
       "         [0.95031019],\n",
       "         [0.4570396 ],\n",
       "         [0.4570396 ],\n",
       "         [0.46194948],\n",
       "         [0.46194948],\n",
       "         [0.74665913],\n",
       "         [0.74665913],\n",
       "         [0.42336477],\n",
       "         [0.42336477],\n",
       "         [0.32336449],\n",
       "         [0.32336449],\n",
       "         [0.65227444],\n",
       "         [0.65227444],\n",
       "         [0.52330787],\n",
       "         [0.52330787],\n",
       "         [0.41979913],\n",
       "         [0.41979913],\n",
       "         [0.78380665],\n",
       "         [0.78380665],\n",
       "         [0.6548381 ],\n",
       "         [0.6548381 ],\n",
       "         [0.43082298],\n",
       "         [0.43082298],\n",
       "         [0.56500831],\n",
       "         [0.56500831],\n",
       "         [0.50995808],\n",
       "         [0.50995808],\n",
       "         [0.61030444],\n",
       "         [0.61030444],\n",
       "         [0.92912937],\n",
       "         [0.92912937],\n",
       "         [0.46458578],\n",
       "         [0.46458578],\n",
       "         [0.03754617],\n",
       "         [0.03754617],\n",
       "         [0.73339377],\n",
       "         [0.73339377],\n",
       "         [0.92574053],\n",
       "         [0.92574053],\n",
       "         [0.38053364],\n",
       "         [0.38053364],\n",
       "         [0.85191132],\n",
       "         [0.85191132],\n",
       "         [0.10432711],\n",
       "         [0.10432711],\n",
       "         [0.59258552],\n",
       "         [0.59258552],\n",
       "         [0.91783921],\n",
       "         [0.91783921],\n",
       "         [0.63132772],\n",
       "         [0.63132772],\n",
       "         [0.10645534],\n",
       "         [0.10645534],\n",
       "         [0.39394653],\n",
       "         [0.39394653],\n",
       "         [0.1465498 ],\n",
       "         [0.1465498 ],\n",
       "         [0.24225692],\n",
       "         [0.24225692],\n",
       "         [0.82925284],\n",
       "         [0.82925284],\n",
       "         [0.51710205],\n",
       "         [0.51710205],\n",
       "         [0.37356279],\n",
       "         [0.37356279],\n",
       "         [0.72997384],\n",
       "         [0.72997384],\n",
       "         [0.16564077],\n",
       "         [0.16564077],\n",
       "         [0.67487998],\n",
       "         [0.67487998],\n",
       "         [0.98013268],\n",
       "         [0.98013268],\n",
       "         [0.04522952],\n",
       "         [0.04522952],\n",
       "         [0.37976972],\n",
       "         [0.37976972],\n",
       "         [0.69420746],\n",
       "         [0.69420746],\n",
       "         [0.89454029],\n",
       "         [0.89454029],\n",
       "         [0.49390381],\n",
       "         [0.49390381],\n",
       "         [0.06235631],\n",
       "         [0.06235631],\n",
       "         [0.32371567],\n",
       "         [0.32371567],\n",
       "         [0.17743527],\n",
       "         [0.17743527],\n",
       "         [0.32306108],\n",
       "         [0.32306108],\n",
       "         [0.198721  ],\n",
       "         [0.198721  ],\n",
       "         [0.16382611],\n",
       "         [0.16382611],\n",
       "         [0.26115404],\n",
       "         [0.26115404],\n",
       "         [0.04936527],\n",
       "         [0.04936527],\n",
       "         [0.14441596],\n",
       "         [0.14441596],\n",
       "         [0.05339611],\n",
       "         [0.05339611],\n",
       "         [0.7220708 ],\n",
       "         [0.7220708 ],\n",
       "         [0.91229182],\n",
       "         [0.91229182],\n",
       "         [0.94260215],\n",
       "         [0.94260215],\n",
       "         [0.99026939],\n",
       "         [0.99026939],\n",
       "         [0.14411089],\n",
       "         [0.14411089],\n",
       "         [0.91593808],\n",
       "         [0.91593808],\n",
       "         [0.47179421],\n",
       "         [0.47179421],\n",
       "         [0.58459561],\n",
       "         [0.58459561],\n",
       "         [0.39076851],\n",
       "         [0.39076851],\n",
       "         [0.6291885 ],\n",
       "         [0.6291885 ],\n",
       "         [0.35249555],\n",
       "         [0.35249555],\n",
       "         [0.82449468],\n",
       "         [0.82449468],\n",
       "         [0.98983169],\n",
       "         [0.98983169],\n",
       "         [0.20564189],\n",
       "         [0.20564189],\n",
       "         [0.04864017],\n",
       "         [0.04864017],\n",
       "         [0.20561475],\n",
       "         [0.20561475],\n",
       "         [0.59228006],\n",
       "         [0.59228006],\n",
       "         [0.34743772],\n",
       "         [0.34743772],\n",
       "         [0.44592233],\n",
       "         [0.44592233],\n",
       "         [0.81599147],\n",
       "         [0.81599147],\n",
       "         [0.47280811],\n",
       "         [0.47280811],\n",
       "         [0.3877192 ],\n",
       "         [0.3877192 ],\n",
       "         [0.57884656],\n",
       "         [0.57884656],\n",
       "         [0.67752172],\n",
       "         [0.67752172],\n",
       "         [0.3138328 ],\n",
       "         [0.3138328 ]])}}"
      ]
     },
     "execution_count": 1,
     "metadata": {},
     "output_type": "execute_result"
    }
   ],
   "source": [
    "ds = load_by_id(run_id_a)\n",
    "ds.get_parameter_data('x1')"
   ]
  },
  {
   "cell_type": "code",
   "execution_count": null,
   "metadata": {},
   "outputs": [],
   "source": []
  }
 ],
 "metadata": {
  "kernelspec": {
   "display_name": "Python 3",
   "language": "python",
   "name": "python3"
  },
  "language_info": {
   "codemirror_mode": {
    "name": "ipython",
    "version": 3
   },
   "file_extension": ".py",
   "mimetype": "text/x-python",
   "name": "python",
   "nbconvert_exporter": "python",
   "pygments_lexer": "ipython3",
   "version": "3.7.10"
  },
  "nbsphinx": {
   "timeout": 600
  },
  "toc": {
   "base_numbering": 1,
   "nav_menu": {},
   "number_sections": true,
   "sideBar": true,
   "skip_h1_title": false,
   "title_cell": "Table of Contents",
   "title_sidebar": "Contents",
   "toc_cell": false,
   "toc_position": {},
   "toc_section_display": true,
   "toc_window_display": false
  },
  "varInspector": {
   "cols": {
    "lenName": 16,
    "lenType": 16,
    "lenVar": 40
   },
   "kernels_config": {
    "python": {
     "delete_cmd_postfix": "",
     "delete_cmd_prefix": "del ",
     "library": "var_list.py",
     "varRefreshCmd": "print(var_dic_list())"
    },
    "r": {
     "delete_cmd_postfix": ") ",
     "delete_cmd_prefix": "rm(",
     "library": "var_list.r",
     "varRefreshCmd": "cat(var_dic_list()) "
    }
   },
   "types_to_exclude": [
    "module",
    "function",
    "builtin_function_or_method",
    "instance",
    "_Feature"
   ],
   "window_display": false
  }
 },
 "nbformat": 4,
 "nbformat_minor": 2
}
