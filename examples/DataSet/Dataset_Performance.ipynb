{
 "cells": [
  {
   "cell_type": "markdown",
   "metadata": {},
   "source": [
    "# DataSet Performance\n",
    "\n",
    "This notebook shows the trade-off between inserting data into a database row-by-row and as binary blobs. Inserting the data row-by-row means that we have direct access to all the data and may perform queries directly on the values of the data. On the other hand, as we shall see, this is much slower than inserting the data directly as binary blobs."
   ]
  },
  {
   "cell_type": "markdown",
   "metadata": {},
   "source": [
    "First, we choose a new location for the database to ensure that we don't add a bunch of benchmarking data to the default one."
   ]
  },
  {
   "cell_type": "code",
   "execution_count": 1,
   "metadata": {
    "execution": {
     "iopub.execute_input": "2020-12-09T08:51:09.608051Z",
     "iopub.status.busy": "2020-12-09T08:51:09.607180Z",
     "iopub.status.idle": "2020-12-09T08:51:10.547568Z",
     "shell.execute_reply": "2020-12-09T08:51:10.546593Z"
    }
   },
   "outputs": [
    {
     "name": "stdout",
     "output_type": "stream",
     "text": [
      "Logging hadn't been started.\n",
      "Activating auto-logging. Current session state plus future input saved.\n",
      "Filename       : /home/vsts/.qcodes/logs/command_history.log\n",
      "Mode           : append\n",
      "Output logging : True\n",
      "Raw input log  : False\n",
      "Timestamping   : True\n",
      "State          : active\n"
     ]
    },
    {
     "name": "stdout",
     "output_type": "stream",
     "text": [
      "Qcodes Logfile : /home/vsts/.qcodes/logs/201209-14218-qcodes.log\n"
     ]
    }
   ],
   "source": [
    "import os\n",
    "cwd = os.getcwd()\n",
    "import qcodes as qc\n",
    "qc.config[\"core\"][\"db_location\"] = os.path.join(cwd, 'testing.db')\n"
   ]
  },
  {
   "cell_type": "code",
   "execution_count": 2,
   "metadata": {
    "execution": {
     "iopub.execute_input": "2020-12-09T08:51:10.554236Z",
     "iopub.status.busy": "2020-12-09T08:51:10.552917Z",
     "iopub.status.idle": "2020-12-09T08:51:10.722992Z",
     "shell.execute_reply": "2020-12-09T08:51:10.721964Z"
    }
   },
   "outputs": [],
   "source": [
    "%matplotlib inline\n",
    "import time\n",
    "import matplotlib.pyplot as plt\n",
    "import numpy as np\n",
    "\n",
    "import qcodes as qc\n",
    "from qcodes.instrument.parameter import ManualParameter\n",
    "from qcodes.dataset.experiment_container import (Experiment,\n",
    "                                                 load_last_experiment,\n",
    "                                                 new_experiment)\n",
    "from qcodes.dataset.sqlite.database import initialise_database\n",
    "from qcodes import load_or_create_experiment\n",
    "from qcodes.dataset.measurements import Measurement"
   ]
  },
  {
   "cell_type": "code",
   "execution_count": 3,
   "metadata": {
    "execution": {
     "iopub.execute_input": "2020-12-09T08:51:10.726476Z",
     "iopub.status.busy": "2020-12-09T08:51:10.725944Z",
     "iopub.status.idle": "2020-12-09T08:51:10.834088Z",
     "shell.execute_reply": "2020-12-09T08:51:10.833618Z"
    }
   },
   "outputs": [
    {
     "name": "stdout",
     "output_type": "stream",
     "text": [
      "\r",
      "0it [00:00, ?it/s]"
     ]
    },
    {
     "name": "stdout",
     "output_type": "stream",
     "text": [
      "\r",
      "Upgrading database; v0 -> v1: : 0it [00:00, ?it/s]"
     ]
    },
    {
     "name": "stdout",
     "output_type": "stream",
     "text": [
      "\r",
      "Upgrading database; v0 -> v1: : 0it [00:00, ?it/s]"
     ]
    },
    {
     "name": "stdout",
     "output_type": "stream",
     "text": [
      "\n",
      "\r",
      "  0%|          | 0/1 [00:00<?, ?it/s]"
     ]
    },
    {
     "name": "stdout",
     "output_type": "stream",
     "text": [
      "\r",
      "Upgrading database; v1 -> v2:   0%|          | 0/1 [00:00<?, ?it/s]"
     ]
    },
    {
     "name": "stdout",
     "output_type": "stream",
     "text": [
      "\r",
      "Upgrading database; v1 -> v2: 100%|██████████| 1/1 [00:00<00:00, 655.36it/s]"
     ]
    },
    {
     "name": "stdout",
     "output_type": "stream",
     "text": [
      "\n",
      "\r",
      "0it [00:00, ?it/s]"
     ]
    },
    {
     "name": "stdout",
     "output_type": "stream",
     "text": [
      "\r",
      "Upgrading database; v2 -> v3: : 0it [00:00, ?it/s]"
     ]
    },
    {
     "name": "stdout",
     "output_type": "stream",
     "text": [
      "\r",
      "Upgrading database; v2 -> v3: : 0it [00:00, ?it/s]"
     ]
    },
    {
     "name": "stdout",
     "output_type": "stream",
     "text": [
      "\n",
      "\r",
      "0it [00:00, ?it/s]"
     ]
    },
    {
     "name": "stdout",
     "output_type": "stream",
     "text": [
      "\r",
      "Upgrading database; v3 -> v4: : 0it [00:00, ?it/s]"
     ]
    },
    {
     "name": "stdout",
     "output_type": "stream",
     "text": [
      "\r",
      "Upgrading database; v3 -> v4: : 0it [00:00, ?it/s]"
     ]
    },
    {
     "name": "stdout",
     "output_type": "stream",
     "text": [
      "\n",
      "\r",
      "  0%|          | 0/1 [00:00<?, ?it/s]"
     ]
    },
    {
     "name": "stdout",
     "output_type": "stream",
     "text": [
      "\r",
      "Upgrading database; v4 -> v5:   0%|          | 0/1 [00:00<?, ?it/s]"
     ]
    },
    {
     "name": "stdout",
     "output_type": "stream",
     "text": [
      "\r",
      "Upgrading database; v4 -> v5: 100%|██████████| 1/1 [00:00<00:00, 810.65it/s]"
     ]
    },
    {
     "name": "stdout",
     "output_type": "stream",
     "text": [
      "\n",
      "\r",
      "0it [00:00, ?it/s]"
     ]
    },
    {
     "name": "stdout",
     "output_type": "stream",
     "text": [
      "\r",
      "Upgrading database; v5 -> v6: : 0it [00:00, ?it/s]"
     ]
    },
    {
     "name": "stdout",
     "output_type": "stream",
     "text": [
      "\r",
      "Upgrading database; v5 -> v6: : 0it [00:00, ?it/s]"
     ]
    },
    {
     "name": "stdout",
     "output_type": "stream",
     "text": [
      "\n",
      "\r",
      "  0%|          | 0/1 [00:00<?, ?it/s]"
     ]
    },
    {
     "name": "stdout",
     "output_type": "stream",
     "text": [
      "\r",
      "Upgrading database; v6 -> v7:   0%|          | 0/1 [00:00<?, ?it/s]"
     ]
    },
    {
     "name": "stdout",
     "output_type": "stream",
     "text": [
      "\r",
      "Upgrading database; v6 -> v7: 100%|██████████| 1/1 [00:00<00:00, 333.57it/s]"
     ]
    },
    {
     "name": "stdout",
     "output_type": "stream",
     "text": [
      "\n",
      "\r",
      "  0%|          | 0/1 [00:00<?, ?it/s]"
     ]
    },
    {
     "name": "stdout",
     "output_type": "stream",
     "text": [
      "\r",
      "Upgrading database; v7 -> v8:   0%|          | 0/1 [00:00<?, ?it/s]"
     ]
    },
    {
     "name": "stdout",
     "output_type": "stream",
     "text": [
      "\r",
      "Upgrading database; v7 -> v8: 100%|██████████| 1/1 [00:00<00:00, 1122.67it/s]"
     ]
    },
    {
     "name": "stdout",
     "output_type": "stream",
     "text": [
      "\n",
      "\r",
      "  0%|          | 0/1 [00:00<?, ?it/s]"
     ]
    },
    {
     "name": "stdout",
     "output_type": "stream",
     "text": [
      "\r",
      "Upgrading database; v8 -> v9:   0%|          | 0/1 [00:00<?, ?it/s]"
     ]
    },
    {
     "name": "stdout",
     "output_type": "stream",
     "text": [
      "\r",
      "Upgrading database; v8 -> v9: 100%|██████████| 1/1 [00:00<00:00, 848.53it/s]"
     ]
    },
    {
     "name": "stdout",
     "output_type": "stream",
     "text": [
      "\n"
     ]
    }
   ],
   "source": [
    "initialise_database()\n",
    "exp = load_or_create_experiment(experiment_name='tutorial_exp', sample_name=\"no sample\")"
   ]
  },
  {
   "cell_type": "markdown",
   "metadata": {},
   "source": [
    "Here, we define a simple function to benchmark the time it takes to insert n points with either numeric or array data type.\n",
    "We will compare both the time used to call ``add_result`` and the time used for the full measurement."
   ]
  },
  {
   "cell_type": "code",
   "execution_count": 4,
   "metadata": {
    "execution": {
     "iopub.execute_input": "2020-12-09T08:51:10.842633Z",
     "iopub.status.busy": "2020-12-09T08:51:10.841615Z",
     "iopub.status.idle": "2020-12-09T08:51:10.843157Z",
     "shell.execute_reply": "2020-12-09T08:51:10.843677Z"
    }
   },
   "outputs": [],
   "source": [
    "def insert_data(paramtype, npoints, nreps=1):\n",
    "\n",
    "    meas = Measurement(exp=exp)\n",
    "\n",
    "    x1 = ManualParameter('x1')\n",
    "    x2 = ManualParameter('x2')\n",
    "    x3 = ManualParameter('x3')\n",
    "    y1 = ManualParameter('y1')\n",
    "    y2 = ManualParameter('y2')\n",
    "\n",
    "    meas.register_parameter(x1, paramtype=paramtype)\n",
    "    meas.register_parameter(x2, paramtype=paramtype)\n",
    "    meas.register_parameter(x3, paramtype=paramtype)\n",
    "    meas.register_parameter(y1, setpoints=[x1, x2, x3],\n",
    "                            paramtype=paramtype)\n",
    "    meas.register_parameter(y2, setpoints=[x1, x2, x3],\n",
    "                            paramtype=paramtype)\n",
    "    start = time.perf_counter()\n",
    "    with meas.run() as datasaver:\n",
    "        start_adding = time.perf_counter()\n",
    "        for i in range(nreps):\n",
    "            datasaver.add_result((x1, np.random.rand(npoints)),\n",
    "                                 (x2, np.random.rand(npoints)),\n",
    "                                 (x3, np.random.rand(npoints)),\n",
    "                                 (y1, np.random.rand(npoints)),\n",
    "                                 (y2, np.random.rand(npoints)))\n",
    "        stop_adding = time.perf_counter()\n",
    "        run_id = datasaver.run_id\n",
    "    stop = time.perf_counter()\n",
    "    tot_time = stop - start\n",
    "    add_time = stop_adding - start_adding\n",
    "    return tot_time, add_time, run_id"
   ]
  },
  {
   "cell_type": "markdown",
   "metadata": {},
   "source": [
    "## Comparison between numeric/array data and binary blob"
   ]
  },
  {
   "cell_type": "markdown",
   "metadata": {},
   "source": [
    "### Case1: Short experiment time"
   ]
  },
  {
   "cell_type": "code",
   "execution_count": 5,
   "metadata": {
    "execution": {
     "iopub.execute_input": "2020-12-09T08:51:10.849182Z",
     "iopub.status.busy": "2020-12-09T08:51:10.848647Z",
     "iopub.status.idle": "2020-12-09T08:51:11.620991Z",
     "shell.execute_reply": "2020-12-09T08:51:11.620526Z"
    }
   },
   "outputs": [
    {
     "name": "stdout",
     "output_type": "stream",
     "text": [
      "Starting experimental run with id: 1. \n",
      "Starting experimental run with id: 2. \n",
      "Starting experimental run with id: 3. \n",
      "Starting experimental run with id: 4. \n",
      "Starting experimental run with id: 5. \n"
     ]
    },
    {
     "name": "stdout",
     "output_type": "stream",
     "text": [
      "Starting experimental run with id: 6. \n"
     ]
    },
    {
     "name": "stdout",
     "output_type": "stream",
     "text": [
      "Starting experimental run with id: 7. \n"
     ]
    },
    {
     "name": "stdout",
     "output_type": "stream",
     "text": [
      "Starting experimental run with id: 8. \n",
      "Starting experimental run with id: 9. \n"
     ]
    },
    {
     "name": "stdout",
     "output_type": "stream",
     "text": [
      "Starting experimental run with id: 10. \n"
     ]
    },
    {
     "name": "stdout",
     "output_type": "stream",
     "text": [
      "Starting experimental run with id: 11. \n"
     ]
    },
    {
     "name": "stdout",
     "output_type": "stream",
     "text": [
      "Starting experimental run with id: 12. \n",
      "Starting experimental run with id: 13. \n"
     ]
    },
    {
     "name": "stdout",
     "output_type": "stream",
     "text": [
      "Starting experimental run with id: 14. \n"
     ]
    }
   ],
   "source": [
    "sizes = [1,500,1000,2000,3000,4000,5000]\n",
    "t_numeric = []\n",
    "t_numeric_add = []\n",
    "t_array = []\n",
    "t_array_add = []\n",
    "for size in sizes:\n",
    "    tn, tna, run_id_n =  insert_data('numeric', size)\n",
    "    t_numeric.append(tn)\n",
    "    t_numeric_add.append(tna)\n",
    "\n",
    "    ta, taa, run_id_a =  insert_data('array', size)\n",
    "    t_array.append(ta)\n",
    "    t_array_add.append(taa)"
   ]
  },
  {
   "cell_type": "code",
   "execution_count": 6,
   "metadata": {
    "execution": {
     "iopub.execute_input": "2020-12-09T08:51:11.637339Z",
     "iopub.status.busy": "2020-12-09T08:51:11.627497Z",
     "iopub.status.idle": "2020-12-09T08:51:11.816971Z",
     "shell.execute_reply": "2020-12-09T08:51:11.817643Z"
    }
   },
   "outputs": [
    {
     "data": {
      "image/png": "[encoded data removed]",
      "text/plain": [
       "<Figure size 432x288 with 1 Axes>"
      ]
     },
     "metadata": {
      "needs_background": "light"
     },
     "output_type": "display_data"
    }
   ],
   "source": [
    "fig, ax = plt.subplots(1,1)\n",
    "ax.plot(sizes, t_numeric, 'o-', label='Inserting row-by-row')\n",
    "ax.plot(sizes, t_numeric_add, 'o-', label='Inserting row-by-row: add_result only')\n",
    "ax.plot(sizes, t_array, 'd-', label='Inserting as binary blob')\n",
    "ax.plot(sizes, t_array_add, 'd-', label='Inserting as binary blob: add_result only')\n",
    "ax.legend()\n",
    "ax.set_xlabel('Array length')\n",
    "ax.set_ylabel('Time (s)')\n",
    "fig.tight_layout()"
   ]
  },
  {
   "cell_type": "markdown",
   "metadata": {},
   "source": [
    "As shown in the latter figure, the time to setup and and close the experiment is approximately 0.4 sec. In case of small array sizes, the difference between inserting values of data as arrays and inserting them row-by-row is relatively unimportant. At larger array sizes, i.e. above 10000 points, the cost of writing data as individual datapoints starts to become important.\n"
   ]
  },
  {
   "cell_type": "markdown",
   "metadata": {},
   "source": [
    "### Case2: Long experiment time "
   ]
  },
  {
   "cell_type": "code",
   "execution_count": 7,
   "metadata": {
    "execution": {
     "iopub.execute_input": "2020-12-09T08:51:11.820909Z",
     "iopub.status.busy": "2020-12-09T08:51:11.819957Z",
     "iopub.status.idle": "2020-12-09T08:52:05.690028Z",
     "shell.execute_reply": "2020-12-09T08:52:05.689427Z"
    }
   },
   "outputs": [
    {
     "name": "stdout",
     "output_type": "stream",
     "text": [
      "Starting experimental run with id: 15. \n",
      "Starting experimental run with id: 16. \n",
      "Starting experimental run with id: 17. \n"
     ]
    },
    {
     "name": "stdout",
     "output_type": "stream",
     "text": [
      "Starting experimental run with id: 18. \n",
      "Starting experimental run with id: 19. \n"
     ]
    },
    {
     "name": "stdout",
     "output_type": "stream",
     "text": [
      "Starting experimental run with id: 20. \n"
     ]
    },
    {
     "name": "stdout",
     "output_type": "stream",
     "text": [
      "Starting experimental run with id: 21. \n"
     ]
    },
    {
     "name": "stdout",
     "output_type": "stream",
     "text": [
      "Starting experimental run with id: 22. \n"
     ]
    },
    {
     "name": "stdout",
     "output_type": "stream",
     "text": [
      "Starting experimental run with id: 23. \n"
     ]
    },
    {
     "name": "stdout",
     "output_type": "stream",
     "text": [
      "Starting experimental run with id: 24. \n"
     ]
    },
    {
     "name": "stdout",
     "output_type": "stream",
     "text": [
      "Starting experimental run with id: 25. \n"
     ]
    },
    {
     "name": "stdout",
     "output_type": "stream",
     "text": [
      "Starting experimental run with id: 26. \n"
     ]
    },
    {
     "name": "stdout",
     "output_type": "stream",
     "text": [
      "Starting experimental run with id: 27. \n"
     ]
    },
    {
     "name": "stdout",
     "output_type": "stream",
     "text": [
      "Starting experimental run with id: 28. \n"
     ]
    }
   ],
   "source": [
    "sizes = [1,500,1000,2000,3000,4000,5000]\n",
    "nreps = 100\n",
    "t_numeric = []\n",
    "t_numeric_add = []\n",
    "t_numeric_run_ids = []\n",
    "t_array = []\n",
    "t_array_add = []\n",
    "t_array_run_ids = []\n",
    "for size in sizes:\n",
    "    tn, tna, run_id_n =  insert_data('numeric', size, nreps=nreps)\n",
    "    t_numeric.append(tn)\n",
    "    t_numeric_add.append(tna)\n",
    "    t_numeric_run_ids.append(run_id_n)\n",
    "\n",
    "    ta, taa, run_id_a =  insert_data('array', size, nreps=nreps)\n",
    "    t_array.append(ta)\n",
    "    t_array_add.append(taa)\n",
    "    t_array_run_ids.append(run_id_a)"
   ]
  },
  {
   "cell_type": "code",
   "execution_count": 8,
   "metadata": {
    "execution": {
     "iopub.execute_input": "2020-12-09T08:52:05.717345Z",
     "iopub.status.busy": "2020-12-09T08:52:05.705965Z",
     "iopub.status.idle": "2020-12-09T08:52:05.876717Z",
     "shell.execute_reply": "2020-12-09T08:52:05.877222Z"
    },
    "scrolled": true
   },
   "outputs": [
    {
     "data": {
      "image/png": "[encoded data removed]",
      "text/plain": [
       "<Figure size 432x288 with 1 Axes>"
      ]
     },
     "metadata": {
      "needs_background": "light"
     },
     "output_type": "display_data"
    }
   ],
   "source": [
    "fig, ax = plt.subplots(1,1)\n",
    "ax.plot(sizes, t_numeric, 'o-', label='Inserting row-by-row')\n",
    "ax.plot(sizes, t_numeric_add, 'o-', label='Inserting row-by-row: add_result only')\n",
    "ax.plot(sizes, t_array, 'd-', label='Inserting as binary blob')\n",
    "ax.plot(sizes, t_array_add, 'd-', label='Inserting as binary blob: add_result only')\n",
    "ax.legend()\n",
    "ax.set_xlabel('Array length')\n",
    "ax.set_ylabel('Time (s)')\n",
    "fig.tight_layout()"
   ]
  },
  {
   "cell_type": "markdown",
   "metadata": {},
   "source": [
    "However, as we increase the length of the experiment, as seen here by repeating the insertion 100 times, we see a big difference between inserting values of the data row-by-row and inserting it as a binary blob."
   ]
  },
  {
   "cell_type": "markdown",
   "metadata": {},
   "source": [
    "## Loading the data "
   ]
  },
  {
   "cell_type": "code",
   "execution_count": 9,
   "metadata": {
    "execution": {
     "iopub.execute_input": "2020-12-09T08:52:05.881254Z",
     "iopub.status.busy": "2020-12-09T08:52:05.880729Z",
     "iopub.status.idle": "2020-12-09T08:52:05.884016Z",
     "shell.execute_reply": "2020-12-09T08:52:05.884656Z"
    }
   },
   "outputs": [],
   "source": [
    "from qcodes.dataset.data_set import load_by_id\n",
    "from qcodes.dataset.data_export import get_data_by_id"
   ]
  },
  {
   "cell_type": "markdown",
   "metadata": {},
   "source": [
    "As usual you can load the data by using the ``load_by_id`` function but you will notice that the different storage methods\n",
    "are reflected in shape of the data as it is retrieved. "
   ]
  },
  {
   "cell_type": "code",
   "execution_count": 10,
   "metadata": {
    "execution": {
     "iopub.execute_input": "2020-12-09T08:52:05.887957Z",
     "iopub.status.busy": "2020-12-09T08:52:05.887023Z",
     "iopub.status.idle": "2020-12-09T08:52:05.892321Z",
     "shell.execute_reply": "2020-12-09T08:52:05.891435Z"
    }
   },
   "outputs": [],
   "source": [
    "run_id_n = t_numeric_run_ids[0]\n",
    "run_id_a = t_array_run_ids[0]"
   ]
  },
  {
   "cell_type": "code",
   "execution_count": 11,
   "metadata": {
    "execution": {
     "iopub.execute_input": "2020-12-09T08:52:05.895759Z",
     "iopub.status.busy": "2020-12-09T08:52:05.894750Z",
     "iopub.status.idle": "2020-12-09T08:52:05.906788Z",
     "shell.execute_reply": "2020-12-09T08:52:05.906371Z"
    },
    "scrolled": true
   },
   "outputs": [
    {
     "data": {
      "text/plain": [
       "{'x1': {'x1': array([0.92375648, 0.92375648, 0.71563273, 0.71563273, 0.51033351,\n",
       "         0.51033351, 0.92700829, 0.92700829, 0.70355226, 0.70355226,\n",
       "         0.18535288, 0.18535288, 0.58409313, 0.58409313, 0.00187059,\n",
       "         0.00187059, 0.70580773, 0.70580773, 0.51750828, 0.51750828,\n",
       "         0.67343828, 0.67343828, 0.46322579, 0.46322579, 0.42107116,\n",
       "         0.42107116, 0.00861324, 0.00861324, 0.01324514, 0.01324514,\n",
       "         0.59353243, 0.59353243, 0.12914578, 0.12914578, 0.30878713,\n",
       "         0.30878713, 0.56700652, 0.56700652, 0.11802189, 0.11802189,\n",
       "         0.29615971, 0.29615971, 0.60726249, 0.60726249, 0.46897174,\n",
       "         0.46897174, 0.40939025, 0.40939025, 0.53162844, 0.53162844,\n",
       "         0.30188962, 0.30188962, 0.93939964, 0.93939964, 0.68746527,\n",
       "         0.68746527, 0.44781882, 0.44781882, 0.26811853, 0.26811853,\n",
       "         0.12173967, 0.12173967, 0.47962422, 0.47962422, 0.47742152,\n",
       "         0.47742152, 0.50379413, 0.50379413, 0.34190034, 0.34190034,\n",
       "         0.05097383, 0.05097383, 0.44762013, 0.44762013, 0.83714515,\n",
       "         0.83714515, 0.94351959, 0.94351959, 0.82771679, 0.82771679,\n",
       "         0.18243398, 0.18243398, 0.58347429, 0.58347429, 0.97873887,\n",
       "         0.97873887, 0.17497953, 0.17497953, 0.35109227, 0.35109227,\n",
       "         0.63392177, 0.63392177, 0.36384884, 0.36384884, 0.77852103,\n",
       "         0.77852103, 0.16638519, 0.16638519, 0.86807014, 0.86807014,\n",
       "         0.43688083, 0.43688083, 0.41668037, 0.41668037, 0.28318809,\n",
       "         0.28318809, 0.35546239, 0.35546239, 0.60391075, 0.60391075,\n",
       "         0.44229598, 0.44229598, 0.55943416, 0.55943416, 0.29976297,\n",
       "         0.29976297, 0.62605964, 0.62605964, 0.93864717, 0.93864717,\n",
       "         0.17940425, 0.17940425, 0.29376601, 0.29376601, 0.64634312,\n",
       "         0.64634312, 0.18873438, 0.18873438, 0.07803105, 0.07803105,\n",
       "         0.55322182, 0.55322182, 0.67252132, 0.67252132, 0.35929303,\n",
       "         0.35929303, 0.03337359, 0.03337359, 0.9088658 , 0.9088658 ,\n",
       "         0.83051647, 0.83051647, 0.39973125, 0.39973125, 0.52952638,\n",
       "         0.52952638, 0.32059398, 0.32059398, 0.31382755, 0.31382755,\n",
       "         0.45691679, 0.45691679, 0.33367706, 0.33367706, 0.97191466,\n",
       "         0.97191466, 0.65399665, 0.65399665, 0.01734192, 0.01734192,\n",
       "         0.31837183, 0.31837183, 0.51994021, 0.51994021, 0.89297985,\n",
       "         0.89297985, 0.6543822 , 0.6543822 , 0.93299654, 0.93299654,\n",
       "         0.96077761, 0.96077761, 0.1900453 , 0.1900453 , 0.1938028 ,\n",
       "         0.1938028 , 0.11227854, 0.11227854, 0.18625253, 0.18625253,\n",
       "         0.94909744, 0.94909744, 0.45689889, 0.45689889, 0.36911211,\n",
       "         0.36911211, 0.60703609, 0.60703609, 0.55455455, 0.55455455,\n",
       "         0.35019481, 0.35019481, 0.39689501, 0.39689501, 0.67164745,\n",
       "         0.67164745, 0.62521982, 0.62521982, 0.26543989, 0.26543989])}}"
      ]
     },
     "execution_count": 1,
     "metadata": {},
     "output_type": "execute_result"
    }
   ],
   "source": [
    "ds = load_by_id(run_id_n)\n",
    "ds.get_parameter_data('x1')"
   ]
  },
  {
   "cell_type": "markdown",
   "metadata": {},
   "source": [
    "And a dataset stored as binary arrays"
   ]
  },
  {
   "cell_type": "code",
   "execution_count": 12,
   "metadata": {
    "execution": {
     "iopub.execute_input": "2020-12-09T08:52:05.909630Z",
     "iopub.status.busy": "2020-12-09T08:52:05.909198Z",
     "iopub.status.idle": "2020-12-09T08:52:05.958335Z",
     "shell.execute_reply": "2020-12-09T08:52:05.957910Z"
    },
    "scrolled": true
   },
   "outputs": [
    {
     "data": {
      "text/plain": [
       "{'x1': {'x1': array([[0.84093085],\n",
       "         [0.84093085],\n",
       "         [0.60748121],\n",
       "         [0.60748121],\n",
       "         [0.47055561],\n",
       "         [0.47055561],\n",
       "         [0.61696683],\n",
       "         [0.61696683],\n",
       "         [0.1512064 ],\n",
       "         [0.1512064 ],\n",
       "         [0.8238481 ],\n",
       "         [0.8238481 ],\n",
       "         [0.95862835],\n",
       "         [0.95862835],\n",
       "         [0.0202079 ],\n",
       "         [0.0202079 ],\n",
       "         [0.18564761],\n",
       "         [0.18564761],\n",
       "         [0.67965355],\n",
       "         [0.67965355],\n",
       "         [0.07580705],\n",
       "         [0.07580705],\n",
       "         [0.71576272],\n",
       "         [0.71576272],\n",
       "         [0.94289527],\n",
       "         [0.94289527],\n",
       "         [0.98789723],\n",
       "         [0.98789723],\n",
       "         [0.61970575],\n",
       "         [0.61970575],\n",
       "         [0.79366651],\n",
       "         [0.79366651],\n",
       "         [0.40928575],\n",
       "         [0.40928575],\n",
       "         [0.58277077],\n",
       "         [0.58277077],\n",
       "         [0.76359947],\n",
       "         [0.76359947],\n",
       "         [0.04271961],\n",
       "         [0.04271961],\n",
       "         [0.90684713],\n",
       "         [0.90684713],\n",
       "         [0.92694483],\n",
       "         [0.92694483],\n",
       "         [0.5017184 ],\n",
       "         [0.5017184 ],\n",
       "         [0.26512045],\n",
       "         [0.26512045],\n",
       "         [0.49398008],\n",
       "         [0.49398008],\n",
       "         [0.23471994],\n",
       "         [0.23471994],\n",
       "         [0.64318341],\n",
       "         [0.64318341],\n",
       "         [0.45391114],\n",
       "         [0.45391114],\n",
       "         [0.21394662],\n",
       "         [0.21394662],\n",
       "         [0.23006615],\n",
       "         [0.23006615],\n",
       "         [0.42269323],\n",
       "         [0.42269323],\n",
       "         [0.12988881],\n",
       "         [0.12988881],\n",
       "         [0.54193778],\n",
       "         [0.54193778],\n",
       "         [0.79428802],\n",
       "         [0.79428802],\n",
       "         [0.34833521],\n",
       "         [0.34833521],\n",
       "         [0.99813707],\n",
       "         [0.99813707],\n",
       "         [0.15668542],\n",
       "         [0.15668542],\n",
       "         [0.20439289],\n",
       "         [0.20439289],\n",
       "         [0.10043698],\n",
       "         [0.10043698],\n",
       "         [0.58628911],\n",
       "         [0.58628911],\n",
       "         [0.71580009],\n",
       "         [0.71580009],\n",
       "         [0.07561882],\n",
       "         [0.07561882],\n",
       "         [0.90080731],\n",
       "         [0.90080731],\n",
       "         [0.28123593],\n",
       "         [0.28123593],\n",
       "         [0.57999441],\n",
       "         [0.57999441],\n",
       "         [0.01054494],\n",
       "         [0.01054494],\n",
       "         [0.08737069],\n",
       "         [0.08737069],\n",
       "         [0.77403418],\n",
       "         [0.77403418],\n",
       "         [0.08451314],\n",
       "         [0.08451314],\n",
       "         [0.36569318],\n",
       "         [0.36569318],\n",
       "         [0.1220099 ],\n",
       "         [0.1220099 ],\n",
       "         [0.12038072],\n",
       "         [0.12038072],\n",
       "         [0.85388565],\n",
       "         [0.85388565],\n",
       "         [0.17408647],\n",
       "         [0.17408647],\n",
       "         [0.59167105],\n",
       "         [0.59167105],\n",
       "         [0.43970774],\n",
       "         [0.43970774],\n",
       "         [0.01318886],\n",
       "         [0.01318886],\n",
       "         [0.1719196 ],\n",
       "         [0.1719196 ],\n",
       "         [0.83704177],\n",
       "         [0.83704177],\n",
       "         [0.07508626],\n",
       "         [0.07508626],\n",
       "         [0.92425235],\n",
       "         [0.92425235],\n",
       "         [0.24948932],\n",
       "         [0.24948932],\n",
       "         [0.5486657 ],\n",
       "         [0.5486657 ],\n",
       "         [0.79483335],\n",
       "         [0.79483335],\n",
       "         [0.27396864],\n",
       "         [0.27396864],\n",
       "         [0.91906726],\n",
       "         [0.91906726],\n",
       "         [0.05637788],\n",
       "         [0.05637788],\n",
       "         [0.70193923],\n",
       "         [0.70193923],\n",
       "         [0.61985023],\n",
       "         [0.61985023],\n",
       "         [0.51303003],\n",
       "         [0.51303003],\n",
       "         [0.26890823],\n",
       "         [0.26890823],\n",
       "         [0.84245312],\n",
       "         [0.84245312],\n",
       "         [0.77893438],\n",
       "         [0.77893438],\n",
       "         [0.1620192 ],\n",
       "         [0.1620192 ],\n",
       "         [0.8779791 ],\n",
       "         [0.8779791 ],\n",
       "         [0.73762813],\n",
       "         [0.73762813],\n",
       "         [0.27526355],\n",
       "         [0.27526355],\n",
       "         [0.91813718],\n",
       "         [0.91813718],\n",
       "         [0.70493574],\n",
       "         [0.70493574],\n",
       "         [0.84364554],\n",
       "         [0.84364554],\n",
       "         [0.34449171],\n",
       "         [0.34449171],\n",
       "         [0.12597627],\n",
       "         [0.12597627],\n",
       "         [0.91349946],\n",
       "         [0.91349946],\n",
       "         [0.8210155 ],\n",
       "         [0.8210155 ],\n",
       "         [0.1651376 ],\n",
       "         [0.1651376 ],\n",
       "         [0.80389161],\n",
       "         [0.80389161],\n",
       "         [0.92044793],\n",
       "         [0.92044793],\n",
       "         [0.86112016],\n",
       "         [0.86112016],\n",
       "         [0.89267808],\n",
       "         [0.89267808],\n",
       "         [0.00255168],\n",
       "         [0.00255168],\n",
       "         [0.70332885],\n",
       "         [0.70332885],\n",
       "         [0.32812577],\n",
       "         [0.32812577],\n",
       "         [0.73736612],\n",
       "         [0.73736612],\n",
       "         [0.54084635],\n",
       "         [0.54084635],\n",
       "         [0.8032638 ],\n",
       "         [0.8032638 ],\n",
       "         [0.20231196],\n",
       "         [0.20231196],\n",
       "         [0.50480187],\n",
       "         [0.50480187],\n",
       "         [0.35661367],\n",
       "         [0.35661367],\n",
       "         [0.01372997],\n",
       "         [0.01372997],\n",
       "         [0.4029408 ],\n",
       "         [0.4029408 ]])}}"
      ]
     },
     "execution_count": 1,
     "metadata": {},
     "output_type": "execute_result"
    }
   ],
   "source": [
    "ds = load_by_id(run_id_a)\n",
    "ds.get_parameter_data('x1')"
   ]
  },
  {
   "cell_type": "code",
   "execution_count": null,
   "metadata": {},
   "outputs": [],
   "source": []
  }
 ],
 "metadata": {
  "kernelspec": {
   "display_name": "Python 3",
   "language": "python",
   "name": "python3"
  },
  "language_info": {
   "codemirror_mode": {
    "name": "ipython",
    "version": 3
   },
   "file_extension": ".py",
   "mimetype": "text/x-python",
   "name": "python",
   "nbconvert_exporter": "python",
   "pygments_lexer": "ipython3",
   "version": "3.7.9"
  },
  "nbsphinx": {
   "timeout": 600
  },
  "toc": {
   "base_numbering": 1,
   "nav_menu": {},
   "number_sections": true,
   "sideBar": true,
   "skip_h1_title": false,
   "title_cell": "Table of Contents",
   "title_sidebar": "Contents",
   "toc_cell": false,
   "toc_position": {},
   "toc_section_display": true,
   "toc_window_display": false
  },
  "varInspector": {
   "cols": {
    "lenName": 16,
    "lenType": 16,
    "lenVar": 40
   },
   "kernels_config": {
    "python": {
     "delete_cmd_postfix": "",
     "delete_cmd_prefix": "del ",
     "library": "var_list.py",
     "varRefreshCmd": "print(var_dic_list())"
    },
    "r": {
     "delete_cmd_postfix": ") ",
     "delete_cmd_prefix": "rm(",
     "library": "var_list.r",
     "varRefreshCmd": "cat(var_dic_list()) "
    }
   },
   "types_to_exclude": [
    "module",
    "function",
    "builtin_function_or_method",
    "instance",
    "_Feature"
   ],
   "window_display": false
  }
 },
 "nbformat": 4,
 "nbformat_minor": 2
}
