{
 "cells": [
  {
   "cell_type": "markdown",
   "metadata": {},
   "source": [
    "# DataSet Performance\n",
    "\n",
    "This notebook shows the trade-off between inserting data into a database row-by-row and as binary blobs. Inserting the data row-by-row means that we have direct access to all the data and may perform queries directly on the values of the data. On the other hand, as we shall see, this is much slower than inserting the data directly as binary blobs."
   ]
  },
  {
   "cell_type": "markdown",
   "metadata": {},
   "source": [
    "First, we choose a new location for the database to ensure that we don't add a bunch of benchmarking data to the default one."
   ]
  },
  {
   "cell_type": "code",
   "execution_count": 1,
   "metadata": {
    "execution": {
     "iopub.execute_input": "2021-02-08T17:50:42.660712Z",
     "iopub.status.busy": "2021-02-08T17:50:42.660083Z",
     "iopub.status.idle": "2021-02-08T17:50:43.747715Z",
     "shell.execute_reply": "2021-02-08T17:50:43.748201Z"
    }
   },
   "outputs": [
    {
     "name": "stdout",
     "output_type": "stream",
     "text": [
      "Logging hadn't been started.\n",
      "Activating auto-logging. Current session state plus future input saved.\n",
      "Filename       : /home/vsts/.qcodes/logs/command_history.log\n",
      "Mode           : append\n",
      "Output logging : True\n",
      "Raw input log  : False\n",
      "Timestamping   : True\n",
      "State          : active\n"
     ]
    },
    {
     "name": "stdout",
     "output_type": "stream",
     "text": [
      "Qcodes Logfile : /home/vsts/.qcodes/logs/210208-14507-qcodes.log\n"
     ]
    }
   ],
   "source": [
    "import os\n",
    "cwd = os.getcwd()\n",
    "import qcodes as qc\n",
    "qc.config[\"core\"][\"db_location\"] = os.path.join(cwd, 'testing.db')\n"
   ]
  },
  {
   "cell_type": "code",
   "execution_count": 2,
   "metadata": {
    "execution": {
     "iopub.execute_input": "2021-02-08T17:50:43.755269Z",
     "iopub.status.busy": "2021-02-08T17:50:43.754348Z",
     "iopub.status.idle": "2021-02-08T17:50:43.964315Z",
     "shell.execute_reply": "2021-02-08T17:50:43.963684Z"
    }
   },
   "outputs": [],
   "source": [
    "%matplotlib inline\n",
    "import time\n",
    "import matplotlib.pyplot as plt\n",
    "import numpy as np\n",
    "\n",
    "import qcodes as qc\n",
    "from qcodes.instrument.parameter import ManualParameter\n",
    "from qcodes.dataset.experiment_container import (Experiment,\n",
    "                                                 load_last_experiment,\n",
    "                                                 new_experiment)\n",
    "from qcodes.dataset.sqlite.database import initialise_database\n",
    "from qcodes import load_or_create_experiment\n",
    "from qcodes.dataset.measurements import Measurement"
   ]
  },
  {
   "cell_type": "code",
   "execution_count": 3,
   "metadata": {
    "execution": {
     "iopub.execute_input": "2021-02-08T17:50:43.968408Z",
     "iopub.status.busy": "2021-02-08T17:50:43.967684Z",
     "iopub.status.idle": "2021-02-08T17:50:44.089284Z",
     "shell.execute_reply": "2021-02-08T17:50:44.088320Z"
    }
   },
   "outputs": [
    {
     "name": "stdout",
     "output_type": "stream",
     "text": [
      "\r",
      "0it [00:00, ?it/s]"
     ]
    },
    {
     "name": "stdout",
     "output_type": "stream",
     "text": [
      "\r",
      "Upgrading database; v0 -> v1: : 0it [00:00, ?it/s]"
     ]
    },
    {
     "name": "stdout",
     "output_type": "stream",
     "text": [
      "\r",
      "Upgrading database; v0 -> v1: : 0it [00:00, ?it/s]"
     ]
    },
    {
     "name": "stdout",
     "output_type": "stream",
     "text": [
      "\n",
      "\r",
      "  0%|          | 0/1 [00:00<?, ?it/s]"
     ]
    },
    {
     "name": "stdout",
     "output_type": "stream",
     "text": [
      "\r",
      "Upgrading database; v1 -> v2:   0%|          | 0/1 [00:00<?, ?it/s]"
     ]
    },
    {
     "name": "stdout",
     "output_type": "stream",
     "text": [
      "\r",
      "Upgrading database; v1 -> v2: 100%|██████████| 1/1 [00:00<00:00, 896.99it/s]"
     ]
    },
    {
     "name": "stdout",
     "output_type": "stream",
     "text": [
      "\n",
      "\r",
      "0it [00:00, ?it/s]"
     ]
    },
    {
     "name": "stdout",
     "output_type": "stream",
     "text": [
      "\r",
      "Upgrading database; v2 -> v3: : 0it [00:00, ?it/s]"
     ]
    },
    {
     "name": "stdout",
     "output_type": "stream",
     "text": [
      "\r",
      "Upgrading database; v2 -> v3: : 0it [00:00, ?it/s]"
     ]
    },
    {
     "name": "stdout",
     "output_type": "stream",
     "text": [
      "\n",
      "\r",
      "0it [00:00, ?it/s]"
     ]
    },
    {
     "name": "stdout",
     "output_type": "stream",
     "text": [
      "\r",
      "Upgrading database; v3 -> v4: : 0it [00:00, ?it/s]"
     ]
    },
    {
     "name": "stdout",
     "output_type": "stream",
     "text": [
      "\r",
      "Upgrading database; v3 -> v4: : 0it [00:00, ?it/s]"
     ]
    },
    {
     "name": "stdout",
     "output_type": "stream",
     "text": [
      "\n",
      "\r",
      "  0%|          | 0/1 [00:00<?, ?it/s]"
     ]
    },
    {
     "name": "stdout",
     "output_type": "stream",
     "text": [
      "\r",
      "Upgrading database; v4 -> v5:   0%|          | 0/1 [00:00<?, ?it/s]"
     ]
    },
    {
     "name": "stdout",
     "output_type": "stream",
     "text": [
      "\r",
      "Upgrading database; v4 -> v5: 100%|██████████| 1/1 [00:00<00:00, 881.53it/s]"
     ]
    },
    {
     "name": "stdout",
     "output_type": "stream",
     "text": [
      "\n",
      "\r",
      "0it [00:00, ?it/s]"
     ]
    },
    {
     "name": "stdout",
     "output_type": "stream",
     "text": [
      "\r",
      "Upgrading database; v5 -> v6: : 0it [00:00, ?it/s]"
     ]
    },
    {
     "name": "stdout",
     "output_type": "stream",
     "text": [
      "\r",
      "Upgrading database; v5 -> v6: : 0it [00:00, ?it/s]"
     ]
    },
    {
     "name": "stdout",
     "output_type": "stream",
     "text": [
      "\n",
      "\r",
      "  0%|          | 0/1 [00:00<?, ?it/s]"
     ]
    },
    {
     "name": "stdout",
     "output_type": "stream",
     "text": [
      "\r",
      "Upgrading database; v6 -> v7:   0%|          | 0/1 [00:00<?, ?it/s]"
     ]
    },
    {
     "name": "stdout",
     "output_type": "stream",
     "text": [
      "\r",
      "Upgrading database; v6 -> v7: 100%|██████████| 1/1 [00:00<00:00, 259.87it/s]"
     ]
    },
    {
     "name": "stdout",
     "output_type": "stream",
     "text": [
      "\n",
      "\r",
      "  0%|          | 0/1 [00:00<?, ?it/s]"
     ]
    },
    {
     "name": "stdout",
     "output_type": "stream",
     "text": [
      "\r",
      "Upgrading database; v7 -> v8:   0%|          | 0/1 [00:00<?, ?it/s]"
     ]
    },
    {
     "name": "stdout",
     "output_type": "stream",
     "text": [
      "\r",
      "Upgrading database; v7 -> v8: 100%|██████████| 1/1 [00:00<00:00, 610.70it/s]"
     ]
    },
    {
     "name": "stdout",
     "output_type": "stream",
     "text": [
      "\n",
      "\r",
      "  0%|          | 0/1 [00:00<?, ?it/s]"
     ]
    },
    {
     "name": "stdout",
     "output_type": "stream",
     "text": [
      "\r",
      "Upgrading database; v8 -> v9:   0%|          | 0/1 [00:00<?, ?it/s]"
     ]
    },
    {
     "name": "stdout",
     "output_type": "stream",
     "text": [
      "\r",
      "Upgrading database; v8 -> v9: 100%|██████████| 1/1 [00:00<00:00, 448.68it/s]"
     ]
    },
    {
     "name": "stdout",
     "output_type": "stream",
     "text": [
      "\n"
     ]
    }
   ],
   "source": [
    "initialise_database()\n",
    "exp = load_or_create_experiment(experiment_name='tutorial_exp', sample_name=\"no sample\")"
   ]
  },
  {
   "cell_type": "markdown",
   "metadata": {},
   "source": [
    "Here, we define a simple function to benchmark the time it takes to insert n points with either numeric or array data type.\n",
    "We will compare both the time used to call ``add_result`` and the time used for the full measurement."
   ]
  },
  {
   "cell_type": "code",
   "execution_count": 4,
   "metadata": {
    "execution": {
     "iopub.execute_input": "2021-02-08T17:50:44.098518Z",
     "iopub.status.busy": "2021-02-08T17:50:44.097889Z",
     "iopub.status.idle": "2021-02-08T17:50:44.101850Z",
     "shell.execute_reply": "2021-02-08T17:50:44.101319Z"
    }
   },
   "outputs": [],
   "source": [
    "def insert_data(paramtype, npoints, nreps=1):\n",
    "\n",
    "    meas = Measurement(exp=exp)\n",
    "\n",
    "    x1 = ManualParameter('x1')\n",
    "    x2 = ManualParameter('x2')\n",
    "    x3 = ManualParameter('x3')\n",
    "    y1 = ManualParameter('y1')\n",
    "    y2 = ManualParameter('y2')\n",
    "\n",
    "    meas.register_parameter(x1, paramtype=paramtype)\n",
    "    meas.register_parameter(x2, paramtype=paramtype)\n",
    "    meas.register_parameter(x3, paramtype=paramtype)\n",
    "    meas.register_parameter(y1, setpoints=[x1, x2, x3],\n",
    "                            paramtype=paramtype)\n",
    "    meas.register_parameter(y2, setpoints=[x1, x2, x3],\n",
    "                            paramtype=paramtype)\n",
    "    start = time.perf_counter()\n",
    "    with meas.run() as datasaver:\n",
    "        start_adding = time.perf_counter()\n",
    "        for i in range(nreps):\n",
    "            datasaver.add_result((x1, np.random.rand(npoints)),\n",
    "                                 (x2, np.random.rand(npoints)),\n",
    "                                 (x3, np.random.rand(npoints)),\n",
    "                                 (y1, np.random.rand(npoints)),\n",
    "                                 (y2, np.random.rand(npoints)))\n",
    "        stop_adding = time.perf_counter()\n",
    "        run_id = datasaver.run_id\n",
    "    stop = time.perf_counter()\n",
    "    tot_time = stop - start\n",
    "    add_time = stop_adding - start_adding\n",
    "    return tot_time, add_time, run_id"
   ]
  },
  {
   "cell_type": "markdown",
   "metadata": {},
   "source": [
    "## Comparison between numeric/array data and binary blob"
   ]
  },
  {
   "cell_type": "markdown",
   "metadata": {},
   "source": [
    "### Case1: Short experiment time"
   ]
  },
  {
   "cell_type": "code",
   "execution_count": 5,
   "metadata": {
    "execution": {
     "iopub.execute_input": "2021-02-08T17:50:44.108896Z",
     "iopub.status.busy": "2021-02-08T17:50:44.108228Z",
     "iopub.status.idle": "2021-02-08T17:50:44.943044Z",
     "shell.execute_reply": "2021-02-08T17:50:44.942585Z"
    }
   },
   "outputs": [
    {
     "name": "stdout",
     "output_type": "stream",
     "text": [
      "Starting experimental run with id: 1. \n",
      "Starting experimental run with id: 2. \n",
      "Starting experimental run with id: 3. \n",
      "Starting experimental run with id: 4. \n",
      "Starting experimental run with id: 5. \n"
     ]
    },
    {
     "name": "stdout",
     "output_type": "stream",
     "text": [
      "Starting experimental run with id: 6. \n"
     ]
    },
    {
     "name": "stdout",
     "output_type": "stream",
     "text": [
      "Starting experimental run with id: 7. \n"
     ]
    },
    {
     "name": "stdout",
     "output_type": "stream",
     "text": [
      "Starting experimental run with id: 8. \n",
      "Starting experimental run with id: 9. \n"
     ]
    },
    {
     "name": "stdout",
     "output_type": "stream",
     "text": [
      "Starting experimental run with id: 10. \n",
      "Starting experimental run with id: 11. \n"
     ]
    },
    {
     "name": "stdout",
     "output_type": "stream",
     "text": [
      "Starting experimental run with id: 12. \n",
      "Starting experimental run with id: 13. \n"
     ]
    },
    {
     "name": "stdout",
     "output_type": "stream",
     "text": [
      "Starting experimental run with id: 14. \n"
     ]
    }
   ],
   "source": [
    "sizes = [1,500,1000,2000,3000,4000,5000]\n",
    "t_numeric = []\n",
    "t_numeric_add = []\n",
    "t_array = []\n",
    "t_array_add = []\n",
    "for size in sizes:\n",
    "    tn, tna, run_id_n =  insert_data('numeric', size)\n",
    "    t_numeric.append(tn)\n",
    "    t_numeric_add.append(tna)\n",
    "\n",
    "    ta, taa, run_id_a =  insert_data('array', size)\n",
    "    t_array.append(ta)\n",
    "    t_array_add.append(taa)"
   ]
  },
  {
   "cell_type": "code",
   "execution_count": 6,
   "metadata": {
    "execution": {
     "iopub.execute_input": "2021-02-08T17:50:44.961588Z",
     "iopub.status.busy": "2021-02-08T17:50:44.961017Z",
     "iopub.status.idle": "2021-02-08T17:50:45.171401Z",
     "shell.execute_reply": "2021-02-08T17:50:45.170571Z"
    }
   },
   "outputs": [
    {
     "data": {
      "image/png": "[encoded data removed]",
      "text/plain": [
       "<Figure size 432x288 with 1 Axes>"
      ]
     },
     "metadata": {
      "needs_background": "light"
     },
     "output_type": "display_data"
    }
   ],
   "source": [
    "fig, ax = plt.subplots(1,1)\n",
    "ax.plot(sizes, t_numeric, 'o-', label='Inserting row-by-row')\n",
    "ax.plot(sizes, t_numeric_add, 'o-', label='Inserting row-by-row: add_result only')\n",
    "ax.plot(sizes, t_array, 'd-', label='Inserting as binary blob')\n",
    "ax.plot(sizes, t_array_add, 'd-', label='Inserting as binary blob: add_result only')\n",
    "ax.legend()\n",
    "ax.set_xlabel('Array length')\n",
    "ax.set_ylabel('Time (s)')\n",
    "fig.tight_layout()"
   ]
  },
  {
   "cell_type": "markdown",
   "metadata": {},
   "source": [
    "As shown in the latter figure, the time to setup and and close the experiment is approximately 0.4 sec. In case of small array sizes, the difference between inserting values of data as arrays and inserting them row-by-row is relatively unimportant. At larger array sizes, i.e. above 10000 points, the cost of writing data as individual datapoints starts to become important.\n"
   ]
  },
  {
   "cell_type": "markdown",
   "metadata": {},
   "source": [
    "### Case2: Long experiment time "
   ]
  },
  {
   "cell_type": "code",
   "execution_count": 7,
   "metadata": {
    "execution": {
     "iopub.execute_input": "2021-02-08T17:50:45.178074Z",
     "iopub.status.busy": "2021-02-08T17:50:45.177114Z",
     "iopub.status.idle": "2021-02-08T17:51:41.850168Z",
     "shell.execute_reply": "2021-02-08T17:51:41.849639Z"
    }
   },
   "outputs": [
    {
     "name": "stdout",
     "output_type": "stream",
     "text": [
      "Starting experimental run with id: 15. \n",
      "Starting experimental run with id: 16. \n"
     ]
    },
    {
     "name": "stdout",
     "output_type": "stream",
     "text": [
      "Starting experimental run with id: 17. \n"
     ]
    },
    {
     "name": "stdout",
     "output_type": "stream",
     "text": [
      "Starting experimental run with id: 18. \n",
      "Starting experimental run with id: 19. \n"
     ]
    },
    {
     "name": "stdout",
     "output_type": "stream",
     "text": [
      "Starting experimental run with id: 20. \n"
     ]
    },
    {
     "name": "stdout",
     "output_type": "stream",
     "text": [
      "Starting experimental run with id: 21. \n"
     ]
    },
    {
     "name": "stdout",
     "output_type": "stream",
     "text": [
      "Starting experimental run with id: 22. \n"
     ]
    },
    {
     "name": "stdout",
     "output_type": "stream",
     "text": [
      "Starting experimental run with id: 23. \n"
     ]
    },
    {
     "name": "stdout",
     "output_type": "stream",
     "text": [
      "Starting experimental run with id: 24. \n"
     ]
    },
    {
     "name": "stdout",
     "output_type": "stream",
     "text": [
      "Starting experimental run with id: 25. \n"
     ]
    },
    {
     "name": "stdout",
     "output_type": "stream",
     "text": [
      "Starting experimental run with id: 26. \n"
     ]
    },
    {
     "name": "stdout",
     "output_type": "stream",
     "text": [
      "Starting experimental run with id: 27. \n"
     ]
    },
    {
     "name": "stdout",
     "output_type": "stream",
     "text": [
      "Starting experimental run with id: 28. \n"
     ]
    }
   ],
   "source": [
    "sizes = [1,500,1000,2000,3000,4000,5000]\n",
    "nreps = 100\n",
    "t_numeric = []\n",
    "t_numeric_add = []\n",
    "t_numeric_run_ids = []\n",
    "t_array = []\n",
    "t_array_add = []\n",
    "t_array_run_ids = []\n",
    "for size in sizes:\n",
    "    tn, tna, run_id_n =  insert_data('numeric', size, nreps=nreps)\n",
    "    t_numeric.append(tn)\n",
    "    t_numeric_add.append(tna)\n",
    "    t_numeric_run_ids.append(run_id_n)\n",
    "\n",
    "    ta, taa, run_id_a =  insert_data('array', size, nreps=nreps)\n",
    "    t_array.append(ta)\n",
    "    t_array_add.append(taa)\n",
    "    t_array_run_ids.append(run_id_a)"
   ]
  },
  {
   "cell_type": "code",
   "execution_count": 8,
   "metadata": {
    "execution": {
     "iopub.execute_input": "2021-02-08T17:51:41.870743Z",
     "iopub.status.busy": "2021-02-08T17:51:41.869434Z",
     "iopub.status.idle": "2021-02-08T17:51:42.073174Z",
     "shell.execute_reply": "2021-02-08T17:51:42.073665Z"
    },
    "scrolled": true
   },
   "outputs": [
    {
     "data": {
      "image/png": "[encoded data removed]",
      "text/plain": [
       "<Figure size 432x288 with 1 Axes>"
      ]
     },
     "metadata": {
      "needs_background": "light"
     },
     "output_type": "display_data"
    }
   ],
   "source": [
    "fig, ax = plt.subplots(1,1)\n",
    "ax.plot(sizes, t_numeric, 'o-', label='Inserting row-by-row')\n",
    "ax.plot(sizes, t_numeric_add, 'o-', label='Inserting row-by-row: add_result only')\n",
    "ax.plot(sizes, t_array, 'd-', label='Inserting as binary blob')\n",
    "ax.plot(sizes, t_array_add, 'd-', label='Inserting as binary blob: add_result only')\n",
    "ax.legend()\n",
    "ax.set_xlabel('Array length')\n",
    "ax.set_ylabel('Time (s)')\n",
    "fig.tight_layout()"
   ]
  },
  {
   "cell_type": "markdown",
   "metadata": {},
   "source": [
    "However, as we increase the length of the experiment, as seen here by repeating the insertion 100 times, we see a big difference between inserting values of the data row-by-row and inserting it as a binary blob."
   ]
  },
  {
   "cell_type": "markdown",
   "metadata": {},
   "source": [
    "## Loading the data "
   ]
  },
  {
   "cell_type": "code",
   "execution_count": 9,
   "metadata": {
    "execution": {
     "iopub.execute_input": "2021-02-08T17:51:42.078533Z",
     "iopub.status.busy": "2021-02-08T17:51:42.077473Z",
     "iopub.status.idle": "2021-02-08T17:51:42.081107Z",
     "shell.execute_reply": "2021-02-08T17:51:42.080457Z"
    }
   },
   "outputs": [],
   "source": [
    "from qcodes.dataset.data_set import load_by_id\n",
    "from qcodes.dataset.data_export import get_data_by_id"
   ]
  },
  {
   "cell_type": "markdown",
   "metadata": {},
   "source": [
    "As usual you can load the data by using the ``load_by_id`` function but you will notice that the different storage methods\n",
    "are reflected in shape of the data as it is retrieved. "
   ]
  },
  {
   "cell_type": "code",
   "execution_count": 10,
   "metadata": {
    "execution": {
     "iopub.execute_input": "2021-02-08T17:51:42.084751Z",
     "iopub.status.busy": "2021-02-08T17:51:42.084181Z",
     "iopub.status.idle": "2021-02-08T17:51:42.086232Z",
     "shell.execute_reply": "2021-02-08T17:51:42.086726Z"
    }
   },
   "outputs": [],
   "source": [
    "run_id_n = t_numeric_run_ids[0]\n",
    "run_id_a = t_array_run_ids[0]"
   ]
  },
  {
   "cell_type": "code",
   "execution_count": 11,
   "metadata": {
    "execution": {
     "iopub.execute_input": "2021-02-08T17:51:42.090163Z",
     "iopub.status.busy": "2021-02-08T17:51:42.089514Z",
     "iopub.status.idle": "2021-02-08T17:51:42.099259Z",
     "shell.execute_reply": "2021-02-08T17:51:42.099725Z"
    },
    "scrolled": true
   },
   "outputs": [
    {
     "data": {
      "text/plain": [
       "{'x1': {'x1': array([0.04930634, 0.04930634, 0.51525246, 0.51525246, 0.97780905,\n",
       "         0.97780905, 0.72915217, 0.72915217, 0.79068939, 0.79068939,\n",
       "         0.12834633, 0.12834633, 0.7512335 , 0.7512335 , 0.56785328,\n",
       "         0.56785328, 0.12397499, 0.12397499, 0.4046503 , 0.4046503 ,\n",
       "         0.56780716, 0.56780716, 0.42713603, 0.42713603, 0.60077402,\n",
       "         0.60077402, 0.66114439, 0.66114439, 0.53976643, 0.53976643,\n",
       "         0.82458678, 0.82458678, 0.68736212, 0.68736212, 0.31013282,\n",
       "         0.31013282, 0.2944696 , 0.2944696 , 0.86622002, 0.86622002,\n",
       "         0.77593073, 0.77593073, 0.83123528, 0.83123528, 0.18840167,\n",
       "         0.18840167, 0.68525462, 0.68525462, 0.57895848, 0.57895848,\n",
       "         0.51431014, 0.51431014, 0.82493459, 0.82493459, 0.86848585,\n",
       "         0.86848585, 0.81492927, 0.81492927, 0.17519875, 0.17519875,\n",
       "         0.15226726, 0.15226726, 0.6633717 , 0.6633717 , 0.97580369,\n",
       "         0.97580369, 0.0439905 , 0.0439905 , 0.0415902 , 0.0415902 ,\n",
       "         0.11218164, 0.11218164, 0.32384679, 0.32384679, 0.71089881,\n",
       "         0.71089881, 0.94288414, 0.94288414, 0.85897505, 0.85897505,\n",
       "         0.56304138, 0.56304138, 0.44143661, 0.44143661, 0.9443917 ,\n",
       "         0.9443917 , 0.11686158, 0.11686158, 0.77092588, 0.77092588,\n",
       "         0.14382946, 0.14382946, 0.58930401, 0.58930401, 0.83774774,\n",
       "         0.83774774, 0.71773885, 0.71773885, 0.84982239, 0.84982239,\n",
       "         0.35942257, 0.35942257, 0.6450248 , 0.6450248 , 0.27936181,\n",
       "         0.27936181, 0.30244754, 0.30244754, 0.31207718, 0.31207718,\n",
       "         0.24412809, 0.24412809, 0.64702222, 0.64702222, 0.00759011,\n",
       "         0.00759011, 0.67043352, 0.67043352, 0.92759701, 0.92759701,\n",
       "         0.80721814, 0.80721814, 0.44169518, 0.44169518, 0.84340467,\n",
       "         0.84340467, 0.66309426, 0.66309426, 0.59570001, 0.59570001,\n",
       "         0.86529054, 0.86529054, 0.43595388, 0.43595388, 0.17540958,\n",
       "         0.17540958, 0.19132648, 0.19132648, 0.46633191, 0.46633191,\n",
       "         0.99383594, 0.99383594, 0.87712964, 0.87712964, 0.66532125,\n",
       "         0.66532125, 0.7656325 , 0.7656325 , 0.9382097 , 0.9382097 ,\n",
       "         0.65111966, 0.65111966, 0.3465203 , 0.3465203 , 0.35340506,\n",
       "         0.35340506, 0.80200155, 0.80200155, 0.46508538, 0.46508538,\n",
       "         0.82360796, 0.82360796, 0.25000221, 0.25000221, 0.44142019,\n",
       "         0.44142019, 0.44794639, 0.44794639, 0.89288377, 0.89288377,\n",
       "         0.17994171, 0.17994171, 0.47873154, 0.47873154, 0.82098561,\n",
       "         0.82098561, 0.02467684, 0.02467684, 0.43003647, 0.43003647,\n",
       "         0.79574724, 0.79574724, 0.05009111, 0.05009111, 0.73304336,\n",
       "         0.73304336, 0.77583726, 0.77583726, 0.99685931, 0.99685931,\n",
       "         0.84613007, 0.84613007, 0.97718683, 0.97718683, 0.43211872,\n",
       "         0.43211872, 0.21903434, 0.21903434, 0.52910329, 0.52910329])}}"
      ]
     },
     "execution_count": 1,
     "metadata": {},
     "output_type": "execute_result"
    }
   ],
   "source": [
    "ds = load_by_id(run_id_n)\n",
    "ds.get_parameter_data('x1')"
   ]
  },
  {
   "cell_type": "markdown",
   "metadata": {},
   "source": [
    "And a dataset stored as binary arrays"
   ]
  },
  {
   "cell_type": "code",
   "execution_count": 12,
   "metadata": {
    "execution": {
     "iopub.execute_input": "2021-02-08T17:51:42.103108Z",
     "iopub.status.busy": "2021-02-08T17:51:42.102474Z",
     "iopub.status.idle": "2021-02-08T17:51:42.166511Z",
     "shell.execute_reply": "2021-02-08T17:51:42.166978Z"
    },
    "scrolled": true
   },
   "outputs": [
    {
     "data": {
      "text/plain": [
       "{'x1': {'x1': array([[0.27781337],\n",
       "         [0.27781337],\n",
       "         [0.95219406],\n",
       "         [0.95219406],\n",
       "         [0.22295895],\n",
       "         [0.22295895],\n",
       "         [0.42320064],\n",
       "         [0.42320064],\n",
       "         [0.15609419],\n",
       "         [0.15609419],\n",
       "         [0.4072383 ],\n",
       "         [0.4072383 ],\n",
       "         [0.78782688],\n",
       "         [0.78782688],\n",
       "         [0.77508765],\n",
       "         [0.77508765],\n",
       "         [0.50940636],\n",
       "         [0.50940636],\n",
       "         [0.38478065],\n",
       "         [0.38478065],\n",
       "         [0.45236458],\n",
       "         [0.45236458],\n",
       "         [0.09956933],\n",
       "         [0.09956933],\n",
       "         [0.30004627],\n",
       "         [0.30004627],\n",
       "         [0.02926944],\n",
       "         [0.02926944],\n",
       "         [0.07488446],\n",
       "         [0.07488446],\n",
       "         [0.50995685],\n",
       "         [0.50995685],\n",
       "         [0.09054106],\n",
       "         [0.09054106],\n",
       "         [0.16463914],\n",
       "         [0.16463914],\n",
       "         [0.78431773],\n",
       "         [0.78431773],\n",
       "         [0.0747389 ],\n",
       "         [0.0747389 ],\n",
       "         [0.77817697],\n",
       "         [0.77817697],\n",
       "         [0.25867477],\n",
       "         [0.25867477],\n",
       "         [0.22535474],\n",
       "         [0.22535474],\n",
       "         [0.9813331 ],\n",
       "         [0.9813331 ],\n",
       "         [0.69966829],\n",
       "         [0.69966829],\n",
       "         [0.76125784],\n",
       "         [0.76125784],\n",
       "         [0.61288982],\n",
       "         [0.61288982],\n",
       "         [0.21655039],\n",
       "         [0.21655039],\n",
       "         [0.54043135],\n",
       "         [0.54043135],\n",
       "         [0.88229453],\n",
       "         [0.88229453],\n",
       "         [0.38791411],\n",
       "         [0.38791411],\n",
       "         [0.42130739],\n",
       "         [0.42130739],\n",
       "         [0.61711985],\n",
       "         [0.61711985],\n",
       "         [0.64469514],\n",
       "         [0.64469514],\n",
       "         [0.2620619 ],\n",
       "         [0.2620619 ],\n",
       "         [0.61018686],\n",
       "         [0.61018686],\n",
       "         [0.66279961],\n",
       "         [0.66279961],\n",
       "         [0.84689149],\n",
       "         [0.84689149],\n",
       "         [0.83423312],\n",
       "         [0.83423312],\n",
       "         [0.12214684],\n",
       "         [0.12214684],\n",
       "         [0.03520065],\n",
       "         [0.03520065],\n",
       "         [0.61211772],\n",
       "         [0.61211772],\n",
       "         [0.43724204],\n",
       "         [0.43724204],\n",
       "         [0.05480466],\n",
       "         [0.05480466],\n",
       "         [0.43604622],\n",
       "         [0.43604622],\n",
       "         [0.37871375],\n",
       "         [0.37871375],\n",
       "         [0.84843713],\n",
       "         [0.84843713],\n",
       "         [0.70211567],\n",
       "         [0.70211567],\n",
       "         [0.96069272],\n",
       "         [0.96069272],\n",
       "         [0.68236272],\n",
       "         [0.68236272],\n",
       "         [0.07260353],\n",
       "         [0.07260353],\n",
       "         [0.54238631],\n",
       "         [0.54238631],\n",
       "         [0.78478407],\n",
       "         [0.78478407],\n",
       "         [0.06281549],\n",
       "         [0.06281549],\n",
       "         [0.66514184],\n",
       "         [0.66514184],\n",
       "         [0.59303356],\n",
       "         [0.59303356],\n",
       "         [0.56595864],\n",
       "         [0.56595864],\n",
       "         [0.8127354 ],\n",
       "         [0.8127354 ],\n",
       "         [0.15569251],\n",
       "         [0.15569251],\n",
       "         [0.7485646 ],\n",
       "         [0.7485646 ],\n",
       "         [0.5607521 ],\n",
       "         [0.5607521 ],\n",
       "         [0.51911202],\n",
       "         [0.51911202],\n",
       "         [0.32329019],\n",
       "         [0.32329019],\n",
       "         [0.08456931],\n",
       "         [0.08456931],\n",
       "         [0.92959247],\n",
       "         [0.92959247],\n",
       "         [0.75383076],\n",
       "         [0.75383076],\n",
       "         [0.07675863],\n",
       "         [0.07675863],\n",
       "         [0.72185555],\n",
       "         [0.72185555],\n",
       "         [0.22271275],\n",
       "         [0.22271275],\n",
       "         [0.53890072],\n",
       "         [0.53890072],\n",
       "         [0.5543119 ],\n",
       "         [0.5543119 ],\n",
       "         [0.96263825],\n",
       "         [0.96263825],\n",
       "         [0.77528291],\n",
       "         [0.77528291],\n",
       "         [0.57179316],\n",
       "         [0.57179316],\n",
       "         [0.41350317],\n",
       "         [0.41350317],\n",
       "         [0.76799742],\n",
       "         [0.76799742],\n",
       "         [0.83067495],\n",
       "         [0.83067495],\n",
       "         [0.60069012],\n",
       "         [0.60069012],\n",
       "         [0.27325235],\n",
       "         [0.27325235],\n",
       "         [0.84403026],\n",
       "         [0.84403026],\n",
       "         [0.16274077],\n",
       "         [0.16274077],\n",
       "         [0.74608898],\n",
       "         [0.74608898],\n",
       "         [0.72024733],\n",
       "         [0.72024733],\n",
       "         [0.25221097],\n",
       "         [0.25221097],\n",
       "         [0.27022113],\n",
       "         [0.27022113],\n",
       "         [0.71241117],\n",
       "         [0.71241117],\n",
       "         [0.27781065],\n",
       "         [0.27781065],\n",
       "         [0.13434453],\n",
       "         [0.13434453],\n",
       "         [0.1917989 ],\n",
       "         [0.1917989 ],\n",
       "         [0.53885737],\n",
       "         [0.53885737],\n",
       "         [0.82233739],\n",
       "         [0.82233739],\n",
       "         [0.17414756],\n",
       "         [0.17414756],\n",
       "         [0.49142039],\n",
       "         [0.49142039],\n",
       "         [0.67170733],\n",
       "         [0.67170733],\n",
       "         [0.2033575 ],\n",
       "         [0.2033575 ],\n",
       "         [0.76356234],\n",
       "         [0.76356234],\n",
       "         [0.03448889],\n",
       "         [0.03448889],\n",
       "         [0.54989132],\n",
       "         [0.54989132],\n",
       "         [0.61616452],\n",
       "         [0.61616452],\n",
       "         [0.37280727],\n",
       "         [0.37280727]])}}"
      ]
     },
     "execution_count": 1,
     "metadata": {},
     "output_type": "execute_result"
    }
   ],
   "source": [
    "ds = load_by_id(run_id_a)\n",
    "ds.get_parameter_data('x1')"
   ]
  },
  {
   "cell_type": "code",
   "execution_count": null,
   "metadata": {},
   "outputs": [],
   "source": []
  }
 ],
 "metadata": {
  "kernelspec": {
   "display_name": "Python 3",
   "language": "python",
   "name": "python3"
  },
  "language_info": {
   "codemirror_mode": {
    "name": "ipython",
    "version": 3
   },
   "file_extension": ".py",
   "mimetype": "text/x-python",
   "name": "python",
   "nbconvert_exporter": "python",
   "pygments_lexer": "ipython3",
   "version": "3.7.9"
  },
  "nbsphinx": {
   "timeout": 600
  },
  "toc": {
   "base_numbering": 1,
   "nav_menu": {},
   "number_sections": true,
   "sideBar": true,
   "skip_h1_title": false,
   "title_cell": "Table of Contents",
   "title_sidebar": "Contents",
   "toc_cell": false,
   "toc_position": {},
   "toc_section_display": true,
   "toc_window_display": false
  },
  "varInspector": {
   "cols": {
    "lenName": 16,
    "lenType": 16,
    "lenVar": 40
   },
   "kernels_config": {
    "python": {
     "delete_cmd_postfix": "",
     "delete_cmd_prefix": "del ",
     "library": "var_list.py",
     "varRefreshCmd": "print(var_dic_list())"
    },
    "r": {
     "delete_cmd_postfix": ") ",
     "delete_cmd_prefix": "rm(",
     "library": "var_list.r",
     "varRefreshCmd": "cat(var_dic_list()) "
    }
   },
   "types_to_exclude": [
    "module",
    "function",
    "builtin_function_or_method",
    "instance",
    "_Feature"
   ],
   "window_display": false
  }
 },
 "nbformat": 4,
 "nbformat_minor": 2
}
