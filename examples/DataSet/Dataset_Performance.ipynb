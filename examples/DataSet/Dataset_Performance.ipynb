{
 "cells": [
  {
   "cell_type": "markdown",
   "metadata": {},
   "source": [
    "# DataSet Performance\n",
    "\n",
    "This notebook shows the trade-off between inserting data into a database row-by-row and as binary blobs. Inserting the data row-by-row means that we have direct access to all the data and may perform queries directly on the values of the data. On the other hand, as we shall see, this is much slower than inserting the data directly as binary blobs."
   ]
  },
  {
   "cell_type": "markdown",
   "metadata": {},
   "source": [
    "First, we choose a new location for the database to ensure that we don't add a bunch of benchmarking data to the default one."
   ]
  },
  {
   "cell_type": "code",
   "execution_count": 1,
   "metadata": {
    "execution": {
     "iopub.execute_input": "2021-05-21T08:32:45.153034Z",
     "iopub.status.busy": "2021-05-21T08:32:45.152410Z",
     "iopub.status.idle": "2021-05-21T08:32:46.493479Z",
     "shell.execute_reply": "2021-05-21T08:32:46.492764Z"
    }
   },
   "outputs": [
    {
     "name": "stdout",
     "output_type": "stream",
     "text": [
      "Logging hadn't been started.\n",
      "Activating auto-logging. Current session state plus future input saved.\n",
      "Filename       : /home/runner/.qcodes/logs/command_history.log\n",
      "Mode           : append\n",
      "Output logging : True\n",
      "Raw input log  : False\n",
      "Timestamping   : True\n",
      "State          : active\n"
     ]
    },
    {
     "name": "stdout",
     "output_type": "stream",
     "text": [
      "Qcodes Logfile : /home/runner/.qcodes/logs/210521-4479-qcodes.log\n"
     ]
    }
   ],
   "source": [
    "import os\n",
    "cwd = os.getcwd()\n",
    "import qcodes as qc\n",
    "qc.config[\"core\"][\"db_location\"] = os.path.join(cwd, 'testing.db')\n"
   ]
  },
  {
   "cell_type": "code",
   "execution_count": 2,
   "metadata": {
    "execution": {
     "iopub.execute_input": "2021-05-21T08:32:46.503454Z",
     "iopub.status.busy": "2021-05-21T08:32:46.502497Z",
     "iopub.status.idle": "2021-05-21T08:32:46.725671Z",
     "shell.execute_reply": "2021-05-21T08:32:46.726249Z"
    }
   },
   "outputs": [],
   "source": [
    "%matplotlib inline\n",
    "import time\n",
    "import matplotlib.pyplot as plt\n",
    "import numpy as np\n",
    "\n",
    "import qcodes as qc\n",
    "from qcodes.instrument.parameter import ManualParameter\n",
    "from qcodes.dataset.experiment_container import (Experiment,\n",
    "                                                 load_last_experiment,\n",
    "                                                 new_experiment)\n",
    "from qcodes.dataset.sqlite.database import initialise_database\n",
    "from qcodes import load_or_create_experiment\n",
    "from qcodes.dataset.measurements import Measurement"
   ]
  },
  {
   "cell_type": "code",
   "execution_count": 3,
   "metadata": {
    "execution": {
     "iopub.execute_input": "2021-05-21T08:32:46.733401Z",
     "iopub.status.busy": "2021-05-21T08:32:46.732618Z",
     "iopub.status.idle": "2021-05-21T08:32:46.855446Z",
     "shell.execute_reply": "2021-05-21T08:32:46.854774Z"
    }
   },
   "outputs": [
    {
     "name": "stdout",
     "output_type": "stream",
     "text": [
      "\r",
      "0it [00:00, ?it/s]"
     ]
    },
    {
     "name": "stdout",
     "output_type": "stream",
     "text": [
      "\r",
      "Upgrading database; v0 -> v1: : 0it [00:00, ?it/s]"
     ]
    },
    {
     "name": "stdout",
     "output_type": "stream",
     "text": [
      "\r",
      "Upgrading database; v0 -> v1: : 0it [00:00, ?it/s]"
     ]
    },
    {
     "name": "stdout",
     "output_type": "stream",
     "text": [
      "\n",
      "\r",
      "  0%|          | 0/1 [00:00<?, ?it/s]"
     ]
    },
    {
     "name": "stdout",
     "output_type": "stream",
     "text": [
      "\r",
      "Upgrading database; v1 -> v2:   0%|          | 0/1 [00:00<?, ?it/s]"
     ]
    },
    {
     "name": "stdout",
     "output_type": "stream",
     "text": [
      "\r",
      "Upgrading database; v1 -> v2: 100%|██████████| 1/1 [00:00<00:00, 382.31it/s]"
     ]
    },
    {
     "name": "stdout",
     "output_type": "stream",
     "text": [
      "\n",
      "\r",
      "0it [00:00, ?it/s]"
     ]
    },
    {
     "name": "stdout",
     "output_type": "stream",
     "text": [
      "\r",
      "Upgrading database; v2 -> v3: : 0it [00:00, ?it/s]"
     ]
    },
    {
     "name": "stdout",
     "output_type": "stream",
     "text": [
      "\r",
      "Upgrading database; v2 -> v3: : 0it [00:00, ?it/s]"
     ]
    },
    {
     "name": "stdout",
     "output_type": "stream",
     "text": [
      "\n",
      "\r",
      "0it [00:00, ?it/s]"
     ]
    },
    {
     "name": "stdout",
     "output_type": "stream",
     "text": [
      "\r",
      "Upgrading database; v3 -> v4: : 0it [00:00, ?it/s]"
     ]
    },
    {
     "name": "stdout",
     "output_type": "stream",
     "text": [
      "\r",
      "Upgrading database; v3 -> v4: : 0it [00:00, ?it/s]"
     ]
    },
    {
     "name": "stdout",
     "output_type": "stream",
     "text": [
      "\n",
      "\r",
      "  0%|          | 0/1 [00:00<?, ?it/s]"
     ]
    },
    {
     "name": "stdout",
     "output_type": "stream",
     "text": [
      "\r",
      "Upgrading database; v4 -> v5:   0%|          | 0/1 [00:00<?, ?it/s]"
     ]
    },
    {
     "name": "stdout",
     "output_type": "stream",
     "text": [
      "\r",
      "Upgrading database; v4 -> v5: 100%|██████████| 1/1 [00:00<00:00, 674.11it/s]"
     ]
    },
    {
     "name": "stdout",
     "output_type": "stream",
     "text": [
      "\n",
      "\r",
      "0it [00:00, ?it/s]"
     ]
    },
    {
     "name": "stdout",
     "output_type": "stream",
     "text": [
      "\r",
      "Upgrading database; v5 -> v6: : 0it [00:00, ?it/s]"
     ]
    },
    {
     "name": "stdout",
     "output_type": "stream",
     "text": [
      "\r",
      "Upgrading database; v5 -> v6: : 0it [00:00, ?it/s]"
     ]
    },
    {
     "name": "stdout",
     "output_type": "stream",
     "text": [
      "\n",
      "\r",
      "  0%|          | 0/1 [00:00<?, ?it/s]"
     ]
    },
    {
     "name": "stdout",
     "output_type": "stream",
     "text": [
      "\r",
      "Upgrading database; v6 -> v7:   0%|          | 0/1 [00:00<?, ?it/s]"
     ]
    },
    {
     "name": "stdout",
     "output_type": "stream",
     "text": [
      "\r",
      "Upgrading database; v6 -> v7: 100%|██████████| 1/1 [00:00<00:00, 244.87it/s]"
     ]
    },
    {
     "name": "stdout",
     "output_type": "stream",
     "text": [
      "\n",
      "\r",
      "  0%|          | 0/1 [00:00<?, ?it/s]"
     ]
    },
    {
     "name": "stdout",
     "output_type": "stream",
     "text": [
      "\r",
      "Upgrading database; v7 -> v8:   0%|          | 0/1 [00:00<?, ?it/s]"
     ]
    },
    {
     "name": "stdout",
     "output_type": "stream",
     "text": [
      "\r",
      "Upgrading database; v7 -> v8: 100%|██████████| 1/1 [00:00<00:00, 1012.38it/s]"
     ]
    },
    {
     "name": "stdout",
     "output_type": "stream",
     "text": [
      "\n",
      "\r",
      "  0%|          | 0/1 [00:00<?, ?it/s]"
     ]
    },
    {
     "name": "stdout",
     "output_type": "stream",
     "text": [
      "\r",
      "Upgrading database; v8 -> v9:   0%|          | 0/1 [00:00<?, ?it/s]"
     ]
    },
    {
     "name": "stdout",
     "output_type": "stream",
     "text": [
      "\r",
      "Upgrading database; v8 -> v9: 100%|██████████| 1/1 [00:00<00:00, 564.59it/s]"
     ]
    },
    {
     "name": "stdout",
     "output_type": "stream",
     "text": [
      "\n"
     ]
    }
   ],
   "source": [
    "initialise_database()\n",
    "exp = load_or_create_experiment(experiment_name='tutorial_exp', sample_name=\"no sample\")"
   ]
  },
  {
   "cell_type": "markdown",
   "metadata": {},
   "source": [
    "Here, we define a simple function to benchmark the time it takes to insert n points with either numeric or array data type.\n",
    "We will compare both the time used to call ``add_result`` and the time used for the full measurement."
   ]
  },
  {
   "cell_type": "code",
   "execution_count": 4,
   "metadata": {
    "execution": {
     "iopub.execute_input": "2021-05-21T08:32:46.865077Z",
     "iopub.status.busy": "2021-05-21T08:32:46.863712Z",
     "iopub.status.idle": "2021-05-21T08:32:46.867639Z",
     "shell.execute_reply": "2021-05-21T08:32:46.868155Z"
    }
   },
   "outputs": [],
   "source": [
    "def insert_data(paramtype, npoints, nreps=1):\n",
    "\n",
    "    meas = Measurement(exp=exp)\n",
    "\n",
    "    x1 = ManualParameter('x1')\n",
    "    x2 = ManualParameter('x2')\n",
    "    x3 = ManualParameter('x3')\n",
    "    y1 = ManualParameter('y1')\n",
    "    y2 = ManualParameter('y2')\n",
    "\n",
    "    meas.register_parameter(x1, paramtype=paramtype)\n",
    "    meas.register_parameter(x2, paramtype=paramtype)\n",
    "    meas.register_parameter(x3, paramtype=paramtype)\n",
    "    meas.register_parameter(y1, setpoints=[x1, x2, x3],\n",
    "                            paramtype=paramtype)\n",
    "    meas.register_parameter(y2, setpoints=[x1, x2, x3],\n",
    "                            paramtype=paramtype)\n",
    "    start = time.perf_counter()\n",
    "    with meas.run() as datasaver:\n",
    "        start_adding = time.perf_counter()\n",
    "        for i in range(nreps):\n",
    "            datasaver.add_result((x1, np.random.rand(npoints)),\n",
    "                                 (x2, np.random.rand(npoints)),\n",
    "                                 (x3, np.random.rand(npoints)),\n",
    "                                 (y1, np.random.rand(npoints)),\n",
    "                                 (y2, np.random.rand(npoints)))\n",
    "        stop_adding = time.perf_counter()\n",
    "        run_id = datasaver.run_id\n",
    "    stop = time.perf_counter()\n",
    "    tot_time = stop - start\n",
    "    add_time = stop_adding - start_adding\n",
    "    return tot_time, add_time, run_id"
   ]
  },
  {
   "cell_type": "markdown",
   "metadata": {},
   "source": [
    "## Comparison between numeric/array data and binary blob"
   ]
  },
  {
   "cell_type": "markdown",
   "metadata": {},
   "source": [
    "### Case1: Short experiment time"
   ]
  },
  {
   "cell_type": "code",
   "execution_count": 5,
   "metadata": {
    "execution": {
     "iopub.execute_input": "2021-05-21T08:32:46.875711Z",
     "iopub.status.busy": "2021-05-21T08:32:46.874022Z",
     "iopub.status.idle": "2021-05-21T08:32:47.843217Z",
     "shell.execute_reply": "2021-05-21T08:32:47.842432Z"
    }
   },
   "outputs": [
    {
     "name": "stdout",
     "output_type": "stream",
     "text": [
      "Starting experimental run with id: 1. \n",
      "Starting experimental run with id: 2. \n",
      "Starting experimental run with id: 3. \n"
     ]
    },
    {
     "name": "stdout",
     "output_type": "stream",
     "text": [
      "Starting experimental run with id: 4. \n"
     ]
    },
    {
     "name": "stdout",
     "output_type": "stream",
     "text": [
      "Starting experimental run with id: 5. \n"
     ]
    },
    {
     "name": "stdout",
     "output_type": "stream",
     "text": [
      "Starting experimental run with id: 6. \n",
      "Starting experimental run with id: 7. \n",
      "Starting experimental run with id: 8. \n",
      "Starting experimental run with id: 9. \n"
     ]
    },
    {
     "name": "stdout",
     "output_type": "stream",
     "text": [
      "Starting experimental run with id: 10. \n",
      "Starting experimental run with id: 11. \n"
     ]
    },
    {
     "name": "stdout",
     "output_type": "stream",
     "text": [
      "Starting experimental run with id: 12. \n",
      "Starting experimental run with id: 13. \n"
     ]
    },
    {
     "name": "stdout",
     "output_type": "stream",
     "text": [
      "Starting experimental run with id: 14. \n"
     ]
    }
   ],
   "source": [
    "sizes = [1,500,1000,2000,3000,4000,5000]\n",
    "t_numeric = []\n",
    "t_numeric_add = []\n",
    "t_array = []\n",
    "t_array_add = []\n",
    "for size in sizes:\n",
    "    tn, tna, run_id_n =  insert_data('numeric', size)\n",
    "    t_numeric.append(tn)\n",
    "    t_numeric_add.append(tna)\n",
    "\n",
    "    ta, taa, run_id_a =  insert_data('array', size)\n",
    "    t_array.append(ta)\n",
    "    t_array_add.append(taa)"
   ]
  },
  {
   "cell_type": "code",
   "execution_count": 6,
   "metadata": {
    "execution": {
     "iopub.execute_input": "2021-05-21T08:32:47.877033Z",
     "iopub.status.busy": "2021-05-21T08:32:47.863645Z",
     "iopub.status.idle": "2021-05-21T08:32:48.122641Z",
     "shell.execute_reply": "2021-05-21T08:32:48.122049Z"
    }
   },
   "outputs": [
    {
     "data": {
      "image/png": "[encoded data removed]",
      "text/plain": [
       "<Figure size 432x288 with 1 Axes>"
      ]
     },
     "metadata": {
      "needs_background": "light"
     },
     "output_type": "display_data"
    }
   ],
   "source": [
    "fig, ax = plt.subplots(1,1)\n",
    "ax.plot(sizes, t_numeric, 'o-', label='Inserting row-by-row')\n",
    "ax.plot(sizes, t_numeric_add, 'o-', label='Inserting row-by-row: add_result only')\n",
    "ax.plot(sizes, t_array, 'd-', label='Inserting as binary blob')\n",
    "ax.plot(sizes, t_array_add, 'd-', label='Inserting as binary blob: add_result only')\n",
    "ax.legend()\n",
    "ax.set_xlabel('Array length')\n",
    "ax.set_ylabel('Time (s)')\n",
    "fig.tight_layout()"
   ]
  },
  {
   "cell_type": "markdown",
   "metadata": {},
   "source": [
    "As shown in the latter figure, the time to setup and and close the experiment is approximately 0.4 sec. In case of small array sizes, the difference between inserting values of data as arrays and inserting them row-by-row is relatively unimportant. At larger array sizes, i.e. above 10000 points, the cost of writing data as individual datapoints starts to become important.\n"
   ]
  },
  {
   "cell_type": "markdown",
   "metadata": {},
   "source": [
    "### Case2: Long experiment time "
   ]
  },
  {
   "cell_type": "code",
   "execution_count": 7,
   "metadata": {
    "execution": {
     "iopub.execute_input": "2021-05-21T08:32:48.190382Z",
     "iopub.status.busy": "2021-05-21T08:32:48.129624Z",
     "iopub.status.idle": "2021-05-21T08:33:48.005578Z",
     "shell.execute_reply": "2021-05-21T08:33:48.006463Z"
    }
   },
   "outputs": [
    {
     "name": "stdout",
     "output_type": "stream",
     "text": [
      "Starting experimental run with id: 15. \n",
      "Starting experimental run with id: 16. \n"
     ]
    },
    {
     "name": "stdout",
     "output_type": "stream",
     "text": [
      "Starting experimental run with id: 17. \n"
     ]
    },
    {
     "name": "stdout",
     "output_type": "stream",
     "text": [
      "Starting experimental run with id: 18. \n"
     ]
    },
    {
     "name": "stdout",
     "output_type": "stream",
     "text": [
      "Starting experimental run with id: 19. \n"
     ]
    },
    {
     "name": "stdout",
     "output_type": "stream",
     "text": [
      "Starting experimental run with id: 20. \n"
     ]
    },
    {
     "name": "stdout",
     "output_type": "stream",
     "text": [
      "Starting experimental run with id: 21. \n"
     ]
    },
    {
     "name": "stdout",
     "output_type": "stream",
     "text": [
      "Starting experimental run with id: 22. \n"
     ]
    },
    {
     "name": "stdout",
     "output_type": "stream",
     "text": [
      "Starting experimental run with id: 23. \n"
     ]
    },
    {
     "name": "stdout",
     "output_type": "stream",
     "text": [
      "Starting experimental run with id: 24. \n"
     ]
    },
    {
     "name": "stdout",
     "output_type": "stream",
     "text": [
      "Starting experimental run with id: 25. \n"
     ]
    },
    {
     "name": "stdout",
     "output_type": "stream",
     "text": [
      "Starting experimental run with id: 26. \n"
     ]
    },
    {
     "name": "stdout",
     "output_type": "stream",
     "text": [
      "Starting experimental run with id: 27. \n"
     ]
    },
    {
     "name": "stdout",
     "output_type": "stream",
     "text": [
      "Starting experimental run with id: 28. \n"
     ]
    }
   ],
   "source": [
    "sizes = [1,500,1000,2000,3000,4000,5000]\n",
    "nreps = 100\n",
    "t_numeric = []\n",
    "t_numeric_add = []\n",
    "t_numeric_run_ids = []\n",
    "t_array = []\n",
    "t_array_add = []\n",
    "t_array_run_ids = []\n",
    "for size in sizes:\n",
    "    tn, tna, run_id_n =  insert_data('numeric', size, nreps=nreps)\n",
    "    t_numeric.append(tn)\n",
    "    t_numeric_add.append(tna)\n",
    "    t_numeric_run_ids.append(run_id_n)\n",
    "\n",
    "    ta, taa, run_id_a =  insert_data('array', size, nreps=nreps)\n",
    "    t_array.append(ta)\n",
    "    t_array_add.append(taa)\n",
    "    t_array_run_ids.append(run_id_a)"
   ]
  },
  {
   "cell_type": "code",
   "execution_count": 8,
   "metadata": {
    "execution": {
     "iopub.execute_input": "2021-05-21T08:33:48.061292Z",
     "iopub.status.busy": "2021-05-21T08:33:48.043249Z",
     "iopub.status.idle": "2021-05-21T08:33:48.284812Z",
     "shell.execute_reply": "2021-05-21T08:33:48.284328Z"
    },
    "scrolled": true
   },
   "outputs": [
    {
     "data": {
      "image/png": "[encoded data removed]",
      "text/plain": [
       "<Figure size 432x288 with 1 Axes>"
      ]
     },
     "metadata": {
      "needs_background": "light"
     },
     "output_type": "display_data"
    }
   ],
   "source": [
    "fig, ax = plt.subplots(1,1)\n",
    "ax.plot(sizes, t_numeric, 'o-', label='Inserting row-by-row')\n",
    "ax.plot(sizes, t_numeric_add, 'o-', label='Inserting row-by-row: add_result only')\n",
    "ax.plot(sizes, t_array, 'd-', label='Inserting as binary blob')\n",
    "ax.plot(sizes, t_array_add, 'd-', label='Inserting as binary blob: add_result only')\n",
    "ax.legend()\n",
    "ax.set_xlabel('Array length')\n",
    "ax.set_ylabel('Time (s)')\n",
    "fig.tight_layout()"
   ]
  },
  {
   "cell_type": "markdown",
   "metadata": {},
   "source": [
    "However, as we increase the length of the experiment, as seen here by repeating the insertion 100 times, we see a big difference between inserting values of the data row-by-row and inserting it as a binary blob."
   ]
  },
  {
   "cell_type": "markdown",
   "metadata": {},
   "source": [
    "## Loading the data "
   ]
  },
  {
   "cell_type": "code",
   "execution_count": 9,
   "metadata": {
    "execution": {
     "iopub.execute_input": "2021-05-21T08:33:48.289325Z",
     "iopub.status.busy": "2021-05-21T08:33:48.288757Z",
     "iopub.status.idle": "2021-05-21T08:33:48.292635Z",
     "shell.execute_reply": "2021-05-21T08:33:48.293350Z"
    }
   },
   "outputs": [],
   "source": [
    "from qcodes.dataset.data_set import load_by_id"
   ]
  },
  {
   "cell_type": "markdown",
   "metadata": {},
   "source": [
    "As usual you can load the data by using the ``load_by_id`` function but you will notice that the different storage methods\n",
    "are reflected in shape of the data as it is retrieved. "
   ]
  },
  {
   "cell_type": "code",
   "execution_count": 10,
   "metadata": {
    "execution": {
     "iopub.execute_input": "2021-05-21T08:33:48.298504Z",
     "iopub.status.busy": "2021-05-21T08:33:48.296798Z",
     "iopub.status.idle": "2021-05-21T08:33:48.299136Z",
     "shell.execute_reply": "2021-05-21T08:33:48.299618Z"
    }
   },
   "outputs": [],
   "source": [
    "run_id_n = t_numeric_run_ids[0]\n",
    "run_id_a = t_array_run_ids[0]"
   ]
  },
  {
   "cell_type": "code",
   "execution_count": 11,
   "metadata": {
    "execution": {
     "iopub.execute_input": "2021-05-21T08:33:48.303818Z",
     "iopub.status.busy": "2021-05-21T08:33:48.303248Z",
     "iopub.status.idle": "2021-05-21T08:33:48.314055Z",
     "shell.execute_reply": "2021-05-21T08:33:48.314580Z"
    },
    "scrolled": true
   },
   "outputs": [
    {
     "data": {
      "text/plain": [
       "{'x1': {'x1': array([0.23413562, 0.23413562, 0.84123863, 0.84123863, 0.17408744,\n",
       "         0.17408744, 0.55216669, 0.55216669, 0.25195598, 0.25195598,\n",
       "         0.32356165, 0.32356165, 0.46424736, 0.46424736, 0.28978386,\n",
       "         0.28978386, 0.73472433, 0.73472433, 0.82836598, 0.82836598,\n",
       "         0.40648283, 0.40648283, 0.22362282, 0.22362282, 0.18383512,\n",
       "         0.18383512, 0.88758617, 0.88758617, 0.26845835, 0.26845835,\n",
       "         0.28468844, 0.28468844, 0.43163371, 0.43163371, 0.49372154,\n",
       "         0.49372154, 0.14341687, 0.14341687, 0.66810246, 0.66810246,\n",
       "         0.03502247, 0.03502247, 0.14133191, 0.14133191, 0.11100665,\n",
       "         0.11100665, 0.28513775, 0.28513775, 0.34758975, 0.34758975,\n",
       "         0.59700663, 0.59700663, 0.66608369, 0.66608369, 0.73324837,\n",
       "         0.73324837, 0.07550349, 0.07550349, 0.92286679, 0.92286679,\n",
       "         0.04027333, 0.04027333, 0.77322557, 0.77322557, 0.06371271,\n",
       "         0.06371271, 0.28932095, 0.28932095, 0.62071069, 0.62071069,\n",
       "         0.72234564, 0.72234564, 0.66499301, 0.66499301, 0.94175253,\n",
       "         0.94175253, 0.79788925, 0.79788925, 0.81167032, 0.81167032,\n",
       "         0.09428935, 0.09428935, 0.09632257, 0.09632257, 0.3001422 ,\n",
       "         0.3001422 , 0.58132882, 0.58132882, 0.7170156 , 0.7170156 ,\n",
       "         0.44660606, 0.44660606, 0.48974814, 0.48974814, 0.88853677,\n",
       "         0.88853677, 0.22018157, 0.22018157, 0.30896978, 0.30896978,\n",
       "         0.85253364, 0.85253364, 0.94972208, 0.94972208, 0.20223647,\n",
       "         0.20223647, 0.75908704, 0.75908704, 0.87711013, 0.87711013,\n",
       "         0.03632722, 0.03632722, 0.91188944, 0.91188944, 0.36869878,\n",
       "         0.36869878, 0.47862661, 0.47862661, 0.52459498, 0.52459498,\n",
       "         0.76661452, 0.76661452, 0.43937845, 0.43937845, 0.63157181,\n",
       "         0.63157181, 0.42991091, 0.42991091, 0.89496936, 0.89496936,\n",
       "         0.72130961, 0.72130961, 0.76002214, 0.76002214, 0.04309751,\n",
       "         0.04309751, 0.86707069, 0.86707069, 0.46863134, 0.46863134,\n",
       "         0.5152634 , 0.5152634 , 0.37233781, 0.37233781, 0.42347057,\n",
       "         0.42347057, 0.72723378, 0.72723378, 0.30905673, 0.30905673,\n",
       "         0.58096441, 0.58096441, 0.96667158, 0.96667158, 0.79352629,\n",
       "         0.79352629, 0.60147656, 0.60147656, 0.60585441, 0.60585441,\n",
       "         0.77338995, 0.77338995, 0.19046254, 0.19046254, 0.09473301,\n",
       "         0.09473301, 0.09167712, 0.09167712, 0.08970936, 0.08970936,\n",
       "         0.66931841, 0.66931841, 0.9435209 , 0.9435209 , 0.43801638,\n",
       "         0.43801638, 0.8274154 , 0.8274154 , 0.98601677, 0.98601677,\n",
       "         0.53729324, 0.53729324, 0.06446426, 0.06446426, 0.71980853,\n",
       "         0.71980853, 0.60172226, 0.60172226, 0.65538759, 0.65538759,\n",
       "         0.15811774, 0.15811774, 0.46489755, 0.46489755, 0.29374305,\n",
       "         0.29374305, 0.68560147, 0.68560147, 0.24499919, 0.24499919])}}"
      ]
     },
     "execution_count": 1,
     "metadata": {},
     "output_type": "execute_result"
    }
   ],
   "source": [
    "ds = load_by_id(run_id_n)\n",
    "ds.get_parameter_data('x1')"
   ]
  },
  {
   "cell_type": "markdown",
   "metadata": {},
   "source": [
    "And a dataset stored as binary arrays"
   ]
  },
  {
   "cell_type": "code",
   "execution_count": 12,
   "metadata": {
    "execution": {
     "iopub.execute_input": "2021-05-21T08:33:48.318554Z",
     "iopub.status.busy": "2021-05-21T08:33:48.317820Z",
     "iopub.status.idle": "2021-05-21T08:33:48.393649Z",
     "shell.execute_reply": "2021-05-21T08:33:48.394232Z"
    },
    "scrolled": true
   },
   "outputs": [
    {
     "data": {
      "text/plain": [
       "{'x1': {'x1': array([[0.2971652 ],\n",
       "         [0.2971652 ],\n",
       "         [0.50960069],\n",
       "         [0.50960069],\n",
       "         [0.91709454],\n",
       "         [0.91709454],\n",
       "         [0.91336886],\n",
       "         [0.91336886],\n",
       "         [0.32211047],\n",
       "         [0.32211047],\n",
       "         [0.36467934],\n",
       "         [0.36467934],\n",
       "         [0.63922   ],\n",
       "         [0.63922   ],\n",
       "         [0.57566246],\n",
       "         [0.57566246],\n",
       "         [0.70022179],\n",
       "         [0.70022179],\n",
       "         [0.54956599],\n",
       "         [0.54956599],\n",
       "         [0.465842  ],\n",
       "         [0.465842  ],\n",
       "         [0.37249441],\n",
       "         [0.37249441],\n",
       "         [0.69353129],\n",
       "         [0.69353129],\n",
       "         [0.59178769],\n",
       "         [0.59178769],\n",
       "         [0.98501825],\n",
       "         [0.98501825],\n",
       "         [0.82507462],\n",
       "         [0.82507462],\n",
       "         [0.8637957 ],\n",
       "         [0.8637957 ],\n",
       "         [0.60242827],\n",
       "         [0.60242827],\n",
       "         [0.09400804],\n",
       "         [0.09400804],\n",
       "         [0.87410387],\n",
       "         [0.87410387],\n",
       "         [0.64110252],\n",
       "         [0.64110252],\n",
       "         [0.55292324],\n",
       "         [0.55292324],\n",
       "         [0.97771811],\n",
       "         [0.97771811],\n",
       "         [0.53955729],\n",
       "         [0.53955729],\n",
       "         [0.17534279],\n",
       "         [0.17534279],\n",
       "         [0.13263014],\n",
       "         [0.13263014],\n",
       "         [0.91373326],\n",
       "         [0.91373326],\n",
       "         [0.78893632],\n",
       "         [0.78893632],\n",
       "         [0.42872528],\n",
       "         [0.42872528],\n",
       "         [0.28102919],\n",
       "         [0.28102919],\n",
       "         [0.45301321],\n",
       "         [0.45301321],\n",
       "         [0.88086452],\n",
       "         [0.88086452],\n",
       "         [0.35935829],\n",
       "         [0.35935829],\n",
       "         [0.44773719],\n",
       "         [0.44773719],\n",
       "         [0.10421339],\n",
       "         [0.10421339],\n",
       "         [0.49364578],\n",
       "         [0.49364578],\n",
       "         [0.32493525],\n",
       "         [0.32493525],\n",
       "         [0.07424263],\n",
       "         [0.07424263],\n",
       "         [0.40793994],\n",
       "         [0.40793994],\n",
       "         [0.08787618],\n",
       "         [0.08787618],\n",
       "         [0.88178128],\n",
       "         [0.88178128],\n",
       "         [0.16084793],\n",
       "         [0.16084793],\n",
       "         [0.15082284],\n",
       "         [0.15082284],\n",
       "         [0.80230257],\n",
       "         [0.80230257],\n",
       "         [0.50360069],\n",
       "         [0.50360069],\n",
       "         [0.43376835],\n",
       "         [0.43376835],\n",
       "         [0.60224577],\n",
       "         [0.60224577],\n",
       "         [0.75843834],\n",
       "         [0.75843834],\n",
       "         [0.20621837],\n",
       "         [0.20621837],\n",
       "         [0.13113231],\n",
       "         [0.13113231],\n",
       "         [0.99328948],\n",
       "         [0.99328948],\n",
       "         [0.05919752],\n",
       "         [0.05919752],\n",
       "         [0.03718332],\n",
       "         [0.03718332],\n",
       "         [0.11717356],\n",
       "         [0.11717356],\n",
       "         [0.60854865],\n",
       "         [0.60854865],\n",
       "         [0.00932557],\n",
       "         [0.00932557],\n",
       "         [0.2132315 ],\n",
       "         [0.2132315 ],\n",
       "         [0.34191585],\n",
       "         [0.34191585],\n",
       "         [0.57408977],\n",
       "         [0.57408977],\n",
       "         [0.33177233],\n",
       "         [0.33177233],\n",
       "         [0.22612649],\n",
       "         [0.22612649],\n",
       "         [0.26842804],\n",
       "         [0.26842804],\n",
       "         [0.35600359],\n",
       "         [0.35600359],\n",
       "         [0.91121012],\n",
       "         [0.91121012],\n",
       "         [0.51205156],\n",
       "         [0.51205156],\n",
       "         [0.74176103],\n",
       "         [0.74176103],\n",
       "         [0.91642978],\n",
       "         [0.91642978],\n",
       "         [0.0077753 ],\n",
       "         [0.0077753 ],\n",
       "         [0.75633769],\n",
       "         [0.75633769],\n",
       "         [0.81882682],\n",
       "         [0.81882682],\n",
       "         [0.34122101],\n",
       "         [0.34122101],\n",
       "         [0.91194849],\n",
       "         [0.91194849],\n",
       "         [0.18677987],\n",
       "         [0.18677987],\n",
       "         [0.69665388],\n",
       "         [0.69665388],\n",
       "         [0.71904578],\n",
       "         [0.71904578],\n",
       "         [0.147433  ],\n",
       "         [0.147433  ],\n",
       "         [0.59361701],\n",
       "         [0.59361701],\n",
       "         [0.2547607 ],\n",
       "         [0.2547607 ],\n",
       "         [0.26314868],\n",
       "         [0.26314868],\n",
       "         [0.57433917],\n",
       "         [0.57433917],\n",
       "         [0.47737248],\n",
       "         [0.47737248],\n",
       "         [0.88049079],\n",
       "         [0.88049079],\n",
       "         [0.0629238 ],\n",
       "         [0.0629238 ],\n",
       "         [0.49365885],\n",
       "         [0.49365885],\n",
       "         [0.24379517],\n",
       "         [0.24379517],\n",
       "         [0.72682096],\n",
       "         [0.72682096],\n",
       "         [0.74484505],\n",
       "         [0.74484505],\n",
       "         [0.46853436],\n",
       "         [0.46853436],\n",
       "         [0.75463075],\n",
       "         [0.75463075],\n",
       "         [0.71039127],\n",
       "         [0.71039127],\n",
       "         [0.69132498],\n",
       "         [0.69132498],\n",
       "         [0.3870032 ],\n",
       "         [0.3870032 ],\n",
       "         [0.26348595],\n",
       "         [0.26348595],\n",
       "         [0.26368811],\n",
       "         [0.26368811],\n",
       "         [0.95784081],\n",
       "         [0.95784081],\n",
       "         [0.34971949],\n",
       "         [0.34971949],\n",
       "         [0.80375588],\n",
       "         [0.80375588],\n",
       "         [0.30989882],\n",
       "         [0.30989882],\n",
       "         [0.6117873 ],\n",
       "         [0.6117873 ],\n",
       "         [0.32996385],\n",
       "         [0.32996385]])}}"
      ]
     },
     "execution_count": 1,
     "metadata": {},
     "output_type": "execute_result"
    }
   ],
   "source": [
    "ds = load_by_id(run_id_a)\n",
    "ds.get_parameter_data('x1')"
   ]
  },
  {
   "cell_type": "code",
   "execution_count": null,
   "metadata": {},
   "outputs": [],
   "source": []
  }
 ],
 "metadata": {
  "kernelspec": {
   "display_name": "Python 3",
   "language": "python",
   "name": "python3"
  },
  "language_info": {
   "codemirror_mode": {
    "name": "ipython",
    "version": 3
   },
   "file_extension": ".py",
   "mimetype": "text/x-python",
   "name": "python",
   "nbconvert_exporter": "python",
   "pygments_lexer": "ipython3",
   "version": "3.7.10"
  },
  "nbsphinx": {
   "timeout": 600
  },
  "toc": {
   "base_numbering": 1,
   "nav_menu": {},
   "number_sections": true,
   "sideBar": true,
   "skip_h1_title": false,
   "title_cell": "Table of Contents",
   "title_sidebar": "Contents",
   "toc_cell": false,
   "toc_position": {},
   "toc_section_display": true,
   "toc_window_display": false
  },
  "varInspector": {
   "cols": {
    "lenName": 16,
    "lenType": 16,
    "lenVar": 40
   },
   "kernels_config": {
    "python": {
     "delete_cmd_postfix": "",
     "delete_cmd_prefix": "del ",
     "library": "var_list.py",
     "varRefreshCmd": "print(var_dic_list())"
    },
    "r": {
     "delete_cmd_postfix": ") ",
     "delete_cmd_prefix": "rm(",
     "library": "var_list.r",
     "varRefreshCmd": "cat(var_dic_list()) "
    }
   },
   "types_to_exclude": [
    "module",
    "function",
    "builtin_function_or_method",
    "instance",
    "_Feature"
   ],
   "window_display": false
  }
 },
 "nbformat": 4,
 "nbformat_minor": 4
}
