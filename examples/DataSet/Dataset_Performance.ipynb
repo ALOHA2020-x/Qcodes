{
 "cells": [
  {
   "cell_type": "markdown",
   "metadata": {},
   "source": [
    "# DataSet Performance\n",
    "\n",
    "This notebook shows the trade-off between inserting data into a database row-by-row and as binary blobs. Inserting the data row-by-row means that we have direct access to all the data and may perform queries directly on the values of the data. On the other hand, as we shall see, this is much slower than inserting the data directly as binary blobs."
   ]
  },
  {
   "cell_type": "markdown",
   "metadata": {},
   "source": [
    "First, we choose a new location for the database to ensure that we don't add a bunch of benchmarking data to the default one."
   ]
  },
  {
   "cell_type": "code",
   "execution_count": 1,
   "metadata": {
    "execution": {
     "iopub.execute_input": "2020-10-21T13:21:57.103297Z",
     "iopub.status.busy": "2020-10-21T13:21:57.102790Z",
     "iopub.status.idle": "2020-10-21T13:21:58.164101Z",
     "shell.execute_reply": "2020-10-21T13:21:58.163524Z"
    }
   },
   "outputs": [
    {
     "name": "stdout",
     "output_type": "stream",
     "text": [
      "Logging hadn't been started.\n",
      "Activating auto-logging. Current session state plus future input saved.\n",
      "Filename       : /home/vsts/.qcodes/logs/command_history.log\n",
      "Mode           : append\n",
      "Output logging : True\n",
      "Raw input log  : False\n",
      "Timestamping   : True\n",
      "State          : active\n"
     ]
    },
    {
     "name": "stdout",
     "output_type": "stream",
     "text": [
      "Qcodes Logfile : /home/vsts/.qcodes/logs/201021-14617-qcodes.log\n"
     ]
    }
   ],
   "source": [
    "import os\n",
    "cwd = os.getcwd()\n",
    "import qcodes as qc\n",
    "qc.config[\"core\"][\"db_location\"] = os.path.join(cwd, 'testing.db')\n"
   ]
  },
  {
   "cell_type": "code",
   "execution_count": 2,
   "metadata": {
    "execution": {
     "iopub.execute_input": "2020-10-21T13:21:58.170511Z",
     "iopub.status.busy": "2020-10-21T13:21:58.169977Z",
     "iopub.status.idle": "2020-10-21T13:21:58.359409Z",
     "shell.execute_reply": "2020-10-21T13:21:58.358538Z"
    }
   },
   "outputs": [],
   "source": [
    "%matplotlib inline\n",
    "import time\n",
    "import matplotlib.pyplot as plt\n",
    "import numpy as np\n",
    "\n",
    "import qcodes as qc\n",
    "from qcodes.instrument.parameter import ManualParameter\n",
    "from qcodes.dataset.experiment_container import (Experiment,\n",
    "                                                 load_last_experiment,\n",
    "                                                 new_experiment)\n",
    "from qcodes.dataset.sqlite.database import initialise_database\n",
    "from qcodes import load_or_create_experiment\n",
    "from qcodes.dataset.measurements import Measurement"
   ]
  },
  {
   "cell_type": "code",
   "execution_count": 3,
   "metadata": {
    "execution": {
     "iopub.execute_input": "2020-10-21T13:21:58.364347Z",
     "iopub.status.busy": "2020-10-21T13:21:58.363230Z",
     "iopub.status.idle": "2020-10-21T13:21:58.471389Z",
     "shell.execute_reply": "2020-10-21T13:21:58.470828Z"
    }
   },
   "outputs": [
    {
     "name": "stdout",
     "output_type": "stream",
     "text": [
      "\r",
      "0it [00:00, ?it/s]"
     ]
    },
    {
     "name": "stdout",
     "output_type": "stream",
     "text": [
      "\r",
      "Upgrading database; v0 -> v1: : 0it [00:00, ?it/s]"
     ]
    },
    {
     "name": "stdout",
     "output_type": "stream",
     "text": [
      "\r",
      "Upgrading database; v0 -> v1: : 0it [00:00, ?it/s]"
     ]
    },
    {
     "name": "stdout",
     "output_type": "stream",
     "text": [
      "\n",
      "\r",
      "  0%|          | 0/1 [00:00<?, ?it/s]"
     ]
    },
    {
     "name": "stdout",
     "output_type": "stream",
     "text": [
      "\r",
      "Upgrading database; v1 -> v2:   0%|          | 0/1 [00:00<?, ?it/s]"
     ]
    },
    {
     "name": "stdout",
     "output_type": "stream",
     "text": [
      "\r",
      "Upgrading database; v1 -> v2: 100%|██████████| 1/1 [00:00<00:00, 468.85it/s]"
     ]
    },
    {
     "name": "stdout",
     "output_type": "stream",
     "text": [
      "\n",
      "\r",
      "0it [00:00, ?it/s]"
     ]
    },
    {
     "name": "stdout",
     "output_type": "stream",
     "text": [
      "\r",
      "Upgrading database; v2 -> v3: : 0it [00:00, ?it/s]"
     ]
    },
    {
     "name": "stdout",
     "output_type": "stream",
     "text": [
      "\r",
      "Upgrading database; v2 -> v3: : 0it [00:00, ?it/s]"
     ]
    },
    {
     "name": "stdout",
     "output_type": "stream",
     "text": [
      "\n",
      "\r",
      "0it [00:00, ?it/s]"
     ]
    },
    {
     "name": "stdout",
     "output_type": "stream",
     "text": [
      "\r",
      "Upgrading database; v3 -> v4: : 0it [00:00, ?it/s]"
     ]
    },
    {
     "name": "stdout",
     "output_type": "stream",
     "text": [
      "\r",
      "Upgrading database; v3 -> v4: : 0it [00:00, ?it/s]"
     ]
    },
    {
     "name": "stdout",
     "output_type": "stream",
     "text": [
      "\n",
      "\r",
      "  0%|          | 0/1 [00:00<?, ?it/s]"
     ]
    },
    {
     "name": "stdout",
     "output_type": "stream",
     "text": [
      "\r",
      "Upgrading database; v4 -> v5:   0%|          | 0/1 [00:00<?, ?it/s]"
     ]
    },
    {
     "name": "stdout",
     "output_type": "stream",
     "text": [
      "\r",
      "Upgrading database; v4 -> v5: 100%|██████████| 1/1 [00:00<00:00, 1057.30it/s]"
     ]
    },
    {
     "name": "stdout",
     "output_type": "stream",
     "text": [
      "\n",
      "\r",
      "0it [00:00, ?it/s]"
     ]
    },
    {
     "name": "stdout",
     "output_type": "stream",
     "text": [
      "\r",
      "Upgrading database; v5 -> v6: : 0it [00:00, ?it/s]"
     ]
    },
    {
     "name": "stdout",
     "output_type": "stream",
     "text": [
      "\r",
      "Upgrading database; v5 -> v6: : 0it [00:00, ?it/s]"
     ]
    },
    {
     "name": "stdout",
     "output_type": "stream",
     "text": [
      "\n",
      "\r",
      "  0%|          | 0/1 [00:00<?, ?it/s]"
     ]
    },
    {
     "name": "stdout",
     "output_type": "stream",
     "text": [
      "\r",
      "Upgrading database; v6 -> v7:   0%|          | 0/1 [00:00<?, ?it/s]"
     ]
    },
    {
     "name": "stdout",
     "output_type": "stream",
     "text": [
      "\r",
      "Upgrading database; v6 -> v7: 100%|██████████| 1/1 [00:00<00:00, 285.60it/s]"
     ]
    },
    {
     "name": "stdout",
     "output_type": "stream",
     "text": [
      "\n",
      "\r",
      "  0%|          | 0/1 [00:00<?, ?it/s]"
     ]
    },
    {
     "name": "stdout",
     "output_type": "stream",
     "text": [
      "\r",
      "Upgrading database; v7 -> v8:   0%|          | 0/1 [00:00<?, ?it/s]"
     ]
    },
    {
     "name": "stdout",
     "output_type": "stream",
     "text": [
      "\r",
      "Upgrading database; v7 -> v8: 100%|██████████| 1/1 [00:00<00:00, 447.01it/s]"
     ]
    },
    {
     "name": "stdout",
     "output_type": "stream",
     "text": [
      "\n",
      "\r",
      "  0%|          | 0/1 [00:00<?, ?it/s]"
     ]
    },
    {
     "name": "stdout",
     "output_type": "stream",
     "text": [
      "\r",
      "Upgrading database; v8 -> v9:   0%|          | 0/1 [00:00<?, ?it/s]"
     ]
    },
    {
     "name": "stdout",
     "output_type": "stream",
     "text": [
      "\r",
      "Upgrading database; v8 -> v9: 100%|██████████| 1/1 [00:00<00:00, 1049.89it/s]"
     ]
    },
    {
     "name": "stdout",
     "output_type": "stream",
     "text": [
      "\n"
     ]
    }
   ],
   "source": [
    "initialise_database()\n",
    "exp = load_or_create_experiment(experiment_name='tutorial_exp', sample_name=\"no sample\")"
   ]
  },
  {
   "cell_type": "markdown",
   "metadata": {},
   "source": [
    "Here, we define a simple function to benchmark the time it takes to insert n points with either numeric or array data type.\n",
    "We will compare both the time used to call ``add_result`` and the time used for the full measurement."
   ]
  },
  {
   "cell_type": "code",
   "execution_count": 4,
   "metadata": {
    "execution": {
     "iopub.execute_input": "2020-10-21T13:21:58.479986Z",
     "iopub.status.busy": "2020-10-21T13:21:58.479451Z",
     "iopub.status.idle": "2020-10-21T13:21:58.482447Z",
     "shell.execute_reply": "2020-10-21T13:21:58.482871Z"
    }
   },
   "outputs": [],
   "source": [
    "def insert_data(paramtype, npoints, nreps=1):\n",
    "\n",
    "    meas = Measurement(exp=exp)\n",
    "\n",
    "    x1 = ManualParameter('x1')\n",
    "    x2 = ManualParameter('x2')\n",
    "    x3 = ManualParameter('x3')\n",
    "    y1 = ManualParameter('y1')\n",
    "    y2 = ManualParameter('y2')\n",
    "\n",
    "    meas.register_parameter(x1, paramtype=paramtype)\n",
    "    meas.register_parameter(x2, paramtype=paramtype)\n",
    "    meas.register_parameter(x3, paramtype=paramtype)\n",
    "    meas.register_parameter(y1, setpoints=[x1, x2, x3],\n",
    "                            paramtype=paramtype)\n",
    "    meas.register_parameter(y2, setpoints=[x1, x2, x3],\n",
    "                            paramtype=paramtype)\n",
    "    start = time.perf_counter()\n",
    "    with meas.run() as datasaver:\n",
    "        start_adding = time.perf_counter()\n",
    "        for i in range(nreps):\n",
    "            datasaver.add_result((x1, np.random.rand(npoints)),\n",
    "                                 (x2, np.random.rand(npoints)),\n",
    "                                 (x3, np.random.rand(npoints)),\n",
    "                                 (y1, np.random.rand(npoints)),\n",
    "                                 (y2, np.random.rand(npoints)))\n",
    "        stop_adding = time.perf_counter()\n",
    "        run_id = datasaver.run_id\n",
    "    stop = time.perf_counter()\n",
    "    tot_time = stop - start\n",
    "    add_time = stop_adding - start_adding\n",
    "    return tot_time, add_time, run_id"
   ]
  },
  {
   "cell_type": "markdown",
   "metadata": {},
   "source": [
    "## Comparison between numeric/array data and binary blob"
   ]
  },
  {
   "cell_type": "markdown",
   "metadata": {},
   "source": [
    "### Case1: Short experiment time"
   ]
  },
  {
   "cell_type": "code",
   "execution_count": 5,
   "metadata": {
    "execution": {
     "iopub.execute_input": "2020-10-21T13:21:58.488718Z",
     "iopub.status.busy": "2020-10-21T13:21:58.487721Z",
     "iopub.status.idle": "2020-10-21T13:21:59.310151Z",
     "shell.execute_reply": "2020-10-21T13:21:59.309369Z"
    }
   },
   "outputs": [
    {
     "name": "stdout",
     "output_type": "stream",
     "text": [
      "Starting experimental run with id: 1. \n",
      "Starting experimental run with id: 2. \n",
      "Starting experimental run with id: 3. \n",
      "Starting experimental run with id: 4. \n",
      "Starting experimental run with id: 5. \n"
     ]
    },
    {
     "name": "stdout",
     "output_type": "stream",
     "text": [
      "Starting experimental run with id: 6. \n"
     ]
    },
    {
     "name": "stdout",
     "output_type": "stream",
     "text": [
      "Starting experimental run with id: 7. \n"
     ]
    },
    {
     "name": "stdout",
     "output_type": "stream",
     "text": [
      "Starting experimental run with id: 8. \n",
      "Starting experimental run with id: 9. \n"
     ]
    },
    {
     "name": "stdout",
     "output_type": "stream",
     "text": [
      "Starting experimental run with id: 10. \n",
      "Starting experimental run with id: 11. \n"
     ]
    },
    {
     "name": "stdout",
     "output_type": "stream",
     "text": [
      "Starting experimental run with id: 12. \n",
      "Starting experimental run with id: 13. \n"
     ]
    },
    {
     "name": "stdout",
     "output_type": "stream",
     "text": [
      "Starting experimental run with id: 14. \n"
     ]
    }
   ],
   "source": [
    "sizes = [1,500,1000,2000,3000,4000,5000]\n",
    "t_numeric = []\n",
    "t_numeric_add = []\n",
    "t_array = []\n",
    "t_array_add = []\n",
    "for size in sizes:\n",
    "    tn, tna, run_id_n =  insert_data('numeric', size)\n",
    "    t_numeric.append(tn)\n",
    "    t_numeric_add.append(tna)\n",
    "\n",
    "    ta, taa, run_id_a =  insert_data('array', size)\n",
    "    t_array.append(ta)\n",
    "    t_array_add.append(taa)"
   ]
  },
  {
   "cell_type": "code",
   "execution_count": 6,
   "metadata": {
    "execution": {
     "iopub.execute_input": "2020-10-21T13:21:59.327018Z",
     "iopub.status.busy": "2020-10-21T13:21:59.315183Z",
     "iopub.status.idle": "2020-10-21T13:21:59.503036Z",
     "shell.execute_reply": "2020-10-21T13:21:59.503820Z"
    }
   },
   "outputs": [
    {
     "data": {
      "image/png": "[encoded data removed]",
      "text/plain": [
       "<Figure size 432x288 with 1 Axes>"
      ]
     },
     "metadata": {
      "needs_background": "light"
     },
     "output_type": "display_data"
    }
   ],
   "source": [
    "fig, ax = plt.subplots(1,1)\n",
    "ax.plot(sizes, t_numeric, 'o-', label='Inserting row-by-row')\n",
    "ax.plot(sizes, t_numeric_add, 'o-', label='Inserting row-by-row: add_result only')\n",
    "ax.plot(sizes, t_array, 'd-', label='Inserting as binary blob')\n",
    "ax.plot(sizes, t_array_add, 'd-', label='Inserting as binary blob: add_result only')\n",
    "ax.legend()\n",
    "ax.set_xlabel('Array length')\n",
    "ax.set_ylabel('Time (s)')\n",
    "fig.tight_layout()"
   ]
  },
  {
   "cell_type": "markdown",
   "metadata": {},
   "source": [
    "As shown in the latter figure, the time to setup and and close the experiment is approximately 0.4 sec. In case of small array sizes, the difference between inserting values of data as arrays and inserting them row-by-row is relatively unimportant. At larger array sizes, i.e. above 10000 points, the cost of writing data as individual datapoints starts to become important.\n"
   ]
  },
  {
   "cell_type": "markdown",
   "metadata": {},
   "source": [
    "### Case2: Long experiment time "
   ]
  },
  {
   "cell_type": "code",
   "execution_count": 7,
   "metadata": {
    "execution": {
     "iopub.execute_input": "2020-10-21T13:21:59.507187Z",
     "iopub.status.busy": "2020-10-21T13:21:59.506179Z",
     "iopub.status.idle": "2020-10-21T13:22:59.361451Z",
     "shell.execute_reply": "2020-10-21T13:22:59.361905Z"
    }
   },
   "outputs": [
    {
     "name": "stdout",
     "output_type": "stream",
     "text": [
      "Starting experimental run with id: 15. \n",
      "Starting experimental run with id: 16. \n",
      "Starting experimental run with id: 17. \n"
     ]
    },
    {
     "name": "stdout",
     "output_type": "stream",
     "text": [
      "Starting experimental run with id: 18. \n",
      "Starting experimental run with id: 19. \n"
     ]
    },
    {
     "name": "stdout",
     "output_type": "stream",
     "text": [
      "Starting experimental run with id: 20. \n"
     ]
    },
    {
     "name": "stdout",
     "output_type": "stream",
     "text": [
      "Starting experimental run with id: 21. \n"
     ]
    },
    {
     "name": "stdout",
     "output_type": "stream",
     "text": [
      "Starting experimental run with id: 22. \n"
     ]
    },
    {
     "name": "stdout",
     "output_type": "stream",
     "text": [
      "Starting experimental run with id: 23. \n"
     ]
    },
    {
     "name": "stdout",
     "output_type": "stream",
     "text": [
      "Starting experimental run with id: 24. \n"
     ]
    },
    {
     "name": "stdout",
     "output_type": "stream",
     "text": [
      "Starting experimental run with id: 25. \n"
     ]
    },
    {
     "name": "stdout",
     "output_type": "stream",
     "text": [
      "Starting experimental run with id: 26. \n"
     ]
    },
    {
     "name": "stdout",
     "output_type": "stream",
     "text": [
      "Starting experimental run with id: 27. \n"
     ]
    },
    {
     "name": "stdout",
     "output_type": "stream",
     "text": [
      "Starting experimental run with id: 28. \n"
     ]
    }
   ],
   "source": [
    "sizes = [1,500,1000,2000,3000,4000,5000]\n",
    "nreps = 100\n",
    "t_numeric = []\n",
    "t_numeric_add = []\n",
    "t_numeric_run_ids = []\n",
    "t_array = []\n",
    "t_array_add = []\n",
    "t_array_run_ids = []\n",
    "for size in sizes:\n",
    "    tn, tna, run_id_n =  insert_data('numeric', size, nreps=nreps)\n",
    "    t_numeric.append(tn)\n",
    "    t_numeric_add.append(tna)\n",
    "    t_numeric_run_ids.append(run_id_n)\n",
    "\n",
    "    ta, taa, run_id_a =  insert_data('array', size, nreps=nreps)\n",
    "    t_array.append(ta)\n",
    "    t_array_add.append(taa)\n",
    "    t_array_run_ids.append(run_id_a)"
   ]
  },
  {
   "cell_type": "code",
   "execution_count": 8,
   "metadata": {
    "execution": {
     "iopub.execute_input": "2020-10-21T13:22:59.389909Z",
     "iopub.status.busy": "2020-10-21T13:22:59.367799Z",
     "iopub.status.idle": "2020-10-21T13:22:59.558572Z",
     "shell.execute_reply": "2020-10-21T13:22:59.559357Z"
    },
    "scrolled": true
   },
   "outputs": [
    {
     "data": {
      "image/png": "[encoded data removed]",
      "text/plain": [
       "<Figure size 432x288 with 1 Axes>"
      ]
     },
     "metadata": {
      "needs_background": "light"
     },
     "output_type": "display_data"
    }
   ],
   "source": [
    "fig, ax = plt.subplots(1,1)\n",
    "ax.plot(sizes, t_numeric, 'o-', label='Inserting row-by-row')\n",
    "ax.plot(sizes, t_numeric_add, 'o-', label='Inserting row-by-row: add_result only')\n",
    "ax.plot(sizes, t_array, 'd-', label='Inserting as binary blob')\n",
    "ax.plot(sizes, t_array_add, 'd-', label='Inserting as binary blob: add_result only')\n",
    "ax.legend()\n",
    "ax.set_xlabel('Array length')\n",
    "ax.set_ylabel('Time (s)')\n",
    "fig.tight_layout()"
   ]
  },
  {
   "cell_type": "markdown",
   "metadata": {},
   "source": [
    "However, as we increase the length of the experiment, as seen here by repeating the insertion 100 times, we see a big difference between inserting values of the data row-by-row and inserting it as a binary blob."
   ]
  },
  {
   "cell_type": "markdown",
   "metadata": {},
   "source": [
    "## Loading the data "
   ]
  },
  {
   "cell_type": "code",
   "execution_count": 9,
   "metadata": {
    "execution": {
     "iopub.execute_input": "2020-10-21T13:22:59.563554Z",
     "iopub.status.busy": "2020-10-21T13:22:59.563029Z",
     "iopub.status.idle": "2020-10-21T13:22:59.566677Z",
     "shell.execute_reply": "2020-10-21T13:22:59.566224Z"
    }
   },
   "outputs": [],
   "source": [
    "from qcodes.dataset.data_set import load_by_id\n",
    "from qcodes.dataset.data_export import get_data_by_id"
   ]
  },
  {
   "cell_type": "markdown",
   "metadata": {},
   "source": [
    "As usual you can load the data by using the ``load_by_id`` function but you will notice that the different storage methods\n",
    "are reflected in shape of the data as it is retrieved. "
   ]
  },
  {
   "cell_type": "code",
   "execution_count": 10,
   "metadata": {
    "execution": {
     "iopub.execute_input": "2020-10-21T13:22:59.570211Z",
     "iopub.status.busy": "2020-10-21T13:22:59.569699Z",
     "iopub.status.idle": "2020-10-21T13:22:59.573040Z",
     "shell.execute_reply": "2020-10-21T13:22:59.572544Z"
    }
   },
   "outputs": [],
   "source": [
    "run_id_n = t_numeric_run_ids[0]\n",
    "run_id_a = t_array_run_ids[0]"
   ]
  },
  {
   "cell_type": "code",
   "execution_count": 11,
   "metadata": {
    "execution": {
     "iopub.execute_input": "2020-10-21T13:22:59.576066Z",
     "iopub.status.busy": "2020-10-21T13:22:59.575545Z",
     "iopub.status.idle": "2020-10-21T13:22:59.584787Z",
     "shell.execute_reply": "2020-10-21T13:22:59.584214Z"
    },
    "scrolled": true
   },
   "outputs": [
    {
     "data": {
      "text/plain": [
       "{'x1': {'x1': array([0.09221643, 0.09221643, 0.34033971, 0.34033971, 0.82082183,\n",
       "         0.82082183, 0.67832439, 0.67832439, 0.55129044, 0.55129044,\n",
       "         0.3188392 , 0.3188392 , 0.48632443, 0.48632443, 0.362293  ,\n",
       "         0.362293  , 0.29566609, 0.29566609, 0.6817482 , 0.6817482 ,\n",
       "         0.61318751, 0.61318751, 0.283342  , 0.283342  , 0.67236534,\n",
       "         0.67236534, 0.65146529, 0.65146529, 0.76645907, 0.76645907,\n",
       "         0.32724381, 0.32724381, 0.11695813, 0.11695813, 0.05853604,\n",
       "         0.05853604, 0.08744838, 0.08744838, 0.85329136, 0.85329136,\n",
       "         0.34398607, 0.34398607, 0.65976063, 0.65976063, 0.89496787,\n",
       "         0.89496787, 0.78959771, 0.78959771, 0.93622065, 0.93622065,\n",
       "         0.32795237, 0.32795237, 0.16970105, 0.16970105, 0.66769683,\n",
       "         0.66769683, 0.29049074, 0.29049074, 0.84757508, 0.84757508,\n",
       "         0.44381075, 0.44381075, 0.05316223, 0.05316223, 0.86854601,\n",
       "         0.86854601, 0.83765543, 0.83765543, 0.20917798, 0.20917798,\n",
       "         0.54765158, 0.54765158, 0.6835689 , 0.6835689 , 0.11382693,\n",
       "         0.11382693, 0.92692117, 0.92692117, 0.5468143 , 0.5468143 ,\n",
       "         0.32606389, 0.32606389, 0.85498337, 0.85498337, 0.91255058,\n",
       "         0.91255058, 0.74841755, 0.74841755, 0.06696927, 0.06696927,\n",
       "         0.92733155, 0.92733155, 0.47688729, 0.47688729, 0.21966897,\n",
       "         0.21966897, 0.36754219, 0.36754219, 0.26095205, 0.26095205,\n",
       "         0.07851853, 0.07851853, 0.66613246, 0.66613246, 0.10921185,\n",
       "         0.10921185, 0.05938736, 0.05938736, 0.73020371, 0.73020371,\n",
       "         0.80855688, 0.80855688, 0.96514024, 0.96514024, 0.51802232,\n",
       "         0.51802232, 0.28855984, 0.28855984, 0.66665167, 0.66665167,\n",
       "         0.0866383 , 0.0866383 , 0.29794333, 0.29794333, 0.90920754,\n",
       "         0.90920754, 0.31020197, 0.31020197, 0.60313058, 0.60313058,\n",
       "         0.25829089, 0.25829089, 0.12226048, 0.12226048, 0.19956016,\n",
       "         0.19956016, 0.51026163, 0.51026163, 0.86913463, 0.86913463,\n",
       "         0.61485967, 0.61485967, 0.76509609, 0.76509609, 0.93057387,\n",
       "         0.93057387, 0.14021462, 0.14021462, 0.39741122, 0.39741122,\n",
       "         0.96318891, 0.96318891, 0.76654597, 0.76654597, 0.13194335,\n",
       "         0.13194335, 0.49689454, 0.49689454, 0.29631882, 0.29631882,\n",
       "         0.5875246 , 0.5875246 , 0.06038301, 0.06038301, 0.32460104,\n",
       "         0.32460104, 0.93428443, 0.93428443, 0.40407893, 0.40407893,\n",
       "         0.29014938, 0.29014938, 0.43026457, 0.43026457, 0.4531201 ,\n",
       "         0.4531201 , 0.46714899, 0.46714899, 0.57552534, 0.57552534,\n",
       "         0.01184031, 0.01184031, 0.31373153, 0.31373153, 0.7683779 ,\n",
       "         0.7683779 , 0.50378306, 0.50378306, 0.74585431, 0.74585431,\n",
       "         0.88320424, 0.88320424, 0.07673521, 0.07673521, 0.40820996,\n",
       "         0.40820996, 0.59012466, 0.59012466, 0.42402518, 0.42402518])}}"
      ]
     },
     "execution_count": 1,
     "metadata": {},
     "output_type": "execute_result"
    }
   ],
   "source": [
    "ds = load_by_id(run_id_n)\n",
    "ds.get_parameter_data('x1')"
   ]
  },
  {
   "cell_type": "markdown",
   "metadata": {},
   "source": [
    "And a dataset stored as binary arrays"
   ]
  },
  {
   "cell_type": "code",
   "execution_count": 12,
   "metadata": {
    "execution": {
     "iopub.execute_input": "2020-10-21T13:22:59.587980Z",
     "iopub.status.busy": "2020-10-21T13:22:59.587467Z",
     "iopub.status.idle": "2020-10-21T13:22:59.641681Z",
     "shell.execute_reply": "2020-10-21T13:22:59.642607Z"
    },
    "scrolled": true
   },
   "outputs": [
    {
     "data": {
      "text/plain": [
       "{'x1': {'x1': array([[0.56571327],\n",
       "         [0.56571327],\n",
       "         [0.01350838],\n",
       "         [0.01350838],\n",
       "         [0.29305027],\n",
       "         [0.29305027],\n",
       "         [0.1104198 ],\n",
       "         [0.1104198 ],\n",
       "         [0.4873987 ],\n",
       "         [0.4873987 ],\n",
       "         [0.50839913],\n",
       "         [0.50839913],\n",
       "         [0.73606627],\n",
       "         [0.73606627],\n",
       "         [0.83219365],\n",
       "         [0.83219365],\n",
       "         [0.12691607],\n",
       "         [0.12691607],\n",
       "         [0.91379635],\n",
       "         [0.91379635],\n",
       "         [0.98129397],\n",
       "         [0.98129397],\n",
       "         [0.10332569],\n",
       "         [0.10332569],\n",
       "         [0.11360946],\n",
       "         [0.11360946],\n",
       "         [0.47785037],\n",
       "         [0.47785037],\n",
       "         [0.24046195],\n",
       "         [0.24046195],\n",
       "         [0.55499006],\n",
       "         [0.55499006],\n",
       "         [0.04787906],\n",
       "         [0.04787906],\n",
       "         [0.71764496],\n",
       "         [0.71764496],\n",
       "         [0.35430245],\n",
       "         [0.35430245],\n",
       "         [0.27938978],\n",
       "         [0.27938978],\n",
       "         [0.05667036],\n",
       "         [0.05667036],\n",
       "         [0.19330662],\n",
       "         [0.19330662],\n",
       "         [0.51096533],\n",
       "         [0.51096533],\n",
       "         [0.57880888],\n",
       "         [0.57880888],\n",
       "         [0.9195121 ],\n",
       "         [0.9195121 ],\n",
       "         [0.05020132],\n",
       "         [0.05020132],\n",
       "         [0.66274859],\n",
       "         [0.66274859],\n",
       "         [0.05153157],\n",
       "         [0.05153157],\n",
       "         [0.65828366],\n",
       "         [0.65828366],\n",
       "         [0.33613733],\n",
       "         [0.33613733],\n",
       "         [0.37132903],\n",
       "         [0.37132903],\n",
       "         [0.32249416],\n",
       "         [0.32249416],\n",
       "         [0.06044603],\n",
       "         [0.06044603],\n",
       "         [0.44126005],\n",
       "         [0.44126005],\n",
       "         [0.1195596 ],\n",
       "         [0.1195596 ],\n",
       "         [0.6022484 ],\n",
       "         [0.6022484 ],\n",
       "         [0.48377991],\n",
       "         [0.48377991],\n",
       "         [0.64004684],\n",
       "         [0.64004684],\n",
       "         [0.96259001],\n",
       "         [0.96259001],\n",
       "         [0.07556657],\n",
       "         [0.07556657],\n",
       "         [0.87989444],\n",
       "         [0.87989444],\n",
       "         [0.30621159],\n",
       "         [0.30621159],\n",
       "         [0.76062241],\n",
       "         [0.76062241],\n",
       "         [0.55159541],\n",
       "         [0.55159541],\n",
       "         [0.73139907],\n",
       "         [0.73139907],\n",
       "         [0.89827908],\n",
       "         [0.89827908],\n",
       "         [0.78317057],\n",
       "         [0.78317057],\n",
       "         [0.22771492],\n",
       "         [0.22771492],\n",
       "         [0.46972111],\n",
       "         [0.46972111],\n",
       "         [0.12134361],\n",
       "         [0.12134361],\n",
       "         [0.54872757],\n",
       "         [0.54872757],\n",
       "         [0.01717642],\n",
       "         [0.01717642],\n",
       "         [0.04550712],\n",
       "         [0.04550712],\n",
       "         [0.80856494],\n",
       "         [0.80856494],\n",
       "         [0.8615904 ],\n",
       "         [0.8615904 ],\n",
       "         [0.75411987],\n",
       "         [0.75411987],\n",
       "         [0.52380651],\n",
       "         [0.52380651],\n",
       "         [0.40178658],\n",
       "         [0.40178658],\n",
       "         [0.75127492],\n",
       "         [0.75127492],\n",
       "         [0.22367296],\n",
       "         [0.22367296],\n",
       "         [0.94119856],\n",
       "         [0.94119856],\n",
       "         [0.07822175],\n",
       "         [0.07822175],\n",
       "         [0.0879398 ],\n",
       "         [0.0879398 ],\n",
       "         [0.10659092],\n",
       "         [0.10659092],\n",
       "         [0.7287393 ],\n",
       "         [0.7287393 ],\n",
       "         [0.63813474],\n",
       "         [0.63813474],\n",
       "         [0.38964417],\n",
       "         [0.38964417],\n",
       "         [0.9402662 ],\n",
       "         [0.9402662 ],\n",
       "         [0.87481282],\n",
       "         [0.87481282],\n",
       "         [0.45499409],\n",
       "         [0.45499409],\n",
       "         [0.78182773],\n",
       "         [0.78182773],\n",
       "         [0.91667023],\n",
       "         [0.91667023],\n",
       "         [0.76539288],\n",
       "         [0.76539288],\n",
       "         [0.29383536],\n",
       "         [0.29383536],\n",
       "         [0.07357526],\n",
       "         [0.07357526],\n",
       "         [0.58211421],\n",
       "         [0.58211421],\n",
       "         [0.75108589],\n",
       "         [0.75108589],\n",
       "         [0.42269246],\n",
       "         [0.42269246],\n",
       "         [0.48446379],\n",
       "         [0.48446379],\n",
       "         [0.77460101],\n",
       "         [0.77460101],\n",
       "         [0.24095679],\n",
       "         [0.24095679],\n",
       "         [0.93201652],\n",
       "         [0.93201652],\n",
       "         [0.38466211],\n",
       "         [0.38466211],\n",
       "         [0.38631091],\n",
       "         [0.38631091],\n",
       "         [0.99445832],\n",
       "         [0.99445832],\n",
       "         [0.0141934 ],\n",
       "         [0.0141934 ],\n",
       "         [0.08935965],\n",
       "         [0.08935965],\n",
       "         [0.24436568],\n",
       "         [0.24436568],\n",
       "         [0.45984312],\n",
       "         [0.45984312],\n",
       "         [0.57406253],\n",
       "         [0.57406253],\n",
       "         [0.4286811 ],\n",
       "         [0.4286811 ],\n",
       "         [0.83579358],\n",
       "         [0.83579358],\n",
       "         [0.30374361],\n",
       "         [0.30374361],\n",
       "         [0.24967065],\n",
       "         [0.24967065],\n",
       "         [0.18386105],\n",
       "         [0.18386105],\n",
       "         [0.00865871],\n",
       "         [0.00865871],\n",
       "         [0.56200425],\n",
       "         [0.56200425],\n",
       "         [0.96190605],\n",
       "         [0.96190605],\n",
       "         [0.63540288],\n",
       "         [0.63540288],\n",
       "         [0.31554823],\n",
       "         [0.31554823]])}}"
      ]
     },
     "execution_count": 1,
     "metadata": {},
     "output_type": "execute_result"
    }
   ],
   "source": [
    "ds = load_by_id(run_id_a)\n",
    "ds.get_parameter_data('x1')"
   ]
  },
  {
   "cell_type": "code",
   "execution_count": null,
   "metadata": {},
   "outputs": [],
   "source": []
  }
 ],
 "metadata": {
  "kernelspec": {
   "display_name": "Python 3",
   "language": "python",
   "name": "python3"
  },
  "language_info": {
   "codemirror_mode": {
    "name": "ipython",
    "version": 3
   },
   "file_extension": ".py",
   "mimetype": "text/x-python",
   "name": "python",
   "nbconvert_exporter": "python",
   "pygments_lexer": "ipython3",
   "version": "3.7.7"
  },
  "nbsphinx": {
   "timeout": 600
  },
  "toc": {
   "base_numbering": 1,
   "nav_menu": {},
   "number_sections": true,
   "sideBar": true,
   "skip_h1_title": false,
   "title_cell": "Table of Contents",
   "title_sidebar": "Contents",
   "toc_cell": false,
   "toc_position": {},
   "toc_section_display": true,
   "toc_window_display": false
  },
  "varInspector": {
   "cols": {
    "lenName": 16,
    "lenType": 16,
    "lenVar": 40
   },
   "kernels_config": {
    "python": {
     "delete_cmd_postfix": "",
     "delete_cmd_prefix": "del ",
     "library": "var_list.py",
     "varRefreshCmd": "print(var_dic_list())"
    },
    "r": {
     "delete_cmd_postfix": ") ",
     "delete_cmd_prefix": "rm(",
     "library": "var_list.r",
     "varRefreshCmd": "cat(var_dic_list()) "
    }
   },
   "types_to_exclude": [
    "module",
    "function",
    "builtin_function_or_method",
    "instance",
    "_Feature"
   ],
   "window_display": false
  }
 },
 "nbformat": 4,
 "nbformat_minor": 2
}
