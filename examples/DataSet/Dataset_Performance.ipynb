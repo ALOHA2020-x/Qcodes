{
 "cells": [
  {
   "cell_type": "markdown",
   "metadata": {},
   "source": [
    "# DataSet Performance\n",
    "\n",
    "This notebook shows the trade-off between inserting data into a database row-by-row and as binary blobs. Inserting the data row-by-row means that we have direct access to all the data and may perform queries directly on the values of the data. On the other hand, as we shall see, this is much slower than inserting the data directly as binary blobs."
   ]
  },
  {
   "cell_type": "markdown",
   "metadata": {},
   "source": [
    "First, we choose a new location for the database to ensure that we don't add a bunch of benchmarking data to the default one."
   ]
  },
  {
   "cell_type": "code",
   "execution_count": 1,
   "metadata": {},
   "outputs": [
    {
     "name": "stdout",
     "output_type": "stream",
     "text": [
      "Logging hadn't been started.\n",
      "Activating auto-logging. Current session state plus future input saved.\n",
      "Filename       : /home/vsts/.qcodes/logs/command_history.log\n",
      "Mode           : append\n",
      "Output logging : True\n",
      "Raw input log  : False\n",
      "Timestamping   : True\n",
      "State          : active\n"
     ]
    },
    {
     "name": "stdout",
     "output_type": "stream",
     "text": [
      "Qcodes Logfile : /home/vsts/.qcodes/logs/200716-18361-qcodes.log\n"
     ]
    }
   ],
   "source": [
    "import os\n",
    "cwd = os.getcwd()\n",
    "import qcodes as qc\n",
    "qc.config[\"core\"][\"db_location\"] = os.path.join(cwd, 'testing.db')\n"
   ]
  },
  {
   "cell_type": "code",
   "execution_count": 2,
   "metadata": {},
   "outputs": [],
   "source": [
    "%matplotlib inline\n",
    "import time\n",
    "import matplotlib.pyplot as plt\n",
    "import numpy as np\n",
    "\n",
    "import qcodes as qc\n",
    "from qcodes.instrument.parameter import ManualParameter\n",
    "from qcodes.dataset.experiment_container import (Experiment,\n",
    "                                                 load_last_experiment,\n",
    "                                                 new_experiment)\n",
    "from qcodes.dataset.sqlite.database import initialise_database\n",
    "from qcodes import load_or_create_experiment\n",
    "from qcodes.dataset.measurements import Measurement"
   ]
  },
  {
   "cell_type": "code",
   "execution_count": 3,
   "metadata": {},
   "outputs": [
    {
     "name": "stdout",
     "output_type": "stream",
     "text": [
      "\r",
      "0it [00:00, ?it/s]"
     ]
    },
    {
     "name": "stdout",
     "output_type": "stream",
     "text": [
      "\r",
      "Upgrading database; v0 -> v1: : 0it [00:00, ?it/s]"
     ]
    },
    {
     "name": "stdout",
     "output_type": "stream",
     "text": [
      "\r",
      "Upgrading database; v0 -> v1: : 0it [00:00, ?it/s]"
     ]
    },
    {
     "name": "stdout",
     "output_type": "stream",
     "text": [
      "\n",
      "\r",
      "  0%|          | 0/1 [00:00<?, ?it/s]"
     ]
    },
    {
     "name": "stdout",
     "output_type": "stream",
     "text": [
      "\r",
      "Upgrading database; v1 -> v2:   0%|          | 0/1 [00:00<?, ?it/s]"
     ]
    },
    {
     "name": "stdout",
     "output_type": "stream",
     "text": [
      "\r",
      "Upgrading database; v1 -> v2: 100%|██████████| 1/1 [00:00<00:00, 1017.05it/s]"
     ]
    },
    {
     "name": "stdout",
     "output_type": "stream",
     "text": [
      "\n",
      "\r",
      "0it [00:00, ?it/s]"
     ]
    },
    {
     "name": "stdout",
     "output_type": "stream",
     "text": [
      "\r",
      "Upgrading database; v2 -> v3: : 0it [00:00, ?it/s]"
     ]
    },
    {
     "name": "stdout",
     "output_type": "stream",
     "text": [
      "\r",
      "Upgrading database; v2 -> v3: : 0it [00:00, ?it/s]"
     ]
    },
    {
     "name": "stdout",
     "output_type": "stream",
     "text": [
      "\n",
      "\r",
      "0it [00:00, ?it/s]"
     ]
    },
    {
     "name": "stdout",
     "output_type": "stream",
     "text": [
      "\r",
      "Upgrading database; v3 -> v4: : 0it [00:00, ?it/s]"
     ]
    },
    {
     "name": "stdout",
     "output_type": "stream",
     "text": [
      "\r",
      "Upgrading database; v3 -> v4: : 0it [00:00, ?it/s]"
     ]
    },
    {
     "name": "stdout",
     "output_type": "stream",
     "text": [
      "\n",
      "\r",
      "  0%|          | 0/1 [00:00<?, ?it/s]"
     ]
    },
    {
     "name": "stdout",
     "output_type": "stream",
     "text": [
      "\r",
      "Upgrading database; v4 -> v5:   0%|          | 0/1 [00:00<?, ?it/s]"
     ]
    },
    {
     "name": "stdout",
     "output_type": "stream",
     "text": [
      "\r",
      "Upgrading database; v4 -> v5: 100%|██████████| 1/1 [00:00<00:00, 868.03it/s]"
     ]
    },
    {
     "name": "stdout",
     "output_type": "stream",
     "text": [
      "\n",
      "\r",
      "0it [00:00, ?it/s]"
     ]
    },
    {
     "name": "stdout",
     "output_type": "stream",
     "text": [
      "\r",
      "Upgrading database; v5 -> v6: : 0it [00:00, ?it/s]"
     ]
    },
    {
     "name": "stdout",
     "output_type": "stream",
     "text": [
      "\r",
      "Upgrading database; v5 -> v6: : 0it [00:00, ?it/s]"
     ]
    },
    {
     "name": "stdout",
     "output_type": "stream",
     "text": [
      "\n",
      "\r",
      "  0%|          | 0/1 [00:00<?, ?it/s]"
     ]
    },
    {
     "name": "stdout",
     "output_type": "stream",
     "text": [
      "\r",
      "Upgrading database; v6 -> v7:   0%|          | 0/1 [00:00<?, ?it/s]"
     ]
    },
    {
     "name": "stdout",
     "output_type": "stream",
     "text": [
      "\r",
      "Upgrading database; v6 -> v7: 100%|██████████| 1/1 [00:00<00:00, 516.86it/s]"
     ]
    },
    {
     "name": "stdout",
     "output_type": "stream",
     "text": [
      "\n",
      "\r",
      "  0%|          | 0/1 [00:00<?, ?it/s]"
     ]
    },
    {
     "name": "stdout",
     "output_type": "stream",
     "text": [
      "\r",
      "Upgrading database; v7 -> v8:   0%|          | 0/1 [00:00<?, ?it/s]"
     ]
    },
    {
     "name": "stdout",
     "output_type": "stream",
     "text": [
      "\r",
      "Upgrading database; v7 -> v8: 100%|██████████| 1/1 [00:00<00:00, 941.69it/s]"
     ]
    },
    {
     "name": "stdout",
     "output_type": "stream",
     "text": [
      "\n",
      "\r",
      "  0%|          | 0/1 [00:00<?, ?it/s]"
     ]
    },
    {
     "name": "stdout",
     "output_type": "stream",
     "text": [
      "\r",
      "Upgrading database; v8 -> v9:   0%|          | 0/1 [00:00<?, ?it/s]"
     ]
    },
    {
     "name": "stdout",
     "output_type": "stream",
     "text": [
      "\r",
      "Upgrading database; v8 -> v9: 100%|██████████| 1/1 [00:00<00:00, 1168.00it/s]"
     ]
    },
    {
     "name": "stdout",
     "output_type": "stream",
     "text": [
      "\n"
     ]
    }
   ],
   "source": [
    "initialise_database()\n",
    "exp = load_or_create_experiment(experiment_name='tutorial_exp', sample_name=\"no sample\")"
   ]
  },
  {
   "cell_type": "markdown",
   "metadata": {},
   "source": [
    "Here, we define a simple function to benchmark the time it takes to insert n points with either numeric or array data type.\n",
    "We will compare both the time used to call ``add_result`` and the time used for the full measurement."
   ]
  },
  {
   "cell_type": "code",
   "execution_count": 4,
   "metadata": {},
   "outputs": [],
   "source": [
    "def insert_data(paramtype, npoints, nreps=1):\n",
    "\n",
    "    meas = Measurement(exp=exp)\n",
    "\n",
    "    x1 = ManualParameter('x1')\n",
    "    x2 = ManualParameter('x2')\n",
    "    x3 = ManualParameter('x3')\n",
    "    y1 = ManualParameter('y1')\n",
    "    y2 = ManualParameter('y2')\n",
    "\n",
    "    meas.register_parameter(x1, paramtype=paramtype)\n",
    "    meas.register_parameter(x2, paramtype=paramtype)\n",
    "    meas.register_parameter(x3, paramtype=paramtype)\n",
    "    meas.register_parameter(y1, setpoints=[x1, x2, x3],\n",
    "                            paramtype=paramtype)\n",
    "    meas.register_parameter(y2, setpoints=[x1, x2, x3],\n",
    "                            paramtype=paramtype)\n",
    "    start = time.perf_counter()\n",
    "    with meas.run() as datasaver:\n",
    "        start_adding = time.perf_counter()\n",
    "        for i in range(nreps):\n",
    "            datasaver.add_result((x1, np.random.rand(npoints)),\n",
    "                                 (x2, np.random.rand(npoints)),\n",
    "                                 (x3, np.random.rand(npoints)),\n",
    "                                 (y1, np.random.rand(npoints)),\n",
    "                                 (y2, np.random.rand(npoints)))\n",
    "        stop_adding = time.perf_counter()\n",
    "        run_id = datasaver.run_id\n",
    "    stop = time.perf_counter()\n",
    "    tot_time = stop - start\n",
    "    add_time = stop_adding - start_adding\n",
    "    return tot_time, add_time, run_id"
   ]
  },
  {
   "cell_type": "markdown",
   "metadata": {},
   "source": [
    "## Comparison between numeric/array data and binary blob"
   ]
  },
  {
   "cell_type": "markdown",
   "metadata": {},
   "source": [
    "### Case1: Short experiment time"
   ]
  },
  {
   "cell_type": "code",
   "execution_count": 5,
   "metadata": {},
   "outputs": [
    {
     "name": "stdout",
     "output_type": "stream",
     "text": [
      "Starting experimental run with id: 1. \n",
      "Starting experimental run with id: 2. \n",
      "Starting experimental run with id: 3. \n",
      "Starting experimental run with id: 4. \n",
      "Starting experimental run with id: 5. \n"
     ]
    },
    {
     "name": "stdout",
     "output_type": "stream",
     "text": [
      "Starting experimental run with id: 6. \n"
     ]
    },
    {
     "name": "stdout",
     "output_type": "stream",
     "text": [
      "Starting experimental run with id: 7. \n"
     ]
    },
    {
     "name": "stdout",
     "output_type": "stream",
     "text": [
      "Starting experimental run with id: 8. \n",
      "Starting experimental run with id: 9. \n",
      "Starting experimental run with id: 10. \n"
     ]
    },
    {
     "name": "stdout",
     "output_type": "stream",
     "text": [
      "Starting experimental run with id: 11. \n"
     ]
    },
    {
     "name": "stdout",
     "output_type": "stream",
     "text": [
      "Starting experimental run with id: 12. \n",
      "Starting experimental run with id: 13. \n"
     ]
    },
    {
     "name": "stdout",
     "output_type": "stream",
     "text": [
      "Starting experimental run with id: 14. \n"
     ]
    }
   ],
   "source": [
    "sizes = [1,500,1000,2000,3000,4000,5000]\n",
    "t_numeric = []\n",
    "t_numeric_add = []\n",
    "t_array = []\n",
    "t_array_add = []\n",
    "for size in sizes:\n",
    "    tn, tna, run_id_n =  insert_data('numeric', size)\n",
    "    t_numeric.append(tn)\n",
    "    t_numeric_add.append(tna)\n",
    "\n",
    "    ta, taa, run_id_a =  insert_data('array', size)\n",
    "    t_array.append(ta)\n",
    "    t_array_add.append(taa)"
   ]
  },
  {
   "cell_type": "code",
   "execution_count": 6,
   "metadata": {},
   "outputs": [
    {
     "data": {
      "image/png": "[encoded data removed]",
      "text/plain": [
       "<Figure size 432x288 with 1 Axes>"
      ]
     },
     "metadata": {
      "needs_background": "light"
     },
     "output_type": "display_data"
    }
   ],
   "source": [
    "fig, ax = plt.subplots(1,1)\n",
    "ax.plot(sizes, t_numeric, 'o-', label='Inserting row-by-row')\n",
    "ax.plot(sizes, t_numeric_add, 'o-', label='Inserting row-by-row: add_result only')\n",
    "ax.plot(sizes, t_array, 'd-', label='Inserting as binary blob')\n",
    "ax.plot(sizes, t_array_add, 'd-', label='Inserting as binary blob: add_result only')\n",
    "ax.legend()\n",
    "ax.set_xlabel('Array length')\n",
    "ax.set_ylabel('Time (s)')\n",
    "fig.tight_layout()"
   ]
  },
  {
   "cell_type": "markdown",
   "metadata": {},
   "source": [
    "As shown in the latter figure, the time to setup and and close the experiment is approximately 0.4 sec. In case of small array sizes, the difference between inserting values of data as arrays and inserting them row-by-row is relatively unimportant. At larger array sizes, i.e. above 10000 points, the cost of writing data as individual datapoints starts to become important.\n"
   ]
  },
  {
   "cell_type": "markdown",
   "metadata": {},
   "source": [
    "### Case2: Long experiment time "
   ]
  },
  {
   "cell_type": "code",
   "execution_count": 7,
   "metadata": {},
   "outputs": [
    {
     "name": "stdout",
     "output_type": "stream",
     "text": [
      "Starting experimental run with id: 15. \n",
      "Starting experimental run with id: 16. \n",
      "Starting experimental run with id: 17. \n"
     ]
    },
    {
     "name": "stdout",
     "output_type": "stream",
     "text": [
      "Starting experimental run with id: 18. \n",
      "Starting experimental run with id: 19. \n"
     ]
    },
    {
     "name": "stdout",
     "output_type": "stream",
     "text": [
      "Starting experimental run with id: 20. \n"
     ]
    },
    {
     "name": "stdout",
     "output_type": "stream",
     "text": [
      "Starting experimental run with id: 21. \n"
     ]
    },
    {
     "name": "stdout",
     "output_type": "stream",
     "text": [
      "Starting experimental run with id: 22. \n"
     ]
    },
    {
     "name": "stdout",
     "output_type": "stream",
     "text": [
      "Starting experimental run with id: 23. \n"
     ]
    },
    {
     "name": "stdout",
     "output_type": "stream",
     "text": [
      "Starting experimental run with id: 24. \n"
     ]
    },
    {
     "name": "stdout",
     "output_type": "stream",
     "text": [
      "Starting experimental run with id: 25. \n"
     ]
    },
    {
     "name": "stdout",
     "output_type": "stream",
     "text": [
      "Starting experimental run with id: 26. \n"
     ]
    },
    {
     "name": "stdout",
     "output_type": "stream",
     "text": [
      "Starting experimental run with id: 27. \n"
     ]
    },
    {
     "name": "stdout",
     "output_type": "stream",
     "text": [
      "Starting experimental run with id: 28. \n"
     ]
    }
   ],
   "source": [
    "sizes = [1,500,1000,2000,3000,4000,5000]\n",
    "nreps = 100\n",
    "t_numeric = []\n",
    "t_numeric_add = []\n",
    "t_numeric_run_ids = []\n",
    "t_array = []\n",
    "t_array_add = []\n",
    "t_array_run_ids = []\n",
    "for size in sizes:\n",
    "    tn, tna, run_id_n =  insert_data('numeric', size, nreps=nreps)\n",
    "    t_numeric.append(tn)\n",
    "    t_numeric_add.append(tna)\n",
    "    t_numeric_run_ids.append(run_id_n)\n",
    "\n",
    "    ta, taa, run_id_a =  insert_data('array', size, nreps=nreps)\n",
    "    t_array.append(ta)\n",
    "    t_array_add.append(taa)\n",
    "    t_array_run_ids.append(run_id_a)"
   ]
  },
  {
   "cell_type": "code",
   "execution_count": 8,
   "metadata": {
    "scrolled": true
   },
   "outputs": [
    {
     "data": {
      "image/png": "[encoded data removed]",
      "text/plain": [
       "<Figure size 432x288 with 1 Axes>"
      ]
     },
     "metadata": {
      "needs_background": "light"
     },
     "output_type": "display_data"
    }
   ],
   "source": [
    "fig, ax = plt.subplots(1,1)\n",
    "ax.plot(sizes, t_numeric, 'o-', label='Inserting row-by-row')\n",
    "ax.plot(sizes, t_numeric_add, 'o-', label='Inserting row-by-row: add_result only')\n",
    "ax.plot(sizes, t_array, 'd-', label='Inserting as binary blob')\n",
    "ax.plot(sizes, t_array_add, 'd-', label='Inserting as binary blob: add_result only')\n",
    "ax.legend()\n",
    "ax.set_xlabel('Array length')\n",
    "ax.set_ylabel('Time (s)')\n",
    "fig.tight_layout()"
   ]
  },
  {
   "cell_type": "markdown",
   "metadata": {},
   "source": [
    "However, as we increase the length of the experiment, as seen here by repeating the insertion 100 times, we see a big difference between inserting values of the data row-by-row and inserting it as a binary blob."
   ]
  },
  {
   "cell_type": "markdown",
   "metadata": {},
   "source": [
    "## Loading the data "
   ]
  },
  {
   "cell_type": "code",
   "execution_count": 9,
   "metadata": {},
   "outputs": [],
   "source": [
    "from qcodes.dataset.data_set import load_by_id\n",
    "from qcodes.dataset.data_export import get_data_by_id"
   ]
  },
  {
   "cell_type": "markdown",
   "metadata": {},
   "source": [
    "As usual you can load the data by using the ``load_by_id`` function but you will notice that the different storage methods\n",
    "are reflected in shape of the data as it is retrieved. "
   ]
  },
  {
   "cell_type": "code",
   "execution_count": 10,
   "metadata": {},
   "outputs": [],
   "source": [
    "run_id_n = t_numeric_run_ids[0]\n",
    "run_id_a = t_array_run_ids[0]"
   ]
  },
  {
   "cell_type": "code",
   "execution_count": 11,
   "metadata": {
    "scrolled": true
   },
   "outputs": [
    {
     "data": {
      "text/plain": [
       "{'x1': {'x1': array([0.30224231, 0.30224231, 0.32140362, 0.32140362, 0.78585331,\n",
       "         0.78585331, 0.32755568, 0.32755568, 0.05404453, 0.05404453,\n",
       "         0.57600079, 0.57600079, 0.00422634, 0.00422634, 0.26049615,\n",
       "         0.26049615, 0.25758136, 0.25758136, 0.49036988, 0.49036988,\n",
       "         0.55585339, 0.55585339, 0.61401653, 0.61401653, 0.67904282,\n",
       "         0.67904282, 0.98512311, 0.98512311, 0.9160827 , 0.9160827 ,\n",
       "         0.63566152, 0.63566152, 0.03848413, 0.03848413, 0.18887943,\n",
       "         0.18887943, 0.27399406, 0.27399406, 0.44954072, 0.44954072,\n",
       "         0.77846019, 0.77846019, 0.93985972, 0.93985972, 0.05216592,\n",
       "         0.05216592, 0.97797928, 0.97797928, 0.2101205 , 0.2101205 ,\n",
       "         0.10078115, 0.10078115, 0.06397002, 0.06397002, 0.68286163,\n",
       "         0.68286163, 0.10845357, 0.10845357, 0.59335628, 0.59335628,\n",
       "         0.75294261, 0.75294261, 0.33613504, 0.33613504, 0.95436625,\n",
       "         0.95436625, 0.79173833, 0.79173833, 0.77907031, 0.77907031,\n",
       "         0.61809226, 0.61809226, 0.10266251, 0.10266251, 0.99289132,\n",
       "         0.99289132, 0.53780725, 0.53780725, 0.38831903, 0.38831903,\n",
       "         0.55787869, 0.55787869, 0.69035218, 0.69035218, 0.9716538 ,\n",
       "         0.9716538 , 0.09628317, 0.09628317, 0.05294624, 0.05294624,\n",
       "         0.99854313, 0.99854313, 0.65522197, 0.65522197, 0.52747121,\n",
       "         0.52747121, 0.01399161, 0.01399161, 0.00257503, 0.00257503,\n",
       "         0.21739221, 0.21739221, 0.81258541, 0.81258541, 0.75148403,\n",
       "         0.75148403, 0.48253541, 0.48253541, 0.56945875, 0.56945875,\n",
       "         0.20215339, 0.20215339, 0.47634314, 0.47634314, 0.30897372,\n",
       "         0.30897372, 0.78838332, 0.78838332, 0.12560569, 0.12560569,\n",
       "         0.26525017, 0.26525017, 0.21467798, 0.21467798, 0.26691325,\n",
       "         0.26691325, 0.52781661, 0.52781661, 0.70778194, 0.70778194,\n",
       "         0.37424617, 0.37424617, 0.4380753 , 0.4380753 , 0.3146758 ,\n",
       "         0.3146758 , 0.57727442, 0.57727442, 0.95226538, 0.95226538,\n",
       "         0.1174059 , 0.1174059 , 0.1279721 , 0.1279721 , 0.50372043,\n",
       "         0.50372043, 0.5194189 , 0.5194189 , 0.42173039, 0.42173039,\n",
       "         0.33867472, 0.33867472, 0.93968388, 0.93968388, 0.33077458,\n",
       "         0.33077458, 0.96859927, 0.96859927, 0.86796848, 0.86796848,\n",
       "         0.98308341, 0.98308341, 0.28918066, 0.28918066, 0.79832633,\n",
       "         0.79832633, 0.56433539, 0.56433539, 0.30805528, 0.30805528,\n",
       "         0.78062348, 0.78062348, 0.41564079, 0.41564079, 0.74929949,\n",
       "         0.74929949, 0.51446286, 0.51446286, 0.34665428, 0.34665428,\n",
       "         0.51363582, 0.51363582, 0.20691791, 0.20691791, 0.67553676,\n",
       "         0.67553676, 0.11716619, 0.11716619, 0.70413335, 0.70413335,\n",
       "         0.71325701, 0.71325701, 0.72065893, 0.72065893, 0.17425911,\n",
       "         0.17425911, 0.06583342, 0.06583342, 0.82866228, 0.82866228])}}"
      ]
     },
     "execution_count": 11,
     "metadata": {},
     "output_type": "execute_result"
    }
   ],
   "source": [
    "ds = load_by_id(run_id_n)\n",
    "ds.get_parameter_data('x1')"
   ]
  },
  {
   "cell_type": "markdown",
   "metadata": {},
   "source": [
    "And a dataset stored as binary arrays"
   ]
  },
  {
   "cell_type": "code",
   "execution_count": 12,
   "metadata": {
    "scrolled": true
   },
   "outputs": [
    {
     "data": {
      "text/plain": [
       "{'x1': {'x1': array([[0.57741564],\n",
       "         [0.57741564],\n",
       "         [0.71680417],\n",
       "         [0.71680417],\n",
       "         [0.20250833],\n",
       "         [0.20250833],\n",
       "         [0.72801112],\n",
       "         [0.72801112],\n",
       "         [0.80695426],\n",
       "         [0.80695426],\n",
       "         [0.64921631],\n",
       "         [0.64921631],\n",
       "         [0.15365135],\n",
       "         [0.15365135],\n",
       "         [0.95077778],\n",
       "         [0.95077778],\n",
       "         [0.49804098],\n",
       "         [0.49804098],\n",
       "         [0.92672729],\n",
       "         [0.92672729],\n",
       "         [0.39437149],\n",
       "         [0.39437149],\n",
       "         [0.43418385],\n",
       "         [0.43418385],\n",
       "         [0.30343344],\n",
       "         [0.30343344],\n",
       "         [0.51172286],\n",
       "         [0.51172286],\n",
       "         [0.03632899],\n",
       "         [0.03632899],\n",
       "         [0.94153008],\n",
       "         [0.94153008],\n",
       "         [0.11252105],\n",
       "         [0.11252105],\n",
       "         [0.11586331],\n",
       "         [0.11586331],\n",
       "         [0.28256874],\n",
       "         [0.28256874],\n",
       "         [0.02381369],\n",
       "         [0.02381369],\n",
       "         [0.23231001],\n",
       "         [0.23231001],\n",
       "         [0.65385367],\n",
       "         [0.65385367],\n",
       "         [0.38750504],\n",
       "         [0.38750504],\n",
       "         [0.21960577],\n",
       "         [0.21960577],\n",
       "         [0.93209972],\n",
       "         [0.93209972],\n",
       "         [0.67073567],\n",
       "         [0.67073567],\n",
       "         [0.94341648],\n",
       "         [0.94341648],\n",
       "         [0.59368126],\n",
       "         [0.59368126],\n",
       "         [0.56881358],\n",
       "         [0.56881358],\n",
       "         [0.89834482],\n",
       "         [0.89834482],\n",
       "         [0.94982295],\n",
       "         [0.94982295],\n",
       "         [0.22548853],\n",
       "         [0.22548853],\n",
       "         [0.58172108],\n",
       "         [0.58172108],\n",
       "         [0.38040357],\n",
       "         [0.38040357],\n",
       "         [0.95103043],\n",
       "         [0.95103043],\n",
       "         [0.62680055],\n",
       "         [0.62680055],\n",
       "         [0.8341318 ],\n",
       "         [0.8341318 ],\n",
       "         [0.66203177],\n",
       "         [0.66203177],\n",
       "         [0.26601613],\n",
       "         [0.26601613],\n",
       "         [0.38102391],\n",
       "         [0.38102391],\n",
       "         [0.98597233],\n",
       "         [0.98597233],\n",
       "         [0.38948729],\n",
       "         [0.38948729],\n",
       "         [0.56225982],\n",
       "         [0.56225982],\n",
       "         [0.44938808],\n",
       "         [0.44938808],\n",
       "         [0.32702406],\n",
       "         [0.32702406],\n",
       "         [0.25037818],\n",
       "         [0.25037818],\n",
       "         [0.65597705],\n",
       "         [0.65597705],\n",
       "         [0.5581671 ],\n",
       "         [0.5581671 ],\n",
       "         [0.96153305],\n",
       "         [0.96153305],\n",
       "         [0.22273831],\n",
       "         [0.22273831],\n",
       "         [0.85087182],\n",
       "         [0.85087182],\n",
       "         [0.24098318],\n",
       "         [0.24098318],\n",
       "         [0.50490058],\n",
       "         [0.50490058],\n",
       "         [0.6576226 ],\n",
       "         [0.6576226 ],\n",
       "         [0.18966069],\n",
       "         [0.18966069],\n",
       "         [0.05093416],\n",
       "         [0.05093416],\n",
       "         [0.82578379],\n",
       "         [0.82578379],\n",
       "         [0.61418004],\n",
       "         [0.61418004],\n",
       "         [0.89069792],\n",
       "         [0.89069792],\n",
       "         [0.78244862],\n",
       "         [0.78244862],\n",
       "         [0.88453207],\n",
       "         [0.88453207],\n",
       "         [0.27006116],\n",
       "         [0.27006116],\n",
       "         [0.12899416],\n",
       "         [0.12899416],\n",
       "         [0.67532865],\n",
       "         [0.67532865],\n",
       "         [0.82474822],\n",
       "         [0.82474822],\n",
       "         [0.48519077],\n",
       "         [0.48519077],\n",
       "         [0.21084309],\n",
       "         [0.21084309],\n",
       "         [0.8413758 ],\n",
       "         [0.8413758 ],\n",
       "         [0.16752677],\n",
       "         [0.16752677],\n",
       "         [0.59115617],\n",
       "         [0.59115617],\n",
       "         [0.47726701],\n",
       "         [0.47726701],\n",
       "         [0.92240402],\n",
       "         [0.92240402],\n",
       "         [0.97886174],\n",
       "         [0.97886174],\n",
       "         [0.65259978],\n",
       "         [0.65259978],\n",
       "         [0.57474006],\n",
       "         [0.57474006],\n",
       "         [0.49147007],\n",
       "         [0.49147007],\n",
       "         [0.14378682],\n",
       "         [0.14378682],\n",
       "         [0.27260426],\n",
       "         [0.27260426],\n",
       "         [0.45267966],\n",
       "         [0.45267966],\n",
       "         [0.3172813 ],\n",
       "         [0.3172813 ],\n",
       "         [0.86292054],\n",
       "         [0.86292054],\n",
       "         [0.37416421],\n",
       "         [0.37416421],\n",
       "         [0.48751089],\n",
       "         [0.48751089],\n",
       "         [0.62704536],\n",
       "         [0.62704536],\n",
       "         [0.63003729],\n",
       "         [0.63003729],\n",
       "         [0.62637538],\n",
       "         [0.62637538],\n",
       "         [0.79320154],\n",
       "         [0.79320154],\n",
       "         [0.47671439],\n",
       "         [0.47671439],\n",
       "         [0.61176493],\n",
       "         [0.61176493],\n",
       "         [0.36702884],\n",
       "         [0.36702884],\n",
       "         [0.84397228],\n",
       "         [0.84397228],\n",
       "         [0.00820615],\n",
       "         [0.00820615],\n",
       "         [0.36368991],\n",
       "         [0.36368991],\n",
       "         [0.09235749],\n",
       "         [0.09235749],\n",
       "         [0.76631087],\n",
       "         [0.76631087],\n",
       "         [0.60079273],\n",
       "         [0.60079273],\n",
       "         [0.11401451],\n",
       "         [0.11401451],\n",
       "         [0.13450341],\n",
       "         [0.13450341],\n",
       "         [0.2283497 ],\n",
       "         [0.2283497 ],\n",
       "         [0.56578583],\n",
       "         [0.56578583]])}}"
      ]
     },
     "execution_count": 12,
     "metadata": {},
     "output_type": "execute_result"
    }
   ],
   "source": [
    "ds = load_by_id(run_id_a)\n",
    "ds.get_parameter_data('x1')"
   ]
  },
  {
   "cell_type": "code",
   "execution_count": null,
   "metadata": {},
   "outputs": [],
   "source": []
  }
 ],
 "metadata": {
  "kernelspec": {
   "display_name": "Python 3",
   "language": "python",
   "name": "python3"
  },
  "language_info": {
   "codemirror_mode": {
    "name": "ipython",
    "version": 3
   },
   "file_extension": ".py",
   "mimetype": "text/x-python",
   "name": "python",
   "nbconvert_exporter": "python",
   "pygments_lexer": "ipython3",
   "version": "3.7.7"
  },
  "nbsphinx": {
   "timeout": 600
  },
  "toc": {
   "base_numbering": 1,
   "nav_menu": {},
   "number_sections": true,
   "sideBar": true,
   "skip_h1_title": false,
   "title_cell": "Table of Contents",
   "title_sidebar": "Contents",
   "toc_cell": false,
   "toc_position": {},
   "toc_section_display": true,
   "toc_window_display": false
  },
  "varInspector": {
   "cols": {
    "lenName": 16,
    "lenType": 16,
    "lenVar": 40
   },
   "kernels_config": {
    "python": {
     "delete_cmd_postfix": "",
     "delete_cmd_prefix": "del ",
     "library": "var_list.py",
     "varRefreshCmd": "print(var_dic_list())"
    },
    "r": {
     "delete_cmd_postfix": ") ",
     "delete_cmd_prefix": "rm(",
     "library": "var_list.r",
     "varRefreshCmd": "cat(var_dic_list()) "
    }
   },
   "types_to_exclude": [
    "module",
    "function",
    "builtin_function_or_method",
    "instance",
    "_Feature"
   ],
   "window_display": false
  }
 },
 "nbformat": 4,
 "nbformat_minor": 2
}
