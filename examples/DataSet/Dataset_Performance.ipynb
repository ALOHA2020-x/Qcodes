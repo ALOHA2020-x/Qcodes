{
 "cells": [
  {
   "cell_type": "markdown",
   "metadata": {},
   "source": [
    "# DataSet Performance\n",
    "\n",
    "This notebook shows the trade-off between inserting data into a database row-by-row and as binary blobs. Inserting the data row-by-row means that we have direct access to all the data and may perform queries directly on the values of the data. On the other hand, as we shall see, this is much slower than inserting the data directly as binary blobs."
   ]
  },
  {
   "cell_type": "markdown",
   "metadata": {},
   "source": [
    "First, we choose a new location for the database to ensure that we don't add a bunch of benchmarking data to the default one."
   ]
  },
  {
   "cell_type": "code",
   "execution_count": 1,
   "metadata": {
    "execution": {
     "iopub.execute_input": "2021-03-01T06:48:56.363909Z",
     "iopub.status.busy": "2021-03-01T06:48:56.363180Z",
     "iopub.status.idle": "2021-03-01T06:48:57.222134Z",
     "shell.execute_reply": "2021-03-01T06:48:57.222591Z"
    }
   },
   "outputs": [
    {
     "name": "stdout",
     "output_type": "stream",
     "text": [
      "Logging hadn't been started.\n",
      "Activating auto-logging. Current session state plus future input saved.\n",
      "Filename       : /home/runner/.qcodes/logs/command_history.log\n",
      "Mode           : append\n",
      "Output logging : True\n",
      "Raw input log  : False\n",
      "Timestamping   : True\n",
      "State          : active\n"
     ]
    },
    {
     "name": "stdout",
     "output_type": "stream",
     "text": [
      "Qcodes Logfile : /home/runner/.qcodes/logs/210301-3938-qcodes.log\n"
     ]
    }
   ],
   "source": [
    "import os\n",
    "cwd = os.getcwd()\n",
    "import qcodes as qc\n",
    "qc.config[\"core\"][\"db_location\"] = os.path.join(cwd, 'testing.db')\n"
   ]
  },
  {
   "cell_type": "code",
   "execution_count": 2,
   "metadata": {
    "execution": {
     "iopub.execute_input": "2021-03-01T06:48:57.228762Z",
     "iopub.status.busy": "2021-03-01T06:48:57.227922Z",
     "iopub.status.idle": "2021-03-01T06:48:57.413082Z",
     "shell.execute_reply": "2021-03-01T06:48:57.412555Z"
    }
   },
   "outputs": [],
   "source": [
    "%matplotlib inline\n",
    "import time\n",
    "import matplotlib.pyplot as plt\n",
    "import numpy as np\n",
    "\n",
    "import qcodes as qc\n",
    "from qcodes.instrument.parameter import ManualParameter\n",
    "from qcodes.dataset.experiment_container import (Experiment,\n",
    "                                                 load_last_experiment,\n",
    "                                                 new_experiment)\n",
    "from qcodes.dataset.sqlite.database import initialise_database\n",
    "from qcodes import load_or_create_experiment\n",
    "from qcodes.dataset.measurements import Measurement"
   ]
  },
  {
   "cell_type": "code",
   "execution_count": 3,
   "metadata": {
    "execution": {
     "iopub.execute_input": "2021-03-01T06:48:57.416894Z",
     "iopub.status.busy": "2021-03-01T06:48:57.416265Z",
     "iopub.status.idle": "2021-03-01T06:48:57.518563Z",
     "shell.execute_reply": "2021-03-01T06:48:57.518030Z"
    }
   },
   "outputs": [
    {
     "name": "stdout",
     "output_type": "stream",
     "text": [
      "\r",
      "0it [00:00, ?it/s]"
     ]
    },
    {
     "name": "stdout",
     "output_type": "stream",
     "text": [
      "\r",
      "Upgrading database; v0 -> v1: : 0it [00:00, ?it/s]"
     ]
    },
    {
     "name": "stdout",
     "output_type": "stream",
     "text": [
      "\r",
      "Upgrading database; v0 -> v1: : 0it [00:00, ?it/s]"
     ]
    },
    {
     "name": "stdout",
     "output_type": "stream",
     "text": [
      "\n",
      "\r",
      "  0%|          | 0/1 [00:00<?, ?it/s]"
     ]
    },
    {
     "name": "stdout",
     "output_type": "stream",
     "text": [
      "\r",
      "Upgrading database; v1 -> v2:   0%|          | 0/1 [00:00<?, ?it/s]"
     ]
    },
    {
     "name": "stdout",
     "output_type": "stream",
     "text": [
      "\r",
      "Upgrading database; v1 -> v2: 100%|██████████| 1/1 [00:00<00:00, 1144.42it/s]"
     ]
    },
    {
     "name": "stdout",
     "output_type": "stream",
     "text": [
      "\n",
      "\r",
      "0it [00:00, ?it/s]"
     ]
    },
    {
     "name": "stdout",
     "output_type": "stream",
     "text": [
      "\r",
      "Upgrading database; v2 -> v3: : 0it [00:00, ?it/s]"
     ]
    },
    {
     "name": "stdout",
     "output_type": "stream",
     "text": [
      "\r",
      "Upgrading database; v2 -> v3: : 0it [00:00, ?it/s]"
     ]
    },
    {
     "name": "stdout",
     "output_type": "stream",
     "text": [
      "\n",
      "\r",
      "0it [00:00, ?it/s]"
     ]
    },
    {
     "name": "stdout",
     "output_type": "stream",
     "text": [
      "\r",
      "Upgrading database; v3 -> v4: : 0it [00:00, ?it/s]"
     ]
    },
    {
     "name": "stdout",
     "output_type": "stream",
     "text": [
      "\r",
      "Upgrading database; v3 -> v4: : 0it [00:00, ?it/s]"
     ]
    },
    {
     "name": "stdout",
     "output_type": "stream",
     "text": [
      "\n",
      "\r",
      "  0%|          | 0/1 [00:00<?, ?it/s]"
     ]
    },
    {
     "name": "stdout",
     "output_type": "stream",
     "text": [
      "\r",
      "Upgrading database; v4 -> v5:   0%|          | 0/1 [00:00<?, ?it/s]"
     ]
    },
    {
     "name": "stdout",
     "output_type": "stream",
     "text": [
      "\r",
      "Upgrading database; v4 -> v5: 100%|██████████| 1/1 [00:00<00:00, 336.22it/s]"
     ]
    },
    {
     "name": "stdout",
     "output_type": "stream",
     "text": [
      "\n",
      "\r",
      "0it [00:00, ?it/s]"
     ]
    },
    {
     "name": "stdout",
     "output_type": "stream",
     "text": [
      "\r",
      "Upgrading database; v5 -> v6: : 0it [00:00, ?it/s]"
     ]
    },
    {
     "name": "stdout",
     "output_type": "stream",
     "text": [
      "\r",
      "Upgrading database; v5 -> v6: : 0it [00:00, ?it/s]"
     ]
    },
    {
     "name": "stdout",
     "output_type": "stream",
     "text": [
      "\n",
      "\r",
      "  0%|          | 0/1 [00:00<?, ?it/s]"
     ]
    },
    {
     "name": "stdout",
     "output_type": "stream",
     "text": [
      "\r",
      "Upgrading database; v6 -> v7:   0%|          | 0/1 [00:00<?, ?it/s]"
     ]
    },
    {
     "name": "stdout",
     "output_type": "stream",
     "text": [
      "\r",
      "Upgrading database; v6 -> v7: 100%|██████████| 1/1 [00:00<00:00, 296.52it/s]"
     ]
    },
    {
     "name": "stdout",
     "output_type": "stream",
     "text": [
      "\n",
      "\r",
      "  0%|          | 0/1 [00:00<?, ?it/s]"
     ]
    },
    {
     "name": "stdout",
     "output_type": "stream",
     "text": [
      "\r",
      "Upgrading database; v7 -> v8:   0%|          | 0/1 [00:00<?, ?it/s]"
     ]
    },
    {
     "name": "stdout",
     "output_type": "stream",
     "text": [
      "\r",
      "Upgrading database; v7 -> v8: 100%|██████████| 1/1 [00:00<00:00, 835.02it/s]"
     ]
    },
    {
     "name": "stdout",
     "output_type": "stream",
     "text": [
      "\n",
      "\r",
      "  0%|          | 0/1 [00:00<?, ?it/s]"
     ]
    },
    {
     "name": "stdout",
     "output_type": "stream",
     "text": [
      "\r",
      "Upgrading database; v8 -> v9:   0%|          | 0/1 [00:00<?, ?it/s]"
     ]
    },
    {
     "name": "stdout",
     "output_type": "stream",
     "text": [
      "\r",
      "Upgrading database; v8 -> v9: 100%|██████████| 1/1 [00:00<00:00, 1248.30it/s]"
     ]
    },
    {
     "name": "stdout",
     "output_type": "stream",
     "text": [
      "\n"
     ]
    }
   ],
   "source": [
    "initialise_database()\n",
    "exp = load_or_create_experiment(experiment_name='tutorial_exp', sample_name=\"no sample\")"
   ]
  },
  {
   "cell_type": "markdown",
   "metadata": {},
   "source": [
    "Here, we define a simple function to benchmark the time it takes to insert n points with either numeric or array data type.\n",
    "We will compare both the time used to call ``add_result`` and the time used for the full measurement."
   ]
  },
  {
   "cell_type": "code",
   "execution_count": 4,
   "metadata": {
    "execution": {
     "iopub.execute_input": "2021-03-01T06:48:57.527519Z",
     "iopub.status.busy": "2021-03-01T06:48:57.526177Z",
     "iopub.status.idle": "2021-03-01T06:48:57.528148Z",
     "shell.execute_reply": "2021-03-01T06:48:57.528627Z"
    }
   },
   "outputs": [],
   "source": [
    "def insert_data(paramtype, npoints, nreps=1):\n",
    "\n",
    "    meas = Measurement(exp=exp)\n",
    "\n",
    "    x1 = ManualParameter('x1')\n",
    "    x2 = ManualParameter('x2')\n",
    "    x3 = ManualParameter('x3')\n",
    "    y1 = ManualParameter('y1')\n",
    "    y2 = ManualParameter('y2')\n",
    "\n",
    "    meas.register_parameter(x1, paramtype=paramtype)\n",
    "    meas.register_parameter(x2, paramtype=paramtype)\n",
    "    meas.register_parameter(x3, paramtype=paramtype)\n",
    "    meas.register_parameter(y1, setpoints=[x1, x2, x3],\n",
    "                            paramtype=paramtype)\n",
    "    meas.register_parameter(y2, setpoints=[x1, x2, x3],\n",
    "                            paramtype=paramtype)\n",
    "    start = time.perf_counter()\n",
    "    with meas.run() as datasaver:\n",
    "        start_adding = time.perf_counter()\n",
    "        for i in range(nreps):\n",
    "            datasaver.add_result((x1, np.random.rand(npoints)),\n",
    "                                 (x2, np.random.rand(npoints)),\n",
    "                                 (x3, np.random.rand(npoints)),\n",
    "                                 (y1, np.random.rand(npoints)),\n",
    "                                 (y2, np.random.rand(npoints)))\n",
    "        stop_adding = time.perf_counter()\n",
    "        run_id = datasaver.run_id\n",
    "    stop = time.perf_counter()\n",
    "    tot_time = stop - start\n",
    "    add_time = stop_adding - start_adding\n",
    "    return tot_time, add_time, run_id"
   ]
  },
  {
   "cell_type": "markdown",
   "metadata": {},
   "source": [
    "## Comparison between numeric/array data and binary blob"
   ]
  },
  {
   "cell_type": "markdown",
   "metadata": {},
   "source": [
    "### Case1: Short experiment time"
   ]
  },
  {
   "cell_type": "code",
   "execution_count": 5,
   "metadata": {
    "execution": {
     "iopub.execute_input": "2021-03-01T06:48:57.534730Z",
     "iopub.status.busy": "2021-03-01T06:48:57.533437Z",
     "iopub.status.idle": "2021-03-01T06:48:58.316902Z",
     "shell.execute_reply": "2021-03-01T06:48:58.316401Z"
    }
   },
   "outputs": [
    {
     "name": "stdout",
     "output_type": "stream",
     "text": [
      "Starting experimental run with id: 1. \n",
      "Starting experimental run with id: 2. \n",
      "Starting experimental run with id: 3. \n",
      "Starting experimental run with id: 4. \n",
      "Starting experimental run with id: 5. \n"
     ]
    },
    {
     "name": "stdout",
     "output_type": "stream",
     "text": [
      "Starting experimental run with id: 6. \n"
     ]
    },
    {
     "name": "stdout",
     "output_type": "stream",
     "text": [
      "Starting experimental run with id: 7. \n"
     ]
    },
    {
     "name": "stdout",
     "output_type": "stream",
     "text": [
      "Starting experimental run with id: 8. \n",
      "Starting experimental run with id: 9. \n"
     ]
    },
    {
     "name": "stdout",
     "output_type": "stream",
     "text": [
      "Starting experimental run with id: 10. \n",
      "Starting experimental run with id: 11. \n"
     ]
    },
    {
     "name": "stdout",
     "output_type": "stream",
     "text": [
      "Starting experimental run with id: 12. \n",
      "Starting experimental run with id: 13. \n"
     ]
    },
    {
     "name": "stdout",
     "output_type": "stream",
     "text": [
      "Starting experimental run with id: 14. \n"
     ]
    }
   ],
   "source": [
    "sizes = [1,500,1000,2000,3000,4000,5000]\n",
    "t_numeric = []\n",
    "t_numeric_add = []\n",
    "t_array = []\n",
    "t_array_add = []\n",
    "for size in sizes:\n",
    "    tn, tna, run_id_n =  insert_data('numeric', size)\n",
    "    t_numeric.append(tn)\n",
    "    t_numeric_add.append(tna)\n",
    "\n",
    "    ta, taa, run_id_a =  insert_data('array', size)\n",
    "    t_array.append(ta)\n",
    "    t_array_add.append(taa)"
   ]
  },
  {
   "cell_type": "code",
   "execution_count": 6,
   "metadata": {
    "execution": {
     "iopub.execute_input": "2021-03-01T06:48:58.334997Z",
     "iopub.status.busy": "2021-03-01T06:48:58.321411Z",
     "iopub.status.idle": "2021-03-01T06:48:58.539725Z",
     "shell.execute_reply": "2021-03-01T06:48:58.538856Z"
    }
   },
   "outputs": [
    {
     "data": {
      "image/png": "[encoded data removed]",
      "text/plain": [
       "<Figure size 432x288 with 1 Axes>"
      ]
     },
     "metadata": {
      "needs_background": "light"
     },
     "output_type": "display_data"
    }
   ],
   "source": [
    "fig, ax = plt.subplots(1,1)\n",
    "ax.plot(sizes, t_numeric, 'o-', label='Inserting row-by-row')\n",
    "ax.plot(sizes, t_numeric_add, 'o-', label='Inserting row-by-row: add_result only')\n",
    "ax.plot(sizes, t_array, 'd-', label='Inserting as binary blob')\n",
    "ax.plot(sizes, t_array_add, 'd-', label='Inserting as binary blob: add_result only')\n",
    "ax.legend()\n",
    "ax.set_xlabel('Array length')\n",
    "ax.set_ylabel('Time (s)')\n",
    "fig.tight_layout()"
   ]
  },
  {
   "cell_type": "markdown",
   "metadata": {},
   "source": [
    "As shown in the latter figure, the time to setup and and close the experiment is approximately 0.4 sec. In case of small array sizes, the difference between inserting values of data as arrays and inserting them row-by-row is relatively unimportant. At larger array sizes, i.e. above 10000 points, the cost of writing data as individual datapoints starts to become important.\n"
   ]
  },
  {
   "cell_type": "markdown",
   "metadata": {},
   "source": [
    "### Case2: Long experiment time "
   ]
  },
  {
   "cell_type": "code",
   "execution_count": 7,
   "metadata": {
    "execution": {
     "iopub.execute_input": "2021-03-01T06:48:58.546305Z",
     "iopub.status.busy": "2021-03-01T06:48:58.544164Z",
     "iopub.status.idle": "2021-03-01T06:49:59.436326Z",
     "shell.execute_reply": "2021-03-01T06:49:59.435090Z"
    }
   },
   "outputs": [
    {
     "name": "stdout",
     "output_type": "stream",
     "text": [
      "Starting experimental run with id: 15. \n",
      "Starting experimental run with id: 16. \n",
      "Starting experimental run with id: 17. \n"
     ]
    },
    {
     "name": "stdout",
     "output_type": "stream",
     "text": [
      "Starting experimental run with id: 18. \n"
     ]
    },
    {
     "name": "stdout",
     "output_type": "stream",
     "text": [
      "Starting experimental run with id: 19. \n"
     ]
    },
    {
     "name": "stdout",
     "output_type": "stream",
     "text": [
      "Starting experimental run with id: 20. \n"
     ]
    },
    {
     "name": "stdout",
     "output_type": "stream",
     "text": [
      "Starting experimental run with id: 21. \n"
     ]
    },
    {
     "name": "stdout",
     "output_type": "stream",
     "text": [
      "Starting experimental run with id: 22. \n"
     ]
    },
    {
     "name": "stdout",
     "output_type": "stream",
     "text": [
      "Starting experimental run with id: 23. \n"
     ]
    },
    {
     "name": "stdout",
     "output_type": "stream",
     "text": [
      "Starting experimental run with id: 24. \n"
     ]
    },
    {
     "name": "stdout",
     "output_type": "stream",
     "text": [
      "Starting experimental run with id: 25. \n"
     ]
    },
    {
     "name": "stdout",
     "output_type": "stream",
     "text": [
      "Starting experimental run with id: 26. \n"
     ]
    },
    {
     "name": "stdout",
     "output_type": "stream",
     "text": [
      "Starting experimental run with id: 27. \n"
     ]
    },
    {
     "name": "stdout",
     "output_type": "stream",
     "text": [
      "Starting experimental run with id: 28. \n"
     ]
    }
   ],
   "source": [
    "sizes = [1,500,1000,2000,3000,4000,5000]\n",
    "nreps = 100\n",
    "t_numeric = []\n",
    "t_numeric_add = []\n",
    "t_numeric_run_ids = []\n",
    "t_array = []\n",
    "t_array_add = []\n",
    "t_array_run_ids = []\n",
    "for size in sizes:\n",
    "    tn, tna, run_id_n =  insert_data('numeric', size, nreps=nreps)\n",
    "    t_numeric.append(tn)\n",
    "    t_numeric_add.append(tna)\n",
    "    t_numeric_run_ids.append(run_id_n)\n",
    "\n",
    "    ta, taa, run_id_a =  insert_data('array', size, nreps=nreps)\n",
    "    t_array.append(ta)\n",
    "    t_array_add.append(taa)\n",
    "    t_array_run_ids.append(run_id_a)"
   ]
  },
  {
   "cell_type": "code",
   "execution_count": 8,
   "metadata": {
    "execution": {
     "iopub.execute_input": "2021-03-01T06:49:59.491102Z",
     "iopub.status.busy": "2021-03-01T06:49:59.464124Z",
     "iopub.status.idle": "2021-03-01T06:49:59.680176Z",
     "shell.execute_reply": "2021-03-01T06:49:59.680898Z"
    },
    "scrolled": true
   },
   "outputs": [
    {
     "data": {
      "image/png": "[encoded data removed]",
      "text/plain": [
       "<Figure size 432x288 with 1 Axes>"
      ]
     },
     "metadata": {
      "needs_background": "light"
     },
     "output_type": "display_data"
    }
   ],
   "source": [
    "fig, ax = plt.subplots(1,1)\n",
    "ax.plot(sizes, t_numeric, 'o-', label='Inserting row-by-row')\n",
    "ax.plot(sizes, t_numeric_add, 'o-', label='Inserting row-by-row: add_result only')\n",
    "ax.plot(sizes, t_array, 'd-', label='Inserting as binary blob')\n",
    "ax.plot(sizes, t_array_add, 'd-', label='Inserting as binary blob: add_result only')\n",
    "ax.legend()\n",
    "ax.set_xlabel('Array length')\n",
    "ax.set_ylabel('Time (s)')\n",
    "fig.tight_layout()"
   ]
  },
  {
   "cell_type": "markdown",
   "metadata": {},
   "source": [
    "However, as we increase the length of the experiment, as seen here by repeating the insertion 100 times, we see a big difference between inserting values of the data row-by-row and inserting it as a binary blob."
   ]
  },
  {
   "cell_type": "markdown",
   "metadata": {},
   "source": [
    "## Loading the data "
   ]
  },
  {
   "cell_type": "code",
   "execution_count": 9,
   "metadata": {
    "execution": {
     "iopub.execute_input": "2021-03-01T06:49:59.685987Z",
     "iopub.status.busy": "2021-03-01T06:49:59.684545Z",
     "iopub.status.idle": "2021-03-01T06:49:59.690798Z",
     "shell.execute_reply": "2021-03-01T06:49:59.690289Z"
    }
   },
   "outputs": [],
   "source": [
    "from qcodes.dataset.data_set import load_by_id\n",
    "from qcodes.dataset.data_export import get_data_by_id"
   ]
  },
  {
   "cell_type": "markdown",
   "metadata": {},
   "source": [
    "As usual you can load the data by using the ``load_by_id`` function but you will notice that the different storage methods\n",
    "are reflected in shape of the data as it is retrieved. "
   ]
  },
  {
   "cell_type": "code",
   "execution_count": 10,
   "metadata": {
    "execution": {
     "iopub.execute_input": "2021-03-01T06:49:59.695257Z",
     "iopub.status.busy": "2021-03-01T06:49:59.694693Z",
     "iopub.status.idle": "2021-03-01T06:49:59.697921Z",
     "shell.execute_reply": "2021-03-01T06:49:59.698397Z"
    }
   },
   "outputs": [],
   "source": [
    "run_id_n = t_numeric_run_ids[0]\n",
    "run_id_a = t_array_run_ids[0]"
   ]
  },
  {
   "cell_type": "code",
   "execution_count": 11,
   "metadata": {
    "execution": {
     "iopub.execute_input": "2021-03-01T06:49:59.701631Z",
     "iopub.status.busy": "2021-03-01T06:49:59.701072Z",
     "iopub.status.idle": "2021-03-01T06:49:59.711648Z",
     "shell.execute_reply": "2021-03-01T06:49:59.711103Z"
    },
    "scrolled": true
   },
   "outputs": [
    {
     "data": {
      "text/plain": [
       "{'x1': {'x1': array([7.76350170e-01, 7.76350170e-01, 4.03825243e-01, 4.03825243e-01,\n",
       "         1.10566646e-01, 1.10566646e-01, 3.97200692e-01, 3.97200692e-01,\n",
       "         2.30137214e-02, 2.30137214e-02, 8.38013494e-01, 8.38013494e-01,\n",
       "         1.10918000e-02, 1.10918000e-02, 2.92172858e-01, 2.92172858e-01,\n",
       "         9.79834699e-02, 9.79834699e-02, 8.71895540e-01, 8.71895540e-01,\n",
       "         6.66533943e-01, 6.66533943e-01, 1.81507085e-01, 1.81507085e-01,\n",
       "         6.04481757e-01, 6.04481757e-01, 6.48832757e-01, 6.48832757e-01,\n",
       "         1.07382390e-01, 1.07382390e-01, 5.30067845e-01, 5.30067845e-01,\n",
       "         5.16858788e-02, 5.16858788e-02, 2.35067875e-01, 2.35067875e-01,\n",
       "         4.61273333e-01, 4.61273333e-01, 7.05897255e-01, 7.05897255e-01,\n",
       "         2.36565855e-02, 2.36565855e-02, 9.06501676e-01, 9.06501676e-01,\n",
       "         8.28618234e-01, 8.28618234e-01, 1.11017092e-01, 1.11017092e-01,\n",
       "         9.49350357e-01, 9.49350357e-01, 6.25742362e-01, 6.25742362e-01,\n",
       "         3.29879815e-01, 3.29879815e-01, 6.26628022e-01, 6.26628022e-01,\n",
       "         5.71558260e-01, 5.71558260e-01, 2.02314229e-01, 2.02314229e-01,\n",
       "         2.03181633e-01, 2.03181633e-01, 6.01054077e-01, 6.01054077e-01,\n",
       "         8.77716298e-01, 8.77716298e-01, 1.46164166e-01, 1.46164166e-01,\n",
       "         7.82658400e-01, 7.82658400e-01, 8.58568673e-01, 8.58568673e-01,\n",
       "         6.74785218e-01, 6.74785218e-01, 8.19047086e-01, 8.19047086e-01,\n",
       "         7.89022039e-01, 7.89022039e-01, 5.11936326e-01, 5.11936326e-01,\n",
       "         3.93676643e-01, 3.93676643e-01, 9.73754079e-01, 9.73754079e-01,\n",
       "         5.05852682e-01, 5.05852682e-01, 4.93788131e-01, 4.93788131e-01,\n",
       "         4.22010463e-01, 4.22010463e-01, 9.54965703e-01, 9.54965703e-01,\n",
       "         4.17631712e-01, 4.17631712e-01, 2.57544871e-01, 2.57544871e-01,\n",
       "         6.89316022e-01, 6.89316022e-01, 6.05827849e-01, 6.05827849e-01,\n",
       "         9.78124153e-01, 9.78124153e-01, 9.26661180e-01, 9.26661180e-01,\n",
       "         5.26365074e-01, 5.26365074e-01, 4.82695143e-03, 4.82695143e-03,\n",
       "         3.64907467e-01, 3.64907467e-01, 4.61496302e-01, 4.61496302e-01,\n",
       "         8.55206665e-01, 8.55206665e-01, 8.89507890e-02, 8.89507890e-02,\n",
       "         9.24013392e-01, 9.24013392e-01, 8.55376247e-01, 8.55376247e-01,\n",
       "         7.47772301e-01, 7.47772301e-01, 2.32998979e-01, 2.32998979e-01,\n",
       "         5.66336321e-01, 5.66336321e-01, 4.53477314e-01, 4.53477314e-01,\n",
       "         4.97824324e-01, 4.97824324e-01, 9.20223990e-02, 9.20223990e-02,\n",
       "         8.16892567e-01, 8.16892567e-01, 5.50856525e-01, 5.50856525e-01,\n",
       "         9.26146395e-01, 9.26146395e-01, 7.44139082e-01, 7.44139082e-01,\n",
       "         1.71183321e-01, 1.71183321e-01, 9.38752604e-01, 9.38752604e-01,\n",
       "         9.73754603e-01, 9.73754603e-01, 9.13769073e-01, 9.13769073e-01,\n",
       "         3.19479490e-01, 3.19479490e-01, 2.65041960e-01, 2.65041960e-01,\n",
       "         7.27722793e-01, 7.27722793e-01, 7.73015321e-01, 7.73015321e-01,\n",
       "         5.99506471e-01, 5.99506471e-01, 1.46293780e-04, 1.46293780e-04,\n",
       "         1.93246105e-01, 1.93246105e-01, 1.82842222e-01, 1.82842222e-01,\n",
       "         1.84439870e-01, 1.84439870e-01, 1.26517946e-01, 1.26517946e-01,\n",
       "         8.57260976e-01, 8.57260976e-01, 4.46172926e-01, 4.46172926e-01,\n",
       "         8.57453801e-01, 8.57453801e-01, 4.84481983e-01, 4.84481983e-01,\n",
       "         1.19743228e-01, 1.19743228e-01, 3.40283141e-01, 3.40283141e-01,\n",
       "         4.80271677e-01, 4.80271677e-01, 2.11297761e-01, 2.11297761e-01,\n",
       "         2.94912953e-01, 2.94912953e-01, 7.10633406e-01, 7.10633406e-01,\n",
       "         4.34741009e-01, 4.34741009e-01, 9.51356362e-01, 9.51356362e-01,\n",
       "         4.90191100e-01, 4.90191100e-01, 6.48745282e-01, 6.48745282e-01,\n",
       "         3.47594639e-01, 3.47594639e-01, 5.90823737e-02, 5.90823737e-02])}}"
      ]
     },
     "execution_count": 1,
     "metadata": {},
     "output_type": "execute_result"
    }
   ],
   "source": [
    "ds = load_by_id(run_id_n)\n",
    "ds.get_parameter_data('x1')"
   ]
  },
  {
   "cell_type": "markdown",
   "metadata": {},
   "source": [
    "And a dataset stored as binary arrays"
   ]
  },
  {
   "cell_type": "code",
   "execution_count": 12,
   "metadata": {
    "execution": {
     "iopub.execute_input": "2021-03-01T06:49:59.715077Z",
     "iopub.status.busy": "2021-03-01T06:49:59.714417Z",
     "iopub.status.idle": "2021-03-01T06:49:59.774987Z",
     "shell.execute_reply": "2021-03-01T06:49:59.774508Z"
    },
    "scrolled": true
   },
   "outputs": [
    {
     "data": {
      "text/plain": [
       "{'x1': {'x1': array([[0.19620793],\n",
       "         [0.19620793],\n",
       "         [0.77470471],\n",
       "         [0.77470471],\n",
       "         [0.85752317],\n",
       "         [0.85752317],\n",
       "         [0.03379935],\n",
       "         [0.03379935],\n",
       "         [0.99040808],\n",
       "         [0.99040808],\n",
       "         [0.98788735],\n",
       "         [0.98788735],\n",
       "         [0.85104367],\n",
       "         [0.85104367],\n",
       "         [0.45419996],\n",
       "         [0.45419996],\n",
       "         [0.62892005],\n",
       "         [0.62892005],\n",
       "         [0.25836326],\n",
       "         [0.25836326],\n",
       "         [0.68416193],\n",
       "         [0.68416193],\n",
       "         [0.99569994],\n",
       "         [0.99569994],\n",
       "         [0.57052704],\n",
       "         [0.57052704],\n",
       "         [0.7570593 ],\n",
       "         [0.7570593 ],\n",
       "         [0.83465865],\n",
       "         [0.83465865],\n",
       "         [0.95226936],\n",
       "         [0.95226936],\n",
       "         [0.36529516],\n",
       "         [0.36529516],\n",
       "         [0.51863761],\n",
       "         [0.51863761],\n",
       "         [0.36734441],\n",
       "         [0.36734441],\n",
       "         [0.2991399 ],\n",
       "         [0.2991399 ],\n",
       "         [0.04517821],\n",
       "         [0.04517821],\n",
       "         [0.68154321],\n",
       "         [0.68154321],\n",
       "         [0.80143009],\n",
       "         [0.80143009],\n",
       "         [0.43105351],\n",
       "         [0.43105351],\n",
       "         [0.51624221],\n",
       "         [0.51624221],\n",
       "         [0.22655749],\n",
       "         [0.22655749],\n",
       "         [0.77051548],\n",
       "         [0.77051548],\n",
       "         [0.67210322],\n",
       "         [0.67210322],\n",
       "         [0.66033214],\n",
       "         [0.66033214],\n",
       "         [0.92924357],\n",
       "         [0.92924357],\n",
       "         [0.79271099],\n",
       "         [0.79271099],\n",
       "         [0.84686661],\n",
       "         [0.84686661],\n",
       "         [0.87315365],\n",
       "         [0.87315365],\n",
       "         [0.10741775],\n",
       "         [0.10741775],\n",
       "         [0.65703496],\n",
       "         [0.65703496],\n",
       "         [0.87427282],\n",
       "         [0.87427282],\n",
       "         [0.81490523],\n",
       "         [0.81490523],\n",
       "         [0.56759752],\n",
       "         [0.56759752],\n",
       "         [0.78419125],\n",
       "         [0.78419125],\n",
       "         [0.22198559],\n",
       "         [0.22198559],\n",
       "         [0.46481713],\n",
       "         [0.46481713],\n",
       "         [0.36752582],\n",
       "         [0.36752582],\n",
       "         [0.45597278],\n",
       "         [0.45597278],\n",
       "         [0.53957159],\n",
       "         [0.53957159],\n",
       "         [0.58325367],\n",
       "         [0.58325367],\n",
       "         [0.57021945],\n",
       "         [0.57021945],\n",
       "         [0.65130858],\n",
       "         [0.65130858],\n",
       "         [0.85335472],\n",
       "         [0.85335472],\n",
       "         [0.18777091],\n",
       "         [0.18777091],\n",
       "         [0.58449475],\n",
       "         [0.58449475],\n",
       "         [0.52265922],\n",
       "         [0.52265922],\n",
       "         [0.58932717],\n",
       "         [0.58932717],\n",
       "         [0.3789466 ],\n",
       "         [0.3789466 ],\n",
       "         [0.26880313],\n",
       "         [0.26880313],\n",
       "         [0.19045212],\n",
       "         [0.19045212],\n",
       "         [0.46495317],\n",
       "         [0.46495317],\n",
       "         [0.78475612],\n",
       "         [0.78475612],\n",
       "         [0.16910435],\n",
       "         [0.16910435],\n",
       "         [0.93384847],\n",
       "         [0.93384847],\n",
       "         [0.5739462 ],\n",
       "         [0.5739462 ],\n",
       "         [0.74251666],\n",
       "         [0.74251666],\n",
       "         [0.9317257 ],\n",
       "         [0.9317257 ],\n",
       "         [0.3694968 ],\n",
       "         [0.3694968 ],\n",
       "         [0.91232786],\n",
       "         [0.91232786],\n",
       "         [0.33825623],\n",
       "         [0.33825623],\n",
       "         [0.94127397],\n",
       "         [0.94127397],\n",
       "         [0.89333417],\n",
       "         [0.89333417],\n",
       "         [0.9545781 ],\n",
       "         [0.9545781 ],\n",
       "         [0.30959742],\n",
       "         [0.30959742],\n",
       "         [0.63885577],\n",
       "         [0.63885577],\n",
       "         [0.37208229],\n",
       "         [0.37208229],\n",
       "         [0.9294729 ],\n",
       "         [0.9294729 ],\n",
       "         [0.42574837],\n",
       "         [0.42574837],\n",
       "         [0.14071693],\n",
       "         [0.14071693],\n",
       "         [0.58744934],\n",
       "         [0.58744934],\n",
       "         [0.9999488 ],\n",
       "         [0.9999488 ],\n",
       "         [0.94906144],\n",
       "         [0.94906144],\n",
       "         [0.92955337],\n",
       "         [0.92955337],\n",
       "         [0.18687407],\n",
       "         [0.18687407],\n",
       "         [0.33842436],\n",
       "         [0.33842436],\n",
       "         [0.61637592],\n",
       "         [0.61637592],\n",
       "         [0.46571679],\n",
       "         [0.46571679],\n",
       "         [0.36166976],\n",
       "         [0.36166976],\n",
       "         [0.10879733],\n",
       "         [0.10879733],\n",
       "         [0.19560481],\n",
       "         [0.19560481],\n",
       "         [0.37577295],\n",
       "         [0.37577295],\n",
       "         [0.82419098],\n",
       "         [0.82419098],\n",
       "         [0.08010119],\n",
       "         [0.08010119],\n",
       "         [0.43199109],\n",
       "         [0.43199109],\n",
       "         [0.24588171],\n",
       "         [0.24588171],\n",
       "         [0.68768788],\n",
       "         [0.68768788],\n",
       "         [0.67865562],\n",
       "         [0.67865562],\n",
       "         [0.46058826],\n",
       "         [0.46058826],\n",
       "         [0.15881059],\n",
       "         [0.15881059],\n",
       "         [0.71102827],\n",
       "         [0.71102827],\n",
       "         [0.18433588],\n",
       "         [0.18433588],\n",
       "         [0.57726895],\n",
       "         [0.57726895],\n",
       "         [0.74906336],\n",
       "         [0.74906336],\n",
       "         [0.16665697],\n",
       "         [0.16665697],\n",
       "         [0.12773583],\n",
       "         [0.12773583]])}}"
      ]
     },
     "execution_count": 1,
     "metadata": {},
     "output_type": "execute_result"
    }
   ],
   "source": [
    "ds = load_by_id(run_id_a)\n",
    "ds.get_parameter_data('x1')"
   ]
  },
  {
   "cell_type": "code",
   "execution_count": null,
   "metadata": {},
   "outputs": [],
   "source": []
  }
 ],
 "metadata": {
  "kernelspec": {
   "display_name": "Python 3",
   "language": "python",
   "name": "python3"
  },
  "language_info": {
   "codemirror_mode": {
    "name": "ipython",
    "version": 3
   },
   "file_extension": ".py",
   "mimetype": "text/x-python",
   "name": "python",
   "nbconvert_exporter": "python",
   "pygments_lexer": "ipython3",
   "version": "3.7.10"
  },
  "nbsphinx": {
   "timeout": 600
  },
  "toc": {
   "base_numbering": 1,
   "nav_menu": {},
   "number_sections": true,
   "sideBar": true,
   "skip_h1_title": false,
   "title_cell": "Table of Contents",
   "title_sidebar": "Contents",
   "toc_cell": false,
   "toc_position": {},
   "toc_section_display": true,
   "toc_window_display": false
  },
  "varInspector": {
   "cols": {
    "lenName": 16,
    "lenType": 16,
    "lenVar": 40
   },
   "kernels_config": {
    "python": {
     "delete_cmd_postfix": "",
     "delete_cmd_prefix": "del ",
     "library": "var_list.py",
     "varRefreshCmd": "print(var_dic_list())"
    },
    "r": {
     "delete_cmd_postfix": ") ",
     "delete_cmd_prefix": "rm(",
     "library": "var_list.r",
     "varRefreshCmd": "cat(var_dic_list()) "
    }
   },
   "types_to_exclude": [
    "module",
    "function",
    "builtin_function_or_method",
    "instance",
    "_Feature"
   ],
   "window_display": false
  }
 },
 "nbformat": 4,
 "nbformat_minor": 2
}
