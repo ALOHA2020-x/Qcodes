{
 "cells": [
  {
   "cell_type": "markdown",
   "metadata": {},
   "source": [
    "# DataSet Performance\n",
    "\n",
    "This notebook shows the trade-off between inserting data into a database row-by-row and as binary blobs. Inserting the data row-by-row means that we have direct access to all the data and may perform queries directly on the values of the data. On the other hand, as we shall see, this is much slower than inserting the data directly as binary blobs."
   ]
  },
  {
   "cell_type": "markdown",
   "metadata": {},
   "source": [
    "First, we choose a new location for the database to ensure that we don't add a bunch of benchmarking data to the default one."
   ]
  },
  {
   "cell_type": "code",
   "execution_count": 1,
   "metadata": {
    "execution": {
     "iopub.execute_input": "2020-10-23T07:06:41.467417Z",
     "iopub.status.busy": "2020-10-23T07:06:41.466247Z",
     "iopub.status.idle": "2020-10-23T07:06:42.602833Z",
     "shell.execute_reply": "2020-10-23T07:06:42.601970Z"
    }
   },
   "outputs": [
    {
     "name": "stdout",
     "output_type": "stream",
     "text": [
      "Logging hadn't been started.\n",
      "Activating auto-logging. Current session state plus future input saved.\n",
      "Filename       : /home/vsts/.qcodes/logs/command_history.log\n",
      "Mode           : append\n",
      "Output logging : True\n",
      "Raw input log  : False\n",
      "Timestamping   : True\n",
      "State          : active\n"
     ]
    },
    {
     "name": "stdout",
     "output_type": "stream",
     "text": [
      "Qcodes Logfile : /home/vsts/.qcodes/logs/201023-15136-qcodes.log\n"
     ]
    }
   ],
   "source": [
    "import os\n",
    "cwd = os.getcwd()\n",
    "import qcodes as qc\n",
    "qc.config[\"core\"][\"db_location\"] = os.path.join(cwd, 'testing.db')\n"
   ]
  },
  {
   "cell_type": "code",
   "execution_count": 2,
   "metadata": {
    "execution": {
     "iopub.execute_input": "2020-10-23T07:06:42.610251Z",
     "iopub.status.busy": "2020-10-23T07:06:42.608714Z",
     "iopub.status.idle": "2020-10-23T07:06:42.805692Z",
     "shell.execute_reply": "2020-10-23T07:06:42.804698Z"
    }
   },
   "outputs": [],
   "source": [
    "%matplotlib inline\n",
    "import time\n",
    "import matplotlib.pyplot as plt\n",
    "import numpy as np\n",
    "\n",
    "import qcodes as qc\n",
    "from qcodes.instrument.parameter import ManualParameter\n",
    "from qcodes.dataset.experiment_container import (Experiment,\n",
    "                                                 load_last_experiment,\n",
    "                                                 new_experiment)\n",
    "from qcodes.dataset.sqlite.database import initialise_database\n",
    "from qcodes import load_or_create_experiment\n",
    "from qcodes.dataset.measurements import Measurement"
   ]
  },
  {
   "cell_type": "code",
   "execution_count": 3,
   "metadata": {
    "execution": {
     "iopub.execute_input": "2020-10-23T07:06:42.809856Z",
     "iopub.status.busy": "2020-10-23T07:06:42.809298Z",
     "iopub.status.idle": "2020-10-23T07:06:42.921190Z",
     "shell.execute_reply": "2020-10-23T07:06:42.921760Z"
    }
   },
   "outputs": [
    {
     "name": "stdout",
     "output_type": "stream",
     "text": [
      "\r",
      "0it [00:00, ?it/s]"
     ]
    },
    {
     "name": "stdout",
     "output_type": "stream",
     "text": [
      "\r",
      "Upgrading database; v0 -> v1: : 0it [00:00, ?it/s]"
     ]
    },
    {
     "name": "stdout",
     "output_type": "stream",
     "text": [
      "\r",
      "Upgrading database; v0 -> v1: : 0it [00:00, ?it/s]"
     ]
    },
    {
     "name": "stdout",
     "output_type": "stream",
     "text": [
      "\n",
      "\r",
      "  0%|          | 0/1 [00:00<?, ?it/s]"
     ]
    },
    {
     "name": "stdout",
     "output_type": "stream",
     "text": [
      "\r",
      "Upgrading database; v1 -> v2:   0%|          | 0/1 [00:00<?, ?it/s]"
     ]
    },
    {
     "name": "stdout",
     "output_type": "stream",
     "text": [
      "\r",
      "Upgrading database; v1 -> v2: 100%|██████████| 1/1 [00:00<00:00, 852.85it/s]"
     ]
    },
    {
     "name": "stdout",
     "output_type": "stream",
     "text": [
      "\n",
      "\r",
      "0it [00:00, ?it/s]"
     ]
    },
    {
     "name": "stdout",
     "output_type": "stream",
     "text": [
      "\r",
      "Upgrading database; v2 -> v3: : 0it [00:00, ?it/s]"
     ]
    },
    {
     "name": "stdout",
     "output_type": "stream",
     "text": [
      "\r",
      "Upgrading database; v2 -> v3: : 0it [00:00, ?it/s]"
     ]
    },
    {
     "name": "stdout",
     "output_type": "stream",
     "text": [
      "\n",
      "\r",
      "0it [00:00, ?it/s]"
     ]
    },
    {
     "name": "stdout",
     "output_type": "stream",
     "text": [
      "\r",
      "Upgrading database; v3 -> v4: : 0it [00:00, ?it/s]"
     ]
    },
    {
     "name": "stdout",
     "output_type": "stream",
     "text": [
      "\r",
      "Upgrading database; v3 -> v4: : 0it [00:00, ?it/s]"
     ]
    },
    {
     "name": "stdout",
     "output_type": "stream",
     "text": [
      "\n",
      "\r",
      "  0%|          | 0/1 [00:00<?, ?it/s]"
     ]
    },
    {
     "name": "stdout",
     "output_type": "stream",
     "text": [
      "\r",
      "Upgrading database; v4 -> v5:   0%|          | 0/1 [00:00<?, ?it/s]"
     ]
    },
    {
     "name": "stdout",
     "output_type": "stream",
     "text": [
      "\r",
      "Upgrading database; v4 -> v5: 100%|██████████| 1/1 [00:00<00:00, 712.35it/s]"
     ]
    },
    {
     "name": "stdout",
     "output_type": "stream",
     "text": [
      "\n",
      "\r",
      "0it [00:00, ?it/s]"
     ]
    },
    {
     "name": "stdout",
     "output_type": "stream",
     "text": [
      "\r",
      "Upgrading database; v5 -> v6: : 0it [00:00, ?it/s]"
     ]
    },
    {
     "name": "stdout",
     "output_type": "stream",
     "text": [
      "\r",
      "Upgrading database; v5 -> v6: : 0it [00:00, ?it/s]"
     ]
    },
    {
     "name": "stdout",
     "output_type": "stream",
     "text": [
      "\n",
      "\r",
      "  0%|          | 0/1 [00:00<?, ?it/s]"
     ]
    },
    {
     "name": "stdout",
     "output_type": "stream",
     "text": [
      "\r",
      "Upgrading database; v6 -> v7:   0%|          | 0/1 [00:00<?, ?it/s]"
     ]
    },
    {
     "name": "stdout",
     "output_type": "stream",
     "text": [
      "\r",
      "Upgrading database; v6 -> v7: 100%|██████████| 1/1 [00:00<00:00, 306.35it/s]"
     ]
    },
    {
     "name": "stdout",
     "output_type": "stream",
     "text": [
      "\n",
      "\r",
      "  0%|          | 0/1 [00:00<?, ?it/s]"
     ]
    },
    {
     "name": "stdout",
     "output_type": "stream",
     "text": [
      "\r",
      "Upgrading database; v7 -> v8:   0%|          | 0/1 [00:00<?, ?it/s]"
     ]
    },
    {
     "name": "stdout",
     "output_type": "stream",
     "text": [
      "\r",
      "Upgrading database; v7 -> v8: 100%|██████████| 1/1 [00:00<00:00, 966.65it/s]"
     ]
    },
    {
     "name": "stdout",
     "output_type": "stream",
     "text": [
      "\n",
      "\r",
      "  0%|          | 0/1 [00:00<?, ?it/s]"
     ]
    },
    {
     "name": "stdout",
     "output_type": "stream",
     "text": [
      "\r",
      "Upgrading database; v8 -> v9:   0%|          | 0/1 [00:00<?, ?it/s]"
     ]
    },
    {
     "name": "stdout",
     "output_type": "stream",
     "text": [
      "\r",
      "Upgrading database; v8 -> v9: 100%|██████████| 1/1 [00:00<00:00, 1070.52it/s]"
     ]
    },
    {
     "name": "stdout",
     "output_type": "stream",
     "text": [
      "\n"
     ]
    }
   ],
   "source": [
    "initialise_database()\n",
    "exp = load_or_create_experiment(experiment_name='tutorial_exp', sample_name=\"no sample\")"
   ]
  },
  {
   "cell_type": "markdown",
   "metadata": {},
   "source": [
    "Here, we define a simple function to benchmark the time it takes to insert n points with either numeric or array data type.\n",
    "We will compare both the time used to call ``add_result`` and the time used for the full measurement."
   ]
  },
  {
   "cell_type": "code",
   "execution_count": 4,
   "metadata": {
    "execution": {
     "iopub.execute_input": "2020-10-23T07:06:42.928811Z",
     "iopub.status.busy": "2020-10-23T07:06:42.928220Z",
     "iopub.status.idle": "2020-10-23T07:06:42.931988Z",
     "shell.execute_reply": "2020-10-23T07:06:42.932498Z"
    }
   },
   "outputs": [],
   "source": [
    "def insert_data(paramtype, npoints, nreps=1):\n",
    "\n",
    "    meas = Measurement(exp=exp)\n",
    "\n",
    "    x1 = ManualParameter('x1')\n",
    "    x2 = ManualParameter('x2')\n",
    "    x3 = ManualParameter('x3')\n",
    "    y1 = ManualParameter('y1')\n",
    "    y2 = ManualParameter('y2')\n",
    "\n",
    "    meas.register_parameter(x1, paramtype=paramtype)\n",
    "    meas.register_parameter(x2, paramtype=paramtype)\n",
    "    meas.register_parameter(x3, paramtype=paramtype)\n",
    "    meas.register_parameter(y1, setpoints=[x1, x2, x3],\n",
    "                            paramtype=paramtype)\n",
    "    meas.register_parameter(y2, setpoints=[x1, x2, x3],\n",
    "                            paramtype=paramtype)\n",
    "    start = time.perf_counter()\n",
    "    with meas.run() as datasaver:\n",
    "        start_adding = time.perf_counter()\n",
    "        for i in range(nreps):\n",
    "            datasaver.add_result((x1, np.random.rand(npoints)),\n",
    "                                 (x2, np.random.rand(npoints)),\n",
    "                                 (x3, np.random.rand(npoints)),\n",
    "                                 (y1, np.random.rand(npoints)),\n",
    "                                 (y2, np.random.rand(npoints)))\n",
    "        stop_adding = time.perf_counter()\n",
    "        run_id = datasaver.run_id\n",
    "    stop = time.perf_counter()\n",
    "    tot_time = stop - start\n",
    "    add_time = stop_adding - start_adding\n",
    "    return tot_time, add_time, run_id"
   ]
  },
  {
   "cell_type": "markdown",
   "metadata": {},
   "source": [
    "## Comparison between numeric/array data and binary blob"
   ]
  },
  {
   "cell_type": "markdown",
   "metadata": {},
   "source": [
    "### Case1: Short experiment time"
   ]
  },
  {
   "cell_type": "code",
   "execution_count": 5,
   "metadata": {
    "execution": {
     "iopub.execute_input": "2020-10-23T07:06:42.938877Z",
     "iopub.status.busy": "2020-10-23T07:06:42.937486Z",
     "iopub.status.idle": "2020-10-23T07:06:43.865087Z",
     "shell.execute_reply": "2020-10-23T07:06:43.864610Z"
    }
   },
   "outputs": [
    {
     "name": "stdout",
     "output_type": "stream",
     "text": [
      "Starting experimental run with id: 1. \n",
      "Starting experimental run with id: 2. \n",
      "Starting experimental run with id: 3. \n",
      "Starting experimental run with id: 4. \n"
     ]
    },
    {
     "name": "stdout",
     "output_type": "stream",
     "text": [
      "Starting experimental run with id: 5. "
     ]
    },
    {
     "name": "stdout",
     "output_type": "stream",
     "text": [
      "\n"
     ]
    },
    {
     "name": "stdout",
     "output_type": "stream",
     "text": [
      "Starting experimental run with id: 6. \n",
      "Starting experimental run with id: 7. \n"
     ]
    },
    {
     "name": "stdout",
     "output_type": "stream",
     "text": [
      "Starting experimental run with id: 8. \n"
     ]
    },
    {
     "name": "stdout",
     "output_type": "stream",
     "text": [
      "Starting experimental run with id: 9. \n"
     ]
    },
    {
     "name": "stdout",
     "output_type": "stream",
     "text": [
      "Starting experimental run with id: 10. \n",
      "Starting experimental run with id: 11. \n"
     ]
    },
    {
     "name": "stdout",
     "output_type": "stream",
     "text": [
      "Starting experimental run with id: 12. \n"
     ]
    },
    {
     "name": "stdout",
     "output_type": "stream",
     "text": [
      "Starting experimental run with id: 13. \n"
     ]
    },
    {
     "name": "stdout",
     "output_type": "stream",
     "text": [
      "Starting experimental run with id: 14. \n"
     ]
    }
   ],
   "source": [
    "sizes = [1,500,1000,2000,3000,4000,5000]\n",
    "t_numeric = []\n",
    "t_numeric_add = []\n",
    "t_array = []\n",
    "t_array_add = []\n",
    "for size in sizes:\n",
    "    tn, tna, run_id_n =  insert_data('numeric', size)\n",
    "    t_numeric.append(tn)\n",
    "    t_numeric_add.append(tna)\n",
    "\n",
    "    ta, taa, run_id_a =  insert_data('array', size)\n",
    "    t_array.append(ta)\n",
    "    t_array_add.append(taa)"
   ]
  },
  {
   "cell_type": "code",
   "execution_count": 6,
   "metadata": {
    "execution": {
     "iopub.execute_input": "2020-10-23T07:06:43.886835Z",
     "iopub.status.busy": "2020-10-23T07:06:43.883686Z",
     "iopub.status.idle": "2020-10-23T07:06:44.125250Z",
     "shell.execute_reply": "2020-10-23T07:06:44.124672Z"
    }
   },
   "outputs": [
    {
     "data": {
      "image/png": "[encoded data removed]",
      "text/plain": [
       "<Figure size 432x288 with 1 Axes>"
      ]
     },
     "metadata": {
      "needs_background": "light"
     },
     "output_type": "display_data"
    }
   ],
   "source": [
    "fig, ax = plt.subplots(1,1)\n",
    "ax.plot(sizes, t_numeric, 'o-', label='Inserting row-by-row')\n",
    "ax.plot(sizes, t_numeric_add, 'o-', label='Inserting row-by-row: add_result only')\n",
    "ax.plot(sizes, t_array, 'd-', label='Inserting as binary blob')\n",
    "ax.plot(sizes, t_array_add, 'd-', label='Inserting as binary blob: add_result only')\n",
    "ax.legend()\n",
    "ax.set_xlabel('Array length')\n",
    "ax.set_ylabel('Time (s)')\n",
    "fig.tight_layout()"
   ]
  },
  {
   "cell_type": "markdown",
   "metadata": {},
   "source": [
    "As shown in the latter figure, the time to setup and and close the experiment is approximately 0.4 sec. In case of small array sizes, the difference between inserting values of data as arrays and inserting them row-by-row is relatively unimportant. At larger array sizes, i.e. above 10000 points, the cost of writing data as individual datapoints starts to become important.\n"
   ]
  },
  {
   "cell_type": "markdown",
   "metadata": {},
   "source": [
    "### Case2: Long experiment time "
   ]
  },
  {
   "cell_type": "code",
   "execution_count": 7,
   "metadata": {
    "execution": {
     "iopub.execute_input": "2020-10-23T07:06:44.131934Z",
     "iopub.status.busy": "2020-10-23T07:06:44.130905Z",
     "iopub.status.idle": "2020-10-23T07:07:48.366472Z",
     "shell.execute_reply": "2020-10-23T07:07:48.367142Z"
    }
   },
   "outputs": [
    {
     "name": "stdout",
     "output_type": "stream",
     "text": [
      "Starting experimental run with id: 15. \n",
      "Starting experimental run with id: 16. \n"
     ]
    },
    {
     "name": "stdout",
     "output_type": "stream",
     "text": [
      "Starting experimental run with id: 17. \n"
     ]
    },
    {
     "name": "stdout",
     "output_type": "stream",
     "text": [
      "Starting experimental run with id: 18. \n",
      "Starting experimental run with id: 19. \n"
     ]
    },
    {
     "name": "stdout",
     "output_type": "stream",
     "text": [
      "Starting experimental run with id: 20. \n"
     ]
    },
    {
     "name": "stdout",
     "output_type": "stream",
     "text": [
      "Starting experimental run with id: 21. \n"
     ]
    },
    {
     "name": "stdout",
     "output_type": "stream",
     "text": [
      "Starting experimental run with id: 22. \n"
     ]
    },
    {
     "name": "stdout",
     "output_type": "stream",
     "text": [
      "Starting experimental run with id: 23. \n"
     ]
    },
    {
     "name": "stdout",
     "output_type": "stream",
     "text": [
      "Starting experimental run with id: 24. \n"
     ]
    },
    {
     "name": "stdout",
     "output_type": "stream",
     "text": [
      "Starting experimental run with id: 25. \n"
     ]
    },
    {
     "name": "stdout",
     "output_type": "stream",
     "text": [
      "Starting experimental run with id: 26. \n"
     ]
    },
    {
     "name": "stdout",
     "output_type": "stream",
     "text": [
      "Starting experimental run with id: 27. \n"
     ]
    },
    {
     "name": "stdout",
     "output_type": "stream",
     "text": [
      "Starting experimental run with id: 28. \n"
     ]
    }
   ],
   "source": [
    "sizes = [1,500,1000,2000,3000,4000,5000]\n",
    "nreps = 100\n",
    "t_numeric = []\n",
    "t_numeric_add = []\n",
    "t_numeric_run_ids = []\n",
    "t_array = []\n",
    "t_array_add = []\n",
    "t_array_run_ids = []\n",
    "for size in sizes:\n",
    "    tn, tna, run_id_n =  insert_data('numeric', size, nreps=nreps)\n",
    "    t_numeric.append(tn)\n",
    "    t_numeric_add.append(tna)\n",
    "    t_numeric_run_ids.append(run_id_n)\n",
    "\n",
    "    ta, taa, run_id_a =  insert_data('array', size, nreps=nreps)\n",
    "    t_array.append(ta)\n",
    "    t_array_add.append(taa)\n",
    "    t_array_run_ids.append(run_id_a)"
   ]
  },
  {
   "cell_type": "code",
   "execution_count": 8,
   "metadata": {
    "execution": {
     "iopub.execute_input": "2020-10-23T07:07:48.399166Z",
     "iopub.status.busy": "2020-10-23T07:07:48.393996Z",
     "iopub.status.idle": "2020-10-23T07:07:48.622323Z",
     "shell.execute_reply": "2020-10-23T07:07:48.621851Z"
    },
    "scrolled": true
   },
   "outputs": [
    {
     "data": {
      "image/png": "[encoded data removed]",
      "text/plain": [
       "<Figure size 432x288 with 1 Axes>"
      ]
     },
     "metadata": {
      "needs_background": "light"
     },
     "output_type": "display_data"
    }
   ],
   "source": [
    "fig, ax = plt.subplots(1,1)\n",
    "ax.plot(sizes, t_numeric, 'o-', label='Inserting row-by-row')\n",
    "ax.plot(sizes, t_numeric_add, 'o-', label='Inserting row-by-row: add_result only')\n",
    "ax.plot(sizes, t_array, 'd-', label='Inserting as binary blob')\n",
    "ax.plot(sizes, t_array_add, 'd-', label='Inserting as binary blob: add_result only')\n",
    "ax.legend()\n",
    "ax.set_xlabel('Array length')\n",
    "ax.set_ylabel('Time (s)')\n",
    "fig.tight_layout()"
   ]
  },
  {
   "cell_type": "markdown",
   "metadata": {},
   "source": [
    "However, as we increase the length of the experiment, as seen here by repeating the insertion 100 times, we see a big difference between inserting values of the data row-by-row and inserting it as a binary blob."
   ]
  },
  {
   "cell_type": "markdown",
   "metadata": {},
   "source": [
    "## Loading the data "
   ]
  },
  {
   "cell_type": "code",
   "execution_count": 9,
   "metadata": {
    "execution": {
     "iopub.execute_input": "2020-10-23T07:07:48.626594Z",
     "iopub.status.busy": "2020-10-23T07:07:48.625520Z",
     "iopub.status.idle": "2020-10-23T07:07:48.629569Z",
     "shell.execute_reply": "2020-10-23T07:07:48.629105Z"
    }
   },
   "outputs": [],
   "source": [
    "from qcodes.dataset.data_set import load_by_id\n",
    "from qcodes.dataset.data_export import get_data_by_id"
   ]
  },
  {
   "cell_type": "markdown",
   "metadata": {},
   "source": [
    "As usual you can load the data by using the ``load_by_id`` function but you will notice that the different storage methods\n",
    "are reflected in shape of the data as it is retrieved. "
   ]
  },
  {
   "cell_type": "code",
   "execution_count": 10,
   "metadata": {
    "execution": {
     "iopub.execute_input": "2020-10-23T07:07:48.634050Z",
     "iopub.status.busy": "2020-10-23T07:07:48.632794Z",
     "iopub.status.idle": "2020-10-23T07:07:48.634736Z",
     "shell.execute_reply": "2020-10-23T07:07:48.635256Z"
    }
   },
   "outputs": [],
   "source": [
    "run_id_n = t_numeric_run_ids[0]\n",
    "run_id_a = t_array_run_ids[0]"
   ]
  },
  {
   "cell_type": "code",
   "execution_count": 11,
   "metadata": {
    "execution": {
     "iopub.execute_input": "2020-10-23T07:07:48.638364Z",
     "iopub.status.busy": "2020-10-23T07:07:48.637871Z",
     "iopub.status.idle": "2020-10-23T07:07:48.647882Z",
     "shell.execute_reply": "2020-10-23T07:07:48.648433Z"
    },
    "scrolled": true
   },
   "outputs": [
    {
     "data": {
      "text/plain": [
       "{'x1': {'x1': array([0.19979765, 0.19979765, 0.46785962, 0.46785962, 0.63995427,\n",
       "         0.63995427, 0.85013314, 0.85013314, 0.41514091, 0.41514091,\n",
       "         0.34137748, 0.34137748, 0.89201652, 0.89201652, 0.30906853,\n",
       "         0.30906853, 0.17189006, 0.17189006, 0.66040296, 0.66040296,\n",
       "         0.02890568, 0.02890568, 0.11835755, 0.11835755, 0.74026446,\n",
       "         0.74026446, 0.06173998, 0.06173998, 0.75744999, 0.75744999,\n",
       "         0.69894254, 0.69894254, 0.47259729, 0.47259729, 0.2570649 ,\n",
       "         0.2570649 , 0.45844493, 0.45844493, 0.90030306, 0.90030306,\n",
       "         0.17797658, 0.17797658, 0.62649433, 0.62649433, 0.54387202,\n",
       "         0.54387202, 0.05863497, 0.05863497, 0.53205764, 0.53205764,\n",
       "         0.78199585, 0.78199585, 0.44838419, 0.44838419, 0.73011563,\n",
       "         0.73011563, 0.24513646, 0.24513646, 0.57724043, 0.57724043,\n",
       "         0.17808126, 0.17808126, 0.59998397, 0.59998397, 0.29716885,\n",
       "         0.29716885, 0.02217262, 0.02217262, 0.2634441 , 0.2634441 ,\n",
       "         0.01880252, 0.01880252, 0.30467526, 0.30467526, 0.86393742,\n",
       "         0.86393742, 0.29581949, 0.29581949, 0.26293697, 0.26293697,\n",
       "         0.0236648 , 0.0236648 , 0.23057601, 0.23057601, 0.29694793,\n",
       "         0.29694793, 0.23043882, 0.23043882, 0.82205589, 0.82205589,\n",
       "         0.1777427 , 0.1777427 , 0.29934494, 0.29934494, 0.54210494,\n",
       "         0.54210494, 0.97941041, 0.97941041, 0.95055866, 0.95055866,\n",
       "         0.34218007, 0.34218007, 0.38097985, 0.38097985, 0.83745552,\n",
       "         0.83745552, 0.21470533, 0.21470533, 0.13889062, 0.13889062,\n",
       "         0.40519577, 0.40519577, 0.37986421, 0.37986421, 0.55059939,\n",
       "         0.55059939, 0.91946758, 0.91946758, 0.83018099, 0.83018099,\n",
       "         0.5680921 , 0.5680921 , 0.70414451, 0.70414451, 0.41405129,\n",
       "         0.41405129, 0.45345445, 0.45345445, 0.48394244, 0.48394244,\n",
       "         0.97400795, 0.97400795, 0.66953527, 0.66953527, 0.91586624,\n",
       "         0.91586624, 0.78547654, 0.78547654, 0.54433179, 0.54433179,\n",
       "         0.1059722 , 0.1059722 , 0.02560888, 0.02560888, 0.69893008,\n",
       "         0.69893008, 0.6195211 , 0.6195211 , 0.78927442, 0.78927442,\n",
       "         0.40374538, 0.40374538, 0.54987755, 0.54987755, 0.24536   ,\n",
       "         0.24536   , 0.76136064, 0.76136064, 0.8474651 , 0.8474651 ,\n",
       "         0.20256318, 0.20256318, 0.35780071, 0.35780071, 0.73349873,\n",
       "         0.73349873, 0.03313555, 0.03313555, 0.61369113, 0.61369113,\n",
       "         0.09798869, 0.09798869, 0.58193447, 0.58193447, 0.48035446,\n",
       "         0.48035446, 0.28914977, 0.28914977, 0.03633585, 0.03633585,\n",
       "         0.29809581, 0.29809581, 0.51117808, 0.51117808, 0.51482893,\n",
       "         0.51482893, 0.67410743, 0.67410743, 0.40515302, 0.40515302,\n",
       "         0.90399638, 0.90399638, 0.48940724, 0.48940724, 0.34949174,\n",
       "         0.34949174, 0.10416422, 0.10416422, 0.01115921, 0.01115921])}}"
      ]
     },
     "execution_count": 1,
     "metadata": {},
     "output_type": "execute_result"
    }
   ],
   "source": [
    "ds = load_by_id(run_id_n)\n",
    "ds.get_parameter_data('x1')"
   ]
  },
  {
   "cell_type": "markdown",
   "metadata": {},
   "source": [
    "And a dataset stored as binary arrays"
   ]
  },
  {
   "cell_type": "code",
   "execution_count": 12,
   "metadata": {
    "execution": {
     "iopub.execute_input": "2020-10-23T07:07:48.652081Z",
     "iopub.status.busy": "2020-10-23T07:07:48.651532Z",
     "iopub.status.idle": "2020-10-23T07:07:48.713969Z",
     "shell.execute_reply": "2020-10-23T07:07:48.713464Z"
    },
    "scrolled": true
   },
   "outputs": [
    {
     "data": {
      "text/plain": [
       "{'x1': {'x1': array([[8.63850873e-01],\n",
       "         [8.63850873e-01],\n",
       "         [5.34947915e-01],\n",
       "         [5.34947915e-01],\n",
       "         [9.23829879e-01],\n",
       "         [9.23829879e-01],\n",
       "         [9.03202274e-01],\n",
       "         [9.03202274e-01],\n",
       "         [2.06865284e-01],\n",
       "         [2.06865284e-01],\n",
       "         [9.46645039e-01],\n",
       "         [9.46645039e-01],\n",
       "         [3.68824573e-01],\n",
       "         [3.68824573e-01],\n",
       "         [2.90658052e-01],\n",
       "         [2.90658052e-01],\n",
       "         [7.83297083e-01],\n",
       "         [7.83297083e-01],\n",
       "         [6.38303293e-01],\n",
       "         [6.38303293e-01],\n",
       "         [2.72731430e-01],\n",
       "         [2.72731430e-01],\n",
       "         [6.31624949e-01],\n",
       "         [6.31624949e-01],\n",
       "         [5.52894512e-01],\n",
       "         [5.52894512e-01],\n",
       "         [4.62841592e-02],\n",
       "         [4.62841592e-02],\n",
       "         [6.51016906e-01],\n",
       "         [6.51016906e-01],\n",
       "         [3.87689263e-01],\n",
       "         [3.87689263e-01],\n",
       "         [7.54913863e-01],\n",
       "         [7.54913863e-01],\n",
       "         [2.06901399e-01],\n",
       "         [2.06901399e-01],\n",
       "         [4.52175947e-01],\n",
       "         [4.52175947e-01],\n",
       "         [4.21289277e-01],\n",
       "         [4.21289277e-01],\n",
       "         [2.96522940e-01],\n",
       "         [2.96522940e-01],\n",
       "         [8.41022672e-01],\n",
       "         [8.41022672e-01],\n",
       "         [9.10245563e-01],\n",
       "         [9.10245563e-01],\n",
       "         [5.00269784e-01],\n",
       "         [5.00269784e-01],\n",
       "         [1.50707439e-01],\n",
       "         [1.50707439e-01],\n",
       "         [3.82739087e-01],\n",
       "         [3.82739087e-01],\n",
       "         [2.62067984e-01],\n",
       "         [2.62067984e-01],\n",
       "         [5.11696181e-02],\n",
       "         [5.11696181e-02],\n",
       "         [3.97560377e-01],\n",
       "         [3.97560377e-01],\n",
       "         [7.81093995e-01],\n",
       "         [7.81093995e-01],\n",
       "         [5.06377244e-01],\n",
       "         [5.06377244e-01],\n",
       "         [2.83614974e-01],\n",
       "         [2.83614974e-01],\n",
       "         [5.80507179e-01],\n",
       "         [5.80507179e-01],\n",
       "         [3.26851806e-01],\n",
       "         [3.26851806e-01],\n",
       "         [1.05838632e-01],\n",
       "         [1.05838632e-01],\n",
       "         [7.59478725e-01],\n",
       "         [7.59478725e-01],\n",
       "         [5.86095398e-04],\n",
       "         [5.86095398e-04],\n",
       "         [5.01422096e-01],\n",
       "         [5.01422096e-01],\n",
       "         [7.60201930e-01],\n",
       "         [7.60201930e-01],\n",
       "         [5.93726588e-01],\n",
       "         [5.93726588e-01],\n",
       "         [7.96808905e-01],\n",
       "         [7.96808905e-01],\n",
       "         [1.65285157e-01],\n",
       "         [1.65285157e-01],\n",
       "         [4.64811235e-02],\n",
       "         [4.64811235e-02],\n",
       "         [8.14295185e-01],\n",
       "         [8.14295185e-01],\n",
       "         [7.03925210e-01],\n",
       "         [7.03925210e-01],\n",
       "         [4.58745572e-01],\n",
       "         [4.58745572e-01],\n",
       "         [4.28406236e-01],\n",
       "         [4.28406236e-01],\n",
       "         [7.11895703e-01],\n",
       "         [7.11895703e-01],\n",
       "         [2.04693637e-01],\n",
       "         [2.04693637e-01],\n",
       "         [3.75896583e-01],\n",
       "         [3.75896583e-01],\n",
       "         [2.14563910e-01],\n",
       "         [2.14563910e-01],\n",
       "         [8.52690398e-01],\n",
       "         [8.52690398e-01],\n",
       "         [6.11029280e-01],\n",
       "         [6.11029280e-01],\n",
       "         [2.37479890e-01],\n",
       "         [2.37479890e-01],\n",
       "         [6.26861592e-01],\n",
       "         [6.26861592e-01],\n",
       "         [2.38781074e-01],\n",
       "         [2.38781074e-01],\n",
       "         [2.71712593e-01],\n",
       "         [2.71712593e-01],\n",
       "         [5.08681423e-01],\n",
       "         [5.08681423e-01],\n",
       "         [8.40968428e-01],\n",
       "         [8.40968428e-01],\n",
       "         [5.32627360e-01],\n",
       "         [5.32627360e-01],\n",
       "         [5.44418525e-01],\n",
       "         [5.44418525e-01],\n",
       "         [5.30711859e-02],\n",
       "         [5.30711859e-02],\n",
       "         [3.53682375e-01],\n",
       "         [3.53682375e-01],\n",
       "         [6.18246463e-01],\n",
       "         [6.18246463e-01],\n",
       "         [9.34592230e-01],\n",
       "         [9.34592230e-01],\n",
       "         [3.50886604e-01],\n",
       "         [3.50886604e-01],\n",
       "         [5.29775569e-01],\n",
       "         [5.29775569e-01],\n",
       "         [6.34736570e-01],\n",
       "         [6.34736570e-01],\n",
       "         [3.73436605e-01],\n",
       "         [3.73436605e-01],\n",
       "         [8.02362483e-01],\n",
       "         [8.02362483e-01],\n",
       "         [1.47174494e-01],\n",
       "         [1.47174494e-01],\n",
       "         [3.50937752e-01],\n",
       "         [3.50937752e-01],\n",
       "         [1.52445283e-01],\n",
       "         [1.52445283e-01],\n",
       "         [9.35832395e-02],\n",
       "         [9.35832395e-02],\n",
       "         [8.05701508e-01],\n",
       "         [8.05701508e-01],\n",
       "         [1.07220463e-01],\n",
       "         [1.07220463e-01],\n",
       "         [7.44593325e-01],\n",
       "         [7.44593325e-01],\n",
       "         [7.55506874e-01],\n",
       "         [7.55506874e-01],\n",
       "         [6.77869516e-01],\n",
       "         [6.77869516e-01],\n",
       "         [2.81790011e-01],\n",
       "         [2.81790011e-01],\n",
       "         [3.08512023e-01],\n",
       "         [3.08512023e-01],\n",
       "         [8.22121610e-02],\n",
       "         [8.22121610e-02],\n",
       "         [5.59357097e-01],\n",
       "         [5.59357097e-01],\n",
       "         [3.28647162e-01],\n",
       "         [3.28647162e-01],\n",
       "         [6.72622192e-01],\n",
       "         [6.72622192e-01],\n",
       "         [3.86416721e-01],\n",
       "         [3.86416721e-01],\n",
       "         [4.31363092e-01],\n",
       "         [4.31363092e-01],\n",
       "         [4.83113682e-01],\n",
       "         [4.83113682e-01],\n",
       "         [9.45678775e-01],\n",
       "         [9.45678775e-01],\n",
       "         [8.45782930e-01],\n",
       "         [8.45782930e-01],\n",
       "         [9.04737406e-01],\n",
       "         [9.04737406e-01],\n",
       "         [8.72396846e-01],\n",
       "         [8.72396846e-01],\n",
       "         [9.33450581e-01],\n",
       "         [9.33450581e-01],\n",
       "         [6.81065870e-01],\n",
       "         [6.81065870e-01],\n",
       "         [3.11355002e-01],\n",
       "         [3.11355002e-01],\n",
       "         [4.52613862e-01],\n",
       "         [4.52613862e-01],\n",
       "         [2.53174657e-02],\n",
       "         [2.53174657e-02],\n",
       "         [7.53211702e-01],\n",
       "         [7.53211702e-01],\n",
       "         [8.80890086e-01],\n",
       "         [8.80890086e-01],\n",
       "         [4.78015923e-01],\n",
       "         [4.78015923e-01]])}}"
      ]
     },
     "execution_count": 1,
     "metadata": {},
     "output_type": "execute_result"
    }
   ],
   "source": [
    "ds = load_by_id(run_id_a)\n",
    "ds.get_parameter_data('x1')"
   ]
  },
  {
   "cell_type": "code",
   "execution_count": null,
   "metadata": {},
   "outputs": [],
   "source": []
  }
 ],
 "metadata": {
  "kernelspec": {
   "display_name": "Python 3",
   "language": "python",
   "name": "python3"
  },
  "language_info": {
   "codemirror_mode": {
    "name": "ipython",
    "version": 3
   },
   "file_extension": ".py",
   "mimetype": "text/x-python",
   "name": "python",
   "nbconvert_exporter": "python",
   "pygments_lexer": "ipython3",
   "version": "3.7.7"
  },
  "nbsphinx": {
   "timeout": 600
  },
  "toc": {
   "base_numbering": 1,
   "nav_menu": {},
   "number_sections": true,
   "sideBar": true,
   "skip_h1_title": false,
   "title_cell": "Table of Contents",
   "title_sidebar": "Contents",
   "toc_cell": false,
   "toc_position": {},
   "toc_section_display": true,
   "toc_window_display": false
  },
  "varInspector": {
   "cols": {
    "lenName": 16,
    "lenType": 16,
    "lenVar": 40
   },
   "kernels_config": {
    "python": {
     "delete_cmd_postfix": "",
     "delete_cmd_prefix": "del ",
     "library": "var_list.py",
     "varRefreshCmd": "print(var_dic_list())"
    },
    "r": {
     "delete_cmd_postfix": ") ",
     "delete_cmd_prefix": "rm(",
     "library": "var_list.r",
     "varRefreshCmd": "cat(var_dic_list()) "
    }
   },
   "types_to_exclude": [
    "module",
    "function",
    "builtin_function_or_method",
    "instance",
    "_Feature"
   ],
   "window_display": false
  }
 },
 "nbformat": 4,
 "nbformat_minor": 2
}
