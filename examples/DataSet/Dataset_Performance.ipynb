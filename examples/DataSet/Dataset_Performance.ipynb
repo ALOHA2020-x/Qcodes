{
 "cells": [
  {
   "cell_type": "markdown",
   "metadata": {},
   "source": [
    "# DataSet Performance\n",
    "\n",
    "This notebook shows the trade-off between inserting data into a database row-by-row and as binary blobs. Inserting the data row-by-row means that we have direct access to all the data and may perform queries directly on the values of the data. On the other hand, as we shall see, this is much slower than inserting the data directly as binary blobs."
   ]
  },
  {
   "cell_type": "markdown",
   "metadata": {},
   "source": [
    "First, we choose a new location for the database to ensure that we don't add a bunch of benchmarking data to the default one."
   ]
  },
  {
   "cell_type": "code",
   "execution_count": 1,
   "metadata": {},
   "outputs": [
    {
     "name": "stdout",
     "output_type": "stream",
     "text": [
      "Logging hadn't been started.\n",
      "Activating auto-logging. Current session state plus future input saved.\n",
      "Filename       : /home/vsts/.qcodes/logs/command_history.log\n",
      "Mode           : append\n",
      "Output logging : True\n",
      "Raw input log  : False\n",
      "Timestamping   : True\n",
      "State          : active\n"
     ]
    },
    {
     "name": "stdout",
     "output_type": "stream",
     "text": [
      "Qcodes Logfile : /home/vsts/.qcodes/logs/200324-18247-qcodes.log\n"
     ]
    }
   ],
   "source": [
    "import os\n",
    "cwd = os.getcwd()\n",
    "import qcodes as qc\n",
    "qc.config[\"core\"][\"db_location\"] = os.path.join(cwd, 'testing.db')\n"
   ]
  },
  {
   "cell_type": "code",
   "execution_count": 2,
   "metadata": {},
   "outputs": [],
   "source": [
    "%matplotlib inline\n",
    "import time\n",
    "import matplotlib.pyplot as plt\n",
    "import numpy as np\n",
    "\n",
    "import qcodes as qc\n",
    "from qcodes.instrument.parameter import ManualParameter\n",
    "from qcodes.dataset.experiment_container import (Experiment,\n",
    "                                                 load_last_experiment,\n",
    "                                                 new_experiment)\n",
    "from qcodes.dataset.sqlite.database import initialise_database\n",
    "from qcodes import load_or_create_experiment\n",
    "from qcodes.dataset.measurements import Measurement"
   ]
  },
  {
   "cell_type": "code",
   "execution_count": 3,
   "metadata": {},
   "outputs": [
    {
     "name": "stdout",
     "output_type": "stream",
     "text": [
      "\r",
      "0it [00:00, ?it/s]"
     ]
    },
    {
     "name": "stdout",
     "output_type": "stream",
     "text": [
      "\r",
      "Upgrading database; v0 -> v1: : 0it [00:00, ?it/s]"
     ]
    },
    {
     "name": "stdout",
     "output_type": "stream",
     "text": [
      "\r",
      "Upgrading database; v0 -> v1: : 0it [00:00, ?it/s]"
     ]
    },
    {
     "name": "stdout",
     "output_type": "stream",
     "text": [
      "\n",
      "\r",
      "  0%|          | 0/1 [00:00<?, ?it/s]"
     ]
    },
    {
     "name": "stdout",
     "output_type": "stream",
     "text": [
      "\r",
      "Upgrading database; v1 -> v2:   0%|          | 0/1 [00:00<?, ?it/s]"
     ]
    },
    {
     "name": "stdout",
     "output_type": "stream",
     "text": [
      "\r",
      "Upgrading database; v1 -> v2: 100%|██████████| 1/1 [00:00<00:00, 788.25it/s]"
     ]
    },
    {
     "name": "stdout",
     "output_type": "stream",
     "text": [
      "\n",
      "\r",
      "0it [00:00, ?it/s]"
     ]
    },
    {
     "name": "stdout",
     "output_type": "stream",
     "text": [
      "\r",
      "Upgrading database; v2 -> v3: : 0it [00:00, ?it/s]"
     ]
    },
    {
     "name": "stdout",
     "output_type": "stream",
     "text": [
      "\r",
      "Upgrading database; v2 -> v3: : 0it [00:00, ?it/s]"
     ]
    },
    {
     "name": "stdout",
     "output_type": "stream",
     "text": [
      "\n",
      "\r",
      "0it [00:00, ?it/s]"
     ]
    },
    {
     "name": "stdout",
     "output_type": "stream",
     "text": [
      "\r",
      "Upgrading database; v3 -> v4: : 0it [00:00, ?it/s]"
     ]
    },
    {
     "name": "stdout",
     "output_type": "stream",
     "text": [
      "\r",
      "Upgrading database; v3 -> v4: : 0it [00:00, ?it/s]"
     ]
    },
    {
     "name": "stdout",
     "output_type": "stream",
     "text": [
      "\n",
      "\r",
      "  0%|          | 0/1 [00:00<?, ?it/s]"
     ]
    },
    {
     "name": "stdout",
     "output_type": "stream",
     "text": [
      "\r",
      "Upgrading database; v4 -> v5:   0%|          | 0/1 [00:00<?, ?it/s]"
     ]
    },
    {
     "name": "stdout",
     "output_type": "stream",
     "text": [
      "\r",
      "Upgrading database; v4 -> v5: 100%|██████████| 1/1 [00:00<00:00, 720.30it/s]"
     ]
    },
    {
     "name": "stdout",
     "output_type": "stream",
     "text": [
      "\n",
      "\r",
      "0it [00:00, ?it/s]"
     ]
    },
    {
     "name": "stdout",
     "output_type": "stream",
     "text": [
      "\r",
      "Upgrading database; v5 -> v6: : 0it [00:00, ?it/s]"
     ]
    },
    {
     "name": "stdout",
     "output_type": "stream",
     "text": [
      "\r",
      "Upgrading database; v5 -> v6: : 0it [00:00, ?it/s]"
     ]
    },
    {
     "name": "stdout",
     "output_type": "stream",
     "text": [
      "\n",
      "\r",
      "  0%|          | 0/1 [00:00<?, ?it/s]"
     ]
    },
    {
     "name": "stdout",
     "output_type": "stream",
     "text": [
      "\r",
      "Upgrading database; v6 -> v7:   0%|          | 0/1 [00:00<?, ?it/s]"
     ]
    },
    {
     "name": "stdout",
     "output_type": "stream",
     "text": [
      "\r",
      "Upgrading database; v6 -> v7: 100%|██████████| 1/1 [00:00<00:00, 216.20it/s]"
     ]
    },
    {
     "name": "stdout",
     "output_type": "stream",
     "text": [
      "\n",
      "\r",
      "  0%|          | 0/1 [00:00<?, ?it/s]"
     ]
    },
    {
     "name": "stdout",
     "output_type": "stream",
     "text": [
      "\r",
      "Upgrading database; v7 -> v8:   0%|          | 0/1 [00:00<?, ?it/s]"
     ]
    },
    {
     "name": "stdout",
     "output_type": "stream",
     "text": [
      "\r",
      "Upgrading database; v7 -> v8: 100%|██████████| 1/1 [00:00<00:00, 780.63it/s]"
     ]
    },
    {
     "name": "stdout",
     "output_type": "stream",
     "text": [
      "\n",
      "\r",
      "  0%|          | 0/1 [00:00<?, ?it/s]"
     ]
    },
    {
     "name": "stdout",
     "output_type": "stream",
     "text": [
      "\r",
      "Upgrading database; v8 -> v9:   0%|          | 0/1 [00:00<?, ?it/s]"
     ]
    },
    {
     "name": "stdout",
     "output_type": "stream",
     "text": [
      "\r",
      "Upgrading database; v8 -> v9: 100%|██████████| 1/1 [00:00<00:00, 840.21it/s]"
     ]
    },
    {
     "name": "stdout",
     "output_type": "stream",
     "text": [
      "\n"
     ]
    }
   ],
   "source": [
    "initialise_database()\n",
    "exp = load_or_create_experiment(experiment_name='tutorial_exp', sample_name=\"no sample\")"
   ]
  },
  {
   "cell_type": "markdown",
   "metadata": {},
   "source": [
    "Here, we define a simple function to benchmark the time it takes to insert n points with either numeric or array data type.\n",
    "We will compare both the time used to call ``add_result`` and the time used for the full measurement."
   ]
  },
  {
   "cell_type": "code",
   "execution_count": 4,
   "metadata": {},
   "outputs": [],
   "source": [
    "def insert_data(paramtype, npoints, nreps=1):\n",
    "\n",
    "    meas = Measurement(exp=exp)\n",
    "\n",
    "    x1 = ManualParameter('x1')\n",
    "    x2 = ManualParameter('x2')\n",
    "    x3 = ManualParameter('x3')\n",
    "    y1 = ManualParameter('y1')\n",
    "    y2 = ManualParameter('y2')\n",
    "\n",
    "    meas.register_parameter(x1, paramtype=paramtype)\n",
    "    meas.register_parameter(x2, paramtype=paramtype)\n",
    "    meas.register_parameter(x3, paramtype=paramtype)\n",
    "    meas.register_parameter(y1, setpoints=[x1, x2, x3],\n",
    "                            paramtype=paramtype)\n",
    "    meas.register_parameter(y2, setpoints=[x1, x2, x3],\n",
    "                            paramtype=paramtype)\n",
    "    start = time.perf_counter()\n",
    "    with meas.run() as datasaver:\n",
    "        start_adding = time.perf_counter()\n",
    "        for i in range(nreps):\n",
    "            datasaver.add_result((x1, np.random.rand(npoints)),\n",
    "                                 (x2, np.random.rand(npoints)),\n",
    "                                 (x3, np.random.rand(npoints)),\n",
    "                                 (y1, np.random.rand(npoints)),\n",
    "                                 (y2, np.random.rand(npoints)))\n",
    "        stop_adding = time.perf_counter()\n",
    "        run_id = datasaver.run_id\n",
    "    stop = time.perf_counter()\n",
    "    tot_time = stop - start\n",
    "    add_time = stop_adding - start_adding\n",
    "    return tot_time, add_time, run_id"
   ]
  },
  {
   "cell_type": "markdown",
   "metadata": {},
   "source": [
    "## Comparison between numeric/array data and binary blob"
   ]
  },
  {
   "cell_type": "markdown",
   "metadata": {},
   "source": [
    "### Case1: Short experiment time"
   ]
  },
  {
   "cell_type": "code",
   "execution_count": 5,
   "metadata": {},
   "outputs": [
    {
     "name": "stdout",
     "output_type": "stream",
     "text": [
      "Starting experimental run with id: 1. \n",
      "Starting experimental run with id: 2. \n",
      "Starting experimental run with id: 3. \n"
     ]
    },
    {
     "name": "stdout",
     "output_type": "stream",
     "text": [
      "Starting experimental run with id: 4. \n"
     ]
    },
    {
     "name": "stdout",
     "output_type": "stream",
     "text": [
      "Starting experimental run with id: 5. \n",
      "Starting experimental run with id: 6. \n"
     ]
    },
    {
     "name": "stdout",
     "output_type": "stream",
     "text": [
      "Starting experimental run with id: 7. \n"
     ]
    },
    {
     "name": "stdout",
     "output_type": "stream",
     "text": [
      "Starting experimental run with id: 8. \n",
      "Starting experimental run with id: 9. \n"
     ]
    },
    {
     "name": "stdout",
     "output_type": "stream",
     "text": [
      "Starting experimental run with id: 10. \n",
      "Starting experimental run with id: 11. \n"
     ]
    },
    {
     "name": "stdout",
     "output_type": "stream",
     "text": [
      "Starting experimental run with id: 12. \n"
     ]
    },
    {
     "name": "stdout",
     "output_type": "stream",
     "text": [
      "Starting experimental run with id: 13. \n"
     ]
    },
    {
     "name": "stdout",
     "output_type": "stream",
     "text": [
      "Starting experimental run with id: 14. \n"
     ]
    }
   ],
   "source": [
    "sizes = [1,500,1000,2000,3000,4000,5000]\n",
    "t_numeric = []\n",
    "t_numeric_add = []\n",
    "t_array = []\n",
    "t_array_add = []\n",
    "for size in sizes:\n",
    "    tn, tna, run_id_n =  insert_data('numeric', size)\n",
    "    t_numeric.append(tn)\n",
    "    t_numeric_add.append(tna)\n",
    "\n",
    "    ta, taa, run_id_a =  insert_data('array', size)\n",
    "    t_array.append(ta)\n",
    "    t_array_add.append(taa)"
   ]
  },
  {
   "cell_type": "code",
   "execution_count": 6,
   "metadata": {},
   "outputs": [
    {
     "data": {
      "image/png": "[encoded data removed]",
      "text/plain": [
       "<Figure size 432x288 with 1 Axes>"
      ]
     },
     "metadata": {
      "needs_background": "light"
     },
     "output_type": "display_data"
    }
   ],
   "source": [
    "fig, ax = plt.subplots(1,1)\n",
    "ax.plot(sizes, t_numeric, 'o-', label='Inserting row-by-row')\n",
    "ax.plot(sizes, t_numeric_add, 'o-', label='Inserting row-by-row: add_result only')\n",
    "ax.plot(sizes, t_array, 'd-', label='Inserting as binary blob')\n",
    "ax.plot(sizes, t_array_add, 'd-', label='Inserting as binary blob: add_result only')\n",
    "ax.legend()\n",
    "ax.set_xlabel('Array length')\n",
    "ax.set_ylabel('Time (s)')\n",
    "fig.tight_layout()"
   ]
  },
  {
   "cell_type": "markdown",
   "metadata": {},
   "source": [
    "As shown in the latter figure, the time to setup and and close the experiment is approximately 0.4 sec. In case of small array sizes, the difference between inserting values of data as arrays and inserting them row-by-row is relatively unimportant. At larger array sizes, i.e. above 10000 points, the cost of writing data as individual datapoints starts to become important.\n"
   ]
  },
  {
   "cell_type": "markdown",
   "metadata": {},
   "source": [
    "### Case2: Long experiment time "
   ]
  },
  {
   "cell_type": "code",
   "execution_count": 7,
   "metadata": {},
   "outputs": [
    {
     "name": "stdout",
     "output_type": "stream",
     "text": [
      "Starting experimental run with id: 15. \n",
      "Starting experimental run with id: 16. \n",
      "Starting experimental run with id: 17. \n"
     ]
    },
    {
     "name": "stdout",
     "output_type": "stream",
     "text": [
      "Starting experimental run with id: 18. \n",
      "Starting experimental run with id: 19. \n"
     ]
    },
    {
     "name": "stdout",
     "output_type": "stream",
     "text": [
      "Starting experimental run with id: 20. \n"
     ]
    },
    {
     "name": "stdout",
     "output_type": "stream",
     "text": [
      "Starting experimental run with id: 21. \n"
     ]
    },
    {
     "name": "stdout",
     "output_type": "stream",
     "text": [
      "Starting experimental run with id: 22. \n"
     ]
    },
    {
     "name": "stdout",
     "output_type": "stream",
     "text": [
      "Starting experimental run with id: 23. \n"
     ]
    },
    {
     "name": "stdout",
     "output_type": "stream",
     "text": [
      "Starting experimental run with id: 24. \n"
     ]
    },
    {
     "name": "stdout",
     "output_type": "stream",
     "text": [
      "Starting experimental run with id: 25. \n"
     ]
    },
    {
     "name": "stdout",
     "output_type": "stream",
     "text": [
      "Starting experimental run with id: 26. \n"
     ]
    },
    {
     "name": "stdout",
     "output_type": "stream",
     "text": [
      "Starting experimental run with id: 27. \n"
     ]
    },
    {
     "name": "stdout",
     "output_type": "stream",
     "text": [
      "Starting experimental run with id: 28. \n"
     ]
    }
   ],
   "source": [
    "sizes = [1,500,1000,2000,3000,4000,5000]\n",
    "nreps = 100\n",
    "t_numeric = []\n",
    "t_numeric_add = []\n",
    "t_numeric_run_ids = []\n",
    "t_array = []\n",
    "t_array_add = []\n",
    "t_array_run_ids = []\n",
    "for size in sizes:\n",
    "    tn, tna, run_id_n =  insert_data('numeric', size, nreps=nreps)\n",
    "    t_numeric.append(tn)\n",
    "    t_numeric_add.append(tna)\n",
    "    t_numeric_run_ids.append(run_id_n)\n",
    "\n",
    "    ta, taa, run_id_a =  insert_data('array', size, nreps=nreps)\n",
    "    t_array.append(ta)\n",
    "    t_array_add.append(taa)\n",
    "    t_array_run_ids.append(run_id_a)"
   ]
  },
  {
   "cell_type": "code",
   "execution_count": 8,
   "metadata": {
    "scrolled": true
   },
   "outputs": [
    {
     "data": {
      "image/png": "[encoded data removed]",
      "text/plain": [
       "<Figure size 432x288 with 1 Axes>"
      ]
     },
     "metadata": {
      "needs_background": "light"
     },
     "output_type": "display_data"
    }
   ],
   "source": [
    "fig, ax = plt.subplots(1,1)\n",
    "ax.plot(sizes, t_numeric, 'o-', label='Inserting row-by-row')\n",
    "ax.plot(sizes, t_numeric_add, 'o-', label='Inserting row-by-row: add_result only')\n",
    "ax.plot(sizes, t_array, 'd-', label='Inserting as binary blob')\n",
    "ax.plot(sizes, t_array_add, 'd-', label='Inserting as binary blob: add_result only')\n",
    "ax.legend()\n",
    "ax.set_xlabel('Array length')\n",
    "ax.set_ylabel('Time (s)')\n",
    "fig.tight_layout()"
   ]
  },
  {
   "cell_type": "markdown",
   "metadata": {},
   "source": [
    "However, as we increase the length of the experiment, as seen here by repeating the insertion 100 times, we see a big difference between inserting values of the data row-by-row and inserting it as a binary blob."
   ]
  },
  {
   "cell_type": "markdown",
   "metadata": {},
   "source": [
    "## Loading the data "
   ]
  },
  {
   "cell_type": "code",
   "execution_count": 9,
   "metadata": {},
   "outputs": [],
   "source": [
    "from qcodes.dataset.data_set import load_by_id\n",
    "from qcodes.dataset.data_export import get_data_by_id"
   ]
  },
  {
   "cell_type": "markdown",
   "metadata": {},
   "source": [
    "As usual you can load the data by using the ``load_by_id`` function but you will notice that the different storage methods\n",
    "are reflected in shape of the data as it is retrieved. "
   ]
  },
  {
   "cell_type": "code",
   "execution_count": 10,
   "metadata": {},
   "outputs": [],
   "source": [
    "run_id_n = t_numeric_run_ids[0]\n",
    "run_id_a = t_array_run_ids[0]"
   ]
  },
  {
   "cell_type": "code",
   "execution_count": 11,
   "metadata": {
    "scrolled": true
   },
   "outputs": [
    {
     "data": {
      "text/plain": [
       "{'x1': {'x1': array([0.4401985 , 0.4401985 , 0.1442666 , 0.1442666 , 0.17084285,\n",
       "         0.17084285, 0.78180394, 0.78180394, 0.75580632, 0.75580632,\n",
       "         0.37641605, 0.37641605, 0.33882469, 0.33882469, 0.5491468 ,\n",
       "         0.5491468 , 0.87074522, 0.87074522, 0.00487804, 0.00487804,\n",
       "         0.32772096, 0.32772096, 0.52113945, 0.52113945, 0.63435024,\n",
       "         0.63435024, 0.25631476, 0.25631476, 0.12489306, 0.12489306,\n",
       "         0.30982716, 0.30982716, 0.43427267, 0.43427267, 0.37044245,\n",
       "         0.37044245, 0.97890592, 0.97890592, 0.09630972, 0.09630972,\n",
       "         0.64500277, 0.64500277, 0.76682535, 0.76682535, 0.04116923,\n",
       "         0.04116923, 0.89064139, 0.89064139, 0.01940657, 0.01940657,\n",
       "         0.07315856, 0.07315856, 0.42520534, 0.42520534, 0.26248951,\n",
       "         0.26248951, 0.70500301, 0.70500301, 0.13605864, 0.13605864,\n",
       "         0.7844628 , 0.7844628 , 0.70412036, 0.70412036, 0.30070612,\n",
       "         0.30070612, 0.70998695, 0.70998695, 0.79736856, 0.79736856,\n",
       "         0.82916483, 0.82916483, 0.54892206, 0.54892206, 0.90385803,\n",
       "         0.90385803, 0.34132361, 0.34132361, 0.54654021, 0.54654021,\n",
       "         0.82094633, 0.82094633, 0.98987575, 0.98987575, 0.96918212,\n",
       "         0.96918212, 0.96356423, 0.96356423, 0.63803422, 0.63803422,\n",
       "         0.29545404, 0.29545404, 0.26985057, 0.26985057, 0.08873162,\n",
       "         0.08873162, 0.69143262, 0.69143262, 0.46314936, 0.46314936,\n",
       "         0.83064626, 0.83064626, 0.70664248, 0.70664248, 0.57109335,\n",
       "         0.57109335, 0.91239662, 0.91239662, 0.24429896, 0.24429896,\n",
       "         0.7271214 , 0.7271214 , 0.06550158, 0.06550158, 0.51267554,\n",
       "         0.51267554, 0.23023537, 0.23023537, 0.01075476, 0.01075476,\n",
       "         0.17907608, 0.17907608, 0.24577769, 0.24577769, 0.80300253,\n",
       "         0.80300253, 0.82121708, 0.82121708, 0.98627626, 0.98627626,\n",
       "         0.08885491, 0.08885491, 0.51177897, 0.51177897, 0.07533637,\n",
       "         0.07533637, 0.06186901, 0.06186901, 0.16227291, 0.16227291,\n",
       "         0.45195877, 0.45195877, 0.05058314, 0.05058314, 0.7045315 ,\n",
       "         0.7045315 , 0.11529561, 0.11529561, 0.47679282, 0.47679282,\n",
       "         0.70302685, 0.70302685, 0.4362852 , 0.4362852 , 0.64573533,\n",
       "         0.64573533, 0.70440699, 0.70440699, 0.76237771, 0.76237771,\n",
       "         0.88052506, 0.88052506, 0.65112623, 0.65112623, 0.66846108,\n",
       "         0.66846108, 0.89284098, 0.89284098, 0.34255652, 0.34255652,\n",
       "         0.78353456, 0.78353456, 0.38350296, 0.38350296, 0.33426005,\n",
       "         0.33426005, 0.30348035, 0.30348035, 0.94623937, 0.94623937,\n",
       "         0.85872596, 0.85872596, 0.01004342, 0.01004342, 0.22007862,\n",
       "         0.22007862, 0.80764735, 0.80764735, 0.23546452, 0.23546452,\n",
       "         0.71918072, 0.71918072, 0.78851552, 0.78851552, 0.61101046,\n",
       "         0.61101046, 0.86007002, 0.86007002, 0.20112308, 0.20112308])}}"
      ]
     },
     "execution_count": 11,
     "metadata": {},
     "output_type": "execute_result"
    }
   ],
   "source": [
    "ds = load_by_id(run_id_n)\n",
    "ds.get_parameter_data('x1')"
   ]
  },
  {
   "cell_type": "markdown",
   "metadata": {},
   "source": [
    "And a dataset stored as binary arrays"
   ]
  },
  {
   "cell_type": "code",
   "execution_count": 12,
   "metadata": {
    "scrolled": true
   },
   "outputs": [
    {
     "data": {
      "text/plain": [
       "{'x1': {'x1': array([[0.24545755],\n",
       "         [0.24545755],\n",
       "         [0.7525243 ],\n",
       "         [0.7525243 ],\n",
       "         [0.8797154 ],\n",
       "         [0.8797154 ],\n",
       "         [0.06103892],\n",
       "         [0.06103892],\n",
       "         [0.65897063],\n",
       "         [0.65897063],\n",
       "         [0.06792922],\n",
       "         [0.06792922],\n",
       "         [0.07320349],\n",
       "         [0.07320349],\n",
       "         [0.68026513],\n",
       "         [0.68026513],\n",
       "         [0.62296142],\n",
       "         [0.62296142],\n",
       "         [0.1949032 ],\n",
       "         [0.1949032 ],\n",
       "         [0.89639195],\n",
       "         [0.89639195],\n",
       "         [0.63746671],\n",
       "         [0.63746671],\n",
       "         [0.71831517],\n",
       "         [0.71831517],\n",
       "         [0.77422652],\n",
       "         [0.77422652],\n",
       "         [0.88662109],\n",
       "         [0.88662109],\n",
       "         [0.19341825],\n",
       "         [0.19341825],\n",
       "         [0.57726151],\n",
       "         [0.57726151],\n",
       "         [0.07413137],\n",
       "         [0.07413137],\n",
       "         [0.89184425],\n",
       "         [0.89184425],\n",
       "         [0.35719023],\n",
       "         [0.35719023],\n",
       "         [0.99796811],\n",
       "         [0.99796811],\n",
       "         [0.04379285],\n",
       "         [0.04379285],\n",
       "         [0.31301788],\n",
       "         [0.31301788],\n",
       "         [0.11008238],\n",
       "         [0.11008238],\n",
       "         [0.06796502],\n",
       "         [0.06796502],\n",
       "         [0.22431591],\n",
       "         [0.22431591],\n",
       "         [0.03656204],\n",
       "         [0.03656204],\n",
       "         [0.33635187],\n",
       "         [0.33635187],\n",
       "         [0.80651549],\n",
       "         [0.80651549],\n",
       "         [0.65864581],\n",
       "         [0.65864581],\n",
       "         [0.34780063],\n",
       "         [0.34780063],\n",
       "         [0.17378998],\n",
       "         [0.17378998],\n",
       "         [0.39522481],\n",
       "         [0.39522481],\n",
       "         [0.06248708],\n",
       "         [0.06248708],\n",
       "         [0.10425438],\n",
       "         [0.10425438],\n",
       "         [0.54071696],\n",
       "         [0.54071696],\n",
       "         [0.23812005],\n",
       "         [0.23812005],\n",
       "         [0.97357395],\n",
       "         [0.97357395],\n",
       "         [0.00827912],\n",
       "         [0.00827912],\n",
       "         [0.73254074],\n",
       "         [0.73254074],\n",
       "         [0.62929851],\n",
       "         [0.62929851],\n",
       "         [0.68942404],\n",
       "         [0.68942404],\n",
       "         [0.84318731],\n",
       "         [0.84318731],\n",
       "         [0.97953508],\n",
       "         [0.97953508],\n",
       "         [0.81611696],\n",
       "         [0.81611696],\n",
       "         [0.32533678],\n",
       "         [0.32533678],\n",
       "         [0.08290178],\n",
       "         [0.08290178],\n",
       "         [0.38871127],\n",
       "         [0.38871127],\n",
       "         [0.83533619],\n",
       "         [0.83533619],\n",
       "         [0.19345982],\n",
       "         [0.19345982],\n",
       "         [0.91210401],\n",
       "         [0.91210401],\n",
       "         [0.56283085],\n",
       "         [0.56283085],\n",
       "         [0.06921183],\n",
       "         [0.06921183],\n",
       "         [0.69204151],\n",
       "         [0.69204151],\n",
       "         [0.31633555],\n",
       "         [0.31633555],\n",
       "         [0.00527379],\n",
       "         [0.00527379],\n",
       "         [0.61276713],\n",
       "         [0.61276713],\n",
       "         [0.31704658],\n",
       "         [0.31704658],\n",
       "         [0.91998562],\n",
       "         [0.91998562],\n",
       "         [0.19694847],\n",
       "         [0.19694847],\n",
       "         [0.68580224],\n",
       "         [0.68580224],\n",
       "         [0.08877092],\n",
       "         [0.08877092],\n",
       "         [0.58495199],\n",
       "         [0.58495199],\n",
       "         [0.8451829 ],\n",
       "         [0.8451829 ],\n",
       "         [0.9881736 ],\n",
       "         [0.9881736 ],\n",
       "         [0.52646793],\n",
       "         [0.52646793],\n",
       "         [0.62763156],\n",
       "         [0.62763156],\n",
       "         [0.21432073],\n",
       "         [0.21432073],\n",
       "         [0.83228746],\n",
       "         [0.83228746],\n",
       "         [0.14589283],\n",
       "         [0.14589283],\n",
       "         [0.9727938 ],\n",
       "         [0.9727938 ],\n",
       "         [0.77361295],\n",
       "         [0.77361295],\n",
       "         [0.94494129],\n",
       "         [0.94494129],\n",
       "         [0.40558559],\n",
       "         [0.40558559],\n",
       "         [0.13435239],\n",
       "         [0.13435239],\n",
       "         [0.13258771],\n",
       "         [0.13258771],\n",
       "         [0.0643191 ],\n",
       "         [0.0643191 ],\n",
       "         [0.61179613],\n",
       "         [0.61179613],\n",
       "         [0.48045568],\n",
       "         [0.48045568],\n",
       "         [0.59930962],\n",
       "         [0.59930962],\n",
       "         [0.59965459],\n",
       "         [0.59965459],\n",
       "         [0.77935782],\n",
       "         [0.77935782],\n",
       "         [0.38678937],\n",
       "         [0.38678937],\n",
       "         [0.41520247],\n",
       "         [0.41520247],\n",
       "         [0.81855776],\n",
       "         [0.81855776],\n",
       "         [0.87814264],\n",
       "         [0.87814264],\n",
       "         [0.94248988],\n",
       "         [0.94248988],\n",
       "         [0.63765562],\n",
       "         [0.63765562],\n",
       "         [0.9773952 ],\n",
       "         [0.9773952 ],\n",
       "         [0.83421107],\n",
       "         [0.83421107],\n",
       "         [0.429767  ],\n",
       "         [0.429767  ],\n",
       "         [0.9224853 ],\n",
       "         [0.9224853 ],\n",
       "         [0.58092544],\n",
       "         [0.58092544],\n",
       "         [0.2710584 ],\n",
       "         [0.2710584 ],\n",
       "         [0.55347251],\n",
       "         [0.55347251],\n",
       "         [0.00938096],\n",
       "         [0.00938096],\n",
       "         [0.8606395 ],\n",
       "         [0.8606395 ],\n",
       "         [0.56110072],\n",
       "         [0.56110072],\n",
       "         [0.31664959],\n",
       "         [0.31664959],\n",
       "         [0.43733238],\n",
       "         [0.43733238]])}}"
      ]
     },
     "execution_count": 12,
     "metadata": {},
     "output_type": "execute_result"
    }
   ],
   "source": [
    "ds = load_by_id(run_id_a)\n",
    "ds.get_parameter_data('x1')"
   ]
  },
  {
   "cell_type": "code",
   "execution_count": null,
   "metadata": {},
   "outputs": [],
   "source": []
  }
 ],
 "metadata": {
  "kernelspec": {
   "display_name": "Python 3",
   "language": "python",
   "name": "python3"
  },
  "language_info": {
   "codemirror_mode": {
    "name": "ipython",
    "version": 3
   },
   "file_extension": ".py",
   "mimetype": "text/x-python",
   "name": "python",
   "nbconvert_exporter": "python",
   "pygments_lexer": "ipython3",
   "version": "3.7.5"
  },
  "nbsphinx": {
   "timeout": 600
  },
  "toc": {
   "base_numbering": 1,
   "nav_menu": {},
   "number_sections": true,
   "sideBar": true,
   "skip_h1_title": false,
   "title_cell": "Table of Contents",
   "title_sidebar": "Contents",
   "toc_cell": false,
   "toc_position": {},
   "toc_section_display": true,
   "toc_window_display": false
  },
  "varInspector": {
   "cols": {
    "lenName": 16,
    "lenType": 16,
    "lenVar": 40
   },
   "kernels_config": {
    "python": {
     "delete_cmd_postfix": "",
     "delete_cmd_prefix": "del ",
     "library": "var_list.py",
     "varRefreshCmd": "print(var_dic_list())"
    },
    "r": {
     "delete_cmd_postfix": ") ",
     "delete_cmd_prefix": "rm(",
     "library": "var_list.r",
     "varRefreshCmd": "cat(var_dic_list()) "
    }
   },
   "types_to_exclude": [
    "module",
    "function",
    "builtin_function_or_method",
    "instance",
    "_Feature"
   ],
   "window_display": false
  }
 },
 "nbformat": 4,
 "nbformat_minor": 2
}
