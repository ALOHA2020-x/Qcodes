{
 "cells": [
  {
   "cell_type": "markdown",
   "metadata": {},
   "source": [
    "# DataSet Performance\n",
    "\n",
    "This notebook shows the trade-off between inserting data into a database row-by-row and as binary blobs. Inserting the data row-by-row means that we have direct access to all the data and may perform queries directly on the values of the data. On the other hand, as we shall see, this is much slower than inserting the data directly as binary blobs."
   ]
  },
  {
   "cell_type": "markdown",
   "metadata": {},
   "source": [
    "First, we choose a new location for the database to ensure that we don't add a bunch of benchmarking data to the default one."
   ]
  },
  {
   "cell_type": "code",
   "execution_count": 1,
   "metadata": {
    "execution": {
     "iopub.execute_input": "2020-09-28T07:16:21.275809Z",
     "iopub.status.busy": "2020-09-28T07:16:21.275339Z",
     "iopub.status.idle": "2020-09-28T07:16:22.217653Z",
     "shell.execute_reply": "2020-09-28T07:16:22.217138Z"
    }
   },
   "outputs": [
    {
     "name": "stdout",
     "output_type": "stream",
     "text": [
      "Logging hadn't been started.\n",
      "Activating auto-logging. Current session state plus future input saved.\n",
      "Filename       : /home/vsts/.qcodes/logs/command_history.log\n",
      "Mode           : append\n",
      "Output logging : True\n",
      "Raw input log  : False\n",
      "Timestamping   : True\n",
      "State          : active\n"
     ]
    },
    {
     "name": "stdout",
     "output_type": "stream",
     "text": [
      "Qcodes Logfile : /home/vsts/.qcodes/logs/200928-18707-qcodes.log\n"
     ]
    }
   ],
   "source": [
    "import os\n",
    "cwd = os.getcwd()\n",
    "import qcodes as qc\n",
    "qc.config[\"core\"][\"db_location\"] = os.path.join(cwd, 'testing.db')\n"
   ]
  },
  {
   "cell_type": "code",
   "execution_count": 2,
   "metadata": {
    "execution": {
     "iopub.execute_input": "2020-09-28T07:16:22.223522Z",
     "iopub.status.busy": "2020-09-28T07:16:22.222768Z",
     "iopub.status.idle": "2020-09-28T07:16:22.394600Z",
     "shell.execute_reply": "2020-09-28T07:16:22.394071Z"
    }
   },
   "outputs": [],
   "source": [
    "%matplotlib inline\n",
    "import time\n",
    "import matplotlib.pyplot as plt\n",
    "import numpy as np\n",
    "\n",
    "import qcodes as qc\n",
    "from qcodes.instrument.parameter import ManualParameter\n",
    "from qcodes.dataset.experiment_container import (Experiment,\n",
    "                                                 load_last_experiment,\n",
    "                                                 new_experiment)\n",
    "from qcodes.dataset.sqlite.database import initialise_database\n",
    "from qcodes import load_or_create_experiment\n",
    "from qcodes.dataset.measurements import Measurement"
   ]
  },
  {
   "cell_type": "code",
   "execution_count": 3,
   "metadata": {
    "execution": {
     "iopub.execute_input": "2020-09-28T07:16:22.398650Z",
     "iopub.status.busy": "2020-09-28T07:16:22.398070Z",
     "iopub.status.idle": "2020-09-28T07:16:22.509671Z",
     "shell.execute_reply": "2020-09-28T07:16:22.508907Z"
    }
   },
   "outputs": [
    {
     "name": "stdout",
     "output_type": "stream",
     "text": [
      "\r",
      "0it [00:00, ?it/s]"
     ]
    },
    {
     "name": "stdout",
     "output_type": "stream",
     "text": [
      "\r",
      "Upgrading database; v0 -> v1: : 0it [00:00, ?it/s]"
     ]
    },
    {
     "name": "stdout",
     "output_type": "stream",
     "text": [
      "\r",
      "Upgrading database; v0 -> v1: : 0it [00:00, ?it/s]"
     ]
    },
    {
     "name": "stdout",
     "output_type": "stream",
     "text": [
      "\n",
      "\r",
      "  0%|          | 0/1 [00:00<?, ?it/s]"
     ]
    },
    {
     "name": "stdout",
     "output_type": "stream",
     "text": [
      "\r",
      "Upgrading database; v1 -> v2:   0%|          | 0/1 [00:00<?, ?it/s]"
     ]
    },
    {
     "name": "stdout",
     "output_type": "stream",
     "text": [
      "\r",
      "Upgrading database; v1 -> v2: 100%|██████████| 1/1 [00:00<00:00, 577.81it/s]"
     ]
    },
    {
     "name": "stdout",
     "output_type": "stream",
     "text": [
      "\n",
      "\r",
      "0it [00:00, ?it/s]"
     ]
    },
    {
     "name": "stdout",
     "output_type": "stream",
     "text": [
      "\r",
      "Upgrading database; v2 -> v3: : 0it [00:00, ?it/s]"
     ]
    },
    {
     "name": "stdout",
     "output_type": "stream",
     "text": [
      "\r",
      "Upgrading database; v2 -> v3: : 0it [00:00, ?it/s]"
     ]
    },
    {
     "name": "stdout",
     "output_type": "stream",
     "text": [
      "\n",
      "\r",
      "0it [00:00, ?it/s]"
     ]
    },
    {
     "name": "stdout",
     "output_type": "stream",
     "text": [
      "\r",
      "Upgrading database; v3 -> v4: : 0it [00:00, ?it/s]"
     ]
    },
    {
     "name": "stdout",
     "output_type": "stream",
     "text": [
      "\r",
      "Upgrading database; v3 -> v4: : 0it [00:00, ?it/s]"
     ]
    },
    {
     "name": "stdout",
     "output_type": "stream",
     "text": [
      "\n",
      "\r",
      "  0%|          | 0/1 [00:00<?, ?it/s]"
     ]
    },
    {
     "name": "stdout",
     "output_type": "stream",
     "text": [
      "\r",
      "Upgrading database; v4 -> v5:   0%|          | 0/1 [00:00<?, ?it/s]"
     ]
    },
    {
     "name": "stdout",
     "output_type": "stream",
     "text": [
      "\r",
      "Upgrading database; v4 -> v5: 100%|██████████| 1/1 [00:00<00:00, 524.68it/s]"
     ]
    },
    {
     "name": "stdout",
     "output_type": "stream",
     "text": [
      "\n",
      "\r",
      "0it [00:00, ?it/s]"
     ]
    },
    {
     "name": "stdout",
     "output_type": "stream",
     "text": [
      "\r",
      "Upgrading database; v5 -> v6: : 0it [00:00, ?it/s]"
     ]
    },
    {
     "name": "stdout",
     "output_type": "stream",
     "text": [
      "\r",
      "Upgrading database; v5 -> v6: : 0it [00:00, ?it/s]"
     ]
    },
    {
     "name": "stdout",
     "output_type": "stream",
     "text": [
      "\n",
      "\r",
      "  0%|          | 0/1 [00:00<?, ?it/s]"
     ]
    },
    {
     "name": "stdout",
     "output_type": "stream",
     "text": [
      "\r",
      "Upgrading database; v6 -> v7:   0%|          | 0/1 [00:00<?, ?it/s]"
     ]
    },
    {
     "name": "stdout",
     "output_type": "stream",
     "text": [
      "\r",
      "Upgrading database; v6 -> v7: 100%|██████████| 1/1 [00:00<00:00, 490.28it/s]"
     ]
    },
    {
     "name": "stdout",
     "output_type": "stream",
     "text": [
      "\n",
      "\r",
      "  0%|          | 0/1 [00:00<?, ?it/s]"
     ]
    },
    {
     "name": "stdout",
     "output_type": "stream",
     "text": [
      "\r",
      "Upgrading database; v7 -> v8:   0%|          | 0/1 [00:00<?, ?it/s]"
     ]
    },
    {
     "name": "stdout",
     "output_type": "stream",
     "text": [
      "\r",
      "Upgrading database; v7 -> v8: 100%|██████████| 1/1 [00:00<00:00, 681.45it/s]"
     ]
    },
    {
     "name": "stdout",
     "output_type": "stream",
     "text": [
      "\n",
      "\r",
      "  0%|          | 0/1 [00:00<?, ?it/s]"
     ]
    },
    {
     "name": "stdout",
     "output_type": "stream",
     "text": [
      "\r",
      "Upgrading database; v8 -> v9:   0%|          | 0/1 [00:00<?, ?it/s]"
     ]
    },
    {
     "name": "stdout",
     "output_type": "stream",
     "text": [
      "\r",
      "Upgrading database; v8 -> v9: 100%|██████████| 1/1 [00:00<00:00, 679.46it/s]"
     ]
    },
    {
     "name": "stdout",
     "output_type": "stream",
     "text": [
      "\n"
     ]
    }
   ],
   "source": [
    "initialise_database()\n",
    "exp = load_or_create_experiment(experiment_name='tutorial_exp', sample_name=\"no sample\")"
   ]
  },
  {
   "cell_type": "markdown",
   "metadata": {},
   "source": [
    "Here, we define a simple function to benchmark the time it takes to insert n points with either numeric or array data type.\n",
    "We will compare both the time used to call ``add_result`` and the time used for the full measurement."
   ]
  },
  {
   "cell_type": "code",
   "execution_count": 4,
   "metadata": {
    "execution": {
     "iopub.execute_input": "2020-09-28T07:16:22.517527Z",
     "iopub.status.busy": "2020-09-28T07:16:22.516127Z",
     "iopub.status.idle": "2020-09-28T07:16:22.520196Z",
     "shell.execute_reply": "2020-09-28T07:16:22.519794Z"
    }
   },
   "outputs": [],
   "source": [
    "def insert_data(paramtype, npoints, nreps=1):\n",
    "\n",
    "    meas = Measurement(exp=exp)\n",
    "\n",
    "    x1 = ManualParameter('x1')\n",
    "    x2 = ManualParameter('x2')\n",
    "    x3 = ManualParameter('x3')\n",
    "    y1 = ManualParameter('y1')\n",
    "    y2 = ManualParameter('y2')\n",
    "\n",
    "    meas.register_parameter(x1, paramtype=paramtype)\n",
    "    meas.register_parameter(x2, paramtype=paramtype)\n",
    "    meas.register_parameter(x3, paramtype=paramtype)\n",
    "    meas.register_parameter(y1, setpoints=[x1, x2, x3],\n",
    "                            paramtype=paramtype)\n",
    "    meas.register_parameter(y2, setpoints=[x1, x2, x3],\n",
    "                            paramtype=paramtype)\n",
    "    start = time.perf_counter()\n",
    "    with meas.run() as datasaver:\n",
    "        start_adding = time.perf_counter()\n",
    "        for i in range(nreps):\n",
    "            datasaver.add_result((x1, np.random.rand(npoints)),\n",
    "                                 (x2, np.random.rand(npoints)),\n",
    "                                 (x3, np.random.rand(npoints)),\n",
    "                                 (y1, np.random.rand(npoints)),\n",
    "                                 (y2, np.random.rand(npoints)))\n",
    "        stop_adding = time.perf_counter()\n",
    "        run_id = datasaver.run_id\n",
    "    stop = time.perf_counter()\n",
    "    tot_time = stop - start\n",
    "    add_time = stop_adding - start_adding\n",
    "    return tot_time, add_time, run_id"
   ]
  },
  {
   "cell_type": "markdown",
   "metadata": {},
   "source": [
    "## Comparison between numeric/array data and binary blob"
   ]
  },
  {
   "cell_type": "markdown",
   "metadata": {},
   "source": [
    "### Case1: Short experiment time"
   ]
  },
  {
   "cell_type": "code",
   "execution_count": 5,
   "metadata": {
    "execution": {
     "iopub.execute_input": "2020-09-28T07:16:22.525905Z",
     "iopub.status.busy": "2020-09-28T07:16:22.524845Z",
     "iopub.status.idle": "2020-09-28T07:16:23.224012Z",
     "shell.execute_reply": "2020-09-28T07:16:23.223549Z"
    }
   },
   "outputs": [
    {
     "name": "stdout",
     "output_type": "stream",
     "text": [
      "Starting experimental run with id: 1. \n",
      "Starting experimental run with id: 2. \n",
      "Starting experimental run with id: 3. \n",
      "Starting experimental run with id: 4. \n",
      "Starting experimental run with id: 5. \n",
      "Starting experimental run with id: 6. \n",
      "Starting experimental run with id: 7. \n"
     ]
    },
    {
     "name": "stdout",
     "output_type": "stream",
     "text": [
      "Starting experimental run with id: 8. \n"
     ]
    },
    {
     "name": "stdout",
     "output_type": "stream",
     "text": [
      "Starting experimental run with id: 9. \n",
      "Starting experimental run with id: 10. \n",
      "Starting experimental run with id: 11. \n"
     ]
    },
    {
     "name": "stdout",
     "output_type": "stream",
     "text": [
      "Starting experimental run with id: 12. \n",
      "Starting experimental run with id: 13. \n"
     ]
    },
    {
     "name": "stdout",
     "output_type": "stream",
     "text": [
      "Starting experimental run with id: 14. \n"
     ]
    }
   ],
   "source": [
    "sizes = [1,500,1000,2000,3000,4000,5000]\n",
    "t_numeric = []\n",
    "t_numeric_add = []\n",
    "t_array = []\n",
    "t_array_add = []\n",
    "for size in sizes:\n",
    "    tn, tna, run_id_n =  insert_data('numeric', size)\n",
    "    t_numeric.append(tn)\n",
    "    t_numeric_add.append(tna)\n",
    "\n",
    "    ta, taa, run_id_a =  insert_data('array', size)\n",
    "    t_array.append(ta)\n",
    "    t_array_add.append(taa)"
   ]
  },
  {
   "cell_type": "code",
   "execution_count": 6,
   "metadata": {
    "execution": {
     "iopub.execute_input": "2020-09-28T07:16:23.239655Z",
     "iopub.status.busy": "2020-09-28T07:16:23.239154Z",
     "iopub.status.idle": "2020-09-28T07:16:23.398019Z",
     "shell.execute_reply": "2020-09-28T07:16:23.397154Z"
    }
   },
   "outputs": [
    {
     "data": {
      "image/png": "[encoded data removed]",
      "text/plain": [
       "<Figure size 432x288 with 1 Axes>"
      ]
     },
     "metadata": {
      "needs_background": "light"
     },
     "output_type": "display_data"
    }
   ],
   "source": [
    "fig, ax = plt.subplots(1,1)\n",
    "ax.plot(sizes, t_numeric, 'o-', label='Inserting row-by-row')\n",
    "ax.plot(sizes, t_numeric_add, 'o-', label='Inserting row-by-row: add_result only')\n",
    "ax.plot(sizes, t_array, 'd-', label='Inserting as binary blob')\n",
    "ax.plot(sizes, t_array_add, 'd-', label='Inserting as binary blob: add_result only')\n",
    "ax.legend()\n",
    "ax.set_xlabel('Array length')\n",
    "ax.set_ylabel('Time (s)')\n",
    "fig.tight_layout()"
   ]
  },
  {
   "cell_type": "markdown",
   "metadata": {},
   "source": [
    "As shown in the latter figure, the time to setup and and close the experiment is approximately 0.4 sec. In case of small array sizes, the difference between inserting values of data as arrays and inserting them row-by-row is relatively unimportant. At larger array sizes, i.e. above 10000 points, the cost of writing data as individual datapoints starts to become important.\n"
   ]
  },
  {
   "cell_type": "markdown",
   "metadata": {},
   "source": [
    "### Case2: Long experiment time "
   ]
  },
  {
   "cell_type": "code",
   "execution_count": 7,
   "metadata": {
    "execution": {
     "iopub.execute_input": "2020-09-28T07:16:23.402782Z",
     "iopub.status.busy": "2020-09-28T07:16:23.402307Z",
     "iopub.status.idle": "2020-09-28T07:17:19.554900Z",
     "shell.execute_reply": "2020-09-28T07:17:19.554336Z"
    }
   },
   "outputs": [
    {
     "name": "stdout",
     "output_type": "stream",
     "text": [
      "Starting experimental run with id: 15. \n",
      "Starting experimental run with id: 16. \n",
      "Starting experimental run with id: 17. \n"
     ]
    },
    {
     "name": "stdout",
     "output_type": "stream",
     "text": [
      "Starting experimental run with id: 18. \n",
      "Starting experimental run with id: 19. \n"
     ]
    },
    {
     "name": "stdout",
     "output_type": "stream",
     "text": [
      "Starting experimental run with id: 20. \n"
     ]
    },
    {
     "name": "stdout",
     "output_type": "stream",
     "text": [
      "Starting experimental run with id: 21. \n"
     ]
    },
    {
     "name": "stdout",
     "output_type": "stream",
     "text": [
      "Starting experimental run with id: 22. \n"
     ]
    },
    {
     "name": "stdout",
     "output_type": "stream",
     "text": [
      "Starting experimental run with id: 23. \n"
     ]
    },
    {
     "name": "stdout",
     "output_type": "stream",
     "text": [
      "Starting experimental run with id: 24. \n"
     ]
    },
    {
     "name": "stdout",
     "output_type": "stream",
     "text": [
      "Starting experimental run with id: 25. \n"
     ]
    },
    {
     "name": "stdout",
     "output_type": "stream",
     "text": [
      "Starting experimental run with id: 26. \n"
     ]
    },
    {
     "name": "stdout",
     "output_type": "stream",
     "text": [
      "Starting experimental run with id: 27. \n"
     ]
    },
    {
     "name": "stdout",
     "output_type": "stream",
     "text": [
      "Starting experimental run with id: 28. \n"
     ]
    }
   ],
   "source": [
    "sizes = [1,500,1000,2000,3000,4000,5000]\n",
    "nreps = 100\n",
    "t_numeric = []\n",
    "t_numeric_add = []\n",
    "t_numeric_run_ids = []\n",
    "t_array = []\n",
    "t_array_add = []\n",
    "t_array_run_ids = []\n",
    "for size in sizes:\n",
    "    tn, tna, run_id_n =  insert_data('numeric', size, nreps=nreps)\n",
    "    t_numeric.append(tn)\n",
    "    t_numeric_add.append(tna)\n",
    "    t_numeric_run_ids.append(run_id_n)\n",
    "\n",
    "    ta, taa, run_id_a =  insert_data('array', size, nreps=nreps)\n",
    "    t_array.append(ta)\n",
    "    t_array_add.append(taa)\n",
    "    t_array_run_ids.append(run_id_a)"
   ]
  },
  {
   "cell_type": "code",
   "execution_count": 8,
   "metadata": {
    "execution": {
     "iopub.execute_input": "2020-09-28T07:17:19.571317Z",
     "iopub.status.busy": "2020-09-28T07:17:19.560257Z",
     "iopub.status.idle": "2020-09-28T07:17:19.736083Z",
     "shell.execute_reply": "2020-09-28T07:17:19.735634Z"
    },
    "scrolled": true
   },
   "outputs": [
    {
     "data": {
      "image/png": "[encoded data removed]",
      "text/plain": [
       "<Figure size 432x288 with 1 Axes>"
      ]
     },
     "metadata": {
      "needs_background": "light"
     },
     "output_type": "display_data"
    }
   ],
   "source": [
    "fig, ax = plt.subplots(1,1)\n",
    "ax.plot(sizes, t_numeric, 'o-', label='Inserting row-by-row')\n",
    "ax.plot(sizes, t_numeric_add, 'o-', label='Inserting row-by-row: add_result only')\n",
    "ax.plot(sizes, t_array, 'd-', label='Inserting as binary blob')\n",
    "ax.plot(sizes, t_array_add, 'd-', label='Inserting as binary blob: add_result only')\n",
    "ax.legend()\n",
    "ax.set_xlabel('Array length')\n",
    "ax.set_ylabel('Time (s)')\n",
    "fig.tight_layout()"
   ]
  },
  {
   "cell_type": "markdown",
   "metadata": {},
   "source": [
    "However, as we increase the length of the experiment, as seen here by repeating the insertion 100 times, we see a big difference between inserting values of the data row-by-row and inserting it as a binary blob."
   ]
  },
  {
   "cell_type": "markdown",
   "metadata": {},
   "source": [
    "## Loading the data "
   ]
  },
  {
   "cell_type": "code",
   "execution_count": 9,
   "metadata": {
    "execution": {
     "iopub.execute_input": "2020-09-28T07:17:19.740496Z",
     "iopub.status.busy": "2020-09-28T07:17:19.740019Z",
     "iopub.status.idle": "2020-09-28T07:17:19.743484Z",
     "shell.execute_reply": "2020-09-28T07:17:19.742655Z"
    }
   },
   "outputs": [],
   "source": [
    "from qcodes.dataset.data_set import load_by_id\n",
    "from qcodes.dataset.data_export import get_data_by_id"
   ]
  },
  {
   "cell_type": "markdown",
   "metadata": {},
   "source": [
    "As usual you can load the data by using the ``load_by_id`` function but you will notice that the different storage methods\n",
    "are reflected in shape of the data as it is retrieved. "
   ]
  },
  {
   "cell_type": "code",
   "execution_count": 10,
   "metadata": {
    "execution": {
     "iopub.execute_input": "2020-09-28T07:17:19.746937Z",
     "iopub.status.busy": "2020-09-28T07:17:19.746443Z",
     "iopub.status.idle": "2020-09-28T07:17:19.749496Z",
     "shell.execute_reply": "2020-09-28T07:17:19.748859Z"
    }
   },
   "outputs": [],
   "source": [
    "run_id_n = t_numeric_run_ids[0]\n",
    "run_id_a = t_array_run_ids[0]"
   ]
  },
  {
   "cell_type": "code",
   "execution_count": 11,
   "metadata": {
    "execution": {
     "iopub.execute_input": "2020-09-28T07:17:19.752377Z",
     "iopub.status.busy": "2020-09-28T07:17:19.751908Z",
     "iopub.status.idle": "2020-09-28T07:17:19.760265Z",
     "shell.execute_reply": "2020-09-28T07:17:19.760625Z"
    },
    "scrolled": true
   },
   "outputs": [
    {
     "data": {
      "text/plain": [
       "{'x1': {'x1': array([0.76178734, 0.76178734, 0.68420575, 0.68420575, 0.70408369,\n",
       "         0.70408369, 0.14869262, 0.14869262, 0.31594434, 0.31594434,\n",
       "         0.93768591, 0.93768591, 0.37330938, 0.37330938, 0.89611172,\n",
       "         0.89611172, 0.21647463, 0.21647463, 0.73478627, 0.73478627,\n",
       "         0.24351719, 0.24351719, 0.03472072, 0.03472072, 0.03601582,\n",
       "         0.03601582, 0.88338562, 0.88338562, 0.06446755, 0.06446755,\n",
       "         0.43652328, 0.43652328, 0.25551136, 0.25551136, 0.98818784,\n",
       "         0.98818784, 0.96547758, 0.96547758, 0.55487943, 0.55487943,\n",
       "         0.83406048, 0.83406048, 0.31937144, 0.31937144, 0.88039016,\n",
       "         0.88039016, 0.29214236, 0.29214236, 0.17278566, 0.17278566,\n",
       "         0.06335563, 0.06335563, 0.18906734, 0.18906734, 0.20892599,\n",
       "         0.20892599, 0.94870853, 0.94870853, 0.77789551, 0.77789551,\n",
       "         0.20395038, 0.20395038, 0.55942292, 0.55942292, 0.14282868,\n",
       "         0.14282868, 0.24449352, 0.24449352, 0.37243916, 0.37243916,\n",
       "         0.93417477, 0.93417477, 0.75777942, 0.75777942, 0.86301267,\n",
       "         0.86301267, 0.83116678, 0.83116678, 0.39609217, 0.39609217,\n",
       "         0.30002375, 0.30002375, 0.16826604, 0.16826604, 0.76649952,\n",
       "         0.76649952, 0.24359595, 0.24359595, 0.20163016, 0.20163016,\n",
       "         0.59190366, 0.59190366, 0.68548242, 0.68548242, 0.16127161,\n",
       "         0.16127161, 0.46003017, 0.46003017, 0.97746186, 0.97746186,\n",
       "         0.32168192, 0.32168192, 0.84578471, 0.84578471, 0.70715573,\n",
       "         0.70715573, 0.95485558, 0.95485558, 0.31126261, 0.31126261,\n",
       "         0.308252  , 0.308252  , 0.71501248, 0.71501248, 0.27810943,\n",
       "         0.27810943, 0.57711973, 0.57711973, 0.64957293, 0.64957293,\n",
       "         0.70148212, 0.70148212, 0.29136896, 0.29136896, 0.70240745,\n",
       "         0.70240745, 0.29268845, 0.29268845, 0.54849095, 0.54849095,\n",
       "         0.84186161, 0.84186161, 0.92651703, 0.92651703, 0.74172656,\n",
       "         0.74172656, 0.85197416, 0.85197416, 0.21026213, 0.21026213,\n",
       "         0.70133293, 0.70133293, 0.76995831, 0.76995831, 0.82469378,\n",
       "         0.82469378, 0.42326706, 0.42326706, 0.17181834, 0.17181834,\n",
       "         0.67752936, 0.67752936, 0.44026985, 0.44026985, 0.8208149 ,\n",
       "         0.8208149 , 0.14747193, 0.14747193, 0.00487075, 0.00487075,\n",
       "         0.70845815, 0.70845815, 0.31632947, 0.31632947, 0.03923397,\n",
       "         0.03923397, 0.43044295, 0.43044295, 0.05426161, 0.05426161,\n",
       "         0.9404227 , 0.9404227 , 0.02302347, 0.02302347, 0.00402783,\n",
       "         0.00402783, 0.2698892 , 0.2698892 , 0.30833025, 0.30833025,\n",
       "         0.23339069, 0.23339069, 0.93844832, 0.93844832, 0.94325089,\n",
       "         0.94325089, 0.61294795, 0.61294795, 0.51151234, 0.51151234,\n",
       "         0.91945006, 0.91945006, 0.79137955, 0.79137955, 0.26814067,\n",
       "         0.26814067, 0.59229177, 0.59229177, 0.58167545, 0.58167545])}}"
      ]
     },
     "execution_count": 1,
     "metadata": {},
     "output_type": "execute_result"
    }
   ],
   "source": [
    "ds = load_by_id(run_id_n)\n",
    "ds.get_parameter_data('x1')"
   ]
  },
  {
   "cell_type": "markdown",
   "metadata": {},
   "source": [
    "And a dataset stored as binary arrays"
   ]
  },
  {
   "cell_type": "code",
   "execution_count": 12,
   "metadata": {
    "execution": {
     "iopub.execute_input": "2020-09-28T07:17:19.763793Z",
     "iopub.status.busy": "2020-09-28T07:17:19.763326Z",
     "iopub.status.idle": "2020-09-28T07:17:19.805223Z",
     "shell.execute_reply": "2020-09-28T07:17:19.805679Z"
    },
    "scrolled": true
   },
   "outputs": [
    {
     "data": {
      "text/plain": [
       "{'x1': {'x1': array([[0.4315444 ],\n",
       "         [0.4315444 ],\n",
       "         [0.49721988],\n",
       "         [0.49721988],\n",
       "         [0.59706919],\n",
       "         [0.59706919],\n",
       "         [0.64655661],\n",
       "         [0.64655661],\n",
       "         [0.4046086 ],\n",
       "         [0.4046086 ],\n",
       "         [0.15369616],\n",
       "         [0.15369616],\n",
       "         [0.22082583],\n",
       "         [0.22082583],\n",
       "         [0.3005561 ],\n",
       "         [0.3005561 ],\n",
       "         [0.83721278],\n",
       "         [0.83721278],\n",
       "         [0.50372603],\n",
       "         [0.50372603],\n",
       "         [0.13139308],\n",
       "         [0.13139308],\n",
       "         [0.23367313],\n",
       "         [0.23367313],\n",
       "         [0.49589263],\n",
       "         [0.49589263],\n",
       "         [0.11954635],\n",
       "         [0.11954635],\n",
       "         [0.51304376],\n",
       "         [0.51304376],\n",
       "         [0.68476381],\n",
       "         [0.68476381],\n",
       "         [0.03073762],\n",
       "         [0.03073762],\n",
       "         [0.43216595],\n",
       "         [0.43216595],\n",
       "         [0.98851108],\n",
       "         [0.98851108],\n",
       "         [0.70959599],\n",
       "         [0.70959599],\n",
       "         [0.73589668],\n",
       "         [0.73589668],\n",
       "         [0.93222444],\n",
       "         [0.93222444],\n",
       "         [0.12644001],\n",
       "         [0.12644001],\n",
       "         [0.51368725],\n",
       "         [0.51368725],\n",
       "         [0.90310959],\n",
       "         [0.90310959],\n",
       "         [0.37780825],\n",
       "         [0.37780825],\n",
       "         [0.55775413],\n",
       "         [0.55775413],\n",
       "         [0.42627089],\n",
       "         [0.42627089],\n",
       "         [0.4970676 ],\n",
       "         [0.4970676 ],\n",
       "         [0.8275274 ],\n",
       "         [0.8275274 ],\n",
       "         [0.25130825],\n",
       "         [0.25130825],\n",
       "         [0.67109072],\n",
       "         [0.67109072],\n",
       "         [0.20282965],\n",
       "         [0.20282965],\n",
       "         [0.80544807],\n",
       "         [0.80544807],\n",
       "         [0.2023373 ],\n",
       "         [0.2023373 ],\n",
       "         [0.7135192 ],\n",
       "         [0.7135192 ],\n",
       "         [0.137547  ],\n",
       "         [0.137547  ],\n",
       "         [0.87606969],\n",
       "         [0.87606969],\n",
       "         [0.09936049],\n",
       "         [0.09936049],\n",
       "         [0.051622  ],\n",
       "         [0.051622  ],\n",
       "         [0.53548691],\n",
       "         [0.53548691],\n",
       "         [0.71084716],\n",
       "         [0.71084716],\n",
       "         [0.12292015],\n",
       "         [0.12292015],\n",
       "         [0.51264665],\n",
       "         [0.51264665],\n",
       "         [0.85286423],\n",
       "         [0.85286423],\n",
       "         [0.02828828],\n",
       "         [0.02828828],\n",
       "         [0.08540166],\n",
       "         [0.08540166],\n",
       "         [0.87466241],\n",
       "         [0.87466241],\n",
       "         [0.83808589],\n",
       "         [0.83808589],\n",
       "         [0.24911837],\n",
       "         [0.24911837],\n",
       "         [0.40500512],\n",
       "         [0.40500512],\n",
       "         [0.881549  ],\n",
       "         [0.881549  ],\n",
       "         [0.82152983],\n",
       "         [0.82152983],\n",
       "         [0.17581196],\n",
       "         [0.17581196],\n",
       "         [0.398121  ],\n",
       "         [0.398121  ],\n",
       "         [0.84590826],\n",
       "         [0.84590826],\n",
       "         [0.36557046],\n",
       "         [0.36557046],\n",
       "         [0.96159371],\n",
       "         [0.96159371],\n",
       "         [0.5408057 ],\n",
       "         [0.5408057 ],\n",
       "         [0.74518823],\n",
       "         [0.74518823],\n",
       "         [0.27786175],\n",
       "         [0.27786175],\n",
       "         [0.64116633],\n",
       "         [0.64116633],\n",
       "         [0.48562285],\n",
       "         [0.48562285],\n",
       "         [0.1456794 ],\n",
       "         [0.1456794 ],\n",
       "         [0.45633981],\n",
       "         [0.45633981],\n",
       "         [0.34440117],\n",
       "         [0.34440117],\n",
       "         [0.47122307],\n",
       "         [0.47122307],\n",
       "         [0.89443537],\n",
       "         [0.89443537],\n",
       "         [0.00380095],\n",
       "         [0.00380095],\n",
       "         [0.64020869],\n",
       "         [0.64020869],\n",
       "         [0.14813325],\n",
       "         [0.14813325],\n",
       "         [0.74471115],\n",
       "         [0.74471115],\n",
       "         [0.18950634],\n",
       "         [0.18950634],\n",
       "         [0.94958221],\n",
       "         [0.94958221],\n",
       "         [0.6222764 ],\n",
       "         [0.6222764 ],\n",
       "         [0.45323273],\n",
       "         [0.45323273],\n",
       "         [0.8187667 ],\n",
       "         [0.8187667 ],\n",
       "         [0.33257703],\n",
       "         [0.33257703],\n",
       "         [0.34771977],\n",
       "         [0.34771977],\n",
       "         [0.48353382],\n",
       "         [0.48353382],\n",
       "         [0.68249291],\n",
       "         [0.68249291],\n",
       "         [0.93108668],\n",
       "         [0.93108668],\n",
       "         [0.11050618],\n",
       "         [0.11050618],\n",
       "         [0.55433802],\n",
       "         [0.55433802],\n",
       "         [0.82636119],\n",
       "         [0.82636119],\n",
       "         [0.46679609],\n",
       "         [0.46679609],\n",
       "         [0.94201053],\n",
       "         [0.94201053],\n",
       "         [0.35762292],\n",
       "         [0.35762292],\n",
       "         [0.6069455 ],\n",
       "         [0.6069455 ],\n",
       "         [0.32260798],\n",
       "         [0.32260798],\n",
       "         [0.61064614],\n",
       "         [0.61064614],\n",
       "         [0.67790707],\n",
       "         [0.67790707],\n",
       "         [0.87471392],\n",
       "         [0.87471392],\n",
       "         [0.9629775 ],\n",
       "         [0.9629775 ],\n",
       "         [0.02882505],\n",
       "         [0.02882505],\n",
       "         [0.75447824],\n",
       "         [0.75447824],\n",
       "         [0.18000349],\n",
       "         [0.18000349],\n",
       "         [0.56700222],\n",
       "         [0.56700222],\n",
       "         [0.03695423],\n",
       "         [0.03695423],\n",
       "         [0.7507338 ],\n",
       "         [0.7507338 ]])}}"
      ]
     },
     "execution_count": 1,
     "metadata": {},
     "output_type": "execute_result"
    }
   ],
   "source": [
    "ds = load_by_id(run_id_a)\n",
    "ds.get_parameter_data('x1')"
   ]
  },
  {
   "cell_type": "code",
   "execution_count": null,
   "metadata": {},
   "outputs": [],
   "source": []
  }
 ],
 "metadata": {
  "kernelspec": {
   "display_name": "Python 3",
   "language": "python",
   "name": "python3"
  },
  "language_info": {
   "codemirror_mode": {
    "name": "ipython",
    "version": 3
   },
   "file_extension": ".py",
   "mimetype": "text/x-python",
   "name": "python",
   "nbconvert_exporter": "python",
   "pygments_lexer": "ipython3",
   "version": "3.7.7"
  },
  "nbsphinx": {
   "timeout": 600
  },
  "toc": {
   "base_numbering": 1,
   "nav_menu": {},
   "number_sections": true,
   "sideBar": true,
   "skip_h1_title": false,
   "title_cell": "Table of Contents",
   "title_sidebar": "Contents",
   "toc_cell": false,
   "toc_position": {},
   "toc_section_display": true,
   "toc_window_display": false
  },
  "varInspector": {
   "cols": {
    "lenName": 16,
    "lenType": 16,
    "lenVar": 40
   },
   "kernels_config": {
    "python": {
     "delete_cmd_postfix": "",
     "delete_cmd_prefix": "del ",
     "library": "var_list.py",
     "varRefreshCmd": "print(var_dic_list())"
    },
    "r": {
     "delete_cmd_postfix": ") ",
     "delete_cmd_prefix": "rm(",
     "library": "var_list.r",
     "varRefreshCmd": "cat(var_dic_list()) "
    }
   },
   "types_to_exclude": [
    "module",
    "function",
    "builtin_function_or_method",
    "instance",
    "_Feature"
   ],
   "window_display": false
  }
 },
 "nbformat": 4,
 "nbformat_minor": 2
}
