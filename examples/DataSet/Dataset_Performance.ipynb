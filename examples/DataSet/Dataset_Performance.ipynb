{
 "cells": [
  {
   "cell_type": "markdown",
   "metadata": {},
   "source": [
    "# DataSet Performance\n",
    "\n",
    "This notebook shows the trade-off between inserting data into a database row-by-row and as binary blobs. Inserting the data row-by-row means that we have direct access to all the data and may perform queries directly on the values of the data. On the other hand, as we shall see, this is much slower than inserting the data directly as binary blobs."
   ]
  },
  {
   "cell_type": "markdown",
   "metadata": {},
   "source": [
    "First, we choose a new location for the database to ensure that we don't add a bunch of benchmarking data to the default one."
   ]
  },
  {
   "cell_type": "code",
   "execution_count": 1,
   "metadata": {
    "execution": {
     "iopub.execute_input": "2020-12-09T08:51:05.918659Z",
     "iopub.status.busy": "2020-12-09T08:51:05.917770Z",
     "iopub.status.idle": "2020-12-09T08:51:07.169325Z",
     "shell.execute_reply": "2020-12-09T08:51:07.168720Z"
    }
   },
   "outputs": [
    {
     "name": "stdout",
     "output_type": "stream",
     "text": [
      "Logging hadn't been started.\n",
      "Activating auto-logging. Current session state plus future input saved.\n",
      "Filename       : /home/vsts/.qcodes/logs/command_history.log\n",
      "Mode           : append\n",
      "Output logging : True\n",
      "Raw input log  : False\n",
      "Timestamping   : True\n",
      "State          : active\n"
     ]
    },
    {
     "name": "stdout",
     "output_type": "stream",
     "text": [
      "Qcodes Logfile : /home/vsts/.qcodes/logs/201209-14268-qcodes.log\n"
     ]
    }
   ],
   "source": [
    "import os\n",
    "cwd = os.getcwd()\n",
    "import qcodes as qc\n",
    "qc.config[\"core\"][\"db_location\"] = os.path.join(cwd, 'testing.db')\n"
   ]
  },
  {
   "cell_type": "code",
   "execution_count": 2,
   "metadata": {
    "execution": {
     "iopub.execute_input": "2020-12-09T08:51:07.179228Z",
     "iopub.status.busy": "2020-12-09T08:51:07.177219Z",
     "iopub.status.idle": "2020-12-09T08:51:07.416053Z",
     "shell.execute_reply": "2020-12-09T08:51:07.415338Z"
    }
   },
   "outputs": [],
   "source": [
    "%matplotlib inline\n",
    "import time\n",
    "import matplotlib.pyplot as plt\n",
    "import numpy as np\n",
    "\n",
    "import qcodes as qc\n",
    "from qcodes.instrument.parameter import ManualParameter\n",
    "from qcodes.dataset.experiment_container import (Experiment,\n",
    "                                                 load_last_experiment,\n",
    "                                                 new_experiment)\n",
    "from qcodes.dataset.sqlite.database import initialise_database\n",
    "from qcodes import load_or_create_experiment\n",
    "from qcodes.dataset.measurements import Measurement"
   ]
  },
  {
   "cell_type": "code",
   "execution_count": 3,
   "metadata": {
    "execution": {
     "iopub.execute_input": "2020-12-09T08:51:07.419903Z",
     "iopub.status.busy": "2020-12-09T08:51:07.419298Z",
     "iopub.status.idle": "2020-12-09T08:51:07.597882Z",
     "shell.execute_reply": "2020-12-09T08:51:07.597263Z"
    }
   },
   "outputs": [
    {
     "name": "stdout",
     "output_type": "stream",
     "text": [
      "\r",
      "0it [00:00, ?it/s]"
     ]
    },
    {
     "name": "stdout",
     "output_type": "stream",
     "text": [
      "\r",
      "Upgrading database; v0 -> v1: : 0it [00:00, ?it/s]"
     ]
    },
    {
     "name": "stdout",
     "output_type": "stream",
     "text": [
      "\r",
      "Upgrading database; v0 -> v1: : 0it [00:00, ?it/s]"
     ]
    },
    {
     "name": "stdout",
     "output_type": "stream",
     "text": [
      "\n",
      "\r",
      "  0%|          | 0/1 [00:00<?, ?it/s]"
     ]
    },
    {
     "name": "stdout",
     "output_type": "stream",
     "text": [
      "\r",
      "Upgrading database; v1 -> v2:   0%|          | 0/1 [00:00<?, ?it/s]"
     ]
    },
    {
     "name": "stdout",
     "output_type": "stream",
     "text": [
      "\r",
      "Upgrading database; v1 -> v2: 100%|██████████| 1/1 [00:00<00:00, 1116.10it/s]"
     ]
    },
    {
     "name": "stdout",
     "output_type": "stream",
     "text": [
      "\n",
      "\r",
      "0it [00:00, ?it/s]"
     ]
    },
    {
     "name": "stdout",
     "output_type": "stream",
     "text": [
      "\r",
      "Upgrading database; v2 -> v3: : 0it [00:00, ?it/s]"
     ]
    },
    {
     "name": "stdout",
     "output_type": "stream",
     "text": [
      "\r",
      "Upgrading database; v2 -> v3: : 0it [00:00, ?it/s]"
     ]
    },
    {
     "name": "stdout",
     "output_type": "stream",
     "text": [
      "\n",
      "\r",
      "0it [00:00, ?it/s]"
     ]
    },
    {
     "name": "stdout",
     "output_type": "stream",
     "text": [
      "\r",
      "Upgrading database; v3 -> v4: : 0it [00:00, ?it/s]"
     ]
    },
    {
     "name": "stdout",
     "output_type": "stream",
     "text": [
      "\r",
      "Upgrading database; v3 -> v4: : 0it [00:00, ?it/s]"
     ]
    },
    {
     "name": "stdout",
     "output_type": "stream",
     "text": [
      "\n",
      "\r",
      "  0%|          | 0/1 [00:00<?, ?it/s]"
     ]
    },
    {
     "name": "stdout",
     "output_type": "stream",
     "text": [
      "\r",
      "Upgrading database; v4 -> v5:   0%|          | 0/1 [00:00<?, ?it/s]"
     ]
    },
    {
     "name": "stdout",
     "output_type": "stream",
     "text": [
      "\r",
      "Upgrading database; v4 -> v5: 100%|██████████| 1/1 [00:00<00:00, 244.69it/s]"
     ]
    },
    {
     "name": "stdout",
     "output_type": "stream",
     "text": [
      "\n",
      "\r",
      "0it [00:00, ?it/s]"
     ]
    },
    {
     "name": "stdout",
     "output_type": "stream",
     "text": [
      "\r",
      "Upgrading database; v5 -> v6: : 0it [00:00, ?it/s]"
     ]
    },
    {
     "name": "stdout",
     "output_type": "stream",
     "text": [
      "\r",
      "Upgrading database; v5 -> v6: : 0it [00:00, ?it/s]"
     ]
    },
    {
     "name": "stdout",
     "output_type": "stream",
     "text": [
      "\n",
      "\r",
      "  0%|          | 0/1 [00:00<?, ?it/s]"
     ]
    },
    {
     "name": "stdout",
     "output_type": "stream",
     "text": [
      "\r",
      "Upgrading database; v6 -> v7:   0%|          | 0/1 [00:00<?, ?it/s]"
     ]
    },
    {
     "name": "stdout",
     "output_type": "stream",
     "text": [
      "\r",
      "Upgrading database; v6 -> v7: 100%|██████████| 1/1 [00:00<00:00, 276.96it/s]"
     ]
    },
    {
     "name": "stdout",
     "output_type": "stream",
     "text": [
      "\n",
      "\r",
      "  0%|          | 0/1 [00:00<?, ?it/s]"
     ]
    },
    {
     "name": "stdout",
     "output_type": "stream",
     "text": [
      "\r",
      "Upgrading database; v7 -> v8:   0%|          | 0/1 [00:00<?, ?it/s]"
     ]
    },
    {
     "name": "stdout",
     "output_type": "stream",
     "text": [
      "\r",
      "Upgrading database; v7 -> v8: 100%|██████████| 1/1 [00:00<00:00, 281.70it/s]"
     ]
    },
    {
     "name": "stdout",
     "output_type": "stream",
     "text": [
      "\n",
      "\r",
      "  0%|          | 0/1 [00:00<?, ?it/s]"
     ]
    },
    {
     "name": "stdout",
     "output_type": "stream",
     "text": [
      "\r",
      "Upgrading database; v8 -> v9:   0%|          | 0/1 [00:00<?, ?it/s]"
     ]
    },
    {
     "name": "stdout",
     "output_type": "stream",
     "text": [
      "\r",
      "Upgrading database; v8 -> v9: 100%|██████████| 1/1 [00:00<00:00, 330.70it/s]"
     ]
    },
    {
     "name": "stdout",
     "output_type": "stream",
     "text": [
      "\n"
     ]
    }
   ],
   "source": [
    "initialise_database()\n",
    "exp = load_or_create_experiment(experiment_name='tutorial_exp', sample_name=\"no sample\")"
   ]
  },
  {
   "cell_type": "markdown",
   "metadata": {},
   "source": [
    "Here, we define a simple function to benchmark the time it takes to insert n points with either numeric or array data type.\n",
    "We will compare both the time used to call ``add_result`` and the time used for the full measurement."
   ]
  },
  {
   "cell_type": "code",
   "execution_count": 4,
   "metadata": {
    "execution": {
     "iopub.execute_input": "2020-12-09T08:51:07.608308Z",
     "iopub.status.busy": "2020-12-09T08:51:07.607480Z",
     "iopub.status.idle": "2020-12-09T08:51:07.613223Z",
     "shell.execute_reply": "2020-12-09T08:51:07.612646Z"
    }
   },
   "outputs": [],
   "source": [
    "def insert_data(paramtype, npoints, nreps=1):\n",
    "\n",
    "    meas = Measurement(exp=exp)\n",
    "\n",
    "    x1 = ManualParameter('x1')\n",
    "    x2 = ManualParameter('x2')\n",
    "    x3 = ManualParameter('x3')\n",
    "    y1 = ManualParameter('y1')\n",
    "    y2 = ManualParameter('y2')\n",
    "\n",
    "    meas.register_parameter(x1, paramtype=paramtype)\n",
    "    meas.register_parameter(x2, paramtype=paramtype)\n",
    "    meas.register_parameter(x3, paramtype=paramtype)\n",
    "    meas.register_parameter(y1, setpoints=[x1, x2, x3],\n",
    "                            paramtype=paramtype)\n",
    "    meas.register_parameter(y2, setpoints=[x1, x2, x3],\n",
    "                            paramtype=paramtype)\n",
    "    start = time.perf_counter()\n",
    "    with meas.run() as datasaver:\n",
    "        start_adding = time.perf_counter()\n",
    "        for i in range(nreps):\n",
    "            datasaver.add_result((x1, np.random.rand(npoints)),\n",
    "                                 (x2, np.random.rand(npoints)),\n",
    "                                 (x3, np.random.rand(npoints)),\n",
    "                                 (y1, np.random.rand(npoints)),\n",
    "                                 (y2, np.random.rand(npoints)))\n",
    "        stop_adding = time.perf_counter()\n",
    "        run_id = datasaver.run_id\n",
    "    stop = time.perf_counter()\n",
    "    tot_time = stop - start\n",
    "    add_time = stop_adding - start_adding\n",
    "    return tot_time, add_time, run_id"
   ]
  },
  {
   "cell_type": "markdown",
   "metadata": {},
   "source": [
    "## Comparison between numeric/array data and binary blob"
   ]
  },
  {
   "cell_type": "markdown",
   "metadata": {},
   "source": [
    "### Case1: Short experiment time"
   ]
  },
  {
   "cell_type": "code",
   "execution_count": 5,
   "metadata": {
    "execution": {
     "iopub.execute_input": "2020-12-09T08:51:07.621479Z",
     "iopub.status.busy": "2020-12-09T08:51:07.620923Z",
     "iopub.status.idle": "2020-12-09T08:51:08.779909Z",
     "shell.execute_reply": "2020-12-09T08:51:08.780477Z"
    }
   },
   "outputs": [
    {
     "name": "stdout",
     "output_type": "stream",
     "text": [
      "Starting experimental run with id: 1. \n"
     ]
    },
    {
     "name": "stdout",
     "output_type": "stream",
     "text": [
      "Starting experimental run with id: 2. \n"
     ]
    },
    {
     "name": "stdout",
     "output_type": "stream",
     "text": [
      "Starting experimental run with id: 3. \n"
     ]
    },
    {
     "name": "stdout",
     "output_type": "stream",
     "text": [
      "Starting experimental run with id: 4. \n"
     ]
    },
    {
     "name": "stdout",
     "output_type": "stream",
     "text": [
      "Starting experimental run with id: 5. \n"
     ]
    },
    {
     "name": "stdout",
     "output_type": "stream",
     "text": [
      "Starting experimental run with id: 6. \n",
      "Starting experimental run with id: 7. \n"
     ]
    },
    {
     "name": "stdout",
     "output_type": "stream",
     "text": [
      "Starting experimental run with id: 8. \n",
      "Starting experimental run with id: 9. \n"
     ]
    },
    {
     "name": "stdout",
     "output_type": "stream",
     "text": [
      "Starting experimental run with id: 10. \n"
     ]
    },
    {
     "name": "stdout",
     "output_type": "stream",
     "text": [
      "Starting experimental run with id: 11. \n"
     ]
    },
    {
     "name": "stdout",
     "output_type": "stream",
     "text": [
      "Starting experimental run with id: 12. \n",
      "Starting experimental run with id: 13. \n"
     ]
    },
    {
     "name": "stdout",
     "output_type": "stream",
     "text": [
      "Starting experimental run with id: 14. \n"
     ]
    }
   ],
   "source": [
    "sizes = [1,500,1000,2000,3000,4000,5000]\n",
    "t_numeric = []\n",
    "t_numeric_add = []\n",
    "t_array = []\n",
    "t_array_add = []\n",
    "for size in sizes:\n",
    "    tn, tna, run_id_n =  insert_data('numeric', size)\n",
    "    t_numeric.append(tn)\n",
    "    t_numeric_add.append(tna)\n",
    "\n",
    "    ta, taa, run_id_a =  insert_data('array', size)\n",
    "    t_array.append(ta)\n",
    "    t_array_add.append(taa)"
   ]
  },
  {
   "cell_type": "code",
   "execution_count": 6,
   "metadata": {
    "execution": {
     "iopub.execute_input": "2020-12-09T08:51:08.825249Z",
     "iopub.status.busy": "2020-12-09T08:51:08.823912Z",
     "iopub.status.idle": "2020-12-09T08:51:09.012001Z",
     "shell.execute_reply": "2020-12-09T08:51:09.011153Z"
    }
   },
   "outputs": [
    {
     "data": {
      "image/png": "[encoded data removed]",
      "text/plain": [
       "<Figure size 432x288 with 1 Axes>"
      ]
     },
     "metadata": {
      "needs_background": "light"
     },
     "output_type": "display_data"
    }
   ],
   "source": [
    "fig, ax = plt.subplots(1,1)\n",
    "ax.plot(sizes, t_numeric, 'o-', label='Inserting row-by-row')\n",
    "ax.plot(sizes, t_numeric_add, 'o-', label='Inserting row-by-row: add_result only')\n",
    "ax.plot(sizes, t_array, 'd-', label='Inserting as binary blob')\n",
    "ax.plot(sizes, t_array_add, 'd-', label='Inserting as binary blob: add_result only')\n",
    "ax.legend()\n",
    "ax.set_xlabel('Array length')\n",
    "ax.set_ylabel('Time (s)')\n",
    "fig.tight_layout()"
   ]
  },
  {
   "cell_type": "markdown",
   "metadata": {},
   "source": [
    "As shown in the latter figure, the time to setup and and close the experiment is approximately 0.4 sec. In case of small array sizes, the difference between inserting values of data as arrays and inserting them row-by-row is relatively unimportant. At larger array sizes, i.e. above 10000 points, the cost of writing data as individual datapoints starts to become important.\n"
   ]
  },
  {
   "cell_type": "markdown",
   "metadata": {},
   "source": [
    "### Case2: Long experiment time "
   ]
  },
  {
   "cell_type": "code",
   "execution_count": 7,
   "metadata": {
    "execution": {
     "iopub.execute_input": "2020-12-09T08:51:09.021324Z",
     "iopub.status.busy": "2020-12-09T08:51:09.020208Z",
     "iopub.status.idle": "2020-12-09T08:52:15.951891Z",
     "shell.execute_reply": "2020-12-09T08:52:15.951367Z"
    }
   },
   "outputs": [
    {
     "name": "stdout",
     "output_type": "stream",
     "text": [
      "Starting experimental run with id: 15. \n",
      "Starting experimental run with id: 16. \n",
      "Starting experimental run with id: 17. \n"
     ]
    },
    {
     "name": "stdout",
     "output_type": "stream",
     "text": [
      "Starting experimental run with id: 18. \n",
      "Starting experimental run with id: 19. \n"
     ]
    },
    {
     "name": "stdout",
     "output_type": "stream",
     "text": [
      "Starting experimental run with id: 20. \n"
     ]
    },
    {
     "name": "stdout",
     "output_type": "stream",
     "text": [
      "Starting experimental run with id: 21. \n"
     ]
    },
    {
     "name": "stdout",
     "output_type": "stream",
     "text": [
      "Starting experimental run with id: 22. \n"
     ]
    },
    {
     "name": "stdout",
     "output_type": "stream",
     "text": [
      "Starting experimental run with id: 23. \n"
     ]
    },
    {
     "name": "stdout",
     "output_type": "stream",
     "text": [
      "Starting experimental run with id: 24. \n"
     ]
    },
    {
     "name": "stdout",
     "output_type": "stream",
     "text": [
      "Starting experimental run with id: 25. \n"
     ]
    },
    {
     "name": "stdout",
     "output_type": "stream",
     "text": [
      "Starting experimental run with id: 26. \n"
     ]
    },
    {
     "name": "stdout",
     "output_type": "stream",
     "text": [
      "Starting experimental run with id: 27. \n"
     ]
    },
    {
     "name": "stdout",
     "output_type": "stream",
     "text": [
      "Starting experimental run with id: 28. \n"
     ]
    }
   ],
   "source": [
    "sizes = [1,500,1000,2000,3000,4000,5000]\n",
    "nreps = 100\n",
    "t_numeric = []\n",
    "t_numeric_add = []\n",
    "t_numeric_run_ids = []\n",
    "t_array = []\n",
    "t_array_add = []\n",
    "t_array_run_ids = []\n",
    "for size in sizes:\n",
    "    tn, tna, run_id_n =  insert_data('numeric', size, nreps=nreps)\n",
    "    t_numeric.append(tn)\n",
    "    t_numeric_add.append(tna)\n",
    "    t_numeric_run_ids.append(run_id_n)\n",
    "\n",
    "    ta, taa, run_id_a =  insert_data('array', size, nreps=nreps)\n",
    "    t_array.append(ta)\n",
    "    t_array_add.append(taa)\n",
    "    t_array_run_ids.append(run_id_a)"
   ]
  },
  {
   "cell_type": "code",
   "execution_count": 8,
   "metadata": {
    "execution": {
     "iopub.execute_input": "2020-12-09T08:52:15.994535Z",
     "iopub.status.busy": "2020-12-09T08:52:15.993564Z",
     "iopub.status.idle": "2020-12-09T08:52:16.185483Z",
     "shell.execute_reply": "2020-12-09T08:52:16.185002Z"
    },
    "scrolled": true
   },
   "outputs": [
    {
     "data": {
      "image/png": "[encoded data removed]",
      "text/plain": [
       "<Figure size 432x288 with 1 Axes>"
      ]
     },
     "metadata": {
      "needs_background": "light"
     },
     "output_type": "display_data"
    }
   ],
   "source": [
    "fig, ax = plt.subplots(1,1)\n",
    "ax.plot(sizes, t_numeric, 'o-', label='Inserting row-by-row')\n",
    "ax.plot(sizes, t_numeric_add, 'o-', label='Inserting row-by-row: add_result only')\n",
    "ax.plot(sizes, t_array, 'd-', label='Inserting as binary blob')\n",
    "ax.plot(sizes, t_array_add, 'd-', label='Inserting as binary blob: add_result only')\n",
    "ax.legend()\n",
    "ax.set_xlabel('Array length')\n",
    "ax.set_ylabel('Time (s)')\n",
    "fig.tight_layout()"
   ]
  },
  {
   "cell_type": "markdown",
   "metadata": {},
   "source": [
    "However, as we increase the length of the experiment, as seen here by repeating the insertion 100 times, we see a big difference between inserting values of the data row-by-row and inserting it as a binary blob."
   ]
  },
  {
   "cell_type": "markdown",
   "metadata": {},
   "source": [
    "## Loading the data "
   ]
  },
  {
   "cell_type": "code",
   "execution_count": 9,
   "metadata": {
    "execution": {
     "iopub.execute_input": "2020-12-09T08:52:16.189745Z",
     "iopub.status.busy": "2020-12-09T08:52:16.188796Z",
     "iopub.status.idle": "2020-12-09T08:52:16.192574Z",
     "shell.execute_reply": "2020-12-09T08:52:16.192127Z"
    }
   },
   "outputs": [],
   "source": [
    "from qcodes.dataset.data_set import load_by_id\n",
    "from qcodes.dataset.data_export import get_data_by_id"
   ]
  },
  {
   "cell_type": "markdown",
   "metadata": {},
   "source": [
    "As usual you can load the data by using the ``load_by_id`` function but you will notice that the different storage methods\n",
    "are reflected in shape of the data as it is retrieved. "
   ]
  },
  {
   "cell_type": "code",
   "execution_count": 10,
   "metadata": {
    "execution": {
     "iopub.execute_input": "2020-12-09T08:52:16.198448Z",
     "iopub.status.busy": "2020-12-09T08:52:16.197319Z",
     "iopub.status.idle": "2020-12-09T08:52:16.198993Z",
     "shell.execute_reply": "2020-12-09T08:52:16.199517Z"
    }
   },
   "outputs": [],
   "source": [
    "run_id_n = t_numeric_run_ids[0]\n",
    "run_id_a = t_array_run_ids[0]"
   ]
  },
  {
   "cell_type": "code",
   "execution_count": 11,
   "metadata": {
    "execution": {
     "iopub.execute_input": "2020-12-09T08:52:16.202708Z",
     "iopub.status.busy": "2020-12-09T08:52:16.202178Z",
     "iopub.status.idle": "2020-12-09T08:52:16.214495Z",
     "shell.execute_reply": "2020-12-09T08:52:16.214020Z"
    },
    "scrolled": true
   },
   "outputs": [
    {
     "data": {
      "text/plain": [
       "{'x1': {'x1': array([0.17589148, 0.17589148, 0.27100117, 0.27100117, 0.72658176,\n",
       "         0.72658176, 0.51238942, 0.51238942, 0.44291839, 0.44291839,\n",
       "         0.76158339, 0.76158339, 0.71303823, 0.71303823, 0.73984855,\n",
       "         0.73984855, 0.9338991 , 0.9338991 , 0.07007405, 0.07007405,\n",
       "         0.5929569 , 0.5929569 , 0.18350607, 0.18350607, 0.73432224,\n",
       "         0.73432224, 0.87505305, 0.87505305, 0.2736752 , 0.2736752 ,\n",
       "         0.34136922, 0.34136922, 0.50582727, 0.50582727, 0.55613429,\n",
       "         0.55613429, 0.22712409, 0.22712409, 0.77289511, 0.77289511,\n",
       "         0.1403036 , 0.1403036 , 0.80477183, 0.80477183, 0.59960414,\n",
       "         0.59960414, 0.2995568 , 0.2995568 , 0.59594675, 0.59594675,\n",
       "         0.42201483, 0.42201483, 0.0462663 , 0.0462663 , 0.46208769,\n",
       "         0.46208769, 0.59524511, 0.59524511, 0.83213603, 0.83213603,\n",
       "         0.62972595, 0.62972595, 0.82939595, 0.82939595, 0.16075115,\n",
       "         0.16075115, 0.99475372, 0.99475372, 0.9038354 , 0.9038354 ,\n",
       "         0.98872336, 0.98872336, 0.55833528, 0.55833528, 0.47194314,\n",
       "         0.47194314, 0.70216736, 0.70216736, 0.27700123, 0.27700123,\n",
       "         0.29083775, 0.29083775, 0.1165587 , 0.1165587 , 0.85266879,\n",
       "         0.85266879, 0.05290874, 0.05290874, 0.46617466, 0.46617466,\n",
       "         0.85329974, 0.85329974, 0.55644886, 0.55644886, 0.69127175,\n",
       "         0.69127175, 0.41388715, 0.41388715, 0.83034159, 0.83034159,\n",
       "         0.98955844, 0.98955844, 0.10862035, 0.10862035, 0.79044736,\n",
       "         0.79044736, 0.68581327, 0.68581327, 0.99504959, 0.99504959,\n",
       "         0.3700528 , 0.3700528 , 0.30401275, 0.30401275, 0.06820504,\n",
       "         0.06820504, 0.57068408, 0.57068408, 0.84846579, 0.84846579,\n",
       "         0.41555582, 0.41555582, 0.53054002, 0.53054002, 0.14010116,\n",
       "         0.14010116, 0.81629209, 0.81629209, 0.04463446, 0.04463446,\n",
       "         0.47717227, 0.47717227, 0.41553075, 0.41553075, 0.194183  ,\n",
       "         0.194183  , 0.43956397, 0.43956397, 0.97933873, 0.97933873,\n",
       "         0.15189446, 0.15189446, 0.00366507, 0.00366507, 0.54977738,\n",
       "         0.54977738, 0.05319806, 0.05319806, 0.43313039, 0.43313039,\n",
       "         0.39564944, 0.39564944, 0.48948705, 0.48948705, 0.81858282,\n",
       "         0.81858282, 0.93809466, 0.93809466, 0.18470289, 0.18470289,\n",
       "         0.61363364, 0.61363364, 0.6772342 , 0.6772342 , 0.43695716,\n",
       "         0.43695716, 0.25894084, 0.25894084, 0.67139933, 0.67139933,\n",
       "         0.47721997, 0.47721997, 0.29589711, 0.29589711, 0.17525027,\n",
       "         0.17525027, 0.00521912, 0.00521912, 0.93914015, 0.93914015,\n",
       "         0.88413036, 0.88413036, 0.77126487, 0.77126487, 0.14045224,\n",
       "         0.14045224, 0.2946134 , 0.2946134 , 0.92916062, 0.92916062,\n",
       "         0.5465282 , 0.5465282 , 0.68183904, 0.68183904, 0.81116569,\n",
       "         0.81116569, 0.06555391, 0.06555391, 0.01864686, 0.01864686])}}"
      ]
     },
     "execution_count": 1,
     "metadata": {},
     "output_type": "execute_result"
    }
   ],
   "source": [
    "ds = load_by_id(run_id_n)\n",
    "ds.get_parameter_data('x1')"
   ]
  },
  {
   "cell_type": "markdown",
   "metadata": {},
   "source": [
    "And a dataset stored as binary arrays"
   ]
  },
  {
   "cell_type": "code",
   "execution_count": 12,
   "metadata": {
    "execution": {
     "iopub.execute_input": "2020-12-09T08:52:16.217887Z",
     "iopub.status.busy": "2020-12-09T08:52:16.217348Z",
     "iopub.status.idle": "2020-12-09T08:52:16.274488Z",
     "shell.execute_reply": "2020-12-09T08:52:16.275048Z"
    },
    "scrolled": true
   },
   "outputs": [
    {
     "data": {
      "text/plain": [
       "{'x1': {'x1': array([[0.0981524 ],\n",
       "         [0.0981524 ],\n",
       "         [0.23740269],\n",
       "         [0.23740269],\n",
       "         [0.23395194],\n",
       "         [0.23395194],\n",
       "         [0.77238207],\n",
       "         [0.77238207],\n",
       "         [0.38769135],\n",
       "         [0.38769135],\n",
       "         [0.37610438],\n",
       "         [0.37610438],\n",
       "         [0.01562504],\n",
       "         [0.01562504],\n",
       "         [0.41844722],\n",
       "         [0.41844722],\n",
       "         [0.96326428],\n",
       "         [0.96326428],\n",
       "         [0.28672601],\n",
       "         [0.28672601],\n",
       "         [0.34746703],\n",
       "         [0.34746703],\n",
       "         [0.48418544],\n",
       "         [0.48418544],\n",
       "         [0.79906065],\n",
       "         [0.79906065],\n",
       "         [0.64111029],\n",
       "         [0.64111029],\n",
       "         [0.85788907],\n",
       "         [0.85788907],\n",
       "         [0.75250448],\n",
       "         [0.75250448],\n",
       "         [0.10498055],\n",
       "         [0.10498055],\n",
       "         [0.95212151],\n",
       "         [0.95212151],\n",
       "         [0.64351735],\n",
       "         [0.64351735],\n",
       "         [0.98276812],\n",
       "         [0.98276812],\n",
       "         [0.7125627 ],\n",
       "         [0.7125627 ],\n",
       "         [0.83302563],\n",
       "         [0.83302563],\n",
       "         [0.20477022],\n",
       "         [0.20477022],\n",
       "         [0.26656945],\n",
       "         [0.26656945],\n",
       "         [0.96695876],\n",
       "         [0.96695876],\n",
       "         [0.17011791],\n",
       "         [0.17011791],\n",
       "         [0.70203935],\n",
       "         [0.70203935],\n",
       "         [0.16897127],\n",
       "         [0.16897127],\n",
       "         [0.26708856],\n",
       "         [0.26708856],\n",
       "         [0.52028302],\n",
       "         [0.52028302],\n",
       "         [0.30516469],\n",
       "         [0.30516469],\n",
       "         [0.03349608],\n",
       "         [0.03349608],\n",
       "         [0.28552484],\n",
       "         [0.28552484],\n",
       "         [0.11512806],\n",
       "         [0.11512806],\n",
       "         [0.32286595],\n",
       "         [0.32286595],\n",
       "         [0.17703509],\n",
       "         [0.17703509],\n",
       "         [0.55598038],\n",
       "         [0.55598038],\n",
       "         [0.38836746],\n",
       "         [0.38836746],\n",
       "         [0.85238428],\n",
       "         [0.85238428],\n",
       "         [0.7350522 ],\n",
       "         [0.7350522 ],\n",
       "         [0.9031191 ],\n",
       "         [0.9031191 ],\n",
       "         [0.30918642],\n",
       "         [0.30918642],\n",
       "         [0.7240632 ],\n",
       "         [0.7240632 ],\n",
       "         [0.51664303],\n",
       "         [0.51664303],\n",
       "         [0.44229229],\n",
       "         [0.44229229],\n",
       "         [0.68662935],\n",
       "         [0.68662935],\n",
       "         [0.54452388],\n",
       "         [0.54452388],\n",
       "         [0.75295357],\n",
       "         [0.75295357],\n",
       "         [0.70240721],\n",
       "         [0.70240721],\n",
       "         [0.22832654],\n",
       "         [0.22832654],\n",
       "         [0.80756947],\n",
       "         [0.80756947],\n",
       "         [0.94426897],\n",
       "         [0.94426897],\n",
       "         [0.55000103],\n",
       "         [0.55000103],\n",
       "         [0.1293109 ],\n",
       "         [0.1293109 ],\n",
       "         [0.96865367],\n",
       "         [0.96865367],\n",
       "         [0.9123679 ],\n",
       "         [0.9123679 ],\n",
       "         [0.3126057 ],\n",
       "         [0.3126057 ],\n",
       "         [0.33968221],\n",
       "         [0.33968221],\n",
       "         [0.77181523],\n",
       "         [0.77181523],\n",
       "         [0.09546619],\n",
       "         [0.09546619],\n",
       "         [0.25015088],\n",
       "         [0.25015088],\n",
       "         [0.36193095],\n",
       "         [0.36193095],\n",
       "         [0.11166785],\n",
       "         [0.11166785],\n",
       "         [0.95082037],\n",
       "         [0.95082037],\n",
       "         [0.61920267],\n",
       "         [0.61920267],\n",
       "         [0.37284023],\n",
       "         [0.37284023],\n",
       "         [0.42704904],\n",
       "         [0.42704904],\n",
       "         [0.81176116],\n",
       "         [0.81176116],\n",
       "         [0.7803257 ],\n",
       "         [0.7803257 ],\n",
       "         [0.57576468],\n",
       "         [0.57576468],\n",
       "         [0.04808511],\n",
       "         [0.04808511],\n",
       "         [0.10661354],\n",
       "         [0.10661354],\n",
       "         [0.84745105],\n",
       "         [0.84745105],\n",
       "         [0.80998489],\n",
       "         [0.80998489],\n",
       "         [0.10606467],\n",
       "         [0.10606467],\n",
       "         [0.65510952],\n",
       "         [0.65510952],\n",
       "         [0.01326875],\n",
       "         [0.01326875],\n",
       "         [0.63607139],\n",
       "         [0.63607139],\n",
       "         [0.45869678],\n",
       "         [0.45869678],\n",
       "         [0.09340689],\n",
       "         [0.09340689],\n",
       "         [0.8372679 ],\n",
       "         [0.8372679 ],\n",
       "         [0.87957207],\n",
       "         [0.87957207],\n",
       "         [0.52927537],\n",
       "         [0.52927537],\n",
       "         [0.93850934],\n",
       "         [0.93850934],\n",
       "         [0.87270717],\n",
       "         [0.87270717],\n",
       "         [0.40387713],\n",
       "         [0.40387713],\n",
       "         [0.48598555],\n",
       "         [0.48598555],\n",
       "         [0.03683871],\n",
       "         [0.03683871],\n",
       "         [0.52297667],\n",
       "         [0.52297667],\n",
       "         [0.6568427 ],\n",
       "         [0.6568427 ],\n",
       "         [0.89039374],\n",
       "         [0.89039374],\n",
       "         [0.34202438],\n",
       "         [0.34202438],\n",
       "         [0.41649521],\n",
       "         [0.41649521],\n",
       "         [0.86505636],\n",
       "         [0.86505636],\n",
       "         [0.0453087 ],\n",
       "         [0.0453087 ],\n",
       "         [0.65198012],\n",
       "         [0.65198012],\n",
       "         [0.41578163],\n",
       "         [0.41578163],\n",
       "         [0.97454761],\n",
       "         [0.97454761],\n",
       "         [0.86066904],\n",
       "         [0.86066904],\n",
       "         [0.78270547],\n",
       "         [0.78270547]])}}"
      ]
     },
     "execution_count": 1,
     "metadata": {},
     "output_type": "execute_result"
    }
   ],
   "source": [
    "ds = load_by_id(run_id_a)\n",
    "ds.get_parameter_data('x1')"
   ]
  },
  {
   "cell_type": "code",
   "execution_count": null,
   "metadata": {},
   "outputs": [],
   "source": []
  }
 ],
 "metadata": {
  "kernelspec": {
   "display_name": "Python 3",
   "language": "python",
   "name": "python3"
  },
  "language_info": {
   "codemirror_mode": {
    "name": "ipython",
    "version": 3
   },
   "file_extension": ".py",
   "mimetype": "text/x-python",
   "name": "python",
   "nbconvert_exporter": "python",
   "pygments_lexer": "ipython3",
   "version": "3.7.9"
  },
  "nbsphinx": {
   "timeout": 600
  },
  "toc": {
   "base_numbering": 1,
   "nav_menu": {},
   "number_sections": true,
   "sideBar": true,
   "skip_h1_title": false,
   "title_cell": "Table of Contents",
   "title_sidebar": "Contents",
   "toc_cell": false,
   "toc_position": {},
   "toc_section_display": true,
   "toc_window_display": false
  },
  "varInspector": {
   "cols": {
    "lenName": 16,
    "lenType": 16,
    "lenVar": 40
   },
   "kernels_config": {
    "python": {
     "delete_cmd_postfix": "",
     "delete_cmd_prefix": "del ",
     "library": "var_list.py",
     "varRefreshCmd": "print(var_dic_list())"
    },
    "r": {
     "delete_cmd_postfix": ") ",
     "delete_cmd_prefix": "rm(",
     "library": "var_list.r",
     "varRefreshCmd": "cat(var_dic_list()) "
    }
   },
   "types_to_exclude": [
    "module",
    "function",
    "builtin_function_or_method",
    "instance",
    "_Feature"
   ],
   "window_display": false
  }
 },
 "nbformat": 4,
 "nbformat_minor": 2
}
