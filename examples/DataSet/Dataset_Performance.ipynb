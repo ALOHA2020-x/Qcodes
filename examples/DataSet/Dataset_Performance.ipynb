{
 "cells": [
  {
   "cell_type": "markdown",
   "metadata": {},
   "source": [
    "# DataSet Performance\n",
    "\n",
    "This notebook shows the trade-off between inserting data into a database row-by-row and as binary blobs. Inserting the data row-by-row means that we have direct access to all the data and may perform queries directly on the values of the data. On the other hand, as we shall see, this is much slower than inserting the data directly as binary blobs."
   ]
  },
  {
   "cell_type": "markdown",
   "metadata": {},
   "source": [
    "First, we choose a new location for the database to ensure that we don't add a bunch of benchmarking data to the default one."
   ]
  },
  {
   "cell_type": "code",
   "execution_count": 1,
   "metadata": {
    "execution": {
     "iopub.execute_input": "2020-11-30T08:44:22.869957Z",
     "iopub.status.busy": "2020-11-30T08:44:22.869340Z",
     "iopub.status.idle": "2020-11-30T08:44:23.881641Z",
     "shell.execute_reply": "2020-11-30T08:44:23.882161Z"
    }
   },
   "outputs": [
    {
     "name": "stdout",
     "output_type": "stream",
     "text": [
      "Logging hadn't been started.\n",
      "Activating auto-logging. Current session state plus future input saved.\n",
      "Filename       : /home/vsts/.qcodes/logs/command_history.log\n",
      "Mode           : append\n",
      "Output logging : True\n",
      "Raw input log  : False\n",
      "Timestamping   : True\n",
      "State          : active\n"
     ]
    },
    {
     "name": "stdout",
     "output_type": "stream",
     "text": [
      "Qcodes Logfile : /home/vsts/.qcodes/logs/201130-14249-qcodes.log\n"
     ]
    }
   ],
   "source": [
    "import os\n",
    "cwd = os.getcwd()\n",
    "import qcodes as qc\n",
    "qc.config[\"core\"][\"db_location\"] = os.path.join(cwd, 'testing.db')\n"
   ]
  },
  {
   "cell_type": "code",
   "execution_count": 2,
   "metadata": {
    "execution": {
     "iopub.execute_input": "2020-11-30T08:44:23.888471Z",
     "iopub.status.busy": "2020-11-30T08:44:23.887895Z",
     "iopub.status.idle": "2020-11-30T08:44:24.064274Z",
     "shell.execute_reply": "2020-11-30T08:44:24.063777Z"
    }
   },
   "outputs": [],
   "source": [
    "%matplotlib inline\n",
    "import time\n",
    "import matplotlib.pyplot as plt\n",
    "import numpy as np\n",
    "\n",
    "import qcodes as qc\n",
    "from qcodes.instrument.parameter import ManualParameter\n",
    "from qcodes.dataset.experiment_container import (Experiment,\n",
    "                                                 load_last_experiment,\n",
    "                                                 new_experiment)\n",
    "from qcodes.dataset.sqlite.database import initialise_database\n",
    "from qcodes import load_or_create_experiment\n",
    "from qcodes.dataset.measurements import Measurement"
   ]
  },
  {
   "cell_type": "code",
   "execution_count": 3,
   "metadata": {
    "execution": {
     "iopub.execute_input": "2020-11-30T08:44:24.068139Z",
     "iopub.status.busy": "2020-11-30T08:44:24.067408Z",
     "iopub.status.idle": "2020-11-30T08:44:24.170996Z",
     "shell.execute_reply": "2020-11-30T08:44:24.170433Z"
    }
   },
   "outputs": [
    {
     "name": "stdout",
     "output_type": "stream",
     "text": [
      "\r",
      "0it [00:00, ?it/s]"
     ]
    },
    {
     "name": "stdout",
     "output_type": "stream",
     "text": [
      "\r",
      "Upgrading database; v0 -> v1: : 0it [00:00, ?it/s]"
     ]
    },
    {
     "name": "stdout",
     "output_type": "stream",
     "text": [
      "\r",
      "Upgrading database; v0 -> v1: : 0it [00:00, ?it/s]"
     ]
    },
    {
     "name": "stdout",
     "output_type": "stream",
     "text": [
      "\n",
      "\r",
      "  0%|          | 0/1 [00:00<?, ?it/s]"
     ]
    },
    {
     "name": "stdout",
     "output_type": "stream",
     "text": [
      "\r",
      "Upgrading database; v1 -> v2:   0%|          | 0/1 [00:00<?, ?it/s]"
     ]
    },
    {
     "name": "stdout",
     "output_type": "stream",
     "text": [
      "\r",
      "Upgrading database; v1 -> v2: 100%|██████████| 1/1 [00:00<00:00, 1164.76it/s]"
     ]
    },
    {
     "name": "stdout",
     "output_type": "stream",
     "text": [
      "\n",
      "\r",
      "0it [00:00, ?it/s]"
     ]
    },
    {
     "name": "stdout",
     "output_type": "stream",
     "text": [
      "\r",
      "Upgrading database; v2 -> v3: : 0it [00:00, ?it/s]"
     ]
    },
    {
     "name": "stdout",
     "output_type": "stream",
     "text": [
      "\r",
      "Upgrading database; v2 -> v3: : 0it [00:00, ?it/s]"
     ]
    },
    {
     "name": "stdout",
     "output_type": "stream",
     "text": [
      "\n",
      "\r",
      "0it [00:00, ?it/s]"
     ]
    },
    {
     "name": "stdout",
     "output_type": "stream",
     "text": [
      "\r",
      "Upgrading database; v3 -> v4: : 0it [00:00, ?it/s]"
     ]
    },
    {
     "name": "stdout",
     "output_type": "stream",
     "text": [
      "\r",
      "Upgrading database; v3 -> v4: : 0it [00:00, ?it/s]"
     ]
    },
    {
     "name": "stdout",
     "output_type": "stream",
     "text": [
      "\n",
      "\r",
      "  0%|          | 0/1 [00:00<?, ?it/s]"
     ]
    },
    {
     "name": "stdout",
     "output_type": "stream",
     "text": [
      "\r",
      "Upgrading database; v4 -> v5:   0%|          | 0/1 [00:00<?, ?it/s]"
     ]
    },
    {
     "name": "stdout",
     "output_type": "stream",
     "text": [
      "\r",
      "Upgrading database; v4 -> v5: 100%|██████████| 1/1 [00:00<00:00, 577.17it/s]"
     ]
    },
    {
     "name": "stdout",
     "output_type": "stream",
     "text": [
      "\n",
      "\r",
      "0it [00:00, ?it/s]"
     ]
    },
    {
     "name": "stdout",
     "output_type": "stream",
     "text": [
      "\r",
      "Upgrading database; v5 -> v6: : 0it [00:00, ?it/s]"
     ]
    },
    {
     "name": "stdout",
     "output_type": "stream",
     "text": [
      "\r",
      "Upgrading database; v5 -> v6: : 0it [00:00, ?it/s]"
     ]
    },
    {
     "name": "stdout",
     "output_type": "stream",
     "text": [
      "\n",
      "\r",
      "  0%|          | 0/1 [00:00<?, ?it/s]"
     ]
    },
    {
     "name": "stdout",
     "output_type": "stream",
     "text": [
      "\r",
      "Upgrading database; v6 -> v7:   0%|          | 0/1 [00:00<?, ?it/s]"
     ]
    },
    {
     "name": "stdout",
     "output_type": "stream",
     "text": [
      "\r",
      "Upgrading database; v6 -> v7: 100%|██████████| 1/1 [00:00<00:00, 354.64it/s]"
     ]
    },
    {
     "name": "stdout",
     "output_type": "stream",
     "text": [
      "\n",
      "\r",
      "  0%|          | 0/1 [00:00<?, ?it/s]"
     ]
    },
    {
     "name": "stdout",
     "output_type": "stream",
     "text": [
      "\r",
      "Upgrading database; v7 -> v8:   0%|          | 0/1 [00:00<?, ?it/s]"
     ]
    },
    {
     "name": "stdout",
     "output_type": "stream",
     "text": [
      "\r",
      "Upgrading database; v7 -> v8: 100%|██████████| 1/1 [00:00<00:00, 611.68it/s]"
     ]
    },
    {
     "name": "stdout",
     "output_type": "stream",
     "text": [
      "\n",
      "\r",
      "  0%|          | 0/1 [00:00<?, ?it/s]"
     ]
    },
    {
     "name": "stdout",
     "output_type": "stream",
     "text": [
      "\r",
      "Upgrading database; v8 -> v9:   0%|          | 0/1 [00:00<?, ?it/s]"
     ]
    },
    {
     "name": "stdout",
     "output_type": "stream",
     "text": [
      "\r",
      "Upgrading database; v8 -> v9: 100%|██████████| 1/1 [00:00<00:00, 415.85it/s]"
     ]
    },
    {
     "name": "stdout",
     "output_type": "stream",
     "text": [
      "\n"
     ]
    }
   ],
   "source": [
    "initialise_database()\n",
    "exp = load_or_create_experiment(experiment_name='tutorial_exp', sample_name=\"no sample\")"
   ]
  },
  {
   "cell_type": "markdown",
   "metadata": {},
   "source": [
    "Here, we define a simple function to benchmark the time it takes to insert n points with either numeric or array data type.\n",
    "We will compare both the time used to call ``add_result`` and the time used for the full measurement."
   ]
  },
  {
   "cell_type": "code",
   "execution_count": 4,
   "metadata": {
    "execution": {
     "iopub.execute_input": "2020-11-30T08:44:24.179767Z",
     "iopub.status.busy": "2020-11-30T08:44:24.179215Z",
     "iopub.status.idle": "2020-11-30T08:44:24.183146Z",
     "shell.execute_reply": "2020-11-30T08:44:24.182654Z"
    }
   },
   "outputs": [],
   "source": [
    "def insert_data(paramtype, npoints, nreps=1):\n",
    "\n",
    "    meas = Measurement(exp=exp)\n",
    "\n",
    "    x1 = ManualParameter('x1')\n",
    "    x2 = ManualParameter('x2')\n",
    "    x3 = ManualParameter('x3')\n",
    "    y1 = ManualParameter('y1')\n",
    "    y2 = ManualParameter('y2')\n",
    "\n",
    "    meas.register_parameter(x1, paramtype=paramtype)\n",
    "    meas.register_parameter(x2, paramtype=paramtype)\n",
    "    meas.register_parameter(x3, paramtype=paramtype)\n",
    "    meas.register_parameter(y1, setpoints=[x1, x2, x3],\n",
    "                            paramtype=paramtype)\n",
    "    meas.register_parameter(y2, setpoints=[x1, x2, x3],\n",
    "                            paramtype=paramtype)\n",
    "    start = time.perf_counter()\n",
    "    with meas.run() as datasaver:\n",
    "        start_adding = time.perf_counter()\n",
    "        for i in range(nreps):\n",
    "            datasaver.add_result((x1, np.random.rand(npoints)),\n",
    "                                 (x2, np.random.rand(npoints)),\n",
    "                                 (x3, np.random.rand(npoints)),\n",
    "                                 (y1, np.random.rand(npoints)),\n",
    "                                 (y2, np.random.rand(npoints)))\n",
    "        stop_adding = time.perf_counter()\n",
    "        run_id = datasaver.run_id\n",
    "    stop = time.perf_counter()\n",
    "    tot_time = stop - start\n",
    "    add_time = stop_adding - start_adding\n",
    "    return tot_time, add_time, run_id"
   ]
  },
  {
   "cell_type": "markdown",
   "metadata": {},
   "source": [
    "## Comparison between numeric/array data and binary blob"
   ]
  },
  {
   "cell_type": "markdown",
   "metadata": {},
   "source": [
    "### Case1: Short experiment time"
   ]
  },
  {
   "cell_type": "code",
   "execution_count": 5,
   "metadata": {
    "execution": {
     "iopub.execute_input": "2020-11-30T08:44:24.191001Z",
     "iopub.status.busy": "2020-11-30T08:44:24.190106Z",
     "iopub.status.idle": "2020-11-30T08:44:25.007071Z",
     "shell.execute_reply": "2020-11-30T08:44:25.007650Z"
    }
   },
   "outputs": [
    {
     "name": "stdout",
     "output_type": "stream",
     "text": [
      "Starting experimental run with id: 1. \n",
      "Starting experimental run with id: 2. \n",
      "Starting experimental run with id: 3. \n",
      "Starting experimental run with id: 4. \n",
      "Starting experimental run with id: 5. \n"
     ]
    },
    {
     "name": "stdout",
     "output_type": "stream",
     "text": [
      "Starting experimental run with id: 6. \n"
     ]
    },
    {
     "name": "stdout",
     "output_type": "stream",
     "text": [
      "Starting experimental run with id: 7. \n"
     ]
    },
    {
     "name": "stdout",
     "output_type": "stream",
     "text": [
      "Starting experimental run with id: 8. \n",
      "Starting experimental run with id: 9. \n"
     ]
    },
    {
     "name": "stdout",
     "output_type": "stream",
     "text": [
      "Starting experimental run with id: 10. \n",
      "Starting experimental run with id: 11. \n"
     ]
    },
    {
     "name": "stdout",
     "output_type": "stream",
     "text": [
      "Starting experimental run with id: 12. \n",
      "Starting experimental run with id: 13. \n"
     ]
    },
    {
     "name": "stdout",
     "output_type": "stream",
     "text": [
      "Starting experimental run with id: 14. \n"
     ]
    }
   ],
   "source": [
    "sizes = [1,500,1000,2000,3000,4000,5000]\n",
    "t_numeric = []\n",
    "t_numeric_add = []\n",
    "t_array = []\n",
    "t_array_add = []\n",
    "for size in sizes:\n",
    "    tn, tna, run_id_n =  insert_data('numeric', size)\n",
    "    t_numeric.append(tn)\n",
    "    t_numeric_add.append(tna)\n",
    "\n",
    "    ta, taa, run_id_a =  insert_data('array', size)\n",
    "    t_array.append(ta)\n",
    "    t_array_add.append(taa)"
   ]
  },
  {
   "cell_type": "code",
   "execution_count": 6,
   "metadata": {
    "execution": {
     "iopub.execute_input": "2020-11-30T08:44:25.027035Z",
     "iopub.status.busy": "2020-11-30T08:44:25.019622Z",
     "iopub.status.idle": "2020-11-30T08:44:25.249741Z",
     "shell.execute_reply": "2020-11-30T08:44:25.251087Z"
    }
   },
   "outputs": [
    {
     "data": {
      "image/png": "[encoded data removed]",
      "text/plain": [
       "<Figure size 432x288 with 1 Axes>"
      ]
     },
     "metadata": {
      "needs_background": "light"
     },
     "output_type": "display_data"
    }
   ],
   "source": [
    "fig, ax = plt.subplots(1,1)\n",
    "ax.plot(sizes, t_numeric, 'o-', label='Inserting row-by-row')\n",
    "ax.plot(sizes, t_numeric_add, 'o-', label='Inserting row-by-row: add_result only')\n",
    "ax.plot(sizes, t_array, 'd-', label='Inserting as binary blob')\n",
    "ax.plot(sizes, t_array_add, 'd-', label='Inserting as binary blob: add_result only')\n",
    "ax.legend()\n",
    "ax.set_xlabel('Array length')\n",
    "ax.set_ylabel('Time (s)')\n",
    "fig.tight_layout()"
   ]
  },
  {
   "cell_type": "markdown",
   "metadata": {},
   "source": [
    "As shown in the latter figure, the time to setup and and close the experiment is approximately 0.4 sec. In case of small array sizes, the difference between inserting values of data as arrays and inserting them row-by-row is relatively unimportant. At larger array sizes, i.e. above 10000 points, the cost of writing data as individual datapoints starts to become important.\n"
   ]
  },
  {
   "cell_type": "markdown",
   "metadata": {},
   "source": [
    "### Case2: Long experiment time "
   ]
  },
  {
   "cell_type": "code",
   "execution_count": 7,
   "metadata": {
    "execution": {
     "iopub.execute_input": "2020-11-30T08:44:25.258289Z",
     "iopub.status.busy": "2020-11-30T08:44:25.257022Z",
     "iopub.status.idle": "2020-11-30T08:45:23.916793Z",
     "shell.execute_reply": "2020-11-30T08:45:23.917345Z"
    }
   },
   "outputs": [
    {
     "name": "stdout",
     "output_type": "stream",
     "text": [
      "Starting experimental run with id: 15. \n",
      "Starting experimental run with id: 16. \n",
      "Starting experimental run with id: 17. \n"
     ]
    },
    {
     "name": "stdout",
     "output_type": "stream",
     "text": [
      "Starting experimental run with id: 18. \n",
      "Starting experimental run with id: 19. \n"
     ]
    },
    {
     "name": "stdout",
     "output_type": "stream",
     "text": [
      "Starting experimental run with id: 20. \n"
     ]
    },
    {
     "name": "stdout",
     "output_type": "stream",
     "text": [
      "Starting experimental run with id: 21. \n"
     ]
    },
    {
     "name": "stdout",
     "output_type": "stream",
     "text": [
      "Starting experimental run with id: 22. \n"
     ]
    },
    {
     "name": "stdout",
     "output_type": "stream",
     "text": [
      "Starting experimental run with id: 23. \n"
     ]
    },
    {
     "name": "stdout",
     "output_type": "stream",
     "text": [
      "Starting experimental run with id: 24. \n"
     ]
    },
    {
     "name": "stdout",
     "output_type": "stream",
     "text": [
      "Starting experimental run with id: 25. \n"
     ]
    },
    {
     "name": "stdout",
     "output_type": "stream",
     "text": [
      "Starting experimental run with id: 26. \n"
     ]
    },
    {
     "name": "stdout",
     "output_type": "stream",
     "text": [
      "Starting experimental run with id: 27. \n"
     ]
    },
    {
     "name": "stdout",
     "output_type": "stream",
     "text": [
      "Starting experimental run with id: 28. \n"
     ]
    }
   ],
   "source": [
    "sizes = [1,500,1000,2000,3000,4000,5000]\n",
    "nreps = 100\n",
    "t_numeric = []\n",
    "t_numeric_add = []\n",
    "t_numeric_run_ids = []\n",
    "t_array = []\n",
    "t_array_add = []\n",
    "t_array_run_ids = []\n",
    "for size in sizes:\n",
    "    tn, tna, run_id_n =  insert_data('numeric', size, nreps=nreps)\n",
    "    t_numeric.append(tn)\n",
    "    t_numeric_add.append(tna)\n",
    "    t_numeric_run_ids.append(run_id_n)\n",
    "\n",
    "    ta, taa, run_id_a =  insert_data('array', size, nreps=nreps)\n",
    "    t_array.append(ta)\n",
    "    t_array_add.append(taa)\n",
    "    t_array_run_ids.append(run_id_a)"
   ]
  },
  {
   "cell_type": "code",
   "execution_count": 8,
   "metadata": {
    "execution": {
     "iopub.execute_input": "2020-11-30T08:45:23.939859Z",
     "iopub.status.busy": "2020-11-30T08:45:23.937292Z",
     "iopub.status.idle": "2020-11-30T08:45:24.157962Z",
     "shell.execute_reply": "2020-11-30T08:45:24.157413Z"
    },
    "scrolled": true
   },
   "outputs": [
    {
     "data": {
      "image/png": "[encoded data removed]",
      "text/plain": [
       "<Figure size 432x288 with 1 Axes>"
      ]
     },
     "metadata": {
      "needs_background": "light"
     },
     "output_type": "display_data"
    }
   ],
   "source": [
    "fig, ax = plt.subplots(1,1)\n",
    "ax.plot(sizes, t_numeric, 'o-', label='Inserting row-by-row')\n",
    "ax.plot(sizes, t_numeric_add, 'o-', label='Inserting row-by-row: add_result only')\n",
    "ax.plot(sizes, t_array, 'd-', label='Inserting as binary blob')\n",
    "ax.plot(sizes, t_array_add, 'd-', label='Inserting as binary blob: add_result only')\n",
    "ax.legend()\n",
    "ax.set_xlabel('Array length')\n",
    "ax.set_ylabel('Time (s)')\n",
    "fig.tight_layout()"
   ]
  },
  {
   "cell_type": "markdown",
   "metadata": {},
   "source": [
    "However, as we increase the length of the experiment, as seen here by repeating the insertion 100 times, we see a big difference between inserting values of the data row-by-row and inserting it as a binary blob."
   ]
  },
  {
   "cell_type": "markdown",
   "metadata": {},
   "source": [
    "## Loading the data "
   ]
  },
  {
   "cell_type": "code",
   "execution_count": 9,
   "metadata": {
    "execution": {
     "iopub.execute_input": "2020-11-30T08:45:24.162994Z",
     "iopub.status.busy": "2020-11-30T08:45:24.161970Z",
     "iopub.status.idle": "2020-11-30T08:45:24.166727Z",
     "shell.execute_reply": "2020-11-30T08:45:24.166107Z"
    }
   },
   "outputs": [],
   "source": [
    "from qcodes.dataset.data_set import load_by_id\n",
    "from qcodes.dataset.data_export import get_data_by_id"
   ]
  },
  {
   "cell_type": "markdown",
   "metadata": {},
   "source": [
    "As usual you can load the data by using the ``load_by_id`` function but you will notice that the different storage methods\n",
    "are reflected in shape of the data as it is retrieved. "
   ]
  },
  {
   "cell_type": "code",
   "execution_count": 10,
   "metadata": {
    "execution": {
     "iopub.execute_input": "2020-11-30T08:45:24.170686Z",
     "iopub.status.busy": "2020-11-30T08:45:24.170080Z",
     "iopub.status.idle": "2020-11-30T08:45:24.173638Z",
     "shell.execute_reply": "2020-11-30T08:45:24.174229Z"
    }
   },
   "outputs": [],
   "source": [
    "run_id_n = t_numeric_run_ids[0]\n",
    "run_id_a = t_array_run_ids[0]"
   ]
  },
  {
   "cell_type": "code",
   "execution_count": 11,
   "metadata": {
    "execution": {
     "iopub.execute_input": "2020-11-30T08:45:24.178366Z",
     "iopub.status.busy": "2020-11-30T08:45:24.177783Z",
     "iopub.status.idle": "2020-11-30T08:45:24.188680Z",
     "shell.execute_reply": "2020-11-30T08:45:24.189251Z"
    },
    "scrolled": true
   },
   "outputs": [
    {
     "data": {
      "text/plain": [
       "{'x1': {'x1': array([0.81963394, 0.81963394, 0.72284477, 0.72284477, 0.10757614,\n",
       "         0.10757614, 0.4467855 , 0.4467855 , 0.09267673, 0.09267673,\n",
       "         0.97974299, 0.97974299, 0.01307043, 0.01307043, 0.61137909,\n",
       "         0.61137909, 0.98836661, 0.98836661, 0.66200164, 0.66200164,\n",
       "         0.11481394, 0.11481394, 0.90207617, 0.90207617, 0.24022357,\n",
       "         0.24022357, 0.72406139, 0.72406139, 0.36361942, 0.36361942,\n",
       "         0.4690487 , 0.4690487 , 0.64269364, 0.64269364, 0.6229112 ,\n",
       "         0.6229112 , 0.7418115 , 0.7418115 , 0.05336957, 0.05336957,\n",
       "         0.93779972, 0.93779972, 0.49921   , 0.49921   , 0.12571289,\n",
       "         0.12571289, 0.6843072 , 0.6843072 , 0.35318417, 0.35318417,\n",
       "         0.58684883, 0.58684883, 0.744457  , 0.744457  , 0.10127404,\n",
       "         0.10127404, 0.64398813, 0.64398813, 0.05692695, 0.05692695,\n",
       "         0.12374812, 0.12374812, 0.33125422, 0.33125422, 0.96165604,\n",
       "         0.96165604, 0.37275294, 0.37275294, 0.78927306, 0.78927306,\n",
       "         0.11500711, 0.11500711, 0.09242934, 0.09242934, 0.08610004,\n",
       "         0.08610004, 0.28700213, 0.28700213, 0.41762973, 0.41762973,\n",
       "         0.57641661, 0.57641661, 0.48742207, 0.48742207, 0.46192437,\n",
       "         0.46192437, 0.90352994, 0.90352994, 0.22143614, 0.22143614,\n",
       "         0.37653849, 0.37653849, 0.30909478, 0.30909478, 0.29145464,\n",
       "         0.29145464, 0.50283721, 0.50283721, 0.06657992, 0.06657992,\n",
       "         0.15130805, 0.15130805, 0.42418432, 0.42418432, 0.76697163,\n",
       "         0.76697163, 0.21732714, 0.21732714, 0.08719792, 0.08719792,\n",
       "         0.38745788, 0.38745788, 0.89655528, 0.89655528, 0.64299472,\n",
       "         0.64299472, 0.28331442, 0.28331442, 0.669056  , 0.669056  ,\n",
       "         0.20444161, 0.20444161, 0.11856746, 0.11856746, 0.12091559,\n",
       "         0.12091559, 0.53193899, 0.53193899, 0.75649601, 0.75649601,\n",
       "         0.33050006, 0.33050006, 0.86145678, 0.86145678, 0.96339011,\n",
       "         0.96339011, 0.34077738, 0.34077738, 0.94179704, 0.94179704,\n",
       "         0.31773902, 0.31773902, 0.42931912, 0.42931912, 0.92699368,\n",
       "         0.92699368, 0.77731095, 0.77731095, 0.73177662, 0.73177662,\n",
       "         0.37277048, 0.37277048, 0.01678586, 0.01678586, 0.58694399,\n",
       "         0.58694399, 0.84983124, 0.84983124, 0.55348663, 0.55348663,\n",
       "         0.68931156, 0.68931156, 0.76445032, 0.76445032, 0.69702798,\n",
       "         0.69702798, 0.5085173 , 0.5085173 , 0.72823339, 0.72823339,\n",
       "         0.54741048, 0.54741048, 0.11265168, 0.11265168, 0.86779017,\n",
       "         0.86779017, 0.22756271, 0.22756271, 0.148603  , 0.148603  ,\n",
       "         0.67205757, 0.67205757, 0.37910037, 0.37910037, 0.74156574,\n",
       "         0.74156574, 0.05621557, 0.05621557, 0.94813461, 0.94813461,\n",
       "         0.97701297, 0.97701297, 0.66446111, 0.66446111, 0.55309695,\n",
       "         0.55309695, 0.18875731, 0.18875731, 0.79604415, 0.79604415])}}"
      ]
     },
     "execution_count": 1,
     "metadata": {},
     "output_type": "execute_result"
    }
   ],
   "source": [
    "ds = load_by_id(run_id_n)\n",
    "ds.get_parameter_data('x1')"
   ]
  },
  {
   "cell_type": "markdown",
   "metadata": {},
   "source": [
    "And a dataset stored as binary arrays"
   ]
  },
  {
   "cell_type": "code",
   "execution_count": 12,
   "metadata": {
    "execution": {
     "iopub.execute_input": "2020-11-30T08:45:24.193045Z",
     "iopub.status.busy": "2020-11-30T08:45:24.192454Z",
     "iopub.status.idle": "2020-11-30T08:45:24.258807Z",
     "shell.execute_reply": "2020-11-30T08:45:24.257949Z"
    },
    "scrolled": true
   },
   "outputs": [
    {
     "data": {
      "text/plain": [
       "{'x1': {'x1': array([[0.58870228],\n",
       "         [0.58870228],\n",
       "         [0.01754757],\n",
       "         [0.01754757],\n",
       "         [0.18814899],\n",
       "         [0.18814899],\n",
       "         [0.14483081],\n",
       "         [0.14483081],\n",
       "         [0.04624609],\n",
       "         [0.04624609],\n",
       "         [0.4036745 ],\n",
       "         [0.4036745 ],\n",
       "         [0.330189  ],\n",
       "         [0.330189  ],\n",
       "         [0.90541876],\n",
       "         [0.90541876],\n",
       "         [0.55007032],\n",
       "         [0.55007032],\n",
       "         [0.55052159],\n",
       "         [0.55052159],\n",
       "         [0.08550893],\n",
       "         [0.08550893],\n",
       "         [0.39119393],\n",
       "         [0.39119393],\n",
       "         [0.02483252],\n",
       "         [0.02483252],\n",
       "         [0.38583266],\n",
       "         [0.38583266],\n",
       "         [0.36059532],\n",
       "         [0.36059532],\n",
       "         [0.37205644],\n",
       "         [0.37205644],\n",
       "         [0.10814521],\n",
       "         [0.10814521],\n",
       "         [0.22193925],\n",
       "         [0.22193925],\n",
       "         [0.27121727],\n",
       "         [0.27121727],\n",
       "         [0.57792402],\n",
       "         [0.57792402],\n",
       "         [0.03652742],\n",
       "         [0.03652742],\n",
       "         [0.92913983],\n",
       "         [0.92913983],\n",
       "         [0.51694276],\n",
       "         [0.51694276],\n",
       "         [0.47328745],\n",
       "         [0.47328745],\n",
       "         [0.15594866],\n",
       "         [0.15594866],\n",
       "         [0.22262445],\n",
       "         [0.22262445],\n",
       "         [0.99232638],\n",
       "         [0.99232638],\n",
       "         [0.9384262 ],\n",
       "         [0.9384262 ],\n",
       "         [0.49510668],\n",
       "         [0.49510668],\n",
       "         [0.06409507],\n",
       "         [0.06409507],\n",
       "         [0.46248408],\n",
       "         [0.46248408],\n",
       "         [0.74918107],\n",
       "         [0.74918107],\n",
       "         [0.02486613],\n",
       "         [0.02486613],\n",
       "         [0.64286892],\n",
       "         [0.64286892],\n",
       "         [0.73508744],\n",
       "         [0.73508744],\n",
       "         [0.17365672],\n",
       "         [0.17365672],\n",
       "         [0.77284574],\n",
       "         [0.77284574],\n",
       "         [0.75400188],\n",
       "         [0.75400188],\n",
       "         [0.78236061],\n",
       "         [0.78236061],\n",
       "         [0.16950078],\n",
       "         [0.16950078],\n",
       "         [0.53797642],\n",
       "         [0.53797642],\n",
       "         [0.34919994],\n",
       "         [0.34919994],\n",
       "         [0.7951258 ],\n",
       "         [0.7951258 ],\n",
       "         [0.02707653],\n",
       "         [0.02707653],\n",
       "         [0.57040291],\n",
       "         [0.57040291],\n",
       "         [0.44245014],\n",
       "         [0.44245014],\n",
       "         [0.44121652],\n",
       "         [0.44121652],\n",
       "         [0.68140892],\n",
       "         [0.68140892],\n",
       "         [0.42503264],\n",
       "         [0.42503264],\n",
       "         [0.96115454],\n",
       "         [0.96115454],\n",
       "         [0.15632496],\n",
       "         [0.15632496],\n",
       "         [0.77773935],\n",
       "         [0.77773935],\n",
       "         [0.34982636],\n",
       "         [0.34982636],\n",
       "         [0.06793638],\n",
       "         [0.06793638],\n",
       "         [0.35188051],\n",
       "         [0.35188051],\n",
       "         [0.07922446],\n",
       "         [0.07922446],\n",
       "         [0.14394037],\n",
       "         [0.14394037],\n",
       "         [0.68287528],\n",
       "         [0.68287528],\n",
       "         [0.5576755 ],\n",
       "         [0.5576755 ],\n",
       "         [0.84341668],\n",
       "         [0.84341668],\n",
       "         [0.64334433],\n",
       "         [0.64334433],\n",
       "         [0.13203434],\n",
       "         [0.13203434],\n",
       "         [0.9953936 ],\n",
       "         [0.9953936 ],\n",
       "         [0.01177411],\n",
       "         [0.01177411],\n",
       "         [0.13032442],\n",
       "         [0.13032442],\n",
       "         [0.79901827],\n",
       "         [0.79901827],\n",
       "         [0.98549478],\n",
       "         [0.98549478],\n",
       "         [0.30321414],\n",
       "         [0.30321414],\n",
       "         [0.89876922],\n",
       "         [0.89876922],\n",
       "         [0.31851669],\n",
       "         [0.31851669],\n",
       "         [0.05941299],\n",
       "         [0.05941299],\n",
       "         [0.83774217],\n",
       "         [0.83774217],\n",
       "         [0.61566681],\n",
       "         [0.61566681],\n",
       "         [0.91573961],\n",
       "         [0.91573961],\n",
       "         [0.9677402 ],\n",
       "         [0.9677402 ],\n",
       "         [0.98936741],\n",
       "         [0.98936741],\n",
       "         [0.84914381],\n",
       "         [0.84914381],\n",
       "         [0.01518046],\n",
       "         [0.01518046],\n",
       "         [0.14238152],\n",
       "         [0.14238152],\n",
       "         [0.63462451],\n",
       "         [0.63462451],\n",
       "         [0.57812488],\n",
       "         [0.57812488],\n",
       "         [0.18991104],\n",
       "         [0.18991104],\n",
       "         [0.78844431],\n",
       "         [0.78844431],\n",
       "         [0.57077697],\n",
       "         [0.57077697],\n",
       "         [0.0040256 ],\n",
       "         [0.0040256 ],\n",
       "         [0.13857447],\n",
       "         [0.13857447],\n",
       "         [0.76964196],\n",
       "         [0.76964196],\n",
       "         [0.23218402],\n",
       "         [0.23218402],\n",
       "         [0.58979779],\n",
       "         [0.58979779],\n",
       "         [0.95269298],\n",
       "         [0.95269298],\n",
       "         [0.22750382],\n",
       "         [0.22750382],\n",
       "         [0.8910108 ],\n",
       "         [0.8910108 ],\n",
       "         [0.57263141],\n",
       "         [0.57263141],\n",
       "         [0.5882725 ],\n",
       "         [0.5882725 ],\n",
       "         [0.54526171],\n",
       "         [0.54526171],\n",
       "         [0.65833096],\n",
       "         [0.65833096],\n",
       "         [0.08677265],\n",
       "         [0.08677265],\n",
       "         [0.17363438],\n",
       "         [0.17363438],\n",
       "         [0.10168351],\n",
       "         [0.10168351],\n",
       "         [0.51671843],\n",
       "         [0.51671843]])}}"
      ]
     },
     "execution_count": 1,
     "metadata": {},
     "output_type": "execute_result"
    }
   ],
   "source": [
    "ds = load_by_id(run_id_a)\n",
    "ds.get_parameter_data('x1')"
   ]
  },
  {
   "cell_type": "code",
   "execution_count": null,
   "metadata": {},
   "outputs": [],
   "source": []
  }
 ],
 "metadata": {
  "kernelspec": {
   "display_name": "Python 3",
   "language": "python",
   "name": "python3"
  },
  "language_info": {
   "codemirror_mode": {
    "name": "ipython",
    "version": 3
   },
   "file_extension": ".py",
   "mimetype": "text/x-python",
   "name": "python",
   "nbconvert_exporter": "python",
   "pygments_lexer": "ipython3",
   "version": "3.7.9"
  },
  "nbsphinx": {
   "timeout": 600
  },
  "toc": {
   "base_numbering": 1,
   "nav_menu": {},
   "number_sections": true,
   "sideBar": true,
   "skip_h1_title": false,
   "title_cell": "Table of Contents",
   "title_sidebar": "Contents",
   "toc_cell": false,
   "toc_position": {},
   "toc_section_display": true,
   "toc_window_display": false
  },
  "varInspector": {
   "cols": {
    "lenName": 16,
    "lenType": 16,
    "lenVar": 40
   },
   "kernels_config": {
    "python": {
     "delete_cmd_postfix": "",
     "delete_cmd_prefix": "del ",
     "library": "var_list.py",
     "varRefreshCmd": "print(var_dic_list())"
    },
    "r": {
     "delete_cmd_postfix": ") ",
     "delete_cmd_prefix": "rm(",
     "library": "var_list.r",
     "varRefreshCmd": "cat(var_dic_list()) "
    }
   },
   "types_to_exclude": [
    "module",
    "function",
    "builtin_function_or_method",
    "instance",
    "_Feature"
   ],
   "window_display": false
  }
 },
 "nbformat": 4,
 "nbformat_minor": 2
}
