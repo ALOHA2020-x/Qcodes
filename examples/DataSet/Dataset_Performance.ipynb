{
 "cells": [
  {
   "cell_type": "markdown",
   "metadata": {},
   "source": [
    "# DataSet Performance\n",
    "\n",
    "This notebook shows the trade-off between inserting data into a database row-by-row and as binary blobs. Inserting the data row-by-row means that we have direct access to all the data and may perform queries directly on the values of the data. On the other hand, as we shall see, this is much slower than inserting the data directly as binary blobs."
   ]
  },
  {
   "cell_type": "markdown",
   "metadata": {},
   "source": [
    "First, we choose a new location for the database to ensure that we don't add a bunch of benchmarking data to the default one."
   ]
  },
  {
   "cell_type": "code",
   "execution_count": 1,
   "metadata": {},
   "outputs": [
    {
     "name": "stdout",
     "output_type": "stream",
     "text": [
      "Logging hadn't been started.\n",
      "Activating auto-logging. Current session state plus future input saved.\n",
      "Filename       : /home/vsts/.qcodes/logs/command_history.log\n",
      "Mode           : append\n",
      "Output logging : True\n",
      "Raw input log  : False\n",
      "Timestamping   : True\n",
      "State          : active\n"
     ]
    },
    {
     "name": "stdout",
     "output_type": "stream",
     "text": [
      "Qcodes Logfile : /home/vsts/.qcodes/logs/200602-19422-qcodes.log\n"
     ]
    }
   ],
   "source": [
    "import os\n",
    "cwd = os.getcwd()\n",
    "import qcodes as qc\n",
    "qc.config[\"core\"][\"db_location\"] = os.path.join(cwd, 'testing.db')\n"
   ]
  },
  {
   "cell_type": "code",
   "execution_count": 2,
   "metadata": {},
   "outputs": [],
   "source": [
    "%matplotlib inline\n",
    "import time\n",
    "import matplotlib.pyplot as plt\n",
    "import numpy as np\n",
    "\n",
    "import qcodes as qc\n",
    "from qcodes.instrument.parameter import ManualParameter\n",
    "from qcodes.dataset.experiment_container import (Experiment,\n",
    "                                                 load_last_experiment,\n",
    "                                                 new_experiment)\n",
    "from qcodes.dataset.sqlite.database import initialise_database\n",
    "from qcodes import load_or_create_experiment\n",
    "from qcodes.dataset.measurements import Measurement"
   ]
  },
  {
   "cell_type": "code",
   "execution_count": 3,
   "metadata": {},
   "outputs": [
    {
     "name": "stdout",
     "output_type": "stream",
     "text": [
      "\r",
      "0it [00:00, ?it/s]"
     ]
    },
    {
     "name": "stdout",
     "output_type": "stream",
     "text": [
      "\r",
      "Upgrading database; v0 -> v1: : 0it [00:00, ?it/s]"
     ]
    },
    {
     "name": "stdout",
     "output_type": "stream",
     "text": [
      "\r",
      "Upgrading database; v0 -> v1: : 0it [00:00, ?it/s]"
     ]
    },
    {
     "name": "stdout",
     "output_type": "stream",
     "text": [
      "\n",
      "\r",
      "  0%|          | 0/1 [00:00<?, ?it/s]"
     ]
    },
    {
     "name": "stdout",
     "output_type": "stream",
     "text": [
      "\r",
      "Upgrading database; v1 -> v2:   0%|          | 0/1 [00:00<?, ?it/s]"
     ]
    },
    {
     "name": "stdout",
     "output_type": "stream",
     "text": [
      "\r",
      "Upgrading database; v1 -> v2: 100%|██████████| 1/1 [00:00<00:00, 809.71it/s]"
     ]
    },
    {
     "name": "stdout",
     "output_type": "stream",
     "text": [
      "\n",
      "\r",
      "0it [00:00, ?it/s]"
     ]
    },
    {
     "name": "stdout",
     "output_type": "stream",
     "text": [
      "\r",
      "Upgrading database; v2 -> v3: : 0it [00:00, ?it/s]"
     ]
    },
    {
     "name": "stdout",
     "output_type": "stream",
     "text": [
      "\r",
      "Upgrading database; v2 -> v3: : 0it [00:00, ?it/s]"
     ]
    },
    {
     "name": "stdout",
     "output_type": "stream",
     "text": [
      "\n",
      "\r",
      "0it [00:00, ?it/s]"
     ]
    },
    {
     "name": "stdout",
     "output_type": "stream",
     "text": [
      "\r",
      "Upgrading database; v3 -> v4: : 0it [00:00, ?it/s]"
     ]
    },
    {
     "name": "stdout",
     "output_type": "stream",
     "text": [
      "\r",
      "Upgrading database; v3 -> v4: : 0it [00:00, ?it/s]"
     ]
    },
    {
     "name": "stdout",
     "output_type": "stream",
     "text": [
      "\n",
      "\r",
      "  0%|          | 0/1 [00:00<?, ?it/s]"
     ]
    },
    {
     "name": "stdout",
     "output_type": "stream",
     "text": [
      "\r",
      "Upgrading database; v4 -> v5:   0%|          | 0/1 [00:00<?, ?it/s]"
     ]
    },
    {
     "name": "stdout",
     "output_type": "stream",
     "text": [
      "\r",
      "Upgrading database; v4 -> v5: 100%|██████████| 1/1 [00:00<00:00, 917.59it/s]"
     ]
    },
    {
     "name": "stdout",
     "output_type": "stream",
     "text": [
      "\n",
      "\r",
      "0it [00:00, ?it/s]"
     ]
    },
    {
     "name": "stdout",
     "output_type": "stream",
     "text": [
      "\r",
      "Upgrading database; v5 -> v6: : 0it [00:00, ?it/s]"
     ]
    },
    {
     "name": "stdout",
     "output_type": "stream",
     "text": [
      "\r",
      "Upgrading database; v5 -> v6: : 0it [00:00, ?it/s]"
     ]
    },
    {
     "name": "stdout",
     "output_type": "stream",
     "text": [
      "\n",
      "\r",
      "  0%|          | 0/1 [00:00<?, ?it/s]"
     ]
    },
    {
     "name": "stdout",
     "output_type": "stream",
     "text": [
      "\r",
      "Upgrading database; v6 -> v7:   0%|          | 0/1 [00:00<?, ?it/s]"
     ]
    },
    {
     "name": "stdout",
     "output_type": "stream",
     "text": [
      "\r",
      "Upgrading database; v6 -> v7: 100%|██████████| 1/1 [00:00<00:00, 487.94it/s]"
     ]
    },
    {
     "name": "stdout",
     "output_type": "stream",
     "text": [
      "\n",
      "\r",
      "  0%|          | 0/1 [00:00<?, ?it/s]"
     ]
    },
    {
     "name": "stdout",
     "output_type": "stream",
     "text": [
      "\r",
      "Upgrading database; v7 -> v8:   0%|          | 0/1 [00:00<?, ?it/s]"
     ]
    },
    {
     "name": "stdout",
     "output_type": "stream",
     "text": [
      "\r",
      "Upgrading database; v7 -> v8: 100%|██████████| 1/1 [00:00<00:00, 919.20it/s]"
     ]
    },
    {
     "name": "stdout",
     "output_type": "stream",
     "text": [
      "\n",
      "\r",
      "  0%|          | 0/1 [00:00<?, ?it/s]"
     ]
    },
    {
     "name": "stdout",
     "output_type": "stream",
     "text": [
      "\r",
      "Upgrading database; v8 -> v9:   0%|          | 0/1 [00:00<?, ?it/s]"
     ]
    },
    {
     "name": "stdout",
     "output_type": "stream",
     "text": [
      "\r",
      "Upgrading database; v8 -> v9: 100%|██████████| 1/1 [00:00<00:00, 1054.38it/s]"
     ]
    },
    {
     "name": "stdout",
     "output_type": "stream",
     "text": [
      "\n"
     ]
    }
   ],
   "source": [
    "initialise_database()\n",
    "exp = load_or_create_experiment(experiment_name='tutorial_exp', sample_name=\"no sample\")"
   ]
  },
  {
   "cell_type": "markdown",
   "metadata": {},
   "source": [
    "Here, we define a simple function to benchmark the time it takes to insert n points with either numeric or array data type.\n",
    "We will compare both the time used to call ``add_result`` and the time used for the full measurement."
   ]
  },
  {
   "cell_type": "code",
   "execution_count": 4,
   "metadata": {},
   "outputs": [],
   "source": [
    "def insert_data(paramtype, npoints, nreps=1):\n",
    "\n",
    "    meas = Measurement(exp=exp)\n",
    "\n",
    "    x1 = ManualParameter('x1')\n",
    "    x2 = ManualParameter('x2')\n",
    "    x3 = ManualParameter('x3')\n",
    "    y1 = ManualParameter('y1')\n",
    "    y2 = ManualParameter('y2')\n",
    "\n",
    "    meas.register_parameter(x1, paramtype=paramtype)\n",
    "    meas.register_parameter(x2, paramtype=paramtype)\n",
    "    meas.register_parameter(x3, paramtype=paramtype)\n",
    "    meas.register_parameter(y1, setpoints=[x1, x2, x3],\n",
    "                            paramtype=paramtype)\n",
    "    meas.register_parameter(y2, setpoints=[x1, x2, x3],\n",
    "                            paramtype=paramtype)\n",
    "    start = time.perf_counter()\n",
    "    with meas.run() as datasaver:\n",
    "        start_adding = time.perf_counter()\n",
    "        for i in range(nreps):\n",
    "            datasaver.add_result((x1, np.random.rand(npoints)),\n",
    "                                 (x2, np.random.rand(npoints)),\n",
    "                                 (x3, np.random.rand(npoints)),\n",
    "                                 (y1, np.random.rand(npoints)),\n",
    "                                 (y2, np.random.rand(npoints)))\n",
    "        stop_adding = time.perf_counter()\n",
    "        run_id = datasaver.run_id\n",
    "    stop = time.perf_counter()\n",
    "    tot_time = stop - start\n",
    "    add_time = stop_adding - start_adding\n",
    "    return tot_time, add_time, run_id"
   ]
  },
  {
   "cell_type": "markdown",
   "metadata": {},
   "source": [
    "## Comparison between numeric/array data and binary blob"
   ]
  },
  {
   "cell_type": "markdown",
   "metadata": {},
   "source": [
    "### Case1: Short experiment time"
   ]
  },
  {
   "cell_type": "code",
   "execution_count": 5,
   "metadata": {},
   "outputs": [
    {
     "name": "stdout",
     "output_type": "stream",
     "text": [
      "Starting experimental run with id: 1. \n",
      "Starting experimental run with id: 2. \n",
      "Starting experimental run with id: 3. \n"
     ]
    },
    {
     "name": "stdout",
     "output_type": "stream",
     "text": [
      "Starting experimental run with id: 4. \n"
     ]
    },
    {
     "name": "stdout",
     "output_type": "stream",
     "text": [
      "Starting experimental run with id: 5. \n"
     ]
    },
    {
     "name": "stdout",
     "output_type": "stream",
     "text": [
      "Starting experimental run with id: 6. \n"
     ]
    },
    {
     "name": "stdout",
     "output_type": "stream",
     "text": [
      "Starting experimental run with id: 7. \n",
      "Starting experimental run with id: 8. \n"
     ]
    },
    {
     "name": "stdout",
     "output_type": "stream",
     "text": [
      "Starting experimental run with id: 9. \n"
     ]
    },
    {
     "name": "stdout",
     "output_type": "stream",
     "text": [
      "Starting experimental run with id: 10. \n",
      "Starting experimental run with id: 11. \n"
     ]
    },
    {
     "name": "stdout",
     "output_type": "stream",
     "text": [
      "Starting experimental run with id: 12. \n"
     ]
    },
    {
     "name": "stdout",
     "output_type": "stream",
     "text": [
      "Starting experimental run with id: 13. \n"
     ]
    },
    {
     "name": "stdout",
     "output_type": "stream",
     "text": [
      "Starting experimental run with id: 14. \n"
     ]
    }
   ],
   "source": [
    "sizes = [1,500,1000,2000,3000,4000,5000]\n",
    "t_numeric = []\n",
    "t_numeric_add = []\n",
    "t_array = []\n",
    "t_array_add = []\n",
    "for size in sizes:\n",
    "    tn, tna, run_id_n =  insert_data('numeric', size)\n",
    "    t_numeric.append(tn)\n",
    "    t_numeric_add.append(tna)\n",
    "\n",
    "    ta, taa, run_id_a =  insert_data('array', size)\n",
    "    t_array.append(ta)\n",
    "    t_array_add.append(taa)"
   ]
  },
  {
   "cell_type": "code",
   "execution_count": 6,
   "metadata": {},
   "outputs": [
    {
     "data": {
      "image/png": "[encoded data removed]",
      "text/plain": [
       "<Figure size 432x288 with 1 Axes>"
      ]
     },
     "metadata": {
      "needs_background": "light"
     },
     "output_type": "display_data"
    }
   ],
   "source": [
    "fig, ax = plt.subplots(1,1)\n",
    "ax.plot(sizes, t_numeric, 'o-', label='Inserting row-by-row')\n",
    "ax.plot(sizes, t_numeric_add, 'o-', label='Inserting row-by-row: add_result only')\n",
    "ax.plot(sizes, t_array, 'd-', label='Inserting as binary blob')\n",
    "ax.plot(sizes, t_array_add, 'd-', label='Inserting as binary blob: add_result only')\n",
    "ax.legend()\n",
    "ax.set_xlabel('Array length')\n",
    "ax.set_ylabel('Time (s)')\n",
    "fig.tight_layout()"
   ]
  },
  {
   "cell_type": "markdown",
   "metadata": {},
   "source": [
    "As shown in the latter figure, the time to setup and and close the experiment is approximately 0.4 sec. In case of small array sizes, the difference between inserting values of data as arrays and inserting them row-by-row is relatively unimportant. At larger array sizes, i.e. above 10000 points, the cost of writing data as individual datapoints starts to become important.\n"
   ]
  },
  {
   "cell_type": "markdown",
   "metadata": {},
   "source": [
    "### Case2: Long experiment time "
   ]
  },
  {
   "cell_type": "code",
   "execution_count": 7,
   "metadata": {},
   "outputs": [
    {
     "name": "stdout",
     "output_type": "stream",
     "text": [
      "Starting experimental run with id: 15. \n",
      "Starting experimental run with id: 16. \n",
      "Starting experimental run with id: 17. \n"
     ]
    },
    {
     "name": "stdout",
     "output_type": "stream",
     "text": [
      "Starting experimental run with id: 18. \n",
      "Starting experimental run with id: 19. \n"
     ]
    },
    {
     "name": "stdout",
     "output_type": "stream",
     "text": [
      "Starting experimental run with id: 20. \n"
     ]
    },
    {
     "name": "stdout",
     "output_type": "stream",
     "text": [
      "Starting experimental run with id: 21. \n"
     ]
    },
    {
     "name": "stdout",
     "output_type": "stream",
     "text": [
      "Starting experimental run with id: 22. \n"
     ]
    },
    {
     "name": "stdout",
     "output_type": "stream",
     "text": [
      "Starting experimental run with id: 23. \n"
     ]
    },
    {
     "name": "stdout",
     "output_type": "stream",
     "text": [
      "Starting experimental run with id: 24. \n"
     ]
    },
    {
     "name": "stdout",
     "output_type": "stream",
     "text": [
      "Starting experimental run with id: 25. \n"
     ]
    },
    {
     "name": "stdout",
     "output_type": "stream",
     "text": [
      "Starting experimental run with id: 26. \n"
     ]
    },
    {
     "name": "stdout",
     "output_type": "stream",
     "text": [
      "Starting experimental run with id: 27. \n"
     ]
    },
    {
     "name": "stdout",
     "output_type": "stream",
     "text": [
      "Starting experimental run with id: 28. \n"
     ]
    }
   ],
   "source": [
    "sizes = [1,500,1000,2000,3000,4000,5000]\n",
    "nreps = 100\n",
    "t_numeric = []\n",
    "t_numeric_add = []\n",
    "t_numeric_run_ids = []\n",
    "t_array = []\n",
    "t_array_add = []\n",
    "t_array_run_ids = []\n",
    "for size in sizes:\n",
    "    tn, tna, run_id_n =  insert_data('numeric', size, nreps=nreps)\n",
    "    t_numeric.append(tn)\n",
    "    t_numeric_add.append(tna)\n",
    "    t_numeric_run_ids.append(run_id_n)\n",
    "\n",
    "    ta, taa, run_id_a =  insert_data('array', size, nreps=nreps)\n",
    "    t_array.append(ta)\n",
    "    t_array_add.append(taa)\n",
    "    t_array_run_ids.append(run_id_a)"
   ]
  },
  {
   "cell_type": "code",
   "execution_count": 8,
   "metadata": {
    "scrolled": true
   },
   "outputs": [
    {
     "data": {
      "image/png": "[encoded data removed]",
      "text/plain": [
       "<Figure size 432x288 with 1 Axes>"
      ]
     },
     "metadata": {
      "needs_background": "light"
     },
     "output_type": "display_data"
    }
   ],
   "source": [
    "fig, ax = plt.subplots(1,1)\n",
    "ax.plot(sizes, t_numeric, 'o-', label='Inserting row-by-row')\n",
    "ax.plot(sizes, t_numeric_add, 'o-', label='Inserting row-by-row: add_result only')\n",
    "ax.plot(sizes, t_array, 'd-', label='Inserting as binary blob')\n",
    "ax.plot(sizes, t_array_add, 'd-', label='Inserting as binary blob: add_result only')\n",
    "ax.legend()\n",
    "ax.set_xlabel('Array length')\n",
    "ax.set_ylabel('Time (s)')\n",
    "fig.tight_layout()"
   ]
  },
  {
   "cell_type": "markdown",
   "metadata": {},
   "source": [
    "However, as we increase the length of the experiment, as seen here by repeating the insertion 100 times, we see a big difference between inserting values of the data row-by-row and inserting it as a binary blob."
   ]
  },
  {
   "cell_type": "markdown",
   "metadata": {},
   "source": [
    "## Loading the data "
   ]
  },
  {
   "cell_type": "code",
   "execution_count": 9,
   "metadata": {},
   "outputs": [],
   "source": [
    "from qcodes.dataset.data_set import load_by_id\n",
    "from qcodes.dataset.data_export import get_data_by_id"
   ]
  },
  {
   "cell_type": "markdown",
   "metadata": {},
   "source": [
    "As usual you can load the data by using the ``load_by_id`` function but you will notice that the different storage methods\n",
    "are reflected in shape of the data as it is retrieved. "
   ]
  },
  {
   "cell_type": "code",
   "execution_count": 10,
   "metadata": {},
   "outputs": [],
   "source": [
    "run_id_n = t_numeric_run_ids[0]\n",
    "run_id_a = t_array_run_ids[0]"
   ]
  },
  {
   "cell_type": "code",
   "execution_count": 11,
   "metadata": {
    "scrolled": true
   },
   "outputs": [
    {
     "data": {
      "text/plain": [
       "{'x1': {'x1': array([0.89094251, 0.89094251, 0.16151552, 0.16151552, 0.29625399,\n",
       "         0.29625399, 0.39237317, 0.39237317, 0.82893696, 0.82893696,\n",
       "         0.10051494, 0.10051494, 0.410889  , 0.410889  , 0.96989809,\n",
       "         0.96989809, 0.94417764, 0.94417764, 0.73922761, 0.73922761,\n",
       "         0.69528319, 0.69528319, 0.65818089, 0.65818089, 0.88343705,\n",
       "         0.88343705, 0.27629536, 0.27629536, 0.33211401, 0.33211401,\n",
       "         0.67427304, 0.67427304, 0.418474  , 0.418474  , 0.92471034,\n",
       "         0.92471034, 0.91926359, 0.91926359, 0.88132396, 0.88132396,\n",
       "         0.76169104, 0.76169104, 0.25257923, 0.25257923, 0.16084518,\n",
       "         0.16084518, 0.27798312, 0.27798312, 0.08207382, 0.08207382,\n",
       "         0.57010808, 0.57010808, 0.49393453, 0.49393453, 0.72173377,\n",
       "         0.72173377, 0.96559777, 0.96559777, 0.43273748, 0.43273748,\n",
       "         0.14704112, 0.14704112, 0.24656073, 0.24656073, 0.63764194,\n",
       "         0.63764194, 0.58540233, 0.58540233, 0.26555733, 0.26555733,\n",
       "         0.44187098, 0.44187098, 0.07135599, 0.07135599, 0.65657126,\n",
       "         0.65657126, 0.31435689, 0.31435689, 0.53238536, 0.53238536,\n",
       "         0.52343213, 0.52343213, 0.63284287, 0.63284287, 0.60961982,\n",
       "         0.60961982, 0.76494661, 0.76494661, 0.90323753, 0.90323753,\n",
       "         0.92117117, 0.92117117, 0.35785091, 0.35785091, 0.93398063,\n",
       "         0.93398063, 0.16807426, 0.16807426, 0.82782259, 0.82782259,\n",
       "         0.08739101, 0.08739101, 0.51682507, 0.51682507, 0.67185481,\n",
       "         0.67185481, 0.47171165, 0.47171165, 0.99709927, 0.99709927,\n",
       "         0.27935479, 0.27935479, 0.93948346, 0.93948346, 0.45385574,\n",
       "         0.45385574, 0.81288141, 0.81288141, 0.37825174, 0.37825174,\n",
       "         0.97069431, 0.97069431, 0.23360992, 0.23360992, 0.60551923,\n",
       "         0.60551923, 0.75649721, 0.75649721, 0.49209498, 0.49209498,\n",
       "         0.32576184, 0.32576184, 0.30278719, 0.30278719, 0.55115484,\n",
       "         0.55115484, 0.75897724, 0.75897724, 0.27971538, 0.27971538,\n",
       "         0.87709411, 0.87709411, 0.75188279, 0.75188279, 0.46862126,\n",
       "         0.46862126, 0.00750851, 0.00750851, 0.5181559 , 0.5181559 ,\n",
       "         0.40558497, 0.40558497, 0.20696067, 0.20696067, 0.69921002,\n",
       "         0.69921002, 0.69013514, 0.69013514, 0.9184289 , 0.9184289 ,\n",
       "         0.61388363, 0.61388363, 0.78104521, 0.78104521, 0.35817806,\n",
       "         0.35817806, 0.32784484, 0.32784484, 0.03748388, 0.03748388,\n",
       "         0.60562955, 0.60562955, 0.86000255, 0.86000255, 0.14782407,\n",
       "         0.14782407, 0.80134192, 0.80134192, 0.14669999, 0.14669999,\n",
       "         0.93103944, 0.93103944, 0.17067202, 0.17067202, 0.24277767,\n",
       "         0.24277767, 0.76518865, 0.76518865, 0.32145729, 0.32145729,\n",
       "         0.30225096, 0.30225096, 0.34532271, 0.34532271, 0.16010021,\n",
       "         0.16010021, 0.09225556, 0.09225556, 0.94276007, 0.94276007])}}"
      ]
     },
     "execution_count": 11,
     "metadata": {},
     "output_type": "execute_result"
    }
   ],
   "source": [
    "ds = load_by_id(run_id_n)\n",
    "ds.get_parameter_data('x1')"
   ]
  },
  {
   "cell_type": "markdown",
   "metadata": {},
   "source": [
    "And a dataset stored as binary arrays"
   ]
  },
  {
   "cell_type": "code",
   "execution_count": 12,
   "metadata": {
    "scrolled": true
   },
   "outputs": [
    {
     "data": {
      "text/plain": [
       "{'x1': {'x1': array([[0.257696  ],\n",
       "         [0.257696  ],\n",
       "         [0.68249403],\n",
       "         [0.68249403],\n",
       "         [0.79555717],\n",
       "         [0.79555717],\n",
       "         [0.68876022],\n",
       "         [0.68876022],\n",
       "         [0.17984258],\n",
       "         [0.17984258],\n",
       "         [0.58408579],\n",
       "         [0.58408579],\n",
       "         [0.55548357],\n",
       "         [0.55548357],\n",
       "         [0.99647666],\n",
       "         [0.99647666],\n",
       "         [0.20953249],\n",
       "         [0.20953249],\n",
       "         [0.05505935],\n",
       "         [0.05505935],\n",
       "         [0.1073955 ],\n",
       "         [0.1073955 ],\n",
       "         [0.20269239],\n",
       "         [0.20269239],\n",
       "         [0.01871787],\n",
       "         [0.01871787],\n",
       "         [0.17949182],\n",
       "         [0.17949182],\n",
       "         [0.47989545],\n",
       "         [0.47989545],\n",
       "         [0.91642396],\n",
       "         [0.91642396],\n",
       "         [0.55862871],\n",
       "         [0.55862871],\n",
       "         [0.81915805],\n",
       "         [0.81915805],\n",
       "         [0.63911321],\n",
       "         [0.63911321],\n",
       "         [0.50449524],\n",
       "         [0.50449524],\n",
       "         [0.82146228],\n",
       "         [0.82146228],\n",
       "         [0.14142061],\n",
       "         [0.14142061],\n",
       "         [0.89581219],\n",
       "         [0.89581219],\n",
       "         [0.78568693],\n",
       "         [0.78568693],\n",
       "         [0.49140473],\n",
       "         [0.49140473],\n",
       "         [0.54993812],\n",
       "         [0.54993812],\n",
       "         [0.1475902 ],\n",
       "         [0.1475902 ],\n",
       "         [0.39980737],\n",
       "         [0.39980737],\n",
       "         [0.55413608],\n",
       "         [0.55413608],\n",
       "         [0.71486264],\n",
       "         [0.71486264],\n",
       "         [0.52034702],\n",
       "         [0.52034702],\n",
       "         [0.89423192],\n",
       "         [0.89423192],\n",
       "         [0.78667242],\n",
       "         [0.78667242],\n",
       "         [0.57286907],\n",
       "         [0.57286907],\n",
       "         [0.77795209],\n",
       "         [0.77795209],\n",
       "         [0.33888935],\n",
       "         [0.33888935],\n",
       "         [0.79755677],\n",
       "         [0.79755677],\n",
       "         [0.33393042],\n",
       "         [0.33393042],\n",
       "         [0.61621439],\n",
       "         [0.61621439],\n",
       "         [0.10301604],\n",
       "         [0.10301604],\n",
       "         [0.08185889],\n",
       "         [0.08185889],\n",
       "         [0.1732016 ],\n",
       "         [0.1732016 ],\n",
       "         [0.79023711],\n",
       "         [0.79023711],\n",
       "         [0.47479123],\n",
       "         [0.47479123],\n",
       "         [0.60886097],\n",
       "         [0.60886097],\n",
       "         [0.49910033],\n",
       "         [0.49910033],\n",
       "         [0.70807364],\n",
       "         [0.70807364],\n",
       "         [0.94507956],\n",
       "         [0.94507956],\n",
       "         [0.61451949],\n",
       "         [0.61451949],\n",
       "         [0.19058925],\n",
       "         [0.19058925],\n",
       "         [0.19960867],\n",
       "         [0.19960867],\n",
       "         [0.52139218],\n",
       "         [0.52139218],\n",
       "         [0.94030665],\n",
       "         [0.94030665],\n",
       "         [0.54642635],\n",
       "         [0.54642635],\n",
       "         [0.39359911],\n",
       "         [0.39359911],\n",
       "         [0.24976066],\n",
       "         [0.24976066],\n",
       "         [0.02561825],\n",
       "         [0.02561825],\n",
       "         [0.58366985],\n",
       "         [0.58366985],\n",
       "         [0.13089463],\n",
       "         [0.13089463],\n",
       "         [0.39588096],\n",
       "         [0.39588096],\n",
       "         [0.77853174],\n",
       "         [0.77853174],\n",
       "         [0.73771534],\n",
       "         [0.73771534],\n",
       "         [0.15577793],\n",
       "         [0.15577793],\n",
       "         [0.23623997],\n",
       "         [0.23623997],\n",
       "         [0.79977173],\n",
       "         [0.79977173],\n",
       "         [0.63315373],\n",
       "         [0.63315373],\n",
       "         [0.16825618],\n",
       "         [0.16825618],\n",
       "         [0.57776861],\n",
       "         [0.57776861],\n",
       "         [0.04713389],\n",
       "         [0.04713389],\n",
       "         [0.38814061],\n",
       "         [0.38814061],\n",
       "         [0.93955116],\n",
       "         [0.93955116],\n",
       "         [0.77690408],\n",
       "         [0.77690408],\n",
       "         [0.37431472],\n",
       "         [0.37431472],\n",
       "         [0.20017412],\n",
       "         [0.20017412],\n",
       "         [0.91555517],\n",
       "         [0.91555517],\n",
       "         [0.88885737],\n",
       "         [0.88885737],\n",
       "         [0.76739356],\n",
       "         [0.76739356],\n",
       "         [0.20246953],\n",
       "         [0.20246953],\n",
       "         [0.02143195],\n",
       "         [0.02143195],\n",
       "         [0.95978088],\n",
       "         [0.95978088],\n",
       "         [0.94712734],\n",
       "         [0.94712734],\n",
       "         [0.62906509],\n",
       "         [0.62906509],\n",
       "         [0.78428879],\n",
       "         [0.78428879],\n",
       "         [0.89980217],\n",
       "         [0.89980217],\n",
       "         [0.02047415],\n",
       "         [0.02047415],\n",
       "         [0.66653668],\n",
       "         [0.66653668],\n",
       "         [0.93533911],\n",
       "         [0.93533911],\n",
       "         [0.69540648],\n",
       "         [0.69540648],\n",
       "         [0.45904435],\n",
       "         [0.45904435],\n",
       "         [0.017329  ],\n",
       "         [0.017329  ],\n",
       "         [0.58103085],\n",
       "         [0.58103085],\n",
       "         [0.35072839],\n",
       "         [0.35072839],\n",
       "         [0.69244371],\n",
       "         [0.69244371],\n",
       "         [0.55447795],\n",
       "         [0.55447795],\n",
       "         [0.79329962],\n",
       "         [0.79329962],\n",
       "         [0.97590735],\n",
       "         [0.97590735],\n",
       "         [0.3605431 ],\n",
       "         [0.3605431 ],\n",
       "         [0.26208978],\n",
       "         [0.26208978],\n",
       "         [0.75502873],\n",
       "         [0.75502873],\n",
       "         [0.31694133],\n",
       "         [0.31694133]])}}"
      ]
     },
     "execution_count": 12,
     "metadata": {},
     "output_type": "execute_result"
    }
   ],
   "source": [
    "ds = load_by_id(run_id_a)\n",
    "ds.get_parameter_data('x1')"
   ]
  },
  {
   "cell_type": "code",
   "execution_count": null,
   "metadata": {},
   "outputs": [],
   "source": []
  }
 ],
 "metadata": {
  "kernelspec": {
   "display_name": "Python 3",
   "language": "python",
   "name": "python3"
  },
  "language_info": {
   "codemirror_mode": {
    "name": "ipython",
    "version": 3
   },
   "file_extension": ".py",
   "mimetype": "text/x-python",
   "name": "python",
   "nbconvert_exporter": "python",
   "pygments_lexer": "ipython3",
   "version": "3.7.7"
  },
  "nbsphinx": {
   "timeout": 600
  },
  "toc": {
   "base_numbering": 1,
   "nav_menu": {},
   "number_sections": true,
   "sideBar": true,
   "skip_h1_title": false,
   "title_cell": "Table of Contents",
   "title_sidebar": "Contents",
   "toc_cell": false,
   "toc_position": {},
   "toc_section_display": true,
   "toc_window_display": false
  },
  "varInspector": {
   "cols": {
    "lenName": 16,
    "lenType": 16,
    "lenVar": 40
   },
   "kernels_config": {
    "python": {
     "delete_cmd_postfix": "",
     "delete_cmd_prefix": "del ",
     "library": "var_list.py",
     "varRefreshCmd": "print(var_dic_list())"
    },
    "r": {
     "delete_cmd_postfix": ") ",
     "delete_cmd_prefix": "rm(",
     "library": "var_list.r",
     "varRefreshCmd": "cat(var_dic_list()) "
    }
   },
   "types_to_exclude": [
    "module",
    "function",
    "builtin_function_or_method",
    "instance",
    "_Feature"
   ],
   "window_display": false
  }
 },
 "nbformat": 4,
 "nbformat_minor": 2
}
