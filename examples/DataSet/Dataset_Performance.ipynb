{
 "cells": [
  {
   "cell_type": "markdown",
   "metadata": {},
   "source": [
    "# DataSet Performance\n",
    "\n",
    "This notebook shows the trade-off between inserting data into a database row-by-row and as binary blobs. Inserting the data row-by-row means that we have direct access to all the data and may perform queries directly on the values of the data. On the other hand, as we shall see, this is much slower than inserting the data directly as binary blobs."
   ]
  },
  {
   "cell_type": "markdown",
   "metadata": {},
   "source": [
    "First, we choose a new location for the database to ensure that we don't add a bunch of benchmarking data to the default one."
   ]
  },
  {
   "cell_type": "code",
   "execution_count": 1,
   "metadata": {
    "execution": {
     "iopub.execute_input": "2020-11-20T11:08:13.145892Z",
     "iopub.status.busy": "2020-11-20T11:08:13.145188Z",
     "iopub.status.idle": "2020-11-20T11:08:14.119021Z",
     "shell.execute_reply": "2020-11-20T11:08:14.119465Z"
    }
   },
   "outputs": [
    {
     "name": "stdout",
     "output_type": "stream",
     "text": [
      "Logging hadn't been started.\n",
      "Activating auto-logging. Current session state plus future input saved.\n",
      "Filename       : /home/vsts/.qcodes/logs/command_history.log\n",
      "Mode           : append\n",
      "Output logging : True\n",
      "Raw input log  : False\n",
      "Timestamping   : True\n",
      "State          : active\n"
     ]
    },
    {
     "name": "stdout",
     "output_type": "stream",
     "text": [
      "Qcodes Logfile : /home/vsts/.qcodes/logs/201120-14079-qcodes.log\n"
     ]
    }
   ],
   "source": [
    "import os\n",
    "cwd = os.getcwd()\n",
    "import qcodes as qc\n",
    "qc.config[\"core\"][\"db_location\"] = os.path.join(cwd, 'testing.db')\n"
   ]
  },
  {
   "cell_type": "code",
   "execution_count": 2,
   "metadata": {
    "execution": {
     "iopub.execute_input": "2020-11-20T11:08:14.125695Z",
     "iopub.status.busy": "2020-11-20T11:08:14.125029Z",
     "iopub.status.idle": "2020-11-20T11:08:14.305988Z",
     "shell.execute_reply": "2020-11-20T11:08:14.305215Z"
    }
   },
   "outputs": [],
   "source": [
    "%matplotlib inline\n",
    "import time\n",
    "import matplotlib.pyplot as plt\n",
    "import numpy as np\n",
    "\n",
    "import qcodes as qc\n",
    "from qcodes.instrument.parameter import ManualParameter\n",
    "from qcodes.dataset.experiment_container import (Experiment,\n",
    "                                                 load_last_experiment,\n",
    "                                                 new_experiment)\n",
    "from qcodes.dataset.sqlite.database import initialise_database\n",
    "from qcodes import load_or_create_experiment\n",
    "from qcodes.dataset.measurements import Measurement"
   ]
  },
  {
   "cell_type": "code",
   "execution_count": 3,
   "metadata": {
    "execution": {
     "iopub.execute_input": "2020-11-20T11:08:14.309663Z",
     "iopub.status.busy": "2020-11-20T11:08:14.308775Z",
     "iopub.status.idle": "2020-11-20T11:08:14.413337Z",
     "shell.execute_reply": "2020-11-20T11:08:14.412832Z"
    }
   },
   "outputs": [
    {
     "name": "stdout",
     "output_type": "stream",
     "text": [
      "\r",
      "0it [00:00, ?it/s]"
     ]
    },
    {
     "name": "stdout",
     "output_type": "stream",
     "text": [
      "\r",
      "Upgrading database; v0 -> v1: : 0it [00:00, ?it/s]"
     ]
    },
    {
     "name": "stdout",
     "output_type": "stream",
     "text": [
      "\r",
      "Upgrading database; v0 -> v1: : 0it [00:00, ?it/s]"
     ]
    },
    {
     "name": "stdout",
     "output_type": "stream",
     "text": [
      "\n",
      "\r",
      "  0%|          | 0/1 [00:00<?, ?it/s]"
     ]
    },
    {
     "name": "stdout",
     "output_type": "stream",
     "text": [
      "\r",
      "Upgrading database; v1 -> v2:   0%|          | 0/1 [00:00<?, ?it/s]"
     ]
    },
    {
     "name": "stdout",
     "output_type": "stream",
     "text": [
      "\r",
      "Upgrading database; v1 -> v2: 100%|██████████| 1/1 [00:00<00:00, 767.91it/s]"
     ]
    },
    {
     "name": "stdout",
     "output_type": "stream",
     "text": [
      "\n",
      "\r",
      "0it [00:00, ?it/s]"
     ]
    },
    {
     "name": "stdout",
     "output_type": "stream",
     "text": [
      "\r",
      "Upgrading database; v2 -> v3: : 0it [00:00, ?it/s]"
     ]
    },
    {
     "name": "stdout",
     "output_type": "stream",
     "text": [
      "\r",
      "Upgrading database; v2 -> v3: : 0it [00:00, ?it/s]"
     ]
    },
    {
     "name": "stdout",
     "output_type": "stream",
     "text": [
      "\n",
      "\r",
      "0it [00:00, ?it/s]"
     ]
    },
    {
     "name": "stdout",
     "output_type": "stream",
     "text": [
      "\r",
      "Upgrading database; v3 -> v4: : 0it [00:00, ?it/s]"
     ]
    },
    {
     "name": "stdout",
     "output_type": "stream",
     "text": [
      "\r",
      "Upgrading database; v3 -> v4: : 0it [00:00, ?it/s]"
     ]
    },
    {
     "name": "stdout",
     "output_type": "stream",
     "text": [
      "\n",
      "\r",
      "  0%|          | 0/1 [00:00<?, ?it/s]"
     ]
    },
    {
     "name": "stdout",
     "output_type": "stream",
     "text": [
      "\r",
      "Upgrading database; v4 -> v5:   0%|          | 0/1 [00:00<?, ?it/s]"
     ]
    },
    {
     "name": "stdout",
     "output_type": "stream",
     "text": [
      "\r",
      "Upgrading database; v4 -> v5: 100%|██████████| 1/1 [00:00<00:00, 701.04it/s]"
     ]
    },
    {
     "name": "stdout",
     "output_type": "stream",
     "text": [
      "\n",
      "\r",
      "0it [00:00, ?it/s]"
     ]
    },
    {
     "name": "stdout",
     "output_type": "stream",
     "text": [
      "\r",
      "Upgrading database; v5 -> v6: : 0it [00:00, ?it/s]"
     ]
    },
    {
     "name": "stdout",
     "output_type": "stream",
     "text": [
      "\r",
      "Upgrading database; v5 -> v6: : 0it [00:00, ?it/s]"
     ]
    },
    {
     "name": "stdout",
     "output_type": "stream",
     "text": [
      "\n",
      "\r",
      "  0%|          | 0/1 [00:00<?, ?it/s]"
     ]
    },
    {
     "name": "stdout",
     "output_type": "stream",
     "text": [
      "\r",
      "Upgrading database; v6 -> v7:   0%|          | 0/1 [00:00<?, ?it/s]"
     ]
    },
    {
     "name": "stdout",
     "output_type": "stream",
     "text": [
      "\r",
      "Upgrading database; v6 -> v7: 100%|██████████| 1/1 [00:00<00:00, 268.18it/s]"
     ]
    },
    {
     "name": "stdout",
     "output_type": "stream",
     "text": [
      "\n",
      "\r",
      "  0%|          | 0/1 [00:00<?, ?it/s]"
     ]
    },
    {
     "name": "stdout",
     "output_type": "stream",
     "text": [
      "\r",
      "Upgrading database; v7 -> v8:   0%|          | 0/1 [00:00<?, ?it/s]"
     ]
    },
    {
     "name": "stdout",
     "output_type": "stream",
     "text": [
      "\r",
      "Upgrading database; v7 -> v8: 100%|██████████| 1/1 [00:00<00:00, 1117.88it/s]"
     ]
    },
    {
     "name": "stdout",
     "output_type": "stream",
     "text": [
      "\n",
      "\r",
      "  0%|          | 0/1 [00:00<?, ?it/s]"
     ]
    },
    {
     "name": "stdout",
     "output_type": "stream",
     "text": [
      "\r",
      "Upgrading database; v8 -> v9:   0%|          | 0/1 [00:00<?, ?it/s]"
     ]
    },
    {
     "name": "stdout",
     "output_type": "stream",
     "text": [
      "\r",
      "Upgrading database; v8 -> v9: 100%|██████████| 1/1 [00:00<00:00, 901.81it/s]"
     ]
    },
    {
     "name": "stdout",
     "output_type": "stream",
     "text": [
      "\n"
     ]
    }
   ],
   "source": [
    "initialise_database()\n",
    "exp = load_or_create_experiment(experiment_name='tutorial_exp', sample_name=\"no sample\")"
   ]
  },
  {
   "cell_type": "markdown",
   "metadata": {},
   "source": [
    "Here, we define a simple function to benchmark the time it takes to insert n points with either numeric or array data type.\n",
    "We will compare both the time used to call ``add_result`` and the time used for the full measurement."
   ]
  },
  {
   "cell_type": "code",
   "execution_count": 4,
   "metadata": {
    "execution": {
     "iopub.execute_input": "2020-11-20T11:08:14.422277Z",
     "iopub.status.busy": "2020-11-20T11:08:14.421147Z",
     "iopub.status.idle": "2020-11-20T11:08:14.424711Z",
     "shell.execute_reply": "2020-11-20T11:08:14.425126Z"
    }
   },
   "outputs": [],
   "source": [
    "def insert_data(paramtype, npoints, nreps=1):\n",
    "\n",
    "    meas = Measurement(exp=exp)\n",
    "\n",
    "    x1 = ManualParameter('x1')\n",
    "    x2 = ManualParameter('x2')\n",
    "    x3 = ManualParameter('x3')\n",
    "    y1 = ManualParameter('y1')\n",
    "    y2 = ManualParameter('y2')\n",
    "\n",
    "    meas.register_parameter(x1, paramtype=paramtype)\n",
    "    meas.register_parameter(x2, paramtype=paramtype)\n",
    "    meas.register_parameter(x3, paramtype=paramtype)\n",
    "    meas.register_parameter(y1, setpoints=[x1, x2, x3],\n",
    "                            paramtype=paramtype)\n",
    "    meas.register_parameter(y2, setpoints=[x1, x2, x3],\n",
    "                            paramtype=paramtype)\n",
    "    start = time.perf_counter()\n",
    "    with meas.run() as datasaver:\n",
    "        start_adding = time.perf_counter()\n",
    "        for i in range(nreps):\n",
    "            datasaver.add_result((x1, np.random.rand(npoints)),\n",
    "                                 (x2, np.random.rand(npoints)),\n",
    "                                 (x3, np.random.rand(npoints)),\n",
    "                                 (y1, np.random.rand(npoints)),\n",
    "                                 (y2, np.random.rand(npoints)))\n",
    "        stop_adding = time.perf_counter()\n",
    "        run_id = datasaver.run_id\n",
    "    stop = time.perf_counter()\n",
    "    tot_time = stop - start\n",
    "    add_time = stop_adding - start_adding\n",
    "    return tot_time, add_time, run_id"
   ]
  },
  {
   "cell_type": "markdown",
   "metadata": {},
   "source": [
    "## Comparison between numeric/array data and binary blob"
   ]
  },
  {
   "cell_type": "markdown",
   "metadata": {},
   "source": [
    "### Case1: Short experiment time"
   ]
  },
  {
   "cell_type": "code",
   "execution_count": 5,
   "metadata": {
    "execution": {
     "iopub.execute_input": "2020-11-20T11:08:14.429857Z",
     "iopub.status.busy": "2020-11-20T11:08:14.429211Z",
     "iopub.status.idle": "2020-11-20T11:08:15.162106Z",
     "shell.execute_reply": "2020-11-20T11:08:15.162766Z"
    }
   },
   "outputs": [
    {
     "name": "stdout",
     "output_type": "stream",
     "text": [
      "Starting experimental run with id: 1. \n",
      "Starting experimental run with id: 2. \n",
      "Starting experimental run with id: 3. \n",
      "Starting experimental run with id: 4. \n",
      "Starting experimental run with id: 5. \n"
     ]
    },
    {
     "name": "stdout",
     "output_type": "stream",
     "text": [
      "Starting experimental run with id: 6. \n"
     ]
    },
    {
     "name": "stdout",
     "output_type": "stream",
     "text": [
      "Starting experimental run with id: 7. \n"
     ]
    },
    {
     "name": "stdout",
     "output_type": "stream",
     "text": [
      "Starting experimental run with id: 8. \n",
      "Starting experimental run with id: 9. \n"
     ]
    },
    {
     "name": "stdout",
     "output_type": "stream",
     "text": [
      "Starting experimental run with id: 10. \n"
     ]
    },
    {
     "name": "stdout",
     "output_type": "stream",
     "text": [
      "Starting experimental run with id: 11. \n"
     ]
    },
    {
     "name": "stdout",
     "output_type": "stream",
     "text": [
      "Starting experimental run with id: 12. \n",
      "Starting experimental run with id: 13. \n"
     ]
    },
    {
     "name": "stdout",
     "output_type": "stream",
     "text": [
      "Starting experimental run with id: 14. \n"
     ]
    }
   ],
   "source": [
    "sizes = [1,500,1000,2000,3000,4000,5000]\n",
    "t_numeric = []\n",
    "t_numeric_add = []\n",
    "t_array = []\n",
    "t_array_add = []\n",
    "for size in sizes:\n",
    "    tn, tna, run_id_n =  insert_data('numeric', size)\n",
    "    t_numeric.append(tn)\n",
    "    t_numeric_add.append(tna)\n",
    "\n",
    "    ta, taa, run_id_a =  insert_data('array', size)\n",
    "    t_array.append(ta)\n",
    "    t_array_add.append(taa)"
   ]
  },
  {
   "cell_type": "code",
   "execution_count": 6,
   "metadata": {
    "execution": {
     "iopub.execute_input": "2020-11-20T11:08:15.168069Z",
     "iopub.status.busy": "2020-11-20T11:08:15.166825Z",
     "iopub.status.idle": "2020-11-20T11:08:15.400436Z",
     "shell.execute_reply": "2020-11-20T11:08:15.400008Z"
    }
   },
   "outputs": [
    {
     "data": {
      "image/png": "[encoded data removed]",
      "text/plain": [
       "<Figure size 432x288 with 1 Axes>"
      ]
     },
     "metadata": {
      "needs_background": "light"
     },
     "output_type": "display_data"
    }
   ],
   "source": [
    "fig, ax = plt.subplots(1,1)\n",
    "ax.plot(sizes, t_numeric, 'o-', label='Inserting row-by-row')\n",
    "ax.plot(sizes, t_numeric_add, 'o-', label='Inserting row-by-row: add_result only')\n",
    "ax.plot(sizes, t_array, 'd-', label='Inserting as binary blob')\n",
    "ax.plot(sizes, t_array_add, 'd-', label='Inserting as binary blob: add_result only')\n",
    "ax.legend()\n",
    "ax.set_xlabel('Array length')\n",
    "ax.set_ylabel('Time (s)')\n",
    "fig.tight_layout()"
   ]
  },
  {
   "cell_type": "markdown",
   "metadata": {},
   "source": [
    "As shown in the latter figure, the time to setup and and close the experiment is approximately 0.4 sec. In case of small array sizes, the difference between inserting values of data as arrays and inserting them row-by-row is relatively unimportant. At larger array sizes, i.e. above 10000 points, the cost of writing data as individual datapoints starts to become important.\n"
   ]
  },
  {
   "cell_type": "markdown",
   "metadata": {},
   "source": [
    "### Case2: Long experiment time "
   ]
  },
  {
   "cell_type": "code",
   "execution_count": 7,
   "metadata": {
    "execution": {
     "iopub.execute_input": "2020-11-20T11:08:15.406595Z",
     "iopub.status.busy": "2020-11-20T11:08:15.405202Z",
     "iopub.status.idle": "2020-11-20T11:09:08.711849Z",
     "shell.execute_reply": "2020-11-20T11:09:08.711294Z"
    }
   },
   "outputs": [
    {
     "name": "stdout",
     "output_type": "stream",
     "text": [
      "Starting experimental run with id: 15. \n",
      "Starting experimental run with id: 16. \n",
      "Starting experimental run with id: 17. \n"
     ]
    },
    {
     "name": "stdout",
     "output_type": "stream",
     "text": [
      "Starting experimental run with id: 18. \n",
      "Starting experimental run with id: 19. \n"
     ]
    },
    {
     "name": "stdout",
     "output_type": "stream",
     "text": [
      "Starting experimental run with id: 20. \n"
     ]
    },
    {
     "name": "stdout",
     "output_type": "stream",
     "text": [
      "Starting experimental run with id: 21. \n"
     ]
    },
    {
     "name": "stdout",
     "output_type": "stream",
     "text": [
      "Starting experimental run with id: 22. \n"
     ]
    },
    {
     "name": "stdout",
     "output_type": "stream",
     "text": [
      "Starting experimental run with id: 23. \n"
     ]
    },
    {
     "name": "stdout",
     "output_type": "stream",
     "text": [
      "Starting experimental run with id: 24. \n"
     ]
    },
    {
     "name": "stdout",
     "output_type": "stream",
     "text": [
      "Starting experimental run with id: 25. \n"
     ]
    },
    {
     "name": "stdout",
     "output_type": "stream",
     "text": [
      "Starting experimental run with id: 26. \n"
     ]
    },
    {
     "name": "stdout",
     "output_type": "stream",
     "text": [
      "Starting experimental run with id: 27. \n"
     ]
    },
    {
     "name": "stdout",
     "output_type": "stream",
     "text": [
      "Starting experimental run with id: 28. \n"
     ]
    }
   ],
   "source": [
    "sizes = [1,500,1000,2000,3000,4000,5000]\n",
    "nreps = 100\n",
    "t_numeric = []\n",
    "t_numeric_add = []\n",
    "t_numeric_run_ids = []\n",
    "t_array = []\n",
    "t_array_add = []\n",
    "t_array_run_ids = []\n",
    "for size in sizes:\n",
    "    tn, tna, run_id_n =  insert_data('numeric', size, nreps=nreps)\n",
    "    t_numeric.append(tn)\n",
    "    t_numeric_add.append(tna)\n",
    "    t_numeric_run_ids.append(run_id_n)\n",
    "\n",
    "    ta, taa, run_id_a =  insert_data('array', size, nreps=nreps)\n",
    "    t_array.append(ta)\n",
    "    t_array_add.append(taa)\n",
    "    t_array_run_ids.append(run_id_a)"
   ]
  },
  {
   "cell_type": "code",
   "execution_count": 8,
   "metadata": {
    "execution": {
     "iopub.execute_input": "2020-11-20T11:09:08.739172Z",
     "iopub.status.busy": "2020-11-20T11:09:08.730337Z",
     "iopub.status.idle": "2020-11-20T11:09:08.947432Z",
     "shell.execute_reply": "2020-11-20T11:09:08.946962Z"
    },
    "scrolled": true
   },
   "outputs": [
    {
     "data": {
      "image/png": "[encoded data removed]",
      "text/plain": [
       "<Figure size 432x288 with 1 Axes>"
      ]
     },
     "metadata": {
      "needs_background": "light"
     },
     "output_type": "display_data"
    }
   ],
   "source": [
    "fig, ax = plt.subplots(1,1)\n",
    "ax.plot(sizes, t_numeric, 'o-', label='Inserting row-by-row')\n",
    "ax.plot(sizes, t_numeric_add, 'o-', label='Inserting row-by-row: add_result only')\n",
    "ax.plot(sizes, t_array, 'd-', label='Inserting as binary blob')\n",
    "ax.plot(sizes, t_array_add, 'd-', label='Inserting as binary blob: add_result only')\n",
    "ax.legend()\n",
    "ax.set_xlabel('Array length')\n",
    "ax.set_ylabel('Time (s)')\n",
    "fig.tight_layout()"
   ]
  },
  {
   "cell_type": "markdown",
   "metadata": {},
   "source": [
    "However, as we increase the length of the experiment, as seen here by repeating the insertion 100 times, we see a big difference between inserting values of the data row-by-row and inserting it as a binary blob."
   ]
  },
  {
   "cell_type": "markdown",
   "metadata": {},
   "source": [
    "## Loading the data "
   ]
  },
  {
   "cell_type": "code",
   "execution_count": 9,
   "metadata": {
    "execution": {
     "iopub.execute_input": "2020-11-20T11:09:08.950894Z",
     "iopub.status.busy": "2020-11-20T11:09:08.950388Z",
     "iopub.status.idle": "2020-11-20T11:09:08.953798Z",
     "shell.execute_reply": "2020-11-20T11:09:08.954245Z"
    }
   },
   "outputs": [],
   "source": [
    "from qcodes.dataset.data_set import load_by_id\n",
    "from qcodes.dataset.data_export import get_data_by_id"
   ]
  },
  {
   "cell_type": "markdown",
   "metadata": {},
   "source": [
    "As usual you can load the data by using the ``load_by_id`` function but you will notice that the different storage methods\n",
    "are reflected in shape of the data as it is retrieved. "
   ]
  },
  {
   "cell_type": "code",
   "execution_count": 10,
   "metadata": {
    "execution": {
     "iopub.execute_input": "2020-11-20T11:09:08.958805Z",
     "iopub.status.busy": "2020-11-20T11:09:08.957516Z",
     "iopub.status.idle": "2020-11-20T11:09:08.959489Z",
     "shell.execute_reply": "2020-11-20T11:09:08.959929Z"
    }
   },
   "outputs": [],
   "source": [
    "run_id_n = t_numeric_run_ids[0]\n",
    "run_id_a = t_array_run_ids[0]"
   ]
  },
  {
   "cell_type": "code",
   "execution_count": 11,
   "metadata": {
    "execution": {
     "iopub.execute_input": "2020-11-20T11:09:08.963045Z",
     "iopub.status.busy": "2020-11-20T11:09:08.962542Z",
     "iopub.status.idle": "2020-11-20T11:09:08.972913Z",
     "shell.execute_reply": "2020-11-20T11:09:08.972295Z"
    },
    "scrolled": true
   },
   "outputs": [
    {
     "data": {
      "text/plain": [
       "{'x1': {'x1': array([0.39634616, 0.39634616, 0.67587305, 0.67587305, 0.93177657,\n",
       "         0.93177657, 0.56876117, 0.56876117, 0.65156286, 0.65156286,\n",
       "         0.11583299, 0.11583299, 0.34965898, 0.34965898, 0.16965369,\n",
       "         0.16965369, 0.49736291, 0.49736291, 0.68606139, 0.68606139,\n",
       "         0.52751724, 0.52751724, 0.53032843, 0.53032843, 0.21039309,\n",
       "         0.21039309, 0.26508587, 0.26508587, 0.07434806, 0.07434806,\n",
       "         0.25343719, 0.25343719, 0.9936007 , 0.9936007 , 0.23647453,\n",
       "         0.23647453, 0.29521416, 0.29521416, 0.15502729, 0.15502729,\n",
       "         0.32820768, 0.32820768, 0.1303263 , 0.1303263 , 0.356773  ,\n",
       "         0.356773  , 0.2418664 , 0.2418664 , 0.36297158, 0.36297158,\n",
       "         0.59094027, 0.59094027, 0.42495722, 0.42495722, 0.46530698,\n",
       "         0.46530698, 0.46922223, 0.46922223, 0.55179367, 0.55179367,\n",
       "         0.78957776, 0.78957776, 0.36029686, 0.36029686, 0.60204755,\n",
       "         0.60204755, 0.90113813, 0.90113813, 0.35221576, 0.35221576,\n",
       "         0.78369937, 0.78369937, 0.12429292, 0.12429292, 0.53197381,\n",
       "         0.53197381, 0.72622735, 0.72622735, 0.35190002, 0.35190002,\n",
       "         0.29143872, 0.29143872, 0.36414604, 0.36414604, 0.98143024,\n",
       "         0.98143024, 0.9633568 , 0.9633568 , 0.63572866, 0.63572866,\n",
       "         0.28175305, 0.28175305, 0.52854526, 0.52854526, 0.46567974,\n",
       "         0.46567974, 0.94151922, 0.94151922, 0.83278907, 0.83278907,\n",
       "         0.84931185, 0.84931185, 0.57617615, 0.57617615, 0.16573628,\n",
       "         0.16573628, 0.17667682, 0.17667682, 0.08842478, 0.08842478,\n",
       "         0.75435569, 0.75435569, 0.03886647, 0.03886647, 0.94421462,\n",
       "         0.94421462, 0.23405462, 0.23405462, 0.80167539, 0.80167539,\n",
       "         0.06498259, 0.06498259, 0.33624562, 0.33624562, 0.49891307,\n",
       "         0.49891307, 0.11536202, 0.11536202, 0.02377284, 0.02377284,\n",
       "         0.422783  , 0.422783  , 0.34510375, 0.34510375, 0.40995357,\n",
       "         0.40995357, 0.6590751 , 0.6590751 , 0.68603603, 0.68603603,\n",
       "         0.05610273, 0.05610273, 0.60070135, 0.60070135, 0.50503005,\n",
       "         0.50503005, 0.9585683 , 0.9585683 , 0.87039589, 0.87039589,\n",
       "         0.20757468, 0.20757468, 0.10696035, 0.10696035, 0.47894422,\n",
       "         0.47894422, 0.5187113 , 0.5187113 , 0.01261687, 0.01261687,\n",
       "         0.65454038, 0.65454038, 0.99989345, 0.99989345, 0.06643711,\n",
       "         0.06643711, 0.07521334, 0.07521334, 0.30409469, 0.30409469,\n",
       "         0.22880786, 0.22880786, 0.88645999, 0.88645999, 0.21032123,\n",
       "         0.21032123, 0.53940391, 0.53940391, 0.95003186, 0.95003186,\n",
       "         0.14077081, 0.14077081, 0.24131762, 0.24131762, 0.12054974,\n",
       "         0.12054974, 0.95264291, 0.95264291, 0.13474926, 0.13474926,\n",
       "         0.42875125, 0.42875125, 0.38932655, 0.38932655, 0.15157228,\n",
       "         0.15157228, 0.92052636, 0.92052636, 0.92608724, 0.92608724])}}"
      ]
     },
     "execution_count": 1,
     "metadata": {},
     "output_type": "execute_result"
    }
   ],
   "source": [
    "ds = load_by_id(run_id_n)\n",
    "ds.get_parameter_data('x1')"
   ]
  },
  {
   "cell_type": "markdown",
   "metadata": {},
   "source": [
    "And a dataset stored as binary arrays"
   ]
  },
  {
   "cell_type": "code",
   "execution_count": 12,
   "metadata": {
    "execution": {
     "iopub.execute_input": "2020-11-20T11:09:08.976841Z",
     "iopub.status.busy": "2020-11-20T11:09:08.976218Z",
     "iopub.status.idle": "2020-11-20T11:09:09.038626Z",
     "shell.execute_reply": "2020-11-20T11:09:09.039071Z"
    },
    "scrolled": true
   },
   "outputs": [
    {
     "data": {
      "text/plain": [
       "{'x1': {'x1': array([[0.60937629],\n",
       "         [0.60937629],\n",
       "         [0.89953854],\n",
       "         [0.89953854],\n",
       "         [0.15012251],\n",
       "         [0.15012251],\n",
       "         [0.50317115],\n",
       "         [0.50317115],\n",
       "         [0.0517859 ],\n",
       "         [0.0517859 ],\n",
       "         [0.5604033 ],\n",
       "         [0.5604033 ],\n",
       "         [0.55699039],\n",
       "         [0.55699039],\n",
       "         [0.45622391],\n",
       "         [0.45622391],\n",
       "         [0.81000702],\n",
       "         [0.81000702],\n",
       "         [0.91909199],\n",
       "         [0.91909199],\n",
       "         [0.49669258],\n",
       "         [0.49669258],\n",
       "         [0.29461955],\n",
       "         [0.29461955],\n",
       "         [0.01081854],\n",
       "         [0.01081854],\n",
       "         [0.32611821],\n",
       "         [0.32611821],\n",
       "         [0.01165673],\n",
       "         [0.01165673],\n",
       "         [0.34985291],\n",
       "         [0.34985291],\n",
       "         [0.40199779],\n",
       "         [0.40199779],\n",
       "         [0.93534963],\n",
       "         [0.93534963],\n",
       "         [0.46575464],\n",
       "         [0.46575464],\n",
       "         [0.4353433 ],\n",
       "         [0.4353433 ],\n",
       "         [0.18536715],\n",
       "         [0.18536715],\n",
       "         [0.03197976],\n",
       "         [0.03197976],\n",
       "         [0.30419061],\n",
       "         [0.30419061],\n",
       "         [0.92439298],\n",
       "         [0.92439298],\n",
       "         [0.68325015],\n",
       "         [0.68325015],\n",
       "         [0.94339505],\n",
       "         [0.94339505],\n",
       "         [0.03115693],\n",
       "         [0.03115693],\n",
       "         [0.683873  ],\n",
       "         [0.683873  ],\n",
       "         [0.17461431],\n",
       "         [0.17461431],\n",
       "         [0.90049812],\n",
       "         [0.90049812],\n",
       "         [0.62015638],\n",
       "         [0.62015638],\n",
       "         [0.63270647],\n",
       "         [0.63270647],\n",
       "         [0.93323083],\n",
       "         [0.93323083],\n",
       "         [0.46680147],\n",
       "         [0.46680147],\n",
       "         [0.21359333],\n",
       "         [0.21359333],\n",
       "         [0.2689217 ],\n",
       "         [0.2689217 ],\n",
       "         [0.82680447],\n",
       "         [0.82680447],\n",
       "         [0.46637108],\n",
       "         [0.46637108],\n",
       "         [0.51779332],\n",
       "         [0.51779332],\n",
       "         [0.78737275],\n",
       "         [0.78737275],\n",
       "         [0.95965112],\n",
       "         [0.95965112],\n",
       "         [0.07350821],\n",
       "         [0.07350821],\n",
       "         [0.39235642],\n",
       "         [0.39235642],\n",
       "         [0.30364475],\n",
       "         [0.30364475],\n",
       "         [0.73579154],\n",
       "         [0.73579154],\n",
       "         [0.46618915],\n",
       "         [0.46618915],\n",
       "         [0.88373267],\n",
       "         [0.88373267],\n",
       "         [0.53911544],\n",
       "         [0.53911544],\n",
       "         [0.12901843],\n",
       "         [0.12901843],\n",
       "         [0.56030251],\n",
       "         [0.56030251],\n",
       "         [0.84474547],\n",
       "         [0.84474547],\n",
       "         [0.29263421],\n",
       "         [0.29263421],\n",
       "         [0.93439312],\n",
       "         [0.93439312],\n",
       "         [0.42392962],\n",
       "         [0.42392962],\n",
       "         [0.22502226],\n",
       "         [0.22502226],\n",
       "         [0.71190053],\n",
       "         [0.71190053],\n",
       "         [0.8210848 ],\n",
       "         [0.8210848 ],\n",
       "         [0.16817695],\n",
       "         [0.16817695],\n",
       "         [0.06143675],\n",
       "         [0.06143675],\n",
       "         [0.70232724],\n",
       "         [0.70232724],\n",
       "         [0.9757191 ],\n",
       "         [0.9757191 ],\n",
       "         [0.39450614],\n",
       "         [0.39450614],\n",
       "         [0.59099316],\n",
       "         [0.59099316],\n",
       "         [0.21936274],\n",
       "         [0.21936274],\n",
       "         [0.28722746],\n",
       "         [0.28722746],\n",
       "         [0.52137953],\n",
       "         [0.52137953],\n",
       "         [0.87979144],\n",
       "         [0.87979144],\n",
       "         [0.96958858],\n",
       "         [0.96958858],\n",
       "         [0.72428422],\n",
       "         [0.72428422],\n",
       "         [0.44239854],\n",
       "         [0.44239854],\n",
       "         [0.15255836],\n",
       "         [0.15255836],\n",
       "         [0.26215286],\n",
       "         [0.26215286],\n",
       "         [0.02247573],\n",
       "         [0.02247573],\n",
       "         [0.45408631],\n",
       "         [0.45408631],\n",
       "         [0.76343134],\n",
       "         [0.76343134],\n",
       "         [0.43509056],\n",
       "         [0.43509056],\n",
       "         [0.37885906],\n",
       "         [0.37885906],\n",
       "         [0.37603465],\n",
       "         [0.37603465],\n",
       "         [0.79949631],\n",
       "         [0.79949631],\n",
       "         [0.91214877],\n",
       "         [0.91214877],\n",
       "         [0.7508781 ],\n",
       "         [0.7508781 ],\n",
       "         [0.50785737],\n",
       "         [0.50785737],\n",
       "         [0.36198897],\n",
       "         [0.36198897],\n",
       "         [0.25686297],\n",
       "         [0.25686297],\n",
       "         [0.27673536],\n",
       "         [0.27673536],\n",
       "         [0.33868095],\n",
       "         [0.33868095],\n",
       "         [0.58977179],\n",
       "         [0.58977179],\n",
       "         [0.91328676],\n",
       "         [0.91328676],\n",
       "         [0.82842942],\n",
       "         [0.82842942],\n",
       "         [0.3900187 ],\n",
       "         [0.3900187 ],\n",
       "         [0.21607016],\n",
       "         [0.21607016],\n",
       "         [0.42629511],\n",
       "         [0.42629511],\n",
       "         [0.18353462],\n",
       "         [0.18353462],\n",
       "         [0.97972297],\n",
       "         [0.97972297],\n",
       "         [0.5938454 ],\n",
       "         [0.5938454 ],\n",
       "         [0.416531  ],\n",
       "         [0.416531  ],\n",
       "         [0.81608301],\n",
       "         [0.81608301],\n",
       "         [0.31731419],\n",
       "         [0.31731419],\n",
       "         [0.21787175],\n",
       "         [0.21787175],\n",
       "         [0.61454963],\n",
       "         [0.61454963]])}}"
      ]
     },
     "execution_count": 1,
     "metadata": {},
     "output_type": "execute_result"
    }
   ],
   "source": [
    "ds = load_by_id(run_id_a)\n",
    "ds.get_parameter_data('x1')"
   ]
  },
  {
   "cell_type": "code",
   "execution_count": null,
   "metadata": {},
   "outputs": [],
   "source": []
  }
 ],
 "metadata": {
  "kernelspec": {
   "display_name": "Python 3",
   "language": "python",
   "name": "python3"
  },
  "language_info": {
   "codemirror_mode": {
    "name": "ipython",
    "version": 3
   },
   "file_extension": ".py",
   "mimetype": "text/x-python",
   "name": "python",
   "nbconvert_exporter": "python",
   "pygments_lexer": "ipython3",
   "version": "3.7.9"
  },
  "nbsphinx": {
   "timeout": 600
  },
  "toc": {
   "base_numbering": 1,
   "nav_menu": {},
   "number_sections": true,
   "sideBar": true,
   "skip_h1_title": false,
   "title_cell": "Table of Contents",
   "title_sidebar": "Contents",
   "toc_cell": false,
   "toc_position": {},
   "toc_section_display": true,
   "toc_window_display": false
  },
  "varInspector": {
   "cols": {
    "lenName": 16,
    "lenType": 16,
    "lenVar": 40
   },
   "kernels_config": {
    "python": {
     "delete_cmd_postfix": "",
     "delete_cmd_prefix": "del ",
     "library": "var_list.py",
     "varRefreshCmd": "print(var_dic_list())"
    },
    "r": {
     "delete_cmd_postfix": ") ",
     "delete_cmd_prefix": "rm(",
     "library": "var_list.r",
     "varRefreshCmd": "cat(var_dic_list()) "
    }
   },
   "types_to_exclude": [
    "module",
    "function",
    "builtin_function_or_method",
    "instance",
    "_Feature"
   ],
   "window_display": false
  }
 },
 "nbformat": 4,
 "nbformat_minor": 2
}
