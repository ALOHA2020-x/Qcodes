{
 "cells": [
  {
   "cell_type": "markdown",
   "metadata": {},
   "source": [
    "# DataSet Performance\n",
    "\n",
    "This notebook shows the trade-off between inserting data into a database row-by-row and as binary blobs. Inserting the data row-by-row means that we have direct access to all the data and may perform queries directly on the values of the data. On the other hand, as we shall see, this is much slower than inserting the data directly as binary blobs."
   ]
  },
  {
   "cell_type": "markdown",
   "metadata": {},
   "source": [
    "First, we choose a new location for the database to ensure that we don't add a bunch of benchmarking data to the default one."
   ]
  },
  {
   "cell_type": "code",
   "execution_count": 1,
   "metadata": {},
   "outputs": [
    {
     "name": "stdout",
     "output_type": "stream",
     "text": [
      "Logging hadn't been started.\n",
      "Activating auto-logging. Current session state plus future input saved.\n",
      "Filename       : /home/vsts/.qcodes/logs/command_history.log\n",
      "Mode           : append\n",
      "Output logging : True\n",
      "Raw input log  : False\n",
      "Timestamping   : True\n",
      "State          : active\n"
     ]
    },
    {
     "name": "stdout",
     "output_type": "stream",
     "text": [
      "Qcodes Logfile : /home/vsts/.qcodes/logs/200316-21149-qcodes.log\n"
     ]
    }
   ],
   "source": [
    "import os\n",
    "cwd = os.getcwd()\n",
    "import qcodes as qc\n",
    "qc.config[\"core\"][\"db_location\"] = os.path.join(cwd, 'testing.db')\n"
   ]
  },
  {
   "cell_type": "code",
   "execution_count": 2,
   "metadata": {},
   "outputs": [],
   "source": [
    "%matplotlib inline\n",
    "import time\n",
    "import matplotlib.pyplot as plt\n",
    "import numpy as np\n",
    "\n",
    "import qcodes as qc\n",
    "from qcodes.instrument.parameter import ManualParameter\n",
    "from qcodes.dataset.experiment_container import (Experiment,\n",
    "                                                 load_last_experiment,\n",
    "                                                 new_experiment)\n",
    "from qcodes.dataset.sqlite.database import initialise_database\n",
    "from qcodes import load_or_create_experiment\n",
    "from qcodes.dataset.measurements import Measurement"
   ]
  },
  {
   "cell_type": "code",
   "execution_count": 3,
   "metadata": {},
   "outputs": [
    {
     "name": "stdout",
     "output_type": "stream",
     "text": [
      "\r",
      "0it [00:00, ?it/s]"
     ]
    },
    {
     "name": "stdout",
     "output_type": "stream",
     "text": [
      "\r",
      "Upgrading database; v0 -> v1: : 0it [00:00, ?it/s]"
     ]
    },
    {
     "name": "stdout",
     "output_type": "stream",
     "text": [
      "\r",
      "Upgrading database; v0 -> v1: : 0it [00:00, ?it/s]"
     ]
    },
    {
     "name": "stdout",
     "output_type": "stream",
     "text": [
      "\n",
      "\r",
      "  0%|          | 0/1 [00:00<?, ?it/s]"
     ]
    },
    {
     "name": "stdout",
     "output_type": "stream",
     "text": [
      "\r",
      "Upgrading database; v1 -> v2:   0%|          | 0/1 [00:00<?, ?it/s]"
     ]
    },
    {
     "name": "stdout",
     "output_type": "stream",
     "text": [
      "\r",
      "Upgrading database; v1 -> v2: 100%|██████████| 1/1 [00:00<00:00, 823.87it/s]"
     ]
    },
    {
     "name": "stdout",
     "output_type": "stream",
     "text": [
      "\n",
      "\r",
      "0it [00:00, ?it/s]"
     ]
    },
    {
     "name": "stdout",
     "output_type": "stream",
     "text": [
      "\r",
      "Upgrading database; v2 -> v3: : 0it [00:00, ?it/s]"
     ]
    },
    {
     "name": "stdout",
     "output_type": "stream",
     "text": [
      "\r",
      "Upgrading database; v2 -> v3: : 0it [00:00, ?it/s]"
     ]
    },
    {
     "name": "stdout",
     "output_type": "stream",
     "text": [
      "\n",
      "\r",
      "0it [00:00, ?it/s]"
     ]
    },
    {
     "name": "stdout",
     "output_type": "stream",
     "text": [
      "\r",
      "Upgrading database; v3 -> v4: : 0it [00:00, ?it/s]"
     ]
    },
    {
     "name": "stdout",
     "output_type": "stream",
     "text": [
      "\r",
      "Upgrading database; v3 -> v4: : 0it [00:00, ?it/s]"
     ]
    },
    {
     "name": "stdout",
     "output_type": "stream",
     "text": [
      "\n",
      "\r",
      "  0%|          | 0/1 [00:00<?, ?it/s]"
     ]
    },
    {
     "name": "stdout",
     "output_type": "stream",
     "text": [
      "\r",
      "Upgrading database; v4 -> v5:   0%|          | 0/1 [00:00<?, ?it/s]"
     ]
    },
    {
     "name": "stdout",
     "output_type": "stream",
     "text": [
      "\r",
      "Upgrading database; v4 -> v5: 100%|██████████| 1/1 [00:00<00:00, 820.48it/s]"
     ]
    },
    {
     "name": "stdout",
     "output_type": "stream",
     "text": [
      "\n",
      "\r",
      "0it [00:00, ?it/s]"
     ]
    },
    {
     "name": "stdout",
     "output_type": "stream",
     "text": [
      "\r",
      "Upgrading database; v5 -> v6: : 0it [00:00, ?it/s]"
     ]
    },
    {
     "name": "stdout",
     "output_type": "stream",
     "text": [
      "\r",
      "Upgrading database; v5 -> v6: : 0it [00:00, ?it/s]"
     ]
    },
    {
     "name": "stdout",
     "output_type": "stream",
     "text": [
      "\n",
      "\r",
      "  0%|          | 0/1 [00:00<?, ?it/s]"
     ]
    },
    {
     "name": "stdout",
     "output_type": "stream",
     "text": [
      "\r",
      "Upgrading database; v6 -> v7:   0%|          | 0/1 [00:00<?, ?it/s]"
     ]
    },
    {
     "name": "stdout",
     "output_type": "stream",
     "text": [
      "\r",
      "Upgrading database; v6 -> v7: 100%|██████████| 1/1 [00:00<00:00, 386.79it/s]"
     ]
    },
    {
     "name": "stdout",
     "output_type": "stream",
     "text": [
      "\n",
      "\r",
      "  0%|          | 0/1 [00:00<?, ?it/s]"
     ]
    },
    {
     "name": "stdout",
     "output_type": "stream",
     "text": [
      "\r",
      "Upgrading database; v7 -> v8:   0%|          | 0/1 [00:00<?, ?it/s]"
     ]
    },
    {
     "name": "stdout",
     "output_type": "stream",
     "text": [
      "\r",
      "Upgrading database; v7 -> v8: 100%|██████████| 1/1 [00:00<00:00, 684.45it/s]"
     ]
    },
    {
     "name": "stdout",
     "output_type": "stream",
     "text": [
      "\n",
      "\r",
      "  0%|          | 0/1 [00:00<?, ?it/s]"
     ]
    },
    {
     "name": "stdout",
     "output_type": "stream",
     "text": [
      "\r",
      "Upgrading database; v8 -> v9:   0%|          | 0/1 [00:00<?, ?it/s]"
     ]
    },
    {
     "name": "stdout",
     "output_type": "stream",
     "text": [
      "\r",
      "Upgrading database; v8 -> v9: 100%|██████████| 1/1 [00:00<00:00, 846.14it/s]"
     ]
    },
    {
     "name": "stdout",
     "output_type": "stream",
     "text": [
      "\n"
     ]
    }
   ],
   "source": [
    "initialise_database()\n",
    "exp = load_or_create_experiment(experiment_name='tutorial_exp', sample_name=\"no sample\")"
   ]
  },
  {
   "cell_type": "markdown",
   "metadata": {},
   "source": [
    "Here, we define a simple function to benchmark the time it takes to insert n points with either numeric or array data type.\n",
    "We will compare both the time used to call ``add_result`` and the time used for the full measurement."
   ]
  },
  {
   "cell_type": "code",
   "execution_count": 4,
   "metadata": {},
   "outputs": [],
   "source": [
    "def insert_data(paramtype, npoints, nreps=1):\n",
    "\n",
    "    meas = Measurement(exp=exp)\n",
    "\n",
    "    x1 = ManualParameter('x1')\n",
    "    x2 = ManualParameter('x2')\n",
    "    x3 = ManualParameter('x3')\n",
    "    y1 = ManualParameter('y1')\n",
    "    y2 = ManualParameter('y2')\n",
    "\n",
    "    meas.register_parameter(x1, paramtype=paramtype)\n",
    "    meas.register_parameter(x2, paramtype=paramtype)\n",
    "    meas.register_parameter(x3, paramtype=paramtype)\n",
    "    meas.register_parameter(y1, setpoints=[x1, x2, x3],\n",
    "                            paramtype=paramtype)\n",
    "    meas.register_parameter(y2, setpoints=[x1, x2, x3],\n",
    "                            paramtype=paramtype)\n",
    "    start = time.perf_counter()\n",
    "    with meas.run() as datasaver:\n",
    "        start_adding = time.perf_counter()\n",
    "        for i in range(nreps):\n",
    "            datasaver.add_result((x1, np.random.rand(npoints)),\n",
    "                                 (x2, np.random.rand(npoints)),\n",
    "                                 (x3, np.random.rand(npoints)),\n",
    "                                 (y1, np.random.rand(npoints)),\n",
    "                                 (y2, np.random.rand(npoints)))\n",
    "        stop_adding = time.perf_counter()\n",
    "        run_id = datasaver.run_id\n",
    "    stop = time.perf_counter()\n",
    "    tot_time = stop - start\n",
    "    add_time = stop_adding - start_adding\n",
    "    return tot_time, add_time, run_id"
   ]
  },
  {
   "cell_type": "markdown",
   "metadata": {},
   "source": [
    "## Comparison between numeric/array data and binary blob"
   ]
  },
  {
   "cell_type": "markdown",
   "metadata": {},
   "source": [
    "### Case1: Short experiment time"
   ]
  },
  {
   "cell_type": "code",
   "execution_count": 5,
   "metadata": {},
   "outputs": [
    {
     "name": "stdout",
     "output_type": "stream",
     "text": [
      "Starting experimental run with id: 1. \n",
      "Starting experimental run with id: 2. \n",
      "Starting experimental run with id: 3. \n",
      "Starting experimental run with id: 4. \n"
     ]
    },
    {
     "name": "stdout",
     "output_type": "stream",
     "text": [
      "Starting experimental run with id: 5. \n"
     ]
    },
    {
     "name": "stdout",
     "output_type": "stream",
     "text": [
      "Starting experimental run with id: 6. \n"
     ]
    },
    {
     "name": "stdout",
     "output_type": "stream",
     "text": [
      "Starting experimental run with id: 7. \n"
     ]
    },
    {
     "name": "stdout",
     "output_type": "stream",
     "text": [
      "Starting experimental run with id: 8. \n",
      "Starting experimental run with id: 9. \n"
     ]
    },
    {
     "name": "stdout",
     "output_type": "stream",
     "text": [
      "Starting experimental run with id: 10. \n",
      "Starting experimental run with id: 11. \n"
     ]
    },
    {
     "name": "stdout",
     "output_type": "stream",
     "text": [
      "Starting experimental run with id: 12. \n"
     ]
    },
    {
     "name": "stdout",
     "output_type": "stream",
     "text": [
      "Starting experimental run with id: 13. \n"
     ]
    },
    {
     "name": "stdout",
     "output_type": "stream",
     "text": [
      "Starting experimental run with id: 14. \n"
     ]
    }
   ],
   "source": [
    "sizes = [1,500,1000,2000,3000,4000,5000]\n",
    "t_numeric = []\n",
    "t_numeric_add = []\n",
    "t_array = []\n",
    "t_array_add = []\n",
    "for size in sizes:\n",
    "    tn, tna, run_id_n =  insert_data('numeric', size)\n",
    "    t_numeric.append(tn)\n",
    "    t_numeric_add.append(tna)\n",
    "\n",
    "    ta, taa, run_id_a =  insert_data('array', size)\n",
    "    t_array.append(ta)\n",
    "    t_array_add.append(taa)"
   ]
  },
  {
   "cell_type": "code",
   "execution_count": 6,
   "metadata": {},
   "outputs": [
    {
     "data": {
      "image/png": "[encoded data removed]",
      "text/plain": [
       "<Figure size 432x288 with 1 Axes>"
      ]
     },
     "metadata": {
      "needs_background": "light"
     },
     "output_type": "display_data"
    }
   ],
   "source": [
    "fig, ax = plt.subplots(1,1)\n",
    "ax.plot(sizes, t_numeric, 'o-', label='Inserting row-by-row')\n",
    "ax.plot(sizes, t_numeric_add, 'o-', label='Inserting row-by-row: add_result only')\n",
    "ax.plot(sizes, t_array, 'd-', label='Inserting as binary blob')\n",
    "ax.plot(sizes, t_array_add, 'd-', label='Inserting as binary blob: add_result only')\n",
    "ax.legend()\n",
    "ax.set_xlabel('Array length')\n",
    "ax.set_ylabel('Time (s)')\n",
    "fig.tight_layout()"
   ]
  },
  {
   "cell_type": "markdown",
   "metadata": {},
   "source": [
    "As shown in the latter figure, the time to setup and and close the experiment is approximately 0.4 sec. In case of small array sizes, the difference between inserting values of data as arrays and inserting them row-by-row is relatively unimportant. At larger array sizes, i.e. above 10000 points, the cost of writing data as individual datapoints starts to become important.\n"
   ]
  },
  {
   "cell_type": "markdown",
   "metadata": {},
   "source": [
    "### Case2: Long experiment time "
   ]
  },
  {
   "cell_type": "code",
   "execution_count": 7,
   "metadata": {},
   "outputs": [
    {
     "name": "stdout",
     "output_type": "stream",
     "text": [
      "Starting experimental run with id: 15. \n",
      "Starting experimental run with id: 16. \n",
      "Starting experimental run with id: 17. \n"
     ]
    },
    {
     "name": "stdout",
     "output_type": "stream",
     "text": [
      "Starting experimental run with id: 18. \n",
      "Starting experimental run with id: 19. \n"
     ]
    },
    {
     "name": "stdout",
     "output_type": "stream",
     "text": [
      "Starting experimental run with id: 20. \n"
     ]
    },
    {
     "name": "stdout",
     "output_type": "stream",
     "text": [
      "Starting experimental run with id: 21. \n"
     ]
    },
    {
     "name": "stdout",
     "output_type": "stream",
     "text": [
      "Starting experimental run with id: 22. \n"
     ]
    },
    {
     "name": "stdout",
     "output_type": "stream",
     "text": [
      "Starting experimental run with id: 23. \n"
     ]
    },
    {
     "name": "stdout",
     "output_type": "stream",
     "text": [
      "Starting experimental run with id: 24. \n"
     ]
    },
    {
     "name": "stdout",
     "output_type": "stream",
     "text": [
      "Starting experimental run with id: 25. \n"
     ]
    },
    {
     "name": "stdout",
     "output_type": "stream",
     "text": [
      "Starting experimental run with id: 26. \n"
     ]
    },
    {
     "name": "stdout",
     "output_type": "stream",
     "text": [
      "Starting experimental run with id: 27. \n"
     ]
    },
    {
     "name": "stdout",
     "output_type": "stream",
     "text": [
      "Starting experimental run with id: 28. \n"
     ]
    }
   ],
   "source": [
    "sizes = [1,500,1000,2000,3000,4000,5000]\n",
    "nreps = 100\n",
    "t_numeric = []\n",
    "t_numeric_add = []\n",
    "t_numeric_run_ids = []\n",
    "t_array = []\n",
    "t_array_add = []\n",
    "t_array_run_ids = []\n",
    "for size in sizes:\n",
    "    tn, tna, run_id_n =  insert_data('numeric', size, nreps=nreps)\n",
    "    t_numeric.append(tn)\n",
    "    t_numeric_add.append(tna)\n",
    "    t_numeric_run_ids.append(run_id_n)\n",
    "\n",
    "    ta, taa, run_id_a =  insert_data('array', size, nreps=nreps)\n",
    "    t_array.append(ta)\n",
    "    t_array_add.append(taa)\n",
    "    t_array_run_ids.append(run_id_a)"
   ]
  },
  {
   "cell_type": "code",
   "execution_count": 8,
   "metadata": {
    "scrolled": true
   },
   "outputs": [
    {
     "data": {
      "image/png": "[encoded data removed]",
      "text/plain": [
       "<Figure size 432x288 with 1 Axes>"
      ]
     },
     "metadata": {
      "needs_background": "light"
     },
     "output_type": "display_data"
    }
   ],
   "source": [
    "fig, ax = plt.subplots(1,1)\n",
    "ax.plot(sizes, t_numeric, 'o-', label='Inserting row-by-row')\n",
    "ax.plot(sizes, t_numeric_add, 'o-', label='Inserting row-by-row: add_result only')\n",
    "ax.plot(sizes, t_array, 'd-', label='Inserting as binary blob')\n",
    "ax.plot(sizes, t_array_add, 'd-', label='Inserting as binary blob: add_result only')\n",
    "ax.legend()\n",
    "ax.set_xlabel('Array length')\n",
    "ax.set_ylabel('Time (s)')\n",
    "fig.tight_layout()"
   ]
  },
  {
   "cell_type": "markdown",
   "metadata": {},
   "source": [
    "However, as we increase the length of the experiment, as seen here by repeating the insertion 100 times, we see a big difference between inserting values of the data row-by-row and inserting it as a binary blob."
   ]
  },
  {
   "cell_type": "markdown",
   "metadata": {},
   "source": [
    "## Loading the data "
   ]
  },
  {
   "cell_type": "code",
   "execution_count": 9,
   "metadata": {},
   "outputs": [],
   "source": [
    "from qcodes.dataset.data_set import load_by_id\n",
    "from qcodes.dataset.data_export import get_data_by_id"
   ]
  },
  {
   "cell_type": "markdown",
   "metadata": {},
   "source": [
    "As usual you can load the data by using the ``load_by_id`` function but you will notice that the different storage methods\n",
    "are reflected in shape of the data as it is retrieved. "
   ]
  },
  {
   "cell_type": "code",
   "execution_count": 10,
   "metadata": {},
   "outputs": [],
   "source": [
    "run_id_n = t_numeric_run_ids[0]\n",
    "run_id_a = t_array_run_ids[0]"
   ]
  },
  {
   "cell_type": "code",
   "execution_count": 11,
   "metadata": {
    "scrolled": true
   },
   "outputs": [
    {
     "data": {
      "text/plain": [
       "{'x1': {'x1': array([0.593735  , 0.593735  , 0.18197832, 0.18197832, 0.12527974,\n",
       "         0.12527974, 0.16045975, 0.16045975, 0.31239884, 0.31239884,\n",
       "         0.06468027, 0.06468027, 0.69634781, 0.69634781, 0.44502644,\n",
       "         0.44502644, 0.64780638, 0.64780638, 0.51495471, 0.51495471,\n",
       "         0.87817209, 0.87817209, 0.62155405, 0.62155405, 0.37975489,\n",
       "         0.37975489, 0.98688394, 0.98688394, 0.3456805 , 0.3456805 ,\n",
       "         0.61540227, 0.61540227, 0.75180836, 0.75180836, 0.55181834,\n",
       "         0.55181834, 0.02114867, 0.02114867, 0.9080231 , 0.9080231 ,\n",
       "         0.53074073, 0.53074073, 0.28635993, 0.28635993, 0.14867977,\n",
       "         0.14867977, 0.61530232, 0.61530232, 0.62858695, 0.62858695,\n",
       "         0.83573095, 0.83573095, 0.37469781, 0.37469781, 0.12979699,\n",
       "         0.12979699, 0.08816128, 0.08816128, 0.18223816, 0.18223816,\n",
       "         0.44310241, 0.44310241, 0.6740054 , 0.6740054 , 0.81037863,\n",
       "         0.81037863, 0.49282802, 0.49282802, 0.35200784, 0.35200784,\n",
       "         0.62954234, 0.62954234, 0.01905034, 0.01905034, 0.50464593,\n",
       "         0.50464593, 0.86371126, 0.86371126, 0.55879431, 0.55879431,\n",
       "         0.18519509, 0.18519509, 0.69888051, 0.69888051, 0.07946006,\n",
       "         0.07946006, 0.74742646, 0.74742646, 0.51192805, 0.51192805,\n",
       "         0.71853587, 0.71853587, 0.05634083, 0.05634083, 0.02300149,\n",
       "         0.02300149, 0.97213235, 0.97213235, 0.17116534, 0.17116534,\n",
       "         0.82877903, 0.82877903, 0.90414178, 0.90414178, 0.85447516,\n",
       "         0.85447516, 0.04936195, 0.04936195, 0.04422916, 0.04422916,\n",
       "         0.89724419, 0.89724419, 0.09075041, 0.09075041, 0.61619714,\n",
       "         0.61619714, 0.45239893, 0.45239893, 0.63356357, 0.63356357,\n",
       "         0.58215614, 0.58215614, 0.28224167, 0.28224167, 0.02465494,\n",
       "         0.02465494, 0.8139981 , 0.8139981 , 0.1337978 , 0.1337978 ,\n",
       "         0.07854254, 0.07854254, 0.34117214, 0.34117214, 0.8923925 ,\n",
       "         0.8923925 , 0.73346892, 0.73346892, 0.75857753, 0.75857753,\n",
       "         0.22089075, 0.22089075, 0.21787805, 0.21787805, 0.47147034,\n",
       "         0.47147034, 0.46559608, 0.46559608, 0.8765169 , 0.8765169 ,\n",
       "         0.20518768, 0.20518768, 0.34324318, 0.34324318, 0.19707761,\n",
       "         0.19707761, 0.9349064 , 0.9349064 , 0.67139184, 0.67139184,\n",
       "         0.94025323, 0.94025323, 0.18169325, 0.18169325, 0.68760624,\n",
       "         0.68760624, 0.99817746, 0.99817746, 0.27706539, 0.27706539,\n",
       "         0.66167134, 0.66167134, 0.39569213, 0.39569213, 0.07925675,\n",
       "         0.07925675, 0.30293605, 0.30293605, 0.13184205, 0.13184205,\n",
       "         0.67512768, 0.67512768, 0.27718791, 0.27718791, 0.27259634,\n",
       "         0.27259634, 0.27190093, 0.27190093, 0.93215713, 0.93215713,\n",
       "         0.83048599, 0.83048599, 0.14660459, 0.14660459, 0.94119569,\n",
       "         0.94119569, 0.88141923, 0.88141923, 0.21372221, 0.21372221])}}"
      ]
     },
     "execution_count": 11,
     "metadata": {},
     "output_type": "execute_result"
    }
   ],
   "source": [
    "ds = load_by_id(run_id_n)\n",
    "ds.get_parameter_data('x1')"
   ]
  },
  {
   "cell_type": "markdown",
   "metadata": {},
   "source": [
    "And a dataset stored as binary arrays"
   ]
  },
  {
   "cell_type": "code",
   "execution_count": 12,
   "metadata": {
    "scrolled": true
   },
   "outputs": [
    {
     "data": {
      "text/plain": [
       "{'x1': {'x1': array([[0.27952241],\n",
       "         [0.27952241],\n",
       "         [0.78091953],\n",
       "         [0.78091953],\n",
       "         [0.87105159],\n",
       "         [0.87105159],\n",
       "         [0.51199897],\n",
       "         [0.51199897],\n",
       "         [0.53657433],\n",
       "         [0.53657433],\n",
       "         [0.82415362],\n",
       "         [0.82415362],\n",
       "         [0.15913921],\n",
       "         [0.15913921],\n",
       "         [0.90442882],\n",
       "         [0.90442882],\n",
       "         [0.35977691],\n",
       "         [0.35977691],\n",
       "         [0.54644376],\n",
       "         [0.54644376],\n",
       "         [0.49524527],\n",
       "         [0.49524527],\n",
       "         [0.97237405],\n",
       "         [0.97237405],\n",
       "         [0.23653488],\n",
       "         [0.23653488],\n",
       "         [0.33718785],\n",
       "         [0.33718785],\n",
       "         [0.20524765],\n",
       "         [0.20524765],\n",
       "         [0.91123714],\n",
       "         [0.91123714],\n",
       "         [0.52956731],\n",
       "         [0.52956731],\n",
       "         [0.5252983 ],\n",
       "         [0.5252983 ],\n",
       "         [0.37847302],\n",
       "         [0.37847302],\n",
       "         [0.81659876],\n",
       "         [0.81659876],\n",
       "         [0.73314366],\n",
       "         [0.73314366],\n",
       "         [0.55410653],\n",
       "         [0.55410653],\n",
       "         [0.26375173],\n",
       "         [0.26375173],\n",
       "         [0.16863158],\n",
       "         [0.16863158],\n",
       "         [0.23672589],\n",
       "         [0.23672589],\n",
       "         [0.52403386],\n",
       "         [0.52403386],\n",
       "         [0.40037676],\n",
       "         [0.40037676],\n",
       "         [0.36475669],\n",
       "         [0.36475669],\n",
       "         [0.00138007],\n",
       "         [0.00138007],\n",
       "         [0.57945349],\n",
       "         [0.57945349],\n",
       "         [0.18677138],\n",
       "         [0.18677138],\n",
       "         [0.15695196],\n",
       "         [0.15695196],\n",
       "         [0.34247191],\n",
       "         [0.34247191],\n",
       "         [0.05222426],\n",
       "         [0.05222426],\n",
       "         [0.58056489],\n",
       "         [0.58056489],\n",
       "         [0.30107523],\n",
       "         [0.30107523],\n",
       "         [0.77660634],\n",
       "         [0.77660634],\n",
       "         [0.10463873],\n",
       "         [0.10463873],\n",
       "         [0.9139453 ],\n",
       "         [0.9139453 ],\n",
       "         [0.83909043],\n",
       "         [0.83909043],\n",
       "         [0.84182416],\n",
       "         [0.84182416],\n",
       "         [0.2447642 ],\n",
       "         [0.2447642 ],\n",
       "         [0.5573052 ],\n",
       "         [0.5573052 ],\n",
       "         [0.82307367],\n",
       "         [0.82307367],\n",
       "         [0.82454486],\n",
       "         [0.82454486],\n",
       "         [0.993837  ],\n",
       "         [0.993837  ],\n",
       "         [0.02396961],\n",
       "         [0.02396961],\n",
       "         [0.69505557],\n",
       "         [0.69505557],\n",
       "         [0.27169119],\n",
       "         [0.27169119],\n",
       "         [0.95033349],\n",
       "         [0.95033349],\n",
       "         [0.95934595],\n",
       "         [0.95934595],\n",
       "         [0.62859322],\n",
       "         [0.62859322],\n",
       "         [0.37973941],\n",
       "         [0.37973941],\n",
       "         [0.63716908],\n",
       "         [0.63716908],\n",
       "         [0.70977179],\n",
       "         [0.70977179],\n",
       "         [0.98169119],\n",
       "         [0.98169119],\n",
       "         [0.7016589 ],\n",
       "         [0.7016589 ],\n",
       "         [0.10064509],\n",
       "         [0.10064509],\n",
       "         [0.20129401],\n",
       "         [0.20129401],\n",
       "         [0.65485884],\n",
       "         [0.65485884],\n",
       "         [0.61347228],\n",
       "         [0.61347228],\n",
       "         [0.51345559],\n",
       "         [0.51345559],\n",
       "         [0.87178954],\n",
       "         [0.87178954],\n",
       "         [0.91703672],\n",
       "         [0.91703672],\n",
       "         [0.81921376],\n",
       "         [0.81921376],\n",
       "         [0.01737344],\n",
       "         [0.01737344],\n",
       "         [0.18128544],\n",
       "         [0.18128544],\n",
       "         [0.55456889],\n",
       "         [0.55456889],\n",
       "         [0.88565062],\n",
       "         [0.88565062],\n",
       "         [0.19557714],\n",
       "         [0.19557714],\n",
       "         [0.62542939],\n",
       "         [0.62542939],\n",
       "         [0.89476096],\n",
       "         [0.89476096],\n",
       "         [0.77371331],\n",
       "         [0.77371331],\n",
       "         [0.34324892],\n",
       "         [0.34324892],\n",
       "         [0.64486551],\n",
       "         [0.64486551],\n",
       "         [0.82209441],\n",
       "         [0.82209441],\n",
       "         [0.23454328],\n",
       "         [0.23454328],\n",
       "         [0.56409039],\n",
       "         [0.56409039],\n",
       "         [0.73005588],\n",
       "         [0.73005588],\n",
       "         [0.18411092],\n",
       "         [0.18411092],\n",
       "         [0.07610101],\n",
       "         [0.07610101],\n",
       "         [0.46298321],\n",
       "         [0.46298321],\n",
       "         [0.54620616],\n",
       "         [0.54620616],\n",
       "         [0.91160419],\n",
       "         [0.91160419],\n",
       "         [0.38463711],\n",
       "         [0.38463711],\n",
       "         [0.42131716],\n",
       "         [0.42131716],\n",
       "         [0.16512976],\n",
       "         [0.16512976],\n",
       "         [0.56347255],\n",
       "         [0.56347255],\n",
       "         [0.3108418 ],\n",
       "         [0.3108418 ],\n",
       "         [0.39360314],\n",
       "         [0.39360314],\n",
       "         [0.14219343],\n",
       "         [0.14219343],\n",
       "         [0.56768174],\n",
       "         [0.56768174],\n",
       "         [0.83330141],\n",
       "         [0.83330141],\n",
       "         [0.01396644],\n",
       "         [0.01396644],\n",
       "         [0.60406135],\n",
       "         [0.60406135],\n",
       "         [0.72667934],\n",
       "         [0.72667934],\n",
       "         [0.84170861],\n",
       "         [0.84170861],\n",
       "         [0.16051183],\n",
       "         [0.16051183],\n",
       "         [0.8729287 ],\n",
       "         [0.8729287 ],\n",
       "         [0.89533603],\n",
       "         [0.89533603]])}}"
      ]
     },
     "execution_count": 12,
     "metadata": {},
     "output_type": "execute_result"
    }
   ],
   "source": [
    "ds = load_by_id(run_id_a)\n",
    "ds.get_parameter_data('x1')"
   ]
  },
  {
   "cell_type": "code",
   "execution_count": null,
   "metadata": {},
   "outputs": [],
   "source": []
  }
 ],
 "metadata": {
  "kernelspec": {
   "display_name": "Python 3",
   "language": "python",
   "name": "python3"
  },
  "language_info": {
   "codemirror_mode": {
    "name": "ipython",
    "version": 3
   },
   "file_extension": ".py",
   "mimetype": "text/x-python",
   "name": "python",
   "nbconvert_exporter": "python",
   "pygments_lexer": "ipython3",
   "version": "3.7.5"
  },
  "nbsphinx": {
   "timeout": 600
  },
  "toc": {
   "base_numbering": 1,
   "nav_menu": {},
   "number_sections": true,
   "sideBar": true,
   "skip_h1_title": false,
   "title_cell": "Table of Contents",
   "title_sidebar": "Contents",
   "toc_cell": false,
   "toc_position": {},
   "toc_section_display": true,
   "toc_window_display": false
  },
  "varInspector": {
   "cols": {
    "lenName": 16,
    "lenType": 16,
    "lenVar": 40
   },
   "kernels_config": {
    "python": {
     "delete_cmd_postfix": "",
     "delete_cmd_prefix": "del ",
     "library": "var_list.py",
     "varRefreshCmd": "print(var_dic_list())"
    },
    "r": {
     "delete_cmd_postfix": ") ",
     "delete_cmd_prefix": "rm(",
     "library": "var_list.r",
     "varRefreshCmd": "cat(var_dic_list()) "
    }
   },
   "types_to_exclude": [
    "module",
    "function",
    "builtin_function_or_method",
    "instance",
    "_Feature"
   ],
   "window_display": false
  }
 },
 "nbformat": 4,
 "nbformat_minor": 2
}
